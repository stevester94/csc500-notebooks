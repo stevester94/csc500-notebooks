{
 "cells": [
  {
   "cell_type": "markdown",
   "id": "9fea5f46",
   "metadata": {
    "papermill": {
     "duration": 0.014857,
     "end_time": "2022-03-22T15:56:02.816761",
     "exception": false,
     "start_time": "2022-03-22T15:56:02.801904",
     "status": "completed"
    },
    "tags": []
   },
   "source": [
    "# PTN Template\n",
    "This notebook serves as a template for single dataset PTN experiments  \n",
    "It can be run on its own by setting STANDALONE to True (do a find for \"STANDALONE\" to see where)  \n",
    "But it is intended to be executed as part of a *papermill.py script. See any of the   \n",
    "experimentes with a papermill script to get started with that workflow.  "
   ]
  },
  {
   "cell_type": "code",
   "execution_count": 1,
   "id": "0902182a",
   "metadata": {
    "execution": {
     "iopub.execute_input": "2022-03-22T15:56:02.848055Z",
     "iopub.status.busy": "2022-03-22T15:56:02.847771Z",
     "iopub.status.idle": "2022-03-22T15:56:03.797333Z",
     "shell.execute_reply": "2022-03-22T15:56:03.797032Z"
    },
    "papermill": {
     "duration": 0.970981,
     "end_time": "2022-03-22T15:56:03.797404",
     "exception": false,
     "start_time": "2022-03-22T15:56:02.826423",
     "status": "completed"
    },
    "tags": []
   },
   "outputs": [],
   "source": [
    "%load_ext autoreload\n",
    "%autoreload 2\n",
    "%matplotlib inline\n",
    "\n",
    "    \n",
    "import os, json, sys, time, random\n",
    "import numpy as np\n",
    "import torch\n",
    "from torch.optim import Adam\n",
    "from  easydict import EasyDict\n",
    "import matplotlib.pyplot as plt\n",
    "\n",
    "from steves_models.steves_ptn import Steves_Prototypical_Network\n",
    "\n",
    "from steves_utils.lazy_iterable_wrapper import Lazy_Iterable_Wrapper\n",
    "from steves_utils.iterable_aggregator import Iterable_Aggregator\n",
    "from steves_utils.ptn_train_eval_test_jig import  PTN_Train_Eval_Test_Jig\n",
    "from steves_utils.torch_sequential_builder import build_sequential\n",
    "from steves_utils.torch_utils import get_dataset_metrics, ptn_confusion_by_domain_over_dataloader\n",
    "from steves_utils.utils_v2 import (per_domain_accuracy_from_confusion, get_datasets_base_path)\n",
    "from steves_utils.PTN.utils import independent_accuracy_assesment\n",
    "\n",
    "from steves_utils.stratified_dataset.episodic_accessor import Episodic_Accessor_Factory\n",
    "\n",
    "from steves_utils.ptn_do_report import (\n",
    "    get_loss_curve,\n",
    "    get_results_table,\n",
    "    get_parameters_table,\n",
    "    get_domain_accuracies,\n",
    ")\n",
    "\n",
    "from steves_utils.transforms import get_chained_transform"
   ]
  },
  {
   "cell_type": "markdown",
   "id": "41c840b4",
   "metadata": {
    "papermill": {
     "duration": 0.009663,
     "end_time": "2022-03-22T15:56:03.821123",
     "exception": false,
     "start_time": "2022-03-22T15:56:03.811460",
     "status": "completed"
    },
    "tags": []
   },
   "source": [
    "# Required Parameters\n",
    "These are allowed parameters, not defaults\n",
    "Each of these values need to be present in the injected parameters (the notebook will raise an exception if they are not present)\n",
    "\n",
    "Papermill uses the cell tag \"parameters\" to inject the real parameters below this cell.\n",
    "Enable tags to see what I mean"
   ]
  },
  {
   "cell_type": "code",
   "execution_count": 2,
   "id": "fd44eb83",
   "metadata": {
    "execution": {
     "iopub.execute_input": "2022-03-22T15:56:03.843377Z",
     "iopub.status.busy": "2022-03-22T15:56:03.843098Z",
     "iopub.status.idle": "2022-03-22T15:56:03.856262Z",
     "shell.execute_reply": "2022-03-22T15:56:03.856646Z"
    },
    "papermill": {
     "duration": 0.025939,
     "end_time": "2022-03-22T15:56:03.856751",
     "exception": false,
     "start_time": "2022-03-22T15:56:03.830812",
     "status": "completed"
    },
    "tags": []
   },
   "outputs": [],
   "source": [
    "required_parameters = {\n",
    "    \"experiment_name\",\n",
    "    \"lr\",\n",
    "    \"device\",\n",
    "    \"seed\",\n",
    "    \"dataset_seed\",\n",
    "    \"labels_source\",\n",
    "    \"labels_target\",\n",
    "    \"domains_source\",\n",
    "    \"domains_target\",\n",
    "    \"num_examples_per_domain_per_label_source\",\n",
    "    \"num_examples_per_domain_per_label_target\",\n",
    "    \"n_shot\",\n",
    "    \"n_way\",\n",
    "    \"n_query\",\n",
    "    \"train_k_factor\",\n",
    "    \"val_k_factor\",\n",
    "    \"test_k_factor\",\n",
    "    \"n_epoch\",\n",
    "    \"patience\",\n",
    "    \"criteria_for_best\",\n",
    "    \"x_transforms_source\",\n",
    "    \"x_transforms_target\",\n",
    "    \"episode_transforms_source\",\n",
    "    \"episode_transforms_target\",\n",
    "    \"pickle_name\",\n",
    "    \"x_net\",\n",
    "    \"NUM_LOGS_PER_EPOCH\",\n",
    "    \"BEST_MODEL_PATH\",\n",
    "    \"torch_default_dtype\"\n",
    "}"
   ]
  },
  {
   "cell_type": "code",
   "execution_count": 3,
   "id": "fa3f0049",
   "metadata": {
    "execution": {
     "iopub.execute_input": "2022-03-22T15:56:03.890449Z",
     "iopub.status.busy": "2022-03-22T15:56:03.886864Z",
     "iopub.status.idle": "2022-03-22T15:56:03.902491Z",
     "shell.execute_reply": "2022-03-22T15:56:03.902848Z"
    },
    "papermill": {
     "duration": 0.032299,
     "end_time": "2022-03-22T15:56:03.902955",
     "exception": false,
     "start_time": "2022-03-22T15:56:03.870656",
     "status": "completed"
    },
    "tags": [
     "parameters"
    ]
   },
   "outputs": [],
   "source": [
    "\n",
    "\n",
    "standalone_parameters = {}\n",
    "standalone_parameters[\"experiment_name\"] = \"STANDALONE PTN\"\n",
    "standalone_parameters[\"lr\"] = 0.0001\n",
    "standalone_parameters[\"device\"] = \"cuda\"\n",
    "\n",
    "standalone_parameters[\"seed\"] = 1337\n",
    "standalone_parameters[\"dataset_seed\"] = 1337\n",
    "\n",
    "\n",
    "standalone_parameters[\"num_examples_per_domain_per_label_source\"]=100\n",
    "standalone_parameters[\"num_examples_per_domain_per_label_target\"]=100\n",
    "\n",
    "standalone_parameters[\"n_shot\"] = 3\n",
    "standalone_parameters[\"n_query\"]  = 2\n",
    "standalone_parameters[\"train_k_factor\"] = 1\n",
    "standalone_parameters[\"val_k_factor\"] = 2\n",
    "standalone_parameters[\"test_k_factor\"] = 2\n",
    "\n",
    "\n",
    "standalone_parameters[\"n_epoch\"] = 100\n",
    "\n",
    "standalone_parameters[\"patience\"] = 10\n",
    "standalone_parameters[\"criteria_for_best\"] = \"target_accuracy\"\n",
    "\n",
    "standalone_parameters[\"x_transforms_source\"] = [\"unit_power\"]\n",
    "standalone_parameters[\"x_transforms_target\"] = [\"unit_power\"]\n",
    "standalone_parameters[\"episode_transforms_source\"] = []\n",
    "standalone_parameters[\"episode_transforms_target\"] = []\n",
    "\n",
    "standalone_parameters[\"torch_default_dtype\"] = \"torch.float32\" \n",
    "\n",
    "\n",
    "\n",
    "standalone_parameters[\"x_net\"] =     [\n",
    "    {\"class\": \"nnReshape\", \"kargs\": {\"shape\":[-1, 1, 2, 256]}},\n",
    "    {\"class\": \"Conv2d\", \"kargs\": { \"in_channels\":1, \"out_channels\":256, \"kernel_size\":(1,7), \"bias\":False, \"padding\":(0,3), },},\n",
    "    {\"class\": \"ReLU\", \"kargs\": {\"inplace\": True}},\n",
    "    {\"class\": \"BatchNorm2d\", \"kargs\": {\"num_features\":256}},\n",
    "\n",
    "    {\"class\": \"Conv2d\", \"kargs\": { \"in_channels\":256, \"out_channels\":80, \"kernel_size\":(2,7), \"bias\":True, \"padding\":(0,3), },},\n",
    "    {\"class\": \"ReLU\", \"kargs\": {\"inplace\": True}},\n",
    "    {\"class\": \"BatchNorm2d\", \"kargs\": {\"num_features\":80}},\n",
    "    {\"class\": \"Flatten\", \"kargs\": {}},\n",
    "\n",
    "    {\"class\": \"Linear\", \"kargs\": {\"in_features\": 80*256, \"out_features\": 256}}, # 80 units per IQ pair\n",
    "    {\"class\": \"ReLU\", \"kargs\": {\"inplace\": True}},\n",
    "    {\"class\": \"BatchNorm1d\", \"kargs\": {\"num_features\":256}},\n",
    "\n",
    "    {\"class\": \"Linear\", \"kargs\": {\"in_features\": 256, \"out_features\": 256}},\n",
    "]\n",
    "\n",
    "# Parameters relevant to results\n",
    "# These parameters will basically never need to change\n",
    "standalone_parameters[\"NUM_LOGS_PER_EPOCH\"] = 10\n",
    "standalone_parameters[\"BEST_MODEL_PATH\"] = \"./best_model.pth\"\n",
    "\n",
    "# uncomment for CORES dataset\n",
    "from steves_utils.CORES.utils import (\n",
    "    ALL_NODES,\n",
    "    ALL_NODES_MINIMUM_1000_EXAMPLES,\n",
    "    ALL_DAYS\n",
    ")\n",
    "\n",
    "\n",
    "standalone_parameters[\"labels_source\"] = ALL_NODES\n",
    "standalone_parameters[\"labels_target\"] = ALL_NODES\n",
    "\n",
    "standalone_parameters[\"domains_source\"] = [1]\n",
    "standalone_parameters[\"domains_target\"] = [2,3,4,5]\n",
    "\n",
    "standalone_parameters[\"pickle_name\"] = \"cores.stratified_ds.2022A.pkl\"\n",
    "\n",
    "\n",
    "# Uncomment these for ORACLE dataset\n",
    "# from steves_utils.ORACLE.utils_v2 import (\n",
    "#     ALL_DISTANCES_FEET,\n",
    "#     ALL_RUNS,\n",
    "#     ALL_SERIAL_NUMBERS,\n",
    "# )\n",
    "# standalone_parameters[\"labels_source\"] = ALL_SERIAL_NUMBERS\n",
    "# standalone_parameters[\"labels_target\"] = ALL_SERIAL_NUMBERS\n",
    "# standalone_parameters[\"domains_source\"] = [8,20, 38,50]\n",
    "# standalone_parameters[\"domains_target\"] = [14, 26, 32, 44, 56]\n",
    "# standalone_parameters[\"pickle_name\"] = \"oracle.frame_indexed.stratified_ds.2022A.pkl\"\n",
    "# standalone_parameters[\"num_examples_per_domain_per_label_source\"]=1000\n",
    "# standalone_parameters[\"num_examples_per_domain_per_label_target\"]=1000\n",
    "\n",
    "# Uncomment these for Metahan dataset\n",
    "# standalone_parameters[\"labels_source\"] = list(range(19))\n",
    "# standalone_parameters[\"labels_target\"] = list(range(19))\n",
    "# standalone_parameters[\"domains_source\"] = [0]\n",
    "# standalone_parameters[\"domains_target\"] = [1]\n",
    "# standalone_parameters[\"pickle_name\"] = \"metehan.stratified_ds.2022A.pkl\"\n",
    "# standalone_parameters[\"n_way\"]  = len(standalone_parameters[\"labels_source\"])\n",
    "# standalone_parameters[\"num_examples_per_domain_per_label_source\"]=200\n",
    "# standalone_parameters[\"num_examples_per_domain_per_label_target\"]=100\n",
    "\n",
    "\n",
    "standalone_parameters[\"n_way\"]  = len(standalone_parameters[\"labels_source\"])"
   ]
  },
  {
   "cell_type": "code",
   "execution_count": 4,
   "id": "a8f47089",
   "metadata": {
    "execution": {
     "iopub.execute_input": "2022-03-22T15:56:03.936778Z",
     "iopub.status.busy": "2022-03-22T15:56:03.927438Z",
     "iopub.status.idle": "2022-03-22T15:56:03.948645Z",
     "shell.execute_reply": "2022-03-22T15:56:03.948249Z"
    },
    "papermill": {
     "duration": 0.0322,
     "end_time": "2022-03-22T15:56:03.948733",
     "exception": false,
     "start_time": "2022-03-22T15:56:03.916533",
     "status": "completed"
    },
    "tags": [
     "injected-parameters"
    ]
   },
   "outputs": [],
   "source": [
    "# Parameters\n",
    "parameters = {\n",
    "    \"experiment_name\": \"tuned_1v2:cores\",\n",
    "    \"device\": \"cuda\",\n",
    "    \"lr\": 0.0001,\n",
    "    \"labels_source\": [\n",
    "        \"1-10.\",\n",
    "        \"1-11.\",\n",
    "        \"1-15.\",\n",
    "        \"1-16.\",\n",
    "        \"1-17.\",\n",
    "        \"1-18.\",\n",
    "        \"1-19.\",\n",
    "        \"10-4.\",\n",
    "        \"10-7.\",\n",
    "        \"11-1.\",\n",
    "        \"11-14.\",\n",
    "        \"11-17.\",\n",
    "        \"11-20.\",\n",
    "        \"11-7.\",\n",
    "        \"13-20.\",\n",
    "        \"13-8.\",\n",
    "        \"14-10.\",\n",
    "        \"14-11.\",\n",
    "        \"14-14.\",\n",
    "        \"14-7.\",\n",
    "        \"15-1.\",\n",
    "        \"15-20.\",\n",
    "        \"16-1.\",\n",
    "        \"16-16.\",\n",
    "        \"17-10.\",\n",
    "        \"17-11.\",\n",
    "        \"17-2.\",\n",
    "        \"19-1.\",\n",
    "        \"19-16.\",\n",
    "        \"19-19.\",\n",
    "        \"19-20.\",\n",
    "        \"19-3.\",\n",
    "        \"2-10.\",\n",
    "        \"2-11.\",\n",
    "        \"2-17.\",\n",
    "        \"2-18.\",\n",
    "        \"2-20.\",\n",
    "        \"2-3.\",\n",
    "        \"2-4.\",\n",
    "        \"2-5.\",\n",
    "        \"2-6.\",\n",
    "        \"2-7.\",\n",
    "        \"2-8.\",\n",
    "        \"3-13.\",\n",
    "        \"3-18.\",\n",
    "        \"3-3.\",\n",
    "        \"4-1.\",\n",
    "        \"4-10.\",\n",
    "        \"4-11.\",\n",
    "        \"4-19.\",\n",
    "        \"5-5.\",\n",
    "        \"6-15.\",\n",
    "        \"7-10.\",\n",
    "        \"7-14.\",\n",
    "        \"8-18.\",\n",
    "        \"8-20.\",\n",
    "        \"8-3.\",\n",
    "        \"8-8.\",\n",
    "    ],\n",
    "    \"labels_target\": [\n",
    "        \"1-10.\",\n",
    "        \"1-11.\",\n",
    "        \"1-15.\",\n",
    "        \"1-16.\",\n",
    "        \"1-17.\",\n",
    "        \"1-18.\",\n",
    "        \"1-19.\",\n",
    "        \"10-4.\",\n",
    "        \"10-7.\",\n",
    "        \"11-1.\",\n",
    "        \"11-14.\",\n",
    "        \"11-17.\",\n",
    "        \"11-20.\",\n",
    "        \"11-7.\",\n",
    "        \"13-20.\",\n",
    "        \"13-8.\",\n",
    "        \"14-10.\",\n",
    "        \"14-11.\",\n",
    "        \"14-14.\",\n",
    "        \"14-7.\",\n",
    "        \"15-1.\",\n",
    "        \"15-20.\",\n",
    "        \"16-1.\",\n",
    "        \"16-16.\",\n",
    "        \"17-10.\",\n",
    "        \"17-11.\",\n",
    "        \"17-2.\",\n",
    "        \"19-1.\",\n",
    "        \"19-16.\",\n",
    "        \"19-19.\",\n",
    "        \"19-20.\",\n",
    "        \"19-3.\",\n",
    "        \"2-10.\",\n",
    "        \"2-11.\",\n",
    "        \"2-17.\",\n",
    "        \"2-18.\",\n",
    "        \"2-20.\",\n",
    "        \"2-3.\",\n",
    "        \"2-4.\",\n",
    "        \"2-5.\",\n",
    "        \"2-6.\",\n",
    "        \"2-7.\",\n",
    "        \"2-8.\",\n",
    "        \"3-13.\",\n",
    "        \"3-18.\",\n",
    "        \"3-3.\",\n",
    "        \"4-1.\",\n",
    "        \"4-10.\",\n",
    "        \"4-11.\",\n",
    "        \"4-19.\",\n",
    "        \"5-5.\",\n",
    "        \"6-15.\",\n",
    "        \"7-10.\",\n",
    "        \"7-14.\",\n",
    "        \"8-18.\",\n",
    "        \"8-20.\",\n",
    "        \"8-3.\",\n",
    "        \"8-8.\",\n",
    "    ],\n",
    "    \"episode_transforms_source\": [],\n",
    "    \"episode_transforms_target\": [],\n",
    "    \"domains_source\": [1, 5],\n",
    "    \"domains_target\": [2, 3, 4],\n",
    "    \"num_examples_per_domain_per_label_source\": -1,\n",
    "    \"num_examples_per_domain_per_label_target\": -1,\n",
    "    \"n_shot\": 3,\n",
    "    \"n_way\": 58,\n",
    "    \"n_query\": 2,\n",
    "    \"train_k_factor\": 3,\n",
    "    \"val_k_factor\": 2,\n",
    "    \"test_k_factor\": 2,\n",
    "    \"torch_default_dtype\": \"torch.float32\",\n",
    "    \"n_epoch\": 50,\n",
    "    \"patience\": 3,\n",
    "    \"criteria_for_best\": \"target_accuracy\",\n",
    "    \"x_net\": [\n",
    "        {\"class\": \"nnReshape\", \"kargs\": {\"shape\": [-1, 1, 2, 256]}},\n",
    "        {\n",
    "            \"class\": \"Conv2d\",\n",
    "            \"kargs\": {\n",
    "                \"in_channels\": 1,\n",
    "                \"out_channels\": 256,\n",
    "                \"kernel_size\": [1, 7],\n",
    "                \"bias\": False,\n",
    "                \"padding\": [0, 3],\n",
    "            },\n",
    "        },\n",
    "        {\"class\": \"ReLU\", \"kargs\": {\"inplace\": True}},\n",
    "        {\"class\": \"BatchNorm2d\", \"kargs\": {\"num_features\": 256}},\n",
    "        {\n",
    "            \"class\": \"Conv2d\",\n",
    "            \"kargs\": {\n",
    "                \"in_channels\": 256,\n",
    "                \"out_channels\": 80,\n",
    "                \"kernel_size\": [2, 7],\n",
    "                \"bias\": True,\n",
    "                \"padding\": [0, 3],\n",
    "            },\n",
    "        },\n",
    "        {\"class\": \"ReLU\", \"kargs\": {\"inplace\": True}},\n",
    "        {\"class\": \"BatchNorm2d\", \"kargs\": {\"num_features\": 80}},\n",
    "        {\"class\": \"Flatten\", \"kargs\": {}},\n",
    "        {\"class\": \"Linear\", \"kargs\": {\"in_features\": 20480, \"out_features\": 256}},\n",
    "        {\"class\": \"ReLU\", \"kargs\": {\"inplace\": True}},\n",
    "        {\"class\": \"BatchNorm1d\", \"kargs\": {\"num_features\": 256}},\n",
    "        {\"class\": \"Linear\", \"kargs\": {\"in_features\": 256, \"out_features\": 256}},\n",
    "    ],\n",
    "    \"NUM_LOGS_PER_EPOCH\": 10,\n",
    "    \"BEST_MODEL_PATH\": \"./best_model.pth\",\n",
    "    \"pickle_name\": \"cores.stratified_ds.2022A.pkl\",\n",
    "    \"x_transforms_source\": [],\n",
    "    \"x_transforms_target\": [],\n",
    "    \"dataset_seed\": 1337,\n",
    "    \"seed\": 1337,\n",
    "}\n"
   ]
  },
  {
   "cell_type": "code",
   "execution_count": 5,
   "id": "8fa1cc33",
   "metadata": {
    "execution": {
     "iopub.execute_input": "2022-03-22T15:56:03.976489Z",
     "iopub.status.busy": "2022-03-22T15:56:03.976234Z",
     "iopub.status.idle": "2022-03-22T15:56:03.990634Z",
     "shell.execute_reply": "2022-03-22T15:56:03.990985Z"
    },
    "papermill": {
     "duration": 0.028104,
     "end_time": "2022-03-22T15:56:03.991089",
     "exception": false,
     "start_time": "2022-03-22T15:56:03.962985",
     "status": "completed"
    },
    "tags": []
   },
   "outputs": [],
   "source": [
    "# Set this to True if you want to run this template directly\n",
    "STANDALONE = False\n",
    "if STANDALONE:\n",
    "    print(\"parameters not injected, running with standalone_parameters\")\n",
    "    parameters = standalone_parameters\n",
    "\n",
    "if not 'parameters' in locals() and not 'parameters' in globals():\n",
    "    raise Exception(\"Parameter injection failed\")\n",
    "\n",
    "#Use an easy dict for all the parameters\n",
    "p = EasyDict(parameters)\n",
    "\n",
    "supplied_keys = set(p.keys())\n",
    "\n",
    "if  supplied_keys != required_parameters:\n",
    "    print(\"Parameters are incorrect\")\n",
    "    if len(supplied_keys - required_parameters)>0: print(\"Shouldn't have:\", str(supplied_keys - required_parameters))\n",
    "    if len(required_parameters - supplied_keys)>0: print(\"Need to have:\", str(required_parameters - supplied_keys))\n",
    "    raise RuntimeError(\"Parameters are incorrect\")\n",
    "\n"
   ]
  },
  {
   "cell_type": "code",
   "execution_count": 6,
   "id": "3a028d58",
   "metadata": {
    "execution": {
     "iopub.execute_input": "2022-03-22T15:56:04.018617Z",
     "iopub.status.busy": "2022-03-22T15:56:04.018364Z",
     "iopub.status.idle": "2022-03-22T15:56:04.032684Z",
     "shell.execute_reply": "2022-03-22T15:56:04.033036Z"
    },
    "papermill": {
     "duration": 0.026673,
     "end_time": "2022-03-22T15:56:04.033143",
     "exception": false,
     "start_time": "2022-03-22T15:56:04.006470",
     "status": "completed"
    },
    "tags": []
   },
   "outputs": [],
   "source": [
    "###################################\n",
    "# Set the RNGs and make it all deterministic\n",
    "###################################\n",
    "np.random.seed(p.seed)\n",
    "random.seed(p.seed)\n",
    "torch.manual_seed(p.seed)\n",
    "\n",
    "torch.use_deterministic_algorithms(True) "
   ]
  },
  {
   "cell_type": "code",
   "execution_count": 7,
   "id": "b691acf6",
   "metadata": {
    "execution": {
     "iopub.execute_input": "2022-03-22T15:56:04.058465Z",
     "iopub.status.busy": "2022-03-22T15:56:04.058219Z",
     "iopub.status.idle": "2022-03-22T15:56:04.068186Z",
     "shell.execute_reply": "2022-03-22T15:56:04.067866Z"
    },
    "papermill": {
     "duration": 0.020907,
     "end_time": "2022-03-22T15:56:04.068256",
     "exception": false,
     "start_time": "2022-03-22T15:56:04.047349",
     "status": "completed"
    },
    "tags": []
   },
   "outputs": [],
   "source": [
    "###########################################\n",
    "# The stratified datasets honor this\n",
    "###########################################\n",
    "torch.set_default_dtype(eval(p.torch_default_dtype))"
   ]
  },
  {
   "cell_type": "code",
   "execution_count": 8,
   "id": "b5fba671",
   "metadata": {
    "execution": {
     "iopub.execute_input": "2022-03-22T15:56:04.091156Z",
     "iopub.status.busy": "2022-03-22T15:56:04.090905Z",
     "iopub.status.idle": "2022-03-22T15:56:04.126610Z",
     "shell.execute_reply": "2022-03-22T15:56:04.126160Z"
    },
    "papermill": {
     "duration": 0.046779,
     "end_time": "2022-03-22T15:56:04.126698",
     "exception": false,
     "start_time": "2022-03-22T15:56:04.079919",
     "status": "completed"
    },
    "tags": []
   },
   "outputs": [],
   "source": [
    "###################################\n",
    "# Build the network(s)\n",
    "# Note: It's critical to do this AFTER setting the RNG\n",
    "# (This is due to the randomized initial weights)\n",
    "###################################\n",
    "x_net = build_sequential(p.x_net)"
   ]
  },
  {
   "cell_type": "code",
   "execution_count": 9,
   "id": "5d7e61cc",
   "metadata": {
    "execution": {
     "iopub.execute_input": "2022-03-22T15:56:04.151899Z",
     "iopub.status.busy": "2022-03-22T15:56:04.151648Z",
     "iopub.status.idle": "2022-03-22T15:56:04.162769Z",
     "shell.execute_reply": "2022-03-22T15:56:04.162420Z"
    },
    "papermill": {
     "duration": 0.022454,
     "end_time": "2022-03-22T15:56:04.162839",
     "exception": false,
     "start_time": "2022-03-22T15:56:04.140385",
     "status": "completed"
    },
    "tags": []
   },
   "outputs": [],
   "source": [
    "start_time_secs = time.time()"
   ]
  },
  {
   "cell_type": "code",
   "execution_count": 10,
   "id": "fd5442bc",
   "metadata": {
    "execution": {
     "iopub.execute_input": "2022-03-22T15:56:04.192003Z",
     "iopub.status.busy": "2022-03-22T15:56:04.191723Z",
     "iopub.status.idle": "2022-03-22T15:56:05.655183Z",
     "shell.execute_reply": "2022-03-22T15:56:05.654747Z"
    },
    "papermill": {
     "duration": 1.478803,
     "end_time": "2022-03-22T15:56:05.655300",
     "exception": false,
     "start_time": "2022-03-22T15:56:04.176497",
     "status": "completed"
    },
    "tags": []
   },
   "outputs": [],
   "source": [
    "###################################\n",
    "# Build the dataset\n",
    "###################################\n",
    "\n",
    "if p.x_transforms_source == []: x_transform_source = None\n",
    "else: x_transform_source = get_chained_transform(p.x_transforms_source) \n",
    "\n",
    "if p.x_transforms_target == []: x_transform_target = None\n",
    "else: x_transform_target = get_chained_transform(p.x_transforms_target)\n",
    "\n",
    "if p.episode_transforms_source == []: episode_transform_source = None\n",
    "else: raise Exception(\"episode_transform_source not implemented\")\n",
    "\n",
    "if p.episode_transforms_target == []: episode_transform_target = None\n",
    "else: raise Exception(\"episode_transform_target not implemented\")\n",
    "\n",
    "\n",
    "eaf_source = Episodic_Accessor_Factory(\n",
    "    labels=p.labels_source,\n",
    "    domains=p.domains_source,\n",
    "    num_examples_per_domain_per_label=p.num_examples_per_domain_per_label_source,\n",
    "    iterator_seed=p.seed,\n",
    "    dataset_seed=p.dataset_seed,\n",
    "    n_shot=p.n_shot,\n",
    "    n_way=p.n_way,\n",
    "    n_query=p.n_query,\n",
    "    train_val_test_k_factors=(p.train_k_factor,p.val_k_factor,p.test_k_factor),\n",
    "    pickle_path=os.path.join(get_datasets_base_path(), p.pickle_name),\n",
    "    x_transform_func=x_transform_source,\n",
    "    example_transform_func=episode_transform_source,\n",
    "    \n",
    ")\n",
    "train_original_source, val_original_source, test_original_source = eaf_source.get_train(), eaf_source.get_val(), eaf_source.get_test()\n",
    "\n",
    "\n",
    "eaf_target = Episodic_Accessor_Factory(\n",
    "    labels=p.labels_target,\n",
    "    domains=p.domains_target,\n",
    "    num_examples_per_domain_per_label=p.num_examples_per_domain_per_label_target,\n",
    "    iterator_seed=p.seed,\n",
    "    dataset_seed=p.dataset_seed,\n",
    "    n_shot=p.n_shot,\n",
    "    n_way=p.n_way,\n",
    "    n_query=p.n_query,\n",
    "    train_val_test_k_factors=(p.train_k_factor,p.val_k_factor,p.test_k_factor),\n",
    "    pickle_path=os.path.join(get_datasets_base_path(), p.pickle_name),\n",
    "    x_transform_func=x_transform_target,\n",
    "    example_transform_func=episode_transform_target,\n",
    ")\n",
    "train_original_target, val_original_target, test_original_target = eaf_target.get_train(), eaf_target.get_val(), eaf_target.get_test()\n",
    "\n",
    "\n",
    "transform_lambda = lambda ex: ex[1] # Original is (<domain>, <episode>) so we strip down to episode only\n",
    "\n",
    "train_processed_source = Lazy_Iterable_Wrapper(train_original_source, transform_lambda)\n",
    "val_processed_source   = Lazy_Iterable_Wrapper(val_original_source, transform_lambda)\n",
    "test_processed_source  = Lazy_Iterable_Wrapper(test_original_source, transform_lambda)\n",
    "\n",
    "train_processed_target = Lazy_Iterable_Wrapper(train_original_target, transform_lambda)\n",
    "val_processed_target   = Lazy_Iterable_Wrapper(val_original_target, transform_lambda)\n",
    "test_processed_target  = Lazy_Iterable_Wrapper(test_original_target, transform_lambda)\n",
    "\n",
    "datasets = EasyDict({\n",
    "    \"source\": {\n",
    "        \"original\": {\"train\":train_original_source, \"val\":val_original_source, \"test\":test_original_source},\n",
    "        \"processed\": {\"train\":train_processed_source, \"val\":val_processed_source, \"test\":test_processed_source}\n",
    "    },\n",
    "    \"target\": {\n",
    "        \"original\": {\"train\":train_original_target, \"val\":val_original_target, \"test\":test_original_target},\n",
    "        \"processed\": {\"train\":train_processed_target, \"val\":val_processed_target, \"test\":test_processed_target}\n",
    "    },\n",
    "})"
   ]
  },
  {
   "cell_type": "code",
   "execution_count": 11,
   "id": "296189d9",
   "metadata": {
    "execution": {
     "iopub.execute_input": "2022-03-22T15:56:05.691827Z",
     "iopub.status.busy": "2022-03-22T15:56:05.691565Z",
     "iopub.status.idle": "2022-03-22T15:56:07.369252Z",
     "shell.execute_reply": "2022-03-22T15:56:07.369693Z"
    },
    "papermill": {
     "duration": 1.694358,
     "end_time": "2022-03-22T15:56:07.369805",
     "exception": false,
     "start_time": "2022-03-22T15:56:05.675447",
     "status": "completed"
    },
    "tags": []
   },
   "outputs": [
    {
     "name": "stdout",
     "output_type": "stream",
     "text": [
      "Visually inspect these to see if they line up with expected values given the transforms\n",
      "x_transforms_source []\n",
      "x_transforms_target []\n",
      "Average magnitude, source: 0.014106303\n",
      "Average power, source: 0.00022866104\n"
     ]
    },
    {
     "name": "stdout",
     "output_type": "stream",
     "text": [
      "Average magnitude, target: 0.015272786\n",
      "Average power, target: 0.00028287634\n"
     ]
    }
   ],
   "source": [
    "# Some quick unit tests on the data\n",
    "from steves_utils.transforms import get_average_power, get_average_magnitude\n",
    "\n",
    "q_x, q_y, s_x, s_y, truth = next(iter(train_processed_source))\n",
    "\n",
    "assert q_x.dtype == eval(p.torch_default_dtype)\n",
    "assert s_x.dtype == eval(p.torch_default_dtype)\n",
    "\n",
    "print(\"Visually inspect these to see if they line up with expected values given the transforms\")\n",
    "print('x_transforms_source', p.x_transforms_source)\n",
    "print('x_transforms_target', p.x_transforms_target)\n",
    "print(\"Average magnitude, source:\", get_average_magnitude(q_x[0].numpy()))\n",
    "print(\"Average power, source:\", get_average_power(q_x[0].numpy()))\n",
    "\n",
    "q_x, q_y, s_x, s_y, truth = next(iter(train_processed_target))\n",
    "print(\"Average magnitude, target:\", get_average_magnitude(q_x[0].numpy()))\n",
    "print(\"Average power, target:\", get_average_power(q_x[0].numpy()))\n"
   ]
  },
  {
   "cell_type": "code",
   "execution_count": 12,
   "id": "bbdacba1",
   "metadata": {
    "execution": {
     "iopub.execute_input": "2022-03-22T15:56:07.401473Z",
     "iopub.status.busy": "2022-03-22T15:56:07.401159Z",
     "iopub.status.idle": "2022-03-22T15:56:07.466314Z",
     "shell.execute_reply": "2022-03-22T15:56:07.466690Z"
    },
    "papermill": {
     "duration": 0.081208,
     "end_time": "2022-03-22T15:56:07.466811",
     "exception": false,
     "start_time": "2022-03-22T15:56:07.385603",
     "status": "completed"
    },
    "tags": []
   },
   "outputs": [
    {
     "name": "stdout",
     "output_type": "stream",
     "text": [
      "(2, 256)\n"
     ]
    }
   ],
   "source": [
    "###################################\n",
    "# Build the model\n",
    "###################################\n",
    "model = Steves_Prototypical_Network(x_net, device=p.device, x_shape=(2,256))\n",
    "optimizer = Adam(params=model.parameters(), lr=p.lr)"
   ]
  },
  {
   "cell_type": "code",
   "execution_count": 13,
   "id": "22b39ac5",
   "metadata": {
    "execution": {
     "iopub.execute_input": "2022-03-22T15:56:07.495969Z",
     "iopub.status.busy": "2022-03-22T15:56:07.495720Z",
     "iopub.status.idle": "2022-03-22T15:57:12.528849Z",
     "shell.execute_reply": "2022-03-22T15:57:12.528368Z"
    },
    "papermill": {
     "duration": 65.045537,
     "end_time": "2022-03-22T15:57:12.528948",
     "exception": false,
     "start_time": "2022-03-22T15:56:07.483411",
     "status": "completed"
    },
    "tags": []
   },
   "outputs": [
    {
     "name": "stdout",
     "output_type": "stream",
     "text": [
      "epoch: 1, [batch: 1 / 156], examples_per_second: 1015.2263, train_label_loss: 3.3412, \n"
     ]
    },
    {
     "name": "stdout",
     "output_type": "stream",
     "text": [
      "epoch: 1, [batch: 16 / 156], examples_per_second: 3889.6928, train_label_loss: 1.9413, \n"
     ]
    },
    {
     "name": "stdout",
     "output_type": "stream",
     "text": [
      "epoch: 1, [batch: 32 / 156], examples_per_second: 3928.3845, train_label_loss: 1.2935, \n"
     ]
    },
    {
     "name": "stdout",
     "output_type": "stream",
     "text": [
      "epoch: 1, [batch: 47 / 156], examples_per_second: 3839.6994, train_label_loss: 0.8885, \n"
     ]
    },
    {
     "name": "stdout",
     "output_type": "stream",
     "text": [
      "epoch: 1, [batch: 63 / 156], examples_per_second: 3916.4764, train_label_loss: 0.3970, \n"
     ]
    },
    {
     "name": "stdout",
     "output_type": "stream",
     "text": [
      "epoch: 1, [batch: 78 / 156], examples_per_second: 3936.0969, train_label_loss: 0.2031, \n"
     ]
    },
    {
     "name": "stdout",
     "output_type": "stream",
     "text": [
      "epoch: 1, [batch: 94 / 156], examples_per_second: 3841.9712, train_label_loss: 0.1374, \n"
     ]
    },
    {
     "name": "stdout",
     "output_type": "stream",
     "text": [
      "epoch: 1, [batch: 109 / 156], examples_per_second: 3926.4286, train_label_loss: 0.1108, \n"
     ]
    },
    {
     "name": "stdout",
     "output_type": "stream",
     "text": [
      "epoch: 1, [batch: 125 / 156], examples_per_second: 3922.8891, train_label_loss: 0.0627, \n"
     ]
    },
    {
     "name": "stdout",
     "output_type": "stream",
     "text": [
      "epoch: 1, [batch: 140 / 156], examples_per_second: 3932.9915, train_label_loss: 0.2450, \n"
     ]
    },
    {
     "name": "stdout",
     "output_type": "stream",
     "text": [
      "=============================================================\n",
      "epoch: 1, source_val_acc_label: 0.9945, target_val_acc_label: 0.9748, source_val_label_loss: 0.0651, target_val_label_loss: 0.1732, \n",
      "=============================================================\n"
     ]
    },
    {
     "name": "stdout",
     "output_type": "stream",
     "text": [
      "New best\n"
     ]
    },
    {
     "name": "stdout",
     "output_type": "stream",
     "text": [
      "epoch: 2, [batch: 1 / 156], examples_per_second: 201.9747, train_label_loss: 0.0578, \n"
     ]
    },
    {
     "name": "stdout",
     "output_type": "stream",
     "text": [
      "epoch: 2, [batch: 16 / 156], examples_per_second: 4006.5374, train_label_loss: 0.0661, \n"
     ]
    },
    {
     "name": "stdout",
     "output_type": "stream",
     "text": [
      "epoch: 2, [batch: 32 / 156], examples_per_second: 3988.4109, train_label_loss: 0.0256, \n"
     ]
    },
    {
     "name": "stdout",
     "output_type": "stream",
     "text": [
      "epoch: 2, [batch: 47 / 156], examples_per_second: 3915.9157, train_label_loss: 0.0784, \n"
     ]
    },
    {
     "name": "stdout",
     "output_type": "stream",
     "text": [
      "epoch: 2, [batch: 63 / 156], examples_per_second: 4000.0046, train_label_loss: 0.0454, \n"
     ]
    },
    {
     "name": "stdout",
     "output_type": "stream",
     "text": [
      "epoch: 2, [batch: 78 / 156], examples_per_second: 4003.7653, train_label_loss: 0.0120, \n"
     ]
    },
    {
     "name": "stdout",
     "output_type": "stream",
     "text": [
      "epoch: 2, [batch: 94 / 156], examples_per_second: 3916.4930, train_label_loss: 0.0102, \n"
     ]
    },
    {
     "name": "stdout",
     "output_type": "stream",
     "text": [
      "epoch: 2, [batch: 109 / 156], examples_per_second: 4001.1883, train_label_loss: 0.0562, \n"
     ]
    },
    {
     "name": "stdout",
     "output_type": "stream",
     "text": [
      "epoch: 2, [batch: 125 / 156], examples_per_second: 4003.4878, train_label_loss: 0.2705, \n"
     ]
    },
    {
     "name": "stdout",
     "output_type": "stream",
     "text": [
      "epoch: 2, [batch: 140 / 156], examples_per_second: 4002.4935, train_label_loss: 0.0071, \n"
     ]
    },
    {
     "name": "stdout",
     "output_type": "stream",
     "text": [
      "=============================================================\n",
      "epoch: 2, source_val_acc_label: 0.9922, target_val_acc_label: 0.9639, source_val_label_loss: 0.0214, target_val_label_loss: 0.1108, \n",
      "=============================================================\n"
     ]
    },
    {
     "name": "stdout",
     "output_type": "stream",
     "text": [
      "epoch: 3, [batch: 1 / 156], examples_per_second: 203.9137, train_label_loss: 0.0118, \n"
     ]
    },
    {
     "name": "stdout",
     "output_type": "stream",
     "text": [
      "epoch: 3, [batch: 16 / 156], examples_per_second: 4003.6229, train_label_loss: 0.0091, \n"
     ]
    },
    {
     "name": "stdout",
     "output_type": "stream",
     "text": [
      "epoch: 3, [batch: 32 / 156], examples_per_second: 4002.8669, train_label_loss: 0.0171, \n"
     ]
    },
    {
     "name": "stdout",
     "output_type": "stream",
     "text": [
      "epoch: 3, [batch: 47 / 156], examples_per_second: 3916.7732, train_label_loss: 0.0025, \n"
     ]
    },
    {
     "name": "stdout",
     "output_type": "stream",
     "text": [
      "epoch: 3, [batch: 63 / 156], examples_per_second: 4003.2613, train_label_loss: 0.0131, \n"
     ]
    },
    {
     "name": "stdout",
     "output_type": "stream",
     "text": [
      "epoch: 3, [batch: 78 / 156], examples_per_second: 4003.3770, train_label_loss: 0.0263, \n"
     ]
    },
    {
     "name": "stdout",
     "output_type": "stream",
     "text": [
      "epoch: 3, [batch: 94 / 156], examples_per_second: 3920.9306, train_label_loss: 0.0016, \n"
     ]
    },
    {
     "name": "stdout",
     "output_type": "stream",
     "text": [
      "epoch: 3, [batch: 109 / 156], examples_per_second: 4005.7009, train_label_loss: 0.0042, \n"
     ]
    },
    {
     "name": "stdout",
     "output_type": "stream",
     "text": [
      "epoch: 3, [batch: 125 / 156], examples_per_second: 4004.4178, train_label_loss: 0.0018, \n"
     ]
    },
    {
     "name": "stdout",
     "output_type": "stream",
     "text": [
      "epoch: 3, [batch: 140 / 156], examples_per_second: 4004.6564, train_label_loss: 0.0010, \n"
     ]
    },
    {
     "name": "stdout",
     "output_type": "stream",
     "text": [
      "=============================================================\n",
      "epoch: 3, source_val_acc_label: 0.9941, target_val_acc_label: 0.9715, source_val_label_loss: 0.0162, target_val_label_loss: 0.0865, \n",
      "=============================================================\n"
     ]
    },
    {
     "name": "stdout",
     "output_type": "stream",
     "text": [
      "epoch: 4, [batch: 1 / 156], examples_per_second: 204.8427, train_label_loss: 0.0027, \n"
     ]
    },
    {
     "name": "stdout",
     "output_type": "stream",
     "text": [
      "epoch: 4, [batch: 16 / 156], examples_per_second: 3998.4323, train_label_loss: 0.0277, \n"
     ]
    },
    {
     "name": "stdout",
     "output_type": "stream",
     "text": [
      "epoch: 4, [batch: 32 / 156], examples_per_second: 4007.9573, train_label_loss: 0.0586, \n"
     ]
    },
    {
     "name": "stdout",
     "output_type": "stream",
     "text": [
      "epoch: 4, [batch: 47 / 156], examples_per_second: 3928.9144, train_label_loss: 0.0629, \n"
     ]
    },
    {
     "name": "stdout",
     "output_type": "stream",
     "text": [
      "epoch: 4, [batch: 63 / 156], examples_per_second: 4009.5278, train_label_loss: 0.0042, \n"
     ]
    },
    {
     "name": "stdout",
     "output_type": "stream",
     "text": [
      "epoch: 4, [batch: 78 / 156], examples_per_second: 4009.9540, train_label_loss: 0.0033, \n"
     ]
    },
    {
     "name": "stdout",
     "output_type": "stream",
     "text": [
      "epoch: 4, [batch: 94 / 156], examples_per_second: 3923.8414, train_label_loss: 0.0094, \n"
     ]
    },
    {
     "name": "stdout",
     "output_type": "stream",
     "text": [
      "epoch: 4, [batch: 109 / 156], examples_per_second: 4005.9832, train_label_loss: 0.0330, \n"
     ]
    },
    {
     "name": "stdout",
     "output_type": "stream",
     "text": [
      "epoch: 4, [batch: 125 / 156], examples_per_second: 4007.3301, train_label_loss: 0.0078, \n"
     ]
    },
    {
     "name": "stdout",
     "output_type": "stream",
     "text": [
      "epoch: 4, [batch: 140 / 156], examples_per_second: 4010.0879, train_label_loss: 0.0034, \n"
     ]
    },
    {
     "name": "stdout",
     "output_type": "stream",
     "text": [
      "=============================================================\n",
      "epoch: 4, source_val_acc_label: 0.9980, target_val_acc_label: 0.9738, source_val_label_loss: 0.0079, target_val_label_loss: 0.0791, \n",
      "=============================================================\n"
     ]
    },
    {
     "name": "stdout",
     "output_type": "stream",
     "text": [
      "epoch: 5, [batch: 1 / 156], examples_per_second: 205.2167, train_label_loss: 0.0033, \n"
     ]
    },
    {
     "name": "stdout",
     "output_type": "stream",
     "text": [
      "epoch: 5, [batch: 16 / 156], examples_per_second: 4005.8601, train_label_loss: 0.0368, \n"
     ]
    },
    {
     "name": "stdout",
     "output_type": "stream",
     "text": [
      "epoch: 5, [batch: 32 / 156], examples_per_second: 4011.7082, train_label_loss: 0.0026, \n"
     ]
    },
    {
     "name": "stdout",
     "output_type": "stream",
     "text": [
      "epoch: 5, [batch: 47 / 156], examples_per_second: 3925.2612, train_label_loss: 0.0164, \n"
     ]
    },
    {
     "name": "stdout",
     "output_type": "stream",
     "text": [
      "epoch: 5, [batch: 63 / 156], examples_per_second: 4007.1172, train_label_loss: 0.0084, \n"
     ]
    },
    {
     "name": "stdout",
     "output_type": "stream",
     "text": [
      "epoch: 5, [batch: 78 / 156], examples_per_second: 4008.9883, train_label_loss: 0.0835, \n"
     ]
    },
    {
     "name": "stdout",
     "output_type": "stream",
     "text": [
      "epoch: 5, [batch: 94 / 156], examples_per_second: 3931.4763, train_label_loss: 0.0041, \n"
     ]
    },
    {
     "name": "stdout",
     "output_type": "stream",
     "text": [
      "epoch: 5, [batch: 109 / 156], examples_per_second: 4008.9134, train_label_loss: 0.0270, \n"
     ]
    },
    {
     "name": "stdout",
     "output_type": "stream",
     "text": [
      "epoch: 5, [batch: 125 / 156], examples_per_second: 4011.8645, train_label_loss: 0.2593, \n"
     ]
    },
    {
     "name": "stdout",
     "output_type": "stream",
     "text": [
      "epoch: 5, [batch: 140 / 156], examples_per_second: 4010.9404, train_label_loss: 0.0224, \n"
     ]
    },
    {
     "name": "stdout",
     "output_type": "stream",
     "text": [
      "=============================================================\n",
      "epoch: 5, source_val_acc_label: 0.9949, target_val_acc_label: 0.9649, source_val_label_loss: 0.0113, target_val_label_loss: 0.1003, \n",
      "=============================================================\n"
     ]
    },
    {
     "name": "stdout",
     "output_type": "stream",
     "text": [
      "Patience (3) exhausted\n"
     ]
    }
   ],
   "source": [
    "###################################\n",
    "# train\n",
    "###################################\n",
    "jig = PTN_Train_Eval_Test_Jig(model, p.BEST_MODEL_PATH, p.device)\n",
    "\n",
    "jig.train(\n",
    "    train_iterable=datasets.source.processed.train,\n",
    "    source_val_iterable=datasets.source.processed.val,\n",
    "    target_val_iterable=datasets.target.processed.val,\n",
    "    num_epochs=p.n_epoch,\n",
    "    num_logs_per_epoch=p.NUM_LOGS_PER_EPOCH,\n",
    "    patience=p.patience,\n",
    "    optimizer=optimizer,\n",
    "    criteria_for_best=p.criteria_for_best,\n",
    ")"
   ]
  },
  {
   "cell_type": "code",
   "execution_count": 14,
   "id": "31e8fabf",
   "metadata": {
    "execution": {
     "iopub.execute_input": "2022-03-22T15:57:12.578573Z",
     "iopub.status.busy": "2022-03-22T15:57:12.578326Z",
     "iopub.status.idle": "2022-03-22T15:57:12.597098Z",
     "shell.execute_reply": "2022-03-22T15:57:12.596726Z"
    },
    "papermill": {
     "duration": 0.042635,
     "end_time": "2022-03-22T15:57:12.597190",
     "exception": false,
     "start_time": "2022-03-22T15:57:12.554555",
     "status": "completed"
    },
    "tags": []
   },
   "outputs": [],
   "source": [
    "total_experiment_time_secs = time.time() - start_time_secs"
   ]
  },
  {
   "cell_type": "code",
   "execution_count": 15,
   "id": "87b9595b",
   "metadata": {
    "execution": {
     "iopub.execute_input": "2022-03-22T15:57:12.648280Z",
     "iopub.status.busy": "2022-03-22T15:57:12.648021Z",
     "iopub.status.idle": "2022-03-22T15:57:19.816077Z",
     "shell.execute_reply": "2022-03-22T15:57:19.815606Z"
    },
    "papermill": {
     "duration": 7.194019,
     "end_time": "2022-03-22T15:57:19.816191",
     "exception": false,
     "start_time": "2022-03-22T15:57:12.622172",
     "status": "completed"
    },
    "tags": []
   },
   "outputs": [],
   "source": [
    "###################################\n",
    "# Evaluate the model\n",
    "###################################\n",
    "source_test_label_accuracy, source_test_label_loss = jig.test(datasets.source.processed.test)\n",
    "target_test_label_accuracy, target_test_label_loss = jig.test(datasets.target.processed.test)\n",
    "\n",
    "source_val_label_accuracy, source_val_label_loss = jig.test(datasets.source.processed.val)\n",
    "target_val_label_accuracy, target_val_label_loss = jig.test(datasets.target.processed.val)\n",
    "\n",
    "history = jig.get_history()\n",
    "\n",
    "total_epochs_trained = len(history[\"epoch_indices\"])\n",
    "\n",
    "val_dl = Iterable_Aggregator((datasets.source.original.val,datasets.target.original.val))\n",
    "\n",
    "confusion = ptn_confusion_by_domain_over_dataloader(model, p.device, val_dl)\n",
    "per_domain_accuracy = per_domain_accuracy_from_confusion(confusion)\n",
    "\n",
    "# Add a key to per_domain_accuracy for if it was a source domain\n",
    "for domain, accuracy in per_domain_accuracy.items():\n",
    "    per_domain_accuracy[domain] = {\n",
    "        \"accuracy\": accuracy,\n",
    "        \"source?\": domain in p.domains_source\n",
    "    }\n",
    "\n",
    "# Do an independent accuracy assesment JUST TO BE SURE!\n",
    "# _source_test_label_accuracy = independent_accuracy_assesment(model, datasets.source.processed.test, p.device)\n",
    "# _target_test_label_accuracy = independent_accuracy_assesment(model, datasets.target.processed.test, p.device)\n",
    "# _source_val_label_accuracy = independent_accuracy_assesment(model, datasets.source.processed.val, p.device)\n",
    "# _target_val_label_accuracy = independent_accuracy_assesment(model, datasets.target.processed.val, p.device)\n",
    "\n",
    "# assert(_source_test_label_accuracy == source_test_label_accuracy)\n",
    "# assert(_target_test_label_accuracy == target_test_label_accuracy)\n",
    "# assert(_source_val_label_accuracy == source_val_label_accuracy)\n",
    "# assert(_target_val_label_accuracy == target_val_label_accuracy)\n",
    "\n",
    "experiment = {\n",
    "    \"experiment_name\": p.experiment_name,\n",
    "    \"parameters\": dict(p),\n",
    "    \"results\": {\n",
    "        \"source_test_label_accuracy\": source_test_label_accuracy,\n",
    "        \"source_test_label_loss\": source_test_label_loss,\n",
    "        \"target_test_label_accuracy\": target_test_label_accuracy,\n",
    "        \"target_test_label_loss\": target_test_label_loss,\n",
    "        \"source_val_label_accuracy\": source_val_label_accuracy,\n",
    "        \"source_val_label_loss\": source_val_label_loss,\n",
    "        \"target_val_label_accuracy\": target_val_label_accuracy,\n",
    "        \"target_val_label_loss\": target_val_label_loss,\n",
    "        \"total_epochs_trained\": total_epochs_trained,\n",
    "        \"total_experiment_time_secs\": total_experiment_time_secs,\n",
    "        \"confusion\": confusion,\n",
    "        \"per_domain_accuracy\": per_domain_accuracy,\n",
    "    },\n",
    "    \"history\": history,\n",
    "    \"dataset_metrics\": get_dataset_metrics(datasets, \"ptn\"),\n",
    "}"
   ]
  },
  {
   "cell_type": "code",
   "execution_count": 16,
   "id": "54a21829",
   "metadata": {
    "execution": {
     "iopub.execute_input": "2022-03-22T15:57:19.865801Z",
     "iopub.status.busy": "2022-03-22T15:57:19.865552Z",
     "iopub.status.idle": "2022-03-22T15:57:19.994856Z",
     "shell.execute_reply": "2022-03-22T15:57:19.994429Z"
    },
    "papermill": {
     "duration": 0.152106,
     "end_time": "2022-03-22T15:57:19.994963",
     "exception": false,
     "start_time": "2022-03-22T15:57:19.842857",
     "status": "completed"
    },
    "tags": []
   },
   "outputs": [
    {
     "data": {
      "image/png": "[encoded data removed]",
      "text/plain": [
       "<Figure size 1080x504 with 1 Axes>"
      ]
     },
     "metadata": {
      "needs_background": "light"
     },
     "output_type": "display_data"
    }
   ],
   "source": [
    "ax = get_loss_curve(experiment)\n",
    "plt.show()"
   ]
  },
  {
   "cell_type": "code",
   "execution_count": 17,
   "id": "fd8a0f60",
   "metadata": {
    "execution": {
     "iopub.execute_input": "2022-03-22T15:57:20.046850Z",
     "iopub.status.busy": "2022-03-22T15:57:20.046597Z",
     "iopub.status.idle": "2022-03-22T15:57:20.189554Z",
     "shell.execute_reply": "2022-03-22T15:57:20.189869Z"
    },
    "papermill": {
     "duration": 0.16671,
     "end_time": "2022-03-22T15:57:20.189962",
     "exception": false,
     "start_time": "2022-03-22T15:57:20.023252",
     "status": "completed"
    },
    "tags": []
   },
   "outputs": [
    {
     "data": {
      "text/plain": [
       "<AxesSubplot:title={'center':'Results'}>"
      ]
     },
     "execution_count": 17,
     "metadata": {},
     "output_type": "execute_result"
    },
    {
     "data": {
      "image/png": "[encoded data removed]",
      "text/plain": [
       "<Figure size 1080x504 with 1 Axes>"
      ]
     },
     "metadata": {
      "needs_background": "light"
     },
     "output_type": "display_data"
    }
   ],
   "source": [
    "get_results_table(experiment)"
   ]
  },
  {
   "cell_type": "code",
   "execution_count": 18,
   "id": "cf8dc689",
   "metadata": {
    "execution": {
     "iopub.execute_input": "2022-03-22T15:57:20.242885Z",
     "iopub.status.busy": "2022-03-22T15:57:20.242635Z",
     "iopub.status.idle": "2022-03-22T15:57:20.348999Z",
     "shell.execute_reply": "2022-03-22T15:57:20.348549Z"
    },
    "papermill": {
     "duration": 0.131422,
     "end_time": "2022-03-22T15:57:20.349092",
     "exception": false,
     "start_time": "2022-03-22T15:57:20.217670",
     "status": "completed"
    },
    "tags": []
   },
   "outputs": [
    {
     "data": {
      "text/plain": [
       "<AxesSubplot:title={'center':'Per Domain Validation Accuracy'}, xlabel='domain'>"
      ]
     },
     "execution_count": 18,
     "metadata": {},
     "output_type": "execute_result"
    },
    {
     "data": {
      "image/png": "[encoded data removed]",
      "text/plain": [
       "<Figure size 1080x504 with 1 Axes>"
      ]
     },
     "metadata": {
      "needs_background": "light"
     },
     "output_type": "display_data"
    }
   ],
   "source": [
    "get_domain_accuracies(experiment)"
   ]
  },
  {
   "cell_type": "code",
   "execution_count": 19,
   "id": "a74ae082",
   "metadata": {
    "execution": {
     "iopub.execute_input": "2022-03-22T15:57:20.403285Z",
     "iopub.status.busy": "2022-03-22T15:57:20.403012Z",
     "iopub.status.idle": "2022-03-22T15:57:20.419014Z",
     "shell.execute_reply": "2022-03-22T15:57:20.419394Z"
    },
    "papermill": {
     "duration": 0.042032,
     "end_time": "2022-03-22T15:57:20.419499",
     "exception": false,
     "start_time": "2022-03-22T15:57:20.377467",
     "status": "completed"
    },
    "tags": []
   },
   "outputs": [
    {
     "name": "stdout",
     "output_type": "stream",
     "text": [
      "Source Test Label Accuracy: 0.9921630094043887 Target Test Label Accuracy: 0.9710591133004927\n",
      "Source Val Label Accuracy: 0.9945141065830722 Target Val Label Accuracy: 0.9748010610079576\n"
     ]
    }
   ],
   "source": [
    "print(\"Source Test Label Accuracy:\", experiment[\"results\"][\"source_test_label_accuracy\"], \"Target Test Label Accuracy:\", experiment[\"results\"][\"target_test_label_accuracy\"])\n",
    "print(\"Source Val Label Accuracy:\", experiment[\"results\"][\"source_val_label_accuracy\"], \"Target Val Label Accuracy:\", experiment[\"results\"][\"target_val_label_accuracy\"])"
   ]
  },
  {
   "cell_type": "code",
   "execution_count": 20,
   "id": "dacca602",
   "metadata": {
    "execution": {
     "iopub.execute_input": "2022-03-22T15:57:20.472984Z",
     "iopub.status.busy": "2022-03-22T15:57:20.472736Z",
     "iopub.status.idle": "2022-03-22T15:57:20.484231Z",
     "shell.execute_reply": "2022-03-22T15:57:20.484018Z"
    },
    "papermill": {
     "duration": 0.037246,
     "end_time": "2022-03-22T15:57:20.484281",
     "exception": false,
     "start_time": "2022-03-22T15:57:20.447035",
     "status": "completed"
    },
    "tags": [
     "experiment_json"
    ]
   },
   "outputs": [
    {
     "data": {
      "text/plain": [
       "'{\"experiment_name\": \"tuned_1v2:cores\", \"parameters\": {\"experiment_name\": \"tuned_1v2:cores\", \"device\": \"cuda\", \"lr\": 0.0001, \"labels_source\": [\"1-10.\", \"1-11.\", \"1-15.\", \"1-16.\", \"1-17.\", \"1-18.\", \"1-19.\", \"10-4.\", \"10-7.\", \"11-1.\", \"11-14.\", \"11-17.\", \"11-20.\", \"11-7.\", \"13-20.\", \"13-8.\", \"14-10.\", \"14-11.\", \"14-14.\", \"14-7.\", \"15-1.\", \"15-20.\", \"16-1.\", \"16-16.\", \"17-10.\", \"17-11.\", \"17-2.\", \"19-1.\", \"19-16.\", \"19-19.\", \"19-20.\", \"19-3.\", \"2-10.\", \"2-11.\", \"2-17.\", \"2-18.\", \"2-20.\", \"2-3.\", \"2-4.\", \"2-5.\", \"2-6.\", \"2-7.\", \"2-8.\", \"3-13.\", \"3-18.\", \"3-3.\", \"4-1.\", \"4-10.\", \"4-11.\", \"4-19.\", \"5-5.\", \"6-15.\", \"7-10.\", \"7-14.\", \"8-18.\", \"8-20.\", \"8-3.\", \"8-8.\"], \"labels_target\": [\"1-10.\", \"1-11.\", \"1-15.\", \"1-16.\", \"1-17.\", \"1-18.\", \"1-19.\", \"10-4.\", \"10-7.\", \"11-1.\", \"11-14.\", \"11-17.\", \"11-20.\", \"11-7.\", \"13-20.\", \"13-8.\", \"14-10.\", \"14-11.\", \"14-14.\", \"14-7.\", \"15-1.\", \"15-20.\", \"16-1.\", \"16-16.\", \"17-10.\", \"17-11.\", \"17-2.\", \"19-1.\", \"19-16.\", \"19-19.\", \"19-20.\", \"19-3.\", \"2-10.\", \"2-11.\", \"2-17.\", \"2-18.\", \"2-20.\", \"2-3.\", \"2-4.\", \"2-5.\", \"2-6.\", \"2-7.\", \"2-8.\", \"3-13.\", \"3-18.\", \"3-3.\", \"4-1.\", \"4-10.\", \"4-11.\", \"4-19.\", \"5-5.\", \"6-15.\", \"7-10.\", \"7-14.\", \"8-18.\", \"8-20.\", \"8-3.\", \"8-8.\"], \"episode_transforms_source\": [], \"episode_transforms_target\": [], \"domains_source\": [1, 5], \"domains_target\": [2, 3, 4], \"num_examples_per_domain_per_label_source\": -1, \"num_examples_per_domain_per_label_target\": -1, \"n_shot\": 3, \"n_way\": 58, \"n_query\": 2, \"train_k_factor\": 3, \"val_k_factor\": 2, \"test_k_factor\": 2, \"torch_default_dtype\": \"torch.float32\", \"n_epoch\": 50, \"patience\": 3, \"criteria_for_best\": \"target_accuracy\", \"x_net\": [{\"class\": \"nnReshape\", \"kargs\": {\"shape\": [-1, 1, 2, 256]}}, {\"class\": \"Conv2d\", \"kargs\": {\"in_channels\": 1, \"out_channels\": 256, \"kernel_size\": [1, 7], \"bias\": false, \"padding\": [0, 3]}}, {\"class\": \"ReLU\", \"kargs\": {\"inplace\": true}}, {\"class\": \"BatchNorm2d\", \"kargs\": {\"num_features\": 256}}, {\"class\": \"Conv2d\", \"kargs\": {\"in_channels\": 256, \"out_channels\": 80, \"kernel_size\": [2, 7], \"bias\": true, \"padding\": [0, 3]}}, {\"class\": \"ReLU\", \"kargs\": {\"inplace\": true}}, {\"class\": \"BatchNorm2d\", \"kargs\": {\"num_features\": 80}}, {\"class\": \"Flatten\", \"kargs\": {}}, {\"class\": \"Linear\", \"kargs\": {\"in_features\": 20480, \"out_features\": 256}}, {\"class\": \"ReLU\", \"kargs\": {\"inplace\": true}}, {\"class\": \"BatchNorm1d\", \"kargs\": {\"num_features\": 256}}, {\"class\": \"Linear\", \"kargs\": {\"in_features\": 256, \"out_features\": 256}}], \"NUM_LOGS_PER_EPOCH\": 10, \"BEST_MODEL_PATH\": \"./best_model.pth\", \"pickle_name\": \"cores.stratified_ds.2022A.pkl\", \"x_transforms_source\": [], \"x_transforms_target\": [], \"dataset_seed\": 1337, \"seed\": 1337}, \"results\": {\"source_test_label_accuracy\": 0.9921630094043887, \"source_test_label_loss\": 0.06688495725393295, \"target_test_label_accuracy\": 0.9710591133004927, \"target_test_label_loss\": 0.17459014058113098, \"source_val_label_accuracy\": 0.9945141065830722, \"source_val_label_loss\": 0.06505835056304932, \"target_val_label_accuracy\": 0.9748010610079576, \"target_val_label_loss\": 0.17317482829093933, \"total_epochs_trained\": 5, \"total_experiment_time_secs\": 68.4337592124939, \"confusion\": {\"5\": {\"1\": {\"1\": 20}, \"28\": {\"28\": 20}, \"21\": {\"21\": 20}, \"27\": {\"27\": 20}, \"20\": {\"20\": 20}, \"16\": {\"16\": 20}, \"48\": {\"48\": 20}, \"42\": {\"42\": 20}, \"45\": {\"45\": 19, \"6\": 1}, \"41\": {\"41\": 20}, \"13\": {\"13\": 20}, \"50\": {\"50\": 20}, \"32\": {\"32\": 20}, \"51\": {\"51\": 20}, \"30\": {\"30\": 20}, \"38\": {\"38\": 20}, \"7\": {\"7\": 20}, \"22\": {\"22\": 20}, \"37\": {\"37\": 20}, \"33\": {\"33\": 20}, \"6\": {\"6\": 17, \"45\": 3}, \"14\": {\"14\": 20}, \"40\": {\"40\": 20}, \"55\": {\"55\": 20}, \"2\": {\"2\": 20}, \"39\": {\"39\": 19, \"54\": 1}, \"56\": {\"56\": 20}, \"17\": {\"17\": 20}, \"10\": {\"10\": 20}, \"9\": {\"9\": 20}, \"31\": {\"31\": 20}, \"12\": {\"12\": 20}, \"25\": {\"25\": 20}, \"0\": {\"0\": 20}, \"47\": {\"47\": 20}, \"44\": {\"44\": 19, \"3\": 1}, \"23\": {\"23\": 20}, \"15\": {\"15\": 20}, \"8\": {\"8\": 20}, \"54\": {\"54\": 20}, \"52\": {\"52\": 20}, \"29\": {\"29\": 20}, \"5\": {\"5\": 19, \"50\": 1}, \"34\": {\"34\": 20}, \"35\": {\"35\": 20}, \"26\": {\"26\": 20}, \"57\": {\"57\": 20}, \"53\": {\"53\": 20}, \"36\": {\"36\": 20}, \"18\": {\"18\": 20}, \"49\": {\"49\": 20}, \"3\": {\"3\": 20}, \"4\": {\"4\": 20}, \"24\": {\"24\": 20}, \"11\": {\"11\": 20}, \"19\": {\"19\": 20}, \"43\": {\"43\": 20}, \"46\": {\"46\": 19, \"3\": 1}}, \"1\": {\"21\": {\"21\": 24}, \"7\": {\"7\": 24}, \"33\": {\"33\": 24}, \"40\": {\"40\": 24}, \"44\": {\"44\": 24}, \"45\": {\"45\": 24}, \"0\": {\"0\": 24}, \"8\": {\"8\": 24}, \"47\": {\"47\": 24}, \"23\": {\"23\": 24}, \"17\": {\"17\": 24}, \"48\": {\"48\": 24}, \"30\": {\"30\": 24}, \"57\": {\"57\": 24}, \"14\": {\"14\": 23, \"30\": 1}, \"26\": {\"26\": 24}, \"11\": {\"11\": 24}, \"37\": {\"37\": 24}, \"53\": {\"53\": 24}, \"46\": {\"46\": 24}, \"51\": {\"51\": 24}, \"34\": {\"34\": 24}, \"6\": {\"6\": 24}, \"42\": {\"42\": 24}, \"18\": {\"18\": 24}, \"27\": {\"27\": 24}, \"43\": {\"43\": 24}, \"4\": {\"4\": 24}, \"19\": {\"19\": 24}, \"54\": {\"54\": 24}, \"28\": {\"28\": 24}, \"20\": {\"20\": 24}, \"38\": {\"38\": 24}, \"24\": {\"24\": 24}, \"32\": {\"32\": 24}, \"25\": {\"25\": 23, \"18\": 1}, \"36\": {\"36\": 24}, \"1\": {\"1\": 24}, \"52\": {\"52\": 24}, \"49\": {\"49\": 24}, \"22\": {\"22\": 23, \"21\": 1}, \"31\": {\"31\": 24}, \"9\": {\"9\": 23, \"53\": 1}, \"39\": {\"39\": 24}, \"15\": {\"15\": 24}, \"41\": {\"41\": 24}, \"55\": {\"55\": 24}, \"12\": {\"12\": 24}, \"50\": {\"50\": 24}, \"56\": {\"56\": 24}, \"5\": {\"5\": 24}, \"16\": {\"16\": 24}, \"13\": {\"13\": 24}, \"3\": {\"3\": 22, \"44\": 2}, \"2\": {\"2\": 24}, \"10\": {\"10\": 24}, \"35\": {\"35\": 24}, \"29\": {\"29\": 24}}, \"3\": {\"1\": {\"1\": 16}, \"28\": {\"28\": 15, \"16\": 1}, \"21\": {\"21\": 13, \"50\": 3}, \"27\": {\"27\": 16}, \"20\": {\"20\": 16}, \"16\": {\"16\": 16}, \"48\": {\"41\": 3, \"48\": 13}, \"42\": {\"42\": 16}, \"45\": {\"45\": 16}, \"41\": {\"41\": 16}, \"13\": {\"13\": 16}, \"50\": {\"21\": 1, \"50\": 14, \"30\": 1}, \"32\": {\"32\": 16}, \"51\": {\"51\": 16}, \"30\": {\"30\": 16}, \"38\": {\"38\": 16}, \"7\": {\"7\": 16}, \"22\": {\"22\": 16}, \"37\": {\"37\": 16}, \"33\": {\"33\": 16}, \"6\": {\"6\": 16}, \"14\": {\"14\": 16}, \"40\": {\"40\": 16}, \"55\": {\"55\": 15, \"49\": 1}, \"2\": {\"2\": 16}, \"39\": {\"39\": 16}, \"56\": {\"56\": 16}, \"17\": {\"17\": 16}, \"10\": {\"10\": 16}, \"9\": {\"9\": 16}, \"31\": {\"31\": 16}, \"12\": {\"12\": 14, \"45\": 2}, \"25\": {\"25\": 16}, \"0\": {\"0\": 16}, \"47\": {\"47\": 16}, \"44\": {\"44\": 16}, \"23\": {\"23\": 16}, \"15\": {\"15\": 16}, \"8\": {\"8\": 16}, \"54\": {\"54\": 16}, \"52\": {\"52\": 16}, \"29\": {\"29\": 15, \"57\": 1}, \"5\": {\"5\": 16}, \"34\": {\"34\": 16}, \"35\": {\"35\": 16}, \"26\": {\"26\": 16}, \"57\": {\"57\": 16}, \"53\": {\"53\": 16}, \"36\": {\"36\": 16}, \"18\": {\"18\": 16}, \"49\": {\"49\": 15, \"1\": 1}, \"3\": {\"3\": 16}, \"4\": {\"4\": 15, \"20\": 1}, \"24\": {\"24\": 16}, \"11\": {\"11\": 15, \"15\": 1}, \"19\": {\"19\": 16}, \"43\": {\"43\": 16}, \"46\": {\"46\": 16}}, \"4\": {\"9\": {\"9\": 16}, \"4\": {\"4\": 16}, \"20\": {\"20\": 16}, \"26\": {\"26\": 15, \"23\": 1}, \"19\": {\"19\": 15, \"55\": 1}, \"35\": {\"35\": 16}, \"14\": {\"57\": 4, \"1\": 1, \"14\": 7, \"2\": 4}, \"10\": {\"10\": 16}, \"1\": {\"1\": 16}, \"3\": {\"3\": 16}, \"29\": {\"29\": 16}, \"47\": {\"47\": 16}, \"50\": {\"50\": 15, \"3\": 1}, \"51\": {\"51\": 16}, \"55\": {\"55\": 16}, \"27\": {\"27\": 16}, \"31\": {\"31\": 15, \"10\": 1}, \"30\": {\"30\": 15, \"21\": 1}, \"37\": {\"37\": 15, \"14\": 1}, \"36\": {\"36\": 15, \"23\": 1}, \"48\": {\"48\": 16}, \"46\": {\"46\": 16}, \"25\": {\"25\": 16}, \"53\": {\"53\": 16}, \"0\": {\"0\": 16}, \"8\": {\"8\": 16}, \"15\": {\"15\": 15, \"11\": 1}, \"22\": {\"22\": 16}, \"45\": {\"45\": 15, \"50\": 1}, \"43\": {\"43\": 16}, \"12\": {\"12\": 16}, \"24\": {\"24\": 15, \"32\": 1}, \"11\": {\"11\": 14, \"15\": 2}, \"44\": {\"44\": 16}, \"5\": {\"5\": 16}, \"6\": {\"6\": 16}, \"49\": {\"49\": 16}, \"2\": {\"2\": 16}, \"18\": {\"18\": 16}, \"54\": {\"54\": 16}, \"41\": {\"41\": 15, \"39\": 1}, \"38\": {\"38\": 16}, \"34\": {\"34\": 14, \"23\": 2}, \"21\": {\"21\": 15, \"30\": 1}, \"57\": {\"57\": 16}, \"33\": {\"33\": 16}, \"17\": {\"17\": 16}, \"40\": {\"40\": 16}, \"28\": {\"28\": 11, \"18\": 1, \"34\": 4}, \"16\": {\"16\": 16}, \"56\": {\"56\": 16}, \"39\": {\"39\": 16}, \"13\": {\"13\": 16}, \"23\": {\"23\": 16}, \"7\": {\"7\": 10, \"32\": 2, \"49\": 4}, \"52\": {\"52\": 16}, \"42\": {\"42\": 16}, \"32\": {\"49\": 3, \"32\": 10, \"7\": 3}}, \"2\": {\"28\": {\"28\": 20}, \"14\": {\"14\": 20}, \"54\": {\"54\": 20}, \"34\": {\"34\": 20}, \"57\": {\"57\": 20}, \"45\": {\"45\": 18, \"12\": 1, \"6\": 1}, \"44\": {\"44\": 20}, \"33\": {\"33\": 20}, \"35\": {\"35\": 20}, \"46\": {\"46\": 20}, \"9\": {\"9\": 20}, \"5\": {\"5\": 20}, \"13\": {\"13\": 20}, \"21\": {\"21\": 19, \"46\": 1}, \"18\": {\"18\": 20}, \"1\": {\"1\": 18, \"47\": 2}, \"20\": {\"20\": 20}, \"42\": {\"42\": 19, \"7\": 1}, \"24\": {\"24\": 20}, \"47\": {\"47\": 18, \"1\": 2}, \"10\": {\"10\": 20}, \"2\": {\"2\": 19, \"37\": 1}, \"27\": {\"27\": 20}, \"4\": {\"4\": 20}, \"3\": {\"3\": 20}, \"41\": {\"41\": 19, \"47\": 1}, \"49\": {\"49\": 20}, \"0\": {\"0\": 20}, \"7\": {\"7\": 19, \"42\": 1}, \"6\": {\"6\": 20}, \"22\": {\"22\": 20}, \"48\": {\"48\": 20}, \"25\": {\"25\": 20}, \"56\": {\"56\": 20}, \"39\": {\"39\": 20}, \"23\": {\"23\": 19, \"54\": 1}, \"37\": {\"37\": 20}, \"11\": {\"11\": 16, \"15\": 4}, \"36\": {\"36\": 19, \"54\": 1}, \"8\": {\"8\": 20}, \"26\": {\"26\": 20}, \"38\": {\"38\": 20}, \"43\": {\"43\": 20}, \"31\": {\"31\": 20}, \"55\": {\"55\": 20}, \"16\": {\"16\": 20}, \"52\": {\"52\": 20}, \"40\": {\"40\": 20}, \"51\": {\"51\": 20}, \"15\": {\"15\": 20}, \"12\": {\"12\": 20}, \"50\": {\"50\": 20}, \"29\": {\"29\": 20}, \"19\": {\"19\": 19, \"15\": 1}, \"17\": {\"17\": 20}, \"30\": {\"30\": 20}, \"32\": {\"32\": 20}, \"53\": {\"53\": 20}}}, \"per_domain_accuracy\": {\"5\": {\"accuracy\": 0.993103448275862, \"source?\": true}, \"1\": {\"accuracy\": 0.9956896551724138, \"source?\": true}, \"3\": {\"accuracy\": 0.9827586206896551, \"source?\": false}, \"4\": {\"accuracy\": 0.9547413793103449, \"source?\": false}, \"2\": {\"accuracy\": 0.9844827586206897, \"source?\": false}}}, \"history\": {\"epoch_indices\": [1, 2, 3, 4, 5], \"train_label_loss\": [0.6618217712698075, 0.035769159138465345, 0.022309506267237548, 0.019028591001421236, 0.02245436750915057], \"source_val_label_loss\": [0.06505835056304932, 0.0213518887758255, 0.01619068719446659, 0.007867485284805298, 0.011291210539638996], \"target_val_label_loss\": [0.17317482829093933, 0.11080538481473923, 0.08651192486286163, 0.07913240045309067, 0.10027218610048294], \"source_val_acc_label\": [0.9945141065830722, 0.9921630094043887, 0.9941222570532915, 0.9980407523510971, 0.9949059561128527], \"target_val_acc_label\": [0.9748010610079576, 0.9638594164456233, 0.9714854111405835, 0.9738063660477454, 0.9648541114058355]}, \"dataset_metrics\": {\"source\": {\"train\": {\"n_unique_x\": 33071, \"n_unique_y\": 58, \"n_batch/episode\": 156}, \"val\": {\"n_unique_x\": 5343, \"n_unique_y\": 58, \"n_batch/episode\": 22}, \"test\": {\"n_unique_x\": 5364, \"n_unique_y\": 58, \"n_batch/episode\": 22}}, \"target\": {\"train\": {\"n_unique_x\": 42756, \"n_unique_y\": 58, \"n_batch/episode\": 195}, \"val\": {\"n_unique_x\": 6509, \"n_unique_y\": 58, \"n_batch/episode\": 26}, \"test\": {\"n_unique_x\": 6958, \"n_unique_y\": 58, \"n_batch/episode\": 28}}}}'"
      ]
     },
     "execution_count": 20,
     "metadata": {},
     "output_type": "execute_result"
    }
   ],
   "source": [
    "json.dumps(experiment)"
   ]
  }
 ],
 "metadata": {
  "celltoolbar": "Tags",
  "kernelspec": {
   "display_name": "Python 3 (ipykernel)",
   "language": "python",
   "name": "python3"
  },
  "language_info": {
   "codemirror_mode": {
    "name": "ipython",
    "version": 3
   },
   "file_extension": ".py",
   "mimetype": "text/x-python",
   "name": "python",
   "nbconvert_exporter": "python",
   "pygments_lexer": "ipython3",
   "version": "3.8.10"
  },
  "papermill": {
   "default_parameters": {},
   "duration": 78.967235,
   "end_time": "2022-03-22T15:57:21.216895",
   "environment_variables": {},
   "exception": null,
   "input_path": "/mnt/wd500GB/CSC500/csc500-main/csc500-notebooks/templates/ptn_template.ipynb",
   "output_path": "trial.ipynb",
   "parameters": {
    "parameters": {
     "BEST_MODEL_PATH": "./best_model.pth",
     "NUM_LOGS_PER_EPOCH": 10,
     "criteria_for_best": "target_accuracy",
     "dataset_seed": 1337,
     "device": "cuda",
     "domains_source": [
      1,
      5
     ],
     "domains_target": [
      2,
      3,
      4
     ],
     "episode_transforms_source": [],
     "episode_transforms_target": [],
     "experiment_name": "tuned_1v2:cores",
     "labels_source": [
      "1-10.",
      "1-11.",
      "1-15.",
      "1-16.",
      "1-17.",
      "1-18.",
      "1-19.",
      "10-4.",
      "10-7.",
      "11-1.",
      "11-14.",
      "11-17.",
      "11-20.",
      "11-7.",
      "13-20.",
      "13-8.",
      "14-10.",
      "14-11.",
      "14-14.",
      "14-7.",
      "15-1.",
      "15-20.",
      "16-1.",
      "16-16.",
      "17-10.",
      "17-11.",
      "17-2.",
      "19-1.",
      "19-16.",
      "19-19.",
      "19-20.",
      "19-3.",
      "2-10.",
      "2-11.",
      "2-17.",
      "2-18.",
      "2-20.",
      "2-3.",
      "2-4.",
      "2-5.",
      "2-6.",
      "2-7.",
      "2-8.",
      "3-13.",
      "3-18.",
      "3-3.",
      "4-1.",
      "4-10.",
      "4-11.",
      "4-19.",
      "5-5.",
      "6-15.",
      "7-10.",
      "7-14.",
      "8-18.",
      "8-20.",
      "8-3.",
      "8-8."
     ],
     "labels_target": [
      "1-10.",
      "1-11.",
      "1-15.",
      "1-16.",
      "1-17.",
      "1-18.",
      "1-19.",
      "10-4.",
      "10-7.",
      "11-1.",
      "11-14.",
      "11-17.",
      "11-20.",
      "11-7.",
      "13-20.",
      "13-8.",
      "14-10.",
      "14-11.",
      "14-14.",
      "14-7.",
      "15-1.",
      "15-20.",
      "16-1.",
      "16-16.",
      "17-10.",
      "17-11.",
      "17-2.",
      "19-1.",
      "19-16.",
      "19-19.",
      "19-20.",
      "19-3.",
      "2-10.",
      "2-11.",
      "2-17.",
      "2-18.",
      "2-20.",
      "2-3.",
      "2-4.",
      "2-5.",
      "2-6.",
      "2-7.",
      "2-8.",
      "3-13.",
      "3-18.",
      "3-3.",
      "4-1.",
      "4-10.",
      "4-11.",
      "4-19.",
      "5-5.",
      "6-15.",
      "7-10.",
      "7-14.",
      "8-18.",
      "8-20.",
      "8-3.",
      "8-8."
     ],
     "lr": 0.0001,
     "n_epoch": 50,
     "n_query": 2,
     "n_shot": 3,
     "n_way": 58,
     "num_examples_per_domain_per_label_source": -1,
     "num_examples_per_domain_per_label_target": -1,
     "patience": 3,
     "pickle_name": "cores.stratified_ds.2022A.pkl",
     "seed": 1337,
     "test_k_factor": 2,
     "torch_default_dtype": "torch.float32",
     "train_k_factor": 3,
     "val_k_factor": 2,
     "x_net": [
      {
       "class": "nnReshape",
       "kargs": {
        "shape": [
         -1,
         1,
         2,
         256
        ]
       }
      },
      {
       "class": "Conv2d",
       "kargs": {
        "bias": false,
        "in_channels": 1,
        "kernel_size": [
         1,
         7
        ],
        "out_channels": 256,
        "padding": [
         0,
         3
        ]
       }
      },
      {
       "class": "ReLU",
       "kargs": {
        "inplace": true
       }
      },
      {
       "class": "BatchNorm2d",
       "kargs": {
        "num_features": 256
       }
      },
      {
       "class": "Conv2d",
       "kargs": {
        "bias": true,
        "in_channels": 256,
        "kernel_size": [
         2,
         7
        ],
        "out_channels": 80,
        "padding": [
         0,
         3
        ]
       }
      },
      {
       "class": "ReLU",
       "kargs": {
        "inplace": true
       }
      },
      {
       "class": "BatchNorm2d",
       "kargs": {
        "num_features": 80
       }
      },
      {
       "class": "Flatten",
       "kargs": {}
      },
      {
       "class": "Linear",
       "kargs": {
        "in_features": 20480,
        "out_features": 256
       }
      },
      {
       "class": "ReLU",
       "kargs": {
        "inplace": true
       }
      },
      {
       "class": "BatchNorm1d",
       "kargs": {
        "num_features": 256
       }
      },
      {
       "class": "Linear",
       "kargs": {
        "in_features": 256,
        "out_features": 256
       }
      }
     ],
     "x_transforms_source": [],
     "x_transforms_target": []
    }
   },
   "start_time": "2022-03-22T15:56:02.249660",
   "version": "2.3.4"
  }
 },
 "nbformat": 4,
 "nbformat_minor": 5
}