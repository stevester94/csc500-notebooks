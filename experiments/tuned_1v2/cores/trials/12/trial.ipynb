{
 "cells": [
  {
   "cell_type": "markdown",
   "id": "9fea5f46",
   "metadata": {
    "papermill": {
     "duration": 0.013781,
     "end_time": "2022-03-22T16:22:47.498003",
     "exception": false,
     "start_time": "2022-03-22T16:22:47.484222",
     "status": "completed"
    },
    "tags": []
   },
   "source": [
    "# PTN Template\n",
    "This notebook serves as a template for single dataset PTN experiments  \n",
    "It can be run on its own by setting STANDALONE to True (do a find for \"STANDALONE\" to see where)  \n",
    "But it is intended to be executed as part of a *papermill.py script. See any of the   \n",
    "experimentes with a papermill script to get started with that workflow.  "
   ]
  },
  {
   "cell_type": "code",
   "execution_count": 1,
   "id": "0902182a",
   "metadata": {
    "execution": {
     "iopub.execute_input": "2022-03-22T16:22:47.531523Z",
     "iopub.status.busy": "2022-03-22T16:22:47.529957Z",
     "iopub.status.idle": "2022-03-22T16:22:48.504157Z",
     "shell.execute_reply": "2022-03-22T16:22:48.503656Z"
    },
    "papermill": {
     "duration": 0.996251,
     "end_time": "2022-03-22T16:22:48.504268",
     "exception": false,
     "start_time": "2022-03-22T16:22:47.508017",
     "status": "completed"
    },
    "tags": []
   },
   "outputs": [],
   "source": [
    "%load_ext autoreload\n",
    "%autoreload 2\n",
    "%matplotlib inline\n",
    "\n",
    "    \n",
    "import os, json, sys, time, random\n",
    "import numpy as np\n",
    "import torch\n",
    "from torch.optim import Adam\n",
    "from  easydict import EasyDict\n",
    "import matplotlib.pyplot as plt\n",
    "\n",
    "from steves_models.steves_ptn import Steves_Prototypical_Network\n",
    "\n",
    "from steves_utils.lazy_iterable_wrapper import Lazy_Iterable_Wrapper\n",
    "from steves_utils.iterable_aggregator import Iterable_Aggregator\n",
    "from steves_utils.ptn_train_eval_test_jig import  PTN_Train_Eval_Test_Jig\n",
    "from steves_utils.torch_sequential_builder import build_sequential\n",
    "from steves_utils.torch_utils import get_dataset_metrics, ptn_confusion_by_domain_over_dataloader\n",
    "from steves_utils.utils_v2 import (per_domain_accuracy_from_confusion, get_datasets_base_path)\n",
    "from steves_utils.PTN.utils import independent_accuracy_assesment\n",
    "\n",
    "from steves_utils.stratified_dataset.episodic_accessor import Episodic_Accessor_Factory\n",
    "\n",
    "from steves_utils.ptn_do_report import (\n",
    "    get_loss_curve,\n",
    "    get_results_table,\n",
    "    get_parameters_table,\n",
    "    get_domain_accuracies,\n",
    ")\n",
    "\n",
    "from steves_utils.transforms import get_chained_transform"
   ]
  },
  {
   "cell_type": "markdown",
   "id": "41c840b4",
   "metadata": {
    "papermill": {
     "duration": 0.009214,
     "end_time": "2022-03-22T16:22:48.526392",
     "exception": false,
     "start_time": "2022-03-22T16:22:48.517178",
     "status": "completed"
    },
    "tags": []
   },
   "source": [
    "# Required Parameters\n",
    "These are allowed parameters, not defaults\n",
    "Each of these values need to be present in the injected parameters (the notebook will raise an exception if they are not present)\n",
    "\n",
    "Papermill uses the cell tag \"parameters\" to inject the real parameters below this cell.\n",
    "Enable tags to see what I mean"
   ]
  },
  {
   "cell_type": "code",
   "execution_count": 2,
   "id": "fd44eb83",
   "metadata": {
    "execution": {
     "iopub.execute_input": "2022-03-22T16:22:48.548458Z",
     "iopub.status.busy": "2022-03-22T16:22:48.546423Z",
     "iopub.status.idle": "2022-03-22T16:22:48.562718Z",
     "shell.execute_reply": "2022-03-22T16:22:48.562278Z"
    },
    "papermill": {
     "duration": 0.027064,
     "end_time": "2022-03-22T16:22:48.562808",
     "exception": false,
     "start_time": "2022-03-22T16:22:48.535744",
     "status": "completed"
    },
    "tags": []
   },
   "outputs": [],
   "source": [
    "required_parameters = {\n",
    "    \"experiment_name\",\n",
    "    \"lr\",\n",
    "    \"device\",\n",
    "    \"seed\",\n",
    "    \"dataset_seed\",\n",
    "    \"labels_source\",\n",
    "    \"labels_target\",\n",
    "    \"domains_source\",\n",
    "    \"domains_target\",\n",
    "    \"num_examples_per_domain_per_label_source\",\n",
    "    \"num_examples_per_domain_per_label_target\",\n",
    "    \"n_shot\",\n",
    "    \"n_way\",\n",
    "    \"n_query\",\n",
    "    \"train_k_factor\",\n",
    "    \"val_k_factor\",\n",
    "    \"test_k_factor\",\n",
    "    \"n_epoch\",\n",
    "    \"patience\",\n",
    "    \"criteria_for_best\",\n",
    "    \"x_transforms_source\",\n",
    "    \"x_transforms_target\",\n",
    "    \"episode_transforms_source\",\n",
    "    \"episode_transforms_target\",\n",
    "    \"pickle_name\",\n",
    "    \"x_net\",\n",
    "    \"NUM_LOGS_PER_EPOCH\",\n",
    "    \"BEST_MODEL_PATH\",\n",
    "    \"torch_default_dtype\"\n",
    "}"
   ]
  },
  {
   "cell_type": "code",
   "execution_count": 3,
   "id": "fa3f0049",
   "metadata": {
    "execution": {
     "iopub.execute_input": "2022-03-22T16:22:48.592865Z",
     "iopub.status.busy": "2022-03-22T16:22:48.592250Z",
     "iopub.status.idle": "2022-03-22T16:22:48.606145Z",
     "shell.execute_reply": "2022-03-22T16:22:48.605780Z"
    },
    "papermill": {
     "duration": 0.03188,
     "end_time": "2022-03-22T16:22:48.606235",
     "exception": false,
     "start_time": "2022-03-22T16:22:48.574355",
     "status": "completed"
    },
    "tags": [
     "parameters"
    ]
   },
   "outputs": [],
   "source": [
    "\n",
    "\n",
    "standalone_parameters = {}\n",
    "standalone_parameters[\"experiment_name\"] = \"STANDALONE PTN\"\n",
    "standalone_parameters[\"lr\"] = 0.0001\n",
    "standalone_parameters[\"device\"] = \"cuda\"\n",
    "\n",
    "standalone_parameters[\"seed\"] = 1337\n",
    "standalone_parameters[\"dataset_seed\"] = 1337\n",
    "\n",
    "\n",
    "standalone_parameters[\"num_examples_per_domain_per_label_source\"]=100\n",
    "standalone_parameters[\"num_examples_per_domain_per_label_target\"]=100\n",
    "\n",
    "standalone_parameters[\"n_shot\"] = 3\n",
    "standalone_parameters[\"n_query\"]  = 2\n",
    "standalone_parameters[\"train_k_factor\"] = 1\n",
    "standalone_parameters[\"val_k_factor\"] = 2\n",
    "standalone_parameters[\"test_k_factor\"] = 2\n",
    "\n",
    "\n",
    "standalone_parameters[\"n_epoch\"] = 100\n",
    "\n",
    "standalone_parameters[\"patience\"] = 10\n",
    "standalone_parameters[\"criteria_for_best\"] = \"target_accuracy\"\n",
    "\n",
    "standalone_parameters[\"x_transforms_source\"] = [\"unit_power\"]\n",
    "standalone_parameters[\"x_transforms_target\"] = [\"unit_power\"]\n",
    "standalone_parameters[\"episode_transforms_source\"] = []\n",
    "standalone_parameters[\"episode_transforms_target\"] = []\n",
    "\n",
    "standalone_parameters[\"torch_default_dtype\"] = \"torch.float32\" \n",
    "\n",
    "\n",
    "\n",
    "standalone_parameters[\"x_net\"] =     [\n",
    "    {\"class\": \"nnReshape\", \"kargs\": {\"shape\":[-1, 1, 2, 256]}},\n",
    "    {\"class\": \"Conv2d\", \"kargs\": { \"in_channels\":1, \"out_channels\":256, \"kernel_size\":(1,7), \"bias\":False, \"padding\":(0,3), },},\n",
    "    {\"class\": \"ReLU\", \"kargs\": {\"inplace\": True}},\n",
    "    {\"class\": \"BatchNorm2d\", \"kargs\": {\"num_features\":256}},\n",
    "\n",
    "    {\"class\": \"Conv2d\", \"kargs\": { \"in_channels\":256, \"out_channels\":80, \"kernel_size\":(2,7), \"bias\":True, \"padding\":(0,3), },},\n",
    "    {\"class\": \"ReLU\", \"kargs\": {\"inplace\": True}},\n",
    "    {\"class\": \"BatchNorm2d\", \"kargs\": {\"num_features\":80}},\n",
    "    {\"class\": \"Flatten\", \"kargs\": {}},\n",
    "\n",
    "    {\"class\": \"Linear\", \"kargs\": {\"in_features\": 80*256, \"out_features\": 256}}, # 80 units per IQ pair\n",
    "    {\"class\": \"ReLU\", \"kargs\": {\"inplace\": True}},\n",
    "    {\"class\": \"BatchNorm1d\", \"kargs\": {\"num_features\":256}},\n",
    "\n",
    "    {\"class\": \"Linear\", \"kargs\": {\"in_features\": 256, \"out_features\": 256}},\n",
    "]\n",
    "\n",
    "# Parameters relevant to results\n",
    "# These parameters will basically never need to change\n",
    "standalone_parameters[\"NUM_LOGS_PER_EPOCH\"] = 10\n",
    "standalone_parameters[\"BEST_MODEL_PATH\"] = \"./best_model.pth\"\n",
    "\n",
    "# uncomment for CORES dataset\n",
    "from steves_utils.CORES.utils import (\n",
    "    ALL_NODES,\n",
    "    ALL_NODES_MINIMUM_1000_EXAMPLES,\n",
    "    ALL_DAYS\n",
    ")\n",
    "\n",
    "\n",
    "standalone_parameters[\"labels_source\"] = ALL_NODES\n",
    "standalone_parameters[\"labels_target\"] = ALL_NODES\n",
    "\n",
    "standalone_parameters[\"domains_source\"] = [1]\n",
    "standalone_parameters[\"domains_target\"] = [2,3,4,5]\n",
    "\n",
    "standalone_parameters[\"pickle_name\"] = \"cores.stratified_ds.2022A.pkl\"\n",
    "\n",
    "\n",
    "# Uncomment these for ORACLE dataset\n",
    "# from steves_utils.ORACLE.utils_v2 import (\n",
    "#     ALL_DISTANCES_FEET,\n",
    "#     ALL_RUNS,\n",
    "#     ALL_SERIAL_NUMBERS,\n",
    "# )\n",
    "# standalone_parameters[\"labels_source\"] = ALL_SERIAL_NUMBERS\n",
    "# standalone_parameters[\"labels_target\"] = ALL_SERIAL_NUMBERS\n",
    "# standalone_parameters[\"domains_source\"] = [8,20, 38,50]\n",
    "# standalone_parameters[\"domains_target\"] = [14, 26, 32, 44, 56]\n",
    "# standalone_parameters[\"pickle_name\"] = \"oracle.frame_indexed.stratified_ds.2022A.pkl\"\n",
    "# standalone_parameters[\"num_examples_per_domain_per_label_source\"]=1000\n",
    "# standalone_parameters[\"num_examples_per_domain_per_label_target\"]=1000\n",
    "\n",
    "# Uncomment these for Metahan dataset\n",
    "# standalone_parameters[\"labels_source\"] = list(range(19))\n",
    "# standalone_parameters[\"labels_target\"] = list(range(19))\n",
    "# standalone_parameters[\"domains_source\"] = [0]\n",
    "# standalone_parameters[\"domains_target\"] = [1]\n",
    "# standalone_parameters[\"pickle_name\"] = \"metehan.stratified_ds.2022A.pkl\"\n",
    "# standalone_parameters[\"n_way\"]  = len(standalone_parameters[\"labels_source\"])\n",
    "# standalone_parameters[\"num_examples_per_domain_per_label_source\"]=200\n",
    "# standalone_parameters[\"num_examples_per_domain_per_label_target\"]=100\n",
    "\n",
    "\n",
    "standalone_parameters[\"n_way\"]  = len(standalone_parameters[\"labels_source\"])"
   ]
  },
  {
   "cell_type": "code",
   "execution_count": 4,
   "id": "c6f215a4",
   "metadata": {
    "execution": {
     "iopub.execute_input": "2022-03-22T16:22:48.641913Z",
     "iopub.status.busy": "2022-03-22T16:22:48.639519Z",
     "iopub.status.idle": "2022-03-22T16:22:48.651909Z",
     "shell.execute_reply": "2022-03-22T16:22:48.651482Z"
    },
    "papermill": {
     "duration": 0.031968,
     "end_time": "2022-03-22T16:22:48.652012",
     "exception": false,
     "start_time": "2022-03-22T16:22:48.620044",
     "status": "completed"
    },
    "tags": [
     "injected-parameters"
    ]
   },
   "outputs": [],
   "source": [
    "# Parameters\n",
    "parameters = {\n",
    "    \"experiment_name\": \"tuned_1v2:cores\",\n",
    "    \"device\": \"cuda\",\n",
    "    \"lr\": 0.0001,\n",
    "    \"labels_source\": [\n",
    "        \"1-10.\",\n",
    "        \"1-11.\",\n",
    "        \"1-15.\",\n",
    "        \"1-16.\",\n",
    "        \"1-17.\",\n",
    "        \"1-18.\",\n",
    "        \"1-19.\",\n",
    "        \"10-4.\",\n",
    "        \"10-7.\",\n",
    "        \"11-1.\",\n",
    "        \"11-14.\",\n",
    "        \"11-17.\",\n",
    "        \"11-20.\",\n",
    "        \"11-7.\",\n",
    "        \"13-20.\",\n",
    "        \"13-8.\",\n",
    "        \"14-10.\",\n",
    "        \"14-11.\",\n",
    "        \"14-14.\",\n",
    "        \"14-7.\",\n",
    "        \"15-1.\",\n",
    "        \"15-20.\",\n",
    "        \"16-1.\",\n",
    "        \"16-16.\",\n",
    "        \"17-10.\",\n",
    "        \"17-11.\",\n",
    "        \"17-2.\",\n",
    "        \"19-1.\",\n",
    "        \"19-16.\",\n",
    "        \"19-19.\",\n",
    "        \"19-20.\",\n",
    "        \"19-3.\",\n",
    "        \"2-10.\",\n",
    "        \"2-11.\",\n",
    "        \"2-17.\",\n",
    "        \"2-18.\",\n",
    "        \"2-20.\",\n",
    "        \"2-3.\",\n",
    "        \"2-4.\",\n",
    "        \"2-5.\",\n",
    "        \"2-6.\",\n",
    "        \"2-7.\",\n",
    "        \"2-8.\",\n",
    "        \"3-13.\",\n",
    "        \"3-18.\",\n",
    "        \"3-3.\",\n",
    "        \"4-1.\",\n",
    "        \"4-10.\",\n",
    "        \"4-11.\",\n",
    "        \"4-19.\",\n",
    "        \"5-5.\",\n",
    "        \"6-15.\",\n",
    "        \"7-10.\",\n",
    "        \"7-14.\",\n",
    "        \"8-18.\",\n",
    "        \"8-20.\",\n",
    "        \"8-3.\",\n",
    "        \"8-8.\",\n",
    "    ],\n",
    "    \"labels_target\": [\n",
    "        \"1-10.\",\n",
    "        \"1-11.\",\n",
    "        \"1-15.\",\n",
    "        \"1-16.\",\n",
    "        \"1-17.\",\n",
    "        \"1-18.\",\n",
    "        \"1-19.\",\n",
    "        \"10-4.\",\n",
    "        \"10-7.\",\n",
    "        \"11-1.\",\n",
    "        \"11-14.\",\n",
    "        \"11-17.\",\n",
    "        \"11-20.\",\n",
    "        \"11-7.\",\n",
    "        \"13-20.\",\n",
    "        \"13-8.\",\n",
    "        \"14-10.\",\n",
    "        \"14-11.\",\n",
    "        \"14-14.\",\n",
    "        \"14-7.\",\n",
    "        \"15-1.\",\n",
    "        \"15-20.\",\n",
    "        \"16-1.\",\n",
    "        \"16-16.\",\n",
    "        \"17-10.\",\n",
    "        \"17-11.\",\n",
    "        \"17-2.\",\n",
    "        \"19-1.\",\n",
    "        \"19-16.\",\n",
    "        \"19-19.\",\n",
    "        \"19-20.\",\n",
    "        \"19-3.\",\n",
    "        \"2-10.\",\n",
    "        \"2-11.\",\n",
    "        \"2-17.\",\n",
    "        \"2-18.\",\n",
    "        \"2-20.\",\n",
    "        \"2-3.\",\n",
    "        \"2-4.\",\n",
    "        \"2-5.\",\n",
    "        \"2-6.\",\n",
    "        \"2-7.\",\n",
    "        \"2-8.\",\n",
    "        \"3-13.\",\n",
    "        \"3-18.\",\n",
    "        \"3-3.\",\n",
    "        \"4-1.\",\n",
    "        \"4-10.\",\n",
    "        \"4-11.\",\n",
    "        \"4-19.\",\n",
    "        \"5-5.\",\n",
    "        \"6-15.\",\n",
    "        \"7-10.\",\n",
    "        \"7-14.\",\n",
    "        \"8-18.\",\n",
    "        \"8-20.\",\n",
    "        \"8-3.\",\n",
    "        \"8-8.\",\n",
    "    ],\n",
    "    \"episode_transforms_source\": [],\n",
    "    \"episode_transforms_target\": [],\n",
    "    \"domains_source\": [1, 5],\n",
    "    \"domains_target\": [2, 3, 4],\n",
    "    \"num_examples_per_domain_per_label_source\": -1,\n",
    "    \"num_examples_per_domain_per_label_target\": -1,\n",
    "    \"n_shot\": 3,\n",
    "    \"n_way\": 58,\n",
    "    \"n_query\": 2,\n",
    "    \"train_k_factor\": 3,\n",
    "    \"val_k_factor\": 2,\n",
    "    \"test_k_factor\": 2,\n",
    "    \"torch_default_dtype\": \"torch.float32\",\n",
    "    \"n_epoch\": 50,\n",
    "    \"patience\": 3,\n",
    "    \"criteria_for_best\": \"target_accuracy\",\n",
    "    \"x_net\": [\n",
    "        {\"class\": \"nnReshape\", \"kargs\": {\"shape\": [-1, 1, 2, 256]}},\n",
    "        {\n",
    "            \"class\": \"Conv2d\",\n",
    "            \"kargs\": {\n",
    "                \"in_channels\": 1,\n",
    "                \"out_channels\": 256,\n",
    "                \"kernel_size\": [1, 7],\n",
    "                \"bias\": False,\n",
    "                \"padding\": [0, 3],\n",
    "            },\n",
    "        },\n",
    "        {\"class\": \"ReLU\", \"kargs\": {\"inplace\": True}},\n",
    "        {\"class\": \"BatchNorm2d\", \"kargs\": {\"num_features\": 256}},\n",
    "        {\n",
    "            \"class\": \"Conv2d\",\n",
    "            \"kargs\": {\n",
    "                \"in_channels\": 256,\n",
    "                \"out_channels\": 80,\n",
    "                \"kernel_size\": [2, 7],\n",
    "                \"bias\": True,\n",
    "                \"padding\": [0, 3],\n",
    "            },\n",
    "        },\n",
    "        {\"class\": \"ReLU\", \"kargs\": {\"inplace\": True}},\n",
    "        {\"class\": \"BatchNorm2d\", \"kargs\": {\"num_features\": 80}},\n",
    "        {\"class\": \"Flatten\", \"kargs\": {}},\n",
    "        {\"class\": \"Linear\", \"kargs\": {\"in_features\": 20480, \"out_features\": 256}},\n",
    "        {\"class\": \"ReLU\", \"kargs\": {\"inplace\": True}},\n",
    "        {\"class\": \"BatchNorm1d\", \"kargs\": {\"num_features\": 256}},\n",
    "        {\"class\": \"Linear\", \"kargs\": {\"in_features\": 256, \"out_features\": 256}},\n",
    "    ],\n",
    "    \"NUM_LOGS_PER_EPOCH\": 10,\n",
    "    \"BEST_MODEL_PATH\": \"./best_model.pth\",\n",
    "    \"pickle_name\": \"cores.stratified_ds.2022A.pkl\",\n",
    "    \"x_transforms_source\": [\"unit_power\"],\n",
    "    \"x_transforms_target\": [\"unit_power\"],\n",
    "    \"dataset_seed\": 7,\n",
    "    \"seed\": 7,\n",
    "}\n"
   ]
  },
  {
   "cell_type": "code",
   "execution_count": 5,
   "id": "8fa1cc33",
   "metadata": {
    "execution": {
     "iopub.execute_input": "2022-03-22T16:22:48.680758Z",
     "iopub.status.busy": "2022-03-22T16:22:48.679109Z",
     "iopub.status.idle": "2022-03-22T16:22:48.692204Z",
     "shell.execute_reply": "2022-03-22T16:22:48.691798Z"
    },
    "papermill": {
     "duration": 0.026622,
     "end_time": "2022-03-22T16:22:48.692304",
     "exception": false,
     "start_time": "2022-03-22T16:22:48.665682",
     "status": "completed"
    },
    "tags": []
   },
   "outputs": [],
   "source": [
    "# Set this to True if you want to run this template directly\n",
    "STANDALONE = False\n",
    "if STANDALONE:\n",
    "    print(\"parameters not injected, running with standalone_parameters\")\n",
    "    parameters = standalone_parameters\n",
    "\n",
    "if not 'parameters' in locals() and not 'parameters' in globals():\n",
    "    raise Exception(\"Parameter injection failed\")\n",
    "\n",
    "#Use an easy dict for all the parameters\n",
    "p = EasyDict(parameters)\n",
    "\n",
    "supplied_keys = set(p.keys())\n",
    "\n",
    "if  supplied_keys != required_parameters:\n",
    "    print(\"Parameters are incorrect\")\n",
    "    if len(supplied_keys - required_parameters)>0: print(\"Shouldn't have:\", str(supplied_keys - required_parameters))\n",
    "    if len(required_parameters - supplied_keys)>0: print(\"Need to have:\", str(required_parameters - supplied_keys))\n",
    "    raise RuntimeError(\"Parameters are incorrect\")\n",
    "\n"
   ]
  },
  {
   "cell_type": "code",
   "execution_count": 6,
   "id": "3a028d58",
   "metadata": {
    "execution": {
     "iopub.execute_input": "2022-03-22T16:22:48.726700Z",
     "iopub.status.busy": "2022-03-22T16:22:48.717671Z",
     "iopub.status.idle": "2022-03-22T16:22:48.734087Z",
     "shell.execute_reply": "2022-03-22T16:22:48.733641Z"
    },
    "papermill": {
     "duration": 0.028267,
     "end_time": "2022-03-22T16:22:48.734186",
     "exception": false,
     "start_time": "2022-03-22T16:22:48.705919",
     "status": "completed"
    },
    "tags": []
   },
   "outputs": [],
   "source": [
    "###################################\n",
    "# Set the RNGs and make it all deterministic\n",
    "###################################\n",
    "np.random.seed(p.seed)\n",
    "random.seed(p.seed)\n",
    "torch.manual_seed(p.seed)\n",
    "\n",
    "torch.use_deterministic_algorithms(True) "
   ]
  },
  {
   "cell_type": "code",
   "execution_count": 7,
   "id": "b691acf6",
   "metadata": {
    "execution": {
     "iopub.execute_input": "2022-03-22T16:22:48.765270Z",
     "iopub.status.busy": "2022-03-22T16:22:48.758468Z",
     "iopub.status.idle": "2022-03-22T16:22:48.773038Z",
     "shell.execute_reply": "2022-03-22T16:22:48.772625Z"
    },
    "papermill": {
     "duration": 0.026156,
     "end_time": "2022-03-22T16:22:48.773132",
     "exception": false,
     "start_time": "2022-03-22T16:22:48.746976",
     "status": "completed"
    },
    "tags": []
   },
   "outputs": [],
   "source": [
    "###########################################\n",
    "# The stratified datasets honor this\n",
    "###########################################\n",
    "torch.set_default_dtype(eval(p.torch_default_dtype))"
   ]
  },
  {
   "cell_type": "code",
   "execution_count": 8,
   "id": "b5fba671",
   "metadata": {
    "execution": {
     "iopub.execute_input": "2022-03-22T16:22:48.807704Z",
     "iopub.status.busy": "2022-03-22T16:22:48.799136Z",
     "iopub.status.idle": "2022-03-22T16:22:48.840364Z",
     "shell.execute_reply": "2022-03-22T16:22:48.839979Z"
    },
    "papermill": {
     "duration": 0.0527,
     "end_time": "2022-03-22T16:22:48.840451",
     "exception": false,
     "start_time": "2022-03-22T16:22:48.787751",
     "status": "completed"
    },
    "tags": []
   },
   "outputs": [],
   "source": [
    "###################################\n",
    "# Build the network(s)\n",
    "# Note: It's critical to do this AFTER setting the RNG\n",
    "# (This is due to the randomized initial weights)\n",
    "###################################\n",
    "x_net = build_sequential(p.x_net)"
   ]
  },
  {
   "cell_type": "code",
   "execution_count": 9,
   "id": "5d7e61cc",
   "metadata": {
    "execution": {
     "iopub.execute_input": "2022-03-22T16:22:48.867901Z",
     "iopub.status.busy": "2022-03-22T16:22:48.867478Z",
     "iopub.status.idle": "2022-03-22T16:22:48.882355Z",
     "shell.execute_reply": "2022-03-22T16:22:48.882006Z"
    },
    "papermill": {
     "duration": 0.027247,
     "end_time": "2022-03-22T16:22:48.882448",
     "exception": false,
     "start_time": "2022-03-22T16:22:48.855201",
     "status": "completed"
    },
    "tags": []
   },
   "outputs": [],
   "source": [
    "start_time_secs = time.time()"
   ]
  },
  {
   "cell_type": "code",
   "execution_count": 10,
   "id": "fd5442bc",
   "metadata": {
    "execution": {
     "iopub.execute_input": "2022-03-22T16:22:48.916594Z",
     "iopub.status.busy": "2022-03-22T16:22:48.915708Z",
     "iopub.status.idle": "2022-03-22T16:23:04.733678Z",
     "shell.execute_reply": "2022-03-22T16:23:04.733176Z"
    },
    "papermill": {
     "duration": 15.837176,
     "end_time": "2022-03-22T16:23:04.733782",
     "exception": false,
     "start_time": "2022-03-22T16:22:48.896606",
     "status": "completed"
    },
    "tags": []
   },
   "outputs": [],
   "source": [
    "###################################\n",
    "# Build the dataset\n",
    "###################################\n",
    "\n",
    "if p.x_transforms_source == []: x_transform_source = None\n",
    "else: x_transform_source = get_chained_transform(p.x_transforms_source) \n",
    "\n",
    "if p.x_transforms_target == []: x_transform_target = None\n",
    "else: x_transform_target = get_chained_transform(p.x_transforms_target)\n",
    "\n",
    "if p.episode_transforms_source == []: episode_transform_source = None\n",
    "else: raise Exception(\"episode_transform_source not implemented\")\n",
    "\n",
    "if p.episode_transforms_target == []: episode_transform_target = None\n",
    "else: raise Exception(\"episode_transform_target not implemented\")\n",
    "\n",
    "\n",
    "eaf_source = Episodic_Accessor_Factory(\n",
    "    labels=p.labels_source,\n",
    "    domains=p.domains_source,\n",
    "    num_examples_per_domain_per_label=p.num_examples_per_domain_per_label_source,\n",
    "    iterator_seed=p.seed,\n",
    "    dataset_seed=p.dataset_seed,\n",
    "    n_shot=p.n_shot,\n",
    "    n_way=p.n_way,\n",
    "    n_query=p.n_query,\n",
    "    train_val_test_k_factors=(p.train_k_factor,p.val_k_factor,p.test_k_factor),\n",
    "    pickle_path=os.path.join(get_datasets_base_path(), p.pickle_name),\n",
    "    x_transform_func=x_transform_source,\n",
    "    example_transform_func=episode_transform_source,\n",
    "    \n",
    ")\n",
    "train_original_source, val_original_source, test_original_source = eaf_source.get_train(), eaf_source.get_val(), eaf_source.get_test()\n",
    "\n",
    "\n",
    "eaf_target = Episodic_Accessor_Factory(\n",
    "    labels=p.labels_target,\n",
    "    domains=p.domains_target,\n",
    "    num_examples_per_domain_per_label=p.num_examples_per_domain_per_label_target,\n",
    "    iterator_seed=p.seed,\n",
    "    dataset_seed=p.dataset_seed,\n",
    "    n_shot=p.n_shot,\n",
    "    n_way=p.n_way,\n",
    "    n_query=p.n_query,\n",
    "    train_val_test_k_factors=(p.train_k_factor,p.val_k_factor,p.test_k_factor),\n",
    "    pickle_path=os.path.join(get_datasets_base_path(), p.pickle_name),\n",
    "    x_transform_func=x_transform_target,\n",
    "    example_transform_func=episode_transform_target,\n",
    ")\n",
    "train_original_target, val_original_target, test_original_target = eaf_target.get_train(), eaf_target.get_val(), eaf_target.get_test()\n",
    "\n",
    "\n",
    "transform_lambda = lambda ex: ex[1] # Original is (<domain>, <episode>) so we strip down to episode only\n",
    "\n",
    "train_processed_source = Lazy_Iterable_Wrapper(train_original_source, transform_lambda)\n",
    "val_processed_source   = Lazy_Iterable_Wrapper(val_original_source, transform_lambda)\n",
    "test_processed_source  = Lazy_Iterable_Wrapper(test_original_source, transform_lambda)\n",
    "\n",
    "train_processed_target = Lazy_Iterable_Wrapper(train_original_target, transform_lambda)\n",
    "val_processed_target   = Lazy_Iterable_Wrapper(val_original_target, transform_lambda)\n",
    "test_processed_target  = Lazy_Iterable_Wrapper(test_original_target, transform_lambda)\n",
    "\n",
    "datasets = EasyDict({\n",
    "    \"source\": {\n",
    "        \"original\": {\"train\":train_original_source, \"val\":val_original_source, \"test\":test_original_source},\n",
    "        \"processed\": {\"train\":train_processed_source, \"val\":val_processed_source, \"test\":test_processed_source}\n",
    "    },\n",
    "    \"target\": {\n",
    "        \"original\": {\"train\":train_original_target, \"val\":val_original_target, \"test\":test_original_target},\n",
    "        \"processed\": {\"train\":train_processed_target, \"val\":val_processed_target, \"test\":test_processed_target}\n",
    "    },\n",
    "})"
   ]
  },
  {
   "cell_type": "code",
   "execution_count": 11,
   "id": "296189d9",
   "metadata": {
    "execution": {
     "iopub.execute_input": "2022-03-22T16:23:04.761656Z",
     "iopub.status.busy": "2022-03-22T16:23:04.761195Z",
     "iopub.status.idle": "2022-03-22T16:23:06.451564Z",
     "shell.execute_reply": "2022-03-22T16:23:06.451112Z"
    },
    "papermill": {
     "duration": 1.702836,
     "end_time": "2022-03-22T16:23:06.451671",
     "exception": false,
     "start_time": "2022-03-22T16:23:04.748835",
     "status": "completed"
    },
    "tags": []
   },
   "outputs": [
    {
     "name": "stdout",
     "output_type": "stream",
     "text": [
      "Visually inspect these to see if they line up with expected values given the transforms\n",
      "x_transforms_source ['unit_power']\n",
      "x_transforms_target ['unit_power']\n",
      "Average magnitude, source: 0.9061623\n",
      "Average power, source: 1.0\n"
     ]
    },
    {
     "name": "stdout",
     "output_type": "stream",
     "text": [
      "Average magnitude, target: 0.91170746\n",
      "Average power, target: 1.0\n"
     ]
    }
   ],
   "source": [
    "# Some quick unit tests on the data\n",
    "from steves_utils.transforms import get_average_power, get_average_magnitude\n",
    "\n",
    "q_x, q_y, s_x, s_y, truth = next(iter(train_processed_source))\n",
    "\n",
    "assert q_x.dtype == eval(p.torch_default_dtype)\n",
    "assert s_x.dtype == eval(p.torch_default_dtype)\n",
    "\n",
    "print(\"Visually inspect these to see if they line up with expected values given the transforms\")\n",
    "print('x_transforms_source', p.x_transforms_source)\n",
    "print('x_transforms_target', p.x_transforms_target)\n",
    "print(\"Average magnitude, source:\", get_average_magnitude(q_x[0].numpy()))\n",
    "print(\"Average power, source:\", get_average_power(q_x[0].numpy()))\n",
    "\n",
    "q_x, q_y, s_x, s_y, truth = next(iter(train_processed_target))\n",
    "print(\"Average magnitude, target:\", get_average_magnitude(q_x[0].numpy()))\n",
    "print(\"Average power, target:\", get_average_power(q_x[0].numpy()))\n"
   ]
  },
  {
   "cell_type": "code",
   "execution_count": 12,
   "id": "bbdacba1",
   "metadata": {
    "execution": {
     "iopub.execute_input": "2022-03-22T16:23:06.481651Z",
     "iopub.status.busy": "2022-03-22T16:23:06.481392Z",
     "iopub.status.idle": "2022-03-22T16:23:06.547362Z",
     "shell.execute_reply": "2022-03-22T16:23:06.546847Z"
    },
    "papermill": {
     "duration": 0.080833,
     "end_time": "2022-03-22T16:23:06.547468",
     "exception": false,
     "start_time": "2022-03-22T16:23:06.466635",
     "status": "completed"
    },
    "tags": []
   },
   "outputs": [
    {
     "name": "stdout",
     "output_type": "stream",
     "text": [
      "(2, 256)\n"
     ]
    }
   ],
   "source": [
    "###################################\n",
    "# Build the model\n",
    "###################################\n",
    "model = Steves_Prototypical_Network(x_net, device=p.device, x_shape=(2,256))\n",
    "optimizer = Adam(params=model.parameters(), lr=p.lr)"
   ]
  },
  {
   "cell_type": "code",
   "execution_count": 13,
   "id": "22b39ac5",
   "metadata": {
    "execution": {
     "iopub.execute_input": "2022-03-22T16:23:06.575767Z",
     "iopub.status.busy": "2022-03-22T16:23:06.575438Z",
     "iopub.status.idle": "2022-03-22T16:25:16.881851Z",
     "shell.execute_reply": "2022-03-22T16:25:16.882228Z"
    },
    "papermill": {
     "duration": 130.319734,
     "end_time": "2022-03-22T16:25:16.882365",
     "exception": false,
     "start_time": "2022-03-22T16:23:06.562631",
     "status": "completed"
    },
    "tags": []
   },
   "outputs": [
    {
     "name": "stdout",
     "output_type": "stream",
     "text": [
      "epoch: 1, [batch: 1 / 156], examples_per_second: 1027.1190, train_label_loss: 3.7449, \n"
     ]
    },
    {
     "name": "stdout",
     "output_type": "stream",
     "text": [
      "epoch: 1, [batch: 16 / 156], examples_per_second: 3855.4824, train_label_loss: 1.9645, \n"
     ]
    },
    {
     "name": "stdout",
     "output_type": "stream",
     "text": [
      "epoch: 1, [batch: 32 / 156], examples_per_second: 3900.9743, train_label_loss: 0.9117, \n"
     ]
    },
    {
     "name": "stdout",
     "output_type": "stream",
     "text": [
      "epoch: 1, [batch: 47 / 156], examples_per_second: 3842.2715, train_label_loss: 0.4247, \n"
     ]
    },
    {
     "name": "stdout",
     "output_type": "stream",
     "text": [
      "epoch: 1, [batch: 63 / 156], examples_per_second: 3949.1831, train_label_loss: 0.3075, \n"
     ]
    },
    {
     "name": "stdout",
     "output_type": "stream",
     "text": [
      "epoch: 1, [batch: 78 / 156], examples_per_second: 3949.1276, train_label_loss: 0.1821, \n"
     ]
    },
    {
     "name": "stdout",
     "output_type": "stream",
     "text": [
      "epoch: 1, [batch: 94 / 156], examples_per_second: 3872.2065, train_label_loss: 0.1453, \n"
     ]
    },
    {
     "name": "stdout",
     "output_type": "stream",
     "text": [
      "epoch: 1, [batch: 109 / 156], examples_per_second: 3947.2113, train_label_loss: 0.0964, \n"
     ]
    },
    {
     "name": "stdout",
     "output_type": "stream",
     "text": [
      "epoch: 1, [batch: 125 / 156], examples_per_second: 3951.1314, train_label_loss: 0.0939, \n"
     ]
    },
    {
     "name": "stdout",
     "output_type": "stream",
     "text": [
      "epoch: 1, [batch: 140 / 156], examples_per_second: 3946.1254, train_label_loss: 0.0572, \n"
     ]
    },
    {
     "name": "stdout",
     "output_type": "stream",
     "text": [
      "=============================================================\n",
      "epoch: 1, source_val_acc_label: 0.9922, target_val_acc_label: 0.9745, source_val_label_loss: 0.0626, target_val_label_loss: 0.1619, \n",
      "=============================================================\n"
     ]
    },
    {
     "name": "stdout",
     "output_type": "stream",
     "text": [
      "New best\n"
     ]
    },
    {
     "name": "stdout",
     "output_type": "stream",
     "text": [
      "epoch: 2, [batch: 1 / 156], examples_per_second: 199.6481, train_label_loss: 0.0788, \n"
     ]
    },
    {
     "name": "stdout",
     "output_type": "stream",
     "text": [
      "epoch: 2, [batch: 16 / 156], examples_per_second: 3972.1071, train_label_loss: 0.0168, \n"
     ]
    },
    {
     "name": "stdout",
     "output_type": "stream",
     "text": [
      "epoch: 2, [batch: 32 / 156], examples_per_second: 3964.8559, train_label_loss: 0.0173, \n"
     ]
    },
    {
     "name": "stdout",
     "output_type": "stream",
     "text": [
      "epoch: 2, [batch: 47 / 156], examples_per_second: 3915.0813, train_label_loss: 0.0391, \n"
     ]
    },
    {
     "name": "stdout",
     "output_type": "stream",
     "text": [
      "epoch: 2, [batch: 63 / 156], examples_per_second: 4019.0044, train_label_loss: 0.0093, \n"
     ]
    },
    {
     "name": "stdout",
     "output_type": "stream",
     "text": [
      "epoch: 2, [batch: 78 / 156], examples_per_second: 4020.6950, train_label_loss: 0.0213, \n"
     ]
    },
    {
     "name": "stdout",
     "output_type": "stream",
     "text": [
      "epoch: 2, [batch: 94 / 156], examples_per_second: 3942.6611, train_label_loss: 0.0174, \n"
     ]
    },
    {
     "name": "stdout",
     "output_type": "stream",
     "text": [
      "epoch: 2, [batch: 109 / 156], examples_per_second: 4022.8670, train_label_loss: 0.0071, \n"
     ]
    },
    {
     "name": "stdout",
     "output_type": "stream",
     "text": [
      "epoch: 2, [batch: 125 / 156], examples_per_second: 4019.1978, train_label_loss: 0.0928, \n"
     ]
    },
    {
     "name": "stdout",
     "output_type": "stream",
     "text": [
      "epoch: 2, [batch: 140 / 156], examples_per_second: 4020.3025, train_label_loss: 0.0085, \n"
     ]
    },
    {
     "name": "stdout",
     "output_type": "stream",
     "text": [
      "=============================================================\n",
      "epoch: 2, source_val_acc_label: 0.9969, target_val_acc_label: 0.9801, source_val_label_loss: 0.0197, target_val_label_loss: 0.0851, \n",
      "=============================================================\n"
     ]
    },
    {
     "name": "stdout",
     "output_type": "stream",
     "text": [
      "New best\n"
     ]
    },
    {
     "name": "stdout",
     "output_type": "stream",
     "text": [
      "epoch: 3, [batch: 1 / 156], examples_per_second: 197.9952, train_label_loss: 0.2318, \n"
     ]
    },
    {
     "name": "stdout",
     "output_type": "stream",
     "text": [
      "epoch: 3, [batch: 16 / 156], examples_per_second: 3953.1021, train_label_loss: 0.0035, \n"
     ]
    },
    {
     "name": "stdout",
     "output_type": "stream",
     "text": [
      "epoch: 3, [batch: 32 / 156], examples_per_second: 3958.8320, train_label_loss: 0.0021, \n"
     ]
    },
    {
     "name": "stdout",
     "output_type": "stream",
     "text": [
      "epoch: 3, [batch: 47 / 156], examples_per_second: 3903.4545, train_label_loss: 0.0091, \n"
     ]
    },
    {
     "name": "stdout",
     "output_type": "stream",
     "text": [
      "epoch: 3, [batch: 63 / 156], examples_per_second: 4013.1509, train_label_loss: 0.0019, \n"
     ]
    },
    {
     "name": "stdout",
     "output_type": "stream",
     "text": [
      "epoch: 3, [batch: 78 / 156], examples_per_second: 4012.3085, train_label_loss: 0.0034, \n"
     ]
    },
    {
     "name": "stdout",
     "output_type": "stream",
     "text": [
      "epoch: 3, [batch: 94 / 156], examples_per_second: 3932.4606, train_label_loss: 0.0060, \n"
     ]
    },
    {
     "name": "stdout",
     "output_type": "stream",
     "text": [
      "epoch: 3, [batch: 109 / 156], examples_per_second: 4003.4147, train_label_loss: 0.0170, \n"
     ]
    },
    {
     "name": "stdout",
     "output_type": "stream",
     "text": [
      "epoch: 3, [batch: 125 / 156], examples_per_second: 4010.9723, train_label_loss: 0.0194, \n"
     ]
    },
    {
     "name": "stdout",
     "output_type": "stream",
     "text": [
      "epoch: 3, [batch: 140 / 156], examples_per_second: 4012.0755, train_label_loss: 0.0021, \n"
     ]
    },
    {
     "name": "stdout",
     "output_type": "stream",
     "text": [
      "=============================================================\n",
      "epoch: 3, source_val_acc_label: 0.9957, target_val_acc_label: 0.9838, source_val_label_loss: 0.0214, target_val_label_loss: 0.0889, \n",
      "=============================================================\n"
     ]
    },
    {
     "name": "stdout",
     "output_type": "stream",
     "text": [
      "New best\n"
     ]
    },
    {
     "name": "stdout",
     "output_type": "stream",
     "text": [
      "epoch: 4, [batch: 1 / 156], examples_per_second: 198.4641, train_label_loss: 0.0065, \n"
     ]
    },
    {
     "name": "stdout",
     "output_type": "stream",
     "text": [
      "epoch: 4, [batch: 16 / 156], examples_per_second: 3965.9518, train_label_loss: 0.0040, \n"
     ]
    },
    {
     "name": "stdout",
     "output_type": "stream",
     "text": [
      "epoch: 4, [batch: 32 / 156], examples_per_second: 3965.2097, train_label_loss: 0.0142, \n"
     ]
    },
    {
     "name": "stdout",
     "output_type": "stream",
     "text": [
      "epoch: 4, [batch: 47 / 156], examples_per_second: 3907.3115, train_label_loss: 0.0878, \n"
     ]
    },
    {
     "name": "stdout",
     "output_type": "stream",
     "text": [
      "epoch: 4, [batch: 63 / 156], examples_per_second: 4017.1494, train_label_loss: 0.0056, \n"
     ]
    },
    {
     "name": "stdout",
     "output_type": "stream",
     "text": [
      "epoch: 4, [batch: 78 / 156], examples_per_second: 4016.8002, train_label_loss: 0.0014, \n"
     ]
    },
    {
     "name": "stdout",
     "output_type": "stream",
     "text": [
      "epoch: 4, [batch: 94 / 156], examples_per_second: 3933.4875, train_label_loss: 0.0035, \n"
     ]
    },
    {
     "name": "stdout",
     "output_type": "stream",
     "text": [
      "epoch: 4, [batch: 109 / 156], examples_per_second: 4018.0971, train_label_loss: 0.0056, \n"
     ]
    },
    {
     "name": "stdout",
     "output_type": "stream",
     "text": [
      "epoch: 4, [batch: 125 / 156], examples_per_second: 4016.4812, train_label_loss: 0.0034, \n"
     ]
    },
    {
     "name": "stdout",
     "output_type": "stream",
     "text": [
      "epoch: 4, [batch: 140 / 156], examples_per_second: 4005.1451, train_label_loss: 0.0041, \n"
     ]
    },
    {
     "name": "stdout",
     "output_type": "stream",
     "text": [
      "=============================================================\n",
      "epoch: 4, source_val_acc_label: 0.9949, target_val_acc_label: 0.9778, source_val_label_loss: 0.0276, target_val_label_loss: 0.0975, \n",
      "=============================================================\n"
     ]
    },
    {
     "name": "stdout",
     "output_type": "stream",
     "text": [
      "epoch: 5, [batch: 1 / 156], examples_per_second: 203.4788, train_label_loss: 0.0818, \n"
     ]
    },
    {
     "name": "stdout",
     "output_type": "stream",
     "text": [
      "epoch: 5, [batch: 16 / 156], examples_per_second: 3956.9232, train_label_loss: 0.0596, \n"
     ]
    },
    {
     "name": "stdout",
     "output_type": "stream",
     "text": [
      "epoch: 5, [batch: 32 / 156], examples_per_second: 3963.6366, train_label_loss: 0.0070, \n"
     ]
    },
    {
     "name": "stdout",
     "output_type": "stream",
     "text": [
      "epoch: 5, [batch: 47 / 156], examples_per_second: 3894.8908, train_label_loss: 0.0553, \n"
     ]
    },
    {
     "name": "stdout",
     "output_type": "stream",
     "text": [
      "epoch: 5, [batch: 63 / 156], examples_per_second: 4014.6501, train_label_loss: 0.0322, \n"
     ]
    },
    {
     "name": "stdout",
     "output_type": "stream",
     "text": [
      "epoch: 5, [batch: 78 / 156], examples_per_second: 4006.0738, train_label_loss: 0.0077, \n"
     ]
    },
    {
     "name": "stdout",
     "output_type": "stream",
     "text": [
      "epoch: 5, [batch: 94 / 156], examples_per_second: 3936.1805, train_label_loss: 0.0006, \n"
     ]
    },
    {
     "name": "stdout",
     "output_type": "stream",
     "text": [
      "epoch: 5, [batch: 109 / 156], examples_per_second: 4014.4387, train_label_loss: 0.0032, \n"
     ]
    },
    {
     "name": "stdout",
     "output_type": "stream",
     "text": [
      "epoch: 5, [batch: 125 / 156], examples_per_second: 4008.3436, train_label_loss: 0.0271, \n"
     ]
    },
    {
     "name": "stdout",
     "output_type": "stream",
     "text": [
      "epoch: 5, [batch: 140 / 156], examples_per_second: 4008.7637, train_label_loss: 0.0003, \n"
     ]
    },
    {
     "name": "stdout",
     "output_type": "stream",
     "text": [
      "=============================================================\n",
      "epoch: 5, source_val_acc_label: 0.9945, target_val_acc_label: 0.9804, source_val_label_loss: 0.0308, target_val_label_loss: 0.0979, \n",
      "=============================================================\n"
     ]
    },
    {
     "name": "stdout",
     "output_type": "stream",
     "text": [
      "epoch: 6, [batch: 1 / 156], examples_per_second: 203.0365, train_label_loss: 0.0054, \n"
     ]
    },
    {
     "name": "stdout",
     "output_type": "stream",
     "text": [
      "epoch: 6, [batch: 16 / 156], examples_per_second: 3951.9607, train_label_loss: 0.0018, \n"
     ]
    },
    {
     "name": "stdout",
     "output_type": "stream",
     "text": [
      "epoch: 6, [batch: 32 / 156], examples_per_second: 3963.9006, train_label_loss: 0.0119, \n"
     ]
    },
    {
     "name": "stdout",
     "output_type": "stream",
     "text": [
      "epoch: 6, [batch: 47 / 156], examples_per_second: 3902.5110, train_label_loss: 0.0012, \n"
     ]
    },
    {
     "name": "stdout",
     "output_type": "stream",
     "text": [
      "epoch: 6, [batch: 63 / 156], examples_per_second: 4014.8141, train_label_loss: 0.0016, \n"
     ]
    },
    {
     "name": "stdout",
     "output_type": "stream",
     "text": [
      "epoch: 6, [batch: 78 / 156], examples_per_second: 4014.3256, train_label_loss: 0.0841, \n"
     ]
    },
    {
     "name": "stdout",
     "output_type": "stream",
     "text": [
      "epoch: 6, [batch: 94 / 156], examples_per_second: 3934.8363, train_label_loss: 0.0038, \n"
     ]
    },
    {
     "name": "stdout",
     "output_type": "stream",
     "text": [
      "epoch: 6, [batch: 109 / 156], examples_per_second: 4015.3584, train_label_loss: 0.0095, \n"
     ]
    },
    {
     "name": "stdout",
     "output_type": "stream",
     "text": [
      "epoch: 6, [batch: 125 / 156], examples_per_second: 4012.9002, train_label_loss: 0.0209, \n"
     ]
    },
    {
     "name": "stdout",
     "output_type": "stream",
     "text": [
      "epoch: 6, [batch: 140 / 156], examples_per_second: 4004.1431, train_label_loss: 0.0011, \n"
     ]
    },
    {
     "name": "stdout",
     "output_type": "stream",
     "text": [
      "=============================================================\n",
      "epoch: 6, source_val_acc_label: 0.9969, target_val_acc_label: 0.9851, source_val_label_loss: 0.0224, target_val_label_loss: 0.0873, \n",
      "=============================================================\n"
     ]
    },
    {
     "name": "stdout",
     "output_type": "stream",
     "text": [
      "New best\n"
     ]
    },
    {
     "name": "stdout",
     "output_type": "stream",
     "text": [
      "epoch: 7, [batch: 1 / 156], examples_per_second: 197.4463, train_label_loss: 0.0005, \n"
     ]
    },
    {
     "name": "stdout",
     "output_type": "stream",
     "text": [
      "epoch: 7, [batch: 16 / 156], examples_per_second: 3952.0429, train_label_loss: 0.0030, \n"
     ]
    },
    {
     "name": "stdout",
     "output_type": "stream",
     "text": [
      "epoch: 7, [batch: 32 / 156], examples_per_second: 3962.5874, train_label_loss: 0.0014, \n"
     ]
    },
    {
     "name": "stdout",
     "output_type": "stream",
     "text": [
      "epoch: 7, [batch: 47 / 156], examples_per_second: 3900.9073, train_label_loss: 0.0023, \n"
     ]
    },
    {
     "name": "stdout",
     "output_type": "stream",
     "text": [
      "epoch: 7, [batch: 63 / 156], examples_per_second: 4011.2385, train_label_loss: 0.0074, \n"
     ]
    },
    {
     "name": "stdout",
     "output_type": "stream",
     "text": [
      "epoch: 7, [batch: 78 / 156], examples_per_second: 4008.8174, train_label_loss: 0.0141, \n"
     ]
    },
    {
     "name": "stdout",
     "output_type": "stream",
     "text": [
      "epoch: 7, [batch: 94 / 156], examples_per_second: 3931.2246, train_label_loss: 0.0078, \n"
     ]
    },
    {
     "name": "stdout",
     "output_type": "stream",
     "text": [
      "epoch: 7, [batch: 109 / 156], examples_per_second: 4011.7782, train_label_loss: 0.0020, \n"
     ]
    },
    {
     "name": "stdout",
     "output_type": "stream",
     "text": [
      "epoch: 7, [batch: 125 / 156], examples_per_second: 4009.0661, train_label_loss: 0.0006, \n"
     ]
    },
    {
     "name": "stdout",
     "output_type": "stream",
     "text": [
      "epoch: 7, [batch: 140 / 156], examples_per_second: 4012.6411, train_label_loss: 0.0007, \n"
     ]
    },
    {
     "name": "stdout",
     "output_type": "stream",
     "text": [
      "=============================================================\n",
      "epoch: 7, source_val_acc_label: 0.9957, target_val_acc_label: 0.9824, source_val_label_loss: 0.0260, target_val_label_loss: 0.0944, \n",
      "=============================================================\n"
     ]
    },
    {
     "name": "stdout",
     "output_type": "stream",
     "text": [
      "epoch: 8, [batch: 1 / 156], examples_per_second: 202.6211, train_label_loss: 0.0080, \n"
     ]
    },
    {
     "name": "stdout",
     "output_type": "stream",
     "text": [
      "epoch: 8, [batch: 16 / 156], examples_per_second: 3952.3682, train_label_loss: 0.0121, \n"
     ]
    },
    {
     "name": "stdout",
     "output_type": "stream",
     "text": [
      "epoch: 8, [batch: 32 / 156], examples_per_second: 3966.9919, train_label_loss: 0.0001, \n"
     ]
    },
    {
     "name": "stdout",
     "output_type": "stream",
     "text": [
      "epoch: 8, [batch: 47 / 156], examples_per_second: 3905.6487, train_label_loss: 0.0047, \n"
     ]
    },
    {
     "name": "stdout",
     "output_type": "stream",
     "text": [
      "epoch: 8, [batch: 63 / 156], examples_per_second: 4015.6094, train_label_loss: 0.0543, \n"
     ]
    },
    {
     "name": "stdout",
     "output_type": "stream",
     "text": [
      "epoch: 8, [batch: 78 / 156], examples_per_second: 4016.2980, train_label_loss: 0.0822, \n"
     ]
    },
    {
     "name": "stdout",
     "output_type": "stream",
     "text": [
      "epoch: 8, [batch: 94 / 156], examples_per_second: 3936.6717, train_label_loss: 0.0006, \n"
     ]
    },
    {
     "name": "stdout",
     "output_type": "stream",
     "text": [
      "epoch: 8, [batch: 109 / 156], examples_per_second: 4015.2409, train_label_loss: 0.0004, \n"
     ]
    },
    {
     "name": "stdout",
     "output_type": "stream",
     "text": [
      "epoch: 8, [batch: 125 / 156], examples_per_second: 4015.6574, train_label_loss: 0.0024, \n"
     ]
    },
    {
     "name": "stdout",
     "output_type": "stream",
     "text": [
      "epoch: 8, [batch: 140 / 156], examples_per_second: 4014.6843, train_label_loss: 0.0005, \n"
     ]
    },
    {
     "name": "stdout",
     "output_type": "stream",
     "text": [
      "=============================================================\n",
      "epoch: 8, source_val_acc_label: 0.9945, target_val_acc_label: 0.9791, source_val_label_loss: 0.0347, target_val_label_loss: 0.1531, \n",
      "=============================================================\n"
     ]
    },
    {
     "name": "stdout",
     "output_type": "stream",
     "text": [
      "epoch: 9, [batch: 1 / 156], examples_per_second: 203.0594, train_label_loss: 0.0026, \n"
     ]
    },
    {
     "name": "stdout",
     "output_type": "stream",
     "text": [
      "epoch: 9, [batch: 16 / 156], examples_per_second: 3952.0780, train_label_loss: 0.0001, \n"
     ]
    },
    {
     "name": "stdout",
     "output_type": "stream",
     "text": [
      "epoch: 9, [batch: 32 / 156], examples_per_second: 3966.2385, train_label_loss: 0.0770, \n"
     ]
    },
    {
     "name": "stdout",
     "output_type": "stream",
     "text": [
      "epoch: 9, [batch: 47 / 156], examples_per_second: 3903.8487, train_label_loss: 0.0002, \n"
     ]
    },
    {
     "name": "stdout",
     "output_type": "stream",
     "text": [
      "epoch: 9, [batch: 63 / 156], examples_per_second: 4013.0383, train_label_loss: 0.0139, \n"
     ]
    },
    {
     "name": "stdout",
     "output_type": "stream",
     "text": [
      "epoch: 9, [batch: 78 / 156], examples_per_second: 4011.9123, train_label_loss: 0.0010, \n"
     ]
    },
    {
     "name": "stdout",
     "output_type": "stream",
     "text": [
      "epoch: 9, [batch: 94 / 156], examples_per_second: 3934.3733, train_label_loss: 0.0002, \n"
     ]
    },
    {
     "name": "stdout",
     "output_type": "stream",
     "text": [
      "epoch: 9, [batch: 109 / 156], examples_per_second: 4014.7929, train_label_loss: 0.0001, \n"
     ]
    },
    {
     "name": "stdout",
     "output_type": "stream",
     "text": [
      "epoch: 9, [batch: 125 / 156], examples_per_second: 4012.3856, train_label_loss: 0.0003, \n"
     ]
    },
    {
     "name": "stdout",
     "output_type": "stream",
     "text": [
      "epoch: 9, [batch: 140 / 156], examples_per_second: 4013.6253, train_label_loss: 0.0002, \n"
     ]
    },
    {
     "name": "stdout",
     "output_type": "stream",
     "text": [
      "=============================================================\n",
      "epoch: 9, source_val_acc_label: 0.9957, target_val_acc_label: 0.9814, source_val_label_loss: 0.0271, target_val_label_loss: 0.0918, \n",
      "=============================================================\n"
     ]
    },
    {
     "name": "stdout",
     "output_type": "stream",
     "text": [
      "epoch: 10, [batch: 1 / 156], examples_per_second: 202.9546, train_label_loss: 0.0004, \n"
     ]
    },
    {
     "name": "stdout",
     "output_type": "stream",
     "text": [
      "epoch: 10, [batch: 16 / 156], examples_per_second: 3947.3633, train_label_loss: 0.0002, \n"
     ]
    },
    {
     "name": "stdout",
     "output_type": "stream",
     "text": [
      "epoch: 10, [batch: 32 / 156], examples_per_second: 3963.5752, train_label_loss: 0.0000, \n"
     ]
    },
    {
     "name": "stdout",
     "output_type": "stream",
     "text": [
      "epoch: 10, [batch: 47 / 156], examples_per_second: 3906.1253, train_label_loss: 0.0000, \n"
     ]
    },
    {
     "name": "stdout",
     "output_type": "stream",
     "text": [
      "epoch: 10, [batch: 63 / 156], examples_per_second: 4012.1225, train_label_loss: 0.0002, \n"
     ]
    },
    {
     "name": "stdout",
     "output_type": "stream",
     "text": [
      "epoch: 10, [batch: 78 / 156], examples_per_second: 4010.2043, train_label_loss: 0.0002, \n"
     ]
    },
    {
     "name": "stdout",
     "output_type": "stream",
     "text": [
      "epoch: 10, [batch: 94 / 156], examples_per_second: 3935.2357, train_label_loss: 0.0001, \n"
     ]
    },
    {
     "name": "stdout",
     "output_type": "stream",
     "text": [
      "epoch: 10, [batch: 109 / 156], examples_per_second: 4012.7294, train_label_loss: 0.0047, \n"
     ]
    },
    {
     "name": "stdout",
     "output_type": "stream",
     "text": [
      "epoch: 10, [batch: 125 / 156], examples_per_second: 4011.9753, train_label_loss: 0.0039, \n"
     ]
    },
    {
     "name": "stdout",
     "output_type": "stream",
     "text": [
      "epoch: 10, [batch: 140 / 156], examples_per_second: 4014.5880, train_label_loss: 0.0127, \n"
     ]
    },
    {
     "name": "stdout",
     "output_type": "stream",
     "text": [
      "=============================================================\n",
      "epoch: 10, source_val_acc_label: 0.9988, target_val_acc_label: 0.9841, source_val_label_loss: 0.0179, target_val_label_loss: 0.0921, \n",
      "=============================================================\n"
     ]
    },
    {
     "name": "stdout",
     "output_type": "stream",
     "text": [
      "Patience (3) exhausted\n"
     ]
    }
   ],
   "source": [
    "###################################\n",
    "# train\n",
    "###################################\n",
    "jig = PTN_Train_Eval_Test_Jig(model, p.BEST_MODEL_PATH, p.device)\n",
    "\n",
    "jig.train(\n",
    "    train_iterable=datasets.source.processed.train,\n",
    "    source_val_iterable=datasets.source.processed.val,\n",
    "    target_val_iterable=datasets.target.processed.val,\n",
    "    num_epochs=p.n_epoch,\n",
    "    num_logs_per_epoch=p.NUM_LOGS_PER_EPOCH,\n",
    "    patience=p.patience,\n",
    "    optimizer=optimizer,\n",
    "    criteria_for_best=p.criteria_for_best,\n",
    ")"
   ]
  },
  {
   "cell_type": "code",
   "execution_count": 14,
   "id": "31e8fabf",
   "metadata": {
    "execution": {
     "iopub.execute_input": "2022-03-22T16:25:16.950198Z",
     "iopub.status.busy": "2022-03-22T16:25:16.949952Z",
     "iopub.status.idle": "2022-03-22T16:25:16.964502Z",
     "shell.execute_reply": "2022-03-22T16:25:16.964058Z"
    },
    "papermill": {
     "duration": 0.047595,
     "end_time": "2022-03-22T16:25:16.964593",
     "exception": false,
     "start_time": "2022-03-22T16:25:16.916998",
     "status": "completed"
    },
    "tags": []
   },
   "outputs": [],
   "source": [
    "total_experiment_time_secs = time.time() - start_time_secs"
   ]
  },
  {
   "cell_type": "code",
   "execution_count": 15,
   "id": "87b9595b",
   "metadata": {
    "execution": {
     "iopub.execute_input": "2022-03-22T16:25:17.036800Z",
     "iopub.status.busy": "2022-03-22T16:25:17.036536Z",
     "iopub.status.idle": "2022-03-22T16:25:24.345815Z",
     "shell.execute_reply": "2022-03-22T16:25:24.345354Z"
    },
    "papermill": {
     "duration": 7.345757,
     "end_time": "2022-03-22T16:25:24.345930",
     "exception": false,
     "start_time": "2022-03-22T16:25:17.000173",
     "status": "completed"
    },
    "tags": []
   },
   "outputs": [],
   "source": [
    "###################################\n",
    "# Evaluate the model\n",
    "###################################\n",
    "source_test_label_accuracy, source_test_label_loss = jig.test(datasets.source.processed.test)\n",
    "target_test_label_accuracy, target_test_label_loss = jig.test(datasets.target.processed.test)\n",
    "\n",
    "source_val_label_accuracy, source_val_label_loss = jig.test(datasets.source.processed.val)\n",
    "target_val_label_accuracy, target_val_label_loss = jig.test(datasets.target.processed.val)\n",
    "\n",
    "history = jig.get_history()\n",
    "\n",
    "total_epochs_trained = len(history[\"epoch_indices\"])\n",
    "\n",
    "val_dl = Iterable_Aggregator((datasets.source.original.val,datasets.target.original.val))\n",
    "\n",
    "confusion = ptn_confusion_by_domain_over_dataloader(model, p.device, val_dl)\n",
    "per_domain_accuracy = per_domain_accuracy_from_confusion(confusion)\n",
    "\n",
    "# Add a key to per_domain_accuracy for if it was a source domain\n",
    "for domain, accuracy in per_domain_accuracy.items():\n",
    "    per_domain_accuracy[domain] = {\n",
    "        \"accuracy\": accuracy,\n",
    "        \"source?\": domain in p.domains_source\n",
    "    }\n",
    "\n",
    "# Do an independent accuracy assesment JUST TO BE SURE!\n",
    "# _source_test_label_accuracy = independent_accuracy_assesment(model, datasets.source.processed.test, p.device)\n",
    "# _target_test_label_accuracy = independent_accuracy_assesment(model, datasets.target.processed.test, p.device)\n",
    "# _source_val_label_accuracy = independent_accuracy_assesment(model, datasets.source.processed.val, p.device)\n",
    "# _target_val_label_accuracy = independent_accuracy_assesment(model, datasets.target.processed.val, p.device)\n",
    "\n",
    "# assert(_source_test_label_accuracy == source_test_label_accuracy)\n",
    "# assert(_target_test_label_accuracy == target_test_label_accuracy)\n",
    "# assert(_source_val_label_accuracy == source_val_label_accuracy)\n",
    "# assert(_target_val_label_accuracy == target_val_label_accuracy)\n",
    "\n",
    "experiment = {\n",
    "    \"experiment_name\": p.experiment_name,\n",
    "    \"parameters\": dict(p),\n",
    "    \"results\": {\n",
    "        \"source_test_label_accuracy\": source_test_label_accuracy,\n",
    "        \"source_test_label_loss\": source_test_label_loss,\n",
    "        \"target_test_label_accuracy\": target_test_label_accuracy,\n",
    "        \"target_test_label_loss\": target_test_label_loss,\n",
    "        \"source_val_label_accuracy\": source_val_label_accuracy,\n",
    "        \"source_val_label_loss\": source_val_label_loss,\n",
    "        \"target_val_label_accuracy\": target_val_label_accuracy,\n",
    "        \"target_val_label_loss\": target_val_label_loss,\n",
    "        \"total_epochs_trained\": total_epochs_trained,\n",
    "        \"total_experiment_time_secs\": total_experiment_time_secs,\n",
    "        \"confusion\": confusion,\n",
    "        \"per_domain_accuracy\": per_domain_accuracy,\n",
    "    },\n",
    "    \"history\": history,\n",
    "    \"dataset_metrics\": get_dataset_metrics(datasets, \"ptn\"),\n",
    "}"
   ]
  },
  {
   "cell_type": "code",
   "execution_count": 16,
   "id": "54a21829",
   "metadata": {
    "execution": {
     "iopub.execute_input": "2022-03-22T16:25:24.417907Z",
     "iopub.status.busy": "2022-03-22T16:25:24.417390Z",
     "iopub.status.idle": "2022-03-22T16:25:24.543682Z",
     "shell.execute_reply": "2022-03-22T16:25:24.544085Z"
    },
    "papermill": {
     "duration": 0.159445,
     "end_time": "2022-03-22T16:25:24.544218",
     "exception": false,
     "start_time": "2022-03-22T16:25:24.384773",
     "status": "completed"
    },
    "tags": []
   },
   "outputs": [
    {
     "data": {
      "image/png": "[encoded data removed]",
      "text/plain": [
       "<Figure size 1080x504 with 1 Axes>"
      ]
     },
     "metadata": {
      "needs_background": "light"
     },
     "output_type": "display_data"
    }
   ],
   "source": [
    "ax = get_loss_curve(experiment)\n",
    "plt.show()"
   ]
  },
  {
   "cell_type": "code",
   "execution_count": 17,
   "id": "fd8a0f60",
   "metadata": {
    "execution": {
     "iopub.execute_input": "2022-03-22T16:25:24.614388Z",
     "iopub.status.busy": "2022-03-22T16:25:24.614138Z",
     "iopub.status.idle": "2022-03-22T16:25:24.756055Z",
     "shell.execute_reply": "2022-03-22T16:25:24.756270Z"
    },
    "papermill": {
     "duration": 0.176581,
     "end_time": "2022-03-22T16:25:24.756350",
     "exception": false,
     "start_time": "2022-03-22T16:25:24.579769",
     "status": "completed"
    },
    "tags": []
   },
   "outputs": [
    {
     "data": {
      "text/plain": [
       "<AxesSubplot:title={'center':'Results'}>"
      ]
     },
     "execution_count": 17,
     "metadata": {},
     "output_type": "execute_result"
    },
    {
     "data": {
      "image/png": "[encoded data removed]",
      "text/plain": [
       "<Figure size 1080x504 with 1 Axes>"
      ]
     },
     "metadata": {
      "needs_background": "light"
     },
     "output_type": "display_data"
    }
   ],
   "source": [
    "get_results_table(experiment)"
   ]
  },
  {
   "cell_type": "code",
   "execution_count": 18,
   "id": "cf8dc689",
   "metadata": {
    "execution": {
     "iopub.execute_input": "2022-03-22T16:25:24.830136Z",
     "iopub.status.busy": "2022-03-22T16:25:24.829878Z",
     "iopub.status.idle": "2022-03-22T16:25:24.940832Z",
     "shell.execute_reply": "2022-03-22T16:25:24.940334Z"
    },
    "papermill": {
     "duration": 0.15134,
     "end_time": "2022-03-22T16:25:24.940943",
     "exception": false,
     "start_time": "2022-03-22T16:25:24.789603",
     "status": "completed"
    },
    "tags": []
   },
   "outputs": [
    {
     "data": {
      "text/plain": [
       "<AxesSubplot:title={'center':'Per Domain Validation Accuracy'}, xlabel='domain'>"
      ]
     },
     "execution_count": 18,
     "metadata": {},
     "output_type": "execute_result"
    },
    {
     "data": {
      "image/png": "[encoded data removed]",
      "text/plain": [
       "<Figure size 1080x504 with 1 Axes>"
      ]
     },
     "metadata": {
      "needs_background": "light"
     },
     "output_type": "display_data"
    }
   ],
   "source": [
    "get_domain_accuracies(experiment)"
   ]
  },
  {
   "cell_type": "code",
   "execution_count": 19,
   "id": "a74ae082",
   "metadata": {
    "execution": {
     "iopub.execute_input": "2022-03-22T16:25:25.014962Z",
     "iopub.status.busy": "2022-03-22T16:25:25.014703Z",
     "iopub.status.idle": "2022-03-22T16:25:25.031664Z",
     "shell.execute_reply": "2022-03-22T16:25:25.031186Z"
    },
    "papermill": {
     "duration": 0.053535,
     "end_time": "2022-03-22T16:25:25.031767",
     "exception": false,
     "start_time": "2022-03-22T16:25:24.978232",
     "status": "completed"
    },
    "tags": []
   },
   "outputs": [
    {
     "name": "stdout",
     "output_type": "stream",
     "text": [
      "Source Test Label Accuracy: 0.997257053291536 Target Test Label Accuracy: 0.9830665024630542\n",
      "Source Val Label Accuracy: 0.9968652037617555 Target Val Label Accuracy: 0.985079575596817\n"
     ]
    }
   ],
   "source": [
    "print(\"Source Test Label Accuracy:\", experiment[\"results\"][\"source_test_label_accuracy\"], \"Target Test Label Accuracy:\", experiment[\"results\"][\"target_test_label_accuracy\"])\n",
    "print(\"Source Val Label Accuracy:\", experiment[\"results\"][\"source_val_label_accuracy\"], \"Target Val Label Accuracy:\", experiment[\"results\"][\"target_val_label_accuracy\"])"
   ]
  },
  {
   "cell_type": "code",
   "execution_count": 20,
   "id": "dacca602",
   "metadata": {
    "execution": {
     "iopub.execute_input": "2022-03-22T16:25:25.106815Z",
     "iopub.status.busy": "2022-03-22T16:25:25.106563Z",
     "iopub.status.idle": "2022-03-22T16:25:25.123221Z",
     "shell.execute_reply": "2022-03-22T16:25:25.122731Z"
    },
    "papermill": {
     "duration": 0.053167,
     "end_time": "2022-03-22T16:25:25.123379",
     "exception": false,
     "start_time": "2022-03-22T16:25:25.070212",
     "status": "completed"
    },
    "tags": [
     "experiment_json"
    ]
   },
   "outputs": [
    {
     "data": {
      "text/plain": [
       "'{\"experiment_name\": \"tuned_1v2:cores\", \"parameters\": {\"experiment_name\": \"tuned_1v2:cores\", \"device\": \"cuda\", \"lr\": 0.0001, \"labels_source\": [\"1-10.\", \"1-11.\", \"1-15.\", \"1-16.\", \"1-17.\", \"1-18.\", \"1-19.\", \"10-4.\", \"10-7.\", \"11-1.\", \"11-14.\", \"11-17.\", \"11-20.\", \"11-7.\", \"13-20.\", \"13-8.\", \"14-10.\", \"14-11.\", \"14-14.\", \"14-7.\", \"15-1.\", \"15-20.\", \"16-1.\", \"16-16.\", \"17-10.\", \"17-11.\", \"17-2.\", \"19-1.\", \"19-16.\", \"19-19.\", \"19-20.\", \"19-3.\", \"2-10.\", \"2-11.\", \"2-17.\", \"2-18.\", \"2-20.\", \"2-3.\", \"2-4.\", \"2-5.\", \"2-6.\", \"2-7.\", \"2-8.\", \"3-13.\", \"3-18.\", \"3-3.\", \"4-1.\", \"4-10.\", \"4-11.\", \"4-19.\", \"5-5.\", \"6-15.\", \"7-10.\", \"7-14.\", \"8-18.\", \"8-20.\", \"8-3.\", \"8-8.\"], \"labels_target\": [\"1-10.\", \"1-11.\", \"1-15.\", \"1-16.\", \"1-17.\", \"1-18.\", \"1-19.\", \"10-4.\", \"10-7.\", \"11-1.\", \"11-14.\", \"11-17.\", \"11-20.\", \"11-7.\", \"13-20.\", \"13-8.\", \"14-10.\", \"14-11.\", \"14-14.\", \"14-7.\", \"15-1.\", \"15-20.\", \"16-1.\", \"16-16.\", \"17-10.\", \"17-11.\", \"17-2.\", \"19-1.\", \"19-16.\", \"19-19.\", \"19-20.\", \"19-3.\", \"2-10.\", \"2-11.\", \"2-17.\", \"2-18.\", \"2-20.\", \"2-3.\", \"2-4.\", \"2-5.\", \"2-6.\", \"2-7.\", \"2-8.\", \"3-13.\", \"3-18.\", \"3-3.\", \"4-1.\", \"4-10.\", \"4-11.\", \"4-19.\", \"5-5.\", \"6-15.\", \"7-10.\", \"7-14.\", \"8-18.\", \"8-20.\", \"8-3.\", \"8-8.\"], \"episode_transforms_source\": [], \"episode_transforms_target\": [], \"domains_source\": [1, 5], \"domains_target\": [2, 3, 4], \"num_examples_per_domain_per_label_source\": -1, \"num_examples_per_domain_per_label_target\": -1, \"n_shot\": 3, \"n_way\": 58, \"n_query\": 2, \"train_k_factor\": 3, \"val_k_factor\": 2, \"test_k_factor\": 2, \"torch_default_dtype\": \"torch.float32\", \"n_epoch\": 50, \"patience\": 3, \"criteria_for_best\": \"target_accuracy\", \"x_net\": [{\"class\": \"nnReshape\", \"kargs\": {\"shape\": [-1, 1, 2, 256]}}, {\"class\": \"Conv2d\", \"kargs\": {\"in_channels\": 1, \"out_channels\": 256, \"kernel_size\": [1, 7], \"bias\": false, \"padding\": [0, 3]}}, {\"class\": \"ReLU\", \"kargs\": {\"inplace\": true}}, {\"class\": \"BatchNorm2d\", \"kargs\": {\"num_features\": 256}}, {\"class\": \"Conv2d\", \"kargs\": {\"in_channels\": 256, \"out_channels\": 80, \"kernel_size\": [2, 7], \"bias\": true, \"padding\": [0, 3]}}, {\"class\": \"ReLU\", \"kargs\": {\"inplace\": true}}, {\"class\": \"BatchNorm2d\", \"kargs\": {\"num_features\": 80}}, {\"class\": \"Flatten\", \"kargs\": {}}, {\"class\": \"Linear\", \"kargs\": {\"in_features\": 20480, \"out_features\": 256}}, {\"class\": \"ReLU\", \"kargs\": {\"inplace\": true}}, {\"class\": \"BatchNorm1d\", \"kargs\": {\"num_features\": 256}}, {\"class\": \"Linear\", \"kargs\": {\"in_features\": 256, \"out_features\": 256}}], \"NUM_LOGS_PER_EPOCH\": 10, \"BEST_MODEL_PATH\": \"./best_model.pth\", \"pickle_name\": \"cores.stratified_ds.2022A.pkl\", \"x_transforms_source\": [\"unit_power\"], \"x_transforms_target\": [\"unit_power\"], \"dataset_seed\": 7, \"seed\": 7}, \"results\": {\"source_test_label_accuracy\": 0.997257053291536, \"source_test_label_loss\": 0.009055154398083687, \"target_test_label_accuracy\": 0.9830665024630542, \"target_test_label_loss\": 0.07108082622289658, \"source_val_label_accuracy\": 0.9968652037617555, \"source_val_label_loss\": 0.022384295240044594, \"target_val_label_accuracy\": 0.985079575596817, \"target_val_label_loss\": 0.0872870534658432, \"total_epochs_trained\": 10, \"total_experiment_time_secs\": 148.0817985534668, \"confusion\": {\"5\": {\"8\": {\"8\": 20}, \"12\": {\"12\": 20}, \"52\": {\"52\": 20}, \"16\": {\"16\": 20}, \"30\": {\"30\": 20}, \"26\": {\"26\": 20}, \"22\": {\"22\": 20}, \"49\": {\"49\": 20}, \"3\": {\"3\": 18, \"46\": 2}, \"6\": {\"6\": 20}, \"45\": {\"45\": 19, \"4\": 1}, \"37\": {\"37\": 20}, \"7\": {\"7\": 20}, \"33\": {\"33\": 20}, \"21\": {\"21\": 20}, \"10\": {\"10\": 20}, \"54\": {\"54\": 20}, \"41\": {\"41\": 20}, \"34\": {\"34\": 20}, \"55\": {\"55\": 20}, \"23\": {\"23\": 20}, \"43\": {\"43\": 20}, \"2\": {\"2\": 20}, \"11\": {\"11\": 19, \"15\": 1}, \"18\": {\"18\": 20}, \"1\": {\"1\": 20}, \"17\": {\"17\": 20}, \"35\": {\"35\": 20}, \"39\": {\"39\": 20}, \"28\": {\"28\": 20}, \"42\": {\"42\": 18, \"41\": 2}, \"36\": {\"36\": 20}, \"56\": {\"56\": 20}, \"38\": {\"38\": 20}, \"44\": {\"44\": 20}, \"19\": {\"19\": 20}, \"5\": {\"5\": 20}, \"57\": {\"57\": 20}, \"47\": {\"47\": 20}, \"24\": {\"24\": 20}, \"50\": {\"50\": 20}, \"53\": {\"53\": 20}, \"15\": {\"15\": 20}, \"31\": {\"31\": 20}, \"48\": {\"48\": 20}, \"40\": {\"40\": 20}, \"32\": {\"32\": 20}, \"46\": {\"46\": 20}, \"9\": {\"9\": 20}, \"4\": {\"4\": 20}, \"0\": {\"0\": 20}, \"51\": {\"51\": 20}, \"13\": {\"13\": 20}, \"20\": {\"20\": 20}, \"27\": {\"27\": 19, \"32\": 1}, \"14\": {\"14\": 20}, \"29\": {\"29\": 20}, \"25\": {\"25\": 20}}, \"1\": {\"10\": {\"10\": 24}, \"30\": {\"30\": 24}, \"38\": {\"38\": 24}, \"0\": {\"0\": 24}, \"9\": {\"9\": 23, \"53\": 1}, \"44\": {\"44\": 24}, \"35\": {\"35\": 24}, \"19\": {\"19\": 24}, \"4\": {\"4\": 24}, \"57\": {\"57\": 24}, \"12\": {\"12\": 24}, \"47\": {\"47\": 24}, \"16\": {\"16\": 24}, \"2\": {\"2\": 24}, \"36\": {\"36\": 24}, \"25\": {\"25\": 24}, \"54\": {\"54\": 24}, \"14\": {\"14\": 24}, \"24\": {\"24\": 24}, \"27\": {\"27\": 24}, \"48\": {\"48\": 24}, \"50\": {\"50\": 24}, \"51\": {\"51\": 24}, \"29\": {\"29\": 24}, \"17\": {\"17\": 24}, \"55\": {\"55\": 24}, \"32\": {\"32\": 24}, \"41\": {\"41\": 24}, \"33\": {\"33\": 24}, \"15\": {\"15\": 24}, \"31\": {\"31\": 24}, \"8\": {\"8\": 24}, \"28\": {\"28\": 24}, \"22\": {\"22\": 24}, \"43\": {\"43\": 24}, \"49\": {\"49\": 24}, \"52\": {\"52\": 24}, \"18\": {\"18\": 24}, \"40\": {\"40\": 24}, \"34\": {\"34\": 24}, \"45\": {\"45\": 24}, \"42\": {\"42\": 24}, \"7\": {\"7\": 24}, \"5\": {\"5\": 24}, \"56\": {\"56\": 24}, \"23\": {\"23\": 24}, \"46\": {\"46\": 24}, \"1\": {\"1\": 24}, \"20\": {\"20\": 24}, \"6\": {\"6\": 24}, \"26\": {\"26\": 24}, \"11\": {\"11\": 24}, \"39\": {\"39\": 24}, \"21\": {\"21\": 24}, \"3\": {\"3\": 24}, \"13\": {\"13\": 24}, \"37\": {\"37\": 24}, \"53\": {\"53\": 24}}, \"4\": {\"8\": {\"8\": 16}, \"12\": {\"12\": 16}, \"52\": {\"52\": 16}, \"16\": {\"16\": 16}, \"30\": {\"30\": 15, \"50\": 1}, \"26\": {\"26\": 16}, \"22\": {\"22\": 16}, \"49\": {\"49\": 16}, \"3\": {\"3\": 15, \"6\": 1}, \"6\": {\"6\": 15, \"31\": 1}, \"45\": {\"45\": 16}, \"37\": {\"37\": 16}, \"7\": {\"7\": 16}, \"33\": {\"33\": 16}, \"21\": {\"21\": 16}, \"10\": {\"10\": 16}, \"54\": {\"54\": 16}, \"41\": {\"41\": 13, \"13\": 1, \"39\": 2}, \"34\": {\"34\": 16}, \"55\": {\"55\": 16}, \"23\": {\"23\": 15, \"5\": 1}, \"43\": {\"43\": 16}, \"2\": {\"2\": 16}, \"11\": {\"11\": 15, \"15\": 1}, \"18\": {\"18\": 16}, \"1\": {\"1\": 16}, \"17\": {\"17\": 16}, \"35\": {\"35\": 16}, \"39\": {\"39\": 16}, \"28\": {\"28\": 16}, \"42\": {\"42\": 16}, \"36\": {\"36\": 15, \"18\": 1}, \"56\": {\"56\": 16}, \"38\": {\"38\": 16}, \"44\": {\"44\": 16}, \"19\": {\"19\": 16}, \"5\": {\"5\": 15, \"31\": 1}, \"57\": {\"57\": 16}, \"47\": {\"47\": 16}, \"24\": {\"24\": 16}, \"50\": {\"50\": 12, \"30\": 1, \"3\": 1, \"53\": 1, \"21\": 1}, \"53\": {\"53\": 16}, \"15\": {\"15\": 16}, \"31\": {\"31\": 16}, \"48\": {\"48\": 16}, \"40\": {\"40\": 16}, \"32\": {\"32\": 16}, \"46\": {\"46\": 15, \"7\": 1}, \"9\": {\"9\": 16}, \"4\": {\"4\": 16}, \"0\": {\"0\": 16}, \"51\": {\"51\": 16}, \"13\": {\"13\": 16}, \"20\": {\"20\": 16}, \"27\": {\"27\": 16}, \"14\": {\"14\": 15, \"43\": 1}, \"29\": {\"29\": 16}, \"25\": {\"25\": 16}}, \"2\": {\"10\": {\"10\": 20}, \"30\": {\"30\": 20}, \"38\": {\"38\": 20}, \"0\": {\"0\": 20}, \"9\": {\"9\": 20}, \"44\": {\"44\": 20}, \"35\": {\"35\": 20}, \"19\": {\"19\": 20}, \"4\": {\"4\": 20}, \"57\": {\"57\": 20}, \"12\": {\"12\": 20}, \"47\": {\"47\": 20}, \"16\": {\"16\": 20}, \"2\": {\"2\": 20}, \"36\": {\"36\": 20}, \"25\": {\"25\": 20}, \"54\": {\"54\": 20}, \"14\": {\"14\": 17, \"5\": 3}, \"24\": {\"24\": 20}, \"27\": {\"27\": 18, \"26\": 2}, \"48\": {\"48\": 20}, \"50\": {\"53\": 1, \"50\": 17, \"3\": 2}, \"51\": {\"51\": 20}, \"29\": {\"29\": 20}, \"17\": {\"17\": 20}, \"55\": {\"55\": 20}, \"32\": {\"32\": 19, \"54\": 1}, \"41\": {\"41\": 20}, \"33\": {\"33\": 20}, \"15\": {\"15\": 20}, \"31\": {\"31\": 20}, \"8\": {\"8\": 20}, \"28\": {\"28\": 20}, \"22\": {\"22\": 20}, \"43\": {\"43\": 20}, \"49\": {\"49\": 20}, \"52\": {\"52\": 20}, \"18\": {\"18\": 20}, \"40\": {\"40\": 19, \"9\": 1}, \"34\": {\"34\": 20}, \"45\": {\"45\": 19, \"17\": 1}, \"42\": {\"42\": 20}, \"7\": {\"7\": 19, \"52\": 1}, \"5\": {\"5\": 19, \"0\": 1}, \"56\": {\"56\": 20}, \"23\": {\"23\": 20}, \"46\": {\"46\": 18, \"7\": 2}, \"1\": {\"1\": 20}, \"20\": {\"20\": 20}, \"6\": {\"6\": 20}, \"26\": {\"26\": 20}, \"11\": {\"11\": 20}, \"39\": {\"39\": 20}, \"21\": {\"21\": 20}, \"3\": {\"3\": 19, \"50\": 1}, \"13\": {\"13\": 19, \"24\": 1}, \"37\": {\"37\": 20}, \"53\": {\"53\": 20}}, \"3\": {\"12\": {\"12\": 16}, \"8\": {\"8\": 16}, \"56\": {\"56\": 16}, \"53\": {\"53\": 15, \"50\": 1}, \"41\": {\"41\": 16}, \"51\": {\"51\": 16}, \"39\": {\"39\": 16}, \"46\": {\"46\": 15, \"15\": 1}, \"36\": {\"36\": 16}, \"11\": {\"11\": 16}, \"10\": {\"10\": 16}, \"48\": {\"48\": 16}, \"22\": {\"22\": 16}, \"21\": {\"21\": 16}, \"40\": {\"40\": 16}, \"47\": {\"47\": 16}, \"23\": {\"23\": 16}, \"45\": {\"45\": 14, \"2\": 2}, \"44\": {\"44\": 16}, \"7\": {\"7\": 16}, \"1\": {\"1\": 16}, \"16\": {\"16\": 16}, \"17\": {\"17\": 16}, \"55\": {\"55\": 15, \"1\": 1}, \"9\": {\"9\": 15, \"54\": 1}, \"6\": {\"6\": 15, \"48\": 1}, \"52\": {\"52\": 16}, \"43\": {\"43\": 16}, \"54\": {\"54\": 16}, \"0\": {\"0\": 16}, \"26\": {\"26\": 16}, \"35\": {\"35\": 16}, \"28\": {\"28\": 16}, \"15\": {\"15\": 16}, \"57\": {\"57\": 16}, \"30\": {\"30\": 16}, \"2\": {\"2\": 16}, \"13\": {\"13\": 16}, \"31\": {\"31\": 16}, \"32\": {\"32\": 16}, \"19\": {\"19\": 16}, \"34\": {\"34\": 16}, \"38\": {\"38\": 16}, \"37\": {\"37\": 16}, \"5\": {\"5\": 16}, \"18\": {\"18\": 16}, \"3\": {\"3\": 16}, \"25\": {\"25\": 16}, \"24\": {\"24\": 16}, \"27\": {\"27\": 16}, \"29\": {\"29\": 16}, \"4\": {\"4\": 16}, \"14\": {\"14\": 14, \"5\": 1, \"31\": 1}, \"33\": {\"33\": 16}, \"50\": {\"50\": 13, \"21\": 1, \"20\": 2}, \"49\": {\"49\": 16}, \"42\": {\"42\": 16}, \"20\": {\"20\": 16}}}, \"per_domain_accuracy\": {\"5\": {\"accuracy\": 0.9939655172413793, \"source?\": true}, \"1\": {\"accuracy\": 0.9992816091954023, \"source?\": true}, \"4\": {\"accuracy\": 0.9827586206896551, \"source?\": false}, \"2\": {\"accuracy\": 0.9853448275862069, \"source?\": false}, \"3\": {\"accuracy\": 0.9870689655172413, \"source?\": false}}}, \"history\": {\"epoch_indices\": [1, 2, 3, 4, 5, 6, 7, 8, 9, 10], \"train_label_loss\": [0.6412543497788601, 0.026058374093666386, 0.013603306038884254, 0.014424291667147862, 0.010619847160108829, 0.01250913703458933, 0.01067298687601765, 0.011636382286584333, 0.006865921596214228, 0.0056344568384667166], \"source_val_label_loss\": [0.06264270842075348, 0.01966693624854088, 0.0213780514895916, 0.027583960443735123, 0.03075273334980011, 0.022384295240044594, 0.025993194431066513, 0.03469674289226532, 0.02706349454820156, 0.01787571795284748], \"target_val_label_loss\": [0.16188471019268036, 0.0851462110877037, 0.08892502635717392, 0.0974631980061531, 0.09788813441991806, 0.0872870534658432, 0.09441214799880981, 0.15310147404670715, 0.09180774539709091, 0.09206197410821915], \"source_val_acc_label\": [0.9921630094043887, 0.9968652037617555, 0.9956896551724138, 0.9949059561128527, 0.9945141065830722, 0.9968652037617555, 0.9956896551724138, 0.9945141065830722, 0.9956896551724138, 0.9988244514106583], \"target_val_acc_label\": [0.9744694960212201, 0.980106100795756, 0.9837533156498673, 0.9777851458885941, 0.9804376657824934, 0.985079575596817, 0.9824270557029178, 0.9791114058355438, 0.9814323607427056, 0.9840848806366048]}, \"dataset_metrics\": {\"source\": {\"train\": {\"n_unique_x\": 33198, \"n_unique_y\": 58, \"n_batch/episode\": 156}, \"val\": {\"n_unique_x\": 5336, \"n_unique_y\": 58, \"n_batch/episode\": 22}, \"test\": {\"n_unique_x\": 5361, \"n_unique_y\": 58, \"n_batch/episode\": 22}}, \"target\": {\"train\": {\"n_unique_x\": 42709, \"n_unique_y\": 58, \"n_batch/episode\": 195}, \"val\": {\"n_unique_x\": 6530, \"n_unique_y\": 58, \"n_batch/episode\": 26}, \"test\": {\"n_unique_x\": 6932, \"n_unique_y\": 58, \"n_batch/episode\": 28}}}}'"
      ]
     },
     "execution_count": 20,
     "metadata": {},
     "output_type": "execute_result"
    }
   ],
   "source": [
    "json.dumps(experiment)"
   ]
  }
 ],
 "metadata": {
  "celltoolbar": "Tags",
  "kernelspec": {
   "display_name": "Python 3 (ipykernel)",
   "language": "python",
   "name": "python3"
  },
  "language_info": {
   "codemirror_mode": {
    "name": "ipython",
    "version": 3
   },
   "file_extension": ".py",
   "mimetype": "text/x-python",
   "name": "python",
   "nbconvert_exporter": "python",
   "pygments_lexer": "ipython3",
   "version": "3.8.10"
  },
  "papermill": {
   "default_parameters": {},
   "duration": 159.143379,
   "end_time": "2022-03-22T16:25:26.069434",
   "environment_variables": {},
   "exception": null,
   "input_path": "/mnt/wd500GB/CSC500/csc500-main/csc500-notebooks/templates/ptn_template.ipynb",
   "output_path": "trial.ipynb",
   "parameters": {
    "parameters": {
     "BEST_MODEL_PATH": "./best_model.pth",
     "NUM_LOGS_PER_EPOCH": 10,
     "criteria_for_best": "target_accuracy",
     "dataset_seed": 7,
     "device": "cuda",
     "domains_source": [
      1,
      5
     ],
     "domains_target": [
      2,
      3,
      4
     ],
     "episode_transforms_source": [],
     "episode_transforms_target": [],
     "experiment_name": "tuned_1v2:cores",
     "labels_source": [
      "1-10.",
      "1-11.",
      "1-15.",
      "1-16.",
      "1-17.",
      "1-18.",
      "1-19.",
      "10-4.",
      "10-7.",
      "11-1.",
      "11-14.",
      "11-17.",
      "11-20.",
      "11-7.",
      "13-20.",
      "13-8.",
      "14-10.",
      "14-11.",
      "14-14.",
      "14-7.",
      "15-1.",
      "15-20.",
      "16-1.",
      "16-16.",
      "17-10.",
      "17-11.",
      "17-2.",
      "19-1.",
      "19-16.",
      "19-19.",
      "19-20.",
      "19-3.",
      "2-10.",
      "2-11.",
      "2-17.",
      "2-18.",
      "2-20.",
      "2-3.",
      "2-4.",
      "2-5.",
      "2-6.",
      "2-7.",
      "2-8.",
      "3-13.",
      "3-18.",
      "3-3.",
      "4-1.",
      "4-10.",
      "4-11.",
      "4-19.",
      "5-5.",
      "6-15.",
      "7-10.",
      "7-14.",
      "8-18.",
      "8-20.",
      "8-3.",
      "8-8."
     ],
     "labels_target": [
      "1-10.",
      "1-11.",
      "1-15.",
      "1-16.",
      "1-17.",
      "1-18.",
      "1-19.",
      "10-4.",
      "10-7.",
      "11-1.",
      "11-14.",
      "11-17.",
      "11-20.",
      "11-7.",
      "13-20.",
      "13-8.",
      "14-10.",
      "14-11.",
      "14-14.",
      "14-7.",
      "15-1.",
      "15-20.",
      "16-1.",
      "16-16.",
      "17-10.",
      "17-11.",
      "17-2.",
      "19-1.",
      "19-16.",
      "19-19.",
      "19-20.",
      "19-3.",
      "2-10.",
      "2-11.",
      "2-17.",
      "2-18.",
      "2-20.",
      "2-3.",
      "2-4.",
      "2-5.",
      "2-6.",
      "2-7.",
      "2-8.",
      "3-13.",
      "3-18.",
      "3-3.",
      "4-1.",
      "4-10.",
      "4-11.",
      "4-19.",
      "5-5.",
      "6-15.",
      "7-10.",
      "7-14.",
      "8-18.",
      "8-20.",
      "8-3.",
      "8-8."
     ],
     "lr": 0.0001,
     "n_epoch": 50,
     "n_query": 2,
     "n_shot": 3,
     "n_way": 58,
     "num_examples_per_domain_per_label_source": -1,
     "num_examples_per_domain_per_label_target": -1,
     "patience": 3,
     "pickle_name": "cores.stratified_ds.2022A.pkl",
     "seed": 7,
     "test_k_factor": 2,
     "torch_default_dtype": "torch.float32",
     "train_k_factor": 3,
     "val_k_factor": 2,
     "x_net": [
      {
       "class": "nnReshape",
       "kargs": {
        "shape": [
         -1,
         1,
         2,
         256
        ]
       }
      },
      {
       "class": "Conv2d",
       "kargs": {
        "bias": false,
        "in_channels": 1,
        "kernel_size": [
         1,
         7
        ],
        "out_channels": 256,
        "padding": [
         0,
         3
        ]
       }
      },
      {
       "class": "ReLU",
       "kargs": {
        "inplace": true
       }
      },
      {
       "class": "BatchNorm2d",
       "kargs": {
        "num_features": 256
       }
      },
      {
       "class": "Conv2d",
       "kargs": {
        "bias": true,
        "in_channels": 256,
        "kernel_size": [
         2,
         7
        ],
        "out_channels": 80,
        "padding": [
         0,
         3
        ]
       }
      },
      {
       "class": "ReLU",
       "kargs": {
        "inplace": true
       }
      },
      {
       "class": "BatchNorm2d",
       "kargs": {
        "num_features": 80
       }
      },
      {
       "class": "Flatten",
       "kargs": {}
      },
      {
       "class": "Linear",
       "kargs": {
        "in_features": 20480,
        "out_features": 256
       }
      },
      {
       "class": "ReLU",
       "kargs": {
        "inplace": true
       }
      },
      {
       "class": "BatchNorm1d",
       "kargs": {
        "num_features": 256
       }
      },
      {
       "class": "Linear",
       "kargs": {
        "in_features": 256,
        "out_features": 256
       }
      }
     ],
     "x_transforms_source": [
      "unit_power"
     ],
     "x_transforms_target": [
      "unit_power"
     ]
    }
   },
   "start_time": "2022-03-22T16:22:46.926055",
   "version": "2.3.4"
  }
 },
 "nbformat": 4,
 "nbformat_minor": 5
}