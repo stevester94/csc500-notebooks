{
 "cells": [
  {
   "cell_type": "markdown",
   "id": "9fea5f46",
   "metadata": {
    "papermill": {
     "duration": 0.009649,
     "end_time": "2022-03-22T16:27:53.597663",
     "exception": false,
     "start_time": "2022-03-22T16:27:53.588014",
     "status": "completed"
    },
    "tags": []
   },
   "source": [
    "# PTN Template\n",
    "This notebook serves as a template for single dataset PTN experiments  \n",
    "It can be run on its own by setting STANDALONE to True (do a find for \"STANDALONE\" to see where)  \n",
    "But it is intended to be executed as part of a *papermill.py script. See any of the   \n",
    "experimentes with a papermill script to get started with that workflow.  "
   ]
  },
  {
   "cell_type": "code",
   "execution_count": 1,
   "id": "0902182a",
   "metadata": {
    "execution": {
     "iopub.execute_input": "2022-03-22T16:27:53.632151Z",
     "iopub.status.busy": "2022-03-22T16:27:53.631678Z",
     "iopub.status.idle": "2022-03-22T16:27:54.543052Z",
     "shell.execute_reply": "2022-03-22T16:27:54.542533Z"
    },
    "papermill": {
     "duration": 0.936183,
     "end_time": "2022-03-22T16:27:54.543170",
     "exception": false,
     "start_time": "2022-03-22T16:27:53.606987",
     "status": "completed"
    },
    "tags": []
   },
   "outputs": [],
   "source": [
    "%load_ext autoreload\n",
    "%autoreload 2\n",
    "%matplotlib inline\n",
    "\n",
    "    \n",
    "import os, json, sys, time, random\n",
    "import numpy as np\n",
    "import torch\n",
    "from torch.optim import Adam\n",
    "from  easydict import EasyDict\n",
    "import matplotlib.pyplot as plt\n",
    "\n",
    "from steves_models.steves_ptn import Steves_Prototypical_Network\n",
    "\n",
    "from steves_utils.lazy_iterable_wrapper import Lazy_Iterable_Wrapper\n",
    "from steves_utils.iterable_aggregator import Iterable_Aggregator\n",
    "from steves_utils.ptn_train_eval_test_jig import  PTN_Train_Eval_Test_Jig\n",
    "from steves_utils.torch_sequential_builder import build_sequential\n",
    "from steves_utils.torch_utils import get_dataset_metrics, ptn_confusion_by_domain_over_dataloader\n",
    "from steves_utils.utils_v2 import (per_domain_accuracy_from_confusion, get_datasets_base_path)\n",
    "from steves_utils.PTN.utils import independent_accuracy_assesment\n",
    "\n",
    "from steves_utils.stratified_dataset.episodic_accessor import Episodic_Accessor_Factory\n",
    "\n",
    "from steves_utils.ptn_do_report import (\n",
    "    get_loss_curve,\n",
    "    get_results_table,\n",
    "    get_parameters_table,\n",
    "    get_domain_accuracies,\n",
    ")\n",
    "\n",
    "from steves_utils.transforms import get_chained_transform"
   ]
  },
  {
   "cell_type": "markdown",
   "id": "41c840b4",
   "metadata": {
    "papermill": {
     "duration": 0.010327,
     "end_time": "2022-03-22T16:27:54.567577",
     "exception": false,
     "start_time": "2022-03-22T16:27:54.557250",
     "status": "completed"
    },
    "tags": []
   },
   "source": [
    "# Required Parameters\n",
    "These are allowed parameters, not defaults\n",
    "Each of these values need to be present in the injected parameters (the notebook will raise an exception if they are not present)\n",
    "\n",
    "Papermill uses the cell tag \"parameters\" to inject the real parameters below this cell.\n",
    "Enable tags to see what I mean"
   ]
  },
  {
   "cell_type": "code",
   "execution_count": 2,
   "id": "fd44eb83",
   "metadata": {
    "execution": {
     "iopub.execute_input": "2022-03-22T16:27:54.588462Z",
     "iopub.status.busy": "2022-03-22T16:27:54.588197Z",
     "iopub.status.idle": "2022-03-22T16:27:54.598445Z",
     "shell.execute_reply": "2022-03-22T16:27:54.598733Z"
    },
    "papermill": {
     "duration": 0.021941,
     "end_time": "2022-03-22T16:27:54.598816",
     "exception": false,
     "start_time": "2022-03-22T16:27:54.576875",
     "status": "completed"
    },
    "tags": []
   },
   "outputs": [],
   "source": [
    "required_parameters = {\n",
    "    \"experiment_name\",\n",
    "    \"lr\",\n",
    "    \"device\",\n",
    "    \"seed\",\n",
    "    \"dataset_seed\",\n",
    "    \"labels_source\",\n",
    "    \"labels_target\",\n",
    "    \"domains_source\",\n",
    "    \"domains_target\",\n",
    "    \"num_examples_per_domain_per_label_source\",\n",
    "    \"num_examples_per_domain_per_label_target\",\n",
    "    \"n_shot\",\n",
    "    \"n_way\",\n",
    "    \"n_query\",\n",
    "    \"train_k_factor\",\n",
    "    \"val_k_factor\",\n",
    "    \"test_k_factor\",\n",
    "    \"n_epoch\",\n",
    "    \"patience\",\n",
    "    \"criteria_for_best\",\n",
    "    \"x_transforms_source\",\n",
    "    \"x_transforms_target\",\n",
    "    \"episode_transforms_source\",\n",
    "    \"episode_transforms_target\",\n",
    "    \"pickle_name\",\n",
    "    \"x_net\",\n",
    "    \"NUM_LOGS_PER_EPOCH\",\n",
    "    \"BEST_MODEL_PATH\",\n",
    "    \"torch_default_dtype\"\n",
    "}"
   ]
  },
  {
   "cell_type": "code",
   "execution_count": 3,
   "id": "fa3f0049",
   "metadata": {
    "execution": {
     "iopub.execute_input": "2022-03-22T16:27:54.628160Z",
     "iopub.status.busy": "2022-03-22T16:27:54.627848Z",
     "iopub.status.idle": "2022-03-22T16:27:54.639493Z",
     "shell.execute_reply": "2022-03-22T16:27:54.639780Z"
    },
    "papermill": {
     "duration": 0.026853,
     "end_time": "2022-03-22T16:27:54.639861",
     "exception": false,
     "start_time": "2022-03-22T16:27:54.613008",
     "status": "completed"
    },
    "tags": [
     "parameters"
    ]
   },
   "outputs": [],
   "source": [
    "\n",
    "\n",
    "standalone_parameters = {}\n",
    "standalone_parameters[\"experiment_name\"] = \"STANDALONE PTN\"\n",
    "standalone_parameters[\"lr\"] = 0.0001\n",
    "standalone_parameters[\"device\"] = \"cuda\"\n",
    "\n",
    "standalone_parameters[\"seed\"] = 1337\n",
    "standalone_parameters[\"dataset_seed\"] = 1337\n",
    "\n",
    "\n",
    "standalone_parameters[\"num_examples_per_domain_per_label_source\"]=100\n",
    "standalone_parameters[\"num_examples_per_domain_per_label_target\"]=100\n",
    "\n",
    "standalone_parameters[\"n_shot\"] = 3\n",
    "standalone_parameters[\"n_query\"]  = 2\n",
    "standalone_parameters[\"train_k_factor\"] = 1\n",
    "standalone_parameters[\"val_k_factor\"] = 2\n",
    "standalone_parameters[\"test_k_factor\"] = 2\n",
    "\n",
    "\n",
    "standalone_parameters[\"n_epoch\"] = 100\n",
    "\n",
    "standalone_parameters[\"patience\"] = 10\n",
    "standalone_parameters[\"criteria_for_best\"] = \"target_accuracy\"\n",
    "\n",
    "standalone_parameters[\"x_transforms_source\"] = [\"unit_power\"]\n",
    "standalone_parameters[\"x_transforms_target\"] = [\"unit_power\"]\n",
    "standalone_parameters[\"episode_transforms_source\"] = []\n",
    "standalone_parameters[\"episode_transforms_target\"] = []\n",
    "\n",
    "standalone_parameters[\"torch_default_dtype\"] = \"torch.float32\" \n",
    "\n",
    "\n",
    "\n",
    "standalone_parameters[\"x_net\"] =     [\n",
    "    {\"class\": \"nnReshape\", \"kargs\": {\"shape\":[-1, 1, 2, 256]}},\n",
    "    {\"class\": \"Conv2d\", \"kargs\": { \"in_channels\":1, \"out_channels\":256, \"kernel_size\":(1,7), \"bias\":False, \"padding\":(0,3), },},\n",
    "    {\"class\": \"ReLU\", \"kargs\": {\"inplace\": True}},\n",
    "    {\"class\": \"BatchNorm2d\", \"kargs\": {\"num_features\":256}},\n",
    "\n",
    "    {\"class\": \"Conv2d\", \"kargs\": { \"in_channels\":256, \"out_channels\":80, \"kernel_size\":(2,7), \"bias\":True, \"padding\":(0,3), },},\n",
    "    {\"class\": \"ReLU\", \"kargs\": {\"inplace\": True}},\n",
    "    {\"class\": \"BatchNorm2d\", \"kargs\": {\"num_features\":80}},\n",
    "    {\"class\": \"Flatten\", \"kargs\": {}},\n",
    "\n",
    "    {\"class\": \"Linear\", \"kargs\": {\"in_features\": 80*256, \"out_features\": 256}}, # 80 units per IQ pair\n",
    "    {\"class\": \"ReLU\", \"kargs\": {\"inplace\": True}},\n",
    "    {\"class\": \"BatchNorm1d\", \"kargs\": {\"num_features\":256}},\n",
    "\n",
    "    {\"class\": \"Linear\", \"kargs\": {\"in_features\": 256, \"out_features\": 256}},\n",
    "]\n",
    "\n",
    "# Parameters relevant to results\n",
    "# These parameters will basically never need to change\n",
    "standalone_parameters[\"NUM_LOGS_PER_EPOCH\"] = 10\n",
    "standalone_parameters[\"BEST_MODEL_PATH\"] = \"./best_model.pth\"\n",
    "\n",
    "# uncomment for CORES dataset\n",
    "from steves_utils.CORES.utils import (\n",
    "    ALL_NODES,\n",
    "    ALL_NODES_MINIMUM_1000_EXAMPLES,\n",
    "    ALL_DAYS\n",
    ")\n",
    "\n",
    "\n",
    "standalone_parameters[\"labels_source\"] = ALL_NODES\n",
    "standalone_parameters[\"labels_target\"] = ALL_NODES\n",
    "\n",
    "standalone_parameters[\"domains_source\"] = [1]\n",
    "standalone_parameters[\"domains_target\"] = [2,3,4,5]\n",
    "\n",
    "standalone_parameters[\"pickle_name\"] = \"cores.stratified_ds.2022A.pkl\"\n",
    "\n",
    "\n",
    "# Uncomment these for ORACLE dataset\n",
    "# from steves_utils.ORACLE.utils_v2 import (\n",
    "#     ALL_DISTANCES_FEET,\n",
    "#     ALL_RUNS,\n",
    "#     ALL_SERIAL_NUMBERS,\n",
    "# )\n",
    "# standalone_parameters[\"labels_source\"] = ALL_SERIAL_NUMBERS\n",
    "# standalone_parameters[\"labels_target\"] = ALL_SERIAL_NUMBERS\n",
    "# standalone_parameters[\"domains_source\"] = [8,20, 38,50]\n",
    "# standalone_parameters[\"domains_target\"] = [14, 26, 32, 44, 56]\n",
    "# standalone_parameters[\"pickle_name\"] = \"oracle.frame_indexed.stratified_ds.2022A.pkl\"\n",
    "# standalone_parameters[\"num_examples_per_domain_per_label_source\"]=1000\n",
    "# standalone_parameters[\"num_examples_per_domain_per_label_target\"]=1000\n",
    "\n",
    "# Uncomment these for Metahan dataset\n",
    "# standalone_parameters[\"labels_source\"] = list(range(19))\n",
    "# standalone_parameters[\"labels_target\"] = list(range(19))\n",
    "# standalone_parameters[\"domains_source\"] = [0]\n",
    "# standalone_parameters[\"domains_target\"] = [1]\n",
    "# standalone_parameters[\"pickle_name\"] = \"metehan.stratified_ds.2022A.pkl\"\n",
    "# standalone_parameters[\"n_way\"]  = len(standalone_parameters[\"labels_source\"])\n",
    "# standalone_parameters[\"num_examples_per_domain_per_label_source\"]=200\n",
    "# standalone_parameters[\"num_examples_per_domain_per_label_target\"]=100\n",
    "\n",
    "\n",
    "standalone_parameters[\"n_way\"]  = len(standalone_parameters[\"labels_source\"])"
   ]
  },
  {
   "cell_type": "code",
   "execution_count": 4,
   "id": "d63161ff",
   "metadata": {
    "execution": {
     "iopub.execute_input": "2022-03-22T16:27:54.670539Z",
     "iopub.status.busy": "2022-03-22T16:27:54.670171Z",
     "iopub.status.idle": "2022-03-22T16:27:54.682656Z",
     "shell.execute_reply": "2022-03-22T16:27:54.682293Z"
    },
    "papermill": {
     "duration": 0.029552,
     "end_time": "2022-03-22T16:27:54.682747",
     "exception": false,
     "start_time": "2022-03-22T16:27:54.653195",
     "status": "completed"
    },
    "tags": [
     "injected-parameters"
    ]
   },
   "outputs": [],
   "source": [
    "# Parameters\n",
    "parameters = {\n",
    "    \"experiment_name\": \"tuned_1v2:cores\",\n",
    "    \"device\": \"cuda\",\n",
    "    \"lr\": 0.0001,\n",
    "    \"labels_source\": [\n",
    "        \"1-10.\",\n",
    "        \"1-11.\",\n",
    "        \"1-15.\",\n",
    "        \"1-16.\",\n",
    "        \"1-17.\",\n",
    "        \"1-18.\",\n",
    "        \"1-19.\",\n",
    "        \"10-4.\",\n",
    "        \"10-7.\",\n",
    "        \"11-1.\",\n",
    "        \"11-14.\",\n",
    "        \"11-17.\",\n",
    "        \"11-20.\",\n",
    "        \"11-7.\",\n",
    "        \"13-20.\",\n",
    "        \"13-8.\",\n",
    "        \"14-10.\",\n",
    "        \"14-11.\",\n",
    "        \"14-14.\",\n",
    "        \"14-7.\",\n",
    "        \"15-1.\",\n",
    "        \"15-20.\",\n",
    "        \"16-1.\",\n",
    "        \"16-16.\",\n",
    "        \"17-10.\",\n",
    "        \"17-11.\",\n",
    "        \"17-2.\",\n",
    "        \"19-1.\",\n",
    "        \"19-16.\",\n",
    "        \"19-19.\",\n",
    "        \"19-20.\",\n",
    "        \"19-3.\",\n",
    "        \"2-10.\",\n",
    "        \"2-11.\",\n",
    "        \"2-17.\",\n",
    "        \"2-18.\",\n",
    "        \"2-20.\",\n",
    "        \"2-3.\",\n",
    "        \"2-4.\",\n",
    "        \"2-5.\",\n",
    "        \"2-6.\",\n",
    "        \"2-7.\",\n",
    "        \"2-8.\",\n",
    "        \"3-13.\",\n",
    "        \"3-18.\",\n",
    "        \"3-3.\",\n",
    "        \"4-1.\",\n",
    "        \"4-10.\",\n",
    "        \"4-11.\",\n",
    "        \"4-19.\",\n",
    "        \"5-5.\",\n",
    "        \"6-15.\",\n",
    "        \"7-10.\",\n",
    "        \"7-14.\",\n",
    "        \"8-18.\",\n",
    "        \"8-20.\",\n",
    "        \"8-3.\",\n",
    "        \"8-8.\",\n",
    "    ],\n",
    "    \"labels_target\": [\n",
    "        \"1-10.\",\n",
    "        \"1-11.\",\n",
    "        \"1-15.\",\n",
    "        \"1-16.\",\n",
    "        \"1-17.\",\n",
    "        \"1-18.\",\n",
    "        \"1-19.\",\n",
    "        \"10-4.\",\n",
    "        \"10-7.\",\n",
    "        \"11-1.\",\n",
    "        \"11-14.\",\n",
    "        \"11-17.\",\n",
    "        \"11-20.\",\n",
    "        \"11-7.\",\n",
    "        \"13-20.\",\n",
    "        \"13-8.\",\n",
    "        \"14-10.\",\n",
    "        \"14-11.\",\n",
    "        \"14-14.\",\n",
    "        \"14-7.\",\n",
    "        \"15-1.\",\n",
    "        \"15-20.\",\n",
    "        \"16-1.\",\n",
    "        \"16-16.\",\n",
    "        \"17-10.\",\n",
    "        \"17-11.\",\n",
    "        \"17-2.\",\n",
    "        \"19-1.\",\n",
    "        \"19-16.\",\n",
    "        \"19-19.\",\n",
    "        \"19-20.\",\n",
    "        \"19-3.\",\n",
    "        \"2-10.\",\n",
    "        \"2-11.\",\n",
    "        \"2-17.\",\n",
    "        \"2-18.\",\n",
    "        \"2-20.\",\n",
    "        \"2-3.\",\n",
    "        \"2-4.\",\n",
    "        \"2-5.\",\n",
    "        \"2-6.\",\n",
    "        \"2-7.\",\n",
    "        \"2-8.\",\n",
    "        \"3-13.\",\n",
    "        \"3-18.\",\n",
    "        \"3-3.\",\n",
    "        \"4-1.\",\n",
    "        \"4-10.\",\n",
    "        \"4-11.\",\n",
    "        \"4-19.\",\n",
    "        \"5-5.\",\n",
    "        \"6-15.\",\n",
    "        \"7-10.\",\n",
    "        \"7-14.\",\n",
    "        \"8-18.\",\n",
    "        \"8-20.\",\n",
    "        \"8-3.\",\n",
    "        \"8-8.\",\n",
    "    ],\n",
    "    \"episode_transforms_source\": [],\n",
    "    \"episode_transforms_target\": [],\n",
    "    \"domains_source\": [1, 5],\n",
    "    \"domains_target\": [2, 3, 4],\n",
    "    \"num_examples_per_domain_per_label_source\": -1,\n",
    "    \"num_examples_per_domain_per_label_target\": -1,\n",
    "    \"n_shot\": 3,\n",
    "    \"n_way\": 58,\n",
    "    \"n_query\": 2,\n",
    "    \"train_k_factor\": 3,\n",
    "    \"val_k_factor\": 2,\n",
    "    \"test_k_factor\": 2,\n",
    "    \"torch_default_dtype\": \"torch.float32\",\n",
    "    \"n_epoch\": 50,\n",
    "    \"patience\": 3,\n",
    "    \"criteria_for_best\": \"target_accuracy\",\n",
    "    \"x_net\": [\n",
    "        {\"class\": \"nnReshape\", \"kargs\": {\"shape\": [-1, 1, 2, 256]}},\n",
    "        {\n",
    "            \"class\": \"Conv2d\",\n",
    "            \"kargs\": {\n",
    "                \"in_channels\": 1,\n",
    "                \"out_channels\": 256,\n",
    "                \"kernel_size\": [1, 7],\n",
    "                \"bias\": False,\n",
    "                \"padding\": [0, 3],\n",
    "            },\n",
    "        },\n",
    "        {\"class\": \"ReLU\", \"kargs\": {\"inplace\": True}},\n",
    "        {\"class\": \"BatchNorm2d\", \"kargs\": {\"num_features\": 256}},\n",
    "        {\n",
    "            \"class\": \"Conv2d\",\n",
    "            \"kargs\": {\n",
    "                \"in_channels\": 256,\n",
    "                \"out_channels\": 80,\n",
    "                \"kernel_size\": [2, 7],\n",
    "                \"bias\": True,\n",
    "                \"padding\": [0, 3],\n",
    "            },\n",
    "        },\n",
    "        {\"class\": \"ReLU\", \"kargs\": {\"inplace\": True}},\n",
    "        {\"class\": \"BatchNorm2d\", \"kargs\": {\"num_features\": 80}},\n",
    "        {\"class\": \"Flatten\", \"kargs\": {}},\n",
    "        {\"class\": \"Linear\", \"kargs\": {\"in_features\": 20480, \"out_features\": 256}},\n",
    "        {\"class\": \"ReLU\", \"kargs\": {\"inplace\": True}},\n",
    "        {\"class\": \"BatchNorm1d\", \"kargs\": {\"num_features\": 256}},\n",
    "        {\"class\": \"Linear\", \"kargs\": {\"in_features\": 256, \"out_features\": 256}},\n",
    "    ],\n",
    "    \"NUM_LOGS_PER_EPOCH\": 10,\n",
    "    \"BEST_MODEL_PATH\": \"./best_model.pth\",\n",
    "    \"pickle_name\": \"cores.stratified_ds.2022A.pkl\",\n",
    "    \"x_transforms_source\": [],\n",
    "    \"x_transforms_target\": [],\n",
    "    \"dataset_seed\": 7,\n",
    "    \"seed\": 7,\n",
    "}\n"
   ]
  },
  {
   "cell_type": "code",
   "execution_count": 5,
   "id": "8fa1cc33",
   "metadata": {
    "execution": {
     "iopub.execute_input": "2022-03-22T16:27:54.709665Z",
     "iopub.status.busy": "2022-03-22T16:27:54.709410Z",
     "iopub.status.idle": "2022-03-22T16:27:54.723485Z",
     "shell.execute_reply": "2022-03-22T16:27:54.723150Z"
    },
    "papermill": {
     "duration": 0.026842,
     "end_time": "2022-03-22T16:27:54.723574",
     "exception": false,
     "start_time": "2022-03-22T16:27:54.696732",
     "status": "completed"
    },
    "tags": []
   },
   "outputs": [],
   "source": [
    "# Set this to True if you want to run this template directly\n",
    "STANDALONE = False\n",
    "if STANDALONE:\n",
    "    print(\"parameters not injected, running with standalone_parameters\")\n",
    "    parameters = standalone_parameters\n",
    "\n",
    "if not 'parameters' in locals() and not 'parameters' in globals():\n",
    "    raise Exception(\"Parameter injection failed\")\n",
    "\n",
    "#Use an easy dict for all the parameters\n",
    "p = EasyDict(parameters)\n",
    "\n",
    "supplied_keys = set(p.keys())\n",
    "\n",
    "if  supplied_keys != required_parameters:\n",
    "    print(\"Parameters are incorrect\")\n",
    "    if len(supplied_keys - required_parameters)>0: print(\"Shouldn't have:\", str(supplied_keys - required_parameters))\n",
    "    if len(required_parameters - supplied_keys)>0: print(\"Need to have:\", str(required_parameters - supplied_keys))\n",
    "    raise RuntimeError(\"Parameters are incorrect\")\n",
    "\n"
   ]
  },
  {
   "cell_type": "code",
   "execution_count": 6,
   "id": "3a028d58",
   "metadata": {
    "execution": {
     "iopub.execute_input": "2022-03-22T16:27:54.750459Z",
     "iopub.status.busy": "2022-03-22T16:27:54.750214Z",
     "iopub.status.idle": "2022-03-22T16:27:54.760059Z",
     "shell.execute_reply": "2022-03-22T16:27:54.760346Z"
    },
    "papermill": {
     "duration": 0.021897,
     "end_time": "2022-03-22T16:27:54.760426",
     "exception": false,
     "start_time": "2022-03-22T16:27:54.738529",
     "status": "completed"
    },
    "tags": []
   },
   "outputs": [],
   "source": [
    "###################################\n",
    "# Set the RNGs and make it all deterministic\n",
    "###################################\n",
    "np.random.seed(p.seed)\n",
    "random.seed(p.seed)\n",
    "torch.manual_seed(p.seed)\n",
    "\n",
    "torch.use_deterministic_algorithms(True) "
   ]
  },
  {
   "cell_type": "code",
   "execution_count": 7,
   "id": "b691acf6",
   "metadata": {
    "execution": {
     "iopub.execute_input": "2022-03-22T16:27:54.786554Z",
     "iopub.status.busy": "2022-03-22T16:27:54.786312Z",
     "iopub.status.idle": "2022-03-22T16:27:54.800210Z",
     "shell.execute_reply": "2022-03-22T16:27:54.799826Z"
    },
    "papermill": {
     "duration": 0.026178,
     "end_time": "2022-03-22T16:27:54.800298",
     "exception": false,
     "start_time": "2022-03-22T16:27:54.774120",
     "status": "completed"
    },
    "tags": []
   },
   "outputs": [],
   "source": [
    "###########################################\n",
    "# The stratified datasets honor this\n",
    "###########################################\n",
    "torch.set_default_dtype(eval(p.torch_default_dtype))"
   ]
  },
  {
   "cell_type": "code",
   "execution_count": 8,
   "id": "b5fba671",
   "metadata": {
    "execution": {
     "iopub.execute_input": "2022-03-22T16:27:54.826362Z",
     "iopub.status.busy": "2022-03-22T16:27:54.826118Z",
     "iopub.status.idle": "2022-03-22T16:27:54.862599Z",
     "shell.execute_reply": "2022-03-22T16:27:54.862155Z"
    },
    "papermill": {
     "duration": 0.047759,
     "end_time": "2022-03-22T16:27:54.862686",
     "exception": false,
     "start_time": "2022-03-22T16:27:54.814927",
     "status": "completed"
    },
    "tags": []
   },
   "outputs": [],
   "source": [
    "###################################\n",
    "# Build the network(s)\n",
    "# Note: It's critical to do this AFTER setting the RNG\n",
    "# (This is due to the randomized initial weights)\n",
    "###################################\n",
    "x_net = build_sequential(p.x_net)"
   ]
  },
  {
   "cell_type": "code",
   "execution_count": 9,
   "id": "5d7e61cc",
   "metadata": {
    "execution": {
     "iopub.execute_input": "2022-03-22T16:27:54.888625Z",
     "iopub.status.busy": "2022-03-22T16:27:54.888384Z",
     "iopub.status.idle": "2022-03-22T16:27:54.902685Z",
     "shell.execute_reply": "2022-03-22T16:27:54.902893Z"
    },
    "papermill": {
     "duration": 0.026259,
     "end_time": "2022-03-22T16:27:54.902950",
     "exception": false,
     "start_time": "2022-03-22T16:27:54.876691",
     "status": "completed"
    },
    "tags": []
   },
   "outputs": [],
   "source": [
    "start_time_secs = time.time()"
   ]
  },
  {
   "cell_type": "code",
   "execution_count": 10,
   "id": "fd5442bc",
   "metadata": {
    "execution": {
     "iopub.execute_input": "2022-03-22T16:27:54.934328Z",
     "iopub.status.busy": "2022-03-22T16:27:54.933956Z",
     "iopub.status.idle": "2022-03-22T16:27:56.418680Z",
     "shell.execute_reply": "2022-03-22T16:27:56.418248Z"
    },
    "papermill": {
     "duration": 1.502345,
     "end_time": "2022-03-22T16:27:56.418776",
     "exception": false,
     "start_time": "2022-03-22T16:27:54.916431",
     "status": "completed"
    },
    "tags": []
   },
   "outputs": [],
   "source": [
    "###################################\n",
    "# Build the dataset\n",
    "###################################\n",
    "\n",
    "if p.x_transforms_source == []: x_transform_source = None\n",
    "else: x_transform_source = get_chained_transform(p.x_transforms_source) \n",
    "\n",
    "if p.x_transforms_target == []: x_transform_target = None\n",
    "else: x_transform_target = get_chained_transform(p.x_transforms_target)\n",
    "\n",
    "if p.episode_transforms_source == []: episode_transform_source = None\n",
    "else: raise Exception(\"episode_transform_source not implemented\")\n",
    "\n",
    "if p.episode_transforms_target == []: episode_transform_target = None\n",
    "else: raise Exception(\"episode_transform_target not implemented\")\n",
    "\n",
    "\n",
    "eaf_source = Episodic_Accessor_Factory(\n",
    "    labels=p.labels_source,\n",
    "    domains=p.domains_source,\n",
    "    num_examples_per_domain_per_label=p.num_examples_per_domain_per_label_source,\n",
    "    iterator_seed=p.seed,\n",
    "    dataset_seed=p.dataset_seed,\n",
    "    n_shot=p.n_shot,\n",
    "    n_way=p.n_way,\n",
    "    n_query=p.n_query,\n",
    "    train_val_test_k_factors=(p.train_k_factor,p.val_k_factor,p.test_k_factor),\n",
    "    pickle_path=os.path.join(get_datasets_base_path(), p.pickle_name),\n",
    "    x_transform_func=x_transform_source,\n",
    "    example_transform_func=episode_transform_source,\n",
    "    \n",
    ")\n",
    "train_original_source, val_original_source, test_original_source = eaf_source.get_train(), eaf_source.get_val(), eaf_source.get_test()\n",
    "\n",
    "\n",
    "eaf_target = Episodic_Accessor_Factory(\n",
    "    labels=p.labels_target,\n",
    "    domains=p.domains_target,\n",
    "    num_examples_per_domain_per_label=p.num_examples_per_domain_per_label_target,\n",
    "    iterator_seed=p.seed,\n",
    "    dataset_seed=p.dataset_seed,\n",
    "    n_shot=p.n_shot,\n",
    "    n_way=p.n_way,\n",
    "    n_query=p.n_query,\n",
    "    train_val_test_k_factors=(p.train_k_factor,p.val_k_factor,p.test_k_factor),\n",
    "    pickle_path=os.path.join(get_datasets_base_path(), p.pickle_name),\n",
    "    x_transform_func=x_transform_target,\n",
    "    example_transform_func=episode_transform_target,\n",
    ")\n",
    "train_original_target, val_original_target, test_original_target = eaf_target.get_train(), eaf_target.get_val(), eaf_target.get_test()\n",
    "\n",
    "\n",
    "transform_lambda = lambda ex: ex[1] # Original is (<domain>, <episode>) so we strip down to episode only\n",
    "\n",
    "train_processed_source = Lazy_Iterable_Wrapper(train_original_source, transform_lambda)\n",
    "val_processed_source   = Lazy_Iterable_Wrapper(val_original_source, transform_lambda)\n",
    "test_processed_source  = Lazy_Iterable_Wrapper(test_original_source, transform_lambda)\n",
    "\n",
    "train_processed_target = Lazy_Iterable_Wrapper(train_original_target, transform_lambda)\n",
    "val_processed_target   = Lazy_Iterable_Wrapper(val_original_target, transform_lambda)\n",
    "test_processed_target  = Lazy_Iterable_Wrapper(test_original_target, transform_lambda)\n",
    "\n",
    "datasets = EasyDict({\n",
    "    \"source\": {\n",
    "        \"original\": {\"train\":train_original_source, \"val\":val_original_source, \"test\":test_original_source},\n",
    "        \"processed\": {\"train\":train_processed_source, \"val\":val_processed_source, \"test\":test_processed_source}\n",
    "    },\n",
    "    \"target\": {\n",
    "        \"original\": {\"train\":train_original_target, \"val\":val_original_target, \"test\":test_original_target},\n",
    "        \"processed\": {\"train\":train_processed_target, \"val\":val_processed_target, \"test\":test_processed_target}\n",
    "    },\n",
    "})"
   ]
  },
  {
   "cell_type": "code",
   "execution_count": 11,
   "id": "296189d9",
   "metadata": {
    "execution": {
     "iopub.execute_input": "2022-03-22T16:27:56.455995Z",
     "iopub.status.busy": "2022-03-22T16:27:56.455740Z",
     "iopub.status.idle": "2022-03-22T16:27:58.119537Z",
     "shell.execute_reply": "2022-03-22T16:27:58.119942Z"
    },
    "papermill": {
     "duration": 1.680611,
     "end_time": "2022-03-22T16:27:58.120053",
     "exception": false,
     "start_time": "2022-03-22T16:27:56.439442",
     "status": "completed"
    },
    "tags": []
   },
   "outputs": [
    {
     "name": "stdout",
     "output_type": "stream",
     "text": [
      "Visually inspect these to see if they line up with expected values given the transforms\n",
      "x_transforms_source []\n",
      "x_transforms_target []\n",
      "Average magnitude, source: 0.01988307\n",
      "Average power, source: 0.00048145407\n"
     ]
    },
    {
     "name": "stdout",
     "output_type": "stream",
     "text": [
      "Average magnitude, target: 0.015587808\n",
      "Average power, target: 0.00029232036\n"
     ]
    }
   ],
   "source": [
    "# Some quick unit tests on the data\n",
    "from steves_utils.transforms import get_average_power, get_average_magnitude\n",
    "\n",
    "q_x, q_y, s_x, s_y, truth = next(iter(train_processed_source))\n",
    "\n",
    "assert q_x.dtype == eval(p.torch_default_dtype)\n",
    "assert s_x.dtype == eval(p.torch_default_dtype)\n",
    "\n",
    "print(\"Visually inspect these to see if they line up with expected values given the transforms\")\n",
    "print('x_transforms_source', p.x_transforms_source)\n",
    "print('x_transforms_target', p.x_transforms_target)\n",
    "print(\"Average magnitude, source:\", get_average_magnitude(q_x[0].numpy()))\n",
    "print(\"Average power, source:\", get_average_power(q_x[0].numpy()))\n",
    "\n",
    "q_x, q_y, s_x, s_y, truth = next(iter(train_processed_target))\n",
    "print(\"Average magnitude, target:\", get_average_magnitude(q_x[0].numpy()))\n",
    "print(\"Average power, target:\", get_average_power(q_x[0].numpy()))\n"
   ]
  },
  {
   "cell_type": "code",
   "execution_count": 12,
   "id": "bbdacba1",
   "metadata": {
    "execution": {
     "iopub.execute_input": "2022-03-22T16:27:58.152043Z",
     "iopub.status.busy": "2022-03-22T16:27:58.151784Z",
     "iopub.status.idle": "2022-03-22T16:27:58.217546Z",
     "shell.execute_reply": "2022-03-22T16:27:58.217917Z"
    },
    "papermill": {
     "duration": 0.080863,
     "end_time": "2022-03-22T16:27:58.218041",
     "exception": false,
     "start_time": "2022-03-22T16:27:58.137178",
     "status": "completed"
    },
    "tags": []
   },
   "outputs": [
    {
     "name": "stdout",
     "output_type": "stream",
     "text": [
      "(2, 256)\n"
     ]
    }
   ],
   "source": [
    "###################################\n",
    "# Build the model\n",
    "###################################\n",
    "model = Steves_Prototypical_Network(x_net, device=p.device, x_shape=(2,256))\n",
    "optimizer = Adam(params=model.parameters(), lr=p.lr)"
   ]
  },
  {
   "cell_type": "code",
   "execution_count": 13,
   "id": "22b39ac5",
   "metadata": {
    "execution": {
     "iopub.execute_input": "2022-03-22T16:27:58.248941Z",
     "iopub.status.busy": "2022-03-22T16:27:58.248694Z",
     "iopub.status.idle": "2022-03-22T16:30:47.311095Z",
     "shell.execute_reply": "2022-03-22T16:30:47.311444Z"
    },
    "papermill": {
     "duration": 169.076548,
     "end_time": "2022-03-22T16:30:47.311549",
     "exception": false,
     "start_time": "2022-03-22T16:27:58.235001",
     "status": "completed"
    },
    "tags": []
   },
   "outputs": [
    {
     "name": "stdout",
     "output_type": "stream",
     "text": [
      "epoch: 1, [batch: 1 / 156], examples_per_second: 1046.6231, train_label_loss: 3.1358, \n"
     ]
    },
    {
     "name": "stdout",
     "output_type": "stream",
     "text": [
      "epoch: 1, [batch: 16 / 156], examples_per_second: 3909.1265, train_label_loss: 1.7337, \n"
     ]
    },
    {
     "name": "stdout",
     "output_type": "stream",
     "text": [
      "epoch: 1, [batch: 32 / 156], examples_per_second: 3924.5132, train_label_loss: 1.0593, \n"
     ]
    },
    {
     "name": "stdout",
     "output_type": "stream",
     "text": [
      "epoch: 1, [batch: 47 / 156], examples_per_second: 3849.2363, train_label_loss: 0.5836, \n"
     ]
    },
    {
     "name": "stdout",
     "output_type": "stream",
     "text": [
      "epoch: 1, [batch: 63 / 156], examples_per_second: 3910.2229, train_label_loss: 0.4372, \n"
     ]
    },
    {
     "name": "stdout",
     "output_type": "stream",
     "text": [
      "epoch: 1, [batch: 78 / 156], examples_per_second: 3927.0979, train_label_loss: 0.2803, \n"
     ]
    },
    {
     "name": "stdout",
     "output_type": "stream",
     "text": [
      "epoch: 1, [batch: 94 / 156], examples_per_second: 3856.9345, train_label_loss: 0.2112, \n"
     ]
    },
    {
     "name": "stdout",
     "output_type": "stream",
     "text": [
      "epoch: 1, [batch: 109 / 156], examples_per_second: 3934.5631, train_label_loss: 0.1300, \n"
     ]
    },
    {
     "name": "stdout",
     "output_type": "stream",
     "text": [
      "epoch: 1, [batch: 125 / 156], examples_per_second: 3923.9680, train_label_loss: 0.1295, \n"
     ]
    },
    {
     "name": "stdout",
     "output_type": "stream",
     "text": [
      "epoch: 1, [batch: 140 / 156], examples_per_second: 3927.0303, train_label_loss: 0.0657, \n"
     ]
    },
    {
     "name": "stdout",
     "output_type": "stream",
     "text": [
      "=============================================================\n",
      "epoch: 1, source_val_acc_label: 0.9890, target_val_acc_label: 0.9612, source_val_label_loss: 0.0887, target_val_label_loss: 0.2437, \n",
      "=============================================================\n"
     ]
    },
    {
     "name": "stdout",
     "output_type": "stream",
     "text": [
      "New best\n"
     ]
    },
    {
     "name": "stdout",
     "output_type": "stream",
     "text": [
      "epoch: 2, [batch: 1 / 156], examples_per_second: 201.2026, train_label_loss: 0.0824, \n"
     ]
    },
    {
     "name": "stdout",
     "output_type": "stream",
     "text": [
      "epoch: 2, [batch: 16 / 156], examples_per_second: 3986.0141, train_label_loss: 0.0197, \n"
     ]
    },
    {
     "name": "stdout",
     "output_type": "stream",
     "text": [
      "epoch: 2, [batch: 32 / 156], examples_per_second: 3986.6494, train_label_loss: 0.0341, \n"
     ]
    },
    {
     "name": "stdout",
     "output_type": "stream",
     "text": [
      "epoch: 2, [batch: 47 / 156], examples_per_second: 3908.6341, train_label_loss: 0.0217, \n"
     ]
    },
    {
     "name": "stdout",
     "output_type": "stream",
     "text": [
      "epoch: 2, [batch: 63 / 156], examples_per_second: 3988.9635, train_label_loss: 0.0143, \n"
     ]
    },
    {
     "name": "stdout",
     "output_type": "stream",
     "text": [
      "epoch: 2, [batch: 78 / 156], examples_per_second: 3994.7598, train_label_loss: 0.0209, \n"
     ]
    },
    {
     "name": "stdout",
     "output_type": "stream",
     "text": [
      "epoch: 2, [batch: 94 / 156], examples_per_second: 3910.6952, train_label_loss: 0.0177, \n"
     ]
    },
    {
     "name": "stdout",
     "output_type": "stream",
     "text": [
      "epoch: 2, [batch: 109 / 156], examples_per_second: 3976.8481, train_label_loss: 0.0393, \n"
     ]
    },
    {
     "name": "stdout",
     "output_type": "stream",
     "text": [
      "epoch: 2, [batch: 125 / 156], examples_per_second: 3994.1563, train_label_loss: 0.1040, \n"
     ]
    },
    {
     "name": "stdout",
     "output_type": "stream",
     "text": [
      "epoch: 2, [batch: 140 / 156], examples_per_second: 3989.8608, train_label_loss: 0.0183, \n"
     ]
    },
    {
     "name": "stdout",
     "output_type": "stream",
     "text": [
      "=============================================================\n",
      "epoch: 2, source_val_acc_label: 0.9945, target_val_acc_label: 0.9658, source_val_label_loss: 0.0335, target_val_label_loss: 0.1619, \n",
      "=============================================================\n"
     ]
    },
    {
     "name": "stdout",
     "output_type": "stream",
     "text": [
      "New best\n"
     ]
    },
    {
     "name": "stdout",
     "output_type": "stream",
     "text": [
      "epoch: 3, [batch: 1 / 156], examples_per_second: 199.7995, train_label_loss: 0.0881, \n"
     ]
    },
    {
     "name": "stdout",
     "output_type": "stream",
     "text": [
      "epoch: 3, [batch: 16 / 156], examples_per_second: 4001.3269, train_label_loss: 0.0054, \n"
     ]
    },
    {
     "name": "stdout",
     "output_type": "stream",
     "text": [
      "epoch: 3, [batch: 32 / 156], examples_per_second: 3996.0910, train_label_loss: 0.0033, \n"
     ]
    },
    {
     "name": "stdout",
     "output_type": "stream",
     "text": [
      "epoch: 3, [batch: 47 / 156], examples_per_second: 3919.1180, train_label_loss: 0.0184, \n"
     ]
    },
    {
     "name": "stdout",
     "output_type": "stream",
     "text": [
      "epoch: 3, [batch: 63 / 156], examples_per_second: 4002.3211, train_label_loss: 0.0072, \n"
     ]
    },
    {
     "name": "stdout",
     "output_type": "stream",
     "text": [
      "epoch: 3, [batch: 78 / 156], examples_per_second: 4000.5811, train_label_loss: 0.0192, \n"
     ]
    },
    {
     "name": "stdout",
     "output_type": "stream",
     "text": [
      "epoch: 3, [batch: 94 / 156], examples_per_second: 3923.1659, train_label_loss: 0.0027, \n"
     ]
    },
    {
     "name": "stdout",
     "output_type": "stream",
     "text": [
      "epoch: 3, [batch: 109 / 156], examples_per_second: 4000.0391, train_label_loss: 0.0070, \n"
     ]
    },
    {
     "name": "stdout",
     "output_type": "stream",
     "text": [
      "epoch: 3, [batch: 125 / 156], examples_per_second: 3992.7329, train_label_loss: 0.0050, \n"
     ]
    },
    {
     "name": "stdout",
     "output_type": "stream",
     "text": [
      "epoch: 3, [batch: 140 / 156], examples_per_second: 3999.9006, train_label_loss: 0.0213, \n"
     ]
    },
    {
     "name": "stdout",
     "output_type": "stream",
     "text": [
      "=============================================================\n",
      "epoch: 3, source_val_acc_label: 0.9933, target_val_acc_label: 0.9582, source_val_label_loss: 0.0406, target_val_label_loss: 0.1832, \n",
      "=============================================================\n"
     ]
    },
    {
     "name": "stdout",
     "output_type": "stream",
     "text": [
      "epoch: 4, [batch: 1 / 156], examples_per_second: 205.7301, train_label_loss: 0.0106, \n"
     ]
    },
    {
     "name": "stdout",
     "output_type": "stream",
     "text": [
      "epoch: 4, [batch: 16 / 156], examples_per_second: 4001.4471, train_label_loss: 0.0049, \n"
     ]
    },
    {
     "name": "stdout",
     "output_type": "stream",
     "text": [
      "epoch: 4, [batch: 32 / 156], examples_per_second: 4009.1570, train_label_loss: 0.0020, \n"
     ]
    },
    {
     "name": "stdout",
     "output_type": "stream",
     "text": [
      "epoch: 4, [batch: 47 / 156], examples_per_second: 3917.6991, train_label_loss: 0.0012, \n"
     ]
    },
    {
     "name": "stdout",
     "output_type": "stream",
     "text": [
      "epoch: 4, [batch: 63 / 156], examples_per_second: 4006.1216, train_label_loss: 0.0258, \n"
     ]
    },
    {
     "name": "stdout",
     "output_type": "stream",
     "text": [
      "epoch: 4, [batch: 78 / 156], examples_per_second: 4006.4213, train_label_loss: 0.0062, \n"
     ]
    },
    {
     "name": "stdout",
     "output_type": "stream",
     "text": [
      "epoch: 4, [batch: 94 / 156], examples_per_second: 3926.4055, train_label_loss: 0.0065, \n"
     ]
    },
    {
     "name": "stdout",
     "output_type": "stream",
     "text": [
      "epoch: 4, [batch: 109 / 156], examples_per_second: 4011.2270, train_label_loss: 0.0033, \n"
     ]
    },
    {
     "name": "stdout",
     "output_type": "stream",
     "text": [
      "epoch: 4, [batch: 125 / 156], examples_per_second: 4010.1557, train_label_loss: 0.0010, \n"
     ]
    },
    {
     "name": "stdout",
     "output_type": "stream",
     "text": [
      "epoch: 4, [batch: 140 / 156], examples_per_second: 4007.8329, train_label_loss: 0.0005, \n"
     ]
    },
    {
     "name": "stdout",
     "output_type": "stream",
     "text": [
      "=============================================================\n",
      "epoch: 4, source_val_acc_label: 0.9957, target_val_acc_label: 0.9665, source_val_label_loss: 0.0317, target_val_label_loss: 0.1411, \n",
      "=============================================================\n"
     ]
    },
    {
     "name": "stdout",
     "output_type": "stream",
     "text": [
      "New best\n"
     ]
    },
    {
     "name": "stdout",
     "output_type": "stream",
     "text": [
      "epoch: 5, [batch: 1 / 156], examples_per_second: 199.6412, train_label_loss: 0.0129, \n"
     ]
    },
    {
     "name": "stdout",
     "output_type": "stream",
     "text": [
      "epoch: 5, [batch: 16 / 156], examples_per_second: 3993.1021, train_label_loss: 0.0030, \n"
     ]
    },
    {
     "name": "stdout",
     "output_type": "stream",
     "text": [
      "epoch: 5, [batch: 32 / 156], examples_per_second: 4003.1625, train_label_loss: 0.0027, \n"
     ]
    },
    {
     "name": "stdout",
     "output_type": "stream",
     "text": [
      "epoch: 5, [batch: 47 / 156], examples_per_second: 3915.7350, train_label_loss: 0.0009, \n"
     ]
    },
    {
     "name": "stdout",
     "output_type": "stream",
     "text": [
      "epoch: 5, [batch: 63 / 156], examples_per_second: 4003.2045, train_label_loss: 0.0162, \n"
     ]
    },
    {
     "name": "stdout",
     "output_type": "stream",
     "text": [
      "epoch: 5, [batch: 78 / 156], examples_per_second: 4001.7815, train_label_loss: 0.0006, \n"
     ]
    },
    {
     "name": "stdout",
     "output_type": "stream",
     "text": [
      "epoch: 5, [batch: 94 / 156], examples_per_second: 3923.3589, train_label_loss: 0.0021, \n"
     ]
    },
    {
     "name": "stdout",
     "output_type": "stream",
     "text": [
      "epoch: 5, [batch: 109 / 156], examples_per_second: 4000.6469, train_label_loss: 0.0009, \n"
     ]
    },
    {
     "name": "stdout",
     "output_type": "stream",
     "text": [
      "epoch: 5, [batch: 125 / 156], examples_per_second: 4000.0531, train_label_loss: 0.0053, \n"
     ]
    },
    {
     "name": "stdout",
     "output_type": "stream",
     "text": [
      "epoch: 5, [batch: 140 / 156], examples_per_second: 4004.9843, train_label_loss: 0.0023, \n"
     ]
    },
    {
     "name": "stdout",
     "output_type": "stream",
     "text": [
      "=============================================================\n",
      "epoch: 5, source_val_acc_label: 0.9957, target_val_acc_label: 0.9688, source_val_label_loss: 0.0350, target_val_label_loss: 0.1445, \n",
      "=============================================================\n"
     ]
    },
    {
     "name": "stdout",
     "output_type": "stream",
     "text": [
      "New best\n"
     ]
    },
    {
     "name": "stdout",
     "output_type": "stream",
     "text": [
      "epoch: 6, [batch: 1 / 156], examples_per_second: 198.5734, train_label_loss: 0.0132, \n"
     ]
    },
    {
     "name": "stdout",
     "output_type": "stream",
     "text": [
      "epoch: 6, [batch: 16 / 156], examples_per_second: 3997.3084, train_label_loss: 0.0056, \n"
     ]
    },
    {
     "name": "stdout",
     "output_type": "stream",
     "text": [
      "epoch: 6, [batch: 32 / 156], examples_per_second: 4005.7069, train_label_loss: 0.0007, \n"
     ]
    },
    {
     "name": "stdout",
     "output_type": "stream",
     "text": [
      "epoch: 6, [batch: 47 / 156], examples_per_second: 3920.2885, train_label_loss: 0.1526, \n"
     ]
    },
    {
     "name": "stdout",
     "output_type": "stream",
     "text": [
      "epoch: 6, [batch: 63 / 156], examples_per_second: 4003.9935, train_label_loss: 0.0055, \n"
     ]
    },
    {
     "name": "stdout",
     "output_type": "stream",
     "text": [
      "epoch: 6, [batch: 78 / 156], examples_per_second: 4005.1698, train_label_loss: 0.0064, \n"
     ]
    },
    {
     "name": "stdout",
     "output_type": "stream",
     "text": [
      "epoch: 6, [batch: 94 / 156], examples_per_second: 3924.4348, train_label_loss: 0.0003, \n"
     ]
    },
    {
     "name": "stdout",
     "output_type": "stream",
     "text": [
      "epoch: 6, [batch: 109 / 156], examples_per_second: 4003.0818, train_label_loss: 0.0018, \n"
     ]
    },
    {
     "name": "stdout",
     "output_type": "stream",
     "text": [
      "epoch: 6, [batch: 125 / 156], examples_per_second: 4003.2613, train_label_loss: 0.0343, \n"
     ]
    },
    {
     "name": "stdout",
     "output_type": "stream",
     "text": [
      "epoch: 6, [batch: 140 / 156], examples_per_second: 4005.2313, train_label_loss: 0.0043, \n"
     ]
    },
    {
     "name": "stdout",
     "output_type": "stream",
     "text": [
      "=============================================================\n",
      "epoch: 6, source_val_acc_label: 0.9949, target_val_acc_label: 0.9639, source_val_label_loss: 0.0359, target_val_label_loss: 0.1683, \n",
      "=============================================================\n"
     ]
    },
    {
     "name": "stdout",
     "output_type": "stream",
     "text": [
      "epoch: 7, [batch: 1 / 156], examples_per_second: 205.4622, train_label_loss: 0.0038, \n"
     ]
    },
    {
     "name": "stdout",
     "output_type": "stream",
     "text": [
      "epoch: 7, [batch: 16 / 156], examples_per_second: 3995.9216, train_label_loss: 0.0042, \n"
     ]
    },
    {
     "name": "stdout",
     "output_type": "stream",
     "text": [
      "epoch: 7, [batch: 32 / 156], examples_per_second: 4002.1400, train_label_loss: 0.0019, \n"
     ]
    },
    {
     "name": "stdout",
     "output_type": "stream",
     "text": [
      "epoch: 7, [batch: 47 / 156], examples_per_second: 3924.8432, train_label_loss: 0.0012, \n"
     ]
    },
    {
     "name": "stdout",
     "output_type": "stream",
     "text": [
      "epoch: 7, [batch: 63 / 156], examples_per_second: 4009.5262, train_label_loss: 0.0422, \n"
     ]
    },
    {
     "name": "stdout",
     "output_type": "stream",
     "text": [
      "epoch: 7, [batch: 78 / 156], examples_per_second: 3996.0407, train_label_loss: 0.0340, \n"
     ]
    },
    {
     "name": "stdout",
     "output_type": "stream",
     "text": [
      "epoch: 7, [batch: 94 / 156], examples_per_second: 3924.6533, train_label_loss: 0.0099, \n"
     ]
    },
    {
     "name": "stdout",
     "output_type": "stream",
     "text": [
      "epoch: 7, [batch: 109 / 156], examples_per_second: 4007.6982, train_label_loss: 0.0049, \n"
     ]
    },
    {
     "name": "stdout",
     "output_type": "stream",
     "text": [
      "epoch: 7, [batch: 125 / 156], examples_per_second: 4009.6749, train_label_loss: 0.0003, \n"
     ]
    },
    {
     "name": "stdout",
     "output_type": "stream",
     "text": [
      "epoch: 7, [batch: 140 / 156], examples_per_second: 4005.9392, train_label_loss: 0.0249, \n"
     ]
    },
    {
     "name": "stdout",
     "output_type": "stream",
     "text": [
      "=============================================================\n",
      "epoch: 7, source_val_acc_label: 0.9922, target_val_acc_label: 0.9688, source_val_label_loss: 0.0475, target_val_label_loss: 0.1745, \n",
      "=============================================================\n"
     ]
    },
    {
     "name": "stdout",
     "output_type": "stream",
     "text": [
      "epoch: 8, [batch: 1 / 156], examples_per_second: 204.5015, train_label_loss: 0.0005, \n"
     ]
    },
    {
     "name": "stdout",
     "output_type": "stream",
     "text": [
      "epoch: 8, [batch: 16 / 156], examples_per_second: 3994.2709, train_label_loss: 0.0008, \n"
     ]
    },
    {
     "name": "stdout",
     "output_type": "stream",
     "text": [
      "epoch: 8, [batch: 32 / 156], examples_per_second: 4001.4324, train_label_loss: 0.0002, \n"
     ]
    },
    {
     "name": "stdout",
     "output_type": "stream",
     "text": [
      "epoch: 8, [batch: 47 / 156], examples_per_second: 3922.9006, train_label_loss: 0.0009, \n"
     ]
    },
    {
     "name": "stdout",
     "output_type": "stream",
     "text": [
      "epoch: 8, [batch: 63 / 156], examples_per_second: 4008.6912, train_label_loss: 0.5194, \n"
     ]
    },
    {
     "name": "stdout",
     "output_type": "stream",
     "text": [
      "epoch: 8, [batch: 78 / 156], examples_per_second: 4009.0350, train_label_loss: 0.0592, \n"
     ]
    },
    {
     "name": "stdout",
     "output_type": "stream",
     "text": [
      "epoch: 8, [batch: 94 / 156], examples_per_second: 3929.8711, train_label_loss: 0.0003, \n"
     ]
    },
    {
     "name": "stdout",
     "output_type": "stream",
     "text": [
      "epoch: 8, [batch: 109 / 156], examples_per_second: 4009.7337, train_label_loss: 0.0258, \n"
     ]
    },
    {
     "name": "stdout",
     "output_type": "stream",
     "text": [
      "epoch: 8, [batch: 125 / 156], examples_per_second: 4006.2643, train_label_loss: 0.0191, \n"
     ]
    },
    {
     "name": "stdout",
     "output_type": "stream",
     "text": [
      "epoch: 8, [batch: 140 / 156], examples_per_second: 4008.1719, train_label_loss: 0.0012, \n"
     ]
    },
    {
     "name": "stdout",
     "output_type": "stream",
     "text": [
      "=============================================================\n",
      "epoch: 8, source_val_acc_label: 0.9961, target_val_acc_label: 0.9735, source_val_label_loss: 0.0372, target_val_label_loss: 0.1489, \n",
      "=============================================================\n"
     ]
    },
    {
     "name": "stdout",
     "output_type": "stream",
     "text": [
      "New best\n"
     ]
    },
    {
     "name": "stdout",
     "output_type": "stream",
     "text": [
      "epoch: 9, [batch: 1 / 156], examples_per_second: 199.3436, train_label_loss: 0.0006, \n"
     ]
    },
    {
     "name": "stdout",
     "output_type": "stream",
     "text": [
      "epoch: 9, [batch: 16 / 156], examples_per_second: 4003.1644, train_label_loss: 0.0012, \n"
     ]
    },
    {
     "name": "stdout",
     "output_type": "stream",
     "text": [
      "epoch: 9, [batch: 32 / 156], examples_per_second: 4008.9290, train_label_loss: 0.1054, \n"
     ]
    },
    {
     "name": "stdout",
     "output_type": "stream",
     "text": [
      "epoch: 9, [batch: 47 / 156], examples_per_second: 3923.0263, train_label_loss: 0.0001, \n"
     ]
    },
    {
     "name": "stdout",
     "output_type": "stream",
     "text": [
      "epoch: 9, [batch: 63 / 156], examples_per_second: 4005.9889, train_label_loss: 0.0001, \n"
     ]
    },
    {
     "name": "stdout",
     "output_type": "stream",
     "text": [
      "epoch: 9, [batch: 78 / 156], examples_per_second: 3986.9296, train_label_loss: 0.0025, \n"
     ]
    },
    {
     "name": "stdout",
     "output_type": "stream",
     "text": [
      "epoch: 9, [batch: 94 / 156], examples_per_second: 3913.0698, train_label_loss: 0.0002, \n"
     ]
    },
    {
     "name": "stdout",
     "output_type": "stream",
     "text": [
      "epoch: 9, [batch: 109 / 156], examples_per_second: 3992.4355, train_label_loss: 0.0003, \n"
     ]
    },
    {
     "name": "stdout",
     "output_type": "stream",
     "text": [
      "epoch: 9, [batch: 125 / 156], examples_per_second: 3992.6002, train_label_loss: 0.0007, \n"
     ]
    },
    {
     "name": "stdout",
     "output_type": "stream",
     "text": [
      "epoch: 9, [batch: 140 / 156], examples_per_second: 3990.3180, train_label_loss: 0.0003, \n"
     ]
    },
    {
     "name": "stdout",
     "output_type": "stream",
     "text": [
      "=============================================================\n",
      "epoch: 9, source_val_acc_label: 0.9965, target_val_acc_label: 0.9798, source_val_label_loss: 0.0324, target_val_label_loss: 0.1126, \n",
      "=============================================================\n"
     ]
    },
    {
     "name": "stdout",
     "output_type": "stream",
     "text": [
      "New best\n"
     ]
    },
    {
     "name": "stdout",
     "output_type": "stream",
     "text": [
      "epoch: 10, [batch: 1 / 156], examples_per_second: 199.2176, train_label_loss: 0.0004, \n"
     ]
    },
    {
     "name": "stdout",
     "output_type": "stream",
     "text": [
      "epoch: 10, [batch: 16 / 156], examples_per_second: 3995.6407, train_label_loss: 0.0004, \n"
     ]
    },
    {
     "name": "stdout",
     "output_type": "stream",
     "text": [
      "epoch: 10, [batch: 32 / 156], examples_per_second: 3996.0984, train_label_loss: 0.0004, \n"
     ]
    },
    {
     "name": "stdout",
     "output_type": "stream",
     "text": [
      "epoch: 10, [batch: 47 / 156], examples_per_second: 3914.8469, train_label_loss: 0.0004, \n"
     ]
    },
    {
     "name": "stdout",
     "output_type": "stream",
     "text": [
      "epoch: 10, [batch: 63 / 156], examples_per_second: 4001.4842, train_label_loss: 0.0004, \n"
     ]
    },
    {
     "name": "stdout",
     "output_type": "stream",
     "text": [
      "epoch: 10, [batch: 78 / 156], examples_per_second: 4005.9032, train_label_loss: 0.0001, \n"
     ]
    },
    {
     "name": "stdout",
     "output_type": "stream",
     "text": [
      "epoch: 10, [batch: 94 / 156], examples_per_second: 3929.7695, train_label_loss: 0.0003, \n"
     ]
    },
    {
     "name": "stdout",
     "output_type": "stream",
     "text": [
      "epoch: 10, [batch: 109 / 156], examples_per_second: 4008.3383, train_label_loss: 0.0002, \n"
     ]
    },
    {
     "name": "stdout",
     "output_type": "stream",
     "text": [
      "epoch: 10, [batch: 125 / 156], examples_per_second: 4006.1488, train_label_loss: 0.0005, \n"
     ]
    },
    {
     "name": "stdout",
     "output_type": "stream",
     "text": [
      "epoch: 10, [batch: 140 / 156], examples_per_second: 4007.3408, train_label_loss: 0.0003, \n"
     ]
    },
    {
     "name": "stdout",
     "output_type": "stream",
     "text": [
      "=============================================================\n",
      "epoch: 10, source_val_acc_label: 0.9957, target_val_acc_label: 0.9682, source_val_label_loss: 0.0250, target_val_label_loss: 0.1571, \n",
      "=============================================================\n"
     ]
    },
    {
     "name": "stdout",
     "output_type": "stream",
     "text": [
      "epoch: 11, [batch: 1 / 156], examples_per_second: 205.0511, train_label_loss: 0.0003, \n"
     ]
    },
    {
     "name": "stdout",
     "output_type": "stream",
     "text": [
      "epoch: 11, [batch: 16 / 156], examples_per_second: 4000.3794, train_label_loss: 0.0010, \n"
     ]
    },
    {
     "name": "stdout",
     "output_type": "stream",
     "text": [
      "epoch: 11, [batch: 32 / 156], examples_per_second: 3993.7481, train_label_loss: 0.0008, \n"
     ]
    },
    {
     "name": "stdout",
     "output_type": "stream",
     "text": [
      "epoch: 11, [batch: 47 / 156], examples_per_second: 3917.8724, train_label_loss: 0.0008, \n"
     ]
    },
    {
     "name": "stdout",
     "output_type": "stream",
     "text": [
      "epoch: 11, [batch: 63 / 156], examples_per_second: 3999.6750, train_label_loss: 0.0485, \n"
     ]
    },
    {
     "name": "stdout",
     "output_type": "stream",
     "text": [
      "epoch: 11, [batch: 78 / 156], examples_per_second: 3997.5694, train_label_loss: 0.0006, \n"
     ]
    },
    {
     "name": "stdout",
     "output_type": "stream",
     "text": [
      "epoch: 11, [batch: 94 / 156], examples_per_second: 3922.2527, train_label_loss: 0.0014, \n"
     ]
    },
    {
     "name": "stdout",
     "output_type": "stream",
     "text": [
      "epoch: 11, [batch: 109 / 156], examples_per_second: 4002.9238, train_label_loss: 0.0008, \n"
     ]
    },
    {
     "name": "stdout",
     "output_type": "stream",
     "text": [
      "epoch: 11, [batch: 125 / 156], examples_per_second: 3992.7346, train_label_loss: 0.0266, \n"
     ]
    },
    {
     "name": "stdout",
     "output_type": "stream",
     "text": [
      "epoch: 11, [batch: 140 / 156], examples_per_second: 4000.4355, train_label_loss: 0.0007, \n"
     ]
    },
    {
     "name": "stdout",
     "output_type": "stream",
     "text": [
      "=============================================================\n",
      "epoch: 11, source_val_acc_label: 0.9961, target_val_acc_label: 0.9751, source_val_label_loss: 0.0357, target_val_label_loss: 0.1325, \n",
      "=============================================================\n"
     ]
    },
    {
     "name": "stdout",
     "output_type": "stream",
     "text": [
      "epoch: 12, [batch: 1 / 156], examples_per_second: 204.9356, train_label_loss: 0.0017, \n"
     ]
    },
    {
     "name": "stdout",
     "output_type": "stream",
     "text": [
      "epoch: 12, [batch: 16 / 156], examples_per_second: 3968.9066, train_label_loss: 0.0270, \n"
     ]
    },
    {
     "name": "stdout",
     "output_type": "stream",
     "text": [
      "epoch: 12, [batch: 32 / 156], examples_per_second: 3989.8516, train_label_loss: 0.0007, \n"
     ]
    },
    {
     "name": "stdout",
     "output_type": "stream",
     "text": [
      "epoch: 12, [batch: 47 / 156], examples_per_second: 3909.0829, train_label_loss: 0.0013, \n"
     ]
    },
    {
     "name": "stdout",
     "output_type": "stream",
     "text": [
      "epoch: 12, [batch: 63 / 156], examples_per_second: 3992.9861, train_label_loss: 0.0008, \n"
     ]
    },
    {
     "name": "stdout",
     "output_type": "stream",
     "text": [
      "epoch: 12, [batch: 78 / 156], examples_per_second: 3988.5943, train_label_loss: 0.0000, \n"
     ]
    },
    {
     "name": "stdout",
     "output_type": "stream",
     "text": [
      "epoch: 12, [batch: 94 / 156], examples_per_second: 3914.5747, train_label_loss: 0.0001, \n"
     ]
    },
    {
     "name": "stdout",
     "output_type": "stream",
     "text": [
      "epoch: 12, [batch: 109 / 156], examples_per_second: 3987.5474, train_label_loss: 0.0002, \n"
     ]
    },
    {
     "name": "stdout",
     "output_type": "stream",
     "text": [
      "epoch: 12, [batch: 125 / 156], examples_per_second: 3990.7254, train_label_loss: 0.0000, \n"
     ]
    },
    {
     "name": "stdout",
     "output_type": "stream",
     "text": [
      "epoch: 12, [batch: 140 / 156], examples_per_second: 3991.7629, train_label_loss: 0.0003, \n"
     ]
    },
    {
     "name": "stdout",
     "output_type": "stream",
     "text": [
      "=============================================================\n",
      "epoch: 12, source_val_acc_label: 0.9969, target_val_acc_label: 0.9751, source_val_label_loss: 0.0206, target_val_label_loss: 0.1374, \n",
      "=============================================================\n"
     ]
    },
    {
     "name": "stdout",
     "output_type": "stream",
     "text": [
      "epoch: 13, [batch: 1 / 156], examples_per_second: 204.7064, train_label_loss: 0.0069, \n"
     ]
    },
    {
     "name": "stdout",
     "output_type": "stream",
     "text": [
      "epoch: 13, [batch: 16 / 156], examples_per_second: 4003.7468, train_label_loss: 0.0000, \n"
     ]
    },
    {
     "name": "stdout",
     "output_type": "stream",
     "text": [
      "epoch: 13, [batch: 32 / 156], examples_per_second: 4001.7376, train_label_loss: 0.0001, \n"
     ]
    },
    {
     "name": "stdout",
     "output_type": "stream",
     "text": [
      "epoch: 13, [batch: 47 / 156], examples_per_second: 3915.2056, train_label_loss: 0.0001, \n"
     ]
    },
    {
     "name": "stdout",
     "output_type": "stream",
     "text": [
      "epoch: 13, [batch: 63 / 156], examples_per_second: 4002.0437, train_label_loss: 0.0012, \n"
     ]
    },
    {
     "name": "stdout",
     "output_type": "stream",
     "text": [
      "epoch: 13, [batch: 78 / 156], examples_per_second: 4003.4622, train_label_loss: 0.0000, \n"
     ]
    },
    {
     "name": "stdout",
     "output_type": "stream",
     "text": [
      "epoch: 13, [batch: 94 / 156], examples_per_second: 3924.2884, train_label_loss: 0.0146, \n"
     ]
    },
    {
     "name": "stdout",
     "output_type": "stream",
     "text": [
      "epoch: 13, [batch: 109 / 156], examples_per_second: 4000.0172, train_label_loss: 0.0003, \n"
     ]
    },
    {
     "name": "stdout",
     "output_type": "stream",
     "text": [
      "epoch: 13, [batch: 125 / 156], examples_per_second: 4007.8005, train_label_loss: 0.0056, \n"
     ]
    },
    {
     "name": "stdout",
     "output_type": "stream",
     "text": [
      "epoch: 13, [batch: 140 / 156], examples_per_second: 4002.3706, train_label_loss: 0.0003, \n"
     ]
    },
    {
     "name": "stdout",
     "output_type": "stream",
     "text": [
      "=============================================================\n",
      "epoch: 13, source_val_acc_label: 0.9973, target_val_acc_label: 0.9728, source_val_label_loss: 0.0339, target_val_label_loss: 0.1665, \n",
      "=============================================================\n"
     ]
    },
    {
     "name": "stdout",
     "output_type": "stream",
     "text": [
      "Patience (3) exhausted\n"
     ]
    }
   ],
   "source": [
    "###################################\n",
    "# train\n",
    "###################################\n",
    "jig = PTN_Train_Eval_Test_Jig(model, p.BEST_MODEL_PATH, p.device)\n",
    "\n",
    "jig.train(\n",
    "    train_iterable=datasets.source.processed.train,\n",
    "    source_val_iterable=datasets.source.processed.val,\n",
    "    target_val_iterable=datasets.target.processed.val,\n",
    "    num_epochs=p.n_epoch,\n",
    "    num_logs_per_epoch=p.NUM_LOGS_PER_EPOCH,\n",
    "    patience=p.patience,\n",
    "    optimizer=optimizer,\n",
    "    criteria_for_best=p.criteria_for_best,\n",
    ")"
   ]
  },
  {
   "cell_type": "code",
   "execution_count": 14,
   "id": "31e8fabf",
   "metadata": {
    "execution": {
     "iopub.execute_input": "2022-03-22T16:30:47.392653Z",
     "iopub.status.busy": "2022-03-22T16:30:47.392406Z",
     "iopub.status.idle": "2022-03-22T16:30:47.408520Z",
     "shell.execute_reply": "2022-03-22T16:30:47.408869Z"
    },
    "papermill": {
     "duration": 0.05545,
     "end_time": "2022-03-22T16:30:47.408976",
     "exception": false,
     "start_time": "2022-03-22T16:30:47.353526",
     "status": "completed"
    },
    "tags": []
   },
   "outputs": [],
   "source": [
    "total_experiment_time_secs = time.time() - start_time_secs"
   ]
  },
  {
   "cell_type": "code",
   "execution_count": 15,
   "id": "87b9595b",
   "metadata": {
    "execution": {
     "iopub.execute_input": "2022-03-22T16:30:47.490878Z",
     "iopub.status.busy": "2022-03-22T16:30:47.490611Z",
     "iopub.status.idle": "2022-03-22T16:30:54.710419Z",
     "shell.execute_reply": "2022-03-22T16:30:54.709921Z"
    },
    "papermill": {
     "duration": 7.26026,
     "end_time": "2022-03-22T16:30:54.710536",
     "exception": false,
     "start_time": "2022-03-22T16:30:47.450276",
     "status": "completed"
    },
    "tags": []
   },
   "outputs": [],
   "source": [
    "###################################\n",
    "# Evaluate the model\n",
    "###################################\n",
    "source_test_label_accuracy, source_test_label_loss = jig.test(datasets.source.processed.test)\n",
    "target_test_label_accuracy, target_test_label_loss = jig.test(datasets.target.processed.test)\n",
    "\n",
    "source_val_label_accuracy, source_val_label_loss = jig.test(datasets.source.processed.val)\n",
    "target_val_label_accuracy, target_val_label_loss = jig.test(datasets.target.processed.val)\n",
    "\n",
    "history = jig.get_history()\n",
    "\n",
    "total_epochs_trained = len(history[\"epoch_indices\"])\n",
    "\n",
    "val_dl = Iterable_Aggregator((datasets.source.original.val,datasets.target.original.val))\n",
    "\n",
    "confusion = ptn_confusion_by_domain_over_dataloader(model, p.device, val_dl)\n",
    "per_domain_accuracy = per_domain_accuracy_from_confusion(confusion)\n",
    "\n",
    "# Add a key to per_domain_accuracy for if it was a source domain\n",
    "for domain, accuracy in per_domain_accuracy.items():\n",
    "    per_domain_accuracy[domain] = {\n",
    "        \"accuracy\": accuracy,\n",
    "        \"source?\": domain in p.domains_source\n",
    "    }\n",
    "\n",
    "# Do an independent accuracy assesment JUST TO BE SURE!\n",
    "# _source_test_label_accuracy = independent_accuracy_assesment(model, datasets.source.processed.test, p.device)\n",
    "# _target_test_label_accuracy = independent_accuracy_assesment(model, datasets.target.processed.test, p.device)\n",
    "# _source_val_label_accuracy = independent_accuracy_assesment(model, datasets.source.processed.val, p.device)\n",
    "# _target_val_label_accuracy = independent_accuracy_assesment(model, datasets.target.processed.val, p.device)\n",
    "\n",
    "# assert(_source_test_label_accuracy == source_test_label_accuracy)\n",
    "# assert(_target_test_label_accuracy == target_test_label_accuracy)\n",
    "# assert(_source_val_label_accuracy == source_val_label_accuracy)\n",
    "# assert(_target_val_label_accuracy == target_val_label_accuracy)\n",
    "\n",
    "experiment = {\n",
    "    \"experiment_name\": p.experiment_name,\n",
    "    \"parameters\": dict(p),\n",
    "    \"results\": {\n",
    "        \"source_test_label_accuracy\": source_test_label_accuracy,\n",
    "        \"source_test_label_loss\": source_test_label_loss,\n",
    "        \"target_test_label_accuracy\": target_test_label_accuracy,\n",
    "        \"target_test_label_loss\": target_test_label_loss,\n",
    "        \"source_val_label_accuracy\": source_val_label_accuracy,\n",
    "        \"source_val_label_loss\": source_val_label_loss,\n",
    "        \"target_val_label_accuracy\": target_val_label_accuracy,\n",
    "        \"target_val_label_loss\": target_val_label_loss,\n",
    "        \"total_epochs_trained\": total_epochs_trained,\n",
    "        \"total_experiment_time_secs\": total_experiment_time_secs,\n",
    "        \"confusion\": confusion,\n",
    "        \"per_domain_accuracy\": per_domain_accuracy,\n",
    "    },\n",
    "    \"history\": history,\n",
    "    \"dataset_metrics\": get_dataset_metrics(datasets, \"ptn\"),\n",
    "}"
   ]
  },
  {
   "cell_type": "code",
   "execution_count": 16,
   "id": "54a21829",
   "metadata": {
    "execution": {
     "iopub.execute_input": "2022-03-22T16:30:54.793614Z",
     "iopub.status.busy": "2022-03-22T16:30:54.793358Z",
     "iopub.status.idle": "2022-03-22T16:30:54.921357Z",
     "shell.execute_reply": "2022-03-22T16:30:54.921728Z"
    },
    "papermill": {
     "duration": 0.16715,
     "end_time": "2022-03-22T16:30:54.921838",
     "exception": false,
     "start_time": "2022-03-22T16:30:54.754688",
     "status": "completed"
    },
    "tags": []
   },
   "outputs": [
    {
     "data": {
      "image/png": "[encoded data removed]",
      "text/plain": [
       "<Figure size 1080x504 with 1 Axes>"
      ]
     },
     "metadata": {
      "needs_background": "light"
     },
     "output_type": "display_data"
    }
   ],
   "source": [
    "ax = get_loss_curve(experiment)\n",
    "plt.show()"
   ]
  },
  {
   "cell_type": "code",
   "execution_count": 17,
   "id": "fd8a0f60",
   "metadata": {
    "execution": {
     "iopub.execute_input": "2022-03-22T16:30:55.004528Z",
     "iopub.status.busy": "2022-03-22T16:30:55.004279Z",
     "iopub.status.idle": "2022-03-22T16:30:55.143483Z",
     "shell.execute_reply": "2022-03-22T16:30:55.143251Z"
    },
    "papermill": {
     "duration": 0.177959,
     "end_time": "2022-03-22T16:30:55.143540",
     "exception": false,
     "start_time": "2022-03-22T16:30:54.965581",
     "status": "completed"
    },
    "tags": []
   },
   "outputs": [
    {
     "data": {
      "text/plain": [
       "<AxesSubplot:title={'center':'Results'}>"
      ]
     },
     "execution_count": 17,
     "metadata": {},
     "output_type": "execute_result"
    },
    {
     "data": {
      "image/png": "[encoded data removed]",
      "text/plain": [
       "<Figure size 1080x504 with 1 Axes>"
      ]
     },
     "metadata": {
      "needs_background": "light"
     },
     "output_type": "display_data"
    }
   ],
   "source": [
    "get_results_table(experiment)"
   ]
  },
  {
   "cell_type": "code",
   "execution_count": 18,
   "id": "cf8dc689",
   "metadata": {
    "execution": {
     "iopub.execute_input": "2022-03-22T16:30:55.224782Z",
     "iopub.status.busy": "2022-03-22T16:30:55.224534Z",
     "iopub.status.idle": "2022-03-22T16:30:55.336988Z",
     "shell.execute_reply": "2022-03-22T16:30:55.336501Z"
    },
    "papermill": {
     "duration": 0.153916,
     "end_time": "2022-03-22T16:30:55.337090",
     "exception": false,
     "start_time": "2022-03-22T16:30:55.183174",
     "status": "completed"
    },
    "tags": []
   },
   "outputs": [
    {
     "data": {
      "text/plain": [
       "<AxesSubplot:title={'center':'Per Domain Validation Accuracy'}, xlabel='domain'>"
      ]
     },
     "execution_count": 18,
     "metadata": {},
     "output_type": "execute_result"
    },
    {
     "data": {
      "image/png": "[encoded data removed]",
      "text/plain": [
       "<Figure size 1080x504 with 1 Axes>"
      ]
     },
     "metadata": {
      "needs_background": "light"
     },
     "output_type": "display_data"
    }
   ],
   "source": [
    "get_domain_accuracies(experiment)"
   ]
  },
  {
   "cell_type": "code",
   "execution_count": 19,
   "id": "a74ae082",
   "metadata": {
    "execution": {
     "iopub.execute_input": "2022-03-22T16:30:55.422279Z",
     "iopub.status.busy": "2022-03-22T16:30:55.422026Z",
     "iopub.status.idle": "2022-03-22T16:30:55.438476Z",
     "shell.execute_reply": "2022-03-22T16:30:55.438846Z"
    },
    "papermill": {
     "duration": 0.059283,
     "end_time": "2022-03-22T16:30:55.438951",
     "exception": false,
     "start_time": "2022-03-22T16:30:55.379668",
     "status": "completed"
    },
    "tags": []
   },
   "outputs": [
    {
     "name": "stdout",
     "output_type": "stream",
     "text": [
      "Source Test Label Accuracy: 0.9968652037617555 Target Test Label Accuracy: 0.9753694581280788\n",
      "Source Val Label Accuracy: 0.9964733542319749 Target Val Label Accuracy: 0.9797745358090185\n"
     ]
    }
   ],
   "source": [
    "print(\"Source Test Label Accuracy:\", experiment[\"results\"][\"source_test_label_accuracy\"], \"Target Test Label Accuracy:\", experiment[\"results\"][\"target_test_label_accuracy\"])\n",
    "print(\"Source Val Label Accuracy:\", experiment[\"results\"][\"source_val_label_accuracy\"], \"Target Val Label Accuracy:\", experiment[\"results\"][\"target_val_label_accuracy\"])"
   ]
  },
  {
   "cell_type": "code",
   "execution_count": 20,
   "id": "dacca602",
   "metadata": {
    "execution": {
     "iopub.execute_input": "2022-03-22T16:30:55.525382Z",
     "iopub.status.busy": "2022-03-22T16:30:55.525135Z",
     "iopub.status.idle": "2022-03-22T16:30:55.541286Z",
     "shell.execute_reply": "2022-03-22T16:30:55.541637Z"
    },
    "papermill": {
     "duration": 0.059068,
     "end_time": "2022-03-22T16:30:55.541747",
     "exception": false,
     "start_time": "2022-03-22T16:30:55.482679",
     "status": "completed"
    },
    "tags": [
     "experiment_json"
    ]
   },
   "outputs": [
    {
     "data": {
      "text/plain": [
       "'{\"experiment_name\": \"tuned_1v2:cores\", \"parameters\": {\"experiment_name\": \"tuned_1v2:cores\", \"device\": \"cuda\", \"lr\": 0.0001, \"labels_source\": [\"1-10.\", \"1-11.\", \"1-15.\", \"1-16.\", \"1-17.\", \"1-18.\", \"1-19.\", \"10-4.\", \"10-7.\", \"11-1.\", \"11-14.\", \"11-17.\", \"11-20.\", \"11-7.\", \"13-20.\", \"13-8.\", \"14-10.\", \"14-11.\", \"14-14.\", \"14-7.\", \"15-1.\", \"15-20.\", \"16-1.\", \"16-16.\", \"17-10.\", \"17-11.\", \"17-2.\", \"19-1.\", \"19-16.\", \"19-19.\", \"19-20.\", \"19-3.\", \"2-10.\", \"2-11.\", \"2-17.\", \"2-18.\", \"2-20.\", \"2-3.\", \"2-4.\", \"2-5.\", \"2-6.\", \"2-7.\", \"2-8.\", \"3-13.\", \"3-18.\", \"3-3.\", \"4-1.\", \"4-10.\", \"4-11.\", \"4-19.\", \"5-5.\", \"6-15.\", \"7-10.\", \"7-14.\", \"8-18.\", \"8-20.\", \"8-3.\", \"8-8.\"], \"labels_target\": [\"1-10.\", \"1-11.\", \"1-15.\", \"1-16.\", \"1-17.\", \"1-18.\", \"1-19.\", \"10-4.\", \"10-7.\", \"11-1.\", \"11-14.\", \"11-17.\", \"11-20.\", \"11-7.\", \"13-20.\", \"13-8.\", \"14-10.\", \"14-11.\", \"14-14.\", \"14-7.\", \"15-1.\", \"15-20.\", \"16-1.\", \"16-16.\", \"17-10.\", \"17-11.\", \"17-2.\", \"19-1.\", \"19-16.\", \"19-19.\", \"19-20.\", \"19-3.\", \"2-10.\", \"2-11.\", \"2-17.\", \"2-18.\", \"2-20.\", \"2-3.\", \"2-4.\", \"2-5.\", \"2-6.\", \"2-7.\", \"2-8.\", \"3-13.\", \"3-18.\", \"3-3.\", \"4-1.\", \"4-10.\", \"4-11.\", \"4-19.\", \"5-5.\", \"6-15.\", \"7-10.\", \"7-14.\", \"8-18.\", \"8-20.\", \"8-3.\", \"8-8.\"], \"episode_transforms_source\": [], \"episode_transforms_target\": [], \"domains_source\": [1, 5], \"domains_target\": [2, 3, 4], \"num_examples_per_domain_per_label_source\": -1, \"num_examples_per_domain_per_label_target\": -1, \"n_shot\": 3, \"n_way\": 58, \"n_query\": 2, \"train_k_factor\": 3, \"val_k_factor\": 2, \"test_k_factor\": 2, \"torch_default_dtype\": \"torch.float32\", \"n_epoch\": 50, \"patience\": 3, \"criteria_for_best\": \"target_accuracy\", \"x_net\": [{\"class\": \"nnReshape\", \"kargs\": {\"shape\": [-1, 1, 2, 256]}}, {\"class\": \"Conv2d\", \"kargs\": {\"in_channels\": 1, \"out_channels\": 256, \"kernel_size\": [1, 7], \"bias\": false, \"padding\": [0, 3]}}, {\"class\": \"ReLU\", \"kargs\": {\"inplace\": true}}, {\"class\": \"BatchNorm2d\", \"kargs\": {\"num_features\": 256}}, {\"class\": \"Conv2d\", \"kargs\": {\"in_channels\": 256, \"out_channels\": 80, \"kernel_size\": [2, 7], \"bias\": true, \"padding\": [0, 3]}}, {\"class\": \"ReLU\", \"kargs\": {\"inplace\": true}}, {\"class\": \"BatchNorm2d\", \"kargs\": {\"num_features\": 80}}, {\"class\": \"Flatten\", \"kargs\": {}}, {\"class\": \"Linear\", \"kargs\": {\"in_features\": 20480, \"out_features\": 256}}, {\"class\": \"ReLU\", \"kargs\": {\"inplace\": true}}, {\"class\": \"BatchNorm1d\", \"kargs\": {\"num_features\": 256}}, {\"class\": \"Linear\", \"kargs\": {\"in_features\": 256, \"out_features\": 256}}], \"NUM_LOGS_PER_EPOCH\": 10, \"BEST_MODEL_PATH\": \"./best_model.pth\", \"pickle_name\": \"cores.stratified_ds.2022A.pkl\", \"x_transforms_source\": [], \"x_transforms_target\": [], \"dataset_seed\": 7, \"seed\": 7}, \"results\": {\"source_test_label_accuracy\": 0.9968652037617555, \"source_test_label_loss\": 0.011809539049863815, \"target_test_label_accuracy\": 0.9753694581280788, \"target_test_label_loss\": 0.12003573775291443, \"source_val_label_accuracy\": 0.9964733542319749, \"source_val_label_loss\": 0.03237605839967728, \"target_val_label_accuracy\": 0.9797745358090185, \"target_val_label_loss\": 0.11261025816202164, \"total_epochs_trained\": 13, \"total_experiment_time_secs\": 172.50564432144165, \"confusion\": {\"5\": {\"8\": {\"8\": 20}, \"12\": {\"12\": 20}, \"52\": {\"52\": 20}, \"16\": {\"16\": 20}, \"30\": {\"30\": 20}, \"26\": {\"26\": 20}, \"22\": {\"56\": 1, \"22\": 19}, \"49\": {\"49\": 20}, \"3\": {\"3\": 20}, \"6\": {\"6\": 20}, \"45\": {\"6\": 1, \"45\": 19}, \"37\": {\"37\": 20}, \"7\": {\"7\": 20}, \"33\": {\"33\": 18, \"39\": 2}, \"21\": {\"21\": 20}, \"10\": {\"10\": 20}, \"54\": {\"54\": 20}, \"41\": {\"41\": 20}, \"34\": {\"34\": 20}, \"55\": {\"55\": 20}, \"23\": {\"23\": 20}, \"43\": {\"43\": 20}, \"2\": {\"2\": 20}, \"11\": {\"11\": 20}, \"18\": {\"18\": 20}, \"1\": {\"1\": 20}, \"17\": {\"17\": 20}, \"35\": {\"35\": 20}, \"39\": {\"39\": 20}, \"28\": {\"28\": 20}, \"42\": {\"42\": 18, \"41\": 2}, \"36\": {\"36\": 20}, \"56\": {\"56\": 20}, \"38\": {\"38\": 20}, \"44\": {\"44\": 20}, \"19\": {\"19\": 20}, \"5\": {\"5\": 20}, \"57\": {\"57\": 20}, \"47\": {\"47\": 20}, \"24\": {\"24\": 19, \"13\": 1}, \"50\": {\"50\": 20}, \"53\": {\"53\": 20}, \"15\": {\"15\": 20}, \"31\": {\"31\": 20}, \"48\": {\"48\": 20}, \"40\": {\"40\": 20}, \"32\": {\"32\": 20}, \"46\": {\"46\": 20}, \"9\": {\"9\": 20}, \"4\": {\"4\": 20}, \"0\": {\"0\": 20}, \"51\": {\"51\": 20}, \"13\": {\"13\": 20}, \"20\": {\"20\": 20}, \"27\": {\"27\": 20}, \"14\": {\"14\": 20}, \"29\": {\"29\": 20}, \"25\": {\"25\": 20}}, \"1\": {\"10\": {\"10\": 24}, \"30\": {\"30\": 24}, \"38\": {\"38\": 24}, \"0\": {\"0\": 24}, \"9\": {\"9\": 24}, \"44\": {\"44\": 24}, \"35\": {\"35\": 24}, \"19\": {\"19\": 24}, \"4\": {\"4\": 24}, \"57\": {\"57\": 24}, \"12\": {\"12\": 24}, \"47\": {\"47\": 24}, \"16\": {\"16\": 24}, \"2\": {\"2\": 24}, \"36\": {\"36\": 24}, \"25\": {\"25\": 24}, \"54\": {\"54\": 24}, \"14\": {\"14\": 24}, \"24\": {\"24\": 24}, \"27\": {\"27\": 24}, \"48\": {\"48\": 24}, \"50\": {\"50\": 24}, \"51\": {\"51\": 24}, \"29\": {\"29\": 24}, \"17\": {\"17\": 24}, \"55\": {\"55\": 24}, \"32\": {\"32\": 24}, \"41\": {\"41\": 24}, \"33\": {\"33\": 24}, \"15\": {\"15\": 24}, \"31\": {\"31\": 24}, \"8\": {\"8\": 24}, \"28\": {\"28\": 24}, \"22\": {\"22\": 23, \"21\": 1}, \"43\": {\"43\": 24}, \"49\": {\"49\": 24}, \"52\": {\"52\": 24}, \"18\": {\"18\": 23, \"16\": 1}, \"40\": {\"40\": 24}, \"34\": {\"34\": 24}, \"45\": {\"45\": 24}, \"42\": {\"42\": 24}, \"7\": {\"7\": 24}, \"5\": {\"5\": 24}, \"56\": {\"56\": 24}, \"23\": {\"23\": 24}, \"46\": {\"46\": 24}, \"1\": {\"1\": 24}, \"20\": {\"20\": 24}, \"6\": {\"6\": 24}, \"26\": {\"26\": 24}, \"11\": {\"11\": 24}, \"39\": {\"39\": 24}, \"21\": {\"21\": 24}, \"3\": {\"3\": 24}, \"13\": {\"13\": 24}, \"37\": {\"37\": 24}, \"53\": {\"53\": 24}}, \"4\": {\"8\": {\"8\": 16}, \"12\": {\"12\": 16}, \"52\": {\"52\": 16}, \"16\": {\"16\": 16}, \"30\": {\"30\": 16}, \"26\": {\"26\": 15, \"28\": 1}, \"22\": {\"22\": 16}, \"49\": {\"49\": 13, \"7\": 3}, \"3\": {\"3\": 16}, \"6\": {\"50\": 1, \"6\": 11, \"3\": 4}, \"45\": {\"45\": 16}, \"37\": {\"37\": 16}, \"7\": {\"7\": 14, \"49\": 2}, \"33\": {\"33\": 16}, \"21\": {\"21\": 16}, \"10\": {\"10\": 16}, \"54\": {\"54\": 16}, \"41\": {\"41\": 13, \"13\": 1, \"54\": 2}, \"34\": {\"34\": 15, \"28\": 1}, \"55\": {\"55\": 16}, \"23\": {\"23\": 16}, \"43\": {\"43\": 16}, \"2\": {\"2\": 16}, \"11\": {\"11\": 16}, \"18\": {\"18\": 16}, \"1\": {\"1\": 16}, \"17\": {\"17\": 16}, \"35\": {\"35\": 16}, \"39\": {\"39\": 16}, \"28\": {\"34\": 2, \"28\": 14}, \"42\": {\"42\": 16}, \"36\": {\"36\": 16}, \"56\": {\"56\": 16}, \"38\": {\"38\": 16}, \"44\": {\"44\": 16}, \"19\": {\"19\": 16}, \"5\": {\"5\": 16}, \"57\": {\"57\": 16}, \"47\": {\"47\": 16}, \"24\": {\"24\": 15, \"13\": 1}, \"50\": {\"50\": 14, \"3\": 2}, \"53\": {\"53\": 16}, \"15\": {\"15\": 16}, \"31\": {\"31\": 16}, \"48\": {\"48\": 16}, \"40\": {\"40\": 16}, \"32\": {\"32\": 15, \"7\": 1}, \"46\": {\"46\": 16}, \"9\": {\"9\": 16}, \"4\": {\"4\": 16}, \"0\": {\"0\": 16}, \"51\": {\"51\": 16}, \"13\": {\"13\": 16}, \"20\": {\"20\": 16}, \"27\": {\"27\": 16}, \"14\": {\"14\": 9, \"38\": 4, \"57\": 2, \"49\": 1}, \"29\": {\"29\": 14, \"57\": 2}, \"25\": {\"25\": 16}}, \"2\": {\"10\": {\"10\": 20}, \"30\": {\"30\": 20}, \"38\": {\"38\": 20}, \"0\": {\"0\": 20}, \"9\": {\"9\": 20}, \"44\": {\"44\": 20}, \"35\": {\"35\": 20}, \"19\": {\"19\": 20}, \"4\": {\"4\": 20}, \"57\": {\"57\": 20}, \"12\": {\"12\": 20}, \"47\": {\"47\": 19, \"1\": 1}, \"16\": {\"16\": 20}, \"2\": {\"2\": 20}, \"36\": {\"36\": 20}, \"25\": {\"25\": 20}, \"54\": {\"54\": 20}, \"14\": {\"14\": 13, \"57\": 4, \"31\": 3}, \"24\": {\"24\": 20}, \"27\": {\"27\": 20}, \"48\": {\"48\": 20}, \"50\": {\"50\": 18, \"3\": 2}, \"51\": {\"51\": 20}, \"29\": {\"29\": 20}, \"17\": {\"17\": 20}, \"55\": {\"55\": 20}, \"32\": {\"32\": 19, \"36\": 1}, \"41\": {\"41\": 16, \"48\": 3, \"30\": 1}, \"33\": {\"33\": 20}, \"15\": {\"15\": 19, \"11\": 1}, \"31\": {\"31\": 20}, \"8\": {\"8\": 20}, \"28\": {\"28\": 20}, \"22\": {\"22\": 20}, \"43\": {\"43\": 20}, \"49\": {\"49\": 20}, \"52\": {\"52\": 20}, \"18\": {\"18\": 20}, \"40\": {\"40\": 19, \"9\": 1}, \"34\": {\"34\": 20}, \"45\": {\"45\": 20}, \"42\": {\"42\": 20}, \"7\": {\"7\": 19, \"42\": 1}, \"5\": {\"5\": 20}, \"56\": {\"56\": 20}, \"23\": {\"23\": 20}, \"46\": {\"46\": 20}, \"1\": {\"1\": 20}, \"20\": {\"20\": 20}, \"6\": {\"6\": 20}, \"26\": {\"26\": 20}, \"11\": {\"11\": 20}, \"39\": {\"39\": 19, \"33\": 1}, \"21\": {\"21\": 20}, \"3\": {\"3\": 19, \"50\": 1}, \"13\": {\"13\": 20}, \"37\": {\"37\": 20}, \"53\": {\"53\": 20}}, \"3\": {\"12\": {\"12\": 16}, \"8\": {\"8\": 16}, \"56\": {\"56\": 16}, \"53\": {\"53\": 16}, \"41\": {\"41\": 16}, \"51\": {\"51\": 16}, \"39\": {\"39\": 16}, \"46\": {\"46\": 16}, \"36\": {\"36\": 16}, \"11\": {\"11\": 16}, \"10\": {\"10\": 16}, \"48\": {\"48\": 16}, \"22\": {\"22\": 16}, \"21\": {\"21\": 12, \"50\": 4}, \"40\": {\"40\": 16}, \"47\": {\"47\": 15, \"1\": 1}, \"23\": {\"23\": 16}, \"45\": {\"45\": 16}, \"44\": {\"44\": 16}, \"7\": {\"7\": 16}, \"1\": {\"1\": 16}, \"16\": {\"16\": 16}, \"17\": {\"17\": 15, \"2\": 1}, \"55\": {\"55\": 16}, \"9\": {\"9\": 16}, \"6\": {\"6\": 16}, \"52\": {\"52\": 16}, \"43\": {\"43\": 16}, \"54\": {\"54\": 16}, \"0\": {\"0\": 16}, \"26\": {\"26\": 16}, \"35\": {\"35\": 16}, \"28\": {\"28\": 16}, \"15\": {\"15\": 16}, \"57\": {\"57\": 16}, \"30\": {\"30\": 16}, \"2\": {\"2\": 16}, \"13\": {\"13\": 16}, \"31\": {\"31\": 16}, \"32\": {\"32\": 16}, \"19\": {\"19\": 16}, \"34\": {\"34\": 16}, \"38\": {\"38\": 16}, \"37\": {\"37\": 16}, \"5\": {\"5\": 16}, \"18\": {\"18\": 16}, \"3\": {\"3\": 16}, \"25\": {\"25\": 16}, \"24\": {\"24\": 16}, \"27\": {\"27\": 16}, \"29\": {\"29\": 16}, \"4\": {\"4\": 16}, \"14\": {\"14\": 13, \"57\": 3}, \"33\": {\"33\": 16}, \"50\": {\"50\": 14, \"3\": 2}, \"49\": {\"49\": 16}, \"42\": {\"42\": 16}, \"20\": {\"20\": 16}}}, \"per_domain_accuracy\": {\"5\": {\"accuracy\": 0.9939655172413793, \"source?\": true}, \"1\": {\"accuracy\": 0.9985632183908046, \"source?\": true}, \"4\": {\"accuracy\": 0.9676724137931034, \"source?\": false}, \"2\": {\"accuracy\": 0.9827586206896551, \"source?\": false}, \"3\": {\"accuracy\": 0.9881465517241379, \"source?\": false}}}, \"history\": {\"epoch_indices\": [1, 2, 3, 4, 5, 6, 7, 8, 9, 10, 11, 12, 13], \"train_label_loss\": [0.6244653798162173, 0.031141751387622207, 0.02002294076709614, 0.016311369836516976, 0.009907865527612815, 0.015982107525838403, 0.01438288608140936, 0.008950046621602944, 0.006112968080952459, 0.003731750404791129, 0.009691465706521577, 0.002967781720634286, 0.002482997390252888], \"source_val_label_loss\": [0.08868186175823212, 0.033523932099342346, 0.040562450885772705, 0.0317031554877758, 0.034964967519044876, 0.035885512828826904, 0.047463174909353256, 0.037168752402067184, 0.03237605839967728, 0.025014469400048256, 0.035659778863191605, 0.020644424483180046, 0.033908944576978683], \"target_val_label_loss\": [0.2436743974685669, 0.16185951232910156, 0.18321345746517181, 0.14112050831317902, 0.14445891976356506, 0.16833291947841644, 0.17450398206710815, 0.14886541664600372, 0.11261025816202164, 0.1570967435836792, 0.13250035047531128, 0.13741949200630188, 0.16647087037563324], \"source_val_acc_label\": [0.9890282131661442, 0.9945141065830722, 0.9933385579937304, 0.9956896551724138, 0.9956896551724138, 0.9949059561128527, 0.9921630094043887, 0.9960815047021944, 0.9964733542319749, 0.9956896551724138, 0.9960815047021944, 0.9968652037617555, 0.997257053291536], \"target_val_acc_label\": [0.9612068965517241, 0.9658488063660478, 0.9582228116710876, 0.9665119363395226, 0.9688328912466844, 0.9638594164456233, 0.9688328912466844, 0.9734748010610079, 0.9797745358090185, 0.9681697612732095, 0.975132625994695, 0.975132625994695, 0.9728116710875332]}, \"dataset_metrics\": {\"source\": {\"train\": {\"n_unique_x\": 33067, \"n_unique_y\": 58, \"n_batch/episode\": 156}, \"val\": {\"n_unique_x\": 5336, \"n_unique_y\": 58, \"n_batch/episode\": 22}, \"test\": {\"n_unique_x\": 5361, \"n_unique_y\": 58, \"n_batch/episode\": 22}}, \"target\": {\"train\": {\"n_unique_x\": 42709, \"n_unique_y\": 58, \"n_batch/episode\": 195}, \"val\": {\"n_unique_x\": 6530, \"n_unique_y\": 58, \"n_batch/episode\": 26}, \"test\": {\"n_unique_x\": 6932, \"n_unique_y\": 58, \"n_batch/episode\": 28}}}}'"
      ]
     },
     "execution_count": 20,
     "metadata": {},
     "output_type": "execute_result"
    }
   ],
   "source": [
    "json.dumps(experiment)"
   ]
  }
 ],
 "metadata": {
  "celltoolbar": "Tags",
  "kernelspec": {
   "display_name": "Python 3 (ipykernel)",
   "language": "python",
   "name": "python3"
  },
  "language_info": {
   "codemirror_mode": {
    "name": "ipython",
    "version": 3
   },
   "file_extension": ".py",
   "mimetype": "text/x-python",
   "name": "python",
   "nbconvert_exporter": "python",
   "pygments_lexer": "ipython3",
   "version": "3.8.10"
  },
  "papermill": {
   "default_parameters": {},
   "duration": 183.442911,
   "end_time": "2022-03-22T16:30:56.293124",
   "environment_variables": {},
   "exception": null,
   "input_path": "/mnt/wd500GB/CSC500/csc500-main/csc500-notebooks/templates/ptn_template.ipynb",
   "output_path": "trial.ipynb",
   "parameters": {
    "parameters": {
     "BEST_MODEL_PATH": "./best_model.pth",
     "NUM_LOGS_PER_EPOCH": 10,
     "criteria_for_best": "target_accuracy",
     "dataset_seed": 7,
     "device": "cuda",
     "domains_source": [
      1,
      5
     ],
     "domains_target": [
      2,
      3,
      4
     ],
     "episode_transforms_source": [],
     "episode_transforms_target": [],
     "experiment_name": "tuned_1v2:cores",
     "labels_source": [
      "1-10.",
      "1-11.",
      "1-15.",
      "1-16.",
      "1-17.",
      "1-18.",
      "1-19.",
      "10-4.",
      "10-7.",
      "11-1.",
      "11-14.",
      "11-17.",
      "11-20.",
      "11-7.",
      "13-20.",
      "13-8.",
      "14-10.",
      "14-11.",
      "14-14.",
      "14-7.",
      "15-1.",
      "15-20.",
      "16-1.",
      "16-16.",
      "17-10.",
      "17-11.",
      "17-2.",
      "19-1.",
      "19-16.",
      "19-19.",
      "19-20.",
      "19-3.",
      "2-10.",
      "2-11.",
      "2-17.",
      "2-18.",
      "2-20.",
      "2-3.",
      "2-4.",
      "2-5.",
      "2-6.",
      "2-7.",
      "2-8.",
      "3-13.",
      "3-18.",
      "3-3.",
      "4-1.",
      "4-10.",
      "4-11.",
      "4-19.",
      "5-5.",
      "6-15.",
      "7-10.",
      "7-14.",
      "8-18.",
      "8-20.",
      "8-3.",
      "8-8."
     ],
     "labels_target": [
      "1-10.",
      "1-11.",
      "1-15.",
      "1-16.",
      "1-17.",
      "1-18.",
      "1-19.",
      "10-4.",
      "10-7.",
      "11-1.",
      "11-14.",
      "11-17.",
      "11-20.",
      "11-7.",
      "13-20.",
      "13-8.",
      "14-10.",
      "14-11.",
      "14-14.",
      "14-7.",
      "15-1.",
      "15-20.",
      "16-1.",
      "16-16.",
      "17-10.",
      "17-11.",
      "17-2.",
      "19-1.",
      "19-16.",
      "19-19.",
      "19-20.",
      "19-3.",
      "2-10.",
      "2-11.",
      "2-17.",
      "2-18.",
      "2-20.",
      "2-3.",
      "2-4.",
      "2-5.",
      "2-6.",
      "2-7.",
      "2-8.",
      "3-13.",
      "3-18.",
      "3-3.",
      "4-1.",
      "4-10.",
      "4-11.",
      "4-19.",
      "5-5.",
      "6-15.",
      "7-10.",
      "7-14.",
      "8-18.",
      "8-20.",
      "8-3.",
      "8-8."
     ],
     "lr": 0.0001,
     "n_epoch": 50,
     "n_query": 2,
     "n_shot": 3,
     "n_way": 58,
     "num_examples_per_domain_per_label_source": -1,
     "num_examples_per_domain_per_label_target": -1,
     "patience": 3,
     "pickle_name": "cores.stratified_ds.2022A.pkl",
     "seed": 7,
     "test_k_factor": 2,
     "torch_default_dtype": "torch.float32",
     "train_k_factor": 3,
     "val_k_factor": 2,
     "x_net": [
      {
       "class": "nnReshape",
       "kargs": {
        "shape": [
         -1,
         1,
         2,
         256
        ]
       }
      },
      {
       "class": "Conv2d",
       "kargs": {
        "bias": false,
        "in_channels": 1,
        "kernel_size": [
         1,
         7
        ],
        "out_channels": 256,
        "padding": [
         0,
         3
        ]
       }
      },
      {
       "class": "ReLU",
       "kargs": {
        "inplace": true
       }
      },
      {
       "class": "BatchNorm2d",
       "kargs": {
        "num_features": 256
       }
      },
      {
       "class": "Conv2d",
       "kargs": {
        "bias": true,
        "in_channels": 256,
        "kernel_size": [
         2,
         7
        ],
        "out_channels": 80,
        "padding": [
         0,
         3
        ]
       }
      },
      {
       "class": "ReLU",
       "kargs": {
        "inplace": true
       }
      },
      {
       "class": "BatchNorm2d",
       "kargs": {
        "num_features": 80
       }
      },
      {
       "class": "Flatten",
       "kargs": {}
      },
      {
       "class": "Linear",
       "kargs": {
        "in_features": 20480,
        "out_features": 256
       }
      },
      {
       "class": "ReLU",
       "kargs": {
        "inplace": true
       }
      },
      {
       "class": "BatchNorm1d",
       "kargs": {
        "num_features": 256
       }
      },
      {
       "class": "Linear",
       "kargs": {
        "in_features": 256,
        "out_features": 256
       }
      }
     ],
     "x_transforms_source": [],
     "x_transforms_target": []
    }
   },
   "start_time": "2022-03-22T16:27:52.850213",
   "version": "2.3.4"
  }
 },
 "nbformat": 4,
 "nbformat_minor": 5
}