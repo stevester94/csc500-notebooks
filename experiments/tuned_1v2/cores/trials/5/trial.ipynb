{
 "cells": [
  {
   "cell_type": "markdown",
   "id": "9fea5f46",
   "metadata": {
    "papermill": {
     "duration": 0.015108,
     "end_time": "2022-03-22T16:03:34.974489",
     "exception": false,
     "start_time": "2022-03-22T16:03:34.959381",
     "status": "completed"
    },
    "tags": []
   },
   "source": [
    "# PTN Template\n",
    "This notebook serves as a template for single dataset PTN experiments  \n",
    "It can be run on its own by setting STANDALONE to True (do a find for \"STANDALONE\" to see where)  \n",
    "But it is intended to be executed as part of a *papermill.py script. See any of the   \n",
    "experimentes with a papermill script to get started with that workflow.  "
   ]
  },
  {
   "cell_type": "code",
   "execution_count": 1,
   "id": "0902182a",
   "metadata": {
    "execution": {
     "iopub.execute_input": "2022-03-22T16:03:35.017673Z",
     "iopub.status.busy": "2022-03-22T16:03:35.017378Z",
     "iopub.status.idle": "2022-03-22T16:03:36.013933Z",
     "shell.execute_reply": "2022-03-22T16:03:36.014261Z"
    },
    "papermill": {
     "duration": 1.023243,
     "end_time": "2022-03-22T16:03:36.014404",
     "exception": false,
     "start_time": "2022-03-22T16:03:34.991161",
     "status": "completed"
    },
    "tags": []
   },
   "outputs": [],
   "source": [
    "%load_ext autoreload\n",
    "%autoreload 2\n",
    "%matplotlib inline\n",
    "\n",
    "    \n",
    "import os, json, sys, time, random\n",
    "import numpy as np\n",
    "import torch\n",
    "from torch.optim import Adam\n",
    "from  easydict import EasyDict\n",
    "import matplotlib.pyplot as plt\n",
    "\n",
    "from steves_models.steves_ptn import Steves_Prototypical_Network\n",
    "\n",
    "from steves_utils.lazy_iterable_wrapper import Lazy_Iterable_Wrapper\n",
    "from steves_utils.iterable_aggregator import Iterable_Aggregator\n",
    "from steves_utils.ptn_train_eval_test_jig import  PTN_Train_Eval_Test_Jig\n",
    "from steves_utils.torch_sequential_builder import build_sequential\n",
    "from steves_utils.torch_utils import get_dataset_metrics, ptn_confusion_by_domain_over_dataloader\n",
    "from steves_utils.utils_v2 import (per_domain_accuracy_from_confusion, get_datasets_base_path)\n",
    "from steves_utils.PTN.utils import independent_accuracy_assesment\n",
    "\n",
    "from steves_utils.stratified_dataset.episodic_accessor import Episodic_Accessor_Factory\n",
    "\n",
    "from steves_utils.ptn_do_report import (\n",
    "    get_loss_curve,\n",
    "    get_results_table,\n",
    "    get_parameters_table,\n",
    "    get_domain_accuracies,\n",
    ")\n",
    "\n",
    "from steves_utils.transforms import get_chained_transform"
   ]
  },
  {
   "cell_type": "markdown",
   "id": "41c840b4",
   "metadata": {
    "papermill": {
     "duration": 0.009669,
     "end_time": "2022-03-22T16:03:36.038650",
     "exception": false,
     "start_time": "2022-03-22T16:03:36.028981",
     "status": "completed"
    },
    "tags": []
   },
   "source": [
    "# Required Parameters\n",
    "These are allowed parameters, not defaults\n",
    "Each of these values need to be present in the injected parameters (the notebook will raise an exception if they are not present)\n",
    "\n",
    "Papermill uses the cell tag \"parameters\" to inject the real parameters below this cell.\n",
    "Enable tags to see what I mean"
   ]
  },
  {
   "cell_type": "code",
   "execution_count": 2,
   "id": "fd44eb83",
   "metadata": {
    "execution": {
     "iopub.execute_input": "2022-03-22T16:03:36.059930Z",
     "iopub.status.busy": "2022-03-22T16:03:36.059620Z",
     "iopub.status.idle": "2022-03-22T16:03:36.070734Z",
     "shell.execute_reply": "2022-03-22T16:03:36.071134Z"
    },
    "papermill": {
     "duration": 0.023049,
     "end_time": "2022-03-22T16:03:36.071254",
     "exception": false,
     "start_time": "2022-03-22T16:03:36.048205",
     "status": "completed"
    },
    "tags": []
   },
   "outputs": [],
   "source": [
    "required_parameters = {\n",
    "    \"experiment_name\",\n",
    "    \"lr\",\n",
    "    \"device\",\n",
    "    \"seed\",\n",
    "    \"dataset_seed\",\n",
    "    \"labels_source\",\n",
    "    \"labels_target\",\n",
    "    \"domains_source\",\n",
    "    \"domains_target\",\n",
    "    \"num_examples_per_domain_per_label_source\",\n",
    "    \"num_examples_per_domain_per_label_target\",\n",
    "    \"n_shot\",\n",
    "    \"n_way\",\n",
    "    \"n_query\",\n",
    "    \"train_k_factor\",\n",
    "    \"val_k_factor\",\n",
    "    \"test_k_factor\",\n",
    "    \"n_epoch\",\n",
    "    \"patience\",\n",
    "    \"criteria_for_best\",\n",
    "    \"x_transforms_source\",\n",
    "    \"x_transforms_target\",\n",
    "    \"episode_transforms_source\",\n",
    "    \"episode_transforms_target\",\n",
    "    \"pickle_name\",\n",
    "    \"x_net\",\n",
    "    \"NUM_LOGS_PER_EPOCH\",\n",
    "    \"BEST_MODEL_PATH\",\n",
    "    \"torch_default_dtype\"\n",
    "}"
   ]
  },
  {
   "cell_type": "code",
   "execution_count": 3,
   "id": "fa3f0049",
   "metadata": {
    "execution": {
     "iopub.execute_input": "2022-03-22T16:03:36.100700Z",
     "iopub.status.busy": "2022-03-22T16:03:36.100302Z",
     "iopub.status.idle": "2022-03-22T16:03:36.113415Z",
     "shell.execute_reply": "2022-03-22T16:03:36.113026Z"
    },
    "papermill": {
     "duration": 0.02859,
     "end_time": "2022-03-22T16:03:36.113504",
     "exception": false,
     "start_time": "2022-03-22T16:03:36.084914",
     "status": "completed"
    },
    "tags": [
     "parameters"
    ]
   },
   "outputs": [],
   "source": [
    "\n",
    "\n",
    "standalone_parameters = {}\n",
    "standalone_parameters[\"experiment_name\"] = \"STANDALONE PTN\"\n",
    "standalone_parameters[\"lr\"] = 0.0001\n",
    "standalone_parameters[\"device\"] = \"cuda\"\n",
    "\n",
    "standalone_parameters[\"seed\"] = 1337\n",
    "standalone_parameters[\"dataset_seed\"] = 1337\n",
    "\n",
    "\n",
    "standalone_parameters[\"num_examples_per_domain_per_label_source\"]=100\n",
    "standalone_parameters[\"num_examples_per_domain_per_label_target\"]=100\n",
    "\n",
    "standalone_parameters[\"n_shot\"] = 3\n",
    "standalone_parameters[\"n_query\"]  = 2\n",
    "standalone_parameters[\"train_k_factor\"] = 1\n",
    "standalone_parameters[\"val_k_factor\"] = 2\n",
    "standalone_parameters[\"test_k_factor\"] = 2\n",
    "\n",
    "\n",
    "standalone_parameters[\"n_epoch\"] = 100\n",
    "\n",
    "standalone_parameters[\"patience\"] = 10\n",
    "standalone_parameters[\"criteria_for_best\"] = \"target_accuracy\"\n",
    "\n",
    "standalone_parameters[\"x_transforms_source\"] = [\"unit_power\"]\n",
    "standalone_parameters[\"x_transforms_target\"] = [\"unit_power\"]\n",
    "standalone_parameters[\"episode_transforms_source\"] = []\n",
    "standalone_parameters[\"episode_transforms_target\"] = []\n",
    "\n",
    "standalone_parameters[\"torch_default_dtype\"] = \"torch.float32\" \n",
    "\n",
    "\n",
    "\n",
    "standalone_parameters[\"x_net\"] =     [\n",
    "    {\"class\": \"nnReshape\", \"kargs\": {\"shape\":[-1, 1, 2, 256]}},\n",
    "    {\"class\": \"Conv2d\", \"kargs\": { \"in_channels\":1, \"out_channels\":256, \"kernel_size\":(1,7), \"bias\":False, \"padding\":(0,3), },},\n",
    "    {\"class\": \"ReLU\", \"kargs\": {\"inplace\": True}},\n",
    "    {\"class\": \"BatchNorm2d\", \"kargs\": {\"num_features\":256}},\n",
    "\n",
    "    {\"class\": \"Conv2d\", \"kargs\": { \"in_channels\":256, \"out_channels\":80, \"kernel_size\":(2,7), \"bias\":True, \"padding\":(0,3), },},\n",
    "    {\"class\": \"ReLU\", \"kargs\": {\"inplace\": True}},\n",
    "    {\"class\": \"BatchNorm2d\", \"kargs\": {\"num_features\":80}},\n",
    "    {\"class\": \"Flatten\", \"kargs\": {}},\n",
    "\n",
    "    {\"class\": \"Linear\", \"kargs\": {\"in_features\": 80*256, \"out_features\": 256}}, # 80 units per IQ pair\n",
    "    {\"class\": \"ReLU\", \"kargs\": {\"inplace\": True}},\n",
    "    {\"class\": \"BatchNorm1d\", \"kargs\": {\"num_features\":256}},\n",
    "\n",
    "    {\"class\": \"Linear\", \"kargs\": {\"in_features\": 256, \"out_features\": 256}},\n",
    "]\n",
    "\n",
    "# Parameters relevant to results\n",
    "# These parameters will basically never need to change\n",
    "standalone_parameters[\"NUM_LOGS_PER_EPOCH\"] = 10\n",
    "standalone_parameters[\"BEST_MODEL_PATH\"] = \"./best_model.pth\"\n",
    "\n",
    "# uncomment for CORES dataset\n",
    "from steves_utils.CORES.utils import (\n",
    "    ALL_NODES,\n",
    "    ALL_NODES_MINIMUM_1000_EXAMPLES,\n",
    "    ALL_DAYS\n",
    ")\n",
    "\n",
    "\n",
    "standalone_parameters[\"labels_source\"] = ALL_NODES\n",
    "standalone_parameters[\"labels_target\"] = ALL_NODES\n",
    "\n",
    "standalone_parameters[\"domains_source\"] = [1]\n",
    "standalone_parameters[\"domains_target\"] = [2,3,4,5]\n",
    "\n",
    "standalone_parameters[\"pickle_name\"] = \"cores.stratified_ds.2022A.pkl\"\n",
    "\n",
    "\n",
    "# Uncomment these for ORACLE dataset\n",
    "# from steves_utils.ORACLE.utils_v2 import (\n",
    "#     ALL_DISTANCES_FEET,\n",
    "#     ALL_RUNS,\n",
    "#     ALL_SERIAL_NUMBERS,\n",
    "# )\n",
    "# standalone_parameters[\"labels_source\"] = ALL_SERIAL_NUMBERS\n",
    "# standalone_parameters[\"labels_target\"] = ALL_SERIAL_NUMBERS\n",
    "# standalone_parameters[\"domains_source\"] = [8,20, 38,50]\n",
    "# standalone_parameters[\"domains_target\"] = [14, 26, 32, 44, 56]\n",
    "# standalone_parameters[\"pickle_name\"] = \"oracle.frame_indexed.stratified_ds.2022A.pkl\"\n",
    "# standalone_parameters[\"num_examples_per_domain_per_label_source\"]=1000\n",
    "# standalone_parameters[\"num_examples_per_domain_per_label_target\"]=1000\n",
    "\n",
    "# Uncomment these for Metahan dataset\n",
    "# standalone_parameters[\"labels_source\"] = list(range(19))\n",
    "# standalone_parameters[\"labels_target\"] = list(range(19))\n",
    "# standalone_parameters[\"domains_source\"] = [0]\n",
    "# standalone_parameters[\"domains_target\"] = [1]\n",
    "# standalone_parameters[\"pickle_name\"] = \"metehan.stratified_ds.2022A.pkl\"\n",
    "# standalone_parameters[\"n_way\"]  = len(standalone_parameters[\"labels_source\"])\n",
    "# standalone_parameters[\"num_examples_per_domain_per_label_source\"]=200\n",
    "# standalone_parameters[\"num_examples_per_domain_per_label_target\"]=100\n",
    "\n",
    "\n",
    "standalone_parameters[\"n_way\"]  = len(standalone_parameters[\"labels_source\"])"
   ]
  },
  {
   "cell_type": "code",
   "execution_count": 4,
   "id": "f2b478d5",
   "metadata": {
    "execution": {
     "iopub.execute_input": "2022-03-22T16:03:36.147522Z",
     "iopub.status.busy": "2022-03-22T16:03:36.147096Z",
     "iopub.status.idle": "2022-03-22T16:03:36.159004Z",
     "shell.execute_reply": "2022-03-22T16:03:36.158637Z"
    },
    "papermill": {
     "duration": 0.031081,
     "end_time": "2022-03-22T16:03:36.159094",
     "exception": false,
     "start_time": "2022-03-22T16:03:36.128013",
     "status": "completed"
    },
    "tags": [
     "injected-parameters"
    ]
   },
   "outputs": [],
   "source": [
    "# Parameters\n",
    "parameters = {\n",
    "    \"experiment_name\": \"tuned_1v2:cores\",\n",
    "    \"device\": \"cuda\",\n",
    "    \"lr\": 0.0001,\n",
    "    \"labels_source\": [\n",
    "        \"1-10.\",\n",
    "        \"1-11.\",\n",
    "        \"1-15.\",\n",
    "        \"1-16.\",\n",
    "        \"1-17.\",\n",
    "        \"1-18.\",\n",
    "        \"1-19.\",\n",
    "        \"10-4.\",\n",
    "        \"10-7.\",\n",
    "        \"11-1.\",\n",
    "        \"11-14.\",\n",
    "        \"11-17.\",\n",
    "        \"11-20.\",\n",
    "        \"11-7.\",\n",
    "        \"13-20.\",\n",
    "        \"13-8.\",\n",
    "        \"14-10.\",\n",
    "        \"14-11.\",\n",
    "        \"14-14.\",\n",
    "        \"14-7.\",\n",
    "        \"15-1.\",\n",
    "        \"15-20.\",\n",
    "        \"16-1.\",\n",
    "        \"16-16.\",\n",
    "        \"17-10.\",\n",
    "        \"17-11.\",\n",
    "        \"17-2.\",\n",
    "        \"19-1.\",\n",
    "        \"19-16.\",\n",
    "        \"19-19.\",\n",
    "        \"19-20.\",\n",
    "        \"19-3.\",\n",
    "        \"2-10.\",\n",
    "        \"2-11.\",\n",
    "        \"2-17.\",\n",
    "        \"2-18.\",\n",
    "        \"2-20.\",\n",
    "        \"2-3.\",\n",
    "        \"2-4.\",\n",
    "        \"2-5.\",\n",
    "        \"2-6.\",\n",
    "        \"2-7.\",\n",
    "        \"2-8.\",\n",
    "        \"3-13.\",\n",
    "        \"3-18.\",\n",
    "        \"3-3.\",\n",
    "        \"4-1.\",\n",
    "        \"4-10.\",\n",
    "        \"4-11.\",\n",
    "        \"4-19.\",\n",
    "        \"5-5.\",\n",
    "        \"6-15.\",\n",
    "        \"7-10.\",\n",
    "        \"7-14.\",\n",
    "        \"8-18.\",\n",
    "        \"8-20.\",\n",
    "        \"8-3.\",\n",
    "        \"8-8.\",\n",
    "    ],\n",
    "    \"labels_target\": [\n",
    "        \"1-10.\",\n",
    "        \"1-11.\",\n",
    "        \"1-15.\",\n",
    "        \"1-16.\",\n",
    "        \"1-17.\",\n",
    "        \"1-18.\",\n",
    "        \"1-19.\",\n",
    "        \"10-4.\",\n",
    "        \"10-7.\",\n",
    "        \"11-1.\",\n",
    "        \"11-14.\",\n",
    "        \"11-17.\",\n",
    "        \"11-20.\",\n",
    "        \"11-7.\",\n",
    "        \"13-20.\",\n",
    "        \"13-8.\",\n",
    "        \"14-10.\",\n",
    "        \"14-11.\",\n",
    "        \"14-14.\",\n",
    "        \"14-7.\",\n",
    "        \"15-1.\",\n",
    "        \"15-20.\",\n",
    "        \"16-1.\",\n",
    "        \"16-16.\",\n",
    "        \"17-10.\",\n",
    "        \"17-11.\",\n",
    "        \"17-2.\",\n",
    "        \"19-1.\",\n",
    "        \"19-16.\",\n",
    "        \"19-19.\",\n",
    "        \"19-20.\",\n",
    "        \"19-3.\",\n",
    "        \"2-10.\",\n",
    "        \"2-11.\",\n",
    "        \"2-17.\",\n",
    "        \"2-18.\",\n",
    "        \"2-20.\",\n",
    "        \"2-3.\",\n",
    "        \"2-4.\",\n",
    "        \"2-5.\",\n",
    "        \"2-6.\",\n",
    "        \"2-7.\",\n",
    "        \"2-8.\",\n",
    "        \"3-13.\",\n",
    "        \"3-18.\",\n",
    "        \"3-3.\",\n",
    "        \"4-1.\",\n",
    "        \"4-10.\",\n",
    "        \"4-11.\",\n",
    "        \"4-19.\",\n",
    "        \"5-5.\",\n",
    "        \"6-15.\",\n",
    "        \"7-10.\",\n",
    "        \"7-14.\",\n",
    "        \"8-18.\",\n",
    "        \"8-20.\",\n",
    "        \"8-3.\",\n",
    "        \"8-8.\",\n",
    "    ],\n",
    "    \"episode_transforms_source\": [],\n",
    "    \"episode_transforms_target\": [],\n",
    "    \"domains_source\": [1, 5],\n",
    "    \"domains_target\": [2, 3, 4],\n",
    "    \"num_examples_per_domain_per_label_source\": -1,\n",
    "    \"num_examples_per_domain_per_label_target\": -1,\n",
    "    \"n_shot\": 3,\n",
    "    \"n_way\": 58,\n",
    "    \"n_query\": 2,\n",
    "    \"train_k_factor\": 3,\n",
    "    \"val_k_factor\": 2,\n",
    "    \"test_k_factor\": 2,\n",
    "    \"torch_default_dtype\": \"torch.float32\",\n",
    "    \"n_epoch\": 50,\n",
    "    \"patience\": 3,\n",
    "    \"criteria_for_best\": \"target_accuracy\",\n",
    "    \"x_net\": [\n",
    "        {\"class\": \"nnReshape\", \"kargs\": {\"shape\": [-1, 1, 2, 256]}},\n",
    "        {\n",
    "            \"class\": \"Conv2d\",\n",
    "            \"kargs\": {\n",
    "                \"in_channels\": 1,\n",
    "                \"out_channels\": 256,\n",
    "                \"kernel_size\": [1, 7],\n",
    "                \"bias\": False,\n",
    "                \"padding\": [0, 3],\n",
    "            },\n",
    "        },\n",
    "        {\"class\": \"ReLU\", \"kargs\": {\"inplace\": True}},\n",
    "        {\"class\": \"BatchNorm2d\", \"kargs\": {\"num_features\": 256}},\n",
    "        {\n",
    "            \"class\": \"Conv2d\",\n",
    "            \"kargs\": {\n",
    "                \"in_channels\": 256,\n",
    "                \"out_channels\": 80,\n",
    "                \"kernel_size\": [2, 7],\n",
    "                \"bias\": True,\n",
    "                \"padding\": [0, 3],\n",
    "            },\n",
    "        },\n",
    "        {\"class\": \"ReLU\", \"kargs\": {\"inplace\": True}},\n",
    "        {\"class\": \"BatchNorm2d\", \"kargs\": {\"num_features\": 80}},\n",
    "        {\"class\": \"Flatten\", \"kargs\": {}},\n",
    "        {\"class\": \"Linear\", \"kargs\": {\"in_features\": 20480, \"out_features\": 256}},\n",
    "        {\"class\": \"ReLU\", \"kargs\": {\"inplace\": True}},\n",
    "        {\"class\": \"BatchNorm1d\", \"kargs\": {\"num_features\": 256}},\n",
    "        {\"class\": \"Linear\", \"kargs\": {\"in_features\": 256, \"out_features\": 256}},\n",
    "    ],\n",
    "    \"NUM_LOGS_PER_EPOCH\": 10,\n",
    "    \"BEST_MODEL_PATH\": \"./best_model.pth\",\n",
    "    \"pickle_name\": \"cores.stratified_ds.2022A.pkl\",\n",
    "    \"x_transforms_source\": [\"unit_mag\"],\n",
    "    \"x_transforms_target\": [\"unit_mag\"],\n",
    "    \"dataset_seed\": 154325,\n",
    "    \"seed\": 154325,\n",
    "}\n"
   ]
  },
  {
   "cell_type": "code",
   "execution_count": 5,
   "id": "8fa1cc33",
   "metadata": {
    "execution": {
     "iopub.execute_input": "2022-03-22T16:03:36.186575Z",
     "iopub.status.busy": "2022-03-22T16:03:36.186322Z",
     "iopub.status.idle": "2022-03-22T16:03:36.197492Z",
     "shell.execute_reply": "2022-03-22T16:03:36.197246Z"
    },
    "papermill": {
     "duration": 0.0244,
     "end_time": "2022-03-22T16:03:36.197542",
     "exception": false,
     "start_time": "2022-03-22T16:03:36.173142",
     "status": "completed"
    },
    "tags": []
   },
   "outputs": [],
   "source": [
    "# Set this to True if you want to run this template directly\n",
    "STANDALONE = False\n",
    "if STANDALONE:\n",
    "    print(\"parameters not injected, running with standalone_parameters\")\n",
    "    parameters = standalone_parameters\n",
    "\n",
    "if not 'parameters' in locals() and not 'parameters' in globals():\n",
    "    raise Exception(\"Parameter injection failed\")\n",
    "\n",
    "#Use an easy dict for all the parameters\n",
    "p = EasyDict(parameters)\n",
    "\n",
    "supplied_keys = set(p.keys())\n",
    "\n",
    "if  supplied_keys != required_parameters:\n",
    "    print(\"Parameters are incorrect\")\n",
    "    if len(supplied_keys - required_parameters)>0: print(\"Shouldn't have:\", str(supplied_keys - required_parameters))\n",
    "    if len(required_parameters - supplied_keys)>0: print(\"Need to have:\", str(required_parameters - supplied_keys))\n",
    "    raise RuntimeError(\"Parameters are incorrect\")\n",
    "\n"
   ]
  },
  {
   "cell_type": "code",
   "execution_count": 6,
   "id": "3a028d58",
   "metadata": {
    "execution": {
     "iopub.execute_input": "2022-03-22T16:03:36.222934Z",
     "iopub.status.busy": "2022-03-22T16:03:36.222690Z",
     "iopub.status.idle": "2022-03-22T16:03:36.236981Z",
     "shell.execute_reply": "2022-03-22T16:03:36.236645Z"
    },
    "papermill": {
     "duration": 0.027107,
     "end_time": "2022-03-22T16:03:36.237070",
     "exception": false,
     "start_time": "2022-03-22T16:03:36.209963",
     "status": "completed"
    },
    "tags": []
   },
   "outputs": [],
   "source": [
    "###################################\n",
    "# Set the RNGs and make it all deterministic\n",
    "###################################\n",
    "np.random.seed(p.seed)\n",
    "random.seed(p.seed)\n",
    "torch.manual_seed(p.seed)\n",
    "\n",
    "torch.use_deterministic_algorithms(True) "
   ]
  },
  {
   "cell_type": "code",
   "execution_count": 7,
   "id": "b691acf6",
   "metadata": {
    "execution": {
     "iopub.execute_input": "2022-03-22T16:03:36.264507Z",
     "iopub.status.busy": "2022-03-22T16:03:36.264257Z",
     "iopub.status.idle": "2022-03-22T16:03:36.277785Z",
     "shell.execute_reply": "2022-03-22T16:03:36.278076Z"
    },
    "papermill": {
     "duration": 0.025907,
     "end_time": "2022-03-22T16:03:36.278157",
     "exception": false,
     "start_time": "2022-03-22T16:03:36.252250",
     "status": "completed"
    },
    "tags": []
   },
   "outputs": [],
   "source": [
    "###########################################\n",
    "# The stratified datasets honor this\n",
    "###########################################\n",
    "torch.set_default_dtype(eval(p.torch_default_dtype))"
   ]
  },
  {
   "cell_type": "code",
   "execution_count": 8,
   "id": "b5fba671",
   "metadata": {
    "execution": {
     "iopub.execute_input": "2022-03-22T16:03:36.304404Z",
     "iopub.status.busy": "2022-03-22T16:03:36.304157Z",
     "iopub.status.idle": "2022-03-22T16:03:36.342459Z",
     "shell.execute_reply": "2022-03-22T16:03:36.342071Z"
    },
    "papermill": {
     "duration": 0.050174,
     "end_time": "2022-03-22T16:03:36.342547",
     "exception": false,
     "start_time": "2022-03-22T16:03:36.292373",
     "status": "completed"
    },
    "tags": []
   },
   "outputs": [],
   "source": [
    "###################################\n",
    "# Build the network(s)\n",
    "# Note: It's critical to do this AFTER setting the RNG\n",
    "# (This is due to the randomized initial weights)\n",
    "###################################\n",
    "x_net = build_sequential(p.x_net)"
   ]
  },
  {
   "cell_type": "code",
   "execution_count": 9,
   "id": "5d7e61cc",
   "metadata": {
    "execution": {
     "iopub.execute_input": "2022-03-22T16:03:36.367871Z",
     "iopub.status.busy": "2022-03-22T16:03:36.367625Z",
     "iopub.status.idle": "2022-03-22T16:03:36.382880Z",
     "shell.execute_reply": "2022-03-22T16:03:36.382496Z"
    },
    "papermill": {
     "duration": 0.027981,
     "end_time": "2022-03-22T16:03:36.382967",
     "exception": false,
     "start_time": "2022-03-22T16:03:36.354986",
     "status": "completed"
    },
    "tags": []
   },
   "outputs": [],
   "source": [
    "start_time_secs = time.time()"
   ]
  },
  {
   "cell_type": "code",
   "execution_count": 10,
   "id": "fd5442bc",
   "metadata": {
    "execution": {
     "iopub.execute_input": "2022-03-22T16:03:36.413761Z",
     "iopub.status.busy": "2022-03-22T16:03:36.413492Z",
     "iopub.status.idle": "2022-03-22T16:03:52.007736Z",
     "shell.execute_reply": "2022-03-22T16:03:52.008111Z"
    },
    "papermill": {
     "duration": 15.610991,
     "end_time": "2022-03-22T16:03:52.008234",
     "exception": false,
     "start_time": "2022-03-22T16:03:36.397243",
     "status": "completed"
    },
    "tags": []
   },
   "outputs": [],
   "source": [
    "###################################\n",
    "# Build the dataset\n",
    "###################################\n",
    "\n",
    "if p.x_transforms_source == []: x_transform_source = None\n",
    "else: x_transform_source = get_chained_transform(p.x_transforms_source) \n",
    "\n",
    "if p.x_transforms_target == []: x_transform_target = None\n",
    "else: x_transform_target = get_chained_transform(p.x_transforms_target)\n",
    "\n",
    "if p.episode_transforms_source == []: episode_transform_source = None\n",
    "else: raise Exception(\"episode_transform_source not implemented\")\n",
    "\n",
    "if p.episode_transforms_target == []: episode_transform_target = None\n",
    "else: raise Exception(\"episode_transform_target not implemented\")\n",
    "\n",
    "\n",
    "eaf_source = Episodic_Accessor_Factory(\n",
    "    labels=p.labels_source,\n",
    "    domains=p.domains_source,\n",
    "    num_examples_per_domain_per_label=p.num_examples_per_domain_per_label_source,\n",
    "    iterator_seed=p.seed,\n",
    "    dataset_seed=p.dataset_seed,\n",
    "    n_shot=p.n_shot,\n",
    "    n_way=p.n_way,\n",
    "    n_query=p.n_query,\n",
    "    train_val_test_k_factors=(p.train_k_factor,p.val_k_factor,p.test_k_factor),\n",
    "    pickle_path=os.path.join(get_datasets_base_path(), p.pickle_name),\n",
    "    x_transform_func=x_transform_source,\n",
    "    example_transform_func=episode_transform_source,\n",
    "    \n",
    ")\n",
    "train_original_source, val_original_source, test_original_source = eaf_source.get_train(), eaf_source.get_val(), eaf_source.get_test()\n",
    "\n",
    "\n",
    "eaf_target = Episodic_Accessor_Factory(\n",
    "    labels=p.labels_target,\n",
    "    domains=p.domains_target,\n",
    "    num_examples_per_domain_per_label=p.num_examples_per_domain_per_label_target,\n",
    "    iterator_seed=p.seed,\n",
    "    dataset_seed=p.dataset_seed,\n",
    "    n_shot=p.n_shot,\n",
    "    n_way=p.n_way,\n",
    "    n_query=p.n_query,\n",
    "    train_val_test_k_factors=(p.train_k_factor,p.val_k_factor,p.test_k_factor),\n",
    "    pickle_path=os.path.join(get_datasets_base_path(), p.pickle_name),\n",
    "    x_transform_func=x_transform_target,\n",
    "    example_transform_func=episode_transform_target,\n",
    ")\n",
    "train_original_target, val_original_target, test_original_target = eaf_target.get_train(), eaf_target.get_val(), eaf_target.get_test()\n",
    "\n",
    "\n",
    "transform_lambda = lambda ex: ex[1] # Original is (<domain>, <episode>) so we strip down to episode only\n",
    "\n",
    "train_processed_source = Lazy_Iterable_Wrapper(train_original_source, transform_lambda)\n",
    "val_processed_source   = Lazy_Iterable_Wrapper(val_original_source, transform_lambda)\n",
    "test_processed_source  = Lazy_Iterable_Wrapper(test_original_source, transform_lambda)\n",
    "\n",
    "train_processed_target = Lazy_Iterable_Wrapper(train_original_target, transform_lambda)\n",
    "val_processed_target   = Lazy_Iterable_Wrapper(val_original_target, transform_lambda)\n",
    "test_processed_target  = Lazy_Iterable_Wrapper(test_original_target, transform_lambda)\n",
    "\n",
    "datasets = EasyDict({\n",
    "    \"source\": {\n",
    "        \"original\": {\"train\":train_original_source, \"val\":val_original_source, \"test\":test_original_source},\n",
    "        \"processed\": {\"train\":train_processed_source, \"val\":val_processed_source, \"test\":test_processed_source}\n",
    "    },\n",
    "    \"target\": {\n",
    "        \"original\": {\"train\":train_original_target, \"val\":val_original_target, \"test\":test_original_target},\n",
    "        \"processed\": {\"train\":train_processed_target, \"val\":val_processed_target, \"test\":test_processed_target}\n",
    "    },\n",
    "})"
   ]
  },
  {
   "cell_type": "code",
   "execution_count": 11,
   "id": "296189d9",
   "metadata": {
    "execution": {
     "iopub.execute_input": "2022-03-22T16:03:52.037413Z",
     "iopub.status.busy": "2022-03-22T16:03:52.037157Z",
     "iopub.status.idle": "2022-03-22T16:03:53.722450Z",
     "shell.execute_reply": "2022-03-22T16:03:53.722916Z"
    },
    "papermill": {
     "duration": 1.699625,
     "end_time": "2022-03-22T16:03:53.723061",
     "exception": false,
     "start_time": "2022-03-22T16:03:52.023436",
     "status": "completed"
    },
    "tags": []
   },
   "outputs": [
    {
     "name": "stdout",
     "output_type": "stream",
     "text": [
      "Visually inspect these to see if they line up with expected values given the transforms\n",
      "x_transforms_source ['unit_mag']\n",
      "x_transforms_target ['unit_mag']\n",
      "Average magnitude, source: 1.0\n",
      "Average power, source: 1.2229612\n"
     ]
    },
    {
     "name": "stdout",
     "output_type": "stream",
     "text": [
      "Average magnitude, target: 1.0\n",
      "Average power, target: 1.1813238\n"
     ]
    }
   ],
   "source": [
    "# Some quick unit tests on the data\n",
    "from steves_utils.transforms import get_average_power, get_average_magnitude\n",
    "\n",
    "q_x, q_y, s_x, s_y, truth = next(iter(train_processed_source))\n",
    "\n",
    "assert q_x.dtype == eval(p.torch_default_dtype)\n",
    "assert s_x.dtype == eval(p.torch_default_dtype)\n",
    "\n",
    "print(\"Visually inspect these to see if they line up with expected values given the transforms\")\n",
    "print('x_transforms_source', p.x_transforms_source)\n",
    "print('x_transforms_target', p.x_transforms_target)\n",
    "print(\"Average magnitude, source:\", get_average_magnitude(q_x[0].numpy()))\n",
    "print(\"Average power, source:\", get_average_power(q_x[0].numpy()))\n",
    "\n",
    "q_x, q_y, s_x, s_y, truth = next(iter(train_processed_target))\n",
    "print(\"Average magnitude, target:\", get_average_magnitude(q_x[0].numpy()))\n",
    "print(\"Average power, target:\", get_average_power(q_x[0].numpy()))\n"
   ]
  },
  {
   "cell_type": "code",
   "execution_count": 12,
   "id": "bbdacba1",
   "metadata": {
    "execution": {
     "iopub.execute_input": "2022-03-22T16:03:53.757618Z",
     "iopub.status.busy": "2022-03-22T16:03:53.757153Z",
     "iopub.status.idle": "2022-03-22T16:03:53.822123Z",
     "shell.execute_reply": "2022-03-22T16:03:53.822501Z"
    },
    "papermill": {
     "duration": 0.081613,
     "end_time": "2022-03-22T16:03:53.822624",
     "exception": false,
     "start_time": "2022-03-22T16:03:53.741011",
     "status": "completed"
    },
    "tags": []
   },
   "outputs": [
    {
     "name": "stdout",
     "output_type": "stream",
     "text": [
      "(2, 256)\n"
     ]
    }
   ],
   "source": [
    "###################################\n",
    "# Build the model\n",
    "###################################\n",
    "model = Steves_Prototypical_Network(x_net, device=p.device, x_shape=(2,256))\n",
    "optimizer = Adam(params=model.parameters(), lr=p.lr)"
   ]
  },
  {
   "cell_type": "code",
   "execution_count": 13,
   "id": "22b39ac5",
   "metadata": {
    "execution": {
     "iopub.execute_input": "2022-03-22T16:03:53.851790Z",
     "iopub.status.busy": "2022-03-22T16:03:53.851531Z",
     "iopub.status.idle": "2022-03-22T16:07:09.574961Z",
     "shell.execute_reply": "2022-03-22T16:07:09.575360Z"
    },
    "papermill": {
     "duration": 195.736448,
     "end_time": "2022-03-22T16:07:09.575479",
     "exception": false,
     "start_time": "2022-03-22T16:03:53.839031",
     "status": "completed"
    },
    "tags": []
   },
   "outputs": [
    {
     "name": "stdout",
     "output_type": "stream",
     "text": [
      "epoch: 1, [batch: 1 / 156], examples_per_second: 1023.3168, train_label_loss: 3.8968, \n"
     ]
    },
    {
     "name": "stdout",
     "output_type": "stream",
     "text": [
      "epoch: 1, [batch: 16 / 156], examples_per_second: 3900.1994, train_label_loss: 2.0530, \n"
     ]
    },
    {
     "name": "stdout",
     "output_type": "stream",
     "text": [
      "epoch: 1, [batch: 32 / 156], examples_per_second: 3907.0531, train_label_loss: 0.8136, \n"
     ]
    },
    {
     "name": "stdout",
     "output_type": "stream",
     "text": [
      "epoch: 1, [batch: 47 / 156], examples_per_second: 3833.0943, train_label_loss: 0.4330, \n"
     ]
    },
    {
     "name": "stdout",
     "output_type": "stream",
     "text": [
      "epoch: 1, [batch: 63 / 156], examples_per_second: 3915.4678, train_label_loss: 0.2688, \n"
     ]
    },
    {
     "name": "stdout",
     "output_type": "stream",
     "text": [
      "epoch: 1, [batch: 78 / 156], examples_per_second: 3908.9221, train_label_loss: 0.1596, \n"
     ]
    },
    {
     "name": "stdout",
     "output_type": "stream",
     "text": [
      "epoch: 1, [batch: 94 / 156], examples_per_second: 3835.2661, train_label_loss: 0.1238, \n"
     ]
    },
    {
     "name": "stdout",
     "output_type": "stream",
     "text": [
      "epoch: 1, [batch: 109 / 156], examples_per_second: 3915.9905, train_label_loss: 0.0921, \n"
     ]
    },
    {
     "name": "stdout",
     "output_type": "stream",
     "text": [
      "epoch: 1, [batch: 125 / 156], examples_per_second: 3917.5573, train_label_loss: 0.0714, \n"
     ]
    },
    {
     "name": "stdout",
     "output_type": "stream",
     "text": [
      "epoch: 1, [batch: 140 / 156], examples_per_second: 3919.2055, train_label_loss: 0.0500, \n"
     ]
    },
    {
     "name": "stdout",
     "output_type": "stream",
     "text": [
      "=============================================================\n",
      "epoch: 1, source_val_acc_label: 0.9929, target_val_acc_label: 0.9804, source_val_label_loss: 0.0618, target_val_label_loss: 0.1442, \n",
      "=============================================================\n"
     ]
    },
    {
     "name": "stdout",
     "output_type": "stream",
     "text": [
      "New best\n"
     ]
    },
    {
     "name": "stdout",
     "output_type": "stream",
     "text": [
      "epoch: 2, [batch: 1 / 156], examples_per_second: 199.2105, train_label_loss: 0.0682, \n"
     ]
    },
    {
     "name": "stdout",
     "output_type": "stream",
     "text": [
      "epoch: 2, [batch: 16 / 156], examples_per_second: 3984.8789, train_label_loss: 0.0435, \n"
     ]
    },
    {
     "name": "stdout",
     "output_type": "stream",
     "text": [
      "epoch: 2, [batch: 32 / 156], examples_per_second: 3984.4220, train_label_loss: 0.0390, \n"
     ]
    },
    {
     "name": "stdout",
     "output_type": "stream",
     "text": [
      "epoch: 2, [batch: 47 / 156], examples_per_second: 3903.3092, train_label_loss: 0.0295, \n"
     ]
    },
    {
     "name": "stdout",
     "output_type": "stream",
     "text": [
      "epoch: 2, [batch: 63 / 156], examples_per_second: 3973.9469, train_label_loss: 0.0063, \n"
     ]
    },
    {
     "name": "stdout",
     "output_type": "stream",
     "text": [
      "epoch: 2, [batch: 78 / 156], examples_per_second: 3978.8532, train_label_loss: 0.0231, \n"
     ]
    },
    {
     "name": "stdout",
     "output_type": "stream",
     "text": [
      "epoch: 2, [batch: 94 / 156], examples_per_second: 3891.4899, train_label_loss: 0.0045, \n"
     ]
    },
    {
     "name": "stdout",
     "output_type": "stream",
     "text": [
      "epoch: 2, [batch: 109 / 156], examples_per_second: 3992.3140, train_label_loss: 0.0058, \n"
     ]
    },
    {
     "name": "stdout",
     "output_type": "stream",
     "text": [
      "epoch: 2, [batch: 125 / 156], examples_per_second: 3994.3531, train_label_loss: 0.0139, \n"
     ]
    },
    {
     "name": "stdout",
     "output_type": "stream",
     "text": [
      "epoch: 2, [batch: 140 / 156], examples_per_second: 3993.4832, train_label_loss: 0.0058, \n"
     ]
    },
    {
     "name": "stdout",
     "output_type": "stream",
     "text": [
      "=============================================================\n",
      "epoch: 2, source_val_acc_label: 0.9933, target_val_acc_label: 0.9844, source_val_label_loss: 0.0236, target_val_label_loss: 0.0633, \n",
      "=============================================================\n"
     ]
    },
    {
     "name": "stdout",
     "output_type": "stream",
     "text": [
      "New best\n"
     ]
    },
    {
     "name": "stdout",
     "output_type": "stream",
     "text": [
      "epoch: 3, [batch: 1 / 156], examples_per_second: 198.5112, train_label_loss: 0.0071, \n"
     ]
    },
    {
     "name": "stdout",
     "output_type": "stream",
     "text": [
      "epoch: 3, [batch: 16 / 156], examples_per_second: 3991.7629, train_label_loss: 0.0195, \n"
     ]
    },
    {
     "name": "stdout",
     "output_type": "stream",
     "text": [
      "epoch: 3, [batch: 32 / 156], examples_per_second: 3977.1670, train_label_loss: 0.0123, \n"
     ]
    },
    {
     "name": "stdout",
     "output_type": "stream",
     "text": [
      "epoch: 3, [batch: 47 / 156], examples_per_second: 3904.4803, train_label_loss: 0.2068, \n"
     ]
    },
    {
     "name": "stdout",
     "output_type": "stream",
     "text": [
      "epoch: 3, [batch: 63 / 156], examples_per_second: 3994.6105, train_label_loss: 0.0102, \n"
     ]
    },
    {
     "name": "stdout",
     "output_type": "stream",
     "text": [
      "epoch: 3, [batch: 78 / 156], examples_per_second: 3993.5225, train_label_loss: 0.0043, \n"
     ]
    },
    {
     "name": "stdout",
     "output_type": "stream",
     "text": [
      "epoch: 3, [batch: 94 / 156], examples_per_second: 3910.5026, train_label_loss: 0.0019, \n"
     ]
    },
    {
     "name": "stdout",
     "output_type": "stream",
     "text": [
      "epoch: 3, [batch: 109 / 156], examples_per_second: 3975.9009, train_label_loss: 0.0155, \n"
     ]
    },
    {
     "name": "stdout",
     "output_type": "stream",
     "text": [
      "epoch: 3, [batch: 125 / 156], examples_per_second: 3979.4253, train_label_loss: 0.0075, \n"
     ]
    },
    {
     "name": "stdout",
     "output_type": "stream",
     "text": [
      "epoch: 3, [batch: 140 / 156], examples_per_second: 3984.6605, train_label_loss: 0.0143, \n"
     ]
    },
    {
     "name": "stdout",
     "output_type": "stream",
     "text": [
      "=============================================================\n",
      "epoch: 3, source_val_acc_label: 0.9965, target_val_acc_label: 0.9844, source_val_label_loss: 0.0115, target_val_label_loss: 0.0530, \n",
      "=============================================================\n"
     ]
    },
    {
     "name": "stdout",
     "output_type": "stream",
     "text": [
      "epoch: 4, [batch: 1 / 156], examples_per_second: 203.5874, train_label_loss: 0.0080, \n"
     ]
    },
    {
     "name": "stdout",
     "output_type": "stream",
     "text": [
      "epoch: 4, [batch: 16 / 156], examples_per_second: 3997.2033, train_label_loss: 0.0023, \n"
     ]
    },
    {
     "name": "stdout",
     "output_type": "stream",
     "text": [
      "epoch: 4, [batch: 32 / 156], examples_per_second: 3998.6749, train_label_loss: 0.0037, \n"
     ]
    },
    {
     "name": "stdout",
     "output_type": "stream",
     "text": [
      "epoch: 4, [batch: 47 / 156], examples_per_second: 3919.3874, train_label_loss: 0.0028, \n"
     ]
    },
    {
     "name": "stdout",
     "output_type": "stream",
     "text": [
      "epoch: 4, [batch: 63 / 156], examples_per_second: 4003.0069, train_label_loss: 0.0013, \n"
     ]
    },
    {
     "name": "stdout",
     "output_type": "stream",
     "text": [
      "epoch: 4, [batch: 78 / 156], examples_per_second: 3999.8129, train_label_loss: 0.0045, \n"
     ]
    },
    {
     "name": "stdout",
     "output_type": "stream",
     "text": [
      "epoch: 4, [batch: 94 / 156], examples_per_second: 3924.2671, train_label_loss: 0.0006, \n"
     ]
    },
    {
     "name": "stdout",
     "output_type": "stream",
     "text": [
      "epoch: 4, [batch: 109 / 156], examples_per_second: 4003.7503, train_label_loss: 0.0011, \n"
     ]
    },
    {
     "name": "stdout",
     "output_type": "stream",
     "text": [
      "epoch: 4, [batch: 125 / 156], examples_per_second: 3992.5699, train_label_loss: 0.0007, \n"
     ]
    },
    {
     "name": "stdout",
     "output_type": "stream",
     "text": [
      "epoch: 4, [batch: 140 / 156], examples_per_second: 3997.8847, train_label_loss: 0.0020, \n"
     ]
    },
    {
     "name": "stdout",
     "output_type": "stream",
     "text": [
      "=============================================================\n",
      "epoch: 4, source_val_acc_label: 0.9976, target_val_acc_label: 0.9851, source_val_label_loss: 0.0075, target_val_label_loss: 0.0516, \n",
      "=============================================================\n"
     ]
    },
    {
     "name": "stdout",
     "output_type": "stream",
     "text": [
      "New best\n"
     ]
    },
    {
     "name": "stdout",
     "output_type": "stream",
     "text": [
      "epoch: 5, [batch: 1 / 156], examples_per_second: 197.8103, train_label_loss: 0.0055, \n"
     ]
    },
    {
     "name": "stdout",
     "output_type": "stream",
     "text": [
      "epoch: 5, [batch: 16 / 156], examples_per_second: 3992.3219, train_label_loss: 0.0046, \n"
     ]
    },
    {
     "name": "stdout",
     "output_type": "stream",
     "text": [
      "epoch: 5, [batch: 32 / 156], examples_per_second: 3993.9604, train_label_loss: 0.0006, \n"
     ]
    },
    {
     "name": "stdout",
     "output_type": "stream",
     "text": [
      "epoch: 5, [batch: 47 / 156], examples_per_second: 3912.9553, train_label_loss: 0.0002, \n"
     ]
    },
    {
     "name": "stdout",
     "output_type": "stream",
     "text": [
      "epoch: 5, [batch: 63 / 156], examples_per_second: 3996.9281, train_label_loss: 0.0028, \n"
     ]
    },
    {
     "name": "stdout",
     "output_type": "stream",
     "text": [
      "epoch: 5, [batch: 78 / 156], examples_per_second: 3997.6447, train_label_loss: 0.0580, \n"
     ]
    },
    {
     "name": "stdout",
     "output_type": "stream",
     "text": [
      "epoch: 5, [batch: 94 / 156], examples_per_second: 3919.0412, train_label_loss: 0.0145, \n"
     ]
    },
    {
     "name": "stdout",
     "output_type": "stream",
     "text": [
      "epoch: 5, [batch: 109 / 156], examples_per_second: 3994.8656, train_label_loss: 0.0009, \n"
     ]
    },
    {
     "name": "stdout",
     "output_type": "stream",
     "text": [
      "epoch: 5, [batch: 125 / 156], examples_per_second: 3983.0642, train_label_loss: 0.0008, \n"
     ]
    },
    {
     "name": "stdout",
     "output_type": "stream",
     "text": [
      "epoch: 5, [batch: 140 / 156], examples_per_second: 3996.3742, train_label_loss: 0.0011, \n"
     ]
    },
    {
     "name": "stdout",
     "output_type": "stream",
     "text": [
      "=============================================================\n",
      "epoch: 5, source_val_acc_label: 0.9980, target_val_acc_label: 0.9867, source_val_label_loss: 0.0073, target_val_label_loss: 0.0520, \n",
      "=============================================================\n"
     ]
    },
    {
     "name": "stdout",
     "output_type": "stream",
     "text": [
      "New best\n"
     ]
    },
    {
     "name": "stdout",
     "output_type": "stream",
     "text": [
      "epoch: 6, [batch: 1 / 156], examples_per_second: 196.4711, train_label_loss: 0.0035, \n"
     ]
    },
    {
     "name": "stdout",
     "output_type": "stream",
     "text": [
      "epoch: 6, [batch: 16 / 156], examples_per_second: 3986.8764, train_label_loss: 0.0018, \n"
     ]
    },
    {
     "name": "stdout",
     "output_type": "stream",
     "text": [
      "epoch: 6, [batch: 32 / 156], examples_per_second: 3995.9802, train_label_loss: 0.0124, \n"
     ]
    },
    {
     "name": "stdout",
     "output_type": "stream",
     "text": [
      "epoch: 6, [batch: 47 / 156], examples_per_second: 3908.3067, train_label_loss: 0.0298, \n"
     ]
    },
    {
     "name": "stdout",
     "output_type": "stream",
     "text": [
      "epoch: 6, [batch: 63 / 156], examples_per_second: 3996.9002, train_label_loss: 0.0022, \n"
     ]
    },
    {
     "name": "stdout",
     "output_type": "stream",
     "text": [
      "epoch: 6, [batch: 78 / 156], examples_per_second: 3993.4246, train_label_loss: 0.0356, \n"
     ]
    },
    {
     "name": "stdout",
     "output_type": "stream",
     "text": [
      "epoch: 6, [batch: 94 / 156], examples_per_second: 3914.3220, train_label_loss: 0.0098, \n"
     ]
    },
    {
     "name": "stdout",
     "output_type": "stream",
     "text": [
      "epoch: 6, [batch: 109 / 156], examples_per_second: 3996.8881, train_label_loss: 0.0141, \n"
     ]
    },
    {
     "name": "stdout",
     "output_type": "stream",
     "text": [
      "epoch: 6, [batch: 125 / 156], examples_per_second: 3998.0374, train_label_loss: 0.0112, \n"
     ]
    },
    {
     "name": "stdout",
     "output_type": "stream",
     "text": [
      "epoch: 6, [batch: 140 / 156], examples_per_second: 3990.3913, train_label_loss: 0.0016, \n"
     ]
    },
    {
     "name": "stdout",
     "output_type": "stream",
     "text": [
      "=============================================================\n",
      "epoch: 6, source_val_acc_label: 0.9961, target_val_acc_label: 0.9881, source_val_label_loss: 0.0092, target_val_label_loss: 0.0463, \n",
      "=============================================================\n"
     ]
    },
    {
     "name": "stdout",
     "output_type": "stream",
     "text": [
      "New best\n"
     ]
    },
    {
     "name": "stdout",
     "output_type": "stream",
     "text": [
      "epoch: 7, [batch: 1 / 156], examples_per_second: 196.7222, train_label_loss: 0.0010, \n"
     ]
    },
    {
     "name": "stdout",
     "output_type": "stream",
     "text": [
      "epoch: 7, [batch: 16 / 156], examples_per_second: 3989.9838, train_label_loss: 0.0016, \n"
     ]
    },
    {
     "name": "stdout",
     "output_type": "stream",
     "text": [
      "epoch: 7, [batch: 32 / 156], examples_per_second: 3993.6670, train_label_loss: 0.0002, \n"
     ]
    },
    {
     "name": "stdout",
     "output_type": "stream",
     "text": [
      "epoch: 7, [batch: 47 / 156], examples_per_second: 3908.9682, train_label_loss: 0.0026, \n"
     ]
    },
    {
     "name": "stdout",
     "output_type": "stream",
     "text": [
      "epoch: 7, [batch: 63 / 156], examples_per_second: 3994.3014, train_label_loss: 0.0217, \n"
     ]
    },
    {
     "name": "stdout",
     "output_type": "stream",
     "text": [
      "epoch: 7, [batch: 78 / 156], examples_per_second: 3999.6735, train_label_loss: 0.0328, \n"
     ]
    },
    {
     "name": "stdout",
     "output_type": "stream",
     "text": [
      "epoch: 7, [batch: 94 / 156], examples_per_second: 3920.6226, train_label_loss: 0.0009, \n"
     ]
    },
    {
     "name": "stdout",
     "output_type": "stream",
     "text": [
      "epoch: 7, [batch: 109 / 156], examples_per_second: 3997.8768, train_label_loss: 0.0050, \n"
     ]
    },
    {
     "name": "stdout",
     "output_type": "stream",
     "text": [
      "epoch: 7, [batch: 125 / 156], examples_per_second: 3988.8940, train_label_loss: 0.0009, \n"
     ]
    },
    {
     "name": "stdout",
     "output_type": "stream",
     "text": [
      "epoch: 7, [batch: 140 / 156], examples_per_second: 3975.5717, train_label_loss: 0.0110, \n"
     ]
    },
    {
     "name": "stdout",
     "output_type": "stream",
     "text": [
      "=============================================================\n",
      "epoch: 7, source_val_acc_label: 0.9984, target_val_acc_label: 0.9884, source_val_label_loss: 0.0067, target_val_label_loss: 0.0469, \n",
      "=============================================================\n"
     ]
    },
    {
     "name": "stdout",
     "output_type": "stream",
     "text": [
      "New best\n"
     ]
    },
    {
     "name": "stdout",
     "output_type": "stream",
     "text": [
      "epoch: 8, [batch: 1 / 156], examples_per_second: 198.4894, train_label_loss: 0.0001, \n"
     ]
    },
    {
     "name": "stdout",
     "output_type": "stream",
     "text": [
      "epoch: 8, [batch: 16 / 156], examples_per_second: 3986.8677, train_label_loss: 0.0031, \n"
     ]
    },
    {
     "name": "stdout",
     "output_type": "stream",
     "text": [
      "epoch: 8, [batch: 32 / 156], examples_per_second: 3989.9866, train_label_loss: 0.0006, \n"
     ]
    },
    {
     "name": "stdout",
     "output_type": "stream",
     "text": [
      "epoch: 8, [batch: 47 / 156], examples_per_second: 3908.5093, train_label_loss: 0.0003, \n"
     ]
    },
    {
     "name": "stdout",
     "output_type": "stream",
     "text": [
      "epoch: 8, [batch: 63 / 156], examples_per_second: 3993.5629, train_label_loss: 0.0055, \n"
     ]
    },
    {
     "name": "stdout",
     "output_type": "stream",
     "text": [
      "epoch: 8, [batch: 78 / 156], examples_per_second: 3992.0293, train_label_loss: 0.0005, \n"
     ]
    },
    {
     "name": "stdout",
     "output_type": "stream",
     "text": [
      "epoch: 8, [batch: 94 / 156], examples_per_second: 3911.5401, train_label_loss: 0.0109, \n"
     ]
    },
    {
     "name": "stdout",
     "output_type": "stream",
     "text": [
      "epoch: 8, [batch: 109 / 156], examples_per_second: 3992.0100, train_label_loss: 0.0191, \n"
     ]
    },
    {
     "name": "stdout",
     "output_type": "stream",
     "text": [
      "epoch: 8, [batch: 125 / 156], examples_per_second: 3992.0884, train_label_loss: 0.0051, \n"
     ]
    },
    {
     "name": "stdout",
     "output_type": "stream",
     "text": [
      "epoch: 8, [batch: 140 / 156], examples_per_second: 3991.4642, train_label_loss: 0.0009, \n"
     ]
    },
    {
     "name": "stdout",
     "output_type": "stream",
     "text": [
      "=============================================================\n",
      "epoch: 8, source_val_acc_label: 0.9965, target_val_acc_label: 0.9871, source_val_label_loss: 0.0178, target_val_label_loss: 0.0529, \n",
      "=============================================================\n"
     ]
    },
    {
     "name": "stdout",
     "output_type": "stream",
     "text": [
      "epoch: 9, [batch: 1 / 156], examples_per_second: 203.1939, train_label_loss: 0.0003, \n"
     ]
    },
    {
     "name": "stdout",
     "output_type": "stream",
     "text": [
      "epoch: 9, [batch: 16 / 156], examples_per_second: 3992.1341, train_label_loss: 0.0002, \n"
     ]
    },
    {
     "name": "stdout",
     "output_type": "stream",
     "text": [
      "epoch: 9, [batch: 32 / 156], examples_per_second: 3986.3064, train_label_loss: 0.0033, \n"
     ]
    },
    {
     "name": "stdout",
     "output_type": "stream",
     "text": [
      "epoch: 9, [batch: 47 / 156], examples_per_second: 3903.7317, train_label_loss: 0.0019, \n"
     ]
    },
    {
     "name": "stdout",
     "output_type": "stream",
     "text": [
      "epoch: 9, [batch: 63 / 156], examples_per_second: 3995.7776, train_label_loss: 0.0000, \n"
     ]
    },
    {
     "name": "stdout",
     "output_type": "stream",
     "text": [
      "epoch: 9, [batch: 78 / 156], examples_per_second: 3996.6630, train_label_loss: 0.0000, \n"
     ]
    },
    {
     "name": "stdout",
     "output_type": "stream",
     "text": [
      "epoch: 9, [batch: 94 / 156], examples_per_second: 3916.5615, train_label_loss: 0.0023, \n"
     ]
    },
    {
     "name": "stdout",
     "output_type": "stream",
     "text": [
      "epoch: 9, [batch: 109 / 156], examples_per_second: 3994.8481, train_label_loss: 0.0010, \n"
     ]
    },
    {
     "name": "stdout",
     "output_type": "stream",
     "text": [
      "epoch: 9, [batch: 125 / 156], examples_per_second: 3995.2969, train_label_loss: 0.0019, \n"
     ]
    },
    {
     "name": "stdout",
     "output_type": "stream",
     "text": [
      "epoch: 9, [batch: 140 / 156], examples_per_second: 3995.6337, train_label_loss: 0.0001, \n"
     ]
    },
    {
     "name": "stdout",
     "output_type": "stream",
     "text": [
      "=============================================================\n",
      "epoch: 9, source_val_acc_label: 0.9969, target_val_acc_label: 0.9824, source_val_label_loss: 0.0089, target_val_label_loss: 0.0690, \n",
      "=============================================================\n"
     ]
    },
    {
     "name": "stdout",
     "output_type": "stream",
     "text": [
      "epoch: 10, [batch: 1 / 156], examples_per_second: 202.9893, train_label_loss: 0.0001, \n"
     ]
    },
    {
     "name": "stdout",
     "output_type": "stream",
     "text": [
      "epoch: 10, [batch: 16 / 156], examples_per_second: 3986.3956, train_label_loss: 0.0009, \n"
     ]
    },
    {
     "name": "stdout",
     "output_type": "stream",
     "text": [
      "epoch: 10, [batch: 32 / 156], examples_per_second: 3991.1199, train_label_loss: 0.0001, \n"
     ]
    },
    {
     "name": "stdout",
     "output_type": "stream",
     "text": [
      "epoch: 10, [batch: 47 / 156], examples_per_second: 3907.3642, train_label_loss: 0.0001, \n"
     ]
    },
    {
     "name": "stdout",
     "output_type": "stream",
     "text": [
      "epoch: 10, [batch: 63 / 156], examples_per_second: 3989.2456, train_label_loss: 0.0000, \n"
     ]
    },
    {
     "name": "stdout",
     "output_type": "stream",
     "text": [
      "epoch: 10, [batch: 78 / 156], examples_per_second: 3991.8589, train_label_loss: 0.0002, \n"
     ]
    },
    {
     "name": "stdout",
     "output_type": "stream",
     "text": [
      "epoch: 10, [batch: 94 / 156], examples_per_second: 3906.7958, train_label_loss: 0.0000, \n"
     ]
    },
    {
     "name": "stdout",
     "output_type": "stream",
     "text": [
      "epoch: 10, [batch: 109 / 156], examples_per_second: 3985.3855, train_label_loss: 0.0000, \n"
     ]
    },
    {
     "name": "stdout",
     "output_type": "stream",
     "text": [
      "epoch: 10, [batch: 125 / 156], examples_per_second: 3972.3814, train_label_loss: 0.0472, \n"
     ]
    },
    {
     "name": "stdout",
     "output_type": "stream",
     "text": [
      "epoch: 10, [batch: 140 / 156], examples_per_second: 3990.5746, train_label_loss: 0.1073, \n"
     ]
    },
    {
     "name": "stdout",
     "output_type": "stream",
     "text": [
      "=============================================================\n",
      "epoch: 10, source_val_acc_label: 0.9976, target_val_acc_label: 0.9841, source_val_label_loss: 0.0058, target_val_label_loss: 0.0580, \n",
      "=============================================================\n"
     ]
    },
    {
     "name": "stdout",
     "output_type": "stream",
     "text": [
      "epoch: 11, [batch: 1 / 156], examples_per_second: 203.3238, train_label_loss: 0.0033, \n"
     ]
    },
    {
     "name": "stdout",
     "output_type": "stream",
     "text": [
      "epoch: 11, [batch: 16 / 156], examples_per_second: 3993.8206, train_label_loss: 0.0010, \n"
     ]
    },
    {
     "name": "stdout",
     "output_type": "stream",
     "text": [
      "epoch: 11, [batch: 32 / 156], examples_per_second: 3997.9159, train_label_loss: 0.0003, \n"
     ]
    },
    {
     "name": "stdout",
     "output_type": "stream",
     "text": [
      "epoch: 11, [batch: 47 / 156], examples_per_second: 3916.3385, train_label_loss: 0.0096, \n"
     ]
    },
    {
     "name": "stdout",
     "output_type": "stream",
     "text": [
      "epoch: 11, [batch: 63 / 156], examples_per_second: 3994.9467, train_label_loss: 0.0002, \n"
     ]
    },
    {
     "name": "stdout",
     "output_type": "stream",
     "text": [
      "epoch: 11, [batch: 78 / 156], examples_per_second: 3996.7952, train_label_loss: 0.0030, \n"
     ]
    },
    {
     "name": "stdout",
     "output_type": "stream",
     "text": [
      "epoch: 11, [batch: 94 / 156], examples_per_second: 3919.2748, train_label_loss: 0.0005, \n"
     ]
    },
    {
     "name": "stdout",
     "output_type": "stream",
     "text": [
      "epoch: 11, [batch: 109 / 156], examples_per_second: 3995.3345, train_label_loss: 0.0004, \n"
     ]
    },
    {
     "name": "stdout",
     "output_type": "stream",
     "text": [
      "epoch: 11, [batch: 125 / 156], examples_per_second: 3997.9495, train_label_loss: 0.0004, \n"
     ]
    },
    {
     "name": "stdout",
     "output_type": "stream",
     "text": [
      "epoch: 11, [batch: 140 / 156], examples_per_second: 3997.1236, train_label_loss: 0.0000, \n"
     ]
    },
    {
     "name": "stdout",
     "output_type": "stream",
     "text": [
      "=============================================================\n",
      "epoch: 11, source_val_acc_label: 0.9988, target_val_acc_label: 0.9910, source_val_label_loss: 0.0034, target_val_label_loss: 0.0358, \n",
      "=============================================================\n"
     ]
    },
    {
     "name": "stdout",
     "output_type": "stream",
     "text": [
      "New best\n"
     ]
    },
    {
     "name": "stdout",
     "output_type": "stream",
     "text": [
      "epoch: 12, [batch: 1 / 156], examples_per_second: 197.5667, train_label_loss: 0.0745, \n"
     ]
    },
    {
     "name": "stdout",
     "output_type": "stream",
     "text": [
      "epoch: 12, [batch: 16 / 156], examples_per_second: 3987.5770, train_label_loss: 0.0001, \n"
     ]
    },
    {
     "name": "stdout",
     "output_type": "stream",
     "text": [
      "epoch: 12, [batch: 32 / 156], examples_per_second: 3987.8600, train_label_loss: 0.0136, \n"
     ]
    },
    {
     "name": "stdout",
     "output_type": "stream",
     "text": [
      "epoch: 12, [batch: 47 / 156], examples_per_second: 3907.6228, train_label_loss: 0.0010, \n"
     ]
    },
    {
     "name": "stdout",
     "output_type": "stream",
     "text": [
      "epoch: 12, [batch: 63 / 156], examples_per_second: 3975.0695, train_label_loss: 0.0003, \n"
     ]
    },
    {
     "name": "stdout",
     "output_type": "stream",
     "text": [
      "epoch: 12, [batch: 78 / 156], examples_per_second: 3997.3040, train_label_loss: 0.0016, \n"
     ]
    },
    {
     "name": "stdout",
     "output_type": "stream",
     "text": [
      "epoch: 12, [batch: 94 / 156], examples_per_second: 3917.6961, train_label_loss: 0.0005, \n"
     ]
    },
    {
     "name": "stdout",
     "output_type": "stream",
     "text": [
      "epoch: 12, [batch: 109 / 156], examples_per_second: 3998.3981, train_label_loss: 0.0004, \n"
     ]
    },
    {
     "name": "stdout",
     "output_type": "stream",
     "text": [
      "epoch: 12, [batch: 125 / 156], examples_per_second: 3995.6348, train_label_loss: 0.0063, \n"
     ]
    },
    {
     "name": "stdout",
     "output_type": "stream",
     "text": [
      "epoch: 12, [batch: 140 / 156], examples_per_second: 3997.4319, train_label_loss: 0.0002, \n"
     ]
    },
    {
     "name": "stdout",
     "output_type": "stream",
     "text": [
      "=============================================================\n",
      "epoch: 12, source_val_acc_label: 0.9961, target_val_acc_label: 0.9897, source_val_label_loss: 0.0162, target_val_label_loss: 0.0417, \n",
      "=============================================================\n"
     ]
    },
    {
     "name": "stdout",
     "output_type": "stream",
     "text": [
      "epoch: 13, [batch: 1 / 156], examples_per_second: 203.9063, train_label_loss: 0.0013, \n"
     ]
    },
    {
     "name": "stdout",
     "output_type": "stream",
     "text": [
      "epoch: 13, [batch: 16 / 156], examples_per_second: 3986.7074, train_label_loss: 0.0000, \n"
     ]
    },
    {
     "name": "stdout",
     "output_type": "stream",
     "text": [
      "epoch: 13, [batch: 32 / 156], examples_per_second: 3987.8494, train_label_loss: 0.0133, \n"
     ]
    },
    {
     "name": "stdout",
     "output_type": "stream",
     "text": [
      "epoch: 13, [batch: 47 / 156], examples_per_second: 3912.2430, train_label_loss: 0.0027, \n"
     ]
    },
    {
     "name": "stdout",
     "output_type": "stream",
     "text": [
      "epoch: 13, [batch: 63 / 156], examples_per_second: 3988.9512, train_label_loss: 0.0000, \n"
     ]
    },
    {
     "name": "stdout",
     "output_type": "stream",
     "text": [
      "epoch: 13, [batch: 78 / 156], examples_per_second: 3998.4279, train_label_loss: 0.0014, \n"
     ]
    },
    {
     "name": "stdout",
     "output_type": "stream",
     "text": [
      "epoch: 13, [batch: 94 / 156], examples_per_second: 3918.7113, train_label_loss: 0.0004, \n"
     ]
    },
    {
     "name": "stdout",
     "output_type": "stream",
     "text": [
      "epoch: 13, [batch: 109 / 156], examples_per_second: 3996.0836, train_label_loss: 0.0000, \n"
     ]
    },
    {
     "name": "stdout",
     "output_type": "stream",
     "text": [
      "epoch: 13, [batch: 125 / 156], examples_per_second: 3999.8394, train_label_loss: 0.0000, \n"
     ]
    },
    {
     "name": "stdout",
     "output_type": "stream",
     "text": [
      "epoch: 13, [batch: 140 / 156], examples_per_second: 4001.5998, train_label_loss: 0.0001, \n"
     ]
    },
    {
     "name": "stdout",
     "output_type": "stream",
     "text": [
      "=============================================================\n",
      "epoch: 13, source_val_acc_label: 0.9973, target_val_acc_label: 0.9907, source_val_label_loss: 0.0080, target_val_label_loss: 0.0353, \n",
      "=============================================================\n"
     ]
    },
    {
     "name": "stdout",
     "output_type": "stream",
     "text": [
      "epoch: 14, [batch: 1 / 156], examples_per_second: 203.4076, train_label_loss: 0.0000, \n"
     ]
    },
    {
     "name": "stdout",
     "output_type": "stream",
     "text": [
      "epoch: 14, [batch: 16 / 156], examples_per_second: 3983.0425, train_label_loss: 0.0394, \n"
     ]
    },
    {
     "name": "stdout",
     "output_type": "stream",
     "text": [
      "epoch: 14, [batch: 32 / 156], examples_per_second: 3989.7134, train_label_loss: 0.0043, \n"
     ]
    },
    {
     "name": "stdout",
     "output_type": "stream",
     "text": [
      "epoch: 14, [batch: 47 / 156], examples_per_second: 3907.9626, train_label_loss: 0.0021, \n"
     ]
    },
    {
     "name": "stdout",
     "output_type": "stream",
     "text": [
      "epoch: 14, [batch: 63 / 156], examples_per_second: 3996.3240, train_label_loss: 0.0142, \n"
     ]
    },
    {
     "name": "stdout",
     "output_type": "stream",
     "text": [
      "epoch: 14, [batch: 78 / 156], examples_per_second: 3997.3671, train_label_loss: 0.0001, \n"
     ]
    },
    {
     "name": "stdout",
     "output_type": "stream",
     "text": [
      "epoch: 14, [batch: 94 / 156], examples_per_second: 3919.6450, train_label_loss: 0.0028, \n"
     ]
    },
    {
     "name": "stdout",
     "output_type": "stream",
     "text": [
      "epoch: 14, [batch: 109 / 156], examples_per_second: 3996.1790, train_label_loss: 0.0001, \n"
     ]
    },
    {
     "name": "stdout",
     "output_type": "stream",
     "text": [
      "epoch: 14, [batch: 125 / 156], examples_per_second: 3994.6458, train_label_loss: 0.0002, \n"
     ]
    },
    {
     "name": "stdout",
     "output_type": "stream",
     "text": [
      "epoch: 14, [batch: 140 / 156], examples_per_second: 3997.8094, train_label_loss: 0.0000, \n"
     ]
    },
    {
     "name": "stdout",
     "output_type": "stream",
     "text": [
      "=============================================================\n",
      "epoch: 14, source_val_acc_label: 0.9984, target_val_acc_label: 0.9828, source_val_label_loss: 0.0027, target_val_label_loss: 0.0626, \n",
      "=============================================================\n"
     ]
    },
    {
     "name": "stdout",
     "output_type": "stream",
     "text": [
      "epoch: 15, [batch: 1 / 156], examples_per_second: 203.2573, train_label_loss: 0.0000, \n"
     ]
    },
    {
     "name": "stdout",
     "output_type": "stream",
     "text": [
      "epoch: 15, [batch: 16 / 156], examples_per_second: 3985.3350, train_label_loss: 0.0002, \n"
     ]
    },
    {
     "name": "stdout",
     "output_type": "stream",
     "text": [
      "epoch: 15, [batch: 32 / 156], examples_per_second: 3991.7240, train_label_loss: 0.0001, \n"
     ]
    },
    {
     "name": "stdout",
     "output_type": "stream",
     "text": [
      "epoch: 15, [batch: 47 / 156], examples_per_second: 3907.1810, train_label_loss: 0.0027, \n"
     ]
    },
    {
     "name": "stdout",
     "output_type": "stream",
     "text": [
      "epoch: 15, [batch: 63 / 156], examples_per_second: 3998.2230, train_label_loss: 0.0007, \n"
     ]
    },
    {
     "name": "stdout",
     "output_type": "stream",
     "text": [
      "epoch: 15, [batch: 78 / 156], examples_per_second: 3994.5473, train_label_loss: 0.0391, \n"
     ]
    },
    {
     "name": "stdout",
     "output_type": "stream",
     "text": [
      "epoch: 15, [batch: 94 / 156], examples_per_second: 3920.4938, train_label_loss: 0.0002, \n"
     ]
    },
    {
     "name": "stdout",
     "output_type": "stream",
     "text": [
      "epoch: 15, [batch: 109 / 156], examples_per_second: 3997.2304, train_label_loss: 0.0001, \n"
     ]
    },
    {
     "name": "stdout",
     "output_type": "stream",
     "text": [
      "epoch: 15, [batch: 125 / 156], examples_per_second: 3995.5848, train_label_loss: 0.0001, \n"
     ]
    },
    {
     "name": "stdout",
     "output_type": "stream",
     "text": [
      "epoch: 15, [batch: 140 / 156], examples_per_second: 3996.0993, train_label_loss: 0.0008, \n"
     ]
    },
    {
     "name": "stdout",
     "output_type": "stream",
     "text": [
      "=============================================================\n",
      "epoch: 15, source_val_acc_label: 0.9961, target_val_acc_label: 0.9851, source_val_label_loss: 0.0113, target_val_label_loss: 0.0635, \n",
      "=============================================================\n"
     ]
    },
    {
     "name": "stdout",
     "output_type": "stream",
     "text": [
      "Patience (3) exhausted\n"
     ]
    }
   ],
   "source": [
    "###################################\n",
    "# train\n",
    "###################################\n",
    "jig = PTN_Train_Eval_Test_Jig(model, p.BEST_MODEL_PATH, p.device)\n",
    "\n",
    "jig.train(\n",
    "    train_iterable=datasets.source.processed.train,\n",
    "    source_val_iterable=datasets.source.processed.val,\n",
    "    target_val_iterable=datasets.target.processed.val,\n",
    "    num_epochs=p.n_epoch,\n",
    "    num_logs_per_epoch=p.NUM_LOGS_PER_EPOCH,\n",
    "    patience=p.patience,\n",
    "    optimizer=optimizer,\n",
    "    criteria_for_best=p.criteria_for_best,\n",
    ")"
   ]
  },
  {
   "cell_type": "code",
   "execution_count": 14,
   "id": "31e8fabf",
   "metadata": {
    "execution": {
     "iopub.execute_input": "2022-03-22T16:07:09.663001Z",
     "iopub.status.busy": "2022-03-22T16:07:09.662752Z",
     "iopub.status.idle": "2022-03-22T16:07:09.681358Z",
     "shell.execute_reply": "2022-03-22T16:07:09.680913Z"
    },
    "papermill": {
     "duration": 0.062245,
     "end_time": "2022-03-22T16:07:09.681449",
     "exception": false,
     "start_time": "2022-03-22T16:07:09.619204",
     "status": "completed"
    },
    "tags": []
   },
   "outputs": [],
   "source": [
    "total_experiment_time_secs = time.time() - start_time_secs"
   ]
  },
  {
   "cell_type": "code",
   "execution_count": 15,
   "id": "87b9595b",
   "metadata": {
    "execution": {
     "iopub.execute_input": "2022-03-22T16:07:09.772309Z",
     "iopub.status.busy": "2022-03-22T16:07:09.771962Z",
     "iopub.status.idle": "2022-03-22T16:07:17.011592Z",
     "shell.execute_reply": "2022-03-22T16:07:17.011218Z"
    },
    "papermill": {
     "duration": 7.2854,
     "end_time": "2022-03-22T16:07:17.011679",
     "exception": false,
     "start_time": "2022-03-22T16:07:09.726279",
     "status": "completed"
    },
    "tags": []
   },
   "outputs": [],
   "source": [
    "###################################\n",
    "# Evaluate the model\n",
    "###################################\n",
    "source_test_label_accuracy, source_test_label_loss = jig.test(datasets.source.processed.test)\n",
    "target_test_label_accuracy, target_test_label_loss = jig.test(datasets.target.processed.test)\n",
    "\n",
    "source_val_label_accuracy, source_val_label_loss = jig.test(datasets.source.processed.val)\n",
    "target_val_label_accuracy, target_val_label_loss = jig.test(datasets.target.processed.val)\n",
    "\n",
    "history = jig.get_history()\n",
    "\n",
    "total_epochs_trained = len(history[\"epoch_indices\"])\n",
    "\n",
    "val_dl = Iterable_Aggregator((datasets.source.original.val,datasets.target.original.val))\n",
    "\n",
    "confusion = ptn_confusion_by_domain_over_dataloader(model, p.device, val_dl)\n",
    "per_domain_accuracy = per_domain_accuracy_from_confusion(confusion)\n",
    "\n",
    "# Add a key to per_domain_accuracy for if it was a source domain\n",
    "for domain, accuracy in per_domain_accuracy.items():\n",
    "    per_domain_accuracy[domain] = {\n",
    "        \"accuracy\": accuracy,\n",
    "        \"source?\": domain in p.domains_source\n",
    "    }\n",
    "\n",
    "# Do an independent accuracy assesment JUST TO BE SURE!\n",
    "# _source_test_label_accuracy = independent_accuracy_assesment(model, datasets.source.processed.test, p.device)\n",
    "# _target_test_label_accuracy = independent_accuracy_assesment(model, datasets.target.processed.test, p.device)\n",
    "# _source_val_label_accuracy = independent_accuracy_assesment(model, datasets.source.processed.val, p.device)\n",
    "# _target_val_label_accuracy = independent_accuracy_assesment(model, datasets.target.processed.val, p.device)\n",
    "\n",
    "# assert(_source_test_label_accuracy == source_test_label_accuracy)\n",
    "# assert(_target_test_label_accuracy == target_test_label_accuracy)\n",
    "# assert(_source_val_label_accuracy == source_val_label_accuracy)\n",
    "# assert(_target_val_label_accuracy == target_val_label_accuracy)\n",
    "\n",
    "experiment = {\n",
    "    \"experiment_name\": p.experiment_name,\n",
    "    \"parameters\": dict(p),\n",
    "    \"results\": {\n",
    "        \"source_test_label_accuracy\": source_test_label_accuracy,\n",
    "        \"source_test_label_loss\": source_test_label_loss,\n",
    "        \"target_test_label_accuracy\": target_test_label_accuracy,\n",
    "        \"target_test_label_loss\": target_test_label_loss,\n",
    "        \"source_val_label_accuracy\": source_val_label_accuracy,\n",
    "        \"source_val_label_loss\": source_val_label_loss,\n",
    "        \"target_val_label_accuracy\": target_val_label_accuracy,\n",
    "        \"target_val_label_loss\": target_val_label_loss,\n",
    "        \"total_epochs_trained\": total_epochs_trained,\n",
    "        \"total_experiment_time_secs\": total_experiment_time_secs,\n",
    "        \"confusion\": confusion,\n",
    "        \"per_domain_accuracy\": per_domain_accuracy,\n",
    "    },\n",
    "    \"history\": history,\n",
    "    \"dataset_metrics\": get_dataset_metrics(datasets, \"ptn\"),\n",
    "}"
   ]
  },
  {
   "cell_type": "code",
   "execution_count": 16,
   "id": "54a21829",
   "metadata": {
    "execution": {
     "iopub.execute_input": "2022-03-22T16:07:17.099386Z",
     "iopub.status.busy": "2022-03-22T16:07:17.098967Z",
     "iopub.status.idle": "2022-03-22T16:07:17.223933Z",
     "shell.execute_reply": "2022-03-22T16:07:17.223657Z"
    },
    "papermill": {
     "duration": 0.167606,
     "end_time": "2022-03-22T16:07:17.223998",
     "exception": false,
     "start_time": "2022-03-22T16:07:17.056392",
     "status": "completed"
    },
    "tags": []
   },
   "outputs": [
    {
     "data": {
      "image/png": "[encoded data removed]",
      "text/plain": [
       "<Figure size 1080x504 with 1 Axes>"
      ]
     },
     "metadata": {
      "needs_background": "light"
     },
     "output_type": "display_data"
    }
   ],
   "source": [
    "ax = get_loss_curve(experiment)\n",
    "plt.show()"
   ]
  },
  {
   "cell_type": "code",
   "execution_count": 17,
   "id": "fd8a0f60",
   "metadata": {
    "execution": {
     "iopub.execute_input": "2022-03-22T16:07:17.312129Z",
     "iopub.status.busy": "2022-03-22T16:07:17.311728Z",
     "iopub.status.idle": "2022-03-22T16:07:17.453269Z",
     "shell.execute_reply": "2022-03-22T16:07:17.453496Z"
    },
    "papermill": {
     "duration": 0.185281,
     "end_time": "2022-03-22T16:07:17.453578",
     "exception": false,
     "start_time": "2022-03-22T16:07:17.268297",
     "status": "completed"
    },
    "tags": []
   },
   "outputs": [
    {
     "data": {
      "text/plain": [
       "<AxesSubplot:title={'center':'Results'}>"
      ]
     },
     "execution_count": 17,
     "metadata": {},
     "output_type": "execute_result"
    },
    {
     "data": {
      "image/png": "[encoded data removed]",
      "text/plain": [
       "<Figure size 1080x504 with 1 Axes>"
      ]
     },
     "metadata": {
      "needs_background": "light"
     },
     "output_type": "display_data"
    }
   ],
   "source": [
    "get_results_table(experiment)"
   ]
  },
  {
   "cell_type": "code",
   "execution_count": 18,
   "id": "cf8dc689",
   "metadata": {
    "execution": {
     "iopub.execute_input": "2022-03-22T16:07:17.542982Z",
     "iopub.status.busy": "2022-03-22T16:07:17.542584Z",
     "iopub.status.idle": "2022-03-22T16:07:17.646401Z",
     "shell.execute_reply": "2022-03-22T16:07:17.646622Z"
    },
    "papermill": {
     "duration": 0.14913,
     "end_time": "2022-03-22T16:07:17.646704",
     "exception": false,
     "start_time": "2022-03-22T16:07:17.497574",
     "status": "completed"
    },
    "tags": []
   },
   "outputs": [
    {
     "data": {
      "text/plain": [
       "<AxesSubplot:title={'center':'Per Domain Validation Accuracy'}, xlabel='domain'>"
      ]
     },
     "execution_count": 18,
     "metadata": {},
     "output_type": "execute_result"
    },
    {
     "data": {
      "image/png": "[encoded data removed]",
      "text/plain": [
       "<Figure size 1080x504 with 1 Axes>"
      ]
     },
     "metadata": {
      "needs_background": "light"
     },
     "output_type": "display_data"
    }
   ],
   "source": [
    "get_domain_accuracies(experiment)"
   ]
  },
  {
   "cell_type": "code",
   "execution_count": 19,
   "id": "a74ae082",
   "metadata": {
    "execution": {
     "iopub.execute_input": "2022-03-22T16:07:17.736540Z",
     "iopub.status.busy": "2022-03-22T16:07:17.736133Z",
     "iopub.status.idle": "2022-03-22T16:07:17.748615Z",
     "shell.execute_reply": "2022-03-22T16:07:17.748394Z"
    },
    "papermill": {
     "duration": 0.058097,
     "end_time": "2022-03-22T16:07:17.748677",
     "exception": false,
     "start_time": "2022-03-22T16:07:17.690580",
     "status": "completed"
    },
    "tags": []
   },
   "outputs": [
    {
     "name": "stdout",
     "output_type": "stream",
     "text": [
      "Source Test Label Accuracy: 0.9984326018808778 Target Test Label Accuracy: 0.9870689655172413\n",
      "Source Val Label Accuracy: 0.9988244514106583 Target Val Label Accuracy: 0.9910477453580901\n"
     ]
    }
   ],
   "source": [
    "print(\"Source Test Label Accuracy:\", experiment[\"results\"][\"source_test_label_accuracy\"], \"Target Test Label Accuracy:\", experiment[\"results\"][\"target_test_label_accuracy\"])\n",
    "print(\"Source Val Label Accuracy:\", experiment[\"results\"][\"source_val_label_accuracy\"], \"Target Val Label Accuracy:\", experiment[\"results\"][\"target_val_label_accuracy\"])"
   ]
  },
  {
   "cell_type": "code",
   "execution_count": 20,
   "id": "dacca602",
   "metadata": {
    "execution": {
     "iopub.execute_input": "2022-03-22T16:07:17.842159Z",
     "iopub.status.busy": "2022-03-22T16:07:17.841761Z",
     "iopub.status.idle": "2022-03-22T16:07:17.855522Z",
     "shell.execute_reply": "2022-03-22T16:07:17.855738Z"
    },
    "papermill": {
     "duration": 0.060359,
     "end_time": "2022-03-22T16:07:17.855820",
     "exception": false,
     "start_time": "2022-03-22T16:07:17.795461",
     "status": "completed"
    },
    "tags": [
     "experiment_json"
    ]
   },
   "outputs": [
    {
     "data": {
      "text/plain": [
       "'{\"experiment_name\": \"tuned_1v2:cores\", \"parameters\": {\"experiment_name\": \"tuned_1v2:cores\", \"device\": \"cuda\", \"lr\": 0.0001, \"labels_source\": [\"1-10.\", \"1-11.\", \"1-15.\", \"1-16.\", \"1-17.\", \"1-18.\", \"1-19.\", \"10-4.\", \"10-7.\", \"11-1.\", \"11-14.\", \"11-17.\", \"11-20.\", \"11-7.\", \"13-20.\", \"13-8.\", \"14-10.\", \"14-11.\", \"14-14.\", \"14-7.\", \"15-1.\", \"15-20.\", \"16-1.\", \"16-16.\", \"17-10.\", \"17-11.\", \"17-2.\", \"19-1.\", \"19-16.\", \"19-19.\", \"19-20.\", \"19-3.\", \"2-10.\", \"2-11.\", \"2-17.\", \"2-18.\", \"2-20.\", \"2-3.\", \"2-4.\", \"2-5.\", \"2-6.\", \"2-7.\", \"2-8.\", \"3-13.\", \"3-18.\", \"3-3.\", \"4-1.\", \"4-10.\", \"4-11.\", \"4-19.\", \"5-5.\", \"6-15.\", \"7-10.\", \"7-14.\", \"8-18.\", \"8-20.\", \"8-3.\", \"8-8.\"], \"labels_target\": [\"1-10.\", \"1-11.\", \"1-15.\", \"1-16.\", \"1-17.\", \"1-18.\", \"1-19.\", \"10-4.\", \"10-7.\", \"11-1.\", \"11-14.\", \"11-17.\", \"11-20.\", \"11-7.\", \"13-20.\", \"13-8.\", \"14-10.\", \"14-11.\", \"14-14.\", \"14-7.\", \"15-1.\", \"15-20.\", \"16-1.\", \"16-16.\", \"17-10.\", \"17-11.\", \"17-2.\", \"19-1.\", \"19-16.\", \"19-19.\", \"19-20.\", \"19-3.\", \"2-10.\", \"2-11.\", \"2-17.\", \"2-18.\", \"2-20.\", \"2-3.\", \"2-4.\", \"2-5.\", \"2-6.\", \"2-7.\", \"2-8.\", \"3-13.\", \"3-18.\", \"3-3.\", \"4-1.\", \"4-10.\", \"4-11.\", \"4-19.\", \"5-5.\", \"6-15.\", \"7-10.\", \"7-14.\", \"8-18.\", \"8-20.\", \"8-3.\", \"8-8.\"], \"episode_transforms_source\": [], \"episode_transforms_target\": [], \"domains_source\": [1, 5], \"domains_target\": [2, 3, 4], \"num_examples_per_domain_per_label_source\": -1, \"num_examples_per_domain_per_label_target\": -1, \"n_shot\": 3, \"n_way\": 58, \"n_query\": 2, \"train_k_factor\": 3, \"val_k_factor\": 2, \"test_k_factor\": 2, \"torch_default_dtype\": \"torch.float32\", \"n_epoch\": 50, \"patience\": 3, \"criteria_for_best\": \"target_accuracy\", \"x_net\": [{\"class\": \"nnReshape\", \"kargs\": {\"shape\": [-1, 1, 2, 256]}}, {\"class\": \"Conv2d\", \"kargs\": {\"in_channels\": 1, \"out_channels\": 256, \"kernel_size\": [1, 7], \"bias\": false, \"padding\": [0, 3]}}, {\"class\": \"ReLU\", \"kargs\": {\"inplace\": true}}, {\"class\": \"BatchNorm2d\", \"kargs\": {\"num_features\": 256}}, {\"class\": \"Conv2d\", \"kargs\": {\"in_channels\": 256, \"out_channels\": 80, \"kernel_size\": [2, 7], \"bias\": true, \"padding\": [0, 3]}}, {\"class\": \"ReLU\", \"kargs\": {\"inplace\": true}}, {\"class\": \"BatchNorm2d\", \"kargs\": {\"num_features\": 80}}, {\"class\": \"Flatten\", \"kargs\": {}}, {\"class\": \"Linear\", \"kargs\": {\"in_features\": 20480, \"out_features\": 256}}, {\"class\": \"ReLU\", \"kargs\": {\"inplace\": true}}, {\"class\": \"BatchNorm1d\", \"kargs\": {\"num_features\": 256}}, {\"class\": \"Linear\", \"kargs\": {\"in_features\": 256, \"out_features\": 256}}], \"NUM_LOGS_PER_EPOCH\": 10, \"BEST_MODEL_PATH\": \"./best_model.pth\", \"pickle_name\": \"cores.stratified_ds.2022A.pkl\", \"x_transforms_source\": [\"unit_mag\"], \"x_transforms_target\": [\"unit_mag\"], \"dataset_seed\": 154325, \"seed\": 154325}, \"results\": {\"source_test_label_accuracy\": 0.9984326018808778, \"source_test_label_loss\": 0.0064234016463160515, \"target_test_label_accuracy\": 0.9870689655172413, \"target_test_label_loss\": 0.044227857142686844, \"source_val_label_accuracy\": 0.9988244514106583, \"source_val_label_loss\": 0.003427067305892706, \"target_val_label_accuracy\": 0.9910477453580901, \"target_val_label_loss\": 0.03578439727425575, \"total_epochs_trained\": 15, \"total_experiment_time_secs\": 213.29868578910828, \"confusion\": {\"1\": {\"25\": {\"25\": 24}, \"39\": {\"39\": 24}, \"51\": {\"51\": 24}, \"4\": {\"4\": 24}, \"57\": {\"57\": 24}, \"0\": {\"0\": 24}, \"28\": {\"28\": 24}, \"35\": {\"35\": 24}, \"53\": {\"53\": 24}, \"33\": {\"33\": 24}, \"41\": {\"41\": 24}, \"14\": {\"14\": 24}, \"8\": {\"8\": 24}, \"47\": {\"47\": 24}, \"37\": {\"37\": 24}, \"43\": {\"43\": 24}, \"29\": {\"29\": 24}, \"56\": {\"56\": 24}, \"19\": {\"19\": 24}, \"48\": {\"48\": 24}, \"52\": {\"52\": 24}, \"22\": {\"22\": 24}, \"21\": {\"21\": 24}, \"27\": {\"27\": 24}, \"45\": {\"45\": 24}, \"10\": {\"10\": 24}, \"1\": {\"1\": 24}, \"38\": {\"38\": 24}, \"24\": {\"24\": 24}, \"17\": {\"17\": 24}, \"54\": {\"54\": 24}, \"3\": {\"3\": 24}, \"36\": {\"36\": 24}, \"40\": {\"40\": 24}, \"11\": {\"11\": 24}, \"55\": {\"55\": 24}, \"26\": {\"26\": 24}, \"20\": {\"20\": 24}, \"5\": {\"5\": 24}, \"44\": {\"44\": 24}, \"32\": {\"32\": 24}, \"31\": {\"31\": 24}, \"30\": {\"30\": 24}, \"49\": {\"49\": 24}, \"50\": {\"50\": 24}, \"6\": {\"6\": 24}, \"34\": {\"34\": 24}, \"15\": {\"15\": 24}, \"18\": {\"18\": 24}, \"16\": {\"16\": 24}, \"7\": {\"7\": 24}, \"9\": {\"9\": 24}, \"42\": {\"42\": 24}, \"2\": {\"2\": 24}, \"12\": {\"12\": 24}, \"46\": {\"46\": 24}, \"13\": {\"13\": 23, \"51\": 1}, \"23\": {\"23\": 24}}, \"5\": {\"37\": {\"37\": 20}, \"22\": {\"22\": 20}, \"40\": {\"40\": 20}, \"19\": {\"19\": 20}, \"2\": {\"2\": 20}, \"0\": {\"0\": 20}, \"5\": {\"5\": 20}, \"25\": {\"25\": 20}, \"18\": {\"18\": 20}, \"4\": {\"4\": 20}, \"6\": {\"6\": 19, \"20\": 1}, \"21\": {\"21\": 20}, \"24\": {\"24\": 20}, \"35\": {\"35\": 20}, \"43\": {\"43\": 20}, \"14\": {\"14\": 20}, \"53\": {\"53\": 20}, \"11\": {\"11\": 20}, \"28\": {\"28\": 20}, \"49\": {\"49\": 20}, \"10\": {\"10\": 20}, \"27\": {\"27\": 20}, \"8\": {\"8\": 20}, \"46\": {\"46\": 19, \"3\": 1}, \"3\": {\"3\": 20}, \"17\": {\"17\": 20}, \"23\": {\"23\": 20}, \"20\": {\"20\": 20}, \"16\": {\"16\": 20}, \"55\": {\"55\": 20}, \"15\": {\"15\": 20}, \"45\": {\"45\": 20}, \"12\": {\"12\": 20}, \"30\": {\"30\": 20}, \"13\": {\"13\": 20}, \"54\": {\"54\": 20}, \"57\": {\"57\": 20}, \"1\": {\"1\": 20}, \"7\": {\"7\": 20}, \"33\": {\"33\": 20}, \"56\": {\"56\": 20}, \"44\": {\"44\": 20}, \"48\": {\"48\": 20}, \"36\": {\"36\": 20}, \"50\": {\"50\": 20}, \"32\": {\"32\": 20}, \"51\": {\"51\": 20}, \"52\": {\"52\": 20}, \"31\": {\"31\": 20}, \"39\": {\"39\": 20}, \"42\": {\"42\": 20}, \"9\": {\"9\": 20}, \"26\": {\"26\": 20}, \"38\": {\"38\": 20}, \"47\": {\"47\": 20}, \"34\": {\"34\": 20}, \"41\": {\"41\": 20}, \"29\": {\"29\": 20}}, \"2\": {\"25\": {\"25\": 20}, \"39\": {\"39\": 20}, \"51\": {\"51\": 20}, \"4\": {\"4\": 20}, \"57\": {\"57\": 18, \"0\": 2}, \"0\": {\"0\": 20}, \"28\": {\"28\": 20}, \"35\": {\"35\": 20}, \"53\": {\"53\": 20}, \"33\": {\"33\": 20}, \"41\": {\"41\": 19, \"50\": 1}, \"14\": {\"14\": 19, \"31\": 1}, \"8\": {\"8\": 20}, \"47\": {\"47\": 20}, \"37\": {\"37\": 20}, \"43\": {\"43\": 20}, \"29\": {\"29\": 20}, \"56\": {\"56\": 20}, \"19\": {\"19\": 20}, \"48\": {\"48\": 20}, \"52\": {\"52\": 20}, \"22\": {\"22\": 20}, \"21\": {\"21\": 20}, \"27\": {\"27\": 20}, \"45\": {\"45\": 20}, \"10\": {\"10\": 20}, \"1\": {\"1\": 20}, \"38\": {\"38\": 20}, \"24\": {\"24\": 20}, \"17\": {\"17\": 20}, \"54\": {\"54\": 20}, \"3\": {\"3\": 19, \"25\": 1}, \"36\": {\"36\": 20}, \"40\": {\"40\": 20}, \"11\": {\"11\": 20}, \"55\": {\"55\": 19, \"14\": 1}, \"26\": {\"26\": 20}, \"20\": {\"20\": 20}, \"5\": {\"5\": 20}, \"44\": {\"44\": 20}, \"32\": {\"32\": 20}, \"31\": {\"31\": 19, \"14\": 1}, \"30\": {\"30\": 19, \"46\": 1}, \"49\": {\"49\": 20}, \"50\": {\"50\": 20}, \"6\": {\"6\": 20}, \"34\": {\"34\": 20}, \"15\": {\"15\": 20}, \"18\": {\"18\": 20}, \"16\": {\"16\": 20}, \"7\": {\"7\": 20}, \"9\": {\"9\": 19, \"40\": 1}, \"42\": {\"42\": 20}, \"2\": {\"2\": 20}, \"12\": {\"12\": 20}, \"46\": {\"46\": 17, \"7\": 3}, \"13\": {\"13\": 20}, \"23\": {\"23\": 20}}, \"4\": {\"37\": {\"37\": 16}, \"22\": {\"22\": 16}, \"40\": {\"40\": 16}, \"19\": {\"19\": 16}, \"2\": {\"2\": 16}, \"0\": {\"0\": 15, \"46\": 1}, \"5\": {\"5\": 16}, \"25\": {\"25\": 16}, \"18\": {\"18\": 16}, \"4\": {\"4\": 16}, \"6\": {\"6\": 14, \"3\": 1, \"50\": 1}, \"21\": {\"21\": 16}, \"24\": {\"24\": 16}, \"35\": {\"35\": 16}, \"43\": {\"43\": 16}, \"14\": {\"14\": 16}, \"53\": {\"53\": 16}, \"11\": {\"11\": 16}, \"28\": {\"28\": 16}, \"49\": {\"49\": 16}, \"10\": {\"10\": 16}, \"27\": {\"27\": 16}, \"8\": {\"8\": 16}, \"46\": {\"46\": 15, \"31\": 1}, \"3\": {\"3\": 16}, \"17\": {\"17\": 16}, \"23\": {\"23\": 16}, \"20\": {\"20\": 16}, \"16\": {\"16\": 16}, \"55\": {\"55\": 16}, \"15\": {\"15\": 16}, \"45\": {\"45\": 16}, \"12\": {\"12\": 16}, \"30\": {\"30\": 16}, \"13\": {\"13\": 16}, \"54\": {\"54\": 16}, \"57\": {\"57\": 16}, \"1\": {\"1\": 16}, \"7\": {\"7\": 16}, \"33\": {\"33\": 16}, \"56\": {\"56\": 16}, \"44\": {\"44\": 16}, \"48\": {\"48\": 16}, \"36\": {\"36\": 16}, \"50\": {\"50\": 15, \"3\": 1}, \"32\": {\"32\": 16}, \"51\": {\"51\": 16}, \"52\": {\"52\": 16}, \"31\": {\"31\": 16}, \"39\": {\"39\": 16}, \"42\": {\"42\": 16}, \"9\": {\"9\": 16}, \"26\": {\"26\": 16}, \"38\": {\"38\": 16}, \"47\": {\"47\": 16}, \"34\": {\"34\": 16}, \"41\": {\"41\": 16}, \"29\": {\"29\": 16}}, \"3\": {\"25\": {\"25\": 16}, \"24\": {\"24\": 16}, \"6\": {\"6\": 15, \"38\": 1}, \"27\": {\"27\": 16}, \"35\": {\"35\": 16}, \"48\": {\"48\": 16}, \"0\": {\"0\": 15, \"57\": 1}, \"44\": {\"44\": 16}, \"50\": {\"50\": 15, \"6\": 1}, \"36\": {\"36\": 16}, \"13\": {\"13\": 16}, \"42\": {\"42\": 16}, \"38\": {\"38\": 16}, \"54\": {\"54\": 16}, \"33\": {\"33\": 16}, \"49\": {\"49\": 16}, \"28\": {\"28\": 16}, \"53\": {\"53\": 16}, \"16\": {\"16\": 16}, \"20\": {\"20\": 16}, \"12\": {\"12\": 16}, \"1\": {\"1\": 16}, \"5\": {\"5\": 14, \"31\": 1, \"26\": 1}, \"52\": {\"52\": 16}, \"39\": {\"39\": 16}, \"11\": {\"11\": 16}, \"3\": {\"3\": 14, \"25\": 2}, \"22\": {\"22\": 16}, \"23\": {\"23\": 16}, \"47\": {\"47\": 16}, \"32\": {\"32\": 16}, \"31\": {\"31\": 16}, \"4\": {\"4\": 16}, \"43\": {\"43\": 16}, \"46\": {\"46\": 16}, \"40\": {\"40\": 16}, \"55\": {\"55\": 16}, \"21\": {\"21\": 16}, \"56\": {\"56\": 16}, \"8\": {\"8\": 16}, \"37\": {\"37\": 16}, \"7\": {\"7\": 16}, \"14\": {\"14\": 15, \"31\": 1}, \"18\": {\"18\": 16}, \"26\": {\"26\": 16}, \"34\": {\"34\": 16}, \"45\": {\"45\": 15, \"2\": 1}, \"10\": {\"10\": 16}, \"15\": {\"15\": 16}, \"51\": {\"51\": 16}, \"30\": {\"30\": 16}, \"41\": {\"41\": 16}, \"2\": {\"2\": 16}, \"29\": {\"29\": 16}, \"19\": {\"19\": 16}, \"17\": {\"17\": 16}, \"9\": {\"9\": 16}, \"57\": {\"57\": 15, \"0\": 1}}}, \"per_domain_accuracy\": {\"1\": {\"accuracy\": 0.9992816091954023, \"source?\": true}, \"5\": {\"accuracy\": 0.9982758620689656, \"source?\": true}, \"2\": {\"accuracy\": 0.9896551724137931, \"source?\": false}, \"4\": {\"accuracy\": 0.9946120689655172, \"source?\": false}, \"3\": {\"accuracy\": 0.9892241379310345, \"source?\": false}}}, \"history\": {\"epoch_indices\": [1, 2, 3, 4, 5, 6, 7, 8, 9, 10, 11, 12, 13, 14, 15], \"train_label_loss\": [0.6410708985745143, 0.025551973092847336, 0.020101534506046355, 0.005154668011434693, 0.005070066219326317, 0.011540203710002318, 0.007881151660676084, 0.012221903510553836, 0.004492709546353488, 0.006427792800003282, 0.0076967587842773355, 0.007283206716856045, 0.004537000387488323, 0.005019797670564539, 0.006722147173923951], \"source_val_label_loss\": [0.06182519719004631, 0.02356146275997162, 0.011521386913955212, 0.007543729152530432, 0.007274388801306486, 0.009151594713330269, 0.006720585282891989, 0.017811641097068787, 0.008944621309638023, 0.005816187709569931, 0.003427067305892706, 0.01615080051124096, 0.007954179309308529, 0.0026722762268036604, 0.011295079253613949], \"target_val_label_loss\": [0.1442427635192871, 0.06330444663763046, 0.05303032696247101, 0.051562294363975525, 0.05197065323591232, 0.04626983404159546, 0.0468842089176178, 0.05294179543852806, 0.06904198229312897, 0.057958148419857025, 0.03578439727425575, 0.04168195649981499, 0.03534672409296036, 0.06263276934623718, 0.06350766122341156], \"source_val_acc_label\": [0.9929467084639498, 0.9933385579937304, 0.9964733542319749, 0.9976489028213166, 0.9980407523510971, 0.9960815047021944, 0.9984326018808778, 0.9964733542319749, 0.9968652037617555, 0.9976489028213166, 0.9988244514106583, 0.9960815047021944, 0.997257053291536, 0.9984326018808778, 0.9960815047021944], \"target_val_acc_label\": [0.9804376657824934, 0.9844164456233422, 0.9844164456233422, 0.985079575596817, 0.986737400530504, 0.9880636604774535, 0.988395225464191, 0.9870689655172413, 0.9824270557029178, 0.9840848806366048, 0.9910477453580901, 0.9897214854111406, 0.9907161803713528, 0.9827586206896551, 0.985079575596817]}, \"dataset_metrics\": {\"source\": {\"train\": {\"n_unique_x\": 33040, \"n_unique_y\": 58, \"n_batch/episode\": 156}, \"val\": {\"n_unique_x\": 5365, \"n_unique_y\": 58, \"n_batch/episode\": 22}, \"test\": {\"n_unique_x\": 5332, \"n_unique_y\": 58, \"n_batch/episode\": 22}}, \"target\": {\"train\": {\"n_unique_x\": 42701, \"n_unique_y\": 58, \"n_batch/episode\": 195}, \"val\": {\"n_unique_x\": 6482, \"n_unique_y\": 58, \"n_batch/episode\": 26}, \"test\": {\"n_unique_x\": 6961, \"n_unique_y\": 58, \"n_batch/episode\": 28}}}}'"
      ]
     },
     "execution_count": 20,
     "metadata": {},
     "output_type": "execute_result"
    }
   ],
   "source": [
    "json.dumps(experiment)"
   ]
  }
 ],
 "metadata": {
  "celltoolbar": "Tags",
  "kernelspec": {
   "display_name": "Python 3 (ipykernel)",
   "language": "python",
   "name": "python3"
  },
  "language_info": {
   "codemirror_mode": {
    "name": "ipython",
    "version": 3
   },
   "file_extension": ".py",
   "mimetype": "text/x-python",
   "name": "python",
   "nbconvert_exporter": "python",
   "pygments_lexer": "ipython3",
   "version": "3.8.10"
  },
  "papermill": {
   "default_parameters": {},
   "duration": 224.491236,
   "end_time": "2022-03-22T16:07:18.809425",
   "environment_variables": {},
   "exception": null,
   "input_path": "/mnt/wd500GB/CSC500/csc500-main/csc500-notebooks/templates/ptn_template.ipynb",
   "output_path": "trial.ipynb",
   "parameters": {
    "parameters": {
     "BEST_MODEL_PATH": "./best_model.pth",
     "NUM_LOGS_PER_EPOCH": 10,
     "criteria_for_best": "target_accuracy",
     "dataset_seed": 154325,
     "device": "cuda",
     "domains_source": [
      1,
      5
     ],
     "domains_target": [
      2,
      3,
      4
     ],
     "episode_transforms_source": [],
     "episode_transforms_target": [],
     "experiment_name": "tuned_1v2:cores",
     "labels_source": [
      "1-10.",
      "1-11.",
      "1-15.",
      "1-16.",
      "1-17.",
      "1-18.",
      "1-19.",
      "10-4.",
      "10-7.",
      "11-1.",
      "11-14.",
      "11-17.",
      "11-20.",
      "11-7.",
      "13-20.",
      "13-8.",
      "14-10.",
      "14-11.",
      "14-14.",
      "14-7.",
      "15-1.",
      "15-20.",
      "16-1.",
      "16-16.",
      "17-10.",
      "17-11.",
      "17-2.",
      "19-1.",
      "19-16.",
      "19-19.",
      "19-20.",
      "19-3.",
      "2-10.",
      "2-11.",
      "2-17.",
      "2-18.",
      "2-20.",
      "2-3.",
      "2-4.",
      "2-5.",
      "2-6.",
      "2-7.",
      "2-8.",
      "3-13.",
      "3-18.",
      "3-3.",
      "4-1.",
      "4-10.",
      "4-11.",
      "4-19.",
      "5-5.",
      "6-15.",
      "7-10.",
      "7-14.",
      "8-18.",
      "8-20.",
      "8-3.",
      "8-8."
     ],
     "labels_target": [
      "1-10.",
      "1-11.",
      "1-15.",
      "1-16.",
      "1-17.",
      "1-18.",
      "1-19.",
      "10-4.",
      "10-7.",
      "11-1.",
      "11-14.",
      "11-17.",
      "11-20.",
      "11-7.",
      "13-20.",
      "13-8.",
      "14-10.",
      "14-11.",
      "14-14.",
      "14-7.",
      "15-1.",
      "15-20.",
      "16-1.",
      "16-16.",
      "17-10.",
      "17-11.",
      "17-2.",
      "19-1.",
      "19-16.",
      "19-19.",
      "19-20.",
      "19-3.",
      "2-10.",
      "2-11.",
      "2-17.",
      "2-18.",
      "2-20.",
      "2-3.",
      "2-4.",
      "2-5.",
      "2-6.",
      "2-7.",
      "2-8.",
      "3-13.",
      "3-18.",
      "3-3.",
      "4-1.",
      "4-10.",
      "4-11.",
      "4-19.",
      "5-5.",
      "6-15.",
      "7-10.",
      "7-14.",
      "8-18.",
      "8-20.",
      "8-3.",
      "8-8."
     ],
     "lr": 0.0001,
     "n_epoch": 50,
     "n_query": 2,
     "n_shot": 3,
     "n_way": 58,
     "num_examples_per_domain_per_label_source": -1,
     "num_examples_per_domain_per_label_target": -1,
     "patience": 3,
     "pickle_name": "cores.stratified_ds.2022A.pkl",
     "seed": 154325,
     "test_k_factor": 2,
     "torch_default_dtype": "torch.float32",
     "train_k_factor": 3,
     "val_k_factor": 2,
     "x_net": [
      {
       "class": "nnReshape",
       "kargs": {
        "shape": [
         -1,
         1,
         2,
         256
        ]
       }
      },
      {
       "class": "Conv2d",
       "kargs": {
        "bias": false,
        "in_channels": 1,
        "kernel_size": [
         1,
         7
        ],
        "out_channels": 256,
        "padding": [
         0,
         3
        ]
       }
      },
      {
       "class": "ReLU",
       "kargs": {
        "inplace": true
       }
      },
      {
       "class": "BatchNorm2d",
       "kargs": {
        "num_features": 256
       }
      },
      {
       "class": "Conv2d",
       "kargs": {
        "bias": true,
        "in_channels": 256,
        "kernel_size": [
         2,
         7
        ],
        "out_channels": 80,
        "padding": [
         0,
         3
        ]
       }
      },
      {
       "class": "ReLU",
       "kargs": {
        "inplace": true
       }
      },
      {
       "class": "BatchNorm2d",
       "kargs": {
        "num_features": 80
       }
      },
      {
       "class": "Flatten",
       "kargs": {}
      },
      {
       "class": "Linear",
       "kargs": {
        "in_features": 20480,
        "out_features": 256
       }
      },
      {
       "class": "ReLU",
       "kargs": {
        "inplace": true
       }
      },
      {
       "class": "BatchNorm1d",
       "kargs": {
        "num_features": 256
       }
      },
      {
       "class": "Linear",
       "kargs": {
        "in_features": 256,
        "out_features": 256
       }
      }
     ],
     "x_transforms_source": [
      "unit_mag"
     ],
     "x_transforms_target": [
      "unit_mag"
     ]
    }
   },
   "start_time": "2022-03-22T16:03:34.318189",
   "version": "2.3.4"
  }
 },
 "nbformat": 4,
 "nbformat_minor": 5
}