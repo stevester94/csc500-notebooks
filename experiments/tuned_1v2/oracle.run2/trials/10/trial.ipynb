{
 "cells": [
  {
   "cell_type": "markdown",
   "id": "9fea5f46",
   "metadata": {
    "papermill": {
     "duration": 0.013589,
     "end_time": "2022-03-21T18:25:10.025756",
     "exception": false,
     "start_time": "2022-03-21T18:25:10.012167",
     "status": "completed"
    },
    "tags": []
   },
   "source": [
    "# PTN Template\n",
    "This notebook serves as a template for single dataset PTN experiments  \n",
    "It can be run on its own by setting STANDALONE to True (do a find for \"STANDALONE\" to see where)  \n",
    "But it is intended to be executed as part of a *papermill.py script. See any of the   \n",
    "experimentes with a papermill script to get started with that workflow.  "
   ]
  },
  {
   "cell_type": "code",
   "execution_count": 1,
   "id": "0902182a",
   "metadata": {
    "execution": {
     "iopub.execute_input": "2022-03-21T18:25:10.056517Z",
     "iopub.status.busy": "2022-03-21T18:25:10.056087Z",
     "iopub.status.idle": "2022-03-21T18:25:11.032465Z",
     "shell.execute_reply": "2022-03-21T18:25:11.032169Z"
    },
    "papermill": {
     "duration": 0.996397,
     "end_time": "2022-03-21T18:25:11.032535",
     "exception": false,
     "start_time": "2022-03-21T18:25:10.036138",
     "status": "completed"
    },
    "tags": []
   },
   "outputs": [],
   "source": [
    "%load_ext autoreload\n",
    "%autoreload 2\n",
    "%matplotlib inline\n",
    "\n",
    "    \n",
    "import os, json, sys, time, random\n",
    "import numpy as np\n",
    "import torch\n",
    "from torch.optim import Adam\n",
    "from  easydict import EasyDict\n",
    "import matplotlib.pyplot as plt\n",
    "\n",
    "from steves_models.steves_ptn import Steves_Prototypical_Network\n",
    "\n",
    "from steves_utils.lazy_iterable_wrapper import Lazy_Iterable_Wrapper\n",
    "from steves_utils.iterable_aggregator import Iterable_Aggregator\n",
    "from steves_utils.ptn_train_eval_test_jig import  PTN_Train_Eval_Test_Jig\n",
    "from steves_utils.torch_sequential_builder import build_sequential\n",
    "from steves_utils.torch_utils import get_dataset_metrics, ptn_confusion_by_domain_over_dataloader\n",
    "from steves_utils.utils_v2 import (per_domain_accuracy_from_confusion, get_datasets_base_path)\n",
    "from steves_utils.PTN.utils import independent_accuracy_assesment\n",
    "\n",
    "from steves_utils.stratified_dataset.episodic_accessor import Episodic_Accessor_Factory\n",
    "\n",
    "from steves_utils.ptn_do_report import (\n",
    "    get_loss_curve,\n",
    "    get_results_table,\n",
    "    get_parameters_table,\n",
    "    get_domain_accuracies,\n",
    ")\n",
    "\n",
    "from steves_utils.transforms import get_chained_transform"
   ]
  },
  {
   "cell_type": "markdown",
   "id": "41c840b4",
   "metadata": {
    "papermill": {
     "duration": 0.009696,
     "end_time": "2022-03-21T18:25:11.052496",
     "exception": false,
     "start_time": "2022-03-21T18:25:11.042800",
     "status": "completed"
    },
    "tags": []
   },
   "source": [
    "# Required Parameters\n",
    "These are allowed parameters, not defaults\n",
    "Each of these values need to be present in the injected parameters (the notebook will raise an exception if they are not present)\n",
    "\n",
    "Papermill uses the cell tag \"parameters\" to inject the real parameters below this cell.\n",
    "Enable tags to see what I mean"
   ]
  },
  {
   "cell_type": "code",
   "execution_count": 2,
   "id": "fd44eb83",
   "metadata": {
    "execution": {
     "iopub.execute_input": "2022-03-21T18:25:11.075877Z",
     "iopub.status.busy": "2022-03-21T18:25:11.075603Z",
     "iopub.status.idle": "2022-03-21T18:25:11.088677Z",
     "shell.execute_reply": "2022-03-21T18:25:11.089060Z"
    },
    "papermill": {
     "duration": 0.026928,
     "end_time": "2022-03-21T18:25:11.089186",
     "exception": false,
     "start_time": "2022-03-21T18:25:11.062258",
     "status": "completed"
    },
    "tags": []
   },
   "outputs": [],
   "source": [
    "required_parameters = {\n",
    "    \"experiment_name\",\n",
    "    \"lr\",\n",
    "    \"device\",\n",
    "    \"seed\",\n",
    "    \"dataset_seed\",\n",
    "    \"labels_source\",\n",
    "    \"labels_target\",\n",
    "    \"domains_source\",\n",
    "    \"domains_target\",\n",
    "    \"num_examples_per_domain_per_label_source\",\n",
    "    \"num_examples_per_domain_per_label_target\",\n",
    "    \"n_shot\",\n",
    "    \"n_way\",\n",
    "    \"n_query\",\n",
    "    \"train_k_factor\",\n",
    "    \"val_k_factor\",\n",
    "    \"test_k_factor\",\n",
    "    \"n_epoch\",\n",
    "    \"patience\",\n",
    "    \"criteria_for_best\",\n",
    "    \"x_transforms_source\",\n",
    "    \"x_transforms_target\",\n",
    "    \"episode_transforms_source\",\n",
    "    \"episode_transforms_target\",\n",
    "    \"pickle_name\",\n",
    "    \"x_net\",\n",
    "    \"NUM_LOGS_PER_EPOCH\",\n",
    "    \"BEST_MODEL_PATH\",\n",
    "    \"torch_default_dtype\"\n",
    "}"
   ]
  },
  {
   "cell_type": "code",
   "execution_count": 3,
   "id": "fa3f0049",
   "metadata": {
    "execution": {
     "iopub.execute_input": "2022-03-21T18:25:11.120973Z",
     "iopub.status.busy": "2022-03-21T18:25:11.120679Z",
     "iopub.status.idle": "2022-03-21T18:25:11.132998Z",
     "shell.execute_reply": "2022-03-21T18:25:11.133396Z"
    },
    "papermill": {
     "duration": 0.028885,
     "end_time": "2022-03-21T18:25:11.133520",
     "exception": false,
     "start_time": "2022-03-21T18:25:11.104635",
     "status": "completed"
    },
    "tags": [
     "parameters"
    ]
   },
   "outputs": [],
   "source": [
    "\n",
    "\n",
    "standalone_parameters = {}\n",
    "standalone_parameters[\"experiment_name\"] = \"STANDALONE PTN\"\n",
    "standalone_parameters[\"lr\"] = 0.0001\n",
    "standalone_parameters[\"device\"] = \"cuda\"\n",
    "\n",
    "standalone_parameters[\"seed\"] = 1337\n",
    "standalone_parameters[\"dataset_seed\"] = 1337\n",
    "\n",
    "\n",
    "standalone_parameters[\"num_examples_per_domain_per_label_source\"]=100\n",
    "standalone_parameters[\"num_examples_per_domain_per_label_target\"]=100\n",
    "\n",
    "standalone_parameters[\"n_shot\"] = 3\n",
    "standalone_parameters[\"n_query\"]  = 2\n",
    "standalone_parameters[\"train_k_factor\"] = 1\n",
    "standalone_parameters[\"val_k_factor\"] = 2\n",
    "standalone_parameters[\"test_k_factor\"] = 2\n",
    "\n",
    "\n",
    "standalone_parameters[\"n_epoch\"] = 100\n",
    "\n",
    "standalone_parameters[\"patience\"] = 10\n",
    "standalone_parameters[\"criteria_for_best\"] = \"target_accuracy\"\n",
    "\n",
    "standalone_parameters[\"x_transforms_source\"] = [\"unit_power\"]\n",
    "standalone_parameters[\"x_transforms_target\"] = [\"unit_power\"]\n",
    "standalone_parameters[\"episode_transforms_source\"] = []\n",
    "standalone_parameters[\"episode_transforms_target\"] = []\n",
    "\n",
    "standalone_parameters[\"torch_default_dtype\"] = \"torch.float32\" \n",
    "\n",
    "\n",
    "\n",
    "standalone_parameters[\"x_net\"] =     [\n",
    "    {\"class\": \"nnReshape\", \"kargs\": {\"shape\":[-1, 1, 2, 256]}},\n",
    "    {\"class\": \"Conv2d\", \"kargs\": { \"in_channels\":1, \"out_channels\":256, \"kernel_size\":(1,7), \"bias\":False, \"padding\":(0,3), },},\n",
    "    {\"class\": \"ReLU\", \"kargs\": {\"inplace\": True}},\n",
    "    {\"class\": \"BatchNorm2d\", \"kargs\": {\"num_features\":256}},\n",
    "\n",
    "    {\"class\": \"Conv2d\", \"kargs\": { \"in_channels\":256, \"out_channels\":80, \"kernel_size\":(2,7), \"bias\":True, \"padding\":(0,3), },},\n",
    "    {\"class\": \"ReLU\", \"kargs\": {\"inplace\": True}},\n",
    "    {\"class\": \"BatchNorm2d\", \"kargs\": {\"num_features\":80}},\n",
    "    {\"class\": \"Flatten\", \"kargs\": {}},\n",
    "\n",
    "    {\"class\": \"Linear\", \"kargs\": {\"in_features\": 80*256, \"out_features\": 256}}, # 80 units per IQ pair\n",
    "    {\"class\": \"ReLU\", \"kargs\": {\"inplace\": True}},\n",
    "    {\"class\": \"BatchNorm1d\", \"kargs\": {\"num_features\":256}},\n",
    "\n",
    "    {\"class\": \"Linear\", \"kargs\": {\"in_features\": 256, \"out_features\": 256}},\n",
    "]\n",
    "\n",
    "# Parameters relevant to results\n",
    "# These parameters will basically never need to change\n",
    "standalone_parameters[\"NUM_LOGS_PER_EPOCH\"] = 10\n",
    "standalone_parameters[\"BEST_MODEL_PATH\"] = \"./best_model.pth\"\n",
    "\n",
    "# uncomment for CORES dataset\n",
    "from steves_utils.CORES.utils import (\n",
    "    ALL_NODES,\n",
    "    ALL_NODES_MINIMUM_1000_EXAMPLES,\n",
    "    ALL_DAYS\n",
    ")\n",
    "\n",
    "\n",
    "standalone_parameters[\"labels_source\"] = ALL_NODES\n",
    "standalone_parameters[\"labels_target\"] = ALL_NODES\n",
    "\n",
    "standalone_parameters[\"domains_source\"] = [1]\n",
    "standalone_parameters[\"domains_target\"] = [2,3,4,5]\n",
    "\n",
    "standalone_parameters[\"pickle_name\"] = \"cores.stratified_ds.2022A.pkl\"\n",
    "\n",
    "\n",
    "# Uncomment these for ORACLE dataset\n",
    "# from steves_utils.ORACLE.utils_v2 import (\n",
    "#     ALL_DISTANCES_FEET,\n",
    "#     ALL_RUNS,\n",
    "#     ALL_SERIAL_NUMBERS,\n",
    "# )\n",
    "# standalone_parameters[\"labels_source\"] = ALL_SERIAL_NUMBERS\n",
    "# standalone_parameters[\"labels_target\"] = ALL_SERIAL_NUMBERS\n",
    "# standalone_parameters[\"domains_source\"] = [8,20, 38,50]\n",
    "# standalone_parameters[\"domains_target\"] = [14, 26, 32, 44, 56]\n",
    "# standalone_parameters[\"pickle_name\"] = \"oracle.frame_indexed.stratified_ds.2022A.pkl\"\n",
    "# standalone_parameters[\"num_examples_per_domain_per_label_source\"]=1000\n",
    "# standalone_parameters[\"num_examples_per_domain_per_label_target\"]=1000\n",
    "\n",
    "# Uncomment these for Metahan dataset\n",
    "# standalone_parameters[\"labels_source\"] = list(range(19))\n",
    "# standalone_parameters[\"labels_target\"] = list(range(19))\n",
    "# standalone_parameters[\"domains_source\"] = [0]\n",
    "# standalone_parameters[\"domains_target\"] = [1]\n",
    "# standalone_parameters[\"pickle_name\"] = \"metehan.stratified_ds.2022A.pkl\"\n",
    "# standalone_parameters[\"n_way\"]  = len(standalone_parameters[\"labels_source\"])\n",
    "# standalone_parameters[\"num_examples_per_domain_per_label_source\"]=200\n",
    "# standalone_parameters[\"num_examples_per_domain_per_label_target\"]=100\n",
    "\n",
    "\n",
    "standalone_parameters[\"n_way\"]  = len(standalone_parameters[\"labels_source\"])"
   ]
  },
  {
   "cell_type": "code",
   "execution_count": 4,
   "id": "21d656da",
   "metadata": {
    "execution": {
     "iopub.execute_input": "2022-03-21T18:25:11.163451Z",
     "iopub.status.busy": "2022-03-21T18:25:11.163106Z",
     "iopub.status.idle": "2022-03-21T18:25:11.174623Z",
     "shell.execute_reply": "2022-03-21T18:25:11.174196Z"
    },
    "papermill": {
     "duration": 0.026391,
     "end_time": "2022-03-21T18:25:11.174724",
     "exception": false,
     "start_time": "2022-03-21T18:25:11.148333",
     "status": "completed"
    },
    "tags": [
     "injected-parameters"
    ]
   },
   "outputs": [],
   "source": [
    "# Parameters\n",
    "parameters = {\n",
    "    \"experiment_name\": \"tuned_1v2:oracle.run2\",\n",
    "    \"device\": \"cuda\",\n",
    "    \"lr\": 0.0001,\n",
    "    \"labels_source\": [\n",
    "        \"3123D52\",\n",
    "        \"3123D65\",\n",
    "        \"3123D79\",\n",
    "        \"3123D80\",\n",
    "        \"3123D54\",\n",
    "        \"3123D70\",\n",
    "        \"3123D7B\",\n",
    "        \"3123D89\",\n",
    "        \"3123D58\",\n",
    "        \"3123D76\",\n",
    "        \"3123D7D\",\n",
    "        \"3123EFE\",\n",
    "        \"3123D64\",\n",
    "        \"3123D78\",\n",
    "        \"3123D7E\",\n",
    "        \"3124E4A\",\n",
    "    ],\n",
    "    \"labels_target\": [\n",
    "        \"3123D52\",\n",
    "        \"3123D65\",\n",
    "        \"3123D79\",\n",
    "        \"3123D80\",\n",
    "        \"3123D54\",\n",
    "        \"3123D70\",\n",
    "        \"3123D7B\",\n",
    "        \"3123D89\",\n",
    "        \"3123D58\",\n",
    "        \"3123D76\",\n",
    "        \"3123D7D\",\n",
    "        \"3123EFE\",\n",
    "        \"3123D64\",\n",
    "        \"3123D78\",\n",
    "        \"3123D7E\",\n",
    "        \"3124E4A\",\n",
    "    ],\n",
    "    \"episode_transforms_source\": [],\n",
    "    \"episode_transforms_target\": [],\n",
    "    \"domains_source\": [8, 32, 50],\n",
    "    \"domains_target\": [14, 20, 26, 38, 44],\n",
    "    \"num_examples_per_domain_per_label_source\": -1,\n",
    "    \"num_examples_per_domain_per_label_target\": -1,\n",
    "    \"n_shot\": 3,\n",
    "    \"n_way\": 16,\n",
    "    \"n_query\": 2,\n",
    "    \"train_k_factor\": 3,\n",
    "    \"val_k_factor\": 2,\n",
    "    \"test_k_factor\": 2,\n",
    "    \"torch_default_dtype\": \"torch.float32\",\n",
    "    \"n_epoch\": 50,\n",
    "    \"patience\": 3,\n",
    "    \"criteria_for_best\": \"target_accuracy\",\n",
    "    \"x_net\": [\n",
    "        {\"class\": \"nnReshape\", \"kargs\": {\"shape\": [-1, 1, 2, 256]}},\n",
    "        {\n",
    "            \"class\": \"Conv2d\",\n",
    "            \"kargs\": {\n",
    "                \"in_channels\": 1,\n",
    "                \"out_channels\": 256,\n",
    "                \"kernel_size\": [1, 7],\n",
    "                \"bias\": False,\n",
    "                \"padding\": [0, 3],\n",
    "            },\n",
    "        },\n",
    "        {\"class\": \"ReLU\", \"kargs\": {\"inplace\": True}},\n",
    "        {\"class\": \"BatchNorm2d\", \"kargs\": {\"num_features\": 256}},\n",
    "        {\n",
    "            \"class\": \"Conv2d\",\n",
    "            \"kargs\": {\n",
    "                \"in_channels\": 256,\n",
    "                \"out_channels\": 80,\n",
    "                \"kernel_size\": [2, 7],\n",
    "                \"bias\": True,\n",
    "                \"padding\": [0, 3],\n",
    "            },\n",
    "        },\n",
    "        {\"class\": \"ReLU\", \"kargs\": {\"inplace\": True}},\n",
    "        {\"class\": \"BatchNorm2d\", \"kargs\": {\"num_features\": 80}},\n",
    "        {\"class\": \"Flatten\", \"kargs\": {}},\n",
    "        {\"class\": \"Linear\", \"kargs\": {\"in_features\": 20480, \"out_features\": 256}},\n",
    "        {\"class\": \"ReLU\", \"kargs\": {\"inplace\": True}},\n",
    "        {\"class\": \"BatchNorm1d\", \"kargs\": {\"num_features\": 256}},\n",
    "        {\"class\": \"Linear\", \"kargs\": {\"in_features\": 256, \"out_features\": 256}},\n",
    "    ],\n",
    "    \"NUM_LOGS_PER_EPOCH\": 10,\n",
    "    \"BEST_MODEL_PATH\": \"./best_model.pth\",\n",
    "    \"pickle_name\": \"oracle.Run2_10kExamples_stratified_ds.2022A.pkl\",\n",
    "    \"x_transforms_source\": [\"unit_power\"],\n",
    "    \"x_transforms_target\": [\"unit_power\"],\n",
    "    \"dataset_seed\": 500,\n",
    "    \"seed\": 500,\n",
    "}\n"
   ]
  },
  {
   "cell_type": "code",
   "execution_count": 5,
   "id": "8fa1cc33",
   "metadata": {
    "execution": {
     "iopub.execute_input": "2022-03-21T18:25:11.201037Z",
     "iopub.status.busy": "2022-03-21T18:25:11.200782Z",
     "iopub.status.idle": "2022-03-21T18:25:11.211884Z",
     "shell.execute_reply": "2022-03-21T18:25:11.212165Z"
    },
    "papermill": {
     "duration": 0.023346,
     "end_time": "2022-03-21T18:25:11.212259",
     "exception": false,
     "start_time": "2022-03-21T18:25:11.188913",
     "status": "completed"
    },
    "tags": []
   },
   "outputs": [],
   "source": [
    "# Set this to True if you want to run this template directly\n",
    "STANDALONE = False\n",
    "if STANDALONE:\n",
    "    print(\"parameters not injected, running with standalone_parameters\")\n",
    "    parameters = standalone_parameters\n",
    "\n",
    "if not 'parameters' in locals() and not 'parameters' in globals():\n",
    "    raise Exception(\"Parameter injection failed\")\n",
    "\n",
    "#Use an easy dict for all the parameters\n",
    "p = EasyDict(parameters)\n",
    "\n",
    "supplied_keys = set(p.keys())\n",
    "\n",
    "if  supplied_keys != required_parameters:\n",
    "    print(\"Parameters are incorrect\")\n",
    "    if len(supplied_keys - required_parameters)>0: print(\"Shouldn't have:\", str(supplied_keys - required_parameters))\n",
    "    if len(required_parameters - supplied_keys)>0: print(\"Need to have:\", str(required_parameters - supplied_keys))\n",
    "    raise RuntimeError(\"Parameters are incorrect\")\n",
    "\n"
   ]
  },
  {
   "cell_type": "code",
   "execution_count": 6,
   "id": "3a028d58",
   "metadata": {
    "execution": {
     "iopub.execute_input": "2022-03-21T18:25:11.239194Z",
     "iopub.status.busy": "2022-03-21T18:25:11.238883Z",
     "iopub.status.idle": "2022-03-21T18:25:11.251608Z",
     "shell.execute_reply": "2022-03-21T18:25:11.251912Z"
    },
    "papermill": {
     "duration": 0.024341,
     "end_time": "2022-03-21T18:25:11.252006",
     "exception": false,
     "start_time": "2022-03-21T18:25:11.227665",
     "status": "completed"
    },
    "tags": []
   },
   "outputs": [],
   "source": [
    "###################################\n",
    "# Set the RNGs and make it all deterministic\n",
    "###################################\n",
    "np.random.seed(p.seed)\n",
    "random.seed(p.seed)\n",
    "torch.manual_seed(p.seed)\n",
    "\n",
    "torch.use_deterministic_algorithms(True) "
   ]
  },
  {
   "cell_type": "code",
   "execution_count": 7,
   "id": "b691acf6",
   "metadata": {
    "execution": {
     "iopub.execute_input": "2022-03-21T18:25:11.280029Z",
     "iopub.status.busy": "2022-03-21T18:25:11.279652Z",
     "iopub.status.idle": "2022-03-21T18:25:11.294948Z",
     "shell.execute_reply": "2022-03-21T18:25:11.294508Z"
    },
    "papermill": {
     "duration": 0.02764,
     "end_time": "2022-03-21T18:25:11.295054",
     "exception": false,
     "start_time": "2022-03-21T18:25:11.267414",
     "status": "completed"
    },
    "tags": []
   },
   "outputs": [],
   "source": [
    "###########################################\n",
    "# The stratified datasets honor this\n",
    "###########################################\n",
    "torch.set_default_dtype(eval(p.torch_default_dtype))"
   ]
  },
  {
   "cell_type": "code",
   "execution_count": 8,
   "id": "b5fba671",
   "metadata": {
    "execution": {
     "iopub.execute_input": "2022-03-21T18:25:11.320643Z",
     "iopub.status.busy": "2022-03-21T18:25:11.319857Z",
     "iopub.status.idle": "2022-03-21T18:25:11.358926Z",
     "shell.execute_reply": "2022-03-21T18:25:11.359362Z"
    },
    "papermill": {
     "duration": 0.050386,
     "end_time": "2022-03-21T18:25:11.359503",
     "exception": false,
     "start_time": "2022-03-21T18:25:11.309117",
     "status": "completed"
    },
    "tags": []
   },
   "outputs": [],
   "source": [
    "###################################\n",
    "# Build the network(s)\n",
    "# Note: It's critical to do this AFTER setting the RNG\n",
    "# (This is due to the randomized initial weights)\n",
    "###################################\n",
    "x_net = build_sequential(p.x_net)"
   ]
  },
  {
   "cell_type": "code",
   "execution_count": 9,
   "id": "5d7e61cc",
   "metadata": {
    "execution": {
     "iopub.execute_input": "2022-03-21T18:25:11.387490Z",
     "iopub.status.busy": "2022-03-21T18:25:11.387199Z",
     "iopub.status.idle": "2022-03-21T18:25:11.400440Z",
     "shell.execute_reply": "2022-03-21T18:25:11.400757Z"
    },
    "papermill": {
     "duration": 0.025353,
     "end_time": "2022-03-21T18:25:11.400883",
     "exception": false,
     "start_time": "2022-03-21T18:25:11.375530",
     "status": "completed"
    },
    "tags": []
   },
   "outputs": [],
   "source": [
    "start_time_secs = time.time()"
   ]
  },
  {
   "cell_type": "code",
   "execution_count": 10,
   "id": "fd5442bc",
   "metadata": {
    "execution": {
     "iopub.execute_input": "2022-03-21T18:25:11.433686Z",
     "iopub.status.busy": "2022-03-21T18:25:11.433085Z",
     "iopub.status.idle": "2022-03-21T18:26:32.570272Z",
     "shell.execute_reply": "2022-03-21T18:26:32.569745Z"
    },
    "papermill": {
     "duration": 81.154078,
     "end_time": "2022-03-21T18:26:32.570381",
     "exception": false,
     "start_time": "2022-03-21T18:25:11.416303",
     "status": "completed"
    },
    "tags": []
   },
   "outputs": [],
   "source": [
    "###################################\n",
    "# Build the dataset\n",
    "###################################\n",
    "\n",
    "if p.x_transforms_source == []: x_transform_source = None\n",
    "else: x_transform_source = get_chained_transform(p.x_transforms_source) \n",
    "\n",
    "if p.x_transforms_target == []: x_transform_target = None\n",
    "else: x_transform_target = get_chained_transform(p.x_transforms_target)\n",
    "\n",
    "if p.episode_transforms_source == []: episode_transform_source = None\n",
    "else: raise Exception(\"episode_transform_source not implemented\")\n",
    "\n",
    "if p.episode_transforms_target == []: episode_transform_target = None\n",
    "else: raise Exception(\"episode_transform_target not implemented\")\n",
    "\n",
    "\n",
    "eaf_source = Episodic_Accessor_Factory(\n",
    "    labels=p.labels_source,\n",
    "    domains=p.domains_source,\n",
    "    num_examples_per_domain_per_label=p.num_examples_per_domain_per_label_source,\n",
    "    iterator_seed=p.seed,\n",
    "    dataset_seed=p.dataset_seed,\n",
    "    n_shot=p.n_shot,\n",
    "    n_way=p.n_way,\n",
    "    n_query=p.n_query,\n",
    "    train_val_test_k_factors=(p.train_k_factor,p.val_k_factor,p.test_k_factor),\n",
    "    pickle_path=os.path.join(get_datasets_base_path(), p.pickle_name),\n",
    "    x_transform_func=x_transform_source,\n",
    "    example_transform_func=episode_transform_source,\n",
    "    \n",
    ")\n",
    "train_original_source, val_original_source, test_original_source = eaf_source.get_train(), eaf_source.get_val(), eaf_source.get_test()\n",
    "\n",
    "\n",
    "eaf_target = Episodic_Accessor_Factory(\n",
    "    labels=p.labels_target,\n",
    "    domains=p.domains_target,\n",
    "    num_examples_per_domain_per_label=p.num_examples_per_domain_per_label_target,\n",
    "    iterator_seed=p.seed,\n",
    "    dataset_seed=p.dataset_seed,\n",
    "    n_shot=p.n_shot,\n",
    "    n_way=p.n_way,\n",
    "    n_query=p.n_query,\n",
    "    train_val_test_k_factors=(p.train_k_factor,p.val_k_factor,p.test_k_factor),\n",
    "    pickle_path=os.path.join(get_datasets_base_path(), p.pickle_name),\n",
    "    x_transform_func=x_transform_target,\n",
    "    example_transform_func=episode_transform_target,\n",
    ")\n",
    "train_original_target, val_original_target, test_original_target = eaf_target.get_train(), eaf_target.get_val(), eaf_target.get_test()\n",
    "\n",
    "\n",
    "transform_lambda = lambda ex: ex[1] # Original is (<domain>, <episode>) so we strip down to episode only\n",
    "\n",
    "train_processed_source = Lazy_Iterable_Wrapper(train_original_source, transform_lambda)\n",
    "val_processed_source   = Lazy_Iterable_Wrapper(val_original_source, transform_lambda)\n",
    "test_processed_source  = Lazy_Iterable_Wrapper(test_original_source, transform_lambda)\n",
    "\n",
    "train_processed_target = Lazy_Iterable_Wrapper(train_original_target, transform_lambda)\n",
    "val_processed_target   = Lazy_Iterable_Wrapper(val_original_target, transform_lambda)\n",
    "test_processed_target  = Lazy_Iterable_Wrapper(test_original_target, transform_lambda)\n",
    "\n",
    "datasets = EasyDict({\n",
    "    \"source\": {\n",
    "        \"original\": {\"train\":train_original_source, \"val\":val_original_source, \"test\":test_original_source},\n",
    "        \"processed\": {\"train\":train_processed_source, \"val\":val_processed_source, \"test\":test_processed_source}\n",
    "    },\n",
    "    \"target\": {\n",
    "        \"original\": {\"train\":train_original_target, \"val\":val_original_target, \"test\":test_original_target},\n",
    "        \"processed\": {\"train\":train_processed_target, \"val\":val_processed_target, \"test\":test_processed_target}\n",
    "    },\n",
    "})"
   ]
  },
  {
   "cell_type": "code",
   "execution_count": 11,
   "id": "296189d9",
   "metadata": {
    "execution": {
     "iopub.execute_input": "2022-03-21T18:26:32.598306Z",
     "iopub.status.busy": "2022-03-21T18:26:32.598049Z",
     "iopub.status.idle": "2022-03-21T18:26:34.536918Z",
     "shell.execute_reply": "2022-03-21T18:26:34.537268Z"
    },
    "papermill": {
     "duration": 1.951858,
     "end_time": "2022-03-21T18:26:34.537368",
     "exception": false,
     "start_time": "2022-03-21T18:26:32.585510",
     "status": "completed"
    },
    "tags": []
   },
   "outputs": [
    {
     "name": "stdout",
     "output_type": "stream",
     "text": [
      "Visually inspect these to see if they line up with expected values given the transforms\n",
      "x_transforms_source ['unit_power']\n",
      "x_transforms_target ['unit_power']\n",
      "Average magnitude, source: 0.89177555\n",
      "Average power, source: 0.99999994\n"
     ]
    },
    {
     "name": "stdout",
     "output_type": "stream",
     "text": [
      "Average magnitude, target: 0.9016109\n",
      "Average power, target: 1.0\n"
     ]
    }
   ],
   "source": [
    "# Some quick unit tests on the data\n",
    "from steves_utils.transforms import get_average_power, get_average_magnitude\n",
    "\n",
    "q_x, q_y, s_x, s_y, truth = next(iter(train_processed_source))\n",
    "\n",
    "assert q_x.dtype == eval(p.torch_default_dtype)\n",
    "assert s_x.dtype == eval(p.torch_default_dtype)\n",
    "\n",
    "print(\"Visually inspect these to see if they line up with expected values given the transforms\")\n",
    "print('x_transforms_source', p.x_transforms_source)\n",
    "print('x_transforms_target', p.x_transforms_target)\n",
    "print(\"Average magnitude, source:\", get_average_magnitude(q_x[0].numpy()))\n",
    "print(\"Average power, source:\", get_average_power(q_x[0].numpy()))\n",
    "\n",
    "q_x, q_y, s_x, s_y, truth = next(iter(train_processed_target))\n",
    "print(\"Average magnitude, target:\", get_average_magnitude(q_x[0].numpy()))\n",
    "print(\"Average power, target:\", get_average_power(q_x[0].numpy()))\n"
   ]
  },
  {
   "cell_type": "code",
   "execution_count": 12,
   "id": "bbdacba1",
   "metadata": {
    "execution": {
     "iopub.execute_input": "2022-03-21T18:26:34.563492Z",
     "iopub.status.busy": "2022-03-21T18:26:34.563178Z",
     "iopub.status.idle": "2022-03-21T18:26:34.621394Z",
     "shell.execute_reply": "2022-03-21T18:26:34.621021Z"
    },
    "papermill": {
     "duration": 0.072758,
     "end_time": "2022-03-21T18:26:34.621476",
     "exception": false,
     "start_time": "2022-03-21T18:26:34.548718",
     "status": "completed"
    },
    "tags": []
   },
   "outputs": [
    {
     "name": "stdout",
     "output_type": "stream",
     "text": [
      "(2, 256)\n"
     ]
    }
   ],
   "source": [
    "###################################\n",
    "# Build the model\n",
    "###################################\n",
    "model = Steves_Prototypical_Network(x_net, device=p.device, x_shape=(2,256))\n",
    "optimizer = Adam(params=model.parameters(), lr=p.lr)"
   ]
  },
  {
   "cell_type": "code",
   "execution_count": 13,
   "id": "22b39ac5",
   "metadata": {
    "execution": {
     "iopub.execute_input": "2022-03-21T18:26:34.649677Z",
     "iopub.status.busy": "2022-03-21T18:26:34.649155Z",
     "iopub.status.idle": "2022-03-21T19:38:36.786453Z",
     "shell.execute_reply": "2022-03-21T19:38:36.786222Z"
    },
    "papermill": {
     "duration": 4322.15088,
     "end_time": "2022-03-21T19:38:36.786509",
     "exception": false,
     "start_time": "2022-03-21T18:26:34.635629",
     "status": "completed"
    },
    "tags": []
   },
   "outputs": [
    {
     "name": "stdout",
     "output_type": "stream",
     "text": [
      "epoch: 1, [batch: 1 / 12600], examples_per_second: 26.6499, train_label_loss: 2.7778, \n"
     ]
    },
    {
     "name": "stdout",
     "output_type": "stream",
     "text": [
      "epoch: 1, [batch: 1260 / 12600], examples_per_second: 3138.8763, train_label_loss: 1.4291, \n"
     ]
    },
    {
     "name": "stdout",
     "output_type": "stream",
     "text": [
      "epoch: 1, [batch: 2520 / 12600], examples_per_second: 3134.2445, train_label_loss: 1.5772, \n"
     ]
    },
    {
     "name": "stdout",
     "output_type": "stream",
     "text": [
      "epoch: 1, [batch: 3780 / 12600], examples_per_second: 3126.7676, train_label_loss: 1.7068, \n"
     ]
    },
    {
     "name": "stdout",
     "output_type": "stream",
     "text": [
      "epoch: 1, [batch: 5040 / 12600], examples_per_second: 3117.3942, train_label_loss: 1.1377, \n"
     ]
    },
    {
     "name": "stdout",
     "output_type": "stream",
     "text": [
      "epoch: 1, [batch: 6300 / 12600], examples_per_second: 3129.4378, train_label_loss: 1.3762, \n"
     ]
    },
    {
     "name": "stdout",
     "output_type": "stream",
     "text": [
      "epoch: 1, [batch: 7560 / 12600], examples_per_second: 3129.7987, train_label_loss: 1.0021, \n"
     ]
    },
    {
     "name": "stdout",
     "output_type": "stream",
     "text": [
      "epoch: 1, [batch: 8820 / 12600], examples_per_second: 3114.5307, train_label_loss: 1.0323, \n"
     ]
    },
    {
     "name": "stdout",
     "output_type": "stream",
     "text": [
      "epoch: 1, [batch: 10080 / 12600], examples_per_second: 3117.2677, train_label_loss: 0.5773, \n"
     ]
    },
    {
     "name": "stdout",
     "output_type": "stream",
     "text": [
      "epoch: 1, [batch: 11340 / 12600], examples_per_second: 3142.4887, train_label_loss: 0.7233, \n"
     ]
    },
    {
     "name": "stdout",
     "output_type": "stream",
     "text": [
      "=============================================================\n",
      "epoch: 1, source_val_acc_label: 0.6338, target_val_acc_label: 0.5283, source_val_label_loss: 0.9378, target_val_label_loss: 1.2882, \n",
      "=============================================================\n"
     ]
    },
    {
     "name": "stdout",
     "output_type": "stream",
     "text": [
      "New best\n"
     ]
    },
    {
     "name": "stdout",
     "output_type": "stream",
     "text": [
      "epoch: 2, [batch: 1 / 12600], examples_per_second: 2.2269, train_label_loss: 0.7234, \n"
     ]
    },
    {
     "name": "stdout",
     "output_type": "stream",
     "text": [
      "epoch: 2, [batch: 1260 / 12600], examples_per_second: 3109.9185, train_label_loss: 0.9381, \n"
     ]
    },
    {
     "name": "stdout",
     "output_type": "stream",
     "text": [
      "epoch: 2, [batch: 2520 / 12600], examples_per_second: 3151.5719, train_label_loss: 1.0858, \n"
     ]
    },
    {
     "name": "stdout",
     "output_type": "stream",
     "text": [
      "epoch: 2, [batch: 3780 / 12600], examples_per_second: 3144.9814, train_label_loss: 0.8871, \n"
     ]
    },
    {
     "name": "stdout",
     "output_type": "stream",
     "text": [
      "epoch: 2, [batch: 5040 / 12600], examples_per_second: 3142.2636, train_label_loss: 1.0720, \n"
     ]
    },
    {
     "name": "stdout",
     "output_type": "stream",
     "text": [
      "epoch: 2, [batch: 6300 / 12600], examples_per_second: 3154.1195, train_label_loss: 0.6199, \n"
     ]
    },
    {
     "name": "stdout",
     "output_type": "stream",
     "text": [
      "epoch: 2, [batch: 7560 / 12600], examples_per_second: 3156.4094, train_label_loss: 0.7751, \n"
     ]
    },
    {
     "name": "stdout",
     "output_type": "stream",
     "text": [
      "epoch: 2, [batch: 8820 / 12600], examples_per_second: 3151.9630, train_label_loss: 0.8705, \n"
     ]
    },
    {
     "name": "stdout",
     "output_type": "stream",
     "text": [
      "epoch: 2, [batch: 10080 / 12600], examples_per_second: 3147.6031, train_label_loss: 0.8565, \n"
     ]
    },
    {
     "name": "stdout",
     "output_type": "stream",
     "text": [
      "epoch: 2, [batch: 11340 / 12600], examples_per_second: 3149.6999, train_label_loss: 0.8752, \n"
     ]
    },
    {
     "name": "stdout",
     "output_type": "stream",
     "text": [
      "=============================================================\n",
      "epoch: 2, source_val_acc_label: 0.6869, target_val_acc_label: 0.5633, source_val_label_loss: 0.8104, target_val_label_loss: 1.2221, \n",
      "=============================================================\n"
     ]
    },
    {
     "name": "stdout",
     "output_type": "stream",
     "text": [
      "New best\n"
     ]
    },
    {
     "name": "stdout",
     "output_type": "stream",
     "text": [
      "epoch: 3, [batch: 1 / 12600], examples_per_second: 2.2284, train_label_loss: 0.7950, \n"
     ]
    },
    {
     "name": "stdout",
     "output_type": "stream",
     "text": [
      "epoch: 3, [batch: 1260 / 12600], examples_per_second: 3139.0471, train_label_loss: 0.4396, \n"
     ]
    },
    {
     "name": "stdout",
     "output_type": "stream",
     "text": [
      "epoch: 3, [batch: 2520 / 12600], examples_per_second: 3147.0864, train_label_loss: 0.7524, \n"
     ]
    },
    {
     "name": "stdout",
     "output_type": "stream",
     "text": [
      "epoch: 3, [batch: 3780 / 12600], examples_per_second: 3138.6830, train_label_loss: 0.6129, \n"
     ]
    },
    {
     "name": "stdout",
     "output_type": "stream",
     "text": [
      "epoch: 3, [batch: 5040 / 12600], examples_per_second: 3146.8619, train_label_loss: 0.6879, \n"
     ]
    },
    {
     "name": "stdout",
     "output_type": "stream",
     "text": [
      "epoch: 3, [batch: 6300 / 12600], examples_per_second: 3151.9974, train_label_loss: 0.6897, \n"
     ]
    },
    {
     "name": "stdout",
     "output_type": "stream",
     "text": [
      "epoch: 3, [batch: 7560 / 12600], examples_per_second: 3158.7233, train_label_loss: 0.6217, \n"
     ]
    },
    {
     "name": "stdout",
     "output_type": "stream",
     "text": [
      "epoch: 3, [batch: 8820 / 12600], examples_per_second: 3144.0300, train_label_loss: 0.5365, \n"
     ]
    },
    {
     "name": "stdout",
     "output_type": "stream",
     "text": [
      "epoch: 3, [batch: 10080 / 12600], examples_per_second: 3144.4914, train_label_loss: 0.5367, \n"
     ]
    },
    {
     "name": "stdout",
     "output_type": "stream",
     "text": [
      "epoch: 3, [batch: 11340 / 12600], examples_per_second: 3156.7034, train_label_loss: 0.6299, \n"
     ]
    },
    {
     "name": "stdout",
     "output_type": "stream",
     "text": [
      "=============================================================\n",
      "epoch: 3, source_val_acc_label: 0.6907, target_val_acc_label: 0.5750, source_val_label_loss: 0.7945, target_val_label_loss: 1.1975, \n",
      "=============================================================\n"
     ]
    },
    {
     "name": "stdout",
     "output_type": "stream",
     "text": [
      "New best\n"
     ]
    },
    {
     "name": "stdout",
     "output_type": "stream",
     "text": [
      "epoch: 4, [batch: 1 / 12600], examples_per_second: 2.2213, train_label_loss: 0.5091, \n"
     ]
    },
    {
     "name": "stdout",
     "output_type": "stream",
     "text": [
      "epoch: 4, [batch: 1260 / 12600], examples_per_second: 3133.5962, train_label_loss: 0.6702, \n"
     ]
    },
    {
     "name": "stdout",
     "output_type": "stream",
     "text": [
      "epoch: 4, [batch: 2520 / 12600], examples_per_second: 3151.5913, train_label_loss: 0.5464, \n"
     ]
    },
    {
     "name": "stdout",
     "output_type": "stream",
     "text": [
      "epoch: 4, [batch: 3780 / 12600], examples_per_second: 3161.5715, train_label_loss: 0.6514, \n"
     ]
    },
    {
     "name": "stdout",
     "output_type": "stream",
     "text": [
      "epoch: 4, [batch: 5040 / 12600], examples_per_second: 3139.6947, train_label_loss: 0.4799, \n"
     ]
    },
    {
     "name": "stdout",
     "output_type": "stream",
     "text": [
      "epoch: 4, [batch: 6300 / 12600], examples_per_second: 3152.2315, train_label_loss: 0.5679, \n"
     ]
    },
    {
     "name": "stdout",
     "output_type": "stream",
     "text": [
      "epoch: 4, [batch: 7560 / 12600], examples_per_second: 3136.5904, train_label_loss: 0.8202, \n"
     ]
    },
    {
     "name": "stdout",
     "output_type": "stream",
     "text": [
      "epoch: 4, [batch: 8820 / 12600], examples_per_second: 3135.3991, train_label_loss: 0.3801, \n"
     ]
    },
    {
     "name": "stdout",
     "output_type": "stream",
     "text": [
      "epoch: 4, [batch: 10080 / 12600], examples_per_second: 3151.0056, train_label_loss: 0.5563, \n"
     ]
    },
    {
     "name": "stdout",
     "output_type": "stream",
     "text": [
      "epoch: 4, [batch: 11340 / 12600], examples_per_second: 3152.1611, train_label_loss: 0.6000, \n"
     ]
    },
    {
     "name": "stdout",
     "output_type": "stream",
     "text": [
      "=============================================================\n",
      "epoch: 4, source_val_acc_label: 0.6955, target_val_acc_label: 0.5775, source_val_label_loss: 0.8004, target_val_label_loss: 1.2228, \n",
      "=============================================================\n"
     ]
    },
    {
     "name": "stdout",
     "output_type": "stream",
     "text": [
      "New best\n"
     ]
    },
    {
     "name": "stdout",
     "output_type": "stream",
     "text": [
      "epoch: 5, [batch: 1 / 12600], examples_per_second: 2.2254, train_label_loss: 0.7315, \n"
     ]
    },
    {
     "name": "stdout",
     "output_type": "stream",
     "text": [
      "epoch: 5, [batch: 1260 / 12600], examples_per_second: 3135.4343, train_label_loss: 0.4028, \n"
     ]
    },
    {
     "name": "stdout",
     "output_type": "stream",
     "text": [
      "epoch: 5, [batch: 2520 / 12600], examples_per_second: 3159.3915, train_label_loss: 0.4126, \n"
     ]
    },
    {
     "name": "stdout",
     "output_type": "stream",
     "text": [
      "epoch: 5, [batch: 3780 / 12600], examples_per_second: 3153.5935, train_label_loss: 0.6663, \n"
     ]
    },
    {
     "name": "stdout",
     "output_type": "stream",
     "text": [
      "epoch: 5, [batch: 5040 / 12600], examples_per_second: 3151.3786, train_label_loss: 0.5904, \n"
     ]
    },
    {
     "name": "stdout",
     "output_type": "stream",
     "text": [
      "epoch: 5, [batch: 6300 / 12600], examples_per_second: 3164.3221, train_label_loss: 0.4054, \n"
     ]
    },
    {
     "name": "stdout",
     "output_type": "stream",
     "text": [
      "epoch: 5, [batch: 7560 / 12600], examples_per_second: 3153.9935, train_label_loss: 0.6381, \n"
     ]
    },
    {
     "name": "stdout",
     "output_type": "stream",
     "text": [
      "epoch: 5, [batch: 8820 / 12600], examples_per_second: 3147.7974, train_label_loss: 0.5114, \n"
     ]
    },
    {
     "name": "stdout",
     "output_type": "stream",
     "text": [
      "epoch: 5, [batch: 10080 / 12600], examples_per_second: 3144.9507, train_label_loss: 0.3033, \n"
     ]
    },
    {
     "name": "stdout",
     "output_type": "stream",
     "text": [
      "epoch: 5, [batch: 11340 / 12600], examples_per_second: 3149.7207, train_label_loss: 0.7710, \n"
     ]
    },
    {
     "name": "stdout",
     "output_type": "stream",
     "text": [
      "=============================================================\n",
      "epoch: 5, source_val_acc_label: 0.7134, target_val_acc_label: 0.5895, source_val_label_loss: 0.7849, target_val_label_loss: 1.2457, \n",
      "=============================================================\n"
     ]
    },
    {
     "name": "stdout",
     "output_type": "stream",
     "text": [
      "New best\n"
     ]
    },
    {
     "name": "stdout",
     "output_type": "stream",
     "text": [
      "epoch: 6, [batch: 1 / 12600], examples_per_second: 2.2321, train_label_loss: 0.5459, \n"
     ]
    },
    {
     "name": "stdout",
     "output_type": "stream",
     "text": [
      "epoch: 6, [batch: 1260 / 12600], examples_per_second: 3137.0423, train_label_loss: 0.6174, \n"
     ]
    },
    {
     "name": "stdout",
     "output_type": "stream",
     "text": [
      "epoch: 6, [batch: 2520 / 12600], examples_per_second: 3154.0822, train_label_loss: 0.7848, \n"
     ]
    },
    {
     "name": "stdout",
     "output_type": "stream",
     "text": [
      "epoch: 6, [batch: 3780 / 12600], examples_per_second: 3161.2731, train_label_loss: 0.3401, \n"
     ]
    },
    {
     "name": "stdout",
     "output_type": "stream",
     "text": [
      "epoch: 6, [batch: 5040 / 12600], examples_per_second: 3145.8691, train_label_loss: 0.2868, \n"
     ]
    },
    {
     "name": "stdout",
     "output_type": "stream",
     "text": [
      "epoch: 6, [batch: 6300 / 12600], examples_per_second: 3155.7706, train_label_loss: 0.5888, \n"
     ]
    },
    {
     "name": "stdout",
     "output_type": "stream",
     "text": [
      "epoch: 6, [batch: 7560 / 12600], examples_per_second: 3153.0191, train_label_loss: 0.5055, \n"
     ]
    },
    {
     "name": "stdout",
     "output_type": "stream",
     "text": [
      "epoch: 6, [batch: 8820 / 12600], examples_per_second: 3140.9214, train_label_loss: 0.5258, \n"
     ]
    },
    {
     "name": "stdout",
     "output_type": "stream",
     "text": [
      "epoch: 6, [batch: 10080 / 12600], examples_per_second: 3141.6499, train_label_loss: 0.3466, \n"
     ]
    },
    {
     "name": "stdout",
     "output_type": "stream",
     "text": [
      "epoch: 6, [batch: 11340 / 12600], examples_per_second: 3147.3539, train_label_loss: 0.3402, \n"
     ]
    },
    {
     "name": "stdout",
     "output_type": "stream",
     "text": [
      "=============================================================\n",
      "epoch: 6, source_val_acc_label: 0.7174, target_val_acc_label: 0.5950, source_val_label_loss: 0.8246, target_val_label_loss: 1.3058, \n",
      "=============================================================\n"
     ]
    },
    {
     "name": "stdout",
     "output_type": "stream",
     "text": [
      "New best\n"
     ]
    },
    {
     "name": "stdout",
     "output_type": "stream",
     "text": [
      "epoch: 7, [batch: 1 / 12600], examples_per_second: 2.2309, train_label_loss: 0.3696, \n"
     ]
    },
    {
     "name": "stdout",
     "output_type": "stream",
     "text": [
      "epoch: 7, [batch: 1260 / 12600], examples_per_second: 3149.7492, train_label_loss: 0.4705, \n"
     ]
    },
    {
     "name": "stdout",
     "output_type": "stream",
     "text": [
      "epoch: 7, [batch: 2520 / 12600], examples_per_second: 3150.5825, train_label_loss: 0.5434, \n"
     ]
    },
    {
     "name": "stdout",
     "output_type": "stream",
     "text": [
      "epoch: 7, [batch: 3780 / 12600], examples_per_second: 3153.3422, train_label_loss: 0.6734, \n"
     ]
    },
    {
     "name": "stdout",
     "output_type": "stream",
     "text": [
      "epoch: 7, [batch: 5040 / 12600], examples_per_second: 3132.4743, train_label_loss: 0.6223, \n"
     ]
    },
    {
     "name": "stdout",
     "output_type": "stream",
     "text": [
      "epoch: 7, [batch: 6300 / 12600], examples_per_second: 3142.3201, train_label_loss: 0.4323, \n"
     ]
    },
    {
     "name": "stdout",
     "output_type": "stream",
     "text": [
      "epoch: 7, [batch: 7560 / 12600], examples_per_second: 3148.9176, train_label_loss: 0.4016, \n"
     ]
    },
    {
     "name": "stdout",
     "output_type": "stream",
     "text": [
      "epoch: 7, [batch: 8820 / 12600], examples_per_second: 3146.9054, train_label_loss: 0.6017, \n"
     ]
    },
    {
     "name": "stdout",
     "output_type": "stream",
     "text": [
      "epoch: 7, [batch: 10080 / 12600], examples_per_second: 3160.5962, train_label_loss: 0.4140, \n"
     ]
    },
    {
     "name": "stdout",
     "output_type": "stream",
     "text": [
      "epoch: 7, [batch: 11340 / 12600], examples_per_second: 3156.4174, train_label_loss: 0.4811, \n"
     ]
    },
    {
     "name": "stdout",
     "output_type": "stream",
     "text": [
      "=============================================================\n",
      "epoch: 7, source_val_acc_label: 0.7061, target_val_acc_label: 0.5901, source_val_label_loss: 0.8281, target_val_label_loss: 1.2771, \n",
      "=============================================================\n"
     ]
    },
    {
     "name": "stdout",
     "output_type": "stream",
     "text": [
      "epoch: 8, [batch: 1 / 12600], examples_per_second: 2.2338, train_label_loss: 0.5849, \n"
     ]
    },
    {
     "name": "stdout",
     "output_type": "stream",
     "text": [
      "epoch: 8, [batch: 1260 / 12600], examples_per_second: 3134.7495, train_label_loss: 0.4073, \n"
     ]
    },
    {
     "name": "stdout",
     "output_type": "stream",
     "text": [
      "epoch: 8, [batch: 2520 / 12600], examples_per_second: 3157.7771, train_label_loss: 0.3690, \n"
     ]
    },
    {
     "name": "stdout",
     "output_type": "stream",
     "text": [
      "epoch: 8, [batch: 3780 / 12600], examples_per_second: 3162.4751, train_label_loss: 0.5396, \n"
     ]
    },
    {
     "name": "stdout",
     "output_type": "stream",
     "text": [
      "epoch: 8, [batch: 5040 / 12600], examples_per_second: 3151.9626, train_label_loss: 0.5275, \n"
     ]
    },
    {
     "name": "stdout",
     "output_type": "stream",
     "text": [
      "epoch: 8, [batch: 6300 / 12600], examples_per_second: 3147.7181, train_label_loss: 0.2495, \n"
     ]
    },
    {
     "name": "stdout",
     "output_type": "stream",
     "text": [
      "epoch: 8, [batch: 7560 / 12600], examples_per_second: 3164.0826, train_label_loss: 0.0945, \n"
     ]
    },
    {
     "name": "stdout",
     "output_type": "stream",
     "text": [
      "epoch: 8, [batch: 8820 / 12600], examples_per_second: 3146.5149, train_label_loss: 0.3704, \n"
     ]
    },
    {
     "name": "stdout",
     "output_type": "stream",
     "text": [
      "epoch: 8, [batch: 10080 / 12600], examples_per_second: 3150.2770, train_label_loss: 0.3705, \n"
     ]
    },
    {
     "name": "stdout",
     "output_type": "stream",
     "text": [
      "epoch: 8, [batch: 11340 / 12600], examples_per_second: 3147.9691, train_label_loss: 0.6719, \n"
     ]
    },
    {
     "name": "stdout",
     "output_type": "stream",
     "text": [
      "=============================================================\n",
      "epoch: 8, source_val_acc_label: 0.7142, target_val_acc_label: 0.5984, source_val_label_loss: 0.8628, target_val_label_loss: 1.3510, \n",
      "=============================================================\n"
     ]
    },
    {
     "name": "stdout",
     "output_type": "stream",
     "text": [
      "New best\n"
     ]
    },
    {
     "name": "stdout",
     "output_type": "stream",
     "text": [
      "epoch: 9, [batch: 1 / 12600], examples_per_second: 2.2273, train_label_loss: 0.3637, \n"
     ]
    },
    {
     "name": "stdout",
     "output_type": "stream",
     "text": [
      "epoch: 9, [batch: 1260 / 12600], examples_per_second: 3134.9443, train_label_loss: 0.4146, \n"
     ]
    },
    {
     "name": "stdout",
     "output_type": "stream",
     "text": [
      "epoch: 9, [batch: 2520 / 12600], examples_per_second: 3149.4160, train_label_loss: 0.4649, \n"
     ]
    },
    {
     "name": "stdout",
     "output_type": "stream",
     "text": [
      "epoch: 9, [batch: 3780 / 12600], examples_per_second: 3147.8638, train_label_loss: 0.2178, \n"
     ]
    },
    {
     "name": "stdout",
     "output_type": "stream",
     "text": [
      "epoch: 9, [batch: 5040 / 12600], examples_per_second: 3133.6481, train_label_loss: 0.2205, \n"
     ]
    },
    {
     "name": "stdout",
     "output_type": "stream",
     "text": [
      "epoch: 9, [batch: 6300 / 12600], examples_per_second: 3142.9773, train_label_loss: 0.3015, \n"
     ]
    },
    {
     "name": "stdout",
     "output_type": "stream",
     "text": [
      "epoch: 9, [batch: 7560 / 12600], examples_per_second: 3158.5580, train_label_loss: 0.7094, \n"
     ]
    },
    {
     "name": "stdout",
     "output_type": "stream",
     "text": [
      "epoch: 9, [batch: 8820 / 12600], examples_per_second: 3140.4340, train_label_loss: 0.3185, \n"
     ]
    },
    {
     "name": "stdout",
     "output_type": "stream",
     "text": [
      "epoch: 9, [batch: 10080 / 12600], examples_per_second: 3149.7791, train_label_loss: 0.7164, \n"
     ]
    },
    {
     "name": "stdout",
     "output_type": "stream",
     "text": [
      "epoch: 9, [batch: 11340 / 12600], examples_per_second: 3153.4436, train_label_loss: 0.3198, \n"
     ]
    },
    {
     "name": "stdout",
     "output_type": "stream",
     "text": [
      "=============================================================\n",
      "epoch: 9, source_val_acc_label: 0.7132, target_val_acc_label: 0.5949, source_val_label_loss: 0.8920, target_val_label_loss: 1.3963, \n",
      "=============================================================\n"
     ]
    },
    {
     "name": "stdout",
     "output_type": "stream",
     "text": [
      "epoch: 10, [batch: 1 / 12600], examples_per_second: 2.2335, train_label_loss: 0.3301, \n"
     ]
    },
    {
     "name": "stdout",
     "output_type": "stream",
     "text": [
      "epoch: 10, [batch: 1260 / 12600], examples_per_second: 3135.9793, train_label_loss: 0.5162, \n"
     ]
    },
    {
     "name": "stdout",
     "output_type": "stream",
     "text": [
      "epoch: 10, [batch: 2520 / 12600], examples_per_second: 3167.1682, train_label_loss: 0.3146, \n"
     ]
    },
    {
     "name": "stdout",
     "output_type": "stream",
     "text": [
      "epoch: 10, [batch: 3780 / 12600], examples_per_second: 3156.4632, train_label_loss: 0.2656, \n"
     ]
    },
    {
     "name": "stdout",
     "output_type": "stream",
     "text": [
      "epoch: 10, [batch: 5040 / 12600], examples_per_second: 3135.6538, train_label_loss: 0.3105, \n"
     ]
    },
    {
     "name": "stdout",
     "output_type": "stream",
     "text": [
      "epoch: 10, [batch: 6300 / 12600], examples_per_second: 3156.7915, train_label_loss: 0.4801, \n"
     ]
    },
    {
     "name": "stdout",
     "output_type": "stream",
     "text": [
      "epoch: 10, [batch: 7560 / 12600], examples_per_second: 3156.7674, train_label_loss: 0.4764, \n"
     ]
    },
    {
     "name": "stdout",
     "output_type": "stream",
     "text": [
      "epoch: 10, [batch: 8820 / 12600], examples_per_second: 3139.0904, train_label_loss: 0.4987, \n"
     ]
    },
    {
     "name": "stdout",
     "output_type": "stream",
     "text": [
      "epoch: 10, [batch: 10080 / 12600], examples_per_second: 3148.1585, train_label_loss: 0.3286, \n"
     ]
    },
    {
     "name": "stdout",
     "output_type": "stream",
     "text": [
      "epoch: 10, [batch: 11340 / 12600], examples_per_second: 3147.8777, train_label_loss: 0.2691, \n"
     ]
    },
    {
     "name": "stdout",
     "output_type": "stream",
     "text": [
      "=============================================================\n",
      "epoch: 10, source_val_acc_label: 0.7167, target_val_acc_label: 0.5939, source_val_label_loss: 0.9145, target_val_label_loss: 1.4416, \n",
      "=============================================================\n"
     ]
    },
    {
     "name": "stdout",
     "output_type": "stream",
     "text": [
      "epoch: 11, [batch: 1 / 12600], examples_per_second: 2.2211, train_label_loss: 0.1620, \n"
     ]
    },
    {
     "name": "stdout",
     "output_type": "stream",
     "text": [
      "epoch: 11, [batch: 1260 / 12600], examples_per_second: 3134.5906, train_label_loss: 0.2239, \n"
     ]
    },
    {
     "name": "stdout",
     "output_type": "stream",
     "text": [
      "epoch: 11, [batch: 2520 / 12600], examples_per_second: 3136.6326, train_label_loss: 0.2685, \n"
     ]
    },
    {
     "name": "stdout",
     "output_type": "stream",
     "text": [
      "epoch: 11, [batch: 3780 / 12600], examples_per_second: 3156.5066, train_label_loss: 0.2227, \n"
     ]
    },
    {
     "name": "stdout",
     "output_type": "stream",
     "text": [
      "epoch: 11, [batch: 5040 / 12600], examples_per_second: 3134.3390, train_label_loss: 0.0800, \n"
     ]
    },
    {
     "name": "stdout",
     "output_type": "stream",
     "text": [
      "epoch: 11, [batch: 6300 / 12600], examples_per_second: 3144.1170, train_label_loss: 0.1334, \n"
     ]
    },
    {
     "name": "stdout",
     "output_type": "stream",
     "text": [
      "epoch: 11, [batch: 7560 / 12600], examples_per_second: 3144.6251, train_label_loss: 0.2232, \n"
     ]
    },
    {
     "name": "stdout",
     "output_type": "stream",
     "text": [
      "epoch: 11, [batch: 8820 / 12600], examples_per_second: 3140.4362, train_label_loss: 0.3685, \n"
     ]
    },
    {
     "name": "stdout",
     "output_type": "stream",
     "text": [
      "epoch: 11, [batch: 10080 / 12600], examples_per_second: 3141.6940, train_label_loss: 0.1144, \n"
     ]
    },
    {
     "name": "stdout",
     "output_type": "stream",
     "text": [
      "epoch: 11, [batch: 11340 / 12600], examples_per_second: 3150.1156, train_label_loss: 0.1466, \n"
     ]
    },
    {
     "name": "stdout",
     "output_type": "stream",
     "text": [
      "=============================================================\n",
      "epoch: 11, source_val_acc_label: 0.7164, target_val_acc_label: 0.5953, source_val_label_loss: 0.9567, target_val_label_loss: 1.5061, \n",
      "=============================================================\n"
     ]
    },
    {
     "name": "stdout",
     "output_type": "stream",
     "text": [
      "epoch: 12, [batch: 1 / 12600], examples_per_second: 2.2141, train_label_loss: 0.2062, \n"
     ]
    },
    {
     "name": "stdout",
     "output_type": "stream",
     "text": [
      "epoch: 12, [batch: 1260 / 12600], examples_per_second: 3124.7656, train_label_loss: 0.0491, \n"
     ]
    },
    {
     "name": "stdout",
     "output_type": "stream",
     "text": [
      "epoch: 12, [batch: 2520 / 12600], examples_per_second: 3140.8284, train_label_loss: 0.2949, \n"
     ]
    },
    {
     "name": "stdout",
     "output_type": "stream",
     "text": [
      "epoch: 12, [batch: 3780 / 12600], examples_per_second: 3162.3665, train_label_loss: 0.1393, \n"
     ]
    },
    {
     "name": "stdout",
     "output_type": "stream",
     "text": [
      "epoch: 12, [batch: 5040 / 12600], examples_per_second: 3137.0513, train_label_loss: 0.0669, \n"
     ]
    },
    {
     "name": "stdout",
     "output_type": "stream",
     "text": [
      "epoch: 12, [batch: 6300 / 12600], examples_per_second: 3145.4750, train_label_loss: 0.1406, \n"
     ]
    },
    {
     "name": "stdout",
     "output_type": "stream",
     "text": [
      "epoch: 12, [batch: 7560 / 12600], examples_per_second: 3154.1305, train_label_loss: 0.1006, \n"
     ]
    },
    {
     "name": "stdout",
     "output_type": "stream",
     "text": [
      "epoch: 12, [batch: 8820 / 12600], examples_per_second: 3155.2649, train_label_loss: 0.2010, \n"
     ]
    },
    {
     "name": "stdout",
     "output_type": "stream",
     "text": [
      "epoch: 12, [batch: 10080 / 12600], examples_per_second: 3153.8777, train_label_loss: 0.3121, \n"
     ]
    },
    {
     "name": "stdout",
     "output_type": "stream",
     "text": [
      "epoch: 12, [batch: 11340 / 12600], examples_per_second: 3159.2832, train_label_loss: 0.1698, \n"
     ]
    },
    {
     "name": "stdout",
     "output_type": "stream",
     "text": [
      "=============================================================\n",
      "epoch: 12, source_val_acc_label: 0.7168, target_val_acc_label: 0.5954, source_val_label_loss: 1.0007, target_val_label_loss: 1.5677, \n",
      "=============================================================\n"
     ]
    },
    {
     "name": "stdout",
     "output_type": "stream",
     "text": [
      "Patience (3) exhausted\n"
     ]
    }
   ],
   "source": [
    "###################################\n",
    "# train\n",
    "###################################\n",
    "jig = PTN_Train_Eval_Test_Jig(model, p.BEST_MODEL_PATH, p.device)\n",
    "\n",
    "jig.train(\n",
    "    train_iterable=datasets.source.processed.train,\n",
    "    source_val_iterable=datasets.source.processed.val,\n",
    "    target_val_iterable=datasets.target.processed.val,\n",
    "    num_epochs=p.n_epoch,\n",
    "    num_logs_per_epoch=p.NUM_LOGS_PER_EPOCH,\n",
    "    patience=p.patience,\n",
    "    optimizer=optimizer,\n",
    "    criteria_for_best=p.criteria_for_best,\n",
    ")"
   ]
  },
  {
   "cell_type": "code",
   "execution_count": 14,
   "id": "31e8fabf",
   "metadata": {
    "execution": {
     "iopub.execute_input": "2022-03-21T19:38:36.859387Z",
     "iopub.status.busy": "2022-03-21T19:38:36.859120Z",
     "iopub.status.idle": "2022-03-21T19:38:36.877642Z",
     "shell.execute_reply": "2022-03-21T19:38:36.877250Z"
    },
    "papermill": {
     "duration": 0.056498,
     "end_time": "2022-03-21T19:38:36.877734",
     "exception": false,
     "start_time": "2022-03-21T19:38:36.821236",
     "status": "completed"
    },
    "tags": []
   },
   "outputs": [],
   "source": [
    "total_experiment_time_secs = time.time() - start_time_secs"
   ]
  },
  {
   "cell_type": "code",
   "execution_count": 15,
   "id": "87b9595b",
   "metadata": {
    "execution": {
     "iopub.execute_input": "2022-03-21T19:38:36.959675Z",
     "iopub.status.busy": "2022-03-21T19:38:36.959409Z",
     "iopub.status.idle": "2022-03-21T19:42:42.399345Z",
     "shell.execute_reply": "2022-03-21T19:42:42.399718Z"
    },
    "papermill": {
     "duration": 245.481901,
     "end_time": "2022-03-21T19:42:42.399850",
     "exception": false,
     "start_time": "2022-03-21T19:38:36.917949",
     "status": "completed"
    },
    "tags": []
   },
   "outputs": [],
   "source": [
    "###################################\n",
    "# Evaluate the model\n",
    "###################################\n",
    "source_test_label_accuracy, source_test_label_loss = jig.test(datasets.source.processed.test)\n",
    "target_test_label_accuracy, target_test_label_loss = jig.test(datasets.target.processed.test)\n",
    "\n",
    "source_val_label_accuracy, source_val_label_loss = jig.test(datasets.source.processed.val)\n",
    "target_val_label_accuracy, target_val_label_loss = jig.test(datasets.target.processed.val)\n",
    "\n",
    "history = jig.get_history()\n",
    "\n",
    "total_epochs_trained = len(history[\"epoch_indices\"])\n",
    "\n",
    "val_dl = Iterable_Aggregator((datasets.source.original.val,datasets.target.original.val))\n",
    "\n",
    "confusion = ptn_confusion_by_domain_over_dataloader(model, p.device, val_dl)\n",
    "per_domain_accuracy = per_domain_accuracy_from_confusion(confusion)\n",
    "\n",
    "# Add a key to per_domain_accuracy for if it was a source domain\n",
    "for domain, accuracy in per_domain_accuracy.items():\n",
    "    per_domain_accuracy[domain] = {\n",
    "        \"accuracy\": accuracy,\n",
    "        \"source?\": domain in p.domains_source\n",
    "    }\n",
    "\n",
    "# Do an independent accuracy assesment JUST TO BE SURE!\n",
    "# _source_test_label_accuracy = independent_accuracy_assesment(model, datasets.source.processed.test, p.device)\n",
    "# _target_test_label_accuracy = independent_accuracy_assesment(model, datasets.target.processed.test, p.device)\n",
    "# _source_val_label_accuracy = independent_accuracy_assesment(model, datasets.source.processed.val, p.device)\n",
    "# _target_val_label_accuracy = independent_accuracy_assesment(model, datasets.target.processed.val, p.device)\n",
    "\n",
    "# assert(_source_test_label_accuracy == source_test_label_accuracy)\n",
    "# assert(_target_test_label_accuracy == target_test_label_accuracy)\n",
    "# assert(_source_val_label_accuracy == source_val_label_accuracy)\n",
    "# assert(_target_val_label_accuracy == target_val_label_accuracy)\n",
    "\n",
    "experiment = {\n",
    "    \"experiment_name\": p.experiment_name,\n",
    "    \"parameters\": dict(p),\n",
    "    \"results\": {\n",
    "        \"source_test_label_accuracy\": source_test_label_accuracy,\n",
    "        \"source_test_label_loss\": source_test_label_loss,\n",
    "        \"target_test_label_accuracy\": target_test_label_accuracy,\n",
    "        \"target_test_label_loss\": target_test_label_loss,\n",
    "        \"source_val_label_accuracy\": source_val_label_accuracy,\n",
    "        \"source_val_label_loss\": source_val_label_loss,\n",
    "        \"target_val_label_accuracy\": target_val_label_accuracy,\n",
    "        \"target_val_label_loss\": target_val_label_loss,\n",
    "        \"total_epochs_trained\": total_epochs_trained,\n",
    "        \"total_experiment_time_secs\": total_experiment_time_secs,\n",
    "        \"confusion\": confusion,\n",
    "        \"per_domain_accuracy\": per_domain_accuracy,\n",
    "    },\n",
    "    \"history\": history,\n",
    "    \"dataset_metrics\": get_dataset_metrics(datasets, \"ptn\"),\n",
    "}"
   ]
  },
  {
   "cell_type": "code",
   "execution_count": 16,
   "id": "54a21829",
   "metadata": {
    "execution": {
     "iopub.execute_input": "2022-03-21T19:42:42.478657Z",
     "iopub.status.busy": "2022-03-21T19:42:42.478407Z",
     "iopub.status.idle": "2022-03-21T19:42:42.613931Z",
     "shell.execute_reply": "2022-03-21T19:42:42.614337Z"
    },
    "papermill": {
     "duration": 0.173142,
     "end_time": "2022-03-21T19:42:42.614467",
     "exception": false,
     "start_time": "2022-03-21T19:42:42.441325",
     "status": "completed"
    },
    "tags": []
   },
   "outputs": [
    {
     "data": {
      "image/png": "[encoded data removed]",
      "text/plain": [
       "<Figure size 1080x504 with 1 Axes>"
      ]
     },
     "metadata": {
      "needs_background": "light"
     },
     "output_type": "display_data"
    }
   ],
   "source": [
    "ax = get_loss_curve(experiment)\n",
    "plt.show()"
   ]
  },
  {
   "cell_type": "code",
   "execution_count": 17,
   "id": "fd8a0f60",
   "metadata": {
    "execution": {
     "iopub.execute_input": "2022-03-21T19:42:42.696801Z",
     "iopub.status.busy": "2022-03-21T19:42:42.696545Z",
     "iopub.status.idle": "2022-03-21T19:42:42.838642Z",
     "shell.execute_reply": "2022-03-21T19:42:42.838860Z"
    },
    "papermill": {
     "duration": 0.18385,
     "end_time": "2022-03-21T19:42:42.838941",
     "exception": false,
     "start_time": "2022-03-21T19:42:42.655091",
     "status": "completed"
    },
    "tags": []
   },
   "outputs": [
    {
     "data": {
      "text/plain": [
       "<AxesSubplot:title={'center':'Results'}>"
      ]
     },
     "execution_count": 17,
     "metadata": {},
     "output_type": "execute_result"
    },
    {
     "data": {
      "image/png": "[encoded data removed]",
      "text/plain": [
       "<Figure size 1080x504 with 1 Axes>"
      ]
     },
     "metadata": {
      "needs_background": "light"
     },
     "output_type": "display_data"
    }
   ],
   "source": [
    "get_results_table(experiment)"
   ]
  },
  {
   "cell_type": "code",
   "execution_count": 18,
   "id": "cf8dc689",
   "metadata": {
    "execution": {
     "iopub.execute_input": "2022-03-21T19:42:42.917069Z",
     "iopub.status.busy": "2022-03-21T19:42:42.916208Z",
     "iopub.status.idle": "2022-03-21T19:42:43.038044Z",
     "shell.execute_reply": "2022-03-21T19:42:43.037580Z"
    },
    "papermill": {
     "duration": 0.16067,
     "end_time": "2022-03-21T19:42:43.038151",
     "exception": false,
     "start_time": "2022-03-21T19:42:42.877481",
     "status": "completed"
    },
    "tags": []
   },
   "outputs": [
    {
     "data": {
      "text/plain": [
       "<AxesSubplot:title={'center':'Per Domain Validation Accuracy'}, xlabel='domain'>"
      ]
     },
     "execution_count": 18,
     "metadata": {},
     "output_type": "execute_result"
    },
    {
     "data": {
      "image/png": "[encoded data removed]",
      "text/plain": [
       "<Figure size 1080x504 with 1 Axes>"
      ]
     },
     "metadata": {
      "needs_background": "light"
     },
     "output_type": "display_data"
    }
   ],
   "source": [
    "get_domain_accuracies(experiment)"
   ]
  },
  {
   "cell_type": "code",
   "execution_count": 19,
   "id": "a74ae082",
   "metadata": {
    "execution": {
     "iopub.execute_input": "2022-03-21T19:42:43.122176Z",
     "iopub.status.busy": "2022-03-21T19:42:43.121920Z",
     "iopub.status.idle": "2022-03-21T19:42:43.139115Z",
     "shell.execute_reply": "2022-03-21T19:42:43.139515Z"
    },
    "papermill": {
     "duration": 0.057756,
     "end_time": "2022-03-21T19:42:43.139647",
     "exception": false,
     "start_time": "2022-03-21T19:42:43.081891",
     "status": "completed"
    },
    "tags": []
   },
   "outputs": [
    {
     "name": "stdout",
     "output_type": "stream",
     "text": [
      "Source Test Label Accuracy: 0.7135243055555556 Target Test Label Accuracy: 0.5966979166666667\n",
      "Source Val Label Accuracy: 0.71421875 Target Val Label Accuracy: 0.59840625\n"
     ]
    }
   ],
   "source": [
    "print(\"Source Test Label Accuracy:\", experiment[\"results\"][\"source_test_label_accuracy\"], \"Target Test Label Accuracy:\", experiment[\"results\"][\"target_test_label_accuracy\"])\n",
    "print(\"Source Val Label Accuracy:\", experiment[\"results\"][\"source_val_label_accuracy\"], \"Target Val Label Accuracy:\", experiment[\"results\"][\"target_val_label_accuracy\"])"
   ]
  },
  {
   "cell_type": "code",
   "execution_count": 20,
   "id": "dacca602",
   "metadata": {
    "execution": {
     "iopub.execute_input": "2022-03-21T19:42:43.220605Z",
     "iopub.status.busy": "2022-03-21T19:42:43.220349Z",
     "iopub.status.idle": "2022-03-21T19:42:43.233012Z",
     "shell.execute_reply": "2022-03-21T19:42:43.233226Z"
    },
    "papermill": {
     "duration": 0.052393,
     "end_time": "2022-03-21T19:42:43.233300",
     "exception": false,
     "start_time": "2022-03-21T19:42:43.180907",
     "status": "completed"
    },
    "tags": [
     "experiment_json"
    ]
   },
   "outputs": [
    {
     "data": {
      "text/plain": [
       "'{\"experiment_name\": \"tuned_1v2:oracle.run2\", \"parameters\": {\"experiment_name\": \"tuned_1v2:oracle.run2\", \"device\": \"cuda\", \"lr\": 0.0001, \"labels_source\": [\"3123D52\", \"3123D65\", \"3123D79\", \"3123D80\", \"3123D54\", \"3123D70\", \"3123D7B\", \"3123D89\", \"3123D58\", \"3123D76\", \"3123D7D\", \"3123EFE\", \"3123D64\", \"3123D78\", \"3123D7E\", \"3124E4A\"], \"labels_target\": [\"3123D52\", \"3123D65\", \"3123D79\", \"3123D80\", \"3123D54\", \"3123D70\", \"3123D7B\", \"3123D89\", \"3123D58\", \"3123D76\", \"3123D7D\", \"3123EFE\", \"3123D64\", \"3123D78\", \"3123D7E\", \"3124E4A\"], \"episode_transforms_source\": [], \"episode_transforms_target\": [], \"domains_source\": [8, 32, 50], \"domains_target\": [14, 20, 26, 38, 44], \"num_examples_per_domain_per_label_source\": -1, \"num_examples_per_domain_per_label_target\": -1, \"n_shot\": 3, \"n_way\": 16, \"n_query\": 2, \"train_k_factor\": 3, \"val_k_factor\": 2, \"test_k_factor\": 2, \"torch_default_dtype\": \"torch.float32\", \"n_epoch\": 50, \"patience\": 3, \"criteria_for_best\": \"target_accuracy\", \"x_net\": [{\"class\": \"nnReshape\", \"kargs\": {\"shape\": [-1, 1, 2, 256]}}, {\"class\": \"Conv2d\", \"kargs\": {\"in_channels\": 1, \"out_channels\": 256, \"kernel_size\": [1, 7], \"bias\": false, \"padding\": [0, 3]}}, {\"class\": \"ReLU\", \"kargs\": {\"inplace\": true}}, {\"class\": \"BatchNorm2d\", \"kargs\": {\"num_features\": 256}}, {\"class\": \"Conv2d\", \"kargs\": {\"in_channels\": 256, \"out_channels\": 80, \"kernel_size\": [2, 7], \"bias\": true, \"padding\": [0, 3]}}, {\"class\": \"ReLU\", \"kargs\": {\"inplace\": true}}, {\"class\": \"BatchNorm2d\", \"kargs\": {\"num_features\": 80}}, {\"class\": \"Flatten\", \"kargs\": {}}, {\"class\": \"Linear\", \"kargs\": {\"in_features\": 20480, \"out_features\": 256}}, {\"class\": \"ReLU\", \"kargs\": {\"inplace\": true}}, {\"class\": \"BatchNorm1d\", \"kargs\": {\"num_features\": 256}}, {\"class\": \"Linear\", \"kargs\": {\"in_features\": 256, \"out_features\": 256}}], \"NUM_LOGS_PER_EPOCH\": 10, \"BEST_MODEL_PATH\": \"./best_model.pth\", \"pickle_name\": \"oracle.Run2_10kExamples_stratified_ds.2022A.pkl\", \"x_transforms_source\": [\"unit_power\"], \"x_transforms_target\": [\"unit_power\"], \"dataset_seed\": 500, \"seed\": 500}, \"results\": {\"source_test_label_accuracy\": 0.7135243055555556, \"source_test_label_loss\": 0.8627845644950867, \"target_test_label_accuracy\": 0.5966979166666667, \"target_test_label_loss\": 1.3746297359466553, \"source_val_label_accuracy\": 0.71421875, \"source_val_label_loss\": 0.8628085255622864, \"target_val_label_accuracy\": 0.59840625, \"target_val_label_loss\": 1.3510360717773438, \"total_epochs_trained\": 12, \"total_experiment_time_secs\": 4405.476443767548, \"confusion\": {\"8\": {\"7\": {\"6\": 240, \"7\": 482, \"2\": 175, \"4\": 271, \"8\": 19, \"15\": 10, \"11\": 2, \"14\": 1}, \"10\": {\"1\": 21, \"0\": 187, \"10\": 747, \"5\": 133, \"13\": 67, \"14\": 45}, \"0\": {\"14\": 241, \"10\": 188, \"0\": 731, \"13\": 23, \"4\": 7, \"6\": 9, \"5\": 1}, \"11\": {\"11\": 570, \"15\": 253, \"12\": 108, \"8\": 264, \"4\": 1, \"6\": 2, \"7\": 1, \"14\": 1}, \"2\": {\"2\": 925, \"7\": 164, \"4\": 93, \"6\": 17, \"15\": 1}, \"14\": {\"13\": 171, \"14\": 664, \"6\": 73, \"8\": 1, \"0\": 229, \"10\": 40, \"7\": 2, \"4\": 20}, \"9\": {\"9\": 1200}, \"13\": {\"1\": 126, \"13\": 772, \"6\": 14, \"0\": 23, \"10\": 73, \"14\": 179, \"7\": 2, \"8\": 4, \"4\": 3, \"5\": 4}, \"8\": {\"8\": 932, \"11\": 148, \"7\": 13, \"15\": 84, \"6\": 9, \"13\": 8, \"4\": 6}, \"15\": {\"15\": 617, \"11\": 223, \"8\": 109, \"12\": 212, \"3\": 21, \"7\": 14, \"2\": 1, \"6\": 3}, \"4\": {\"4\": 415, \"7\": 305, \"6\": 361, \"14\": 21, \"2\": 88, \"0\": 6, \"8\": 4}, \"5\": {\"5\": 965, \"10\": 186, \"1\": 40, \"0\": 1, \"13\": 8}, \"3\": {\"3\": 1018, \"12\": 176, \"15\": 6}, \"1\": {\"1\": 988, \"13\": 142, \"5\": 40, \"10\": 29, \"14\": 1}, \"6\": {\"4\": 380, \"2\": 27, \"6\": 472, \"14\": 49, \"7\": 240, \"8\": 16, \"13\": 12, \"0\": 3, \"15\": 1}, \"12\": {\"12\": 893, \"15\": 114, \"3\": 159, \"11\": 34}}, \"50\": {\"11\": {\"11\": 1092, \"15\": 45, \"9\": 24, \"14\": 31, \"12\": 8}, \"2\": {\"2\": 1119, \"0\": 79, \"1\": 2}, \"12\": {\"12\": 1073, \"14\": 54, \"9\": 66, \"11\": 7}, \"8\": {\"8\": 1182, \"3\": 18}, \"4\": {\"4\": 577, \"5\": 309, \"6\": 252, \"1\": 41, \"10\": 8, \"7\": 7, \"13\": 3, \"0\": 3}, \"10\": {\"13\": 184, \"10\": 802, \"7\": 79, \"5\": 89, \"0\": 41, \"4\": 5}, \"14\": {\"14\": 1154, \"12\": 30, \"11\": 15, \"15\": 1}, \"13\": {\"13\": 552, \"7\": 452, \"10\": 149, \"4\": 3, \"5\": 44}, \"6\": {\"6\": 623, \"1\": 288, \"4\": 232, \"5\": 46, \"15\": 10, \"7\": 1}, \"9\": {\"9\": 1114, \"12\": 63, \"11\": 23}, \"15\": {\"15\": 1048, \"6\": 17, \"11\": 64, \"1\": 66, \"4\": 1, \"14\": 4}, \"1\": {\"15\": 66, \"6\": 209, \"1\": 893, \"4\": 25, \"11\": 1, \"14\": 3, \"5\": 2, \"0\": 1}, \"3\": {\"3\": 1154, \"8\": 46}, \"7\": {\"7\": 544, \"13\": 478, \"5\": 85, \"10\": 88, \"4\": 5}, \"0\": {\"0\": 1067, \"2\": 100, \"5\": 6, \"6\": 2, \"10\": 20, \"1\": 1, \"4\": 4}, \"5\": {\"5\": 593, \"13\": 54, \"4\": 340, \"10\": 77, \"7\": 72, \"0\": 7, \"6\": 51, \"1\": 6}}, \"32\": {\"4\": {\"13\": 234, \"8\": 77, \"0\": 148, \"7\": 81, \"4\": 403, \"5\": 140, \"11\": 77, \"2\": 39, \"3\": 1}, \"14\": {\"2\": 154, \"14\": 964, \"4\": 1, \"0\": 38, \"5\": 34, \"11\": 7, \"9\": 1, \"7\": 1}, \"5\": {\"8\": 148, \"5\": 445, \"4\": 139, \"14\": 87, \"0\": 153, \"2\": 116, \"13\": 78, \"3\": 9, \"7\": 6, \"15\": 2, \"11\": 17}, \"10\": {\"10\": 1198, \"1\": 2}, \"13\": {\"13\": 581, \"4\": 216, \"7\": 152, \"8\": 60, \"3\": 26, \"11\": 95, \"0\": 49, \"5\": 19, \"2\": 2}, \"9\": {\"9\": 1149, \"14\": 48, \"12\": 1, \"2\": 2}, \"6\": {\"6\": 1200}, \"3\": {\"3\": 1130, \"13\": 47, \"7\": 5, \"11\": 2, \"8\": 15, \"4\": 1}, \"15\": {\"15\": 1188, \"8\": 11, \"5\": 1}, \"7\": {\"11\": 274, \"7\": 639, \"13\": 160, \"5\": 5, \"4\": 83, \"2\": 13, \"0\": 23, \"3\": 1, \"8\": 2}, \"12\": {\"12\": 1200}, \"8\": {\"3\": 25, \"8\": 874, \"5\": 88, \"13\": 80, \"4\": 49, \"0\": 72, \"15\": 7, \"11\": 3, \"7\": 2}, \"11\": {\"11\": 518, \"13\": 114, \"7\": 271, \"0\": 152, \"4\": 85, \"2\": 43, \"5\": 9, \"8\": 5, \"3\": 2, \"14\": 1}, \"2\": {\"2\": 916, \"7\": 19, \"0\": 30, \"4\": 33, \"14\": 110, \"5\": 63, \"11\": 27, \"8\": 1, \"13\": 1}, \"1\": {\"1\": 1193, \"10\": 7}, \"0\": {\"4\": 140, \"0\": 563, \"5\": 174, \"13\": 51, \"8\": 53, \"11\": 141, \"2\": 55, \"14\": 14, \"7\": 9}}, \"20\": {\"7\": {\"7\": 727, \"5\": 35, \"3\": 181, \"8\": 123, \"10\": 55, \"6\": 30, \"2\": 20, \"4\": 5, \"15\": 1, \"11\": 1, \"9\": 8, \"13\": 2, \"14\": 12}, \"10\": {\"10\": 659, \"8\": 168, \"4\": 34, \"14\": 206, \"7\": 66, \"5\": 7, \"6\": 25, \"3\": 33, \"9\": 1, \"2\": 1}, \"0\": {\"1\": 207, \"0\": 554, \"12\": 159, \"5\": 54, \"15\": 50, \"4\": 129, \"2\": 10, \"9\": 20, \"3\": 11, \"13\": 5, \"8\": 1}, \"11\": {\"11\": 1194, \"7\": 5, \"6\": 1}, \"2\": {\"13\": 86, \"2\": 281, \"9\": 241, \"5\": 161, \"12\": 65, \"7\": 21, \"3\": 188, \"10\": 2, \"0\": 8, \"15\": 119, \"1\": 21, \"8\": 4, \"4\": 3}, \"14\": {\"14\": 676, \"6\": 101, \"8\": 192, \"10\": 213, \"4\": 5, \"7\": 13}, \"9\": {\"3\": 128, \"2\": 266, \"12\": 118, \"9\": 303, \"0\": 17, \"15\": 121, \"5\": 120, \"13\": 71, \"1\": 44, \"7\": 7, \"4\": 5}, \"13\": {\"15\": 215, \"13\": 760, \"9\": 62, \"2\": 73, \"1\": 28, \"11\": 1, \"12\": 20, \"0\": 12, \"5\": 23, \"3\": 6}, \"8\": {\"7\": 180, \"8\": 513, \"10\": 192, \"14\": 184, \"6\": 33, \"4\": 42, \"5\": 17, \"0\": 2, \"12\": 2, \"3\": 33, \"2\": 1, \"9\": 1}, \"15\": {\"5\": 80, \"1\": 118, \"15\": 309, \"12\": 114, \"2\": 127, \"9\": 119, \"13\": 261, \"0\": 47, \"3\": 21, \"4\": 3, \"7\": 1}, \"4\": {\"4\": 872, \"12\": 69, \"0\": 95, \"15\": 1, \"3\": 25, \"8\": 33, \"5\": 52, \"10\": 28, \"1\": 10, \"9\": 9, \"14\": 2, \"2\": 3, \"7\": 1}, \"5\": {\"4\": 49, \"2\": 189, \"12\": 107, \"3\": 207, \"7\": 53, \"0\": 80, \"5\": 235, \"9\": 132, \"15\": 67, \"1\": 40, \"8\": 17, \"13\": 21, \"14\": 1, \"10\": 2}, \"3\": {\"2\": 163, \"12\": 47, \"13\": 8, \"3\": 356, \"7\": 169, \"9\": 153, \"5\": 177, \"0\": 7, \"8\": 38, \"15\": 26, \"4\": 29, \"10\": 23, \"1\": 3, \"14\": 1}, \"1\": {\"1\": 536, \"12\": 239, \"15\": 101, \"0\": 195, \"9\": 31, \"13\": 34, \"4\": 15, \"3\": 3, \"2\": 14, \"5\": 32}, \"6\": {\"6\": 974, \"7\": 52, \"10\": 34, \"14\": 97, \"3\": 1, \"8\": 42}, \"12\": {\"12\": 349, \"4\": 52, \"1\": 209, \"0\": 176, \"3\": 32, \"9\": 113, \"15\": 98, \"5\": 110, \"13\": 13, \"2\": 46, \"10\": 1, \"8\": 1}}, \"14\": {\"14\": {\"3\": 85, \"14\": 699, \"2\": 137, \"6\": 208, \"4\": 27, \"13\": 17, \"0\": 13, \"5\": 13, \"10\": 1}, \"6\": {\"6\": 703, \"13\": 255, \"2\": 80, \"14\": 146, \"4\": 12, \"3\": 2, \"5\": 2}, \"5\": {\"4\": 371, \"5\": 472, \"2\": 120, \"1\": 141, \"3\": 88, \"14\": 6, \"6\": 1, \"15\": 1}, \"15\": {\"7\": 79, \"15\": 1120, \"13\": 1}, \"11\": {\"11\": 1120, \"9\": 6, \"12\": 50, \"10\": 24}, \"8\": {\"8\": 1200}, \"12\": {\"12\": 608, \"11\": 339, \"0\": 99, \"9\": 89, \"8\": 25, \"10\": 37, \"3\": 3}, \"1\": {\"1\": 995, \"5\": 127, \"4\": 69, \"3\": 3, \"8\": 2, \"7\": 2, \"2\": 2}, \"2\": {\"4\": 108, \"5\": 191, \"2\": 447, \"13\": 116, \"6\": 49, \"14\": 173, \"3\": 93, \"7\": 2, \"15\": 13, \"1\": 8}, \"13\": {\"14\": 9, \"13\": 824, \"6\": 279, \"2\": 83, \"5\": 2, \"4\": 3}, \"3\": {\"4\": 128, \"3\": 880, \"5\": 83, \"14\": 54, \"2\": 36, \"1\": 12, \"0\": 7}, \"0\": {\"0\": 1143, \"10\": 45, \"3\": 7, \"9\": 2, \"14\": 3}, \"9\": {\"9\": 1188, \"11\": 9, \"12\": 2, \"0\": 1}, \"4\": {\"4\": 560, \"5\": 340, \"2\": 101, \"3\": 122, \"1\": 66, \"14\": 7, \"6\": 3, \"13\": 1}, \"7\": {\"7\": 1167, \"15\": 33}, \"10\": {\"10\": 1023, \"0\": 147, \"11\": 26, \"14\": 1, \"12\": 2, \"3\": 1}}, \"38\": {\"4\": {\"4\": 1101, \"12\": 86, \"10\": 8, \"7\": 4, \"11\": 1}, \"14\": {\"14\": 619, \"2\": 272, \"12\": 136, \"5\": 21, \"11\": 118, \"7\": 22, \"13\": 4, \"10\": 5, \"8\": 2, \"4\": 1}, \"5\": {\"13\": 187, \"8\": 323, \"5\": 384, \"7\": 126, \"10\": 20, \"3\": 23, \"15\": 130, \"0\": 3, \"1\": 4}, \"10\": {\"10\": 574, \"5\": 43, \"7\": 432, \"0\": 21, \"8\": 42, \"3\": 52, \"15\": 11, \"13\": 22, \"4\": 3}, \"13\": {\"13\": 230, \"15\": 257, \"1\": 85, \"3\": 101, \"10\": 23, \"8\": 193, \"5\": 224, \"7\": 41, \"14\": 6, \"0\": 17, \"6\": 11, \"9\": 1, \"2\": 11}, \"9\": {\"9\": 748, \"6\": 444, \"3\": 4, \"0\": 3, \"13\": 1}, \"6\": {\"6\": 833, \"9\": 356, \"3\": 7, \"15\": 2, \"13\": 2}, \"3\": {\"3\": 333, \"0\": 326, \"7\": 61, \"10\": 78, \"5\": 40, \"9\": 73, \"8\": 66, \"13\": 61, \"15\": 94, \"6\": 63, \"1\": 5}, \"15\": {\"15\": 439, \"6\": 11, \"0\": 8, \"13\": 249, \"3\": 70, \"5\": 130, \"8\": 176, \"1\": 101, \"10\": 4, \"7\": 9, \"9\": 3}, \"7\": {\"10\": 367, \"7\": 537, \"8\": 100, \"5\": 120, \"15\": 9, \"13\": 37, \"3\": 27, \"12\": 1, \"0\": 2}, \"12\": {\"12\": 1129, \"4\": 44, \"7\": 1, \"14\": 17, \"11\": 9}, \"8\": {\"5\": 317, \"13\": 177, \"8\": 363, \"3\": 49, \"15\": 178, \"7\": 83, \"10\": 27, \"1\": 6}, \"11\": {\"11\": 935, \"14\": 120, \"12\": 137, \"4\": 4, \"2\": 4}, \"2\": {\"2\": 1052, \"14\": 148}, \"1\": {\"1\": 1060, \"15\": 89, \"13\": 42, \"5\": 3, \"8\": 5, \"9\": 1}, \"0\": {\"3\": 279, \"0\": 866, \"7\": 6, \"9\": 8, \"10\": 31, \"8\": 2, \"6\": 2, \"13\": 2, \"5\": 1, \"15\": 3}}, \"44\": {\"8\": {\"0\": 448, \"14\": 10, \"8\": 699, \"5\": 28, \"15\": 15}, \"11\": {\"11\": 1130, \"7\": 8, \"6\": 59, \"9\": 3}, \"14\": {\"14\": 902, \"5\": 95, \"4\": 80, \"15\": 122, \"13\": 1}, \"10\": {\"10\": 1125, \"1\": 30, \"12\": 44, \"7\": 1}, \"3\": {\"3\": 1004, \"12\": 67, \"1\": 129}, \"15\": {\"15\": 990, \"14\": 136, \"4\": 63, \"0\": 1, \"5\": 2, \"8\": 8}, \"2\": {\"2\": 633, \"7\": 221, \"9\": 333, \"3\": 6, \"1\": 6, \"6\": 1}, \"12\": {\"1\": 323, \"12\": 808, \"3\": 63, \"10\": 6}, \"4\": {\"4\": 1046, \"13\": 25, \"15\": 46, \"14\": 83}, \"1\": {\"3\": 163, \"1\": 670, \"12\": 358, \"10\": 7, \"7\": 1, \"9\": 1}, \"0\": {\"8\": 553, \"0\": 629, \"5\": 12, \"15\": 3, \"14\": 3}, \"9\": {\"9\": 465, \"7\": 301, \"2\": 390, \"6\": 41, \"13\": 2, \"1\": 1}, \"5\": {\"5\": 1074, \"14\": 110, \"8\": 8, \"0\": 5, \"15\": 3}, \"6\": {\"6\": 1077, \"9\": 61, \"7\": 18, \"2\": 7, \"11\": 25, \"13\": 12}, \"7\": {\"9\": 309, \"7\": 595, \"2\": 274, \"6\": 13, \"1\": 8, \"11\": 1}, \"13\": {\"13\": 1123, \"6\": 25, \"4\": 49, \"14\": 3}}, \"26\": {\"6\": {\"6\": 761, \"9\": 132, \"5\": 76, \"8\": 38, \"13\": 71, \"10\": 98, \"14\": 14, \"0\": 6, \"1\": 3, \"7\": 1}, \"11\": {\"11\": 1198, \"12\": 2}, \"5\": {\"6\": 164, \"2\": 77, \"9\": 130, \"5\": 305, \"13\": 302, \"7\": 101, \"14\": 3, \"3\": 30, \"15\": 24, \"8\": 48, \"10\": 11, \"0\": 1, \"4\": 4}, \"14\": {\"14\": 298, \"0\": 216, \"10\": 180, \"1\": 278, \"4\": 78, \"8\": 113, \"6\": 11, \"2\": 8, \"9\": 9, \"5\": 2, \"7\": 7}, \"2\": {\"9\": 46, \"7\": 324, \"2\": 289, \"4\": 130, \"5\": 45, \"15\": 121, \"3\": 126, \"8\": 88, \"14\": 10, \"0\": 10, \"13\": 6, \"1\": 3, \"10\": 2}, \"7\": {\"7\": 337, \"8\": 101, \"3\": 96, \"2\": 302, \"15\": 116, \"9\": 63, \"4\": 86, \"5\": 67, \"13\": 10, \"1\": 4, \"10\": 4, \"6\": 2, \"0\": 9, \"14\": 3}, \"3\": {\"2\": 117, \"3\": 549, \"7\": 88, \"15\": 365, \"4\": 71, \"9\": 1, \"0\": 2, \"8\": 4, \"5\": 3}, \"4\": {\"7\": 90, \"0\": 130, \"2\": 107, \"1\": 29, \"4\": 540, \"3\": 67, \"14\": 62, \"9\": 4, \"15\": 71, \"8\": 66, \"5\": 4, \"10\": 30}, \"9\": {\"9\": 487, \"5\": 177, \"0\": 13, \"8\": 158, \"2\": 39, \"7\": 63, \"14\": 14, \"13\": 105, \"6\": 107, \"10\": 18, \"15\": 8, \"3\": 3, \"4\": 7, \"1\": 1}, \"12\": {\"12\": 1196, \"11\": 4}, \"0\": {\"9\": 15, \"0\": 352, \"4\": 143, \"8\": 96, \"10\": 154, \"1\": 153, \"14\": 231, \"2\": 20, \"7\": 26, \"6\": 6, \"15\": 2, \"3\": 1, \"5\": 1}, \"10\": {\"1\": 158, \"2\": 15, \"0\": 173, \"8\": 77, \"10\": 343, \"6\": 133, \"14\": 177, \"7\": 13, \"4\": 84, \"9\": 10, \"3\": 2, \"12\": 3, \"5\": 9, \"15\": 3}, \"8\": {\"8\": 375, \"14\": 86, \"9\": 176, \"7\": 94, \"1\": 24, \"2\": 106, \"6\": 44, \"4\": 58, \"0\": 90, \"10\": 74, \"5\": 61, \"3\": 3, \"13\": 7, \"15\": 2}, \"13\": {\"13\": 773, \"5\": 240, \"9\": 116, \"6\": 47, \"8\": 9, \"2\": 6, \"7\": 9}, \"1\": {\"0\": 171, \"1\": 555, \"14\": 289, \"10\": 142, \"8\": 16, \"4\": 22, \"6\": 4, \"5\": 1}, \"15\": {\"9\": 9, \"15\": 469, \"3\": 377, \"4\": 67, \"7\": 134, \"2\": 119, \"0\": 7, \"5\": 10, \"8\": 7, \"13\": 1}}}, \"per_domain_accuracy\": {\"8\": {\"accuracy\": 0.6453645833333334, \"source?\": true}, \"50\": {\"accuracy\": 0.7597395833333334, \"source?\": true}, \"32\": {\"accuracy\": 0.7375520833333333, \"source?\": true}, \"20\": {\"accuracy\": 0.4842708333333333, \"source?\": false}, \"14\": {\"accuracy\": 0.7369270833333333, \"source?\": false}, \"38\": {\"accuracy\": 0.5834895833333333, \"source?\": false}, \"44\": {\"accuracy\": 0.7276041666666667, \"source?\": false}, \"26\": {\"accuracy\": 0.4597395833333333, \"source?\": false}}}, \"history\": {\"epoch_indices\": [1, 2, 3, 4, 5, 6, 7, 8, 9, 10, 11, 12], \"train_label_loss\": [1.2586936804581257, 0.798126463583774, 0.6876332453721099, 0.6141911172689426, 0.546202630614714, 0.47889293145861417, 0.4262764553276319, 0.37701366453475893, 0.3340610430649822, 0.2944467256342371, 0.2611563562602544, 0.2335507822317988], \"source_val_label_loss\": [0.9377710223197937, 0.810357928276062, 0.794515073299408, 0.8003631830215454, 0.7848982810974121, 0.8246253132820129, 0.8281480669975281, 0.8628085255622864, 0.8920042514801025, 0.9144778847694397, 0.95671546459198, 1.0006887912750244], \"target_val_label_loss\": [1.2882119417190552, 1.2221325635910034, 1.1974526643753052, 1.2227610349655151, 1.2457362413406372, 1.305755853652954, 1.2771401405334473, 1.3510360717773438, 1.3962690830230713, 1.441601037979126, 1.5061137676239014, 1.5676783323287964], \"source_val_acc_label\": [0.6338020833333333, 0.6869270833333333, 0.6907118055555556, 0.6954513888888889, 0.7134201388888889, 0.7174305555555556, 0.7061458333333334, 0.71421875, 0.7131944444444445, 0.7166666666666667, 0.7164236111111111, 0.7168055555555556], \"target_val_acc_label\": [0.5282604166666667, 0.5633333333333334, 0.575, 0.5774895833333333, 0.58953125, 0.5950208333333333, 0.5901458333333334, 0.59840625, 0.5949479166666667, 0.59390625, 0.59534375, 0.5953854166666667]}, \"dataset_metrics\": {\"source\": {\"train\": {\"n_unique_x\": 336000, \"n_unique_y\": 16, \"n_batch/episode\": 12600}, \"val\": {\"n_unique_x\": 72000, \"n_unique_y\": 16, \"n_batch/episode\": 1800}, \"test\": {\"n_unique_x\": 72000, \"n_unique_y\": 16, \"n_batch/episode\": 1800}}, \"target\": {\"train\": {\"n_unique_x\": 560000, \"n_unique_y\": 16, \"n_batch/episode\": 21000}, \"val\": {\"n_unique_x\": 120000, \"n_unique_y\": 16, \"n_batch/episode\": 3000}, \"test\": {\"n_unique_x\": 120000, \"n_unique_y\": 16, \"n_batch/episode\": 3000}}}}'"
      ]
     },
     "execution_count": 20,
     "metadata": {},
     "output_type": "execute_result"
    }
   ],
   "source": [
    "json.dumps(experiment)"
   ]
  }
 ],
 "metadata": {
  "celltoolbar": "Tags",
  "kernelspec": {
   "display_name": "Python 3 (ipykernel)",
   "language": "python",
   "name": "python3"
  },
  "language_info": {
   "codemirror_mode": {
    "name": "ipython",
    "version": 3
   },
   "file_extension": ".py",
   "mimetype": "text/x-python",
   "name": "python",
   "nbconvert_exporter": "python",
   "pygments_lexer": "ipython3",
   "version": "3.8.10"
  },
  "papermill": {
   "default_parameters": {},
   "duration": 4656.431473,
   "end_time": "2022-03-21T19:42:45.886004",
   "environment_variables": {},
   "exception": null,
   "input_path": "/mnt/wd500GB/CSC500/csc500-main/csc500-notebooks/templates/ptn_template.ipynb",
   "output_path": "trial.ipynb",
   "parameters": {
    "parameters": {
     "BEST_MODEL_PATH": "./best_model.pth",
     "NUM_LOGS_PER_EPOCH": 10,
     "criteria_for_best": "target_accuracy",
     "dataset_seed": 500,
     "device": "cuda",
     "domains_source": [
      8,
      32,
      50
     ],
     "domains_target": [
      14,
      20,
      26,
      38,
      44
     ],
     "episode_transforms_source": [],
     "episode_transforms_target": [],
     "experiment_name": "tuned_1v2:oracle.run2",
     "labels_source": [
      "3123D52",
      "3123D65",
      "3123D79",
      "3123D80",
      "3123D54",
      "3123D70",
      "3123D7B",
      "3123D89",
      "3123D58",
      "3123D76",
      "3123D7D",
      "3123EFE",
      "3123D64",
      "3123D78",
      "3123D7E",
      "3124E4A"
     ],
     "labels_target": [
      "3123D52",
      "3123D65",
      "3123D79",
      "3123D80",
      "3123D54",
      "3123D70",
      "3123D7B",
      "3123D89",
      "3123D58",
      "3123D76",
      "3123D7D",
      "3123EFE",
      "3123D64",
      "3123D78",
      "3123D7E",
      "3124E4A"
     ],
     "lr": 0.0001,
     "n_epoch": 50,
     "n_query": 2,
     "n_shot": 3,
     "n_way": 16,
     "num_examples_per_domain_per_label_source": -1,
     "num_examples_per_domain_per_label_target": -1,
     "patience": 3,
     "pickle_name": "oracle.Run2_10kExamples_stratified_ds.2022A.pkl",
     "seed": 500,
     "test_k_factor": 2,
     "torch_default_dtype": "torch.float32",
     "train_k_factor": 3,
     "val_k_factor": 2,
     "x_net": [
      {
       "class": "nnReshape",
       "kargs": {
        "shape": [
         -1,
         1,
         2,
         256
        ]
       }
      },
      {
       "class": "Conv2d",
       "kargs": {
        "bias": false,
        "in_channels": 1,
        "kernel_size": [
         1,
         7
        ],
        "out_channels": 256,
        "padding": [
         0,
         3
        ]
       }
      },
      {
       "class": "ReLU",
       "kargs": {
        "inplace": true
       }
      },
      {
       "class": "BatchNorm2d",
       "kargs": {
        "num_features": 256
       }
      },
      {
       "class": "Conv2d",
       "kargs": {
        "bias": true,
        "in_channels": 256,
        "kernel_size": [
         2,
         7
        ],
        "out_channels": 80,
        "padding": [
         0,
         3
        ]
       }
      },
      {
       "class": "ReLU",
       "kargs": {
        "inplace": true
       }
      },
      {
       "class": "BatchNorm2d",
       "kargs": {
        "num_features": 80
       }
      },
      {
       "class": "Flatten",
       "kargs": {}
      },
      {
       "class": "Linear",
       "kargs": {
        "in_features": 20480,
        "out_features": 256
       }
      },
      {
       "class": "ReLU",
       "kargs": {
        "inplace": true
       }
      },
      {
       "class": "BatchNorm1d",
       "kargs": {
        "num_features": 256
       }
      },
      {
       "class": "Linear",
       "kargs": {
        "in_features": 256,
        "out_features": 256
       }
      }
     ],
     "x_transforms_source": [
      "unit_power"
     ],
     "x_transforms_target": [
      "unit_power"
     ]
    }
   },
   "start_time": "2022-03-21T18:25:09.454531",
   "version": "2.3.4"
  }
 },
 "nbformat": 4,
 "nbformat_minor": 5
}