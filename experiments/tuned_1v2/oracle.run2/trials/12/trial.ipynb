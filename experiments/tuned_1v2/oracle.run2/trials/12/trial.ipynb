{
 "cells": [
  {
   "cell_type": "markdown",
   "id": "9fea5f46",
   "metadata": {
    "papermill": {
     "duration": 0.013259,
     "end_time": "2022-03-21T20:54:30.394808",
     "exception": false,
     "start_time": "2022-03-21T20:54:30.381549",
     "status": "completed"
    },
    "tags": []
   },
   "source": [
    "# PTN Template\n",
    "This notebook serves as a template for single dataset PTN experiments  \n",
    "It can be run on its own by setting STANDALONE to True (do a find for \"STANDALONE\" to see where)  \n",
    "But it is intended to be executed as part of a *papermill.py script. See any of the   \n",
    "experimentes with a papermill script to get started with that workflow.  "
   ]
  },
  {
   "cell_type": "code",
   "execution_count": 1,
   "id": "0902182a",
   "metadata": {
    "execution": {
     "iopub.execute_input": "2022-03-21T20:54:30.423568Z",
     "iopub.status.busy": "2022-03-21T20:54:30.423260Z",
     "iopub.status.idle": "2022-03-21T20:54:31.403719Z",
     "shell.execute_reply": "2022-03-21T20:54:31.403188Z"
    },
    "papermill": {
     "duration": 0.999509,
     "end_time": "2022-03-21T20:54:31.403833",
     "exception": false,
     "start_time": "2022-03-21T20:54:30.404324",
     "status": "completed"
    },
    "tags": []
   },
   "outputs": [],
   "source": [
    "%load_ext autoreload\n",
    "%autoreload 2\n",
    "%matplotlib inline\n",
    "\n",
    "    \n",
    "import os, json, sys, time, random\n",
    "import numpy as np\n",
    "import torch\n",
    "from torch.optim import Adam\n",
    "from  easydict import EasyDict\n",
    "import matplotlib.pyplot as plt\n",
    "\n",
    "from steves_models.steves_ptn import Steves_Prototypical_Network\n",
    "\n",
    "from steves_utils.lazy_iterable_wrapper import Lazy_Iterable_Wrapper\n",
    "from steves_utils.iterable_aggregator import Iterable_Aggregator\n",
    "from steves_utils.ptn_train_eval_test_jig import  PTN_Train_Eval_Test_Jig\n",
    "from steves_utils.torch_sequential_builder import build_sequential\n",
    "from steves_utils.torch_utils import get_dataset_metrics, ptn_confusion_by_domain_over_dataloader\n",
    "from steves_utils.utils_v2 import (per_domain_accuracy_from_confusion, get_datasets_base_path)\n",
    "from steves_utils.PTN.utils import independent_accuracy_assesment\n",
    "\n",
    "from steves_utils.stratified_dataset.episodic_accessor import Episodic_Accessor_Factory\n",
    "\n",
    "from steves_utils.ptn_do_report import (\n",
    "    get_loss_curve,\n",
    "    get_results_table,\n",
    "    get_parameters_table,\n",
    "    get_domain_accuracies,\n",
    ")\n",
    "\n",
    "from steves_utils.transforms import get_chained_transform"
   ]
  },
  {
   "cell_type": "markdown",
   "id": "41c840b4",
   "metadata": {
    "papermill": {
     "duration": 0.009309,
     "end_time": "2022-03-21T20:54:31.431801",
     "exception": false,
     "start_time": "2022-03-21T20:54:31.422492",
     "status": "completed"
    },
    "tags": []
   },
   "source": [
    "# Required Parameters\n",
    "These are allowed parameters, not defaults\n",
    "Each of these values need to be present in the injected parameters (the notebook will raise an exception if they are not present)\n",
    "\n",
    "Papermill uses the cell tag \"parameters\" to inject the real parameters below this cell.\n",
    "Enable tags to see what I mean"
   ]
  },
  {
   "cell_type": "code",
   "execution_count": 2,
   "id": "fd44eb83",
   "metadata": {
    "execution": {
     "iopub.execute_input": "2022-03-21T20:54:31.453175Z",
     "iopub.status.busy": "2022-03-21T20:54:31.452917Z",
     "iopub.status.idle": "2022-03-21T20:54:31.468648Z",
     "shell.execute_reply": "2022-03-21T20:54:31.468161Z"
    },
    "papermill": {
     "duration": 0.027821,
     "end_time": "2022-03-21T20:54:31.468755",
     "exception": false,
     "start_time": "2022-03-21T20:54:31.440934",
     "status": "completed"
    },
    "tags": []
   },
   "outputs": [],
   "source": [
    "required_parameters = {\n",
    "    \"experiment_name\",\n",
    "    \"lr\",\n",
    "    \"device\",\n",
    "    \"seed\",\n",
    "    \"dataset_seed\",\n",
    "    \"labels_source\",\n",
    "    \"labels_target\",\n",
    "    \"domains_source\",\n",
    "    \"domains_target\",\n",
    "    \"num_examples_per_domain_per_label_source\",\n",
    "    \"num_examples_per_domain_per_label_target\",\n",
    "    \"n_shot\",\n",
    "    \"n_way\",\n",
    "    \"n_query\",\n",
    "    \"train_k_factor\",\n",
    "    \"val_k_factor\",\n",
    "    \"test_k_factor\",\n",
    "    \"n_epoch\",\n",
    "    \"patience\",\n",
    "    \"criteria_for_best\",\n",
    "    \"x_transforms_source\",\n",
    "    \"x_transforms_target\",\n",
    "    \"episode_transforms_source\",\n",
    "    \"episode_transforms_target\",\n",
    "    \"pickle_name\",\n",
    "    \"x_net\",\n",
    "    \"NUM_LOGS_PER_EPOCH\",\n",
    "    \"BEST_MODEL_PATH\",\n",
    "    \"torch_default_dtype\"\n",
    "}"
   ]
  },
  {
   "cell_type": "code",
   "execution_count": 3,
   "id": "fa3f0049",
   "metadata": {
    "execution": {
     "iopub.execute_input": "2022-03-21T20:54:31.498376Z",
     "iopub.status.busy": "2022-03-21T20:54:31.498090Z",
     "iopub.status.idle": "2022-03-21T20:54:31.510422Z",
     "shell.execute_reply": "2022-03-21T20:54:31.509978Z"
    },
    "papermill": {
     "duration": 0.027356,
     "end_time": "2022-03-21T20:54:31.510510",
     "exception": false,
     "start_time": "2022-03-21T20:54:31.483154",
     "status": "completed"
    },
    "tags": [
     "parameters"
    ]
   },
   "outputs": [],
   "source": [
    "\n",
    "\n",
    "standalone_parameters = {}\n",
    "standalone_parameters[\"experiment_name\"] = \"STANDALONE PTN\"\n",
    "standalone_parameters[\"lr\"] = 0.0001\n",
    "standalone_parameters[\"device\"] = \"cuda\"\n",
    "\n",
    "standalone_parameters[\"seed\"] = 1337\n",
    "standalone_parameters[\"dataset_seed\"] = 1337\n",
    "\n",
    "\n",
    "standalone_parameters[\"num_examples_per_domain_per_label_source\"]=100\n",
    "standalone_parameters[\"num_examples_per_domain_per_label_target\"]=100\n",
    "\n",
    "standalone_parameters[\"n_shot\"] = 3\n",
    "standalone_parameters[\"n_query\"]  = 2\n",
    "standalone_parameters[\"train_k_factor\"] = 1\n",
    "standalone_parameters[\"val_k_factor\"] = 2\n",
    "standalone_parameters[\"test_k_factor\"] = 2\n",
    "\n",
    "\n",
    "standalone_parameters[\"n_epoch\"] = 100\n",
    "\n",
    "standalone_parameters[\"patience\"] = 10\n",
    "standalone_parameters[\"criteria_for_best\"] = \"target_accuracy\"\n",
    "\n",
    "standalone_parameters[\"x_transforms_source\"] = [\"unit_power\"]\n",
    "standalone_parameters[\"x_transforms_target\"] = [\"unit_power\"]\n",
    "standalone_parameters[\"episode_transforms_source\"] = []\n",
    "standalone_parameters[\"episode_transforms_target\"] = []\n",
    "\n",
    "standalone_parameters[\"torch_default_dtype\"] = \"torch.float32\" \n",
    "\n",
    "\n",
    "\n",
    "standalone_parameters[\"x_net\"] =     [\n",
    "    {\"class\": \"nnReshape\", \"kargs\": {\"shape\":[-1, 1, 2, 256]}},\n",
    "    {\"class\": \"Conv2d\", \"kargs\": { \"in_channels\":1, \"out_channels\":256, \"kernel_size\":(1,7), \"bias\":False, \"padding\":(0,3), },},\n",
    "    {\"class\": \"ReLU\", \"kargs\": {\"inplace\": True}},\n",
    "    {\"class\": \"BatchNorm2d\", \"kargs\": {\"num_features\":256}},\n",
    "\n",
    "    {\"class\": \"Conv2d\", \"kargs\": { \"in_channels\":256, \"out_channels\":80, \"kernel_size\":(2,7), \"bias\":True, \"padding\":(0,3), },},\n",
    "    {\"class\": \"ReLU\", \"kargs\": {\"inplace\": True}},\n",
    "    {\"class\": \"BatchNorm2d\", \"kargs\": {\"num_features\":80}},\n",
    "    {\"class\": \"Flatten\", \"kargs\": {}},\n",
    "\n",
    "    {\"class\": \"Linear\", \"kargs\": {\"in_features\": 80*256, \"out_features\": 256}}, # 80 units per IQ pair\n",
    "    {\"class\": \"ReLU\", \"kargs\": {\"inplace\": True}},\n",
    "    {\"class\": \"BatchNorm1d\", \"kargs\": {\"num_features\":256}},\n",
    "\n",
    "    {\"class\": \"Linear\", \"kargs\": {\"in_features\": 256, \"out_features\": 256}},\n",
    "]\n",
    "\n",
    "# Parameters relevant to results\n",
    "# These parameters will basically never need to change\n",
    "standalone_parameters[\"NUM_LOGS_PER_EPOCH\"] = 10\n",
    "standalone_parameters[\"BEST_MODEL_PATH\"] = \"./best_model.pth\"\n",
    "\n",
    "# uncomment for CORES dataset\n",
    "from steves_utils.CORES.utils import (\n",
    "    ALL_NODES,\n",
    "    ALL_NODES_MINIMUM_1000_EXAMPLES,\n",
    "    ALL_DAYS\n",
    ")\n",
    "\n",
    "\n",
    "standalone_parameters[\"labels_source\"] = ALL_NODES\n",
    "standalone_parameters[\"labels_target\"] = ALL_NODES\n",
    "\n",
    "standalone_parameters[\"domains_source\"] = [1]\n",
    "standalone_parameters[\"domains_target\"] = [2,3,4,5]\n",
    "\n",
    "standalone_parameters[\"pickle_name\"] = \"cores.stratified_ds.2022A.pkl\"\n",
    "\n",
    "\n",
    "# Uncomment these for ORACLE dataset\n",
    "# from steves_utils.ORACLE.utils_v2 import (\n",
    "#     ALL_DISTANCES_FEET,\n",
    "#     ALL_RUNS,\n",
    "#     ALL_SERIAL_NUMBERS,\n",
    "# )\n",
    "# standalone_parameters[\"labels_source\"] = ALL_SERIAL_NUMBERS\n",
    "# standalone_parameters[\"labels_target\"] = ALL_SERIAL_NUMBERS\n",
    "# standalone_parameters[\"domains_source\"] = [8,20, 38,50]\n",
    "# standalone_parameters[\"domains_target\"] = [14, 26, 32, 44, 56]\n",
    "# standalone_parameters[\"pickle_name\"] = \"oracle.frame_indexed.stratified_ds.2022A.pkl\"\n",
    "# standalone_parameters[\"num_examples_per_domain_per_label_source\"]=1000\n",
    "# standalone_parameters[\"num_examples_per_domain_per_label_target\"]=1000\n",
    "\n",
    "# Uncomment these for Metahan dataset\n",
    "# standalone_parameters[\"labels_source\"] = list(range(19))\n",
    "# standalone_parameters[\"labels_target\"] = list(range(19))\n",
    "# standalone_parameters[\"domains_source\"] = [0]\n",
    "# standalone_parameters[\"domains_target\"] = [1]\n",
    "# standalone_parameters[\"pickle_name\"] = \"metehan.stratified_ds.2022A.pkl\"\n",
    "# standalone_parameters[\"n_way\"]  = len(standalone_parameters[\"labels_source\"])\n",
    "# standalone_parameters[\"num_examples_per_domain_per_label_source\"]=200\n",
    "# standalone_parameters[\"num_examples_per_domain_per_label_target\"]=100\n",
    "\n",
    "\n",
    "standalone_parameters[\"n_way\"]  = len(standalone_parameters[\"labels_source\"])"
   ]
  },
  {
   "cell_type": "code",
   "execution_count": 4,
   "id": "4b21745c",
   "metadata": {
    "execution": {
     "iopub.execute_input": "2022-03-21T20:54:31.538860Z",
     "iopub.status.busy": "2022-03-21T20:54:31.538587Z",
     "iopub.status.idle": "2022-03-21T20:54:31.549782Z",
     "shell.execute_reply": "2022-03-21T20:54:31.549335Z"
    },
    "papermill": {
     "duration": 0.025603,
     "end_time": "2022-03-21T20:54:31.549869",
     "exception": false,
     "start_time": "2022-03-21T20:54:31.524266",
     "status": "completed"
    },
    "tags": [
     "injected-parameters"
    ]
   },
   "outputs": [],
   "source": [
    "# Parameters\n",
    "parameters = {\n",
    "    \"experiment_name\": \"tuned_1v2:oracle.run2\",\n",
    "    \"device\": \"cuda\",\n",
    "    \"lr\": 0.0001,\n",
    "    \"labels_source\": [\n",
    "        \"3123D52\",\n",
    "        \"3123D65\",\n",
    "        \"3123D79\",\n",
    "        \"3123D80\",\n",
    "        \"3123D54\",\n",
    "        \"3123D70\",\n",
    "        \"3123D7B\",\n",
    "        \"3123D89\",\n",
    "        \"3123D58\",\n",
    "        \"3123D76\",\n",
    "        \"3123D7D\",\n",
    "        \"3123EFE\",\n",
    "        \"3123D64\",\n",
    "        \"3123D78\",\n",
    "        \"3123D7E\",\n",
    "        \"3124E4A\",\n",
    "    ],\n",
    "    \"labels_target\": [\n",
    "        \"3123D52\",\n",
    "        \"3123D65\",\n",
    "        \"3123D79\",\n",
    "        \"3123D80\",\n",
    "        \"3123D54\",\n",
    "        \"3123D70\",\n",
    "        \"3123D7B\",\n",
    "        \"3123D89\",\n",
    "        \"3123D58\",\n",
    "        \"3123D76\",\n",
    "        \"3123D7D\",\n",
    "        \"3123EFE\",\n",
    "        \"3123D64\",\n",
    "        \"3123D78\",\n",
    "        \"3123D7E\",\n",
    "        \"3124E4A\",\n",
    "    ],\n",
    "    \"episode_transforms_source\": [],\n",
    "    \"episode_transforms_target\": [],\n",
    "    \"domains_source\": [8, 32, 50],\n",
    "    \"domains_target\": [14, 20, 26, 38, 44],\n",
    "    \"num_examples_per_domain_per_label_source\": -1,\n",
    "    \"num_examples_per_domain_per_label_target\": -1,\n",
    "    \"n_shot\": 3,\n",
    "    \"n_way\": 16,\n",
    "    \"n_query\": 2,\n",
    "    \"train_k_factor\": 3,\n",
    "    \"val_k_factor\": 2,\n",
    "    \"test_k_factor\": 2,\n",
    "    \"torch_default_dtype\": \"torch.float32\",\n",
    "    \"n_epoch\": 50,\n",
    "    \"patience\": 3,\n",
    "    \"criteria_for_best\": \"target_accuracy\",\n",
    "    \"x_net\": [\n",
    "        {\"class\": \"nnReshape\", \"kargs\": {\"shape\": [-1, 1, 2, 256]}},\n",
    "        {\n",
    "            \"class\": \"Conv2d\",\n",
    "            \"kargs\": {\n",
    "                \"in_channels\": 1,\n",
    "                \"out_channels\": 256,\n",
    "                \"kernel_size\": [1, 7],\n",
    "                \"bias\": False,\n",
    "                \"padding\": [0, 3],\n",
    "            },\n",
    "        },\n",
    "        {\"class\": \"ReLU\", \"kargs\": {\"inplace\": True}},\n",
    "        {\"class\": \"BatchNorm2d\", \"kargs\": {\"num_features\": 256}},\n",
    "        {\n",
    "            \"class\": \"Conv2d\",\n",
    "            \"kargs\": {\n",
    "                \"in_channels\": 256,\n",
    "                \"out_channels\": 80,\n",
    "                \"kernel_size\": [2, 7],\n",
    "                \"bias\": True,\n",
    "                \"padding\": [0, 3],\n",
    "            },\n",
    "        },\n",
    "        {\"class\": \"ReLU\", \"kargs\": {\"inplace\": True}},\n",
    "        {\"class\": \"BatchNorm2d\", \"kargs\": {\"num_features\": 80}},\n",
    "        {\"class\": \"Flatten\", \"kargs\": {}},\n",
    "        {\"class\": \"Linear\", \"kargs\": {\"in_features\": 20480, \"out_features\": 256}},\n",
    "        {\"class\": \"ReLU\", \"kargs\": {\"inplace\": True}},\n",
    "        {\"class\": \"BatchNorm1d\", \"kargs\": {\"num_features\": 256}},\n",
    "        {\"class\": \"Linear\", \"kargs\": {\"in_features\": 256, \"out_features\": 256}},\n",
    "    ],\n",
    "    \"NUM_LOGS_PER_EPOCH\": 10,\n",
    "    \"BEST_MODEL_PATH\": \"./best_model.pth\",\n",
    "    \"pickle_name\": \"oracle.Run2_10kExamples_stratified_ds.2022A.pkl\",\n",
    "    \"x_transforms_source\": [\"unit_power\"],\n",
    "    \"x_transforms_target\": [\"unit_power\"],\n",
    "    \"dataset_seed\": 7,\n",
    "    \"seed\": 7,\n",
    "}\n"
   ]
  },
  {
   "cell_type": "code",
   "execution_count": 5,
   "id": "8fa1cc33",
   "metadata": {
    "execution": {
     "iopub.execute_input": "2022-03-21T20:54:31.576031Z",
     "iopub.status.busy": "2022-03-21T20:54:31.575750Z",
     "iopub.status.idle": "2022-03-21T20:54:31.586867Z",
     "shell.execute_reply": "2022-03-21T20:54:31.586493Z"
    },
    "papermill": {
     "duration": 0.023154,
     "end_time": "2022-03-21T20:54:31.586957",
     "exception": false,
     "start_time": "2022-03-21T20:54:31.563803",
     "status": "completed"
    },
    "tags": []
   },
   "outputs": [],
   "source": [
    "# Set this to True if you want to run this template directly\n",
    "STANDALONE = False\n",
    "if STANDALONE:\n",
    "    print(\"parameters not injected, running with standalone_parameters\")\n",
    "    parameters = standalone_parameters\n",
    "\n",
    "if not 'parameters' in locals() and not 'parameters' in globals():\n",
    "    raise Exception(\"Parameter injection failed\")\n",
    "\n",
    "#Use an easy dict for all the parameters\n",
    "p = EasyDict(parameters)\n",
    "\n",
    "supplied_keys = set(p.keys())\n",
    "\n",
    "if  supplied_keys != required_parameters:\n",
    "    print(\"Parameters are incorrect\")\n",
    "    if len(supplied_keys - required_parameters)>0: print(\"Shouldn't have:\", str(supplied_keys - required_parameters))\n",
    "    if len(required_parameters - supplied_keys)>0: print(\"Need to have:\", str(required_parameters - supplied_keys))\n",
    "    raise RuntimeError(\"Parameters are incorrect\")\n",
    "\n"
   ]
  },
  {
   "cell_type": "code",
   "execution_count": 6,
   "id": "3a028d58",
   "metadata": {
    "execution": {
     "iopub.execute_input": "2022-03-21T20:54:31.611325Z",
     "iopub.status.busy": "2022-03-21T20:54:31.611076Z",
     "iopub.status.idle": "2022-03-21T20:54:31.621647Z",
     "shell.execute_reply": "2022-03-21T20:54:31.621300Z"
    },
    "papermill": {
     "duration": 0.021571,
     "end_time": "2022-03-21T20:54:31.621716",
     "exception": false,
     "start_time": "2022-03-21T20:54:31.600145",
     "status": "completed"
    },
    "tags": []
   },
   "outputs": [],
   "source": [
    "###################################\n",
    "# Set the RNGs and make it all deterministic\n",
    "###################################\n",
    "np.random.seed(p.seed)\n",
    "random.seed(p.seed)\n",
    "torch.manual_seed(p.seed)\n",
    "\n",
    "torch.use_deterministic_algorithms(True) "
   ]
  },
  {
   "cell_type": "code",
   "execution_count": 7,
   "id": "b691acf6",
   "metadata": {
    "execution": {
     "iopub.execute_input": "2022-03-21T20:54:31.644789Z",
     "iopub.status.busy": "2022-03-21T20:54:31.644546Z",
     "iopub.status.idle": "2022-03-21T20:54:31.655021Z",
     "shell.execute_reply": "2022-03-21T20:54:31.654720Z"
    },
    "papermill": {
     "duration": 0.022096,
     "end_time": "2022-03-21T20:54:31.655089",
     "exception": false,
     "start_time": "2022-03-21T20:54:31.632993",
     "status": "completed"
    },
    "tags": []
   },
   "outputs": [],
   "source": [
    "###########################################\n",
    "# The stratified datasets honor this\n",
    "###########################################\n",
    "torch.set_default_dtype(eval(p.torch_default_dtype))"
   ]
  },
  {
   "cell_type": "code",
   "execution_count": 8,
   "id": "b5fba671",
   "metadata": {
    "execution": {
     "iopub.execute_input": "2022-03-21T20:54:31.680876Z",
     "iopub.status.busy": "2022-03-21T20:54:31.680633Z",
     "iopub.status.idle": "2022-03-21T20:54:31.717019Z",
     "shell.execute_reply": "2022-03-21T20:54:31.716636Z"
    },
    "papermill": {
     "duration": 0.048364,
     "end_time": "2022-03-21T20:54:31.717106",
     "exception": false,
     "start_time": "2022-03-21T20:54:31.668742",
     "status": "completed"
    },
    "tags": []
   },
   "outputs": [],
   "source": [
    "###################################\n",
    "# Build the network(s)\n",
    "# Note: It's critical to do this AFTER setting the RNG\n",
    "# (This is due to the randomized initial weights)\n",
    "###################################\n",
    "x_net = build_sequential(p.x_net)"
   ]
  },
  {
   "cell_type": "code",
   "execution_count": 9,
   "id": "5d7e61cc",
   "metadata": {
    "execution": {
     "iopub.execute_input": "2022-03-21T20:54:31.744072Z",
     "iopub.status.busy": "2022-03-21T20:54:31.743831Z",
     "iopub.status.idle": "2022-03-21T20:54:31.758374Z",
     "shell.execute_reply": "2022-03-21T20:54:31.757934Z"
    },
    "papermill": {
     "duration": 0.026458,
     "end_time": "2022-03-21T20:54:31.758461",
     "exception": false,
     "start_time": "2022-03-21T20:54:31.732003",
     "status": "completed"
    },
    "tags": []
   },
   "outputs": [],
   "source": [
    "start_time_secs = time.time()"
   ]
  },
  {
   "cell_type": "code",
   "execution_count": 10,
   "id": "fd5442bc",
   "metadata": {
    "execution": {
     "iopub.execute_input": "2022-03-21T20:54:31.787965Z",
     "iopub.status.busy": "2022-03-21T20:54:31.787653Z",
     "iopub.status.idle": "2022-03-21T20:55:52.410887Z",
     "shell.execute_reply": "2022-03-21T20:55:52.411270Z"
    },
    "papermill": {
     "duration": 80.638884,
     "end_time": "2022-03-21T20:55:52.411405",
     "exception": false,
     "start_time": "2022-03-21T20:54:31.772521",
     "status": "completed"
    },
    "tags": []
   },
   "outputs": [],
   "source": [
    "###################################\n",
    "# Build the dataset\n",
    "###################################\n",
    "\n",
    "if p.x_transforms_source == []: x_transform_source = None\n",
    "else: x_transform_source = get_chained_transform(p.x_transforms_source) \n",
    "\n",
    "if p.x_transforms_target == []: x_transform_target = None\n",
    "else: x_transform_target = get_chained_transform(p.x_transforms_target)\n",
    "\n",
    "if p.episode_transforms_source == []: episode_transform_source = None\n",
    "else: raise Exception(\"episode_transform_source not implemented\")\n",
    "\n",
    "if p.episode_transforms_target == []: episode_transform_target = None\n",
    "else: raise Exception(\"episode_transform_target not implemented\")\n",
    "\n",
    "\n",
    "eaf_source = Episodic_Accessor_Factory(\n",
    "    labels=p.labels_source,\n",
    "    domains=p.domains_source,\n",
    "    num_examples_per_domain_per_label=p.num_examples_per_domain_per_label_source,\n",
    "    iterator_seed=p.seed,\n",
    "    dataset_seed=p.dataset_seed,\n",
    "    n_shot=p.n_shot,\n",
    "    n_way=p.n_way,\n",
    "    n_query=p.n_query,\n",
    "    train_val_test_k_factors=(p.train_k_factor,p.val_k_factor,p.test_k_factor),\n",
    "    pickle_path=os.path.join(get_datasets_base_path(), p.pickle_name),\n",
    "    x_transform_func=x_transform_source,\n",
    "    example_transform_func=episode_transform_source,\n",
    "    \n",
    ")\n",
    "train_original_source, val_original_source, test_original_source = eaf_source.get_train(), eaf_source.get_val(), eaf_source.get_test()\n",
    "\n",
    "\n",
    "eaf_target = Episodic_Accessor_Factory(\n",
    "    labels=p.labels_target,\n",
    "    domains=p.domains_target,\n",
    "    num_examples_per_domain_per_label=p.num_examples_per_domain_per_label_target,\n",
    "    iterator_seed=p.seed,\n",
    "    dataset_seed=p.dataset_seed,\n",
    "    n_shot=p.n_shot,\n",
    "    n_way=p.n_way,\n",
    "    n_query=p.n_query,\n",
    "    train_val_test_k_factors=(p.train_k_factor,p.val_k_factor,p.test_k_factor),\n",
    "    pickle_path=os.path.join(get_datasets_base_path(), p.pickle_name),\n",
    "    x_transform_func=x_transform_target,\n",
    "    example_transform_func=episode_transform_target,\n",
    ")\n",
    "train_original_target, val_original_target, test_original_target = eaf_target.get_train(), eaf_target.get_val(), eaf_target.get_test()\n",
    "\n",
    "\n",
    "transform_lambda = lambda ex: ex[1] # Original is (<domain>, <episode>) so we strip down to episode only\n",
    "\n",
    "train_processed_source = Lazy_Iterable_Wrapper(train_original_source, transform_lambda)\n",
    "val_processed_source   = Lazy_Iterable_Wrapper(val_original_source, transform_lambda)\n",
    "test_processed_source  = Lazy_Iterable_Wrapper(test_original_source, transform_lambda)\n",
    "\n",
    "train_processed_target = Lazy_Iterable_Wrapper(train_original_target, transform_lambda)\n",
    "val_processed_target   = Lazy_Iterable_Wrapper(val_original_target, transform_lambda)\n",
    "test_processed_target  = Lazy_Iterable_Wrapper(test_original_target, transform_lambda)\n",
    "\n",
    "datasets = EasyDict({\n",
    "    \"source\": {\n",
    "        \"original\": {\"train\":train_original_source, \"val\":val_original_source, \"test\":test_original_source},\n",
    "        \"processed\": {\"train\":train_processed_source, \"val\":val_processed_source, \"test\":test_processed_source}\n",
    "    },\n",
    "    \"target\": {\n",
    "        \"original\": {\"train\":train_original_target, \"val\":val_original_target, \"test\":test_original_target},\n",
    "        \"processed\": {\"train\":train_processed_target, \"val\":val_processed_target, \"test\":test_processed_target}\n",
    "    },\n",
    "})"
   ]
  },
  {
   "cell_type": "code",
   "execution_count": 11,
   "id": "296189d9",
   "metadata": {
    "execution": {
     "iopub.execute_input": "2022-03-21T20:55:52.440990Z",
     "iopub.status.busy": "2022-03-21T20:55:52.438590Z",
     "iopub.status.idle": "2022-03-21T20:55:54.422680Z",
     "shell.execute_reply": "2022-03-21T20:55:54.422019Z"
    },
    "papermill": {
     "duration": 1.995962,
     "end_time": "2022-03-21T20:55:54.422817",
     "exception": false,
     "start_time": "2022-03-21T20:55:52.426855",
     "status": "completed"
    },
    "tags": []
   },
   "outputs": [
    {
     "name": "stdout",
     "output_type": "stream",
     "text": [
      "Visually inspect these to see if they line up with expected values given the transforms\n",
      "x_transforms_source ['unit_power']\n",
      "x_transforms_target ['unit_power']\n",
      "Average magnitude, source: 0.8596183\n",
      "Average power, source: 1.0\n"
     ]
    },
    {
     "name": "stdout",
     "output_type": "stream",
     "text": [
      "Average magnitude, target: 0.8860433\n",
      "Average power, target: 1.0\n"
     ]
    }
   ],
   "source": [
    "# Some quick unit tests on the data\n",
    "from steves_utils.transforms import get_average_power, get_average_magnitude\n",
    "\n",
    "q_x, q_y, s_x, s_y, truth = next(iter(train_processed_source))\n",
    "\n",
    "assert q_x.dtype == eval(p.torch_default_dtype)\n",
    "assert s_x.dtype == eval(p.torch_default_dtype)\n",
    "\n",
    "print(\"Visually inspect these to see if they line up with expected values given the transforms\")\n",
    "print('x_transforms_source', p.x_transforms_source)\n",
    "print('x_transforms_target', p.x_transforms_target)\n",
    "print(\"Average magnitude, source:\", get_average_magnitude(q_x[0].numpy()))\n",
    "print(\"Average power, source:\", get_average_power(q_x[0].numpy()))\n",
    "\n",
    "q_x, q_y, s_x, s_y, truth = next(iter(train_processed_target))\n",
    "print(\"Average magnitude, target:\", get_average_magnitude(q_x[0].numpy()))\n",
    "print(\"Average power, target:\", get_average_power(q_x[0].numpy()))\n"
   ]
  },
  {
   "cell_type": "code",
   "execution_count": 12,
   "id": "bbdacba1",
   "metadata": {
    "execution": {
     "iopub.execute_input": "2022-03-21T20:55:54.452837Z",
     "iopub.status.busy": "2022-03-21T20:55:54.452575Z",
     "iopub.status.idle": "2022-03-21T20:55:54.516869Z",
     "shell.execute_reply": "2022-03-21T20:55:54.516549Z"
    },
    "papermill": {
     "duration": 0.077299,
     "end_time": "2022-03-21T20:55:54.516945",
     "exception": false,
     "start_time": "2022-03-21T20:55:54.439646",
     "status": "completed"
    },
    "tags": []
   },
   "outputs": [
    {
     "name": "stdout",
     "output_type": "stream",
     "text": [
      "(2, 256)\n"
     ]
    }
   ],
   "source": [
    "###################################\n",
    "# Build the model\n",
    "###################################\n",
    "model = Steves_Prototypical_Network(x_net, device=p.device, x_shape=(2,256))\n",
    "optimizer = Adam(params=model.parameters(), lr=p.lr)"
   ]
  },
  {
   "cell_type": "code",
   "execution_count": 13,
   "id": "22b39ac5",
   "metadata": {
    "execution": {
     "iopub.execute_input": "2022-03-21T20:55:54.543181Z",
     "iopub.status.busy": "2022-03-21T20:55:54.542934Z",
     "iopub.status.idle": "2022-03-21T21:55:25.678933Z",
     "shell.execute_reply": "2022-03-21T21:55:25.678703Z"
    },
    "papermill": {
     "duration": 3571.149241,
     "end_time": "2022-03-21T21:55:25.678990",
     "exception": false,
     "start_time": "2022-03-21T20:55:54.529749",
     "status": "completed"
    },
    "tags": []
   },
   "outputs": [
    {
     "name": "stdout",
     "output_type": "stream",
     "text": [
      "epoch: 1, [batch: 1 / 12600], examples_per_second: 26.7286, train_label_loss: 2.7923, \n"
     ]
    },
    {
     "name": "stdout",
     "output_type": "stream",
     "text": [
      "epoch: 1, [batch: 1260 / 12600], examples_per_second: 3142.1959, train_label_loss: 1.8060, \n"
     ]
    },
    {
     "name": "stdout",
     "output_type": "stream",
     "text": [
      "epoch: 1, [batch: 2520 / 12600], examples_per_second: 3157.7357, train_label_loss: 1.2949, \n"
     ]
    },
    {
     "name": "stdout",
     "output_type": "stream",
     "text": [
      "epoch: 1, [batch: 3780 / 12600], examples_per_second: 3154.5777, train_label_loss: 1.2779, \n"
     ]
    },
    {
     "name": "stdout",
     "output_type": "stream",
     "text": [
      "epoch: 1, [batch: 5040 / 12600], examples_per_second: 3145.7235, train_label_loss: 1.3907, \n"
     ]
    },
    {
     "name": "stdout",
     "output_type": "stream",
     "text": [
      "epoch: 1, [batch: 6300 / 12600], examples_per_second: 3143.0387, train_label_loss: 1.0145, \n"
     ]
    },
    {
     "name": "stdout",
     "output_type": "stream",
     "text": [
      "epoch: 1, [batch: 7560 / 12600], examples_per_second: 3147.9047, train_label_loss: 1.6187, \n"
     ]
    },
    {
     "name": "stdout",
     "output_type": "stream",
     "text": [
      "epoch: 1, [batch: 8820 / 12600], examples_per_second: 3141.7397, train_label_loss: 1.1250, \n"
     ]
    },
    {
     "name": "stdout",
     "output_type": "stream",
     "text": [
      "epoch: 1, [batch: 10080 / 12600], examples_per_second: 3143.9443, train_label_loss: 0.7945, \n"
     ]
    },
    {
     "name": "stdout",
     "output_type": "stream",
     "text": [
      "epoch: 1, [batch: 11340 / 12600], examples_per_second: 3161.3564, train_label_loss: 1.2386, \n"
     ]
    },
    {
     "name": "stdout",
     "output_type": "stream",
     "text": [
      "=============================================================\n",
      "epoch: 1, source_val_acc_label: 0.5928, target_val_acc_label: 0.5043, source_val_label_loss: 1.0614, target_val_label_loss: 1.3544, \n",
      "=============================================================\n"
     ]
    },
    {
     "name": "stdout",
     "output_type": "stream",
     "text": [
      "New best\n"
     ]
    },
    {
     "name": "stdout",
     "output_type": "stream",
     "text": [
      "epoch: 2, [batch: 1 / 12600], examples_per_second: 2.2330, train_label_loss: 1.4611, \n"
     ]
    },
    {
     "name": "stdout",
     "output_type": "stream",
     "text": [
      "epoch: 2, [batch: 1260 / 12600], examples_per_second: 3166.2351, train_label_loss: 0.8394, \n"
     ]
    },
    {
     "name": "stdout",
     "output_type": "stream",
     "text": [
      "epoch: 2, [batch: 2520 / 12600], examples_per_second: 3190.8246, train_label_loss: 0.8468, \n"
     ]
    },
    {
     "name": "stdout",
     "output_type": "stream",
     "text": [
      "epoch: 2, [batch: 3780 / 12600], examples_per_second: 3190.5418, train_label_loss: 0.8330, \n"
     ]
    },
    {
     "name": "stdout",
     "output_type": "stream",
     "text": [
      "epoch: 2, [batch: 5040 / 12600], examples_per_second: 3184.0815, train_label_loss: 1.0483, \n"
     ]
    },
    {
     "name": "stdout",
     "output_type": "stream",
     "text": [
      "epoch: 2, [batch: 6300 / 12600], examples_per_second: 3189.5632, train_label_loss: 0.6945, \n"
     ]
    },
    {
     "name": "stdout",
     "output_type": "stream",
     "text": [
      "epoch: 2, [batch: 7560 / 12600], examples_per_second: 3189.4291, train_label_loss: 0.6923, \n"
     ]
    },
    {
     "name": "stdout",
     "output_type": "stream",
     "text": [
      "epoch: 2, [batch: 8820 / 12600], examples_per_second: 3172.5084, train_label_loss: 0.5443, \n"
     ]
    },
    {
     "name": "stdout",
     "output_type": "stream",
     "text": [
      "epoch: 2, [batch: 10080 / 12600], examples_per_second: 3177.2863, train_label_loss: 0.6898, \n"
     ]
    },
    {
     "name": "stdout",
     "output_type": "stream",
     "text": [
      "epoch: 2, [batch: 11340 / 12600], examples_per_second: 3181.7052, train_label_loss: 0.8731, \n"
     ]
    },
    {
     "name": "stdout",
     "output_type": "stream",
     "text": [
      "=============================================================\n",
      "epoch: 2, source_val_acc_label: 0.6807, target_val_acc_label: 0.5611, source_val_label_loss: 0.8229, target_val_label_loss: 1.2387, \n",
      "=============================================================\n"
     ]
    },
    {
     "name": "stdout",
     "output_type": "stream",
     "text": [
      "New best\n"
     ]
    },
    {
     "name": "stdout",
     "output_type": "stream",
     "text": [
      "epoch: 3, [batch: 1 / 12600], examples_per_second: 2.2453, train_label_loss: 0.5317, \n"
     ]
    },
    {
     "name": "stdout",
     "output_type": "stream",
     "text": [
      "epoch: 3, [batch: 1260 / 12600], examples_per_second: 3159.5070, train_label_loss: 0.9081, \n"
     ]
    },
    {
     "name": "stdout",
     "output_type": "stream",
     "text": [
      "epoch: 3, [batch: 2520 / 12600], examples_per_second: 3175.7980, train_label_loss: 1.0091, \n"
     ]
    },
    {
     "name": "stdout",
     "output_type": "stream",
     "text": [
      "epoch: 3, [batch: 3780 / 12600], examples_per_second: 3191.3835, train_label_loss: 0.5521, \n"
     ]
    },
    {
     "name": "stdout",
     "output_type": "stream",
     "text": [
      "epoch: 3, [batch: 5040 / 12600], examples_per_second: 3179.4000, train_label_loss: 0.5410, \n"
     ]
    },
    {
     "name": "stdout",
     "output_type": "stream",
     "text": [
      "epoch: 3, [batch: 6300 / 12600], examples_per_second: 3181.3163, train_label_loss: 0.4495, \n"
     ]
    },
    {
     "name": "stdout",
     "output_type": "stream",
     "text": [
      "epoch: 3, [batch: 7560 / 12600], examples_per_second: 3189.9297, train_label_loss: 0.6492, \n"
     ]
    },
    {
     "name": "stdout",
     "output_type": "stream",
     "text": [
      "epoch: 3, [batch: 8820 / 12600], examples_per_second: 3179.8439, train_label_loss: 0.7185, \n"
     ]
    },
    {
     "name": "stdout",
     "output_type": "stream",
     "text": [
      "epoch: 3, [batch: 10080 / 12600], examples_per_second: 3183.9954, train_label_loss: 0.5917, \n"
     ]
    },
    {
     "name": "stdout",
     "output_type": "stream",
     "text": [
      "epoch: 3, [batch: 11340 / 12600], examples_per_second: 3182.4782, train_label_loss: 0.4372, \n"
     ]
    },
    {
     "name": "stdout",
     "output_type": "stream",
     "text": [
      "=============================================================\n",
      "epoch: 3, source_val_acc_label: 0.6988, target_val_acc_label: 0.5812, source_val_label_loss: 0.8011, target_val_label_loss: 1.2305, \n",
      "=============================================================\n"
     ]
    },
    {
     "name": "stdout",
     "output_type": "stream",
     "text": [
      "New best\n"
     ]
    },
    {
     "name": "stdout",
     "output_type": "stream",
     "text": [
      "epoch: 4, [batch: 1 / 12600], examples_per_second: 2.2466, train_label_loss: 0.7233, \n"
     ]
    },
    {
     "name": "stdout",
     "output_type": "stream",
     "text": [
      "epoch: 4, [batch: 1260 / 12600], examples_per_second: 3151.3017, train_label_loss: 0.7007, \n"
     ]
    },
    {
     "name": "stdout",
     "output_type": "stream",
     "text": [
      "epoch: 4, [batch: 2520 / 12600], examples_per_second: 3177.9086, train_label_loss: 0.7583, \n"
     ]
    },
    {
     "name": "stdout",
     "output_type": "stream",
     "text": [
      "epoch: 4, [batch: 3780 / 12600], examples_per_second: 3180.3498, train_label_loss: 0.7129, \n"
     ]
    },
    {
     "name": "stdout",
     "output_type": "stream",
     "text": [
      "epoch: 4, [batch: 5040 / 12600], examples_per_second: 3169.8134, train_label_loss: 0.7966, \n"
     ]
    },
    {
     "name": "stdout",
     "output_type": "stream",
     "text": [
      "epoch: 4, [batch: 6300 / 12600], examples_per_second: 3184.2052, train_label_loss: 0.4747, \n"
     ]
    },
    {
     "name": "stdout",
     "output_type": "stream",
     "text": [
      "epoch: 4, [batch: 7560 / 12600], examples_per_second: 3191.5059, train_label_loss: 0.5973, \n"
     ]
    },
    {
     "name": "stdout",
     "output_type": "stream",
     "text": [
      "epoch: 4, [batch: 8820 / 12600], examples_per_second: 3169.3590, train_label_loss: 0.5250, \n"
     ]
    },
    {
     "name": "stdout",
     "output_type": "stream",
     "text": [
      "epoch: 4, [batch: 10080 / 12600], examples_per_second: 3176.4829, train_label_loss: 0.8762, \n"
     ]
    },
    {
     "name": "stdout",
     "output_type": "stream",
     "text": [
      "epoch: 4, [batch: 11340 / 12600], examples_per_second: 3187.9373, train_label_loss: 0.8679, \n"
     ]
    },
    {
     "name": "stdout",
     "output_type": "stream",
     "text": [
      "=============================================================\n",
      "epoch: 4, source_val_acc_label: 0.7037, target_val_acc_label: 0.5841, source_val_label_loss: 0.7869, target_val_label_loss: 1.2228, \n",
      "=============================================================\n"
     ]
    },
    {
     "name": "stdout",
     "output_type": "stream",
     "text": [
      "New best\n"
     ]
    },
    {
     "name": "stdout",
     "output_type": "stream",
     "text": [
      "epoch: 5, [batch: 1 / 12600], examples_per_second: 2.2444, train_label_loss: 0.2458, \n"
     ]
    },
    {
     "name": "stdout",
     "output_type": "stream",
     "text": [
      "epoch: 5, [batch: 1260 / 12600], examples_per_second: 3169.2357, train_label_loss: 0.6101, \n"
     ]
    },
    {
     "name": "stdout",
     "output_type": "stream",
     "text": [
      "epoch: 5, [batch: 2520 / 12600], examples_per_second: 3175.8069, train_label_loss: 0.4980, \n"
     ]
    },
    {
     "name": "stdout",
     "output_type": "stream",
     "text": [
      "epoch: 5, [batch: 3780 / 12600], examples_per_second: 3189.6806, train_label_loss: 0.5551, \n"
     ]
    },
    {
     "name": "stdout",
     "output_type": "stream",
     "text": [
      "epoch: 5, [batch: 5040 / 12600], examples_per_second: 3176.3367, train_label_loss: 0.4165, \n"
     ]
    },
    {
     "name": "stdout",
     "output_type": "stream",
     "text": [
      "epoch: 5, [batch: 6300 / 12600], examples_per_second: 3181.0592, train_label_loss: 0.5816, \n"
     ]
    },
    {
     "name": "stdout",
     "output_type": "stream",
     "text": [
      "epoch: 5, [batch: 7560 / 12600], examples_per_second: 3188.1143, train_label_loss: 0.5192, \n"
     ]
    },
    {
     "name": "stdout",
     "output_type": "stream",
     "text": [
      "epoch: 5, [batch: 8820 / 12600], examples_per_second: 3172.6403, train_label_loss: 0.8702, \n"
     ]
    },
    {
     "name": "stdout",
     "output_type": "stream",
     "text": [
      "epoch: 5, [batch: 10080 / 12600], examples_per_second: 3182.7439, train_label_loss: 0.2423, \n"
     ]
    },
    {
     "name": "stdout",
     "output_type": "stream",
     "text": [
      "epoch: 5, [batch: 11340 / 12600], examples_per_second: 3185.3123, train_label_loss: 0.7351, \n"
     ]
    },
    {
     "name": "stdout",
     "output_type": "stream",
     "text": [
      "=============================================================\n",
      "epoch: 5, source_val_acc_label: 0.6945, target_val_acc_label: 0.5755, source_val_label_loss: 0.8040, target_val_label_loss: 1.2454, \n",
      "=============================================================\n"
     ]
    },
    {
     "name": "stdout",
     "output_type": "stream",
     "text": [
      "epoch: 6, [batch: 1 / 12600], examples_per_second: 2.2426, train_label_loss: 0.4246, \n"
     ]
    },
    {
     "name": "stdout",
     "output_type": "stream",
     "text": [
      "epoch: 6, [batch: 1260 / 12600], examples_per_second: 3161.3769, train_label_loss: 0.5831, \n"
     ]
    },
    {
     "name": "stdout",
     "output_type": "stream",
     "text": [
      "epoch: 6, [batch: 2520 / 12600], examples_per_second: 3182.9358, train_label_loss: 0.5827, \n"
     ]
    },
    {
     "name": "stdout",
     "output_type": "stream",
     "text": [
      "epoch: 6, [batch: 3780 / 12600], examples_per_second: 3184.3124, train_label_loss: 0.6630, \n"
     ]
    },
    {
     "name": "stdout",
     "output_type": "stream",
     "text": [
      "epoch: 6, [batch: 5040 / 12600], examples_per_second: 3169.3130, train_label_loss: 0.3249, \n"
     ]
    },
    {
     "name": "stdout",
     "output_type": "stream",
     "text": [
      "epoch: 6, [batch: 6300 / 12600], examples_per_second: 3175.0143, train_label_loss: 0.4680, \n"
     ]
    },
    {
     "name": "stdout",
     "output_type": "stream",
     "text": [
      "epoch: 6, [batch: 7560 / 12600], examples_per_second: 3178.5906, train_label_loss: 0.3759, \n"
     ]
    },
    {
     "name": "stdout",
     "output_type": "stream",
     "text": [
      "epoch: 6, [batch: 8820 / 12600], examples_per_second: 3170.3876, train_label_loss: 0.3841, \n"
     ]
    },
    {
     "name": "stdout",
     "output_type": "stream",
     "text": [
      "epoch: 6, [batch: 10080 / 12600], examples_per_second: 3178.9567, train_label_loss: 0.5230, \n"
     ]
    },
    {
     "name": "stdout",
     "output_type": "stream",
     "text": [
      "epoch: 6, [batch: 11340 / 12600], examples_per_second: 3180.6998, train_label_loss: 0.6040, \n"
     ]
    },
    {
     "name": "stdout",
     "output_type": "stream",
     "text": [
      "=============================================================\n",
      "epoch: 6, source_val_acc_label: 0.7098, target_val_acc_label: 0.5893, source_val_label_loss: 0.8185, target_val_label_loss: 1.2957, \n",
      "=============================================================\n"
     ]
    },
    {
     "name": "stdout",
     "output_type": "stream",
     "text": [
      "New best\n"
     ]
    },
    {
     "name": "stdout",
     "output_type": "stream",
     "text": [
      "epoch: 7, [batch: 1 / 12600], examples_per_second: 2.2377, train_label_loss: 1.0312, \n"
     ]
    },
    {
     "name": "stdout",
     "output_type": "stream",
     "text": [
      "epoch: 7, [batch: 1260 / 12600], examples_per_second: 3164.6967, train_label_loss: 0.5700, \n"
     ]
    },
    {
     "name": "stdout",
     "output_type": "stream",
     "text": [
      "epoch: 7, [batch: 2520 / 12600], examples_per_second: 3181.9449, train_label_loss: 0.6247, \n"
     ]
    },
    {
     "name": "stdout",
     "output_type": "stream",
     "text": [
      "epoch: 7, [batch: 3780 / 12600], examples_per_second: 3168.7727, train_label_loss: 0.4724, \n"
     ]
    },
    {
     "name": "stdout",
     "output_type": "stream",
     "text": [
      "epoch: 7, [batch: 5040 / 12600], examples_per_second: 3176.3721, train_label_loss: 0.3225, \n"
     ]
    },
    {
     "name": "stdout",
     "output_type": "stream",
     "text": [
      "epoch: 7, [batch: 6300 / 12600], examples_per_second: 3182.9494, train_label_loss: 0.6742, \n"
     ]
    },
    {
     "name": "stdout",
     "output_type": "stream",
     "text": [
      "epoch: 7, [batch: 7560 / 12600], examples_per_second: 3185.6205, train_label_loss: 0.4779, \n"
     ]
    },
    {
     "name": "stdout",
     "output_type": "stream",
     "text": [
      "epoch: 7, [batch: 8820 / 12600], examples_per_second: 3179.2681, train_label_loss: 0.1550, \n"
     ]
    },
    {
     "name": "stdout",
     "output_type": "stream",
     "text": [
      "epoch: 7, [batch: 10080 / 12600], examples_per_second: 3187.8487, train_label_loss: 0.5001, \n"
     ]
    },
    {
     "name": "stdout",
     "output_type": "stream",
     "text": [
      "epoch: 7, [batch: 11340 / 12600], examples_per_second: 3183.8125, train_label_loss: 0.4349, \n"
     ]
    },
    {
     "name": "stdout",
     "output_type": "stream",
     "text": [
      "=============================================================\n",
      "epoch: 7, source_val_acc_label: 0.7019, target_val_acc_label: 0.5824, source_val_label_loss: 0.8342, target_val_label_loss: 1.3019, \n",
      "=============================================================\n"
     ]
    },
    {
     "name": "stdout",
     "output_type": "stream",
     "text": [
      "epoch: 8, [batch: 1 / 12600], examples_per_second: 2.2424, train_label_loss: 0.4418, \n"
     ]
    },
    {
     "name": "stdout",
     "output_type": "stream",
     "text": [
      "epoch: 8, [batch: 1260 / 12600], examples_per_second: 3150.8028, train_label_loss: 0.3808, \n"
     ]
    },
    {
     "name": "stdout",
     "output_type": "stream",
     "text": [
      "epoch: 8, [batch: 2520 / 12600], examples_per_second: 3176.4592, train_label_loss: 0.3095, \n"
     ]
    },
    {
     "name": "stdout",
     "output_type": "stream",
     "text": [
      "epoch: 8, [batch: 3780 / 12600], examples_per_second: 3190.4481, train_label_loss: 0.4806, \n"
     ]
    },
    {
     "name": "stdout",
     "output_type": "stream",
     "text": [
      "epoch: 8, [batch: 5040 / 12600], examples_per_second: 3171.1828, train_label_loss: 0.3115, \n"
     ]
    },
    {
     "name": "stdout",
     "output_type": "stream",
     "text": [
      "epoch: 8, [batch: 6300 / 12600], examples_per_second: 3182.9123, train_label_loss: 0.4134, \n"
     ]
    },
    {
     "name": "stdout",
     "output_type": "stream",
     "text": [
      "epoch: 8, [batch: 7560 / 12600], examples_per_second: 3179.4821, train_label_loss: 0.8635, \n"
     ]
    },
    {
     "name": "stdout",
     "output_type": "stream",
     "text": [
      "epoch: 8, [batch: 8820 / 12600], examples_per_second: 3171.9029, train_label_loss: 0.3503, \n"
     ]
    },
    {
     "name": "stdout",
     "output_type": "stream",
     "text": [
      "epoch: 8, [batch: 10080 / 12600], examples_per_second: 3178.1556, train_label_loss: 0.5477, \n"
     ]
    },
    {
     "name": "stdout",
     "output_type": "stream",
     "text": [
      "epoch: 8, [batch: 11340 / 12600], examples_per_second: 3182.2835, train_label_loss: 0.2891, \n"
     ]
    },
    {
     "name": "stdout",
     "output_type": "stream",
     "text": [
      "=============================================================\n",
      "epoch: 8, source_val_acc_label: 0.7034, target_val_acc_label: 0.5825, source_val_label_loss: 0.8421, target_val_label_loss: 1.3314, \n",
      "=============================================================\n"
     ]
    },
    {
     "name": "stdout",
     "output_type": "stream",
     "text": [
      "epoch: 9, [batch: 1 / 12600], examples_per_second: 2.2438, train_label_loss: 0.3146, \n"
     ]
    },
    {
     "name": "stdout",
     "output_type": "stream",
     "text": [
      "epoch: 9, [batch: 1260 / 12600], examples_per_second: 3158.4068, train_label_loss: 0.4084, \n"
     ]
    },
    {
     "name": "stdout",
     "output_type": "stream",
     "text": [
      "epoch: 9, [batch: 2520 / 12600], examples_per_second: 3188.0067, train_label_loss: 0.4191, \n"
     ]
    },
    {
     "name": "stdout",
     "output_type": "stream",
     "text": [
      "epoch: 9, [batch: 3780 / 12600], examples_per_second: 3179.3552, train_label_loss: 0.3897, \n"
     ]
    },
    {
     "name": "stdout",
     "output_type": "stream",
     "text": [
      "epoch: 9, [batch: 5040 / 12600], examples_per_second: 3164.4042, train_label_loss: 0.4163, \n"
     ]
    },
    {
     "name": "stdout",
     "output_type": "stream",
     "text": [
      "epoch: 9, [batch: 6300 / 12600], examples_per_second: 3178.6374, train_label_loss: 0.3878, \n"
     ]
    },
    {
     "name": "stdout",
     "output_type": "stream",
     "text": [
      "epoch: 9, [batch: 7560 / 12600], examples_per_second: 3174.0770, train_label_loss: 0.3773, \n"
     ]
    },
    {
     "name": "stdout",
     "output_type": "stream",
     "text": [
      "epoch: 9, [batch: 8820 / 12600], examples_per_second: 3167.5227, train_label_loss: 0.2497, \n"
     ]
    },
    {
     "name": "stdout",
     "output_type": "stream",
     "text": [
      "epoch: 9, [batch: 10080 / 12600], examples_per_second: 3182.6031, train_label_loss: 0.2301, \n"
     ]
    },
    {
     "name": "stdout",
     "output_type": "stream",
     "text": [
      "epoch: 9, [batch: 11340 / 12600], examples_per_second: 3185.1944, train_label_loss: 0.3938, \n"
     ]
    },
    {
     "name": "stdout",
     "output_type": "stream",
     "text": [
      "=============================================================\n",
      "epoch: 9, source_val_acc_label: 0.7032, target_val_acc_label: 0.5835, source_val_label_loss: 0.8798, target_val_label_loss: 1.3942, \n",
      "=============================================================\n"
     ]
    },
    {
     "name": "stdout",
     "output_type": "stream",
     "text": [
      "epoch: 10, [batch: 1 / 12600], examples_per_second: 2.2276, train_label_loss: 0.4002, \n"
     ]
    },
    {
     "name": "stdout",
     "output_type": "stream",
     "text": [
      "epoch: 10, [batch: 1260 / 12600], examples_per_second: 3155.8570, train_label_loss: 0.5928, \n"
     ]
    },
    {
     "name": "stdout",
     "output_type": "stream",
     "text": [
      "epoch: 10, [batch: 2520 / 12600], examples_per_second: 3184.5504, train_label_loss: 0.1455, \n"
     ]
    },
    {
     "name": "stdout",
     "output_type": "stream",
     "text": [
      "epoch: 10, [batch: 3780 / 12600], examples_per_second: 3189.1342, train_label_loss: 0.1240, \n"
     ]
    },
    {
     "name": "stdout",
     "output_type": "stream",
     "text": [
      "epoch: 10, [batch: 5040 / 12600], examples_per_second: 3165.6561, train_label_loss: 0.1891, \n"
     ]
    },
    {
     "name": "stdout",
     "output_type": "stream",
     "text": [
      "epoch: 10, [batch: 6300 / 12600], examples_per_second: 3179.2513, train_label_loss: 0.2361, \n"
     ]
    },
    {
     "name": "stdout",
     "output_type": "stream",
     "text": [
      "epoch: 10, [batch: 7560 / 12600], examples_per_second: 3182.0248, train_label_loss: 0.1432, \n"
     ]
    },
    {
     "name": "stdout",
     "output_type": "stream",
     "text": [
      "epoch: 10, [batch: 8820 / 12600], examples_per_second: 3173.4420, train_label_loss: 0.5135, \n"
     ]
    },
    {
     "name": "stdout",
     "output_type": "stream",
     "text": [
      "epoch: 10, [batch: 10080 / 12600], examples_per_second: 3175.3019, train_label_loss: 0.2294, \n"
     ]
    },
    {
     "name": "stdout",
     "output_type": "stream",
     "text": [
      "epoch: 10, [batch: 11340 / 12600], examples_per_second: 3175.8007, train_label_loss: 0.2311, \n"
     ]
    },
    {
     "name": "stdout",
     "output_type": "stream",
     "text": [
      "=============================================================\n",
      "epoch: 10, source_val_acc_label: 0.7039, target_val_acc_label: 0.5846, source_val_label_loss: 0.9082, target_val_label_loss: 1.4206, \n",
      "=============================================================\n"
     ]
    },
    {
     "name": "stdout",
     "output_type": "stream",
     "text": [
      "Patience (3) exhausted\n"
     ]
    }
   ],
   "source": [
    "###################################\n",
    "# train\n",
    "###################################\n",
    "jig = PTN_Train_Eval_Test_Jig(model, p.BEST_MODEL_PATH, p.device)\n",
    "\n",
    "jig.train(\n",
    "    train_iterable=datasets.source.processed.train,\n",
    "    source_val_iterable=datasets.source.processed.val,\n",
    "    target_val_iterable=datasets.target.processed.val,\n",
    "    num_epochs=p.n_epoch,\n",
    "    num_logs_per_epoch=p.NUM_LOGS_PER_EPOCH,\n",
    "    patience=p.patience,\n",
    "    optimizer=optimizer,\n",
    "    criteria_for_best=p.criteria_for_best,\n",
    ")"
   ]
  },
  {
   "cell_type": "code",
   "execution_count": 14,
   "id": "31e8fabf",
   "metadata": {
    "execution": {
     "iopub.execute_input": "2022-03-21T21:55:25.743016Z",
     "iopub.status.busy": "2022-03-21T21:55:25.742452Z",
     "iopub.status.idle": "2022-03-21T21:55:25.760289Z",
     "shell.execute_reply": "2022-03-21T21:55:25.759901Z"
    },
    "papermill": {
     "duration": 0.050735,
     "end_time": "2022-03-21T21:55:25.760378",
     "exception": false,
     "start_time": "2022-03-21T21:55:25.709643",
     "status": "completed"
    },
    "tags": []
   },
   "outputs": [],
   "source": [
    "total_experiment_time_secs = time.time() - start_time_secs"
   ]
  },
  {
   "cell_type": "code",
   "execution_count": 15,
   "id": "87b9595b",
   "metadata": {
    "execution": {
     "iopub.execute_input": "2022-03-21T21:55:25.832321Z",
     "iopub.status.busy": "2022-03-21T21:55:25.832062Z",
     "iopub.status.idle": "2022-03-21T21:59:29.772493Z",
     "shell.execute_reply": "2022-03-21T21:59:29.772864Z"
    },
    "papermill": {
     "duration": 243.97693,
     "end_time": "2022-03-21T21:59:29.772996",
     "exception": false,
     "start_time": "2022-03-21T21:55:25.796066",
     "status": "completed"
    },
    "tags": []
   },
   "outputs": [],
   "source": [
    "###################################\n",
    "# Evaluate the model\n",
    "###################################\n",
    "source_test_label_accuracy, source_test_label_loss = jig.test(datasets.source.processed.test)\n",
    "target_test_label_accuracy, target_test_label_loss = jig.test(datasets.target.processed.test)\n",
    "\n",
    "source_val_label_accuracy, source_val_label_loss = jig.test(datasets.source.processed.val)\n",
    "target_val_label_accuracy, target_val_label_loss = jig.test(datasets.target.processed.val)\n",
    "\n",
    "history = jig.get_history()\n",
    "\n",
    "total_epochs_trained = len(history[\"epoch_indices\"])\n",
    "\n",
    "val_dl = Iterable_Aggregator((datasets.source.original.val,datasets.target.original.val))\n",
    "\n",
    "confusion = ptn_confusion_by_domain_over_dataloader(model, p.device, val_dl)\n",
    "per_domain_accuracy = per_domain_accuracy_from_confusion(confusion)\n",
    "\n",
    "# Add a key to per_domain_accuracy for if it was a source domain\n",
    "for domain, accuracy in per_domain_accuracy.items():\n",
    "    per_domain_accuracy[domain] = {\n",
    "        \"accuracy\": accuracy,\n",
    "        \"source?\": domain in p.domains_source\n",
    "    }\n",
    "\n",
    "# Do an independent accuracy assesment JUST TO BE SURE!\n",
    "# _source_test_label_accuracy = independent_accuracy_assesment(model, datasets.source.processed.test, p.device)\n",
    "# _target_test_label_accuracy = independent_accuracy_assesment(model, datasets.target.processed.test, p.device)\n",
    "# _source_val_label_accuracy = independent_accuracy_assesment(model, datasets.source.processed.val, p.device)\n",
    "# _target_val_label_accuracy = independent_accuracy_assesment(model, datasets.target.processed.val, p.device)\n",
    "\n",
    "# assert(_source_test_label_accuracy == source_test_label_accuracy)\n",
    "# assert(_target_test_label_accuracy == target_test_label_accuracy)\n",
    "# assert(_source_val_label_accuracy == source_val_label_accuracy)\n",
    "# assert(_target_val_label_accuracy == target_val_label_accuracy)\n",
    "\n",
    "experiment = {\n",
    "    \"experiment_name\": p.experiment_name,\n",
    "    \"parameters\": dict(p),\n",
    "    \"results\": {\n",
    "        \"source_test_label_accuracy\": source_test_label_accuracy,\n",
    "        \"source_test_label_loss\": source_test_label_loss,\n",
    "        \"target_test_label_accuracy\": target_test_label_accuracy,\n",
    "        \"target_test_label_loss\": target_test_label_loss,\n",
    "        \"source_val_label_accuracy\": source_val_label_accuracy,\n",
    "        \"source_val_label_loss\": source_val_label_loss,\n",
    "        \"target_val_label_accuracy\": target_val_label_accuracy,\n",
    "        \"target_val_label_loss\": target_val_label_loss,\n",
    "        \"total_epochs_trained\": total_epochs_trained,\n",
    "        \"total_experiment_time_secs\": total_experiment_time_secs,\n",
    "        \"confusion\": confusion,\n",
    "        \"per_domain_accuracy\": per_domain_accuracy,\n",
    "    },\n",
    "    \"history\": history,\n",
    "    \"dataset_metrics\": get_dataset_metrics(datasets, \"ptn\"),\n",
    "}"
   ]
  },
  {
   "cell_type": "code",
   "execution_count": 16,
   "id": "54a21829",
   "metadata": {
    "execution": {
     "iopub.execute_input": "2022-03-21T21:59:29.843346Z",
     "iopub.status.busy": "2022-03-21T21:59:29.842984Z",
     "iopub.status.idle": "2022-03-21T21:59:29.979153Z",
     "shell.execute_reply": "2022-03-21T21:59:29.979549Z"
    },
    "papermill": {
     "duration": 0.169198,
     "end_time": "2022-03-21T21:59:29.979662",
     "exception": false,
     "start_time": "2022-03-21T21:59:29.810464",
     "status": "completed"
    },
    "tags": []
   },
   "outputs": [
    {
     "data": {
      "image/png": "[encoded data removed]",
      "text/plain": [
       "<Figure size 1080x504 with 1 Axes>"
      ]
     },
     "metadata": {
      "needs_background": "light"
     },
     "output_type": "display_data"
    }
   ],
   "source": [
    "ax = get_loss_curve(experiment)\n",
    "plt.show()"
   ]
  },
  {
   "cell_type": "code",
   "execution_count": 17,
   "id": "fd8a0f60",
   "metadata": {
    "execution": {
     "iopub.execute_input": "2022-03-21T21:59:30.051254Z",
     "iopub.status.busy": "2022-03-21T21:59:30.050992Z",
     "iopub.status.idle": "2022-03-21T21:59:30.193698Z",
     "shell.execute_reply": "2022-03-21T21:59:30.193469Z"
    },
    "papermill": {
     "duration": 0.17665,
     "end_time": "2022-03-21T21:59:30.193750",
     "exception": false,
     "start_time": "2022-03-21T21:59:30.017100",
     "status": "completed"
    },
    "tags": []
   },
   "outputs": [
    {
     "data": {
      "text/plain": [
       "<AxesSubplot:title={'center':'Results'}>"
      ]
     },
     "execution_count": 17,
     "metadata": {},
     "output_type": "execute_result"
    },
    {
     "data": {
      "image/png": "[encoded data removed]",
      "text/plain": [
       "<Figure size 1080x504 with 1 Axes>"
      ]
     },
     "metadata": {
      "needs_background": "light"
     },
     "output_type": "display_data"
    }
   ],
   "source": [
    "get_results_table(experiment)"
   ]
  },
  {
   "cell_type": "code",
   "execution_count": 18,
   "id": "cf8dc689",
   "metadata": {
    "execution": {
     "iopub.execute_input": "2022-03-21T21:59:30.263004Z",
     "iopub.status.busy": "2022-03-21T21:59:30.262645Z",
     "iopub.status.idle": "2022-03-21T21:59:30.380567Z",
     "shell.execute_reply": "2022-03-21T21:59:30.380179Z"
    },
    "papermill": {
     "duration": 0.153216,
     "end_time": "2022-03-21T21:59:30.380656",
     "exception": false,
     "start_time": "2022-03-21T21:59:30.227440",
     "status": "completed"
    },
    "tags": []
   },
   "outputs": [
    {
     "data": {
      "text/plain": [
       "<AxesSubplot:title={'center':'Per Domain Validation Accuracy'}, xlabel='domain'>"
      ]
     },
     "execution_count": 18,
     "metadata": {},
     "output_type": "execute_result"
    },
    {
     "data": {
      "image/png": "[encoded data removed]",
      "text/plain": [
       "<Figure size 1080x504 with 1 Axes>"
      ]
     },
     "metadata": {
      "needs_background": "light"
     },
     "output_type": "display_data"
    }
   ],
   "source": [
    "get_domain_accuracies(experiment)"
   ]
  },
  {
   "cell_type": "code",
   "execution_count": 19,
   "id": "a74ae082",
   "metadata": {
    "execution": {
     "iopub.execute_input": "2022-03-21T21:59:30.456761Z",
     "iopub.status.busy": "2022-03-21T21:59:30.456509Z",
     "iopub.status.idle": "2022-03-21T21:59:30.473663Z",
     "shell.execute_reply": "2022-03-21T21:59:30.473218Z"
    },
    "papermill": {
     "duration": 0.054328,
     "end_time": "2022-03-21T21:59:30.473752",
     "exception": false,
     "start_time": "2022-03-21T21:59:30.419424",
     "status": "completed"
    },
    "tags": []
   },
   "outputs": [
    {
     "name": "stdout",
     "output_type": "stream",
     "text": [
      "Source Test Label Accuracy: 0.7110243055555555 Target Test Label Accuracy: 0.5881145833333333\n",
      "Source Val Label Accuracy: 0.70984375 Target Val Label Accuracy: 0.5893333333333334\n"
     ]
    }
   ],
   "source": [
    "print(\"Source Test Label Accuracy:\", experiment[\"results\"][\"source_test_label_accuracy\"], \"Target Test Label Accuracy:\", experiment[\"results\"][\"target_test_label_accuracy\"])\n",
    "print(\"Source Val Label Accuracy:\", experiment[\"results\"][\"source_val_label_accuracy\"], \"Target Val Label Accuracy:\", experiment[\"results\"][\"target_val_label_accuracy\"])"
   ]
  },
  {
   "cell_type": "code",
   "execution_count": 20,
   "id": "dacca602",
   "metadata": {
    "execution": {
     "iopub.execute_input": "2022-03-21T21:59:30.549018Z",
     "iopub.status.busy": "2022-03-21T21:59:30.548773Z",
     "iopub.status.idle": "2022-03-21T21:59:30.565817Z",
     "shell.execute_reply": "2022-03-21T21:59:30.565369Z"
    },
    "papermill": {
     "duration": 0.053278,
     "end_time": "2022-03-21T21:59:30.565906",
     "exception": false,
     "start_time": "2022-03-21T21:59:30.512628",
     "status": "completed"
    },
    "tags": [
     "experiment_json"
    ]
   },
   "outputs": [
    {
     "data": {
      "text/plain": [
       "'{\"experiment_name\": \"tuned_1v2:oracle.run2\", \"parameters\": {\"experiment_name\": \"tuned_1v2:oracle.run2\", \"device\": \"cuda\", \"lr\": 0.0001, \"labels_source\": [\"3123D52\", \"3123D65\", \"3123D79\", \"3123D80\", \"3123D54\", \"3123D70\", \"3123D7B\", \"3123D89\", \"3123D58\", \"3123D76\", \"3123D7D\", \"3123EFE\", \"3123D64\", \"3123D78\", \"3123D7E\", \"3124E4A\"], \"labels_target\": [\"3123D52\", \"3123D65\", \"3123D79\", \"3123D80\", \"3123D54\", \"3123D70\", \"3123D7B\", \"3123D89\", \"3123D58\", \"3123D76\", \"3123D7D\", \"3123EFE\", \"3123D64\", \"3123D78\", \"3123D7E\", \"3124E4A\"], \"episode_transforms_source\": [], \"episode_transforms_target\": [], \"domains_source\": [8, 32, 50], \"domains_target\": [14, 20, 26, 38, 44], \"num_examples_per_domain_per_label_source\": -1, \"num_examples_per_domain_per_label_target\": -1, \"n_shot\": 3, \"n_way\": 16, \"n_query\": 2, \"train_k_factor\": 3, \"val_k_factor\": 2, \"test_k_factor\": 2, \"torch_default_dtype\": \"torch.float32\", \"n_epoch\": 50, \"patience\": 3, \"criteria_for_best\": \"target_accuracy\", \"x_net\": [{\"class\": \"nnReshape\", \"kargs\": {\"shape\": [-1, 1, 2, 256]}}, {\"class\": \"Conv2d\", \"kargs\": {\"in_channels\": 1, \"out_channels\": 256, \"kernel_size\": [1, 7], \"bias\": false, \"padding\": [0, 3]}}, {\"class\": \"ReLU\", \"kargs\": {\"inplace\": true}}, {\"class\": \"BatchNorm2d\", \"kargs\": {\"num_features\": 256}}, {\"class\": \"Conv2d\", \"kargs\": {\"in_channels\": 256, \"out_channels\": 80, \"kernel_size\": [2, 7], \"bias\": true, \"padding\": [0, 3]}}, {\"class\": \"ReLU\", \"kargs\": {\"inplace\": true}}, {\"class\": \"BatchNorm2d\", \"kargs\": {\"num_features\": 80}}, {\"class\": \"Flatten\", \"kargs\": {}}, {\"class\": \"Linear\", \"kargs\": {\"in_features\": 20480, \"out_features\": 256}}, {\"class\": \"ReLU\", \"kargs\": {\"inplace\": true}}, {\"class\": \"BatchNorm1d\", \"kargs\": {\"num_features\": 256}}, {\"class\": \"Linear\", \"kargs\": {\"in_features\": 256, \"out_features\": 256}}], \"NUM_LOGS_PER_EPOCH\": 10, \"BEST_MODEL_PATH\": \"./best_model.pth\", \"pickle_name\": \"oracle.Run2_10kExamples_stratified_ds.2022A.pkl\", \"x_transforms_source\": [\"unit_power\"], \"x_transforms_target\": [\"unit_power\"], \"dataset_seed\": 7, \"seed\": 7}, \"results\": {\"source_test_label_accuracy\": 0.7110243055555555, \"source_test_label_loss\": 0.8223791122436523, \"target_test_label_accuracy\": 0.5881145833333333, \"target_test_label_loss\": 1.2849088907241821, \"source_val_label_accuracy\": 0.70984375, \"source_val_label_loss\": 0.8185043334960938, \"target_val_label_accuracy\": 0.5893333333333334, \"target_val_label_loss\": 1.295654058456421, \"total_epochs_trained\": 10, \"total_experiment_time_secs\": 3654.001494407654, \"confusion\": {\"50\": {\"0\": {\"0\": 1082, \"10\": 33, \"2\": 76, \"6\": 3, \"5\": 3, \"1\": 2, \"4\": 1}, \"4\": {\"4\": 576, \"5\": 303, \"1\": 40, \"6\": 266, \"13\": 2, \"0\": 1, \"15\": 3, \"7\": 7, \"10\": 2}, \"14\": {\"14\": 1159, \"11\": 16, \"12\": 25}, \"12\": {\"12\": 1072, \"11\": 4, \"9\": 81, \"14\": 43}, \"8\": {\"8\": 1176, \"3\": 24}, \"7\": {\"7\": 454, \"5\": 102, \"13\": 506, \"10\": 119, \"4\": 19}, \"13\": {\"5\": 41, \"7\": 446, \"13\": 540, \"10\": 171, \"4\": 2}, \"5\": {\"7\": 84, \"4\": 339, \"10\": 71, \"5\": 586, \"13\": 53, \"6\": 48, \"1\": 9, \"0\": 10}, \"15\": {\"15\": 1050, \"11\": 53, \"1\": 80, \"6\": 14, \"14\": 2, \"4\": 1}, \"10\": {\"13\": 148, \"10\": 858, \"7\": 87, \"5\": 82, \"0\": 21, \"4\": 4}, \"3\": {\"3\": 1156, \"8\": 44}, \"9\": {\"12\": 98, \"9\": 1079, \"11\": 23}, \"6\": {\"6\": 584, \"1\": 326, \"5\": 51, \"4\": 224, \"15\": 10, \"0\": 5}, \"1\": {\"1\": 799, \"4\": 17, \"15\": 80, \"6\": 300, \"14\": 1, \"0\": 1, \"5\": 2}, \"11\": {\"15\": 39, \"11\": 1097, \"9\": 25, \"14\": 32, \"12\": 7}, \"2\": {\"2\": 1120, \"0\": 80}}, \"8\": {\"1\": {\"1\": 973, \"5\": 54, \"10\": 30, \"13\": 142, \"0\": 1}, \"11\": {\"15\": 246, \"11\": 549, \"12\": 135, \"8\": 266, \"7\": 1, \"13\": 1, \"6\": 2}, \"3\": {\"3\": 1024, \"15\": 12, \"12\": 163, \"2\": 1}, \"6\": {\"6\": 587, \"4\": 326, \"14\": 51, \"7\": 193, \"2\": 19, \"13\": 7, \"8\": 11, \"0\": 6}, \"7\": {\"7\": 525, \"2\": 168, \"4\": 277, \"6\": 206, \"0\": 1, \"8\": 15, \"15\": 6, \"14\": 2}, \"5\": {\"5\": 966, \"1\": 57, \"10\": 168, \"13\": 5, \"14\": 1, \"0\": 3}, \"2\": {\"2\": 920, \"7\": 170, \"4\": 98, \"6\": 11, \"15\": 1}, \"15\": {\"12\": 225, \"15\": 620, \"8\": 115, \"3\": 29, \"11\": 196, \"6\": 3, \"7\": 10, \"2\": 2}, \"10\": {\"10\": 771, \"0\": 188, \"13\": 68, \"14\": 33, \"5\": 121, \"1\": 19}, \"13\": {\"14\": 189, \"13\": 748, \"1\": 161, \"10\": 62, \"0\": 26, \"6\": 12, \"4\": 1, \"8\": 1}, \"8\": {\"8\": 929, \"11\": 122, \"15\": 110, \"6\": 17, \"7\": 16, \"4\": 3, \"13\": 2, \"14\": 1}, \"4\": {\"7\": 281, \"4\": 442, \"6\": 363, \"2\": 91, \"14\": 17, \"8\": 4, \"13\": 1, \"0\": 1}, \"9\": {\"9\": 1200}, \"14\": {\"14\": 735, \"13\": 144, \"4\": 13, \"6\": 57, \"0\": 223, \"10\": 25, \"7\": 2, \"8\": 1}, \"0\": {\"0\": 763, \"14\": 218, \"13\": 25, \"10\": 177, \"5\": 4, \"6\": 9, \"4\": 3, \"1\": 1}, \"12\": {\"3\": 185, \"12\": 852, \"11\": 35, \"15\": 127, \"8\": 1}}, \"32\": {\"15\": {\"15\": 1196, \"8\": 4}, \"11\": {\"11\": 451, \"2\": 66, \"13\": 136, \"4\": 114, \"7\": 312, \"0\": 99, \"5\": 18, \"8\": 3, \"14\": 1}, \"10\": {\"10\": 1195, \"1\": 5}, \"14\": {\"14\": 973, \"2\": 177, \"5\": 34, \"0\": 13, \"11\": 2, \"9\": 1}, \"6\": {\"6\": 1200}, \"4\": {\"0\": 216, \"4\": 354, \"8\": 59, \"11\": 154, \"5\": 129, \"13\": 216, \"2\": 16, \"7\": 55, \"3\": 1}, \"13\": {\"4\": 193, \"8\": 76, \"3\": 23, \"13\": 544, \"0\": 68, \"11\": 110, \"7\": 164, \"5\": 22}, \"3\": {\"3\": 1125, \"13\": 47, \"8\": 21, \"7\": 5, \"4\": 1, \"11\": 1}, \"7\": {\"11\": 329, \"4\": 52, \"13\": 139, \"7\": 644, \"3\": 2, \"2\": 8, \"0\": 22, \"5\": 4}, \"8\": {\"8\": 900, \"0\": 42, \"5\": 83, \"13\": 78, \"4\": 56, \"3\": 30, \"11\": 5, \"15\": 5, \"7\": 1}, \"1\": {\"1\": 1193, \"10\": 7}, \"5\": {\"0\": 206, \"5\": 410, \"8\": 154, \"13\": 63, \"2\": 115, \"11\": 21, \"14\": 94, \"4\": 126, \"7\": 6, \"3\": 4, \"15\": 1}, \"0\": {\"0\": 463, \"4\": 214, \"11\": 132, \"5\": 211, \"13\": 68, \"8\": 35, \"2\": 57, \"7\": 14, \"14\": 6}, \"2\": {\"2\": 876, \"14\": 137, \"0\": 53, \"5\": 64, \"11\": 39, \"4\": 23, \"7\": 8}, \"12\": {\"12\": 1200}, \"9\": {\"9\": 1171, \"14\": 29}}, \"26\": {\"0\": {\"1\": 200, \"4\": 189, \"14\": 236, \"0\": 312, \"2\": 14, \"10\": 134, \"8\": 83, \"9\": 10, \"3\": 1, \"6\": 5, \"7\": 14, \"15\": 1, \"5\": 1}, \"4\": {\"4\": 570, \"7\": 87, \"14\": 48, \"10\": 27, \"0\": 142, \"15\": 46, \"3\": 66, \"2\": 131, \"1\": 13, \"8\": 64, \"9\": 6}, \"14\": {\"1\": 268, \"14\": 282, \"8\": 98, \"0\": 249, \"4\": 68, \"10\": 191, \"9\": 13, \"7\": 10, \"2\": 7, \"6\": 13, \"5\": 1}, \"12\": {\"12\": 1198, \"11\": 2}, \"8\": {\"6\": 25, \"14\": 91, \"8\": 391, \"5\": 60, \"7\": 99, \"4\": 79, \"9\": 174, \"0\": 83, \"13\": 11, \"2\": 85, \"10\": 84, \"1\": 12, \"15\": 4, \"3\": 2}, \"7\": {\"9\": 71, \"2\": 304, \"7\": 316, \"3\": 89, \"4\": 88, \"15\": 126, \"8\": 109, \"5\": 64, \"0\": 17, \"14\": 4, \"13\": 7, \"10\": 5}, \"13\": {\"5\": 274, \"13\": 699, \"6\": 83, \"2\": 3, \"9\": 127, \"7\": 10, \"15\": 1, \"8\": 3}, \"5\": {\"6\": 199, \"5\": 260, \"3\": 26, \"13\": 288, \"7\": 104, \"9\": 171, \"2\": 58, \"8\": 46, \"15\": 33, \"10\": 8, \"0\": 1, \"4\": 2, \"14\": 3, \"1\": 1}, \"15\": {\"4\": 69, \"15\": 412, \"2\": 140, \"7\": 96, \"3\": 448, \"5\": 15, \"0\": 3, \"8\": 11, \"9\": 6}, \"10\": {\"0\": 160, \"14\": 181, \"6\": 116, \"10\": 335, \"1\": 198, \"4\": 79, \"8\": 71, \"2\": 17, \"7\": 16, \"3\": 3, \"9\": 11, \"12\": 6, \"15\": 5, \"5\": 2}, \"3\": {\"7\": 76, \"3\": 464, \"15\": 420, \"2\": 148, \"4\": 76, \"0\": 3, \"8\": 5, \"5\": 7, \"9\": 1}, \"9\": {\"6\": 108, \"13\": 128, \"8\": 164, \"3\": 2, \"7\": 58, \"9\": 421, \"5\": 226, \"10\": 19, \"14\": 7, \"2\": 46, \"0\": 9, \"15\": 6, \"4\": 6}, \"6\": {\"6\": 767, \"9\": 110, \"10\": 89, \"14\": 22, \"8\": 33, \"13\": 70, \"5\": 97, \"1\": 9, \"0\": 3}, \"1\": {\"10\": 186, \"1\": 537, \"14\": 257, \"0\": 179, \"4\": 15, \"7\": 3, \"8\": 18, \"6\": 5}, \"11\": {\"11\": 1195, \"12\": 5}, \"2\": {\"2\": 326, \"15\": 119, \"8\": 80, \"4\": 138, \"3\": 129, \"7\": 299, \"0\": 15, \"9\": 49, \"5\": 27, \"14\": 7, \"10\": 7, \"13\": 4}}, \"44\": {\"1\": {\"3\": 162, \"1\": 692, \"12\": 331, \"7\": 8, \"10\": 4, \"2\": 3}, \"11\": {\"11\": 1009, \"6\": 181, \"9\": 3, \"7\": 7}, \"3\": {\"3\": 963, \"1\": 176, \"12\": 59, \"2\": 2}, \"6\": {\"6\": 1029, \"2\": 4, \"11\": 97, \"9\": 43, \"13\": 8, \"7\": 19}, \"7\": {\"7\": 608, \"9\": 306, \"2\": 258, \"6\": 16, \"3\": 4, \"1\": 8}, \"5\": {\"5\": 1066, \"14\": 119, \"8\": 12, \"15\": 1, \"0\": 2}, \"2\": {\"2\": 590, \"9\": 341, \"7\": 252, \"3\": 5, \"1\": 8, \"6\": 4}, \"15\": {\"15\": 1039, \"4\": 39, \"14\": 114, \"8\": 6, \"5\": 1, \"0\": 1}, \"10\": {\"10\": 1126, \"12\": 49, \"1\": 24, \"7\": 1}, \"13\": {\"13\": 1119, \"4\": 53, \"6\": 26, \"14\": 2}, \"8\": {\"8\": 699, \"0\": 470, \"5\": 21, \"15\": 8, \"14\": 2}, \"4\": {\"4\": 1041, \"14\": 73, \"13\": 23, \"15\": 62, \"2\": 1}, \"9\": {\"9\": 476, \"7\": 292, \"2\": 389, \"6\": 41, \"1\": 2}, \"14\": {\"4\": 87, \"14\": 852, \"5\": 109, \"15\": 145, \"13\": 2, \"8\": 3, \"0\": 2}, \"0\": {\"0\": 673, \"8\": 517, \"5\": 5, \"14\": 1, \"15\": 4}, \"12\": {\"12\": 786, \"1\": 330, \"3\": 70, \"10\": 14}}, \"20\": {\"15\": {\"15\": 364, \"9\": 117, \"1\": 107, \"13\": 279, \"12\": 102, \"2\": 98, \"0\": 44, \"5\": 60, \"3\": 26, \"4\": 3}, \"4\": {\"4\": 949, \"10\": 22, \"3\": 29, \"5\": 36, \"12\": 50, \"0\": 60, \"8\": 34, \"1\": 4, \"2\": 6, \"9\": 9, \"14\": 1}, \"6\": {\"6\": 1018, \"14\": 101, \"7\": 35, \"10\": 15, \"8\": 30, \"3\": 1}, \"2\": {\"3\": 170, \"15\": 111, \"13\": 76, \"9\": 224, \"5\": 177, \"12\": 53, \"2\": 327, \"7\": 26, \"1\": 16, \"8\": 3, \"4\": 4, \"0\": 13}, \"5\": {\"9\": 176, \"1\": 28, \"7\": 49, \"3\": 242, \"5\": 213, \"15\": 57, \"2\": 178, \"12\": 115, \"4\": 52, \"8\": 12, \"0\": 51, \"13\": 21, \"10\": 6}, \"9\": {\"9\": 278, \"13\": 64, \"15\": 125, \"5\": 174, \"2\": 245, \"3\": 118, \"12\": 112, \"10\": 1, \"7\": 11, \"1\": 23, \"0\": 36, \"4\": 12, \"8\": 1}, \"8\": {\"7\": 185, \"8\": 480, \"10\": 253, \"6\": 41, \"14\": 116, \"4\": 63, \"3\": 43, \"2\": 3, \"5\": 14, \"9\": 1, \"12\": 1}, \"12\": {\"9\": 109, \"12\": 302, \"1\": 207, \"5\": 103, \"3\": 17, \"0\": 224, \"4\": 59, \"15\": 111, \"2\": 57, \"13\": 10, \"8\": 1}, \"10\": {\"8\": 271, \"14\": 285, \"10\": 524, \"4\": 27, \"7\": 44, \"6\": 29, \"3\": 19, \"5\": 1}, \"1\": {\"0\": 283, \"1\": 494, \"12\": 184, \"15\": 131, \"4\": 11, \"13\": 31, \"3\": 2, \"2\": 16, \"9\": 26, \"5\": 22}, \"0\": {\"0\": 420, \"5\": 55, \"12\": 256, \"1\": 261, \"15\": 49, \"4\": 85, \"3\": 9, \"9\": 38, \"2\": 16, \"13\": 11}, \"3\": {\"7\": 202, \"13\": 10, \"9\": 117, \"10\": 13, \"2\": 177, \"5\": 181, \"3\": 323, \"8\": 63, \"12\": 44, \"0\": 15, \"15\": 27, \"4\": 23, \"1\": 5}, \"13\": {\"13\": 763, \"2\": 69, \"15\": 270, \"1\": 17, \"9\": 49, \"5\": 10, \"0\": 3, \"12\": 16, \"4\": 1, \"3\": 1, \"7\": 1}, \"11\": {\"11\": 1194, \"7\": 4, \"5\": 1, \"3\": 1}, \"7\": {\"3\": 141, \"7\": 781, \"11\": 5, \"10\": 23, \"6\": 36, \"5\": 20, \"8\": 154, \"14\": 1, \"2\": 24, \"9\": 11, \"13\": 3, \"4\": 1}, \"14\": {\"14\": 597, \"10\": 327, \"8\": 119, \"6\": 135, \"4\": 13, \"7\": 9}}, \"38\": {\"15\": {\"15\": 399, \"13\": 266, \"8\": 187, \"5\": 129, \"3\": 93, \"7\": 9, \"1\": 89, \"0\": 6, \"6\": 14, \"10\": 6, \"9\": 2}, \"11\": {\"11\": 958, \"14\": 118, \"12\": 115, \"2\": 9}, \"10\": {\"7\": 447, \"10\": 578, \"5\": 47, \"13\": 14, \"12\": 2, \"3\": 40, \"8\": 44, \"0\": 20, \"4\": 2, \"15\": 6}, \"14\": {\"2\": 254, \"11\": 104, \"14\": 636, \"12\": 162, \"7\": 17, \"13\": 7, \"5\": 15, \"10\": 5}, \"6\": {\"6\": 809, \"9\": 379, \"3\": 12}, \"4\": {\"4\": 1106, \"12\": 86, \"10\": 7, \"7\": 1}, \"13\": {\"15\": 256, \"13\": 226, \"3\": 87, \"5\": 210, \"6\": 18, \"7\": 54, \"8\": 170, \"10\": 19, \"2\": 18, \"1\": 115, \"0\": 13, \"14\": 11, \"9\": 3}, \"3\": {\"15\": 96, \"9\": 71, \"3\": 303, \"8\": 91, \"0\": 343, \"5\": 40, \"6\": 81, \"10\": 59, \"7\": 58, \"13\": 53, \"1\": 5}, \"7\": {\"7\": 562, \"10\": 367, \"0\": 5, \"8\": 96, \"5\": 121, \"13\": 14, \"12\": 2, \"3\": 25, \"4\": 1, \"15\": 7}, \"8\": {\"15\": 207, \"5\": 309, \"8\": 380, \"13\": 157, \"7\": 81, \"3\": 27, \"10\": 31, \"0\": 2, \"1\": 6}, \"1\": {\"1\": 1082, \"15\": 62, \"13\": 44, \"8\": 6, \"9\": 1, \"3\": 2, \"6\": 2, \"5\": 1}, \"5\": {\"5\": 418, \"7\": 123, \"13\": 150, \"8\": 304, \"15\": 127, \"3\": 34, \"1\": 3, \"10\": 36, \"0\": 4, \"9\": 1}, \"0\": {\"0\": 874, \"3\": 273, \"10\": 19, \"6\": 6, \"9\": 14, \"7\": 6, \"8\": 5, \"13\": 1, \"15\": 1, \"5\": 1}, \"2\": {\"2\": 1032, \"14\": 167, \"13\": 1}, \"12\": {\"12\": 1115, \"4\": 58, \"7\": 2, \"11\": 4, \"14\": 20, \"10\": 1}, \"9\": {\"9\": 738, \"6\": 434, \"3\": 22, \"0\": 6}}, \"14\": {\"0\": {\"10\": 47, \"0\": 1140, \"9\": 2, \"14\": 4, \"3\": 6, \"11\": 1}, \"12\": {\"11\": 339, \"12\": 608, \"9\": 91, \"0\": 76, \"8\": 38, \"10\": 46, \"14\": 2}, \"1\": {\"1\": 1018, \"5\": 125, \"4\": 51, \"3\": 3, \"2\": 3}, \"4\": {\"5\": 404, \"4\": 492, \"2\": 103, \"3\": 129, \"1\": 54, \"14\": 15, \"13\": 1, \"6\": 2}, \"5\": {\"5\": 514, \"14\": 8, \"2\": 87, \"3\": 67, \"1\": 138, \"4\": 386}, \"3\": {\"4\": 131, \"3\": 885, \"5\": 77, \"14\": 61, \"2\": 26, \"1\": 14, \"6\": 2, \"0\": 4}, \"7\": {\"7\": 1144, \"15\": 53, \"1\": 3}, \"15\": {\"15\": 1131, \"7\": 68, \"2\": 1}, \"13\": {\"2\": 97, \"13\": 764, \"6\": 317, \"14\": 18, \"5\": 2, \"4\": 1, \"15\": 1}, \"10\": {\"0\": 173, \"10\": 989, \"11\": 36, \"12\": 2}, \"14\": {\"14\": 734, \"13\": 21, \"0\": 23, \"6\": 201, \"2\": 119, \"3\": 61, \"4\": 29, \"5\": 12}, \"6\": {\"6\": 698, \"14\": 189, \"13\": 238, \"2\": 68, \"3\": 2, \"4\": 4, \"5\": 1}, \"9\": {\"9\": 1190, \"11\": 3, \"12\": 7}, \"2\": {\"14\": 175, \"2\": 443, \"3\": 81, \"6\": 73, \"4\": 134, \"5\": 137, \"13\": 132, \"1\": 12, \"15\": 9, \"0\": 4}, \"8\": {\"8\": 1200}, \"11\": {\"11\": 1130, \"12\": 40, \"10\": 15, \"9\": 15}}}, \"per_domain_accuracy\": {\"50\": {\"accuracy\": 0.749375, \"source?\": true}, \"8\": {\"accuracy\": 0.6564583333333334, \"source?\": true}, \"32\": {\"accuracy\": 0.7236979166666667, \"source?\": true}, \"26\": {\"accuracy\": 0.44192708333333336, \"source?\": false}, \"44\": {\"accuracy\": 0.7170833333333333, \"source?\": false}, \"20\": {\"accuracy\": 0.47015625, \"source?\": false}, \"38\": {\"accuracy\": 0.5841666666666666, \"source?\": false}, \"14\": {\"accuracy\": 0.7333333333333333, \"source?\": false}}}, \"history\": {\"epoch_indices\": [1, 2, 3, 4, 5, 6, 7, 8, 9, 10], \"train_label_loss\": [1.3362162623779168, 0.8449076457676433, 0.7100303336883348, 0.6306378482045636, 0.5672202048965154, 0.5078736854226343, 0.44870512485297187, 0.3994005414527205, 0.35199065349670866, 0.31447358864019553], \"source_val_label_loss\": [1.061387062072754, 0.8228556513786316, 0.8010890483856201, 0.7869488596916199, 0.8040089011192322, 0.8185043334960938, 0.8341965675354004, 0.8421093225479126, 0.879764974117279, 0.9081500172615051], \"target_val_label_loss\": [1.3544028997421265, 1.238661766052246, 1.230481743812561, 1.2228100299835205, 1.2454137802124023, 1.295654058456421, 1.3019295930862427, 1.3313868045806885, 1.3941700458526611, 1.4206106662750244], \"source_val_acc_label\": [0.5928298611111111, 0.6807465277777778, 0.6987847222222222, 0.7036631944444445, 0.6945486111111111, 0.70984375, 0.7019097222222223, 0.7033680555555556, 0.7031770833333333, 0.7039409722222222], \"target_val_acc_label\": [0.50428125, 0.5610833333333334, 0.5811770833333333, 0.5840833333333333, 0.5755104166666667, 0.5893333333333334, 0.5824166666666667, 0.5825, 0.5835104166666667, 0.58459375]}, \"dataset_metrics\": {\"source\": {\"train\": {\"n_unique_x\": 336000, \"n_unique_y\": 16, \"n_batch/episode\": 12600}, \"val\": {\"n_unique_x\": 72000, \"n_unique_y\": 16, \"n_batch/episode\": 1800}, \"test\": {\"n_unique_x\": 72000, \"n_unique_y\": 16, \"n_batch/episode\": 1800}}, \"target\": {\"train\": {\"n_unique_x\": 560000, \"n_unique_y\": 16, \"n_batch/episode\": 21000}, \"val\": {\"n_unique_x\": 120000, \"n_unique_y\": 16, \"n_batch/episode\": 3000}, \"test\": {\"n_unique_x\": 120000, \"n_unique_y\": 16, \"n_batch/episode\": 3000}}}}'"
      ]
     },
     "execution_count": 20,
     "metadata": {},
     "output_type": "execute_result"
    }
   ],
   "source": [
    "json.dumps(experiment)"
   ]
  }
 ],
 "metadata": {
  "celltoolbar": "Tags",
  "kernelspec": {
   "display_name": "Python 3 (ipykernel)",
   "language": "python",
   "name": "python3"
  },
  "language_info": {
   "codemirror_mode": {
    "name": "ipython",
    "version": 3
   },
   "file_extension": ".py",
   "mimetype": "text/x-python",
   "name": "python",
   "nbconvert_exporter": "python",
   "pygments_lexer": "ipython3",
   "version": "3.8.10"
  },
  "papermill": {
   "default_parameters": {},
   "duration": 3903.518377,
   "end_time": "2022-03-21T21:59:33.341345",
   "environment_variables": {},
   "exception": null,
   "input_path": "/mnt/wd500GB/CSC500/csc500-main/csc500-notebooks/templates/ptn_template.ipynb",
   "output_path": "trial.ipynb",
   "parameters": {
    "parameters": {
     "BEST_MODEL_PATH": "./best_model.pth",
     "NUM_LOGS_PER_EPOCH": 10,
     "criteria_for_best": "target_accuracy",
     "dataset_seed": 7,
     "device": "cuda",
     "domains_source": [
      8,
      32,
      50
     ],
     "domains_target": [
      14,
      20,
      26,
      38,
      44
     ],
     "episode_transforms_source": [],
     "episode_transforms_target": [],
     "experiment_name": "tuned_1v2:oracle.run2",
     "labels_source": [
      "3123D52",
      "3123D65",
      "3123D79",
      "3123D80",
      "3123D54",
      "3123D70",
      "3123D7B",
      "3123D89",
      "3123D58",
      "3123D76",
      "3123D7D",
      "3123EFE",
      "3123D64",
      "3123D78",
      "3123D7E",
      "3124E4A"
     ],
     "labels_target": [
      "3123D52",
      "3123D65",
      "3123D79",
      "3123D80",
      "3123D54",
      "3123D70",
      "3123D7B",
      "3123D89",
      "3123D58",
      "3123D76",
      "3123D7D",
      "3123EFE",
      "3123D64",
      "3123D78",
      "3123D7E",
      "3124E4A"
     ],
     "lr": 0.0001,
     "n_epoch": 50,
     "n_query": 2,
     "n_shot": 3,
     "n_way": 16,
     "num_examples_per_domain_per_label_source": -1,
     "num_examples_per_domain_per_label_target": -1,
     "patience": 3,
     "pickle_name": "oracle.Run2_10kExamples_stratified_ds.2022A.pkl",
     "seed": 7,
     "test_k_factor": 2,
     "torch_default_dtype": "torch.float32",
     "train_k_factor": 3,
     "val_k_factor": 2,
     "x_net": [
      {
       "class": "nnReshape",
       "kargs": {
        "shape": [
         -1,
         1,
         2,
         256
        ]
       }
      },
      {
       "class": "Conv2d",
       "kargs": {
        "bias": false,
        "in_channels": 1,
        "kernel_size": [
         1,
         7
        ],
        "out_channels": 256,
        "padding": [
         0,
         3
        ]
       }
      },
      {
       "class": "ReLU",
       "kargs": {
        "inplace": true
       }
      },
      {
       "class": "BatchNorm2d",
       "kargs": {
        "num_features": 256
       }
      },
      {
       "class": "Conv2d",
       "kargs": {
        "bias": true,
        "in_channels": 256,
        "kernel_size": [
         2,
         7
        ],
        "out_channels": 80,
        "padding": [
         0,
         3
        ]
       }
      },
      {
       "class": "ReLU",
       "kargs": {
        "inplace": true
       }
      },
      {
       "class": "BatchNorm2d",
       "kargs": {
        "num_features": 80
       }
      },
      {
       "class": "Flatten",
       "kargs": {}
      },
      {
       "class": "Linear",
       "kargs": {
        "in_features": 20480,
        "out_features": 256
       }
      },
      {
       "class": "ReLU",
       "kargs": {
        "inplace": true
       }
      },
      {
       "class": "BatchNorm1d",
       "kargs": {
        "num_features": 256
       }
      },
      {
       "class": "Linear",
       "kargs": {
        "in_features": 256,
        "out_features": 256
       }
      }
     ],
     "x_transforms_source": [
      "unit_power"
     ],
     "x_transforms_target": [
      "unit_power"
     ]
    }
   },
   "start_time": "2022-03-21T20:54:29.822968",
   "version": "2.3.4"
  }
 },
 "nbformat": 4,
 "nbformat_minor": 5
}