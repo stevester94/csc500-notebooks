{
 "cells": [
  {
   "cell_type": "markdown",
   "id": "9fea5f46",
   "metadata": {
    "papermill": {
     "duration": 0.009338,
     "end_time": "2022-03-21T10:57:18.187068",
     "exception": false,
     "start_time": "2022-03-21T10:57:18.177730",
     "status": "completed"
    },
    "tags": []
   },
   "source": [
    "# PTN Template\n",
    "This notebook serves as a template for single dataset PTN experiments  \n",
    "It can be run on its own by setting STANDALONE to True (do a find for \"STANDALONE\" to see where)  \n",
    "But it is intended to be executed as part of a *papermill.py script. See any of the   \n",
    "experimentes with a papermill script to get started with that workflow.  "
   ]
  },
  {
   "cell_type": "code",
   "execution_count": 1,
   "id": "0902182a",
   "metadata": {
    "execution": {
     "iopub.execute_input": "2022-03-21T10:57:18.219185Z",
     "iopub.status.busy": "2022-03-21T10:57:18.218925Z",
     "iopub.status.idle": "2022-03-21T10:57:19.149739Z",
     "shell.execute_reply": "2022-03-21T10:57:19.149222Z"
    },
    "papermill": {
     "duration": 0.953574,
     "end_time": "2022-03-21T10:57:19.149855",
     "exception": false,
     "start_time": "2022-03-21T10:57:18.196281",
     "status": "completed"
    },
    "tags": []
   },
   "outputs": [],
   "source": [
    "%load_ext autoreload\n",
    "%autoreload 2\n",
    "%matplotlib inline\n",
    "\n",
    "    \n",
    "import os, json, sys, time, random\n",
    "import numpy as np\n",
    "import torch\n",
    "from torch.optim import Adam\n",
    "from  easydict import EasyDict\n",
    "import matplotlib.pyplot as plt\n",
    "\n",
    "from steves_models.steves_ptn import Steves_Prototypical_Network\n",
    "\n",
    "from steves_utils.lazy_iterable_wrapper import Lazy_Iterable_Wrapper\n",
    "from steves_utils.iterable_aggregator import Iterable_Aggregator\n",
    "from steves_utils.ptn_train_eval_test_jig import  PTN_Train_Eval_Test_Jig\n",
    "from steves_utils.torch_sequential_builder import build_sequential\n",
    "from steves_utils.torch_utils import get_dataset_metrics, ptn_confusion_by_domain_over_dataloader\n",
    "from steves_utils.utils_v2 import (per_domain_accuracy_from_confusion, get_datasets_base_path)\n",
    "from steves_utils.PTN.utils import independent_accuracy_assesment\n",
    "\n",
    "from steves_utils.stratified_dataset.episodic_accessor import Episodic_Accessor_Factory\n",
    "\n",
    "from steves_utils.ptn_do_report import (\n",
    "    get_loss_curve,\n",
    "    get_results_table,\n",
    "    get_parameters_table,\n",
    "    get_domain_accuracies,\n",
    ")\n",
    "\n",
    "from steves_utils.transforms import get_chained_transform"
   ]
  },
  {
   "cell_type": "markdown",
   "id": "41c840b4",
   "metadata": {
    "papermill": {
     "duration": 0.012261,
     "end_time": "2022-03-21T10:57:19.181564",
     "exception": false,
     "start_time": "2022-03-21T10:57:19.169303",
     "status": "completed"
    },
    "tags": []
   },
   "source": [
    "# Required Parameters\n",
    "These are allowed parameters, not defaults\n",
    "Each of these values need to be present in the injected parameters (the notebook will raise an exception if they are not present)\n",
    "\n",
    "Papermill uses the cell tag \"parameters\" to inject the real parameters below this cell.\n",
    "Enable tags to see what I mean"
   ]
  },
  {
   "cell_type": "code",
   "execution_count": 2,
   "id": "fd44eb83",
   "metadata": {
    "execution": {
     "iopub.execute_input": "2022-03-21T10:57:19.203658Z",
     "iopub.status.busy": "2022-03-21T10:57:19.203395Z",
     "iopub.status.idle": "2022-03-21T10:57:19.217591Z",
     "shell.execute_reply": "2022-03-21T10:57:19.217958Z"
    },
    "papermill": {
     "duration": 0.026496,
     "end_time": "2022-03-21T10:57:19.218061",
     "exception": false,
     "start_time": "2022-03-21T10:57:19.191565",
     "status": "completed"
    },
    "tags": []
   },
   "outputs": [],
   "source": [
    "required_parameters = {\n",
    "    \"experiment_name\",\n",
    "    \"lr\",\n",
    "    \"device\",\n",
    "    \"seed\",\n",
    "    \"dataset_seed\",\n",
    "    \"labels_source\",\n",
    "    \"labels_target\",\n",
    "    \"domains_source\",\n",
    "    \"domains_target\",\n",
    "    \"num_examples_per_domain_per_label_source\",\n",
    "    \"num_examples_per_domain_per_label_target\",\n",
    "    \"n_shot\",\n",
    "    \"n_way\",\n",
    "    \"n_query\",\n",
    "    \"train_k_factor\",\n",
    "    \"val_k_factor\",\n",
    "    \"test_k_factor\",\n",
    "    \"n_epoch\",\n",
    "    \"patience\",\n",
    "    \"criteria_for_best\",\n",
    "    \"x_transforms_source\",\n",
    "    \"x_transforms_target\",\n",
    "    \"episode_transforms_source\",\n",
    "    \"episode_transforms_target\",\n",
    "    \"pickle_name\",\n",
    "    \"x_net\",\n",
    "    \"NUM_LOGS_PER_EPOCH\",\n",
    "    \"BEST_MODEL_PATH\",\n",
    "    \"torch_default_dtype\"\n",
    "}"
   ]
  },
  {
   "cell_type": "code",
   "execution_count": 3,
   "id": "fa3f0049",
   "metadata": {
    "execution": {
     "iopub.execute_input": "2022-03-21T10:57:19.246567Z",
     "iopub.status.busy": "2022-03-21T10:57:19.246288Z",
     "iopub.status.idle": "2022-03-21T10:57:19.258085Z",
     "shell.execute_reply": "2022-03-21T10:57:19.257703Z"
    },
    "papermill": {
     "duration": 0.026672,
     "end_time": "2022-03-21T10:57:19.258172",
     "exception": false,
     "start_time": "2022-03-21T10:57:19.231500",
     "status": "completed"
    },
    "tags": [
     "parameters"
    ]
   },
   "outputs": [],
   "source": [
    "\n",
    "\n",
    "standalone_parameters = {}\n",
    "standalone_parameters[\"experiment_name\"] = \"STANDALONE PTN\"\n",
    "standalone_parameters[\"lr\"] = 0.0001\n",
    "standalone_parameters[\"device\"] = \"cuda\"\n",
    "\n",
    "standalone_parameters[\"seed\"] = 1337\n",
    "standalone_parameters[\"dataset_seed\"] = 1337\n",
    "\n",
    "\n",
    "standalone_parameters[\"num_examples_per_domain_per_label_source\"]=100\n",
    "standalone_parameters[\"num_examples_per_domain_per_label_target\"]=100\n",
    "\n",
    "standalone_parameters[\"n_shot\"] = 3\n",
    "standalone_parameters[\"n_query\"]  = 2\n",
    "standalone_parameters[\"train_k_factor\"] = 1\n",
    "standalone_parameters[\"val_k_factor\"] = 2\n",
    "standalone_parameters[\"test_k_factor\"] = 2\n",
    "\n",
    "\n",
    "standalone_parameters[\"n_epoch\"] = 100\n",
    "\n",
    "standalone_parameters[\"patience\"] = 10\n",
    "standalone_parameters[\"criteria_for_best\"] = \"target_accuracy\"\n",
    "\n",
    "standalone_parameters[\"x_transforms_source\"] = [\"unit_power\"]\n",
    "standalone_parameters[\"x_transforms_target\"] = [\"unit_power\"]\n",
    "standalone_parameters[\"episode_transforms_source\"] = []\n",
    "standalone_parameters[\"episode_transforms_target\"] = []\n",
    "\n",
    "standalone_parameters[\"torch_default_dtype\"] = \"torch.float32\" \n",
    "\n",
    "\n",
    "\n",
    "standalone_parameters[\"x_net\"] =     [\n",
    "    {\"class\": \"nnReshape\", \"kargs\": {\"shape\":[-1, 1, 2, 256]}},\n",
    "    {\"class\": \"Conv2d\", \"kargs\": { \"in_channels\":1, \"out_channels\":256, \"kernel_size\":(1,7), \"bias\":False, \"padding\":(0,3), },},\n",
    "    {\"class\": \"ReLU\", \"kargs\": {\"inplace\": True}},\n",
    "    {\"class\": \"BatchNorm2d\", \"kargs\": {\"num_features\":256}},\n",
    "\n",
    "    {\"class\": \"Conv2d\", \"kargs\": { \"in_channels\":256, \"out_channels\":80, \"kernel_size\":(2,7), \"bias\":True, \"padding\":(0,3), },},\n",
    "    {\"class\": \"ReLU\", \"kargs\": {\"inplace\": True}},\n",
    "    {\"class\": \"BatchNorm2d\", \"kargs\": {\"num_features\":80}},\n",
    "    {\"class\": \"Flatten\", \"kargs\": {}},\n",
    "\n",
    "    {\"class\": \"Linear\", \"kargs\": {\"in_features\": 80*256, \"out_features\": 256}}, # 80 units per IQ pair\n",
    "    {\"class\": \"ReLU\", \"kargs\": {\"inplace\": True}},\n",
    "    {\"class\": \"BatchNorm1d\", \"kargs\": {\"num_features\":256}},\n",
    "\n",
    "    {\"class\": \"Linear\", \"kargs\": {\"in_features\": 256, \"out_features\": 256}},\n",
    "]\n",
    "\n",
    "# Parameters relevant to results\n",
    "# These parameters will basically never need to change\n",
    "standalone_parameters[\"NUM_LOGS_PER_EPOCH\"] = 10\n",
    "standalone_parameters[\"BEST_MODEL_PATH\"] = \"./best_model.pth\"\n",
    "\n",
    "# uncomment for CORES dataset\n",
    "from steves_utils.CORES.utils import (\n",
    "    ALL_NODES,\n",
    "    ALL_NODES_MINIMUM_1000_EXAMPLES,\n",
    "    ALL_DAYS\n",
    ")\n",
    "\n",
    "\n",
    "standalone_parameters[\"labels_source\"] = ALL_NODES\n",
    "standalone_parameters[\"labels_target\"] = ALL_NODES\n",
    "\n",
    "standalone_parameters[\"domains_source\"] = [1]\n",
    "standalone_parameters[\"domains_target\"] = [2,3,4,5]\n",
    "\n",
    "standalone_parameters[\"pickle_name\"] = \"cores.stratified_ds.2022A.pkl\"\n",
    "\n",
    "\n",
    "# Uncomment these for ORACLE dataset\n",
    "# from steves_utils.ORACLE.utils_v2 import (\n",
    "#     ALL_DISTANCES_FEET,\n",
    "#     ALL_RUNS,\n",
    "#     ALL_SERIAL_NUMBERS,\n",
    "# )\n",
    "# standalone_parameters[\"labels_source\"] = ALL_SERIAL_NUMBERS\n",
    "# standalone_parameters[\"labels_target\"] = ALL_SERIAL_NUMBERS\n",
    "# standalone_parameters[\"domains_source\"] = [8,20, 38,50]\n",
    "# standalone_parameters[\"domains_target\"] = [14, 26, 32, 44, 56]\n",
    "# standalone_parameters[\"pickle_name\"] = \"oracle.frame_indexed.stratified_ds.2022A.pkl\"\n",
    "# standalone_parameters[\"num_examples_per_domain_per_label_source\"]=1000\n",
    "# standalone_parameters[\"num_examples_per_domain_per_label_target\"]=1000\n",
    "\n",
    "# Uncomment these for Metahan dataset\n",
    "# standalone_parameters[\"labels_source\"] = list(range(19))\n",
    "# standalone_parameters[\"labels_target\"] = list(range(19))\n",
    "# standalone_parameters[\"domains_source\"] = [0]\n",
    "# standalone_parameters[\"domains_target\"] = [1]\n",
    "# standalone_parameters[\"pickle_name\"] = \"metehan.stratified_ds.2022A.pkl\"\n",
    "# standalone_parameters[\"n_way\"]  = len(standalone_parameters[\"labels_source\"])\n",
    "# standalone_parameters[\"num_examples_per_domain_per_label_source\"]=200\n",
    "# standalone_parameters[\"num_examples_per_domain_per_label_target\"]=100\n",
    "\n",
    "\n",
    "standalone_parameters[\"n_way\"]  = len(standalone_parameters[\"labels_source\"])"
   ]
  },
  {
   "cell_type": "code",
   "execution_count": 4,
   "id": "2224573f",
   "metadata": {
    "execution": {
     "iopub.execute_input": "2022-03-21T10:57:19.286077Z",
     "iopub.status.busy": "2022-03-21T10:57:19.285804Z",
     "iopub.status.idle": "2022-03-21T10:57:19.297010Z",
     "shell.execute_reply": "2022-03-21T10:57:19.296628Z"
    },
    "papermill": {
     "duration": 0.025176,
     "end_time": "2022-03-21T10:57:19.297098",
     "exception": false,
     "start_time": "2022-03-21T10:57:19.271922",
     "status": "completed"
    },
    "tags": [
     "injected-parameters"
    ]
   },
   "outputs": [],
   "source": [
    "# Parameters\n",
    "parameters = {\n",
    "    \"experiment_name\": \"tuned_1v2:oracle.run2\",\n",
    "    \"device\": \"cuda\",\n",
    "    \"lr\": 0.0001,\n",
    "    \"labels_source\": [\n",
    "        \"3123D52\",\n",
    "        \"3123D65\",\n",
    "        \"3123D79\",\n",
    "        \"3123D80\",\n",
    "        \"3123D54\",\n",
    "        \"3123D70\",\n",
    "        \"3123D7B\",\n",
    "        \"3123D89\",\n",
    "        \"3123D58\",\n",
    "        \"3123D76\",\n",
    "        \"3123D7D\",\n",
    "        \"3123EFE\",\n",
    "        \"3123D64\",\n",
    "        \"3123D78\",\n",
    "        \"3123D7E\",\n",
    "        \"3124E4A\",\n",
    "    ],\n",
    "    \"labels_target\": [\n",
    "        \"3123D52\",\n",
    "        \"3123D65\",\n",
    "        \"3123D79\",\n",
    "        \"3123D80\",\n",
    "        \"3123D54\",\n",
    "        \"3123D70\",\n",
    "        \"3123D7B\",\n",
    "        \"3123D89\",\n",
    "        \"3123D58\",\n",
    "        \"3123D76\",\n",
    "        \"3123D7D\",\n",
    "        \"3123EFE\",\n",
    "        \"3123D64\",\n",
    "        \"3123D78\",\n",
    "        \"3123D7E\",\n",
    "        \"3124E4A\",\n",
    "    ],\n",
    "    \"episode_transforms_source\": [],\n",
    "    \"episode_transforms_target\": [],\n",
    "    \"domains_source\": [8, 32, 50],\n",
    "    \"domains_target\": [14, 20, 26, 38, 44],\n",
    "    \"num_examples_per_domain_per_label_source\": -1,\n",
    "    \"num_examples_per_domain_per_label_target\": -1,\n",
    "    \"n_shot\": 3,\n",
    "    \"n_way\": 16,\n",
    "    \"n_query\": 2,\n",
    "    \"train_k_factor\": 3,\n",
    "    \"val_k_factor\": 2,\n",
    "    \"test_k_factor\": 2,\n",
    "    \"torch_default_dtype\": \"torch.float32\",\n",
    "    \"n_epoch\": 50,\n",
    "    \"patience\": 3,\n",
    "    \"criteria_for_best\": \"target_accuracy\",\n",
    "    \"x_net\": [\n",
    "        {\"class\": \"nnReshape\", \"kargs\": {\"shape\": [-1, 1, 2, 256]}},\n",
    "        {\n",
    "            \"class\": \"Conv2d\",\n",
    "            \"kargs\": {\n",
    "                \"in_channels\": 1,\n",
    "                \"out_channels\": 256,\n",
    "                \"kernel_size\": [1, 7],\n",
    "                \"bias\": False,\n",
    "                \"padding\": [0, 3],\n",
    "            },\n",
    "        },\n",
    "        {\"class\": \"ReLU\", \"kargs\": {\"inplace\": True}},\n",
    "        {\"class\": \"BatchNorm2d\", \"kargs\": {\"num_features\": 256}},\n",
    "        {\n",
    "            \"class\": \"Conv2d\",\n",
    "            \"kargs\": {\n",
    "                \"in_channels\": 256,\n",
    "                \"out_channels\": 80,\n",
    "                \"kernel_size\": [2, 7],\n",
    "                \"bias\": True,\n",
    "                \"padding\": [0, 3],\n",
    "            },\n",
    "        },\n",
    "        {\"class\": \"ReLU\", \"kargs\": {\"inplace\": True}},\n",
    "        {\"class\": \"BatchNorm2d\", \"kargs\": {\"num_features\": 80}},\n",
    "        {\"class\": \"Flatten\", \"kargs\": {}},\n",
    "        {\"class\": \"Linear\", \"kargs\": {\"in_features\": 20480, \"out_features\": 256}},\n",
    "        {\"class\": \"ReLU\", \"kargs\": {\"inplace\": True}},\n",
    "        {\"class\": \"BatchNorm1d\", \"kargs\": {\"num_features\": 256}},\n",
    "        {\"class\": \"Linear\", \"kargs\": {\"in_features\": 256, \"out_features\": 256}},\n",
    "    ],\n",
    "    \"NUM_LOGS_PER_EPOCH\": 10,\n",
    "    \"BEST_MODEL_PATH\": \"./best_model.pth\",\n",
    "    \"pickle_name\": \"oracle.Run2_10kExamples_stratified_ds.2022A.pkl\",\n",
    "    \"x_transforms_source\": [\"unit_mag\"],\n",
    "    \"x_transforms_target\": [\"unit_mag\"],\n",
    "    \"dataset_seed\": 154325,\n",
    "    \"seed\": 154325,\n",
    "}\n"
   ]
  },
  {
   "cell_type": "code",
   "execution_count": 5,
   "id": "8fa1cc33",
   "metadata": {
    "execution": {
     "iopub.execute_input": "2022-03-21T10:57:19.323557Z",
     "iopub.status.busy": "2022-03-21T10:57:19.323222Z",
     "iopub.status.idle": "2022-03-21T10:57:19.336909Z",
     "shell.execute_reply": "2022-03-21T10:57:19.336468Z"
    },
    "papermill": {
     "duration": 0.026074,
     "end_time": "2022-03-21T10:57:19.336996",
     "exception": false,
     "start_time": "2022-03-21T10:57:19.310922",
     "status": "completed"
    },
    "tags": []
   },
   "outputs": [],
   "source": [
    "# Set this to True if you want to run this template directly\n",
    "STANDALONE = False\n",
    "if STANDALONE:\n",
    "    print(\"parameters not injected, running with standalone_parameters\")\n",
    "    parameters = standalone_parameters\n",
    "\n",
    "if not 'parameters' in locals() and not 'parameters' in globals():\n",
    "    raise Exception(\"Parameter injection failed\")\n",
    "\n",
    "#Use an easy dict for all the parameters\n",
    "p = EasyDict(parameters)\n",
    "\n",
    "supplied_keys = set(p.keys())\n",
    "\n",
    "if  supplied_keys != required_parameters:\n",
    "    print(\"Parameters are incorrect\")\n",
    "    if len(supplied_keys - required_parameters)>0: print(\"Shouldn't have:\", str(supplied_keys - required_parameters))\n",
    "    if len(required_parameters - supplied_keys)>0: print(\"Need to have:\", str(required_parameters - supplied_keys))\n",
    "    raise RuntimeError(\"Parameters are incorrect\")\n",
    "\n"
   ]
  },
  {
   "cell_type": "code",
   "execution_count": 6,
   "id": "3a028d58",
   "metadata": {
    "execution": {
     "iopub.execute_input": "2022-03-21T10:57:19.362821Z",
     "iopub.status.busy": "2022-03-21T10:57:19.362578Z",
     "iopub.status.idle": "2022-03-21T10:57:19.375406Z",
     "shell.execute_reply": "2022-03-21T10:57:19.375769Z"
    },
    "papermill": {
     "duration": 0.024883,
     "end_time": "2022-03-21T10:57:19.375870",
     "exception": false,
     "start_time": "2022-03-21T10:57:19.350987",
     "status": "completed"
    },
    "tags": []
   },
   "outputs": [],
   "source": [
    "###################################\n",
    "# Set the RNGs and make it all deterministic\n",
    "###################################\n",
    "np.random.seed(p.seed)\n",
    "random.seed(p.seed)\n",
    "torch.manual_seed(p.seed)\n",
    "\n",
    "torch.use_deterministic_algorithms(True) "
   ]
  },
  {
   "cell_type": "code",
   "execution_count": 7,
   "id": "b691acf6",
   "metadata": {
    "execution": {
     "iopub.execute_input": "2022-03-21T10:57:19.398919Z",
     "iopub.status.busy": "2022-03-21T10:57:19.398675Z",
     "iopub.status.idle": "2022-03-21T10:57:19.412200Z",
     "shell.execute_reply": "2022-03-21T10:57:19.411757Z"
    },
    "papermill": {
     "duration": 0.024902,
     "end_time": "2022-03-21T10:57:19.412287",
     "exception": false,
     "start_time": "2022-03-21T10:57:19.387385",
     "status": "completed"
    },
    "tags": []
   },
   "outputs": [],
   "source": [
    "###########################################\n",
    "# The stratified datasets honor this\n",
    "###########################################\n",
    "torch.set_default_dtype(eval(p.torch_default_dtype))"
   ]
  },
  {
   "cell_type": "code",
   "execution_count": 8,
   "id": "b5fba671",
   "metadata": {
    "execution": {
     "iopub.execute_input": "2022-03-21T10:57:19.438127Z",
     "iopub.status.busy": "2022-03-21T10:57:19.437887Z",
     "iopub.status.idle": "2022-03-21T10:57:19.473408Z",
     "shell.execute_reply": "2022-03-21T10:57:19.473774Z"
    },
    "papermill": {
     "duration": 0.047217,
     "end_time": "2022-03-21T10:57:19.473876",
     "exception": false,
     "start_time": "2022-03-21T10:57:19.426659",
     "status": "completed"
    },
    "tags": []
   },
   "outputs": [],
   "source": [
    "###################################\n",
    "# Build the network(s)\n",
    "# Note: It's critical to do this AFTER setting the RNG\n",
    "# (This is due to the randomized initial weights)\n",
    "###################################\n",
    "x_net = build_sequential(p.x_net)"
   ]
  },
  {
   "cell_type": "code",
   "execution_count": 9,
   "id": "5d7e61cc",
   "metadata": {
    "execution": {
     "iopub.execute_input": "2022-03-21T10:57:19.499877Z",
     "iopub.status.busy": "2022-03-21T10:57:19.499632Z",
     "iopub.status.idle": "2022-03-21T10:57:19.514230Z",
     "shell.execute_reply": "2022-03-21T10:57:19.513912Z"
    },
    "papermill": {
     "duration": 0.026162,
     "end_time": "2022-03-21T10:57:19.514299",
     "exception": false,
     "start_time": "2022-03-21T10:57:19.488137",
     "status": "completed"
    },
    "tags": []
   },
   "outputs": [],
   "source": [
    "start_time_secs = time.time()"
   ]
  },
  {
   "cell_type": "code",
   "execution_count": 10,
   "id": "fd5442bc",
   "metadata": {
    "execution": {
     "iopub.execute_input": "2022-03-21T10:57:19.544387Z",
     "iopub.status.busy": "2022-03-21T10:57:19.544129Z",
     "iopub.status.idle": "2022-03-21T10:58:38.486078Z",
     "shell.execute_reply": "2022-03-21T10:58:38.485590Z"
    },
    "papermill": {
     "duration": 78.956523,
     "end_time": "2022-03-21T10:58:38.486179",
     "exception": false,
     "start_time": "2022-03-21T10:57:19.529656",
     "status": "completed"
    },
    "tags": []
   },
   "outputs": [],
   "source": [
    "###################################\n",
    "# Build the dataset\n",
    "###################################\n",
    "\n",
    "if p.x_transforms_source == []: x_transform_source = None\n",
    "else: x_transform_source = get_chained_transform(p.x_transforms_source) \n",
    "\n",
    "if p.x_transforms_target == []: x_transform_target = None\n",
    "else: x_transform_target = get_chained_transform(p.x_transforms_target)\n",
    "\n",
    "if p.episode_transforms_source == []: episode_transform_source = None\n",
    "else: raise Exception(\"episode_transform_source not implemented\")\n",
    "\n",
    "if p.episode_transforms_target == []: episode_transform_target = None\n",
    "else: raise Exception(\"episode_transform_target not implemented\")\n",
    "\n",
    "\n",
    "eaf_source = Episodic_Accessor_Factory(\n",
    "    labels=p.labels_source,\n",
    "    domains=p.domains_source,\n",
    "    num_examples_per_domain_per_label=p.num_examples_per_domain_per_label_source,\n",
    "    iterator_seed=p.seed,\n",
    "    dataset_seed=p.dataset_seed,\n",
    "    n_shot=p.n_shot,\n",
    "    n_way=p.n_way,\n",
    "    n_query=p.n_query,\n",
    "    train_val_test_k_factors=(p.train_k_factor,p.val_k_factor,p.test_k_factor),\n",
    "    pickle_path=os.path.join(get_datasets_base_path(), p.pickle_name),\n",
    "    x_transform_func=x_transform_source,\n",
    "    example_transform_func=episode_transform_source,\n",
    "    \n",
    ")\n",
    "train_original_source, val_original_source, test_original_source = eaf_source.get_train(), eaf_source.get_val(), eaf_source.get_test()\n",
    "\n",
    "\n",
    "eaf_target = Episodic_Accessor_Factory(\n",
    "    labels=p.labels_target,\n",
    "    domains=p.domains_target,\n",
    "    num_examples_per_domain_per_label=p.num_examples_per_domain_per_label_target,\n",
    "    iterator_seed=p.seed,\n",
    "    dataset_seed=p.dataset_seed,\n",
    "    n_shot=p.n_shot,\n",
    "    n_way=p.n_way,\n",
    "    n_query=p.n_query,\n",
    "    train_val_test_k_factors=(p.train_k_factor,p.val_k_factor,p.test_k_factor),\n",
    "    pickle_path=os.path.join(get_datasets_base_path(), p.pickle_name),\n",
    "    x_transform_func=x_transform_target,\n",
    "    example_transform_func=episode_transform_target,\n",
    ")\n",
    "train_original_target, val_original_target, test_original_target = eaf_target.get_train(), eaf_target.get_val(), eaf_target.get_test()\n",
    "\n",
    "\n",
    "transform_lambda = lambda ex: ex[1] # Original is (<domain>, <episode>) so we strip down to episode only\n",
    "\n",
    "train_processed_source = Lazy_Iterable_Wrapper(train_original_source, transform_lambda)\n",
    "val_processed_source   = Lazy_Iterable_Wrapper(val_original_source, transform_lambda)\n",
    "test_processed_source  = Lazy_Iterable_Wrapper(test_original_source, transform_lambda)\n",
    "\n",
    "train_processed_target = Lazy_Iterable_Wrapper(train_original_target, transform_lambda)\n",
    "val_processed_target   = Lazy_Iterable_Wrapper(val_original_target, transform_lambda)\n",
    "test_processed_target  = Lazy_Iterable_Wrapper(test_original_target, transform_lambda)\n",
    "\n",
    "datasets = EasyDict({\n",
    "    \"source\": {\n",
    "        \"original\": {\"train\":train_original_source, \"val\":val_original_source, \"test\":test_original_source},\n",
    "        \"processed\": {\"train\":train_processed_source, \"val\":val_processed_source, \"test\":test_processed_source}\n",
    "    },\n",
    "    \"target\": {\n",
    "        \"original\": {\"train\":train_original_target, \"val\":val_original_target, \"test\":test_original_target},\n",
    "        \"processed\": {\"train\":train_processed_target, \"val\":val_processed_target, \"test\":test_processed_target}\n",
    "    },\n",
    "})"
   ]
  },
  {
   "cell_type": "code",
   "execution_count": 11,
   "id": "296189d9",
   "metadata": {
    "execution": {
     "iopub.execute_input": "2022-03-21T10:58:38.516559Z",
     "iopub.status.busy": "2022-03-21T10:58:38.516303Z",
     "iopub.status.idle": "2022-03-21T10:58:40.489679Z",
     "shell.execute_reply": "2022-03-21T10:58:40.490087Z"
    },
    "papermill": {
     "duration": 1.987519,
     "end_time": "2022-03-21T10:58:40.490217",
     "exception": false,
     "start_time": "2022-03-21T10:58:38.502698",
     "status": "completed"
    },
    "tags": []
   },
   "outputs": [
    {
     "name": "stdout",
     "output_type": "stream",
     "text": [
      "Visually inspect these to see if they line up with expected values given the transforms\n",
      "x_transforms_source ['unit_mag']\n",
      "x_transforms_target ['unit_mag']\n",
      "Average magnitude, source: 1.0\n",
      "Average power, source: 1.2865458\n"
     ]
    },
    {
     "name": "stdout",
     "output_type": "stream",
     "text": [
      "Average magnitude, target: 1.0\n",
      "Average power, target: 1.2938029\n"
     ]
    }
   ],
   "source": [
    "# Some quick unit tests on the data\n",
    "from steves_utils.transforms import get_average_power, get_average_magnitude\n",
    "\n",
    "q_x, q_y, s_x, s_y, truth = next(iter(train_processed_source))\n",
    "\n",
    "assert q_x.dtype == eval(p.torch_default_dtype)\n",
    "assert s_x.dtype == eval(p.torch_default_dtype)\n",
    "\n",
    "print(\"Visually inspect these to see if they line up with expected values given the transforms\")\n",
    "print('x_transforms_source', p.x_transforms_source)\n",
    "print('x_transforms_target', p.x_transforms_target)\n",
    "print(\"Average magnitude, source:\", get_average_magnitude(q_x[0].numpy()))\n",
    "print(\"Average power, source:\", get_average_power(q_x[0].numpy()))\n",
    "\n",
    "q_x, q_y, s_x, s_y, truth = next(iter(train_processed_target))\n",
    "print(\"Average magnitude, target:\", get_average_magnitude(q_x[0].numpy()))\n",
    "print(\"Average power, target:\", get_average_power(q_x[0].numpy()))\n"
   ]
  },
  {
   "cell_type": "code",
   "execution_count": 12,
   "id": "bbdacba1",
   "metadata": {
    "execution": {
     "iopub.execute_input": "2022-03-21T10:58:40.520256Z",
     "iopub.status.busy": "2022-03-21T10:58:40.519995Z",
     "iopub.status.idle": "2022-03-21T10:58:40.584316Z",
     "shell.execute_reply": "2022-03-21T10:58:40.584551Z"
    },
    "papermill": {
     "duration": 0.077995,
     "end_time": "2022-03-21T10:58:40.584618",
     "exception": false,
     "start_time": "2022-03-21T10:58:40.506623",
     "status": "completed"
    },
    "tags": []
   },
   "outputs": [
    {
     "name": "stdout",
     "output_type": "stream",
     "text": [
      "(2, 256)\n"
     ]
    }
   ],
   "source": [
    "###################################\n",
    "# Build the model\n",
    "###################################\n",
    "model = Steves_Prototypical_Network(x_net, device=p.device, x_shape=(2,256))\n",
    "optimizer = Adam(params=model.parameters(), lr=p.lr)"
   ]
  },
  {
   "cell_type": "code",
   "execution_count": 13,
   "id": "22b39ac5",
   "metadata": {
    "execution": {
     "iopub.execute_input": "2022-03-21T10:58:40.607603Z",
     "iopub.status.busy": "2022-03-21T10:58:40.607354Z",
     "iopub.status.idle": "2022-03-21T12:16:01.296306Z",
     "shell.execute_reply": "2022-03-21T12:16:01.296075Z"
    },
    "papermill": {
     "duration": 4640.701367,
     "end_time": "2022-03-21T12:16:01.296364",
     "exception": false,
     "start_time": "2022-03-21T10:58:40.594997",
     "status": "completed"
    },
    "tags": []
   },
   "outputs": [
    {
     "name": "stdout",
     "output_type": "stream",
     "text": [
      "epoch: 1, [batch: 1 / 12600], examples_per_second: 25.9758, train_label_loss: 2.7993, \n"
     ]
    },
    {
     "name": "stdout",
     "output_type": "stream",
     "text": [
      "epoch: 1, [batch: 1260 / 12600], examples_per_second: 3167.3550, train_label_loss: 1.5138, \n"
     ]
    },
    {
     "name": "stdout",
     "output_type": "stream",
     "text": [
      "epoch: 1, [batch: 2520 / 12600], examples_per_second: 3157.7284, train_label_loss: 1.1859, \n"
     ]
    },
    {
     "name": "stdout",
     "output_type": "stream",
     "text": [
      "epoch: 1, [batch: 3780 / 12600], examples_per_second: 3153.4917, train_label_loss: 1.0676, \n"
     ]
    },
    {
     "name": "stdout",
     "output_type": "stream",
     "text": [
      "epoch: 1, [batch: 5040 / 12600], examples_per_second: 3140.0481, train_label_loss: 1.1843, \n"
     ]
    },
    {
     "name": "stdout",
     "output_type": "stream",
     "text": [
      "epoch: 1, [batch: 6300 / 12600], examples_per_second: 3155.3336, train_label_loss: 1.5167, \n"
     ]
    },
    {
     "name": "stdout",
     "output_type": "stream",
     "text": [
      "epoch: 1, [batch: 7560 / 12600], examples_per_second: 3153.6899, train_label_loss: 1.3299, \n"
     ]
    },
    {
     "name": "stdout",
     "output_type": "stream",
     "text": [
      "epoch: 1, [batch: 8820 / 12600], examples_per_second: 3160.2611, train_label_loss: 0.9394, \n"
     ]
    },
    {
     "name": "stdout",
     "output_type": "stream",
     "text": [
      "epoch: 1, [batch: 10080 / 12600], examples_per_second: 3163.6482, train_label_loss: 1.2364, \n"
     ]
    },
    {
     "name": "stdout",
     "output_type": "stream",
     "text": [
      "epoch: 1, [batch: 11340 / 12600], examples_per_second: 3166.0877, train_label_loss: 0.8477, \n"
     ]
    },
    {
     "name": "stdout",
     "output_type": "stream",
     "text": [
      "=============================================================\n",
      "epoch: 1, source_val_acc_label: 0.6169, target_val_acc_label: 0.5040, source_val_label_loss: 1.0171, target_val_label_loss: 1.4522, \n",
      "=============================================================\n"
     ]
    },
    {
     "name": "stdout",
     "output_type": "stream",
     "text": [
      "New best\n"
     ]
    },
    {
     "name": "stdout",
     "output_type": "stream",
     "text": [
      "epoch: 2, [batch: 1 / 12600], examples_per_second: 2.2399, train_label_loss: 0.9583, \n"
     ]
    },
    {
     "name": "stdout",
     "output_type": "stream",
     "text": [
      "epoch: 2, [batch: 1260 / 12600], examples_per_second: 3169.0455, train_label_loss: 0.7341, \n"
     ]
    },
    {
     "name": "stdout",
     "output_type": "stream",
     "text": [
      "epoch: 2, [batch: 2520 / 12600], examples_per_second: 3175.7579, train_label_loss: 0.9061, \n"
     ]
    },
    {
     "name": "stdout",
     "output_type": "stream",
     "text": [
      "epoch: 2, [batch: 3780 / 12600], examples_per_second: 3180.3075, train_label_loss: 1.0851, \n"
     ]
    },
    {
     "name": "stdout",
     "output_type": "stream",
     "text": [
      "epoch: 2, [batch: 5040 / 12600], examples_per_second: 3171.2709, train_label_loss: 0.7696, \n"
     ]
    },
    {
     "name": "stdout",
     "output_type": "stream",
     "text": [
      "epoch: 2, [batch: 6300 / 12600], examples_per_second: 3179.3370, train_label_loss: 0.9056, \n"
     ]
    },
    {
     "name": "stdout",
     "output_type": "stream",
     "text": [
      "epoch: 2, [batch: 7560 / 12600], examples_per_second: 3183.7153, train_label_loss: 0.5028, \n"
     ]
    },
    {
     "name": "stdout",
     "output_type": "stream",
     "text": [
      "epoch: 2, [batch: 8820 / 12600], examples_per_second: 3179.5472, train_label_loss: 0.7633, \n"
     ]
    },
    {
     "name": "stdout",
     "output_type": "stream",
     "text": [
      "epoch: 2, [batch: 10080 / 12600], examples_per_second: 3186.3037, train_label_loss: 0.4822, \n"
     ]
    },
    {
     "name": "stdout",
     "output_type": "stream",
     "text": [
      "epoch: 2, [batch: 11340 / 12600], examples_per_second: 3189.7147, train_label_loss: 0.9925, \n"
     ]
    },
    {
     "name": "stdout",
     "output_type": "stream",
     "text": [
      "=============================================================\n",
      "epoch: 2, source_val_acc_label: 0.6823, target_val_acc_label: 0.5626, source_val_label_loss: 0.8313, target_val_label_loss: 1.2428, \n",
      "=============================================================\n"
     ]
    },
    {
     "name": "stdout",
     "output_type": "stream",
     "text": [
      "New best\n"
     ]
    },
    {
     "name": "stdout",
     "output_type": "stream",
     "text": [
      "epoch: 3, [batch: 1 / 12600], examples_per_second: 2.2419, train_label_loss: 0.4392, \n"
     ]
    },
    {
     "name": "stdout",
     "output_type": "stream",
     "text": [
      "epoch: 3, [batch: 1260 / 12600], examples_per_second: 3168.3011, train_label_loss: 0.7436, \n"
     ]
    },
    {
     "name": "stdout",
     "output_type": "stream",
     "text": [
      "epoch: 3, [batch: 2520 / 12600], examples_per_second: 3180.6812, train_label_loss: 0.4550, \n"
     ]
    },
    {
     "name": "stdout",
     "output_type": "stream",
     "text": [
      "epoch: 3, [batch: 3780 / 12600], examples_per_second: 3180.3339, train_label_loss: 0.4913, \n"
     ]
    },
    {
     "name": "stdout",
     "output_type": "stream",
     "text": [
      "epoch: 3, [batch: 5040 / 12600], examples_per_second: 3164.9428, train_label_loss: 0.9244, \n"
     ]
    },
    {
     "name": "stdout",
     "output_type": "stream",
     "text": [
      "epoch: 3, [batch: 6300 / 12600], examples_per_second: 3186.9489, train_label_loss: 0.5933, \n"
     ]
    },
    {
     "name": "stdout",
     "output_type": "stream",
     "text": [
      "epoch: 3, [batch: 7560 / 12600], examples_per_second: 3186.1999, train_label_loss: 0.8961, \n"
     ]
    },
    {
     "name": "stdout",
     "output_type": "stream",
     "text": [
      "epoch: 3, [batch: 8820 / 12600], examples_per_second: 3175.7026, train_label_loss: 0.5621, \n"
     ]
    },
    {
     "name": "stdout",
     "output_type": "stream",
     "text": [
      "epoch: 3, [batch: 10080 / 12600], examples_per_second: 3190.5414, train_label_loss: 0.6053, \n"
     ]
    },
    {
     "name": "stdout",
     "output_type": "stream",
     "text": [
      "epoch: 3, [batch: 11340 / 12600], examples_per_second: 3169.3717, train_label_loss: 0.5627, \n"
     ]
    },
    {
     "name": "stdout",
     "output_type": "stream",
     "text": [
      "=============================================================\n",
      "epoch: 3, source_val_acc_label: 0.6851, target_val_acc_label: 0.5669, source_val_label_loss: 0.8139, target_val_label_loss: 1.2217, \n",
      "=============================================================\n"
     ]
    },
    {
     "name": "stdout",
     "output_type": "stream",
     "text": [
      "New best\n"
     ]
    },
    {
     "name": "stdout",
     "output_type": "stream",
     "text": [
      "epoch: 4, [batch: 1 / 12600], examples_per_second: 2.2364, train_label_loss: 0.7490, \n"
     ]
    },
    {
     "name": "stdout",
     "output_type": "stream",
     "text": [
      "epoch: 4, [batch: 1260 / 12600], examples_per_second: 3171.7632, train_label_loss: 0.8284, \n"
     ]
    },
    {
     "name": "stdout",
     "output_type": "stream",
     "text": [
      "epoch: 4, [batch: 2520 / 12600], examples_per_second: 3180.6760, train_label_loss: 0.5905, \n"
     ]
    },
    {
     "name": "stdout",
     "output_type": "stream",
     "text": [
      "epoch: 4, [batch: 3780 / 12600], examples_per_second: 3178.6392, train_label_loss: 0.7722, \n"
     ]
    },
    {
     "name": "stdout",
     "output_type": "stream",
     "text": [
      "epoch: 4, [batch: 5040 / 12600], examples_per_second: 3168.7544, train_label_loss: 0.6182, \n"
     ]
    },
    {
     "name": "stdout",
     "output_type": "stream",
     "text": [
      "epoch: 4, [batch: 6300 / 12600], examples_per_second: 3173.1367, train_label_loss: 0.7115, \n"
     ]
    },
    {
     "name": "stdout",
     "output_type": "stream",
     "text": [
      "epoch: 4, [batch: 7560 / 12600], examples_per_second: 3182.4883, train_label_loss: 0.5203, \n"
     ]
    },
    {
     "name": "stdout",
     "output_type": "stream",
     "text": [
      "epoch: 4, [batch: 8820 / 12600], examples_per_second: 3161.6335, train_label_loss: 0.4463, \n"
     ]
    },
    {
     "name": "stdout",
     "output_type": "stream",
     "text": [
      "epoch: 4, [batch: 10080 / 12600], examples_per_second: 3183.4303, train_label_loss: 0.9006, \n"
     ]
    },
    {
     "name": "stdout",
     "output_type": "stream",
     "text": [
      "epoch: 4, [batch: 11340 / 12600], examples_per_second: 3188.5670, train_label_loss: 0.4909, \n"
     ]
    },
    {
     "name": "stdout",
     "output_type": "stream",
     "text": [
      "=============================================================\n",
      "epoch: 4, source_val_acc_label: 0.6996, target_val_acc_label: 0.5832, source_val_label_loss: 0.7947, target_val_label_loss: 1.2293, \n",
      "=============================================================\n"
     ]
    },
    {
     "name": "stdout",
     "output_type": "stream",
     "text": [
      "New best\n"
     ]
    },
    {
     "name": "stdout",
     "output_type": "stream",
     "text": [
      "epoch: 5, [batch: 1 / 12600], examples_per_second: 2.2327, train_label_loss: 0.6382, \n"
     ]
    },
    {
     "name": "stdout",
     "output_type": "stream",
     "text": [
      "epoch: 5, [batch: 1260 / 12600], examples_per_second: 3153.7591, train_label_loss: 0.7625, \n"
     ]
    },
    {
     "name": "stdout",
     "output_type": "stream",
     "text": [
      "epoch: 5, [batch: 2520 / 12600], examples_per_second: 3176.5706, train_label_loss: 0.4763, \n"
     ]
    },
    {
     "name": "stdout",
     "output_type": "stream",
     "text": [
      "epoch: 5, [batch: 3780 / 12600], examples_per_second: 3177.3739, train_label_loss: 0.6867, \n"
     ]
    },
    {
     "name": "stdout",
     "output_type": "stream",
     "text": [
      "epoch: 5, [batch: 5040 / 12600], examples_per_second: 3173.4728, train_label_loss: 0.4441, \n"
     ]
    },
    {
     "name": "stdout",
     "output_type": "stream",
     "text": [
      "epoch: 5, [batch: 6300 / 12600], examples_per_second: 3178.4847, train_label_loss: 0.3679, \n"
     ]
    },
    {
     "name": "stdout",
     "output_type": "stream",
     "text": [
      "epoch: 5, [batch: 7560 / 12600], examples_per_second: 3186.3505, train_label_loss: 0.3490, \n"
     ]
    },
    {
     "name": "stdout",
     "output_type": "stream",
     "text": [
      "epoch: 5, [batch: 8820 / 12600], examples_per_second: 3174.3683, train_label_loss: 0.6985, \n"
     ]
    },
    {
     "name": "stdout",
     "output_type": "stream",
     "text": [
      "epoch: 5, [batch: 10080 / 12600], examples_per_second: 3186.6224, train_label_loss: 0.4595, \n"
     ]
    },
    {
     "name": "stdout",
     "output_type": "stream",
     "text": [
      "epoch: 5, [batch: 11340 / 12600], examples_per_second: 3190.9471, train_label_loss: 0.4234, \n"
     ]
    },
    {
     "name": "stdout",
     "output_type": "stream",
     "text": [
      "=============================================================\n",
      "epoch: 5, source_val_acc_label: 0.7084, target_val_acc_label: 0.5857, source_val_label_loss: 0.7931, target_val_label_loss: 1.2551, \n",
      "=============================================================\n"
     ]
    },
    {
     "name": "stdout",
     "output_type": "stream",
     "text": [
      "New best\n"
     ]
    },
    {
     "name": "stdout",
     "output_type": "stream",
     "text": [
      "epoch: 6, [batch: 1 / 12600], examples_per_second: 2.2368, train_label_loss: 0.3712, \n"
     ]
    },
    {
     "name": "stdout",
     "output_type": "stream",
     "text": [
      "epoch: 6, [batch: 1260 / 12600], examples_per_second: 3172.4634, train_label_loss: 0.6788, \n"
     ]
    },
    {
     "name": "stdout",
     "output_type": "stream",
     "text": [
      "epoch: 6, [batch: 2520 / 12600], examples_per_second: 3182.3434, train_label_loss: 0.4335, \n"
     ]
    },
    {
     "name": "stdout",
     "output_type": "stream",
     "text": [
      "epoch: 6, [batch: 3780 / 12600], examples_per_second: 3187.1631, train_label_loss: 0.3358, \n"
     ]
    },
    {
     "name": "stdout",
     "output_type": "stream",
     "text": [
      "epoch: 6, [batch: 5040 / 12600], examples_per_second: 3172.7538, train_label_loss: 0.5735, \n"
     ]
    },
    {
     "name": "stdout",
     "output_type": "stream",
     "text": [
      "epoch: 6, [batch: 6300 / 12600], examples_per_second: 3184.8413, train_label_loss: 0.5627, \n"
     ]
    },
    {
     "name": "stdout",
     "output_type": "stream",
     "text": [
      "epoch: 6, [batch: 7560 / 12600], examples_per_second: 3180.9336, train_label_loss: 0.4685, \n"
     ]
    },
    {
     "name": "stdout",
     "output_type": "stream",
     "text": [
      "epoch: 6, [batch: 8820 / 12600], examples_per_second: 3173.4622, train_label_loss: 0.2181, \n"
     ]
    },
    {
     "name": "stdout",
     "output_type": "stream",
     "text": [
      "epoch: 6, [batch: 10080 / 12600], examples_per_second: 3187.2678, train_label_loss: 0.2056, \n"
     ]
    },
    {
     "name": "stdout",
     "output_type": "stream",
     "text": [
      "epoch: 6, [batch: 11340 / 12600], examples_per_second: 3186.4953, train_label_loss: 0.3339, \n"
     ]
    },
    {
     "name": "stdout",
     "output_type": "stream",
     "text": [
      "=============================================================\n",
      "epoch: 6, source_val_acc_label: 0.7118, target_val_acc_label: 0.5948, source_val_label_loss: 0.8250, target_val_label_loss: 1.2883, \n",
      "=============================================================\n"
     ]
    },
    {
     "name": "stdout",
     "output_type": "stream",
     "text": [
      "New best\n"
     ]
    },
    {
     "name": "stdout",
     "output_type": "stream",
     "text": [
      "epoch: 7, [batch: 1 / 12600], examples_per_second: 2.2453, train_label_loss: 0.5462, \n"
     ]
    },
    {
     "name": "stdout",
     "output_type": "stream",
     "text": [
      "epoch: 7, [batch: 1260 / 12600], examples_per_second: 3160.7953, train_label_loss: 0.2314, \n"
     ]
    },
    {
     "name": "stdout",
     "output_type": "stream",
     "text": [
      "epoch: 7, [batch: 2520 / 12600], examples_per_second: 3169.3747, train_label_loss: 0.3406, \n"
     ]
    },
    {
     "name": "stdout",
     "output_type": "stream",
     "text": [
      "epoch: 7, [batch: 3780 / 12600], examples_per_second: 3181.9531, train_label_loss: 0.1565, \n"
     ]
    },
    {
     "name": "stdout",
     "output_type": "stream",
     "text": [
      "epoch: 7, [batch: 5040 / 12600], examples_per_second: 3166.3788, train_label_loss: 0.3764, \n"
     ]
    },
    {
     "name": "stdout",
     "output_type": "stream",
     "text": [
      "epoch: 7, [batch: 6300 / 12600], examples_per_second: 3179.3561, train_label_loss: 0.2895, \n"
     ]
    },
    {
     "name": "stdout",
     "output_type": "stream",
     "text": [
      "epoch: 7, [batch: 7560 / 12600], examples_per_second: 3191.0916, train_label_loss: 0.4450, \n"
     ]
    },
    {
     "name": "stdout",
     "output_type": "stream",
     "text": [
      "epoch: 7, [batch: 8820 / 12600], examples_per_second: 3181.7883, train_label_loss: 0.1161, \n"
     ]
    },
    {
     "name": "stdout",
     "output_type": "stream",
     "text": [
      "epoch: 7, [batch: 10080 / 12600], examples_per_second: 3188.4237, train_label_loss: 0.2440, \n"
     ]
    },
    {
     "name": "stdout",
     "output_type": "stream",
     "text": [
      "epoch: 7, [batch: 11340 / 12600], examples_per_second: 3184.8394, train_label_loss: 0.3214, \n"
     ]
    },
    {
     "name": "stdout",
     "output_type": "stream",
     "text": [
      "=============================================================\n",
      "epoch: 7, source_val_acc_label: 0.7103, target_val_acc_label: 0.5909, source_val_label_loss: 0.8374, target_val_label_loss: 1.3237, \n",
      "=============================================================\n"
     ]
    },
    {
     "name": "stdout",
     "output_type": "stream",
     "text": [
      "epoch: 8, [batch: 1 / 12600], examples_per_second: 2.2407, train_label_loss: 0.5626, \n"
     ]
    },
    {
     "name": "stdout",
     "output_type": "stream",
     "text": [
      "epoch: 8, [batch: 1260 / 12600], examples_per_second: 3169.6890, train_label_loss: 0.3298, \n"
     ]
    },
    {
     "name": "stdout",
     "output_type": "stream",
     "text": [
      "epoch: 8, [batch: 2520 / 12600], examples_per_second: 3181.1436, train_label_loss: 0.3797, \n"
     ]
    },
    {
     "name": "stdout",
     "output_type": "stream",
     "text": [
      "epoch: 8, [batch: 3780 / 12600], examples_per_second: 3179.2696, train_label_loss: 0.5445, \n"
     ]
    },
    {
     "name": "stdout",
     "output_type": "stream",
     "text": [
      "epoch: 8, [batch: 5040 / 12600], examples_per_second: 3168.9794, train_label_loss: 0.3933, \n"
     ]
    },
    {
     "name": "stdout",
     "output_type": "stream",
     "text": [
      "epoch: 8, [batch: 6300 / 12600], examples_per_second: 3189.9750, train_label_loss: 0.2371, \n"
     ]
    },
    {
     "name": "stdout",
     "output_type": "stream",
     "text": [
      "epoch: 8, [batch: 7560 / 12600], examples_per_second: 3193.3447, train_label_loss: 0.3705, \n"
     ]
    },
    {
     "name": "stdout",
     "output_type": "stream",
     "text": [
      "epoch: 8, [batch: 8820 / 12600], examples_per_second: 3180.1535, train_label_loss: 0.0920, \n"
     ]
    },
    {
     "name": "stdout",
     "output_type": "stream",
     "text": [
      "epoch: 8, [batch: 10080 / 12600], examples_per_second: 3184.4789, train_label_loss: 0.5783, \n"
     ]
    },
    {
     "name": "stdout",
     "output_type": "stream",
     "text": [
      "epoch: 8, [batch: 11340 / 12600], examples_per_second: 3194.9827, train_label_loss: 0.3095, \n"
     ]
    },
    {
     "name": "stdout",
     "output_type": "stream",
     "text": [
      "=============================================================\n",
      "epoch: 8, source_val_acc_label: 0.7052, target_val_acc_label: 0.5921, source_val_label_loss: 0.8874, target_val_label_loss: 1.3852, \n",
      "=============================================================\n"
     ]
    },
    {
     "name": "stdout",
     "output_type": "stream",
     "text": [
      "epoch: 9, [batch: 1 / 12600], examples_per_second: 2.2449, train_label_loss: 0.4210, \n"
     ]
    },
    {
     "name": "stdout",
     "output_type": "stream",
     "text": [
      "epoch: 9, [batch: 1260 / 12600], examples_per_second: 3164.3334, train_label_loss: 0.1247, \n"
     ]
    },
    {
     "name": "stdout",
     "output_type": "stream",
     "text": [
      "epoch: 9, [batch: 2520 / 12600], examples_per_second: 3183.2211, train_label_loss: 0.3174, \n"
     ]
    },
    {
     "name": "stdout",
     "output_type": "stream",
     "text": [
      "epoch: 9, [batch: 3780 / 12600], examples_per_second: 3178.1516, train_label_loss: 0.3437, \n"
     ]
    },
    {
     "name": "stdout",
     "output_type": "stream",
     "text": [
      "epoch: 9, [batch: 5040 / 12600], examples_per_second: 3167.4129, train_label_loss: 0.3195, \n"
     ]
    },
    {
     "name": "stdout",
     "output_type": "stream",
     "text": [
      "epoch: 9, [batch: 6300 / 12600], examples_per_second: 3173.0218, train_label_loss: 0.1374, \n"
     ]
    },
    {
     "name": "stdout",
     "output_type": "stream",
     "text": [
      "epoch: 9, [batch: 7560 / 12600], examples_per_second: 3182.5501, train_label_loss: 0.4519, \n"
     ]
    },
    {
     "name": "stdout",
     "output_type": "stream",
     "text": [
      "epoch: 9, [batch: 8820 / 12600], examples_per_second: 3183.5979, train_label_loss: 0.1523, \n"
     ]
    },
    {
     "name": "stdout",
     "output_type": "stream",
     "text": [
      "epoch: 9, [batch: 10080 / 12600], examples_per_second: 3174.6543, train_label_loss: 0.1457, \n"
     ]
    },
    {
     "name": "stdout",
     "output_type": "stream",
     "text": [
      "epoch: 9, [batch: 11340 / 12600], examples_per_second: 3182.5916, train_label_loss: 0.2365, \n"
     ]
    },
    {
     "name": "stdout",
     "output_type": "stream",
     "text": [
      "=============================================================\n",
      "epoch: 9, source_val_acc_label: 0.7166, target_val_acc_label: 0.5954, source_val_label_loss: 0.9167, target_val_label_loss: 1.4508, \n",
      "=============================================================\n"
     ]
    },
    {
     "name": "stdout",
     "output_type": "stream",
     "text": [
      "New best\n"
     ]
    },
    {
     "name": "stdout",
     "output_type": "stream",
     "text": [
      "epoch: 10, [batch: 1 / 12600], examples_per_second: 2.2352, train_label_loss: 0.2769, \n"
     ]
    },
    {
     "name": "stdout",
     "output_type": "stream",
     "text": [
      "epoch: 10, [batch: 1260 / 12600], examples_per_second: 3180.5786, train_label_loss: 0.2934, \n"
     ]
    },
    {
     "name": "stdout",
     "output_type": "stream",
     "text": [
      "epoch: 10, [batch: 2520 / 12600], examples_per_second: 3178.5360, train_label_loss: 0.2637, \n"
     ]
    },
    {
     "name": "stdout",
     "output_type": "stream",
     "text": [
      "epoch: 10, [batch: 3780 / 12600], examples_per_second: 3178.4649, train_label_loss: 0.2211, \n"
     ]
    },
    {
     "name": "stdout",
     "output_type": "stream",
     "text": [
      "epoch: 10, [batch: 5040 / 12600], examples_per_second: 3167.7546, train_label_loss: 0.4003, \n"
     ]
    },
    {
     "name": "stdout",
     "output_type": "stream",
     "text": [
      "epoch: 10, [batch: 6300 / 12600], examples_per_second: 3182.4156, train_label_loss: 0.0850, \n"
     ]
    },
    {
     "name": "stdout",
     "output_type": "stream",
     "text": [
      "epoch: 10, [batch: 7560 / 12600], examples_per_second: 3189.0877, train_label_loss: 0.0912, \n"
     ]
    },
    {
     "name": "stdout",
     "output_type": "stream",
     "text": [
      "epoch: 10, [batch: 8820 / 12600], examples_per_second: 3171.3787, train_label_loss: 0.3716, \n"
     ]
    },
    {
     "name": "stdout",
     "output_type": "stream",
     "text": [
      "epoch: 10, [batch: 10080 / 12600], examples_per_second: 3179.5437, train_label_loss: 0.1396, \n"
     ]
    },
    {
     "name": "stdout",
     "output_type": "stream",
     "text": [
      "epoch: 10, [batch: 11340 / 12600], examples_per_second: 3184.9438, train_label_loss: 0.2814, \n"
     ]
    },
    {
     "name": "stdout",
     "output_type": "stream",
     "text": [
      "=============================================================\n",
      "epoch: 10, source_val_acc_label: 0.7118, target_val_acc_label: 0.5908, source_val_label_loss: 0.9570, target_val_label_loss: 1.4972, \n",
      "=============================================================\n"
     ]
    },
    {
     "name": "stdout",
     "output_type": "stream",
     "text": [
      "epoch: 11, [batch: 1 / 12600], examples_per_second: 2.2354, train_label_loss: 0.2537, \n"
     ]
    },
    {
     "name": "stdout",
     "output_type": "stream",
     "text": [
      "epoch: 11, [batch: 1260 / 12600], examples_per_second: 3153.1116, train_label_loss: 0.2665, \n"
     ]
    },
    {
     "name": "stdout",
     "output_type": "stream",
     "text": [
      "epoch: 11, [batch: 2520 / 12600], examples_per_second: 3176.6879, train_label_loss: 0.4743, \n"
     ]
    },
    {
     "name": "stdout",
     "output_type": "stream",
     "text": [
      "epoch: 11, [batch: 3780 / 12600], examples_per_second: 3179.4944, train_label_loss: 0.2610, \n"
     ]
    },
    {
     "name": "stdout",
     "output_type": "stream",
     "text": [
      "epoch: 11, [batch: 5040 / 12600], examples_per_second: 3176.9497, train_label_loss: 0.1281, \n"
     ]
    },
    {
     "name": "stdout",
     "output_type": "stream",
     "text": [
      "epoch: 11, [batch: 6300 / 12600], examples_per_second: 3180.5789, train_label_loss: 0.3503, \n"
     ]
    },
    {
     "name": "stdout",
     "output_type": "stream",
     "text": [
      "epoch: 11, [batch: 7560 / 12600], examples_per_second: 3179.2266, train_label_loss: 0.2556, \n"
     ]
    },
    {
     "name": "stdout",
     "output_type": "stream",
     "text": [
      "epoch: 11, [batch: 8820 / 12600], examples_per_second: 3164.8103, train_label_loss: 0.3044, \n"
     ]
    },
    {
     "name": "stdout",
     "output_type": "stream",
     "text": [
      "epoch: 11, [batch: 10080 / 12600], examples_per_second: 3176.3963, train_label_loss: 0.3389, \n"
     ]
    },
    {
     "name": "stdout",
     "output_type": "stream",
     "text": [
      "epoch: 11, [batch: 11340 / 12600], examples_per_second: 3174.4969, train_label_loss: 0.3639, \n"
     ]
    },
    {
     "name": "stdout",
     "output_type": "stream",
     "text": [
      "=============================================================\n",
      "epoch: 11, source_val_acc_label: 0.7091, target_val_acc_label: 0.5862, source_val_label_loss: 0.9924, target_val_label_loss: 1.5522, \n",
      "=============================================================\n"
     ]
    },
    {
     "name": "stdout",
     "output_type": "stream",
     "text": [
      "epoch: 12, [batch: 1 / 12600], examples_per_second: 2.2310, train_label_loss: 0.3061, \n"
     ]
    },
    {
     "name": "stdout",
     "output_type": "stream",
     "text": [
      "epoch: 12, [batch: 1260 / 12600], examples_per_second: 3166.2591, train_label_loss: 0.0346, \n"
     ]
    },
    {
     "name": "stdout",
     "output_type": "stream",
     "text": [
      "epoch: 12, [batch: 2520 / 12600], examples_per_second: 3180.1813, train_label_loss: 0.4331, \n"
     ]
    },
    {
     "name": "stdout",
     "output_type": "stream",
     "text": [
      "epoch: 12, [batch: 3780 / 12600], examples_per_second: 3182.1208, train_label_loss: 0.1115, \n"
     ]
    },
    {
     "name": "stdout",
     "output_type": "stream",
     "text": [
      "epoch: 12, [batch: 5040 / 12600], examples_per_second: 3167.0899, train_label_loss: 0.2442, \n"
     ]
    },
    {
     "name": "stdout",
     "output_type": "stream",
     "text": [
      "epoch: 12, [batch: 6300 / 12600], examples_per_second: 3187.0479, train_label_loss: 0.2114, \n"
     ]
    },
    {
     "name": "stdout",
     "output_type": "stream",
     "text": [
      "epoch: 12, [batch: 7560 / 12600], examples_per_second: 3186.3434, train_label_loss: 0.1422, \n"
     ]
    },
    {
     "name": "stdout",
     "output_type": "stream",
     "text": [
      "epoch: 12, [batch: 8820 / 12600], examples_per_second: 3180.5558, train_label_loss: 0.2615, \n"
     ]
    },
    {
     "name": "stdout",
     "output_type": "stream",
     "text": [
      "epoch: 12, [batch: 10080 / 12600], examples_per_second: 3180.0112, train_label_loss: 0.0538, \n"
     ]
    },
    {
     "name": "stdout",
     "output_type": "stream",
     "text": [
      "epoch: 12, [batch: 11340 / 12600], examples_per_second: 3185.0125, train_label_loss: 0.5793, \n"
     ]
    },
    {
     "name": "stdout",
     "output_type": "stream",
     "text": [
      "=============================================================\n",
      "epoch: 12, source_val_acc_label: 0.7041, target_val_acc_label: 0.5843, source_val_label_loss: 1.0368, target_val_label_loss: 1.5893, \n",
      "=============================================================\n"
     ]
    },
    {
     "name": "stdout",
     "output_type": "stream",
     "text": [
      "epoch: 13, [batch: 1 / 12600], examples_per_second: 2.2465, train_label_loss: 0.2042, \n"
     ]
    },
    {
     "name": "stdout",
     "output_type": "stream",
     "text": [
      "epoch: 13, [batch: 1260 / 12600], examples_per_second: 3165.4018, train_label_loss: 0.3756, \n"
     ]
    },
    {
     "name": "stdout",
     "output_type": "stream",
     "text": [
      "epoch: 13, [batch: 2520 / 12600], examples_per_second: 3167.2842, train_label_loss: 0.1494, \n"
     ]
    },
    {
     "name": "stdout",
     "output_type": "stream",
     "text": [
      "epoch: 13, [batch: 3780 / 12600], examples_per_second: 3189.7944, train_label_loss: 0.1314, \n"
     ]
    },
    {
     "name": "stdout",
     "output_type": "stream",
     "text": [
      "epoch: 13, [batch: 5040 / 12600], examples_per_second: 3174.5632, train_label_loss: 0.3045, \n"
     ]
    },
    {
     "name": "stdout",
     "output_type": "stream",
     "text": [
      "epoch: 13, [batch: 6300 / 12600], examples_per_second: 3200.4184, train_label_loss: 0.2089, \n"
     ]
    },
    {
     "name": "stdout",
     "output_type": "stream",
     "text": [
      "epoch: 13, [batch: 7560 / 12600], examples_per_second: 3175.8332, train_label_loss: 0.2046, \n"
     ]
    },
    {
     "name": "stdout",
     "output_type": "stream",
     "text": [
      "epoch: 13, [batch: 8820 / 12600], examples_per_second: 3168.1852, train_label_loss: 0.0362, \n"
     ]
    },
    {
     "name": "stdout",
     "output_type": "stream",
     "text": [
      "epoch: 13, [batch: 10080 / 12600], examples_per_second: 3184.6180, train_label_loss: 0.2614, \n"
     ]
    },
    {
     "name": "stdout",
     "output_type": "stream",
     "text": [
      "epoch: 13, [batch: 11340 / 12600], examples_per_second: 3193.7253, train_label_loss: 0.0588, \n"
     ]
    },
    {
     "name": "stdout",
     "output_type": "stream",
     "text": [
      "=============================================================\n",
      "epoch: 13, source_val_acc_label: 0.7056, target_val_acc_label: 0.5843, source_val_label_loss: 1.0958, target_val_label_loss: 1.6929, \n",
      "=============================================================\n"
     ]
    },
    {
     "name": "stdout",
     "output_type": "stream",
     "text": [
      "Patience (3) exhausted\n"
     ]
    }
   ],
   "source": [
    "###################################\n",
    "# train\n",
    "###################################\n",
    "jig = PTN_Train_Eval_Test_Jig(model, p.BEST_MODEL_PATH, p.device)\n",
    "\n",
    "jig.train(\n",
    "    train_iterable=datasets.source.processed.train,\n",
    "    source_val_iterable=datasets.source.processed.val,\n",
    "    target_val_iterable=datasets.target.processed.val,\n",
    "    num_epochs=p.n_epoch,\n",
    "    num_logs_per_epoch=p.NUM_LOGS_PER_EPOCH,\n",
    "    patience=p.patience,\n",
    "    optimizer=optimizer,\n",
    "    criteria_for_best=p.criteria_for_best,\n",
    ")"
   ]
  },
  {
   "cell_type": "code",
   "execution_count": 14,
   "id": "31e8fabf",
   "metadata": {
    "execution": {
     "iopub.execute_input": "2022-03-21T12:16:01.373716Z",
     "iopub.status.busy": "2022-03-21T12:16:01.373462Z",
     "iopub.status.idle": "2022-03-21T12:16:01.390877Z",
     "shell.execute_reply": "2022-03-21T12:16:01.390432Z"
    },
    "papermill": {
     "duration": 0.05755,
     "end_time": "2022-03-21T12:16:01.390965",
     "exception": false,
     "start_time": "2022-03-21T12:16:01.333415",
     "status": "completed"
    },
    "tags": []
   },
   "outputs": [],
   "source": [
    "total_experiment_time_secs = time.time() - start_time_secs"
   ]
  },
  {
   "cell_type": "code",
   "execution_count": 15,
   "id": "87b9595b",
   "metadata": {
    "execution": {
     "iopub.execute_input": "2022-03-21T12:16:01.476918Z",
     "iopub.status.busy": "2022-03-21T12:16:01.476542Z",
     "iopub.status.idle": "2022-03-21T12:20:03.571040Z",
     "shell.execute_reply": "2022-03-21T12:20:03.571350Z"
    },
    "papermill": {
     "duration": 242.137553,
     "end_time": "2022-03-21T12:20:03.571461",
     "exception": false,
     "start_time": "2022-03-21T12:16:01.433908",
     "status": "completed"
    },
    "tags": []
   },
   "outputs": [],
   "source": [
    "###################################\n",
    "# Evaluate the model\n",
    "###################################\n",
    "source_test_label_accuracy, source_test_label_loss = jig.test(datasets.source.processed.test)\n",
    "target_test_label_accuracy, target_test_label_loss = jig.test(datasets.target.processed.test)\n",
    "\n",
    "source_val_label_accuracy, source_val_label_loss = jig.test(datasets.source.processed.val)\n",
    "target_val_label_accuracy, target_val_label_loss = jig.test(datasets.target.processed.val)\n",
    "\n",
    "history = jig.get_history()\n",
    "\n",
    "total_epochs_trained = len(history[\"epoch_indices\"])\n",
    "\n",
    "val_dl = Iterable_Aggregator((datasets.source.original.val,datasets.target.original.val))\n",
    "\n",
    "confusion = ptn_confusion_by_domain_over_dataloader(model, p.device, val_dl)\n",
    "per_domain_accuracy = per_domain_accuracy_from_confusion(confusion)\n",
    "\n",
    "# Add a key to per_domain_accuracy for if it was a source domain\n",
    "for domain, accuracy in per_domain_accuracy.items():\n",
    "    per_domain_accuracy[domain] = {\n",
    "        \"accuracy\": accuracy,\n",
    "        \"source?\": domain in p.domains_source\n",
    "    }\n",
    "\n",
    "# Do an independent accuracy assesment JUST TO BE SURE!\n",
    "# _source_test_label_accuracy = independent_accuracy_assesment(model, datasets.source.processed.test, p.device)\n",
    "# _target_test_label_accuracy = independent_accuracy_assesment(model, datasets.target.processed.test, p.device)\n",
    "# _source_val_label_accuracy = independent_accuracy_assesment(model, datasets.source.processed.val, p.device)\n",
    "# _target_val_label_accuracy = independent_accuracy_assesment(model, datasets.target.processed.val, p.device)\n",
    "\n",
    "# assert(_source_test_label_accuracy == source_test_label_accuracy)\n",
    "# assert(_target_test_label_accuracy == target_test_label_accuracy)\n",
    "# assert(_source_val_label_accuracy == source_val_label_accuracy)\n",
    "# assert(_target_val_label_accuracy == target_val_label_accuracy)\n",
    "\n",
    "experiment = {\n",
    "    \"experiment_name\": p.experiment_name,\n",
    "    \"parameters\": dict(p),\n",
    "    \"results\": {\n",
    "        \"source_test_label_accuracy\": source_test_label_accuracy,\n",
    "        \"source_test_label_loss\": source_test_label_loss,\n",
    "        \"target_test_label_accuracy\": target_test_label_accuracy,\n",
    "        \"target_test_label_loss\": target_test_label_loss,\n",
    "        \"source_val_label_accuracy\": source_val_label_accuracy,\n",
    "        \"source_val_label_loss\": source_val_label_loss,\n",
    "        \"target_val_label_accuracy\": target_val_label_accuracy,\n",
    "        \"target_val_label_loss\": target_val_label_loss,\n",
    "        \"total_epochs_trained\": total_epochs_trained,\n",
    "        \"total_experiment_time_secs\": total_experiment_time_secs,\n",
    "        \"confusion\": confusion,\n",
    "        \"per_domain_accuracy\": per_domain_accuracy,\n",
    "    },\n",
    "    \"history\": history,\n",
    "    \"dataset_metrics\": get_dataset_metrics(datasets, \"ptn\"),\n",
    "}"
   ]
  },
  {
   "cell_type": "code",
   "execution_count": 16,
   "id": "54a21829",
   "metadata": {
    "execution": {
     "iopub.execute_input": "2022-03-21T12:20:03.652852Z",
     "iopub.status.busy": "2022-03-21T12:20:03.652598Z",
     "iopub.status.idle": "2022-03-21T12:20:03.782459Z",
     "shell.execute_reply": "2022-03-21T12:20:03.782858Z"
    },
    "papermill": {
     "duration": 0.170471,
     "end_time": "2022-03-21T12:20:03.782984",
     "exception": false,
     "start_time": "2022-03-21T12:20:03.612513",
     "status": "completed"
    },
    "tags": []
   },
   "outputs": [
    {
     "data": {
      "image/png": "[encoded data removed]",
      "text/plain": [
       "<Figure size 1080x504 with 1 Axes>"
      ]
     },
     "metadata": {
      "needs_background": "light"
     },
     "output_type": "display_data"
    }
   ],
   "source": [
    "ax = get_loss_curve(experiment)\n",
    "plt.show()"
   ]
  },
  {
   "cell_type": "code",
   "execution_count": 17,
   "id": "fd8a0f60",
   "metadata": {
    "execution": {
     "iopub.execute_input": "2022-03-21T12:20:03.866938Z",
     "iopub.status.busy": "2022-03-21T12:20:03.866685Z",
     "iopub.status.idle": "2022-03-21T12:20:04.010669Z",
     "shell.execute_reply": "2022-03-21T12:20:04.010921Z"
    },
    "papermill": {
     "duration": 0.18501,
     "end_time": "2022-03-21T12:20:04.011000",
     "exception": false,
     "start_time": "2022-03-21T12:20:03.825990",
     "status": "completed"
    },
    "tags": []
   },
   "outputs": [
    {
     "data": {
      "text/plain": [
       "<AxesSubplot:title={'center':'Results'}>"
      ]
     },
     "execution_count": 17,
     "metadata": {},
     "output_type": "execute_result"
    },
    {
     "data": {
      "image/png": "[encoded data removed]",
      "text/plain": [
       "<Figure size 1080x504 with 1 Axes>"
      ]
     },
     "metadata": {
      "needs_background": "light"
     },
     "output_type": "display_data"
    }
   ],
   "source": [
    "get_results_table(experiment)"
   ]
  },
  {
   "cell_type": "code",
   "execution_count": 18,
   "id": "cf8dc689",
   "metadata": {
    "execution": {
     "iopub.execute_input": "2022-03-21T12:20:04.094447Z",
     "iopub.status.busy": "2022-03-21T12:20:04.094183Z",
     "iopub.status.idle": "2022-03-21T12:20:04.212034Z",
     "shell.execute_reply": "2022-03-21T12:20:04.211545Z"
    },
    "papermill": {
     "duration": 0.161039,
     "end_time": "2022-03-21T12:20:04.212136",
     "exception": false,
     "start_time": "2022-03-21T12:20:04.051097",
     "status": "completed"
    },
    "tags": []
   },
   "outputs": [
    {
     "data": {
      "text/plain": [
       "<AxesSubplot:title={'center':'Per Domain Validation Accuracy'}, xlabel='domain'>"
      ]
     },
     "execution_count": 18,
     "metadata": {},
     "output_type": "execute_result"
    },
    {
     "data": {
      "image/png": "[encoded data removed]",
      "text/plain": [
       "<Figure size 1080x504 with 1 Axes>"
      ]
     },
     "metadata": {
      "needs_background": "light"
     },
     "output_type": "display_data"
    }
   ],
   "source": [
    "get_domain_accuracies(experiment)"
   ]
  },
  {
   "cell_type": "code",
   "execution_count": 19,
   "id": "a74ae082",
   "metadata": {
    "execution": {
     "iopub.execute_input": "2022-03-21T12:20:04.301870Z",
     "iopub.status.busy": "2022-03-21T12:20:04.300332Z",
     "iopub.status.idle": "2022-03-21T12:20:04.318249Z",
     "shell.execute_reply": "2022-03-21T12:20:04.317773Z"
    },
    "papermill": {
     "duration": 0.06142,
     "end_time": "2022-03-21T12:20:04.318347",
     "exception": false,
     "start_time": "2022-03-21T12:20:04.256927",
     "status": "completed"
    },
    "tags": []
   },
   "outputs": [
    {
     "name": "stdout",
     "output_type": "stream",
     "text": [
      "Source Test Label Accuracy: 0.7145486111111111 Target Test Label Accuracy: 0.59509375\n",
      "Source Val Label Accuracy: 0.7165798611111112 Target Val Label Accuracy: 0.5953645833333333\n"
     ]
    }
   ],
   "source": [
    "print(\"Source Test Label Accuracy:\", experiment[\"results\"][\"source_test_label_accuracy\"], \"Target Test Label Accuracy:\", experiment[\"results\"][\"target_test_label_accuracy\"])\n",
    "print(\"Source Val Label Accuracy:\", experiment[\"results\"][\"source_val_label_accuracy\"], \"Target Val Label Accuracy:\", experiment[\"results\"][\"target_val_label_accuracy\"])"
   ]
  },
  {
   "cell_type": "code",
   "execution_count": 20,
   "id": "dacca602",
   "metadata": {
    "execution": {
     "iopub.execute_input": "2022-03-21T12:20:04.408183Z",
     "iopub.status.busy": "2022-03-21T12:20:04.407370Z",
     "iopub.status.idle": "2022-03-21T12:20:04.423962Z",
     "shell.execute_reply": "2022-03-21T12:20:04.423556Z"
    },
    "papermill": {
     "duration": 0.059501,
     "end_time": "2022-03-21T12:20:04.424063",
     "exception": false,
     "start_time": "2022-03-21T12:20:04.364562",
     "status": "completed"
    },
    "tags": [
     "experiment_json"
    ]
   },
   "outputs": [
    {
     "data": {
      "text/plain": [
       "'{\"experiment_name\": \"tuned_1v2:oracle.run2\", \"parameters\": {\"experiment_name\": \"tuned_1v2:oracle.run2\", \"device\": \"cuda\", \"lr\": 0.0001, \"labels_source\": [\"3123D52\", \"3123D65\", \"3123D79\", \"3123D80\", \"3123D54\", \"3123D70\", \"3123D7B\", \"3123D89\", \"3123D58\", \"3123D76\", \"3123D7D\", \"3123EFE\", \"3123D64\", \"3123D78\", \"3123D7E\", \"3124E4A\"], \"labels_target\": [\"3123D52\", \"3123D65\", \"3123D79\", \"3123D80\", \"3123D54\", \"3123D70\", \"3123D7B\", \"3123D89\", \"3123D58\", \"3123D76\", \"3123D7D\", \"3123EFE\", \"3123D64\", \"3123D78\", \"3123D7E\", \"3124E4A\"], \"episode_transforms_source\": [], \"episode_transforms_target\": [], \"domains_source\": [8, 32, 50], \"domains_target\": [14, 20, 26, 38, 44], \"num_examples_per_domain_per_label_source\": -1, \"num_examples_per_domain_per_label_target\": -1, \"n_shot\": 3, \"n_way\": 16, \"n_query\": 2, \"train_k_factor\": 3, \"val_k_factor\": 2, \"test_k_factor\": 2, \"torch_default_dtype\": \"torch.float32\", \"n_epoch\": 50, \"patience\": 3, \"criteria_for_best\": \"target_accuracy\", \"x_net\": [{\"class\": \"nnReshape\", \"kargs\": {\"shape\": [-1, 1, 2, 256]}}, {\"class\": \"Conv2d\", \"kargs\": {\"in_channels\": 1, \"out_channels\": 256, \"kernel_size\": [1, 7], \"bias\": false, \"padding\": [0, 3]}}, {\"class\": \"ReLU\", \"kargs\": {\"inplace\": true}}, {\"class\": \"BatchNorm2d\", \"kargs\": {\"num_features\": 256}}, {\"class\": \"Conv2d\", \"kargs\": {\"in_channels\": 256, \"out_channels\": 80, \"kernel_size\": [2, 7], \"bias\": true, \"padding\": [0, 3]}}, {\"class\": \"ReLU\", \"kargs\": {\"inplace\": true}}, {\"class\": \"BatchNorm2d\", \"kargs\": {\"num_features\": 80}}, {\"class\": \"Flatten\", \"kargs\": {}}, {\"class\": \"Linear\", \"kargs\": {\"in_features\": 20480, \"out_features\": 256}}, {\"class\": \"ReLU\", \"kargs\": {\"inplace\": true}}, {\"class\": \"BatchNorm1d\", \"kargs\": {\"num_features\": 256}}, {\"class\": \"Linear\", \"kargs\": {\"in_features\": 256, \"out_features\": 256}}], \"NUM_LOGS_PER_EPOCH\": 10, \"BEST_MODEL_PATH\": \"./best_model.pth\", \"pickle_name\": \"oracle.Run2_10kExamples_stratified_ds.2022A.pkl\", \"x_transforms_source\": [\"unit_mag\"], \"x_transforms_target\": [\"unit_mag\"], \"dataset_seed\": 154325, \"seed\": 154325}, \"results\": {\"source_test_label_accuracy\": 0.7145486111111111, \"source_test_label_loss\": 0.927571713924408, \"target_test_label_accuracy\": 0.59509375, \"target_test_label_loss\": 1.4437812566757202, \"source_val_label_accuracy\": 0.7165798611111112, \"source_val_label_loss\": 0.9166648387908936, \"target_val_label_accuracy\": 0.5953645833333333, \"target_val_label_loss\": 1.4507540464401245, \"total_epochs_trained\": 13, \"total_experiment_time_secs\": 4721.876367092133, \"confusion\": {\"32\": {\"13\": {\"13\": 560, \"4\": 200, \"11\": 89, \"8\": 75, \"7\": 170, \"5\": 30, \"0\": 47, \"3\": 29}, \"9\": {\"9\": 1164, \"14\": 35, \"12\": 1}, \"15\": {\"15\": 1187, \"8\": 12, \"5\": 1}, \"2\": {\"0\": 31, \"2\": 905, \"4\": 27, \"5\": 83, \"14\": 111, \"7\": 18, \"11\": 24, \"13\": 1}, \"3\": {\"3\": 1122, \"13\": 45, \"7\": 6, \"8\": 25, \"4\": 1, \"11\": 1}, \"8\": {\"5\": 106, \"8\": 819, \"0\": 82, \"3\": 26, \"4\": 53, \"13\": 97, \"11\": 7, \"15\": 8, \"7\": 2}, \"5\": {\"5\": 475, \"13\": 52, \"8\": 139, \"4\": 124, \"11\": 21, \"0\": 161, \"2\": 144, \"7\": 16, \"14\": 64, \"3\": 3, \"15\": 1}, \"14\": {\"0\": 30, \"2\": 114, \"14\": 1010, \"5\": 32, \"11\": 11, \"9\": 2, \"4\": 1}, \"1\": {\"1\": 1190, \"10\": 10}, \"0\": {\"0\": 538, \"4\": 139, \"5\": 179, \"11\": 144, \"2\": 48, \"7\": 20, \"13\": 51, \"8\": 68, \"14\": 13}, \"10\": {\"10\": 1197, \"1\": 3}, \"6\": {\"6\": 1200}, \"11\": {\"11\": 505, \"0\": 160, \"4\": 101, \"5\": 19, \"7\": 259, \"13\": 103, \"2\": 41, \"8\": 8, \"14\": 4}, \"7\": {\"11\": 259, \"13\": 179, \"7\": 625, \"4\": 94, \"0\": 19, \"2\": 14, \"8\": 1, \"5\": 6, \"3\": 2, \"14\": 1}, \"4\": {\"8\": 56, \"4\": 421, \"11\": 88, \"0\": 168, \"5\": 148, \"13\": 191, \"7\": 91, \"2\": 36, \"14\": 1}, \"12\": {\"12\": 1200}}, \"50\": {\"10\": {\"10\": 855, \"5\": 89, \"13\": 178, \"7\": 55, \"0\": 21, \"4\": 2}, \"12\": {\"12\": 1037, \"14\": 70, \"9\": 79, \"11\": 14}, \"1\": {\"1\": 859, \"15\": 76, \"6\": 229, \"4\": 28, \"11\": 3, \"5\": 4, \"0\": 1}, \"0\": {\"5\": 6, \"10\": 23, \"0\": 1088, \"2\": 77, \"4\": 1, \"1\": 5}, \"15\": {\"15\": 1057, \"1\": 61, \"11\": 61, \"6\": 19, \"14\": 2}, \"13\": {\"5\": 42, \"13\": 571, \"10\": 165, \"7\": 421, \"4\": 1}, \"8\": {\"8\": 1178, \"3\": 22}, \"3\": {\"3\": 1153, \"8\": 47}, \"11\": {\"11\": 1080, \"15\": 43, \"14\": 29, \"12\": 18, \"9\": 30}, \"4\": {\"4\": 609, \"6\": 221, \"5\": 306, \"7\": 7, \"1\": 45, \"13\": 4, \"0\": 3, \"15\": 3, \"10\": 2}, \"6\": {\"6\": 641, \"1\": 256, \"4\": 231, \"5\": 57, \"15\": 13, \"7\": 1, \"0\": 1}, \"7\": {\"13\": 455, \"7\": 545, \"10\": 84, \"6\": 3, \"5\": 101, \"4\": 12}, \"14\": {\"14\": 1152, \"12\": 29, \"11\": 18, \"1\": 1}, \"2\": {\"2\": 1134, \"0\": 66}, \"5\": {\"4\": 318, \"5\": 602, \"7\": 84, \"1\": 10, \"10\": 57, \"13\": 54, \"6\": 68, \"0\": 7}, \"9\": {\"9\": 1107, \"12\": 78, \"11\": 15}}, \"8\": {\"14\": {\"14\": 653, \"13\": 164, \"6\": 66, \"0\": 246, \"10\": 50, \"4\": 19, \"1\": 1, \"7\": 1}, \"10\": {\"1\": 27, \"0\": 179, \"10\": 737, \"14\": 61, \"5\": 120, \"13\": 76}, \"2\": {\"2\": 914, \"7\": 167, \"4\": 98, \"6\": 18, \"3\": 3}, \"8\": {\"8\": 907, \"7\": 12, \"11\": 146, \"15\": 102, \"4\": 5, \"6\": 20, \"13\": 7, \"14\": 1}, \"6\": {\"6\": 525, \"7\": 202, \"4\": 373, \"2\": 25, \"14\": 58, \"8\": 13, \"0\": 3, \"13\": 1}, \"7\": {\"4\": 267, \"7\": 526, \"2\": 184, \"6\": 195, \"15\": 5, \"8\": 22, \"0\": 1}, \"9\": {\"9\": 1199, \"5\": 1}, \"11\": {\"12\": 114, \"11\": 580, \"15\": 215, \"8\": 284, \"13\": 1, \"6\": 4, \"3\": 2}, \"12\": {\"12\": 915, \"3\": 152, \"11\": 42, \"15\": 91}, \"13\": {\"13\": 715, \"14\": 219, \"1\": 147, \"10\": 66, \"0\": 27, \"6\": 14, \"8\": 6, \"5\": 4, \"4\": 2}, \"0\": {\"14\": 213, \"0\": 741, \"13\": 24, \"10\": 202, \"4\": 8, \"6\": 11, \"5\": 1}, \"3\": {\"3\": 1027, \"12\": 164, \"15\": 7, \"11\": 1, \"2\": 1}, \"4\": {\"6\": 338, \"4\": 434, \"2\": 114, \"7\": 282, \"14\": 21, \"13\": 1, \"8\": 5, \"0\": 4, \"15\": 1}, \"15\": {\"8\": 136, \"15\": 670, \"12\": 179, \"11\": 183, \"3\": 18, \"2\": 3, \"6\": 2, \"7\": 9}, \"5\": {\"5\": 943, \"10\": 189, \"1\": 51, \"0\": 5, \"13\": 10, \"9\": 2}, \"1\": {\"1\": 1003, \"5\": 46, \"10\": 29, \"13\": 121, \"14\": 1}}, \"44\": {\"13\": {\"13\": 1114, \"4\": 46, \"6\": 35, \"14\": 3, \"9\": 2}, \"9\": {\"9\": 505, \"7\": 270, \"6\": 33, \"2\": 388, \"1\": 3, \"11\": 1}, \"15\": {\"15\": 1013, \"4\": 64, \"14\": 110, \"8\": 8, \"0\": 3, \"5\": 2}, \"2\": {\"2\": 621, \"7\": 240, \"9\": 328, \"1\": 5, \"3\": 6}, \"3\": {\"3\": 969, \"1\": 148, \"12\": 79, \"2\": 4}, \"8\": {\"0\": 490, \"8\": 661, \"5\": 29, \"15\": 12, \"14\": 8}, \"5\": {\"5\": 1050, \"14\": 127, \"8\": 11, \"0\": 8, \"15\": 3, \"4\": 1}, \"14\": {\"14\": 836, \"5\": 118, \"15\": 146, \"4\": 95, \"13\": 2, \"8\": 3}, \"1\": {\"1\": 659, \"12\": 355, \"3\": 167, \"7\": 6, \"10\": 9, \"9\": 1, \"2\": 3}, \"0\": {\"0\": 691, \"8\": 494, \"14\": 3, \"15\": 1, \"5\": 11}, \"10\": {\"10\": 1122, \"12\": 57, \"1\": 21}, \"6\": {\"6\": 1067, \"9\": 58, \"11\": 26, \"7\": 25, \"13\": 19, \"2\": 5}, \"11\": {\"11\": 1116, \"6\": 75, \"13\": 1, \"7\": 7, \"9\": 1}, \"7\": {\"7\": 595, \"9\": 271, \"2\": 309, \"6\": 10, \"1\": 11, \"3\": 2, \"11\": 1, \"10\": 1}, \"4\": {\"4\": 1051, \"14\": 70, \"13\": 30, \"15\": 48, \"5\": 1}, \"12\": {\"1\": 322, \"3\": 81, \"12\": 792, \"10\": 5}}, \"38\": {\"13\": {\"8\": 231, \"15\": 281, \"13\": 208, \"1\": 63, \"14\": 10, \"0\": 15, \"10\": 31, \"3\": 90, \"7\": 58, \"5\": 183, \"6\": 11, \"9\": 3, \"2\": 15, \"12\": 1}, \"12\": {\"12\": 1124, \"4\": 42, \"14\": 26, \"11\": 7, \"10\": 1}, \"2\": {\"2\": 1034, \"14\": 163, \"11\": 3}, \"9\": {\"6\": 382, \"9\": 797, \"3\": 14, \"0\": 7}, \"15\": {\"15\": 439, \"1\": 103, \"8\": 171, \"10\": 6, \"13\": 230, \"5\": 134, \"3\": 77, \"0\": 10, \"6\": 19, \"7\": 10, \"9\": 1}, \"5\": {\"8\": 295, \"7\": 118, \"5\": 391, \"15\": 150, \"13\": 178, \"3\": 26, \"10\": 39, \"0\": 2, \"1\": 1}, \"14\": {\"14\": 616, \"12\": 160, \"7\": 15, \"5\": 17, \"11\": 131, \"2\": 238, \"13\": 12, \"10\": 6, \"4\": 2, \"8\": 2, \"15\": 1}, \"0\": {\"0\": 862, \"3\": 281, \"10\": 22, \"8\": 5, \"6\": 8, \"7\": 8, \"9\": 10, \"13\": 1, \"15\": 1, \"5\": 2}, \"3\": {\"7\": 68, \"8\": 66, \"0\": 376, \"6\": 64, \"5\": 48, \"9\": 53, \"13\": 64, \"3\": 308, \"15\": 71, \"10\": 72, \"1\": 9, \"12\": 1}, \"1\": {\"1\": 1070, \"15\": 89, \"8\": 6, \"13\": 28, \"5\": 4, \"6\": 2, \"3\": 1}, \"11\": {\"11\": 952, \"12\": 127, \"14\": 114, \"2\": 5, \"4\": 2}, \"7\": {\"7\": 583, \"10\": 350, \"8\": 89, \"5\": 124, \"3\": 16, \"13\": 20, \"15\": 11, \"0\": 6, \"4\": 1}, \"8\": {\"8\": 328, \"5\": 330, \"7\": 80, \"13\": 215, \"15\": 157, \"3\": 46, \"10\": 34, \"1\": 8, \"0\": 2}, \"4\": {\"4\": 1104, \"12\": 84, \"10\": 8, \"7\": 4}, \"10\": {\"0\": 20, \"10\": 613, \"7\": 408, \"5\": 44, \"15\": 4, \"3\": 53, \"13\": 13, \"8\": 40, \"4\": 4, \"12\": 1}, \"6\": {\"6\": 776, \"9\": 410, \"3\": 10, \"1\": 1, \"13\": 1, \"0\": 2}}, \"26\": {\"10\": {\"1\": 165, \"9\": 27, \"10\": 314, \"8\": 85, \"14\": 220, \"2\": 12, \"0\": 179, \"6\": 123, \"7\": 4, \"4\": 59, \"5\": 5, \"12\": 4, \"15\": 3}, \"12\": {\"12\": 1196, \"11\": 4}, \"1\": {\"10\": 136, \"8\": 31, \"1\": 548, \"14\": 284, \"0\": 162, \"4\": 25, \"6\": 8, \"7\": 1, \"2\": 3, \"9\": 1, \"5\": 1}, \"0\": {\"1\": 193, \"10\": 159, \"14\": 244, \"4\": 154, \"0\": 287, \"8\": 103, \"7\": 18, \"9\": 11, \"2\": 21, \"3\": 1, \"6\": 5, \"15\": 4}, \"15\": {\"3\": 354, \"15\": 441, \"7\": 130, \"4\": 86, \"9\": 7, \"2\": 145, \"8\": 19, \"0\": 3, \"14\": 1, \"5\": 13, \"13\": 1}, \"13\": {\"13\": 798, \"6\": 53, \"15\": 1, \"9\": 122, \"5\": 209, \"8\": 9, \"2\": 1, \"7\": 6, \"14\": 1}, \"8\": {\"8\": 354, \"7\": 100, \"2\": 129, \"5\": 72, \"4\": 73, \"1\": 20, \"14\": 103, \"10\": 68, \"9\": 158, \"6\": 22, \"0\": 79, \"15\": 12, \"13\": 7, \"3\": 3}, \"3\": {\"3\": 514, \"15\": 351, \"7\": 92, \"2\": 145, \"4\": 83, \"8\": 4, \"0\": 3, \"5\": 8}, \"11\": {\"11\": 1190, \"12\": 10}, \"4\": {\"7\": 78, \"1\": 19, \"14\": 52, \"4\": 546, \"15\": 78, \"0\": 113, \"2\": 137, \"10\": 27, \"8\": 60, \"3\": 85, \"9\": 3, \"5\": 2}, \"6\": {\"6\": 748, \"9\": 142, \"8\": 39, \"10\": 108, \"0\": 10, \"13\": 74, \"1\": 6, \"5\": 62, \"14\": 9, \"7\": 2}, \"7\": {\"4\": 83, \"7\": 344, \"8\": 105, \"2\": 310, \"15\": 104, \"3\": 78, \"10\": 6, \"13\": 7, \"5\": 88, \"9\": 58, \"0\": 10, \"1\": 1, \"14\": 5, \"6\": 1}, \"14\": {\"0\": 248, \"8\": 102, \"14\": 296, \"10\": 152, \"1\": 302, \"5\": 2, \"4\": 57, \"6\": 6, \"7\": 16, \"2\": 9, \"9\": 10}, \"2\": {\"9\": 54, \"3\": 131, \"8\": 82, \"2\": 285, \"7\": 293, \"4\": 125, \"10\": 6, \"15\": 143, \"5\": 57, \"13\": 4, \"0\": 15, \"14\": 5}, \"5\": {\"9\": 145, \"13\": 288, \"2\": 64, \"5\": 337, \"7\": 102, \"3\": 28, \"6\": 147, \"8\": 58, \"10\": 6, \"15\": 18, \"4\": 3, \"14\": 3, \"0\": 1}, \"9\": {\"6\": 126, \"9\": 452, \"5\": 183, \"8\": 171, \"2\": 41, \"13\": 125, \"7\": 52, \"15\": 8, \"10\": 19, \"0\": 10, \"4\": 2, \"14\": 9, \"3\": 2}}, \"20\": {\"5\": {\"0\": 75, \"3\": 201, \"5\": 258, \"12\": 102, \"2\": 174, \"9\": 129, \"1\": 42, \"7\": 48, \"8\": 19, \"4\": 62, \"15\": 64, \"13\": 23, \"10\": 3}, \"15\": {\"9\": 108, \"1\": 139, \"15\": 335, \"0\": 43, \"2\": 135, \"12\": 101, \"13\": 255, \"5\": 64, \"3\": 16, \"8\": 1, \"4\": 3}, \"9\": {\"13\": 67, \"12\": 115, \"15\": 133, \"2\": 249, \"9\": 266, \"5\": 148, \"3\": 141, \"7\": 13, \"1\": 36, \"4\": 8, \"0\": 18, \"10\": 2, \"8\": 4}, \"7\": {\"8\": 152, \"7\": 730, \"10\": 49, \"2\": 31, \"5\": 34, \"9\": 12, \"3\": 155, \"6\": 29, \"14\": 4, \"15\": 2, \"12\": 1, \"11\": 1}, \"3\": {\"5\": 195, \"3\": 342, \"7\": 200, \"2\": 190, \"9\": 132, \"4\": 21, \"10\": 11, \"12\": 30, \"0\": 10, \"8\": 35, \"15\": 24, \"13\": 8, \"1\": 2}, \"8\": {\"10\": 184, \"7\": 162, \"14\": 184, \"8\": 518, \"6\": 40, \"4\": 60, \"3\": 30, \"5\": 17, \"0\": 1, \"2\": 3, \"9\": 1}, \"4\": {\"4\": 913, \"12\": 50, \"14\": 6, \"2\": 6, \"10\": 25, \"8\": 37, \"9\": 5, \"1\": 8, \"5\": 37, \"0\": 90, \"3\": 21, \"7\": 2}, \"6\": {\"7\": 41, \"6\": 1011, \"14\": 87, \"8\": 34, \"10\": 26, \"3\": 1}, \"2\": {\"3\": 186, \"5\": 195, \"2\": 276, \"9\": 231, \"15\": 120, \"13\": 85, \"12\": 53, \"0\": 7, \"7\": 22, \"1\": 10, \"4\": 11, \"8\": 3, \"10\": 1}, \"12\": {\"1\": 202, \"12\": 337, \"4\": 66, \"3\": 42, \"5\": 108, \"0\": 135, \"9\": 101, \"13\": 20, \"15\": 129, \"2\": 59, \"8\": 1}, \"0\": {\"12\": 189, \"0\": 502, \"4\": 114, \"3\": 15, \"5\": 93, \"1\": 185, \"9\": 16, \"8\": 5, \"15\": 53, \"2\": 18, \"13\": 10}, \"13\": {\"13\": 692, \"0\": 13, \"9\": 58, \"15\": 270, \"2\": 82, \"1\": 35, \"5\": 18, \"3\": 8, \"12\": 21, \"7\": 3}, \"10\": {\"10\": 678, \"14\": 182, \"6\": 49, \"8\": 191, \"7\": 61, \"4\": 25, \"3\": 13, \"5\": 1}, \"11\": {\"11\": 1194, \"13\": 1, \"7\": 4, \"6\": 1}, \"14\": {\"14\": 727, \"8\": 160, \"6\": 118, \"10\": 182, \"7\": 7, \"5\": 1, \"4\": 5}, \"1\": {\"1\": 512, \"9\": 46, \"4\": 16, \"12\": 227, \"15\": 134, \"0\": 177, \"5\": 28, \"13\": 41, \"2\": 18, \"3\": 1}}, \"14\": {\"13\": {\"6\": 330, \"13\": 784, \"2\": 75, \"14\": 11}, \"4\": {\"3\": 117, \"4\": 574, \"5\": 339, \"2\": 87, \"14\": 18, \"13\": 4, \"1\": 52, \"6\": 9}, \"6\": {\"6\": 684, \"4\": 7, \"2\": 74, \"13\": 287, \"14\": 148}, \"0\": {\"0\": 1130, \"10\": 57, \"3\": 7, \"14\": 5, \"9\": 1}, \"10\": {\"10\": 1025, \"11\": 25, \"0\": 145, \"14\": 4, \"12\": 1}, \"7\": {\"7\": 1157, \"15\": 41, \"1\": 2}, \"14\": {\"14\": 723, \"2\": 151, \"6\": 176, \"13\": 23, \"4\": 25, \"3\": 72, \"0\": 16, \"5\": 13, \"10\": 1}, \"15\": {\"15\": 1150, \"7\": 48, \"2\": 2}, \"5\": {\"3\": 89, \"5\": 509, \"4\": 346, \"2\": 104, \"1\": 138, \"14\": 11, \"13\": 2, \"6\": 1}, \"2\": {\"6\": 61, \"2\": 462, \"4\": 100, \"14\": 186, \"5\": 124, \"13\": 151, \"3\": 95, \"1\": 8, \"15\": 9, \"7\": 4}, \"9\": {\"9\": 1182, \"11\": 5, \"12\": 5, \"0\": 6, \"8\": 2}, \"12\": {\"11\": 284, \"8\": 50, \"12\": 603, \"0\": 94, \"9\": 118, \"10\": 49, \"2\": 1, \"3\": 1}, \"8\": {\"8\": 1195, \"1\": 2, \"9\": 2, \"3\": 1}, \"3\": {\"3\": 860, \"4\": 162, \"5\": 77, \"1\": 13, \"14\": 61, \"0\": 4, \"2\": 23}, \"1\": {\"1\": 981, \"3\": 7, \"4\": 70, \"5\": 137, \"7\": 3, \"2\": 2}, \"11\": {\"11\": 1128, \"9\": 6, \"12\": 42, \"10\": 23, \"0\": 1}}}, \"per_domain_accuracy\": {\"32\": {\"accuracy\": 0.7353125, \"source?\": true}, \"50\": {\"accuracy\": 0.7639583333333333, \"source?\": true}, \"8\": {\"accuracy\": 0.65046875, \"source?\": true}, \"44\": {\"accuracy\": 0.7219791666666666, \"source?\": false}, \"38\": {\"accuracy\": 0.58359375, \"source?\": false}, \"26\": {\"accuracy\": 0.4505208333333333, \"source?\": false}, \"20\": {\"accuracy\": 0.48390625, \"source?\": false}, \"14\": {\"accuracy\": 0.7368229166666667, \"source?\": false}}}, \"history\": {\"epoch_indices\": [1, 2, 3, 4, 5, 6, 7, 8, 9, 10, 11, 12, 13], \"train_label_loss\": [1.3127443423133993, 0.8240384244268376, 0.701272624386918, 0.6203376740607477, 0.5450179587062153, 0.47553481892904353, 0.4162230070919863, 0.3638698287266824, 0.318452173313126, 0.2811887148752188, 0.2466558415600882, 0.21767363998336747, 0.19480251160705284], \"source_val_label_loss\": [1.017142653465271, 0.8313097953796387, 0.8139002919197083, 0.7946991324424744, 0.7931451201438904, 0.8249836564064026, 0.8373991847038269, 0.8874027132987976, 0.9166648387908936, 0.9569652676582336, 0.9923598170280457, 1.036813735961914, 1.0957647562026978], \"target_val_label_loss\": [1.4521979093551636, 1.242789626121521, 1.2216805219650269, 1.2292773723602295, 1.25514554977417, 1.2882593870162964, 1.3237254619598389, 1.385231375694275, 1.4507540464401245, 1.4971801042556763, 1.5522189140319824, 1.5893434286117554, 1.6928552389144897], \"source_val_acc_label\": [0.616875, 0.6823263888888889, 0.6850868055555556, 0.6995833333333333, 0.7083854166666667, 0.7117534722222222, 0.7102777777777778, 0.7051909722222223, 0.7165798611111112, 0.7117881944444444, 0.7090972222222223, 0.7041145833333333, 0.7055555555555556], \"target_val_acc_label\": [0.5039895833333333, 0.562625, 0.5668645833333333, 0.5831770833333333, 0.58575, 0.5948125, 0.5908541666666667, 0.5921041666666667, 0.5953645833333333, 0.5908333333333333, 0.5861770833333333, 0.5843333333333334, 0.5843333333333334]}, \"dataset_metrics\": {\"source\": {\"train\": {\"n_unique_x\": 336000, \"n_unique_y\": 16, \"n_batch/episode\": 12600}, \"val\": {\"n_unique_x\": 72000, \"n_unique_y\": 16, \"n_batch/episode\": 1800}, \"test\": {\"n_unique_x\": 72000, \"n_unique_y\": 16, \"n_batch/episode\": 1800}}, \"target\": {\"train\": {\"n_unique_x\": 560000, \"n_unique_y\": 16, \"n_batch/episode\": 21000}, \"val\": {\"n_unique_x\": 120000, \"n_unique_y\": 16, \"n_batch/episode\": 3000}, \"test\": {\"n_unique_x\": 120000, \"n_unique_y\": 16, \"n_batch/episode\": 3000}}}}'"
      ]
     },
     "execution_count": 20,
     "metadata": {},
     "output_type": "execute_result"
    }
   ],
   "source": [
    "json.dumps(experiment)"
   ]
  }
 ],
 "metadata": {
  "celltoolbar": "Tags",
  "kernelspec": {
   "display_name": "Python 3 (ipykernel)",
   "language": "python",
   "name": "python3"
  },
  "language_info": {
   "codemirror_mode": {
    "name": "ipython",
    "version": 3
   },
   "file_extension": ".py",
   "mimetype": "text/x-python",
   "name": "python",
   "nbconvert_exporter": "python",
   "pygments_lexer": "ipython3",
   "version": "3.8.10"
  },
  "papermill": {
   "default_parameters": {},
   "duration": 4969.539767,
   "end_time": "2022-03-21T12:20:06.980718",
   "environment_variables": {},
   "exception": null,
   "input_path": "/mnt/wd500GB/CSC500/csc500-main/csc500-notebooks/templates/ptn_template.ipynb",
   "output_path": "trial.ipynb",
   "parameters": {
    "parameters": {
     "BEST_MODEL_PATH": "./best_model.pth",
     "NUM_LOGS_PER_EPOCH": 10,
     "criteria_for_best": "target_accuracy",
     "dataset_seed": 154325,
     "device": "cuda",
     "domains_source": [
      8,
      32,
      50
     ],
     "domains_target": [
      14,
      20,
      26,
      38,
      44
     ],
     "episode_transforms_source": [],
     "episode_transforms_target": [],
     "experiment_name": "tuned_1v2:oracle.run2",
     "labels_source": [
      "3123D52",
      "3123D65",
      "3123D79",
      "3123D80",
      "3123D54",
      "3123D70",
      "3123D7B",
      "3123D89",
      "3123D58",
      "3123D76",
      "3123D7D",
      "3123EFE",
      "3123D64",
      "3123D78",
      "3123D7E",
      "3124E4A"
     ],
     "labels_target": [
      "3123D52",
      "3123D65",
      "3123D79",
      "3123D80",
      "3123D54",
      "3123D70",
      "3123D7B",
      "3123D89",
      "3123D58",
      "3123D76",
      "3123D7D",
      "3123EFE",
      "3123D64",
      "3123D78",
      "3123D7E",
      "3124E4A"
     ],
     "lr": 0.0001,
     "n_epoch": 50,
     "n_query": 2,
     "n_shot": 3,
     "n_way": 16,
     "num_examples_per_domain_per_label_source": -1,
     "num_examples_per_domain_per_label_target": -1,
     "patience": 3,
     "pickle_name": "oracle.Run2_10kExamples_stratified_ds.2022A.pkl",
     "seed": 154325,
     "test_k_factor": 2,
     "torch_default_dtype": "torch.float32",
     "train_k_factor": 3,
     "val_k_factor": 2,
     "x_net": [
      {
       "class": "nnReshape",
       "kargs": {
        "shape": [
         -1,
         1,
         2,
         256
        ]
       }
      },
      {
       "class": "Conv2d",
       "kargs": {
        "bias": false,
        "in_channels": 1,
        "kernel_size": [
         1,
         7
        ],
        "out_channels": 256,
        "padding": [
         0,
         3
        ]
       }
      },
      {
       "class": "ReLU",
       "kargs": {
        "inplace": true
       }
      },
      {
       "class": "BatchNorm2d",
       "kargs": {
        "num_features": 256
       }
      },
      {
       "class": "Conv2d",
       "kargs": {
        "bias": true,
        "in_channels": 256,
        "kernel_size": [
         2,
         7
        ],
        "out_channels": 80,
        "padding": [
         0,
         3
        ]
       }
      },
      {
       "class": "ReLU",
       "kargs": {
        "inplace": true
       }
      },
      {
       "class": "BatchNorm2d",
       "kargs": {
        "num_features": 80
       }
      },
      {
       "class": "Flatten",
       "kargs": {}
      },
      {
       "class": "Linear",
       "kargs": {
        "in_features": 20480,
        "out_features": 256
       }
      },
      {
       "class": "ReLU",
       "kargs": {
        "inplace": true
       }
      },
      {
       "class": "BatchNorm1d",
       "kargs": {
        "num_features": 256
       }
      },
      {
       "class": "Linear",
       "kargs": {
        "in_features": 256,
        "out_features": 256
       }
      }
     ],
     "x_transforms_source": [
      "unit_mag"
     ],
     "x_transforms_target": [
      "unit_mag"
     ]
    }
   },
   "start_time": "2022-03-21T10:57:17.440951",
   "version": "2.3.4"
  }
 },
 "nbformat": 4,
 "nbformat_minor": 5
}