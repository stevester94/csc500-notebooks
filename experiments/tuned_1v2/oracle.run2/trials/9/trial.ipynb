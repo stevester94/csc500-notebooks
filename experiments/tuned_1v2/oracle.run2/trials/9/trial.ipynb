{
 "cells": [
  {
   "cell_type": "markdown",
   "id": "9fea5f46",
   "metadata": {
    "papermill": {
     "duration": 0.015365,
     "end_time": "2022-03-21T17:19:42.763893",
     "exception": false,
     "start_time": "2022-03-21T17:19:42.748528",
     "status": "completed"
    },
    "tags": []
   },
   "source": [
    "# PTN Template\n",
    "This notebook serves as a template for single dataset PTN experiments  \n",
    "It can be run on its own by setting STANDALONE to True (do a find for \"STANDALONE\" to see where)  \n",
    "But it is intended to be executed as part of a *papermill.py script. See any of the   \n",
    "experimentes with a papermill script to get started with that workflow.  "
   ]
  },
  {
   "cell_type": "code",
   "execution_count": 1,
   "id": "0902182a",
   "metadata": {
    "execution": {
     "iopub.execute_input": "2022-03-21T17:19:42.795146Z",
     "iopub.status.busy": "2022-03-21T17:19:42.788665Z",
     "iopub.status.idle": "2022-03-21T17:19:43.751778Z",
     "shell.execute_reply": "2022-03-21T17:19:43.752181Z"
    },
    "papermill": {
     "duration": 0.97937,
     "end_time": "2022-03-21T17:19:43.752378",
     "exception": false,
     "start_time": "2022-03-21T17:19:42.773008",
     "status": "completed"
    },
    "tags": []
   },
   "outputs": [],
   "source": [
    "%load_ext autoreload\n",
    "%autoreload 2\n",
    "%matplotlib inline\n",
    "\n",
    "    \n",
    "import os, json, sys, time, random\n",
    "import numpy as np\n",
    "import torch\n",
    "from torch.optim import Adam\n",
    "from  easydict import EasyDict\n",
    "import matplotlib.pyplot as plt\n",
    "\n",
    "from steves_models.steves_ptn import Steves_Prototypical_Network\n",
    "\n",
    "from steves_utils.lazy_iterable_wrapper import Lazy_Iterable_Wrapper\n",
    "from steves_utils.iterable_aggregator import Iterable_Aggregator\n",
    "from steves_utils.ptn_train_eval_test_jig import  PTN_Train_Eval_Test_Jig\n",
    "from steves_utils.torch_sequential_builder import build_sequential\n",
    "from steves_utils.torch_utils import get_dataset_metrics, ptn_confusion_by_domain_over_dataloader\n",
    "from steves_utils.utils_v2 import (per_domain_accuracy_from_confusion, get_datasets_base_path)\n",
    "from steves_utils.PTN.utils import independent_accuracy_assesment\n",
    "\n",
    "from steves_utils.stratified_dataset.episodic_accessor import Episodic_Accessor_Factory\n",
    "\n",
    "from steves_utils.ptn_do_report import (\n",
    "    get_loss_curve,\n",
    "    get_results_table,\n",
    "    get_parameters_table,\n",
    "    get_domain_accuracies,\n",
    ")\n",
    "\n",
    "from steves_utils.transforms import get_chained_transform"
   ]
  },
  {
   "cell_type": "markdown",
   "id": "41c840b4",
   "metadata": {
    "papermill": {
     "duration": 0.00905,
     "end_time": "2022-03-21T17:19:43.776872",
     "exception": false,
     "start_time": "2022-03-21T17:19:43.767822",
     "status": "completed"
    },
    "tags": []
   },
   "source": [
    "# Required Parameters\n",
    "These are allowed parameters, not defaults\n",
    "Each of these values need to be present in the injected parameters (the notebook will raise an exception if they are not present)\n",
    "\n",
    "Papermill uses the cell tag \"parameters\" to inject the real parameters below this cell.\n",
    "Enable tags to see what I mean"
   ]
  },
  {
   "cell_type": "code",
   "execution_count": 2,
   "id": "fd44eb83",
   "metadata": {
    "execution": {
     "iopub.execute_input": "2022-03-21T17:19:43.797259Z",
     "iopub.status.busy": "2022-03-21T17:19:43.796989Z",
     "iopub.status.idle": "2022-03-21T17:19:43.808123Z",
     "shell.execute_reply": "2022-03-21T17:19:43.808499Z"
    },
    "papermill": {
     "duration": 0.022689,
     "end_time": "2022-03-21T17:19:43.808619",
     "exception": false,
     "start_time": "2022-03-21T17:19:43.785930",
     "status": "completed"
    },
    "tags": []
   },
   "outputs": [],
   "source": [
    "required_parameters = {\n",
    "    \"experiment_name\",\n",
    "    \"lr\",\n",
    "    \"device\",\n",
    "    \"seed\",\n",
    "    \"dataset_seed\",\n",
    "    \"labels_source\",\n",
    "    \"labels_target\",\n",
    "    \"domains_source\",\n",
    "    \"domains_target\",\n",
    "    \"num_examples_per_domain_per_label_source\",\n",
    "    \"num_examples_per_domain_per_label_target\",\n",
    "    \"n_shot\",\n",
    "    \"n_way\",\n",
    "    \"n_query\",\n",
    "    \"train_k_factor\",\n",
    "    \"val_k_factor\",\n",
    "    \"test_k_factor\",\n",
    "    \"n_epoch\",\n",
    "    \"patience\",\n",
    "    \"criteria_for_best\",\n",
    "    \"x_transforms_source\",\n",
    "    \"x_transforms_target\",\n",
    "    \"episode_transforms_source\",\n",
    "    \"episode_transforms_target\",\n",
    "    \"pickle_name\",\n",
    "    \"x_net\",\n",
    "    \"NUM_LOGS_PER_EPOCH\",\n",
    "    \"BEST_MODEL_PATH\",\n",
    "    \"torch_default_dtype\"\n",
    "}"
   ]
  },
  {
   "cell_type": "code",
   "execution_count": 3,
   "id": "fa3f0049",
   "metadata": {
    "execution": {
     "iopub.execute_input": "2022-03-21T17:19:43.841205Z",
     "iopub.status.busy": "2022-03-21T17:19:43.834544Z",
     "iopub.status.idle": "2022-03-21T17:19:43.854637Z",
     "shell.execute_reply": "2022-03-21T17:19:43.855038Z"
    },
    "papermill": {
     "duration": 0.032625,
     "end_time": "2022-03-21T17:19:43.855164",
     "exception": false,
     "start_time": "2022-03-21T17:19:43.822539",
     "status": "completed"
    },
    "tags": [
     "parameters"
    ]
   },
   "outputs": [],
   "source": [
    "\n",
    "\n",
    "standalone_parameters = {}\n",
    "standalone_parameters[\"experiment_name\"] = \"STANDALONE PTN\"\n",
    "standalone_parameters[\"lr\"] = 0.0001\n",
    "standalone_parameters[\"device\"] = \"cuda\"\n",
    "\n",
    "standalone_parameters[\"seed\"] = 1337\n",
    "standalone_parameters[\"dataset_seed\"] = 1337\n",
    "\n",
    "\n",
    "standalone_parameters[\"num_examples_per_domain_per_label_source\"]=100\n",
    "standalone_parameters[\"num_examples_per_domain_per_label_target\"]=100\n",
    "\n",
    "standalone_parameters[\"n_shot\"] = 3\n",
    "standalone_parameters[\"n_query\"]  = 2\n",
    "standalone_parameters[\"train_k_factor\"] = 1\n",
    "standalone_parameters[\"val_k_factor\"] = 2\n",
    "standalone_parameters[\"test_k_factor\"] = 2\n",
    "\n",
    "\n",
    "standalone_parameters[\"n_epoch\"] = 100\n",
    "\n",
    "standalone_parameters[\"patience\"] = 10\n",
    "standalone_parameters[\"criteria_for_best\"] = \"target_accuracy\"\n",
    "\n",
    "standalone_parameters[\"x_transforms_source\"] = [\"unit_power\"]\n",
    "standalone_parameters[\"x_transforms_target\"] = [\"unit_power\"]\n",
    "standalone_parameters[\"episode_transforms_source\"] = []\n",
    "standalone_parameters[\"episode_transforms_target\"] = []\n",
    "\n",
    "standalone_parameters[\"torch_default_dtype\"] = \"torch.float32\" \n",
    "\n",
    "\n",
    "\n",
    "standalone_parameters[\"x_net\"] =     [\n",
    "    {\"class\": \"nnReshape\", \"kargs\": {\"shape\":[-1, 1, 2, 256]}},\n",
    "    {\"class\": \"Conv2d\", \"kargs\": { \"in_channels\":1, \"out_channels\":256, \"kernel_size\":(1,7), \"bias\":False, \"padding\":(0,3), },},\n",
    "    {\"class\": \"ReLU\", \"kargs\": {\"inplace\": True}},\n",
    "    {\"class\": \"BatchNorm2d\", \"kargs\": {\"num_features\":256}},\n",
    "\n",
    "    {\"class\": \"Conv2d\", \"kargs\": { \"in_channels\":256, \"out_channels\":80, \"kernel_size\":(2,7), \"bias\":True, \"padding\":(0,3), },},\n",
    "    {\"class\": \"ReLU\", \"kargs\": {\"inplace\": True}},\n",
    "    {\"class\": \"BatchNorm2d\", \"kargs\": {\"num_features\":80}},\n",
    "    {\"class\": \"Flatten\", \"kargs\": {}},\n",
    "\n",
    "    {\"class\": \"Linear\", \"kargs\": {\"in_features\": 80*256, \"out_features\": 256}}, # 80 units per IQ pair\n",
    "    {\"class\": \"ReLU\", \"kargs\": {\"inplace\": True}},\n",
    "    {\"class\": \"BatchNorm1d\", \"kargs\": {\"num_features\":256}},\n",
    "\n",
    "    {\"class\": \"Linear\", \"kargs\": {\"in_features\": 256, \"out_features\": 256}},\n",
    "]\n",
    "\n",
    "# Parameters relevant to results\n",
    "# These parameters will basically never need to change\n",
    "standalone_parameters[\"NUM_LOGS_PER_EPOCH\"] = 10\n",
    "standalone_parameters[\"BEST_MODEL_PATH\"] = \"./best_model.pth\"\n",
    "\n",
    "# uncomment for CORES dataset\n",
    "from steves_utils.CORES.utils import (\n",
    "    ALL_NODES,\n",
    "    ALL_NODES_MINIMUM_1000_EXAMPLES,\n",
    "    ALL_DAYS\n",
    ")\n",
    "\n",
    "\n",
    "standalone_parameters[\"labels_source\"] = ALL_NODES\n",
    "standalone_parameters[\"labels_target\"] = ALL_NODES\n",
    "\n",
    "standalone_parameters[\"domains_source\"] = [1]\n",
    "standalone_parameters[\"domains_target\"] = [2,3,4,5]\n",
    "\n",
    "standalone_parameters[\"pickle_name\"] = \"cores.stratified_ds.2022A.pkl\"\n",
    "\n",
    "\n",
    "# Uncomment these for ORACLE dataset\n",
    "# from steves_utils.ORACLE.utils_v2 import (\n",
    "#     ALL_DISTANCES_FEET,\n",
    "#     ALL_RUNS,\n",
    "#     ALL_SERIAL_NUMBERS,\n",
    "# )\n",
    "# standalone_parameters[\"labels_source\"] = ALL_SERIAL_NUMBERS\n",
    "# standalone_parameters[\"labels_target\"] = ALL_SERIAL_NUMBERS\n",
    "# standalone_parameters[\"domains_source\"] = [8,20, 38,50]\n",
    "# standalone_parameters[\"domains_target\"] = [14, 26, 32, 44, 56]\n",
    "# standalone_parameters[\"pickle_name\"] = \"oracle.frame_indexed.stratified_ds.2022A.pkl\"\n",
    "# standalone_parameters[\"num_examples_per_domain_per_label_source\"]=1000\n",
    "# standalone_parameters[\"num_examples_per_domain_per_label_target\"]=1000\n",
    "\n",
    "# Uncomment these for Metahan dataset\n",
    "# standalone_parameters[\"labels_source\"] = list(range(19))\n",
    "# standalone_parameters[\"labels_target\"] = list(range(19))\n",
    "# standalone_parameters[\"domains_source\"] = [0]\n",
    "# standalone_parameters[\"domains_target\"] = [1]\n",
    "# standalone_parameters[\"pickle_name\"] = \"metehan.stratified_ds.2022A.pkl\"\n",
    "# standalone_parameters[\"n_way\"]  = len(standalone_parameters[\"labels_source\"])\n",
    "# standalone_parameters[\"num_examples_per_domain_per_label_source\"]=200\n",
    "# standalone_parameters[\"num_examples_per_domain_per_label_target\"]=100\n",
    "\n",
    "\n",
    "standalone_parameters[\"n_way\"]  = len(standalone_parameters[\"labels_source\"])"
   ]
  },
  {
   "cell_type": "code",
   "execution_count": 4,
   "id": "c8354354",
   "metadata": {
    "execution": {
     "iopub.execute_input": "2022-03-21T17:19:43.888808Z",
     "iopub.status.busy": "2022-03-21T17:19:43.888307Z",
     "iopub.status.idle": "2022-03-21T17:19:43.902272Z",
     "shell.execute_reply": "2022-03-21T17:19:43.901849Z"
    },
    "papermill": {
     "duration": 0.031616,
     "end_time": "2022-03-21T17:19:43.902369",
     "exception": false,
     "start_time": "2022-03-21T17:19:43.870753",
     "status": "completed"
    },
    "tags": [
     "injected-parameters"
    ]
   },
   "outputs": [],
   "source": [
    "# Parameters\n",
    "parameters = {\n",
    "    \"experiment_name\": \"tuned_1v2:oracle.run2\",\n",
    "    \"device\": \"cuda\",\n",
    "    \"lr\": 0.0001,\n",
    "    \"labels_source\": [\n",
    "        \"3123D52\",\n",
    "        \"3123D65\",\n",
    "        \"3123D79\",\n",
    "        \"3123D80\",\n",
    "        \"3123D54\",\n",
    "        \"3123D70\",\n",
    "        \"3123D7B\",\n",
    "        \"3123D89\",\n",
    "        \"3123D58\",\n",
    "        \"3123D76\",\n",
    "        \"3123D7D\",\n",
    "        \"3123EFE\",\n",
    "        \"3123D64\",\n",
    "        \"3123D78\",\n",
    "        \"3123D7E\",\n",
    "        \"3124E4A\",\n",
    "    ],\n",
    "    \"labels_target\": [\n",
    "        \"3123D52\",\n",
    "        \"3123D65\",\n",
    "        \"3123D79\",\n",
    "        \"3123D80\",\n",
    "        \"3123D54\",\n",
    "        \"3123D70\",\n",
    "        \"3123D7B\",\n",
    "        \"3123D89\",\n",
    "        \"3123D58\",\n",
    "        \"3123D76\",\n",
    "        \"3123D7D\",\n",
    "        \"3123EFE\",\n",
    "        \"3123D64\",\n",
    "        \"3123D78\",\n",
    "        \"3123D7E\",\n",
    "        \"3124E4A\",\n",
    "    ],\n",
    "    \"episode_transforms_source\": [],\n",
    "    \"episode_transforms_target\": [],\n",
    "    \"domains_source\": [8, 32, 50],\n",
    "    \"domains_target\": [14, 20, 26, 38, 44],\n",
    "    \"num_examples_per_domain_per_label_source\": -1,\n",
    "    \"num_examples_per_domain_per_label_target\": -1,\n",
    "    \"n_shot\": 3,\n",
    "    \"n_way\": 16,\n",
    "    \"n_query\": 2,\n",
    "    \"train_k_factor\": 3,\n",
    "    \"val_k_factor\": 2,\n",
    "    \"test_k_factor\": 2,\n",
    "    \"torch_default_dtype\": \"torch.float32\",\n",
    "    \"n_epoch\": 50,\n",
    "    \"patience\": 3,\n",
    "    \"criteria_for_best\": \"target_accuracy\",\n",
    "    \"x_net\": [\n",
    "        {\"class\": \"nnReshape\", \"kargs\": {\"shape\": [-1, 1, 2, 256]}},\n",
    "        {\n",
    "            \"class\": \"Conv2d\",\n",
    "            \"kargs\": {\n",
    "                \"in_channels\": 1,\n",
    "                \"out_channels\": 256,\n",
    "                \"kernel_size\": [1, 7],\n",
    "                \"bias\": False,\n",
    "                \"padding\": [0, 3],\n",
    "            },\n",
    "        },\n",
    "        {\"class\": \"ReLU\", \"kargs\": {\"inplace\": True}},\n",
    "        {\"class\": \"BatchNorm2d\", \"kargs\": {\"num_features\": 256}},\n",
    "        {\n",
    "            \"class\": \"Conv2d\",\n",
    "            \"kargs\": {\n",
    "                \"in_channels\": 256,\n",
    "                \"out_channels\": 80,\n",
    "                \"kernel_size\": [2, 7],\n",
    "                \"bias\": True,\n",
    "                \"padding\": [0, 3],\n",
    "            },\n",
    "        },\n",
    "        {\"class\": \"ReLU\", \"kargs\": {\"inplace\": True}},\n",
    "        {\"class\": \"BatchNorm2d\", \"kargs\": {\"num_features\": 80}},\n",
    "        {\"class\": \"Flatten\", \"kargs\": {}},\n",
    "        {\"class\": \"Linear\", \"kargs\": {\"in_features\": 20480, \"out_features\": 256}},\n",
    "        {\"class\": \"ReLU\", \"kargs\": {\"inplace\": True}},\n",
    "        {\"class\": \"BatchNorm1d\", \"kargs\": {\"num_features\": 256}},\n",
    "        {\"class\": \"Linear\", \"kargs\": {\"in_features\": 256, \"out_features\": 256}},\n",
    "    ],\n",
    "    \"NUM_LOGS_PER_EPOCH\": 10,\n",
    "    \"BEST_MODEL_PATH\": \"./best_model.pth\",\n",
    "    \"pickle_name\": \"oracle.Run2_10kExamples_stratified_ds.2022A.pkl\",\n",
    "    \"x_transforms_source\": [\"unit_mag\"],\n",
    "    \"x_transforms_target\": [\"unit_mag\"],\n",
    "    \"dataset_seed\": 7,\n",
    "    \"seed\": 7,\n",
    "}\n"
   ]
  },
  {
   "cell_type": "code",
   "execution_count": 5,
   "id": "8fa1cc33",
   "metadata": {
    "execution": {
     "iopub.execute_input": "2022-03-21T17:19:43.928954Z",
     "iopub.status.busy": "2022-03-21T17:19:43.928705Z",
     "iopub.status.idle": "2022-03-21T17:19:43.940439Z",
     "shell.execute_reply": "2022-03-21T17:19:43.939960Z"
    },
    "papermill": {
     "duration": 0.023306,
     "end_time": "2022-03-21T17:19:43.940537",
     "exception": false,
     "start_time": "2022-03-21T17:19:43.917231",
     "status": "completed"
    },
    "tags": []
   },
   "outputs": [],
   "source": [
    "# Set this to True if you want to run this template directly\n",
    "STANDALONE = False\n",
    "if STANDALONE:\n",
    "    print(\"parameters not injected, running with standalone_parameters\")\n",
    "    parameters = standalone_parameters\n",
    "\n",
    "if not 'parameters' in locals() and not 'parameters' in globals():\n",
    "    raise Exception(\"Parameter injection failed\")\n",
    "\n",
    "#Use an easy dict for all the parameters\n",
    "p = EasyDict(parameters)\n",
    "\n",
    "supplied_keys = set(p.keys())\n",
    "\n",
    "if  supplied_keys != required_parameters:\n",
    "    print(\"Parameters are incorrect\")\n",
    "    if len(supplied_keys - required_parameters)>0: print(\"Shouldn't have:\", str(supplied_keys - required_parameters))\n",
    "    if len(required_parameters - supplied_keys)>0: print(\"Need to have:\", str(required_parameters - supplied_keys))\n",
    "    raise RuntimeError(\"Parameters are incorrect\")\n",
    "\n"
   ]
  },
  {
   "cell_type": "code",
   "execution_count": 6,
   "id": "3a028d58",
   "metadata": {
    "execution": {
     "iopub.execute_input": "2022-03-21T17:19:43.967121Z",
     "iopub.status.busy": "2022-03-21T17:19:43.966879Z",
     "iopub.status.idle": "2022-03-21T17:19:43.982942Z",
     "shell.execute_reply": "2022-03-21T17:19:43.982523Z"
    },
    "papermill": {
     "duration": 0.028086,
     "end_time": "2022-03-21T17:19:43.983039",
     "exception": false,
     "start_time": "2022-03-21T17:19:43.954953",
     "status": "completed"
    },
    "tags": []
   },
   "outputs": [],
   "source": [
    "###################################\n",
    "# Set the RNGs and make it all deterministic\n",
    "###################################\n",
    "np.random.seed(p.seed)\n",
    "random.seed(p.seed)\n",
    "torch.manual_seed(p.seed)\n",
    "\n",
    "torch.use_deterministic_algorithms(True) "
   ]
  },
  {
   "cell_type": "code",
   "execution_count": 7,
   "id": "b691acf6",
   "metadata": {
    "execution": {
     "iopub.execute_input": "2022-03-21T17:19:44.009149Z",
     "iopub.status.busy": "2022-03-21T17:19:44.008905Z",
     "iopub.status.idle": "2022-03-21T17:19:44.025077Z",
     "shell.execute_reply": "2022-03-21T17:19:44.024601Z"
    },
    "papermill": {
     "duration": 0.027625,
     "end_time": "2022-03-21T17:19:44.025174",
     "exception": false,
     "start_time": "2022-03-21T17:19:43.997549",
     "status": "completed"
    },
    "tags": []
   },
   "outputs": [],
   "source": [
    "###########################################\n",
    "# The stratified datasets honor this\n",
    "###########################################\n",
    "torch.set_default_dtype(eval(p.torch_default_dtype))"
   ]
  },
  {
   "cell_type": "code",
   "execution_count": 8,
   "id": "b5fba671",
   "metadata": {
    "execution": {
     "iopub.execute_input": "2022-03-21T17:19:44.051324Z",
     "iopub.status.busy": "2022-03-21T17:19:44.051072Z",
     "iopub.status.idle": "2022-03-21T17:19:44.088670Z",
     "shell.execute_reply": "2022-03-21T17:19:44.088223Z"
    },
    "papermill": {
     "duration": 0.048674,
     "end_time": "2022-03-21T17:19:44.088777",
     "exception": false,
     "start_time": "2022-03-21T17:19:44.040103",
     "status": "completed"
    },
    "tags": []
   },
   "outputs": [],
   "source": [
    "###################################\n",
    "# Build the network(s)\n",
    "# Note: It's critical to do this AFTER setting the RNG\n",
    "# (This is due to the randomized initial weights)\n",
    "###################################\n",
    "x_net = build_sequential(p.x_net)"
   ]
  },
  {
   "cell_type": "code",
   "execution_count": 9,
   "id": "5d7e61cc",
   "metadata": {
    "execution": {
     "iopub.execute_input": "2022-03-21T17:19:44.116564Z",
     "iopub.status.busy": "2022-03-21T17:19:44.116322Z",
     "iopub.status.idle": "2022-03-21T17:19:44.131726Z",
     "shell.execute_reply": "2022-03-21T17:19:44.131300Z"
    },
    "papermill": {
     "duration": 0.02736,
     "end_time": "2022-03-21T17:19:44.131822",
     "exception": false,
     "start_time": "2022-03-21T17:19:44.104462",
     "status": "completed"
    },
    "tags": []
   },
   "outputs": [],
   "source": [
    "start_time_secs = time.time()"
   ]
  },
  {
   "cell_type": "code",
   "execution_count": 10,
   "id": "fd5442bc",
   "metadata": {
    "execution": {
     "iopub.execute_input": "2022-03-21T17:19:44.160628Z",
     "iopub.status.busy": "2022-03-21T17:19:44.160364Z",
     "iopub.status.idle": "2022-03-21T17:21:05.103400Z",
     "shell.execute_reply": "2022-03-21T17:21:05.102865Z"
    },
    "papermill": {
     "duration": 80.957808,
     "end_time": "2022-03-21T17:21:05.103509",
     "exception": false,
     "start_time": "2022-03-21T17:19:44.145701",
     "status": "completed"
    },
    "tags": []
   },
   "outputs": [],
   "source": [
    "###################################\n",
    "# Build the dataset\n",
    "###################################\n",
    "\n",
    "if p.x_transforms_source == []: x_transform_source = None\n",
    "else: x_transform_source = get_chained_transform(p.x_transforms_source) \n",
    "\n",
    "if p.x_transforms_target == []: x_transform_target = None\n",
    "else: x_transform_target = get_chained_transform(p.x_transforms_target)\n",
    "\n",
    "if p.episode_transforms_source == []: episode_transform_source = None\n",
    "else: raise Exception(\"episode_transform_source not implemented\")\n",
    "\n",
    "if p.episode_transforms_target == []: episode_transform_target = None\n",
    "else: raise Exception(\"episode_transform_target not implemented\")\n",
    "\n",
    "\n",
    "eaf_source = Episodic_Accessor_Factory(\n",
    "    labels=p.labels_source,\n",
    "    domains=p.domains_source,\n",
    "    num_examples_per_domain_per_label=p.num_examples_per_domain_per_label_source,\n",
    "    iterator_seed=p.seed,\n",
    "    dataset_seed=p.dataset_seed,\n",
    "    n_shot=p.n_shot,\n",
    "    n_way=p.n_way,\n",
    "    n_query=p.n_query,\n",
    "    train_val_test_k_factors=(p.train_k_factor,p.val_k_factor,p.test_k_factor),\n",
    "    pickle_path=os.path.join(get_datasets_base_path(), p.pickle_name),\n",
    "    x_transform_func=x_transform_source,\n",
    "    example_transform_func=episode_transform_source,\n",
    "    \n",
    ")\n",
    "train_original_source, val_original_source, test_original_source = eaf_source.get_train(), eaf_source.get_val(), eaf_source.get_test()\n",
    "\n",
    "\n",
    "eaf_target = Episodic_Accessor_Factory(\n",
    "    labels=p.labels_target,\n",
    "    domains=p.domains_target,\n",
    "    num_examples_per_domain_per_label=p.num_examples_per_domain_per_label_target,\n",
    "    iterator_seed=p.seed,\n",
    "    dataset_seed=p.dataset_seed,\n",
    "    n_shot=p.n_shot,\n",
    "    n_way=p.n_way,\n",
    "    n_query=p.n_query,\n",
    "    train_val_test_k_factors=(p.train_k_factor,p.val_k_factor,p.test_k_factor),\n",
    "    pickle_path=os.path.join(get_datasets_base_path(), p.pickle_name),\n",
    "    x_transform_func=x_transform_target,\n",
    "    example_transform_func=episode_transform_target,\n",
    ")\n",
    "train_original_target, val_original_target, test_original_target = eaf_target.get_train(), eaf_target.get_val(), eaf_target.get_test()\n",
    "\n",
    "\n",
    "transform_lambda = lambda ex: ex[1] # Original is (<domain>, <episode>) so we strip down to episode only\n",
    "\n",
    "train_processed_source = Lazy_Iterable_Wrapper(train_original_source, transform_lambda)\n",
    "val_processed_source   = Lazy_Iterable_Wrapper(val_original_source, transform_lambda)\n",
    "test_processed_source  = Lazy_Iterable_Wrapper(test_original_source, transform_lambda)\n",
    "\n",
    "train_processed_target = Lazy_Iterable_Wrapper(train_original_target, transform_lambda)\n",
    "val_processed_target   = Lazy_Iterable_Wrapper(val_original_target, transform_lambda)\n",
    "test_processed_target  = Lazy_Iterable_Wrapper(test_original_target, transform_lambda)\n",
    "\n",
    "datasets = EasyDict({\n",
    "    \"source\": {\n",
    "        \"original\": {\"train\":train_original_source, \"val\":val_original_source, \"test\":test_original_source},\n",
    "        \"processed\": {\"train\":train_processed_source, \"val\":val_processed_source, \"test\":test_processed_source}\n",
    "    },\n",
    "    \"target\": {\n",
    "        \"original\": {\"train\":train_original_target, \"val\":val_original_target, \"test\":test_original_target},\n",
    "        \"processed\": {\"train\":train_processed_target, \"val\":val_processed_target, \"test\":test_processed_target}\n",
    "    },\n",
    "})"
   ]
  },
  {
   "cell_type": "code",
   "execution_count": 11,
   "id": "296189d9",
   "metadata": {
    "execution": {
     "iopub.execute_input": "2022-03-21T17:21:05.131368Z",
     "iopub.status.busy": "2022-03-21T17:21:05.131102Z",
     "iopub.status.idle": "2022-03-21T17:21:07.068313Z",
     "shell.execute_reply": "2022-03-21T17:21:07.068814Z"
    },
    "papermill": {
     "duration": 1.951063,
     "end_time": "2022-03-21T17:21:07.068982",
     "exception": false,
     "start_time": "2022-03-21T17:21:05.117919",
     "status": "completed"
    },
    "tags": []
   },
   "outputs": [
    {
     "name": "stdout",
     "output_type": "stream",
     "text": [
      "Visually inspect these to see if they line up with expected values given the transforms\n",
      "x_transforms_source ['unit_mag']\n",
      "x_transforms_target ['unit_mag']\n",
      "Average magnitude, source: 1.0\n",
      "Average power, source: 1.3532832\n"
     ]
    },
    {
     "name": "stdout",
     "output_type": "stream",
     "text": [
      "Average magnitude, target: 0.99999994\n",
      "Average power, target: 1.2737676\n"
     ]
    }
   ],
   "source": [
    "# Some quick unit tests on the data\n",
    "from steves_utils.transforms import get_average_power, get_average_magnitude\n",
    "\n",
    "q_x, q_y, s_x, s_y, truth = next(iter(train_processed_source))\n",
    "\n",
    "assert q_x.dtype == eval(p.torch_default_dtype)\n",
    "assert s_x.dtype == eval(p.torch_default_dtype)\n",
    "\n",
    "print(\"Visually inspect these to see if they line up with expected values given the transforms\")\n",
    "print('x_transforms_source', p.x_transforms_source)\n",
    "print('x_transforms_target', p.x_transforms_target)\n",
    "print(\"Average magnitude, source:\", get_average_magnitude(q_x[0].numpy()))\n",
    "print(\"Average power, source:\", get_average_power(q_x[0].numpy()))\n",
    "\n",
    "q_x, q_y, s_x, s_y, truth = next(iter(train_processed_target))\n",
    "print(\"Average magnitude, target:\", get_average_magnitude(q_x[0].numpy()))\n",
    "print(\"Average power, target:\", get_average_power(q_x[0].numpy()))\n"
   ]
  },
  {
   "cell_type": "code",
   "execution_count": 12,
   "id": "bbdacba1",
   "metadata": {
    "execution": {
     "iopub.execute_input": "2022-03-21T17:21:07.104074Z",
     "iopub.status.busy": "2022-03-21T17:21:07.103606Z",
     "iopub.status.idle": "2022-03-21T17:21:07.166010Z",
     "shell.execute_reply": "2022-03-21T17:21:07.165577Z"
    },
    "papermill": {
     "duration": 0.080649,
     "end_time": "2022-03-21T17:21:07.166112",
     "exception": false,
     "start_time": "2022-03-21T17:21:07.085463",
     "status": "completed"
    },
    "tags": []
   },
   "outputs": [
    {
     "name": "stdout",
     "output_type": "stream",
     "text": [
      "(2, 256)\n"
     ]
    }
   ],
   "source": [
    "###################################\n",
    "# Build the model\n",
    "###################################\n",
    "model = Steves_Prototypical_Network(x_net, device=p.device, x_shape=(2,256))\n",
    "optimizer = Adam(params=model.parameters(), lr=p.lr)"
   ]
  },
  {
   "cell_type": "code",
   "execution_count": 13,
   "id": "22b39ac5",
   "metadata": {
    "execution": {
     "iopub.execute_input": "2022-03-21T17:21:07.195045Z",
     "iopub.status.busy": "2022-03-21T17:21:07.194798Z",
     "iopub.status.idle": "2022-03-21T18:21:01.769340Z",
     "shell.execute_reply": "2022-03-21T18:21:01.769111Z"
    },
    "papermill": {
     "duration": 3594.587973,
     "end_time": "2022-03-21T18:21:01.769400",
     "exception": false,
     "start_time": "2022-03-21T17:21:07.181427",
     "status": "completed"
    },
    "tags": []
   },
   "outputs": [
    {
     "name": "stdout",
     "output_type": "stream",
     "text": [
      "epoch: 1, [batch: 1 / 12600], examples_per_second: 25.6305, train_label_loss: 2.7906, \n"
     ]
    },
    {
     "name": "stdout",
     "output_type": "stream",
     "text": [
      "epoch: 1, [batch: 1260 / 12600], examples_per_second: 3151.8325, train_label_loss: 1.9755, \n"
     ]
    },
    {
     "name": "stdout",
     "output_type": "stream",
     "text": [
      "epoch: 1, [batch: 2520 / 12600], examples_per_second: 3148.9846, train_label_loss: 1.1397, \n"
     ]
    },
    {
     "name": "stdout",
     "output_type": "stream",
     "text": [
      "epoch: 1, [batch: 3780 / 12600], examples_per_second: 3136.2655, train_label_loss: 1.2329, \n"
     ]
    },
    {
     "name": "stdout",
     "output_type": "stream",
     "text": [
      "epoch: 1, [batch: 5040 / 12600], examples_per_second: 3135.6640, train_label_loss: 1.4404, \n"
     ]
    },
    {
     "name": "stdout",
     "output_type": "stream",
     "text": [
      "epoch: 1, [batch: 6300 / 12600], examples_per_second: 3141.2305, train_label_loss: 1.0299, \n"
     ]
    },
    {
     "name": "stdout",
     "output_type": "stream",
     "text": [
      "epoch: 1, [batch: 7560 / 12600], examples_per_second: 3145.1906, train_label_loss: 1.3857, \n"
     ]
    },
    {
     "name": "stdout",
     "output_type": "stream",
     "text": [
      "epoch: 1, [batch: 8820 / 12600], examples_per_second: 3132.9251, train_label_loss: 1.0667, \n"
     ]
    },
    {
     "name": "stdout",
     "output_type": "stream",
     "text": [
      "epoch: 1, [batch: 10080 / 12600], examples_per_second: 3128.6261, train_label_loss: 0.9738, \n"
     ]
    },
    {
     "name": "stdout",
     "output_type": "stream",
     "text": [
      "epoch: 1, [batch: 11340 / 12600], examples_per_second: 3129.2686, train_label_loss: 1.2085, \n"
     ]
    },
    {
     "name": "stdout",
     "output_type": "stream",
     "text": [
      "=============================================================\n",
      "epoch: 1, source_val_acc_label: 0.5811, target_val_acc_label: 0.4955, source_val_label_loss: 1.0838, target_val_label_loss: 1.3786, \n",
      "=============================================================\n"
     ]
    },
    {
     "name": "stdout",
     "output_type": "stream",
     "text": [
      "New best\n"
     ]
    },
    {
     "name": "stdout",
     "output_type": "stream",
     "text": [
      "epoch: 2, [batch: 1 / 12600], examples_per_second: 2.2267, train_label_loss: 1.4181, \n"
     ]
    },
    {
     "name": "stdout",
     "output_type": "stream",
     "text": [
      "epoch: 2, [batch: 1260 / 12600], examples_per_second: 3161.4560, train_label_loss: 0.8475, \n"
     ]
    },
    {
     "name": "stdout",
     "output_type": "stream",
     "text": [
      "epoch: 2, [batch: 2520 / 12600], examples_per_second: 3153.2268, train_label_loss: 0.9845, \n"
     ]
    },
    {
     "name": "stdout",
     "output_type": "stream",
     "text": [
      "epoch: 2, [batch: 3780 / 12600], examples_per_second: 3161.1861, train_label_loss: 0.7688, \n"
     ]
    },
    {
     "name": "stdout",
     "output_type": "stream",
     "text": [
      "epoch: 2, [batch: 5040 / 12600], examples_per_second: 3134.8972, train_label_loss: 1.2253, \n"
     ]
    },
    {
     "name": "stdout",
     "output_type": "stream",
     "text": [
      "epoch: 2, [batch: 6300 / 12600], examples_per_second: 3151.0776, train_label_loss: 0.8885, \n"
     ]
    },
    {
     "name": "stdout",
     "output_type": "stream",
     "text": [
      "epoch: 2, [batch: 7560 / 12600], examples_per_second: 3160.0592, train_label_loss: 0.6263, \n"
     ]
    },
    {
     "name": "stdout",
     "output_type": "stream",
     "text": [
      "epoch: 2, [batch: 8820 / 12600], examples_per_second: 3147.1921, train_label_loss: 0.7050, \n"
     ]
    },
    {
     "name": "stdout",
     "output_type": "stream",
     "text": [
      "epoch: 2, [batch: 10080 / 12600], examples_per_second: 3156.6477, train_label_loss: 0.6953, \n"
     ]
    },
    {
     "name": "stdout",
     "output_type": "stream",
     "text": [
      "epoch: 2, [batch: 11340 / 12600], examples_per_second: 3163.6448, train_label_loss: 0.9289, \n"
     ]
    },
    {
     "name": "stdout",
     "output_type": "stream",
     "text": [
      "=============================================================\n",
      "epoch: 2, source_val_acc_label: 0.6810, target_val_acc_label: 0.5634, source_val_label_loss: 0.8220, target_val_label_loss: 1.2332, \n",
      "=============================================================\n"
     ]
    },
    {
     "name": "stdout",
     "output_type": "stream",
     "text": [
      "New best\n"
     ]
    },
    {
     "name": "stdout",
     "output_type": "stream",
     "text": [
      "epoch: 3, [batch: 1 / 12600], examples_per_second: 2.2301, train_label_loss: 0.4156, \n"
     ]
    },
    {
     "name": "stdout",
     "output_type": "stream",
     "text": [
      "epoch: 3, [batch: 1260 / 12600], examples_per_second: 3142.5111, train_label_loss: 0.7746, \n"
     ]
    },
    {
     "name": "stdout",
     "output_type": "stream",
     "text": [
      "epoch: 3, [batch: 2520 / 12600], examples_per_second: 3150.7232, train_label_loss: 0.8917, \n"
     ]
    },
    {
     "name": "stdout",
     "output_type": "stream",
     "text": [
      "epoch: 3, [batch: 3780 / 12600], examples_per_second: 3158.2075, train_label_loss: 0.7070, \n"
     ]
    },
    {
     "name": "stdout",
     "output_type": "stream",
     "text": [
      "epoch: 3, [batch: 5040 / 12600], examples_per_second: 3147.2782, train_label_loss: 0.5657, \n"
     ]
    },
    {
     "name": "stdout",
     "output_type": "stream",
     "text": [
      "epoch: 3, [batch: 6300 / 12600], examples_per_second: 3160.2779, train_label_loss: 0.3280, \n"
     ]
    },
    {
     "name": "stdout",
     "output_type": "stream",
     "text": [
      "epoch: 3, [batch: 7560 / 12600], examples_per_second: 3161.4808, train_label_loss: 0.6024, \n"
     ]
    },
    {
     "name": "stdout",
     "output_type": "stream",
     "text": [
      "epoch: 3, [batch: 8820 / 12600], examples_per_second: 3149.9071, train_label_loss: 0.5155, \n"
     ]
    },
    {
     "name": "stdout",
     "output_type": "stream",
     "text": [
      "epoch: 3, [batch: 10080 / 12600], examples_per_second: 3157.4914, train_label_loss: 0.6238, \n"
     ]
    },
    {
     "name": "stdout",
     "output_type": "stream",
     "text": [
      "epoch: 3, [batch: 11340 / 12600], examples_per_second: 3153.1232, train_label_loss: 0.4962, \n"
     ]
    },
    {
     "name": "stdout",
     "output_type": "stream",
     "text": [
      "=============================================================\n",
      "epoch: 3, source_val_acc_label: 0.7002, target_val_acc_label: 0.5824, source_val_label_loss: 0.7956, target_val_label_loss: 1.2197, \n",
      "=============================================================\n"
     ]
    },
    {
     "name": "stdout",
     "output_type": "stream",
     "text": [
      "New best\n"
     ]
    },
    {
     "name": "stdout",
     "output_type": "stream",
     "text": [
      "epoch: 4, [batch: 1 / 12600], examples_per_second: 2.2287, train_label_loss: 0.7678, \n"
     ]
    },
    {
     "name": "stdout",
     "output_type": "stream",
     "text": [
      "epoch: 4, [batch: 1260 / 12600], examples_per_second: 3145.2116, train_label_loss: 0.6929, \n"
     ]
    },
    {
     "name": "stdout",
     "output_type": "stream",
     "text": [
      "epoch: 4, [batch: 2520 / 12600], examples_per_second: 3160.0200, train_label_loss: 0.7116, \n"
     ]
    },
    {
     "name": "stdout",
     "output_type": "stream",
     "text": [
      "epoch: 4, [batch: 3780 / 12600], examples_per_second: 3157.3197, train_label_loss: 0.7977, \n"
     ]
    },
    {
     "name": "stdout",
     "output_type": "stream",
     "text": [
      "epoch: 4, [batch: 5040 / 12600], examples_per_second: 3154.5053, train_label_loss: 0.8510, \n"
     ]
    },
    {
     "name": "stdout",
     "output_type": "stream",
     "text": [
      "epoch: 4, [batch: 6300 / 12600], examples_per_second: 3167.2772, train_label_loss: 0.5509, \n"
     ]
    },
    {
     "name": "stdout",
     "output_type": "stream",
     "text": [
      "epoch: 4, [batch: 7560 / 12600], examples_per_second: 3163.8344, train_label_loss: 0.5099, \n"
     ]
    },
    {
     "name": "stdout",
     "output_type": "stream",
     "text": [
      "epoch: 4, [batch: 8820 / 12600], examples_per_second: 3147.2797, train_label_loss: 0.5881, \n"
     ]
    },
    {
     "name": "stdout",
     "output_type": "stream",
     "text": [
      "epoch: 4, [batch: 10080 / 12600], examples_per_second: 3155.5337, train_label_loss: 0.7420, \n"
     ]
    },
    {
     "name": "stdout",
     "output_type": "stream",
     "text": [
      "epoch: 4, [batch: 11340 / 12600], examples_per_second: 3161.6356, train_label_loss: 0.6714, \n"
     ]
    },
    {
     "name": "stdout",
     "output_type": "stream",
     "text": [
      "=============================================================\n",
      "epoch: 4, source_val_acc_label: 0.7045, target_val_acc_label: 0.5836, source_val_label_loss: 0.7779, target_val_label_loss: 1.2122, \n",
      "=============================================================\n"
     ]
    },
    {
     "name": "stdout",
     "output_type": "stream",
     "text": [
      "New best\n"
     ]
    },
    {
     "name": "stdout",
     "output_type": "stream",
     "text": [
      "epoch: 5, [batch: 1 / 12600], examples_per_second: 2.2321, train_label_loss: 0.3020, \n"
     ]
    },
    {
     "name": "stdout",
     "output_type": "stream",
     "text": [
      "epoch: 5, [batch: 1260 / 12600], examples_per_second: 3146.3792, train_label_loss: 0.7631, \n"
     ]
    },
    {
     "name": "stdout",
     "output_type": "stream",
     "text": [
      "epoch: 5, [batch: 2520 / 12600], examples_per_second: 3157.2413, train_label_loss: 0.6217, \n"
     ]
    },
    {
     "name": "stdout",
     "output_type": "stream",
     "text": [
      "epoch: 5, [batch: 3780 / 12600], examples_per_second: 3152.1507, train_label_loss: 0.7112, \n"
     ]
    },
    {
     "name": "stdout",
     "output_type": "stream",
     "text": [
      "epoch: 5, [batch: 5040 / 12600], examples_per_second: 3142.5354, train_label_loss: 0.4072, \n"
     ]
    },
    {
     "name": "stdout",
     "output_type": "stream",
     "text": [
      "epoch: 5, [batch: 6300 / 12600], examples_per_second: 3153.0664, train_label_loss: 0.8245, \n"
     ]
    },
    {
     "name": "stdout",
     "output_type": "stream",
     "text": [
      "epoch: 5, [batch: 7560 / 12600], examples_per_second: 3155.3416, train_label_loss: 0.7201, \n"
     ]
    },
    {
     "name": "stdout",
     "output_type": "stream",
     "text": [
      "epoch: 5, [batch: 8820 / 12600], examples_per_second: 3148.6494, train_label_loss: 0.8694, \n"
     ]
    },
    {
     "name": "stdout",
     "output_type": "stream",
     "text": [
      "epoch: 5, [batch: 10080 / 12600], examples_per_second: 3155.6041, train_label_loss: 0.2257, \n"
     ]
    },
    {
     "name": "stdout",
     "output_type": "stream",
     "text": [
      "epoch: 5, [batch: 11340 / 12600], examples_per_second: 3153.1844, train_label_loss: 0.5172, \n"
     ]
    },
    {
     "name": "stdout",
     "output_type": "stream",
     "text": [
      "=============================================================\n",
      "epoch: 5, source_val_acc_label: 0.6965, target_val_acc_label: 0.5750, source_val_label_loss: 0.8038, target_val_label_loss: 1.2449, \n",
      "=============================================================\n"
     ]
    },
    {
     "name": "stdout",
     "output_type": "stream",
     "text": [
      "epoch: 6, [batch: 1 / 12600], examples_per_second: 2.2309, train_label_loss: 0.4859, \n"
     ]
    },
    {
     "name": "stdout",
     "output_type": "stream",
     "text": [
      "epoch: 6, [batch: 1260 / 12600], examples_per_second: 3139.4746, train_label_loss: 0.6718, \n"
     ]
    },
    {
     "name": "stdout",
     "output_type": "stream",
     "text": [
      "epoch: 6, [batch: 2520 / 12600], examples_per_second: 3146.6371, train_label_loss: 0.5681, \n"
     ]
    },
    {
     "name": "stdout",
     "output_type": "stream",
     "text": [
      "epoch: 6, [batch: 3780 / 12600], examples_per_second: 3150.5723, train_label_loss: 0.6456, \n"
     ]
    },
    {
     "name": "stdout",
     "output_type": "stream",
     "text": [
      "epoch: 6, [batch: 5040 / 12600], examples_per_second: 3147.0065, train_label_loss: 0.4711, \n"
     ]
    },
    {
     "name": "stdout",
     "output_type": "stream",
     "text": [
      "epoch: 6, [batch: 6300 / 12600], examples_per_second: 3150.7516, train_label_loss: 0.4395, \n"
     ]
    },
    {
     "name": "stdout",
     "output_type": "stream",
     "text": [
      "epoch: 6, [batch: 7560 / 12600], examples_per_second: 3156.3203, train_label_loss: 0.2439, \n"
     ]
    },
    {
     "name": "stdout",
     "output_type": "stream",
     "text": [
      "epoch: 6, [batch: 8820 / 12600], examples_per_second: 3145.8982, train_label_loss: 0.5070, \n"
     ]
    },
    {
     "name": "stdout",
     "output_type": "stream",
     "text": [
      "epoch: 6, [batch: 10080 / 12600], examples_per_second: 3150.5496, train_label_loss: 0.4877, \n"
     ]
    },
    {
     "name": "stdout",
     "output_type": "stream",
     "text": [
      "epoch: 6, [batch: 11340 / 12600], examples_per_second: 3162.5983, train_label_loss: 0.5226, \n"
     ]
    },
    {
     "name": "stdout",
     "output_type": "stream",
     "text": [
      "=============================================================\n",
      "epoch: 6, source_val_acc_label: 0.7134, target_val_acc_label: 0.5895, source_val_label_loss: 0.8144, target_val_label_loss: 1.2840, \n",
      "=============================================================\n"
     ]
    },
    {
     "name": "stdout",
     "output_type": "stream",
     "text": [
      "New best\n"
     ]
    },
    {
     "name": "stdout",
     "output_type": "stream",
     "text": [
      "epoch: 7, [batch: 1 / 12600], examples_per_second: 2.2296, train_label_loss: 0.9791, \n"
     ]
    },
    {
     "name": "stdout",
     "output_type": "stream",
     "text": [
      "epoch: 7, [batch: 1260 / 12600], examples_per_second: 3158.8440, train_label_loss: 0.4474, \n"
     ]
    },
    {
     "name": "stdout",
     "output_type": "stream",
     "text": [
      "epoch: 7, [batch: 2520 / 12600], examples_per_second: 3158.5783, train_label_loss: 0.3638, \n"
     ]
    },
    {
     "name": "stdout",
     "output_type": "stream",
     "text": [
      "epoch: 7, [batch: 3780 / 12600], examples_per_second: 3148.9373, train_label_loss: 0.4403, \n"
     ]
    },
    {
     "name": "stdout",
     "output_type": "stream",
     "text": [
      "epoch: 7, [batch: 5040 / 12600], examples_per_second: 3151.6299, train_label_loss: 0.4195, \n"
     ]
    },
    {
     "name": "stdout",
     "output_type": "stream",
     "text": [
      "epoch: 7, [batch: 6300 / 12600], examples_per_second: 3162.9405, train_label_loss: 0.5594, \n"
     ]
    },
    {
     "name": "stdout",
     "output_type": "stream",
     "text": [
      "epoch: 7, [batch: 7560 / 12600], examples_per_second: 3165.3051, train_label_loss: 0.4713, \n"
     ]
    },
    {
     "name": "stdout",
     "output_type": "stream",
     "text": [
      "epoch: 7, [batch: 8820 / 12600], examples_per_second: 3146.6168, train_label_loss: 0.2058, \n"
     ]
    },
    {
     "name": "stdout",
     "output_type": "stream",
     "text": [
      "epoch: 7, [batch: 10080 / 12600], examples_per_second: 3154.2589, train_label_loss: 0.5368, \n"
     ]
    },
    {
     "name": "stdout",
     "output_type": "stream",
     "text": [
      "epoch: 7, [batch: 11340 / 12600], examples_per_second: 3161.9849, train_label_loss: 0.4696, \n"
     ]
    },
    {
     "name": "stdout",
     "output_type": "stream",
     "text": [
      "=============================================================\n",
      "epoch: 7, source_val_acc_label: 0.7082, target_val_acc_label: 0.5837, source_val_label_loss: 0.8271, target_val_label_loss: 1.2892, \n",
      "=============================================================\n"
     ]
    },
    {
     "name": "stdout",
     "output_type": "stream",
     "text": [
      "epoch: 8, [batch: 1 / 12600], examples_per_second: 2.2277, train_label_loss: 0.5343, \n"
     ]
    },
    {
     "name": "stdout",
     "output_type": "stream",
     "text": [
      "epoch: 8, [batch: 1260 / 12600], examples_per_second: 3144.8597, train_label_loss: 0.6507, \n"
     ]
    },
    {
     "name": "stdout",
     "output_type": "stream",
     "text": [
      "epoch: 8, [batch: 2520 / 12600], examples_per_second: 3152.2568, train_label_loss: 0.3490, \n"
     ]
    },
    {
     "name": "stdout",
     "output_type": "stream",
     "text": [
      "epoch: 8, [batch: 3780 / 12600], examples_per_second: 3151.8467, train_label_loss: 0.3806, \n"
     ]
    },
    {
     "name": "stdout",
     "output_type": "stream",
     "text": [
      "epoch: 8, [batch: 5040 / 12600], examples_per_second: 3144.2520, train_label_loss: 0.2157, \n"
     ]
    },
    {
     "name": "stdout",
     "output_type": "stream",
     "text": [
      "epoch: 8, [batch: 6300 / 12600], examples_per_second: 3157.5947, train_label_loss: 0.6011, \n"
     ]
    },
    {
     "name": "stdout",
     "output_type": "stream",
     "text": [
      "epoch: 8, [batch: 7560 / 12600], examples_per_second: 3162.1192, train_label_loss: 0.7153, \n"
     ]
    },
    {
     "name": "stdout",
     "output_type": "stream",
     "text": [
      "epoch: 8, [batch: 8820 / 12600], examples_per_second: 3153.5913, train_label_loss: 0.2966, \n"
     ]
    },
    {
     "name": "stdout",
     "output_type": "stream",
     "text": [
      "epoch: 8, [batch: 10080 / 12600], examples_per_second: 3155.7581, train_label_loss: 0.5626, \n"
     ]
    },
    {
     "name": "stdout",
     "output_type": "stream",
     "text": [
      "epoch: 8, [batch: 11340 / 12600], examples_per_second: 3158.4339, train_label_loss: 0.2326, \n"
     ]
    },
    {
     "name": "stdout",
     "output_type": "stream",
     "text": [
      "=============================================================\n",
      "epoch: 8, source_val_acc_label: 0.7082, target_val_acc_label: 0.5816, source_val_label_loss: 0.8524, target_val_label_loss: 1.3452, \n",
      "=============================================================\n"
     ]
    },
    {
     "name": "stdout",
     "output_type": "stream",
     "text": [
      "epoch: 9, [batch: 1 / 12600], examples_per_second: 2.2396, train_label_loss: 0.3581, \n"
     ]
    },
    {
     "name": "stdout",
     "output_type": "stream",
     "text": [
      "epoch: 9, [batch: 1260 / 12600], examples_per_second: 3147.3813, train_label_loss: 0.4801, \n"
     ]
    },
    {
     "name": "stdout",
     "output_type": "stream",
     "text": [
      "epoch: 9, [batch: 2520 / 12600], examples_per_second: 3157.3127, train_label_loss: 0.1432, \n"
     ]
    },
    {
     "name": "stdout",
     "output_type": "stream",
     "text": [
      "epoch: 9, [batch: 3780 / 12600], examples_per_second: 3167.2405, train_label_loss: 0.1473, \n"
     ]
    },
    {
     "name": "stdout",
     "output_type": "stream",
     "text": [
      "epoch: 9, [batch: 5040 / 12600], examples_per_second: 3146.3749, train_label_loss: 0.4075, \n"
     ]
    },
    {
     "name": "stdout",
     "output_type": "stream",
     "text": [
      "epoch: 9, [batch: 6300 / 12600], examples_per_second: 3163.1335, train_label_loss: 0.3683, \n"
     ]
    },
    {
     "name": "stdout",
     "output_type": "stream",
     "text": [
      "epoch: 9, [batch: 7560 / 12600], examples_per_second: 3175.5311, train_label_loss: 0.3079, \n"
     ]
    },
    {
     "name": "stdout",
     "output_type": "stream",
     "text": [
      "epoch: 9, [batch: 8820 / 12600], examples_per_second: 3152.1024, train_label_loss: 0.2252, \n"
     ]
    },
    {
     "name": "stdout",
     "output_type": "stream",
     "text": [
      "epoch: 9, [batch: 10080 / 12600], examples_per_second: 3160.2633, train_label_loss: 0.2230, \n"
     ]
    },
    {
     "name": "stdout",
     "output_type": "stream",
     "text": [
      "epoch: 9, [batch: 11340 / 12600], examples_per_second: 3171.8201, train_label_loss: 0.3562, \n"
     ]
    },
    {
     "name": "stdout",
     "output_type": "stream",
     "text": [
      "=============================================================\n",
      "epoch: 9, source_val_acc_label: 0.7026, target_val_acc_label: 0.5783, source_val_label_loss: 0.9027, target_val_label_loss: 1.4116, \n",
      "=============================================================\n"
     ]
    },
    {
     "name": "stdout",
     "output_type": "stream",
     "text": [
      "epoch: 10, [batch: 1 / 12600], examples_per_second: 2.2351, train_label_loss: 0.5084, \n"
     ]
    },
    {
     "name": "stdout",
     "output_type": "stream",
     "text": [
      "epoch: 10, [batch: 1260 / 12600], examples_per_second: 3138.8697, train_label_loss: 0.5014, \n"
     ]
    },
    {
     "name": "stdout",
     "output_type": "stream",
     "text": [
      "epoch: 10, [batch: 2520 / 12600], examples_per_second: 3151.2956, train_label_loss: 0.2008, \n"
     ]
    },
    {
     "name": "stdout",
     "output_type": "stream",
     "text": [
      "epoch: 10, [batch: 3780 / 12600], examples_per_second: 3150.8677, train_label_loss: 0.1386, \n"
     ]
    },
    {
     "name": "stdout",
     "output_type": "stream",
     "text": [
      "epoch: 10, [batch: 5040 / 12600], examples_per_second: 3145.0080, train_label_loss: 0.1281, \n"
     ]
    },
    {
     "name": "stdout",
     "output_type": "stream",
     "text": [
      "epoch: 10, [batch: 6300 / 12600], examples_per_second: 3150.6286, train_label_loss: 0.1813, \n"
     ]
    },
    {
     "name": "stdout",
     "output_type": "stream",
     "text": [
      "epoch: 10, [batch: 7560 / 12600], examples_per_second: 3163.7436, train_label_loss: 0.2202, \n"
     ]
    },
    {
     "name": "stdout",
     "output_type": "stream",
     "text": [
      "epoch: 10, [batch: 8820 / 12600], examples_per_second: 3144.8133, train_label_loss: 0.4366, \n"
     ]
    },
    {
     "name": "stdout",
     "output_type": "stream",
     "text": [
      "epoch: 10, [batch: 10080 / 12600], examples_per_second: 3163.2891, train_label_loss: 0.3505, \n"
     ]
    },
    {
     "name": "stdout",
     "output_type": "stream",
     "text": [
      "epoch: 10, [batch: 11340 / 12600], examples_per_second: 3157.7037, train_label_loss: 0.0998, \n"
     ]
    },
    {
     "name": "stdout",
     "output_type": "stream",
     "text": [
      "=============================================================\n",
      "epoch: 10, source_val_acc_label: 0.7023, target_val_acc_label: 0.5778, source_val_label_loss: 0.9310, target_val_label_loss: 1.4546, \n",
      "=============================================================\n"
     ]
    },
    {
     "name": "stdout",
     "output_type": "stream",
     "text": [
      "Patience (3) exhausted\n"
     ]
    }
   ],
   "source": [
    "###################################\n",
    "# train\n",
    "###################################\n",
    "jig = PTN_Train_Eval_Test_Jig(model, p.BEST_MODEL_PATH, p.device)\n",
    "\n",
    "jig.train(\n",
    "    train_iterable=datasets.source.processed.train,\n",
    "    source_val_iterable=datasets.source.processed.val,\n",
    "    target_val_iterable=datasets.target.processed.val,\n",
    "    num_epochs=p.n_epoch,\n",
    "    num_logs_per_epoch=p.NUM_LOGS_PER_EPOCH,\n",
    "    patience=p.patience,\n",
    "    optimizer=optimizer,\n",
    "    criteria_for_best=p.criteria_for_best,\n",
    ")"
   ]
  },
  {
   "cell_type": "code",
   "execution_count": 14,
   "id": "31e8fabf",
   "metadata": {
    "execution": {
     "iopub.execute_input": "2022-03-21T18:21:01.834458Z",
     "iopub.status.busy": "2022-03-21T18:21:01.832883Z",
     "iopub.status.idle": "2022-03-21T18:21:01.852216Z",
     "shell.execute_reply": "2022-03-21T18:21:01.851768Z"
    },
    "papermill": {
     "duration": 0.052243,
     "end_time": "2022-03-21T18:21:01.852324",
     "exception": false,
     "start_time": "2022-03-21T18:21:01.800081",
     "status": "completed"
    },
    "tags": []
   },
   "outputs": [],
   "source": [
    "total_experiment_time_secs = time.time() - start_time_secs"
   ]
  },
  {
   "cell_type": "code",
   "execution_count": 15,
   "id": "87b9595b",
   "metadata": {
    "execution": {
     "iopub.execute_input": "2022-03-21T18:21:01.926770Z",
     "iopub.status.busy": "2022-03-21T18:21:01.926492Z",
     "iopub.status.idle": "2022-03-21T18:25:06.021692Z",
     "shell.execute_reply": "2022-03-21T18:25:06.021399Z"
    },
    "papermill": {
     "duration": 244.131399,
     "end_time": "2022-03-21T18:25:06.021757",
     "exception": false,
     "start_time": "2022-03-21T18:21:01.890358",
     "status": "completed"
    },
    "tags": []
   },
   "outputs": [],
   "source": [
    "###################################\n",
    "# Evaluate the model\n",
    "###################################\n",
    "source_test_label_accuracy, source_test_label_loss = jig.test(datasets.source.processed.test)\n",
    "target_test_label_accuracy, target_test_label_loss = jig.test(datasets.target.processed.test)\n",
    "\n",
    "source_val_label_accuracy, source_val_label_loss = jig.test(datasets.source.processed.val)\n",
    "target_val_label_accuracy, target_val_label_loss = jig.test(datasets.target.processed.val)\n",
    "\n",
    "history = jig.get_history()\n",
    "\n",
    "total_epochs_trained = len(history[\"epoch_indices\"])\n",
    "\n",
    "val_dl = Iterable_Aggregator((datasets.source.original.val,datasets.target.original.val))\n",
    "\n",
    "confusion = ptn_confusion_by_domain_over_dataloader(model, p.device, val_dl)\n",
    "per_domain_accuracy = per_domain_accuracy_from_confusion(confusion)\n",
    "\n",
    "# Add a key to per_domain_accuracy for if it was a source domain\n",
    "for domain, accuracy in per_domain_accuracy.items():\n",
    "    per_domain_accuracy[domain] = {\n",
    "        \"accuracy\": accuracy,\n",
    "        \"source?\": domain in p.domains_source\n",
    "    }\n",
    "\n",
    "# Do an independent accuracy assesment JUST TO BE SURE!\n",
    "# _source_test_label_accuracy = independent_accuracy_assesment(model, datasets.source.processed.test, p.device)\n",
    "# _target_test_label_accuracy = independent_accuracy_assesment(model, datasets.target.processed.test, p.device)\n",
    "# _source_val_label_accuracy = independent_accuracy_assesment(model, datasets.source.processed.val, p.device)\n",
    "# _target_val_label_accuracy = independent_accuracy_assesment(model, datasets.target.processed.val, p.device)\n",
    "\n",
    "# assert(_source_test_label_accuracy == source_test_label_accuracy)\n",
    "# assert(_target_test_label_accuracy == target_test_label_accuracy)\n",
    "# assert(_source_val_label_accuracy == source_val_label_accuracy)\n",
    "# assert(_target_val_label_accuracy == target_val_label_accuracy)\n",
    "\n",
    "experiment = {\n",
    "    \"experiment_name\": p.experiment_name,\n",
    "    \"parameters\": dict(p),\n",
    "    \"results\": {\n",
    "        \"source_test_label_accuracy\": source_test_label_accuracy,\n",
    "        \"source_test_label_loss\": source_test_label_loss,\n",
    "        \"target_test_label_accuracy\": target_test_label_accuracy,\n",
    "        \"target_test_label_loss\": target_test_label_loss,\n",
    "        \"source_val_label_accuracy\": source_val_label_accuracy,\n",
    "        \"source_val_label_loss\": source_val_label_loss,\n",
    "        \"target_val_label_accuracy\": target_val_label_accuracy,\n",
    "        \"target_val_label_loss\": target_val_label_loss,\n",
    "        \"total_epochs_trained\": total_epochs_trained,\n",
    "        \"total_experiment_time_secs\": total_experiment_time_secs,\n",
    "        \"confusion\": confusion,\n",
    "        \"per_domain_accuracy\": per_domain_accuracy,\n",
    "    },\n",
    "    \"history\": history,\n",
    "    \"dataset_metrics\": get_dataset_metrics(datasets, \"ptn\"),\n",
    "}"
   ]
  },
  {
   "cell_type": "code",
   "execution_count": 16,
   "id": "54a21829",
   "metadata": {
    "execution": {
     "iopub.execute_input": "2022-03-21T18:25:06.089833Z",
     "iopub.status.busy": "2022-03-21T18:25:06.089583Z",
     "iopub.status.idle": "2022-03-21T18:25:06.223417Z",
     "shell.execute_reply": "2022-03-21T18:25:06.223793Z"
    },
    "papermill": {
     "duration": 0.167246,
     "end_time": "2022-03-21T18:25:06.223902",
     "exception": false,
     "start_time": "2022-03-21T18:25:06.056656",
     "status": "completed"
    },
    "tags": []
   },
   "outputs": [
    {
     "data": {
      "image/png": "[encoded data removed]",
      "text/plain": [
       "<Figure size 1080x504 with 1 Axes>"
      ]
     },
     "metadata": {
      "needs_background": "light"
     },
     "output_type": "display_data"
    }
   ],
   "source": [
    "ax = get_loss_curve(experiment)\n",
    "plt.show()"
   ]
  },
  {
   "cell_type": "code",
   "execution_count": 17,
   "id": "fd8a0f60",
   "metadata": {
    "execution": {
     "iopub.execute_input": "2022-03-21T18:25:06.294983Z",
     "iopub.status.busy": "2022-03-21T18:25:06.294737Z",
     "iopub.status.idle": "2022-03-21T18:25:06.435469Z",
     "shell.execute_reply": "2022-03-21T18:25:06.435680Z"
    },
    "papermill": {
     "duration": 0.174614,
     "end_time": "2022-03-21T18:25:06.435743",
     "exception": false,
     "start_time": "2022-03-21T18:25:06.261129",
     "status": "completed"
    },
    "tags": []
   },
   "outputs": [
    {
     "data": {
      "text/plain": [
       "<AxesSubplot:title={'center':'Results'}>"
      ]
     },
     "execution_count": 17,
     "metadata": {},
     "output_type": "execute_result"
    },
    {
     "data": {
      "image/png": "[encoded data removed]",
      "text/plain": [
       "<Figure size 1080x504 with 1 Axes>"
      ]
     },
     "metadata": {
      "needs_background": "light"
     },
     "output_type": "display_data"
    }
   ],
   "source": [
    "get_results_table(experiment)"
   ]
  },
  {
   "cell_type": "code",
   "execution_count": 18,
   "id": "cf8dc689",
   "metadata": {
    "execution": {
     "iopub.execute_input": "2022-03-21T18:25:06.505427Z",
     "iopub.status.busy": "2022-03-21T18:25:06.505177Z",
     "iopub.status.idle": "2022-03-21T18:25:06.621190Z",
     "shell.execute_reply": "2022-03-21T18:25:06.621563Z"
    },
    "papermill": {
     "duration": 0.151979,
     "end_time": "2022-03-21T18:25:06.621669",
     "exception": false,
     "start_time": "2022-03-21T18:25:06.469690",
     "status": "completed"
    },
    "tags": []
   },
   "outputs": [
    {
     "data": {
      "text/plain": [
       "<AxesSubplot:title={'center':'Per Domain Validation Accuracy'}, xlabel='domain'>"
      ]
     },
     "execution_count": 18,
     "metadata": {},
     "output_type": "execute_result"
    },
    {
     "data": {
      "image/png": "[encoded data removed]",
      "text/plain": [
       "<Figure size 1080x504 with 1 Axes>"
      ]
     },
     "metadata": {
      "needs_background": "light"
     },
     "output_type": "display_data"
    }
   ],
   "source": [
    "get_domain_accuracies(experiment)"
   ]
  },
  {
   "cell_type": "code",
   "execution_count": 19,
   "id": "a74ae082",
   "metadata": {
    "execution": {
     "iopub.execute_input": "2022-03-21T18:25:06.698083Z",
     "iopub.status.busy": "2022-03-21T18:25:06.697833Z",
     "iopub.status.idle": "2022-03-21T18:25:06.714355Z",
     "shell.execute_reply": "2022-03-21T18:25:06.713977Z"
    },
    "papermill": {
     "duration": 0.05259,
     "end_time": "2022-03-21T18:25:06.714447",
     "exception": false,
     "start_time": "2022-03-21T18:25:06.661857",
     "status": "completed"
    },
    "tags": []
   },
   "outputs": [
    {
     "name": "stdout",
     "output_type": "stream",
     "text": [
      "Source Test Label Accuracy: 0.7107465277777778 Target Test Label Accuracy: 0.5865416666666666\n",
      "Source Val Label Accuracy: 0.7134201388888889 Target Val Label Accuracy: 0.5895104166666667\n"
     ]
    }
   ],
   "source": [
    "print(\"Source Test Label Accuracy:\", experiment[\"results\"][\"source_test_label_accuracy\"], \"Target Test Label Accuracy:\", experiment[\"results\"][\"target_test_label_accuracy\"])\n",
    "print(\"Source Val Label Accuracy:\", experiment[\"results\"][\"source_val_label_accuracy\"], \"Target Val Label Accuracy:\", experiment[\"results\"][\"target_val_label_accuracy\"])"
   ]
  },
  {
   "cell_type": "code",
   "execution_count": 20,
   "id": "dacca602",
   "metadata": {
    "execution": {
     "iopub.execute_input": "2022-03-21T18:25:06.791363Z",
     "iopub.status.busy": "2022-03-21T18:25:06.791098Z",
     "iopub.status.idle": "2022-03-21T18:25:06.807098Z",
     "shell.execute_reply": "2022-03-21T18:25:06.806648Z"
    },
    "papermill": {
     "duration": 0.0532,
     "end_time": "2022-03-21T18:25:06.807187",
     "exception": false,
     "start_time": "2022-03-21T18:25:06.753987",
     "status": "completed"
    },
    "tags": [
     "experiment_json"
    ]
   },
   "outputs": [
    {
     "data": {
      "text/plain": [
       "'{\"experiment_name\": \"tuned_1v2:oracle.run2\", \"parameters\": {\"experiment_name\": \"tuned_1v2:oracle.run2\", \"device\": \"cuda\", \"lr\": 0.0001, \"labels_source\": [\"3123D52\", \"3123D65\", \"3123D79\", \"3123D80\", \"3123D54\", \"3123D70\", \"3123D7B\", \"3123D89\", \"3123D58\", \"3123D76\", \"3123D7D\", \"3123EFE\", \"3123D64\", \"3123D78\", \"3123D7E\", \"3124E4A\"], \"labels_target\": [\"3123D52\", \"3123D65\", \"3123D79\", \"3123D80\", \"3123D54\", \"3123D70\", \"3123D7B\", \"3123D89\", \"3123D58\", \"3123D76\", \"3123D7D\", \"3123EFE\", \"3123D64\", \"3123D78\", \"3123D7E\", \"3124E4A\"], \"episode_transforms_source\": [], \"episode_transforms_target\": [], \"domains_source\": [8, 32, 50], \"domains_target\": [14, 20, 26, 38, 44], \"num_examples_per_domain_per_label_source\": -1, \"num_examples_per_domain_per_label_target\": -1, \"n_shot\": 3, \"n_way\": 16, \"n_query\": 2, \"train_k_factor\": 3, \"val_k_factor\": 2, \"test_k_factor\": 2, \"torch_default_dtype\": \"torch.float32\", \"n_epoch\": 50, \"patience\": 3, \"criteria_for_best\": \"target_accuracy\", \"x_net\": [{\"class\": \"nnReshape\", \"kargs\": {\"shape\": [-1, 1, 2, 256]}}, {\"class\": \"Conv2d\", \"kargs\": {\"in_channels\": 1, \"out_channels\": 256, \"kernel_size\": [1, 7], \"bias\": false, \"padding\": [0, 3]}}, {\"class\": \"ReLU\", \"kargs\": {\"inplace\": true}}, {\"class\": \"BatchNorm2d\", \"kargs\": {\"num_features\": 256}}, {\"class\": \"Conv2d\", \"kargs\": {\"in_channels\": 256, \"out_channels\": 80, \"kernel_size\": [2, 7], \"bias\": true, \"padding\": [0, 3]}}, {\"class\": \"ReLU\", \"kargs\": {\"inplace\": true}}, {\"class\": \"BatchNorm2d\", \"kargs\": {\"num_features\": 80}}, {\"class\": \"Flatten\", \"kargs\": {}}, {\"class\": \"Linear\", \"kargs\": {\"in_features\": 20480, \"out_features\": 256}}, {\"class\": \"ReLU\", \"kargs\": {\"inplace\": true}}, {\"class\": \"BatchNorm1d\", \"kargs\": {\"num_features\": 256}}, {\"class\": \"Linear\", \"kargs\": {\"in_features\": 256, \"out_features\": 256}}], \"NUM_LOGS_PER_EPOCH\": 10, \"BEST_MODEL_PATH\": \"./best_model.pth\", \"pickle_name\": \"oracle.Run2_10kExamples_stratified_ds.2022A.pkl\", \"x_transforms_source\": [\"unit_mag\"], \"x_transforms_target\": [\"unit_mag\"], \"dataset_seed\": 7, \"seed\": 7}, \"results\": {\"source_test_label_accuracy\": 0.7107465277777778, \"source_test_label_loss\": 0.8199995160102844, \"target_test_label_accuracy\": 0.5865416666666666, \"target_test_label_loss\": 1.2719558477401733, \"source_val_label_accuracy\": 0.7134201388888889, \"source_val_label_loss\": 0.814378559589386, \"target_val_label_accuracy\": 0.5895104166666667, \"target_val_label_loss\": 1.2839716672897339, \"total_epochs_trained\": 10, \"total_experiment_time_secs\": 3677.7200920581818, \"confusion\": {\"50\": {\"0\": {\"0\": 1082, \"2\": 86, \"10\": 23, \"1\": 3, \"5\": 5, \"4\": 1}, \"4\": {\"4\": 584, \"5\": 288, \"1\": 33, \"6\": 276, \"0\": 2, \"13\": 2, \"15\": 2, \"10\": 5, \"7\": 8}, \"14\": {\"14\": 1162, \"11\": 16, \"12\": 22}, \"12\": {\"12\": 1055, \"14\": 50, \"9\": 90, \"11\": 5}, \"8\": {\"8\": 1178, \"3\": 22}, \"7\": {\"7\": 512, \"5\": 105, \"13\": 483, \"10\": 90, \"4\": 10}, \"13\": {\"13\": 568, \"7\": 442, \"10\": 151, \"5\": 37, \"4\": 2}, \"5\": {\"5\": 599, \"4\": 324, \"10\": 56, \"6\": 65, \"13\": 60, \"7\": 87, \"1\": 5, \"0\": 4}, \"15\": {\"15\": 1051, \"11\": 48, \"1\": 87, \"14\": 1, \"6\": 12, \"4\": 1}, \"10\": {\"13\": 152, \"7\": 93, \"10\": 842, \"0\": 28, \"5\": 81, \"4\": 4}, \"3\": {\"3\": 1165, \"8\": 35}, \"9\": {\"12\": 93, \"9\": 1084, \"11\": 23}, \"6\": {\"6\": 587, \"1\": 328, \"5\": 45, \"4\": 227, \"15\": 10, \"0\": 3}, \"1\": {\"1\": 830, \"4\": 20, \"6\": 264, \"15\": 82, \"14\": 2, \"2\": 2}, \"11\": {\"15\": 30, \"11\": 1098, \"14\": 37, \"9\": 25, \"12\": 10}, \"2\": {\"2\": 1122, \"0\": 78}}, \"8\": {\"1\": {\"1\": 1049, \"13\": 108, \"5\": 29, \"10\": 14}, \"11\": {\"11\": 554, \"15\": 259, \"12\": 125, \"8\": 259, \"6\": 2, \"3\": 1}, \"3\": {\"3\": 1017, \"15\": 11, \"12\": 170, \"2\": 1, \"11\": 1}, \"6\": {\"6\": 560, \"7\": 222, \"4\": 327, \"13\": 4, \"14\": 58, \"2\": 21, \"8\": 4, \"0\": 4}, \"7\": {\"7\": 564, \"4\": 266, \"6\": 197, \"2\": 155, \"14\": 3, \"8\": 12, \"15\": 2, \"0\": 1}, \"5\": {\"5\": 957, \"10\": 186, \"1\": 53, \"13\": 4}, \"2\": {\"2\": 915, \"7\": 183, \"6\": 14, \"4\": 87, \"15\": 1}, \"15\": {\"12\": 210, \"15\": 630, \"11\": 205, \"8\": 118, \"3\": 24, \"7\": 9, \"2\": 2, \"6\": 1, \"4\": 1}, \"10\": {\"10\": 768, \"13\": 69, \"5\": 108, \"0\": 192, \"14\": 43, \"1\": 20}, \"13\": {\"13\": 786, \"14\": 189, \"10\": 59, \"0\": 17, \"1\": 138, \"6\": 9, \"5\": 1, \"4\": 1}, \"8\": {\"8\": 935, \"15\": 108, \"6\": 9, \"11\": 122, \"7\": 12, \"13\": 7, \"14\": 2, \"1\": 2, \"4\": 3}, \"4\": {\"4\": 410, \"7\": 271, \"2\": 90, \"6\": 409, \"14\": 13, \"8\": 2, \"0\": 4, \"13\": 1}, \"9\": {\"9\": 1200}, \"14\": {\"14\": 752, \"0\": 197, \"13\": 134, \"6\": 66, \"4\": 17, \"10\": 31, \"7\": 2, \"1\": 1}, \"0\": {\"0\": 744, \"14\": 208, \"10\": 213, \"6\": 12, \"13\": 15, \"4\": 7, \"5\": 1}, \"12\": {\"12\": 870, \"3\": 169, \"11\": 37, \"15\": 124}}, \"32\": {\"15\": {\"15\": 1195, \"8\": 4, \"5\": 1}, \"11\": {\"11\": 441, \"5\": 22, \"7\": 306, \"13\": 129, \"0\": 109, \"4\": 126, \"14\": 3, \"2\": 59, \"8\": 5}, \"10\": {\"10\": 1193, \"1\": 7}, \"14\": {\"14\": 987, \"2\": 145, \"5\": 40, \"11\": 5, \"0\": 21, \"4\": 1, \"9\": 1}, \"6\": {\"6\": 1200}, \"4\": {\"5\": 149, \"8\": 58, \"4\": 352, \"0\": 215, \"13\": 205, \"11\": 137, \"7\": 62, \"2\": 17, \"3\": 5}, \"13\": {\"4\": 201, \"7\": 163, \"8\": 76, \"13\": 538, \"5\": 27, \"0\": 66, \"11\": 108, \"3\": 20, \"2\": 1}, \"3\": {\"3\": 1138, \"8\": 19, \"13\": 38, \"0\": 1, \"15\": 1, \"4\": 2, \"7\": 1}, \"7\": {\"13\": 139, \"4\": 75, \"7\": 623, \"11\": 319, \"3\": 2, \"2\": 12, \"0\": 25, \"5\": 4, \"8\": 1}, \"8\": {\"8\": 877, \"5\": 98, \"4\": 53, \"13\": 87, \"3\": 20, \"0\": 51, \"15\": 10, \"7\": 2, \"11\": 2}, \"1\": {\"1\": 1193, \"10\": 7}, \"5\": {\"4\": 96, \"5\": 420, \"0\": 188, \"2\": 116, \"13\": 70, \"11\": 26, \"8\": 167, \"14\": 103, \"7\": 8, \"3\": 6}, \"0\": {\"5\": 206, \"0\": 481, \"11\": 135, \"7\": 24, \"4\": 163, \"2\": 66, \"13\": 65, \"8\": 52, \"14\": 8}, \"2\": {\"14\": 142, \"2\": 862, \"11\": 38, \"0\": 57, \"4\": 23, \"5\": 71, \"7\": 7}, \"12\": {\"12\": 1200}, \"9\": {\"9\": 1163, \"14\": 35, \"2\": 1, \"12\": 1}}, \"26\": {\"0\": {\"1\": 204, \"0\": 314, \"14\": 255, \"8\": 95, \"4\": 165, \"2\": 16, \"10\": 121, \"15\": 3, \"9\": 8, \"6\": 4, \"7\": 13, \"5\": 2}, \"4\": {\"4\": 532, \"2\": 121, \"15\": 65, \"0\": 153, \"14\": 61, \"10\": 21, \"3\": 72, \"8\": 70, \"7\": 90, \"1\": 11, \"9\": 3, \"6\": 1}, \"14\": {\"1\": 271, \"2\": 9, \"0\": 252, \"10\": 189, \"8\": 108, \"14\": 269, \"4\": 66, \"6\": 16, \"5\": 4, \"9\": 11, \"7\": 4, \"13\": 1}, \"12\": {\"12\": 1195, \"11\": 5}, \"8\": {\"6\": 43, \"8\": 393, \"9\": 158, \"7\": 108, \"2\": 77, \"14\": 95, \"4\": 76, \"10\": 84, \"0\": 93, \"15\": 6, \"13\": 10, \"1\": 18, \"5\": 38, \"3\": 1}, \"7\": {\"7\": 301, \"5\": 68, \"4\": 112, \"15\": 132, \"2\": 301, \"9\": 72, \"8\": 96, \"3\": 87, \"14\": 6, \"0\": 10, \"13\": 8, \"10\": 7}, \"13\": {\"6\": 75, \"13\": 709, \"5\": 258, \"9\": 135, \"8\": 9, \"2\": 6, \"7\": 6, \"10\": 1, \"15\": 1}, \"5\": {\"5\": 305, \"6\": 183, \"13\": 277, \"9\": 152, \"3\": 22, \"8\": 37, \"2\": 77, \"7\": 108, \"10\": 7, \"15\": 28, \"0\": 2, \"14\": 2}, \"15\": {\"2\": 155, \"15\": 389, \"3\": 431, \"7\": 120, \"4\": 77, \"5\": 10, \"0\": 1, \"8\": 9, \"9\": 6, \"13\": 1, \"10\": 1}, \"10\": {\"0\": 175, \"10\": 326, \"1\": 203, \"6\": 126, \"14\": 168, \"4\": 63, \"8\": 95, \"2\": 14, \"12\": 6, \"15\": 2, \"9\": 9, \"7\": 8, \"3\": 3, \"5\": 2}, \"3\": {\"4\": 70, \"3\": 490, \"15\": 394, \"7\": 81, \"2\": 155, \"8\": 3, \"5\": 2, \"0\": 4, \"9\": 1}, \"9\": {\"6\": 122, \"13\": 143, \"8\": 173, \"9\": 397, \"2\": 45, \"5\": 203, \"7\": 74, \"10\": 16, \"14\": 12, \"15\": 4, \"0\": 5, \"4\": 6}, \"6\": {\"6\": 771, \"10\": 68, \"9\": 102, \"13\": 86, \"1\": 7, \"8\": 50, \"5\": 96, \"0\": 4, \"14\": 15, \"7\": 1}, \"1\": {\"1\": 555, \"14\": 236, \"0\": 182, \"10\": 180, \"8\": 20, \"4\": 19, \"5\": 1, \"6\": 5, \"7\": 2}, \"11\": {\"11\": 1196, \"12\": 4}, \"2\": {\"7\": 302, \"15\": 145, \"3\": 127, \"8\": 85, \"2\": 310, \"4\": 115, \"9\": 48, \"5\": 39, \"0\": 12, \"10\": 6, \"13\": 3, \"14\": 8}}, \"44\": {\"1\": {\"1\": 695, \"12\": 321, \"3\": 162, \"7\": 10, \"10\": 7, \"2\": 5}, \"11\": {\"11\": 1050, \"6\": 134, \"7\": 13, \"9\": 3}, \"3\": {\"1\": 151, \"3\": 973, \"12\": 75, \"2\": 1}, \"6\": {\"6\": 1037, \"9\": 45, \"11\": 75, \"2\": 7, \"13\": 13, \"7\": 23}, \"7\": {\"7\": 617, \"9\": 286, \"6\": 16, \"2\": 269, \"3\": 1, \"1\": 9, \"11\": 2}, \"5\": {\"5\": 1050, \"14\": 126, \"15\": 2, \"8\": 18, \"0\": 4}, \"2\": {\"9\": 323, \"7\": 214, \"2\": 648, \"3\": 4, \"6\": 3, \"1\": 8}, \"15\": {\"15\": 1030, \"14\": 123, \"8\": 9, \"4\": 35, \"0\": 1, \"5\": 2}, \"10\": {\"10\": 1123, \"12\": 45, \"1\": 30, \"7\": 2}, \"13\": {\"13\": 1121, \"4\": 48, \"6\": 26, \"14\": 4, \"9\": 1}, \"8\": {\"8\": 675, \"0\": 503, \"5\": 12, \"15\": 7, \"14\": 3}, \"4\": {\"4\": 1034, \"15\": 51, \"13\": 33, \"14\": 82}, \"9\": {\"9\": 500, \"7\": 296, \"2\": 352, \"6\": 47, \"1\": 3, \"3\": 2}, \"14\": {\"4\": 86, \"14\": 846, \"5\": 110, \"15\": 155, \"8\": 2, \"0\": 1}, \"0\": {\"8\": 518, \"0\": 676, \"5\": 4, \"15\": 2}, \"12\": {\"1\": 333, \"12\": 773, \"3\": 84, \"10\": 10}}, \"20\": {\"15\": {\"1\": 114, \"13\": 247, \"12\": 103, \"15\": 351, \"2\": 134, \"9\": 129, \"5\": 60, \"0\": 42, \"3\": 17, \"7\": 1, \"4\": 2}, \"4\": {\"10\": 23, \"4\": 930, \"5\": 46, \"2\": 3, \"12\": 47, \"0\": 68, \"3\": 21, \"8\": 32, \"14\": 5, \"1\": 15, \"9\": 9, \"7\": 1}, \"6\": {\"6\": 1018, \"14\": 82, \"8\": 32, \"7\": 44, \"10\": 24}, \"2\": {\"3\": 196, \"2\": 325, \"15\": 134, \"9\": 197, \"0\": 14, \"13\": 67, \"12\": 59, \"1\": 16, \"5\": 156, \"7\": 25, \"8\": 3, \"4\": 7, \"10\": 1}, \"5\": {\"13\": 16, \"5\": 222, \"7\": 42, \"9\": 183, \"2\": 214, \"15\": 62, \"3\": 205, \"1\": 30, \"0\": 53, \"12\": 116, \"8\": 20, \"4\": 33, \"10\": 4}, \"9\": {\"1\": 30, \"13\": 64, \"15\": 151, \"12\": 108, \"5\": 147, \"3\": 134, \"9\": 238, \"2\": 263, \"7\": 16, \"4\": 16, \"0\": 30, \"10\": 1, \"8\": 2}, \"8\": {\"7\": 166, \"8\": 463, \"5\": 25, \"10\": 276, \"14\": 108, \"3\": 57, \"6\": 34, \"9\": 7, \"4\": 62, \"12\": 1, \"2\": 1}, \"12\": {\"2\": 58, \"5\": 94, \"12\": 299, \"1\": 203, \"9\": 112, \"3\": 28, \"4\": 50, \"0\": 223, \"15\": 117, \"13\": 15, \"8\": 1}, \"10\": {\"8\": 247, \"14\": 250, \"10\": 573, \"4\": 24, \"7\": 43, \"6\": 43, \"3\": 16, \"5\": 4}, \"1\": {\"0\": 244, \"1\": 496, \"5\": 18, \"13\": 26, \"12\": 205, \"15\": 137, \"2\": 19, \"4\": 20, \"9\": 35}, \"0\": {\"0\": 418, \"12\": 210, \"15\": 51, \"3\": 10, \"5\": 59, \"4\": 97, \"1\": 267, \"9\": 49, \"2\": 30, \"13\": 8, \"8\": 1}, \"3\": {\"8\": 46, \"2\": 168, \"3\": 359, \"7\": 205, \"5\": 178, \"9\": 123, \"12\": 37, \"0\": 12, \"15\": 25, \"11\": 1, \"4\": 26, \"10\": 11, \"1\": 5, \"13\": 4}, \"13\": {\"13\": 761, \"2\": 93, \"15\": 222, \"9\": 53, \"1\": 29, \"5\": 15, \"12\": 20, \"0\": 3, \"3\": 4}, \"11\": {\"11\": 1198, \"3\": 1, \"7\": 1}, \"7\": {\"3\": 136, \"7\": 771, \"5\": 34, \"8\": 134, \"10\": 36, \"6\": 34, \"2\": 28, \"14\": 8, \"9\": 10, \"15\": 1, \"11\": 6, \"13\": 2}, \"14\": {\"14\": 617, \"10\": 317, \"8\": 126, \"6\": 125, \"3\": 3, \"4\": 7, \"7\": 5}}, \"38\": {\"15\": {\"15\": 410, \"13\": 251, \"8\": 198, \"5\": 120, \"3\": 85, \"1\": 107, \"7\": 9, \"0\": 7, \"6\": 11, \"10\": 2}, \"11\": {\"11\": 989, \"14\": 84, \"12\": 120, \"2\": 6, \"4\": 1}, \"10\": {\"10\": 604, \"7\": 438, \"8\": 45, \"13\": 14, \"5\": 41, \"3\": 39, \"0\": 12, \"15\": 7}, \"14\": {\"2\": 254, \"11\": 113, \"14\": 597, \"12\": 197, \"7\": 10, \"4\": 3, \"10\": 5, \"13\": 8, \"5\": 11, \"8\": 2}, \"6\": {\"6\": 793, \"9\": 396, \"3\": 11}, \"4\": {\"4\": 1095, \"12\": 93, \"10\": 10, \"14\": 1, \"7\": 1}, \"13\": {\"15\": 276, \"13\": 192, \"3\": 102, \"5\": 219, \"1\": 93, \"7\": 51, \"10\": 25, \"8\": 195, \"6\": 13, \"0\": 9, \"14\": 10, \"2\": 11, \"9\": 3, \"12\": 1}, \"3\": {\"15\": 93, \"9\": 70, \"8\": 77, \"0\": 371, \"5\": 40, \"6\": 80, \"3\": 262, \"13\": 59, \"7\": 64, \"10\": 76, \"1\": 8}, \"7\": {\"7\": 532, \"10\": 382, \"8\": 107, \"0\": 4, \"13\": 24, \"5\": 117, \"3\": 24, \"12\": 1, \"15\": 9}, \"8\": {\"15\": 201, \"5\": 318, \"8\": 352, \"13\": 157, \"7\": 95, \"3\": 38, \"10\": 32, \"1\": 5, \"0\": 2}, \"1\": {\"1\": 1088, \"15\": 67, \"13\": 36, \"6\": 2, \"3\": 3, \"8\": 2, \"5\": 2}, \"5\": {\"5\": 413, \"10\": 48, \"8\": 279, \"13\": 175, \"15\": 125, \"7\": 118, \"3\": 33, \"1\": 7, \"0\": 2}, \"0\": {\"0\": 887, \"3\": 267, \"10\": 20, \"7\": 6, \"13\": 4, \"9\": 9, \"8\": 2, \"15\": 1, \"6\": 4}, \"2\": {\"2\": 1022, \"14\": 176, \"11\": 1, \"13\": 1}, \"12\": {\"12\": 1115, \"4\": 53, \"14\": 26, \"11\": 4, \"10\": 2}, \"9\": {\"9\": 756, \"6\": 427, \"0\": 3, \"3\": 14}}, \"14\": {\"0\": {\"0\": 1138, \"10\": 49, \"3\": 5, \"9\": 1, \"14\": 5, \"12\": 2}, \"12\": {\"11\": 335, \"9\": 94, \"12\": 604, \"0\": 76, \"10\": 54, \"8\": 37}, \"1\": {\"1\": 1008, \"5\": 132, \"4\": 57, \"7\": 1, \"2\": 1, \"3\": 1}, \"4\": {\"5\": 390, \"4\": 490, \"3\": 137, \"2\": 102, \"1\": 63, \"14\": 14, \"6\": 3, \"13\": 1}, \"5\": {\"4\": 360, \"2\": 86, \"1\": 145, \"3\": 71, \"5\": 526, \"14\": 11, \"13\": 1}, \"3\": {\"3\": 911, \"5\": 61, \"4\": 139, \"2\": 24, \"14\": 49, \"8\": 2, \"1\": 12, \"6\": 1, \"0\": 1}, \"7\": {\"7\": 1155, \"15\": 42, \"1\": 3}, \"15\": {\"15\": 1121, \"7\": 76, \"2\": 2, \"13\": 1}, \"13\": {\"2\": 75, \"13\": 803, \"6\": 296, \"14\": 21, \"4\": 2, \"5\": 3}, \"10\": {\"0\": 172, \"10\": 985, \"11\": 42, \"12\": 1}, \"14\": {\"6\": 211, \"14\": 722, \"13\": 20, \"3\": 81, \"2\": 113, \"4\": 30, \"5\": 10, \"0\": 12, \"10\": 1}, \"6\": {\"6\": 686, \"14\": 187, \"13\": 258, \"2\": 61, \"4\": 5, \"5\": 3}, \"9\": {\"9\": 1191, \"12\": 6, \"0\": 1, \"11\": 2}, \"2\": {\"4\": 116, \"2\": 479, \"3\": 63, \"14\": 187, \"6\": 60, \"13\": 117, \"5\": 154, \"1\": 13, \"15\": 10, \"0\": 1}, \"8\": {\"8\": 1197, \"3\": 2, \"1\": 1}, \"11\": {\"11\": 1131, \"9\": 15, \"12\": 34, \"10\": 18, \"0\": 2}}}, \"per_domain_accuracy\": {\"50\": {\"accuracy\": 0.7561979166666667, \"source?\": true}, \"8\": {\"accuracy\": 0.66203125, \"source?\": true}, \"32\": {\"accuracy\": 0.72203125, \"source?\": true}, \"26\": {\"accuracy\": 0.4402083333333333, \"source?\": false}, \"44\": {\"accuracy\": 0.72125, \"source?\": false}, \"20\": {\"accuracy\": 0.47078125, \"source?\": false}, \"38\": {\"accuracy\": 0.5784895833333333, \"source?\": false}, \"14\": {\"accuracy\": 0.7368229166666667, \"source?\": false}}}, \"history\": {\"epoch_indices\": [1, 2, 3, 4, 5, 6, 7, 8, 9, 10], \"train_label_loss\": [1.349449203527636, 0.8426954959699559, 0.7030940348252891, 0.620873375779816, 0.5521443282812833, 0.4895151827508022, 0.42903580897472915, 0.37639320910213486, 0.33095497369352317, 0.29208625807486], \"source_val_label_loss\": [1.0838217735290527, 0.821997880935669, 0.7955573201179504, 0.7779162526130676, 0.8038293123245239, 0.814378559589386, 0.8270849585533142, 0.8523517847061157, 0.9026633501052856, 0.9310070276260376], \"target_val_label_loss\": [1.3786360025405884, 1.2332087755203247, 1.2197476625442505, 1.2122403383255005, 1.2449228763580322, 1.2839716672897339, 1.2891584634780884, 1.3451992273330688, 1.411571741104126, 1.4545739889144897], \"source_val_acc_label\": [0.5810763888888889, 0.6810069444444444, 0.7001909722222223, 0.7044618055555556, 0.6965104166666667, 0.7134201388888889, 0.7081944444444445, 0.7081770833333333, 0.7025868055555555, 0.7022916666666666], \"target_val_acc_label\": [0.49553125, 0.5633958333333333, 0.5823645833333333, 0.58359375, 0.57503125, 0.5895104166666667, 0.5837083333333334, 0.5816458333333333, 0.57825, 0.5777604166666667]}, \"dataset_metrics\": {\"source\": {\"train\": {\"n_unique_x\": 336000, \"n_unique_y\": 16, \"n_batch/episode\": 12600}, \"val\": {\"n_unique_x\": 72000, \"n_unique_y\": 16, \"n_batch/episode\": 1800}, \"test\": {\"n_unique_x\": 72000, \"n_unique_y\": 16, \"n_batch/episode\": 1800}}, \"target\": {\"train\": {\"n_unique_x\": 560000, \"n_unique_y\": 16, \"n_batch/episode\": 21000}, \"val\": {\"n_unique_x\": 120000, \"n_unique_y\": 16, \"n_batch/episode\": 3000}, \"test\": {\"n_unique_x\": 120000, \"n_unique_y\": 16, \"n_batch/episode\": 3000}}}}'"
      ]
     },
     "execution_count": 20,
     "metadata": {},
     "output_type": "execute_result"
    }
   ],
   "source": [
    "json.dumps(experiment)"
   ]
  }
 ],
 "metadata": {
  "celltoolbar": "Tags",
  "kernelspec": {
   "display_name": "Python 3 (ipykernel)",
   "language": "python",
   "name": "python3"
  },
  "language_info": {
   "codemirror_mode": {
    "name": "ipython",
    "version": 3
   },
   "file_extension": ".py",
   "mimetype": "text/x-python",
   "name": "python",
   "nbconvert_exporter": "python",
   "pygments_lexer": "ipython3",
   "version": "3.8.10"
  },
  "papermill": {
   "default_parameters": {},
   "duration": 3927.304873,
   "end_time": "2022-03-21T18:25:09.354308",
   "environment_variables": {},
   "exception": null,
   "input_path": "/mnt/wd500GB/CSC500/csc500-main/csc500-notebooks/templates/ptn_template.ipynb",
   "output_path": "trial.ipynb",
   "parameters": {
    "parameters": {
     "BEST_MODEL_PATH": "./best_model.pth",
     "NUM_LOGS_PER_EPOCH": 10,
     "criteria_for_best": "target_accuracy",
     "dataset_seed": 7,
     "device": "cuda",
     "domains_source": [
      8,
      32,
      50
     ],
     "domains_target": [
      14,
      20,
      26,
      38,
      44
     ],
     "episode_transforms_source": [],
     "episode_transforms_target": [],
     "experiment_name": "tuned_1v2:oracle.run2",
     "labels_source": [
      "3123D52",
      "3123D65",
      "3123D79",
      "3123D80",
      "3123D54",
      "3123D70",
      "3123D7B",
      "3123D89",
      "3123D58",
      "3123D76",
      "3123D7D",
      "3123EFE",
      "3123D64",
      "3123D78",
      "3123D7E",
      "3124E4A"
     ],
     "labels_target": [
      "3123D52",
      "3123D65",
      "3123D79",
      "3123D80",
      "3123D54",
      "3123D70",
      "3123D7B",
      "3123D89",
      "3123D58",
      "3123D76",
      "3123D7D",
      "3123EFE",
      "3123D64",
      "3123D78",
      "3123D7E",
      "3124E4A"
     ],
     "lr": 0.0001,
     "n_epoch": 50,
     "n_query": 2,
     "n_shot": 3,
     "n_way": 16,
     "num_examples_per_domain_per_label_source": -1,
     "num_examples_per_domain_per_label_target": -1,
     "patience": 3,
     "pickle_name": "oracle.Run2_10kExamples_stratified_ds.2022A.pkl",
     "seed": 7,
     "test_k_factor": 2,
     "torch_default_dtype": "torch.float32",
     "train_k_factor": 3,
     "val_k_factor": 2,
     "x_net": [
      {
       "class": "nnReshape",
       "kargs": {
        "shape": [
         -1,
         1,
         2,
         256
        ]
       }
      },
      {
       "class": "Conv2d",
       "kargs": {
        "bias": false,
        "in_channels": 1,
        "kernel_size": [
         1,
         7
        ],
        "out_channels": 256,
        "padding": [
         0,
         3
        ]
       }
      },
      {
       "class": "ReLU",
       "kargs": {
        "inplace": true
       }
      },
      {
       "class": "BatchNorm2d",
       "kargs": {
        "num_features": 256
       }
      },
      {
       "class": "Conv2d",
       "kargs": {
        "bias": true,
        "in_channels": 256,
        "kernel_size": [
         2,
         7
        ],
        "out_channels": 80,
        "padding": [
         0,
         3
        ]
       }
      },
      {
       "class": "ReLU",
       "kargs": {
        "inplace": true
       }
      },
      {
       "class": "BatchNorm2d",
       "kargs": {
        "num_features": 80
       }
      },
      {
       "class": "Flatten",
       "kargs": {}
      },
      {
       "class": "Linear",
       "kargs": {
        "in_features": 20480,
        "out_features": 256
       }
      },
      {
       "class": "ReLU",
       "kargs": {
        "inplace": true
       }
      },
      {
       "class": "BatchNorm1d",
       "kargs": {
        "num_features": 256
       }
      },
      {
       "class": "Linear",
       "kargs": {
        "in_features": 256,
        "out_features": 256
       }
      }
     ],
     "x_transforms_source": [
      "unit_mag"
     ],
     "x_transforms_target": [
      "unit_mag"
     ]
    }
   },
   "start_time": "2022-03-21T17:19:42.049435",
   "version": "2.3.4"
  }
 },
 "nbformat": 4,
 "nbformat_minor": 5
}