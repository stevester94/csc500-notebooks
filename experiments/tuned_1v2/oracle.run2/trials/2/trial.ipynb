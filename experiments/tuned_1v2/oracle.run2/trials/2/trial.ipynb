{
 "cells": [
  {
   "cell_type": "markdown",
   "id": "9fea5f46",
   "metadata": {
    "papermill": {
     "duration": 0.012912,
     "end_time": "2022-03-21T06:53:54.378203",
     "exception": false,
     "start_time": "2022-03-21T06:53:54.365291",
     "status": "completed"
    },
    "tags": []
   },
   "source": [
    "# PTN Template\n",
    "This notebook serves as a template for single dataset PTN experiments  \n",
    "It can be run on its own by setting STANDALONE to True (do a find for \"STANDALONE\" to see where)  \n",
    "But it is intended to be executed as part of a *papermill.py script. See any of the   \n",
    "experimentes with a papermill script to get started with that workflow.  "
   ]
  },
  {
   "cell_type": "code",
   "execution_count": 1,
   "id": "0902182a",
   "metadata": {
    "execution": {
     "iopub.execute_input": "2022-03-21T06:53:54.407394Z",
     "iopub.status.busy": "2022-03-21T06:53:54.407103Z",
     "iopub.status.idle": "2022-03-21T06:53:55.326584Z",
     "shell.execute_reply": "2022-03-21T06:53:55.326294Z"
    },
    "papermill": {
     "duration": 0.938671,
     "end_time": "2022-03-21T06:53:55.326650",
     "exception": false,
     "start_time": "2022-03-21T06:53:54.387979",
     "status": "completed"
    },
    "tags": []
   },
   "outputs": [],
   "source": [
    "%load_ext autoreload\n",
    "%autoreload 2\n",
    "%matplotlib inline\n",
    "\n",
    "    \n",
    "import os, json, sys, time, random\n",
    "import numpy as np\n",
    "import torch\n",
    "from torch.optim import Adam\n",
    "from  easydict import EasyDict\n",
    "import matplotlib.pyplot as plt\n",
    "\n",
    "from steves_models.steves_ptn import Steves_Prototypical_Network\n",
    "\n",
    "from steves_utils.lazy_iterable_wrapper import Lazy_Iterable_Wrapper\n",
    "from steves_utils.iterable_aggregator import Iterable_Aggregator\n",
    "from steves_utils.ptn_train_eval_test_jig import  PTN_Train_Eval_Test_Jig\n",
    "from steves_utils.torch_sequential_builder import build_sequential\n",
    "from steves_utils.torch_utils import get_dataset_metrics, ptn_confusion_by_domain_over_dataloader\n",
    "from steves_utils.utils_v2 import (per_domain_accuracy_from_confusion, get_datasets_base_path)\n",
    "from steves_utils.PTN.utils import independent_accuracy_assesment\n",
    "\n",
    "from steves_utils.stratified_dataset.episodic_accessor import Episodic_Accessor_Factory\n",
    "\n",
    "from steves_utils.ptn_do_report import (\n",
    "    get_loss_curve,\n",
    "    get_results_table,\n",
    "    get_parameters_table,\n",
    "    get_domain_accuracies,\n",
    ")\n",
    "\n",
    "from steves_utils.transforms import get_chained_transform"
   ]
  },
  {
   "cell_type": "markdown",
   "id": "41c840b4",
   "metadata": {
    "papermill": {
     "duration": 0.009115,
     "end_time": "2022-03-21T06:53:55.347816",
     "exception": false,
     "start_time": "2022-03-21T06:53:55.338701",
     "status": "completed"
    },
    "tags": []
   },
   "source": [
    "# Required Parameters\n",
    "These are allowed parameters, not defaults\n",
    "Each of these values need to be present in the injected parameters (the notebook will raise an exception if they are not present)\n",
    "\n",
    "Papermill uses the cell tag \"parameters\" to inject the real parameters below this cell.\n",
    "Enable tags to see what I mean"
   ]
  },
  {
   "cell_type": "code",
   "execution_count": 2,
   "id": "fd44eb83",
   "metadata": {
    "execution": {
     "iopub.execute_input": "2022-03-21T06:53:55.369299Z",
     "iopub.status.busy": "2022-03-21T06:53:55.369042Z",
     "iopub.status.idle": "2022-03-21T06:53:55.382859Z",
     "shell.execute_reply": "2022-03-21T06:53:55.383225Z"
    },
    "papermill": {
     "duration": 0.026506,
     "end_time": "2022-03-21T06:53:55.383339",
     "exception": false,
     "start_time": "2022-03-21T06:53:55.356833",
     "status": "completed"
    },
    "tags": []
   },
   "outputs": [],
   "source": [
    "required_parameters = {\n",
    "    \"experiment_name\",\n",
    "    \"lr\",\n",
    "    \"device\",\n",
    "    \"seed\",\n",
    "    \"dataset_seed\",\n",
    "    \"labels_source\",\n",
    "    \"labels_target\",\n",
    "    \"domains_source\",\n",
    "    \"domains_target\",\n",
    "    \"num_examples_per_domain_per_label_source\",\n",
    "    \"num_examples_per_domain_per_label_target\",\n",
    "    \"n_shot\",\n",
    "    \"n_way\",\n",
    "    \"n_query\",\n",
    "    \"train_k_factor\",\n",
    "    \"val_k_factor\",\n",
    "    \"test_k_factor\",\n",
    "    \"n_epoch\",\n",
    "    \"patience\",\n",
    "    \"criteria_for_best\",\n",
    "    \"x_transforms_source\",\n",
    "    \"x_transforms_target\",\n",
    "    \"episode_transforms_source\",\n",
    "    \"episode_transforms_target\",\n",
    "    \"pickle_name\",\n",
    "    \"x_net\",\n",
    "    \"NUM_LOGS_PER_EPOCH\",\n",
    "    \"BEST_MODEL_PATH\",\n",
    "    \"torch_default_dtype\"\n",
    "}"
   ]
  },
  {
   "cell_type": "code",
   "execution_count": 3,
   "id": "fa3f0049",
   "metadata": {
    "execution": {
     "iopub.execute_input": "2022-03-21T06:53:55.417400Z",
     "iopub.status.busy": "2022-03-21T06:53:55.417122Z",
     "iopub.status.idle": "2022-03-21T06:53:55.429633Z",
     "shell.execute_reply": "2022-03-21T06:53:55.429248Z"
    },
    "papermill": {
     "duration": 0.032176,
     "end_time": "2022-03-21T06:53:55.429723",
     "exception": false,
     "start_time": "2022-03-21T06:53:55.397547",
     "status": "completed"
    },
    "tags": [
     "parameters"
    ]
   },
   "outputs": [],
   "source": [
    "\n",
    "\n",
    "standalone_parameters = {}\n",
    "standalone_parameters[\"experiment_name\"] = \"STANDALONE PTN\"\n",
    "standalone_parameters[\"lr\"] = 0.0001\n",
    "standalone_parameters[\"device\"] = \"cuda\"\n",
    "\n",
    "standalone_parameters[\"seed\"] = 1337\n",
    "standalone_parameters[\"dataset_seed\"] = 1337\n",
    "\n",
    "\n",
    "standalone_parameters[\"num_examples_per_domain_per_label_source\"]=100\n",
    "standalone_parameters[\"num_examples_per_domain_per_label_target\"]=100\n",
    "\n",
    "standalone_parameters[\"n_shot\"] = 3\n",
    "standalone_parameters[\"n_query\"]  = 2\n",
    "standalone_parameters[\"train_k_factor\"] = 1\n",
    "standalone_parameters[\"val_k_factor\"] = 2\n",
    "standalone_parameters[\"test_k_factor\"] = 2\n",
    "\n",
    "\n",
    "standalone_parameters[\"n_epoch\"] = 100\n",
    "\n",
    "standalone_parameters[\"patience\"] = 10\n",
    "standalone_parameters[\"criteria_for_best\"] = \"target_accuracy\"\n",
    "\n",
    "standalone_parameters[\"x_transforms_source\"] = [\"unit_power\"]\n",
    "standalone_parameters[\"x_transforms_target\"] = [\"unit_power\"]\n",
    "standalone_parameters[\"episode_transforms_source\"] = []\n",
    "standalone_parameters[\"episode_transforms_target\"] = []\n",
    "\n",
    "standalone_parameters[\"torch_default_dtype\"] = \"torch.float32\" \n",
    "\n",
    "\n",
    "\n",
    "standalone_parameters[\"x_net\"] =     [\n",
    "    {\"class\": \"nnReshape\", \"kargs\": {\"shape\":[-1, 1, 2, 256]}},\n",
    "    {\"class\": \"Conv2d\", \"kargs\": { \"in_channels\":1, \"out_channels\":256, \"kernel_size\":(1,7), \"bias\":False, \"padding\":(0,3), },},\n",
    "    {\"class\": \"ReLU\", \"kargs\": {\"inplace\": True}},\n",
    "    {\"class\": \"BatchNorm2d\", \"kargs\": {\"num_features\":256}},\n",
    "\n",
    "    {\"class\": \"Conv2d\", \"kargs\": { \"in_channels\":256, \"out_channels\":80, \"kernel_size\":(2,7), \"bias\":True, \"padding\":(0,3), },},\n",
    "    {\"class\": \"ReLU\", \"kargs\": {\"inplace\": True}},\n",
    "    {\"class\": \"BatchNorm2d\", \"kargs\": {\"num_features\":80}},\n",
    "    {\"class\": \"Flatten\", \"kargs\": {}},\n",
    "\n",
    "    {\"class\": \"Linear\", \"kargs\": {\"in_features\": 80*256, \"out_features\": 256}}, # 80 units per IQ pair\n",
    "    {\"class\": \"ReLU\", \"kargs\": {\"inplace\": True}},\n",
    "    {\"class\": \"BatchNorm1d\", \"kargs\": {\"num_features\":256}},\n",
    "\n",
    "    {\"class\": \"Linear\", \"kargs\": {\"in_features\": 256, \"out_features\": 256}},\n",
    "]\n",
    "\n",
    "# Parameters relevant to results\n",
    "# These parameters will basically never need to change\n",
    "standalone_parameters[\"NUM_LOGS_PER_EPOCH\"] = 10\n",
    "standalone_parameters[\"BEST_MODEL_PATH\"] = \"./best_model.pth\"\n",
    "\n",
    "# uncomment for CORES dataset\n",
    "from steves_utils.CORES.utils import (\n",
    "    ALL_NODES,\n",
    "    ALL_NODES_MINIMUM_1000_EXAMPLES,\n",
    "    ALL_DAYS\n",
    ")\n",
    "\n",
    "\n",
    "standalone_parameters[\"labels_source\"] = ALL_NODES\n",
    "standalone_parameters[\"labels_target\"] = ALL_NODES\n",
    "\n",
    "standalone_parameters[\"domains_source\"] = [1]\n",
    "standalone_parameters[\"domains_target\"] = [2,3,4,5]\n",
    "\n",
    "standalone_parameters[\"pickle_name\"] = \"cores.stratified_ds.2022A.pkl\"\n",
    "\n",
    "\n",
    "# Uncomment these for ORACLE dataset\n",
    "# from steves_utils.ORACLE.utils_v2 import (\n",
    "#     ALL_DISTANCES_FEET,\n",
    "#     ALL_RUNS,\n",
    "#     ALL_SERIAL_NUMBERS,\n",
    "# )\n",
    "# standalone_parameters[\"labels_source\"] = ALL_SERIAL_NUMBERS\n",
    "# standalone_parameters[\"labels_target\"] = ALL_SERIAL_NUMBERS\n",
    "# standalone_parameters[\"domains_source\"] = [8,20, 38,50]\n",
    "# standalone_parameters[\"domains_target\"] = [14, 26, 32, 44, 56]\n",
    "# standalone_parameters[\"pickle_name\"] = \"oracle.frame_indexed.stratified_ds.2022A.pkl\"\n",
    "# standalone_parameters[\"num_examples_per_domain_per_label_source\"]=1000\n",
    "# standalone_parameters[\"num_examples_per_domain_per_label_target\"]=1000\n",
    "\n",
    "# Uncomment these for Metahan dataset\n",
    "# standalone_parameters[\"labels_source\"] = list(range(19))\n",
    "# standalone_parameters[\"labels_target\"] = list(range(19))\n",
    "# standalone_parameters[\"domains_source\"] = [0]\n",
    "# standalone_parameters[\"domains_target\"] = [1]\n",
    "# standalone_parameters[\"pickle_name\"] = \"metehan.stratified_ds.2022A.pkl\"\n",
    "# standalone_parameters[\"n_way\"]  = len(standalone_parameters[\"labels_source\"])\n",
    "# standalone_parameters[\"num_examples_per_domain_per_label_source\"]=200\n",
    "# standalone_parameters[\"num_examples_per_domain_per_label_target\"]=100\n",
    "\n",
    "\n",
    "standalone_parameters[\"n_way\"]  = len(standalone_parameters[\"labels_source\"])"
   ]
  },
  {
   "cell_type": "code",
   "execution_count": 4,
   "id": "9dd3b6c3",
   "metadata": {
    "execution": {
     "iopub.execute_input": "2022-03-21T06:53:55.461562Z",
     "iopub.status.busy": "2022-03-21T06:53:55.460771Z",
     "iopub.status.idle": "2022-03-21T06:53:55.473984Z",
     "shell.execute_reply": "2022-03-21T06:53:55.473577Z"
    },
    "papermill": {
     "duration": 0.030645,
     "end_time": "2022-03-21T06:53:55.474087",
     "exception": false,
     "start_time": "2022-03-21T06:53:55.443442",
     "status": "completed"
    },
    "tags": [
     "injected-parameters"
    ]
   },
   "outputs": [],
   "source": [
    "# Parameters\n",
    "parameters = {\n",
    "    \"experiment_name\": \"tuned_1v2:oracle.run2\",\n",
    "    \"device\": \"cuda\",\n",
    "    \"lr\": 0.0001,\n",
    "    \"labels_source\": [\n",
    "        \"3123D52\",\n",
    "        \"3123D65\",\n",
    "        \"3123D79\",\n",
    "        \"3123D80\",\n",
    "        \"3123D54\",\n",
    "        \"3123D70\",\n",
    "        \"3123D7B\",\n",
    "        \"3123D89\",\n",
    "        \"3123D58\",\n",
    "        \"3123D76\",\n",
    "        \"3123D7D\",\n",
    "        \"3123EFE\",\n",
    "        \"3123D64\",\n",
    "        \"3123D78\",\n",
    "        \"3123D7E\",\n",
    "        \"3124E4A\",\n",
    "    ],\n",
    "    \"labels_target\": [\n",
    "        \"3123D52\",\n",
    "        \"3123D65\",\n",
    "        \"3123D79\",\n",
    "        \"3123D80\",\n",
    "        \"3123D54\",\n",
    "        \"3123D70\",\n",
    "        \"3123D7B\",\n",
    "        \"3123D89\",\n",
    "        \"3123D58\",\n",
    "        \"3123D76\",\n",
    "        \"3123D7D\",\n",
    "        \"3123EFE\",\n",
    "        \"3123D64\",\n",
    "        \"3123D78\",\n",
    "        \"3123D7E\",\n",
    "        \"3124E4A\",\n",
    "    ],\n",
    "    \"episode_transforms_source\": [],\n",
    "    \"episode_transforms_target\": [],\n",
    "    \"domains_source\": [8, 32, 50],\n",
    "    \"domains_target\": [14, 20, 26, 38, 44],\n",
    "    \"num_examples_per_domain_per_label_source\": -1,\n",
    "    \"num_examples_per_domain_per_label_target\": -1,\n",
    "    \"n_shot\": 3,\n",
    "    \"n_way\": 16,\n",
    "    \"n_query\": 2,\n",
    "    \"train_k_factor\": 3,\n",
    "    \"val_k_factor\": 2,\n",
    "    \"test_k_factor\": 2,\n",
    "    \"torch_default_dtype\": \"torch.float32\",\n",
    "    \"n_epoch\": 50,\n",
    "    \"patience\": 3,\n",
    "    \"criteria_for_best\": \"target_accuracy\",\n",
    "    \"x_net\": [\n",
    "        {\"class\": \"nnReshape\", \"kargs\": {\"shape\": [-1, 1, 2, 256]}},\n",
    "        {\n",
    "            \"class\": \"Conv2d\",\n",
    "            \"kargs\": {\n",
    "                \"in_channels\": 1,\n",
    "                \"out_channels\": 256,\n",
    "                \"kernel_size\": [1, 7],\n",
    "                \"bias\": False,\n",
    "                \"padding\": [0, 3],\n",
    "            },\n",
    "        },\n",
    "        {\"class\": \"ReLU\", \"kargs\": {\"inplace\": True}},\n",
    "        {\"class\": \"BatchNorm2d\", \"kargs\": {\"num_features\": 256}},\n",
    "        {\n",
    "            \"class\": \"Conv2d\",\n",
    "            \"kargs\": {\n",
    "                \"in_channels\": 256,\n",
    "                \"out_channels\": 80,\n",
    "                \"kernel_size\": [2, 7],\n",
    "                \"bias\": True,\n",
    "                \"padding\": [0, 3],\n",
    "            },\n",
    "        },\n",
    "        {\"class\": \"ReLU\", \"kargs\": {\"inplace\": True}},\n",
    "        {\"class\": \"BatchNorm2d\", \"kargs\": {\"num_features\": 80}},\n",
    "        {\"class\": \"Flatten\", \"kargs\": {}},\n",
    "        {\"class\": \"Linear\", \"kargs\": {\"in_features\": 20480, \"out_features\": 256}},\n",
    "        {\"class\": \"ReLU\", \"kargs\": {\"inplace\": True}},\n",
    "        {\"class\": \"BatchNorm1d\", \"kargs\": {\"num_features\": 256}},\n",
    "        {\"class\": \"Linear\", \"kargs\": {\"in_features\": 256, \"out_features\": 256}},\n",
    "    ],\n",
    "    \"NUM_LOGS_PER_EPOCH\": 10,\n",
    "    \"BEST_MODEL_PATH\": \"./best_model.pth\",\n",
    "    \"pickle_name\": \"oracle.Run2_10kExamples_stratified_ds.2022A.pkl\",\n",
    "    \"x_transforms_source\": [\"unit_mag\"],\n",
    "    \"x_transforms_target\": [\"unit_mag\"],\n",
    "    \"dataset_seed\": 1337,\n",
    "    \"seed\": 1337,\n",
    "}\n"
   ]
  },
  {
   "cell_type": "code",
   "execution_count": 5,
   "id": "8fa1cc33",
   "metadata": {
    "execution": {
     "iopub.execute_input": "2022-03-21T06:53:55.500717Z",
     "iopub.status.busy": "2022-03-21T06:53:55.500473Z",
     "iopub.status.idle": "2022-03-21T06:53:55.514023Z",
     "shell.execute_reply": "2022-03-21T06:53:55.514311Z"
    },
    "papermill": {
     "duration": 0.026694,
     "end_time": "2022-03-21T06:53:55.514391",
     "exception": false,
     "start_time": "2022-03-21T06:53:55.487697",
     "status": "completed"
    },
    "tags": []
   },
   "outputs": [],
   "source": [
    "# Set this to True if you want to run this template directly\n",
    "STANDALONE = False\n",
    "if STANDALONE:\n",
    "    print(\"parameters not injected, running with standalone_parameters\")\n",
    "    parameters = standalone_parameters\n",
    "\n",
    "if not 'parameters' in locals() and not 'parameters' in globals():\n",
    "    raise Exception(\"Parameter injection failed\")\n",
    "\n",
    "#Use an easy dict for all the parameters\n",
    "p = EasyDict(parameters)\n",
    "\n",
    "supplied_keys = set(p.keys())\n",
    "\n",
    "if  supplied_keys != required_parameters:\n",
    "    print(\"Parameters are incorrect\")\n",
    "    if len(supplied_keys - required_parameters)>0: print(\"Shouldn't have:\", str(supplied_keys - required_parameters))\n",
    "    if len(required_parameters - supplied_keys)>0: print(\"Need to have:\", str(required_parameters - supplied_keys))\n",
    "    raise RuntimeError(\"Parameters are incorrect\")\n",
    "\n"
   ]
  },
  {
   "cell_type": "code",
   "execution_count": 6,
   "id": "3a028d58",
   "metadata": {
    "execution": {
     "iopub.execute_input": "2022-03-21T06:53:55.539292Z",
     "iopub.status.busy": "2022-03-21T06:53:55.539038Z",
     "iopub.status.idle": "2022-03-21T06:53:55.553433Z",
     "shell.execute_reply": "2022-03-21T06:53:55.553089Z"
    },
    "papermill": {
     "duration": 0.025722,
     "end_time": "2022-03-21T06:53:55.553502",
     "exception": false,
     "start_time": "2022-03-21T06:53:55.527780",
     "status": "completed"
    },
    "tags": []
   },
   "outputs": [],
   "source": [
    "###################################\n",
    "# Set the RNGs and make it all deterministic\n",
    "###################################\n",
    "np.random.seed(p.seed)\n",
    "random.seed(p.seed)\n",
    "torch.manual_seed(p.seed)\n",
    "\n",
    "torch.use_deterministic_algorithms(True) "
   ]
  },
  {
   "cell_type": "code",
   "execution_count": 7,
   "id": "b691acf6",
   "metadata": {
    "execution": {
     "iopub.execute_input": "2022-03-21T06:53:55.578897Z",
     "iopub.status.busy": "2022-03-21T06:53:55.578655Z",
     "iopub.status.idle": "2022-03-21T06:53:55.592697Z",
     "shell.execute_reply": "2022-03-21T06:53:55.592258Z"
    },
    "papermill": {
     "duration": 0.025635,
     "end_time": "2022-03-21T06:53:55.592784",
     "exception": false,
     "start_time": "2022-03-21T06:53:55.567149",
     "status": "completed"
    },
    "tags": []
   },
   "outputs": [],
   "source": [
    "###########################################\n",
    "# The stratified datasets honor this\n",
    "###########################################\n",
    "torch.set_default_dtype(eval(p.torch_default_dtype))"
   ]
  },
  {
   "cell_type": "code",
   "execution_count": 8,
   "id": "b5fba671",
   "metadata": {
    "execution": {
     "iopub.execute_input": "2022-03-21T06:53:55.618931Z",
     "iopub.status.busy": "2022-03-21T06:53:55.618691Z",
     "iopub.status.idle": "2022-03-21T06:53:55.659034Z",
     "shell.execute_reply": "2022-03-21T06:53:55.658602Z"
    },
    "papermill": {
     "duration": 0.052156,
     "end_time": "2022-03-21T06:53:55.659120",
     "exception": false,
     "start_time": "2022-03-21T06:53:55.606964",
     "status": "completed"
    },
    "tags": []
   },
   "outputs": [],
   "source": [
    "###################################\n",
    "# Build the network(s)\n",
    "# Note: It's critical to do this AFTER setting the RNG\n",
    "# (This is due to the randomized initial weights)\n",
    "###################################\n",
    "x_net = build_sequential(p.x_net)"
   ]
  },
  {
   "cell_type": "code",
   "execution_count": 9,
   "id": "5d7e61cc",
   "metadata": {
    "execution": {
     "iopub.execute_input": "2022-03-21T06:53:55.686782Z",
     "iopub.status.busy": "2022-03-21T06:53:55.686541Z",
     "iopub.status.idle": "2022-03-21T06:53:55.703350Z",
     "shell.execute_reply": "2022-03-21T06:53:55.702956Z"
    },
    "papermill": {
     "duration": 0.028675,
     "end_time": "2022-03-21T06:53:55.703438",
     "exception": false,
     "start_time": "2022-03-21T06:53:55.674763",
     "status": "completed"
    },
    "tags": []
   },
   "outputs": [],
   "source": [
    "start_time_secs = time.time()"
   ]
  },
  {
   "cell_type": "code",
   "execution_count": 10,
   "id": "fd5442bc",
   "metadata": {
    "execution": {
     "iopub.execute_input": "2022-03-21T06:53:55.735209Z",
     "iopub.status.busy": "2022-03-21T06:53:55.734921Z",
     "iopub.status.idle": "2022-03-21T06:55:15.235960Z",
     "shell.execute_reply": "2022-03-21T06:55:15.235555Z"
    },
    "papermill": {
     "duration": 79.519068,
     "end_time": "2022-03-21T06:55:15.236063",
     "exception": false,
     "start_time": "2022-03-21T06:53:55.716995",
     "status": "completed"
    },
    "tags": []
   },
   "outputs": [],
   "source": [
    "###################################\n",
    "# Build the dataset\n",
    "###################################\n",
    "\n",
    "if p.x_transforms_source == []: x_transform_source = None\n",
    "else: x_transform_source = get_chained_transform(p.x_transforms_source) \n",
    "\n",
    "if p.x_transforms_target == []: x_transform_target = None\n",
    "else: x_transform_target = get_chained_transform(p.x_transforms_target)\n",
    "\n",
    "if p.episode_transforms_source == []: episode_transform_source = None\n",
    "else: raise Exception(\"episode_transform_source not implemented\")\n",
    "\n",
    "if p.episode_transforms_target == []: episode_transform_target = None\n",
    "else: raise Exception(\"episode_transform_target not implemented\")\n",
    "\n",
    "\n",
    "eaf_source = Episodic_Accessor_Factory(\n",
    "    labels=p.labels_source,\n",
    "    domains=p.domains_source,\n",
    "    num_examples_per_domain_per_label=p.num_examples_per_domain_per_label_source,\n",
    "    iterator_seed=p.seed,\n",
    "    dataset_seed=p.dataset_seed,\n",
    "    n_shot=p.n_shot,\n",
    "    n_way=p.n_way,\n",
    "    n_query=p.n_query,\n",
    "    train_val_test_k_factors=(p.train_k_factor,p.val_k_factor,p.test_k_factor),\n",
    "    pickle_path=os.path.join(get_datasets_base_path(), p.pickle_name),\n",
    "    x_transform_func=x_transform_source,\n",
    "    example_transform_func=episode_transform_source,\n",
    "    \n",
    ")\n",
    "train_original_source, val_original_source, test_original_source = eaf_source.get_train(), eaf_source.get_val(), eaf_source.get_test()\n",
    "\n",
    "\n",
    "eaf_target = Episodic_Accessor_Factory(\n",
    "    labels=p.labels_target,\n",
    "    domains=p.domains_target,\n",
    "    num_examples_per_domain_per_label=p.num_examples_per_domain_per_label_target,\n",
    "    iterator_seed=p.seed,\n",
    "    dataset_seed=p.dataset_seed,\n",
    "    n_shot=p.n_shot,\n",
    "    n_way=p.n_way,\n",
    "    n_query=p.n_query,\n",
    "    train_val_test_k_factors=(p.train_k_factor,p.val_k_factor,p.test_k_factor),\n",
    "    pickle_path=os.path.join(get_datasets_base_path(), p.pickle_name),\n",
    "    x_transform_func=x_transform_target,\n",
    "    example_transform_func=episode_transform_target,\n",
    ")\n",
    "train_original_target, val_original_target, test_original_target = eaf_target.get_train(), eaf_target.get_val(), eaf_target.get_test()\n",
    "\n",
    "\n",
    "transform_lambda = lambda ex: ex[1] # Original is (<domain>, <episode>) so we strip down to episode only\n",
    "\n",
    "train_processed_source = Lazy_Iterable_Wrapper(train_original_source, transform_lambda)\n",
    "val_processed_source   = Lazy_Iterable_Wrapper(val_original_source, transform_lambda)\n",
    "test_processed_source  = Lazy_Iterable_Wrapper(test_original_source, transform_lambda)\n",
    "\n",
    "train_processed_target = Lazy_Iterable_Wrapper(train_original_target, transform_lambda)\n",
    "val_processed_target   = Lazy_Iterable_Wrapper(val_original_target, transform_lambda)\n",
    "test_processed_target  = Lazy_Iterable_Wrapper(test_original_target, transform_lambda)\n",
    "\n",
    "datasets = EasyDict({\n",
    "    \"source\": {\n",
    "        \"original\": {\"train\":train_original_source, \"val\":val_original_source, \"test\":test_original_source},\n",
    "        \"processed\": {\"train\":train_processed_source, \"val\":val_processed_source, \"test\":test_processed_source}\n",
    "    },\n",
    "    \"target\": {\n",
    "        \"original\": {\"train\":train_original_target, \"val\":val_original_target, \"test\":test_original_target},\n",
    "        \"processed\": {\"train\":train_processed_target, \"val\":val_processed_target, \"test\":test_processed_target}\n",
    "    },\n",
    "})"
   ]
  },
  {
   "cell_type": "code",
   "execution_count": 11,
   "id": "296189d9",
   "metadata": {
    "execution": {
     "iopub.execute_input": "2022-03-21T06:55:15.264115Z",
     "iopub.status.busy": "2022-03-21T06:55:15.263866Z",
     "iopub.status.idle": "2022-03-21T06:55:17.246777Z",
     "shell.execute_reply": "2022-03-21T06:55:17.246460Z"
    },
    "papermill": {
     "duration": 1.997067,
     "end_time": "2022-03-21T06:55:17.246852",
     "exception": false,
     "start_time": "2022-03-21T06:55:15.249785",
     "status": "completed"
    },
    "tags": []
   },
   "outputs": [
    {
     "name": "stdout",
     "output_type": "stream",
     "text": [
      "Visually inspect these to see if they line up with expected values given the transforms\n",
      "x_transforms_source ['unit_mag']\n",
      "x_transforms_target ['unit_mag']\n",
      "Average magnitude, source: 1.0\n",
      "Average power, source: 1.2536592\n"
     ]
    },
    {
     "name": "stdout",
     "output_type": "stream",
     "text": [
      "Average magnitude, target: 1.0\n",
      "Average power, target: 1.2014396\n"
     ]
    }
   ],
   "source": [
    "# Some quick unit tests on the data\n",
    "from steves_utils.transforms import get_average_power, get_average_magnitude\n",
    "\n",
    "q_x, q_y, s_x, s_y, truth = next(iter(train_processed_source))\n",
    "\n",
    "assert q_x.dtype == eval(p.torch_default_dtype)\n",
    "assert s_x.dtype == eval(p.torch_default_dtype)\n",
    "\n",
    "print(\"Visually inspect these to see if they line up with expected values given the transforms\")\n",
    "print('x_transforms_source', p.x_transforms_source)\n",
    "print('x_transforms_target', p.x_transforms_target)\n",
    "print(\"Average magnitude, source:\", get_average_magnitude(q_x[0].numpy()))\n",
    "print(\"Average power, source:\", get_average_power(q_x[0].numpy()))\n",
    "\n",
    "q_x, q_y, s_x, s_y, truth = next(iter(train_processed_target))\n",
    "print(\"Average magnitude, target:\", get_average_magnitude(q_x[0].numpy()))\n",
    "print(\"Average power, target:\", get_average_power(q_x[0].numpy()))\n"
   ]
  },
  {
   "cell_type": "code",
   "execution_count": 12,
   "id": "bbdacba1",
   "metadata": {
    "execution": {
     "iopub.execute_input": "2022-03-21T06:55:17.274136Z",
     "iopub.status.busy": "2022-03-21T06:55:17.273871Z",
     "iopub.status.idle": "2022-03-21T06:55:17.341003Z",
     "shell.execute_reply": "2022-03-21T06:55:17.340553Z"
    },
    "papermill": {
     "duration": 0.080701,
     "end_time": "2022-03-21T06:55:17.341097",
     "exception": false,
     "start_time": "2022-03-21T06:55:17.260396",
     "status": "completed"
    },
    "tags": []
   },
   "outputs": [
    {
     "name": "stdout",
     "output_type": "stream",
     "text": [
      "(2, 256)\n"
     ]
    }
   ],
   "source": [
    "###################################\n",
    "# Build the model\n",
    "###################################\n",
    "model = Steves_Prototypical_Network(x_net, device=p.device, x_shape=(2,256))\n",
    "optimizer = Adam(params=model.parameters(), lr=p.lr)"
   ]
  },
  {
   "cell_type": "code",
   "execution_count": 13,
   "id": "22b39ac5",
   "metadata": {
    "execution": {
     "iopub.execute_input": "2022-03-21T06:55:17.370122Z",
     "iopub.status.busy": "2022-03-21T06:55:17.369739Z",
     "iopub.status.idle": "2022-03-21T08:19:26.898691Z",
     "shell.execute_reply": "2022-03-21T08:19:26.898456Z"
    },
    "papermill": {
     "duration": 5049.542344,
     "end_time": "2022-03-21T08:19:26.898750",
     "exception": false,
     "start_time": "2022-03-21T06:55:17.356406",
     "status": "completed"
    },
    "tags": []
   },
   "outputs": [
    {
     "name": "stdout",
     "output_type": "stream",
     "text": [
      "epoch: 1, [batch: 1 / 12600], examples_per_second: 26.3498, train_label_loss: 2.7876, \n"
     ]
    },
    {
     "name": "stdout",
     "output_type": "stream",
     "text": [
      "epoch: 1, [batch: 1260 / 12600], examples_per_second: 3135.0294, train_label_loss: 1.9081, \n"
     ]
    },
    {
     "name": "stdout",
     "output_type": "stream",
     "text": [
      "epoch: 1, [batch: 2520 / 12600], examples_per_second: 3142.2463, train_label_loss: 1.2683, \n"
     ]
    },
    {
     "name": "stdout",
     "output_type": "stream",
     "text": [
      "epoch: 1, [batch: 3780 / 12600], examples_per_second: 3122.8989, train_label_loss: 1.4973, \n"
     ]
    },
    {
     "name": "stdout",
     "output_type": "stream",
     "text": [
      "epoch: 1, [batch: 5040 / 12600], examples_per_second: 3100.7484, train_label_loss: 1.1225, \n"
     ]
    },
    {
     "name": "stdout",
     "output_type": "stream",
     "text": [
      "epoch: 1, [batch: 6300 / 12600], examples_per_second: 3107.2860, train_label_loss: 1.4405, \n"
     ]
    },
    {
     "name": "stdout",
     "output_type": "stream",
     "text": [
      "epoch: 1, [batch: 7560 / 12600], examples_per_second: 3118.4618, train_label_loss: 1.3946, \n"
     ]
    },
    {
     "name": "stdout",
     "output_type": "stream",
     "text": [
      "epoch: 1, [batch: 8820 / 12600], examples_per_second: 3116.6936, train_label_loss: 1.1030, \n"
     ]
    },
    {
     "name": "stdout",
     "output_type": "stream",
     "text": [
      "epoch: 1, [batch: 10080 / 12600], examples_per_second: 3119.4995, train_label_loss: 0.8237, \n"
     ]
    },
    {
     "name": "stdout",
     "output_type": "stream",
     "text": [
      "epoch: 1, [batch: 11340 / 12600], examples_per_second: 3108.2248, train_label_loss: 1.0144, \n"
     ]
    },
    {
     "name": "stdout",
     "output_type": "stream",
     "text": [
      "=============================================================\n",
      "epoch: 1, source_val_acc_label: 0.6131, target_val_acc_label: 0.5042, source_val_label_loss: 1.0218, target_val_label_loss: 1.4505, \n",
      "=============================================================\n"
     ]
    },
    {
     "name": "stdout",
     "output_type": "stream",
     "text": [
      "New best\n"
     ]
    },
    {
     "name": "stdout",
     "output_type": "stream",
     "text": [
      "epoch: 2, [batch: 1 / 12600], examples_per_second: 2.2232, train_label_loss: 1.1165, \n"
     ]
    },
    {
     "name": "stdout",
     "output_type": "stream",
     "text": [
      "epoch: 2, [batch: 1260 / 12600], examples_per_second: 3125.8137, train_label_loss: 0.5884, \n"
     ]
    },
    {
     "name": "stdout",
     "output_type": "stream",
     "text": [
      "epoch: 2, [batch: 2520 / 12600], examples_per_second: 3141.9542, train_label_loss: 0.5885, \n"
     ]
    },
    {
     "name": "stdout",
     "output_type": "stream",
     "text": [
      "epoch: 2, [batch: 3780 / 12600], examples_per_second: 3145.4461, train_label_loss: 1.0140, \n"
     ]
    },
    {
     "name": "stdout",
     "output_type": "stream",
     "text": [
      "epoch: 2, [batch: 5040 / 12600], examples_per_second: 3131.5888, train_label_loss: 0.9867, \n"
     ]
    },
    {
     "name": "stdout",
     "output_type": "stream",
     "text": [
      "epoch: 2, [batch: 6300 / 12600], examples_per_second: 3136.3786, train_label_loss: 0.9951, \n"
     ]
    },
    {
     "name": "stdout",
     "output_type": "stream",
     "text": [
      "epoch: 2, [batch: 7560 / 12600], examples_per_second: 3144.9036, train_label_loss: 0.8078, \n"
     ]
    },
    {
     "name": "stdout",
     "output_type": "stream",
     "text": [
      "epoch: 2, [batch: 8820 / 12600], examples_per_second: 3131.5397, train_label_loss: 0.9256, \n"
     ]
    },
    {
     "name": "stdout",
     "output_type": "stream",
     "text": [
      "epoch: 2, [batch: 10080 / 12600], examples_per_second: 3150.3161, train_label_loss: 0.6341, \n"
     ]
    },
    {
     "name": "stdout",
     "output_type": "stream",
     "text": [
      "epoch: 2, [batch: 11340 / 12600], examples_per_second: 3155.1192, train_label_loss: 0.4724, \n"
     ]
    },
    {
     "name": "stdout",
     "output_type": "stream",
     "text": [
      "=============================================================\n",
      "epoch: 2, source_val_acc_label: 0.6731, target_val_acc_label: 0.5596, source_val_label_loss: 0.8292, target_val_label_loss: 1.2207, \n",
      "=============================================================\n"
     ]
    },
    {
     "name": "stdout",
     "output_type": "stream",
     "text": [
      "New best\n"
     ]
    },
    {
     "name": "stdout",
     "output_type": "stream",
     "text": [
      "epoch: 3, [batch: 1 / 12600], examples_per_second: 2.2278, train_label_loss: 0.6678, \n"
     ]
    },
    {
     "name": "stdout",
     "output_type": "stream",
     "text": [
      "epoch: 3, [batch: 1260 / 12600], examples_per_second: 3130.0610, train_label_loss: 0.9971, \n"
     ]
    },
    {
     "name": "stdout",
     "output_type": "stream",
     "text": [
      "epoch: 3, [batch: 2520 / 12600], examples_per_second: 3138.4061, train_label_loss: 0.7352, \n"
     ]
    },
    {
     "name": "stdout",
     "output_type": "stream",
     "text": [
      "epoch: 3, [batch: 3780 / 12600], examples_per_second: 3143.9161, train_label_loss: 0.9246, \n"
     ]
    },
    {
     "name": "stdout",
     "output_type": "stream",
     "text": [
      "epoch: 3, [batch: 5040 / 12600], examples_per_second: 3139.7399, train_label_loss: 0.6155, \n"
     ]
    },
    {
     "name": "stdout",
     "output_type": "stream",
     "text": [
      "epoch: 3, [batch: 6300 / 12600], examples_per_second: 3153.6434, train_label_loss: 0.7160, \n"
     ]
    },
    {
     "name": "stdout",
     "output_type": "stream",
     "text": [
      "epoch: 3, [batch: 7560 / 12600], examples_per_second: 3158.9774, train_label_loss: 0.8693, \n"
     ]
    },
    {
     "name": "stdout",
     "output_type": "stream",
     "text": [
      "epoch: 3, [batch: 8820 / 12600], examples_per_second: 3138.5405, train_label_loss: 0.7436, \n"
     ]
    },
    {
     "name": "stdout",
     "output_type": "stream",
     "text": [
      "epoch: 3, [batch: 10080 / 12600], examples_per_second: 3140.6721, train_label_loss: 0.6679, \n"
     ]
    },
    {
     "name": "stdout",
     "output_type": "stream",
     "text": [
      "epoch: 3, [batch: 11340 / 12600], examples_per_second: 3145.0766, train_label_loss: 0.9107, \n"
     ]
    },
    {
     "name": "stdout",
     "output_type": "stream",
     "text": [
      "=============================================================\n",
      "epoch: 3, source_val_acc_label: 0.7009, target_val_acc_label: 0.5771, source_val_label_loss: 0.8082, target_val_label_loss: 1.2502, \n",
      "=============================================================\n"
     ]
    },
    {
     "name": "stdout",
     "output_type": "stream",
     "text": [
      "New best\n"
     ]
    },
    {
     "name": "stdout",
     "output_type": "stream",
     "text": [
      "epoch: 4, [batch: 1 / 12600], examples_per_second: 2.2242, train_label_loss: 0.3512, \n"
     ]
    },
    {
     "name": "stdout",
     "output_type": "stream",
     "text": [
      "epoch: 4, [batch: 1260 / 12600], examples_per_second: 3133.6557, train_label_loss: 0.6743, \n"
     ]
    },
    {
     "name": "stdout",
     "output_type": "stream",
     "text": [
      "epoch: 4, [batch: 2520 / 12600], examples_per_second: 3141.2709, train_label_loss: 0.6628, \n"
     ]
    },
    {
     "name": "stdout",
     "output_type": "stream",
     "text": [
      "epoch: 4, [batch: 3780 / 12600], examples_per_second: 3142.4203, train_label_loss: 0.5970, \n"
     ]
    },
    {
     "name": "stdout",
     "output_type": "stream",
     "text": [
      "epoch: 4, [batch: 5040 / 12600], examples_per_second: 3129.0080, train_label_loss: 0.6294, \n"
     ]
    },
    {
     "name": "stdout",
     "output_type": "stream",
     "text": [
      "epoch: 4, [batch: 6300 / 12600], examples_per_second: 3141.7103, train_label_loss: 0.4856, \n"
     ]
    },
    {
     "name": "stdout",
     "output_type": "stream",
     "text": [
      "epoch: 4, [batch: 7560 / 12600], examples_per_second: 3153.2027, train_label_loss: 0.7471, \n"
     ]
    },
    {
     "name": "stdout",
     "output_type": "stream",
     "text": [
      "epoch: 4, [batch: 8820 / 12600], examples_per_second: 3137.2080, train_label_loss: 0.7852, \n"
     ]
    },
    {
     "name": "stdout",
     "output_type": "stream",
     "text": [
      "epoch: 4, [batch: 10080 / 12600], examples_per_second: 3133.1431, train_label_loss: 0.3426, \n"
     ]
    },
    {
     "name": "stdout",
     "output_type": "stream",
     "text": [
      "epoch: 4, [batch: 11340 / 12600], examples_per_second: 3147.2758, train_label_loss: 0.5380, \n"
     ]
    },
    {
     "name": "stdout",
     "output_type": "stream",
     "text": [
      "=============================================================\n",
      "epoch: 4, source_val_acc_label: 0.7027, target_val_acc_label: 0.5809, source_val_label_loss: 0.8028, target_val_label_loss: 1.2443, \n",
      "=============================================================\n"
     ]
    },
    {
     "name": "stdout",
     "output_type": "stream",
     "text": [
      "New best\n"
     ]
    },
    {
     "name": "stdout",
     "output_type": "stream",
     "text": [
      "epoch: 5, [batch: 1 / 12600], examples_per_second: 2.2249, train_label_loss: 0.6806, \n"
     ]
    },
    {
     "name": "stdout",
     "output_type": "stream",
     "text": [
      "epoch: 5, [batch: 1260 / 12600], examples_per_second: 3131.1267, train_label_loss: 0.6290, \n"
     ]
    },
    {
     "name": "stdout",
     "output_type": "stream",
     "text": [
      "epoch: 5, [batch: 2520 / 12600], examples_per_second: 3132.9546, train_label_loss: 0.5521, \n"
     ]
    },
    {
     "name": "stdout",
     "output_type": "stream",
     "text": [
      "epoch: 5, [batch: 3780 / 12600], examples_per_second: 3144.3448, train_label_loss: 0.5239, \n"
     ]
    },
    {
     "name": "stdout",
     "output_type": "stream",
     "text": [
      "epoch: 5, [batch: 5040 / 12600], examples_per_second: 3137.2694, train_label_loss: 0.5112, \n"
     ]
    },
    {
     "name": "stdout",
     "output_type": "stream",
     "text": [
      "epoch: 5, [batch: 6300 / 12600], examples_per_second: 3156.4126, train_label_loss: 0.3678, \n"
     ]
    },
    {
     "name": "stdout",
     "output_type": "stream",
     "text": [
      "epoch: 5, [batch: 7560 / 12600], examples_per_second: 3152.8732, train_label_loss: 0.5154, \n"
     ]
    },
    {
     "name": "stdout",
     "output_type": "stream",
     "text": [
      "epoch: 5, [batch: 8820 / 12600], examples_per_second: 3128.5710, train_label_loss: 0.2970, \n"
     ]
    },
    {
     "name": "stdout",
     "output_type": "stream",
     "text": [
      "epoch: 5, [batch: 10080 / 12600], examples_per_second: 3144.4764, train_label_loss: 0.5780, \n"
     ]
    },
    {
     "name": "stdout",
     "output_type": "stream",
     "text": [
      "epoch: 5, [batch: 11340 / 12600], examples_per_second: 3151.3747, train_label_loss: 0.4107, \n"
     ]
    },
    {
     "name": "stdout",
     "output_type": "stream",
     "text": [
      "=============================================================\n",
      "epoch: 5, source_val_acc_label: 0.7059, target_val_acc_label: 0.5844, source_val_label_loss: 0.7897, target_val_label_loss: 1.2378, \n",
      "=============================================================\n"
     ]
    },
    {
     "name": "stdout",
     "output_type": "stream",
     "text": [
      "New best\n"
     ]
    },
    {
     "name": "stdout",
     "output_type": "stream",
     "text": [
      "epoch: 6, [batch: 1 / 12600], examples_per_second: 2.2283, train_label_loss: 0.7112, \n"
     ]
    },
    {
     "name": "stdout",
     "output_type": "stream",
     "text": [
      "epoch: 6, [batch: 1260 / 12600], examples_per_second: 3132.2587, train_label_loss: 0.4992, \n"
     ]
    },
    {
     "name": "stdout",
     "output_type": "stream",
     "text": [
      "epoch: 6, [batch: 2520 / 12600], examples_per_second: 3128.8541, train_label_loss: 0.4473, \n"
     ]
    },
    {
     "name": "stdout",
     "output_type": "stream",
     "text": [
      "epoch: 6, [batch: 3780 / 12600], examples_per_second: 3144.4301, train_label_loss: 0.2999, \n"
     ]
    },
    {
     "name": "stdout",
     "output_type": "stream",
     "text": [
      "epoch: 6, [batch: 5040 / 12600], examples_per_second: 3133.5011, train_label_loss: 0.3630, \n"
     ]
    },
    {
     "name": "stdout",
     "output_type": "stream",
     "text": [
      "epoch: 6, [batch: 6300 / 12600], examples_per_second: 3141.3554, train_label_loss: 0.2137, \n"
     ]
    },
    {
     "name": "stdout",
     "output_type": "stream",
     "text": [
      "epoch: 6, [batch: 7560 / 12600], examples_per_second: 3144.3636, train_label_loss: 0.6945, \n"
     ]
    },
    {
     "name": "stdout",
     "output_type": "stream",
     "text": [
      "epoch: 6, [batch: 8820 / 12600], examples_per_second: 3139.4656, train_label_loss: 0.3574, \n"
     ]
    },
    {
     "name": "stdout",
     "output_type": "stream",
     "text": [
      "epoch: 6, [batch: 10080 / 12600], examples_per_second: 3144.7152, train_label_loss: 0.2525, \n"
     ]
    },
    {
     "name": "stdout",
     "output_type": "stream",
     "text": [
      "epoch: 6, [batch: 11340 / 12600], examples_per_second: 3141.9240, train_label_loss: 0.3517, \n"
     ]
    },
    {
     "name": "stdout",
     "output_type": "stream",
     "text": [
      "=============================================================\n",
      "epoch: 6, source_val_acc_label: 0.7094, target_val_acc_label: 0.5852, source_val_label_loss: 0.8060, target_val_label_loss: 1.2791, \n",
      "=============================================================\n"
     ]
    },
    {
     "name": "stdout",
     "output_type": "stream",
     "text": [
      "New best\n"
     ]
    },
    {
     "name": "stdout",
     "output_type": "stream",
     "text": [
      "epoch: 7, [batch: 1 / 12600], examples_per_second: 2.2300, train_label_loss: 0.4307, \n"
     ]
    },
    {
     "name": "stdout",
     "output_type": "stream",
     "text": [
      "epoch: 7, [batch: 1260 / 12600], examples_per_second: 3142.3164, train_label_loss: 0.4965, \n"
     ]
    },
    {
     "name": "stdout",
     "output_type": "stream",
     "text": [
      "epoch: 7, [batch: 2520 / 12600], examples_per_second: 3133.2234, train_label_loss: 0.4422, \n"
     ]
    },
    {
     "name": "stdout",
     "output_type": "stream",
     "text": [
      "epoch: 7, [batch: 3780 / 12600], examples_per_second: 3140.3012, train_label_loss: 0.5375, \n"
     ]
    },
    {
     "name": "stdout",
     "output_type": "stream",
     "text": [
      "epoch: 7, [batch: 5040 / 12600], examples_per_second: 3130.2580, train_label_loss: 0.3654, \n"
     ]
    },
    {
     "name": "stdout",
     "output_type": "stream",
     "text": [
      "epoch: 7, [batch: 6300 / 12600], examples_per_second: 3152.1008, train_label_loss: 0.2448, \n"
     ]
    },
    {
     "name": "stdout",
     "output_type": "stream",
     "text": [
      "epoch: 7, [batch: 7560 / 12600], examples_per_second: 3142.6936, train_label_loss: 0.2910, \n"
     ]
    },
    {
     "name": "stdout",
     "output_type": "stream",
     "text": [
      "epoch: 7, [batch: 8820 / 12600], examples_per_second: 3142.1889, train_label_loss: 0.2268, \n"
     ]
    },
    {
     "name": "stdout",
     "output_type": "stream",
     "text": [
      "epoch: 7, [batch: 10080 / 12600], examples_per_second: 3147.6330, train_label_loss: 0.5507, \n"
     ]
    },
    {
     "name": "stdout",
     "output_type": "stream",
     "text": [
      "epoch: 7, [batch: 11340 / 12600], examples_per_second: 3144.4555, train_label_loss: 0.2603, \n"
     ]
    },
    {
     "name": "stdout",
     "output_type": "stream",
     "text": [
      "=============================================================\n",
      "epoch: 7, source_val_acc_label: 0.7182, target_val_acc_label: 0.5951, source_val_label_loss: 0.8332, target_val_label_loss: 1.3291, \n",
      "=============================================================\n"
     ]
    },
    {
     "name": "stdout",
     "output_type": "stream",
     "text": [
      "New best\n"
     ]
    },
    {
     "name": "stdout",
     "output_type": "stream",
     "text": [
      "epoch: 8, [batch: 1 / 12600], examples_per_second: 2.2317, train_label_loss: 0.3422, \n"
     ]
    },
    {
     "name": "stdout",
     "output_type": "stream",
     "text": [
      "epoch: 8, [batch: 1260 / 12600], examples_per_second: 3135.3118, train_label_loss: 0.3416, \n"
     ]
    },
    {
     "name": "stdout",
     "output_type": "stream",
     "text": [
      "epoch: 8, [batch: 2520 / 12600], examples_per_second: 3133.3178, train_label_loss: 0.3790, \n"
     ]
    },
    {
     "name": "stdout",
     "output_type": "stream",
     "text": [
      "epoch: 8, [batch: 3780 / 12600], examples_per_second: 3131.2693, train_label_loss: 0.2878, \n"
     ]
    },
    {
     "name": "stdout",
     "output_type": "stream",
     "text": [
      "epoch: 8, [batch: 5040 / 12600], examples_per_second: 3136.2725, train_label_loss: 0.5551, \n"
     ]
    },
    {
     "name": "stdout",
     "output_type": "stream",
     "text": [
      "epoch: 8, [batch: 6300 / 12600], examples_per_second: 3146.3311, train_label_loss: 0.6729, \n"
     ]
    },
    {
     "name": "stdout",
     "output_type": "stream",
     "text": [
      "epoch: 8, [batch: 7560 / 12600], examples_per_second: 3142.8152, train_label_loss: 0.4696, \n"
     ]
    },
    {
     "name": "stdout",
     "output_type": "stream",
     "text": [
      "epoch: 8, [batch: 8820 / 12600], examples_per_second: 3144.3106, train_label_loss: 0.2688, \n"
     ]
    },
    {
     "name": "stdout",
     "output_type": "stream",
     "text": [
      "epoch: 8, [batch: 10080 / 12600], examples_per_second: 3146.2165, train_label_loss: 0.3611, \n"
     ]
    },
    {
     "name": "stdout",
     "output_type": "stream",
     "text": [
      "epoch: 8, [batch: 11340 / 12600], examples_per_second: 3149.2552, train_label_loss: 0.3406, \n"
     ]
    },
    {
     "name": "stdout",
     "output_type": "stream",
     "text": [
      "=============================================================\n",
      "epoch: 8, source_val_acc_label: 0.7092, target_val_acc_label: 0.5897, source_val_label_loss: 0.8456, target_val_label_loss: 1.3336, \n",
      "=============================================================\n"
     ]
    },
    {
     "name": "stdout",
     "output_type": "stream",
     "text": [
      "epoch: 9, [batch: 1 / 12600], examples_per_second: 2.2328, train_label_loss: 0.4444, \n"
     ]
    },
    {
     "name": "stdout",
     "output_type": "stream",
     "text": [
      "epoch: 9, [batch: 1260 / 12600], examples_per_second: 3136.8147, train_label_loss: 0.6597, \n"
     ]
    },
    {
     "name": "stdout",
     "output_type": "stream",
     "text": [
      "epoch: 9, [batch: 2520 / 12600], examples_per_second: 3140.7126, train_label_loss: 0.5762, \n"
     ]
    },
    {
     "name": "stdout",
     "output_type": "stream",
     "text": [
      "epoch: 9, [batch: 3780 / 12600], examples_per_second: 3143.0679, train_label_loss: 0.4142, \n"
     ]
    },
    {
     "name": "stdout",
     "output_type": "stream",
     "text": [
      "epoch: 9, [batch: 5040 / 12600], examples_per_second: 3137.1322, train_label_loss: 0.2515, \n"
     ]
    },
    {
     "name": "stdout",
     "output_type": "stream",
     "text": [
      "epoch: 9, [batch: 6300 / 12600], examples_per_second: 3153.0652, train_label_loss: 0.5542, \n"
     ]
    },
    {
     "name": "stdout",
     "output_type": "stream",
     "text": [
      "epoch: 9, [batch: 7560 / 12600], examples_per_second: 3151.3177, train_label_loss: 0.3032, \n"
     ]
    },
    {
     "name": "stdout",
     "output_type": "stream",
     "text": [
      "epoch: 9, [batch: 8820 / 12600], examples_per_second: 3130.7392, train_label_loss: 0.3162, \n"
     ]
    },
    {
     "name": "stdout",
     "output_type": "stream",
     "text": [
      "epoch: 9, [batch: 10080 / 12600], examples_per_second: 3154.2620, train_label_loss: 0.6281, \n"
     ]
    },
    {
     "name": "stdout",
     "output_type": "stream",
     "text": [
      "epoch: 9, [batch: 11340 / 12600], examples_per_second: 3155.8847, train_label_loss: 0.2293, \n"
     ]
    },
    {
     "name": "stdout",
     "output_type": "stream",
     "text": [
      "=============================================================\n",
      "epoch: 9, source_val_acc_label: 0.7086, target_val_acc_label: 0.5869, source_val_label_loss: 0.8771, target_val_label_loss: 1.3801, \n",
      "=============================================================\n"
     ]
    },
    {
     "name": "stdout",
     "output_type": "stream",
     "text": [
      "epoch: 10, [batch: 1 / 12600], examples_per_second: 2.2352, train_label_loss: 0.2522, \n"
     ]
    },
    {
     "name": "stdout",
     "output_type": "stream",
     "text": [
      "epoch: 10, [batch: 1260 / 12600], examples_per_second: 3135.9760, train_label_loss: 0.2341, \n"
     ]
    },
    {
     "name": "stdout",
     "output_type": "stream",
     "text": [
      "epoch: 10, [batch: 2520 / 12600], examples_per_second: 3134.7682, train_label_loss: 0.0607, \n"
     ]
    },
    {
     "name": "stdout",
     "output_type": "stream",
     "text": [
      "epoch: 10, [batch: 3780 / 12600], examples_per_second: 3139.5399, train_label_loss: 0.2938, \n"
     ]
    },
    {
     "name": "stdout",
     "output_type": "stream",
     "text": [
      "epoch: 10, [batch: 5040 / 12600], examples_per_second: 3130.1603, train_label_loss: 0.3597, \n"
     ]
    },
    {
     "name": "stdout",
     "output_type": "stream",
     "text": [
      "epoch: 10, [batch: 6300 / 12600], examples_per_second: 3144.2643, train_label_loss: 0.3237, \n"
     ]
    },
    {
     "name": "stdout",
     "output_type": "stream",
     "text": [
      "epoch: 10, [batch: 7560 / 12600], examples_per_second: 3159.5826, train_label_loss: 0.2049, \n"
     ]
    },
    {
     "name": "stdout",
     "output_type": "stream",
     "text": [
      "epoch: 10, [batch: 8820 / 12600], examples_per_second: 3141.5470, train_label_loss: 0.0857, \n"
     ]
    },
    {
     "name": "stdout",
     "output_type": "stream",
     "text": [
      "epoch: 10, [batch: 10080 / 12600], examples_per_second: 3154.7725, train_label_loss: 0.2852, \n"
     ]
    },
    {
     "name": "stdout",
     "output_type": "stream",
     "text": [
      "epoch: 10, [batch: 11340 / 12600], examples_per_second: 3155.9416, train_label_loss: 0.1076, \n"
     ]
    },
    {
     "name": "stdout",
     "output_type": "stream",
     "text": [
      "=============================================================\n",
      "epoch: 10, source_val_acc_label: 0.7189, target_val_acc_label: 0.5959, source_val_label_loss: 0.9244, target_val_label_loss: 1.4641, \n",
      "=============================================================\n"
     ]
    },
    {
     "name": "stdout",
     "output_type": "stream",
     "text": [
      "New best\n"
     ]
    },
    {
     "name": "stdout",
     "output_type": "stream",
     "text": [
      "epoch: 11, [batch: 1 / 12600], examples_per_second: 2.2187, train_label_loss: 0.3004, \n"
     ]
    },
    {
     "name": "stdout",
     "output_type": "stream",
     "text": [
      "epoch: 11, [batch: 1260 / 12600], examples_per_second: 3126.8939, train_label_loss: 0.1647, \n"
     ]
    },
    {
     "name": "stdout",
     "output_type": "stream",
     "text": [
      "epoch: 11, [batch: 2520 / 12600], examples_per_second: 3143.6358, train_label_loss: 0.2554, \n"
     ]
    },
    {
     "name": "stdout",
     "output_type": "stream",
     "text": [
      "epoch: 11, [batch: 3780 / 12600], examples_per_second: 3141.2474, train_label_loss: 0.3490, \n"
     ]
    },
    {
     "name": "stdout",
     "output_type": "stream",
     "text": [
      "epoch: 11, [batch: 5040 / 12600], examples_per_second: 3128.4812, train_label_loss: 0.3372, \n"
     ]
    },
    {
     "name": "stdout",
     "output_type": "stream",
     "text": [
      "epoch: 11, [batch: 6300 / 12600], examples_per_second: 3145.6582, train_label_loss: 0.2565, \n"
     ]
    },
    {
     "name": "stdout",
     "output_type": "stream",
     "text": [
      "epoch: 11, [batch: 7560 / 12600], examples_per_second: 3141.4642, train_label_loss: 0.7449, \n"
     ]
    },
    {
     "name": "stdout",
     "output_type": "stream",
     "text": [
      "epoch: 11, [batch: 8820 / 12600], examples_per_second: 3126.3503, train_label_loss: 0.2566, \n"
     ]
    },
    {
     "name": "stdout",
     "output_type": "stream",
     "text": [
      "epoch: 11, [batch: 10080 / 12600], examples_per_second: 3140.4482, train_label_loss: 0.1883, \n"
     ]
    },
    {
     "name": "stdout",
     "output_type": "stream",
     "text": [
      "epoch: 11, [batch: 11340 / 12600], examples_per_second: 3142.1243, train_label_loss: 0.2462, \n"
     ]
    },
    {
     "name": "stdout",
     "output_type": "stream",
     "text": [
      "=============================================================\n",
      "epoch: 11, source_val_acc_label: 0.7077, target_val_acc_label: 0.5860, source_val_label_loss: 0.9707, target_val_label_loss: 1.4980, \n",
      "=============================================================\n"
     ]
    },
    {
     "name": "stdout",
     "output_type": "stream",
     "text": [
      "epoch: 12, [batch: 1 / 12600], examples_per_second: 2.2293, train_label_loss: 0.2125, \n"
     ]
    },
    {
     "name": "stdout",
     "output_type": "stream",
     "text": [
      "epoch: 12, [batch: 1260 / 12600], examples_per_second: 3122.9163, train_label_loss: 0.2247, \n"
     ]
    },
    {
     "name": "stdout",
     "output_type": "stream",
     "text": [
      "epoch: 12, [batch: 2520 / 12600], examples_per_second: 3133.0446, train_label_loss: 0.0550, \n"
     ]
    },
    {
     "name": "stdout",
     "output_type": "stream",
     "text": [
      "epoch: 12, [batch: 3780 / 12600], examples_per_second: 3138.8721, train_label_loss: 0.1461, \n"
     ]
    },
    {
     "name": "stdout",
     "output_type": "stream",
     "text": [
      "epoch: 12, [batch: 5040 / 12600], examples_per_second: 3142.6922, train_label_loss: 0.3370, \n"
     ]
    },
    {
     "name": "stdout",
     "output_type": "stream",
     "text": [
      "epoch: 12, [batch: 6300 / 12600], examples_per_second: 3152.3252, train_label_loss: 0.2674, \n"
     ]
    },
    {
     "name": "stdout",
     "output_type": "stream",
     "text": [
      "epoch: 12, [batch: 7560 / 12600], examples_per_second: 3137.7554, train_label_loss: 0.0202, \n"
     ]
    },
    {
     "name": "stdout",
     "output_type": "stream",
     "text": [
      "epoch: 12, [batch: 8820 / 12600], examples_per_second: 3133.6494, train_label_loss: 0.3135, \n"
     ]
    },
    {
     "name": "stdout",
     "output_type": "stream",
     "text": [
      "epoch: 12, [batch: 10080 / 12600], examples_per_second: 3133.9940, train_label_loss: 0.3543, \n"
     ]
    },
    {
     "name": "stdout",
     "output_type": "stream",
     "text": [
      "epoch: 12, [batch: 11340 / 12600], examples_per_second: 3139.0931, train_label_loss: 0.4388, \n"
     ]
    },
    {
     "name": "stdout",
     "output_type": "stream",
     "text": [
      "=============================================================\n",
      "epoch: 12, source_val_acc_label: 0.7141, target_val_acc_label: 0.5876, source_val_label_loss: 1.0040, target_val_label_loss: 1.5574, \n",
      "=============================================================\n"
     ]
    },
    {
     "name": "stdout",
     "output_type": "stream",
     "text": [
      "epoch: 13, [batch: 1 / 12600], examples_per_second: 2.2278, train_label_loss: 0.0574, \n"
     ]
    },
    {
     "name": "stdout",
     "output_type": "stream",
     "text": [
      "epoch: 13, [batch: 1260 / 12600], examples_per_second: 3127.3216, train_label_loss: 0.1776, \n"
     ]
    },
    {
     "name": "stdout",
     "output_type": "stream",
     "text": [
      "epoch: 13, [batch: 2520 / 12600], examples_per_second: 3131.7508, train_label_loss: 0.1685, \n"
     ]
    },
    {
     "name": "stdout",
     "output_type": "stream",
     "text": [
      "epoch: 13, [batch: 3780 / 12600], examples_per_second: 3143.4210, train_label_loss: 0.2130, \n"
     ]
    },
    {
     "name": "stdout",
     "output_type": "stream",
     "text": [
      "epoch: 13, [batch: 5040 / 12600], examples_per_second: 3134.3717, train_label_loss: 0.2247, \n"
     ]
    },
    {
     "name": "stdout",
     "output_type": "stream",
     "text": [
      "epoch: 13, [batch: 6300 / 12600], examples_per_second: 3153.6709, train_label_loss: 0.2831, \n"
     ]
    },
    {
     "name": "stdout",
     "output_type": "stream",
     "text": [
      "epoch: 13, [batch: 7560 / 12600], examples_per_second: 3148.9174, train_label_loss: 0.1100, \n"
     ]
    },
    {
     "name": "stdout",
     "output_type": "stream",
     "text": [
      "epoch: 13, [batch: 8820 / 12600], examples_per_second: 3143.1705, train_label_loss: 0.1575, \n"
     ]
    },
    {
     "name": "stdout",
     "output_type": "stream",
     "text": [
      "epoch: 13, [batch: 10080 / 12600], examples_per_second: 3150.0271, train_label_loss: 0.3744, \n"
     ]
    },
    {
     "name": "stdout",
     "output_type": "stream",
     "text": [
      "epoch: 13, [batch: 11340 / 12600], examples_per_second: 3161.2494, train_label_loss: 0.1726, \n"
     ]
    },
    {
     "name": "stdout",
     "output_type": "stream",
     "text": [
      "=============================================================\n",
      "epoch: 13, source_val_acc_label: 0.7054, target_val_acc_label: 0.5861, source_val_label_loss: 1.0604, target_val_label_loss: 1.6202, \n",
      "=============================================================\n"
     ]
    },
    {
     "name": "stdout",
     "output_type": "stream",
     "text": [
      "epoch: 14, [batch: 1 / 12600], examples_per_second: 2.2393, train_label_loss: 0.0510, \n"
     ]
    },
    {
     "name": "stdout",
     "output_type": "stream",
     "text": [
      "epoch: 14, [batch: 1260 / 12600], examples_per_second: 3140.9067, train_label_loss: 0.2240, \n"
     ]
    },
    {
     "name": "stdout",
     "output_type": "stream",
     "text": [
      "epoch: 14, [batch: 2520 / 12600], examples_per_second: 3140.0998, train_label_loss: 0.0554, \n"
     ]
    },
    {
     "name": "stdout",
     "output_type": "stream",
     "text": [
      "epoch: 14, [batch: 3780 / 12600], examples_per_second: 3149.3307, train_label_loss: 0.0971, \n"
     ]
    },
    {
     "name": "stdout",
     "output_type": "stream",
     "text": [
      "epoch: 14, [batch: 5040 / 12600], examples_per_second: 3134.8398, train_label_loss: 0.0574, \n"
     ]
    },
    {
     "name": "stdout",
     "output_type": "stream",
     "text": [
      "epoch: 14, [batch: 6300 / 12600], examples_per_second: 3142.8638, train_label_loss: 0.0932, \n"
     ]
    },
    {
     "name": "stdout",
     "output_type": "stream",
     "text": [
      "epoch: 14, [batch: 7560 / 12600], examples_per_second: 3146.7648, train_label_loss: 0.2086, \n"
     ]
    },
    {
     "name": "stdout",
     "output_type": "stream",
     "text": [
      "epoch: 14, [batch: 8820 / 12600], examples_per_second: 3143.7273, train_label_loss: 0.1335, \n"
     ]
    },
    {
     "name": "stdout",
     "output_type": "stream",
     "text": [
      "epoch: 14, [batch: 10080 / 12600], examples_per_second: 3149.0410, train_label_loss: 0.1435, \n"
     ]
    },
    {
     "name": "stdout",
     "output_type": "stream",
     "text": [
      "epoch: 14, [batch: 11340 / 12600], examples_per_second: 3160.1588, train_label_loss: 0.1000, \n"
     ]
    },
    {
     "name": "stdout",
     "output_type": "stream",
     "text": [
      "=============================================================\n",
      "epoch: 14, source_val_acc_label: 0.7051, target_val_acc_label: 0.5826, source_val_label_loss: 1.0876, target_val_label_loss: 1.6583, \n",
      "=============================================================\n"
     ]
    },
    {
     "name": "stdout",
     "output_type": "stream",
     "text": [
      "Patience (3) exhausted\n"
     ]
    }
   ],
   "source": [
    "###################################\n",
    "# train\n",
    "###################################\n",
    "jig = PTN_Train_Eval_Test_Jig(model, p.BEST_MODEL_PATH, p.device)\n",
    "\n",
    "jig.train(\n",
    "    train_iterable=datasets.source.processed.train,\n",
    "    source_val_iterable=datasets.source.processed.val,\n",
    "    target_val_iterable=datasets.target.processed.val,\n",
    "    num_epochs=p.n_epoch,\n",
    "    num_logs_per_epoch=p.NUM_LOGS_PER_EPOCH,\n",
    "    patience=p.patience,\n",
    "    optimizer=optimizer,\n",
    "    criteria_for_best=p.criteria_for_best,\n",
    ")"
   ]
  },
  {
   "cell_type": "code",
   "execution_count": 14,
   "id": "31e8fabf",
   "metadata": {
    "execution": {
     "iopub.execute_input": "2022-03-21T08:19:26.981257Z",
     "iopub.status.busy": "2022-03-21T08:19:26.981004Z",
     "iopub.status.idle": "2022-03-21T08:19:27.000071Z",
     "shell.execute_reply": "2022-03-21T08:19:26.999624Z"
    },
    "papermill": {
     "duration": 0.061671,
     "end_time": "2022-03-21T08:19:27.000161",
     "exception": false,
     "start_time": "2022-03-21T08:19:26.938490",
     "status": "completed"
    },
    "tags": []
   },
   "outputs": [],
   "source": [
    "total_experiment_time_secs = time.time() - start_time_secs"
   ]
  },
  {
   "cell_type": "code",
   "execution_count": 15,
   "id": "87b9595b",
   "metadata": {
    "execution": {
     "iopub.execute_input": "2022-03-21T08:19:27.085643Z",
     "iopub.status.busy": "2022-03-21T08:19:27.085372Z",
     "iopub.status.idle": "2022-03-21T08:23:30.981309Z",
     "shell.execute_reply": "2022-03-21T08:23:30.981703Z"
    },
    "papermill": {
     "duration": 243.939346,
     "end_time": "2022-03-21T08:23:30.981833",
     "exception": false,
     "start_time": "2022-03-21T08:19:27.042487",
     "status": "completed"
    },
    "tags": []
   },
   "outputs": [],
   "source": [
    "###################################\n",
    "# Evaluate the model\n",
    "###################################\n",
    "source_test_label_accuracy, source_test_label_loss = jig.test(datasets.source.processed.test)\n",
    "target_test_label_accuracy, target_test_label_loss = jig.test(datasets.target.processed.test)\n",
    "\n",
    "source_val_label_accuracy, source_val_label_loss = jig.test(datasets.source.processed.val)\n",
    "target_val_label_accuracy, target_val_label_loss = jig.test(datasets.target.processed.val)\n",
    "\n",
    "history = jig.get_history()\n",
    "\n",
    "total_epochs_trained = len(history[\"epoch_indices\"])\n",
    "\n",
    "val_dl = Iterable_Aggregator((datasets.source.original.val,datasets.target.original.val))\n",
    "\n",
    "confusion = ptn_confusion_by_domain_over_dataloader(model, p.device, val_dl)\n",
    "per_domain_accuracy = per_domain_accuracy_from_confusion(confusion)\n",
    "\n",
    "# Add a key to per_domain_accuracy for if it was a source domain\n",
    "for domain, accuracy in per_domain_accuracy.items():\n",
    "    per_domain_accuracy[domain] = {\n",
    "        \"accuracy\": accuracy,\n",
    "        \"source?\": domain in p.domains_source\n",
    "    }\n",
    "\n",
    "# Do an independent accuracy assesment JUST TO BE SURE!\n",
    "# _source_test_label_accuracy = independent_accuracy_assesment(model, datasets.source.processed.test, p.device)\n",
    "# _target_test_label_accuracy = independent_accuracy_assesment(model, datasets.target.processed.test, p.device)\n",
    "# _source_val_label_accuracy = independent_accuracy_assesment(model, datasets.source.processed.val, p.device)\n",
    "# _target_val_label_accuracy = independent_accuracy_assesment(model, datasets.target.processed.val, p.device)\n",
    "\n",
    "# assert(_source_test_label_accuracy == source_test_label_accuracy)\n",
    "# assert(_target_test_label_accuracy == target_test_label_accuracy)\n",
    "# assert(_source_val_label_accuracy == source_val_label_accuracy)\n",
    "# assert(_target_val_label_accuracy == target_val_label_accuracy)\n",
    "\n",
    "experiment = {\n",
    "    \"experiment_name\": p.experiment_name,\n",
    "    \"parameters\": dict(p),\n",
    "    \"results\": {\n",
    "        \"source_test_label_accuracy\": source_test_label_accuracy,\n",
    "        \"source_test_label_loss\": source_test_label_loss,\n",
    "        \"target_test_label_accuracy\": target_test_label_accuracy,\n",
    "        \"target_test_label_loss\": target_test_label_loss,\n",
    "        \"source_val_label_accuracy\": source_val_label_accuracy,\n",
    "        \"source_val_label_loss\": source_val_label_loss,\n",
    "        \"target_val_label_accuracy\": target_val_label_accuracy,\n",
    "        \"target_val_label_loss\": target_val_label_loss,\n",
    "        \"total_epochs_trained\": total_epochs_trained,\n",
    "        \"total_experiment_time_secs\": total_experiment_time_secs,\n",
    "        \"confusion\": confusion,\n",
    "        \"per_domain_accuracy\": per_domain_accuracy,\n",
    "    },\n",
    "    \"history\": history,\n",
    "    \"dataset_metrics\": get_dataset_metrics(datasets, \"ptn\"),\n",
    "}"
   ]
  },
  {
   "cell_type": "code",
   "execution_count": 16,
   "id": "54a21829",
   "metadata": {
    "execution": {
     "iopub.execute_input": "2022-03-21T08:23:31.065314Z",
     "iopub.status.busy": "2022-03-21T08:23:31.064445Z",
     "iopub.status.idle": "2022-03-21T08:23:31.198963Z",
     "shell.execute_reply": "2022-03-21T08:23:31.199357Z"
    },
    "papermill": {
     "duration": 0.174566,
     "end_time": "2022-03-21T08:23:31.199466",
     "exception": false,
     "start_time": "2022-03-21T08:23:31.024900",
     "status": "completed"
    },
    "tags": []
   },
   "outputs": [
    {
     "data": {
      "image/png": "[encoded data removed]",
      "text/plain": [
       "<Figure size 1080x504 with 1 Axes>"
      ]
     },
     "metadata": {
      "needs_background": "light"
     },
     "output_type": "display_data"
    }
   ],
   "source": [
    "ax = get_loss_curve(experiment)\n",
    "plt.show()"
   ]
  },
  {
   "cell_type": "code",
   "execution_count": 17,
   "id": "fd8a0f60",
   "metadata": {
    "execution": {
     "iopub.execute_input": "2022-03-21T08:23:31.285090Z",
     "iopub.status.busy": "2022-03-21T08:23:31.284838Z",
     "iopub.status.idle": "2022-03-21T08:23:31.427859Z",
     "shell.execute_reply": "2022-03-21T08:23:31.427603Z"
    },
    "papermill": {
     "duration": 0.185181,
     "end_time": "2022-03-21T08:23:31.427911",
     "exception": false,
     "start_time": "2022-03-21T08:23:31.242730",
     "status": "completed"
    },
    "tags": []
   },
   "outputs": [
    {
     "data": {
      "text/plain": [
       "<AxesSubplot:title={'center':'Results'}>"
      ]
     },
     "execution_count": 17,
     "metadata": {},
     "output_type": "execute_result"
    },
    {
     "data": {
      "image/png": "[encoded data removed]",
      "text/plain": [
       "<Figure size 1080x504 with 1 Axes>"
      ]
     },
     "metadata": {
      "needs_background": "light"
     },
     "output_type": "display_data"
    }
   ],
   "source": [
    "get_results_table(experiment)"
   ]
  },
  {
   "cell_type": "code",
   "execution_count": 18,
   "id": "cf8dc689",
   "metadata": {
    "execution": {
     "iopub.execute_input": "2022-03-21T08:23:31.514448Z",
     "iopub.status.busy": "2022-03-21T08:23:31.514201Z",
     "iopub.status.idle": "2022-03-21T08:23:31.631885Z",
     "shell.execute_reply": "2022-03-21T08:23:31.632278Z"
    },
    "papermill": {
     "duration": 0.162428,
     "end_time": "2022-03-21T08:23:31.632390",
     "exception": false,
     "start_time": "2022-03-21T08:23:31.469962",
     "status": "completed"
    },
    "tags": []
   },
   "outputs": [
    {
     "data": {
      "text/plain": [
       "<AxesSubplot:title={'center':'Per Domain Validation Accuracy'}, xlabel='domain'>"
      ]
     },
     "execution_count": 18,
     "metadata": {},
     "output_type": "execute_result"
    },
    {
     "data": {
      "image/png": "[encoded data removed]",
      "text/plain": [
       "<Figure size 1080x504 with 1 Axes>"
      ]
     },
     "metadata": {
      "needs_background": "light"
     },
     "output_type": "display_data"
    }
   ],
   "source": [
    "get_domain_accuracies(experiment)"
   ]
  },
  {
   "cell_type": "code",
   "execution_count": 19,
   "id": "a74ae082",
   "metadata": {
    "execution": {
     "iopub.execute_input": "2022-03-21T08:23:31.724909Z",
     "iopub.status.busy": "2022-03-21T08:23:31.724653Z",
     "iopub.status.idle": "2022-03-21T08:23:31.740694Z",
     "shell.execute_reply": "2022-03-21T08:23:31.741078Z"
    },
    "papermill": {
     "duration": 0.061478,
     "end_time": "2022-03-21T08:23:31.741186",
     "exception": false,
     "start_time": "2022-03-21T08:23:31.679708",
     "status": "completed"
    },
    "tags": []
   },
   "outputs": [
    {
     "name": "stdout",
     "output_type": "stream",
     "text": [
      "Source Test Label Accuracy: 0.7199305555555555 Target Test Label Accuracy: 0.5923333333333334\n",
      "Source Val Label Accuracy: 0.7188541666666667 Target Val Label Accuracy: 0.5959270833333333\n"
     ]
    }
   ],
   "source": [
    "print(\"Source Test Label Accuracy:\", experiment[\"results\"][\"source_test_label_accuracy\"], \"Target Test Label Accuracy:\", experiment[\"results\"][\"target_test_label_accuracy\"])\n",
    "print(\"Source Val Label Accuracy:\", experiment[\"results\"][\"source_val_label_accuracy\"], \"Target Val Label Accuracy:\", experiment[\"results\"][\"target_val_label_accuracy\"])"
   ]
  },
  {
   "cell_type": "code",
   "execution_count": 20,
   "id": "dacca602",
   "metadata": {
    "execution": {
     "iopub.execute_input": "2022-03-21T08:23:31.833164Z",
     "iopub.status.busy": "2022-03-21T08:23:31.832917Z",
     "iopub.status.idle": "2022-03-21T08:23:31.849883Z",
     "shell.execute_reply": "2022-03-21T08:23:31.849419Z"
    },
    "papermill": {
     "duration": 0.061449,
     "end_time": "2022-03-21T08:23:31.849975",
     "exception": false,
     "start_time": "2022-03-21T08:23:31.788526",
     "status": "completed"
    },
    "tags": [
     "experiment_json"
    ]
   },
   "outputs": [
    {
     "data": {
      "text/plain": [
       "'{\"experiment_name\": \"tuned_1v2:oracle.run2\", \"parameters\": {\"experiment_name\": \"tuned_1v2:oracle.run2\", \"device\": \"cuda\", \"lr\": 0.0001, \"labels_source\": [\"3123D52\", \"3123D65\", \"3123D79\", \"3123D80\", \"3123D54\", \"3123D70\", \"3123D7B\", \"3123D89\", \"3123D58\", \"3123D76\", \"3123D7D\", \"3123EFE\", \"3123D64\", \"3123D78\", \"3123D7E\", \"3124E4A\"], \"labels_target\": [\"3123D52\", \"3123D65\", \"3123D79\", \"3123D80\", \"3123D54\", \"3123D70\", \"3123D7B\", \"3123D89\", \"3123D58\", \"3123D76\", \"3123D7D\", \"3123EFE\", \"3123D64\", \"3123D78\", \"3123D7E\", \"3124E4A\"], \"episode_transforms_source\": [], \"episode_transforms_target\": [], \"domains_source\": [8, 32, 50], \"domains_target\": [14, 20, 26, 38, 44], \"num_examples_per_domain_per_label_source\": -1, \"num_examples_per_domain_per_label_target\": -1, \"n_shot\": 3, \"n_way\": 16, \"n_query\": 2, \"train_k_factor\": 3, \"val_k_factor\": 2, \"test_k_factor\": 2, \"torch_default_dtype\": \"torch.float32\", \"n_epoch\": 50, \"patience\": 3, \"criteria_for_best\": \"target_accuracy\", \"x_net\": [{\"class\": \"nnReshape\", \"kargs\": {\"shape\": [-1, 1, 2, 256]}}, {\"class\": \"Conv2d\", \"kargs\": {\"in_channels\": 1, \"out_channels\": 256, \"kernel_size\": [1, 7], \"bias\": false, \"padding\": [0, 3]}}, {\"class\": \"ReLU\", \"kargs\": {\"inplace\": true}}, {\"class\": \"BatchNorm2d\", \"kargs\": {\"num_features\": 256}}, {\"class\": \"Conv2d\", \"kargs\": {\"in_channels\": 256, \"out_channels\": 80, \"kernel_size\": [2, 7], \"bias\": true, \"padding\": [0, 3]}}, {\"class\": \"ReLU\", \"kargs\": {\"inplace\": true}}, {\"class\": \"BatchNorm2d\", \"kargs\": {\"num_features\": 80}}, {\"class\": \"Flatten\", \"kargs\": {}}, {\"class\": \"Linear\", \"kargs\": {\"in_features\": 20480, \"out_features\": 256}}, {\"class\": \"ReLU\", \"kargs\": {\"inplace\": true}}, {\"class\": \"BatchNorm1d\", \"kargs\": {\"num_features\": 256}}, {\"class\": \"Linear\", \"kargs\": {\"in_features\": 256, \"out_features\": 256}}], \"NUM_LOGS_PER_EPOCH\": 10, \"BEST_MODEL_PATH\": \"./best_model.pth\", \"pickle_name\": \"oracle.Run2_10kExamples_stratified_ds.2022A.pkl\", \"x_transforms_source\": [\"unit_mag\"], \"x_transforms_target\": [\"unit_mag\"], \"dataset_seed\": 1337, \"seed\": 1337}, \"results\": {\"source_test_label_accuracy\": 0.7199305555555555, \"source_test_label_loss\": 0.9095941185951233, \"target_test_label_accuracy\": 0.5923333333333334, \"target_test_label_loss\": 1.4949572086334229, \"source_val_label_accuracy\": 0.7188541666666667, \"source_val_label_loss\": 0.9244458079338074, \"target_val_label_accuracy\": 0.5959270833333333, \"target_val_label_loss\": 1.4640623331069946, \"total_epochs_trained\": 14, \"total_experiment_time_secs\": 5131.296408414841, \"confusion\": {\"8\": {\"15\": {\"8\": 128, \"12\": 218, \"11\": 203, \"15\": 613, \"7\": 16, \"3\": 11, \"2\": 4, \"4\": 4, \"6\": 3}, \"3\": {\"3\": 1049, \"12\": 143, \"2\": 2, \"15\": 6}, \"6\": {\"4\": 327, \"7\": 222, \"6\": 542, \"8\": 5, \"2\": 13, \"14\": 79, \"13\": 6, \"0\": 4, \"11\": 1, \"15\": 1}, \"1\": {\"5\": 37, \"1\": 1004, \"13\": 143, \"10\": 15, \"14\": 1}, \"8\": {\"8\": 922, \"15\": 110, \"11\": 144, \"6\": 12, \"7\": 9, \"4\": 2, \"13\": 1}, \"10\": {\"10\": 750, \"5\": 136, \"0\": 177, \"14\": 47, \"13\": 68, \"1\": 22}, \"9\": {\"9\": 1200}, \"13\": {\"14\": 179, \"13\": 774, \"10\": 66, \"1\": 136, \"6\": 14, \"5\": 6, \"0\": 20, \"8\": 2, \"4\": 3}, \"12\": {\"3\": 146, \"12\": 903, \"15\": 130, \"11\": 21}, \"5\": {\"5\": 929, \"10\": 200, \"1\": 56, \"13\": 10, \"0\": 5}, \"0\": {\"0\": 734, \"10\": 176, \"14\": 260, \"13\": 18, \"5\": 2, \"4\": 5, \"6\": 4, \"7\": 1}, \"2\": {\"3\": 2, \"2\": 933, \"7\": 152, \"4\": 88, \"6\": 23, \"15\": 2}, \"11\": {\"8\": 298, \"12\": 111, \"15\": 202, \"11\": 583, \"3\": 2, \"6\": 3, \"4\": 1}, \"14\": {\"6\": 61, \"14\": 718, \"13\": 167, \"7\": 1, \"0\": 207, \"10\": 34, \"4\": 12}, \"7\": {\"4\": 307, \"7\": 524, \"6\": 192, \"2\": 159, \"8\": 15, \"15\": 2, \"14\": 1}, \"4\": {\"4\": 402, \"6\": 353, \"2\": 103, \"7\": 312, \"8\": 11, \"14\": 16, \"15\": 1, \"13\": 1, \"0\": 1}}, \"50\": {\"3\": {\"3\": 1169, \"8\": 31}, \"15\": {\"15\": 1055, \"11\": 49, \"1\": 77, \"6\": 17, \"4\": 1, \"14\": 1}, \"8\": {\"8\": 1181, \"3\": 19}, \"4\": {\"6\": 264, \"4\": 614, \"5\": 269, \"1\": 35, \"15\": 1, \"7\": 8, \"10\": 5, \"13\": 4}, \"14\": {\"12\": 24, \"14\": 1154, \"11\": 21, \"15\": 1}, \"0\": {\"0\": 1062, \"2\": 105, \"4\": 5, \"10\": 24, \"5\": 3, \"1\": 1}, \"7\": {\"7\": 515, \"13\": 461, \"10\": 91, \"5\": 123, \"4\": 10}, \"6\": {\"6\": 593, \"4\": 276, \"1\": 268, \"5\": 41, \"15\": 21, \"7\": 1}, \"10\": {\"10\": 860, \"13\": 159, \"5\": 79, \"7\": 74, \"0\": 25, \"4\": 3}, \"5\": {\"5\": 643, \"6\": 56, \"4\": 285, \"10\": 69, \"13\": 52, \"7\": 84, \"0\": 6, \"1\": 5}, \"2\": {\"2\": 1134, \"0\": 64, \"1\": 2}, \"12\": {\"9\": 75, \"12\": 1044, \"14\": 68, \"11\": 13}, \"9\": {\"9\": 1112, \"12\": 75, \"11\": 13}, \"1\": {\"6\": 218, \"1\": 878, \"4\": 21, \"15\": 79, \"0\": 1, \"5\": 2, \"14\": 1}, \"11\": {\"11\": 1100, \"9\": 28, \"15\": 32, \"14\": 26, \"12\": 14}, \"13\": {\"7\": 436, \"13\": 549, \"10\": 167, \"5\": 45, \"4\": 3}}, \"32\": {\"5\": {\"14\": 78, \"8\": 153, \"5\": 478, \"13\": 62, \"0\": 164, \"4\": 131, \"2\": 99, \"11\": 12, \"7\": 13, \"3\": 10}, \"8\": {\"8\": 853, \"5\": 111, \"13\": 87, \"4\": 53, \"3\": 20, \"0\": 61, \"15\": 11, \"11\": 2, \"7\": 2}, \"11\": {\"11\": 531, \"4\": 74, \"13\": 128, \"7\": 280, \"5\": 10, \"0\": 124, \"2\": 49, \"8\": 1, \"14\": 3}, \"1\": {\"1\": 1188, \"10\": 12}, \"10\": {\"10\": 1196, \"1\": 4}, \"15\": {\"15\": 1188, \"8\": 11, \"5\": 1}, \"3\": {\"3\": 1140, \"11\": 1, \"13\": 38, \"7\": 7, \"8\": 13, \"4\": 1}, \"7\": {\"11\": 260, \"7\": 625, \"13\": 191, \"4\": 86, \"0\": 21, \"2\": 9, \"5\": 5, \"3\": 1, \"8\": 2}, \"4\": {\"7\": 85, \"13\": 221, \"4\": 439, \"5\": 134, \"0\": 161, \"8\": 60, \"11\": 72, \"2\": 27, \"3\": 1}, \"14\": {\"14\": 1004, \"2\": 134, \"5\": 25, \"0\": 27, \"11\": 8, \"4\": 2}, \"9\": {\"9\": 1171, \"14\": 29}, \"12\": {\"12\": 1200}, \"6\": {\"6\": 1200}, \"2\": {\"14\": 121, \"11\": 33, \"2\": 884, \"5\": 67, \"0\": 41, \"4\": 36, \"7\": 18}, \"0\": {\"0\": 527, \"5\": 167, \"11\": 159, \"4\": 157, \"2\": 46, \"8\": 57, \"14\": 12, \"13\": 49, \"7\": 25, \"3\": 1}, \"13\": {\"11\": 89, \"13\": 539, \"4\": 222, \"8\": 62, \"0\": 61, \"7\": 177, \"5\": 22, \"3\": 28}}, \"14\": {\"15\": {\"7\": 57, \"15\": 1141, \"13\": 2}, \"3\": {\"4\": 128, \"3\": 894, \"5\": 73, \"2\": 33, \"14\": 57, \"1\": 12, \"6\": 1, \"0\": 1, \"8\": 1}, \"6\": {\"14\": 168, \"13\": 298, \"2\": 75, \"6\": 640, \"3\": 2, \"4\": 16, \"5\": 1}, \"1\": {\"1\": 1011, \"5\": 135, \"4\": 46, \"2\": 4, \"3\": 4}, \"8\": {\"8\": 1198, \"3\": 2}, \"10\": {\"10\": 1009, \"11\": 36, \"0\": 149, \"12\": 6}, \"9\": {\"9\": 1182, \"12\": 7, \"0\": 6, \"11\": 5}, \"13\": {\"13\": 819, \"6\": 281, \"2\": 77, \"14\": 21, \"4\": 2}, \"12\": {\"8\": 45, \"9\": 114, \"0\": 78, \"11\": 325, \"12\": 582, \"10\": 54, \"3\": 2}, \"5\": {\"1\": 136, \"5\": 504, \"3\": 76, \"2\": 122, \"4\": 348, \"14\": 11, \"13\": 1, \"6\": 2}, \"0\": {\"0\": 1136, \"10\": 51, \"14\": 3, \"3\": 9, \"9\": 1}, \"2\": {\"3\": 89, \"5\": 144, \"13\": 134, \"14\": 157, \"2\": 482, \"4\": 102, \"1\": 8, \"6\": 73, \"15\": 8, \"7\": 3}, \"11\": {\"11\": 1131, \"12\": 35, \"10\": 21, \"9\": 11, \"0\": 2}, \"14\": {\"2\": 147, \"14\": 738, \"6\": 170, \"3\": 55, \"13\": 27, \"4\": 33, \"5\": 16, \"0\": 14}, \"7\": {\"7\": 1157, \"15\": 39, \"1\": 4}, \"4\": {\"5\": 386, \"2\": 80, \"4\": 550, \"3\": 98, \"1\": 70, \"14\": 5, \"6\": 10, \"13\": 1}}, \"20\": {\"3\": {\"3\": 364, \"5\": 190, \"2\": 177, \"7\": 203, \"15\": 19, \"9\": 119, \"4\": 21, \"12\": 40, \"1\": 4, \"10\": 15, \"0\": 13, \"8\": 27, \"13\": 8}, \"15\": {\"12\": 86, \"9\": 116, \"13\": 261, \"0\": 53, \"15\": 344, \"5\": 66, \"2\": 100, \"3\": 26, \"1\": 143, \"7\": 2, \"4\": 2, \"11\": 1}, \"8\": {\"8\": 547, \"4\": 52, \"6\": 38, \"14\": 196, \"10\": 169, \"5\": 9, \"7\": 158, \"3\": 29, \"0\": 1, \"2\": 1}, \"4\": {\"4\": 905, \"12\": 48, \"7\": 2, \"9\": 10, \"8\": 36, \"5\": 40, \"10\": 25, \"0\": 92, \"3\": 20, \"2\": 6, \"14\": 6, \"1\": 8, \"15\": 2}, \"14\": {\"8\": 166, \"14\": 725, \"6\": 120, \"10\": 171, \"7\": 9, \"4\": 9}, \"0\": {\"1\": 208, \"0\": 484, \"12\": 160, \"4\": 130, \"3\": 9, \"15\": 65, \"2\": 19, \"5\": 90, \"13\": 11, \"9\": 22, \"8\": 1, \"7\": 1}, \"7\": {\"7\": 763, \"6\": 41, \"8\": 152, \"5\": 25, \"3\": 134, \"9\": 5, \"10\": 46, \"11\": 2, \"2\": 22, \"14\": 6, \"4\": 3, \"15\": 1}, \"6\": {\"14\": 94, \"6\": 1008, \"7\": 39, \"10\": 34, \"8\": 25}, \"10\": {\"10\": 658, \"14\": 207, \"3\": 13, \"8\": 194, \"7\": 50, \"4\": 25, \"6\": 45, \"5\": 5, \"2\": 2, \"9\": 1}, \"5\": {\"9\": 113, \"2\": 187, \"1\": 34, \"13\": 23, \"12\": 132, \"4\": 58, \"8\": 28, \"5\": 226, \"0\": 70, \"15\": 78, \"3\": 197, \"7\": 52, \"10\": 2}, \"2\": {\"5\": 165, \"2\": 308, \"3\": 196, \"1\": 12, \"9\": 233, \"7\": 28, \"4\": 5, \"15\": 119, \"12\": 55, \"13\": 64, \"0\": 9, \"10\": 4, \"8\": 2}, \"12\": {\"1\": 212, \"2\": 61, \"0\": 158, \"12\": 292, \"5\": 128, \"3\": 36, \"9\": 122, \"13\": 16, \"15\": 110, \"4\": 60, \"10\": 1, \"7\": 3, \"8\": 1}, \"9\": {\"5\": 154, \"9\": 269, \"12\": 127, \"0\": 12, \"2\": 238, \"3\": 135, \"7\": 15, \"13\": 81, \"8\": 1, \"15\": 118, \"4\": 13, \"1\": 37}, \"1\": {\"12\": 194, \"1\": 545, \"13\": 38, \"0\": 190, \"15\": 138, \"4\": 10, \"5\": 28, \"9\": 44, \"2\": 11, \"3\": 2}, \"11\": {\"11\": 1196, \"7\": 3, \"2\": 1}, \"13\": {\"13\": 729, \"15\": 272, \"1\": 31, \"2\": 74, \"9\": 49, \"0\": 3, \"12\": 12, \"5\": 24, \"3\": 6}}, \"44\": {\"5\": {\"5\": 1052, \"14\": 131, \"8\": 9, \"0\": 7, \"15\": 1}, \"8\": {\"0\": 495, \"8\": 658, \"14\": 13, \"15\": 22, \"5\": 12}, \"11\": {\"11\": 1119, \"6\": 68, \"7\": 7, \"2\": 1, \"13\": 1, \"9\": 4}, \"1\": {\"1\": 683, \"12\": 329, \"3\": 171, \"7\": 6, \"10\": 6, \"9\": 2, \"2\": 3}, \"10\": {\"10\": 1143, \"1\": 23, \"12\": 34}, \"15\": {\"14\": 120, \"15\": 999, \"4\": 70, \"8\": 8, \"5\": 3}, \"3\": {\"3\": 987, \"1\": 139, \"12\": 73, \"9\": 1}, \"7\": {\"7\": 574, \"2\": 285, \"9\": 326, \"1\": 6, \"6\": 9}, \"4\": {\"4\": 1039, \"15\": 59, \"14\": 76, \"13\": 25, \"5\": 1}, \"14\": {\"14\": 885, \"5\": 104, \"4\": 85, \"15\": 121, \"13\": 3, \"8\": 2}, \"9\": {\"9\": 487, \"7\": 331, \"2\": 353, \"6\": 27, \"4\": 1, \"1\": 1}, \"12\": {\"12\": 774, \"3\": 87, \"1\": 329, \"10\": 10}, \"6\": {\"6\": 1092, \"9\": 43, \"13\": 16, \"7\": 14, \"11\": 33, \"2\": 2}, \"2\": {\"9\": 334, \"2\": 585, \"7\": 271, \"1\": 6, \"3\": 4}, \"0\": {\"8\": 519, \"0\": 668, \"14\": 2, \"5\": 6, \"15\": 5}, \"13\": {\"13\": 1128, \"6\": 21, \"4\": 50, \"14\": 1}}, \"38\": {\"14\": {\"14\": 599, \"2\": 288, \"12\": 155, \"11\": 125, \"5\": 7, \"7\": 10, \"10\": 4, \"13\": 10, \"8\": 2}, \"0\": {\"0\": 861, \"3\": 286, \"13\": 2, \"5\": 3, \"10\": 12, \"6\": 6, \"8\": 4, \"7\": 9, \"15\": 4, \"9\": 13}, \"13\": {\"8\": 190, \"2\": 14, \"5\": 216, \"7\": 60, \"15\": 254, \"13\": 258, \"3\": 89, \"0\": 19, \"1\": 60, \"10\": 20, \"6\": 7, \"14\": 12, \"9\": 1}, \"7\": {\"10\": 382, \"8\": 90, \"5\": 124, \"7\": 525, \"3\": 31, \"13\": 35, \"15\": 9, \"0\": 3, \"4\": 1}, \"9\": {\"6\": 453, \"9\": 734, \"3\": 9, \"0\": 4}, \"3\": {\"0\": 299, \"3\": 320, \"10\": 85, \"6\": 71, \"8\": 81, \"7\": 91, \"5\": 38, \"9\": 76, \"13\": 50, \"15\": 85, \"1\": 4}, \"11\": {\"11\": 949, \"14\": 125, \"12\": 113, \"2\": 10, \"4\": 3}, \"6\": {\"9\": 384, \"6\": 806, \"3\": 9, \"13\": 1}, \"8\": {\"5\": 322, \"13\": 193, \"8\": 323, \"7\": 96, \"15\": 208, \"3\": 28, \"10\": 23, \"0\": 1, \"1\": 4, \"6\": 2}, \"4\": {\"7\": 4, \"12\": 93, \"4\": 1097, \"10\": 5, \"11\": 1}, \"5\": {\"15\": 131, \"8\": 316, \"13\": 178, \"5\": 382, \"14\": 1, \"7\": 132, \"3\": 22, \"10\": 32, \"1\": 5, \"0\": 1}, \"10\": {\"10\": 605, \"5\": 44, \"7\": 435, \"8\": 37, \"3\": 55, \"15\": 5, \"13\": 11, \"0\": 7, \"4\": 1}, \"1\": {\"1\": 1062, \"15\": 79, \"13\": 41, \"8\": 10, \"5\": 8}, \"2\": {\"2\": 1013, \"14\": 185, \"11\": 2}, \"15\": {\"3\": 102, \"13\": 214, \"8\": 194, \"15\": 416, \"1\": 100, \"5\": 132, \"6\": 14, \"0\": 6, \"10\": 6, \"7\": 14, \"9\": 2}, \"12\": {\"12\": 1079, \"11\": 10, \"14\": 37, \"4\": 73, \"10\": 1}}, \"26\": {\"13\": {\"5\": 260, \"13\": 762, \"9\": 108, \"6\": 52, \"8\": 4, \"2\": 7, \"7\": 7}, \"2\": {\"4\": 132, \"5\": 50, \"7\": 281, \"15\": 118, \"2\": 299, \"9\": 37, \"8\": 97, \"3\": 149, \"0\": 19, \"10\": 8, \"14\": 7, \"6\": 1, \"13\": 2}, \"8\": {\"8\": 418, \"7\": 102, \"9\": 147, \"0\": 67, \"5\": 55, \"14\": 90, \"4\": 78, \"6\": 51, \"10\": 71, \"2\": 88, \"3\": 4, \"1\": 10, \"15\": 13, \"13\": 6}, \"9\": {\"9\": 450, \"8\": 196, \"6\": 119, \"7\": 62, \"5\": 159, \"2\": 49, \"13\": 115, \"14\": 9, \"10\": 24, \"4\": 3, \"15\": 2, \"0\": 11, \"1\": 1}, \"12\": {\"12\": 1199, \"11\": 1}, \"4\": {\"2\": 113, \"7\": 71, \"4\": 544, \"3\": 85, \"0\": 136, \"14\": 65, \"15\": 69, \"10\": 22, \"8\": 74, \"9\": 4, \"1\": 15, \"5\": 2}, \"3\": {\"15\": 355, \"4\": 75, \"7\": 101, \"2\": 128, \"3\": 521, \"5\": 11, \"8\": 4, \"10\": 1, \"0\": 2, \"9\": 2}, \"15\": {\"2\": 132, \"15\": 437, \"3\": 389, \"8\": 5, \"4\": 92, \"7\": 119, \"0\": 7, \"5\": 10, \"14\": 1, \"10\": 1, \"9\": 6, \"13\": 1}, \"14\": {\"14\": 308, \"9\": 15, \"10\": 161, \"0\": 232, \"8\": 104, \"1\": 271, \"4\": 70, \"2\": 10, \"6\": 16, \"5\": 3, \"7\": 10}, \"10\": {\"14\": 193, \"9\": 12, \"4\": 74, \"0\": 189, \"10\": 337, \"1\": 160, \"8\": 76, \"6\": 122, \"2\": 14, \"7\": 13, \"5\": 1, \"12\": 5, \"3\": 2, \"15\": 2}, \"7\": {\"8\": 124, \"5\": 73, \"7\": 336, \"4\": 87, \"15\": 106, \"2\": 272, \"9\": 43, \"3\": 117, \"14\": 11, \"0\": 17, \"13\": 11, \"10\": 3}, \"11\": {\"11\": 1199, \"12\": 1}, \"6\": {\"6\": 765, \"9\": 118, \"5\": 87, \"13\": 62, \"10\": 88, \"14\": 12, \"0\": 8, \"8\": 52, \"1\": 7, \"2\": 1}, \"1\": {\"14\": 253, \"0\": 152, \"1\": 563, \"10\": 168, \"8\": 31, \"4\": 19, \"9\": 5, \"6\": 7, \"5\": 1, \"7\": 1}, \"5\": {\"13\": 297, \"5\": 313, \"7\": 117, \"6\": 164, \"9\": 140, \"2\": 83, \"8\": 43, \"15\": 22, \"10\": 3, \"0\": 1, \"3\": 12, \"1\": 1, \"4\": 2, \"14\": 2}, \"0\": {\"1\": 187, \"14\": 227, \"0\": 319, \"10\": 162, \"4\": 149, \"8\": 102, \"15\": 6, \"7\": 17, \"9\": 10, \"2\": 15, \"6\": 6}}}, \"per_domain_accuracy\": {\"8\": {\"accuracy\": 0.6552083333333333, \"source?\": true}, \"50\": {\"accuracy\": 0.7636979166666666, \"source?\": true}, \"32\": {\"accuracy\": 0.73765625, \"source?\": true}, \"14\": {\"accuracy\": 0.7382291666666667, \"source?\": false}, \"20\": {\"accuracy\": 0.48765625, \"source?\": false}, \"44\": {\"accuracy\": 0.7225520833333333, \"source?\": false}, \"38\": {\"accuracy\": 0.5744270833333334, \"source?\": false}, \"26\": {\"accuracy\": 0.45677083333333335, \"source?\": false}}}, \"history\": {\"epoch_indices\": [1, 2, 3, 4, 5, 6, 7, 8, 9, 10, 11, 12, 13, 14], \"train_label_loss\": [1.3275180355376668, 0.8211516524804017, 0.7005094795745044, 0.6226414419651505, 0.5594894833147289, 0.49621081509642184, 0.4403029520348424, 0.3892548107364703, 0.34333840000354465, 0.3039647185528976, 0.27035963756095116, 0.23982091292280644, 0.21310025276235556, 0.19200800473424828], \"source_val_label_loss\": [1.0217772722244263, 0.8291938304901123, 0.8082225918769836, 0.8028036952018738, 0.7896812558174133, 0.8060088753700256, 0.833225429058075, 0.8455867767333984, 0.8770515322685242, 0.9244458079338074, 0.9707061052322388, 1.00404953956604, 1.060353398323059, 1.0875515937805176], \"target_val_label_loss\": [1.4504948854446411, 1.2207428216934204, 1.250190019607544, 1.2443130016326904, 1.2377837896347046, 1.279111623764038, 1.3291401863098145, 1.333575963973999, 1.3800972700119019, 1.4640623331069946, 1.4979944229125977, 1.5574064254760742, 1.6201716661453247, 1.6582865715026855], \"source_val_acc_label\": [0.6131423611111111, 0.6730555555555555, 0.7009201388888889, 0.7026909722222222, 0.7059375, 0.7093923611111111, 0.7182291666666667, 0.7092013888888888, 0.7086284722222222, 0.7188541666666667, 0.70765625, 0.7141145833333333, 0.7053993055555555, 0.7050520833333334], \"target_val_acc_label\": [0.5041979166666667, 0.5596354166666667, 0.5771354166666667, 0.5808958333333333, 0.5843541666666666, 0.5851875, 0.5951354166666667, 0.5896979166666667, 0.5868854166666667, 0.5959270833333333, 0.5859791666666667, 0.5876458333333333, 0.5861458333333334, 0.5825520833333333]}, \"dataset_metrics\": {\"source\": {\"train\": {\"n_unique_x\": 336000, \"n_unique_y\": 16, \"n_batch/episode\": 12600}, \"val\": {\"n_unique_x\": 72000, \"n_unique_y\": 16, \"n_batch/episode\": 1800}, \"test\": {\"n_unique_x\": 72000, \"n_unique_y\": 16, \"n_batch/episode\": 1800}}, \"target\": {\"train\": {\"n_unique_x\": 560000, \"n_unique_y\": 16, \"n_batch/episode\": 21000}, \"val\": {\"n_unique_x\": 120000, \"n_unique_y\": 16, \"n_batch/episode\": 3000}, \"test\": {\"n_unique_x\": 120000, \"n_unique_y\": 16, \"n_batch/episode\": 3000}}}}'"
      ]
     },
     "execution_count": 20,
     "metadata": {},
     "output_type": "execute_result"
    }
   ],
   "source": [
    "json.dumps(experiment)"
   ]
  }
 ],
 "metadata": {
  "celltoolbar": "Tags",
  "kernelspec": {
   "display_name": "Python 3 (ipykernel)",
   "language": "python",
   "name": "python3"
  },
  "language_info": {
   "codemirror_mode": {
    "name": "ipython",
    "version": 3
   },
   "file_extension": ".py",
   "mimetype": "text/x-python",
   "name": "python",
   "nbconvert_exporter": "python",
   "pygments_lexer": "ipython3",
   "version": "3.8.10"
  },
  "papermill": {
   "default_parameters": {},
   "duration": 5380.636576,
   "end_time": "2022-03-21T08:23:34.408263",
   "environment_variables": {},
   "exception": null,
   "input_path": "/mnt/wd500GB/CSC500/csc500-main/csc500-notebooks/templates/ptn_template.ipynb",
   "output_path": "trial.ipynb",
   "parameters": {
    "parameters": {
     "BEST_MODEL_PATH": "./best_model.pth",
     "NUM_LOGS_PER_EPOCH": 10,
     "criteria_for_best": "target_accuracy",
     "dataset_seed": 1337,
     "device": "cuda",
     "domains_source": [
      8,
      32,
      50
     ],
     "domains_target": [
      14,
      20,
      26,
      38,
      44
     ],
     "episode_transforms_source": [],
     "episode_transforms_target": [],
     "experiment_name": "tuned_1v2:oracle.run2",
     "labels_source": [
      "3123D52",
      "3123D65",
      "3123D79",
      "3123D80",
      "3123D54",
      "3123D70",
      "3123D7B",
      "3123D89",
      "3123D58",
      "3123D76",
      "3123D7D",
      "3123EFE",
      "3123D64",
      "3123D78",
      "3123D7E",
      "3124E4A"
     ],
     "labels_target": [
      "3123D52",
      "3123D65",
      "3123D79",
      "3123D80",
      "3123D54",
      "3123D70",
      "3123D7B",
      "3123D89",
      "3123D58",
      "3123D76",
      "3123D7D",
      "3123EFE",
      "3123D64",
      "3123D78",
      "3123D7E",
      "3124E4A"
     ],
     "lr": 0.0001,
     "n_epoch": 50,
     "n_query": 2,
     "n_shot": 3,
     "n_way": 16,
     "num_examples_per_domain_per_label_source": -1,
     "num_examples_per_domain_per_label_target": -1,
     "patience": 3,
     "pickle_name": "oracle.Run2_10kExamples_stratified_ds.2022A.pkl",
     "seed": 1337,
     "test_k_factor": 2,
     "torch_default_dtype": "torch.float32",
     "train_k_factor": 3,
     "val_k_factor": 2,
     "x_net": [
      {
       "class": "nnReshape",
       "kargs": {
        "shape": [
         -1,
         1,
         2,
         256
        ]
       }
      },
      {
       "class": "Conv2d",
       "kargs": {
        "bias": false,
        "in_channels": 1,
        "kernel_size": [
         1,
         7
        ],
        "out_channels": 256,
        "padding": [
         0,
         3
        ]
       }
      },
      {
       "class": "ReLU",
       "kargs": {
        "inplace": true
       }
      },
      {
       "class": "BatchNorm2d",
       "kargs": {
        "num_features": 256
       }
      },
      {
       "class": "Conv2d",
       "kargs": {
        "bias": true,
        "in_channels": 256,
        "kernel_size": [
         2,
         7
        ],
        "out_channels": 80,
        "padding": [
         0,
         3
        ]
       }
      },
      {
       "class": "ReLU",
       "kargs": {
        "inplace": true
       }
      },
      {
       "class": "BatchNorm2d",
       "kargs": {
        "num_features": 80
       }
      },
      {
       "class": "Flatten",
       "kargs": {}
      },
      {
       "class": "Linear",
       "kargs": {
        "in_features": 20480,
        "out_features": 256
       }
      },
      {
       "class": "ReLU",
       "kargs": {
        "inplace": true
       }
      },
      {
       "class": "BatchNorm1d",
       "kargs": {
        "num_features": 256
       }
      },
      {
       "class": "Linear",
       "kargs": {
        "in_features": 256,
        "out_features": 256
       }
      }
     ],
     "x_transforms_source": [
      "unit_mag"
     ],
     "x_transforms_target": [
      "unit_mag"
     ]
    }
   },
   "start_time": "2022-03-21T06:53:53.771687",
   "version": "2.3.4"
  }
 },
 "nbformat": 4,
 "nbformat_minor": 5
}