{
 "cells": [
  {
   "cell_type": "markdown",
   "id": "9fea5f46",
   "metadata": {
    "papermill": {
     "duration": 0.014349,
     "end_time": "2022-03-21T21:59:34.265187",
     "exception": false,
     "start_time": "2022-03-21T21:59:34.250838",
     "status": "completed"
    },
    "tags": []
   },
   "source": [
    "# PTN Template\n",
    "This notebook serves as a template for single dataset PTN experiments  \n",
    "It can be run on its own by setting STANDALONE to True (do a find for \"STANDALONE\" to see where)  \n",
    "But it is intended to be executed as part of a *papermill.py script. See any of the   \n",
    "experimentes with a papermill script to get started with that workflow.  "
   ]
  },
  {
   "cell_type": "code",
   "execution_count": 1,
   "id": "0902182a",
   "metadata": {
    "execution": {
     "iopub.execute_input": "2022-03-21T21:59:34.296088Z",
     "iopub.status.busy": "2022-03-21T21:59:34.295824Z",
     "iopub.status.idle": "2022-03-21T21:59:35.199489Z",
     "shell.execute_reply": "2022-03-21T21:59:35.199707Z"
    },
    "papermill": {
     "duration": 0.925569,
     "end_time": "2022-03-21T21:59:35.199810",
     "exception": false,
     "start_time": "2022-03-21T21:59:34.274241",
     "status": "completed"
    },
    "tags": []
   },
   "outputs": [],
   "source": [
    "%load_ext autoreload\n",
    "%autoreload 2\n",
    "%matplotlib inline\n",
    "\n",
    "    \n",
    "import os, json, sys, time, random\n",
    "import numpy as np\n",
    "import torch\n",
    "from torch.optim import Adam\n",
    "from  easydict import EasyDict\n",
    "import matplotlib.pyplot as plt\n",
    "\n",
    "from steves_models.steves_ptn import Steves_Prototypical_Network\n",
    "\n",
    "from steves_utils.lazy_iterable_wrapper import Lazy_Iterable_Wrapper\n",
    "from steves_utils.iterable_aggregator import Iterable_Aggregator\n",
    "from steves_utils.ptn_train_eval_test_jig import  PTN_Train_Eval_Test_Jig\n",
    "from steves_utils.torch_sequential_builder import build_sequential\n",
    "from steves_utils.torch_utils import get_dataset_metrics, ptn_confusion_by_domain_over_dataloader\n",
    "from steves_utils.utils_v2 import (per_domain_accuracy_from_confusion, get_datasets_base_path)\n",
    "from steves_utils.PTN.utils import independent_accuracy_assesment\n",
    "\n",
    "from steves_utils.stratified_dataset.episodic_accessor import Episodic_Accessor_Factory\n",
    "\n",
    "from steves_utils.ptn_do_report import (\n",
    "    get_loss_curve,\n",
    "    get_results_table,\n",
    "    get_parameters_table,\n",
    "    get_domain_accuracies,\n",
    ")\n",
    "\n",
    "from steves_utils.transforms import get_chained_transform"
   ]
  },
  {
   "cell_type": "markdown",
   "id": "41c840b4",
   "metadata": {
    "papermill": {
     "duration": 0.009145,
     "end_time": "2022-03-21T21:59:35.223310",
     "exception": false,
     "start_time": "2022-03-21T21:59:35.214165",
     "status": "completed"
    },
    "tags": []
   },
   "source": [
    "# Required Parameters\n",
    "These are allowed parameters, not defaults\n",
    "Each of these values need to be present in the injected parameters (the notebook will raise an exception if they are not present)\n",
    "\n",
    "Papermill uses the cell tag \"parameters\" to inject the real parameters below this cell.\n",
    "Enable tags to see what I mean"
   ]
  },
  {
   "cell_type": "code",
   "execution_count": 2,
   "id": "fd44eb83",
   "metadata": {
    "execution": {
     "iopub.execute_input": "2022-03-21T21:59:35.244707Z",
     "iopub.status.busy": "2022-03-21T21:59:35.244448Z",
     "iopub.status.idle": "2022-03-21T21:59:35.258236Z",
     "shell.execute_reply": "2022-03-21T21:59:35.258525Z"
    },
    "papermill": {
     "duration": 0.026239,
     "end_time": "2022-03-21T21:59:35.258607",
     "exception": false,
     "start_time": "2022-03-21T21:59:35.232368",
     "status": "completed"
    },
    "tags": []
   },
   "outputs": [],
   "source": [
    "required_parameters = {\n",
    "    \"experiment_name\",\n",
    "    \"lr\",\n",
    "    \"device\",\n",
    "    \"seed\",\n",
    "    \"dataset_seed\",\n",
    "    \"labels_source\",\n",
    "    \"labels_target\",\n",
    "    \"domains_source\",\n",
    "    \"domains_target\",\n",
    "    \"num_examples_per_domain_per_label_source\",\n",
    "    \"num_examples_per_domain_per_label_target\",\n",
    "    \"n_shot\",\n",
    "    \"n_way\",\n",
    "    \"n_query\",\n",
    "    \"train_k_factor\",\n",
    "    \"val_k_factor\",\n",
    "    \"test_k_factor\",\n",
    "    \"n_epoch\",\n",
    "    \"patience\",\n",
    "    \"criteria_for_best\",\n",
    "    \"x_transforms_source\",\n",
    "    \"x_transforms_target\",\n",
    "    \"episode_transforms_source\",\n",
    "    \"episode_transforms_target\",\n",
    "    \"pickle_name\",\n",
    "    \"x_net\",\n",
    "    \"NUM_LOGS_PER_EPOCH\",\n",
    "    \"BEST_MODEL_PATH\",\n",
    "    \"torch_default_dtype\"\n",
    "}"
   ]
  },
  {
   "cell_type": "code",
   "execution_count": 3,
   "id": "fa3f0049",
   "metadata": {
    "execution": {
     "iopub.execute_input": "2022-03-21T21:59:35.286789Z",
     "iopub.status.busy": "2022-03-21T21:59:35.286479Z",
     "iopub.status.idle": "2022-03-21T21:59:35.298613Z",
     "shell.execute_reply": "2022-03-21T21:59:35.298310Z"
    },
    "papermill": {
     "duration": 0.026902,
     "end_time": "2022-03-21T21:59:35.298683",
     "exception": false,
     "start_time": "2022-03-21T21:59:35.271781",
     "status": "completed"
    },
    "tags": [
     "parameters"
    ]
   },
   "outputs": [],
   "source": [
    "\n",
    "\n",
    "standalone_parameters = {}\n",
    "standalone_parameters[\"experiment_name\"] = \"STANDALONE PTN\"\n",
    "standalone_parameters[\"lr\"] = 0.0001\n",
    "standalone_parameters[\"device\"] = \"cuda\"\n",
    "\n",
    "standalone_parameters[\"seed\"] = 1337\n",
    "standalone_parameters[\"dataset_seed\"] = 1337\n",
    "\n",
    "\n",
    "standalone_parameters[\"num_examples_per_domain_per_label_source\"]=100\n",
    "standalone_parameters[\"num_examples_per_domain_per_label_target\"]=100\n",
    "\n",
    "standalone_parameters[\"n_shot\"] = 3\n",
    "standalone_parameters[\"n_query\"]  = 2\n",
    "standalone_parameters[\"train_k_factor\"] = 1\n",
    "standalone_parameters[\"val_k_factor\"] = 2\n",
    "standalone_parameters[\"test_k_factor\"] = 2\n",
    "\n",
    "\n",
    "standalone_parameters[\"n_epoch\"] = 100\n",
    "\n",
    "standalone_parameters[\"patience\"] = 10\n",
    "standalone_parameters[\"criteria_for_best\"] = \"target_accuracy\"\n",
    "\n",
    "standalone_parameters[\"x_transforms_source\"] = [\"unit_power\"]\n",
    "standalone_parameters[\"x_transforms_target\"] = [\"unit_power\"]\n",
    "standalone_parameters[\"episode_transforms_source\"] = []\n",
    "standalone_parameters[\"episode_transforms_target\"] = []\n",
    "\n",
    "standalone_parameters[\"torch_default_dtype\"] = \"torch.float32\" \n",
    "\n",
    "\n",
    "\n",
    "standalone_parameters[\"x_net\"] =     [\n",
    "    {\"class\": \"nnReshape\", \"kargs\": {\"shape\":[-1, 1, 2, 256]}},\n",
    "    {\"class\": \"Conv2d\", \"kargs\": { \"in_channels\":1, \"out_channels\":256, \"kernel_size\":(1,7), \"bias\":False, \"padding\":(0,3), },},\n",
    "    {\"class\": \"ReLU\", \"kargs\": {\"inplace\": True}},\n",
    "    {\"class\": \"BatchNorm2d\", \"kargs\": {\"num_features\":256}},\n",
    "\n",
    "    {\"class\": \"Conv2d\", \"kargs\": { \"in_channels\":256, \"out_channels\":80, \"kernel_size\":(2,7), \"bias\":True, \"padding\":(0,3), },},\n",
    "    {\"class\": \"ReLU\", \"kargs\": {\"inplace\": True}},\n",
    "    {\"class\": \"BatchNorm2d\", \"kargs\": {\"num_features\":80}},\n",
    "    {\"class\": \"Flatten\", \"kargs\": {}},\n",
    "\n",
    "    {\"class\": \"Linear\", \"kargs\": {\"in_features\": 80*256, \"out_features\": 256}}, # 80 units per IQ pair\n",
    "    {\"class\": \"ReLU\", \"kargs\": {\"inplace\": True}},\n",
    "    {\"class\": \"BatchNorm1d\", \"kargs\": {\"num_features\":256}},\n",
    "\n",
    "    {\"class\": \"Linear\", \"kargs\": {\"in_features\": 256, \"out_features\": 256}},\n",
    "]\n",
    "\n",
    "# Parameters relevant to results\n",
    "# These parameters will basically never need to change\n",
    "standalone_parameters[\"NUM_LOGS_PER_EPOCH\"] = 10\n",
    "standalone_parameters[\"BEST_MODEL_PATH\"] = \"./best_model.pth\"\n",
    "\n",
    "# uncomment for CORES dataset\n",
    "from steves_utils.CORES.utils import (\n",
    "    ALL_NODES,\n",
    "    ALL_NODES_MINIMUM_1000_EXAMPLES,\n",
    "    ALL_DAYS\n",
    ")\n",
    "\n",
    "\n",
    "standalone_parameters[\"labels_source\"] = ALL_NODES\n",
    "standalone_parameters[\"labels_target\"] = ALL_NODES\n",
    "\n",
    "standalone_parameters[\"domains_source\"] = [1]\n",
    "standalone_parameters[\"domains_target\"] = [2,3,4,5]\n",
    "\n",
    "standalone_parameters[\"pickle_name\"] = \"cores.stratified_ds.2022A.pkl\"\n",
    "\n",
    "\n",
    "# Uncomment these for ORACLE dataset\n",
    "# from steves_utils.ORACLE.utils_v2 import (\n",
    "#     ALL_DISTANCES_FEET,\n",
    "#     ALL_RUNS,\n",
    "#     ALL_SERIAL_NUMBERS,\n",
    "# )\n",
    "# standalone_parameters[\"labels_source\"] = ALL_SERIAL_NUMBERS\n",
    "# standalone_parameters[\"labels_target\"] = ALL_SERIAL_NUMBERS\n",
    "# standalone_parameters[\"domains_source\"] = [8,20, 38,50]\n",
    "# standalone_parameters[\"domains_target\"] = [14, 26, 32, 44, 56]\n",
    "# standalone_parameters[\"pickle_name\"] = \"oracle.frame_indexed.stratified_ds.2022A.pkl\"\n",
    "# standalone_parameters[\"num_examples_per_domain_per_label_source\"]=1000\n",
    "# standalone_parameters[\"num_examples_per_domain_per_label_target\"]=1000\n",
    "\n",
    "# Uncomment these for Metahan dataset\n",
    "# standalone_parameters[\"labels_source\"] = list(range(19))\n",
    "# standalone_parameters[\"labels_target\"] = list(range(19))\n",
    "# standalone_parameters[\"domains_source\"] = [0]\n",
    "# standalone_parameters[\"domains_target\"] = [1]\n",
    "# standalone_parameters[\"pickle_name\"] = \"metehan.stratified_ds.2022A.pkl\"\n",
    "# standalone_parameters[\"n_way\"]  = len(standalone_parameters[\"labels_source\"])\n",
    "# standalone_parameters[\"num_examples_per_domain_per_label_source\"]=200\n",
    "# standalone_parameters[\"num_examples_per_domain_per_label_target\"]=100\n",
    "\n",
    "\n",
    "standalone_parameters[\"n_way\"]  = len(standalone_parameters[\"labels_source\"])"
   ]
  },
  {
   "cell_type": "code",
   "execution_count": 4,
   "id": "e811bb0f",
   "metadata": {
    "execution": {
     "iopub.execute_input": "2022-03-21T21:59:35.329598Z",
     "iopub.status.busy": "2022-03-21T21:59:35.329207Z",
     "iopub.status.idle": "2022-03-21T21:59:35.341747Z",
     "shell.execute_reply": "2022-03-21T21:59:35.341364Z"
    },
    "papermill": {
     "duration": 0.029858,
     "end_time": "2022-03-21T21:59:35.341834",
     "exception": false,
     "start_time": "2022-03-21T21:59:35.311976",
     "status": "completed"
    },
    "tags": [
     "injected-parameters"
    ]
   },
   "outputs": [],
   "source": [
    "# Parameters\n",
    "parameters = {\n",
    "    \"experiment_name\": \"tuned_1v2:oracle.run2\",\n",
    "    \"device\": \"cuda\",\n",
    "    \"lr\": 0.0001,\n",
    "    \"labels_source\": [\n",
    "        \"3123D52\",\n",
    "        \"3123D65\",\n",
    "        \"3123D79\",\n",
    "        \"3123D80\",\n",
    "        \"3123D54\",\n",
    "        \"3123D70\",\n",
    "        \"3123D7B\",\n",
    "        \"3123D89\",\n",
    "        \"3123D58\",\n",
    "        \"3123D76\",\n",
    "        \"3123D7D\",\n",
    "        \"3123EFE\",\n",
    "        \"3123D64\",\n",
    "        \"3123D78\",\n",
    "        \"3123D7E\",\n",
    "        \"3124E4A\",\n",
    "    ],\n",
    "    \"labels_target\": [\n",
    "        \"3123D52\",\n",
    "        \"3123D65\",\n",
    "        \"3123D79\",\n",
    "        \"3123D80\",\n",
    "        \"3123D54\",\n",
    "        \"3123D70\",\n",
    "        \"3123D7B\",\n",
    "        \"3123D89\",\n",
    "        \"3123D58\",\n",
    "        \"3123D76\",\n",
    "        \"3123D7D\",\n",
    "        \"3123EFE\",\n",
    "        \"3123D64\",\n",
    "        \"3123D78\",\n",
    "        \"3123D7E\",\n",
    "        \"3124E4A\",\n",
    "    ],\n",
    "    \"episode_transforms_source\": [],\n",
    "    \"episode_transforms_target\": [],\n",
    "    \"domains_source\": [8, 32, 50],\n",
    "    \"domains_target\": [14, 20, 26, 38, 44],\n",
    "    \"num_examples_per_domain_per_label_source\": -1,\n",
    "    \"num_examples_per_domain_per_label_target\": -1,\n",
    "    \"n_shot\": 3,\n",
    "    \"n_way\": 16,\n",
    "    \"n_query\": 2,\n",
    "    \"train_k_factor\": 3,\n",
    "    \"val_k_factor\": 2,\n",
    "    \"test_k_factor\": 2,\n",
    "    \"torch_default_dtype\": \"torch.float32\",\n",
    "    \"n_epoch\": 50,\n",
    "    \"patience\": 3,\n",
    "    \"criteria_for_best\": \"target_accuracy\",\n",
    "    \"x_net\": [\n",
    "        {\"class\": \"nnReshape\", \"kargs\": {\"shape\": [-1, 1, 2, 256]}},\n",
    "        {\n",
    "            \"class\": \"Conv2d\",\n",
    "            \"kargs\": {\n",
    "                \"in_channels\": 1,\n",
    "                \"out_channels\": 256,\n",
    "                \"kernel_size\": [1, 7],\n",
    "                \"bias\": False,\n",
    "                \"padding\": [0, 3],\n",
    "            },\n",
    "        },\n",
    "        {\"class\": \"ReLU\", \"kargs\": {\"inplace\": True}},\n",
    "        {\"class\": \"BatchNorm2d\", \"kargs\": {\"num_features\": 256}},\n",
    "        {\n",
    "            \"class\": \"Conv2d\",\n",
    "            \"kargs\": {\n",
    "                \"in_channels\": 256,\n",
    "                \"out_channels\": 80,\n",
    "                \"kernel_size\": [2, 7],\n",
    "                \"bias\": True,\n",
    "                \"padding\": [0, 3],\n",
    "            },\n",
    "        },\n",
    "        {\"class\": \"ReLU\", \"kargs\": {\"inplace\": True}},\n",
    "        {\"class\": \"BatchNorm2d\", \"kargs\": {\"num_features\": 80}},\n",
    "        {\"class\": \"Flatten\", \"kargs\": {}},\n",
    "        {\"class\": \"Linear\", \"kargs\": {\"in_features\": 20480, \"out_features\": 256}},\n",
    "        {\"class\": \"ReLU\", \"kargs\": {\"inplace\": True}},\n",
    "        {\"class\": \"BatchNorm1d\", \"kargs\": {\"num_features\": 256}},\n",
    "        {\"class\": \"Linear\", \"kargs\": {\"in_features\": 256, \"out_features\": 256}},\n",
    "    ],\n",
    "    \"NUM_LOGS_PER_EPOCH\": 10,\n",
    "    \"BEST_MODEL_PATH\": \"./best_model.pth\",\n",
    "    \"pickle_name\": \"oracle.Run2_10kExamples_stratified_ds.2022A.pkl\",\n",
    "    \"x_transforms_source\": [\"unit_power\"],\n",
    "    \"x_transforms_target\": [\"unit_power\"],\n",
    "    \"dataset_seed\": 154325,\n",
    "    \"seed\": 154325,\n",
    "}\n"
   ]
  },
  {
   "cell_type": "code",
   "execution_count": 5,
   "id": "8fa1cc33",
   "metadata": {
    "execution": {
     "iopub.execute_input": "2022-03-21T21:59:35.369162Z",
     "iopub.status.busy": "2022-03-21T21:59:35.368903Z",
     "iopub.status.idle": "2022-03-21T21:59:35.383111Z",
     "shell.execute_reply": "2022-03-21T21:59:35.382757Z"
    },
    "papermill": {
     "duration": 0.027305,
     "end_time": "2022-03-21T21:59:35.383184",
     "exception": false,
     "start_time": "2022-03-21T21:59:35.355879",
     "status": "completed"
    },
    "tags": []
   },
   "outputs": [],
   "source": [
    "# Set this to True if you want to run this template directly\n",
    "STANDALONE = False\n",
    "if STANDALONE:\n",
    "    print(\"parameters not injected, running with standalone_parameters\")\n",
    "    parameters = standalone_parameters\n",
    "\n",
    "if not 'parameters' in locals() and not 'parameters' in globals():\n",
    "    raise Exception(\"Parameter injection failed\")\n",
    "\n",
    "#Use an easy dict for all the parameters\n",
    "p = EasyDict(parameters)\n",
    "\n",
    "supplied_keys = set(p.keys())\n",
    "\n",
    "if  supplied_keys != required_parameters:\n",
    "    print(\"Parameters are incorrect\")\n",
    "    if len(supplied_keys - required_parameters)>0: print(\"Shouldn't have:\", str(supplied_keys - required_parameters))\n",
    "    if len(required_parameters - supplied_keys)>0: print(\"Need to have:\", str(required_parameters - supplied_keys))\n",
    "    raise RuntimeError(\"Parameters are incorrect\")\n",
    "\n"
   ]
  },
  {
   "cell_type": "code",
   "execution_count": 6,
   "id": "3a028d58",
   "metadata": {
    "execution": {
     "iopub.execute_input": "2022-03-21T21:59:35.409340Z",
     "iopub.status.busy": "2022-03-21T21:59:35.409087Z",
     "iopub.status.idle": "2022-03-21T21:59:35.419399Z",
     "shell.execute_reply": "2022-03-21T21:59:35.419600Z"
    },
    "papermill": {
     "duration": 0.021543,
     "end_time": "2022-03-21T21:59:35.419657",
     "exception": false,
     "start_time": "2022-03-21T21:59:35.398114",
     "status": "completed"
    },
    "tags": []
   },
   "outputs": [],
   "source": [
    "###################################\n",
    "# Set the RNGs and make it all deterministic\n",
    "###################################\n",
    "np.random.seed(p.seed)\n",
    "random.seed(p.seed)\n",
    "torch.manual_seed(p.seed)\n",
    "\n",
    "torch.use_deterministic_algorithms(True) "
   ]
  },
  {
   "cell_type": "code",
   "execution_count": 7,
   "id": "b691acf6",
   "metadata": {
    "execution": {
     "iopub.execute_input": "2022-03-21T21:59:35.446334Z",
     "iopub.status.busy": "2022-03-21T21:59:35.446085Z",
     "iopub.status.idle": "2022-03-21T21:59:35.461021Z",
     "shell.execute_reply": "2022-03-21T21:59:35.460635Z"
    },
    "papermill": {
     "duration": 0.027533,
     "end_time": "2022-03-21T21:59:35.461108",
     "exception": false,
     "start_time": "2022-03-21T21:59:35.433575",
     "status": "completed"
    },
    "tags": []
   },
   "outputs": [],
   "source": [
    "###########################################\n",
    "# The stratified datasets honor this\n",
    "###########################################\n",
    "torch.set_default_dtype(eval(p.torch_default_dtype))"
   ]
  },
  {
   "cell_type": "code",
   "execution_count": 8,
   "id": "b5fba671",
   "metadata": {
    "execution": {
     "iopub.execute_input": "2022-03-21T21:59:35.486226Z",
     "iopub.status.busy": "2022-03-21T21:59:35.485984Z",
     "iopub.status.idle": "2022-03-21T21:59:35.525102Z",
     "shell.execute_reply": "2022-03-21T21:59:35.524717Z"
    },
    "papermill": {
     "duration": 0.050523,
     "end_time": "2022-03-21T21:59:35.525189",
     "exception": false,
     "start_time": "2022-03-21T21:59:35.474666",
     "status": "completed"
    },
    "tags": []
   },
   "outputs": [],
   "source": [
    "###################################\n",
    "# Build the network(s)\n",
    "# Note: It's critical to do this AFTER setting the RNG\n",
    "# (This is due to the randomized initial weights)\n",
    "###################################\n",
    "x_net = build_sequential(p.x_net)"
   ]
  },
  {
   "cell_type": "code",
   "execution_count": 9,
   "id": "5d7e61cc",
   "metadata": {
    "execution": {
     "iopub.execute_input": "2022-03-21T21:59:35.553282Z",
     "iopub.status.busy": "2022-03-21T21:59:35.553037Z",
     "iopub.status.idle": "2022-03-21T21:59:35.564588Z",
     "shell.execute_reply": "2022-03-21T21:59:35.564143Z"
    },
    "papermill": {
     "duration": 0.022851,
     "end_time": "2022-03-21T21:59:35.564676",
     "exception": false,
     "start_time": "2022-03-21T21:59:35.541825",
     "status": "completed"
    },
    "tags": []
   },
   "outputs": [],
   "source": [
    "start_time_secs = time.time()"
   ]
  },
  {
   "cell_type": "code",
   "execution_count": 10,
   "id": "fd5442bc",
   "metadata": {
    "execution": {
     "iopub.execute_input": "2022-03-21T21:59:35.597711Z",
     "iopub.status.busy": "2022-03-21T21:59:35.597448Z",
     "iopub.status.idle": "2022-03-21T22:00:56.973287Z",
     "shell.execute_reply": "2022-03-21T22:00:56.972882Z"
    },
    "papermill": {
     "duration": 81.394169,
     "end_time": "2022-03-21T22:00:56.973390",
     "exception": false,
     "start_time": "2022-03-21T21:59:35.579221",
     "status": "completed"
    },
    "tags": []
   },
   "outputs": [],
   "source": [
    "###################################\n",
    "# Build the dataset\n",
    "###################################\n",
    "\n",
    "if p.x_transforms_source == []: x_transform_source = None\n",
    "else: x_transform_source = get_chained_transform(p.x_transforms_source) \n",
    "\n",
    "if p.x_transforms_target == []: x_transform_target = None\n",
    "else: x_transform_target = get_chained_transform(p.x_transforms_target)\n",
    "\n",
    "if p.episode_transforms_source == []: episode_transform_source = None\n",
    "else: raise Exception(\"episode_transform_source not implemented\")\n",
    "\n",
    "if p.episode_transforms_target == []: episode_transform_target = None\n",
    "else: raise Exception(\"episode_transform_target not implemented\")\n",
    "\n",
    "\n",
    "eaf_source = Episodic_Accessor_Factory(\n",
    "    labels=p.labels_source,\n",
    "    domains=p.domains_source,\n",
    "    num_examples_per_domain_per_label=p.num_examples_per_domain_per_label_source,\n",
    "    iterator_seed=p.seed,\n",
    "    dataset_seed=p.dataset_seed,\n",
    "    n_shot=p.n_shot,\n",
    "    n_way=p.n_way,\n",
    "    n_query=p.n_query,\n",
    "    train_val_test_k_factors=(p.train_k_factor,p.val_k_factor,p.test_k_factor),\n",
    "    pickle_path=os.path.join(get_datasets_base_path(), p.pickle_name),\n",
    "    x_transform_func=x_transform_source,\n",
    "    example_transform_func=episode_transform_source,\n",
    "    \n",
    ")\n",
    "train_original_source, val_original_source, test_original_source = eaf_source.get_train(), eaf_source.get_val(), eaf_source.get_test()\n",
    "\n",
    "\n",
    "eaf_target = Episodic_Accessor_Factory(\n",
    "    labels=p.labels_target,\n",
    "    domains=p.domains_target,\n",
    "    num_examples_per_domain_per_label=p.num_examples_per_domain_per_label_target,\n",
    "    iterator_seed=p.seed,\n",
    "    dataset_seed=p.dataset_seed,\n",
    "    n_shot=p.n_shot,\n",
    "    n_way=p.n_way,\n",
    "    n_query=p.n_query,\n",
    "    train_val_test_k_factors=(p.train_k_factor,p.val_k_factor,p.test_k_factor),\n",
    "    pickle_path=os.path.join(get_datasets_base_path(), p.pickle_name),\n",
    "    x_transform_func=x_transform_target,\n",
    "    example_transform_func=episode_transform_target,\n",
    ")\n",
    "train_original_target, val_original_target, test_original_target = eaf_target.get_train(), eaf_target.get_val(), eaf_target.get_test()\n",
    "\n",
    "\n",
    "transform_lambda = lambda ex: ex[1] # Original is (<domain>, <episode>) so we strip down to episode only\n",
    "\n",
    "train_processed_source = Lazy_Iterable_Wrapper(train_original_source, transform_lambda)\n",
    "val_processed_source   = Lazy_Iterable_Wrapper(val_original_source, transform_lambda)\n",
    "test_processed_source  = Lazy_Iterable_Wrapper(test_original_source, transform_lambda)\n",
    "\n",
    "train_processed_target = Lazy_Iterable_Wrapper(train_original_target, transform_lambda)\n",
    "val_processed_target   = Lazy_Iterable_Wrapper(val_original_target, transform_lambda)\n",
    "test_processed_target  = Lazy_Iterable_Wrapper(test_original_target, transform_lambda)\n",
    "\n",
    "datasets = EasyDict({\n",
    "    \"source\": {\n",
    "        \"original\": {\"train\":train_original_source, \"val\":val_original_source, \"test\":test_original_source},\n",
    "        \"processed\": {\"train\":train_processed_source, \"val\":val_processed_source, \"test\":test_processed_source}\n",
    "    },\n",
    "    \"target\": {\n",
    "        \"original\": {\"train\":train_original_target, \"val\":val_original_target, \"test\":test_original_target},\n",
    "        \"processed\": {\"train\":train_processed_target, \"val\":val_processed_target, \"test\":test_processed_target}\n",
    "    },\n",
    "})"
   ]
  },
  {
   "cell_type": "code",
   "execution_count": 11,
   "id": "296189d9",
   "metadata": {
    "execution": {
     "iopub.execute_input": "2022-03-21T22:00:57.003918Z",
     "iopub.status.busy": "2022-03-21T22:00:57.003637Z",
     "iopub.status.idle": "2022-03-21T22:00:58.956917Z",
     "shell.execute_reply": "2022-03-21T22:00:58.956169Z"
    },
    "papermill": {
     "duration": 1.967046,
     "end_time": "2022-03-21T22:00:58.957068",
     "exception": false,
     "start_time": "2022-03-21T22:00:56.990022",
     "status": "completed"
    },
    "tags": []
   },
   "outputs": [
    {
     "name": "stdout",
     "output_type": "stream",
     "text": [
      "Visually inspect these to see if they line up with expected values given the transforms\n",
      "x_transforms_source ['unit_power']\n",
      "x_transforms_target ['unit_power']\n",
      "Average magnitude, source: 0.8816321\n",
      "Average power, source: 1.0\n"
     ]
    },
    {
     "name": "stdout",
     "output_type": "stream",
     "text": [
      "Average magnitude, target: 0.879156\n",
      "Average power, target: 1.0\n"
     ]
    }
   ],
   "source": [
    "# Some quick unit tests on the data\n",
    "from steves_utils.transforms import get_average_power, get_average_magnitude\n",
    "\n",
    "q_x, q_y, s_x, s_y, truth = next(iter(train_processed_source))\n",
    "\n",
    "assert q_x.dtype == eval(p.torch_default_dtype)\n",
    "assert s_x.dtype == eval(p.torch_default_dtype)\n",
    "\n",
    "print(\"Visually inspect these to see if they line up with expected values given the transforms\")\n",
    "print('x_transforms_source', p.x_transforms_source)\n",
    "print('x_transforms_target', p.x_transforms_target)\n",
    "print(\"Average magnitude, source:\", get_average_magnitude(q_x[0].numpy()))\n",
    "print(\"Average power, source:\", get_average_power(q_x[0].numpy()))\n",
    "\n",
    "q_x, q_y, s_x, s_y, truth = next(iter(train_processed_target))\n",
    "print(\"Average magnitude, target:\", get_average_magnitude(q_x[0].numpy()))\n",
    "print(\"Average power, target:\", get_average_power(q_x[0].numpy()))\n"
   ]
  },
  {
   "cell_type": "code",
   "execution_count": 12,
   "id": "bbdacba1",
   "metadata": {
    "execution": {
     "iopub.execute_input": "2022-03-21T22:00:58.988192Z",
     "iopub.status.busy": "2022-03-21T22:00:58.987906Z",
     "iopub.status.idle": "2022-03-21T22:00:59.049022Z",
     "shell.execute_reply": "2022-03-21T22:00:59.048810Z"
    },
    "papermill": {
     "duration": 0.075242,
     "end_time": "2022-03-21T22:00:59.049078",
     "exception": false,
     "start_time": "2022-03-21T22:00:58.973836",
     "status": "completed"
    },
    "tags": []
   },
   "outputs": [
    {
     "name": "stdout",
     "output_type": "stream",
     "text": [
      "(2, 256)\n"
     ]
    }
   ],
   "source": [
    "###################################\n",
    "# Build the model\n",
    "###################################\n",
    "model = Steves_Prototypical_Network(x_net, device=p.device, x_shape=(2,256))\n",
    "optimizer = Adam(params=model.parameters(), lr=p.lr)"
   ]
  },
  {
   "cell_type": "code",
   "execution_count": 13,
   "id": "22b39ac5",
   "metadata": {
    "execution": {
     "iopub.execute_input": "2022-03-21T22:00:59.073587Z",
     "iopub.status.busy": "2022-03-21T22:00:59.073341Z",
     "iopub.status.idle": "2022-03-21T23:18:56.265558Z",
     "shell.execute_reply": "2022-03-21T23:18:56.265331Z"
    },
    "papermill": {
     "duration": 4677.206036,
     "end_time": "2022-03-21T23:18:56.265614",
     "exception": false,
     "start_time": "2022-03-21T22:00:59.059578",
     "status": "completed"
    },
    "tags": []
   },
   "outputs": [
    {
     "name": "stdout",
     "output_type": "stream",
     "text": [
      "epoch: 1, [batch: 1 / 12600], examples_per_second: 25.4892, train_label_loss: 2.7985, \n"
     ]
    },
    {
     "name": "stdout",
     "output_type": "stream",
     "text": [
      "epoch: 1, [batch: 1260 / 12600], examples_per_second: 3144.5037, train_label_loss: 1.5583, \n"
     ]
    },
    {
     "name": "stdout",
     "output_type": "stream",
     "text": [
      "epoch: 1, [batch: 2520 / 12600], examples_per_second: 3141.4455, train_label_loss: 1.1677, \n"
     ]
    },
    {
     "name": "stdout",
     "output_type": "stream",
     "text": [
      "epoch: 1, [batch: 3780 / 12600], examples_per_second: 3137.1387, train_label_loss: 1.3335, \n"
     ]
    },
    {
     "name": "stdout",
     "output_type": "stream",
     "text": [
      "epoch: 1, [batch: 5040 / 12600], examples_per_second: 3109.3954, train_label_loss: 1.1827, \n"
     ]
    },
    {
     "name": "stdout",
     "output_type": "stream",
     "text": [
      "epoch: 1, [batch: 6300 / 12600], examples_per_second: 3130.6566, train_label_loss: 1.4308, \n"
     ]
    },
    {
     "name": "stdout",
     "output_type": "stream",
     "text": [
      "epoch: 1, [batch: 7560 / 12600], examples_per_second: 3127.1278, train_label_loss: 1.3095, \n"
     ]
    },
    {
     "name": "stdout",
     "output_type": "stream",
     "text": [
      "epoch: 1, [batch: 8820 / 12600], examples_per_second: 3114.9980, train_label_loss: 1.1129, \n"
     ]
    },
    {
     "name": "stdout",
     "output_type": "stream",
     "text": [
      "epoch: 1, [batch: 10080 / 12600], examples_per_second: 3121.0174, train_label_loss: 1.2530, \n"
     ]
    },
    {
     "name": "stdout",
     "output_type": "stream",
     "text": [
      "epoch: 1, [batch: 11340 / 12600], examples_per_second: 3126.3461, train_label_loss: 0.9344, \n"
     ]
    },
    {
     "name": "stdout",
     "output_type": "stream",
     "text": [
      "=============================================================\n",
      "epoch: 1, source_val_acc_label: 0.6058, target_val_acc_label: 0.4908, source_val_label_loss: 1.0451, target_val_label_loss: 1.4958, \n",
      "=============================================================\n"
     ]
    },
    {
     "name": "stdout",
     "output_type": "stream",
     "text": [
      "New best\n"
     ]
    },
    {
     "name": "stdout",
     "output_type": "stream",
     "text": [
      "epoch: 2, [batch: 1 / 12600], examples_per_second: 2.2218, train_label_loss: 1.0558, \n"
     ]
    },
    {
     "name": "stdout",
     "output_type": "stream",
     "text": [
      "epoch: 2, [batch: 1260 / 12600], examples_per_second: 3149.2221, train_label_loss: 0.6424, \n"
     ]
    },
    {
     "name": "stdout",
     "output_type": "stream",
     "text": [
      "epoch: 2, [batch: 2520 / 12600], examples_per_second: 3172.0295, train_label_loss: 0.8609, \n"
     ]
    },
    {
     "name": "stdout",
     "output_type": "stream",
     "text": [
      "epoch: 2, [batch: 3780 / 12600], examples_per_second: 3155.9110, train_label_loss: 1.0551, \n"
     ]
    },
    {
     "name": "stdout",
     "output_type": "stream",
     "text": [
      "epoch: 2, [batch: 5040 / 12600], examples_per_second: 3141.8028, train_label_loss: 0.7373, \n"
     ]
    },
    {
     "name": "stdout",
     "output_type": "stream",
     "text": [
      "epoch: 2, [batch: 6300 / 12600], examples_per_second: 3155.9466, train_label_loss: 0.8137, \n"
     ]
    },
    {
     "name": "stdout",
     "output_type": "stream",
     "text": [
      "epoch: 2, [batch: 7560 / 12600], examples_per_second: 3167.0609, train_label_loss: 0.5345, \n"
     ]
    },
    {
     "name": "stdout",
     "output_type": "stream",
     "text": [
      "epoch: 2, [batch: 8820 / 12600], examples_per_second: 3157.9144, train_label_loss: 0.8560, \n"
     ]
    },
    {
     "name": "stdout",
     "output_type": "stream",
     "text": [
      "epoch: 2, [batch: 10080 / 12600], examples_per_second: 3158.6836, train_label_loss: 0.5780, \n"
     ]
    },
    {
     "name": "stdout",
     "output_type": "stream",
     "text": [
      "epoch: 2, [batch: 11340 / 12600], examples_per_second: 3151.4892, train_label_loss: 0.9885, \n"
     ]
    },
    {
     "name": "stdout",
     "output_type": "stream",
     "text": [
      "=============================================================\n",
      "epoch: 2, source_val_acc_label: 0.6834, target_val_acc_label: 0.5628, source_val_label_loss: 0.8285, target_val_label_loss: 1.2493, \n",
      "=============================================================\n"
     ]
    },
    {
     "name": "stdout",
     "output_type": "stream",
     "text": [
      "New best\n"
     ]
    },
    {
     "name": "stdout",
     "output_type": "stream",
     "text": [
      "epoch: 3, [batch: 1 / 12600], examples_per_second: 2.2304, train_label_loss: 0.2954, \n"
     ]
    },
    {
     "name": "stdout",
     "output_type": "stream",
     "text": [
      "epoch: 3, [batch: 1260 / 12600], examples_per_second: 3140.0126, train_label_loss: 0.8637, \n"
     ]
    },
    {
     "name": "stdout",
     "output_type": "stream",
     "text": [
      "epoch: 3, [batch: 2520 / 12600], examples_per_second: 3156.4553, train_label_loss: 0.4923, \n"
     ]
    },
    {
     "name": "stdout",
     "output_type": "stream",
     "text": [
      "epoch: 3, [batch: 3780 / 12600], examples_per_second: 3157.1712, train_label_loss: 0.4525, \n"
     ]
    },
    {
     "name": "stdout",
     "output_type": "stream",
     "text": [
      "epoch: 3, [batch: 5040 / 12600], examples_per_second: 3147.6328, train_label_loss: 0.8885, \n"
     ]
    },
    {
     "name": "stdout",
     "output_type": "stream",
     "text": [
      "epoch: 3, [batch: 6300 / 12600], examples_per_second: 3166.3778, train_label_loss: 0.4721, \n"
     ]
    },
    {
     "name": "stdout",
     "output_type": "stream",
     "text": [
      "epoch: 3, [batch: 7560 / 12600], examples_per_second: 3167.9936, train_label_loss: 0.9125, \n"
     ]
    },
    {
     "name": "stdout",
     "output_type": "stream",
     "text": [
      "epoch: 3, [batch: 8820 / 12600], examples_per_second: 3153.8507, train_label_loss: 0.6528, \n"
     ]
    },
    {
     "name": "stdout",
     "output_type": "stream",
     "text": [
      "epoch: 3, [batch: 10080 / 12600], examples_per_second: 3150.7325, train_label_loss: 0.6222, \n"
     ]
    },
    {
     "name": "stdout",
     "output_type": "stream",
     "text": [
      "epoch: 3, [batch: 11340 / 12600], examples_per_second: 3158.8536, train_label_loss: 0.4400, \n"
     ]
    },
    {
     "name": "stdout",
     "output_type": "stream",
     "text": [
      "=============================================================\n",
      "epoch: 3, source_val_acc_label: 0.6815, target_val_acc_label: 0.5661, source_val_label_loss: 0.8168, target_val_label_loss: 1.2149, \n",
      "=============================================================\n"
     ]
    },
    {
     "name": "stdout",
     "output_type": "stream",
     "text": [
      "New best\n"
     ]
    },
    {
     "name": "stdout",
     "output_type": "stream",
     "text": [
      "epoch: 4, [batch: 1 / 12600], examples_per_second: 2.2269, train_label_loss: 0.7557, \n"
     ]
    },
    {
     "name": "stdout",
     "output_type": "stream",
     "text": [
      "epoch: 4, [batch: 1260 / 12600], examples_per_second: 3138.3712, train_label_loss: 0.7286, \n"
     ]
    },
    {
     "name": "stdout",
     "output_type": "stream",
     "text": [
      "epoch: 4, [batch: 2520 / 12600], examples_per_second: 3170.1174, train_label_loss: 0.5370, \n"
     ]
    },
    {
     "name": "stdout",
     "output_type": "stream",
     "text": [
      "epoch: 4, [batch: 3780 / 12600], examples_per_second: 3157.3983, train_label_loss: 0.7219, \n"
     ]
    },
    {
     "name": "stdout",
     "output_type": "stream",
     "text": [
      "epoch: 4, [batch: 5040 / 12600], examples_per_second: 3139.2073, train_label_loss: 0.6943, \n"
     ]
    },
    {
     "name": "stdout",
     "output_type": "stream",
     "text": [
      "epoch: 4, [batch: 6300 / 12600], examples_per_second: 3154.3533, train_label_loss: 0.7904, \n"
     ]
    },
    {
     "name": "stdout",
     "output_type": "stream",
     "text": [
      "epoch: 4, [batch: 7560 / 12600], examples_per_second: 3163.7050, train_label_loss: 0.3038, \n"
     ]
    },
    {
     "name": "stdout",
     "output_type": "stream",
     "text": [
      "epoch: 4, [batch: 8820 / 12600], examples_per_second: 3146.6716, train_label_loss: 0.5620, \n"
     ]
    },
    {
     "name": "stdout",
     "output_type": "stream",
     "text": [
      "epoch: 4, [batch: 10080 / 12600], examples_per_second: 3153.8834, train_label_loss: 0.8634, \n"
     ]
    },
    {
     "name": "stdout",
     "output_type": "stream",
     "text": [
      "epoch: 4, [batch: 11340 / 12600], examples_per_second: 3151.3154, train_label_loss: 0.6242, \n"
     ]
    },
    {
     "name": "stdout",
     "output_type": "stream",
     "text": [
      "=============================================================\n",
      "epoch: 4, source_val_acc_label: 0.6991, target_val_acc_label: 0.5790, source_val_label_loss: 0.8026, target_val_label_loss: 1.2393, \n",
      "=============================================================\n"
     ]
    },
    {
     "name": "stdout",
     "output_type": "stream",
     "text": [
      "New best\n"
     ]
    },
    {
     "name": "stdout",
     "output_type": "stream",
     "text": [
      "epoch: 5, [batch: 1 / 12600], examples_per_second: 2.2228, train_label_loss: 0.5517, \n"
     ]
    },
    {
     "name": "stdout",
     "output_type": "stream",
     "text": [
      "epoch: 5, [batch: 1260 / 12600], examples_per_second: 3143.2424, train_label_loss: 0.7106, \n"
     ]
    },
    {
     "name": "stdout",
     "output_type": "stream",
     "text": [
      "epoch: 5, [batch: 2520 / 12600], examples_per_second: 3153.5423, train_label_loss: 0.4997, \n"
     ]
    },
    {
     "name": "stdout",
     "output_type": "stream",
     "text": [
      "epoch: 5, [batch: 3780 / 12600], examples_per_second: 3158.2122, train_label_loss: 0.4489, \n"
     ]
    },
    {
     "name": "stdout",
     "output_type": "stream",
     "text": [
      "epoch: 5, [batch: 5040 / 12600], examples_per_second: 3142.2970, train_label_loss: 0.3639, \n"
     ]
    },
    {
     "name": "stdout",
     "output_type": "stream",
     "text": [
      "epoch: 5, [batch: 6300 / 12600], examples_per_second: 3154.4005, train_label_loss: 0.3528, \n"
     ]
    },
    {
     "name": "stdout",
     "output_type": "stream",
     "text": [
      "epoch: 5, [batch: 7560 / 12600], examples_per_second: 3155.5515, train_label_loss: 0.5460, \n"
     ]
    },
    {
     "name": "stdout",
     "output_type": "stream",
     "text": [
      "epoch: 5, [batch: 8820 / 12600], examples_per_second: 3152.6873, train_label_loss: 0.7678, \n"
     ]
    },
    {
     "name": "stdout",
     "output_type": "stream",
     "text": [
      "epoch: 5, [batch: 10080 / 12600], examples_per_second: 3154.7581, train_label_loss: 0.4666, \n"
     ]
    },
    {
     "name": "stdout",
     "output_type": "stream",
     "text": [
      "epoch: 5, [batch: 11340 / 12600], examples_per_second: 3160.1873, train_label_loss: 0.5561, \n"
     ]
    },
    {
     "name": "stdout",
     "output_type": "stream",
     "text": [
      "=============================================================\n",
      "epoch: 5, source_val_acc_label: 0.7012, target_val_acc_label: 0.5826, source_val_label_loss: 0.8095, target_val_label_loss: 1.2593, \n",
      "=============================================================\n"
     ]
    },
    {
     "name": "stdout",
     "output_type": "stream",
     "text": [
      "New best\n"
     ]
    },
    {
     "name": "stdout",
     "output_type": "stream",
     "text": [
      "epoch: 6, [batch: 1 / 12600], examples_per_second: 2.2336, train_label_loss: 0.3913, \n"
     ]
    },
    {
     "name": "stdout",
     "output_type": "stream",
     "text": [
      "epoch: 6, [batch: 1260 / 12600], examples_per_second: 3130.1317, train_label_loss: 0.6216, \n"
     ]
    },
    {
     "name": "stdout",
     "output_type": "stream",
     "text": [
      "epoch: 6, [batch: 2520 / 12600], examples_per_second: 3154.5238, train_label_loss: 0.5002, \n"
     ]
    },
    {
     "name": "stdout",
     "output_type": "stream",
     "text": [
      "epoch: 6, [batch: 3780 / 12600], examples_per_second: 3160.2980, train_label_loss: 0.3812, \n"
     ]
    },
    {
     "name": "stdout",
     "output_type": "stream",
     "text": [
      "epoch: 6, [batch: 5040 / 12600], examples_per_second: 3143.6336, train_label_loss: 0.4600, \n"
     ]
    },
    {
     "name": "stdout",
     "output_type": "stream",
     "text": [
      "epoch: 6, [batch: 6300 / 12600], examples_per_second: 3154.5959, train_label_loss: 1.1600, \n"
     ]
    },
    {
     "name": "stdout",
     "output_type": "stream",
     "text": [
      "epoch: 6, [batch: 7560 / 12600], examples_per_second: 3149.2009, train_label_loss: 0.4356, \n"
     ]
    },
    {
     "name": "stdout",
     "output_type": "stream",
     "text": [
      "epoch: 6, [batch: 8820 / 12600], examples_per_second: 3147.0130, train_label_loss: 0.1585, \n"
     ]
    },
    {
     "name": "stdout",
     "output_type": "stream",
     "text": [
      "epoch: 6, [batch: 10080 / 12600], examples_per_second: 3153.4432, train_label_loss: 0.3476, \n"
     ]
    },
    {
     "name": "stdout",
     "output_type": "stream",
     "text": [
      "epoch: 6, [batch: 11340 / 12600], examples_per_second: 3161.8263, train_label_loss: 0.4784, \n"
     ]
    },
    {
     "name": "stdout",
     "output_type": "stream",
     "text": [
      "=============================================================\n",
      "epoch: 6, source_val_acc_label: 0.7056, target_val_acc_label: 0.5851, source_val_label_loss: 0.8329, target_val_label_loss: 1.3015, \n",
      "=============================================================\n"
     ]
    },
    {
     "name": "stdout",
     "output_type": "stream",
     "text": [
      "New best\n"
     ]
    },
    {
     "name": "stdout",
     "output_type": "stream",
     "text": [
      "epoch: 7, [batch: 1 / 12600], examples_per_second: 2.2284, train_label_loss: 0.5395, \n"
     ]
    },
    {
     "name": "stdout",
     "output_type": "stream",
     "text": [
      "epoch: 7, [batch: 1260 / 12600], examples_per_second: 3116.5810, train_label_loss: 0.2733, \n"
     ]
    },
    {
     "name": "stdout",
     "output_type": "stream",
     "text": [
      "epoch: 7, [batch: 2520 / 12600], examples_per_second: 3151.5282, train_label_loss: 0.5013, \n"
     ]
    },
    {
     "name": "stdout",
     "output_type": "stream",
     "text": [
      "epoch: 7, [batch: 3780 / 12600], examples_per_second: 3151.2509, train_label_loss: 0.2646, \n"
     ]
    },
    {
     "name": "stdout",
     "output_type": "stream",
     "text": [
      "epoch: 7, [batch: 5040 / 12600], examples_per_second: 3141.4561, train_label_loss: 0.4596, \n"
     ]
    },
    {
     "name": "stdout",
     "output_type": "stream",
     "text": [
      "epoch: 7, [batch: 6300 / 12600], examples_per_second: 3151.0431, train_label_loss: 0.3971, \n"
     ]
    },
    {
     "name": "stdout",
     "output_type": "stream",
     "text": [
      "epoch: 7, [batch: 7560 / 12600], examples_per_second: 3155.0697, train_label_loss: 0.6506, \n"
     ]
    },
    {
     "name": "stdout",
     "output_type": "stream",
     "text": [
      "epoch: 7, [batch: 8820 / 12600], examples_per_second: 3152.4789, train_label_loss: 0.2906, \n"
     ]
    },
    {
     "name": "stdout",
     "output_type": "stream",
     "text": [
      "epoch: 7, [batch: 10080 / 12600], examples_per_second: 3160.2066, train_label_loss: 0.2094, \n"
     ]
    },
    {
     "name": "stdout",
     "output_type": "stream",
     "text": [
      "epoch: 7, [batch: 11340 / 12600], examples_per_second: 3156.2200, train_label_loss: 0.3681, \n"
     ]
    },
    {
     "name": "stdout",
     "output_type": "stream",
     "text": [
      "=============================================================\n",
      "epoch: 7, source_val_acc_label: 0.7088, target_val_acc_label: 0.5882, source_val_label_loss: 0.8608, target_val_label_loss: 1.3490, \n",
      "=============================================================\n"
     ]
    },
    {
     "name": "stdout",
     "output_type": "stream",
     "text": [
      "New best\n"
     ]
    },
    {
     "name": "stdout",
     "output_type": "stream",
     "text": [
      "epoch: 8, [batch: 1 / 12600], examples_per_second: 2.2217, train_label_loss: 0.5258, \n"
     ]
    },
    {
     "name": "stdout",
     "output_type": "stream",
     "text": [
      "epoch: 8, [batch: 1260 / 12600], examples_per_second: 3135.4679, train_label_loss: 0.2883, \n"
     ]
    },
    {
     "name": "stdout",
     "output_type": "stream",
     "text": [
      "epoch: 8, [batch: 2520 / 12600], examples_per_second: 3155.5699, train_label_loss: 0.5194, \n"
     ]
    },
    {
     "name": "stdout",
     "output_type": "stream",
     "text": [
      "epoch: 8, [batch: 3780 / 12600], examples_per_second: 3147.8683, train_label_loss: 0.6915, \n"
     ]
    },
    {
     "name": "stdout",
     "output_type": "stream",
     "text": [
      "epoch: 8, [batch: 5040 / 12600], examples_per_second: 3135.8386, train_label_loss: 0.5430, \n"
     ]
    },
    {
     "name": "stdout",
     "output_type": "stream",
     "text": [
      "epoch: 8, [batch: 6300 / 12600], examples_per_second: 3159.8478, train_label_loss: 0.2558, \n"
     ]
    },
    {
     "name": "stdout",
     "output_type": "stream",
     "text": [
      "epoch: 8, [batch: 7560 / 12600], examples_per_second: 3150.8347, train_label_loss: 0.4047, \n"
     ]
    },
    {
     "name": "stdout",
     "output_type": "stream",
     "text": [
      "epoch: 8, [batch: 8820 / 12600], examples_per_second: 3144.8010, train_label_loss: 0.2793, \n"
     ]
    },
    {
     "name": "stdout",
     "output_type": "stream",
     "text": [
      "epoch: 8, [batch: 10080 / 12600], examples_per_second: 3156.8622, train_label_loss: 0.2775, \n"
     ]
    },
    {
     "name": "stdout",
     "output_type": "stream",
     "text": [
      "epoch: 8, [batch: 11340 / 12600], examples_per_second: 3161.3115, train_label_loss: 0.4210, \n"
     ]
    },
    {
     "name": "stdout",
     "output_type": "stream",
     "text": [
      "=============================================================\n",
      "epoch: 8, source_val_acc_label: 0.7017, target_val_acc_label: 0.5864, source_val_label_loss: 0.9021, target_val_label_loss: 1.4013, \n",
      "=============================================================\n"
     ]
    },
    {
     "name": "stdout",
     "output_type": "stream",
     "text": [
      "epoch: 9, [batch: 1 / 12600], examples_per_second: 2.2277, train_label_loss: 0.2839, \n"
     ]
    },
    {
     "name": "stdout",
     "output_type": "stream",
     "text": [
      "epoch: 9, [batch: 1260 / 12600], examples_per_second: 3138.1703, train_label_loss: 0.1601, \n"
     ]
    },
    {
     "name": "stdout",
     "output_type": "stream",
     "text": [
      "epoch: 9, [batch: 2520 / 12600], examples_per_second: 3152.0902, train_label_loss: 0.4171, \n"
     ]
    },
    {
     "name": "stdout",
     "output_type": "stream",
     "text": [
      "epoch: 9, [batch: 3780 / 12600], examples_per_second: 3157.2033, train_label_loss: 0.2020, \n"
     ]
    },
    {
     "name": "stdout",
     "output_type": "stream",
     "text": [
      "epoch: 9, [batch: 5040 / 12600], examples_per_second: 3141.9754, train_label_loss: 0.3366, \n"
     ]
    },
    {
     "name": "stdout",
     "output_type": "stream",
     "text": [
      "epoch: 9, [batch: 6300 / 12600], examples_per_second: 3149.2221, train_label_loss: 0.1286, \n"
     ]
    },
    {
     "name": "stdout",
     "output_type": "stream",
     "text": [
      "epoch: 9, [batch: 7560 / 12600], examples_per_second: 3161.2074, train_label_loss: 0.2776, \n"
     ]
    },
    {
     "name": "stdout",
     "output_type": "stream",
     "text": [
      "epoch: 9, [batch: 8820 / 12600], examples_per_second: 3148.7518, train_label_loss: 0.2626, \n"
     ]
    },
    {
     "name": "stdout",
     "output_type": "stream",
     "text": [
      "epoch: 9, [batch: 10080 / 12600], examples_per_second: 3157.4691, train_label_loss: 0.1516, \n"
     ]
    },
    {
     "name": "stdout",
     "output_type": "stream",
     "text": [
      "epoch: 9, [batch: 11340 / 12600], examples_per_second: 3147.1914, train_label_loss: 0.3082, \n"
     ]
    },
    {
     "name": "stdout",
     "output_type": "stream",
     "text": [
      "=============================================================\n",
      "epoch: 9, source_val_acc_label: 0.7124, target_val_acc_label: 0.5910, source_val_label_loss: 0.9250, target_val_label_loss: 1.4404, \n",
      "=============================================================\n"
     ]
    },
    {
     "name": "stdout",
     "output_type": "stream",
     "text": [
      "New best\n"
     ]
    },
    {
     "name": "stdout",
     "output_type": "stream",
     "text": [
      "epoch: 10, [batch: 1 / 12600], examples_per_second: 2.2132, train_label_loss: 0.3337, \n"
     ]
    },
    {
     "name": "stdout",
     "output_type": "stream",
     "text": [
      "epoch: 10, [batch: 1260 / 12600], examples_per_second: 3134.3793, train_label_loss: 0.1584, \n"
     ]
    },
    {
     "name": "stdout",
     "output_type": "stream",
     "text": [
      "epoch: 10, [batch: 2520 / 12600], examples_per_second: 3168.6027, train_label_loss: 0.2709, \n"
     ]
    },
    {
     "name": "stdout",
     "output_type": "stream",
     "text": [
      "epoch: 10, [batch: 3780 / 12600], examples_per_second: 3154.8062, train_label_loss: 0.3753, \n"
     ]
    },
    {
     "name": "stdout",
     "output_type": "stream",
     "text": [
      "epoch: 10, [batch: 5040 / 12600], examples_per_second: 3146.1168, train_label_loss: 0.3484, \n"
     ]
    },
    {
     "name": "stdout",
     "output_type": "stream",
     "text": [
      "epoch: 10, [batch: 6300 / 12600], examples_per_second: 3154.5752, train_label_loss: 0.1524, \n"
     ]
    },
    {
     "name": "stdout",
     "output_type": "stream",
     "text": [
      "epoch: 10, [batch: 7560 / 12600], examples_per_second: 3146.3290, train_label_loss: 0.2253, \n"
     ]
    },
    {
     "name": "stdout",
     "output_type": "stream",
     "text": [
      "epoch: 10, [batch: 8820 / 12600], examples_per_second: 3146.3130, train_label_loss: 0.3245, \n"
     ]
    },
    {
     "name": "stdout",
     "output_type": "stream",
     "text": [
      "epoch: 10, [batch: 10080 / 12600], examples_per_second: 3152.4680, train_label_loss: 0.2278, \n"
     ]
    },
    {
     "name": "stdout",
     "output_type": "stream",
     "text": [
      "epoch: 10, [batch: 11340 / 12600], examples_per_second: 3158.4802, train_label_loss: 0.3737, \n"
     ]
    },
    {
     "name": "stdout",
     "output_type": "stream",
     "text": [
      "=============================================================\n",
      "epoch: 10, source_val_acc_label: 0.7080, target_val_acc_label: 0.5865, source_val_label_loss: 0.9545, target_val_label_loss: 1.4857, \n",
      "=============================================================\n"
     ]
    },
    {
     "name": "stdout",
     "output_type": "stream",
     "text": [
      "epoch: 11, [batch: 1 / 12600], examples_per_second: 2.2343, train_label_loss: 0.1698, \n"
     ]
    },
    {
     "name": "stdout",
     "output_type": "stream",
     "text": [
      "epoch: 11, [batch: 1260 / 12600], examples_per_second: 3133.0368, train_label_loss: 0.5718, \n"
     ]
    },
    {
     "name": "stdout",
     "output_type": "stream",
     "text": [
      "epoch: 11, [batch: 2520 / 12600], examples_per_second: 3144.7444, train_label_loss: 0.4815, \n"
     ]
    },
    {
     "name": "stdout",
     "output_type": "stream",
     "text": [
      "epoch: 11, [batch: 3780 / 12600], examples_per_second: 3155.2869, train_label_loss: 0.1450, \n"
     ]
    },
    {
     "name": "stdout",
     "output_type": "stream",
     "text": [
      "epoch: 11, [batch: 5040 / 12600], examples_per_second: 3154.8785, train_label_loss: 0.3122, \n"
     ]
    },
    {
     "name": "stdout",
     "output_type": "stream",
     "text": [
      "epoch: 11, [batch: 6300 / 12600], examples_per_second: 3151.6508, train_label_loss: 0.2814, \n"
     ]
    },
    {
     "name": "stdout",
     "output_type": "stream",
     "text": [
      "epoch: 11, [batch: 7560 / 12600], examples_per_second: 3156.0633, train_label_loss: 0.4796, \n"
     ]
    },
    {
     "name": "stdout",
     "output_type": "stream",
     "text": [
      "epoch: 11, [batch: 8820 / 12600], examples_per_second: 3146.2875, train_label_loss: 0.3763, \n"
     ]
    },
    {
     "name": "stdout",
     "output_type": "stream",
     "text": [
      "epoch: 11, [batch: 10080 / 12600], examples_per_second: 3152.8909, train_label_loss: 0.3010, \n"
     ]
    },
    {
     "name": "stdout",
     "output_type": "stream",
     "text": [
      "epoch: 11, [batch: 11340 / 12600], examples_per_second: 3152.9182, train_label_loss: 0.3196, \n"
     ]
    },
    {
     "name": "stdout",
     "output_type": "stream",
     "text": [
      "=============================================================\n",
      "epoch: 11, source_val_acc_label: 0.7042, target_val_acc_label: 0.5782, source_val_label_loss: 0.9935, target_val_label_loss: 1.5483, \n",
      "=============================================================\n"
     ]
    },
    {
     "name": "stdout",
     "output_type": "stream",
     "text": [
      "epoch: 12, [batch: 1 / 12600], examples_per_second: 2.2432, train_label_loss: 0.2002, \n"
     ]
    },
    {
     "name": "stdout",
     "output_type": "stream",
     "text": [
      "epoch: 12, [batch: 1260 / 12600], examples_per_second: 3123.3659, train_label_loss: 0.1212, \n"
     ]
    },
    {
     "name": "stdout",
     "output_type": "stream",
     "text": [
      "epoch: 12, [batch: 2520 / 12600], examples_per_second: 3153.3692, train_label_loss: 0.2996, \n"
     ]
    },
    {
     "name": "stdout",
     "output_type": "stream",
     "text": [
      "epoch: 12, [batch: 3780 / 12600], examples_per_second: 3154.9934, train_label_loss: 0.1765, \n"
     ]
    },
    {
     "name": "stdout",
     "output_type": "stream",
     "text": [
      "epoch: 12, [batch: 5040 / 12600], examples_per_second: 3144.1082, train_label_loss: 0.2674, \n"
     ]
    },
    {
     "name": "stdout",
     "output_type": "stream",
     "text": [
      "epoch: 12, [batch: 6300 / 12600], examples_per_second: 3160.2532, train_label_loss: 0.0697, \n"
     ]
    },
    {
     "name": "stdout",
     "output_type": "stream",
     "text": [
      "epoch: 12, [batch: 7560 / 12600], examples_per_second: 3162.2753, train_label_loss: 0.2322, \n"
     ]
    },
    {
     "name": "stdout",
     "output_type": "stream",
     "text": [
      "epoch: 12, [batch: 8820 / 12600], examples_per_second: 3153.7506, train_label_loss: 0.2109, \n"
     ]
    },
    {
     "name": "stdout",
     "output_type": "stream",
     "text": [
      "epoch: 12, [batch: 10080 / 12600], examples_per_second: 3158.6953, train_label_loss: 0.2110, \n"
     ]
    },
    {
     "name": "stdout",
     "output_type": "stream",
     "text": [
      "epoch: 12, [batch: 11340 / 12600], examples_per_second: 3156.6207, train_label_loss: 0.2918, \n"
     ]
    },
    {
     "name": "stdout",
     "output_type": "stream",
     "text": [
      "=============================================================\n",
      "epoch: 12, source_val_acc_label: 0.7016, target_val_acc_label: 0.5841, source_val_label_loss: 1.0561, target_val_label_loss: 1.6113, \n",
      "=============================================================\n"
     ]
    },
    {
     "name": "stdout",
     "output_type": "stream",
     "text": [
      "epoch: 13, [batch: 1 / 12600], examples_per_second: 2.2257, train_label_loss: 0.3294, \n"
     ]
    },
    {
     "name": "stdout",
     "output_type": "stream",
     "text": [
      "epoch: 13, [batch: 1260 / 12600], examples_per_second: 3146.4340, train_label_loss: 0.2719, \n"
     ]
    },
    {
     "name": "stdout",
     "output_type": "stream",
     "text": [
      "epoch: 13, [batch: 2520 / 12600], examples_per_second: 3153.6019, train_label_loss: 0.1376, \n"
     ]
    },
    {
     "name": "stdout",
     "output_type": "stream",
     "text": [
      "epoch: 13, [batch: 3780 / 12600], examples_per_second: 3168.0351, train_label_loss: 0.0381, \n"
     ]
    },
    {
     "name": "stdout",
     "output_type": "stream",
     "text": [
      "epoch: 13, [batch: 5040 / 12600], examples_per_second: 3139.6753, train_label_loss: 0.0835, \n"
     ]
    },
    {
     "name": "stdout",
     "output_type": "stream",
     "text": [
      "epoch: 13, [batch: 6300 / 12600], examples_per_second: 3153.1511, train_label_loss: 0.3213, \n"
     ]
    },
    {
     "name": "stdout",
     "output_type": "stream",
     "text": [
      "epoch: 13, [batch: 7560 / 12600], examples_per_second: 3156.2805, train_label_loss: 0.1605, \n"
     ]
    },
    {
     "name": "stdout",
     "output_type": "stream",
     "text": [
      "epoch: 13, [batch: 8820 / 12600], examples_per_second: 3148.8519, train_label_loss: 0.0102, \n"
     ]
    },
    {
     "name": "stdout",
     "output_type": "stream",
     "text": [
      "epoch: 13, [batch: 10080 / 12600], examples_per_second: 3163.6580, train_label_loss: 0.3310, \n"
     ]
    },
    {
     "name": "stdout",
     "output_type": "stream",
     "text": [
      "epoch: 13, [batch: 11340 / 12600], examples_per_second: 3163.2671, train_label_loss: 0.0211, \n"
     ]
    },
    {
     "name": "stdout",
     "output_type": "stream",
     "text": [
      "=============================================================\n",
      "epoch: 13, source_val_acc_label: 0.7087, target_val_acc_label: 0.5848, source_val_label_loss: 1.0807, target_val_label_loss: 1.6504, \n",
      "=============================================================\n"
     ]
    },
    {
     "name": "stdout",
     "output_type": "stream",
     "text": [
      "Patience (3) exhausted\n"
     ]
    }
   ],
   "source": [
    "###################################\n",
    "# train\n",
    "###################################\n",
    "jig = PTN_Train_Eval_Test_Jig(model, p.BEST_MODEL_PATH, p.device)\n",
    "\n",
    "jig.train(\n",
    "    train_iterable=datasets.source.processed.train,\n",
    "    source_val_iterable=datasets.source.processed.val,\n",
    "    target_val_iterable=datasets.target.processed.val,\n",
    "    num_epochs=p.n_epoch,\n",
    "    num_logs_per_epoch=p.NUM_LOGS_PER_EPOCH,\n",
    "    patience=p.patience,\n",
    "    optimizer=optimizer,\n",
    "    criteria_for_best=p.criteria_for_best,\n",
    ")"
   ]
  },
  {
   "cell_type": "code",
   "execution_count": 14,
   "id": "31e8fabf",
   "metadata": {
    "execution": {
     "iopub.execute_input": "2022-03-21T23:18:56.341964Z",
     "iopub.status.busy": "2022-03-21T23:18:56.341625Z",
     "iopub.status.idle": "2022-03-21T23:18:56.359638Z",
     "shell.execute_reply": "2022-03-21T23:18:56.359228Z"
    },
    "papermill": {
     "duration": 0.057369,
     "end_time": "2022-03-21T23:18:56.359728",
     "exception": false,
     "start_time": "2022-03-21T23:18:56.302359",
     "status": "completed"
    },
    "tags": []
   },
   "outputs": [],
   "source": [
    "total_experiment_time_secs = time.time() - start_time_secs"
   ]
  },
  {
   "cell_type": "code",
   "execution_count": 15,
   "id": "87b9595b",
   "metadata": {
    "execution": {
     "iopub.execute_input": "2022-03-21T23:18:56.441066Z",
     "iopub.status.busy": "2022-03-21T23:18:56.440754Z",
     "iopub.status.idle": "2022-03-21T23:23:00.572041Z",
     "shell.execute_reply": "2022-03-21T23:23:00.572444Z"
    },
    "papermill": {
     "duration": 244.172478,
     "end_time": "2022-03-21T23:23:00.572576",
     "exception": false,
     "start_time": "2022-03-21T23:18:56.400098",
     "status": "completed"
    },
    "tags": []
   },
   "outputs": [],
   "source": [
    "###################################\n",
    "# Evaluate the model\n",
    "###################################\n",
    "source_test_label_accuracy, source_test_label_loss = jig.test(datasets.source.processed.test)\n",
    "target_test_label_accuracy, target_test_label_loss = jig.test(datasets.target.processed.test)\n",
    "\n",
    "source_val_label_accuracy, source_val_label_loss = jig.test(datasets.source.processed.val)\n",
    "target_val_label_accuracy, target_val_label_loss = jig.test(datasets.target.processed.val)\n",
    "\n",
    "history = jig.get_history()\n",
    "\n",
    "total_epochs_trained = len(history[\"epoch_indices\"])\n",
    "\n",
    "val_dl = Iterable_Aggregator((datasets.source.original.val,datasets.target.original.val))\n",
    "\n",
    "confusion = ptn_confusion_by_domain_over_dataloader(model, p.device, val_dl)\n",
    "per_domain_accuracy = per_domain_accuracy_from_confusion(confusion)\n",
    "\n",
    "# Add a key to per_domain_accuracy for if it was a source domain\n",
    "for domain, accuracy in per_domain_accuracy.items():\n",
    "    per_domain_accuracy[domain] = {\n",
    "        \"accuracy\": accuracy,\n",
    "        \"source?\": domain in p.domains_source\n",
    "    }\n",
    "\n",
    "# Do an independent accuracy assesment JUST TO BE SURE!\n",
    "# _source_test_label_accuracy = independent_accuracy_assesment(model, datasets.source.processed.test, p.device)\n",
    "# _target_test_label_accuracy = independent_accuracy_assesment(model, datasets.target.processed.test, p.device)\n",
    "# _source_val_label_accuracy = independent_accuracy_assesment(model, datasets.source.processed.val, p.device)\n",
    "# _target_val_label_accuracy = independent_accuracy_assesment(model, datasets.target.processed.val, p.device)\n",
    "\n",
    "# assert(_source_test_label_accuracy == source_test_label_accuracy)\n",
    "# assert(_target_test_label_accuracy == target_test_label_accuracy)\n",
    "# assert(_source_val_label_accuracy == source_val_label_accuracy)\n",
    "# assert(_target_val_label_accuracy == target_val_label_accuracy)\n",
    "\n",
    "experiment = {\n",
    "    \"experiment_name\": p.experiment_name,\n",
    "    \"parameters\": dict(p),\n",
    "    \"results\": {\n",
    "        \"source_test_label_accuracy\": source_test_label_accuracy,\n",
    "        \"source_test_label_loss\": source_test_label_loss,\n",
    "        \"target_test_label_accuracy\": target_test_label_accuracy,\n",
    "        \"target_test_label_loss\": target_test_label_loss,\n",
    "        \"source_val_label_accuracy\": source_val_label_accuracy,\n",
    "        \"source_val_label_loss\": source_val_label_loss,\n",
    "        \"target_val_label_accuracy\": target_val_label_accuracy,\n",
    "        \"target_val_label_loss\": target_val_label_loss,\n",
    "        \"total_epochs_trained\": total_epochs_trained,\n",
    "        \"total_experiment_time_secs\": total_experiment_time_secs,\n",
    "        \"confusion\": confusion,\n",
    "        \"per_domain_accuracy\": per_domain_accuracy,\n",
    "    },\n",
    "    \"history\": history,\n",
    "    \"dataset_metrics\": get_dataset_metrics(datasets, \"ptn\"),\n",
    "}"
   ]
  },
  {
   "cell_type": "code",
   "execution_count": 16,
   "id": "54a21829",
   "metadata": {
    "execution": {
     "iopub.execute_input": "2022-03-21T23:23:00.689081Z",
     "iopub.status.busy": "2022-03-21T23:23:00.688707Z",
     "iopub.status.idle": "2022-03-21T23:23:00.818154Z",
     "shell.execute_reply": "2022-03-21T23:23:00.817689Z"
    },
    "papermill": {
     "duration": 0.176573,
     "end_time": "2022-03-21T23:23:00.818249",
     "exception": false,
     "start_time": "2022-03-21T23:23:00.641676",
     "status": "completed"
    },
    "tags": []
   },
   "outputs": [
    {
     "data": {
      "image/png": "[encoded data removed]",
      "text/plain": [
       "<Figure size 1080x504 with 1 Axes>"
      ]
     },
     "metadata": {
      "needs_background": "light"
     },
     "output_type": "display_data"
    }
   ],
   "source": [
    "ax = get_loss_curve(experiment)\n",
    "plt.show()"
   ]
  },
  {
   "cell_type": "code",
   "execution_count": 17,
   "id": "fd8a0f60",
   "metadata": {
    "execution": {
     "iopub.execute_input": "2022-03-21T23:23:00.901703Z",
     "iopub.status.busy": "2022-03-21T23:23:00.901451Z",
     "iopub.status.idle": "2022-03-21T23:23:01.044836Z",
     "shell.execute_reply": "2022-03-21T23:23:01.045052Z"
    },
    "papermill": {
     "duration": 0.184527,
     "end_time": "2022-03-21T23:23:01.045122",
     "exception": false,
     "start_time": "2022-03-21T23:23:00.860595",
     "status": "completed"
    },
    "tags": []
   },
   "outputs": [
    {
     "data": {
      "text/plain": [
       "<AxesSubplot:title={'center':'Results'}>"
      ]
     },
     "execution_count": 17,
     "metadata": {},
     "output_type": "execute_result"
    },
    {
     "data": {
      "image/png": "[encoded data removed]",
      "text/plain": [
       "<Figure size 1080x504 with 1 Axes>"
      ]
     },
     "metadata": {
      "needs_background": "light"
     },
     "output_type": "display_data"
    }
   ],
   "source": [
    "get_results_table(experiment)"
   ]
  },
  {
   "cell_type": "code",
   "execution_count": 18,
   "id": "cf8dc689",
   "metadata": {
    "execution": {
     "iopub.execute_input": "2022-03-21T23:23:01.128625Z",
     "iopub.status.busy": "2022-03-21T23:23:01.128372Z",
     "iopub.status.idle": "2022-03-21T23:23:01.246251Z",
     "shell.execute_reply": "2022-03-21T23:23:01.245872Z"
    },
    "papermill": {
     "duration": 0.160224,
     "end_time": "2022-03-21T23:23:01.246345",
     "exception": false,
     "start_time": "2022-03-21T23:23:01.086121",
     "status": "completed"
    },
    "tags": []
   },
   "outputs": [
    {
     "data": {
      "text/plain": [
       "<AxesSubplot:title={'center':'Per Domain Validation Accuracy'}, xlabel='domain'>"
      ]
     },
     "execution_count": 18,
     "metadata": {},
     "output_type": "execute_result"
    },
    {
     "data": {
      "image/png": "[encoded data removed]",
      "text/plain": [
       "<Figure size 1080x504 with 1 Axes>"
      ]
     },
     "metadata": {
      "needs_background": "light"
     },
     "output_type": "display_data"
    }
   ],
   "source": [
    "get_domain_accuracies(experiment)"
   ]
  },
  {
   "cell_type": "code",
   "execution_count": 19,
   "id": "a74ae082",
   "metadata": {
    "execution": {
     "iopub.execute_input": "2022-03-21T23:23:01.336803Z",
     "iopub.status.busy": "2022-03-21T23:23:01.336548Z",
     "iopub.status.idle": "2022-03-21T23:23:01.352613Z",
     "shell.execute_reply": "2022-03-21T23:23:01.352210Z"
    },
    "papermill": {
     "duration": 0.059393,
     "end_time": "2022-03-21T23:23:01.352705",
     "exception": false,
     "start_time": "2022-03-21T23:23:01.293312",
     "status": "completed"
    },
    "tags": []
   },
   "outputs": [
    {
     "name": "stdout",
     "output_type": "stream",
     "text": [
      "Source Test Label Accuracy: 0.7106597222222222 Target Test Label Accuracy: 0.5907395833333333\n",
      "Source Val Label Accuracy: 0.7124131944444444 Target Val Label Accuracy: 0.5909895833333333\n"
     ]
    }
   ],
   "source": [
    "print(\"Source Test Label Accuracy:\", experiment[\"results\"][\"source_test_label_accuracy\"], \"Target Test Label Accuracy:\", experiment[\"results\"][\"target_test_label_accuracy\"])\n",
    "print(\"Source Val Label Accuracy:\", experiment[\"results\"][\"source_val_label_accuracy\"], \"Target Val Label Accuracy:\", experiment[\"results\"][\"target_val_label_accuracy\"])"
   ]
  },
  {
   "cell_type": "code",
   "execution_count": 20,
   "id": "dacca602",
   "metadata": {
    "execution": {
     "iopub.execute_input": "2022-03-21T23:23:01.438390Z",
     "iopub.status.busy": "2022-03-21T23:23:01.438137Z",
     "iopub.status.idle": "2022-03-21T23:23:01.450525Z",
     "shell.execute_reply": "2022-03-21T23:23:01.450068Z"
    },
    "papermill": {
     "duration": 0.05516,
     "end_time": "2022-03-21T23:23:01.450617",
     "exception": false,
     "start_time": "2022-03-21T23:23:01.395457",
     "status": "completed"
    },
    "tags": [
     "experiment_json"
    ]
   },
   "outputs": [
    {
     "data": {
      "text/plain": [
       "'{\"experiment_name\": \"tuned_1v2:oracle.run2\", \"parameters\": {\"experiment_name\": \"tuned_1v2:oracle.run2\", \"device\": \"cuda\", \"lr\": 0.0001, \"labels_source\": [\"3123D52\", \"3123D65\", \"3123D79\", \"3123D80\", \"3123D54\", \"3123D70\", \"3123D7B\", \"3123D89\", \"3123D58\", \"3123D76\", \"3123D7D\", \"3123EFE\", \"3123D64\", \"3123D78\", \"3123D7E\", \"3124E4A\"], \"labels_target\": [\"3123D52\", \"3123D65\", \"3123D79\", \"3123D80\", \"3123D54\", \"3123D70\", \"3123D7B\", \"3123D89\", \"3123D58\", \"3123D76\", \"3123D7D\", \"3123EFE\", \"3123D64\", \"3123D78\", \"3123D7E\", \"3124E4A\"], \"episode_transforms_source\": [], \"episode_transforms_target\": [], \"domains_source\": [8, 32, 50], \"domains_target\": [14, 20, 26, 38, 44], \"num_examples_per_domain_per_label_source\": -1, \"num_examples_per_domain_per_label_target\": -1, \"n_shot\": 3, \"n_way\": 16, \"n_query\": 2, \"train_k_factor\": 3, \"val_k_factor\": 2, \"test_k_factor\": 2, \"torch_default_dtype\": \"torch.float32\", \"n_epoch\": 50, \"patience\": 3, \"criteria_for_best\": \"target_accuracy\", \"x_net\": [{\"class\": \"nnReshape\", \"kargs\": {\"shape\": [-1, 1, 2, 256]}}, {\"class\": \"Conv2d\", \"kargs\": {\"in_channels\": 1, \"out_channels\": 256, \"kernel_size\": [1, 7], \"bias\": false, \"padding\": [0, 3]}}, {\"class\": \"ReLU\", \"kargs\": {\"inplace\": true}}, {\"class\": \"BatchNorm2d\", \"kargs\": {\"num_features\": 256}}, {\"class\": \"Conv2d\", \"kargs\": {\"in_channels\": 256, \"out_channels\": 80, \"kernel_size\": [2, 7], \"bias\": true, \"padding\": [0, 3]}}, {\"class\": \"ReLU\", \"kargs\": {\"inplace\": true}}, {\"class\": \"BatchNorm2d\", \"kargs\": {\"num_features\": 80}}, {\"class\": \"Flatten\", \"kargs\": {}}, {\"class\": \"Linear\", \"kargs\": {\"in_features\": 20480, \"out_features\": 256}}, {\"class\": \"ReLU\", \"kargs\": {\"inplace\": true}}, {\"class\": \"BatchNorm1d\", \"kargs\": {\"num_features\": 256}}, {\"class\": \"Linear\", \"kargs\": {\"in_features\": 256, \"out_features\": 256}}], \"NUM_LOGS_PER_EPOCH\": 10, \"BEST_MODEL_PATH\": \"./best_model.pth\", \"pickle_name\": \"oracle.Run2_10kExamples_stratified_ds.2022A.pkl\", \"x_transforms_source\": [\"unit_power\"], \"x_transforms_target\": [\"unit_power\"], \"dataset_seed\": 154325, \"seed\": 154325}, \"results\": {\"source_test_label_accuracy\": 0.7106597222222222, \"source_test_label_loss\": 0.9220672249794006, \"target_test_label_accuracy\": 0.5907395833333333, \"target_test_label_loss\": 1.4315894842147827, \"source_val_label_accuracy\": 0.7124131944444444, \"source_val_label_loss\": 0.9249981045722961, \"target_val_label_accuracy\": 0.5909895833333333, \"target_val_label_loss\": 1.4404284954071045, \"total_epochs_trained\": 13, \"total_experiment_time_secs\": 4760.794754981995, \"confusion\": {\"32\": {\"13\": {\"4\": 168, \"13\": 547, \"8\": 88, \"7\": 177, \"11\": 105, \"0\": 57, \"5\": 29, \"3\": 26, \"2\": 3}, \"9\": {\"14\": 36, \"9\": 1163, \"12\": 1}, \"15\": {\"15\": 1177, \"8\": 22, \"5\": 1}, \"2\": {\"0\": 35, \"2\": 906, \"5\": 89, \"11\": 27, \"4\": 30, \"14\": 97, \"7\": 15, \"13\": 1}, \"3\": {\"3\": 1116, \"8\": 23, \"13\": 57, \"7\": 3, \"4\": 1}, \"8\": {\"4\": 53, \"8\": 813, \"0\": 67, \"13\": 97, \"5\": 117, \"11\": 9, \"3\": 37, \"2\": 2, \"15\": 4, \"7\": 1}, \"5\": {\"0\": 160, \"5\": 446, \"8\": 144, \"4\": 160, \"13\": 47, \"14\": 62, \"2\": 143, \"3\": 3, \"11\": 19, \"7\": 12, \"15\": 4}, \"14\": {\"14\": 1025, \"2\": 119, \"11\": 12, \"5\": 23, \"0\": 20, \"4\": 1}, \"1\": {\"1\": 1192, \"10\": 8}, \"0\": {\"0\": 510, \"5\": 188, \"13\": 57, \"11\": 137, \"4\": 143, \"8\": 83, \"2\": 50, \"14\": 13, \"7\": 19}, \"10\": {\"10\": 1195, \"1\": 5}, \"6\": {\"6\": 1200}, \"11\": {\"11\": 512, \"0\": 172, \"4\": 73, \"7\": 258, \"13\": 118, \"8\": 7, \"2\": 49, \"14\": 3, \"5\": 8}, \"7\": {\"11\": 275, \"13\": 163, \"7\": 624, \"0\": 24, \"4\": 91, \"2\": 16, \"5\": 6, \"3\": 1}, \"4\": {\"5\": 153, \"7\": 92, \"0\": 167, \"8\": 86, \"4\": 395, \"13\": 184, \"2\": 43, \"11\": 80}, \"12\": {\"12\": 1200}}, \"50\": {\"10\": {\"10\": 846, \"5\": 87, \"13\": 175, \"7\": 63, \"0\": 23, \"6\": 1, \"4\": 5}, \"12\": {\"12\": 1068, \"14\": 59, \"9\": 63, \"11\": 10}, \"1\": {\"1\": 831, \"15\": 86, \"6\": 248, \"4\": 24, \"2\": 4, \"11\": 3, \"5\": 3, \"0\": 1}, \"0\": {\"10\": 25, \"0\": 1068, \"2\": 91, \"1\": 3, \"4\": 4, \"5\": 8, \"6\": 1}, \"15\": {\"15\": 1047, \"1\": 71, \"6\": 24, \"11\": 54, \"4\": 2, \"14\": 2}, \"13\": {\"13\": 561, \"7\": 416, \"10\": 164, \"5\": 56, \"4\": 3}, \"8\": {\"8\": 1170, \"3\": 30}, \"3\": {\"3\": 1148, \"8\": 52}, \"11\": {\"11\": 1095, \"15\": 40, \"14\": 30, \"12\": 15, \"9\": 20}, \"4\": {\"4\": 594, \"5\": 301, \"6\": 238, \"10\": 11, \"1\": 45, \"7\": 6, \"13\": 3, \"0\": 1, \"15\": 1}, \"6\": {\"6\": 622, \"1\": 264, \"4\": 251, \"5\": 46, \"15\": 14, \"0\": 2, \"2\": 1}, \"7\": {\"13\": 464, \"7\": 532, \"5\": 108, \"10\": 82, \"4\": 13, \"8\": 1}, \"14\": {\"14\": 1154, \"12\": 30, \"11\": 16}, \"2\": {\"2\": 1127, \"0\": 73}, \"5\": {\"1\": 10, \"5\": 620, \"7\": 84, \"4\": 325, \"10\": 57, \"6\": 51, \"13\": 45, \"0\": 8}, \"9\": {\"9\": 1112, \"12\": 73, \"11\": 15}}, \"8\": {\"14\": {\"4\": 34, \"0\": 240, \"6\": 50, \"14\": 672, \"13\": 156, \"10\": 44, \"1\": 4}, \"10\": {\"0\": 199, \"10\": 735, \"13\": 77, \"5\": 121, \"1\": 23, \"14\": 45}, \"2\": {\"2\": 919, \"7\": 163, \"4\": 92, \"6\": 19, \"15\": 7}, \"8\": {\"8\": 907, \"11\": 147, \"15\": 103, \"4\": 4, \"7\": 17, \"6\": 17, \"13\": 5}, \"6\": {\"6\": 508, \"7\": 212, \"4\": 372, \"13\": 6, \"14\": 52, \"2\": 31, \"8\": 14, \"0\": 5}, \"7\": {\"4\": 296, \"7\": 495, \"2\": 174, \"6\": 212, \"8\": 13, \"15\": 6, \"13\": 1, \"14\": 2, \"11\": 1}, \"9\": {\"9\": 1199, \"5\": 1}, \"11\": {\"12\": 119, \"8\": 267, \"15\": 219, \"11\": 591, \"6\": 3, \"3\": 1}, \"12\": {\"12\": 861, \"3\": 174, \"11\": 46, \"15\": 119}, \"13\": {\"0\": 38, \"13\": 740, \"14\": 215, \"1\": 129, \"6\": 18, \"10\": 57, \"5\": 2, \"4\": 1}, \"0\": {\"14\": 221, \"0\": 748, \"13\": 21, \"10\": 193, \"4\": 8, \"6\": 7, \"5\": 1, \"1\": 1}, \"3\": {\"3\": 1027, \"12\": 162, \"15\": 10, \"11\": 1}, \"4\": {\"6\": 319, \"4\": 421, \"7\": 312, \"2\": 108, \"0\": 6, \"14\": 25, \"8\": 8, \"13\": 1}, \"15\": {\"15\": 655, \"8\": 124, \"12\": 173, \"11\": 217, \"7\": 9, \"3\": 18, \"4\": 1, \"2\": 2, \"6\": 1}, \"5\": {\"5\": 938, \"10\": 203, \"1\": 48, \"0\": 2, \"13\": 9}, \"1\": {\"1\": 1003, \"10\": 36, \"13\": 123, \"5\": 36, \"14\": 2}}, \"44\": {\"13\": {\"13\": 1107, \"4\": 52, \"14\": 6, \"6\": 26, \"9\": 6, \"5\": 3}, \"9\": {\"7\": 276, \"9\": 480, \"6\": 42, \"2\": 392, \"1\": 6, \"3\": 2, \"12\": 1, \"4\": 1}, \"15\": {\"15\": 1002, \"4\": 71, \"14\": 117, \"8\": 8, \"5\": 2}, \"2\": {\"1\": 7, \"7\": 230, \"2\": 605, \"9\": 346, \"6\": 2, \"3\": 10}, \"3\": {\"3\": 993, \"1\": 121, \"12\": 78, \"2\": 6, \"7\": 2}, \"8\": {\"0\": 489, \"8\": 668, \"5\": 30, \"15\": 10, \"14\": 3}, \"5\": {\"5\": 1041, \"14\": 135, \"8\": 16, \"0\": 6, \"15\": 1, \"4\": 1}, \"14\": {\"4\": 98, \"14\": 818, \"5\": 146, \"15\": 135, \"8\": 2, \"13\": 1}, \"1\": {\"1\": 665, \"3\": 173, \"12\": 350, \"10\": 9, \"7\": 3}, \"0\": {\"8\": 507, \"0\": 678, \"14\": 3, \"15\": 4, \"5\": 8}, \"10\": {\"10\": 1143, \"12\": 36, \"1\": 21}, \"6\": {\"6\": 1069, \"11\": 44, \"9\": 43, \"7\": 19, \"13\": 16, \"2\": 9}, \"11\": {\"11\": 1095, \"6\": 95, \"13\": 1, \"7\": 7, \"9\": 1, \"2\": 1}, \"7\": {\"7\": 602, \"2\": 312, \"9\": 255, \"1\": 8, \"3\": 3, \"6\": 18, \"11\": 2}, \"4\": {\"4\": 1046, \"14\": 81, \"13\": 30, \"15\": 43}, \"12\": {\"1\": 338, \"3\": 87, \"12\": 766, \"10\": 9}}, \"38\": {\"13\": {\"3\": 79, \"15\": 269, \"5\": 206, \"14\": 16, \"0\": 16, \"8\": 216, \"1\": 61, \"6\": 12, \"13\": 219, \"7\": 59, \"10\": 25, \"9\": 3, \"2\": 18, \"12\": 1}, \"12\": {\"12\": 1131, \"14\": 28, \"4\": 35, \"11\": 4, \"7\": 1, \"13\": 1}, \"2\": {\"2\": 1038, \"14\": 161, \"11\": 1}, \"9\": {\"6\": 402, \"9\": 771, \"3\": 14, \"0\": 13}, \"15\": {\"15\": 442, \"1\": 105, \"8\": 177, \"13\": 222, \"5\": 123, \"3\": 89, \"0\": 12, \"7\": 14, \"6\": 13, \"9\": 1, \"10\": 2}, \"5\": {\"8\": 293, \"7\": 134, \"5\": 381, \"15\": 134, \"13\": 194, \"3\": 27, \"10\": 31, \"1\": 3, \"0\": 3}, \"14\": {\"14\": 605, \"12\": 153, \"7\": 16, \"5\": 20, \"2\": 268, \"11\": 115, \"13\": 12, \"10\": 7, \"8\": 4}, \"0\": {\"0\": 868, \"3\": 281, \"15\": 5, \"7\": 6, \"10\": 21, \"9\": 11, \"6\": 6, \"8\": 1, \"5\": 1}, \"3\": {\"8\": 88, \"0\": 374, \"3\": 296, \"6\": 66, \"7\": 75, \"15\": 88, \"10\": 65, \"9\": 47, \"5\": 42, \"13\": 52, \"1\": 7}, \"1\": {\"1\": 1085, \"15\": 64, \"13\": 38, \"8\": 2, \"5\": 8, \"3\": 1, \"6\": 2}, \"11\": {\"11\": 977, \"12\": 98, \"14\": 114, \"2\": 8, \"4\": 3}, \"7\": {\"10\": 379, \"7\": 535, \"5\": 134, \"8\": 92, \"3\": 21, \"13\": 29, \"0\": 4, \"15\": 4, \"4\": 1, \"12\": 1}, \"8\": {\"3\": 47, \"8\": 339, \"10\": 26, \"5\": 329, \"13\": 184, \"15\": 179, \"7\": 89, \"1\": 5, \"6\": 1, \"0\": 1}, \"4\": {\"4\": 1102, \"12\": 94, \"7\": 3, \"10\": 1}, \"10\": {\"0\": 17, \"10\": 632, \"7\": 400, \"3\": 46, \"8\": 42, \"5\": 42, \"4\": 7, \"13\": 10, \"15\": 4}, \"6\": {\"6\": 777, \"9\": 408, \"0\": 3, \"1\": 1, \"3\": 11}}, \"26\": {\"10\": {\"10\": 335, \"1\": 177, \"9\": 18, \"14\": 173, \"6\": 118, \"8\": 95, \"0\": 178, \"4\": 64, \"12\": 8, \"7\": 14, \"15\": 4, \"2\": 11, \"5\": 4, \"3\": 1}, \"12\": {\"12\": 1196, \"11\": 4}, \"1\": {\"0\": 163, \"8\": 31, \"1\": 562, \"10\": 152, \"14\": 250, \"4\": 23, \"7\": 6, \"6\": 8, \"15\": 2, \"2\": 2, \"9\": 1}, \"0\": {\"0\": 290, \"1\": 180, \"14\": 233, \"10\": 159, \"15\": 8, \"8\": 109, \"5\": 3, \"4\": 156, \"7\": 25, \"9\": 10, \"2\": 20, \"3\": 4, \"6\": 3}, \"15\": {\"3\": 394, \"15\": 422, \"2\": 139, \"7\": 132, \"8\": 11, \"4\": 85, \"5\": 9, \"13\": 1, \"0\": 3, \"9\": 3, \"10\": 1}, \"13\": {\"13\": 741, \"9\": 115, \"5\": 270, \"2\": 4, \"6\": 53, \"7\": 8, \"8\": 8, \"10\": 1}, \"8\": {\"8\": 348, \"2\": 97, \"4\": 72, \"7\": 129, \"10\": 80, \"15\": 15, \"14\": 84, \"0\": 92, \"6\": 35, \"9\": 160, \"1\": 12, \"5\": 63, \"3\": 7, \"13\": 6}, \"3\": {\"3\": 524, \"2\": 110, \"15\": 372, \"8\": 1, \"7\": 103, \"4\": 79, \"5\": 7, \"14\": 2, \"0\": 2}, \"11\": {\"11\": 1197, \"12\": 3}, \"4\": {\"15\": 72, \"1\": 12, \"8\": 77, \"4\": 541, \"2\": 121, \"3\": 89, \"10\": 24, \"0\": 111, \"14\": 72, \"7\": 78, \"9\": 2, \"5\": 1}, \"6\": {\"6\": 768, \"5\": 64, \"8\": 42, \"10\": 96, \"14\": 14, \"9\": 131, \"0\": 8, \"1\": 7, \"13\": 70}, \"7\": {\"4\": 93, \"7\": 331, \"8\": 105, \"15\": 100, \"2\": 305, \"5\": 83, \"10\": 5, \"3\": 91, \"0\": 21, \"13\": 8, \"9\": 53, \"14\": 5}, \"14\": {\"1\": 281, \"8\": 113, \"10\": 177, \"0\": 245, \"14\": 264, \"4\": 70, \"6\": 12, \"5\": 1, \"2\": 14, \"7\": 16, \"9\": 6, \"15\": 1}, \"2\": {\"7\": 336, \"3\": 135, \"8\": 72, \"2\": 276, \"4\": 117, \"15\": 145, \"9\": 34, \"0\": 20, \"10\": 6, \"5\": 44, \"1\": 5, \"14\": 9, \"13\": 1}, \"5\": {\"13\": 276, \"2\": 62, \"9\": 170, \"7\": 123, \"14\": 5, \"5\": 317, \"8\": 40, \"6\": 150, \"3\": 27, \"15\": 22, \"4\": 4, \"10\": 4}, \"9\": {\"6\": 119, \"13\": 154, \"9\": 441, \"8\": 173, \"4\": 5, \"5\": 154, \"2\": 42, \"7\": 63, \"10\": 16, \"14\": 17, \"0\": 13, \"1\": 1, \"15\": 2}}, \"20\": {\"5\": {\"0\": 78, \"4\": 57, \"15\": 69, \"3\": 171, \"5\": 225, \"2\": 171, \"9\": 154, \"7\": 52, \"12\": 116, \"13\": 28, \"1\": 54, \"8\": 22, \"10\": 3}, \"15\": {\"0\": 57, \"2\": 111, \"9\": 121, \"3\": 25, \"15\": 312, \"1\": 117, \"13\": 289, \"5\": 65, \"12\": 100, \"4\": 2, \"7\": 1}, \"9\": {\"15\": 124, \"9\": 250, \"0\": 20, \"5\": 155, \"3\": 134, \"12\": 118, \"2\": 258, \"1\": 42, \"13\": 79, \"4\": 8, \"8\": 4, \"10\": 1, \"7\": 7}, \"7\": {\"7\": 738, \"11\": 4, \"5\": 24, \"8\": 148, \"10\": 44, \"3\": 169, \"6\": 24, \"2\": 24, \"9\": 14, \"14\": 8, \"4\": 2, \"15\": 1}, \"3\": {\"3\": 351, \"9\": 140, \"2\": 191, \"5\": 162, \"7\": 196, \"8\": 38, \"4\": 25, \"1\": 6, \"12\": 30, \"0\": 5, \"15\": 22, \"13\": 5, \"10\": 28, \"11\": 1}, \"8\": {\"14\": 187, \"7\": 158, \"10\": 197, \"8\": 490, \"3\": 49, \"4\": 58, \"6\": 36, \"5\": 15, \"0\": 2, \"2\": 4, \"9\": 2, \"12\": 2}, \"4\": {\"12\": 53, \"4\": 902, \"14\": 6, \"8\": 27, \"5\": 46, \"2\": 5, \"3\": 31, \"0\": 77, \"10\": 28, \"1\": 15, \"9\": 6, \"7\": 2, \"15\": 2}, \"6\": {\"7\": 39, \"6\": 991, \"8\": 39, \"14\": 99, \"10\": 31, \"11\": 1}, \"2\": {\"5\": 178, \"15\": 127, \"3\": 201, \"12\": 52, \"9\": 228, \"2\": 280, \"13\": 79, \"4\": 11, \"1\": 7, \"0\": 9, \"7\": 25, \"8\": 3}, \"12\": {\"13\": 23, \"1\": 216, \"12\": 303, \"9\": 101, \"4\": 65, \"15\": 132, \"2\": 55, \"0\": 152, \"3\": 32, \"5\": 121}, \"0\": {\"12\": 186, \"0\": 507, \"5\": 75, \"4\": 111, \"1\": 202, \"2\": 19, \"9\": 23, \"15\": 57, \"3\": 9, \"13\": 11}, \"13\": {\"13\": 722, \"15\": 257, \"2\": 87, \"9\": 55, \"5\": 17, \"1\": 28, \"3\": 8, \"0\": 4, \"12\": 21, \"7\": 1}, \"10\": {\"10\": 654, \"8\": 191, \"14\": 190, \"7\": 58, \"6\": 49, \"4\": 31, \"3\": 24, \"9\": 2, \"5\": 1}, \"11\": {\"11\": 1193, \"7\": 6, \"6\": 1}, \"14\": {\"14\": 657, \"8\": 182, \"6\": 132, \"10\": 213, \"7\": 7, \"4\": 8, \"5\": 1}, \"1\": {\"1\": 516, \"0\": 183, \"12\": 211, \"15\": 145, \"2\": 23, \"5\": 34, \"4\": 11, \"9\": 40, \"3\": 3, \"13\": 34}}, \"14\": {\"13\": {\"6\": 314, \"13\": 782, \"2\": 81, \"14\": 19, \"4\": 1, \"5\": 3}, \"4\": {\"4\": 592, \"5\": 353, \"2\": 96, \"3\": 84, \"1\": 57, \"14\": 10, \"6\": 8}, \"6\": {\"6\": 680, \"2\": 100, \"13\": 259, \"14\": 153, \"4\": 4, \"3\": 2, \"5\": 2}, \"0\": {\"0\": 1113, \"10\": 69, \"3\": 12, \"14\": 4, \"9\": 2}, \"10\": {\"10\": 1012, \"0\": 156, \"11\": 23, \"12\": 6, \"14\": 2, \"3\": 1}, \"7\": {\"7\": 1157, \"15\": 43}, \"14\": {\"14\": 756, \"2\": 114, \"6\": 175, \"4\": 22, \"0\": 15, \"3\": 74, \"13\": 28, \"5\": 16}, \"15\": {\"15\": 1120, \"7\": 77, \"13\": 2, \"2\": 1}, \"5\": {\"5\": 485, \"1\": 146, \"4\": 352, \"2\": 123, \"3\": 77, \"13\": 3, \"6\": 6, \"14\": 8}, \"2\": {\"13\": 155, \"2\": 443, \"14\": 184, \"5\": 144, \"1\": 4, \"4\": 100, \"6\": 65, \"3\": 92, \"15\": 7, \"0\": 2, \"7\": 4}, \"9\": {\"9\": 1183, \"11\": 7, \"12\": 8, \"0\": 2}, \"12\": {\"11\": 312, \"8\": 46, \"12\": 598, \"9\": 112, \"0\": 85, \"10\": 43, \"14\": 1, \"3\": 3}, \"8\": {\"8\": 1200}, \"3\": {\"3\": 881, \"5\": 81, \"4\": 131, \"6\": 1, \"2\": 36, \"14\": 54, \"1\": 9, \"0\": 6, \"8\": 1}, \"1\": {\"1\": 992, \"5\": 125, \"3\": 10, \"4\": 68, \"2\": 4, \"7\": 1}, \"11\": {\"11\": 1121, \"9\": 11, \"12\": 51, \"10\": 17}}}, \"per_domain_accuracy\": {\"32\": {\"accuracy\": 0.7302604166666666, \"source?\": true}, \"50\": {\"accuracy\": 0.76015625, \"source?\": true}, \"8\": {\"accuracy\": 0.6468229166666667, \"source?\": true}, \"44\": {\"accuracy\": 0.7176041666666667, \"source?\": false}, \"38\": {\"accuracy\": 0.5832291666666667, \"source?\": false}, \"26\": {\"accuracy\": 0.44546875, \"source?\": false}, \"20\": {\"accuracy\": 0.47348958333333335, \"source?\": false}, \"14\": {\"accuracy\": 0.73515625, \"source?\": false}}}, \"history\": {\"epoch_indices\": [1, 2, 3, 4, 5, 6, 7, 8, 9, 10, 11, 12, 13], \"train_label_loss\": [1.3395156305295135, 0.8313432061364726, 0.7025534043224558, 0.6226862131946144, 0.5508806351631407, 0.48344183114312944, 0.4237950139105438, 0.37109286788584933, 0.3237024332763302, 0.28424903376493604, 0.25075445694228016, 0.22183013209762673, 0.19905796480875107], \"source_val_label_loss\": [1.0450999736785889, 0.8284728527069092, 0.8167793154716492, 0.8026403784751892, 0.8095450401306152, 0.832900881767273, 0.8607665300369263, 0.9021055102348328, 0.9249981045722961, 0.9545477032661438, 0.9934751391410828, 1.056135654449463, 1.080682635307312], \"target_val_label_loss\": [1.4958291053771973, 1.2492512464523315, 1.2148782014846802, 1.2392637729644775, 1.2592841386795044, 1.3014779090881348, 1.3490393161773682, 1.4013413190841675, 1.4404284954071045, 1.4856982231140137, 1.5483208894729614, 1.611331582069397, 1.6503580808639526], \"source_val_acc_label\": [0.6058159722222223, 0.6833506944444444, 0.6815451388888889, 0.6990972222222223, 0.7011979166666666, 0.7056076388888889, 0.7088020833333334, 0.7017013888888889, 0.7124131944444444, 0.7080208333333333, 0.7042013888888888, 0.7015972222222222, 0.7086979166666667], \"target_val_acc_label\": [0.4908125, 0.5627708333333333, 0.566125, 0.5790416666666667, 0.5826354166666666, 0.5851145833333333, 0.5882083333333333, 0.5863854166666667, 0.5909895833333333, 0.5864791666666667, 0.57815625, 0.58409375, 0.5848229166666666]}, \"dataset_metrics\": {\"source\": {\"train\": {\"n_unique_x\": 336000, \"n_unique_y\": 16, \"n_batch/episode\": 12600}, \"val\": {\"n_unique_x\": 72000, \"n_unique_y\": 16, \"n_batch/episode\": 1800}, \"test\": {\"n_unique_x\": 72000, \"n_unique_y\": 16, \"n_batch/episode\": 1800}}, \"target\": {\"train\": {\"n_unique_x\": 560000, \"n_unique_y\": 16, \"n_batch/episode\": 21000}, \"val\": {\"n_unique_x\": 120000, \"n_unique_y\": 16, \"n_batch/episode\": 3000}, \"test\": {\"n_unique_x\": 120000, \"n_unique_y\": 16, \"n_batch/episode\": 3000}}}}'"
      ]
     },
     "execution_count": 20,
     "metadata": {},
     "output_type": "execute_result"
    }
   ],
   "source": [
    "json.dumps(experiment)"
   ]
  }
 ],
 "metadata": {
  "celltoolbar": "Tags",
  "kernelspec": {
   "display_name": "Python 3 (ipykernel)",
   "language": "python",
   "name": "python3"
  },
  "language_info": {
   "codemirror_mode": {
    "name": "ipython",
    "version": 3
   },
   "file_extension": ".py",
   "mimetype": "text/x-python",
   "name": "python",
   "nbconvert_exporter": "python",
   "pygments_lexer": "ipython3",
   "version": "3.8.10"
  },
  "papermill": {
   "default_parameters": {},
   "duration": 5010.764298,
   "end_time": "2022-03-21T23:23:04.207070",
   "environment_variables": {},
   "exception": null,
   "input_path": "/mnt/wd500GB/CSC500/csc500-main/csc500-notebooks/templates/ptn_template.ipynb",
   "output_path": "trial.ipynb",
   "parameters": {
    "parameters": {
     "BEST_MODEL_PATH": "./best_model.pth",
     "NUM_LOGS_PER_EPOCH": 10,
     "criteria_for_best": "target_accuracy",
     "dataset_seed": 154325,
     "device": "cuda",
     "domains_source": [
      8,
      32,
      50
     ],
     "domains_target": [
      14,
      20,
      26,
      38,
      44
     ],
     "episode_transforms_source": [],
     "episode_transforms_target": [],
     "experiment_name": "tuned_1v2:oracle.run2",
     "labels_source": [
      "3123D52",
      "3123D65",
      "3123D79",
      "3123D80",
      "3123D54",
      "3123D70",
      "3123D7B",
      "3123D89",
      "3123D58",
      "3123D76",
      "3123D7D",
      "3123EFE",
      "3123D64",
      "3123D78",
      "3123D7E",
      "3124E4A"
     ],
     "labels_target": [
      "3123D52",
      "3123D65",
      "3123D79",
      "3123D80",
      "3123D54",
      "3123D70",
      "3123D7B",
      "3123D89",
      "3123D58",
      "3123D76",
      "3123D7D",
      "3123EFE",
      "3123D64",
      "3123D78",
      "3123D7E",
      "3124E4A"
     ],
     "lr": 0.0001,
     "n_epoch": 50,
     "n_query": 2,
     "n_shot": 3,
     "n_way": 16,
     "num_examples_per_domain_per_label_source": -1,
     "num_examples_per_domain_per_label_target": -1,
     "patience": 3,
     "pickle_name": "oracle.Run2_10kExamples_stratified_ds.2022A.pkl",
     "seed": 154325,
     "test_k_factor": 2,
     "torch_default_dtype": "torch.float32",
     "train_k_factor": 3,
     "val_k_factor": 2,
     "x_net": [
      {
       "class": "nnReshape",
       "kargs": {
        "shape": [
         -1,
         1,
         2,
         256
        ]
       }
      },
      {
       "class": "Conv2d",
       "kargs": {
        "bias": false,
        "in_channels": 1,
        "kernel_size": [
         1,
         7
        ],
        "out_channels": 256,
        "padding": [
         0,
         3
        ]
       }
      },
      {
       "class": "ReLU",
       "kargs": {
        "inplace": true
       }
      },
      {
       "class": "BatchNorm2d",
       "kargs": {
        "num_features": 256
       }
      },
      {
       "class": "Conv2d",
       "kargs": {
        "bias": true,
        "in_channels": 256,
        "kernel_size": [
         2,
         7
        ],
        "out_channels": 80,
        "padding": [
         0,
         3
        ]
       }
      },
      {
       "class": "ReLU",
       "kargs": {
        "inplace": true
       }
      },
      {
       "class": "BatchNorm2d",
       "kargs": {
        "num_features": 80
       }
      },
      {
       "class": "Flatten",
       "kargs": {}
      },
      {
       "class": "Linear",
       "kargs": {
        "in_features": 20480,
        "out_features": 256
       }
      },
      {
       "class": "ReLU",
       "kargs": {
        "inplace": true
       }
      },
      {
       "class": "BatchNorm1d",
       "kargs": {
        "num_features": 256
       }
      },
      {
       "class": "Linear",
       "kargs": {
        "in_features": 256,
        "out_features": 256
       }
      }
     ],
     "x_transforms_source": [
      "unit_power"
     ],
     "x_transforms_target": [
      "unit_power"
     ]
    }
   },
   "start_time": "2022-03-21T21:59:33.442772",
   "version": "2.3.4"
  }
 },
 "nbformat": 4,
 "nbformat_minor": 5
}