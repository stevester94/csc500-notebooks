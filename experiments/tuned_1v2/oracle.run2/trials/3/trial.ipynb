{
 "cells": [
  {
   "cell_type": "markdown",
   "id": "9fea5f46",
   "metadata": {
    "papermill": {
     "duration": 0.014129,
     "end_time": "2022-03-21T08:23:35.207823",
     "exception": false,
     "start_time": "2022-03-21T08:23:35.193694",
     "status": "completed"
    },
    "tags": []
   },
   "source": [
    "# PTN Template\n",
    "This notebook serves as a template for single dataset PTN experiments  \n",
    "It can be run on its own by setting STANDALONE to True (do a find for \"STANDALONE\" to see where)  \n",
    "But it is intended to be executed as part of a *papermill.py script. See any of the   \n",
    "experimentes with a papermill script to get started with that workflow.  "
   ]
  },
  {
   "cell_type": "code",
   "execution_count": 1,
   "id": "0902182a",
   "metadata": {
    "execution": {
     "iopub.execute_input": "2022-03-21T08:23:35.238119Z",
     "iopub.status.busy": "2022-03-21T08:23:35.237643Z",
     "iopub.status.idle": "2022-03-21T08:23:36.169143Z",
     "shell.execute_reply": "2022-03-21T08:23:36.168635Z"
    },
    "papermill": {
     "duration": 0.952207,
     "end_time": "2022-03-21T08:23:36.169262",
     "exception": false,
     "start_time": "2022-03-21T08:23:35.217055",
     "status": "completed"
    },
    "tags": []
   },
   "outputs": [],
   "source": [
    "%load_ext autoreload\n",
    "%autoreload 2\n",
    "%matplotlib inline\n",
    "\n",
    "    \n",
    "import os, json, sys, time, random\n",
    "import numpy as np\n",
    "import torch\n",
    "from torch.optim import Adam\n",
    "from  easydict import EasyDict\n",
    "import matplotlib.pyplot as plt\n",
    "\n",
    "from steves_models.steves_ptn import Steves_Prototypical_Network\n",
    "\n",
    "from steves_utils.lazy_iterable_wrapper import Lazy_Iterable_Wrapper\n",
    "from steves_utils.iterable_aggregator import Iterable_Aggregator\n",
    "from steves_utils.ptn_train_eval_test_jig import  PTN_Train_Eval_Test_Jig\n",
    "from steves_utils.torch_sequential_builder import build_sequential\n",
    "from steves_utils.torch_utils import get_dataset_metrics, ptn_confusion_by_domain_over_dataloader\n",
    "from steves_utils.utils_v2 import (per_domain_accuracy_from_confusion, get_datasets_base_path)\n",
    "from steves_utils.PTN.utils import independent_accuracy_assesment\n",
    "\n",
    "from steves_utils.stratified_dataset.episodic_accessor import Episodic_Accessor_Factory\n",
    "\n",
    "from steves_utils.ptn_do_report import (\n",
    "    get_loss_curve,\n",
    "    get_results_table,\n",
    "    get_parameters_table,\n",
    "    get_domain_accuracies,\n",
    ")\n",
    "\n",
    "from steves_utils.transforms import get_chained_transform"
   ]
  },
  {
   "cell_type": "markdown",
   "id": "41c840b4",
   "metadata": {
    "papermill": {
     "duration": 0.012083,
     "end_time": "2022-03-21T08:23:36.201282",
     "exception": false,
     "start_time": "2022-03-21T08:23:36.189199",
     "status": "completed"
    },
    "tags": []
   },
   "source": [
    "# Required Parameters\n",
    "These are allowed parameters, not defaults\n",
    "Each of these values need to be present in the injected parameters (the notebook will raise an exception if they are not present)\n",
    "\n",
    "Papermill uses the cell tag \"parameters\" to inject the real parameters below this cell.\n",
    "Enable tags to see what I mean"
   ]
  },
  {
   "cell_type": "code",
   "execution_count": 2,
   "id": "fd44eb83",
   "metadata": {
    "execution": {
     "iopub.execute_input": "2022-03-21T08:23:36.222530Z",
     "iopub.status.busy": "2022-03-21T08:23:36.222274Z",
     "iopub.status.idle": "2022-03-21T08:23:36.237216Z",
     "shell.execute_reply": "2022-03-21T08:23:36.237610Z"
    },
    "papermill": {
     "duration": 0.027413,
     "end_time": "2022-03-21T08:23:36.237720",
     "exception": false,
     "start_time": "2022-03-21T08:23:36.210307",
     "status": "completed"
    },
    "tags": []
   },
   "outputs": [],
   "source": [
    "required_parameters = {\n",
    "    \"experiment_name\",\n",
    "    \"lr\",\n",
    "    \"device\",\n",
    "    \"seed\",\n",
    "    \"dataset_seed\",\n",
    "    \"labels_source\",\n",
    "    \"labels_target\",\n",
    "    \"domains_source\",\n",
    "    \"domains_target\",\n",
    "    \"num_examples_per_domain_per_label_source\",\n",
    "    \"num_examples_per_domain_per_label_target\",\n",
    "    \"n_shot\",\n",
    "    \"n_way\",\n",
    "    \"n_query\",\n",
    "    \"train_k_factor\",\n",
    "    \"val_k_factor\",\n",
    "    \"test_k_factor\",\n",
    "    \"n_epoch\",\n",
    "    \"patience\",\n",
    "    \"criteria_for_best\",\n",
    "    \"x_transforms_source\",\n",
    "    \"x_transforms_target\",\n",
    "    \"episode_transforms_source\",\n",
    "    \"episode_transforms_target\",\n",
    "    \"pickle_name\",\n",
    "    \"x_net\",\n",
    "    \"NUM_LOGS_PER_EPOCH\",\n",
    "    \"BEST_MODEL_PATH\",\n",
    "    \"torch_default_dtype\"\n",
    "}"
   ]
  },
  {
   "cell_type": "code",
   "execution_count": 3,
   "id": "fa3f0049",
   "metadata": {
    "execution": {
     "iopub.execute_input": "2022-03-21T08:23:36.270093Z",
     "iopub.status.busy": "2022-03-21T08:23:36.269819Z",
     "iopub.status.idle": "2022-03-21T08:23:36.283586Z",
     "shell.execute_reply": "2022-03-21T08:23:36.283163Z"
    },
    "papermill": {
     "duration": 0.031137,
     "end_time": "2022-03-21T08:23:36.283674",
     "exception": false,
     "start_time": "2022-03-21T08:23:36.252537",
     "status": "completed"
    },
    "tags": [
     "parameters"
    ]
   },
   "outputs": [],
   "source": [
    "\n",
    "\n",
    "standalone_parameters = {}\n",
    "standalone_parameters[\"experiment_name\"] = \"STANDALONE PTN\"\n",
    "standalone_parameters[\"lr\"] = 0.0001\n",
    "standalone_parameters[\"device\"] = \"cuda\"\n",
    "\n",
    "standalone_parameters[\"seed\"] = 1337\n",
    "standalone_parameters[\"dataset_seed\"] = 1337\n",
    "\n",
    "\n",
    "standalone_parameters[\"num_examples_per_domain_per_label_source\"]=100\n",
    "standalone_parameters[\"num_examples_per_domain_per_label_target\"]=100\n",
    "\n",
    "standalone_parameters[\"n_shot\"] = 3\n",
    "standalone_parameters[\"n_query\"]  = 2\n",
    "standalone_parameters[\"train_k_factor\"] = 1\n",
    "standalone_parameters[\"val_k_factor\"] = 2\n",
    "standalone_parameters[\"test_k_factor\"] = 2\n",
    "\n",
    "\n",
    "standalone_parameters[\"n_epoch\"] = 100\n",
    "\n",
    "standalone_parameters[\"patience\"] = 10\n",
    "standalone_parameters[\"criteria_for_best\"] = \"target_accuracy\"\n",
    "\n",
    "standalone_parameters[\"x_transforms_source\"] = [\"unit_power\"]\n",
    "standalone_parameters[\"x_transforms_target\"] = [\"unit_power\"]\n",
    "standalone_parameters[\"episode_transforms_source\"] = []\n",
    "standalone_parameters[\"episode_transforms_target\"] = []\n",
    "\n",
    "standalone_parameters[\"torch_default_dtype\"] = \"torch.float32\" \n",
    "\n",
    "\n",
    "\n",
    "standalone_parameters[\"x_net\"] =     [\n",
    "    {\"class\": \"nnReshape\", \"kargs\": {\"shape\":[-1, 1, 2, 256]}},\n",
    "    {\"class\": \"Conv2d\", \"kargs\": { \"in_channels\":1, \"out_channels\":256, \"kernel_size\":(1,7), \"bias\":False, \"padding\":(0,3), },},\n",
    "    {\"class\": \"ReLU\", \"kargs\": {\"inplace\": True}},\n",
    "    {\"class\": \"BatchNorm2d\", \"kargs\": {\"num_features\":256}},\n",
    "\n",
    "    {\"class\": \"Conv2d\", \"kargs\": { \"in_channels\":256, \"out_channels\":80, \"kernel_size\":(2,7), \"bias\":True, \"padding\":(0,3), },},\n",
    "    {\"class\": \"ReLU\", \"kargs\": {\"inplace\": True}},\n",
    "    {\"class\": \"BatchNorm2d\", \"kargs\": {\"num_features\":80}},\n",
    "    {\"class\": \"Flatten\", \"kargs\": {}},\n",
    "\n",
    "    {\"class\": \"Linear\", \"kargs\": {\"in_features\": 80*256, \"out_features\": 256}}, # 80 units per IQ pair\n",
    "    {\"class\": \"ReLU\", \"kargs\": {\"inplace\": True}},\n",
    "    {\"class\": \"BatchNorm1d\", \"kargs\": {\"num_features\":256}},\n",
    "\n",
    "    {\"class\": \"Linear\", \"kargs\": {\"in_features\": 256, \"out_features\": 256}},\n",
    "]\n",
    "\n",
    "# Parameters relevant to results\n",
    "# These parameters will basically never need to change\n",
    "standalone_parameters[\"NUM_LOGS_PER_EPOCH\"] = 10\n",
    "standalone_parameters[\"BEST_MODEL_PATH\"] = \"./best_model.pth\"\n",
    "\n",
    "# uncomment for CORES dataset\n",
    "from steves_utils.CORES.utils import (\n",
    "    ALL_NODES,\n",
    "    ALL_NODES_MINIMUM_1000_EXAMPLES,\n",
    "    ALL_DAYS\n",
    ")\n",
    "\n",
    "\n",
    "standalone_parameters[\"labels_source\"] = ALL_NODES\n",
    "standalone_parameters[\"labels_target\"] = ALL_NODES\n",
    "\n",
    "standalone_parameters[\"domains_source\"] = [1]\n",
    "standalone_parameters[\"domains_target\"] = [2,3,4,5]\n",
    "\n",
    "standalone_parameters[\"pickle_name\"] = \"cores.stratified_ds.2022A.pkl\"\n",
    "\n",
    "\n",
    "# Uncomment these for ORACLE dataset\n",
    "# from steves_utils.ORACLE.utils_v2 import (\n",
    "#     ALL_DISTANCES_FEET,\n",
    "#     ALL_RUNS,\n",
    "#     ALL_SERIAL_NUMBERS,\n",
    "# )\n",
    "# standalone_parameters[\"labels_source\"] = ALL_SERIAL_NUMBERS\n",
    "# standalone_parameters[\"labels_target\"] = ALL_SERIAL_NUMBERS\n",
    "# standalone_parameters[\"domains_source\"] = [8,20, 38,50]\n",
    "# standalone_parameters[\"domains_target\"] = [14, 26, 32, 44, 56]\n",
    "# standalone_parameters[\"pickle_name\"] = \"oracle.frame_indexed.stratified_ds.2022A.pkl\"\n",
    "# standalone_parameters[\"num_examples_per_domain_per_label_source\"]=1000\n",
    "# standalone_parameters[\"num_examples_per_domain_per_label_target\"]=1000\n",
    "\n",
    "# Uncomment these for Metahan dataset\n",
    "# standalone_parameters[\"labels_source\"] = list(range(19))\n",
    "# standalone_parameters[\"labels_target\"] = list(range(19))\n",
    "# standalone_parameters[\"domains_source\"] = [0]\n",
    "# standalone_parameters[\"domains_target\"] = [1]\n",
    "# standalone_parameters[\"pickle_name\"] = \"metehan.stratified_ds.2022A.pkl\"\n",
    "# standalone_parameters[\"n_way\"]  = len(standalone_parameters[\"labels_source\"])\n",
    "# standalone_parameters[\"num_examples_per_domain_per_label_source\"]=200\n",
    "# standalone_parameters[\"num_examples_per_domain_per_label_target\"]=100\n",
    "\n",
    "\n",
    "standalone_parameters[\"n_way\"]  = len(standalone_parameters[\"labels_source\"])"
   ]
  },
  {
   "cell_type": "code",
   "execution_count": 4,
   "id": "7e930cb7",
   "metadata": {
    "execution": {
     "iopub.execute_input": "2022-03-21T08:23:36.310870Z",
     "iopub.status.busy": "2022-03-21T08:23:36.310596Z",
     "iopub.status.idle": "2022-03-21T08:23:36.321638Z",
     "shell.execute_reply": "2022-03-21T08:23:36.321926Z"
    },
    "papermill": {
     "duration": 0.02517,
     "end_time": "2022-03-21T08:23:36.322008",
     "exception": false,
     "start_time": "2022-03-21T08:23:36.296838",
     "status": "completed"
    },
    "tags": [
     "injected-parameters"
    ]
   },
   "outputs": [],
   "source": [
    "# Parameters\n",
    "parameters = {\n",
    "    \"experiment_name\": \"tuned_1v2:oracle.run2\",\n",
    "    \"device\": \"cuda\",\n",
    "    \"lr\": 0.0001,\n",
    "    \"labels_source\": [\n",
    "        \"3123D52\",\n",
    "        \"3123D65\",\n",
    "        \"3123D79\",\n",
    "        \"3123D80\",\n",
    "        \"3123D54\",\n",
    "        \"3123D70\",\n",
    "        \"3123D7B\",\n",
    "        \"3123D89\",\n",
    "        \"3123D58\",\n",
    "        \"3123D76\",\n",
    "        \"3123D7D\",\n",
    "        \"3123EFE\",\n",
    "        \"3123D64\",\n",
    "        \"3123D78\",\n",
    "        \"3123D7E\",\n",
    "        \"3124E4A\",\n",
    "    ],\n",
    "    \"labels_target\": [\n",
    "        \"3123D52\",\n",
    "        \"3123D65\",\n",
    "        \"3123D79\",\n",
    "        \"3123D80\",\n",
    "        \"3123D54\",\n",
    "        \"3123D70\",\n",
    "        \"3123D7B\",\n",
    "        \"3123D89\",\n",
    "        \"3123D58\",\n",
    "        \"3123D76\",\n",
    "        \"3123D7D\",\n",
    "        \"3123EFE\",\n",
    "        \"3123D64\",\n",
    "        \"3123D78\",\n",
    "        \"3123D7E\",\n",
    "        \"3124E4A\",\n",
    "    ],\n",
    "    \"episode_transforms_source\": [],\n",
    "    \"episode_transforms_target\": [],\n",
    "    \"domains_source\": [8, 32, 50],\n",
    "    \"domains_target\": [14, 20, 26, 38, 44],\n",
    "    \"num_examples_per_domain_per_label_source\": -1,\n",
    "    \"num_examples_per_domain_per_label_target\": -1,\n",
    "    \"n_shot\": 3,\n",
    "    \"n_way\": 16,\n",
    "    \"n_query\": 2,\n",
    "    \"train_k_factor\": 3,\n",
    "    \"val_k_factor\": 2,\n",
    "    \"test_k_factor\": 2,\n",
    "    \"torch_default_dtype\": \"torch.float32\",\n",
    "    \"n_epoch\": 50,\n",
    "    \"patience\": 3,\n",
    "    \"criteria_for_best\": \"target_accuracy\",\n",
    "    \"x_net\": [\n",
    "        {\"class\": \"nnReshape\", \"kargs\": {\"shape\": [-1, 1, 2, 256]}},\n",
    "        {\n",
    "            \"class\": \"Conv2d\",\n",
    "            \"kargs\": {\n",
    "                \"in_channels\": 1,\n",
    "                \"out_channels\": 256,\n",
    "                \"kernel_size\": [1, 7],\n",
    "                \"bias\": False,\n",
    "                \"padding\": [0, 3],\n",
    "            },\n",
    "        },\n",
    "        {\"class\": \"ReLU\", \"kargs\": {\"inplace\": True}},\n",
    "        {\"class\": \"BatchNorm2d\", \"kargs\": {\"num_features\": 256}},\n",
    "        {\n",
    "            \"class\": \"Conv2d\",\n",
    "            \"kargs\": {\n",
    "                \"in_channels\": 256,\n",
    "                \"out_channels\": 80,\n",
    "                \"kernel_size\": [2, 7],\n",
    "                \"bias\": True,\n",
    "                \"padding\": [0, 3],\n",
    "            },\n",
    "        },\n",
    "        {\"class\": \"ReLU\", \"kargs\": {\"inplace\": True}},\n",
    "        {\"class\": \"BatchNorm2d\", \"kargs\": {\"num_features\": 80}},\n",
    "        {\"class\": \"Flatten\", \"kargs\": {}},\n",
    "        {\"class\": \"Linear\", \"kargs\": {\"in_features\": 20480, \"out_features\": 256}},\n",
    "        {\"class\": \"ReLU\", \"kargs\": {\"inplace\": True}},\n",
    "        {\"class\": \"BatchNorm1d\", \"kargs\": {\"num_features\": 256}},\n",
    "        {\"class\": \"Linear\", \"kargs\": {\"in_features\": 256, \"out_features\": 256}},\n",
    "    ],\n",
    "    \"NUM_LOGS_PER_EPOCH\": 10,\n",
    "    \"BEST_MODEL_PATH\": \"./best_model.pth\",\n",
    "    \"pickle_name\": \"oracle.Run2_10kExamples_stratified_ds.2022A.pkl\",\n",
    "    \"x_transforms_source\": [\"unit_mag\"],\n",
    "    \"x_transforms_target\": [\"unit_mag\"],\n",
    "    \"dataset_seed\": 420,\n",
    "    \"seed\": 420,\n",
    "}\n"
   ]
  },
  {
   "cell_type": "code",
   "execution_count": 5,
   "id": "8fa1cc33",
   "metadata": {
    "execution": {
     "iopub.execute_input": "2022-03-21T08:23:36.348469Z",
     "iopub.status.busy": "2022-03-21T08:23:36.348222Z",
     "iopub.status.idle": "2022-03-21T08:23:36.362707Z",
     "shell.execute_reply": "2022-03-21T08:23:36.362264Z"
    },
    "papermill": {
     "duration": 0.027543,
     "end_time": "2022-03-21T08:23:36.362795",
     "exception": false,
     "start_time": "2022-03-21T08:23:36.335252",
     "status": "completed"
    },
    "tags": []
   },
   "outputs": [],
   "source": [
    "# Set this to True if you want to run this template directly\n",
    "STANDALONE = False\n",
    "if STANDALONE:\n",
    "    print(\"parameters not injected, running with standalone_parameters\")\n",
    "    parameters = standalone_parameters\n",
    "\n",
    "if not 'parameters' in locals() and not 'parameters' in globals():\n",
    "    raise Exception(\"Parameter injection failed\")\n",
    "\n",
    "#Use an easy dict for all the parameters\n",
    "p = EasyDict(parameters)\n",
    "\n",
    "supplied_keys = set(p.keys())\n",
    "\n",
    "if  supplied_keys != required_parameters:\n",
    "    print(\"Parameters are incorrect\")\n",
    "    if len(supplied_keys - required_parameters)>0: print(\"Shouldn't have:\", str(supplied_keys - required_parameters))\n",
    "    if len(required_parameters - supplied_keys)>0: print(\"Need to have:\", str(required_parameters - supplied_keys))\n",
    "    raise RuntimeError(\"Parameters are incorrect\")\n",
    "\n"
   ]
  },
  {
   "cell_type": "code",
   "execution_count": 6,
   "id": "3a028d58",
   "metadata": {
    "execution": {
     "iopub.execute_input": "2022-03-21T08:23:36.388103Z",
     "iopub.status.busy": "2022-03-21T08:23:36.387860Z",
     "iopub.status.idle": "2022-03-21T08:23:36.402388Z",
     "shell.execute_reply": "2022-03-21T08:23:36.401995Z"
    },
    "papermill": {
     "duration": 0.026059,
     "end_time": "2022-03-21T08:23:36.402475",
     "exception": false,
     "start_time": "2022-03-21T08:23:36.376416",
     "status": "completed"
    },
    "tags": []
   },
   "outputs": [],
   "source": [
    "###################################\n",
    "# Set the RNGs and make it all deterministic\n",
    "###################################\n",
    "np.random.seed(p.seed)\n",
    "random.seed(p.seed)\n",
    "torch.manual_seed(p.seed)\n",
    "\n",
    "torch.use_deterministic_algorithms(True) "
   ]
  },
  {
   "cell_type": "code",
   "execution_count": 7,
   "id": "b691acf6",
   "metadata": {
    "execution": {
     "iopub.execute_input": "2022-03-21T08:23:36.427946Z",
     "iopub.status.busy": "2022-03-21T08:23:36.427619Z",
     "iopub.status.idle": "2022-03-21T08:23:36.443938Z",
     "shell.execute_reply": "2022-03-21T08:23:36.443498Z"
    },
    "papermill": {
     "duration": 0.027467,
     "end_time": "2022-03-21T08:23:36.444027",
     "exception": false,
     "start_time": "2022-03-21T08:23:36.416560",
     "status": "completed"
    },
    "tags": []
   },
   "outputs": [],
   "source": [
    "###########################################\n",
    "# The stratified datasets honor this\n",
    "###########################################\n",
    "torch.set_default_dtype(eval(p.torch_default_dtype))"
   ]
  },
  {
   "cell_type": "code",
   "execution_count": 8,
   "id": "b5fba671",
   "metadata": {
    "execution": {
     "iopub.execute_input": "2022-03-21T08:23:36.470748Z",
     "iopub.status.busy": "2022-03-21T08:23:36.470508Z",
     "iopub.status.idle": "2022-03-21T08:23:36.510542Z",
     "shell.execute_reply": "2022-03-21T08:23:36.510222Z"
    },
    "papermill": {
     "duration": 0.051534,
     "end_time": "2022-03-21T08:23:36.510611",
     "exception": false,
     "start_time": "2022-03-21T08:23:36.459077",
     "status": "completed"
    },
    "tags": []
   },
   "outputs": [],
   "source": [
    "###################################\n",
    "# Build the network(s)\n",
    "# Note: It's critical to do this AFTER setting the RNG\n",
    "# (This is due to the randomized initial weights)\n",
    "###################################\n",
    "x_net = build_sequential(p.x_net)"
   ]
  },
  {
   "cell_type": "code",
   "execution_count": 9,
   "id": "5d7e61cc",
   "metadata": {
    "execution": {
     "iopub.execute_input": "2022-03-21T08:23:36.535548Z",
     "iopub.status.busy": "2022-03-21T08:23:36.535307Z",
     "iopub.status.idle": "2022-03-21T08:23:36.546364Z",
     "shell.execute_reply": "2022-03-21T08:23:36.546016Z"
    },
    "papermill": {
     "duration": 0.022269,
     "end_time": "2022-03-21T08:23:36.546432",
     "exception": false,
     "start_time": "2022-03-21T08:23:36.524163",
     "status": "completed"
    },
    "tags": []
   },
   "outputs": [],
   "source": [
    "start_time_secs = time.time()"
   ]
  },
  {
   "cell_type": "code",
   "execution_count": 10,
   "id": "fd5442bc",
   "metadata": {
    "execution": {
     "iopub.execute_input": "2022-03-21T08:23:36.578248Z",
     "iopub.status.busy": "2022-03-21T08:23:36.577993Z",
     "iopub.status.idle": "2022-03-21T08:24:54.174715Z",
     "shell.execute_reply": "2022-03-21T08:24:54.174309Z"
    },
    "papermill": {
     "duration": 77.614722,
     "end_time": "2022-03-21T08:24:54.174819",
     "exception": false,
     "start_time": "2022-03-21T08:23:36.560097",
     "status": "completed"
    },
    "tags": []
   },
   "outputs": [],
   "source": [
    "###################################\n",
    "# Build the dataset\n",
    "###################################\n",
    "\n",
    "if p.x_transforms_source == []: x_transform_source = None\n",
    "else: x_transform_source = get_chained_transform(p.x_transforms_source) \n",
    "\n",
    "if p.x_transforms_target == []: x_transform_target = None\n",
    "else: x_transform_target = get_chained_transform(p.x_transforms_target)\n",
    "\n",
    "if p.episode_transforms_source == []: episode_transform_source = None\n",
    "else: raise Exception(\"episode_transform_source not implemented\")\n",
    "\n",
    "if p.episode_transforms_target == []: episode_transform_target = None\n",
    "else: raise Exception(\"episode_transform_target not implemented\")\n",
    "\n",
    "\n",
    "eaf_source = Episodic_Accessor_Factory(\n",
    "    labels=p.labels_source,\n",
    "    domains=p.domains_source,\n",
    "    num_examples_per_domain_per_label=p.num_examples_per_domain_per_label_source,\n",
    "    iterator_seed=p.seed,\n",
    "    dataset_seed=p.dataset_seed,\n",
    "    n_shot=p.n_shot,\n",
    "    n_way=p.n_way,\n",
    "    n_query=p.n_query,\n",
    "    train_val_test_k_factors=(p.train_k_factor,p.val_k_factor,p.test_k_factor),\n",
    "    pickle_path=os.path.join(get_datasets_base_path(), p.pickle_name),\n",
    "    x_transform_func=x_transform_source,\n",
    "    example_transform_func=episode_transform_source,\n",
    "    \n",
    ")\n",
    "train_original_source, val_original_source, test_original_source = eaf_source.get_train(), eaf_source.get_val(), eaf_source.get_test()\n",
    "\n",
    "\n",
    "eaf_target = Episodic_Accessor_Factory(\n",
    "    labels=p.labels_target,\n",
    "    domains=p.domains_target,\n",
    "    num_examples_per_domain_per_label=p.num_examples_per_domain_per_label_target,\n",
    "    iterator_seed=p.seed,\n",
    "    dataset_seed=p.dataset_seed,\n",
    "    n_shot=p.n_shot,\n",
    "    n_way=p.n_way,\n",
    "    n_query=p.n_query,\n",
    "    train_val_test_k_factors=(p.train_k_factor,p.val_k_factor,p.test_k_factor),\n",
    "    pickle_path=os.path.join(get_datasets_base_path(), p.pickle_name),\n",
    "    x_transform_func=x_transform_target,\n",
    "    example_transform_func=episode_transform_target,\n",
    ")\n",
    "train_original_target, val_original_target, test_original_target = eaf_target.get_train(), eaf_target.get_val(), eaf_target.get_test()\n",
    "\n",
    "\n",
    "transform_lambda = lambda ex: ex[1] # Original is (<domain>, <episode>) so we strip down to episode only\n",
    "\n",
    "train_processed_source = Lazy_Iterable_Wrapper(train_original_source, transform_lambda)\n",
    "val_processed_source   = Lazy_Iterable_Wrapper(val_original_source, transform_lambda)\n",
    "test_processed_source  = Lazy_Iterable_Wrapper(test_original_source, transform_lambda)\n",
    "\n",
    "train_processed_target = Lazy_Iterable_Wrapper(train_original_target, transform_lambda)\n",
    "val_processed_target   = Lazy_Iterable_Wrapper(val_original_target, transform_lambda)\n",
    "test_processed_target  = Lazy_Iterable_Wrapper(test_original_target, transform_lambda)\n",
    "\n",
    "datasets = EasyDict({\n",
    "    \"source\": {\n",
    "        \"original\": {\"train\":train_original_source, \"val\":val_original_source, \"test\":test_original_source},\n",
    "        \"processed\": {\"train\":train_processed_source, \"val\":val_processed_source, \"test\":test_processed_source}\n",
    "    },\n",
    "    \"target\": {\n",
    "        \"original\": {\"train\":train_original_target, \"val\":val_original_target, \"test\":test_original_target},\n",
    "        \"processed\": {\"train\":train_processed_target, \"val\":val_processed_target, \"test\":test_processed_target}\n",
    "    },\n",
    "})"
   ]
  },
  {
   "cell_type": "code",
   "execution_count": 11,
   "id": "296189d9",
   "metadata": {
    "execution": {
     "iopub.execute_input": "2022-03-21T08:24:54.201082Z",
     "iopub.status.busy": "2022-03-21T08:24:54.200835Z",
     "iopub.status.idle": "2022-03-21T08:24:56.141874Z",
     "shell.execute_reply": "2022-03-21T08:24:56.142395Z"
    },
    "papermill": {
     "duration": 1.955514,
     "end_time": "2022-03-21T08:24:56.142532",
     "exception": false,
     "start_time": "2022-03-21T08:24:54.187018",
     "status": "completed"
    },
    "tags": []
   },
   "outputs": [
    {
     "name": "stdout",
     "output_type": "stream",
     "text": [
      "Visually inspect these to see if they line up with expected values given the transforms\n",
      "x_transforms_source ['unit_mag']\n",
      "x_transforms_target ['unit_mag']\n",
      "Average magnitude, source: 1.0\n",
      "Average power, source: 1.2474508\n"
     ]
    },
    {
     "name": "stdout",
     "output_type": "stream",
     "text": [
      "Average magnitude, target: 0.99999994\n",
      "Average power, target: 1.24338\n"
     ]
    }
   ],
   "source": [
    "# Some quick unit tests on the data\n",
    "from steves_utils.transforms import get_average_power, get_average_magnitude\n",
    "\n",
    "q_x, q_y, s_x, s_y, truth = next(iter(train_processed_source))\n",
    "\n",
    "assert q_x.dtype == eval(p.torch_default_dtype)\n",
    "assert s_x.dtype == eval(p.torch_default_dtype)\n",
    "\n",
    "print(\"Visually inspect these to see if they line up with expected values given the transforms\")\n",
    "print('x_transforms_source', p.x_transforms_source)\n",
    "print('x_transforms_target', p.x_transforms_target)\n",
    "print(\"Average magnitude, source:\", get_average_magnitude(q_x[0].numpy()))\n",
    "print(\"Average power, source:\", get_average_power(q_x[0].numpy()))\n",
    "\n",
    "q_x, q_y, s_x, s_y, truth = next(iter(train_processed_target))\n",
    "print(\"Average magnitude, target:\", get_average_magnitude(q_x[0].numpy()))\n",
    "print(\"Average power, target:\", get_average_power(q_x[0].numpy()))\n"
   ]
  },
  {
   "cell_type": "code",
   "execution_count": 12,
   "id": "bbdacba1",
   "metadata": {
    "execution": {
     "iopub.execute_input": "2022-03-21T08:24:56.171873Z",
     "iopub.status.busy": "2022-03-21T08:24:56.171503Z",
     "iopub.status.idle": "2022-03-21T08:24:56.237359Z",
     "shell.execute_reply": "2022-03-21T08:24:56.237103Z"
    },
    "papermill": {
     "duration": 0.079241,
     "end_time": "2022-03-21T08:24:56.237419",
     "exception": false,
     "start_time": "2022-03-21T08:24:56.158178",
     "status": "completed"
    },
    "tags": []
   },
   "outputs": [
    {
     "name": "stdout",
     "output_type": "stream",
     "text": [
      "(2, 256)\n"
     ]
    }
   ],
   "source": [
    "###################################\n",
    "# Build the model\n",
    "###################################\n",
    "model = Steves_Prototypical_Network(x_net, device=p.device, x_shape=(2,256))\n",
    "optimizer = Adam(params=model.parameters(), lr=p.lr)"
   ]
  },
  {
   "cell_type": "code",
   "execution_count": 13,
   "id": "22b39ac5",
   "metadata": {
    "execution": {
     "iopub.execute_input": "2022-03-21T08:24:56.264635Z",
     "iopub.status.busy": "2022-03-21T08:24:56.264344Z",
     "iopub.status.idle": "2022-03-21T09:36:22.595618Z",
     "shell.execute_reply": "2022-03-21T09:36:22.595385Z"
    },
    "papermill": {
     "duration": 4286.34496,
     "end_time": "2022-03-21T09:36:22.595677",
     "exception": false,
     "start_time": "2022-03-21T08:24:56.250717",
     "status": "completed"
    },
    "tags": []
   },
   "outputs": [
    {
     "name": "stdout",
     "output_type": "stream",
     "text": [
      "epoch: 1, [batch: 1 / 12600], examples_per_second: 26.1620, train_label_loss: 2.7862, \n"
     ]
    },
    {
     "name": "stdout",
     "output_type": "stream",
     "text": [
      "epoch: 1, [batch: 1260 / 12600], examples_per_second: 3170.7107, train_label_loss: 1.3424, \n"
     ]
    },
    {
     "name": "stdout",
     "output_type": "stream",
     "text": [
      "epoch: 1, [batch: 2520 / 12600], examples_per_second: 3165.0230, train_label_loss: 1.2254, \n"
     ]
    },
    {
     "name": "stdout",
     "output_type": "stream",
     "text": [
      "epoch: 1, [batch: 3780 / 12600], examples_per_second: 3153.9810, train_label_loss: 1.2497, \n"
     ]
    },
    {
     "name": "stdout",
     "output_type": "stream",
     "text": [
      "epoch: 1, [batch: 5040 / 12600], examples_per_second: 3134.1737, train_label_loss: 1.3493, \n"
     ]
    },
    {
     "name": "stdout",
     "output_type": "stream",
     "text": [
      "epoch: 1, [batch: 6300 / 12600], examples_per_second: 3142.1898, train_label_loss: 1.3218, \n"
     ]
    },
    {
     "name": "stdout",
     "output_type": "stream",
     "text": [
      "epoch: 1, [batch: 7560 / 12600], examples_per_second: 3152.3936, train_label_loss: 1.3320, \n"
     ]
    },
    {
     "name": "stdout",
     "output_type": "stream",
     "text": [
      "epoch: 1, [batch: 8820 / 12600], examples_per_second: 3144.6680, train_label_loss: 1.1944, \n"
     ]
    },
    {
     "name": "stdout",
     "output_type": "stream",
     "text": [
      "epoch: 1, [batch: 10080 / 12600], examples_per_second: 3149.1544, train_label_loss: 0.8068, \n"
     ]
    },
    {
     "name": "stdout",
     "output_type": "stream",
     "text": [
      "epoch: 1, [batch: 11340 / 12600], examples_per_second: 3156.0359, train_label_loss: 0.6804, \n"
     ]
    },
    {
     "name": "stdout",
     "output_type": "stream",
     "text": [
      "=============================================================\n",
      "epoch: 1, source_val_acc_label: 0.6198, target_val_acc_label: 0.4986, source_val_label_loss: 1.0051, target_val_label_loss: 1.4524, \n",
      "=============================================================\n"
     ]
    },
    {
     "name": "stdout",
     "output_type": "stream",
     "text": [
      "New best\n"
     ]
    },
    {
     "name": "stdout",
     "output_type": "stream",
     "text": [
      "epoch: 2, [batch: 1 / 12600], examples_per_second: 2.2288, train_label_loss: 0.6613, \n"
     ]
    },
    {
     "name": "stdout",
     "output_type": "stream",
     "text": [
      "epoch: 2, [batch: 1260 / 12600], examples_per_second: 3172.8764, train_label_loss: 1.1693, \n"
     ]
    },
    {
     "name": "stdout",
     "output_type": "stream",
     "text": [
      "epoch: 2, [batch: 2520 / 12600], examples_per_second: 3177.4291, train_label_loss: 1.0209, \n"
     ]
    },
    {
     "name": "stdout",
     "output_type": "stream",
     "text": [
      "epoch: 2, [batch: 3780 / 12600], examples_per_second: 3179.9651, train_label_loss: 1.2337, \n"
     ]
    },
    {
     "name": "stdout",
     "output_type": "stream",
     "text": [
      "epoch: 2, [batch: 5040 / 12600], examples_per_second: 3171.3308, train_label_loss: 0.5329, \n"
     ]
    },
    {
     "name": "stdout",
     "output_type": "stream",
     "text": [
      "epoch: 2, [batch: 6300 / 12600], examples_per_second: 3184.2897, train_label_loss: 1.0664, \n"
     ]
    },
    {
     "name": "stdout",
     "output_type": "stream",
     "text": [
      "epoch: 2, [batch: 7560 / 12600], examples_per_second: 3190.7128, train_label_loss: 0.9369, \n"
     ]
    },
    {
     "name": "stdout",
     "output_type": "stream",
     "text": [
      "epoch: 2, [batch: 8820 / 12600], examples_per_second: 3164.4653, train_label_loss: 0.5213, \n"
     ]
    },
    {
     "name": "stdout",
     "output_type": "stream",
     "text": [
      "epoch: 2, [batch: 10080 / 12600], examples_per_second: 3177.6049, train_label_loss: 0.9513, \n"
     ]
    },
    {
     "name": "stdout",
     "output_type": "stream",
     "text": [
      "epoch: 2, [batch: 11340 / 12600], examples_per_second: 3183.7173, train_label_loss: 0.5933, \n"
     ]
    },
    {
     "name": "stdout",
     "output_type": "stream",
     "text": [
      "=============================================================\n",
      "epoch: 2, source_val_acc_label: 0.6808, target_val_acc_label: 0.5589, source_val_label_loss: 0.8302, target_val_label_loss: 1.2529, \n",
      "=============================================================\n"
     ]
    },
    {
     "name": "stdout",
     "output_type": "stream",
     "text": [
      "New best\n"
     ]
    },
    {
     "name": "stdout",
     "output_type": "stream",
     "text": [
      "epoch: 3, [batch: 1 / 12600], examples_per_second: 2.2477, train_label_loss: 1.0157, \n"
     ]
    },
    {
     "name": "stdout",
     "output_type": "stream",
     "text": [
      "epoch: 3, [batch: 1260 / 12600], examples_per_second: 3166.1834, train_label_loss: 0.8191, \n"
     ]
    },
    {
     "name": "stdout",
     "output_type": "stream",
     "text": [
      "epoch: 3, [batch: 2520 / 12600], examples_per_second: 3172.1693, train_label_loss: 0.5781, \n"
     ]
    },
    {
     "name": "stdout",
     "output_type": "stream",
     "text": [
      "epoch: 3, [batch: 3780 / 12600], examples_per_second: 3178.0983, train_label_loss: 0.9899, \n"
     ]
    },
    {
     "name": "stdout",
     "output_type": "stream",
     "text": [
      "epoch: 3, [batch: 5040 / 12600], examples_per_second: 3167.6851, train_label_loss: 0.7383, \n"
     ]
    },
    {
     "name": "stdout",
     "output_type": "stream",
     "text": [
      "epoch: 3, [batch: 6300 / 12600], examples_per_second: 3179.4314, train_label_loss: 0.8584, \n"
     ]
    },
    {
     "name": "stdout",
     "output_type": "stream",
     "text": [
      "epoch: 3, [batch: 7560 / 12600], examples_per_second: 3185.9702, train_label_loss: 0.8493, \n"
     ]
    },
    {
     "name": "stdout",
     "output_type": "stream",
     "text": [
      "epoch: 3, [batch: 8820 / 12600], examples_per_second: 3185.3734, train_label_loss: 0.5625, \n"
     ]
    },
    {
     "name": "stdout",
     "output_type": "stream",
     "text": [
      "epoch: 3, [batch: 10080 / 12600], examples_per_second: 3186.8806, train_label_loss: 0.3539, \n"
     ]
    },
    {
     "name": "stdout",
     "output_type": "stream",
     "text": [
      "epoch: 3, [batch: 11340 / 12600], examples_per_second: 3182.4715, train_label_loss: 0.9744, \n"
     ]
    },
    {
     "name": "stdout",
     "output_type": "stream",
     "text": [
      "=============================================================\n",
      "epoch: 3, source_val_acc_label: 0.6964, target_val_acc_label: 0.5723, source_val_label_loss: 0.7924, target_val_label_loss: 1.2349, \n",
      "=============================================================\n"
     ]
    },
    {
     "name": "stdout",
     "output_type": "stream",
     "text": [
      "New best\n"
     ]
    },
    {
     "name": "stdout",
     "output_type": "stream",
     "text": [
      "epoch: 4, [batch: 1 / 12600], examples_per_second: 2.2432, train_label_loss: 0.2321, \n"
     ]
    },
    {
     "name": "stdout",
     "output_type": "stream",
     "text": [
      "epoch: 4, [batch: 1260 / 12600], examples_per_second: 3171.2661, train_label_loss: 0.5549, \n"
     ]
    },
    {
     "name": "stdout",
     "output_type": "stream",
     "text": [
      "epoch: 4, [batch: 2520 / 12600], examples_per_second: 3175.0760, train_label_loss: 0.5272, \n"
     ]
    },
    {
     "name": "stdout",
     "output_type": "stream",
     "text": [
      "epoch: 4, [batch: 3780 / 12600], examples_per_second: 3180.0860, train_label_loss: 0.7682, \n"
     ]
    },
    {
     "name": "stdout",
     "output_type": "stream",
     "text": [
      "epoch: 4, [batch: 5040 / 12600], examples_per_second: 3171.8247, train_label_loss: 0.6320, \n"
     ]
    },
    {
     "name": "stdout",
     "output_type": "stream",
     "text": [
      "epoch: 4, [batch: 6300 / 12600], examples_per_second: 3181.4582, train_label_loss: 0.5612, \n"
     ]
    },
    {
     "name": "stdout",
     "output_type": "stream",
     "text": [
      "epoch: 4, [batch: 7560 / 12600], examples_per_second: 3181.4133, train_label_loss: 0.4324, \n"
     ]
    },
    {
     "name": "stdout",
     "output_type": "stream",
     "text": [
      "epoch: 4, [batch: 8820 / 12600], examples_per_second: 3176.3222, train_label_loss: 0.6073, \n"
     ]
    },
    {
     "name": "stdout",
     "output_type": "stream",
     "text": [
      "epoch: 4, [batch: 10080 / 12600], examples_per_second: 3193.0500, train_label_loss: 0.3735, \n"
     ]
    },
    {
     "name": "stdout",
     "output_type": "stream",
     "text": [
      "epoch: 4, [batch: 11340 / 12600], examples_per_second: 3176.0752, train_label_loss: 0.6948, \n"
     ]
    },
    {
     "name": "stdout",
     "output_type": "stream",
     "text": [
      "=============================================================\n",
      "epoch: 4, source_val_acc_label: 0.6972, target_val_acc_label: 0.5771, source_val_label_loss: 0.7886, target_val_label_loss: 1.2217, \n",
      "=============================================================\n"
     ]
    },
    {
     "name": "stdout",
     "output_type": "stream",
     "text": [
      "New best\n"
     ]
    },
    {
     "name": "stdout",
     "output_type": "stream",
     "text": [
      "epoch: 5, [batch: 1 / 12600], examples_per_second: 2.2345, train_label_loss: 0.4858, \n"
     ]
    },
    {
     "name": "stdout",
     "output_type": "stream",
     "text": [
      "epoch: 5, [batch: 1260 / 12600], examples_per_second: 3177.8858, train_label_loss: 0.7464, \n"
     ]
    },
    {
     "name": "stdout",
     "output_type": "stream",
     "text": [
      "epoch: 5, [batch: 2520 / 12600], examples_per_second: 3177.8999, train_label_loss: 0.6787, \n"
     ]
    },
    {
     "name": "stdout",
     "output_type": "stream",
     "text": [
      "epoch: 5, [batch: 3780 / 12600], examples_per_second: 3175.8080, train_label_loss: 0.5351, \n"
     ]
    },
    {
     "name": "stdout",
     "output_type": "stream",
     "text": [
      "epoch: 5, [batch: 5040 / 12600], examples_per_second: 3171.5563, train_label_loss: 0.4382, \n"
     ]
    },
    {
     "name": "stdout",
     "output_type": "stream",
     "text": [
      "epoch: 5, [batch: 6300 / 12600], examples_per_second: 3169.1835, train_label_loss: 0.5242, \n"
     ]
    },
    {
     "name": "stdout",
     "output_type": "stream",
     "text": [
      "epoch: 5, [batch: 7560 / 12600], examples_per_second: 3177.2423, train_label_loss: 0.6690, \n"
     ]
    },
    {
     "name": "stdout",
     "output_type": "stream",
     "text": [
      "epoch: 5, [batch: 8820 / 12600], examples_per_second: 3174.6671, train_label_loss: 0.4957, \n"
     ]
    },
    {
     "name": "stdout",
     "output_type": "stream",
     "text": [
      "epoch: 5, [batch: 10080 / 12600], examples_per_second: 3170.5273, train_label_loss: 0.5430, \n"
     ]
    },
    {
     "name": "stdout",
     "output_type": "stream",
     "text": [
      "epoch: 5, [batch: 11340 / 12600], examples_per_second: 3177.7897, train_label_loss: 0.6348, \n"
     ]
    },
    {
     "name": "stdout",
     "output_type": "stream",
     "text": [
      "=============================================================\n",
      "epoch: 5, source_val_acc_label: 0.7109, target_val_acc_label: 0.5848, source_val_label_loss: 0.7932, target_val_label_loss: 1.2659, \n",
      "=============================================================\n"
     ]
    },
    {
     "name": "stdout",
     "output_type": "stream",
     "text": [
      "New best\n"
     ]
    },
    {
     "name": "stdout",
     "output_type": "stream",
     "text": [
      "epoch: 6, [batch: 1 / 12600], examples_per_second: 2.2406, train_label_loss: 0.4097, \n"
     ]
    },
    {
     "name": "stdout",
     "output_type": "stream",
     "text": [
      "epoch: 6, [batch: 1260 / 12600], examples_per_second: 3172.7766, train_label_loss: 0.5922, \n"
     ]
    },
    {
     "name": "stdout",
     "output_type": "stream",
     "text": [
      "epoch: 6, [batch: 2520 / 12600], examples_per_second: 3168.5026, train_label_loss: 0.5656, \n"
     ]
    },
    {
     "name": "stdout",
     "output_type": "stream",
     "text": [
      "epoch: 6, [batch: 3780 / 12600], examples_per_second: 3163.8905, train_label_loss: 0.3079, \n"
     ]
    },
    {
     "name": "stdout",
     "output_type": "stream",
     "text": [
      "epoch: 6, [batch: 5040 / 12600], examples_per_second: 3169.5401, train_label_loss: 0.2468, \n"
     ]
    },
    {
     "name": "stdout",
     "output_type": "stream",
     "text": [
      "epoch: 6, [batch: 6300 / 12600], examples_per_second: 3182.3193, train_label_loss: 0.2312, \n"
     ]
    },
    {
     "name": "stdout",
     "output_type": "stream",
     "text": [
      "epoch: 6, [batch: 7560 / 12600], examples_per_second: 3178.4786, train_label_loss: 0.8018, \n"
     ]
    },
    {
     "name": "stdout",
     "output_type": "stream",
     "text": [
      "epoch: 6, [batch: 8820 / 12600], examples_per_second: 3180.2232, train_label_loss: 0.5133, \n"
     ]
    },
    {
     "name": "stdout",
     "output_type": "stream",
     "text": [
      "epoch: 6, [batch: 10080 / 12600], examples_per_second: 3174.2718, train_label_loss: 0.3978, \n"
     ]
    },
    {
     "name": "stdout",
     "output_type": "stream",
     "text": [
      "epoch: 6, [batch: 11340 / 12600], examples_per_second: 3188.4735, train_label_loss: 0.6928, \n"
     ]
    },
    {
     "name": "stdout",
     "output_type": "stream",
     "text": [
      "=============================================================\n",
      "epoch: 6, source_val_acc_label: 0.7165, target_val_acc_label: 0.5913, source_val_label_loss: 0.7897, target_val_label_loss: 1.2772, \n",
      "=============================================================\n"
     ]
    },
    {
     "name": "stdout",
     "output_type": "stream",
     "text": [
      "New best\n"
     ]
    },
    {
     "name": "stdout",
     "output_type": "stream",
     "text": [
      "epoch: 7, [batch: 1 / 12600], examples_per_second: 2.2427, train_label_loss: 0.3705, \n"
     ]
    },
    {
     "name": "stdout",
     "output_type": "stream",
     "text": [
      "epoch: 7, [batch: 1260 / 12600], examples_per_second: 3169.5840, train_label_loss: 0.3732, \n"
     ]
    },
    {
     "name": "stdout",
     "output_type": "stream",
     "text": [
      "epoch: 7, [batch: 2520 / 12600], examples_per_second: 3169.4545, train_label_loss: 0.7615, \n"
     ]
    },
    {
     "name": "stdout",
     "output_type": "stream",
     "text": [
      "epoch: 7, [batch: 3780 / 12600], examples_per_second: 3176.0268, train_label_loss: 0.5022, \n"
     ]
    },
    {
     "name": "stdout",
     "output_type": "stream",
     "text": [
      "epoch: 7, [batch: 5040 / 12600], examples_per_second: 3170.7458, train_label_loss: 0.2954, \n"
     ]
    },
    {
     "name": "stdout",
     "output_type": "stream",
     "text": [
      "epoch: 7, [batch: 6300 / 12600], examples_per_second: 3187.7106, train_label_loss: 0.3431, \n"
     ]
    },
    {
     "name": "stdout",
     "output_type": "stream",
     "text": [
      "epoch: 7, [batch: 7560 / 12600], examples_per_second: 3178.7402, train_label_loss: 0.3033, \n"
     ]
    },
    {
     "name": "stdout",
     "output_type": "stream",
     "text": [
      "epoch: 7, [batch: 8820 / 12600], examples_per_second: 3176.4556, train_label_loss: 0.3655, \n"
     ]
    },
    {
     "name": "stdout",
     "output_type": "stream",
     "text": [
      "epoch: 7, [batch: 10080 / 12600], examples_per_second: 3175.1888, train_label_loss: 0.5825, \n"
     ]
    },
    {
     "name": "stdout",
     "output_type": "stream",
     "text": [
      "epoch: 7, [batch: 11340 / 12600], examples_per_second: 3184.5343, train_label_loss: 0.3425, \n"
     ]
    },
    {
     "name": "stdout",
     "output_type": "stream",
     "text": [
      "=============================================================\n",
      "epoch: 7, source_val_acc_label: 0.7154, target_val_acc_label: 0.5907, source_val_label_loss: 0.8337, target_val_label_loss: 1.3379, \n",
      "=============================================================\n"
     ]
    },
    {
     "name": "stdout",
     "output_type": "stream",
     "text": [
      "epoch: 8, [batch: 1 / 12600], examples_per_second: 2.2328, train_label_loss: 0.1981, \n"
     ]
    },
    {
     "name": "stdout",
     "output_type": "stream",
     "text": [
      "epoch: 8, [batch: 1260 / 12600], examples_per_second: 3182.4931, train_label_loss: 0.1742, \n"
     ]
    },
    {
     "name": "stdout",
     "output_type": "stream",
     "text": [
      "epoch: 8, [batch: 2520 / 12600], examples_per_second: 3170.9892, train_label_loss: 0.5140, \n"
     ]
    },
    {
     "name": "stdout",
     "output_type": "stream",
     "text": [
      "epoch: 8, [batch: 3780 / 12600], examples_per_second: 3180.8015, train_label_loss: 0.4016, \n"
     ]
    },
    {
     "name": "stdout",
     "output_type": "stream",
     "text": [
      "epoch: 8, [batch: 5040 / 12600], examples_per_second: 3172.3624, train_label_loss: 0.3981, \n"
     ]
    },
    {
     "name": "stdout",
     "output_type": "stream",
     "text": [
      "epoch: 8, [batch: 6300 / 12600], examples_per_second: 3183.1341, train_label_loss: 0.2007, \n"
     ]
    },
    {
     "name": "stdout",
     "output_type": "stream",
     "text": [
      "epoch: 8, [batch: 7560 / 12600], examples_per_second: 3185.8157, train_label_loss: 0.3894, \n"
     ]
    },
    {
     "name": "stdout",
     "output_type": "stream",
     "text": [
      "epoch: 8, [batch: 8820 / 12600], examples_per_second: 3182.7660, train_label_loss: 0.4267, \n"
     ]
    },
    {
     "name": "stdout",
     "output_type": "stream",
     "text": [
      "epoch: 8, [batch: 10080 / 12600], examples_per_second: 3180.5607, train_label_loss: 0.1812, \n"
     ]
    },
    {
     "name": "stdout",
     "output_type": "stream",
     "text": [
      "epoch: 8, [batch: 11340 / 12600], examples_per_second: 3175.0126, train_label_loss: 0.1396, \n"
     ]
    },
    {
     "name": "stdout",
     "output_type": "stream",
     "text": [
      "=============================================================\n",
      "epoch: 8, source_val_acc_label: 0.7148, target_val_acc_label: 0.5918, source_val_label_loss: 0.8590, target_val_label_loss: 1.3919, \n",
      "=============================================================\n"
     ]
    },
    {
     "name": "stdout",
     "output_type": "stream",
     "text": [
      "New best\n"
     ]
    },
    {
     "name": "stdout",
     "output_type": "stream",
     "text": [
      "epoch: 9, [batch: 1 / 12600], examples_per_second: 2.2434, train_label_loss: 0.3220, \n"
     ]
    },
    {
     "name": "stdout",
     "output_type": "stream",
     "text": [
      "epoch: 9, [batch: 1260 / 12600], examples_per_second: 3154.0297, train_label_loss: 0.1251, \n"
     ]
    },
    {
     "name": "stdout",
     "output_type": "stream",
     "text": [
      "epoch: 9, [batch: 2520 / 12600], examples_per_second: 3173.2206, train_label_loss: 0.2524, \n"
     ]
    },
    {
     "name": "stdout",
     "output_type": "stream",
     "text": [
      "epoch: 9, [batch: 3780 / 12600], examples_per_second: 3173.7619, train_label_loss: 0.3964, \n"
     ]
    },
    {
     "name": "stdout",
     "output_type": "stream",
     "text": [
      "epoch: 9, [batch: 5040 / 12600], examples_per_second: 3168.4983, train_label_loss: 0.1920, \n"
     ]
    },
    {
     "name": "stdout",
     "output_type": "stream",
     "text": [
      "epoch: 9, [batch: 6300 / 12600], examples_per_second: 3177.8126, train_label_loss: 0.2818, \n"
     ]
    },
    {
     "name": "stdout",
     "output_type": "stream",
     "text": [
      "epoch: 9, [batch: 7560 / 12600], examples_per_second: 3178.5732, train_label_loss: 0.4787, \n"
     ]
    },
    {
     "name": "stdout",
     "output_type": "stream",
     "text": [
      "epoch: 9, [batch: 8820 / 12600], examples_per_second: 3167.8700, train_label_loss: 0.1146, \n"
     ]
    },
    {
     "name": "stdout",
     "output_type": "stream",
     "text": [
      "epoch: 9, [batch: 10080 / 12600], examples_per_second: 3179.2066, train_label_loss: 0.5534, \n"
     ]
    },
    {
     "name": "stdout",
     "output_type": "stream",
     "text": [
      "epoch: 9, [batch: 11340 / 12600], examples_per_second: 3178.7033, train_label_loss: 0.4033, \n"
     ]
    },
    {
     "name": "stdout",
     "output_type": "stream",
     "text": [
      "=============================================================\n",
      "epoch: 9, source_val_acc_label: 0.7145, target_val_acc_label: 0.5911, source_val_label_loss: 0.8953, target_val_label_loss: 1.4293, \n",
      "=============================================================\n"
     ]
    },
    {
     "name": "stdout",
     "output_type": "stream",
     "text": [
      "epoch: 10, [batch: 1 / 12600], examples_per_second: 2.2452, train_label_loss: 0.3062, \n"
     ]
    },
    {
     "name": "stdout",
     "output_type": "stream",
     "text": [
      "epoch: 10, [batch: 1260 / 12600], examples_per_second: 3151.5828, train_label_loss: 0.4036, \n"
     ]
    },
    {
     "name": "stdout",
     "output_type": "stream",
     "text": [
      "epoch: 10, [batch: 2520 / 12600], examples_per_second: 3168.0547, train_label_loss: 0.7587, \n"
     ]
    },
    {
     "name": "stdout",
     "output_type": "stream",
     "text": [
      "epoch: 10, [batch: 3780 / 12600], examples_per_second: 3175.1805, train_label_loss: 0.1893, \n"
     ]
    },
    {
     "name": "stdout",
     "output_type": "stream",
     "text": [
      "epoch: 10, [batch: 5040 / 12600], examples_per_second: 3174.2211, train_label_loss: 0.2597, \n"
     ]
    },
    {
     "name": "stdout",
     "output_type": "stream",
     "text": [
      "epoch: 10, [batch: 6300 / 12600], examples_per_second: 3192.3691, train_label_loss: 0.1545, \n"
     ]
    },
    {
     "name": "stdout",
     "output_type": "stream",
     "text": [
      "epoch: 10, [batch: 7560 / 12600], examples_per_second: 3188.6965, train_label_loss: 0.1052, \n"
     ]
    },
    {
     "name": "stdout",
     "output_type": "stream",
     "text": [
      "epoch: 10, [batch: 8820 / 12600], examples_per_second: 3163.3029, train_label_loss: 0.3985, \n"
     ]
    },
    {
     "name": "stdout",
     "output_type": "stream",
     "text": [
      "epoch: 10, [batch: 10080 / 12600], examples_per_second: 3180.0171, train_label_loss: 0.1568, \n"
     ]
    },
    {
     "name": "stdout",
     "output_type": "stream",
     "text": [
      "epoch: 10, [batch: 11340 / 12600], examples_per_second: 3187.0139, train_label_loss: 0.1937, \n"
     ]
    },
    {
     "name": "stdout",
     "output_type": "stream",
     "text": [
      "=============================================================\n",
      "epoch: 10, source_val_acc_label: 0.7051, target_val_acc_label: 0.5853, source_val_label_loss: 0.9620, target_val_label_loss: 1.4927, \n",
      "=============================================================\n"
     ]
    },
    {
     "name": "stdout",
     "output_type": "stream",
     "text": [
      "epoch: 11, [batch: 1 / 12600], examples_per_second: 2.2426, train_label_loss: 0.4048, \n"
     ]
    },
    {
     "name": "stdout",
     "output_type": "stream",
     "text": [
      "epoch: 11, [batch: 1260 / 12600], examples_per_second: 3172.1775, train_label_loss: 0.2347, \n"
     ]
    },
    {
     "name": "stdout",
     "output_type": "stream",
     "text": [
      "epoch: 11, [batch: 2520 / 12600], examples_per_second: 3167.9155, train_label_loss: 0.1334, \n"
     ]
    },
    {
     "name": "stdout",
     "output_type": "stream",
     "text": [
      "epoch: 11, [batch: 3780 / 12600], examples_per_second: 3166.7375, train_label_loss: 0.2592, \n"
     ]
    },
    {
     "name": "stdout",
     "output_type": "stream",
     "text": [
      "epoch: 11, [batch: 5040 / 12600], examples_per_second: 3170.7402, train_label_loss: 0.4228, \n"
     ]
    },
    {
     "name": "stdout",
     "output_type": "stream",
     "text": [
      "epoch: 11, [batch: 6300 / 12600], examples_per_second: 3176.9736, train_label_loss: 0.2638, \n"
     ]
    },
    {
     "name": "stdout",
     "output_type": "stream",
     "text": [
      "epoch: 11, [batch: 7560 / 12600], examples_per_second: 3190.0737, train_label_loss: 0.1611, \n"
     ]
    },
    {
     "name": "stdout",
     "output_type": "stream",
     "text": [
      "epoch: 11, [batch: 8820 / 12600], examples_per_second: 3162.7105, train_label_loss: 0.1722, \n"
     ]
    },
    {
     "name": "stdout",
     "output_type": "stream",
     "text": [
      "epoch: 11, [batch: 10080 / 12600], examples_per_second: 3178.5529, train_label_loss: 0.1406, \n"
     ]
    },
    {
     "name": "stdout",
     "output_type": "stream",
     "text": [
      "epoch: 11, [batch: 11340 / 12600], examples_per_second: 3183.5004, train_label_loss: 0.5072, \n"
     ]
    },
    {
     "name": "stdout",
     "output_type": "stream",
     "text": [
      "=============================================================\n",
      "epoch: 11, source_val_acc_label: 0.7037, target_val_acc_label: 0.5808, source_val_label_loss: 0.9796, target_val_label_loss: 1.5172, \n",
      "=============================================================\n"
     ]
    },
    {
     "name": "stdout",
     "output_type": "stream",
     "text": [
      "epoch: 12, [batch: 1 / 12600], examples_per_second: 2.2341, train_label_loss: 0.2033, \n"
     ]
    },
    {
     "name": "stdout",
     "output_type": "stream",
     "text": [
      "epoch: 12, [batch: 1260 / 12600], examples_per_second: 3165.9884, train_label_loss: 0.1932, \n"
     ]
    },
    {
     "name": "stdout",
     "output_type": "stream",
     "text": [
      "epoch: 12, [batch: 2520 / 12600], examples_per_second: 3156.0123, train_label_loss: 0.2361, \n"
     ]
    },
    {
     "name": "stdout",
     "output_type": "stream",
     "text": [
      "epoch: 12, [batch: 3780 / 12600], examples_per_second: 3177.1113, train_label_loss: 0.1343, \n"
     ]
    },
    {
     "name": "stdout",
     "output_type": "stream",
     "text": [
      "epoch: 12, [batch: 5040 / 12600], examples_per_second: 3167.3058, train_label_loss: 0.1140, \n"
     ]
    },
    {
     "name": "stdout",
     "output_type": "stream",
     "text": [
      "epoch: 12, [batch: 6300 / 12600], examples_per_second: 3188.1627, train_label_loss: 0.2113, \n"
     ]
    },
    {
     "name": "stdout",
     "output_type": "stream",
     "text": [
      "epoch: 12, [batch: 7560 / 12600], examples_per_second: 3189.9577, train_label_loss: 0.4418, \n"
     ]
    },
    {
     "name": "stdout",
     "output_type": "stream",
     "text": [
      "epoch: 12, [batch: 8820 / 12600], examples_per_second: 3176.0184, train_label_loss: 0.1557, \n"
     ]
    },
    {
     "name": "stdout",
     "output_type": "stream",
     "text": [
      "epoch: 12, [batch: 10080 / 12600], examples_per_second: 3178.5333, train_label_loss: 0.1183, \n"
     ]
    },
    {
     "name": "stdout",
     "output_type": "stream",
     "text": [
      "epoch: 12, [batch: 11340 / 12600], examples_per_second: 3190.6527, train_label_loss: 0.2316, \n"
     ]
    },
    {
     "name": "stdout",
     "output_type": "stream",
     "text": [
      "=============================================================\n",
      "epoch: 12, source_val_acc_label: 0.7119, target_val_acc_label: 0.5848, source_val_label_loss: 1.0122, target_val_label_loss: 1.6004, \n",
      "=============================================================\n"
     ]
    },
    {
     "name": "stdout",
     "output_type": "stream",
     "text": [
      "Patience (3) exhausted\n"
     ]
    }
   ],
   "source": [
    "###################################\n",
    "# train\n",
    "###################################\n",
    "jig = PTN_Train_Eval_Test_Jig(model, p.BEST_MODEL_PATH, p.device)\n",
    "\n",
    "jig.train(\n",
    "    train_iterable=datasets.source.processed.train,\n",
    "    source_val_iterable=datasets.source.processed.val,\n",
    "    target_val_iterable=datasets.target.processed.val,\n",
    "    num_epochs=p.n_epoch,\n",
    "    num_logs_per_epoch=p.NUM_LOGS_PER_EPOCH,\n",
    "    patience=p.patience,\n",
    "    optimizer=optimizer,\n",
    "    criteria_for_best=p.criteria_for_best,\n",
    ")"
   ]
  },
  {
   "cell_type": "code",
   "execution_count": 14,
   "id": "31e8fabf",
   "metadata": {
    "execution": {
     "iopub.execute_input": "2022-03-21T09:36:22.669038Z",
     "iopub.status.busy": "2022-03-21T09:36:22.668777Z",
     "iopub.status.idle": "2022-03-21T09:36:22.686340Z",
     "shell.execute_reply": "2022-03-21T09:36:22.686720Z"
    },
    "papermill": {
     "duration": 0.05603,
     "end_time": "2022-03-21T09:36:22.686853",
     "exception": false,
     "start_time": "2022-03-21T09:36:22.630823",
     "status": "completed"
    },
    "tags": []
   },
   "outputs": [],
   "source": [
    "total_experiment_time_secs = time.time() - start_time_secs"
   ]
  },
  {
   "cell_type": "code",
   "execution_count": 15,
   "id": "87b9595b",
   "metadata": {
    "execution": {
     "iopub.execute_input": "2022-03-21T09:36:22.765907Z",
     "iopub.status.busy": "2022-03-21T09:36:22.765624Z",
     "iopub.status.idle": "2022-03-21T09:40:25.096083Z",
     "shell.execute_reply": "2022-03-21T09:40:25.095657Z"
    },
    "papermill": {
     "duration": 242.370752,
     "end_time": "2022-03-21T09:40:25.096184",
     "exception": false,
     "start_time": "2022-03-21T09:36:22.725432",
     "status": "completed"
    },
    "tags": []
   },
   "outputs": [],
   "source": [
    "###################################\n",
    "# Evaluate the model\n",
    "###################################\n",
    "source_test_label_accuracy, source_test_label_loss = jig.test(datasets.source.processed.test)\n",
    "target_test_label_accuracy, target_test_label_loss = jig.test(datasets.target.processed.test)\n",
    "\n",
    "source_val_label_accuracy, source_val_label_loss = jig.test(datasets.source.processed.val)\n",
    "target_val_label_accuracy, target_val_label_loss = jig.test(datasets.target.processed.val)\n",
    "\n",
    "history = jig.get_history()\n",
    "\n",
    "total_epochs_trained = len(history[\"epoch_indices\"])\n",
    "\n",
    "val_dl = Iterable_Aggregator((datasets.source.original.val,datasets.target.original.val))\n",
    "\n",
    "confusion = ptn_confusion_by_domain_over_dataloader(model, p.device, val_dl)\n",
    "per_domain_accuracy = per_domain_accuracy_from_confusion(confusion)\n",
    "\n",
    "# Add a key to per_domain_accuracy for if it was a source domain\n",
    "for domain, accuracy in per_domain_accuracy.items():\n",
    "    per_domain_accuracy[domain] = {\n",
    "        \"accuracy\": accuracy,\n",
    "        \"source?\": domain in p.domains_source\n",
    "    }\n",
    "\n",
    "# Do an independent accuracy assesment JUST TO BE SURE!\n",
    "# _source_test_label_accuracy = independent_accuracy_assesment(model, datasets.source.processed.test, p.device)\n",
    "# _target_test_label_accuracy = independent_accuracy_assesment(model, datasets.target.processed.test, p.device)\n",
    "# _source_val_label_accuracy = independent_accuracy_assesment(model, datasets.source.processed.val, p.device)\n",
    "# _target_val_label_accuracy = independent_accuracy_assesment(model, datasets.target.processed.val, p.device)\n",
    "\n",
    "# assert(_source_test_label_accuracy == source_test_label_accuracy)\n",
    "# assert(_target_test_label_accuracy == target_test_label_accuracy)\n",
    "# assert(_source_val_label_accuracy == source_val_label_accuracy)\n",
    "# assert(_target_val_label_accuracy == target_val_label_accuracy)\n",
    "\n",
    "experiment = {\n",
    "    \"experiment_name\": p.experiment_name,\n",
    "    \"parameters\": dict(p),\n",
    "    \"results\": {\n",
    "        \"source_test_label_accuracy\": source_test_label_accuracy,\n",
    "        \"source_test_label_loss\": source_test_label_loss,\n",
    "        \"target_test_label_accuracy\": target_test_label_accuracy,\n",
    "        \"target_test_label_loss\": target_test_label_loss,\n",
    "        \"source_val_label_accuracy\": source_val_label_accuracy,\n",
    "        \"source_val_label_loss\": source_val_label_loss,\n",
    "        \"target_val_label_accuracy\": target_val_label_accuracy,\n",
    "        \"target_val_label_loss\": target_val_label_loss,\n",
    "        \"total_epochs_trained\": total_epochs_trained,\n",
    "        \"total_experiment_time_secs\": total_experiment_time_secs,\n",
    "        \"confusion\": confusion,\n",
    "        \"per_domain_accuracy\": per_domain_accuracy,\n",
    "    },\n",
    "    \"history\": history,\n",
    "    \"dataset_metrics\": get_dataset_metrics(datasets, \"ptn\"),\n",
    "}"
   ]
  },
  {
   "cell_type": "code",
   "execution_count": 16,
   "id": "54a21829",
   "metadata": {
    "execution": {
     "iopub.execute_input": "2022-03-21T09:40:25.173737Z",
     "iopub.status.busy": "2022-03-21T09:40:25.173490Z",
     "iopub.status.idle": "2022-03-21T09:40:25.310391Z",
     "shell.execute_reply": "2022-03-21T09:40:25.310020Z"
    },
    "papermill": {
     "duration": 0.1741,
     "end_time": "2022-03-21T09:40:25.310484",
     "exception": false,
     "start_time": "2022-03-21T09:40:25.136384",
     "status": "completed"
    },
    "tags": []
   },
   "outputs": [
    {
     "data": {
      "image/png": "[encoded data removed]",
      "text/plain": [
       "<Figure size 1080x504 with 1 Axes>"
      ]
     },
     "metadata": {
      "needs_background": "light"
     },
     "output_type": "display_data"
    }
   ],
   "source": [
    "ax = get_loss_curve(experiment)\n",
    "plt.show()"
   ]
  },
  {
   "cell_type": "code",
   "execution_count": 17,
   "id": "fd8a0f60",
   "metadata": {
    "execution": {
     "iopub.execute_input": "2022-03-21T09:40:25.389773Z",
     "iopub.status.busy": "2022-03-21T09:40:25.389524Z",
     "iopub.status.idle": "2022-03-21T09:40:25.533411Z",
     "shell.execute_reply": "2022-03-21T09:40:25.533076Z"
    },
    "papermill": {
     "duration": 0.18142,
     "end_time": "2022-03-21T09:40:25.533478",
     "exception": false,
     "start_time": "2022-03-21T09:40:25.352058",
     "status": "completed"
    },
    "tags": []
   },
   "outputs": [
    {
     "data": {
      "text/plain": [
       "<AxesSubplot:title={'center':'Results'}>"
      ]
     },
     "execution_count": 17,
     "metadata": {},
     "output_type": "execute_result"
    },
    {
     "data": {
      "image/png": "[encoded data removed]",
      "text/plain": [
       "<Figure size 1080x504 with 1 Axes>"
      ]
     },
     "metadata": {
      "needs_background": "light"
     },
     "output_type": "display_data"
    }
   ],
   "source": [
    "get_results_table(experiment)"
   ]
  },
  {
   "cell_type": "code",
   "execution_count": 18,
   "id": "cf8dc689",
   "metadata": {
    "execution": {
     "iopub.execute_input": "2022-03-21T09:40:25.620968Z",
     "iopub.status.busy": "2022-03-21T09:40:25.620653Z",
     "iopub.status.idle": "2022-03-21T09:40:25.736411Z",
     "shell.execute_reply": "2022-03-21T09:40:25.735969Z"
    },
    "papermill": {
     "duration": 0.155092,
     "end_time": "2022-03-21T09:40:25.736500",
     "exception": false,
     "start_time": "2022-03-21T09:40:25.581408",
     "status": "completed"
    },
    "tags": []
   },
   "outputs": [
    {
     "data": {
      "text/plain": [
       "<AxesSubplot:title={'center':'Per Domain Validation Accuracy'}, xlabel='domain'>"
      ]
     },
     "execution_count": 18,
     "metadata": {},
     "output_type": "execute_result"
    },
    {
     "data": {
      "image/png": "[encoded data removed]",
      "text/plain": [
       "<Figure size 1080x504 with 1 Axes>"
      ]
     },
     "metadata": {
      "needs_background": "light"
     },
     "output_type": "display_data"
    }
   ],
   "source": [
    "get_domain_accuracies(experiment)"
   ]
  },
  {
   "cell_type": "code",
   "execution_count": 19,
   "id": "a74ae082",
   "metadata": {
    "execution": {
     "iopub.execute_input": "2022-03-21T09:40:25.822588Z",
     "iopub.status.busy": "2022-03-21T09:40:25.817606Z",
     "iopub.status.idle": "2022-03-21T09:40:25.833302Z",
     "shell.execute_reply": "2022-03-21T09:40:25.832876Z"
    },
    "papermill": {
     "duration": 0.056096,
     "end_time": "2022-03-21T09:40:25.833406",
     "exception": false,
     "start_time": "2022-03-21T09:40:25.777310",
     "status": "completed"
    },
    "tags": []
   },
   "outputs": [
    {
     "name": "stdout",
     "output_type": "stream",
     "text": [
      "Source Test Label Accuracy: 0.7163888888888889 Target Test Label Accuracy: 0.5910625\n",
      "Source Val Label Accuracy: 0.7148263888888889 Target Val Label Accuracy: 0.5918333333333333\n"
     ]
    }
   ],
   "source": [
    "print(\"Source Test Label Accuracy:\", experiment[\"results\"][\"source_test_label_accuracy\"], \"Target Test Label Accuracy:\", experiment[\"results\"][\"target_test_label_accuracy\"])\n",
    "print(\"Source Val Label Accuracy:\", experiment[\"results\"][\"source_val_label_accuracy\"], \"Target Val Label Accuracy:\", experiment[\"results\"][\"target_val_label_accuracy\"])"
   ]
  },
  {
   "cell_type": "code",
   "execution_count": 20,
   "id": "dacca602",
   "metadata": {
    "execution": {
     "iopub.execute_input": "2022-03-21T09:40:25.922657Z",
     "iopub.status.busy": "2022-03-21T09:40:25.914536Z",
     "iopub.status.idle": "2022-03-21T09:40:25.930293Z",
     "shell.execute_reply": "2022-03-21T09:40:25.930719Z"
    },
    "papermill": {
     "duration": 0.056211,
     "end_time": "2022-03-21T09:40:25.930838",
     "exception": false,
     "start_time": "2022-03-21T09:40:25.874627",
     "status": "completed"
    },
    "tags": [
     "experiment_json"
    ]
   },
   "outputs": [
    {
     "data": {
      "text/plain": [
       "'{\"experiment_name\": \"tuned_1v2:oracle.run2\", \"parameters\": {\"experiment_name\": \"tuned_1v2:oracle.run2\", \"device\": \"cuda\", \"lr\": 0.0001, \"labels_source\": [\"3123D52\", \"3123D65\", \"3123D79\", \"3123D80\", \"3123D54\", \"3123D70\", \"3123D7B\", \"3123D89\", \"3123D58\", \"3123D76\", \"3123D7D\", \"3123EFE\", \"3123D64\", \"3123D78\", \"3123D7E\", \"3124E4A\"], \"labels_target\": [\"3123D52\", \"3123D65\", \"3123D79\", \"3123D80\", \"3123D54\", \"3123D70\", \"3123D7B\", \"3123D89\", \"3123D58\", \"3123D76\", \"3123D7D\", \"3123EFE\", \"3123D64\", \"3123D78\", \"3123D7E\", \"3124E4A\"], \"episode_transforms_source\": [], \"episode_transforms_target\": [], \"domains_source\": [8, 32, 50], \"domains_target\": [14, 20, 26, 38, 44], \"num_examples_per_domain_per_label_source\": -1, \"num_examples_per_domain_per_label_target\": -1, \"n_shot\": 3, \"n_way\": 16, \"n_query\": 2, \"train_k_factor\": 3, \"val_k_factor\": 2, \"test_k_factor\": 2, \"torch_default_dtype\": \"torch.float32\", \"n_epoch\": 50, \"patience\": 3, \"criteria_for_best\": \"target_accuracy\", \"x_net\": [{\"class\": \"nnReshape\", \"kargs\": {\"shape\": [-1, 1, 2, 256]}}, {\"class\": \"Conv2d\", \"kargs\": {\"in_channels\": 1, \"out_channels\": 256, \"kernel_size\": [1, 7], \"bias\": false, \"padding\": [0, 3]}}, {\"class\": \"ReLU\", \"kargs\": {\"inplace\": true}}, {\"class\": \"BatchNorm2d\", \"kargs\": {\"num_features\": 256}}, {\"class\": \"Conv2d\", \"kargs\": {\"in_channels\": 256, \"out_channels\": 80, \"kernel_size\": [2, 7], \"bias\": true, \"padding\": [0, 3]}}, {\"class\": \"ReLU\", \"kargs\": {\"inplace\": true}}, {\"class\": \"BatchNorm2d\", \"kargs\": {\"num_features\": 80}}, {\"class\": \"Flatten\", \"kargs\": {}}, {\"class\": \"Linear\", \"kargs\": {\"in_features\": 20480, \"out_features\": 256}}, {\"class\": \"ReLU\", \"kargs\": {\"inplace\": true}}, {\"class\": \"BatchNorm1d\", \"kargs\": {\"num_features\": 256}}, {\"class\": \"Linear\", \"kargs\": {\"in_features\": 256, \"out_features\": 256}}], \"NUM_LOGS_PER_EPOCH\": 10, \"BEST_MODEL_PATH\": \"./best_model.pth\", \"pickle_name\": \"oracle.Run2_10kExamples_stratified_ds.2022A.pkl\", \"x_transforms_source\": [\"unit_mag\"], \"x_transforms_target\": [\"unit_mag\"], \"dataset_seed\": 420, \"seed\": 420}, \"results\": {\"source_test_label_accuracy\": 0.7163888888888889, \"source_test_label_loss\": 0.8751428723335266, \"target_test_label_accuracy\": 0.5910625, \"target_test_label_loss\": 1.3830691576004028, \"source_val_label_accuracy\": 0.7148263888888889, \"source_val_label_loss\": 0.8590191006660461, \"target_val_label_accuracy\": 0.5918333333333333, \"target_val_label_loss\": 1.391932487487793, \"total_epochs_trained\": 12, \"total_experiment_time_secs\": 4366.139978647232, \"confusion\": {\"8\": {\"15\": {\"11\": 201, \"15\": 657, \"12\": 194, \"8\": 120, \"4\": 3, \"3\": 16, \"7\": 7, \"2\": 2}, \"5\": {\"5\": 918, \"10\": 215, \"1\": 57, \"13\": 8, \"0\": 2}, \"7\": {\"7\": 493, \"2\": 165, \"6\": 237, \"4\": 281, \"15\": 10, \"8\": 14}, \"4\": {\"4\": 443, \"7\": 311, \"6\": 318, \"2\": 94, \"14\": 21, \"0\": 3, \"8\": 8, \"13\": 2}, \"10\": {\"13\": 76, \"5\": 139, \"10\": 739, \"0\": 180, \"1\": 23, \"14\": 43}, \"11\": {\"8\": 280, \"11\": 582, \"15\": 233, \"12\": 97, \"7\": 1, \"6\": 3, \"4\": 2, \"13\": 2}, \"12\": {\"12\": 899, \"15\": 133, \"3\": 133, \"11\": 35}, \"0\": {\"0\": 720, \"14\": 263, \"13\": 19, \"10\": 178, \"4\": 7, \"1\": 1, \"6\": 11, \"5\": 1}, \"14\": {\"6\": 73, \"10\": 31, \"0\": 198, \"13\": 173, \"14\": 709, \"4\": 14, \"7\": 2}, \"8\": {\"8\": 928, \"11\": 138, \"4\": 9, \"15\": 88, \"7\": 15, \"13\": 7, \"6\": 13, \"14\": 2}, \"13\": {\"13\": 763, \"10\": 76, \"14\": 193, \"1\": 128, \"0\": 21, \"6\": 12, \"5\": 4, \"8\": 2, \"4\": 1}, \"6\": {\"7\": 225, \"14\": 61, \"6\": 550, \"4\": 328, \"2\": 18, \"8\": 12, \"0\": 5, \"13\": 1}, \"1\": {\"1\": 992, \"13\": 144, \"10\": 25, \"5\": 38, \"14\": 1}, \"3\": {\"12\": 171, \"3\": 1025, \"15\": 4}, \"9\": {\"9\": 1200}, \"2\": {\"2\": 908, \"4\": 95, \"7\": 163, \"15\": 5, \"6\": 28, \"3\": 1}}, \"50\": {\"4\": {\"4\": 566, \"1\": 38, \"5\": 320, \"6\": 256, \"7\": 8, \"10\": 9, \"13\": 2, \"0\": 1}, \"10\": {\"10\": 832, \"7\": 66, \"13\": 182, \"5\": 91, \"0\": 24, \"4\": 4, \"6\": 1}, \"15\": {\"11\": 56, \"15\": 1054, \"1\": 80, \"6\": 9, \"14\": 1}, \"0\": {\"0\": 1079, \"2\": 75, \"5\": 12, \"6\": 2, \"10\": 25, \"1\": 4, \"4\": 3}, \"6\": {\"4\": 239, \"6\": 606, \"1\": 295, \"5\": 48, \"15\": 9, \"10\": 1, \"0\": 2}, \"3\": {\"3\": 1153, \"8\": 47}, \"7\": {\"7\": 536, \"5\": 124, \"13\": 447, \"10\": 85, \"4\": 8}, \"2\": {\"2\": 1139, \"0\": 61}, \"8\": {\"8\": 1181, \"3\": 19}, \"11\": {\"11\": 1117, \"15\": 31, \"9\": 20, \"14\": 26, \"12\": 6}, \"14\": {\"14\": 1141, \"12\": 27, \"11\": 32}, \"12\": {\"12\": 1073, \"14\": 54, \"9\": 63, \"11\": 10}, \"13\": {\"13\": 535, \"7\": 465, \"10\": 146, \"5\": 49, \"4\": 5}, \"9\": {\"9\": 1097, \"12\": 77, \"11\": 26}, \"5\": {\"4\": 315, \"5\": 604, \"13\": 57, \"10\": 79, \"6\": 52, \"7\": 80, \"0\": 10, \"1\": 3}, \"1\": {\"6\": 223, \"1\": 877, \"4\": 21, \"2\": 1, \"15\": 76, \"14\": 2}}, \"32\": {\"7\": {\"13\": 154, \"7\": 626, \"11\": 280, \"4\": 92, \"3\": 3, \"2\": 15, \"0\": 27, \"5\": 3}, \"2\": {\"2\": 876, \"14\": 113, \"4\": 40, \"5\": 76, \"11\": 38, \"0\": 47, \"7\": 9, \"13\": 1}, \"5\": {\"4\": 134, \"5\": 463, \"2\": 108, \"0\": 161, \"13\": 57, \"14\": 70, \"8\": 174, \"11\": 20, \"7\": 8, \"3\": 3, \"15\": 2}, \"6\": {\"6\": 1200}, \"13\": {\"13\": 539, \"7\": 154, \"4\": 213, \"8\": 65, \"11\": 117, \"0\": 61, \"2\": 3, \"5\": 21, \"3\": 27}, \"4\": {\"13\": 209, \"11\": 103, \"4\": 426, \"5\": 143, \"0\": 149, \"7\": 97, \"3\": 2, \"8\": 55, \"2\": 16}, \"3\": {\"3\": 1125, \"8\": 22, \"13\": 47, \"5\": 1, \"7\": 2, \"11\": 2, \"4\": 1}, \"0\": {\"4\": 168, \"5\": 173, \"0\": 526, \"11\": 142, \"2\": 57, \"13\": 45, \"8\": 71, \"14\": 11, \"7\": 7}, \"9\": {\"9\": 1158, \"14\": 41, \"12\": 1}, \"12\": {\"12\": 1200}, \"8\": {\"5\": 93, \"8\": 830, \"0\": 78, \"13\": 105, \"4\": 63, \"3\": 16, \"11\": 8, \"15\": 6, \"7\": 1}, \"14\": {\"14\": 982, \"0\": 33, \"2\": 138, \"4\": 3, \"5\": 36, \"11\": 5, \"9\": 2, \"7\": 1}, \"15\": {\"15\": 1192, \"8\": 8}, \"11\": {\"11\": 526, \"0\": 147, \"2\": 46, \"7\": 269, \"13\": 108, \"4\": 82, \"8\": 6, \"5\": 13, \"14\": 2, \"3\": 1}, \"10\": {\"10\": 1199, \"1\": 1}, \"1\": {\"1\": 1190, \"10\": 10}}, \"20\": {\"15\": {\"9\": 121, \"7\": 2, \"15\": 322, \"5\": 71, \"2\": 97, \"12\": 103, \"13\": 279, \"0\": 50, \"1\": 126, \"3\": 28, \"4\": 1}, \"5\": {\"3\": 209, \"5\": 197, \"13\": 29, \"7\": 50, \"4\": 50, \"15\": 90, \"2\": 168, \"12\": 128, \"1\": 44, \"9\": 140, \"0\": 79, \"8\": 13, \"10\": 3}, \"7\": {\"10\": 46, \"7\": 726, \"8\": 143, \"3\": 152, \"2\": 28, \"9\": 10, \"6\": 52, \"5\": 34, \"14\": 6, \"4\": 2, \"11\": 1}, \"4\": {\"0\": 86, \"12\": 36, \"4\": 933, \"1\": 11, \"10\": 31, \"3\": 22, \"5\": 28, \"8\": 33, \"2\": 8, \"9\": 4, \"14\": 6, \"7\": 2}, \"10\": {\"10\": 650, \"14\": 180, \"8\": 211, \"7\": 54, \"4\": 30, \"3\": 18, \"6\": 48, \"5\": 8, \"9\": 1}, \"11\": {\"11\": 1196, \"2\": 1, \"7\": 2, \"9\": 1}, \"12\": {\"5\": 122, \"2\": 51, \"12\": 331, \"4\": 64, \"1\": 198, \"15\": 123, \"0\": 163, \"9\": 99, \"8\": 3, \"13\": 16, \"3\": 28, \"7\": 2}, \"0\": {\"0\": 496, \"15\": 42, \"5\": 66, \"4\": 136, \"3\": 8, \"1\": 217, \"12\": 172, \"9\": 33, \"2\": 17, \"13\": 8, \"8\": 5}, \"14\": {\"14\": 677, \"6\": 130, \"7\": 7, \"8\": 171, \"10\": 204, \"4\": 11}, \"8\": {\"14\": 179, \"8\": 486, \"10\": 226, \"7\": 142, \"6\": 47, \"4\": 65, \"0\": 2, \"5\": 19, \"3\": 29, \"2\": 3, \"9\": 1, \"12\": 1}, \"13\": {\"2\": 78, \"13\": 735, \"15\": 255, \"9\": 60, \"12\": 19, \"1\": 25, \"5\": 15, \"3\": 8, \"0\": 5}, \"6\": {\"6\": 1011, \"10\": 29, \"14\": 83, \"8\": 31, \"7\": 44, \"3\": 2}, \"1\": {\"13\": 37, \"5\": 27, \"12\": 233, \"1\": 508, \"0\": 177, \"9\": 41, \"15\": 134, \"4\": 14, \"2\": 21, \"3\": 8}, \"3\": {\"2\": 193, \"7\": 177, \"9\": 160, \"3\": 329, \"5\": 188, \"12\": 25, \"10\": 20, \"8\": 37, \"13\": 5, \"15\": 27, \"4\": 29, \"0\": 7, \"6\": 1, \"1\": 2}, \"9\": {\"7\": 14, \"5\": 133, \"15\": 141, \"3\": 117, \"9\": 287, \"2\": 245, \"13\": 79, \"12\": 111, \"1\": 33, \"4\": 13, \"0\": 20, \"10\": 4, \"8\": 3}, \"2\": {\"9\": 245, \"7\": 31, \"3\": 189, \"2\": 291, \"5\": 165, \"15\": 111, \"13\": 77, \"1\": 22, \"12\": 47, \"4\": 10, \"0\": 9, \"8\": 2, \"11\": 1}}, \"26\": {\"4\": {\"0\": 119, \"4\": 596, \"9\": 4, \"15\": 69, \"14\": 48, \"8\": 76, \"2\": 89, \"7\": 84, \"3\": 81, \"10\": 24, \"5\": 1, \"1\": 9}, \"10\": {\"1\": 200, \"0\": 178, \"10\": 333, \"14\": 176, \"8\": 80, \"6\": 103, \"4\": 81, \"7\": 9, \"2\": 15, \"12\": 6, \"9\": 12, \"5\": 3, \"15\": 3, \"3\": 1}, \"15\": {\"4\": 85, \"7\": 112, \"3\": 355, \"15\": 469, \"2\": 146, \"8\": 12, \"9\": 13, \"5\": 4, \"14\": 3, \"13\": 1}, \"0\": {\"0\": 323, \"8\": 86, \"10\": 137, \"14\": 253, \"1\": 187, \"4\": 155, \"2\": 13, \"5\": 3, \"7\": 23, \"6\": 10, \"15\": 5, \"9\": 4, \"3\": 1}, \"6\": {\"6\": 724, \"8\": 46, \"5\": 70, \"10\": 126, \"9\": 128, \"7\": 4, \"0\": 12, \"1\": 8, \"2\": 2, \"13\": 64, \"14\": 16}, \"3\": {\"3\": 501, \"15\": 340, \"4\": 95, \"2\": 143, \"7\": 100, \"9\": 5, \"8\": 5, \"0\": 1, \"5\": 9, \"10\": 1}, \"7\": {\"15\": 89, \"7\": 337, \"9\": 54, \"8\": 107, \"2\": 297, \"14\": 6, \"4\": 104, \"3\": 108, \"5\": 68, \"13\": 10, \"10\": 4, \"6\": 2, \"0\": 14}, \"2\": {\"7\": 307, \"9\": 41, \"2\": 291, \"3\": 150, \"5\": 46, \"4\": 138, \"8\": 73, \"10\": 4, \"15\": 132, \"0\": 10, \"13\": 3, \"14\": 5}, \"8\": {\"8\": 403, \"14\": 79, \"9\": 151, \"2\": 85, \"10\": 73, \"15\": 7, \"6\": 52, \"4\": 73, \"0\": 91, \"7\": 98, \"5\": 59, \"13\": 10, \"1\": 13, \"3\": 6}, \"11\": {\"11\": 1195, \"12\": 5}, \"14\": {\"0\": 262, \"14\": 283, \"10\": 171, \"8\": 89, \"1\": 300, \"4\": 51, \"6\": 15, \"9\": 10, \"7\": 10, \"2\": 6, \"5\": 2, \"13\": 1}, \"12\": {\"12\": 1197, \"11\": 3}, \"13\": {\"5\": 263, \"13\": 754, \"9\": 100, \"6\": 46, \"7\": 15, \"8\": 13, \"2\": 9}, \"9\": {\"6\": 127, \"8\": 183, \"5\": 176, \"9\": 423, \"7\": 67, \"13\": 119, \"2\": 48, \"10\": 16, \"0\": 13, \"15\": 7, \"14\": 14, \"4\": 5, \"1\": 1, \"3\": 1}, \"5\": {\"5\": 324, \"6\": 127, \"15\": 27, \"7\": 114, \"2\": 77, \"13\": 281, \"9\": 168, \"8\": 46, \"3\": 23, \"14\": 3, \"10\": 6, \"0\": 2, \"4\": 2}, \"1\": {\"1\": 541, \"0\": 171, \"10\": 167, \"14\": 259, \"8\": 22, \"4\": 27, \"9\": 4, \"5\": 2, \"6\": 5, \"2\": 1, \"7\": 1}}, \"38\": {\"7\": {\"7\": 534, \"10\": 372, \"3\": 28, \"8\": 82, \"13\": 35, \"5\": 137, \"0\": 3, \"15\": 8, \"4\": 1}, \"2\": {\"2\": 1020, \"14\": 177, \"12\": 3}, \"5\": {\"8\": 293, \"15\": 137, \"5\": 384, \"10\": 42, \"7\": 118, \"13\": 190, \"3\": 29, \"1\": 4, \"9\": 1, \"0\": 2}, \"6\": {\"6\": 798, \"9\": 392, \"3\": 9, \"15\": 1}, \"13\": {\"8\": 206, \"15\": 272, \"13\": 196, \"3\": 86, \"5\": 202, \"10\": 28, \"2\": 20, \"1\": 108, \"6\": 18, \"0\": 8, \"7\": 45, \"14\": 9, \"9\": 2}, \"4\": {\"4\": 1096, \"12\": 93, \"7\": 6, \"11\": 1, \"10\": 4}, \"3\": {\"8\": 54, \"3\": 308, \"0\": 341, \"10\": 64, \"6\": 79, \"9\": 56, \"15\": 89, \"13\": 72, \"7\": 77, \"5\": 54, \"1\": 6}, \"0\": {\"3\": 292, \"0\": 856, \"15\": 6, \"9\": 16, \"6\": 5, \"7\": 8, \"10\": 10, \"8\": 4, \"5\": 1, \"13\": 2}, \"9\": {\"9\": 773, \"6\": 414, \"3\": 11, \"0\": 1, \"15\": 1}, \"12\": {\"12\": 1116, \"4\": 54, \"11\": 9, \"14\": 20, \"7\": 1}, \"8\": {\"8\": 341, \"15\": 166, \"7\": 103, \"5\": 329, \"3\": 50, \"6\": 1, \"13\": 171, \"10\": 31, \"1\": 6, \"0\": 2}, \"14\": {\"14\": 589, \"11\": 135, \"2\": 291, \"5\": 12, \"12\": 145, \"10\": 1, \"7\": 16, \"13\": 4, \"4\": 3, \"8\": 3, \"3\": 1}, \"15\": {\"13\": 248, \"15\": 407, \"5\": 138, \"1\": 95, \"8\": 171, \"3\": 108, \"10\": 3, \"6\": 14, \"7\": 7, \"0\": 8, \"9\": 1}, \"11\": {\"11\": 968, \"12\": 102, \"2\": 12, \"14\": 113, \"4\": 5}, \"10\": {\"10\": 597, \"8\": 48, \"7\": 414, \"5\": 52, \"3\": 49, \"15\": 8, \"13\": 13, \"0\": 14, \"4\": 1, \"12\": 4}, \"1\": {\"1\": 1066, \"13\": 42, \"15\": 78, \"8\": 10, \"5\": 3, \"6\": 1}}, \"14\": {\"11\": {\"11\": 1120, \"12\": 44, \"10\": 23, \"9\": 11, \"0\": 2}, \"7\": {\"7\": 1152, \"15\": 45, \"1\": 3}, \"6\": {\"6\": 692, \"13\": 239, \"14\": 169, \"2\": 89, \"4\": 11}, \"12\": {\"12\": 570, \"9\": 112, \"11\": 362, \"0\": 69, \"10\": 35, \"8\": 47, \"3\": 4, \"14\": 1}, \"4\": {\"3\": 126, \"5\": 335, \"2\": 93, \"4\": 572, \"1\": 58, \"6\": 7, \"14\": 7, \"13\": 2}, \"13\": {\"13\": 775, \"6\": 295, \"5\": 7, \"2\": 104, \"4\": 3, \"14\": 14, \"15\": 2}, \"8\": {\"8\": 1196, \"9\": 2, \"3\": 2}, \"5\": {\"4\": 365, \"5\": 483, \"1\": 135, \"3\": 94, \"2\": 110, \"14\": 9, \"13\": 1, \"6\": 3}, \"14\": {\"14\": 735, \"2\": 127, \"6\": 204, \"3\": 60, \"0\": 15, \"5\": 19, \"13\": 16, \"4\": 21, \"10\": 3}, \"3\": {\"3\": 818, \"14\": 59, \"4\": 173, \"0\": 7, \"1\": 8, \"5\": 101, \"2\": 31, \"8\": 1, \"6\": 2}, \"10\": {\"10\": 1002, \"11\": 49, \"0\": 149}, \"1\": {\"1\": 1031, \"4\": 59, \"3\": 4, \"5\": 101, \"2\": 5}, \"2\": {\"5\": 198, \"6\": 82, \"2\": 442, \"14\": 146, \"3\": 75, \"4\": 98, \"13\": 140, \"15\": 9, \"0\": 3, \"1\": 7}, \"15\": {\"15\": 1125, \"7\": 74, \"2\": 1}, \"9\": {\"9\": 1181, \"0\": 6, \"12\": 9, \"11\": 4}, \"0\": {\"0\": 1127, \"14\": 4, \"3\": 7, \"10\": 59, \"9\": 3}}, \"44\": {\"10\": {\"10\": 1126, \"1\": 24, \"12\": 50}, \"6\": {\"6\": 1063, \"9\": 52, \"11\": 40, \"7\": 19, \"2\": 6, \"13\": 20}, \"13\": {\"13\": 1112, \"4\": 74, \"14\": 1, \"6\": 13}, \"3\": {\"3\": 979, \"12\": 77, \"1\": 143, \"2\": 1}, \"9\": {\"9\": 493, \"2\": 354, \"7\": 314, \"6\": 36, \"1\": 3}, \"1\": {\"3\": 178, \"1\": 666, \"12\": 340, \"2\": 2, \"10\": 6, \"7\": 6, \"9\": 2}, \"5\": {\"5\": 1048, \"14\": 136, \"0\": 5, \"8\": 9, \"15\": 2}, \"11\": {\"11\": 1119, \"6\": 73, \"9\": 5, \"7\": 3}, \"4\": {\"4\": 1012, \"14\": 91, \"15\": 67, \"13\": 30}, \"14\": {\"5\": 112, \"14\": 895, \"4\": 64, \"15\": 126, \"8\": 3}, \"12\": {\"1\": 319, \"12\": 802, \"3\": 71, \"10\": 8}, \"7\": {\"7\": 603, \"9\": 285, \"2\": 292, \"6\": 11, \"1\": 7, \"11\": 1, \"3\": 1}, \"0\": {\"8\": 531, \"0\": 649, \"14\": 3, \"15\": 6, \"5\": 11}, \"15\": {\"15\": 994, \"4\": 62, \"14\": 127, \"8\": 9, \"0\": 3, \"5\": 5}, \"2\": {\"9\": 317, \"7\": 241, \"2\": 629, \"1\": 6, \"3\": 3, \"6\": 4}, \"8\": {\"8\": 687, \"0\": 478, \"15\": 14, \"5\": 19, \"14\": 2}}}, \"per_domain_accuracy\": {\"8\": {\"accuracy\": 0.6523958333333333, \"source?\": true}, \"50\": {\"accuracy\": 0.7598958333333333, \"source?\": true}, \"32\": {\"accuracy\": 0.7321875, \"source?\": true}, \"20\": {\"accuracy\": 0.4778645833333333, \"source?\": false}, \"26\": {\"accuracy\": 0.4528125, \"source?\": false}, \"38\": {\"accuracy\": 0.57546875, \"source?\": false}, \"14\": {\"accuracy\": 0.7302604166666666, \"source?\": false}, \"44\": {\"accuracy\": 0.7227604166666667, \"source?\": false}}}, \"history\": {\"epoch_indices\": [1, 2, 3, 4, 5, 6, 7, 8, 9, 10, 11, 12], \"train_label_loss\": [1.319692970949506, 0.8237558016997009, 0.698988420476043, 0.6174863873930677, 0.5488220676105647, 0.48168032449625786, 0.42212796502909256, 0.37106139863471665, 0.32561956459087216, 0.2858342202352212, 0.25211370474451944, 0.2223249949234545], \"source_val_label_loss\": [1.0051002502441406, 0.8302461504936218, 0.7923901677131653, 0.7885951995849609, 0.793161928653717, 0.7896728515625, 0.8336629271507263, 0.8590191006660461, 0.8953157663345337, 0.9620026350021362, 0.9796242117881775, 1.0122054815292358], \"target_val_label_loss\": [1.4523736238479614, 1.2529290914535522, 1.234948992729187, 1.2217174768447876, 1.2659125328063965, 1.2772120237350464, 1.337938666343689, 1.391932487487793, 1.42930006980896, 1.4927202463150024, 1.5172470808029175, 1.6003520488739014], \"source_val_acc_label\": [0.6197569444444444, 0.6807986111111111, 0.69640625, 0.6971701388888889, 0.7108506944444445, 0.7164756944444445, 0.7154166666666667, 0.7148263888888889, 0.7144965277777777, 0.7050520833333334, 0.7037152777777778, 0.7118576388888889], \"target_val_acc_label\": [0.49857291666666664, 0.5589375, 0.57234375, 0.5771041666666666, 0.5847604166666667, 0.5912708333333333, 0.5906979166666667, 0.5918333333333333, 0.5911458333333334, 0.5852604166666666, 0.5808125, 0.5848020833333333]}, \"dataset_metrics\": {\"source\": {\"train\": {\"n_unique_x\": 336000, \"n_unique_y\": 16, \"n_batch/episode\": 12600}, \"val\": {\"n_unique_x\": 72000, \"n_unique_y\": 16, \"n_batch/episode\": 1800}, \"test\": {\"n_unique_x\": 72000, \"n_unique_y\": 16, \"n_batch/episode\": 1800}}, \"target\": {\"train\": {\"n_unique_x\": 560000, \"n_unique_y\": 16, \"n_batch/episode\": 21000}, \"val\": {\"n_unique_x\": 120000, \"n_unique_y\": 16, \"n_batch/episode\": 3000}, \"test\": {\"n_unique_x\": 120000, \"n_unique_y\": 16, \"n_batch/episode\": 3000}}}}'"
      ]
     },
     "execution_count": 20,
     "metadata": {},
     "output_type": "execute_result"
    }
   ],
   "source": [
    "json.dumps(experiment)"
   ]
  }
 ],
 "metadata": {
  "celltoolbar": "Tags",
  "kernelspec": {
   "display_name": "Python 3 (ipykernel)",
   "language": "python",
   "name": "python3"
  },
  "language_info": {
   "codemirror_mode": {
    "name": "ipython",
    "version": 3
   },
   "file_extension": ".py",
   "mimetype": "text/x-python",
   "name": "python",
   "nbconvert_exporter": "python",
   "pygments_lexer": "ipython3",
   "version": "3.8.10"
  },
  "papermill": {
   "default_parameters": {},
   "duration": 4614.060702,
   "end_time": "2022-03-21T09:40:28.585614",
   "environment_variables": {},
   "exception": null,
   "input_path": "/mnt/wd500GB/CSC500/csc500-main/csc500-notebooks/templates/ptn_template.ipynb",
   "output_path": "trial.ipynb",
   "parameters": {
    "parameters": {
     "BEST_MODEL_PATH": "./best_model.pth",
     "NUM_LOGS_PER_EPOCH": 10,
     "criteria_for_best": "target_accuracy",
     "dataset_seed": 420,
     "device": "cuda",
     "domains_source": [
      8,
      32,
      50
     ],
     "domains_target": [
      14,
      20,
      26,
      38,
      44
     ],
     "episode_transforms_source": [],
     "episode_transforms_target": [],
     "experiment_name": "tuned_1v2:oracle.run2",
     "labels_source": [
      "3123D52",
      "3123D65",
      "3123D79",
      "3123D80",
      "3123D54",
      "3123D70",
      "3123D7B",
      "3123D89",
      "3123D58",
      "3123D76",
      "3123D7D",
      "3123EFE",
      "3123D64",
      "3123D78",
      "3123D7E",
      "3124E4A"
     ],
     "labels_target": [
      "3123D52",
      "3123D65",
      "3123D79",
      "3123D80",
      "3123D54",
      "3123D70",
      "3123D7B",
      "3123D89",
      "3123D58",
      "3123D76",
      "3123D7D",
      "3123EFE",
      "3123D64",
      "3123D78",
      "3123D7E",
      "3124E4A"
     ],
     "lr": 0.0001,
     "n_epoch": 50,
     "n_query": 2,
     "n_shot": 3,
     "n_way": 16,
     "num_examples_per_domain_per_label_source": -1,
     "num_examples_per_domain_per_label_target": -1,
     "patience": 3,
     "pickle_name": "oracle.Run2_10kExamples_stratified_ds.2022A.pkl",
     "seed": 420,
     "test_k_factor": 2,
     "torch_default_dtype": "torch.float32",
     "train_k_factor": 3,
     "val_k_factor": 2,
     "x_net": [
      {
       "class": "nnReshape",
       "kargs": {
        "shape": [
         -1,
         1,
         2,
         256
        ]
       }
      },
      {
       "class": "Conv2d",
       "kargs": {
        "bias": false,
        "in_channels": 1,
        "kernel_size": [
         1,
         7
        ],
        "out_channels": 256,
        "padding": [
         0,
         3
        ]
       }
      },
      {
       "class": "ReLU",
       "kargs": {
        "inplace": true
       }
      },
      {
       "class": "BatchNorm2d",
       "kargs": {
        "num_features": 256
       }
      },
      {
       "class": "Conv2d",
       "kargs": {
        "bias": true,
        "in_channels": 256,
        "kernel_size": [
         2,
         7
        ],
        "out_channels": 80,
        "padding": [
         0,
         3
        ]
       }
      },
      {
       "class": "ReLU",
       "kargs": {
        "inplace": true
       }
      },
      {
       "class": "BatchNorm2d",
       "kargs": {
        "num_features": 80
       }
      },
      {
       "class": "Flatten",
       "kargs": {}
      },
      {
       "class": "Linear",
       "kargs": {
        "in_features": 20480,
        "out_features": 256
       }
      },
      {
       "class": "ReLU",
       "kargs": {
        "inplace": true
       }
      },
      {
       "class": "BatchNorm1d",
       "kargs": {
        "num_features": 256
       }
      },
      {
       "class": "Linear",
       "kargs": {
        "in_features": 256,
        "out_features": 256
       }
      }
     ],
     "x_transforms_source": [
      "unit_mag"
     ],
     "x_transforms_target": [
      "unit_mag"
     ]
    }
   },
   "start_time": "2022-03-21T08:23:34.524912",
   "version": "2.3.4"
  }
 },
 "nbformat": 4,
 "nbformat_minor": 5
}