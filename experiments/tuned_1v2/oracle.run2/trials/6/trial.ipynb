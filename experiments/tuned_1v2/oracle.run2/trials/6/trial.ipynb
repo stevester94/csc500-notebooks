{
 "cells": [
  {
   "cell_type": "markdown",
   "id": "9fea5f46",
   "metadata": {
    "papermill": {
     "duration": 0.013,
     "end_time": "2022-03-21T12:20:07.778873",
     "exception": false,
     "start_time": "2022-03-21T12:20:07.765873",
     "status": "completed"
    },
    "tags": []
   },
   "source": [
    "# PTN Template\n",
    "This notebook serves as a template for single dataset PTN experiments  \n",
    "It can be run on its own by setting STANDALONE to True (do a find for \"STANDALONE\" to see where)  \n",
    "But it is intended to be executed as part of a *papermill.py script. See any of the   \n",
    "experimentes with a papermill script to get started with that workflow.  "
   ]
  },
  {
   "cell_type": "code",
   "execution_count": 1,
   "id": "0902182a",
   "metadata": {
    "execution": {
     "iopub.execute_input": "2022-03-21T12:20:07.811418Z",
     "iopub.status.busy": "2022-03-21T12:20:07.804549Z",
     "iopub.status.idle": "2022-03-21T12:20:08.716726Z",
     "shell.execute_reply": "2022-03-21T12:20:08.716942Z"
    },
    "papermill": {
     "duration": 0.928626,
     "end_time": "2022-03-21T12:20:08.717071",
     "exception": false,
     "start_time": "2022-03-21T12:20:07.788445",
     "status": "completed"
    },
    "tags": []
   },
   "outputs": [],
   "source": [
    "%load_ext autoreload\n",
    "%autoreload 2\n",
    "%matplotlib inline\n",
    "\n",
    "    \n",
    "import os, json, sys, time, random\n",
    "import numpy as np\n",
    "import torch\n",
    "from torch.optim import Adam\n",
    "from  easydict import EasyDict\n",
    "import matplotlib.pyplot as plt\n",
    "\n",
    "from steves_models.steves_ptn import Steves_Prototypical_Network\n",
    "\n",
    "from steves_utils.lazy_iterable_wrapper import Lazy_Iterable_Wrapper\n",
    "from steves_utils.iterable_aggregator import Iterable_Aggregator\n",
    "from steves_utils.ptn_train_eval_test_jig import  PTN_Train_Eval_Test_Jig\n",
    "from steves_utils.torch_sequential_builder import build_sequential\n",
    "from steves_utils.torch_utils import get_dataset_metrics, ptn_confusion_by_domain_over_dataloader\n",
    "from steves_utils.utils_v2 import (per_domain_accuracy_from_confusion, get_datasets_base_path)\n",
    "from steves_utils.PTN.utils import independent_accuracy_assesment\n",
    "\n",
    "from steves_utils.stratified_dataset.episodic_accessor import Episodic_Accessor_Factory\n",
    "\n",
    "from steves_utils.ptn_do_report import (\n",
    "    get_loss_curve,\n",
    "    get_results_table,\n",
    "    get_parameters_table,\n",
    "    get_domain_accuracies,\n",
    ")\n",
    "\n",
    "from steves_utils.transforms import get_chained_transform"
   ]
  },
  {
   "cell_type": "markdown",
   "id": "41c840b4",
   "metadata": {
    "papermill": {
     "duration": 0.011743,
     "end_time": "2022-03-21T12:20:08.744145",
     "exception": false,
     "start_time": "2022-03-21T12:20:08.732402",
     "status": "completed"
    },
    "tags": []
   },
   "source": [
    "# Required Parameters\n",
    "These are allowed parameters, not defaults\n",
    "Each of these values need to be present in the injected parameters (the notebook will raise an exception if they are not present)\n",
    "\n",
    "Papermill uses the cell tag \"parameters\" to inject the real parameters below this cell.\n",
    "Enable tags to see what I mean"
   ]
  },
  {
   "cell_type": "code",
   "execution_count": 2,
   "id": "fd44eb83",
   "metadata": {
    "execution": {
     "iopub.execute_input": "2022-03-21T12:20:08.766771Z",
     "iopub.status.busy": "2022-03-21T12:20:08.766509Z",
     "iopub.status.idle": "2022-03-21T12:20:08.781488Z",
     "shell.execute_reply": "2022-03-21T12:20:08.781098Z"
    },
    "papermill": {
     "duration": 0.027253,
     "end_time": "2022-03-21T12:20:08.781578",
     "exception": false,
     "start_time": "2022-03-21T12:20:08.754325",
     "status": "completed"
    },
    "tags": []
   },
   "outputs": [],
   "source": [
    "required_parameters = {\n",
    "    \"experiment_name\",\n",
    "    \"lr\",\n",
    "    \"device\",\n",
    "    \"seed\",\n",
    "    \"dataset_seed\",\n",
    "    \"labels_source\",\n",
    "    \"labels_target\",\n",
    "    \"domains_source\",\n",
    "    \"domains_target\",\n",
    "    \"num_examples_per_domain_per_label_source\",\n",
    "    \"num_examples_per_domain_per_label_target\",\n",
    "    \"n_shot\",\n",
    "    \"n_way\",\n",
    "    \"n_query\",\n",
    "    \"train_k_factor\",\n",
    "    \"val_k_factor\",\n",
    "    \"test_k_factor\",\n",
    "    \"n_epoch\",\n",
    "    \"patience\",\n",
    "    \"criteria_for_best\",\n",
    "    \"x_transforms_source\",\n",
    "    \"x_transforms_target\",\n",
    "    \"episode_transforms_source\",\n",
    "    \"episode_transforms_target\",\n",
    "    \"pickle_name\",\n",
    "    \"x_net\",\n",
    "    \"NUM_LOGS_PER_EPOCH\",\n",
    "    \"BEST_MODEL_PATH\",\n",
    "    \"torch_default_dtype\"\n",
    "}"
   ]
  },
  {
   "cell_type": "code",
   "execution_count": 3,
   "id": "fa3f0049",
   "metadata": {
    "execution": {
     "iopub.execute_input": "2022-03-21T12:20:08.814540Z",
     "iopub.status.busy": "2022-03-21T12:20:08.814145Z",
     "iopub.status.idle": "2022-03-21T12:20:08.825980Z",
     "shell.execute_reply": "2022-03-21T12:20:08.826347Z"
    },
    "papermill": {
     "duration": 0.031007,
     "end_time": "2022-03-21T12:20:08.826450",
     "exception": false,
     "start_time": "2022-03-21T12:20:08.795443",
     "status": "completed"
    },
    "tags": [
     "parameters"
    ]
   },
   "outputs": [],
   "source": [
    "\n",
    "\n",
    "standalone_parameters = {}\n",
    "standalone_parameters[\"experiment_name\"] = \"STANDALONE PTN\"\n",
    "standalone_parameters[\"lr\"] = 0.0001\n",
    "standalone_parameters[\"device\"] = \"cuda\"\n",
    "\n",
    "standalone_parameters[\"seed\"] = 1337\n",
    "standalone_parameters[\"dataset_seed\"] = 1337\n",
    "\n",
    "\n",
    "standalone_parameters[\"num_examples_per_domain_per_label_source\"]=100\n",
    "standalone_parameters[\"num_examples_per_domain_per_label_target\"]=100\n",
    "\n",
    "standalone_parameters[\"n_shot\"] = 3\n",
    "standalone_parameters[\"n_query\"]  = 2\n",
    "standalone_parameters[\"train_k_factor\"] = 1\n",
    "standalone_parameters[\"val_k_factor\"] = 2\n",
    "standalone_parameters[\"test_k_factor\"] = 2\n",
    "\n",
    "\n",
    "standalone_parameters[\"n_epoch\"] = 100\n",
    "\n",
    "standalone_parameters[\"patience\"] = 10\n",
    "standalone_parameters[\"criteria_for_best\"] = \"target_accuracy\"\n",
    "\n",
    "standalone_parameters[\"x_transforms_source\"] = [\"unit_power\"]\n",
    "standalone_parameters[\"x_transforms_target\"] = [\"unit_power\"]\n",
    "standalone_parameters[\"episode_transforms_source\"] = []\n",
    "standalone_parameters[\"episode_transforms_target\"] = []\n",
    "\n",
    "standalone_parameters[\"torch_default_dtype\"] = \"torch.float32\" \n",
    "\n",
    "\n",
    "\n",
    "standalone_parameters[\"x_net\"] =     [\n",
    "    {\"class\": \"nnReshape\", \"kargs\": {\"shape\":[-1, 1, 2, 256]}},\n",
    "    {\"class\": \"Conv2d\", \"kargs\": { \"in_channels\":1, \"out_channels\":256, \"kernel_size\":(1,7), \"bias\":False, \"padding\":(0,3), },},\n",
    "    {\"class\": \"ReLU\", \"kargs\": {\"inplace\": True}},\n",
    "    {\"class\": \"BatchNorm2d\", \"kargs\": {\"num_features\":256}},\n",
    "\n",
    "    {\"class\": \"Conv2d\", \"kargs\": { \"in_channels\":256, \"out_channels\":80, \"kernel_size\":(2,7), \"bias\":True, \"padding\":(0,3), },},\n",
    "    {\"class\": \"ReLU\", \"kargs\": {\"inplace\": True}},\n",
    "    {\"class\": \"BatchNorm2d\", \"kargs\": {\"num_features\":80}},\n",
    "    {\"class\": \"Flatten\", \"kargs\": {}},\n",
    "\n",
    "    {\"class\": \"Linear\", \"kargs\": {\"in_features\": 80*256, \"out_features\": 256}}, # 80 units per IQ pair\n",
    "    {\"class\": \"ReLU\", \"kargs\": {\"inplace\": True}},\n",
    "    {\"class\": \"BatchNorm1d\", \"kargs\": {\"num_features\":256}},\n",
    "\n",
    "    {\"class\": \"Linear\", \"kargs\": {\"in_features\": 256, \"out_features\": 256}},\n",
    "]\n",
    "\n",
    "# Parameters relevant to results\n",
    "# These parameters will basically never need to change\n",
    "standalone_parameters[\"NUM_LOGS_PER_EPOCH\"] = 10\n",
    "standalone_parameters[\"BEST_MODEL_PATH\"] = \"./best_model.pth\"\n",
    "\n",
    "# uncomment for CORES dataset\n",
    "from steves_utils.CORES.utils import (\n",
    "    ALL_NODES,\n",
    "    ALL_NODES_MINIMUM_1000_EXAMPLES,\n",
    "    ALL_DAYS\n",
    ")\n",
    "\n",
    "\n",
    "standalone_parameters[\"labels_source\"] = ALL_NODES\n",
    "standalone_parameters[\"labels_target\"] = ALL_NODES\n",
    "\n",
    "standalone_parameters[\"domains_source\"] = [1]\n",
    "standalone_parameters[\"domains_target\"] = [2,3,4,5]\n",
    "\n",
    "standalone_parameters[\"pickle_name\"] = \"cores.stratified_ds.2022A.pkl\"\n",
    "\n",
    "\n",
    "# Uncomment these for ORACLE dataset\n",
    "# from steves_utils.ORACLE.utils_v2 import (\n",
    "#     ALL_DISTANCES_FEET,\n",
    "#     ALL_RUNS,\n",
    "#     ALL_SERIAL_NUMBERS,\n",
    "# )\n",
    "# standalone_parameters[\"labels_source\"] = ALL_SERIAL_NUMBERS\n",
    "# standalone_parameters[\"labels_target\"] = ALL_SERIAL_NUMBERS\n",
    "# standalone_parameters[\"domains_source\"] = [8,20, 38,50]\n",
    "# standalone_parameters[\"domains_target\"] = [14, 26, 32, 44, 56]\n",
    "# standalone_parameters[\"pickle_name\"] = \"oracle.frame_indexed.stratified_ds.2022A.pkl\"\n",
    "# standalone_parameters[\"num_examples_per_domain_per_label_source\"]=1000\n",
    "# standalone_parameters[\"num_examples_per_domain_per_label_target\"]=1000\n",
    "\n",
    "# Uncomment these for Metahan dataset\n",
    "# standalone_parameters[\"labels_source\"] = list(range(19))\n",
    "# standalone_parameters[\"labels_target\"] = list(range(19))\n",
    "# standalone_parameters[\"domains_source\"] = [0]\n",
    "# standalone_parameters[\"domains_target\"] = [1]\n",
    "# standalone_parameters[\"pickle_name\"] = \"metehan.stratified_ds.2022A.pkl\"\n",
    "# standalone_parameters[\"n_way\"]  = len(standalone_parameters[\"labels_source\"])\n",
    "# standalone_parameters[\"num_examples_per_domain_per_label_source\"]=200\n",
    "# standalone_parameters[\"num_examples_per_domain_per_label_target\"]=100\n",
    "\n",
    "\n",
    "standalone_parameters[\"n_way\"]  = len(standalone_parameters[\"labels_source\"])"
   ]
  },
  {
   "cell_type": "code",
   "execution_count": 4,
   "id": "ac0a7d53",
   "metadata": {
    "execution": {
     "iopub.execute_input": "2022-03-21T12:20:08.857833Z",
     "iopub.status.busy": "2022-03-21T12:20:08.857436Z",
     "iopub.status.idle": "2022-03-21T12:20:08.869577Z",
     "shell.execute_reply": "2022-03-21T12:20:08.869207Z"
    },
    "papermill": {
     "duration": 0.029513,
     "end_time": "2022-03-21T12:20:08.869667",
     "exception": false,
     "start_time": "2022-03-21T12:20:08.840154",
     "status": "completed"
    },
    "tags": [
     "injected-parameters"
    ]
   },
   "outputs": [],
   "source": [
    "# Parameters\n",
    "parameters = {\n",
    "    \"experiment_name\": \"tuned_1v2:oracle.run2\",\n",
    "    \"device\": \"cuda\",\n",
    "    \"lr\": 0.0001,\n",
    "    \"labels_source\": [\n",
    "        \"3123D52\",\n",
    "        \"3123D65\",\n",
    "        \"3123D79\",\n",
    "        \"3123D80\",\n",
    "        \"3123D54\",\n",
    "        \"3123D70\",\n",
    "        \"3123D7B\",\n",
    "        \"3123D89\",\n",
    "        \"3123D58\",\n",
    "        \"3123D76\",\n",
    "        \"3123D7D\",\n",
    "        \"3123EFE\",\n",
    "        \"3123D64\",\n",
    "        \"3123D78\",\n",
    "        \"3123D7E\",\n",
    "        \"3124E4A\",\n",
    "    ],\n",
    "    \"labels_target\": [\n",
    "        \"3123D52\",\n",
    "        \"3123D65\",\n",
    "        \"3123D79\",\n",
    "        \"3123D80\",\n",
    "        \"3123D54\",\n",
    "        \"3123D70\",\n",
    "        \"3123D7B\",\n",
    "        \"3123D89\",\n",
    "        \"3123D58\",\n",
    "        \"3123D76\",\n",
    "        \"3123D7D\",\n",
    "        \"3123EFE\",\n",
    "        \"3123D64\",\n",
    "        \"3123D78\",\n",
    "        \"3123D7E\",\n",
    "        \"3124E4A\",\n",
    "    ],\n",
    "    \"episode_transforms_source\": [],\n",
    "    \"episode_transforms_target\": [],\n",
    "    \"domains_source\": [8, 32, 50],\n",
    "    \"domains_target\": [14, 20, 26, 38, 44],\n",
    "    \"num_examples_per_domain_per_label_source\": -1,\n",
    "    \"num_examples_per_domain_per_label_target\": -1,\n",
    "    \"n_shot\": 3,\n",
    "    \"n_way\": 16,\n",
    "    \"n_query\": 2,\n",
    "    \"train_k_factor\": 3,\n",
    "    \"val_k_factor\": 2,\n",
    "    \"test_k_factor\": 2,\n",
    "    \"torch_default_dtype\": \"torch.float32\",\n",
    "    \"n_epoch\": 50,\n",
    "    \"patience\": 3,\n",
    "    \"criteria_for_best\": \"target_accuracy\",\n",
    "    \"x_net\": [\n",
    "        {\"class\": \"nnReshape\", \"kargs\": {\"shape\": [-1, 1, 2, 256]}},\n",
    "        {\n",
    "            \"class\": \"Conv2d\",\n",
    "            \"kargs\": {\n",
    "                \"in_channels\": 1,\n",
    "                \"out_channels\": 256,\n",
    "                \"kernel_size\": [1, 7],\n",
    "                \"bias\": False,\n",
    "                \"padding\": [0, 3],\n",
    "            },\n",
    "        },\n",
    "        {\"class\": \"ReLU\", \"kargs\": {\"inplace\": True}},\n",
    "        {\"class\": \"BatchNorm2d\", \"kargs\": {\"num_features\": 256}},\n",
    "        {\n",
    "            \"class\": \"Conv2d\",\n",
    "            \"kargs\": {\n",
    "                \"in_channels\": 256,\n",
    "                \"out_channels\": 80,\n",
    "                \"kernel_size\": [2, 7],\n",
    "                \"bias\": True,\n",
    "                \"padding\": [0, 3],\n",
    "            },\n",
    "        },\n",
    "        {\"class\": \"ReLU\", \"kargs\": {\"inplace\": True}},\n",
    "        {\"class\": \"BatchNorm2d\", \"kargs\": {\"num_features\": 80}},\n",
    "        {\"class\": \"Flatten\", \"kargs\": {}},\n",
    "        {\"class\": \"Linear\", \"kargs\": {\"in_features\": 20480, \"out_features\": 256}},\n",
    "        {\"class\": \"ReLU\", \"kargs\": {\"inplace\": True}},\n",
    "        {\"class\": \"BatchNorm1d\", \"kargs\": {\"num_features\": 256}},\n",
    "        {\"class\": \"Linear\", \"kargs\": {\"in_features\": 256, \"out_features\": 256}},\n",
    "    ],\n",
    "    \"NUM_LOGS_PER_EPOCH\": 10,\n",
    "    \"BEST_MODEL_PATH\": \"./best_model.pth\",\n",
    "    \"pickle_name\": \"oracle.Run2_10kExamples_stratified_ds.2022A.pkl\",\n",
    "    \"x_transforms_source\": [],\n",
    "    \"x_transforms_target\": [],\n",
    "    \"dataset_seed\": 420,\n",
    "    \"seed\": 420,\n",
    "}\n"
   ]
  },
  {
   "cell_type": "code",
   "execution_count": 5,
   "id": "8fa1cc33",
   "metadata": {
    "execution": {
     "iopub.execute_input": "2022-03-21T12:20:08.896862Z",
     "iopub.status.busy": "2022-03-21T12:20:08.896616Z",
     "iopub.status.idle": "2022-03-21T12:20:08.910404Z",
     "shell.execute_reply": "2022-03-21T12:20:08.910100Z"
    },
    "papermill": {
     "duration": 0.02677,
     "end_time": "2022-03-21T12:20:08.910472",
     "exception": false,
     "start_time": "2022-03-21T12:20:08.883702",
     "status": "completed"
    },
    "tags": []
   },
   "outputs": [],
   "source": [
    "# Set this to True if you want to run this template directly\n",
    "STANDALONE = False\n",
    "if STANDALONE:\n",
    "    print(\"parameters not injected, running with standalone_parameters\")\n",
    "    parameters = standalone_parameters\n",
    "\n",
    "if not 'parameters' in locals() and not 'parameters' in globals():\n",
    "    raise Exception(\"Parameter injection failed\")\n",
    "\n",
    "#Use an easy dict for all the parameters\n",
    "p = EasyDict(parameters)\n",
    "\n",
    "supplied_keys = set(p.keys())\n",
    "\n",
    "if  supplied_keys != required_parameters:\n",
    "    print(\"Parameters are incorrect\")\n",
    "    if len(supplied_keys - required_parameters)>0: print(\"Shouldn't have:\", str(supplied_keys - required_parameters))\n",
    "    if len(required_parameters - supplied_keys)>0: print(\"Need to have:\", str(required_parameters - supplied_keys))\n",
    "    raise RuntimeError(\"Parameters are incorrect\")\n",
    "\n"
   ]
  },
  {
   "cell_type": "code",
   "execution_count": 6,
   "id": "3a028d58",
   "metadata": {
    "execution": {
     "iopub.execute_input": "2022-03-21T12:20:08.936105Z",
     "iopub.status.busy": "2022-03-21T12:20:08.935810Z",
     "iopub.status.idle": "2022-03-21T12:20:08.950417Z",
     "shell.execute_reply": "2022-03-21T12:20:08.950115Z"
    },
    "papermill": {
     "duration": 0.026463,
     "end_time": "2022-03-21T12:20:08.950485",
     "exception": false,
     "start_time": "2022-03-21T12:20:08.924022",
     "status": "completed"
    },
    "tags": []
   },
   "outputs": [],
   "source": [
    "###################################\n",
    "# Set the RNGs and make it all deterministic\n",
    "###################################\n",
    "np.random.seed(p.seed)\n",
    "random.seed(p.seed)\n",
    "torch.manual_seed(p.seed)\n",
    "\n",
    "torch.use_deterministic_algorithms(True) "
   ]
  },
  {
   "cell_type": "code",
   "execution_count": 7,
   "id": "b691acf6",
   "metadata": {
    "execution": {
     "iopub.execute_input": "2022-03-21T12:20:08.975776Z",
     "iopub.status.busy": "2022-03-21T12:20:08.975533Z",
     "iopub.status.idle": "2022-03-21T12:20:08.989425Z",
     "shell.execute_reply": "2022-03-21T12:20:08.989078Z"
    },
    "papermill": {
     "duration": 0.025256,
     "end_time": "2022-03-21T12:20:08.989493",
     "exception": false,
     "start_time": "2022-03-21T12:20:08.964237",
     "status": "completed"
    },
    "tags": []
   },
   "outputs": [],
   "source": [
    "###########################################\n",
    "# The stratified datasets honor this\n",
    "###########################################\n",
    "torch.set_default_dtype(eval(p.torch_default_dtype))"
   ]
  },
  {
   "cell_type": "code",
   "execution_count": 8,
   "id": "b5fba671",
   "metadata": {
    "execution": {
     "iopub.execute_input": "2022-03-21T12:20:09.015371Z",
     "iopub.status.busy": "2022-03-21T12:20:09.015106Z",
     "iopub.status.idle": "2022-03-21T12:20:09.055031Z",
     "shell.execute_reply": "2022-03-21T12:20:09.054634Z"
    },
    "papermill": {
     "duration": 0.05206,
     "end_time": "2022-03-21T12:20:09.055118",
     "exception": false,
     "start_time": "2022-03-21T12:20:09.003058",
     "status": "completed"
    },
    "tags": []
   },
   "outputs": [],
   "source": [
    "###################################\n",
    "# Build the network(s)\n",
    "# Note: It's critical to do this AFTER setting the RNG\n",
    "# (This is due to the randomized initial weights)\n",
    "###################################\n",
    "x_net = build_sequential(p.x_net)"
   ]
  },
  {
   "cell_type": "code",
   "execution_count": 9,
   "id": "5d7e61cc",
   "metadata": {
    "execution": {
     "iopub.execute_input": "2022-03-21T12:20:09.081402Z",
     "iopub.status.busy": "2022-03-21T12:20:09.081159Z",
     "iopub.status.idle": "2022-03-21T12:20:09.094999Z",
     "shell.execute_reply": "2022-03-21T12:20:09.094754Z"
    },
    "papermill": {
     "duration": 0.026029,
     "end_time": "2022-03-21T12:20:09.095048",
     "exception": false,
     "start_time": "2022-03-21T12:20:09.069019",
     "status": "completed"
    },
    "tags": []
   },
   "outputs": [],
   "source": [
    "start_time_secs = time.time()"
   ]
  },
  {
   "cell_type": "code",
   "execution_count": 10,
   "id": "fd5442bc",
   "metadata": {
    "execution": {
     "iopub.execute_input": "2022-03-21T12:20:09.128364Z",
     "iopub.status.busy": "2022-03-21T12:20:09.127798Z",
     "iopub.status.idle": "2022-03-21T12:20:16.942470Z",
     "shell.execute_reply": "2022-03-21T12:20:16.941945Z"
    },
    "papermill": {
     "duration": 7.834264,
     "end_time": "2022-03-21T12:20:16.942579",
     "exception": false,
     "start_time": "2022-03-21T12:20:09.108315",
     "status": "completed"
    },
    "tags": []
   },
   "outputs": [],
   "source": [
    "###################################\n",
    "# Build the dataset\n",
    "###################################\n",
    "\n",
    "if p.x_transforms_source == []: x_transform_source = None\n",
    "else: x_transform_source = get_chained_transform(p.x_transforms_source) \n",
    "\n",
    "if p.x_transforms_target == []: x_transform_target = None\n",
    "else: x_transform_target = get_chained_transform(p.x_transforms_target)\n",
    "\n",
    "if p.episode_transforms_source == []: episode_transform_source = None\n",
    "else: raise Exception(\"episode_transform_source not implemented\")\n",
    "\n",
    "if p.episode_transforms_target == []: episode_transform_target = None\n",
    "else: raise Exception(\"episode_transform_target not implemented\")\n",
    "\n",
    "\n",
    "eaf_source = Episodic_Accessor_Factory(\n",
    "    labels=p.labels_source,\n",
    "    domains=p.domains_source,\n",
    "    num_examples_per_domain_per_label=p.num_examples_per_domain_per_label_source,\n",
    "    iterator_seed=p.seed,\n",
    "    dataset_seed=p.dataset_seed,\n",
    "    n_shot=p.n_shot,\n",
    "    n_way=p.n_way,\n",
    "    n_query=p.n_query,\n",
    "    train_val_test_k_factors=(p.train_k_factor,p.val_k_factor,p.test_k_factor),\n",
    "    pickle_path=os.path.join(get_datasets_base_path(), p.pickle_name),\n",
    "    x_transform_func=x_transform_source,\n",
    "    example_transform_func=episode_transform_source,\n",
    "    \n",
    ")\n",
    "train_original_source, val_original_source, test_original_source = eaf_source.get_train(), eaf_source.get_val(), eaf_source.get_test()\n",
    "\n",
    "\n",
    "eaf_target = Episodic_Accessor_Factory(\n",
    "    labels=p.labels_target,\n",
    "    domains=p.domains_target,\n",
    "    num_examples_per_domain_per_label=p.num_examples_per_domain_per_label_target,\n",
    "    iterator_seed=p.seed,\n",
    "    dataset_seed=p.dataset_seed,\n",
    "    n_shot=p.n_shot,\n",
    "    n_way=p.n_way,\n",
    "    n_query=p.n_query,\n",
    "    train_val_test_k_factors=(p.train_k_factor,p.val_k_factor,p.test_k_factor),\n",
    "    pickle_path=os.path.join(get_datasets_base_path(), p.pickle_name),\n",
    "    x_transform_func=x_transform_target,\n",
    "    example_transform_func=episode_transform_target,\n",
    ")\n",
    "train_original_target, val_original_target, test_original_target = eaf_target.get_train(), eaf_target.get_val(), eaf_target.get_test()\n",
    "\n",
    "\n",
    "transform_lambda = lambda ex: ex[1] # Original is (<domain>, <episode>) so we strip down to episode only\n",
    "\n",
    "train_processed_source = Lazy_Iterable_Wrapper(train_original_source, transform_lambda)\n",
    "val_processed_source   = Lazy_Iterable_Wrapper(val_original_source, transform_lambda)\n",
    "test_processed_source  = Lazy_Iterable_Wrapper(test_original_source, transform_lambda)\n",
    "\n",
    "train_processed_target = Lazy_Iterable_Wrapper(train_original_target, transform_lambda)\n",
    "val_processed_target   = Lazy_Iterable_Wrapper(val_original_target, transform_lambda)\n",
    "test_processed_target  = Lazy_Iterable_Wrapper(test_original_target, transform_lambda)\n",
    "\n",
    "datasets = EasyDict({\n",
    "    \"source\": {\n",
    "        \"original\": {\"train\":train_original_source, \"val\":val_original_source, \"test\":test_original_source},\n",
    "        \"processed\": {\"train\":train_processed_source, \"val\":val_processed_source, \"test\":test_processed_source}\n",
    "    },\n",
    "    \"target\": {\n",
    "        \"original\": {\"train\":train_original_target, \"val\":val_original_target, \"test\":test_original_target},\n",
    "        \"processed\": {\"train\":train_processed_target, \"val\":val_processed_target, \"test\":test_processed_target}\n",
    "    },\n",
    "})"
   ]
  },
  {
   "cell_type": "code",
   "execution_count": 11,
   "id": "296189d9",
   "metadata": {
    "execution": {
     "iopub.execute_input": "2022-03-21T12:20:16.970321Z",
     "iopub.status.busy": "2022-03-21T12:20:16.970057Z",
     "iopub.status.idle": "2022-03-21T12:20:18.897044Z",
     "shell.execute_reply": "2022-03-21T12:20:18.897299Z"
    },
    "papermill": {
     "duration": 1.939911,
     "end_time": "2022-03-21T12:20:18.897379",
     "exception": false,
     "start_time": "2022-03-21T12:20:16.957468",
     "status": "completed"
    },
    "tags": []
   },
   "outputs": [
    {
     "name": "stdout",
     "output_type": "stream",
     "text": [
      "Visually inspect these to see if they line up with expected values given the transforms\n",
      "x_transforms_source []\n",
      "x_transforms_target []\n",
      "Average magnitude, source: 0.004697012\n",
      "Average power, source: 2.7521159e-05\n"
     ]
    },
    {
     "name": "stdout",
     "output_type": "stream",
     "text": [
      "Average magnitude, target: 0.0051763095\n",
      "Average power, target: 3.3315344e-05\n"
     ]
    }
   ],
   "source": [
    "# Some quick unit tests on the data\n",
    "from steves_utils.transforms import get_average_power, get_average_magnitude\n",
    "\n",
    "q_x, q_y, s_x, s_y, truth = next(iter(train_processed_source))\n",
    "\n",
    "assert q_x.dtype == eval(p.torch_default_dtype)\n",
    "assert s_x.dtype == eval(p.torch_default_dtype)\n",
    "\n",
    "print(\"Visually inspect these to see if they line up with expected values given the transforms\")\n",
    "print('x_transforms_source', p.x_transforms_source)\n",
    "print('x_transforms_target', p.x_transforms_target)\n",
    "print(\"Average magnitude, source:\", get_average_magnitude(q_x[0].numpy()))\n",
    "print(\"Average power, source:\", get_average_power(q_x[0].numpy()))\n",
    "\n",
    "q_x, q_y, s_x, s_y, truth = next(iter(train_processed_target))\n",
    "print(\"Average magnitude, target:\", get_average_magnitude(q_x[0].numpy()))\n",
    "print(\"Average power, target:\", get_average_power(q_x[0].numpy()))\n"
   ]
  },
  {
   "cell_type": "code",
   "execution_count": 12,
   "id": "bbdacba1",
   "metadata": {
    "execution": {
     "iopub.execute_input": "2022-03-21T12:20:18.921209Z",
     "iopub.status.busy": "2022-03-21T12:20:18.919840Z",
     "iopub.status.idle": "2022-03-21T12:20:18.997076Z",
     "shell.execute_reply": "2022-03-21T12:20:18.996639Z"
    },
    "papermill": {
     "duration": 0.089257,
     "end_time": "2022-03-21T12:20:18.997181",
     "exception": false,
     "start_time": "2022-03-21T12:20:18.907924",
     "status": "completed"
    },
    "tags": []
   },
   "outputs": [
    {
     "name": "stdout",
     "output_type": "stream",
     "text": [
      "(2, 256)\n"
     ]
    }
   ],
   "source": [
    "###################################\n",
    "# Build the model\n",
    "###################################\n",
    "model = Steves_Prototypical_Network(x_net, device=p.device, x_shape=(2,256))\n",
    "optimizer = Adam(params=model.parameters(), lr=p.lr)"
   ]
  },
  {
   "cell_type": "code",
   "execution_count": 13,
   "id": "22b39ac5",
   "metadata": {
    "execution": {
     "iopub.execute_input": "2022-03-21T12:20:19.024942Z",
     "iopub.status.busy": "2022-03-21T12:20:19.023345Z",
     "iopub.status.idle": "2022-03-21T14:07:04.604203Z",
     "shell.execute_reply": "2022-03-21T14:07:04.603973Z"
    },
    "papermill": {
     "duration": 6405.592769,
     "end_time": "2022-03-21T14:07:04.604263",
     "exception": false,
     "start_time": "2022-03-21T12:20:19.011494",
     "status": "completed"
    },
    "tags": []
   },
   "outputs": [
    {
     "name": "stdout",
     "output_type": "stream",
     "text": [
      "epoch: 1, [batch: 1 / 12600], examples_per_second: 25.9013, train_label_loss: 2.7442, \n"
     ]
    },
    {
     "name": "stdout",
     "output_type": "stream",
     "text": [
      "epoch: 1, [batch: 1260 / 12600], examples_per_second: 3177.2458, train_label_loss: 1.2545, \n"
     ]
    },
    {
     "name": "stdout",
     "output_type": "stream",
     "text": [
      "epoch: 1, [batch: 2520 / 12600], examples_per_second: 3160.0511, train_label_loss: 0.7602, \n"
     ]
    },
    {
     "name": "stdout",
     "output_type": "stream",
     "text": [
      "epoch: 1, [batch: 3780 / 12600], examples_per_second: 3167.3044, train_label_loss: 0.4626, \n"
     ]
    },
    {
     "name": "stdout",
     "output_type": "stream",
     "text": [
      "epoch: 1, [batch: 5040 / 12600], examples_per_second: 3147.3360, train_label_loss: 0.3706, \n"
     ]
    },
    {
     "name": "stdout",
     "output_type": "stream",
     "text": [
      "epoch: 1, [batch: 6300 / 12600], examples_per_second: 3159.8032, train_label_loss: 0.3252, \n"
     ]
    },
    {
     "name": "stdout",
     "output_type": "stream",
     "text": [
      "epoch: 1, [batch: 7560 / 12600], examples_per_second: 3156.5835, train_label_loss: 0.6564, \n"
     ]
    },
    {
     "name": "stdout",
     "output_type": "stream",
     "text": [
      "epoch: 1, [batch: 8820 / 12600], examples_per_second: 3149.4897, train_label_loss: 0.4891, \n"
     ]
    },
    {
     "name": "stdout",
     "output_type": "stream",
     "text": [
      "epoch: 1, [batch: 10080 / 12600], examples_per_second: 3162.9252, train_label_loss: 0.1708, \n"
     ]
    },
    {
     "name": "stdout",
     "output_type": "stream",
     "text": [
      "epoch: 1, [batch: 11340 / 12600], examples_per_second: 3157.7188, train_label_loss: 0.1416, \n"
     ]
    },
    {
     "name": "stdout",
     "output_type": "stream",
     "text": [
      "=============================================================\n",
      "epoch: 1, source_val_acc_label: 0.7899, target_val_acc_label: 0.6546, source_val_label_loss: 0.7208, target_val_label_loss: 1.0670, \n",
      "=============================================================\n"
     ]
    },
    {
     "name": "stdout",
     "output_type": "stream",
     "text": [
      "New best\n"
     ]
    },
    {
     "name": "stdout",
     "output_type": "stream",
     "text": [
      "epoch: 2, [batch: 1 / 12600], examples_per_second: 2.2488, train_label_loss: 0.8663, \n"
     ]
    },
    {
     "name": "stdout",
     "output_type": "stream",
     "text": [
      "epoch: 2, [batch: 1260 / 12600], examples_per_second: 3166.9099, train_label_loss: 0.3455, \n"
     ]
    },
    {
     "name": "stdout",
     "output_type": "stream",
     "text": [
      "epoch: 2, [batch: 2520 / 12600], examples_per_second: 3188.4302, train_label_loss: 0.4558, \n"
     ]
    },
    {
     "name": "stdout",
     "output_type": "stream",
     "text": [
      "epoch: 2, [batch: 3780 / 12600], examples_per_second: 3188.2789, train_label_loss: 0.3521, \n"
     ]
    },
    {
     "name": "stdout",
     "output_type": "stream",
     "text": [
      "epoch: 2, [batch: 5040 / 12600], examples_per_second: 3186.5627, train_label_loss: 0.2922, \n"
     ]
    },
    {
     "name": "stdout",
     "output_type": "stream",
     "text": [
      "epoch: 2, [batch: 6300 / 12600], examples_per_second: 3182.0519, train_label_loss: 0.3791, \n"
     ]
    },
    {
     "name": "stdout",
     "output_type": "stream",
     "text": [
      "epoch: 2, [batch: 7560 / 12600], examples_per_second: 3181.2605, train_label_loss: 0.2060, \n"
     ]
    },
    {
     "name": "stdout",
     "output_type": "stream",
     "text": [
      "epoch: 2, [batch: 8820 / 12600], examples_per_second: 3181.5840, train_label_loss: 0.1942, \n"
     ]
    },
    {
     "name": "stdout",
     "output_type": "stream",
     "text": [
      "epoch: 2, [batch: 10080 / 12600], examples_per_second: 3195.3445, train_label_loss: 0.2133, \n"
     ]
    },
    {
     "name": "stdout",
     "output_type": "stream",
     "text": [
      "epoch: 2, [batch: 11340 / 12600], examples_per_second: 3195.6211, train_label_loss: 0.2778, \n"
     ]
    },
    {
     "name": "stdout",
     "output_type": "stream",
     "text": [
      "=============================================================\n",
      "epoch: 2, source_val_acc_label: 0.8703, target_val_acc_label: 0.7190, source_val_label_loss: 0.3662, target_val_label_loss: 0.9661, \n",
      "=============================================================\n"
     ]
    },
    {
     "name": "stdout",
     "output_type": "stream",
     "text": [
      "New best\n"
     ]
    },
    {
     "name": "stdout",
     "output_type": "stream",
     "text": [
      "epoch: 3, [batch: 1 / 12600], examples_per_second: 2.2662, train_label_loss: 0.4145, \n"
     ]
    },
    {
     "name": "stdout",
     "output_type": "stream",
     "text": [
      "epoch: 3, [batch: 1260 / 12600], examples_per_second: 3183.4622, train_label_loss: 0.2977, \n"
     ]
    },
    {
     "name": "stdout",
     "output_type": "stream",
     "text": [
      "epoch: 3, [batch: 2520 / 12600], examples_per_second: 3194.4425, train_label_loss: 0.2781, \n"
     ]
    },
    {
     "name": "stdout",
     "output_type": "stream",
     "text": [
      "epoch: 3, [batch: 3780 / 12600], examples_per_second: 3194.8927, train_label_loss: 0.1194, \n"
     ]
    },
    {
     "name": "stdout",
     "output_type": "stream",
     "text": [
      "epoch: 3, [batch: 5040 / 12600], examples_per_second: 3189.0513, train_label_loss: 0.0724, \n"
     ]
    },
    {
     "name": "stdout",
     "output_type": "stream",
     "text": [
      "epoch: 3, [batch: 6300 / 12600], examples_per_second: 3181.4411, train_label_loss: 0.1693, \n"
     ]
    },
    {
     "name": "stdout",
     "output_type": "stream",
     "text": [
      "epoch: 3, [batch: 7560 / 12600], examples_per_second: 3190.5416, train_label_loss: 0.6036, \n"
     ]
    },
    {
     "name": "stdout",
     "output_type": "stream",
     "text": [
      "epoch: 3, [batch: 8820 / 12600], examples_per_second: 3179.5243, train_label_loss: 0.1407, \n"
     ]
    },
    {
     "name": "stdout",
     "output_type": "stream",
     "text": [
      "epoch: 3, [batch: 10080 / 12600], examples_per_second: 3185.5827, train_label_loss: 0.1135, \n"
     ]
    },
    {
     "name": "stdout",
     "output_type": "stream",
     "text": [
      "epoch: 3, [batch: 11340 / 12600], examples_per_second: 3177.6802, train_label_loss: 0.0849, \n"
     ]
    },
    {
     "name": "stdout",
     "output_type": "stream",
     "text": [
      "=============================================================\n",
      "epoch: 3, source_val_acc_label: 0.8930, target_val_acc_label: 0.7564, source_val_label_loss: 0.3072, target_val_label_loss: 1.0077, \n",
      "=============================================================\n"
     ]
    },
    {
     "name": "stdout",
     "output_type": "stream",
     "text": [
      "New best\n"
     ]
    },
    {
     "name": "stdout",
     "output_type": "stream",
     "text": [
      "epoch: 4, [batch: 1 / 12600], examples_per_second: 2.2439, train_label_loss: 0.1874, \n"
     ]
    },
    {
     "name": "stdout",
     "output_type": "stream",
     "text": [
      "epoch: 4, [batch: 1260 / 12600], examples_per_second: 3190.4581, train_label_loss: 0.2082, \n"
     ]
    },
    {
     "name": "stdout",
     "output_type": "stream",
     "text": [
      "epoch: 4, [batch: 2520 / 12600], examples_per_second: 3179.4626, train_label_loss: 0.1727, \n"
     ]
    },
    {
     "name": "stdout",
     "output_type": "stream",
     "text": [
      "epoch: 4, [batch: 3780 / 12600], examples_per_second: 3189.7026, train_label_loss: 0.2013, \n"
     ]
    },
    {
     "name": "stdout",
     "output_type": "stream",
     "text": [
      "epoch: 4, [batch: 5040 / 12600], examples_per_second: 3176.3759, train_label_loss: 0.1180, \n"
     ]
    },
    {
     "name": "stdout",
     "output_type": "stream",
     "text": [
      "epoch: 4, [batch: 6300 / 12600], examples_per_second: 3184.4162, train_label_loss: 0.1800, \n"
     ]
    },
    {
     "name": "stdout",
     "output_type": "stream",
     "text": [
      "epoch: 4, [batch: 7560 / 12600], examples_per_second: 3190.4151, train_label_loss: 0.1682, \n"
     ]
    },
    {
     "name": "stdout",
     "output_type": "stream",
     "text": [
      "epoch: 4, [batch: 8820 / 12600], examples_per_second: 3171.2883, train_label_loss: 0.1837, \n"
     ]
    },
    {
     "name": "stdout",
     "output_type": "stream",
     "text": [
      "epoch: 4, [batch: 10080 / 12600], examples_per_second: 3177.2667, train_label_loss: 0.2221, \n"
     ]
    },
    {
     "name": "stdout",
     "output_type": "stream",
     "text": [
      "epoch: 4, [batch: 11340 / 12600], examples_per_second: 3191.8007, train_label_loss: 0.0502, \n"
     ]
    },
    {
     "name": "stdout",
     "output_type": "stream",
     "text": [
      "=============================================================\n",
      "epoch: 4, source_val_acc_label: 0.8974, target_val_acc_label: 0.7663, source_val_label_loss: 0.2944, target_val_label_loss: 0.8864, \n",
      "=============================================================\n"
     ]
    },
    {
     "name": "stdout",
     "output_type": "stream",
     "text": [
      "New best\n"
     ]
    },
    {
     "name": "stdout",
     "output_type": "stream",
     "text": [
      "epoch: 5, [batch: 1 / 12600], examples_per_second: 2.2569, train_label_loss: 0.1349, \n"
     ]
    },
    {
     "name": "stdout",
     "output_type": "stream",
     "text": [
      "epoch: 5, [batch: 1260 / 12600], examples_per_second: 3175.4589, train_label_loss: 0.4200, \n"
     ]
    },
    {
     "name": "stdout",
     "output_type": "stream",
     "text": [
      "epoch: 5, [batch: 2520 / 12600], examples_per_second: 3183.8970, train_label_loss: 0.0929, \n"
     ]
    },
    {
     "name": "stdout",
     "output_type": "stream",
     "text": [
      "epoch: 5, [batch: 3780 / 12600], examples_per_second: 3194.4151, train_label_loss: 0.2031, \n"
     ]
    },
    {
     "name": "stdout",
     "output_type": "stream",
     "text": [
      "epoch: 5, [batch: 5040 / 12600], examples_per_second: 3181.4465, train_label_loss: 0.2649, \n"
     ]
    },
    {
     "name": "stdout",
     "output_type": "stream",
     "text": [
      "epoch: 5, [batch: 6300 / 12600], examples_per_second: 3184.4674, train_label_loss: 0.1306, \n"
     ]
    },
    {
     "name": "stdout",
     "output_type": "stream",
     "text": [
      "epoch: 5, [batch: 7560 / 12600], examples_per_second: 3185.8036, train_label_loss: 0.1032, \n"
     ]
    },
    {
     "name": "stdout",
     "output_type": "stream",
     "text": [
      "epoch: 5, [batch: 8820 / 12600], examples_per_second: 3179.7794, train_label_loss: 0.0574, \n"
     ]
    },
    {
     "name": "stdout",
     "output_type": "stream",
     "text": [
      "epoch: 5, [batch: 10080 / 12600], examples_per_second: 3185.7337, train_label_loss: 0.2369, \n"
     ]
    },
    {
     "name": "stdout",
     "output_type": "stream",
     "text": [
      "epoch: 5, [batch: 11340 / 12600], examples_per_second: 3191.3115, train_label_loss: 0.4754, \n"
     ]
    },
    {
     "name": "stdout",
     "output_type": "stream",
     "text": [
      "=============================================================\n",
      "epoch: 5, source_val_acc_label: 0.9097, target_val_acc_label: 0.7766, source_val_label_loss: 0.2782, target_val_label_loss: 1.0104, \n",
      "=============================================================\n"
     ]
    },
    {
     "name": "stdout",
     "output_type": "stream",
     "text": [
      "New best\n"
     ]
    },
    {
     "name": "stdout",
     "output_type": "stream",
     "text": [
      "epoch: 6, [batch: 1 / 12600], examples_per_second: 2.2550, train_label_loss: 0.0978, \n"
     ]
    },
    {
     "name": "stdout",
     "output_type": "stream",
     "text": [
      "epoch: 6, [batch: 1260 / 12600], examples_per_second: 3175.5211, train_label_loss: 0.3386, \n"
     ]
    },
    {
     "name": "stdout",
     "output_type": "stream",
     "text": [
      "epoch: 6, [batch: 2520 / 12600], examples_per_second: 3180.8078, train_label_loss: 0.2196, \n"
     ]
    },
    {
     "name": "stdout",
     "output_type": "stream",
     "text": [
      "epoch: 6, [batch: 3780 / 12600], examples_per_second: 3180.7107, train_label_loss: 0.0643, \n"
     ]
    },
    {
     "name": "stdout",
     "output_type": "stream",
     "text": [
      "epoch: 6, [batch: 5040 / 12600], examples_per_second: 3173.1391, train_label_loss: 0.2514, \n"
     ]
    },
    {
     "name": "stdout",
     "output_type": "stream",
     "text": [
      "epoch: 6, [batch: 6300 / 12600], examples_per_second: 3176.9574, train_label_loss: 0.0780, \n"
     ]
    },
    {
     "name": "stdout",
     "output_type": "stream",
     "text": [
      "epoch: 6, [batch: 7560 / 12600], examples_per_second: 3187.2641, train_label_loss: 0.4409, \n"
     ]
    },
    {
     "name": "stdout",
     "output_type": "stream",
     "text": [
      "epoch: 6, [batch: 8820 / 12600], examples_per_second: 3173.3306, train_label_loss: 0.2301, \n"
     ]
    },
    {
     "name": "stdout",
     "output_type": "stream",
     "text": [
      "epoch: 6, [batch: 10080 / 12600], examples_per_second: 3176.0233, train_label_loss: 0.1858, \n"
     ]
    },
    {
     "name": "stdout",
     "output_type": "stream",
     "text": [
      "epoch: 6, [batch: 11340 / 12600], examples_per_second: 3183.0303, train_label_loss: 0.2857, \n"
     ]
    },
    {
     "name": "stdout",
     "output_type": "stream",
     "text": [
      "=============================================================\n",
      "epoch: 6, source_val_acc_label: 0.9133, target_val_acc_label: 0.7786, source_val_label_loss: 0.2541, target_val_label_loss: 0.8597, \n",
      "=============================================================\n"
     ]
    },
    {
     "name": "stdout",
     "output_type": "stream",
     "text": [
      "New best\n"
     ]
    },
    {
     "name": "stdout",
     "output_type": "stream",
     "text": [
      "epoch: 7, [batch: 1 / 12600], examples_per_second: 2.2541, train_label_loss: 0.1130, \n"
     ]
    },
    {
     "name": "stdout",
     "output_type": "stream",
     "text": [
      "epoch: 7, [batch: 1260 / 12600], examples_per_second: 3173.2636, train_label_loss: 0.2459, \n"
     ]
    },
    {
     "name": "stdout",
     "output_type": "stream",
     "text": [
      "epoch: 7, [batch: 2520 / 12600], examples_per_second: 3186.2596, train_label_loss: 0.4685, \n"
     ]
    },
    {
     "name": "stdout",
     "output_type": "stream",
     "text": [
      "epoch: 7, [batch: 3780 / 12600], examples_per_second: 3184.6047, train_label_loss: 0.0271, \n"
     ]
    },
    {
     "name": "stdout",
     "output_type": "stream",
     "text": [
      "epoch: 7, [batch: 5040 / 12600], examples_per_second: 3178.8948, train_label_loss: 0.0209, \n"
     ]
    },
    {
     "name": "stdout",
     "output_type": "stream",
     "text": [
      "epoch: 7, [batch: 6300 / 12600], examples_per_second: 3186.8705, train_label_loss: 0.1294, \n"
     ]
    },
    {
     "name": "stdout",
     "output_type": "stream",
     "text": [
      "epoch: 7, [batch: 7560 / 12600], examples_per_second: 3189.7818, train_label_loss: 0.1383, \n"
     ]
    },
    {
     "name": "stdout",
     "output_type": "stream",
     "text": [
      "epoch: 7, [batch: 8820 / 12600], examples_per_second: 3176.9007, train_label_loss: 0.2949, \n"
     ]
    },
    {
     "name": "stdout",
     "output_type": "stream",
     "text": [
      "epoch: 7, [batch: 10080 / 12600], examples_per_second: 3192.1646, train_label_loss: 0.1835, \n"
     ]
    },
    {
     "name": "stdout",
     "output_type": "stream",
     "text": [
      "epoch: 7, [batch: 11340 / 12600], examples_per_second: 3190.6155, train_label_loss: 0.0193, \n"
     ]
    },
    {
     "name": "stdout",
     "output_type": "stream",
     "text": [
      "=============================================================\n",
      "epoch: 7, source_val_acc_label: 0.9100, target_val_acc_label: 0.7776, source_val_label_loss: 0.2580, target_val_label_loss: 0.8441, \n",
      "=============================================================\n"
     ]
    },
    {
     "name": "stdout",
     "output_type": "stream",
     "text": [
      "epoch: 8, [batch: 1 / 12600], examples_per_second: 2.2485, train_label_loss: 0.0502, \n"
     ]
    },
    {
     "name": "stdout",
     "output_type": "stream",
     "text": [
      "epoch: 8, [batch: 1260 / 12600], examples_per_second: 3181.7183, train_label_loss: 0.0664, \n"
     ]
    },
    {
     "name": "stdout",
     "output_type": "stream",
     "text": [
      "epoch: 8, [batch: 2520 / 12600], examples_per_second: 3176.4599, train_label_loss: 0.0171, \n"
     ]
    },
    {
     "name": "stdout",
     "output_type": "stream",
     "text": [
      "epoch: 8, [batch: 3780 / 12600], examples_per_second: 3190.9555, train_label_loss: 0.2138, \n"
     ]
    },
    {
     "name": "stdout",
     "output_type": "stream",
     "text": [
      "epoch: 8, [batch: 5040 / 12600], examples_per_second: 3173.7342, train_label_loss: 0.0934, \n"
     ]
    },
    {
     "name": "stdout",
     "output_type": "stream",
     "text": [
      "epoch: 8, [batch: 6300 / 12600], examples_per_second: 3181.0401, train_label_loss: 0.1907, \n"
     ]
    },
    {
     "name": "stdout",
     "output_type": "stream",
     "text": [
      "epoch: 8, [batch: 7560 / 12600], examples_per_second: 3195.2156, train_label_loss: 0.0697, \n"
     ]
    },
    {
     "name": "stdout",
     "output_type": "stream",
     "text": [
      "epoch: 8, [batch: 8820 / 12600], examples_per_second: 3176.7587, train_label_loss: 0.2161, \n"
     ]
    },
    {
     "name": "stdout",
     "output_type": "stream",
     "text": [
      "epoch: 8, [batch: 10080 / 12600], examples_per_second: 3176.0321, train_label_loss: 0.1332, \n"
     ]
    },
    {
     "name": "stdout",
     "output_type": "stream",
     "text": [
      "epoch: 8, [batch: 11340 / 12600], examples_per_second: 3185.2337, train_label_loss: 0.0250, \n"
     ]
    },
    {
     "name": "stdout",
     "output_type": "stream",
     "text": [
      "=============================================================\n",
      "epoch: 8, source_val_acc_label: 0.9127, target_val_acc_label: 0.7745, source_val_label_loss: 0.2604, target_val_label_loss: 0.9016, \n",
      "=============================================================\n"
     ]
    },
    {
     "name": "stdout",
     "output_type": "stream",
     "text": [
      "epoch: 9, [batch: 1 / 12600], examples_per_second: 2.2583, train_label_loss: 0.2084, \n"
     ]
    },
    {
     "name": "stdout",
     "output_type": "stream",
     "text": [
      "epoch: 9, [batch: 1260 / 12600], examples_per_second: 3182.6848, train_label_loss: 0.0984, \n"
     ]
    },
    {
     "name": "stdout",
     "output_type": "stream",
     "text": [
      "epoch: 9, [batch: 2520 / 12600], examples_per_second: 3187.0565, train_label_loss: 0.0169, \n"
     ]
    },
    {
     "name": "stdout",
     "output_type": "stream",
     "text": [
      "epoch: 9, [batch: 3780 / 12600], examples_per_second: 3193.3703, train_label_loss: 0.1077, \n"
     ]
    },
    {
     "name": "stdout",
     "output_type": "stream",
     "text": [
      "epoch: 9, [batch: 5040 / 12600], examples_per_second: 3175.2667, train_label_loss: 0.2027, \n"
     ]
    },
    {
     "name": "stdout",
     "output_type": "stream",
     "text": [
      "epoch: 9, [batch: 6300 / 12600], examples_per_second: 3189.7853, train_label_loss: 0.0055, \n"
     ]
    },
    {
     "name": "stdout",
     "output_type": "stream",
     "text": [
      "epoch: 9, [batch: 7560 / 12600], examples_per_second: 3181.8427, train_label_loss: 0.6474, \n"
     ]
    },
    {
     "name": "stdout",
     "output_type": "stream",
     "text": [
      "epoch: 9, [batch: 8820 / 12600], examples_per_second: 3176.6392, train_label_loss: 0.1040, \n"
     ]
    },
    {
     "name": "stdout",
     "output_type": "stream",
     "text": [
      "epoch: 9, [batch: 10080 / 12600], examples_per_second: 3181.0339, train_label_loss: 0.1264, \n"
     ]
    },
    {
     "name": "stdout",
     "output_type": "stream",
     "text": [
      "epoch: 9, [batch: 11340 / 12600], examples_per_second: 3185.0356, train_label_loss: 0.0686, \n"
     ]
    },
    {
     "name": "stdout",
     "output_type": "stream",
     "text": [
      "=============================================================\n",
      "epoch: 9, source_val_acc_label: 0.9201, target_val_acc_label: 0.7820, source_val_label_loss: 0.2386, target_val_label_loss: 0.8699, \n",
      "=============================================================\n"
     ]
    },
    {
     "name": "stdout",
     "output_type": "stream",
     "text": [
      "New best\n"
     ]
    },
    {
     "name": "stdout",
     "output_type": "stream",
     "text": [
      "epoch: 10, [batch: 1 / 12600], examples_per_second: 2.2492, train_label_loss: 0.0062, \n"
     ]
    },
    {
     "name": "stdout",
     "output_type": "stream",
     "text": [
      "epoch: 10, [batch: 1260 / 12600], examples_per_second: 3186.8553, train_label_loss: 0.3266, \n"
     ]
    },
    {
     "name": "stdout",
     "output_type": "stream",
     "text": [
      "epoch: 10, [batch: 2520 / 12600], examples_per_second: 3190.4020, train_label_loss: 0.3977, \n"
     ]
    },
    {
     "name": "stdout",
     "output_type": "stream",
     "text": [
      "epoch: 10, [batch: 3780 / 12600], examples_per_second: 3194.3601, train_label_loss: 0.1679, \n"
     ]
    },
    {
     "name": "stdout",
     "output_type": "stream",
     "text": [
      "epoch: 10, [batch: 5040 / 12600], examples_per_second: 3184.5123, train_label_loss: 0.0311, \n"
     ]
    },
    {
     "name": "stdout",
     "output_type": "stream",
     "text": [
      "epoch: 10, [batch: 6300 / 12600], examples_per_second: 3189.1056, train_label_loss: 0.1234, \n"
     ]
    },
    {
     "name": "stdout",
     "output_type": "stream",
     "text": [
      "epoch: 10, [batch: 7560 / 12600], examples_per_second: 3192.2021, train_label_loss: 0.1790, \n"
     ]
    },
    {
     "name": "stdout",
     "output_type": "stream",
     "text": [
      "epoch: 10, [batch: 8820 / 12600], examples_per_second: 3187.2889, train_label_loss: 0.2426, \n"
     ]
    },
    {
     "name": "stdout",
     "output_type": "stream",
     "text": [
      "epoch: 10, [batch: 10080 / 12600], examples_per_second: 3193.4785, train_label_loss: 0.2414, \n"
     ]
    },
    {
     "name": "stdout",
     "output_type": "stream",
     "text": [
      "epoch: 10, [batch: 11340 / 12600], examples_per_second: 3187.6487, train_label_loss: 0.2402, \n"
     ]
    },
    {
     "name": "stdout",
     "output_type": "stream",
     "text": [
      "=============================================================\n",
      "epoch: 10, source_val_acc_label: 0.9212, target_val_acc_label: 0.7827, source_val_label_loss: 0.2352, target_val_label_loss: 0.8688, \n",
      "=============================================================\n"
     ]
    },
    {
     "name": "stdout",
     "output_type": "stream",
     "text": [
      "New best\n"
     ]
    },
    {
     "name": "stdout",
     "output_type": "stream",
     "text": [
      "epoch: 11, [batch: 1 / 12600], examples_per_second: 2.2556, train_label_loss: 0.3247, \n"
     ]
    },
    {
     "name": "stdout",
     "output_type": "stream",
     "text": [
      "epoch: 11, [batch: 1260 / 12600], examples_per_second: 3197.6188, train_label_loss: 0.1998, \n"
     ]
    },
    {
     "name": "stdout",
     "output_type": "stream",
     "text": [
      "epoch: 11, [batch: 2520 / 12600], examples_per_second: 3194.4179, train_label_loss: 0.3719, \n"
     ]
    },
    {
     "name": "stdout",
     "output_type": "stream",
     "text": [
      "epoch: 11, [batch: 3780 / 12600], examples_per_second: 3191.9575, train_label_loss: 0.1176, \n"
     ]
    },
    {
     "name": "stdout",
     "output_type": "stream",
     "text": [
      "epoch: 11, [batch: 5040 / 12600], examples_per_second: 3173.3022, train_label_loss: 0.0965, \n"
     ]
    },
    {
     "name": "stdout",
     "output_type": "stream",
     "text": [
      "epoch: 11, [batch: 6300 / 12600], examples_per_second: 3186.6521, train_label_loss: 0.2607, \n"
     ]
    },
    {
     "name": "stdout",
     "output_type": "stream",
     "text": [
      "epoch: 11, [batch: 7560 / 12600], examples_per_second: 3199.1958, train_label_loss: 0.0126, \n"
     ]
    },
    {
     "name": "stdout",
     "output_type": "stream",
     "text": [
      "epoch: 11, [batch: 8820 / 12600], examples_per_second: 3187.7238, train_label_loss: 0.0274, \n"
     ]
    },
    {
     "name": "stdout",
     "output_type": "stream",
     "text": [
      "epoch: 11, [batch: 10080 / 12600], examples_per_second: 3185.9678, train_label_loss: 0.0894, \n"
     ]
    },
    {
     "name": "stdout",
     "output_type": "stream",
     "text": [
      "epoch: 11, [batch: 11340 / 12600], examples_per_second: 3192.4082, train_label_loss: 0.2347, \n"
     ]
    },
    {
     "name": "stdout",
     "output_type": "stream",
     "text": [
      "=============================================================\n",
      "epoch: 11, source_val_acc_label: 0.9216, target_val_acc_label: 0.7793, source_val_label_loss: 0.2492, target_val_label_loss: 0.9438, \n",
      "=============================================================\n"
     ]
    },
    {
     "name": "stdout",
     "output_type": "stream",
     "text": [
      "epoch: 12, [batch: 1 / 12600], examples_per_second: 2.2641, train_label_loss: 0.0081, \n"
     ]
    },
    {
     "name": "stdout",
     "output_type": "stream",
     "text": [
      "epoch: 12, [batch: 1260 / 12600], examples_per_second: 3183.9562, train_label_loss: 0.0778, \n"
     ]
    },
    {
     "name": "stdout",
     "output_type": "stream",
     "text": [
      "epoch: 12, [batch: 2520 / 12600], examples_per_second: 3199.4861, train_label_loss: 0.2150, \n"
     ]
    },
    {
     "name": "stdout",
     "output_type": "stream",
     "text": [
      "epoch: 12, [batch: 3780 / 12600], examples_per_second: 3194.7323, train_label_loss: 0.1592, \n"
     ]
    },
    {
     "name": "stdout",
     "output_type": "stream",
     "text": [
      "epoch: 12, [batch: 5040 / 12600], examples_per_second: 3178.0203, train_label_loss: 0.0264, \n"
     ]
    },
    {
     "name": "stdout",
     "output_type": "stream",
     "text": [
      "epoch: 12, [batch: 6300 / 12600], examples_per_second: 3184.8263, train_label_loss: 0.1896, \n"
     ]
    },
    {
     "name": "stdout",
     "output_type": "stream",
     "text": [
      "epoch: 12, [batch: 7560 / 12600], examples_per_second: 3188.0533, train_label_loss: 0.1329, \n"
     ]
    },
    {
     "name": "stdout",
     "output_type": "stream",
     "text": [
      "epoch: 12, [batch: 8820 / 12600], examples_per_second: 3187.0142, train_label_loss: 0.0437, \n"
     ]
    },
    {
     "name": "stdout",
     "output_type": "stream",
     "text": [
      "epoch: 12, [batch: 10080 / 12600], examples_per_second: 3190.3685, train_label_loss: 0.0088, \n"
     ]
    },
    {
     "name": "stdout",
     "output_type": "stream",
     "text": [
      "epoch: 12, [batch: 11340 / 12600], examples_per_second: 3187.3613, train_label_loss: 0.0943, \n"
     ]
    },
    {
     "name": "stdout",
     "output_type": "stream",
     "text": [
      "=============================================================\n",
      "epoch: 12, source_val_acc_label: 0.9211, target_val_acc_label: 0.7829, source_val_label_loss: 0.2555, target_val_label_loss: 0.9557, \n",
      "=============================================================\n"
     ]
    },
    {
     "name": "stdout",
     "output_type": "stream",
     "text": [
      "New best\n"
     ]
    },
    {
     "name": "stdout",
     "output_type": "stream",
     "text": [
      "epoch: 13, [batch: 1 / 12600], examples_per_second: 2.2640, train_label_loss: 0.0201, \n"
     ]
    },
    {
     "name": "stdout",
     "output_type": "stream",
     "text": [
      "epoch: 13, [batch: 1260 / 12600], examples_per_second: 3179.8552, train_label_loss: 0.0966, \n"
     ]
    },
    {
     "name": "stdout",
     "output_type": "stream",
     "text": [
      "epoch: 13, [batch: 2520 / 12600], examples_per_second: 3191.8695, train_label_loss: 0.0034, \n"
     ]
    },
    {
     "name": "stdout",
     "output_type": "stream",
     "text": [
      "epoch: 13, [batch: 3780 / 12600], examples_per_second: 3196.1388, train_label_loss: 0.1316, \n"
     ]
    },
    {
     "name": "stdout",
     "output_type": "stream",
     "text": [
      "epoch: 13, [batch: 5040 / 12600], examples_per_second: 3187.3721, train_label_loss: 0.1125, \n"
     ]
    },
    {
     "name": "stdout",
     "output_type": "stream",
     "text": [
      "epoch: 13, [batch: 6300 / 12600], examples_per_second: 3192.3473, train_label_loss: 0.0666, \n"
     ]
    },
    {
     "name": "stdout",
     "output_type": "stream",
     "text": [
      "epoch: 13, [batch: 7560 / 12600], examples_per_second: 3201.5421, train_label_loss: 0.2947, \n"
     ]
    },
    {
     "name": "stdout",
     "output_type": "stream",
     "text": [
      "epoch: 13, [batch: 8820 / 12600], examples_per_second: 3184.9666, train_label_loss: 0.0066, \n"
     ]
    },
    {
     "name": "stdout",
     "output_type": "stream",
     "text": [
      "epoch: 13, [batch: 10080 / 12600], examples_per_second: 3178.1015, train_label_loss: 0.1578, \n"
     ]
    },
    {
     "name": "stdout",
     "output_type": "stream",
     "text": [
      "epoch: 13, [batch: 11340 / 12600], examples_per_second: 3185.8921, train_label_loss: 0.2584, \n"
     ]
    },
    {
     "name": "stdout",
     "output_type": "stream",
     "text": [
      "=============================================================\n",
      "epoch: 13, source_val_acc_label: 0.9238, target_val_acc_label: 0.7786, source_val_label_loss: 0.2414, target_val_label_loss: 0.9527, \n",
      "=============================================================\n"
     ]
    },
    {
     "name": "stdout",
     "output_type": "stream",
     "text": [
      "epoch: 14, [batch: 1 / 12600], examples_per_second: 2.2684, train_label_loss: 0.0303, \n"
     ]
    },
    {
     "name": "stdout",
     "output_type": "stream",
     "text": [
      "epoch: 14, [batch: 1260 / 12600], examples_per_second: 3174.6083, train_label_loss: 0.1672, \n"
     ]
    },
    {
     "name": "stdout",
     "output_type": "stream",
     "text": [
      "epoch: 14, [batch: 2520 / 12600], examples_per_second: 3182.1541, train_label_loss: 0.4479, \n"
     ]
    },
    {
     "name": "stdout",
     "output_type": "stream",
     "text": [
      "epoch: 14, [batch: 3780 / 12600], examples_per_second: 3190.4207, train_label_loss: 0.0672, \n"
     ]
    },
    {
     "name": "stdout",
     "output_type": "stream",
     "text": [
      "epoch: 14, [batch: 5040 / 12600], examples_per_second: 3168.5529, train_label_loss: 0.1135, \n"
     ]
    },
    {
     "name": "stdout",
     "output_type": "stream",
     "text": [
      "epoch: 14, [batch: 6300 / 12600], examples_per_second: 3180.5457, train_label_loss: 0.0861, \n"
     ]
    },
    {
     "name": "stdout",
     "output_type": "stream",
     "text": [
      "epoch: 14, [batch: 7560 / 12600], examples_per_second: 3197.7667, train_label_loss: 0.2104, \n"
     ]
    },
    {
     "name": "stdout",
     "output_type": "stream",
     "text": [
      "epoch: 14, [batch: 8820 / 12600], examples_per_second: 3178.9601, train_label_loss: 0.0405, \n"
     ]
    },
    {
     "name": "stdout",
     "output_type": "stream",
     "text": [
      "epoch: 14, [batch: 10080 / 12600], examples_per_second: 3192.9910, train_label_loss: 0.2373, \n"
     ]
    },
    {
     "name": "stdout",
     "output_type": "stream",
     "text": [
      "epoch: 14, [batch: 11340 / 12600], examples_per_second: 3194.6337, train_label_loss: 0.1281, \n"
     ]
    },
    {
     "name": "stdout",
     "output_type": "stream",
     "text": [
      "=============================================================\n",
      "epoch: 14, source_val_acc_label: 0.9252, target_val_acc_label: 0.7850, source_val_label_loss: 0.2369, target_val_label_loss: 0.9405, \n",
      "=============================================================\n"
     ]
    },
    {
     "name": "stdout",
     "output_type": "stream",
     "text": [
      "New best\n"
     ]
    },
    {
     "name": "stdout",
     "output_type": "stream",
     "text": [
      "epoch: 15, [batch: 1 / 12600], examples_per_second: 2.2473, train_label_loss: 0.0518, \n"
     ]
    },
    {
     "name": "stdout",
     "output_type": "stream",
     "text": [
      "epoch: 15, [batch: 1260 / 12600], examples_per_second: 3185.1522, train_label_loss: 0.1990, \n"
     ]
    },
    {
     "name": "stdout",
     "output_type": "stream",
     "text": [
      "epoch: 15, [batch: 2520 / 12600], examples_per_second: 3184.8326, train_label_loss: 0.1554, \n"
     ]
    },
    {
     "name": "stdout",
     "output_type": "stream",
     "text": [
      "epoch: 15, [batch: 3780 / 12600], examples_per_second: 3191.9661, train_label_loss: 0.0028, \n"
     ]
    },
    {
     "name": "stdout",
     "output_type": "stream",
     "text": [
      "epoch: 15, [batch: 5040 / 12600], examples_per_second: 3179.3990, train_label_loss: 0.1549, \n"
     ]
    },
    {
     "name": "stdout",
     "output_type": "stream",
     "text": [
      "epoch: 15, [batch: 6300 / 12600], examples_per_second: 3183.5105, train_label_loss: 0.0644, \n"
     ]
    },
    {
     "name": "stdout",
     "output_type": "stream",
     "text": [
      "epoch: 15, [batch: 7560 / 12600], examples_per_second: 3184.6022, train_label_loss: 0.0245, \n"
     ]
    },
    {
     "name": "stdout",
     "output_type": "stream",
     "text": [
      "epoch: 15, [batch: 8820 / 12600], examples_per_second: 3169.5339, train_label_loss: 0.0980, \n"
     ]
    },
    {
     "name": "stdout",
     "output_type": "stream",
     "text": [
      "epoch: 15, [batch: 10080 / 12600], examples_per_second: 3190.6047, train_label_loss: 0.0067, \n"
     ]
    },
    {
     "name": "stdout",
     "output_type": "stream",
     "text": [
      "epoch: 15, [batch: 11340 / 12600], examples_per_second: 3194.6826, train_label_loss: 0.0729, \n"
     ]
    },
    {
     "name": "stdout",
     "output_type": "stream",
     "text": [
      "=============================================================\n",
      "epoch: 15, source_val_acc_label: 0.9224, target_val_acc_label: 0.7828, source_val_label_loss: 0.2560, target_val_label_loss: 1.0007, \n",
      "=============================================================\n"
     ]
    },
    {
     "name": "stdout",
     "output_type": "stream",
     "text": [
      "epoch: 16, [batch: 1 / 12600], examples_per_second: 2.2622, train_label_loss: 0.2191, \n"
     ]
    },
    {
     "name": "stdout",
     "output_type": "stream",
     "text": [
      "epoch: 16, [batch: 1260 / 12600], examples_per_second: 3174.6754, train_label_loss: 0.1871, \n"
     ]
    },
    {
     "name": "stdout",
     "output_type": "stream",
     "text": [
      "epoch: 16, [batch: 2520 / 12600], examples_per_second: 3190.8363, train_label_loss: 0.4193, \n"
     ]
    },
    {
     "name": "stdout",
     "output_type": "stream",
     "text": [
      "epoch: 16, [batch: 3780 / 12600], examples_per_second: 3194.2993, train_label_loss: 0.0428, \n"
     ]
    },
    {
     "name": "stdout",
     "output_type": "stream",
     "text": [
      "epoch: 16, [batch: 5040 / 12600], examples_per_second: 3178.4949, train_label_loss: 0.2014, \n"
     ]
    },
    {
     "name": "stdout",
     "output_type": "stream",
     "text": [
      "epoch: 16, [batch: 6300 / 12600], examples_per_second: 3182.9731, train_label_loss: 0.0457, \n"
     ]
    },
    {
     "name": "stdout",
     "output_type": "stream",
     "text": [
      "epoch: 16, [batch: 7560 / 12600], examples_per_second: 3186.2016, train_label_loss: 0.0738, \n"
     ]
    },
    {
     "name": "stdout",
     "output_type": "stream",
     "text": [
      "epoch: 16, [batch: 8820 / 12600], examples_per_second: 3169.9356, train_label_loss: 0.0015, \n"
     ]
    },
    {
     "name": "stdout",
     "output_type": "stream",
     "text": [
      "epoch: 16, [batch: 10080 / 12600], examples_per_second: 3181.0732, train_label_loss: 0.0877, \n"
     ]
    },
    {
     "name": "stdout",
     "output_type": "stream",
     "text": [
      "epoch: 16, [batch: 11340 / 12600], examples_per_second: 3181.8364, train_label_loss: 0.0698, \n"
     ]
    },
    {
     "name": "stdout",
     "output_type": "stream",
     "text": [
      "=============================================================\n",
      "epoch: 16, source_val_acc_label: 0.9249, target_val_acc_label: 0.7808, source_val_label_loss: 0.2427, target_val_label_loss: 1.0033, \n",
      "=============================================================\n"
     ]
    },
    {
     "name": "stdout",
     "output_type": "stream",
     "text": [
      "epoch: 17, [batch: 1 / 12600], examples_per_second: 2.2536, train_label_loss: 0.0189, \n"
     ]
    },
    {
     "name": "stdout",
     "output_type": "stream",
     "text": [
      "epoch: 17, [batch: 1260 / 12600], examples_per_second: 3157.8891, train_label_loss: 0.0018, \n"
     ]
    },
    {
     "name": "stdout",
     "output_type": "stream",
     "text": [
      "epoch: 17, [batch: 2520 / 12600], examples_per_second: 3175.2079, train_label_loss: 0.1215, \n"
     ]
    },
    {
     "name": "stdout",
     "output_type": "stream",
     "text": [
      "epoch: 17, [batch: 3780 / 12600], examples_per_second: 3188.7873, train_label_loss: 0.0555, \n"
     ]
    },
    {
     "name": "stdout",
     "output_type": "stream",
     "text": [
      "epoch: 17, [batch: 5040 / 12600], examples_per_second: 3177.3390, train_label_loss: 0.0467, \n"
     ]
    },
    {
     "name": "stdout",
     "output_type": "stream",
     "text": [
      "epoch: 17, [batch: 6300 / 12600], examples_per_second: 3194.2938, train_label_loss: 0.0062, \n"
     ]
    },
    {
     "name": "stdout",
     "output_type": "stream",
     "text": [
      "epoch: 17, [batch: 7560 / 12600], examples_per_second: 3201.0779, train_label_loss: 0.4536, \n"
     ]
    },
    {
     "name": "stdout",
     "output_type": "stream",
     "text": [
      "epoch: 17, [batch: 8820 / 12600], examples_per_second: 3186.0969, train_label_loss: 0.0510, \n"
     ]
    },
    {
     "name": "stdout",
     "output_type": "stream",
     "text": [
      "epoch: 17, [batch: 10080 / 12600], examples_per_second: 3181.8022, train_label_loss: 0.0505, \n"
     ]
    },
    {
     "name": "stdout",
     "output_type": "stream",
     "text": [
      "epoch: 17, [batch: 11340 / 12600], examples_per_second: 3181.3020, train_label_loss: 0.1083, \n"
     ]
    },
    {
     "name": "stdout",
     "output_type": "stream",
     "text": [
      "=============================================================\n",
      "epoch: 17, source_val_acc_label: 0.9252, target_val_acc_label: 0.7808, source_val_label_loss: 0.2444, target_val_label_loss: 1.0232, \n",
      "=============================================================\n"
     ]
    },
    {
     "name": "stdout",
     "output_type": "stream",
     "text": [
      "epoch: 18, [batch: 1 / 12600], examples_per_second: 2.2652, train_label_loss: 0.0307, \n"
     ]
    },
    {
     "name": "stdout",
     "output_type": "stream",
     "text": [
      "epoch: 18, [batch: 1260 / 12600], examples_per_second: 3179.7551, train_label_loss: 0.2936, \n"
     ]
    },
    {
     "name": "stdout",
     "output_type": "stream",
     "text": [
      "epoch: 18, [batch: 2520 / 12600], examples_per_second: 3179.7422, train_label_loss: 0.1881, \n"
     ]
    },
    {
     "name": "stdout",
     "output_type": "stream",
     "text": [
      "epoch: 18, [batch: 3780 / 12600], examples_per_second: 3185.7890, train_label_loss: 0.0531, \n"
     ]
    },
    {
     "name": "stdout",
     "output_type": "stream",
     "text": [
      "epoch: 18, [batch: 5040 / 12600], examples_per_second: 3171.2967, train_label_loss: 0.0742, \n"
     ]
    },
    {
     "name": "stdout",
     "output_type": "stream",
     "text": [
      "epoch: 18, [batch: 6300 / 12600], examples_per_second: 3189.6041, train_label_loss: 0.1647, \n"
     ]
    },
    {
     "name": "stdout",
     "output_type": "stream",
     "text": [
      "epoch: 18, [batch: 7560 / 12600], examples_per_second: 3191.8274, train_label_loss: 0.0359, \n"
     ]
    },
    {
     "name": "stdout",
     "output_type": "stream",
     "text": [
      "epoch: 18, [batch: 8820 / 12600], examples_per_second: 3184.6408, train_label_loss: 0.0261, \n"
     ]
    },
    {
     "name": "stdout",
     "output_type": "stream",
     "text": [
      "epoch: 18, [batch: 10080 / 12600], examples_per_second: 3187.6411, train_label_loss: 0.0631, \n"
     ]
    },
    {
     "name": "stdout",
     "output_type": "stream",
     "text": [
      "epoch: 18, [batch: 11340 / 12600], examples_per_second: 3182.0395, train_label_loss: 0.1002, \n"
     ]
    },
    {
     "name": "stdout",
     "output_type": "stream",
     "text": [
      "=============================================================\n",
      "epoch: 18, source_val_acc_label: 0.9267, target_val_acc_label: 0.7811, source_val_label_loss: 0.2431, target_val_label_loss: 1.0830, \n",
      "=============================================================\n"
     ]
    },
    {
     "name": "stdout",
     "output_type": "stream",
     "text": [
      "Patience (3) exhausted\n"
     ]
    }
   ],
   "source": [
    "###################################\n",
    "# train\n",
    "###################################\n",
    "jig = PTN_Train_Eval_Test_Jig(model, p.BEST_MODEL_PATH, p.device)\n",
    "\n",
    "jig.train(\n",
    "    train_iterable=datasets.source.processed.train,\n",
    "    source_val_iterable=datasets.source.processed.val,\n",
    "    target_val_iterable=datasets.target.processed.val,\n",
    "    num_epochs=p.n_epoch,\n",
    "    num_logs_per_epoch=p.NUM_LOGS_PER_EPOCH,\n",
    "    patience=p.patience,\n",
    "    optimizer=optimizer,\n",
    "    criteria_for_best=p.criteria_for_best,\n",
    ")"
   ]
  },
  {
   "cell_type": "code",
   "execution_count": 14,
   "id": "31e8fabf",
   "metadata": {
    "execution": {
     "iopub.execute_input": "2022-03-21T14:07:04.702310Z",
     "iopub.status.busy": "2022-03-21T14:07:04.702049Z",
     "iopub.status.idle": "2022-03-21T14:07:04.722183Z",
     "shell.execute_reply": "2022-03-21T14:07:04.721762Z"
    },
    "papermill": {
     "duration": 0.070775,
     "end_time": "2022-03-21T14:07:04.722294",
     "exception": false,
     "start_time": "2022-03-21T14:07:04.651519",
     "status": "completed"
    },
    "tags": []
   },
   "outputs": [],
   "source": [
    "total_experiment_time_secs = time.time() - start_time_secs"
   ]
  },
  {
   "cell_type": "code",
   "execution_count": 15,
   "id": "87b9595b",
   "metadata": {
    "execution": {
     "iopub.execute_input": "2022-03-21T14:07:04.828359Z",
     "iopub.status.busy": "2022-03-21T14:07:04.828065Z",
     "iopub.status.idle": "2022-03-21T14:11:06.809605Z",
     "shell.execute_reply": "2022-03-21T14:11:06.810027Z"
    },
    "papermill": {
     "duration": 242.035635,
     "end_time": "2022-03-21T14:11:06.810160",
     "exception": false,
     "start_time": "2022-03-21T14:07:04.774525",
     "status": "completed"
    },
    "tags": []
   },
   "outputs": [],
   "source": [
    "###################################\n",
    "# Evaluate the model\n",
    "###################################\n",
    "source_test_label_accuracy, source_test_label_loss = jig.test(datasets.source.processed.test)\n",
    "target_test_label_accuracy, target_test_label_loss = jig.test(datasets.target.processed.test)\n",
    "\n",
    "source_val_label_accuracy, source_val_label_loss = jig.test(datasets.source.processed.val)\n",
    "target_val_label_accuracy, target_val_label_loss = jig.test(datasets.target.processed.val)\n",
    "\n",
    "history = jig.get_history()\n",
    "\n",
    "total_epochs_trained = len(history[\"epoch_indices\"])\n",
    "\n",
    "val_dl = Iterable_Aggregator((datasets.source.original.val,datasets.target.original.val))\n",
    "\n",
    "confusion = ptn_confusion_by_domain_over_dataloader(model, p.device, val_dl)\n",
    "per_domain_accuracy = per_domain_accuracy_from_confusion(confusion)\n",
    "\n",
    "# Add a key to per_domain_accuracy for if it was a source domain\n",
    "for domain, accuracy in per_domain_accuracy.items():\n",
    "    per_domain_accuracy[domain] = {\n",
    "        \"accuracy\": accuracy,\n",
    "        \"source?\": domain in p.domains_source\n",
    "    }\n",
    "\n",
    "# Do an independent accuracy assesment JUST TO BE SURE!\n",
    "# _source_test_label_accuracy = independent_accuracy_assesment(model, datasets.source.processed.test, p.device)\n",
    "# _target_test_label_accuracy = independent_accuracy_assesment(model, datasets.target.processed.test, p.device)\n",
    "# _source_val_label_accuracy = independent_accuracy_assesment(model, datasets.source.processed.val, p.device)\n",
    "# _target_val_label_accuracy = independent_accuracy_assesment(model, datasets.target.processed.val, p.device)\n",
    "\n",
    "# assert(_source_test_label_accuracy == source_test_label_accuracy)\n",
    "# assert(_target_test_label_accuracy == target_test_label_accuracy)\n",
    "# assert(_source_val_label_accuracy == source_val_label_accuracy)\n",
    "# assert(_target_val_label_accuracy == target_val_label_accuracy)\n",
    "\n",
    "experiment = {\n",
    "    \"experiment_name\": p.experiment_name,\n",
    "    \"parameters\": dict(p),\n",
    "    \"results\": {\n",
    "        \"source_test_label_accuracy\": source_test_label_accuracy,\n",
    "        \"source_test_label_loss\": source_test_label_loss,\n",
    "        \"target_test_label_accuracy\": target_test_label_accuracy,\n",
    "        \"target_test_label_loss\": target_test_label_loss,\n",
    "        \"source_val_label_accuracy\": source_val_label_accuracy,\n",
    "        \"source_val_label_loss\": source_val_label_loss,\n",
    "        \"target_val_label_accuracy\": target_val_label_accuracy,\n",
    "        \"target_val_label_loss\": target_val_label_loss,\n",
    "        \"total_epochs_trained\": total_epochs_trained,\n",
    "        \"total_experiment_time_secs\": total_experiment_time_secs,\n",
    "        \"confusion\": confusion,\n",
    "        \"per_domain_accuracy\": per_domain_accuracy,\n",
    "    },\n",
    "    \"history\": history,\n",
    "    \"dataset_metrics\": get_dataset_metrics(datasets, \"ptn\"),\n",
    "}"
   ]
  },
  {
   "cell_type": "code",
   "execution_count": 16,
   "id": "54a21829",
   "metadata": {
    "execution": {
     "iopub.execute_input": "2022-03-21T14:11:06.911616Z",
     "iopub.status.busy": "2022-03-21T14:11:06.911366Z",
     "iopub.status.idle": "2022-03-21T14:11:07.031106Z",
     "shell.execute_reply": "2022-03-21T14:11:07.030656Z"
    },
    "papermill": {
     "duration": 0.168643,
     "end_time": "2022-03-21T14:11:07.031196",
     "exception": false,
     "start_time": "2022-03-21T14:11:06.862553",
     "status": "completed"
    },
    "tags": []
   },
   "outputs": [
    {
     "data": {
      "image/png": "[encoded data removed]",
      "text/plain": [
       "<Figure size 1080x504 with 1 Axes>"
      ]
     },
     "metadata": {
      "needs_background": "light"
     },
     "output_type": "display_data"
    }
   ],
   "source": [
    "ax = get_loss_curve(experiment)\n",
    "plt.show()"
   ]
  },
  {
   "cell_type": "code",
   "execution_count": 17,
   "id": "fd8a0f60",
   "metadata": {
    "execution": {
     "iopub.execute_input": "2022-03-21T14:11:07.135171Z",
     "iopub.status.busy": "2022-03-21T14:11:07.134926Z",
     "iopub.status.idle": "2022-03-21T14:11:07.276897Z",
     "shell.execute_reply": "2022-03-21T14:11:07.277176Z"
    },
    "papermill": {
     "duration": 0.192333,
     "end_time": "2022-03-21T14:11:07.277256",
     "exception": false,
     "start_time": "2022-03-21T14:11:07.084923",
     "status": "completed"
    },
    "tags": []
   },
   "outputs": [
    {
     "data": {
      "text/plain": [
       "<AxesSubplot:title={'center':'Results'}>"
      ]
     },
     "execution_count": 17,
     "metadata": {},
     "output_type": "execute_result"
    },
    {
     "data": {
      "image/png": "[encoded data removed]",
      "text/plain": [
       "<Figure size 1080x504 with 1 Axes>"
      ]
     },
     "metadata": {
      "needs_background": "light"
     },
     "output_type": "display_data"
    }
   ],
   "source": [
    "get_results_table(experiment)"
   ]
  },
  {
   "cell_type": "code",
   "execution_count": 18,
   "id": "cf8dc689",
   "metadata": {
    "execution": {
     "iopub.execute_input": "2022-03-21T14:11:07.386343Z",
     "iopub.status.busy": "2022-03-21T14:11:07.386094Z",
     "iopub.status.idle": "2022-03-21T14:11:07.503289Z",
     "shell.execute_reply": "2022-03-21T14:11:07.503720Z"
    },
    "papermill": {
     "duration": 0.169177,
     "end_time": "2022-03-21T14:11:07.503849",
     "exception": false,
     "start_time": "2022-03-21T14:11:07.334672",
     "status": "completed"
    },
    "tags": []
   },
   "outputs": [
    {
     "data": {
      "text/plain": [
       "<AxesSubplot:title={'center':'Per Domain Validation Accuracy'}, xlabel='domain'>"
      ]
     },
     "execution_count": 18,
     "metadata": {},
     "output_type": "execute_result"
    },
    {
     "data": {
      "image/png": "[encoded data removed]",
      "text/plain": [
       "<Figure size 1080x504 with 1 Axes>"
      ]
     },
     "metadata": {
      "needs_background": "light"
     },
     "output_type": "display_data"
    }
   ],
   "source": [
    "get_domain_accuracies(experiment)"
   ]
  },
  {
   "cell_type": "code",
   "execution_count": 19,
   "id": "a74ae082",
   "metadata": {
    "execution": {
     "iopub.execute_input": "2022-03-21T14:11:07.612148Z",
     "iopub.status.busy": "2022-03-21T14:11:07.611894Z",
     "iopub.status.idle": "2022-03-21T14:11:07.624430Z",
     "shell.execute_reply": "2022-03-21T14:11:07.624080Z"
    },
    "papermill": {
     "duration": 0.064,
     "end_time": "2022-03-21T14:11:07.624499",
     "exception": false,
     "start_time": "2022-03-21T14:11:07.560499",
     "status": "completed"
    },
    "tags": []
   },
   "outputs": [
    {
     "name": "stdout",
     "output_type": "stream",
     "text": [
      "Source Test Label Accuracy: 0.9240798611111111 Target Test Label Accuracy: 0.78496875\n",
      "Source Val Label Accuracy: 0.9252083333333333 Target Val Label Accuracy: 0.7850104166666667\n"
     ]
    }
   ],
   "source": [
    "print(\"Source Test Label Accuracy:\", experiment[\"results\"][\"source_test_label_accuracy\"], \"Target Test Label Accuracy:\", experiment[\"results\"][\"target_test_label_accuracy\"])\n",
    "print(\"Source Val Label Accuracy:\", experiment[\"results\"][\"source_val_label_accuracy\"], \"Target Val Label Accuracy:\", experiment[\"results\"][\"target_val_label_accuracy\"])"
   ]
  },
  {
   "cell_type": "code",
   "execution_count": 20,
   "id": "dacca602",
   "metadata": {
    "execution": {
     "iopub.execute_input": "2022-03-21T14:11:07.760781Z",
     "iopub.status.busy": "2022-03-21T14:11:07.760520Z",
     "iopub.status.idle": "2022-03-21T14:11:07.775719Z",
     "shell.execute_reply": "2022-03-21T14:11:07.776095Z"
    },
    "papermill": {
     "duration": 0.06848,
     "end_time": "2022-03-21T14:11:07.776205",
     "exception": false,
     "start_time": "2022-03-21T14:11:07.707725",
     "status": "completed"
    },
    "tags": [
     "experiment_json"
    ]
   },
   "outputs": [
    {
     "data": {
      "text/plain": [
       "'{\"experiment_name\": \"tuned_1v2:oracle.run2\", \"parameters\": {\"experiment_name\": \"tuned_1v2:oracle.run2\", \"device\": \"cuda\", \"lr\": 0.0001, \"labels_source\": [\"3123D52\", \"3123D65\", \"3123D79\", \"3123D80\", \"3123D54\", \"3123D70\", \"3123D7B\", \"3123D89\", \"3123D58\", \"3123D76\", \"3123D7D\", \"3123EFE\", \"3123D64\", \"3123D78\", \"3123D7E\", \"3124E4A\"], \"labels_target\": [\"3123D52\", \"3123D65\", \"3123D79\", \"3123D80\", \"3123D54\", \"3123D70\", \"3123D7B\", \"3123D89\", \"3123D58\", \"3123D76\", \"3123D7D\", \"3123EFE\", \"3123D64\", \"3123D78\", \"3123D7E\", \"3124E4A\"], \"episode_transforms_source\": [], \"episode_transforms_target\": [], \"domains_source\": [8, 32, 50], \"domains_target\": [14, 20, 26, 38, 44], \"num_examples_per_domain_per_label_source\": -1, \"num_examples_per_domain_per_label_target\": -1, \"n_shot\": 3, \"n_way\": 16, \"n_query\": 2, \"train_k_factor\": 3, \"val_k_factor\": 2, \"test_k_factor\": 2, \"torch_default_dtype\": \"torch.float32\", \"n_epoch\": 50, \"patience\": 3, \"criteria_for_best\": \"target_accuracy\", \"x_net\": [{\"class\": \"nnReshape\", \"kargs\": {\"shape\": [-1, 1, 2, 256]}}, {\"class\": \"Conv2d\", \"kargs\": {\"in_channels\": 1, \"out_channels\": 256, \"kernel_size\": [1, 7], \"bias\": false, \"padding\": [0, 3]}}, {\"class\": \"ReLU\", \"kargs\": {\"inplace\": true}}, {\"class\": \"BatchNorm2d\", \"kargs\": {\"num_features\": 256}}, {\"class\": \"Conv2d\", \"kargs\": {\"in_channels\": 256, \"out_channels\": 80, \"kernel_size\": [2, 7], \"bias\": true, \"padding\": [0, 3]}}, {\"class\": \"ReLU\", \"kargs\": {\"inplace\": true}}, {\"class\": \"BatchNorm2d\", \"kargs\": {\"num_features\": 80}}, {\"class\": \"Flatten\", \"kargs\": {}}, {\"class\": \"Linear\", \"kargs\": {\"in_features\": 20480, \"out_features\": 256}}, {\"class\": \"ReLU\", \"kargs\": {\"inplace\": true}}, {\"class\": \"BatchNorm1d\", \"kargs\": {\"num_features\": 256}}, {\"class\": \"Linear\", \"kargs\": {\"in_features\": 256, \"out_features\": 256}}], \"NUM_LOGS_PER_EPOCH\": 10, \"BEST_MODEL_PATH\": \"./best_model.pth\", \"pickle_name\": \"oracle.Run2_10kExamples_stratified_ds.2022A.pkl\", \"x_transforms_source\": [], \"x_transforms_target\": [], \"dataset_seed\": 420, \"seed\": 420}, \"results\": {\"source_test_label_accuracy\": 0.9240798611111111, \"source_test_label_loss\": 0.23656176030635834, \"target_test_label_accuracy\": 0.78496875, \"target_test_label_loss\": 0.9407683610916138, \"source_val_label_accuracy\": 0.9252083333333333, \"source_val_label_loss\": 0.23690471053123474, \"target_val_label_accuracy\": 0.7850104166666667, \"target_val_label_loss\": 0.9405183792114258, \"total_epochs_trained\": 18, \"total_experiment_time_secs\": 6415.626641988754, \"confusion\": {\"8\": {\"15\": {\"15\": 1173, \"12\": 23, \"2\": 4}, \"5\": {\"10\": 158, \"5\": 1003, \"1\": 39}, \"7\": {\"7\": 1084, \"4\": 107, \"13\": 7, \"8\": 1, \"11\": 1}, \"4\": {\"4\": 1049, \"7\": 136, \"6\": 2, \"1\": 6, \"8\": 7}, \"10\": {\"10\": 1038, \"13\": 39, \"5\": 111, \"1\": 11, \"7\": 1}, \"11\": {\"8\": 203, \"11\": 984, \"6\": 13}, \"12\": {\"12\": 1191, \"15\": 9}, \"0\": {\"0\": 1200}, \"14\": {\"14\": 1111, \"1\": 7, \"6\": 81, \"4\": 1}, \"8\": {\"8\": 1118, \"11\": 49, \"6\": 32, \"4\": 1}, \"13\": {\"13\": 1113, \"7\": 21, \"10\": 48, \"1\": 6, \"4\": 12}, \"6\": {\"6\": 1080, \"8\": 39, \"14\": 77, \"4\": 3, \"11\": 1}, \"1\": {\"1\": 1078, \"4\": 16, \"13\": 27, \"10\": 46, \"5\": 32, \"14\": 1}, \"3\": {\"3\": 1200}, \"9\": {\"9\": 1200}, \"2\": {\"2\": 1199, \"15\": 1}}, \"50\": {\"4\": {\"4\": 937, \"5\": 234, \"7\": 27, \"6\": 2}, \"10\": {\"10\": 1190, \"0\": 5, \"13\": 4, \"1\": 1}, \"15\": {\"15\": 1158, \"4\": 3, \"6\": 33, \"9\": 5, \"5\": 1}, \"0\": {\"0\": 1135, \"2\": 46, \"10\": 19}, \"6\": {\"6\": 1109, \"15\": 42, \"5\": 43, \"4\": 6}, \"3\": {\"3\": 1200}, \"7\": {\"7\": 1147, \"4\": 34, \"5\": 19}, \"2\": {\"2\": 1176, \"0\": 24}, \"8\": {\"8\": 1200}, \"11\": {\"11\": 1184, \"12\": 13, \"9\": 2, \"1\": 1}, \"14\": {\"14\": 1199, \"2\": 1}, \"12\": {\"12\": 1184, \"9\": 11, \"11\": 5}, \"13\": {\"13\": 1197, \"10\": 2, \"1\": 1}, \"9\": {\"9\": 1191, \"15\": 3, \"12\": 6}, \"5\": {\"4\": 283, \"5\": 845, \"7\": 30, \"6\": 42}, \"1\": {\"1\": 1195, \"11\": 2, \"13\": 3}}, \"32\": {\"7\": {\"7\": 1037, \"0\": 77, \"2\": 46, \"8\": 35, \"11\": 1, \"5\": 2, \"4\": 1, \"13\": 1}, \"2\": {\"2\": 1019, \"14\": 97, \"0\": 45, \"7\": 35, \"8\": 4}, \"5\": {\"5\": 1151, \"7\": 7, \"2\": 17, \"15\": 14, \"14\": 11}, \"6\": {\"6\": 1200}, \"13\": {\"13\": 976, \"11\": 121, \"3\": 41, \"4\": 62}, \"4\": {\"4\": 976, \"13\": 40, \"11\": 163, \"3\": 2, \"0\": 19}, \"3\": {\"3\": 1158, \"13\": 40, \"4\": 1, \"11\": 1}, \"0\": {\"0\": 904, \"4\": 38, \"14\": 16, \"7\": 59, \"8\": 110, \"2\": 69, \"11\": 4}, \"9\": {\"9\": 1199, \"12\": 1}, \"12\": {\"12\": 1200}, \"8\": {\"8\": 1076, \"0\": 87, \"7\": 36, \"2\": 1}, \"14\": {\"14\": 939, \"2\": 234, \"7\": 2, \"5\": 2, \"0\": 23}, \"15\": {\"15\": 1197, \"5\": 3}, \"11\": {\"11\": 792, \"4\": 247, \"13\": 141, \"0\": 20}, \"10\": {\"10\": 1200}, \"1\": {\"1\": 1200}}, \"20\": {\"15\": {\"15\": 610, \"5\": 37, \"12\": 34, \"9\": 259, \"2\": 119, \"13\": 23, \"4\": 47, \"3\": 44, \"1\": 24, \"7\": 3}, \"5\": {\"2\": 307, \"3\": 117, \"7\": 19, \"4\": 53, \"5\": 402, \"1\": 119, \"15\": 49, \"9\": 123, \"0\": 8, \"8\": 3}, \"7\": {\"7\": 878, \"3\": 161, \"4\": 63, \"6\": 51, \"10\": 27, \"9\": 6, \"5\": 8, \"2\": 4, \"15\": 2}, \"4\": {\"4\": 828, \"3\": 156, \"7\": 59, \"9\": 71, \"15\": 25, \"2\": 32, \"10\": 15, \"12\": 3, \"5\": 11}, \"10\": {\"10\": 1043, \"6\": 72, \"7\": 67, \"4\": 12, \"3\": 1, \"12\": 5}, \"11\": {\"11\": 1181, \"8\": 17, \"0\": 2}, \"12\": {\"13\": 275, \"12\": 904, \"4\": 8, \"3\": 1, \"10\": 4, \"15\": 8}, \"0\": {\"0\": 1146, \"1\": 21, \"11\": 9, \"8\": 22, \"5\": 2}, \"14\": {\"14\": 959, \"8\": 239, \"5\": 1, \"2\": 1}, \"8\": {\"14\": 235, \"8\": 943, \"11\": 11, \"0\": 11}, \"13\": {\"13\": 872, \"12\": 311, \"4\": 1, \"15\": 15, \"9\": 1}, \"6\": {\"6\": 1086, \"10\": 46, \"7\": 68}, \"1\": {\"1\": 1031, \"5\": 76, \"15\": 22, \"9\": 26, \"2\": 38, \"4\": 1, \"0\": 6}, \"3\": {\"4\": 164, \"3\": 397, \"9\": 171, \"7\": 147, \"2\": 147, \"15\": 62, \"5\": 100, \"6\": 1, \"12\": 6, \"14\": 1, \"13\": 2, \"10\": 2}, \"9\": {\"5\": 117, \"9\": 374, \"15\": 235, \"2\": 228, \"3\": 131, \"7\": 7, \"4\": 87, \"13\": 2, \"1\": 18, \"12\": 1}, \"2\": {\"15\": 78, \"9\": 304, \"2\": 371, \"3\": 131, \"5\": 251, \"4\": 31, \"1\": 28, \"7\": 6}}, \"26\": {\"4\": {\"4\": 1176, \"3\": 22, \"7\": 2}, \"10\": {\"10\": 394, \"0\": 242, \"8\": 109, \"14\": 171, \"5\": 17, \"1\": 56, \"6\": 91, \"9\": 30, \"15\": 68, \"2\": 19, \"7\": 1, \"13\": 1, \"12\": 1}, \"15\": {\"0\": 75, \"2\": 123, \"15\": 925, \"14\": 10, \"7\": 6, \"8\": 27, \"5\": 6, \"10\": 21, \"9\": 6, \"3\": 1}, \"0\": {\"14\": 243, \"0\": 475, \"15\": 141, \"10\": 238, \"2\": 35, \"8\": 46, \"5\": 4, \"3\": 2, \"6\": 6, \"9\": 3, \"1\": 6, \"7\": 1}, \"6\": {\"6\": 824, \"5\": 284, \"10\": 33, \"14\": 32, \"1\": 24, \"0\": 2, \"8\": 1}, \"3\": {\"3\": 888, \"7\": 250, \"2\": 47, \"4\": 9, \"9\": 3, \"8\": 1, \"15\": 2}, \"7\": {\"7\": 600, \"2\": 219, \"3\": 195, \"8\": 84, \"15\": 6, \"9\": 69, \"13\": 23, \"0\": 2, \"14\": 1, \"4\": 1}, \"2\": {\"7\": 183, \"15\": 103, \"8\": 213, \"9\": 83, \"2\": 540, \"3\": 50, \"10\": 5, \"0\": 19, \"13\": 4}, \"8\": {\"8\": 560, \"2\": 206, \"9\": 232, \"10\": 71, \"13\": 15, \"0\": 54, \"7\": 45, \"15\": 13, \"6\": 1, \"14\": 3}, \"11\": {\"11\": 1200}, \"14\": {\"6\": 34, \"0\": 254, \"14\": 484, \"10\": 211, \"1\": 157, \"8\": 9, \"15\": 19, \"5\": 31, \"2\": 1}, \"12\": {\"12\": 1199, \"11\": 1}, \"13\": {\"13\": 971, \"9\": 188, \"7\": 29, \"2\": 4, \"8\": 8}, \"9\": {\"10\": 18, \"2\": 77, \"9\": 656, \"8\": 230, \"7\": 49, \"13\": 161, \"3\": 1, \"15\": 4, \"6\": 1, \"14\": 2, \"5\": 1}, \"5\": {\"5\": 646, \"6\": 397, \"14\": 43, \"10\": 25, \"15\": 47, \"1\": 18, \"8\": 7, \"0\": 11, \"2\": 3, \"9\": 3}, \"1\": {\"1\": 987, \"14\": 141, \"5\": 23, \"10\": 16, \"15\": 1, \"6\": 27, \"0\": 5}}, \"38\": {\"7\": {\"7\": 1177, \"0\": 17, \"14\": 2, \"8\": 4}, \"2\": {\"2\": 1106, \"14\": 94}, \"5\": {\"5\": 763, \"8\": 406, \"12\": 20, \"9\": 9, \"7\": 1, \"15\": 1}, \"6\": {\"6\": 1194, \"15\": 6}, \"13\": {\"13\": 810, \"3\": 240, \"10\": 150}, \"4\": {\"4\": 1152, \"10\": 47, \"7\": 1}, \"3\": {\"13\": 328, \"10\": 230, \"3\": 632, \"11\": 8, \"0\": 2}, \"0\": {\"0\": 1170, \"7\": 22, \"5\": 2, \"8\": 6}, \"9\": {\"9\": 1197, \"5\": 2, \"8\": 1}, \"12\": {\"12\": 1185, \"5\": 6, \"14\": 5, \"8\": 3, \"2\": 1}, \"8\": {\"8\": 1094, \"5\": 93, \"14\": 2, \"7\": 6, \"0\": 4, \"9\": 1}, \"14\": {\"2\": 397, \"7\": 69, \"14\": 639, \"12\": 37, \"4\": 49, \"10\": 1, \"5\": 1, \"13\": 4, \"8\": 3}, \"15\": {\"1\": 286, \"15\": 817, \"6\": 92, \"9\": 1, \"5\": 4}, \"11\": {\"11\": 1200}, \"10\": {\"10\": 1095, \"3\": 45, \"13\": 48, \"4\": 12}, \"1\": {\"1\": 1107, \"15\": 91, \"6\": 2}}, \"14\": {\"11\": {\"11\": 1200}, \"7\": {\"7\": 1195, \"2\": 4, \"5\": 1}, \"6\": {\"6\": 882, \"13\": 309, \"3\": 9}, \"12\": {\"12\": 521, \"9\": 212, \"8\": 50, \"3\": 67, \"15\": 127, \"10\": 108, \"11\": 44, \"0\": 27, \"1\": 32, \"4\": 4, \"6\": 7, \"14\": 1}, \"4\": {\"4\": 1182, \"14\": 4, \"5\": 8, \"2\": 1, \"10\": 1, \"0\": 4}, \"13\": {\"13\": 883, \"6\": 317}, \"8\": {\"8\": 1199, \"0\": 1}, \"5\": {\"5\": 959, \"14\": 95, \"2\": 136, \"3\": 6, \"4\": 3, \"7\": 1}, \"14\": {\"14\": 843, \"2\": 230, \"3\": 12, \"5\": 111, \"6\": 3, \"4\": 1}, \"3\": {\"3\": 1166, \"6\": 11, \"14\": 9, \"2\": 13, \"5\": 1}, \"10\": {\"10\": 935, \"0\": 201, \"14\": 9, \"3\": 41, \"12\": 11, \"5\": 1, \"8\": 1, \"9\": 1}, \"1\": {\"1\": 1200}, \"2\": {\"7\": 19, \"14\": 265, \"2\": 510, \"5\": 251, \"6\": 51, \"3\": 64, \"13\": 17, \"4\": 23}, \"15\": {\"15\": 1200}, \"9\": {\"9\": 1198, \"12\": 2}, \"0\": {\"10\": 42, \"0\": 1141, \"4\": 14, \"9\": 1, \"8\": 1, \"14\": 1}}, \"44\": {\"10\": {\"10\": 1185, \"7\": 14, \"9\": 1}, \"6\": {\"6\": 1184, \"13\": 8, \"9\": 1, \"7\": 7}, \"13\": {\"13\": 1139, \"6\": 20, \"4\": 40, \"14\": 1}, \"3\": {\"3\": 1096, \"12\": 104}, \"9\": {\"9\": 734, \"7\": 444, \"6\": 22}, \"1\": {\"1\": 1169, \"2\": 31}, \"5\": {\"5\": 1093, \"14\": 52, \"15\": 22, \"8\": 32, \"0\": 1}, \"11\": {\"11\": 1200}, \"4\": {\"4\": 1096, \"14\": 104}, \"14\": {\"14\": 1085, \"4\": 98, \"5\": 17}, \"12\": {\"12\": 1133, \"3\": 67}, \"7\": {\"7\": 878, \"9\": 319, \"10\": 1, \"6\": 2}, \"0\": {\"0\": 923, \"8\": 265, \"5\": 1, \"15\": 11}, \"15\": {\"15\": 1156, \"5\": 18, \"4\": 2, \"8\": 15, \"14\": 4, \"0\": 5}, \"2\": {\"2\": 1179, \"1\": 21}, \"8\": {\"8\": 1009, \"5\": 33, \"0\": 148, \"15\": 9, \"14\": 1}}}, \"per_domain_accuracy\": {\"8\": {\"accuracy\": 0.9281770833333334, \"source?\": true}, \"50\": {\"accuracy\": 0.9503645833333333, \"source?\": true}, \"32\": {\"accuracy\": 0.8970833333333333, \"source?\": true}, \"20\": {\"accuracy\": 0.6783854166666666, \"source?\": false}, \"26\": {\"accuracy\": 0.65234375, \"source?\": false}, \"38\": {\"accuracy\": 0.8509375, \"source?\": false}, \"14\": {\"accuracy\": 0.8444791666666667, \"source?\": false}, \"44\": {\"accuracy\": 0.89890625, \"source?\": false}}}, \"history\": {\"epoch_indices\": [1, 2, 3, 4, 5, 6, 7, 8, 9, 10, 11, 12, 13, 14, 15, 16, 17, 18], \"train_label_loss\": [0.5681364688095415, 0.3618197664603709, 0.285986084729167, 0.23450262729529409, 0.20608034877344922, 0.18093024810636602, 0.16194479515527038, 0.14768445413634976, 0.1364876153348023, 0.1277892389537541, 0.12010622741721154, 0.11259824320984557, 0.10677547673283669, 0.10177349050164695, 0.09523152162260885, 0.09119134544077497, 0.08768436173362658, 0.08392910055506671], \"source_val_label_loss\": [0.7207534909248352, 0.3661542534828186, 0.30718159675598145, 0.29443174600601196, 0.278241902589798, 0.2541023790836334, 0.25798264145851135, 0.260444313287735, 0.23862814903259277, 0.23521623015403748, 0.24921202659606934, 0.25545594096183777, 0.24135349690914154, 0.23690471053123474, 0.25603896379470825, 0.2427450567483902, 0.2443816214799881, 0.24311533570289612], \"target_val_label_loss\": [1.066981554031372, 0.9660711288452148, 1.0076886415481567, 0.8863583207130432, 1.0103687047958374, 0.8596859574317932, 0.8441120386123657, 0.9016013145446777, 0.8699274063110352, 0.8688129186630249, 0.943828284740448, 0.955659806728363, 0.9526594281196594, 0.9405183792114258, 1.0007013082504272, 1.0033105611801147, 1.0232211351394653, 1.0829871892929077], \"source_val_acc_label\": [0.7898784722222222, 0.8703125, 0.8930381944444444, 0.8974131944444445, 0.9097395833333334, 0.9132638888888889, 0.9099652777777778, 0.9126909722222222, 0.9200868055555556, 0.9212326388888888, 0.9215972222222222, 0.9211111111111111, 0.9237847222222222, 0.9252083333333333, 0.9224479166666667, 0.9248958333333334, 0.92515625, 0.92671875], \"target_val_acc_label\": [0.6546145833333333, 0.71896875, 0.7564479166666667, 0.7663125, 0.776625, 0.7785520833333334, 0.7775520833333334, 0.7745208333333333, 0.782, 0.7826666666666666, 0.7793229166666666, 0.7828541666666666, 0.7785729166666666, 0.7850104166666667, 0.7827604166666666, 0.7807708333333333, 0.7807604166666666, 0.7811458333333333]}, \"dataset_metrics\": {\"source\": {\"train\": {\"n_unique_x\": 336000, \"n_unique_y\": 16, \"n_batch/episode\": 12600}, \"val\": {\"n_unique_x\": 72000, \"n_unique_y\": 16, \"n_batch/episode\": 1800}, \"test\": {\"n_unique_x\": 72000, \"n_unique_y\": 16, \"n_batch/episode\": 1800}}, \"target\": {\"train\": {\"n_unique_x\": 560000, \"n_unique_y\": 16, \"n_batch/episode\": 21000}, \"val\": {\"n_unique_x\": 120000, \"n_unique_y\": 16, \"n_batch/episode\": 3000}, \"test\": {\"n_unique_x\": 120000, \"n_unique_y\": 16, \"n_batch/episode\": 3000}}}}'"
      ]
     },
     "execution_count": 20,
     "metadata": {},
     "output_type": "execute_result"
    }
   ],
   "source": [
    "json.dumps(experiment)"
   ]
  }
 ],
 "metadata": {
  "celltoolbar": "Tags",
  "kernelspec": {
   "display_name": "Python 3 (ipykernel)",
   "language": "python",
   "name": "python3"
  },
  "language_info": {
   "codemirror_mode": {
    "name": "ipython",
    "version": 3
   },
   "file_extension": ".py",
   "mimetype": "text/x-python",
   "name": "python",
   "nbconvert_exporter": "python",
   "pygments_lexer": "ipython3",
   "version": "3.8.10"
  },
  "papermill": {
   "default_parameters": {},
   "duration": 6662.15184,
   "end_time": "2022-03-21T14:11:09.246267",
   "environment_variables": {},
   "exception": null,
   "input_path": "/mnt/wd500GB/CSC500/csc500-main/csc500-notebooks/templates/ptn_template.ipynb",
   "output_path": "trial.ipynb",
   "parameters": {
    "parameters": {
     "BEST_MODEL_PATH": "./best_model.pth",
     "NUM_LOGS_PER_EPOCH": 10,
     "criteria_for_best": "target_accuracy",
     "dataset_seed": 420,
     "device": "cuda",
     "domains_source": [
      8,
      32,
      50
     ],
     "domains_target": [
      14,
      20,
      26,
      38,
      44
     ],
     "episode_transforms_source": [],
     "episode_transforms_target": [],
     "experiment_name": "tuned_1v2:oracle.run2",
     "labels_source": [
      "3123D52",
      "3123D65",
      "3123D79",
      "3123D80",
      "3123D54",
      "3123D70",
      "3123D7B",
      "3123D89",
      "3123D58",
      "3123D76",
      "3123D7D",
      "3123EFE",
      "3123D64",
      "3123D78",
      "3123D7E",
      "3124E4A"
     ],
     "labels_target": [
      "3123D52",
      "3123D65",
      "3123D79",
      "3123D80",
      "3123D54",
      "3123D70",
      "3123D7B",
      "3123D89",
      "3123D58",
      "3123D76",
      "3123D7D",
      "3123EFE",
      "3123D64",
      "3123D78",
      "3123D7E",
      "3124E4A"
     ],
     "lr": 0.0001,
     "n_epoch": 50,
     "n_query": 2,
     "n_shot": 3,
     "n_way": 16,
     "num_examples_per_domain_per_label_source": -1,
     "num_examples_per_domain_per_label_target": -1,
     "patience": 3,
     "pickle_name": "oracle.Run2_10kExamples_stratified_ds.2022A.pkl",
     "seed": 420,
     "test_k_factor": 2,
     "torch_default_dtype": "torch.float32",
     "train_k_factor": 3,
     "val_k_factor": 2,
     "x_net": [
      {
       "class": "nnReshape",
       "kargs": {
        "shape": [
         -1,
         1,
         2,
         256
        ]
       }
      },
      {
       "class": "Conv2d",
       "kargs": {
        "bias": false,
        "in_channels": 1,
        "kernel_size": [
         1,
         7
        ],
        "out_channels": 256,
        "padding": [
         0,
         3
        ]
       }
      },
      {
       "class": "ReLU",
       "kargs": {
        "inplace": true
       }
      },
      {
       "class": "BatchNorm2d",
       "kargs": {
        "num_features": 256
       }
      },
      {
       "class": "Conv2d",
       "kargs": {
        "bias": true,
        "in_channels": 256,
        "kernel_size": [
         2,
         7
        ],
        "out_channels": 80,
        "padding": [
         0,
         3
        ]
       }
      },
      {
       "class": "ReLU",
       "kargs": {
        "inplace": true
       }
      },
      {
       "class": "BatchNorm2d",
       "kargs": {
        "num_features": 80
       }
      },
      {
       "class": "Flatten",
       "kargs": {}
      },
      {
       "class": "Linear",
       "kargs": {
        "in_features": 20480,
        "out_features": 256
       }
      },
      {
       "class": "ReLU",
       "kargs": {
        "inplace": true
       }
      },
      {
       "class": "BatchNorm1d",
       "kargs": {
        "num_features": 256
       }
      },
      {
       "class": "Linear",
       "kargs": {
        "in_features": 256,
        "out_features": 256
       }
      }
     ],
     "x_transforms_source": [],
     "x_transforms_target": []
    }
   },
   "start_time": "2022-03-21T12:20:07.094427",
   "version": "2.3.4"
  }
 },
 "nbformat": 4,
 "nbformat_minor": 5
}