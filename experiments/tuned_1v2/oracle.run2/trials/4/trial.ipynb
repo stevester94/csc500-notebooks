{
 "cells": [
  {
   "cell_type": "markdown",
   "id": "9fea5f46",
   "metadata": {
    "papermill": {
     "duration": 0.009988,
     "end_time": "2022-03-21T09:40:29.321426",
     "exception": false,
     "start_time": "2022-03-21T09:40:29.311438",
     "status": "completed"
    },
    "tags": []
   },
   "source": [
    "# PTN Template\n",
    "This notebook serves as a template for single dataset PTN experiments  \n",
    "It can be run on its own by setting STANDALONE to True (do a find for \"STANDALONE\" to see where)  \n",
    "But it is intended to be executed as part of a *papermill.py script. See any of the   \n",
    "experimentes with a papermill script to get started with that workflow.  "
   ]
  },
  {
   "cell_type": "code",
   "execution_count": 1,
   "id": "0902182a",
   "metadata": {
    "execution": {
     "iopub.execute_input": "2022-03-21T09:40:29.355769Z",
     "iopub.status.busy": "2022-03-21T09:40:29.355348Z",
     "iopub.status.idle": "2022-03-21T09:40:30.271474Z",
     "shell.execute_reply": "2022-03-21T09:40:30.271174Z"
    },
    "papermill": {
     "duration": 0.939907,
     "end_time": "2022-03-21T09:40:30.271542",
     "exception": false,
     "start_time": "2022-03-21T09:40:29.331635",
     "status": "completed"
    },
    "tags": []
   },
   "outputs": [],
   "source": [
    "%load_ext autoreload\n",
    "%autoreload 2\n",
    "%matplotlib inline\n",
    "\n",
    "    \n",
    "import os, json, sys, time, random\n",
    "import numpy as np\n",
    "import torch\n",
    "from torch.optim import Adam\n",
    "from  easydict import EasyDict\n",
    "import matplotlib.pyplot as plt\n",
    "\n",
    "from steves_models.steves_ptn import Steves_Prototypical_Network\n",
    "\n",
    "from steves_utils.lazy_iterable_wrapper import Lazy_Iterable_Wrapper\n",
    "from steves_utils.iterable_aggregator import Iterable_Aggregator\n",
    "from steves_utils.ptn_train_eval_test_jig import  PTN_Train_Eval_Test_Jig\n",
    "from steves_utils.torch_sequential_builder import build_sequential\n",
    "from steves_utils.torch_utils import get_dataset_metrics, ptn_confusion_by_domain_over_dataloader\n",
    "from steves_utils.utils_v2 import (per_domain_accuracy_from_confusion, get_datasets_base_path)\n",
    "from steves_utils.PTN.utils import independent_accuracy_assesment\n",
    "\n",
    "from steves_utils.stratified_dataset.episodic_accessor import Episodic_Accessor_Factory\n",
    "\n",
    "from steves_utils.ptn_do_report import (\n",
    "    get_loss_curve,\n",
    "    get_results_table,\n",
    "    get_parameters_table,\n",
    "    get_domain_accuracies,\n",
    ")\n",
    "\n",
    "from steves_utils.transforms import get_chained_transform"
   ]
  },
  {
   "cell_type": "markdown",
   "id": "41c840b4",
   "metadata": {
    "papermill": {
     "duration": 0.009011,
     "end_time": "2022-03-21T09:40:30.290481",
     "exception": false,
     "start_time": "2022-03-21T09:40:30.281470",
     "status": "completed"
    },
    "tags": []
   },
   "source": [
    "# Required Parameters\n",
    "These are allowed parameters, not defaults\n",
    "Each of these values need to be present in the injected parameters (the notebook will raise an exception if they are not present)\n",
    "\n",
    "Papermill uses the cell tag \"parameters\" to inject the real parameters below this cell.\n",
    "Enable tags to see what I mean"
   ]
  },
  {
   "cell_type": "code",
   "execution_count": 2,
   "id": "fd44eb83",
   "metadata": {
    "execution": {
     "iopub.execute_input": "2022-03-21T09:40:30.312090Z",
     "iopub.status.busy": "2022-03-21T09:40:30.311802Z",
     "iopub.status.idle": "2022-03-21T09:40:30.327748Z",
     "shell.execute_reply": "2022-03-21T09:40:30.327503Z"
    },
    "papermill": {
     "duration": 0.028266,
     "end_time": "2022-03-21T09:40:30.327797",
     "exception": false,
     "start_time": "2022-03-21T09:40:30.299531",
     "status": "completed"
    },
    "tags": []
   },
   "outputs": [],
   "source": [
    "required_parameters = {\n",
    "    \"experiment_name\",\n",
    "    \"lr\",\n",
    "    \"device\",\n",
    "    \"seed\",\n",
    "    \"dataset_seed\",\n",
    "    \"labels_source\",\n",
    "    \"labels_target\",\n",
    "    \"domains_source\",\n",
    "    \"domains_target\",\n",
    "    \"num_examples_per_domain_per_label_source\",\n",
    "    \"num_examples_per_domain_per_label_target\",\n",
    "    \"n_shot\",\n",
    "    \"n_way\",\n",
    "    \"n_query\",\n",
    "    \"train_k_factor\",\n",
    "    \"val_k_factor\",\n",
    "    \"test_k_factor\",\n",
    "    \"n_epoch\",\n",
    "    \"patience\",\n",
    "    \"criteria_for_best\",\n",
    "    \"x_transforms_source\",\n",
    "    \"x_transforms_target\",\n",
    "    \"episode_transforms_source\",\n",
    "    \"episode_transforms_target\",\n",
    "    \"pickle_name\",\n",
    "    \"x_net\",\n",
    "    \"NUM_LOGS_PER_EPOCH\",\n",
    "    \"BEST_MODEL_PATH\",\n",
    "    \"torch_default_dtype\"\n",
    "}"
   ]
  },
  {
   "cell_type": "code",
   "execution_count": 3,
   "id": "fa3f0049",
   "metadata": {
    "execution": {
     "iopub.execute_input": "2022-03-21T09:40:30.352500Z",
     "iopub.status.busy": "2022-03-21T09:40:30.352192Z",
     "iopub.status.idle": "2022-03-21T09:40:30.364788Z",
     "shell.execute_reply": "2022-03-21T09:40:30.364572Z"
    },
    "papermill": {
     "duration": 0.027773,
     "end_time": "2022-03-21T09:40:30.364837",
     "exception": false,
     "start_time": "2022-03-21T09:40:30.337064",
     "status": "completed"
    },
    "tags": [
     "parameters"
    ]
   },
   "outputs": [],
   "source": [
    "\n",
    "\n",
    "standalone_parameters = {}\n",
    "standalone_parameters[\"experiment_name\"] = \"STANDALONE PTN\"\n",
    "standalone_parameters[\"lr\"] = 0.0001\n",
    "standalone_parameters[\"device\"] = \"cuda\"\n",
    "\n",
    "standalone_parameters[\"seed\"] = 1337\n",
    "standalone_parameters[\"dataset_seed\"] = 1337\n",
    "\n",
    "\n",
    "standalone_parameters[\"num_examples_per_domain_per_label_source\"]=100\n",
    "standalone_parameters[\"num_examples_per_domain_per_label_target\"]=100\n",
    "\n",
    "standalone_parameters[\"n_shot\"] = 3\n",
    "standalone_parameters[\"n_query\"]  = 2\n",
    "standalone_parameters[\"train_k_factor\"] = 1\n",
    "standalone_parameters[\"val_k_factor\"] = 2\n",
    "standalone_parameters[\"test_k_factor\"] = 2\n",
    "\n",
    "\n",
    "standalone_parameters[\"n_epoch\"] = 100\n",
    "\n",
    "standalone_parameters[\"patience\"] = 10\n",
    "standalone_parameters[\"criteria_for_best\"] = \"target_accuracy\"\n",
    "\n",
    "standalone_parameters[\"x_transforms_source\"] = [\"unit_power\"]\n",
    "standalone_parameters[\"x_transforms_target\"] = [\"unit_power\"]\n",
    "standalone_parameters[\"episode_transforms_source\"] = []\n",
    "standalone_parameters[\"episode_transforms_target\"] = []\n",
    "\n",
    "standalone_parameters[\"torch_default_dtype\"] = \"torch.float32\" \n",
    "\n",
    "\n",
    "\n",
    "standalone_parameters[\"x_net\"] =     [\n",
    "    {\"class\": \"nnReshape\", \"kargs\": {\"shape\":[-1, 1, 2, 256]}},\n",
    "    {\"class\": \"Conv2d\", \"kargs\": { \"in_channels\":1, \"out_channels\":256, \"kernel_size\":(1,7), \"bias\":False, \"padding\":(0,3), },},\n",
    "    {\"class\": \"ReLU\", \"kargs\": {\"inplace\": True}},\n",
    "    {\"class\": \"BatchNorm2d\", \"kargs\": {\"num_features\":256}},\n",
    "\n",
    "    {\"class\": \"Conv2d\", \"kargs\": { \"in_channels\":256, \"out_channels\":80, \"kernel_size\":(2,7), \"bias\":True, \"padding\":(0,3), },},\n",
    "    {\"class\": \"ReLU\", \"kargs\": {\"inplace\": True}},\n",
    "    {\"class\": \"BatchNorm2d\", \"kargs\": {\"num_features\":80}},\n",
    "    {\"class\": \"Flatten\", \"kargs\": {}},\n",
    "\n",
    "    {\"class\": \"Linear\", \"kargs\": {\"in_features\": 80*256, \"out_features\": 256}}, # 80 units per IQ pair\n",
    "    {\"class\": \"ReLU\", \"kargs\": {\"inplace\": True}},\n",
    "    {\"class\": \"BatchNorm1d\", \"kargs\": {\"num_features\":256}},\n",
    "\n",
    "    {\"class\": \"Linear\", \"kargs\": {\"in_features\": 256, \"out_features\": 256}},\n",
    "]\n",
    "\n",
    "# Parameters relevant to results\n",
    "# These parameters will basically never need to change\n",
    "standalone_parameters[\"NUM_LOGS_PER_EPOCH\"] = 10\n",
    "standalone_parameters[\"BEST_MODEL_PATH\"] = \"./best_model.pth\"\n",
    "\n",
    "# uncomment for CORES dataset\n",
    "from steves_utils.CORES.utils import (\n",
    "    ALL_NODES,\n",
    "    ALL_NODES_MINIMUM_1000_EXAMPLES,\n",
    "    ALL_DAYS\n",
    ")\n",
    "\n",
    "\n",
    "standalone_parameters[\"labels_source\"] = ALL_NODES\n",
    "standalone_parameters[\"labels_target\"] = ALL_NODES\n",
    "\n",
    "standalone_parameters[\"domains_source\"] = [1]\n",
    "standalone_parameters[\"domains_target\"] = [2,3,4,5]\n",
    "\n",
    "standalone_parameters[\"pickle_name\"] = \"cores.stratified_ds.2022A.pkl\"\n",
    "\n",
    "\n",
    "# Uncomment these for ORACLE dataset\n",
    "# from steves_utils.ORACLE.utils_v2 import (\n",
    "#     ALL_DISTANCES_FEET,\n",
    "#     ALL_RUNS,\n",
    "#     ALL_SERIAL_NUMBERS,\n",
    "# )\n",
    "# standalone_parameters[\"labels_source\"] = ALL_SERIAL_NUMBERS\n",
    "# standalone_parameters[\"labels_target\"] = ALL_SERIAL_NUMBERS\n",
    "# standalone_parameters[\"domains_source\"] = [8,20, 38,50]\n",
    "# standalone_parameters[\"domains_target\"] = [14, 26, 32, 44, 56]\n",
    "# standalone_parameters[\"pickle_name\"] = \"oracle.frame_indexed.stratified_ds.2022A.pkl\"\n",
    "# standalone_parameters[\"num_examples_per_domain_per_label_source\"]=1000\n",
    "# standalone_parameters[\"num_examples_per_domain_per_label_target\"]=1000\n",
    "\n",
    "# Uncomment these for Metahan dataset\n",
    "# standalone_parameters[\"labels_source\"] = list(range(19))\n",
    "# standalone_parameters[\"labels_target\"] = list(range(19))\n",
    "# standalone_parameters[\"domains_source\"] = [0]\n",
    "# standalone_parameters[\"domains_target\"] = [1]\n",
    "# standalone_parameters[\"pickle_name\"] = \"metehan.stratified_ds.2022A.pkl\"\n",
    "# standalone_parameters[\"n_way\"]  = len(standalone_parameters[\"labels_source\"])\n",
    "# standalone_parameters[\"num_examples_per_domain_per_label_source\"]=200\n",
    "# standalone_parameters[\"num_examples_per_domain_per_label_target\"]=100\n",
    "\n",
    "\n",
    "standalone_parameters[\"n_way\"]  = len(standalone_parameters[\"labels_source\"])"
   ]
  },
  {
   "cell_type": "code",
   "execution_count": 4,
   "id": "f9d8a6a2",
   "metadata": {
    "execution": {
     "iopub.execute_input": "2022-03-21T09:40:30.396946Z",
     "iopub.status.busy": "2022-03-21T09:40:30.396445Z",
     "iopub.status.idle": "2022-03-21T09:40:30.406179Z",
     "shell.execute_reply": "2022-03-21T09:40:30.405668Z"
    },
    "papermill": {
     "duration": 0.030776,
     "end_time": "2022-03-21T09:40:30.406279",
     "exception": false,
     "start_time": "2022-03-21T09:40:30.375503",
     "status": "completed"
    },
    "tags": [
     "injected-parameters"
    ]
   },
   "outputs": [],
   "source": [
    "# Parameters\n",
    "parameters = {\n",
    "    \"experiment_name\": \"tuned_1v2:oracle.run2\",\n",
    "    \"device\": \"cuda\",\n",
    "    \"lr\": 0.0001,\n",
    "    \"labels_source\": [\n",
    "        \"3123D52\",\n",
    "        \"3123D65\",\n",
    "        \"3123D79\",\n",
    "        \"3123D80\",\n",
    "        \"3123D54\",\n",
    "        \"3123D70\",\n",
    "        \"3123D7B\",\n",
    "        \"3123D89\",\n",
    "        \"3123D58\",\n",
    "        \"3123D76\",\n",
    "        \"3123D7D\",\n",
    "        \"3123EFE\",\n",
    "        \"3123D64\",\n",
    "        \"3123D78\",\n",
    "        \"3123D7E\",\n",
    "        \"3124E4A\",\n",
    "    ],\n",
    "    \"labels_target\": [\n",
    "        \"3123D52\",\n",
    "        \"3123D65\",\n",
    "        \"3123D79\",\n",
    "        \"3123D80\",\n",
    "        \"3123D54\",\n",
    "        \"3123D70\",\n",
    "        \"3123D7B\",\n",
    "        \"3123D89\",\n",
    "        \"3123D58\",\n",
    "        \"3123D76\",\n",
    "        \"3123D7D\",\n",
    "        \"3123EFE\",\n",
    "        \"3123D64\",\n",
    "        \"3123D78\",\n",
    "        \"3123D7E\",\n",
    "        \"3124E4A\",\n",
    "    ],\n",
    "    \"episode_transforms_source\": [],\n",
    "    \"episode_transforms_target\": [],\n",
    "    \"domains_source\": [8, 32, 50],\n",
    "    \"domains_target\": [14, 20, 26, 38, 44],\n",
    "    \"num_examples_per_domain_per_label_source\": -1,\n",
    "    \"num_examples_per_domain_per_label_target\": -1,\n",
    "    \"n_shot\": 3,\n",
    "    \"n_way\": 16,\n",
    "    \"n_query\": 2,\n",
    "    \"train_k_factor\": 3,\n",
    "    \"val_k_factor\": 2,\n",
    "    \"test_k_factor\": 2,\n",
    "    \"torch_default_dtype\": \"torch.float32\",\n",
    "    \"n_epoch\": 50,\n",
    "    \"patience\": 3,\n",
    "    \"criteria_for_best\": \"target_accuracy\",\n",
    "    \"x_net\": [\n",
    "        {\"class\": \"nnReshape\", \"kargs\": {\"shape\": [-1, 1, 2, 256]}},\n",
    "        {\n",
    "            \"class\": \"Conv2d\",\n",
    "            \"kargs\": {\n",
    "                \"in_channels\": 1,\n",
    "                \"out_channels\": 256,\n",
    "                \"kernel_size\": [1, 7],\n",
    "                \"bias\": False,\n",
    "                \"padding\": [0, 3],\n",
    "            },\n",
    "        },\n",
    "        {\"class\": \"ReLU\", \"kargs\": {\"inplace\": True}},\n",
    "        {\"class\": \"BatchNorm2d\", \"kargs\": {\"num_features\": 256}},\n",
    "        {\n",
    "            \"class\": \"Conv2d\",\n",
    "            \"kargs\": {\n",
    "                \"in_channels\": 256,\n",
    "                \"out_channels\": 80,\n",
    "                \"kernel_size\": [2, 7],\n",
    "                \"bias\": True,\n",
    "                \"padding\": [0, 3],\n",
    "            },\n",
    "        },\n",
    "        {\"class\": \"ReLU\", \"kargs\": {\"inplace\": True}},\n",
    "        {\"class\": \"BatchNorm2d\", \"kargs\": {\"num_features\": 80}},\n",
    "        {\"class\": \"Flatten\", \"kargs\": {}},\n",
    "        {\"class\": \"Linear\", \"kargs\": {\"in_features\": 20480, \"out_features\": 256}},\n",
    "        {\"class\": \"ReLU\", \"kargs\": {\"inplace\": True}},\n",
    "        {\"class\": \"BatchNorm1d\", \"kargs\": {\"num_features\": 256}},\n",
    "        {\"class\": \"Linear\", \"kargs\": {\"in_features\": 256, \"out_features\": 256}},\n",
    "    ],\n",
    "    \"NUM_LOGS_PER_EPOCH\": 10,\n",
    "    \"BEST_MODEL_PATH\": \"./best_model.pth\",\n",
    "    \"pickle_name\": \"oracle.Run2_10kExamples_stratified_ds.2022A.pkl\",\n",
    "    \"x_transforms_source\": [\"unit_mag\"],\n",
    "    \"x_transforms_target\": [\"unit_mag\"],\n",
    "    \"dataset_seed\": 500,\n",
    "    \"seed\": 500,\n",
    "}\n"
   ]
  },
  {
   "cell_type": "code",
   "execution_count": 5,
   "id": "8fa1cc33",
   "metadata": {
    "execution": {
     "iopub.execute_input": "2022-03-21T09:40:30.440731Z",
     "iopub.status.busy": "2022-03-21T09:40:30.440375Z",
     "iopub.status.idle": "2022-03-21T09:40:30.447071Z",
     "shell.execute_reply": "2022-03-21T09:40:30.447378Z"
    },
    "papermill": {
     "duration": 0.026958,
     "end_time": "2022-03-21T09:40:30.447459",
     "exception": false,
     "start_time": "2022-03-21T09:40:30.420501",
     "status": "completed"
    },
    "tags": []
   },
   "outputs": [],
   "source": [
    "# Set this to True if you want to run this template directly\n",
    "STANDALONE = False\n",
    "if STANDALONE:\n",
    "    print(\"parameters not injected, running with standalone_parameters\")\n",
    "    parameters = standalone_parameters\n",
    "\n",
    "if not 'parameters' in locals() and not 'parameters' in globals():\n",
    "    raise Exception(\"Parameter injection failed\")\n",
    "\n",
    "#Use an easy dict for all the parameters\n",
    "p = EasyDict(parameters)\n",
    "\n",
    "supplied_keys = set(p.keys())\n",
    "\n",
    "if  supplied_keys != required_parameters:\n",
    "    print(\"Parameters are incorrect\")\n",
    "    if len(supplied_keys - required_parameters)>0: print(\"Shouldn't have:\", str(supplied_keys - required_parameters))\n",
    "    if len(required_parameters - supplied_keys)>0: print(\"Need to have:\", str(required_parameters - supplied_keys))\n",
    "    raise RuntimeError(\"Parameters are incorrect\")\n",
    "\n"
   ]
  },
  {
   "cell_type": "code",
   "execution_count": 6,
   "id": "3a028d58",
   "metadata": {
    "execution": {
     "iopub.execute_input": "2022-03-21T09:40:30.473953Z",
     "iopub.status.busy": "2022-03-21T09:40:30.473704Z",
     "iopub.status.idle": "2022-03-21T09:40:30.484347Z",
     "shell.execute_reply": "2022-03-21T09:40:30.484002Z"
    },
    "papermill": {
     "duration": 0.021619,
     "end_time": "2022-03-21T09:40:30.484416",
     "exception": false,
     "start_time": "2022-03-21T09:40:30.462797",
     "status": "completed"
    },
    "tags": []
   },
   "outputs": [],
   "source": [
    "###################################\n",
    "# Set the RNGs and make it all deterministic\n",
    "###################################\n",
    "np.random.seed(p.seed)\n",
    "random.seed(p.seed)\n",
    "torch.manual_seed(p.seed)\n",
    "\n",
    "torch.use_deterministic_algorithms(True) "
   ]
  },
  {
   "cell_type": "code",
   "execution_count": 7,
   "id": "b691acf6",
   "metadata": {
    "execution": {
     "iopub.execute_input": "2022-03-21T09:40:30.518441Z",
     "iopub.status.busy": "2022-03-21T09:40:30.510310Z",
     "iopub.status.idle": "2022-03-21T09:40:30.524660Z",
     "shell.execute_reply": "2022-03-21T09:40:30.524189Z"
    },
    "papermill": {
     "duration": 0.026756,
     "end_time": "2022-03-21T09:40:30.524753",
     "exception": false,
     "start_time": "2022-03-21T09:40:30.497997",
     "status": "completed"
    },
    "tags": []
   },
   "outputs": [],
   "source": [
    "###########################################\n",
    "# The stratified datasets honor this\n",
    "###########################################\n",
    "torch.set_default_dtype(eval(p.torch_default_dtype))"
   ]
  },
  {
   "cell_type": "code",
   "execution_count": 8,
   "id": "b5fba671",
   "metadata": {
    "execution": {
     "iopub.execute_input": "2022-03-21T09:40:30.550670Z",
     "iopub.status.busy": "2022-03-21T09:40:30.550428Z",
     "iopub.status.idle": "2022-03-21T09:40:30.586208Z",
     "shell.execute_reply": "2022-03-21T09:40:30.585823Z"
    },
    "papermill": {
     "duration": 0.047073,
     "end_time": "2022-03-21T09:40:30.586295",
     "exception": false,
     "start_time": "2022-03-21T09:40:30.539222",
     "status": "completed"
    },
    "tags": []
   },
   "outputs": [],
   "source": [
    "###################################\n",
    "# Build the network(s)\n",
    "# Note: It's critical to do this AFTER setting the RNG\n",
    "# (This is due to the randomized initial weights)\n",
    "###################################\n",
    "x_net = build_sequential(p.x_net)"
   ]
  },
  {
   "cell_type": "code",
   "execution_count": 9,
   "id": "5d7e61cc",
   "metadata": {
    "execution": {
     "iopub.execute_input": "2022-03-21T09:40:30.618896Z",
     "iopub.status.busy": "2022-03-21T09:40:30.614273Z",
     "iopub.status.idle": "2022-03-21T09:40:30.628300Z",
     "shell.execute_reply": "2022-03-21T09:40:30.628721Z"
    },
    "papermill": {
     "duration": 0.026853,
     "end_time": "2022-03-21T09:40:30.628838",
     "exception": false,
     "start_time": "2022-03-21T09:40:30.601985",
     "status": "completed"
    },
    "tags": []
   },
   "outputs": [],
   "source": [
    "start_time_secs = time.time()"
   ]
  },
  {
   "cell_type": "code",
   "execution_count": 10,
   "id": "fd5442bc",
   "metadata": {
    "execution": {
     "iopub.execute_input": "2022-03-21T09:40:30.662771Z",
     "iopub.status.busy": "2022-03-21T09:40:30.662321Z",
     "iopub.status.idle": "2022-03-21T09:41:50.485053Z",
     "shell.execute_reply": "2022-03-21T09:41:50.484564Z"
    },
    "papermill": {
     "duration": 79.841285,
     "end_time": "2022-03-21T09:41:50.485154",
     "exception": false,
     "start_time": "2022-03-21T09:40:30.643869",
     "status": "completed"
    },
    "tags": []
   },
   "outputs": [],
   "source": [
    "###################################\n",
    "# Build the dataset\n",
    "###################################\n",
    "\n",
    "if p.x_transforms_source == []: x_transform_source = None\n",
    "else: x_transform_source = get_chained_transform(p.x_transforms_source) \n",
    "\n",
    "if p.x_transforms_target == []: x_transform_target = None\n",
    "else: x_transform_target = get_chained_transform(p.x_transforms_target)\n",
    "\n",
    "if p.episode_transforms_source == []: episode_transform_source = None\n",
    "else: raise Exception(\"episode_transform_source not implemented\")\n",
    "\n",
    "if p.episode_transforms_target == []: episode_transform_target = None\n",
    "else: raise Exception(\"episode_transform_target not implemented\")\n",
    "\n",
    "\n",
    "eaf_source = Episodic_Accessor_Factory(\n",
    "    labels=p.labels_source,\n",
    "    domains=p.domains_source,\n",
    "    num_examples_per_domain_per_label=p.num_examples_per_domain_per_label_source,\n",
    "    iterator_seed=p.seed,\n",
    "    dataset_seed=p.dataset_seed,\n",
    "    n_shot=p.n_shot,\n",
    "    n_way=p.n_way,\n",
    "    n_query=p.n_query,\n",
    "    train_val_test_k_factors=(p.train_k_factor,p.val_k_factor,p.test_k_factor),\n",
    "    pickle_path=os.path.join(get_datasets_base_path(), p.pickle_name),\n",
    "    x_transform_func=x_transform_source,\n",
    "    example_transform_func=episode_transform_source,\n",
    "    \n",
    ")\n",
    "train_original_source, val_original_source, test_original_source = eaf_source.get_train(), eaf_source.get_val(), eaf_source.get_test()\n",
    "\n",
    "\n",
    "eaf_target = Episodic_Accessor_Factory(\n",
    "    labels=p.labels_target,\n",
    "    domains=p.domains_target,\n",
    "    num_examples_per_domain_per_label=p.num_examples_per_domain_per_label_target,\n",
    "    iterator_seed=p.seed,\n",
    "    dataset_seed=p.dataset_seed,\n",
    "    n_shot=p.n_shot,\n",
    "    n_way=p.n_way,\n",
    "    n_query=p.n_query,\n",
    "    train_val_test_k_factors=(p.train_k_factor,p.val_k_factor,p.test_k_factor),\n",
    "    pickle_path=os.path.join(get_datasets_base_path(), p.pickle_name),\n",
    "    x_transform_func=x_transform_target,\n",
    "    example_transform_func=episode_transform_target,\n",
    ")\n",
    "train_original_target, val_original_target, test_original_target = eaf_target.get_train(), eaf_target.get_val(), eaf_target.get_test()\n",
    "\n",
    "\n",
    "transform_lambda = lambda ex: ex[1] # Original is (<domain>, <episode>) so we strip down to episode only\n",
    "\n",
    "train_processed_source = Lazy_Iterable_Wrapper(train_original_source, transform_lambda)\n",
    "val_processed_source   = Lazy_Iterable_Wrapper(val_original_source, transform_lambda)\n",
    "test_processed_source  = Lazy_Iterable_Wrapper(test_original_source, transform_lambda)\n",
    "\n",
    "train_processed_target = Lazy_Iterable_Wrapper(train_original_target, transform_lambda)\n",
    "val_processed_target   = Lazy_Iterable_Wrapper(val_original_target, transform_lambda)\n",
    "test_processed_target  = Lazy_Iterable_Wrapper(test_original_target, transform_lambda)\n",
    "\n",
    "datasets = EasyDict({\n",
    "    \"source\": {\n",
    "        \"original\": {\"train\":train_original_source, \"val\":val_original_source, \"test\":test_original_source},\n",
    "        \"processed\": {\"train\":train_processed_source, \"val\":val_processed_source, \"test\":test_processed_source}\n",
    "    },\n",
    "    \"target\": {\n",
    "        \"original\": {\"train\":train_original_target, \"val\":val_original_target, \"test\":test_original_target},\n",
    "        \"processed\": {\"train\":train_processed_target, \"val\":val_processed_target, \"test\":test_processed_target}\n",
    "    },\n",
    "})"
   ]
  },
  {
   "cell_type": "code",
   "execution_count": 11,
   "id": "296189d9",
   "metadata": {
    "execution": {
     "iopub.execute_input": "2022-03-21T09:41:50.515564Z",
     "iopub.status.busy": "2022-03-21T09:41:50.515302Z",
     "iopub.status.idle": "2022-03-21T09:41:52.476345Z",
     "shell.execute_reply": "2022-03-21T09:41:52.476070Z"
    },
    "papermill": {
     "duration": 1.974365,
     "end_time": "2022-03-21T09:41:52.476426",
     "exception": false,
     "start_time": "2022-03-21T09:41:50.502061",
     "status": "completed"
    },
    "tags": []
   },
   "outputs": [
    {
     "name": "stdout",
     "output_type": "stream",
     "text": [
      "Visually inspect these to see if they line up with expected values given the transforms\n",
      "x_transforms_source ['unit_mag']\n",
      "x_transforms_target ['unit_mag']\n",
      "Average magnitude, source: 1.0\n",
      "Average power, source: 1.2574446\n"
     ]
    },
    {
     "name": "stdout",
     "output_type": "stream",
     "text": [
      "Average magnitude, target: 1.0\n",
      "Average power, target: 1.2301602\n"
     ]
    }
   ],
   "source": [
    "# Some quick unit tests on the data\n",
    "from steves_utils.transforms import get_average_power, get_average_magnitude\n",
    "\n",
    "q_x, q_y, s_x, s_y, truth = next(iter(train_processed_source))\n",
    "\n",
    "assert q_x.dtype == eval(p.torch_default_dtype)\n",
    "assert s_x.dtype == eval(p.torch_default_dtype)\n",
    "\n",
    "print(\"Visually inspect these to see if they line up with expected values given the transforms\")\n",
    "print('x_transforms_source', p.x_transforms_source)\n",
    "print('x_transforms_target', p.x_transforms_target)\n",
    "print(\"Average magnitude, source:\", get_average_magnitude(q_x[0].numpy()))\n",
    "print(\"Average power, source:\", get_average_power(q_x[0].numpy()))\n",
    "\n",
    "q_x, q_y, s_x, s_y, truth = next(iter(train_processed_target))\n",
    "print(\"Average magnitude, target:\", get_average_magnitude(q_x[0].numpy()))\n",
    "print(\"Average power, target:\", get_average_power(q_x[0].numpy()))\n"
   ]
  },
  {
   "cell_type": "code",
   "execution_count": 12,
   "id": "bbdacba1",
   "metadata": {
    "execution": {
     "iopub.execute_input": "2022-03-21T09:41:52.507172Z",
     "iopub.status.busy": "2022-03-21T09:41:52.506911Z",
     "iopub.status.idle": "2022-03-21T09:41:52.573738Z",
     "shell.execute_reply": "2022-03-21T09:41:52.573339Z"
    },
    "papermill": {
     "duration": 0.081555,
     "end_time": "2022-03-21T09:41:52.573841",
     "exception": false,
     "start_time": "2022-03-21T09:41:52.492286",
     "status": "completed"
    },
    "tags": []
   },
   "outputs": [
    {
     "name": "stdout",
     "output_type": "stream",
     "text": [
      "(2, 256)\n"
     ]
    }
   ],
   "source": [
    "###################################\n",
    "# Build the model\n",
    "###################################\n",
    "model = Steves_Prototypical_Network(x_net, device=p.device, x_shape=(2,256))\n",
    "optimizer = Adam(params=model.parameters(), lr=p.lr)"
   ]
  },
  {
   "cell_type": "code",
   "execution_count": 13,
   "id": "22b39ac5",
   "metadata": {
    "execution": {
     "iopub.execute_input": "2022-03-21T09:41:52.603043Z",
     "iopub.status.busy": "2022-03-21T09:41:52.602795Z",
     "iopub.status.idle": "2022-03-21T10:53:10.237387Z",
     "shell.execute_reply": "2022-03-21T10:53:10.237155Z"
    },
    "papermill": {
     "duration": 4277.647878,
     "end_time": "2022-03-21T10:53:10.237446",
     "exception": false,
     "start_time": "2022-03-21T09:41:52.589568",
     "status": "completed"
    },
    "tags": []
   },
   "outputs": [
    {
     "name": "stdout",
     "output_type": "stream",
     "text": [
      "epoch: 1, [batch: 1 / 12600], examples_per_second: 27.0819, train_label_loss: 2.7782, \n"
     ]
    },
    {
     "name": "stdout",
     "output_type": "stream",
     "text": [
      "epoch: 1, [batch: 1260 / 12600], examples_per_second: 3169.5967, train_label_loss: 1.3542, \n"
     ]
    },
    {
     "name": "stdout",
     "output_type": "stream",
     "text": [
      "epoch: 1, [batch: 2520 / 12600], examples_per_second: 3156.0789, train_label_loss: 1.4838, \n"
     ]
    },
    {
     "name": "stdout",
     "output_type": "stream",
     "text": [
      "epoch: 1, [batch: 3780 / 12600], examples_per_second: 3159.7081, train_label_loss: 1.6517, \n"
     ]
    },
    {
     "name": "stdout",
     "output_type": "stream",
     "text": [
      "epoch: 1, [batch: 5040 / 12600], examples_per_second: 3147.1134, train_label_loss: 1.1661, \n"
     ]
    },
    {
     "name": "stdout",
     "output_type": "stream",
     "text": [
      "epoch: 1, [batch: 6300 / 12600], examples_per_second: 3159.7053, train_label_loss: 1.3425, \n"
     ]
    },
    {
     "name": "stdout",
     "output_type": "stream",
     "text": [
      "epoch: 1, [batch: 7560 / 12600], examples_per_second: 3161.7378, train_label_loss: 1.2518, \n"
     ]
    },
    {
     "name": "stdout",
     "output_type": "stream",
     "text": [
      "epoch: 1, [batch: 8820 / 12600], examples_per_second: 3148.0998, train_label_loss: 1.1421, \n"
     ]
    },
    {
     "name": "stdout",
     "output_type": "stream",
     "text": [
      "epoch: 1, [batch: 10080 / 12600], examples_per_second: 3154.5497, train_label_loss: 0.9489, \n"
     ]
    },
    {
     "name": "stdout",
     "output_type": "stream",
     "text": [
      "epoch: 1, [batch: 11340 / 12600], examples_per_second: 3161.3744, train_label_loss: 0.9406, \n"
     ]
    },
    {
     "name": "stdout",
     "output_type": "stream",
     "text": [
      "=============================================================\n",
      "epoch: 1, source_val_acc_label: 0.5970, target_val_acc_label: 0.4915, source_val_label_loss: 1.0278, target_val_label_loss: 1.3981, \n",
      "=============================================================\n"
     ]
    },
    {
     "name": "stdout",
     "output_type": "stream",
     "text": [
      "New best\n"
     ]
    },
    {
     "name": "stdout",
     "output_type": "stream",
     "text": [
      "epoch: 2, [batch: 1 / 12600], examples_per_second: 2.2418, train_label_loss: 0.7199, \n"
     ]
    },
    {
     "name": "stdout",
     "output_type": "stream",
     "text": [
      "epoch: 2, [batch: 1260 / 12600], examples_per_second: 3177.0966, train_label_loss: 0.8528, \n"
     ]
    },
    {
     "name": "stdout",
     "output_type": "stream",
     "text": [
      "epoch: 2, [batch: 2520 / 12600], examples_per_second: 3184.2870, train_label_loss: 1.1387, \n"
     ]
    },
    {
     "name": "stdout",
     "output_type": "stream",
     "text": [
      "epoch: 2, [batch: 3780 / 12600], examples_per_second: 3184.3259, train_label_loss: 1.1316, \n"
     ]
    },
    {
     "name": "stdout",
     "output_type": "stream",
     "text": [
      "epoch: 2, [batch: 5040 / 12600], examples_per_second: 3175.4829, train_label_loss: 0.8414, \n"
     ]
    },
    {
     "name": "stdout",
     "output_type": "stream",
     "text": [
      "epoch: 2, [batch: 6300 / 12600], examples_per_second: 3186.5848, train_label_loss: 0.6469, \n"
     ]
    },
    {
     "name": "stdout",
     "output_type": "stream",
     "text": [
      "epoch: 2, [batch: 7560 / 12600], examples_per_second: 3186.6402, train_label_loss: 0.8914, \n"
     ]
    },
    {
     "name": "stdout",
     "output_type": "stream",
     "text": [
      "epoch: 2, [batch: 8820 / 12600], examples_per_second: 3181.8151, train_label_loss: 0.9938, \n"
     ]
    },
    {
     "name": "stdout",
     "output_type": "stream",
     "text": [
      "epoch: 2, [batch: 10080 / 12600], examples_per_second: 3188.8225, train_label_loss: 0.8571, \n"
     ]
    },
    {
     "name": "stdout",
     "output_type": "stream",
     "text": [
      "epoch: 2, [batch: 11340 / 12600], examples_per_second: 3184.8161, train_label_loss: 0.9566, \n"
     ]
    },
    {
     "name": "stdout",
     "output_type": "stream",
     "text": [
      "=============================================================\n",
      "epoch: 2, source_val_acc_label: 0.6786, target_val_acc_label: 0.5609, source_val_label_loss: 0.8272, target_val_label_loss: 1.2228, \n",
      "=============================================================\n"
     ]
    },
    {
     "name": "stdout",
     "output_type": "stream",
     "text": [
      "New best\n"
     ]
    },
    {
     "name": "stdout",
     "output_type": "stream",
     "text": [
      "epoch: 3, [batch: 1 / 12600], examples_per_second: 2.2467, train_label_loss: 0.9429, \n"
     ]
    },
    {
     "name": "stdout",
     "output_type": "stream",
     "text": [
      "epoch: 3, [batch: 1260 / 12600], examples_per_second: 3182.3393, train_label_loss: 0.5460, \n"
     ]
    },
    {
     "name": "stdout",
     "output_type": "stream",
     "text": [
      "epoch: 3, [batch: 2520 / 12600], examples_per_second: 3169.4544, train_label_loss: 0.5960, \n"
     ]
    },
    {
     "name": "stdout",
     "output_type": "stream",
     "text": [
      "epoch: 3, [batch: 3780 / 12600], examples_per_second: 3182.2119, train_label_loss: 0.6788, \n"
     ]
    },
    {
     "name": "stdout",
     "output_type": "stream",
     "text": [
      "epoch: 3, [batch: 5040 / 12600], examples_per_second: 3165.0357, train_label_loss: 0.7650, \n"
     ]
    },
    {
     "name": "stdout",
     "output_type": "stream",
     "text": [
      "epoch: 3, [batch: 6300 / 12600], examples_per_second: 3183.0966, train_label_loss: 0.8229, \n"
     ]
    },
    {
     "name": "stdout",
     "output_type": "stream",
     "text": [
      "epoch: 3, [batch: 7560 / 12600], examples_per_second: 3191.6594, train_label_loss: 0.7249, \n"
     ]
    },
    {
     "name": "stdout",
     "output_type": "stream",
     "text": [
      "epoch: 3, [batch: 8820 / 12600], examples_per_second: 3186.4677, train_label_loss: 0.5896, \n"
     ]
    },
    {
     "name": "stdout",
     "output_type": "stream",
     "text": [
      "epoch: 3, [batch: 10080 / 12600], examples_per_second: 3183.6733, train_label_loss: 0.7204, \n"
     ]
    },
    {
     "name": "stdout",
     "output_type": "stream",
     "text": [
      "epoch: 3, [batch: 11340 / 12600], examples_per_second: 3195.0879, train_label_loss: 0.6328, \n"
     ]
    },
    {
     "name": "stdout",
     "output_type": "stream",
     "text": [
      "=============================================================\n",
      "epoch: 3, source_val_acc_label: 0.6913, target_val_acc_label: 0.5753, source_val_label_loss: 0.7937, target_val_label_loss: 1.1942, \n",
      "=============================================================\n"
     ]
    },
    {
     "name": "stdout",
     "output_type": "stream",
     "text": [
      "New best\n"
     ]
    },
    {
     "name": "stdout",
     "output_type": "stream",
     "text": [
      "epoch: 4, [batch: 1 / 12600], examples_per_second: 2.2464, train_label_loss: 0.4474, \n"
     ]
    },
    {
     "name": "stdout",
     "output_type": "stream",
     "text": [
      "epoch: 4, [batch: 1260 / 12600], examples_per_second: 3181.6825, train_label_loss: 0.5925, \n"
     ]
    },
    {
     "name": "stdout",
     "output_type": "stream",
     "text": [
      "epoch: 4, [batch: 2520 / 12600], examples_per_second: 3169.0257, train_label_loss: 0.6255, \n"
     ]
    },
    {
     "name": "stdout",
     "output_type": "stream",
     "text": [
      "epoch: 4, [batch: 3780 / 12600], examples_per_second: 3190.7995, train_label_loss: 0.6788, \n"
     ]
    },
    {
     "name": "stdout",
     "output_type": "stream",
     "text": [
      "epoch: 4, [batch: 5040 / 12600], examples_per_second: 3191.7135, train_label_loss: 0.5333, \n"
     ]
    },
    {
     "name": "stdout",
     "output_type": "stream",
     "text": [
      "epoch: 4, [batch: 6300 / 12600], examples_per_second: 3178.5292, train_label_loss: 0.5584, \n"
     ]
    },
    {
     "name": "stdout",
     "output_type": "stream",
     "text": [
      "epoch: 4, [batch: 7560 / 12600], examples_per_second: 3183.4310, train_label_loss: 0.7776, \n"
     ]
    },
    {
     "name": "stdout",
     "output_type": "stream",
     "text": [
      "epoch: 4, [batch: 8820 / 12600], examples_per_second: 3173.8090, train_label_loss: 0.4301, \n"
     ]
    },
    {
     "name": "stdout",
     "output_type": "stream",
     "text": [
      "epoch: 4, [batch: 10080 / 12600], examples_per_second: 3177.9265, train_label_loss: 0.5278, \n"
     ]
    },
    {
     "name": "stdout",
     "output_type": "stream",
     "text": [
      "epoch: 4, [batch: 11340 / 12600], examples_per_second: 3199.5146, train_label_loss: 0.5554, \n"
     ]
    },
    {
     "name": "stdout",
     "output_type": "stream",
     "text": [
      "=============================================================\n",
      "epoch: 4, source_val_acc_label: 0.6993, target_val_acc_label: 0.5805, source_val_label_loss: 0.7908, target_val_label_loss: 1.2068, \n",
      "=============================================================\n"
     ]
    },
    {
     "name": "stdout",
     "output_type": "stream",
     "text": [
      "New best\n"
     ]
    },
    {
     "name": "stdout",
     "output_type": "stream",
     "text": [
      "epoch: 5, [batch: 1 / 12600], examples_per_second: 2.2422, train_label_loss: 0.8166, \n"
     ]
    },
    {
     "name": "stdout",
     "output_type": "stream",
     "text": [
      "epoch: 5, [batch: 1260 / 12600], examples_per_second: 3182.4441, train_label_loss: 0.4710, \n"
     ]
    },
    {
     "name": "stdout",
     "output_type": "stream",
     "text": [
      "epoch: 5, [batch: 2520 / 12600], examples_per_second: 3191.0629, train_label_loss: 0.5608, \n"
     ]
    },
    {
     "name": "stdout",
     "output_type": "stream",
     "text": [
      "epoch: 5, [batch: 3780 / 12600], examples_per_second: 3187.9182, train_label_loss: 0.6084, \n"
     ]
    },
    {
     "name": "stdout",
     "output_type": "stream",
     "text": [
      "epoch: 5, [batch: 5040 / 12600], examples_per_second: 3175.1613, train_label_loss: 0.7053, \n"
     ]
    },
    {
     "name": "stdout",
     "output_type": "stream",
     "text": [
      "epoch: 5, [batch: 6300 / 12600], examples_per_second: 3191.1529, train_label_loss: 0.3283, \n"
     ]
    },
    {
     "name": "stdout",
     "output_type": "stream",
     "text": [
      "epoch: 5, [batch: 7560 / 12600], examples_per_second: 3192.4432, train_label_loss: 0.5727, \n"
     ]
    },
    {
     "name": "stdout",
     "output_type": "stream",
     "text": [
      "epoch: 5, [batch: 8820 / 12600], examples_per_second: 3180.0093, train_label_loss: 0.3753, \n"
     ]
    },
    {
     "name": "stdout",
     "output_type": "stream",
     "text": [
      "epoch: 5, [batch: 10080 / 12600], examples_per_second: 3192.5049, train_label_loss: 0.2444, \n"
     ]
    },
    {
     "name": "stdout",
     "output_type": "stream",
     "text": [
      "epoch: 5, [batch: 11340 / 12600], examples_per_second: 3183.0927, train_label_loss: 0.7695, \n"
     ]
    },
    {
     "name": "stdout",
     "output_type": "stream",
     "text": [
      "=============================================================\n",
      "epoch: 5, source_val_acc_label: 0.7113, target_val_acc_label: 0.5887, source_val_label_loss: 0.7942, target_val_label_loss: 1.2438, \n",
      "=============================================================\n"
     ]
    },
    {
     "name": "stdout",
     "output_type": "stream",
     "text": [
      "New best\n"
     ]
    },
    {
     "name": "stdout",
     "output_type": "stream",
     "text": [
      "epoch: 6, [batch: 1 / 12600], examples_per_second: 2.2489, train_label_loss: 0.4556, \n"
     ]
    },
    {
     "name": "stdout",
     "output_type": "stream",
     "text": [
      "epoch: 6, [batch: 1260 / 12600], examples_per_second: 3172.6092, train_label_loss: 0.6940, \n"
     ]
    },
    {
     "name": "stdout",
     "output_type": "stream",
     "text": [
      "epoch: 6, [batch: 2520 / 12600], examples_per_second: 3181.7455, train_label_loss: 0.5767, \n"
     ]
    },
    {
     "name": "stdout",
     "output_type": "stream",
     "text": [
      "epoch: 6, [batch: 3780 / 12600], examples_per_second: 3171.9126, train_label_loss: 0.4259, \n"
     ]
    },
    {
     "name": "stdout",
     "output_type": "stream",
     "text": [
      "epoch: 6, [batch: 5040 / 12600], examples_per_second: 3175.5749, train_label_loss: 0.3794, \n"
     ]
    },
    {
     "name": "stdout",
     "output_type": "stream",
     "text": [
      "epoch: 6, [batch: 6300 / 12600], examples_per_second: 3189.0560, train_label_loss: 0.7164, \n"
     ]
    },
    {
     "name": "stdout",
     "output_type": "stream",
     "text": [
      "epoch: 6, [batch: 7560 / 12600], examples_per_second: 3183.6366, train_label_loss: 0.5945, \n"
     ]
    },
    {
     "name": "stdout",
     "output_type": "stream",
     "text": [
      "epoch: 6, [batch: 8820 / 12600], examples_per_second: 3181.9280, train_label_loss: 0.4545, \n"
     ]
    },
    {
     "name": "stdout",
     "output_type": "stream",
     "text": [
      "epoch: 6, [batch: 10080 / 12600], examples_per_second: 3190.5738, train_label_loss: 0.3162, \n"
     ]
    },
    {
     "name": "stdout",
     "output_type": "stream",
     "text": [
      "epoch: 6, [batch: 11340 / 12600], examples_per_second: 3190.8346, train_label_loss: 0.3538, \n"
     ]
    },
    {
     "name": "stdout",
     "output_type": "stream",
     "text": [
      "=============================================================\n",
      "epoch: 6, source_val_acc_label: 0.7162, target_val_acc_label: 0.5941, source_val_label_loss: 0.8126, target_val_label_loss: 1.2841, \n",
      "=============================================================\n"
     ]
    },
    {
     "name": "stdout",
     "output_type": "stream",
     "text": [
      "New best\n"
     ]
    },
    {
     "name": "stdout",
     "output_type": "stream",
     "text": [
      "epoch: 7, [batch: 1 / 12600], examples_per_second: 2.2386, train_label_loss: 0.3407, \n"
     ]
    },
    {
     "name": "stdout",
     "output_type": "stream",
     "text": [
      "epoch: 7, [batch: 1260 / 12600], examples_per_second: 3178.8217, train_label_loss: 0.5818, \n"
     ]
    },
    {
     "name": "stdout",
     "output_type": "stream",
     "text": [
      "epoch: 7, [batch: 2520 / 12600], examples_per_second: 3187.2383, train_label_loss: 0.3717, \n"
     ]
    },
    {
     "name": "stdout",
     "output_type": "stream",
     "text": [
      "epoch: 7, [batch: 3780 / 12600], examples_per_second: 3187.3557, train_label_loss: 0.6496, \n"
     ]
    },
    {
     "name": "stdout",
     "output_type": "stream",
     "text": [
      "epoch: 7, [batch: 5040 / 12600], examples_per_second: 3172.3857, train_label_loss: 0.5362, \n"
     ]
    },
    {
     "name": "stdout",
     "output_type": "stream",
     "text": [
      "epoch: 7, [batch: 6300 / 12600], examples_per_second: 3186.3631, train_label_loss: 0.3530, \n"
     ]
    },
    {
     "name": "stdout",
     "output_type": "stream",
     "text": [
      "epoch: 7, [batch: 7560 / 12600], examples_per_second: 3195.3813, train_label_loss: 0.4055, \n"
     ]
    },
    {
     "name": "stdout",
     "output_type": "stream",
     "text": [
      "epoch: 7, [batch: 8820 / 12600], examples_per_second: 3186.1119, train_label_loss: 0.3837, \n"
     ]
    },
    {
     "name": "stdout",
     "output_type": "stream",
     "text": [
      "epoch: 7, [batch: 10080 / 12600], examples_per_second: 3198.1154, train_label_loss: 0.3801, \n"
     ]
    },
    {
     "name": "stdout",
     "output_type": "stream",
     "text": [
      "epoch: 7, [batch: 11340 / 12600], examples_per_second: 3197.0703, train_label_loss: 0.3169, \n"
     ]
    },
    {
     "name": "stdout",
     "output_type": "stream",
     "text": [
      "=============================================================\n",
      "epoch: 7, source_val_acc_label: 0.7040, target_val_acc_label: 0.5877, source_val_label_loss: 0.8290, target_val_label_loss: 1.2738, \n",
      "=============================================================\n"
     ]
    },
    {
     "name": "stdout",
     "output_type": "stream",
     "text": [
      "epoch: 8, [batch: 1 / 12600], examples_per_second: 2.2385, train_label_loss: 0.5229, \n"
     ]
    },
    {
     "name": "stdout",
     "output_type": "stream",
     "text": [
      "epoch: 8, [batch: 1260 / 12600], examples_per_second: 3175.3771, train_label_loss: 0.3219, \n"
     ]
    },
    {
     "name": "stdout",
     "output_type": "stream",
     "text": [
      "epoch: 8, [batch: 2520 / 12600], examples_per_second: 3163.0204, train_label_loss: 0.2953, \n"
     ]
    },
    {
     "name": "stdout",
     "output_type": "stream",
     "text": [
      "epoch: 8, [batch: 3780 / 12600], examples_per_second: 3182.7760, train_label_loss: 0.6415, \n"
     ]
    },
    {
     "name": "stdout",
     "output_type": "stream",
     "text": [
      "epoch: 8, [batch: 5040 / 12600], examples_per_second: 3170.2065, train_label_loss: 0.3618, \n"
     ]
    },
    {
     "name": "stdout",
     "output_type": "stream",
     "text": [
      "epoch: 8, [batch: 6300 / 12600], examples_per_second: 3188.2262, train_label_loss: 0.2678, \n"
     ]
    },
    {
     "name": "stdout",
     "output_type": "stream",
     "text": [
      "epoch: 8, [batch: 7560 / 12600], examples_per_second: 3192.1668, train_label_loss: 0.1555, \n"
     ]
    },
    {
     "name": "stdout",
     "output_type": "stream",
     "text": [
      "epoch: 8, [batch: 8820 / 12600], examples_per_second: 3176.4793, train_label_loss: 0.3170, \n"
     ]
    },
    {
     "name": "stdout",
     "output_type": "stream",
     "text": [
      "epoch: 8, [batch: 10080 / 12600], examples_per_second: 3182.5412, train_label_loss: 0.4055, \n"
     ]
    },
    {
     "name": "stdout",
     "output_type": "stream",
     "text": [
      "epoch: 8, [batch: 11340 / 12600], examples_per_second: 3186.5997, train_label_loss: 0.6414, \n"
     ]
    },
    {
     "name": "stdout",
     "output_type": "stream",
     "text": [
      "=============================================================\n",
      "epoch: 8, source_val_acc_label: 0.7176, target_val_acc_label: 0.5976, source_val_label_loss: 0.8410, target_val_label_loss: 1.3175, \n",
      "=============================================================\n"
     ]
    },
    {
     "name": "stdout",
     "output_type": "stream",
     "text": [
      "New best\n"
     ]
    },
    {
     "name": "stdout",
     "output_type": "stream",
     "text": [
      "epoch: 9, [batch: 1 / 12600], examples_per_second: 2.2339, train_label_loss: 0.2743, \n"
     ]
    },
    {
     "name": "stdout",
     "output_type": "stream",
     "text": [
      "epoch: 9, [batch: 1260 / 12600], examples_per_second: 3178.3715, train_label_loss: 0.3303, \n"
     ]
    },
    {
     "name": "stdout",
     "output_type": "stream",
     "text": [
      "epoch: 9, [batch: 2520 / 12600], examples_per_second: 3190.6830, train_label_loss: 0.6173, \n"
     ]
    },
    {
     "name": "stdout",
     "output_type": "stream",
     "text": [
      "epoch: 9, [batch: 3780 / 12600], examples_per_second: 3185.8142, train_label_loss: 0.5790, \n"
     ]
    },
    {
     "name": "stdout",
     "output_type": "stream",
     "text": [
      "epoch: 9, [batch: 5040 / 12600], examples_per_second: 3175.0746, train_label_loss: 0.2074, \n"
     ]
    },
    {
     "name": "stdout",
     "output_type": "stream",
     "text": [
      "epoch: 9, [batch: 6300 / 12600], examples_per_second: 3192.2529, train_label_loss: 0.4525, \n"
     ]
    },
    {
     "name": "stdout",
     "output_type": "stream",
     "text": [
      "epoch: 9, [batch: 7560 / 12600], examples_per_second: 3198.2274, train_label_loss: 0.4635, \n"
     ]
    },
    {
     "name": "stdout",
     "output_type": "stream",
     "text": [
      "epoch: 9, [batch: 8820 / 12600], examples_per_second: 3190.3625, train_label_loss: 0.3346, \n"
     ]
    },
    {
     "name": "stdout",
     "output_type": "stream",
     "text": [
      "epoch: 9, [batch: 10080 / 12600], examples_per_second: 3189.1687, train_label_loss: 0.7165, \n"
     ]
    },
    {
     "name": "stdout",
     "output_type": "stream",
     "text": [
      "epoch: 9, [batch: 11340 / 12600], examples_per_second: 3194.5860, train_label_loss: 0.4734, \n"
     ]
    },
    {
     "name": "stdout",
     "output_type": "stream",
     "text": [
      "=============================================================\n",
      "epoch: 9, source_val_acc_label: 0.7120, target_val_acc_label: 0.5915, source_val_label_loss: 0.8891, target_val_label_loss: 1.3768, \n",
      "=============================================================\n"
     ]
    },
    {
     "name": "stdout",
     "output_type": "stream",
     "text": [
      "epoch: 10, [batch: 1 / 12600], examples_per_second: 2.2472, train_label_loss: 0.0415, \n"
     ]
    },
    {
     "name": "stdout",
     "output_type": "stream",
     "text": [
      "epoch: 10, [batch: 1260 / 12600], examples_per_second: 3181.7051, train_label_loss: 0.4571, \n"
     ]
    },
    {
     "name": "stdout",
     "output_type": "stream",
     "text": [
      "epoch: 10, [batch: 2520 / 12600], examples_per_second: 3185.0988, train_label_loss: 0.2805, \n"
     ]
    },
    {
     "name": "stdout",
     "output_type": "stream",
     "text": [
      "epoch: 10, [batch: 3780 / 12600], examples_per_second: 3184.9653, train_label_loss: 0.2779, \n"
     ]
    },
    {
     "name": "stdout",
     "output_type": "stream",
     "text": [
      "epoch: 10, [batch: 5040 / 12600], examples_per_second: 3174.8004, train_label_loss: 0.3592, \n"
     ]
    },
    {
     "name": "stdout",
     "output_type": "stream",
     "text": [
      "epoch: 10, [batch: 6300 / 12600], examples_per_second: 3186.6213, train_label_loss: 0.1924, \n"
     ]
    },
    {
     "name": "stdout",
     "output_type": "stream",
     "text": [
      "epoch: 10, [batch: 7560 / 12600], examples_per_second: 3186.5415, train_label_loss: 0.5096, \n"
     ]
    },
    {
     "name": "stdout",
     "output_type": "stream",
     "text": [
      "epoch: 10, [batch: 8820 / 12600], examples_per_second: 3176.3182, train_label_loss: 0.3527, \n"
     ]
    },
    {
     "name": "stdout",
     "output_type": "stream",
     "text": [
      "epoch: 10, [batch: 10080 / 12600], examples_per_second: 3181.0603, train_label_loss: 0.2325, \n"
     ]
    },
    {
     "name": "stdout",
     "output_type": "stream",
     "text": [
      "epoch: 10, [batch: 11340 / 12600], examples_per_second: 3177.1291, train_label_loss: 0.1360, \n"
     ]
    },
    {
     "name": "stdout",
     "output_type": "stream",
     "text": [
      "=============================================================\n",
      "epoch: 10, source_val_acc_label: 0.7152, target_val_acc_label: 0.5906, source_val_label_loss: 0.9129, target_val_label_loss: 1.4293, \n",
      "=============================================================\n"
     ]
    },
    {
     "name": "stdout",
     "output_type": "stream",
     "text": [
      "epoch: 11, [batch: 1 / 12600], examples_per_second: 2.2478, train_label_loss: 0.3649, \n"
     ]
    },
    {
     "name": "stdout",
     "output_type": "stream",
     "text": [
      "epoch: 11, [batch: 1260 / 12600], examples_per_second: 3179.0555, train_label_loss: 0.4522, \n"
     ]
    },
    {
     "name": "stdout",
     "output_type": "stream",
     "text": [
      "epoch: 11, [batch: 2520 / 12600], examples_per_second: 3183.4405, train_label_loss: 0.2120, \n"
     ]
    },
    {
     "name": "stdout",
     "output_type": "stream",
     "text": [
      "epoch: 11, [batch: 3780 / 12600], examples_per_second: 3185.0353, train_label_loss: 0.3542, \n"
     ]
    },
    {
     "name": "stdout",
     "output_type": "stream",
     "text": [
      "epoch: 11, [batch: 5040 / 12600], examples_per_second: 3179.7714, train_label_loss: 0.2097, \n"
     ]
    },
    {
     "name": "stdout",
     "output_type": "stream",
     "text": [
      "epoch: 11, [batch: 6300 / 12600], examples_per_second: 3192.0800, train_label_loss: 0.2850, \n"
     ]
    },
    {
     "name": "stdout",
     "output_type": "stream",
     "text": [
      "epoch: 11, [batch: 7560 / 12600], examples_per_second: 3185.2586, train_label_loss: 0.3761, \n"
     ]
    },
    {
     "name": "stdout",
     "output_type": "stream",
     "text": [
      "epoch: 11, [batch: 8820 / 12600], examples_per_second: 3176.9036, train_label_loss: 0.5250, \n"
     ]
    },
    {
     "name": "stdout",
     "output_type": "stream",
     "text": [
      "epoch: 11, [batch: 10080 / 12600], examples_per_second: 3185.1650, train_label_loss: 0.0876, \n"
     ]
    },
    {
     "name": "stdout",
     "output_type": "stream",
     "text": [
      "epoch: 11, [batch: 11340 / 12600], examples_per_second: 3198.2769, train_label_loss: 0.2829, \n"
     ]
    },
    {
     "name": "stdout",
     "output_type": "stream",
     "text": [
      "=============================================================\n",
      "epoch: 11, source_val_acc_label: 0.7151, target_val_acc_label: 0.5916, source_val_label_loss: 0.9565, target_val_label_loss: 1.4890, \n",
      "=============================================================\n"
     ]
    },
    {
     "name": "stdout",
     "output_type": "stream",
     "text": [
      "epoch: 12, [batch: 1 / 12600], examples_per_second: 2.2343, train_label_loss: 0.2289, \n"
     ]
    },
    {
     "name": "stdout",
     "output_type": "stream",
     "text": [
      "epoch: 12, [batch: 1260 / 12600], examples_per_second: 3181.7413, train_label_loss: 0.1260, \n"
     ]
    },
    {
     "name": "stdout",
     "output_type": "stream",
     "text": [
      "epoch: 12, [batch: 2520 / 12600], examples_per_second: 3185.0125, train_label_loss: 0.0884, \n"
     ]
    },
    {
     "name": "stdout",
     "output_type": "stream",
     "text": [
      "epoch: 12, [batch: 3780 / 12600], examples_per_second: 3187.7521, train_label_loss: 0.2505, \n"
     ]
    },
    {
     "name": "stdout",
     "output_type": "stream",
     "text": [
      "epoch: 12, [batch: 5040 / 12600], examples_per_second: 3178.1563, train_label_loss: 0.2993, \n"
     ]
    },
    {
     "name": "stdout",
     "output_type": "stream",
     "text": [
      "epoch: 12, [batch: 6300 / 12600], examples_per_second: 3176.0818, train_label_loss: 0.2316, \n"
     ]
    },
    {
     "name": "stdout",
     "output_type": "stream",
     "text": [
      "epoch: 12, [batch: 7560 / 12600], examples_per_second: 3174.6883, train_label_loss: 0.2555, \n"
     ]
    },
    {
     "name": "stdout",
     "output_type": "stream",
     "text": [
      "epoch: 12, [batch: 8820 / 12600], examples_per_second: 3174.5958, train_label_loss: 0.2274, \n"
     ]
    },
    {
     "name": "stdout",
     "output_type": "stream",
     "text": [
      "epoch: 12, [batch: 10080 / 12600], examples_per_second: 3177.6283, train_label_loss: 0.3140, \n"
     ]
    },
    {
     "name": "stdout",
     "output_type": "stream",
     "text": [
      "epoch: 12, [batch: 11340 / 12600], examples_per_second: 3190.3391, train_label_loss: 0.1946, \n"
     ]
    },
    {
     "name": "stdout",
     "output_type": "stream",
     "text": [
      "=============================================================\n",
      "epoch: 12, source_val_acc_label: 0.7147, target_val_acc_label: 0.5886, source_val_label_loss: 0.9982, target_val_label_loss: 1.5637, \n",
      "=============================================================\n"
     ]
    },
    {
     "name": "stdout",
     "output_type": "stream",
     "text": [
      "Patience (3) exhausted\n"
     ]
    }
   ],
   "source": [
    "###################################\n",
    "# train\n",
    "###################################\n",
    "jig = PTN_Train_Eval_Test_Jig(model, p.BEST_MODEL_PATH, p.device)\n",
    "\n",
    "jig.train(\n",
    "    train_iterable=datasets.source.processed.train,\n",
    "    source_val_iterable=datasets.source.processed.val,\n",
    "    target_val_iterable=datasets.target.processed.val,\n",
    "    num_epochs=p.n_epoch,\n",
    "    num_logs_per_epoch=p.NUM_LOGS_PER_EPOCH,\n",
    "    patience=p.patience,\n",
    "    optimizer=optimizer,\n",
    "    criteria_for_best=p.criteria_for_best,\n",
    ")"
   ]
  },
  {
   "cell_type": "code",
   "execution_count": 14,
   "id": "31e8fabf",
   "metadata": {
    "execution": {
     "iopub.execute_input": "2022-03-21T10:53:10.319560Z",
     "iopub.status.busy": "2022-03-21T10:53:10.311353Z",
     "iopub.status.idle": "2022-03-21T10:53:10.330732Z",
     "shell.execute_reply": "2022-03-21T10:53:10.330290Z"
    },
    "papermill": {
     "duration": 0.057799,
     "end_time": "2022-03-21T10:53:10.330821",
     "exception": false,
     "start_time": "2022-03-21T10:53:10.273022",
     "status": "completed"
    },
    "tags": []
   },
   "outputs": [],
   "source": [
    "total_experiment_time_secs = time.time() - start_time_secs"
   ]
  },
  {
   "cell_type": "code",
   "execution_count": 15,
   "id": "87b9595b",
   "metadata": {
    "execution": {
     "iopub.execute_input": "2022-03-21T10:53:10.418499Z",
     "iopub.status.busy": "2022-03-21T10:53:10.415502Z",
     "iopub.status.idle": "2022-03-21T10:57:13.857337Z",
     "shell.execute_reply": "2022-03-21T10:57:13.857706Z"
    },
    "papermill": {
     "duration": 243.487862,
     "end_time": "2022-03-21T10:57:13.857831",
     "exception": false,
     "start_time": "2022-03-21T10:53:10.369969",
     "status": "completed"
    },
    "tags": []
   },
   "outputs": [],
   "source": [
    "###################################\n",
    "# Evaluate the model\n",
    "###################################\n",
    "source_test_label_accuracy, source_test_label_loss = jig.test(datasets.source.processed.test)\n",
    "target_test_label_accuracy, target_test_label_loss = jig.test(datasets.target.processed.test)\n",
    "\n",
    "source_val_label_accuracy, source_val_label_loss = jig.test(datasets.source.processed.val)\n",
    "target_val_label_accuracy, target_val_label_loss = jig.test(datasets.target.processed.val)\n",
    "\n",
    "history = jig.get_history()\n",
    "\n",
    "total_epochs_trained = len(history[\"epoch_indices\"])\n",
    "\n",
    "val_dl = Iterable_Aggregator((datasets.source.original.val,datasets.target.original.val))\n",
    "\n",
    "confusion = ptn_confusion_by_domain_over_dataloader(model, p.device, val_dl)\n",
    "per_domain_accuracy = per_domain_accuracy_from_confusion(confusion)\n",
    "\n",
    "# Add a key to per_domain_accuracy for if it was a source domain\n",
    "for domain, accuracy in per_domain_accuracy.items():\n",
    "    per_domain_accuracy[domain] = {\n",
    "        \"accuracy\": accuracy,\n",
    "        \"source?\": domain in p.domains_source\n",
    "    }\n",
    "\n",
    "# Do an independent accuracy assesment JUST TO BE SURE!\n",
    "# _source_test_label_accuracy = independent_accuracy_assesment(model, datasets.source.processed.test, p.device)\n",
    "# _target_test_label_accuracy = independent_accuracy_assesment(model, datasets.target.processed.test, p.device)\n",
    "# _source_val_label_accuracy = independent_accuracy_assesment(model, datasets.source.processed.val, p.device)\n",
    "# _target_val_label_accuracy = independent_accuracy_assesment(model, datasets.target.processed.val, p.device)\n",
    "\n",
    "# assert(_source_test_label_accuracy == source_test_label_accuracy)\n",
    "# assert(_target_test_label_accuracy == target_test_label_accuracy)\n",
    "# assert(_source_val_label_accuracy == source_val_label_accuracy)\n",
    "# assert(_target_val_label_accuracy == target_val_label_accuracy)\n",
    "\n",
    "experiment = {\n",
    "    \"experiment_name\": p.experiment_name,\n",
    "    \"parameters\": dict(p),\n",
    "    \"results\": {\n",
    "        \"source_test_label_accuracy\": source_test_label_accuracy,\n",
    "        \"source_test_label_loss\": source_test_label_loss,\n",
    "        \"target_test_label_accuracy\": target_test_label_accuracy,\n",
    "        \"target_test_label_loss\": target_test_label_loss,\n",
    "        \"source_val_label_accuracy\": source_val_label_accuracy,\n",
    "        \"source_val_label_loss\": source_val_label_loss,\n",
    "        \"target_val_label_accuracy\": target_val_label_accuracy,\n",
    "        \"target_val_label_loss\": target_val_label_loss,\n",
    "        \"total_epochs_trained\": total_epochs_trained,\n",
    "        \"total_experiment_time_secs\": total_experiment_time_secs,\n",
    "        \"confusion\": confusion,\n",
    "        \"per_domain_accuracy\": per_domain_accuracy,\n",
    "    },\n",
    "    \"history\": history,\n",
    "    \"dataset_metrics\": get_dataset_metrics(datasets, \"ptn\"),\n",
    "}"
   ]
  },
  {
   "cell_type": "code",
   "execution_count": 16,
   "id": "54a21829",
   "metadata": {
    "execution": {
     "iopub.execute_input": "2022-03-21T10:57:13.932188Z",
     "iopub.status.busy": "2022-03-21T10:57:13.931939Z",
     "iopub.status.idle": "2022-03-21T10:57:14.064193Z",
     "shell.execute_reply": "2022-03-21T10:57:14.064567Z"
    },
    "papermill": {
     "duration": 0.169429,
     "end_time": "2022-03-21T10:57:14.064676",
     "exception": false,
     "start_time": "2022-03-21T10:57:13.895247",
     "status": "completed"
    },
    "tags": []
   },
   "outputs": [
    {
     "data": {
      "image/png": "[encoded data removed]",
      "text/plain": [
       "<Figure size 1080x504 with 1 Axes>"
      ]
     },
     "metadata": {
      "needs_background": "light"
     },
     "output_type": "display_data"
    }
   ],
   "source": [
    "ax = get_loss_curve(experiment)\n",
    "plt.show()"
   ]
  },
  {
   "cell_type": "code",
   "execution_count": 17,
   "id": "fd8a0f60",
   "metadata": {
    "execution": {
     "iopub.execute_input": "2022-03-21T10:57:14.143745Z",
     "iopub.status.busy": "2022-03-21T10:57:14.143496Z",
     "iopub.status.idle": "2022-03-21T10:57:14.285876Z",
     "shell.execute_reply": "2022-03-21T10:57:14.285642Z"
    },
    "papermill": {
     "duration": 0.180395,
     "end_time": "2022-03-21T10:57:14.285928",
     "exception": false,
     "start_time": "2022-03-21T10:57:14.105533",
     "status": "completed"
    },
    "tags": []
   },
   "outputs": [
    {
     "data": {
      "text/plain": [
       "<AxesSubplot:title={'center':'Results'}>"
      ]
     },
     "execution_count": 17,
     "metadata": {},
     "output_type": "execute_result"
    },
    {
     "data": {
      "image/png": "[encoded data removed]",
      "text/plain": [
       "<Figure size 1080x504 with 1 Axes>"
      ]
     },
     "metadata": {
      "needs_background": "light"
     },
     "output_type": "display_data"
    }
   ],
   "source": [
    "get_results_table(experiment)"
   ]
  },
  {
   "cell_type": "code",
   "execution_count": 18,
   "id": "cf8dc689",
   "metadata": {
    "execution": {
     "iopub.execute_input": "2022-03-21T10:57:14.362966Z",
     "iopub.status.busy": "2022-03-21T10:57:14.362705Z",
     "iopub.status.idle": "2022-03-21T10:57:14.481479Z",
     "shell.execute_reply": "2022-03-21T10:57:14.481024Z"
    },
    "papermill": {
     "duration": 0.157655,
     "end_time": "2022-03-21T10:57:14.481572",
     "exception": false,
     "start_time": "2022-03-21T10:57:14.323917",
     "status": "completed"
    },
    "tags": []
   },
   "outputs": [
    {
     "data": {
      "text/plain": [
       "<AxesSubplot:title={'center':'Per Domain Validation Accuracy'}, xlabel='domain'>"
      ]
     },
     "execution_count": 18,
     "metadata": {},
     "output_type": "execute_result"
    },
    {
     "data": {
      "image/png": "[encoded data removed]",
      "text/plain": [
       "<Figure size 1080x504 with 1 Axes>"
      ]
     },
     "metadata": {
      "needs_background": "light"
     },
     "output_type": "display_data"
    }
   ],
   "source": [
    "get_domain_accuracies(experiment)"
   ]
  },
  {
   "cell_type": "code",
   "execution_count": 19,
   "id": "a74ae082",
   "metadata": {
    "execution": {
     "iopub.execute_input": "2022-03-21T10:57:14.564938Z",
     "iopub.status.busy": "2022-03-21T10:57:14.564688Z",
     "iopub.status.idle": "2022-03-21T10:57:14.581854Z",
     "shell.execute_reply": "2022-03-21T10:57:14.581411Z"
    },
    "papermill": {
     "duration": 0.057899,
     "end_time": "2022-03-21T10:57:14.581943",
     "exception": false,
     "start_time": "2022-03-21T10:57:14.524044",
     "status": "completed"
    },
    "tags": []
   },
   "outputs": [
    {
     "name": "stdout",
     "output_type": "stream",
     "text": [
      "Source Test Label Accuracy: 0.7174131944444444 Target Test Label Accuracy: 0.5981875\n",
      "Source Val Label Accuracy: 0.7176041666666667 Target Val Label Accuracy: 0.5975520833333333\n"
     ]
    }
   ],
   "source": [
    "print(\"Source Test Label Accuracy:\", experiment[\"results\"][\"source_test_label_accuracy\"], \"Target Test Label Accuracy:\", experiment[\"results\"][\"target_test_label_accuracy\"])\n",
    "print(\"Source Val Label Accuracy:\", experiment[\"results\"][\"source_val_label_accuracy\"], \"Target Val Label Accuracy:\", experiment[\"results\"][\"target_val_label_accuracy\"])"
   ]
  },
  {
   "cell_type": "code",
   "execution_count": 20,
   "id": "dacca602",
   "metadata": {
    "execution": {
     "iopub.execute_input": "2022-03-21T10:57:14.665589Z",
     "iopub.status.busy": "2022-03-21T10:57:14.665338Z",
     "iopub.status.idle": "2022-03-21T10:57:14.681821Z",
     "shell.execute_reply": "2022-03-21T10:57:14.682170Z"
    },
    "papermill": {
     "duration": 0.057463,
     "end_time": "2022-03-21T10:57:14.682278",
     "exception": false,
     "start_time": "2022-03-21T10:57:14.624815",
     "status": "completed"
    },
    "tags": [
     "experiment_json"
    ]
   },
   "outputs": [
    {
     "data": {
      "text/plain": [
       "'{\"experiment_name\": \"tuned_1v2:oracle.run2\", \"parameters\": {\"experiment_name\": \"tuned_1v2:oracle.run2\", \"device\": \"cuda\", \"lr\": 0.0001, \"labels_source\": [\"3123D52\", \"3123D65\", \"3123D79\", \"3123D80\", \"3123D54\", \"3123D70\", \"3123D7B\", \"3123D89\", \"3123D58\", \"3123D76\", \"3123D7D\", \"3123EFE\", \"3123D64\", \"3123D78\", \"3123D7E\", \"3124E4A\"], \"labels_target\": [\"3123D52\", \"3123D65\", \"3123D79\", \"3123D80\", \"3123D54\", \"3123D70\", \"3123D7B\", \"3123D89\", \"3123D58\", \"3123D76\", \"3123D7D\", \"3123EFE\", \"3123D64\", \"3123D78\", \"3123D7E\", \"3124E4A\"], \"episode_transforms_source\": [], \"episode_transforms_target\": [], \"domains_source\": [8, 32, 50], \"domains_target\": [14, 20, 26, 38, 44], \"num_examples_per_domain_per_label_source\": -1, \"num_examples_per_domain_per_label_target\": -1, \"n_shot\": 3, \"n_way\": 16, \"n_query\": 2, \"train_k_factor\": 3, \"val_k_factor\": 2, \"test_k_factor\": 2, \"torch_default_dtype\": \"torch.float32\", \"n_epoch\": 50, \"patience\": 3, \"criteria_for_best\": \"target_accuracy\", \"x_net\": [{\"class\": \"nnReshape\", \"kargs\": {\"shape\": [-1, 1, 2, 256]}}, {\"class\": \"Conv2d\", \"kargs\": {\"in_channels\": 1, \"out_channels\": 256, \"kernel_size\": [1, 7], \"bias\": false, \"padding\": [0, 3]}}, {\"class\": \"ReLU\", \"kargs\": {\"inplace\": true}}, {\"class\": \"BatchNorm2d\", \"kargs\": {\"num_features\": 256}}, {\"class\": \"Conv2d\", \"kargs\": {\"in_channels\": 256, \"out_channels\": 80, \"kernel_size\": [2, 7], \"bias\": true, \"padding\": [0, 3]}}, {\"class\": \"ReLU\", \"kargs\": {\"inplace\": true}}, {\"class\": \"BatchNorm2d\", \"kargs\": {\"num_features\": 80}}, {\"class\": \"Flatten\", \"kargs\": {}}, {\"class\": \"Linear\", \"kargs\": {\"in_features\": 20480, \"out_features\": 256}}, {\"class\": \"ReLU\", \"kargs\": {\"inplace\": true}}, {\"class\": \"BatchNorm1d\", \"kargs\": {\"num_features\": 256}}, {\"class\": \"Linear\", \"kargs\": {\"in_features\": 256, \"out_features\": 256}}], \"NUM_LOGS_PER_EPOCH\": 10, \"BEST_MODEL_PATH\": \"./best_model.pth\", \"pickle_name\": \"oracle.Run2_10kExamples_stratified_ds.2022A.pkl\", \"x_transforms_source\": [\"unit_mag\"], \"x_transforms_target\": [\"unit_mag\"], \"dataset_seed\": 500, \"seed\": 500}, \"results\": {\"source_test_label_accuracy\": 0.7174131944444444, \"source_test_label_loss\": 0.8381967544555664, \"target_test_label_accuracy\": 0.5981875, \"target_test_label_loss\": 1.321014404296875, \"source_val_label_accuracy\": 0.7176041666666667, \"source_val_label_loss\": 0.8409825563430786, \"target_val_label_accuracy\": 0.5975520833333333, \"target_val_label_loss\": 1.3174840211868286, \"total_epochs_trained\": 12, \"total_experiment_time_secs\": 4359.7017295360565, \"confusion\": {\"8\": {\"7\": {\"7\": 511, \"4\": 300, \"6\": 191, \"2\": 179, \"8\": 10, \"15\": 8, \"11\": 1}, \"10\": {\"10\": 760, \"1\": 17, \"0\": 201, \"5\": 127, \"14\": 40, \"13\": 55}, \"0\": {\"14\": 253, \"0\": 736, \"10\": 182, \"4\": 5, \"13\": 14, \"6\": 7, \"5\": 3}, \"11\": {\"11\": 581, \"15\": 234, \"8\": 264, \"12\": 116, \"7\": 2, \"14\": 1, \"13\": 1, \"6\": 1}, \"2\": {\"2\": 915, \"6\": 28, \"4\": 102, \"7\": 153, \"3\": 1, \"15\": 1}, \"14\": {\"13\": 153, \"14\": 687, \"6\": 73, \"0\": 230, \"10\": 38, \"4\": 17, \"8\": 1, \"1\": 1}, \"9\": {\"9\": 1200}, \"13\": {\"13\": 747, \"1\": 128, \"0\": 29, \"14\": 203, \"10\": 68, \"6\": 18, \"4\": 2, \"5\": 5}, \"8\": {\"8\": 934, \"11\": 147, \"6\": 16, \"15\": 85, \"7\": 15, \"13\": 2, \"14\": 1}, \"15\": {\"15\": 650, \"11\": 201, \"12\": 214, \"8\": 102, \"3\": 16, \"7\": 15, \"6\": 1, \"4\": 1}, \"4\": {\"4\": 437, \"7\": 295, \"6\": 349, \"2\": 100, \"14\": 14, \"8\": 4, \"0\": 1}, \"5\": {\"5\": 975, \"1\": 47, \"10\": 172, \"0\": 1, \"13\": 5}, \"3\": {\"3\": 1041, \"12\": 154, \"15\": 4, \"2\": 1}, \"1\": {\"1\": 978, \"13\": 165, \"5\": 33, \"10\": 24}, \"6\": {\"4\": 352, \"7\": 216, \"6\": 514, \"14\": 68, \"8\": 8, \"2\": 32, \"13\": 7, \"0\": 1, \"15\": 2}, \"12\": {\"12\": 937, \"15\": 119, \"3\": 117, \"11\": 27}}, \"50\": {\"11\": {\"11\": 1085, \"15\": 44, \"14\": 40, \"9\": 19, \"12\": 12}, \"2\": {\"2\": 1121, \"0\": 75, \"14\": 1, \"1\": 3}, \"12\": {\"12\": 1068, \"14\": 54, \"9\": 68, \"11\": 10}, \"8\": {\"8\": 1177, \"3\": 23}, \"4\": {\"6\": 228, \"5\": 325, \"4\": 577, \"1\": 51, \"10\": 5, \"0\": 5, \"7\": 5, \"13\": 2, \"15\": 2}, \"10\": {\"13\": 186, \"10\": 828, \"5\": 76, \"7\": 72, \"0\": 34, \"4\": 4}, \"14\": {\"14\": 1162, \"12\": 29, \"11\": 9}, \"13\": {\"13\": 533, \"7\": 487, \"10\": 129, \"5\": 50, \"4\": 1}, \"6\": {\"6\": 623, \"1\": 269, \"4\": 246, \"5\": 48, \"15\": 11, \"0\": 3}, \"9\": {\"9\": 1119, \"12\": 56, \"11\": 25}, \"15\": {\"15\": 1054, \"11\": 59, \"1\": 63, \"14\": 5, \"6\": 19}, \"1\": {\"1\": 892, \"6\": 191, \"15\": 71, \"4\": 38, \"5\": 5, \"14\": 2, \"0\": 1}, \"3\": {\"3\": 1155, \"8\": 45}, \"7\": {\"13\": 497, \"7\": 521, \"10\": 76, \"5\": 98, \"4\": 8}, \"0\": {\"0\": 1051, \"2\": 110, \"5\": 7, \"1\": 2, \"4\": 4, \"10\": 24, \"6\": 2}, \"5\": {\"10\": 58, \"5\": 614, \"4\": 342, \"13\": 66, \"0\": 7, \"6\": 49, \"7\": 59, \"1\": 5}}, \"32\": {\"4\": {\"11\": 82, \"4\": 405, \"13\": 216, \"8\": 66, \"7\": 96, \"5\": 157, \"0\": 145, \"2\": 31, \"3\": 2}, \"14\": {\"2\": 128, \"14\": 988, \"5\": 43, \"0\": 29, \"11\": 11, \"4\": 1}, \"5\": {\"5\": 431, \"8\": 155, \"0\": 159, \"4\": 137, \"14\": 80, \"2\": 139, \"13\": 68, \"3\": 6, \"11\": 12, \"7\": 13}, \"10\": {\"10\": 1195, \"1\": 5}, \"13\": {\"4\": 204, \"13\": 575, \"7\": 150, \"0\": 64, \"11\": 98, \"8\": 58, \"5\": 22, \"3\": 28, \"2\": 1}, \"9\": {\"9\": 1150, \"14\": 46, \"2\": 3, \"12\": 1}, \"6\": {\"6\": 1200}, \"3\": {\"3\": 1125, \"13\": 44, \"8\": 24, \"4\": 3, \"5\": 1, \"7\": 2, \"11\": 1}, \"15\": {\"15\": 1188, \"8\": 11, \"5\": 1}, \"7\": {\"11\": 260, \"7\": 658, \"4\": 81, \"2\": 19, \"5\": 7, \"13\": 148, \"0\": 24, \"8\": 2, \"3\": 1}, \"12\": {\"12\": 1200}, \"8\": {\"8\": 871, \"13\": 85, \"11\": 6, \"0\": 91, \"5\": 79, \"4\": 40, \"15\": 10, \"3\": 18}, \"11\": {\"4\": 83, \"0\": 159, \"7\": 268, \"8\": 9, \"11\": 507, \"13\": 114, \"5\": 21, \"2\": 37, \"14\": 2}, \"2\": {\"2\": 930, \"5\": 76, \"7\": 14, \"14\": 96, \"0\": 27, \"4\": 35, \"11\": 22}, \"1\": {\"1\": 1187, \"10\": 13}, \"0\": {\"0\": 541, \"8\": 49, \"5\": 179, \"13\": 54, \"4\": 149, \"11\": 154, \"7\": 16, \"2\": 39, \"14\": 19}}, \"20\": {\"7\": {\"7\": 706, \"3\": 183, \"8\": 146, \"9\": 15, \"10\": 34, \"6\": 31, \"5\": 43, \"14\": 10, \"2\": 26, \"4\": 3, \"12\": 2, \"11\": 1}, \"10\": {\"10\": 692, \"6\": 37, \"3\": 23, \"14\": 171, \"8\": 193, \"7\": 50, \"4\": 28, \"5\": 5, \"9\": 1}, \"0\": {\"4\": 112, \"0\": 532, \"12\": 174, \"15\": 47, \"5\": 72, \"2\": 18, \"1\": 216, \"13\": 11, \"9\": 16, \"3\": 2}, \"11\": {\"11\": 1195, \"7\": 3, \"3\": 2}, \"2\": {\"13\": 73, \"2\": 286, \"9\": 256, \"15\": 102, \"3\": 182, \"12\": 72, \"7\": 14, \"5\": 187, \"10\": 1, \"0\": 7, \"4\": 3, \"1\": 15, \"8\": 2}, \"14\": {\"14\": 689, \"6\": 109, \"8\": 177, \"10\": 213, \"4\": 7, \"7\": 5}, \"9\": {\"4\": 9, \"3\": 132, \"15\": 128, \"13\": 63, \"12\": 125, \"9\": 286, \"1\": 41, \"2\": 253, \"0\": 21, \"5\": 132, \"7\": 8, \"8\": 2}, \"13\": {\"15\": 258, \"13\": 732, \"9\": 61, \"2\": 64, \"1\": 33, \"5\": 17, \"3\": 6, \"12\": 21, \"0\": 8}, \"8\": {\"7\": 161, \"14\": 161, \"8\": 524, \"10\": 205, \"4\": 55, \"3\": 38, \"6\": 37, \"5\": 17, \"2\": 1, \"15\": 1}, \"15\": {\"1\": 129, \"12\": 92, \"13\": 277, \"15\": 301, \"5\": 80, \"0\": 51, \"2\": 108, \"9\": 147, \"4\": 3, \"3\": 12}, \"4\": {\"4\": 901, \"12\": 62, \"5\": 49, \"8\": 40, \"0\": 83, \"14\": 6, \"3\": 20, \"10\": 19, \"1\": 12, \"9\": 3, \"2\": 3, \"7\": 1, \"15\": 1}, \"5\": {\"4\": 46, \"3\": 199, \"15\": 63, \"5\": 257, \"7\": 48, \"0\": 83, \"2\": 197, \"10\": 4, \"12\": 101, \"1\": 55, \"8\": 21, \"9\": 108, \"13\": 18}, \"3\": {\"7\": 183, \"2\": 170, \"3\": 374, \"13\": 7, \"9\": 141, \"8\": 34, \"5\": 182, \"0\": 7, \"12\": 46, \"4\": 21, \"15\": 15, \"10\": 17, \"14\": 1, \"1\": 2}, \"1\": {\"12\": 225, \"1\": 513, \"2\": 12, \"0\": 217, \"15\": 120, \"5\": 27, \"13\": 33, \"9\": 36, \"3\": 3, \"4\": 14}, \"6\": {\"10\": 36, \"6\": 975, \"8\": 40, \"7\": 55, \"14\": 94}, \"12\": {\"4\": 64, \"9\": 113, \"1\": 224, \"15\": 110, \"5\": 96, \"0\": 156, \"12\": 336, \"13\": 16, \"2\": 53, \"3\": 32}}, \"14\": {\"14\": {\"3\": 68, \"6\": 197, \"14\": 703, \"2\": 158, \"0\": 12, \"4\": 27, \"5\": 16, \"13\": 19}, \"6\": {\"13\": 266, \"6\": 684, \"2\": 69, \"14\": 174, \"5\": 1, \"4\": 6}, \"5\": {\"5\": 475, \"4\": 360, \"3\": 96, \"6\": 2, \"2\": 122, \"1\": 138, \"14\": 6, \"15\": 1}, \"15\": {\"15\": 1143, \"7\": 54, \"2\": 2, \"5\": 1}, \"11\": {\"11\": 1118, \"9\": 10, \"12\": 54, \"10\": 18}, \"8\": {\"8\": 1199, \"1\": 1}, \"12\": {\"12\": 618, \"11\": 332, \"0\": 103, \"9\": 86, \"10\": 37, \"8\": 22, \"3\": 1, \"14\": 1}, \"1\": {\"1\": 979, \"5\": 134, \"3\": 9, \"4\": 74, \"7\": 1, \"2\": 3}, \"2\": {\"4\": 120, \"5\": 169, \"14\": 138, \"2\": 453, \"13\": 140, \"6\": 50, \"3\": 110, \"7\": 4, \"15\": 5, \"1\": 10, \"0\": 1}, \"13\": {\"14\": 10, \"13\": 821, \"6\": 285, \"2\": 80, \"4\": 3, \"5\": 1}, \"3\": {\"4\": 145, \"3\": 881, \"2\": 33, \"0\": 7, \"1\": 9, \"14\": 46, \"5\": 78, \"6\": 1}, \"0\": {\"0\": 1150, \"3\": 7, \"10\": 37, \"9\": 1, \"14\": 4, \"11\": 1}, \"9\": {\"9\": 1182, \"12\": 6, \"11\": 9, \"0\": 3}, \"4\": {\"14\": 13, \"5\": 356, \"4\": 561, \"2\": 89, \"1\": 64, \"3\": 116, \"6\": 1}, \"7\": {\"7\": 1154, \"15\": 41, \"1\": 4, \"5\": 1}, \"10\": {\"10\": 1016, \"0\": 159, \"11\": 19, \"14\": 2, \"12\": 4}}, \"38\": {\"4\": {\"12\": 85, \"4\": 1105, \"10\": 3, \"7\": 7}, \"14\": {\"14\": 614, \"2\": 256, \"12\": 168, \"5\": 11, \"11\": 113, \"7\": 16, \"4\": 4, \"13\": 8, \"8\": 2, \"10\": 7, \"3\": 1}, \"5\": {\"13\": 172, \"3\": 36, \"8\": 324, \"5\": 372, \"15\": 140, \"7\": 107, \"10\": 45, \"1\": 2, \"9\": 1, \"14\": 1}, \"10\": {\"7\": 447, \"5\": 42, \"10\": 533, \"3\": 58, \"13\": 24, \"8\": 55, \"0\": 27, \"15\": 8, \"4\": 5, \"12\": 1}, \"13\": {\"3\": 88, \"15\": 293, \"8\": 207, \"13\": 197, \"5\": 208, \"1\": 99, \"14\": 11, \"7\": 36, \"0\": 14, \"6\": 14, \"2\": 9, \"10\": 23, \"9\": 1}, \"9\": {\"9\": 768, \"6\": 416, \"3\": 12, \"0\": 4}, \"6\": {\"6\": 806, \"9\": 383, \"3\": 9, \"13\": 1, \"15\": 1}, \"3\": {\"0\": 337, \"10\": 82, \"3\": 316, \"7\": 67, \"5\": 49, \"13\": 70, \"8\": 65, \"9\": 56, \"15\": 82, \"6\": 72, \"1\": 4}, \"15\": {\"15\": 417, \"3\": 68, \"5\": 140, \"13\": 249, \"8\": 181, \"1\": 102, \"0\": 6, \"10\": 9, \"7\": 8, \"6\": 18, \"9\": 2}, \"7\": {\"10\": 372, \"3\": 25, \"7\": 542, \"8\": 109, \"5\": 118, \"15\": 6, \"13\": 22, \"14\": 1, \"0\": 4, \"12\": 1}, \"12\": {\"12\": 1121, \"14\": 16, \"4\": 55, \"7\": 1, \"11\": 7}, \"8\": {\"5\": 324, \"13\": 188, \"8\": 338, \"3\": 39, \"15\": 180, \"7\": 89, \"0\": 1, \"10\": 36, \"1\": 5}, \"11\": {\"11\": 934, \"14\": 130, \"12\": 128, \"2\": 6, \"4\": 2}, \"2\": {\"2\": 1045, \"14\": 154, \"11\": 1}, \"1\": {\"1\": 1080, \"15\": 70, \"6\": 1, \"13\": 41, \"5\": 6, \"8\": 2}, \"0\": {\"3\": 251, \"0\": 897, \"9\": 7, \"7\": 7, \"10\": 26, \"8\": 2, \"6\": 4, \"5\": 2, \"13\": 1, \"15\": 3}}, \"44\": {\"8\": {\"8\": 688, \"14\": 5, \"0\": 474, \"15\": 15, \"5\": 18}, \"11\": {\"11\": 1116, \"7\": 14, \"6\": 63, \"9\": 7}, \"14\": {\"14\": 881, \"5\": 104, \"4\": 80, \"15\": 132, \"8\": 1, \"13\": 2}, \"10\": {\"10\": 1137, \"12\": 40, \"1\": 22, \"7\": 1}, \"3\": {\"3\": 998, \"1\": 128, \"12\": 71, \"7\": 1, \"2\": 2}, \"15\": {\"14\": 132, \"15\": 995, \"8\": 13, \"4\": 57, \"0\": 3}, \"2\": {\"2\": 610, \"9\": 364, \"7\": 214, \"3\": 3, \"1\": 7, \"6\": 2}, \"12\": {\"3\": 69, \"12\": 809, \"10\": 10, \"1\": 312}, \"4\": {\"14\": 73, \"4\": 1041, \"13\": 32, \"15\": 54}, \"1\": {\"3\": 145, \"12\": 344, \"1\": 701, \"10\": 5, \"7\": 5}, \"0\": {\"8\": 517, \"0\": 671, \"15\": 3, \"5\": 7, \"14\": 2}, \"9\": {\"7\": 312, \"9\": 479, \"2\": 362, \"6\": 40, \"1\": 5, \"12\": 1, \"3\": 1}, \"5\": {\"5\": 1067, \"14\": 109, \"0\": 6, \"8\": 14, \"15\": 4}, \"6\": {\"6\": 1048, \"9\": 64, \"2\": 7, \"13\": 16, \"11\": 32, \"7\": 33}, \"7\": {\"9\": 310, \"7\": 595, \"2\": 271, \"6\": 12, \"1\": 8, \"3\": 2, \"11\": 2}, \"13\": {\"13\": 1139, \"6\": 20, \"4\": 41}}, \"26\": {\"6\": {\"6\": 779, \"9\": 130, \"8\": 42, \"5\": 77, \"13\": 63, \"10\": 80, \"1\": 6, \"14\": 14, \"0\": 8, \"2\": 1}, \"11\": {\"11\": 1193, \"12\": 7}, \"5\": {\"6\": 139, \"9\": 160, \"7\": 103, \"5\": 329, \"13\": 296, \"14\": 2, \"2\": 70, \"8\": 42, \"15\": 26, \"10\": 7, \"0\": 1, \"3\": 23, \"4\": 2}, \"14\": {\"1\": 270, \"0\": 256, \"8\": 103, \"14\": 277, \"4\": 86, \"10\": 161, \"2\": 13, \"6\": 3, \"9\": 10, \"7\": 15, \"5\": 5, \"13\": 1}, \"2\": {\"7\": 319, \"2\": 297, \"4\": 129, \"15\": 111, \"3\": 145, \"5\": 39, \"9\": 38, \"8\": 83, \"14\": 11, \"13\": 1, \"0\": 14, \"10\": 10, \"1\": 3}, \"7\": {\"7\": 304, \"3\": 109, \"15\": 100, \"2\": 302, \"5\": 66, \"8\": 109, \"4\": 107, \"9\": 65, \"10\": 3, \"14\": 7, \"6\": 2, \"0\": 11, \"13\": 13, \"1\": 2}, \"3\": {\"2\": 129, \"15\": 336, \"3\": 567, \"4\": 65, \"7\": 95, \"9\": 2, \"5\": 4, \"8\": 2}, \"4\": {\"4\": 581, \"0\": 123, \"8\": 63, \"15\": 54, \"7\": 90, \"3\": 69, \"2\": 99, \"10\": 27, \"14\": 63, \"1\": 24, \"5\": 2, \"9\": 5}, \"9\": {\"13\": 126, \"9\": 472, \"5\": 166, \"0\": 6, \"2\": 49, \"14\": 14, \"6\": 127, \"7\": 50, \"8\": 156, \"4\": 4, \"10\": 20, \"15\": 8, \"3\": 2}, \"12\": {\"12\": 1197, \"11\": 3}, \"0\": {\"8\": 83, \"0\": 319, \"14\": 233, \"1\": 186, \"10\": 182, \"4\": 137, \"5\": 1, \"9\": 14, \"7\": 15, \"2\": 22, \"15\": 3, \"6\": 3, \"3\": 2}, \"10\": {\"1\": 163, \"9\": 25, \"8\": 79, \"10\": 379, \"6\": 102, \"14\": 190, \"0\": 145, \"4\": 80, \"7\": 12, \"2\": 12, \"12\": 3, \"3\": 4, \"15\": 4, \"5\": 2}, \"8\": {\"10\": 82, \"8\": 374, \"9\": 174, \"4\": 71, \"14\": 86, \"5\": 74, \"0\": 79, \"6\": 29, \"2\": 92, \"7\": 99, \"1\": 17, \"13\": 12, \"3\": 3, \"15\": 8}, \"13\": {\"13\": 784, \"9\": 111, \"5\": 244, \"8\": 9, \"7\": 4, \"6\": 41, \"2\": 6, \"15\": 1}, \"1\": {\"14\": 279, \"1\": 542, \"10\": 154, \"2\": 3, \"0\": 178, \"4\": 21, \"8\": 21, \"6\": 1, \"7\": 1}, \"15\": {\"9\": 14, \"15\": 475, \"3\": 365, \"4\": 75, \"7\": 113, \"2\": 136, \"0\": 1, \"5\": 8, \"8\": 10, \"13\": 2, \"14\": 1}}}, \"per_domain_accuracy\": {\"8\": {\"accuracy\": 0.65640625, \"source?\": true}, \"50\": {\"accuracy\": 0.759375, \"source?\": true}, \"32\": {\"accuracy\": 0.73703125, \"source?\": true}, \"20\": {\"accuracy\": 0.48432291666666666, \"source?\": false}, \"14\": {\"accuracy\": 0.7363020833333334, \"source?\": false}, \"38\": {\"accuracy\": 0.57734375, \"source?\": false}, \"44\": {\"accuracy\": 0.7278645833333334, \"source?\": false}, \"26\": {\"accuracy\": 0.4619270833333333, \"source?\": false}}}, \"history\": {\"epoch_indices\": [1, 2, 3, 4, 5, 6, 7, 8, 9, 10, 11, 12], \"train_label_loss\": [1.3546691179133596, 0.8407489819540864, 0.7055788703487506, 0.6255136002505582, 0.5521459080071913, 0.48331622317374223, 0.4276050344878246, 0.3773953483490244, 0.3328222933416033, 0.2932561596242031, 0.26001310828681445, 0.2309572601748172], \"source_val_label_loss\": [1.0277949571609497, 0.8271967172622681, 0.7937113046646118, 0.7908309698104858, 0.7942090630531311, 0.8126168847084045, 0.8289926648139954, 0.8409825563430786, 0.889116108417511, 0.9129338264465332, 0.9565439224243164, 0.9982303380966187], \"target_val_label_loss\": [1.3981103897094727, 1.2228078842163086, 1.1942001581192017, 1.2068252563476562, 1.2438035011291504, 1.2841105461120605, 1.2737504243850708, 1.3174840211868286, 1.3768022060394287, 1.429298996925354, 1.4890178442001343, 1.5636842250823975], \"source_val_acc_label\": [0.5969791666666666, 0.6786284722222222, 0.6913020833333333, 0.6993402777777777, 0.7113368055555556, 0.7162326388888889, 0.7039583333333334, 0.7176041666666667, 0.7120138888888888, 0.7152256944444444, 0.7150694444444444, 0.7147395833333333], \"target_val_acc_label\": [0.49151041666666667, 0.560875, 0.5752708333333333, 0.5805104166666667, 0.5887291666666666, 0.5940625, 0.5876770833333333, 0.5975520833333333, 0.5915, 0.5906041666666667, 0.5915729166666667, 0.5886354166666666]}, \"dataset_metrics\": {\"source\": {\"train\": {\"n_unique_x\": 336000, \"n_unique_y\": 16, \"n_batch/episode\": 12600}, \"val\": {\"n_unique_x\": 72000, \"n_unique_y\": 16, \"n_batch/episode\": 1800}, \"test\": {\"n_unique_x\": 72000, \"n_unique_y\": 16, \"n_batch/episode\": 1800}}, \"target\": {\"train\": {\"n_unique_x\": 560000, \"n_unique_y\": 16, \"n_batch/episode\": 21000}, \"val\": {\"n_unique_x\": 120000, \"n_unique_y\": 16, \"n_batch/episode\": 3000}, \"test\": {\"n_unique_x\": 120000, \"n_unique_y\": 16, \"n_batch/episode\": 3000}}}}'"
      ]
     },
     "execution_count": 20,
     "metadata": {},
     "output_type": "execute_result"
    }
   ],
   "source": [
    "json.dumps(experiment)"
   ]
  }
 ],
 "metadata": {
  "celltoolbar": "Tags",
  "kernelspec": {
   "display_name": "Python 3 (ipykernel)",
   "language": "python",
   "name": "python3"
  },
  "language_info": {
   "codemirror_mode": {
    "name": "ipython",
    "version": 3
   },
   "file_extension": ".py",
   "mimetype": "text/x-python",
   "name": "python",
   "nbconvert_exporter": "python",
   "pygments_lexer": "ipython3",
   "version": "3.8.10"
  },
  "papermill": {
   "default_parameters": {},
   "duration": 4608.636066,
   "end_time": "2022-03-21T10:57:17.336292",
   "environment_variables": {},
   "exception": null,
   "input_path": "/mnt/wd500GB/CSC500/csc500-main/csc500-notebooks/templates/ptn_template.ipynb",
   "output_path": "trial.ipynb",
   "parameters": {
    "parameters": {
     "BEST_MODEL_PATH": "./best_model.pth",
     "NUM_LOGS_PER_EPOCH": 10,
     "criteria_for_best": "target_accuracy",
     "dataset_seed": 500,
     "device": "cuda",
     "domains_source": [
      8,
      32,
      50
     ],
     "domains_target": [
      14,
      20,
      26,
      38,
      44
     ],
     "episode_transforms_source": [],
     "episode_transforms_target": [],
     "experiment_name": "tuned_1v2:oracle.run2",
     "labels_source": [
      "3123D52",
      "3123D65",
      "3123D79",
      "3123D80",
      "3123D54",
      "3123D70",
      "3123D7B",
      "3123D89",
      "3123D58",
      "3123D76",
      "3123D7D",
      "3123EFE",
      "3123D64",
      "3123D78",
      "3123D7E",
      "3124E4A"
     ],
     "labels_target": [
      "3123D52",
      "3123D65",
      "3123D79",
      "3123D80",
      "3123D54",
      "3123D70",
      "3123D7B",
      "3123D89",
      "3123D58",
      "3123D76",
      "3123D7D",
      "3123EFE",
      "3123D64",
      "3123D78",
      "3123D7E",
      "3124E4A"
     ],
     "lr": 0.0001,
     "n_epoch": 50,
     "n_query": 2,
     "n_shot": 3,
     "n_way": 16,
     "num_examples_per_domain_per_label_source": -1,
     "num_examples_per_domain_per_label_target": -1,
     "patience": 3,
     "pickle_name": "oracle.Run2_10kExamples_stratified_ds.2022A.pkl",
     "seed": 500,
     "test_k_factor": 2,
     "torch_default_dtype": "torch.float32",
     "train_k_factor": 3,
     "val_k_factor": 2,
     "x_net": [
      {
       "class": "nnReshape",
       "kargs": {
        "shape": [
         -1,
         1,
         2,
         256
        ]
       }
      },
      {
       "class": "Conv2d",
       "kargs": {
        "bias": false,
        "in_channels": 1,
        "kernel_size": [
         1,
         7
        ],
        "out_channels": 256,
        "padding": [
         0,
         3
        ]
       }
      },
      {
       "class": "ReLU",
       "kargs": {
        "inplace": true
       }
      },
      {
       "class": "BatchNorm2d",
       "kargs": {
        "num_features": 256
       }
      },
      {
       "class": "Conv2d",
       "kargs": {
        "bias": true,
        "in_channels": 256,
        "kernel_size": [
         2,
         7
        ],
        "out_channels": 80,
        "padding": [
         0,
         3
        ]
       }
      },
      {
       "class": "ReLU",
       "kargs": {
        "inplace": true
       }
      },
      {
       "class": "BatchNorm2d",
       "kargs": {
        "num_features": 80
       }
      },
      {
       "class": "Flatten",
       "kargs": {}
      },
      {
       "class": "Linear",
       "kargs": {
        "in_features": 20480,
        "out_features": 256
       }
      },
      {
       "class": "ReLU",
       "kargs": {
        "inplace": true
       }
      },
      {
       "class": "BatchNorm1d",
       "kargs": {
        "num_features": 256
       }
      },
      {
       "class": "Linear",
       "kargs": {
        "in_features": 256,
        "out_features": 256
       }
      }
     ],
     "x_transforms_source": [
      "unit_mag"
     ],
     "x_transforms_target": [
      "unit_mag"
     ]
    }
   },
   "start_time": "2022-03-21T09:40:28.700226",
   "version": "2.3.4"
  }
 },
 "nbformat": 4,
 "nbformat_minor": 5
}