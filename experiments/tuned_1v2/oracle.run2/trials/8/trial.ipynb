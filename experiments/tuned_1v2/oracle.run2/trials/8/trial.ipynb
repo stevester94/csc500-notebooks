{
 "cells": [
  {
   "cell_type": "markdown",
   "id": "9fea5f46",
   "metadata": {
    "papermill": {
     "duration": 0.009394,
     "end_time": "2022-03-21T16:08:07.967663",
     "exception": false,
     "start_time": "2022-03-21T16:08:07.958269",
     "status": "completed"
    },
    "tags": []
   },
   "source": [
    "# PTN Template\n",
    "This notebook serves as a template for single dataset PTN experiments  \n",
    "It can be run on its own by setting STANDALONE to True (do a find for \"STANDALONE\" to see where)  \n",
    "But it is intended to be executed as part of a *papermill.py script. See any of the   \n",
    "experimentes with a papermill script to get started with that workflow.  "
   ]
  },
  {
   "cell_type": "code",
   "execution_count": 1,
   "id": "0902182a",
   "metadata": {
    "execution": {
     "iopub.execute_input": "2022-03-21T16:08:08.000021Z",
     "iopub.status.busy": "2022-03-21T16:08:07.999753Z",
     "iopub.status.idle": "2022-03-21T16:08:08.901682Z",
     "shell.execute_reply": "2022-03-21T16:08:08.901899Z"
    },
    "papermill": {
     "duration": 0.925164,
     "end_time": "2022-03-21T16:08:08.901994",
     "exception": false,
     "start_time": "2022-03-21T16:08:07.976830",
     "status": "completed"
    },
    "tags": []
   },
   "outputs": [],
   "source": [
    "%load_ext autoreload\n",
    "%autoreload 2\n",
    "%matplotlib inline\n",
    "\n",
    "    \n",
    "import os, json, sys, time, random\n",
    "import numpy as np\n",
    "import torch\n",
    "from torch.optim import Adam\n",
    "from  easydict import EasyDict\n",
    "import matplotlib.pyplot as plt\n",
    "\n",
    "from steves_models.steves_ptn import Steves_Prototypical_Network\n",
    "\n",
    "from steves_utils.lazy_iterable_wrapper import Lazy_Iterable_Wrapper\n",
    "from steves_utils.iterable_aggregator import Iterable_Aggregator\n",
    "from steves_utils.ptn_train_eval_test_jig import  PTN_Train_Eval_Test_Jig\n",
    "from steves_utils.torch_sequential_builder import build_sequential\n",
    "from steves_utils.torch_utils import get_dataset_metrics, ptn_confusion_by_domain_over_dataloader\n",
    "from steves_utils.utils_v2 import (per_domain_accuracy_from_confusion, get_datasets_base_path)\n",
    "from steves_utils.PTN.utils import independent_accuracy_assesment\n",
    "\n",
    "from steves_utils.stratified_dataset.episodic_accessor import Episodic_Accessor_Factory\n",
    "\n",
    "from steves_utils.ptn_do_report import (\n",
    "    get_loss_curve,\n",
    "    get_results_table,\n",
    "    get_parameters_table,\n",
    "    get_domain_accuracies,\n",
    ")\n",
    "\n",
    "from steves_utils.transforms import get_chained_transform"
   ]
  },
  {
   "cell_type": "markdown",
   "id": "41c840b4",
   "metadata": {
    "papermill": {
     "duration": 0.009002,
     "end_time": "2022-03-21T16:08:08.920407",
     "exception": false,
     "start_time": "2022-03-21T16:08:08.911405",
     "status": "completed"
    },
    "tags": []
   },
   "source": [
    "# Required Parameters\n",
    "These are allowed parameters, not defaults\n",
    "Each of these values need to be present in the injected parameters (the notebook will raise an exception if they are not present)\n",
    "\n",
    "Papermill uses the cell tag \"parameters\" to inject the real parameters below this cell.\n",
    "Enable tags to see what I mean"
   ]
  },
  {
   "cell_type": "code",
   "execution_count": 2,
   "id": "fd44eb83",
   "metadata": {
    "execution": {
     "iopub.execute_input": "2022-03-21T16:08:08.940841Z",
     "iopub.status.busy": "2022-03-21T16:08:08.940577Z",
     "iopub.status.idle": "2022-03-21T16:08:08.950868Z",
     "shell.execute_reply": "2022-03-21T16:08:08.951071Z"
    },
    "papermill": {
     "duration": 0.021633,
     "end_time": "2022-03-21T16:08:08.951129",
     "exception": false,
     "start_time": "2022-03-21T16:08:08.929496",
     "status": "completed"
    },
    "tags": []
   },
   "outputs": [],
   "source": [
    "required_parameters = {\n",
    "    \"experiment_name\",\n",
    "    \"lr\",\n",
    "    \"device\",\n",
    "    \"seed\",\n",
    "    \"dataset_seed\",\n",
    "    \"labels_source\",\n",
    "    \"labels_target\",\n",
    "    \"domains_source\",\n",
    "    \"domains_target\",\n",
    "    \"num_examples_per_domain_per_label_source\",\n",
    "    \"num_examples_per_domain_per_label_target\",\n",
    "    \"n_shot\",\n",
    "    \"n_way\",\n",
    "    \"n_query\",\n",
    "    \"train_k_factor\",\n",
    "    \"val_k_factor\",\n",
    "    \"test_k_factor\",\n",
    "    \"n_epoch\",\n",
    "    \"patience\",\n",
    "    \"criteria_for_best\",\n",
    "    \"x_transforms_source\",\n",
    "    \"x_transforms_target\",\n",
    "    \"episode_transforms_source\",\n",
    "    \"episode_transforms_target\",\n",
    "    \"pickle_name\",\n",
    "    \"x_net\",\n",
    "    \"NUM_LOGS_PER_EPOCH\",\n",
    "    \"BEST_MODEL_PATH\",\n",
    "    \"torch_default_dtype\"\n",
    "}"
   ]
  },
  {
   "cell_type": "code",
   "execution_count": 3,
   "id": "fa3f0049",
   "metadata": {
    "execution": {
     "iopub.execute_input": "2022-03-21T16:08:08.979358Z",
     "iopub.status.busy": "2022-03-21T16:08:08.975883Z",
     "iopub.status.idle": "2022-03-21T16:08:08.992018Z",
     "shell.execute_reply": "2022-03-21T16:08:08.991632Z"
    },
    "papermill": {
     "duration": 0.031752,
     "end_time": "2022-03-21T16:08:08.992105",
     "exception": false,
     "start_time": "2022-03-21T16:08:08.960353",
     "status": "completed"
    },
    "tags": [
     "parameters"
    ]
   },
   "outputs": [],
   "source": [
    "\n",
    "\n",
    "standalone_parameters = {}\n",
    "standalone_parameters[\"experiment_name\"] = \"STANDALONE PTN\"\n",
    "standalone_parameters[\"lr\"] = 0.0001\n",
    "standalone_parameters[\"device\"] = \"cuda\"\n",
    "\n",
    "standalone_parameters[\"seed\"] = 1337\n",
    "standalone_parameters[\"dataset_seed\"] = 1337\n",
    "\n",
    "\n",
    "standalone_parameters[\"num_examples_per_domain_per_label_source\"]=100\n",
    "standalone_parameters[\"num_examples_per_domain_per_label_target\"]=100\n",
    "\n",
    "standalone_parameters[\"n_shot\"] = 3\n",
    "standalone_parameters[\"n_query\"]  = 2\n",
    "standalone_parameters[\"train_k_factor\"] = 1\n",
    "standalone_parameters[\"val_k_factor\"] = 2\n",
    "standalone_parameters[\"test_k_factor\"] = 2\n",
    "\n",
    "\n",
    "standalone_parameters[\"n_epoch\"] = 100\n",
    "\n",
    "standalone_parameters[\"patience\"] = 10\n",
    "standalone_parameters[\"criteria_for_best\"] = \"target_accuracy\"\n",
    "\n",
    "standalone_parameters[\"x_transforms_source\"] = [\"unit_power\"]\n",
    "standalone_parameters[\"x_transforms_target\"] = [\"unit_power\"]\n",
    "standalone_parameters[\"episode_transforms_source\"] = []\n",
    "standalone_parameters[\"episode_transforms_target\"] = []\n",
    "\n",
    "standalone_parameters[\"torch_default_dtype\"] = \"torch.float32\" \n",
    "\n",
    "\n",
    "\n",
    "standalone_parameters[\"x_net\"] =     [\n",
    "    {\"class\": \"nnReshape\", \"kargs\": {\"shape\":[-1, 1, 2, 256]}},\n",
    "    {\"class\": \"Conv2d\", \"kargs\": { \"in_channels\":1, \"out_channels\":256, \"kernel_size\":(1,7), \"bias\":False, \"padding\":(0,3), },},\n",
    "    {\"class\": \"ReLU\", \"kargs\": {\"inplace\": True}},\n",
    "    {\"class\": \"BatchNorm2d\", \"kargs\": {\"num_features\":256}},\n",
    "\n",
    "    {\"class\": \"Conv2d\", \"kargs\": { \"in_channels\":256, \"out_channels\":80, \"kernel_size\":(2,7), \"bias\":True, \"padding\":(0,3), },},\n",
    "    {\"class\": \"ReLU\", \"kargs\": {\"inplace\": True}},\n",
    "    {\"class\": \"BatchNorm2d\", \"kargs\": {\"num_features\":80}},\n",
    "    {\"class\": \"Flatten\", \"kargs\": {}},\n",
    "\n",
    "    {\"class\": \"Linear\", \"kargs\": {\"in_features\": 80*256, \"out_features\": 256}}, # 80 units per IQ pair\n",
    "    {\"class\": \"ReLU\", \"kargs\": {\"inplace\": True}},\n",
    "    {\"class\": \"BatchNorm1d\", \"kargs\": {\"num_features\":256}},\n",
    "\n",
    "    {\"class\": \"Linear\", \"kargs\": {\"in_features\": 256, \"out_features\": 256}},\n",
    "]\n",
    "\n",
    "# Parameters relevant to results\n",
    "# These parameters will basically never need to change\n",
    "standalone_parameters[\"NUM_LOGS_PER_EPOCH\"] = 10\n",
    "standalone_parameters[\"BEST_MODEL_PATH\"] = \"./best_model.pth\"\n",
    "\n",
    "# uncomment for CORES dataset\n",
    "from steves_utils.CORES.utils import (\n",
    "    ALL_NODES,\n",
    "    ALL_NODES_MINIMUM_1000_EXAMPLES,\n",
    "    ALL_DAYS\n",
    ")\n",
    "\n",
    "\n",
    "standalone_parameters[\"labels_source\"] = ALL_NODES\n",
    "standalone_parameters[\"labels_target\"] = ALL_NODES\n",
    "\n",
    "standalone_parameters[\"domains_source\"] = [1]\n",
    "standalone_parameters[\"domains_target\"] = [2,3,4,5]\n",
    "\n",
    "standalone_parameters[\"pickle_name\"] = \"cores.stratified_ds.2022A.pkl\"\n",
    "\n",
    "\n",
    "# Uncomment these for ORACLE dataset\n",
    "# from steves_utils.ORACLE.utils_v2 import (\n",
    "#     ALL_DISTANCES_FEET,\n",
    "#     ALL_RUNS,\n",
    "#     ALL_SERIAL_NUMBERS,\n",
    "# )\n",
    "# standalone_parameters[\"labels_source\"] = ALL_SERIAL_NUMBERS\n",
    "# standalone_parameters[\"labels_target\"] = ALL_SERIAL_NUMBERS\n",
    "# standalone_parameters[\"domains_source\"] = [8,20, 38,50]\n",
    "# standalone_parameters[\"domains_target\"] = [14, 26, 32, 44, 56]\n",
    "# standalone_parameters[\"pickle_name\"] = \"oracle.frame_indexed.stratified_ds.2022A.pkl\"\n",
    "# standalone_parameters[\"num_examples_per_domain_per_label_source\"]=1000\n",
    "# standalone_parameters[\"num_examples_per_domain_per_label_target\"]=1000\n",
    "\n",
    "# Uncomment these for Metahan dataset\n",
    "# standalone_parameters[\"labels_source\"] = list(range(19))\n",
    "# standalone_parameters[\"labels_target\"] = list(range(19))\n",
    "# standalone_parameters[\"domains_source\"] = [0]\n",
    "# standalone_parameters[\"domains_target\"] = [1]\n",
    "# standalone_parameters[\"pickle_name\"] = \"metehan.stratified_ds.2022A.pkl\"\n",
    "# standalone_parameters[\"n_way\"]  = len(standalone_parameters[\"labels_source\"])\n",
    "# standalone_parameters[\"num_examples_per_domain_per_label_source\"]=200\n",
    "# standalone_parameters[\"num_examples_per_domain_per_label_target\"]=100\n",
    "\n",
    "\n",
    "standalone_parameters[\"n_way\"]  = len(standalone_parameters[\"labels_source\"])"
   ]
  },
  {
   "cell_type": "code",
   "execution_count": 4,
   "id": "85b71c6d",
   "metadata": {
    "execution": {
     "iopub.execute_input": "2022-03-21T16:08:09.024350Z",
     "iopub.status.busy": "2022-03-21T16:08:09.022461Z",
     "iopub.status.idle": "2022-03-21T16:08:09.037094Z",
     "shell.execute_reply": "2022-03-21T16:08:09.037439Z"
    },
    "papermill": {
     "duration": 0.031316,
     "end_time": "2022-03-21T16:08:09.037543",
     "exception": false,
     "start_time": "2022-03-21T16:08:09.006227",
     "status": "completed"
    },
    "tags": [
     "injected-parameters"
    ]
   },
   "outputs": [],
   "source": [
    "# Parameters\n",
    "parameters = {\n",
    "    \"experiment_name\": \"tuned_1v2:oracle.run2\",\n",
    "    \"device\": \"cuda\",\n",
    "    \"lr\": 0.0001,\n",
    "    \"labels_source\": [\n",
    "        \"3123D52\",\n",
    "        \"3123D65\",\n",
    "        \"3123D79\",\n",
    "        \"3123D80\",\n",
    "        \"3123D54\",\n",
    "        \"3123D70\",\n",
    "        \"3123D7B\",\n",
    "        \"3123D89\",\n",
    "        \"3123D58\",\n",
    "        \"3123D76\",\n",
    "        \"3123D7D\",\n",
    "        \"3123EFE\",\n",
    "        \"3123D64\",\n",
    "        \"3123D78\",\n",
    "        \"3123D7E\",\n",
    "        \"3124E4A\",\n",
    "    ],\n",
    "    \"labels_target\": [\n",
    "        \"3123D52\",\n",
    "        \"3123D65\",\n",
    "        \"3123D79\",\n",
    "        \"3123D80\",\n",
    "        \"3123D54\",\n",
    "        \"3123D70\",\n",
    "        \"3123D7B\",\n",
    "        \"3123D89\",\n",
    "        \"3123D58\",\n",
    "        \"3123D76\",\n",
    "        \"3123D7D\",\n",
    "        \"3123EFE\",\n",
    "        \"3123D64\",\n",
    "        \"3123D78\",\n",
    "        \"3123D7E\",\n",
    "        \"3124E4A\",\n",
    "    ],\n",
    "    \"episode_transforms_source\": [],\n",
    "    \"episode_transforms_target\": [],\n",
    "    \"domains_source\": [8, 32, 50],\n",
    "    \"domains_target\": [14, 20, 26, 38, 44],\n",
    "    \"num_examples_per_domain_per_label_source\": -1,\n",
    "    \"num_examples_per_domain_per_label_target\": -1,\n",
    "    \"n_shot\": 3,\n",
    "    \"n_way\": 16,\n",
    "    \"n_query\": 2,\n",
    "    \"train_k_factor\": 3,\n",
    "    \"val_k_factor\": 2,\n",
    "    \"test_k_factor\": 2,\n",
    "    \"torch_default_dtype\": \"torch.float32\",\n",
    "    \"n_epoch\": 50,\n",
    "    \"patience\": 3,\n",
    "    \"criteria_for_best\": \"target_accuracy\",\n",
    "    \"x_net\": [\n",
    "        {\"class\": \"nnReshape\", \"kargs\": {\"shape\": [-1, 1, 2, 256]}},\n",
    "        {\n",
    "            \"class\": \"Conv2d\",\n",
    "            \"kargs\": {\n",
    "                \"in_channels\": 1,\n",
    "                \"out_channels\": 256,\n",
    "                \"kernel_size\": [1, 7],\n",
    "                \"bias\": False,\n",
    "                \"padding\": [0, 3],\n",
    "            },\n",
    "        },\n",
    "        {\"class\": \"ReLU\", \"kargs\": {\"inplace\": True}},\n",
    "        {\"class\": \"BatchNorm2d\", \"kargs\": {\"num_features\": 256}},\n",
    "        {\n",
    "            \"class\": \"Conv2d\",\n",
    "            \"kargs\": {\n",
    "                \"in_channels\": 256,\n",
    "                \"out_channels\": 80,\n",
    "                \"kernel_size\": [2, 7],\n",
    "                \"bias\": True,\n",
    "                \"padding\": [0, 3],\n",
    "            },\n",
    "        },\n",
    "        {\"class\": \"ReLU\", \"kargs\": {\"inplace\": True}},\n",
    "        {\"class\": \"BatchNorm2d\", \"kargs\": {\"num_features\": 80}},\n",
    "        {\"class\": \"Flatten\", \"kargs\": {}},\n",
    "        {\"class\": \"Linear\", \"kargs\": {\"in_features\": 20480, \"out_features\": 256}},\n",
    "        {\"class\": \"ReLU\", \"kargs\": {\"inplace\": True}},\n",
    "        {\"class\": \"BatchNorm1d\", \"kargs\": {\"num_features\": 256}},\n",
    "        {\"class\": \"Linear\", \"kargs\": {\"in_features\": 256, \"out_features\": 256}},\n",
    "    ],\n",
    "    \"NUM_LOGS_PER_EPOCH\": 10,\n",
    "    \"BEST_MODEL_PATH\": \"./best_model.pth\",\n",
    "    \"pickle_name\": \"oracle.Run2_10kExamples_stratified_ds.2022A.pkl\",\n",
    "    \"x_transforms_source\": [\"unit_power\"],\n",
    "    \"x_transforms_target\": [\"unit_power\"],\n",
    "    \"dataset_seed\": 1337,\n",
    "    \"seed\": 1337,\n",
    "}\n"
   ]
  },
  {
   "cell_type": "code",
   "execution_count": 5,
   "id": "8fa1cc33",
   "metadata": {
    "execution": {
     "iopub.execute_input": "2022-03-21T16:08:09.064985Z",
     "iopub.status.busy": "2022-03-21T16:08:09.064738Z",
     "iopub.status.idle": "2022-03-21T16:08:09.079977Z",
     "shell.execute_reply": "2022-03-21T16:08:09.079592Z"
    },
    "papermill": {
     "duration": 0.028361,
     "end_time": "2022-03-21T16:08:09.080063",
     "exception": false,
     "start_time": "2022-03-21T16:08:09.051702",
     "status": "completed"
    },
    "tags": []
   },
   "outputs": [],
   "source": [
    "# Set this to True if you want to run this template directly\n",
    "STANDALONE = False\n",
    "if STANDALONE:\n",
    "    print(\"parameters not injected, running with standalone_parameters\")\n",
    "    parameters = standalone_parameters\n",
    "\n",
    "if not 'parameters' in locals() and not 'parameters' in globals():\n",
    "    raise Exception(\"Parameter injection failed\")\n",
    "\n",
    "#Use an easy dict for all the parameters\n",
    "p = EasyDict(parameters)\n",
    "\n",
    "supplied_keys = set(p.keys())\n",
    "\n",
    "if  supplied_keys != required_parameters:\n",
    "    print(\"Parameters are incorrect\")\n",
    "    if len(supplied_keys - required_parameters)>0: print(\"Shouldn't have:\", str(supplied_keys - required_parameters))\n",
    "    if len(required_parameters - supplied_keys)>0: print(\"Need to have:\", str(required_parameters - supplied_keys))\n",
    "    raise RuntimeError(\"Parameters are incorrect\")\n",
    "\n"
   ]
  },
  {
   "cell_type": "code",
   "execution_count": 6,
   "id": "3a028d58",
   "metadata": {
    "execution": {
     "iopub.execute_input": "2022-03-21T16:08:09.107060Z",
     "iopub.status.busy": "2022-03-21T16:08:09.106818Z",
     "iopub.status.idle": "2022-03-21T16:08:09.119946Z",
     "shell.execute_reply": "2022-03-21T16:08:09.119600Z"
    },
    "papermill": {
     "duration": 0.025027,
     "end_time": "2022-03-21T16:08:09.120014",
     "exception": false,
     "start_time": "2022-03-21T16:08:09.094987",
     "status": "completed"
    },
    "tags": []
   },
   "outputs": [],
   "source": [
    "###################################\n",
    "# Set the RNGs and make it all deterministic\n",
    "###################################\n",
    "np.random.seed(p.seed)\n",
    "random.seed(p.seed)\n",
    "torch.manual_seed(p.seed)\n",
    "\n",
    "torch.use_deterministic_algorithms(True) "
   ]
  },
  {
   "cell_type": "code",
   "execution_count": 7,
   "id": "b691acf6",
   "metadata": {
    "execution": {
     "iopub.execute_input": "2022-03-21T16:08:09.146836Z",
     "iopub.status.busy": "2022-03-21T16:08:09.146596Z",
     "iopub.status.idle": "2022-03-21T16:08:09.160778Z",
     "shell.execute_reply": "2022-03-21T16:08:09.161143Z"
    },
    "papermill": {
     "duration": 0.02624,
     "end_time": "2022-03-21T16:08:09.161245",
     "exception": false,
     "start_time": "2022-03-21T16:08:09.135005",
     "status": "completed"
    },
    "tags": []
   },
   "outputs": [],
   "source": [
    "###########################################\n",
    "# The stratified datasets honor this\n",
    "###########################################\n",
    "torch.set_default_dtype(eval(p.torch_default_dtype))"
   ]
  },
  {
   "cell_type": "code",
   "execution_count": 8,
   "id": "b5fba671",
   "metadata": {
    "execution": {
     "iopub.execute_input": "2022-03-21T16:08:09.187139Z",
     "iopub.status.busy": "2022-03-21T16:08:09.186880Z",
     "iopub.status.idle": "2022-03-21T16:08:09.226289Z",
     "shell.execute_reply": "2022-03-21T16:08:09.225905Z"
    },
    "papermill": {
     "duration": 0.050602,
     "end_time": "2022-03-21T16:08:09.226375",
     "exception": false,
     "start_time": "2022-03-21T16:08:09.175773",
     "status": "completed"
    },
    "tags": []
   },
   "outputs": [],
   "source": [
    "###################################\n",
    "# Build the network(s)\n",
    "# Note: It's critical to do this AFTER setting the RNG\n",
    "# (This is due to the randomized initial weights)\n",
    "###################################\n",
    "x_net = build_sequential(p.x_net)"
   ]
  },
  {
   "cell_type": "code",
   "execution_count": 9,
   "id": "5d7e61cc",
   "metadata": {
    "execution": {
     "iopub.execute_input": "2022-03-21T16:08:09.252605Z",
     "iopub.status.busy": "2022-03-21T16:08:09.252358Z",
     "iopub.status.idle": "2022-03-21T16:08:09.268720Z",
     "shell.execute_reply": "2022-03-21T16:08:09.268375Z"
    },
    "papermill": {
     "duration": 0.028346,
     "end_time": "2022-03-21T16:08:09.268799",
     "exception": false,
     "start_time": "2022-03-21T16:08:09.240453",
     "status": "completed"
    },
    "tags": []
   },
   "outputs": [],
   "source": [
    "start_time_secs = time.time()"
   ]
  },
  {
   "cell_type": "code",
   "execution_count": 10,
   "id": "fd5442bc",
   "metadata": {
    "execution": {
     "iopub.execute_input": "2022-03-21T16:08:09.302659Z",
     "iopub.status.busy": "2022-03-21T16:08:09.302287Z",
     "iopub.status.idle": "2022-03-21T16:09:29.552807Z",
     "shell.execute_reply": "2022-03-21T16:09:29.552362Z"
    },
    "papermill": {
     "duration": 80.269111,
     "end_time": "2022-03-21T16:09:29.552908",
     "exception": false,
     "start_time": "2022-03-21T16:08:09.283797",
     "status": "completed"
    },
    "tags": []
   },
   "outputs": [],
   "source": [
    "###################################\n",
    "# Build the dataset\n",
    "###################################\n",
    "\n",
    "if p.x_transforms_source == []: x_transform_source = None\n",
    "else: x_transform_source = get_chained_transform(p.x_transforms_source) \n",
    "\n",
    "if p.x_transforms_target == []: x_transform_target = None\n",
    "else: x_transform_target = get_chained_transform(p.x_transforms_target)\n",
    "\n",
    "if p.episode_transforms_source == []: episode_transform_source = None\n",
    "else: raise Exception(\"episode_transform_source not implemented\")\n",
    "\n",
    "if p.episode_transforms_target == []: episode_transform_target = None\n",
    "else: raise Exception(\"episode_transform_target not implemented\")\n",
    "\n",
    "\n",
    "eaf_source = Episodic_Accessor_Factory(\n",
    "    labels=p.labels_source,\n",
    "    domains=p.domains_source,\n",
    "    num_examples_per_domain_per_label=p.num_examples_per_domain_per_label_source,\n",
    "    iterator_seed=p.seed,\n",
    "    dataset_seed=p.dataset_seed,\n",
    "    n_shot=p.n_shot,\n",
    "    n_way=p.n_way,\n",
    "    n_query=p.n_query,\n",
    "    train_val_test_k_factors=(p.train_k_factor,p.val_k_factor,p.test_k_factor),\n",
    "    pickle_path=os.path.join(get_datasets_base_path(), p.pickle_name),\n",
    "    x_transform_func=x_transform_source,\n",
    "    example_transform_func=episode_transform_source,\n",
    "    \n",
    ")\n",
    "train_original_source, val_original_source, test_original_source = eaf_source.get_train(), eaf_source.get_val(), eaf_source.get_test()\n",
    "\n",
    "\n",
    "eaf_target = Episodic_Accessor_Factory(\n",
    "    labels=p.labels_target,\n",
    "    domains=p.domains_target,\n",
    "    num_examples_per_domain_per_label=p.num_examples_per_domain_per_label_target,\n",
    "    iterator_seed=p.seed,\n",
    "    dataset_seed=p.dataset_seed,\n",
    "    n_shot=p.n_shot,\n",
    "    n_way=p.n_way,\n",
    "    n_query=p.n_query,\n",
    "    train_val_test_k_factors=(p.train_k_factor,p.val_k_factor,p.test_k_factor),\n",
    "    pickle_path=os.path.join(get_datasets_base_path(), p.pickle_name),\n",
    "    x_transform_func=x_transform_target,\n",
    "    example_transform_func=episode_transform_target,\n",
    ")\n",
    "train_original_target, val_original_target, test_original_target = eaf_target.get_train(), eaf_target.get_val(), eaf_target.get_test()\n",
    "\n",
    "\n",
    "transform_lambda = lambda ex: ex[1] # Original is (<domain>, <episode>) so we strip down to episode only\n",
    "\n",
    "train_processed_source = Lazy_Iterable_Wrapper(train_original_source, transform_lambda)\n",
    "val_processed_source   = Lazy_Iterable_Wrapper(val_original_source, transform_lambda)\n",
    "test_processed_source  = Lazy_Iterable_Wrapper(test_original_source, transform_lambda)\n",
    "\n",
    "train_processed_target = Lazy_Iterable_Wrapper(train_original_target, transform_lambda)\n",
    "val_processed_target   = Lazy_Iterable_Wrapper(val_original_target, transform_lambda)\n",
    "test_processed_target  = Lazy_Iterable_Wrapper(test_original_target, transform_lambda)\n",
    "\n",
    "datasets = EasyDict({\n",
    "    \"source\": {\n",
    "        \"original\": {\"train\":train_original_source, \"val\":val_original_source, \"test\":test_original_source},\n",
    "        \"processed\": {\"train\":train_processed_source, \"val\":val_processed_source, \"test\":test_processed_source}\n",
    "    },\n",
    "    \"target\": {\n",
    "        \"original\": {\"train\":train_original_target, \"val\":val_original_target, \"test\":test_original_target},\n",
    "        \"processed\": {\"train\":train_processed_target, \"val\":val_processed_target, \"test\":test_processed_target}\n",
    "    },\n",
    "})"
   ]
  },
  {
   "cell_type": "code",
   "execution_count": 11,
   "id": "296189d9",
   "metadata": {
    "execution": {
     "iopub.execute_input": "2022-03-21T16:09:29.582561Z",
     "iopub.status.busy": "2022-03-21T16:09:29.582307Z",
     "iopub.status.idle": "2022-03-21T16:09:31.526321Z",
     "shell.execute_reply": "2022-03-21T16:09:31.526858Z"
    },
    "papermill": {
     "duration": 1.956935,
     "end_time": "2022-03-21T16:09:31.527006",
     "exception": false,
     "start_time": "2022-03-21T16:09:29.570071",
     "status": "completed"
    },
    "tags": []
   },
   "outputs": [
    {
     "name": "stdout",
     "output_type": "stream",
     "text": [
      "Visually inspect these to see if they line up with expected values given the transforms\n",
      "x_transforms_source ['unit_power']\n",
      "x_transforms_target ['unit_power']\n",
      "Average magnitude, source: 0.8931209\n",
      "Average power, source: 1.0\n"
     ]
    },
    {
     "name": "stdout",
     "output_type": "stream",
     "text": [
      "Average magnitude, target: 0.9123239\n",
      "Average power, target: 0.99999994\n"
     ]
    }
   ],
   "source": [
    "# Some quick unit tests on the data\n",
    "from steves_utils.transforms import get_average_power, get_average_magnitude\n",
    "\n",
    "q_x, q_y, s_x, s_y, truth = next(iter(train_processed_source))\n",
    "\n",
    "assert q_x.dtype == eval(p.torch_default_dtype)\n",
    "assert s_x.dtype == eval(p.torch_default_dtype)\n",
    "\n",
    "print(\"Visually inspect these to see if they line up with expected values given the transforms\")\n",
    "print('x_transforms_source', p.x_transforms_source)\n",
    "print('x_transforms_target', p.x_transforms_target)\n",
    "print(\"Average magnitude, source:\", get_average_magnitude(q_x[0].numpy()))\n",
    "print(\"Average power, source:\", get_average_power(q_x[0].numpy()))\n",
    "\n",
    "q_x, q_y, s_x, s_y, truth = next(iter(train_processed_target))\n",
    "print(\"Average magnitude, target:\", get_average_magnitude(q_x[0].numpy()))\n",
    "print(\"Average power, target:\", get_average_power(q_x[0].numpy()))\n"
   ]
  },
  {
   "cell_type": "code",
   "execution_count": 12,
   "id": "bbdacba1",
   "metadata": {
    "execution": {
     "iopub.execute_input": "2022-03-21T16:09:31.558052Z",
     "iopub.status.busy": "2022-03-21T16:09:31.557794Z",
     "iopub.status.idle": "2022-03-21T16:09:31.623831Z",
     "shell.execute_reply": "2022-03-21T16:09:31.623611Z"
    },
    "papermill": {
     "duration": 0.079288,
     "end_time": "2022-03-21T16:09:31.623885",
     "exception": false,
     "start_time": "2022-03-21T16:09:31.544597",
     "status": "completed"
    },
    "tags": []
   },
   "outputs": [
    {
     "name": "stdout",
     "output_type": "stream",
     "text": [
      "(2, 256)\n"
     ]
    }
   ],
   "source": [
    "###################################\n",
    "# Build the model\n",
    "###################################\n",
    "model = Steves_Prototypical_Network(x_net, device=p.device, x_shape=(2,256))\n",
    "optimizer = Adam(params=model.parameters(), lr=p.lr)"
   ]
  },
  {
   "cell_type": "code",
   "execution_count": 13,
   "id": "22b39ac5",
   "metadata": {
    "execution": {
     "iopub.execute_input": "2022-03-21T16:09:31.648109Z",
     "iopub.status.busy": "2022-03-21T16:09:31.647831Z",
     "iopub.status.idle": "2022-03-21T17:15:35.063052Z",
     "shell.execute_reply": "2022-03-21T17:15:35.062817Z"
    },
    "papermill": {
     "duration": 3963.428757,
     "end_time": "2022-03-21T17:15:35.063111",
     "exception": false,
     "start_time": "2022-03-21T16:09:31.634354",
     "status": "completed"
    },
    "tags": []
   },
   "outputs": [
    {
     "name": "stdout",
     "output_type": "stream",
     "text": [
      "epoch: 1, [batch: 1 / 12600], examples_per_second: 26.3426, train_label_loss: 2.7876, \n"
     ]
    },
    {
     "name": "stdout",
     "output_type": "stream",
     "text": [
      "epoch: 1, [batch: 1260 / 12600], examples_per_second: 3141.3904, train_label_loss: 1.8454, \n"
     ]
    },
    {
     "name": "stdout",
     "output_type": "stream",
     "text": [
      "epoch: 1, [batch: 2520 / 12600], examples_per_second: 3136.0767, train_label_loss: 1.2489, \n"
     ]
    },
    {
     "name": "stdout",
     "output_type": "stream",
     "text": [
      "epoch: 1, [batch: 3780 / 12600], examples_per_second: 3133.9109, train_label_loss: 1.4216, \n"
     ]
    },
    {
     "name": "stdout",
     "output_type": "stream",
     "text": [
      "epoch: 1, [batch: 5040 / 12600], examples_per_second: 3125.0619, train_label_loss: 1.0620, \n"
     ]
    },
    {
     "name": "stdout",
     "output_type": "stream",
     "text": [
      "epoch: 1, [batch: 6300 / 12600], examples_per_second: 3127.8413, train_label_loss: 1.5546, \n"
     ]
    },
    {
     "name": "stdout",
     "output_type": "stream",
     "text": [
      "epoch: 1, [batch: 7560 / 12600], examples_per_second: 3118.0737, train_label_loss: 1.5523, \n"
     ]
    },
    {
     "name": "stdout",
     "output_type": "stream",
     "text": [
      "epoch: 1, [batch: 8820 / 12600], examples_per_second: 3114.2870, train_label_loss: 1.1945, \n"
     ]
    },
    {
     "name": "stdout",
     "output_type": "stream",
     "text": [
      "epoch: 1, [batch: 10080 / 12600], examples_per_second: 3137.0704, train_label_loss: 0.8036, \n"
     ]
    },
    {
     "name": "stdout",
     "output_type": "stream",
     "text": [
      "epoch: 1, [batch: 11340 / 12600], examples_per_second: 3137.0898, train_label_loss: 0.8406, \n"
     ]
    },
    {
     "name": "stdout",
     "output_type": "stream",
     "text": [
      "=============================================================\n",
      "epoch: 1, source_val_acc_label: 0.6137, target_val_acc_label: 0.5024, source_val_label_loss: 1.0243, target_val_label_loss: 1.4603, \n",
      "=============================================================\n"
     ]
    },
    {
     "name": "stdout",
     "output_type": "stream",
     "text": [
      "New best\n"
     ]
    },
    {
     "name": "stdout",
     "output_type": "stream",
     "text": [
      "epoch: 2, [batch: 1 / 12600], examples_per_second: 2.2271, train_label_loss: 1.2008, \n"
     ]
    },
    {
     "name": "stdout",
     "output_type": "stream",
     "text": [
      "epoch: 2, [batch: 1260 / 12600], examples_per_second: 3138.4115, train_label_loss: 0.6370, \n"
     ]
    },
    {
     "name": "stdout",
     "output_type": "stream",
     "text": [
      "epoch: 2, [batch: 2520 / 12600], examples_per_second: 3156.8454, train_label_loss: 0.4707, \n"
     ]
    },
    {
     "name": "stdout",
     "output_type": "stream",
     "text": [
      "epoch: 2, [batch: 3780 / 12600], examples_per_second: 3154.4972, train_label_loss: 1.0237, \n"
     ]
    },
    {
     "name": "stdout",
     "output_type": "stream",
     "text": [
      "epoch: 2, [batch: 5040 / 12600], examples_per_second: 3136.4546, train_label_loss: 0.9547, \n"
     ]
    },
    {
     "name": "stdout",
     "output_type": "stream",
     "text": [
      "epoch: 2, [batch: 6300 / 12600], examples_per_second: 3147.5892, train_label_loss: 0.9255, \n"
     ]
    },
    {
     "name": "stdout",
     "output_type": "stream",
     "text": [
      "epoch: 2, [batch: 7560 / 12600], examples_per_second: 3153.0881, train_label_loss: 1.0136, \n"
     ]
    },
    {
     "name": "stdout",
     "output_type": "stream",
     "text": [
      "epoch: 2, [batch: 8820 / 12600], examples_per_second: 3147.1059, train_label_loss: 0.9550, \n"
     ]
    },
    {
     "name": "stdout",
     "output_type": "stream",
     "text": [
      "epoch: 2, [batch: 10080 / 12600], examples_per_second: 3143.6676, train_label_loss: 0.6402, \n"
     ]
    },
    {
     "name": "stdout",
     "output_type": "stream",
     "text": [
      "epoch: 2, [batch: 11340 / 12600], examples_per_second: 3147.8146, train_label_loss: 0.4648, \n"
     ]
    },
    {
     "name": "stdout",
     "output_type": "stream",
     "text": [
      "=============================================================\n",
      "epoch: 2, source_val_acc_label: 0.6727, target_val_acc_label: 0.5608, source_val_label_loss: 0.8341, target_val_label_loss: 1.2211, \n",
      "=============================================================\n"
     ]
    },
    {
     "name": "stdout",
     "output_type": "stream",
     "text": [
      "New best\n"
     ]
    },
    {
     "name": "stdout",
     "output_type": "stream",
     "text": [
      "epoch: 3, [batch: 1 / 12600], examples_per_second: 2.2295, train_label_loss: 0.7638, \n"
     ]
    },
    {
     "name": "stdout",
     "output_type": "stream",
     "text": [
      "epoch: 3, [batch: 1260 / 12600], examples_per_second: 3129.9482, train_label_loss: 0.9469, \n"
     ]
    },
    {
     "name": "stdout",
     "output_type": "stream",
     "text": [
      "epoch: 3, [batch: 2520 / 12600], examples_per_second: 3145.6100, train_label_loss: 0.7792, \n"
     ]
    },
    {
     "name": "stdout",
     "output_type": "stream",
     "text": [
      "epoch: 3, [batch: 3780 / 12600], examples_per_second: 3154.6384, train_label_loss: 0.9790, \n"
     ]
    },
    {
     "name": "stdout",
     "output_type": "stream",
     "text": [
      "epoch: 3, [batch: 5040 / 12600], examples_per_second: 3142.3394, train_label_loss: 0.5710, \n"
     ]
    },
    {
     "name": "stdout",
     "output_type": "stream",
     "text": [
      "epoch: 3, [batch: 6300 / 12600], examples_per_second: 3147.8625, train_label_loss: 1.0174, \n"
     ]
    },
    {
     "name": "stdout",
     "output_type": "stream",
     "text": [
      "epoch: 3, [batch: 7560 / 12600], examples_per_second: 3138.3112, train_label_loss: 0.9064, \n"
     ]
    },
    {
     "name": "stdout",
     "output_type": "stream",
     "text": [
      "epoch: 3, [batch: 8820 / 12600], examples_per_second: 3138.7449, train_label_loss: 0.9948, \n"
     ]
    },
    {
     "name": "stdout",
     "output_type": "stream",
     "text": [
      "epoch: 3, [batch: 10080 / 12600], examples_per_second: 3147.8850, train_label_loss: 0.6038, \n"
     ]
    },
    {
     "name": "stdout",
     "output_type": "stream",
     "text": [
      "epoch: 3, [batch: 11340 / 12600], examples_per_second: 3141.7978, train_label_loss: 1.0864, \n"
     ]
    },
    {
     "name": "stdout",
     "output_type": "stream",
     "text": [
      "=============================================================\n",
      "epoch: 3, source_val_acc_label: 0.6977, target_val_acc_label: 0.5767, source_val_label_loss: 0.8091, target_val_label_loss: 1.2546, \n",
      "=============================================================\n"
     ]
    },
    {
     "name": "stdout",
     "output_type": "stream",
     "text": [
      "New best\n"
     ]
    },
    {
     "name": "stdout",
     "output_type": "stream",
     "text": [
      "epoch: 4, [batch: 1 / 12600], examples_per_second: 2.2329, train_label_loss: 0.4385, \n"
     ]
    },
    {
     "name": "stdout",
     "output_type": "stream",
     "text": [
      "epoch: 4, [batch: 1260 / 12600], examples_per_second: 3128.1631, train_label_loss: 0.7007, \n"
     ]
    },
    {
     "name": "stdout",
     "output_type": "stream",
     "text": [
      "epoch: 4, [batch: 2520 / 12600], examples_per_second: 3137.1518, train_label_loss: 0.7240, \n"
     ]
    },
    {
     "name": "stdout",
     "output_type": "stream",
     "text": [
      "epoch: 4, [batch: 3780 / 12600], examples_per_second: 3152.6613, train_label_loss: 0.6166, \n"
     ]
    },
    {
     "name": "stdout",
     "output_type": "stream",
     "text": [
      "epoch: 4, [batch: 5040 / 12600], examples_per_second: 3135.0257, train_label_loss: 0.4942, \n"
     ]
    },
    {
     "name": "stdout",
     "output_type": "stream",
     "text": [
      "epoch: 4, [batch: 6300 / 12600], examples_per_second: 3144.7357, train_label_loss: 0.3641, \n"
     ]
    },
    {
     "name": "stdout",
     "output_type": "stream",
     "text": [
      "epoch: 4, [batch: 7560 / 12600], examples_per_second: 3152.9101, train_label_loss: 0.7952, \n"
     ]
    },
    {
     "name": "stdout",
     "output_type": "stream",
     "text": [
      "epoch: 4, [batch: 8820 / 12600], examples_per_second: 3136.6883, train_label_loss: 0.5580, \n"
     ]
    },
    {
     "name": "stdout",
     "output_type": "stream",
     "text": [
      "epoch: 4, [batch: 10080 / 12600], examples_per_second: 3149.7424, train_label_loss: 0.5576, \n"
     ]
    },
    {
     "name": "stdout",
     "output_type": "stream",
     "text": [
      "epoch: 4, [batch: 11340 / 12600], examples_per_second: 3143.5036, train_label_loss: 0.5189, \n"
     ]
    },
    {
     "name": "stdout",
     "output_type": "stream",
     "text": [
      "=============================================================\n",
      "epoch: 4, source_val_acc_label: 0.7043, target_val_acc_label: 0.5836, source_val_label_loss: 0.7932, target_val_label_loss: 1.2266, \n",
      "=============================================================\n"
     ]
    },
    {
     "name": "stdout",
     "output_type": "stream",
     "text": [
      "New best\n"
     ]
    },
    {
     "name": "stdout",
     "output_type": "stream",
     "text": [
      "epoch: 5, [batch: 1 / 12600], examples_per_second: 2.2257, train_label_loss: 0.4680, \n"
     ]
    },
    {
     "name": "stdout",
     "output_type": "stream",
     "text": [
      "epoch: 5, [batch: 1260 / 12600], examples_per_second: 3134.6984, train_label_loss: 0.5488, \n"
     ]
    },
    {
     "name": "stdout",
     "output_type": "stream",
     "text": [
      "epoch: 5, [batch: 2520 / 12600], examples_per_second: 3150.4888, train_label_loss: 0.6091, \n"
     ]
    },
    {
     "name": "stdout",
     "output_type": "stream",
     "text": [
      "epoch: 5, [batch: 3780 / 12600], examples_per_second: 3152.3056, train_label_loss: 0.5089, \n"
     ]
    },
    {
     "name": "stdout",
     "output_type": "stream",
     "text": [
      "epoch: 5, [batch: 5040 / 12600], examples_per_second: 3137.3896, train_label_loss: 0.5323, \n"
     ]
    },
    {
     "name": "stdout",
     "output_type": "stream",
     "text": [
      "epoch: 5, [batch: 6300 / 12600], examples_per_second: 3151.7575, train_label_loss: 0.4382, \n"
     ]
    },
    {
     "name": "stdout",
     "output_type": "stream",
     "text": [
      "epoch: 5, [batch: 7560 / 12600], examples_per_second: 3150.8320, train_label_loss: 0.5127, \n"
     ]
    },
    {
     "name": "stdout",
     "output_type": "stream",
     "text": [
      "epoch: 5, [batch: 8820 / 12600], examples_per_second: 3143.5314, train_label_loss: 0.3533, \n"
     ]
    },
    {
     "name": "stdout",
     "output_type": "stream",
     "text": [
      "epoch: 5, [batch: 10080 / 12600], examples_per_second: 3160.7329, train_label_loss: 0.5758, \n"
     ]
    },
    {
     "name": "stdout",
     "output_type": "stream",
     "text": [
      "epoch: 5, [batch: 11340 / 12600], examples_per_second: 3153.2475, train_label_loss: 0.5058, \n"
     ]
    },
    {
     "name": "stdout",
     "output_type": "stream",
     "text": [
      "=============================================================\n",
      "epoch: 5, source_val_acc_label: 0.7063, target_val_acc_label: 0.5870, source_val_label_loss: 0.8041, target_val_label_loss: 1.2576, \n",
      "=============================================================\n"
     ]
    },
    {
     "name": "stdout",
     "output_type": "stream",
     "text": [
      "New best\n"
     ]
    },
    {
     "name": "stdout",
     "output_type": "stream",
     "text": [
      "epoch: 6, [batch: 1 / 12600], examples_per_second: 2.2367, train_label_loss: 0.5167, \n"
     ]
    },
    {
     "name": "stdout",
     "output_type": "stream",
     "text": [
      "epoch: 6, [batch: 1260 / 12600], examples_per_second: 3124.5345, train_label_loss: 0.3913, \n"
     ]
    },
    {
     "name": "stdout",
     "output_type": "stream",
     "text": [
      "epoch: 6, [batch: 2520 / 12600], examples_per_second: 3142.8063, train_label_loss: 0.3913, \n"
     ]
    },
    {
     "name": "stdout",
     "output_type": "stream",
     "text": [
      "epoch: 6, [batch: 3780 / 12600], examples_per_second: 3151.1301, train_label_loss: 0.3952, \n"
     ]
    },
    {
     "name": "stdout",
     "output_type": "stream",
     "text": [
      "epoch: 6, [batch: 5040 / 12600], examples_per_second: 3141.4453, train_label_loss: 0.4904, \n"
     ]
    },
    {
     "name": "stdout",
     "output_type": "stream",
     "text": [
      "epoch: 6, [batch: 6300 / 12600], examples_per_second: 3146.6316, train_label_loss: 0.3140, \n"
     ]
    },
    {
     "name": "stdout",
     "output_type": "stream",
     "text": [
      "epoch: 6, [batch: 7560 / 12600], examples_per_second: 3153.0789, train_label_loss: 0.4976, \n"
     ]
    },
    {
     "name": "stdout",
     "output_type": "stream",
     "text": [
      "epoch: 6, [batch: 8820 / 12600], examples_per_second: 3140.5142, train_label_loss: 0.5139, \n"
     ]
    },
    {
     "name": "stdout",
     "output_type": "stream",
     "text": [
      "epoch: 6, [batch: 10080 / 12600], examples_per_second: 3149.3253, train_label_loss: 0.3683, \n"
     ]
    },
    {
     "name": "stdout",
     "output_type": "stream",
     "text": [
      "epoch: 6, [batch: 11340 / 12600], examples_per_second: 3150.3243, train_label_loss: 0.2936, \n"
     ]
    },
    {
     "name": "stdout",
     "output_type": "stream",
     "text": [
      "=============================================================\n",
      "epoch: 6, source_val_acc_label: 0.7094, target_val_acc_label: 0.5903, source_val_label_loss: 0.8212, target_val_label_loss: 1.2870, \n",
      "=============================================================\n"
     ]
    },
    {
     "name": "stdout",
     "output_type": "stream",
     "text": [
      "New best\n"
     ]
    },
    {
     "name": "stdout",
     "output_type": "stream",
     "text": [
      "epoch: 7, [batch: 1 / 12600], examples_per_second: 2.2262, train_label_loss: 0.4118, \n"
     ]
    },
    {
     "name": "stdout",
     "output_type": "stream",
     "text": [
      "epoch: 7, [batch: 1260 / 12600], examples_per_second: 3125.5751, train_label_loss: 0.3776, \n"
     ]
    },
    {
     "name": "stdout",
     "output_type": "stream",
     "text": [
      "epoch: 7, [batch: 2520 / 12600], examples_per_second: 3138.6853, train_label_loss: 0.3928, \n"
     ]
    },
    {
     "name": "stdout",
     "output_type": "stream",
     "text": [
      "epoch: 7, [batch: 3780 / 12600], examples_per_second: 3148.0291, train_label_loss: 0.5602, \n"
     ]
    },
    {
     "name": "stdout",
     "output_type": "stream",
     "text": [
      "epoch: 7, [batch: 5040 / 12600], examples_per_second: 3137.5605, train_label_loss: 0.3793, \n"
     ]
    },
    {
     "name": "stdout",
     "output_type": "stream",
     "text": [
      "epoch: 7, [batch: 6300 / 12600], examples_per_second: 3145.0642, train_label_loss: 0.4310, \n"
     ]
    },
    {
     "name": "stdout",
     "output_type": "stream",
     "text": [
      "epoch: 7, [batch: 7560 / 12600], examples_per_second: 3149.8029, train_label_loss: 0.3187, \n"
     ]
    },
    {
     "name": "stdout",
     "output_type": "stream",
     "text": [
      "epoch: 7, [batch: 8820 / 12600], examples_per_second: 3141.9879, train_label_loss: 0.3286, \n"
     ]
    },
    {
     "name": "stdout",
     "output_type": "stream",
     "text": [
      "epoch: 7, [batch: 10080 / 12600], examples_per_second: 3130.5943, train_label_loss: 0.7199, \n"
     ]
    },
    {
     "name": "stdout",
     "output_type": "stream",
     "text": [
      "epoch: 7, [batch: 11340 / 12600], examples_per_second: 3150.0314, train_label_loss: 0.3483, \n"
     ]
    },
    {
     "name": "stdout",
     "output_type": "stream",
     "text": [
      "=============================================================\n",
      "epoch: 7, source_val_acc_label: 0.7149, target_val_acc_label: 0.5945, source_val_label_loss: 0.8567, target_val_label_loss: 1.3513, \n",
      "=============================================================\n"
     ]
    },
    {
     "name": "stdout",
     "output_type": "stream",
     "text": [
      "New best\n"
     ]
    },
    {
     "name": "stdout",
     "output_type": "stream",
     "text": [
      "epoch: 8, [batch: 1 / 12600], examples_per_second: 2.2304, train_label_loss: 0.2543, \n"
     ]
    },
    {
     "name": "stdout",
     "output_type": "stream",
     "text": [
      "epoch: 8, [batch: 1260 / 12600], examples_per_second: 3129.3002, train_label_loss: 0.3466, \n"
     ]
    },
    {
     "name": "stdout",
     "output_type": "stream",
     "text": [
      "epoch: 8, [batch: 2520 / 12600], examples_per_second: 3150.9734, train_label_loss: 0.3372, \n"
     ]
    },
    {
     "name": "stdout",
     "output_type": "stream",
     "text": [
      "epoch: 8, [batch: 3780 / 12600], examples_per_second: 3152.6224, train_label_loss: 0.3451, \n"
     ]
    },
    {
     "name": "stdout",
     "output_type": "stream",
     "text": [
      "epoch: 8, [batch: 5040 / 12600], examples_per_second: 3150.5424, train_label_loss: 0.5867, \n"
     ]
    },
    {
     "name": "stdout",
     "output_type": "stream",
     "text": [
      "epoch: 8, [batch: 6300 / 12600], examples_per_second: 3148.2533, train_label_loss: 0.4272, \n"
     ]
    },
    {
     "name": "stdout",
     "output_type": "stream",
     "text": [
      "epoch: 8, [batch: 7560 / 12600], examples_per_second: 3156.6145, train_label_loss: 0.4125, \n"
     ]
    },
    {
     "name": "stdout",
     "output_type": "stream",
     "text": [
      "epoch: 8, [batch: 8820 / 12600], examples_per_second: 3143.3209, train_label_loss: 0.2780, \n"
     ]
    },
    {
     "name": "stdout",
     "output_type": "stream",
     "text": [
      "epoch: 8, [batch: 10080 / 12600], examples_per_second: 3138.1407, train_label_loss: 0.2967, \n"
     ]
    },
    {
     "name": "stdout",
     "output_type": "stream",
     "text": [
      "epoch: 8, [batch: 11340 / 12600], examples_per_second: 3153.4392, train_label_loss: 0.1998, \n"
     ]
    },
    {
     "name": "stdout",
     "output_type": "stream",
     "text": [
      "=============================================================\n",
      "epoch: 8, source_val_acc_label: 0.7093, target_val_acc_label: 0.5919, source_val_label_loss: 0.8578, target_val_label_loss: 1.3483, \n",
      "=============================================================\n"
     ]
    },
    {
     "name": "stdout",
     "output_type": "stream",
     "text": [
      "epoch: 9, [batch: 1 / 12600], examples_per_second: 2.2432, train_label_loss: 0.3489, \n"
     ]
    },
    {
     "name": "stdout",
     "output_type": "stream",
     "text": [
      "epoch: 9, [batch: 1260 / 12600], examples_per_second: 3131.5910, train_label_loss: 0.4172, \n"
     ]
    },
    {
     "name": "stdout",
     "output_type": "stream",
     "text": [
      "epoch: 9, [batch: 2520 / 12600], examples_per_second: 3145.8911, train_label_loss: 0.3377, \n"
     ]
    },
    {
     "name": "stdout",
     "output_type": "stream",
     "text": [
      "epoch: 9, [batch: 3780 / 12600], examples_per_second: 3148.7511, train_label_loss: 0.3720, \n"
     ]
    },
    {
     "name": "stdout",
     "output_type": "stream",
     "text": [
      "epoch: 9, [batch: 5040 / 12600], examples_per_second: 3141.5526, train_label_loss: 0.3267, \n"
     ]
    },
    {
     "name": "stdout",
     "output_type": "stream",
     "text": [
      "epoch: 9, [batch: 6300 / 12600], examples_per_second: 3145.1145, train_label_loss: 0.2653, \n"
     ]
    },
    {
     "name": "stdout",
     "output_type": "stream",
     "text": [
      "epoch: 9, [batch: 7560 / 12600], examples_per_second: 3146.2953, train_label_loss: 0.2970, \n"
     ]
    },
    {
     "name": "stdout",
     "output_type": "stream",
     "text": [
      "epoch: 9, [batch: 8820 / 12600], examples_per_second: 3133.6452, train_label_loss: 0.3486, \n"
     ]
    },
    {
     "name": "stdout",
     "output_type": "stream",
     "text": [
      "epoch: 9, [batch: 10080 / 12600], examples_per_second: 3141.3064, train_label_loss: 0.4652, \n"
     ]
    },
    {
     "name": "stdout",
     "output_type": "stream",
     "text": [
      "epoch: 9, [batch: 11340 / 12600], examples_per_second: 3147.7819, train_label_loss: 0.3669, \n"
     ]
    },
    {
     "name": "stdout",
     "output_type": "stream",
     "text": [
      "=============================================================\n",
      "epoch: 9, source_val_acc_label: 0.7105, target_val_acc_label: 0.5891, source_val_label_loss: 0.8921, target_val_label_loss: 1.3996, \n",
      "=============================================================\n"
     ]
    },
    {
     "name": "stdout",
     "output_type": "stream",
     "text": [
      "epoch: 10, [batch: 1 / 12600], examples_per_second: 2.2264, train_label_loss: 0.2011, \n"
     ]
    },
    {
     "name": "stdout",
     "output_type": "stream",
     "text": [
      "epoch: 10, [batch: 1260 / 12600], examples_per_second: 3125.8739, train_label_loss: 0.1342, \n"
     ]
    },
    {
     "name": "stdout",
     "output_type": "stream",
     "text": [
      "epoch: 10, [batch: 2520 / 12600], examples_per_second: 3136.5607, train_label_loss: 0.1042, \n"
     ]
    },
    {
     "name": "stdout",
     "output_type": "stream",
     "text": [
      "epoch: 10, [batch: 3780 / 12600], examples_per_second: 3149.9558, train_label_loss: 0.1428, \n"
     ]
    },
    {
     "name": "stdout",
     "output_type": "stream",
     "text": [
      "epoch: 10, [batch: 5040 / 12600], examples_per_second: 3143.7680, train_label_loss: 0.3804, \n"
     ]
    },
    {
     "name": "stdout",
     "output_type": "stream",
     "text": [
      "epoch: 10, [batch: 6300 / 12600], examples_per_second: 3144.6206, train_label_loss: 0.4201, \n"
     ]
    },
    {
     "name": "stdout",
     "output_type": "stream",
     "text": [
      "epoch: 10, [batch: 7560 / 12600], examples_per_second: 3145.0237, train_label_loss: 0.1866, \n"
     ]
    },
    {
     "name": "stdout",
     "output_type": "stream",
     "text": [
      "epoch: 10, [batch: 8820 / 12600], examples_per_second: 3144.8281, train_label_loss: 0.0851, \n"
     ]
    },
    {
     "name": "stdout",
     "output_type": "stream",
     "text": [
      "epoch: 10, [batch: 10080 / 12600], examples_per_second: 3146.4624, train_label_loss: 0.4997, \n"
     ]
    },
    {
     "name": "stdout",
     "output_type": "stream",
     "text": [
      "epoch: 10, [batch: 11340 / 12600], examples_per_second: 3146.7439, train_label_loss: 0.1484, \n"
     ]
    },
    {
     "name": "stdout",
     "output_type": "stream",
     "text": [
      "=============================================================\n",
      "epoch: 10, source_val_acc_label: 0.7130, target_val_acc_label: 0.5900, source_val_label_loss: 0.9459, target_val_label_loss: 1.5035, \n",
      "=============================================================\n"
     ]
    },
    {
     "name": "stdout",
     "output_type": "stream",
     "text": [
      "epoch: 11, [batch: 1 / 12600], examples_per_second: 2.2326, train_label_loss: 0.0981, \n"
     ]
    },
    {
     "name": "stdout",
     "output_type": "stream",
     "text": [
      "epoch: 11, [batch: 1260 / 12600], examples_per_second: 3134.9817, train_label_loss: 0.2416, \n"
     ]
    },
    {
     "name": "stdout",
     "output_type": "stream",
     "text": [
      "epoch: 11, [batch: 2520 / 12600], examples_per_second: 3140.6922, train_label_loss: 0.2584, \n"
     ]
    },
    {
     "name": "stdout",
     "output_type": "stream",
     "text": [
      "epoch: 11, [batch: 3780 / 12600], examples_per_second: 3146.7089, train_label_loss: 0.7706, \n"
     ]
    },
    {
     "name": "stdout",
     "output_type": "stream",
     "text": [
      "epoch: 11, [batch: 5040 / 12600], examples_per_second: 3131.1899, train_label_loss: 0.3774, \n"
     ]
    },
    {
     "name": "stdout",
     "output_type": "stream",
     "text": [
      "epoch: 11, [batch: 6300 / 12600], examples_per_second: 3160.1786, train_label_loss: 0.3252, \n"
     ]
    },
    {
     "name": "stdout",
     "output_type": "stream",
     "text": [
      "epoch: 11, [batch: 7560 / 12600], examples_per_second: 3146.3800, train_label_loss: 0.7761, \n"
     ]
    },
    {
     "name": "stdout",
     "output_type": "stream",
     "text": [
      "epoch: 11, [batch: 8820 / 12600], examples_per_second: 3133.3994, train_label_loss: 0.2018, \n"
     ]
    },
    {
     "name": "stdout",
     "output_type": "stream",
     "text": [
      "epoch: 11, [batch: 10080 / 12600], examples_per_second: 3154.2899, train_label_loss: 0.3878, \n"
     ]
    },
    {
     "name": "stdout",
     "output_type": "stream",
     "text": [
      "epoch: 11, [batch: 11340 / 12600], examples_per_second: 3154.6025, train_label_loss: 0.1179, \n"
     ]
    },
    {
     "name": "stdout",
     "output_type": "stream",
     "text": [
      "=============================================================\n",
      "epoch: 11, source_val_acc_label: 0.7039, target_val_acc_label: 0.5836, source_val_label_loss: 0.9844, target_val_label_loss: 1.5155, \n",
      "=============================================================\n"
     ]
    },
    {
     "name": "stdout",
     "output_type": "stream",
     "text": [
      "Patience (3) exhausted\n"
     ]
    }
   ],
   "source": [
    "###################################\n",
    "# train\n",
    "###################################\n",
    "jig = PTN_Train_Eval_Test_Jig(model, p.BEST_MODEL_PATH, p.device)\n",
    "\n",
    "jig.train(\n",
    "    train_iterable=datasets.source.processed.train,\n",
    "    source_val_iterable=datasets.source.processed.val,\n",
    "    target_val_iterable=datasets.target.processed.val,\n",
    "    num_epochs=p.n_epoch,\n",
    "    num_logs_per_epoch=p.NUM_LOGS_PER_EPOCH,\n",
    "    patience=p.patience,\n",
    "    optimizer=optimizer,\n",
    "    criteria_for_best=p.criteria_for_best,\n",
    ")"
   ]
  },
  {
   "cell_type": "code",
   "execution_count": 14,
   "id": "31e8fabf",
   "metadata": {
    "execution": {
     "iopub.execute_input": "2022-03-21T17:15:35.131482Z",
     "iopub.status.busy": "2022-03-21T17:15:35.131072Z",
     "iopub.status.idle": "2022-03-21T17:15:35.145685Z",
     "shell.execute_reply": "2022-03-21T17:15:35.145439Z"
    },
    "papermill": {
     "duration": 0.050023,
     "end_time": "2022-03-21T17:15:35.145748",
     "exception": false,
     "start_time": "2022-03-21T17:15:35.095725",
     "status": "completed"
    },
    "tags": []
   },
   "outputs": [],
   "source": [
    "total_experiment_time_secs = time.time() - start_time_secs"
   ]
  },
  {
   "cell_type": "code",
   "execution_count": 15,
   "id": "87b9595b",
   "metadata": {
    "execution": {
     "iopub.execute_input": "2022-03-21T17:15:35.215222Z",
     "iopub.status.busy": "2022-03-21T17:15:35.214813Z",
     "iopub.status.idle": "2022-03-21T17:19:38.496962Z",
     "shell.execute_reply": "2022-03-21T17:19:38.497376Z"
    },
    "papermill": {
     "duration": 243.318967,
     "end_time": "2022-03-21T17:19:38.497520",
     "exception": false,
     "start_time": "2022-03-21T17:15:35.178553",
     "status": "completed"
    },
    "tags": []
   },
   "outputs": [],
   "source": [
    "###################################\n",
    "# Evaluate the model\n",
    "###################################\n",
    "source_test_label_accuracy, source_test_label_loss = jig.test(datasets.source.processed.test)\n",
    "target_test_label_accuracy, target_test_label_loss = jig.test(datasets.target.processed.test)\n",
    "\n",
    "source_val_label_accuracy, source_val_label_loss = jig.test(datasets.source.processed.val)\n",
    "target_val_label_accuracy, target_val_label_loss = jig.test(datasets.target.processed.val)\n",
    "\n",
    "history = jig.get_history()\n",
    "\n",
    "total_epochs_trained = len(history[\"epoch_indices\"])\n",
    "\n",
    "val_dl = Iterable_Aggregator((datasets.source.original.val,datasets.target.original.val))\n",
    "\n",
    "confusion = ptn_confusion_by_domain_over_dataloader(model, p.device, val_dl)\n",
    "per_domain_accuracy = per_domain_accuracy_from_confusion(confusion)\n",
    "\n",
    "# Add a key to per_domain_accuracy for if it was a source domain\n",
    "for domain, accuracy in per_domain_accuracy.items():\n",
    "    per_domain_accuracy[domain] = {\n",
    "        \"accuracy\": accuracy,\n",
    "        \"source?\": domain in p.domains_source\n",
    "    }\n",
    "\n",
    "# Do an independent accuracy assesment JUST TO BE SURE!\n",
    "# _source_test_label_accuracy = independent_accuracy_assesment(model, datasets.source.processed.test, p.device)\n",
    "# _target_test_label_accuracy = independent_accuracy_assesment(model, datasets.target.processed.test, p.device)\n",
    "# _source_val_label_accuracy = independent_accuracy_assesment(model, datasets.source.processed.val, p.device)\n",
    "# _target_val_label_accuracy = independent_accuracy_assesment(model, datasets.target.processed.val, p.device)\n",
    "\n",
    "# assert(_source_test_label_accuracy == source_test_label_accuracy)\n",
    "# assert(_target_test_label_accuracy == target_test_label_accuracy)\n",
    "# assert(_source_val_label_accuracy == source_val_label_accuracy)\n",
    "# assert(_target_val_label_accuracy == target_val_label_accuracy)\n",
    "\n",
    "experiment = {\n",
    "    \"experiment_name\": p.experiment_name,\n",
    "    \"parameters\": dict(p),\n",
    "    \"results\": {\n",
    "        \"source_test_label_accuracy\": source_test_label_accuracy,\n",
    "        \"source_test_label_loss\": source_test_label_loss,\n",
    "        \"target_test_label_accuracy\": target_test_label_accuracy,\n",
    "        \"target_test_label_loss\": target_test_label_loss,\n",
    "        \"source_val_label_accuracy\": source_val_label_accuracy,\n",
    "        \"source_val_label_loss\": source_val_label_loss,\n",
    "        \"target_val_label_accuracy\": target_val_label_accuracy,\n",
    "        \"target_val_label_loss\": target_val_label_loss,\n",
    "        \"total_epochs_trained\": total_epochs_trained,\n",
    "        \"total_experiment_time_secs\": total_experiment_time_secs,\n",
    "        \"confusion\": confusion,\n",
    "        \"per_domain_accuracy\": per_domain_accuracy,\n",
    "    },\n",
    "    \"history\": history,\n",
    "    \"dataset_metrics\": get_dataset_metrics(datasets, \"ptn\"),\n",
    "}"
   ]
  },
  {
   "cell_type": "code",
   "execution_count": 16,
   "id": "54a21829",
   "metadata": {
    "execution": {
     "iopub.execute_input": "2022-03-21T17:19:38.571669Z",
     "iopub.status.busy": "2022-03-21T17:19:38.571146Z",
     "iopub.status.idle": "2022-03-21T17:19:38.698560Z",
     "shell.execute_reply": "2022-03-21T17:19:38.698940Z"
    },
    "papermill": {
     "duration": 0.163454,
     "end_time": "2022-03-21T17:19:38.699058",
     "exception": false,
     "start_time": "2022-03-21T17:19:38.535604",
     "status": "completed"
    },
    "tags": []
   },
   "outputs": [
    {
     "data": {
      "image/png": "[encoded data removed]",
      "text/plain": [
       "<Figure size 1080x504 with 1 Axes>"
      ]
     },
     "metadata": {
      "needs_background": "light"
     },
     "output_type": "display_data"
    }
   ],
   "source": [
    "ax = get_loss_curve(experiment)\n",
    "plt.show()"
   ]
  },
  {
   "cell_type": "code",
   "execution_count": 17,
   "id": "fd8a0f60",
   "metadata": {
    "execution": {
     "iopub.execute_input": "2022-03-21T17:19:38.772667Z",
     "iopub.status.busy": "2022-03-21T17:19:38.772416Z",
     "iopub.status.idle": "2022-03-21T17:19:38.914549Z",
     "shell.execute_reply": "2022-03-21T17:19:38.914325Z"
    },
    "papermill": {
     "duration": 0.178729,
     "end_time": "2022-03-21T17:19:38.914602",
     "exception": false,
     "start_time": "2022-03-21T17:19:38.735873",
     "status": "completed"
    },
    "tags": []
   },
   "outputs": [
    {
     "data": {
      "text/plain": [
       "<AxesSubplot:title={'center':'Results'}>"
      ]
     },
     "execution_count": 17,
     "metadata": {},
     "output_type": "execute_result"
    },
    {
     "data": {
      "image/png": "[encoded data removed]",
      "text/plain": [
       "<Figure size 1080x504 with 1 Axes>"
      ]
     },
     "metadata": {
      "needs_background": "light"
     },
     "output_type": "display_data"
    }
   ],
   "source": [
    "get_results_table(experiment)"
   ]
  },
  {
   "cell_type": "code",
   "execution_count": 18,
   "id": "cf8dc689",
   "metadata": {
    "execution": {
     "iopub.execute_input": "2022-03-21T17:19:38.988791Z",
     "iopub.status.busy": "2022-03-21T17:19:38.988154Z",
     "iopub.status.idle": "2022-03-21T17:19:39.105027Z",
     "shell.execute_reply": "2022-03-21T17:19:39.105427Z"
    },
    "papermill": {
     "duration": 0.154559,
     "end_time": "2022-03-21T17:19:39.105541",
     "exception": false,
     "start_time": "2022-03-21T17:19:38.950982",
     "status": "completed"
    },
    "tags": []
   },
   "outputs": [
    {
     "data": {
      "text/plain": [
       "<AxesSubplot:title={'center':'Per Domain Validation Accuracy'}, xlabel='domain'>"
      ]
     },
     "execution_count": 18,
     "metadata": {},
     "output_type": "execute_result"
    },
    {
     "data": {
      "image/png": "[encoded data removed]",
      "text/plain": [
       "<Figure size 1080x504 with 1 Axes>"
      ]
     },
     "metadata": {
      "needs_background": "light"
     },
     "output_type": "display_data"
    }
   ],
   "source": [
    "get_domain_accuracies(experiment)"
   ]
  },
  {
   "cell_type": "code",
   "execution_count": 19,
   "id": "a74ae082",
   "metadata": {
    "execution": {
     "iopub.execute_input": "2022-03-21T17:19:39.185837Z",
     "iopub.status.busy": "2022-03-21T17:19:39.185588Z",
     "iopub.status.idle": "2022-03-21T17:19:39.202618Z",
     "shell.execute_reply": "2022-03-21T17:19:39.202821Z"
    },
    "papermill": {
     "duration": 0.056417,
     "end_time": "2022-03-21T17:19:39.202881",
     "exception": false,
     "start_time": "2022-03-21T17:19:39.146464",
     "status": "completed"
    },
    "tags": []
   },
   "outputs": [
    {
     "name": "stdout",
     "output_type": "stream",
     "text": [
      "Source Test Label Accuracy: 0.7136458333333333 Target Test Label Accuracy: 0.5927708333333334\n",
      "Source Val Label Accuracy: 0.7149479166666667 Target Val Label Accuracy: 0.5945208333333334\n"
     ]
    }
   ],
   "source": [
    "print(\"Source Test Label Accuracy:\", experiment[\"results\"][\"source_test_label_accuracy\"], \"Target Test Label Accuracy:\", experiment[\"results\"][\"target_test_label_accuracy\"])\n",
    "print(\"Source Val Label Accuracy:\", experiment[\"results\"][\"source_val_label_accuracy\"], \"Target Val Label Accuracy:\", experiment[\"results\"][\"target_val_label_accuracy\"])"
   ]
  },
  {
   "cell_type": "code",
   "execution_count": 20,
   "id": "dacca602",
   "metadata": {
    "execution": {
     "iopub.execute_input": "2022-03-21T17:19:39.277557Z",
     "iopub.status.busy": "2022-03-21T17:19:39.277311Z",
     "iopub.status.idle": "2022-03-21T17:19:39.294485Z",
     "shell.execute_reply": "2022-03-21T17:19:39.294037Z"
    },
    "papermill": {
     "duration": 0.055455,
     "end_time": "2022-03-21T17:19:39.294576",
     "exception": false,
     "start_time": "2022-03-21T17:19:39.239121",
     "status": "completed"
    },
    "tags": [
     "experiment_json"
    ]
   },
   "outputs": [
    {
     "data": {
      "text/plain": [
       "'{\"experiment_name\": \"tuned_1v2:oracle.run2\", \"parameters\": {\"experiment_name\": \"tuned_1v2:oracle.run2\", \"device\": \"cuda\", \"lr\": 0.0001, \"labels_source\": [\"3123D52\", \"3123D65\", \"3123D79\", \"3123D80\", \"3123D54\", \"3123D70\", \"3123D7B\", \"3123D89\", \"3123D58\", \"3123D76\", \"3123D7D\", \"3123EFE\", \"3123D64\", \"3123D78\", \"3123D7E\", \"3124E4A\"], \"labels_target\": [\"3123D52\", \"3123D65\", \"3123D79\", \"3123D80\", \"3123D54\", \"3123D70\", \"3123D7B\", \"3123D89\", \"3123D58\", \"3123D76\", \"3123D7D\", \"3123EFE\", \"3123D64\", \"3123D78\", \"3123D7E\", \"3124E4A\"], \"episode_transforms_source\": [], \"episode_transforms_target\": [], \"domains_source\": [8, 32, 50], \"domains_target\": [14, 20, 26, 38, 44], \"num_examples_per_domain_per_label_source\": -1, \"num_examples_per_domain_per_label_target\": -1, \"n_shot\": 3, \"n_way\": 16, \"n_query\": 2, \"train_k_factor\": 3, \"val_k_factor\": 2, \"test_k_factor\": 2, \"torch_default_dtype\": \"torch.float32\", \"n_epoch\": 50, \"patience\": 3, \"criteria_for_best\": \"target_accuracy\", \"x_net\": [{\"class\": \"nnReshape\", \"kargs\": {\"shape\": [-1, 1, 2, 256]}}, {\"class\": \"Conv2d\", \"kargs\": {\"in_channels\": 1, \"out_channels\": 256, \"kernel_size\": [1, 7], \"bias\": false, \"padding\": [0, 3]}}, {\"class\": \"ReLU\", \"kargs\": {\"inplace\": true}}, {\"class\": \"BatchNorm2d\", \"kargs\": {\"num_features\": 256}}, {\"class\": \"Conv2d\", \"kargs\": {\"in_channels\": 256, \"out_channels\": 80, \"kernel_size\": [2, 7], \"bias\": true, \"padding\": [0, 3]}}, {\"class\": \"ReLU\", \"kargs\": {\"inplace\": true}}, {\"class\": \"BatchNorm2d\", \"kargs\": {\"num_features\": 80}}, {\"class\": \"Flatten\", \"kargs\": {}}, {\"class\": \"Linear\", \"kargs\": {\"in_features\": 20480, \"out_features\": 256}}, {\"class\": \"ReLU\", \"kargs\": {\"inplace\": true}}, {\"class\": \"BatchNorm1d\", \"kargs\": {\"num_features\": 256}}, {\"class\": \"Linear\", \"kargs\": {\"in_features\": 256, \"out_features\": 256}}], \"NUM_LOGS_PER_EPOCH\": 10, \"BEST_MODEL_PATH\": \"./best_model.pth\", \"pickle_name\": \"oracle.Run2_10kExamples_stratified_ds.2022A.pkl\", \"x_transforms_source\": [\"unit_power\"], \"x_transforms_target\": [\"unit_power\"], \"dataset_seed\": 1337, \"seed\": 1337}, \"results\": {\"source_test_label_accuracy\": 0.7136458333333333, \"source_test_label_loss\": 0.8451025485992432, \"target_test_label_accuracy\": 0.5927708333333334, \"target_test_label_loss\": 1.3627432584762573, \"source_val_label_accuracy\": 0.7149479166666667, \"source_val_label_loss\": 0.8567075133323669, \"target_val_label_accuracy\": 0.5945208333333334, \"target_val_label_loss\": 1.351326584815979, \"total_epochs_trained\": 11, \"total_experiment_time_secs\": 4045.8769011497498, \"confusion\": {\"8\": {\"15\": {\"7\": 14, \"15\": 623, \"11\": 222, \"12\": 197, \"8\": 120, \"3\": 18, \"2\": 3, \"6\": 2, \"4\": 1}, \"3\": {\"12\": 175, \"3\": 1013, \"15\": 10, \"2\": 2}, \"6\": {\"7\": 214, \"14\": 70, \"6\": 517, \"4\": 352, \"8\": 14, \"2\": 20, \"13\": 10, \"0\": 2, \"15\": 1}, \"1\": {\"1\": 996, \"13\": 133, \"10\": 25, \"5\": 44, \"14\": 2}, \"8\": {\"8\": 917, \"15\": 101, \"7\": 15, \"6\": 28, \"11\": 134, \"4\": 4, \"13\": 1}, \"10\": {\"5\": 141, \"10\": 728, \"0\": 189, \"14\": 46, \"13\": 77, \"1\": 19}, \"9\": {\"9\": 1200}, \"13\": {\"13\": 780, \"14\": 189, \"1\": 122, \"10\": 60, \"5\": 2, \"0\": 24, \"6\": 15, \"8\": 5, \"4\": 2, \"7\": 1}, \"12\": {\"12\": 882, \"3\": 166, \"11\": 33, \"15\": 119}, \"5\": {\"5\": 946, \"10\": 191, \"1\": 53, \"13\": 7, \"0\": 2, \"14\": 1}, \"0\": {\"0\": 747, \"10\": 172, \"13\": 19, \"14\": 251, \"6\": 4, \"5\": 4, \"4\": 3}, \"2\": {\"2\": 908, \"6\": 20, \"7\": 189, \"4\": 82, \"15\": 1}, \"11\": {\"8\": 275, \"15\": 216, \"12\": 109, \"11\": 595, \"3\": 1, \"7\": 1, \"6\": 2, \"4\": 1}, \"14\": {\"0\": 226, \"4\": 17, \"14\": 691, \"6\": 77, \"13\": 158, \"10\": 29, \"7\": 1, \"1\": 1}, \"7\": {\"7\": 519, \"4\": 281, \"2\": 177, \"6\": 211, \"8\": 10, \"15\": 2}, \"4\": {\"6\": 337, \"2\": 109, \"7\": 304, \"4\": 421, \"8\": 4, \"14\": 18, \"0\": 5, \"13\": 1, \"12\": 1}}, \"50\": {\"3\": {\"3\": 1151, \"8\": 49}, \"15\": {\"15\": 1053, \"11\": 64, \"1\": 71, \"6\": 9, \"14\": 2, \"4\": 1}, \"8\": {\"8\": 1184, \"3\": 16}, \"4\": {\"1\": 43, \"4\": 607, \"6\": 252, \"5\": 277, \"13\": 4, \"10\": 7, \"7\": 7, \"0\": 3}, \"14\": {\"12\": 22, \"14\": 1159, \"11\": 19}, \"0\": {\"2\": 108, \"0\": 1059, \"10\": 29, \"6\": 2, \"5\": 2}, \"7\": {\"7\": 495, \"13\": 473, \"10\": 110, \"5\": 117, \"4\": 4, \"0\": 1}, \"6\": {\"1\": 299, \"6\": 592, \"4\": 251, \"5\": 43, \"2\": 1, \"15\": 12, \"7\": 1, \"0\": 1}, \"10\": {\"10\": 869, \"13\": 161, \"5\": 72, \"7\": 68, \"0\": 26, \"4\": 4}, \"5\": {\"5\": 639, \"6\": 47, \"4\": 291, \"10\": 69, \"7\": 71, \"0\": 16, \"13\": 60, \"1\": 5, \"2\": 2}, \"2\": {\"2\": 1138, \"0\": 61, \"14\": 1}, \"12\": {\"12\": 1049, \"14\": 68, \"9\": 77, \"11\": 6}, \"9\": {\"9\": 1115, \"12\": 71, \"11\": 14}, \"1\": {\"1\": 829, \"15\": 73, \"6\": 264, \"4\": 28, \"2\": 2, \"14\": 2, \"0\": 1, \"5\": 1}, \"11\": {\"11\": 1094, \"9\": 27, \"15\": 34, \"14\": 32, \"12\": 13}, \"13\": {\"7\": 454, \"13\": 519, \"10\": 172, \"4\": 2, \"5\": 53}}, \"32\": {\"5\": {\"14\": 76, \"5\": 437, \"2\": 137, \"13\": 84, \"0\": 147, \"8\": 137, \"15\": 3, \"4\": 136, \"11\": 24, \"7\": 12, \"3\": 7}, \"8\": {\"8\": 876, \"7\": 3, \"5\": 69, \"13\": 96, \"3\": 15, \"0\": 67, \"4\": 58, \"11\": 9, \"15\": 7}, \"11\": {\"11\": 496, \"4\": 92, \"2\": 57, \"13\": 115, \"0\": 129, \"7\": 285, \"5\": 15, \"8\": 9, \"14\": 2}, \"1\": {\"1\": 1194, \"10\": 6}, \"10\": {\"10\": 1199, \"1\": 1}, \"15\": {\"15\": 1184, \"8\": 15, \"3\": 1}, \"3\": {\"3\": 1123, \"13\": 46, \"8\": 24, \"11\": 1, \"7\": 4, \"4\": 1, \"5\": 1}, \"7\": {\"13\": 165, \"7\": 664, \"11\": 265, \"0\": 18, \"4\": 72, \"5\": 3, \"8\": 2, \"2\": 9, \"3\": 2}, \"4\": {\"7\": 61, \"4\": 448, \"0\": 181, \"13\": 203, \"11\": 96, \"8\": 60, \"5\": 127, \"2\": 24}, \"14\": {\"14\": 999, \"2\": 147, \"5\": 30, \"7\": 1, \"0\": 13, \"11\": 8, \"4\": 1, \"9\": 1}, \"9\": {\"9\": 1173, \"14\": 27}, \"12\": {\"12\": 1200}, \"6\": {\"6\": 1200}, \"2\": {\"2\": 915, \"5\": 78, \"14\": 103, \"0\": 32, \"4\": 29, \"7\": 15, \"11\": 28}, \"0\": {\"0\": 476, \"5\": 194, \"4\": 163, \"11\": 171, \"13\": 47, \"2\": 52, \"14\": 12, \"8\": 68, \"7\": 16, \"3\": 1}, \"13\": {\"4\": 202, \"3\": 33, \"13\": 562, \"11\": 104, \"5\": 30, \"7\": 147, \"8\": 68, \"0\": 53, \"2\": 1}}, \"14\": {\"15\": {\"15\": 1129, \"7\": 70, \"5\": 1}, \"3\": {\"3\": 906, \"5\": 72, \"4\": 138, \"1\": 14, \"14\": 39, \"2\": 26, \"0\": 5}, \"6\": {\"2\": 81, \"6\": 663, \"14\": 184, \"13\": 262, \"4\": 8, \"5\": 1, \"3\": 1}, \"1\": {\"1\": 993, \"5\": 136, \"4\": 60, \"2\": 6, \"3\": 4, \"7\": 1}, \"8\": {\"8\": 1200}, \"10\": {\"10\": 992, \"0\": 178, \"11\": 26, \"14\": 2, \"12\": 2}, \"9\": {\"9\": 1187, \"12\": 8, \"0\": 5}, \"13\": {\"13\": 822, \"6\": 285, \"2\": 78, \"14\": 15}, \"12\": {\"8\": 41, \"12\": 592, \"0\": 79, \"11\": 322, \"9\": 102, \"10\": 60, \"14\": 3, \"3\": 1}, \"5\": {\"4\": 377, \"1\": 151, \"5\": 494, \"3\": 69, \"2\": 98, \"14\": 9, \"6\": 2}, \"0\": {\"0\": 1130, \"10\": 55, \"9\": 2, \"14\": 4, \"3\": 8, \"12\": 1}, \"2\": {\"14\": 161, \"2\": 432, \"5\": 153, \"3\": 80, \"1\": 11, \"13\": 140, \"4\": 150, \"6\": 67, \"15\": 3, \"7\": 3}, \"11\": {\"11\": 1128, \"10\": 24, \"9\": 12, \"12\": 36}, \"14\": {\"14\": 698, \"2\": 146, \"6\": 196, \"3\": 77, \"0\": 16, \"13\": 24, \"5\": 16, \"4\": 27}, \"7\": {\"7\": 1159, \"15\": 39, \"1\": 2}, \"4\": {\"4\": 518, \"2\": 85, \"5\": 389, \"3\": 132, \"1\": 61, \"14\": 13, \"6\": 2}}, \"20\": {\"3\": {\"9\": 128, \"5\": 222, \"2\": 169, \"3\": 326, \"7\": 189, \"8\": 25, \"0\": 11, \"10\": 16, \"13\": 20, \"4\": 30, \"12\": 39, \"15\": 22, \"1\": 2, \"11\": 1}, \"15\": {\"15\": 303, \"13\": 287, \"5\": 54, \"12\": 101, \"3\": 23, \"2\": 119, \"9\": 120, \"0\": 54, \"1\": 135, \"4\": 2, \"7\": 2}, \"8\": {\"8\": 537, \"14\": 156, \"4\": 46, \"7\": 165, \"10\": 202, \"3\": 26, \"6\": 46, \"9\": 1, \"5\": 17, \"12\": 2, \"2\": 2}, \"4\": {\"4\": 888, \"8\": 33, \"0\": 75, \"5\": 45, \"1\": 10, \"3\": 33, \"9\": 13, \"2\": 4, \"12\": 63, \"10\": 31, \"14\": 4, \"15\": 1}, \"14\": {\"14\": 702, \"8\": 139, \"10\": 223, \"7\": 9, \"6\": 122, \"4\": 3, \"5\": 2}, \"0\": {\"12\": 178, \"0\": 453, \"1\": 233, \"4\": 118, \"3\": 8, \"15\": 77, \"13\": 11, \"9\": 27, \"2\": 24, \"5\": 67, \"8\": 4}, \"7\": {\"8\": 161, \"6\": 41, \"7\": 726, \"5\": 40, \"3\": 144, \"2\": 34, \"10\": 42, \"4\": 1, \"14\": 5, \"9\": 3, \"0\": 1, \"11\": 2}, \"6\": {\"10\": 31, \"6\": 1017, \"7\": 36, \"14\": 83, \"8\": 33}, \"10\": {\"4\": 30, \"10\": 648, \"14\": 221, \"8\": 195, \"6\": 43, \"7\": 49, \"3\": 13, \"12\": 1}, \"5\": {\"12\": 126, \"5\": 260, \"9\": 122, \"0\": 65, \"2\": 198, \"1\": 33, \"3\": 179, \"7\": 49, \"15\": 76, \"8\": 20, \"13\": 20, \"4\": 49, \"10\": 3}, \"2\": {\"4\": 13, \"5\": 158, \"2\": 298, \"9\": 212, \"3\": 193, \"1\": 10, \"7\": 42, \"13\": 93, \"15\": 109, \"0\": 11, \"12\": 56, \"8\": 4, \"10\": 1}, \"12\": {\"1\": 209, \"5\": 104, \"15\": 108, \"12\": 327, \"3\": 32, \"9\": 123, \"0\": 174, \"2\": 59, \"4\": 51, \"13\": 13}, \"9\": {\"3\": 152, \"5\": 111, \"12\": 115, \"9\": 269, \"0\": 20, \"15\": 129, \"2\": 249, \"8\": 1, \"7\": 12, \"13\": 91, \"1\": 38, \"4\": 12, \"10\": 1}, \"1\": {\"1\": 524, \"12\": 211, \"5\": 18, \"0\": 205, \"15\": 133, \"4\": 12, \"9\": 44, \"13\": 29, \"2\": 22, \"3\": 2}, \"11\": {\"11\": 1199, \"7\": 1}, \"13\": {\"13\": 763, \"15\": 234, \"5\": 18, \"2\": 80, \"12\": 12, \"1\": 30, \"9\": 52, \"3\": 10, \"0\": 1}}, \"44\": {\"5\": {\"5\": 1033, \"14\": 141, \"8\": 14, \"15\": 4, \"0\": 8}, \"8\": {\"0\": 472, \"8\": 690, \"15\": 16, \"14\": 10, \"5\": 12}, \"11\": {\"11\": 1113, \"7\": 6, \"6\": 79, \"2\": 1, \"9\": 1}, \"1\": {\"1\": 690, \"12\": 325, \"3\": 175, \"7\": 3, \"10\": 5, \"2\": 2}, \"10\": {\"10\": 1143, \"12\": 35, \"1\": 20, \"7\": 2}, \"15\": {\"14\": 110, \"15\": 1017, \"8\": 8, \"4\": 62, \"5\": 2, \"13\": 1}, \"3\": {\"3\": 988, \"1\": 155, \"12\": 56, \"2\": 1}, \"7\": {\"9\": 320, \"7\": 565, \"2\": 292, \"1\": 10, \"11\": 1, \"6\": 12}, \"4\": {\"4\": 1056, \"15\": 55, \"14\": 68, \"13\": 20, \"5\": 1}, \"14\": {\"14\": 893, \"5\": 89, \"4\": 77, \"15\": 136, \"13\": 3, \"8\": 2}, \"9\": {\"9\": 479, \"2\": 385, \"7\": 306, \"6\": 27, \"1\": 2, \"3\": 1}, \"12\": {\"12\": 773, \"1\": 337, \"10\": 9, \"3\": 80, \"7\": 1}, \"6\": {\"6\": 1086, \"7\": 8, \"9\": 39, \"13\": 18, \"11\": 42, \"2\": 7}, \"2\": {\"9\": 321, \"2\": 609, \"7\": 259, \"1\": 2, \"6\": 4, \"3\": 5}, \"0\": {\"8\": 530, \"0\": 659, \"5\": 7, \"15\": 4}, \"13\": {\"13\": 1114, \"4\": 58, \"6\": 26, \"9\": 2}}, \"38\": {\"14\": {\"14\": 619, \"2\": 260, \"12\": 150, \"11\": 139, \"5\": 7, \"7\": 8, \"10\": 3, \"13\": 10, \"8\": 2, \"15\": 1, \"4\": 1}, \"0\": {\"0\": 876, \"3\": 278, \"9\": 7, \"5\": 1, \"7\": 9, \"10\": 14, \"8\": 3, \"6\": 8, \"13\": 3, \"15\": 1}, \"13\": {\"5\": 197, \"2\": 17, \"7\": 50, \"15\": 252, \"8\": 195, \"13\": 241, \"3\": 96, \"1\": 96, \"14\": 13, \"0\": 17, \"10\": 16, \"6\": 9, \"9\": 1}, \"7\": {\"10\": 416, \"5\": 114, \"7\": 527, \"8\": 67, \"3\": 23, \"15\": 14, \"13\": 34, \"0\": 5}, \"9\": {\"6\": 439, \"9\": 746, \"3\": 14, \"0\": 1}, \"3\": {\"0\": 305, \"3\": 306, \"10\": 84, \"8\": 74, \"9\": 66, \"6\": 86, \"7\": 85, \"15\": 93, \"13\": 54, \"1\": 6, \"5\": 41}, \"11\": {\"11\": 957, \"14\": 115, \"12\": 116, \"2\": 9, \"4\": 3}, \"6\": {\"6\": 824, \"9\": 360, \"3\": 15, \"0\": 1}, \"8\": {\"5\": 293, \"13\": 199, \"8\": 319, \"15\": 213, \"7\": 99, \"3\": 41, \"1\": 9, \"10\": 26, \"6\": 1}, \"4\": {\"7\": 3, \"12\": 94, \"4\": 1099, \"10\": 3, \"11\": 1}, \"5\": {\"15\": 141, \"5\": 402, \"13\": 165, \"8\": 317, \"14\": 1, \"7\": 118, \"3\": 23, \"10\": 30, \"1\": 1, \"0\": 2}, \"10\": {\"7\": 429, \"8\": 45, \"5\": 39, \"10\": 610, \"3\": 41, \"15\": 6, \"0\": 15, \"13\": 15}, \"1\": {\"1\": 1076, \"15\": 67, \"13\": 45, \"8\": 8, \"5\": 4}, \"2\": {\"2\": 1036, \"14\": 162, \"11\": 1, \"12\": 1}, \"15\": {\"3\": 88, \"13\": 230, \"8\": 202, \"15\": 398, \"7\": 10, \"1\": 112, \"5\": 124, \"0\": 10, \"10\": 8, \"6\": 16, \"9\": 2}, \"12\": {\"12\": 1117, \"4\": 47, \"14\": 27, \"11\": 6, \"7\": 2, \"10\": 1}}, \"26\": {\"13\": {\"5\": 236, \"13\": 781, \"7\": 12, \"6\": 51, \"2\": 6, \"9\": 108, \"8\": 5, \"10\": 1}, \"2\": {\"4\": 128, \"3\": 129, \"2\": 289, \"15\": 139, \"7\": 302, \"5\": 47, \"8\": 103, \"9\": 30, \"0\": 21, \"14\": 4, \"10\": 5, \"13\": 3}, \"8\": {\"14\": 99, \"9\": 158, \"8\": 398, \"0\": 87, \"5\": 45, \"7\": 99, \"1\": 13, \"10\": 67, \"6\": 37, \"4\": 86, \"2\": 91, \"13\": 10, \"15\": 5, \"3\": 5}, \"9\": {\"7\": 61, \"3\": 3, \"6\": 112, \"9\": 455, \"5\": 182, \"8\": 149, \"13\": 116, \"10\": 22, \"14\": 14, \"4\": 7, \"2\": 58, \"0\": 11, \"15\": 9, \"1\": 1}, \"12\": {\"12\": 1194, \"11\": 6}, \"4\": {\"8\": 70, \"2\": 119, \"4\": 544, \"3\": 102, \"0\": 115, \"7\": 79, \"10\": 23, \"14\": 73, \"1\": 14, \"15\": 59, \"5\": 2}, \"3\": {\"15\": 356, \"3\": 546, \"2\": 130, \"7\": 82, \"4\": 74, \"5\": 7, \"0\": 1, \"9\": 2, \"8\": 2}, \"15\": {\"3\": 404, \"15\": 470, \"2\": 127, \"4\": 74, \"7\": 99, \"0\": 5, \"8\": 7, \"9\": 4, \"5\": 8, \"10\": 1, \"13\": 1}, \"14\": {\"1\": 273, \"14\": 289, \"4\": 68, \"10\": 178, \"8\": 98, \"0\": 231, \"2\": 16, \"9\": 19, \"6\": 9, \"3\": 1, \"7\": 11, \"15\": 2, \"5\": 4, \"13\": 1}, \"10\": {\"1\": 164, \"9\": 22, \"14\": 186, \"0\": 183, \"10\": 337, \"6\": 108, \"8\": 87, \"4\": 74, \"2\": 18, \"7\": 9, \"15\": 1, \"5\": 7, \"3\": 2, \"12\": 2}, \"7\": {\"8\": 120, \"9\": 60, \"7\": 296, \"2\": 314, \"15\": 118, \"4\": 96, \"3\": 97, \"5\": 61, \"14\": 10, \"13\": 6, \"0\": 14, \"6\": 1, \"10\": 7}, \"11\": {\"11\": 1196, \"12\": 4}, \"6\": {\"6\": 752, \"8\": 44, \"5\": 95, \"13\": 68, \"10\": 70, \"9\": 142, \"0\": 8, \"14\": 14, \"1\": 5, \"2\": 2}, \"1\": {\"14\": 261, \"10\": 169, \"1\": 563, \"0\": 154, \"8\": 29, \"7\": 3, \"4\": 16, \"9\": 2, \"2\": 1, \"6\": 2}, \"5\": {\"13\": 272, \"5\": 296, \"9\": 162, \"7\": 118, \"6\": 171, \"2\": 84, \"15\": 33, \"8\": 47, \"4\": 4, \"3\": 8, \"10\": 4, \"14\": 1}, \"0\": {\"1\": 189, \"9\": 10, \"10\": 161, \"4\": 147, \"8\": 87, \"14\": 223, \"0\": 324, \"7\": 20, \"2\": 23, \"6\": 6, \"5\": 3, \"15\": 4, \"3\": 3}}}, \"per_domain_accuracy\": {\"8\": {\"accuracy\": 0.65015625, \"source?\": true}, \"50\": {\"accuracy\": 0.7579166666666667, \"source?\": true}, \"32\": {\"accuracy\": 0.7367708333333334, \"source?\": true}, \"14\": {\"accuracy\": 0.73140625, \"source?\": false}, \"20\": {\"accuracy\": 0.48125, \"source?\": false}, \"44\": {\"accuracy\": 0.724375, \"source?\": false}, \"38\": {\"accuracy\": 0.5808854166666667, \"source?\": false}, \"26\": {\"accuracy\": 0.4546875, \"source?\": false}}}, \"history\": {\"epoch_indices\": [1, 2, 3, 4, 5, 6, 7, 8, 9, 10, 11], \"train_label_loss\": [1.3045453304549057, 0.8233947131132323, 0.7024853792218935, 0.6209861327098712, 0.5500880371412588, 0.48622616760787507, 0.4284370722763595, 0.37936025005395685, 0.3358140973004675, 0.2974564584207884, 0.2625024407343673], \"source_val_label_loss\": [1.0242726802825928, 0.8340981006622314, 0.8090793490409851, 0.7932102084159851, 0.8040748834609985, 0.8211891055107117, 0.8567075133323669, 0.8578412532806396, 0.8921356201171875, 0.9458746314048767, 0.9843753576278687], \"target_val_label_loss\": [1.4602900743484497, 1.221119999885559, 1.2545593976974487, 1.2266002893447876, 1.2575674057006836, 1.2870012521743774, 1.351326584815979, 1.3483052253723145, 1.3995565176010132, 1.5035250186920166, 1.51549232006073], \"source_val_acc_label\": [0.6136805555555556, 0.67265625, 0.6976909722222222, 0.7043055555555555, 0.7063020833333333, 0.7094270833333334, 0.7149479166666667, 0.7092881944444445, 0.7105208333333334, 0.7129861111111111, 0.70390625], \"target_val_acc_label\": [0.5023645833333333, 0.5608333333333333, 0.5766979166666667, 0.5835520833333333, 0.5870208333333333, 0.5903020833333333, 0.5945208333333334, 0.5919166666666666, 0.5891354166666667, 0.5899583333333334, 0.5836145833333334]}, \"dataset_metrics\": {\"source\": {\"train\": {\"n_unique_x\": 336000, \"n_unique_y\": 16, \"n_batch/episode\": 12600}, \"val\": {\"n_unique_x\": 72000, \"n_unique_y\": 16, \"n_batch/episode\": 1800}, \"test\": {\"n_unique_x\": 72000, \"n_unique_y\": 16, \"n_batch/episode\": 1800}}, \"target\": {\"train\": {\"n_unique_x\": 560000, \"n_unique_y\": 16, \"n_batch/episode\": 21000}, \"val\": {\"n_unique_x\": 120000, \"n_unique_y\": 16, \"n_batch/episode\": 3000}, \"test\": {\"n_unique_x\": 120000, \"n_unique_y\": 16, \"n_batch/episode\": 3000}}}}'"
      ]
     },
     "execution_count": 20,
     "metadata": {},
     "output_type": "execute_result"
    }
   ],
   "source": [
    "json.dumps(experiment)"
   ]
  }
 ],
 "metadata": {
  "celltoolbar": "Tags",
  "kernelspec": {
   "display_name": "Python 3 (ipykernel)",
   "language": "python",
   "name": "python3"
  },
  "language_info": {
   "codemirror_mode": {
    "name": "ipython",
    "version": 3
   },
   "file_extension": ".py",
   "mimetype": "text/x-python",
   "name": "python",
   "nbconvert_exporter": "python",
   "pygments_lexer": "ipython3",
   "version": "3.8.10"
  },
  "papermill": {
   "default_parameters": {},
   "duration": 4294.764135,
   "end_time": "2022-03-21T17:19:41.944350",
   "environment_variables": {},
   "exception": null,
   "input_path": "/mnt/wd500GB/CSC500/csc500-main/csc500-notebooks/templates/ptn_template.ipynb",
   "output_path": "trial.ipynb",
   "parameters": {
    "parameters": {
     "BEST_MODEL_PATH": "./best_model.pth",
     "NUM_LOGS_PER_EPOCH": 10,
     "criteria_for_best": "target_accuracy",
     "dataset_seed": 1337,
     "device": "cuda",
     "domains_source": [
      8,
      32,
      50
     ],
     "domains_target": [
      14,
      20,
      26,
      38,
      44
     ],
     "episode_transforms_source": [],
     "episode_transforms_target": [],
     "experiment_name": "tuned_1v2:oracle.run2",
     "labels_source": [
      "3123D52",
      "3123D65",
      "3123D79",
      "3123D80",
      "3123D54",
      "3123D70",
      "3123D7B",
      "3123D89",
      "3123D58",
      "3123D76",
      "3123D7D",
      "3123EFE",
      "3123D64",
      "3123D78",
      "3123D7E",
      "3124E4A"
     ],
     "labels_target": [
      "3123D52",
      "3123D65",
      "3123D79",
      "3123D80",
      "3123D54",
      "3123D70",
      "3123D7B",
      "3123D89",
      "3123D58",
      "3123D76",
      "3123D7D",
      "3123EFE",
      "3123D64",
      "3123D78",
      "3123D7E",
      "3124E4A"
     ],
     "lr": 0.0001,
     "n_epoch": 50,
     "n_query": 2,
     "n_shot": 3,
     "n_way": 16,
     "num_examples_per_domain_per_label_source": -1,
     "num_examples_per_domain_per_label_target": -1,
     "patience": 3,
     "pickle_name": "oracle.Run2_10kExamples_stratified_ds.2022A.pkl",
     "seed": 1337,
     "test_k_factor": 2,
     "torch_default_dtype": "torch.float32",
     "train_k_factor": 3,
     "val_k_factor": 2,
     "x_net": [
      {
       "class": "nnReshape",
       "kargs": {
        "shape": [
         -1,
         1,
         2,
         256
        ]
       }
      },
      {
       "class": "Conv2d",
       "kargs": {
        "bias": false,
        "in_channels": 1,
        "kernel_size": [
         1,
         7
        ],
        "out_channels": 256,
        "padding": [
         0,
         3
        ]
       }
      },
      {
       "class": "ReLU",
       "kargs": {
        "inplace": true
       }
      },
      {
       "class": "BatchNorm2d",
       "kargs": {
        "num_features": 256
       }
      },
      {
       "class": "Conv2d",
       "kargs": {
        "bias": true,
        "in_channels": 256,
        "kernel_size": [
         2,
         7
        ],
        "out_channels": 80,
        "padding": [
         0,
         3
        ]
       }
      },
      {
       "class": "ReLU",
       "kargs": {
        "inplace": true
       }
      },
      {
       "class": "BatchNorm2d",
       "kargs": {
        "num_features": 80
       }
      },
      {
       "class": "Flatten",
       "kargs": {}
      },
      {
       "class": "Linear",
       "kargs": {
        "in_features": 20480,
        "out_features": 256
       }
      },
      {
       "class": "ReLU",
       "kargs": {
        "inplace": true
       }
      },
      {
       "class": "BatchNorm1d",
       "kargs": {
        "num_features": 256
       }
      },
      {
       "class": "Linear",
       "kargs": {
        "in_features": 256,
        "out_features": 256
       }
      }
     ],
     "x_transforms_source": [
      "unit_power"
     ],
     "x_transforms_target": [
      "unit_power"
     ]
    }
   },
   "start_time": "2022-03-21T16:08:07.180215",
   "version": "2.3.4"
  }
 },
 "nbformat": 4,
 "nbformat_minor": 5
}