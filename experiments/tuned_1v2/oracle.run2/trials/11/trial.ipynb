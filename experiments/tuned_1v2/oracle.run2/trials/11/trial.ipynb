{
 "cells": [
  {
   "cell_type": "markdown",
   "id": "9fea5f46",
   "metadata": {
    "papermill": {
     "duration": 0.014635,
     "end_time": "2022-03-21T19:42:46.761105",
     "exception": false,
     "start_time": "2022-03-21T19:42:46.746470",
     "status": "completed"
    },
    "tags": []
   },
   "source": [
    "# PTN Template\n",
    "This notebook serves as a template for single dataset PTN experiments  \n",
    "It can be run on its own by setting STANDALONE to True (do a find for \"STANDALONE\" to see where)  \n",
    "But it is intended to be executed as part of a *papermill.py script. See any of the   \n",
    "experimentes with a papermill script to get started with that workflow.  "
   ]
  },
  {
   "cell_type": "code",
   "execution_count": 1,
   "id": "0902182a",
   "metadata": {
    "execution": {
     "iopub.execute_input": "2022-03-21T19:42:46.786450Z",
     "iopub.status.busy": "2022-03-21T19:42:46.786091Z",
     "iopub.status.idle": "2022-03-21T19:42:47.708715Z",
     "shell.execute_reply": "2022-03-21T19:42:47.708423Z"
    },
    "papermill": {
     "duration": 0.938393,
     "end_time": "2022-03-21T19:42:47.708785",
     "exception": false,
     "start_time": "2022-03-21T19:42:46.770392",
     "status": "completed"
    },
    "tags": []
   },
   "outputs": [],
   "source": [
    "%load_ext autoreload\n",
    "%autoreload 2\n",
    "%matplotlib inline\n",
    "\n",
    "    \n",
    "import os, json, sys, time, random\n",
    "import numpy as np\n",
    "import torch\n",
    "from torch.optim import Adam\n",
    "from  easydict import EasyDict\n",
    "import matplotlib.pyplot as plt\n",
    "\n",
    "from steves_models.steves_ptn import Steves_Prototypical_Network\n",
    "\n",
    "from steves_utils.lazy_iterable_wrapper import Lazy_Iterable_Wrapper\n",
    "from steves_utils.iterable_aggregator import Iterable_Aggregator\n",
    "from steves_utils.ptn_train_eval_test_jig import  PTN_Train_Eval_Test_Jig\n",
    "from steves_utils.torch_sequential_builder import build_sequential\n",
    "from steves_utils.torch_utils import get_dataset_metrics, ptn_confusion_by_domain_over_dataloader\n",
    "from steves_utils.utils_v2 import (per_domain_accuracy_from_confusion, get_datasets_base_path)\n",
    "from steves_utils.PTN.utils import independent_accuracy_assesment\n",
    "\n",
    "from steves_utils.stratified_dataset.episodic_accessor import Episodic_Accessor_Factory\n",
    "\n",
    "from steves_utils.ptn_do_report import (\n",
    "    get_loss_curve,\n",
    "    get_results_table,\n",
    "    get_parameters_table,\n",
    "    get_domain_accuracies,\n",
    ")\n",
    "\n",
    "from steves_utils.transforms import get_chained_transform"
   ]
  },
  {
   "cell_type": "markdown",
   "id": "41c840b4",
   "metadata": {
    "papermill": {
     "duration": 0.009509,
     "end_time": "2022-03-21T19:42:47.731743",
     "exception": false,
     "start_time": "2022-03-21T19:42:47.722234",
     "status": "completed"
    },
    "tags": []
   },
   "source": [
    "# Required Parameters\n",
    "These are allowed parameters, not defaults\n",
    "Each of these values need to be present in the injected parameters (the notebook will raise an exception if they are not present)\n",
    "\n",
    "Papermill uses the cell tag \"parameters\" to inject the real parameters below this cell.\n",
    "Enable tags to see what I mean"
   ]
  },
  {
   "cell_type": "code",
   "execution_count": 2,
   "id": "fd44eb83",
   "metadata": {
    "execution": {
     "iopub.execute_input": "2022-03-21T19:42:47.755828Z",
     "iopub.status.busy": "2022-03-21T19:42:47.755550Z",
     "iopub.status.idle": "2022-03-21T19:42:47.770621Z",
     "shell.execute_reply": "2022-03-21T19:42:47.770930Z"
    },
    "papermill": {
     "duration": 0.029838,
     "end_time": "2022-03-21T19:42:47.771026",
     "exception": false,
     "start_time": "2022-03-21T19:42:47.741188",
     "status": "completed"
    },
    "tags": []
   },
   "outputs": [],
   "source": [
    "required_parameters = {\n",
    "    \"experiment_name\",\n",
    "    \"lr\",\n",
    "    \"device\",\n",
    "    \"seed\",\n",
    "    \"dataset_seed\",\n",
    "    \"labels_source\",\n",
    "    \"labels_target\",\n",
    "    \"domains_source\",\n",
    "    \"domains_target\",\n",
    "    \"num_examples_per_domain_per_label_source\",\n",
    "    \"num_examples_per_domain_per_label_target\",\n",
    "    \"n_shot\",\n",
    "    \"n_way\",\n",
    "    \"n_query\",\n",
    "    \"train_k_factor\",\n",
    "    \"val_k_factor\",\n",
    "    \"test_k_factor\",\n",
    "    \"n_epoch\",\n",
    "    \"patience\",\n",
    "    \"criteria_for_best\",\n",
    "    \"x_transforms_source\",\n",
    "    \"x_transforms_target\",\n",
    "    \"episode_transforms_source\",\n",
    "    \"episode_transforms_target\",\n",
    "    \"pickle_name\",\n",
    "    \"x_net\",\n",
    "    \"NUM_LOGS_PER_EPOCH\",\n",
    "    \"BEST_MODEL_PATH\",\n",
    "    \"torch_default_dtype\"\n",
    "}"
   ]
  },
  {
   "cell_type": "code",
   "execution_count": 3,
   "id": "fa3f0049",
   "metadata": {
    "execution": {
     "iopub.execute_input": "2022-03-21T19:42:47.804159Z",
     "iopub.status.busy": "2022-03-21T19:42:47.803485Z",
     "iopub.status.idle": "2022-03-21T19:42:47.816368Z",
     "shell.execute_reply": "2022-03-21T19:42:47.816747Z"
    },
    "papermill": {
     "duration": 0.030526,
     "end_time": "2022-03-21T19:42:47.816876",
     "exception": false,
     "start_time": "2022-03-21T19:42:47.786350",
     "status": "completed"
    },
    "tags": [
     "parameters"
    ]
   },
   "outputs": [],
   "source": [
    "\n",
    "\n",
    "standalone_parameters = {}\n",
    "standalone_parameters[\"experiment_name\"] = \"STANDALONE PTN\"\n",
    "standalone_parameters[\"lr\"] = 0.0001\n",
    "standalone_parameters[\"device\"] = \"cuda\"\n",
    "\n",
    "standalone_parameters[\"seed\"] = 1337\n",
    "standalone_parameters[\"dataset_seed\"] = 1337\n",
    "\n",
    "\n",
    "standalone_parameters[\"num_examples_per_domain_per_label_source\"]=100\n",
    "standalone_parameters[\"num_examples_per_domain_per_label_target\"]=100\n",
    "\n",
    "standalone_parameters[\"n_shot\"] = 3\n",
    "standalone_parameters[\"n_query\"]  = 2\n",
    "standalone_parameters[\"train_k_factor\"] = 1\n",
    "standalone_parameters[\"val_k_factor\"] = 2\n",
    "standalone_parameters[\"test_k_factor\"] = 2\n",
    "\n",
    "\n",
    "standalone_parameters[\"n_epoch\"] = 100\n",
    "\n",
    "standalone_parameters[\"patience\"] = 10\n",
    "standalone_parameters[\"criteria_for_best\"] = \"target_accuracy\"\n",
    "\n",
    "standalone_parameters[\"x_transforms_source\"] = [\"unit_power\"]\n",
    "standalone_parameters[\"x_transforms_target\"] = [\"unit_power\"]\n",
    "standalone_parameters[\"episode_transforms_source\"] = []\n",
    "standalone_parameters[\"episode_transforms_target\"] = []\n",
    "\n",
    "standalone_parameters[\"torch_default_dtype\"] = \"torch.float32\" \n",
    "\n",
    "\n",
    "\n",
    "standalone_parameters[\"x_net\"] =     [\n",
    "    {\"class\": \"nnReshape\", \"kargs\": {\"shape\":[-1, 1, 2, 256]}},\n",
    "    {\"class\": \"Conv2d\", \"kargs\": { \"in_channels\":1, \"out_channels\":256, \"kernel_size\":(1,7), \"bias\":False, \"padding\":(0,3), },},\n",
    "    {\"class\": \"ReLU\", \"kargs\": {\"inplace\": True}},\n",
    "    {\"class\": \"BatchNorm2d\", \"kargs\": {\"num_features\":256}},\n",
    "\n",
    "    {\"class\": \"Conv2d\", \"kargs\": { \"in_channels\":256, \"out_channels\":80, \"kernel_size\":(2,7), \"bias\":True, \"padding\":(0,3), },},\n",
    "    {\"class\": \"ReLU\", \"kargs\": {\"inplace\": True}},\n",
    "    {\"class\": \"BatchNorm2d\", \"kargs\": {\"num_features\":80}},\n",
    "    {\"class\": \"Flatten\", \"kargs\": {}},\n",
    "\n",
    "    {\"class\": \"Linear\", \"kargs\": {\"in_features\": 80*256, \"out_features\": 256}}, # 80 units per IQ pair\n",
    "    {\"class\": \"ReLU\", \"kargs\": {\"inplace\": True}},\n",
    "    {\"class\": \"BatchNorm1d\", \"kargs\": {\"num_features\":256}},\n",
    "\n",
    "    {\"class\": \"Linear\", \"kargs\": {\"in_features\": 256, \"out_features\": 256}},\n",
    "]\n",
    "\n",
    "# Parameters relevant to results\n",
    "# These parameters will basically never need to change\n",
    "standalone_parameters[\"NUM_LOGS_PER_EPOCH\"] = 10\n",
    "standalone_parameters[\"BEST_MODEL_PATH\"] = \"./best_model.pth\"\n",
    "\n",
    "# uncomment for CORES dataset\n",
    "from steves_utils.CORES.utils import (\n",
    "    ALL_NODES,\n",
    "    ALL_NODES_MINIMUM_1000_EXAMPLES,\n",
    "    ALL_DAYS\n",
    ")\n",
    "\n",
    "\n",
    "standalone_parameters[\"labels_source\"] = ALL_NODES\n",
    "standalone_parameters[\"labels_target\"] = ALL_NODES\n",
    "\n",
    "standalone_parameters[\"domains_source\"] = [1]\n",
    "standalone_parameters[\"domains_target\"] = [2,3,4,5]\n",
    "\n",
    "standalone_parameters[\"pickle_name\"] = \"cores.stratified_ds.2022A.pkl\"\n",
    "\n",
    "\n",
    "# Uncomment these for ORACLE dataset\n",
    "# from steves_utils.ORACLE.utils_v2 import (\n",
    "#     ALL_DISTANCES_FEET,\n",
    "#     ALL_RUNS,\n",
    "#     ALL_SERIAL_NUMBERS,\n",
    "# )\n",
    "# standalone_parameters[\"labels_source\"] = ALL_SERIAL_NUMBERS\n",
    "# standalone_parameters[\"labels_target\"] = ALL_SERIAL_NUMBERS\n",
    "# standalone_parameters[\"domains_source\"] = [8,20, 38,50]\n",
    "# standalone_parameters[\"domains_target\"] = [14, 26, 32, 44, 56]\n",
    "# standalone_parameters[\"pickle_name\"] = \"oracle.frame_indexed.stratified_ds.2022A.pkl\"\n",
    "# standalone_parameters[\"num_examples_per_domain_per_label_source\"]=1000\n",
    "# standalone_parameters[\"num_examples_per_domain_per_label_target\"]=1000\n",
    "\n",
    "# Uncomment these for Metahan dataset\n",
    "# standalone_parameters[\"labels_source\"] = list(range(19))\n",
    "# standalone_parameters[\"labels_target\"] = list(range(19))\n",
    "# standalone_parameters[\"domains_source\"] = [0]\n",
    "# standalone_parameters[\"domains_target\"] = [1]\n",
    "# standalone_parameters[\"pickle_name\"] = \"metehan.stratified_ds.2022A.pkl\"\n",
    "# standalone_parameters[\"n_way\"]  = len(standalone_parameters[\"labels_source\"])\n",
    "# standalone_parameters[\"num_examples_per_domain_per_label_source\"]=200\n",
    "# standalone_parameters[\"num_examples_per_domain_per_label_target\"]=100\n",
    "\n",
    "\n",
    "standalone_parameters[\"n_way\"]  = len(standalone_parameters[\"labels_source\"])"
   ]
  },
  {
   "cell_type": "code",
   "execution_count": 4,
   "id": "98673276",
   "metadata": {
    "execution": {
     "iopub.execute_input": "2022-03-21T19:42:47.849590Z",
     "iopub.status.busy": "2022-03-21T19:42:47.842945Z",
     "iopub.status.idle": "2022-03-21T19:42:47.862589Z",
     "shell.execute_reply": "2022-03-21T19:42:47.862984Z"
    },
    "papermill": {
     "duration": 0.030965,
     "end_time": "2022-03-21T19:42:47.863107",
     "exception": false,
     "start_time": "2022-03-21T19:42:47.832142",
     "status": "completed"
    },
    "tags": [
     "injected-parameters"
    ]
   },
   "outputs": [],
   "source": [
    "# Parameters\n",
    "parameters = {\n",
    "    \"experiment_name\": \"tuned_1v2:oracle.run2\",\n",
    "    \"device\": \"cuda\",\n",
    "    \"lr\": 0.0001,\n",
    "    \"labels_source\": [\n",
    "        \"3123D52\",\n",
    "        \"3123D65\",\n",
    "        \"3123D79\",\n",
    "        \"3123D80\",\n",
    "        \"3123D54\",\n",
    "        \"3123D70\",\n",
    "        \"3123D7B\",\n",
    "        \"3123D89\",\n",
    "        \"3123D58\",\n",
    "        \"3123D76\",\n",
    "        \"3123D7D\",\n",
    "        \"3123EFE\",\n",
    "        \"3123D64\",\n",
    "        \"3123D78\",\n",
    "        \"3123D7E\",\n",
    "        \"3124E4A\",\n",
    "    ],\n",
    "    \"labels_target\": [\n",
    "        \"3123D52\",\n",
    "        \"3123D65\",\n",
    "        \"3123D79\",\n",
    "        \"3123D80\",\n",
    "        \"3123D54\",\n",
    "        \"3123D70\",\n",
    "        \"3123D7B\",\n",
    "        \"3123D89\",\n",
    "        \"3123D58\",\n",
    "        \"3123D76\",\n",
    "        \"3123D7D\",\n",
    "        \"3123EFE\",\n",
    "        \"3123D64\",\n",
    "        \"3123D78\",\n",
    "        \"3123D7E\",\n",
    "        \"3124E4A\",\n",
    "    ],\n",
    "    \"episode_transforms_source\": [],\n",
    "    \"episode_transforms_target\": [],\n",
    "    \"domains_source\": [8, 32, 50],\n",
    "    \"domains_target\": [14, 20, 26, 38, 44],\n",
    "    \"num_examples_per_domain_per_label_source\": -1,\n",
    "    \"num_examples_per_domain_per_label_target\": -1,\n",
    "    \"n_shot\": 3,\n",
    "    \"n_way\": 16,\n",
    "    \"n_query\": 2,\n",
    "    \"train_k_factor\": 3,\n",
    "    \"val_k_factor\": 2,\n",
    "    \"test_k_factor\": 2,\n",
    "    \"torch_default_dtype\": \"torch.float32\",\n",
    "    \"n_epoch\": 50,\n",
    "    \"patience\": 3,\n",
    "    \"criteria_for_best\": \"target_accuracy\",\n",
    "    \"x_net\": [\n",
    "        {\"class\": \"nnReshape\", \"kargs\": {\"shape\": [-1, 1, 2, 256]}},\n",
    "        {\n",
    "            \"class\": \"Conv2d\",\n",
    "            \"kargs\": {\n",
    "                \"in_channels\": 1,\n",
    "                \"out_channels\": 256,\n",
    "                \"kernel_size\": [1, 7],\n",
    "                \"bias\": False,\n",
    "                \"padding\": [0, 3],\n",
    "            },\n",
    "        },\n",
    "        {\"class\": \"ReLU\", \"kargs\": {\"inplace\": True}},\n",
    "        {\"class\": \"BatchNorm2d\", \"kargs\": {\"num_features\": 256}},\n",
    "        {\n",
    "            \"class\": \"Conv2d\",\n",
    "            \"kargs\": {\n",
    "                \"in_channels\": 256,\n",
    "                \"out_channels\": 80,\n",
    "                \"kernel_size\": [2, 7],\n",
    "                \"bias\": True,\n",
    "                \"padding\": [0, 3],\n",
    "            },\n",
    "        },\n",
    "        {\"class\": \"ReLU\", \"kargs\": {\"inplace\": True}},\n",
    "        {\"class\": \"BatchNorm2d\", \"kargs\": {\"num_features\": 80}},\n",
    "        {\"class\": \"Flatten\", \"kargs\": {}},\n",
    "        {\"class\": \"Linear\", \"kargs\": {\"in_features\": 20480, \"out_features\": 256}},\n",
    "        {\"class\": \"ReLU\", \"kargs\": {\"inplace\": True}},\n",
    "        {\"class\": \"BatchNorm1d\", \"kargs\": {\"num_features\": 256}},\n",
    "        {\"class\": \"Linear\", \"kargs\": {\"in_features\": 256, \"out_features\": 256}},\n",
    "    ],\n",
    "    \"NUM_LOGS_PER_EPOCH\": 10,\n",
    "    \"BEST_MODEL_PATH\": \"./best_model.pth\",\n",
    "    \"pickle_name\": \"oracle.Run2_10kExamples_stratified_ds.2022A.pkl\",\n",
    "    \"x_transforms_source\": [\"unit_power\"],\n",
    "    \"x_transforms_target\": [\"unit_power\"],\n",
    "    \"dataset_seed\": 420,\n",
    "    \"seed\": 420,\n",
    "}\n"
   ]
  },
  {
   "cell_type": "code",
   "execution_count": 5,
   "id": "8fa1cc33",
   "metadata": {
    "execution": {
     "iopub.execute_input": "2022-03-21T19:42:47.892127Z",
     "iopub.status.busy": "2022-03-21T19:42:47.891849Z",
     "iopub.status.idle": "2022-03-21T19:42:47.906930Z",
     "shell.execute_reply": "2022-03-21T19:42:47.907214Z"
    },
    "papermill": {
     "duration": 0.028384,
     "end_time": "2022-03-21T19:42:47.907325",
     "exception": false,
     "start_time": "2022-03-21T19:42:47.878941",
     "status": "completed"
    },
    "tags": []
   },
   "outputs": [],
   "source": [
    "# Set this to True if you want to run this template directly\n",
    "STANDALONE = False\n",
    "if STANDALONE:\n",
    "    print(\"parameters not injected, running with standalone_parameters\")\n",
    "    parameters = standalone_parameters\n",
    "\n",
    "if not 'parameters' in locals() and not 'parameters' in globals():\n",
    "    raise Exception(\"Parameter injection failed\")\n",
    "\n",
    "#Use an easy dict for all the parameters\n",
    "p = EasyDict(parameters)\n",
    "\n",
    "supplied_keys = set(p.keys())\n",
    "\n",
    "if  supplied_keys != required_parameters:\n",
    "    print(\"Parameters are incorrect\")\n",
    "    if len(supplied_keys - required_parameters)>0: print(\"Shouldn't have:\", str(supplied_keys - required_parameters))\n",
    "    if len(required_parameters - supplied_keys)>0: print(\"Need to have:\", str(required_parameters - supplied_keys))\n",
    "    raise RuntimeError(\"Parameters are incorrect\")\n",
    "\n"
   ]
  },
  {
   "cell_type": "code",
   "execution_count": 6,
   "id": "3a028d58",
   "metadata": {
    "execution": {
     "iopub.execute_input": "2022-03-21T19:42:47.932262Z",
     "iopub.status.busy": "2022-03-21T19:42:47.932017Z",
     "iopub.status.idle": "2022-03-21T19:42:47.943195Z",
     "shell.execute_reply": "2022-03-21T19:42:47.942876Z"
    },
    "papermill": {
     "duration": 0.022207,
     "end_time": "2022-03-21T19:42:47.943280",
     "exception": false,
     "start_time": "2022-03-21T19:42:47.921073",
     "status": "completed"
    },
    "tags": []
   },
   "outputs": [],
   "source": [
    "###################################\n",
    "# Set the RNGs and make it all deterministic\n",
    "###################################\n",
    "np.random.seed(p.seed)\n",
    "random.seed(p.seed)\n",
    "torch.manual_seed(p.seed)\n",
    "\n",
    "torch.use_deterministic_algorithms(True) "
   ]
  },
  {
   "cell_type": "code",
   "execution_count": 7,
   "id": "b691acf6",
   "metadata": {
    "execution": {
     "iopub.execute_input": "2022-03-21T19:42:47.969923Z",
     "iopub.status.busy": "2022-03-21T19:42:47.969678Z",
     "iopub.status.idle": "2022-03-21T19:42:47.984928Z",
     "shell.execute_reply": "2022-03-21T19:42:47.985323Z"
    },
    "papermill": {
     "duration": 0.027509,
     "end_time": "2022-03-21T19:42:47.985442",
     "exception": false,
     "start_time": "2022-03-21T19:42:47.957933",
     "status": "completed"
    },
    "tags": []
   },
   "outputs": [],
   "source": [
    "###########################################\n",
    "# The stratified datasets honor this\n",
    "###########################################\n",
    "torch.set_default_dtype(eval(p.torch_default_dtype))"
   ]
  },
  {
   "cell_type": "code",
   "execution_count": 8,
   "id": "b5fba671",
   "metadata": {
    "execution": {
     "iopub.execute_input": "2022-03-21T19:42:48.012145Z",
     "iopub.status.busy": "2022-03-21T19:42:48.011899Z",
     "iopub.status.idle": "2022-03-21T19:42:48.054658Z",
     "shell.execute_reply": "2022-03-21T19:42:48.054191Z"
    },
    "papermill": {
     "duration": 0.054402,
     "end_time": "2022-03-21T19:42:48.054769",
     "exception": false,
     "start_time": "2022-03-21T19:42:48.000367",
     "status": "completed"
    },
    "tags": []
   },
   "outputs": [],
   "source": [
    "###################################\n",
    "# Build the network(s)\n",
    "# Note: It's critical to do this AFTER setting the RNG\n",
    "# (This is due to the randomized initial weights)\n",
    "###################################\n",
    "x_net = build_sequential(p.x_net)"
   ]
  },
  {
   "cell_type": "code",
   "execution_count": 9,
   "id": "5d7e61cc",
   "metadata": {
    "execution": {
     "iopub.execute_input": "2022-03-21T19:42:48.080991Z",
     "iopub.status.busy": "2022-03-21T19:42:48.080738Z",
     "iopub.status.idle": "2022-03-21T19:42:48.092046Z",
     "shell.execute_reply": "2022-03-21T19:42:48.091779Z"
    },
    "papermill": {
     "duration": 0.022874,
     "end_time": "2022-03-21T19:42:48.092104",
     "exception": false,
     "start_time": "2022-03-21T19:42:48.069230",
     "status": "completed"
    },
    "tags": []
   },
   "outputs": [],
   "source": [
    "start_time_secs = time.time()"
   ]
  },
  {
   "cell_type": "code",
   "execution_count": 10,
   "id": "fd5442bc",
   "metadata": {
    "execution": {
     "iopub.execute_input": "2022-03-21T19:42:48.121204Z",
     "iopub.status.busy": "2022-03-21T19:42:48.120232Z",
     "iopub.status.idle": "2022-03-21T19:44:09.303085Z",
     "shell.execute_reply": "2022-03-21T19:44:09.302810Z"
    },
    "papermill": {
     "duration": 81.198795,
     "end_time": "2022-03-21T19:44:09.303155",
     "exception": false,
     "start_time": "2022-03-21T19:42:48.104360",
     "status": "completed"
    },
    "tags": []
   },
   "outputs": [],
   "source": [
    "###################################\n",
    "# Build the dataset\n",
    "###################################\n",
    "\n",
    "if p.x_transforms_source == []: x_transform_source = None\n",
    "else: x_transform_source = get_chained_transform(p.x_transforms_source) \n",
    "\n",
    "if p.x_transforms_target == []: x_transform_target = None\n",
    "else: x_transform_target = get_chained_transform(p.x_transforms_target)\n",
    "\n",
    "if p.episode_transforms_source == []: episode_transform_source = None\n",
    "else: raise Exception(\"episode_transform_source not implemented\")\n",
    "\n",
    "if p.episode_transforms_target == []: episode_transform_target = None\n",
    "else: raise Exception(\"episode_transform_target not implemented\")\n",
    "\n",
    "\n",
    "eaf_source = Episodic_Accessor_Factory(\n",
    "    labels=p.labels_source,\n",
    "    domains=p.domains_source,\n",
    "    num_examples_per_domain_per_label=p.num_examples_per_domain_per_label_source,\n",
    "    iterator_seed=p.seed,\n",
    "    dataset_seed=p.dataset_seed,\n",
    "    n_shot=p.n_shot,\n",
    "    n_way=p.n_way,\n",
    "    n_query=p.n_query,\n",
    "    train_val_test_k_factors=(p.train_k_factor,p.val_k_factor,p.test_k_factor),\n",
    "    pickle_path=os.path.join(get_datasets_base_path(), p.pickle_name),\n",
    "    x_transform_func=x_transform_source,\n",
    "    example_transform_func=episode_transform_source,\n",
    "    \n",
    ")\n",
    "train_original_source, val_original_source, test_original_source = eaf_source.get_train(), eaf_source.get_val(), eaf_source.get_test()\n",
    "\n",
    "\n",
    "eaf_target = Episodic_Accessor_Factory(\n",
    "    labels=p.labels_target,\n",
    "    domains=p.domains_target,\n",
    "    num_examples_per_domain_per_label=p.num_examples_per_domain_per_label_target,\n",
    "    iterator_seed=p.seed,\n",
    "    dataset_seed=p.dataset_seed,\n",
    "    n_shot=p.n_shot,\n",
    "    n_way=p.n_way,\n",
    "    n_query=p.n_query,\n",
    "    train_val_test_k_factors=(p.train_k_factor,p.val_k_factor,p.test_k_factor),\n",
    "    pickle_path=os.path.join(get_datasets_base_path(), p.pickle_name),\n",
    "    x_transform_func=x_transform_target,\n",
    "    example_transform_func=episode_transform_target,\n",
    ")\n",
    "train_original_target, val_original_target, test_original_target = eaf_target.get_train(), eaf_target.get_val(), eaf_target.get_test()\n",
    "\n",
    "\n",
    "transform_lambda = lambda ex: ex[1] # Original is (<domain>, <episode>) so we strip down to episode only\n",
    "\n",
    "train_processed_source = Lazy_Iterable_Wrapper(train_original_source, transform_lambda)\n",
    "val_processed_source   = Lazy_Iterable_Wrapper(val_original_source, transform_lambda)\n",
    "test_processed_source  = Lazy_Iterable_Wrapper(test_original_source, transform_lambda)\n",
    "\n",
    "train_processed_target = Lazy_Iterable_Wrapper(train_original_target, transform_lambda)\n",
    "val_processed_target   = Lazy_Iterable_Wrapper(val_original_target, transform_lambda)\n",
    "test_processed_target  = Lazy_Iterable_Wrapper(test_original_target, transform_lambda)\n",
    "\n",
    "datasets = EasyDict({\n",
    "    \"source\": {\n",
    "        \"original\": {\"train\":train_original_source, \"val\":val_original_source, \"test\":test_original_source},\n",
    "        \"processed\": {\"train\":train_processed_source, \"val\":val_processed_source, \"test\":test_processed_source}\n",
    "    },\n",
    "    \"target\": {\n",
    "        \"original\": {\"train\":train_original_target, \"val\":val_original_target, \"test\":test_original_target},\n",
    "        \"processed\": {\"train\":train_processed_target, \"val\":val_processed_target, \"test\":test_processed_target}\n",
    "    },\n",
    "})"
   ]
  },
  {
   "cell_type": "code",
   "execution_count": 11,
   "id": "296189d9",
   "metadata": {
    "execution": {
     "iopub.execute_input": "2022-03-21T19:44:09.327518Z",
     "iopub.status.busy": "2022-03-21T19:44:09.327106Z",
     "iopub.status.idle": "2022-03-21T19:44:11.249239Z",
     "shell.execute_reply": "2022-03-21T19:44:11.248840Z"
    },
    "papermill": {
     "duration": 1.935955,
     "end_time": "2022-03-21T19:44:11.249323",
     "exception": false,
     "start_time": "2022-03-21T19:44:09.313368",
     "status": "completed"
    },
    "tags": []
   },
   "outputs": [
    {
     "name": "stdout",
     "output_type": "stream",
     "text": [
      "Visually inspect these to see if they line up with expected values given the transforms\n",
      "x_transforms_source ['unit_power']\n",
      "x_transforms_target ['unit_power']\n",
      "Average magnitude, source: 0.8953406\n",
      "Average power, source: 1.0\n"
     ]
    },
    {
     "name": "stdout",
     "output_type": "stream",
     "text": [
      "Average magnitude, target: 0.89680517\n",
      "Average power, target: 1.0\n"
     ]
    }
   ],
   "source": [
    "# Some quick unit tests on the data\n",
    "from steves_utils.transforms import get_average_power, get_average_magnitude\n",
    "\n",
    "q_x, q_y, s_x, s_y, truth = next(iter(train_processed_source))\n",
    "\n",
    "assert q_x.dtype == eval(p.torch_default_dtype)\n",
    "assert s_x.dtype == eval(p.torch_default_dtype)\n",
    "\n",
    "print(\"Visually inspect these to see if they line up with expected values given the transforms\")\n",
    "print('x_transforms_source', p.x_transforms_source)\n",
    "print('x_transforms_target', p.x_transforms_target)\n",
    "print(\"Average magnitude, source:\", get_average_magnitude(q_x[0].numpy()))\n",
    "print(\"Average power, source:\", get_average_power(q_x[0].numpy()))\n",
    "\n",
    "q_x, q_y, s_x, s_y, truth = next(iter(train_processed_target))\n",
    "print(\"Average magnitude, target:\", get_average_magnitude(q_x[0].numpy()))\n",
    "print(\"Average power, target:\", get_average_power(q_x[0].numpy()))\n"
   ]
  },
  {
   "cell_type": "code",
   "execution_count": 12,
   "id": "bbdacba1",
   "metadata": {
    "execution": {
     "iopub.execute_input": "2022-03-21T19:44:11.275601Z",
     "iopub.status.busy": "2022-03-21T19:44:11.275181Z",
     "iopub.status.idle": "2022-03-21T19:44:11.338646Z",
     "shell.execute_reply": "2022-03-21T19:44:11.338863Z"
    },
    "papermill": {
     "duration": 0.076761,
     "end_time": "2022-03-21T19:44:11.338941",
     "exception": false,
     "start_time": "2022-03-21T19:44:11.262180",
     "status": "completed"
    },
    "tags": []
   },
   "outputs": [
    {
     "name": "stdout",
     "output_type": "stream",
     "text": [
      "(2, 256)\n"
     ]
    }
   ],
   "source": [
    "###################################\n",
    "# Build the model\n",
    "###################################\n",
    "model = Steves_Prototypical_Network(x_net, device=p.device, x_shape=(2,256))\n",
    "optimizer = Adam(params=model.parameters(), lr=p.lr)"
   ]
  },
  {
   "cell_type": "code",
   "execution_count": 13,
   "id": "22b39ac5",
   "metadata": {
    "execution": {
     "iopub.execute_input": "2022-03-21T19:44:11.362322Z",
     "iopub.status.busy": "2022-03-21T19:44:11.361927Z",
     "iopub.status.idle": "2022-03-21T20:50:23.461211Z",
     "shell.execute_reply": "2022-03-21T20:50:23.460976Z"
    },
    "papermill": {
     "duration": 3972.111858,
     "end_time": "2022-03-21T20:50:23.461270",
     "exception": false,
     "start_time": "2022-03-21T19:44:11.349412",
     "status": "completed"
    },
    "tags": []
   },
   "outputs": [
    {
     "name": "stdout",
     "output_type": "stream",
     "text": [
      "epoch: 1, [batch: 1 / 12600], examples_per_second: 26.5843, train_label_loss: 2.7862, \n"
     ]
    },
    {
     "name": "stdout",
     "output_type": "stream",
     "text": [
      "epoch: 1, [batch: 1260 / 12600], examples_per_second: 3141.8304, train_label_loss: 1.3416, \n"
     ]
    },
    {
     "name": "stdout",
     "output_type": "stream",
     "text": [
      "epoch: 1, [batch: 2520 / 12600], examples_per_second: 3135.2734, train_label_loss: 1.2786, \n"
     ]
    },
    {
     "name": "stdout",
     "output_type": "stream",
     "text": [
      "epoch: 1, [batch: 3780 / 12600], examples_per_second: 3131.1465, train_label_loss: 1.3449, \n"
     ]
    },
    {
     "name": "stdout",
     "output_type": "stream",
     "text": [
      "epoch: 1, [batch: 5040 / 12600], examples_per_second: 3110.6736, train_label_loss: 1.2648, \n"
     ]
    },
    {
     "name": "stdout",
     "output_type": "stream",
     "text": [
      "epoch: 1, [batch: 6300 / 12600], examples_per_second: 3118.4852, train_label_loss: 1.2629, \n"
     ]
    },
    {
     "name": "stdout",
     "output_type": "stream",
     "text": [
      "epoch: 1, [batch: 7560 / 12600], examples_per_second: 3122.3806, train_label_loss: 1.2212, \n"
     ]
    },
    {
     "name": "stdout",
     "output_type": "stream",
     "text": [
      "epoch: 1, [batch: 8820 / 12600], examples_per_second: 3103.4092, train_label_loss: 1.1821, \n"
     ]
    },
    {
     "name": "stdout",
     "output_type": "stream",
     "text": [
      "epoch: 1, [batch: 10080 / 12600], examples_per_second: 3114.2976, train_label_loss: 1.0899, \n"
     ]
    },
    {
     "name": "stdout",
     "output_type": "stream",
     "text": [
      "epoch: 1, [batch: 11340 / 12600], examples_per_second: 3122.0898, train_label_loss: 0.6432, \n"
     ]
    },
    {
     "name": "stdout",
     "output_type": "stream",
     "text": [
      "=============================================================\n",
      "epoch: 1, source_val_acc_label: 0.6076, target_val_acc_label: 0.4902, source_val_label_loss: 1.0390, target_val_label_loss: 1.4914, \n",
      "=============================================================\n"
     ]
    },
    {
     "name": "stdout",
     "output_type": "stream",
     "text": [
      "New best\n"
     ]
    },
    {
     "name": "stdout",
     "output_type": "stream",
     "text": [
      "epoch: 2, [batch: 1 / 12600], examples_per_second: 2.2300, train_label_loss: 0.6242, \n"
     ]
    },
    {
     "name": "stdout",
     "output_type": "stream",
     "text": [
      "epoch: 2, [batch: 1260 / 12600], examples_per_second: 3112.0135, train_label_loss: 1.0679, \n"
     ]
    },
    {
     "name": "stdout",
     "output_type": "stream",
     "text": [
      "epoch: 2, [batch: 2520 / 12600], examples_per_second: 3144.8083, train_label_loss: 0.8849, \n"
     ]
    },
    {
     "name": "stdout",
     "output_type": "stream",
     "text": [
      "epoch: 2, [batch: 3780 / 12600], examples_per_second: 3146.6509, train_label_loss: 1.3582, \n"
     ]
    },
    {
     "name": "stdout",
     "output_type": "stream",
     "text": [
      "epoch: 2, [batch: 5040 / 12600], examples_per_second: 3134.1353, train_label_loss: 0.7100, \n"
     ]
    },
    {
     "name": "stdout",
     "output_type": "stream",
     "text": [
      "epoch: 2, [batch: 6300 / 12600], examples_per_second: 3145.4622, train_label_loss: 0.9217, \n"
     ]
    },
    {
     "name": "stdout",
     "output_type": "stream",
     "text": [
      "epoch: 2, [batch: 7560 / 12600], examples_per_second: 3156.4667, train_label_loss: 0.8959, \n"
     ]
    },
    {
     "name": "stdout",
     "output_type": "stream",
     "text": [
      "epoch: 2, [batch: 8820 / 12600], examples_per_second: 3131.3693, train_label_loss: 0.5299, \n"
     ]
    },
    {
     "name": "stdout",
     "output_type": "stream",
     "text": [
      "epoch: 2, [batch: 10080 / 12600], examples_per_second: 3136.2548, train_label_loss: 0.8370, \n"
     ]
    },
    {
     "name": "stdout",
     "output_type": "stream",
     "text": [
      "epoch: 2, [batch: 11340 / 12600], examples_per_second: 3146.9633, train_label_loss: 0.5052, \n"
     ]
    },
    {
     "name": "stdout",
     "output_type": "stream",
     "text": [
      "=============================================================\n",
      "epoch: 2, source_val_acc_label: 0.6803, target_val_acc_label: 0.5613, source_val_label_loss: 0.8280, target_val_label_loss: 1.2521, \n",
      "=============================================================\n"
     ]
    },
    {
     "name": "stdout",
     "output_type": "stream",
     "text": [
      "New best\n"
     ]
    },
    {
     "name": "stdout",
     "output_type": "stream",
     "text": [
      "epoch: 3, [batch: 1 / 12600], examples_per_second: 2.2293, train_label_loss: 0.9134, \n"
     ]
    },
    {
     "name": "stdout",
     "output_type": "stream",
     "text": [
      "epoch: 3, [batch: 1260 / 12600], examples_per_second: 3123.9579, train_label_loss: 0.8436, \n"
     ]
    },
    {
     "name": "stdout",
     "output_type": "stream",
     "text": [
      "epoch: 3, [batch: 2520 / 12600], examples_per_second: 3142.2228, train_label_loss: 0.5755, \n"
     ]
    },
    {
     "name": "stdout",
     "output_type": "stream",
     "text": [
      "epoch: 3, [batch: 3780 / 12600], examples_per_second: 3146.9890, train_label_loss: 0.9709, \n"
     ]
    },
    {
     "name": "stdout",
     "output_type": "stream",
     "text": [
      "epoch: 3, [batch: 5040 / 12600], examples_per_second: 3129.4808, train_label_loss: 0.7470, \n"
     ]
    },
    {
     "name": "stdout",
     "output_type": "stream",
     "text": [
      "epoch: 3, [batch: 6300 / 12600], examples_per_second: 3131.5231, train_label_loss: 0.9956, \n"
     ]
    },
    {
     "name": "stdout",
     "output_type": "stream",
     "text": [
      "epoch: 3, [batch: 7560 / 12600], examples_per_second: 3142.4918, train_label_loss: 0.7793, \n"
     ]
    },
    {
     "name": "stdout",
     "output_type": "stream",
     "text": [
      "epoch: 3, [batch: 8820 / 12600], examples_per_second: 3135.0274, train_label_loss: 0.5518, \n"
     ]
    },
    {
     "name": "stdout",
     "output_type": "stream",
     "text": [
      "epoch: 3, [batch: 10080 / 12600], examples_per_second: 3136.8327, train_label_loss: 0.4750, \n"
     ]
    },
    {
     "name": "stdout",
     "output_type": "stream",
     "text": [
      "epoch: 3, [batch: 11340 / 12600], examples_per_second: 3145.3925, train_label_loss: 0.8433, \n"
     ]
    },
    {
     "name": "stdout",
     "output_type": "stream",
     "text": [
      "=============================================================\n",
      "epoch: 3, source_val_acc_label: 0.6977, target_val_acc_label: 0.5716, source_val_label_loss: 0.7880, target_val_label_loss: 1.2300, \n",
      "=============================================================\n"
     ]
    },
    {
     "name": "stdout",
     "output_type": "stream",
     "text": [
      "New best\n"
     ]
    },
    {
     "name": "stdout",
     "output_type": "stream",
     "text": [
      "epoch: 4, [batch: 1 / 12600], examples_per_second: 2.2207, train_label_loss: 0.3362, \n"
     ]
    },
    {
     "name": "stdout",
     "output_type": "stream",
     "text": [
      "epoch: 4, [batch: 1260 / 12600], examples_per_second: 3127.7611, train_label_loss: 0.6763, \n"
     ]
    },
    {
     "name": "stdout",
     "output_type": "stream",
     "text": [
      "epoch: 4, [batch: 2520 / 12600], examples_per_second: 3136.5021, train_label_loss: 0.6525, \n"
     ]
    },
    {
     "name": "stdout",
     "output_type": "stream",
     "text": [
      "epoch: 4, [batch: 3780 / 12600], examples_per_second: 3143.6284, train_label_loss: 0.6759, \n"
     ]
    },
    {
     "name": "stdout",
     "output_type": "stream",
     "text": [
      "epoch: 4, [batch: 5040 / 12600], examples_per_second: 3124.9928, train_label_loss: 0.4496, \n"
     ]
    },
    {
     "name": "stdout",
     "output_type": "stream",
     "text": [
      "epoch: 4, [batch: 6300 / 12600], examples_per_second: 3136.4358, train_label_loss: 0.6383, \n"
     ]
    },
    {
     "name": "stdout",
     "output_type": "stream",
     "text": [
      "epoch: 4, [batch: 7560 / 12600], examples_per_second: 3136.4608, train_label_loss: 0.6608, \n"
     ]
    },
    {
     "name": "stdout",
     "output_type": "stream",
     "text": [
      "epoch: 4, [batch: 8820 / 12600], examples_per_second: 3122.3872, train_label_loss: 0.5423, \n"
     ]
    },
    {
     "name": "stdout",
     "output_type": "stream",
     "text": [
      "epoch: 4, [batch: 10080 / 12600], examples_per_second: 3143.4380, train_label_loss: 0.5731, \n"
     ]
    },
    {
     "name": "stdout",
     "output_type": "stream",
     "text": [
      "epoch: 4, [batch: 11340 / 12600], examples_per_second: 3149.9526, train_label_loss: 0.6140, \n"
     ]
    },
    {
     "name": "stdout",
     "output_type": "stream",
     "text": [
      "=============================================================\n",
      "epoch: 4, source_val_acc_label: 0.6994, target_val_acc_label: 0.5770, source_val_label_loss: 0.7860, target_val_label_loss: 1.2215, \n",
      "=============================================================\n"
     ]
    },
    {
     "name": "stdout",
     "output_type": "stream",
     "text": [
      "New best\n"
     ]
    },
    {
     "name": "stdout",
     "output_type": "stream",
     "text": [
      "epoch: 5, [batch: 1 / 12600], examples_per_second: 2.2219, train_label_loss: 0.2889, \n"
     ]
    },
    {
     "name": "stdout",
     "output_type": "stream",
     "text": [
      "epoch: 5, [batch: 1260 / 12600], examples_per_second: 3111.1141, train_label_loss: 0.6349, \n"
     ]
    },
    {
     "name": "stdout",
     "output_type": "stream",
     "text": [
      "epoch: 5, [batch: 2520 / 12600], examples_per_second: 3138.1259, train_label_loss: 0.5823, \n"
     ]
    },
    {
     "name": "stdout",
     "output_type": "stream",
     "text": [
      "epoch: 5, [batch: 3780 / 12600], examples_per_second: 3135.2034, train_label_loss: 0.5600, \n"
     ]
    },
    {
     "name": "stdout",
     "output_type": "stream",
     "text": [
      "epoch: 5, [batch: 5040 / 12600], examples_per_second: 3129.2405, train_label_loss: 0.4910, \n"
     ]
    },
    {
     "name": "stdout",
     "output_type": "stream",
     "text": [
      "epoch: 5, [batch: 6300 / 12600], examples_per_second: 3141.1704, train_label_loss: 0.6457, \n"
     ]
    },
    {
     "name": "stdout",
     "output_type": "stream",
     "text": [
      "epoch: 5, [batch: 7560 / 12600], examples_per_second: 3151.9231, train_label_loss: 0.6437, \n"
     ]
    },
    {
     "name": "stdout",
     "output_type": "stream",
     "text": [
      "epoch: 5, [batch: 8820 / 12600], examples_per_second: 3132.3678, train_label_loss: 0.6693, \n"
     ]
    },
    {
     "name": "stdout",
     "output_type": "stream",
     "text": [
      "epoch: 5, [batch: 10080 / 12600], examples_per_second: 3146.4499, train_label_loss: 0.4144, \n"
     ]
    },
    {
     "name": "stdout",
     "output_type": "stream",
     "text": [
      "epoch: 5, [batch: 11340 / 12600], examples_per_second: 3158.2879, train_label_loss: 0.5270, \n"
     ]
    },
    {
     "name": "stdout",
     "output_type": "stream",
     "text": [
      "=============================================================\n",
      "epoch: 5, source_val_acc_label: 0.7102, target_val_acc_label: 0.5856, source_val_label_loss: 0.7928, target_val_label_loss: 1.2603, \n",
      "=============================================================\n"
     ]
    },
    {
     "name": "stdout",
     "output_type": "stream",
     "text": [
      "New best\n"
     ]
    },
    {
     "name": "stdout",
     "output_type": "stream",
     "text": [
      "epoch: 6, [batch: 1 / 12600], examples_per_second: 2.2355, train_label_loss: 0.3674, \n"
     ]
    },
    {
     "name": "stdout",
     "output_type": "stream",
     "text": [
      "epoch: 6, [batch: 1260 / 12600], examples_per_second: 3130.9089, train_label_loss: 0.6385, \n"
     ]
    },
    {
     "name": "stdout",
     "output_type": "stream",
     "text": [
      "epoch: 6, [batch: 2520 / 12600], examples_per_second: 3146.4851, train_label_loss: 0.5763, \n"
     ]
    },
    {
     "name": "stdout",
     "output_type": "stream",
     "text": [
      "epoch: 6, [batch: 3780 / 12600], examples_per_second: 3152.5061, train_label_loss: 0.3554, \n"
     ]
    },
    {
     "name": "stdout",
     "output_type": "stream",
     "text": [
      "epoch: 6, [batch: 5040 / 12600], examples_per_second: 3127.9594, train_label_loss: 0.3398, \n"
     ]
    },
    {
     "name": "stdout",
     "output_type": "stream",
     "text": [
      "epoch: 6, [batch: 6300 / 12600], examples_per_second: 3137.5030, train_label_loss: 0.3202, \n"
     ]
    },
    {
     "name": "stdout",
     "output_type": "stream",
     "text": [
      "epoch: 6, [batch: 7560 / 12600], examples_per_second: 3144.1274, train_label_loss: 0.5978, \n"
     ]
    },
    {
     "name": "stdout",
     "output_type": "stream",
     "text": [
      "epoch: 6, [batch: 8820 / 12600], examples_per_second: 3133.5219, train_label_loss: 0.5699, \n"
     ]
    },
    {
     "name": "stdout",
     "output_type": "stream",
     "text": [
      "epoch: 6, [batch: 10080 / 12600], examples_per_second: 3138.2348, train_label_loss: 0.4578, \n"
     ]
    },
    {
     "name": "stdout",
     "output_type": "stream",
     "text": [
      "epoch: 6, [batch: 11340 / 12600], examples_per_second: 3143.3748, train_label_loss: 0.7301, \n"
     ]
    },
    {
     "name": "stdout",
     "output_type": "stream",
     "text": [
      "=============================================================\n",
      "epoch: 6, source_val_acc_label: 0.7159, target_val_acc_label: 0.5892, source_val_label_loss: 0.8043, target_val_label_loss: 1.2873, \n",
      "=============================================================\n"
     ]
    },
    {
     "name": "stdout",
     "output_type": "stream",
     "text": [
      "New best\n"
     ]
    },
    {
     "name": "stdout",
     "output_type": "stream",
     "text": [
      "epoch: 7, [batch: 1 / 12600], examples_per_second: 2.2269, train_label_loss: 0.4160, \n"
     ]
    },
    {
     "name": "stdout",
     "output_type": "stream",
     "text": [
      "epoch: 7, [batch: 1260 / 12600], examples_per_second: 3123.8536, train_label_loss: 0.2599, \n"
     ]
    },
    {
     "name": "stdout",
     "output_type": "stream",
     "text": [
      "epoch: 7, [batch: 2520 / 12600], examples_per_second: 3142.3764, train_label_loss: 0.5330, \n"
     ]
    },
    {
     "name": "stdout",
     "output_type": "stream",
     "text": [
      "epoch: 7, [batch: 3780 / 12600], examples_per_second: 3146.0241, train_label_loss: 0.3697, \n"
     ]
    },
    {
     "name": "stdout",
     "output_type": "stream",
     "text": [
      "epoch: 7, [batch: 5040 / 12600], examples_per_second: 3120.2718, train_label_loss: 0.2265, \n"
     ]
    },
    {
     "name": "stdout",
     "output_type": "stream",
     "text": [
      "epoch: 7, [batch: 6300 / 12600], examples_per_second: 3141.0969, train_label_loss: 0.2895, \n"
     ]
    },
    {
     "name": "stdout",
     "output_type": "stream",
     "text": [
      "epoch: 7, [batch: 7560 / 12600], examples_per_second: 3144.2813, train_label_loss: 0.3492, \n"
     ]
    },
    {
     "name": "stdout",
     "output_type": "stream",
     "text": [
      "epoch: 7, [batch: 8820 / 12600], examples_per_second: 3128.0820, train_label_loss: 0.4724, \n"
     ]
    },
    {
     "name": "stdout",
     "output_type": "stream",
     "text": [
      "epoch: 7, [batch: 10080 / 12600], examples_per_second: 3138.6712, train_label_loss: 0.5468, \n"
     ]
    },
    {
     "name": "stdout",
     "output_type": "stream",
     "text": [
      "epoch: 7, [batch: 11340 / 12600], examples_per_second: 3140.5449, train_label_loss: 0.5304, \n"
     ]
    },
    {
     "name": "stdout",
     "output_type": "stream",
     "text": [
      "=============================================================\n",
      "epoch: 7, source_val_acc_label: 0.7145, target_val_acc_label: 0.5896, source_val_label_loss: 0.8281, target_val_label_loss: 1.3288, \n",
      "=============================================================\n"
     ]
    },
    {
     "name": "stdout",
     "output_type": "stream",
     "text": [
      "New best\n"
     ]
    },
    {
     "name": "stdout",
     "output_type": "stream",
     "text": [
      "epoch: 8, [batch: 1 / 12600], examples_per_second: 2.2284, train_label_loss: 0.2174, \n"
     ]
    },
    {
     "name": "stdout",
     "output_type": "stream",
     "text": [
      "epoch: 8, [batch: 1260 / 12600], examples_per_second: 3116.9079, train_label_loss: 0.2413, \n"
     ]
    },
    {
     "name": "stdout",
     "output_type": "stream",
     "text": [
      "epoch: 8, [batch: 2520 / 12600], examples_per_second: 3143.1840, train_label_loss: 0.4000, \n"
     ]
    },
    {
     "name": "stdout",
     "output_type": "stream",
     "text": [
      "epoch: 8, [batch: 3780 / 12600], examples_per_second: 3140.3902, train_label_loss: 0.4088, \n"
     ]
    },
    {
     "name": "stdout",
     "output_type": "stream",
     "text": [
      "epoch: 8, [batch: 5040 / 12600], examples_per_second: 3130.3528, train_label_loss: 0.6085, \n"
     ]
    },
    {
     "name": "stdout",
     "output_type": "stream",
     "text": [
      "epoch: 8, [batch: 6300 / 12600], examples_per_second: 3141.7753, train_label_loss: 0.1603, \n"
     ]
    },
    {
     "name": "stdout",
     "output_type": "stream",
     "text": [
      "epoch: 8, [batch: 7560 / 12600], examples_per_second: 3141.2079, train_label_loss: 0.4957, \n"
     ]
    },
    {
     "name": "stdout",
     "output_type": "stream",
     "text": [
      "epoch: 8, [batch: 8820 / 12600], examples_per_second: 3130.2327, train_label_loss: 0.4136, \n"
     ]
    },
    {
     "name": "stdout",
     "output_type": "stream",
     "text": [
      "epoch: 8, [batch: 10080 / 12600], examples_per_second: 3138.1077, train_label_loss: 0.4904, \n"
     ]
    },
    {
     "name": "stdout",
     "output_type": "stream",
     "text": [
      "epoch: 8, [batch: 11340 / 12600], examples_per_second: 3143.0401, train_label_loss: 0.2537, \n"
     ]
    },
    {
     "name": "stdout",
     "output_type": "stream",
     "text": [
      "=============================================================\n",
      "epoch: 8, source_val_acc_label: 0.7157, target_val_acc_label: 0.5887, source_val_label_loss: 0.8670, target_val_label_loss: 1.3953, \n",
      "=============================================================\n"
     ]
    },
    {
     "name": "stdout",
     "output_type": "stream",
     "text": [
      "epoch: 9, [batch: 1 / 12600], examples_per_second: 2.2273, train_label_loss: 0.3941, \n"
     ]
    },
    {
     "name": "stdout",
     "output_type": "stream",
     "text": [
      "epoch: 9, [batch: 1260 / 12600], examples_per_second: 3122.5787, train_label_loss: 0.1545, \n"
     ]
    },
    {
     "name": "stdout",
     "output_type": "stream",
     "text": [
      "epoch: 9, [batch: 2520 / 12600], examples_per_second: 3131.2777, train_label_loss: 0.3012, \n"
     ]
    },
    {
     "name": "stdout",
     "output_type": "stream",
     "text": [
      "epoch: 9, [batch: 3780 / 12600], examples_per_second: 3131.5754, train_label_loss: 0.2135, \n"
     ]
    },
    {
     "name": "stdout",
     "output_type": "stream",
     "text": [
      "epoch: 9, [batch: 5040 / 12600], examples_per_second: 3117.9174, train_label_loss: 0.2669, \n"
     ]
    },
    {
     "name": "stdout",
     "output_type": "stream",
     "text": [
      "epoch: 9, [batch: 6300 / 12600], examples_per_second: 3139.5158, train_label_loss: 0.3282, \n"
     ]
    },
    {
     "name": "stdout",
     "output_type": "stream",
     "text": [
      "epoch: 9, [batch: 7560 / 12600], examples_per_second: 3142.0415, train_label_loss: 0.3585, \n"
     ]
    },
    {
     "name": "stdout",
     "output_type": "stream",
     "text": [
      "epoch: 9, [batch: 8820 / 12600], examples_per_second: 3133.3052, train_label_loss: 0.1403, \n"
     ]
    },
    {
     "name": "stdout",
     "output_type": "stream",
     "text": [
      "epoch: 9, [batch: 10080 / 12600], examples_per_second: 3139.4440, train_label_loss: 0.1516, \n"
     ]
    },
    {
     "name": "stdout",
     "output_type": "stream",
     "text": [
      "epoch: 9, [batch: 11340 / 12600], examples_per_second: 3128.6801, train_label_loss: 0.3129, \n"
     ]
    },
    {
     "name": "stdout",
     "output_type": "stream",
     "text": [
      "=============================================================\n",
      "epoch: 9, source_val_acc_label: 0.7130, target_val_acc_label: 0.5867, source_val_label_loss: 0.8987, target_val_label_loss: 1.4358, \n",
      "=============================================================\n"
     ]
    },
    {
     "name": "stdout",
     "output_type": "stream",
     "text": [
      "epoch: 10, [batch: 1 / 12600], examples_per_second: 2.2300, train_label_loss: 0.1953, \n"
     ]
    },
    {
     "name": "stdout",
     "output_type": "stream",
     "text": [
      "epoch: 10, [batch: 1260 / 12600], examples_per_second: 3129.8115, train_label_loss: 0.2509, \n"
     ]
    },
    {
     "name": "stdout",
     "output_type": "stream",
     "text": [
      "epoch: 10, [batch: 2520 / 12600], examples_per_second: 3146.0828, train_label_loss: 0.5194, \n"
     ]
    },
    {
     "name": "stdout",
     "output_type": "stream",
     "text": [
      "epoch: 10, [batch: 3780 / 12600], examples_per_second: 3146.3826, train_label_loss: 0.4152, \n"
     ]
    },
    {
     "name": "stdout",
     "output_type": "stream",
     "text": [
      "epoch: 10, [batch: 5040 / 12600], examples_per_second: 3131.9004, train_label_loss: 0.4409, \n"
     ]
    },
    {
     "name": "stdout",
     "output_type": "stream",
     "text": [
      "epoch: 10, [batch: 6300 / 12600], examples_per_second: 3133.9771, train_label_loss: 0.1842, \n"
     ]
    },
    {
     "name": "stdout",
     "output_type": "stream",
     "text": [
      "epoch: 10, [batch: 7560 / 12600], examples_per_second: 3150.3789, train_label_loss: 0.1391, \n"
     ]
    },
    {
     "name": "stdout",
     "output_type": "stream",
     "text": [
      "epoch: 10, [batch: 8820 / 12600], examples_per_second: 3130.5917, train_label_loss: 0.4222, \n"
     ]
    },
    {
     "name": "stdout",
     "output_type": "stream",
     "text": [
      "epoch: 10, [batch: 10080 / 12600], examples_per_second: 3131.4292, train_label_loss: 0.1919, \n"
     ]
    },
    {
     "name": "stdout",
     "output_type": "stream",
     "text": [
      "epoch: 10, [batch: 11340 / 12600], examples_per_second: 3141.7413, train_label_loss: 0.2603, \n"
     ]
    },
    {
     "name": "stdout",
     "output_type": "stream",
     "text": [
      "=============================================================\n",
      "epoch: 10, source_val_acc_label: 0.7069, target_val_acc_label: 0.5829, source_val_label_loss: 0.9455, target_val_label_loss: 1.4759, \n",
      "=============================================================\n"
     ]
    },
    {
     "name": "stdout",
     "output_type": "stream",
     "text": [
      "epoch: 11, [batch: 1 / 12600], examples_per_second: 2.2331, train_label_loss: 0.5877, \n"
     ]
    },
    {
     "name": "stdout",
     "output_type": "stream",
     "text": [
      "epoch: 11, [batch: 1260 / 12600], examples_per_second: 3125.1461, train_label_loss: 0.3274, \n"
     ]
    },
    {
     "name": "stdout",
     "output_type": "stream",
     "text": [
      "epoch: 11, [batch: 2520 / 12600], examples_per_second: 3141.9027, train_label_loss: 0.1725, \n"
     ]
    },
    {
     "name": "stdout",
     "output_type": "stream",
     "text": [
      "epoch: 11, [batch: 3780 / 12600], examples_per_second: 3141.2999, train_label_loss: 0.0545, \n"
     ]
    },
    {
     "name": "stdout",
     "output_type": "stream",
     "text": [
      "epoch: 11, [batch: 5040 / 12600], examples_per_second: 3129.1910, train_label_loss: 0.1408, \n"
     ]
    },
    {
     "name": "stdout",
     "output_type": "stream",
     "text": [
      "epoch: 11, [batch: 6300 / 12600], examples_per_second: 3133.3782, train_label_loss: 0.2706, \n"
     ]
    },
    {
     "name": "stdout",
     "output_type": "stream",
     "text": [
      "epoch: 11, [batch: 7560 / 12600], examples_per_second: 3145.9257, train_label_loss: 0.2267, \n"
     ]
    },
    {
     "name": "stdout",
     "output_type": "stream",
     "text": [
      "epoch: 11, [batch: 8820 / 12600], examples_per_second: 3134.6550, train_label_loss: 0.2656, \n"
     ]
    },
    {
     "name": "stdout",
     "output_type": "stream",
     "text": [
      "epoch: 11, [batch: 10080 / 12600], examples_per_second: 3137.1496, train_label_loss: 0.5747, \n"
     ]
    },
    {
     "name": "stdout",
     "output_type": "stream",
     "text": [
      "epoch: 11, [batch: 11340 / 12600], examples_per_second: 3133.5769, train_label_loss: 0.2919, \n"
     ]
    },
    {
     "name": "stdout",
     "output_type": "stream",
     "text": [
      "=============================================================\n",
      "epoch: 11, source_val_acc_label: 0.7084, target_val_acc_label: 0.5841, source_val_label_loss: 0.9626, target_val_label_loss: 1.5098, \n",
      "=============================================================\n"
     ]
    },
    {
     "name": "stdout",
     "output_type": "stream",
     "text": [
      "Patience (3) exhausted\n"
     ]
    }
   ],
   "source": [
    "###################################\n",
    "# train\n",
    "###################################\n",
    "jig = PTN_Train_Eval_Test_Jig(model, p.BEST_MODEL_PATH, p.device)\n",
    "\n",
    "jig.train(\n",
    "    train_iterable=datasets.source.processed.train,\n",
    "    source_val_iterable=datasets.source.processed.val,\n",
    "    target_val_iterable=datasets.target.processed.val,\n",
    "    num_epochs=p.n_epoch,\n",
    "    num_logs_per_epoch=p.NUM_LOGS_PER_EPOCH,\n",
    "    patience=p.patience,\n",
    "    optimizer=optimizer,\n",
    "    criteria_for_best=p.criteria_for_best,\n",
    ")"
   ]
  },
  {
   "cell_type": "code",
   "execution_count": 14,
   "id": "31e8fabf",
   "metadata": {
    "execution": {
     "iopub.execute_input": "2022-03-21T20:50:23.532322Z",
     "iopub.status.busy": "2022-03-21T20:50:23.532066Z",
     "iopub.status.idle": "2022-03-21T20:50:23.549732Z",
     "shell.execute_reply": "2022-03-21T20:50:23.549318Z"
    },
    "papermill": {
     "duration": 0.05467,
     "end_time": "2022-03-21T20:50:23.549843",
     "exception": false,
     "start_time": "2022-03-21T20:50:23.495173",
     "status": "completed"
    },
    "tags": []
   },
   "outputs": [],
   "source": [
    "total_experiment_time_secs = time.time() - start_time_secs"
   ]
  },
  {
   "cell_type": "code",
   "execution_count": 15,
   "id": "87b9595b",
   "metadata": {
    "execution": {
     "iopub.execute_input": "2022-03-21T20:50:23.628560Z",
     "iopub.status.busy": "2022-03-21T20:50:23.623949Z",
     "iopub.status.idle": "2022-03-21T20:54:26.251347Z",
     "shell.execute_reply": "2022-03-21T20:54:26.250918Z"
    },
    "papermill": {
     "duration": 242.662916,
     "end_time": "2022-03-21T20:54:26.251456",
     "exception": false,
     "start_time": "2022-03-21T20:50:23.588540",
     "status": "completed"
    },
    "tags": []
   },
   "outputs": [],
   "source": [
    "###################################\n",
    "# Evaluate the model\n",
    "###################################\n",
    "source_test_label_accuracy, source_test_label_loss = jig.test(datasets.source.processed.test)\n",
    "target_test_label_accuracy, target_test_label_loss = jig.test(datasets.target.processed.test)\n",
    "\n",
    "source_val_label_accuracy, source_val_label_loss = jig.test(datasets.source.processed.val)\n",
    "target_val_label_accuracy, target_val_label_loss = jig.test(datasets.target.processed.val)\n",
    "\n",
    "history = jig.get_history()\n",
    "\n",
    "total_epochs_trained = len(history[\"epoch_indices\"])\n",
    "\n",
    "val_dl = Iterable_Aggregator((datasets.source.original.val,datasets.target.original.val))\n",
    "\n",
    "confusion = ptn_confusion_by_domain_over_dataloader(model, p.device, val_dl)\n",
    "per_domain_accuracy = per_domain_accuracy_from_confusion(confusion)\n",
    "\n",
    "# Add a key to per_domain_accuracy for if it was a source domain\n",
    "for domain, accuracy in per_domain_accuracy.items():\n",
    "    per_domain_accuracy[domain] = {\n",
    "        \"accuracy\": accuracy,\n",
    "        \"source?\": domain in p.domains_source\n",
    "    }\n",
    "\n",
    "# Do an independent accuracy assesment JUST TO BE SURE!\n",
    "# _source_test_label_accuracy = independent_accuracy_assesment(model, datasets.source.processed.test, p.device)\n",
    "# _target_test_label_accuracy = independent_accuracy_assesment(model, datasets.target.processed.test, p.device)\n",
    "# _source_val_label_accuracy = independent_accuracy_assesment(model, datasets.source.processed.val, p.device)\n",
    "# _target_val_label_accuracy = independent_accuracy_assesment(model, datasets.target.processed.val, p.device)\n",
    "\n",
    "# assert(_source_test_label_accuracy == source_test_label_accuracy)\n",
    "# assert(_target_test_label_accuracy == target_test_label_accuracy)\n",
    "# assert(_source_val_label_accuracy == source_val_label_accuracy)\n",
    "# assert(_target_val_label_accuracy == target_val_label_accuracy)\n",
    "\n",
    "experiment = {\n",
    "    \"experiment_name\": p.experiment_name,\n",
    "    \"parameters\": dict(p),\n",
    "    \"results\": {\n",
    "        \"source_test_label_accuracy\": source_test_label_accuracy,\n",
    "        \"source_test_label_loss\": source_test_label_loss,\n",
    "        \"target_test_label_accuracy\": target_test_label_accuracy,\n",
    "        \"target_test_label_loss\": target_test_label_loss,\n",
    "        \"source_val_label_accuracy\": source_val_label_accuracy,\n",
    "        \"source_val_label_loss\": source_val_label_loss,\n",
    "        \"target_val_label_accuracy\": target_val_label_accuracy,\n",
    "        \"target_val_label_loss\": target_val_label_loss,\n",
    "        \"total_epochs_trained\": total_epochs_trained,\n",
    "        \"total_experiment_time_secs\": total_experiment_time_secs,\n",
    "        \"confusion\": confusion,\n",
    "        \"per_domain_accuracy\": per_domain_accuracy,\n",
    "    },\n",
    "    \"history\": history,\n",
    "    \"dataset_metrics\": get_dataset_metrics(datasets, \"ptn\"),\n",
    "}"
   ]
  },
  {
   "cell_type": "code",
   "execution_count": 16,
   "id": "54a21829",
   "metadata": {
    "execution": {
     "iopub.execute_input": "2022-03-21T20:54:26.324305Z",
     "iopub.status.busy": "2022-03-21T20:54:26.324055Z",
     "iopub.status.idle": "2022-03-21T20:54:26.461579Z",
     "shell.execute_reply": "2022-03-21T20:54:26.461982Z"
    },
    "papermill": {
     "duration": 0.173354,
     "end_time": "2022-03-21T20:54:26.462108",
     "exception": false,
     "start_time": "2022-03-21T20:54:26.288754",
     "status": "completed"
    },
    "tags": []
   },
   "outputs": [
    {
     "data": {
      "image/png": "[encoded data removed]",
      "text/plain": [
       "<Figure size 1080x504 with 1 Axes>"
      ]
     },
     "metadata": {
      "needs_background": "light"
     },
     "output_type": "display_data"
    }
   ],
   "source": [
    "ax = get_loss_curve(experiment)\n",
    "plt.show()"
   ]
  },
  {
   "cell_type": "code",
   "execution_count": 17,
   "id": "fd8a0f60",
   "metadata": {
    "execution": {
     "iopub.execute_input": "2022-03-21T20:54:26.536514Z",
     "iopub.status.busy": "2022-03-21T20:54:26.536263Z",
     "iopub.status.idle": "2022-03-21T20:54:26.681282Z",
     "shell.execute_reply": "2022-03-21T20:54:26.681703Z"
    },
    "papermill": {
     "duration": 0.181094,
     "end_time": "2022-03-21T20:54:26.681834",
     "exception": false,
     "start_time": "2022-03-21T20:54:26.500740",
     "status": "completed"
    },
    "tags": []
   },
   "outputs": [
    {
     "data": {
      "text/plain": [
       "<AxesSubplot:title={'center':'Results'}>"
      ]
     },
     "execution_count": 17,
     "metadata": {},
     "output_type": "execute_result"
    },
    {
     "data": {
      "image/png": "[encoded data removed]",
      "text/plain": [
       "<Figure size 1080x504 with 1 Axes>"
      ]
     },
     "metadata": {
      "needs_background": "light"
     },
     "output_type": "display_data"
    }
   ],
   "source": [
    "get_results_table(experiment)"
   ]
  },
  {
   "cell_type": "code",
   "execution_count": 18,
   "id": "cf8dc689",
   "metadata": {
    "execution": {
     "iopub.execute_input": "2022-03-21T20:54:26.760695Z",
     "iopub.status.busy": "2022-03-21T20:54:26.760442Z",
     "iopub.status.idle": "2022-03-21T20:54:26.874628Z",
     "shell.execute_reply": "2022-03-21T20:54:26.874136Z"
    },
    "papermill": {
     "duration": 0.151463,
     "end_time": "2022-03-21T20:54:26.874738",
     "exception": false,
     "start_time": "2022-03-21T20:54:26.723275",
     "status": "completed"
    },
    "tags": []
   },
   "outputs": [
    {
     "data": {
      "text/plain": [
       "<AxesSubplot:title={'center':'Per Domain Validation Accuracy'}, xlabel='domain'>"
      ]
     },
     "execution_count": 18,
     "metadata": {},
     "output_type": "execute_result"
    },
    {
     "data": {
      "image/png": "[encoded data removed]",
      "text/plain": [
       "<Figure size 1080x504 with 1 Axes>"
      ]
     },
     "metadata": {
      "needs_background": "light"
     },
     "output_type": "display_data"
    }
   ],
   "source": [
    "get_domain_accuracies(experiment)"
   ]
  },
  {
   "cell_type": "code",
   "execution_count": 19,
   "id": "a74ae082",
   "metadata": {
    "execution": {
     "iopub.execute_input": "2022-03-21T20:54:26.955481Z",
     "iopub.status.busy": "2022-03-21T20:54:26.953531Z",
     "iopub.status.idle": "2022-03-21T20:54:26.969448Z",
     "shell.execute_reply": "2022-03-21T20:54:26.968963Z"
    },
    "papermill": {
     "duration": 0.055384,
     "end_time": "2022-03-21T20:54:26.969550",
     "exception": false,
     "start_time": "2022-03-21T20:54:26.914166",
     "status": "completed"
    },
    "tags": []
   },
   "outputs": [
    {
     "name": "stdout",
     "output_type": "stream",
     "text": [
      "Source Test Label Accuracy: 0.7133680555555556 Target Test Label Accuracy: 0.58953125\n",
      "Source Val Label Accuracy: 0.71453125 Target Val Label Accuracy: 0.5895729166666667\n"
     ]
    }
   ],
   "source": [
    "print(\"Source Test Label Accuracy:\", experiment[\"results\"][\"source_test_label_accuracy\"], \"Target Test Label Accuracy:\", experiment[\"results\"][\"target_test_label_accuracy\"])\n",
    "print(\"Source Val Label Accuracy:\", experiment[\"results\"][\"source_val_label_accuracy\"], \"Target Val Label Accuracy:\", experiment[\"results\"][\"target_val_label_accuracy\"])"
   ]
  },
  {
   "cell_type": "code",
   "execution_count": 20,
   "id": "dacca602",
   "metadata": {
    "execution": {
     "iopub.execute_input": "2022-03-21T20:54:27.051087Z",
     "iopub.status.busy": "2022-03-21T20:54:27.050425Z",
     "iopub.status.idle": "2022-03-21T20:54:27.067593Z",
     "shell.execute_reply": "2022-03-21T20:54:27.067150Z"
    },
    "papermill": {
     "duration": 0.05649,
     "end_time": "2022-03-21T20:54:27.067696",
     "exception": false,
     "start_time": "2022-03-21T20:54:27.011206",
     "status": "completed"
    },
    "tags": [
     "experiment_json"
    ]
   },
   "outputs": [
    {
     "data": {
      "text/plain": [
       "'{\"experiment_name\": \"tuned_1v2:oracle.run2\", \"parameters\": {\"experiment_name\": \"tuned_1v2:oracle.run2\", \"device\": \"cuda\", \"lr\": 0.0001, \"labels_source\": [\"3123D52\", \"3123D65\", \"3123D79\", \"3123D80\", \"3123D54\", \"3123D70\", \"3123D7B\", \"3123D89\", \"3123D58\", \"3123D76\", \"3123D7D\", \"3123EFE\", \"3123D64\", \"3123D78\", \"3123D7E\", \"3124E4A\"], \"labels_target\": [\"3123D52\", \"3123D65\", \"3123D79\", \"3123D80\", \"3123D54\", \"3123D70\", \"3123D7B\", \"3123D89\", \"3123D58\", \"3123D76\", \"3123D7D\", \"3123EFE\", \"3123D64\", \"3123D78\", \"3123D7E\", \"3124E4A\"], \"episode_transforms_source\": [], \"episode_transforms_target\": [], \"domains_source\": [8, 32, 50], \"domains_target\": [14, 20, 26, 38, 44], \"num_examples_per_domain_per_label_source\": -1, \"num_examples_per_domain_per_label_target\": -1, \"n_shot\": 3, \"n_way\": 16, \"n_query\": 2, \"train_k_factor\": 3, \"val_k_factor\": 2, \"test_k_factor\": 2, \"torch_default_dtype\": \"torch.float32\", \"n_epoch\": 50, \"patience\": 3, \"criteria_for_best\": \"target_accuracy\", \"x_net\": [{\"class\": \"nnReshape\", \"kargs\": {\"shape\": [-1, 1, 2, 256]}}, {\"class\": \"Conv2d\", \"kargs\": {\"in_channels\": 1, \"out_channels\": 256, \"kernel_size\": [1, 7], \"bias\": false, \"padding\": [0, 3]}}, {\"class\": \"ReLU\", \"kargs\": {\"inplace\": true}}, {\"class\": \"BatchNorm2d\", \"kargs\": {\"num_features\": 256}}, {\"class\": \"Conv2d\", \"kargs\": {\"in_channels\": 256, \"out_channels\": 80, \"kernel_size\": [2, 7], \"bias\": true, \"padding\": [0, 3]}}, {\"class\": \"ReLU\", \"kargs\": {\"inplace\": true}}, {\"class\": \"BatchNorm2d\", \"kargs\": {\"num_features\": 80}}, {\"class\": \"Flatten\", \"kargs\": {}}, {\"class\": \"Linear\", \"kargs\": {\"in_features\": 20480, \"out_features\": 256}}, {\"class\": \"ReLU\", \"kargs\": {\"inplace\": true}}, {\"class\": \"BatchNorm1d\", \"kargs\": {\"num_features\": 256}}, {\"class\": \"Linear\", \"kargs\": {\"in_features\": 256, \"out_features\": 256}}], \"NUM_LOGS_PER_EPOCH\": 10, \"BEST_MODEL_PATH\": \"./best_model.pth\", \"pickle_name\": \"oracle.Run2_10kExamples_stratified_ds.2022A.pkl\", \"x_transforms_source\": [\"unit_power\"], \"x_transforms_target\": [\"unit_power\"], \"dataset_seed\": 420, \"seed\": 420}, \"results\": {\"source_test_label_accuracy\": 0.7133680555555556, \"source_test_label_loss\": 0.841982901096344, \"target_test_label_accuracy\": 0.58953125, \"target_test_label_loss\": 1.3190467357635498, \"source_val_label_accuracy\": 0.71453125, \"source_val_label_loss\": 0.8281350135803223, \"target_val_label_accuracy\": 0.5895729166666667, \"target_val_label_loss\": 1.3288054466247559, \"total_epochs_trained\": 11, \"total_experiment_time_secs\": 4055.457145690918, \"confusion\": {\"8\": {\"15\": {\"15\": 676, \"12\": 182, \"8\": 113, \"11\": 194, \"3\": 19, \"2\": 5, \"4\": 2, \"7\": 9}, \"5\": {\"1\": 54, \"5\": 963, \"10\": 167, \"0\": 7, \"13\": 9}, \"7\": {\"4\": 308, \"7\": 481, \"6\": 209, \"2\": 182, \"8\": 15, \"14\": 4, \"15\": 1}, \"4\": {\"4\": 436, \"7\": 258, \"6\": 376, \"0\": 6, \"8\": 4, \"2\": 101, \"14\": 19}, \"10\": {\"10\": 761, \"0\": 170, \"5\": 140, \"14\": 49, \"13\": 57, \"1\": 23}, \"11\": {\"8\": 265, \"11\": 622, \"15\": 205, \"12\": 106, \"6\": 1, \"4\": 1}, \"12\": {\"15\": 101, \"3\": 178, \"12\": 875, \"11\": 46}, \"0\": {\"0\": 758, \"10\": 172, \"14\": 220, \"5\": 1, \"13\": 26, \"4\": 9, \"6\": 12, \"7\": 1, \"1\": 1}, \"14\": {\"6\": 56, \"10\": 24, \"14\": 713, \"0\": 213, \"13\": 180, \"4\": 12, \"7\": 1, \"1\": 1}, \"8\": {\"8\": 971, \"15\": 89, \"11\": 107, \"6\": 11, \"4\": 6, \"13\": 4, \"7\": 11, \"14\": 1}, \"13\": {\"13\": 747, \"14\": 214, \"10\": 68, \"0\": 28, \"1\": 117, \"5\": 6, \"6\": 13, \"8\": 5, \"4\": 2}, \"6\": {\"6\": 528, \"14\": 57, \"7\": 231, \"4\": 340, \"0\": 8, \"13\": 6, \"2\": 19, \"8\": 11}, \"1\": {\"13\": 114, \"1\": 1010, \"10\": 29, \"5\": 43, \"0\": 1, \"14\": 3}, \"3\": {\"3\": 1011, \"12\": 178, \"15\": 11}, \"9\": {\"9\": 1200}, \"2\": {\"2\": 924, \"7\": 163, \"4\": 87, \"6\": 24, \"15\": 2}}, \"50\": {\"4\": {\"4\": 567, \"6\": 261, \"5\": 307, \"1\": 50, \"7\": 8, \"10\": 5, \"0\": 1, \"13\": 1}, \"10\": {\"10\": 837, \"13\": 181, \"7\": 74, \"5\": 74, \"0\": 31, \"4\": 3}, \"15\": {\"11\": 73, \"15\": 1031, \"1\": 80, \"6\": 13, \"14\": 2, \"4\": 1}, \"0\": {\"0\": 1083, \"2\": 91, \"5\": 3, \"10\": 18, \"13\": 1, \"1\": 1, \"6\": 2, \"7\": 1}, \"6\": {\"4\": 260, \"6\": 564, \"1\": 308, \"5\": 55, \"15\": 9, \"0\": 4}, \"3\": {\"3\": 1149, \"8\": 51}, \"7\": {\"5\": 132, \"13\": 457, \"7\": 512, \"10\": 87, \"4\": 12}, \"2\": {\"2\": 1142, \"0\": 57, \"6\": 1}, \"8\": {\"8\": 1173, \"3\": 27}, \"11\": {\"11\": 1111, \"14\": 25, \"9\": 19, \"15\": 34, \"12\": 11}, \"14\": {\"14\": 1157, \"12\": 22, \"11\": 20, \"15\": 1}, \"12\": {\"12\": 1090, \"14\": 39, \"9\": 60, \"11\": 11}, \"13\": {\"13\": 531, \"7\": 454, \"10\": 170, \"5\": 43, \"4\": 2}, \"9\": {\"9\": 1106, \"12\": 72, \"11\": 22}, \"5\": {\"4\": 314, \"7\": 91, \"5\": 605, \"10\": 65, \"6\": 63, \"13\": 47, \"0\": 13, \"1\": 2}, \"1\": {\"1\": 881, \"6\": 233, \"4\": 23, \"15\": 60, \"14\": 2, \"0\": 1}}, \"32\": {\"7\": {\"13\": 154, \"7\": 641, \"4\": 80, \"11\": 278, \"0\": 32, \"5\": 6, \"2\": 9}, \"2\": {\"2\": 862, \"5\": 74, \"4\": 32, \"0\": 59, \"14\": 127, \"11\": 25, \"7\": 20, \"13\": 1}, \"5\": {\"4\": 143, \"2\": 112, \"0\": 190, \"5\": 393, \"13\": 63, \"8\": 186, \"14\": 77, \"11\": 24, \"3\": 3, \"7\": 8, \"15\": 1}, \"6\": {\"6\": 1200}, \"13\": {\"7\": 176, \"13\": 532, \"4\": 213, \"0\": 55, \"11\": 103, \"3\": 28, \"8\": 62, \"5\": 31}, \"4\": {\"13\": 225, \"5\": 148, \"11\": 100, \"4\": 417, \"0\": 134, \"7\": 82, \"3\": 2, \"8\": 70, \"2\": 22}, \"3\": {\"3\": 1137, \"11\": 3, \"13\": 40, \"8\": 13, \"5\": 1, \"7\": 6}, \"0\": {\"5\": 200, \"0\": 475, \"4\": 187, \"11\": 137, \"13\": 56, \"2\": 62, \"8\": 55, \"7\": 21, \"14\": 7}, \"9\": {\"9\": 1153, \"14\": 45, \"12\": 2}, \"12\": {\"12\": 1200}, \"8\": {\"8\": 863, \"0\": 66, \"4\": 61, \"5\": 83, \"13\": 85, \"3\": 26, \"15\": 9, \"11\": 6, \"7\": 1}, \"14\": {\"14\": 977, \"5\": 39, \"0\": 24, \"2\": 154, \"11\": 4, \"7\": 1, \"4\": 1}, \"15\": {\"15\": 1188, \"8\": 11, \"5\": 1}, \"11\": {\"2\": 42, \"11\": 516, \"4\": 88, \"13\": 106, \"7\": 299, \"0\": 131, \"8\": 3, \"5\": 14, \"14\": 1}, \"10\": {\"10\": 1200}, \"1\": {\"1\": 1188, \"10\": 12}}, \"20\": {\"15\": {\"9\": 128, \"2\": 119, \"13\": 273, \"12\": 114, \"3\": 14, \"15\": 314, \"5\": 70, \"1\": 120, \"0\": 42, \"4\": 5, \"7\": 1}, \"5\": {\"9\": 149, \"2\": 163, \"3\": 214, \"7\": 48, \"5\": 220, \"0\": 75, \"12\": 114, \"8\": 18, \"4\": 51, \"15\": 71, \"13\": 27, \"1\": 44, \"10\": 5, \"14\": 1}, \"7\": {\"8\": 123, \"7\": 770, \"3\": 178, \"2\": 26, \"11\": 3, \"10\": 37, \"6\": 32, \"15\": 1, \"5\": 20, \"9\": 4, \"14\": 4, \"13\": 1, \"4\": 1}, \"4\": {\"0\": 66, \"4\": 915, \"2\": 4, \"10\": 29, \"14\": 5, \"12\": 52, \"9\": 11, \"5\": 44, \"15\": 2, \"8\": 39, \"3\": 26, \"1\": 7}, \"10\": {\"14\": 197, \"8\": 249, \"10\": 597, \"7\": 69, \"3\": 13, \"4\": 35, \"6\": 37, \"5\": 2, \"9\": 1}, \"11\": {\"11\": 1194, \"7\": 4, \"5\": 1, \"9\": 1}, \"12\": {\"9\": 115, \"5\": 127, \"1\": 199, \"12\": 330, \"3\": 23, \"15\": 109, \"0\": 161, \"4\": 55, \"2\": 52, \"13\": 26, \"8\": 2, \"7\": 1}, \"0\": {\"12\": 197, \"1\": 254, \"0\": 475, \"5\": 49, \"4\": 117, \"15\": 56, \"9\": 29, \"2\": 13, \"3\": 6, \"13\": 4}, \"14\": {\"14\": 672, \"10\": 238, \"6\": 114, \"8\": 163, \"7\": 7, \"4\": 5, \"3\": 1}, \"8\": {\"14\": 181, \"10\": 220, \"3\": 43, \"4\": 54, \"7\": 179, \"8\": 451, \"6\": 53, \"9\": 2, \"0\": 2, \"5\": 14, \"12\": 1}, \"13\": {\"2\": 88, \"15\": 263, \"13\": 701, \"9\": 64, \"1\": 24, \"5\": 28, \"12\": 16, \"3\": 6, \"0\": 10}, \"6\": {\"6\": 1034, \"10\": 29, \"14\": 71, \"7\": 42, \"8\": 24}, \"1\": {\"12\": 220, \"1\": 515, \"15\": 124, \"0\": 218, \"5\": 19, \"3\": 4, \"13\": 35, \"9\": 38, \"2\": 15, \"4\": 12}, \"3\": {\"3\": 361, \"10\": 15, \"5\": 178, \"2\": 183, \"7\": 168, \"9\": 145, \"8\": 43, \"6\": 1, \"1\": 4, \"12\": 38, \"15\": 31, \"0\": 5, \"4\": 22, \"13\": 6}, \"9\": {\"3\": 152, \"15\": 146, \"0\": 33, \"9\": 229, \"2\": 249, \"13\": 79, \"5\": 158, \"12\": 99, \"7\": 8, \"1\": 28, \"4\": 15, \"8\": 3, \"10\": 1}, \"2\": {\"2\": 314, \"3\": 189, \"7\": 23, \"9\": 218, \"1\": 14, \"5\": 174, \"15\": 104, \"13\": 88, \"12\": 51, \"0\": 13, \"4\": 10, \"10\": 1, \"8\": 1}}, \"26\": {\"4\": {\"4\": 556, \"8\": 65, \"14\": 76, \"15\": 53, \"2\": 118, \"3\": 75, \"7\": 91, \"0\": 124, \"10\": 14, \"1\": 21, \"9\": 7}, \"10\": {\"10\": 351, \"4\": 92, \"6\": 114, \"1\": 166, \"9\": 12, \"14\": 198, \"0\": 159, \"8\": 71, \"5\": 5, \"2\": 14, \"7\": 8, \"12\": 4, \"3\": 4, \"15\": 2}, \"15\": {\"3\": 380, \"7\": 120, \"15\": 431, \"8\": 12, \"4\": 90, \"2\": 154, \"0\": 2, \"5\": 6, \"9\": 3, \"14\": 1, \"13\": 1}, \"0\": {\"0\": 304, \"8\": 98, \"4\": 168, \"14\": 237, \"1\": 211, \"10\": 129, \"5\": 3, \"2\": 15, \"7\": 18, \"9\": 10, \"3\": 2, \"6\": 2, \"15\": 3}, \"6\": {\"6\": 756, \"13\": 86, \"8\": 48, \"5\": 82, \"10\": 98, \"9\": 97, \"1\": 7, \"14\": 19, \"0\": 5, \"7\": 2}, \"3\": {\"4\": 75, \"15\": 345, \"3\": 524, \"7\": 102, \"2\": 145, \"8\": 4, \"5\": 2, \"9\": 2, \"14\": 1}, \"7\": {\"2\": 300, \"3\": 102, \"7\": 329, \"4\": 123, \"14\": 9, \"8\": 106, \"15\": 93, \"5\": 60, \"9\": 56, \"10\": 4, \"0\": 15, \"13\": 3}, \"2\": {\"3\": 129, \"7\": 303, \"15\": 122, \"9\": 42, \"2\": 314, \"4\": 131, \"14\": 9, \"8\": 88, \"5\": 39, \"1\": 3, \"0\": 10, \"13\": 6, \"10\": 3, \"6\": 1}, \"8\": {\"8\": 387, \"0\": 100, \"2\": 86, \"10\": 74, \"4\": 79, \"7\": 116, \"5\": 53, \"15\": 3, \"13\": 14, \"9\": 144, \"14\": 81, \"6\": 36, \"1\": 19, \"3\": 8}, \"11\": {\"11\": 1191, \"12\": 9}, \"14\": {\"8\": 74, \"1\": 294, \"2\": 8, \"0\": 241, \"14\": 288, \"10\": 173, \"4\": 70, \"7\": 13, \"6\": 17, \"9\": 16, \"5\": 5, \"3\": 1}, \"12\": {\"12\": 1195, \"11\": 5}, \"13\": {\"5\": 279, \"13\": 707, \"8\": 11, \"9\": 120, \"6\": 61, \"7\": 13, \"2\": 6, \"15\": 2, \"14\": 1}, \"9\": {\"6\": 123, \"9\": 407, \"5\": 186, \"8\": 194, \"2\": 38, \"13\": 125, \"10\": 22, \"7\": 60, \"14\": 19, \"0\": 9, \"1\": 1, \"15\": 6, \"3\": 2, \"4\": 8}, \"5\": {\"5\": 318, \"6\": 142, \"7\": 113, \"9\": 167, \"8\": 46, \"13\": 270, \"2\": 88, \"10\": 10, \"15\": 23, \"3\": 16, \"14\": 3, \"4\": 2, \"1\": 1, \"0\": 1}, \"1\": {\"10\": 164, \"1\": 509, \"0\": 180, \"14\": 281, \"8\": 25, \"9\": 4, \"4\": 22, \"6\": 10, \"3\": 1, \"2\": 2, \"7\": 1, \"13\": 1}}, \"38\": {\"7\": {\"7\": 537, \"5\": 135, \"8\": 91, \"10\": 374, \"13\": 22, \"0\": 2, \"12\": 2, \"3\": 28, \"15\": 8, \"14\": 1}, \"2\": {\"2\": 1047, \"14\": 151, \"11\": 2}, \"5\": {\"5\": 410, \"10\": 32, \"15\": 129, \"13\": 174, \"7\": 132, \"8\": 284, \"3\": 27, \"1\": 11, \"0\": 1}, \"6\": {\"6\": 795, \"9\": 389, \"3\": 11, \"13\": 2, \"0\": 3}, \"13\": {\"8\": 203, \"13\": 226, \"15\": 275, \"1\": 113, \"5\": 176, \"2\": 19, \"3\": 86, \"6\": 23, \"7\": 33, \"10\": 23, \"0\": 9, \"14\": 13, \"9\": 1}, \"4\": {\"4\": 1080, \"12\": 114, \"11\": 1, \"10\": 5}, \"3\": {\"8\": 74, \"3\": 307, \"0\": 335, \"9\": 60, \"6\": 88, \"10\": 64, \"7\": 61, \"15\": 102, \"13\": 58, \"5\": 44, \"1\": 7}, \"0\": {\"3\": 295, \"0\": 854, \"7\": 10, \"6\": 6, \"13\": 5, \"10\": 15, \"15\": 4, \"9\": 7, \"5\": 2, \"8\": 2}, \"9\": {\"9\": 790, \"6\": 394, \"3\": 13, \"1\": 1, \"15\": 2}, \"12\": {\"12\": 1117, \"4\": 53, \"14\": 22, \"11\": 8}, \"8\": {\"8\": 345, \"15\": 199, \"13\": 173, \"7\": 100, \"5\": 309, \"3\": 36, \"10\": 29, \"1\": 6, \"14\": 1, \"0\": 2}, \"14\": {\"14\": 613, \"2\": 282, \"5\": 7, \"12\": 139, \"11\": 131, \"7\": 19, \"10\": 3, \"8\": 3, \"13\": 2, \"3\": 1}, \"15\": {\"1\": 88, \"8\": 176, \"15\": 410, \"13\": 266, \"5\": 123, \"3\": 95, \"0\": 10, \"9\": 3, \"7\": 11, \"6\": 13, \"10\": 5}, \"11\": {\"11\": 970, \"14\": 110, \"2\": 10, \"12\": 104, \"4\": 6}, \"10\": {\"10\": 626, \"8\": 51, \"7\": 378, \"3\": 56, \"5\": 51, \"0\": 15, \"13\": 16, \"15\": 7}, \"1\": {\"1\": 1073, \"13\": 51, \"15\": 63, \"8\": 8, \"3\": 1, \"5\": 3, \"6\": 1}}, \"14\": {\"11\": {\"11\": 1121, \"12\": 47, \"10\": 17, \"9\": 13, \"0\": 2}, \"7\": {\"7\": 1141, \"15\": 58, \"1\": 1}, \"6\": {\"13\": 269, \"6\": 685, \"2\": 79, \"14\": 150, \"4\": 9, \"5\": 7, \"3\": 1}, \"12\": {\"12\": 588, \"9\": 112, \"11\": 349, \"0\": 74, \"8\": 41, \"10\": 34, \"14\": 1, \"3\": 1}, \"4\": {\"3\": 140, \"5\": 367, \"2\": 108, \"4\": 513, \"1\": 55, \"13\": 2, \"14\": 9, \"6\": 6}, \"13\": {\"6\": 309, \"13\": 786, \"2\": 83, \"14\": 18, \"5\": 4}, \"8\": {\"8\": 1197, \"9\": 1, \"1\": 1, \"3\": 1}, \"5\": {\"5\": 490, \"1\": 137, \"4\": 359, \"3\": 88, \"2\": 118, \"14\": 6, \"13\": 1, \"6\": 1}, \"14\": {\"6\": 201, \"14\": 709, \"2\": 137, \"0\": 18, \"3\": 71, \"4\": 21, \"13\": 19, \"5\": 22, \"10\": 2}, \"3\": {\"3\": 836, \"14\": 50, \"1\": 11, \"5\": 88, \"4\": 176, \"2\": 32, \"0\": 4, \"6\": 3}, \"10\": {\"10\": 994, \"11\": 33, \"12\": 3, \"0\": 169, \"14\": 1}, \"1\": {\"1\": 1005, \"5\": 126, \"4\": 62, \"3\": 5, \"2\": 2}, \"2\": {\"5\": 167, \"6\": 85, \"2\": 462, \"14\": 147, \"3\": 77, \"13\": 139, \"4\": 101, \"15\": 11, \"1\": 9, \"0\": 2}, \"15\": {\"15\": 1121, \"7\": 79}, \"9\": {\"9\": 1181, \"12\": 14, \"0\": 5}, \"0\": {\"0\": 1133, \"10\": 56, \"14\": 4, \"3\": 5, \"9\": 2}}, \"44\": {\"10\": {\"10\": 1132, \"12\": 47, \"1\": 21}, \"6\": {\"6\": 1048, \"7\": 33, \"9\": 40, \"11\": 54, \"2\": 9, \"13\": 16}, \"13\": {\"13\": 1122, \"4\": 57, \"6\": 16, \"9\": 3, \"14\": 2}, \"3\": {\"3\": 995, \"12\": 66, \"1\": 136, \"2\": 3}, \"9\": {\"9\": 485, \"7\": 294, \"2\": 392, \"6\": 26, \"1\": 3}, \"1\": {\"3\": 173, \"12\": 355, \"1\": 659, \"2\": 3, \"10\": 6, \"7\": 4}, \"5\": {\"5\": 1038, \"14\": 137, \"8\": 15, \"0\": 6, \"15\": 4}, \"11\": {\"11\": 1070, \"6\": 114, \"7\": 14, \"9\": 2}, \"4\": {\"4\": 1048, \"14\": 65, \"15\": 58, \"13\": 29}, \"14\": {\"14\": 866, \"4\": 74, \"15\": 147, \"5\": 108, \"8\": 5}, \"12\": {\"1\": 353, \"12\": 762, \"3\": 75, \"10\": 10}, \"7\": {\"7\": 589, \"2\": 292, \"11\": 5, \"9\": 297, \"1\": 6, \"3\": 1, \"6\": 9, \"10\": 1}, \"0\": {\"0\": 666, \"8\": 517, \"15\": 6, \"5\": 9, \"14\": 2}, \"15\": {\"15\": 1009, \"14\": 122, \"4\": 57, \"8\": 5, \"0\": 4, \"5\": 3}, \"2\": {\"2\": 604, \"7\": 245, \"9\": 339, \"6\": 4, \"1\": 4, \"3\": 4}, \"8\": {\"0\": 472, \"8\": 685, \"14\": 5, \"15\": 22, \"5\": 16}}}, \"per_domain_accuracy\": {\"8\": {\"accuracy\": 0.6602083333333333, \"source?\": true}, \"50\": {\"accuracy\": 0.7572395833333333, \"source?\": true}, \"32\": {\"accuracy\": 0.7261458333333334, \"source?\": true}, \"20\": {\"accuracy\": 0.4735416666666667, \"source?\": false}, \"26\": {\"accuracy\": 0.4461979166666667, \"source?\": false}, \"38\": {\"accuracy\": 0.5833333333333334, \"source?\": false}, \"14\": {\"accuracy\": 0.7271875, \"source?\": false}, \"44\": {\"accuracy\": 0.7176041666666667, \"source?\": false}}}, \"history\": {\"epoch_indices\": [1, 2, 3, 4, 5, 6, 7, 8, 9, 10, 11], \"train_label_loss\": [1.3405411565138234, 0.8324254484675706, 0.7030311365011666, 0.624064637082555, 0.5526016628594389, 0.4873104101466754, 0.431166747156235, 0.38003381838785516, 0.334021606320397, 0.2944038105989614, 0.2612219745744877], \"source_val_label_loss\": [1.0389987230300903, 0.8280293941497803, 0.7880282402038574, 0.7860251665115356, 0.7927657961845398, 0.8043065071105957, 0.8281350135803223, 0.8669953942298889, 0.8987010717391968, 0.9455336928367615, 0.9626333117485046], \"target_val_label_loss\": [1.4913915395736694, 1.2521334886550903, 1.2299960851669312, 1.221545934677124, 1.2602871656417847, 1.2873411178588867, 1.3288054466247559, 1.3952854871749878, 1.435846209526062, 1.4759242534637451, 1.509799599647522], \"source_val_acc_label\": [0.6075520833333333, 0.6803125, 0.69765625, 0.699375, 0.7101736111111111, 0.7159375, 0.71453125, 0.7157118055555556, 0.7130034722222223, 0.7068923611111111, 0.7083680555555556], \"target_val_acc_label\": [0.49023958333333334, 0.5613125, 0.5715833333333333, 0.577, 0.5856354166666666, 0.5892291666666667, 0.5895729166666667, 0.5886770833333334, 0.5867395833333333, 0.58290625, 0.5841145833333333]}, \"dataset_metrics\": {\"source\": {\"train\": {\"n_unique_x\": 336000, \"n_unique_y\": 16, \"n_batch/episode\": 12600}, \"val\": {\"n_unique_x\": 72000, \"n_unique_y\": 16, \"n_batch/episode\": 1800}, \"test\": {\"n_unique_x\": 72000, \"n_unique_y\": 16, \"n_batch/episode\": 1800}}, \"target\": {\"train\": {\"n_unique_x\": 560000, \"n_unique_y\": 16, \"n_batch/episode\": 21000}, \"val\": {\"n_unique_x\": 120000, \"n_unique_y\": 16, \"n_batch/episode\": 3000}, \"test\": {\"n_unique_x\": 120000, \"n_unique_y\": 16, \"n_batch/episode\": 3000}}}}'"
      ]
     },
     "execution_count": 20,
     "metadata": {},
     "output_type": "execute_result"
    }
   ],
   "source": [
    "json.dumps(experiment)"
   ]
  }
 ],
 "metadata": {
  "celltoolbar": "Tags",
  "kernelspec": {
   "display_name": "Python 3 (ipykernel)",
   "language": "python",
   "name": "python3"
  },
  "language_info": {
   "codemirror_mode": {
    "name": "ipython",
    "version": 3
   },
   "file_extension": ".py",
   "mimetype": "text/x-python",
   "name": "python",
   "nbconvert_exporter": "python",
   "pygments_lexer": "ipython3",
   "version": "3.8.10"
  },
  "papermill": {
   "default_parameters": {},
   "duration": 4303.722008,
   "end_time": "2022-03-21T20:54:29.717837",
   "environment_variables": {},
   "exception": null,
   "input_path": "/mnt/wd500GB/CSC500/csc500-main/csc500-notebooks/templates/ptn_template.ipynb",
   "output_path": "trial.ipynb",
   "parameters": {
    "parameters": {
     "BEST_MODEL_PATH": "./best_model.pth",
     "NUM_LOGS_PER_EPOCH": 10,
     "criteria_for_best": "target_accuracy",
     "dataset_seed": 420,
     "device": "cuda",
     "domains_source": [
      8,
      32,
      50
     ],
     "domains_target": [
      14,
      20,
      26,
      38,
      44
     ],
     "episode_transforms_source": [],
     "episode_transforms_target": [],
     "experiment_name": "tuned_1v2:oracle.run2",
     "labels_source": [
      "3123D52",
      "3123D65",
      "3123D79",
      "3123D80",
      "3123D54",
      "3123D70",
      "3123D7B",
      "3123D89",
      "3123D58",
      "3123D76",
      "3123D7D",
      "3123EFE",
      "3123D64",
      "3123D78",
      "3123D7E",
      "3124E4A"
     ],
     "labels_target": [
      "3123D52",
      "3123D65",
      "3123D79",
      "3123D80",
      "3123D54",
      "3123D70",
      "3123D7B",
      "3123D89",
      "3123D58",
      "3123D76",
      "3123D7D",
      "3123EFE",
      "3123D64",
      "3123D78",
      "3123D7E",
      "3124E4A"
     ],
     "lr": 0.0001,
     "n_epoch": 50,
     "n_query": 2,
     "n_shot": 3,
     "n_way": 16,
     "num_examples_per_domain_per_label_source": -1,
     "num_examples_per_domain_per_label_target": -1,
     "patience": 3,
     "pickle_name": "oracle.Run2_10kExamples_stratified_ds.2022A.pkl",
     "seed": 420,
     "test_k_factor": 2,
     "torch_default_dtype": "torch.float32",
     "train_k_factor": 3,
     "val_k_factor": 2,
     "x_net": [
      {
       "class": "nnReshape",
       "kargs": {
        "shape": [
         -1,
         1,
         2,
         256
        ]
       }
      },
      {
       "class": "Conv2d",
       "kargs": {
        "bias": false,
        "in_channels": 1,
        "kernel_size": [
         1,
         7
        ],
        "out_channels": 256,
        "padding": [
         0,
         3
        ]
       }
      },
      {
       "class": "ReLU",
       "kargs": {
        "inplace": true
       }
      },
      {
       "class": "BatchNorm2d",
       "kargs": {
        "num_features": 256
       }
      },
      {
       "class": "Conv2d",
       "kargs": {
        "bias": true,
        "in_channels": 256,
        "kernel_size": [
         2,
         7
        ],
        "out_channels": 80,
        "padding": [
         0,
         3
        ]
       }
      },
      {
       "class": "ReLU",
       "kargs": {
        "inplace": true
       }
      },
      {
       "class": "BatchNorm2d",
       "kargs": {
        "num_features": 80
       }
      },
      {
       "class": "Flatten",
       "kargs": {}
      },
      {
       "class": "Linear",
       "kargs": {
        "in_features": 20480,
        "out_features": 256
       }
      },
      {
       "class": "ReLU",
       "kargs": {
        "inplace": true
       }
      },
      {
       "class": "BatchNorm1d",
       "kargs": {
        "num_features": 256
       }
      },
      {
       "class": "Linear",
       "kargs": {
        "in_features": 256,
        "out_features": 256
       }
      }
     ],
     "x_transforms_source": [
      "unit_power"
     ],
     "x_transforms_target": [
      "unit_power"
     ]
    }
   },
   "start_time": "2022-03-21T19:42:45.995829",
   "version": "2.3.4"
  }
 },
 "nbformat": 4,
 "nbformat_minor": 5
}