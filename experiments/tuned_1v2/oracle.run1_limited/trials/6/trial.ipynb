{
 "cells": [
  {
   "cell_type": "markdown",
   "id": "9fea5f46",
   "metadata": {
    "papermill": {
     "duration": 0.023008,
     "end_time": "2022-03-26T04:31:02.613990",
     "exception": false,
     "start_time": "2022-03-26T04:31:02.590982",
     "status": "completed"
    },
    "tags": []
   },
   "source": [
    "# PTN Template\n",
    "This notebook serves as a template for single dataset PTN experiments  \n",
    "It can be run on its own by setting STANDALONE to True (do a find for \"STANDALONE\" to see where)  \n",
    "But it is intended to be executed as part of a *papermill.py script. See any of the   \n",
    "experimentes with a papermill script to get started with that workflow.  "
   ]
  },
  {
   "cell_type": "code",
   "execution_count": 1,
   "id": "0902182a",
   "metadata": {
    "execution": {
     "iopub.execute_input": "2022-03-26T04:31:02.653365Z",
     "iopub.status.busy": "2022-03-26T04:31:02.652707Z",
     "iopub.status.idle": "2022-03-26T04:31:04.514588Z",
     "shell.execute_reply": "2022-03-26T04:31:04.513294Z"
    },
    "papermill": {
     "duration": 1.883789,
     "end_time": "2022-03-26T04:31:04.514876",
     "exception": false,
     "start_time": "2022-03-26T04:31:02.631087",
     "status": "completed"
    },
    "tags": []
   },
   "outputs": [],
   "source": [
    "%load_ext autoreload\n",
    "%autoreload 2\n",
    "%matplotlib inline\n",
    "\n",
    "    \n",
    "import os, json, sys, time, random\n",
    "import numpy as np\n",
    "import torch\n",
    "from torch.optim import Adam\n",
    "from  easydict import EasyDict\n",
    "import matplotlib.pyplot as plt\n",
    "\n",
    "from steves_models.steves_ptn import Steves_Prototypical_Network\n",
    "\n",
    "from steves_utils.lazy_iterable_wrapper import Lazy_Iterable_Wrapper\n",
    "from steves_utils.iterable_aggregator import Iterable_Aggregator\n",
    "from steves_utils.ptn_train_eval_test_jig import  PTN_Train_Eval_Test_Jig\n",
    "from steves_utils.torch_sequential_builder import build_sequential\n",
    "from steves_utils.torch_utils import get_dataset_metrics, ptn_confusion_by_domain_over_dataloader\n",
    "from steves_utils.utils_v2 import (per_domain_accuracy_from_confusion, get_datasets_base_path)\n",
    "from steves_utils.PTN.utils import independent_accuracy_assesment\n",
    "\n",
    "from steves_utils.stratified_dataset.episodic_accessor import Episodic_Accessor_Factory\n",
    "\n",
    "from steves_utils.ptn_do_report import (\n",
    "    get_loss_curve,\n",
    "    get_results_table,\n",
    "    get_parameters_table,\n",
    "    get_domain_accuracies,\n",
    ")\n",
    "\n",
    "from steves_utils.transforms import get_chained_transform"
   ]
  },
  {
   "cell_type": "markdown",
   "id": "41c840b4",
   "metadata": {
    "papermill": {
     "duration": 0.015186,
     "end_time": "2022-03-26T04:31:04.551045",
     "exception": false,
     "start_time": "2022-03-26T04:31:04.535859",
     "status": "completed"
    },
    "tags": []
   },
   "source": [
    "# Required Parameters\n",
    "These are allowed parameters, not defaults\n",
    "Each of these values need to be present in the injected parameters (the notebook will raise an exception if they are not present)\n",
    "\n",
    "Papermill uses the cell tag \"parameters\" to inject the real parameters below this cell.\n",
    "Enable tags to see what I mean"
   ]
  },
  {
   "cell_type": "code",
   "execution_count": 2,
   "id": "fd44eb83",
   "metadata": {
    "execution": {
     "iopub.execute_input": "2022-03-26T04:31:04.584310Z",
     "iopub.status.busy": "2022-03-26T04:31:04.583674Z",
     "iopub.status.idle": "2022-03-26T04:31:04.604695Z",
     "shell.execute_reply": "2022-03-26T04:31:04.603389Z"
    },
    "papermill": {
     "duration": 0.039658,
     "end_time": "2022-03-26T04:31:04.604959",
     "exception": false,
     "start_time": "2022-03-26T04:31:04.565301",
     "status": "completed"
    },
    "tags": []
   },
   "outputs": [],
   "source": [
    "required_parameters = {\n",
    "    \"experiment_name\",\n",
    "    \"lr\",\n",
    "    \"device\",\n",
    "    \"seed\",\n",
    "    \"dataset_seed\",\n",
    "    \"labels_source\",\n",
    "    \"labels_target\",\n",
    "    \"domains_source\",\n",
    "    \"domains_target\",\n",
    "    \"num_examples_per_domain_per_label_source\",\n",
    "    \"num_examples_per_domain_per_label_target\",\n",
    "    \"n_shot\",\n",
    "    \"n_way\",\n",
    "    \"n_query\",\n",
    "    \"train_k_factor\",\n",
    "    \"val_k_factor\",\n",
    "    \"test_k_factor\",\n",
    "    \"n_epoch\",\n",
    "    \"patience\",\n",
    "    \"criteria_for_best\",\n",
    "    \"x_transforms_source\",\n",
    "    \"x_transforms_target\",\n",
    "    \"episode_transforms_source\",\n",
    "    \"episode_transforms_target\",\n",
    "    \"pickle_name\",\n",
    "    \"x_net\",\n",
    "    \"NUM_LOGS_PER_EPOCH\",\n",
    "    \"BEST_MODEL_PATH\",\n",
    "    \"torch_default_dtype\"\n",
    "}"
   ]
  },
  {
   "cell_type": "code",
   "execution_count": 3,
   "id": "fa3f0049",
   "metadata": {
    "execution": {
     "iopub.execute_input": "2022-03-26T04:31:04.651620Z",
     "iopub.status.busy": "2022-03-26T04:31:04.650950Z",
     "iopub.status.idle": "2022-03-26T04:31:04.670704Z",
     "shell.execute_reply": "2022-03-26T04:31:04.669997Z"
    },
    "papermill": {
     "duration": 0.04323,
     "end_time": "2022-03-26T04:31:04.670859",
     "exception": false,
     "start_time": "2022-03-26T04:31:04.627629",
     "status": "completed"
    },
    "tags": [
     "parameters"
    ]
   },
   "outputs": [],
   "source": [
    "\n",
    "\n",
    "standalone_parameters = {}\n",
    "standalone_parameters[\"experiment_name\"] = \"STANDALONE PTN\"\n",
    "standalone_parameters[\"lr\"] = 0.0001\n",
    "standalone_parameters[\"device\"] = \"cuda\"\n",
    "\n",
    "standalone_parameters[\"seed\"] = 1337\n",
    "standalone_parameters[\"dataset_seed\"] = 1337\n",
    "\n",
    "\n",
    "standalone_parameters[\"num_examples_per_domain_per_label_source\"]=100\n",
    "standalone_parameters[\"num_examples_per_domain_per_label_target\"]=100\n",
    "\n",
    "standalone_parameters[\"n_shot\"] = 3\n",
    "standalone_parameters[\"n_query\"]  = 2\n",
    "standalone_parameters[\"train_k_factor\"] = 1\n",
    "standalone_parameters[\"val_k_factor\"] = 2\n",
    "standalone_parameters[\"test_k_factor\"] = 2\n",
    "\n",
    "\n",
    "standalone_parameters[\"n_epoch\"] = 100\n",
    "\n",
    "standalone_parameters[\"patience\"] = 10\n",
    "standalone_parameters[\"criteria_for_best\"] = \"target_accuracy\"\n",
    "\n",
    "standalone_parameters[\"x_transforms_source\"] = [\"unit_power\"]\n",
    "standalone_parameters[\"x_transforms_target\"] = [\"unit_power\"]\n",
    "standalone_parameters[\"episode_transforms_source\"] = []\n",
    "standalone_parameters[\"episode_transforms_target\"] = []\n",
    "\n",
    "standalone_parameters[\"torch_default_dtype\"] = \"torch.float32\" \n",
    "\n",
    "\n",
    "\n",
    "standalone_parameters[\"x_net\"] =     [\n",
    "    {\"class\": \"nnReshape\", \"kargs\": {\"shape\":[-1, 1, 2, 256]}},\n",
    "    {\"class\": \"Conv2d\", \"kargs\": { \"in_channels\":1, \"out_channels\":256, \"kernel_size\":(1,7), \"bias\":False, \"padding\":(0,3), },},\n",
    "    {\"class\": \"ReLU\", \"kargs\": {\"inplace\": True}},\n",
    "    {\"class\": \"BatchNorm2d\", \"kargs\": {\"num_features\":256}},\n",
    "\n",
    "    {\"class\": \"Conv2d\", \"kargs\": { \"in_channels\":256, \"out_channels\":80, \"kernel_size\":(2,7), \"bias\":True, \"padding\":(0,3), },},\n",
    "    {\"class\": \"ReLU\", \"kargs\": {\"inplace\": True}},\n",
    "    {\"class\": \"BatchNorm2d\", \"kargs\": {\"num_features\":80}},\n",
    "    {\"class\": \"Flatten\", \"kargs\": {}},\n",
    "\n",
    "    {\"class\": \"Linear\", \"kargs\": {\"in_features\": 80*256, \"out_features\": 256}}, # 80 units per IQ pair\n",
    "    {\"class\": \"ReLU\", \"kargs\": {\"inplace\": True}},\n",
    "    {\"class\": \"BatchNorm1d\", \"kargs\": {\"num_features\":256}},\n",
    "\n",
    "    {\"class\": \"Linear\", \"kargs\": {\"in_features\": 256, \"out_features\": 256}},\n",
    "]\n",
    "\n",
    "# Parameters relevant to results\n",
    "# These parameters will basically never need to change\n",
    "standalone_parameters[\"NUM_LOGS_PER_EPOCH\"] = 10\n",
    "standalone_parameters[\"BEST_MODEL_PATH\"] = \"./best_model.pth\"\n",
    "\n",
    "# uncomment for CORES dataset\n",
    "from steves_utils.CORES.utils import (\n",
    "    ALL_NODES,\n",
    "    ALL_NODES_MINIMUM_1000_EXAMPLES,\n",
    "    ALL_DAYS\n",
    ")\n",
    "\n",
    "\n",
    "standalone_parameters[\"labels_source\"] = ALL_NODES\n",
    "standalone_parameters[\"labels_target\"] = ALL_NODES\n",
    "\n",
    "standalone_parameters[\"domains_source\"] = [1]\n",
    "standalone_parameters[\"domains_target\"] = [2,3,4,5]\n",
    "\n",
    "standalone_parameters[\"pickle_name\"] = \"cores.stratified_ds.2022A.pkl\"\n",
    "\n",
    "\n",
    "# Uncomment these for ORACLE dataset\n",
    "# from steves_utils.ORACLE.utils_v2 import (\n",
    "#     ALL_DISTANCES_FEET,\n",
    "#     ALL_RUNS,\n",
    "#     ALL_SERIAL_NUMBERS,\n",
    "# )\n",
    "# standalone_parameters[\"labels_source\"] = ALL_SERIAL_NUMBERS\n",
    "# standalone_parameters[\"labels_target\"] = ALL_SERIAL_NUMBERS\n",
    "# standalone_parameters[\"domains_source\"] = [8,20, 38,50]\n",
    "# standalone_parameters[\"domains_target\"] = [14, 26, 32, 44, 56]\n",
    "# standalone_parameters[\"pickle_name\"] = \"oracle.frame_indexed.stratified_ds.2022A.pkl\"\n",
    "# standalone_parameters[\"num_examples_per_domain_per_label_source\"]=1000\n",
    "# standalone_parameters[\"num_examples_per_domain_per_label_target\"]=1000\n",
    "\n",
    "# Uncomment these for Metahan dataset\n",
    "# standalone_parameters[\"labels_source\"] = list(range(19))\n",
    "# standalone_parameters[\"labels_target\"] = list(range(19))\n",
    "# standalone_parameters[\"domains_source\"] = [0]\n",
    "# standalone_parameters[\"domains_target\"] = [1]\n",
    "# standalone_parameters[\"pickle_name\"] = \"metehan.stratified_ds.2022A.pkl\"\n",
    "# standalone_parameters[\"n_way\"]  = len(standalone_parameters[\"labels_source\"])\n",
    "# standalone_parameters[\"num_examples_per_domain_per_label_source\"]=200\n",
    "# standalone_parameters[\"num_examples_per_domain_per_label_target\"]=100\n",
    "\n",
    "\n",
    "standalone_parameters[\"n_way\"]  = len(standalone_parameters[\"labels_source\"])"
   ]
  },
  {
   "cell_type": "code",
   "execution_count": 4,
   "id": "88ce6fd1",
   "metadata": {
    "execution": {
     "iopub.execute_input": "2022-03-26T04:31:04.714449Z",
     "iopub.status.busy": "2022-03-26T04:31:04.714030Z",
     "iopub.status.idle": "2022-03-26T04:31:04.732801Z",
     "shell.execute_reply": "2022-03-26T04:31:04.731988Z"
    },
    "papermill": {
     "duration": 0.040304,
     "end_time": "2022-03-26T04:31:04.732956",
     "exception": false,
     "start_time": "2022-03-26T04:31:04.692652",
     "status": "completed"
    },
    "tags": [
     "injected-parameters"
    ]
   },
   "outputs": [],
   "source": [
    "# Parameters\n",
    "parameters = {\n",
    "    \"experiment_name\": \"tuned_1v2:oracle.run1_limited\",\n",
    "    \"device\": \"cuda\",\n",
    "    \"lr\": 0.0001,\n",
    "    \"labels_source\": [\n",
    "        \"3123D52\",\n",
    "        \"3123D65\",\n",
    "        \"3123D79\",\n",
    "        \"3123D80\",\n",
    "        \"3123D54\",\n",
    "        \"3123D70\",\n",
    "        \"3123D7B\",\n",
    "        \"3123D89\",\n",
    "        \"3123D58\",\n",
    "        \"3123D76\",\n",
    "        \"3123D7D\",\n",
    "        \"3123EFE\",\n",
    "        \"3123D64\",\n",
    "        \"3123D78\",\n",
    "        \"3123D7E\",\n",
    "        \"3124E4A\",\n",
    "    ],\n",
    "    \"labels_target\": [\n",
    "        \"3123D52\",\n",
    "        \"3123D65\",\n",
    "        \"3123D79\",\n",
    "        \"3123D80\",\n",
    "        \"3123D54\",\n",
    "        \"3123D70\",\n",
    "        \"3123D7B\",\n",
    "        \"3123D89\",\n",
    "        \"3123D58\",\n",
    "        \"3123D76\",\n",
    "        \"3123D7D\",\n",
    "        \"3123EFE\",\n",
    "        \"3123D64\",\n",
    "        \"3123D78\",\n",
    "        \"3123D7E\",\n",
    "        \"3124E4A\",\n",
    "    ],\n",
    "    \"episode_transforms_source\": [],\n",
    "    \"episode_transforms_target\": [],\n",
    "    \"domains_source\": [8, 32, 50],\n",
    "    \"domains_target\": [14, 20, 26, 38, 44],\n",
    "    \"num_examples_per_domain_per_label_source\": -1,\n",
    "    \"num_examples_per_domain_per_label_target\": -1,\n",
    "    \"n_shot\": 3,\n",
    "    \"n_way\": 16,\n",
    "    \"n_query\": 2,\n",
    "    \"train_k_factor\": 3,\n",
    "    \"val_k_factor\": 2,\n",
    "    \"test_k_factor\": 2,\n",
    "    \"torch_default_dtype\": \"torch.float32\",\n",
    "    \"n_epoch\": 50,\n",
    "    \"patience\": 3,\n",
    "    \"criteria_for_best\": \"target_accuracy\",\n",
    "    \"x_net\": [\n",
    "        {\"class\": \"nnReshape\", \"kargs\": {\"shape\": [-1, 1, 2, 256]}},\n",
    "        {\n",
    "            \"class\": \"Conv2d\",\n",
    "            \"kargs\": {\n",
    "                \"in_channels\": 1,\n",
    "                \"out_channels\": 256,\n",
    "                \"kernel_size\": [1, 7],\n",
    "                \"bias\": False,\n",
    "                \"padding\": [0, 3],\n",
    "            },\n",
    "        },\n",
    "        {\"class\": \"ReLU\", \"kargs\": {\"inplace\": True}},\n",
    "        {\"class\": \"BatchNorm2d\", \"kargs\": {\"num_features\": 256}},\n",
    "        {\n",
    "            \"class\": \"Conv2d\",\n",
    "            \"kargs\": {\n",
    "                \"in_channels\": 256,\n",
    "                \"out_channels\": 80,\n",
    "                \"kernel_size\": [2, 7],\n",
    "                \"bias\": True,\n",
    "                \"padding\": [0, 3],\n",
    "            },\n",
    "        },\n",
    "        {\"class\": \"ReLU\", \"kargs\": {\"inplace\": True}},\n",
    "        {\"class\": \"BatchNorm2d\", \"kargs\": {\"num_features\": 80}},\n",
    "        {\"class\": \"Flatten\", \"kargs\": {}},\n",
    "        {\"class\": \"Linear\", \"kargs\": {\"in_features\": 20480, \"out_features\": 256}},\n",
    "        {\"class\": \"ReLU\", \"kargs\": {\"inplace\": True}},\n",
    "        {\"class\": \"BatchNorm1d\", \"kargs\": {\"num_features\": 256}},\n",
    "        {\"class\": \"Linear\", \"kargs\": {\"in_features\": 256, \"out_features\": 256}},\n",
    "    ],\n",
    "    \"NUM_LOGS_PER_EPOCH\": 10,\n",
    "    \"BEST_MODEL_PATH\": \"./best_model.pth\",\n",
    "    \"pickle_name\": \"oracle.Run1_10kExamples_stratified_ds.2022A.pkl\",\n",
    "    \"x_transforms_source\": [],\n",
    "    \"x_transforms_target\": [],\n",
    "    \"dataset_seed\": 420,\n",
    "    \"seed\": 420,\n",
    "}\n"
   ]
  },
  {
   "cell_type": "code",
   "execution_count": 5,
   "id": "8fa1cc33",
   "metadata": {
    "execution": {
     "iopub.execute_input": "2022-03-26T04:31:04.771796Z",
     "iopub.status.busy": "2022-03-26T04:31:04.771402Z",
     "iopub.status.idle": "2022-03-26T04:31:04.789705Z",
     "shell.execute_reply": "2022-03-26T04:31:04.788907Z"
    },
    "papermill": {
     "duration": 0.036317,
     "end_time": "2022-03-26T04:31:04.789858",
     "exception": false,
     "start_time": "2022-03-26T04:31:04.753541",
     "status": "completed"
    },
    "tags": []
   },
   "outputs": [],
   "source": [
    "# Set this to True if you want to run this template directly\n",
    "STANDALONE = False\n",
    "if STANDALONE:\n",
    "    print(\"parameters not injected, running with standalone_parameters\")\n",
    "    parameters = standalone_parameters\n",
    "\n",
    "if not 'parameters' in locals() and not 'parameters' in globals():\n",
    "    raise Exception(\"Parameter injection failed\")\n",
    "\n",
    "#Use an easy dict for all the parameters\n",
    "p = EasyDict(parameters)\n",
    "\n",
    "supplied_keys = set(p.keys())\n",
    "\n",
    "if  supplied_keys != required_parameters:\n",
    "    print(\"Parameters are incorrect\")\n",
    "    if len(supplied_keys - required_parameters)>0: print(\"Shouldn't have:\", str(supplied_keys - required_parameters))\n",
    "    if len(required_parameters - supplied_keys)>0: print(\"Need to have:\", str(required_parameters - supplied_keys))\n",
    "    raise RuntimeError(\"Parameters are incorrect\")\n",
    "\n"
   ]
  },
  {
   "cell_type": "code",
   "execution_count": 6,
   "id": "3a028d58",
   "metadata": {
    "execution": {
     "iopub.execute_input": "2022-03-26T04:31:04.827662Z",
     "iopub.status.busy": "2022-03-26T04:31:04.827275Z",
     "iopub.status.idle": "2022-03-26T04:31:04.845258Z",
     "shell.execute_reply": "2022-03-26T04:31:04.844447Z"
    },
    "papermill": {
     "duration": 0.035204,
     "end_time": "2022-03-26T04:31:04.845414",
     "exception": false,
     "start_time": "2022-03-26T04:31:04.810210",
     "status": "completed"
    },
    "tags": []
   },
   "outputs": [],
   "source": [
    "###################################\n",
    "# Set the RNGs and make it all deterministic\n",
    "###################################\n",
    "np.random.seed(p.seed)\n",
    "random.seed(p.seed)\n",
    "torch.manual_seed(p.seed)\n",
    "\n",
    "torch.use_deterministic_algorithms(True) "
   ]
  },
  {
   "cell_type": "code",
   "execution_count": 7,
   "id": "b691acf6",
   "metadata": {
    "execution": {
     "iopub.execute_input": "2022-03-26T04:31:04.883395Z",
     "iopub.status.busy": "2022-03-26T04:31:04.882625Z",
     "iopub.status.idle": "2022-03-26T04:31:04.900158Z",
     "shell.execute_reply": "2022-03-26T04:31:04.899329Z"
    },
    "papermill": {
     "duration": 0.03426,
     "end_time": "2022-03-26T04:31:04.900316",
     "exception": false,
     "start_time": "2022-03-26T04:31:04.866056",
     "status": "completed"
    },
    "tags": []
   },
   "outputs": [],
   "source": [
    "###########################################\n",
    "# The stratified datasets honor this\n",
    "###########################################\n",
    "torch.set_default_dtype(eval(p.torch_default_dtype))"
   ]
  },
  {
   "cell_type": "code",
   "execution_count": 8,
   "id": "b5fba671",
   "metadata": {
    "execution": {
     "iopub.execute_input": "2022-03-26T04:31:04.941367Z",
     "iopub.status.busy": "2022-03-26T04:31:04.940810Z",
     "iopub.status.idle": "2022-03-26T04:31:04.990625Z",
     "shell.execute_reply": "2022-03-26T04:31:04.991298Z"
    },
    "papermill": {
     "duration": 0.067875,
     "end_time": "2022-03-26T04:31:04.991480",
     "exception": false,
     "start_time": "2022-03-26T04:31:04.923605",
     "status": "completed"
    },
    "tags": []
   },
   "outputs": [],
   "source": [
    "###################################\n",
    "# Build the network(s)\n",
    "# Note: It's critical to do this AFTER setting the RNG\n",
    "# (This is due to the randomized initial weights)\n",
    "###################################\n",
    "x_net = build_sequential(p.x_net)"
   ]
  },
  {
   "cell_type": "code",
   "execution_count": 9,
   "id": "5d7e61cc",
   "metadata": {
    "execution": {
     "iopub.execute_input": "2022-03-26T04:31:05.033513Z",
     "iopub.status.busy": "2022-03-26T04:31:05.032558Z",
     "iopub.status.idle": "2022-03-26T04:31:05.055219Z",
     "shell.execute_reply": "2022-03-26T04:31:05.055912Z"
    },
    "papermill": {
     "duration": 0.040905,
     "end_time": "2022-03-26T04:31:05.056092",
     "exception": false,
     "start_time": "2022-03-26T04:31:05.015187",
     "status": "completed"
    },
    "tags": []
   },
   "outputs": [],
   "source": [
    "start_time_secs = time.time()"
   ]
  },
  {
   "cell_type": "code",
   "execution_count": 10,
   "id": "fd5442bc",
   "metadata": {
    "execution": {
     "iopub.execute_input": "2022-03-26T04:31:05.103072Z",
     "iopub.status.busy": "2022-03-26T04:31:05.102679Z",
     "iopub.status.idle": "2022-03-26T04:31:16.642778Z",
     "shell.execute_reply": "2022-03-26T04:31:16.642004Z"
    },
    "papermill": {
     "duration": 11.563235,
     "end_time": "2022-03-26T04:31:16.642977",
     "exception": false,
     "start_time": "2022-03-26T04:31:05.079742",
     "status": "completed"
    },
    "tags": []
   },
   "outputs": [],
   "source": [
    "###################################\n",
    "# Build the dataset\n",
    "###################################\n",
    "\n",
    "if p.x_transforms_source == []: x_transform_source = None\n",
    "else: x_transform_source = get_chained_transform(p.x_transforms_source) \n",
    "\n",
    "if p.x_transforms_target == []: x_transform_target = None\n",
    "else: x_transform_target = get_chained_transform(p.x_transforms_target)\n",
    "\n",
    "if p.episode_transforms_source == []: episode_transform_source = None\n",
    "else: raise Exception(\"episode_transform_source not implemented\")\n",
    "\n",
    "if p.episode_transforms_target == []: episode_transform_target = None\n",
    "else: raise Exception(\"episode_transform_target not implemented\")\n",
    "\n",
    "\n",
    "eaf_source = Episodic_Accessor_Factory(\n",
    "    labels=p.labels_source,\n",
    "    domains=p.domains_source,\n",
    "    num_examples_per_domain_per_label=p.num_examples_per_domain_per_label_source,\n",
    "    iterator_seed=p.seed,\n",
    "    dataset_seed=p.dataset_seed,\n",
    "    n_shot=p.n_shot,\n",
    "    n_way=p.n_way,\n",
    "    n_query=p.n_query,\n",
    "    train_val_test_k_factors=(p.train_k_factor,p.val_k_factor,p.test_k_factor),\n",
    "    pickle_path=os.path.join(get_datasets_base_path(), p.pickle_name),\n",
    "    x_transform_func=x_transform_source,\n",
    "    example_transform_func=episode_transform_source,\n",
    "    \n",
    ")\n",
    "train_original_source, val_original_source, test_original_source = eaf_source.get_train(), eaf_source.get_val(), eaf_source.get_test()\n",
    "\n",
    "\n",
    "eaf_target = Episodic_Accessor_Factory(\n",
    "    labels=p.labels_target,\n",
    "    domains=p.domains_target,\n",
    "    num_examples_per_domain_per_label=p.num_examples_per_domain_per_label_target,\n",
    "    iterator_seed=p.seed,\n",
    "    dataset_seed=p.dataset_seed,\n",
    "    n_shot=p.n_shot,\n",
    "    n_way=p.n_way,\n",
    "    n_query=p.n_query,\n",
    "    train_val_test_k_factors=(p.train_k_factor,p.val_k_factor,p.test_k_factor),\n",
    "    pickle_path=os.path.join(get_datasets_base_path(), p.pickle_name),\n",
    "    x_transform_func=x_transform_target,\n",
    "    example_transform_func=episode_transform_target,\n",
    ")\n",
    "train_original_target, val_original_target, test_original_target = eaf_target.get_train(), eaf_target.get_val(), eaf_target.get_test()\n",
    "\n",
    "\n",
    "transform_lambda = lambda ex: ex[1] # Original is (<domain>, <episode>) so we strip down to episode only\n",
    "\n",
    "train_processed_source = Lazy_Iterable_Wrapper(train_original_source, transform_lambda)\n",
    "val_processed_source   = Lazy_Iterable_Wrapper(val_original_source, transform_lambda)\n",
    "test_processed_source  = Lazy_Iterable_Wrapper(test_original_source, transform_lambda)\n",
    "\n",
    "train_processed_target = Lazy_Iterable_Wrapper(train_original_target, transform_lambda)\n",
    "val_processed_target   = Lazy_Iterable_Wrapper(val_original_target, transform_lambda)\n",
    "test_processed_target  = Lazy_Iterable_Wrapper(test_original_target, transform_lambda)\n",
    "\n",
    "datasets = EasyDict({\n",
    "    \"source\": {\n",
    "        \"original\": {\"train\":train_original_source, \"val\":val_original_source, \"test\":test_original_source},\n",
    "        \"processed\": {\"train\":train_processed_source, \"val\":val_processed_source, \"test\":test_processed_source}\n",
    "    },\n",
    "    \"target\": {\n",
    "        \"original\": {\"train\":train_original_target, \"val\":val_original_target, \"test\":test_original_target},\n",
    "        \"processed\": {\"train\":train_processed_target, \"val\":val_processed_target, \"test\":test_processed_target}\n",
    "    },\n",
    "})"
   ]
  },
  {
   "cell_type": "code",
   "execution_count": 11,
   "id": "296189d9",
   "metadata": {
    "execution": {
     "iopub.execute_input": "2022-03-26T04:31:16.685763Z",
     "iopub.status.busy": "2022-03-26T04:31:16.685375Z",
     "iopub.status.idle": "2022-03-26T04:31:24.349747Z",
     "shell.execute_reply": "2022-03-26T04:31:24.348890Z"
    },
    "papermill": {
     "duration": 7.684107,
     "end_time": "2022-03-26T04:31:24.349927",
     "exception": false,
     "start_time": "2022-03-26T04:31:16.665820",
     "status": "completed"
    },
    "tags": []
   },
   "outputs": [
    {
     "name": "stdout",
     "output_type": "stream",
     "text": [
      "Visually inspect these to see if they line up with expected values given the transforms\n",
      "x_transforms_source []\n",
      "x_transforms_target []\n",
      "Average magnitude, source: 0.004945109\n",
      "Average power, source: 2.944158e-05\n"
     ]
    },
    {
     "name": "stdout",
     "output_type": "stream",
     "text": [
      "Average magnitude, target: 0.0050778193\n",
      "Average power, target: 3.335888e-05\n"
     ]
    }
   ],
   "source": [
    "# Some quick unit tests on the data\n",
    "from steves_utils.transforms import get_average_power, get_average_magnitude\n",
    "\n",
    "q_x, q_y, s_x, s_y, truth = next(iter(train_processed_source))\n",
    "\n",
    "assert q_x.dtype == eval(p.torch_default_dtype)\n",
    "assert s_x.dtype == eval(p.torch_default_dtype)\n",
    "\n",
    "print(\"Visually inspect these to see if they line up with expected values given the transforms\")\n",
    "print('x_transforms_source', p.x_transforms_source)\n",
    "print('x_transforms_target', p.x_transforms_target)\n",
    "print(\"Average magnitude, source:\", get_average_magnitude(q_x[0].numpy()))\n",
    "print(\"Average power, source:\", get_average_power(q_x[0].numpy()))\n",
    "\n",
    "q_x, q_y, s_x, s_y, truth = next(iter(train_processed_target))\n",
    "print(\"Average magnitude, target:\", get_average_magnitude(q_x[0].numpy()))\n",
    "print(\"Average power, target:\", get_average_power(q_x[0].numpy()))\n"
   ]
  },
  {
   "cell_type": "code",
   "execution_count": 12,
   "id": "bbdacba1",
   "metadata": {
    "execution": {
     "iopub.execute_input": "2022-03-26T04:31:24.393473Z",
     "iopub.status.busy": "2022-03-26T04:31:24.392415Z",
     "iopub.status.idle": "2022-03-26T04:31:24.655796Z",
     "shell.execute_reply": "2022-03-26T04:31:24.656107Z"
    },
    "papermill": {
     "duration": 0.285056,
     "end_time": "2022-03-26T04:31:24.656234",
     "exception": false,
     "start_time": "2022-03-26T04:31:24.371178",
     "status": "completed"
    },
    "tags": []
   },
   "outputs": [
    {
     "name": "stdout",
     "output_type": "stream",
     "text": [
      "(2, 256)\n"
     ]
    }
   ],
   "source": [
    "###################################\n",
    "# Build the model\n",
    "###################################\n",
    "model = Steves_Prototypical_Network(x_net, device=p.device, x_shape=(2,256))\n",
    "optimizer = Adam(params=model.parameters(), lr=p.lr)"
   ]
  },
  {
   "cell_type": "code",
   "execution_count": 13,
   "id": "22b39ac5",
   "metadata": {
    "execution": {
     "iopub.execute_input": "2022-03-26T04:31:24.692443Z",
     "iopub.status.busy": "2022-03-26T04:31:24.692067Z",
     "iopub.status.idle": "2022-03-26T05:58:09.366481Z",
     "shell.execute_reply": "2022-03-26T05:58:09.366138Z"
    },
    "papermill": {
     "duration": 5204.693852,
     "end_time": "2022-03-26T05:58:09.366562",
     "exception": false,
     "start_time": "2022-03-26T04:31:24.672710",
     "status": "completed"
    },
    "tags": []
   },
   "outputs": [
    {
     "name": "stdout",
     "output_type": "stream",
     "text": [
      "epoch: 1, [batch: 1 / 12600], examples_per_second: 17.9408, train_label_loss: 2.7339, \n"
     ]
    },
    {
     "name": "stdout",
     "output_type": "stream",
     "text": [
      "epoch: 1, [batch: 1260 / 12600], examples_per_second: 1917.5848, train_label_loss: 1.2853, \n"
     ]
    },
    {
     "name": "stdout",
     "output_type": "stream",
     "text": [
      "epoch: 1, [batch: 2520 / 12600], examples_per_second: 1940.9835, train_label_loss: 0.2911, \n"
     ]
    },
    {
     "name": "stdout",
     "output_type": "stream",
     "text": [
      "epoch: 1, [batch: 3780 / 12600], examples_per_second: 2414.5164, train_label_loss: 0.6193, \n"
     ]
    },
    {
     "name": "stdout",
     "output_type": "stream",
     "text": [
      "epoch: 1, [batch: 5040 / 12600], examples_per_second: 4284.7371, train_label_loss: 0.6281, \n"
     ]
    },
    {
     "name": "stdout",
     "output_type": "stream",
     "text": [
      "epoch: 1, [batch: 6300 / 12600], examples_per_second: 2358.2906, train_label_loss: 0.4396, \n"
     ]
    },
    {
     "name": "stdout",
     "output_type": "stream",
     "text": [
      "epoch: 1, [batch: 7560 / 12600], examples_per_second: 1934.6976, train_label_loss: 0.4634, \n"
     ]
    },
    {
     "name": "stdout",
     "output_type": "stream",
     "text": [
      "epoch: 1, [batch: 8820 / 12600], examples_per_second: 1935.0424, train_label_loss: 0.4854, \n"
     ]
    },
    {
     "name": "stdout",
     "output_type": "stream",
     "text": [
      "epoch: 1, [batch: 10080 / 12600], examples_per_second: 1935.5220, train_label_loss: 0.2435, \n"
     ]
    },
    {
     "name": "stdout",
     "output_type": "stream",
     "text": [
      "epoch: 1, [batch: 11340 / 12600], examples_per_second: 1935.7515, train_label_loss: 0.2402, \n"
     ]
    },
    {
     "name": "stdout",
     "output_type": "stream",
     "text": [
      "=============================================================\n",
      "epoch: 1, source_val_acc_label: 0.7364, target_val_acc_label: 0.6802, source_val_label_loss: 0.8870, target_val_label_loss: 1.0841, \n",
      "=============================================================\n"
     ]
    },
    {
     "name": "stdout",
     "output_type": "stream",
     "text": [
      "New best\n"
     ]
    },
    {
     "name": "stdout",
     "output_type": "stream",
     "text": [
      "epoch: 2, [batch: 1 / 12600], examples_per_second: 1.1996, train_label_loss: 0.9354, \n"
     ]
    },
    {
     "name": "stdout",
     "output_type": "stream",
     "text": [
      "epoch: 2, [batch: 1260 / 12600], examples_per_second: 1936.0718, train_label_loss: 0.8695, \n"
     ]
    },
    {
     "name": "stdout",
     "output_type": "stream",
     "text": [
      "epoch: 2, [batch: 2520 / 12600], examples_per_second: 1921.3486, train_label_loss: 0.2611, \n"
     ]
    },
    {
     "name": "stdout",
     "output_type": "stream",
     "text": [
      "epoch: 2, [batch: 3780 / 12600], examples_per_second: 2136.7555, train_label_loss: 0.8283, \n"
     ]
    },
    {
     "name": "stdout",
     "output_type": "stream",
     "text": [
      "epoch: 2, [batch: 5040 / 12600], examples_per_second: 2278.7689, train_label_loss: 0.3156, \n"
     ]
    },
    {
     "name": "stdout",
     "output_type": "stream",
     "text": [
      "epoch: 2, [batch: 6300 / 12600], examples_per_second: 2334.0263, train_label_loss: 0.5802, \n"
     ]
    },
    {
     "name": "stdout",
     "output_type": "stream",
     "text": [
      "epoch: 2, [batch: 7560 / 12600], examples_per_second: 2404.7936, train_label_loss: 0.4116, \n"
     ]
    },
    {
     "name": "stdout",
     "output_type": "stream",
     "text": [
      "epoch: 2, [batch: 8820 / 12600], examples_per_second: 2291.9947, train_label_loss: 0.4811, \n"
     ]
    },
    {
     "name": "stdout",
     "output_type": "stream",
     "text": [
      "epoch: 2, [batch: 10080 / 12600], examples_per_second: 2334.4856, train_label_loss: 0.3213, \n"
     ]
    },
    {
     "name": "stdout",
     "output_type": "stream",
     "text": [
      "epoch: 2, [batch: 11340 / 12600], examples_per_second: 1936.2381, train_label_loss: 0.4449, \n"
     ]
    },
    {
     "name": "stdout",
     "output_type": "stream",
     "text": [
      "=============================================================\n",
      "epoch: 2, source_val_acc_label: 0.8481, target_val_acc_label: 0.7573, source_val_label_loss: 0.4124, target_val_label_loss: 0.7435, \n",
      "=============================================================\n"
     ]
    },
    {
     "name": "stdout",
     "output_type": "stream",
     "text": [
      "New best\n"
     ]
    },
    {
     "name": "stdout",
     "output_type": "stream",
     "text": [
      "epoch: 3, [batch: 1 / 12600], examples_per_second: 0.6311, train_label_loss: 0.2449, \n"
     ]
    },
    {
     "name": "stdout",
     "output_type": "stream",
     "text": [
      "epoch: 3, [batch: 1260 / 12600], examples_per_second: 1770.6338, train_label_loss: 0.5815, \n"
     ]
    },
    {
     "name": "stdout",
     "output_type": "stream",
     "text": [
      "epoch: 3, [batch: 2520 / 12600], examples_per_second: 2094.4754, train_label_loss: 0.5567, \n"
     ]
    },
    {
     "name": "stdout",
     "output_type": "stream",
     "text": [
      "epoch: 3, [batch: 3780 / 12600], examples_per_second: 3974.3405, train_label_loss: 0.3018, \n"
     ]
    },
    {
     "name": "stdout",
     "output_type": "stream",
     "text": [
      "epoch: 3, [batch: 5040 / 12600], examples_per_second: 2103.5823, train_label_loss: 0.1954, \n"
     ]
    },
    {
     "name": "stdout",
     "output_type": "stream",
     "text": [
      "epoch: 3, [batch: 6300 / 12600], examples_per_second: 1832.4893, train_label_loss: 0.2110, \n"
     ]
    },
    {
     "name": "stdout",
     "output_type": "stream",
     "text": [
      "epoch: 3, [batch: 7560 / 12600], examples_per_second: 1930.1697, train_label_loss: 0.2890, \n"
     ]
    },
    {
     "name": "stdout",
     "output_type": "stream",
     "text": [
      "epoch: 3, [batch: 8820 / 12600], examples_per_second: 1929.2917, train_label_loss: 0.1874, \n"
     ]
    },
    {
     "name": "stdout",
     "output_type": "stream",
     "text": [
      "epoch: 3, [batch: 10080 / 12600], examples_per_second: 1926.3655, train_label_loss: 0.3655, \n"
     ]
    },
    {
     "name": "stdout",
     "output_type": "stream",
     "text": [
      "epoch: 3, [batch: 11340 / 12600], examples_per_second: 2689.6076, train_label_loss: 0.2257, \n"
     ]
    },
    {
     "name": "stdout",
     "output_type": "stream",
     "text": [
      "=============================================================\n",
      "epoch: 3, source_val_acc_label: 0.8694, target_val_acc_label: 0.7706, source_val_label_loss: 0.3698, target_val_label_loss: 0.7398, \n",
      "=============================================================\n"
     ]
    },
    {
     "name": "stdout",
     "output_type": "stream",
     "text": [
      "New best\n"
     ]
    },
    {
     "name": "stdout",
     "output_type": "stream",
     "text": [
      "epoch: 4, [batch: 1 / 12600], examples_per_second: 0.7410, train_label_loss: 0.3641, \n"
     ]
    },
    {
     "name": "stdout",
     "output_type": "stream",
     "text": [
      "epoch: 4, [batch: 1260 / 12600], examples_per_second: 1769.1227, train_label_loss: 0.3325, \n"
     ]
    },
    {
     "name": "stdout",
     "output_type": "stream",
     "text": [
      "epoch: 4, [batch: 2520 / 12600], examples_per_second: 2318.2158, train_label_loss: 0.2069, \n"
     ]
    },
    {
     "name": "stdout",
     "output_type": "stream",
     "text": [
      "epoch: 4, [batch: 3780 / 12600], examples_per_second: 3996.4083, train_label_loss: 0.2808, \n"
     ]
    },
    {
     "name": "stdout",
     "output_type": "stream",
     "text": [
      "epoch: 4, [batch: 5040 / 12600], examples_per_second: 1913.3874, train_label_loss: 0.3848, \n"
     ]
    },
    {
     "name": "stdout",
     "output_type": "stream",
     "text": [
      "epoch: 4, [batch: 6300 / 12600], examples_per_second: 1854.5262, train_label_loss: 0.1308, \n"
     ]
    },
    {
     "name": "stdout",
     "output_type": "stream",
     "text": [
      "epoch: 4, [batch: 7560 / 12600], examples_per_second: 1932.2586, train_label_loss: 0.3783, \n"
     ]
    },
    {
     "name": "stdout",
     "output_type": "stream",
     "text": [
      "epoch: 4, [batch: 8820 / 12600], examples_per_second: 1954.9035, train_label_loss: 0.2655, \n"
     ]
    },
    {
     "name": "stdout",
     "output_type": "stream",
     "text": [
      "epoch: 4, [batch: 10080 / 12600], examples_per_second: 1940.0382, train_label_loss: 0.5110, \n"
     ]
    },
    {
     "name": "stdout",
     "output_type": "stream",
     "text": [
      "epoch: 4, [batch: 11340 / 12600], examples_per_second: 1948.4639, train_label_loss: 0.2263, \n"
     ]
    },
    {
     "name": "stdout",
     "output_type": "stream",
     "text": [
      "=============================================================\n",
      "epoch: 4, source_val_acc_label: 0.8792, target_val_acc_label: 0.7717, source_val_label_loss: 0.3465, target_val_label_loss: 0.7160, \n",
      "=============================================================\n"
     ]
    },
    {
     "name": "stdout",
     "output_type": "stream",
     "text": [
      "New best\n"
     ]
    },
    {
     "name": "stdout",
     "output_type": "stream",
     "text": [
      "epoch: 5, [batch: 1 / 12600], examples_per_second: 0.8666, train_label_loss: 0.2677, \n"
     ]
    },
    {
     "name": "stdout",
     "output_type": "stream",
     "text": [
      "epoch: 5, [batch: 1260 / 12600], examples_per_second: 1761.9891, train_label_loss: 0.2095, \n"
     ]
    },
    {
     "name": "stdout",
     "output_type": "stream",
     "text": [
      "epoch: 5, [batch: 2520 / 12600], examples_per_second: 1777.3282, train_label_loss: 0.2648, \n"
     ]
    },
    {
     "name": "stdout",
     "output_type": "stream",
     "text": [
      "epoch: 5, [batch: 3780 / 12600], examples_per_second: 1793.7138, train_label_loss: 0.2048, \n"
     ]
    },
    {
     "name": "stdout",
     "output_type": "stream",
     "text": [
      "epoch: 5, [batch: 5040 / 12600], examples_per_second: 1784.4907, train_label_loss: 0.0672, \n"
     ]
    },
    {
     "name": "stdout",
     "output_type": "stream",
     "text": [
      "epoch: 5, [batch: 6300 / 12600], examples_per_second: 1785.6922, train_label_loss: 0.3227, \n"
     ]
    },
    {
     "name": "stdout",
     "output_type": "stream",
     "text": [
      "epoch: 5, [batch: 7560 / 12600], examples_per_second: 3155.0325, train_label_loss: 0.1683, \n"
     ]
    },
    {
     "name": "stdout",
     "output_type": "stream",
     "text": [
      "epoch: 5, [batch: 8820 / 12600], examples_per_second: 4187.4715, train_label_loss: 0.2268, \n"
     ]
    },
    {
     "name": "stdout",
     "output_type": "stream",
     "text": [
      "epoch: 5, [batch: 10080 / 12600], examples_per_second: 2046.3767, train_label_loss: 0.3469, \n"
     ]
    },
    {
     "name": "stdout",
     "output_type": "stream",
     "text": [
      "epoch: 5, [batch: 11340 / 12600], examples_per_second: 1782.6689, train_label_loss: 0.2199, \n"
     ]
    },
    {
     "name": "stdout",
     "output_type": "stream",
     "text": [
      "=============================================================\n",
      "epoch: 5, source_val_acc_label: 0.8803, target_val_acc_label: 0.7717, source_val_label_loss: 0.3416, target_val_label_loss: 0.7001, \n",
      "=============================================================\n"
     ]
    },
    {
     "name": "stdout",
     "output_type": "stream",
     "text": [
      "epoch: 6, [batch: 1 / 12600], examples_per_second: 0.6333, train_label_loss: 0.0326, \n"
     ]
    },
    {
     "name": "stdout",
     "output_type": "stream",
     "text": [
      "epoch: 6, [batch: 1260 / 12600], examples_per_second: 1786.1344, train_label_loss: 0.2706, \n"
     ]
    },
    {
     "name": "stdout",
     "output_type": "stream",
     "text": [
      "epoch: 6, [batch: 2520 / 12600], examples_per_second: 1783.5314, train_label_loss: 0.3552, \n"
     ]
    },
    {
     "name": "stdout",
     "output_type": "stream",
     "text": [
      "epoch: 6, [batch: 3780 / 12600], examples_per_second: 1787.3738, train_label_loss: 0.2173, \n"
     ]
    },
    {
     "name": "stdout",
     "output_type": "stream",
     "text": [
      "epoch: 6, [batch: 5040 / 12600], examples_per_second: 1780.8102, train_label_loss: 0.3432, \n"
     ]
    },
    {
     "name": "stdout",
     "output_type": "stream",
     "text": [
      "epoch: 6, [batch: 6300 / 12600], examples_per_second: 1903.0071, train_label_loss: 0.3875, \n"
     ]
    },
    {
     "name": "stdout",
     "output_type": "stream",
     "text": [
      "epoch: 6, [batch: 7560 / 12600], examples_per_second: 1951.3530, train_label_loss: 0.3226, \n"
     ]
    },
    {
     "name": "stdout",
     "output_type": "stream",
     "text": [
      "epoch: 6, [batch: 8820 / 12600], examples_per_second: 1923.7384, train_label_loss: 0.1684, \n"
     ]
    },
    {
     "name": "stdout",
     "output_type": "stream",
     "text": [
      "epoch: 6, [batch: 10080 / 12600], examples_per_second: 2001.6858, train_label_loss: 0.3029, \n"
     ]
    },
    {
     "name": "stdout",
     "output_type": "stream",
     "text": [
      "epoch: 6, [batch: 11340 / 12600], examples_per_second: 2044.4471, train_label_loss: 0.3449, \n"
     ]
    },
    {
     "name": "stdout",
     "output_type": "stream",
     "text": [
      "=============================================================\n",
      "epoch: 6, source_val_acc_label: 0.8824, target_val_acc_label: 0.7701, source_val_label_loss: 0.3358, target_val_label_loss: 0.7120, \n",
      "=============================================================\n"
     ]
    },
    {
     "name": "stdout",
     "output_type": "stream",
     "text": [
      "epoch: 7, [batch: 1 / 12600], examples_per_second: 0.8168, train_label_loss: 0.1505, \n"
     ]
    },
    {
     "name": "stdout",
     "output_type": "stream",
     "text": [
      "epoch: 7, [batch: 1260 / 12600], examples_per_second: 1791.2680, train_label_loss: 0.1054, \n"
     ]
    },
    {
     "name": "stdout",
     "output_type": "stream",
     "text": [
      "epoch: 7, [batch: 2520 / 12600], examples_per_second: 1771.9853, train_label_loss: 0.4145, \n"
     ]
    },
    {
     "name": "stdout",
     "output_type": "stream",
     "text": [
      "epoch: 7, [batch: 3780 / 12600], examples_per_second: 2009.9175, train_label_loss: 0.0615, \n"
     ]
    },
    {
     "name": "stdout",
     "output_type": "stream",
     "text": [
      "epoch: 7, [batch: 5040 / 12600], examples_per_second: 3910.1387, train_label_loss: 0.0682, \n"
     ]
    },
    {
     "name": "stdout",
     "output_type": "stream",
     "text": [
      "epoch: 7, [batch: 6300 / 12600], examples_per_second: 2276.6771, train_label_loss: 0.4216, \n"
     ]
    },
    {
     "name": "stdout",
     "output_type": "stream",
     "text": [
      "epoch: 7, [batch: 7560 / 12600], examples_per_second: 1932.6116, train_label_loss: 0.1375, \n"
     ]
    },
    {
     "name": "stdout",
     "output_type": "stream",
     "text": [
      "epoch: 7, [batch: 8820 / 12600], examples_per_second: 1907.9753, train_label_loss: 0.2816, \n"
     ]
    },
    {
     "name": "stdout",
     "output_type": "stream",
     "text": [
      "epoch: 7, [batch: 10080 / 12600], examples_per_second: 1934.9751, train_label_loss: 0.3126, \n"
     ]
    },
    {
     "name": "stdout",
     "output_type": "stream",
     "text": [
      "epoch: 7, [batch: 11340 / 12600], examples_per_second: 1848.5992, train_label_loss: 0.4716, \n"
     ]
    },
    {
     "name": "stdout",
     "output_type": "stream",
     "text": [
      "=============================================================\n",
      "epoch: 7, source_val_acc_label: 0.8819, target_val_acc_label: 0.7672, source_val_label_loss: 0.3413, target_val_label_loss: 0.7116, \n",
      "=============================================================\n"
     ]
    },
    {
     "name": "stdout",
     "output_type": "stream",
     "text": [
      "epoch: 8, [batch: 1 / 12600], examples_per_second: 0.7824, train_label_loss: 0.1223, \n"
     ]
    },
    {
     "name": "stdout",
     "output_type": "stream",
     "text": [
      "epoch: 8, [batch: 1260 / 12600], examples_per_second: 2150.9832, train_label_loss: 0.3354, \n"
     ]
    },
    {
     "name": "stdout",
     "output_type": "stream",
     "text": [
      "epoch: 8, [batch: 2520 / 12600], examples_per_second: 1781.5500, train_label_loss: 0.0670, \n"
     ]
    },
    {
     "name": "stdout",
     "output_type": "stream",
     "text": [
      "epoch: 8, [batch: 3780 / 12600], examples_per_second: 1793.5875, train_label_loss: 0.0202, \n"
     ]
    },
    {
     "name": "stdout",
     "output_type": "stream",
     "text": [
      "epoch: 8, [batch: 5040 / 12600], examples_per_second: 1781.1185, train_label_loss: 0.0254, \n"
     ]
    },
    {
     "name": "stdout",
     "output_type": "stream",
     "text": [
      "epoch: 8, [batch: 6300 / 12600], examples_per_second: 1872.7290, train_label_loss: 0.2651, \n"
     ]
    },
    {
     "name": "stdout",
     "output_type": "stream",
     "text": [
      "epoch: 8, [batch: 7560 / 12600], examples_per_second: 2532.8852, train_label_loss: 0.2737, \n"
     ]
    },
    {
     "name": "stdout",
     "output_type": "stream",
     "text": [
      "epoch: 8, [batch: 8820 / 12600], examples_per_second: 4330.9512, train_label_loss: 0.2204, \n"
     ]
    },
    {
     "name": "stdout",
     "output_type": "stream",
     "text": [
      "epoch: 8, [batch: 10080 / 12600], examples_per_second: 2310.7216, train_label_loss: 0.0750, \n"
     ]
    },
    {
     "name": "stdout",
     "output_type": "stream",
     "text": [
      "epoch: 8, [batch: 11340 / 12600], examples_per_second: 1773.9635, train_label_loss: 0.0230, \n"
     ]
    },
    {
     "name": "stdout",
     "output_type": "stream",
     "text": [
      "=============================================================\n",
      "epoch: 8, source_val_acc_label: 0.8853, target_val_acc_label: 0.7661, source_val_label_loss: 0.3356, target_val_label_loss: 0.7084, \n",
      "=============================================================\n"
     ]
    },
    {
     "name": "stdout",
     "output_type": "stream",
     "text": [
      "Patience (3) exhausted\n"
     ]
    }
   ],
   "source": [
    "###################################\n",
    "# train\n",
    "###################################\n",
    "jig = PTN_Train_Eval_Test_Jig(model, p.BEST_MODEL_PATH, p.device)\n",
    "\n",
    "jig.train(\n",
    "    train_iterable=datasets.source.processed.train,\n",
    "    source_val_iterable=datasets.source.processed.val,\n",
    "    target_val_iterable=datasets.target.processed.val,\n",
    "    num_epochs=p.n_epoch,\n",
    "    num_logs_per_epoch=p.NUM_LOGS_PER_EPOCH,\n",
    "    patience=p.patience,\n",
    "    optimizer=optimizer,\n",
    "    criteria_for_best=p.criteria_for_best,\n",
    ")"
   ]
  },
  {
   "cell_type": "code",
   "execution_count": 14,
   "id": "31e8fabf",
   "metadata": {
    "execution": {
     "iopub.execute_input": "2022-03-26T05:58:09.453308Z",
     "iopub.status.busy": "2022-03-26T05:58:09.452941Z",
     "iopub.status.idle": "2022-03-26T05:58:09.484932Z",
     "shell.execute_reply": "2022-03-26T05:58:09.485571Z"
    },
    "papermill": {
     "duration": 0.078261,
     "end_time": "2022-03-26T05:58:09.485781",
     "exception": false,
     "start_time": "2022-03-26T05:58:09.407520",
     "status": "completed"
    },
    "tags": []
   },
   "outputs": [],
   "source": [
    "total_experiment_time_secs = time.time() - start_time_secs"
   ]
  },
  {
   "cell_type": "code",
   "execution_count": 15,
   "id": "87b9595b",
   "metadata": {
    "execution": {
     "iopub.execute_input": "2022-03-26T05:58:09.582299Z",
     "iopub.status.busy": "2022-03-26T05:58:09.581667Z",
     "iopub.status.idle": "2022-03-26T06:10:14.890667Z",
     "shell.execute_reply": "2022-03-26T06:10:14.889891Z"
    },
    "papermill": {
     "duration": 725.356932,
     "end_time": "2022-03-26T06:10:14.890869",
     "exception": false,
     "start_time": "2022-03-26T05:58:09.533937",
     "status": "completed"
    },
    "tags": []
   },
   "outputs": [],
   "source": [
    "###################################\n",
    "# Evaluate the model\n",
    "###################################\n",
    "source_test_label_accuracy, source_test_label_loss = jig.test(datasets.source.processed.test)\n",
    "target_test_label_accuracy, target_test_label_loss = jig.test(datasets.target.processed.test)\n",
    "\n",
    "source_val_label_accuracy, source_val_label_loss = jig.test(datasets.source.processed.val)\n",
    "target_val_label_accuracy, target_val_label_loss = jig.test(datasets.target.processed.val)\n",
    "\n",
    "history = jig.get_history()\n",
    "\n",
    "total_epochs_trained = len(history[\"epoch_indices\"])\n",
    "\n",
    "val_dl = Iterable_Aggregator((datasets.source.original.val,datasets.target.original.val))\n",
    "\n",
    "confusion = ptn_confusion_by_domain_over_dataloader(model, p.device, val_dl)\n",
    "per_domain_accuracy = per_domain_accuracy_from_confusion(confusion)\n",
    "\n",
    "# Add a key to per_domain_accuracy for if it was a source domain\n",
    "for domain, accuracy in per_domain_accuracy.items():\n",
    "    per_domain_accuracy[domain] = {\n",
    "        \"accuracy\": accuracy,\n",
    "        \"source?\": domain in p.domains_source\n",
    "    }\n",
    "\n",
    "# Do an independent accuracy assesment JUST TO BE SURE!\n",
    "# _source_test_label_accuracy = independent_accuracy_assesment(model, datasets.source.processed.test, p.device)\n",
    "# _target_test_label_accuracy = independent_accuracy_assesment(model, datasets.target.processed.test, p.device)\n",
    "# _source_val_label_accuracy = independent_accuracy_assesment(model, datasets.source.processed.val, p.device)\n",
    "# _target_val_label_accuracy = independent_accuracy_assesment(model, datasets.target.processed.val, p.device)\n",
    "\n",
    "# assert(_source_test_label_accuracy == source_test_label_accuracy)\n",
    "# assert(_target_test_label_accuracy == target_test_label_accuracy)\n",
    "# assert(_source_val_label_accuracy == source_val_label_accuracy)\n",
    "# assert(_target_val_label_accuracy == target_val_label_accuracy)\n",
    "\n",
    "experiment = {\n",
    "    \"experiment_name\": p.experiment_name,\n",
    "    \"parameters\": dict(p),\n",
    "    \"results\": {\n",
    "        \"source_test_label_accuracy\": source_test_label_accuracy,\n",
    "        \"source_test_label_loss\": source_test_label_loss,\n",
    "        \"target_test_label_accuracy\": target_test_label_accuracy,\n",
    "        \"target_test_label_loss\": target_test_label_loss,\n",
    "        \"source_val_label_accuracy\": source_val_label_accuracy,\n",
    "        \"source_val_label_loss\": source_val_label_loss,\n",
    "        \"target_val_label_accuracy\": target_val_label_accuracy,\n",
    "        \"target_val_label_loss\": target_val_label_loss,\n",
    "        \"total_epochs_trained\": total_epochs_trained,\n",
    "        \"total_experiment_time_secs\": total_experiment_time_secs,\n",
    "        \"confusion\": confusion,\n",
    "        \"per_domain_accuracy\": per_domain_accuracy,\n",
    "    },\n",
    "    \"history\": history,\n",
    "    \"dataset_metrics\": get_dataset_metrics(datasets, \"ptn\"),\n",
    "}"
   ]
  },
  {
   "cell_type": "code",
   "execution_count": 16,
   "id": "54a21829",
   "metadata": {
    "execution": {
     "iopub.execute_input": "2022-03-26T06:10:14.981621Z",
     "iopub.status.busy": "2022-03-26T06:10:14.981110Z",
     "iopub.status.idle": "2022-03-26T06:10:15.209789Z",
     "shell.execute_reply": "2022-03-26T06:10:15.210474Z"
    },
    "papermill": {
     "duration": 0.273501,
     "end_time": "2022-03-26T06:10:15.210662",
     "exception": false,
     "start_time": "2022-03-26T06:10:14.937161",
     "status": "completed"
    },
    "tags": []
   },
   "outputs": [
    {
     "data": {
      "image/png": "[encoded data removed]",
      "text/plain": [
       "<Figure size 1080x504 with 1 Axes>"
      ]
     },
     "metadata": {
      "needs_background": "light"
     },
     "output_type": "display_data"
    }
   ],
   "source": [
    "ax = get_loss_curve(experiment)\n",
    "plt.show()"
   ]
  },
  {
   "cell_type": "code",
   "execution_count": 17,
   "id": "fd8a0f60",
   "metadata": {
    "execution": {
     "iopub.execute_input": "2022-03-26T06:10:15.305348Z",
     "iopub.status.busy": "2022-03-26T06:10:15.304981Z",
     "iopub.status.idle": "2022-03-26T06:10:15.676707Z",
     "shell.execute_reply": "2022-03-26T06:10:15.677017Z"
    },
    "papermill": {
     "duration": 0.417811,
     "end_time": "2022-03-26T06:10:15.677106",
     "exception": false,
     "start_time": "2022-03-26T06:10:15.259295",
     "status": "completed"
    },
    "tags": []
   },
   "outputs": [
    {
     "data": {
      "text/plain": [
       "<AxesSubplot:title={'center':'Results'}>"
      ]
     },
     "execution_count": 17,
     "metadata": {},
     "output_type": "execute_result"
    },
    {
     "data": {
      "image/png": "[encoded data removed]",
      "text/plain": [
       "<Figure size 1080x504 with 1 Axes>"
      ]
     },
     "metadata": {
      "needs_background": "light"
     },
     "output_type": "display_data"
    }
   ],
   "source": [
    "get_results_table(experiment)"
   ]
  },
  {
   "cell_type": "code",
   "execution_count": 18,
   "id": "cf8dc689",
   "metadata": {
    "execution": {
     "iopub.execute_input": "2022-03-26T06:10:15.769880Z",
     "iopub.status.busy": "2022-03-26T06:10:15.769505Z",
     "iopub.status.idle": "2022-03-26T06:10:15.979620Z",
     "shell.execute_reply": "2022-03-26T06:10:15.979280Z"
    },
    "papermill": {
     "duration": 0.258205,
     "end_time": "2022-03-26T06:10:15.979693",
     "exception": false,
     "start_time": "2022-03-26T06:10:15.721488",
     "status": "completed"
    },
    "tags": []
   },
   "outputs": [
    {
     "data": {
      "text/plain": [
       "<AxesSubplot:title={'center':'Per Domain Validation Accuracy'}, xlabel='domain'>"
      ]
     },
     "execution_count": 18,
     "metadata": {},
     "output_type": "execute_result"
    },
    {
     "data": {
      "image/png": "[encoded data removed]",
      "text/plain": [
       "<Figure size 1080x504 with 1 Axes>"
      ]
     },
     "metadata": {
      "needs_background": "light"
     },
     "output_type": "display_data"
    }
   ],
   "source": [
    "get_domain_accuracies(experiment)"
   ]
  },
  {
   "cell_type": "code",
   "execution_count": 19,
   "id": "a74ae082",
   "metadata": {
    "execution": {
     "iopub.execute_input": "2022-03-26T06:10:16.074775Z",
     "iopub.status.busy": "2022-03-26T06:10:16.074399Z",
     "iopub.status.idle": "2022-03-26T06:10:16.101234Z",
     "shell.execute_reply": "2022-03-26T06:10:16.101918Z"
    },
    "papermill": {
     "duration": 0.077064,
     "end_time": "2022-03-26T06:10:16.102098",
     "exception": false,
     "start_time": "2022-03-26T06:10:16.025034",
     "status": "completed"
    },
    "tags": []
   },
   "outputs": [
    {
     "name": "stdout",
     "output_type": "stream",
     "text": [
      "Source Test Label Accuracy: 0.8772395833333333 Target Test Label Accuracy: 0.77109375\n",
      "Source Val Label Accuracy: 0.8791840277777778 Target Val Label Accuracy: 0.77171875\n"
     ]
    }
   ],
   "source": [
    "print(\"Source Test Label Accuracy:\", experiment[\"results\"][\"source_test_label_accuracy\"], \"Target Test Label Accuracy:\", experiment[\"results\"][\"target_test_label_accuracy\"])\n",
    "print(\"Source Val Label Accuracy:\", experiment[\"results\"][\"source_val_label_accuracy\"], \"Target Val Label Accuracy:\", experiment[\"results\"][\"target_val_label_accuracy\"])"
   ]
  },
  {
   "cell_type": "code",
   "execution_count": 20,
   "id": "dacca602",
   "metadata": {
    "execution": {
     "iopub.execute_input": "2022-03-26T06:10:16.201120Z",
     "iopub.status.busy": "2022-03-26T06:10:16.200581Z",
     "iopub.status.idle": "2022-03-26T06:10:16.224800Z",
     "shell.execute_reply": "2022-03-26T06:10:16.225477Z"
    },
    "papermill": {
     "duration": 0.074196,
     "end_time": "2022-03-26T06:10:16.225661",
     "exception": false,
     "start_time": "2022-03-26T06:10:16.151465",
     "status": "completed"
    },
    "tags": [
     "experiment_json"
    ]
   },
   "outputs": [
    {
     "data": {
      "text/plain": [
       "'{\"experiment_name\": \"tuned_1v2:oracle.run1_limited\", \"parameters\": {\"experiment_name\": \"tuned_1v2:oracle.run1_limited\", \"device\": \"cuda\", \"lr\": 0.0001, \"labels_source\": [\"3123D52\", \"3123D65\", \"3123D79\", \"3123D80\", \"3123D54\", \"3123D70\", \"3123D7B\", \"3123D89\", \"3123D58\", \"3123D76\", \"3123D7D\", \"3123EFE\", \"3123D64\", \"3123D78\", \"3123D7E\", \"3124E4A\"], \"labels_target\": [\"3123D52\", \"3123D65\", \"3123D79\", \"3123D80\", \"3123D54\", \"3123D70\", \"3123D7B\", \"3123D89\", \"3123D58\", \"3123D76\", \"3123D7D\", \"3123EFE\", \"3123D64\", \"3123D78\", \"3123D7E\", \"3124E4A\"], \"episode_transforms_source\": [], \"episode_transforms_target\": [], \"domains_source\": [8, 32, 50], \"domains_target\": [14, 20, 26, 38, 44], \"num_examples_per_domain_per_label_source\": -1, \"num_examples_per_domain_per_label_target\": -1, \"n_shot\": 3, \"n_way\": 16, \"n_query\": 2, \"train_k_factor\": 3, \"val_k_factor\": 2, \"test_k_factor\": 2, \"torch_default_dtype\": \"torch.float32\", \"n_epoch\": 50, \"patience\": 3, \"criteria_for_best\": \"target_accuracy\", \"x_net\": [{\"class\": \"nnReshape\", \"kargs\": {\"shape\": [-1, 1, 2, 256]}}, {\"class\": \"Conv2d\", \"kargs\": {\"in_channels\": 1, \"out_channels\": 256, \"kernel_size\": [1, 7], \"bias\": false, \"padding\": [0, 3]}}, {\"class\": \"ReLU\", \"kargs\": {\"inplace\": true}}, {\"class\": \"BatchNorm2d\", \"kargs\": {\"num_features\": 256}}, {\"class\": \"Conv2d\", \"kargs\": {\"in_channels\": 256, \"out_channels\": 80, \"kernel_size\": [2, 7], \"bias\": true, \"padding\": [0, 3]}}, {\"class\": \"ReLU\", \"kargs\": {\"inplace\": true}}, {\"class\": \"BatchNorm2d\", \"kargs\": {\"num_features\": 80}}, {\"class\": \"Flatten\", \"kargs\": {}}, {\"class\": \"Linear\", \"kargs\": {\"in_features\": 20480, \"out_features\": 256}}, {\"class\": \"ReLU\", \"kargs\": {\"inplace\": true}}, {\"class\": \"BatchNorm1d\", \"kargs\": {\"num_features\": 256}}, {\"class\": \"Linear\", \"kargs\": {\"in_features\": 256, \"out_features\": 256}}], \"NUM_LOGS_PER_EPOCH\": 10, \"BEST_MODEL_PATH\": \"./best_model.pth\", \"pickle_name\": \"oracle.Run1_10kExamples_stratified_ds.2022A.pkl\", \"x_transforms_source\": [], \"x_transforms_target\": [], \"dataset_seed\": 420, \"seed\": 420}, \"results\": {\"source_test_label_accuracy\": 0.8772395833333333, \"source_test_label_loss\": 0.3494546711444855, \"target_test_label_accuracy\": 0.77109375, \"target_test_label_loss\": 0.7150443196296692, \"source_val_label_accuracy\": 0.8791840277777778, \"source_val_label_loss\": 0.3465256094932556, \"target_val_label_accuracy\": 0.77171875, \"target_val_label_loss\": 0.7159613966941833, \"total_epochs_trained\": 8, \"total_experiment_time_secs\": 5224.42952299118, \"confusion\": {\"8\": {\"15\": {\"15\": 983, \"12\": 198, \"2\": 19}, \"5\": {\"5\": 1022, \"10\": 94, \"1\": 74, \"11\": 9, \"14\": 1}, \"7\": {\"7\": 1058, \"6\": 115, \"13\": 27}, \"4\": {\"4\": 1130, \"8\": 18, \"14\": 24, \"6\": 14, \"11\": 7, \"5\": 1, \"1\": 5, \"10\": 1}, \"10\": {\"13\": 147, \"10\": 946, \"1\": 46, \"6\": 35, \"5\": 24, \"11\": 1, \"4\": 1}, \"11\": {\"1\": 309, \"11\": 827, \"14\": 22, \"8\": 15, \"6\": 5, \"5\": 7, \"4\": 13, \"10\": 2}, \"12\": {\"12\": 896, \"15\": 293, \"2\": 11}, \"0\": {\"0\": 1200}, \"14\": {\"14\": 1132, \"4\": 64, \"1\": 1, \"11\": 3}, \"8\": {\"8\": 1158, \"4\": 18, \"11\": 4, \"6\": 20}, \"13\": {\"13\": 960, \"10\": 159, \"6\": 9, \"7\": 71, \"5\": 1}, \"6\": {\"6\": 1029, \"10\": 11, \"7\": 138, \"13\": 10, \"1\": 1, \"8\": 3, \"4\": 7, \"11\": 1}, \"1\": {\"1\": 931, \"11\": 179, \"10\": 60, \"5\": 25, \"13\": 2, \"6\": 1, \"4\": 2}, \"3\": {\"3\": 1182, \"2\": 18}, \"9\": {\"9\": 1200}, \"2\": {\"2\": 1017, \"15\": 48, \"3\": 92, \"12\": 43}}, \"50\": {\"4\": {\"15\": 23, \"4\": 1022, \"7\": 113, \"5\": 34, \"6\": 8}, \"10\": {\"10\": 1179, \"8\": 12, \"0\": 9}, \"15\": {\"15\": 1124, \"6\": 68, \"11\": 6, \"5\": 2}, \"0\": {\"0\": 1122, \"2\": 66, \"10\": 12}, \"6\": {\"6\": 993, \"15\": 80, \"5\": 127}, \"3\": {\"3\": 1200}, \"7\": {\"7\": 1119, \"5\": 45, \"4\": 36}, \"2\": {\"2\": 1158, \"0\": 42}, \"8\": {\"8\": 1186, \"10\": 14}, \"11\": {\"11\": 1161, \"9\": 13, \"12\": 16, \"15\": 10}, \"14\": {\"14\": 1200}, \"12\": {\"12\": 1124, \"11\": 19, \"9\": 57}, \"13\": {\"13\": 1199, \"5\": 1}, \"9\": {\"9\": 1046, \"12\": 84, \"11\": 65, \"15\": 5}, \"5\": {\"5\": 553, \"4\": 54, \"7\": 297, \"6\": 220, \"13\": 65, \"15\": 9, \"1\": 2}, \"1\": {\"1\": 1165, \"13\": 31, \"11\": 2, \"0\": 2}}, \"32\": {\"7\": {\"7\": 765, \"5\": 208, \"14\": 129, \"0\": 79, \"8\": 19}, \"2\": {\"4\": 170, \"2\": 1029, \"14\": 1}, \"5\": {\"5\": 717, \"7\": 225, \"8\": 119, \"0\": 90, \"14\": 48, \"15\": 1}, \"6\": {\"6\": 1200}, \"13\": {\"13\": 891, \"11\": 23, \"4\": 155, \"3\": 131}, \"4\": {\"4\": 1008, \"2\": 159, \"13\": 31, \"8\": 1, \"3\": 1}, \"3\": {\"3\": 1141, \"13\": 59}, \"0\": {\"0\": 909, \"5\": 56, \"14\": 29, \"7\": 107, \"8\": 98, \"2\": 1}, \"9\": {\"9\": 1187, \"2\": 2, \"12\": 11}, \"12\": {\"12\": 1200}, \"8\": {\"8\": 888, \"5\": 81, \"0\": 161, \"7\": 27, \"14\": 15, \"2\": 8, \"4\": 15, \"15\": 4, \"3\": 1}, \"14\": {\"14\": 706, \"7\": 302, \"0\": 45, \"8\": 41, \"5\": 44, \"2\": 52, \"4\": 10}, \"15\": {\"15\": 1190, \"8\": 8, \"5\": 2}, \"11\": {\"11\": 1188, \"13\": 10, \"3\": 2}, \"10\": {\"10\": 1200}, \"1\": {\"1\": 1200}}, \"20\": {\"15\": {\"1\": 272, \"3\": 26, \"15\": 497, \"5\": 105, \"9\": 105, \"12\": 144, \"13\": 22, \"2\": 27, \"7\": 1, \"8\": 1}, \"5\": {\"5\": 478, \"3\": 163, \"1\": 372, \"12\": 30, \"9\": 54, \"15\": 74, \"8\": 13, \"0\": 13, \"7\": 2, \"2\": 1}, \"7\": {\"7\": 544, \"4\": 26, \"2\": 293, \"13\": 85, \"9\": 82, \"14\": 43, \"12\": 39, \"8\": 28, \"6\": 50, \"15\": 1, \"3\": 9}, \"4\": {\"4\": 988, \"10\": 49, \"12\": 85, \"14\": 8, \"7\": 33, \"2\": 16, \"5\": 1, \"15\": 3, \"6\": 12, \"8\": 3, \"9\": 2}, \"10\": {\"10\": 1105, \"4\": 70, \"6\": 24, \"7\": 1}, \"11\": {\"11\": 1200}, \"12\": {\"12\": 603, \"9\": 108, \"4\": 71, \"15\": 161, \"7\": 38, \"5\": 17, \"1\": 34, \"2\": 115, \"13\": 26, \"8\": 6, \"3\": 20, \"14\": 1}, \"0\": {\"0\": 1074, \"5\": 62, \"1\": 20, \"3\": 32, \"8\": 6, \"9\": 5, \"11\": 1}, \"14\": {\"14\": 838, \"4\": 20, \"7\": 79, \"8\": 179, \"6\": 62, \"2\": 8, \"9\": 9, \"12\": 3, \"3\": 1, \"10\": 1}, \"8\": {\"8\": 724, \"14\": 107, \"3\": 207, \"9\": 71, \"5\": 16, \"7\": 45, \"0\": 1, \"12\": 14, \"2\": 6, \"4\": 4, \"1\": 5}, \"13\": {\"13\": 777, \"2\": 255, \"12\": 50, \"7\": 54, \"9\": 31, \"15\": 25, \"6\": 2, \"1\": 3, \"3\": 2, \"4\": 1}, \"6\": {\"6\": 1039, \"7\": 67, \"10\": 25, \"2\": 6, \"14\": 57, \"4\": 6}, \"1\": {\"1\": 415, \"5\": 369, \"3\": 118, \"15\": 183, \"13\": 5, \"9\": 67, \"12\": 29, \"0\": 5, \"8\": 4, \"2\": 4, \"7\": 1}, \"3\": {\"9\": 196, \"3\": 447, \"5\": 208, \"1\": 138, \"12\": 45, \"8\": 86, \"7\": 10, \"15\": 24, \"4\": 2, \"0\": 22, \"2\": 17, \"13\": 4, \"14\": 1}, \"9\": {\"12\": 116, \"3\": 178, \"9\": 443, \"1\": 73, \"8\": 51, \"15\": 53, \"2\": 132, \"13\": 41, \"5\": 42, \"7\": 69, \"4\": 1, \"14\": 1}, \"2\": {\"2\": 383, \"7\": 272, \"13\": 212, \"12\": 138, \"9\": 130, \"4\": 14, \"15\": 22, \"14\": 5, \"3\": 8, \"8\": 5, \"6\": 5, \"1\": 4, \"5\": 2}}, \"26\": {\"4\": {\"4\": 1197, \"13\": 2, \"3\": 1}, \"10\": {\"10\": 667, \"0\": 135, \"6\": 69, \"15\": 84, \"14\": 230, \"1\": 13, \"2\": 1, \"5\": 1}, \"15\": {\"15\": 627, \"5\": 327, \"1\": 14, \"6\": 104, \"10\": 84, \"0\": 16, \"14\": 28}, \"0\": {\"0\": 811, \"8\": 36, \"14\": 129, \"10\": 179, \"2\": 19, \"9\": 3, \"15\": 14, \"5\": 1, \"6\": 4, \"1\": 3, \"7\": 1}, \"6\": {\"6\": 900, \"5\": 77, \"15\": 103, \"10\": 60, \"1\": 42, \"14\": 18}, \"3\": {\"7\": 117, \"3\": 1047, \"13\": 6, \"2\": 18, \"9\": 10, \"4\": 1, \"8\": 1}, \"7\": {\"7\": 735, \"8\": 159, \"3\": 90, \"2\": 155, \"9\": 60, \"13\": 1}, \"2\": {\"2\": 665, \"0\": 43, \"7\": 216, \"3\": 70, \"9\": 93, \"8\": 89, \"13\": 9, \"15\": 8, \"14\": 4, \"5\": 1, \"10\": 2}, \"8\": {\"0\": 14, \"8\": 647, \"3\": 4, \"9\": 284, \"7\": 173, \"2\": 77, \"13\": 1}, \"11\": {\"11\": 1199, \"6\": 1}, \"14\": {\"14\": 715, \"10\": 249, \"1\": 99, \"0\": 92, \"6\": 18, \"15\": 26, \"5\": 1}, \"12\": {\"12\": 1200}, \"13\": {\"13\": 1008, \"4\": 34, \"7\": 10, \"9\": 73, \"2\": 39, \"3\": 28, \"8\": 8}, \"9\": {\"13\": 128, \"9\": 599, \"2\": 92, \"8\": 297, \"7\": 57, \"3\": 16, \"0\": 10, \"4\": 1}, \"5\": {\"5\": 815, \"6\": 101, \"15\": 274, \"1\": 6, \"10\": 2, \"14\": 2}, \"1\": {\"1\": 879, \"15\": 7, \"6\": 39, \"10\": 51, \"14\": 212, \"0\": 5, \"5\": 7}}, \"38\": {\"7\": {\"7\": 1187, \"0\": 3, \"8\": 7, \"5\": 2, \"9\": 1}, \"2\": {\"2\": 1071, \"14\": 129}, \"5\": {\"8\": 420, \"5\": 552, \"15\": 61, \"9\": 74, \"7\": 87, \"0\": 2, \"13\": 1, \"12\": 2, \"2\": 1}, \"6\": {\"6\": 1199, \"1\": 1}, \"13\": {\"13\": 1135, \"14\": 4, \"10\": 45, \"2\": 3, \"0\": 13}, \"4\": {\"4\": 1192, \"10\": 7, \"0\": 1}, \"3\": {\"3\": 1200}, \"0\": {\"0\": 735, \"10\": 165, \"3\": 48, \"7\": 170, \"13\": 78, \"4\": 3, \"5\": 1}, \"9\": {\"9\": 1169, \"5\": 21, \"7\": 5, \"8\": 5}, \"12\": {\"12\": 1195, \"8\": 5}, \"8\": {\"5\": 392, \"8\": 544, \"7\": 215, \"15\": 26, \"12\": 13, \"13\": 4, \"2\": 2, \"14\": 1, \"9\": 3}, \"14\": {\"14\": 1052, \"2\": 140, \"13\": 8}, \"15\": {\"15\": 1082, \"8\": 37, \"5\": 46, \"1\": 34, \"12\": 1}, \"11\": {\"11\": 1200}, \"10\": {\"10\": 1082, \"0\": 63, \"13\": 45, \"4\": 10}, \"1\": {\"1\": 1198, \"6\": 2}}, \"14\": {\"11\": {\"11\": 1195, \"10\": 2, \"9\": 3}, \"7\": {\"7\": 1188, \"5\": 11, \"2\": 1}, \"6\": {\"6\": 725, \"13\": 308, \"14\": 95, \"2\": 39, \"3\": 33}, \"12\": {\"12\": 1200}, \"4\": {\"4\": 1136, \"1\": 3, \"2\": 18, \"8\": 4, \"5\": 34, \"10\": 4, \"14\": 1}, \"13\": {\"14\": 349, \"6\": 368, \"13\": 264, \"2\": 63, \"15\": 102, \"4\": 29, \"0\": 13, \"3\": 8, \"5\": 2, \"10\": 2}, \"8\": {\"8\": 1194, \"0\": 4, \"5\": 2}, \"5\": {\"5\": 1018, \"4\": 30, \"2\": 111, \"3\": 3, \"14\": 7, \"7\": 23, \"8\": 5, \"0\": 2, \"13\": 1}, \"14\": {\"14\": 874, \"6\": 41, \"2\": 105, \"3\": 32, \"13\": 131, \"5\": 3, \"0\": 14}, \"3\": {\"3\": 1109, \"6\": 25, \"14\": 25, \"2\": 16, \"0\": 9, \"13\": 14, \"5\": 2}, \"10\": {\"10\": 1189, \"9\": 7, \"0\": 2, \"4\": 2}, \"1\": {\"1\": 1200}, \"2\": {\"2\": 413, \"6\": 112, \"5\": 167, \"7\": 17, \"4\": 119, \"14\": 204, \"0\": 24, \"13\": 65, \"3\": 79}, \"15\": {\"15\": 1200}, \"9\": {\"9\": 1199, \"10\": 1}, \"0\": {\"3\": 167, \"0\": 934, \"4\": 19, \"2\": 8, \"10\": 34, \"14\": 28, \"8\": 4, \"13\": 5, \"5\": 1}}, \"44\": {\"10\": {\"10\": 1113, \"2\": 38, \"7\": 36, \"1\": 13}, \"6\": {\"6\": 1026, \"9\": 64, \"13\": 110}, \"13\": {\"13\": 987, \"6\": 195, \"9\": 15, \"11\": 3}, \"3\": {\"3\": 1156, \"12\": 44}, \"9\": {\"6\": 196, \"9\": 522, \"7\": 358, \"13\": 105, \"2\": 15, \"4\": 3, \"14\": 1}, \"1\": {\"1\": 1122, \"2\": 78}, \"5\": {\"5\": 1021, \"15\": 86, \"8\": 24, \"14\": 63, \"4\": 5, \"0\": 1}, \"11\": {\"11\": 1200}, \"4\": {\"4\": 737, \"14\": 411, \"13\": 1, \"9\": 11, \"15\": 36, \"7\": 2, \"5\": 2}, \"14\": {\"14\": 884, \"5\": 57, \"4\": 218, \"15\": 41}, \"12\": {\"3\": 50, \"12\": 1150}, \"7\": {\"7\": 1028, \"9\": 154, \"10\": 18}, \"0\": {\"0\": 1102, \"8\": 97, \"15\": 1}, \"15\": {\"15\": 970, \"4\": 7, \"14\": 100, \"5\": 53, \"0\": 11, \"8\": 59}, \"2\": {\"2\": 1161, \"1\": 34, \"10\": 4, \"7\": 1}, \"8\": {\"0\": 305, \"8\": 809, \"5\": 30, \"15\": 56}}}, \"per_domain_accuracy\": {\"8\": {\"accuracy\": 0.86828125, \"source?\": true}, \"50\": {\"accuracy\": 0.9141145833333333, \"source?\": true}, \"32\": {\"accuracy\": 0.85515625, \"source?\": true}, \"20\": {\"accuracy\": 0.6018229166666667, \"source?\": false}, \"26\": {\"accuracy\": 0.7141145833333333, \"source?\": false}, \"38\": {\"accuracy\": 0.8746354166666667, \"source?\": false}, \"14\": {\"accuracy\": 0.8353125, \"source?\": false}, \"44\": {\"accuracy\": 0.8327083333333334, \"source?\": false}}}, \"history\": {\"epoch_indices\": [1, 2, 3, 4, 5, 6, 7, 8], \"train_label_loss\": [0.6584996369064209, 0.4407526566916042, 0.3276665142471237, 0.2796240729503038, 0.24970568873609106, 0.23039420996083035, 0.21292440343836677, 0.1986533937670867], \"source_val_label_loss\": [0.8870399594306946, 0.4124211072921753, 0.3698175847530365, 0.3465256094932556, 0.34156426787376404, 0.33582383394241333, 0.34134772419929504, 0.3355977237224579], \"target_val_label_loss\": [1.0841056108474731, 0.7435227036476135, 0.7398312091827393, 0.7159613966941833, 0.7001124620437622, 0.7119592428207397, 0.7115780115127563, 0.7084375619888306], \"source_val_acc_label\": [0.7364236111111111, 0.8480555555555556, 0.8694270833333333, 0.8791840277777778, 0.8803125, 0.8824131944444444, 0.8818576388888889, 0.8852951388888889], \"target_val_acc_label\": [0.68021875, 0.7573229166666666, 0.7705625, 0.77171875, 0.7716979166666667, 0.7700729166666667, 0.7672291666666666, 0.7661354166666666]}, \"dataset_metrics\": {\"source\": {\"train\": {\"n_unique_x\": 336000, \"n_unique_y\": 16, \"n_batch/episode\": 12600}, \"val\": {\"n_unique_x\": 72000, \"n_unique_y\": 16, \"n_batch/episode\": 1800}, \"test\": {\"n_unique_x\": 72000, \"n_unique_y\": 16, \"n_batch/episode\": 1800}}, \"target\": {\"train\": {\"n_unique_x\": 560000, \"n_unique_y\": 16, \"n_batch/episode\": 21000}, \"val\": {\"n_unique_x\": 120000, \"n_unique_y\": 16, \"n_batch/episode\": 3000}, \"test\": {\"n_unique_x\": 120000, \"n_unique_y\": 16, \"n_batch/episode\": 3000}}}}'"
      ]
     },
     "execution_count": 20,
     "metadata": {},
     "output_type": "execute_result"
    }
   ],
   "source": [
    "json.dumps(experiment)"
   ]
  }
 ],
 "metadata": {
  "celltoolbar": "Tags",
  "kernelspec": {
   "display_name": "Python 3 (ipykernel)",
   "language": "python",
   "name": "python3"
  },
  "language_info": {
   "codemirror_mode": {
    "name": "ipython",
    "version": 3
   },
   "file_extension": ".py",
   "mimetype": "text/x-python",
   "name": "python",
   "nbconvert_exporter": "python",
   "pygments_lexer": "ipython3",
   "version": "3.8.12"
  },
  "papermill": {
   "default_parameters": {},
   "duration": 5957.007098,
   "end_time": "2022-03-26T06:10:18.801656",
   "environment_variables": {},
   "exception": null,
   "input_path": "/root/csc500-main/csc500-notebooks/templates/ptn_template.ipynb",
   "output_path": "trial.ipynb",
   "parameters": {
    "parameters": {
     "BEST_MODEL_PATH": "./best_model.pth",
     "NUM_LOGS_PER_EPOCH": 10,
     "criteria_for_best": "target_accuracy",
     "dataset_seed": 420,
     "device": "cuda",
     "domains_source": [
      8,
      32,
      50
     ],
     "domains_target": [
      14,
      20,
      26,
      38,
      44
     ],
     "episode_transforms_source": [],
     "episode_transforms_target": [],
     "experiment_name": "tuned_1v2:oracle.run1_limited",
     "labels_source": [
      "3123D52",
      "3123D65",
      "3123D79",
      "3123D80",
      "3123D54",
      "3123D70",
      "3123D7B",
      "3123D89",
      "3123D58",
      "3123D76",
      "3123D7D",
      "3123EFE",
      "3123D64",
      "3123D78",
      "3123D7E",
      "3124E4A"
     ],
     "labels_target": [
      "3123D52",
      "3123D65",
      "3123D79",
      "3123D80",
      "3123D54",
      "3123D70",
      "3123D7B",
      "3123D89",
      "3123D58",
      "3123D76",
      "3123D7D",
      "3123EFE",
      "3123D64",
      "3123D78",
      "3123D7E",
      "3124E4A"
     ],
     "lr": 0.0001,
     "n_epoch": 50,
     "n_query": 2,
     "n_shot": 3,
     "n_way": 16,
     "num_examples_per_domain_per_label_source": -1,
     "num_examples_per_domain_per_label_target": -1,
     "patience": 3,
     "pickle_name": "oracle.Run1_10kExamples_stratified_ds.2022A.pkl",
     "seed": 420,
     "test_k_factor": 2,
     "torch_default_dtype": "torch.float32",
     "train_k_factor": 3,
     "val_k_factor": 2,
     "x_net": [
      {
       "class": "nnReshape",
       "kargs": {
        "shape": [
         -1,
         1,
         2,
         256
        ]
       }
      },
      {
       "class": "Conv2d",
       "kargs": {
        "bias": false,
        "in_channels": 1,
        "kernel_size": [
         1,
         7
        ],
        "out_channels": 256,
        "padding": [
         0,
         3
        ]
       }
      },
      {
       "class": "ReLU",
       "kargs": {
        "inplace": true
       }
      },
      {
       "class": "BatchNorm2d",
       "kargs": {
        "num_features": 256
       }
      },
      {
       "class": "Conv2d",
       "kargs": {
        "bias": true,
        "in_channels": 256,
        "kernel_size": [
         2,
         7
        ],
        "out_channels": 80,
        "padding": [
         0,
         3
        ]
       }
      },
      {
       "class": "ReLU",
       "kargs": {
        "inplace": true
       }
      },
      {
       "class": "BatchNorm2d",
       "kargs": {
        "num_features": 80
       }
      },
      {
       "class": "Flatten",
       "kargs": {}
      },
      {
       "class": "Linear",
       "kargs": {
        "in_features": 20480,
        "out_features": 256
       }
      },
      {
       "class": "ReLU",
       "kargs": {
        "inplace": true
       }
      },
      {
       "class": "BatchNorm1d",
       "kargs": {
        "num_features": 256
       }
      },
      {
       "class": "Linear",
       "kargs": {
        "in_features": 256,
        "out_features": 256
       }
      }
     ],
     "x_transforms_source": [],
     "x_transforms_target": []
    }
   },
   "start_time": "2022-03-26T04:31:01.794558",
   "version": "2.3.4"
  }
 },
 "nbformat": 4,
 "nbformat_minor": 5
}