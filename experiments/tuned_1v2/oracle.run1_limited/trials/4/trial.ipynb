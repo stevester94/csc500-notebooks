{
 "cells": [
  {
   "cell_type": "markdown",
   "id": "9fea5f46",
   "metadata": {
    "papermill": {
     "duration": 0.013454,
     "end_time": "2022-04-01T20:41:55.535742",
     "exception": false,
     "start_time": "2022-04-01T20:41:55.522288",
     "status": "completed"
    },
    "tags": []
   },
   "source": [
    "# PTN Template\n",
    "This notebook serves as a template for single dataset PTN experiments  \n",
    "It can be run on its own by setting STANDALONE to True (do a find for \"STANDALONE\" to see where)  \n",
    "But it is intended to be executed as part of a *papermill.py script. See any of the   \n",
    "experimentes with a papermill script to get started with that workflow.  "
   ]
  },
  {
   "cell_type": "code",
   "execution_count": 1,
   "id": "0902182a",
   "metadata": {
    "execution": {
     "iopub.execute_input": "2022-04-01T20:41:55.561117Z",
     "iopub.status.busy": "2022-04-01T20:41:55.560851Z",
     "iopub.status.idle": "2022-04-01T20:41:56.476853Z",
     "shell.execute_reply": "2022-04-01T20:41:56.477083Z"
    },
    "papermill": {
     "duration": 0.932308,
     "end_time": "2022-04-01T20:41:56.477210",
     "exception": false,
     "start_time": "2022-04-01T20:41:55.544902",
     "status": "completed"
    },
    "tags": []
   },
   "outputs": [],
   "source": [
    "%load_ext autoreload\n",
    "%autoreload 2\n",
    "%matplotlib inline\n",
    "\n",
    "    \n",
    "import os, json, sys, time, random\n",
    "import numpy as np\n",
    "import torch\n",
    "from torch.optim import Adam\n",
    "from  easydict import EasyDict\n",
    "import matplotlib.pyplot as plt\n",
    "\n",
    "from steves_models.steves_ptn import Steves_Prototypical_Network\n",
    "\n",
    "from steves_utils.lazy_iterable_wrapper import Lazy_Iterable_Wrapper\n",
    "from steves_utils.iterable_aggregator import Iterable_Aggregator\n",
    "from steves_utils.ptn_train_eval_test_jig import  PTN_Train_Eval_Test_Jig\n",
    "from steves_utils.torch_sequential_builder import build_sequential\n",
    "from steves_utils.torch_utils import get_dataset_metrics, ptn_confusion_by_domain_over_dataloader\n",
    "from steves_utils.utils_v2 import (per_domain_accuracy_from_confusion, get_datasets_base_path)\n",
    "from steves_utils.PTN.utils import independent_accuracy_assesment\n",
    "\n",
    "from steves_utils.stratified_dataset.episodic_accessor import Episodic_Accessor_Factory\n",
    "\n",
    "from steves_utils.ptn_do_report import (\n",
    "    get_loss_curve,\n",
    "    get_results_table,\n",
    "    get_parameters_table,\n",
    "    get_domain_accuracies,\n",
    ")\n",
    "\n",
    "from steves_utils.transforms import get_chained_transform"
   ]
  },
  {
   "cell_type": "markdown",
   "id": "41c840b4",
   "metadata": {
    "papermill": {
     "duration": 0.009569,
     "end_time": "2022-04-01T20:41:56.497116",
     "exception": false,
     "start_time": "2022-04-01T20:41:56.487547",
     "status": "completed"
    },
    "tags": []
   },
   "source": [
    "# Required Parameters\n",
    "These are allowed parameters, not defaults\n",
    "Each of these values need to be present in the injected parameters (the notebook will raise an exception if they are not present)\n",
    "\n",
    "Papermill uses the cell tag \"parameters\" to inject the real parameters below this cell.\n",
    "Enable tags to see what I mean"
   ]
  },
  {
   "cell_type": "code",
   "execution_count": 2,
   "id": "fd44eb83",
   "metadata": {
    "execution": {
     "iopub.execute_input": "2022-04-01T20:41:56.518457Z",
     "iopub.status.busy": "2022-04-01T20:41:56.518023Z",
     "iopub.status.idle": "2022-04-01T20:41:56.529418Z",
     "shell.execute_reply": "2022-04-01T20:41:56.529177Z"
    },
    "papermill": {
     "duration": 0.022943,
     "end_time": "2022-04-01T20:41:56.529479",
     "exception": false,
     "start_time": "2022-04-01T20:41:56.506536",
     "status": "completed"
    },
    "tags": []
   },
   "outputs": [],
   "source": [
    "required_parameters = {\n",
    "    \"experiment_name\",\n",
    "    \"lr\",\n",
    "    \"device\",\n",
    "    \"seed\",\n",
    "    \"dataset_seed\",\n",
    "    \"labels_source\",\n",
    "    \"labels_target\",\n",
    "    \"domains_source\",\n",
    "    \"domains_target\",\n",
    "    \"num_examples_per_domain_per_label_source\",\n",
    "    \"num_examples_per_domain_per_label_target\",\n",
    "    \"n_shot\",\n",
    "    \"n_way\",\n",
    "    \"n_query\",\n",
    "    \"train_k_factor\",\n",
    "    \"val_k_factor\",\n",
    "    \"test_k_factor\",\n",
    "    \"n_epoch\",\n",
    "    \"patience\",\n",
    "    \"criteria_for_best\",\n",
    "    \"x_transforms_source\",\n",
    "    \"x_transforms_target\",\n",
    "    \"episode_transforms_source\",\n",
    "    \"episode_transforms_target\",\n",
    "    \"pickle_name\",\n",
    "    \"x_net\",\n",
    "    \"NUM_LOGS_PER_EPOCH\",\n",
    "    \"BEST_MODEL_PATH\",\n",
    "    \"torch_default_dtype\"\n",
    "}"
   ]
  },
  {
   "cell_type": "code",
   "execution_count": 3,
   "id": "fa3f0049",
   "metadata": {
    "execution": {
     "iopub.execute_input": "2022-04-01T20:41:56.556194Z",
     "iopub.status.busy": "2022-04-01T20:41:56.555735Z",
     "iopub.status.idle": "2022-04-01T20:41:56.569027Z",
     "shell.execute_reply": "2022-04-01T20:41:56.568631Z"
    },
    "papermill": {
     "duration": 0.028583,
     "end_time": "2022-04-01T20:41:56.569130",
     "exception": false,
     "start_time": "2022-04-01T20:41:56.540547",
     "status": "completed"
    },
    "tags": [
     "parameters"
    ]
   },
   "outputs": [],
   "source": [
    "\n",
    "\n",
    "standalone_parameters = {}\n",
    "standalone_parameters[\"experiment_name\"] = \"STANDALONE PTN\"\n",
    "standalone_parameters[\"lr\"] = 0.0001\n",
    "standalone_parameters[\"device\"] = \"cuda\"\n",
    "\n",
    "standalone_parameters[\"seed\"] = 1337\n",
    "standalone_parameters[\"dataset_seed\"] = 1337\n",
    "\n",
    "\n",
    "standalone_parameters[\"num_examples_per_domain_per_label_source\"]=100\n",
    "standalone_parameters[\"num_examples_per_domain_per_label_target\"]=100\n",
    "\n",
    "standalone_parameters[\"n_shot\"] = 3\n",
    "standalone_parameters[\"n_query\"]  = 2\n",
    "standalone_parameters[\"train_k_factor\"] = 1\n",
    "standalone_parameters[\"val_k_factor\"] = 2\n",
    "standalone_parameters[\"test_k_factor\"] = 2\n",
    "\n",
    "\n",
    "standalone_parameters[\"n_epoch\"] = 100\n",
    "\n",
    "standalone_parameters[\"patience\"] = 10\n",
    "standalone_parameters[\"criteria_for_best\"] = \"target_accuracy\"\n",
    "\n",
    "standalone_parameters[\"x_transforms_source\"] = [\"unit_power\"]\n",
    "standalone_parameters[\"x_transforms_target\"] = [\"unit_power\"]\n",
    "standalone_parameters[\"episode_transforms_source\"] = []\n",
    "standalone_parameters[\"episode_transforms_target\"] = []\n",
    "\n",
    "standalone_parameters[\"torch_default_dtype\"] = \"torch.float32\" \n",
    "\n",
    "\n",
    "\n",
    "standalone_parameters[\"x_net\"] =     [\n",
    "    {\"class\": \"nnReshape\", \"kargs\": {\"shape\":[-1, 1, 2, 256]}},\n",
    "    {\"class\": \"Conv2d\", \"kargs\": { \"in_channels\":1, \"out_channels\":256, \"kernel_size\":(1,7), \"bias\":False, \"padding\":(0,3), },},\n",
    "    {\"class\": \"ReLU\", \"kargs\": {\"inplace\": True}},\n",
    "    {\"class\": \"BatchNorm2d\", \"kargs\": {\"num_features\":256}},\n",
    "\n",
    "    {\"class\": \"Conv2d\", \"kargs\": { \"in_channels\":256, \"out_channels\":80, \"kernel_size\":(2,7), \"bias\":True, \"padding\":(0,3), },},\n",
    "    {\"class\": \"ReLU\", \"kargs\": {\"inplace\": True}},\n",
    "    {\"class\": \"BatchNorm2d\", \"kargs\": {\"num_features\":80}},\n",
    "    {\"class\": \"Flatten\", \"kargs\": {}},\n",
    "\n",
    "    {\"class\": \"Linear\", \"kargs\": {\"in_features\": 80*256, \"out_features\": 256}}, # 80 units per IQ pair\n",
    "    {\"class\": \"ReLU\", \"kargs\": {\"inplace\": True}},\n",
    "    {\"class\": \"BatchNorm1d\", \"kargs\": {\"num_features\":256}},\n",
    "\n",
    "    {\"class\": \"Linear\", \"kargs\": {\"in_features\": 256, \"out_features\": 256}},\n",
    "]\n",
    "\n",
    "# Parameters relevant to results\n",
    "# These parameters will basically never need to change\n",
    "standalone_parameters[\"NUM_LOGS_PER_EPOCH\"] = 10\n",
    "standalone_parameters[\"BEST_MODEL_PATH\"] = \"./best_model.pth\"\n",
    "\n",
    "# uncomment for CORES dataset\n",
    "from steves_utils.CORES.utils import (\n",
    "    ALL_NODES,\n",
    "    ALL_NODES_MINIMUM_1000_EXAMPLES,\n",
    "    ALL_DAYS\n",
    ")\n",
    "\n",
    "\n",
    "standalone_parameters[\"labels_source\"] = ALL_NODES\n",
    "standalone_parameters[\"labels_target\"] = ALL_NODES\n",
    "\n",
    "standalone_parameters[\"domains_source\"] = [1]\n",
    "standalone_parameters[\"domains_target\"] = [2,3,4,5]\n",
    "\n",
    "standalone_parameters[\"pickle_name\"] = \"cores.stratified_ds.2022A.pkl\"\n",
    "\n",
    "\n",
    "# Uncomment these for ORACLE dataset\n",
    "# from steves_utils.ORACLE.utils_v2 import (\n",
    "#     ALL_DISTANCES_FEET,\n",
    "#     ALL_RUNS,\n",
    "#     ALL_SERIAL_NUMBERS,\n",
    "# )\n",
    "# standalone_parameters[\"labels_source\"] = ALL_SERIAL_NUMBERS\n",
    "# standalone_parameters[\"labels_target\"] = ALL_SERIAL_NUMBERS\n",
    "# standalone_parameters[\"domains_source\"] = [8,20, 38,50]\n",
    "# standalone_parameters[\"domains_target\"] = [14, 26, 32, 44, 56]\n",
    "# standalone_parameters[\"pickle_name\"] = \"oracle.frame_indexed.stratified_ds.2022A.pkl\"\n",
    "# standalone_parameters[\"num_examples_per_domain_per_label_source\"]=1000\n",
    "# standalone_parameters[\"num_examples_per_domain_per_label_target\"]=1000\n",
    "\n",
    "# Uncomment these for Metahan dataset\n",
    "# standalone_parameters[\"labels_source\"] = list(range(19))\n",
    "# standalone_parameters[\"labels_target\"] = list(range(19))\n",
    "# standalone_parameters[\"domains_source\"] = [0]\n",
    "# standalone_parameters[\"domains_target\"] = [1]\n",
    "# standalone_parameters[\"pickle_name\"] = \"metehan.stratified_ds.2022A.pkl\"\n",
    "# standalone_parameters[\"n_way\"]  = len(standalone_parameters[\"labels_source\"])\n",
    "# standalone_parameters[\"num_examples_per_domain_per_label_source\"]=200\n",
    "# standalone_parameters[\"num_examples_per_domain_per_label_target\"]=100\n",
    "\n",
    "\n",
    "standalone_parameters[\"n_way\"]  = len(standalone_parameters[\"labels_source\"])"
   ]
  },
  {
   "cell_type": "code",
   "execution_count": 4,
   "id": "fd82a99c",
   "metadata": {
    "execution": {
     "iopub.execute_input": "2022-04-01T20:41:56.599656Z",
     "iopub.status.busy": "2022-04-01T20:41:56.594378Z",
     "iopub.status.idle": "2022-04-01T20:41:56.612951Z",
     "shell.execute_reply": "2022-04-01T20:41:56.612538Z"
    },
    "papermill": {
     "duration": 0.029449,
     "end_time": "2022-04-01T20:41:56.613055",
     "exception": false,
     "start_time": "2022-04-01T20:41:56.583606",
     "status": "completed"
    },
    "tags": [
     "injected-parameters"
    ]
   },
   "outputs": [],
   "source": [
    "# Parameters\n",
    "parameters = {\n",
    "    \"experiment_name\": \"tuned_1v2:oracle.run1_limited\",\n",
    "    \"device\": \"cuda\",\n",
    "    \"lr\": 0.0001,\n",
    "    \"labels_source\": [\n",
    "        \"3123D52\",\n",
    "        \"3123D65\",\n",
    "        \"3123D79\",\n",
    "        \"3123D80\",\n",
    "        \"3123D54\",\n",
    "        \"3123D70\",\n",
    "        \"3123D7B\",\n",
    "        \"3123D89\",\n",
    "        \"3123D58\",\n",
    "        \"3123D76\",\n",
    "        \"3123D7D\",\n",
    "        \"3123EFE\",\n",
    "        \"3123D64\",\n",
    "        \"3123D78\",\n",
    "        \"3123D7E\",\n",
    "        \"3124E4A\",\n",
    "    ],\n",
    "    \"labels_target\": [\n",
    "        \"3123D52\",\n",
    "        \"3123D65\",\n",
    "        \"3123D79\",\n",
    "        \"3123D80\",\n",
    "        \"3123D54\",\n",
    "        \"3123D70\",\n",
    "        \"3123D7B\",\n",
    "        \"3123D89\",\n",
    "        \"3123D58\",\n",
    "        \"3123D76\",\n",
    "        \"3123D7D\",\n",
    "        \"3123EFE\",\n",
    "        \"3123D64\",\n",
    "        \"3123D78\",\n",
    "        \"3123D7E\",\n",
    "        \"3124E4A\",\n",
    "    ],\n",
    "    \"episode_transforms_source\": [],\n",
    "    \"episode_transforms_target\": [],\n",
    "    \"domains_source\": [8, 32, 50],\n",
    "    \"domains_target\": [14, 20, 26, 38, 44],\n",
    "    \"num_examples_per_domain_per_label_source\": 2000,\n",
    "    \"num_examples_per_domain_per_label_target\": 2000,\n",
    "    \"n_shot\": 3,\n",
    "    \"n_way\": 16,\n",
    "    \"n_query\": 2,\n",
    "    \"train_k_factor\": 3,\n",
    "    \"val_k_factor\": 2,\n",
    "    \"test_k_factor\": 2,\n",
    "    \"torch_default_dtype\": \"torch.float32\",\n",
    "    \"n_epoch\": 50,\n",
    "    \"patience\": 3,\n",
    "    \"criteria_for_best\": \"target_accuracy\",\n",
    "    \"x_net\": [\n",
    "        {\"class\": \"nnReshape\", \"kargs\": {\"shape\": [-1, 1, 2, 256]}},\n",
    "        {\n",
    "            \"class\": \"Conv2d\",\n",
    "            \"kargs\": {\n",
    "                \"in_channels\": 1,\n",
    "                \"out_channels\": 256,\n",
    "                \"kernel_size\": [1, 7],\n",
    "                \"bias\": False,\n",
    "                \"padding\": [0, 3],\n",
    "            },\n",
    "        },\n",
    "        {\"class\": \"ReLU\", \"kargs\": {\"inplace\": True}},\n",
    "        {\"class\": \"BatchNorm2d\", \"kargs\": {\"num_features\": 256}},\n",
    "        {\n",
    "            \"class\": \"Conv2d\",\n",
    "            \"kargs\": {\n",
    "                \"in_channels\": 256,\n",
    "                \"out_channels\": 80,\n",
    "                \"kernel_size\": [2, 7],\n",
    "                \"bias\": True,\n",
    "                \"padding\": [0, 3],\n",
    "            },\n",
    "        },\n",
    "        {\"class\": \"ReLU\", \"kargs\": {\"inplace\": True}},\n",
    "        {\"class\": \"BatchNorm2d\", \"kargs\": {\"num_features\": 80}},\n",
    "        {\"class\": \"Flatten\", \"kargs\": {}},\n",
    "        {\"class\": \"Linear\", \"kargs\": {\"in_features\": 20480, \"out_features\": 256}},\n",
    "        {\"class\": \"ReLU\", \"kargs\": {\"inplace\": True}},\n",
    "        {\"class\": \"BatchNorm1d\", \"kargs\": {\"num_features\": 256}},\n",
    "        {\"class\": \"Linear\", \"kargs\": {\"in_features\": 256, \"out_features\": 256}},\n",
    "    ],\n",
    "    \"NUM_LOGS_PER_EPOCH\": 10,\n",
    "    \"BEST_MODEL_PATH\": \"./best_model.pth\",\n",
    "    \"pickle_name\": \"oracle.Run1_10kExamples_stratified_ds.2022A.pkl\",\n",
    "    \"x_transforms_source\": [\"unit_mag\"],\n",
    "    \"x_transforms_target\": [\"unit_mag\"],\n",
    "    \"dataset_seed\": 500,\n",
    "    \"seed\": 500,\n",
    "}\n"
   ]
  },
  {
   "cell_type": "code",
   "execution_count": 5,
   "id": "8fa1cc33",
   "metadata": {
    "execution": {
     "iopub.execute_input": "2022-04-01T20:41:56.640666Z",
     "iopub.status.busy": "2022-04-01T20:41:56.638517Z",
     "iopub.status.idle": "2022-04-01T20:41:56.655009Z",
     "shell.execute_reply": "2022-04-01T20:41:56.655396Z"
    },
    "papermill": {
     "duration": 0.028033,
     "end_time": "2022-04-01T20:41:56.655531",
     "exception": false,
     "start_time": "2022-04-01T20:41:56.627498",
     "status": "completed"
    },
    "tags": []
   },
   "outputs": [],
   "source": [
    "# Set this to True if you want to run this template directly\n",
    "STANDALONE = False\n",
    "if STANDALONE:\n",
    "    print(\"parameters not injected, running with standalone_parameters\")\n",
    "    parameters = standalone_parameters\n",
    "\n",
    "if not 'parameters' in locals() and not 'parameters' in globals():\n",
    "    raise Exception(\"Parameter injection failed\")\n",
    "\n",
    "#Use an easy dict for all the parameters\n",
    "p = EasyDict(parameters)\n",
    "\n",
    "supplied_keys = set(p.keys())\n",
    "\n",
    "if  supplied_keys != required_parameters:\n",
    "    print(\"Parameters are incorrect\")\n",
    "    if len(supplied_keys - required_parameters)>0: print(\"Shouldn't have:\", str(supplied_keys - required_parameters))\n",
    "    if len(required_parameters - supplied_keys)>0: print(\"Need to have:\", str(required_parameters - supplied_keys))\n",
    "    raise RuntimeError(\"Parameters are incorrect\")\n",
    "\n"
   ]
  },
  {
   "cell_type": "code",
   "execution_count": 6,
   "id": "3a028d58",
   "metadata": {
    "execution": {
     "iopub.execute_input": "2022-04-01T20:41:56.680101Z",
     "iopub.status.busy": "2022-04-01T20:41:56.679854Z",
     "iopub.status.idle": "2022-04-01T20:41:56.690112Z",
     "shell.execute_reply": "2022-04-01T20:41:56.690411Z"
    },
    "papermill": {
     "duration": 0.021694,
     "end_time": "2022-04-01T20:41:56.690493",
     "exception": false,
     "start_time": "2022-04-01T20:41:56.668799",
     "status": "completed"
    },
    "tags": []
   },
   "outputs": [],
   "source": [
    "###################################\n",
    "# Set the RNGs and make it all deterministic\n",
    "###################################\n",
    "np.random.seed(p.seed)\n",
    "random.seed(p.seed)\n",
    "torch.manual_seed(p.seed)\n",
    "\n",
    "torch.use_deterministic_algorithms(True) "
   ]
  },
  {
   "cell_type": "code",
   "execution_count": 7,
   "id": "b691acf6",
   "metadata": {
    "execution": {
     "iopub.execute_input": "2022-04-01T20:41:56.717501Z",
     "iopub.status.busy": "2022-04-01T20:41:56.717257Z",
     "iopub.status.idle": "2022-04-01T20:41:56.731327Z",
     "shell.execute_reply": "2022-04-01T20:41:56.731521Z"
    },
    "papermill": {
     "duration": 0.026409,
     "end_time": "2022-04-01T20:41:56.731578",
     "exception": false,
     "start_time": "2022-04-01T20:41:56.705169",
     "status": "completed"
    },
    "tags": []
   },
   "outputs": [],
   "source": [
    "###########################################\n",
    "# The stratified datasets honor this\n",
    "###########################################\n",
    "torch.set_default_dtype(eval(p.torch_default_dtype))"
   ]
  },
  {
   "cell_type": "code",
   "execution_count": 8,
   "id": "b5fba671",
   "metadata": {
    "execution": {
     "iopub.execute_input": "2022-04-01T20:41:56.758652Z",
     "iopub.status.busy": "2022-04-01T20:41:56.758407Z",
     "iopub.status.idle": "2022-04-01T20:41:56.797587Z",
     "shell.execute_reply": "2022-04-01T20:41:56.797966Z"
    },
    "papermill": {
     "duration": 0.051176,
     "end_time": "2022-04-01T20:41:56.798080",
     "exception": false,
     "start_time": "2022-04-01T20:41:56.746904",
     "status": "completed"
    },
    "tags": []
   },
   "outputs": [],
   "source": [
    "###################################\n",
    "# Build the network(s)\n",
    "# Note: It's critical to do this AFTER setting the RNG\n",
    "# (This is due to the randomized initial weights)\n",
    "###################################\n",
    "x_net = build_sequential(p.x_net)"
   ]
  },
  {
   "cell_type": "code",
   "execution_count": 9,
   "id": "5d7e61cc",
   "metadata": {
    "execution": {
     "iopub.execute_input": "2022-04-01T20:41:56.825776Z",
     "iopub.status.busy": "2022-04-01T20:41:56.825534Z",
     "iopub.status.idle": "2022-04-01T20:41:56.840953Z",
     "shell.execute_reply": "2022-04-01T20:41:56.840512Z"
    },
    "papermill": {
     "duration": 0.027143,
     "end_time": "2022-04-01T20:41:56.841040",
     "exception": false,
     "start_time": "2022-04-01T20:41:56.813897",
     "status": "completed"
    },
    "tags": []
   },
   "outputs": [],
   "source": [
    "start_time_secs = time.time()"
   ]
  },
  {
   "cell_type": "code",
   "execution_count": 10,
   "id": "fd5442bc",
   "metadata": {
    "execution": {
     "iopub.execute_input": "2022-04-01T20:41:56.870454Z",
     "iopub.status.busy": "2022-04-01T20:41:56.870164Z",
     "iopub.status.idle": "2022-04-01T20:42:15.249131Z",
     "shell.execute_reply": "2022-04-01T20:42:15.248652Z"
    },
    "papermill": {
     "duration": 18.39364,
     "end_time": "2022-04-01T20:42:15.249227",
     "exception": false,
     "start_time": "2022-04-01T20:41:56.855587",
     "status": "completed"
    },
    "tags": []
   },
   "outputs": [],
   "source": [
    "###################################\n",
    "# Build the dataset\n",
    "###################################\n",
    "\n",
    "if p.x_transforms_source == []: x_transform_source = None\n",
    "else: x_transform_source = get_chained_transform(p.x_transforms_source) \n",
    "\n",
    "if p.x_transforms_target == []: x_transform_target = None\n",
    "else: x_transform_target = get_chained_transform(p.x_transforms_target)\n",
    "\n",
    "if p.episode_transforms_source == []: episode_transform_source = None\n",
    "else: raise Exception(\"episode_transform_source not implemented\")\n",
    "\n",
    "if p.episode_transforms_target == []: episode_transform_target = None\n",
    "else: raise Exception(\"episode_transform_target not implemented\")\n",
    "\n",
    "\n",
    "eaf_source = Episodic_Accessor_Factory(\n",
    "    labels=p.labels_source,\n",
    "    domains=p.domains_source,\n",
    "    num_examples_per_domain_per_label=p.num_examples_per_domain_per_label_source,\n",
    "    iterator_seed=p.seed,\n",
    "    dataset_seed=p.dataset_seed,\n",
    "    n_shot=p.n_shot,\n",
    "    n_way=p.n_way,\n",
    "    n_query=p.n_query,\n",
    "    train_val_test_k_factors=(p.train_k_factor,p.val_k_factor,p.test_k_factor),\n",
    "    pickle_path=os.path.join(get_datasets_base_path(), p.pickle_name),\n",
    "    x_transform_func=x_transform_source,\n",
    "    example_transform_func=episode_transform_source,\n",
    "    \n",
    ")\n",
    "train_original_source, val_original_source, test_original_source = eaf_source.get_train(), eaf_source.get_val(), eaf_source.get_test()\n",
    "\n",
    "\n",
    "eaf_target = Episodic_Accessor_Factory(\n",
    "    labels=p.labels_target,\n",
    "    domains=p.domains_target,\n",
    "    num_examples_per_domain_per_label=p.num_examples_per_domain_per_label_target,\n",
    "    iterator_seed=p.seed,\n",
    "    dataset_seed=p.dataset_seed,\n",
    "    n_shot=p.n_shot,\n",
    "    n_way=p.n_way,\n",
    "    n_query=p.n_query,\n",
    "    train_val_test_k_factors=(p.train_k_factor,p.val_k_factor,p.test_k_factor),\n",
    "    pickle_path=os.path.join(get_datasets_base_path(), p.pickle_name),\n",
    "    x_transform_func=x_transform_target,\n",
    "    example_transform_func=episode_transform_target,\n",
    ")\n",
    "train_original_target, val_original_target, test_original_target = eaf_target.get_train(), eaf_target.get_val(), eaf_target.get_test()\n",
    "\n",
    "\n",
    "transform_lambda = lambda ex: ex[1] # Original is (<domain>, <episode>) so we strip down to episode only\n",
    "\n",
    "train_processed_source = Lazy_Iterable_Wrapper(train_original_source, transform_lambda)\n",
    "val_processed_source   = Lazy_Iterable_Wrapper(val_original_source, transform_lambda)\n",
    "test_processed_source  = Lazy_Iterable_Wrapper(test_original_source, transform_lambda)\n",
    "\n",
    "train_processed_target = Lazy_Iterable_Wrapper(train_original_target, transform_lambda)\n",
    "val_processed_target   = Lazy_Iterable_Wrapper(val_original_target, transform_lambda)\n",
    "test_processed_target  = Lazy_Iterable_Wrapper(test_original_target, transform_lambda)\n",
    "\n",
    "datasets = EasyDict({\n",
    "    \"source\": {\n",
    "        \"original\": {\"train\":train_original_source, \"val\":val_original_source, \"test\":test_original_source},\n",
    "        \"processed\": {\"train\":train_processed_source, \"val\":val_processed_source, \"test\":test_processed_source}\n",
    "    },\n",
    "    \"target\": {\n",
    "        \"original\": {\"train\":train_original_target, \"val\":val_original_target, \"test\":test_original_target},\n",
    "        \"processed\": {\"train\":train_processed_target, \"val\":val_processed_target, \"test\":test_processed_target}\n",
    "    },\n",
    "})"
   ]
  },
  {
   "cell_type": "code",
   "execution_count": 11,
   "id": "296189d9",
   "metadata": {
    "execution": {
     "iopub.execute_input": "2022-04-01T20:42:15.278236Z",
     "iopub.status.busy": "2022-04-01T20:42:15.277975Z",
     "iopub.status.idle": "2022-04-01T20:42:16.896350Z",
     "shell.execute_reply": "2022-04-01T20:42:16.896761Z"
    },
    "papermill": {
     "duration": 1.631398,
     "end_time": "2022-04-01T20:42:16.896874",
     "exception": false,
     "start_time": "2022-04-01T20:42:15.265476",
     "status": "completed"
    },
    "tags": []
   },
   "outputs": [
    {
     "name": "stdout",
     "output_type": "stream",
     "text": [
      "Visually inspect these to see if they line up with expected values given the transforms\n",
      "x_transforms_source ['unit_mag']\n",
      "x_transforms_target ['unit_mag']\n",
      "Average magnitude, source: 1.0\n",
      "Average power, source: 1.2900059\n"
     ]
    },
    {
     "name": "stdout",
     "output_type": "stream",
     "text": [
      "Average magnitude, target: 1.0\n",
      "Average power, target: 1.2990932\n"
     ]
    }
   ],
   "source": [
    "# Some quick unit tests on the data\n",
    "from steves_utils.transforms import get_average_power, get_average_magnitude\n",
    "\n",
    "q_x, q_y, s_x, s_y, truth = next(iter(train_processed_source))\n",
    "\n",
    "assert q_x.dtype == eval(p.torch_default_dtype)\n",
    "assert s_x.dtype == eval(p.torch_default_dtype)\n",
    "\n",
    "print(\"Visually inspect these to see if they line up with expected values given the transforms\")\n",
    "print('x_transforms_source', p.x_transforms_source)\n",
    "print('x_transforms_target', p.x_transforms_target)\n",
    "print(\"Average magnitude, source:\", get_average_magnitude(q_x[0].numpy()))\n",
    "print(\"Average power, source:\", get_average_power(q_x[0].numpy()))\n",
    "\n",
    "q_x, q_y, s_x, s_y, truth = next(iter(train_processed_target))\n",
    "print(\"Average magnitude, target:\", get_average_magnitude(q_x[0].numpy()))\n",
    "print(\"Average power, target:\", get_average_power(q_x[0].numpy()))\n"
   ]
  },
  {
   "cell_type": "code",
   "execution_count": 12,
   "id": "bbdacba1",
   "metadata": {
    "execution": {
     "iopub.execute_input": "2022-04-01T20:42:16.925774Z",
     "iopub.status.busy": "2022-04-01T20:42:16.925510Z",
     "iopub.status.idle": "2022-04-01T20:42:16.985311Z",
     "shell.execute_reply": "2022-04-01T20:42:16.984809Z"
    },
    "papermill": {
     "duration": 0.073042,
     "end_time": "2022-04-01T20:42:16.985411",
     "exception": false,
     "start_time": "2022-04-01T20:42:16.912369",
     "status": "completed"
    },
    "tags": []
   },
   "outputs": [
    {
     "name": "stdout",
     "output_type": "stream",
     "text": [
      "(2, 256)\n"
     ]
    }
   ],
   "source": [
    "###################################\n",
    "# Build the model\n",
    "###################################\n",
    "model = Steves_Prototypical_Network(x_net, device=p.device, x_shape=(2,256))\n",
    "optimizer = Adam(params=model.parameters(), lr=p.lr)"
   ]
  },
  {
   "cell_type": "code",
   "execution_count": 13,
   "id": "22b39ac5",
   "metadata": {
    "execution": {
     "iopub.execute_input": "2022-04-01T20:42:17.016338Z",
     "iopub.status.busy": "2022-04-01T20:42:17.014295Z",
     "iopub.status.idle": "2022-04-01T20:54:09.090993Z",
     "shell.execute_reply": "2022-04-01T20:54:09.090755Z"
    },
    "papermill": {
     "duration": 712.088323,
     "end_time": "2022-04-01T20:54:09.091052",
     "exception": false,
     "start_time": "2022-04-01T20:42:17.002729",
     "status": "completed"
    },
    "tags": []
   },
   "outputs": [
    {
     "name": "stdout",
     "output_type": "stream",
     "text": [
      "epoch: 1, [batch: 1 / 2520], examples_per_second: 126.2133, train_label_loss: 2.7945, \n"
     ]
    },
    {
     "name": "stdout",
     "output_type": "stream",
     "text": [
      "epoch: 1, [batch: 252 / 2520], examples_per_second: 3177.4622, train_label_loss: 2.7594, \n"
     ]
    },
    {
     "name": "stdout",
     "output_type": "stream",
     "text": [
      "epoch: 1, [batch: 504 / 2520], examples_per_second: 3179.5670, train_label_loss: 1.7887, \n"
     ]
    },
    {
     "name": "stdout",
     "output_type": "stream",
     "text": [
      "epoch: 1, [batch: 756 / 2520], examples_per_second: 3174.8356, train_label_loss: 1.5065, \n"
     ]
    },
    {
     "name": "stdout",
     "output_type": "stream",
     "text": [
      "epoch: 1, [batch: 1008 / 2520], examples_per_second: 3163.4251, train_label_loss: 1.9726, \n"
     ]
    },
    {
     "name": "stdout",
     "output_type": "stream",
     "text": [
      "epoch: 1, [batch: 1260 / 2520], examples_per_second: 3175.6784, train_label_loss: 1.5179, \n"
     ]
    },
    {
     "name": "stdout",
     "output_type": "stream",
     "text": [
      "epoch: 1, [batch: 1512 / 2520], examples_per_second: 3179.3918, train_label_loss: 1.4693, \n"
     ]
    },
    {
     "name": "stdout",
     "output_type": "stream",
     "text": [
      "epoch: 1, [batch: 1764 / 2520], examples_per_second: 3161.6781, train_label_loss: 1.3784, \n"
     ]
    },
    {
     "name": "stdout",
     "output_type": "stream",
     "text": [
      "epoch: 1, [batch: 2016 / 2520], examples_per_second: 3180.9524, train_label_loss: 1.6224, \n"
     ]
    },
    {
     "name": "stdout",
     "output_type": "stream",
     "text": [
      "epoch: 1, [batch: 2268 / 2520], examples_per_second: 3175.6922, train_label_loss: 1.3221, \n"
     ]
    },
    {
     "name": "stdout",
     "output_type": "stream",
     "text": [
      "=============================================================\n",
      "epoch: 1, source_val_acc_label: 0.3869, target_val_acc_label: 0.2717, source_val_label_loss: 1.5374, target_val_label_loss: 1.8688, \n",
      "=============================================================\n"
     ]
    },
    {
     "name": "stdout",
     "output_type": "stream",
     "text": [
      "New best\n"
     ]
    },
    {
     "name": "stdout",
     "output_type": "stream",
     "text": [
      "epoch: 2, [batch: 1 / 2520], examples_per_second: 11.0836, train_label_loss: 1.8458, \n"
     ]
    },
    {
     "name": "stdout",
     "output_type": "stream",
     "text": [
      "epoch: 2, [batch: 252 / 2520], examples_per_second: 3173.6838, train_label_loss: 1.2431, \n"
     ]
    },
    {
     "name": "stdout",
     "output_type": "stream",
     "text": [
      "epoch: 2, [batch: 504 / 2520], examples_per_second: 3180.3480, train_label_loss: 1.3440, \n"
     ]
    },
    {
     "name": "stdout",
     "output_type": "stream",
     "text": [
      "epoch: 2, [batch: 756 / 2520], examples_per_second: 3178.5995, train_label_loss: 1.2891, \n"
     ]
    },
    {
     "name": "stdout",
     "output_type": "stream",
     "text": [
      "epoch: 2, [batch: 1008 / 2520], examples_per_second: 3185.1810, train_label_loss: 1.2811, \n"
     ]
    },
    {
     "name": "stdout",
     "output_type": "stream",
     "text": [
      "epoch: 2, [batch: 1260 / 2520], examples_per_second: 3198.6295, train_label_loss: 1.1051, \n"
     ]
    },
    {
     "name": "stdout",
     "output_type": "stream",
     "text": [
      "epoch: 2, [batch: 1512 / 2520], examples_per_second: 3187.8346, train_label_loss: 1.4528, \n"
     ]
    },
    {
     "name": "stdout",
     "output_type": "stream",
     "text": [
      "epoch: 2, [batch: 1764 / 2520], examples_per_second: 3186.2640, train_label_loss: 1.3538, \n"
     ]
    },
    {
     "name": "stdout",
     "output_type": "stream",
     "text": [
      "epoch: 2, [batch: 2016 / 2520], examples_per_second: 3194.7357, train_label_loss: 1.1365, \n"
     ]
    },
    {
     "name": "stdout",
     "output_type": "stream",
     "text": [
      "epoch: 2, [batch: 2268 / 2520], examples_per_second: 3205.7310, train_label_loss: 1.1928, \n"
     ]
    },
    {
     "name": "stdout",
     "output_type": "stream",
     "text": [
      "=============================================================\n",
      "epoch: 2, source_val_acc_label: 0.4189, target_val_acc_label: 0.2927, source_val_label_loss: 1.4482, target_val_label_loss: 1.8063, \n",
      "=============================================================\n"
     ]
    },
    {
     "name": "stdout",
     "output_type": "stream",
     "text": [
      "New best\n"
     ]
    },
    {
     "name": "stdout",
     "output_type": "stream",
     "text": [
      "epoch: 3, [batch: 1 / 2520], examples_per_second: 11.1565, train_label_loss: 1.1823, \n"
     ]
    },
    {
     "name": "stdout",
     "output_type": "stream",
     "text": [
      "epoch: 3, [batch: 252 / 2520], examples_per_second: 3187.9360, train_label_loss: 1.2740, \n"
     ]
    },
    {
     "name": "stdout",
     "output_type": "stream",
     "text": [
      "epoch: 3, [batch: 504 / 2520], examples_per_second: 3199.1318, train_label_loss: 1.5246, \n"
     ]
    },
    {
     "name": "stdout",
     "output_type": "stream",
     "text": [
      "epoch: 3, [batch: 756 / 2520], examples_per_second: 3186.2439, train_label_loss: 1.0695, \n"
     ]
    },
    {
     "name": "stdout",
     "output_type": "stream",
     "text": [
      "epoch: 3, [batch: 1008 / 2520], examples_per_second: 3200.4071, train_label_loss: 1.3968, \n"
     ]
    },
    {
     "name": "stdout",
     "output_type": "stream",
     "text": [
      "epoch: 3, [batch: 1260 / 2520], examples_per_second: 3203.9766, train_label_loss: 1.3542, \n"
     ]
    },
    {
     "name": "stdout",
     "output_type": "stream",
     "text": [
      "epoch: 3, [batch: 1512 / 2520], examples_per_second: 3200.9398, train_label_loss: 1.3912, \n"
     ]
    },
    {
     "name": "stdout",
     "output_type": "stream",
     "text": [
      "epoch: 3, [batch: 1764 / 2520], examples_per_second: 3197.9143, train_label_loss: 1.1622, \n"
     ]
    },
    {
     "name": "stdout",
     "output_type": "stream",
     "text": [
      "epoch: 3, [batch: 2016 / 2520], examples_per_second: 3195.4489, train_label_loss: 1.0852, \n"
     ]
    },
    {
     "name": "stdout",
     "output_type": "stream",
     "text": [
      "epoch: 3, [batch: 2268 / 2520], examples_per_second: 3208.4831, train_label_loss: 1.1175, \n"
     ]
    },
    {
     "name": "stdout",
     "output_type": "stream",
     "text": [
      "=============================================================\n",
      "epoch: 3, source_val_acc_label: 0.4647, target_val_acc_label: 0.3490, source_val_label_loss: 1.4068, target_val_label_loss: 1.7313, \n",
      "=============================================================\n"
     ]
    },
    {
     "name": "stdout",
     "output_type": "stream",
     "text": [
      "New best\n"
     ]
    },
    {
     "name": "stdout",
     "output_type": "stream",
     "text": [
      "epoch: 4, [batch: 1 / 2520], examples_per_second: 11.1150, train_label_loss: 1.0623, \n"
     ]
    },
    {
     "name": "stdout",
     "output_type": "stream",
     "text": [
      "epoch: 4, [batch: 252 / 2520], examples_per_second: 3187.5672, train_label_loss: 0.9092, \n"
     ]
    },
    {
     "name": "stdout",
     "output_type": "stream",
     "text": [
      "epoch: 4, [batch: 504 / 2520], examples_per_second: 3177.9106, train_label_loss: 1.1127, \n"
     ]
    },
    {
     "name": "stdout",
     "output_type": "stream",
     "text": [
      "epoch: 4, [batch: 756 / 2520], examples_per_second: 3173.7816, train_label_loss: 0.9697, \n"
     ]
    },
    {
     "name": "stdout",
     "output_type": "stream",
     "text": [
      "epoch: 4, [batch: 1008 / 2520], examples_per_second: 3195.0701, train_label_loss: 0.8488, \n"
     ]
    },
    {
     "name": "stdout",
     "output_type": "stream",
     "text": [
      "epoch: 4, [batch: 1260 / 2520], examples_per_second: 3213.3536, train_label_loss: 1.3488, \n"
     ]
    },
    {
     "name": "stdout",
     "output_type": "stream",
     "text": [
      "epoch: 4, [batch: 1512 / 2520], examples_per_second: 3205.9764, train_label_loss: 0.6560, \n"
     ]
    },
    {
     "name": "stdout",
     "output_type": "stream",
     "text": [
      "epoch: 4, [batch: 1764 / 2520], examples_per_second: 3168.2833, train_label_loss: 1.3327, \n"
     ]
    },
    {
     "name": "stdout",
     "output_type": "stream",
     "text": [
      "epoch: 4, [batch: 2016 / 2520], examples_per_second: 3174.5703, train_label_loss: 1.2726, \n"
     ]
    },
    {
     "name": "stdout",
     "output_type": "stream",
     "text": [
      "epoch: 4, [batch: 2268 / 2520], examples_per_second: 3182.1892, train_label_loss: 0.9736, \n"
     ]
    },
    {
     "name": "stdout",
     "output_type": "stream",
     "text": [
      "=============================================================\n",
      "epoch: 4, source_val_acc_label: 0.5523, target_val_acc_label: 0.4558, source_val_label_loss: 1.2327, target_val_label_loss: 1.4897, \n",
      "=============================================================\n"
     ]
    },
    {
     "name": "stdout",
     "output_type": "stream",
     "text": [
      "New best\n"
     ]
    },
    {
     "name": "stdout",
     "output_type": "stream",
     "text": [
      "epoch: 5, [batch: 1 / 2520], examples_per_second: 11.1652, train_label_loss: 0.9460, \n"
     ]
    },
    {
     "name": "stdout",
     "output_type": "stream",
     "text": [
      "epoch: 5, [batch: 252 / 2520], examples_per_second: 3200.5719, train_label_loss: 0.7400, \n"
     ]
    },
    {
     "name": "stdout",
     "output_type": "stream",
     "text": [
      "epoch: 5, [batch: 504 / 2520], examples_per_second: 3195.1690, train_label_loss: 1.1641, \n"
     ]
    },
    {
     "name": "stdout",
     "output_type": "stream",
     "text": [
      "epoch: 5, [batch: 756 / 2520], examples_per_second: 3189.4219, train_label_loss: 1.1006, \n"
     ]
    },
    {
     "name": "stdout",
     "output_type": "stream",
     "text": [
      "epoch: 5, [batch: 1008 / 2520], examples_per_second: 3186.6282, train_label_loss: 0.8114, \n"
     ]
    },
    {
     "name": "stdout",
     "output_type": "stream",
     "text": [
      "epoch: 5, [batch: 1260 / 2520], examples_per_second: 3195.3754, train_label_loss: 1.0624, \n"
     ]
    },
    {
     "name": "stdout",
     "output_type": "stream",
     "text": [
      "epoch: 5, [batch: 1512 / 2520], examples_per_second: 3207.9251, train_label_loss: 0.8795, \n"
     ]
    },
    {
     "name": "stdout",
     "output_type": "stream",
     "text": [
      "epoch: 5, [batch: 1764 / 2520], examples_per_second: 3168.7196, train_label_loss: 0.6716, \n"
     ]
    },
    {
     "name": "stdout",
     "output_type": "stream",
     "text": [
      "epoch: 5, [batch: 2016 / 2520], examples_per_second: 3185.1616, train_label_loss: 1.0827, \n"
     ]
    },
    {
     "name": "stdout",
     "output_type": "stream",
     "text": [
      "epoch: 5, [batch: 2268 / 2520], examples_per_second: 3174.3257, train_label_loss: 0.5822, \n"
     ]
    },
    {
     "name": "stdout",
     "output_type": "stream",
     "text": [
      "=============================================================\n",
      "epoch: 5, source_val_acc_label: 0.5745, target_val_acc_label: 0.4746, source_val_label_loss: 1.2370, target_val_label_loss: 1.4907, \n",
      "=============================================================\n"
     ]
    },
    {
     "name": "stdout",
     "output_type": "stream",
     "text": [
      "New best\n"
     ]
    },
    {
     "name": "stdout",
     "output_type": "stream",
     "text": [
      "epoch: 6, [batch: 1 / 2520], examples_per_second: 11.1201, train_label_loss: 0.5816, \n"
     ]
    },
    {
     "name": "stdout",
     "output_type": "stream",
     "text": [
      "epoch: 6, [batch: 252 / 2520], examples_per_second: 3207.5189, train_label_loss: 0.6168, \n"
     ]
    },
    {
     "name": "stdout",
     "output_type": "stream",
     "text": [
      "epoch: 6, [batch: 504 / 2520], examples_per_second: 3200.0279, train_label_loss: 0.5263, \n"
     ]
    },
    {
     "name": "stdout",
     "output_type": "stream",
     "text": [
      "epoch: 6, [batch: 756 / 2520], examples_per_second: 3195.4870, train_label_loss: 0.2105, \n"
     ]
    },
    {
     "name": "stdout",
     "output_type": "stream",
     "text": [
      "epoch: 6, [batch: 1008 / 2520], examples_per_second: 3168.7973, train_label_loss: 0.4837, \n"
     ]
    },
    {
     "name": "stdout",
     "output_type": "stream",
     "text": [
      "epoch: 6, [batch: 1260 / 2520], examples_per_second: 3188.2817, train_label_loss: 0.7397, \n"
     ]
    },
    {
     "name": "stdout",
     "output_type": "stream",
     "text": [
      "epoch: 6, [batch: 1512 / 2520], examples_per_second: 3190.4656, train_label_loss: 0.5560, \n"
     ]
    },
    {
     "name": "stdout",
     "output_type": "stream",
     "text": [
      "epoch: 6, [batch: 1764 / 2520], examples_per_second: 3178.8780, train_label_loss: 0.4025, \n"
     ]
    },
    {
     "name": "stdout",
     "output_type": "stream",
     "text": [
      "epoch: 6, [batch: 2016 / 2520], examples_per_second: 3207.7536, train_label_loss: 0.4565, \n"
     ]
    },
    {
     "name": "stdout",
     "output_type": "stream",
     "text": [
      "epoch: 6, [batch: 2268 / 2520], examples_per_second: 3185.7959, train_label_loss: 0.5949, \n"
     ]
    },
    {
     "name": "stdout",
     "output_type": "stream",
     "text": [
      "=============================================================\n",
      "epoch: 6, source_val_acc_label: 0.5840, target_val_acc_label: 0.4877, source_val_label_loss: 1.2942, target_val_label_loss: 1.5564, \n",
      "=============================================================\n"
     ]
    },
    {
     "name": "stdout",
     "output_type": "stream",
     "text": [
      "New best\n"
     ]
    },
    {
     "name": "stdout",
     "output_type": "stream",
     "text": [
      "epoch: 7, [batch: 1 / 2520], examples_per_second: 11.1696, train_label_loss: 0.5228, \n"
     ]
    },
    {
     "name": "stdout",
     "output_type": "stream",
     "text": [
      "epoch: 7, [batch: 252 / 2520], examples_per_second: 3161.1637, train_label_loss: 0.2254, \n"
     ]
    },
    {
     "name": "stdout",
     "output_type": "stream",
     "text": [
      "epoch: 7, [batch: 504 / 2520], examples_per_second: 3175.0093, train_label_loss: 0.3459, \n"
     ]
    },
    {
     "name": "stdout",
     "output_type": "stream",
     "text": [
      "epoch: 7, [batch: 756 / 2520], examples_per_second: 3170.5577, train_label_loss: 0.1237, \n"
     ]
    },
    {
     "name": "stdout",
     "output_type": "stream",
     "text": [
      "epoch: 7, [batch: 1008 / 2520], examples_per_second: 3172.1571, train_label_loss: 0.5523, \n"
     ]
    },
    {
     "name": "stdout",
     "output_type": "stream",
     "text": [
      "epoch: 7, [batch: 1260 / 2520], examples_per_second: 3189.2370, train_label_loss: 0.6968, \n"
     ]
    },
    {
     "name": "stdout",
     "output_type": "stream",
     "text": [
      "epoch: 7, [batch: 1512 / 2520], examples_per_second: 3191.9267, train_label_loss: 0.5986, \n"
     ]
    },
    {
     "name": "stdout",
     "output_type": "stream",
     "text": [
      "epoch: 7, [batch: 1764 / 2520], examples_per_second: 3181.5682, train_label_loss: 0.6077, \n"
     ]
    },
    {
     "name": "stdout",
     "output_type": "stream",
     "text": [
      "epoch: 7, [batch: 2016 / 2520], examples_per_second: 3189.6998, train_label_loss: 0.3766, \n"
     ]
    },
    {
     "name": "stdout",
     "output_type": "stream",
     "text": [
      "epoch: 7, [batch: 2268 / 2520], examples_per_second: 3173.5504, train_label_loss: 0.5214, \n"
     ]
    },
    {
     "name": "stdout",
     "output_type": "stream",
     "text": [
      "=============================================================\n",
      "epoch: 7, source_val_acc_label: 0.5740, target_val_acc_label: 0.4830, source_val_label_loss: 1.4329, target_val_label_loss: 1.6680, \n",
      "=============================================================\n"
     ]
    },
    {
     "name": "stdout",
     "output_type": "stream",
     "text": [
      "epoch: 8, [batch: 1 / 2520], examples_per_second: 11.2294, train_label_loss: 0.1188, \n"
     ]
    },
    {
     "name": "stdout",
     "output_type": "stream",
     "text": [
      "epoch: 8, [batch: 252 / 2520], examples_per_second: 3197.1693, train_label_loss: 0.4991, \n"
     ]
    },
    {
     "name": "stdout",
     "output_type": "stream",
     "text": [
      "epoch: 8, [batch: 504 / 2520], examples_per_second: 3205.0898, train_label_loss: 0.1251, \n"
     ]
    },
    {
     "name": "stdout",
     "output_type": "stream",
     "text": [
      "epoch: 8, [batch: 756 / 2520], examples_per_second: 3205.3346, train_label_loss: 0.6988, \n"
     ]
    },
    {
     "name": "stdout",
     "output_type": "stream",
     "text": [
      "epoch: 8, [batch: 1008 / 2520], examples_per_second: 3185.4737, train_label_loss: 0.3705, \n"
     ]
    },
    {
     "name": "stdout",
     "output_type": "stream",
     "text": [
      "epoch: 8, [batch: 1260 / 2520], examples_per_second: 3214.5941, train_label_loss: 0.2916, \n"
     ]
    },
    {
     "name": "stdout",
     "output_type": "stream",
     "text": [
      "epoch: 8, [batch: 1512 / 2520], examples_per_second: 3202.2785, train_label_loss: 0.5566, \n"
     ]
    },
    {
     "name": "stdout",
     "output_type": "stream",
     "text": [
      "epoch: 8, [batch: 1764 / 2520], examples_per_second: 3207.8069, train_label_loss: 0.5142, \n"
     ]
    },
    {
     "name": "stdout",
     "output_type": "stream",
     "text": [
      "epoch: 8, [batch: 2016 / 2520], examples_per_second: 3207.4799, train_label_loss: 0.3752, \n"
     ]
    },
    {
     "name": "stdout",
     "output_type": "stream",
     "text": [
      "epoch: 8, [batch: 2268 / 2520], examples_per_second: 3193.3804, train_label_loss: 0.6179, \n"
     ]
    },
    {
     "name": "stdout",
     "output_type": "stream",
     "text": [
      "=============================================================\n",
      "epoch: 8, source_val_acc_label: 0.5768, target_val_acc_label: 0.4735, source_val_label_loss: 1.4877, target_val_label_loss: 1.7488, \n",
      "=============================================================\n"
     ]
    },
    {
     "name": "stdout",
     "output_type": "stream",
     "text": [
      "epoch: 9, [batch: 1 / 2520], examples_per_second: 11.1745, train_label_loss: 0.2663, \n"
     ]
    },
    {
     "name": "stdout",
     "output_type": "stream",
     "text": [
      "epoch: 9, [batch: 252 / 2520], examples_per_second: 3186.3244, train_label_loss: 0.1062, \n"
     ]
    },
    {
     "name": "stdout",
     "output_type": "stream",
     "text": [
      "epoch: 9, [batch: 504 / 2520], examples_per_second: 3190.6213, train_label_loss: 0.3566, \n"
     ]
    },
    {
     "name": "stdout",
     "output_type": "stream",
     "text": [
      "epoch: 9, [batch: 756 / 2520], examples_per_second: 3191.2779, train_label_loss: 0.5612, \n"
     ]
    },
    {
     "name": "stdout",
     "output_type": "stream",
     "text": [
      "epoch: 9, [batch: 1008 / 2520], examples_per_second: 3201.0701, train_label_loss: 0.3344, \n"
     ]
    },
    {
     "name": "stdout",
     "output_type": "stream",
     "text": [
      "epoch: 9, [batch: 1260 / 2520], examples_per_second: 3196.4275, train_label_loss: 0.2915, \n"
     ]
    },
    {
     "name": "stdout",
     "output_type": "stream",
     "text": [
      "epoch: 9, [batch: 1512 / 2520], examples_per_second: 3178.5974, train_label_loss: 0.2077, \n"
     ]
    },
    {
     "name": "stdout",
     "output_type": "stream",
     "text": [
      "epoch: 9, [batch: 1764 / 2520], examples_per_second: 3169.3408, train_label_loss: 0.4011, \n"
     ]
    },
    {
     "name": "stdout",
     "output_type": "stream",
     "text": [
      "epoch: 9, [batch: 2016 / 2520], examples_per_second: 3175.2617, train_label_loss: 0.2401, \n"
     ]
    },
    {
     "name": "stdout",
     "output_type": "stream",
     "text": [
      "epoch: 9, [batch: 2268 / 2520], examples_per_second: 3193.5595, train_label_loss: 0.5214, \n"
     ]
    },
    {
     "name": "stdout",
     "output_type": "stream",
     "text": [
      "=============================================================\n",
      "epoch: 9, source_val_acc_label: 0.5757, target_val_acc_label: 0.4783, source_val_label_loss: 1.5997, target_val_label_loss: 1.8680, \n",
      "=============================================================\n"
     ]
    },
    {
     "name": "stdout",
     "output_type": "stream",
     "text": [
      "epoch: 10, [batch: 1 / 2520], examples_per_second: 11.2459, train_label_loss: 0.8748, \n"
     ]
    },
    {
     "name": "stdout",
     "output_type": "stream",
     "text": [
      "epoch: 10, [batch: 252 / 2520], examples_per_second: 3179.3659, train_label_loss: 0.1670, \n"
     ]
    },
    {
     "name": "stdout",
     "output_type": "stream",
     "text": [
      "epoch: 10, [batch: 504 / 2520], examples_per_second: 3182.6819, train_label_loss: 0.2185, \n"
     ]
    },
    {
     "name": "stdout",
     "output_type": "stream",
     "text": [
      "epoch: 10, [batch: 756 / 2520], examples_per_second: 3215.6535, train_label_loss: 0.1001, \n"
     ]
    },
    {
     "name": "stdout",
     "output_type": "stream",
     "text": [
      "epoch: 10, [batch: 1008 / 2520], examples_per_second: 3172.8228, train_label_loss: 0.2021, \n"
     ]
    },
    {
     "name": "stdout",
     "output_type": "stream",
     "text": [
      "epoch: 10, [batch: 1260 / 2520], examples_per_second: 3218.0682, train_label_loss: 0.1533, \n"
     ]
    },
    {
     "name": "stdout",
     "output_type": "stream",
     "text": [
      "epoch: 10, [batch: 1512 / 2520], examples_per_second: 3193.7260, train_label_loss: 0.1856, \n"
     ]
    },
    {
     "name": "stdout",
     "output_type": "stream",
     "text": [
      "epoch: 10, [batch: 1764 / 2520], examples_per_second: 3179.2607, train_label_loss: 0.1992, \n"
     ]
    },
    {
     "name": "stdout",
     "output_type": "stream",
     "text": [
      "epoch: 10, [batch: 2016 / 2520], examples_per_second: 3213.5613, train_label_loss: 0.2659, \n"
     ]
    },
    {
     "name": "stdout",
     "output_type": "stream",
     "text": [
      "epoch: 10, [batch: 2268 / 2520], examples_per_second: 3212.0654, train_label_loss: 0.3940, \n"
     ]
    },
    {
     "name": "stdout",
     "output_type": "stream",
     "text": [
      "=============================================================\n",
      "epoch: 10, source_val_acc_label: 0.5811, target_val_acc_label: 0.4825, source_val_label_loss: 1.7112, target_val_label_loss: 2.0122, \n",
      "=============================================================\n"
     ]
    },
    {
     "name": "stdout",
     "output_type": "stream",
     "text": [
      "Patience (3) exhausted\n"
     ]
    }
   ],
   "source": [
    "###################################\n",
    "# train\n",
    "###################################\n",
    "jig = PTN_Train_Eval_Test_Jig(model, p.BEST_MODEL_PATH, p.device)\n",
    "\n",
    "jig.train(\n",
    "    train_iterable=datasets.source.processed.train,\n",
    "    source_val_iterable=datasets.source.processed.val,\n",
    "    target_val_iterable=datasets.target.processed.val,\n",
    "    num_epochs=p.n_epoch,\n",
    "    num_logs_per_epoch=p.NUM_LOGS_PER_EPOCH,\n",
    "    patience=p.patience,\n",
    "    optimizer=optimizer,\n",
    "    criteria_for_best=p.criteria_for_best,\n",
    ")"
   ]
  },
  {
   "cell_type": "code",
   "execution_count": 14,
   "id": "31e8fabf",
   "metadata": {
    "execution": {
     "iopub.execute_input": "2022-04-01T20:54:09.156355Z",
     "iopub.status.busy": "2022-04-01T20:54:09.156077Z",
     "iopub.status.idle": "2022-04-01T20:54:09.174320Z",
     "shell.execute_reply": "2022-04-01T20:54:09.173927Z"
    },
    "papermill": {
     "duration": 0.052483,
     "end_time": "2022-04-01T20:54:09.174410",
     "exception": false,
     "start_time": "2022-04-01T20:54:09.121927",
     "status": "completed"
    },
    "tags": []
   },
   "outputs": [],
   "source": [
    "total_experiment_time_secs = time.time() - start_time_secs"
   ]
  },
  {
   "cell_type": "code",
   "execution_count": 15,
   "id": "87b9595b",
   "metadata": {
    "execution": {
     "iopub.execute_input": "2022-04-01T20:54:09.246437Z",
     "iopub.status.busy": "2022-04-01T20:54:09.246166Z",
     "iopub.status.idle": "2022-04-01T20:54:57.904660Z",
     "shell.execute_reply": "2022-04-01T20:54:57.905057Z"
    },
    "papermill": {
     "duration": 48.693813,
     "end_time": "2022-04-01T20:54:57.905189",
     "exception": false,
     "start_time": "2022-04-01T20:54:09.211376",
     "status": "completed"
    },
    "tags": []
   },
   "outputs": [],
   "source": [
    "###################################\n",
    "# Evaluate the model\n",
    "###################################\n",
    "source_test_label_accuracy, source_test_label_loss = jig.test(datasets.source.processed.test)\n",
    "target_test_label_accuracy, target_test_label_loss = jig.test(datasets.target.processed.test)\n",
    "\n",
    "source_val_label_accuracy, source_val_label_loss = jig.test(datasets.source.processed.val)\n",
    "target_val_label_accuracy, target_val_label_loss = jig.test(datasets.target.processed.val)\n",
    "\n",
    "history = jig.get_history()\n",
    "\n",
    "total_epochs_trained = len(history[\"epoch_indices\"])\n",
    "\n",
    "val_dl = Iterable_Aggregator((datasets.source.original.val,datasets.target.original.val))\n",
    "\n",
    "confusion = ptn_confusion_by_domain_over_dataloader(model, p.device, val_dl)\n",
    "per_domain_accuracy = per_domain_accuracy_from_confusion(confusion)\n",
    "\n",
    "# Add a key to per_domain_accuracy for if it was a source domain\n",
    "for domain, accuracy in per_domain_accuracy.items():\n",
    "    per_domain_accuracy[domain] = {\n",
    "        \"accuracy\": accuracy,\n",
    "        \"source?\": domain in p.domains_source\n",
    "    }\n",
    "\n",
    "# Do an independent accuracy assesment JUST TO BE SURE!\n",
    "# _source_test_label_accuracy = independent_accuracy_assesment(model, datasets.source.processed.test, p.device)\n",
    "# _target_test_label_accuracy = independent_accuracy_assesment(model, datasets.target.processed.test, p.device)\n",
    "# _source_val_label_accuracy = independent_accuracy_assesment(model, datasets.source.processed.val, p.device)\n",
    "# _target_val_label_accuracy = independent_accuracy_assesment(model, datasets.target.processed.val, p.device)\n",
    "\n",
    "# assert(_source_test_label_accuracy == source_test_label_accuracy)\n",
    "# assert(_target_test_label_accuracy == target_test_label_accuracy)\n",
    "# assert(_source_val_label_accuracy == source_val_label_accuracy)\n",
    "# assert(_target_val_label_accuracy == target_val_label_accuracy)\n",
    "\n",
    "experiment = {\n",
    "    \"experiment_name\": p.experiment_name,\n",
    "    \"parameters\": dict(p),\n",
    "    \"results\": {\n",
    "        \"source_test_label_accuracy\": source_test_label_accuracy,\n",
    "        \"source_test_label_loss\": source_test_label_loss,\n",
    "        \"target_test_label_accuracy\": target_test_label_accuracy,\n",
    "        \"target_test_label_loss\": target_test_label_loss,\n",
    "        \"source_val_label_accuracy\": source_val_label_accuracy,\n",
    "        \"source_val_label_loss\": source_val_label_loss,\n",
    "        \"target_val_label_accuracy\": target_val_label_accuracy,\n",
    "        \"target_val_label_loss\": target_val_label_loss,\n",
    "        \"total_epochs_trained\": total_epochs_trained,\n",
    "        \"total_experiment_time_secs\": total_experiment_time_secs,\n",
    "        \"confusion\": confusion,\n",
    "        \"per_domain_accuracy\": per_domain_accuracy,\n",
    "    },\n",
    "    \"history\": history,\n",
    "    \"dataset_metrics\": get_dataset_metrics(datasets, \"ptn\"),\n",
    "}"
   ]
  },
  {
   "cell_type": "code",
   "execution_count": 16,
   "id": "54a21829",
   "metadata": {
    "execution": {
     "iopub.execute_input": "2022-04-01T20:54:57.997672Z",
     "iopub.status.busy": "2022-04-01T20:54:57.997417Z",
     "iopub.status.idle": "2022-04-01T20:54:58.128955Z",
     "shell.execute_reply": "2022-04-01T20:54:58.129335Z"
    },
    "papermill": {
     "duration": 0.164838,
     "end_time": "2022-04-01T20:54:58.129446",
     "exception": false,
     "start_time": "2022-04-01T20:54:57.964608",
     "status": "completed"
    },
    "tags": []
   },
   "outputs": [
    {
     "data": {
      "image/png": "[encoded data removed]",
      "text/plain": [
       "<Figure size 1080x504 with 1 Axes>"
      ]
     },
     "metadata": {
      "needs_background": "light"
     },
     "output_type": "display_data"
    }
   ],
   "source": [
    "ax = get_loss_curve(experiment)\n",
    "plt.show()"
   ]
  },
  {
   "cell_type": "code",
   "execution_count": 17,
   "id": "fd8a0f60",
   "metadata": {
    "execution": {
     "iopub.execute_input": "2022-04-01T20:54:58.200213Z",
     "iopub.status.busy": "2022-04-01T20:54:58.199962Z",
     "iopub.status.idle": "2022-04-01T20:54:58.342159Z",
     "shell.execute_reply": "2022-04-01T20:54:58.341937Z"
    },
    "papermill": {
     "duration": 0.176134,
     "end_time": "2022-04-01T20:54:58.342211",
     "exception": false,
     "start_time": "2022-04-01T20:54:58.166077",
     "status": "completed"
    },
    "tags": []
   },
   "outputs": [
    {
     "data": {
      "text/plain": [
       "<AxesSubplot:title={'center':'Results'}>"
      ]
     },
     "execution_count": 17,
     "metadata": {},
     "output_type": "execute_result"
    },
    {
     "data": {
      "image/png": "[encoded data removed]",
      "text/plain": [
       "<Figure size 1080x504 with 1 Axes>"
      ]
     },
     "metadata": {
      "needs_background": "light"
     },
     "output_type": "display_data"
    }
   ],
   "source": [
    "get_results_table(experiment)"
   ]
  },
  {
   "cell_type": "code",
   "execution_count": 18,
   "id": "cf8dc689",
   "metadata": {
    "execution": {
     "iopub.execute_input": "2022-04-01T20:54:58.412622Z",
     "iopub.status.busy": "2022-04-01T20:54:58.412366Z",
     "iopub.status.idle": "2022-04-01T20:54:58.530270Z",
     "shell.execute_reply": "2022-04-01T20:54:58.529791Z"
    },
    "papermill": {
     "duration": 0.153979,
     "end_time": "2022-04-01T20:54:58.530365",
     "exception": false,
     "start_time": "2022-04-01T20:54:58.376386",
     "status": "completed"
    },
    "tags": []
   },
   "outputs": [
    {
     "data": {
      "text/plain": [
       "<AxesSubplot:title={'center':'Per Domain Validation Accuracy'}, xlabel='domain'>"
      ]
     },
     "execution_count": 18,
     "metadata": {},
     "output_type": "execute_result"
    },
    {
     "data": {
      "image/png": "[encoded data removed]",
      "text/plain": [
       "<Figure size 1080x504 with 1 Axes>"
      ]
     },
     "metadata": {
      "needs_background": "light"
     },
     "output_type": "display_data"
    }
   ],
   "source": [
    "get_domain_accuracies(experiment)"
   ]
  },
  {
   "cell_type": "code",
   "execution_count": 19,
   "id": "a74ae082",
   "metadata": {
    "execution": {
     "iopub.execute_input": "2022-04-01T20:54:58.605888Z",
     "iopub.status.busy": "2022-04-01T20:54:58.605633Z",
     "iopub.status.idle": "2022-04-01T20:54:58.621746Z",
     "shell.execute_reply": "2022-04-01T20:54:58.622100Z"
    },
    "papermill": {
     "duration": 0.053227,
     "end_time": "2022-04-01T20:54:58.622208",
     "exception": false,
     "start_time": "2022-04-01T20:54:58.568981",
     "status": "completed"
    },
    "tags": []
   },
   "outputs": [
    {
     "name": "stdout",
     "output_type": "stream",
     "text": [
      "Source Test Label Accuracy: 0.5893229166666667 Target Test Label Accuracy: 0.4883854166666667\n",
      "Source Val Label Accuracy: 0.5840277777777778 Target Val Label Accuracy: 0.48765625\n"
     ]
    }
   ],
   "source": [
    "print(\"Source Test Label Accuracy:\", experiment[\"results\"][\"source_test_label_accuracy\"], \"Target Test Label Accuracy:\", experiment[\"results\"][\"target_test_label_accuracy\"])\n",
    "print(\"Source Val Label Accuracy:\", experiment[\"results\"][\"source_val_label_accuracy\"], \"Target Val Label Accuracy:\", experiment[\"results\"][\"target_val_label_accuracy\"])"
   ]
  },
  {
   "cell_type": "code",
   "execution_count": 20,
   "id": "dacca602",
   "metadata": {
    "execution": {
     "iopub.execute_input": "2022-04-01T20:54:58.697210Z",
     "iopub.status.busy": "2022-04-01T20:54:58.696961Z",
     "iopub.status.idle": "2022-04-01T20:54:58.708291Z",
     "shell.execute_reply": "2022-04-01T20:54:58.707894Z"
    },
    "papermill": {
     "duration": 0.047165,
     "end_time": "2022-04-01T20:54:58.708381",
     "exception": false,
     "start_time": "2022-04-01T20:54:58.661216",
     "status": "completed"
    },
    "tags": [
     "experiment_json"
    ]
   },
   "outputs": [
    {
     "data": {
      "text/plain": [
       "'{\"experiment_name\": \"tuned_1v2:oracle.run1_limited\", \"parameters\": {\"experiment_name\": \"tuned_1v2:oracle.run1_limited\", \"device\": \"cuda\", \"lr\": 0.0001, \"labels_source\": [\"3123D52\", \"3123D65\", \"3123D79\", \"3123D80\", \"3123D54\", \"3123D70\", \"3123D7B\", \"3123D89\", \"3123D58\", \"3123D76\", \"3123D7D\", \"3123EFE\", \"3123D64\", \"3123D78\", \"3123D7E\", \"3124E4A\"], \"labels_target\": [\"3123D52\", \"3123D65\", \"3123D79\", \"3123D80\", \"3123D54\", \"3123D70\", \"3123D7B\", \"3123D89\", \"3123D58\", \"3123D76\", \"3123D7D\", \"3123EFE\", \"3123D64\", \"3123D78\", \"3123D7E\", \"3124E4A\"], \"episode_transforms_source\": [], \"episode_transforms_target\": [], \"domains_source\": [8, 32, 50], \"domains_target\": [14, 20, 26, 38, 44], \"num_examples_per_domain_per_label_source\": 2000, \"num_examples_per_domain_per_label_target\": 2000, \"n_shot\": 3, \"n_way\": 16, \"n_query\": 2, \"train_k_factor\": 3, \"val_k_factor\": 2, \"test_k_factor\": 2, \"torch_default_dtype\": \"torch.float32\", \"n_epoch\": 50, \"patience\": 3, \"criteria_for_best\": \"target_accuracy\", \"x_net\": [{\"class\": \"nnReshape\", \"kargs\": {\"shape\": [-1, 1, 2, 256]}}, {\"class\": \"Conv2d\", \"kargs\": {\"in_channels\": 1, \"out_channels\": 256, \"kernel_size\": [1, 7], \"bias\": false, \"padding\": [0, 3]}}, {\"class\": \"ReLU\", \"kargs\": {\"inplace\": true}}, {\"class\": \"BatchNorm2d\", \"kargs\": {\"num_features\": 256}}, {\"class\": \"Conv2d\", \"kargs\": {\"in_channels\": 256, \"out_channels\": 80, \"kernel_size\": [2, 7], \"bias\": true, \"padding\": [0, 3]}}, {\"class\": \"ReLU\", \"kargs\": {\"inplace\": true}}, {\"class\": \"BatchNorm2d\", \"kargs\": {\"num_features\": 80}}, {\"class\": \"Flatten\", \"kargs\": {}}, {\"class\": \"Linear\", \"kargs\": {\"in_features\": 20480, \"out_features\": 256}}, {\"class\": \"ReLU\", \"kargs\": {\"inplace\": true}}, {\"class\": \"BatchNorm1d\", \"kargs\": {\"num_features\": 256}}, {\"class\": \"Linear\", \"kargs\": {\"in_features\": 256, \"out_features\": 256}}], \"NUM_LOGS_PER_EPOCH\": 10, \"BEST_MODEL_PATH\": \"./best_model.pth\", \"pickle_name\": \"oracle.Run1_10kExamples_stratified_ds.2022A.pkl\", \"x_transforms_source\": [\"unit_mag\"], \"x_transforms_target\": [\"unit_mag\"], \"dataset_seed\": 500, \"seed\": 500}, \"results\": {\"source_test_label_accuracy\": 0.5893229166666667, \"source_test_label_loss\": 1.2768501043319702, \"target_test_label_accuracy\": 0.4883854166666667, \"target_test_label_loss\": 1.5332576036453247, \"source_val_label_accuracy\": 0.5840277777777778, \"source_val_label_loss\": 1.2942099571228027, \"target_val_label_accuracy\": 0.48765625, \"target_val_label_loss\": 1.5563793182373047, \"total_epochs_trained\": 10, \"total_experiment_time_secs\": 732.333238363266, \"confusion\": {\"8\": {\"7\": {\"0\": 20, \"8\": 24, \"15\": 6, \"6\": 44, \"7\": 130, \"12\": 1, \"4\": 7, \"13\": 4, \"2\": 4}, \"10\": {\"10\": 91, \"14\": 51, \"1\": 23, \"11\": 16, \"13\": 30, \"5\": 14, \"4\": 13, \"0\": 2}, \"0\": {\"14\": 13, \"0\": 63, \"4\": 40, \"10\": 4, \"6\": 49, \"13\": 37, \"7\": 30, \"8\": 3, \"1\": 1}, \"11\": {\"1\": 63, \"11\": 94, \"4\": 8, \"14\": 25, \"8\": 4, \"5\": 22, \"6\": 7, \"13\": 3, \"10\": 14}, \"2\": {\"3\": 70, \"2\": 123, \"6\": 2, \"12\": 19, \"15\": 20, \"7\": 6}, \"14\": {\"13\": 35, \"14\": 74, \"1\": 25, \"5\": 4, \"10\": 45, \"6\": 5, \"4\": 25, \"11\": 18, \"0\": 8, \"7\": 1}, \"9\": {\"9\": 240}, \"13\": {\"0\": 53, \"6\": 17, \"13\": 58, \"4\": 41, \"10\": 30, \"14\": 26, \"5\": 1, \"7\": 5, \"11\": 4, \"1\": 4, \"8\": 1}, \"8\": {\"15\": 25, \"8\": 173, \"6\": 16, \"7\": 23, \"12\": 2, \"0\": 1}, \"15\": {\"15\": 129, \"2\": 20, \"8\": 18, \"3\": 10, \"12\": 57, \"7\": 6}, \"4\": {\"0\": 39, \"4\": 66, \"14\": 33, \"10\": 18, \"6\": 31, \"13\": 39, \"11\": 7, \"1\": 2, \"7\": 5}, \"5\": {\"5\": 191, \"10\": 23, \"11\": 9, \"1\": 14, \"14\": 1, \"9\": 2}, \"3\": {\"3\": 146, \"12\": 39, \"2\": 48, \"15\": 7}, \"1\": {\"14\": 26, \"10\": 24, \"11\": 79, \"1\": 93, \"5\": 14, \"4\": 2, \"13\": 1, \"6\": 1}, \"6\": {\"13\": 15, \"0\": 41, \"4\": 25, \"7\": 51, \"6\": 83, \"15\": 3, \"8\": 16, \"14\": 3, \"11\": 2, \"10\": 1}, \"12\": {\"15\": 62, \"3\": 67, \"2\": 24, \"12\": 81, \"8\": 6}}, \"50\": {\"11\": {\"11\": 165, \"9\": 28, \"14\": 26, \"12\": 10, \"15\": 10, \"1\": 1}, \"2\": {\"2\": 201, \"13\": 1, \"0\": 34, \"6\": 2, \"10\": 2}, \"12\": {\"12\": 195, \"14\": 15, \"9\": 22, \"11\": 8}, \"8\": {\"8\": 221, \"10\": 9, \"3\": 10}, \"4\": {\"4\": 54, \"13\": 15, \"6\": 43, \"1\": 56, \"15\": 37, \"5\": 27, \"7\": 4, \"14\": 1, \"11\": 3}, \"10\": {\"10\": 185, \"7\": 24, \"0\": 20, \"13\": 2, \"8\": 8, \"2\": 1}, \"14\": {\"14\": 218, \"15\": 4, \"12\": 8, \"11\": 7, \"1\": 2, \"9\": 1}, \"13\": {\"4\": 5, \"13\": 117, \"7\": 44, \"5\": 42, \"0\": 12, \"10\": 5, \"6\": 11, \"2\": 3, \"1\": 1}, \"6\": {\"1\": 34, \"13\": 15, \"4\": 33, \"6\": 115, \"5\": 25, \"15\": 5, \"2\": 9, \"0\": 1, \"7\": 3}, \"9\": {\"11\": 44, \"9\": 164, \"12\": 31, \"14\": 1}, \"15\": {\"15\": 140, \"1\": 47, \"11\": 18, \"4\": 29, \"6\": 3, \"14\": 3}, \"1\": {\"6\": 33, \"1\": 111, \"15\": 43, \"11\": 1, \"5\": 5, \"4\": 44, \"14\": 2, \"2\": 1}, \"3\": {\"3\": 221, \"8\": 19}, \"7\": {\"5\": 34, \"0\": 10, \"10\": 48, \"7\": 97, \"13\": 50, \"2\": 1}, \"0\": {\"10\": 33, \"0\": 158, \"5\": 6, \"2\": 33, \"6\": 2, \"13\": 3, \"7\": 4, \"1\": 1}, \"5\": {\"13\": 58, \"4\": 28, \"5\": 68, \"1\": 4, \"6\": 38, \"7\": 35, \"0\": 5, \"10\": 3, \"2\": 1}}, \"32\": {\"4\": {\"4\": 71, \"0\": 50, \"8\": 4, \"2\": 53, \"7\": 30, \"5\": 16, \"13\": 8, \"14\": 8}, \"14\": {\"13\": 15, \"11\": 70, \"7\": 47, \"5\": 24, \"3\": 3, \"2\": 5, \"14\": 55, \"4\": 14, \"8\": 4, \"0\": 3}, \"5\": {\"2\": 6, \"11\": 10, \"3\": 14, \"13\": 44, \"7\": 37, \"5\": 39, \"8\": 35, \"4\": 20, \"0\": 19, \"14\": 16}, \"10\": {\"10\": 235, \"6\": 3, \"1\": 2}, \"13\": {\"5\": 36, \"8\": 31, \"7\": 28, \"0\": 16, \"2\": 3, \"3\": 26, \"13\": 57, \"4\": 12, \"11\": 19, \"14\": 12}, \"9\": {\"9\": 238, \"2\": 1, \"12\": 1}, \"6\": {\"6\": 238, \"10\": 2}, \"3\": {\"3\": 201, \"13\": 8, \"14\": 5, \"8\": 6, \"11\": 15, \"5\": 4, \"15\": 1}, \"15\": {\"15\": 223, \"3\": 12, \"8\": 5}, \"7\": {\"14\": 52, \"7\": 72, \"5\": 23, \"4\": 34, \"11\": 16, \"13\": 25, \"2\": 10, \"0\": 7, \"3\": 1}, \"12\": {\"12\": 240}, \"8\": {\"8\": 124, \"13\": 40, \"0\": 27, \"5\": 27, \"3\": 7, \"4\": 4, \"7\": 3, \"15\": 2, \"14\": 4, \"11\": 2}, \"11\": {\"11\": 142, \"13\": 15, \"14\": 43, \"5\": 11, \"3\": 21, \"7\": 8}, \"2\": {\"2\": 186, \"4\": 39, \"0\": 8, \"7\": 6, \"5\": 1}, \"1\": {\"1\": 238, \"10\": 2}, \"0\": {\"0\": 104, \"5\": 12, \"4\": 50, \"8\": 24, \"7\": 15, \"2\": 22, \"13\": 9, \"14\": 4}}, \"20\": {\"7\": {\"7\": 74, \"10\": 6, \"2\": 41, \"8\": 39, \"3\": 19, \"6\": 13, \"11\": 5, \"4\": 4, \"9\": 23, \"14\": 6, \"13\": 7, \"1\": 2, \"12\": 1}, \"10\": {\"10\": 107, \"8\": 41, \"7\": 12, \"14\": 45, \"6\": 10, \"9\": 2, \"4\": 18, \"2\": 2, \"3\": 3}, \"0\": {\"9\": 10, \"4\": 3, \"15\": 48, \"0\": 54, \"5\": 42, \"3\": 10, \"13\": 12, \"1\": 41, \"12\": 19, \"7\": 1}, \"11\": {\"11\": 220, \"2\": 1, \"13\": 1, \"6\": 13, \"7\": 5}, \"2\": {\"9\": 36, \"7\": 36, \"2\": 44, \"5\": 4, \"13\": 37, \"3\": 26, \"10\": 4, \"4\": 7, \"11\": 1, \"6\": 3, \"8\": 16, \"12\": 15, \"14\": 3, \"0\": 3, \"15\": 2, \"1\": 3}, \"14\": {\"14\": 106, \"6\": 58, \"8\": 11, \"10\": 53, \"7\": 9, \"4\": 1, \"11\": 2}, \"9\": {\"9\": 42, \"2\": 43, \"6\": 1, \"4\": 19, \"8\": 18, \"7\": 17, \"0\": 5, \"3\": 28, \"5\": 11, \"11\": 2, \"13\": 25, \"1\": 4, \"12\": 19, \"15\": 6}, \"13\": {\"2\": 32, \"13\": 122, \"12\": 10, \"3\": 7, \"1\": 11, \"9\": 23, \"15\": 12, \"11\": 2, \"4\": 2, \"5\": 4, \"8\": 1, \"7\": 11, \"0\": 3}, \"8\": {\"7\": 44, \"10\": 20, \"8\": 66, \"3\": 20, \"6\": 7, \"2\": 14, \"4\": 37, \"12\": 5, \"14\": 8, \"9\": 17, \"13\": 1, \"11\": 1}, \"15\": {\"15\": 64, \"1\": 41, \"12\": 18, \"9\": 5, \"5\": 34, \"13\": 15, \"0\": 50, \"3\": 10, \"4\": 2, \"2\": 1}, \"4\": {\"8\": 35, \"10\": 24, \"4\": 89, \"5\": 6, \"9\": 19, \"3\": 28, \"7\": 8, \"2\": 8, \"12\": 15, \"1\": 5, \"14\": 2, \"13\": 1}, \"5\": {\"3\": 25, \"15\": 32, \"0\": 47, \"9\": 13, \"12\": 24, \"13\": 9, \"5\": 39, \"1\": 44, \"2\": 5, \"4\": 1, \"8\": 1}, \"3\": {\"4\": 43, \"9\": 27, \"12\": 28, \"3\": 36, \"13\": 13, \"2\": 32, \"8\": 17, \"1\": 9, \"7\": 11, \"5\": 7, \"15\": 4, \"10\": 4, \"0\": 9}, \"1\": {\"5\": 45, \"0\": 41, \"1\": 42, \"12\": 31, \"15\": 40, \"3\": 14, \"9\": 9, \"2\": 4, \"4\": 5, \"13\": 9}, \"6\": {\"6\": 131, \"14\": 67, \"8\": 3, \"11\": 16, \"7\": 12, \"2\": 1, \"10\": 10}, \"12\": {\"9\": 25, \"2\": 12, \"7\": 1, \"4\": 18, \"1\": 23, \"5\": 23, \"12\": 54, \"3\": 36, \"0\": 15, \"15\": 13, \"8\": 11, \"13\": 9}}, \"14\": {\"14\": {\"4\": 25, \"14\": 90, \"13\": 42, \"6\": 31, \"3\": 29, \"10\": 2, \"2\": 19, \"0\": 1, \"8\": 1}, \"6\": {\"3\": 1, \"14\": 33, \"6\": 86, \"13\": 72, \"2\": 37, \"5\": 4, \"4\": 6, \"1\": 1}, \"5\": {\"4\": 35, \"1\": 65, \"5\": 83, \"2\": 26, \"7\": 13, \"3\": 9, \"13\": 3, \"14\": 5, \"6\": 1}, \"15\": {\"7\": 47, \"15\": 188, \"2\": 1, \"6\": 1, \"5\": 3}, \"11\": {\"11\": 186, \"9\": 22, \"0\": 14, \"8\": 3, \"10\": 15}, \"8\": {\"8\": 230, \"1\": 1, \"0\": 7, \"3\": 2}, \"12\": {\"12\": 233, \"9\": 7}, \"1\": {\"5\": 64, \"1\": 139, \"4\": 27, \"7\": 3, \"2\": 4, \"3\": 3}, \"2\": {\"4\": 36, \"6\": 33, \"2\": 46, \"5\": 31, \"14\": 32, \"3\": 17, \"15\": 7, \"13\": 27, \"7\": 3, \"1\": 8}, \"13\": {\"2\": 22, \"14\": 56, \"6\": 69, \"13\": 66, \"4\": 11, \"15\": 2, \"3\": 2, \"7\": 1, \"5\": 9, \"1\": 1, \"10\": 1}, \"3\": {\"3\": 132, \"0\": 10, \"4\": 36, \"1\": 5, \"10\": 6, \"5\": 9, \"14\": 19, \"2\": 13, \"13\": 4, \"8\": 6}, \"0\": {\"0\": 123, \"11\": 25, \"10\": 54, \"3\": 14, \"8\": 19, \"14\": 2, \"9\": 1, \"6\": 1, \"4\": 1}, \"9\": {\"9\": 217, \"11\": 18, \"12\": 5}, \"4\": {\"2\": 37, \"1\": 28, \"3\": 37, \"4\": 77, \"5\": 34, \"14\": 20, \"13\": 3, \"6\": 2, \"8\": 1, \"7\": 1}, \"7\": {\"7\": 189, \"15\": 41, \"1\": 7, \"5\": 1, \"2\": 2}, \"10\": {\"10\": 158, \"0\": 64, \"11\": 5, \"3\": 8, \"14\": 4, \"13\": 1}}, \"38\": {\"4\": {\"4\": 215, \"12\": 21, \"7\": 4}, \"14\": {\"11\": 55, \"14\": 137, \"2\": 41, \"13\": 3, \"10\": 3, \"12\": 1}, \"5\": {\"8\": 58, \"5\": 70, \"10\": 7, \"0\": 33, \"3\": 5, \"6\": 18, \"7\": 17, \"1\": 10, \"15\": 11, \"9\": 10, \"13\": 1}, \"10\": {\"12\": 41, \"15\": 18, \"10\": 128, \"13\": 21, \"8\": 16, \"0\": 1, \"14\": 7, \"4\": 1, \"11\": 2, \"5\": 4, \"7\": 1}, \"13\": {\"13\": 118, \"15\": 68, \"2\": 13, \"14\": 5, \"1\": 14, \"10\": 18, \"8\": 3, \"5\": 1}, \"9\": {\"3\": 26, \"6\": 80, \"9\": 123, \"5\": 7, \"8\": 1, \"0\": 2, \"1\": 1}, \"6\": {\"6\": 145, \"9\": 85, \"0\": 2, \"5\": 7, \"3\": 1}, \"3\": {\"3\": 187, \"7\": 11, \"9\": 36, \"6\": 3, \"0\": 2, \"5\": 1}, \"15\": {\"15\": 100, \"13\": 70, \"10\": 9, \"1\": 45, \"8\": 11, \"5\": 3, \"2\": 2}, \"7\": {\"7\": 160, \"8\": 12, \"0\": 51, \"5\": 10, \"3\": 5, \"6\": 2}, \"12\": {\"10\": 28, \"12\": 196, \"4\": 13, \"14\": 3}, \"8\": {\"15\": 9, \"5\": 60, \"10\": 3, \"0\": 35, \"8\": 115, \"7\": 5, \"1\": 11, \"12\": 1, \"6\": 1}, \"11\": {\"14\": 87, \"11\": 124, \"13\": 2, \"2\": 15, \"12\": 8, \"10\": 4}, \"2\": {\"2\": 201, \"11\": 5, \"14\": 27, \"13\": 6, \"15\": 1}, \"1\": {\"1\": 199, \"15\": 29, \"8\": 2, \"13\": 10}, \"0\": {\"8\": 52, \"15\": 5, \"7\": 64, \"13\": 1, \"3\": 8, \"5\": 35, \"0\": 49, \"4\": 2, \"1\": 8, \"6\": 5, \"10\": 4, \"9\": 5, \"12\": 2}}, \"44\": {\"8\": {\"8\": 148, \"0\": 76, \"5\": 4, \"15\": 12}, \"11\": {\"11\": 183, \"6\": 27, \"13\": 28, \"9\": 2}, \"14\": {\"14\": 126, \"4\": 85, \"15\": 24, \"5\": 5}, \"10\": {\"2\": 24, \"10\": 135, \"1\": 31, \"12\": 47, \"3\": 3}, \"3\": {\"3\": 203, \"12\": 6, \"1\": 22, \"2\": 4, \"7\": 5}, \"15\": {\"15\": 160, \"0\": 27, \"14\": 29, \"5\": 14, \"4\": 6, \"8\": 4}, \"2\": {\"2\": 143, \"1\": 22, \"7\": 36, \"3\": 9, \"10\": 24, \"9\": 2, \"6\": 3, \"12\": 1}, \"12\": {\"1\": 57, \"12\": 130, \"10\": 38, \"3\": 12, \"2\": 3}, \"4\": {\"4\": 161, \"14\": 72, \"13\": 3, \"15\": 4}, \"1\": {\"3\": 51, \"2\": 18, \"1\": 98, \"12\": 48, \"10\": 23, \"7\": 2}, \"0\": {\"0\": 112, \"8\": 86, \"5\": 27, \"15\": 15}, \"9\": {\"13\": 37, \"9\": 118, \"7\": 48, \"6\": 27, \"3\": 3, \"2\": 5, \"1\": 1, \"11\": 1}, \"5\": {\"5\": 155, \"0\": 42, \"15\": 21, \"14\": 6, \"8\": 16}, \"6\": {\"6\": 139, \"7\": 17, \"9\": 25, \"13\": 43, \"11\": 15, \"2\": 1}, \"7\": {\"7\": 116, \"2\": 48, \"9\": 44, \"6\": 15, \"1\": 7, \"3\": 6, \"13\": 3, \"10\": 1}, \"13\": {\"11\": 22, \"6\": 48, \"13\": 116, \"9\": 48, \"7\": 6}}, \"26\": {\"6\": {\"6\": 116, \"9\": 29, \"0\": 8, \"10\": 27, \"15\": 8, \"5\": 10, \"13\": 32, \"12\": 2, \"8\": 5, \"14\": 1, \"4\": 1, \"1\": 1}, \"11\": {\"11\": 210, \"12\": 30}, \"5\": {\"2\": 17, \"10\": 2, \"15\": 37, \"14\": 2, \"13\": 37, \"9\": 32, \"5\": 69, \"7\": 9, \"6\": 12, \"8\": 12, \"3\": 7, \"0\": 3, \"4\": 1}, \"14\": {\"10\": 22, \"14\": 49, \"1\": 60, \"3\": 1, \"4\": 25, \"8\": 18, \"6\": 4, \"2\": 5, \"0\": 33, \"9\": 6, \"7\": 12, \"15\": 5}, \"2\": {\"2\": 56, \"3\": 85, \"5\": 18, \"14\": 6, \"4\": 11, \"7\": 30, \"9\": 7, \"13\": 5, \"1\": 1, \"8\": 12, \"15\": 9}, \"7\": {\"7\": 68, \"3\": 55, \"2\": 36, \"14\": 6, \"5\": 6, \"1\": 7, \"8\": 13, \"4\": 24, \"0\": 10, \"15\": 9, \"10\": 3, \"9\": 2, \"13\": 1}, \"3\": {\"3\": 99, \"8\": 2, \"2\": 60, \"7\": 57, \"4\": 9, \"1\": 3, \"5\": 2, \"15\": 2, \"0\": 4, \"14\": 1, \"9\": 1}, \"4\": {\"10\": 18, \"3\": 7, \"1\": 37, \"14\": 37, \"8\": 25, \"9\": 6, \"0\": 29, \"7\": 19, \"4\": 43, \"15\": 6, \"5\": 5, \"2\": 6, \"6\": 2}, \"9\": {\"9\": 56, \"5\": 29, \"14\": 4, \"6\": 34, \"7\": 6, \"0\": 12, \"10\": 11, \"15\": 34, \"13\": 25, \"8\": 16, \"2\": 8, \"3\": 2, \"4\": 3}, \"12\": {\"12\": 208, \"11\": 30, \"6\": 2}, \"0\": {\"10\": 40, \"14\": 42, \"4\": 34, \"2\": 2, \"1\": 19, \"0\": 49, \"6\": 12, \"8\": 19, \"9\": 4, \"3\": 2, \"7\": 11, \"15\": 4, \"5\": 2}, \"10\": {\"14\": 28, \"4\": 8, \"6\": 36, \"10\": 47, \"9\": 16, \"15\": 16, \"5\": 6, \"0\": 37, \"1\": 13, \"8\": 27, \"7\": 2, \"2\": 1, \"13\": 3}, \"8\": {\"15\": 22, \"14\": 9, \"5\": 18, \"9\": 27, \"8\": 40, \"4\": 20, \"0\": 25, \"6\": 16, \"10\": 31, \"7\": 10, \"2\": 9, \"3\": 4, \"1\": 6, \"13\": 3}, \"13\": {\"2\": 9, \"6\": 31, \"15\": 22, \"13\": 102, \"10\": 1, \"5\": 37, \"9\": 29, \"8\": 5, \"7\": 1, \"4\": 1, \"3\": 2}, \"1\": {\"14\": 62, \"10\": 18, \"4\": 32, \"7\": 12, \"0\": 25, \"1\": 71, \"2\": 2, \"15\": 2, \"3\": 4, \"8\": 9, \"5\": 1, \"9\": 2}, \"15\": {\"10\": 8, \"13\": 34, \"8\": 27, \"5\": 42, \"7\": 5, \"9\": 47, \"15\": 37, \"2\": 17, \"6\": 11, \"0\": 6, \"3\": 3, \"1\": 1, \"4\": 2}}}, \"per_domain_accuracy\": {\"8\": {\"accuracy\": 0.4778645833333333, \"source?\": true}, \"50\": {\"accuracy\": 0.6328125, \"source?\": true}, \"32\": {\"accuracy\": 0.64140625, \"source?\": true}, \"20\": {\"accuracy\": 0.3359375, \"source?\": false}, \"14\": {\"accuracy\": 0.5841145833333333, \"source?\": false}, \"38\": {\"accuracy\": 0.5903645833333333, \"source?\": false}, \"44\": {\"accuracy\": 0.5841145833333333, \"source?\": false}, \"26\": {\"accuracy\": 0.34375, \"source?\": false}}}, \"history\": {\"epoch_indices\": [1, 2, 3, 4, 5, 6, 7, 8, 9, 10], \"train_label_loss\": [1.8042544383378256, 1.3965558762824724, 1.2600925013422966, 0.9778416501979034, 0.7618029450613355, 0.6054483198102505, 0.48155252613600286, 0.385136680100261, 0.32292629540269635, 0.26943158324815275], \"source_val_label_loss\": [1.5374164581298828, 1.448186993598938, 1.4067727327346802, 1.2326791286468506, 1.2369576692581177, 1.2942099571228027, 1.4329044818878174, 1.4876755475997925, 1.599717617034912, 1.7112059593200684], \"target_val_label_loss\": [1.8688043355941772, 1.8062736988067627, 1.731263518333435, 1.4896713495254517, 1.4906729459762573, 1.5563793182373047, 1.6679505109786987, 1.748841643333435, 1.867962121963501, 2.0121910572052], \"source_val_acc_label\": [0.38689236111111114, 0.4189236111111111, 0.46467013888888886, 0.55234375, 0.5744791666666667, 0.5840277777777778, 0.5740451388888889, 0.5768229166666666, 0.5756944444444444, 0.5810763888888889], \"target_val_acc_label\": [0.27166666666666667, 0.29265625, 0.34901041666666666, 0.45578125, 0.47463541666666664, 0.48765625, 0.48302083333333334, 0.47348958333333335, 0.47833333333333333, 0.4825]}, \"dataset_metrics\": {\"source\": {\"train\": {\"n_unique_x\": 67200, \"n_unique_y\": 16, \"n_batch/episode\": 2520}, \"val\": {\"n_unique_x\": 14400, \"n_unique_y\": 16, \"n_batch/episode\": 360}, \"test\": {\"n_unique_x\": 14400, \"n_unique_y\": 16, \"n_batch/episode\": 360}}, \"target\": {\"train\": {\"n_unique_x\": 112000, \"n_unique_y\": 16, \"n_batch/episode\": 4200}, \"val\": {\"n_unique_x\": 24000, \"n_unique_y\": 16, \"n_batch/episode\": 600}, \"test\": {\"n_unique_x\": 24000, \"n_unique_y\": 16, \"n_batch/episode\": 600}}}}'"
      ]
     },
     "execution_count": 20,
     "metadata": {},
     "output_type": "execute_result"
    }
   ],
   "source": [
    "json.dumps(experiment)"
   ]
  }
 ],
 "metadata": {
  "celltoolbar": "Tags",
  "kernelspec": {
   "display_name": "Python 3 (ipykernel)",
   "language": "python",
   "name": "python3"
  },
  "language_info": {
   "codemirror_mode": {
    "name": "ipython",
    "version": 3
   },
   "file_extension": ".py",
   "mimetype": "text/x-python",
   "name": "python",
   "nbconvert_exporter": "python",
   "pygments_lexer": "ipython3",
   "version": "3.8.10"
  },
  "papermill": {
   "default_parameters": {},
   "duration": 784.653318,
   "end_time": "2022-04-01T20:54:59.655378",
   "environment_variables": {},
   "exception": null,
   "input_path": "/mnt/wd500GB/CSC500/csc500-main/csc500-notebooks/templates/ptn_template.ipynb",
   "output_path": "trial.ipynb",
   "parameters": {
    "parameters": {
     "BEST_MODEL_PATH": "./best_model.pth",
     "NUM_LOGS_PER_EPOCH": 10,
     "criteria_for_best": "target_accuracy",
     "dataset_seed": 500,
     "device": "cuda",
     "domains_source": [
      8,
      32,
      50
     ],
     "domains_target": [
      14,
      20,
      26,
      38,
      44
     ],
     "episode_transforms_source": [],
     "episode_transforms_target": [],
     "experiment_name": "tuned_1v2:oracle.run1_limited",
     "labels_source": [
      "3123D52",
      "3123D65",
      "3123D79",
      "3123D80",
      "3123D54",
      "3123D70",
      "3123D7B",
      "3123D89",
      "3123D58",
      "3123D76",
      "3123D7D",
      "3123EFE",
      "3123D64",
      "3123D78",
      "3123D7E",
      "3124E4A"
     ],
     "labels_target": [
      "3123D52",
      "3123D65",
      "3123D79",
      "3123D80",
      "3123D54",
      "3123D70",
      "3123D7B",
      "3123D89",
      "3123D58",
      "3123D76",
      "3123D7D",
      "3123EFE",
      "3123D64",
      "3123D78",
      "3123D7E",
      "3124E4A"
     ],
     "lr": 0.0001,
     "n_epoch": 50,
     "n_query": 2,
     "n_shot": 3,
     "n_way": 16,
     "num_examples_per_domain_per_label_source": 2000,
     "num_examples_per_domain_per_label_target": 2000,
     "patience": 3,
     "pickle_name": "oracle.Run1_10kExamples_stratified_ds.2022A.pkl",
     "seed": 500,
     "test_k_factor": 2,
     "torch_default_dtype": "torch.float32",
     "train_k_factor": 3,
     "val_k_factor": 2,
     "x_net": [
      {
       "class": "nnReshape",
       "kargs": {
        "shape": [
         -1,
         1,
         2,
         256
        ]
       }
      },
      {
       "class": "Conv2d",
       "kargs": {
        "bias": false,
        "in_channels": 1,
        "kernel_size": [
         1,
         7
        ],
        "out_channels": 256,
        "padding": [
         0,
         3
        ]
       }
      },
      {
       "class": "ReLU",
       "kargs": {
        "inplace": true
       }
      },
      {
       "class": "BatchNorm2d",
       "kargs": {
        "num_features": 256
       }
      },
      {
       "class": "Conv2d",
       "kargs": {
        "bias": true,
        "in_channels": 256,
        "kernel_size": [
         2,
         7
        ],
        "out_channels": 80,
        "padding": [
         0,
         3
        ]
       }
      },
      {
       "class": "ReLU",
       "kargs": {
        "inplace": true
       }
      },
      {
       "class": "BatchNorm2d",
       "kargs": {
        "num_features": 80
       }
      },
      {
       "class": "Flatten",
       "kargs": {}
      },
      {
       "class": "Linear",
       "kargs": {
        "in_features": 20480,
        "out_features": 256
       }
      },
      {
       "class": "ReLU",
       "kargs": {
        "inplace": true
       }
      },
      {
       "class": "BatchNorm1d",
       "kargs": {
        "num_features": 256
       }
      },
      {
       "class": "Linear",
       "kargs": {
        "in_features": 256,
        "out_features": 256
       }
      }
     ],
     "x_transforms_source": [
      "unit_mag"
     ],
     "x_transforms_target": [
      "unit_mag"
     ]
    }
   },
   "start_time": "2022-04-01T20:41:55.002060",
   "version": "2.3.4"
  }
 },
 "nbformat": 4,
 "nbformat_minor": 5
}