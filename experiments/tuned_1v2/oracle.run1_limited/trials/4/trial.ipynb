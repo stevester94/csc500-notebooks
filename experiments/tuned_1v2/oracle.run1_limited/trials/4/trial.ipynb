{
 "cells": [
  {
   "cell_type": "markdown",
   "id": "9fea5f46",
   "metadata": {
    "papermill": {
     "duration": 0.022859,
     "end_time": "2022-03-26T03:01:56.706422",
     "exception": false,
     "start_time": "2022-03-26T03:01:56.683563",
     "status": "completed"
    },
    "tags": []
   },
   "source": [
    "# PTN Template\n",
    "This notebook serves as a template for single dataset PTN experiments  \n",
    "It can be run on its own by setting STANDALONE to True (do a find for \"STANDALONE\" to see where)  \n",
    "But it is intended to be executed as part of a *papermill.py script. See any of the   \n",
    "experimentes with a papermill script to get started with that workflow.  "
   ]
  },
  {
   "cell_type": "code",
   "execution_count": 1,
   "id": "0902182a",
   "metadata": {
    "execution": {
     "iopub.execute_input": "2022-03-26T03:01:56.758344Z",
     "iopub.status.busy": "2022-03-26T03:01:56.757471Z",
     "iopub.status.idle": "2022-03-26T03:01:58.611036Z",
     "shell.execute_reply": "2022-03-26T03:01:58.610590Z"
    },
    "papermill": {
     "duration": 1.887994,
     "end_time": "2022-03-26T03:01:58.611145",
     "exception": false,
     "start_time": "2022-03-26T03:01:56.723151",
     "status": "completed"
    },
    "tags": []
   },
   "outputs": [],
   "source": [
    "%load_ext autoreload\n",
    "%autoreload 2\n",
    "%matplotlib inline\n",
    "\n",
    "    \n",
    "import os, json, sys, time, random\n",
    "import numpy as np\n",
    "import torch\n",
    "from torch.optim import Adam\n",
    "from  easydict import EasyDict\n",
    "import matplotlib.pyplot as plt\n",
    "\n",
    "from steves_models.steves_ptn import Steves_Prototypical_Network\n",
    "\n",
    "from steves_utils.lazy_iterable_wrapper import Lazy_Iterable_Wrapper\n",
    "from steves_utils.iterable_aggregator import Iterable_Aggregator\n",
    "from steves_utils.ptn_train_eval_test_jig import  PTN_Train_Eval_Test_Jig\n",
    "from steves_utils.torch_sequential_builder import build_sequential\n",
    "from steves_utils.torch_utils import get_dataset_metrics, ptn_confusion_by_domain_over_dataloader\n",
    "from steves_utils.utils_v2 import (per_domain_accuracy_from_confusion, get_datasets_base_path)\n",
    "from steves_utils.PTN.utils import independent_accuracy_assesment\n",
    "\n",
    "from steves_utils.stratified_dataset.episodic_accessor import Episodic_Accessor_Factory\n",
    "\n",
    "from steves_utils.ptn_do_report import (\n",
    "    get_loss_curve,\n",
    "    get_results_table,\n",
    "    get_parameters_table,\n",
    "    get_domain_accuracies,\n",
    ")\n",
    "\n",
    "from steves_utils.transforms import get_chained_transform"
   ]
  },
  {
   "cell_type": "markdown",
   "id": "41c840b4",
   "metadata": {
    "papermill": {
     "duration": 0.013584,
     "end_time": "2022-03-26T03:01:58.639668",
     "exception": false,
     "start_time": "2022-03-26T03:01:58.626084",
     "status": "completed"
    },
    "tags": []
   },
   "source": [
    "# Required Parameters\n",
    "These are allowed parameters, not defaults\n",
    "Each of these values need to be present in the injected parameters (the notebook will raise an exception if they are not present)\n",
    "\n",
    "Papermill uses the cell tag \"parameters\" to inject the real parameters below this cell.\n",
    "Enable tags to see what I mean"
   ]
  },
  {
   "cell_type": "code",
   "execution_count": 2,
   "id": "fd44eb83",
   "metadata": {
    "execution": {
     "iopub.execute_input": "2022-03-26T03:01:58.670617Z",
     "iopub.status.busy": "2022-03-26T03:01:58.670106Z",
     "iopub.status.idle": "2022-03-26T03:01:58.689085Z",
     "shell.execute_reply": "2022-03-26T03:01:58.689753Z"
    },
    "papermill": {
     "duration": 0.036671,
     "end_time": "2022-03-26T03:01:58.689934",
     "exception": false,
     "start_time": "2022-03-26T03:01:58.653263",
     "status": "completed"
    },
    "tags": []
   },
   "outputs": [],
   "source": [
    "required_parameters = {\n",
    "    \"experiment_name\",\n",
    "    \"lr\",\n",
    "    \"device\",\n",
    "    \"seed\",\n",
    "    \"dataset_seed\",\n",
    "    \"labels_source\",\n",
    "    \"labels_target\",\n",
    "    \"domains_source\",\n",
    "    \"domains_target\",\n",
    "    \"num_examples_per_domain_per_label_source\",\n",
    "    \"num_examples_per_domain_per_label_target\",\n",
    "    \"n_shot\",\n",
    "    \"n_way\",\n",
    "    \"n_query\",\n",
    "    \"train_k_factor\",\n",
    "    \"val_k_factor\",\n",
    "    \"test_k_factor\",\n",
    "    \"n_epoch\",\n",
    "    \"patience\",\n",
    "    \"criteria_for_best\",\n",
    "    \"x_transforms_source\",\n",
    "    \"x_transforms_target\",\n",
    "    \"episode_transforms_source\",\n",
    "    \"episode_transforms_target\",\n",
    "    \"pickle_name\",\n",
    "    \"x_net\",\n",
    "    \"NUM_LOGS_PER_EPOCH\",\n",
    "    \"BEST_MODEL_PATH\",\n",
    "    \"torch_default_dtype\"\n",
    "}"
   ]
  },
  {
   "cell_type": "code",
   "execution_count": 3,
   "id": "fa3f0049",
   "metadata": {
    "execution": {
     "iopub.execute_input": "2022-03-26T03:01:58.733511Z",
     "iopub.status.busy": "2022-03-26T03:01:58.732584Z",
     "iopub.status.idle": "2022-03-26T03:01:58.752620Z",
     "shell.execute_reply": "2022-03-26T03:01:58.751795Z"
    },
    "papermill": {
     "duration": 0.04322,
     "end_time": "2022-03-26T03:01:58.752780",
     "exception": false,
     "start_time": "2022-03-26T03:01:58.709560",
     "status": "completed"
    },
    "tags": [
     "parameters"
    ]
   },
   "outputs": [],
   "source": [
    "\n",
    "\n",
    "standalone_parameters = {}\n",
    "standalone_parameters[\"experiment_name\"] = \"STANDALONE PTN\"\n",
    "standalone_parameters[\"lr\"] = 0.0001\n",
    "standalone_parameters[\"device\"] = \"cuda\"\n",
    "\n",
    "standalone_parameters[\"seed\"] = 1337\n",
    "standalone_parameters[\"dataset_seed\"] = 1337\n",
    "\n",
    "\n",
    "standalone_parameters[\"num_examples_per_domain_per_label_source\"]=100\n",
    "standalone_parameters[\"num_examples_per_domain_per_label_target\"]=100\n",
    "\n",
    "standalone_parameters[\"n_shot\"] = 3\n",
    "standalone_parameters[\"n_query\"]  = 2\n",
    "standalone_parameters[\"train_k_factor\"] = 1\n",
    "standalone_parameters[\"val_k_factor\"] = 2\n",
    "standalone_parameters[\"test_k_factor\"] = 2\n",
    "\n",
    "\n",
    "standalone_parameters[\"n_epoch\"] = 100\n",
    "\n",
    "standalone_parameters[\"patience\"] = 10\n",
    "standalone_parameters[\"criteria_for_best\"] = \"target_accuracy\"\n",
    "\n",
    "standalone_parameters[\"x_transforms_source\"] = [\"unit_power\"]\n",
    "standalone_parameters[\"x_transforms_target\"] = [\"unit_power\"]\n",
    "standalone_parameters[\"episode_transforms_source\"] = []\n",
    "standalone_parameters[\"episode_transforms_target\"] = []\n",
    "\n",
    "standalone_parameters[\"torch_default_dtype\"] = \"torch.float32\" \n",
    "\n",
    "\n",
    "\n",
    "standalone_parameters[\"x_net\"] =     [\n",
    "    {\"class\": \"nnReshape\", \"kargs\": {\"shape\":[-1, 1, 2, 256]}},\n",
    "    {\"class\": \"Conv2d\", \"kargs\": { \"in_channels\":1, \"out_channels\":256, \"kernel_size\":(1,7), \"bias\":False, \"padding\":(0,3), },},\n",
    "    {\"class\": \"ReLU\", \"kargs\": {\"inplace\": True}},\n",
    "    {\"class\": \"BatchNorm2d\", \"kargs\": {\"num_features\":256}},\n",
    "\n",
    "    {\"class\": \"Conv2d\", \"kargs\": { \"in_channels\":256, \"out_channels\":80, \"kernel_size\":(2,7), \"bias\":True, \"padding\":(0,3), },},\n",
    "    {\"class\": \"ReLU\", \"kargs\": {\"inplace\": True}},\n",
    "    {\"class\": \"BatchNorm2d\", \"kargs\": {\"num_features\":80}},\n",
    "    {\"class\": \"Flatten\", \"kargs\": {}},\n",
    "\n",
    "    {\"class\": \"Linear\", \"kargs\": {\"in_features\": 80*256, \"out_features\": 256}}, # 80 units per IQ pair\n",
    "    {\"class\": \"ReLU\", \"kargs\": {\"inplace\": True}},\n",
    "    {\"class\": \"BatchNorm1d\", \"kargs\": {\"num_features\":256}},\n",
    "\n",
    "    {\"class\": \"Linear\", \"kargs\": {\"in_features\": 256, \"out_features\": 256}},\n",
    "]\n",
    "\n",
    "# Parameters relevant to results\n",
    "# These parameters will basically never need to change\n",
    "standalone_parameters[\"NUM_LOGS_PER_EPOCH\"] = 10\n",
    "standalone_parameters[\"BEST_MODEL_PATH\"] = \"./best_model.pth\"\n",
    "\n",
    "# uncomment for CORES dataset\n",
    "from steves_utils.CORES.utils import (\n",
    "    ALL_NODES,\n",
    "    ALL_NODES_MINIMUM_1000_EXAMPLES,\n",
    "    ALL_DAYS\n",
    ")\n",
    "\n",
    "\n",
    "standalone_parameters[\"labels_source\"] = ALL_NODES\n",
    "standalone_parameters[\"labels_target\"] = ALL_NODES\n",
    "\n",
    "standalone_parameters[\"domains_source\"] = [1]\n",
    "standalone_parameters[\"domains_target\"] = [2,3,4,5]\n",
    "\n",
    "standalone_parameters[\"pickle_name\"] = \"cores.stratified_ds.2022A.pkl\"\n",
    "\n",
    "\n",
    "# Uncomment these for ORACLE dataset\n",
    "# from steves_utils.ORACLE.utils_v2 import (\n",
    "#     ALL_DISTANCES_FEET,\n",
    "#     ALL_RUNS,\n",
    "#     ALL_SERIAL_NUMBERS,\n",
    "# )\n",
    "# standalone_parameters[\"labels_source\"] = ALL_SERIAL_NUMBERS\n",
    "# standalone_parameters[\"labels_target\"] = ALL_SERIAL_NUMBERS\n",
    "# standalone_parameters[\"domains_source\"] = [8,20, 38,50]\n",
    "# standalone_parameters[\"domains_target\"] = [14, 26, 32, 44, 56]\n",
    "# standalone_parameters[\"pickle_name\"] = \"oracle.frame_indexed.stratified_ds.2022A.pkl\"\n",
    "# standalone_parameters[\"num_examples_per_domain_per_label_source\"]=1000\n",
    "# standalone_parameters[\"num_examples_per_domain_per_label_target\"]=1000\n",
    "\n",
    "# Uncomment these for Metahan dataset\n",
    "# standalone_parameters[\"labels_source\"] = list(range(19))\n",
    "# standalone_parameters[\"labels_target\"] = list(range(19))\n",
    "# standalone_parameters[\"domains_source\"] = [0]\n",
    "# standalone_parameters[\"domains_target\"] = [1]\n",
    "# standalone_parameters[\"pickle_name\"] = \"metehan.stratified_ds.2022A.pkl\"\n",
    "# standalone_parameters[\"n_way\"]  = len(standalone_parameters[\"labels_source\"])\n",
    "# standalone_parameters[\"num_examples_per_domain_per_label_source\"]=200\n",
    "# standalone_parameters[\"num_examples_per_domain_per_label_target\"]=100\n",
    "\n",
    "\n",
    "standalone_parameters[\"n_way\"]  = len(standalone_parameters[\"labels_source\"])"
   ]
  },
  {
   "cell_type": "code",
   "execution_count": 4,
   "id": "5a35a124",
   "metadata": {
    "execution": {
     "iopub.execute_input": "2022-03-26T03:01:58.793244Z",
     "iopub.status.busy": "2022-03-26T03:01:58.792612Z",
     "iopub.status.idle": "2022-03-26T03:01:58.811280Z",
     "shell.execute_reply": "2022-03-26T03:01:58.810468Z"
    },
    "papermill": {
     "duration": 0.039959,
     "end_time": "2022-03-26T03:01:58.811438",
     "exception": false,
     "start_time": "2022-03-26T03:01:58.771479",
     "status": "completed"
    },
    "tags": [
     "injected-parameters"
    ]
   },
   "outputs": [],
   "source": [
    "# Parameters\n",
    "parameters = {\n",
    "    \"experiment_name\": \"tuned_1v2:oracle.run1_limited\",\n",
    "    \"device\": \"cuda\",\n",
    "    \"lr\": 0.0001,\n",
    "    \"labels_source\": [\n",
    "        \"3123D52\",\n",
    "        \"3123D65\",\n",
    "        \"3123D79\",\n",
    "        \"3123D80\",\n",
    "        \"3123D54\",\n",
    "        \"3123D70\",\n",
    "        \"3123D7B\",\n",
    "        \"3123D89\",\n",
    "        \"3123D58\",\n",
    "        \"3123D76\",\n",
    "        \"3123D7D\",\n",
    "        \"3123EFE\",\n",
    "        \"3123D64\",\n",
    "        \"3123D78\",\n",
    "        \"3123D7E\",\n",
    "        \"3124E4A\",\n",
    "    ],\n",
    "    \"labels_target\": [\n",
    "        \"3123D52\",\n",
    "        \"3123D65\",\n",
    "        \"3123D79\",\n",
    "        \"3123D80\",\n",
    "        \"3123D54\",\n",
    "        \"3123D70\",\n",
    "        \"3123D7B\",\n",
    "        \"3123D89\",\n",
    "        \"3123D58\",\n",
    "        \"3123D76\",\n",
    "        \"3123D7D\",\n",
    "        \"3123EFE\",\n",
    "        \"3123D64\",\n",
    "        \"3123D78\",\n",
    "        \"3123D7E\",\n",
    "        \"3124E4A\",\n",
    "    ],\n",
    "    \"episode_transforms_source\": [],\n",
    "    \"episode_transforms_target\": [],\n",
    "    \"domains_source\": [8, 32, 50],\n",
    "    \"domains_target\": [14, 20, 26, 38, 44],\n",
    "    \"num_examples_per_domain_per_label_source\": -1,\n",
    "    \"num_examples_per_domain_per_label_target\": -1,\n",
    "    \"n_shot\": 3,\n",
    "    \"n_way\": 16,\n",
    "    \"n_query\": 2,\n",
    "    \"train_k_factor\": 3,\n",
    "    \"val_k_factor\": 2,\n",
    "    \"test_k_factor\": 2,\n",
    "    \"torch_default_dtype\": \"torch.float32\",\n",
    "    \"n_epoch\": 50,\n",
    "    \"patience\": 3,\n",
    "    \"criteria_for_best\": \"target_accuracy\",\n",
    "    \"x_net\": [\n",
    "        {\"class\": \"nnReshape\", \"kargs\": {\"shape\": [-1, 1, 2, 256]}},\n",
    "        {\n",
    "            \"class\": \"Conv2d\",\n",
    "            \"kargs\": {\n",
    "                \"in_channels\": 1,\n",
    "                \"out_channels\": 256,\n",
    "                \"kernel_size\": [1, 7],\n",
    "                \"bias\": False,\n",
    "                \"padding\": [0, 3],\n",
    "            },\n",
    "        },\n",
    "        {\"class\": \"ReLU\", \"kargs\": {\"inplace\": True}},\n",
    "        {\"class\": \"BatchNorm2d\", \"kargs\": {\"num_features\": 256}},\n",
    "        {\n",
    "            \"class\": \"Conv2d\",\n",
    "            \"kargs\": {\n",
    "                \"in_channels\": 256,\n",
    "                \"out_channels\": 80,\n",
    "                \"kernel_size\": [2, 7],\n",
    "                \"bias\": True,\n",
    "                \"padding\": [0, 3],\n",
    "            },\n",
    "        },\n",
    "        {\"class\": \"ReLU\", \"kargs\": {\"inplace\": True}},\n",
    "        {\"class\": \"BatchNorm2d\", \"kargs\": {\"num_features\": 80}},\n",
    "        {\"class\": \"Flatten\", \"kargs\": {}},\n",
    "        {\"class\": \"Linear\", \"kargs\": {\"in_features\": 20480, \"out_features\": 256}},\n",
    "        {\"class\": \"ReLU\", \"kargs\": {\"inplace\": True}},\n",
    "        {\"class\": \"BatchNorm1d\", \"kargs\": {\"num_features\": 256}},\n",
    "        {\"class\": \"Linear\", \"kargs\": {\"in_features\": 256, \"out_features\": 256}},\n",
    "    ],\n",
    "    \"NUM_LOGS_PER_EPOCH\": 10,\n",
    "    \"BEST_MODEL_PATH\": \"./best_model.pth\",\n",
    "    \"pickle_name\": \"oracle.Run1_10kExamples_stratified_ds.2022A.pkl\",\n",
    "    \"x_transforms_source\": [\"unit_mag\"],\n",
    "    \"x_transforms_target\": [\"unit_mag\"],\n",
    "    \"dataset_seed\": 500,\n",
    "    \"seed\": 500,\n",
    "}\n"
   ]
  },
  {
   "cell_type": "code",
   "execution_count": 5,
   "id": "8fa1cc33",
   "metadata": {
    "execution": {
     "iopub.execute_input": "2022-03-26T03:01:58.853301Z",
     "iopub.status.busy": "2022-03-26T03:01:58.852925Z",
     "iopub.status.idle": "2022-03-26T03:01:58.870533Z",
     "shell.execute_reply": "2022-03-26T03:01:58.869723Z"
    },
    "papermill": {
     "duration": 0.036045,
     "end_time": "2022-03-26T03:01:58.870689",
     "exception": false,
     "start_time": "2022-03-26T03:01:58.834644",
     "status": "completed"
    },
    "tags": []
   },
   "outputs": [],
   "source": [
    "# Set this to True if you want to run this template directly\n",
    "STANDALONE = False\n",
    "if STANDALONE:\n",
    "    print(\"parameters not injected, running with standalone_parameters\")\n",
    "    parameters = standalone_parameters\n",
    "\n",
    "if not 'parameters' in locals() and not 'parameters' in globals():\n",
    "    raise Exception(\"Parameter injection failed\")\n",
    "\n",
    "#Use an easy dict for all the parameters\n",
    "p = EasyDict(parameters)\n",
    "\n",
    "supplied_keys = set(p.keys())\n",
    "\n",
    "if  supplied_keys != required_parameters:\n",
    "    print(\"Parameters are incorrect\")\n",
    "    if len(supplied_keys - required_parameters)>0: print(\"Shouldn't have:\", str(supplied_keys - required_parameters))\n",
    "    if len(required_parameters - supplied_keys)>0: print(\"Need to have:\", str(required_parameters - supplied_keys))\n",
    "    raise RuntimeError(\"Parameters are incorrect\")\n",
    "\n"
   ]
  },
  {
   "cell_type": "code",
   "execution_count": 6,
   "id": "3a028d58",
   "metadata": {
    "execution": {
     "iopub.execute_input": "2022-03-26T03:01:58.907510Z",
     "iopub.status.busy": "2022-03-26T03:01:58.907144Z",
     "iopub.status.idle": "2022-03-26T03:01:58.924651Z",
     "shell.execute_reply": "2022-03-26T03:01:58.923851Z"
    },
    "papermill": {
     "duration": 0.034474,
     "end_time": "2022-03-26T03:01:58.924804",
     "exception": false,
     "start_time": "2022-03-26T03:01:58.890330",
     "status": "completed"
    },
    "tags": []
   },
   "outputs": [],
   "source": [
    "###################################\n",
    "# Set the RNGs and make it all deterministic\n",
    "###################################\n",
    "np.random.seed(p.seed)\n",
    "random.seed(p.seed)\n",
    "torch.manual_seed(p.seed)\n",
    "\n",
    "torch.use_deterministic_algorithms(True) "
   ]
  },
  {
   "cell_type": "code",
   "execution_count": 7,
   "id": "b691acf6",
   "metadata": {
    "execution": {
     "iopub.execute_input": "2022-03-26T03:01:58.963820Z",
     "iopub.status.busy": "2022-03-26T03:01:58.963435Z",
     "iopub.status.idle": "2022-03-26T03:01:58.980611Z",
     "shell.execute_reply": "2022-03-26T03:01:58.979798Z"
    },
    "papermill": {
     "duration": 0.033323,
     "end_time": "2022-03-26T03:01:58.980764",
     "exception": false,
     "start_time": "2022-03-26T03:01:58.947441",
     "status": "completed"
    },
    "tags": []
   },
   "outputs": [],
   "source": [
    "###########################################\n",
    "# The stratified datasets honor this\n",
    "###########################################\n",
    "torch.set_default_dtype(eval(p.torch_default_dtype))"
   ]
  },
  {
   "cell_type": "code",
   "execution_count": 8,
   "id": "b5fba671",
   "metadata": {
    "execution": {
     "iopub.execute_input": "2022-03-26T03:01:59.018234Z",
     "iopub.status.busy": "2022-03-26T03:01:59.017818Z",
     "iopub.status.idle": "2022-03-26T03:01:59.068786Z",
     "shell.execute_reply": "2022-03-26T03:01:59.068078Z"
    },
    "papermill": {
     "duration": 0.067147,
     "end_time": "2022-03-26T03:01:59.068938",
     "exception": false,
     "start_time": "2022-03-26T03:01:59.001791",
     "status": "completed"
    },
    "tags": []
   },
   "outputs": [],
   "source": [
    "###################################\n",
    "# Build the network(s)\n",
    "# Note: It's critical to do this AFTER setting the RNG\n",
    "# (This is due to the randomized initial weights)\n",
    "###################################\n",
    "x_net = build_sequential(p.x_net)"
   ]
  },
  {
   "cell_type": "code",
   "execution_count": 9,
   "id": "5d7e61cc",
   "metadata": {
    "execution": {
     "iopub.execute_input": "2022-03-26T03:01:59.105523Z",
     "iopub.status.busy": "2022-03-26T03:01:59.105015Z",
     "iopub.status.idle": "2022-03-26T03:01:59.130218Z",
     "shell.execute_reply": "2022-03-26T03:01:59.129407Z"
    },
    "papermill": {
     "duration": 0.04279,
     "end_time": "2022-03-26T03:01:59.130371",
     "exception": false,
     "start_time": "2022-03-26T03:01:59.087581",
     "status": "completed"
    },
    "tags": []
   },
   "outputs": [],
   "source": [
    "start_time_secs = time.time()"
   ]
  },
  {
   "cell_type": "code",
   "execution_count": 10,
   "id": "fd5442bc",
   "metadata": {
    "execution": {
     "iopub.execute_input": "2022-03-26T03:01:59.173555Z",
     "iopub.status.busy": "2022-03-26T03:01:59.171642Z",
     "iopub.status.idle": "2022-03-26T03:03:46.003036Z",
     "shell.execute_reply": "2022-03-26T03:03:46.002640Z"
    },
    "papermill": {
     "duration": 106.852404,
     "end_time": "2022-03-26T03:03:46.003149",
     "exception": false,
     "start_time": "2022-03-26T03:01:59.150745",
     "status": "completed"
    },
    "tags": []
   },
   "outputs": [],
   "source": [
    "###################################\n",
    "# Build the dataset\n",
    "###################################\n",
    "\n",
    "if p.x_transforms_source == []: x_transform_source = None\n",
    "else: x_transform_source = get_chained_transform(p.x_transforms_source) \n",
    "\n",
    "if p.x_transforms_target == []: x_transform_target = None\n",
    "else: x_transform_target = get_chained_transform(p.x_transforms_target)\n",
    "\n",
    "if p.episode_transforms_source == []: episode_transform_source = None\n",
    "else: raise Exception(\"episode_transform_source not implemented\")\n",
    "\n",
    "if p.episode_transforms_target == []: episode_transform_target = None\n",
    "else: raise Exception(\"episode_transform_target not implemented\")\n",
    "\n",
    "\n",
    "eaf_source = Episodic_Accessor_Factory(\n",
    "    labels=p.labels_source,\n",
    "    domains=p.domains_source,\n",
    "    num_examples_per_domain_per_label=p.num_examples_per_domain_per_label_source,\n",
    "    iterator_seed=p.seed,\n",
    "    dataset_seed=p.dataset_seed,\n",
    "    n_shot=p.n_shot,\n",
    "    n_way=p.n_way,\n",
    "    n_query=p.n_query,\n",
    "    train_val_test_k_factors=(p.train_k_factor,p.val_k_factor,p.test_k_factor),\n",
    "    pickle_path=os.path.join(get_datasets_base_path(), p.pickle_name),\n",
    "    x_transform_func=x_transform_source,\n",
    "    example_transform_func=episode_transform_source,\n",
    "    \n",
    ")\n",
    "train_original_source, val_original_source, test_original_source = eaf_source.get_train(), eaf_source.get_val(), eaf_source.get_test()\n",
    "\n",
    "\n",
    "eaf_target = Episodic_Accessor_Factory(\n",
    "    labels=p.labels_target,\n",
    "    domains=p.domains_target,\n",
    "    num_examples_per_domain_per_label=p.num_examples_per_domain_per_label_target,\n",
    "    iterator_seed=p.seed,\n",
    "    dataset_seed=p.dataset_seed,\n",
    "    n_shot=p.n_shot,\n",
    "    n_way=p.n_way,\n",
    "    n_query=p.n_query,\n",
    "    train_val_test_k_factors=(p.train_k_factor,p.val_k_factor,p.test_k_factor),\n",
    "    pickle_path=os.path.join(get_datasets_base_path(), p.pickle_name),\n",
    "    x_transform_func=x_transform_target,\n",
    "    example_transform_func=episode_transform_target,\n",
    ")\n",
    "train_original_target, val_original_target, test_original_target = eaf_target.get_train(), eaf_target.get_val(), eaf_target.get_test()\n",
    "\n",
    "\n",
    "transform_lambda = lambda ex: ex[1] # Original is (<domain>, <episode>) so we strip down to episode only\n",
    "\n",
    "train_processed_source = Lazy_Iterable_Wrapper(train_original_source, transform_lambda)\n",
    "val_processed_source   = Lazy_Iterable_Wrapper(val_original_source, transform_lambda)\n",
    "test_processed_source  = Lazy_Iterable_Wrapper(test_original_source, transform_lambda)\n",
    "\n",
    "train_processed_target = Lazy_Iterable_Wrapper(train_original_target, transform_lambda)\n",
    "val_processed_target   = Lazy_Iterable_Wrapper(val_original_target, transform_lambda)\n",
    "test_processed_target  = Lazy_Iterable_Wrapper(test_original_target, transform_lambda)\n",
    "\n",
    "datasets = EasyDict({\n",
    "    \"source\": {\n",
    "        \"original\": {\"train\":train_original_source, \"val\":val_original_source, \"test\":test_original_source},\n",
    "        \"processed\": {\"train\":train_processed_source, \"val\":val_processed_source, \"test\":test_processed_source}\n",
    "    },\n",
    "    \"target\": {\n",
    "        \"original\": {\"train\":train_original_target, \"val\":val_original_target, \"test\":test_original_target},\n",
    "        \"processed\": {\"train\":train_processed_target, \"val\":val_processed_target, \"test\":test_processed_target}\n",
    "    },\n",
    "})"
   ]
  },
  {
   "cell_type": "code",
   "execution_count": 11,
   "id": "296189d9",
   "metadata": {
    "execution": {
     "iopub.execute_input": "2022-03-26T03:03:46.038381Z",
     "iopub.status.busy": "2022-03-26T03:03:46.037814Z",
     "iopub.status.idle": "2022-03-26T03:03:51.788286Z",
     "shell.execute_reply": "2022-03-26T03:03:51.787628Z"
    },
    "papermill": {
     "duration": 5.769395,
     "end_time": "2022-03-26T03:03:51.788427",
     "exception": false,
     "start_time": "2022-03-26T03:03:46.019032",
     "status": "completed"
    },
    "tags": []
   },
   "outputs": [
    {
     "name": "stdout",
     "output_type": "stream",
     "text": [
      "Visually inspect these to see if they line up with expected values given the transforms\n",
      "x_transforms_source ['unit_mag']\n",
      "x_transforms_target ['unit_mag']\n",
      "Average magnitude, source: 1.0\n",
      "Average power, source: 1.2818012\n"
     ]
    },
    {
     "name": "stdout",
     "output_type": "stream",
     "text": [
      "Average magnitude, target: 1.0\n",
      "Average power, target: 1.2622263\n"
     ]
    }
   ],
   "source": [
    "# Some quick unit tests on the data\n",
    "from steves_utils.transforms import get_average_power, get_average_magnitude\n",
    "\n",
    "q_x, q_y, s_x, s_y, truth = next(iter(train_processed_source))\n",
    "\n",
    "assert q_x.dtype == eval(p.torch_default_dtype)\n",
    "assert s_x.dtype == eval(p.torch_default_dtype)\n",
    "\n",
    "print(\"Visually inspect these to see if they line up with expected values given the transforms\")\n",
    "print('x_transforms_source', p.x_transforms_source)\n",
    "print('x_transforms_target', p.x_transforms_target)\n",
    "print(\"Average magnitude, source:\", get_average_magnitude(q_x[0].numpy()))\n",
    "print(\"Average power, source:\", get_average_power(q_x[0].numpy()))\n",
    "\n",
    "q_x, q_y, s_x, s_y, truth = next(iter(train_processed_target))\n",
    "print(\"Average magnitude, target:\", get_average_magnitude(q_x[0].numpy()))\n",
    "print(\"Average power, target:\", get_average_power(q_x[0].numpy()))\n"
   ]
  },
  {
   "cell_type": "code",
   "execution_count": 12,
   "id": "bbdacba1",
   "metadata": {
    "execution": {
     "iopub.execute_input": "2022-03-26T03:03:51.830162Z",
     "iopub.status.busy": "2022-03-26T03:03:51.829530Z",
     "iopub.status.idle": "2022-03-26T03:03:52.081495Z",
     "shell.execute_reply": "2022-03-26T03:03:52.080739Z"
    },
    "papermill": {
     "duration": 0.272512,
     "end_time": "2022-03-26T03:03:52.081678",
     "exception": false,
     "start_time": "2022-03-26T03:03:51.809166",
     "status": "completed"
    },
    "tags": []
   },
   "outputs": [
    {
     "name": "stdout",
     "output_type": "stream",
     "text": [
      "(2, 256)\n"
     ]
    }
   ],
   "source": [
    "###################################\n",
    "# Build the model\n",
    "###################################\n",
    "model = Steves_Prototypical_Network(x_net, device=p.device, x_shape=(2,256))\n",
    "optimizer = Adam(params=model.parameters(), lr=p.lr)"
   ]
  },
  {
   "cell_type": "code",
   "execution_count": 13,
   "id": "22b39ac5",
   "metadata": {
    "execution": {
     "iopub.execute_input": "2022-03-26T03:03:52.129100Z",
     "iopub.status.busy": "2022-03-26T03:03:52.128462Z",
     "iopub.status.idle": "2022-03-26T04:18:25.862420Z",
     "shell.execute_reply": "2022-03-26T04:18:25.862079Z"
    },
    "papermill": {
     "duration": 4473.75456,
     "end_time": "2022-03-26T04:18:25.862504",
     "exception": false,
     "start_time": "2022-03-26T03:03:52.107944",
     "status": "completed"
    },
    "tags": []
   },
   "outputs": [
    {
     "name": "stdout",
     "output_type": "stream",
     "text": [
      "epoch: 1, [batch: 1 / 12600], examples_per_second: 17.7486, train_label_loss: 2.7691, \n"
     ]
    },
    {
     "name": "stdout",
     "output_type": "stream",
     "text": [
      "epoch: 1, [batch: 1260 / 12600], examples_per_second: 5014.9883, train_label_loss: 1.6257, \n"
     ]
    },
    {
     "name": "stdout",
     "output_type": "stream",
     "text": [
      "epoch: 1, [batch: 2520 / 12600], examples_per_second: 4942.3907, train_label_loss: 1.6320, \n"
     ]
    },
    {
     "name": "stdout",
     "output_type": "stream",
     "text": [
      "epoch: 1, [batch: 3780 / 12600], examples_per_second: 5297.0337, train_label_loss: 1.5207, \n"
     ]
    },
    {
     "name": "stdout",
     "output_type": "stream",
     "text": [
      "epoch: 1, [batch: 5040 / 12600], examples_per_second: 5050.2660, train_label_loss: 1.4313, \n"
     ]
    },
    {
     "name": "stdout",
     "output_type": "stream",
     "text": [
      "epoch: 1, [batch: 6300 / 12600], examples_per_second: 4932.2505, train_label_loss: 1.3440, \n"
     ]
    },
    {
     "name": "stdout",
     "output_type": "stream",
     "text": [
      "epoch: 1, [batch: 7560 / 12600], examples_per_second: 4908.7928, train_label_loss: 1.4295, \n"
     ]
    },
    {
     "name": "stdout",
     "output_type": "stream",
     "text": [
      "epoch: 1, [batch: 8820 / 12600], examples_per_second: 5166.8448, train_label_loss: 1.1676, \n"
     ]
    },
    {
     "name": "stdout",
     "output_type": "stream",
     "text": [
      "epoch: 1, [batch: 10080 / 12600], examples_per_second: 5195.9310, train_label_loss: 1.3397, \n"
     ]
    },
    {
     "name": "stdout",
     "output_type": "stream",
     "text": [
      "epoch: 1, [batch: 11340 / 12600], examples_per_second: 5286.0917, train_label_loss: 1.1414, \n"
     ]
    },
    {
     "name": "stdout",
     "output_type": "stream",
     "text": [
      "=============================================================\n",
      "epoch: 1, source_val_acc_label: 0.5705, target_val_acc_label: 0.4789, source_val_label_loss: 1.1292, target_val_label_loss: 1.3775, \n",
      "=============================================================\n"
     ]
    },
    {
     "name": "stdout",
     "output_type": "stream",
     "text": [
      "New best\n"
     ]
    },
    {
     "name": "stdout",
     "output_type": "stream",
     "text": [
      "epoch: 2, [batch: 1 / 12600], examples_per_second: 2.4292, train_label_loss: 0.8119, \n"
     ]
    },
    {
     "name": "stdout",
     "output_type": "stream",
     "text": [
      "epoch: 2, [batch: 1260 / 12600], examples_per_second: 5402.0544, train_label_loss: 1.1512, \n"
     ]
    },
    {
     "name": "stdout",
     "output_type": "stream",
     "text": [
      "epoch: 2, [batch: 2520 / 12600], examples_per_second: 5324.4126, train_label_loss: 0.9747, \n"
     ]
    },
    {
     "name": "stdout",
     "output_type": "stream",
     "text": [
      "epoch: 2, [batch: 3780 / 12600], examples_per_second: 5098.2788, train_label_loss: 1.1280, \n"
     ]
    },
    {
     "name": "stdout",
     "output_type": "stream",
     "text": [
      "epoch: 2, [batch: 5040 / 12600], examples_per_second: 5021.5284, train_label_loss: 0.7588, \n"
     ]
    },
    {
     "name": "stdout",
     "output_type": "stream",
     "text": [
      "epoch: 2, [batch: 6300 / 12600], examples_per_second: 5322.0113, train_label_loss: 0.8580, \n"
     ]
    },
    {
     "name": "stdout",
     "output_type": "stream",
     "text": [
      "epoch: 2, [batch: 7560 / 12600], examples_per_second: 4342.0075, train_label_loss: 1.3481, \n"
     ]
    },
    {
     "name": "stdout",
     "output_type": "stream",
     "text": [
      "epoch: 2, [batch: 8820 / 12600], examples_per_second: 3959.2527, train_label_loss: 1.1296, \n"
     ]
    },
    {
     "name": "stdout",
     "output_type": "stream",
     "text": [
      "epoch: 2, [batch: 10080 / 12600], examples_per_second: 4000.3784, train_label_loss: 1.0538, \n"
     ]
    },
    {
     "name": "stdout",
     "output_type": "stream",
     "text": [
      "epoch: 2, [batch: 11340 / 12600], examples_per_second: 4057.6057, train_label_loss: 1.0813, \n"
     ]
    },
    {
     "name": "stdout",
     "output_type": "stream",
     "text": [
      "=============================================================\n",
      "epoch: 2, source_val_acc_label: 0.6589, target_val_acc_label: 0.5824, source_val_label_loss: 0.9024, target_val_label_loss: 1.1069, \n",
      "=============================================================\n"
     ]
    },
    {
     "name": "stdout",
     "output_type": "stream",
     "text": [
      "New best\n"
     ]
    },
    {
     "name": "stdout",
     "output_type": "stream",
     "text": [
      "epoch: 3, [batch: 1 / 12600], examples_per_second: 1.8087, train_label_loss: 0.8252, \n"
     ]
    },
    {
     "name": "stdout",
     "output_type": "stream",
     "text": [
      "epoch: 3, [batch: 1260 / 12600], examples_per_second: 3844.2807, train_label_loss: 0.6193, \n"
     ]
    },
    {
     "name": "stdout",
     "output_type": "stream",
     "text": [
      "epoch: 3, [batch: 2520 / 12600], examples_per_second: 3896.4858, train_label_loss: 0.5823, \n"
     ]
    },
    {
     "name": "stdout",
     "output_type": "stream",
     "text": [
      "epoch: 3, [batch: 3780 / 12600], examples_per_second: 3974.7829, train_label_loss: 0.7828, \n"
     ]
    },
    {
     "name": "stdout",
     "output_type": "stream",
     "text": [
      "epoch: 3, [batch: 5040 / 12600], examples_per_second: 4357.5900, train_label_loss: 0.6971, \n"
     ]
    },
    {
     "name": "stdout",
     "output_type": "stream",
     "text": [
      "epoch: 3, [batch: 6300 / 12600], examples_per_second: 4291.3800, train_label_loss: 0.7198, \n"
     ]
    },
    {
     "name": "stdout",
     "output_type": "stream",
     "text": [
      "epoch: 3, [batch: 7560 / 12600], examples_per_second: 4396.9752, train_label_loss: 0.8348, \n"
     ]
    },
    {
     "name": "stdout",
     "output_type": "stream",
     "text": [
      "epoch: 3, [batch: 8820 / 12600], examples_per_second: 3867.1756, train_label_loss: 1.0077, \n"
     ]
    },
    {
     "name": "stdout",
     "output_type": "stream",
     "text": [
      "epoch: 3, [batch: 10080 / 12600], examples_per_second: 3959.8696, train_label_loss: 0.7708, \n"
     ]
    },
    {
     "name": "stdout",
     "output_type": "stream",
     "text": [
      "epoch: 3, [batch: 11340 / 12600], examples_per_second: 3889.7263, train_label_loss: 0.5590, \n"
     ]
    },
    {
     "name": "stdout",
     "output_type": "stream",
     "text": [
      "=============================================================\n",
      "epoch: 3, source_val_acc_label: 0.6677, target_val_acc_label: 0.5912, source_val_label_loss: 0.8780, target_val_label_loss: 1.0831, \n",
      "=============================================================\n"
     ]
    },
    {
     "name": "stdout",
     "output_type": "stream",
     "text": [
      "New best\n"
     ]
    },
    {
     "name": "stdout",
     "output_type": "stream",
     "text": [
      "epoch: 4, [batch: 1 / 12600], examples_per_second: 1.7839, train_label_loss: 0.4594, \n"
     ]
    },
    {
     "name": "stdout",
     "output_type": "stream",
     "text": [
      "epoch: 4, [batch: 1260 / 12600], examples_per_second: 3899.8798, train_label_loss: 0.7300, \n"
     ]
    },
    {
     "name": "stdout",
     "output_type": "stream",
     "text": [
      "epoch: 4, [batch: 2520 / 12600], examples_per_second: 3985.7704, train_label_loss: 0.7579, \n"
     ]
    },
    {
     "name": "stdout",
     "output_type": "stream",
     "text": [
      "epoch: 4, [batch: 3780 / 12600], examples_per_second: 4009.6847, train_label_loss: 0.7431, \n"
     ]
    },
    {
     "name": "stdout",
     "output_type": "stream",
     "text": [
      "epoch: 4, [batch: 5040 / 12600], examples_per_second: 4453.8478, train_label_loss: 0.7987, \n"
     ]
    },
    {
     "name": "stdout",
     "output_type": "stream",
     "text": [
      "epoch: 4, [batch: 6300 / 12600], examples_per_second: 4359.5119, train_label_loss: 0.5934, \n"
     ]
    },
    {
     "name": "stdout",
     "output_type": "stream",
     "text": [
      "epoch: 4, [batch: 7560 / 12600], examples_per_second: 4468.8885, train_label_loss: 0.8769, \n"
     ]
    },
    {
     "name": "stdout",
     "output_type": "stream",
     "text": [
      "epoch: 4, [batch: 8820 / 12600], examples_per_second: 3958.3425, train_label_loss: 0.7340, \n"
     ]
    },
    {
     "name": "stdout",
     "output_type": "stream",
     "text": [
      "epoch: 4, [batch: 10080 / 12600], examples_per_second: 4016.6902, train_label_loss: 0.7624, \n"
     ]
    },
    {
     "name": "stdout",
     "output_type": "stream",
     "text": [
      "epoch: 4, [batch: 11340 / 12600], examples_per_second: 3990.4685, train_label_loss: 0.8846, \n"
     ]
    },
    {
     "name": "stdout",
     "output_type": "stream",
     "text": [
      "=============================================================\n",
      "epoch: 4, source_val_acc_label: 0.6724, target_val_acc_label: 0.5974, source_val_label_loss: 0.8656, target_val_label_loss: 1.0671, \n",
      "=============================================================\n"
     ]
    },
    {
     "name": "stdout",
     "output_type": "stream",
     "text": [
      "New best\n"
     ]
    },
    {
     "name": "stdout",
     "output_type": "stream",
     "text": [
      "epoch: 5, [batch: 1 / 12600], examples_per_second: 1.7844, train_label_loss: 0.6052, \n"
     ]
    },
    {
     "name": "stdout",
     "output_type": "stream",
     "text": [
      "epoch: 5, [batch: 1260 / 12600], examples_per_second: 3873.1149, train_label_loss: 0.3469, \n"
     ]
    },
    {
     "name": "stdout",
     "output_type": "stream",
     "text": [
      "epoch: 5, [batch: 2520 / 12600], examples_per_second: 3941.2465, train_label_loss: 0.7846, \n"
     ]
    },
    {
     "name": "stdout",
     "output_type": "stream",
     "text": [
      "epoch: 5, [batch: 3780 / 12600], examples_per_second: 3957.5179, train_label_loss: 0.5191, \n"
     ]
    },
    {
     "name": "stdout",
     "output_type": "stream",
     "text": [
      "epoch: 5, [batch: 5040 / 12600], examples_per_second: 4403.9127, train_label_loss: 0.6312, \n"
     ]
    },
    {
     "name": "stdout",
     "output_type": "stream",
     "text": [
      "epoch: 5, [batch: 6300 / 12600], examples_per_second: 4423.2520, train_label_loss: 0.6414, \n"
     ]
    },
    {
     "name": "stdout",
     "output_type": "stream",
     "text": [
      "epoch: 5, [batch: 7560 / 12600], examples_per_second: 4820.6561, train_label_loss: 0.6656, \n"
     ]
    },
    {
     "name": "stdout",
     "output_type": "stream",
     "text": [
      "epoch: 5, [batch: 8820 / 12600], examples_per_second: 4012.1856, train_label_loss: 0.5702, \n"
     ]
    },
    {
     "name": "stdout",
     "output_type": "stream",
     "text": [
      "epoch: 5, [batch: 10080 / 12600], examples_per_second: 3989.6485, train_label_loss: 0.4087, \n"
     ]
    },
    {
     "name": "stdout",
     "output_type": "stream",
     "text": [
      "epoch: 5, [batch: 11340 / 12600], examples_per_second: 4019.9663, train_label_loss: 0.4857, \n"
     ]
    },
    {
     "name": "stdout",
     "output_type": "stream",
     "text": [
      "=============================================================\n",
      "epoch: 5, source_val_acc_label: 0.6879, target_val_acc_label: 0.6086, source_val_label_loss: 0.8780, target_val_label_loss: 1.0693, \n",
      "=============================================================\n"
     ]
    },
    {
     "name": "stdout",
     "output_type": "stream",
     "text": [
      "New best\n"
     ]
    },
    {
     "name": "stdout",
     "output_type": "stream",
     "text": [
      "epoch: 6, [batch: 1 / 12600], examples_per_second: 1.8115, train_label_loss: 0.6414, \n"
     ]
    },
    {
     "name": "stdout",
     "output_type": "stream",
     "text": [
      "epoch: 6, [batch: 1260 / 12600], examples_per_second: 3905.1853, train_label_loss: 0.6407, \n"
     ]
    },
    {
     "name": "stdout",
     "output_type": "stream",
     "text": [
      "epoch: 6, [batch: 2520 / 12600], examples_per_second: 4008.3171, train_label_loss: 0.5331, \n"
     ]
    },
    {
     "name": "stdout",
     "output_type": "stream",
     "text": [
      "epoch: 6, [batch: 3780 / 12600], examples_per_second: 2857.2760, train_label_loss: 0.4953, \n"
     ]
    },
    {
     "name": "stdout",
     "output_type": "stream",
     "text": [
      "epoch: 6, [batch: 5040 / 12600], examples_per_second: 1933.6694, train_label_loss: 0.3714, \n"
     ]
    },
    {
     "name": "stdout",
     "output_type": "stream",
     "text": [
      "epoch: 6, [batch: 6300 / 12600], examples_per_second: 1963.9584, train_label_loss: 0.6239, \n"
     ]
    },
    {
     "name": "stdout",
     "output_type": "stream",
     "text": [
      "epoch: 6, [batch: 7560 / 12600], examples_per_second: 1950.2701, train_label_loss: 0.4416, \n"
     ]
    },
    {
     "name": "stdout",
     "output_type": "stream",
     "text": [
      "epoch: 6, [batch: 8820 / 12600], examples_per_second: 2258.6789, train_label_loss: 0.3870, \n"
     ]
    },
    {
     "name": "stdout",
     "output_type": "stream",
     "text": [
      "epoch: 6, [batch: 10080 / 12600], examples_per_second: 3888.1573, train_label_loss: 0.5233, \n"
     ]
    },
    {
     "name": "stdout",
     "output_type": "stream",
     "text": [
      "epoch: 6, [batch: 11340 / 12600], examples_per_second: 2189.7371, train_label_loss: 0.4437, \n"
     ]
    },
    {
     "name": "stdout",
     "output_type": "stream",
     "text": [
      "=============================================================\n",
      "epoch: 6, source_val_acc_label: 0.6885, target_val_acc_label: 0.6139, source_val_label_loss: 0.9341, target_val_label_loss: 1.1074, \n",
      "=============================================================\n"
     ]
    },
    {
     "name": "stdout",
     "output_type": "stream",
     "text": [
      "New best\n"
     ]
    },
    {
     "name": "stdout",
     "output_type": "stream",
     "text": [
      "epoch: 7, [batch: 1 / 12600], examples_per_second: 0.9831, train_label_loss: 0.4190, \n"
     ]
    },
    {
     "name": "stdout",
     "output_type": "stream",
     "text": [
      "epoch: 7, [batch: 1260 / 12600], examples_per_second: 1787.2571, train_label_loss: 0.5134, \n"
     ]
    },
    {
     "name": "stdout",
     "output_type": "stream",
     "text": [
      "epoch: 7, [batch: 2520 / 12600], examples_per_second: 1883.8738, train_label_loss: 0.5971, \n"
     ]
    },
    {
     "name": "stdout",
     "output_type": "stream",
     "text": [
      "epoch: 7, [batch: 3780 / 12600], examples_per_second: 3824.6858, train_label_loss: 0.3746, \n"
     ]
    },
    {
     "name": "stdout",
     "output_type": "stream",
     "text": [
      "epoch: 7, [batch: 5040 / 12600], examples_per_second: 2206.2054, train_label_loss: 0.4940, \n"
     ]
    },
    {
     "name": "stdout",
     "output_type": "stream",
     "text": [
      "epoch: 7, [batch: 6300 / 12600], examples_per_second: 1948.5504, train_label_loss: 0.5455, \n"
     ]
    },
    {
     "name": "stdout",
     "output_type": "stream",
     "text": [
      "epoch: 7, [batch: 7560 / 12600], examples_per_second: 1951.0611, train_label_loss: 0.4749, \n"
     ]
    },
    {
     "name": "stdout",
     "output_type": "stream",
     "text": [
      "epoch: 7, [batch: 8820 / 12600], examples_per_second: 1914.1986, train_label_loss: 0.3887, \n"
     ]
    },
    {
     "name": "stdout",
     "output_type": "stream",
     "text": [
      "epoch: 7, [batch: 10080 / 12600], examples_per_second: 2001.2936, train_label_loss: 0.2493, \n"
     ]
    },
    {
     "name": "stdout",
     "output_type": "stream",
     "text": [
      "epoch: 7, [batch: 11340 / 12600], examples_per_second: 1790.0252, train_label_loss: 0.5015, \n"
     ]
    },
    {
     "name": "stdout",
     "output_type": "stream",
     "text": [
      "=============================================================\n",
      "epoch: 7, source_val_acc_label: 0.6748, target_val_acc_label: 0.5995, source_val_label_loss: 0.9457, target_val_label_loss: 1.1268, \n",
      "=============================================================\n"
     ]
    },
    {
     "name": "stdout",
     "output_type": "stream",
     "text": [
      "epoch: 8, [batch: 1 / 12600], examples_per_second: 0.9625, train_label_loss: 0.3736, \n"
     ]
    },
    {
     "name": "stdout",
     "output_type": "stream",
     "text": [
      "epoch: 8, [batch: 1260 / 12600], examples_per_second: 1770.7076, train_label_loss: 0.3484, \n"
     ]
    },
    {
     "name": "stdout",
     "output_type": "stream",
     "text": [
      "epoch: 8, [batch: 2520 / 12600], examples_per_second: 1767.6195, train_label_loss: 0.3739, \n"
     ]
    },
    {
     "name": "stdout",
     "output_type": "stream",
     "text": [
      "epoch: 8, [batch: 3780 / 12600], examples_per_second: 2250.6609, train_label_loss: 0.5170, \n"
     ]
    },
    {
     "name": "stdout",
     "output_type": "stream",
     "text": [
      "epoch: 8, [batch: 5040 / 12600], examples_per_second: 3849.6299, train_label_loss: 0.2761, \n"
     ]
    },
    {
     "name": "stdout",
     "output_type": "stream",
     "text": [
      "epoch: 8, [batch: 6300 / 12600], examples_per_second: 1925.4842, train_label_loss: 0.7119, \n"
     ]
    },
    {
     "name": "stdout",
     "output_type": "stream",
     "text": [
      "epoch: 8, [batch: 7560 / 12600], examples_per_second: 1957.6650, train_label_loss: 0.2683, \n"
     ]
    },
    {
     "name": "stdout",
     "output_type": "stream",
     "text": [
      "epoch: 8, [batch: 8820 / 12600], examples_per_second: 1925.2589, train_label_loss: 0.2058, \n"
     ]
    },
    {
     "name": "stdout",
     "output_type": "stream",
     "text": [
      "epoch: 8, [batch: 10080 / 12600], examples_per_second: 1939.6803, train_label_loss: 0.2420, \n"
     ]
    },
    {
     "name": "stdout",
     "output_type": "stream",
     "text": [
      "epoch: 8, [batch: 11340 / 12600], examples_per_second: 3808.1523, train_label_loss: 0.3567, \n"
     ]
    },
    {
     "name": "stdout",
     "output_type": "stream",
     "text": [
      "=============================================================\n",
      "epoch: 8, source_val_acc_label: 0.6890, target_val_acc_label: 0.6111, source_val_label_loss: 0.9864, target_val_label_loss: 1.1699, \n",
      "=============================================================\n"
     ]
    },
    {
     "name": "stdout",
     "output_type": "stream",
     "text": [
      "epoch: 9, [batch: 1 / 12600], examples_per_second: 0.7065, train_label_loss: 0.3556, \n"
     ]
    },
    {
     "name": "stdout",
     "output_type": "stream",
     "text": [
      "epoch: 9, [batch: 1260 / 12600], examples_per_second: 1783.5909, train_label_loss: 0.2037, \n"
     ]
    },
    {
     "name": "stdout",
     "output_type": "stream",
     "text": [
      "epoch: 9, [batch: 2520 / 12600], examples_per_second: 1788.3436, train_label_loss: 0.5056, \n"
     ]
    },
    {
     "name": "stdout",
     "output_type": "stream",
     "text": [
      "epoch: 9, [batch: 3780 / 12600], examples_per_second: 2417.8350, train_label_loss: 0.5563, \n"
     ]
    },
    {
     "name": "stdout",
     "output_type": "stream",
     "text": [
      "epoch: 9, [batch: 5040 / 12600], examples_per_second: 3560.7705, train_label_loss: 0.2390, \n"
     ]
    },
    {
     "name": "stdout",
     "output_type": "stream",
     "text": [
      "epoch: 9, [batch: 6300 / 12600], examples_per_second: 1839.1408, train_label_loss: 0.3408, \n"
     ]
    },
    {
     "name": "stdout",
     "output_type": "stream",
     "text": [
      "epoch: 9, [batch: 7560 / 12600], examples_per_second: 1949.9665, train_label_loss: 0.5880, \n"
     ]
    },
    {
     "name": "stdout",
     "output_type": "stream",
     "text": [
      "epoch: 9, [batch: 8820 / 12600], examples_per_second: 1936.9377, train_label_loss: 0.4284, \n"
     ]
    },
    {
     "name": "stdout",
     "output_type": "stream",
     "text": [
      "epoch: 9, [batch: 10080 / 12600], examples_per_second: 1941.3343, train_label_loss: 0.2918, \n"
     ]
    },
    {
     "name": "stdout",
     "output_type": "stream",
     "text": [
      "epoch: 9, [batch: 11340 / 12600], examples_per_second: 4309.3303, train_label_loss: 0.5364, \n"
     ]
    },
    {
     "name": "stdout",
     "output_type": "stream",
     "text": [
      "=============================================================\n",
      "epoch: 9, source_val_acc_label: 0.6840, target_val_acc_label: 0.6039, source_val_label_loss: 1.0330, target_val_label_loss: 1.2186, \n",
      "=============================================================\n"
     ]
    },
    {
     "name": "stdout",
     "output_type": "stream",
     "text": [
      "epoch: 10, [batch: 1 / 12600], examples_per_second: 0.8984, train_label_loss: 0.1878, \n"
     ]
    },
    {
     "name": "stdout",
     "output_type": "stream",
     "text": [
      "epoch: 10, [batch: 1260 / 12600], examples_per_second: 2062.1779, train_label_loss: 0.1896, \n"
     ]
    },
    {
     "name": "stdout",
     "output_type": "stream",
     "text": [
      "epoch: 10, [batch: 2520 / 12600], examples_per_second: 1777.1210, train_label_loss: 0.5849, \n"
     ]
    },
    {
     "name": "stdout",
     "output_type": "stream",
     "text": [
      "epoch: 10, [batch: 3780 / 12600], examples_per_second: 1803.2201, train_label_loss: 0.4400, \n"
     ]
    },
    {
     "name": "stdout",
     "output_type": "stream",
     "text": [
      "epoch: 10, [batch: 5040 / 12600], examples_per_second: 1776.3389, train_label_loss: 0.4011, \n"
     ]
    },
    {
     "name": "stdout",
     "output_type": "stream",
     "text": [
      "epoch: 10, [batch: 6300 / 12600], examples_per_second: 1776.5739, train_label_loss: 0.2979, \n"
     ]
    },
    {
     "name": "stdout",
     "output_type": "stream",
     "text": [
      "epoch: 10, [batch: 7560 / 12600], examples_per_second: 1869.4270, train_label_loss: 0.4458, \n"
     ]
    },
    {
     "name": "stdout",
     "output_type": "stream",
     "text": [
      "epoch: 10, [batch: 8820 / 12600], examples_per_second: 2820.1939, train_label_loss: 0.3255, \n"
     ]
    },
    {
     "name": "stdout",
     "output_type": "stream",
     "text": [
      "epoch: 10, [batch: 10080 / 12600], examples_per_second: 4265.5401, train_label_loss: 0.3308, \n"
     ]
    },
    {
     "name": "stdout",
     "output_type": "stream",
     "text": [
      "epoch: 10, [batch: 11340 / 12600], examples_per_second: 1948.6457, train_label_loss: 0.1747, \n"
     ]
    },
    {
     "name": "stdout",
     "output_type": "stream",
     "text": [
      "=============================================================\n",
      "epoch: 10, source_val_acc_label: 0.6816, target_val_acc_label: 0.6011, source_val_label_loss: 1.0786, target_val_label_loss: 1.2707, \n",
      "=============================================================\n"
     ]
    },
    {
     "name": "stdout",
     "output_type": "stream",
     "text": [
      "Patience (3) exhausted\n"
     ]
    }
   ],
   "source": [
    "###################################\n",
    "# train\n",
    "###################################\n",
    "jig = PTN_Train_Eval_Test_Jig(model, p.BEST_MODEL_PATH, p.device)\n",
    "\n",
    "jig.train(\n",
    "    train_iterable=datasets.source.processed.train,\n",
    "    source_val_iterable=datasets.source.processed.val,\n",
    "    target_val_iterable=datasets.target.processed.val,\n",
    "    num_epochs=p.n_epoch,\n",
    "    num_logs_per_epoch=p.NUM_LOGS_PER_EPOCH,\n",
    "    patience=p.patience,\n",
    "    optimizer=optimizer,\n",
    "    criteria_for_best=p.criteria_for_best,\n",
    ")"
   ]
  },
  {
   "cell_type": "code",
   "execution_count": 14,
   "id": "31e8fabf",
   "metadata": {
    "execution": {
     "iopub.execute_input": "2022-03-26T04:18:25.962987Z",
     "iopub.status.busy": "2022-03-26T04:18:25.962587Z",
     "iopub.status.idle": "2022-03-26T04:18:25.992638Z",
     "shell.execute_reply": "2022-03-26T04:18:25.993311Z"
    },
    "papermill": {
     "duration": 0.083172,
     "end_time": "2022-03-26T04:18:25.993510",
     "exception": false,
     "start_time": "2022-03-26T04:18:25.910338",
     "status": "completed"
    },
    "tags": []
   },
   "outputs": [],
   "source": [
    "total_experiment_time_secs = time.time() - start_time_secs"
   ]
  },
  {
   "cell_type": "code",
   "execution_count": 15,
   "id": "87b9595b",
   "metadata": {
    "execution": {
     "iopub.execute_input": "2022-03-26T04:18:26.100976Z",
     "iopub.status.busy": "2022-03-26T04:18:26.100543Z",
     "iopub.status.idle": "2022-03-26T04:30:56.746350Z",
     "shell.execute_reply": "2022-03-26T04:30:56.745592Z"
    },
    "papermill": {
     "duration": 750.698519,
     "end_time": "2022-03-26T04:30:56.746536",
     "exception": false,
     "start_time": "2022-03-26T04:18:26.048017",
     "status": "completed"
    },
    "tags": []
   },
   "outputs": [],
   "source": [
    "###################################\n",
    "# Evaluate the model\n",
    "###################################\n",
    "source_test_label_accuracy, source_test_label_loss = jig.test(datasets.source.processed.test)\n",
    "target_test_label_accuracy, target_test_label_loss = jig.test(datasets.target.processed.test)\n",
    "\n",
    "source_val_label_accuracy, source_val_label_loss = jig.test(datasets.source.processed.val)\n",
    "target_val_label_accuracy, target_val_label_loss = jig.test(datasets.target.processed.val)\n",
    "\n",
    "history = jig.get_history()\n",
    "\n",
    "total_epochs_trained = len(history[\"epoch_indices\"])\n",
    "\n",
    "val_dl = Iterable_Aggregator((datasets.source.original.val,datasets.target.original.val))\n",
    "\n",
    "confusion = ptn_confusion_by_domain_over_dataloader(model, p.device, val_dl)\n",
    "per_domain_accuracy = per_domain_accuracy_from_confusion(confusion)\n",
    "\n",
    "# Add a key to per_domain_accuracy for if it was a source domain\n",
    "for domain, accuracy in per_domain_accuracy.items():\n",
    "    per_domain_accuracy[domain] = {\n",
    "        \"accuracy\": accuracy,\n",
    "        \"source?\": domain in p.domains_source\n",
    "    }\n",
    "\n",
    "# Do an independent accuracy assesment JUST TO BE SURE!\n",
    "# _source_test_label_accuracy = independent_accuracy_assesment(model, datasets.source.processed.test, p.device)\n",
    "# _target_test_label_accuracy = independent_accuracy_assesment(model, datasets.target.processed.test, p.device)\n",
    "# _source_val_label_accuracy = independent_accuracy_assesment(model, datasets.source.processed.val, p.device)\n",
    "# _target_val_label_accuracy = independent_accuracy_assesment(model, datasets.target.processed.val, p.device)\n",
    "\n",
    "# assert(_source_test_label_accuracy == source_test_label_accuracy)\n",
    "# assert(_target_test_label_accuracy == target_test_label_accuracy)\n",
    "# assert(_source_val_label_accuracy == source_val_label_accuracy)\n",
    "# assert(_target_val_label_accuracy == target_val_label_accuracy)\n",
    "\n",
    "experiment = {\n",
    "    \"experiment_name\": p.experiment_name,\n",
    "    \"parameters\": dict(p),\n",
    "    \"results\": {\n",
    "        \"source_test_label_accuracy\": source_test_label_accuracy,\n",
    "        \"source_test_label_loss\": source_test_label_loss,\n",
    "        \"target_test_label_accuracy\": target_test_label_accuracy,\n",
    "        \"target_test_label_loss\": target_test_label_loss,\n",
    "        \"source_val_label_accuracy\": source_val_label_accuracy,\n",
    "        \"source_val_label_loss\": source_val_label_loss,\n",
    "        \"target_val_label_accuracy\": target_val_label_accuracy,\n",
    "        \"target_val_label_loss\": target_val_label_loss,\n",
    "        \"total_epochs_trained\": total_epochs_trained,\n",
    "        \"total_experiment_time_secs\": total_experiment_time_secs,\n",
    "        \"confusion\": confusion,\n",
    "        \"per_domain_accuracy\": per_domain_accuracy,\n",
    "    },\n",
    "    \"history\": history,\n",
    "    \"dataset_metrics\": get_dataset_metrics(datasets, \"ptn\"),\n",
    "}"
   ]
  },
  {
   "cell_type": "code",
   "execution_count": 16,
   "id": "54a21829",
   "metadata": {
    "execution": {
     "iopub.execute_input": "2022-03-26T04:30:56.852904Z",
     "iopub.status.busy": "2022-03-26T04:30:56.852524Z",
     "iopub.status.idle": "2022-03-26T04:30:57.084784Z",
     "shell.execute_reply": "2022-03-26T04:30:57.085482Z"
    },
    "papermill": {
     "duration": 0.285379,
     "end_time": "2022-03-26T04:30:57.085696",
     "exception": false,
     "start_time": "2022-03-26T04:30:56.800317",
     "status": "completed"
    },
    "tags": []
   },
   "outputs": [
    {
     "data": {
      "image/png": "[encoded data removed]",
      "text/plain": [
       "<Figure size 1080x504 with 1 Axes>"
      ]
     },
     "metadata": {
      "needs_background": "light"
     },
     "output_type": "display_data"
    }
   ],
   "source": [
    "ax = get_loss_curve(experiment)\n",
    "plt.show()"
   ]
  },
  {
   "cell_type": "code",
   "execution_count": 17,
   "id": "fd8a0f60",
   "metadata": {
    "execution": {
     "iopub.execute_input": "2022-03-26T04:30:57.194799Z",
     "iopub.status.busy": "2022-03-26T04:30:57.194233Z",
     "iopub.status.idle": "2022-03-26T04:30:57.575942Z",
     "shell.execute_reply": "2022-03-26T04:30:57.575541Z"
    },
    "papermill": {
     "duration": 0.435045,
     "end_time": "2022-03-26T04:30:57.576033",
     "exception": false,
     "start_time": "2022-03-26T04:30:57.140988",
     "status": "completed"
    },
    "tags": []
   },
   "outputs": [
    {
     "data": {
      "text/plain": [
       "<AxesSubplot:title={'center':'Results'}>"
      ]
     },
     "execution_count": 17,
     "metadata": {},
     "output_type": "execute_result"
    },
    {
     "data": {
      "image/png": "[encoded data removed]",
      "text/plain": [
       "<Figure size 1080x504 with 1 Axes>"
      ]
     },
     "metadata": {
      "needs_background": "light"
     },
     "output_type": "display_data"
    }
   ],
   "source": [
    "get_results_table(experiment)"
   ]
  },
  {
   "cell_type": "code",
   "execution_count": 18,
   "id": "cf8dc689",
   "metadata": {
    "execution": {
     "iopub.execute_input": "2022-03-26T04:30:57.681792Z",
     "iopub.status.busy": "2022-03-26T04:30:57.681409Z",
     "iopub.status.idle": "2022-03-26T04:30:57.892914Z",
     "shell.execute_reply": "2022-03-26T04:30:57.892068Z"
    },
    "papermill": {
     "duration": 0.265696,
     "end_time": "2022-03-26T04:30:57.893083",
     "exception": false,
     "start_time": "2022-03-26T04:30:57.627387",
     "status": "completed"
    },
    "tags": []
   },
   "outputs": [
    {
     "data": {
      "text/plain": [
       "<AxesSubplot:title={'center':'Per Domain Validation Accuracy'}, xlabel='domain'>"
      ]
     },
     "execution_count": 18,
     "metadata": {},
     "output_type": "execute_result"
    },
    {
     "data": {
      "image/png": "[encoded data removed]",
      "text/plain": [
       "<Figure size 1080x504 with 1 Axes>"
      ]
     },
     "metadata": {
      "needs_background": "light"
     },
     "output_type": "display_data"
    }
   ],
   "source": [
    "get_domain_accuracies(experiment)"
   ]
  },
  {
   "cell_type": "code",
   "execution_count": 19,
   "id": "a74ae082",
   "metadata": {
    "execution": {
     "iopub.execute_input": "2022-03-26T04:30:58.009824Z",
     "iopub.status.busy": "2022-03-26T04:30:58.008783Z",
     "iopub.status.idle": "2022-03-26T04:30:58.034931Z",
     "shell.execute_reply": "2022-03-26T04:30:58.034513Z"
    },
    "papermill": {
     "duration": 0.083164,
     "end_time": "2022-03-26T04:30:58.035028",
     "exception": false,
     "start_time": "2022-03-26T04:30:57.951864",
     "status": "completed"
    },
    "tags": []
   },
   "outputs": [
    {
     "name": "stdout",
     "output_type": "stream",
     "text": [
      "Source Test Label Accuracy: 0.6932291666666667 Target Test Label Accuracy: 0.6173854166666667\n",
      "Source Val Label Accuracy: 0.6885416666666667 Target Val Label Accuracy: 0.6139270833333333\n"
     ]
    }
   ],
   "source": [
    "print(\"Source Test Label Accuracy:\", experiment[\"results\"][\"source_test_label_accuracy\"], \"Target Test Label Accuracy:\", experiment[\"results\"][\"target_test_label_accuracy\"])\n",
    "print(\"Source Val Label Accuracy:\", experiment[\"results\"][\"source_val_label_accuracy\"], \"Target Val Label Accuracy:\", experiment[\"results\"][\"target_val_label_accuracy\"])"
   ]
  },
  {
   "cell_type": "code",
   "execution_count": 20,
   "id": "dacca602",
   "metadata": {
    "execution": {
     "iopub.execute_input": "2022-03-26T04:30:58.146667Z",
     "iopub.status.busy": "2022-03-26T04:30:58.146107Z",
     "iopub.status.idle": "2022-03-26T04:30:58.169022Z",
     "shell.execute_reply": "2022-03-26T04:30:58.168672Z"
    },
    "papermill": {
     "duration": 0.077337,
     "end_time": "2022-03-26T04:30:58.169116",
     "exception": false,
     "start_time": "2022-03-26T04:30:58.091779",
     "status": "completed"
    },
    "tags": [
     "experiment_json"
    ]
   },
   "outputs": [
    {
     "data": {
      "text/plain": [
       "'{\"experiment_name\": \"tuned_1v2:oracle.run1_limited\", \"parameters\": {\"experiment_name\": \"tuned_1v2:oracle.run1_limited\", \"device\": \"cuda\", \"lr\": 0.0001, \"labels_source\": [\"3123D52\", \"3123D65\", \"3123D79\", \"3123D80\", \"3123D54\", \"3123D70\", \"3123D7B\", \"3123D89\", \"3123D58\", \"3123D76\", \"3123D7D\", \"3123EFE\", \"3123D64\", \"3123D78\", \"3123D7E\", \"3124E4A\"], \"labels_target\": [\"3123D52\", \"3123D65\", \"3123D79\", \"3123D80\", \"3123D54\", \"3123D70\", \"3123D7B\", \"3123D89\", \"3123D58\", \"3123D76\", \"3123D7D\", \"3123EFE\", \"3123D64\", \"3123D78\", \"3123D7E\", \"3124E4A\"], \"episode_transforms_source\": [], \"episode_transforms_target\": [], \"domains_source\": [8, 32, 50], \"domains_target\": [14, 20, 26, 38, 44], \"num_examples_per_domain_per_label_source\": -1, \"num_examples_per_domain_per_label_target\": -1, \"n_shot\": 3, \"n_way\": 16, \"n_query\": 2, \"train_k_factor\": 3, \"val_k_factor\": 2, \"test_k_factor\": 2, \"torch_default_dtype\": \"torch.float32\", \"n_epoch\": 50, \"patience\": 3, \"criteria_for_best\": \"target_accuracy\", \"x_net\": [{\"class\": \"nnReshape\", \"kargs\": {\"shape\": [-1, 1, 2, 256]}}, {\"class\": \"Conv2d\", \"kargs\": {\"in_channels\": 1, \"out_channels\": 256, \"kernel_size\": [1, 7], \"bias\": false, \"padding\": [0, 3]}}, {\"class\": \"ReLU\", \"kargs\": {\"inplace\": true}}, {\"class\": \"BatchNorm2d\", \"kargs\": {\"num_features\": 256}}, {\"class\": \"Conv2d\", \"kargs\": {\"in_channels\": 256, \"out_channels\": 80, \"kernel_size\": [2, 7], \"bias\": true, \"padding\": [0, 3]}}, {\"class\": \"ReLU\", \"kargs\": {\"inplace\": true}}, {\"class\": \"BatchNorm2d\", \"kargs\": {\"num_features\": 80}}, {\"class\": \"Flatten\", \"kargs\": {}}, {\"class\": \"Linear\", \"kargs\": {\"in_features\": 20480, \"out_features\": 256}}, {\"class\": \"ReLU\", \"kargs\": {\"inplace\": true}}, {\"class\": \"BatchNorm1d\", \"kargs\": {\"num_features\": 256}}, {\"class\": \"Linear\", \"kargs\": {\"in_features\": 256, \"out_features\": 256}}], \"NUM_LOGS_PER_EPOCH\": 10, \"BEST_MODEL_PATH\": \"./best_model.pth\", \"pickle_name\": \"oracle.Run1_10kExamples_stratified_ds.2022A.pkl\", \"x_transforms_source\": [\"unit_mag\"], \"x_transforms_target\": [\"unit_mag\"], \"dataset_seed\": 500, \"seed\": 500}, \"results\": {\"source_test_label_accuracy\": 0.6932291666666667, \"source_test_label_loss\": 0.9234986901283264, \"target_test_label_accuracy\": 0.6173854166666667, \"target_test_label_loss\": 1.1036255359649658, \"source_val_label_accuracy\": 0.6885416666666667, \"source_val_label_loss\": 0.9340770244598389, \"target_val_label_accuracy\": 0.6139270833333333, \"target_val_label_loss\": 1.1073846817016602, \"total_epochs_trained\": 10, \"total_experiment_time_secs\": 4586.862741470337, \"confusion\": {\"8\": {\"7\": {\"7\": 813, \"6\": 276, \"4\": 10, \"0\": 68, \"13\": 9, \"8\": 12, \"15\": 10, \"12\": 1, \"2\": 1}, \"10\": {\"13\": 114, \"14\": 231, \"10\": 729, \"5\": 38, \"4\": 67, \"1\": 16, \"0\": 5}, \"0\": {\"0\": 627, \"6\": 108, \"4\": 82, \"13\": 265, \"14\": 9, \"7\": 93, \"10\": 16}, \"11\": {\"11\": 679, \"1\": 445, \"5\": 34, \"14\": 17, \"8\": 14, \"6\": 3, \"4\": 6, \"10\": 2}, \"2\": {\"2\": 888, \"3\": 220, \"15\": 56, \"8\": 1, \"7\": 14, \"6\": 1, \"12\": 20}, \"14\": {\"13\": 95, \"14\": 542, \"10\": 243, \"4\": 197, \"1\": 95, \"5\": 5, \"0\": 7, \"11\": 9, \"6\": 7}, \"9\": {\"9\": 1200}, \"13\": {\"0\": 276, \"4\": 203, \"10\": 141, \"13\": 387, \"14\": 122, \"5\": 2, \"1\": 4, \"6\": 54, \"7\": 11}, \"8\": {\"8\": 1106, \"15\": 56, \"7\": 9, \"11\": 2, \"6\": 21, \"12\": 5, \"4\": 1}, \"15\": {\"8\": 63, \"12\": 270, \"15\": 823, \"3\": 19, \"2\": 22, \"7\": 3}, \"4\": {\"14\": 188, \"13\": 227, \"0\": 91, \"4\": 497, \"7\": 7, \"6\": 139, \"10\": 44, \"1\": 5, \"11\": 2}, \"5\": {\"5\": 1023, \"1\": 48, \"10\": 97, \"14\": 24, \"11\": 8}, \"3\": {\"3\": 912, \"2\": 166, \"12\": 111, \"15\": 11}, \"1\": {\"1\": 717, \"11\": 355, \"4\": 12, \"14\": 75, \"5\": 20, \"10\": 21}, \"6\": {\"6\": 682, \"7\": 265, \"0\": 89, \"4\": 105, \"8\": 20, \"13\": 27, \"14\": 10, \"11\": 1, \"15\": 1}, \"12\": {\"12\": 565, \"15\": 371, \"3\": 201, \"8\": 35, \"2\": 28}}, \"50\": {\"11\": {\"15\": 28, \"11\": 1044, \"14\": 21, \"12\": 11, \"9\": 95, \"1\": 1}, \"2\": {\"2\": 1093, \"0\": 106, \"6\": 1}, \"12\": {\"12\": 1068, \"14\": 48, \"9\": 75, \"11\": 9}, \"8\": {\"10\": 23, \"8\": 1163, \"3\": 14}, \"4\": {\"15\": 203, \"4\": 409, \"6\": 170, \"1\": 235, \"7\": 35, \"5\": 110, \"13\": 38}, \"10\": {\"10\": 1067, \"5\": 4, \"0\": 62, \"8\": 18, \"7\": 33, \"13\": 16}, \"14\": {\"14\": 1154, \"11\": 17, \"12\": 27, \"9\": 1, \"15\": 1}, \"13\": {\"13\": 627, \"5\": 262, \"7\": 219, \"6\": 64, \"0\": 6, \"10\": 12, \"4\": 10}, \"6\": {\"6\": 693, \"4\": 163, \"13\": 90, \"1\": 123, \"5\": 111, \"7\": 2, \"2\": 1, \"15\": 16, \"0\": 1}, \"9\": {\"9\": 888, \"12\": 121, \"11\": 186, \"14\": 5}, \"15\": {\"15\": 805, \"4\": 110, \"1\": 235, \"11\": 33, \"14\": 4, \"6\": 11, \"5\": 2}, \"1\": {\"1\": 604, \"15\": 311, \"4\": 171, \"6\": 98, \"5\": 6, \"14\": 4, \"11\": 3, \"2\": 3}, \"3\": {\"3\": 1173, \"8\": 27}, \"7\": {\"7\": 705, \"13\": 274, \"10\": 50, \"4\": 5, \"5\": 159, \"6\": 4, \"0\": 3}, \"0\": {\"2\": 136, \"0\": 1008, \"10\": 49, \"13\": 6, \"1\": 1}, \"5\": {\"7\": 262, \"5\": 297, \"6\": 210, \"4\": 137, \"13\": 239, \"1\": 24, \"10\": 25, \"15\": 3, \"0\": 2, \"2\": 1}}, \"32\": {\"4\": {\"13\": 45, \"7\": 139, \"4\": 548, \"0\": 124, \"5\": 94, \"2\": 230, \"14\": 14, \"8\": 5, \"11\": 1}, \"14\": {\"11\": 341, \"14\": 441, \"4\": 24, \"7\": 256, \"5\": 44, \"13\": 55, \"0\": 13, \"3\": 12, \"2\": 8, \"8\": 6}, \"5\": {\"5\": 316, \"4\": 122, \"0\": 80, \"13\": 304, \"3\": 55, \"7\": 130, \"8\": 108, \"11\": 38, \"14\": 36, \"2\": 11}, \"10\": {\"10\": 1196, \"1\": 4}, \"13\": {\"13\": 358, \"4\": 55, \"7\": 121, \"14\": 52, \"8\": 109, \"3\": 83, \"5\": 330, \"0\": 61, \"11\": 30, \"2\": 1}, \"9\": {\"9\": 1198, \"12\": 1, \"2\": 1}, \"6\": {\"6\": 1200}, \"3\": {\"3\": 1060, \"11\": 45, \"5\": 21, \"8\": 23, \"13\": 42, \"14\": 9}, \"15\": {\"15\": 1186, \"8\": 11, \"3\": 3}, \"7\": {\"4\": 156, \"7\": 477, \"5\": 135, \"14\": 184, \"13\": 129, \"11\": 50, \"2\": 36, \"0\": 29, \"8\": 4}, \"12\": {\"12\": 1200}, \"8\": {\"13\": 138, \"8\": 842, \"5\": 100, \"0\": 82, \"15\": 1, \"3\": 22, \"4\": 8, \"14\": 3, \"7\": 4}, \"11\": {\"14\": 268, \"11\": 832, \"13\": 24, \"7\": 30, \"3\": 30, \"5\": 16}, \"2\": {\"2\": 954, \"4\": 181, \"7\": 24, \"0\": 38, \"5\": 2, \"14\": 1}, \"1\": {\"1\": 1194, \"10\": 6}, \"0\": {\"0\": 670, \"2\": 59, \"4\": 214, \"14\": 11, \"5\": 63, \"13\": 49, \"8\": 94, \"7\": 40}}, \"20\": {\"7\": {\"12\": 4, \"9\": 80, \"7\": 735, \"2\": 167, \"11\": 6, \"10\": 7, \"8\": 109, \"3\": 43, \"6\": 31, \"4\": 12, \"13\": 3, \"14\": 3}, \"10\": {\"10\": 761, \"14\": 236, \"6\": 20, \"4\": 70, \"8\": 106, \"7\": 7}, \"0\": {\"0\": 398, \"5\": 304, \"15\": 140, \"3\": 55, \"12\": 105, \"1\": 155, \"9\": 14, \"2\": 13, \"4\": 10, \"13\": 5, \"8\": 1}, \"11\": {\"11\": 1193, \"2\": 1, \"6\": 1, \"7\": 5}, \"2\": {\"2\": 394, \"5\": 11, \"9\": 307, \"13\": 122, \"3\": 108, \"7\": 175, \"12\": 55, \"8\": 7, \"1\": 13, \"11\": 1, \"15\": 3, \"0\": 2, \"4\": 2}, \"14\": {\"10\": 233, \"6\": 194, \"14\": 731, \"8\": 35, \"7\": 6, \"4\": 1}, \"9\": {\"1\": 21, \"9\": 336, \"8\": 9, \"2\": 314, \"12\": 134, \"3\": 192, \"4\": 11, \"7\": 98, \"15\": 8, \"13\": 58, \"5\": 18, \"0\": 1}, \"13\": {\"13\": 968, \"2\": 106, \"1\": 16, \"9\": 46, \"12\": 16, \"15\": 33, \"3\": 5, \"7\": 8, \"5\": 2}, \"8\": {\"10\": 107, \"7\": 100, \"8\": 627, \"9\": 8, \"4\": 243, \"3\": 48, \"14\": 39, \"6\": 16, \"2\": 8, \"12\": 4}, \"15\": {\"15\": 633, \"1\": 235, \"0\": 116, \"13\": 64, \"2\": 8, \"5\": 94, \"12\": 40, \"9\": 5, \"3\": 4, \"8\": 1}, \"4\": {\"4\": 786, \"10\": 55, \"8\": 227, \"0\": 8, \"3\": 70, \"5\": 7, \"12\": 25, \"7\": 9, \"9\": 8, \"14\": 4, \"2\": 1}, \"5\": {\"0\": 272, \"1\": 223, \"12\": 183, \"5\": 285, \"15\": 129, \"3\": 65, \"13\": 8, \"8\": 1, \"9\": 15, \"2\": 8, \"4\": 11}, \"3\": {\"9\": 179, \"3\": 368, \"2\": 118, \"5\": 46, \"12\": 212, \"4\": 90, \"7\": 52, \"1\": 35, \"0\": 25, \"8\": 63, \"15\": 7, \"13\": 4, \"10\": 1}, \"1\": {\"1\": 325, \"5\": 225, \"2\": 10, \"0\": 137, \"15\": 274, \"12\": 145, \"3\": 36, \"9\": 26, \"13\": 20, \"4\": 2}, \"6\": {\"6\": 951, \"14\": 182, \"7\": 37, \"10\": 15, \"8\": 14, \"11\": 1}, \"12\": {\"12\": 339, \"1\": 151, \"3\": 207, \"9\": 128, \"0\": 67, \"2\": 56, \"15\": 46, \"5\": 151, \"4\": 27, \"7\": 9, \"8\": 7, \"13\": 12}}, \"14\": {\"14\": {\"13\": 147, \"14\": 836, \"3\": 48, \"6\": 85, \"2\": 72, \"10\": 7, \"4\": 5}, \"6\": {\"6\": 604, \"13\": 373, \"14\": 108, \"2\": 111, \"4\": 4}, \"5\": {\"5\": 585, \"1\": 255, \"4\": 224, \"7\": 22, \"2\": 87, \"3\": 26, \"15\": 1}, \"15\": {\"15\": 1080, \"7\": 115, \"5\": 3, \"2\": 2}, \"11\": {\"11\": 1017, \"9\": 81, \"10\": 48, \"0\": 54}, \"8\": {\"8\": 1198, \"0\": 2}, \"12\": {\"12\": 1189, \"9\": 11}, \"1\": {\"5\": 216, \"1\": 943, \"7\": 9, \"4\": 32}, \"2\": {\"2\": 432, \"6\": 100, \"14\": 153, \"13\": 107, \"4\": 145, \"5\": 150, \"3\": 78, \"1\": 14, \"15\": 19, \"7\": 2}, \"13\": {\"6\": 398, \"14\": 262, \"13\": 379, \"2\": 121, \"15\": 3, \"5\": 24, \"3\": 5, \"1\": 1, \"4\": 7}, \"3\": {\"3\": 906, \"0\": 11, \"4\": 183, \"2\": 24, \"14\": 61, \"1\": 3, \"10\": 7, \"13\": 1, \"5\": 4}, \"0\": {\"0\": 846, \"3\": 38, \"11\": 42, \"10\": 267, \"8\": 4, \"14\": 3}, \"9\": {\"9\": 1176, \"11\": 20, \"12\": 3, \"8\": 1}, \"4\": {\"4\": 644, \"3\": 180, \"2\": 102, \"5\": 202, \"13\": 3, \"1\": 61, \"14\": 7, \"6\": 1}, \"7\": {\"7\": 1124, \"1\": 9, \"15\": 60, \"5\": 7}, \"10\": {\"10\": 977, \"0\": 209, \"3\": 6, \"11\": 6, \"14\": 2}}, \"38\": {\"4\": {\"4\": 1121, \"12\": 78, \"7\": 1}, \"14\": {\"11\": 270, \"14\": 851, \"2\": 53, \"10\": 15, \"12\": 5, \"13\": 6}, \"5\": {\"8\": 304, \"5\": 504, \"7\": 76, \"3\": 28, \"0\": 119, \"15\": 45, \"6\": 55, \"1\": 19, \"9\": 29, \"13\": 14, \"10\": 7}, \"10\": {\"10\": 837, \"8\": 65, \"13\": 87, \"12\": 112, \"0\": 30, \"11\": 5, \"7\": 9, \"14\": 19, \"2\": 8, \"4\": 4, \"15\": 21, \"5\": 3}, \"13\": {\"15\": 374, \"13\": 657, \"1\": 36, \"10\": 77, \"8\": 23, \"2\": 27, \"14\": 2, \"5\": 3, \"0\": 1}, \"9\": {\"3\": 88, \"6\": 430, \"9\": 672, \"5\": 9, \"0\": 1}, \"6\": {\"6\": 880, \"9\": 292, \"5\": 18, \"3\": 8, \"0\": 1, \"8\": 1}, \"3\": {\"3\": 977, \"0\": 25, \"9\": 124, \"7\": 37, \"6\": 24, \"5\": 13}, \"15\": {\"15\": 683, \"13\": 324, \"1\": 102, \"8\": 50, \"0\": 4, \"5\": 20, \"10\": 16, \"2\": 1}, \"7\": {\"7\": 858, \"8\": 39, \"0\": 244, \"5\": 46, \"3\": 10, \"9\": 2, \"10\": 1}, \"12\": {\"12\": 1100, \"4\": 43, \"10\": 53, \"11\": 4}, \"8\": {\"0\": 181, \"15\": 38, \"5\": 270, \"8\": 644, \"10\": 32, \"7\": 27, \"13\": 5, \"6\": 2, \"1\": 1}, \"11\": {\"14\": 378, \"2\": 13, \"11\": 761, \"12\": 34, \"4\": 2, \"10\": 8, \"13\": 4}, \"2\": {\"2\": 1095, \"14\": 70, \"13\": 25, \"10\": 1, \"11\": 3, \"15\": 6}, \"1\": {\"15\": 72, \"1\": 1114, \"13\": 6, \"0\": 1, \"5\": 5, \"8\": 2}, \"0\": {\"0\": 335, \"3\": 44, \"8\": 315, \"10\": 49, \"7\": 300, \"5\": 150, \"9\": 2, \"6\": 2, \"12\": 1, \"15\": 1, \"13\": 1}}, \"44\": {\"8\": {\"0\": 400, \"8\": 741, \"15\": 44, \"5\": 15}, \"11\": {\"11\": 1018, \"13\": 113, \"6\": 69}, \"14\": {\"14\": 741, \"4\": 356, \"5\": 26, \"15\": 76, \"0\": 1}, \"10\": {\"10\": 806, \"2\": 119, \"12\": 145, \"1\": 126, \"3\": 3, \"7\": 1}, \"3\": {\"3\": 1061, \"1\": 123, \"12\": 11, \"7\": 2, \"2\": 3}, \"15\": {\"15\": 964, \"8\": 18, \"0\": 71, \"14\": 105, \"5\": 28, \"4\": 14}, \"2\": {\"2\": 823, \"1\": 70, \"7\": 187, \"10\": 106, \"3\": 8, \"9\": 4, \"12\": 2}, \"12\": {\"12\": 805, \"1\": 269, \"10\": 107, \"3\": 17, \"2\": 2}, \"4\": {\"4\": 848, \"14\": 343, \"15\": 8, \"13\": 1}, \"1\": {\"12\": 266, \"1\": 639, \"3\": 156, \"10\": 93, \"2\": 43, \"7\": 3}, \"0\": {\"0\": 707, \"15\": 84, \"8\": 335, \"5\": 72, \"14\": 2}, \"9\": {\"13\": 137, \"9\": 677, \"6\": 103, \"7\": 269, \"3\": 3, \"2\": 9, \"4\": 2}, \"5\": {\"5\": 991, \"0\": 104, \"15\": 49, \"14\": 46, \"4\": 2, \"8\": 8}, \"6\": {\"6\": 801, \"13\": 213, \"7\": 34, \"9\": 104, \"11\": 46, \"2\": 2}, \"7\": {\"2\": 205, \"9\": 254, \"7\": 685, \"6\": 37, \"13\": 4, \"3\": 11, \"1\": 2, \"10\": 2}, \"13\": {\"13\": 752, \"9\": 152, \"6\": 194, \"4\": 13, \"11\": 80, \"7\": 9}}, \"26\": {\"6\": {\"6\": 765, \"0\": 34, \"10\": 129, \"8\": 40, \"9\": 158, \"15\": 46, \"13\": 15, \"5\": 9, \"14\": 2, \"4\": 2}, \"11\": {\"11\": 1188, \"12\": 12}, \"5\": {\"5\": 521, \"2\": 63, \"15\": 246, \"9\": 107, \"13\": 216, \"7\": 14, \"3\": 4, \"8\": 19, \"10\": 1, \"6\": 9}, \"14\": {\"0\": 182, \"7\": 39, \"1\": 288, \"14\": 324, \"10\": 100, \"4\": 209, \"8\": 55, \"9\": 2, \"15\": 1}, \"2\": {\"2\": 415, \"7\": 156, \"5\": 98, \"3\": 374, \"8\": 43, \"15\": 75, \"9\": 22, \"13\": 4, \"1\": 2, \"4\": 5, \"0\": 2, \"6\": 2, \"14\": 1, \"10\": 1}, \"7\": {\"7\": 521, \"3\": 230, \"2\": 172, \"4\": 109, \"0\": 18, \"8\": 72, \"5\": 10, \"1\": 18, \"14\": 25, \"15\": 20, \"9\": 3, \"10\": 2}, \"3\": {\"3\": 640, \"7\": 245, \"2\": 292, \"8\": 7, \"4\": 5, \"1\": 4, \"5\": 2, \"15\": 3, \"14\": 1, \"0\": 1}, \"4\": {\"4\": 356, \"1\": 169, \"7\": 114, \"14\": 213, \"0\": 144, \"8\": 111, \"10\": 76, \"2\": 7, \"15\": 2, \"9\": 4, \"3\": 4}, \"9\": {\"0\": 13, \"8\": 143, \"6\": 171, \"9\": 399, \"5\": 100, \"15\": 259, \"13\": 50, \"2\": 13, \"7\": 12, \"3\": 2, \"10\": 35, \"4\": 2, \"14\": 1}, \"12\": {\"12\": 1196, \"11\": 4}, \"0\": {\"7\": 41, \"4\": 182, \"10\": 229, \"14\": 193, \"1\": 97, \"6\": 38, \"0\": 263, \"8\": 123, \"9\": 13, \"2\": 8, \"15\": 13}, \"10\": {\"8\": 148, \"0\": 261, \"10\": 399, \"6\": 117, \"14\": 97, \"9\": 37, \"4\": 78, \"1\": 33, \"15\": 17, \"7\": 12, \"2\": 1}, \"8\": {\"0\": 121, \"10\": 148, \"8\": 358, \"4\": 111, \"7\": 89, \"9\": 127, \"15\": 85, \"6\": 55, \"14\": 37, \"2\": 38, \"1\": 9, \"5\": 14, \"3\": 8}, \"13\": {\"13\": 816, \"5\": 212, \"15\": 79, \"2\": 34, \"6\": 15, \"9\": 40, \"8\": 1, \"7\": 1, \"3\": 2}, \"1\": {\"4\": 174, \"1\": 530, \"14\": 307, \"0\": 92, \"10\": 46, \"7\": 26, \"8\": 18, \"3\": 4, \"2\": 1, \"6\": 2}, \"15\": {\"2\": 50, \"13\": 60, \"8\": 125, \"15\": 332, \"9\": 303, \"5\": 235, \"6\": 41, \"10\": 17, \"7\": 26, \"1\": 1, \"0\": 6, \"3\": 2, \"14\": 1, \"4\": 1}}}, \"per_domain_accuracy\": {\"8\": {\"accuracy\": 0.6348958333333333, \"source?\": true}, \"50\": {\"accuracy\": 0.7186458333333333, \"source?\": true}, \"32\": {\"accuracy\": 0.7120833333333333, \"source?\": true}, \"20\": {\"accuracy\": 0.5119791666666667, \"source?\": false}, \"14\": {\"accuracy\": 0.7258333333333333, \"source?\": false}, \"38\": {\"accuracy\": 0.68171875, \"source?\": false}, \"44\": {\"accuracy\": 0.68015625, \"source?\": false}, \"26\": {\"accuracy\": 0.4699479166666667, \"source?\": false}}}, \"history\": {\"epoch_indices\": [1, 2, 3, 4, 5, 6, 7, 8, 9, 10], \"train_label_loss\": [1.4255196085335717, 0.9165455674297279, 0.7636651492887546, 0.6733895430583803, 0.5936836650204801, 0.5135476837863052, 0.4455697543723952, 0.38545986901089135, 0.33629127805801257, 0.2936435137322498], \"source_val_label_loss\": [1.129187822341919, 0.9024104475975037, 0.8779880404472351, 0.865550696849823, 0.8780136704444885, 0.9340770244598389, 0.945661187171936, 0.9863952398300171, 1.0330402851104736, 1.0785927772521973], \"target_val_label_loss\": [1.3774834871292114, 1.1069271564483643, 1.083103060722351, 1.0671045780181885, 1.06925368309021, 1.1073846817016602, 1.1268151998519897, 1.1699374914169312, 1.218624472618103, 1.2707452774047852], \"source_val_acc_label\": [0.57046875, 0.6589409722222223, 0.6677083333333333, 0.6723611111111111, 0.6878819444444444, 0.6885416666666667, 0.6748263888888889, 0.6890104166666666, 0.6839930555555556, 0.6816145833333334], \"target_val_acc_label\": [0.4789375, 0.58240625, 0.59121875, 0.59740625, 0.608625, 0.6139270833333333, 0.59953125, 0.6110625, 0.6039479166666667, 0.6010833333333333]}, \"dataset_metrics\": {\"source\": {\"train\": {\"n_unique_x\": 336000, \"n_unique_y\": 16, \"n_batch/episode\": 12600}, \"val\": {\"n_unique_x\": 72000, \"n_unique_y\": 16, \"n_batch/episode\": 1800}, \"test\": {\"n_unique_x\": 72000, \"n_unique_y\": 16, \"n_batch/episode\": 1800}}, \"target\": {\"train\": {\"n_unique_x\": 560000, \"n_unique_y\": 16, \"n_batch/episode\": 21000}, \"val\": {\"n_unique_x\": 120000, \"n_unique_y\": 16, \"n_batch/episode\": 3000}, \"test\": {\"n_unique_x\": 120000, \"n_unique_y\": 16, \"n_batch/episode\": 3000}}}}'"
      ]
     },
     "execution_count": 20,
     "metadata": {},
     "output_type": "execute_result"
    }
   ],
   "source": [
    "json.dumps(experiment)"
   ]
  }
 ],
 "metadata": {
  "celltoolbar": "Tags",
  "kernelspec": {
   "display_name": "Python 3 (ipykernel)",
   "language": "python",
   "name": "python3"
  },
  "language_info": {
   "codemirror_mode": {
    "name": "ipython",
    "version": 3
   },
   "file_extension": ".py",
   "mimetype": "text/x-python",
   "name": "python",
   "nbconvert_exporter": "python",
   "pygments_lexer": "ipython3",
   "version": "3.8.12"
  },
  "papermill": {
   "default_parameters": {},
   "duration": 5345.890019,
   "end_time": "2022-03-26T04:31:01.646846",
   "environment_variables": {},
   "exception": null,
   "input_path": "/root/csc500-main/csc500-notebooks/templates/ptn_template.ipynb",
   "output_path": "trial.ipynb",
   "parameters": {
    "parameters": {
     "BEST_MODEL_PATH": "./best_model.pth",
     "NUM_LOGS_PER_EPOCH": 10,
     "criteria_for_best": "target_accuracy",
     "dataset_seed": 500,
     "device": "cuda",
     "domains_source": [
      8,
      32,
      50
     ],
     "domains_target": [
      14,
      20,
      26,
      38,
      44
     ],
     "episode_transforms_source": [],
     "episode_transforms_target": [],
     "experiment_name": "tuned_1v2:oracle.run1_limited",
     "labels_source": [
      "3123D52",
      "3123D65",
      "3123D79",
      "3123D80",
      "3123D54",
      "3123D70",
      "3123D7B",
      "3123D89",
      "3123D58",
      "3123D76",
      "3123D7D",
      "3123EFE",
      "3123D64",
      "3123D78",
      "3123D7E",
      "3124E4A"
     ],
     "labels_target": [
      "3123D52",
      "3123D65",
      "3123D79",
      "3123D80",
      "3123D54",
      "3123D70",
      "3123D7B",
      "3123D89",
      "3123D58",
      "3123D76",
      "3123D7D",
      "3123EFE",
      "3123D64",
      "3123D78",
      "3123D7E",
      "3124E4A"
     ],
     "lr": 0.0001,
     "n_epoch": 50,
     "n_query": 2,
     "n_shot": 3,
     "n_way": 16,
     "num_examples_per_domain_per_label_source": -1,
     "num_examples_per_domain_per_label_target": -1,
     "patience": 3,
     "pickle_name": "oracle.Run1_10kExamples_stratified_ds.2022A.pkl",
     "seed": 500,
     "test_k_factor": 2,
     "torch_default_dtype": "torch.float32",
     "train_k_factor": 3,
     "val_k_factor": 2,
     "x_net": [
      {
       "class": "nnReshape",
       "kargs": {
        "shape": [
         -1,
         1,
         2,
         256
        ]
       }
      },
      {
       "class": "Conv2d",
       "kargs": {
        "bias": false,
        "in_channels": 1,
        "kernel_size": [
         1,
         7
        ],
        "out_channels": 256,
        "padding": [
         0,
         3
        ]
       }
      },
      {
       "class": "ReLU",
       "kargs": {
        "inplace": true
       }
      },
      {
       "class": "BatchNorm2d",
       "kargs": {
        "num_features": 256
       }
      },
      {
       "class": "Conv2d",
       "kargs": {
        "bias": true,
        "in_channels": 256,
        "kernel_size": [
         2,
         7
        ],
        "out_channels": 80,
        "padding": [
         0,
         3
        ]
       }
      },
      {
       "class": "ReLU",
       "kargs": {
        "inplace": true
       }
      },
      {
       "class": "BatchNorm2d",
       "kargs": {
        "num_features": 80
       }
      },
      {
       "class": "Flatten",
       "kargs": {}
      },
      {
       "class": "Linear",
       "kargs": {
        "in_features": 20480,
        "out_features": 256
       }
      },
      {
       "class": "ReLU",
       "kargs": {
        "inplace": true
       }
      },
      {
       "class": "BatchNorm1d",
       "kargs": {
        "num_features": 256
       }
      },
      {
       "class": "Linear",
       "kargs": {
        "in_features": 256,
        "out_features": 256
       }
      }
     ],
     "x_transforms_source": [
      "unit_mag"
     ],
     "x_transforms_target": [
      "unit_mag"
     ]
    }
   },
   "start_time": "2022-03-26T03:01:55.756827",
   "version": "2.3.4"
  }
 },
 "nbformat": 4,
 "nbformat_minor": 5
}