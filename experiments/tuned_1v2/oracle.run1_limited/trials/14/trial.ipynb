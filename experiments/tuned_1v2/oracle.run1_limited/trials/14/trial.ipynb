{
 "cells": [
  {
   "cell_type": "markdown",
   "id": "9fea5f46",
   "metadata": {
    "papermill": {
     "duration": 0.013997,
     "end_time": "2022-04-01T23:46:02.639924",
     "exception": false,
     "start_time": "2022-04-01T23:46:02.625927",
     "status": "completed"
    },
    "tags": []
   },
   "source": [
    "# PTN Template\n",
    "This notebook serves as a template for single dataset PTN experiments  \n",
    "It can be run on its own by setting STANDALONE to True (do a find for \"STANDALONE\" to see where)  \n",
    "But it is intended to be executed as part of a *papermill.py script. See any of the   \n",
    "experimentes with a papermill script to get started with that workflow.  "
   ]
  },
  {
   "cell_type": "code",
   "execution_count": 1,
   "id": "0902182a",
   "metadata": {
    "execution": {
     "iopub.execute_input": "2022-04-01T23:46:02.671215Z",
     "iopub.status.busy": "2022-04-01T23:46:02.664550Z",
     "iopub.status.idle": "2022-04-01T23:46:03.600326Z",
     "shell.execute_reply": "2022-04-01T23:46:03.600082Z"
    },
    "papermill": {
     "duration": 0.951489,
     "end_time": "2022-04-01T23:46:03.600384",
     "exception": false,
     "start_time": "2022-04-01T23:46:02.648895",
     "status": "completed"
    },
    "tags": []
   },
   "outputs": [],
   "source": [
    "%load_ext autoreload\n",
    "%autoreload 2\n",
    "%matplotlib inline\n",
    "\n",
    "    \n",
    "import os, json, sys, time, random\n",
    "import numpy as np\n",
    "import torch\n",
    "from torch.optim import Adam\n",
    "from  easydict import EasyDict\n",
    "import matplotlib.pyplot as plt\n",
    "\n",
    "from steves_models.steves_ptn import Steves_Prototypical_Network\n",
    "\n",
    "from steves_utils.lazy_iterable_wrapper import Lazy_Iterable_Wrapper\n",
    "from steves_utils.iterable_aggregator import Iterable_Aggregator\n",
    "from steves_utils.ptn_train_eval_test_jig import  PTN_Train_Eval_Test_Jig\n",
    "from steves_utils.torch_sequential_builder import build_sequential\n",
    "from steves_utils.torch_utils import get_dataset_metrics, ptn_confusion_by_domain_over_dataloader\n",
    "from steves_utils.utils_v2 import (per_domain_accuracy_from_confusion, get_datasets_base_path)\n",
    "from steves_utils.PTN.utils import independent_accuracy_assesment\n",
    "\n",
    "from steves_utils.stratified_dataset.episodic_accessor import Episodic_Accessor_Factory\n",
    "\n",
    "from steves_utils.ptn_do_report import (\n",
    "    get_loss_curve,\n",
    "    get_results_table,\n",
    "    get_parameters_table,\n",
    "    get_domain_accuracies,\n",
    ")\n",
    "\n",
    "from steves_utils.transforms import get_chained_transform"
   ]
  },
  {
   "cell_type": "markdown",
   "id": "41c840b4",
   "metadata": {
    "papermill": {
     "duration": 0.009197,
     "end_time": "2022-04-01T23:46:03.618903",
     "exception": false,
     "start_time": "2022-04-01T23:46:03.609706",
     "status": "completed"
    },
    "tags": []
   },
   "source": [
    "# Required Parameters\n",
    "These are allowed parameters, not defaults\n",
    "Each of these values need to be present in the injected parameters (the notebook will raise an exception if they are not present)\n",
    "\n",
    "Papermill uses the cell tag \"parameters\" to inject the real parameters below this cell.\n",
    "Enable tags to see what I mean"
   ]
  },
  {
   "cell_type": "code",
   "execution_count": 2,
   "id": "fd44eb83",
   "metadata": {
    "execution": {
     "iopub.execute_input": "2022-04-01T23:46:03.640744Z",
     "iopub.status.busy": "2022-04-01T23:46:03.640487Z",
     "iopub.status.idle": "2022-04-01T23:46:03.654978Z",
     "shell.execute_reply": "2022-04-01T23:46:03.654539Z"
    },
    "papermill": {
     "duration": 0.026969,
     "end_time": "2022-04-01T23:46:03.655074",
     "exception": false,
     "start_time": "2022-04-01T23:46:03.628105",
     "status": "completed"
    },
    "tags": []
   },
   "outputs": [],
   "source": [
    "required_parameters = {\n",
    "    \"experiment_name\",\n",
    "    \"lr\",\n",
    "    \"device\",\n",
    "    \"seed\",\n",
    "    \"dataset_seed\",\n",
    "    \"labels_source\",\n",
    "    \"labels_target\",\n",
    "    \"domains_source\",\n",
    "    \"domains_target\",\n",
    "    \"num_examples_per_domain_per_label_source\",\n",
    "    \"num_examples_per_domain_per_label_target\",\n",
    "    \"n_shot\",\n",
    "    \"n_way\",\n",
    "    \"n_query\",\n",
    "    \"train_k_factor\",\n",
    "    \"val_k_factor\",\n",
    "    \"test_k_factor\",\n",
    "    \"n_epoch\",\n",
    "    \"patience\",\n",
    "    \"criteria_for_best\",\n",
    "    \"x_transforms_source\",\n",
    "    \"x_transforms_target\",\n",
    "    \"episode_transforms_source\",\n",
    "    \"episode_transforms_target\",\n",
    "    \"pickle_name\",\n",
    "    \"x_net\",\n",
    "    \"NUM_LOGS_PER_EPOCH\",\n",
    "    \"BEST_MODEL_PATH\",\n",
    "    \"torch_default_dtype\"\n",
    "}"
   ]
  },
  {
   "cell_type": "code",
   "execution_count": 3,
   "id": "fa3f0049",
   "metadata": {
    "execution": {
     "iopub.execute_input": "2022-04-01T23:46:03.685808Z",
     "iopub.status.busy": "2022-04-01T23:46:03.685501Z",
     "iopub.status.idle": "2022-04-01T23:46:03.697555Z",
     "shell.execute_reply": "2022-04-01T23:46:03.697160Z"
    },
    "papermill": {
     "duration": 0.026968,
     "end_time": "2022-04-01T23:46:03.697651",
     "exception": false,
     "start_time": "2022-04-01T23:46:03.670683",
     "status": "completed"
    },
    "tags": [
     "parameters"
    ]
   },
   "outputs": [],
   "source": [
    "\n",
    "\n",
    "standalone_parameters = {}\n",
    "standalone_parameters[\"experiment_name\"] = \"STANDALONE PTN\"\n",
    "standalone_parameters[\"lr\"] = 0.0001\n",
    "standalone_parameters[\"device\"] = \"cuda\"\n",
    "\n",
    "standalone_parameters[\"seed\"] = 1337\n",
    "standalone_parameters[\"dataset_seed\"] = 1337\n",
    "\n",
    "\n",
    "standalone_parameters[\"num_examples_per_domain_per_label_source\"]=100\n",
    "standalone_parameters[\"num_examples_per_domain_per_label_target\"]=100\n",
    "\n",
    "standalone_parameters[\"n_shot\"] = 3\n",
    "standalone_parameters[\"n_query\"]  = 2\n",
    "standalone_parameters[\"train_k_factor\"] = 1\n",
    "standalone_parameters[\"val_k_factor\"] = 2\n",
    "standalone_parameters[\"test_k_factor\"] = 2\n",
    "\n",
    "\n",
    "standalone_parameters[\"n_epoch\"] = 100\n",
    "\n",
    "standalone_parameters[\"patience\"] = 10\n",
    "standalone_parameters[\"criteria_for_best\"] = \"target_accuracy\"\n",
    "\n",
    "standalone_parameters[\"x_transforms_source\"] = [\"unit_power\"]\n",
    "standalone_parameters[\"x_transforms_target\"] = [\"unit_power\"]\n",
    "standalone_parameters[\"episode_transforms_source\"] = []\n",
    "standalone_parameters[\"episode_transforms_target\"] = []\n",
    "\n",
    "standalone_parameters[\"torch_default_dtype\"] = \"torch.float32\" \n",
    "\n",
    "\n",
    "\n",
    "standalone_parameters[\"x_net\"] =     [\n",
    "    {\"class\": \"nnReshape\", \"kargs\": {\"shape\":[-1, 1, 2, 256]}},\n",
    "    {\"class\": \"Conv2d\", \"kargs\": { \"in_channels\":1, \"out_channels\":256, \"kernel_size\":(1,7), \"bias\":False, \"padding\":(0,3), },},\n",
    "    {\"class\": \"ReLU\", \"kargs\": {\"inplace\": True}},\n",
    "    {\"class\": \"BatchNorm2d\", \"kargs\": {\"num_features\":256}},\n",
    "\n",
    "    {\"class\": \"Conv2d\", \"kargs\": { \"in_channels\":256, \"out_channels\":80, \"kernel_size\":(2,7), \"bias\":True, \"padding\":(0,3), },},\n",
    "    {\"class\": \"ReLU\", \"kargs\": {\"inplace\": True}},\n",
    "    {\"class\": \"BatchNorm2d\", \"kargs\": {\"num_features\":80}},\n",
    "    {\"class\": \"Flatten\", \"kargs\": {}},\n",
    "\n",
    "    {\"class\": \"Linear\", \"kargs\": {\"in_features\": 80*256, \"out_features\": 256}}, # 80 units per IQ pair\n",
    "    {\"class\": \"ReLU\", \"kargs\": {\"inplace\": True}},\n",
    "    {\"class\": \"BatchNorm1d\", \"kargs\": {\"num_features\":256}},\n",
    "\n",
    "    {\"class\": \"Linear\", \"kargs\": {\"in_features\": 256, \"out_features\": 256}},\n",
    "]\n",
    "\n",
    "# Parameters relevant to results\n",
    "# These parameters will basically never need to change\n",
    "standalone_parameters[\"NUM_LOGS_PER_EPOCH\"] = 10\n",
    "standalone_parameters[\"BEST_MODEL_PATH\"] = \"./best_model.pth\"\n",
    "\n",
    "# uncomment for CORES dataset\n",
    "from steves_utils.CORES.utils import (\n",
    "    ALL_NODES,\n",
    "    ALL_NODES_MINIMUM_1000_EXAMPLES,\n",
    "    ALL_DAYS\n",
    ")\n",
    "\n",
    "\n",
    "standalone_parameters[\"labels_source\"] = ALL_NODES\n",
    "standalone_parameters[\"labels_target\"] = ALL_NODES\n",
    "\n",
    "standalone_parameters[\"domains_source\"] = [1]\n",
    "standalone_parameters[\"domains_target\"] = [2,3,4,5]\n",
    "\n",
    "standalone_parameters[\"pickle_name\"] = \"cores.stratified_ds.2022A.pkl\"\n",
    "\n",
    "\n",
    "# Uncomment these for ORACLE dataset\n",
    "# from steves_utils.ORACLE.utils_v2 import (\n",
    "#     ALL_DISTANCES_FEET,\n",
    "#     ALL_RUNS,\n",
    "#     ALL_SERIAL_NUMBERS,\n",
    "# )\n",
    "# standalone_parameters[\"labels_source\"] = ALL_SERIAL_NUMBERS\n",
    "# standalone_parameters[\"labels_target\"] = ALL_SERIAL_NUMBERS\n",
    "# standalone_parameters[\"domains_source\"] = [8,20, 38,50]\n",
    "# standalone_parameters[\"domains_target\"] = [14, 26, 32, 44, 56]\n",
    "# standalone_parameters[\"pickle_name\"] = \"oracle.frame_indexed.stratified_ds.2022A.pkl\"\n",
    "# standalone_parameters[\"num_examples_per_domain_per_label_source\"]=1000\n",
    "# standalone_parameters[\"num_examples_per_domain_per_label_target\"]=1000\n",
    "\n",
    "# Uncomment these for Metahan dataset\n",
    "# standalone_parameters[\"labels_source\"] = list(range(19))\n",
    "# standalone_parameters[\"labels_target\"] = list(range(19))\n",
    "# standalone_parameters[\"domains_source\"] = [0]\n",
    "# standalone_parameters[\"domains_target\"] = [1]\n",
    "# standalone_parameters[\"pickle_name\"] = \"metehan.stratified_ds.2022A.pkl\"\n",
    "# standalone_parameters[\"n_way\"]  = len(standalone_parameters[\"labels_source\"])\n",
    "# standalone_parameters[\"num_examples_per_domain_per_label_source\"]=200\n",
    "# standalone_parameters[\"num_examples_per_domain_per_label_target\"]=100\n",
    "\n",
    "\n",
    "standalone_parameters[\"n_way\"]  = len(standalone_parameters[\"labels_source\"])"
   ]
  },
  {
   "cell_type": "code",
   "execution_count": 4,
   "id": "23fd3202",
   "metadata": {
    "execution": {
     "iopub.execute_input": "2022-04-01T23:46:03.726296Z",
     "iopub.status.busy": "2022-04-01T23:46:03.726017Z",
     "iopub.status.idle": "2022-04-01T23:46:03.737151Z",
     "shell.execute_reply": "2022-04-01T23:46:03.736806Z"
    },
    "papermill": {
     "duration": 0.025105,
     "end_time": "2022-04-01T23:46:03.737219",
     "exception": false,
     "start_time": "2022-04-01T23:46:03.712114",
     "status": "completed"
    },
    "tags": [
     "injected-parameters"
    ]
   },
   "outputs": [],
   "source": [
    "# Parameters\n",
    "parameters = {\n",
    "    \"experiment_name\": \"tuned_1v2:oracle.run1_limited\",\n",
    "    \"device\": \"cuda\",\n",
    "    \"lr\": 0.0001,\n",
    "    \"labels_source\": [\n",
    "        \"3123D52\",\n",
    "        \"3123D65\",\n",
    "        \"3123D79\",\n",
    "        \"3123D80\",\n",
    "        \"3123D54\",\n",
    "        \"3123D70\",\n",
    "        \"3123D7B\",\n",
    "        \"3123D89\",\n",
    "        \"3123D58\",\n",
    "        \"3123D76\",\n",
    "        \"3123D7D\",\n",
    "        \"3123EFE\",\n",
    "        \"3123D64\",\n",
    "        \"3123D78\",\n",
    "        \"3123D7E\",\n",
    "        \"3124E4A\",\n",
    "    ],\n",
    "    \"labels_target\": [\n",
    "        \"3123D52\",\n",
    "        \"3123D65\",\n",
    "        \"3123D79\",\n",
    "        \"3123D80\",\n",
    "        \"3123D54\",\n",
    "        \"3123D70\",\n",
    "        \"3123D7B\",\n",
    "        \"3123D89\",\n",
    "        \"3123D58\",\n",
    "        \"3123D76\",\n",
    "        \"3123D7D\",\n",
    "        \"3123EFE\",\n",
    "        \"3123D64\",\n",
    "        \"3123D78\",\n",
    "        \"3123D7E\",\n",
    "        \"3124E4A\",\n",
    "    ],\n",
    "    \"episode_transforms_source\": [],\n",
    "    \"episode_transforms_target\": [],\n",
    "    \"domains_source\": [8, 32, 50],\n",
    "    \"domains_target\": [14, 20, 26, 38, 44],\n",
    "    \"num_examples_per_domain_per_label_source\": 2000,\n",
    "    \"num_examples_per_domain_per_label_target\": 2000,\n",
    "    \"n_shot\": 3,\n",
    "    \"n_way\": 16,\n",
    "    \"n_query\": 2,\n",
    "    \"train_k_factor\": 3,\n",
    "    \"val_k_factor\": 2,\n",
    "    \"test_k_factor\": 2,\n",
    "    \"torch_default_dtype\": \"torch.float32\",\n",
    "    \"n_epoch\": 50,\n",
    "    \"patience\": 3,\n",
    "    \"criteria_for_best\": \"target_accuracy\",\n",
    "    \"x_net\": [\n",
    "        {\"class\": \"nnReshape\", \"kargs\": {\"shape\": [-1, 1, 2, 256]}},\n",
    "        {\n",
    "            \"class\": \"Conv2d\",\n",
    "            \"kargs\": {\n",
    "                \"in_channels\": 1,\n",
    "                \"out_channels\": 256,\n",
    "                \"kernel_size\": [1, 7],\n",
    "                \"bias\": False,\n",
    "                \"padding\": [0, 3],\n",
    "            },\n",
    "        },\n",
    "        {\"class\": \"ReLU\", \"kargs\": {\"inplace\": True}},\n",
    "        {\"class\": \"BatchNorm2d\", \"kargs\": {\"num_features\": 256}},\n",
    "        {\n",
    "            \"class\": \"Conv2d\",\n",
    "            \"kargs\": {\n",
    "                \"in_channels\": 256,\n",
    "                \"out_channels\": 80,\n",
    "                \"kernel_size\": [2, 7],\n",
    "                \"bias\": True,\n",
    "                \"padding\": [0, 3],\n",
    "            },\n",
    "        },\n",
    "        {\"class\": \"ReLU\", \"kargs\": {\"inplace\": True}},\n",
    "        {\"class\": \"BatchNorm2d\", \"kargs\": {\"num_features\": 80}},\n",
    "        {\"class\": \"Flatten\", \"kargs\": {}},\n",
    "        {\"class\": \"Linear\", \"kargs\": {\"in_features\": 20480, \"out_features\": 256}},\n",
    "        {\"class\": \"ReLU\", \"kargs\": {\"inplace\": True}},\n",
    "        {\"class\": \"BatchNorm1d\", \"kargs\": {\"num_features\": 256}},\n",
    "        {\"class\": \"Linear\", \"kargs\": {\"in_features\": 256, \"out_features\": 256}},\n",
    "    ],\n",
    "    \"NUM_LOGS_PER_EPOCH\": 10,\n",
    "    \"BEST_MODEL_PATH\": \"./best_model.pth\",\n",
    "    \"pickle_name\": \"oracle.Run1_10kExamples_stratified_ds.2022A.pkl\",\n",
    "    \"x_transforms_source\": [],\n",
    "    \"x_transforms_target\": [],\n",
    "    \"dataset_seed\": 7,\n",
    "    \"seed\": 7,\n",
    "}\n"
   ]
  },
  {
   "cell_type": "code",
   "execution_count": 5,
   "id": "8fa1cc33",
   "metadata": {
    "execution": {
     "iopub.execute_input": "2022-04-01T23:46:03.763198Z",
     "iopub.status.busy": "2022-04-01T23:46:03.762944Z",
     "iopub.status.idle": "2022-04-01T23:46:03.773398Z",
     "shell.execute_reply": "2022-04-01T23:46:03.773745Z"
    },
    "papermill": {
     "duration": 0.023258,
     "end_time": "2022-04-01T23:46:03.773849",
     "exception": false,
     "start_time": "2022-04-01T23:46:03.750591",
     "status": "completed"
    },
    "tags": []
   },
   "outputs": [],
   "source": [
    "# Set this to True if you want to run this template directly\n",
    "STANDALONE = False\n",
    "if STANDALONE:\n",
    "    print(\"parameters not injected, running with standalone_parameters\")\n",
    "    parameters = standalone_parameters\n",
    "\n",
    "if not 'parameters' in locals() and not 'parameters' in globals():\n",
    "    raise Exception(\"Parameter injection failed\")\n",
    "\n",
    "#Use an easy dict for all the parameters\n",
    "p = EasyDict(parameters)\n",
    "\n",
    "supplied_keys = set(p.keys())\n",
    "\n",
    "if  supplied_keys != required_parameters:\n",
    "    print(\"Parameters are incorrect\")\n",
    "    if len(supplied_keys - required_parameters)>0: print(\"Shouldn't have:\", str(supplied_keys - required_parameters))\n",
    "    if len(required_parameters - supplied_keys)>0: print(\"Need to have:\", str(required_parameters - supplied_keys))\n",
    "    raise RuntimeError(\"Parameters are incorrect\")\n",
    "\n"
   ]
  },
  {
   "cell_type": "code",
   "execution_count": 6,
   "id": "3a028d58",
   "metadata": {
    "execution": {
     "iopub.execute_input": "2022-04-01T23:46:03.798723Z",
     "iopub.status.busy": "2022-04-01T23:46:03.798477Z",
     "iopub.status.idle": "2022-04-01T23:46:03.808732Z",
     "shell.execute_reply": "2022-04-01T23:46:03.808421Z"
    },
    "papermill": {
     "duration": 0.021276,
     "end_time": "2022-04-01T23:46:03.808807",
     "exception": false,
     "start_time": "2022-04-01T23:46:03.787531",
     "status": "completed"
    },
    "tags": []
   },
   "outputs": [],
   "source": [
    "###################################\n",
    "# Set the RNGs and make it all deterministic\n",
    "###################################\n",
    "np.random.seed(p.seed)\n",
    "random.seed(p.seed)\n",
    "torch.manual_seed(p.seed)\n",
    "\n",
    "torch.use_deterministic_algorithms(True) "
   ]
  },
  {
   "cell_type": "code",
   "execution_count": 7,
   "id": "b691acf6",
   "metadata": {
    "execution": {
     "iopub.execute_input": "2022-04-01T23:46:03.831527Z",
     "iopub.status.busy": "2022-04-01T23:46:03.831279Z",
     "iopub.status.idle": "2022-04-01T23:46:03.841499Z",
     "shell.execute_reply": "2022-04-01T23:46:03.841283Z"
    },
    "papermill": {
     "duration": 0.021389,
     "end_time": "2022-04-01T23:46:03.841547",
     "exception": false,
     "start_time": "2022-04-01T23:46:03.820158",
     "status": "completed"
    },
    "tags": []
   },
   "outputs": [],
   "source": [
    "###########################################\n",
    "# The stratified datasets honor this\n",
    "###########################################\n",
    "torch.set_default_dtype(eval(p.torch_default_dtype))"
   ]
  },
  {
   "cell_type": "code",
   "execution_count": 8,
   "id": "b5fba671",
   "metadata": {
    "execution": {
     "iopub.execute_input": "2022-04-01T23:46:03.864700Z",
     "iopub.status.busy": "2022-04-01T23:46:03.864451Z",
     "iopub.status.idle": "2022-04-01T23:46:03.900348Z",
     "shell.execute_reply": "2022-04-01T23:46:03.899967Z"
    },
    "papermill": {
     "duration": 0.047014,
     "end_time": "2022-04-01T23:46:03.900435",
     "exception": false,
     "start_time": "2022-04-01T23:46:03.853421",
     "status": "completed"
    },
    "tags": []
   },
   "outputs": [],
   "source": [
    "###################################\n",
    "# Build the network(s)\n",
    "# Note: It's critical to do this AFTER setting the RNG\n",
    "# (This is due to the randomized initial weights)\n",
    "###################################\n",
    "x_net = build_sequential(p.x_net)"
   ]
  },
  {
   "cell_type": "code",
   "execution_count": 9,
   "id": "5d7e61cc",
   "metadata": {
    "execution": {
     "iopub.execute_input": "2022-04-01T23:46:03.928162Z",
     "iopub.status.busy": "2022-04-01T23:46:03.927922Z",
     "iopub.status.idle": "2022-04-01T23:46:03.943984Z",
     "shell.execute_reply": "2022-04-01T23:46:03.943542Z"
    },
    "papermill": {
     "duration": 0.027191,
     "end_time": "2022-04-01T23:46:03.944083",
     "exception": false,
     "start_time": "2022-04-01T23:46:03.916892",
     "status": "completed"
    },
    "tags": []
   },
   "outputs": [],
   "source": [
    "start_time_secs = time.time()"
   ]
  },
  {
   "cell_type": "code",
   "execution_count": 10,
   "id": "fd5442bc",
   "metadata": {
    "execution": {
     "iopub.execute_input": "2022-04-01T23:46:03.977941Z",
     "iopub.status.busy": "2022-04-01T23:46:03.977672Z",
     "iopub.status.idle": "2022-04-01T23:46:07.700112Z",
     "shell.execute_reply": "2022-04-01T23:46:07.699857Z"
    },
    "papermill": {
     "duration": 3.740988,
     "end_time": "2022-04-01T23:46:07.700177",
     "exception": false,
     "start_time": "2022-04-01T23:46:03.959189",
     "status": "completed"
    },
    "tags": []
   },
   "outputs": [],
   "source": [
    "###################################\n",
    "# Build the dataset\n",
    "###################################\n",
    "\n",
    "if p.x_transforms_source == []: x_transform_source = None\n",
    "else: x_transform_source = get_chained_transform(p.x_transforms_source) \n",
    "\n",
    "if p.x_transforms_target == []: x_transform_target = None\n",
    "else: x_transform_target = get_chained_transform(p.x_transforms_target)\n",
    "\n",
    "if p.episode_transforms_source == []: episode_transform_source = None\n",
    "else: raise Exception(\"episode_transform_source not implemented\")\n",
    "\n",
    "if p.episode_transforms_target == []: episode_transform_target = None\n",
    "else: raise Exception(\"episode_transform_target not implemented\")\n",
    "\n",
    "\n",
    "eaf_source = Episodic_Accessor_Factory(\n",
    "    labels=p.labels_source,\n",
    "    domains=p.domains_source,\n",
    "    num_examples_per_domain_per_label=p.num_examples_per_domain_per_label_source,\n",
    "    iterator_seed=p.seed,\n",
    "    dataset_seed=p.dataset_seed,\n",
    "    n_shot=p.n_shot,\n",
    "    n_way=p.n_way,\n",
    "    n_query=p.n_query,\n",
    "    train_val_test_k_factors=(p.train_k_factor,p.val_k_factor,p.test_k_factor),\n",
    "    pickle_path=os.path.join(get_datasets_base_path(), p.pickle_name),\n",
    "    x_transform_func=x_transform_source,\n",
    "    example_transform_func=episode_transform_source,\n",
    "    \n",
    ")\n",
    "train_original_source, val_original_source, test_original_source = eaf_source.get_train(), eaf_source.get_val(), eaf_source.get_test()\n",
    "\n",
    "\n",
    "eaf_target = Episodic_Accessor_Factory(\n",
    "    labels=p.labels_target,\n",
    "    domains=p.domains_target,\n",
    "    num_examples_per_domain_per_label=p.num_examples_per_domain_per_label_target,\n",
    "    iterator_seed=p.seed,\n",
    "    dataset_seed=p.dataset_seed,\n",
    "    n_shot=p.n_shot,\n",
    "    n_way=p.n_way,\n",
    "    n_query=p.n_query,\n",
    "    train_val_test_k_factors=(p.train_k_factor,p.val_k_factor,p.test_k_factor),\n",
    "    pickle_path=os.path.join(get_datasets_base_path(), p.pickle_name),\n",
    "    x_transform_func=x_transform_target,\n",
    "    example_transform_func=episode_transform_target,\n",
    ")\n",
    "train_original_target, val_original_target, test_original_target = eaf_target.get_train(), eaf_target.get_val(), eaf_target.get_test()\n",
    "\n",
    "\n",
    "transform_lambda = lambda ex: ex[1] # Original is (<domain>, <episode>) so we strip down to episode only\n",
    "\n",
    "train_processed_source = Lazy_Iterable_Wrapper(train_original_source, transform_lambda)\n",
    "val_processed_source   = Lazy_Iterable_Wrapper(val_original_source, transform_lambda)\n",
    "test_processed_source  = Lazy_Iterable_Wrapper(test_original_source, transform_lambda)\n",
    "\n",
    "train_processed_target = Lazy_Iterable_Wrapper(train_original_target, transform_lambda)\n",
    "val_processed_target   = Lazy_Iterable_Wrapper(val_original_target, transform_lambda)\n",
    "test_processed_target  = Lazy_Iterable_Wrapper(test_original_target, transform_lambda)\n",
    "\n",
    "datasets = EasyDict({\n",
    "    \"source\": {\n",
    "        \"original\": {\"train\":train_original_source, \"val\":val_original_source, \"test\":test_original_source},\n",
    "        \"processed\": {\"train\":train_processed_source, \"val\":val_processed_source, \"test\":test_processed_source}\n",
    "    },\n",
    "    \"target\": {\n",
    "        \"original\": {\"train\":train_original_target, \"val\":val_original_target, \"test\":test_original_target},\n",
    "        \"processed\": {\"train\":train_processed_target, \"val\":val_processed_target, \"test\":test_processed_target}\n",
    "    },\n",
    "})"
   ]
  },
  {
   "cell_type": "code",
   "execution_count": 11,
   "id": "296189d9",
   "metadata": {
    "execution": {
     "iopub.execute_input": "2022-04-01T23:46:07.725255Z",
     "iopub.status.busy": "2022-04-01T23:46:07.725003Z",
     "iopub.status.idle": "2022-04-01T23:46:09.319940Z",
     "shell.execute_reply": "2022-04-01T23:46:09.320393Z"
    },
    "papermill": {
     "duration": 1.60795,
     "end_time": "2022-04-01T23:46:09.320536",
     "exception": false,
     "start_time": "2022-04-01T23:46:07.712586",
     "status": "completed"
    },
    "tags": []
   },
   "outputs": [
    {
     "name": "stdout",
     "output_type": "stream",
     "text": [
      "Visually inspect these to see if they line up with expected values given the transforms\n",
      "x_transforms_source []\n",
      "x_transforms_target []\n",
      "Average magnitude, source: 0.002470277\n",
      "Average power, source: 7.61927e-06\n"
     ]
    },
    {
     "name": "stdout",
     "output_type": "stream",
     "text": [
      "Average magnitude, target: 0.0032094056\n",
      "Average power, target: 1.2897651e-05\n"
     ]
    }
   ],
   "source": [
    "# Some quick unit tests on the data\n",
    "from steves_utils.transforms import get_average_power, get_average_magnitude\n",
    "\n",
    "q_x, q_y, s_x, s_y, truth = next(iter(train_processed_source))\n",
    "\n",
    "assert q_x.dtype == eval(p.torch_default_dtype)\n",
    "assert s_x.dtype == eval(p.torch_default_dtype)\n",
    "\n",
    "print(\"Visually inspect these to see if they line up with expected values given the transforms\")\n",
    "print('x_transforms_source', p.x_transforms_source)\n",
    "print('x_transforms_target', p.x_transforms_target)\n",
    "print(\"Average magnitude, source:\", get_average_magnitude(q_x[0].numpy()))\n",
    "print(\"Average power, source:\", get_average_power(q_x[0].numpy()))\n",
    "\n",
    "q_x, q_y, s_x, s_y, truth = next(iter(train_processed_target))\n",
    "print(\"Average magnitude, target:\", get_average_magnitude(q_x[0].numpy()))\n",
    "print(\"Average power, target:\", get_average_power(q_x[0].numpy()))\n"
   ]
  },
  {
   "cell_type": "code",
   "execution_count": 12,
   "id": "bbdacba1",
   "metadata": {
    "execution": {
     "iopub.execute_input": "2022-04-01T23:46:09.353324Z",
     "iopub.status.busy": "2022-04-01T23:46:09.353068Z",
     "iopub.status.idle": "2022-04-01T23:46:09.415040Z",
     "shell.execute_reply": "2022-04-01T23:46:09.415248Z"
    },
    "papermill": {
     "duration": 0.076189,
     "end_time": "2022-04-01T23:46:09.415313",
     "exception": false,
     "start_time": "2022-04-01T23:46:09.339124",
     "status": "completed"
    },
    "tags": []
   },
   "outputs": [
    {
     "name": "stdout",
     "output_type": "stream",
     "text": [
      "(2, 256)\n"
     ]
    }
   ],
   "source": [
    "###################################\n",
    "# Build the model\n",
    "###################################\n",
    "model = Steves_Prototypical_Network(x_net, device=p.device, x_shape=(2,256))\n",
    "optimizer = Adam(params=model.parameters(), lr=p.lr)"
   ]
  },
  {
   "cell_type": "code",
   "execution_count": 13,
   "id": "22b39ac5",
   "metadata": {
    "execution": {
     "iopub.execute_input": "2022-04-01T23:46:09.438536Z",
     "iopub.status.busy": "2022-04-01T23:46:09.438281Z",
     "iopub.status.idle": "2022-04-02T00:00:25.725357Z",
     "shell.execute_reply": "2022-04-02T00:00:25.725128Z"
    },
    "papermill": {
     "duration": 856.299459,
     "end_time": "2022-04-02T00:00:25.725415",
     "exception": false,
     "start_time": "2022-04-01T23:46:09.425956",
     "status": "completed"
    },
    "tags": []
   },
   "outputs": [
    {
     "name": "stdout",
     "output_type": "stream",
     "text": [
      "epoch: 1, [batch: 1 / 2520], examples_per_second: 128.6256, train_label_loss: 2.6967, \n"
     ]
    },
    {
     "name": "stdout",
     "output_type": "stream",
     "text": [
      "epoch: 1, [batch: 252 / 2520], examples_per_second: 3147.3015, train_label_loss: 1.4449, \n"
     ]
    },
    {
     "name": "stdout",
     "output_type": "stream",
     "text": [
      "epoch: 1, [batch: 504 / 2520], examples_per_second: 3149.3230, train_label_loss: 1.0674, \n"
     ]
    },
    {
     "name": "stdout",
     "output_type": "stream",
     "text": [
      "epoch: 1, [batch: 756 / 2520], examples_per_second: 3154.9341, train_label_loss: 1.1109, \n"
     ]
    },
    {
     "name": "stdout",
     "output_type": "stream",
     "text": [
      "epoch: 1, [batch: 1008 / 2520], examples_per_second: 3144.6489, train_label_loss: 1.3061, \n"
     ]
    },
    {
     "name": "stdout",
     "output_type": "stream",
     "text": [
      "epoch: 1, [batch: 1260 / 2520], examples_per_second: 3156.2533, train_label_loss: 1.1852, \n"
     ]
    },
    {
     "name": "stdout",
     "output_type": "stream",
     "text": [
      "epoch: 1, [batch: 1512 / 2520], examples_per_second: 3163.4131, train_label_loss: 1.1363, \n"
     ]
    },
    {
     "name": "stdout",
     "output_type": "stream",
     "text": [
      "epoch: 1, [batch: 1764 / 2520], examples_per_second: 3140.9963, train_label_loss: 0.7278, \n"
     ]
    },
    {
     "name": "stdout",
     "output_type": "stream",
     "text": [
      "epoch: 1, [batch: 2016 / 2520], examples_per_second: 3159.6065, train_label_loss: 0.8576, \n"
     ]
    },
    {
     "name": "stdout",
     "output_type": "stream",
     "text": [
      "epoch: 1, [batch: 2268 / 2520], examples_per_second: 3156.7828, train_label_loss: 0.9834, \n"
     ]
    },
    {
     "name": "stdout",
     "output_type": "stream",
     "text": [
      "=============================================================\n",
      "epoch: 1, source_val_acc_label: 0.6220, target_val_acc_label: 0.5364, source_val_label_loss: 1.3869, target_val_label_loss: 1.5582, \n",
      "=============================================================\n"
     ]
    },
    {
     "name": "stdout",
     "output_type": "stream",
     "text": [
      "New best\n"
     ]
    },
    {
     "name": "stdout",
     "output_type": "stream",
     "text": [
      "epoch: 2, [batch: 1 / 2520], examples_per_second: 11.1505, train_label_loss: 1.5933, \n"
     ]
    },
    {
     "name": "stdout",
     "output_type": "stream",
     "text": [
      "epoch: 2, [batch: 252 / 2520], examples_per_second: 3187.0618, train_label_loss: 0.5764, \n"
     ]
    },
    {
     "name": "stdout",
     "output_type": "stream",
     "text": [
      "epoch: 2, [batch: 504 / 2520], examples_per_second: 3196.8736, train_label_loss: 0.4906, \n"
     ]
    },
    {
     "name": "stdout",
     "output_type": "stream",
     "text": [
      "epoch: 2, [batch: 756 / 2520], examples_per_second: 3185.0041, train_label_loss: 0.4908, \n"
     ]
    },
    {
     "name": "stdout",
     "output_type": "stream",
     "text": [
      "epoch: 2, [batch: 1008 / 2520], examples_per_second: 3172.4196, train_label_loss: 0.8519, \n"
     ]
    },
    {
     "name": "stdout",
     "output_type": "stream",
     "text": [
      "epoch: 2, [batch: 1260 / 2520], examples_per_second: 3210.6393, train_label_loss: 0.7725, \n"
     ]
    },
    {
     "name": "stdout",
     "output_type": "stream",
     "text": [
      "epoch: 2, [batch: 1512 / 2520], examples_per_second: 3188.3886, train_label_loss: 1.0746, \n"
     ]
    },
    {
     "name": "stdout",
     "output_type": "stream",
     "text": [
      "epoch: 2, [batch: 1764 / 2520], examples_per_second: 3192.8720, train_label_loss: 0.5724, \n"
     ]
    },
    {
     "name": "stdout",
     "output_type": "stream",
     "text": [
      "epoch: 2, [batch: 2016 / 2520], examples_per_second: 3179.6091, train_label_loss: 0.8078, \n"
     ]
    },
    {
     "name": "stdout",
     "output_type": "stream",
     "text": [
      "epoch: 2, [batch: 2268 / 2520], examples_per_second: 3204.1009, train_label_loss: 0.5234, \n"
     ]
    },
    {
     "name": "stdout",
     "output_type": "stream",
     "text": [
      "=============================================================\n",
      "epoch: 2, source_val_acc_label: 0.7312, target_val_acc_label: 0.6214, source_val_label_loss: 0.7290, target_val_label_loss: 1.0505, \n",
      "=============================================================\n"
     ]
    },
    {
     "name": "stdout",
     "output_type": "stream",
     "text": [
      "New best\n"
     ]
    },
    {
     "name": "stdout",
     "output_type": "stream",
     "text": [
      "epoch: 3, [batch: 1 / 2520], examples_per_second: 11.1060, train_label_loss: 0.4445, \n"
     ]
    },
    {
     "name": "stdout",
     "output_type": "stream",
     "text": [
      "epoch: 3, [batch: 252 / 2520], examples_per_second: 3208.5784, train_label_loss: 0.6897, \n"
     ]
    },
    {
     "name": "stdout",
     "output_type": "stream",
     "text": [
      "epoch: 3, [batch: 504 / 2520], examples_per_second: 3184.2045, train_label_loss: 0.7651, \n"
     ]
    },
    {
     "name": "stdout",
     "output_type": "stream",
     "text": [
      "epoch: 3, [batch: 756 / 2520], examples_per_second: 3174.6604, train_label_loss: 0.5529, \n"
     ]
    },
    {
     "name": "stdout",
     "output_type": "stream",
     "text": [
      "epoch: 3, [batch: 1008 / 2520], examples_per_second: 3164.0110, train_label_loss: 0.6191, \n"
     ]
    },
    {
     "name": "stdout",
     "output_type": "stream",
     "text": [
      "epoch: 3, [batch: 1260 / 2520], examples_per_second: 3179.0080, train_label_loss: 0.5323, \n"
     ]
    },
    {
     "name": "stdout",
     "output_type": "stream",
     "text": [
      "epoch: 3, [batch: 1512 / 2520], examples_per_second: 3196.7571, train_label_loss: 0.3953, \n"
     ]
    },
    {
     "name": "stdout",
     "output_type": "stream",
     "text": [
      "epoch: 3, [batch: 1764 / 2520], examples_per_second: 3181.5176, train_label_loss: 0.5480, \n"
     ]
    },
    {
     "name": "stdout",
     "output_type": "stream",
     "text": [
      "epoch: 3, [batch: 2016 / 2520], examples_per_second: 3200.1376, train_label_loss: 0.3413, \n"
     ]
    },
    {
     "name": "stdout",
     "output_type": "stream",
     "text": [
      "epoch: 3, [batch: 2268 / 2520], examples_per_second: 3188.4453, train_label_loss: 0.7691, \n"
     ]
    },
    {
     "name": "stdout",
     "output_type": "stream",
     "text": [
      "=============================================================\n",
      "epoch: 3, source_val_acc_label: 0.7582, target_val_acc_label: 0.6441, source_val_label_loss: 0.6587, target_val_label_loss: 1.0621, \n",
      "=============================================================\n"
     ]
    },
    {
     "name": "stdout",
     "output_type": "stream",
     "text": [
      "New best\n"
     ]
    },
    {
     "name": "stdout",
     "output_type": "stream",
     "text": [
      "epoch: 4, [batch: 1 / 2520], examples_per_second: 11.1226, train_label_loss: 0.3662, \n"
     ]
    },
    {
     "name": "stdout",
     "output_type": "stream",
     "text": [
      "epoch: 4, [batch: 252 / 2520], examples_per_second: 3172.2658, train_label_loss: 0.2649, \n"
     ]
    },
    {
     "name": "stdout",
     "output_type": "stream",
     "text": [
      "epoch: 4, [batch: 504 / 2520], examples_per_second: 3181.1774, train_label_loss: 0.6926, \n"
     ]
    },
    {
     "name": "stdout",
     "output_type": "stream",
     "text": [
      "epoch: 4, [batch: 756 / 2520], examples_per_second: 3193.8218, train_label_loss: 0.3249, \n"
     ]
    },
    {
     "name": "stdout",
     "output_type": "stream",
     "text": [
      "epoch: 4, [batch: 1008 / 2520], examples_per_second: 3183.5828, train_label_loss: 0.6741, \n"
     ]
    },
    {
     "name": "stdout",
     "output_type": "stream",
     "text": [
      "epoch: 4, [batch: 1260 / 2520], examples_per_second: 3201.5207, train_label_loss: 0.4695, \n"
     ]
    },
    {
     "name": "stdout",
     "output_type": "stream",
     "text": [
      "epoch: 4, [batch: 1512 / 2520], examples_per_second: 3195.0206, train_label_loss: 0.2126, \n"
     ]
    },
    {
     "name": "stdout",
     "output_type": "stream",
     "text": [
      "epoch: 4, [batch: 1764 / 2520], examples_per_second: 3176.9241, train_label_loss: 0.3938, \n"
     ]
    },
    {
     "name": "stdout",
     "output_type": "stream",
     "text": [
      "epoch: 4, [batch: 2016 / 2520], examples_per_second: 3201.7804, train_label_loss: 0.5197, \n"
     ]
    },
    {
     "name": "stdout",
     "output_type": "stream",
     "text": [
      "epoch: 4, [batch: 2268 / 2520], examples_per_second: 3193.8310, train_label_loss: 0.2076, \n"
     ]
    },
    {
     "name": "stdout",
     "output_type": "stream",
     "text": [
      "=============================================================\n",
      "epoch: 4, source_val_acc_label: 0.7513, target_val_acc_label: 0.6445, source_val_label_loss: 0.6868, target_val_label_loss: 1.0790, \n",
      "=============================================================\n"
     ]
    },
    {
     "name": "stdout",
     "output_type": "stream",
     "text": [
      "New best\n"
     ]
    },
    {
     "name": "stdout",
     "output_type": "stream",
     "text": [
      "epoch: 5, [batch: 1 / 2520], examples_per_second: 11.1171, train_label_loss: 0.2482, \n"
     ]
    },
    {
     "name": "stdout",
     "output_type": "stream",
     "text": [
      "epoch: 5, [batch: 252 / 2520], examples_per_second: 3189.2199, train_label_loss: 0.2244, \n"
     ]
    },
    {
     "name": "stdout",
     "output_type": "stream",
     "text": [
      "epoch: 5, [batch: 504 / 2520], examples_per_second: 3180.2773, train_label_loss: 0.3990, \n"
     ]
    },
    {
     "name": "stdout",
     "output_type": "stream",
     "text": [
      "epoch: 5, [batch: 756 / 2520], examples_per_second: 3188.2784, train_label_loss: 0.6357, \n"
     ]
    },
    {
     "name": "stdout",
     "output_type": "stream",
     "text": [
      "epoch: 5, [batch: 1008 / 2520], examples_per_second: 3168.7878, train_label_loss: 0.2572, \n"
     ]
    },
    {
     "name": "stdout",
     "output_type": "stream",
     "text": [
      "epoch: 5, [batch: 1260 / 2520], examples_per_second: 3189.4038, train_label_loss: 0.4200, \n"
     ]
    },
    {
     "name": "stdout",
     "output_type": "stream",
     "text": [
      "epoch: 5, [batch: 1512 / 2520], examples_per_second: 3178.4410, train_label_loss: 0.5958, \n"
     ]
    },
    {
     "name": "stdout",
     "output_type": "stream",
     "text": [
      "epoch: 5, [batch: 1764 / 2520], examples_per_second: 3165.8285, train_label_loss: 0.2856, \n"
     ]
    },
    {
     "name": "stdout",
     "output_type": "stream",
     "text": [
      "epoch: 5, [batch: 2016 / 2520], examples_per_second: 3178.8320, train_label_loss: 0.3995, \n"
     ]
    },
    {
     "name": "stdout",
     "output_type": "stream",
     "text": [
      "epoch: 5, [batch: 2268 / 2520], examples_per_second: 3185.5286, train_label_loss: 0.1653, \n"
     ]
    },
    {
     "name": "stdout",
     "output_type": "stream",
     "text": [
      "=============================================================\n",
      "epoch: 5, source_val_acc_label: 0.7619, target_val_acc_label: 0.6453, source_val_label_loss: 0.6584, target_val_label_loss: 1.0793, \n",
      "=============================================================\n"
     ]
    },
    {
     "name": "stdout",
     "output_type": "stream",
     "text": [
      "New best\n"
     ]
    },
    {
     "name": "stdout",
     "output_type": "stream",
     "text": [
      "epoch: 6, [batch: 1 / 2520], examples_per_second: 11.0770, train_label_loss: 0.2798, \n"
     ]
    },
    {
     "name": "stdout",
     "output_type": "stream",
     "text": [
      "epoch: 6, [batch: 252 / 2520], examples_per_second: 3179.0186, train_label_loss: 0.4417, \n"
     ]
    },
    {
     "name": "stdout",
     "output_type": "stream",
     "text": [
      "epoch: 6, [batch: 504 / 2520], examples_per_second: 3188.5935, train_label_loss: 0.5570, \n"
     ]
    },
    {
     "name": "stdout",
     "output_type": "stream",
     "text": [
      "epoch: 6, [batch: 756 / 2520], examples_per_second: 3200.3267, train_label_loss: 0.6612, \n"
     ]
    },
    {
     "name": "stdout",
     "output_type": "stream",
     "text": [
      "epoch: 6, [batch: 1008 / 2520], examples_per_second: 3189.0513, train_label_loss: 0.0882, \n"
     ]
    },
    {
     "name": "stdout",
     "output_type": "stream",
     "text": [
      "epoch: 6, [batch: 1260 / 2520], examples_per_second: 3191.4322, train_label_loss: 0.3549, \n"
     ]
    },
    {
     "name": "stdout",
     "output_type": "stream",
     "text": [
      "epoch: 6, [batch: 1512 / 2520], examples_per_second: 3183.2588, train_label_loss: 0.6047, \n"
     ]
    },
    {
     "name": "stdout",
     "output_type": "stream",
     "text": [
      "epoch: 6, [batch: 1764 / 2520], examples_per_second: 3158.2599, train_label_loss: 0.4518, \n"
     ]
    },
    {
     "name": "stdout",
     "output_type": "stream",
     "text": [
      "epoch: 6, [batch: 2016 / 2520], examples_per_second: 3169.5434, train_label_loss: 0.3158, \n"
     ]
    },
    {
     "name": "stdout",
     "output_type": "stream",
     "text": [
      "epoch: 6, [batch: 2268 / 2520], examples_per_second: 3165.2324, train_label_loss: 0.1997, \n"
     ]
    },
    {
     "name": "stdout",
     "output_type": "stream",
     "text": [
      "=============================================================\n",
      "epoch: 6, source_val_acc_label: 0.7660, target_val_acc_label: 0.6463, source_val_label_loss: 0.6904, target_val_label_loss: 1.1301, \n",
      "=============================================================\n"
     ]
    },
    {
     "name": "stdout",
     "output_type": "stream",
     "text": [
      "New best\n"
     ]
    },
    {
     "name": "stdout",
     "output_type": "stream",
     "text": [
      "epoch: 7, [batch: 1 / 2520], examples_per_second: 11.1116, train_label_loss: 0.3907, \n"
     ]
    },
    {
     "name": "stdout",
     "output_type": "stream",
     "text": [
      "epoch: 7, [batch: 252 / 2520], examples_per_second: 3192.7335, train_label_loss: 0.5226, \n"
     ]
    },
    {
     "name": "stdout",
     "output_type": "stream",
     "text": [
      "epoch: 7, [batch: 504 / 2520], examples_per_second: 3182.5263, train_label_loss: 0.2322, \n"
     ]
    },
    {
     "name": "stdout",
     "output_type": "stream",
     "text": [
      "epoch: 7, [batch: 756 / 2520], examples_per_second: 3189.3060, train_label_loss: 0.1299, \n"
     ]
    },
    {
     "name": "stdout",
     "output_type": "stream",
     "text": [
      "epoch: 7, [batch: 1008 / 2520], examples_per_second: 3170.7177, train_label_loss: 0.3279, \n"
     ]
    },
    {
     "name": "stdout",
     "output_type": "stream",
     "text": [
      "epoch: 7, [batch: 1260 / 2520], examples_per_second: 3201.9402, train_label_loss: 0.1553, \n"
     ]
    },
    {
     "name": "stdout",
     "output_type": "stream",
     "text": [
      "epoch: 7, [batch: 1512 / 2520], examples_per_second: 3178.4511, train_label_loss: 0.3923, \n"
     ]
    },
    {
     "name": "stdout",
     "output_type": "stream",
     "text": [
      "epoch: 7, [batch: 1764 / 2520], examples_per_second: 3170.3994, train_label_loss: 0.4395, \n"
     ]
    },
    {
     "name": "stdout",
     "output_type": "stream",
     "text": [
      "epoch: 7, [batch: 2016 / 2520], examples_per_second: 3162.2777, train_label_loss: 0.1776, \n"
     ]
    },
    {
     "name": "stdout",
     "output_type": "stream",
     "text": [
      "epoch: 7, [batch: 2268 / 2520], examples_per_second: 3174.1246, train_label_loss: 0.3469, \n"
     ]
    },
    {
     "name": "stdout",
     "output_type": "stream",
     "text": [
      "=============================================================\n",
      "epoch: 7, source_val_acc_label: 0.7812, target_val_acc_label: 0.6746, source_val_label_loss: 0.7231, target_val_label_loss: 1.1375, \n",
      "=============================================================\n"
     ]
    },
    {
     "name": "stdout",
     "output_type": "stream",
     "text": [
      "New best\n"
     ]
    },
    {
     "name": "stdout",
     "output_type": "stream",
     "text": [
      "epoch: 8, [batch: 1 / 2520], examples_per_second: 11.1455, train_label_loss: 0.7966, \n"
     ]
    },
    {
     "name": "stdout",
     "output_type": "stream",
     "text": [
      "epoch: 8, [batch: 252 / 2520], examples_per_second: 3176.5636, train_label_loss: 0.2401, \n"
     ]
    },
    {
     "name": "stdout",
     "output_type": "stream",
     "text": [
      "epoch: 8, [batch: 504 / 2520], examples_per_second: 3185.0527, train_label_loss: 0.1744, \n"
     ]
    },
    {
     "name": "stdout",
     "output_type": "stream",
     "text": [
      "epoch: 8, [batch: 756 / 2520], examples_per_second: 3191.4164, train_label_loss: 0.3251, \n"
     ]
    },
    {
     "name": "stdout",
     "output_type": "stream",
     "text": [
      "epoch: 8, [batch: 1008 / 2520], examples_per_second: 3193.2579, train_label_loss: 0.1239, \n"
     ]
    },
    {
     "name": "stdout",
     "output_type": "stream",
     "text": [
      "epoch: 8, [batch: 1260 / 2520], examples_per_second: 3177.2139, train_label_loss: 0.1281, \n"
     ]
    },
    {
     "name": "stdout",
     "output_type": "stream",
     "text": [
      "epoch: 8, [batch: 1512 / 2520], examples_per_second: 3158.6711, train_label_loss: 0.0635, \n"
     ]
    },
    {
     "name": "stdout",
     "output_type": "stream",
     "text": [
      "epoch: 8, [batch: 1764 / 2520], examples_per_second: 3191.8301, train_label_loss: 0.1826, \n"
     ]
    },
    {
     "name": "stdout",
     "output_type": "stream",
     "text": [
      "epoch: 8, [batch: 2016 / 2520], examples_per_second: 3191.4917, train_label_loss: 0.3654, \n"
     ]
    },
    {
     "name": "stdout",
     "output_type": "stream",
     "text": [
      "epoch: 8, [batch: 2268 / 2520], examples_per_second: 3170.3789, train_label_loss: 0.1409, \n"
     ]
    },
    {
     "name": "stdout",
     "output_type": "stream",
     "text": [
      "=============================================================\n",
      "epoch: 8, source_val_acc_label: 0.7846, target_val_acc_label: 0.6782, source_val_label_loss: 0.7208, target_val_label_loss: 1.1122, \n",
      "=============================================================\n"
     ]
    },
    {
     "name": "stdout",
     "output_type": "stream",
     "text": [
      "New best\n"
     ]
    },
    {
     "name": "stdout",
     "output_type": "stream",
     "text": [
      "epoch: 9, [batch: 1 / 2520], examples_per_second: 11.0935, train_label_loss: 0.1290, \n"
     ]
    },
    {
     "name": "stdout",
     "output_type": "stream",
     "text": [
      "epoch: 9, [batch: 252 / 2520], examples_per_second: 3180.4116, train_label_loss: 0.3585, \n"
     ]
    },
    {
     "name": "stdout",
     "output_type": "stream",
     "text": [
      "epoch: 9, [batch: 504 / 2520], examples_per_second: 3205.2503, train_label_loss: 0.0965, \n"
     ]
    },
    {
     "name": "stdout",
     "output_type": "stream",
     "text": [
      "epoch: 9, [batch: 756 / 2520], examples_per_second: 3185.3318, train_label_loss: 0.0894, \n"
     ]
    },
    {
     "name": "stdout",
     "output_type": "stream",
     "text": [
      "epoch: 9, [batch: 1008 / 2520], examples_per_second: 3174.9335, train_label_loss: 0.2412, \n"
     ]
    },
    {
     "name": "stdout",
     "output_type": "stream",
     "text": [
      "epoch: 9, [batch: 1260 / 2520], examples_per_second: 3187.7908, train_label_loss: 0.1849, \n"
     ]
    },
    {
     "name": "stdout",
     "output_type": "stream",
     "text": [
      "epoch: 9, [batch: 1512 / 2520], examples_per_second: 3182.9799, train_label_loss: 0.1884, \n"
     ]
    },
    {
     "name": "stdout",
     "output_type": "stream",
     "text": [
      "epoch: 9, [batch: 1764 / 2520], examples_per_second: 3181.9469, train_label_loss: 0.2420, \n"
     ]
    },
    {
     "name": "stdout",
     "output_type": "stream",
     "text": [
      "epoch: 9, [batch: 2016 / 2520], examples_per_second: 3202.0494, train_label_loss: 0.3964, \n"
     ]
    },
    {
     "name": "stdout",
     "output_type": "stream",
     "text": [
      "epoch: 9, [batch: 2268 / 2520], examples_per_second: 3198.9219, train_label_loss: 0.1554, \n"
     ]
    },
    {
     "name": "stdout",
     "output_type": "stream",
     "text": [
      "=============================================================\n",
      "epoch: 9, source_val_acc_label: 0.7852, target_val_acc_label: 0.6774, source_val_label_loss: 0.7414, target_val_label_loss: 1.1671, \n",
      "=============================================================\n"
     ]
    },
    {
     "name": "stdout",
     "output_type": "stream",
     "text": [
      "epoch: 10, [batch: 1 / 2520], examples_per_second: 11.2032, train_label_loss: 0.2166, \n"
     ]
    },
    {
     "name": "stdout",
     "output_type": "stream",
     "text": [
      "epoch: 10, [batch: 252 / 2520], examples_per_second: 3176.9855, train_label_loss: 0.1650, \n"
     ]
    },
    {
     "name": "stdout",
     "output_type": "stream",
     "text": [
      "epoch: 10, [batch: 504 / 2520], examples_per_second: 3186.6547, train_label_loss: 0.1485, \n"
     ]
    },
    {
     "name": "stdout",
     "output_type": "stream",
     "text": [
      "epoch: 10, [batch: 756 / 2520], examples_per_second: 3170.1968, train_label_loss: 0.1327, \n"
     ]
    },
    {
     "name": "stdout",
     "output_type": "stream",
     "text": [
      "epoch: 10, [batch: 1008 / 2520], examples_per_second: 3173.4409, train_label_loss: 0.2201, \n"
     ]
    },
    {
     "name": "stdout",
     "output_type": "stream",
     "text": [
      "epoch: 10, [batch: 1260 / 2520], examples_per_second: 3192.8347, train_label_loss: 0.2513, \n"
     ]
    },
    {
     "name": "stdout",
     "output_type": "stream",
     "text": [
      "epoch: 10, [batch: 1512 / 2520], examples_per_second: 3188.5743, train_label_loss: 0.1179, \n"
     ]
    },
    {
     "name": "stdout",
     "output_type": "stream",
     "text": [
      "epoch: 10, [batch: 1764 / 2520], examples_per_second: 3188.3581, train_label_loss: 0.1787, \n"
     ]
    },
    {
     "name": "stdout",
     "output_type": "stream",
     "text": [
      "epoch: 10, [batch: 2016 / 2520], examples_per_second: 3215.4738, train_label_loss: 0.1995, \n"
     ]
    },
    {
     "name": "stdout",
     "output_type": "stream",
     "text": [
      "epoch: 10, [batch: 2268 / 2520], examples_per_second: 3192.8737, train_label_loss: 0.1854, \n"
     ]
    },
    {
     "name": "stdout",
     "output_type": "stream",
     "text": [
      "=============================================================\n",
      "epoch: 10, source_val_acc_label: 0.7817, target_val_acc_label: 0.6673, source_val_label_loss: 0.7445, target_val_label_loss: 1.1513, \n",
      "=============================================================\n"
     ]
    },
    {
     "name": "stdout",
     "output_type": "stream",
     "text": [
      "epoch: 11, [batch: 1 / 2520], examples_per_second: 11.1928, train_label_loss: 0.0981, \n"
     ]
    },
    {
     "name": "stdout",
     "output_type": "stream",
     "text": [
      "epoch: 11, [batch: 252 / 2520], examples_per_second: 3172.6868, train_label_loss: 0.0150, \n"
     ]
    },
    {
     "name": "stdout",
     "output_type": "stream",
     "text": [
      "epoch: 11, [batch: 504 / 2520], examples_per_second: 3178.3624, train_label_loss: 0.1166, \n"
     ]
    },
    {
     "name": "stdout",
     "output_type": "stream",
     "text": [
      "epoch: 11, [batch: 756 / 2520], examples_per_second: 3182.5037, train_label_loss: 0.1851, \n"
     ]
    },
    {
     "name": "stdout",
     "output_type": "stream",
     "text": [
      "epoch: 11, [batch: 1008 / 2520], examples_per_second: 3173.0426, train_label_loss: 0.1133, \n"
     ]
    },
    {
     "name": "stdout",
     "output_type": "stream",
     "text": [
      "epoch: 11, [batch: 1260 / 2520], examples_per_second: 3188.1954, train_label_loss: 0.2062, \n"
     ]
    },
    {
     "name": "stdout",
     "output_type": "stream",
     "text": [
      "epoch: 11, [batch: 1512 / 2520], examples_per_second: 3182.6581, train_label_loss: 0.2507, \n"
     ]
    },
    {
     "name": "stdout",
     "output_type": "stream",
     "text": [
      "epoch: 11, [batch: 1764 / 2520], examples_per_second: 3170.7019, train_label_loss: 0.1684, \n"
     ]
    },
    {
     "name": "stdout",
     "output_type": "stream",
     "text": [
      "epoch: 11, [batch: 2016 / 2520], examples_per_second: 3182.5496, train_label_loss: 0.3964, \n"
     ]
    },
    {
     "name": "stdout",
     "output_type": "stream",
     "text": [
      "epoch: 11, [batch: 2268 / 2520], examples_per_second: 3186.0714, train_label_loss: 0.1216, \n"
     ]
    },
    {
     "name": "stdout",
     "output_type": "stream",
     "text": [
      "=============================================================\n",
      "epoch: 11, source_val_acc_label: 0.7816, target_val_acc_label: 0.6764, source_val_label_loss: 0.7767, target_val_label_loss: 1.1884, \n",
      "=============================================================\n"
     ]
    },
    {
     "name": "stdout",
     "output_type": "stream",
     "text": [
      "epoch: 12, [batch: 1 / 2520], examples_per_second: 11.1702, train_label_loss: 0.0086, \n"
     ]
    },
    {
     "name": "stdout",
     "output_type": "stream",
     "text": [
      "epoch: 12, [batch: 252 / 2520], examples_per_second: 3177.9947, train_label_loss: 0.0086, \n"
     ]
    },
    {
     "name": "stdout",
     "output_type": "stream",
     "text": [
      "epoch: 12, [batch: 504 / 2520], examples_per_second: 3193.7359, train_label_loss: 0.2543, \n"
     ]
    },
    {
     "name": "stdout",
     "output_type": "stream",
     "text": [
      "epoch: 12, [batch: 756 / 2520], examples_per_second: 3185.5477, train_label_loss: 0.0139, \n"
     ]
    },
    {
     "name": "stdout",
     "output_type": "stream",
     "text": [
      "epoch: 12, [batch: 1008 / 2520], examples_per_second: 3193.5936, train_label_loss: 0.3237, \n"
     ]
    },
    {
     "name": "stdout",
     "output_type": "stream",
     "text": [
      "epoch: 12, [batch: 1260 / 2520], examples_per_second: 3193.4019, train_label_loss: 0.0290, \n"
     ]
    },
    {
     "name": "stdout",
     "output_type": "stream",
     "text": [
      "epoch: 12, [batch: 1512 / 2520], examples_per_second: 3185.2178, train_label_loss: 0.1706, \n"
     ]
    },
    {
     "name": "stdout",
     "output_type": "stream",
     "text": [
      "epoch: 12, [batch: 1764 / 2520], examples_per_second: 3189.9715, train_label_loss: 0.2720, \n"
     ]
    },
    {
     "name": "stdout",
     "output_type": "stream",
     "text": [
      "epoch: 12, [batch: 2016 / 2520], examples_per_second: 3180.5777, train_label_loss: 0.1267, \n"
     ]
    },
    {
     "name": "stdout",
     "output_type": "stream",
     "text": [
      "epoch: 12, [batch: 2268 / 2520], examples_per_second: 3187.7310, train_label_loss: 0.3990, \n"
     ]
    },
    {
     "name": "stdout",
     "output_type": "stream",
     "text": [
      "=============================================================\n",
      "epoch: 12, source_val_acc_label: 0.7812, target_val_acc_label: 0.6743, source_val_label_loss: 0.7764, target_val_label_loss: 1.2031, \n",
      "=============================================================\n"
     ]
    },
    {
     "name": "stdout",
     "output_type": "stream",
     "text": [
      "Patience (3) exhausted\n"
     ]
    }
   ],
   "source": [
    "###################################\n",
    "# train\n",
    "###################################\n",
    "jig = PTN_Train_Eval_Test_Jig(model, p.BEST_MODEL_PATH, p.device)\n",
    "\n",
    "jig.train(\n",
    "    train_iterable=datasets.source.processed.train,\n",
    "    source_val_iterable=datasets.source.processed.val,\n",
    "    target_val_iterable=datasets.target.processed.val,\n",
    "    num_epochs=p.n_epoch,\n",
    "    num_logs_per_epoch=p.NUM_LOGS_PER_EPOCH,\n",
    "    patience=p.patience,\n",
    "    optimizer=optimizer,\n",
    "    criteria_for_best=p.criteria_for_best,\n",
    ")"
   ]
  },
  {
   "cell_type": "code",
   "execution_count": 14,
   "id": "31e8fabf",
   "metadata": {
    "execution": {
     "iopub.execute_input": "2022-04-02T00:00:25.798122Z",
     "iopub.status.busy": "2022-04-02T00:00:25.797878Z",
     "iopub.status.idle": "2022-04-02T00:00:25.815493Z",
     "shell.execute_reply": "2022-04-02T00:00:25.815041Z"
    },
    "papermill": {
     "duration": 0.055451,
     "end_time": "2022-04-02T00:00:25.815583",
     "exception": false,
     "start_time": "2022-04-02T00:00:25.760132",
     "status": "completed"
    },
    "tags": []
   },
   "outputs": [],
   "source": [
    "total_experiment_time_secs = time.time() - start_time_secs"
   ]
  },
  {
   "cell_type": "code",
   "execution_count": 15,
   "id": "87b9595b",
   "metadata": {
    "execution": {
     "iopub.execute_input": "2022-04-02T00:00:25.895582Z",
     "iopub.status.busy": "2022-04-02T00:00:25.895204Z",
     "iopub.status.idle": "2022-04-02T00:01:14.518664Z",
     "shell.execute_reply": "2022-04-02T00:01:14.519106Z"
    },
    "papermill": {
     "duration": 48.664857,
     "end_time": "2022-04-02T00:01:14.519247",
     "exception": false,
     "start_time": "2022-04-02T00:00:25.854390",
     "status": "completed"
    },
    "tags": []
   },
   "outputs": [],
   "source": [
    "###################################\n",
    "# Evaluate the model\n",
    "###################################\n",
    "source_test_label_accuracy, source_test_label_loss = jig.test(datasets.source.processed.test)\n",
    "target_test_label_accuracy, target_test_label_loss = jig.test(datasets.target.processed.test)\n",
    "\n",
    "source_val_label_accuracy, source_val_label_loss = jig.test(datasets.source.processed.val)\n",
    "target_val_label_accuracy, target_val_label_loss = jig.test(datasets.target.processed.val)\n",
    "\n",
    "history = jig.get_history()\n",
    "\n",
    "total_epochs_trained = len(history[\"epoch_indices\"])\n",
    "\n",
    "val_dl = Iterable_Aggregator((datasets.source.original.val,datasets.target.original.val))\n",
    "\n",
    "confusion = ptn_confusion_by_domain_over_dataloader(model, p.device, val_dl)\n",
    "per_domain_accuracy = per_domain_accuracy_from_confusion(confusion)\n",
    "\n",
    "# Add a key to per_domain_accuracy for if it was a source domain\n",
    "for domain, accuracy in per_domain_accuracy.items():\n",
    "    per_domain_accuracy[domain] = {\n",
    "        \"accuracy\": accuracy,\n",
    "        \"source?\": domain in p.domains_source\n",
    "    }\n",
    "\n",
    "# Do an independent accuracy assesment JUST TO BE SURE!\n",
    "# _source_test_label_accuracy = independent_accuracy_assesment(model, datasets.source.processed.test, p.device)\n",
    "# _target_test_label_accuracy = independent_accuracy_assesment(model, datasets.target.processed.test, p.device)\n",
    "# _source_val_label_accuracy = independent_accuracy_assesment(model, datasets.source.processed.val, p.device)\n",
    "# _target_val_label_accuracy = independent_accuracy_assesment(model, datasets.target.processed.val, p.device)\n",
    "\n",
    "# assert(_source_test_label_accuracy == source_test_label_accuracy)\n",
    "# assert(_target_test_label_accuracy == target_test_label_accuracy)\n",
    "# assert(_source_val_label_accuracy == source_val_label_accuracy)\n",
    "# assert(_target_val_label_accuracy == target_val_label_accuracy)\n",
    "\n",
    "experiment = {\n",
    "    \"experiment_name\": p.experiment_name,\n",
    "    \"parameters\": dict(p),\n",
    "    \"results\": {\n",
    "        \"source_test_label_accuracy\": source_test_label_accuracy,\n",
    "        \"source_test_label_loss\": source_test_label_loss,\n",
    "        \"target_test_label_accuracy\": target_test_label_accuracy,\n",
    "        \"target_test_label_loss\": target_test_label_loss,\n",
    "        \"source_val_label_accuracy\": source_val_label_accuracy,\n",
    "        \"source_val_label_loss\": source_val_label_loss,\n",
    "        \"target_val_label_accuracy\": target_val_label_accuracy,\n",
    "        \"target_val_label_loss\": target_val_label_loss,\n",
    "        \"total_epochs_trained\": total_epochs_trained,\n",
    "        \"total_experiment_time_secs\": total_experiment_time_secs,\n",
    "        \"confusion\": confusion,\n",
    "        \"per_domain_accuracy\": per_domain_accuracy,\n",
    "    },\n",
    "    \"history\": history,\n",
    "    \"dataset_metrics\": get_dataset_metrics(datasets, \"ptn\"),\n",
    "}"
   ]
  },
  {
   "cell_type": "code",
   "execution_count": 16,
   "id": "54a21829",
   "metadata": {
    "execution": {
     "iopub.execute_input": "2022-04-02T00:01:14.609757Z",
     "iopub.status.busy": "2022-04-02T00:01:14.609500Z",
     "iopub.status.idle": "2022-04-02T00:01:14.738117Z",
     "shell.execute_reply": "2022-04-02T00:01:14.737658Z"
    },
    "papermill": {
     "duration": 0.171657,
     "end_time": "2022-04-02T00:01:14.738211",
     "exception": false,
     "start_time": "2022-04-02T00:01:14.566554",
     "status": "completed"
    },
    "tags": []
   },
   "outputs": [
    {
     "data": {
      "image/png": "[encoded data removed]",
      "text/plain": [
       "<Figure size 1080x504 with 1 Axes>"
      ]
     },
     "metadata": {
      "needs_background": "light"
     },
     "output_type": "display_data"
    }
   ],
   "source": [
    "ax = get_loss_curve(experiment)\n",
    "plt.show()"
   ]
  },
  {
   "cell_type": "code",
   "execution_count": 17,
   "id": "fd8a0f60",
   "metadata": {
    "execution": {
     "iopub.execute_input": "2022-04-02T00:01:14.816524Z",
     "iopub.status.busy": "2022-04-02T00:01:14.815928Z",
     "iopub.status.idle": "2022-04-02T00:01:14.958947Z",
     "shell.execute_reply": "2022-04-02T00:01:14.959163Z"
    },
    "papermill": {
     "duration": 0.180846,
     "end_time": "2022-04-02T00:01:14.959228",
     "exception": false,
     "start_time": "2022-04-02T00:01:14.778382",
     "status": "completed"
    },
    "tags": []
   },
   "outputs": [
    {
     "data": {
      "text/plain": [
       "<AxesSubplot:title={'center':'Results'}>"
      ]
     },
     "execution_count": 17,
     "metadata": {},
     "output_type": "execute_result"
    },
    {
     "data": {
      "image/png": "[encoded data removed]",
      "text/plain": [
       "<Figure size 1080x504 with 1 Axes>"
      ]
     },
     "metadata": {
      "needs_background": "light"
     },
     "output_type": "display_data"
    }
   ],
   "source": [
    "get_results_table(experiment)"
   ]
  },
  {
   "cell_type": "code",
   "execution_count": 18,
   "id": "cf8dc689",
   "metadata": {
    "execution": {
     "iopub.execute_input": "2022-04-02T00:01:15.036639Z",
     "iopub.status.busy": "2022-04-02T00:01:15.036350Z",
     "iopub.status.idle": "2022-04-02T00:01:15.150041Z",
     "shell.execute_reply": "2022-04-02T00:01:15.149789Z"
    },
    "papermill": {
     "duration": 0.152101,
     "end_time": "2022-04-02T00:01:15.150093",
     "exception": false,
     "start_time": "2022-04-02T00:01:14.997992",
     "status": "completed"
    },
    "tags": []
   },
   "outputs": [
    {
     "data": {
      "text/plain": [
       "<AxesSubplot:title={'center':'Per Domain Validation Accuracy'}, xlabel='domain'>"
      ]
     },
     "execution_count": 18,
     "metadata": {},
     "output_type": "execute_result"
    },
    {
     "data": {
      "image/png": "[encoded data removed]",
      "text/plain": [
       "<Figure size 1080x504 with 1 Axes>"
      ]
     },
     "metadata": {
      "needs_background": "light"
     },
     "output_type": "display_data"
    }
   ],
   "source": [
    "get_domain_accuracies(experiment)"
   ]
  },
  {
   "cell_type": "code",
   "execution_count": 19,
   "id": "a74ae082",
   "metadata": {
    "execution": {
     "iopub.execute_input": "2022-04-02T00:01:15.229528Z",
     "iopub.status.busy": "2022-04-02T00:01:15.229276Z",
     "iopub.status.idle": "2022-04-02T00:01:15.244675Z",
     "shell.execute_reply": "2022-04-02T00:01:15.245022Z"
    },
    "papermill": {
     "duration": 0.056587,
     "end_time": "2022-04-02T00:01:15.245129",
     "exception": false,
     "start_time": "2022-04-02T00:01:15.188542",
     "status": "completed"
    },
    "tags": []
   },
   "outputs": [
    {
     "name": "stdout",
     "output_type": "stream",
     "text": [
      "Source Test Label Accuracy: 0.7799479166666666 Target Test Label Accuracy: 0.6794791666666666\n",
      "Source Val Label Accuracy: 0.7846354166666667 Target Val Label Accuracy: 0.6782291666666667\n"
     ]
    }
   ],
   "source": [
    "print(\"Source Test Label Accuracy:\", experiment[\"results\"][\"source_test_label_accuracy\"], \"Target Test Label Accuracy:\", experiment[\"results\"][\"target_test_label_accuracy\"])\n",
    "print(\"Source Val Label Accuracy:\", experiment[\"results\"][\"source_val_label_accuracy\"], \"Target Val Label Accuracy:\", experiment[\"results\"][\"target_val_label_accuracy\"])"
   ]
  },
  {
   "cell_type": "code",
   "execution_count": 20,
   "id": "dacca602",
   "metadata": {
    "execution": {
     "iopub.execute_input": "2022-04-02T00:01:15.328518Z",
     "iopub.status.busy": "2022-04-02T00:01:15.328271Z",
     "iopub.status.idle": "2022-04-02T00:01:15.344757Z",
     "shell.execute_reply": "2022-04-02T00:01:15.345125Z"
    },
    "papermill": {
     "duration": 0.056669,
     "end_time": "2022-04-02T00:01:15.345231",
     "exception": false,
     "start_time": "2022-04-02T00:01:15.288562",
     "status": "completed"
    },
    "tags": [
     "experiment_json"
    ]
   },
   "outputs": [
    {
     "data": {
      "text/plain": [
       "'{\"experiment_name\": \"tuned_1v2:oracle.run1_limited\", \"parameters\": {\"experiment_name\": \"tuned_1v2:oracle.run1_limited\", \"device\": \"cuda\", \"lr\": 0.0001, \"labels_source\": [\"3123D52\", \"3123D65\", \"3123D79\", \"3123D80\", \"3123D54\", \"3123D70\", \"3123D7B\", \"3123D89\", \"3123D58\", \"3123D76\", \"3123D7D\", \"3123EFE\", \"3123D64\", \"3123D78\", \"3123D7E\", \"3124E4A\"], \"labels_target\": [\"3123D52\", \"3123D65\", \"3123D79\", \"3123D80\", \"3123D54\", \"3123D70\", \"3123D7B\", \"3123D89\", \"3123D58\", \"3123D76\", \"3123D7D\", \"3123EFE\", \"3123D64\", \"3123D78\", \"3123D7E\", \"3124E4A\"], \"episode_transforms_source\": [], \"episode_transforms_target\": [], \"domains_source\": [8, 32, 50], \"domains_target\": [14, 20, 26, 38, 44], \"num_examples_per_domain_per_label_source\": 2000, \"num_examples_per_domain_per_label_target\": 2000, \"n_shot\": 3, \"n_way\": 16, \"n_query\": 2, \"train_k_factor\": 3, \"val_k_factor\": 2, \"test_k_factor\": 2, \"torch_default_dtype\": \"torch.float32\", \"n_epoch\": 50, \"patience\": 3, \"criteria_for_best\": \"target_accuracy\", \"x_net\": [{\"class\": \"nnReshape\", \"kargs\": {\"shape\": [-1, 1, 2, 256]}}, {\"class\": \"Conv2d\", \"kargs\": {\"in_channels\": 1, \"out_channels\": 256, \"kernel_size\": [1, 7], \"bias\": false, \"padding\": [0, 3]}}, {\"class\": \"ReLU\", \"kargs\": {\"inplace\": true}}, {\"class\": \"BatchNorm2d\", \"kargs\": {\"num_features\": 256}}, {\"class\": \"Conv2d\", \"kargs\": {\"in_channels\": 256, \"out_channels\": 80, \"kernel_size\": [2, 7], \"bias\": true, \"padding\": [0, 3]}}, {\"class\": \"ReLU\", \"kargs\": {\"inplace\": true}}, {\"class\": \"BatchNorm2d\", \"kargs\": {\"num_features\": 80}}, {\"class\": \"Flatten\", \"kargs\": {}}, {\"class\": \"Linear\", \"kargs\": {\"in_features\": 20480, \"out_features\": 256}}, {\"class\": \"ReLU\", \"kargs\": {\"inplace\": true}}, {\"class\": \"BatchNorm1d\", \"kargs\": {\"num_features\": 256}}, {\"class\": \"Linear\", \"kargs\": {\"in_features\": 256, \"out_features\": 256}}], \"NUM_LOGS_PER_EPOCH\": 10, \"BEST_MODEL_PATH\": \"./best_model.pth\", \"pickle_name\": \"oracle.Run1_10kExamples_stratified_ds.2022A.pkl\", \"x_transforms_source\": [], \"x_transforms_target\": [], \"dataset_seed\": 7, \"seed\": 7}, \"results\": {\"source_test_label_accuracy\": 0.7799479166666666, \"source_test_label_loss\": 0.7299898862838745, \"target_test_label_accuracy\": 0.6794791666666666, \"target_test_label_loss\": 1.109911561012268, \"source_val_label_accuracy\": 0.7846354166666667, \"source_val_label_loss\": 0.7208181619644165, \"target_val_label_accuracy\": 0.6782291666666667, \"target_val_label_loss\": 1.1121618747711182, \"total_epochs_trained\": 12, \"total_experiment_time_secs\": 861.8718798160553, \"confusion\": {\"50\": {\"0\": {\"0\": 206, \"2\": 32, \"10\": 2}, \"4\": {\"6\": 5, \"4\": 202, \"7\": 20, \"5\": 9, \"15\": 4}, \"14\": {\"2\": 2, \"14\": 238}, \"12\": {\"9\": 28, \"12\": 201, \"11\": 11}, \"8\": {\"8\": 236, \"13\": 1, \"10\": 3}, \"7\": {\"7\": 217, \"4\": 10, \"5\": 13}, \"13\": {\"13\": 238, \"1\": 1, \"5\": 1}, \"5\": {\"7\": 77, \"5\": 104, \"4\": 10, \"6\": 34, \"13\": 13, \"15\": 2}, \"15\": {\"6\": 25, \"15\": 203, \"9\": 5, \"4\": 1, \"11\": 5, \"5\": 1}, \"10\": {\"10\": 228, \"8\": 9, \"0\": 3}, \"3\": {\"3\": 240}, \"9\": {\"9\": 177, \"11\": 21, \"12\": 40, \"15\": 2}, \"6\": {\"5\": 15, \"6\": 190, \"15\": 34, \"4\": 1}, \"1\": {\"1\": 225, \"13\": 7, \"10\": 4, \"0\": 2, \"5\": 1, \"14\": 1}, \"11\": {\"11\": 222, \"15\": 5, \"9\": 9, \"12\": 4}, \"2\": {\"0\": 11, \"2\": 226, \"14\": 3}}, \"8\": {\"1\": {\"1\": 96, \"10\": 32, \"11\": 63, \"5\": 28, \"6\": 12, \"4\": 6, \"13\": 3}, \"11\": {\"1\": 74, \"6\": 9, \"5\": 9, \"11\": 88, \"4\": 26, \"14\": 17, \"10\": 13, \"8\": 3, \"13\": 1}, \"3\": {\"3\": 236, \"2\": 4}, \"6\": {\"6\": 159, \"13\": 12, \"7\": 50, \"4\": 6, \"1\": 3, \"10\": 6, \"8\": 3, \"11\": 1}, \"7\": {\"7\": 181, \"13\": 16, \"6\": 41, \"10\": 2}, \"5\": {\"13\": 3, \"5\": 153, \"10\": 31, \"1\": 32, \"11\": 20, \"4\": 1}, \"2\": {\"2\": 162, \"15\": 30, \"3\": 29, \"12\": 19}, \"15\": {\"15\": 157, \"2\": 22, \"12\": 61}, \"10\": {\"1\": 33, \"10\": 104, \"6\": 10, \"13\": 55, \"5\": 28, \"11\": 4, \"7\": 3, \"4\": 3}, \"13\": {\"13\": 169, \"10\": 35, \"7\": 28, \"6\": 7, \"5\": 1}, \"8\": {\"8\": 148, \"4\": 58, \"6\": 20, \"11\": 1, \"14\": 11, \"1\": 2}, \"4\": {\"4\": 157, \"11\": 18, \"8\": 45, \"1\": 5, \"14\": 7, \"6\": 7, \"10\": 1}, \"9\": {\"9\": 240}, \"14\": {\"11\": 14, \"14\": 183, \"4\": 32, \"8\": 11}, \"0\": {\"0\": 240}, \"12\": {\"12\": 145, \"15\": 91, \"2\": 4}}, \"32\": {\"15\": {\"15\": 225, \"8\": 6, \"5\": 9}, \"11\": {\"11\": 234, \"3\": 1, \"13\": 5}, \"10\": {\"10\": 240}, \"14\": {\"7\": 50, \"14\": 138, \"5\": 14, \"8\": 15, \"2\": 9, \"0\": 10, \"4\": 4}, \"6\": {\"6\": 240}, \"4\": {\"4\": 176, \"13\": 16, \"2\": 46, \"3\": 2}, \"13\": {\"13\": 151, \"11\": 10, \"3\": 46, \"4\": 33}, \"3\": {\"13\": 23, \"3\": 210, \"4\": 7}, \"7\": {\"8\": 19, \"7\": 120, \"14\": 28, \"0\": 29, \"5\": 44}, \"8\": {\"8\": 150, \"7\": 22, \"0\": 34, \"5\": 12, \"14\": 13, \"4\": 4, \"2\": 4, \"15\": 1}, \"1\": {\"1\": 240}, \"5\": {\"5\": 118, \"7\": 66, \"8\": 21, \"0\": 16, \"14\": 12, \"15\": 7}, \"0\": {\"0\": 160, \"8\": 38, \"7\": 26, \"5\": 12, \"14\": 2, \"15\": 1, \"2\": 1}, \"2\": {\"2\": 190, \"4\": 47, \"0\": 2, \"14\": 1}, \"12\": {\"12\": 239, \"9\": 1}, \"9\": {\"9\": 237, \"12\": 3}}, \"26\": {\"0\": {\"0\": 136, \"10\": 37, \"9\": 5, \"6\": 4, \"14\": 35, \"2\": 7, \"8\": 9, \"15\": 7}, \"4\": {\"4\": 228, \"13\": 11, \"3\": 1}, \"14\": {\"14\": 86, \"10\": 71, \"5\": 5, \"15\": 25, \"6\": 16, \"0\": 23, \"1\": 14}, \"12\": {\"12\": 240}, \"8\": {\"8\": 106, \"9\": 56, \"7\": 36, \"13\": 7, \"2\": 19, \"0\": 13, \"3\": 3}, \"7\": {\"7\": 90, \"8\": 42, \"2\": 36, \"9\": 29, \"3\": 40, \"13\": 3}, \"13\": {\"4\": 35, \"3\": 18, \"7\": 7, \"13\": 141, \"8\": 9, \"0\": 1, \"9\": 26, \"2\": 3}, \"5\": {\"5\": 134, \"6\": 33, \"15\": 58, \"14\": 5, \"1\": 6, \"10\": 4}, \"15\": {\"15\": 104, \"10\": 18, \"5\": 62, \"0\": 9, \"6\": 15, \"14\": 21, \"1\": 9, \"2\": 2}, \"10\": {\"10\": 96, \"14\": 54, \"6\": 21, \"0\": 43, \"1\": 4, \"5\": 6, \"15\": 16}, \"3\": {\"3\": 180, \"7\": 31, \"13\": 17, \"2\": 7, \"9\": 4, \"8\": 1}, \"9\": {\"9\": 82, \"8\": 66, \"2\": 16, \"7\": 30, \"13\": 31, \"4\": 3, \"3\": 8, \"0\": 4}, \"6\": {\"5\": 27, \"6\": 143, \"15\": 21, \"1\": 22, \"10\": 18, \"14\": 9}, \"1\": {\"1\": 150, \"5\": 17, \"15\": 13, \"0\": 1, \"14\": 19, \"6\": 32, \"10\": 8}, \"11\": {\"11\": 239, \"6\": 1}, \"2\": {\"2\": 127, \"7\": 36, \"8\": 25, \"13\": 2, \"0\": 12, \"3\": 20, \"9\": 16, \"15\": 2}}, \"44\": {\"1\": {\"1\": 219, \"2\": 21}, \"11\": {\"11\": 240}, \"3\": {\"3\": 226, \"12\": 14}, \"6\": {\"6\": 185, \"13\": 36, \"7\": 1, \"9\": 18}, \"7\": {\"7\": 195, \"9\": 36, \"10\": 8, \"6\": 1}, \"5\": {\"5\": 199, \"14\": 21, \"15\": 11, \"8\": 9}, \"2\": {\"1\": 20, \"2\": 219, \"10\": 1}, \"15\": {\"15\": 180, \"5\": 13, \"4\": 8, \"8\": 8, \"14\": 28, \"0\": 3}, \"10\": {\"10\": 214, \"2\": 8, \"1\": 6, \"7\": 12}, \"13\": {\"13\": 185, \"6\": 49, \"9\": 4, \"11\": 2}, \"8\": {\"0\": 76, \"8\": 142, \"5\": 8, \"15\": 14}, \"4\": {\"4\": 120, \"14\": 75, \"15\": 26, \"6\": 4, \"9\": 10, \"13\": 5}, \"9\": {\"9\": 85, \"6\": 64, \"7\": 68, \"13\": 16, \"2\": 1, \"4\": 5, \"10\": 1}, \"14\": {\"14\": 156, \"5\": 13, \"4\": 53, \"15\": 18}, \"0\": {\"0\": 190, \"8\": 50}, \"12\": {\"12\": 216, \"3\": 24}}, \"20\": {\"15\": {\"3\": 5, \"15\": 67, \"1\": 29, \"12\": 53, \"5\": 13, \"4\": 28, \"9\": 19, \"13\": 16, \"2\": 4, \"7\": 4, \"8\": 1, \"10\": 1}, \"4\": {\"10\": 26, \"4\": 77, \"12\": 44, \"6\": 5, \"13\": 38, \"2\": 17, \"15\": 15, \"9\": 4, \"1\": 3, \"7\": 7, \"5\": 4}, \"6\": {\"6\": 149, \"14\": 20, \"2\": 16, \"13\": 10, \"7\": 37, \"10\": 3, \"4\": 2, \"12\": 1, \"3\": 1, \"8\": 1}, \"2\": {\"6\": 3, \"12\": 27, \"3\": 9, \"13\": 40, \"7\": 36, \"9\": 30, \"4\": 28, \"5\": 2, \"2\": 44, \"0\": 1, \"15\": 11, \"8\": 2, \"1\": 7}, \"5\": {\"1\": 66, \"12\": 6, \"0\": 9, \"15\": 16, \"5\": 63, \"3\": 41, \"9\": 25, \"7\": 2, \"8\": 10, \"2\": 2}, \"9\": {\"7\": 26, \"15\": 9, \"12\": 18, \"4\": 7, \"1\": 25, \"9\": 42, \"14\": 13, \"5\": 23, \"3\": 33, \"2\": 23, \"8\": 14, \"6\": 3, \"13\": 4}, \"8\": {\"8\": 101, \"3\": 46, \"9\": 12, \"14\": 35, \"0\": 7, \"7\": 20, \"5\": 9, \"1\": 5, \"13\": 2, \"4\": 1, \"11\": 1, \"2\": 1}, \"12\": {\"15\": 41, \"13\": 26, \"12\": 61, \"4\": 47, \"5\": 4, \"2\": 15, \"7\": 15, \"3\": 3, \"8\": 1, \"1\": 9, \"9\": 16, \"10\": 2}, \"10\": {\"10\": 199, \"4\": 23, \"13\": 6, \"12\": 3, \"2\": 2, \"7\": 1, \"6\": 6}, \"1\": {\"1\": 44, \"15\": 23, \"13\": 3, \"5\": 64, \"3\": 33, \"9\": 33, \"4\": 7, \"8\": 9, \"7\": 5, \"12\": 14, \"2\": 3, \"0\": 2}, \"0\": {\"5\": 12, \"0\": 208, \"1\": 2, \"3\": 6, \"9\": 1, \"8\": 11}, \"3\": {\"3\": 65, \"8\": 37, \"5\": 45, \"9\": 33, \"1\": 30, \"14\": 4, \"0\": 5, \"15\": 5, \"7\": 10, \"12\": 4, \"2\": 1, \"4\": 1}, \"13\": {\"12\": 23, \"15\": 10, \"2\": 39, \"9\": 4, \"13\": 98, \"4\": 34, \"7\": 13, \"10\": 10, \"1\": 1, \"6\": 6, \"3\": 1, \"5\": 1}, \"11\": {\"11\": 238, \"0\": 2}, \"7\": {\"6\": 31, \"13\": 15, \"4\": 13, \"9\": 30, \"7\": 74, \"2\": 33, \"5\": 2, \"3\": 7, \"14\": 12, \"12\": 9, \"8\": 11, \"1\": 2, \"15\": 1}, \"14\": {\"6\": 27, \"8\": 43, \"9\": 11, \"3\": 9, \"14\": 122, \"2\": 5, \"7\": 19, \"11\": 1, \"5\": 1, \"1\": 2}}, \"38\": {\"15\": {\"15\": 201, \"8\": 17, \"1\": 7, \"5\": 9, \"12\": 6}, \"11\": {\"11\": 240}, \"10\": {\"10\": 208, \"13\": 21, \"4\": 6, \"0\": 5}, \"14\": {\"14\": 180, \"2\": 60}, \"6\": {\"6\": 238, \"1\": 2}, \"4\": {\"4\": 235, \"10\": 3, \"13\": 1, \"0\": 1}, \"13\": {\"13\": 217, \"10\": 16, \"0\": 6, \"14\": 1}, \"3\": {\"3\": 240}, \"7\": {\"7\": 232, \"8\": 3, \"0\": 3, \"5\": 2}, \"8\": {\"5\": 65, \"8\": 110, \"7\": 46, \"15\": 11, \"12\": 4, \"9\": 3, \"13\": 1}, \"1\": {\"1\": 239, \"6\": 1}, \"5\": {\"5\": 95, \"8\": 88, \"9\": 26, \"7\": 17, \"15\": 12, \"2\": 1, \"12\": 1}, \"0\": {\"0\": 145, \"3\": 13, \"10\": 23, \"7\": 37, \"13\": 19, \"4\": 3}, \"2\": {\"2\": 196, \"14\": 44}, \"12\": {\"12\": 239, \"8\": 1}, \"9\": {\"9\": 231, \"5\": 5, \"7\": 2, \"8\": 2}}, \"14\": {\"0\": {\"0\": 156, \"3\": 25, \"14\": 20, \"10\": 9, \"8\": 21, \"2\": 2, \"4\": 2, \"12\": 2, \"13\": 3}, \"12\": {\"12\": 240}, \"1\": {\"1\": 235, \"2\": 1, \"4\": 3, \"10\": 1}, \"4\": {\"4\": 211, \"2\": 12, \"14\": 2, \"1\": 3, \"5\": 7, \"8\": 2, \"13\": 1, \"10\": 1, \"0\": 1}, \"5\": {\"5\": 156, \"2\": 46, \"7\": 10, \"14\": 6, \"4\": 9, \"8\": 7, \"6\": 2, \"13\": 1, \"3\": 3}, \"3\": {\"3\": 159, \"13\": 14, \"6\": 30, \"14\": 22, \"8\": 2, \"2\": 4, \"0\": 8, \"5\": 1}, \"7\": {\"7\": 230, \"2\": 2, \"5\": 8}, \"15\": {\"15\": 240}, \"13\": {\"13\": 57, \"6\": 76, \"4\": 19, \"14\": 35, \"15\": 19, \"2\": 10, \"3\": 11, \"0\": 9, \"7\": 1, \"5\": 1, \"8\": 1, \"10\": 1}, \"10\": {\"10\": 221, \"9\": 17, \"0\": 1, \"4\": 1}, \"14\": {\"14\": 134, \"0\": 16, \"13\": 21, \"2\": 28, \"5\": 7, \"3\": 17, \"8\": 7, \"6\": 7, \"4\": 3}, \"6\": {\"2\": 11, \"13\": 67, \"6\": 109, \"3\": 31, \"14\": 19, \"5\": 3}, \"9\": {\"9\": 230, \"10\": 10}, \"2\": {\"14\": 27, \"6\": 21, \"2\": 56, \"8\": 5, \"5\": 49, \"3\": 15, \"13\": 16, \"4\": 40, \"7\": 9, \"0\": 2}, \"8\": {\"8\": 197, \"4\": 3, \"14\": 5, \"0\": 12, \"2\": 7, \"5\": 14, \"3\": 2}, \"11\": {\"11\": 240}}}, \"per_domain_accuracy\": {\"50\": {\"accuracy\": 0.8731770833333333, \"source?\": true}, \"8\": {\"accuracy\": 0.6817708333333333, \"source?\": true}, \"32\": {\"accuracy\": 0.7989583333333333, \"source?\": true}, \"26\": {\"accuracy\": 0.5942708333333333, \"source?\": false}, \"44\": {\"accuracy\": 0.7736979166666667, \"source?\": false}, \"20\": {\"accuracy\": 0.43020833333333336, \"source?\": false}, \"38\": {\"accuracy\": 0.8453125, \"source?\": false}, \"14\": {\"accuracy\": 0.74765625, \"source?\": false}}}, \"history\": {\"epoch_indices\": [1, 2, 3, 4, 5, 6, 7, 8, 9, 10, 11, 12], \"train_label_loss\": [1.0803675641497923, 0.7261480555588764, 0.5644014942031058, 0.46480017003440666, 0.39542111532378293, 0.3439134951946991, 0.2890657261413123, 0.24907685408095223, 0.2288887086858426, 0.20656377906996076, 0.1941106250988216, 0.17718833059417582], \"source_val_label_loss\": [1.3869094848632812, 0.7290459871292114, 0.6586726307868958, 0.6868253946304321, 0.6584075093269348, 0.6903601884841919, 0.7231295704841614, 0.7208181619644165, 0.7414321303367615, 0.7445407509803772, 0.7767177224159241, 0.7764319777488708], \"target_val_label_loss\": [1.5581636428833008, 1.050458550453186, 1.062093734741211, 1.0789834260940552, 1.0793321132659912, 1.130078673362732, 1.137455701828003, 1.1121618747711182, 1.167067050933838, 1.1512985229492188, 1.1884100437164307, 1.2030694484710693], \"source_val_acc_label\": [0.6220486111111111, 0.73125, 0.7581597222222223, 0.7513020833333334, 0.7618923611111111, 0.7659722222222223, 0.78125, 0.7846354166666667, 0.78515625, 0.7816840277777778, 0.7815972222222223, 0.7811631944444445], \"target_val_acc_label\": [0.5363541666666667, 0.6213541666666667, 0.6440625, 0.6444791666666667, 0.6453125, 0.6463020833333334, 0.6745833333333333, 0.6782291666666667, 0.6774479166666667, 0.66734375, 0.6763541666666667, 0.6743229166666667]}, \"dataset_metrics\": {\"source\": {\"train\": {\"n_unique_x\": 67200, \"n_unique_y\": 16, \"n_batch/episode\": 2520}, \"val\": {\"n_unique_x\": 14400, \"n_unique_y\": 16, \"n_batch/episode\": 360}, \"test\": {\"n_unique_x\": 14400, \"n_unique_y\": 16, \"n_batch/episode\": 360}}, \"target\": {\"train\": {\"n_unique_x\": 112000, \"n_unique_y\": 16, \"n_batch/episode\": 4200}, \"val\": {\"n_unique_x\": 24000, \"n_unique_y\": 16, \"n_batch/episode\": 600}, \"test\": {\"n_unique_x\": 24000, \"n_unique_y\": 16, \"n_batch/episode\": 600}}}}'"
      ]
     },
     "execution_count": 20,
     "metadata": {},
     "output_type": "execute_result"
    }
   ],
   "source": [
    "json.dumps(experiment)"
   ]
  }
 ],
 "metadata": {
  "celltoolbar": "Tags",
  "kernelspec": {
   "display_name": "Python 3 (ipykernel)",
   "language": "python",
   "name": "python3"
  },
  "language_info": {
   "codemirror_mode": {
    "name": "ipython",
    "version": 3
   },
   "file_extension": ".py",
   "mimetype": "text/x-python",
   "name": "python",
   "nbconvert_exporter": "python",
   "pygments_lexer": "ipython3",
   "version": "3.8.10"
  },
  "papermill": {
   "default_parameters": {},
   "duration": 914.305219,
   "end_time": "2022-04-02T00:01:16.094952",
   "environment_variables": {},
   "exception": null,
   "input_path": "/mnt/wd500GB/CSC500/csc500-main/csc500-notebooks/templates/ptn_template.ipynb",
   "output_path": "trial.ipynb",
   "parameters": {
    "parameters": {
     "BEST_MODEL_PATH": "./best_model.pth",
     "NUM_LOGS_PER_EPOCH": 10,
     "criteria_for_best": "target_accuracy",
     "dataset_seed": 7,
     "device": "cuda",
     "domains_source": [
      8,
      32,
      50
     ],
     "domains_target": [
      14,
      20,
      26,
      38,
      44
     ],
     "episode_transforms_source": [],
     "episode_transforms_target": [],
     "experiment_name": "tuned_1v2:oracle.run1_limited",
     "labels_source": [
      "3123D52",
      "3123D65",
      "3123D79",
      "3123D80",
      "3123D54",
      "3123D70",
      "3123D7B",
      "3123D89",
      "3123D58",
      "3123D76",
      "3123D7D",
      "3123EFE",
      "3123D64",
      "3123D78",
      "3123D7E",
      "3124E4A"
     ],
     "labels_target": [
      "3123D52",
      "3123D65",
      "3123D79",
      "3123D80",
      "3123D54",
      "3123D70",
      "3123D7B",
      "3123D89",
      "3123D58",
      "3123D76",
      "3123D7D",
      "3123EFE",
      "3123D64",
      "3123D78",
      "3123D7E",
      "3124E4A"
     ],
     "lr": 0.0001,
     "n_epoch": 50,
     "n_query": 2,
     "n_shot": 3,
     "n_way": 16,
     "num_examples_per_domain_per_label_source": 2000,
     "num_examples_per_domain_per_label_target": 2000,
     "patience": 3,
     "pickle_name": "oracle.Run1_10kExamples_stratified_ds.2022A.pkl",
     "seed": 7,
     "test_k_factor": 2,
     "torch_default_dtype": "torch.float32",
     "train_k_factor": 3,
     "val_k_factor": 2,
     "x_net": [
      {
       "class": "nnReshape",
       "kargs": {
        "shape": [
         -1,
         1,
         2,
         256
        ]
       }
      },
      {
       "class": "Conv2d",
       "kargs": {
        "bias": false,
        "in_channels": 1,
        "kernel_size": [
         1,
         7
        ],
        "out_channels": 256,
        "padding": [
         0,
         3
        ]
       }
      },
      {
       "class": "ReLU",
       "kargs": {
        "inplace": true
       }
      },
      {
       "class": "BatchNorm2d",
       "kargs": {
        "num_features": 256
       }
      },
      {
       "class": "Conv2d",
       "kargs": {
        "bias": true,
        "in_channels": 256,
        "kernel_size": [
         2,
         7
        ],
        "out_channels": 80,
        "padding": [
         0,
         3
        ]
       }
      },
      {
       "class": "ReLU",
       "kargs": {
        "inplace": true
       }
      },
      {
       "class": "BatchNorm2d",
       "kargs": {
        "num_features": 80
       }
      },
      {
       "class": "Flatten",
       "kargs": {}
      },
      {
       "class": "Linear",
       "kargs": {
        "in_features": 20480,
        "out_features": 256
       }
      },
      {
       "class": "ReLU",
       "kargs": {
        "inplace": true
       }
      },
      {
       "class": "BatchNorm1d",
       "kargs": {
        "num_features": 256
       }
      },
      {
       "class": "Linear",
       "kargs": {
        "in_features": 256,
        "out_features": 256
       }
      }
     ],
     "x_transforms_source": [],
     "x_transforms_target": []
    }
   },
   "start_time": "2022-04-01T23:46:01.789733",
   "version": "2.3.4"
  }
 },
 "nbformat": 4,
 "nbformat_minor": 5
}