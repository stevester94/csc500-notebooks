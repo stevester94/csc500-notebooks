{
 "cells": [
  {
   "cell_type": "markdown",
   "id": "9fea5f46",
   "metadata": {
    "papermill": {
     "duration": 0.022872,
     "end_time": "2022-03-26T12:05:06.141984",
     "exception": false,
     "start_time": "2022-03-26T12:05:06.119112",
     "status": "completed"
    },
    "tags": []
   },
   "source": [
    "# PTN Template\n",
    "This notebook serves as a template for single dataset PTN experiments  \n",
    "It can be run on its own by setting STANDALONE to True (do a find for \"STANDALONE\" to see where)  \n",
    "But it is intended to be executed as part of a *papermill.py script. See any of the   \n",
    "experimentes with a papermill script to get started with that workflow.  "
   ]
  },
  {
   "cell_type": "code",
   "execution_count": 1,
   "id": "0902182a",
   "metadata": {
    "execution": {
     "iopub.execute_input": "2022-03-26T12:05:06.191524Z",
     "iopub.status.busy": "2022-03-26T12:05:06.190668Z",
     "iopub.status.idle": "2022-03-26T12:05:08.022854Z",
     "shell.execute_reply": "2022-03-26T12:05:08.023163Z"
    },
    "papermill": {
     "duration": 1.864084,
     "end_time": "2022-03-26T12:05:08.023310",
     "exception": false,
     "start_time": "2022-03-26T12:05:06.159226",
     "status": "completed"
    },
    "tags": []
   },
   "outputs": [],
   "source": [
    "%load_ext autoreload\n",
    "%autoreload 2\n",
    "%matplotlib inline\n",
    "\n",
    "    \n",
    "import os, json, sys, time, random\n",
    "import numpy as np\n",
    "import torch\n",
    "from torch.optim import Adam\n",
    "from  easydict import EasyDict\n",
    "import matplotlib.pyplot as plt\n",
    "\n",
    "from steves_models.steves_ptn import Steves_Prototypical_Network\n",
    "\n",
    "from steves_utils.lazy_iterable_wrapper import Lazy_Iterable_Wrapper\n",
    "from steves_utils.iterable_aggregator import Iterable_Aggregator\n",
    "from steves_utils.ptn_train_eval_test_jig import  PTN_Train_Eval_Test_Jig\n",
    "from steves_utils.torch_sequential_builder import build_sequential\n",
    "from steves_utils.torch_utils import get_dataset_metrics, ptn_confusion_by_domain_over_dataloader\n",
    "from steves_utils.utils_v2 import (per_domain_accuracy_from_confusion, get_datasets_base_path)\n",
    "from steves_utils.PTN.utils import independent_accuracy_assesment\n",
    "\n",
    "from steves_utils.stratified_dataset.episodic_accessor import Episodic_Accessor_Factory\n",
    "\n",
    "from steves_utils.ptn_do_report import (\n",
    "    get_loss_curve,\n",
    "    get_results_table,\n",
    "    get_parameters_table,\n",
    "    get_domain_accuracies,\n",
    ")\n",
    "\n",
    "from steves_utils.transforms import get_chained_transform"
   ]
  },
  {
   "cell_type": "markdown",
   "id": "41c840b4",
   "metadata": {
    "papermill": {
     "duration": 0.013786,
     "end_time": "2022-03-26T12:05:08.051160",
     "exception": false,
     "start_time": "2022-03-26T12:05:08.037374",
     "status": "completed"
    },
    "tags": []
   },
   "source": [
    "# Required Parameters\n",
    "These are allowed parameters, not defaults\n",
    "Each of these values need to be present in the injected parameters (the notebook will raise an exception if they are not present)\n",
    "\n",
    "Papermill uses the cell tag \"parameters\" to inject the real parameters below this cell.\n",
    "Enable tags to see what I mean"
   ]
  },
  {
   "cell_type": "code",
   "execution_count": 2,
   "id": "fd44eb83",
   "metadata": {
    "execution": {
     "iopub.execute_input": "2022-03-26T12:05:08.082896Z",
     "iopub.status.busy": "2022-03-26T12:05:08.082516Z",
     "iopub.status.idle": "2022-03-26T12:05:08.101846Z",
     "shell.execute_reply": "2022-03-26T12:05:08.101044Z"
    },
    "papermill": {
     "duration": 0.037081,
     "end_time": "2022-03-26T12:05:08.102001",
     "exception": false,
     "start_time": "2022-03-26T12:05:08.064920",
     "status": "completed"
    },
    "tags": []
   },
   "outputs": [],
   "source": [
    "required_parameters = {\n",
    "    \"experiment_name\",\n",
    "    \"lr\",\n",
    "    \"device\",\n",
    "    \"seed\",\n",
    "    \"dataset_seed\",\n",
    "    \"labels_source\",\n",
    "    \"labels_target\",\n",
    "    \"domains_source\",\n",
    "    \"domains_target\",\n",
    "    \"num_examples_per_domain_per_label_source\",\n",
    "    \"num_examples_per_domain_per_label_target\",\n",
    "    \"n_shot\",\n",
    "    \"n_way\",\n",
    "    \"n_query\",\n",
    "    \"train_k_factor\",\n",
    "    \"val_k_factor\",\n",
    "    \"test_k_factor\",\n",
    "    \"n_epoch\",\n",
    "    \"patience\",\n",
    "    \"criteria_for_best\",\n",
    "    \"x_transforms_source\",\n",
    "    \"x_transforms_target\",\n",
    "    \"episode_transforms_source\",\n",
    "    \"episode_transforms_target\",\n",
    "    \"pickle_name\",\n",
    "    \"x_net\",\n",
    "    \"NUM_LOGS_PER_EPOCH\",\n",
    "    \"BEST_MODEL_PATH\",\n",
    "    \"torch_default_dtype\"\n",
    "}"
   ]
  },
  {
   "cell_type": "code",
   "execution_count": 3,
   "id": "fa3f0049",
   "metadata": {
    "execution": {
     "iopub.execute_input": "2022-03-26T12:05:08.149360Z",
     "iopub.status.busy": "2022-03-26T12:05:08.148458Z",
     "iopub.status.idle": "2022-03-26T12:05:08.168523Z",
     "shell.execute_reply": "2022-03-26T12:05:08.167860Z"
    },
    "papermill": {
     "duration": 0.047423,
     "end_time": "2022-03-26T12:05:08.168678",
     "exception": false,
     "start_time": "2022-03-26T12:05:08.121255",
     "status": "completed"
    },
    "tags": [
     "parameters"
    ]
   },
   "outputs": [],
   "source": [
    "\n",
    "\n",
    "standalone_parameters = {}\n",
    "standalone_parameters[\"experiment_name\"] = \"STANDALONE PTN\"\n",
    "standalone_parameters[\"lr\"] = 0.0001\n",
    "standalone_parameters[\"device\"] = \"cuda\"\n",
    "\n",
    "standalone_parameters[\"seed\"] = 1337\n",
    "standalone_parameters[\"dataset_seed\"] = 1337\n",
    "\n",
    "\n",
    "standalone_parameters[\"num_examples_per_domain_per_label_source\"]=100\n",
    "standalone_parameters[\"num_examples_per_domain_per_label_target\"]=100\n",
    "\n",
    "standalone_parameters[\"n_shot\"] = 3\n",
    "standalone_parameters[\"n_query\"]  = 2\n",
    "standalone_parameters[\"train_k_factor\"] = 1\n",
    "standalone_parameters[\"val_k_factor\"] = 2\n",
    "standalone_parameters[\"test_k_factor\"] = 2\n",
    "\n",
    "\n",
    "standalone_parameters[\"n_epoch\"] = 100\n",
    "\n",
    "standalone_parameters[\"patience\"] = 10\n",
    "standalone_parameters[\"criteria_for_best\"] = \"target_accuracy\"\n",
    "\n",
    "standalone_parameters[\"x_transforms_source\"] = [\"unit_power\"]\n",
    "standalone_parameters[\"x_transforms_target\"] = [\"unit_power\"]\n",
    "standalone_parameters[\"episode_transforms_source\"] = []\n",
    "standalone_parameters[\"episode_transforms_target\"] = []\n",
    "\n",
    "standalone_parameters[\"torch_default_dtype\"] = \"torch.float32\" \n",
    "\n",
    "\n",
    "\n",
    "standalone_parameters[\"x_net\"] =     [\n",
    "    {\"class\": \"nnReshape\", \"kargs\": {\"shape\":[-1, 1, 2, 256]}},\n",
    "    {\"class\": \"Conv2d\", \"kargs\": { \"in_channels\":1, \"out_channels\":256, \"kernel_size\":(1,7), \"bias\":False, \"padding\":(0,3), },},\n",
    "    {\"class\": \"ReLU\", \"kargs\": {\"inplace\": True}},\n",
    "    {\"class\": \"BatchNorm2d\", \"kargs\": {\"num_features\":256}},\n",
    "\n",
    "    {\"class\": \"Conv2d\", \"kargs\": { \"in_channels\":256, \"out_channels\":80, \"kernel_size\":(2,7), \"bias\":True, \"padding\":(0,3), },},\n",
    "    {\"class\": \"ReLU\", \"kargs\": {\"inplace\": True}},\n",
    "    {\"class\": \"BatchNorm2d\", \"kargs\": {\"num_features\":80}},\n",
    "    {\"class\": \"Flatten\", \"kargs\": {}},\n",
    "\n",
    "    {\"class\": \"Linear\", \"kargs\": {\"in_features\": 80*256, \"out_features\": 256}}, # 80 units per IQ pair\n",
    "    {\"class\": \"ReLU\", \"kargs\": {\"inplace\": True}},\n",
    "    {\"class\": \"BatchNorm1d\", \"kargs\": {\"num_features\":256}},\n",
    "\n",
    "    {\"class\": \"Linear\", \"kargs\": {\"in_features\": 256, \"out_features\": 256}},\n",
    "]\n",
    "\n",
    "# Parameters relevant to results\n",
    "# These parameters will basically never need to change\n",
    "standalone_parameters[\"NUM_LOGS_PER_EPOCH\"] = 10\n",
    "standalone_parameters[\"BEST_MODEL_PATH\"] = \"./best_model.pth\"\n",
    "\n",
    "# uncomment for CORES dataset\n",
    "from steves_utils.CORES.utils import (\n",
    "    ALL_NODES,\n",
    "    ALL_NODES_MINIMUM_1000_EXAMPLES,\n",
    "    ALL_DAYS\n",
    ")\n",
    "\n",
    "\n",
    "standalone_parameters[\"labels_source\"] = ALL_NODES\n",
    "standalone_parameters[\"labels_target\"] = ALL_NODES\n",
    "\n",
    "standalone_parameters[\"domains_source\"] = [1]\n",
    "standalone_parameters[\"domains_target\"] = [2,3,4,5]\n",
    "\n",
    "standalone_parameters[\"pickle_name\"] = \"cores.stratified_ds.2022A.pkl\"\n",
    "\n",
    "\n",
    "# Uncomment these for ORACLE dataset\n",
    "# from steves_utils.ORACLE.utils_v2 import (\n",
    "#     ALL_DISTANCES_FEET,\n",
    "#     ALL_RUNS,\n",
    "#     ALL_SERIAL_NUMBERS,\n",
    "# )\n",
    "# standalone_parameters[\"labels_source\"] = ALL_SERIAL_NUMBERS\n",
    "# standalone_parameters[\"labels_target\"] = ALL_SERIAL_NUMBERS\n",
    "# standalone_parameters[\"domains_source\"] = [8,20, 38,50]\n",
    "# standalone_parameters[\"domains_target\"] = [14, 26, 32, 44, 56]\n",
    "# standalone_parameters[\"pickle_name\"] = \"oracle.frame_indexed.stratified_ds.2022A.pkl\"\n",
    "# standalone_parameters[\"num_examples_per_domain_per_label_source\"]=1000\n",
    "# standalone_parameters[\"num_examples_per_domain_per_label_target\"]=1000\n",
    "\n",
    "# Uncomment these for Metahan dataset\n",
    "# standalone_parameters[\"labels_source\"] = list(range(19))\n",
    "# standalone_parameters[\"labels_target\"] = list(range(19))\n",
    "# standalone_parameters[\"domains_source\"] = [0]\n",
    "# standalone_parameters[\"domains_target\"] = [1]\n",
    "# standalone_parameters[\"pickle_name\"] = \"metehan.stratified_ds.2022A.pkl\"\n",
    "# standalone_parameters[\"n_way\"]  = len(standalone_parameters[\"labels_source\"])\n",
    "# standalone_parameters[\"num_examples_per_domain_per_label_source\"]=200\n",
    "# standalone_parameters[\"num_examples_per_domain_per_label_target\"]=100\n",
    "\n",
    "\n",
    "standalone_parameters[\"n_way\"]  = len(standalone_parameters[\"labels_source\"])"
   ]
  },
  {
   "cell_type": "code",
   "execution_count": 4,
   "id": "7f52ae20",
   "metadata": {
    "execution": {
     "iopub.execute_input": "2022-03-26T12:05:08.215971Z",
     "iopub.status.busy": "2022-03-26T12:05:08.212424Z",
     "iopub.status.idle": "2022-03-26T12:05:08.234427Z",
     "shell.execute_reply": "2022-03-26T12:05:08.233708Z"
    },
    "papermill": {
     "duration": 0.043314,
     "end_time": "2022-03-26T12:05:08.234578",
     "exception": false,
     "start_time": "2022-03-26T12:05:08.191264",
     "status": "completed"
    },
    "tags": [
     "injected-parameters"
    ]
   },
   "outputs": [],
   "source": [
    "# Parameters\n",
    "parameters = {\n",
    "    \"experiment_name\": \"tuned_1v2:oracle.run1_limited\",\n",
    "    \"device\": \"cuda\",\n",
    "    \"lr\": 0.0001,\n",
    "    \"labels_source\": [\n",
    "        \"3123D52\",\n",
    "        \"3123D65\",\n",
    "        \"3123D79\",\n",
    "        \"3123D80\",\n",
    "        \"3123D54\",\n",
    "        \"3123D70\",\n",
    "        \"3123D7B\",\n",
    "        \"3123D89\",\n",
    "        \"3123D58\",\n",
    "        \"3123D76\",\n",
    "        \"3123D7D\",\n",
    "        \"3123EFE\",\n",
    "        \"3123D64\",\n",
    "        \"3123D78\",\n",
    "        \"3123D7E\",\n",
    "        \"3124E4A\",\n",
    "    ],\n",
    "    \"labels_target\": [\n",
    "        \"3123D52\",\n",
    "        \"3123D65\",\n",
    "        \"3123D79\",\n",
    "        \"3123D80\",\n",
    "        \"3123D54\",\n",
    "        \"3123D70\",\n",
    "        \"3123D7B\",\n",
    "        \"3123D89\",\n",
    "        \"3123D58\",\n",
    "        \"3123D76\",\n",
    "        \"3123D7D\",\n",
    "        \"3123EFE\",\n",
    "        \"3123D64\",\n",
    "        \"3123D78\",\n",
    "        \"3123D7E\",\n",
    "        \"3124E4A\",\n",
    "    ],\n",
    "    \"episode_transforms_source\": [],\n",
    "    \"episode_transforms_target\": [],\n",
    "    \"domains_source\": [8, 32, 50],\n",
    "    \"domains_target\": [14, 20, 26, 38, 44],\n",
    "    \"num_examples_per_domain_per_label_source\": -1,\n",
    "    \"num_examples_per_domain_per_label_target\": -1,\n",
    "    \"n_shot\": 3,\n",
    "    \"n_way\": 16,\n",
    "    \"n_query\": 2,\n",
    "    \"train_k_factor\": 3,\n",
    "    \"val_k_factor\": 2,\n",
    "    \"test_k_factor\": 2,\n",
    "    \"torch_default_dtype\": \"torch.float32\",\n",
    "    \"n_epoch\": 50,\n",
    "    \"patience\": 3,\n",
    "    \"criteria_for_best\": \"target_accuracy\",\n",
    "    \"x_net\": [\n",
    "        {\"class\": \"nnReshape\", \"kargs\": {\"shape\": [-1, 1, 2, 256]}},\n",
    "        {\n",
    "            \"class\": \"Conv2d\",\n",
    "            \"kargs\": {\n",
    "                \"in_channels\": 1,\n",
    "                \"out_channels\": 256,\n",
    "                \"kernel_size\": [1, 7],\n",
    "                \"bias\": False,\n",
    "                \"padding\": [0, 3],\n",
    "            },\n",
    "        },\n",
    "        {\"class\": \"ReLU\", \"kargs\": {\"inplace\": True}},\n",
    "        {\"class\": \"BatchNorm2d\", \"kargs\": {\"num_features\": 256}},\n",
    "        {\n",
    "            \"class\": \"Conv2d\",\n",
    "            \"kargs\": {\n",
    "                \"in_channels\": 256,\n",
    "                \"out_channels\": 80,\n",
    "                \"kernel_size\": [2, 7],\n",
    "                \"bias\": True,\n",
    "                \"padding\": [0, 3],\n",
    "            },\n",
    "        },\n",
    "        {\"class\": \"ReLU\", \"kargs\": {\"inplace\": True}},\n",
    "        {\"class\": \"BatchNorm2d\", \"kargs\": {\"num_features\": 80}},\n",
    "        {\"class\": \"Flatten\", \"kargs\": {}},\n",
    "        {\"class\": \"Linear\", \"kargs\": {\"in_features\": 20480, \"out_features\": 256}},\n",
    "        {\"class\": \"ReLU\", \"kargs\": {\"inplace\": True}},\n",
    "        {\"class\": \"BatchNorm1d\", \"kargs\": {\"num_features\": 256}},\n",
    "        {\"class\": \"Linear\", \"kargs\": {\"in_features\": 256, \"out_features\": 256}},\n",
    "    ],\n",
    "    \"NUM_LOGS_PER_EPOCH\": 10,\n",
    "    \"BEST_MODEL_PATH\": \"./best_model.pth\",\n",
    "    \"pickle_name\": \"oracle.Run1_10kExamples_stratified_ds.2022A.pkl\",\n",
    "    \"x_transforms_source\": [],\n",
    "    \"x_transforms_target\": [],\n",
    "    \"dataset_seed\": 7,\n",
    "    \"seed\": 7,\n",
    "}\n"
   ]
  },
  {
   "cell_type": "code",
   "execution_count": 5,
   "id": "8fa1cc33",
   "metadata": {
    "execution": {
     "iopub.execute_input": "2022-03-26T12:05:08.273623Z",
     "iopub.status.busy": "2022-03-26T12:05:08.273255Z",
     "iopub.status.idle": "2022-03-26T12:05:08.290446Z",
     "shell.execute_reply": "2022-03-26T12:05:08.289655Z"
    },
    "papermill": {
     "duration": 0.034944,
     "end_time": "2022-03-26T12:05:08.290598",
     "exception": false,
     "start_time": "2022-03-26T12:05:08.255654",
     "status": "completed"
    },
    "tags": []
   },
   "outputs": [],
   "source": [
    "# Set this to True if you want to run this template directly\n",
    "STANDALONE = False\n",
    "if STANDALONE:\n",
    "    print(\"parameters not injected, running with standalone_parameters\")\n",
    "    parameters = standalone_parameters\n",
    "\n",
    "if not 'parameters' in locals() and not 'parameters' in globals():\n",
    "    raise Exception(\"Parameter injection failed\")\n",
    "\n",
    "#Use an easy dict for all the parameters\n",
    "p = EasyDict(parameters)\n",
    "\n",
    "supplied_keys = set(p.keys())\n",
    "\n",
    "if  supplied_keys != required_parameters:\n",
    "    print(\"Parameters are incorrect\")\n",
    "    if len(supplied_keys - required_parameters)>0: print(\"Shouldn't have:\", str(supplied_keys - required_parameters))\n",
    "    if len(required_parameters - supplied_keys)>0: print(\"Need to have:\", str(required_parameters - supplied_keys))\n",
    "    raise RuntimeError(\"Parameters are incorrect\")\n",
    "\n"
   ]
  },
  {
   "cell_type": "code",
   "execution_count": 6,
   "id": "3a028d58",
   "metadata": {
    "execution": {
     "iopub.execute_input": "2022-03-26T12:05:08.326145Z",
     "iopub.status.busy": "2022-03-26T12:05:08.325784Z",
     "iopub.status.idle": "2022-03-26T12:05:08.343502Z",
     "shell.execute_reply": "2022-03-26T12:05:08.342716Z"
    },
    "papermill": {
     "duration": 0.034019,
     "end_time": "2022-03-26T12:05:08.343671",
     "exception": false,
     "start_time": "2022-03-26T12:05:08.309652",
     "status": "completed"
    },
    "tags": []
   },
   "outputs": [],
   "source": [
    "###################################\n",
    "# Set the RNGs and make it all deterministic\n",
    "###################################\n",
    "np.random.seed(p.seed)\n",
    "random.seed(p.seed)\n",
    "torch.manual_seed(p.seed)\n",
    "\n",
    "torch.use_deterministic_algorithms(True) "
   ]
  },
  {
   "cell_type": "code",
   "execution_count": 7,
   "id": "b691acf6",
   "metadata": {
    "execution": {
     "iopub.execute_input": "2022-03-26T12:05:08.381293Z",
     "iopub.status.busy": "2022-03-26T12:05:08.380728Z",
     "iopub.status.idle": "2022-03-26T12:05:08.403703Z",
     "shell.execute_reply": "2022-03-26T12:05:08.402898Z"
    },
    "papermill": {
     "duration": 0.041514,
     "end_time": "2022-03-26T12:05:08.403853",
     "exception": false,
     "start_time": "2022-03-26T12:05:08.362339",
     "status": "completed"
    },
    "tags": []
   },
   "outputs": [],
   "source": [
    "###########################################\n",
    "# The stratified datasets honor this\n",
    "###########################################\n",
    "torch.set_default_dtype(eval(p.torch_default_dtype))"
   ]
  },
  {
   "cell_type": "code",
   "execution_count": 8,
   "id": "b5fba671",
   "metadata": {
    "execution": {
     "iopub.execute_input": "2022-03-26T12:05:08.450383Z",
     "iopub.status.busy": "2022-03-26T12:05:08.441170Z",
     "iopub.status.idle": "2022-03-26T12:05:08.495295Z",
     "shell.execute_reply": "2022-03-26T12:05:08.495997Z"
    },
    "papermill": {
     "duration": 0.071764,
     "end_time": "2022-03-26T12:05:08.496173",
     "exception": false,
     "start_time": "2022-03-26T12:05:08.424409",
     "status": "completed"
    },
    "tags": []
   },
   "outputs": [],
   "source": [
    "###################################\n",
    "# Build the network(s)\n",
    "# Note: It's critical to do this AFTER setting the RNG\n",
    "# (This is due to the randomized initial weights)\n",
    "###################################\n",
    "x_net = build_sequential(p.x_net)"
   ]
  },
  {
   "cell_type": "code",
   "execution_count": 9,
   "id": "5d7e61cc",
   "metadata": {
    "execution": {
     "iopub.execute_input": "2022-03-26T12:05:08.533261Z",
     "iopub.status.busy": "2022-03-26T12:05:08.532902Z",
     "iopub.status.idle": "2022-03-26T12:05:08.559086Z",
     "shell.execute_reply": "2022-03-26T12:05:08.558394Z"
    },
    "papermill": {
     "duration": 0.044485,
     "end_time": "2022-03-26T12:05:08.559234",
     "exception": false,
     "start_time": "2022-03-26T12:05:08.514749",
     "status": "completed"
    },
    "tags": []
   },
   "outputs": [],
   "source": [
    "start_time_secs = time.time()"
   ]
  },
  {
   "cell_type": "code",
   "execution_count": 10,
   "id": "fd5442bc",
   "metadata": {
    "execution": {
     "iopub.execute_input": "2022-03-26T12:05:08.611862Z",
     "iopub.status.busy": "2022-03-26T12:05:08.610973Z",
     "iopub.status.idle": "2022-03-26T12:05:19.673611Z",
     "shell.execute_reply": "2022-03-26T12:05:19.672865Z"
    },
    "papermill": {
     "duration": 11.090907,
     "end_time": "2022-03-26T12:05:19.673797",
     "exception": false,
     "start_time": "2022-03-26T12:05:08.582890",
     "status": "completed"
    },
    "tags": []
   },
   "outputs": [],
   "source": [
    "###################################\n",
    "# Build the dataset\n",
    "###################################\n",
    "\n",
    "if p.x_transforms_source == []: x_transform_source = None\n",
    "else: x_transform_source = get_chained_transform(p.x_transforms_source) \n",
    "\n",
    "if p.x_transforms_target == []: x_transform_target = None\n",
    "else: x_transform_target = get_chained_transform(p.x_transforms_target)\n",
    "\n",
    "if p.episode_transforms_source == []: episode_transform_source = None\n",
    "else: raise Exception(\"episode_transform_source not implemented\")\n",
    "\n",
    "if p.episode_transforms_target == []: episode_transform_target = None\n",
    "else: raise Exception(\"episode_transform_target not implemented\")\n",
    "\n",
    "\n",
    "eaf_source = Episodic_Accessor_Factory(\n",
    "    labels=p.labels_source,\n",
    "    domains=p.domains_source,\n",
    "    num_examples_per_domain_per_label=p.num_examples_per_domain_per_label_source,\n",
    "    iterator_seed=p.seed,\n",
    "    dataset_seed=p.dataset_seed,\n",
    "    n_shot=p.n_shot,\n",
    "    n_way=p.n_way,\n",
    "    n_query=p.n_query,\n",
    "    train_val_test_k_factors=(p.train_k_factor,p.val_k_factor,p.test_k_factor),\n",
    "    pickle_path=os.path.join(get_datasets_base_path(), p.pickle_name),\n",
    "    x_transform_func=x_transform_source,\n",
    "    example_transform_func=episode_transform_source,\n",
    "    \n",
    ")\n",
    "train_original_source, val_original_source, test_original_source = eaf_source.get_train(), eaf_source.get_val(), eaf_source.get_test()\n",
    "\n",
    "\n",
    "eaf_target = Episodic_Accessor_Factory(\n",
    "    labels=p.labels_target,\n",
    "    domains=p.domains_target,\n",
    "    num_examples_per_domain_per_label=p.num_examples_per_domain_per_label_target,\n",
    "    iterator_seed=p.seed,\n",
    "    dataset_seed=p.dataset_seed,\n",
    "    n_shot=p.n_shot,\n",
    "    n_way=p.n_way,\n",
    "    n_query=p.n_query,\n",
    "    train_val_test_k_factors=(p.train_k_factor,p.val_k_factor,p.test_k_factor),\n",
    "    pickle_path=os.path.join(get_datasets_base_path(), p.pickle_name),\n",
    "    x_transform_func=x_transform_target,\n",
    "    example_transform_func=episode_transform_target,\n",
    ")\n",
    "train_original_target, val_original_target, test_original_target = eaf_target.get_train(), eaf_target.get_val(), eaf_target.get_test()\n",
    "\n",
    "\n",
    "transform_lambda = lambda ex: ex[1] # Original is (<domain>, <episode>) so we strip down to episode only\n",
    "\n",
    "train_processed_source = Lazy_Iterable_Wrapper(train_original_source, transform_lambda)\n",
    "val_processed_source   = Lazy_Iterable_Wrapper(val_original_source, transform_lambda)\n",
    "test_processed_source  = Lazy_Iterable_Wrapper(test_original_source, transform_lambda)\n",
    "\n",
    "train_processed_target = Lazy_Iterable_Wrapper(train_original_target, transform_lambda)\n",
    "val_processed_target   = Lazy_Iterable_Wrapper(val_original_target, transform_lambda)\n",
    "test_processed_target  = Lazy_Iterable_Wrapper(test_original_target, transform_lambda)\n",
    "\n",
    "datasets = EasyDict({\n",
    "    \"source\": {\n",
    "        \"original\": {\"train\":train_original_source, \"val\":val_original_source, \"test\":test_original_source},\n",
    "        \"processed\": {\"train\":train_processed_source, \"val\":val_processed_source, \"test\":test_processed_source}\n",
    "    },\n",
    "    \"target\": {\n",
    "        \"original\": {\"train\":train_original_target, \"val\":val_original_target, \"test\":test_original_target},\n",
    "        \"processed\": {\"train\":train_processed_target, \"val\":val_processed_target, \"test\":test_processed_target}\n",
    "    },\n",
    "})"
   ]
  },
  {
   "cell_type": "code",
   "execution_count": 11,
   "id": "296189d9",
   "metadata": {
    "execution": {
     "iopub.execute_input": "2022-03-26T12:05:19.718951Z",
     "iopub.status.busy": "2022-03-26T12:05:19.718100Z",
     "iopub.status.idle": "2022-03-26T12:05:25.684203Z",
     "shell.execute_reply": "2022-03-26T12:05:25.685037Z"
    },
    "papermill": {
     "duration": 5.990377,
     "end_time": "2022-03-26T12:05:25.685312",
     "exception": false,
     "start_time": "2022-03-26T12:05:19.694935",
     "status": "completed"
    },
    "tags": []
   },
   "outputs": [
    {
     "name": "stdout",
     "output_type": "stream",
     "text": [
      "Visually inspect these to see if they line up with expected values given the transforms\n",
      "x_transforms_source []\n",
      "x_transforms_target []\n",
      "Average magnitude, source: 0.0025955061\n",
      "Average power, source: 7.379712e-06\n"
     ]
    },
    {
     "name": "stdout",
     "output_type": "stream",
     "text": [
      "Average magnitude, target: 0.0031368406\n",
      "Average power, target: 1.2288787e-05\n"
     ]
    }
   ],
   "source": [
    "# Some quick unit tests on the data\n",
    "from steves_utils.transforms import get_average_power, get_average_magnitude\n",
    "\n",
    "q_x, q_y, s_x, s_y, truth = next(iter(train_processed_source))\n",
    "\n",
    "assert q_x.dtype == eval(p.torch_default_dtype)\n",
    "assert s_x.dtype == eval(p.torch_default_dtype)\n",
    "\n",
    "print(\"Visually inspect these to see if they line up with expected values given the transforms\")\n",
    "print('x_transforms_source', p.x_transforms_source)\n",
    "print('x_transforms_target', p.x_transforms_target)\n",
    "print(\"Average magnitude, source:\", get_average_magnitude(q_x[0].numpy()))\n",
    "print(\"Average power, source:\", get_average_power(q_x[0].numpy()))\n",
    "\n",
    "q_x, q_y, s_x, s_y, truth = next(iter(train_processed_target))\n",
    "print(\"Average magnitude, target:\", get_average_magnitude(q_x[0].numpy()))\n",
    "print(\"Average power, target:\", get_average_power(q_x[0].numpy()))\n"
   ]
  },
  {
   "cell_type": "code",
   "execution_count": 12,
   "id": "bbdacba1",
   "metadata": {
    "execution": {
     "iopub.execute_input": "2022-03-26T12:05:25.729313Z",
     "iopub.status.busy": "2022-03-26T12:05:25.728469Z",
     "iopub.status.idle": "2022-03-26T12:05:25.887065Z",
     "shell.execute_reply": "2022-03-26T12:05:25.886721Z"
    },
    "papermill": {
     "duration": 0.179944,
     "end_time": "2022-03-26T12:05:25.887153",
     "exception": false,
     "start_time": "2022-03-26T12:05:25.707209",
     "status": "completed"
    },
    "tags": []
   },
   "outputs": [
    {
     "name": "stdout",
     "output_type": "stream",
     "text": [
      "(2, 256)\n"
     ]
    }
   ],
   "source": [
    "###################################\n",
    "# Build the model\n",
    "###################################\n",
    "model = Steves_Prototypical_Network(x_net, device=p.device, x_shape=(2,256))\n",
    "optimizer = Adam(params=model.parameters(), lr=p.lr)"
   ]
  },
  {
   "cell_type": "code",
   "execution_count": 13,
   "id": "22b39ac5",
   "metadata": {
    "execution": {
     "iopub.execute_input": "2022-03-26T12:05:25.964220Z",
     "iopub.status.busy": "2022-03-26T12:05:25.963846Z",
     "iopub.status.idle": "2022-03-26T12:40:26.564972Z",
     "shell.execute_reply": "2022-03-26T12:40:26.564624Z"
    },
    "papermill": {
     "duration": 2100.637533,
     "end_time": "2022-03-26T12:40:26.565061",
     "exception": false,
     "start_time": "2022-03-26T12:05:25.927528",
     "status": "completed"
    },
    "tags": []
   },
   "outputs": [
    {
     "name": "stdout",
     "output_type": "stream",
     "text": [
      "epoch: 1, [batch: 1 / 12600], examples_per_second: 17.6986, train_label_loss: 2.6998, \n"
     ]
    },
    {
     "name": "stdout",
     "output_type": "stream",
     "text": [
      "epoch: 1, [batch: 1260 / 12600], examples_per_second: 4261.6173, train_label_loss: 1.0661, \n"
     ]
    },
    {
     "name": "stdout",
     "output_type": "stream",
     "text": [
      "epoch: 1, [batch: 2520 / 12600], examples_per_second: 4373.5877, train_label_loss: 0.4178, \n"
     ]
    },
    {
     "name": "stdout",
     "output_type": "stream",
     "text": [
      "epoch: 1, [batch: 3780 / 12600], examples_per_second: 4689.2243, train_label_loss: 0.7576, \n"
     ]
    },
    {
     "name": "stdout",
     "output_type": "stream",
     "text": [
      "epoch: 1, [batch: 5040 / 12600], examples_per_second: 3909.3144, train_label_loss: 0.9860, \n"
     ]
    },
    {
     "name": "stdout",
     "output_type": "stream",
     "text": [
      "epoch: 1, [batch: 6300 / 12600], examples_per_second: 3927.9201, train_label_loss: 0.2485, \n"
     ]
    },
    {
     "name": "stdout",
     "output_type": "stream",
     "text": [
      "epoch: 1, [batch: 7560 / 12600], examples_per_second: 3898.9761, train_label_loss: 0.6150, \n"
     ]
    },
    {
     "name": "stdout",
     "output_type": "stream",
     "text": [
      "epoch: 1, [batch: 8820 / 12600], examples_per_second: 3774.9871, train_label_loss: 0.3479, \n"
     ]
    },
    {
     "name": "stdout",
     "output_type": "stream",
     "text": [
      "epoch: 1, [batch: 10080 / 12600], examples_per_second: 3793.2736, train_label_loss: 0.2540, \n"
     ]
    },
    {
     "name": "stdout",
     "output_type": "stream",
     "text": [
      "epoch: 1, [batch: 11340 / 12600], examples_per_second: 3949.9492, train_label_loss: 0.4917, \n"
     ]
    },
    {
     "name": "stdout",
     "output_type": "stream",
     "text": [
      "=============================================================\n",
      "epoch: 1, source_val_acc_label: 0.7449, target_val_acc_label: 0.6489, source_val_label_loss: 4.7778, target_val_label_loss: 2.8817, \n",
      "=============================================================\n"
     ]
    },
    {
     "name": "stdout",
     "output_type": "stream",
     "text": [
      "New best\n"
     ]
    },
    {
     "name": "stdout",
     "output_type": "stream",
     "text": [
      "epoch: 2, [batch: 1 / 12600], examples_per_second: 1.8335, train_label_loss: 13.0167, \n"
     ]
    },
    {
     "name": "stdout",
     "output_type": "stream",
     "text": [
      "epoch: 2, [batch: 1260 / 12600], examples_per_second: 4325.0978, train_label_loss: 0.4716, \n"
     ]
    },
    {
     "name": "stdout",
     "output_type": "stream",
     "text": [
      "epoch: 2, [batch: 2520 / 12600], examples_per_second: 4233.0619, train_label_loss: 0.3524, \n"
     ]
    },
    {
     "name": "stdout",
     "output_type": "stream",
     "text": [
      "epoch: 2, [batch: 3780 / 12600], examples_per_second: 4516.5382, train_label_loss: 0.3689, \n"
     ]
    },
    {
     "name": "stdout",
     "output_type": "stream",
     "text": [
      "epoch: 2, [batch: 5040 / 12600], examples_per_second: 3866.2449, train_label_loss: 0.5514, \n"
     ]
    },
    {
     "name": "stdout",
     "output_type": "stream",
     "text": [
      "epoch: 2, [batch: 6300 / 12600], examples_per_second: 3986.0270, train_label_loss: 0.3380, \n"
     ]
    },
    {
     "name": "stdout",
     "output_type": "stream",
     "text": [
      "epoch: 2, [batch: 7560 / 12600], examples_per_second: 3880.0910, train_label_loss: 0.2888, \n"
     ]
    },
    {
     "name": "stdout",
     "output_type": "stream",
     "text": [
      "epoch: 2, [batch: 8820 / 12600], examples_per_second: 3894.0632, train_label_loss: 0.3003, \n"
     ]
    },
    {
     "name": "stdout",
     "output_type": "stream",
     "text": [
      "epoch: 2, [batch: 10080 / 12600], examples_per_second: 3920.2316, train_label_loss: 0.0762, \n"
     ]
    },
    {
     "name": "stdout",
     "output_type": "stream",
     "text": [
      "epoch: 2, [batch: 11340 / 12600], examples_per_second: 3989.9334, train_label_loss: 0.2414, \n"
     ]
    },
    {
     "name": "stdout",
     "output_type": "stream",
     "text": [
      "=============================================================\n",
      "epoch: 2, source_val_acc_label: 0.8569, target_val_acc_label: 0.7559, source_val_label_loss: 0.3901, target_val_label_loss: 0.6921, \n",
      "=============================================================\n"
     ]
    },
    {
     "name": "stdout",
     "output_type": "stream",
     "text": [
      "New best\n"
     ]
    },
    {
     "name": "stdout",
     "output_type": "stream",
     "text": [
      "epoch: 3, [batch: 1 / 12600], examples_per_second: 1.7653, train_label_loss: 0.3236, \n"
     ]
    },
    {
     "name": "stdout",
     "output_type": "stream",
     "text": [
      "epoch: 3, [batch: 1260 / 12600], examples_per_second: 4433.7734, train_label_loss: 0.1528, \n"
     ]
    },
    {
     "name": "stdout",
     "output_type": "stream",
     "text": [
      "epoch: 3, [batch: 2520 / 12600], examples_per_second: 4300.7812, train_label_loss: 0.5376, \n"
     ]
    },
    {
     "name": "stdout",
     "output_type": "stream",
     "text": [
      "epoch: 3, [batch: 3780 / 12600], examples_per_second: 4723.4561, train_label_loss: 0.3649, \n"
     ]
    },
    {
     "name": "stdout",
     "output_type": "stream",
     "text": [
      "epoch: 3, [batch: 5040 / 12600], examples_per_second: 3952.7882, train_label_loss: 0.1999, \n"
     ]
    },
    {
     "name": "stdout",
     "output_type": "stream",
     "text": [
      "epoch: 3, [batch: 6300 / 12600], examples_per_second: 4001.5151, train_label_loss: 0.1965, \n"
     ]
    },
    {
     "name": "stdout",
     "output_type": "stream",
     "text": [
      "epoch: 3, [batch: 7560 / 12600], examples_per_second: 3999.3782, train_label_loss: 0.3459, \n"
     ]
    },
    {
     "name": "stdout",
     "output_type": "stream",
     "text": [
      "epoch: 3, [batch: 8820 / 12600], examples_per_second: 3972.3346, train_label_loss: 0.2136, \n"
     ]
    },
    {
     "name": "stdout",
     "output_type": "stream",
     "text": [
      "epoch: 3, [batch: 10080 / 12600], examples_per_second: 3857.1800, train_label_loss: 0.0465, \n"
     ]
    },
    {
     "name": "stdout",
     "output_type": "stream",
     "text": [
      "epoch: 3, [batch: 11340 / 12600], examples_per_second: 3889.3890, train_label_loss: 0.3175, \n"
     ]
    },
    {
     "name": "stdout",
     "output_type": "stream",
     "text": [
      "=============================================================\n",
      "epoch: 3, source_val_acc_label: 0.8745, target_val_acc_label: 0.7682, source_val_label_loss: 0.3464, target_val_label_loss: 0.6589, \n",
      "=============================================================\n"
     ]
    },
    {
     "name": "stdout",
     "output_type": "stream",
     "text": [
      "New best\n"
     ]
    },
    {
     "name": "stdout",
     "output_type": "stream",
     "text": [
      "epoch: 4, [batch: 1 / 12600], examples_per_second: 1.7847, train_label_loss: 0.2693, \n"
     ]
    },
    {
     "name": "stdout",
     "output_type": "stream",
     "text": [
      "epoch: 4, [batch: 1260 / 12600], examples_per_second: 4274.1385, train_label_loss: 0.3036, \n"
     ]
    },
    {
     "name": "stdout",
     "output_type": "stream",
     "text": [
      "epoch: 4, [batch: 2520 / 12600], examples_per_second: 4196.9053, train_label_loss: 0.2240, \n"
     ]
    },
    {
     "name": "stdout",
     "output_type": "stream",
     "text": [
      "epoch: 4, [batch: 3780 / 12600], examples_per_second: 4333.1324, train_label_loss: 0.3547, \n"
     ]
    },
    {
     "name": "stdout",
     "output_type": "stream",
     "text": [
      "epoch: 4, [batch: 5040 / 12600], examples_per_second: 4368.3627, train_label_loss: 0.2755, \n"
     ]
    },
    {
     "name": "stdout",
     "output_type": "stream",
     "text": [
      "epoch: 4, [batch: 6300 / 12600], examples_per_second: 4260.2572, train_label_loss: 0.1294, \n"
     ]
    },
    {
     "name": "stdout",
     "output_type": "stream",
     "text": [
      "epoch: 4, [batch: 7560 / 12600], examples_per_second: 4287.5675, train_label_loss: 0.3956, \n"
     ]
    },
    {
     "name": "stdout",
     "output_type": "stream",
     "text": [
      "epoch: 4, [batch: 8820 / 12600], examples_per_second: 4357.1229, train_label_loss: 0.2474, \n"
     ]
    },
    {
     "name": "stdout",
     "output_type": "stream",
     "text": [
      "epoch: 4, [batch: 10080 / 12600], examples_per_second: 4287.2404, train_label_loss: 0.1904, \n"
     ]
    },
    {
     "name": "stdout",
     "output_type": "stream",
     "text": [
      "epoch: 4, [batch: 11340 / 12600], examples_per_second: 4198.8344, train_label_loss: 0.3320, \n"
     ]
    },
    {
     "name": "stdout",
     "output_type": "stream",
     "text": [
      "=============================================================\n",
      "epoch: 4, source_val_acc_label: 0.8797, target_val_acc_label: 0.7621, source_val_label_loss: 0.3421, target_val_label_loss: 0.6737, \n",
      "=============================================================\n"
     ]
    },
    {
     "name": "stdout",
     "output_type": "stream",
     "text": [
      "epoch: 5, [batch: 1 / 12600], examples_per_second: 2.1549, train_label_loss: 0.1124, \n"
     ]
    },
    {
     "name": "stdout",
     "output_type": "stream",
     "text": [
      "epoch: 5, [batch: 1260 / 12600], examples_per_second: 4998.4037, train_label_loss: 0.2520, \n"
     ]
    },
    {
     "name": "stdout",
     "output_type": "stream",
     "text": [
      "epoch: 5, [batch: 2520 / 12600], examples_per_second: 5029.1907, train_label_loss: 0.1900, \n"
     ]
    },
    {
     "name": "stdout",
     "output_type": "stream",
     "text": [
      "epoch: 5, [batch: 3780 / 12600], examples_per_second: 5175.0696, train_label_loss: 0.1760, \n"
     ]
    },
    {
     "name": "stdout",
     "output_type": "stream",
     "text": [
      "epoch: 5, [batch: 5040 / 12600], examples_per_second: 4918.0706, train_label_loss: 0.0912, \n"
     ]
    },
    {
     "name": "stdout",
     "output_type": "stream",
     "text": [
      "epoch: 5, [batch: 6300 / 12600], examples_per_second: 5086.8019, train_label_loss: 0.1955, \n"
     ]
    },
    {
     "name": "stdout",
     "output_type": "stream",
     "text": [
      "epoch: 5, [batch: 7560 / 12600], examples_per_second: 5173.7756, train_label_loss: 0.3407, \n"
     ]
    },
    {
     "name": "stdout",
     "output_type": "stream",
     "text": [
      "epoch: 5, [batch: 8820 / 12600], examples_per_second: 5342.8146, train_label_loss: 0.3381, \n"
     ]
    },
    {
     "name": "stdout",
     "output_type": "stream",
     "text": [
      "epoch: 5, [batch: 10080 / 12600], examples_per_second: 5228.7746, train_label_loss: 0.2356, \n"
     ]
    },
    {
     "name": "stdout",
     "output_type": "stream",
     "text": [
      "epoch: 5, [batch: 11340 / 12600], examples_per_second: 5195.7808, train_label_loss: 0.0597, \n"
     ]
    },
    {
     "name": "stdout",
     "output_type": "stream",
     "text": [
      "=============================================================\n",
      "epoch: 5, source_val_acc_label: 0.8830, target_val_acc_label: 0.7628, source_val_label_loss: 0.3322, target_val_label_loss: 0.6712, \n",
      "=============================================================\n"
     ]
    },
    {
     "name": "stdout",
     "output_type": "stream",
     "text": [
      "epoch: 6, [batch: 1 / 12600], examples_per_second: 2.0008, train_label_loss: 0.1497, \n"
     ]
    },
    {
     "name": "stdout",
     "output_type": "stream",
     "text": [
      "epoch: 6, [batch: 1260 / 12600], examples_per_second: 4053.6776, train_label_loss: 0.0622, \n"
     ]
    },
    {
     "name": "stdout",
     "output_type": "stream",
     "text": [
      "epoch: 6, [batch: 2520 / 12600], examples_per_second: 3975.3129, train_label_loss: 0.1204, \n"
     ]
    },
    {
     "name": "stdout",
     "output_type": "stream",
     "text": [
      "epoch: 6, [batch: 3780 / 12600], examples_per_second: 4282.5907, train_label_loss: 0.1423, \n"
     ]
    },
    {
     "name": "stdout",
     "output_type": "stream",
     "text": [
      "epoch: 6, [batch: 5040 / 12600], examples_per_second: 3871.7457, train_label_loss: 0.4639, \n"
     ]
    },
    {
     "name": "stdout",
     "output_type": "stream",
     "text": [
      "epoch: 6, [batch: 6300 / 12600], examples_per_second: 4051.7674, train_label_loss: 0.3071, \n"
     ]
    },
    {
     "name": "stdout",
     "output_type": "stream",
     "text": [
      "epoch: 6, [batch: 7560 / 12600], examples_per_second: 4118.0312, train_label_loss: 0.0876, \n"
     ]
    },
    {
     "name": "stdout",
     "output_type": "stream",
     "text": [
      "epoch: 6, [batch: 8820 / 12600], examples_per_second: 3919.7265, train_label_loss: 0.0903, \n"
     ]
    },
    {
     "name": "stdout",
     "output_type": "stream",
     "text": [
      "epoch: 6, [batch: 10080 / 12600], examples_per_second: 4160.2583, train_label_loss: 0.2079, \n"
     ]
    },
    {
     "name": "stdout",
     "output_type": "stream",
     "text": [
      "epoch: 6, [batch: 11340 / 12600], examples_per_second: 3889.6002, train_label_loss: 0.3132, \n"
     ]
    },
    {
     "name": "stdout",
     "output_type": "stream",
     "text": [
      "=============================================================\n",
      "epoch: 6, source_val_acc_label: 0.8844, target_val_acc_label: 0.7597, source_val_label_loss: 0.3315, target_val_label_loss: 0.6965, \n",
      "=============================================================\n"
     ]
    },
    {
     "name": "stdout",
     "output_type": "stream",
     "text": [
      "epoch: 7, [batch: 1 / 12600], examples_per_second: 1.8776, train_label_loss: 0.2410, \n"
     ]
    },
    {
     "name": "stdout",
     "output_type": "stream",
     "text": [
      "epoch: 7, [batch: 1260 / 12600], examples_per_second: 4103.8512, train_label_loss: 0.0778, \n"
     ]
    },
    {
     "name": "stdout",
     "output_type": "stream",
     "text": [
      "epoch: 7, [batch: 2520 / 12600], examples_per_second: 3958.3938, train_label_loss: 0.3518, \n"
     ]
    },
    {
     "name": "stdout",
     "output_type": "stream",
     "text": [
      "epoch: 7, [batch: 3780 / 12600], examples_per_second: 4261.8831, train_label_loss: 0.1358, \n"
     ]
    },
    {
     "name": "stdout",
     "output_type": "stream",
     "text": [
      "epoch: 7, [batch: 5040 / 12600], examples_per_second: 3828.5655, train_label_loss: 0.2644, \n"
     ]
    },
    {
     "name": "stdout",
     "output_type": "stream",
     "text": [
      "epoch: 7, [batch: 6300 / 12600], examples_per_second: 3888.9056, train_label_loss: 0.0933, \n"
     ]
    },
    {
     "name": "stdout",
     "output_type": "stream",
     "text": [
      "epoch: 7, [batch: 7560 / 12600], examples_per_second: 4312.3999, train_label_loss: 0.0834, \n"
     ]
    },
    {
     "name": "stdout",
     "output_type": "stream",
     "text": [
      "epoch: 7, [batch: 8820 / 12600], examples_per_second: 3915.2611, train_label_loss: 0.1601, \n"
     ]
    },
    {
     "name": "stdout",
     "output_type": "stream",
     "text": [
      "epoch: 7, [batch: 10080 / 12600], examples_per_second: 4139.3727, train_label_loss: 0.0298, \n"
     ]
    },
    {
     "name": "stdout",
     "output_type": "stream",
     "text": [
      "epoch: 7, [batch: 11340 / 12600], examples_per_second: 4000.1039, train_label_loss: 0.1693, \n"
     ]
    },
    {
     "name": "stdout",
     "output_type": "stream",
     "text": [
      "=============================================================\n",
      "epoch: 7, source_val_acc_label: 0.8863, target_val_acc_label: 0.7642, source_val_label_loss: 0.3477, target_val_label_loss: 0.7139, \n",
      "=============================================================\n"
     ]
    },
    {
     "name": "stdout",
     "output_type": "stream",
     "text": [
      "Patience (3) exhausted\n"
     ]
    }
   ],
   "source": [
    "###################################\n",
    "# train\n",
    "###################################\n",
    "jig = PTN_Train_Eval_Test_Jig(model, p.BEST_MODEL_PATH, p.device)\n",
    "\n",
    "jig.train(\n",
    "    train_iterable=datasets.source.processed.train,\n",
    "    source_val_iterable=datasets.source.processed.val,\n",
    "    target_val_iterable=datasets.target.processed.val,\n",
    "    num_epochs=p.n_epoch,\n",
    "    num_logs_per_epoch=p.NUM_LOGS_PER_EPOCH,\n",
    "    patience=p.patience,\n",
    "    optimizer=optimizer,\n",
    "    criteria_for_best=p.criteria_for_best,\n",
    ")"
   ]
  },
  {
   "cell_type": "code",
   "execution_count": 14,
   "id": "31e8fabf",
   "metadata": {
    "execution": {
     "iopub.execute_input": "2022-03-26T12:40:26.646607Z",
     "iopub.status.busy": "2022-03-26T12:40:26.645981Z",
     "iopub.status.idle": "2022-03-26T12:40:26.680015Z",
     "shell.execute_reply": "2022-03-26T12:40:26.679247Z"
    },
    "papermill": {
     "duration": 0.077291,
     "end_time": "2022-03-26T12:40:26.680187",
     "exception": false,
     "start_time": "2022-03-26T12:40:26.602896",
     "status": "completed"
    },
    "tags": []
   },
   "outputs": [],
   "source": [
    "total_experiment_time_secs = time.time() - start_time_secs"
   ]
  },
  {
   "cell_type": "code",
   "execution_count": 15,
   "id": "87b9595b",
   "metadata": {
    "execution": {
     "iopub.execute_input": "2022-03-26T12:40:26.784000Z",
     "iopub.status.busy": "2022-03-26T12:40:26.783586Z",
     "iopub.status.idle": "2022-03-26T12:47:15.644377Z",
     "shell.execute_reply": "2022-03-26T12:47:15.643521Z"
    },
    "papermill": {
     "duration": 408.916744,
     "end_time": "2022-03-26T12:47:15.644579",
     "exception": false,
     "start_time": "2022-03-26T12:40:26.727835",
     "status": "completed"
    },
    "tags": []
   },
   "outputs": [],
   "source": [
    "###################################\n",
    "# Evaluate the model\n",
    "###################################\n",
    "source_test_label_accuracy, source_test_label_loss = jig.test(datasets.source.processed.test)\n",
    "target_test_label_accuracy, target_test_label_loss = jig.test(datasets.target.processed.test)\n",
    "\n",
    "source_val_label_accuracy, source_val_label_loss = jig.test(datasets.source.processed.val)\n",
    "target_val_label_accuracy, target_val_label_loss = jig.test(datasets.target.processed.val)\n",
    "\n",
    "history = jig.get_history()\n",
    "\n",
    "total_epochs_trained = len(history[\"epoch_indices\"])\n",
    "\n",
    "val_dl = Iterable_Aggregator((datasets.source.original.val,datasets.target.original.val))\n",
    "\n",
    "confusion = ptn_confusion_by_domain_over_dataloader(model, p.device, val_dl)\n",
    "per_domain_accuracy = per_domain_accuracy_from_confusion(confusion)\n",
    "\n",
    "# Add a key to per_domain_accuracy for if it was a source domain\n",
    "for domain, accuracy in per_domain_accuracy.items():\n",
    "    per_domain_accuracy[domain] = {\n",
    "        \"accuracy\": accuracy,\n",
    "        \"source?\": domain in p.domains_source\n",
    "    }\n",
    "\n",
    "# Do an independent accuracy assesment JUST TO BE SURE!\n",
    "# _source_test_label_accuracy = independent_accuracy_assesment(model, datasets.source.processed.test, p.device)\n",
    "# _target_test_label_accuracy = independent_accuracy_assesment(model, datasets.target.processed.test, p.device)\n",
    "# _source_val_label_accuracy = independent_accuracy_assesment(model, datasets.source.processed.val, p.device)\n",
    "# _target_val_label_accuracy = independent_accuracy_assesment(model, datasets.target.processed.val, p.device)\n",
    "\n",
    "# assert(_source_test_label_accuracy == source_test_label_accuracy)\n",
    "# assert(_target_test_label_accuracy == target_test_label_accuracy)\n",
    "# assert(_source_val_label_accuracy == source_val_label_accuracy)\n",
    "# assert(_target_val_label_accuracy == target_val_label_accuracy)\n",
    "\n",
    "experiment = {\n",
    "    \"experiment_name\": p.experiment_name,\n",
    "    \"parameters\": dict(p),\n",
    "    \"results\": {\n",
    "        \"source_test_label_accuracy\": source_test_label_accuracy,\n",
    "        \"source_test_label_loss\": source_test_label_loss,\n",
    "        \"target_test_label_accuracy\": target_test_label_accuracy,\n",
    "        \"target_test_label_loss\": target_test_label_loss,\n",
    "        \"source_val_label_accuracy\": source_val_label_accuracy,\n",
    "        \"source_val_label_loss\": source_val_label_loss,\n",
    "        \"target_val_label_accuracy\": target_val_label_accuracy,\n",
    "        \"target_val_label_loss\": target_val_label_loss,\n",
    "        \"total_epochs_trained\": total_epochs_trained,\n",
    "        \"total_experiment_time_secs\": total_experiment_time_secs,\n",
    "        \"confusion\": confusion,\n",
    "        \"per_domain_accuracy\": per_domain_accuracy,\n",
    "    },\n",
    "    \"history\": history,\n",
    "    \"dataset_metrics\": get_dataset_metrics(datasets, \"ptn\"),\n",
    "}"
   ]
  },
  {
   "cell_type": "code",
   "execution_count": 16,
   "id": "54a21829",
   "metadata": {
    "execution": {
     "iopub.execute_input": "2022-03-26T12:47:15.728090Z",
     "iopub.status.busy": "2022-03-26T12:47:15.727715Z",
     "iopub.status.idle": "2022-03-26T12:47:15.949635Z",
     "shell.execute_reply": "2022-03-26T12:47:15.950310Z"
    },
    "papermill": {
     "duration": 0.263691,
     "end_time": "2022-03-26T12:47:15.950529",
     "exception": false,
     "start_time": "2022-03-26T12:47:15.686838",
     "status": "completed"
    },
    "tags": []
   },
   "outputs": [
    {
     "data": {
      "image/png": "[encoded data removed]",
      "text/plain": [
       "<Figure size 1080x504 with 1 Axes>"
      ]
     },
     "metadata": {
      "needs_background": "light"
     },
     "output_type": "display_data"
    }
   ],
   "source": [
    "ax = get_loss_curve(experiment)\n",
    "plt.show()"
   ]
  },
  {
   "cell_type": "code",
   "execution_count": 17,
   "id": "fd8a0f60",
   "metadata": {
    "execution": {
     "iopub.execute_input": "2022-03-26T12:47:16.033803Z",
     "iopub.status.busy": "2022-03-26T12:47:16.033436Z",
     "iopub.status.idle": "2022-03-26T12:47:16.388564Z",
     "shell.execute_reply": "2022-03-26T12:47:16.389254Z"
    },
    "papermill": {
     "duration": 0.396837,
     "end_time": "2022-03-26T12:47:16.389495",
     "exception": false,
     "start_time": "2022-03-26T12:47:15.992658",
     "status": "completed"
    },
    "tags": []
   },
   "outputs": [
    {
     "data": {
      "text/plain": [
       "<AxesSubplot:title={'center':'Results'}>"
      ]
     },
     "execution_count": 17,
     "metadata": {},
     "output_type": "execute_result"
    },
    {
     "data": {
      "image/png": "[encoded data removed]",
      "text/plain": [
       "<Figure size 1080x504 with 1 Axes>"
      ]
     },
     "metadata": {
      "needs_background": "light"
     },
     "output_type": "display_data"
    }
   ],
   "source": [
    "get_results_table(experiment)"
   ]
  },
  {
   "cell_type": "code",
   "execution_count": 18,
   "id": "cf8dc689",
   "metadata": {
    "execution": {
     "iopub.execute_input": "2022-03-26T12:47:16.481956Z",
     "iopub.status.busy": "2022-03-26T12:47:16.481589Z",
     "iopub.status.idle": "2022-03-26T12:47:16.688577Z",
     "shell.execute_reply": "2022-03-26T12:47:16.687863Z"
    },
    "papermill": {
     "duration": 0.250194,
     "end_time": "2022-03-26T12:47:16.688736",
     "exception": false,
     "start_time": "2022-03-26T12:47:16.438542",
     "status": "completed"
    },
    "tags": []
   },
   "outputs": [
    {
     "data": {
      "text/plain": [
       "<AxesSubplot:title={'center':'Per Domain Validation Accuracy'}, xlabel='domain'>"
      ]
     },
     "execution_count": 18,
     "metadata": {},
     "output_type": "execute_result"
    },
    {
     "data": {
      "image/png": "[encoded data removed]",
      "text/plain": [
       "<Figure size 1080x504 with 1 Axes>"
      ]
     },
     "metadata": {
      "needs_background": "light"
     },
     "output_type": "display_data"
    }
   ],
   "source": [
    "get_domain_accuracies(experiment)"
   ]
  },
  {
   "cell_type": "code",
   "execution_count": 19,
   "id": "a74ae082",
   "metadata": {
    "execution": {
     "iopub.execute_input": "2022-03-26T12:47:16.776418Z",
     "iopub.status.busy": "2022-03-26T12:47:16.775964Z",
     "iopub.status.idle": "2022-03-26T12:47:16.798939Z",
     "shell.execute_reply": "2022-03-26T12:47:16.798272Z"
    },
    "papermill": {
     "duration": 0.065676,
     "end_time": "2022-03-26T12:47:16.799098",
     "exception": false,
     "start_time": "2022-03-26T12:47:16.733422",
     "status": "completed"
    },
    "tags": []
   },
   "outputs": [
    {
     "name": "stdout",
     "output_type": "stream",
     "text": [
      "Source Test Label Accuracy: 0.8721875 Target Test Label Accuracy: 0.7693854166666667\n",
      "Source Val Label Accuracy: 0.87453125 Target Val Label Accuracy: 0.7681875\n"
     ]
    }
   ],
   "source": [
    "print(\"Source Test Label Accuracy:\", experiment[\"results\"][\"source_test_label_accuracy\"], \"Target Test Label Accuracy:\", experiment[\"results\"][\"target_test_label_accuracy\"])\n",
    "print(\"Source Val Label Accuracy:\", experiment[\"results\"][\"source_val_label_accuracy\"], \"Target Val Label Accuracy:\", experiment[\"results\"][\"target_val_label_accuracy\"])"
   ]
  },
  {
   "cell_type": "code",
   "execution_count": 20,
   "id": "dacca602",
   "metadata": {
    "execution": {
     "iopub.execute_input": "2022-03-26T12:47:16.887717Z",
     "iopub.status.busy": "2022-03-26T12:47:16.887331Z",
     "iopub.status.idle": "2022-03-26T12:47:16.916463Z",
     "shell.execute_reply": "2022-03-26T12:47:16.917126Z"
    },
    "papermill": {
     "duration": 0.073543,
     "end_time": "2022-03-26T12:47:16.917304",
     "exception": false,
     "start_time": "2022-03-26T12:47:16.843761",
     "status": "completed"
    },
    "tags": [
     "experiment_json"
    ]
   },
   "outputs": [
    {
     "data": {
      "text/plain": [
       "'{\"experiment_name\": \"tuned_1v2:oracle.run1_limited\", \"parameters\": {\"experiment_name\": \"tuned_1v2:oracle.run1_limited\", \"device\": \"cuda\", \"lr\": 0.0001, \"labels_source\": [\"3123D52\", \"3123D65\", \"3123D79\", \"3123D80\", \"3123D54\", \"3123D70\", \"3123D7B\", \"3123D89\", \"3123D58\", \"3123D76\", \"3123D7D\", \"3123EFE\", \"3123D64\", \"3123D78\", \"3123D7E\", \"3124E4A\"], \"labels_target\": [\"3123D52\", \"3123D65\", \"3123D79\", \"3123D80\", \"3123D54\", \"3123D70\", \"3123D7B\", \"3123D89\", \"3123D58\", \"3123D76\", \"3123D7D\", \"3123EFE\", \"3123D64\", \"3123D78\", \"3123D7E\", \"3124E4A\"], \"episode_transforms_source\": [], \"episode_transforms_target\": [], \"domains_source\": [8, 32, 50], \"domains_target\": [14, 20, 26, 38, 44], \"num_examples_per_domain_per_label_source\": -1, \"num_examples_per_domain_per_label_target\": -1, \"n_shot\": 3, \"n_way\": 16, \"n_query\": 2, \"train_k_factor\": 3, \"val_k_factor\": 2, \"test_k_factor\": 2, \"torch_default_dtype\": \"torch.float32\", \"n_epoch\": 50, \"patience\": 3, \"criteria_for_best\": \"target_accuracy\", \"x_net\": [{\"class\": \"nnReshape\", \"kargs\": {\"shape\": [-1, 1, 2, 256]}}, {\"class\": \"Conv2d\", \"kargs\": {\"in_channels\": 1, \"out_channels\": 256, \"kernel_size\": [1, 7], \"bias\": false, \"padding\": [0, 3]}}, {\"class\": \"ReLU\", \"kargs\": {\"inplace\": true}}, {\"class\": \"BatchNorm2d\", \"kargs\": {\"num_features\": 256}}, {\"class\": \"Conv2d\", \"kargs\": {\"in_channels\": 256, \"out_channels\": 80, \"kernel_size\": [2, 7], \"bias\": true, \"padding\": [0, 3]}}, {\"class\": \"ReLU\", \"kargs\": {\"inplace\": true}}, {\"class\": \"BatchNorm2d\", \"kargs\": {\"num_features\": 80}}, {\"class\": \"Flatten\", \"kargs\": {}}, {\"class\": \"Linear\", \"kargs\": {\"in_features\": 20480, \"out_features\": 256}}, {\"class\": \"ReLU\", \"kargs\": {\"inplace\": true}}, {\"class\": \"BatchNorm1d\", \"kargs\": {\"num_features\": 256}}, {\"class\": \"Linear\", \"kargs\": {\"in_features\": 256, \"out_features\": 256}}], \"NUM_LOGS_PER_EPOCH\": 10, \"BEST_MODEL_PATH\": \"./best_model.pth\", \"pickle_name\": \"oracle.Run1_10kExamples_stratified_ds.2022A.pkl\", \"x_transforms_source\": [], \"x_transforms_target\": [], \"dataset_seed\": 7, \"seed\": 7}, \"results\": {\"source_test_label_accuracy\": 0.8721875, \"source_test_label_loss\": 0.3487464189529419, \"target_test_label_accuracy\": 0.7693854166666667, \"target_test_label_loss\": 0.6540485620498657, \"source_val_label_accuracy\": 0.87453125, \"source_val_label_loss\": 0.3464307188987732, \"target_val_label_accuracy\": 0.7681875, \"target_val_label_loss\": 0.6589187979698181, \"total_epochs_trained\": 7, \"total_experiment_time_secs\": 2118.119859457016, \"confusion\": {\"50\": {\"0\": {\"0\": 1149, \"10\": 11, \"2\": 40}, \"4\": {\"4\": 1023, \"7\": 95, \"5\": 37, \"15\": 34, \"6\": 11}, \"14\": {\"14\": 1200}, \"12\": {\"12\": 1121, \"11\": 18, \"9\": 61}, \"8\": {\"8\": 1194, \"10\": 5, \"13\": 1}, \"7\": {\"7\": 1108, \"4\": 34, \"5\": 58}, \"13\": {\"13\": 1196, \"1\": 4}, \"5\": {\"5\": 559, \"7\": 312, \"6\": 203, \"13\": 55, \"4\": 61, \"15\": 7, \"1\": 3}, \"15\": {\"15\": 1095, \"6\": 85, \"5\": 5, \"11\": 9, \"9\": 6}, \"10\": {\"10\": 1185, \"8\": 7, \"0\": 8}, \"3\": {\"3\": 1200}, \"9\": {\"9\": 1014, \"12\": 85, \"11\": 93, \"15\": 8}, \"6\": {\"5\": 127, \"6\": 982, \"15\": 91}, \"1\": {\"1\": 1170, \"13\": 23, \"0\": 5, \"5\": 1, \"10\": 1}, \"11\": {\"11\": 1115, \"12\": 40, \"15\": 16, \"6\": 1, \"9\": 28}, \"2\": {\"2\": 1160, \"0\": 40}}, \"8\": {\"1\": {\"1\": 896, \"11\": 191, \"13\": 2, \"4\": 15, \"10\": 53, \"5\": 42, \"6\": 1}, \"11\": {\"11\": 738, \"1\": 362, \"4\": 32, \"14\": 39, \"8\": 20, \"5\": 4, \"10\": 2, \"6\": 3}, \"3\": {\"3\": 1194, \"2\": 6}, \"6\": {\"6\": 957, \"7\": 187, \"13\": 28, \"10\": 11, \"4\": 12, \"8\": 2, \"11\": 2, \"1\": 1}, \"7\": {\"7\": 982, \"13\": 35, \"6\": 183}, \"5\": {\"5\": 965, \"1\": 98, \"10\": 103, \"11\": 24, \"13\": 1, \"4\": 1, \"14\": 8}, \"2\": {\"2\": 936, \"3\": 167, \"15\": 54, \"12\": 43}, \"15\": {\"12\": 228, \"15\": 934, \"2\": 38}, \"10\": {\"10\": 922, \"13\": 147, \"5\": 60, \"1\": 40, \"6\": 18, \"7\": 1, \"4\": 11, \"11\": 1}, \"13\": {\"13\": 945, \"10\": 143, \"7\": 83, \"6\": 28, \"5\": 1}, \"8\": {\"8\": 1144, \"6\": 31, \"4\": 20, \"11\": 4, \"14\": 1}, \"4\": {\"4\": 1108, \"6\": 31, \"11\": 15, \"8\": 13, \"1\": 5, \"14\": 24, \"10\": 4}, \"9\": {\"9\": 1200}, \"14\": {\"14\": 1123, \"4\": 67, \"11\": 9, \"1\": 1}, \"0\": {\"0\": 1200}, \"12\": {\"12\": 860, \"15\": 330, \"2\": 10}}, \"32\": {\"15\": {\"15\": 1184, \"5\": 2, \"8\": 13, \"0\": 1}, \"11\": {\"11\": 1195, \"13\": 5}, \"10\": {\"10\": 1200}, \"14\": {\"7\": 287, \"0\": 39, \"14\": 778, \"8\": 19, \"2\": 39, \"5\": 30, \"4\": 8}, \"6\": {\"6\": 1200}, \"4\": {\"13\": 23, \"4\": 1054, \"2\": 123}, \"13\": {\"13\": 1004, \"4\": 79, \"3\": 92, \"11\": 25}, \"3\": {\"3\": 1138, \"13\": 59, \"4\": 3}, \"7\": {\"7\": 820, \"14\": 146, \"5\": 169, \"0\": 56, \"8\": 9}, \"8\": {\"0\": 176, \"8\": 873, \"5\": 76, \"4\": 16, \"7\": 22, \"14\": 19, \"2\": 13, \"13\": 2, \"15\": 2, \"3\": 1}, \"1\": {\"1\": 1200}, \"5\": {\"14\": 53, \"5\": 746, \"0\": 87, \"8\": 111, \"7\": 201, \"15\": 2}, \"0\": {\"0\": 910, \"7\": 94, \"8\": 114, \"14\": 35, \"5\": 47}, \"2\": {\"2\": 1102, \"4\": 98}, \"12\": {\"12\": 1200}, \"9\": {\"9\": 1194, \"12\": 6}}, \"26\": {\"0\": {\"0\": 588, \"10\": 250, \"8\": 72, \"14\": 201, \"2\": 26, \"9\": 12, \"6\": 12, \"15\": 27, \"1\": 6, \"7\": 6}, \"4\": {\"4\": 1191, \"13\": 3, \"3\": 6}, \"14\": {\"10\": 244, \"14\": 595, \"15\": 47, \"0\": 158, \"1\": 113, \"6\": 35, \"5\": 7, \"2\": 1}, \"12\": {\"12\": 1200}, \"8\": {\"8\": 612, \"9\": 314, \"7\": 163, \"0\": 46, \"2\": 55, \"14\": 1, \"13\": 6, \"3\": 3}, \"7\": {\"7\": 628, \"2\": 199, \"3\": 132, \"8\": 158, \"9\": 75, \"0\": 3, \"14\": 1, \"4\": 1, \"13\": 3}, \"13\": {\"13\": 893, \"9\": 144, \"4\": 16, \"2\": 67, \"7\": 23, \"3\": 45, \"8\": 12}, \"5\": {\"5\": 854, \"6\": 49, \"10\": 4, \"15\": 292, \"1\": 1}, \"15\": {\"5\": 321, \"15\": 690, \"6\": 88, \"10\": 57, \"1\": 14, \"14\": 18, \"0\": 8, \"2\": 4}, \"10\": {\"10\": 572, \"15\": 56, \"14\": 238, \"0\": 191, \"6\": 116, \"1\": 20, \"5\": 4, \"2\": 2, \"9\": 1}, \"3\": {\"7\": 196, \"3\": 902, \"2\": 64, \"9\": 16, \"13\": 16, \"8\": 3, \"4\": 3}, \"9\": {\"9\": 570, \"8\": 302, \"4\": 4, \"2\": 65, \"10\": 1, \"13\": 161, \"3\": 10, \"7\": 79, \"0\": 8}, \"6\": {\"6\": 800, \"15\": 107, \"10\": 152, \"5\": 71, \"14\": 25, \"1\": 42, \"0\": 3}, \"1\": {\"14\": 182, \"1\": 865, \"5\": 11, \"6\": 54, \"10\": 59, \"15\": 21, \"0\": 8}, \"11\": {\"11\": 1200}, \"2\": {\"2\": 757, \"8\": 72, \"0\": 11, \"7\": 172, \"3\": 92, \"15\": 20, \"13\": 9, \"9\": 61, \"10\": 4, \"5\": 1, \"14\": 1}}, \"44\": {\"1\": {\"1\": 1108, \"2\": 92}, \"11\": {\"11\": 1200}, \"3\": {\"3\": 1167, \"12\": 33}, \"6\": {\"9\": 67, \"13\": 140, \"6\": 992, \"7\": 1}, \"7\": {\"7\": 1026, \"9\": 160, \"10\": 14}, \"5\": {\"5\": 1044, \"8\": 32, \"4\": 4, \"15\": 75, \"14\": 44, \"0\": 1}, \"2\": {\"2\": 1149, \"1\": 42, \"10\": 9}, \"15\": {\"15\": 965, \"14\": 113, \"5\": 67, \"8\": 42, \"0\": 5, \"4\": 8}, \"10\": {\"7\": 40, \"10\": 1101, \"2\": 43, \"1\": 16}, \"13\": {\"13\": 986, \"6\": 198, \"11\": 3, \"9\": 13}, \"8\": {\"8\": 820, \"0\": 291, \"5\": 45, \"15\": 44}, \"4\": {\"14\": 392, \"4\": 760, \"15\": 35, \"13\": 3, \"9\": 9, \"5\": 1}, \"9\": {\"7\": 407, \"13\": 81, \"6\": 218, \"9\": 474, \"4\": 7, \"2\": 13}, \"14\": {\"4\": 228, \"14\": 869, \"5\": 53, \"15\": 50}, \"0\": {\"0\": 1037, \"8\": 156, \"15\": 7}, \"12\": {\"12\": 1137, \"3\": 63}}, \"20\": {\"15\": {\"15\": 651, \"12\": 196, \"9\": 56, \"5\": 38, \"1\": 199, \"2\": 34, \"13\": 22, \"4\": 1, \"3\": 3}, \"4\": {\"8\": 3, \"4\": 977, \"12\": 72, \"10\": 88, \"7\": 28, \"2\": 24, \"6\": 8}, \"6\": {\"6\": 1003, \"7\": 100, \"14\": 56, \"8\": 1, \"10\": 17, \"2\": 13, \"4\": 10}, \"2\": {\"7\": 235, \"13\": 160, \"2\": 461, \"9\": 135, \"12\": 138, \"1\": 16, \"15\": 24, \"5\": 6, \"3\": 7, \"4\": 12, \"8\": 4, \"6\": 2}, \"5\": {\"12\": 27, \"5\": 506, \"3\": 206, \"1\": 332, \"15\": 39, \"9\": 61, \"0\": 12, \"2\": 4, \"4\": 1, \"8\": 10, \"7\": 2}, \"9\": {\"2\": 120, \"3\": 178, \"9\": 534, \"1\": 89, \"12\": 54, \"8\": 23, \"7\": 124, \"5\": 43, \"13\": 10, \"4\": 3, \"15\": 21, \"14\": 1}, \"8\": {\"7\": 14, \"8\": 811, \"14\": 170, \"3\": 146, \"9\": 46, \"5\": 10, \"12\": 2, \"1\": 1}, \"12\": {\"9\": 58, \"15\": 185, \"12\": 632, \"2\": 138, \"13\": 38, \"4\": 60, \"7\": 28, \"1\": 37, \"5\": 10, \"3\": 14}, \"10\": {\"10\": 1086, \"4\": 99, \"6\": 13, \"13\": 1, \"2\": 1}, \"1\": {\"5\": 291, \"1\": 536, \"15\": 161, \"3\": 83, \"9\": 77, \"12\": 44, \"2\": 5, \"13\": 1, \"7\": 1, \"8\": 1}, \"0\": {\"5\": 40, \"0\": 1128, \"3\": 18, \"1\": 8, \"8\": 6}, \"3\": {\"3\": 487, \"5\": 194, \"8\": 102, \"12\": 15, \"1\": 92, \"9\": 243, \"7\": 19, \"0\": 28, \"2\": 11, \"15\": 5, \"4\": 3, \"14\": 1}, \"13\": {\"2\": 194, \"13\": 859, \"12\": 64, \"1\": 2, \"4\": 2, \"15\": 35, \"7\": 27, \"9\": 16, \"6\": 1}, \"11\": {\"11\": 1199, \"0\": 1}, \"7\": {\"7\": 653, \"9\": 124, \"8\": 11, \"2\": 263, \"12\": 34, \"6\": 49, \"3\": 16, \"4\": 29, \"13\": 14, \"1\": 2, \"15\": 1, \"14\": 3, \"5\": 1}, \"14\": {\"14\": 944, \"8\": 208, \"7\": 11, \"6\": 33, \"3\": 1, \"9\": 1, \"2\": 1, \"4\": 1}}, \"38\": {\"15\": {\"15\": 1139, \"8\": 24, \"5\": 24, \"1\": 13}, \"11\": {\"11\": 1200}, \"10\": {\"10\": 1077, \"13\": 60, \"0\": 49, \"4\": 14}, \"14\": {\"14\": 987, \"2\": 202, \"13\": 10, \"4\": 1}, \"6\": {\"6\": 1197, \"1\": 3}, \"4\": {\"4\": 1190, \"10\": 8, \"0\": 2}, \"13\": {\"13\": 1095, \"0\": 15, \"10\": 87, \"14\": 2, \"7\": 1}, \"3\": {\"3\": 1200}, \"7\": {\"7\": 1175, \"5\": 7, \"8\": 9, \"0\": 8, \"9\": 1}, \"8\": {\"5\": 421, \"8\": 580, \"7\": 156, \"15\": 19, \"12\": 11, \"2\": 2, \"9\": 2, \"13\": 9}, \"1\": {\"1\": 1196, \"6\": 4}, \"5\": {\"7\": 96, \"5\": 562, \"8\": 412, \"9\": 74, \"12\": 7, \"15\": 46, \"13\": 1, \"0\": 2}, \"0\": {\"0\": 763, \"10\": 146, \"7\": 137, \"3\": 78, \"13\": 69, \"9\": 3, \"8\": 1, \"4\": 3}, \"2\": {\"2\": 1049, \"14\": 151}, \"12\": {\"12\": 1192, \"5\": 1, \"8\": 7}, \"9\": {\"9\": 1164, \"5\": 21, \"8\": 8, \"7\": 7}}, \"14\": {\"0\": {\"3\": 115, \"0\": 1022, \"10\": 38, \"14\": 15, \"8\": 6, \"4\": 2, \"13\": 2}, \"12\": {\"12\": 1200}, \"1\": {\"1\": 1195, \"4\": 5}, \"4\": {\"4\": 1101, \"5\": 50, \"2\": 45, \"1\": 2, \"14\": 2}, \"5\": {\"5\": 933, \"2\": 167, \"7\": 37, \"4\": 48, \"6\": 1, \"14\": 5, \"3\": 6, \"8\": 2, \"13\": 1}, \"3\": {\"3\": 1091, \"0\": 26, \"14\": 20, \"13\": 20, \"2\": 3, \"6\": 33, \"8\": 4, \"5\": 3}, \"7\": {\"7\": 1173, \"5\": 24, \"2\": 3}, \"15\": {\"15\": 1200}, \"13\": {\"2\": 69, \"6\": 388, \"14\": 312, \"13\": 275, \"4\": 37, \"3\": 36, \"15\": 69, \"0\": 6, \"10\": 7, \"5\": 1}, \"10\": {\"10\": 1194, \"9\": 5, \"0\": 1}, \"14\": {\"14\": 798, \"13\": 152, \"6\": 74, \"2\": 116, \"0\": 16, \"3\": 40, \"5\": 4}, \"6\": {\"6\": 617, \"3\": 90, \"2\": 56, \"13\": 322, \"14\": 114, \"5\": 1}, \"9\": {\"9\": 1195, \"10\": 5}, \"2\": {\"14\": 173, \"5\": 236, \"2\": 378, \"4\": 174, \"6\": 83, \"3\": 56, \"13\": 67, \"7\": 27, \"0\": 3, \"1\": 3}, \"8\": {\"8\": 1189, \"3\": 4, \"0\": 7}, \"11\": {\"11\": 1200}}}, \"per_domain_accuracy\": {\"50\": {\"accuracy\": 0.9099479166666666, \"source?\": true}, \"8\": {\"accuracy\": 0.83875, \"source?\": true}, \"32\": {\"accuracy\": 0.8748958333333333, \"source?\": true}, \"26\": {\"accuracy\": 0.6727604166666666, \"source?\": false}, \"44\": {\"accuracy\": 0.8247395833333333, \"source?\": false}, \"20\": {\"accuracy\": 0.6493229166666666, \"source?\": false}, \"38\": {\"accuracy\": 0.8732291666666666, \"source?\": false}, \"14\": {\"accuracy\": 0.8208854166666667, \"source?\": false}}}, \"history\": {\"epoch_indices\": [1, 2, 3, 4, 5, 6, 7], \"train_label_loss\": [0.6385792878775725, 0.41405250717013603, 0.3048352177470686, 0.25373068787416236, 0.21435505812640288, 0.18395740354267348, 0.15848910866918722], \"source_val_label_loss\": [4.777838230133057, 0.3901093006134033, 0.3464307188987732, 0.34209221601486206, 0.33223819732666016, 0.3314830958843231, 0.3477258086204529], \"target_val_label_loss\": [2.881732702255249, 0.6921495795249939, 0.6589187979698181, 0.6737014055252075, 0.6711879968643188, 0.6965387463569641, 0.7138776183128357], \"source_val_acc_label\": [0.7449131944444445, 0.8569097222222222, 0.87453125, 0.8797048611111111, 0.8830034722222222, 0.8844097222222222, 0.8862673611111112], \"target_val_acc_label\": [0.6489270833333334, 0.75590625, 0.7681875, 0.7620520833333333, 0.7627604166666667, 0.7596666666666667, 0.76421875]}, \"dataset_metrics\": {\"source\": {\"train\": {\"n_unique_x\": 336000, \"n_unique_y\": 16, \"n_batch/episode\": 12600}, \"val\": {\"n_unique_x\": 72000, \"n_unique_y\": 16, \"n_batch/episode\": 1800}, \"test\": {\"n_unique_x\": 72000, \"n_unique_y\": 16, \"n_batch/episode\": 1800}}, \"target\": {\"train\": {\"n_unique_x\": 560000, \"n_unique_y\": 16, \"n_batch/episode\": 21000}, \"val\": {\"n_unique_x\": 120000, \"n_unique_y\": 16, \"n_batch/episode\": 3000}, \"test\": {\"n_unique_x\": 120000, \"n_unique_y\": 16, \"n_batch/episode\": 3000}}}}'"
      ]
     },
     "execution_count": 20,
     "metadata": {},
     "output_type": "execute_result"
    }
   ],
   "source": [
    "json.dumps(experiment)"
   ]
  }
 ],
 "metadata": {
  "celltoolbar": "Tags",
  "kernelspec": {
   "display_name": "Python 3 (ipykernel)",
   "language": "python",
   "name": "python3"
  },
  "language_info": {
   "codemirror_mode": {
    "name": "ipython",
    "version": 3
   },
   "file_extension": ".py",
   "mimetype": "text/x-python",
   "name": "python",
   "nbconvert_exporter": "python",
   "pygments_lexer": "ipython3",
   "version": "3.8.12"
  },
  "papermill": {
   "default_parameters": {},
   "duration": 2534.455743,
   "end_time": "2022-03-26T12:47:19.782777",
   "environment_variables": {},
   "exception": null,
   "input_path": "/root/csc500-main/csc500-notebooks/templates/ptn_template.ipynb",
   "output_path": "trial.ipynb",
   "parameters": {
    "parameters": {
     "BEST_MODEL_PATH": "./best_model.pth",
     "NUM_LOGS_PER_EPOCH": 10,
     "criteria_for_best": "target_accuracy",
     "dataset_seed": 7,
     "device": "cuda",
     "domains_source": [
      8,
      32,
      50
     ],
     "domains_target": [
      14,
      20,
      26,
      38,
      44
     ],
     "episode_transforms_source": [],
     "episode_transforms_target": [],
     "experiment_name": "tuned_1v2:oracle.run1_limited",
     "labels_source": [
      "3123D52",
      "3123D65",
      "3123D79",
      "3123D80",
      "3123D54",
      "3123D70",
      "3123D7B",
      "3123D89",
      "3123D58",
      "3123D76",
      "3123D7D",
      "3123EFE",
      "3123D64",
      "3123D78",
      "3123D7E",
      "3124E4A"
     ],
     "labels_target": [
      "3123D52",
      "3123D65",
      "3123D79",
      "3123D80",
      "3123D54",
      "3123D70",
      "3123D7B",
      "3123D89",
      "3123D58",
      "3123D76",
      "3123D7D",
      "3123EFE",
      "3123D64",
      "3123D78",
      "3123D7E",
      "3124E4A"
     ],
     "lr": 0.0001,
     "n_epoch": 50,
     "n_query": 2,
     "n_shot": 3,
     "n_way": 16,
     "num_examples_per_domain_per_label_source": -1,
     "num_examples_per_domain_per_label_target": -1,
     "patience": 3,
     "pickle_name": "oracle.Run1_10kExamples_stratified_ds.2022A.pkl",
     "seed": 7,
     "test_k_factor": 2,
     "torch_default_dtype": "torch.float32",
     "train_k_factor": 3,
     "val_k_factor": 2,
     "x_net": [
      {
       "class": "nnReshape",
       "kargs": {
        "shape": [
         -1,
         1,
         2,
         256
        ]
       }
      },
      {
       "class": "Conv2d",
       "kargs": {
        "bias": false,
        "in_channels": 1,
        "kernel_size": [
         1,
         7
        ],
        "out_channels": 256,
        "padding": [
         0,
         3
        ]
       }
      },
      {
       "class": "ReLU",
       "kargs": {
        "inplace": true
       }
      },
      {
       "class": "BatchNorm2d",
       "kargs": {
        "num_features": 256
       }
      },
      {
       "class": "Conv2d",
       "kargs": {
        "bias": true,
        "in_channels": 256,
        "kernel_size": [
         2,
         7
        ],
        "out_channels": 80,
        "padding": [
         0,
         3
        ]
       }
      },
      {
       "class": "ReLU",
       "kargs": {
        "inplace": true
       }
      },
      {
       "class": "BatchNorm2d",
       "kargs": {
        "num_features": 80
       }
      },
      {
       "class": "Flatten",
       "kargs": {}
      },
      {
       "class": "Linear",
       "kargs": {
        "in_features": 20480,
        "out_features": 256
       }
      },
      {
       "class": "ReLU",
       "kargs": {
        "inplace": true
       }
      },
      {
       "class": "BatchNorm1d",
       "kargs": {
        "num_features": 256
       }
      },
      {
       "class": "Linear",
       "kargs": {
        "in_features": 256,
        "out_features": 256
       }
      }
     ],
     "x_transforms_source": [],
     "x_transforms_target": []
    }
   },
   "start_time": "2022-03-26T12:05:05.327034",
   "version": "2.3.4"
  }
 },
 "nbformat": 4,
 "nbformat_minor": 5
}