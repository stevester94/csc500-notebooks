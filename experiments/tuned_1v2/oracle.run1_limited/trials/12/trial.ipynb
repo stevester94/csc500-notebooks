{
 "cells": [
  {
   "cell_type": "markdown",
   "id": "9fea5f46",
   "metadata": {
    "papermill": {
     "duration": 0.015209,
     "end_time": "2022-04-01T23:00:41.351436",
     "exception": false,
     "start_time": "2022-04-01T23:00:41.336227",
     "status": "completed"
    },
    "tags": []
   },
   "source": [
    "# PTN Template\n",
    "This notebook serves as a template for single dataset PTN experiments  \n",
    "It can be run on its own by setting STANDALONE to True (do a find for \"STANDALONE\" to see where)  \n",
    "But it is intended to be executed as part of a *papermill.py script. See any of the   \n",
    "experimentes with a papermill script to get started with that workflow.  "
   ]
  },
  {
   "cell_type": "code",
   "execution_count": 1,
   "id": "0902182a",
   "metadata": {
    "execution": {
     "iopub.execute_input": "2022-04-01T23:00:41.381251Z",
     "iopub.status.busy": "2022-04-01T23:00:41.376042Z",
     "iopub.status.idle": "2022-04-01T23:00:42.283591Z",
     "shell.execute_reply": "2022-04-01T23:00:42.283300Z"
    },
    "papermill": {
     "duration": 0.923311,
     "end_time": "2022-04-01T23:00:42.283660",
     "exception": false,
     "start_time": "2022-04-01T23:00:41.360349",
     "status": "completed"
    },
    "tags": []
   },
   "outputs": [],
   "source": [
    "%load_ext autoreload\n",
    "%autoreload 2\n",
    "%matplotlib inline\n",
    "\n",
    "    \n",
    "import os, json, sys, time, random\n",
    "import numpy as np\n",
    "import torch\n",
    "from torch.optim import Adam\n",
    "from  easydict import EasyDict\n",
    "import matplotlib.pyplot as plt\n",
    "\n",
    "from steves_models.steves_ptn import Steves_Prototypical_Network\n",
    "\n",
    "from steves_utils.lazy_iterable_wrapper import Lazy_Iterable_Wrapper\n",
    "from steves_utils.iterable_aggregator import Iterable_Aggregator\n",
    "from steves_utils.ptn_train_eval_test_jig import  PTN_Train_Eval_Test_Jig\n",
    "from steves_utils.torch_sequential_builder import build_sequential\n",
    "from steves_utils.torch_utils import get_dataset_metrics, ptn_confusion_by_domain_over_dataloader\n",
    "from steves_utils.utils_v2 import (per_domain_accuracy_from_confusion, get_datasets_base_path)\n",
    "from steves_utils.PTN.utils import independent_accuracy_assesment\n",
    "\n",
    "from steves_utils.stratified_dataset.episodic_accessor import Episodic_Accessor_Factory\n",
    "\n",
    "from steves_utils.ptn_do_report import (\n",
    "    get_loss_curve,\n",
    "    get_results_table,\n",
    "    get_parameters_table,\n",
    "    get_domain_accuracies,\n",
    ")\n",
    "\n",
    "from steves_utils.transforms import get_chained_transform"
   ]
  },
  {
   "cell_type": "markdown",
   "id": "41c840b4",
   "metadata": {
    "papermill": {
     "duration": 0.009014,
     "end_time": "2022-04-01T23:00:42.302214",
     "exception": false,
     "start_time": "2022-04-01T23:00:42.293200",
     "status": "completed"
    },
    "tags": []
   },
   "source": [
    "# Required Parameters\n",
    "These are allowed parameters, not defaults\n",
    "Each of these values need to be present in the injected parameters (the notebook will raise an exception if they are not present)\n",
    "\n",
    "Papermill uses the cell tag \"parameters\" to inject the real parameters below this cell.\n",
    "Enable tags to see what I mean"
   ]
  },
  {
   "cell_type": "code",
   "execution_count": 2,
   "id": "fd44eb83",
   "metadata": {
    "execution": {
     "iopub.execute_input": "2022-04-01T23:00:42.331372Z",
     "iopub.status.busy": "2022-04-01T23:00:42.322924Z",
     "iopub.status.idle": "2022-04-01T23:00:42.334839Z",
     "shell.execute_reply": "2022-04-01T23:00:42.335227Z"
    },
    "papermill": {
     "duration": 0.023955,
     "end_time": "2022-04-01T23:00:42.335336",
     "exception": false,
     "start_time": "2022-04-01T23:00:42.311381",
     "status": "completed"
    },
    "tags": []
   },
   "outputs": [],
   "source": [
    "required_parameters = {\n",
    "    \"experiment_name\",\n",
    "    \"lr\",\n",
    "    \"device\",\n",
    "    \"seed\",\n",
    "    \"dataset_seed\",\n",
    "    \"labels_source\",\n",
    "    \"labels_target\",\n",
    "    \"domains_source\",\n",
    "    \"domains_target\",\n",
    "    \"num_examples_per_domain_per_label_source\",\n",
    "    \"num_examples_per_domain_per_label_target\",\n",
    "    \"n_shot\",\n",
    "    \"n_way\",\n",
    "    \"n_query\",\n",
    "    \"train_k_factor\",\n",
    "    \"val_k_factor\",\n",
    "    \"test_k_factor\",\n",
    "    \"n_epoch\",\n",
    "    \"patience\",\n",
    "    \"criteria_for_best\",\n",
    "    \"x_transforms_source\",\n",
    "    \"x_transforms_target\",\n",
    "    \"episode_transforms_source\",\n",
    "    \"episode_transforms_target\",\n",
    "    \"pickle_name\",\n",
    "    \"x_net\",\n",
    "    \"NUM_LOGS_PER_EPOCH\",\n",
    "    \"BEST_MODEL_PATH\",\n",
    "    \"torch_default_dtype\"\n",
    "}"
   ]
  },
  {
   "cell_type": "code",
   "execution_count": 3,
   "id": "fa3f0049",
   "metadata": {
    "execution": {
     "iopub.execute_input": "2022-04-01T23:00:42.363388Z",
     "iopub.status.busy": "2022-04-01T23:00:42.363108Z",
     "iopub.status.idle": "2022-04-01T23:00:42.375007Z",
     "shell.execute_reply": "2022-04-01T23:00:42.374550Z"
    },
    "papermill": {
     "duration": 0.026775,
     "end_time": "2022-04-01T23:00:42.375099",
     "exception": false,
     "start_time": "2022-04-01T23:00:42.348324",
     "status": "completed"
    },
    "tags": [
     "parameters"
    ]
   },
   "outputs": [],
   "source": [
    "\n",
    "\n",
    "standalone_parameters = {}\n",
    "standalone_parameters[\"experiment_name\"] = \"STANDALONE PTN\"\n",
    "standalone_parameters[\"lr\"] = 0.0001\n",
    "standalone_parameters[\"device\"] = \"cuda\"\n",
    "\n",
    "standalone_parameters[\"seed\"] = 1337\n",
    "standalone_parameters[\"dataset_seed\"] = 1337\n",
    "\n",
    "\n",
    "standalone_parameters[\"num_examples_per_domain_per_label_source\"]=100\n",
    "standalone_parameters[\"num_examples_per_domain_per_label_target\"]=100\n",
    "\n",
    "standalone_parameters[\"n_shot\"] = 3\n",
    "standalone_parameters[\"n_query\"]  = 2\n",
    "standalone_parameters[\"train_k_factor\"] = 1\n",
    "standalone_parameters[\"val_k_factor\"] = 2\n",
    "standalone_parameters[\"test_k_factor\"] = 2\n",
    "\n",
    "\n",
    "standalone_parameters[\"n_epoch\"] = 100\n",
    "\n",
    "standalone_parameters[\"patience\"] = 10\n",
    "standalone_parameters[\"criteria_for_best\"] = \"target_accuracy\"\n",
    "\n",
    "standalone_parameters[\"x_transforms_source\"] = [\"unit_power\"]\n",
    "standalone_parameters[\"x_transforms_target\"] = [\"unit_power\"]\n",
    "standalone_parameters[\"episode_transforms_source\"] = []\n",
    "standalone_parameters[\"episode_transforms_target\"] = []\n",
    "\n",
    "standalone_parameters[\"torch_default_dtype\"] = \"torch.float32\" \n",
    "\n",
    "\n",
    "\n",
    "standalone_parameters[\"x_net\"] =     [\n",
    "    {\"class\": \"nnReshape\", \"kargs\": {\"shape\":[-1, 1, 2, 256]}},\n",
    "    {\"class\": \"Conv2d\", \"kargs\": { \"in_channels\":1, \"out_channels\":256, \"kernel_size\":(1,7), \"bias\":False, \"padding\":(0,3), },},\n",
    "    {\"class\": \"ReLU\", \"kargs\": {\"inplace\": True}},\n",
    "    {\"class\": \"BatchNorm2d\", \"kargs\": {\"num_features\":256}},\n",
    "\n",
    "    {\"class\": \"Conv2d\", \"kargs\": { \"in_channels\":256, \"out_channels\":80, \"kernel_size\":(2,7), \"bias\":True, \"padding\":(0,3), },},\n",
    "    {\"class\": \"ReLU\", \"kargs\": {\"inplace\": True}},\n",
    "    {\"class\": \"BatchNorm2d\", \"kargs\": {\"num_features\":80}},\n",
    "    {\"class\": \"Flatten\", \"kargs\": {}},\n",
    "\n",
    "    {\"class\": \"Linear\", \"kargs\": {\"in_features\": 80*256, \"out_features\": 256}}, # 80 units per IQ pair\n",
    "    {\"class\": \"ReLU\", \"kargs\": {\"inplace\": True}},\n",
    "    {\"class\": \"BatchNorm1d\", \"kargs\": {\"num_features\":256}},\n",
    "\n",
    "    {\"class\": \"Linear\", \"kargs\": {\"in_features\": 256, \"out_features\": 256}},\n",
    "]\n",
    "\n",
    "# Parameters relevant to results\n",
    "# These parameters will basically never need to change\n",
    "standalone_parameters[\"NUM_LOGS_PER_EPOCH\"] = 10\n",
    "standalone_parameters[\"BEST_MODEL_PATH\"] = \"./best_model.pth\"\n",
    "\n",
    "# uncomment for CORES dataset\n",
    "from steves_utils.CORES.utils import (\n",
    "    ALL_NODES,\n",
    "    ALL_NODES_MINIMUM_1000_EXAMPLES,\n",
    "    ALL_DAYS\n",
    ")\n",
    "\n",
    "\n",
    "standalone_parameters[\"labels_source\"] = ALL_NODES\n",
    "standalone_parameters[\"labels_target\"] = ALL_NODES\n",
    "\n",
    "standalone_parameters[\"domains_source\"] = [1]\n",
    "standalone_parameters[\"domains_target\"] = [2,3,4,5]\n",
    "\n",
    "standalone_parameters[\"pickle_name\"] = \"cores.stratified_ds.2022A.pkl\"\n",
    "\n",
    "\n",
    "# Uncomment these for ORACLE dataset\n",
    "# from steves_utils.ORACLE.utils_v2 import (\n",
    "#     ALL_DISTANCES_FEET,\n",
    "#     ALL_RUNS,\n",
    "#     ALL_SERIAL_NUMBERS,\n",
    "# )\n",
    "# standalone_parameters[\"labels_source\"] = ALL_SERIAL_NUMBERS\n",
    "# standalone_parameters[\"labels_target\"] = ALL_SERIAL_NUMBERS\n",
    "# standalone_parameters[\"domains_source\"] = [8,20, 38,50]\n",
    "# standalone_parameters[\"domains_target\"] = [14, 26, 32, 44, 56]\n",
    "# standalone_parameters[\"pickle_name\"] = \"oracle.frame_indexed.stratified_ds.2022A.pkl\"\n",
    "# standalone_parameters[\"num_examples_per_domain_per_label_source\"]=1000\n",
    "# standalone_parameters[\"num_examples_per_domain_per_label_target\"]=1000\n",
    "\n",
    "# Uncomment these for Metahan dataset\n",
    "# standalone_parameters[\"labels_source\"] = list(range(19))\n",
    "# standalone_parameters[\"labels_target\"] = list(range(19))\n",
    "# standalone_parameters[\"domains_source\"] = [0]\n",
    "# standalone_parameters[\"domains_target\"] = [1]\n",
    "# standalone_parameters[\"pickle_name\"] = \"metehan.stratified_ds.2022A.pkl\"\n",
    "# standalone_parameters[\"n_way\"]  = len(standalone_parameters[\"labels_source\"])\n",
    "# standalone_parameters[\"num_examples_per_domain_per_label_source\"]=200\n",
    "# standalone_parameters[\"num_examples_per_domain_per_label_target\"]=100\n",
    "\n",
    "\n",
    "standalone_parameters[\"n_way\"]  = len(standalone_parameters[\"labels_source\"])"
   ]
  },
  {
   "cell_type": "code",
   "execution_count": 4,
   "id": "314af4c8",
   "metadata": {
    "execution": {
     "iopub.execute_input": "2022-04-01T23:00:42.402937Z",
     "iopub.status.busy": "2022-04-01T23:00:42.402630Z",
     "iopub.status.idle": "2022-04-01T23:00:42.413650Z",
     "shell.execute_reply": "2022-04-01T23:00:42.413187Z"
    },
    "papermill": {
     "duration": 0.025228,
     "end_time": "2022-04-01T23:00:42.413739",
     "exception": false,
     "start_time": "2022-04-01T23:00:42.388511",
     "status": "completed"
    },
    "tags": [
     "injected-parameters"
    ]
   },
   "outputs": [],
   "source": [
    "# Parameters\n",
    "parameters = {\n",
    "    \"experiment_name\": \"tuned_1v2:oracle.run1_limited\",\n",
    "    \"device\": \"cuda\",\n",
    "    \"lr\": 0.0001,\n",
    "    \"labels_source\": [\n",
    "        \"3123D52\",\n",
    "        \"3123D65\",\n",
    "        \"3123D79\",\n",
    "        \"3123D80\",\n",
    "        \"3123D54\",\n",
    "        \"3123D70\",\n",
    "        \"3123D7B\",\n",
    "        \"3123D89\",\n",
    "        \"3123D58\",\n",
    "        \"3123D76\",\n",
    "        \"3123D7D\",\n",
    "        \"3123EFE\",\n",
    "        \"3123D64\",\n",
    "        \"3123D78\",\n",
    "        \"3123D7E\",\n",
    "        \"3124E4A\",\n",
    "    ],\n",
    "    \"labels_target\": [\n",
    "        \"3123D52\",\n",
    "        \"3123D65\",\n",
    "        \"3123D79\",\n",
    "        \"3123D80\",\n",
    "        \"3123D54\",\n",
    "        \"3123D70\",\n",
    "        \"3123D7B\",\n",
    "        \"3123D89\",\n",
    "        \"3123D58\",\n",
    "        \"3123D76\",\n",
    "        \"3123D7D\",\n",
    "        \"3123EFE\",\n",
    "        \"3123D64\",\n",
    "        \"3123D78\",\n",
    "        \"3123D7E\",\n",
    "        \"3124E4A\",\n",
    "    ],\n",
    "    \"episode_transforms_source\": [],\n",
    "    \"episode_transforms_target\": [],\n",
    "    \"domains_source\": [8, 32, 50],\n",
    "    \"domains_target\": [14, 20, 26, 38, 44],\n",
    "    \"num_examples_per_domain_per_label_source\": 2000,\n",
    "    \"num_examples_per_domain_per_label_target\": 2000,\n",
    "    \"n_shot\": 3,\n",
    "    \"n_way\": 16,\n",
    "    \"n_query\": 2,\n",
    "    \"train_k_factor\": 3,\n",
    "    \"val_k_factor\": 2,\n",
    "    \"test_k_factor\": 2,\n",
    "    \"torch_default_dtype\": \"torch.float32\",\n",
    "    \"n_epoch\": 50,\n",
    "    \"patience\": 3,\n",
    "    \"criteria_for_best\": \"target_accuracy\",\n",
    "    \"x_net\": [\n",
    "        {\"class\": \"nnReshape\", \"kargs\": {\"shape\": [-1, 1, 2, 256]}},\n",
    "        {\n",
    "            \"class\": \"Conv2d\",\n",
    "            \"kargs\": {\n",
    "                \"in_channels\": 1,\n",
    "                \"out_channels\": 256,\n",
    "                \"kernel_size\": [1, 7],\n",
    "                \"bias\": False,\n",
    "                \"padding\": [0, 3],\n",
    "            },\n",
    "        },\n",
    "        {\"class\": \"ReLU\", \"kargs\": {\"inplace\": True}},\n",
    "        {\"class\": \"BatchNorm2d\", \"kargs\": {\"num_features\": 256}},\n",
    "        {\n",
    "            \"class\": \"Conv2d\",\n",
    "            \"kargs\": {\n",
    "                \"in_channels\": 256,\n",
    "                \"out_channels\": 80,\n",
    "                \"kernel_size\": [2, 7],\n",
    "                \"bias\": True,\n",
    "                \"padding\": [0, 3],\n",
    "            },\n",
    "        },\n",
    "        {\"class\": \"ReLU\", \"kargs\": {\"inplace\": True}},\n",
    "        {\"class\": \"BatchNorm2d\", \"kargs\": {\"num_features\": 80}},\n",
    "        {\"class\": \"Flatten\", \"kargs\": {}},\n",
    "        {\"class\": \"Linear\", \"kargs\": {\"in_features\": 20480, \"out_features\": 256}},\n",
    "        {\"class\": \"ReLU\", \"kargs\": {\"inplace\": True}},\n",
    "        {\"class\": \"BatchNorm1d\", \"kargs\": {\"num_features\": 256}},\n",
    "        {\"class\": \"Linear\", \"kargs\": {\"in_features\": 256, \"out_features\": 256}},\n",
    "    ],\n",
    "    \"NUM_LOGS_PER_EPOCH\": 10,\n",
    "    \"BEST_MODEL_PATH\": \"./best_model.pth\",\n",
    "    \"pickle_name\": \"oracle.Run1_10kExamples_stratified_ds.2022A.pkl\",\n",
    "    \"x_transforms_source\": [\"unit_power\"],\n",
    "    \"x_transforms_target\": [\"unit_power\"],\n",
    "    \"dataset_seed\": 7,\n",
    "    \"seed\": 7,\n",
    "}\n"
   ]
  },
  {
   "cell_type": "code",
   "execution_count": 5,
   "id": "8fa1cc33",
   "metadata": {
    "execution": {
     "iopub.execute_input": "2022-04-01T23:00:42.439445Z",
     "iopub.status.busy": "2022-04-01T23:00:42.439194Z",
     "iopub.status.idle": "2022-04-01T23:00:42.449523Z",
     "shell.execute_reply": "2022-04-01T23:00:42.449176Z"
    },
    "papermill": {
     "duration": 0.021706,
     "end_time": "2022-04-01T23:00:42.449591",
     "exception": false,
     "start_time": "2022-04-01T23:00:42.427885",
     "status": "completed"
    },
    "tags": []
   },
   "outputs": [],
   "source": [
    "# Set this to True if you want to run this template directly\n",
    "STANDALONE = False\n",
    "if STANDALONE:\n",
    "    print(\"parameters not injected, running with standalone_parameters\")\n",
    "    parameters = standalone_parameters\n",
    "\n",
    "if not 'parameters' in locals() and not 'parameters' in globals():\n",
    "    raise Exception(\"Parameter injection failed\")\n",
    "\n",
    "#Use an easy dict for all the parameters\n",
    "p = EasyDict(parameters)\n",
    "\n",
    "supplied_keys = set(p.keys())\n",
    "\n",
    "if  supplied_keys != required_parameters:\n",
    "    print(\"Parameters are incorrect\")\n",
    "    if len(supplied_keys - required_parameters)>0: print(\"Shouldn't have:\", str(supplied_keys - required_parameters))\n",
    "    if len(required_parameters - supplied_keys)>0: print(\"Need to have:\", str(required_parameters - supplied_keys))\n",
    "    raise RuntimeError(\"Parameters are incorrect\")\n",
    "\n"
   ]
  },
  {
   "cell_type": "code",
   "execution_count": 6,
   "id": "3a028d58",
   "metadata": {
    "execution": {
     "iopub.execute_input": "2022-04-01T23:00:42.476069Z",
     "iopub.status.busy": "2022-04-01T23:00:42.475826Z",
     "iopub.status.idle": "2022-04-01T23:00:42.486312Z",
     "shell.execute_reply": "2022-04-01T23:00:42.485929Z"
    },
    "papermill": {
     "duration": 0.023232,
     "end_time": "2022-04-01T23:00:42.486400",
     "exception": false,
     "start_time": "2022-04-01T23:00:42.463168",
     "status": "completed"
    },
    "tags": []
   },
   "outputs": [],
   "source": [
    "###################################\n",
    "# Set the RNGs and make it all deterministic\n",
    "###################################\n",
    "np.random.seed(p.seed)\n",
    "random.seed(p.seed)\n",
    "torch.manual_seed(p.seed)\n",
    "\n",
    "torch.use_deterministic_algorithms(True) "
   ]
  },
  {
   "cell_type": "code",
   "execution_count": 7,
   "id": "b691acf6",
   "metadata": {
    "execution": {
     "iopub.execute_input": "2022-04-01T23:00:42.511071Z",
     "iopub.status.busy": "2022-04-01T23:00:42.510826Z",
     "iopub.status.idle": "2022-04-01T23:00:42.520912Z",
     "shell.execute_reply": "2022-04-01T23:00:42.520568Z"
    },
    "papermill": {
     "duration": 0.020866,
     "end_time": "2022-04-01T23:00:42.520980",
     "exception": false,
     "start_time": "2022-04-01T23:00:42.500114",
     "status": "completed"
    },
    "tags": []
   },
   "outputs": [],
   "source": [
    "###########################################\n",
    "# The stratified datasets honor this\n",
    "###########################################\n",
    "torch.set_default_dtype(eval(p.torch_default_dtype))"
   ]
  },
  {
   "cell_type": "code",
   "execution_count": 8,
   "id": "b5fba671",
   "metadata": {
    "execution": {
     "iopub.execute_input": "2022-04-01T23:00:42.543995Z",
     "iopub.status.busy": "2022-04-01T23:00:42.543683Z",
     "iopub.status.idle": "2022-04-01T23:00:42.579225Z",
     "shell.execute_reply": "2022-04-01T23:00:42.578986Z"
    },
    "papermill": {
     "duration": 0.046475,
     "end_time": "2022-04-01T23:00:42.579274",
     "exception": false,
     "start_time": "2022-04-01T23:00:42.532799",
     "status": "completed"
    },
    "tags": []
   },
   "outputs": [],
   "source": [
    "###################################\n",
    "# Build the network(s)\n",
    "# Note: It's critical to do this AFTER setting the RNG\n",
    "# (This is due to the randomized initial weights)\n",
    "###################################\n",
    "x_net = build_sequential(p.x_net)"
   ]
  },
  {
   "cell_type": "code",
   "execution_count": 9,
   "id": "5d7e61cc",
   "metadata": {
    "execution": {
     "iopub.execute_input": "2022-04-01T23:00:42.600764Z",
     "iopub.status.busy": "2022-04-01T23:00:42.600521Z",
     "iopub.status.idle": "2022-04-01T23:00:42.611572Z",
     "shell.execute_reply": "2022-04-01T23:00:42.611329Z"
    },
    "papermill": {
     "duration": 0.022659,
     "end_time": "2022-04-01T23:00:42.611620",
     "exception": false,
     "start_time": "2022-04-01T23:00:42.588961",
     "status": "completed"
    },
    "tags": []
   },
   "outputs": [],
   "source": [
    "start_time_secs = time.time()"
   ]
  },
  {
   "cell_type": "code",
   "execution_count": 10,
   "id": "fd5442bc",
   "metadata": {
    "execution": {
     "iopub.execute_input": "2022-04-01T23:00:42.641715Z",
     "iopub.status.busy": "2022-04-01T23:00:42.641447Z",
     "iopub.status.idle": "2022-04-01T23:01:01.158177Z",
     "shell.execute_reply": "2022-04-01T23:01:01.157690Z"
    },
    "papermill": {
     "duration": 18.532003,
     "end_time": "2022-04-01T23:01:01.158280",
     "exception": false,
     "start_time": "2022-04-01T23:00:42.626277",
     "status": "completed"
    },
    "tags": []
   },
   "outputs": [],
   "source": [
    "###################################\n",
    "# Build the dataset\n",
    "###################################\n",
    "\n",
    "if p.x_transforms_source == []: x_transform_source = None\n",
    "else: x_transform_source = get_chained_transform(p.x_transforms_source) \n",
    "\n",
    "if p.x_transforms_target == []: x_transform_target = None\n",
    "else: x_transform_target = get_chained_transform(p.x_transforms_target)\n",
    "\n",
    "if p.episode_transforms_source == []: episode_transform_source = None\n",
    "else: raise Exception(\"episode_transform_source not implemented\")\n",
    "\n",
    "if p.episode_transforms_target == []: episode_transform_target = None\n",
    "else: raise Exception(\"episode_transform_target not implemented\")\n",
    "\n",
    "\n",
    "eaf_source = Episodic_Accessor_Factory(\n",
    "    labels=p.labels_source,\n",
    "    domains=p.domains_source,\n",
    "    num_examples_per_domain_per_label=p.num_examples_per_domain_per_label_source,\n",
    "    iterator_seed=p.seed,\n",
    "    dataset_seed=p.dataset_seed,\n",
    "    n_shot=p.n_shot,\n",
    "    n_way=p.n_way,\n",
    "    n_query=p.n_query,\n",
    "    train_val_test_k_factors=(p.train_k_factor,p.val_k_factor,p.test_k_factor),\n",
    "    pickle_path=os.path.join(get_datasets_base_path(), p.pickle_name),\n",
    "    x_transform_func=x_transform_source,\n",
    "    example_transform_func=episode_transform_source,\n",
    "    \n",
    ")\n",
    "train_original_source, val_original_source, test_original_source = eaf_source.get_train(), eaf_source.get_val(), eaf_source.get_test()\n",
    "\n",
    "\n",
    "eaf_target = Episodic_Accessor_Factory(\n",
    "    labels=p.labels_target,\n",
    "    domains=p.domains_target,\n",
    "    num_examples_per_domain_per_label=p.num_examples_per_domain_per_label_target,\n",
    "    iterator_seed=p.seed,\n",
    "    dataset_seed=p.dataset_seed,\n",
    "    n_shot=p.n_shot,\n",
    "    n_way=p.n_way,\n",
    "    n_query=p.n_query,\n",
    "    train_val_test_k_factors=(p.train_k_factor,p.val_k_factor,p.test_k_factor),\n",
    "    pickle_path=os.path.join(get_datasets_base_path(), p.pickle_name),\n",
    "    x_transform_func=x_transform_target,\n",
    "    example_transform_func=episode_transform_target,\n",
    ")\n",
    "train_original_target, val_original_target, test_original_target = eaf_target.get_train(), eaf_target.get_val(), eaf_target.get_test()\n",
    "\n",
    "\n",
    "transform_lambda = lambda ex: ex[1] # Original is (<domain>, <episode>) so we strip down to episode only\n",
    "\n",
    "train_processed_source = Lazy_Iterable_Wrapper(train_original_source, transform_lambda)\n",
    "val_processed_source   = Lazy_Iterable_Wrapper(val_original_source, transform_lambda)\n",
    "test_processed_source  = Lazy_Iterable_Wrapper(test_original_source, transform_lambda)\n",
    "\n",
    "train_processed_target = Lazy_Iterable_Wrapper(train_original_target, transform_lambda)\n",
    "val_processed_target   = Lazy_Iterable_Wrapper(val_original_target, transform_lambda)\n",
    "test_processed_target  = Lazy_Iterable_Wrapper(test_original_target, transform_lambda)\n",
    "\n",
    "datasets = EasyDict({\n",
    "    \"source\": {\n",
    "        \"original\": {\"train\":train_original_source, \"val\":val_original_source, \"test\":test_original_source},\n",
    "        \"processed\": {\"train\":train_processed_source, \"val\":val_processed_source, \"test\":test_processed_source}\n",
    "    },\n",
    "    \"target\": {\n",
    "        \"original\": {\"train\":train_original_target, \"val\":val_original_target, \"test\":test_original_target},\n",
    "        \"processed\": {\"train\":train_processed_target, \"val\":val_processed_target, \"test\":test_processed_target}\n",
    "    },\n",
    "})"
   ]
  },
  {
   "cell_type": "code",
   "execution_count": 11,
   "id": "296189d9",
   "metadata": {
    "execution": {
     "iopub.execute_input": "2022-04-01T23:01:01.186846Z",
     "iopub.status.busy": "2022-04-01T23:01:01.186557Z",
     "iopub.status.idle": "2022-04-01T23:01:02.830669Z",
     "shell.execute_reply": "2022-04-01T23:01:02.831146Z"
    },
    "papermill": {
     "duration": 1.65852,
     "end_time": "2022-04-01T23:01:02.831254",
     "exception": false,
     "start_time": "2022-04-01T23:01:01.172734",
     "status": "completed"
    },
    "tags": []
   },
   "outputs": [
    {
     "name": "stdout",
     "output_type": "stream",
     "text": [
      "Visually inspect these to see if they line up with expected values given the transforms\n",
      "x_transforms_source ['unit_power']\n",
      "x_transforms_target ['unit_power']\n",
      "Average magnitude, source: 0.8949299\n",
      "Average power, source: 0.99999994\n"
     ]
    },
    {
     "name": "stdout",
     "output_type": "stream",
     "text": [
      "Average magnitude, target: 0.89365375\n",
      "Average power, target: 0.99999994\n"
     ]
    }
   ],
   "source": [
    "# Some quick unit tests on the data\n",
    "from steves_utils.transforms import get_average_power, get_average_magnitude\n",
    "\n",
    "q_x, q_y, s_x, s_y, truth = next(iter(train_processed_source))\n",
    "\n",
    "assert q_x.dtype == eval(p.torch_default_dtype)\n",
    "assert s_x.dtype == eval(p.torch_default_dtype)\n",
    "\n",
    "print(\"Visually inspect these to see if they line up with expected values given the transforms\")\n",
    "print('x_transforms_source', p.x_transforms_source)\n",
    "print('x_transforms_target', p.x_transforms_target)\n",
    "print(\"Average magnitude, source:\", get_average_magnitude(q_x[0].numpy()))\n",
    "print(\"Average power, source:\", get_average_power(q_x[0].numpy()))\n",
    "\n",
    "q_x, q_y, s_x, s_y, truth = next(iter(train_processed_target))\n",
    "print(\"Average magnitude, target:\", get_average_magnitude(q_x[0].numpy()))\n",
    "print(\"Average power, target:\", get_average_power(q_x[0].numpy()))\n"
   ]
  },
  {
   "cell_type": "code",
   "execution_count": 12,
   "id": "bbdacba1",
   "metadata": {
    "execution": {
     "iopub.execute_input": "2022-04-01T23:01:02.860698Z",
     "iopub.status.busy": "2022-04-01T23:01:02.860444Z",
     "iopub.status.idle": "2022-04-01T23:01:02.921439Z",
     "shell.execute_reply": "2022-04-01T23:01:02.921022Z"
    },
    "papermill": {
     "duration": 0.074712,
     "end_time": "2022-04-01T23:01:02.921536",
     "exception": false,
     "start_time": "2022-04-01T23:01:02.846824",
     "status": "completed"
    },
    "tags": []
   },
   "outputs": [
    {
     "name": "stdout",
     "output_type": "stream",
     "text": [
      "(2, 256)\n"
     ]
    }
   ],
   "source": [
    "###################################\n",
    "# Build the model\n",
    "###################################\n",
    "model = Steves_Prototypical_Network(x_net, device=p.device, x_shape=(2,256))\n",
    "optimizer = Adam(params=model.parameters(), lr=p.lr)"
   ]
  },
  {
   "cell_type": "code",
   "execution_count": 13,
   "id": "22b39ac5",
   "metadata": {
    "execution": {
     "iopub.execute_input": "2022-04-01T23:01:02.949690Z",
     "iopub.status.busy": "2022-04-01T23:01:02.949444Z",
     "iopub.status.idle": "2022-04-01T23:14:10.393626Z",
     "shell.execute_reply": "2022-04-01T23:14:10.393395Z"
    },
    "papermill": {
     "duration": 787.456927,
     "end_time": "2022-04-01T23:14:10.393684",
     "exception": false,
     "start_time": "2022-04-01T23:01:02.936757",
     "status": "completed"
    },
    "tags": []
   },
   "outputs": [
    {
     "name": "stdout",
     "output_type": "stream",
     "text": [
      "epoch: 1, [batch: 1 / 2520], examples_per_second: 129.8057, train_label_loss: 2.7638, \n"
     ]
    },
    {
     "name": "stdout",
     "output_type": "stream",
     "text": [
      "epoch: 1, [batch: 252 / 2520], examples_per_second: 3153.2275, train_label_loss: 2.8201, \n"
     ]
    },
    {
     "name": "stdout",
     "output_type": "stream",
     "text": [
      "epoch: 1, [batch: 504 / 2520], examples_per_second: 3163.4754, train_label_loss: 1.9654, \n"
     ]
    },
    {
     "name": "stdout",
     "output_type": "stream",
     "text": [
      "epoch: 1, [batch: 756 / 2520], examples_per_second: 3145.1109, train_label_loss: 1.4157, \n"
     ]
    },
    {
     "name": "stdout",
     "output_type": "stream",
     "text": [
      "epoch: 1, [batch: 1008 / 2520], examples_per_second: 3129.5028, train_label_loss: 1.9377, \n"
     ]
    },
    {
     "name": "stdout",
     "output_type": "stream",
     "text": [
      "epoch: 1, [batch: 1260 / 2520], examples_per_second: 3138.9227, train_label_loss: 1.4491, \n"
     ]
    },
    {
     "name": "stdout",
     "output_type": "stream",
     "text": [
      "epoch: 1, [batch: 1512 / 2520], examples_per_second: 3135.2380, train_label_loss: 1.5014, \n"
     ]
    },
    {
     "name": "stdout",
     "output_type": "stream",
     "text": [
      "epoch: 1, [batch: 1764 / 2520], examples_per_second: 3132.3519, train_label_loss: 1.2948, \n"
     ]
    },
    {
     "name": "stdout",
     "output_type": "stream",
     "text": [
      "epoch: 1, [batch: 2016 / 2520], examples_per_second: 3148.7321, train_label_loss: 1.4446, \n"
     ]
    },
    {
     "name": "stdout",
     "output_type": "stream",
     "text": [
      "epoch: 1, [batch: 2268 / 2520], examples_per_second: 3150.0003, train_label_loss: 1.7052, \n"
     ]
    },
    {
     "name": "stdout",
     "output_type": "stream",
     "text": [
      "=============================================================\n",
      "epoch: 1, source_val_acc_label: 0.3832, target_val_acc_label: 0.2778, source_val_label_loss: 1.5472, target_val_label_loss: 1.8884, \n",
      "=============================================================\n"
     ]
    },
    {
     "name": "stdout",
     "output_type": "stream",
     "text": [
      "New best\n"
     ]
    },
    {
     "name": "stdout",
     "output_type": "stream",
     "text": [
      "epoch: 2, [batch: 1 / 2520], examples_per_second: 11.1733, train_label_loss: 1.2979, \n"
     ]
    },
    {
     "name": "stdout",
     "output_type": "stream",
     "text": [
      "epoch: 2, [batch: 252 / 2520], examples_per_second: 3161.2566, train_label_loss: 1.4952, \n"
     ]
    },
    {
     "name": "stdout",
     "output_type": "stream",
     "text": [
      "epoch: 2, [batch: 504 / 2520], examples_per_second: 3188.4824, train_label_loss: 1.3006, \n"
     ]
    },
    {
     "name": "stdout",
     "output_type": "stream",
     "text": [
      "epoch: 2, [batch: 756 / 2520], examples_per_second: 3189.9122, train_label_loss: 1.2180, \n"
     ]
    },
    {
     "name": "stdout",
     "output_type": "stream",
     "text": [
      "epoch: 2, [batch: 1008 / 2520], examples_per_second: 3175.2152, train_label_loss: 1.1954, \n"
     ]
    },
    {
     "name": "stdout",
     "output_type": "stream",
     "text": [
      "epoch: 2, [batch: 1260 / 2520], examples_per_second: 3177.5285, train_label_loss: 1.6034, \n"
     ]
    },
    {
     "name": "stdout",
     "output_type": "stream",
     "text": [
      "epoch: 2, [batch: 1512 / 2520], examples_per_second: 3188.0299, train_label_loss: 1.5744, \n"
     ]
    },
    {
     "name": "stdout",
     "output_type": "stream",
     "text": [
      "epoch: 2, [batch: 1764 / 2520], examples_per_second: 3173.1780, train_label_loss: 1.2333, \n"
     ]
    },
    {
     "name": "stdout",
     "output_type": "stream",
     "text": [
      "epoch: 2, [batch: 2016 / 2520], examples_per_second: 3190.6966, train_label_loss: 1.1355, \n"
     ]
    },
    {
     "name": "stdout",
     "output_type": "stream",
     "text": [
      "epoch: 2, [batch: 2268 / 2520], examples_per_second: 3181.2154, train_label_loss: 1.4196, \n"
     ]
    },
    {
     "name": "stdout",
     "output_type": "stream",
     "text": [
      "=============================================================\n",
      "epoch: 2, source_val_acc_label: 0.4186, target_val_acc_label: 0.2989, source_val_label_loss: 1.4509, target_val_label_loss: 1.8047, \n",
      "=============================================================\n"
     ]
    },
    {
     "name": "stdout",
     "output_type": "stream",
     "text": [
      "New best\n"
     ]
    },
    {
     "name": "stdout",
     "output_type": "stream",
     "text": [
      "epoch: 3, [batch: 1 / 2520], examples_per_second: 11.1620, train_label_loss: 1.5376, \n"
     ]
    },
    {
     "name": "stdout",
     "output_type": "stream",
     "text": [
      "epoch: 3, [batch: 252 / 2520], examples_per_second: 3164.9867, train_label_loss: 1.5529, \n"
     ]
    },
    {
     "name": "stdout",
     "output_type": "stream",
     "text": [
      "epoch: 3, [batch: 504 / 2520], examples_per_second: 3174.1200, train_label_loss: 1.5226, \n"
     ]
    },
    {
     "name": "stdout",
     "output_type": "stream",
     "text": [
      "epoch: 3, [batch: 756 / 2520], examples_per_second: 3151.1130, train_label_loss: 1.4713, \n"
     ]
    },
    {
     "name": "stdout",
     "output_type": "stream",
     "text": [
      "epoch: 3, [batch: 1008 / 2520], examples_per_second: 3147.7504, train_label_loss: 1.5398, \n"
     ]
    },
    {
     "name": "stdout",
     "output_type": "stream",
     "text": [
      "epoch: 3, [batch: 1260 / 2520], examples_per_second: 3155.4698, train_label_loss: 1.0785, \n"
     ]
    },
    {
     "name": "stdout",
     "output_type": "stream",
     "text": [
      "epoch: 3, [batch: 1512 / 2520], examples_per_second: 3163.0841, train_label_loss: 1.3987, \n"
     ]
    },
    {
     "name": "stdout",
     "output_type": "stream",
     "text": [
      "epoch: 3, [batch: 1764 / 2520], examples_per_second: 3158.5608, train_label_loss: 0.9135, \n"
     ]
    },
    {
     "name": "stdout",
     "output_type": "stream",
     "text": [
      "epoch: 3, [batch: 2016 / 2520], examples_per_second: 3160.5977, train_label_loss: 0.8062, \n"
     ]
    },
    {
     "name": "stdout",
     "output_type": "stream",
     "text": [
      "epoch: 3, [batch: 2268 / 2520], examples_per_second: 3164.9739, train_label_loss: 1.4321, \n"
     ]
    },
    {
     "name": "stdout",
     "output_type": "stream",
     "text": [
      "=============================================================\n",
      "epoch: 3, source_val_acc_label: 0.5306, target_val_acc_label: 0.4346, source_val_label_loss: 1.2363, target_val_label_loss: 1.5132, \n",
      "=============================================================\n"
     ]
    },
    {
     "name": "stdout",
     "output_type": "stream",
     "text": [
      "New best\n"
     ]
    },
    {
     "name": "stdout",
     "output_type": "stream",
     "text": [
      "epoch: 4, [batch: 1 / 2520], examples_per_second: 11.1587, train_label_loss: 0.9354, \n"
     ]
    },
    {
     "name": "stdout",
     "output_type": "stream",
     "text": [
      "epoch: 4, [batch: 252 / 2520], examples_per_second: 3161.7439, train_label_loss: 0.8735, \n"
     ]
    },
    {
     "name": "stdout",
     "output_type": "stream",
     "text": [
      "epoch: 4, [batch: 504 / 2520], examples_per_second: 3167.6316, train_label_loss: 1.2283, \n"
     ]
    },
    {
     "name": "stdout",
     "output_type": "stream",
     "text": [
      "epoch: 4, [batch: 756 / 2520], examples_per_second: 3195.5880, train_label_loss: 1.0259, \n"
     ]
    },
    {
     "name": "stdout",
     "output_type": "stream",
     "text": [
      "epoch: 4, [batch: 1008 / 2520], examples_per_second: 3159.5835, train_label_loss: 0.8026, \n"
     ]
    },
    {
     "name": "stdout",
     "output_type": "stream",
     "text": [
      "epoch: 4, [batch: 1260 / 2520], examples_per_second: 3170.3322, train_label_loss: 1.1657, \n"
     ]
    },
    {
     "name": "stdout",
     "output_type": "stream",
     "text": [
      "epoch: 4, [batch: 1512 / 2520], examples_per_second: 3168.5427, train_label_loss: 0.5631, \n"
     ]
    },
    {
     "name": "stdout",
     "output_type": "stream",
     "text": [
      "epoch: 4, [batch: 1764 / 2520], examples_per_second: 3168.1404, train_label_loss: 0.6832, \n"
     ]
    },
    {
     "name": "stdout",
     "output_type": "stream",
     "text": [
      "epoch: 4, [batch: 2016 / 2520], examples_per_second: 3180.6945, train_label_loss: 0.7610, \n"
     ]
    },
    {
     "name": "stdout",
     "output_type": "stream",
     "text": [
      "epoch: 4, [batch: 2268 / 2520], examples_per_second: 3178.7107, train_label_loss: 0.8364, \n"
     ]
    },
    {
     "name": "stdout",
     "output_type": "stream",
     "text": [
      "=============================================================\n",
      "epoch: 4, source_val_acc_label: 0.5682, target_val_acc_label: 0.4726, source_val_label_loss: 1.1929, target_val_label_loss: 1.4366, \n",
      "=============================================================\n"
     ]
    },
    {
     "name": "stdout",
     "output_type": "stream",
     "text": [
      "New best\n"
     ]
    },
    {
     "name": "stdout",
     "output_type": "stream",
     "text": [
      "epoch: 5, [batch: 1 / 2520], examples_per_second: 11.1253, train_label_loss: 0.7298, \n"
     ]
    },
    {
     "name": "stdout",
     "output_type": "stream",
     "text": [
      "epoch: 5, [batch: 252 / 2520], examples_per_second: 3174.3015, train_label_loss: 1.0355, \n"
     ]
    },
    {
     "name": "stdout",
     "output_type": "stream",
     "text": [
      "epoch: 5, [batch: 504 / 2520], examples_per_second: 3178.6416, train_label_loss: 0.9254, \n"
     ]
    },
    {
     "name": "stdout",
     "output_type": "stream",
     "text": [
      "epoch: 5, [batch: 756 / 2520], examples_per_second: 3179.2445, train_label_loss: 0.8713, \n"
     ]
    },
    {
     "name": "stdout",
     "output_type": "stream",
     "text": [
      "epoch: 5, [batch: 1008 / 2520], examples_per_second: 3169.6087, train_label_loss: 1.0908, \n"
     ]
    },
    {
     "name": "stdout",
     "output_type": "stream",
     "text": [
      "epoch: 5, [batch: 1260 / 2520], examples_per_second: 3181.7471, train_label_loss: 0.7461, \n"
     ]
    },
    {
     "name": "stdout",
     "output_type": "stream",
     "text": [
      "epoch: 5, [batch: 1512 / 2520], examples_per_second: 3211.9029, train_label_loss: 1.0191, \n"
     ]
    },
    {
     "name": "stdout",
     "output_type": "stream",
     "text": [
      "epoch: 5, [batch: 1764 / 2520], examples_per_second: 3172.1356, train_label_loss: 0.8883, \n"
     ]
    },
    {
     "name": "stdout",
     "output_type": "stream",
     "text": [
      "epoch: 5, [batch: 2016 / 2520], examples_per_second: 3181.4677, train_label_loss: 0.5389, \n"
     ]
    },
    {
     "name": "stdout",
     "output_type": "stream",
     "text": [
      "epoch: 5, [batch: 2268 / 2520], examples_per_second: 3168.9574, train_label_loss: 0.7421, \n"
     ]
    },
    {
     "name": "stdout",
     "output_type": "stream",
     "text": [
      "=============================================================\n",
      "epoch: 5, source_val_acc_label: 0.5839, target_val_acc_label: 0.4958, source_val_label_loss: 1.2093, target_val_label_loss: 1.4381, \n",
      "=============================================================\n"
     ]
    },
    {
     "name": "stdout",
     "output_type": "stream",
     "text": [
      "New best\n"
     ]
    },
    {
     "name": "stdout",
     "output_type": "stream",
     "text": [
      "epoch: 6, [batch: 1 / 2520], examples_per_second: 11.1141, train_label_loss: 0.4391, \n"
     ]
    },
    {
     "name": "stdout",
     "output_type": "stream",
     "text": [
      "epoch: 6, [batch: 252 / 2520], examples_per_second: 3166.4116, train_label_loss: 0.6312, \n"
     ]
    },
    {
     "name": "stdout",
     "output_type": "stream",
     "text": [
      "epoch: 6, [batch: 504 / 2520], examples_per_second: 3183.6313, train_label_loss: 0.6405, \n"
     ]
    },
    {
     "name": "stdout",
     "output_type": "stream",
     "text": [
      "epoch: 6, [batch: 756 / 2520], examples_per_second: 3169.3328, train_label_loss: 0.8030, \n"
     ]
    },
    {
     "name": "stdout",
     "output_type": "stream",
     "text": [
      "epoch: 6, [batch: 1008 / 2520], examples_per_second: 3163.2625, train_label_loss: 1.0869, \n"
     ]
    },
    {
     "name": "stdout",
     "output_type": "stream",
     "text": [
      "epoch: 6, [batch: 1260 / 2520], examples_per_second: 3172.5299, train_label_loss: 0.2375, \n"
     ]
    },
    {
     "name": "stdout",
     "output_type": "stream",
     "text": [
      "epoch: 6, [batch: 1512 / 2520], examples_per_second: 3153.1826, train_label_loss: 0.7098, \n"
     ]
    },
    {
     "name": "stdout",
     "output_type": "stream",
     "text": [
      "epoch: 6, [batch: 1764 / 2520], examples_per_second: 3152.5648, train_label_loss: 0.6195, \n"
     ]
    },
    {
     "name": "stdout",
     "output_type": "stream",
     "text": [
      "epoch: 6, [batch: 2016 / 2520], examples_per_second: 3167.8367, train_label_loss: 0.5742, \n"
     ]
    },
    {
     "name": "stdout",
     "output_type": "stream",
     "text": [
      "epoch: 6, [batch: 2268 / 2520], examples_per_second: 3171.1687, train_label_loss: 0.4923, \n"
     ]
    },
    {
     "name": "stdout",
     "output_type": "stream",
     "text": [
      "=============================================================\n",
      "epoch: 6, source_val_acc_label: 0.5832, target_val_acc_label: 0.4956, source_val_label_loss: 1.2836, target_val_label_loss: 1.5203, \n",
      "=============================================================\n"
     ]
    },
    {
     "name": "stdout",
     "output_type": "stream",
     "text": [
      "epoch: 7, [batch: 1 / 2520], examples_per_second: 11.1752, train_label_loss: 0.2633, \n"
     ]
    },
    {
     "name": "stdout",
     "output_type": "stream",
     "text": [
      "epoch: 7, [batch: 252 / 2520], examples_per_second: 3176.1575, train_label_loss: 0.4996, \n"
     ]
    },
    {
     "name": "stdout",
     "output_type": "stream",
     "text": [
      "epoch: 7, [batch: 504 / 2520], examples_per_second: 3193.4777, train_label_loss: 0.3678, \n"
     ]
    },
    {
     "name": "stdout",
     "output_type": "stream",
     "text": [
      "epoch: 7, [batch: 756 / 2520], examples_per_second: 3174.3781, train_label_loss: 0.4006, \n"
     ]
    },
    {
     "name": "stdout",
     "output_type": "stream",
     "text": [
      "epoch: 7, [batch: 1008 / 2520], examples_per_second: 3179.1910, train_label_loss: 0.5580, \n"
     ]
    },
    {
     "name": "stdout",
     "output_type": "stream",
     "text": [
      "epoch: 7, [batch: 1260 / 2520], examples_per_second: 3186.6602, train_label_loss: 0.5925, \n"
     ]
    },
    {
     "name": "stdout",
     "output_type": "stream",
     "text": [
      "epoch: 7, [batch: 1512 / 2520], examples_per_second: 3174.4825, train_label_loss: 0.4798, \n"
     ]
    },
    {
     "name": "stdout",
     "output_type": "stream",
     "text": [
      "epoch: 7, [batch: 1764 / 2520], examples_per_second: 3164.5519, train_label_loss: 0.5138, \n"
     ]
    },
    {
     "name": "stdout",
     "output_type": "stream",
     "text": [
      "epoch: 7, [batch: 2016 / 2520], examples_per_second: 3165.3313, train_label_loss: 0.3893, \n"
     ]
    },
    {
     "name": "stdout",
     "output_type": "stream",
     "text": [
      "epoch: 7, [batch: 2268 / 2520], examples_per_second: 3163.6046, train_label_loss: 0.4591, \n"
     ]
    },
    {
     "name": "stdout",
     "output_type": "stream",
     "text": [
      "=============================================================\n",
      "epoch: 7, source_val_acc_label: 0.5879, target_val_acc_label: 0.5002, source_val_label_loss: 1.3617, target_val_label_loss: 1.5995, \n",
      "=============================================================\n"
     ]
    },
    {
     "name": "stdout",
     "output_type": "stream",
     "text": [
      "New best\n"
     ]
    },
    {
     "name": "stdout",
     "output_type": "stream",
     "text": [
      "epoch: 8, [batch: 1 / 2520], examples_per_second: 11.0484, train_label_loss: 0.2908, \n"
     ]
    },
    {
     "name": "stdout",
     "output_type": "stream",
     "text": [
      "epoch: 8, [batch: 252 / 2520], examples_per_second: 3158.7715, train_label_loss: 0.2701, \n"
     ]
    },
    {
     "name": "stdout",
     "output_type": "stream",
     "text": [
      "epoch: 8, [batch: 504 / 2520], examples_per_second: 3170.5454, train_label_loss: 0.5855, \n"
     ]
    },
    {
     "name": "stdout",
     "output_type": "stream",
     "text": [
      "epoch: 8, [batch: 756 / 2520], examples_per_second: 3169.8925, train_label_loss: 0.2736, \n"
     ]
    },
    {
     "name": "stdout",
     "output_type": "stream",
     "text": [
      "epoch: 8, [batch: 1008 / 2520], examples_per_second: 3158.6422, train_label_loss: 0.2769, \n"
     ]
    },
    {
     "name": "stdout",
     "output_type": "stream",
     "text": [
      "epoch: 8, [batch: 1260 / 2520], examples_per_second: 3188.8342, train_label_loss: 0.4245, \n"
     ]
    },
    {
     "name": "stdout",
     "output_type": "stream",
     "text": [
      "epoch: 8, [batch: 1512 / 2520], examples_per_second: 3163.0482, train_label_loss: 0.5202, \n"
     ]
    },
    {
     "name": "stdout",
     "output_type": "stream",
     "text": [
      "epoch: 8, [batch: 1764 / 2520], examples_per_second: 3154.6740, train_label_loss: 0.4685, \n"
     ]
    },
    {
     "name": "stdout",
     "output_type": "stream",
     "text": [
      "epoch: 8, [batch: 2016 / 2520], examples_per_second: 3171.5673, train_label_loss: 0.3995, \n"
     ]
    },
    {
     "name": "stdout",
     "output_type": "stream",
     "text": [
      "epoch: 8, [batch: 2268 / 2520], examples_per_second: 3159.0020, train_label_loss: 0.1698, \n"
     ]
    },
    {
     "name": "stdout",
     "output_type": "stream",
     "text": [
      "=============================================================\n",
      "epoch: 8, source_val_acc_label: 0.5833, target_val_acc_label: 0.4957, source_val_label_loss: 1.4927, target_val_label_loss: 1.7305, \n",
      "=============================================================\n"
     ]
    },
    {
     "name": "stdout",
     "output_type": "stream",
     "text": [
      "epoch: 9, [batch: 1 / 2520], examples_per_second: 11.1679, train_label_loss: 0.2101, \n"
     ]
    },
    {
     "name": "stdout",
     "output_type": "stream",
     "text": [
      "epoch: 9, [batch: 252 / 2520], examples_per_second: 3145.6778, train_label_loss: 0.4018, \n"
     ]
    },
    {
     "name": "stdout",
     "output_type": "stream",
     "text": [
      "epoch: 9, [batch: 504 / 2520], examples_per_second: 3188.7805, train_label_loss: 0.4688, \n"
     ]
    },
    {
     "name": "stdout",
     "output_type": "stream",
     "text": [
      "epoch: 9, [batch: 756 / 2520], examples_per_second: 3192.6438, train_label_loss: 0.4445, \n"
     ]
    },
    {
     "name": "stdout",
     "output_type": "stream",
     "text": [
      "epoch: 9, [batch: 1008 / 2520], examples_per_second: 3160.2553, train_label_loss: 0.3352, \n"
     ]
    },
    {
     "name": "stdout",
     "output_type": "stream",
     "text": [
      "epoch: 9, [batch: 1260 / 2520], examples_per_second: 3189.8951, train_label_loss: 0.0367, \n"
     ]
    },
    {
     "name": "stdout",
     "output_type": "stream",
     "text": [
      "epoch: 9, [batch: 1512 / 2520], examples_per_second: 3179.3940, train_label_loss: 0.0779, \n"
     ]
    },
    {
     "name": "stdout",
     "output_type": "stream",
     "text": [
      "epoch: 9, [batch: 1764 / 2520], examples_per_second: 3162.5048, train_label_loss: 0.1333, \n"
     ]
    },
    {
     "name": "stdout",
     "output_type": "stream",
     "text": [
      "epoch: 9, [batch: 2016 / 2520], examples_per_second: 3171.8289, train_label_loss: 0.1247, \n"
     ]
    },
    {
     "name": "stdout",
     "output_type": "stream",
     "text": [
      "epoch: 9, [batch: 2268 / 2520], examples_per_second: 3176.5396, train_label_loss: 0.4857, \n"
     ]
    },
    {
     "name": "stdout",
     "output_type": "stream",
     "text": [
      "=============================================================\n",
      "epoch: 9, source_val_acc_label: 0.5794, target_val_acc_label: 0.4955, source_val_label_loss: 1.5732, target_val_label_loss: 1.8104, \n",
      "=============================================================\n"
     ]
    },
    {
     "name": "stdout",
     "output_type": "stream",
     "text": [
      "epoch: 10, [batch: 1 / 2520], examples_per_second: 11.1642, train_label_loss: 0.3394, \n"
     ]
    },
    {
     "name": "stdout",
     "output_type": "stream",
     "text": [
      "epoch: 10, [batch: 252 / 2520], examples_per_second: 3152.4439, train_label_loss: 0.1315, \n"
     ]
    },
    {
     "name": "stdout",
     "output_type": "stream",
     "text": [
      "epoch: 10, [batch: 504 / 2520], examples_per_second: 3184.0586, train_label_loss: 0.2979, \n"
     ]
    },
    {
     "name": "stdout",
     "output_type": "stream",
     "text": [
      "epoch: 10, [batch: 756 / 2520], examples_per_second: 3183.0810, train_label_loss: 0.3176, \n"
     ]
    },
    {
     "name": "stdout",
     "output_type": "stream",
     "text": [
      "epoch: 10, [batch: 1008 / 2520], examples_per_second: 3162.9328, train_label_loss: 0.3394, \n"
     ]
    },
    {
     "name": "stdout",
     "output_type": "stream",
     "text": [
      "epoch: 10, [batch: 1260 / 2520], examples_per_second: 3178.4932, train_label_loss: 0.1931, \n"
     ]
    },
    {
     "name": "stdout",
     "output_type": "stream",
     "text": [
      "epoch: 10, [batch: 1512 / 2520], examples_per_second: 3181.6718, train_label_loss: 0.1324, \n"
     ]
    },
    {
     "name": "stdout",
     "output_type": "stream",
     "text": [
      "epoch: 10, [batch: 1764 / 2520], examples_per_second: 3174.1389, train_label_loss: 0.0692, \n"
     ]
    },
    {
     "name": "stdout",
     "output_type": "stream",
     "text": [
      "epoch: 10, [batch: 2016 / 2520], examples_per_second: 3196.2949, train_label_loss: 0.1936, \n"
     ]
    },
    {
     "name": "stdout",
     "output_type": "stream",
     "text": [
      "epoch: 10, [batch: 2268 / 2520], examples_per_second: 3170.3501, train_label_loss: 0.2065, \n"
     ]
    },
    {
     "name": "stdout",
     "output_type": "stream",
     "text": [
      "=============================================================\n",
      "epoch: 10, source_val_acc_label: 0.5809, target_val_acc_label: 0.4912, source_val_label_loss: 1.6181, target_val_label_loss: 1.8723, \n",
      "=============================================================\n"
     ]
    },
    {
     "name": "stdout",
     "output_type": "stream",
     "text": [
      "epoch: 11, [batch: 1 / 2520], examples_per_second: 11.1716, train_label_loss: 0.3179, \n"
     ]
    },
    {
     "name": "stdout",
     "output_type": "stream",
     "text": [
      "epoch: 11, [batch: 252 / 2520], examples_per_second: 3162.9424, train_label_loss: 0.2460, \n"
     ]
    },
    {
     "name": "stdout",
     "output_type": "stream",
     "text": [
      "epoch: 11, [batch: 504 / 2520], examples_per_second: 3160.6626, train_label_loss: 0.0619, \n"
     ]
    },
    {
     "name": "stdout",
     "output_type": "stream",
     "text": [
      "epoch: 11, [batch: 756 / 2520], examples_per_second: 3176.2662, train_label_loss: 0.1154, \n"
     ]
    },
    {
     "name": "stdout",
     "output_type": "stream",
     "text": [
      "epoch: 11, [batch: 1008 / 2520], examples_per_second: 3170.1749, train_label_loss: 0.0404, \n"
     ]
    },
    {
     "name": "stdout",
     "output_type": "stream",
     "text": [
      "epoch: 11, [batch: 1260 / 2520], examples_per_second: 3173.5585, train_label_loss: 0.0308, \n"
     ]
    },
    {
     "name": "stdout",
     "output_type": "stream",
     "text": [
      "epoch: 11, [batch: 1512 / 2520], examples_per_second: 3170.8863, train_label_loss: 0.2599, \n"
     ]
    },
    {
     "name": "stdout",
     "output_type": "stream",
     "text": [
      "epoch: 11, [batch: 1764 / 2520], examples_per_second: 3155.7698, train_label_loss: 0.1921, \n"
     ]
    },
    {
     "name": "stdout",
     "output_type": "stream",
     "text": [
      "epoch: 11, [batch: 2016 / 2520], examples_per_second: 3165.5481, train_label_loss: 0.1786, \n"
     ]
    },
    {
     "name": "stdout",
     "output_type": "stream",
     "text": [
      "epoch: 11, [batch: 2268 / 2520], examples_per_second: 3161.6908, train_label_loss: 0.1194, \n"
     ]
    },
    {
     "name": "stdout",
     "output_type": "stream",
     "text": [
      "=============================================================\n",
      "epoch: 11, source_val_acc_label: 0.5798, target_val_acc_label: 0.4841, source_val_label_loss: 1.6865, target_val_label_loss: 1.9736, \n",
      "=============================================================\n"
     ]
    },
    {
     "name": "stdout",
     "output_type": "stream",
     "text": [
      "Patience (3) exhausted\n"
     ]
    }
   ],
   "source": [
    "###################################\n",
    "# train\n",
    "###################################\n",
    "jig = PTN_Train_Eval_Test_Jig(model, p.BEST_MODEL_PATH, p.device)\n",
    "\n",
    "jig.train(\n",
    "    train_iterable=datasets.source.processed.train,\n",
    "    source_val_iterable=datasets.source.processed.val,\n",
    "    target_val_iterable=datasets.target.processed.val,\n",
    "    num_epochs=p.n_epoch,\n",
    "    num_logs_per_epoch=p.NUM_LOGS_PER_EPOCH,\n",
    "    patience=p.patience,\n",
    "    optimizer=optimizer,\n",
    "    criteria_for_best=p.criteria_for_best,\n",
    ")"
   ]
  },
  {
   "cell_type": "code",
   "execution_count": 14,
   "id": "31e8fabf",
   "metadata": {
    "execution": {
     "iopub.execute_input": "2022-04-01T23:14:10.462318Z",
     "iopub.status.busy": "2022-04-01T23:14:10.462067Z",
     "iopub.status.idle": "2022-04-01T23:14:10.479733Z",
     "shell.execute_reply": "2022-04-01T23:14:10.479364Z"
    },
    "papermill": {
     "duration": 0.053476,
     "end_time": "2022-04-01T23:14:10.479825",
     "exception": false,
     "start_time": "2022-04-01T23:14:10.426349",
     "status": "completed"
    },
    "tags": []
   },
   "outputs": [],
   "source": [
    "total_experiment_time_secs = time.time() - start_time_secs"
   ]
  },
  {
   "cell_type": "code",
   "execution_count": 15,
   "id": "87b9595b",
   "metadata": {
    "execution": {
     "iopub.execute_input": "2022-04-01T23:14:10.554329Z",
     "iopub.status.busy": "2022-04-01T23:14:10.554038Z",
     "iopub.status.idle": "2022-04-01T23:14:59.212277Z",
     "shell.execute_reply": "2022-04-01T23:14:59.212681Z"
    },
    "papermill": {
     "duration": 48.697162,
     "end_time": "2022-04-01T23:14:59.212815",
     "exception": false,
     "start_time": "2022-04-01T23:14:10.515653",
     "status": "completed"
    },
    "tags": []
   },
   "outputs": [],
   "source": [
    "###################################\n",
    "# Evaluate the model\n",
    "###################################\n",
    "source_test_label_accuracy, source_test_label_loss = jig.test(datasets.source.processed.test)\n",
    "target_test_label_accuracy, target_test_label_loss = jig.test(datasets.target.processed.test)\n",
    "\n",
    "source_val_label_accuracy, source_val_label_loss = jig.test(datasets.source.processed.val)\n",
    "target_val_label_accuracy, target_val_label_loss = jig.test(datasets.target.processed.val)\n",
    "\n",
    "history = jig.get_history()\n",
    "\n",
    "total_epochs_trained = len(history[\"epoch_indices\"])\n",
    "\n",
    "val_dl = Iterable_Aggregator((datasets.source.original.val,datasets.target.original.val))\n",
    "\n",
    "confusion = ptn_confusion_by_domain_over_dataloader(model, p.device, val_dl)\n",
    "per_domain_accuracy = per_domain_accuracy_from_confusion(confusion)\n",
    "\n",
    "# Add a key to per_domain_accuracy for if it was a source domain\n",
    "for domain, accuracy in per_domain_accuracy.items():\n",
    "    per_domain_accuracy[domain] = {\n",
    "        \"accuracy\": accuracy,\n",
    "        \"source?\": domain in p.domains_source\n",
    "    }\n",
    "\n",
    "# Do an independent accuracy assesment JUST TO BE SURE!\n",
    "# _source_test_label_accuracy = independent_accuracy_assesment(model, datasets.source.processed.test, p.device)\n",
    "# _target_test_label_accuracy = independent_accuracy_assesment(model, datasets.target.processed.test, p.device)\n",
    "# _source_val_label_accuracy = independent_accuracy_assesment(model, datasets.source.processed.val, p.device)\n",
    "# _target_val_label_accuracy = independent_accuracy_assesment(model, datasets.target.processed.val, p.device)\n",
    "\n",
    "# assert(_source_test_label_accuracy == source_test_label_accuracy)\n",
    "# assert(_target_test_label_accuracy == target_test_label_accuracy)\n",
    "# assert(_source_val_label_accuracy == source_val_label_accuracy)\n",
    "# assert(_target_val_label_accuracy == target_val_label_accuracy)\n",
    "\n",
    "experiment = {\n",
    "    \"experiment_name\": p.experiment_name,\n",
    "    \"parameters\": dict(p),\n",
    "    \"results\": {\n",
    "        \"source_test_label_accuracy\": source_test_label_accuracy,\n",
    "        \"source_test_label_loss\": source_test_label_loss,\n",
    "        \"target_test_label_accuracy\": target_test_label_accuracy,\n",
    "        \"target_test_label_loss\": target_test_label_loss,\n",
    "        \"source_val_label_accuracy\": source_val_label_accuracy,\n",
    "        \"source_val_label_loss\": source_val_label_loss,\n",
    "        \"target_val_label_accuracy\": target_val_label_accuracy,\n",
    "        \"target_val_label_loss\": target_val_label_loss,\n",
    "        \"total_epochs_trained\": total_epochs_trained,\n",
    "        \"total_experiment_time_secs\": total_experiment_time_secs,\n",
    "        \"confusion\": confusion,\n",
    "        \"per_domain_accuracy\": per_domain_accuracy,\n",
    "    },\n",
    "    \"history\": history,\n",
    "    \"dataset_metrics\": get_dataset_metrics(datasets, \"ptn\"),\n",
    "}"
   ]
  },
  {
   "cell_type": "code",
   "execution_count": 16,
   "id": "54a21829",
   "metadata": {
    "execution": {
     "iopub.execute_input": "2022-04-01T23:14:59.284268Z",
     "iopub.status.busy": "2022-04-01T23:14:59.284010Z",
     "iopub.status.idle": "2022-04-01T23:14:59.422767Z",
     "shell.execute_reply": "2022-04-01T23:14:59.423172Z"
    },
    "papermill": {
     "duration": 0.174602,
     "end_time": "2022-04-01T23:14:59.423285",
     "exception": false,
     "start_time": "2022-04-01T23:14:59.248683",
     "status": "completed"
    },
    "tags": []
   },
   "outputs": [
    {
     "data": {
      "image/png": "[encoded data removed]",
      "text/plain": [
       "<Figure size 1080x504 with 1 Axes>"
      ]
     },
     "metadata": {
      "needs_background": "light"
     },
     "output_type": "display_data"
    }
   ],
   "source": [
    "ax = get_loss_curve(experiment)\n",
    "plt.show()"
   ]
  },
  {
   "cell_type": "code",
   "execution_count": 17,
   "id": "fd8a0f60",
   "metadata": {
    "execution": {
     "iopub.execute_input": "2022-04-01T23:14:59.499141Z",
     "iopub.status.busy": "2022-04-01T23:14:59.498890Z",
     "iopub.status.idle": "2022-04-01T23:14:59.639077Z",
     "shell.execute_reply": "2022-04-01T23:14:59.638820Z"
    },
    "papermill": {
     "duration": 0.175973,
     "end_time": "2022-04-01T23:14:59.639129",
     "exception": false,
     "start_time": "2022-04-01T23:14:59.463156",
     "status": "completed"
    },
    "tags": []
   },
   "outputs": [
    {
     "data": {
      "text/plain": [
       "<AxesSubplot:title={'center':'Results'}>"
      ]
     },
     "execution_count": 17,
     "metadata": {},
     "output_type": "execute_result"
    },
    {
     "data": {
      "image/png": "[encoded data removed]",
      "text/plain": [
       "<Figure size 1080x504 with 1 Axes>"
      ]
     },
     "metadata": {
      "needs_background": "light"
     },
     "output_type": "display_data"
    }
   ],
   "source": [
    "get_results_table(experiment)"
   ]
  },
  {
   "cell_type": "code",
   "execution_count": 18,
   "id": "cf8dc689",
   "metadata": {
    "execution": {
     "iopub.execute_input": "2022-04-01T23:14:59.713501Z",
     "iopub.status.busy": "2022-04-01T23:14:59.713251Z",
     "iopub.status.idle": "2022-04-01T23:14:59.832587Z",
     "shell.execute_reply": "2022-04-01T23:14:59.832105Z"
    },
    "papermill": {
     "duration": 0.157323,
     "end_time": "2022-04-01T23:14:59.832682",
     "exception": false,
     "start_time": "2022-04-01T23:14:59.675359",
     "status": "completed"
    },
    "tags": []
   },
   "outputs": [
    {
     "data": {
      "text/plain": [
       "<AxesSubplot:title={'center':'Per Domain Validation Accuracy'}, xlabel='domain'>"
      ]
     },
     "execution_count": 18,
     "metadata": {},
     "output_type": "execute_result"
    },
    {
     "data": {
      "image/png": "[encoded data removed]",
      "text/plain": [
       "<Figure size 1080x504 with 1 Axes>"
      ]
     },
     "metadata": {
      "needs_background": "light"
     },
     "output_type": "display_data"
    }
   ],
   "source": [
    "get_domain_accuracies(experiment)"
   ]
  },
  {
   "cell_type": "code",
   "execution_count": 19,
   "id": "a74ae082",
   "metadata": {
    "execution": {
     "iopub.execute_input": "2022-04-01T23:14:59.912120Z",
     "iopub.status.busy": "2022-04-01T23:14:59.911868Z",
     "iopub.status.idle": "2022-04-01T23:14:59.924258Z",
     "shell.execute_reply": "2022-04-01T23:14:59.923858Z"
    },
    "papermill": {
     "duration": 0.050286,
     "end_time": "2022-04-01T23:14:59.924338",
     "exception": false,
     "start_time": "2022-04-01T23:14:59.874052",
     "status": "completed"
    },
    "tags": []
   },
   "outputs": [
    {
     "name": "stdout",
     "output_type": "stream",
     "text": [
      "Source Test Label Accuracy: 0.5821180555555555 Target Test Label Accuracy: 0.501875\n",
      "Source Val Label Accuracy: 0.5879340277777778 Target Val Label Accuracy: 0.50015625\n"
     ]
    }
   ],
   "source": [
    "print(\"Source Test Label Accuracy:\", experiment[\"results\"][\"source_test_label_accuracy\"], \"Target Test Label Accuracy:\", experiment[\"results\"][\"target_test_label_accuracy\"])\n",
    "print(\"Source Val Label Accuracy:\", experiment[\"results\"][\"source_val_label_accuracy\"], \"Target Val Label Accuracy:\", experiment[\"results\"][\"target_val_label_accuracy\"])"
   ]
  },
  {
   "cell_type": "code",
   "execution_count": 20,
   "id": "dacca602",
   "metadata": {
    "execution": {
     "iopub.execute_input": "2022-04-01T23:15:00.001204Z",
     "iopub.status.busy": "2022-04-01T23:15:00.000958Z",
     "iopub.status.idle": "2022-04-01T23:15:00.016031Z",
     "shell.execute_reply": "2022-04-01T23:15:00.015630Z"
    },
    "papermill": {
     "duration": 0.052878,
     "end_time": "2022-04-01T23:15:00.016126",
     "exception": false,
     "start_time": "2022-04-01T23:14:59.963248",
     "status": "completed"
    },
    "tags": [
     "experiment_json"
    ]
   },
   "outputs": [
    {
     "data": {
      "text/plain": [
       "'{\"experiment_name\": \"tuned_1v2:oracle.run1_limited\", \"parameters\": {\"experiment_name\": \"tuned_1v2:oracle.run1_limited\", \"device\": \"cuda\", \"lr\": 0.0001, \"labels_source\": [\"3123D52\", \"3123D65\", \"3123D79\", \"3123D80\", \"3123D54\", \"3123D70\", \"3123D7B\", \"3123D89\", \"3123D58\", \"3123D76\", \"3123D7D\", \"3123EFE\", \"3123D64\", \"3123D78\", \"3123D7E\", \"3124E4A\"], \"labels_target\": [\"3123D52\", \"3123D65\", \"3123D79\", \"3123D80\", \"3123D54\", \"3123D70\", \"3123D7B\", \"3123D89\", \"3123D58\", \"3123D76\", \"3123D7D\", \"3123EFE\", \"3123D64\", \"3123D78\", \"3123D7E\", \"3124E4A\"], \"episode_transforms_source\": [], \"episode_transforms_target\": [], \"domains_source\": [8, 32, 50], \"domains_target\": [14, 20, 26, 38, 44], \"num_examples_per_domain_per_label_source\": 2000, \"num_examples_per_domain_per_label_target\": 2000, \"n_shot\": 3, \"n_way\": 16, \"n_query\": 2, \"train_k_factor\": 3, \"val_k_factor\": 2, \"test_k_factor\": 2, \"torch_default_dtype\": \"torch.float32\", \"n_epoch\": 50, \"patience\": 3, \"criteria_for_best\": \"target_accuracy\", \"x_net\": [{\"class\": \"nnReshape\", \"kargs\": {\"shape\": [-1, 1, 2, 256]}}, {\"class\": \"Conv2d\", \"kargs\": {\"in_channels\": 1, \"out_channels\": 256, \"kernel_size\": [1, 7], \"bias\": false, \"padding\": [0, 3]}}, {\"class\": \"ReLU\", \"kargs\": {\"inplace\": true}}, {\"class\": \"BatchNorm2d\", \"kargs\": {\"num_features\": 256}}, {\"class\": \"Conv2d\", \"kargs\": {\"in_channels\": 256, \"out_channels\": 80, \"kernel_size\": [2, 7], \"bias\": true, \"padding\": [0, 3]}}, {\"class\": \"ReLU\", \"kargs\": {\"inplace\": true}}, {\"class\": \"BatchNorm2d\", \"kargs\": {\"num_features\": 80}}, {\"class\": \"Flatten\", \"kargs\": {}}, {\"class\": \"Linear\", \"kargs\": {\"in_features\": 20480, \"out_features\": 256}}, {\"class\": \"ReLU\", \"kargs\": {\"inplace\": true}}, {\"class\": \"BatchNorm1d\", \"kargs\": {\"num_features\": 256}}, {\"class\": \"Linear\", \"kargs\": {\"in_features\": 256, \"out_features\": 256}}], \"NUM_LOGS_PER_EPOCH\": 10, \"BEST_MODEL_PATH\": \"./best_model.pth\", \"pickle_name\": \"oracle.Run1_10kExamples_stratified_ds.2022A.pkl\", \"x_transforms_source\": [\"unit_power\"], \"x_transforms_target\": [\"unit_power\"], \"dataset_seed\": 7, \"seed\": 7}, \"results\": {\"source_test_label_accuracy\": 0.5821180555555555, \"source_test_label_loss\": 1.3584063053131104, \"target_test_label_accuracy\": 0.501875, \"target_test_label_loss\": 1.5777767896652222, \"source_val_label_accuracy\": 0.5879340277777778, \"source_val_label_loss\": 1.3616538047790527, \"target_val_label_accuracy\": 0.50015625, \"target_val_label_loss\": 1.5994932651519775, \"total_epochs_trained\": 11, \"total_experiment_time_secs\": 807.8673424720764, \"confusion\": {\"50\": {\"0\": {\"2\": 46, \"0\": 162, \"10\": 27, \"6\": 1, \"7\": 2, \"13\": 2}, \"4\": {\"4\": 75, \"5\": 19, \"1\": 57, \"6\": 46, \"15\": 27, \"13\": 12, \"7\": 2, \"0\": 1, \"2\": 1}, \"14\": {\"14\": 215, \"11\": 13, \"12\": 7, \"9\": 3, \"1\": 2}, \"12\": {\"12\": 195, \"9\": 33, \"14\": 10, \"11\": 2}, \"8\": {\"8\": 229, \"3\": 8, \"10\": 3}, \"7\": {\"7\": 126, \"13\": 54, \"5\": 28, \"10\": 27, \"0\": 4, \"4\": 1}, \"13\": {\"13\": 101, \"7\": 36, \"5\": 64, \"6\": 15, \"4\": 2, \"2\": 3, \"10\": 4, \"0\": 15}, \"5\": {\"13\": 67, \"5\": 60, \"6\": 36, \"7\": 40, \"4\": 23, \"0\": 1, \"10\": 6, \"1\": 5, \"2\": 1, \"15\": 1}, \"15\": {\"1\": 44, \"11\": 21, \"15\": 141, \"4\": 29, \"6\": 1, \"14\": 4}, \"10\": {\"10\": 175, \"0\": 29, \"8\": 9, \"13\": 5, \"7\": 20, \"5\": 2}, \"3\": {\"3\": 227, \"8\": 13}, \"9\": {\"9\": 146, \"12\": 52, \"11\": 42}, \"6\": {\"13\": 10, \"5\": 26, \"6\": 110, \"1\": 33, \"4\": 51, \"15\": 3, \"7\": 1, \"2\": 5, \"0\": 1}, \"1\": {\"1\": 97, \"4\": 40, \"15\": 51, \"6\": 47, \"13\": 1, \"14\": 2, \"5\": 2}, \"11\": {\"12\": 7, \"9\": 23, \"11\": 188, \"14\": 8, \"15\": 14}, \"2\": {\"2\": 207, \"0\": 27, \"1\": 2, \"5\": 1, \"6\": 3}}, \"8\": {\"1\": {\"5\": 15, \"1\": 93, \"11\": 79, \"10\": 21, \"14\": 19, \"13\": 7, \"4\": 5, \"0\": 1}, \"11\": {\"1\": 84, \"6\": 4, \"14\": 19, \"11\": 80, \"5\": 27, \"10\": 8, \"8\": 4, \"4\": 13, \"13\": 1}, \"3\": {\"3\": 130, \"2\": 59, \"12\": 43, \"15\": 8}, \"6\": {\"0\": 43, \"13\": 9, \"6\": 87, \"7\": 52, \"4\": 22, \"8\": 20, \"11\": 2, \"10\": 2, \"1\": 1, \"14\": 2}, \"7\": {\"7\": 141, \"15\": 7, \"0\": 22, \"6\": 45, \"2\": 4, \"4\": 7, \"8\": 14}, \"5\": {\"5\": 187, \"11\": 8, \"10\": 26, \"14\": 4, \"1\": 14, \"13\": 1}, \"2\": {\"2\": 139, \"3\": 43, \"15\": 26, \"7\": 6, \"12\": 21, \"8\": 3, \"6\": 2}, \"15\": {\"3\": 9, \"15\": 124, \"12\": 55, \"2\": 22, \"8\": 25, \"7\": 5}, \"10\": {\"10\": 89, \"11\": 12, \"13\": 23, \"14\": 54, \"4\": 16, \"5\": 17, \"1\": 23, \"0\": 6}, \"13\": {\"13\": 65, \"4\": 42, \"0\": 47, \"11\": 3, \"14\": 18, \"1\": 2, \"10\": 27, \"7\": 13, \"6\": 22, \"5\": 1}, \"8\": {\"15\": 30, \"8\": 173, \"7\": 7, \"6\": 15, \"4\": 5, \"12\": 7, \"2\": 1, \"0\": 2}, \"4\": {\"10\": 10, \"4\": 60, \"14\": 35, \"0\": 48, \"13\": 47, \"6\": 28, \"1\": 5, \"11\": 4, \"7\": 2, \"8\": 1}, \"9\": {\"9\": 240}, \"14\": {\"10\": 39, \"14\": 65, \"1\": 32, \"0\": 12, \"6\": 7, \"13\": 43, \"4\": 25, \"11\": 13, \"5\": 2, \"8\": 1, \"7\": 1}, \"0\": {\"4\": 36, \"0\": 74, \"7\": 22, \"13\": 49, \"6\": 42, \"14\": 10, \"10\": 4, \"11\": 1, \"1\": 1, \"15\": 1}, \"12\": {\"15\": 55, \"12\": 91, \"3\": 55, \"8\": 15, \"2\": 22, \"7\": 1, \"6\": 1}}, \"32\": {\"15\": {\"15\": 229, \"8\": 6, \"3\": 5}, \"11\": {\"13\": 5, \"11\": 139, \"3\": 14, \"14\": 58, \"5\": 9, \"7\": 15}, \"10\": {\"10\": 224, \"1\": 6, \"6\": 10}, \"14\": {\"14\": 73, \"11\": 73, \"7\": 41, \"4\": 12, \"13\": 14, \"3\": 8, \"5\": 13, \"2\": 2, \"8\": 2, \"0\": 2}, \"6\": {\"6\": 240}, \"4\": {\"2\": 53, \"4\": 76, \"5\": 18, \"14\": 3, \"7\": 33, \"8\": 8, \"0\": 41, \"13\": 8}, \"13\": {\"3\": 23, \"0\": 18, \"8\": 21, \"5\": 49, \"11\": 22, \"13\": 42, \"7\": 25, \"14\": 23, \"2\": 2, \"4\": 15}, \"3\": {\"3\": 194, \"13\": 10, \"14\": 8, \"7\": 1, \"8\": 6, \"11\": 12, \"5\": 8, \"15\": 1}, \"7\": {\"8\": 7, \"13\": 20, \"5\": 24, \"4\": 42, \"14\": 35, \"7\": 80, \"11\": 13, \"0\": 12, \"2\": 7}, \"8\": {\"8\": 139, \"5\": 26, \"13\": 39, \"0\": 19, \"14\": 3, \"3\": 7, \"4\": 3, \"15\": 1, \"7\": 3}, \"1\": {\"1\": 235, \"10\": 5}, \"5\": {\"2\": 7, \"4\": 21, \"7\": 29, \"5\": 51, \"8\": 24, \"0\": 23, \"13\": 41, \"3\": 14, \"14\": 18, \"11\": 12}, \"0\": {\"4\": 50, \"8\": 15, \"0\": 105, \"2\": 26, \"5\": 16, \"7\": 14, \"13\": 12, \"14\": 2}, \"2\": {\"4\": 38, \"0\": 21, \"2\": 177, \"7\": 4}, \"12\": {\"12\": 238, \"9\": 2}, \"9\": {\"9\": 239, \"12\": 1}}, \"26\": {\"0\": {\"10\": 35, \"1\": 31, \"15\": 11, \"8\": 28, \"4\": 21, \"0\": 40, \"7\": 9, \"14\": 30, \"6\": 15, \"9\": 12, \"5\": 2, \"2\": 5, \"3\": 1}, \"4\": {\"3\": 3, \"14\": 47, \"2\": 3, \"0\": 30, \"15\": 4, \"1\": 40, \"7\": 27, \"8\": 24, \"4\": 43, \"6\": 3, \"10\": 13, \"9\": 1, \"5\": 2}, \"14\": {\"14\": 46, \"10\": 30, \"8\": 15, \"4\": 37, \"1\": 53, \"15\": 3, \"0\": 35, \"7\": 10, \"6\": 2, \"2\": 3, \"9\": 5, \"3\": 1}, \"12\": {\"12\": 221, \"11\": 19}, \"8\": {\"10\": 31, \"8\": 42, \"1\": 2, \"4\": 14, \"14\": 11, \"15\": 29, \"6\": 20, \"0\": 22, \"7\": 18, \"5\": 12, \"3\": 4, \"2\": 11, \"9\": 20, \"13\": 4}, \"7\": {\"3\": 57, \"7\": 76, \"2\": 46, \"8\": 13, \"15\": 8, \"0\": 4, \"5\": 6, \"1\": 10, \"14\": 9, \"4\": 8, \"10\": 2, \"9\": 1}, \"13\": {\"5\": 45, \"7\": 3, \"13\": 94, \"10\": 2, \"6\": 30, \"9\": 23, \"15\": 32, \"8\": 5, \"2\": 6}, \"5\": {\"5\": 70, \"6\": 13, \"15\": 38, \"7\": 11, \"8\": 14, \"2\": 16, \"9\": 31, \"10\": 6, \"13\": 35, \"0\": 3, \"14\": 1, \"1\": 1, \"4\": 1}, \"15\": {\"5\": 56, \"9\": 34, \"8\": 13, \"2\": 18, \"10\": 11, \"13\": 28, \"15\": 37, \"7\": 11, \"6\": 18, \"3\": 1, \"4\": 3, \"14\": 3, \"0\": 6, \"1\": 1}, \"10\": {\"0\": 33, \"10\": 63, \"8\": 24, \"4\": 11, \"15\": 14, \"1\": 15, \"5\": 2, \"7\": 5, \"14\": 19, \"6\": 34, \"13\": 1, \"9\": 17, \"2\": 2}, \"3\": {\"2\": 59, \"3\": 114, \"7\": 50, \"5\": 5, \"1\": 4, \"8\": 2, \"4\": 2, \"14\": 2, \"15\": 2}, \"9\": {\"6\": 32, \"4\": 3, \"10\": 15, \"13\": 26, \"7\": 4, \"9\": 49, \"2\": 5, \"0\": 8, \"8\": 25, \"5\": 29, \"15\": 41, \"14\": 3}, \"6\": {\"10\": 35, \"5\": 8, \"6\": 107, \"0\": 9, \"13\": 19, \"14\": 1, \"9\": 26, \"15\": 17, \"8\": 15, \"4\": 3}, \"1\": {\"14\": 55, \"1\": 79, \"2\": 4, \"0\": 25, \"4\": 43, \"7\": 12, \"8\": 8, \"10\": 12, \"3\": 1, \"6\": 1}, \"11\": {\"11\": 221, \"12\": 19}, \"2\": {\"3\": 63, \"2\": 79, \"15\": 10, \"5\": 17, \"4\": 4, \"7\": 35, \"8\": 13, \"10\": 2, \"0\": 1, \"9\": 7, \"14\": 3, \"13\": 5, \"1\": 1}}, \"44\": {\"1\": {\"1\": 104, \"2\": 19, \"3\": 43, \"12\": 54, \"10\": 19, \"9\": 1}, \"11\": {\"11\": 181, \"6\": 24, \"13\": 33, \"9\": 1, \"4\": 1}, \"3\": {\"3\": 205, \"1\": 29, \"12\": 3, \"2\": 2, \"7\": 1}, \"6\": {\"7\": 22, \"9\": 23, \"6\": 131, \"13\": 42, \"11\": 22}, \"7\": {\"9\": 50, \"7\": 122, \"2\": 39, \"3\": 7, \"6\": 14, \"1\": 6, \"13\": 2}, \"5\": {\"5\": 169, \"14\": 4, \"0\": 37, \"8\": 18, \"15\": 12}, \"2\": {\"1\": 23, \"2\": 138, \"7\": 33, \"9\": 6, \"10\": 20, \"3\": 16, \"6\": 2, \"12\": 2}, \"15\": {\"15\": 179, \"14\": 33, \"5\": 7, \"0\": 14, \"8\": 2, \"4\": 5}, \"10\": {\"12\": 42, \"10\": 149, \"3\": 1, \"1\": 25, \"2\": 22, \"7\": 1}, \"13\": {\"13\": 134, \"6\": 34, \"9\": 31, \"11\": 33, \"4\": 5, \"14\": 1, \"7\": 2}, \"8\": {\"15\": 14, \"0\": 85, \"8\": 133, \"5\": 8}, \"4\": {\"4\": 156, \"14\": 79, \"15\": 3, \"13\": 1, \"9\": 1}, \"9\": {\"9\": 108, \"13\": 34, \"7\": 65, \"6\": 25, \"2\": 6, \"4\": 1, \"1\": 1}, \"14\": {\"14\": 130, \"15\": 23, \"4\": 79, \"5\": 8}, \"0\": {\"8\": 52, \"0\": 131, \"15\": 26, \"5\": 31}, \"12\": {\"12\": 122, \"10\": 42, \"1\": 63, \"3\": 10, \"2\": 3}}, \"20\": {\"15\": {\"13\": 18, \"1\": 43, \"0\": 51, \"12\": 15, \"15\": 81, \"5\": 27, \"9\": 3, \"2\": 1, \"3\": 1}, \"4\": {\"4\": 99, \"5\": 4, \"10\": 21, \"9\": 17, \"8\": 39, \"7\": 9, \"3\": 30, \"14\": 1, \"12\": 13, \"0\": 3, \"2\": 3, \"1\": 1}, \"6\": {\"6\": 137, \"14\": 52, \"10\": 19, \"11\": 16, \"7\": 9, \"8\": 5, \"4\": 2}, \"2\": {\"3\": 24, \"2\": 52, \"9\": 36, \"7\": 35, \"13\": 40, \"12\": 15, \"10\": 1, \"5\": 4, \"8\": 10, \"4\": 10, \"1\": 5, \"0\": 3, \"15\": 2, \"6\": 2, \"11\": 1}, \"5\": {\"0\": 48, \"5\": 53, \"9\": 9, \"1\": 42, \"15\": 34, \"12\": 28, \"13\": 8, \"3\": 15, \"4\": 3}, \"9\": {\"3\": 32, \"4\": 17, \"7\": 29, \"12\": 23, \"5\": 8, \"2\": 36, \"8\": 21, \"9\": 32, \"13\": 22, \"11\": 1, \"1\": 8, \"0\": 5, \"15\": 2, \"10\": 2, \"6\": 1, \"14\": 1}, \"8\": {\"10\": 40, \"14\": 17, \"4\": 37, \"8\": 67, \"7\": 33, \"3\": 16, \"2\": 14, \"6\": 6, \"9\": 5, \"12\": 3, \"13\": 2}, \"12\": {\"5\": 44, \"12\": 37, \"13\": 20, \"3\": 23, \"0\": 17, \"15\": 21, \"2\": 16, \"7\": 5, \"9\": 16, \"4\": 21, \"1\": 18, \"8\": 2}, \"10\": {\"10\": 121, \"4\": 15, \"9\": 2, \"14\": 46, \"8\": 31, \"7\": 11, \"3\": 2, \"6\": 11, \"2\": 1}, \"1\": {\"13\": 9, \"0\": 35, \"15\": 47, \"12\": 31, \"5\": 46, \"1\": 46, \"3\": 9, \"4\": 4, \"9\": 9, \"2\": 4}, \"0\": {\"15\": 49, \"0\": 50, \"1\": 47, \"12\": 21, \"5\": 42, \"2\": 6, \"3\": 7, \"13\": 6, \"9\": 8, \"7\": 2, \"4\": 2}, \"3\": {\"7\": 18, \"2\": 28, \"12\": 25, \"4\": 29, \"9\": 34, \"1\": 3, \"8\": 19, \"3\": 46, \"13\": 12, \"0\": 7, \"5\": 14, \"10\": 3, \"15\": 2}, \"13\": {\"13\": 126, \"15\": 11, \"2\": 38, \"12\": 14, \"7\": 10, \"9\": 22, \"5\": 3, \"3\": 6, \"1\": 4, \"6\": 1, \"0\": 5}, \"11\": {\"11\": 221, \"13\": 2, \"6\": 13, \"7\": 2, \"14\": 2}, \"7\": {\"2\": 42, \"7\": 73, \"8\": 34, \"11\": 6, \"10\": 5, \"6\": 11, \"9\": 26, \"3\": 14, \"14\": 10, \"4\": 8, \"13\": 9, \"12\": 2}, \"14\": {\"14\": 101, \"10\": 51, \"6\": 72, \"11\": 1, \"8\": 10, \"7\": 3, \"4\": 2}}, \"38\": {\"15\": {\"15\": 106, \"1\": 35, \"13\": 73, \"10\": 8, \"8\": 14, \"5\": 3, \"6\": 1}, \"11\": {\"14\": 81, \"11\": 144, \"2\": 8, \"12\": 7}, \"10\": {\"10\": 116, \"12\": 46, \"15\": 15, \"2\": 1, \"8\": 10, \"13\": 25, \"0\": 13, \"5\": 2, \"11\": 3, \"14\": 8, \"7\": 1}, \"14\": {\"11\": 62, \"2\": 25, \"14\": 141, \"13\": 2, \"10\": 10}, \"6\": {\"6\": 156, \"9\": 63, \"5\": 15, \"0\": 1, \"3\": 4, \"7\": 1}, \"4\": {\"4\": 219, \"12\": 21}, \"13\": {\"13\": 133, \"10\": 17, \"15\": 63, \"1\": 10, \"2\": 14, \"8\": 2, \"5\": 1}, \"3\": {\"3\": 189, \"7\": 8, \"9\": 33, \"5\": 6, \"6\": 2, \"0\": 2}, \"7\": {\"7\": 157, \"0\": 63, \"4\": 4, \"8\": 3, \"5\": 9, \"3\": 2, \"6\": 2}, \"8\": {\"0\": 39, \"10\": 10, \"5\": 66, \"8\": 94, \"15\": 14, \"6\": 4, \"13\": 6, \"1\": 2, \"7\": 5}, \"1\": {\"1\": 190, \"15\": 42, \"6\": 1, \"5\": 5, \"0\": 1, \"13\": 1}, \"5\": {\"0\": 45, \"5\": 64, \"10\": 3, \"8\": 51, \"7\": 15, \"6\": 33, \"1\": 8, \"13\": 1, \"15\": 9, \"9\": 10, \"3\": 1}, \"0\": {\"0\": 69, \"3\": 13, \"7\": 61, \"8\": 50, \"5\": 32, \"13\": 2, \"9\": 2, \"6\": 3, \"15\": 3, \"10\": 4, \"1\": 1}, \"2\": {\"2\": 204, \"14\": 24, \"15\": 1, \"13\": 9, \"11\": 2}, \"12\": {\"12\": 188, \"10\": 35, \"4\": 17}, \"9\": {\"9\": 131, \"3\": 31, \"6\": 72, \"5\": 6}}, \"14\": {\"0\": {\"10\": 79, \"8\": 11, \"0\": 132, \"11\": 9, \"14\": 2, \"3\": 7}, \"12\": {\"12\": 239, \"9\": 1}, \"1\": {\"5\": 72, \"1\": 131, \"4\": 26, \"2\": 5, \"7\": 6}, \"4\": {\"4\": 86, \"1\": 26, \"14\": 17, \"13\": 6, \"5\": 33, \"2\": 28, \"3\": 43, \"8\": 1}, \"5\": {\"4\": 37, \"5\": 91, \"1\": 69, \"7\": 8, \"13\": 5, \"2\": 25, \"6\": 2, \"14\": 2, \"3\": 1}, \"3\": {\"3\": 139, \"4\": 50, \"10\": 4, \"13\": 5, \"2\": 5, \"1\": 4, \"14\": 19, \"0\": 7, \"5\": 3, \"8\": 2, \"6\": 2}, \"7\": {\"15\": 36, \"7\": 187, \"5\": 7, \"1\": 9, \"2\": 1}, \"15\": {\"15\": 184, \"7\": 53, \"6\": 1, \"2\": 1, \"5\": 1}, \"13\": {\"6\": 66, \"2\": 25, \"4\": 5, \"13\": 73, \"5\": 8, \"14\": 55, \"3\": 6, \"10\": 2}, \"10\": {\"10\": 147, \"0\": 70, \"3\": 7, \"14\": 1, \"11\": 13, \"4\": 1, \"8\": 1}, \"14\": {\"14\": 111, \"13\": 40, \"3\": 28, \"2\": 18, \"10\": 2, \"4\": 9, \"6\": 31, \"5\": 1}, \"6\": {\"6\": 92, \"13\": 71, \"14\": 33, \"2\": 36, \"3\": 1, \"4\": 5, \"5\": 2}, \"9\": {\"9\": 215, \"12\": 6, \"11\": 18, \"0\": 1}, \"2\": {\"2\": 65, \"4\": 33, \"5\": 26, \"14\": 27, \"13\": 25, \"6\": 32, \"3\": 13, \"7\": 2, \"15\": 7, \"1\": 10}, \"8\": {\"8\": 229, \"0\": 7, \"3\": 2, \"4\": 1, \"1\": 1}, \"11\": {\"11\": 166, \"0\": 24, \"9\": 35, \"10\": 15}}}, \"per_domain_accuracy\": {\"50\": {\"accuracy\": 0.6390625, \"source?\": true}, \"8\": {\"accuracy\": 0.4786458333333333, \"source?\": true}, \"32\": {\"accuracy\": 0.64609375, \"source?\": true}, \"26\": {\"accuracy\": 0.35963541666666665, \"source?\": false}, \"44\": {\"accuracy\": 0.596875, \"source?\": false}, \"20\": {\"accuracy\": 0.3494791666666667, \"source?\": false}, \"38\": {\"accuracy\": 0.59921875, \"source?\": false}, \"14\": {\"accuracy\": 0.5955729166666667, \"source?\": false}}}, \"history\": {\"epoch_indices\": [1, 2, 3, 4, 5, 6, 7, 8, 9, 10, 11], \"train_label_loss\": [1.8450771484110091, 1.3984081763123708, 1.2116519026103474, 0.9024976326950959, 0.7190746552946549, 0.5719256008812595, 0.458621287533629, 0.37103865279165643, 0.30936623859987966, 0.2657151733606403, 0.23362554559310425], \"source_val_label_loss\": [1.5472491979599, 1.4509028196334839, 1.236264705657959, 1.1929080486297607, 1.209294319152832, 1.2835614681243896, 1.3616538047790527, 1.4927051067352295, 1.5732368230819702, 1.6180567741394043, 1.6864627599716187], \"target_val_label_loss\": [1.8883777856826782, 1.8046635389328003, 1.513182520866394, 1.4365708827972412, 1.4380772113800049, 1.5203135013580322, 1.5994932651519775, 1.730482816696167, 1.8104299306869507, 1.8722721338272095, 1.973633050918579], \"source_val_acc_label\": [0.3832465277777778, 0.4185763888888889, 0.5305555555555556, 0.5682291666666667, 0.5839409722222222, 0.5831597222222222, 0.5879340277777778, 0.5833333333333334, 0.5794270833333334, 0.5809027777777778, 0.5797743055555555], \"target_val_acc_label\": [0.2777604166666667, 0.29890625, 0.4345833333333333, 0.47260416666666666, 0.49578125, 0.49557291666666664, 0.50015625, 0.49572916666666667, 0.49552083333333335, 0.4911979166666667, 0.4840625]}, \"dataset_metrics\": {\"source\": {\"train\": {\"n_unique_x\": 67200, \"n_unique_y\": 16, \"n_batch/episode\": 2520}, \"val\": {\"n_unique_x\": 14400, \"n_unique_y\": 16, \"n_batch/episode\": 360}, \"test\": {\"n_unique_x\": 14400, \"n_unique_y\": 16, \"n_batch/episode\": 360}}, \"target\": {\"train\": {\"n_unique_x\": 112000, \"n_unique_y\": 16, \"n_batch/episode\": 4200}, \"val\": {\"n_unique_x\": 24000, \"n_unique_y\": 16, \"n_batch/episode\": 600}, \"test\": {\"n_unique_x\": 24000, \"n_unique_y\": 16, \"n_batch/episode\": 600}}}}'"
      ]
     },
     "execution_count": 20,
     "metadata": {},
     "output_type": "execute_result"
    }
   ],
   "source": [
    "json.dumps(experiment)"
   ]
  }
 ],
 "metadata": {
  "celltoolbar": "Tags",
  "kernelspec": {
   "display_name": "Python 3 (ipykernel)",
   "language": "python",
   "name": "python3"
  },
  "language_info": {
   "codemirror_mode": {
    "name": "ipython",
    "version": 3
   },
   "file_extension": ".py",
   "mimetype": "text/x-python",
   "name": "python",
   "nbconvert_exporter": "python",
   "pygments_lexer": "ipython3",
   "version": "3.8.10"
  },
  "papermill": {
   "default_parameters": {},
   "duration": 860.245238,
   "end_time": "2022-04-01T23:15:00.963888",
   "environment_variables": {},
   "exception": null,
   "input_path": "/mnt/wd500GB/CSC500/csc500-main/csc500-notebooks/templates/ptn_template.ipynb",
   "output_path": "trial.ipynb",
   "parameters": {
    "parameters": {
     "BEST_MODEL_PATH": "./best_model.pth",
     "NUM_LOGS_PER_EPOCH": 10,
     "criteria_for_best": "target_accuracy",
     "dataset_seed": 7,
     "device": "cuda",
     "domains_source": [
      8,
      32,
      50
     ],
     "domains_target": [
      14,
      20,
      26,
      38,
      44
     ],
     "episode_transforms_source": [],
     "episode_transforms_target": [],
     "experiment_name": "tuned_1v2:oracle.run1_limited",
     "labels_source": [
      "3123D52",
      "3123D65",
      "3123D79",
      "3123D80",
      "3123D54",
      "3123D70",
      "3123D7B",
      "3123D89",
      "3123D58",
      "3123D76",
      "3123D7D",
      "3123EFE",
      "3123D64",
      "3123D78",
      "3123D7E",
      "3124E4A"
     ],
     "labels_target": [
      "3123D52",
      "3123D65",
      "3123D79",
      "3123D80",
      "3123D54",
      "3123D70",
      "3123D7B",
      "3123D89",
      "3123D58",
      "3123D76",
      "3123D7D",
      "3123EFE",
      "3123D64",
      "3123D78",
      "3123D7E",
      "3124E4A"
     ],
     "lr": 0.0001,
     "n_epoch": 50,
     "n_query": 2,
     "n_shot": 3,
     "n_way": 16,
     "num_examples_per_domain_per_label_source": 2000,
     "num_examples_per_domain_per_label_target": 2000,
     "patience": 3,
     "pickle_name": "oracle.Run1_10kExamples_stratified_ds.2022A.pkl",
     "seed": 7,
     "test_k_factor": 2,
     "torch_default_dtype": "torch.float32",
     "train_k_factor": 3,
     "val_k_factor": 2,
     "x_net": [
      {
       "class": "nnReshape",
       "kargs": {
        "shape": [
         -1,
         1,
         2,
         256
        ]
       }
      },
      {
       "class": "Conv2d",
       "kargs": {
        "bias": false,
        "in_channels": 1,
        "kernel_size": [
         1,
         7
        ],
        "out_channels": 256,
        "padding": [
         0,
         3
        ]
       }
      },
      {
       "class": "ReLU",
       "kargs": {
        "inplace": true
       }
      },
      {
       "class": "BatchNorm2d",
       "kargs": {
        "num_features": 256
       }
      },
      {
       "class": "Conv2d",
       "kargs": {
        "bias": true,
        "in_channels": 256,
        "kernel_size": [
         2,
         7
        ],
        "out_channels": 80,
        "padding": [
         0,
         3
        ]
       }
      },
      {
       "class": "ReLU",
       "kargs": {
        "inplace": true
       }
      },
      {
       "class": "BatchNorm2d",
       "kargs": {
        "num_features": 80
       }
      },
      {
       "class": "Flatten",
       "kargs": {}
      },
      {
       "class": "Linear",
       "kargs": {
        "in_features": 20480,
        "out_features": 256
       }
      },
      {
       "class": "ReLU",
       "kargs": {
        "inplace": true
       }
      },
      {
       "class": "BatchNorm1d",
       "kargs": {
        "num_features": 256
       }
      },
      {
       "class": "Linear",
       "kargs": {
        "in_features": 256,
        "out_features": 256
       }
      }
     ],
     "x_transforms_source": [
      "unit_power"
     ],
     "x_transforms_target": [
      "unit_power"
     ]
    }
   },
   "start_time": "2022-04-01T23:00:40.718650",
   "version": "2.3.4"
  }
 },
 "nbformat": 4,
 "nbformat_minor": 5
}