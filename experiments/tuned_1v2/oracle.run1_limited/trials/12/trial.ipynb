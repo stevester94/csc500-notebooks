{
 "cells": [
  {
   "cell_type": "markdown",
   "id": "9fea5f46",
   "metadata": {
    "papermill": {
     "duration": 0.020357,
     "end_time": "2022-03-26T10:17:09.565588",
     "exception": false,
     "start_time": "2022-03-26T10:17:09.545231",
     "status": "completed"
    },
    "tags": []
   },
   "source": [
    "# PTN Template\n",
    "This notebook serves as a template for single dataset PTN experiments  \n",
    "It can be run on its own by setting STANDALONE to True (do a find for \"STANDALONE\" to see where)  \n",
    "But it is intended to be executed as part of a *papermill.py script. See any of the   \n",
    "experimentes with a papermill script to get started with that workflow.  "
   ]
  },
  {
   "cell_type": "code",
   "execution_count": 1,
   "id": "0902182a",
   "metadata": {
    "execution": {
     "iopub.execute_input": "2022-03-26T10:17:09.615528Z",
     "iopub.status.busy": "2022-03-26T10:17:09.614647Z",
     "iopub.status.idle": "2022-03-26T10:17:11.599095Z",
     "shell.execute_reply": "2022-03-26T10:17:11.598673Z"
    },
    "papermill": {
     "duration": 2.019485,
     "end_time": "2022-03-26T10:17:11.599202",
     "exception": false,
     "start_time": "2022-03-26T10:17:09.579717",
     "status": "completed"
    },
    "tags": []
   },
   "outputs": [],
   "source": [
    "%load_ext autoreload\n",
    "%autoreload 2\n",
    "%matplotlib inline\n",
    "\n",
    "    \n",
    "import os, json, sys, time, random\n",
    "import numpy as np\n",
    "import torch\n",
    "from torch.optim import Adam\n",
    "from  easydict import EasyDict\n",
    "import matplotlib.pyplot as plt\n",
    "\n",
    "from steves_models.steves_ptn import Steves_Prototypical_Network\n",
    "\n",
    "from steves_utils.lazy_iterable_wrapper import Lazy_Iterable_Wrapper\n",
    "from steves_utils.iterable_aggregator import Iterable_Aggregator\n",
    "from steves_utils.ptn_train_eval_test_jig import  PTN_Train_Eval_Test_Jig\n",
    "from steves_utils.torch_sequential_builder import build_sequential\n",
    "from steves_utils.torch_utils import get_dataset_metrics, ptn_confusion_by_domain_over_dataloader\n",
    "from steves_utils.utils_v2 import (per_domain_accuracy_from_confusion, get_datasets_base_path)\n",
    "from steves_utils.PTN.utils import independent_accuracy_assesment\n",
    "\n",
    "from steves_utils.stratified_dataset.episodic_accessor import Episodic_Accessor_Factory\n",
    "\n",
    "from steves_utils.ptn_do_report import (\n",
    "    get_loss_curve,\n",
    "    get_results_table,\n",
    "    get_parameters_table,\n",
    "    get_domain_accuracies,\n",
    ")\n",
    "\n",
    "from steves_utils.transforms import get_chained_transform"
   ]
  },
  {
   "cell_type": "markdown",
   "id": "41c840b4",
   "metadata": {
    "papermill": {
     "duration": 0.014325,
     "end_time": "2022-03-26T10:17:11.628496",
     "exception": false,
     "start_time": "2022-03-26T10:17:11.614171",
     "status": "completed"
    },
    "tags": []
   },
   "source": [
    "# Required Parameters\n",
    "These are allowed parameters, not defaults\n",
    "Each of these values need to be present in the injected parameters (the notebook will raise an exception if they are not present)\n",
    "\n",
    "Papermill uses the cell tag \"parameters\" to inject the real parameters below this cell.\n",
    "Enable tags to see what I mean"
   ]
  },
  {
   "cell_type": "code",
   "execution_count": 2,
   "id": "fd44eb83",
   "metadata": {
    "execution": {
     "iopub.execute_input": "2022-03-26T10:17:11.662276Z",
     "iopub.status.busy": "2022-03-26T10:17:11.661078Z",
     "iopub.status.idle": "2022-03-26T10:17:11.679704Z",
     "shell.execute_reply": "2022-03-26T10:17:11.679296Z"
    },
    "papermill": {
     "duration": 0.036905,
     "end_time": "2022-03-26T10:17:11.679795",
     "exception": false,
     "start_time": "2022-03-26T10:17:11.642890",
     "status": "completed"
    },
    "tags": []
   },
   "outputs": [],
   "source": [
    "required_parameters = {\n",
    "    \"experiment_name\",\n",
    "    \"lr\",\n",
    "    \"device\",\n",
    "    \"seed\",\n",
    "    \"dataset_seed\",\n",
    "    \"labels_source\",\n",
    "    \"labels_target\",\n",
    "    \"domains_source\",\n",
    "    \"domains_target\",\n",
    "    \"num_examples_per_domain_per_label_source\",\n",
    "    \"num_examples_per_domain_per_label_target\",\n",
    "    \"n_shot\",\n",
    "    \"n_way\",\n",
    "    \"n_query\",\n",
    "    \"train_k_factor\",\n",
    "    \"val_k_factor\",\n",
    "    \"test_k_factor\",\n",
    "    \"n_epoch\",\n",
    "    \"patience\",\n",
    "    \"criteria_for_best\",\n",
    "    \"x_transforms_source\",\n",
    "    \"x_transforms_target\",\n",
    "    \"episode_transforms_source\",\n",
    "    \"episode_transforms_target\",\n",
    "    \"pickle_name\",\n",
    "    \"x_net\",\n",
    "    \"NUM_LOGS_PER_EPOCH\",\n",
    "    \"BEST_MODEL_PATH\",\n",
    "    \"torch_default_dtype\"\n",
    "}"
   ]
  },
  {
   "cell_type": "code",
   "execution_count": 3,
   "id": "fa3f0049",
   "metadata": {
    "execution": {
     "iopub.execute_input": "2022-03-26T10:17:11.718974Z",
     "iopub.status.busy": "2022-03-26T10:17:11.718181Z",
     "iopub.status.idle": "2022-03-26T10:17:11.742892Z",
     "shell.execute_reply": "2022-03-26T10:17:11.743208Z"
    },
    "papermill": {
     "duration": 0.048814,
     "end_time": "2022-03-26T10:17:11.743330",
     "exception": false,
     "start_time": "2022-03-26T10:17:11.694516",
     "status": "completed"
    },
    "tags": [
     "parameters"
    ]
   },
   "outputs": [],
   "source": [
    "\n",
    "\n",
    "standalone_parameters = {}\n",
    "standalone_parameters[\"experiment_name\"] = \"STANDALONE PTN\"\n",
    "standalone_parameters[\"lr\"] = 0.0001\n",
    "standalone_parameters[\"device\"] = \"cuda\"\n",
    "\n",
    "standalone_parameters[\"seed\"] = 1337\n",
    "standalone_parameters[\"dataset_seed\"] = 1337\n",
    "\n",
    "\n",
    "standalone_parameters[\"num_examples_per_domain_per_label_source\"]=100\n",
    "standalone_parameters[\"num_examples_per_domain_per_label_target\"]=100\n",
    "\n",
    "standalone_parameters[\"n_shot\"] = 3\n",
    "standalone_parameters[\"n_query\"]  = 2\n",
    "standalone_parameters[\"train_k_factor\"] = 1\n",
    "standalone_parameters[\"val_k_factor\"] = 2\n",
    "standalone_parameters[\"test_k_factor\"] = 2\n",
    "\n",
    "\n",
    "standalone_parameters[\"n_epoch\"] = 100\n",
    "\n",
    "standalone_parameters[\"patience\"] = 10\n",
    "standalone_parameters[\"criteria_for_best\"] = \"target_accuracy\"\n",
    "\n",
    "standalone_parameters[\"x_transforms_source\"] = [\"unit_power\"]\n",
    "standalone_parameters[\"x_transforms_target\"] = [\"unit_power\"]\n",
    "standalone_parameters[\"episode_transforms_source\"] = []\n",
    "standalone_parameters[\"episode_transforms_target\"] = []\n",
    "\n",
    "standalone_parameters[\"torch_default_dtype\"] = \"torch.float32\" \n",
    "\n",
    "\n",
    "\n",
    "standalone_parameters[\"x_net\"] =     [\n",
    "    {\"class\": \"nnReshape\", \"kargs\": {\"shape\":[-1, 1, 2, 256]}},\n",
    "    {\"class\": \"Conv2d\", \"kargs\": { \"in_channels\":1, \"out_channels\":256, \"kernel_size\":(1,7), \"bias\":False, \"padding\":(0,3), },},\n",
    "    {\"class\": \"ReLU\", \"kargs\": {\"inplace\": True}},\n",
    "    {\"class\": \"BatchNorm2d\", \"kargs\": {\"num_features\":256}},\n",
    "\n",
    "    {\"class\": \"Conv2d\", \"kargs\": { \"in_channels\":256, \"out_channels\":80, \"kernel_size\":(2,7), \"bias\":True, \"padding\":(0,3), },},\n",
    "    {\"class\": \"ReLU\", \"kargs\": {\"inplace\": True}},\n",
    "    {\"class\": \"BatchNorm2d\", \"kargs\": {\"num_features\":80}},\n",
    "    {\"class\": \"Flatten\", \"kargs\": {}},\n",
    "\n",
    "    {\"class\": \"Linear\", \"kargs\": {\"in_features\": 80*256, \"out_features\": 256}}, # 80 units per IQ pair\n",
    "    {\"class\": \"ReLU\", \"kargs\": {\"inplace\": True}},\n",
    "    {\"class\": \"BatchNorm1d\", \"kargs\": {\"num_features\":256}},\n",
    "\n",
    "    {\"class\": \"Linear\", \"kargs\": {\"in_features\": 256, \"out_features\": 256}},\n",
    "]\n",
    "\n",
    "# Parameters relevant to results\n",
    "# These parameters will basically never need to change\n",
    "standalone_parameters[\"NUM_LOGS_PER_EPOCH\"] = 10\n",
    "standalone_parameters[\"BEST_MODEL_PATH\"] = \"./best_model.pth\"\n",
    "\n",
    "# uncomment for CORES dataset\n",
    "from steves_utils.CORES.utils import (\n",
    "    ALL_NODES,\n",
    "    ALL_NODES_MINIMUM_1000_EXAMPLES,\n",
    "    ALL_DAYS\n",
    ")\n",
    "\n",
    "\n",
    "standalone_parameters[\"labels_source\"] = ALL_NODES\n",
    "standalone_parameters[\"labels_target\"] = ALL_NODES\n",
    "\n",
    "standalone_parameters[\"domains_source\"] = [1]\n",
    "standalone_parameters[\"domains_target\"] = [2,3,4,5]\n",
    "\n",
    "standalone_parameters[\"pickle_name\"] = \"cores.stratified_ds.2022A.pkl\"\n",
    "\n",
    "\n",
    "# Uncomment these for ORACLE dataset\n",
    "# from steves_utils.ORACLE.utils_v2 import (\n",
    "#     ALL_DISTANCES_FEET,\n",
    "#     ALL_RUNS,\n",
    "#     ALL_SERIAL_NUMBERS,\n",
    "# )\n",
    "# standalone_parameters[\"labels_source\"] = ALL_SERIAL_NUMBERS\n",
    "# standalone_parameters[\"labels_target\"] = ALL_SERIAL_NUMBERS\n",
    "# standalone_parameters[\"domains_source\"] = [8,20, 38,50]\n",
    "# standalone_parameters[\"domains_target\"] = [14, 26, 32, 44, 56]\n",
    "# standalone_parameters[\"pickle_name\"] = \"oracle.frame_indexed.stratified_ds.2022A.pkl\"\n",
    "# standalone_parameters[\"num_examples_per_domain_per_label_source\"]=1000\n",
    "# standalone_parameters[\"num_examples_per_domain_per_label_target\"]=1000\n",
    "\n",
    "# Uncomment these for Metahan dataset\n",
    "# standalone_parameters[\"labels_source\"] = list(range(19))\n",
    "# standalone_parameters[\"labels_target\"] = list(range(19))\n",
    "# standalone_parameters[\"domains_source\"] = [0]\n",
    "# standalone_parameters[\"domains_target\"] = [1]\n",
    "# standalone_parameters[\"pickle_name\"] = \"metehan.stratified_ds.2022A.pkl\"\n",
    "# standalone_parameters[\"n_way\"]  = len(standalone_parameters[\"labels_source\"])\n",
    "# standalone_parameters[\"num_examples_per_domain_per_label_source\"]=200\n",
    "# standalone_parameters[\"num_examples_per_domain_per_label_target\"]=100\n",
    "\n",
    "\n",
    "standalone_parameters[\"n_way\"]  = len(standalone_parameters[\"labels_source\"])"
   ]
  },
  {
   "cell_type": "code",
   "execution_count": 4,
   "id": "46c1da20",
   "metadata": {
    "execution": {
     "iopub.execute_input": "2022-03-26T10:17:11.786568Z",
     "iopub.status.busy": "2022-03-26T10:17:11.785879Z",
     "iopub.status.idle": "2022-03-26T10:17:11.805070Z",
     "shell.execute_reply": "2022-03-26T10:17:11.804288Z"
    },
    "papermill": {
     "duration": 0.04678,
     "end_time": "2022-03-26T10:17:11.805253",
     "exception": false,
     "start_time": "2022-03-26T10:17:11.758473",
     "status": "completed"
    },
    "tags": [
     "injected-parameters"
    ]
   },
   "outputs": [],
   "source": [
    "# Parameters\n",
    "parameters = {\n",
    "    \"experiment_name\": \"tuned_1v2:oracle.run1_limited\",\n",
    "    \"device\": \"cuda\",\n",
    "    \"lr\": 0.0001,\n",
    "    \"labels_source\": [\n",
    "        \"3123D52\",\n",
    "        \"3123D65\",\n",
    "        \"3123D79\",\n",
    "        \"3123D80\",\n",
    "        \"3123D54\",\n",
    "        \"3123D70\",\n",
    "        \"3123D7B\",\n",
    "        \"3123D89\",\n",
    "        \"3123D58\",\n",
    "        \"3123D76\",\n",
    "        \"3123D7D\",\n",
    "        \"3123EFE\",\n",
    "        \"3123D64\",\n",
    "        \"3123D78\",\n",
    "        \"3123D7E\",\n",
    "        \"3124E4A\",\n",
    "    ],\n",
    "    \"labels_target\": [\n",
    "        \"3123D52\",\n",
    "        \"3123D65\",\n",
    "        \"3123D79\",\n",
    "        \"3123D80\",\n",
    "        \"3123D54\",\n",
    "        \"3123D70\",\n",
    "        \"3123D7B\",\n",
    "        \"3123D89\",\n",
    "        \"3123D58\",\n",
    "        \"3123D76\",\n",
    "        \"3123D7D\",\n",
    "        \"3123EFE\",\n",
    "        \"3123D64\",\n",
    "        \"3123D78\",\n",
    "        \"3123D7E\",\n",
    "        \"3124E4A\",\n",
    "    ],\n",
    "    \"episode_transforms_source\": [],\n",
    "    \"episode_transforms_target\": [],\n",
    "    \"domains_source\": [8, 32, 50],\n",
    "    \"domains_target\": [14, 20, 26, 38, 44],\n",
    "    \"num_examples_per_domain_per_label_source\": -1,\n",
    "    \"num_examples_per_domain_per_label_target\": -1,\n",
    "    \"n_shot\": 3,\n",
    "    \"n_way\": 16,\n",
    "    \"n_query\": 2,\n",
    "    \"train_k_factor\": 3,\n",
    "    \"val_k_factor\": 2,\n",
    "    \"test_k_factor\": 2,\n",
    "    \"torch_default_dtype\": \"torch.float32\",\n",
    "    \"n_epoch\": 50,\n",
    "    \"patience\": 3,\n",
    "    \"criteria_for_best\": \"target_accuracy\",\n",
    "    \"x_net\": [\n",
    "        {\"class\": \"nnReshape\", \"kargs\": {\"shape\": [-1, 1, 2, 256]}},\n",
    "        {\n",
    "            \"class\": \"Conv2d\",\n",
    "            \"kargs\": {\n",
    "                \"in_channels\": 1,\n",
    "                \"out_channels\": 256,\n",
    "                \"kernel_size\": [1, 7],\n",
    "                \"bias\": False,\n",
    "                \"padding\": [0, 3],\n",
    "            },\n",
    "        },\n",
    "        {\"class\": \"ReLU\", \"kargs\": {\"inplace\": True}},\n",
    "        {\"class\": \"BatchNorm2d\", \"kargs\": {\"num_features\": 256}},\n",
    "        {\n",
    "            \"class\": \"Conv2d\",\n",
    "            \"kargs\": {\n",
    "                \"in_channels\": 256,\n",
    "                \"out_channels\": 80,\n",
    "                \"kernel_size\": [2, 7],\n",
    "                \"bias\": True,\n",
    "                \"padding\": [0, 3],\n",
    "            },\n",
    "        },\n",
    "        {\"class\": \"ReLU\", \"kargs\": {\"inplace\": True}},\n",
    "        {\"class\": \"BatchNorm2d\", \"kargs\": {\"num_features\": 80}},\n",
    "        {\"class\": \"Flatten\", \"kargs\": {}},\n",
    "        {\"class\": \"Linear\", \"kargs\": {\"in_features\": 20480, \"out_features\": 256}},\n",
    "        {\"class\": \"ReLU\", \"kargs\": {\"inplace\": True}},\n",
    "        {\"class\": \"BatchNorm1d\", \"kargs\": {\"num_features\": 256}},\n",
    "        {\"class\": \"Linear\", \"kargs\": {\"in_features\": 256, \"out_features\": 256}},\n",
    "    ],\n",
    "    \"NUM_LOGS_PER_EPOCH\": 10,\n",
    "    \"BEST_MODEL_PATH\": \"./best_model.pth\",\n",
    "    \"pickle_name\": \"oracle.Run1_10kExamples_stratified_ds.2022A.pkl\",\n",
    "    \"x_transforms_source\": [\"unit_power\"],\n",
    "    \"x_transforms_target\": [\"unit_power\"],\n",
    "    \"dataset_seed\": 7,\n",
    "    \"seed\": 7,\n",
    "}\n"
   ]
  },
  {
   "cell_type": "code",
   "execution_count": 5,
   "id": "8fa1cc33",
   "metadata": {
    "execution": {
     "iopub.execute_input": "2022-03-26T10:17:11.848164Z",
     "iopub.status.busy": "2022-03-26T10:17:11.843445Z",
     "iopub.status.idle": "2022-03-26T10:17:11.868173Z",
     "shell.execute_reply": "2022-03-26T10:17:11.867364Z"
    },
    "papermill": {
     "duration": 0.04157,
     "end_time": "2022-03-26T10:17:11.868342",
     "exception": false,
     "start_time": "2022-03-26T10:17:11.826772",
     "status": "completed"
    },
    "tags": []
   },
   "outputs": [],
   "source": [
    "# Set this to True if you want to run this template directly\n",
    "STANDALONE = False\n",
    "if STANDALONE:\n",
    "    print(\"parameters not injected, running with standalone_parameters\")\n",
    "    parameters = standalone_parameters\n",
    "\n",
    "if not 'parameters' in locals() and not 'parameters' in globals():\n",
    "    raise Exception(\"Parameter injection failed\")\n",
    "\n",
    "#Use an easy dict for all the parameters\n",
    "p = EasyDict(parameters)\n",
    "\n",
    "supplied_keys = set(p.keys())\n",
    "\n",
    "if  supplied_keys != required_parameters:\n",
    "    print(\"Parameters are incorrect\")\n",
    "    if len(supplied_keys - required_parameters)>0: print(\"Shouldn't have:\", str(supplied_keys - required_parameters))\n",
    "    if len(required_parameters - supplied_keys)>0: print(\"Need to have:\", str(required_parameters - supplied_keys))\n",
    "    raise RuntimeError(\"Parameters are incorrect\")\n",
    "\n"
   ]
  },
  {
   "cell_type": "code",
   "execution_count": 6,
   "id": "3a028d58",
   "metadata": {
    "execution": {
     "iopub.execute_input": "2022-03-26T10:17:11.909310Z",
     "iopub.status.busy": "2022-03-26T10:17:11.908885Z",
     "iopub.status.idle": "2022-03-26T10:17:11.930668Z",
     "shell.execute_reply": "2022-03-26T10:17:11.929906Z"
    },
    "papermill": {
     "duration": 0.041203,
     "end_time": "2022-03-26T10:17:11.930839",
     "exception": false,
     "start_time": "2022-03-26T10:17:11.889636",
     "status": "completed"
    },
    "tags": []
   },
   "outputs": [],
   "source": [
    "###################################\n",
    "# Set the RNGs and make it all deterministic\n",
    "###################################\n",
    "np.random.seed(p.seed)\n",
    "random.seed(p.seed)\n",
    "torch.manual_seed(p.seed)\n",
    "\n",
    "torch.use_deterministic_algorithms(True) "
   ]
  },
  {
   "cell_type": "code",
   "execution_count": 7,
   "id": "b691acf6",
   "metadata": {
    "execution": {
     "iopub.execute_input": "2022-03-26T10:17:11.971298Z",
     "iopub.status.busy": "2022-03-26T10:17:11.970417Z",
     "iopub.status.idle": "2022-03-26T10:17:11.991115Z",
     "shell.execute_reply": "2022-03-26T10:17:11.990396Z"
    },
    "papermill": {
     "duration": 0.0385,
     "end_time": "2022-03-26T10:17:11.991285",
     "exception": false,
     "start_time": "2022-03-26T10:17:11.952785",
     "status": "completed"
    },
    "tags": []
   },
   "outputs": [],
   "source": [
    "###########################################\n",
    "# The stratified datasets honor this\n",
    "###########################################\n",
    "torch.set_default_dtype(eval(p.torch_default_dtype))"
   ]
  },
  {
   "cell_type": "code",
   "execution_count": 8,
   "id": "b5fba671",
   "metadata": {
    "execution": {
     "iopub.execute_input": "2022-03-26T10:17:12.038787Z",
     "iopub.status.busy": "2022-03-26T10:17:12.034942Z",
     "iopub.status.idle": "2022-03-26T10:17:12.092347Z",
     "shell.execute_reply": "2022-03-26T10:17:12.091955Z"
    },
    "papermill": {
     "duration": 0.076209,
     "end_time": "2022-03-26T10:17:12.092445",
     "exception": false,
     "start_time": "2022-03-26T10:17:12.016236",
     "status": "completed"
    },
    "tags": []
   },
   "outputs": [],
   "source": [
    "###################################\n",
    "# Build the network(s)\n",
    "# Note: It's critical to do this AFTER setting the RNG\n",
    "# (This is due to the randomized initial weights)\n",
    "###################################\n",
    "x_net = build_sequential(p.x_net)"
   ]
  },
  {
   "cell_type": "code",
   "execution_count": 9,
   "id": "5d7e61cc",
   "metadata": {
    "execution": {
     "iopub.execute_input": "2022-03-26T10:17:12.131369Z",
     "iopub.status.busy": "2022-03-26T10:17:12.130920Z",
     "iopub.status.idle": "2022-03-26T10:17:12.155140Z",
     "shell.execute_reply": "2022-03-26T10:17:12.154290Z"
    },
    "papermill": {
     "duration": 0.046819,
     "end_time": "2022-03-26T10:17:12.155321",
     "exception": false,
     "start_time": "2022-03-26T10:17:12.108502",
     "status": "completed"
    },
    "tags": []
   },
   "outputs": [],
   "source": [
    "start_time_secs = time.time()"
   ]
  },
  {
   "cell_type": "code",
   "execution_count": 10,
   "id": "fd5442bc",
   "metadata": {
    "execution": {
     "iopub.execute_input": "2022-03-26T10:17:12.203092Z",
     "iopub.status.busy": "2022-03-26T10:17:12.198263Z",
     "iopub.status.idle": "2022-03-26T10:19:06.401978Z",
     "shell.execute_reply": "2022-03-26T10:19:06.401212Z"
    },
    "papermill": {
     "duration": 114.226588,
     "end_time": "2022-03-26T10:19:06.402157",
     "exception": false,
     "start_time": "2022-03-26T10:17:12.175569",
     "status": "completed"
    },
    "tags": []
   },
   "outputs": [],
   "source": [
    "###################################\n",
    "# Build the dataset\n",
    "###################################\n",
    "\n",
    "if p.x_transforms_source == []: x_transform_source = None\n",
    "else: x_transform_source = get_chained_transform(p.x_transforms_source) \n",
    "\n",
    "if p.x_transforms_target == []: x_transform_target = None\n",
    "else: x_transform_target = get_chained_transform(p.x_transforms_target)\n",
    "\n",
    "if p.episode_transforms_source == []: episode_transform_source = None\n",
    "else: raise Exception(\"episode_transform_source not implemented\")\n",
    "\n",
    "if p.episode_transforms_target == []: episode_transform_target = None\n",
    "else: raise Exception(\"episode_transform_target not implemented\")\n",
    "\n",
    "\n",
    "eaf_source = Episodic_Accessor_Factory(\n",
    "    labels=p.labels_source,\n",
    "    domains=p.domains_source,\n",
    "    num_examples_per_domain_per_label=p.num_examples_per_domain_per_label_source,\n",
    "    iterator_seed=p.seed,\n",
    "    dataset_seed=p.dataset_seed,\n",
    "    n_shot=p.n_shot,\n",
    "    n_way=p.n_way,\n",
    "    n_query=p.n_query,\n",
    "    train_val_test_k_factors=(p.train_k_factor,p.val_k_factor,p.test_k_factor),\n",
    "    pickle_path=os.path.join(get_datasets_base_path(), p.pickle_name),\n",
    "    x_transform_func=x_transform_source,\n",
    "    example_transform_func=episode_transform_source,\n",
    "    \n",
    ")\n",
    "train_original_source, val_original_source, test_original_source = eaf_source.get_train(), eaf_source.get_val(), eaf_source.get_test()\n",
    "\n",
    "\n",
    "eaf_target = Episodic_Accessor_Factory(\n",
    "    labels=p.labels_target,\n",
    "    domains=p.domains_target,\n",
    "    num_examples_per_domain_per_label=p.num_examples_per_domain_per_label_target,\n",
    "    iterator_seed=p.seed,\n",
    "    dataset_seed=p.dataset_seed,\n",
    "    n_shot=p.n_shot,\n",
    "    n_way=p.n_way,\n",
    "    n_query=p.n_query,\n",
    "    train_val_test_k_factors=(p.train_k_factor,p.val_k_factor,p.test_k_factor),\n",
    "    pickle_path=os.path.join(get_datasets_base_path(), p.pickle_name),\n",
    "    x_transform_func=x_transform_target,\n",
    "    example_transform_func=episode_transform_target,\n",
    ")\n",
    "train_original_target, val_original_target, test_original_target = eaf_target.get_train(), eaf_target.get_val(), eaf_target.get_test()\n",
    "\n",
    "\n",
    "transform_lambda = lambda ex: ex[1] # Original is (<domain>, <episode>) so we strip down to episode only\n",
    "\n",
    "train_processed_source = Lazy_Iterable_Wrapper(train_original_source, transform_lambda)\n",
    "val_processed_source   = Lazy_Iterable_Wrapper(val_original_source, transform_lambda)\n",
    "test_processed_source  = Lazy_Iterable_Wrapper(test_original_source, transform_lambda)\n",
    "\n",
    "train_processed_target = Lazy_Iterable_Wrapper(train_original_target, transform_lambda)\n",
    "val_processed_target   = Lazy_Iterable_Wrapper(val_original_target, transform_lambda)\n",
    "test_processed_target  = Lazy_Iterable_Wrapper(test_original_target, transform_lambda)\n",
    "\n",
    "datasets = EasyDict({\n",
    "    \"source\": {\n",
    "        \"original\": {\"train\":train_original_source, \"val\":val_original_source, \"test\":test_original_source},\n",
    "        \"processed\": {\"train\":train_processed_source, \"val\":val_processed_source, \"test\":test_processed_source}\n",
    "    },\n",
    "    \"target\": {\n",
    "        \"original\": {\"train\":train_original_target, \"val\":val_original_target, \"test\":test_original_target},\n",
    "        \"processed\": {\"train\":train_processed_target, \"val\":val_processed_target, \"test\":test_processed_target}\n",
    "    },\n",
    "})"
   ]
  },
  {
   "cell_type": "code",
   "execution_count": 11,
   "id": "296189d9",
   "metadata": {
    "execution": {
     "iopub.execute_input": "2022-03-26T10:19:06.446582Z",
     "iopub.status.busy": "2022-03-26T10:19:06.446203Z",
     "iopub.status.idle": "2022-03-26T10:19:14.321016Z",
     "shell.execute_reply": "2022-03-26T10:19:14.320259Z"
    },
    "papermill": {
     "duration": 7.895464,
     "end_time": "2022-03-26T10:19:14.321197",
     "exception": false,
     "start_time": "2022-03-26T10:19:06.425733",
     "status": "completed"
    },
    "tags": []
   },
   "outputs": [
    {
     "name": "stdout",
     "output_type": "stream",
     "text": [
      "Visually inspect these to see if they line up with expected values given the transforms\n",
      "x_transforms_source ['unit_power']\n",
      "x_transforms_target ['unit_power']\n",
      "Average magnitude, source: 0.9554377\n",
      "Average power, source: 1.0\n"
     ]
    },
    {
     "name": "stdout",
     "output_type": "stream",
     "text": [
      "Average magnitude, target: 0.8948246\n",
      "Average power, target: 1.0\n"
     ]
    }
   ],
   "source": [
    "# Some quick unit tests on the data\n",
    "from steves_utils.transforms import get_average_power, get_average_magnitude\n",
    "\n",
    "q_x, q_y, s_x, s_y, truth = next(iter(train_processed_source))\n",
    "\n",
    "assert q_x.dtype == eval(p.torch_default_dtype)\n",
    "assert s_x.dtype == eval(p.torch_default_dtype)\n",
    "\n",
    "print(\"Visually inspect these to see if they line up with expected values given the transforms\")\n",
    "print('x_transforms_source', p.x_transforms_source)\n",
    "print('x_transforms_target', p.x_transforms_target)\n",
    "print(\"Average magnitude, source:\", get_average_magnitude(q_x[0].numpy()))\n",
    "print(\"Average power, source:\", get_average_power(q_x[0].numpy()))\n",
    "\n",
    "q_x, q_y, s_x, s_y, truth = next(iter(train_processed_target))\n",
    "print(\"Average magnitude, target:\", get_average_magnitude(q_x[0].numpy()))\n",
    "print(\"Average power, target:\", get_average_power(q_x[0].numpy()))\n"
   ]
  },
  {
   "cell_type": "code",
   "execution_count": 12,
   "id": "bbdacba1",
   "metadata": {
    "execution": {
     "iopub.execute_input": "2022-03-26T10:19:14.364834Z",
     "iopub.status.busy": "2022-03-26T10:19:14.364126Z",
     "iopub.status.idle": "2022-03-26T10:19:14.639867Z",
     "shell.execute_reply": "2022-03-26T10:19:14.640631Z"
    },
    "papermill": {
     "duration": 0.29886,
     "end_time": "2022-03-26T10:19:14.640917",
     "exception": false,
     "start_time": "2022-03-26T10:19:14.342057",
     "status": "completed"
    },
    "tags": []
   },
   "outputs": [
    {
     "name": "stdout",
     "output_type": "stream",
     "text": [
      "(2, 256)\n"
     ]
    }
   ],
   "source": [
    "###################################\n",
    "# Build the model\n",
    "###################################\n",
    "model = Steves_Prototypical_Network(x_net, device=p.device, x_shape=(2,256))\n",
    "optimizer = Adam(params=model.parameters(), lr=p.lr)"
   ]
  },
  {
   "cell_type": "code",
   "execution_count": 13,
   "id": "22b39ac5",
   "metadata": {
    "execution": {
     "iopub.execute_input": "2022-03-26T10:19:14.686655Z",
     "iopub.status.busy": "2022-03-26T10:19:14.686010Z",
     "iopub.status.idle": "2022-03-26T11:55:39.411061Z",
     "shell.execute_reply": "2022-03-26T11:55:39.410700Z"
    },
    "papermill": {
     "duration": 5784.746888,
     "end_time": "2022-03-26T11:55:39.411162",
     "exception": false,
     "start_time": "2022-03-26T10:19:14.664274",
     "status": "completed"
    },
    "tags": []
   },
   "outputs": [
    {
     "name": "stdout",
     "output_type": "stream",
     "text": [
      "epoch: 1, [batch: 1 / 12600], examples_per_second: 17.5688, train_label_loss: 2.7717, \n"
     ]
    },
    {
     "name": "stdout",
     "output_type": "stream",
     "text": [
      "epoch: 1, [batch: 1260 / 12600], examples_per_second: 1814.7673, train_label_loss: 1.9923, \n"
     ]
    },
    {
     "name": "stdout",
     "output_type": "stream",
     "text": [
      "epoch: 1, [batch: 2520 / 12600], examples_per_second: 1937.6877, train_label_loss: 1.6902, \n"
     ]
    },
    {
     "name": "stdout",
     "output_type": "stream",
     "text": [
      "epoch: 1, [batch: 3780 / 12600], examples_per_second: 1911.4675, train_label_loss: 1.3745, \n"
     ]
    },
    {
     "name": "stdout",
     "output_type": "stream",
     "text": [
      "epoch: 1, [batch: 5040 / 12600], examples_per_second: 3798.2084, train_label_loss: 1.5580, \n"
     ]
    },
    {
     "name": "stdout",
     "output_type": "stream",
     "text": [
      "epoch: 1, [batch: 6300 / 12600], examples_per_second: 4297.6104, train_label_loss: 1.3580, \n"
     ]
    },
    {
     "name": "stdout",
     "output_type": "stream",
     "text": [
      "epoch: 1, [batch: 7560 / 12600], examples_per_second: 1793.3069, train_label_loss: 1.4734, \n"
     ]
    },
    {
     "name": "stdout",
     "output_type": "stream",
     "text": [
      "epoch: 1, [batch: 8820 / 12600], examples_per_second: 1766.8591, train_label_loss: 1.2655, \n"
     ]
    },
    {
     "name": "stdout",
     "output_type": "stream",
     "text": [
      "epoch: 1, [batch: 10080 / 12600], examples_per_second: 1777.1986, train_label_loss: 1.3938, \n"
     ]
    },
    {
     "name": "stdout",
     "output_type": "stream",
     "text": [
      "epoch: 1, [batch: 11340 / 12600], examples_per_second: 2304.6028, train_label_loss: 1.4593, \n"
     ]
    },
    {
     "name": "stdout",
     "output_type": "stream",
     "text": [
      "=============================================================\n",
      "epoch: 1, source_val_acc_label: 0.5571, target_val_acc_label: 0.4656, source_val_label_loss: 1.2092, target_val_label_loss: 1.4506, \n",
      "=============================================================\n"
     ]
    },
    {
     "name": "stdout",
     "output_type": "stream",
     "text": [
      "New best\n"
     ]
    },
    {
     "name": "stdout",
     "output_type": "stream",
     "text": [
      "epoch: 2, [batch: 1 / 12600], examples_per_second: 0.7797, train_label_loss: 1.4786, \n"
     ]
    },
    {
     "name": "stdout",
     "output_type": "stream",
     "text": [
      "epoch: 2, [batch: 1260 / 12600], examples_per_second: 3964.4906, train_label_loss: 0.9058, \n"
     ]
    },
    {
     "name": "stdout",
     "output_type": "stream",
     "text": [
      "epoch: 2, [batch: 2520 / 12600], examples_per_second: 2469.7541, train_label_loss: 0.9630, \n"
     ]
    },
    {
     "name": "stdout",
     "output_type": "stream",
     "text": [
      "epoch: 2, [batch: 3780 / 12600], examples_per_second: 1962.3503, train_label_loss: 1.0475, \n"
     ]
    },
    {
     "name": "stdout",
     "output_type": "stream",
     "text": [
      "epoch: 2, [batch: 5040 / 12600], examples_per_second: 1977.3634, train_label_loss: 1.1675, \n"
     ]
    },
    {
     "name": "stdout",
     "output_type": "stream",
     "text": [
      "epoch: 2, [batch: 6300 / 12600], examples_per_second: 2260.2530, train_label_loss: 0.8195, \n"
     ]
    },
    {
     "name": "stdout",
     "output_type": "stream",
     "text": [
      "epoch: 2, [batch: 7560 / 12600], examples_per_second: 3906.5473, train_label_loss: 0.8389, \n"
     ]
    },
    {
     "name": "stdout",
     "output_type": "stream",
     "text": [
      "epoch: 2, [batch: 8820 / 12600], examples_per_second: 2165.5241, train_label_loss: 0.5948, \n"
     ]
    },
    {
     "name": "stdout",
     "output_type": "stream",
     "text": [
      "epoch: 2, [batch: 10080 / 12600], examples_per_second: 1781.3979, train_label_loss: 0.6430, \n"
     ]
    },
    {
     "name": "stdout",
     "output_type": "stream",
     "text": [
      "epoch: 2, [batch: 11340 / 12600], examples_per_second: 1784.9609, train_label_loss: 0.6290, \n"
     ]
    },
    {
     "name": "stdout",
     "output_type": "stream",
     "text": [
      "=============================================================\n",
      "epoch: 2, source_val_acc_label: 0.6615, target_val_acc_label: 0.5773, source_val_label_loss: 0.9027, target_val_label_loss: 1.1229, \n",
      "=============================================================\n"
     ]
    },
    {
     "name": "stdout",
     "output_type": "stream",
     "text": [
      "New best\n"
     ]
    },
    {
     "name": "stdout",
     "output_type": "stream",
     "text": [
      "epoch: 3, [batch: 1 / 12600], examples_per_second: 1.0930, train_label_loss: 0.5697, \n"
     ]
    },
    {
     "name": "stdout",
     "output_type": "stream",
     "text": [
      "epoch: 3, [batch: 1260 / 12600], examples_per_second: 1773.9086, train_label_loss: 0.5882, \n"
     ]
    },
    {
     "name": "stdout",
     "output_type": "stream",
     "text": [
      "epoch: 3, [batch: 2520 / 12600], examples_per_second: 1946.3735, train_label_loss: 0.7450, \n"
     ]
    },
    {
     "name": "stdout",
     "output_type": "stream",
     "text": [
      "epoch: 3, [batch: 3780 / 12600], examples_per_second: 3784.2896, train_label_loss: 0.8045, \n"
     ]
    },
    {
     "name": "stdout",
     "output_type": "stream",
     "text": [
      "epoch: 3, [batch: 5040 / 12600], examples_per_second: 4472.1121, train_label_loss: 0.5163, \n"
     ]
    },
    {
     "name": "stdout",
     "output_type": "stream",
     "text": [
      "epoch: 3, [batch: 6300 / 12600], examples_per_second: 1927.2840, train_label_loss: 0.8926, \n"
     ]
    },
    {
     "name": "stdout",
     "output_type": "stream",
     "text": [
      "epoch: 3, [batch: 7560 / 12600], examples_per_second: 1776.0104, train_label_loss: 0.8674, \n"
     ]
    },
    {
     "name": "stdout",
     "output_type": "stream",
     "text": [
      "epoch: 3, [batch: 8820 / 12600], examples_per_second: 1778.6405, train_label_loss: 0.4588, \n"
     ]
    },
    {
     "name": "stdout",
     "output_type": "stream",
     "text": [
      "epoch: 3, [batch: 10080 / 12600], examples_per_second: 2222.4442, train_label_loss: 0.5609, \n"
     ]
    },
    {
     "name": "stdout",
     "output_type": "stream",
     "text": [
      "epoch: 3, [batch: 11340 / 12600], examples_per_second: 3955.1280, train_label_loss: 0.7126, \n"
     ]
    },
    {
     "name": "stdout",
     "output_type": "stream",
     "text": [
      "=============================================================\n",
      "epoch: 3, source_val_acc_label: 0.6789, target_val_acc_label: 0.6042, source_val_label_loss: 0.8806, target_val_label_loss: 1.0715, \n",
      "=============================================================\n"
     ]
    },
    {
     "name": "stdout",
     "output_type": "stream",
     "text": [
      "New best\n"
     ]
    },
    {
     "name": "stdout",
     "output_type": "stream",
     "text": [
      "epoch: 4, [batch: 1 / 12600], examples_per_second: 0.7382, train_label_loss: 0.7348, \n"
     ]
    },
    {
     "name": "stdout",
     "output_type": "stream",
     "text": [
      "epoch: 4, [batch: 1260 / 12600], examples_per_second: 3089.3743, train_label_loss: 0.7145, \n"
     ]
    },
    {
     "name": "stdout",
     "output_type": "stream",
     "text": [
      "epoch: 4, [batch: 2520 / 12600], examples_per_second: 2004.2961, train_label_loss: 0.4574, \n"
     ]
    },
    {
     "name": "stdout",
     "output_type": "stream",
     "text": [
      "epoch: 4, [batch: 3780 / 12600], examples_per_second: 1928.8765, train_label_loss: 0.6834, \n"
     ]
    },
    {
     "name": "stdout",
     "output_type": "stream",
     "text": [
      "epoch: 4, [batch: 5040 / 12600], examples_per_second: 1956.3222, train_label_loss: 0.7793, \n"
     ]
    },
    {
     "name": "stdout",
     "output_type": "stream",
     "text": [
      "epoch: 4, [batch: 6300 / 12600], examples_per_second: 3136.4610, train_label_loss: 0.5996, \n"
     ]
    },
    {
     "name": "stdout",
     "output_type": "stream",
     "text": [
      "epoch: 4, [batch: 7560 / 12600], examples_per_second: 4246.7333, train_label_loss: 0.7971, \n"
     ]
    },
    {
     "name": "stdout",
     "output_type": "stream",
     "text": [
      "epoch: 4, [batch: 8820 / 12600], examples_per_second: 2096.2918, train_label_loss: 0.8811, \n"
     ]
    },
    {
     "name": "stdout",
     "output_type": "stream",
     "text": [
      "epoch: 4, [batch: 10080 / 12600], examples_per_second: 1954.6961, train_label_loss: 0.4555, \n"
     ]
    },
    {
     "name": "stdout",
     "output_type": "stream",
     "text": [
      "epoch: 4, [batch: 11340 / 12600], examples_per_second: 1914.9823, train_label_loss: 0.6234, \n"
     ]
    },
    {
     "name": "stdout",
     "output_type": "stream",
     "text": [
      "=============================================================\n",
      "epoch: 4, source_val_acc_label: 0.6886, target_val_acc_label: 0.6089, source_val_label_loss: 0.8558, target_val_label_loss: 1.0489, \n",
      "=============================================================\n"
     ]
    },
    {
     "name": "stdout",
     "output_type": "stream",
     "text": [
      "New best\n"
     ]
    },
    {
     "name": "stdout",
     "output_type": "stream",
     "text": [
      "epoch: 5, [batch: 1 / 12600], examples_per_second: 1.1269, train_label_loss: 0.7592, \n"
     ]
    },
    {
     "name": "stdout",
     "output_type": "stream",
     "text": [
      "epoch: 5, [batch: 1260 / 12600], examples_per_second: 1922.7266, train_label_loss: 0.5774, \n"
     ]
    },
    {
     "name": "stdout",
     "output_type": "stream",
     "text": [
      "epoch: 5, [batch: 2520 / 12600], examples_per_second: 1903.2677, train_label_loss: 0.7852, \n"
     ]
    },
    {
     "name": "stdout",
     "output_type": "stream",
     "text": [
      "epoch: 5, [batch: 3780 / 12600], examples_per_second: 2358.3300, train_label_loss: 0.5386, \n"
     ]
    },
    {
     "name": "stdout",
     "output_type": "stream",
     "text": [
      "epoch: 5, [batch: 5040 / 12600], examples_per_second: 2292.5842, train_label_loss: 0.6597, \n"
     ]
    },
    {
     "name": "stdout",
     "output_type": "stream",
     "text": [
      "epoch: 5, [batch: 6300 / 12600], examples_per_second: 2398.1710, train_label_loss: 0.6213, \n"
     ]
    },
    {
     "name": "stdout",
     "output_type": "stream",
     "text": [
      "epoch: 5, [batch: 7560 / 12600], examples_per_second: 3414.0637, train_label_loss: 0.4814, \n"
     ]
    },
    {
     "name": "stdout",
     "output_type": "stream",
     "text": [
      "epoch: 5, [batch: 8820 / 12600], examples_per_second: 5132.6988, train_label_loss: 0.4721, \n"
     ]
    },
    {
     "name": "stdout",
     "output_type": "stream",
     "text": [
      "epoch: 5, [batch: 10080 / 12600], examples_per_second: 2895.1179, train_label_loss: 0.6292, \n"
     ]
    },
    {
     "name": "stdout",
     "output_type": "stream",
     "text": [
      "epoch: 5, [batch: 11340 / 12600], examples_per_second: 2361.2113, train_label_loss: 0.7216, \n"
     ]
    },
    {
     "name": "stdout",
     "output_type": "stream",
     "text": [
      "=============================================================\n",
      "epoch: 5, source_val_acc_label: 0.6790, target_val_acc_label: 0.5977, source_val_label_loss: 0.8643, target_val_label_loss: 1.0801, \n",
      "=============================================================\n"
     ]
    },
    {
     "name": "stdout",
     "output_type": "stream",
     "text": [
      "epoch: 6, [batch: 1 / 12600], examples_per_second: 1.6737, train_label_loss: 0.4009, \n"
     ]
    },
    {
     "name": "stdout",
     "output_type": "stream",
     "text": [
      "epoch: 6, [batch: 1260 / 12600], examples_per_second: 1811.3327, train_label_loss: 0.5627, \n"
     ]
    },
    {
     "name": "stdout",
     "output_type": "stream",
     "text": [
      "epoch: 6, [batch: 2520 / 12600], examples_per_second: 3473.6009, train_label_loss: 0.3648, \n"
     ]
    },
    {
     "name": "stdout",
     "output_type": "stream",
     "text": [
      "epoch: 6, [batch: 3780 / 12600], examples_per_second: 2740.3313, train_label_loss: 0.5684, \n"
     ]
    },
    {
     "name": "stdout",
     "output_type": "stream",
     "text": [
      "epoch: 6, [batch: 5040 / 12600], examples_per_second: 1768.2866, train_label_loss: 0.5662, \n"
     ]
    },
    {
     "name": "stdout",
     "output_type": "stream",
     "text": [
      "epoch: 6, [batch: 6300 / 12600], examples_per_second: 1789.0309, train_label_loss: 0.6856, \n"
     ]
    },
    {
     "name": "stdout",
     "output_type": "stream",
     "text": [
      "epoch: 6, [batch: 7560 / 12600], examples_per_second: 2138.2608, train_label_loss: 0.4040, \n"
     ]
    },
    {
     "name": "stdout",
     "output_type": "stream",
     "text": [
      "epoch: 6, [batch: 8820 / 12600], examples_per_second: 3839.6398, train_label_loss: 0.3266, \n"
     ]
    },
    {
     "name": "stdout",
     "output_type": "stream",
     "text": [
      "epoch: 6, [batch: 10080 / 12600], examples_per_second: 1998.7829, train_label_loss: 0.4408, \n"
     ]
    },
    {
     "name": "stdout",
     "output_type": "stream",
     "text": [
      "epoch: 6, [batch: 11340 / 12600], examples_per_second: 1768.9866, train_label_loss: 1.1297, \n"
     ]
    },
    {
     "name": "stdout",
     "output_type": "stream",
     "text": [
      "=============================================================\n",
      "epoch: 6, source_val_acc_label: 0.6972, target_val_acc_label: 0.6196, source_val_label_loss: 0.8951, target_val_label_loss: 1.0890, \n",
      "=============================================================\n"
     ]
    },
    {
     "name": "stdout",
     "output_type": "stream",
     "text": [
      "New best\n"
     ]
    },
    {
     "name": "stdout",
     "output_type": "stream",
     "text": [
      "epoch: 7, [batch: 1 / 12600], examples_per_second: 1.0836, train_label_loss: 0.3563, \n"
     ]
    },
    {
     "name": "stdout",
     "output_type": "stream",
     "text": [
      "epoch: 7, [batch: 1260 / 12600], examples_per_second: 1824.8533, train_label_loss: 0.2998, \n"
     ]
    },
    {
     "name": "stdout",
     "output_type": "stream",
     "text": [
      "epoch: 7, [batch: 2520 / 12600], examples_per_second: 1791.2032, train_label_loss: 0.4900, \n"
     ]
    },
    {
     "name": "stdout",
     "output_type": "stream",
     "text": [
      "epoch: 7, [batch: 3780 / 12600], examples_per_second: 1746.7316, train_label_loss: 0.7080, \n"
     ]
    },
    {
     "name": "stdout",
     "output_type": "stream",
     "text": [
      "epoch: 7, [batch: 5040 / 12600], examples_per_second: 1796.3973, train_label_loss: 0.3418, \n"
     ]
    },
    {
     "name": "stdout",
     "output_type": "stream",
     "text": [
      "epoch: 7, [batch: 6300 / 12600], examples_per_second: 1786.9005, train_label_loss: 0.5012, \n"
     ]
    },
    {
     "name": "stdout",
     "output_type": "stream",
     "text": [
      "epoch: 7, [batch: 7560 / 12600], examples_per_second: 1786.3302, train_label_loss: 0.4356, \n"
     ]
    },
    {
     "name": "stdout",
     "output_type": "stream",
     "text": [
      "epoch: 7, [batch: 8820 / 12600], examples_per_second: 2493.6789, train_label_loss: 0.4705, \n"
     ]
    },
    {
     "name": "stdout",
     "output_type": "stream",
     "text": [
      "epoch: 7, [batch: 10080 / 12600], examples_per_second: 3935.8034, train_label_loss: 0.4573, \n"
     ]
    },
    {
     "name": "stdout",
     "output_type": "stream",
     "text": [
      "epoch: 7, [batch: 11340 / 12600], examples_per_second: 1813.5767, train_label_loss: 0.3431, \n"
     ]
    },
    {
     "name": "stdout",
     "output_type": "stream",
     "text": [
      "=============================================================\n",
      "epoch: 7, source_val_acc_label: 0.6818, target_val_acc_label: 0.6039, source_val_label_loss: 0.9194, target_val_label_loss: 1.1269, \n",
      "=============================================================\n"
     ]
    },
    {
     "name": "stdout",
     "output_type": "stream",
     "text": [
      "epoch: 8, [batch: 1 / 12600], examples_per_second: 1.0629, train_label_loss: 0.5737, \n"
     ]
    },
    {
     "name": "stdout",
     "output_type": "stream",
     "text": [
      "epoch: 8, [batch: 1260 / 12600], examples_per_second: 1810.9380, train_label_loss: 0.3414, \n"
     ]
    },
    {
     "name": "stdout",
     "output_type": "stream",
     "text": [
      "epoch: 8, [batch: 2520 / 12600], examples_per_second: 1779.7613, train_label_loss: 0.4007, \n"
     ]
    },
    {
     "name": "stdout",
     "output_type": "stream",
     "text": [
      "epoch: 8, [batch: 3780 / 12600], examples_per_second: 1756.2315, train_label_loss: 0.5360, \n"
     ]
    },
    {
     "name": "stdout",
     "output_type": "stream",
     "text": [
      "epoch: 8, [batch: 5040 / 12600], examples_per_second: 2353.5765, train_label_loss: 0.2600, \n"
     ]
    },
    {
     "name": "stdout",
     "output_type": "stream",
     "text": [
      "epoch: 8, [batch: 6300 / 12600], examples_per_second: 3839.4791, train_label_loss: 0.4668, \n"
     ]
    },
    {
     "name": "stdout",
     "output_type": "stream",
     "text": [
      "epoch: 8, [batch: 7560 / 12600], examples_per_second: 1927.8648, train_label_loss: 0.5910, \n"
     ]
    },
    {
     "name": "stdout",
     "output_type": "stream",
     "text": [
      "epoch: 8, [batch: 8820 / 12600], examples_per_second: 1810.1788, train_label_loss: 0.3417, \n"
     ]
    },
    {
     "name": "stdout",
     "output_type": "stream",
     "text": [
      "epoch: 8, [batch: 10080 / 12600], examples_per_second: 3462.4450, train_label_loss: 0.6032, \n"
     ]
    },
    {
     "name": "stdout",
     "output_type": "stream",
     "text": [
      "epoch: 8, [batch: 11340 / 12600], examples_per_second: 2497.6986, train_label_loss: 0.3703, \n"
     ]
    },
    {
     "name": "stdout",
     "output_type": "stream",
     "text": [
      "=============================================================\n",
      "epoch: 8, source_val_acc_label: 0.6853, target_val_acc_label: 0.6022, source_val_label_loss: 0.9332, target_val_label_loss: 1.1563, \n",
      "=============================================================\n"
     ]
    },
    {
     "name": "stdout",
     "output_type": "stream",
     "text": [
      "epoch: 9, [batch: 1 / 12600], examples_per_second: 0.7423, train_label_loss: 0.3925, \n"
     ]
    },
    {
     "name": "stdout",
     "output_type": "stream",
     "text": [
      "epoch: 9, [batch: 1260 / 12600], examples_per_second: 2895.3125, train_label_loss: 0.0998, \n"
     ]
    },
    {
     "name": "stdout",
     "output_type": "stream",
     "text": [
      "epoch: 9, [batch: 2520 / 12600], examples_per_second: 1828.1036, train_label_loss: 0.2893, \n"
     ]
    },
    {
     "name": "stdout",
     "output_type": "stream",
     "text": [
      "epoch: 9, [batch: 3780 / 12600], examples_per_second: 1783.4461, train_label_loss: 0.2380, \n"
     ]
    },
    {
     "name": "stdout",
     "output_type": "stream",
     "text": [
      "epoch: 9, [batch: 5040 / 12600], examples_per_second: 1728.0716, train_label_loss: 0.5254, \n"
     ]
    },
    {
     "name": "stdout",
     "output_type": "stream",
     "text": [
      "epoch: 9, [batch: 6300 / 12600], examples_per_second: 2432.2700, train_label_loss: 0.3967, \n"
     ]
    },
    {
     "name": "stdout",
     "output_type": "stream",
     "text": [
      "epoch: 9, [batch: 7560 / 12600], examples_per_second: 3841.8947, train_label_loss: 0.2278, \n"
     ]
    },
    {
     "name": "stdout",
     "output_type": "stream",
     "text": [
      "epoch: 9, [batch: 8820 / 12600], examples_per_second: 1817.3763, train_label_loss: 0.2759, \n"
     ]
    },
    {
     "name": "stdout",
     "output_type": "stream",
     "text": [
      "epoch: 9, [batch: 10080 / 12600], examples_per_second: 1794.9832, train_label_loss: 0.2713, \n"
     ]
    },
    {
     "name": "stdout",
     "output_type": "stream",
     "text": [
      "epoch: 9, [batch: 11340 / 12600], examples_per_second: 1793.8930, train_label_loss: 0.4127, \n"
     ]
    },
    {
     "name": "stdout",
     "output_type": "stream",
     "text": [
      "=============================================================\n",
      "epoch: 9, source_val_acc_label: 0.6841, target_val_acc_label: 0.5978, source_val_label_loss: 0.9893, target_val_label_loss: 1.2064, \n",
      "=============================================================\n"
     ]
    },
    {
     "name": "stdout",
     "output_type": "stream",
     "text": [
      "epoch: 10, [batch: 1 / 12600], examples_per_second: 0.9725, train_label_loss: 0.2751, \n"
     ]
    },
    {
     "name": "stdout",
     "output_type": "stream",
     "text": [
      "epoch: 10, [batch: 1260 / 12600], examples_per_second: 1781.0403, train_label_loss: 0.3871, \n"
     ]
    },
    {
     "name": "stdout",
     "output_type": "stream",
     "text": [
      "epoch: 10, [batch: 2520 / 12600], examples_per_second: 1959.2439, train_label_loss: 0.2095, \n"
     ]
    },
    {
     "name": "stdout",
     "output_type": "stream",
     "text": [
      "epoch: 10, [batch: 3780 / 12600], examples_per_second: 3811.2760, train_label_loss: 0.3852, \n"
     ]
    },
    {
     "name": "stdout",
     "output_type": "stream",
     "text": [
      "epoch: 10, [batch: 5040 / 12600], examples_per_second: 2119.1415, train_label_loss: 0.3093, \n"
     ]
    },
    {
     "name": "stdout",
     "output_type": "stream",
     "text": [
      "epoch: 10, [batch: 6300 / 12600], examples_per_second: 1799.4331, train_label_loss: 0.2645, \n"
     ]
    },
    {
     "name": "stdout",
     "output_type": "stream",
     "text": [
      "epoch: 10, [batch: 7560 / 12600], examples_per_second: 1792.1395, train_label_loss: 0.1187, \n"
     ]
    },
    {
     "name": "stdout",
     "output_type": "stream",
     "text": [
      "epoch: 10, [batch: 8820 / 12600], examples_per_second: 1785.7279, train_label_loss: 0.1622, \n"
     ]
    },
    {
     "name": "stdout",
     "output_type": "stream",
     "text": [
      "epoch: 10, [batch: 10080 / 12600], examples_per_second: 1758.1530, train_label_loss: 0.1975, \n"
     ]
    },
    {
     "name": "stdout",
     "output_type": "stream",
     "text": [
      "epoch: 10, [batch: 11340 / 12600], examples_per_second: 1798.1210, train_label_loss: 0.5649, \n"
     ]
    },
    {
     "name": "stdout",
     "output_type": "stream",
     "text": [
      "=============================================================\n",
      "epoch: 10, source_val_acc_label: 0.6788, target_val_acc_label: 0.5936, source_val_label_loss: 1.0435, target_val_label_loss: 1.2752, \n",
      "=============================================================\n"
     ]
    },
    {
     "name": "stdout",
     "output_type": "stream",
     "text": [
      "Patience (3) exhausted\n"
     ]
    }
   ],
   "source": [
    "###################################\n",
    "# train\n",
    "###################################\n",
    "jig = PTN_Train_Eval_Test_Jig(model, p.BEST_MODEL_PATH, p.device)\n",
    "\n",
    "jig.train(\n",
    "    train_iterable=datasets.source.processed.train,\n",
    "    source_val_iterable=datasets.source.processed.val,\n",
    "    target_val_iterable=datasets.target.processed.val,\n",
    "    num_epochs=p.n_epoch,\n",
    "    num_logs_per_epoch=p.NUM_LOGS_PER_EPOCH,\n",
    "    patience=p.patience,\n",
    "    optimizer=optimizer,\n",
    "    criteria_for_best=p.criteria_for_best,\n",
    ")"
   ]
  },
  {
   "cell_type": "code",
   "execution_count": 14,
   "id": "31e8fabf",
   "metadata": {
    "execution": {
     "iopub.execute_input": "2022-03-26T11:55:39.511871Z",
     "iopub.status.busy": "2022-03-26T11:55:39.511184Z",
     "iopub.status.idle": "2022-03-26T11:55:39.541846Z",
     "shell.execute_reply": "2022-03-26T11:55:39.540992Z"
    },
    "papermill": {
     "duration": 0.083386,
     "end_time": "2022-03-26T11:55:39.542032",
     "exception": false,
     "start_time": "2022-03-26T11:55:39.458646",
     "status": "completed"
    },
    "tags": []
   },
   "outputs": [],
   "source": [
    "total_experiment_time_secs = time.time() - start_time_secs"
   ]
  },
  {
   "cell_type": "code",
   "execution_count": 15,
   "id": "87b9595b",
   "metadata": {
    "execution": {
     "iopub.execute_input": "2022-03-26T11:55:39.654660Z",
     "iopub.status.busy": "2022-03-26T11:55:39.654041Z",
     "iopub.status.idle": "2022-03-26T12:04:59.939761Z",
     "shell.execute_reply": "2022-03-26T12:04:59.940447Z"
    },
    "papermill": {
     "duration": 560.343052,
     "end_time": "2022-03-26T12:04:59.940682",
     "exception": false,
     "start_time": "2022-03-26T11:55:39.597630",
     "status": "completed"
    },
    "tags": []
   },
   "outputs": [],
   "source": [
    "###################################\n",
    "# Evaluate the model\n",
    "###################################\n",
    "source_test_label_accuracy, source_test_label_loss = jig.test(datasets.source.processed.test)\n",
    "target_test_label_accuracy, target_test_label_loss = jig.test(datasets.target.processed.test)\n",
    "\n",
    "source_val_label_accuracy, source_val_label_loss = jig.test(datasets.source.processed.val)\n",
    "target_val_label_accuracy, target_val_label_loss = jig.test(datasets.target.processed.val)\n",
    "\n",
    "history = jig.get_history()\n",
    "\n",
    "total_epochs_trained = len(history[\"epoch_indices\"])\n",
    "\n",
    "val_dl = Iterable_Aggregator((datasets.source.original.val,datasets.target.original.val))\n",
    "\n",
    "confusion = ptn_confusion_by_domain_over_dataloader(model, p.device, val_dl)\n",
    "per_domain_accuracy = per_domain_accuracy_from_confusion(confusion)\n",
    "\n",
    "# Add a key to per_domain_accuracy for if it was a source domain\n",
    "for domain, accuracy in per_domain_accuracy.items():\n",
    "    per_domain_accuracy[domain] = {\n",
    "        \"accuracy\": accuracy,\n",
    "        \"source?\": domain in p.domains_source\n",
    "    }\n",
    "\n",
    "# Do an independent accuracy assesment JUST TO BE SURE!\n",
    "# _source_test_label_accuracy = independent_accuracy_assesment(model, datasets.source.processed.test, p.device)\n",
    "# _target_test_label_accuracy = independent_accuracy_assesment(model, datasets.target.processed.test, p.device)\n",
    "# _source_val_label_accuracy = independent_accuracy_assesment(model, datasets.source.processed.val, p.device)\n",
    "# _target_val_label_accuracy = independent_accuracy_assesment(model, datasets.target.processed.val, p.device)\n",
    "\n",
    "# assert(_source_test_label_accuracy == source_test_label_accuracy)\n",
    "# assert(_target_test_label_accuracy == target_test_label_accuracy)\n",
    "# assert(_source_val_label_accuracy == source_val_label_accuracy)\n",
    "# assert(_target_val_label_accuracy == target_val_label_accuracy)\n",
    "\n",
    "experiment = {\n",
    "    \"experiment_name\": p.experiment_name,\n",
    "    \"parameters\": dict(p),\n",
    "    \"results\": {\n",
    "        \"source_test_label_accuracy\": source_test_label_accuracy,\n",
    "        \"source_test_label_loss\": source_test_label_loss,\n",
    "        \"target_test_label_accuracy\": target_test_label_accuracy,\n",
    "        \"target_test_label_loss\": target_test_label_loss,\n",
    "        \"source_val_label_accuracy\": source_val_label_accuracy,\n",
    "        \"source_val_label_loss\": source_val_label_loss,\n",
    "        \"target_val_label_accuracy\": target_val_label_accuracy,\n",
    "        \"target_val_label_loss\": target_val_label_loss,\n",
    "        \"total_epochs_trained\": total_epochs_trained,\n",
    "        \"total_experiment_time_secs\": total_experiment_time_secs,\n",
    "        \"confusion\": confusion,\n",
    "        \"per_domain_accuracy\": per_domain_accuracy,\n",
    "    },\n",
    "    \"history\": history,\n",
    "    \"dataset_metrics\": get_dataset_metrics(datasets, \"ptn\"),\n",
    "}"
   ]
  },
  {
   "cell_type": "code",
   "execution_count": 16,
   "id": "54a21829",
   "metadata": {
    "execution": {
     "iopub.execute_input": "2022-03-26T12:05:00.046215Z",
     "iopub.status.busy": "2022-03-26T12:05:00.045840Z",
     "iopub.status.idle": "2022-03-26T12:05:00.291430Z",
     "shell.execute_reply": "2022-03-26T12:05:00.290611Z"
    },
    "papermill": {
     "duration": 0.297876,
     "end_time": "2022-03-26T12:05:00.291633",
     "exception": false,
     "start_time": "2022-03-26T12:04:59.993757",
     "status": "completed"
    },
    "tags": []
   },
   "outputs": [
    {
     "data": {
      "image/png": "[encoded data removed]",
      "text/plain": [
       "<Figure size 1080x504 with 1 Axes>"
      ]
     },
     "metadata": {
      "needs_background": "light"
     },
     "output_type": "display_data"
    }
   ],
   "source": [
    "ax = get_loss_curve(experiment)\n",
    "plt.show()"
   ]
  },
  {
   "cell_type": "code",
   "execution_count": 17,
   "id": "fd8a0f60",
   "metadata": {
    "execution": {
     "iopub.execute_input": "2022-03-26T12:05:00.406103Z",
     "iopub.status.busy": "2022-03-26T12:05:00.405723Z",
     "iopub.status.idle": "2022-03-26T12:05:00.784471Z",
     "shell.execute_reply": "2022-03-26T12:05:00.784093Z"
    },
    "papermill": {
     "duration": 0.43553,
     "end_time": "2022-03-26T12:05:00.784562",
     "exception": false,
     "start_time": "2022-03-26T12:05:00.349032",
     "status": "completed"
    },
    "tags": []
   },
   "outputs": [
    {
     "data": {
      "text/plain": [
       "<AxesSubplot:title={'center':'Results'}>"
      ]
     },
     "execution_count": 17,
     "metadata": {},
     "output_type": "execute_result"
    },
    {
     "data": {
      "image/png": "[encoded data removed]",
      "text/plain": [
       "<Figure size 1080x504 with 1 Axes>"
      ]
     },
     "metadata": {
      "needs_background": "light"
     },
     "output_type": "display_data"
    }
   ],
   "source": [
    "get_results_table(experiment)"
   ]
  },
  {
   "cell_type": "code",
   "execution_count": 18,
   "id": "cf8dc689",
   "metadata": {
    "execution": {
     "iopub.execute_input": "2022-03-26T12:05:00.891501Z",
     "iopub.status.busy": "2022-03-26T12:05:00.890944Z",
     "iopub.status.idle": "2022-03-26T12:05:01.125935Z",
     "shell.execute_reply": "2022-03-26T12:05:01.125576Z"
    },
    "papermill": {
     "duration": 0.289292,
     "end_time": "2022-03-26T12:05:01.126014",
     "exception": false,
     "start_time": "2022-03-26T12:05:00.836722",
     "status": "completed"
    },
    "tags": []
   },
   "outputs": [
    {
     "data": {
      "text/plain": [
       "<AxesSubplot:title={'center':'Per Domain Validation Accuracy'}, xlabel='domain'>"
      ]
     },
     "execution_count": 18,
     "metadata": {},
     "output_type": "execute_result"
    },
    {
     "data": {
      "image/png": "[encoded data removed]",
      "text/plain": [
       "<Figure size 1080x504 with 1 Axes>"
      ]
     },
     "metadata": {
      "needs_background": "light"
     },
     "output_type": "display_data"
    }
   ],
   "source": [
    "get_domain_accuracies(experiment)"
   ]
  },
  {
   "cell_type": "code",
   "execution_count": 19,
   "id": "a74ae082",
   "metadata": {
    "execution": {
     "iopub.execute_input": "2022-03-26T12:05:01.235196Z",
     "iopub.status.busy": "2022-03-26T12:05:01.234821Z",
     "iopub.status.idle": "2022-03-26T12:05:01.261520Z",
     "shell.execute_reply": "2022-03-26T12:05:01.261198Z"
    },
    "papermill": {
     "duration": 0.083171,
     "end_time": "2022-03-26T12:05:01.261593",
     "exception": false,
     "start_time": "2022-03-26T12:05:01.178422",
     "status": "completed"
    },
    "tags": []
   },
   "outputs": [
    {
     "name": "stdout",
     "output_type": "stream",
     "text": [
      "Source Test Label Accuracy: 0.6971527777777777 Target Test Label Accuracy: 0.6172083333333334\n",
      "Source Val Label Accuracy: 0.6972222222222222 Target Val Label Accuracy: 0.6196458333333333\n"
     ]
    }
   ],
   "source": [
    "print(\"Source Test Label Accuracy:\", experiment[\"results\"][\"source_test_label_accuracy\"], \"Target Test Label Accuracy:\", experiment[\"results\"][\"target_test_label_accuracy\"])\n",
    "print(\"Source Val Label Accuracy:\", experiment[\"results\"][\"source_val_label_accuracy\"], \"Target Val Label Accuracy:\", experiment[\"results\"][\"target_val_label_accuracy\"])"
   ]
  },
  {
   "cell_type": "code",
   "execution_count": 20,
   "id": "dacca602",
   "metadata": {
    "execution": {
     "iopub.execute_input": "2022-03-26T12:05:01.370616Z",
     "iopub.status.busy": "2022-03-26T12:05:01.370243Z",
     "iopub.status.idle": "2022-03-26T12:05:01.396623Z",
     "shell.execute_reply": "2022-03-26T12:05:01.396294Z"
    },
    "papermill": {
     "duration": 0.082745,
     "end_time": "2022-03-26T12:05:01.396700",
     "exception": false,
     "start_time": "2022-03-26T12:05:01.313955",
     "status": "completed"
    },
    "tags": [
     "experiment_json"
    ]
   },
   "outputs": [
    {
     "data": {
      "text/plain": [
       "'{\"experiment_name\": \"tuned_1v2:oracle.run1_limited\", \"parameters\": {\"experiment_name\": \"tuned_1v2:oracle.run1_limited\", \"device\": \"cuda\", \"lr\": 0.0001, \"labels_source\": [\"3123D52\", \"3123D65\", \"3123D79\", \"3123D80\", \"3123D54\", \"3123D70\", \"3123D7B\", \"3123D89\", \"3123D58\", \"3123D76\", \"3123D7D\", \"3123EFE\", \"3123D64\", \"3123D78\", \"3123D7E\", \"3124E4A\"], \"labels_target\": [\"3123D52\", \"3123D65\", \"3123D79\", \"3123D80\", \"3123D54\", \"3123D70\", \"3123D7B\", \"3123D89\", \"3123D58\", \"3123D76\", \"3123D7D\", \"3123EFE\", \"3123D64\", \"3123D78\", \"3123D7E\", \"3124E4A\"], \"episode_transforms_source\": [], \"episode_transforms_target\": [], \"domains_source\": [8, 32, 50], \"domains_target\": [14, 20, 26, 38, 44], \"num_examples_per_domain_per_label_source\": -1, \"num_examples_per_domain_per_label_target\": -1, \"n_shot\": 3, \"n_way\": 16, \"n_query\": 2, \"train_k_factor\": 3, \"val_k_factor\": 2, \"test_k_factor\": 2, \"torch_default_dtype\": \"torch.float32\", \"n_epoch\": 50, \"patience\": 3, \"criteria_for_best\": \"target_accuracy\", \"x_net\": [{\"class\": \"nnReshape\", \"kargs\": {\"shape\": [-1, 1, 2, 256]}}, {\"class\": \"Conv2d\", \"kargs\": {\"in_channels\": 1, \"out_channels\": 256, \"kernel_size\": [1, 7], \"bias\": false, \"padding\": [0, 3]}}, {\"class\": \"ReLU\", \"kargs\": {\"inplace\": true}}, {\"class\": \"BatchNorm2d\", \"kargs\": {\"num_features\": 256}}, {\"class\": \"Conv2d\", \"kargs\": {\"in_channels\": 256, \"out_channels\": 80, \"kernel_size\": [2, 7], \"bias\": true, \"padding\": [0, 3]}}, {\"class\": \"ReLU\", \"kargs\": {\"inplace\": true}}, {\"class\": \"BatchNorm2d\", \"kargs\": {\"num_features\": 80}}, {\"class\": \"Flatten\", \"kargs\": {}}, {\"class\": \"Linear\", \"kargs\": {\"in_features\": 20480, \"out_features\": 256}}, {\"class\": \"ReLU\", \"kargs\": {\"inplace\": true}}, {\"class\": \"BatchNorm1d\", \"kargs\": {\"num_features\": 256}}, {\"class\": \"Linear\", \"kargs\": {\"in_features\": 256, \"out_features\": 256}}], \"NUM_LOGS_PER_EPOCH\": 10, \"BEST_MODEL_PATH\": \"./best_model.pth\", \"pickle_name\": \"oracle.Run1_10kExamples_stratified_ds.2022A.pkl\", \"x_transforms_source\": [\"unit_power\"], \"x_transforms_target\": [\"unit_power\"], \"dataset_seed\": 7, \"seed\": 7}, \"results\": {\"source_test_label_accuracy\": 0.6971527777777777, \"source_test_label_loss\": 0.8953852653503418, \"target_test_label_accuracy\": 0.6172083333333334, \"target_test_label_loss\": 1.088593602180481, \"source_val_label_accuracy\": 0.6972222222222222, \"source_val_label_loss\": 0.8951316475868225, \"target_val_label_accuracy\": 0.6196458333333333, \"target_val_label_loss\": 1.0890096426010132, \"total_epochs_trained\": 10, \"total_experiment_time_secs\": 5907.385920286179, \"confusion\": {\"50\": {\"0\": {\"0\": 1022, \"10\": 48, \"2\": 124, \"13\": 3, \"5\": 1, \"6\": 2}, \"4\": {\"6\": 184, \"4\": 478, \"1\": 204, \"13\": 20, \"7\": 25, \"15\": 194, \"5\": 91, \"0\": 1, \"11\": 1, \"14\": 2}, \"14\": {\"14\": 1166, \"12\": 22, \"11\": 12}, \"12\": {\"12\": 1084, \"9\": 68, \"14\": 41, \"11\": 7}, \"8\": {\"8\": 1169, \"3\": 11, \"10\": 20}, \"7\": {\"7\": 694, \"10\": 35, \"13\": 278, \"5\": 187, \"4\": 3, \"6\": 2, \"0\": 1}, \"13\": {\"7\": 242, \"13\": 617, \"5\": 249, \"6\": 69, \"10\": 9, \"0\": 2, \"4\": 12}, \"5\": {\"5\": 308, \"7\": 272, \"6\": 208, \"13\": 254, \"4\": 104, \"1\": 27, \"0\": 3, \"10\": 19, \"2\": 1, \"15\": 4}, \"15\": {\"15\": 799, \"4\": 122, \"5\": 1, \"6\": 17, \"1\": 233, \"11\": 27, \"9\": 1}, \"10\": {\"10\": 1076, \"0\": 51, \"13\": 20, \"5\": 5, \"7\": 31, \"8\": 17}, \"3\": {\"3\": 1174, \"8\": 26}, \"9\": {\"9\": 881, \"11\": 199, \"12\": 114, \"14\": 6}, \"6\": {\"4\": 195, \"13\": 71, \"6\": 679, \"5\": 123, \"1\": 113, \"15\": 15, \"7\": 3, \"2\": 1}, \"1\": {\"1\": 657, \"6\": 110, \"15\": 272, \"4\": 150, \"5\": 3, \"14\": 2, \"11\": 2, \"2\": 3, \"13\": 1}, \"11\": {\"11\": 992, \"9\": 131, \"15\": 35, \"14\": 32, \"12\": 10}, \"2\": {\"2\": 1105, \"0\": 94, \"6\": 1}}, \"8\": {\"1\": {\"14\": 70, \"1\": 726, \"11\": 349, \"10\": 25, \"6\": 1, \"5\": 25, \"8\": 2, \"4\": 1, \"13\": 1}, \"11\": {\"11\": 702, \"1\": 435, \"5\": 20, \"4\": 7, \"14\": 18, \"8\": 15, \"10\": 2, \"6\": 1}, \"3\": {\"3\": 926, \"12\": 119, \"2\": 148, \"15\": 7}, \"6\": {\"8\": 13, \"6\": 670, \"7\": 230, \"4\": 130, \"13\": 43, \"0\": 100, \"14\": 14}, \"7\": {\"7\": 898, \"6\": 232, \"8\": 16, \"0\": 46, \"13\": 1, \"4\": 4, \"15\": 2, \"2\": 1}, \"5\": {\"5\": 1036, \"10\": 75, \"1\": 60, \"11\": 18, \"14\": 11}, \"2\": {\"3\": 202, \"2\": 907, \"12\": 22, \"15\": 47, \"7\": 22}, \"15\": {\"12\": 291, \"15\": 784, \"8\": 85, \"2\": 19, \"3\": 11, \"7\": 10}, \"10\": {\"10\": 784, \"1\": 10, \"14\": 231, \"5\": 32, \"13\": 89, \"4\": 46, \"11\": 2, \"0\": 6}, \"13\": {\"13\": 416, \"6\": 52, \"14\": 101, \"0\": 292, \"4\": 192, \"10\": 128, \"1\": 5, \"7\": 12, \"5\": 2}, \"8\": {\"8\": 1110, \"15\": 47, \"11\": 2, \"6\": 19, \"7\": 12, \"4\": 1, \"12\": 9}, \"4\": {\"4\": 543, \"13\": 224, \"14\": 184, \"6\": 144, \"0\": 72, \"10\": 24, \"7\": 3, \"1\": 1, \"8\": 3, \"11\": 2}, \"9\": {\"9\": 1200}, \"14\": {\"14\": 590, \"1\": 67, \"10\": 224, \"4\": 190, \"13\": 93, \"11\": 19, \"0\": 6, \"6\": 8, \"7\": 1, \"5\": 2}, \"0\": {\"13\": 247, \"0\": 676, \"7\": 104, \"6\": 90, \"10\": 17, \"4\": 65, \"14\": 1}, \"12\": {\"8\": 34, \"15\": 375, \"12\": 536, \"3\": 227, \"2\": 28}}, \"32\": {\"15\": {\"15\": 1180, \"8\": 15, \"3\": 5}, \"11\": {\"3\": 28, \"11\": 851, \"14\": 248, \"7\": 36, \"13\": 27, \"5\": 10}, \"10\": {\"10\": 1194, \"1\": 6}, \"14\": {\"7\": 219, \"2\": 10, \"14\": 430, \"11\": 354, \"13\": 81, \"5\": 44, \"8\": 5, \"0\": 23, \"4\": 29, \"3\": 5}, \"6\": {\"6\": 1198, \"10\": 2}, \"4\": {\"0\": 147, \"2\": 216, \"4\": 559, \"7\": 137, \"5\": 89, \"13\": 38, \"14\": 9, \"8\": 5}, \"13\": {\"5\": 300, \"8\": 115, \"13\": 416, \"3\": 72, \"0\": 46, \"4\": 49, \"7\": 115, \"11\": 25, \"14\": 62}, \"3\": {\"3\": 1077, \"8\": 15, \"11\": 39, \"13\": 41, \"5\": 20, \"14\": 8}, \"7\": {\"14\": 198, \"7\": 470, \"5\": 142, \"13\": 105, \"4\": 168, \"0\": 29, \"2\": 43, \"11\": 40, \"8\": 3, \"3\": 2}, \"8\": {\"0\": 99, \"8\": 847, \"5\": 94, \"13\": 128, \"3\": 15, \"7\": 5, \"4\": 8, \"14\": 2, \"15\": 2}, \"1\": {\"1\": 1195, \"10\": 5}, \"5\": {\"13\": 317, \"7\": 123, \"14\": 43, \"4\": 145, \"5\": 312, \"3\": 50, \"2\": 9, \"0\": 64, \"8\": 106, \"11\": 31}, \"0\": {\"0\": 656, \"4\": 184, \"7\": 49, \"8\": 109, \"2\": 65, \"5\": 74, \"13\": 45, \"14\": 18}, \"2\": {\"2\": 975, \"4\": 166, \"0\": 36, \"7\": 19, \"14\": 3, \"5\": 1}, \"12\": {\"12\": 1199, \"9\": 1}, \"9\": {\"9\": 1196, \"12\": 3, \"2\": 1}}, \"26\": {\"0\": {\"4\": 185, \"0\": 279, \"10\": 255, \"1\": 83, \"14\": 169, \"8\": 117, \"3\": 4, \"7\": 44, \"15\": 8, \"6\": 34, \"9\": 19, \"2\": 2, \"5\": 1}, \"4\": {\"1\": 157, \"4\": 340, \"8\": 112, \"10\": 68, \"0\": 154, \"2\": 4, \"14\": 227, \"7\": 121, \"9\": 6, \"15\": 5, \"3\": 6}, \"14\": {\"14\": 356, \"1\": 270, \"4\": 196, \"10\": 103, \"8\": 40, \"7\": 30, \"0\": 201, \"9\": 2, \"6\": 1, \"15\": 1}, \"12\": {\"12\": 1194, \"11\": 6}, \"8\": {\"9\": 126, \"2\": 32, \"0\": 116, \"8\": 368, \"3\": 10, \"1\": 6, \"10\": 170, \"7\": 100, \"6\": 54, \"15\": 83, \"4\": 87, \"14\": 29, \"5\": 17, \"13\": 2}, \"7\": {\"3\": 213, \"2\": 172, \"7\": 517, \"8\": 83, \"4\": 107, \"0\": 21, \"15\": 24, \"1\": 14, \"14\": 26, \"5\": 7, \"9\": 11, \"10\": 5}, \"13\": {\"13\": 768, \"9\": 29, \"6\": 33, \"5\": 248, \"15\": 92, \"2\": 26, \"3\": 2, \"8\": 2}, \"5\": {\"15\": 228, \"5\": 549, \"13\": 190, \"8\": 22, \"9\": 120, \"10\": 1, \"7\": 7, \"6\": 15, \"2\": 61, \"4\": 1, \"3\": 4, \"0\": 2}, \"15\": {\"15\": 345, \"6\": 44, \"5\": 262, \"8\": 104, \"9\": 255, \"13\": 98, \"10\": 15, \"7\": 18, \"2\": 37, \"3\": 6, \"0\": 9, \"14\": 2, \"4\": 5}, \"10\": {\"0\": 238, \"8\": 140, \"6\": 99, \"10\": 426, \"14\": 123, \"9\": 55, \"4\": 58, \"1\": 41, \"15\": 11, \"5\": 2, \"7\": 7}, \"3\": {\"7\": 229, \"2\": 325, \"3\": 610, \"4\": 14, \"0\": 3, \"9\": 2, \"15\": 4, \"8\": 7, \"1\": 2, \"10\": 1, \"14\": 1, \"5\": 2}, \"9\": {\"15\": 265, \"8\": 142, \"4\": 3, \"6\": 172, \"5\": 93, \"9\": 389, \"7\": 10, \"13\": 47, \"0\": 14, \"10\": 52, \"2\": 12, \"14\": 1}, \"6\": {\"6\": 775, \"15\": 50, \"8\": 32, \"0\": 28, \"9\": 172, \"10\": 108, \"5\": 9, \"13\": 23, \"4\": 1, \"7\": 1, \"1\": 1}, \"1\": {\"4\": 162, \"14\": 271, \"1\": 590, \"7\": 28, \"8\": 14, \"0\": 99, \"3\": 2, \"10\": 33, \"6\": 1}, \"11\": {\"11\": 1184, \"12\": 16}, \"2\": {\"2\": 421, \"15\": 75, \"3\": 371, \"7\": 132, \"8\": 43, \"5\": 105, \"14\": 2, \"13\": 9, \"9\": 32, \"10\": 3, \"0\": 1, \"4\": 4, \"1\": 2}}, \"44\": {\"1\": {\"12\": 269, \"1\": 609, \"3\": 161, \"2\": 56, \"10\": 104, \"7\": 1}, \"11\": {\"11\": 1046, \"13\": 98, \"6\": 54, \"7\": 1, \"9\": 1}, \"3\": {\"3\": 1055, \"1\": 125, \"12\": 19, \"2\": 1}, \"6\": {\"9\": 109, \"6\": 818, \"11\": 48, \"13\": 183, \"7\": 38, \"2\": 4}, \"7\": {\"7\": 710, \"9\": 235, \"2\": 185, \"6\": 53, \"13\": 4, \"1\": 6, \"3\": 6, \"10\": 1}, \"5\": {\"5\": 985, \"0\": 110, \"8\": 19, \"14\": 37, \"15\": 46, \"4\": 3}, \"2\": {\"2\": 848, \"7\": 168, \"1\": 60, \"10\": 109, \"3\": 7, \"9\": 5, \"6\": 3}, \"15\": {\"15\": 957, \"14\": 105, \"0\": 85, \"5\": 34, \"8\": 7, \"4\": 12}, \"10\": {\"10\": 862, \"1\": 106, \"12\": 112, \"7\": 2, \"2\": 114, \"3\": 4}, \"13\": {\"13\": 715, \"9\": 149, \"11\": 73, \"6\": 240, \"4\": 9, \"7\": 13, \"14\": 1}, \"8\": {\"8\": 726, \"0\": 408, \"15\": 36, \"5\": 30}, \"4\": {\"4\": 843, \"14\": 348, \"5\": 2, \"15\": 7}, \"9\": {\"9\": 698, \"13\": 149, \"6\": 93, \"7\": 236, \"2\": 18, \"3\": 4, \"4\": 2}, \"14\": {\"14\": 744, \"4\": 350, \"15\": 77, \"5\": 29}, \"0\": {\"0\": 718, \"8\": 321, \"5\": 95, \"15\": 66}, \"12\": {\"12\": 833, \"1\": 255, \"10\": 94, \"3\": 17, \"2\": 1}}, \"20\": {\"15\": {\"15\": 657, \"1\": 224, \"0\": 116, \"13\": 52, \"5\": 95, \"12\": 32, \"3\": 8, \"2\": 6, \"9\": 10}, \"4\": {\"4\": 790, \"10\": 48, \"8\": 218, \"14\": 3, \"3\": 84, \"12\": 20, \"0\": 4, \"9\": 12, \"5\": 10, \"7\": 8, \"1\": 2, \"2\": 1}, \"6\": {\"6\": 957, \"14\": 178, \"7\": 38, \"11\": 3, \"8\": 14, \"10\": 9, \"2\": 1}, \"2\": {\"3\": 106, \"7\": 156, \"9\": 296, \"2\": 427, \"12\": 64, \"13\": 112, \"8\": 13, \"0\": 7, \"4\": 2, \"1\": 11, \"15\": 2, \"5\": 4}, \"5\": {\"1\": 259, \"0\": 265, \"15\": 108, \"5\": 318, \"12\": 156, \"3\": 58, \"9\": 20, \"2\": 6, \"7\": 2, \"4\": 6, \"13\": 2}, \"9\": {\"13\": 51, \"7\": 104, \"15\": 5, \"9\": 368, \"4\": 14, \"2\": 288, \"3\": 185, \"12\": 122, \"8\": 18, \"1\": 21, \"0\": 8, \"5\": 16}, \"8\": {\"10\": 115, \"8\": 634, \"4\": 202, \"7\": 126, \"9\": 20, \"2\": 11, \"14\": 39, \"6\": 13, \"3\": 36, \"12\": 4}, \"12\": {\"12\": 330, \"9\": 114, \"3\": 228, \"2\": 61, \"8\": 5, \"0\": 80, \"5\": 164, \"15\": 32, \"13\": 20, \"4\": 19, \"1\": 141, \"7\": 6}, \"10\": {\"8\": 112, \"4\": 50, \"10\": 774, \"14\": 240, \"6\": 17, \"7\": 7}, \"1\": {\"0\": 152, \"9\": 18, \"5\": 239, \"15\": 260, \"1\": 337, \"12\": 137, \"13\": 20, \"3\": 27, \"2\": 7, \"4\": 2, \"8\": 1}, \"0\": {\"0\": 438, \"12\": 94, \"5\": 270, \"15\": 140, \"3\": 55, \"4\": 15, \"1\": 154, \"9\": 18, \"8\": 3, \"2\": 12, \"13\": 1}, \"3\": {\"9\": 198, \"3\": 382, \"12\": 227, \"1\": 36, \"2\": 86, \"8\": 42, \"4\": 90, \"0\": 33, \"7\": 59, \"5\": 37, \"15\": 3, \"13\": 6, \"10\": 1}, \"13\": {\"13\": 973, \"1\": 13, \"9\": 36, \"2\": 108, \"0\": 2, \"12\": 14, \"5\": 7, \"15\": 38, \"3\": 3, \"7\": 6}, \"11\": {\"11\": 1188, \"7\": 6, \"6\": 4, \"2\": 1, \"13\": 1}, \"7\": {\"7\": 705, \"2\": 183, \"12\": 8, \"8\": 108, \"9\": 92, \"13\": 5, \"11\": 2, \"6\": 38, \"3\": 43, \"14\": 2, \"10\": 7, \"4\": 6, \"5\": 1}, \"14\": {\"14\": 736, \"6\": 182, \"10\": 236, \"8\": 39, \"7\": 4, \"4\": 3}}, \"38\": {\"15\": {\"13\": 352, \"15\": 646, \"1\": 122, \"10\": 16, \"8\": 41, \"5\": 20, \"0\": 3}, \"11\": {\"11\": 774, \"14\": 369, \"10\": 8, \"12\": 36, \"2\": 12, \"4\": 1}, \"10\": {\"10\": 853, \"12\": 102, \"14\": 19, \"13\": 93, \"7\": 8, \"5\": 6, \"8\": 60, \"0\": 24, \"11\": 6, \"15\": 26, \"2\": 1, \"4\": 2}, \"14\": {\"14\": 842, \"11\": 267, \"12\": 10, \"2\": 64, \"10\": 13, \"13\": 4}, \"6\": {\"9\": 308, \"6\": 876, \"5\": 16}, \"4\": {\"4\": 1133, \"12\": 66, \"10\": 1}, \"13\": {\"13\": 675, \"15\": 359, \"1\": 20, \"10\": 74, \"8\": 25, \"5\": 8, \"2\": 31, \"0\": 2, \"14\": 6}, \"3\": {\"3\": 1022, \"9\": 99, \"7\": 37, \"0\": 21, \"5\": 7, \"6\": 13, \"8\": 1}, \"7\": {\"7\": 887, \"0\": 219, \"8\": 35, \"5\": 41, \"3\": 16, \"4\": 2}, \"8\": {\"5\": 287, \"8\": 612, \"0\": 168, \"13\": 10, \"10\": 37, \"15\": 52, \"7\": 30, \"1\": 4}, \"1\": {\"1\": 1126, \"13\": 7, \"15\": 60, \"5\": 6, \"8\": 1}, \"5\": {\"5\": 489, \"8\": 290, \"7\": 80, \"0\": 142, \"3\": 31, \"15\": 42, \"9\": 23, \"6\": 65, \"1\": 19, \"10\": 10, \"13\": 9}, \"0\": {\"8\": 321, \"7\": 274, \"5\": 138, \"3\": 63, \"0\": 349, \"9\": 3, \"10\": 36, \"12\": 6, \"15\": 3, \"6\": 4, \"4\": 1, \"13\": 2}, \"2\": {\"2\": 1092, \"14\": 75, \"13\": 29, \"15\": 1, \"11\": 2, \"10\": 1}, \"12\": {\"12\": 1086, \"10\": 52, \"4\": 59, \"14\": 3}, \"9\": {\"6\": 419, \"9\": 678, \"3\": 77, \"5\": 18, \"0\": 6, \"1\": 2}}, \"14\": {\"0\": {\"0\": 881, \"10\": 239, \"3\": 28, \"11\": 50, \"8\": 2}, \"12\": {\"12\": 1195, \"9\": 5}, \"1\": {\"1\": 963, \"5\": 192, \"7\": 7, \"4\": 33, \"3\": 4, \"2\": 1}, \"4\": {\"4\": 674, \"2\": 113, \"3\": 165, \"14\": 12, \"5\": 190, \"1\": 40, \"6\": 4, \"13\": 2}, \"5\": {\"5\": 654, \"1\": 196, \"4\": 214, \"2\": 83, \"7\": 24, \"3\": 25, \"15\": 3, \"13\": 1}, \"3\": {\"3\": 895, \"4\": 190, \"1\": 3, \"14\": 51, \"2\": 25, \"0\": 17, \"10\": 8, \"5\": 10, \"6\": 1}, \"7\": {\"7\": 1111, \"15\": 71, \"1\": 12, \"5\": 5, \"2\": 1}, \"15\": {\"15\": 1073, \"7\": 121, \"5\": 4, \"2\": 2}, \"13\": {\"14\": 245, \"13\": 353, \"6\": 460, \"2\": 115, \"5\": 13, \"4\": 7, \"15\": 3, \"3\": 4}, \"10\": {\"10\": 970, \"0\": 215, \"11\": 6, \"14\": 3, \"3\": 5, \"13\": 1}, \"14\": {\"14\": 806, \"6\": 83, \"13\": 146, \"2\": 96, \"10\": 10, \"3\": 48, \"4\": 11}, \"6\": {\"6\": 628, \"13\": 374, \"14\": 92, \"2\": 100, \"4\": 3, \"3\": 1, \"5\": 2}, \"9\": {\"9\": 1183, \"11\": 12, \"12\": 5}, \"2\": {\"14\": 165, \"3\": 67, \"5\": 146, \"13\": 90, \"2\": 451, \"6\": 117, \"4\": 132, \"15\": 28, \"1\": 3, \"7\": 1}, \"8\": {\"8\": 1200}, \"11\": {\"11\": 1017, \"9\": 81, \"10\": 49, \"0\": 53}}}, \"per_domain_accuracy\": {\"50\": {\"accuracy\": 0.7240104166666667, \"source?\": true}, \"8\": {\"accuracy\": 0.65125, \"source?\": true}, \"32\": {\"accuracy\": 0.71640625, \"source?\": true}, \"26\": {\"accuracy\": 0.47453125, \"source?\": false}, \"44\": {\"accuracy\": 0.68578125, \"source?\": false}, \"20\": {\"accuracy\": 0.5215625, \"source?\": false}, \"38\": {\"accuracy\": 0.684375, \"source?\": false}, \"14\": {\"accuracy\": 0.7319791666666666, \"source?\": false}}}, \"history\": {\"epoch_indices\": [1, 2, 3, 4, 5, 6, 7, 8, 9, 10], \"train_label_loss\": [1.428644673918921, 0.929287736756461, 0.7635153455062518, 0.6704473725954692, 0.5876444722327685, 0.5090946157013495, 0.4434887894118826, 0.38459057426375765, 0.33354473348987834, 0.2901933868321782], \"source_val_label_loss\": [1.2091798782348633, 0.9026631116867065, 0.8805765509605408, 0.8558318018913269, 0.8643053770065308, 0.8951316475868225, 0.9193722009658813, 0.9332335591316223, 0.9893093109130859, 1.0434694290161133], \"target_val_label_loss\": [1.450620412826538, 1.1228761672973633, 1.0714905261993408, 1.0489126443862915, 1.080073356628418, 1.0890096426010132, 1.1269475221633911, 1.15629243850708, 1.2064225673675537, 1.2751505374908447], \"source_val_acc_label\": [0.5571006944444444, 0.6614930555555556, 0.67890625, 0.68859375, 0.6790104166666666, 0.6972222222222222, 0.6817881944444445, 0.6853125, 0.6841319444444445, 0.6788020833333334], \"target_val_acc_label\": [0.46561458333333333, 0.5772604166666667, 0.6041770833333333, 0.6088645833333334, 0.5977291666666666, 0.6196458333333333, 0.6038645833333334, 0.60215625, 0.5977916666666667, 0.5936145833333333]}, \"dataset_metrics\": {\"source\": {\"train\": {\"n_unique_x\": 336000, \"n_unique_y\": 16, \"n_batch/episode\": 12600}, \"val\": {\"n_unique_x\": 72000, \"n_unique_y\": 16, \"n_batch/episode\": 1800}, \"test\": {\"n_unique_x\": 72000, \"n_unique_y\": 16, \"n_batch/episode\": 1800}}, \"target\": {\"train\": {\"n_unique_x\": 560000, \"n_unique_y\": 16, \"n_batch/episode\": 21000}, \"val\": {\"n_unique_x\": 120000, \"n_unique_y\": 16, \"n_batch/episode\": 3000}, \"test\": {\"n_unique_x\": 120000, \"n_unique_y\": 16, \"n_batch/episode\": 3000}}}}'"
      ]
     },
     "execution_count": 20,
     "metadata": {},
     "output_type": "execute_result"
    }
   ],
   "source": [
    "json.dumps(experiment)"
   ]
  }
 ],
 "metadata": {
  "celltoolbar": "Tags",
  "kernelspec": {
   "display_name": "Python 3 (ipykernel)",
   "language": "python",
   "name": "python3"
  },
  "language_info": {
   "codemirror_mode": {
    "name": "ipython",
    "version": 3
   },
   "file_extension": ".py",
   "mimetype": "text/x-python",
   "name": "python",
   "nbconvert_exporter": "python",
   "pygments_lexer": "ipython3",
   "version": "3.8.12"
  },
  "papermill": {
   "default_parameters": {},
   "duration": 6476.446302,
   "end_time": "2022-03-26T12:05:05.177224",
   "environment_variables": {},
   "exception": null,
   "input_path": "/root/csc500-main/csc500-notebooks/templates/ptn_template.ipynb",
   "output_path": "trial.ipynb",
   "parameters": {
    "parameters": {
     "BEST_MODEL_PATH": "./best_model.pth",
     "NUM_LOGS_PER_EPOCH": 10,
     "criteria_for_best": "target_accuracy",
     "dataset_seed": 7,
     "device": "cuda",
     "domains_source": [
      8,
      32,
      50
     ],
     "domains_target": [
      14,
      20,
      26,
      38,
      44
     ],
     "episode_transforms_source": [],
     "episode_transforms_target": [],
     "experiment_name": "tuned_1v2:oracle.run1_limited",
     "labels_source": [
      "3123D52",
      "3123D65",
      "3123D79",
      "3123D80",
      "3123D54",
      "3123D70",
      "3123D7B",
      "3123D89",
      "3123D58",
      "3123D76",
      "3123D7D",
      "3123EFE",
      "3123D64",
      "3123D78",
      "3123D7E",
      "3124E4A"
     ],
     "labels_target": [
      "3123D52",
      "3123D65",
      "3123D79",
      "3123D80",
      "3123D54",
      "3123D70",
      "3123D7B",
      "3123D89",
      "3123D58",
      "3123D76",
      "3123D7D",
      "3123EFE",
      "3123D64",
      "3123D78",
      "3123D7E",
      "3124E4A"
     ],
     "lr": 0.0001,
     "n_epoch": 50,
     "n_query": 2,
     "n_shot": 3,
     "n_way": 16,
     "num_examples_per_domain_per_label_source": -1,
     "num_examples_per_domain_per_label_target": -1,
     "patience": 3,
     "pickle_name": "oracle.Run1_10kExamples_stratified_ds.2022A.pkl",
     "seed": 7,
     "test_k_factor": 2,
     "torch_default_dtype": "torch.float32",
     "train_k_factor": 3,
     "val_k_factor": 2,
     "x_net": [
      {
       "class": "nnReshape",
       "kargs": {
        "shape": [
         -1,
         1,
         2,
         256
        ]
       }
      },
      {
       "class": "Conv2d",
       "kargs": {
        "bias": false,
        "in_channels": 1,
        "kernel_size": [
         1,
         7
        ],
        "out_channels": 256,
        "padding": [
         0,
         3
        ]
       }
      },
      {
       "class": "ReLU",
       "kargs": {
        "inplace": true
       }
      },
      {
       "class": "BatchNorm2d",
       "kargs": {
        "num_features": 256
       }
      },
      {
       "class": "Conv2d",
       "kargs": {
        "bias": true,
        "in_channels": 256,
        "kernel_size": [
         2,
         7
        ],
        "out_channels": 80,
        "padding": [
         0,
         3
        ]
       }
      },
      {
       "class": "ReLU",
       "kargs": {
        "inplace": true
       }
      },
      {
       "class": "BatchNorm2d",
       "kargs": {
        "num_features": 80
       }
      },
      {
       "class": "Flatten",
       "kargs": {}
      },
      {
       "class": "Linear",
       "kargs": {
        "in_features": 20480,
        "out_features": 256
       }
      },
      {
       "class": "ReLU",
       "kargs": {
        "inplace": true
       }
      },
      {
       "class": "BatchNorm1d",
       "kargs": {
        "num_features": 256
       }
      },
      {
       "class": "Linear",
       "kargs": {
        "in_features": 256,
        "out_features": 256
       }
      }
     ],
     "x_transforms_source": [
      "unit_power"
     ],
     "x_transforms_target": [
      "unit_power"
     ]
    }
   },
   "start_time": "2022-03-26T10:17:08.730922",
   "version": "2.3.4"
  }
 },
 "nbformat": 4,
 "nbformat_minor": 5
}