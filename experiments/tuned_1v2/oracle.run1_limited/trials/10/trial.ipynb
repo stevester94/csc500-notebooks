{
 "cells": [
  {
   "cell_type": "markdown",
   "id": "9fea5f46",
   "metadata": {
    "papermill": {
     "duration": 0.014921,
     "end_time": "2022-04-01T22:28:24.978440",
     "exception": false,
     "start_time": "2022-04-01T22:28:24.963519",
     "status": "completed"
    },
    "tags": []
   },
   "source": [
    "# PTN Template\n",
    "This notebook serves as a template for single dataset PTN experiments  \n",
    "It can be run on its own by setting STANDALONE to True (do a find for \"STANDALONE\" to see where)  \n",
    "But it is intended to be executed as part of a *papermill.py script. See any of the   \n",
    "experimentes with a papermill script to get started with that workflow.  "
   ]
  },
  {
   "cell_type": "code",
   "execution_count": 1,
   "id": "0902182a",
   "metadata": {
    "execution": {
     "iopub.execute_input": "2022-04-01T22:28:25.011554Z",
     "iopub.status.busy": "2022-04-01T22:28:25.011069Z",
     "iopub.status.idle": "2022-04-01T22:28:25.911349Z",
     "shell.execute_reply": "2022-04-01T22:28:25.911103Z"
    },
    "papermill": {
     "duration": 0.922788,
     "end_time": "2022-04-01T22:28:25.911407",
     "exception": false,
     "start_time": "2022-04-01T22:28:24.988619",
     "status": "completed"
    },
    "tags": []
   },
   "outputs": [],
   "source": [
    "%load_ext autoreload\n",
    "%autoreload 2\n",
    "%matplotlib inline\n",
    "\n",
    "    \n",
    "import os, json, sys, time, random\n",
    "import numpy as np\n",
    "import torch\n",
    "from torch.optim import Adam\n",
    "from  easydict import EasyDict\n",
    "import matplotlib.pyplot as plt\n",
    "\n",
    "from steves_models.steves_ptn import Steves_Prototypical_Network\n",
    "\n",
    "from steves_utils.lazy_iterable_wrapper import Lazy_Iterable_Wrapper\n",
    "from steves_utils.iterable_aggregator import Iterable_Aggregator\n",
    "from steves_utils.ptn_train_eval_test_jig import  PTN_Train_Eval_Test_Jig\n",
    "from steves_utils.torch_sequential_builder import build_sequential\n",
    "from steves_utils.torch_utils import get_dataset_metrics, ptn_confusion_by_domain_over_dataloader\n",
    "from steves_utils.utils_v2 import (per_domain_accuracy_from_confusion, get_datasets_base_path)\n",
    "from steves_utils.PTN.utils import independent_accuracy_assesment\n",
    "\n",
    "from steves_utils.stratified_dataset.episodic_accessor import Episodic_Accessor_Factory\n",
    "\n",
    "from steves_utils.ptn_do_report import (\n",
    "    get_loss_curve,\n",
    "    get_results_table,\n",
    "    get_parameters_table,\n",
    "    get_domain_accuracies,\n",
    ")\n",
    "\n",
    "from steves_utils.transforms import get_chained_transform"
   ]
  },
  {
   "cell_type": "markdown",
   "id": "41c840b4",
   "metadata": {
    "papermill": {
     "duration": 0.009146,
     "end_time": "2022-04-01T22:28:25.929720",
     "exception": false,
     "start_time": "2022-04-01T22:28:25.920574",
     "status": "completed"
    },
    "tags": []
   },
   "source": [
    "# Required Parameters\n",
    "These are allowed parameters, not defaults\n",
    "Each of these values need to be present in the injected parameters (the notebook will raise an exception if they are not present)\n",
    "\n",
    "Papermill uses the cell tag \"parameters\" to inject the real parameters below this cell.\n",
    "Enable tags to see what I mean"
   ]
  },
  {
   "cell_type": "code",
   "execution_count": 2,
   "id": "fd44eb83",
   "metadata": {
    "execution": {
     "iopub.execute_input": "2022-04-01T22:28:25.950338Z",
     "iopub.status.busy": "2022-04-01T22:28:25.950076Z",
     "iopub.status.idle": "2022-04-01T22:28:25.960752Z",
     "shell.execute_reply": "2022-04-01T22:28:25.960544Z"
    },
    "papermill": {
     "duration": 0.021869,
     "end_time": "2022-04-01T22:28:25.960804",
     "exception": false,
     "start_time": "2022-04-01T22:28:25.938935",
     "status": "completed"
    },
    "tags": []
   },
   "outputs": [],
   "source": [
    "required_parameters = {\n",
    "    \"experiment_name\",\n",
    "    \"lr\",\n",
    "    \"device\",\n",
    "    \"seed\",\n",
    "    \"dataset_seed\",\n",
    "    \"labels_source\",\n",
    "    \"labels_target\",\n",
    "    \"domains_source\",\n",
    "    \"domains_target\",\n",
    "    \"num_examples_per_domain_per_label_source\",\n",
    "    \"num_examples_per_domain_per_label_target\",\n",
    "    \"n_shot\",\n",
    "    \"n_way\",\n",
    "    \"n_query\",\n",
    "    \"train_k_factor\",\n",
    "    \"val_k_factor\",\n",
    "    \"test_k_factor\",\n",
    "    \"n_epoch\",\n",
    "    \"patience\",\n",
    "    \"criteria_for_best\",\n",
    "    \"x_transforms_source\",\n",
    "    \"x_transforms_target\",\n",
    "    \"episode_transforms_source\",\n",
    "    \"episode_transforms_target\",\n",
    "    \"pickle_name\",\n",
    "    \"x_net\",\n",
    "    \"NUM_LOGS_PER_EPOCH\",\n",
    "    \"BEST_MODEL_PATH\",\n",
    "    \"torch_default_dtype\"\n",
    "}"
   ]
  },
  {
   "cell_type": "code",
   "execution_count": 3,
   "id": "fa3f0049",
   "metadata": {
    "execution": {
     "iopub.execute_input": "2022-04-01T22:28:25.990079Z",
     "iopub.status.busy": "2022-04-01T22:28:25.989788Z",
     "iopub.status.idle": "2022-04-01T22:28:26.001686Z",
     "shell.execute_reply": "2022-04-01T22:28:26.001395Z"
    },
    "papermill": {
     "duration": 0.026644,
     "end_time": "2022-04-01T22:28:26.001757",
     "exception": false,
     "start_time": "2022-04-01T22:28:25.975113",
     "status": "completed"
    },
    "tags": [
     "parameters"
    ]
   },
   "outputs": [],
   "source": [
    "\n",
    "\n",
    "standalone_parameters = {}\n",
    "standalone_parameters[\"experiment_name\"] = \"STANDALONE PTN\"\n",
    "standalone_parameters[\"lr\"] = 0.0001\n",
    "standalone_parameters[\"device\"] = \"cuda\"\n",
    "\n",
    "standalone_parameters[\"seed\"] = 1337\n",
    "standalone_parameters[\"dataset_seed\"] = 1337\n",
    "\n",
    "\n",
    "standalone_parameters[\"num_examples_per_domain_per_label_source\"]=100\n",
    "standalone_parameters[\"num_examples_per_domain_per_label_target\"]=100\n",
    "\n",
    "standalone_parameters[\"n_shot\"] = 3\n",
    "standalone_parameters[\"n_query\"]  = 2\n",
    "standalone_parameters[\"train_k_factor\"] = 1\n",
    "standalone_parameters[\"val_k_factor\"] = 2\n",
    "standalone_parameters[\"test_k_factor\"] = 2\n",
    "\n",
    "\n",
    "standalone_parameters[\"n_epoch\"] = 100\n",
    "\n",
    "standalone_parameters[\"patience\"] = 10\n",
    "standalone_parameters[\"criteria_for_best\"] = \"target_accuracy\"\n",
    "\n",
    "standalone_parameters[\"x_transforms_source\"] = [\"unit_power\"]\n",
    "standalone_parameters[\"x_transforms_target\"] = [\"unit_power\"]\n",
    "standalone_parameters[\"episode_transforms_source\"] = []\n",
    "standalone_parameters[\"episode_transforms_target\"] = []\n",
    "\n",
    "standalone_parameters[\"torch_default_dtype\"] = \"torch.float32\" \n",
    "\n",
    "\n",
    "\n",
    "standalone_parameters[\"x_net\"] =     [\n",
    "    {\"class\": \"nnReshape\", \"kargs\": {\"shape\":[-1, 1, 2, 256]}},\n",
    "    {\"class\": \"Conv2d\", \"kargs\": { \"in_channels\":1, \"out_channels\":256, \"kernel_size\":(1,7), \"bias\":False, \"padding\":(0,3), },},\n",
    "    {\"class\": \"ReLU\", \"kargs\": {\"inplace\": True}},\n",
    "    {\"class\": \"BatchNorm2d\", \"kargs\": {\"num_features\":256}},\n",
    "\n",
    "    {\"class\": \"Conv2d\", \"kargs\": { \"in_channels\":256, \"out_channels\":80, \"kernel_size\":(2,7), \"bias\":True, \"padding\":(0,3), },},\n",
    "    {\"class\": \"ReLU\", \"kargs\": {\"inplace\": True}},\n",
    "    {\"class\": \"BatchNorm2d\", \"kargs\": {\"num_features\":80}},\n",
    "    {\"class\": \"Flatten\", \"kargs\": {}},\n",
    "\n",
    "    {\"class\": \"Linear\", \"kargs\": {\"in_features\": 80*256, \"out_features\": 256}}, # 80 units per IQ pair\n",
    "    {\"class\": \"ReLU\", \"kargs\": {\"inplace\": True}},\n",
    "    {\"class\": \"BatchNorm1d\", \"kargs\": {\"num_features\":256}},\n",
    "\n",
    "    {\"class\": \"Linear\", \"kargs\": {\"in_features\": 256, \"out_features\": 256}},\n",
    "]\n",
    "\n",
    "# Parameters relevant to results\n",
    "# These parameters will basically never need to change\n",
    "standalone_parameters[\"NUM_LOGS_PER_EPOCH\"] = 10\n",
    "standalone_parameters[\"BEST_MODEL_PATH\"] = \"./best_model.pth\"\n",
    "\n",
    "# uncomment for CORES dataset\n",
    "from steves_utils.CORES.utils import (\n",
    "    ALL_NODES,\n",
    "    ALL_NODES_MINIMUM_1000_EXAMPLES,\n",
    "    ALL_DAYS\n",
    ")\n",
    "\n",
    "\n",
    "standalone_parameters[\"labels_source\"] = ALL_NODES\n",
    "standalone_parameters[\"labels_target\"] = ALL_NODES\n",
    "\n",
    "standalone_parameters[\"domains_source\"] = [1]\n",
    "standalone_parameters[\"domains_target\"] = [2,3,4,5]\n",
    "\n",
    "standalone_parameters[\"pickle_name\"] = \"cores.stratified_ds.2022A.pkl\"\n",
    "\n",
    "\n",
    "# Uncomment these for ORACLE dataset\n",
    "# from steves_utils.ORACLE.utils_v2 import (\n",
    "#     ALL_DISTANCES_FEET,\n",
    "#     ALL_RUNS,\n",
    "#     ALL_SERIAL_NUMBERS,\n",
    "# )\n",
    "# standalone_parameters[\"labels_source\"] = ALL_SERIAL_NUMBERS\n",
    "# standalone_parameters[\"labels_target\"] = ALL_SERIAL_NUMBERS\n",
    "# standalone_parameters[\"domains_source\"] = [8,20, 38,50]\n",
    "# standalone_parameters[\"domains_target\"] = [14, 26, 32, 44, 56]\n",
    "# standalone_parameters[\"pickle_name\"] = \"oracle.frame_indexed.stratified_ds.2022A.pkl\"\n",
    "# standalone_parameters[\"num_examples_per_domain_per_label_source\"]=1000\n",
    "# standalone_parameters[\"num_examples_per_domain_per_label_target\"]=1000\n",
    "\n",
    "# Uncomment these for Metahan dataset\n",
    "# standalone_parameters[\"labels_source\"] = list(range(19))\n",
    "# standalone_parameters[\"labels_target\"] = list(range(19))\n",
    "# standalone_parameters[\"domains_source\"] = [0]\n",
    "# standalone_parameters[\"domains_target\"] = [1]\n",
    "# standalone_parameters[\"pickle_name\"] = \"metehan.stratified_ds.2022A.pkl\"\n",
    "# standalone_parameters[\"n_way\"]  = len(standalone_parameters[\"labels_source\"])\n",
    "# standalone_parameters[\"num_examples_per_domain_per_label_source\"]=200\n",
    "# standalone_parameters[\"num_examples_per_domain_per_label_target\"]=100\n",
    "\n",
    "\n",
    "standalone_parameters[\"n_way\"]  = len(standalone_parameters[\"labels_source\"])"
   ]
  },
  {
   "cell_type": "code",
   "execution_count": 4,
   "id": "8208572d",
   "metadata": {
    "execution": {
     "iopub.execute_input": "2022-04-01T22:28:26.035623Z",
     "iopub.status.busy": "2022-04-01T22:28:26.033661Z",
     "iopub.status.idle": "2022-04-01T22:28:26.044772Z",
     "shell.execute_reply": "2022-04-01T22:28:26.045175Z"
    },
    "papermill": {
     "duration": 0.029597,
     "end_time": "2022-04-01T22:28:26.045296",
     "exception": false,
     "start_time": "2022-04-01T22:28:26.015699",
     "status": "completed"
    },
    "tags": [
     "injected-parameters"
    ]
   },
   "outputs": [],
   "source": [
    "# Parameters\n",
    "parameters = {\n",
    "    \"experiment_name\": \"tuned_1v2:oracle.run1_limited\",\n",
    "    \"device\": \"cuda\",\n",
    "    \"lr\": 0.0001,\n",
    "    \"labels_source\": [\n",
    "        \"3123D52\",\n",
    "        \"3123D65\",\n",
    "        \"3123D79\",\n",
    "        \"3123D80\",\n",
    "        \"3123D54\",\n",
    "        \"3123D70\",\n",
    "        \"3123D7B\",\n",
    "        \"3123D89\",\n",
    "        \"3123D58\",\n",
    "        \"3123D76\",\n",
    "        \"3123D7D\",\n",
    "        \"3123EFE\",\n",
    "        \"3123D64\",\n",
    "        \"3123D78\",\n",
    "        \"3123D7E\",\n",
    "        \"3124E4A\",\n",
    "    ],\n",
    "    \"labels_target\": [\n",
    "        \"3123D52\",\n",
    "        \"3123D65\",\n",
    "        \"3123D79\",\n",
    "        \"3123D80\",\n",
    "        \"3123D54\",\n",
    "        \"3123D70\",\n",
    "        \"3123D7B\",\n",
    "        \"3123D89\",\n",
    "        \"3123D58\",\n",
    "        \"3123D76\",\n",
    "        \"3123D7D\",\n",
    "        \"3123EFE\",\n",
    "        \"3123D64\",\n",
    "        \"3123D78\",\n",
    "        \"3123D7E\",\n",
    "        \"3124E4A\",\n",
    "    ],\n",
    "    \"episode_transforms_source\": [],\n",
    "    \"episode_transforms_target\": [],\n",
    "    \"domains_source\": [8, 32, 50],\n",
    "    \"domains_target\": [14, 20, 26, 38, 44],\n",
    "    \"num_examples_per_domain_per_label_source\": 2000,\n",
    "    \"num_examples_per_domain_per_label_target\": 2000,\n",
    "    \"n_shot\": 3,\n",
    "    \"n_way\": 16,\n",
    "    \"n_query\": 2,\n",
    "    \"train_k_factor\": 3,\n",
    "    \"val_k_factor\": 2,\n",
    "    \"test_k_factor\": 2,\n",
    "    \"torch_default_dtype\": \"torch.float32\",\n",
    "    \"n_epoch\": 50,\n",
    "    \"patience\": 3,\n",
    "    \"criteria_for_best\": \"target_accuracy\",\n",
    "    \"x_net\": [\n",
    "        {\"class\": \"nnReshape\", \"kargs\": {\"shape\": [-1, 1, 2, 256]}},\n",
    "        {\n",
    "            \"class\": \"Conv2d\",\n",
    "            \"kargs\": {\n",
    "                \"in_channels\": 1,\n",
    "                \"out_channels\": 256,\n",
    "                \"kernel_size\": [1, 7],\n",
    "                \"bias\": False,\n",
    "                \"padding\": [0, 3],\n",
    "            },\n",
    "        },\n",
    "        {\"class\": \"ReLU\", \"kargs\": {\"inplace\": True}},\n",
    "        {\"class\": \"BatchNorm2d\", \"kargs\": {\"num_features\": 256}},\n",
    "        {\n",
    "            \"class\": \"Conv2d\",\n",
    "            \"kargs\": {\n",
    "                \"in_channels\": 256,\n",
    "                \"out_channels\": 80,\n",
    "                \"kernel_size\": [2, 7],\n",
    "                \"bias\": True,\n",
    "                \"padding\": [0, 3],\n",
    "            },\n",
    "        },\n",
    "        {\"class\": \"ReLU\", \"kargs\": {\"inplace\": True}},\n",
    "        {\"class\": \"BatchNorm2d\", \"kargs\": {\"num_features\": 80}},\n",
    "        {\"class\": \"Flatten\", \"kargs\": {}},\n",
    "        {\"class\": \"Linear\", \"kargs\": {\"in_features\": 20480, \"out_features\": 256}},\n",
    "        {\"class\": \"ReLU\", \"kargs\": {\"inplace\": True}},\n",
    "        {\"class\": \"BatchNorm1d\", \"kargs\": {\"num_features\": 256}},\n",
    "        {\"class\": \"Linear\", \"kargs\": {\"in_features\": 256, \"out_features\": 256}},\n",
    "    ],\n",
    "    \"NUM_LOGS_PER_EPOCH\": 10,\n",
    "    \"BEST_MODEL_PATH\": \"./best_model.pth\",\n",
    "    \"pickle_name\": \"oracle.Run1_10kExamples_stratified_ds.2022A.pkl\",\n",
    "    \"x_transforms_source\": [\"unit_power\"],\n",
    "    \"x_transforms_target\": [\"unit_power\"],\n",
    "    \"dataset_seed\": 500,\n",
    "    \"seed\": 500,\n",
    "}\n"
   ]
  },
  {
   "cell_type": "code",
   "execution_count": 5,
   "id": "8fa1cc33",
   "metadata": {
    "execution": {
     "iopub.execute_input": "2022-04-01T22:28:26.082228Z",
     "iopub.status.busy": "2022-04-01T22:28:26.081858Z",
     "iopub.status.idle": "2022-04-01T22:28:26.089664Z",
     "shell.execute_reply": "2022-04-01T22:28:26.089255Z"
    },
    "papermill": {
     "duration": 0.029354,
     "end_time": "2022-04-01T22:28:26.089756",
     "exception": false,
     "start_time": "2022-04-01T22:28:26.060402",
     "status": "completed"
    },
    "tags": []
   },
   "outputs": [],
   "source": [
    "# Set this to True if you want to run this template directly\n",
    "STANDALONE = False\n",
    "if STANDALONE:\n",
    "    print(\"parameters not injected, running with standalone_parameters\")\n",
    "    parameters = standalone_parameters\n",
    "\n",
    "if not 'parameters' in locals() and not 'parameters' in globals():\n",
    "    raise Exception(\"Parameter injection failed\")\n",
    "\n",
    "#Use an easy dict for all the parameters\n",
    "p = EasyDict(parameters)\n",
    "\n",
    "supplied_keys = set(p.keys())\n",
    "\n",
    "if  supplied_keys != required_parameters:\n",
    "    print(\"Parameters are incorrect\")\n",
    "    if len(supplied_keys - required_parameters)>0: print(\"Shouldn't have:\", str(supplied_keys - required_parameters))\n",
    "    if len(required_parameters - supplied_keys)>0: print(\"Need to have:\", str(required_parameters - supplied_keys))\n",
    "    raise RuntimeError(\"Parameters are incorrect\")\n",
    "\n"
   ]
  },
  {
   "cell_type": "code",
   "execution_count": 6,
   "id": "3a028d58",
   "metadata": {
    "execution": {
     "iopub.execute_input": "2022-04-01T22:28:26.115427Z",
     "iopub.status.busy": "2022-04-01T22:28:26.115177Z",
     "iopub.status.idle": "2022-04-01T22:28:26.126288Z",
     "shell.execute_reply": "2022-04-01T22:28:26.125973Z"
    },
    "papermill": {
     "duration": 0.02275,
     "end_time": "2022-04-01T22:28:26.126360",
     "exception": false,
     "start_time": "2022-04-01T22:28:26.103610",
     "status": "completed"
    },
    "tags": []
   },
   "outputs": [],
   "source": [
    "###################################\n",
    "# Set the RNGs and make it all deterministic\n",
    "###################################\n",
    "np.random.seed(p.seed)\n",
    "random.seed(p.seed)\n",
    "torch.manual_seed(p.seed)\n",
    "\n",
    "torch.use_deterministic_algorithms(True) "
   ]
  },
  {
   "cell_type": "code",
   "execution_count": 7,
   "id": "b691acf6",
   "metadata": {
    "execution": {
     "iopub.execute_input": "2022-04-01T22:28:26.159904Z",
     "iopub.status.busy": "2022-04-01T22:28:26.151915Z",
     "iopub.status.idle": "2022-04-01T22:28:26.166470Z",
     "shell.execute_reply": "2022-04-01T22:28:26.166054Z"
    },
    "papermill": {
     "duration": 0.02613,
     "end_time": "2022-04-01T22:28:26.166564",
     "exception": false,
     "start_time": "2022-04-01T22:28:26.140434",
     "status": "completed"
    },
    "tags": []
   },
   "outputs": [],
   "source": [
    "###########################################\n",
    "# The stratified datasets honor this\n",
    "###########################################\n",
    "torch.set_default_dtype(eval(p.torch_default_dtype))"
   ]
  },
  {
   "cell_type": "code",
   "execution_count": 8,
   "id": "b5fba671",
   "metadata": {
    "execution": {
     "iopub.execute_input": "2022-04-01T22:28:26.195846Z",
     "iopub.status.busy": "2022-04-01T22:28:26.191689Z",
     "iopub.status.idle": "2022-04-01T22:28:26.230547Z",
     "shell.execute_reply": "2022-04-01T22:28:26.230162Z"
    },
    "papermill": {
     "duration": 0.049673,
     "end_time": "2022-04-01T22:28:26.230636",
     "exception": false,
     "start_time": "2022-04-01T22:28:26.180963",
     "status": "completed"
    },
    "tags": []
   },
   "outputs": [],
   "source": [
    "###################################\n",
    "# Build the network(s)\n",
    "# Note: It's critical to do this AFTER setting the RNG\n",
    "# (This is due to the randomized initial weights)\n",
    "###################################\n",
    "x_net = build_sequential(p.x_net)"
   ]
  },
  {
   "cell_type": "code",
   "execution_count": 9,
   "id": "5d7e61cc",
   "metadata": {
    "execution": {
     "iopub.execute_input": "2022-04-01T22:28:26.256793Z",
     "iopub.status.busy": "2022-04-01T22:28:26.256533Z",
     "iopub.status.idle": "2022-04-01T22:28:26.272188Z",
     "shell.execute_reply": "2022-04-01T22:28:26.271749Z"
    },
    "papermill": {
     "duration": 0.028137,
     "end_time": "2022-04-01T22:28:26.272274",
     "exception": false,
     "start_time": "2022-04-01T22:28:26.244137",
     "status": "completed"
    },
    "tags": []
   },
   "outputs": [],
   "source": [
    "start_time_secs = time.time()"
   ]
  },
  {
   "cell_type": "code",
   "execution_count": 10,
   "id": "fd5442bc",
   "metadata": {
    "execution": {
     "iopub.execute_input": "2022-04-01T22:28:26.304921Z",
     "iopub.status.busy": "2022-04-01T22:28:26.303328Z",
     "iopub.status.idle": "2022-04-01T22:28:45.068569Z",
     "shell.execute_reply": "2022-04-01T22:28:45.068113Z"
    },
    "papermill": {
     "duration": 18.781537,
     "end_time": "2022-04-01T22:28:45.068676",
     "exception": false,
     "start_time": "2022-04-01T22:28:26.287139",
     "status": "completed"
    },
    "tags": []
   },
   "outputs": [],
   "source": [
    "###################################\n",
    "# Build the dataset\n",
    "###################################\n",
    "\n",
    "if p.x_transforms_source == []: x_transform_source = None\n",
    "else: x_transform_source = get_chained_transform(p.x_transforms_source) \n",
    "\n",
    "if p.x_transforms_target == []: x_transform_target = None\n",
    "else: x_transform_target = get_chained_transform(p.x_transforms_target)\n",
    "\n",
    "if p.episode_transforms_source == []: episode_transform_source = None\n",
    "else: raise Exception(\"episode_transform_source not implemented\")\n",
    "\n",
    "if p.episode_transforms_target == []: episode_transform_target = None\n",
    "else: raise Exception(\"episode_transform_target not implemented\")\n",
    "\n",
    "\n",
    "eaf_source = Episodic_Accessor_Factory(\n",
    "    labels=p.labels_source,\n",
    "    domains=p.domains_source,\n",
    "    num_examples_per_domain_per_label=p.num_examples_per_domain_per_label_source,\n",
    "    iterator_seed=p.seed,\n",
    "    dataset_seed=p.dataset_seed,\n",
    "    n_shot=p.n_shot,\n",
    "    n_way=p.n_way,\n",
    "    n_query=p.n_query,\n",
    "    train_val_test_k_factors=(p.train_k_factor,p.val_k_factor,p.test_k_factor),\n",
    "    pickle_path=os.path.join(get_datasets_base_path(), p.pickle_name),\n",
    "    x_transform_func=x_transform_source,\n",
    "    example_transform_func=episode_transform_source,\n",
    "    \n",
    ")\n",
    "train_original_source, val_original_source, test_original_source = eaf_source.get_train(), eaf_source.get_val(), eaf_source.get_test()\n",
    "\n",
    "\n",
    "eaf_target = Episodic_Accessor_Factory(\n",
    "    labels=p.labels_target,\n",
    "    domains=p.domains_target,\n",
    "    num_examples_per_domain_per_label=p.num_examples_per_domain_per_label_target,\n",
    "    iterator_seed=p.seed,\n",
    "    dataset_seed=p.dataset_seed,\n",
    "    n_shot=p.n_shot,\n",
    "    n_way=p.n_way,\n",
    "    n_query=p.n_query,\n",
    "    train_val_test_k_factors=(p.train_k_factor,p.val_k_factor,p.test_k_factor),\n",
    "    pickle_path=os.path.join(get_datasets_base_path(), p.pickle_name),\n",
    "    x_transform_func=x_transform_target,\n",
    "    example_transform_func=episode_transform_target,\n",
    ")\n",
    "train_original_target, val_original_target, test_original_target = eaf_target.get_train(), eaf_target.get_val(), eaf_target.get_test()\n",
    "\n",
    "\n",
    "transform_lambda = lambda ex: ex[1] # Original is (<domain>, <episode>) so we strip down to episode only\n",
    "\n",
    "train_processed_source = Lazy_Iterable_Wrapper(train_original_source, transform_lambda)\n",
    "val_processed_source   = Lazy_Iterable_Wrapper(val_original_source, transform_lambda)\n",
    "test_processed_source  = Lazy_Iterable_Wrapper(test_original_source, transform_lambda)\n",
    "\n",
    "train_processed_target = Lazy_Iterable_Wrapper(train_original_target, transform_lambda)\n",
    "val_processed_target   = Lazy_Iterable_Wrapper(val_original_target, transform_lambda)\n",
    "test_processed_target  = Lazy_Iterable_Wrapper(test_original_target, transform_lambda)\n",
    "\n",
    "datasets = EasyDict({\n",
    "    \"source\": {\n",
    "        \"original\": {\"train\":train_original_source, \"val\":val_original_source, \"test\":test_original_source},\n",
    "        \"processed\": {\"train\":train_processed_source, \"val\":val_processed_source, \"test\":test_processed_source}\n",
    "    },\n",
    "    \"target\": {\n",
    "        \"original\": {\"train\":train_original_target, \"val\":val_original_target, \"test\":test_original_target},\n",
    "        \"processed\": {\"train\":train_processed_target, \"val\":val_processed_target, \"test\":test_processed_target}\n",
    "    },\n",
    "})"
   ]
  },
  {
   "cell_type": "code",
   "execution_count": 11,
   "id": "296189d9",
   "metadata": {
    "execution": {
     "iopub.execute_input": "2022-04-01T22:28:45.100772Z",
     "iopub.status.busy": "2022-04-01T22:28:45.100517Z",
     "iopub.status.idle": "2022-04-01T22:28:46.737534Z",
     "shell.execute_reply": "2022-04-01T22:28:46.737962Z"
    },
    "papermill": {
     "duration": 1.652151,
     "end_time": "2022-04-01T22:28:46.738073",
     "exception": false,
     "start_time": "2022-04-01T22:28:45.085922",
     "status": "completed"
    },
    "tags": []
   },
   "outputs": [
    {
     "name": "stdout",
     "output_type": "stream",
     "text": [
      "Visually inspect these to see if they line up with expected values given the transforms\n",
      "x_transforms_source ['unit_power']\n",
      "x_transforms_target ['unit_power']\n",
      "Average magnitude, source: 0.8804488\n",
      "Average power, source: 1.0\n"
     ]
    },
    {
     "name": "stdout",
     "output_type": "stream",
     "text": [
      "Average magnitude, target: 0.87736404\n",
      "Average power, target: 0.99999994\n"
     ]
    }
   ],
   "source": [
    "# Some quick unit tests on the data\n",
    "from steves_utils.transforms import get_average_power, get_average_magnitude\n",
    "\n",
    "q_x, q_y, s_x, s_y, truth = next(iter(train_processed_source))\n",
    "\n",
    "assert q_x.dtype == eval(p.torch_default_dtype)\n",
    "assert s_x.dtype == eval(p.torch_default_dtype)\n",
    "\n",
    "print(\"Visually inspect these to see if they line up with expected values given the transforms\")\n",
    "print('x_transforms_source', p.x_transforms_source)\n",
    "print('x_transforms_target', p.x_transforms_target)\n",
    "print(\"Average magnitude, source:\", get_average_magnitude(q_x[0].numpy()))\n",
    "print(\"Average power, source:\", get_average_power(q_x[0].numpy()))\n",
    "\n",
    "q_x, q_y, s_x, s_y, truth = next(iter(train_processed_target))\n",
    "print(\"Average magnitude, target:\", get_average_magnitude(q_x[0].numpy()))\n",
    "print(\"Average power, target:\", get_average_power(q_x[0].numpy()))\n"
   ]
  },
  {
   "cell_type": "code",
   "execution_count": 12,
   "id": "bbdacba1",
   "metadata": {
    "execution": {
     "iopub.execute_input": "2022-04-01T22:28:46.772490Z",
     "iopub.status.busy": "2022-04-01T22:28:46.771277Z",
     "iopub.status.idle": "2022-04-01T22:28:46.835096Z",
     "shell.execute_reply": "2022-04-01T22:28:46.834795Z"
    },
    "papermill": {
     "duration": 0.081855,
     "end_time": "2022-04-01T22:28:46.835161",
     "exception": false,
     "start_time": "2022-04-01T22:28:46.753306",
     "status": "completed"
    },
    "tags": []
   },
   "outputs": [
    {
     "name": "stdout",
     "output_type": "stream",
     "text": [
      "(2, 256)\n"
     ]
    }
   ],
   "source": [
    "###################################\n",
    "# Build the model\n",
    "###################################\n",
    "model = Steves_Prototypical_Network(x_net, device=p.device, x_shape=(2,256))\n",
    "optimizer = Adam(params=model.parameters(), lr=p.lr)"
   ]
  },
  {
   "cell_type": "code",
   "execution_count": 13,
   "id": "22b39ac5",
   "metadata": {
    "execution": {
     "iopub.execute_input": "2022-04-01T22:28:46.861558Z",
     "iopub.status.busy": "2022-04-01T22:28:46.861199Z",
     "iopub.status.idle": "2022-04-01T22:46:36.216960Z",
     "shell.execute_reply": "2022-04-01T22:46:36.216732Z"
    },
    "papermill": {
     "duration": 1069.368264,
     "end_time": "2022-04-01T22:46:36.217018",
     "exception": false,
     "start_time": "2022-04-01T22:28:46.848754",
     "status": "completed"
    },
    "tags": []
   },
   "outputs": [
    {
     "name": "stdout",
     "output_type": "stream",
     "text": [
      "epoch: 1, [batch: 1 / 2520], examples_per_second: 127.8135, train_label_loss: 2.7959, \n"
     ]
    },
    {
     "name": "stdout",
     "output_type": "stream",
     "text": [
      "epoch: 1, [batch: 252 / 2520], examples_per_second: 3165.2814, train_label_loss: 2.7678, \n"
     ]
    },
    {
     "name": "stdout",
     "output_type": "stream",
     "text": [
      "epoch: 1, [batch: 504 / 2520], examples_per_second: 3191.4208, train_label_loss: 1.8536, \n"
     ]
    },
    {
     "name": "stdout",
     "output_type": "stream",
     "text": [
      "epoch: 1, [batch: 756 / 2520], examples_per_second: 3188.0325, train_label_loss: 1.4895, \n"
     ]
    },
    {
     "name": "stdout",
     "output_type": "stream",
     "text": [
      "epoch: 1, [batch: 1008 / 2520], examples_per_second: 3172.4539, train_label_loss: 1.9188, \n"
     ]
    },
    {
     "name": "stdout",
     "output_type": "stream",
     "text": [
      "epoch: 1, [batch: 1260 / 2520], examples_per_second: 3176.2263, train_label_loss: 1.5129, \n"
     ]
    },
    {
     "name": "stdout",
     "output_type": "stream",
     "text": [
      "epoch: 1, [batch: 1512 / 2520], examples_per_second: 3156.8879, train_label_loss: 1.4600, \n"
     ]
    },
    {
     "name": "stdout",
     "output_type": "stream",
     "text": [
      "epoch: 1, [batch: 1764 / 2520], examples_per_second: 3159.5371, train_label_loss: 1.3300, \n"
     ]
    },
    {
     "name": "stdout",
     "output_type": "stream",
     "text": [
      "epoch: 1, [batch: 2016 / 2520], examples_per_second: 3158.0423, train_label_loss: 1.6079, \n"
     ]
    },
    {
     "name": "stdout",
     "output_type": "stream",
     "text": [
      "epoch: 1, [batch: 2268 / 2520], examples_per_second: 3154.8165, train_label_loss: 1.2847, \n"
     ]
    },
    {
     "name": "stdout",
     "output_type": "stream",
     "text": [
      "=============================================================\n",
      "epoch: 1, source_val_acc_label: 0.3933, target_val_acc_label: 0.2739, source_val_label_loss: 1.5436, target_val_label_loss: 1.8692, \n",
      "=============================================================\n"
     ]
    },
    {
     "name": "stdout",
     "output_type": "stream",
     "text": [
      "New best\n"
     ]
    },
    {
     "name": "stdout",
     "output_type": "stream",
     "text": [
      "epoch: 2, [batch: 1 / 2520], examples_per_second: 11.1194, train_label_loss: 1.9220, \n"
     ]
    },
    {
     "name": "stdout",
     "output_type": "stream",
     "text": [
      "epoch: 2, [batch: 252 / 2520], examples_per_second: 3178.4937, train_label_loss: 1.2635, \n"
     ]
    },
    {
     "name": "stdout",
     "output_type": "stream",
     "text": [
      "epoch: 2, [batch: 504 / 2520], examples_per_second: 3197.2705, train_label_loss: 1.2943, \n"
     ]
    },
    {
     "name": "stdout",
     "output_type": "stream",
     "text": [
      "epoch: 2, [batch: 756 / 2520], examples_per_second: 3195.3967, train_label_loss: 1.2951, \n"
     ]
    },
    {
     "name": "stdout",
     "output_type": "stream",
     "text": [
      "epoch: 2, [batch: 1008 / 2520], examples_per_second: 3189.8206, train_label_loss: 1.2042, \n"
     ]
    },
    {
     "name": "stdout",
     "output_type": "stream",
     "text": [
      "epoch: 2, [batch: 1260 / 2520], examples_per_second: 3188.6532, train_label_loss: 1.1141, \n"
     ]
    },
    {
     "name": "stdout",
     "output_type": "stream",
     "text": [
      "epoch: 2, [batch: 1512 / 2520], examples_per_second: 3191.6072, train_label_loss: 1.4311, \n"
     ]
    },
    {
     "name": "stdout",
     "output_type": "stream",
     "text": [
      "epoch: 2, [batch: 1764 / 2520], examples_per_second: 3204.8247, train_label_loss: 1.3597, \n"
     ]
    },
    {
     "name": "stdout",
     "output_type": "stream",
     "text": [
      "epoch: 2, [batch: 2016 / 2520], examples_per_second: 3199.0401, train_label_loss: 1.0939, \n"
     ]
    },
    {
     "name": "stdout",
     "output_type": "stream",
     "text": [
      "epoch: 2, [batch: 2268 / 2520], examples_per_second: 3198.5011, train_label_loss: 1.0557, \n"
     ]
    },
    {
     "name": "stdout",
     "output_type": "stream",
     "text": [
      "=============================================================\n",
      "epoch: 2, source_val_acc_label: 0.4201, target_val_acc_label: 0.2951, source_val_label_loss: 1.4735, target_val_label_loss: 1.8131, \n",
      "=============================================================\n"
     ]
    },
    {
     "name": "stdout",
     "output_type": "stream",
     "text": [
      "New best\n"
     ]
    },
    {
     "name": "stdout",
     "output_type": "stream",
     "text": [
      "epoch: 3, [batch: 1 / 2520], examples_per_second: 11.1154, train_label_loss: 1.2253, \n"
     ]
    },
    {
     "name": "stdout",
     "output_type": "stream",
     "text": [
      "epoch: 3, [batch: 252 / 2520], examples_per_second: 3173.0625, train_label_loss: 1.2230, \n"
     ]
    },
    {
     "name": "stdout",
     "output_type": "stream",
     "text": [
      "epoch: 3, [batch: 504 / 2520], examples_per_second: 3195.7120, train_label_loss: 1.5219, \n"
     ]
    },
    {
     "name": "stdout",
     "output_type": "stream",
     "text": [
      "epoch: 3, [batch: 756 / 2520], examples_per_second: 3197.4185, train_label_loss: 1.1708, \n"
     ]
    },
    {
     "name": "stdout",
     "output_type": "stream",
     "text": [
      "epoch: 3, [batch: 1008 / 2520], examples_per_second: 3191.6904, train_label_loss: 1.4065, \n"
     ]
    },
    {
     "name": "stdout",
     "output_type": "stream",
     "text": [
      "epoch: 3, [batch: 1260 / 2520], examples_per_second: 3213.4797, train_label_loss: 1.3325, \n"
     ]
    },
    {
     "name": "stdout",
     "output_type": "stream",
     "text": [
      "epoch: 3, [batch: 1512 / 2520], examples_per_second: 3225.3179, train_label_loss: 1.2427, \n"
     ]
    },
    {
     "name": "stdout",
     "output_type": "stream",
     "text": [
      "epoch: 3, [batch: 1764 / 2520], examples_per_second: 3188.6317, train_label_loss: 1.1763, \n"
     ]
    },
    {
     "name": "stdout",
     "output_type": "stream",
     "text": [
      "epoch: 3, [batch: 2016 / 2520], examples_per_second: 3208.7780, train_label_loss: 1.1296, \n"
     ]
    },
    {
     "name": "stdout",
     "output_type": "stream",
     "text": [
      "epoch: 3, [batch: 2268 / 2520], examples_per_second: 3183.3655, train_label_loss: 1.1758, \n"
     ]
    },
    {
     "name": "stdout",
     "output_type": "stream",
     "text": [
      "=============================================================\n",
      "epoch: 3, source_val_acc_label: 0.4316, target_val_acc_label: 0.3080, source_val_label_loss: 1.4478, target_val_label_loss: 1.7835, \n",
      "=============================================================\n"
     ]
    },
    {
     "name": "stdout",
     "output_type": "stream",
     "text": [
      "New best\n"
     ]
    },
    {
     "name": "stdout",
     "output_type": "stream",
     "text": [
      "epoch: 4, [batch: 1 / 2520], examples_per_second: 11.1314, train_label_loss: 1.0003, \n"
     ]
    },
    {
     "name": "stdout",
     "output_type": "stream",
     "text": [
      "epoch: 4, [batch: 252 / 2520], examples_per_second: 3167.4476, train_label_loss: 0.9754, \n"
     ]
    },
    {
     "name": "stdout",
     "output_type": "stream",
     "text": [
      "epoch: 4, [batch: 504 / 2520], examples_per_second: 3193.2920, train_label_loss: 1.0747, \n"
     ]
    },
    {
     "name": "stdout",
     "output_type": "stream",
     "text": [
      "epoch: 4, [batch: 756 / 2520], examples_per_second: 3205.6164, train_label_loss: 1.0755, \n"
     ]
    },
    {
     "name": "stdout",
     "output_type": "stream",
     "text": [
      "epoch: 4, [batch: 1008 / 2520], examples_per_second: 3193.7190, train_label_loss: 1.0894, \n"
     ]
    },
    {
     "name": "stdout",
     "output_type": "stream",
     "text": [
      "epoch: 4, [batch: 1260 / 2520], examples_per_second: 3196.6768, train_label_loss: 1.4223, \n"
     ]
    },
    {
     "name": "stdout",
     "output_type": "stream",
     "text": [
      "epoch: 4, [batch: 1512 / 2520], examples_per_second: 3208.7509, train_label_loss: 0.8272, \n"
     ]
    },
    {
     "name": "stdout",
     "output_type": "stream",
     "text": [
      "epoch: 4, [batch: 1764 / 2520], examples_per_second: 3186.1383, train_label_loss: 1.2534, \n"
     ]
    },
    {
     "name": "stdout",
     "output_type": "stream",
     "text": [
      "epoch: 4, [batch: 2016 / 2520], examples_per_second: 3190.8689, train_label_loss: 1.2821, \n"
     ]
    },
    {
     "name": "stdout",
     "output_type": "stream",
     "text": [
      "epoch: 4, [batch: 2268 / 2520], examples_per_second: 3204.7992, train_label_loss: 1.0400, \n"
     ]
    },
    {
     "name": "stdout",
     "output_type": "stream",
     "text": [
      "=============================================================\n",
      "epoch: 4, source_val_acc_label: 0.5415, target_val_acc_label: 0.4312, source_val_label_loss: 1.2888, target_val_label_loss: 1.5566, \n",
      "=============================================================\n"
     ]
    },
    {
     "name": "stdout",
     "output_type": "stream",
     "text": [
      "New best\n"
     ]
    },
    {
     "name": "stdout",
     "output_type": "stream",
     "text": [
      "epoch: 5, [batch: 1 / 2520], examples_per_second: 11.1086, train_label_loss: 1.0625, \n"
     ]
    },
    {
     "name": "stdout",
     "output_type": "stream",
     "text": [
      "epoch: 5, [batch: 252 / 2520], examples_per_second: 3170.7414, train_label_loss: 0.8981, \n"
     ]
    },
    {
     "name": "stdout",
     "output_type": "stream",
     "text": [
      "epoch: 5, [batch: 504 / 2520], examples_per_second: 3189.2458, train_label_loss: 1.2168, \n"
     ]
    },
    {
     "name": "stdout",
     "output_type": "stream",
     "text": [
      "epoch: 5, [batch: 756 / 2520], examples_per_second: 3185.3714, train_label_loss: 1.1111, \n"
     ]
    },
    {
     "name": "stdout",
     "output_type": "stream",
     "text": [
      "epoch: 5, [batch: 1008 / 2520], examples_per_second: 3188.6698, train_label_loss: 1.0179, \n"
     ]
    },
    {
     "name": "stdout",
     "output_type": "stream",
     "text": [
      "epoch: 5, [batch: 1260 / 2520], examples_per_second: 3193.1169, train_label_loss: 1.0623, \n"
     ]
    },
    {
     "name": "stdout",
     "output_type": "stream",
     "text": [
      "epoch: 5, [batch: 1512 / 2520], examples_per_second: 3218.3722, train_label_loss: 0.7893, \n"
     ]
    },
    {
     "name": "stdout",
     "output_type": "stream",
     "text": [
      "epoch: 5, [batch: 1764 / 2520], examples_per_second: 3181.8093, train_label_loss: 0.7584, \n"
     ]
    },
    {
     "name": "stdout",
     "output_type": "stream",
     "text": [
      "epoch: 5, [batch: 2016 / 2520], examples_per_second: 3194.6203, train_label_loss: 0.8331, \n"
     ]
    },
    {
     "name": "stdout",
     "output_type": "stream",
     "text": [
      "epoch: 5, [batch: 2268 / 2520], examples_per_second: 3187.8188, train_label_loss: 0.5890, \n"
     ]
    },
    {
     "name": "stdout",
     "output_type": "stream",
     "text": [
      "=============================================================\n",
      "epoch: 5, source_val_acc_label: 0.5649, target_val_acc_label: 0.4624, source_val_label_loss: 1.2636, target_val_label_loss: 1.5319, \n",
      "=============================================================\n"
     ]
    },
    {
     "name": "stdout",
     "output_type": "stream",
     "text": [
      "New best\n"
     ]
    },
    {
     "name": "stdout",
     "output_type": "stream",
     "text": [
      "epoch: 6, [batch: 1 / 2520], examples_per_second: 11.1325, train_label_loss: 0.7867, \n"
     ]
    },
    {
     "name": "stdout",
     "output_type": "stream",
     "text": [
      "epoch: 6, [batch: 252 / 2520], examples_per_second: 3186.5752, train_label_loss: 0.8683, \n"
     ]
    },
    {
     "name": "stdout",
     "output_type": "stream",
     "text": [
      "epoch: 6, [batch: 504 / 2520], examples_per_second: 3196.5937, train_label_loss: 0.5573, \n"
     ]
    },
    {
     "name": "stdout",
     "output_type": "stream",
     "text": [
      "epoch: 6, [batch: 756 / 2520], examples_per_second: 3184.7542, train_label_loss: 0.4066, \n"
     ]
    },
    {
     "name": "stdout",
     "output_type": "stream",
     "text": [
      "epoch: 6, [batch: 1008 / 2520], examples_per_second: 3168.1557, train_label_loss: 0.4998, \n"
     ]
    },
    {
     "name": "stdout",
     "output_type": "stream",
     "text": [
      "epoch: 6, [batch: 1260 / 2520], examples_per_second: 3176.5722, train_label_loss: 0.7020, \n"
     ]
    },
    {
     "name": "stdout",
     "output_type": "stream",
     "text": [
      "epoch: 6, [batch: 1512 / 2520], examples_per_second: 3185.7200, train_label_loss: 0.7608, \n"
     ]
    },
    {
     "name": "stdout",
     "output_type": "stream",
     "text": [
      "epoch: 6, [batch: 1764 / 2520], examples_per_second: 3178.0582, train_label_loss: 0.4292, \n"
     ]
    },
    {
     "name": "stdout",
     "output_type": "stream",
     "text": [
      "epoch: 6, [batch: 2016 / 2520], examples_per_second: 3199.8611, train_label_loss: 0.4636, \n"
     ]
    },
    {
     "name": "stdout",
     "output_type": "stream",
     "text": [
      "epoch: 6, [batch: 2268 / 2520], examples_per_second: 3187.5546, train_label_loss: 0.6190, \n"
     ]
    },
    {
     "name": "stdout",
     "output_type": "stream",
     "text": [
      "=============================================================\n",
      "epoch: 6, source_val_acc_label: 0.5712, target_val_acc_label: 0.4721, source_val_label_loss: 1.3201, target_val_label_loss: 1.5614, \n",
      "=============================================================\n"
     ]
    },
    {
     "name": "stdout",
     "output_type": "stream",
     "text": [
      "New best\n"
     ]
    },
    {
     "name": "stdout",
     "output_type": "stream",
     "text": [
      "epoch: 7, [batch: 1 / 2520], examples_per_second: 11.0956, train_label_loss: 0.4948, \n"
     ]
    },
    {
     "name": "stdout",
     "output_type": "stream",
     "text": [
      "epoch: 7, [batch: 252 / 2520], examples_per_second: 3169.5408, train_label_loss: 0.3340, \n"
     ]
    },
    {
     "name": "stdout",
     "output_type": "stream",
     "text": [
      "epoch: 7, [batch: 504 / 2520], examples_per_second: 3199.0959, train_label_loss: 0.4034, \n"
     ]
    },
    {
     "name": "stdout",
     "output_type": "stream",
     "text": [
      "epoch: 7, [batch: 756 / 2520], examples_per_second: 3189.7737, train_label_loss: 0.3173, \n"
     ]
    },
    {
     "name": "stdout",
     "output_type": "stream",
     "text": [
      "epoch: 7, [batch: 1008 / 2520], examples_per_second: 3184.0741, train_label_loss: 0.6124, \n"
     ]
    },
    {
     "name": "stdout",
     "output_type": "stream",
     "text": [
      "epoch: 7, [batch: 1260 / 2520], examples_per_second: 3184.8733, train_label_loss: 0.9525, \n"
     ]
    },
    {
     "name": "stdout",
     "output_type": "stream",
     "text": [
      "epoch: 7, [batch: 1512 / 2520], examples_per_second: 3182.0522, train_label_loss: 0.6169, \n"
     ]
    },
    {
     "name": "stdout",
     "output_type": "stream",
     "text": [
      "epoch: 7, [batch: 1764 / 2520], examples_per_second: 3168.3406, train_label_loss: 0.4401, \n"
     ]
    },
    {
     "name": "stdout",
     "output_type": "stream",
     "text": [
      "epoch: 7, [batch: 2016 / 2520], examples_per_second: 3202.8142, train_label_loss: 0.4312, \n"
     ]
    },
    {
     "name": "stdout",
     "output_type": "stream",
     "text": [
      "epoch: 7, [batch: 2268 / 2520], examples_per_second: 3193.3532, train_label_loss: 0.8592, \n"
     ]
    },
    {
     "name": "stdout",
     "output_type": "stream",
     "text": [
      "=============================================================\n",
      "epoch: 7, source_val_acc_label: 0.5694, target_val_acc_label: 0.4738, source_val_label_loss: 1.4179, target_val_label_loss: 1.6413, \n",
      "=============================================================\n"
     ]
    },
    {
     "name": "stdout",
     "output_type": "stream",
     "text": [
      "New best\n"
     ]
    },
    {
     "name": "stdout",
     "output_type": "stream",
     "text": [
      "epoch: 8, [batch: 1 / 2520], examples_per_second: 11.0988, train_label_loss: 0.1516, \n"
     ]
    },
    {
     "name": "stdout",
     "output_type": "stream",
     "text": [
      "epoch: 8, [batch: 252 / 2520], examples_per_second: 3173.2837, train_label_loss: 0.1473, \n"
     ]
    },
    {
     "name": "stdout",
     "output_type": "stream",
     "text": [
      "epoch: 8, [batch: 504 / 2520], examples_per_second: 3190.3469, train_label_loss: 0.1837, \n"
     ]
    },
    {
     "name": "stdout",
     "output_type": "stream",
     "text": [
      "epoch: 8, [batch: 756 / 2520], examples_per_second: 3177.1914, train_label_loss: 0.6381, \n"
     ]
    },
    {
     "name": "stdout",
     "output_type": "stream",
     "text": [
      "epoch: 8, [batch: 1008 / 2520], examples_per_second: 3179.3985, train_label_loss: 0.5627, \n"
     ]
    },
    {
     "name": "stdout",
     "output_type": "stream",
     "text": [
      "epoch: 8, [batch: 1260 / 2520], examples_per_second: 3204.5571, train_label_loss: 0.1928, \n"
     ]
    },
    {
     "name": "stdout",
     "output_type": "stream",
     "text": [
      "epoch: 8, [batch: 1512 / 2520], examples_per_second: 3180.0404, train_label_loss: 0.3994, \n"
     ]
    },
    {
     "name": "stdout",
     "output_type": "stream",
     "text": [
      "epoch: 8, [batch: 1764 / 2520], examples_per_second: 3178.8783, train_label_loss: 0.3888, \n"
     ]
    },
    {
     "name": "stdout",
     "output_type": "stream",
     "text": [
      "epoch: 8, [batch: 2016 / 2520], examples_per_second: 3190.1123, train_label_loss: 0.4737, \n"
     ]
    },
    {
     "name": "stdout",
     "output_type": "stream",
     "text": [
      "epoch: 8, [batch: 2268 / 2520], examples_per_second: 3190.5546, train_label_loss: 0.4326, \n"
     ]
    },
    {
     "name": "stdout",
     "output_type": "stream",
     "text": [
      "=============================================================\n",
      "epoch: 8, source_val_acc_label: 0.5716, target_val_acc_label: 0.4721, source_val_label_loss: 1.4797, target_val_label_loss: 1.7571, \n",
      "=============================================================\n"
     ]
    },
    {
     "name": "stdout",
     "output_type": "stream",
     "text": [
      "epoch: 9, [batch: 1 / 2520], examples_per_second: 11.1871, train_label_loss: 0.3891, \n"
     ]
    },
    {
     "name": "stdout",
     "output_type": "stream",
     "text": [
      "epoch: 9, [batch: 252 / 2520], examples_per_second: 3165.4744, train_label_loss: 0.4238, \n"
     ]
    },
    {
     "name": "stdout",
     "output_type": "stream",
     "text": [
      "epoch: 9, [batch: 504 / 2520], examples_per_second: 3178.3121, train_label_loss: 0.2478, \n"
     ]
    },
    {
     "name": "stdout",
     "output_type": "stream",
     "text": [
      "epoch: 9, [batch: 756 / 2520], examples_per_second: 3171.0289, train_label_loss: 0.7679, \n"
     ]
    },
    {
     "name": "stdout",
     "output_type": "stream",
     "text": [
      "epoch: 9, [batch: 1008 / 2520], examples_per_second: 3181.0460, train_label_loss: 0.2678, \n"
     ]
    },
    {
     "name": "stdout",
     "output_type": "stream",
     "text": [
      "epoch: 9, [batch: 1260 / 2520], examples_per_second: 3193.6892, train_label_loss: 0.3307, \n"
     ]
    },
    {
     "name": "stdout",
     "output_type": "stream",
     "text": [
      "epoch: 9, [batch: 1512 / 2520], examples_per_second: 3178.6798, train_label_loss: 0.2719, \n"
     ]
    },
    {
     "name": "stdout",
     "output_type": "stream",
     "text": [
      "epoch: 9, [batch: 1764 / 2520], examples_per_second: 3181.0127, train_label_loss: 0.3010, \n"
     ]
    },
    {
     "name": "stdout",
     "output_type": "stream",
     "text": [
      "epoch: 9, [batch: 2016 / 2520], examples_per_second: 3181.5882, train_label_loss: 0.0998, \n"
     ]
    },
    {
     "name": "stdout",
     "output_type": "stream",
     "text": [
      "epoch: 9, [batch: 2268 / 2520], examples_per_second: 3197.4288, train_label_loss: 0.4473, \n"
     ]
    },
    {
     "name": "stdout",
     "output_type": "stream",
     "text": [
      "=============================================================\n",
      "epoch: 9, source_val_acc_label: 0.5778, target_val_acc_label: 0.4808, source_val_label_loss: 1.5558, target_val_label_loss: 1.8618, \n",
      "=============================================================\n"
     ]
    },
    {
     "name": "stdout",
     "output_type": "stream",
     "text": [
      "New best\n"
     ]
    },
    {
     "name": "stdout",
     "output_type": "stream",
     "text": [
      "epoch: 10, [batch: 1 / 2520], examples_per_second: 11.0821, train_label_loss: 0.5258, \n"
     ]
    },
    {
     "name": "stdout",
     "output_type": "stream",
     "text": [
      "epoch: 10, [batch: 252 / 2520], examples_per_second: 3196.0181, train_label_loss: 0.4028, \n"
     ]
    },
    {
     "name": "stdout",
     "output_type": "stream",
     "text": [
      "epoch: 10, [batch: 504 / 2520], examples_per_second: 3197.4789, train_label_loss: 0.4328, \n"
     ]
    },
    {
     "name": "stdout",
     "output_type": "stream",
     "text": [
      "epoch: 10, [batch: 756 / 2520], examples_per_second: 3204.8359, train_label_loss: 0.2022, \n"
     ]
    },
    {
     "name": "stdout",
     "output_type": "stream",
     "text": [
      "epoch: 10, [batch: 1008 / 2520], examples_per_second: 3178.5338, train_label_loss: 0.3995, \n"
     ]
    },
    {
     "name": "stdout",
     "output_type": "stream",
     "text": [
      "epoch: 10, [batch: 1260 / 2520], examples_per_second: 3190.2908, train_label_loss: 0.5459, \n"
     ]
    },
    {
     "name": "stdout",
     "output_type": "stream",
     "text": [
      "epoch: 10, [batch: 1512 / 2520], examples_per_second: 3188.3428, train_label_loss: 0.2285, \n"
     ]
    },
    {
     "name": "stdout",
     "output_type": "stream",
     "text": [
      "epoch: 10, [batch: 1764 / 2520], examples_per_second: 3199.9017, train_label_loss: 0.0794, \n"
     ]
    },
    {
     "name": "stdout",
     "output_type": "stream",
     "text": [
      "epoch: 10, [batch: 2016 / 2520], examples_per_second: 3193.9175, train_label_loss: 0.3606, \n"
     ]
    },
    {
     "name": "stdout",
     "output_type": "stream",
     "text": [
      "epoch: 10, [batch: 2268 / 2520], examples_per_second: 3197.8206, train_label_loss: 0.9238, \n"
     ]
    },
    {
     "name": "stdout",
     "output_type": "stream",
     "text": [
      "=============================================================\n",
      "epoch: 10, source_val_acc_label: 0.5747, target_val_acc_label: 0.4824, source_val_label_loss: 1.6802, target_val_label_loss: 1.9634, \n",
      "=============================================================\n"
     ]
    },
    {
     "name": "stdout",
     "output_type": "stream",
     "text": [
      "New best\n"
     ]
    },
    {
     "name": "stdout",
     "output_type": "stream",
     "text": [
      "epoch: 11, [batch: 1 / 2520], examples_per_second: 11.0849, train_label_loss: 0.3193, \n"
     ]
    },
    {
     "name": "stdout",
     "output_type": "stream",
     "text": [
      "epoch: 11, [batch: 252 / 2520], examples_per_second: 3170.1637, train_label_loss: 0.2686, \n"
     ]
    },
    {
     "name": "stdout",
     "output_type": "stream",
     "text": [
      "epoch: 11, [batch: 504 / 2520], examples_per_second: 3187.8658, train_label_loss: 0.2706, \n"
     ]
    },
    {
     "name": "stdout",
     "output_type": "stream",
     "text": [
      "epoch: 11, [batch: 756 / 2520], examples_per_second: 3198.1861, train_label_loss: 0.1249, \n"
     ]
    },
    {
     "name": "stdout",
     "output_type": "stream",
     "text": [
      "epoch: 11, [batch: 1008 / 2520], examples_per_second: 3173.5412, train_label_loss: 0.1938, \n"
     ]
    },
    {
     "name": "stdout",
     "output_type": "stream",
     "text": [
      "epoch: 11, [batch: 1260 / 2520], examples_per_second: 3171.6085, train_label_loss: 0.0144, \n"
     ]
    },
    {
     "name": "stdout",
     "output_type": "stream",
     "text": [
      "epoch: 11, [batch: 1512 / 2520], examples_per_second: 3176.6759, train_label_loss: 0.1596, \n"
     ]
    },
    {
     "name": "stdout",
     "output_type": "stream",
     "text": [
      "epoch: 11, [batch: 1764 / 2520], examples_per_second: 3190.9703, train_label_loss: 0.0839, \n"
     ]
    },
    {
     "name": "stdout",
     "output_type": "stream",
     "text": [
      "epoch: 11, [batch: 2016 / 2520], examples_per_second: 3184.6365, train_label_loss: 0.1454, \n"
     ]
    },
    {
     "name": "stdout",
     "output_type": "stream",
     "text": [
      "epoch: 11, [batch: 2268 / 2520], examples_per_second: 3187.2789, train_label_loss: 0.2057, \n"
     ]
    },
    {
     "name": "stdout",
     "output_type": "stream",
     "text": [
      "=============================================================\n",
      "epoch: 11, source_val_acc_label: 0.5799, target_val_acc_label: 0.4851, source_val_label_loss: 1.7895, target_val_label_loss: 2.0873, \n",
      "=============================================================\n"
     ]
    },
    {
     "name": "stdout",
     "output_type": "stream",
     "text": [
      "New best\n"
     ]
    },
    {
     "name": "stdout",
     "output_type": "stream",
     "text": [
      "epoch: 12, [batch: 1 / 2520], examples_per_second: 11.1224, train_label_loss: 0.2621, \n"
     ]
    },
    {
     "name": "stdout",
     "output_type": "stream",
     "text": [
      "epoch: 12, [batch: 252 / 2520], examples_per_second: 3170.4145, train_label_loss: 0.4085, \n"
     ]
    },
    {
     "name": "stdout",
     "output_type": "stream",
     "text": [
      "epoch: 12, [batch: 504 / 2520], examples_per_second: 3182.9280, train_label_loss: 0.5472, \n"
     ]
    },
    {
     "name": "stdout",
     "output_type": "stream",
     "text": [
      "epoch: 12, [batch: 756 / 2520], examples_per_second: 3181.4128, train_label_loss: 0.1159, \n"
     ]
    },
    {
     "name": "stdout",
     "output_type": "stream",
     "text": [
      "epoch: 12, [batch: 1008 / 2520], examples_per_second: 3184.0917, train_label_loss: 0.1066, \n"
     ]
    },
    {
     "name": "stdout",
     "output_type": "stream",
     "text": [
      "epoch: 12, [batch: 1260 / 2520], examples_per_second: 3182.1756, train_label_loss: 0.1485, \n"
     ]
    },
    {
     "name": "stdout",
     "output_type": "stream",
     "text": [
      "epoch: 12, [batch: 1512 / 2520], examples_per_second: 3187.6186, train_label_loss: 0.1286, \n"
     ]
    },
    {
     "name": "stdout",
     "output_type": "stream",
     "text": [
      "epoch: 12, [batch: 1764 / 2520], examples_per_second: 3173.5997, train_label_loss: 0.2673, \n"
     ]
    },
    {
     "name": "stdout",
     "output_type": "stream",
     "text": [
      "epoch: 12, [batch: 2016 / 2520], examples_per_second: 3185.7835, train_label_loss: 0.3339, \n"
     ]
    },
    {
     "name": "stdout",
     "output_type": "stream",
     "text": [
      "epoch: 12, [batch: 2268 / 2520], examples_per_second: 3185.7046, train_label_loss: 0.1827, \n"
     ]
    },
    {
     "name": "stdout",
     "output_type": "stream",
     "text": [
      "=============================================================\n",
      "epoch: 12, source_val_acc_label: 0.5780, target_val_acc_label: 0.4817, source_val_label_loss: 1.8146, target_val_label_loss: 2.1482, \n",
      "=============================================================\n"
     ]
    },
    {
     "name": "stdout",
     "output_type": "stream",
     "text": [
      "epoch: 13, [batch: 1 / 2520], examples_per_second: 11.1967, train_label_loss: 0.2143, \n"
     ]
    },
    {
     "name": "stdout",
     "output_type": "stream",
     "text": [
      "epoch: 13, [batch: 252 / 2520], examples_per_second: 3165.8538, train_label_loss: 0.1205, \n"
     ]
    },
    {
     "name": "stdout",
     "output_type": "stream",
     "text": [
      "epoch: 13, [batch: 504 / 2520], examples_per_second: 3225.6124, train_label_loss: 0.0515, \n"
     ]
    },
    {
     "name": "stdout",
     "output_type": "stream",
     "text": [
      "epoch: 13, [batch: 756 / 2520], examples_per_second: 3191.3994, train_label_loss: 0.3234, \n"
     ]
    },
    {
     "name": "stdout",
     "output_type": "stream",
     "text": [
      "epoch: 13, [batch: 1008 / 2520], examples_per_second: 3198.6435, train_label_loss: 0.1931, \n"
     ]
    },
    {
     "name": "stdout",
     "output_type": "stream",
     "text": [
      "epoch: 13, [batch: 1260 / 2520], examples_per_second: 3202.6193, train_label_loss: 0.0269, \n"
     ]
    },
    {
     "name": "stdout",
     "output_type": "stream",
     "text": [
      "epoch: 13, [batch: 1512 / 2520], examples_per_second: 3183.4672, train_label_loss: 0.0583, \n"
     ]
    },
    {
     "name": "stdout",
     "output_type": "stream",
     "text": [
      "epoch: 13, [batch: 1764 / 2520], examples_per_second: 3153.1982, train_label_loss: 0.3421, \n"
     ]
    },
    {
     "name": "stdout",
     "output_type": "stream",
     "text": [
      "epoch: 13, [batch: 2016 / 2520], examples_per_second: 3183.3107, train_label_loss: 0.0616, \n"
     ]
    },
    {
     "name": "stdout",
     "output_type": "stream",
     "text": [
      "epoch: 13, [batch: 2268 / 2520], examples_per_second: 3171.9907, train_label_loss: 0.3006, \n"
     ]
    },
    {
     "name": "stdout",
     "output_type": "stream",
     "text": [
      "=============================================================\n",
      "epoch: 13, source_val_acc_label: 0.5765, target_val_acc_label: 0.4828, source_val_label_loss: 1.9181, target_val_label_loss: 2.1849, \n",
      "=============================================================\n"
     ]
    },
    {
     "name": "stdout",
     "output_type": "stream",
     "text": [
      "epoch: 14, [batch: 1 / 2520], examples_per_second: 11.1390, train_label_loss: 0.0020, \n"
     ]
    },
    {
     "name": "stdout",
     "output_type": "stream",
     "text": [
      "epoch: 14, [batch: 252 / 2520], examples_per_second: 3171.3444, train_label_loss: 0.0242, \n"
     ]
    },
    {
     "name": "stdout",
     "output_type": "stream",
     "text": [
      "epoch: 14, [batch: 504 / 2520], examples_per_second: 3193.4506, train_label_loss: 0.1095, \n"
     ]
    },
    {
     "name": "stdout",
     "output_type": "stream",
     "text": [
      "epoch: 14, [batch: 756 / 2520], examples_per_second: 3188.9320, train_label_loss: 0.0810, \n"
     ]
    },
    {
     "name": "stdout",
     "output_type": "stream",
     "text": [
      "epoch: 14, [batch: 1008 / 2520], examples_per_second: 3172.2955, train_label_loss: 0.3445, \n"
     ]
    },
    {
     "name": "stdout",
     "output_type": "stream",
     "text": [
      "epoch: 14, [batch: 1260 / 2520], examples_per_second: 3195.9821, train_label_loss: 0.1662, \n"
     ]
    },
    {
     "name": "stdout",
     "output_type": "stream",
     "text": [
      "epoch: 14, [batch: 1512 / 2520], examples_per_second: 3192.1082, train_label_loss: 0.0760, \n"
     ]
    },
    {
     "name": "stdout",
     "output_type": "stream",
     "text": [
      "epoch: 14, [batch: 1764 / 2520], examples_per_second: 3180.6486, train_label_loss: 0.2155, \n"
     ]
    },
    {
     "name": "stdout",
     "output_type": "stream",
     "text": [
      "epoch: 14, [batch: 2016 / 2520], examples_per_second: 3163.1158, train_label_loss: 0.1885, \n"
     ]
    },
    {
     "name": "stdout",
     "output_type": "stream",
     "text": [
      "epoch: 14, [batch: 2268 / 2520], examples_per_second: 3197.3651, train_label_loss: 0.2064, \n"
     ]
    },
    {
     "name": "stdout",
     "output_type": "stream",
     "text": [
      "=============================================================\n",
      "epoch: 14, source_val_acc_label: 0.5725, target_val_acc_label: 0.4780, source_val_label_loss: 1.9092, target_val_label_loss: 2.1867, \n",
      "=============================================================\n"
     ]
    },
    {
     "name": "stdout",
     "output_type": "stream",
     "text": [
      "epoch: 15, [batch: 1 / 2520], examples_per_second: 11.1419, train_label_loss: 0.3657, \n"
     ]
    },
    {
     "name": "stdout",
     "output_type": "stream",
     "text": [
      "epoch: 15, [batch: 252 / 2520], examples_per_second: 3176.3260, train_label_loss: 0.1238, \n"
     ]
    },
    {
     "name": "stdout",
     "output_type": "stream",
     "text": [
      "epoch: 15, [batch: 504 / 2520], examples_per_second: 3218.4795, train_label_loss: 0.2404, \n"
     ]
    },
    {
     "name": "stdout",
     "output_type": "stream",
     "text": [
      "epoch: 15, [batch: 756 / 2520], examples_per_second: 3209.7257, train_label_loss: 0.0335, \n"
     ]
    },
    {
     "name": "stdout",
     "output_type": "stream",
     "text": [
      "epoch: 15, [batch: 1008 / 2520], examples_per_second: 3183.5914, train_label_loss: 0.0643, \n"
     ]
    },
    {
     "name": "stdout",
     "output_type": "stream",
     "text": [
      "epoch: 15, [batch: 1260 / 2520], examples_per_second: 3186.9308, train_label_loss: 0.0221, \n"
     ]
    },
    {
     "name": "stdout",
     "output_type": "stream",
     "text": [
      "epoch: 15, [batch: 1512 / 2520], examples_per_second: 3189.6103, train_label_loss: 0.0687, \n"
     ]
    },
    {
     "name": "stdout",
     "output_type": "stream",
     "text": [
      "epoch: 15, [batch: 1764 / 2520], examples_per_second: 3177.9850, train_label_loss: 0.0013, \n"
     ]
    },
    {
     "name": "stdout",
     "output_type": "stream",
     "text": [
      "epoch: 15, [batch: 2016 / 2520], examples_per_second: 3210.8345, train_label_loss: 0.0247, \n"
     ]
    },
    {
     "name": "stdout",
     "output_type": "stream",
     "text": [
      "epoch: 15, [batch: 2268 / 2520], examples_per_second: 3199.6290, train_label_loss: 0.6724, \n"
     ]
    },
    {
     "name": "stdout",
     "output_type": "stream",
     "text": [
      "=============================================================\n",
      "epoch: 15, source_val_acc_label: 0.5778, target_val_acc_label: 0.4826, source_val_label_loss: 1.9833, target_val_label_loss: 2.3118, \n",
      "=============================================================\n"
     ]
    },
    {
     "name": "stdout",
     "output_type": "stream",
     "text": [
      "Patience (3) exhausted\n"
     ]
    }
   ],
   "source": [
    "###################################\n",
    "# train\n",
    "###################################\n",
    "jig = PTN_Train_Eval_Test_Jig(model, p.BEST_MODEL_PATH, p.device)\n",
    "\n",
    "jig.train(\n",
    "    train_iterable=datasets.source.processed.train,\n",
    "    source_val_iterable=datasets.source.processed.val,\n",
    "    target_val_iterable=datasets.target.processed.val,\n",
    "    num_epochs=p.n_epoch,\n",
    "    num_logs_per_epoch=p.NUM_LOGS_PER_EPOCH,\n",
    "    patience=p.patience,\n",
    "    optimizer=optimizer,\n",
    "    criteria_for_best=p.criteria_for_best,\n",
    ")"
   ]
  },
  {
   "cell_type": "code",
   "execution_count": 14,
   "id": "31e8fabf",
   "metadata": {
    "execution": {
     "iopub.execute_input": "2022-04-01T22:46:36.302336Z",
     "iopub.status.busy": "2022-04-01T22:46:36.302088Z",
     "iopub.status.idle": "2022-04-01T22:46:36.320800Z",
     "shell.execute_reply": "2022-04-01T22:46:36.320406Z"
    },
    "papermill": {
     "duration": 0.062952,
     "end_time": "2022-04-01T22:46:36.320890",
     "exception": false,
     "start_time": "2022-04-01T22:46:36.257938",
     "status": "completed"
    },
    "tags": []
   },
   "outputs": [],
   "source": [
    "total_experiment_time_secs = time.time() - start_time_secs"
   ]
  },
  {
   "cell_type": "code",
   "execution_count": 15,
   "id": "87b9595b",
   "metadata": {
    "execution": {
     "iopub.execute_input": "2022-04-01T22:46:36.413690Z",
     "iopub.status.busy": "2022-04-01T22:46:36.413426Z",
     "iopub.status.idle": "2022-04-01T22:47:25.081138Z",
     "shell.execute_reply": "2022-04-01T22:47:25.081373Z"
    },
    "papermill": {
     "duration": 48.714824,
     "end_time": "2022-04-01T22:47:25.081460",
     "exception": false,
     "start_time": "2022-04-01T22:46:36.366636",
     "status": "completed"
    },
    "tags": []
   },
   "outputs": [],
   "source": [
    "###################################\n",
    "# Evaluate the model\n",
    "###################################\n",
    "source_test_label_accuracy, source_test_label_loss = jig.test(datasets.source.processed.test)\n",
    "target_test_label_accuracy, target_test_label_loss = jig.test(datasets.target.processed.test)\n",
    "\n",
    "source_val_label_accuracy, source_val_label_loss = jig.test(datasets.source.processed.val)\n",
    "target_val_label_accuracy, target_val_label_loss = jig.test(datasets.target.processed.val)\n",
    "\n",
    "history = jig.get_history()\n",
    "\n",
    "total_epochs_trained = len(history[\"epoch_indices\"])\n",
    "\n",
    "val_dl = Iterable_Aggregator((datasets.source.original.val,datasets.target.original.val))\n",
    "\n",
    "confusion = ptn_confusion_by_domain_over_dataloader(model, p.device, val_dl)\n",
    "per_domain_accuracy = per_domain_accuracy_from_confusion(confusion)\n",
    "\n",
    "# Add a key to per_domain_accuracy for if it was a source domain\n",
    "for domain, accuracy in per_domain_accuracy.items():\n",
    "    per_domain_accuracy[domain] = {\n",
    "        \"accuracy\": accuracy,\n",
    "        \"source?\": domain in p.domains_source\n",
    "    }\n",
    "\n",
    "# Do an independent accuracy assesment JUST TO BE SURE!\n",
    "# _source_test_label_accuracy = independent_accuracy_assesment(model, datasets.source.processed.test, p.device)\n",
    "# _target_test_label_accuracy = independent_accuracy_assesment(model, datasets.target.processed.test, p.device)\n",
    "# _source_val_label_accuracy = independent_accuracy_assesment(model, datasets.source.processed.val, p.device)\n",
    "# _target_val_label_accuracy = independent_accuracy_assesment(model, datasets.target.processed.val, p.device)\n",
    "\n",
    "# assert(_source_test_label_accuracy == source_test_label_accuracy)\n",
    "# assert(_target_test_label_accuracy == target_test_label_accuracy)\n",
    "# assert(_source_val_label_accuracy == source_val_label_accuracy)\n",
    "# assert(_target_val_label_accuracy == target_val_label_accuracy)\n",
    "\n",
    "experiment = {\n",
    "    \"experiment_name\": p.experiment_name,\n",
    "    \"parameters\": dict(p),\n",
    "    \"results\": {\n",
    "        \"source_test_label_accuracy\": source_test_label_accuracy,\n",
    "        \"source_test_label_loss\": source_test_label_loss,\n",
    "        \"target_test_label_accuracy\": target_test_label_accuracy,\n",
    "        \"target_test_label_loss\": target_test_label_loss,\n",
    "        \"source_val_label_accuracy\": source_val_label_accuracy,\n",
    "        \"source_val_label_loss\": source_val_label_loss,\n",
    "        \"target_val_label_accuracy\": target_val_label_accuracy,\n",
    "        \"target_val_label_loss\": target_val_label_loss,\n",
    "        \"total_epochs_trained\": total_epochs_trained,\n",
    "        \"total_experiment_time_secs\": total_experiment_time_secs,\n",
    "        \"confusion\": confusion,\n",
    "        \"per_domain_accuracy\": per_domain_accuracy,\n",
    "    },\n",
    "    \"history\": history,\n",
    "    \"dataset_metrics\": get_dataset_metrics(datasets, \"ptn\"),\n",
    "}"
   ]
  },
  {
   "cell_type": "code",
   "execution_count": 16,
   "id": "54a21829",
   "metadata": {
    "execution": {
     "iopub.execute_input": "2022-04-01T22:47:25.168532Z",
     "iopub.status.busy": "2022-04-01T22:47:25.168268Z",
     "iopub.status.idle": "2022-04-01T22:47:25.289925Z",
     "shell.execute_reply": "2022-04-01T22:47:25.290332Z"
    },
    "papermill": {
     "duration": 0.16646,
     "end_time": "2022-04-01T22:47:25.290459",
     "exception": false,
     "start_time": "2022-04-01T22:47:25.123999",
     "status": "completed"
    },
    "tags": []
   },
   "outputs": [
    {
     "data": {
      "image/png": "[encoded data removed]",
      "text/plain": [
       "<Figure size 1080x504 with 1 Axes>"
      ]
     },
     "metadata": {
      "needs_background": "light"
     },
     "output_type": "display_data"
    }
   ],
   "source": [
    "ax = get_loss_curve(experiment)\n",
    "plt.show()"
   ]
  },
  {
   "cell_type": "code",
   "execution_count": 17,
   "id": "fd8a0f60",
   "metadata": {
    "execution": {
     "iopub.execute_input": "2022-04-01T22:47:25.383082Z",
     "iopub.status.busy": "2022-04-01T22:47:25.382813Z",
     "iopub.status.idle": "2022-04-01T22:47:25.526787Z",
     "shell.execute_reply": "2022-04-01T22:47:25.527033Z"
    },
    "papermill": {
     "duration": 0.18954,
     "end_time": "2022-04-01T22:47:25.527116",
     "exception": false,
     "start_time": "2022-04-01T22:47:25.337576",
     "status": "completed"
    },
    "tags": []
   },
   "outputs": [
    {
     "data": {
      "text/plain": [
       "<AxesSubplot:title={'center':'Results'}>"
      ]
     },
     "execution_count": 17,
     "metadata": {},
     "output_type": "execute_result"
    },
    {
     "data": {
      "image/png": "[encoded data removed]",
      "text/plain": [
       "<Figure size 1080x504 with 1 Axes>"
      ]
     },
     "metadata": {
      "needs_background": "light"
     },
     "output_type": "display_data"
    }
   ],
   "source": [
    "get_results_table(experiment)"
   ]
  },
  {
   "cell_type": "code",
   "execution_count": 18,
   "id": "cf8dc689",
   "metadata": {
    "execution": {
     "iopub.execute_input": "2022-04-01T22:47:25.616612Z",
     "iopub.status.busy": "2022-04-01T22:47:25.616352Z",
     "iopub.status.idle": "2022-04-01T22:47:25.729074Z",
     "shell.execute_reply": "2022-04-01T22:47:25.728623Z"
    },
    "papermill": {
     "duration": 0.157855,
     "end_time": "2022-04-01T22:47:25.729166",
     "exception": false,
     "start_time": "2022-04-01T22:47:25.571311",
     "status": "completed"
    },
    "tags": []
   },
   "outputs": [
    {
     "data": {
      "text/plain": [
       "<AxesSubplot:title={'center':'Per Domain Validation Accuracy'}, xlabel='domain'>"
      ]
     },
     "execution_count": 18,
     "metadata": {},
     "output_type": "execute_result"
    },
    {
     "data": {
      "image/png": "[encoded data removed]",
      "text/plain": [
       "<Figure size 1080x504 with 1 Axes>"
      ]
     },
     "metadata": {
      "needs_background": "light"
     },
     "output_type": "display_data"
    }
   ],
   "source": [
    "get_domain_accuracies(experiment)"
   ]
  },
  {
   "cell_type": "code",
   "execution_count": 19,
   "id": "a74ae082",
   "metadata": {
    "execution": {
     "iopub.execute_input": "2022-04-01T22:47:25.824107Z",
     "iopub.status.busy": "2022-04-01T22:47:25.823853Z",
     "iopub.status.idle": "2022-04-01T22:47:25.836802Z",
     "shell.execute_reply": "2022-04-01T22:47:25.836495Z"
    },
    "papermill": {
     "duration": 0.059259,
     "end_time": "2022-04-01T22:47:25.836873",
     "exception": false,
     "start_time": "2022-04-01T22:47:25.777614",
     "status": "completed"
    },
    "tags": []
   },
   "outputs": [
    {
     "name": "stdout",
     "output_type": "stream",
     "text": [
      "Source Test Label Accuracy: 0.5761284722222222 Target Test Label Accuracy: 0.48661458333333335\n",
      "Source Val Label Accuracy: 0.5798611111111112 Target Val Label Accuracy: 0.48505208333333333\n"
     ]
    }
   ],
   "source": [
    "print(\"Source Test Label Accuracy:\", experiment[\"results\"][\"source_test_label_accuracy\"], \"Target Test Label Accuracy:\", experiment[\"results\"][\"target_test_label_accuracy\"])\n",
    "print(\"Source Val Label Accuracy:\", experiment[\"results\"][\"source_val_label_accuracy\"], \"Target Val Label Accuracy:\", experiment[\"results\"][\"target_val_label_accuracy\"])"
   ]
  },
  {
   "cell_type": "code",
   "execution_count": 20,
   "id": "dacca602",
   "metadata": {
    "execution": {
     "iopub.execute_input": "2022-04-01T22:47:25.931871Z",
     "iopub.status.busy": "2022-04-01T22:47:25.931620Z",
     "iopub.status.idle": "2022-04-01T22:47:25.942806Z",
     "shell.execute_reply": "2022-04-01T22:47:25.942358Z"
    },
    "papermill": {
     "duration": 0.05752,
     "end_time": "2022-04-01T22:47:25.942908",
     "exception": false,
     "start_time": "2022-04-01T22:47:25.885388",
     "status": "completed"
    },
    "tags": [
     "experiment_json"
    ]
   },
   "outputs": [
    {
     "data": {
      "text/plain": [
       "'{\"experiment_name\": \"tuned_1v2:oracle.run1_limited\", \"parameters\": {\"experiment_name\": \"tuned_1v2:oracle.run1_limited\", \"device\": \"cuda\", \"lr\": 0.0001, \"labels_source\": [\"3123D52\", \"3123D65\", \"3123D79\", \"3123D80\", \"3123D54\", \"3123D70\", \"3123D7B\", \"3123D89\", \"3123D58\", \"3123D76\", \"3123D7D\", \"3123EFE\", \"3123D64\", \"3123D78\", \"3123D7E\", \"3124E4A\"], \"labels_target\": [\"3123D52\", \"3123D65\", \"3123D79\", \"3123D80\", \"3123D54\", \"3123D70\", \"3123D7B\", \"3123D89\", \"3123D58\", \"3123D76\", \"3123D7D\", \"3123EFE\", \"3123D64\", \"3123D78\", \"3123D7E\", \"3124E4A\"], \"episode_transforms_source\": [], \"episode_transforms_target\": [], \"domains_source\": [8, 32, 50], \"domains_target\": [14, 20, 26, 38, 44], \"num_examples_per_domain_per_label_source\": 2000, \"num_examples_per_domain_per_label_target\": 2000, \"n_shot\": 3, \"n_way\": 16, \"n_query\": 2, \"train_k_factor\": 3, \"val_k_factor\": 2, \"test_k_factor\": 2, \"torch_default_dtype\": \"torch.float32\", \"n_epoch\": 50, \"patience\": 3, \"criteria_for_best\": \"target_accuracy\", \"x_net\": [{\"class\": \"nnReshape\", \"kargs\": {\"shape\": [-1, 1, 2, 256]}}, {\"class\": \"Conv2d\", \"kargs\": {\"in_channels\": 1, \"out_channels\": 256, \"kernel_size\": [1, 7], \"bias\": false, \"padding\": [0, 3]}}, {\"class\": \"ReLU\", \"kargs\": {\"inplace\": true}}, {\"class\": \"BatchNorm2d\", \"kargs\": {\"num_features\": 256}}, {\"class\": \"Conv2d\", \"kargs\": {\"in_channels\": 256, \"out_channels\": 80, \"kernel_size\": [2, 7], \"bias\": true, \"padding\": [0, 3]}}, {\"class\": \"ReLU\", \"kargs\": {\"inplace\": true}}, {\"class\": \"BatchNorm2d\", \"kargs\": {\"num_features\": 80}}, {\"class\": \"Flatten\", \"kargs\": {}}, {\"class\": \"Linear\", \"kargs\": {\"in_features\": 20480, \"out_features\": 256}}, {\"class\": \"ReLU\", \"kargs\": {\"inplace\": true}}, {\"class\": \"BatchNorm1d\", \"kargs\": {\"num_features\": 256}}, {\"class\": \"Linear\", \"kargs\": {\"in_features\": 256, \"out_features\": 256}}], \"NUM_LOGS_PER_EPOCH\": 10, \"BEST_MODEL_PATH\": \"./best_model.pth\", \"pickle_name\": \"oracle.Run1_10kExamples_stratified_ds.2022A.pkl\", \"x_transforms_source\": [\"unit_power\"], \"x_transforms_target\": [\"unit_power\"], \"dataset_seed\": 500, \"seed\": 500}, \"results\": {\"source_test_label_accuracy\": 0.5761284722222222, \"source_test_label_loss\": 1.783416986465454, \"target_test_label_accuracy\": 0.48661458333333335, \"target_test_label_loss\": 2.060401201248169, \"source_val_label_accuracy\": 0.5798611111111112, \"source_val_label_loss\": 1.7894953489303589, \"target_val_label_accuracy\": 0.48505208333333333, \"target_val_label_loss\": 2.087341070175171, \"total_epochs_trained\": 15, \"total_experiment_time_secs\": 1090.0484464168549, \"confusion\": {\"8\": {\"7\": {\"7\": 119, \"6\": 41, \"12\": 1, \"0\": 30, \"13\": 8, \"15\": 8, \"8\": 15, \"4\": 13, \"2\": 4, \"10\": 1}, \"10\": {\"10\": 87, \"0\": 8, \"4\": 16, \"13\": 31, \"1\": 21, \"14\": 46, \"5\": 17, \"6\": 2, \"11\": 12}, \"0\": {\"14\": 10, \"13\": 32, \"4\": 47, \"0\": 79, \"6\": 38, \"7\": 25, \"10\": 8, \"8\": 1}, \"11\": {\"1\": 74, \"4\": 9, \"11\": 91, \"13\": 10, \"5\": 11, \"14\": 25, \"10\": 12, \"8\": 5, \"6\": 3}, \"2\": {\"12\": 21, \"2\": 138, \"7\": 5, \"15\": 20, \"3\": 54, \"8\": 2}, \"14\": {\"4\": 34, \"14\": 48, \"10\": 59, \"13\": 35, \"6\": 3, \"1\": 28, \"5\": 4, \"11\": 19, \"0\": 10}, \"9\": {\"9\": 240}, \"13\": {\"13\": 56, \"10\": 33, \"4\": 40, \"14\": 26, \"6\": 19, \"0\": 49, \"11\": 6, \"1\": 7, \"7\": 4}, \"8\": {\"8\": 169, \"7\": 19, \"4\": 4, \"15\": 21, \"12\": 5, \"11\": 4, \"6\": 16, \"14\": 1, \"13\": 1}, \"15\": {\"15\": 122, \"3\": 11, \"8\": 30, \"12\": 53, \"2\": 19, \"7\": 4, \"6\": 1}, \"4\": {\"13\": 52, \"4\": 58, \"10\": 17, \"14\": 30, \"0\": 37, \"11\": 10, \"7\": 9, \"6\": 22, \"1\": 4, \"8\": 1}, \"5\": {\"5\": 179, \"10\": 18, \"13\": 1, \"1\": 23, \"11\": 12, \"9\": 2, \"14\": 5}, \"3\": {\"3\": 133, \"2\": 55, \"12\": 44, \"15\": 8}, \"1\": {\"14\": 28, \"1\": 83, \"11\": 87, \"10\": 27, \"5\": 11, \"4\": 1, \"13\": 3}, \"6\": {\"4\": 35, \"7\": 60, \"6\": 73, \"15\": 2, \"13\": 20, \"0\": 31, \"8\": 11, \"11\": 4, \"12\": 1, \"2\": 1, \"14\": 2}, \"12\": {\"12\": 100, \"15\": 61, \"3\": 56, \"8\": 4, \"2\": 19}}, \"50\": {\"11\": {\"9\": 30, \"11\": 159, \"12\": 14, \"14\": 17, \"15\": 18, \"1\": 2}, \"2\": {\"2\": 202, \"7\": 1, \"0\": 32, \"6\": 4, \"1\": 1}, \"12\": {\"12\": 199, \"14\": 11, \"9\": 24, \"11\": 6}, \"8\": {\"8\": 226, \"3\": 5, \"10\": 9}, \"4\": {\"4\": 56, \"5\": 25, \"6\": 34, \"1\": 49, \"15\": 54, \"13\": 12, \"7\": 6, \"11\": 2, \"14\": 1, \"2\": 1}, \"10\": {\"10\": 180, \"0\": 26, \"7\": 18, \"5\": 2, \"8\": 9, \"2\": 1, \"13\": 4}, \"14\": {\"14\": 213, \"11\": 7, \"12\": 14, \"15\": 4, \"1\": 2}, \"13\": {\"13\": 108, \"4\": 4, \"7\": 43, \"6\": 13, \"0\": 14, \"5\": 53, \"10\": 4, \"2\": 1}, \"6\": {\"4\": 34, \"6\": 104, \"1\": 35, \"15\": 5, \"5\": 30, \"0\": 3, \"2\": 7, \"13\": 22}, \"9\": {\"9\": 152, \"11\": 47, \"12\": 38, \"14\": 3}, \"15\": {\"15\": 140, \"14\": 4, \"1\": 44, \"4\": 34, \"11\": 13, \"6\": 5}, \"1\": {\"1\": 112, \"15\": 53, \"5\": 4, \"4\": 28, \"6\": 36, \"2\": 3, \"14\": 2, \"11\": 2}, \"3\": {\"3\": 230, \"8\": 10}, \"7\": {\"5\": 27, \"7\": 117, \"10\": 36, \"13\": 52, \"6\": 2, \"0\": 6}, \"0\": {\"10\": 28, \"0\": 163, \"2\": 37, \"7\": 4, \"1\": 1, \"5\": 1, \"6\": 2, \"13\": 4}, \"5\": {\"13\": 60, \"4\": 31, \"6\": 33, \"5\": 60, \"7\": 47, \"1\": 2, \"10\": 4, \"0\": 3}}, \"32\": {\"4\": {\"0\": 50, \"8\": 9, \"2\": 44, \"4\": 69, \"5\": 18, \"7\": 34, \"13\": 7, \"14\": 9}, \"14\": {\"11\": 77, \"14\": 57, \"5\": 17, \"7\": 42, \"2\": 6, \"4\": 13, \"13\": 17, \"0\": 7, \"3\": 4}, \"5\": {\"4\": 20, \"14\": 16, \"13\": 44, \"8\": 33, \"7\": 36, \"5\": 42, \"0\": 27, \"11\": 11, \"3\": 5, \"2\": 6}, \"10\": {\"10\": 233, \"1\": 4, \"6\": 3}, \"13\": {\"5\": 39, \"0\": 15, \"8\": 34, \"14\": 23, \"13\": 64, \"4\": 15, \"3\": 17, \"7\": 14, \"11\": 19}, \"9\": {\"9\": 240}, \"6\": {\"6\": 239, \"10\": 1}, \"3\": {\"3\": 203, \"11\": 15, \"8\": 4, \"13\": 14, \"14\": 3, \"7\": 1}, \"15\": {\"15\": 224, \"3\": 10, \"8\": 6}, \"7\": {\"7\": 84, \"14\": 45, \"4\": 31, \"2\": 8, \"5\": 31, \"0\": 6, \"11\": 15, \"13\": 15, \"8\": 5}, \"12\": {\"12\": 239, \"9\": 1}, \"8\": {\"8\": 126, \"5\": 25, \"13\": 37, \"3\": 12, \"0\": 26, \"7\": 4, \"14\": 4, \"4\": 6}, \"11\": {\"11\": 141, \"3\": 13, \"13\": 16, \"14\": 41, \"5\": 11, \"7\": 14, \"0\": 2, \"4\": 1, \"8\": 1}, \"2\": {\"2\": 182, \"5\": 3, \"4\": 34, \"0\": 17, \"7\": 2, \"13\": 1, \"14\": 1}, \"1\": {\"1\": 238, \"10\": 2}, \"0\": {\"7\": 7, \"0\": 103, \"8\": 31, \"5\": 19, \"4\": 37, \"2\": 27, \"13\": 11, \"14\": 4, \"11\": 1}}, \"20\": {\"7\": {\"2\": 34, \"7\": 86, \"12\": 4, \"13\": 10, \"10\": 10, \"3\": 8, \"9\": 29, \"6\": 12, \"0\": 1, \"8\": 32, \"4\": 7, \"14\": 3, \"11\": 3, \"1\": 1}, \"10\": {\"10\": 104, \"4\": 20, \"8\": 35, \"14\": 50, \"6\": 14, \"7\": 11, \"3\": 2, \"12\": 2, \"9\": 2}, \"0\": {\"9\": 7, \"12\": 14, \"0\": 63, \"5\": 42, \"7\": 1, \"15\": 45, \"1\": 42, \"3\": 9, \"4\": 8, \"2\": 3, \"13\": 6}, \"11\": {\"6\": 16, \"11\": 218, \"7\": 2, \"13\": 1, \"14\": 2, \"8\": 1}, \"2\": {\"9\": 50, \"2\": 53, \"5\": 4, \"12\": 17, \"13\": 29, \"8\": 14, \"7\": 43, \"4\": 3, \"11\": 1, \"3\": 19, \"1\": 2, \"10\": 2, \"0\": 1, \"14\": 1, \"6\": 1}, \"14\": {\"7\": 8, \"14\": 99, \"10\": 48, \"6\": 74, \"9\": 1, \"8\": 8, \"4\": 2}, \"9\": {\"8\": 17, \"9\": 43, \"7\": 28, \"5\": 12, \"3\": 34, \"13\": 21, \"4\": 10, \"12\": 24, \"2\": 39, \"1\": 7, \"11\": 1, \"10\": 1, \"15\": 2, \"0\": 1}, \"13\": {\"9\": 19, \"13\": 133, \"15\": 7, \"6\": 1, \"7\": 9, \"12\": 10, \"2\": 33, \"5\": 10, \"3\": 9, \"1\": 4, \"0\": 2, \"8\": 2, \"11\": 1}, \"8\": {\"7\": 31, \"14\": 13, \"4\": 33, \"8\": 73, \"3\": 18, \"6\": 9, \"9\": 13, \"10\": 26, \"5\": 1, \"12\": 6, \"2\": 16, \"0\": 1}, \"15\": {\"1\": 47, \"13\": 16, \"12\": 14, \"5\": 36, \"15\": 68, \"0\": 47, \"3\": 5, \"9\": 4, \"8\": 1, \"2\": 2}, \"4\": {\"8\": 41, \"9\": 11, \"4\": 90, \"0\": 3, \"14\": 3, \"12\": 19, \"3\": 28, \"10\": 18, \"2\": 11, \"7\": 9, \"1\": 2, \"15\": 1, \"5\": 4}, \"5\": {\"15\": 31, \"1\": 51, \"3\": 17, \"12\": 25, \"2\": 7, \"0\": 43, \"5\": 33, \"4\": 8, \"13\": 12, \"9\": 13}, \"3\": {\"12\": 39, \"3\": 35, \"9\": 32, \"2\": 24, \"8\": 15, \"4\": 32, \"13\": 13, \"5\": 14, \"1\": 9, \"10\": 1, \"7\": 12, \"0\": 9, \"15\": 5}, \"1\": {\"13\": 11, \"15\": 54, \"0\": 46, \"5\": 43, \"12\": 22, \"9\": 5, \"1\": 43, \"7\": 1, \"2\": 7, \"3\": 8}, \"6\": {\"14\": 74, \"6\": 111, \"8\": 3, \"10\": 17, \"11\": 22, \"7\": 12, \"9\": 1}, \"12\": {\"5\": 27, \"2\": 15, \"0\": 17, \"12\": 47, \"3\": 37, \"1\": 21, \"15\": 12, \"9\": 21, \"4\": 17, \"13\": 14, \"7\": 7, \"8\": 5}}, \"14\": {\"14\": {\"4\": 15, \"3\": 37, \"14\": 95, \"2\": 20, \"13\": 44, \"10\": 4, \"5\": 3, \"6\": 19, \"1\": 2, \"0\": 1}, \"6\": {\"3\": 4, \"13\": 71, \"14\": 35, \"6\": 101, \"2\": 24, \"4\": 2, \"5\": 1, \"1\": 1, \"15\": 1}, \"5\": {\"4\": 44, \"5\": 77, \"1\": 62, \"2\": 30, \"6\": 3, \"7\": 9, \"15\": 3, \"3\": 7, \"14\": 3, \"0\": 1, \"13\": 1}, \"15\": {\"7\": 46, \"15\": 189, \"6\": 1, \"5\": 4}, \"11\": {\"11\": 174, \"10\": 16, \"9\": 29, \"0\": 21}, \"8\": {\"8\": 235, \"0\": 4, \"11\": 1}, \"12\": {\"12\": 233, \"9\": 7}, \"1\": {\"4\": 24, \"3\": 8, \"1\": 136, \"2\": 6, \"5\": 61, \"7\": 5}, \"2\": {\"3\": 17, \"2\": 51, \"6\": 34, \"4\": 32, \"14\": 26, \"5\": 37, \"15\": 6, \"13\": 26, \"7\": 3, \"1\": 7, \"0\": 1}, \"13\": {\"6\": 72, \"13\": 66, \"2\": 34, \"4\": 5, \"14\": 43, \"15\": 2, \"5\": 7, \"1\": 1, \"10\": 4, \"3\": 5, \"7\": 1}, \"3\": {\"3\": 126, \"0\": 12, \"2\": 14, \"4\": 51, \"8\": 2, \"1\": 3, \"5\": 8, \"14\": 19, \"10\": 5}, \"0\": {\"0\": 129, \"4\": 2, \"10\": 68, \"8\": 12, \"3\": 15, \"11\": 11, \"14\": 3}, \"9\": {\"9\": 216, \"11\": 16, \"12\": 8}, \"4\": {\"3\": 43, \"2\": 35, \"4\": 60, \"14\": 20, \"13\": 3, \"1\": 32, \"5\": 43, \"8\": 2, \"6\": 2}, \"7\": {\"7\": 191, \"15\": 36, \"5\": 6, \"1\": 7}, \"10\": {\"10\": 151, \"0\": 74, \"3\": 5, \"14\": 4, \"11\": 5, \"8\": 1}}, \"38\": {\"4\": {\"4\": 214, \"12\": 26}, \"14\": {\"2\": 38, \"14\": 137, \"11\": 54, \"13\": 6, \"10\": 5}, \"5\": {\"6\": 22, \"5\": 83, \"10\": 7, \"8\": 62, \"0\": 25, \"3\": 5, \"15\": 9, \"7\": 11, \"1\": 7, \"9\": 8, \"13\": 1}, \"10\": {\"14\": 7, \"10\": 124, \"13\": 26, \"15\": 16, \"5\": 4, \"12\": 40, \"8\": 17, \"2\": 2, \"0\": 4}, \"13\": {\"10\": 16, \"15\": 83, \"13\": 111, \"1\": 14, \"2\": 8, \"5\": 1, \"8\": 5, \"14\": 2}, \"9\": {\"3\": 19, \"9\": 138, \"6\": 79, \"5\": 2, \"8\": 1, \"7\": 1}, \"6\": {\"6\": 150, \"9\": 76, \"3\": 1, \"5\": 13}, \"3\": {\"3\": 183, \"9\": 41, \"0\": 4, \"7\": 8, \"6\": 4}, \"15\": {\"13\": 61, \"15\": 115, \"10\": 5, \"1\": 39, \"5\": 8, \"8\": 11, \"2\": 1}, \"7\": {\"7\": 153, \"0\": 64, \"8\": 10, \"5\": 9, \"6\": 2, \"3\": 1, \"9\": 1}, \"12\": {\"12\": 191, \"10\": 34, \"4\": 12, \"14\": 2, \"7\": 1}, \"8\": {\"15\": 11, \"5\": 66, \"8\": 116, \"10\": 7, \"0\": 31, \"7\": 5, \"12\": 1, \"1\": 1, \"6\": 2}, \"11\": {\"14\": 97, \"11\": 123, \"12\": 7, \"2\": 9, \"10\": 3, \"13\": 1}, \"2\": {\"2\": 195, \"11\": 4, \"14\": 37, \"13\": 4}, \"1\": {\"1\": 204, \"15\": 24, \"13\": 6, \"8\": 2, \"5\": 4}, \"0\": {\"8\": 50, \"15\": 5, \"7\": 81, \"1\": 6, \"6\": 7, \"0\": 42, \"5\": 30, \"3\": 6, \"10\": 7, \"4\": 1, \"9\": 3, \"12\": 2}}, \"44\": {\"8\": {\"8\": 139, \"0\": 82, \"15\": 10, \"5\": 9}, \"11\": {\"11\": 184, \"6\": 32, \"13\": 24}, \"14\": {\"4\": 81, \"14\": 120, \"5\": 6, \"15\": 31, \"0\": 2}, \"10\": {\"10\": 143, \"1\": 23, \"2\": 34, \"12\": 38, \"7\": 2}, \"3\": {\"3\": 190, \"1\": 44, \"12\": 2, \"7\": 2, \"2\": 1, \"10\": 1}, \"15\": {\"15\": 171, \"14\": 29, \"5\": 11, \"4\": 6, \"0\": 20, \"8\": 3}, \"2\": {\"10\": 31, \"7\": 47, \"1\": 18, \"2\": 125, \"3\": 6, \"12\": 5, \"6\": 6, \"9\": 2}, \"12\": {\"12\": 130, \"1\": 61, \"10\": 35, \"3\": 11, \"2\": 3}, \"4\": {\"4\": 151, \"14\": 86, \"15\": 3}, \"1\": {\"1\": 106, \"12\": 51, \"3\": 52, \"10\": 22, \"2\": 7, \"7\": 2}, \"0\": {\"0\": 112, \"8\": 79, \"15\": 21, \"5\": 28}, \"9\": {\"9\": 121, \"2\": 7, \"6\": 21, \"7\": 52, \"13\": 34, \"14\": 1, \"11\": 1, \"3\": 2, \"1\": 1}, \"5\": {\"5\": 161, \"0\": 39, \"15\": 13, \"8\": 23, \"14\": 4}, \"6\": {\"9\": 27, \"13\": 40, \"7\": 15, \"6\": 132, \"11\": 23, \"2\": 3}, \"7\": {\"7\": 116, \"9\": 40, \"2\": 47, \"1\": 9, \"13\": 5, \"3\": 10, \"6\": 11, \"10\": 2}, \"13\": {\"11\": 31, \"9\": 55, \"4\": 2, \"13\": 89, \"6\": 58, \"14\": 1, \"7\": 4}}, \"26\": {\"6\": {\"6\": 126, \"9\": 21, \"10\": 27, \"14\": 6, \"5\": 7, \"13\": 24, \"15\": 10, \"8\": 11, \"0\": 7, \"4\": 1}, \"11\": {\"11\": 205, \"12\": 35}, \"5\": {\"5\": 68, \"9\": 38, \"15\": 33, \"13\": 43, \"8\": 14, \"2\": 15, \"4\": 2, \"6\": 6, \"3\": 4, \"10\": 5, \"7\": 7, \"0\": 4, \"14\": 1}, \"14\": {\"10\": 28, \"14\": 47, \"4\": 36, \"0\": 37, \"1\": 51, \"6\": 3, \"8\": 23, \"7\": 9, \"15\": 2, \"3\": 1, \"2\": 3}, \"2\": {\"2\": 66, \"3\": 68, \"15\": 14, \"7\": 43, \"8\": 11, \"5\": 17, \"1\": 1, \"14\": 2, \"4\": 4, \"0\": 6, \"13\": 4, \"9\": 3, \"6\": 1}, \"7\": {\"5\": 10, \"2\": 40, \"3\": 46, \"15\": 6, \"7\": 70, \"4\": 27, \"1\": 9, \"8\": 8, \"0\": 9, \"10\": 3, \"9\": 5, \"14\": 6, \"13\": 1}, \"3\": {\"3\": 104, \"2\": 59, \"5\": 4, \"8\": 2, \"7\": 53, \"1\": 3, \"4\": 10, \"15\": 1, \"0\": 2, \"14\": 2}, \"4\": {\"10\": 16, \"1\": 32, \"7\": 29, \"0\": 31, \"4\": 53, \"6\": 3, \"8\": 13, \"3\": 12, \"14\": 42, \"15\": 2, \"5\": 3, \"2\": 3, \"9\": 1}, \"9\": {\"5\": 28, \"15\": 36, \"10\": 21, \"6\": 28, \"4\": 10, \"0\": 11, \"9\": 32, \"14\": 4, \"8\": 26, \"13\": 29, \"7\": 7, \"2\": 7, \"1\": 1}, \"12\": {\"12\": 214, \"11\": 25, \"6\": 1}, \"0\": {\"10\": 37, \"14\": 33, \"0\": 39, \"8\": 24, \"4\": 31, \"6\": 13, \"1\": 33, \"5\": 2, \"7\": 9, \"9\": 11, \"2\": 3, \"3\": 1, \"15\": 4}, \"10\": {\"10\": 50, \"13\": 2, \"0\": 35, \"9\": 18, \"14\": 29, \"6\": 26, \"5\": 6, \"1\": 13, \"4\": 15, \"15\": 13, \"8\": 26, \"7\": 3, \"3\": 2, \"2\": 2}, \"8\": {\"15\": 17, \"8\": 34, \"9\": 24, \"0\": 21, \"10\": 24, \"1\": 13, \"4\": 24, \"7\": 20, \"14\": 16, \"6\": 16, \"5\": 16, \"2\": 10, \"13\": 4, \"3\": 1}, \"13\": {\"2\": 11, \"6\": 32, \"9\": 28, \"10\": 3, \"13\": 98, \"15\": 24, \"5\": 35, \"8\": 3, \"7\": 2, \"4\": 3, \"3\": 1}, \"1\": {\"14\": 54, \"1\": 65, \"0\": 29, \"10\": 15, \"4\": 42, \"7\": 12, \"3\": 3, \"5\": 1, \"2\": 4, \"8\": 8, \"6\": 4, \"15\": 1, \"9\": 2}, \"15\": {\"4\": 5, \"15\": 44, \"0\": 9, \"10\": 9, \"2\": 13, \"7\": 8, \"9\": 36, \"5\": 42, \"13\": 32, \"8\": 17, \"6\": 21, \"3\": 3, \"1\": 1}}}, \"per_domain_accuracy\": {\"8\": {\"accuracy\": 0.4622395833333333, \"source?\": true}, \"50\": {\"accuracy\": 0.63046875, \"source?\": true}, \"32\": {\"accuracy\": 0.646875, \"source?\": true}, \"20\": {\"accuracy\": 0.33828125, \"source?\": false}, \"14\": {\"accuracy\": 0.5807291666666666, \"source?\": false}, \"38\": {\"accuracy\": 0.5934895833333333, \"source?\": false}, \"44\": {\"accuracy\": 0.5703125, \"source?\": false}, \"26\": {\"accuracy\": 0.3424479166666667, \"source?\": false}}}, \"history\": {\"epoch_indices\": [1, 2, 3, 4, 5, 6, 7, 8, 9, 10, 11, 12, 13, 14, 15], \"train_label_loss\": [1.778409430053499, 1.3970687817013452, 1.271265455607384, 1.1110982477428422, 0.8341108050256495, 0.6594825984969263, 0.525348614108941, 0.415917673674486, 0.34222695970286926, 0.28367441604172605, 0.2507048930037796, 0.21562593301096636, 0.1924951317804193, 0.17753816580091278, 0.1561714313532566], \"source_val_label_loss\": [1.5435833930969238, 1.4734693765640259, 1.44782292842865, 1.2887835502624512, 1.263641595840454, 1.3200970888137817, 1.417862057685852, 1.479675531387329, 1.5557705163955688, 1.6802235841751099, 1.7894953489303589, 1.8146216869354248, 1.9180667400360107, 1.9092230796813965, 1.9833012819290161], \"target_val_label_loss\": [1.8691610097885132, 1.8130927085876465, 1.783531904220581, 1.5565836429595947, 1.5319373607635498, 1.5614262819290161, 1.6413164138793945, 1.7570964097976685, 1.8617539405822754, 1.9634350538253784, 2.087341070175171, 2.1481785774230957, 2.1849396228790283, 2.1867055892944336, 2.3118138313293457], \"source_val_acc_label\": [0.3933159722222222, 0.4201388888888889, 0.43159722222222224, 0.5414930555555556, 0.5649305555555556, 0.5711805555555556, 0.5694444444444444, 0.5716145833333334, 0.5777777777777777, 0.5746527777777778, 0.5798611111111112, 0.5780381944444445, 0.5764756944444445, 0.5724826388888888, 0.5777777777777777], \"target_val_acc_label\": [0.2738541666666667, 0.29510416666666667, 0.30802083333333335, 0.4311979166666667, 0.4624479166666667, 0.47213541666666664, 0.47375, 0.47208333333333335, 0.48083333333333333, 0.48239583333333336, 0.48505208333333333, 0.4816666666666667, 0.4828125, 0.47796875, 0.48260416666666667]}, \"dataset_metrics\": {\"source\": {\"train\": {\"n_unique_x\": 67200, \"n_unique_y\": 16, \"n_batch/episode\": 2520}, \"val\": {\"n_unique_x\": 14400, \"n_unique_y\": 16, \"n_batch/episode\": 360}, \"test\": {\"n_unique_x\": 14400, \"n_unique_y\": 16, \"n_batch/episode\": 360}}, \"target\": {\"train\": {\"n_unique_x\": 112000, \"n_unique_y\": 16, \"n_batch/episode\": 4200}, \"val\": {\"n_unique_x\": 24000, \"n_unique_y\": 16, \"n_batch/episode\": 600}, \"test\": {\"n_unique_x\": 24000, \"n_unique_y\": 16, \"n_batch/episode\": 600}}}}'"
      ]
     },
     "execution_count": 20,
     "metadata": {},
     "output_type": "execute_result"
    }
   ],
   "source": [
    "json.dumps(experiment)"
   ]
  }
 ],
 "metadata": {
  "celltoolbar": "Tags",
  "kernelspec": {
   "display_name": "Python 3 (ipykernel)",
   "language": "python",
   "name": "python3"
  },
  "language_info": {
   "codemirror_mode": {
    "name": "ipython",
    "version": 3
   },
   "file_extension": ".py",
   "mimetype": "text/x-python",
   "name": "python",
   "nbconvert_exporter": "python",
   "pygments_lexer": "ipython3",
   "version": "3.8.10"
  },
  "papermill": {
   "default_parameters": {},
   "duration": 1142.594734,
   "end_time": "2022-04-01T22:47:26.898764",
   "environment_variables": {},
   "exception": null,
   "input_path": "/mnt/wd500GB/CSC500/csc500-main/csc500-notebooks/templates/ptn_template.ipynb",
   "output_path": "trial.ipynb",
   "parameters": {
    "parameters": {
     "BEST_MODEL_PATH": "./best_model.pth",
     "NUM_LOGS_PER_EPOCH": 10,
     "criteria_for_best": "target_accuracy",
     "dataset_seed": 500,
     "device": "cuda",
     "domains_source": [
      8,
      32,
      50
     ],
     "domains_target": [
      14,
      20,
      26,
      38,
      44
     ],
     "episode_transforms_source": [],
     "episode_transforms_target": [],
     "experiment_name": "tuned_1v2:oracle.run1_limited",
     "labels_source": [
      "3123D52",
      "3123D65",
      "3123D79",
      "3123D80",
      "3123D54",
      "3123D70",
      "3123D7B",
      "3123D89",
      "3123D58",
      "3123D76",
      "3123D7D",
      "3123EFE",
      "3123D64",
      "3123D78",
      "3123D7E",
      "3124E4A"
     ],
     "labels_target": [
      "3123D52",
      "3123D65",
      "3123D79",
      "3123D80",
      "3123D54",
      "3123D70",
      "3123D7B",
      "3123D89",
      "3123D58",
      "3123D76",
      "3123D7D",
      "3123EFE",
      "3123D64",
      "3123D78",
      "3123D7E",
      "3124E4A"
     ],
     "lr": 0.0001,
     "n_epoch": 50,
     "n_query": 2,
     "n_shot": 3,
     "n_way": 16,
     "num_examples_per_domain_per_label_source": 2000,
     "num_examples_per_domain_per_label_target": 2000,
     "patience": 3,
     "pickle_name": "oracle.Run1_10kExamples_stratified_ds.2022A.pkl",
     "seed": 500,
     "test_k_factor": 2,
     "torch_default_dtype": "torch.float32",
     "train_k_factor": 3,
     "val_k_factor": 2,
     "x_net": [
      {
       "class": "nnReshape",
       "kargs": {
        "shape": [
         -1,
         1,
         2,
         256
        ]
       }
      },
      {
       "class": "Conv2d",
       "kargs": {
        "bias": false,
        "in_channels": 1,
        "kernel_size": [
         1,
         7
        ],
        "out_channels": 256,
        "padding": [
         0,
         3
        ]
       }
      },
      {
       "class": "ReLU",
       "kargs": {
        "inplace": true
       }
      },
      {
       "class": "BatchNorm2d",
       "kargs": {
        "num_features": 256
       }
      },
      {
       "class": "Conv2d",
       "kargs": {
        "bias": true,
        "in_channels": 256,
        "kernel_size": [
         2,
         7
        ],
        "out_channels": 80,
        "padding": [
         0,
         3
        ]
       }
      },
      {
       "class": "ReLU",
       "kargs": {
        "inplace": true
       }
      },
      {
       "class": "BatchNorm2d",
       "kargs": {
        "num_features": 80
       }
      },
      {
       "class": "Flatten",
       "kargs": {}
      },
      {
       "class": "Linear",
       "kargs": {
        "in_features": 20480,
        "out_features": 256
       }
      },
      {
       "class": "ReLU",
       "kargs": {
        "inplace": true
       }
      },
      {
       "class": "BatchNorm1d",
       "kargs": {
        "num_features": 256
       }
      },
      {
       "class": "Linear",
       "kargs": {
        "in_features": 256,
        "out_features": 256
       }
      }
     ],
     "x_transforms_source": [
      "unit_power"
     ],
     "x_transforms_target": [
      "unit_power"
     ]
    }
   },
   "start_time": "2022-04-01T22:28:24.304030",
   "version": "2.3.4"
  }
 },
 "nbformat": 4,
 "nbformat_minor": 5
}