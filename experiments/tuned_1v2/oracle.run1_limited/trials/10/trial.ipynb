{
 "cells": [
  {
   "cell_type": "markdown",
   "id": "9fea5f46",
   "metadata": {
    "papermill": {
     "duration": 0.024924,
     "end_time": "2022-03-26T08:17:37.972849",
     "exception": false,
     "start_time": "2022-03-26T08:17:37.947925",
     "status": "completed"
    },
    "tags": []
   },
   "source": [
    "# PTN Template\n",
    "This notebook serves as a template for single dataset PTN experiments  \n",
    "It can be run on its own by setting STANDALONE to True (do a find for \"STANDALONE\" to see where)  \n",
    "But it is intended to be executed as part of a *papermill.py script. See any of the   \n",
    "experimentes with a papermill script to get started with that workflow.  "
   ]
  },
  {
   "cell_type": "code",
   "execution_count": 1,
   "id": "0902182a",
   "metadata": {
    "execution": {
     "iopub.execute_input": "2022-03-26T08:17:38.024695Z",
     "iopub.status.busy": "2022-03-26T08:17:38.023843Z",
     "iopub.status.idle": "2022-03-26T08:17:39.916028Z",
     "shell.execute_reply": "2022-03-26T08:17:39.915586Z"
    },
    "papermill": {
     "duration": 1.924598,
     "end_time": "2022-03-26T08:17:39.916134",
     "exception": false,
     "start_time": "2022-03-26T08:17:37.991536",
     "status": "completed"
    },
    "tags": []
   },
   "outputs": [],
   "source": [
    "%load_ext autoreload\n",
    "%autoreload 2\n",
    "%matplotlib inline\n",
    "\n",
    "    \n",
    "import os, json, sys, time, random\n",
    "import numpy as np\n",
    "import torch\n",
    "from torch.optim import Adam\n",
    "from  easydict import EasyDict\n",
    "import matplotlib.pyplot as plt\n",
    "\n",
    "from steves_models.steves_ptn import Steves_Prototypical_Network\n",
    "\n",
    "from steves_utils.lazy_iterable_wrapper import Lazy_Iterable_Wrapper\n",
    "from steves_utils.iterable_aggregator import Iterable_Aggregator\n",
    "from steves_utils.ptn_train_eval_test_jig import  PTN_Train_Eval_Test_Jig\n",
    "from steves_utils.torch_sequential_builder import build_sequential\n",
    "from steves_utils.torch_utils import get_dataset_metrics, ptn_confusion_by_domain_over_dataloader\n",
    "from steves_utils.utils_v2 import (per_domain_accuracy_from_confusion, get_datasets_base_path)\n",
    "from steves_utils.PTN.utils import independent_accuracy_assesment\n",
    "\n",
    "from steves_utils.stratified_dataset.episodic_accessor import Episodic_Accessor_Factory\n",
    "\n",
    "from steves_utils.ptn_do_report import (\n",
    "    get_loss_curve,\n",
    "    get_results_table,\n",
    "    get_parameters_table,\n",
    "    get_domain_accuracies,\n",
    ")\n",
    "\n",
    "from steves_utils.transforms import get_chained_transform"
   ]
  },
  {
   "cell_type": "markdown",
   "id": "41c840b4",
   "metadata": {
    "papermill": {
     "duration": 0.013897,
     "end_time": "2022-03-26T08:17:39.944748",
     "exception": false,
     "start_time": "2022-03-26T08:17:39.930851",
     "status": "completed"
    },
    "tags": []
   },
   "source": [
    "# Required Parameters\n",
    "These are allowed parameters, not defaults\n",
    "Each of these values need to be present in the injected parameters (the notebook will raise an exception if they are not present)\n",
    "\n",
    "Papermill uses the cell tag \"parameters\" to inject the real parameters below this cell.\n",
    "Enable tags to see what I mean"
   ]
  },
  {
   "cell_type": "code",
   "execution_count": 2,
   "id": "fd44eb83",
   "metadata": {
    "execution": {
     "iopub.execute_input": "2022-03-26T08:17:39.976891Z",
     "iopub.status.busy": "2022-03-26T08:17:39.976509Z",
     "iopub.status.idle": "2022-03-26T08:17:39.997125Z",
     "shell.execute_reply": "2022-03-26T08:17:39.996751Z"
    },
    "papermill": {
     "duration": 0.038445,
     "end_time": "2022-03-26T08:17:39.997198",
     "exception": false,
     "start_time": "2022-03-26T08:17:39.958753",
     "status": "completed"
    },
    "tags": []
   },
   "outputs": [],
   "source": [
    "required_parameters = {\n",
    "    \"experiment_name\",\n",
    "    \"lr\",\n",
    "    \"device\",\n",
    "    \"seed\",\n",
    "    \"dataset_seed\",\n",
    "    \"labels_source\",\n",
    "    \"labels_target\",\n",
    "    \"domains_source\",\n",
    "    \"domains_target\",\n",
    "    \"num_examples_per_domain_per_label_source\",\n",
    "    \"num_examples_per_domain_per_label_target\",\n",
    "    \"n_shot\",\n",
    "    \"n_way\",\n",
    "    \"n_query\",\n",
    "    \"train_k_factor\",\n",
    "    \"val_k_factor\",\n",
    "    \"test_k_factor\",\n",
    "    \"n_epoch\",\n",
    "    \"patience\",\n",
    "    \"criteria_for_best\",\n",
    "    \"x_transforms_source\",\n",
    "    \"x_transforms_target\",\n",
    "    \"episode_transforms_source\",\n",
    "    \"episode_transforms_target\",\n",
    "    \"pickle_name\",\n",
    "    \"x_net\",\n",
    "    \"NUM_LOGS_PER_EPOCH\",\n",
    "    \"BEST_MODEL_PATH\",\n",
    "    \"torch_default_dtype\"\n",
    "}"
   ]
  },
  {
   "cell_type": "code",
   "execution_count": 3,
   "id": "fa3f0049",
   "metadata": {
    "execution": {
     "iopub.execute_input": "2022-03-26T08:17:40.034938Z",
     "iopub.status.busy": "2022-03-26T08:17:40.034515Z",
     "iopub.status.idle": "2022-03-26T08:17:40.056150Z",
     "shell.execute_reply": "2022-03-26T08:17:40.055775Z"
    },
    "papermill": {
     "duration": 0.044845,
     "end_time": "2022-03-26T08:17:40.056228",
     "exception": false,
     "start_time": "2022-03-26T08:17:40.011383",
     "status": "completed"
    },
    "tags": [
     "parameters"
    ]
   },
   "outputs": [],
   "source": [
    "\n",
    "\n",
    "standalone_parameters = {}\n",
    "standalone_parameters[\"experiment_name\"] = \"STANDALONE PTN\"\n",
    "standalone_parameters[\"lr\"] = 0.0001\n",
    "standalone_parameters[\"device\"] = \"cuda\"\n",
    "\n",
    "standalone_parameters[\"seed\"] = 1337\n",
    "standalone_parameters[\"dataset_seed\"] = 1337\n",
    "\n",
    "\n",
    "standalone_parameters[\"num_examples_per_domain_per_label_source\"]=100\n",
    "standalone_parameters[\"num_examples_per_domain_per_label_target\"]=100\n",
    "\n",
    "standalone_parameters[\"n_shot\"] = 3\n",
    "standalone_parameters[\"n_query\"]  = 2\n",
    "standalone_parameters[\"train_k_factor\"] = 1\n",
    "standalone_parameters[\"val_k_factor\"] = 2\n",
    "standalone_parameters[\"test_k_factor\"] = 2\n",
    "\n",
    "\n",
    "standalone_parameters[\"n_epoch\"] = 100\n",
    "\n",
    "standalone_parameters[\"patience\"] = 10\n",
    "standalone_parameters[\"criteria_for_best\"] = \"target_accuracy\"\n",
    "\n",
    "standalone_parameters[\"x_transforms_source\"] = [\"unit_power\"]\n",
    "standalone_parameters[\"x_transforms_target\"] = [\"unit_power\"]\n",
    "standalone_parameters[\"episode_transforms_source\"] = []\n",
    "standalone_parameters[\"episode_transforms_target\"] = []\n",
    "\n",
    "standalone_parameters[\"torch_default_dtype\"] = \"torch.float32\" \n",
    "\n",
    "\n",
    "\n",
    "standalone_parameters[\"x_net\"] =     [\n",
    "    {\"class\": \"nnReshape\", \"kargs\": {\"shape\":[-1, 1, 2, 256]}},\n",
    "    {\"class\": \"Conv2d\", \"kargs\": { \"in_channels\":1, \"out_channels\":256, \"kernel_size\":(1,7), \"bias\":False, \"padding\":(0,3), },},\n",
    "    {\"class\": \"ReLU\", \"kargs\": {\"inplace\": True}},\n",
    "    {\"class\": \"BatchNorm2d\", \"kargs\": {\"num_features\":256}},\n",
    "\n",
    "    {\"class\": \"Conv2d\", \"kargs\": { \"in_channels\":256, \"out_channels\":80, \"kernel_size\":(2,7), \"bias\":True, \"padding\":(0,3), },},\n",
    "    {\"class\": \"ReLU\", \"kargs\": {\"inplace\": True}},\n",
    "    {\"class\": \"BatchNorm2d\", \"kargs\": {\"num_features\":80}},\n",
    "    {\"class\": \"Flatten\", \"kargs\": {}},\n",
    "\n",
    "    {\"class\": \"Linear\", \"kargs\": {\"in_features\": 80*256, \"out_features\": 256}}, # 80 units per IQ pair\n",
    "    {\"class\": \"ReLU\", \"kargs\": {\"inplace\": True}},\n",
    "    {\"class\": \"BatchNorm1d\", \"kargs\": {\"num_features\":256}},\n",
    "\n",
    "    {\"class\": \"Linear\", \"kargs\": {\"in_features\": 256, \"out_features\": 256}},\n",
    "]\n",
    "\n",
    "# Parameters relevant to results\n",
    "# These parameters will basically never need to change\n",
    "standalone_parameters[\"NUM_LOGS_PER_EPOCH\"] = 10\n",
    "standalone_parameters[\"BEST_MODEL_PATH\"] = \"./best_model.pth\"\n",
    "\n",
    "# uncomment for CORES dataset\n",
    "from steves_utils.CORES.utils import (\n",
    "    ALL_NODES,\n",
    "    ALL_NODES_MINIMUM_1000_EXAMPLES,\n",
    "    ALL_DAYS\n",
    ")\n",
    "\n",
    "\n",
    "standalone_parameters[\"labels_source\"] = ALL_NODES\n",
    "standalone_parameters[\"labels_target\"] = ALL_NODES\n",
    "\n",
    "standalone_parameters[\"domains_source\"] = [1]\n",
    "standalone_parameters[\"domains_target\"] = [2,3,4,5]\n",
    "\n",
    "standalone_parameters[\"pickle_name\"] = \"cores.stratified_ds.2022A.pkl\"\n",
    "\n",
    "\n",
    "# Uncomment these for ORACLE dataset\n",
    "# from steves_utils.ORACLE.utils_v2 import (\n",
    "#     ALL_DISTANCES_FEET,\n",
    "#     ALL_RUNS,\n",
    "#     ALL_SERIAL_NUMBERS,\n",
    "# )\n",
    "# standalone_parameters[\"labels_source\"] = ALL_SERIAL_NUMBERS\n",
    "# standalone_parameters[\"labels_target\"] = ALL_SERIAL_NUMBERS\n",
    "# standalone_parameters[\"domains_source\"] = [8,20, 38,50]\n",
    "# standalone_parameters[\"domains_target\"] = [14, 26, 32, 44, 56]\n",
    "# standalone_parameters[\"pickle_name\"] = \"oracle.frame_indexed.stratified_ds.2022A.pkl\"\n",
    "# standalone_parameters[\"num_examples_per_domain_per_label_source\"]=1000\n",
    "# standalone_parameters[\"num_examples_per_domain_per_label_target\"]=1000\n",
    "\n",
    "# Uncomment these for Metahan dataset\n",
    "# standalone_parameters[\"labels_source\"] = list(range(19))\n",
    "# standalone_parameters[\"labels_target\"] = list(range(19))\n",
    "# standalone_parameters[\"domains_source\"] = [0]\n",
    "# standalone_parameters[\"domains_target\"] = [1]\n",
    "# standalone_parameters[\"pickle_name\"] = \"metehan.stratified_ds.2022A.pkl\"\n",
    "# standalone_parameters[\"n_way\"]  = len(standalone_parameters[\"labels_source\"])\n",
    "# standalone_parameters[\"num_examples_per_domain_per_label_source\"]=200\n",
    "# standalone_parameters[\"num_examples_per_domain_per_label_target\"]=100\n",
    "\n",
    "\n",
    "standalone_parameters[\"n_way\"]  = len(standalone_parameters[\"labels_source\"])"
   ]
  },
  {
   "cell_type": "code",
   "execution_count": 4,
   "id": "7f8699cd",
   "metadata": {
    "execution": {
     "iopub.execute_input": "2022-03-26T08:17:40.093947Z",
     "iopub.status.busy": "2022-03-26T08:17:40.093527Z",
     "iopub.status.idle": "2022-03-26T08:17:40.118239Z",
     "shell.execute_reply": "2022-03-26T08:17:40.117845Z"
    },
    "papermill": {
     "duration": 0.047506,
     "end_time": "2022-03-26T08:17:40.118324",
     "exception": false,
     "start_time": "2022-03-26T08:17:40.070818",
     "status": "completed"
    },
    "tags": [
     "injected-parameters"
    ]
   },
   "outputs": [],
   "source": [
    "# Parameters\n",
    "parameters = {\n",
    "    \"experiment_name\": \"tuned_1v2:oracle.run1_limited\",\n",
    "    \"device\": \"cuda\",\n",
    "    \"lr\": 0.0001,\n",
    "    \"labels_source\": [\n",
    "        \"3123D52\",\n",
    "        \"3123D65\",\n",
    "        \"3123D79\",\n",
    "        \"3123D80\",\n",
    "        \"3123D54\",\n",
    "        \"3123D70\",\n",
    "        \"3123D7B\",\n",
    "        \"3123D89\",\n",
    "        \"3123D58\",\n",
    "        \"3123D76\",\n",
    "        \"3123D7D\",\n",
    "        \"3123EFE\",\n",
    "        \"3123D64\",\n",
    "        \"3123D78\",\n",
    "        \"3123D7E\",\n",
    "        \"3124E4A\",\n",
    "    ],\n",
    "    \"labels_target\": [\n",
    "        \"3123D52\",\n",
    "        \"3123D65\",\n",
    "        \"3123D79\",\n",
    "        \"3123D80\",\n",
    "        \"3123D54\",\n",
    "        \"3123D70\",\n",
    "        \"3123D7B\",\n",
    "        \"3123D89\",\n",
    "        \"3123D58\",\n",
    "        \"3123D76\",\n",
    "        \"3123D7D\",\n",
    "        \"3123EFE\",\n",
    "        \"3123D64\",\n",
    "        \"3123D78\",\n",
    "        \"3123D7E\",\n",
    "        \"3124E4A\",\n",
    "    ],\n",
    "    \"episode_transforms_source\": [],\n",
    "    \"episode_transforms_target\": [],\n",
    "    \"domains_source\": [8, 32, 50],\n",
    "    \"domains_target\": [14, 20, 26, 38, 44],\n",
    "    \"num_examples_per_domain_per_label_source\": -1,\n",
    "    \"num_examples_per_domain_per_label_target\": -1,\n",
    "    \"n_shot\": 3,\n",
    "    \"n_way\": 16,\n",
    "    \"n_query\": 2,\n",
    "    \"train_k_factor\": 3,\n",
    "    \"val_k_factor\": 2,\n",
    "    \"test_k_factor\": 2,\n",
    "    \"torch_default_dtype\": \"torch.float32\",\n",
    "    \"n_epoch\": 50,\n",
    "    \"patience\": 3,\n",
    "    \"criteria_for_best\": \"target_accuracy\",\n",
    "    \"x_net\": [\n",
    "        {\"class\": \"nnReshape\", \"kargs\": {\"shape\": [-1, 1, 2, 256]}},\n",
    "        {\n",
    "            \"class\": \"Conv2d\",\n",
    "            \"kargs\": {\n",
    "                \"in_channels\": 1,\n",
    "                \"out_channels\": 256,\n",
    "                \"kernel_size\": [1, 7],\n",
    "                \"bias\": False,\n",
    "                \"padding\": [0, 3],\n",
    "            },\n",
    "        },\n",
    "        {\"class\": \"ReLU\", \"kargs\": {\"inplace\": True}},\n",
    "        {\"class\": \"BatchNorm2d\", \"kargs\": {\"num_features\": 256}},\n",
    "        {\n",
    "            \"class\": \"Conv2d\",\n",
    "            \"kargs\": {\n",
    "                \"in_channels\": 256,\n",
    "                \"out_channels\": 80,\n",
    "                \"kernel_size\": [2, 7],\n",
    "                \"bias\": True,\n",
    "                \"padding\": [0, 3],\n",
    "            },\n",
    "        },\n",
    "        {\"class\": \"ReLU\", \"kargs\": {\"inplace\": True}},\n",
    "        {\"class\": \"BatchNorm2d\", \"kargs\": {\"num_features\": 80}},\n",
    "        {\"class\": \"Flatten\", \"kargs\": {}},\n",
    "        {\"class\": \"Linear\", \"kargs\": {\"in_features\": 20480, \"out_features\": 256}},\n",
    "        {\"class\": \"ReLU\", \"kargs\": {\"inplace\": True}},\n",
    "        {\"class\": \"BatchNorm1d\", \"kargs\": {\"num_features\": 256}},\n",
    "        {\"class\": \"Linear\", \"kargs\": {\"in_features\": 256, \"out_features\": 256}},\n",
    "    ],\n",
    "    \"NUM_LOGS_PER_EPOCH\": 10,\n",
    "    \"BEST_MODEL_PATH\": \"./best_model.pth\",\n",
    "    \"pickle_name\": \"oracle.Run1_10kExamples_stratified_ds.2022A.pkl\",\n",
    "    \"x_transforms_source\": [\"unit_power\"],\n",
    "    \"x_transforms_target\": [\"unit_power\"],\n",
    "    \"dataset_seed\": 500,\n",
    "    \"seed\": 500,\n",
    "}\n"
   ]
  },
  {
   "cell_type": "code",
   "execution_count": 5,
   "id": "8fa1cc33",
   "metadata": {
    "execution": {
     "iopub.execute_input": "2022-03-26T08:17:40.154051Z",
     "iopub.status.busy": "2022-03-26T08:17:40.153679Z",
     "iopub.status.idle": "2022-03-26T08:17:40.177190Z",
     "shell.execute_reply": "2022-03-26T08:17:40.176793Z"
    },
    "papermill": {
     "duration": 0.04418,
     "end_time": "2022-03-26T08:17:40.177275",
     "exception": false,
     "start_time": "2022-03-26T08:17:40.133095",
     "status": "completed"
    },
    "tags": []
   },
   "outputs": [],
   "source": [
    "# Set this to True if you want to run this template directly\n",
    "STANDALONE = False\n",
    "if STANDALONE:\n",
    "    print(\"parameters not injected, running with standalone_parameters\")\n",
    "    parameters = standalone_parameters\n",
    "\n",
    "if not 'parameters' in locals() and not 'parameters' in globals():\n",
    "    raise Exception(\"Parameter injection failed\")\n",
    "\n",
    "#Use an easy dict for all the parameters\n",
    "p = EasyDict(parameters)\n",
    "\n",
    "supplied_keys = set(p.keys())\n",
    "\n",
    "if  supplied_keys != required_parameters:\n",
    "    print(\"Parameters are incorrect\")\n",
    "    if len(supplied_keys - required_parameters)>0: print(\"Shouldn't have:\", str(supplied_keys - required_parameters))\n",
    "    if len(required_parameters - supplied_keys)>0: print(\"Need to have:\", str(required_parameters - supplied_keys))\n",
    "    raise RuntimeError(\"Parameters are incorrect\")\n",
    "\n"
   ]
  },
  {
   "cell_type": "code",
   "execution_count": 6,
   "id": "3a028d58",
   "metadata": {
    "execution": {
     "iopub.execute_input": "2022-03-26T08:17:40.211365Z",
     "iopub.status.busy": "2022-03-26T08:17:40.210998Z",
     "iopub.status.idle": "2022-03-26T08:17:40.235611Z",
     "shell.execute_reply": "2022-03-26T08:17:40.235258Z"
    },
    "papermill": {
     "duration": 0.043513,
     "end_time": "2022-03-26T08:17:40.235695",
     "exception": false,
     "start_time": "2022-03-26T08:17:40.192182",
     "status": "completed"
    },
    "tags": []
   },
   "outputs": [],
   "source": [
    "###################################\n",
    "# Set the RNGs and make it all deterministic\n",
    "###################################\n",
    "np.random.seed(p.seed)\n",
    "random.seed(p.seed)\n",
    "torch.manual_seed(p.seed)\n",
    "\n",
    "torch.use_deterministic_algorithms(True) "
   ]
  },
  {
   "cell_type": "code",
   "execution_count": 7,
   "id": "b691acf6",
   "metadata": {
    "execution": {
     "iopub.execute_input": "2022-03-26T08:17:40.268982Z",
     "iopub.status.busy": "2022-03-26T08:17:40.268246Z",
     "iopub.status.idle": "2022-03-26T08:17:40.292137Z",
     "shell.execute_reply": "2022-03-26T08:17:40.291750Z"
    },
    "papermill": {
     "duration": 0.041811,
     "end_time": "2022-03-26T08:17:40.292219",
     "exception": false,
     "start_time": "2022-03-26T08:17:40.250408",
     "status": "completed"
    },
    "tags": []
   },
   "outputs": [],
   "source": [
    "###########################################\n",
    "# The stratified datasets honor this\n",
    "###########################################\n",
    "torch.set_default_dtype(eval(p.torch_default_dtype))"
   ]
  },
  {
   "cell_type": "code",
   "execution_count": 8,
   "id": "b5fba671",
   "metadata": {
    "execution": {
     "iopub.execute_input": "2022-03-26T08:17:40.325207Z",
     "iopub.status.busy": "2022-03-26T08:17:40.324838Z",
     "iopub.status.idle": "2022-03-26T08:17:40.377233Z",
     "shell.execute_reply": "2022-03-26T08:17:40.376860Z"
    },
    "papermill": {
     "duration": 0.070127,
     "end_time": "2022-03-26T08:17:40.377333",
     "exception": false,
     "start_time": "2022-03-26T08:17:40.307206",
     "status": "completed"
    },
    "tags": []
   },
   "outputs": [],
   "source": [
    "###################################\n",
    "# Build the network(s)\n",
    "# Note: It's critical to do this AFTER setting the RNG\n",
    "# (This is due to the randomized initial weights)\n",
    "###################################\n",
    "x_net = build_sequential(p.x_net)"
   ]
  },
  {
   "cell_type": "code",
   "execution_count": 9,
   "id": "5d7e61cc",
   "metadata": {
    "execution": {
     "iopub.execute_input": "2022-03-26T08:17:40.411277Z",
     "iopub.status.busy": "2022-03-26T08:17:40.410912Z",
     "iopub.status.idle": "2022-03-26T08:17:40.434234Z",
     "shell.execute_reply": "2022-03-26T08:17:40.433849Z"
    },
    "papermill": {
     "duration": 0.04175,
     "end_time": "2022-03-26T08:17:40.434318",
     "exception": false,
     "start_time": "2022-03-26T08:17:40.392568",
     "status": "completed"
    },
    "tags": []
   },
   "outputs": [],
   "source": [
    "start_time_secs = time.time()"
   ]
  },
  {
   "cell_type": "code",
   "execution_count": 10,
   "id": "fd5442bc",
   "metadata": {
    "execution": {
     "iopub.execute_input": "2022-03-26T08:17:40.477548Z",
     "iopub.status.busy": "2022-03-26T08:17:40.476947Z",
     "iopub.status.idle": "2022-03-26T08:19:32.549121Z",
     "shell.execute_reply": "2022-03-26T08:19:32.548359Z"
    },
    "papermill": {
     "duration": 112.099619,
     "end_time": "2022-03-26T08:19:32.549299",
     "exception": false,
     "start_time": "2022-03-26T08:17:40.449680",
     "status": "completed"
    },
    "tags": []
   },
   "outputs": [],
   "source": [
    "###################################\n",
    "# Build the dataset\n",
    "###################################\n",
    "\n",
    "if p.x_transforms_source == []: x_transform_source = None\n",
    "else: x_transform_source = get_chained_transform(p.x_transforms_source) \n",
    "\n",
    "if p.x_transforms_target == []: x_transform_target = None\n",
    "else: x_transform_target = get_chained_transform(p.x_transforms_target)\n",
    "\n",
    "if p.episode_transforms_source == []: episode_transform_source = None\n",
    "else: raise Exception(\"episode_transform_source not implemented\")\n",
    "\n",
    "if p.episode_transforms_target == []: episode_transform_target = None\n",
    "else: raise Exception(\"episode_transform_target not implemented\")\n",
    "\n",
    "\n",
    "eaf_source = Episodic_Accessor_Factory(\n",
    "    labels=p.labels_source,\n",
    "    domains=p.domains_source,\n",
    "    num_examples_per_domain_per_label=p.num_examples_per_domain_per_label_source,\n",
    "    iterator_seed=p.seed,\n",
    "    dataset_seed=p.dataset_seed,\n",
    "    n_shot=p.n_shot,\n",
    "    n_way=p.n_way,\n",
    "    n_query=p.n_query,\n",
    "    train_val_test_k_factors=(p.train_k_factor,p.val_k_factor,p.test_k_factor),\n",
    "    pickle_path=os.path.join(get_datasets_base_path(), p.pickle_name),\n",
    "    x_transform_func=x_transform_source,\n",
    "    example_transform_func=episode_transform_source,\n",
    "    \n",
    ")\n",
    "train_original_source, val_original_source, test_original_source = eaf_source.get_train(), eaf_source.get_val(), eaf_source.get_test()\n",
    "\n",
    "\n",
    "eaf_target = Episodic_Accessor_Factory(\n",
    "    labels=p.labels_target,\n",
    "    domains=p.domains_target,\n",
    "    num_examples_per_domain_per_label=p.num_examples_per_domain_per_label_target,\n",
    "    iterator_seed=p.seed,\n",
    "    dataset_seed=p.dataset_seed,\n",
    "    n_shot=p.n_shot,\n",
    "    n_way=p.n_way,\n",
    "    n_query=p.n_query,\n",
    "    train_val_test_k_factors=(p.train_k_factor,p.val_k_factor,p.test_k_factor),\n",
    "    pickle_path=os.path.join(get_datasets_base_path(), p.pickle_name),\n",
    "    x_transform_func=x_transform_target,\n",
    "    example_transform_func=episode_transform_target,\n",
    ")\n",
    "train_original_target, val_original_target, test_original_target = eaf_target.get_train(), eaf_target.get_val(), eaf_target.get_test()\n",
    "\n",
    "\n",
    "transform_lambda = lambda ex: ex[1] # Original is (<domain>, <episode>) so we strip down to episode only\n",
    "\n",
    "train_processed_source = Lazy_Iterable_Wrapper(train_original_source, transform_lambda)\n",
    "val_processed_source   = Lazy_Iterable_Wrapper(val_original_source, transform_lambda)\n",
    "test_processed_source  = Lazy_Iterable_Wrapper(test_original_source, transform_lambda)\n",
    "\n",
    "train_processed_target = Lazy_Iterable_Wrapper(train_original_target, transform_lambda)\n",
    "val_processed_target   = Lazy_Iterable_Wrapper(val_original_target, transform_lambda)\n",
    "test_processed_target  = Lazy_Iterable_Wrapper(test_original_target, transform_lambda)\n",
    "\n",
    "datasets = EasyDict({\n",
    "    \"source\": {\n",
    "        \"original\": {\"train\":train_original_source, \"val\":val_original_source, \"test\":test_original_source},\n",
    "        \"processed\": {\"train\":train_processed_source, \"val\":val_processed_source, \"test\":test_processed_source}\n",
    "    },\n",
    "    \"target\": {\n",
    "        \"original\": {\"train\":train_original_target, \"val\":val_original_target, \"test\":test_original_target},\n",
    "        \"processed\": {\"train\":train_processed_target, \"val\":val_processed_target, \"test\":test_processed_target}\n",
    "    },\n",
    "})"
   ]
  },
  {
   "cell_type": "code",
   "execution_count": 11,
   "id": "296189d9",
   "metadata": {
    "execution": {
     "iopub.execute_input": "2022-03-26T08:19:32.590707Z",
     "iopub.status.busy": "2022-03-26T08:19:32.590307Z",
     "iopub.status.idle": "2022-03-26T08:19:40.156138Z",
     "shell.execute_reply": "2022-03-26T08:19:40.155168Z"
    },
    "papermill": {
     "duration": 7.58728,
     "end_time": "2022-03-26T08:19:40.156319",
     "exception": false,
     "start_time": "2022-03-26T08:19:32.569039",
     "status": "completed"
    },
    "tags": []
   },
   "outputs": [
    {
     "name": "stdout",
     "output_type": "stream",
     "text": [
      "Visually inspect these to see if they line up with expected values given the transforms\n",
      "x_transforms_source ['unit_power']\n",
      "x_transforms_target ['unit_power']\n",
      "Average magnitude, source: 0.8832622\n",
      "Average power, source: 1.0\n"
     ]
    },
    {
     "name": "stdout",
     "output_type": "stream",
     "text": [
      "Average magnitude, target: 0.8900848\n",
      "Average power, target: 1.0\n"
     ]
    }
   ],
   "source": [
    "# Some quick unit tests on the data\n",
    "from steves_utils.transforms import get_average_power, get_average_magnitude\n",
    "\n",
    "q_x, q_y, s_x, s_y, truth = next(iter(train_processed_source))\n",
    "\n",
    "assert q_x.dtype == eval(p.torch_default_dtype)\n",
    "assert s_x.dtype == eval(p.torch_default_dtype)\n",
    "\n",
    "print(\"Visually inspect these to see if they line up with expected values given the transforms\")\n",
    "print('x_transforms_source', p.x_transforms_source)\n",
    "print('x_transforms_target', p.x_transforms_target)\n",
    "print(\"Average magnitude, source:\", get_average_magnitude(q_x[0].numpy()))\n",
    "print(\"Average power, source:\", get_average_power(q_x[0].numpy()))\n",
    "\n",
    "q_x, q_y, s_x, s_y, truth = next(iter(train_processed_target))\n",
    "print(\"Average magnitude, target:\", get_average_magnitude(q_x[0].numpy()))\n",
    "print(\"Average power, target:\", get_average_power(q_x[0].numpy()))\n"
   ]
  },
  {
   "cell_type": "code",
   "execution_count": 12,
   "id": "bbdacba1",
   "metadata": {
    "execution": {
     "iopub.execute_input": "2022-03-26T08:19:40.203750Z",
     "iopub.status.busy": "2022-03-26T08:19:40.203165Z",
     "iopub.status.idle": "2022-03-26T08:19:40.462674Z",
     "shell.execute_reply": "2022-03-26T08:19:40.462989Z"
    },
    "papermill": {
     "duration": 0.283306,
     "end_time": "2022-03-26T08:19:40.463120",
     "exception": false,
     "start_time": "2022-03-26T08:19:40.179814",
     "status": "completed"
    },
    "tags": []
   },
   "outputs": [
    {
     "name": "stdout",
     "output_type": "stream",
     "text": [
      "(2, 256)\n"
     ]
    }
   ],
   "source": [
    "###################################\n",
    "# Build the model\n",
    "###################################\n",
    "model = Steves_Prototypical_Network(x_net, device=p.device, x_shape=(2,256))\n",
    "optimizer = Adam(params=model.parameters(), lr=p.lr)"
   ]
  },
  {
   "cell_type": "code",
   "execution_count": 13,
   "id": "22b39ac5",
   "metadata": {
    "execution": {
     "iopub.execute_input": "2022-03-26T08:19:40.500894Z",
     "iopub.status.busy": "2022-03-26T08:19:40.497796Z",
     "iopub.status.idle": "2022-03-26T10:05:24.930576Z",
     "shell.execute_reply": "2022-03-26T10:05:24.932296Z"
    },
    "papermill": {
     "duration": 6344.455692,
     "end_time": "2022-03-26T10:05:24.935498",
     "exception": false,
     "start_time": "2022-03-26T08:19:40.479806",
     "status": "completed"
    },
    "tags": []
   },
   "outputs": [
    {
     "name": "stdout",
     "output_type": "stream",
     "text": [
      "epoch: 1, [batch: 1 / 12600], examples_per_second: 17.0322, train_label_loss: 2.7705, \n"
     ]
    },
    {
     "name": "stdout",
     "output_type": "stream",
     "text": [
      "epoch: 1, [batch: 1260 / 12600], examples_per_second: 1921.1028, train_label_loss: 1.6302, \n"
     ]
    },
    {
     "name": "stdout",
     "output_type": "stream",
     "text": [
      "epoch: 1, [batch: 2520 / 12600], examples_per_second: 1917.4076, train_label_loss: 1.7838, \n"
     ]
    },
    {
     "name": "stdout",
     "output_type": "stream",
     "text": [
      "epoch: 1, [batch: 3780 / 12600], examples_per_second: 2057.7608, train_label_loss: 1.5030, \n"
     ]
    },
    {
     "name": "stdout",
     "output_type": "stream",
     "text": [
      "epoch: 1, [batch: 5040 / 12600], examples_per_second: 3704.6920, train_label_loss: 1.4063, \n"
     ]
    },
    {
     "name": "stdout",
     "output_type": "stream",
     "text": [
      "epoch: 1, [batch: 6300 / 12600], examples_per_second: 2556.9959, train_label_loss: 1.2648, \n"
     ]
    },
    {
     "name": "stdout",
     "output_type": "stream",
     "text": [
      "epoch: 1, [batch: 7560 / 12600], examples_per_second: 1783.5133, train_label_loss: 1.4954, \n"
     ]
    },
    {
     "name": "stdout",
     "output_type": "stream",
     "text": [
      "epoch: 1, [batch: 8820 / 12600], examples_per_second: 1773.1232, train_label_loss: 1.1748, \n"
     ]
    },
    {
     "name": "stdout",
     "output_type": "stream",
     "text": [
      "epoch: 1, [batch: 10080 / 12600], examples_per_second: 1752.3285, train_label_loss: 1.2384, \n"
     ]
    },
    {
     "name": "stdout",
     "output_type": "stream",
     "text": [
      "epoch: 1, [batch: 11340 / 12600], examples_per_second: 1758.7739, train_label_loss: 1.1289, \n"
     ]
    },
    {
     "name": "stdout",
     "output_type": "stream",
     "text": [
      "=============================================================\n",
      "epoch: 1, source_val_acc_label: 0.5749, target_val_acc_label: 0.4819, source_val_label_loss: 1.1176, target_val_label_loss: 1.3672, \n",
      "=============================================================\n"
     ]
    },
    {
     "name": "stdout",
     "output_type": "stream",
     "text": [
      "New best\n"
     ]
    },
    {
     "name": "stdout",
     "output_type": "stream",
     "text": [
      "epoch: 2, [batch: 1 / 12600], examples_per_second: 0.8913, train_label_loss: 0.7090, \n"
     ]
    },
    {
     "name": "stdout",
     "output_type": "stream",
     "text": [
      "epoch: 2, [batch: 1260 / 12600], examples_per_second: 1969.3688, train_label_loss: 1.1573, \n"
     ]
    },
    {
     "name": "stdout",
     "output_type": "stream",
     "text": [
      "epoch: 2, [batch: 2520 / 12600], examples_per_second: 1928.9073, train_label_loss: 0.9204, \n"
     ]
    },
    {
     "name": "stdout",
     "output_type": "stream",
     "text": [
      "epoch: 2, [batch: 3780 / 12600], examples_per_second: 1917.1564, train_label_loss: 1.0442, \n"
     ]
    },
    {
     "name": "stdout",
     "output_type": "stream",
     "text": [
      "epoch: 2, [batch: 5040 / 12600], examples_per_second: 1902.2178, train_label_loss: 0.8998, \n"
     ]
    },
    {
     "name": "stdout",
     "output_type": "stream",
     "text": [
      "epoch: 2, [batch: 6300 / 12600], examples_per_second: 1755.5121, train_label_loss: 0.8291, \n"
     ]
    },
    {
     "name": "stdout",
     "output_type": "stream",
     "text": [
      "epoch: 2, [batch: 7560 / 12600], examples_per_second: 1781.6589, train_label_loss: 1.3125, \n"
     ]
    },
    {
     "name": "stdout",
     "output_type": "stream",
     "text": [
      "epoch: 2, [batch: 8820 / 12600], examples_per_second: 1940.4174, train_label_loss: 1.0907, \n"
     ]
    },
    {
     "name": "stdout",
     "output_type": "stream",
     "text": [
      "epoch: 2, [batch: 10080 / 12600], examples_per_second: 3861.5959, train_label_loss: 1.0556, \n"
     ]
    },
    {
     "name": "stdout",
     "output_type": "stream",
     "text": [
      "epoch: 2, [batch: 11340 / 12600], examples_per_second: 2268.6708, train_label_loss: 1.0238, \n"
     ]
    },
    {
     "name": "stdout",
     "output_type": "stream",
     "text": [
      "=============================================================\n",
      "epoch: 2, source_val_acc_label: 0.6634, target_val_acc_label: 0.5799, source_val_label_loss: 0.8905, target_val_label_loss: 1.1104, \n",
      "=============================================================\n"
     ]
    },
    {
     "name": "stdout",
     "output_type": "stream",
     "text": [
      "New best\n"
     ]
    },
    {
     "name": "stdout",
     "output_type": "stream",
     "text": [
      "epoch: 3, [batch: 1 / 12600], examples_per_second: 0.6350, train_label_loss: 0.7401, \n"
     ]
    },
    {
     "name": "stdout",
     "output_type": "stream",
     "text": [
      "epoch: 3, [batch: 1260 / 12600], examples_per_second: 1919.9083, train_label_loss: 0.6655, \n"
     ]
    },
    {
     "name": "stdout",
     "output_type": "stream",
     "text": [
      "epoch: 3, [batch: 2520 / 12600], examples_per_second: 2639.8279, train_label_loss: 0.7122, \n"
     ]
    },
    {
     "name": "stdout",
     "output_type": "stream",
     "text": [
      "epoch: 3, [batch: 3780 / 12600], examples_per_second: 4391.3954, train_label_loss: 0.6316, \n"
     ]
    },
    {
     "name": "stdout",
     "output_type": "stream",
     "text": [
      "epoch: 3, [batch: 5040 / 12600], examples_per_second: 2143.4253, train_label_loss: 0.7625, \n"
     ]
    },
    {
     "name": "stdout",
     "output_type": "stream",
     "text": [
      "epoch: 3, [batch: 6300 / 12600], examples_per_second: 1931.6335, train_label_loss: 0.7157, \n"
     ]
    },
    {
     "name": "stdout",
     "output_type": "stream",
     "text": [
      "epoch: 3, [batch: 7560 / 12600], examples_per_second: 1939.3966, train_label_loss: 0.8958, \n"
     ]
    },
    {
     "name": "stdout",
     "output_type": "stream",
     "text": [
      "epoch: 3, [batch: 8820 / 12600], examples_per_second: 1912.7574, train_label_loss: 0.8750, \n"
     ]
    },
    {
     "name": "stdout",
     "output_type": "stream",
     "text": [
      "epoch: 3, [batch: 10080 / 12600], examples_per_second: 1936.2699, train_label_loss: 0.7921, \n"
     ]
    },
    {
     "name": "stdout",
     "output_type": "stream",
     "text": [
      "epoch: 3, [batch: 11340 / 12600], examples_per_second: 1920.8945, train_label_loss: 0.6647, \n"
     ]
    },
    {
     "name": "stdout",
     "output_type": "stream",
     "text": [
      "=============================================================\n",
      "epoch: 3, source_val_acc_label: 0.6728, target_val_acc_label: 0.5961, source_val_label_loss: 0.8640, target_val_label_loss: 1.0720, \n",
      "=============================================================\n"
     ]
    },
    {
     "name": "stdout",
     "output_type": "stream",
     "text": [
      "New best\n"
     ]
    },
    {
     "name": "stdout",
     "output_type": "stream",
     "text": [
      "epoch: 4, [batch: 1 / 12600], examples_per_second: 1.1870, train_label_loss: 0.5580, \n"
     ]
    },
    {
     "name": "stdout",
     "output_type": "stream",
     "text": [
      "epoch: 4, [batch: 1260 / 12600], examples_per_second: 1913.9527, train_label_loss: 0.7896, \n"
     ]
    },
    {
     "name": "stdout",
     "output_type": "stream",
     "text": [
      "epoch: 4, [batch: 2520 / 12600], examples_per_second: 1929.0708, train_label_loss: 0.6048, \n"
     ]
    },
    {
     "name": "stdout",
     "output_type": "stream",
     "text": [
      "epoch: 4, [batch: 3780 / 12600], examples_per_second: 2380.0519, train_label_loss: 0.6350, \n"
     ]
    },
    {
     "name": "stdout",
     "output_type": "stream",
     "text": [
      "epoch: 4, [batch: 5040 / 12600], examples_per_second: 2272.2446, train_label_loss: 0.7807, \n"
     ]
    },
    {
     "name": "stdout",
     "output_type": "stream",
     "text": [
      "epoch: 4, [batch: 6300 / 12600], examples_per_second: 2346.4188, train_label_loss: 0.6222, \n"
     ]
    },
    {
     "name": "stdout",
     "output_type": "stream",
     "text": [
      "epoch: 4, [batch: 7560 / 12600], examples_per_second: 2373.8976, train_label_loss: 0.9030, \n"
     ]
    },
    {
     "name": "stdout",
     "output_type": "stream",
     "text": [
      "epoch: 4, [batch: 8820 / 12600], examples_per_second: 3256.2555, train_label_loss: 0.6271, \n"
     ]
    },
    {
     "name": "stdout",
     "output_type": "stream",
     "text": [
      "epoch: 4, [batch: 10080 / 12600], examples_per_second: 5041.3574, train_label_loss: 0.6385, \n"
     ]
    },
    {
     "name": "stdout",
     "output_type": "stream",
     "text": [
      "epoch: 4, [batch: 11340 / 12600], examples_per_second: 3023.8980, train_label_loss: 0.8161, \n"
     ]
    },
    {
     "name": "stdout",
     "output_type": "stream",
     "text": [
      "=============================================================\n",
      "epoch: 4, source_val_acc_label: 0.6804, target_val_acc_label: 0.6068, source_val_label_loss: 0.8514, target_val_label_loss: 1.0483, \n",
      "=============================================================\n"
     ]
    },
    {
     "name": "stdout",
     "output_type": "stream",
     "text": [
      "New best\n"
     ]
    },
    {
     "name": "stdout",
     "output_type": "stream",
     "text": [
      "epoch: 5, [batch: 1 / 12600], examples_per_second: 0.7623, train_label_loss: 0.5275, \n"
     ]
    },
    {
     "name": "stdout",
     "output_type": "stream",
     "text": [
      "epoch: 5, [batch: 1260 / 12600], examples_per_second: 1783.3588, train_label_loss: 0.4603, \n"
     ]
    },
    {
     "name": "stdout",
     "output_type": "stream",
     "text": [
      "epoch: 5, [batch: 2520 / 12600], examples_per_second: 1760.3589, train_label_loss: 0.7202, \n"
     ]
    },
    {
     "name": "stdout",
     "output_type": "stream",
     "text": [
      "epoch: 5, [batch: 3780 / 12600], examples_per_second: 1760.6549, train_label_loss: 0.6967, \n"
     ]
    },
    {
     "name": "stdout",
     "output_type": "stream",
     "text": [
      "epoch: 5, [batch: 5040 / 12600], examples_per_second: 1974.5563, train_label_loss: 0.4883, \n"
     ]
    },
    {
     "name": "stdout",
     "output_type": "stream",
     "text": [
      "epoch: 5, [batch: 6300 / 12600], examples_per_second: 3919.4597, train_label_loss: 0.5958, \n"
     ]
    },
    {
     "name": "stdout",
     "output_type": "stream",
     "text": [
      "epoch: 5, [batch: 7560 / 12600], examples_per_second: 2167.1123, train_label_loss: 0.6419, \n"
     ]
    },
    {
     "name": "stdout",
     "output_type": "stream",
     "text": [
      "epoch: 5, [batch: 8820 / 12600], examples_per_second: 1775.7202, train_label_loss: 0.5359, \n"
     ]
    },
    {
     "name": "stdout",
     "output_type": "stream",
     "text": [
      "epoch: 5, [batch: 10080 / 12600], examples_per_second: 1809.1984, train_label_loss: 0.3177, \n"
     ]
    },
    {
     "name": "stdout",
     "output_type": "stream",
     "text": [
      "epoch: 5, [batch: 11340 / 12600], examples_per_second: 1936.9218, train_label_loss: 0.4714, \n"
     ]
    },
    {
     "name": "stdout",
     "output_type": "stream",
     "text": [
      "=============================================================\n",
      "epoch: 5, source_val_acc_label: 0.6975, target_val_acc_label: 0.6181, source_val_label_loss: 0.8483, target_val_label_loss: 1.0479, \n",
      "=============================================================\n"
     ]
    },
    {
     "name": "stdout",
     "output_type": "stream",
     "text": [
      "New best\n"
     ]
    },
    {
     "name": "stdout",
     "output_type": "stream",
     "text": [
      "epoch: 6, [batch: 1 / 12600], examples_per_second: 0.8349, train_label_loss: 0.7285, \n"
     ]
    },
    {
     "name": "stdout",
     "output_type": "stream",
     "text": [
      "epoch: 6, [batch: 1260 / 12600], examples_per_second: 2164.5867, train_label_loss: 0.7115, \n"
     ]
    },
    {
     "name": "stdout",
     "output_type": "stream",
     "text": [
      "epoch: 6, [batch: 2520 / 12600], examples_per_second: 1798.4878, train_label_loss: 0.8919, \n"
     ]
    },
    {
     "name": "stdout",
     "output_type": "stream",
     "text": [
      "epoch: 6, [batch: 3780 / 12600], examples_per_second: 1772.3185, train_label_loss: 0.4613, \n"
     ]
    },
    {
     "name": "stdout",
     "output_type": "stream",
     "text": [
      "epoch: 6, [batch: 5040 / 12600], examples_per_second: 1775.5724, train_label_loss: 0.4339, \n"
     ]
    },
    {
     "name": "stdout",
     "output_type": "stream",
     "text": [
      "epoch: 6, [batch: 6300 / 12600], examples_per_second: 1768.5125, train_label_loss: 0.4220, \n"
     ]
    },
    {
     "name": "stdout",
     "output_type": "stream",
     "text": [
      "epoch: 6, [batch: 7560 / 12600], examples_per_second: 1777.4046, train_label_loss: 0.4022, \n"
     ]
    },
    {
     "name": "stdout",
     "output_type": "stream",
     "text": [
      "epoch: 6, [batch: 8820 / 12600], examples_per_second: 1766.1702, train_label_loss: 0.3292, \n"
     ]
    },
    {
     "name": "stdout",
     "output_type": "stream",
     "text": [
      "epoch: 6, [batch: 10080 / 12600], examples_per_second: 2762.8599, train_label_loss: 0.4025, \n"
     ]
    },
    {
     "name": "stdout",
     "output_type": "stream",
     "text": [
      "epoch: 6, [batch: 11340 / 12600], examples_per_second: 3957.8404, train_label_loss: 0.7438, \n"
     ]
    },
    {
     "name": "stdout",
     "output_type": "stream",
     "text": [
      "=============================================================\n",
      "epoch: 6, source_val_acc_label: 0.6932, target_val_acc_label: 0.6212, source_val_label_loss: 0.9253, target_val_label_loss: 1.0952, \n",
      "=============================================================\n"
     ]
    },
    {
     "name": "stdout",
     "output_type": "stream",
     "text": [
      "New best\n"
     ]
    },
    {
     "name": "stdout",
     "output_type": "stream",
     "text": [
      "epoch: 7, [batch: 1 / 12600], examples_per_second: 0.6690, train_label_loss: 0.5284, \n"
     ]
    },
    {
     "name": "stdout",
     "output_type": "stream",
     "text": [
      "epoch: 7, [batch: 1260 / 12600], examples_per_second: 1775.6848, train_label_loss: 0.4164, \n"
     ]
    },
    {
     "name": "stdout",
     "output_type": "stream",
     "text": [
      "epoch: 7, [batch: 2520 / 12600], examples_per_second: 1762.5408, train_label_loss: 0.4735, \n"
     ]
    },
    {
     "name": "stdout",
     "output_type": "stream",
     "text": [
      "epoch: 7, [batch: 3780 / 12600], examples_per_second: 1759.9201, train_label_loss: 0.5124, \n"
     ]
    },
    {
     "name": "stdout",
     "output_type": "stream",
     "text": [
      "epoch: 7, [batch: 5040 / 12600], examples_per_second: 1974.1903, train_label_loss: 0.4398, \n"
     ]
    },
    {
     "name": "stdout",
     "output_type": "stream",
     "text": [
      "epoch: 7, [batch: 6300 / 12600], examples_per_second: 3858.0057, train_label_loss: 0.4097, \n"
     ]
    },
    {
     "name": "stdout",
     "output_type": "stream",
     "text": [
      "epoch: 7, [batch: 7560 / 12600], examples_per_second: 2190.8644, train_label_loss: 0.4547, \n"
     ]
    },
    {
     "name": "stdout",
     "output_type": "stream",
     "text": [
      "epoch: 7, [batch: 8820 / 12600], examples_per_second: 1785.2590, train_label_loss: 0.5497, \n"
     ]
    },
    {
     "name": "stdout",
     "output_type": "stream",
     "text": [
      "epoch: 7, [batch: 10080 / 12600], examples_per_second: 1877.4952, train_label_loss: 0.4545, \n"
     ]
    },
    {
     "name": "stdout",
     "output_type": "stream",
     "text": [
      "epoch: 7, [batch: 11340 / 12600], examples_per_second: 1963.5958, train_label_loss: 0.5146, \n"
     ]
    },
    {
     "name": "stdout",
     "output_type": "stream",
     "text": [
      "=============================================================\n",
      "epoch: 7, source_val_acc_label: 0.6810, target_val_acc_label: 0.6046, source_val_label_loss: 0.9177, target_val_label_loss: 1.1064, \n",
      "=============================================================\n"
     ]
    },
    {
     "name": "stdout",
     "output_type": "stream",
     "text": [
      "epoch: 8, [batch: 1 / 12600], examples_per_second: 0.8273, train_label_loss: 0.4043, \n"
     ]
    },
    {
     "name": "stdout",
     "output_type": "stream",
     "text": [
      "epoch: 8, [batch: 1260 / 12600], examples_per_second: 2149.6899, train_label_loss: 0.6484, \n"
     ]
    },
    {
     "name": "stdout",
     "output_type": "stream",
     "text": [
      "epoch: 8, [batch: 2520 / 12600], examples_per_second: 1782.9562, train_label_loss: 0.3161, \n"
     ]
    },
    {
     "name": "stdout",
     "output_type": "stream",
     "text": [
      "epoch: 8, [batch: 3780 / 12600], examples_per_second: 1779.0822, train_label_loss: 0.5810, \n"
     ]
    },
    {
     "name": "stdout",
     "output_type": "stream",
     "text": [
      "epoch: 8, [batch: 5040 / 12600], examples_per_second: 1784.3901, train_label_loss: 0.3105, \n"
     ]
    },
    {
     "name": "stdout",
     "output_type": "stream",
     "text": [
      "epoch: 8, [batch: 6300 / 12600], examples_per_second: 1784.8785, train_label_loss: 0.7533, \n"
     ]
    },
    {
     "name": "stdout",
     "output_type": "stream",
     "text": [
      "epoch: 8, [batch: 7560 / 12600], examples_per_second: 1793.8336, train_label_loss: 0.3925, \n"
     ]
    },
    {
     "name": "stdout",
     "output_type": "stream",
     "text": [
      "epoch: 8, [batch: 8820 / 12600], examples_per_second: 1787.9181, train_label_loss: 0.1490, \n"
     ]
    },
    {
     "name": "stdout",
     "output_type": "stream",
     "text": [
      "epoch: 8, [batch: 10080 / 12600], examples_per_second: 1821.2039, train_label_loss: 0.4417, \n"
     ]
    },
    {
     "name": "stdout",
     "output_type": "stream",
     "text": [
      "epoch: 8, [batch: 11340 / 12600], examples_per_second: 1941.1402, train_label_loss: 0.3706, \n"
     ]
    },
    {
     "name": "stdout",
     "output_type": "stream",
     "text": [
      "=============================================================\n",
      "epoch: 8, source_val_acc_label: 0.6946, target_val_acc_label: 0.6161, source_val_label_loss: 0.9501, target_val_label_loss: 1.1398, \n",
      "=============================================================\n"
     ]
    },
    {
     "name": "stdout",
     "output_type": "stream",
     "text": [
      "epoch: 9, [batch: 1 / 12600], examples_per_second: 1.9131, train_label_loss: 0.3110, \n"
     ]
    },
    {
     "name": "stdout",
     "output_type": "stream",
     "text": [
      "epoch: 9, [batch: 1260 / 12600], examples_per_second: 1690.5238, train_label_loss: 0.2210, \n"
     ]
    },
    {
     "name": "stdout",
     "output_type": "stream",
     "text": [
      "epoch: 9, [batch: 2520 / 12600], examples_per_second: 1892.7312, train_label_loss: 0.3810, \n"
     ]
    },
    {
     "name": "stdout",
     "output_type": "stream",
     "text": [
      "epoch: 9, [batch: 3780 / 12600], examples_per_second: 1716.4682, train_label_loss: 0.4137, \n"
     ]
    },
    {
     "name": "stdout",
     "output_type": "stream",
     "text": [
      "epoch: 9, [batch: 5040 / 12600], examples_per_second: 1854.9775, train_label_loss: 0.2485, \n"
     ]
    },
    {
     "name": "stdout",
     "output_type": "stream",
     "text": [
      "epoch: 9, [batch: 6300 / 12600], examples_per_second: 1848.4878, train_label_loss: 0.2207, \n"
     ]
    },
    {
     "name": "stdout",
     "output_type": "stream",
     "text": [
      "epoch: 9, [batch: 7560 / 12600], examples_per_second: 1714.9615, train_label_loss: 0.6366, \n"
     ]
    },
    {
     "name": "stdout",
     "output_type": "stream",
     "text": [
      "epoch: 9, [batch: 8820 / 12600], examples_per_second: 1849.1428, train_label_loss: 0.3445, \n"
     ]
    },
    {
     "name": "stdout",
     "output_type": "stream",
     "text": [
      "epoch: 9, [batch: 10080 / 12600], examples_per_second: 1675.3606, train_label_loss: 0.1328, \n"
     ]
    },
    {
     "name": "stdout",
     "output_type": "stream",
     "text": [
      "epoch: 9, [batch: 11340 / 12600], examples_per_second: 1905.4549, train_label_loss: 0.1530, \n"
     ]
    },
    {
     "name": "stdout",
     "output_type": "stream",
     "text": [
      "=============================================================\n",
      "epoch: 9, source_val_acc_label: 0.6909, target_val_acc_label: 0.6104, source_val_label_loss: 0.9984, target_val_label_loss: 1.1881, \n",
      "=============================================================\n"
     ]
    },
    {
     "name": "stdout",
     "output_type": "stream",
     "text": [
      "epoch: 10, [batch: 1 / 12600], examples_per_second: 0.6879, train_label_loss: 0.1792, \n"
     ]
    },
    {
     "name": "stdout",
     "output_type": "stream",
     "text": [
      "epoch: 10, [batch: 1260 / 12600], examples_per_second: 1680.4690, train_label_loss: 0.4101, \n"
     ]
    },
    {
     "name": "stdout",
     "output_type": "stream",
     "text": [
      "epoch: 10, [batch: 2520 / 12600], examples_per_second: 1843.7868, train_label_loss: 0.4355, \n"
     ]
    },
    {
     "name": "stdout",
     "output_type": "stream",
     "text": [
      "epoch: 10, [batch: 3780 / 12600], examples_per_second: 1741.8822, train_label_loss: 0.5064, \n"
     ]
    },
    {
     "name": "stdout",
     "output_type": "stream",
     "text": [
      "epoch: 10, [batch: 5040 / 12600], examples_per_second: 1802.3023, train_label_loss: 0.3455, \n"
     ]
    },
    {
     "name": "stdout",
     "output_type": "stream",
     "text": [
      "epoch: 10, [batch: 6300 / 12600], examples_per_second: 1876.3599, train_label_loss: 0.3502, \n"
     ]
    },
    {
     "name": "stdout",
     "output_type": "stream",
     "text": [
      "epoch: 10, [batch: 7560 / 12600], examples_per_second: 2630.0860, train_label_loss: 0.5554, \n"
     ]
    },
    {
     "name": "stdout",
     "output_type": "stream",
     "text": [
      "epoch: 10, [batch: 8820 / 12600], examples_per_second: 3548.9970, train_label_loss: 0.3811, \n"
     ]
    },
    {
     "name": "stdout",
     "output_type": "stream",
     "text": [
      "epoch: 10, [batch: 10080 / 12600], examples_per_second: 2201.0844, train_label_loss: 0.2134, \n"
     ]
    },
    {
     "name": "stdout",
     "output_type": "stream",
     "text": [
      "epoch: 10, [batch: 11340 / 12600], examples_per_second: 1823.8994, train_label_loss: 0.3094, \n"
     ]
    },
    {
     "name": "stdout",
     "output_type": "stream",
     "text": [
      "=============================================================\n",
      "epoch: 10, source_val_acc_label: 0.6938, target_val_acc_label: 0.6140, source_val_label_loss: 1.0404, target_val_label_loss: 1.2303, \n",
      "=============================================================\n"
     ]
    },
    {
     "name": "stdout",
     "output_type": "stream",
     "text": [
      "Patience (3) exhausted\n"
     ]
    }
   ],
   "source": [
    "###################################\n",
    "# train\n",
    "###################################\n",
    "jig = PTN_Train_Eval_Test_Jig(model, p.BEST_MODEL_PATH, p.device)\n",
    "\n",
    "jig.train(\n",
    "    train_iterable=datasets.source.processed.train,\n",
    "    source_val_iterable=datasets.source.processed.val,\n",
    "    target_val_iterable=datasets.target.processed.val,\n",
    "    num_epochs=p.n_epoch,\n",
    "    num_logs_per_epoch=p.NUM_LOGS_PER_EPOCH,\n",
    "    patience=p.patience,\n",
    "    optimizer=optimizer,\n",
    "    criteria_for_best=p.criteria_for_best,\n",
    ")"
   ]
  },
  {
   "cell_type": "code",
   "execution_count": 14,
   "id": "31e8fabf",
   "metadata": {
    "execution": {
     "iopub.execute_input": "2022-03-26T10:05:25.066581Z",
     "iopub.status.busy": "2022-03-26T10:05:25.065754Z",
     "iopub.status.idle": "2022-03-26T10:05:25.254940Z",
     "shell.execute_reply": "2022-03-26T10:05:25.254192Z"
    },
    "papermill": {
     "duration": 0.262117,
     "end_time": "2022-03-26T10:05:25.255112",
     "exception": false,
     "start_time": "2022-03-26T10:05:24.992995",
     "status": "completed"
    },
    "tags": []
   },
   "outputs": [],
   "source": [
    "total_experiment_time_secs = time.time() - start_time_secs"
   ]
  },
  {
   "cell_type": "code",
   "execution_count": 15,
   "id": "87b9595b",
   "metadata": {
    "execution": {
     "iopub.execute_input": "2022-03-26T10:05:25.371045Z",
     "iopub.status.busy": "2022-03-26T10:05:25.370154Z",
     "iopub.status.idle": "2022-03-26T10:17:02.986395Z",
     "shell.execute_reply": "2022-03-26T10:17:02.985631Z"
    },
    "papermill": {
     "duration": 697.678734,
     "end_time": "2022-03-26T10:17:02.986585",
     "exception": false,
     "start_time": "2022-03-26T10:05:25.307851",
     "status": "completed"
    },
    "tags": []
   },
   "outputs": [],
   "source": [
    "###################################\n",
    "# Evaluate the model\n",
    "###################################\n",
    "source_test_label_accuracy, source_test_label_loss = jig.test(datasets.source.processed.test)\n",
    "target_test_label_accuracy, target_test_label_loss = jig.test(datasets.target.processed.test)\n",
    "\n",
    "source_val_label_accuracy, source_val_label_loss = jig.test(datasets.source.processed.val)\n",
    "target_val_label_accuracy, target_val_label_loss = jig.test(datasets.target.processed.val)\n",
    "\n",
    "history = jig.get_history()\n",
    "\n",
    "total_epochs_trained = len(history[\"epoch_indices\"])\n",
    "\n",
    "val_dl = Iterable_Aggregator((datasets.source.original.val,datasets.target.original.val))\n",
    "\n",
    "confusion = ptn_confusion_by_domain_over_dataloader(model, p.device, val_dl)\n",
    "per_domain_accuracy = per_domain_accuracy_from_confusion(confusion)\n",
    "\n",
    "# Add a key to per_domain_accuracy for if it was a source domain\n",
    "for domain, accuracy in per_domain_accuracy.items():\n",
    "    per_domain_accuracy[domain] = {\n",
    "        \"accuracy\": accuracy,\n",
    "        \"source?\": domain in p.domains_source\n",
    "    }\n",
    "\n",
    "# Do an independent accuracy assesment JUST TO BE SURE!\n",
    "# _source_test_label_accuracy = independent_accuracy_assesment(model, datasets.source.processed.test, p.device)\n",
    "# _target_test_label_accuracy = independent_accuracy_assesment(model, datasets.target.processed.test, p.device)\n",
    "# _source_val_label_accuracy = independent_accuracy_assesment(model, datasets.source.processed.val, p.device)\n",
    "# _target_val_label_accuracy = independent_accuracy_assesment(model, datasets.target.processed.val, p.device)\n",
    "\n",
    "# assert(_source_test_label_accuracy == source_test_label_accuracy)\n",
    "# assert(_target_test_label_accuracy == target_test_label_accuracy)\n",
    "# assert(_source_val_label_accuracy == source_val_label_accuracy)\n",
    "# assert(_target_val_label_accuracy == target_val_label_accuracy)\n",
    "\n",
    "experiment = {\n",
    "    \"experiment_name\": p.experiment_name,\n",
    "    \"parameters\": dict(p),\n",
    "    \"results\": {\n",
    "        \"source_test_label_accuracy\": source_test_label_accuracy,\n",
    "        \"source_test_label_loss\": source_test_label_loss,\n",
    "        \"target_test_label_accuracy\": target_test_label_accuracy,\n",
    "        \"target_test_label_loss\": target_test_label_loss,\n",
    "        \"source_val_label_accuracy\": source_val_label_accuracy,\n",
    "        \"source_val_label_loss\": source_val_label_loss,\n",
    "        \"target_val_label_accuracy\": target_val_label_accuracy,\n",
    "        \"target_val_label_loss\": target_val_label_loss,\n",
    "        \"total_epochs_trained\": total_epochs_trained,\n",
    "        \"total_experiment_time_secs\": total_experiment_time_secs,\n",
    "        \"confusion\": confusion,\n",
    "        \"per_domain_accuracy\": per_domain_accuracy,\n",
    "    },\n",
    "    \"history\": history,\n",
    "    \"dataset_metrics\": get_dataset_metrics(datasets, \"ptn\"),\n",
    "}"
   ]
  },
  {
   "cell_type": "code",
   "execution_count": 16,
   "id": "54a21829",
   "metadata": {
    "execution": {
     "iopub.execute_input": "2022-03-26T10:17:03.114788Z",
     "iopub.status.busy": "2022-03-26T10:17:03.114150Z",
     "iopub.status.idle": "2022-03-26T10:17:03.604957Z",
     "shell.execute_reply": "2022-03-26T10:17:03.604163Z"
    },
    "papermill": {
     "duration": 0.555533,
     "end_time": "2022-03-26T10:17:03.605131",
     "exception": false,
     "start_time": "2022-03-26T10:17:03.049598",
     "status": "completed"
    },
    "tags": []
   },
   "outputs": [
    {
     "data": {
      "image/png": "[encoded data removed]",
      "text/plain": [
       "<Figure size 1080x504 with 1 Axes>"
      ]
     },
     "metadata": {
      "needs_background": "light"
     },
     "output_type": "display_data"
    }
   ],
   "source": [
    "ax = get_loss_curve(experiment)\n",
    "plt.show()"
   ]
  },
  {
   "cell_type": "code",
   "execution_count": 17,
   "id": "fd8a0f60",
   "metadata": {
    "execution": {
     "iopub.execute_input": "2022-03-26T10:17:03.720665Z",
     "iopub.status.busy": "2022-03-26T10:17:03.720287Z",
     "iopub.status.idle": "2022-03-26T10:17:04.093070Z",
     "shell.execute_reply": "2022-03-26T10:17:04.093377Z"
    },
    "papermill": {
     "duration": 0.43587,
     "end_time": "2022-03-26T10:17:04.093475",
     "exception": false,
     "start_time": "2022-03-26T10:17:03.657605",
     "status": "completed"
    },
    "tags": []
   },
   "outputs": [
    {
     "data": {
      "text/plain": [
       "<AxesSubplot:title={'center':'Results'}>"
      ]
     },
     "execution_count": 17,
     "metadata": {},
     "output_type": "execute_result"
    },
    {
     "data": {
      "image/png": "[encoded data removed]",
      "text/plain": [
       "<Figure size 1080x504 with 1 Axes>"
      ]
     },
     "metadata": {
      "needs_background": "light"
     },
     "output_type": "display_data"
    }
   ],
   "source": [
    "get_results_table(experiment)"
   ]
  },
  {
   "cell_type": "code",
   "execution_count": 18,
   "id": "cf8dc689",
   "metadata": {
    "execution": {
     "iopub.execute_input": "2022-03-26T10:17:04.205392Z",
     "iopub.status.busy": "2022-03-26T10:17:04.204722Z",
     "iopub.status.idle": "2022-03-26T10:17:04.507183Z",
     "shell.execute_reply": "2022-03-26T10:17:04.507893Z"
    },
    "papermill": {
     "duration": 0.361878,
     "end_time": "2022-03-26T10:17:04.508080",
     "exception": false,
     "start_time": "2022-03-26T10:17:04.146202",
     "status": "completed"
    },
    "tags": []
   },
   "outputs": [
    {
     "data": {
      "text/plain": [
       "<AxesSubplot:title={'center':'Per Domain Validation Accuracy'}, xlabel='domain'>"
      ]
     },
     "execution_count": 18,
     "metadata": {},
     "output_type": "execute_result"
    },
    {
     "data": {
      "image/png": "[encoded data removed]",
      "text/plain": [
       "<Figure size 1080x504 with 1 Axes>"
      ]
     },
     "metadata": {
      "needs_background": "light"
     },
     "output_type": "display_data"
    }
   ],
   "source": [
    "get_domain_accuracies(experiment)"
   ]
  },
  {
   "cell_type": "code",
   "execution_count": 19,
   "id": "a74ae082",
   "metadata": {
    "execution": {
     "iopub.execute_input": "2022-03-26T10:17:04.619260Z",
     "iopub.status.busy": "2022-03-26T10:17:04.618691Z",
     "iopub.status.idle": "2022-03-26T10:17:04.645582Z",
     "shell.execute_reply": "2022-03-26T10:17:04.644868Z"
    },
    "papermill": {
     "duration": 0.081815,
     "end_time": "2022-03-26T10:17:04.645739",
     "exception": false,
     "start_time": "2022-03-26T10:17:04.563924",
     "status": "completed"
    },
    "tags": []
   },
   "outputs": [
    {
     "name": "stdout",
     "output_type": "stream",
     "text": [
      "Source Test Label Accuracy: 0.6967881944444444 Target Test Label Accuracy: 0.62265625\n",
      "Source Val Label Accuracy: 0.6932465277777777 Target Val Label Accuracy: 0.6211770833333333\n"
     ]
    }
   ],
   "source": [
    "print(\"Source Test Label Accuracy:\", experiment[\"results\"][\"source_test_label_accuracy\"], \"Target Test Label Accuracy:\", experiment[\"results\"][\"target_test_label_accuracy\"])\n",
    "print(\"Source Val Label Accuracy:\", experiment[\"results\"][\"source_val_label_accuracy\"], \"Target Val Label Accuracy:\", experiment[\"results\"][\"target_val_label_accuracy\"])"
   ]
  },
  {
   "cell_type": "code",
   "execution_count": 20,
   "id": "dacca602",
   "metadata": {
    "execution": {
     "iopub.execute_input": "2022-03-26T10:17:04.755208Z",
     "iopub.status.busy": "2022-03-26T10:17:04.754841Z",
     "iopub.status.idle": "2022-03-26T10:17:04.781577Z",
     "shell.execute_reply": "2022-03-26T10:17:04.782253Z"
    },
    "papermill": {
     "duration": 0.080876,
     "end_time": "2022-03-26T10:17:04.782443",
     "exception": false,
     "start_time": "2022-03-26T10:17:04.701567",
     "status": "completed"
    },
    "tags": [
     "experiment_json"
    ]
   },
   "outputs": [
    {
     "data": {
      "text/plain": [
       "'{\"experiment_name\": \"tuned_1v2:oracle.run1_limited\", \"parameters\": {\"experiment_name\": \"tuned_1v2:oracle.run1_limited\", \"device\": \"cuda\", \"lr\": 0.0001, \"labels_source\": [\"3123D52\", \"3123D65\", \"3123D79\", \"3123D80\", \"3123D54\", \"3123D70\", \"3123D7B\", \"3123D89\", \"3123D58\", \"3123D76\", \"3123D7D\", \"3123EFE\", \"3123D64\", \"3123D78\", \"3123D7E\", \"3124E4A\"], \"labels_target\": [\"3123D52\", \"3123D65\", \"3123D79\", \"3123D80\", \"3123D54\", \"3123D70\", \"3123D7B\", \"3123D89\", \"3123D58\", \"3123D76\", \"3123D7D\", \"3123EFE\", \"3123D64\", \"3123D78\", \"3123D7E\", \"3124E4A\"], \"episode_transforms_source\": [], \"episode_transforms_target\": [], \"domains_source\": [8, 32, 50], \"domains_target\": [14, 20, 26, 38, 44], \"num_examples_per_domain_per_label_source\": -1, \"num_examples_per_domain_per_label_target\": -1, \"n_shot\": 3, \"n_way\": 16, \"n_query\": 2, \"train_k_factor\": 3, \"val_k_factor\": 2, \"test_k_factor\": 2, \"torch_default_dtype\": \"torch.float32\", \"n_epoch\": 50, \"patience\": 3, \"criteria_for_best\": \"target_accuracy\", \"x_net\": [{\"class\": \"nnReshape\", \"kargs\": {\"shape\": [-1, 1, 2, 256]}}, {\"class\": \"Conv2d\", \"kargs\": {\"in_channels\": 1, \"out_channels\": 256, \"kernel_size\": [1, 7], \"bias\": false, \"padding\": [0, 3]}}, {\"class\": \"ReLU\", \"kargs\": {\"inplace\": true}}, {\"class\": \"BatchNorm2d\", \"kargs\": {\"num_features\": 256}}, {\"class\": \"Conv2d\", \"kargs\": {\"in_channels\": 256, \"out_channels\": 80, \"kernel_size\": [2, 7], \"bias\": true, \"padding\": [0, 3]}}, {\"class\": \"ReLU\", \"kargs\": {\"inplace\": true}}, {\"class\": \"BatchNorm2d\", \"kargs\": {\"num_features\": 80}}, {\"class\": \"Flatten\", \"kargs\": {}}, {\"class\": \"Linear\", \"kargs\": {\"in_features\": 20480, \"out_features\": 256}}, {\"class\": \"ReLU\", \"kargs\": {\"inplace\": true}}, {\"class\": \"BatchNorm1d\", \"kargs\": {\"num_features\": 256}}, {\"class\": \"Linear\", \"kargs\": {\"in_features\": 256, \"out_features\": 256}}], \"NUM_LOGS_PER_EPOCH\": 10, \"BEST_MODEL_PATH\": \"./best_model.pth\", \"pickle_name\": \"oracle.Run1_10kExamples_stratified_ds.2022A.pkl\", \"x_transforms_source\": [\"unit_power\"], \"x_transforms_target\": [\"unit_power\"], \"dataset_seed\": 500, \"seed\": 500}, \"results\": {\"source_test_label_accuracy\": 0.6967881944444444, \"source_test_label_loss\": 0.9106279611587524, \"target_test_label_accuracy\": 0.62265625, \"target_test_label_loss\": 1.090579628944397, \"source_val_label_accuracy\": 0.6932465277777777, \"source_val_label_loss\": 0.9253132939338684, \"target_val_label_accuracy\": 0.6211770833333333, \"target_val_label_loss\": 1.095215082168579, \"total_epochs_trained\": 10, \"total_experiment_time_secs\": 6464.819397926331, \"confusion\": {\"8\": {\"7\": {\"6\": 283, \"7\": 819, \"0\": 65, \"8\": 15, \"4\": 9, \"13\": 5, \"2\": 1, \"15\": 3}, \"10\": {\"10\": 762, \"13\": 120, \"14\": 223, \"5\": 31, \"4\": 47, \"1\": 9, \"0\": 7, \"11\": 1}, \"0\": {\"0\": 624, \"6\": 101, \"13\": 283, \"4\": 64, \"7\": 104, \"14\": 10, \"10\": 14}, \"11\": {\"11\": 652, \"1\": 474, \"8\": 13, \"10\": 3, \"5\": 25, \"14\": 23, \"4\": 8, \"13\": 1, \"6\": 1}, \"2\": {\"2\": 872, \"3\": 243, \"15\": 46, \"7\": 15, \"12\": 19, \"8\": 4, \"6\": 1}, \"14\": {\"4\": 210, \"14\": 548, \"10\": 236, \"13\": 83, \"1\": 95, \"0\": 8, \"6\": 9, \"11\": 8, \"5\": 3}, \"9\": {\"9\": 1200}, \"13\": {\"4\": 187, \"0\": 325, \"10\": 150, \"13\": 362, \"1\": 5, \"14\": 90, \"6\": 64, \"7\": 14, \"5\": 3}, \"8\": {\"8\": 1106, \"6\": 16, \"4\": 1, \"7\": 13, \"15\": 61, \"12\": 3}, \"15\": {\"8\": 59, \"15\": 809, \"12\": 282, \"3\": 15, \"2\": 31, \"7\": 4}, \"4\": {\"14\": 200, \"4\": 521, \"10\": 29, \"13\": 215, \"0\": 70, \"6\": 150, \"11\": 2, \"7\": 7, \"1\": 6}, \"5\": {\"5\": 1022, \"11\": 5, \"10\": 110, \"1\": 49, \"14\": 14}, \"3\": {\"3\": 934, \"2\": 177, \"12\": 79, \"15\": 10}, \"1\": {\"1\": 719, \"4\": 7, \"11\": 334, \"14\": 102, \"5\": 23, \"10\": 15}, \"6\": {\"6\": 643, \"0\": 104, \"13\": 35, \"7\": 256, \"4\": 130, \"8\": 24, \"14\": 6, \"10\": 1, \"15\": 1}, \"12\": {\"12\": 602, \"15\": 332, \"3\": 195, \"8\": 43, \"2\": 28}}, \"50\": {\"11\": {\"11\": 1047, \"9\": 95, \"15\": 26, \"12\": 11, \"14\": 19, \"1\": 2}, \"2\": {\"2\": 1099, \"0\": 99, \"6\": 2}, \"12\": {\"12\": 1063, \"14\": 41, \"9\": 89, \"11\": 7}, \"8\": {\"10\": 17, \"8\": 1171, \"3\": 12}, \"4\": {\"15\": 193, \"4\": 418, \"6\": 195, \"1\": 208, \"7\": 33, \"5\": 116, \"13\": 36, \"0\": 1}, \"10\": {\"10\": 1063, \"8\": 22, \"13\": 26, \"0\": 61, \"5\": 4, \"7\": 23, \"6\": 1}, \"14\": {\"14\": 1140, \"12\": 34, \"9\": 2, \"11\": 24}, \"13\": {\"13\": 626, \"5\": 260, \"7\": 213, \"6\": 67, \"4\": 12, \"10\": 17, \"0\": 5}, \"6\": {\"6\": 723, \"15\": 15, \"13\": 79, \"1\": 111, \"4\": 171, \"5\": 99, \"0\": 2}, \"9\": {\"9\": 894, \"12\": 109, \"11\": 194, \"14\": 3}, \"15\": {\"15\": 823, \"1\": 231, \"11\": 36, \"4\": 99, \"6\": 10, \"14\": 1}, \"1\": {\"1\": 637, \"15\": 267, \"4\": 168, \"6\": 104, \"11\": 5, \"5\": 11, \"14\": 3, \"2\": 5}, \"3\": {\"3\": 1166, \"8\": 34}, \"7\": {\"7\": 726, \"10\": 57, \"13\": 259, \"5\": 148, \"4\": 6, \"6\": 3, \"0\": 1}, \"0\": {\"2\": 141, \"0\": 1013, \"10\": 42, \"6\": 1, \"13\": 2, \"5\": 1}, \"5\": {\"7\": 269, \"13\": 248, \"5\": 304, \"6\": 195, \"10\": 20, \"4\": 135, \"1\": 27, \"0\": 2}}, \"32\": {\"4\": {\"8\": 7, \"7\": 143, \"0\": 112, \"4\": 574, \"5\": 90, \"2\": 220, \"13\": 45, \"14\": 9}, \"14\": {\"11\": 347, \"13\": 59, \"7\": 230, \"0\": 19, \"14\": 450, \"5\": 45, \"3\": 13, \"4\": 23, \"8\": 6, \"2\": 8}, \"5\": {\"5\": 316, \"2\": 16, \"4\": 125, \"8\": 125, \"13\": 322, \"0\": 77, \"3\": 47, \"7\": 117, \"11\": 32, \"14\": 23}, \"10\": {\"10\": 1195, \"1\": 5}, \"13\": {\"4\": 58, \"5\": 324, \"8\": 107, \"13\": 368, \"7\": 126, \"3\": 77, \"0\": 47, \"14\": 47, \"11\": 45, \"2\": 1}, \"9\": {\"9\": 1198, \"12\": 2}, \"6\": {\"6\": 1200}, \"3\": {\"11\": 44, \"3\": 1086, \"8\": 14, \"13\": 37, \"5\": 15, \"14\": 4}, \"15\": {\"15\": 1189, \"8\": 9, \"3\": 2}, \"7\": {\"7\": 509, \"4\": 140, \"13\": 123, \"14\": 193, \"8\": 9, \"5\": 114, \"0\": 35, \"11\": 42, \"2\": 35}, \"12\": {\"12\": 1200}, \"8\": {\"13\": 130, \"8\": 844, \"0\": 94, \"5\": 94, \"3\": 18, \"14\": 1, \"4\": 11, \"7\": 8}, \"11\": {\"11\": 864, \"13\": 27, \"14\": 242, \"7\": 27, \"3\": 31, \"5\": 9}, \"2\": {\"2\": 936, \"4\": 195, \"0\": 43, \"7\": 21, \"5\": 2, \"14\": 3}, \"1\": {\"1\": 1194, \"10\": 6}, \"0\": {\"0\": 700, \"4\": 160, \"7\": 49, \"8\": 112, \"2\": 75, \"5\": 53, \"14\": 14, \"13\": 37}}, \"20\": {\"7\": {\"2\": 155, \"8\": 97, \"7\": 757, \"9\": 78, \"3\": 54, \"4\": 14, \"6\": 24, \"13\": 7, \"12\": 4, \"10\": 5, \"11\": 3, \"14\": 2}, \"10\": {\"10\": 799, \"14\": 210, \"6\": 17, \"4\": 53, \"7\": 10, \"8\": 108, \"3\": 2, \"9\": 1}, \"0\": {\"0\": 444, \"15\": 136, \"1\": 134, \"5\": 286, \"12\": 92, \"3\": 56, \"9\": 15, \"4\": 21, \"13\": 4, \"2\": 10, \"8\": 2}, \"11\": {\"11\": 1191, \"13\": 1, \"2\": 3, \"6\": 2, \"7\": 3}, \"2\": {\"2\": 416, \"12\": 55, \"9\": 283, \"13\": 128, \"7\": 161, \"15\": 6, \"3\": 118, \"1\": 15, \"5\": 8, \"8\": 8, \"0\": 2}, \"14\": {\"10\": 220, \"14\": 755, \"6\": 191, \"7\": 4, \"8\": 30}, \"9\": {\"1\": 24, \"9\": 348, \"7\": 70, \"12\": 133, \"2\": 305, \"3\": 202, \"4\": 11, \"0\": 6, \"13\": 75, \"15\": 8, \"8\": 10, \"5\": 8}, \"13\": {\"13\": 942, \"2\": 100, \"1\": 22, \"12\": 12, \"15\": 34, \"9\": 73, \"3\": 4, \"7\": 7, \"5\": 6}, \"8\": {\"10\": 99, \"7\": 105, \"4\": 211, \"8\": 667, \"14\": 49, \"3\": 41, \"6\": 17, \"9\": 6, \"12\": 1, \"2\": 4}, \"15\": {\"15\": 638, \"1\": 248, \"12\": 41, \"0\": 101, \"9\": 16, \"5\": 90, \"13\": 56, \"3\": 6, \"2\": 4}, \"4\": {\"4\": 799, \"10\": 54, \"3\": 77, \"8\": 221, \"0\": 9, \"5\": 7, \"12\": 16, \"7\": 10, \"2\": 2, \"9\": 5}, \"5\": {\"0\": 270, \"1\": 216, \"3\": 72, \"4\": 8, \"5\": 339, \"15\": 112, \"12\": 151, \"13\": 10, \"9\": 18, \"2\": 4}, \"3\": {\"3\": 359, \"12\": 201, \"9\": 183, \"5\": 63, \"0\": 30, \"4\": 105, \"7\": 55, \"2\": 121, \"8\": 36, \"1\": 35, \"13\": 5, \"15\": 4, \"10\": 3}, \"1\": {\"1\": 369, \"12\": 162, \"5\": 216, \"15\": 262, \"0\": 118, \"2\": 11, \"3\": 26, \"9\": 20, \"4\": 1, \"13\": 15}, \"6\": {\"6\": 946, \"14\": 192, \"7\": 35, \"10\": 13, \"8\": 8, \"11\": 5, \"2\": 1}, \"12\": {\"1\": 135, \"3\": 226, \"12\": 327, \"9\": 137, \"2\": 64, \"5\": 148, \"15\": 39, \"0\": 79, \"13\": 13, \"4\": 28, \"7\": 2, \"8\": 2}}, \"14\": {\"14\": {\"13\": 141, \"14\": 838, \"6\": 90, \"2\": 70, \"4\": 6, \"3\": 47, \"0\": 2, \"10\": 6}, \"6\": {\"6\": 653, \"13\": 362, \"14\": 98, \"2\": 85, \"10\": 1, \"4\": 1}, \"5\": {\"5\": 600, \"4\": 221, \"2\": 102, \"1\": 232, \"7\": 16, \"3\": 26, \"15\": 3}, \"15\": {\"15\": 1084, \"7\": 114, \"2\": 1, \"5\": 1}, \"11\": {\"11\": 1009, \"9\": 81, \"10\": 46, \"0\": 64}, \"8\": {\"8\": 1197, \"0\": 2, \"1\": 1}, \"12\": {\"12\": 1192, \"9\": 8}, \"1\": {\"4\": 43, \"1\": 948, \"5\": 201, \"7\": 8}, \"2\": {\"5\": 164, \"6\": 84, \"2\": 472, \"13\": 87, \"14\": 163, \"4\": 124, \"3\": 74, \"15\": 20, \"1\": 10, \"10\": 1, \"7\": 1}, \"13\": {\"6\": 410, \"14\": 251, \"13\": 368, \"2\": 135, \"5\": 21, \"3\": 7, \"4\": 7, \"15\": 1}, \"3\": {\"3\": 922, \"14\": 50, \"2\": 18, \"4\": 175, \"5\": 11, \"10\": 9, \"0\": 13, \"13\": 1, \"1\": 1}, \"0\": {\"0\": 853, \"3\": 31, \"10\": 283, \"11\": 31, \"14\": 1, \"8\": 1}, \"9\": {\"9\": 1178, \"11\": 14, \"12\": 7, \"0\": 1}, \"4\": {\"5\": 174, \"4\": 681, \"2\": 108, \"3\": 174, \"14\": 11, \"1\": 48, \"13\": 3, \"6\": 1}, \"7\": {\"7\": 1124, \"15\": 63, \"1\": 9, \"5\": 3, \"2\": 1}, \"10\": {\"10\": 971, \"0\": 214, \"3\": 11, \"11\": 3, \"14\": 1}}, \"38\": {\"4\": {\"4\": 1120, \"12\": 77, \"7\": 1, \"10\": 2}, \"14\": {\"11\": 281, \"12\": 11, \"14\": 826, \"2\": 64, \"10\": 14, \"13\": 4}, \"5\": {\"8\": 305, \"5\": 481, \"7\": 83, \"3\": 42, \"15\": 47, \"0\": 121, \"13\": 9, \"9\": 29, \"6\": 61, \"10\": 3, \"1\": 19}, \"10\": {\"10\": 847, \"12\": 97, \"13\": 92, \"8\": 73, \"11\": 8, \"0\": 19, \"7\": 15, \"15\": 20, \"2\": 5, \"14\": 21, \"5\": 2, \"4\": 1}, \"13\": {\"15\": 345, \"13\": 692, \"1\": 23, \"10\": 83, \"8\": 26, \"2\": 26, \"14\": 2, \"5\": 3}, \"9\": {\"9\": 673, \"6\": 428, \"3\": 84, \"5\": 14, \"0\": 1}, \"6\": {\"6\": 883, \"9\": 294, \"5\": 18, \"3\": 4, \"0\": 1}, \"3\": {\"3\": 1002, \"9\": 107, \"7\": 51, \"6\": 13, \"0\": 13, \"5\": 14}, \"15\": {\"8\": 38, \"15\": 680, \"13\": 332, \"1\": 112, \"0\": 1, \"5\": 26, \"10\": 9, \"2\": 2}, \"7\": {\"7\": 865, \"5\": 48, \"10\": 3, \"0\": 236, \"3\": 14, \"8\": 31, \"4\": 2, \"6\": 1}, \"12\": {\"12\": 1117, \"4\": 46, \"10\": 35, \"14\": 1, \"11\": 1}, \"8\": {\"0\": 174, \"15\": 35, \"5\": 224, \"8\": 700, \"7\": 34, \"10\": 25, \"13\": 4, \"6\": 3, \"1\": 1}, \"11\": {\"11\": 786, \"14\": 352, \"12\": 43, \"2\": 7, \"4\": 1, \"10\": 10, \"13\": 1}, \"2\": {\"2\": 1084, \"13\": 31, \"14\": 77, \"11\": 4, \"15\": 3, \"10\": 1}, \"1\": {\"15\": 80, \"1\": 1108, \"5\": 5, \"8\": 2, \"13\": 5}, \"0\": {\"0\": 360, \"3\": 48, \"8\": 312, \"10\": 47, \"5\": 136, \"7\": 279, \"12\": 5, \"9\": 3, \"13\": 3, \"6\": 2, \"15\": 2, \"4\": 3}}, \"44\": {\"8\": {\"0\": 380, \"8\": 762, \"15\": 44, \"5\": 14}, \"11\": {\"11\": 1056, \"13\": 89, \"6\": 51, \"9\": 4}, \"14\": {\"14\": 713, \"4\": 372, \"15\": 80, \"5\": 35}, \"10\": {\"10\": 775, \"2\": 125, \"1\": 140, \"12\": 151, \"3\": 7, \"7\": 2}, \"3\": {\"3\": 1058, \"1\": 130, \"2\": 2, \"7\": 1, \"12\": 9}, \"15\": {\"15\": 978, \"14\": 109, \"8\": 23, \"0\": 57, \"5\": 24, \"4\": 9}, \"2\": {\"2\": 823, \"10\": 109, \"7\": 186, \"1\": 65, \"3\": 12, \"9\": 3, \"12\": 2}, \"12\": {\"1\": 274, \"12\": 824, \"10\": 85, \"3\": 16, \"2\": 1}, \"4\": {\"14\": 348, \"4\": 841, \"15\": 10, \"5\": 1}, \"1\": {\"1\": 667, \"12\": 233, \"3\": 158, \"10\": 91, \"2\": 50, \"7\": 1}, \"0\": {\"0\": 689, \"15\": 78, \"8\": 337, \"5\": 93, \"14\": 3}, \"9\": {\"13\": 124, \"9\": 692, \"6\": 101, \"7\": 268, \"2\": 13, \"4\": 2}, \"5\": {\"5\": 998, \"0\": 104, \"14\": 44, \"15\": 39, \"4\": 5, \"8\": 10}, \"6\": {\"6\": 796, \"13\": 229, \"9\": 98, \"11\": 36, \"7\": 37, \"2\": 4}, \"7\": {\"2\": 209, \"7\": 703, \"9\": 230, \"6\": 39, \"3\": 12, \"13\": 4, \"1\": 2, \"10\": 1}, \"13\": {\"13\": 742, \"7\": 10, \"9\": 154, \"6\": 210, \"4\": 12, \"11\": 71, \"14\": 1}}, \"26\": {\"6\": {\"9\": 161, \"0\": 27, \"6\": 777, \"10\": 101, \"1\": 1, \"8\": 51, \"13\": 26, \"15\": 47, \"14\": 1, \"5\": 7, \"4\": 1}, \"11\": {\"11\": 1191, \"12\": 9}, \"5\": {\"15\": 232, \"5\": 544, \"7\": 9, \"13\": 203, \"2\": 72, \"9\": 106, \"8\": 25, \"3\": 2, \"6\": 5, \"10\": 1, \"4\": 1}, \"14\": {\"0\": 185, \"4\": 211, \"14\": 319, \"10\": 128, \"7\": 35, \"1\": 286, \"8\": 30, \"15\": 1, \"6\": 2, \"3\": 1, \"5\": 1, \"9\": 1}, \"2\": {\"9\": 19, \"3\": 379, \"7\": 145, \"2\": 432, \"15\": 86, \"5\": 83, \"8\": 40, \"4\": 8, \"14\": 2, \"13\": 5, \"1\": 1}, \"7\": {\"7\": 535, \"8\": 81, \"4\": 102, \"2\": 169, \"15\": 17, \"3\": 206, \"1\": 22, \"9\": 7, \"14\": 32, \"0\": 12, \"5\": 11, \"10\": 5, \"6\": 1}, \"3\": {\"3\": 678, \"7\": 232, \"2\": 274, \"4\": 3, \"13\": 1, \"5\": 3, \"14\": 3, \"8\": 5, \"15\": 1}, \"4\": {\"14\": 253, \"4\": 317, \"0\": 139, \"8\": 111, \"10\": 74, \"1\": 171, \"7\": 109, \"6\": 2, \"5\": 1, \"2\": 9, \"3\": 8, \"9\": 4, \"15\": 2}, \"9\": {\"8\": 149, \"9\": 378, \"5\": 94, \"13\": 36, \"15\": 290, \"6\": 157, \"10\": 51, \"0\": 17, \"7\": 12, \"2\": 11, \"14\": 2, \"4\": 3}, \"12\": {\"12\": 1196, \"11\": 4}, \"0\": {\"4\": 180, \"0\": 282, \"8\": 111, \"10\": 268, \"1\": 79, \"6\": 27, \"7\": 31, \"14\": 192, \"9\": 18, \"15\": 11, \"2\": 1}, \"10\": {\"4\": 81, \"0\": 218, \"10\": 426, \"1\": 33, \"14\": 117, \"8\": 146, \"6\": 106, \"9\": 45, \"15\": 13, \"7\": 12, \"2\": 2, \"5\": 1}, \"8\": {\"10\": 155, \"8\": 340, \"4\": 92, \"15\": 98, \"7\": 100, \"1\": 14, \"5\": 21, \"6\": 58, \"14\": 38, \"0\": 101, \"2\": 36, \"9\": 141, \"3\": 6}, \"13\": {\"13\": 792, \"5\": 244, \"15\": 79, \"9\": 32, \"6\": 19, \"8\": 1, \"2\": 31, \"3\": 2}, \"1\": {\"14\": 294, \"1\": 550, \"0\": 92, \"8\": 9, \"4\": 177, \"10\": 50, \"6\": 3, \"7\": 18, \"3\": 4, \"2\": 2, \"9\": 1}, \"15\": {\"2\": 61, \"5\": 211, \"9\": 299, \"15\": 349, \"13\": 70, \"8\": 112, \"0\": 14, \"6\": 32, \"7\": 25, \"10\": 17, \"3\": 1, \"4\": 7, \"14\": 2}}}, \"per_domain_accuracy\": {\"8\": {\"accuracy\": 0.63515625, \"source?\": true}, \"50\": {\"accuracy\": 0.7246354166666666, \"source?\": true}, \"32\": {\"accuracy\": 0.7199479166666667, \"source?\": true}, \"20\": {\"accuracy\": 0.5258333333333334, \"source?\": false}, \"14\": {\"accuracy\": 0.7338541666666667, \"source?\": false}, \"38\": {\"accuracy\": 0.68875, \"source?\": false}, \"44\": {\"accuracy\": 0.6831770833333334, \"source?\": false}, \"26\": {\"accuracy\": 0.4742708333333333, \"source?\": false}}}, \"history\": {\"epoch_indices\": [1, 2, 3, 4, 5, 6, 7, 8, 9, 10], \"train_label_loss\": [1.4269333296635793, 0.9028312810735097, 0.7577702285349369, 0.666959748645387, 0.5823104991828875, 0.5056666018884807, 0.43957237937058957, 0.3830726051162041, 0.3369452675096395, 0.2950292599027503], \"source_val_label_loss\": [1.1176246404647827, 0.8905003666877747, 0.8640354871749878, 0.8513855934143066, 0.8482744693756104, 0.9253132939338684, 0.9176796078681946, 0.9501148462295532, 0.9983794689178467, 1.0403770208358765], \"target_val_label_loss\": [1.3672236204147339, 1.1103806495666504, 1.0720372200012207, 1.048296332359314, 1.0479284524917603, 1.095215082168579, 1.1064046621322632, 1.13982093334198, 1.1880930662155151, 1.2302837371826172], \"source_val_acc_label\": [0.5749131944444444, 0.6633854166666666, 0.6728125, 0.6803993055555555, 0.6975173611111111, 0.6932465277777777, 0.6809548611111111, 0.6945659722222223, 0.6908680555555555, 0.6938368055555556], \"target_val_acc_label\": [0.48191666666666666, 0.5799166666666666, 0.5960833333333333, 0.6068333333333333, 0.6181458333333333, 0.6211770833333333, 0.6045833333333334, 0.6160520833333333, 0.6104166666666667, 0.61403125]}, \"dataset_metrics\": {\"source\": {\"train\": {\"n_unique_x\": 336000, \"n_unique_y\": 16, \"n_batch/episode\": 12600}, \"val\": {\"n_unique_x\": 72000, \"n_unique_y\": 16, \"n_batch/episode\": 1800}, \"test\": {\"n_unique_x\": 72000, \"n_unique_y\": 16, \"n_batch/episode\": 1800}}, \"target\": {\"train\": {\"n_unique_x\": 560000, \"n_unique_y\": 16, \"n_batch/episode\": 21000}, \"val\": {\"n_unique_x\": 120000, \"n_unique_y\": 16, \"n_batch/episode\": 3000}, \"test\": {\"n_unique_x\": 120000, \"n_unique_y\": 16, \"n_batch/episode\": 3000}}}}'"
      ]
     },
     "execution_count": 20,
     "metadata": {},
     "output_type": "execute_result"
    }
   ],
   "source": [
    "json.dumps(experiment)"
   ]
  }
 ],
 "metadata": {
  "celltoolbar": "Tags",
  "kernelspec": {
   "display_name": "Python 3 (ipykernel)",
   "language": "python",
   "name": "python3"
  },
  "language_info": {
   "codemirror_mode": {
    "name": "ipython",
    "version": 3
   },
   "file_extension": ".py",
   "mimetype": "text/x-python",
   "name": "python",
   "nbconvert_exporter": "python",
   "pygments_lexer": "ipython3",
   "version": "3.8.12"
  },
  "papermill": {
   "default_parameters": {},
   "duration": 7171.503012,
   "end_time": "2022-03-26T10:17:08.525096",
   "environment_variables": {},
   "exception": null,
   "input_path": "/root/csc500-main/csc500-notebooks/templates/ptn_template.ipynb",
   "output_path": "trial.ipynb",
   "parameters": {
    "parameters": {
     "BEST_MODEL_PATH": "./best_model.pth",
     "NUM_LOGS_PER_EPOCH": 10,
     "criteria_for_best": "target_accuracy",
     "dataset_seed": 500,
     "device": "cuda",
     "domains_source": [
      8,
      32,
      50
     ],
     "domains_target": [
      14,
      20,
      26,
      38,
      44
     ],
     "episode_transforms_source": [],
     "episode_transforms_target": [],
     "experiment_name": "tuned_1v2:oracle.run1_limited",
     "labels_source": [
      "3123D52",
      "3123D65",
      "3123D79",
      "3123D80",
      "3123D54",
      "3123D70",
      "3123D7B",
      "3123D89",
      "3123D58",
      "3123D76",
      "3123D7D",
      "3123EFE",
      "3123D64",
      "3123D78",
      "3123D7E",
      "3124E4A"
     ],
     "labels_target": [
      "3123D52",
      "3123D65",
      "3123D79",
      "3123D80",
      "3123D54",
      "3123D70",
      "3123D7B",
      "3123D89",
      "3123D58",
      "3123D76",
      "3123D7D",
      "3123EFE",
      "3123D64",
      "3123D78",
      "3123D7E",
      "3124E4A"
     ],
     "lr": 0.0001,
     "n_epoch": 50,
     "n_query": 2,
     "n_shot": 3,
     "n_way": 16,
     "num_examples_per_domain_per_label_source": -1,
     "num_examples_per_domain_per_label_target": -1,
     "patience": 3,
     "pickle_name": "oracle.Run1_10kExamples_stratified_ds.2022A.pkl",
     "seed": 500,
     "test_k_factor": 2,
     "torch_default_dtype": "torch.float32",
     "train_k_factor": 3,
     "val_k_factor": 2,
     "x_net": [
      {
       "class": "nnReshape",
       "kargs": {
        "shape": [
         -1,
         1,
         2,
         256
        ]
       }
      },
      {
       "class": "Conv2d",
       "kargs": {
        "bias": false,
        "in_channels": 1,
        "kernel_size": [
         1,
         7
        ],
        "out_channels": 256,
        "padding": [
         0,
         3
        ]
       }
      },
      {
       "class": "ReLU",
       "kargs": {
        "inplace": true
       }
      },
      {
       "class": "BatchNorm2d",
       "kargs": {
        "num_features": 256
       }
      },
      {
       "class": "Conv2d",
       "kargs": {
        "bias": true,
        "in_channels": 256,
        "kernel_size": [
         2,
         7
        ],
        "out_channels": 80,
        "padding": [
         0,
         3
        ]
       }
      },
      {
       "class": "ReLU",
       "kargs": {
        "inplace": true
       }
      },
      {
       "class": "BatchNorm2d",
       "kargs": {
        "num_features": 80
       }
      },
      {
       "class": "Flatten",
       "kargs": {}
      },
      {
       "class": "Linear",
       "kargs": {
        "in_features": 20480,
        "out_features": 256
       }
      },
      {
       "class": "ReLU",
       "kargs": {
        "inplace": true
       }
      },
      {
       "class": "BatchNorm1d",
       "kargs": {
        "num_features": 256
       }
      },
      {
       "class": "Linear",
       "kargs": {
        "in_features": 256,
        "out_features": 256
       }
      }
     ],
     "x_transforms_source": [
      "unit_power"
     ],
     "x_transforms_target": [
      "unit_power"
     ]
    }
   },
   "start_time": "2022-03-26T08:17:37.022084",
   "version": "2.3.4"
  }
 },
 "nbformat": 4,
 "nbformat_minor": 5
}