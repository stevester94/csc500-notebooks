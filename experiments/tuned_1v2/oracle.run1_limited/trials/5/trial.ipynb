{
 "cells": [
  {
   "cell_type": "markdown",
   "id": "9fea5f46",
   "metadata": {
    "papermill": {
     "duration": 0.01379,
     "end_time": "2022-04-01T20:55:00.326993",
     "exception": false,
     "start_time": "2022-04-01T20:55:00.313203",
     "status": "completed"
    },
    "tags": []
   },
   "source": [
    "# PTN Template\n",
    "This notebook serves as a template for single dataset PTN experiments  \n",
    "It can be run on its own by setting STANDALONE to True (do a find for \"STANDALONE\" to see where)  \n",
    "But it is intended to be executed as part of a *papermill.py script. See any of the   \n",
    "experimentes with a papermill script to get started with that workflow.  "
   ]
  },
  {
   "cell_type": "code",
   "execution_count": 1,
   "id": "0902182a",
   "metadata": {
    "execution": {
     "iopub.execute_input": "2022-04-01T20:55:00.359215Z",
     "iopub.status.busy": "2022-04-01T20:55:00.358730Z",
     "iopub.status.idle": "2022-04-01T20:55:01.275054Z",
     "shell.execute_reply": "2022-04-01T20:55:01.274480Z"
    },
    "papermill": {
     "duration": 0.939032,
     "end_time": "2022-04-01T20:55:01.275173",
     "exception": false,
     "start_time": "2022-04-01T20:55:00.336141",
     "status": "completed"
    },
    "tags": []
   },
   "outputs": [],
   "source": [
    "%load_ext autoreload\n",
    "%autoreload 2\n",
    "%matplotlib inline\n",
    "\n",
    "    \n",
    "import os, json, sys, time, random\n",
    "import numpy as np\n",
    "import torch\n",
    "from torch.optim import Adam\n",
    "from  easydict import EasyDict\n",
    "import matplotlib.pyplot as plt\n",
    "\n",
    "from steves_models.steves_ptn import Steves_Prototypical_Network\n",
    "\n",
    "from steves_utils.lazy_iterable_wrapper import Lazy_Iterable_Wrapper\n",
    "from steves_utils.iterable_aggregator import Iterable_Aggregator\n",
    "from steves_utils.ptn_train_eval_test_jig import  PTN_Train_Eval_Test_Jig\n",
    "from steves_utils.torch_sequential_builder import build_sequential\n",
    "from steves_utils.torch_utils import get_dataset_metrics, ptn_confusion_by_domain_over_dataloader\n",
    "from steves_utils.utils_v2 import (per_domain_accuracy_from_confusion, get_datasets_base_path)\n",
    "from steves_utils.PTN.utils import independent_accuracy_assesment\n",
    "\n",
    "from steves_utils.stratified_dataset.episodic_accessor import Episodic_Accessor_Factory\n",
    "\n",
    "from steves_utils.ptn_do_report import (\n",
    "    get_loss_curve,\n",
    "    get_results_table,\n",
    "    get_parameters_table,\n",
    "    get_domain_accuracies,\n",
    ")\n",
    "\n",
    "from steves_utils.transforms import get_chained_transform"
   ]
  },
  {
   "cell_type": "markdown",
   "id": "41c840b4",
   "metadata": {
    "papermill": {
     "duration": 0.009144,
     "end_time": "2022-04-01T20:55:01.300208",
     "exception": false,
     "start_time": "2022-04-01T20:55:01.291064",
     "status": "completed"
    },
    "tags": []
   },
   "source": [
    "# Required Parameters\n",
    "These are allowed parameters, not defaults\n",
    "Each of these values need to be present in the injected parameters (the notebook will raise an exception if they are not present)\n",
    "\n",
    "Papermill uses the cell tag \"parameters\" to inject the real parameters below this cell.\n",
    "Enable tags to see what I mean"
   ]
  },
  {
   "cell_type": "code",
   "execution_count": 2,
   "id": "fd44eb83",
   "metadata": {
    "execution": {
     "iopub.execute_input": "2022-04-01T20:55:01.321167Z",
     "iopub.status.busy": "2022-04-01T20:55:01.320886Z",
     "iopub.status.idle": "2022-04-01T20:55:01.331806Z",
     "shell.execute_reply": "2022-04-01T20:55:01.331578Z"
    },
    "papermill": {
     "duration": 0.022372,
     "end_time": "2022-04-01T20:55:01.331857",
     "exception": false,
     "start_time": "2022-04-01T20:55:01.309485",
     "status": "completed"
    },
    "tags": []
   },
   "outputs": [],
   "source": [
    "required_parameters = {\n",
    "    \"experiment_name\",\n",
    "    \"lr\",\n",
    "    \"device\",\n",
    "    \"seed\",\n",
    "    \"dataset_seed\",\n",
    "    \"labels_source\",\n",
    "    \"labels_target\",\n",
    "    \"domains_source\",\n",
    "    \"domains_target\",\n",
    "    \"num_examples_per_domain_per_label_source\",\n",
    "    \"num_examples_per_domain_per_label_target\",\n",
    "    \"n_shot\",\n",
    "    \"n_way\",\n",
    "    \"n_query\",\n",
    "    \"train_k_factor\",\n",
    "    \"val_k_factor\",\n",
    "    \"test_k_factor\",\n",
    "    \"n_epoch\",\n",
    "    \"patience\",\n",
    "    \"criteria_for_best\",\n",
    "    \"x_transforms_source\",\n",
    "    \"x_transforms_target\",\n",
    "    \"episode_transforms_source\",\n",
    "    \"episode_transforms_target\",\n",
    "    \"pickle_name\",\n",
    "    \"x_net\",\n",
    "    \"NUM_LOGS_PER_EPOCH\",\n",
    "    \"BEST_MODEL_PATH\",\n",
    "    \"torch_default_dtype\"\n",
    "}"
   ]
  },
  {
   "cell_type": "code",
   "execution_count": 3,
   "id": "fa3f0049",
   "metadata": {
    "execution": {
     "iopub.execute_input": "2022-04-01T20:55:01.362466Z",
     "iopub.status.busy": "2022-04-01T20:55:01.362165Z",
     "iopub.status.idle": "2022-04-01T20:55:01.375139Z",
     "shell.execute_reply": "2022-04-01T20:55:01.374658Z"
    },
    "papermill": {
     "duration": 0.028276,
     "end_time": "2022-04-01T20:55:01.375237",
     "exception": false,
     "start_time": "2022-04-01T20:55:01.346961",
     "status": "completed"
    },
    "tags": [
     "parameters"
    ]
   },
   "outputs": [],
   "source": [
    "\n",
    "\n",
    "standalone_parameters = {}\n",
    "standalone_parameters[\"experiment_name\"] = \"STANDALONE PTN\"\n",
    "standalone_parameters[\"lr\"] = 0.0001\n",
    "standalone_parameters[\"device\"] = \"cuda\"\n",
    "\n",
    "standalone_parameters[\"seed\"] = 1337\n",
    "standalone_parameters[\"dataset_seed\"] = 1337\n",
    "\n",
    "\n",
    "standalone_parameters[\"num_examples_per_domain_per_label_source\"]=100\n",
    "standalone_parameters[\"num_examples_per_domain_per_label_target\"]=100\n",
    "\n",
    "standalone_parameters[\"n_shot\"] = 3\n",
    "standalone_parameters[\"n_query\"]  = 2\n",
    "standalone_parameters[\"train_k_factor\"] = 1\n",
    "standalone_parameters[\"val_k_factor\"] = 2\n",
    "standalone_parameters[\"test_k_factor\"] = 2\n",
    "\n",
    "\n",
    "standalone_parameters[\"n_epoch\"] = 100\n",
    "\n",
    "standalone_parameters[\"patience\"] = 10\n",
    "standalone_parameters[\"criteria_for_best\"] = \"target_accuracy\"\n",
    "\n",
    "standalone_parameters[\"x_transforms_source\"] = [\"unit_power\"]\n",
    "standalone_parameters[\"x_transforms_target\"] = [\"unit_power\"]\n",
    "standalone_parameters[\"episode_transforms_source\"] = []\n",
    "standalone_parameters[\"episode_transforms_target\"] = []\n",
    "\n",
    "standalone_parameters[\"torch_default_dtype\"] = \"torch.float32\" \n",
    "\n",
    "\n",
    "\n",
    "standalone_parameters[\"x_net\"] =     [\n",
    "    {\"class\": \"nnReshape\", \"kargs\": {\"shape\":[-1, 1, 2, 256]}},\n",
    "    {\"class\": \"Conv2d\", \"kargs\": { \"in_channels\":1, \"out_channels\":256, \"kernel_size\":(1,7), \"bias\":False, \"padding\":(0,3), },},\n",
    "    {\"class\": \"ReLU\", \"kargs\": {\"inplace\": True}},\n",
    "    {\"class\": \"BatchNorm2d\", \"kargs\": {\"num_features\":256}},\n",
    "\n",
    "    {\"class\": \"Conv2d\", \"kargs\": { \"in_channels\":256, \"out_channels\":80, \"kernel_size\":(2,7), \"bias\":True, \"padding\":(0,3), },},\n",
    "    {\"class\": \"ReLU\", \"kargs\": {\"inplace\": True}},\n",
    "    {\"class\": \"BatchNorm2d\", \"kargs\": {\"num_features\":80}},\n",
    "    {\"class\": \"Flatten\", \"kargs\": {}},\n",
    "\n",
    "    {\"class\": \"Linear\", \"kargs\": {\"in_features\": 80*256, \"out_features\": 256}}, # 80 units per IQ pair\n",
    "    {\"class\": \"ReLU\", \"kargs\": {\"inplace\": True}},\n",
    "    {\"class\": \"BatchNorm1d\", \"kargs\": {\"num_features\":256}},\n",
    "\n",
    "    {\"class\": \"Linear\", \"kargs\": {\"in_features\": 256, \"out_features\": 256}},\n",
    "]\n",
    "\n",
    "# Parameters relevant to results\n",
    "# These parameters will basically never need to change\n",
    "standalone_parameters[\"NUM_LOGS_PER_EPOCH\"] = 10\n",
    "standalone_parameters[\"BEST_MODEL_PATH\"] = \"./best_model.pth\"\n",
    "\n",
    "# uncomment for CORES dataset\n",
    "from steves_utils.CORES.utils import (\n",
    "    ALL_NODES,\n",
    "    ALL_NODES_MINIMUM_1000_EXAMPLES,\n",
    "    ALL_DAYS\n",
    ")\n",
    "\n",
    "\n",
    "standalone_parameters[\"labels_source\"] = ALL_NODES\n",
    "standalone_parameters[\"labels_target\"] = ALL_NODES\n",
    "\n",
    "standalone_parameters[\"domains_source\"] = [1]\n",
    "standalone_parameters[\"domains_target\"] = [2,3,4,5]\n",
    "\n",
    "standalone_parameters[\"pickle_name\"] = \"cores.stratified_ds.2022A.pkl\"\n",
    "\n",
    "\n",
    "# Uncomment these for ORACLE dataset\n",
    "# from steves_utils.ORACLE.utils_v2 import (\n",
    "#     ALL_DISTANCES_FEET,\n",
    "#     ALL_RUNS,\n",
    "#     ALL_SERIAL_NUMBERS,\n",
    "# )\n",
    "# standalone_parameters[\"labels_source\"] = ALL_SERIAL_NUMBERS\n",
    "# standalone_parameters[\"labels_target\"] = ALL_SERIAL_NUMBERS\n",
    "# standalone_parameters[\"domains_source\"] = [8,20, 38,50]\n",
    "# standalone_parameters[\"domains_target\"] = [14, 26, 32, 44, 56]\n",
    "# standalone_parameters[\"pickle_name\"] = \"oracle.frame_indexed.stratified_ds.2022A.pkl\"\n",
    "# standalone_parameters[\"num_examples_per_domain_per_label_source\"]=1000\n",
    "# standalone_parameters[\"num_examples_per_domain_per_label_target\"]=1000\n",
    "\n",
    "# Uncomment these for Metahan dataset\n",
    "# standalone_parameters[\"labels_source\"] = list(range(19))\n",
    "# standalone_parameters[\"labels_target\"] = list(range(19))\n",
    "# standalone_parameters[\"domains_source\"] = [0]\n",
    "# standalone_parameters[\"domains_target\"] = [1]\n",
    "# standalone_parameters[\"pickle_name\"] = \"metehan.stratified_ds.2022A.pkl\"\n",
    "# standalone_parameters[\"n_way\"]  = len(standalone_parameters[\"labels_source\"])\n",
    "# standalone_parameters[\"num_examples_per_domain_per_label_source\"]=200\n",
    "# standalone_parameters[\"num_examples_per_domain_per_label_target\"]=100\n",
    "\n",
    "\n",
    "standalone_parameters[\"n_way\"]  = len(standalone_parameters[\"labels_source\"])"
   ]
  },
  {
   "cell_type": "code",
   "execution_count": 4,
   "id": "a2d7c724",
   "metadata": {
    "execution": {
     "iopub.execute_input": "2022-04-01T20:55:01.402605Z",
     "iopub.status.busy": "2022-04-01T20:55:01.402266Z",
     "iopub.status.idle": "2022-04-01T20:55:01.413244Z",
     "shell.execute_reply": "2022-04-01T20:55:01.412834Z"
    },
    "papermill": {
     "duration": 0.025006,
     "end_time": "2022-04-01T20:55:01.413322",
     "exception": false,
     "start_time": "2022-04-01T20:55:01.388316",
     "status": "completed"
    },
    "tags": [
     "injected-parameters"
    ]
   },
   "outputs": [],
   "source": [
    "# Parameters\n",
    "parameters = {\n",
    "    \"experiment_name\": \"tuned_1v2:oracle.run1_limited\",\n",
    "    \"device\": \"cuda\",\n",
    "    \"lr\": 0.0001,\n",
    "    \"labels_source\": [\n",
    "        \"3123D52\",\n",
    "        \"3123D65\",\n",
    "        \"3123D79\",\n",
    "        \"3123D80\",\n",
    "        \"3123D54\",\n",
    "        \"3123D70\",\n",
    "        \"3123D7B\",\n",
    "        \"3123D89\",\n",
    "        \"3123D58\",\n",
    "        \"3123D76\",\n",
    "        \"3123D7D\",\n",
    "        \"3123EFE\",\n",
    "        \"3123D64\",\n",
    "        \"3123D78\",\n",
    "        \"3123D7E\",\n",
    "        \"3124E4A\",\n",
    "    ],\n",
    "    \"labels_target\": [\n",
    "        \"3123D52\",\n",
    "        \"3123D65\",\n",
    "        \"3123D79\",\n",
    "        \"3123D80\",\n",
    "        \"3123D54\",\n",
    "        \"3123D70\",\n",
    "        \"3123D7B\",\n",
    "        \"3123D89\",\n",
    "        \"3123D58\",\n",
    "        \"3123D76\",\n",
    "        \"3123D7D\",\n",
    "        \"3123EFE\",\n",
    "        \"3123D64\",\n",
    "        \"3123D78\",\n",
    "        \"3123D7E\",\n",
    "        \"3124E4A\",\n",
    "    ],\n",
    "    \"episode_transforms_source\": [],\n",
    "    \"episode_transforms_target\": [],\n",
    "    \"domains_source\": [8, 32, 50],\n",
    "    \"domains_target\": [14, 20, 26, 38, 44],\n",
    "    \"num_examples_per_domain_per_label_source\": 2000,\n",
    "    \"num_examples_per_domain_per_label_target\": 2000,\n",
    "    \"n_shot\": 3,\n",
    "    \"n_way\": 16,\n",
    "    \"n_query\": 2,\n",
    "    \"train_k_factor\": 3,\n",
    "    \"val_k_factor\": 2,\n",
    "    \"test_k_factor\": 2,\n",
    "    \"torch_default_dtype\": \"torch.float32\",\n",
    "    \"n_epoch\": 50,\n",
    "    \"patience\": 3,\n",
    "    \"criteria_for_best\": \"target_accuracy\",\n",
    "    \"x_net\": [\n",
    "        {\"class\": \"nnReshape\", \"kargs\": {\"shape\": [-1, 1, 2, 256]}},\n",
    "        {\n",
    "            \"class\": \"Conv2d\",\n",
    "            \"kargs\": {\n",
    "                \"in_channels\": 1,\n",
    "                \"out_channels\": 256,\n",
    "                \"kernel_size\": [1, 7],\n",
    "                \"bias\": False,\n",
    "                \"padding\": [0, 3],\n",
    "            },\n",
    "        },\n",
    "        {\"class\": \"ReLU\", \"kargs\": {\"inplace\": True}},\n",
    "        {\"class\": \"BatchNorm2d\", \"kargs\": {\"num_features\": 256}},\n",
    "        {\n",
    "            \"class\": \"Conv2d\",\n",
    "            \"kargs\": {\n",
    "                \"in_channels\": 256,\n",
    "                \"out_channels\": 80,\n",
    "                \"kernel_size\": [2, 7],\n",
    "                \"bias\": True,\n",
    "                \"padding\": [0, 3],\n",
    "            },\n",
    "        },\n",
    "        {\"class\": \"ReLU\", \"kargs\": {\"inplace\": True}},\n",
    "        {\"class\": \"BatchNorm2d\", \"kargs\": {\"num_features\": 80}},\n",
    "        {\"class\": \"Flatten\", \"kargs\": {}},\n",
    "        {\"class\": \"Linear\", \"kargs\": {\"in_features\": 20480, \"out_features\": 256}},\n",
    "        {\"class\": \"ReLU\", \"kargs\": {\"inplace\": True}},\n",
    "        {\"class\": \"BatchNorm1d\", \"kargs\": {\"num_features\": 256}},\n",
    "        {\"class\": \"Linear\", \"kargs\": {\"in_features\": 256, \"out_features\": 256}},\n",
    "    ],\n",
    "    \"NUM_LOGS_PER_EPOCH\": 10,\n",
    "    \"BEST_MODEL_PATH\": \"./best_model.pth\",\n",
    "    \"pickle_name\": \"oracle.Run1_10kExamples_stratified_ds.2022A.pkl\",\n",
    "    \"x_transforms_source\": [\"unit_mag\"],\n",
    "    \"x_transforms_target\": [\"unit_mag\"],\n",
    "    \"dataset_seed\": 154325,\n",
    "    \"seed\": 154325,\n",
    "}\n"
   ]
  },
  {
   "cell_type": "code",
   "execution_count": 5,
   "id": "8fa1cc33",
   "metadata": {
    "execution": {
     "iopub.execute_input": "2022-04-01T20:55:01.440261Z",
     "iopub.status.busy": "2022-04-01T20:55:01.439988Z",
     "iopub.status.idle": "2022-04-01T20:55:01.450875Z",
     "shell.execute_reply": "2022-04-01T20:55:01.450394Z"
    },
    "papermill": {
     "duration": 0.022764,
     "end_time": "2022-04-01T20:55:01.450973",
     "exception": false,
     "start_time": "2022-04-01T20:55:01.428209",
     "status": "completed"
    },
    "tags": []
   },
   "outputs": [],
   "source": [
    "# Set this to True if you want to run this template directly\n",
    "STANDALONE = False\n",
    "if STANDALONE:\n",
    "    print(\"parameters not injected, running with standalone_parameters\")\n",
    "    parameters = standalone_parameters\n",
    "\n",
    "if not 'parameters' in locals() and not 'parameters' in globals():\n",
    "    raise Exception(\"Parameter injection failed\")\n",
    "\n",
    "#Use an easy dict for all the parameters\n",
    "p = EasyDict(parameters)\n",
    "\n",
    "supplied_keys = set(p.keys())\n",
    "\n",
    "if  supplied_keys != required_parameters:\n",
    "    print(\"Parameters are incorrect\")\n",
    "    if len(supplied_keys - required_parameters)>0: print(\"Shouldn't have:\", str(supplied_keys - required_parameters))\n",
    "    if len(required_parameters - supplied_keys)>0: print(\"Need to have:\", str(required_parameters - supplied_keys))\n",
    "    raise RuntimeError(\"Parameters are incorrect\")\n",
    "\n"
   ]
  },
  {
   "cell_type": "code",
   "execution_count": 6,
   "id": "3a028d58",
   "metadata": {
    "execution": {
     "iopub.execute_input": "2022-04-01T20:55:01.479450Z",
     "iopub.status.busy": "2022-04-01T20:55:01.476338Z",
     "iopub.status.idle": "2022-04-01T20:55:01.490021Z",
     "shell.execute_reply": "2022-04-01T20:55:01.489605Z"
    },
    "papermill": {
     "duration": 0.025699,
     "end_time": "2022-04-01T20:55:01.490100",
     "exception": false,
     "start_time": "2022-04-01T20:55:01.464401",
     "status": "completed"
    },
    "tags": []
   },
   "outputs": [],
   "source": [
    "###################################\n",
    "# Set the RNGs and make it all deterministic\n",
    "###################################\n",
    "np.random.seed(p.seed)\n",
    "random.seed(p.seed)\n",
    "torch.manual_seed(p.seed)\n",
    "\n",
    "torch.use_deterministic_algorithms(True) "
   ]
  },
  {
   "cell_type": "code",
   "execution_count": 7,
   "id": "b691acf6",
   "metadata": {
    "execution": {
     "iopub.execute_input": "2022-04-01T20:55:01.515370Z",
     "iopub.status.busy": "2022-04-01T20:55:01.515122Z",
     "iopub.status.idle": "2022-04-01T20:55:01.529031Z",
     "shell.execute_reply": "2022-04-01T20:55:01.528588Z"
    },
    "papermill": {
     "duration": 0.02512,
     "end_time": "2022-04-01T20:55:01.529112",
     "exception": false,
     "start_time": "2022-04-01T20:55:01.503992",
     "status": "completed"
    },
    "tags": []
   },
   "outputs": [],
   "source": [
    "###########################################\n",
    "# The stratified datasets honor this\n",
    "###########################################\n",
    "torch.set_default_dtype(eval(p.torch_default_dtype))"
   ]
  },
  {
   "cell_type": "code",
   "execution_count": 8,
   "id": "b5fba671",
   "metadata": {
    "execution": {
     "iopub.execute_input": "2022-04-01T20:55:01.556609Z",
     "iopub.status.busy": "2022-04-01T20:55:01.556031Z",
     "iopub.status.idle": "2022-04-01T20:55:01.596424Z",
     "shell.execute_reply": "2022-04-01T20:55:01.596006Z"
    },
    "papermill": {
     "duration": 0.05231,
     "end_time": "2022-04-01T20:55:01.596517",
     "exception": false,
     "start_time": "2022-04-01T20:55:01.544207",
     "status": "completed"
    },
    "tags": []
   },
   "outputs": [],
   "source": [
    "###################################\n",
    "# Build the network(s)\n",
    "# Note: It's critical to do this AFTER setting the RNG\n",
    "# (This is due to the randomized initial weights)\n",
    "###################################\n",
    "x_net = build_sequential(p.x_net)"
   ]
  },
  {
   "cell_type": "code",
   "execution_count": 9,
   "id": "5d7e61cc",
   "metadata": {
    "execution": {
     "iopub.execute_input": "2022-04-01T20:55:01.624307Z",
     "iopub.status.busy": "2022-04-01T20:55:01.624032Z",
     "iopub.status.idle": "2022-04-01T20:55:01.640266Z",
     "shell.execute_reply": "2022-04-01T20:55:01.639780Z"
    },
    "papermill": {
     "duration": 0.028024,
     "end_time": "2022-04-01T20:55:01.640358",
     "exception": false,
     "start_time": "2022-04-01T20:55:01.612334",
     "status": "completed"
    },
    "tags": []
   },
   "outputs": [],
   "source": [
    "start_time_secs = time.time()"
   ]
  },
  {
   "cell_type": "code",
   "execution_count": 10,
   "id": "fd5442bc",
   "metadata": {
    "execution": {
     "iopub.execute_input": "2022-04-01T20:55:01.672473Z",
     "iopub.status.busy": "2022-04-01T20:55:01.672035Z",
     "iopub.status.idle": "2022-04-01T20:55:19.599470Z",
     "shell.execute_reply": "2022-04-01T20:55:19.599840Z"
    },
    "papermill": {
     "duration": 17.944514,
     "end_time": "2022-04-01T20:55:19.599965",
     "exception": false,
     "start_time": "2022-04-01T20:55:01.655451",
     "status": "completed"
    },
    "tags": []
   },
   "outputs": [],
   "source": [
    "###################################\n",
    "# Build the dataset\n",
    "###################################\n",
    "\n",
    "if p.x_transforms_source == []: x_transform_source = None\n",
    "else: x_transform_source = get_chained_transform(p.x_transforms_source) \n",
    "\n",
    "if p.x_transforms_target == []: x_transform_target = None\n",
    "else: x_transform_target = get_chained_transform(p.x_transforms_target)\n",
    "\n",
    "if p.episode_transforms_source == []: episode_transform_source = None\n",
    "else: raise Exception(\"episode_transform_source not implemented\")\n",
    "\n",
    "if p.episode_transforms_target == []: episode_transform_target = None\n",
    "else: raise Exception(\"episode_transform_target not implemented\")\n",
    "\n",
    "\n",
    "eaf_source = Episodic_Accessor_Factory(\n",
    "    labels=p.labels_source,\n",
    "    domains=p.domains_source,\n",
    "    num_examples_per_domain_per_label=p.num_examples_per_domain_per_label_source,\n",
    "    iterator_seed=p.seed,\n",
    "    dataset_seed=p.dataset_seed,\n",
    "    n_shot=p.n_shot,\n",
    "    n_way=p.n_way,\n",
    "    n_query=p.n_query,\n",
    "    train_val_test_k_factors=(p.train_k_factor,p.val_k_factor,p.test_k_factor),\n",
    "    pickle_path=os.path.join(get_datasets_base_path(), p.pickle_name),\n",
    "    x_transform_func=x_transform_source,\n",
    "    example_transform_func=episode_transform_source,\n",
    "    \n",
    ")\n",
    "train_original_source, val_original_source, test_original_source = eaf_source.get_train(), eaf_source.get_val(), eaf_source.get_test()\n",
    "\n",
    "\n",
    "eaf_target = Episodic_Accessor_Factory(\n",
    "    labels=p.labels_target,\n",
    "    domains=p.domains_target,\n",
    "    num_examples_per_domain_per_label=p.num_examples_per_domain_per_label_target,\n",
    "    iterator_seed=p.seed,\n",
    "    dataset_seed=p.dataset_seed,\n",
    "    n_shot=p.n_shot,\n",
    "    n_way=p.n_way,\n",
    "    n_query=p.n_query,\n",
    "    train_val_test_k_factors=(p.train_k_factor,p.val_k_factor,p.test_k_factor),\n",
    "    pickle_path=os.path.join(get_datasets_base_path(), p.pickle_name),\n",
    "    x_transform_func=x_transform_target,\n",
    "    example_transform_func=episode_transform_target,\n",
    ")\n",
    "train_original_target, val_original_target, test_original_target = eaf_target.get_train(), eaf_target.get_val(), eaf_target.get_test()\n",
    "\n",
    "\n",
    "transform_lambda = lambda ex: ex[1] # Original is (<domain>, <episode>) so we strip down to episode only\n",
    "\n",
    "train_processed_source = Lazy_Iterable_Wrapper(train_original_source, transform_lambda)\n",
    "val_processed_source   = Lazy_Iterable_Wrapper(val_original_source, transform_lambda)\n",
    "test_processed_source  = Lazy_Iterable_Wrapper(test_original_source, transform_lambda)\n",
    "\n",
    "train_processed_target = Lazy_Iterable_Wrapper(train_original_target, transform_lambda)\n",
    "val_processed_target   = Lazy_Iterable_Wrapper(val_original_target, transform_lambda)\n",
    "test_processed_target  = Lazy_Iterable_Wrapper(test_original_target, transform_lambda)\n",
    "\n",
    "datasets = EasyDict({\n",
    "    \"source\": {\n",
    "        \"original\": {\"train\":train_original_source, \"val\":val_original_source, \"test\":test_original_source},\n",
    "        \"processed\": {\"train\":train_processed_source, \"val\":val_processed_source, \"test\":test_processed_source}\n",
    "    },\n",
    "    \"target\": {\n",
    "        \"original\": {\"train\":train_original_target, \"val\":val_original_target, \"test\":test_original_target},\n",
    "        \"processed\": {\"train\":train_processed_target, \"val\":val_processed_target, \"test\":test_processed_target}\n",
    "    },\n",
    "})"
   ]
  },
  {
   "cell_type": "code",
   "execution_count": 11,
   "id": "296189d9",
   "metadata": {
    "execution": {
     "iopub.execute_input": "2022-04-01T20:55:19.629995Z",
     "iopub.status.busy": "2022-04-01T20:55:19.629740Z",
     "iopub.status.idle": "2022-04-01T20:55:21.242379Z",
     "shell.execute_reply": "2022-04-01T20:55:21.242741Z"
    },
    "papermill": {
     "duration": 1.627608,
     "end_time": "2022-04-01T20:55:21.242854",
     "exception": false,
     "start_time": "2022-04-01T20:55:19.615246",
     "status": "completed"
    },
    "tags": []
   },
   "outputs": [
    {
     "name": "stdout",
     "output_type": "stream",
     "text": [
      "Visually inspect these to see if they line up with expected values given the transforms\n",
      "x_transforms_source ['unit_mag']\n",
      "x_transforms_target ['unit_mag']\n",
      "Average magnitude, source: 1.0\n",
      "Average power, source: 1.2613971\n"
     ]
    },
    {
     "name": "stdout",
     "output_type": "stream",
     "text": [
      "Average magnitude, target: 1.0\n",
      "Average power, target: 1.2524543\n"
     ]
    }
   ],
   "source": [
    "# Some quick unit tests on the data\n",
    "from steves_utils.transforms import get_average_power, get_average_magnitude\n",
    "\n",
    "q_x, q_y, s_x, s_y, truth = next(iter(train_processed_source))\n",
    "\n",
    "assert q_x.dtype == eval(p.torch_default_dtype)\n",
    "assert s_x.dtype == eval(p.torch_default_dtype)\n",
    "\n",
    "print(\"Visually inspect these to see if they line up with expected values given the transforms\")\n",
    "print('x_transforms_source', p.x_transforms_source)\n",
    "print('x_transforms_target', p.x_transforms_target)\n",
    "print(\"Average magnitude, source:\", get_average_magnitude(q_x[0].numpy()))\n",
    "print(\"Average power, source:\", get_average_power(q_x[0].numpy()))\n",
    "\n",
    "q_x, q_y, s_x, s_y, truth = next(iter(train_processed_target))\n",
    "print(\"Average magnitude, target:\", get_average_magnitude(q_x[0].numpy()))\n",
    "print(\"Average power, target:\", get_average_power(q_x[0].numpy()))\n"
   ]
  },
  {
   "cell_type": "code",
   "execution_count": 12,
   "id": "bbdacba1",
   "metadata": {
    "execution": {
     "iopub.execute_input": "2022-04-01T20:55:21.273846Z",
     "iopub.status.busy": "2022-04-01T20:55:21.273581Z",
     "iopub.status.idle": "2022-04-01T20:55:21.337744Z",
     "shell.execute_reply": "2022-04-01T20:55:21.338048Z"
    },
    "papermill": {
     "duration": 0.079603,
     "end_time": "2022-04-01T20:55:21.338153",
     "exception": false,
     "start_time": "2022-04-01T20:55:21.258550",
     "status": "completed"
    },
    "tags": []
   },
   "outputs": [
    {
     "name": "stdout",
     "output_type": "stream",
     "text": [
      "(2, 256)\n"
     ]
    }
   ],
   "source": [
    "###################################\n",
    "# Build the model\n",
    "###################################\n",
    "model = Steves_Prototypical_Network(x_net, device=p.device, x_shape=(2,256))\n",
    "optimizer = Adam(params=model.parameters(), lr=p.lr)"
   ]
  },
  {
   "cell_type": "code",
   "execution_count": 13,
   "id": "22b39ac5",
   "metadata": {
    "execution": {
     "iopub.execute_input": "2022-04-01T20:55:21.365634Z",
     "iopub.status.busy": "2022-04-01T20:55:21.365382Z",
     "iopub.status.idle": "2022-04-01T21:10:51.068822Z",
     "shell.execute_reply": "2022-04-01T21:10:51.068590Z"
    },
    "papermill": {
     "duration": 929.716848,
     "end_time": "2022-04-01T21:10:51.068882",
     "exception": false,
     "start_time": "2022-04-01T20:55:21.352034",
     "status": "completed"
    },
    "tags": []
   },
   "outputs": [
    {
     "name": "stdout",
     "output_type": "stream",
     "text": [
      "epoch: 1, [batch: 1 / 2520], examples_per_second: 128.2097, train_label_loss: 2.8086, \n"
     ]
    },
    {
     "name": "stdout",
     "output_type": "stream",
     "text": [
      "epoch: 1, [batch: 252 / 2520], examples_per_second: 3155.2669, train_label_loss: 2.8394, \n"
     ]
    },
    {
     "name": "stdout",
     "output_type": "stream",
     "text": [
      "epoch: 1, [batch: 504 / 2520], examples_per_second: 3151.6146, train_label_loss: 1.8837, \n"
     ]
    },
    {
     "name": "stdout",
     "output_type": "stream",
     "text": [
      "epoch: 1, [batch: 756 / 2520], examples_per_second: 3154.5555, train_label_loss: 1.7769, \n"
     ]
    },
    {
     "name": "stdout",
     "output_type": "stream",
     "text": [
      "epoch: 1, [batch: 1008 / 2520], examples_per_second: 3135.7486, train_label_loss: 1.6580, \n"
     ]
    },
    {
     "name": "stdout",
     "output_type": "stream",
     "text": [
      "epoch: 1, [batch: 1260 / 2520], examples_per_second: 3149.1516, train_label_loss: 1.3413, \n"
     ]
    },
    {
     "name": "stdout",
     "output_type": "stream",
     "text": [
      "epoch: 1, [batch: 1512 / 2520], examples_per_second: 3154.3033, train_label_loss: 1.8587, \n"
     ]
    },
    {
     "name": "stdout",
     "output_type": "stream",
     "text": [
      "epoch: 1, [batch: 1764 / 2520], examples_per_second: 3148.7777, train_label_loss: 1.4267, \n"
     ]
    },
    {
     "name": "stdout",
     "output_type": "stream",
     "text": [
      "epoch: 1, [batch: 2016 / 2520], examples_per_second: 3160.4895, train_label_loss: 1.3592, \n"
     ]
    },
    {
     "name": "stdout",
     "output_type": "stream",
     "text": [
      "epoch: 1, [batch: 2268 / 2520], examples_per_second: 3151.4679, train_label_loss: 1.3250, \n"
     ]
    },
    {
     "name": "stdout",
     "output_type": "stream",
     "text": [
      "=============================================================\n",
      "epoch: 1, source_val_acc_label: 0.3927, target_val_acc_label: 0.2728, source_val_label_loss: 1.5313, target_val_label_loss: 1.8651, \n",
      "=============================================================\n"
     ]
    },
    {
     "name": "stdout",
     "output_type": "stream",
     "text": [
      "New best\n"
     ]
    },
    {
     "name": "stdout",
     "output_type": "stream",
     "text": [
      "epoch: 2, [batch: 1 / 2520], examples_per_second: 11.1675, train_label_loss: 1.6295, \n"
     ]
    },
    {
     "name": "stdout",
     "output_type": "stream",
     "text": [
      "epoch: 2, [batch: 252 / 2520], examples_per_second: 3166.0546, train_label_loss: 1.2276, \n"
     ]
    },
    {
     "name": "stdout",
     "output_type": "stream",
     "text": [
      "epoch: 2, [batch: 504 / 2520], examples_per_second: 3174.6100, train_label_loss: 1.1619, \n"
     ]
    },
    {
     "name": "stdout",
     "output_type": "stream",
     "text": [
      "epoch: 2, [batch: 756 / 2520], examples_per_second: 3178.5741, train_label_loss: 1.5199, \n"
     ]
    },
    {
     "name": "stdout",
     "output_type": "stream",
     "text": [
      "epoch: 2, [batch: 1008 / 2520], examples_per_second: 3169.8227, train_label_loss: 1.4701, \n"
     ]
    },
    {
     "name": "stdout",
     "output_type": "stream",
     "text": [
      "epoch: 2, [batch: 1260 / 2520], examples_per_second: 3180.1700, train_label_loss: 1.4215, \n"
     ]
    },
    {
     "name": "stdout",
     "output_type": "stream",
     "text": [
      "epoch: 2, [batch: 1512 / 2520], examples_per_second: 3188.8658, train_label_loss: 1.0989, \n"
     ]
    },
    {
     "name": "stdout",
     "output_type": "stream",
     "text": [
      "epoch: 2, [batch: 1764 / 2520], examples_per_second: 3166.7914, train_label_loss: 1.4678, \n"
     ]
    },
    {
     "name": "stdout",
     "output_type": "stream",
     "text": [
      "epoch: 2, [batch: 2016 / 2520], examples_per_second: 3178.6803, train_label_loss: 1.4428, \n"
     ]
    },
    {
     "name": "stdout",
     "output_type": "stream",
     "text": [
      "epoch: 2, [batch: 2268 / 2520], examples_per_second: 3186.4728, train_label_loss: 1.7159, \n"
     ]
    },
    {
     "name": "stdout",
     "output_type": "stream",
     "text": [
      "=============================================================\n",
      "epoch: 2, source_val_acc_label: 0.4222, target_val_acc_label: 0.2937, source_val_label_loss: 1.4458, target_val_label_loss: 1.8184, \n",
      "=============================================================\n"
     ]
    },
    {
     "name": "stdout",
     "output_type": "stream",
     "text": [
      "New best\n"
     ]
    },
    {
     "name": "stdout",
     "output_type": "stream",
     "text": [
      "epoch: 3, [batch: 1 / 2520], examples_per_second: 11.1422, train_label_loss: 1.2594, \n"
     ]
    },
    {
     "name": "stdout",
     "output_type": "stream",
     "text": [
      "epoch: 3, [batch: 252 / 2520], examples_per_second: 3159.6914, train_label_loss: 1.3248, \n"
     ]
    },
    {
     "name": "stdout",
     "output_type": "stream",
     "text": [
      "epoch: 3, [batch: 504 / 2520], examples_per_second: 3158.3368, train_label_loss: 1.3541, \n"
     ]
    },
    {
     "name": "stdout",
     "output_type": "stream",
     "text": [
      "epoch: 3, [batch: 756 / 2520], examples_per_second: 3163.1635, train_label_loss: 1.2715, \n"
     ]
    },
    {
     "name": "stdout",
     "output_type": "stream",
     "text": [
      "epoch: 3, [batch: 1008 / 2520], examples_per_second: 3164.1784, train_label_loss: 1.4598, \n"
     ]
    },
    {
     "name": "stdout",
     "output_type": "stream",
     "text": [
      "epoch: 3, [batch: 1260 / 2520], examples_per_second: 3175.7524, train_label_loss: 1.5065, \n"
     ]
    },
    {
     "name": "stdout",
     "output_type": "stream",
     "text": [
      "epoch: 3, [batch: 1512 / 2520], examples_per_second: 3169.1224, train_label_loss: 1.5255, \n"
     ]
    },
    {
     "name": "stdout",
     "output_type": "stream",
     "text": [
      "epoch: 3, [batch: 1764 / 2520], examples_per_second: 3168.6861, train_label_loss: 1.1048, \n"
     ]
    },
    {
     "name": "stdout",
     "output_type": "stream",
     "text": [
      "epoch: 3, [batch: 2016 / 2520], examples_per_second: 3178.5685, train_label_loss: 1.2966, \n"
     ]
    },
    {
     "name": "stdout",
     "output_type": "stream",
     "text": [
      "epoch: 3, [batch: 2268 / 2520], examples_per_second: 3164.4164, train_label_loss: 1.0370, \n"
     ]
    },
    {
     "name": "stdout",
     "output_type": "stream",
     "text": [
      "=============================================================\n",
      "epoch: 3, source_val_acc_label: 0.4280, target_val_acc_label: 0.3034, source_val_label_loss: 1.4418, target_val_label_loss: 1.8034, \n",
      "=============================================================\n"
     ]
    },
    {
     "name": "stdout",
     "output_type": "stream",
     "text": [
      "New best\n"
     ]
    },
    {
     "name": "stdout",
     "output_type": "stream",
     "text": [
      "epoch: 4, [batch: 1 / 2520], examples_per_second: 11.0973, train_label_loss: 1.4170, \n"
     ]
    },
    {
     "name": "stdout",
     "output_type": "stream",
     "text": [
      "epoch: 4, [batch: 252 / 2520], examples_per_second: 3184.5153, train_label_loss: 1.2495, \n"
     ]
    },
    {
     "name": "stdout",
     "output_type": "stream",
     "text": [
      "epoch: 4, [batch: 504 / 2520], examples_per_second: 3167.2123, train_label_loss: 1.1565, \n"
     ]
    },
    {
     "name": "stdout",
     "output_type": "stream",
     "text": [
      "epoch: 4, [batch: 756 / 2520], examples_per_second: 3183.1863, train_label_loss: 1.1923, \n"
     ]
    },
    {
     "name": "stdout",
     "output_type": "stream",
     "text": [
      "epoch: 4, [batch: 1008 / 2520], examples_per_second: 3195.5641, train_label_loss: 0.6997, \n"
     ]
    },
    {
     "name": "stdout",
     "output_type": "stream",
     "text": [
      "epoch: 4, [batch: 1260 / 2520], examples_per_second: 3182.4374, train_label_loss: 1.1286, \n"
     ]
    },
    {
     "name": "stdout",
     "output_type": "stream",
     "text": [
      "epoch: 4, [batch: 1512 / 2520], examples_per_second: 3196.7809, train_label_loss: 1.2001, \n"
     ]
    },
    {
     "name": "stdout",
     "output_type": "stream",
     "text": [
      "epoch: 4, [batch: 1764 / 2520], examples_per_second: 3172.6584, train_label_loss: 1.0498, \n"
     ]
    },
    {
     "name": "stdout",
     "output_type": "stream",
     "text": [
      "epoch: 4, [batch: 2016 / 2520], examples_per_second: 3190.5449, train_label_loss: 0.7787, \n"
     ]
    },
    {
     "name": "stdout",
     "output_type": "stream",
     "text": [
      "epoch: 4, [batch: 2268 / 2520], examples_per_second: 3168.4646, train_label_loss: 1.1475, \n"
     ]
    },
    {
     "name": "stdout",
     "output_type": "stream",
     "text": [
      "=============================================================\n",
      "epoch: 4, source_val_acc_label: 0.5481, target_val_acc_label: 0.4479, source_val_label_loss: 1.2196, target_val_label_loss: 1.5007, \n",
      "=============================================================\n"
     ]
    },
    {
     "name": "stdout",
     "output_type": "stream",
     "text": [
      "New best\n"
     ]
    },
    {
     "name": "stdout",
     "output_type": "stream",
     "text": [
      "epoch: 5, [batch: 1 / 2520], examples_per_second: 11.0843, train_label_loss: 0.7003, \n"
     ]
    },
    {
     "name": "stdout",
     "output_type": "stream",
     "text": [
      "epoch: 5, [batch: 252 / 2520], examples_per_second: 3168.0089, train_label_loss: 0.6406, \n"
     ]
    },
    {
     "name": "stdout",
     "output_type": "stream",
     "text": [
      "epoch: 5, [batch: 504 / 2520], examples_per_second: 3180.5496, train_label_loss: 0.4875, \n"
     ]
    },
    {
     "name": "stdout",
     "output_type": "stream",
     "text": [
      "epoch: 5, [batch: 756 / 2520], examples_per_second: 3171.5264, train_label_loss: 1.1146, \n"
     ]
    },
    {
     "name": "stdout",
     "output_type": "stream",
     "text": [
      "epoch: 5, [batch: 1008 / 2520], examples_per_second: 3171.9158, train_label_loss: 0.8190, \n"
     ]
    },
    {
     "name": "stdout",
     "output_type": "stream",
     "text": [
      "epoch: 5, [batch: 1260 / 2520], examples_per_second: 3188.1194, train_label_loss: 0.4940, \n"
     ]
    },
    {
     "name": "stdout",
     "output_type": "stream",
     "text": [
      "epoch: 5, [batch: 1512 / 2520], examples_per_second: 3199.6949, train_label_loss: 0.8363, \n"
     ]
    },
    {
     "name": "stdout",
     "output_type": "stream",
     "text": [
      "epoch: 5, [batch: 1764 / 2520], examples_per_second: 3184.1890, train_label_loss: 0.7813, \n"
     ]
    },
    {
     "name": "stdout",
     "output_type": "stream",
     "text": [
      "epoch: 5, [batch: 2016 / 2520], examples_per_second: 3186.2560, train_label_loss: 1.0326, \n"
     ]
    },
    {
     "name": "stdout",
     "output_type": "stream",
     "text": [
      "epoch: 5, [batch: 2268 / 2520], examples_per_second: 3173.3392, train_label_loss: 0.7448, \n"
     ]
    },
    {
     "name": "stdout",
     "output_type": "stream",
     "text": [
      "=============================================================\n",
      "epoch: 5, source_val_acc_label: 0.5617, target_val_acc_label: 0.4703, source_val_label_loss: 1.2233, target_val_label_loss: 1.4923, \n",
      "=============================================================\n"
     ]
    },
    {
     "name": "stdout",
     "output_type": "stream",
     "text": [
      "New best\n"
     ]
    },
    {
     "name": "stdout",
     "output_type": "stream",
     "text": [
      "epoch: 6, [batch: 1 / 2520], examples_per_second: 11.0845, train_label_loss: 0.4373, \n"
     ]
    },
    {
     "name": "stdout",
     "output_type": "stream",
     "text": [
      "epoch: 6, [batch: 252 / 2520], examples_per_second: 3162.0210, train_label_loss: 0.4904, \n"
     ]
    },
    {
     "name": "stdout",
     "output_type": "stream",
     "text": [
      "epoch: 6, [batch: 504 / 2520], examples_per_second: 3186.4046, train_label_loss: 1.0827, \n"
     ]
    },
    {
     "name": "stdout",
     "output_type": "stream",
     "text": [
      "epoch: 6, [batch: 756 / 2520], examples_per_second: 3171.4363, train_label_loss: 0.9017, \n"
     ]
    },
    {
     "name": "stdout",
     "output_type": "stream",
     "text": [
      "epoch: 6, [batch: 1008 / 2520], examples_per_second: 3164.3020, train_label_loss: 0.3363, \n"
     ]
    },
    {
     "name": "stdout",
     "output_type": "stream",
     "text": [
      "epoch: 6, [batch: 1260 / 2520], examples_per_second: 3183.0983, train_label_loss: 0.4386, \n"
     ]
    },
    {
     "name": "stdout",
     "output_type": "stream",
     "text": [
      "epoch: 6, [batch: 1512 / 2520], examples_per_second: 3181.9709, train_label_loss: 0.4921, \n"
     ]
    },
    {
     "name": "stdout",
     "output_type": "stream",
     "text": [
      "epoch: 6, [batch: 1764 / 2520], examples_per_second: 3162.6654, train_label_loss: 0.7776, \n"
     ]
    },
    {
     "name": "stdout",
     "output_type": "stream",
     "text": [
      "epoch: 6, [batch: 2016 / 2520], examples_per_second: 3181.4212, train_label_loss: 0.4083, \n"
     ]
    },
    {
     "name": "stdout",
     "output_type": "stream",
     "text": [
      "epoch: 6, [batch: 2268 / 2520], examples_per_second: 3170.7806, train_label_loss: 0.3058, \n"
     ]
    },
    {
     "name": "stdout",
     "output_type": "stream",
     "text": [
      "=============================================================\n",
      "epoch: 6, source_val_acc_label: 0.5839, target_val_acc_label: 0.4847, source_val_label_loss: 1.2819, target_val_label_loss: 1.5516, \n",
      "=============================================================\n"
     ]
    },
    {
     "name": "stdout",
     "output_type": "stream",
     "text": [
      "New best\n"
     ]
    },
    {
     "name": "stdout",
     "output_type": "stream",
     "text": [
      "epoch: 7, [batch: 1 / 2520], examples_per_second: 11.1088, train_label_loss: 0.3844, \n"
     ]
    },
    {
     "name": "stdout",
     "output_type": "stream",
     "text": [
      "epoch: 7, [batch: 252 / 2520], examples_per_second: 3176.8664, train_label_loss: 0.5811, \n"
     ]
    },
    {
     "name": "stdout",
     "output_type": "stream",
     "text": [
      "epoch: 7, [batch: 504 / 2520], examples_per_second: 3168.8533, train_label_loss: 0.7519, \n"
     ]
    },
    {
     "name": "stdout",
     "output_type": "stream",
     "text": [
      "epoch: 7, [batch: 756 / 2520], examples_per_second: 3172.4233, train_label_loss: 0.1687, \n"
     ]
    },
    {
     "name": "stdout",
     "output_type": "stream",
     "text": [
      "epoch: 7, [batch: 1008 / 2520], examples_per_second: 3172.2165, train_label_loss: 0.4744, \n"
     ]
    },
    {
     "name": "stdout",
     "output_type": "stream",
     "text": [
      "epoch: 7, [batch: 1260 / 2520], examples_per_second: 3180.7424, train_label_loss: 0.5530, \n"
     ]
    },
    {
     "name": "stdout",
     "output_type": "stream",
     "text": [
      "epoch: 7, [batch: 1512 / 2520], examples_per_second: 3167.4212, train_label_loss: 0.2255, \n"
     ]
    },
    {
     "name": "stdout",
     "output_type": "stream",
     "text": [
      "epoch: 7, [batch: 1764 / 2520], examples_per_second: 3183.7433, train_label_loss: 0.4541, \n"
     ]
    },
    {
     "name": "stdout",
     "output_type": "stream",
     "text": [
      "epoch: 7, [batch: 2016 / 2520], examples_per_second: 3186.3585, train_label_loss: 0.2216, \n"
     ]
    },
    {
     "name": "stdout",
     "output_type": "stream",
     "text": [
      "epoch: 7, [batch: 2268 / 2520], examples_per_second: 3188.8001, train_label_loss: 0.5301, \n"
     ]
    },
    {
     "name": "stdout",
     "output_type": "stream",
     "text": [
      "=============================================================\n",
      "epoch: 7, source_val_acc_label: 0.5839, target_val_acc_label: 0.4896, source_val_label_loss: 1.3414, target_val_label_loss: 1.6135, \n",
      "=============================================================\n"
     ]
    },
    {
     "name": "stdout",
     "output_type": "stream",
     "text": [
      "New best\n"
     ]
    },
    {
     "name": "stdout",
     "output_type": "stream",
     "text": [
      "epoch: 8, [batch: 1 / 2520], examples_per_second: 11.0591, train_label_loss: 0.3362, \n"
     ]
    },
    {
     "name": "stdout",
     "output_type": "stream",
     "text": [
      "epoch: 8, [batch: 252 / 2520], examples_per_second: 3164.0080, train_label_loss: 0.2797, \n"
     ]
    },
    {
     "name": "stdout",
     "output_type": "stream",
     "text": [
      "epoch: 8, [batch: 504 / 2520], examples_per_second: 3165.5081, train_label_loss: 0.4541, \n"
     ]
    },
    {
     "name": "stdout",
     "output_type": "stream",
     "text": [
      "epoch: 8, [batch: 756 / 2520], examples_per_second: 3170.8459, train_label_loss: 0.7423, \n"
     ]
    },
    {
     "name": "stdout",
     "output_type": "stream",
     "text": [
      "epoch: 8, [batch: 1008 / 2520], examples_per_second: 3165.2624, train_label_loss: 0.4919, \n"
     ]
    },
    {
     "name": "stdout",
     "output_type": "stream",
     "text": [
      "epoch: 8, [batch: 1260 / 2520], examples_per_second: 3173.6827, train_label_loss: 0.1731, \n"
     ]
    },
    {
     "name": "stdout",
     "output_type": "stream",
     "text": [
      "epoch: 8, [batch: 1512 / 2520], examples_per_second: 3189.2925, train_label_loss: 0.3407, \n"
     ]
    },
    {
     "name": "stdout",
     "output_type": "stream",
     "text": [
      "epoch: 8, [batch: 1764 / 2520], examples_per_second: 3174.0557, train_label_loss: 0.2253, \n"
     ]
    },
    {
     "name": "stdout",
     "output_type": "stream",
     "text": [
      "epoch: 8, [batch: 2016 / 2520], examples_per_second: 3185.8517, train_label_loss: 0.5408, \n"
     ]
    },
    {
     "name": "stdout",
     "output_type": "stream",
     "text": [
      "epoch: 8, [batch: 2268 / 2520], examples_per_second: 3194.1603, train_label_loss: 0.4838, \n"
     ]
    },
    {
     "name": "stdout",
     "output_type": "stream",
     "text": [
      "=============================================================\n",
      "epoch: 8, source_val_acc_label: 0.5767, target_val_acc_label: 0.4847, source_val_label_loss: 1.4428, target_val_label_loss: 1.7213, \n",
      "=============================================================\n"
     ]
    },
    {
     "name": "stdout",
     "output_type": "stream",
     "text": [
      "epoch: 9, [batch: 1 / 2520], examples_per_second: 11.1374, train_label_loss: 0.4888, \n"
     ]
    },
    {
     "name": "stdout",
     "output_type": "stream",
     "text": [
      "epoch: 9, [batch: 252 / 2520], examples_per_second: 3163.0372, train_label_loss: 0.3179, \n"
     ]
    },
    {
     "name": "stdout",
     "output_type": "stream",
     "text": [
      "epoch: 9, [batch: 504 / 2520], examples_per_second: 3177.6782, train_label_loss: 0.7162, \n"
     ]
    },
    {
     "name": "stdout",
     "output_type": "stream",
     "text": [
      "epoch: 9, [batch: 756 / 2520], examples_per_second: 3169.0227, train_label_loss: 0.4895, \n"
     ]
    },
    {
     "name": "stdout",
     "output_type": "stream",
     "text": [
      "epoch: 9, [batch: 1008 / 2520], examples_per_second: 3158.2219, train_label_loss: 0.4857, \n"
     ]
    },
    {
     "name": "stdout",
     "output_type": "stream",
     "text": [
      "epoch: 9, [batch: 1260 / 2520], examples_per_second: 3181.1511, train_label_loss: 0.0577, \n"
     ]
    },
    {
     "name": "stdout",
     "output_type": "stream",
     "text": [
      "epoch: 9, [batch: 1512 / 2520], examples_per_second: 3179.3380, train_label_loss: 0.4064, \n"
     ]
    },
    {
     "name": "stdout",
     "output_type": "stream",
     "text": [
      "epoch: 9, [batch: 1764 / 2520], examples_per_second: 3158.2121, train_label_loss: 0.5472, \n"
     ]
    },
    {
     "name": "stdout",
     "output_type": "stream",
     "text": [
      "epoch: 9, [batch: 2016 / 2520], examples_per_second: 3169.4594, train_label_loss: 0.3222, \n"
     ]
    },
    {
     "name": "stdout",
     "output_type": "stream",
     "text": [
      "epoch: 9, [batch: 2268 / 2520], examples_per_second: 3187.6368, train_label_loss: 0.4473, \n"
     ]
    },
    {
     "name": "stdout",
     "output_type": "stream",
     "text": [
      "=============================================================\n",
      "epoch: 9, source_val_acc_label: 0.5882, target_val_acc_label: 0.4943, source_val_label_loss: 1.5361, target_val_label_loss: 1.8314, \n",
      "=============================================================\n"
     ]
    },
    {
     "name": "stdout",
     "output_type": "stream",
     "text": [
      "New best\n"
     ]
    },
    {
     "name": "stdout",
     "output_type": "stream",
     "text": [
      "epoch: 10, [batch: 1 / 2520], examples_per_second: 11.0738, train_label_loss: 0.2813, \n"
     ]
    },
    {
     "name": "stdout",
     "output_type": "stream",
     "text": [
      "epoch: 10, [batch: 252 / 2520], examples_per_second: 3191.4127, train_label_loss: 0.2839, \n"
     ]
    },
    {
     "name": "stdout",
     "output_type": "stream",
     "text": [
      "epoch: 10, [batch: 504 / 2520], examples_per_second: 3183.6015, train_label_loss: 0.5404, \n"
     ]
    },
    {
     "name": "stdout",
     "output_type": "stream",
     "text": [
      "epoch: 10, [batch: 756 / 2520], examples_per_second: 3172.2406, train_label_loss: 0.3231, \n"
     ]
    },
    {
     "name": "stdout",
     "output_type": "stream",
     "text": [
      "epoch: 10, [batch: 1008 / 2520], examples_per_second: 3178.5526, train_label_loss: 0.2979, \n"
     ]
    },
    {
     "name": "stdout",
     "output_type": "stream",
     "text": [
      "epoch: 10, [batch: 1260 / 2520], examples_per_second: 3180.8457, train_label_loss: 0.5056, \n"
     ]
    },
    {
     "name": "stdout",
     "output_type": "stream",
     "text": [
      "epoch: 10, [batch: 1512 / 2520], examples_per_second: 3198.8305, train_label_loss: 0.3238, \n"
     ]
    },
    {
     "name": "stdout",
     "output_type": "stream",
     "text": [
      "epoch: 10, [batch: 1764 / 2520], examples_per_second: 3192.0287, train_label_loss: 0.0584, \n"
     ]
    },
    {
     "name": "stdout",
     "output_type": "stream",
     "text": [
      "epoch: 10, [batch: 2016 / 2520], examples_per_second: 3187.4435, train_label_loss: 0.0506, \n"
     ]
    },
    {
     "name": "stdout",
     "output_type": "stream",
     "text": [
      "epoch: 10, [batch: 2268 / 2520], examples_per_second: 3184.8999, train_label_loss: 0.3884, \n"
     ]
    },
    {
     "name": "stdout",
     "output_type": "stream",
     "text": [
      "=============================================================\n",
      "epoch: 10, source_val_acc_label: 0.5811, target_val_acc_label: 0.4889, source_val_label_loss: 1.6345, target_val_label_loss: 1.9094, \n",
      "=============================================================\n"
     ]
    },
    {
     "name": "stdout",
     "output_type": "stream",
     "text": [
      "epoch: 11, [batch: 1 / 2520], examples_per_second: 11.1636, train_label_loss: 0.1502, \n"
     ]
    },
    {
     "name": "stdout",
     "output_type": "stream",
     "text": [
      "epoch: 11, [batch: 252 / 2520], examples_per_second: 3185.2914, train_label_loss: 0.1258, \n"
     ]
    },
    {
     "name": "stdout",
     "output_type": "stream",
     "text": [
      "epoch: 11, [batch: 504 / 2520], examples_per_second: 3192.6684, train_label_loss: 0.2704, \n"
     ]
    },
    {
     "name": "stdout",
     "output_type": "stream",
     "text": [
      "epoch: 11, [batch: 756 / 2520], examples_per_second: 3176.5091, train_label_loss: 0.2019, \n"
     ]
    },
    {
     "name": "stdout",
     "output_type": "stream",
     "text": [
      "epoch: 11, [batch: 1008 / 2520], examples_per_second: 3169.3543, train_label_loss: 0.2688, \n"
     ]
    },
    {
     "name": "stdout",
     "output_type": "stream",
     "text": [
      "epoch: 11, [batch: 1260 / 2520], examples_per_second: 3210.3064, train_label_loss: 0.3866, \n"
     ]
    },
    {
     "name": "stdout",
     "output_type": "stream",
     "text": [
      "epoch: 11, [batch: 1512 / 2520], examples_per_second: 3208.0684, train_label_loss: 0.2727, \n"
     ]
    },
    {
     "name": "stdout",
     "output_type": "stream",
     "text": [
      "epoch: 11, [batch: 1764 / 2520], examples_per_second: 3170.7806, train_label_loss: 0.1997, \n"
     ]
    },
    {
     "name": "stdout",
     "output_type": "stream",
     "text": [
      "epoch: 11, [batch: 2016 / 2520], examples_per_second: 3181.2217, train_label_loss: 0.0485, \n"
     ]
    },
    {
     "name": "stdout",
     "output_type": "stream",
     "text": [
      "epoch: 11, [batch: 2268 / 2520], examples_per_second: 3184.0942, train_label_loss: 0.6134, \n"
     ]
    },
    {
     "name": "stdout",
     "output_type": "stream",
     "text": [
      "=============================================================\n",
      "epoch: 11, source_val_acc_label: 0.5816, target_val_acc_label: 0.4873, source_val_label_loss: 1.7445, target_val_label_loss: 2.0761, \n",
      "=============================================================\n"
     ]
    },
    {
     "name": "stdout",
     "output_type": "stream",
     "text": [
      "epoch: 12, [batch: 1 / 2520], examples_per_second: 11.1936, train_label_loss: 0.3666, \n"
     ]
    },
    {
     "name": "stdout",
     "output_type": "stream",
     "text": [
      "epoch: 12, [batch: 252 / 2520], examples_per_second: 3154.7302, train_label_loss: 0.1691, \n"
     ]
    },
    {
     "name": "stdout",
     "output_type": "stream",
     "text": [
      "epoch: 12, [batch: 504 / 2520], examples_per_second: 3179.9958, train_label_loss: 0.0808, \n"
     ]
    },
    {
     "name": "stdout",
     "output_type": "stream",
     "text": [
      "epoch: 12, [batch: 756 / 2520], examples_per_second: 3179.1596, train_label_loss: 0.3564, \n"
     ]
    },
    {
     "name": "stdout",
     "output_type": "stream",
     "text": [
      "epoch: 12, [batch: 1008 / 2520], examples_per_second: 3161.1339, train_label_loss: 0.3166, \n"
     ]
    },
    {
     "name": "stdout",
     "output_type": "stream",
     "text": [
      "epoch: 12, [batch: 1260 / 2520], examples_per_second: 3178.4109, train_label_loss: 0.1567, \n"
     ]
    },
    {
     "name": "stdout",
     "output_type": "stream",
     "text": [
      "epoch: 12, [batch: 1512 / 2520], examples_per_second: 3169.4375, train_label_loss: 0.2777, \n"
     ]
    },
    {
     "name": "stdout",
     "output_type": "stream",
     "text": [
      "epoch: 12, [batch: 1764 / 2520], examples_per_second: 3178.9863, train_label_loss: 0.1929, \n"
     ]
    },
    {
     "name": "stdout",
     "output_type": "stream",
     "text": [
      "epoch: 12, [batch: 2016 / 2520], examples_per_second: 3165.9577, train_label_loss: 0.2489, \n"
     ]
    },
    {
     "name": "stdout",
     "output_type": "stream",
     "text": [
      "epoch: 12, [batch: 2268 / 2520], examples_per_second: 3181.6239, train_label_loss: 0.0475, \n"
     ]
    },
    {
     "name": "stdout",
     "output_type": "stream",
     "text": [
      "=============================================================\n",
      "epoch: 12, source_val_acc_label: 0.5859, target_val_acc_label: 0.4897, source_val_label_loss: 1.8453, target_val_label_loss: 2.1778, \n",
      "=============================================================\n"
     ]
    },
    {
     "name": "stdout",
     "output_type": "stream",
     "text": [
      "epoch: 13, [batch: 1 / 2520], examples_per_second: 11.1262, train_label_loss: 0.2038, \n"
     ]
    },
    {
     "name": "stdout",
     "output_type": "stream",
     "text": [
      "epoch: 13, [batch: 252 / 2520], examples_per_second: 3167.0783, train_label_loss: 0.2034, \n"
     ]
    },
    {
     "name": "stdout",
     "output_type": "stream",
     "text": [
      "epoch: 13, [batch: 504 / 2520], examples_per_second: 3177.8935, train_label_loss: 0.3760, \n"
     ]
    },
    {
     "name": "stdout",
     "output_type": "stream",
     "text": [
      "epoch: 13, [batch: 756 / 2520], examples_per_second: 3184.6187, train_label_loss: 0.3439, \n"
     ]
    },
    {
     "name": "stdout",
     "output_type": "stream",
     "text": [
      "epoch: 13, [batch: 1008 / 2520], examples_per_second: 3158.5537, train_label_loss: 0.2928, \n"
     ]
    },
    {
     "name": "stdout",
     "output_type": "stream",
     "text": [
      "epoch: 13, [batch: 1260 / 2520], examples_per_second: 3165.2647, train_label_loss: 0.0113, \n"
     ]
    },
    {
     "name": "stdout",
     "output_type": "stream",
     "text": [
      "epoch: 13, [batch: 1512 / 2520], examples_per_second: 3168.4215, train_label_loss: 0.3675, \n"
     ]
    },
    {
     "name": "stdout",
     "output_type": "stream",
     "text": [
      "epoch: 13, [batch: 1764 / 2520], examples_per_second: 3154.2230, train_label_loss: 0.1400, \n"
     ]
    },
    {
     "name": "stdout",
     "output_type": "stream",
     "text": [
      "epoch: 13, [batch: 2016 / 2520], examples_per_second: 3170.4832, train_label_loss: 0.0819, \n"
     ]
    },
    {
     "name": "stdout",
     "output_type": "stream",
     "text": [
      "epoch: 13, [batch: 2268 / 2520], examples_per_second: 3162.6078, train_label_loss: 0.1536, \n"
     ]
    },
    {
     "name": "stdout",
     "output_type": "stream",
     "text": [
      "=============================================================\n",
      "epoch: 13, source_val_acc_label: 0.5863, target_val_acc_label: 0.4899, source_val_label_loss: 1.8560, target_val_label_loss: 2.2250, \n",
      "=============================================================\n"
     ]
    },
    {
     "name": "stdout",
     "output_type": "stream",
     "text": [
      "Patience (3) exhausted\n"
     ]
    }
   ],
   "source": [
    "###################################\n",
    "# train\n",
    "###################################\n",
    "jig = PTN_Train_Eval_Test_Jig(model, p.BEST_MODEL_PATH, p.device)\n",
    "\n",
    "jig.train(\n",
    "    train_iterable=datasets.source.processed.train,\n",
    "    source_val_iterable=datasets.source.processed.val,\n",
    "    target_val_iterable=datasets.target.processed.val,\n",
    "    num_epochs=p.n_epoch,\n",
    "    num_logs_per_epoch=p.NUM_LOGS_PER_EPOCH,\n",
    "    patience=p.patience,\n",
    "    optimizer=optimizer,\n",
    "    criteria_for_best=p.criteria_for_best,\n",
    ")"
   ]
  },
  {
   "cell_type": "code",
   "execution_count": 14,
   "id": "31e8fabf",
   "metadata": {
    "execution": {
     "iopub.execute_input": "2022-04-01T21:10:51.145615Z",
     "iopub.status.busy": "2022-04-01T21:10:51.145225Z",
     "iopub.status.idle": "2022-04-01T21:10:51.160736Z",
     "shell.execute_reply": "2022-04-01T21:10:51.160953Z"
    },
    "papermill": {
     "duration": 0.055059,
     "end_time": "2022-04-01T21:10:51.161035",
     "exception": false,
     "start_time": "2022-04-01T21:10:51.105976",
     "status": "completed"
    },
    "tags": []
   },
   "outputs": [],
   "source": [
    "total_experiment_time_secs = time.time() - start_time_secs"
   ]
  },
  {
   "cell_type": "code",
   "execution_count": 15,
   "id": "87b9595b",
   "metadata": {
    "execution": {
     "iopub.execute_input": "2022-04-01T21:10:51.238547Z",
     "iopub.status.busy": "2022-04-01T21:10:51.238130Z",
     "iopub.status.idle": "2022-04-01T21:11:39.935127Z",
     "shell.execute_reply": "2022-04-01T21:11:39.935524Z"
    },
    "papermill": {
     "duration": 48.737695,
     "end_time": "2022-04-01T21:11:39.935653",
     "exception": false,
     "start_time": "2022-04-01T21:10:51.197958",
     "status": "completed"
    },
    "tags": []
   },
   "outputs": [],
   "source": [
    "###################################\n",
    "# Evaluate the model\n",
    "###################################\n",
    "source_test_label_accuracy, source_test_label_loss = jig.test(datasets.source.processed.test)\n",
    "target_test_label_accuracy, target_test_label_loss = jig.test(datasets.target.processed.test)\n",
    "\n",
    "source_val_label_accuracy, source_val_label_loss = jig.test(datasets.source.processed.val)\n",
    "target_val_label_accuracy, target_val_label_loss = jig.test(datasets.target.processed.val)\n",
    "\n",
    "history = jig.get_history()\n",
    "\n",
    "total_epochs_trained = len(history[\"epoch_indices\"])\n",
    "\n",
    "val_dl = Iterable_Aggregator((datasets.source.original.val,datasets.target.original.val))\n",
    "\n",
    "confusion = ptn_confusion_by_domain_over_dataloader(model, p.device, val_dl)\n",
    "per_domain_accuracy = per_domain_accuracy_from_confusion(confusion)\n",
    "\n",
    "# Add a key to per_domain_accuracy for if it was a source domain\n",
    "for domain, accuracy in per_domain_accuracy.items():\n",
    "    per_domain_accuracy[domain] = {\n",
    "        \"accuracy\": accuracy,\n",
    "        \"source?\": domain in p.domains_source\n",
    "    }\n",
    "\n",
    "# Do an independent accuracy assesment JUST TO BE SURE!\n",
    "# _source_test_label_accuracy = independent_accuracy_assesment(model, datasets.source.processed.test, p.device)\n",
    "# _target_test_label_accuracy = independent_accuracy_assesment(model, datasets.target.processed.test, p.device)\n",
    "# _source_val_label_accuracy = independent_accuracy_assesment(model, datasets.source.processed.val, p.device)\n",
    "# _target_val_label_accuracy = independent_accuracy_assesment(model, datasets.target.processed.val, p.device)\n",
    "\n",
    "# assert(_source_test_label_accuracy == source_test_label_accuracy)\n",
    "# assert(_target_test_label_accuracy == target_test_label_accuracy)\n",
    "# assert(_source_val_label_accuracy == source_val_label_accuracy)\n",
    "# assert(_target_val_label_accuracy == target_val_label_accuracy)\n",
    "\n",
    "experiment = {\n",
    "    \"experiment_name\": p.experiment_name,\n",
    "    \"parameters\": dict(p),\n",
    "    \"results\": {\n",
    "        \"source_test_label_accuracy\": source_test_label_accuracy,\n",
    "        \"source_test_label_loss\": source_test_label_loss,\n",
    "        \"target_test_label_accuracy\": target_test_label_accuracy,\n",
    "        \"target_test_label_loss\": target_test_label_loss,\n",
    "        \"source_val_label_accuracy\": source_val_label_accuracy,\n",
    "        \"source_val_label_loss\": source_val_label_loss,\n",
    "        \"target_val_label_accuracy\": target_val_label_accuracy,\n",
    "        \"target_val_label_loss\": target_val_label_loss,\n",
    "        \"total_epochs_trained\": total_epochs_trained,\n",
    "        \"total_experiment_time_secs\": total_experiment_time_secs,\n",
    "        \"confusion\": confusion,\n",
    "        \"per_domain_accuracy\": per_domain_accuracy,\n",
    "    },\n",
    "    \"history\": history,\n",
    "    \"dataset_metrics\": get_dataset_metrics(datasets, \"ptn\"),\n",
    "}"
   ]
  },
  {
   "cell_type": "code",
   "execution_count": 16,
   "id": "54a21829",
   "metadata": {
    "execution": {
     "iopub.execute_input": "2022-04-01T21:11:40.020065Z",
     "iopub.status.busy": "2022-04-01T21:11:40.019806Z",
     "iopub.status.idle": "2022-04-01T21:11:40.152840Z",
     "shell.execute_reply": "2022-04-01T21:11:40.153247Z"
    },
    "papermill": {
     "duration": 0.173452,
     "end_time": "2022-04-01T21:11:40.153379",
     "exception": false,
     "start_time": "2022-04-01T21:11:39.979927",
     "status": "completed"
    },
    "tags": []
   },
   "outputs": [
    {
     "data": {
      "image/png": "[encoded data removed]",
      "text/plain": [
       "<Figure size 1080x504 with 1 Axes>"
      ]
     },
     "metadata": {
      "needs_background": "light"
     },
     "output_type": "display_data"
    }
   ],
   "source": [
    "ax = get_loss_curve(experiment)\n",
    "plt.show()"
   ]
  },
  {
   "cell_type": "code",
   "execution_count": 17,
   "id": "fd8a0f60",
   "metadata": {
    "execution": {
     "iopub.execute_input": "2022-04-01T21:11:40.235575Z",
     "iopub.status.busy": "2022-04-01T21:11:40.235308Z",
     "iopub.status.idle": "2022-04-01T21:11:40.376050Z",
     "shell.execute_reply": "2022-04-01T21:11:40.376262Z"
    },
    "papermill": {
     "duration": 0.181797,
     "end_time": "2022-04-01T21:11:40.376342",
     "exception": false,
     "start_time": "2022-04-01T21:11:40.194545",
     "status": "completed"
    },
    "tags": []
   },
   "outputs": [
    {
     "data": {
      "text/plain": [
       "<AxesSubplot:title={'center':'Results'}>"
      ]
     },
     "execution_count": 17,
     "metadata": {},
     "output_type": "execute_result"
    },
    {
     "data": {
      "image/png": "[encoded data removed]",
      "text/plain": [
       "<Figure size 1080x504 with 1 Axes>"
      ]
     },
     "metadata": {
      "needs_background": "light"
     },
     "output_type": "display_data"
    }
   ],
   "source": [
    "get_results_table(experiment)"
   ]
  },
  {
   "cell_type": "code",
   "execution_count": 18,
   "id": "cf8dc689",
   "metadata": {
    "execution": {
     "iopub.execute_input": "2022-04-01T21:11:40.458121Z",
     "iopub.status.busy": "2022-04-01T21:11:40.457456Z",
     "iopub.status.idle": "2022-04-01T21:11:40.577116Z",
     "shell.execute_reply": "2022-04-01T21:11:40.576623Z"
    },
    "papermill": {
     "duration": 0.160633,
     "end_time": "2022-04-01T21:11:40.577220",
     "exception": false,
     "start_time": "2022-04-01T21:11:40.416587",
     "status": "completed"
    },
    "tags": []
   },
   "outputs": [
    {
     "data": {
      "text/plain": [
       "<AxesSubplot:title={'center':'Per Domain Validation Accuracy'}, xlabel='domain'>"
      ]
     },
     "execution_count": 18,
     "metadata": {},
     "output_type": "execute_result"
    },
    {
     "data": {
      "image/png": "[encoded data removed]",
      "text/plain": [
       "<Figure size 1080x504 with 1 Axes>"
      ]
     },
     "metadata": {
      "needs_background": "light"
     },
     "output_type": "display_data"
    }
   ],
   "source": [
    "get_domain_accuracies(experiment)"
   ]
  },
  {
   "cell_type": "code",
   "execution_count": 19,
   "id": "a74ae082",
   "metadata": {
    "execution": {
     "iopub.execute_input": "2022-04-01T21:11:40.663348Z",
     "iopub.status.busy": "2022-04-01T21:11:40.663031Z",
     "iopub.status.idle": "2022-04-01T21:11:40.679558Z",
     "shell.execute_reply": "2022-04-01T21:11:40.679072Z"
    },
    "papermill": {
     "duration": 0.059247,
     "end_time": "2022-04-01T21:11:40.679659",
     "exception": false,
     "start_time": "2022-04-01T21:11:40.620412",
     "status": "completed"
    },
    "tags": []
   },
   "outputs": [
    {
     "name": "stdout",
     "output_type": "stream",
     "text": [
      "Source Test Label Accuracy: 0.5813368055555556 Target Test Label Accuracy: 0.4928125\n",
      "Source Val Label Accuracy: 0.5881944444444445 Target Val Label Accuracy: 0.4942708333333333\n"
     ]
    }
   ],
   "source": [
    "print(\"Source Test Label Accuracy:\", experiment[\"results\"][\"source_test_label_accuracy\"], \"Target Test Label Accuracy:\", experiment[\"results\"][\"target_test_label_accuracy\"])\n",
    "print(\"Source Val Label Accuracy:\", experiment[\"results\"][\"source_val_label_accuracy\"], \"Target Val Label Accuracy:\", experiment[\"results\"][\"target_val_label_accuracy\"])"
   ]
  },
  {
   "cell_type": "code",
   "execution_count": 20,
   "id": "dacca602",
   "metadata": {
    "execution": {
     "iopub.execute_input": "2022-04-01T21:11:40.768150Z",
     "iopub.status.busy": "2022-04-01T21:11:40.767397Z",
     "iopub.status.idle": "2022-04-01T21:11:40.784139Z",
     "shell.execute_reply": "2022-04-01T21:11:40.783652Z"
    },
    "papermill": {
     "duration": 0.060446,
     "end_time": "2022-04-01T21:11:40.784240",
     "exception": false,
     "start_time": "2022-04-01T21:11:40.723794",
     "status": "completed"
    },
    "tags": [
     "experiment_json"
    ]
   },
   "outputs": [
    {
     "data": {
      "text/plain": [
       "'{\"experiment_name\": \"tuned_1v2:oracle.run1_limited\", \"parameters\": {\"experiment_name\": \"tuned_1v2:oracle.run1_limited\", \"device\": \"cuda\", \"lr\": 0.0001, \"labels_source\": [\"3123D52\", \"3123D65\", \"3123D79\", \"3123D80\", \"3123D54\", \"3123D70\", \"3123D7B\", \"3123D89\", \"3123D58\", \"3123D76\", \"3123D7D\", \"3123EFE\", \"3123D64\", \"3123D78\", \"3123D7E\", \"3124E4A\"], \"labels_target\": [\"3123D52\", \"3123D65\", \"3123D79\", \"3123D80\", \"3123D54\", \"3123D70\", \"3123D7B\", \"3123D89\", \"3123D58\", \"3123D76\", \"3123D7D\", \"3123EFE\", \"3123D64\", \"3123D78\", \"3123D7E\", \"3124E4A\"], \"episode_transforms_source\": [], \"episode_transforms_target\": [], \"domains_source\": [8, 32, 50], \"domains_target\": [14, 20, 26, 38, 44], \"num_examples_per_domain_per_label_source\": 2000, \"num_examples_per_domain_per_label_target\": 2000, \"n_shot\": 3, \"n_way\": 16, \"n_query\": 2, \"train_k_factor\": 3, \"val_k_factor\": 2, \"test_k_factor\": 2, \"torch_default_dtype\": \"torch.float32\", \"n_epoch\": 50, \"patience\": 3, \"criteria_for_best\": \"target_accuracy\", \"x_net\": [{\"class\": \"nnReshape\", \"kargs\": {\"shape\": [-1, 1, 2, 256]}}, {\"class\": \"Conv2d\", \"kargs\": {\"in_channels\": 1, \"out_channels\": 256, \"kernel_size\": [1, 7], \"bias\": false, \"padding\": [0, 3]}}, {\"class\": \"ReLU\", \"kargs\": {\"inplace\": true}}, {\"class\": \"BatchNorm2d\", \"kargs\": {\"num_features\": 256}}, {\"class\": \"Conv2d\", \"kargs\": {\"in_channels\": 256, \"out_channels\": 80, \"kernel_size\": [2, 7], \"bias\": true, \"padding\": [0, 3]}}, {\"class\": \"ReLU\", \"kargs\": {\"inplace\": true}}, {\"class\": \"BatchNorm2d\", \"kargs\": {\"num_features\": 80}}, {\"class\": \"Flatten\", \"kargs\": {}}, {\"class\": \"Linear\", \"kargs\": {\"in_features\": 20480, \"out_features\": 256}}, {\"class\": \"ReLU\", \"kargs\": {\"inplace\": true}}, {\"class\": \"BatchNorm1d\", \"kargs\": {\"num_features\": 256}}, {\"class\": \"Linear\", \"kargs\": {\"in_features\": 256, \"out_features\": 256}}], \"NUM_LOGS_PER_EPOCH\": 10, \"BEST_MODEL_PATH\": \"./best_model.pth\", \"pickle_name\": \"oracle.Run1_10kExamples_stratified_ds.2022A.pkl\", \"x_transforms_source\": [\"unit_mag\"], \"x_transforms_target\": [\"unit_mag\"], \"dataset_seed\": 154325, \"seed\": 154325}, \"results\": {\"source_test_label_accuracy\": 0.5813368055555556, \"source_test_label_loss\": 1.5441780090332031, \"target_test_label_accuracy\": 0.4928125, \"target_test_label_loss\": 1.810828447341919, \"source_val_label_accuracy\": 0.5881944444444445, \"source_val_label_loss\": 1.5360655784606934, \"target_val_label_accuracy\": 0.4942708333333333, \"target_val_label_loss\": 1.8314130306243896, \"total_epochs_trained\": 13, \"total_experiment_time_secs\": 949.5208313465118, \"confusion\": {\"32\": {\"13\": {\"7\": 16, \"13\": 57, \"5\": 44, \"3\": 21, \"8\": 35, \"4\": 8, \"14\": 21, \"11\": 21, \"0\": 15, \"2\": 2}, \"9\": {\"9\": 236, \"12\": 3, \"0\": 1}, \"15\": {\"15\": 221, \"3\": 8, \"5\": 1, \"8\": 10}, \"2\": {\"4\": 38, \"2\": 176, \"7\": 7, \"8\": 1, \"0\": 14, \"5\": 4}, \"3\": {\"3\": 198, \"11\": 11, \"8\": 8, \"13\": 14, \"7\": 2, \"15\": 2, \"5\": 4, \"14\": 1}, \"8\": {\"8\": 131, \"13\": 37, \"0\": 26, \"7\": 5, \"5\": 26, \"15\": 2, \"4\": 3, \"3\": 10}, \"5\": {\"0\": 21, \"5\": 44, \"4\": 21, \"14\": 23, \"3\": 12, \"13\": 46, \"7\": 27, \"11\": 14, \"8\": 25, \"2\": 7}, \"14\": {\"7\": 65, \"14\": 51, \"11\": 57, \"5\": 22, \"13\": 16, \"2\": 4, \"4\": 16, \"3\": 6, \"0\": 2, \"8\": 1}, \"1\": {\"10\": 7, \"1\": 233}, \"0\": {\"13\": 9, \"2\": 30, \"5\": 16, \"0\": 90, \"4\": 58, \"7\": 11, \"14\": 3, \"8\": 22, \"3\": 1}, \"10\": {\"10\": 238, \"6\": 1, \"1\": 1}, \"6\": {\"6\": 240}, \"11\": {\"7\": 16, \"11\": 135, \"14\": 43, \"13\": 22, \"3\": 13, \"5\": 11}, \"7\": {\"4\": 32, \"7\": 81, \"14\": 54, \"13\": 24, \"5\": 17, \"8\": 7, \"0\": 10, \"2\": 4, \"11\": 11}, \"4\": {\"4\": 61, \"0\": 56, \"2\": 62, \"13\": 7, \"14\": 5, \"5\": 16, \"7\": 27, \"8\": 6}, \"12\": {\"12\": 240}}, \"50\": {\"10\": {\"10\": 190, \"0\": 20, \"13\": 6, \"8\": 6, \"7\": 17, \"5\": 1}, \"12\": {\"9\": 32, \"12\": 189, \"14\": 11, \"11\": 8}, \"1\": {\"1\": 89, \"15\": 62, \"6\": 41, \"4\": 38, \"2\": 2, \"11\": 2, \"14\": 3, \"5\": 3}, \"0\": {\"0\": 172, \"10\": 22, \"2\": 36, \"7\": 1, \"6\": 1, \"13\": 6, \"5\": 2}, \"15\": {\"15\": 156, \"4\": 28, \"11\": 17, \"1\": 33, \"14\": 3, \"6\": 3}, \"13\": {\"6\": 20, \"13\": 95, \"7\": 51, \"5\": 55, \"0\": 12, \"4\": 3, \"10\": 2, \"2\": 2}, \"8\": {\"8\": 223, \"3\": 5, \"10\": 11, \"7\": 1}, \"3\": {\"3\": 230, \"8\": 10}, \"11\": {\"15\": 12, \"11\": 180, \"12\": 6, \"9\": 32, \"14\": 10}, \"4\": {\"1\": 34, \"6\": 46, \"4\": 62, \"15\": 64, \"5\": 18, \"13\": 9, \"7\": 6, \"14\": 1}, \"6\": {\"6\": 124, \"5\": 25, \"15\": 5, \"1\": 22, \"4\": 42, \"13\": 17, \"2\": 3, \"7\": 2}, \"7\": {\"13\": 45, \"7\": 111, \"5\": 39, \"0\": 3, \"10\": 36, \"6\": 4, \"4\": 2}, \"14\": {\"14\": 212, \"1\": 5, \"12\": 12, \"11\": 10, \"15\": 1}, \"2\": {\"2\": 205, \"0\": 33, \"6\": 2}, \"5\": {\"7\": 50, \"13\": 51, \"5\": 58, \"6\": 41, \"0\": 9, \"1\": 4, \"10\": 5, \"4\": 21, \"2\": 1}, \"9\": {\"11\": 35, \"9\": 166, \"12\": 38, \"14\": 1}}, \"8\": {\"14\": {\"1\": 22, \"10\": 54, \"11\": 14, \"0\": 12, \"4\": 32, \"13\": 32, \"14\": 69, \"6\": 3, \"5\": 1, \"7\": 1}, \"10\": {\"10\": 105, \"0\": 4, \"13\": 17, \"5\": 24, \"14\": 48, \"1\": 18, \"4\": 16, \"11\": 8}, \"2\": {\"2\": 135, \"3\": 58, \"15\": 21, \"12\": 20, \"6\": 1, \"7\": 3, \"8\": 2}, \"8\": {\"8\": 175, \"7\": 12, \"11\": 1, \"6\": 10, \"14\": 1, \"12\": 2, \"15\": 36, \"4\": 3}, \"6\": {\"6\": 83, \"13\": 22, \"7\": 58, \"4\": 25, \"8\": 22, \"0\": 22, \"14\": 3, \"11\": 2, \"1\": 1, \"15\": 2}, \"7\": {\"7\": 138, \"6\": 56, \"0\": 8, \"15\": 5, \"8\": 22, \"4\": 3, \"2\": 6, \"12\": 1, \"14\": 1}, \"9\": {\"9\": 240}, \"11\": {\"11\": 88, \"5\": 16, \"4\": 4, \"1\": 82, \"14\": 30, \"10\": 12, \"13\": 7, \"6\": 1}, \"12\": {\"3\": 54, \"12\": 100, \"15\": 60, \"8\": 12, \"2\": 13, \"7\": 1}, \"13\": {\"4\": 40, \"0\": 46, \"14\": 31, \"10\": 30, \"1\": 4, \"13\": 64, \"6\": 16, \"8\": 1, \"7\": 5, \"11\": 2, \"5\": 1}, \"0\": {\"4\": 29, \"7\": 17, \"0\": 91, \"14\": 12, \"6\": 44, \"13\": 41, \"8\": 2, \"10\": 3, \"15\": 1}, \"3\": {\"3\": 147, \"2\": 50, \"15\": 4, \"12\": 39}, \"4\": {\"4\": 54, \"14\": 31, \"0\": 52, \"6\": 22, \"13\": 57, \"1\": 5, \"10\": 12, \"11\": 2, \"7\": 5}, \"15\": {\"15\": 125, \"3\": 5, \"12\": 60, \"8\": 25, \"2\": 18, \"7\": 7}, \"5\": {\"5\": 184, \"10\": 28, \"1\": 13, \"11\": 7, \"14\": 3, \"13\": 2, \"9\": 2, \"4\": 1}, \"1\": {\"11\": 79, \"1\": 84, \"14\": 21, \"5\": 22, \"10\": 23, \"13\": 6, \"4\": 4, \"6\": 1}}, \"44\": {\"13\": {\"6\": 53, \"13\": 126, \"11\": 20, \"9\": 31, \"4\": 6, \"7\": 4}, \"9\": {\"6\": 45, \"7\": 44, \"9\": 94, \"13\": 41, \"4\": 2, \"3\": 3, \"2\": 9, \"1\": 2}, \"15\": {\"14\": 28, \"0\": 21, \"15\": 171, \"5\": 10, \"8\": 4, \"4\": 6}, \"2\": {\"7\": 44, \"2\": 119, \"12\": 2, \"1\": 31, \"10\": 33, \"6\": 3, \"9\": 2, \"3\": 6}, \"3\": {\"3\": 189, \"1\": 33, \"12\": 7, \"7\": 6, \"9\": 2, \"2\": 2, \"10\": 1}, \"8\": {\"8\": 130, \"15\": 13, \"0\": 80, \"5\": 17}, \"5\": {\"5\": 165, \"0\": 34, \"8\": 12, \"15\": 18, \"14\": 9, \"4\": 2}, \"14\": {\"5\": 8, \"14\": 120, \"4\": 78, \"15\": 34}, \"1\": {\"3\": 42, \"2\": 13, \"1\": 99, \"12\": 65, \"7\": 1, \"10\": 20}, \"0\": {\"8\": 58, \"0\": 119, \"5\": 41, \"15\": 22}, \"10\": {\"10\": 142, \"1\": 34, \"12\": 38, \"3\": 3, \"2\": 22, \"7\": 1}, \"6\": {\"6\": 133, \"13\": 36, \"11\": 19, \"9\": 28, \"7\": 21, \"2\": 3}, \"11\": {\"13\": 37, \"11\": 175, \"6\": 26, \"9\": 2}, \"7\": {\"7\": 120, \"9\": 46, \"2\": 49, \"3\": 9, \"6\": 12, \"1\": 3, \"10\": 1}, \"4\": {\"4\": 134, \"14\": 105, \"15\": 1}, \"12\": {\"12\": 151, \"1\": 56, \"10\": 26, \"3\": 7}}, \"38\": {\"13\": {\"13\": 116, \"15\": 74, \"1\": 8, \"10\": 20, \"2\": 14, \"14\": 1, \"8\": 5, \"11\": 1, \"5\": 1}, \"12\": {\"12\": 197, \"10\": 29, \"4\": 14}, \"2\": {\"2\": 195, \"13\": 9, \"14\": 27, \"11\": 8, \"15\": 1}, \"9\": {\"9\": 127, \"6\": 78, \"3\": 24, \"5\": 6, \"0\": 5}, \"15\": {\"13\": 67, \"15\": 123, \"10\": 13, \"1\": 30, \"8\": 4, \"0\": 3}, \"5\": {\"5\": 87, \"8\": 59, \"7\": 9, \"1\": 12, \"6\": 24, \"3\": 4, \"0\": 33, \"15\": 3, \"9\": 2, \"10\": 6, \"13\": 1}, \"14\": {\"14\": 131, \"11\": 76, \"2\": 27, \"10\": 4, \"12\": 1, \"13\": 1}, \"0\": {\"5\": 41, \"8\": 57, \"7\": 73, \"0\": 40, \"3\": 12, \"9\": 4, \"10\": 6, \"6\": 6, \"1\": 1}, \"3\": {\"3\": 173, \"9\": 44, \"6\": 11, \"7\": 5, \"0\": 6, \"5\": 1}, \"1\": {\"1\": 204, \"15\": 24, \"5\": 2, \"8\": 3, \"13\": 5, \"6\": 2}, \"11\": {\"11\": 121, \"14\": 100, \"10\": 2, \"13\": 2, \"12\": 2, \"2\": 13}, \"7\": {\"7\": 149, \"0\": 60, \"5\": 19, \"8\": 6, \"3\": 3, \"6\": 2, \"9\": 1}, \"8\": {\"8\": 120, \"0\": 40, \"5\": 46, \"7\": 10, \"1\": 6, \"15\": 8, \"6\": 1, \"10\": 6, \"12\": 1, \"13\": 2}, \"4\": {\"12\": 31, \"4\": 207, \"7\": 2}, \"10\": {\"15\": 17, \"10\": 118, \"13\": 35, \"8\": 15, \"12\": 43, \"14\": 4, \"5\": 2, \"11\": 2, \"0\": 3, \"7\": 1}, \"6\": {\"5\": 12, \"6\": 175, \"9\": 50, \"0\": 2, \"3\": 1}}, \"26\": {\"10\": {\"9\": 21, \"4\": 16, \"6\": 41, \"10\": 49, \"15\": 8, \"0\": 26, \"1\": 14, \"14\": 28, \"7\": 2, \"8\": 29, \"5\": 3, \"13\": 2, \"2\": 1}, \"12\": {\"12\": 217, \"11\": 22, \"6\": 1}, \"1\": {\"14\": 54, \"1\": 62, \"0\": 28, \"4\": 45, \"3\": 5, \"10\": 15, \"7\": 13, \"8\": 11, \"2\": 3, \"5\": 2, \"6\": 1, \"15\": 1}, \"0\": {\"4\": 27, \"1\": 27, \"15\": 8, \"14\": 33, \"0\": 29, \"10\": 44, \"2\": 2, \"7\": 13, \"13\": 3, \"8\": 25, \"6\": 18, \"5\": 3, \"3\": 3, \"9\": 5}, \"15\": {\"15\": 47, \"5\": 50, \"2\": 15, \"9\": 38, \"7\": 8, \"13\": 29, \"8\": 19, \"6\": 13, \"4\": 3, \"10\": 5, \"3\": 2, \"0\": 7, \"14\": 4}, \"13\": {\"13\": 97, \"5\": 47, \"6\": 37, \"9\": 23, \"2\": 6, \"8\": 1, \"15\": 26, \"0\": 1, \"3\": 1, \"7\": 1}, \"8\": {\"8\": 39, \"2\": 9, \"10\": 29, \"13\": 8, \"4\": 24, \"6\": 7, \"3\": 2, \"9\": 19, \"15\": 23, \"5\": 17, \"7\": 17, \"14\": 18, \"1\": 4, \"0\": 24}, \"3\": {\"3\": 132, \"7\": 28, \"4\": 5, \"2\": 66, \"8\": 2, \"5\": 1, \"14\": 3, \"9\": 1, \"15\": 1, \"1\": 1}, \"11\": {\"11\": 224, \"12\": 16}, \"4\": {\"6\": 1, \"10\": 17, \"4\": 53, \"7\": 30, \"8\": 19, \"3\": 4, \"14\": 44, \"0\": 30, \"1\": 21, \"2\": 6, \"9\": 7, \"15\": 6, \"5\": 2}, \"6\": {\"9\": 37, \"6\": 119, \"13\": 21, \"15\": 15, \"10\": 18, \"14\": 3, \"5\": 8, \"8\": 8, \"4\": 2, \"0\": 5, \"1\": 3, \"2\": 1}, \"7\": {\"2\": 48, \"8\": 20, \"7\": 59, \"3\": 38, \"14\": 13, \"4\": 28, \"15\": 5, \"1\": 8, \"5\": 10, \"0\": 6, \"10\": 4, \"9\": 1}, \"14\": {\"4\": 42, \"1\": 45, \"0\": 27, \"8\": 16, \"10\": 40, \"14\": 36, \"3\": 6, \"5\": 4, \"7\": 13, \"6\": 6, \"9\": 3, \"2\": 2}, \"2\": {\"2\": 77, \"13\": 6, \"3\": 74, \"14\": 3, \"7\": 28, \"9\": 6, \"5\": 12, \"8\": 9, \"4\": 8, \"10\": 2, \"15\": 9, \"0\": 5, \"1\": 1}, \"5\": {\"5\": 68, \"15\": 58, \"8\": 7, \"9\": 27, \"6\": 8, \"13\": 33, \"3\": 5, \"7\": 5, \"10\": 3, \"2\": 23, \"4\": 2, \"0\": 1}, \"9\": {\"15\": 41, \"5\": 22, \"9\": 47, \"13\": 31, \"6\": 39, \"2\": 4, \"8\": 24, \"3\": 1, \"10\": 17, \"7\": 4, \"4\": 2, \"0\": 7, \"14\": 1}}, \"20\": {\"5\": {\"0\": 48, \"3\": 16, \"1\": 45, \"5\": 42, \"12\": 31, \"9\": 12, \"15\": 34, \"2\": 5, \"4\": 3, \"13\": 4}, \"15\": {\"15\": 86, \"5\": 22, \"1\": 47, \"0\": 45, \"9\": 1, \"13\": 14, \"2\": 3, \"3\": 10, \"12\": 12}, \"9\": {\"5\": 8, \"12\": 41, \"0\": 7, \"2\": 26, \"7\": 28, \"4\": 13, \"9\": 48, \"3\": 27, \"1\": 6, \"13\": 14, \"8\": 17, \"14\": 1, \"15\": 3, \"6\": 1}, \"7\": {\"7\": 75, \"6\": 17, \"12\": 1, \"2\": 34, \"8\": 45, \"10\": 10, \"13\": 9, \"4\": 11, \"3\": 10, \"9\": 18, \"11\": 3, \"14\": 7}, \"3\": {\"13\": 11, \"5\": 15, \"0\": 12, \"9\": 32, \"12\": 31, \"1\": 7, \"2\": 26, \"15\": 9, \"4\": 29, \"7\": 17, \"3\": 33, \"8\": 15, \"10\": 3}, \"8\": {\"7\": 38, \"8\": 77, \"9\": 22, \"4\": 30, \"2\": 10, \"10\": 33, \"14\": 9, \"3\": 7, \"6\": 8, \"5\": 2, \"12\": 2, \"13\": 1, \"0\": 1}, \"4\": {\"5\": 8, \"8\": 46, \"9\": 14, \"4\": 95, \"2\": 13, \"7\": 12, \"10\": 18, \"3\": 21, \"12\": 7, \"1\": 2, \"0\": 3, \"14\": 1}, \"6\": {\"11\": 18, \"6\": 139, \"14\": 53, \"10\": 8, \"7\": 18, \"8\": 4}, \"2\": {\"2\": 44, \"13\": 49, \"8\": 9, \"7\": 40, \"9\": 38, \"3\": 24, \"4\": 10, \"12\": 16, \"5\": 3, \"6\": 1, \"1\": 2, \"0\": 2, \"15\": 2}, \"12\": {\"3\": 36, \"5\": 33, \"9\": 27, \"4\": 14, \"15\": 9, \"13\": 15, \"0\": 19, \"2\": 15, \"8\": 6, \"12\": 34, \"1\": 28, \"7\": 4}, \"0\": {\"5\": 48, \"0\": 51, \"1\": 44, \"15\": 51, \"12\": 18, \"3\": 6, \"9\": 3, \"13\": 9, \"4\": 6, \"7\": 1, \"2\": 3}, \"13\": {\"13\": 136, \"2\": 29, \"1\": 4, \"15\": 13, \"0\": 9, \"12\": 11, \"5\": 3, \"9\": 13, \"3\": 11, \"7\": 10, \"11\": 1}, \"10\": {\"10\": 96, \"6\": 19, \"14\": 51, \"8\": 34, \"4\": 28, \"3\": 2, \"7\": 5, \"9\": 2, \"12\": 1, \"2\": 2}, \"11\": {\"11\": 221, \"2\": 3, \"6\": 15, \"8\": 1}, \"14\": {\"14\": 116, \"10\": 45, \"7\": 9, \"8\": 12, \"6\": 54, \"4\": 4}, \"1\": {\"0\": 38, \"15\": 54, \"12\": 29, \"1\": 46, \"5\": 28, \"9\": 10, \"3\": 12, \"13\": 19, \"2\": 4}}, \"14\": {\"13\": {\"13\": 73, \"6\": 76, \"14\": 43, \"2\": 28, \"4\": 6, \"5\": 6, \"3\": 3, \"1\": 2, \"10\": 2, \"7\": 1}, \"4\": {\"1\": 30, \"4\": 88, \"13\": 5, \"3\": 49, \"2\": 19, \"5\": 36, \"14\": 8, \"6\": 4, \"8\": 1}, \"6\": {\"13\": 81, \"6\": 88, \"14\": 39, \"2\": 20, \"5\": 2, \"4\": 7, \"3\": 3}, \"0\": {\"10\": 59, \"0\": 147, \"3\": 14, \"8\": 12, \"11\": 8}, \"10\": {\"0\": 67, \"10\": 156, \"11\": 7, \"3\": 8, \"14\": 2}, \"7\": {\"15\": 37, \"7\": 195, \"5\": 6, \"1\": 2}, \"14\": {\"2\": 26, \"14\": 106, \"3\": 23, \"4\": 9, \"10\": 8, \"6\": 27, \"13\": 38, \"5\": 3}, \"15\": {\"15\": 192, \"7\": 45, \"2\": 2, \"5\": 1}, \"5\": {\"1\": 66, \"5\": 84, \"2\": 25, \"4\": 32, \"7\": 9, \"13\": 5, \"14\": 5, \"3\": 9, \"6\": 3, \"15\": 2}, \"2\": {\"3\": 22, \"2\": 63, \"14\": 17, \"5\": 34, \"4\": 34, \"15\": 11, \"6\": 33, \"13\": 19, \"1\": 4, \"7\": 3}, \"9\": {\"9\": 222, \"11\": 15, \"12\": 2, \"0\": 1}, \"12\": {\"12\": 235, \"9\": 5}, \"8\": {\"8\": 224, \"9\": 1, \"0\": 7, \"1\": 3, \"3\": 3, \"11\": 1, \"4\": 1}, \"3\": {\"2\": 4, \"3\": 148, \"0\": 15, \"6\": 3, \"4\": 42, \"14\": 14, \"8\": 3, \"1\": 1, \"13\": 2, \"5\": 5, \"10\": 3}, \"1\": {\"1\": 141, \"5\": 56, \"2\": 4, \"14\": 1, \"7\": 10, \"4\": 23, \"3\": 5}, \"11\": {\"11\": 164, \"10\": 27, \"0\": 21, \"9\": 27, \"8\": 1}}}, \"per_domain_accuracy\": {\"32\": {\"accuracy\": 0.6333333333333333, \"source?\": true}, \"50\": {\"accuracy\": 0.6411458333333333, \"source?\": true}, \"8\": {\"accuracy\": 0.4901041666666667, \"source?\": true}, \"44\": {\"accuracy\": 0.56953125, \"source?\": false}, \"38\": {\"accuracy\": 0.59453125, \"source?\": false}, \"26\": {\"accuracy\": 0.3528645833333333, \"source?\": false}, \"20\": {\"accuracy\": 0.34869791666666666, \"source?\": false}, \"14\": {\"accuracy\": 0.6057291666666667, \"source?\": false}}}, \"history\": {\"epoch_indices\": [1, 2, 3, 4, 5, 6, 7, 8, 9, 10, 11, 12, 13], \"train_label_loss\": [1.8147832732825053, 1.388340461372383, 1.261862683461772, 1.032774088212422, 0.7854871620379743, 0.6202270160946581, 0.4914252628779246, 0.3892926416234187, 0.3168481526970272, 0.27115327892972835, 0.23118450921777237, 0.20361345144347215, 0.18282594050727471], \"source_val_label_loss\": [1.5313345193862915, 1.4458104372024536, 1.441771149635315, 1.2195957899093628, 1.2233461141586304, 1.2819116115570068, 1.3414185047149658, 1.4427835941314697, 1.5360655784606934, 1.6345088481903076, 1.744515061378479, 1.8453220129013062, 1.855961799621582], \"target_val_label_loss\": [1.8650699853897095, 1.81836998462677, 1.8033558130264282, 1.5006599426269531, 1.4922503232955933, 1.5515903234481812, 1.6135340929031372, 1.7213188409805298, 1.8314130306243896, 1.9093682765960693, 2.0760512351989746, 2.1777658462524414, 2.2250373363494873], \"source_val_acc_label\": [0.3927083333333333, 0.4222222222222222, 0.42803819444444446, 0.5480902777777777, 0.56171875, 0.5839409722222222, 0.5838541666666667, 0.5767361111111111, 0.5881944444444445, 0.5810763888888889, 0.5815972222222222, 0.5859375, 0.5862847222222223], \"target_val_acc_label\": [0.2728125, 0.29369791666666667, 0.3034375, 0.44786458333333334, 0.4702604166666667, 0.4846875, 0.4895833333333333, 0.48473958333333333, 0.4942708333333333, 0.48885416666666665, 0.48734375, 0.4896875, 0.4898958333333333]}, \"dataset_metrics\": {\"source\": {\"train\": {\"n_unique_x\": 67200, \"n_unique_y\": 16, \"n_batch/episode\": 2520}, \"val\": {\"n_unique_x\": 14400, \"n_unique_y\": 16, \"n_batch/episode\": 360}, \"test\": {\"n_unique_x\": 14400, \"n_unique_y\": 16, \"n_batch/episode\": 360}}, \"target\": {\"train\": {\"n_unique_x\": 112000, \"n_unique_y\": 16, \"n_batch/episode\": 4200}, \"val\": {\"n_unique_x\": 24000, \"n_unique_y\": 16, \"n_batch/episode\": 600}, \"test\": {\"n_unique_x\": 24000, \"n_unique_y\": 16, \"n_batch/episode\": 600}}}}'"
      ]
     },
     "execution_count": 20,
     "metadata": {},
     "output_type": "execute_result"
    }
   ],
   "source": [
    "json.dumps(experiment)"
   ]
  }
 ],
 "metadata": {
  "celltoolbar": "Tags",
  "kernelspec": {
   "display_name": "Python 3 (ipykernel)",
   "language": "python",
   "name": "python3"
  },
  "language_info": {
   "codemirror_mode": {
    "name": "ipython",
    "version": 3
   },
   "file_extension": ".py",
   "mimetype": "text/x-python",
   "name": "python",
   "nbconvert_exporter": "python",
   "pygments_lexer": "ipython3",
   "version": "3.8.10"
  },
  "papermill": {
   "default_parameters": {},
   "duration": 1001.981872,
   "end_time": "2022-04-01T21:11:41.736974",
   "environment_variables": {},
   "exception": null,
   "input_path": "/mnt/wd500GB/CSC500/csc500-main/csc500-notebooks/templates/ptn_template.ipynb",
   "output_path": "trial.ipynb",
   "parameters": {
    "parameters": {
     "BEST_MODEL_PATH": "./best_model.pth",
     "NUM_LOGS_PER_EPOCH": 10,
     "criteria_for_best": "target_accuracy",
     "dataset_seed": 154325,
     "device": "cuda",
     "domains_source": [
      8,
      32,
      50
     ],
     "domains_target": [
      14,
      20,
      26,
      38,
      44
     ],
     "episode_transforms_source": [],
     "episode_transforms_target": [],
     "experiment_name": "tuned_1v2:oracle.run1_limited",
     "labels_source": [
      "3123D52",
      "3123D65",
      "3123D79",
      "3123D80",
      "3123D54",
      "3123D70",
      "3123D7B",
      "3123D89",
      "3123D58",
      "3123D76",
      "3123D7D",
      "3123EFE",
      "3123D64",
      "3123D78",
      "3123D7E",
      "3124E4A"
     ],
     "labels_target": [
      "3123D52",
      "3123D65",
      "3123D79",
      "3123D80",
      "3123D54",
      "3123D70",
      "3123D7B",
      "3123D89",
      "3123D58",
      "3123D76",
      "3123D7D",
      "3123EFE",
      "3123D64",
      "3123D78",
      "3123D7E",
      "3124E4A"
     ],
     "lr": 0.0001,
     "n_epoch": 50,
     "n_query": 2,
     "n_shot": 3,
     "n_way": 16,
     "num_examples_per_domain_per_label_source": 2000,
     "num_examples_per_domain_per_label_target": 2000,
     "patience": 3,
     "pickle_name": "oracle.Run1_10kExamples_stratified_ds.2022A.pkl",
     "seed": 154325,
     "test_k_factor": 2,
     "torch_default_dtype": "torch.float32",
     "train_k_factor": 3,
     "val_k_factor": 2,
     "x_net": [
      {
       "class": "nnReshape",
       "kargs": {
        "shape": [
         -1,
         1,
         2,
         256
        ]
       }
      },
      {
       "class": "Conv2d",
       "kargs": {
        "bias": false,
        "in_channels": 1,
        "kernel_size": [
         1,
         7
        ],
        "out_channels": 256,
        "padding": [
         0,
         3
        ]
       }
      },
      {
       "class": "ReLU",
       "kargs": {
        "inplace": true
       }
      },
      {
       "class": "BatchNorm2d",
       "kargs": {
        "num_features": 256
       }
      },
      {
       "class": "Conv2d",
       "kargs": {
        "bias": true,
        "in_channels": 256,
        "kernel_size": [
         2,
         7
        ],
        "out_channels": 80,
        "padding": [
         0,
         3
        ]
       }
      },
      {
       "class": "ReLU",
       "kargs": {
        "inplace": true
       }
      },
      {
       "class": "BatchNorm2d",
       "kargs": {
        "num_features": 80
       }
      },
      {
       "class": "Flatten",
       "kargs": {}
      },
      {
       "class": "Linear",
       "kargs": {
        "in_features": 20480,
        "out_features": 256
       }
      },
      {
       "class": "ReLU",
       "kargs": {
        "inplace": true
       }
      },
      {
       "class": "BatchNorm1d",
       "kargs": {
        "num_features": 256
       }
      },
      {
       "class": "Linear",
       "kargs": {
        "in_features": 256,
        "out_features": 256
       }
      }
     ],
     "x_transforms_source": [
      "unit_mag"
     ],
     "x_transforms_target": [
      "unit_mag"
     ]
    }
   },
   "start_time": "2022-04-01T20:54:59.755102",
   "version": "2.3.4"
  }
 },
 "nbformat": 4,
 "nbformat_minor": 5
}