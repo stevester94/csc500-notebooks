{
 "cells": [
  {
   "cell_type": "markdown",
   "id": "9fea5f46",
   "metadata": {
    "papermill": {
     "duration": 0.024183,
     "end_time": "2022-03-26T03:07:40.781685",
     "exception": false,
     "start_time": "2022-03-26T03:07:40.757502",
     "status": "completed"
    },
    "tags": []
   },
   "source": [
    "# PTN Template\n",
    "This notebook serves as a template for single dataset PTN experiments  \n",
    "It can be run on its own by setting STANDALONE to True (do a find for \"STANDALONE\" to see where)  \n",
    "But it is intended to be executed as part of a *papermill.py script. See any of the   \n",
    "experimentes with a papermill script to get started with that workflow.  "
   ]
  },
  {
   "cell_type": "code",
   "execution_count": 1,
   "id": "0902182a",
   "metadata": {
    "execution": {
     "iopub.execute_input": "2022-03-26T03:07:40.833879Z",
     "iopub.status.busy": "2022-03-26T03:07:40.832955Z",
     "iopub.status.idle": "2022-03-26T03:07:42.724120Z",
     "shell.execute_reply": "2022-03-26T03:07:42.723708Z"
    },
    "papermill": {
     "duration": 1.925572,
     "end_time": "2022-03-26T03:07:42.724227",
     "exception": false,
     "start_time": "2022-03-26T03:07:40.798655",
     "status": "completed"
    },
    "tags": []
   },
   "outputs": [],
   "source": [
    "%load_ext autoreload\n",
    "%autoreload 2\n",
    "%matplotlib inline\n",
    "\n",
    "    \n",
    "import os, json, sys, time, random\n",
    "import numpy as np\n",
    "import torch\n",
    "from torch.optim import Adam\n",
    "from  easydict import EasyDict\n",
    "import matplotlib.pyplot as plt\n",
    "\n",
    "from steves_models.steves_ptn import Steves_Prototypical_Network\n",
    "\n",
    "from steves_utils.lazy_iterable_wrapper import Lazy_Iterable_Wrapper\n",
    "from steves_utils.iterable_aggregator import Iterable_Aggregator\n",
    "from steves_utils.ptn_train_eval_test_jig import  PTN_Train_Eval_Test_Jig\n",
    "from steves_utils.torch_sequential_builder import build_sequential\n",
    "from steves_utils.torch_utils import get_dataset_metrics, ptn_confusion_by_domain_over_dataloader\n",
    "from steves_utils.utils_v2 import (per_domain_accuracy_from_confusion, get_datasets_base_path)\n",
    "from steves_utils.PTN.utils import independent_accuracy_assesment\n",
    "\n",
    "from steves_utils.stratified_dataset.episodic_accessor import Episodic_Accessor_Factory\n",
    "\n",
    "from steves_utils.ptn_do_report import (\n",
    "    get_loss_curve,\n",
    "    get_results_table,\n",
    "    get_parameters_table,\n",
    "    get_domain_accuracies,\n",
    ")\n",
    "\n",
    "from steves_utils.transforms import get_chained_transform"
   ]
  },
  {
   "cell_type": "markdown",
   "id": "41c840b4",
   "metadata": {
    "papermill": {
     "duration": 0.013921,
     "end_time": "2022-03-26T03:07:42.752671",
     "exception": false,
     "start_time": "2022-03-26T03:07:42.738750",
     "status": "completed"
    },
    "tags": []
   },
   "source": [
    "# Required Parameters\n",
    "These are allowed parameters, not defaults\n",
    "Each of these values need to be present in the injected parameters (the notebook will raise an exception if they are not present)\n",
    "\n",
    "Papermill uses the cell tag \"parameters\" to inject the real parameters below this cell.\n",
    "Enable tags to see what I mean"
   ]
  },
  {
   "cell_type": "code",
   "execution_count": 2,
   "id": "fd44eb83",
   "metadata": {
    "execution": {
     "iopub.execute_input": "2022-03-26T03:07:42.784167Z",
     "iopub.status.busy": "2022-03-26T03:07:42.783754Z",
     "iopub.status.idle": "2022-03-26T03:07:42.802555Z",
     "shell.execute_reply": "2022-03-26T03:07:42.803191Z"
    },
    "papermill": {
     "duration": 0.036766,
     "end_time": "2022-03-26T03:07:42.803373",
     "exception": false,
     "start_time": "2022-03-26T03:07:42.766607",
     "status": "completed"
    },
    "tags": []
   },
   "outputs": [],
   "source": [
    "required_parameters = {\n",
    "    \"experiment_name\",\n",
    "    \"lr\",\n",
    "    \"device\",\n",
    "    \"seed\",\n",
    "    \"dataset_seed\",\n",
    "    \"labels_source\",\n",
    "    \"labels_target\",\n",
    "    \"domains_source\",\n",
    "    \"domains_target\",\n",
    "    \"num_examples_per_domain_per_label_source\",\n",
    "    \"num_examples_per_domain_per_label_target\",\n",
    "    \"n_shot\",\n",
    "    \"n_way\",\n",
    "    \"n_query\",\n",
    "    \"train_k_factor\",\n",
    "    \"val_k_factor\",\n",
    "    \"test_k_factor\",\n",
    "    \"n_epoch\",\n",
    "    \"patience\",\n",
    "    \"criteria_for_best\",\n",
    "    \"x_transforms_source\",\n",
    "    \"x_transforms_target\",\n",
    "    \"episode_transforms_source\",\n",
    "    \"episode_transforms_target\",\n",
    "    \"pickle_name\",\n",
    "    \"x_net\",\n",
    "    \"NUM_LOGS_PER_EPOCH\",\n",
    "    \"BEST_MODEL_PATH\",\n",
    "    \"torch_default_dtype\"\n",
    "}"
   ]
  },
  {
   "cell_type": "code",
   "execution_count": 3,
   "id": "fa3f0049",
   "metadata": {
    "execution": {
     "iopub.execute_input": "2022-03-26T03:07:42.846758Z",
     "iopub.status.busy": "2022-03-26T03:07:42.845732Z",
     "iopub.status.idle": "2022-03-26T03:07:42.866185Z",
     "shell.execute_reply": "2022-03-26T03:07:42.866858Z"
    },
    "papermill": {
     "duration": 0.044626,
     "end_time": "2022-03-26T03:07:42.867037",
     "exception": false,
     "start_time": "2022-03-26T03:07:42.822411",
     "status": "completed"
    },
    "tags": [
     "parameters"
    ]
   },
   "outputs": [],
   "source": [
    "\n",
    "\n",
    "standalone_parameters = {}\n",
    "standalone_parameters[\"experiment_name\"] = \"STANDALONE PTN\"\n",
    "standalone_parameters[\"lr\"] = 0.0001\n",
    "standalone_parameters[\"device\"] = \"cuda\"\n",
    "\n",
    "standalone_parameters[\"seed\"] = 1337\n",
    "standalone_parameters[\"dataset_seed\"] = 1337\n",
    "\n",
    "\n",
    "standalone_parameters[\"num_examples_per_domain_per_label_source\"]=100\n",
    "standalone_parameters[\"num_examples_per_domain_per_label_target\"]=100\n",
    "\n",
    "standalone_parameters[\"n_shot\"] = 3\n",
    "standalone_parameters[\"n_query\"]  = 2\n",
    "standalone_parameters[\"train_k_factor\"] = 1\n",
    "standalone_parameters[\"val_k_factor\"] = 2\n",
    "standalone_parameters[\"test_k_factor\"] = 2\n",
    "\n",
    "\n",
    "standalone_parameters[\"n_epoch\"] = 100\n",
    "\n",
    "standalone_parameters[\"patience\"] = 10\n",
    "standalone_parameters[\"criteria_for_best\"] = \"target_accuracy\"\n",
    "\n",
    "standalone_parameters[\"x_transforms_source\"] = [\"unit_power\"]\n",
    "standalone_parameters[\"x_transforms_target\"] = [\"unit_power\"]\n",
    "standalone_parameters[\"episode_transforms_source\"] = []\n",
    "standalone_parameters[\"episode_transforms_target\"] = []\n",
    "\n",
    "standalone_parameters[\"torch_default_dtype\"] = \"torch.float32\" \n",
    "\n",
    "\n",
    "\n",
    "standalone_parameters[\"x_net\"] =     [\n",
    "    {\"class\": \"nnReshape\", \"kargs\": {\"shape\":[-1, 1, 2, 256]}},\n",
    "    {\"class\": \"Conv2d\", \"kargs\": { \"in_channels\":1, \"out_channels\":256, \"kernel_size\":(1,7), \"bias\":False, \"padding\":(0,3), },},\n",
    "    {\"class\": \"ReLU\", \"kargs\": {\"inplace\": True}},\n",
    "    {\"class\": \"BatchNorm2d\", \"kargs\": {\"num_features\":256}},\n",
    "\n",
    "    {\"class\": \"Conv2d\", \"kargs\": { \"in_channels\":256, \"out_channels\":80, \"kernel_size\":(2,7), \"bias\":True, \"padding\":(0,3), },},\n",
    "    {\"class\": \"ReLU\", \"kargs\": {\"inplace\": True}},\n",
    "    {\"class\": \"BatchNorm2d\", \"kargs\": {\"num_features\":80}},\n",
    "    {\"class\": \"Flatten\", \"kargs\": {}},\n",
    "\n",
    "    {\"class\": \"Linear\", \"kargs\": {\"in_features\": 80*256, \"out_features\": 256}}, # 80 units per IQ pair\n",
    "    {\"class\": \"ReLU\", \"kargs\": {\"inplace\": True}},\n",
    "    {\"class\": \"BatchNorm1d\", \"kargs\": {\"num_features\":256}},\n",
    "\n",
    "    {\"class\": \"Linear\", \"kargs\": {\"in_features\": 256, \"out_features\": 256}},\n",
    "]\n",
    "\n",
    "# Parameters relevant to results\n",
    "# These parameters will basically never need to change\n",
    "standalone_parameters[\"NUM_LOGS_PER_EPOCH\"] = 10\n",
    "standalone_parameters[\"BEST_MODEL_PATH\"] = \"./best_model.pth\"\n",
    "\n",
    "# uncomment for CORES dataset\n",
    "from steves_utils.CORES.utils import (\n",
    "    ALL_NODES,\n",
    "    ALL_NODES_MINIMUM_1000_EXAMPLES,\n",
    "    ALL_DAYS\n",
    ")\n",
    "\n",
    "\n",
    "standalone_parameters[\"labels_source\"] = ALL_NODES\n",
    "standalone_parameters[\"labels_target\"] = ALL_NODES\n",
    "\n",
    "standalone_parameters[\"domains_source\"] = [1]\n",
    "standalone_parameters[\"domains_target\"] = [2,3,4,5]\n",
    "\n",
    "standalone_parameters[\"pickle_name\"] = \"cores.stratified_ds.2022A.pkl\"\n",
    "\n",
    "\n",
    "# Uncomment these for ORACLE dataset\n",
    "# from steves_utils.ORACLE.utils_v2 import (\n",
    "#     ALL_DISTANCES_FEET,\n",
    "#     ALL_RUNS,\n",
    "#     ALL_SERIAL_NUMBERS,\n",
    "# )\n",
    "# standalone_parameters[\"labels_source\"] = ALL_SERIAL_NUMBERS\n",
    "# standalone_parameters[\"labels_target\"] = ALL_SERIAL_NUMBERS\n",
    "# standalone_parameters[\"domains_source\"] = [8,20, 38,50]\n",
    "# standalone_parameters[\"domains_target\"] = [14, 26, 32, 44, 56]\n",
    "# standalone_parameters[\"pickle_name\"] = \"oracle.frame_indexed.stratified_ds.2022A.pkl\"\n",
    "# standalone_parameters[\"num_examples_per_domain_per_label_source\"]=1000\n",
    "# standalone_parameters[\"num_examples_per_domain_per_label_target\"]=1000\n",
    "\n",
    "# Uncomment these for Metahan dataset\n",
    "# standalone_parameters[\"labels_source\"] = list(range(19))\n",
    "# standalone_parameters[\"labels_target\"] = list(range(19))\n",
    "# standalone_parameters[\"domains_source\"] = [0]\n",
    "# standalone_parameters[\"domains_target\"] = [1]\n",
    "# standalone_parameters[\"pickle_name\"] = \"metehan.stratified_ds.2022A.pkl\"\n",
    "# standalone_parameters[\"n_way\"]  = len(standalone_parameters[\"labels_source\"])\n",
    "# standalone_parameters[\"num_examples_per_domain_per_label_source\"]=200\n",
    "# standalone_parameters[\"num_examples_per_domain_per_label_target\"]=100\n",
    "\n",
    "\n",
    "standalone_parameters[\"n_way\"]  = len(standalone_parameters[\"labels_source\"])"
   ]
  },
  {
   "cell_type": "code",
   "execution_count": 4,
   "id": "3e2d94ea",
   "metadata": {
    "execution": {
     "iopub.execute_input": "2022-03-26T03:07:42.909548Z",
     "iopub.status.busy": "2022-03-26T03:07:42.907644Z",
     "iopub.status.idle": "2022-03-26T03:07:42.927850Z",
     "shell.execute_reply": "2022-03-26T03:07:42.928488Z"
    },
    "papermill": {
     "duration": 0.042064,
     "end_time": "2022-03-26T03:07:42.928669",
     "exception": false,
     "start_time": "2022-03-26T03:07:42.886605",
     "status": "completed"
    },
    "tags": [
     "injected-parameters"
    ]
   },
   "outputs": [],
   "source": [
    "# Parameters\n",
    "parameters = {\n",
    "    \"experiment_name\": \"tuned_1v2:oracle.run1_limited\",\n",
    "    \"device\": \"cuda\",\n",
    "    \"lr\": 0.0001,\n",
    "    \"labels_source\": [\n",
    "        \"3123D52\",\n",
    "        \"3123D65\",\n",
    "        \"3123D79\",\n",
    "        \"3123D80\",\n",
    "        \"3123D54\",\n",
    "        \"3123D70\",\n",
    "        \"3123D7B\",\n",
    "        \"3123D89\",\n",
    "        \"3123D58\",\n",
    "        \"3123D76\",\n",
    "        \"3123D7D\",\n",
    "        \"3123EFE\",\n",
    "        \"3123D64\",\n",
    "        \"3123D78\",\n",
    "        \"3123D7E\",\n",
    "        \"3124E4A\",\n",
    "    ],\n",
    "    \"labels_target\": [\n",
    "        \"3123D52\",\n",
    "        \"3123D65\",\n",
    "        \"3123D79\",\n",
    "        \"3123D80\",\n",
    "        \"3123D54\",\n",
    "        \"3123D70\",\n",
    "        \"3123D7B\",\n",
    "        \"3123D89\",\n",
    "        \"3123D58\",\n",
    "        \"3123D76\",\n",
    "        \"3123D7D\",\n",
    "        \"3123EFE\",\n",
    "        \"3123D64\",\n",
    "        \"3123D78\",\n",
    "        \"3123D7E\",\n",
    "        \"3124E4A\",\n",
    "    ],\n",
    "    \"episode_transforms_source\": [],\n",
    "    \"episode_transforms_target\": [],\n",
    "    \"domains_source\": [8, 32, 50],\n",
    "    \"domains_target\": [14, 20, 26, 38, 44],\n",
    "    \"num_examples_per_domain_per_label_source\": -1,\n",
    "    \"num_examples_per_domain_per_label_target\": -1,\n",
    "    \"n_shot\": 3,\n",
    "    \"n_way\": 16,\n",
    "    \"n_query\": 2,\n",
    "    \"train_k_factor\": 3,\n",
    "    \"val_k_factor\": 2,\n",
    "    \"test_k_factor\": 2,\n",
    "    \"torch_default_dtype\": \"torch.float32\",\n",
    "    \"n_epoch\": 50,\n",
    "    \"patience\": 3,\n",
    "    \"criteria_for_best\": \"target_accuracy\",\n",
    "    \"x_net\": [\n",
    "        {\"class\": \"nnReshape\", \"kargs\": {\"shape\": [-1, 1, 2, 256]}},\n",
    "        {\n",
    "            \"class\": \"Conv2d\",\n",
    "            \"kargs\": {\n",
    "                \"in_channels\": 1,\n",
    "                \"out_channels\": 256,\n",
    "                \"kernel_size\": [1, 7],\n",
    "                \"bias\": False,\n",
    "                \"padding\": [0, 3],\n",
    "            },\n",
    "        },\n",
    "        {\"class\": \"ReLU\", \"kargs\": {\"inplace\": True}},\n",
    "        {\"class\": \"BatchNorm2d\", \"kargs\": {\"num_features\": 256}},\n",
    "        {\n",
    "            \"class\": \"Conv2d\",\n",
    "            \"kargs\": {\n",
    "                \"in_channels\": 256,\n",
    "                \"out_channels\": 80,\n",
    "                \"kernel_size\": [2, 7],\n",
    "                \"bias\": True,\n",
    "                \"padding\": [0, 3],\n",
    "            },\n",
    "        },\n",
    "        {\"class\": \"ReLU\", \"kargs\": {\"inplace\": True}},\n",
    "        {\"class\": \"BatchNorm2d\", \"kargs\": {\"num_features\": 80}},\n",
    "        {\"class\": \"Flatten\", \"kargs\": {}},\n",
    "        {\"class\": \"Linear\", \"kargs\": {\"in_features\": 20480, \"out_features\": 256}},\n",
    "        {\"class\": \"ReLU\", \"kargs\": {\"inplace\": True}},\n",
    "        {\"class\": \"BatchNorm1d\", \"kargs\": {\"num_features\": 256}},\n",
    "        {\"class\": \"Linear\", \"kargs\": {\"in_features\": 256, \"out_features\": 256}},\n",
    "    ],\n",
    "    \"NUM_LOGS_PER_EPOCH\": 10,\n",
    "    \"BEST_MODEL_PATH\": \"./best_model.pth\",\n",
    "    \"pickle_name\": \"oracle.Run1_10kExamples_stratified_ds.2022A.pkl\",\n",
    "    \"x_transforms_source\": [\"unit_mag\"],\n",
    "    \"x_transforms_target\": [\"unit_mag\"],\n",
    "    \"dataset_seed\": 154325,\n",
    "    \"seed\": 154325,\n",
    "}\n"
   ]
  },
  {
   "cell_type": "code",
   "execution_count": 5,
   "id": "8fa1cc33",
   "metadata": {
    "execution": {
     "iopub.execute_input": "2022-03-26T03:07:42.968396Z",
     "iopub.status.busy": "2022-03-26T03:07:42.968026Z",
     "iopub.status.idle": "2022-03-26T03:07:42.986171Z",
     "shell.execute_reply": "2022-03-26T03:07:42.985475Z"
    },
    "papermill": {
     "duration": 0.037633,
     "end_time": "2022-03-26T03:07:42.986323",
     "exception": false,
     "start_time": "2022-03-26T03:07:42.948690",
     "status": "completed"
    },
    "tags": []
   },
   "outputs": [],
   "source": [
    "# Set this to True if you want to run this template directly\n",
    "STANDALONE = False\n",
    "if STANDALONE:\n",
    "    print(\"parameters not injected, running with standalone_parameters\")\n",
    "    parameters = standalone_parameters\n",
    "\n",
    "if not 'parameters' in locals() and not 'parameters' in globals():\n",
    "    raise Exception(\"Parameter injection failed\")\n",
    "\n",
    "#Use an easy dict for all the parameters\n",
    "p = EasyDict(parameters)\n",
    "\n",
    "supplied_keys = set(p.keys())\n",
    "\n",
    "if  supplied_keys != required_parameters:\n",
    "    print(\"Parameters are incorrect\")\n",
    "    if len(supplied_keys - required_parameters)>0: print(\"Shouldn't have:\", str(supplied_keys - required_parameters))\n",
    "    if len(required_parameters - supplied_keys)>0: print(\"Need to have:\", str(required_parameters - supplied_keys))\n",
    "    raise RuntimeError(\"Parameters are incorrect\")\n",
    "\n"
   ]
  },
  {
   "cell_type": "code",
   "execution_count": 6,
   "id": "3a028d58",
   "metadata": {
    "execution": {
     "iopub.execute_input": "2022-03-26T03:07:43.025179Z",
     "iopub.status.busy": "2022-03-26T03:07:43.024812Z",
     "iopub.status.idle": "2022-03-26T03:07:43.044017Z",
     "shell.execute_reply": "2022-03-26T03:07:43.043179Z"
    },
    "papermill": {
     "duration": 0.037725,
     "end_time": "2022-03-26T03:07:43.044170",
     "exception": false,
     "start_time": "2022-03-26T03:07:43.006445",
     "status": "completed"
    },
    "tags": []
   },
   "outputs": [],
   "source": [
    "###################################\n",
    "# Set the RNGs and make it all deterministic\n",
    "###################################\n",
    "np.random.seed(p.seed)\n",
    "random.seed(p.seed)\n",
    "torch.manual_seed(p.seed)\n",
    "\n",
    "torch.use_deterministic_algorithms(True) "
   ]
  },
  {
   "cell_type": "code",
   "execution_count": 7,
   "id": "b691acf6",
   "metadata": {
    "execution": {
     "iopub.execute_input": "2022-03-26T03:07:43.084868Z",
     "iopub.status.busy": "2022-03-26T03:07:43.084474Z",
     "iopub.status.idle": "2022-03-26T03:07:43.110914Z",
     "shell.execute_reply": "2022-03-26T03:07:43.110093Z"
    },
    "papermill": {
     "duration": 0.045629,
     "end_time": "2022-03-26T03:07:43.111069",
     "exception": false,
     "start_time": "2022-03-26T03:07:43.065440",
     "status": "completed"
    },
    "tags": []
   },
   "outputs": [],
   "source": [
    "###########################################\n",
    "# The stratified datasets honor this\n",
    "###########################################\n",
    "torch.set_default_dtype(eval(p.torch_default_dtype))"
   ]
  },
  {
   "cell_type": "code",
   "execution_count": 8,
   "id": "b5fba671",
   "metadata": {
    "execution": {
     "iopub.execute_input": "2022-03-26T03:07:43.151923Z",
     "iopub.status.busy": "2022-03-26T03:07:43.151554Z",
     "iopub.status.idle": "2022-03-26T03:07:43.239029Z",
     "shell.execute_reply": "2022-03-26T03:07:43.238295Z"
    },
    "papermill": {
     "duration": 0.106025,
     "end_time": "2022-03-26T03:07:43.239191",
     "exception": false,
     "start_time": "2022-03-26T03:07:43.133166",
     "status": "completed"
    },
    "tags": []
   },
   "outputs": [],
   "source": [
    "###################################\n",
    "# Build the network(s)\n",
    "# Note: It's critical to do this AFTER setting the RNG\n",
    "# (This is due to the randomized initial weights)\n",
    "###################################\n",
    "x_net = build_sequential(p.x_net)"
   ]
  },
  {
   "cell_type": "code",
   "execution_count": 9,
   "id": "5d7e61cc",
   "metadata": {
    "execution": {
     "iopub.execute_input": "2022-03-26T03:07:43.277898Z",
     "iopub.status.busy": "2022-03-26T03:07:43.277534Z",
     "iopub.status.idle": "2022-03-26T03:07:43.304896Z",
     "shell.execute_reply": "2022-03-26T03:07:43.304082Z"
    },
    "papermill": {
     "duration": 0.046011,
     "end_time": "2022-03-26T03:07:43.305049",
     "exception": false,
     "start_time": "2022-03-26T03:07:43.259038",
     "status": "completed"
    },
    "tags": []
   },
   "outputs": [],
   "source": [
    "start_time_secs = time.time()"
   ]
  },
  {
   "cell_type": "code",
   "execution_count": 10,
   "id": "fd5442bc",
   "metadata": {
    "execution": {
     "iopub.execute_input": "2022-03-26T03:07:43.358818Z",
     "iopub.status.busy": "2022-03-26T03:07:43.351054Z",
     "iopub.status.idle": "2022-03-26T03:09:33.302262Z",
     "shell.execute_reply": "2022-03-26T03:09:33.301496Z"
    },
    "papermill": {
     "duration": 109.974274,
     "end_time": "2022-03-26T03:09:33.302454",
     "exception": false,
     "start_time": "2022-03-26T03:07:43.328180",
     "status": "completed"
    },
    "tags": []
   },
   "outputs": [],
   "source": [
    "###################################\n",
    "# Build the dataset\n",
    "###################################\n",
    "\n",
    "if p.x_transforms_source == []: x_transform_source = None\n",
    "else: x_transform_source = get_chained_transform(p.x_transforms_source) \n",
    "\n",
    "if p.x_transforms_target == []: x_transform_target = None\n",
    "else: x_transform_target = get_chained_transform(p.x_transforms_target)\n",
    "\n",
    "if p.episode_transforms_source == []: episode_transform_source = None\n",
    "else: raise Exception(\"episode_transform_source not implemented\")\n",
    "\n",
    "if p.episode_transforms_target == []: episode_transform_target = None\n",
    "else: raise Exception(\"episode_transform_target not implemented\")\n",
    "\n",
    "\n",
    "eaf_source = Episodic_Accessor_Factory(\n",
    "    labels=p.labels_source,\n",
    "    domains=p.domains_source,\n",
    "    num_examples_per_domain_per_label=p.num_examples_per_domain_per_label_source,\n",
    "    iterator_seed=p.seed,\n",
    "    dataset_seed=p.dataset_seed,\n",
    "    n_shot=p.n_shot,\n",
    "    n_way=p.n_way,\n",
    "    n_query=p.n_query,\n",
    "    train_val_test_k_factors=(p.train_k_factor,p.val_k_factor,p.test_k_factor),\n",
    "    pickle_path=os.path.join(get_datasets_base_path(), p.pickle_name),\n",
    "    x_transform_func=x_transform_source,\n",
    "    example_transform_func=episode_transform_source,\n",
    "    \n",
    ")\n",
    "train_original_source, val_original_source, test_original_source = eaf_source.get_train(), eaf_source.get_val(), eaf_source.get_test()\n",
    "\n",
    "\n",
    "eaf_target = Episodic_Accessor_Factory(\n",
    "    labels=p.labels_target,\n",
    "    domains=p.domains_target,\n",
    "    num_examples_per_domain_per_label=p.num_examples_per_domain_per_label_target,\n",
    "    iterator_seed=p.seed,\n",
    "    dataset_seed=p.dataset_seed,\n",
    "    n_shot=p.n_shot,\n",
    "    n_way=p.n_way,\n",
    "    n_query=p.n_query,\n",
    "    train_val_test_k_factors=(p.train_k_factor,p.val_k_factor,p.test_k_factor),\n",
    "    pickle_path=os.path.join(get_datasets_base_path(), p.pickle_name),\n",
    "    x_transform_func=x_transform_target,\n",
    "    example_transform_func=episode_transform_target,\n",
    ")\n",
    "train_original_target, val_original_target, test_original_target = eaf_target.get_train(), eaf_target.get_val(), eaf_target.get_test()\n",
    "\n",
    "\n",
    "transform_lambda = lambda ex: ex[1] # Original is (<domain>, <episode>) so we strip down to episode only\n",
    "\n",
    "train_processed_source = Lazy_Iterable_Wrapper(train_original_source, transform_lambda)\n",
    "val_processed_source   = Lazy_Iterable_Wrapper(val_original_source, transform_lambda)\n",
    "test_processed_source  = Lazy_Iterable_Wrapper(test_original_source, transform_lambda)\n",
    "\n",
    "train_processed_target = Lazy_Iterable_Wrapper(train_original_target, transform_lambda)\n",
    "val_processed_target   = Lazy_Iterable_Wrapper(val_original_target, transform_lambda)\n",
    "test_processed_target  = Lazy_Iterable_Wrapper(test_original_target, transform_lambda)\n",
    "\n",
    "datasets = EasyDict({\n",
    "    \"source\": {\n",
    "        \"original\": {\"train\":train_original_source, \"val\":val_original_source, \"test\":test_original_source},\n",
    "        \"processed\": {\"train\":train_processed_source, \"val\":val_processed_source, \"test\":test_processed_source}\n",
    "    },\n",
    "    \"target\": {\n",
    "        \"original\": {\"train\":train_original_target, \"val\":val_original_target, \"test\":test_original_target},\n",
    "        \"processed\": {\"train\":train_processed_target, \"val\":val_processed_target, \"test\":test_processed_target}\n",
    "    },\n",
    "})"
   ]
  },
  {
   "cell_type": "code",
   "execution_count": 11,
   "id": "296189d9",
   "metadata": {
    "execution": {
     "iopub.execute_input": "2022-03-26T03:09:33.348550Z",
     "iopub.status.busy": "2022-03-26T03:09:33.347938Z",
     "iopub.status.idle": "2022-03-26T03:09:39.440546Z",
     "shell.execute_reply": "2022-03-26T03:09:39.441359Z"
    },
    "papermill": {
     "duration": 6.117588,
     "end_time": "2022-03-26T03:09:39.441595",
     "exception": false,
     "start_time": "2022-03-26T03:09:33.324007",
     "status": "completed"
    },
    "tags": []
   },
   "outputs": [
    {
     "name": "stdout",
     "output_type": "stream",
     "text": [
      "Visually inspect these to see if they line up with expected values given the transforms\n",
      "x_transforms_source ['unit_mag']\n",
      "x_transforms_target ['unit_mag']\n",
      "Average magnitude, source: 1.0000001\n",
      "Average power, source: 1.3167291\n"
     ]
    },
    {
     "name": "stdout",
     "output_type": "stream",
     "text": [
      "Average magnitude, target: 1.0\n",
      "Average power, target: 1.3395102\n"
     ]
    }
   ],
   "source": [
    "# Some quick unit tests on the data\n",
    "from steves_utils.transforms import get_average_power, get_average_magnitude\n",
    "\n",
    "q_x, q_y, s_x, s_y, truth = next(iter(train_processed_source))\n",
    "\n",
    "assert q_x.dtype == eval(p.torch_default_dtype)\n",
    "assert s_x.dtype == eval(p.torch_default_dtype)\n",
    "\n",
    "print(\"Visually inspect these to see if they line up with expected values given the transforms\")\n",
    "print('x_transforms_source', p.x_transforms_source)\n",
    "print('x_transforms_target', p.x_transforms_target)\n",
    "print(\"Average magnitude, source:\", get_average_magnitude(q_x[0].numpy()))\n",
    "print(\"Average power, source:\", get_average_power(q_x[0].numpy()))\n",
    "\n",
    "q_x, q_y, s_x, s_y, truth = next(iter(train_processed_target))\n",
    "print(\"Average magnitude, target:\", get_average_magnitude(q_x[0].numpy()))\n",
    "print(\"Average power, target:\", get_average_power(q_x[0].numpy()))\n"
   ]
  },
  {
   "cell_type": "code",
   "execution_count": 12,
   "id": "bbdacba1",
   "metadata": {
    "execution": {
     "iopub.execute_input": "2022-03-26T03:09:39.482769Z",
     "iopub.status.busy": "2022-03-26T03:09:39.482380Z",
     "iopub.status.idle": "2022-03-26T03:09:39.684997Z",
     "shell.execute_reply": "2022-03-26T03:09:39.685327Z"
    },
    "papermill": {
     "duration": 0.223958,
     "end_time": "2022-03-26T03:09:39.685474",
     "exception": false,
     "start_time": "2022-03-26T03:09:39.461516",
     "status": "completed"
    },
    "tags": []
   },
   "outputs": [
    {
     "name": "stdout",
     "output_type": "stream",
     "text": [
      "(2, 256)\n"
     ]
    }
   ],
   "source": [
    "###################################\n",
    "# Build the model\n",
    "###################################\n",
    "model = Steves_Prototypical_Network(x_net, device=p.device, x_shape=(2,256))\n",
    "optimizer = Adam(params=model.parameters(), lr=p.lr)"
   ]
  },
  {
   "cell_type": "code",
   "execution_count": 13,
   "id": "22b39ac5",
   "metadata": {
    "execution": {
     "iopub.execute_input": "2022-03-26T03:09:39.724333Z",
     "iopub.status.busy": "2022-03-26T03:09:39.722902Z",
     "iopub.status.idle": "2022-03-26T04:34:06.530222Z",
     "shell.execute_reply": "2022-03-26T04:34:06.529369Z"
    },
    "papermill": {
     "duration": 5066.828353,
     "end_time": "2022-03-26T04:34:06.530410",
     "exception": false,
     "start_time": "2022-03-26T03:09:39.702057",
     "status": "completed"
    },
    "tags": []
   },
   "outputs": [
    {
     "name": "stdout",
     "output_type": "stream",
     "text": [
      "epoch: 1, [batch: 1 / 12600], examples_per_second: 17.0614, train_label_loss: 2.8029, \n"
     ]
    },
    {
     "name": "stdout",
     "output_type": "stream",
     "text": [
      "epoch: 1, [batch: 1260 / 12600], examples_per_second: 3898.0583, train_label_loss: 1.5254, \n"
     ]
    },
    {
     "name": "stdout",
     "output_type": "stream",
     "text": [
      "epoch: 1, [batch: 2520 / 12600], examples_per_second: 3994.0533, train_label_loss: 1.3270, \n"
     ]
    },
    {
     "name": "stdout",
     "output_type": "stream",
     "text": [
      "epoch: 1, [batch: 3780 / 12600], examples_per_second: 3939.6042, train_label_loss: 1.0398, \n"
     ]
    },
    {
     "name": "stdout",
     "output_type": "stream",
     "text": [
      "epoch: 1, [batch: 5040 / 12600], examples_per_second: 3986.8412, train_label_loss: 1.1698, \n"
     ]
    },
    {
     "name": "stdout",
     "output_type": "stream",
     "text": [
      "epoch: 1, [batch: 6300 / 12600], examples_per_second: 4040.2937, train_label_loss: 1.4505, \n"
     ]
    },
    {
     "name": "stdout",
     "output_type": "stream",
     "text": [
      "epoch: 1, [batch: 7560 / 12600], examples_per_second: 4202.4972, train_label_loss: 1.4363, \n"
     ]
    },
    {
     "name": "stdout",
     "output_type": "stream",
     "text": [
      "epoch: 1, [batch: 8820 / 12600], examples_per_second: 4436.9373, train_label_loss: 1.1393, \n"
     ]
    },
    {
     "name": "stdout",
     "output_type": "stream",
     "text": [
      "epoch: 1, [batch: 10080 / 12600], examples_per_second: 4188.4301, train_label_loss: 1.2956, \n"
     ]
    },
    {
     "name": "stdout",
     "output_type": "stream",
     "text": [
      "epoch: 1, [batch: 11340 / 12600], examples_per_second: 3864.9218, train_label_loss: 1.0376, \n"
     ]
    },
    {
     "name": "stdout",
     "output_type": "stream",
     "text": [
      "=============================================================\n",
      "epoch: 1, source_val_acc_label: 0.4991, target_val_acc_label: 0.3766, source_val_label_loss: 1.3188, target_val_label_loss: 1.6512, \n",
      "=============================================================\n"
     ]
    },
    {
     "name": "stdout",
     "output_type": "stream",
     "text": [
      "New best\n"
     ]
    },
    {
     "name": "stdout",
     "output_type": "stream",
     "text": [
      "epoch: 2, [batch: 1 / 12600], examples_per_second: 1.7675, train_label_loss: 1.3014, \n"
     ]
    },
    {
     "name": "stdout",
     "output_type": "stream",
     "text": [
      "epoch: 2, [batch: 1260 / 12600], examples_per_second: 3920.6729, train_label_loss: 0.8099, \n"
     ]
    },
    {
     "name": "stdout",
     "output_type": "stream",
     "text": [
      "epoch: 2, [batch: 2520 / 12600], examples_per_second: 3915.7624, train_label_loss: 1.0747, \n"
     ]
    },
    {
     "name": "stdout",
     "output_type": "stream",
     "text": [
      "epoch: 2, [batch: 3780 / 12600], examples_per_second: 3917.8006, train_label_loss: 0.6886, \n"
     ]
    },
    {
     "name": "stdout",
     "output_type": "stream",
     "text": [
      "epoch: 2, [batch: 5040 / 12600], examples_per_second: 3841.8080, train_label_loss: 0.7394, \n"
     ]
    },
    {
     "name": "stdout",
     "output_type": "stream",
     "text": [
      "epoch: 2, [batch: 6300 / 12600], examples_per_second: 4049.8033, train_label_loss: 0.6509, \n"
     ]
    },
    {
     "name": "stdout",
     "output_type": "stream",
     "text": [
      "epoch: 2, [batch: 7560 / 12600], examples_per_second: 4302.2783, train_label_loss: 0.6049, \n"
     ]
    },
    {
     "name": "stdout",
     "output_type": "stream",
     "text": [
      "epoch: 2, [batch: 8820 / 12600], examples_per_second: 4408.6692, train_label_loss: 0.9534, \n"
     ]
    },
    {
     "name": "stdout",
     "output_type": "stream",
     "text": [
      "epoch: 2, [batch: 10080 / 12600], examples_per_second: 4098.6044, train_label_loss: 0.9420, \n"
     ]
    },
    {
     "name": "stdout",
     "output_type": "stream",
     "text": [
      "epoch: 2, [batch: 11340 / 12600], examples_per_second: 3920.7707, train_label_loss: 1.1422, \n"
     ]
    },
    {
     "name": "stdout",
     "output_type": "stream",
     "text": [
      "=============================================================\n",
      "epoch: 2, source_val_acc_label: 0.6650, target_val_acc_label: 0.5840, source_val_label_loss: 0.9077, target_val_label_loss: 1.1039, \n",
      "=============================================================\n"
     ]
    },
    {
     "name": "stdout",
     "output_type": "stream",
     "text": [
      "New best\n"
     ]
    },
    {
     "name": "stdout",
     "output_type": "stream",
     "text": [
      "epoch: 3, [batch: 1 / 12600], examples_per_second: 1.7625, train_label_loss: 0.7843, \n"
     ]
    },
    {
     "name": "stdout",
     "output_type": "stream",
     "text": [
      "epoch: 3, [batch: 1260 / 12600], examples_per_second: 3939.8782, train_label_loss: 0.7800, \n"
     ]
    },
    {
     "name": "stdout",
     "output_type": "stream",
     "text": [
      "epoch: 3, [batch: 2520 / 12600], examples_per_second: 3949.6344, train_label_loss: 0.7269, \n"
     ]
    },
    {
     "name": "stdout",
     "output_type": "stream",
     "text": [
      "epoch: 3, [batch: 3780 / 12600], examples_per_second: 4003.3788, train_label_loss: 0.5839, \n"
     ]
    },
    {
     "name": "stdout",
     "output_type": "stream",
     "text": [
      "epoch: 3, [batch: 5040 / 12600], examples_per_second: 3890.8995, train_label_loss: 0.6591, \n"
     ]
    },
    {
     "name": "stdout",
     "output_type": "stream",
     "text": [
      "epoch: 3, [batch: 6300 / 12600], examples_per_second: 4114.8634, train_label_loss: 0.9150, \n"
     ]
    },
    {
     "name": "stdout",
     "output_type": "stream",
     "text": [
      "epoch: 3, [batch: 7560 / 12600], examples_per_second: 4333.8218, train_label_loss: 0.6399, \n"
     ]
    },
    {
     "name": "stdout",
     "output_type": "stream",
     "text": [
      "epoch: 3, [batch: 8820 / 12600], examples_per_second: 4587.9313, train_label_loss: 0.7968, \n"
     ]
    },
    {
     "name": "stdout",
     "output_type": "stream",
     "text": [
      "epoch: 3, [batch: 10080 / 12600], examples_per_second: 3947.6182, train_label_loss: 0.7491, \n"
     ]
    },
    {
     "name": "stdout",
     "output_type": "stream",
     "text": [
      "epoch: 3, [batch: 11340 / 12600], examples_per_second: 3915.4115, train_label_loss: 0.8790, \n"
     ]
    },
    {
     "name": "stdout",
     "output_type": "stream",
     "text": [
      "=============================================================\n",
      "epoch: 3, source_val_acc_label: 0.6604, target_val_acc_label: 0.5889, source_val_label_loss: 0.8835, target_val_label_loss: 1.0875, \n",
      "=============================================================\n"
     ]
    },
    {
     "name": "stdout",
     "output_type": "stream",
     "text": [
      "New best\n"
     ]
    },
    {
     "name": "stdout",
     "output_type": "stream",
     "text": [
      "epoch: 4, [batch: 1 / 12600], examples_per_second: 1.7553, train_label_loss: 0.9456, \n"
     ]
    },
    {
     "name": "stdout",
     "output_type": "stream",
     "text": [
      "epoch: 4, [batch: 1260 / 12600], examples_per_second: 4009.9606, train_label_loss: 0.7974, \n"
     ]
    },
    {
     "name": "stdout",
     "output_type": "stream",
     "text": [
      "epoch: 4, [batch: 2520 / 12600], examples_per_second: 3988.1901, train_label_loss: 0.5484, \n"
     ]
    },
    {
     "name": "stdout",
     "output_type": "stream",
     "text": [
      "epoch: 4, [batch: 3780 / 12600], examples_per_second: 3987.5266, train_label_loss: 0.5976, \n"
     ]
    },
    {
     "name": "stdout",
     "output_type": "stream",
     "text": [
      "epoch: 4, [batch: 5040 / 12600], examples_per_second: 3990.6620, train_label_loss: 0.5576, \n"
     ]
    },
    {
     "name": "stdout",
     "output_type": "stream",
     "text": [
      "epoch: 4, [batch: 6300 / 12600], examples_per_second: 4308.1256, train_label_loss: 0.5940, \n"
     ]
    },
    {
     "name": "stdout",
     "output_type": "stream",
     "text": [
      "epoch: 4, [batch: 7560 / 12600], examples_per_second: 4236.3680, train_label_loss: 0.3331, \n"
     ]
    },
    {
     "name": "stdout",
     "output_type": "stream",
     "text": [
      "epoch: 4, [batch: 8820 / 12600], examples_per_second: 4736.1934, train_label_loss: 0.6504, \n"
     ]
    },
    {
     "name": "stdout",
     "output_type": "stream",
     "text": [
      "epoch: 4, [batch: 10080 / 12600], examples_per_second: 3968.5112, train_label_loss: 0.5543, \n"
     ]
    },
    {
     "name": "stdout",
     "output_type": "stream",
     "text": [
      "epoch: 4, [batch: 11340 / 12600], examples_per_second: 4011.2537, train_label_loss: 0.8478, \n"
     ]
    },
    {
     "name": "stdout",
     "output_type": "stream",
     "text": [
      "=============================================================\n",
      "epoch: 4, source_val_acc_label: 0.6812, target_val_acc_label: 0.6061, source_val_label_loss: 0.8654, target_val_label_loss: 1.0590, \n",
      "=============================================================\n"
     ]
    },
    {
     "name": "stdout",
     "output_type": "stream",
     "text": [
      "New best\n"
     ]
    },
    {
     "name": "stdout",
     "output_type": "stream",
     "text": [
      "epoch: 5, [batch: 1 / 12600], examples_per_second: 0.6876, train_label_loss: 0.4961, \n"
     ]
    },
    {
     "name": "stdout",
     "output_type": "stream",
     "text": [
      "epoch: 5, [batch: 1260 / 12600], examples_per_second: 3830.9738, train_label_loss: 0.7305, \n"
     ]
    },
    {
     "name": "stdout",
     "output_type": "stream",
     "text": [
      "epoch: 5, [batch: 2520 / 12600], examples_per_second: 2207.4253, train_label_loss: 0.4293, \n"
     ]
    },
    {
     "name": "stdout",
     "output_type": "stream",
     "text": [
      "epoch: 5, [batch: 3780 / 12600], examples_per_second: 1791.0489, train_label_loss: 0.5365, \n"
     ]
    },
    {
     "name": "stdout",
     "output_type": "stream",
     "text": [
      "epoch: 5, [batch: 5040 / 12600], examples_per_second: 2164.3519, train_label_loss: 0.4711, \n"
     ]
    },
    {
     "name": "stdout",
     "output_type": "stream",
     "text": [
      "epoch: 5, [batch: 6300 / 12600], examples_per_second: 4302.3080, train_label_loss: 0.8193, \n"
     ]
    },
    {
     "name": "stdout",
     "output_type": "stream",
     "text": [
      "epoch: 5, [batch: 7560 / 12600], examples_per_second: 2625.2185, train_label_loss: 0.5058, \n"
     ]
    },
    {
     "name": "stdout",
     "output_type": "stream",
     "text": [
      "epoch: 5, [batch: 8820 / 12600], examples_per_second: 1787.5841, train_label_loss: 0.5340, \n"
     ]
    },
    {
     "name": "stdout",
     "output_type": "stream",
     "text": [
      "epoch: 5, [batch: 10080 / 12600], examples_per_second: 1921.7279, train_label_loss: 0.5441, \n"
     ]
    },
    {
     "name": "stdout",
     "output_type": "stream",
     "text": [
      "epoch: 5, [batch: 11340 / 12600], examples_per_second: 3823.6918, train_label_loss: 0.7590, \n"
     ]
    },
    {
     "name": "stdout",
     "output_type": "stream",
     "text": [
      "=============================================================\n",
      "epoch: 5, source_val_acc_label: 0.6780, target_val_acc_label: 0.5991, source_val_label_loss: 0.8866, target_val_label_loss: 1.0931, \n",
      "=============================================================\n"
     ]
    },
    {
     "name": "stdout",
     "output_type": "stream",
     "text": [
      "epoch: 6, [batch: 1 / 12600], examples_per_second: 0.6653, train_label_loss: 0.5118, \n"
     ]
    },
    {
     "name": "stdout",
     "output_type": "stream",
     "text": [
      "epoch: 6, [batch: 1260 / 12600], examples_per_second: 1788.4343, train_label_loss: 0.4601, \n"
     ]
    },
    {
     "name": "stdout",
     "output_type": "stream",
     "text": [
      "epoch: 6, [batch: 2520 / 12600], examples_per_second: 1792.7346, train_label_loss: 0.9311, \n"
     ]
    },
    {
     "name": "stdout",
     "output_type": "stream",
     "text": [
      "epoch: 6, [batch: 3780 / 12600], examples_per_second: 3836.0859, train_label_loss: 0.4540, \n"
     ]
    },
    {
     "name": "stdout",
     "output_type": "stream",
     "text": [
      "epoch: 6, [batch: 5040 / 12600], examples_per_second: 3301.0873, train_label_loss: 0.4636, \n"
     ]
    },
    {
     "name": "stdout",
     "output_type": "stream",
     "text": [
      "epoch: 6, [batch: 6300 / 12600], examples_per_second: 2006.2272, train_label_loss: 0.4167, \n"
     ]
    },
    {
     "name": "stdout",
     "output_type": "stream",
     "text": [
      "epoch: 6, [batch: 7560 / 12600], examples_per_second: 1927.0275, train_label_loss: 0.4674, \n"
     ]
    },
    {
     "name": "stdout",
     "output_type": "stream",
     "text": [
      "epoch: 6, [batch: 8820 / 12600], examples_per_second: 1763.6654, train_label_loss: 0.5381, \n"
     ]
    },
    {
     "name": "stdout",
     "output_type": "stream",
     "text": [
      "epoch: 6, [batch: 10080 / 12600], examples_per_second: 1875.6448, train_label_loss: 0.5655, \n"
     ]
    },
    {
     "name": "stdout",
     "output_type": "stream",
     "text": [
      "epoch: 6, [batch: 11340 / 12600], examples_per_second: 3738.0648, train_label_loss: 0.3472, \n"
     ]
    },
    {
     "name": "stdout",
     "output_type": "stream",
     "text": [
      "=============================================================\n",
      "epoch: 6, source_val_acc_label: 0.6832, target_val_acc_label: 0.6101, source_val_label_loss: 0.9213, target_val_label_loss: 1.1096, \n",
      "=============================================================\n"
     ]
    },
    {
     "name": "stdout",
     "output_type": "stream",
     "text": [
      "New best\n"
     ]
    },
    {
     "name": "stdout",
     "output_type": "stream",
     "text": [
      "epoch: 7, [batch: 1 / 12600], examples_per_second: 0.6801, train_label_loss: 0.4673, \n"
     ]
    },
    {
     "name": "stdout",
     "output_type": "stream",
     "text": [
      "epoch: 7, [batch: 1260 / 12600], examples_per_second: 3971.5543, train_label_loss: 0.4908, \n"
     ]
    },
    {
     "name": "stdout",
     "output_type": "stream",
     "text": [
      "epoch: 7, [batch: 2520 / 12600], examples_per_second: 2017.3084, train_label_loss: 0.6658, \n"
     ]
    },
    {
     "name": "stdout",
     "output_type": "stream",
     "text": [
      "epoch: 7, [batch: 3780 / 12600], examples_per_second: 1939.4388, train_label_loss: 0.2420, \n"
     ]
    },
    {
     "name": "stdout",
     "output_type": "stream",
     "text": [
      "epoch: 7, [batch: 5040 / 12600], examples_per_second: 1924.6244, train_label_loss: 0.3471, \n"
     ]
    },
    {
     "name": "stdout",
     "output_type": "stream",
     "text": [
      "epoch: 7, [batch: 6300 / 12600], examples_per_second: 1967.3057, train_label_loss: 0.5090, \n"
     ]
    },
    {
     "name": "stdout",
     "output_type": "stream",
     "text": [
      "epoch: 7, [batch: 7560 / 12600], examples_per_second: 1824.6874, train_label_loss: 0.2287, \n"
     ]
    },
    {
     "name": "stdout",
     "output_type": "stream",
     "text": [
      "epoch: 7, [batch: 8820 / 12600], examples_per_second: 1780.7762, train_label_loss: 0.1882, \n"
     ]
    },
    {
     "name": "stdout",
     "output_type": "stream",
     "text": [
      "epoch: 7, [batch: 10080 / 12600], examples_per_second: 2278.4562, train_label_loss: 0.1852, \n"
     ]
    },
    {
     "name": "stdout",
     "output_type": "stream",
     "text": [
      "epoch: 7, [batch: 11340 / 12600], examples_per_second: 3845.7096, train_label_loss: 0.3715, \n"
     ]
    },
    {
     "name": "stdout",
     "output_type": "stream",
     "text": [
      "=============================================================\n",
      "epoch: 7, source_val_acc_label: 0.6778, target_val_acc_label: 0.6025, source_val_label_loss: 0.9488, target_val_label_loss: 1.1536, \n",
      "=============================================================\n"
     ]
    },
    {
     "name": "stdout",
     "output_type": "stream",
     "text": [
      "epoch: 8, [batch: 1 / 12600], examples_per_second: 0.6725, train_label_loss: 0.2487, \n"
     ]
    },
    {
     "name": "stdout",
     "output_type": "stream",
     "text": [
      "epoch: 8, [batch: 1260 / 12600], examples_per_second: 2838.1431, train_label_loss: 0.4051, \n"
     ]
    },
    {
     "name": "stdout",
     "output_type": "stream",
     "text": [
      "epoch: 8, [batch: 2520 / 12600], examples_per_second: 1951.0548, train_label_loss: 0.1714, \n"
     ]
    },
    {
     "name": "stdout",
     "output_type": "stream",
     "text": [
      "epoch: 8, [batch: 3780 / 12600], examples_per_second: 1949.2677, train_label_loss: 0.2834, \n"
     ]
    },
    {
     "name": "stdout",
     "output_type": "stream",
     "text": [
      "epoch: 8, [batch: 5040 / 12600], examples_per_second: 3593.2959, train_label_loss: 0.0948, \n"
     ]
    },
    {
     "name": "stdout",
     "output_type": "stream",
     "text": [
      "epoch: 8, [batch: 6300 / 12600], examples_per_second: 3603.6430, train_label_loss: 0.7448, \n"
     ]
    },
    {
     "name": "stdout",
     "output_type": "stream",
     "text": [
      "epoch: 8, [batch: 7560 / 12600], examples_per_second: 1811.5059, train_label_loss: 0.4648, \n"
     ]
    },
    {
     "name": "stdout",
     "output_type": "stream",
     "text": [
      "epoch: 8, [batch: 8820 / 12600], examples_per_second: 1771.9766, train_label_loss: 0.1838, \n"
     ]
    },
    {
     "name": "stdout",
     "output_type": "stream",
     "text": [
      "epoch: 8, [batch: 10080 / 12600], examples_per_second: 1797.2606, train_label_loss: 0.5792, \n"
     ]
    },
    {
     "name": "stdout",
     "output_type": "stream",
     "text": [
      "epoch: 8, [batch: 11340 / 12600], examples_per_second: 1782.1216, train_label_loss: 0.1874, \n"
     ]
    },
    {
     "name": "stdout",
     "output_type": "stream",
     "text": [
      "=============================================================\n",
      "epoch: 8, source_val_acc_label: 0.6774, target_val_acc_label: 0.5969, source_val_label_loss: 0.9935, target_val_label_loss: 1.1996, \n",
      "=============================================================\n"
     ]
    },
    {
     "name": "stdout",
     "output_type": "stream",
     "text": [
      "epoch: 9, [batch: 1 / 12600], examples_per_second: 0.9770, train_label_loss: 0.3444, \n"
     ]
    },
    {
     "name": "stdout",
     "output_type": "stream",
     "text": [
      "epoch: 9, [batch: 1260 / 12600], examples_per_second: 1780.6860, train_label_loss: 0.4143, \n"
     ]
    },
    {
     "name": "stdout",
     "output_type": "stream",
     "text": [
      "epoch: 9, [batch: 2520 / 12600], examples_per_second: 1831.3606, train_label_loss: 0.4428, \n"
     ]
    },
    {
     "name": "stdout",
     "output_type": "stream",
     "text": [
      "epoch: 9, [batch: 3780 / 12600], examples_per_second: 1934.4407, train_label_loss: 0.2046, \n"
     ]
    },
    {
     "name": "stdout",
     "output_type": "stream",
     "text": [
      "epoch: 9, [batch: 5040 / 12600], examples_per_second: 2211.9044, train_label_loss: 0.5779, \n"
     ]
    },
    {
     "name": "stdout",
     "output_type": "stream",
     "text": [
      "epoch: 9, [batch: 6300 / 12600], examples_per_second: 4464.5703, train_label_loss: 0.1074, \n"
     ]
    },
    {
     "name": "stdout",
     "output_type": "stream",
     "text": [
      "epoch: 9, [batch: 7560 / 12600], examples_per_second: 2454.8482, train_label_loss: 0.5266, \n"
     ]
    },
    {
     "name": "stdout",
     "output_type": "stream",
     "text": [
      "epoch: 9, [batch: 8820 / 12600], examples_per_second: 1919.4929, train_label_loss: 0.4043, \n"
     ]
    },
    {
     "name": "stdout",
     "output_type": "stream",
     "text": [
      "epoch: 9, [batch: 10080 / 12600], examples_per_second: 1938.5586, train_label_loss: 0.0988, \n"
     ]
    },
    {
     "name": "stdout",
     "output_type": "stream",
     "text": [
      "epoch: 9, [batch: 11340 / 12600], examples_per_second: 1960.7150, train_label_loss: 0.2946, \n"
     ]
    },
    {
     "name": "stdout",
     "output_type": "stream",
     "text": [
      "=============================================================\n",
      "epoch: 9, source_val_acc_label: 0.6883, target_val_acc_label: 0.6029, source_val_label_loss: 1.0563, target_val_label_loss: 1.2801, \n",
      "=============================================================\n"
     ]
    },
    {
     "name": "stdout",
     "output_type": "stream",
     "text": [
      "epoch: 10, [batch: 1 / 12600], examples_per_second: 0.9395, train_label_loss: 0.3738, \n"
     ]
    },
    {
     "name": "stdout",
     "output_type": "stream",
     "text": [
      "epoch: 10, [batch: 1260 / 12600], examples_per_second: 2077.3136, train_label_loss: 0.3862, \n"
     ]
    },
    {
     "name": "stdout",
     "output_type": "stream",
     "text": [
      "epoch: 10, [batch: 2520 / 12600], examples_per_second: 1933.0720, train_label_loss: 0.3465, \n"
     ]
    },
    {
     "name": "stdout",
     "output_type": "stream",
     "text": [
      "epoch: 10, [batch: 3780 / 12600], examples_per_second: 1927.5621, train_label_loss: 0.1257, \n"
     ]
    },
    {
     "name": "stdout",
     "output_type": "stream",
     "text": [
      "epoch: 10, [batch: 5040 / 12600], examples_per_second: 2220.7716, train_label_loss: 0.1564, \n"
     ]
    },
    {
     "name": "stdout",
     "output_type": "stream",
     "text": [
      "epoch: 10, [batch: 6300 / 12600], examples_per_second: 2332.4070, train_label_loss: 0.2283, \n"
     ]
    },
    {
     "name": "stdout",
     "output_type": "stream",
     "text": [
      "epoch: 10, [batch: 7560 / 12600], examples_per_second: 2288.0582, train_label_loss: 0.2708, \n"
     ]
    },
    {
     "name": "stdout",
     "output_type": "stream",
     "text": [
      "epoch: 10, [batch: 8820 / 12600], examples_per_second: 3162.2363, train_label_loss: 0.2163, \n"
     ]
    },
    {
     "name": "stdout",
     "output_type": "stream",
     "text": [
      "epoch: 10, [batch: 10080 / 12600], examples_per_second: 5493.2194, train_label_loss: 0.1528, \n"
     ]
    },
    {
     "name": "stdout",
     "output_type": "stream",
     "text": [
      "epoch: 10, [batch: 11340 / 12600], examples_per_second: 3290.2694, train_label_loss: 0.6086, \n"
     ]
    },
    {
     "name": "stdout",
     "output_type": "stream",
     "text": [
      "=============================================================\n",
      "epoch: 10, source_val_acc_label: 0.6757, target_val_acc_label: 0.5962, source_val_label_loss: 1.1185, target_val_label_loss: 1.3288, \n",
      "=============================================================\n"
     ]
    },
    {
     "name": "stdout",
     "output_type": "stream",
     "text": [
      "Patience (3) exhausted\n"
     ]
    }
   ],
   "source": [
    "###################################\n",
    "# train\n",
    "###################################\n",
    "jig = PTN_Train_Eval_Test_Jig(model, p.BEST_MODEL_PATH, p.device)\n",
    "\n",
    "jig.train(\n",
    "    train_iterable=datasets.source.processed.train,\n",
    "    source_val_iterable=datasets.source.processed.val,\n",
    "    target_val_iterable=datasets.target.processed.val,\n",
    "    num_epochs=p.n_epoch,\n",
    "    num_logs_per_epoch=p.NUM_LOGS_PER_EPOCH,\n",
    "    patience=p.patience,\n",
    "    optimizer=optimizer,\n",
    "    criteria_for_best=p.criteria_for_best,\n",
    ")"
   ]
  },
  {
   "cell_type": "code",
   "execution_count": 14,
   "id": "31e8fabf",
   "metadata": {
    "execution": {
     "iopub.execute_input": "2022-03-26T04:34:06.632314Z",
     "iopub.status.busy": "2022-03-26T04:34:06.631937Z",
     "iopub.status.idle": "2022-03-26T04:34:06.663815Z",
     "shell.execute_reply": "2022-03-26T04:34:06.662991Z"
    },
    "papermill": {
     "duration": 0.082073,
     "end_time": "2022-03-26T04:34:06.663971",
     "exception": false,
     "start_time": "2022-03-26T04:34:06.581898",
     "status": "completed"
    },
    "tags": []
   },
   "outputs": [],
   "source": [
    "total_experiment_time_secs = time.time() - start_time_secs"
   ]
  },
  {
   "cell_type": "code",
   "execution_count": 15,
   "id": "87b9595b",
   "metadata": {
    "execution": {
     "iopub.execute_input": "2022-03-26T04:34:06.773623Z",
     "iopub.status.busy": "2022-03-26T04:34:06.772759Z",
     "iopub.status.idle": "2022-03-26T04:46:36.765463Z",
     "shell.execute_reply": "2022-03-26T04:46:36.764937Z"
    },
    "papermill": {
     "duration": 750.049024,
     "end_time": "2022-03-26T04:46:36.765589",
     "exception": false,
     "start_time": "2022-03-26T04:34:06.716565",
     "status": "completed"
    },
    "tags": []
   },
   "outputs": [],
   "source": [
    "###################################\n",
    "# Evaluate the model\n",
    "###################################\n",
    "source_test_label_accuracy, source_test_label_loss = jig.test(datasets.source.processed.test)\n",
    "target_test_label_accuracy, target_test_label_loss = jig.test(datasets.target.processed.test)\n",
    "\n",
    "source_val_label_accuracy, source_val_label_loss = jig.test(datasets.source.processed.val)\n",
    "target_val_label_accuracy, target_val_label_loss = jig.test(datasets.target.processed.val)\n",
    "\n",
    "history = jig.get_history()\n",
    "\n",
    "total_epochs_trained = len(history[\"epoch_indices\"])\n",
    "\n",
    "val_dl = Iterable_Aggregator((datasets.source.original.val,datasets.target.original.val))\n",
    "\n",
    "confusion = ptn_confusion_by_domain_over_dataloader(model, p.device, val_dl)\n",
    "per_domain_accuracy = per_domain_accuracy_from_confusion(confusion)\n",
    "\n",
    "# Add a key to per_domain_accuracy for if it was a source domain\n",
    "for domain, accuracy in per_domain_accuracy.items():\n",
    "    per_domain_accuracy[domain] = {\n",
    "        \"accuracy\": accuracy,\n",
    "        \"source?\": domain in p.domains_source\n",
    "    }\n",
    "\n",
    "# Do an independent accuracy assesment JUST TO BE SURE!\n",
    "# _source_test_label_accuracy = independent_accuracy_assesment(model, datasets.source.processed.test, p.device)\n",
    "# _target_test_label_accuracy = independent_accuracy_assesment(model, datasets.target.processed.test, p.device)\n",
    "# _source_val_label_accuracy = independent_accuracy_assesment(model, datasets.source.processed.val, p.device)\n",
    "# _target_val_label_accuracy = independent_accuracy_assesment(model, datasets.target.processed.val, p.device)\n",
    "\n",
    "# assert(_source_test_label_accuracy == source_test_label_accuracy)\n",
    "# assert(_target_test_label_accuracy == target_test_label_accuracy)\n",
    "# assert(_source_val_label_accuracy == source_val_label_accuracy)\n",
    "# assert(_target_val_label_accuracy == target_val_label_accuracy)\n",
    "\n",
    "experiment = {\n",
    "    \"experiment_name\": p.experiment_name,\n",
    "    \"parameters\": dict(p),\n",
    "    \"results\": {\n",
    "        \"source_test_label_accuracy\": source_test_label_accuracy,\n",
    "        \"source_test_label_loss\": source_test_label_loss,\n",
    "        \"target_test_label_accuracy\": target_test_label_accuracy,\n",
    "        \"target_test_label_loss\": target_test_label_loss,\n",
    "        \"source_val_label_accuracy\": source_val_label_accuracy,\n",
    "        \"source_val_label_loss\": source_val_label_loss,\n",
    "        \"target_val_label_accuracy\": target_val_label_accuracy,\n",
    "        \"target_val_label_loss\": target_val_label_loss,\n",
    "        \"total_epochs_trained\": total_epochs_trained,\n",
    "        \"total_experiment_time_secs\": total_experiment_time_secs,\n",
    "        \"confusion\": confusion,\n",
    "        \"per_domain_accuracy\": per_domain_accuracy,\n",
    "    },\n",
    "    \"history\": history,\n",
    "    \"dataset_metrics\": get_dataset_metrics(datasets, \"ptn\"),\n",
    "}"
   ]
  },
  {
   "cell_type": "code",
   "execution_count": 16,
   "id": "54a21829",
   "metadata": {
    "execution": {
     "iopub.execute_input": "2022-03-26T04:46:36.888483Z",
     "iopub.status.busy": "2022-03-26T04:46:36.888095Z",
     "iopub.status.idle": "2022-03-26T04:46:37.120014Z",
     "shell.execute_reply": "2022-03-26T04:46:37.120698Z"
    },
    "papermill": {
     "duration": 0.286188,
     "end_time": "2022-03-26T04:46:37.120912",
     "exception": false,
     "start_time": "2022-03-26T04:46:36.834724",
     "status": "completed"
    },
    "tags": []
   },
   "outputs": [
    {
     "data": {
      "image/png": "[encoded data removed]",
      "text/plain": [
       "<Figure size 1080x504 with 1 Axes>"
      ]
     },
     "metadata": {
      "needs_background": "light"
     },
     "output_type": "display_data"
    }
   ],
   "source": [
    "ax = get_loss_curve(experiment)\n",
    "plt.show()"
   ]
  },
  {
   "cell_type": "code",
   "execution_count": 17,
   "id": "fd8a0f60",
   "metadata": {
    "execution": {
     "iopub.execute_input": "2022-03-26T04:46:37.232415Z",
     "iopub.status.busy": "2022-03-26T04:46:37.231993Z",
     "iopub.status.idle": "2022-03-26T04:46:37.573473Z",
     "shell.execute_reply": "2022-03-26T04:46:37.574161Z"
    },
    "papermill": {
     "duration": 0.397006,
     "end_time": "2022-03-26T04:46:37.574375",
     "exception": false,
     "start_time": "2022-03-26T04:46:37.177369",
     "status": "completed"
    },
    "tags": []
   },
   "outputs": [
    {
     "data": {
      "text/plain": [
       "<AxesSubplot:title={'center':'Results'}>"
      ]
     },
     "execution_count": 17,
     "metadata": {},
     "output_type": "execute_result"
    },
    {
     "data": {
      "image/png": "[encoded data removed]",
      "text/plain": [
       "<Figure size 1080x504 with 1 Axes>"
      ]
     },
     "metadata": {
      "needs_background": "light"
     },
     "output_type": "display_data"
    }
   ],
   "source": [
    "get_results_table(experiment)"
   ]
  },
  {
   "cell_type": "code",
   "execution_count": 18,
   "id": "cf8dc689",
   "metadata": {
    "execution": {
     "iopub.execute_input": "2022-03-26T04:46:37.683492Z",
     "iopub.status.busy": "2022-03-26T04:46:37.683112Z",
     "iopub.status.idle": "2022-03-26T04:46:37.893278Z",
     "shell.execute_reply": "2022-03-26T04:46:37.892555Z"
    },
    "papermill": {
     "duration": 0.263167,
     "end_time": "2022-03-26T04:46:37.893437",
     "exception": false,
     "start_time": "2022-03-26T04:46:37.630270",
     "status": "completed"
    },
    "tags": []
   },
   "outputs": [
    {
     "data": {
      "text/plain": [
       "<AxesSubplot:title={'center':'Per Domain Validation Accuracy'}, xlabel='domain'>"
      ]
     },
     "execution_count": 18,
     "metadata": {},
     "output_type": "execute_result"
    },
    {
     "data": {
      "image/png": "[encoded data removed]",
      "text/plain": [
       "<Figure size 1080x504 with 1 Axes>"
      ]
     },
     "metadata": {
      "needs_background": "light"
     },
     "output_type": "display_data"
    }
   ],
   "source": [
    "get_domain_accuracies(experiment)"
   ]
  },
  {
   "cell_type": "code",
   "execution_count": 19,
   "id": "a74ae082",
   "metadata": {
    "execution": {
     "iopub.execute_input": "2022-03-26T04:46:38.007898Z",
     "iopub.status.busy": "2022-03-26T04:46:38.007502Z",
     "iopub.status.idle": "2022-03-26T04:46:38.034044Z",
     "shell.execute_reply": "2022-03-26T04:46:38.034724Z"
    },
    "papermill": {
     "duration": 0.083777,
     "end_time": "2022-03-26T04:46:38.034907",
     "exception": false,
     "start_time": "2022-03-26T04:46:37.951130",
     "status": "completed"
    },
    "tags": []
   },
   "outputs": [
    {
     "name": "stdout",
     "output_type": "stream",
     "text": [
      "Source Test Label Accuracy: 0.6881770833333334 Target Test Label Accuracy: 0.6060104166666667\n",
      "Source Val Label Accuracy: 0.6832465277777777 Target Val Label Accuracy: 0.6100729166666666\n"
     ]
    }
   ],
   "source": [
    "print(\"Source Test Label Accuracy:\", experiment[\"results\"][\"source_test_label_accuracy\"], \"Target Test Label Accuracy:\", experiment[\"results\"][\"target_test_label_accuracy\"])\n",
    "print(\"Source Val Label Accuracy:\", experiment[\"results\"][\"source_val_label_accuracy\"], \"Target Val Label Accuracy:\", experiment[\"results\"][\"target_val_label_accuracy\"])"
   ]
  },
  {
   "cell_type": "code",
   "execution_count": 20,
   "id": "dacca602",
   "metadata": {
    "execution": {
     "iopub.execute_input": "2022-03-26T04:46:38.147742Z",
     "iopub.status.busy": "2022-03-26T04:46:38.147365Z",
     "iopub.status.idle": "2022-03-26T04:46:38.173008Z",
     "shell.execute_reply": "2022-03-26T04:46:38.173692Z"
    },
    "papermill": {
     "duration": 0.081841,
     "end_time": "2022-03-26T04:46:38.173873",
     "exception": false,
     "start_time": "2022-03-26T04:46:38.092032",
     "status": "completed"
    },
    "tags": [
     "experiment_json"
    ]
   },
   "outputs": [
    {
     "data": {
      "text/plain": [
       "'{\"experiment_name\": \"tuned_1v2:oracle.run1_limited\", \"parameters\": {\"experiment_name\": \"tuned_1v2:oracle.run1_limited\", \"device\": \"cuda\", \"lr\": 0.0001, \"labels_source\": [\"3123D52\", \"3123D65\", \"3123D79\", \"3123D80\", \"3123D54\", \"3123D70\", \"3123D7B\", \"3123D89\", \"3123D58\", \"3123D76\", \"3123D7D\", \"3123EFE\", \"3123D64\", \"3123D78\", \"3123D7E\", \"3124E4A\"], \"labels_target\": [\"3123D52\", \"3123D65\", \"3123D79\", \"3123D80\", \"3123D54\", \"3123D70\", \"3123D7B\", \"3123D89\", \"3123D58\", \"3123D76\", \"3123D7D\", \"3123EFE\", \"3123D64\", \"3123D78\", \"3123D7E\", \"3124E4A\"], \"episode_transforms_source\": [], \"episode_transforms_target\": [], \"domains_source\": [8, 32, 50], \"domains_target\": [14, 20, 26, 38, 44], \"num_examples_per_domain_per_label_source\": -1, \"num_examples_per_domain_per_label_target\": -1, \"n_shot\": 3, \"n_way\": 16, \"n_query\": 2, \"train_k_factor\": 3, \"val_k_factor\": 2, \"test_k_factor\": 2, \"torch_default_dtype\": \"torch.float32\", \"n_epoch\": 50, \"patience\": 3, \"criteria_for_best\": \"target_accuracy\", \"x_net\": [{\"class\": \"nnReshape\", \"kargs\": {\"shape\": [-1, 1, 2, 256]}}, {\"class\": \"Conv2d\", \"kargs\": {\"in_channels\": 1, \"out_channels\": 256, \"kernel_size\": [1, 7], \"bias\": false, \"padding\": [0, 3]}}, {\"class\": \"ReLU\", \"kargs\": {\"inplace\": true}}, {\"class\": \"BatchNorm2d\", \"kargs\": {\"num_features\": 256}}, {\"class\": \"Conv2d\", \"kargs\": {\"in_channels\": 256, \"out_channels\": 80, \"kernel_size\": [2, 7], \"bias\": true, \"padding\": [0, 3]}}, {\"class\": \"ReLU\", \"kargs\": {\"inplace\": true}}, {\"class\": \"BatchNorm2d\", \"kargs\": {\"num_features\": 80}}, {\"class\": \"Flatten\", \"kargs\": {}}, {\"class\": \"Linear\", \"kargs\": {\"in_features\": 20480, \"out_features\": 256}}, {\"class\": \"ReLU\", \"kargs\": {\"inplace\": true}}, {\"class\": \"BatchNorm1d\", \"kargs\": {\"num_features\": 256}}, {\"class\": \"Linear\", \"kargs\": {\"in_features\": 256, \"out_features\": 256}}], \"NUM_LOGS_PER_EPOCH\": 10, \"BEST_MODEL_PATH\": \"./best_model.pth\", \"pickle_name\": \"oracle.Run1_10kExamples_stratified_ds.2022A.pkl\", \"x_transforms_source\": [\"unit_mag\"], \"x_transforms_target\": [\"unit_mag\"], \"dataset_seed\": 154325, \"seed\": 154325}, \"results\": {\"source_test_label_accuracy\": 0.6881770833333334, \"source_test_label_loss\": 0.9112311601638794, \"target_test_label_accuracy\": 0.6060104166666667, \"target_test_label_loss\": 1.1241906881332397, \"source_val_label_accuracy\": 0.6832465277777777, \"source_val_label_loss\": 0.9213338494300842, \"target_val_label_accuracy\": 0.6100729166666666, \"target_val_label_loss\": 1.1096069812774658, \"total_epochs_trained\": 10, \"total_experiment_time_secs\": 5183.3590342998505, \"confusion\": {\"32\": {\"13\": {\"7\": 126, \"13\": 390, \"5\": 328, \"8\": 101, \"3\": 82, \"0\": 37, \"14\": 49, \"4\": 52, \"11\": 35}, \"9\": {\"9\": 1199, \"12\": 1}, \"15\": {\"15\": 1187, \"8\": 10, \"3\": 3}, \"2\": {\"4\": 190, \"2\": 939, \"7\": 22, \"0\": 41, \"5\": 4, \"14\": 4}, \"3\": {\"3\": 1066, \"11\": 47, \"8\": 21, \"13\": 46, \"5\": 15, \"14\": 5}, \"8\": {\"8\": 830, \"0\": 104, \"13\": 129, \"3\": 29, \"7\": 9, \"5\": 90, \"4\": 6, \"15\": 2, \"11\": 1}, \"5\": {\"5\": 323, \"13\": 310, \"7\": 144, \"0\": 69, \"2\": 11, \"14\": 30, \"8\": 99, \"4\": 132, \"3\": 50, \"11\": 32}, \"14\": {\"11\": 335, \"14\": 434, \"7\": 237, \"4\": 40, \"13\": 51, \"3\": 14, \"5\": 38, \"0\": 27, \"2\": 18, \"8\": 6}, \"1\": {\"1\": 1195, \"10\": 5}, \"0\": {\"0\": 697, \"8\": 106, \"4\": 167, \"2\": 79, \"5\": 49, \"13\": 36, \"7\": 52, \"14\": 14}, \"10\": {\"10\": 1194, \"1\": 6}, \"6\": {\"6\": 1199, \"12\": 1}, \"11\": {\"11\": 862, \"14\": 238, \"3\": 27, \"13\": 28, \"7\": 33, \"5\": 12}, \"7\": {\"5\": 122, \"7\": 471, \"13\": 100, \"14\": 213, \"4\": 183, \"2\": 36, \"11\": 48, \"0\": 24, \"3\": 2, \"8\": 1}, \"4\": {\"4\": 562, \"0\": 124, \"13\": 34, \"7\": 171, \"5\": 71, \"14\": 17, \"2\": 217, \"8\": 4}, \"12\": {\"12\": 1200}}, \"50\": {\"10\": {\"10\": 1080, \"0\": 49, \"13\": 25, \"8\": 15, \"7\": 29, \"5\": 2}, \"12\": {\"12\": 1085, \"14\": 53, \"9\": 59, \"11\": 3}, \"1\": {\"1\": 658, \"15\": 286, \"6\": 94, \"4\": 149, \"5\": 4, \"11\": 5, \"14\": 2, \"2\": 2}, \"0\": {\"0\": 972, \"2\": 152, \"10\": 68, \"13\": 7, \"5\": 1}, \"15\": {\"15\": 772, \"1\": 249, \"4\": 120, \"11\": 47, \"6\": 8, \"14\": 2, \"9\": 1, \"5\": 1}, \"13\": {\"7\": 224, \"13\": 606, \"5\": 253, \"6\": 84, \"4\": 18, \"0\": 8, \"10\": 7}, \"8\": {\"8\": 1163, \"10\": 24, \"3\": 13}, \"3\": {\"3\": 1159, \"8\": 41}, \"11\": {\"11\": 1017, \"9\": 117, \"14\": 19, \"15\": 38, \"12\": 9}, \"4\": {\"4\": 442, \"5\": 110, \"15\": 196, \"1\": 218, \"6\": 181, \"13\": 29, \"7\": 24}, \"6\": {\"6\": 725, \"4\": 144, \"13\": 82, \"5\": 93, \"1\": 139, \"7\": 6, \"15\": 7, \"2\": 2, \"0\": 2}, \"7\": {\"5\": 183, \"7\": 705, \"10\": 43, \"13\": 256, \"4\": 6, \"6\": 7}, \"14\": {\"14\": 1158, \"12\": 26, \"11\": 14, \"9\": 2}, \"2\": {\"2\": 1109, \"0\": 89, \"1\": 1, \"6\": 1}, \"5\": {\"6\": 221, \"5\": 302, \"7\": 253, \"13\": 245, \"4\": 137, \"1\": 24, \"10\": 15, \"0\": 2, \"15\": 1}, \"9\": {\"9\": 894, \"12\": 119, \"14\": 6, \"11\": 181}}, \"8\": {\"14\": {\"4\": 226, \"10\": 201, \"14\": 541, \"13\": 108, \"1\": 86, \"6\": 8, \"11\": 20, \"0\": 8, \"5\": 2}, \"10\": {\"10\": 712, \"13\": 120, \"14\": 239, \"4\": 53, \"5\": 43, \"0\": 6, \"1\": 26, \"11\": 1}, \"2\": {\"2\": 863, \"3\": 235, \"7\": 28, \"15\": 39, \"12\": 32, \"8\": 3}, \"8\": {\"8\": 1062, \"15\": 82, \"7\": 18, \"12\": 10, \"6\": 24, \"11\": 3, \"4\": 1}, \"6\": {\"7\": 331, \"6\": 555, \"0\": 103, \"8\": 21, \"4\": 135, \"13\": 37, \"14\": 15, \"1\": 2, \"15\": 1}, \"7\": {\"7\": 801, \"6\": 284, \"8\": 16, \"0\": 63, \"4\": 12, \"13\": 6, \"15\": 8, \"12\": 1, \"2\": 9}, \"9\": {\"9\": 1200}, \"11\": {\"11\": 643, \"1\": 474, \"5\": 19, \"4\": 6, \"14\": 31, \"8\": 19, \"6\": 3, \"10\": 5}, \"12\": {\"12\": 540, \"15\": 371, \"8\": 29, \"3\": 221, \"7\": 2, \"2\": 37}, \"13\": {\"14\": 119, \"13\": 350, \"0\": 312, \"10\": 155, \"1\": 4, \"4\": 194, \"6\": 58, \"5\": 1, \"7\": 7}, \"0\": {\"6\": 103, \"0\": 645, \"13\": 262, \"7\": 96, \"4\": 72, \"10\": 16, \"14\": 6}, \"3\": {\"3\": 884, \"2\": 187, \"12\": 121, \"15\": 8}, \"4\": {\"6\": 144, \"0\": 77, \"14\": 193, \"4\": 510, \"13\": 224, \"7\": 8, \"10\": 32, \"11\": 5, \"1\": 5, \"8\": 2}, \"15\": {\"15\": 787, \"12\": 301, \"8\": 63, \"7\": 13, \"2\": 21, \"3\": 15}, \"5\": {\"5\": 1022, \"10\": 93, \"14\": 22, \"1\": 50, \"13\": 2, \"11\": 11}, \"1\": {\"1\": 645, \"14\": 117, \"11\": 375, \"10\": 26, \"5\": 29, \"4\": 5, \"13\": 2, \"8\": 1}}, \"44\": {\"13\": {\"13\": 748, \"9\": 151, \"6\": 214, \"11\": 68, \"4\": 7, \"7\": 10, \"14\": 2}, \"9\": {\"13\": 147, \"9\": 682, \"6\": 101, \"7\": 249, \"2\": 15, \"11\": 2, \"4\": 3, \"10\": 1}, \"15\": {\"15\": 945, \"5\": 30, \"14\": 105, \"8\": 21, \"0\": 87, \"4\": 12}, \"2\": {\"2\": 817, \"7\": 181, \"1\": 65, \"10\": 114, \"12\": 3, \"6\": 7, \"3\": 9, \"9\": 4}, \"3\": {\"3\": 1023, \"1\": 146, \"2\": 7, \"12\": 20, \"10\": 1, \"7\": 3}, \"8\": {\"8\": 743, \"0\": 382, \"15\": 50, \"5\": 24, \"14\": 1}, \"5\": {\"5\": 1004, \"14\": 38, \"0\": 99, \"4\": 2, \"8\": 15, \"15\": 42}, \"14\": {\"14\": 709, \"4\": 390, \"15\": 78, \"5\": 22, \"0\": 1}, \"1\": {\"12\": 275, \"1\": 609, \"2\": 50, \"10\": 106, \"3\": 158, \"7\": 2}, \"0\": {\"8\": 342, \"0\": 675, \"5\": 107, \"15\": 75, \"14\": 1}, \"10\": {\"10\": 821, \"1\": 110, \"12\": 141, \"2\": 125, \"7\": 2, \"3\": 1}, \"6\": {\"13\": 203, \"6\": 798, \"11\": 38, \"9\": 118, \"7\": 41, \"2\": 2}, \"11\": {\"11\": 1073, \"6\": 49, \"13\": 78}, \"7\": {\"7\": 706, \"2\": 201, \"9\": 231, \"6\": 44, \"13\": 4, \"3\": 9, \"1\": 5}, \"4\": {\"14\": 395, \"4\": 797, \"15\": 8}, \"12\": {\"12\": 787, \"1\": 274, \"10\": 109, \"3\": 30}}, \"38\": {\"13\": {\"13\": 667, \"15\": 368, \"10\": 86, \"2\": 21, \"1\": 20, \"8\": 28, \"5\": 9, \"14\": 1}, \"12\": {\"12\": 1070, \"4\": 40, \"10\": 83, \"14\": 3, \"11\": 4}, \"2\": {\"2\": 1081, \"14\": 73, \"10\": 2, \"13\": 41, \"15\": 2, \"11\": 1}, \"9\": {\"6\": 446, \"9\": 649, \"3\": 87, \"5\": 14, \"0\": 2, \"8\": 2}, \"15\": {\"13\": 334, \"15\": 658, \"1\": 113, \"8\": 59, \"5\": 21, \"10\": 10, \"2\": 4, \"0\": 1}, \"5\": {\"5\": 487, \"0\": 124, \"6\": 74, \"8\": 294, \"7\": 67, \"9\": 36, \"15\": 52, \"1\": 19, \"3\": 35, \"13\": 4, \"10\": 8}, \"14\": {\"14\": 867, \"11\": 236, \"2\": 66, \"10\": 19, \"12\": 11, \"13\": 1}, \"0\": {\"8\": 305, \"10\": 32, \"0\": 337, \"5\": 171, \"7\": 285, \"3\": 42, \"6\": 3, \"9\": 5, \"12\": 7, \"15\": 9, \"4\": 2, \"13\": 2}, \"3\": {\"3\": 999, \"0\": 21, \"7\": 48, \"9\": 105, \"5\": 6, \"6\": 21}, \"1\": {\"1\": 1134, \"15\": 57, \"5\": 7, \"13\": 1, \"8\": 1}, \"11\": {\"14\": 361, \"11\": 785, \"12\": 37, \"10\": 10, \"2\": 6, \"4\": 1}, \"7\": {\"0\": 210, \"7\": 876, \"3\": 19, \"8\": 44, \"5\": 49, \"10\": 1, \"4\": 1}, \"8\": {\"8\": 653, \"5\": 231, \"10\": 34, \"0\": 205, \"7\": 39, \"15\": 25, \"13\": 9, \"12\": 1, \"9\": 2, \"6\": 1}, \"4\": {\"4\": 1113, \"12\": 85, \"10\": 1, \"7\": 1}, \"10\": {\"10\": 810, \"15\": 27, \"14\": 7, \"12\": 149, \"13\": 109, \"8\": 44, \"4\": 9, \"0\": 27, \"5\": 4, \"2\": 3, \"7\": 5, \"11\": 6}, \"6\": {\"6\": 861, \"9\": 320, \"3\": 4, \"5\": 15}}, \"26\": {\"10\": {\"14\": 104, \"10\": 380, \"6\": 99, \"0\": 257, \"15\": 11, \"1\": 50, \"4\": 92, \"8\": 160, \"9\": 40, \"7\": 7}, \"12\": {\"12\": 1191, \"11\": 9}, \"1\": {\"1\": 558, \"14\": 279, \"0\": 108, \"4\": 167, \"10\": 48, \"8\": 14, \"3\": 4, \"7\": 22}, \"0\": {\"0\": 270, \"14\": 179, \"10\": 264, \"4\": 187, \"1\": 91, \"8\": 123, \"7\": 31, \"15\": 8, \"6\": 27, \"2\": 3, \"9\": 12, \"3\": 3, \"5\": 2}, \"15\": {\"7\": 15, \"9\": 276, \"5\": 239, \"15\": 332, \"6\": 52, \"13\": 77, \"2\": 58, \"10\": 15, \"8\": 113, \"0\": 14, \"4\": 6, \"3\": 2, \"14\": 1}, \"13\": {\"5\": 237, \"13\": 813, \"15\": 80, \"3\": 1, \"9\": 39, \"6\": 19, \"2\": 11}, \"8\": {\"8\": 334, \"15\": 101, \"10\": 155, \"0\": 97, \"6\": 63, \"5\": 22, \"14\": 41, \"9\": 132, \"4\": 98, \"7\": 106, \"2\": 28, \"1\": 12, \"3\": 11}, \"3\": {\"2\": 296, \"3\": 645, \"7\": 234, \"9\": 1, \"15\": 4, \"4\": 4, \"5\": 6, \"0\": 1, \"8\": 6, \"1\": 3}, \"11\": {\"11\": 1181, \"12\": 19}, \"4\": {\"1\": 163, \"14\": 233, \"0\": 173, \"7\": 98, \"4\": 332, \"2\": 6, \"10\": 77, \"15\": 3, \"8\": 97, \"9\": 13, \"6\": 2, \"3\": 3}, \"6\": {\"10\": 95, \"6\": 751, \"15\": 46, \"9\": 188, \"8\": 51, \"0\": 28, \"5\": 9, \"14\": 3, \"13\": 28, \"2\": 1}, \"7\": {\"7\": 499, \"3\": 235, \"2\": 156, \"0\": 28, \"8\": 83, \"9\": 13, \"14\": 39, \"4\": 93, \"15\": 26, \"10\": 7, \"1\": 18, \"5\": 3}, \"14\": {\"14\": 328, \"4\": 220, \"1\": 263, \"10\": 125, \"8\": 44, \"0\": 188, \"7\": 25, \"9\": 3, \"6\": 2, \"2\": 2}, \"2\": {\"2\": 439, \"3\": 370, \"7\": 116, \"5\": 103, \"9\": 37, \"15\": 83, \"14\": 1, \"8\": 39, \"10\": 2, \"4\": 3, \"13\": 6, \"0\": 1}, \"5\": {\"5\": 535, \"9\": 78, \"13\": 215, \"2\": 85, \"15\": 222, \"8\": 34, \"7\": 13, \"6\": 9, \"3\": 5, \"4\": 2, \"0\": 1, \"10\": 1}, \"9\": {\"3\": 2, \"9\": 357, \"5\": 107, \"15\": 285, \"6\": 175, \"8\": 154, \"10\": 26, \"13\": 43, \"7\": 9, \"2\": 12, \"0\": 22, \"4\": 7, \"14\": 1}}, \"20\": {\"5\": {\"5\": 329, \"1\": 212, \"3\": 69, \"0\": 276, \"15\": 100, \"12\": 178, \"9\": 15, \"4\": 10, \"13\": 3, \"2\": 7, \"8\": 1}, \"15\": {\"0\": 122, \"1\": 223, \"15\": 643, \"5\": 97, \"9\": 8, \"13\": 46, \"12\": 42, \"2\": 11, \"3\": 8}, \"9\": {\"2\": 299, \"12\": 140, \"7\": 116, \"4\": 13, \"3\": 184, \"9\": 319, \"15\": 9, \"8\": 25, \"1\": 23, \"13\": 48, \"0\": 9, \"5\": 13, \"6\": 1, \"10\": 1}, \"7\": {\"7\": 674, \"2\": 187, \"8\": 119, \"6\": 37, \"13\": 6, \"9\": 100, \"10\": 6, \"3\": 41, \"12\": 13, \"4\": 8, \"14\": 7, \"0\": 1, \"11\": 1}, \"3\": {\"3\": 359, \"4\": 106, \"12\": 222, \"9\": 193, \"2\": 105, \"0\": 20, \"1\": 30, \"13\": 17, \"7\": 53, \"8\": 44, \"5\": 46, \"15\": 4, \"10\": 1}, \"8\": {\"8\": 618, \"4\": 207, \"7\": 117, \"10\": 115, \"14\": 41, \"6\": 23, \"12\": 8, \"3\": 47, \"2\": 9, \"9\": 13, \"0\": 1, \"5\": 1}, \"4\": {\"4\": 753, \"8\": 214, \"3\": 100, \"12\": 30, \"10\": 61, \"9\": 8, \"0\": 8, \"5\": 9, \"7\": 11, \"2\": 3, \"1\": 2, \"14\": 1}, \"6\": {\"6\": 899, \"14\": 210, \"7\": 53, \"10\": 15, \"8\": 19, \"11\": 4}, \"2\": {\"2\": 413, \"9\": 275, \"13\": 126, \"7\": 184, \"5\": 11, \"12\": 66, \"1\": 11, \"3\": 91, \"6\": 4, \"8\": 8, \"4\": 3, \"15\": 5, \"0\": 2, \"10\": 1}, \"12\": {\"1\": 147, \"3\": 235, \"2\": 55, \"9\": 125, \"5\": 152, \"12\": 308, \"0\": 70, \"15\": 41, \"8\": 6, \"4\": 37, \"13\": 15, \"7\": 8, \"10\": 1}, \"0\": {\"0\": 431, \"3\": 55, \"5\": 240, \"9\": 18, \"15\": 157, \"2\": 11, \"1\": 154, \"12\": 106, \"4\": 21, \"8\": 2, \"7\": 1, \"13\": 4}, \"13\": {\"13\": 932, \"9\": 46, \"1\": 19, \"12\": 15, \"2\": 120, \"15\": 41, \"7\": 13, \"0\": 1, \"3\": 7, \"11\": 2, \"5\": 4}, \"10\": {\"14\": 247, \"8\": 111, \"10\": 750, \"4\": 62, \"6\": 21, \"7\": 8, \"2\": 1}, \"11\": {\"11\": 1195, \"2\": 1, \"6\": 2, \"7\": 2}, \"14\": {\"6\": 201, \"14\": 713, \"8\": 35, \"10\": 245, \"7\": 5, \"4\": 1}, \"1\": {\"5\": 227, \"15\": 270, \"1\": 318, \"0\": 142, \"12\": 147, \"13\": 13, \"3\": 39, \"4\": 10, \"9\": 23, \"2\": 11}}, \"14\": {\"13\": {\"6\": 403, \"13\": 375, \"14\": 256, \"2\": 125, \"5\": 19, \"4\": 4, \"3\": 8, \"10\": 2, \"15\": 6, \"7\": 1, \"1\": 1}, \"4\": {\"4\": 635, \"1\": 37, \"5\": 210, \"3\": 193, \"2\": 107, \"14\": 14, \"13\": 4}, \"6\": {\"6\": 617, \"13\": 404, \"14\": 101, \"2\": 77, \"3\": 1}, \"0\": {\"0\": 897, \"10\": 239, \"3\": 32, \"8\": 2, \"11\": 29, \"14\": 1}, \"10\": {\"11\": 6, \"10\": 959, \"0\": 229, \"3\": 2, \"14\": 4}, \"7\": {\"7\": 1121, \"15\": 53, \"5\": 12, \"1\": 14}, \"14\": {\"4\": 25, \"14\": 797, \"13\": 130, \"2\": 105, \"3\": 58, \"10\": 3, \"6\": 82}, \"15\": {\"15\": 1084, \"7\": 109, \"2\": 2, \"5\": 2, \"13\": 1, \"1\": 2}, \"5\": {\"1\": 216, \"4\": 236, \"5\": 615, \"2\": 72, \"3\": 40, \"7\": 15, \"14\": 2, \"15\": 4}, \"2\": {\"4\": 130, \"14\": 152, \"5\": 139, \"2\": 472, \"3\": 67, \"13\": 85, \"6\": 116, \"15\": 29, \"1\": 9, \"7\": 1}, \"9\": {\"9\": 1177, \"11\": 18, \"12\": 4, \"0\": 1}, \"12\": {\"12\": 1188, \"9\": 12}, \"8\": {\"8\": 1197, \"0\": 3}, \"3\": {\"4\": 188, \"3\": 905, \"13\": 1, \"0\": 14, \"2\": 29, \"8\": 1, \"14\": 47, \"1\": 5, \"5\": 7, \"10\": 3}, \"1\": {\"5\": 207, \"1\": 942, \"4\": 34, \"7\": 15, \"3\": 1, \"2\": 1}, \"11\": {\"11\": 1003, \"9\": 78, \"10\": 61, \"0\": 58}}}, \"per_domain_accuracy\": {\"32\": {\"accuracy\": 0.7160416666666667, \"source?\": true}, \"50\": {\"accuracy\": 0.7211979166666667, \"source?\": true}, \"8\": {\"accuracy\": 0.6125, \"source?\": true}, \"44\": {\"accuracy\": 0.6738020833333334, \"source?\": false}, \"38\": {\"accuracy\": 0.67953125, \"source?\": false}, \"26\": {\"accuracy\": 0.46588541666666666, \"source?\": false}, \"20\": {\"accuracy\": 0.5028125, \"source?\": false}, \"14\": {\"accuracy\": 0.7283333333333334, \"source?\": false}}}, \"history\": {\"epoch_indices\": [1, 2, 3, 4, 5, 6, 7, 8, 9, 10], \"train_label_loss\": [1.4359129733225655, 0.9369027292184413, 0.763319600539075, 0.6702553151453299, 0.5813280885826264, 0.49933392077891364, 0.4279876038624299, 0.36614059746930644, 0.31825781220304117, 0.276059524400958], \"source_val_label_loss\": [1.3188072443008423, 0.907728910446167, 0.8835212588310242, 0.8653772473335266, 0.886581301689148, 0.9213338494300842, 0.9488130807876587, 0.9934664964675903, 1.0563141107559204, 1.118511438369751], \"target_val_label_loss\": [1.6512095928192139, 1.1038951873779297, 1.0875102281570435, 1.0590190887451172, 1.093129277229309, 1.1096069812774658, 1.1535563468933105, 1.1995548009872437, 1.280084490776062, 1.3288242816925049], \"source_val_acc_label\": [0.49907986111111113, 0.6650173611111111, 0.6604340277777778, 0.6811805555555556, 0.6780208333333333, 0.6832465277777777, 0.6777777777777778, 0.6774305555555555, 0.6882638888888889, 0.6756944444444445], \"target_val_acc_label\": [0.37655208333333334, 0.5839895833333333, 0.5888645833333334, 0.6060625, 0.59909375, 0.6100729166666666, 0.60253125, 0.5969166666666667, 0.6029166666666667, 0.5962395833333334]}, \"dataset_metrics\": {\"source\": {\"train\": {\"n_unique_x\": 336000, \"n_unique_y\": 16, \"n_batch/episode\": 12600}, \"val\": {\"n_unique_x\": 72000, \"n_unique_y\": 16, \"n_batch/episode\": 1800}, \"test\": {\"n_unique_x\": 72000, \"n_unique_y\": 16, \"n_batch/episode\": 1800}}, \"target\": {\"train\": {\"n_unique_x\": 560000, \"n_unique_y\": 16, \"n_batch/episode\": 21000}, \"val\": {\"n_unique_x\": 120000, \"n_unique_y\": 16, \"n_batch/episode\": 3000}, \"test\": {\"n_unique_x\": 120000, \"n_unique_y\": 16, \"n_batch/episode\": 3000}}}}'"
      ]
     },
     "execution_count": 20,
     "metadata": {},
     "output_type": "execute_result"
    }
   ],
   "source": [
    "json.dumps(experiment)"
   ]
  }
 ],
 "metadata": {
  "celltoolbar": "Tags",
  "kernelspec": {
   "display_name": "Python 3 (ipykernel)",
   "language": "python",
   "name": "python3"
  },
  "language_info": {
   "codemirror_mode": {
    "name": "ipython",
    "version": 3
   },
   "file_extension": ".py",
   "mimetype": "text/x-python",
   "name": "python",
   "nbconvert_exporter": "python",
   "pygments_lexer": "ipython3",
   "version": "3.8.12"
  },
  "papermill": {
   "default_parameters": {},
   "duration": 5941.951797,
   "end_time": "2022-03-26T04:46:41.760832",
   "environment_variables": {},
   "exception": null,
   "input_path": "/root/csc500-main/csc500-notebooks/templates/ptn_template.ipynb",
   "output_path": "trial.ipynb",
   "parameters": {
    "parameters": {
     "BEST_MODEL_PATH": "./best_model.pth",
     "NUM_LOGS_PER_EPOCH": 10,
     "criteria_for_best": "target_accuracy",
     "dataset_seed": 154325,
     "device": "cuda",
     "domains_source": [
      8,
      32,
      50
     ],
     "domains_target": [
      14,
      20,
      26,
      38,
      44
     ],
     "episode_transforms_source": [],
     "episode_transforms_target": [],
     "experiment_name": "tuned_1v2:oracle.run1_limited",
     "labels_source": [
      "3123D52",
      "3123D65",
      "3123D79",
      "3123D80",
      "3123D54",
      "3123D70",
      "3123D7B",
      "3123D89",
      "3123D58",
      "3123D76",
      "3123D7D",
      "3123EFE",
      "3123D64",
      "3123D78",
      "3123D7E",
      "3124E4A"
     ],
     "labels_target": [
      "3123D52",
      "3123D65",
      "3123D79",
      "3123D80",
      "3123D54",
      "3123D70",
      "3123D7B",
      "3123D89",
      "3123D58",
      "3123D76",
      "3123D7D",
      "3123EFE",
      "3123D64",
      "3123D78",
      "3123D7E",
      "3124E4A"
     ],
     "lr": 0.0001,
     "n_epoch": 50,
     "n_query": 2,
     "n_shot": 3,
     "n_way": 16,
     "num_examples_per_domain_per_label_source": -1,
     "num_examples_per_domain_per_label_target": -1,
     "patience": 3,
     "pickle_name": "oracle.Run1_10kExamples_stratified_ds.2022A.pkl",
     "seed": 154325,
     "test_k_factor": 2,
     "torch_default_dtype": "torch.float32",
     "train_k_factor": 3,
     "val_k_factor": 2,
     "x_net": [
      {
       "class": "nnReshape",
       "kargs": {
        "shape": [
         -1,
         1,
         2,
         256
        ]
       }
      },
      {
       "class": "Conv2d",
       "kargs": {
        "bias": false,
        "in_channels": 1,
        "kernel_size": [
         1,
         7
        ],
        "out_channels": 256,
        "padding": [
         0,
         3
        ]
       }
      },
      {
       "class": "ReLU",
       "kargs": {
        "inplace": true
       }
      },
      {
       "class": "BatchNorm2d",
       "kargs": {
        "num_features": 256
       }
      },
      {
       "class": "Conv2d",
       "kargs": {
        "bias": true,
        "in_channels": 256,
        "kernel_size": [
         2,
         7
        ],
        "out_channels": 80,
        "padding": [
         0,
         3
        ]
       }
      },
      {
       "class": "ReLU",
       "kargs": {
        "inplace": true
       }
      },
      {
       "class": "BatchNorm2d",
       "kargs": {
        "num_features": 80
       }
      },
      {
       "class": "Flatten",
       "kargs": {}
      },
      {
       "class": "Linear",
       "kargs": {
        "in_features": 20480,
        "out_features": 256
       }
      },
      {
       "class": "ReLU",
       "kargs": {
        "inplace": true
       }
      },
      {
       "class": "BatchNorm1d",
       "kargs": {
        "num_features": 256
       }
      },
      {
       "class": "Linear",
       "kargs": {
        "in_features": 256,
        "out_features": 256
       }
      }
     ],
     "x_transforms_source": [
      "unit_mag"
     ],
     "x_transforms_target": [
      "unit_mag"
     ]
    }
   },
   "start_time": "2022-03-26T03:07:39.809035",
   "version": "2.3.4"
  }
 },
 "nbformat": 4,
 "nbformat_minor": 5
}