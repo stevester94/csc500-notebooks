{
 "cells": [
  {
   "cell_type": "markdown",
   "id": "9fea5f46",
   "metadata": {
    "papermill": {
     "duration": 0.034936,
     "end_time": "2022-03-26T07:00:20.094990",
     "exception": false,
     "start_time": "2022-03-26T07:00:20.060054",
     "status": "completed"
    },
    "tags": []
   },
   "source": [
    "# PTN Template\n",
    "This notebook serves as a template for single dataset PTN experiments  \n",
    "It can be run on its own by setting STANDALONE to True (do a find for \"STANDALONE\" to see where)  \n",
    "But it is intended to be executed as part of a *papermill.py script. See any of the   \n",
    "experimentes with a papermill script to get started with that workflow.  "
   ]
  },
  {
   "cell_type": "code",
   "execution_count": 1,
   "id": "0902182a",
   "metadata": {
    "execution": {
     "iopub.execute_input": "2022-03-26T07:00:20.144846Z",
     "iopub.status.busy": "2022-03-26T07:00:20.133377Z",
     "iopub.status.idle": "2022-03-26T07:00:22.202380Z",
     "shell.execute_reply": "2022-03-26T07:00:22.201586Z"
    },
    "papermill": {
     "duration": 2.090409,
     "end_time": "2022-03-26T07:00:22.202567",
     "exception": false,
     "start_time": "2022-03-26T07:00:20.112158",
     "status": "completed"
    },
    "tags": []
   },
   "outputs": [],
   "source": [
    "%load_ext autoreload\n",
    "%autoreload 2\n",
    "%matplotlib inline\n",
    "\n",
    "    \n",
    "import os, json, sys, time, random\n",
    "import numpy as np\n",
    "import torch\n",
    "from torch.optim import Adam\n",
    "from  easydict import EasyDict\n",
    "import matplotlib.pyplot as plt\n",
    "\n",
    "from steves_models.steves_ptn import Steves_Prototypical_Network\n",
    "\n",
    "from steves_utils.lazy_iterable_wrapper import Lazy_Iterable_Wrapper\n",
    "from steves_utils.iterable_aggregator import Iterable_Aggregator\n",
    "from steves_utils.ptn_train_eval_test_jig import  PTN_Train_Eval_Test_Jig\n",
    "from steves_utils.torch_sequential_builder import build_sequential\n",
    "from steves_utils.torch_utils import get_dataset_metrics, ptn_confusion_by_domain_over_dataloader\n",
    "from steves_utils.utils_v2 import (per_domain_accuracy_from_confusion, get_datasets_base_path)\n",
    "from steves_utils.PTN.utils import independent_accuracy_assesment\n",
    "\n",
    "from steves_utils.stratified_dataset.episodic_accessor import Episodic_Accessor_Factory\n",
    "\n",
    "from steves_utils.ptn_do_report import (\n",
    "    get_loss_curve,\n",
    "    get_results_table,\n",
    "    get_parameters_table,\n",
    "    get_domain_accuracies,\n",
    ")\n",
    "\n",
    "from steves_utils.transforms import get_chained_transform"
   ]
  },
  {
   "cell_type": "markdown",
   "id": "41c840b4",
   "metadata": {
    "papermill": {
     "duration": 0.013937,
     "end_time": "2022-03-26T07:00:22.236459",
     "exception": false,
     "start_time": "2022-03-26T07:00:22.222522",
     "status": "completed"
    },
    "tags": []
   },
   "source": [
    "# Required Parameters\n",
    "These are allowed parameters, not defaults\n",
    "Each of these values need to be present in the injected parameters (the notebook will raise an exception if they are not present)\n",
    "\n",
    "Papermill uses the cell tag \"parameters\" to inject the real parameters below this cell.\n",
    "Enable tags to see what I mean"
   ]
  },
  {
   "cell_type": "code",
   "execution_count": 2,
   "id": "fd44eb83",
   "metadata": {
    "execution": {
     "iopub.execute_input": "2022-03-26T07:00:22.270780Z",
     "iopub.status.busy": "2022-03-26T07:00:22.270130Z",
     "iopub.status.idle": "2022-03-26T07:00:22.293259Z",
     "shell.execute_reply": "2022-03-26T07:00:22.292565Z"
    },
    "papermill": {
     "duration": 0.042969,
     "end_time": "2022-03-26T07:00:22.293410",
     "exception": false,
     "start_time": "2022-03-26T07:00:22.250441",
     "status": "completed"
    },
    "tags": []
   },
   "outputs": [],
   "source": [
    "required_parameters = {\n",
    "    \"experiment_name\",\n",
    "    \"lr\",\n",
    "    \"device\",\n",
    "    \"seed\",\n",
    "    \"dataset_seed\",\n",
    "    \"labels_source\",\n",
    "    \"labels_target\",\n",
    "    \"domains_source\",\n",
    "    \"domains_target\",\n",
    "    \"num_examples_per_domain_per_label_source\",\n",
    "    \"num_examples_per_domain_per_label_target\",\n",
    "    \"n_shot\",\n",
    "    \"n_way\",\n",
    "    \"n_query\",\n",
    "    \"train_k_factor\",\n",
    "    \"val_k_factor\",\n",
    "    \"test_k_factor\",\n",
    "    \"n_epoch\",\n",
    "    \"patience\",\n",
    "    \"criteria_for_best\",\n",
    "    \"x_transforms_source\",\n",
    "    \"x_transforms_target\",\n",
    "    \"episode_transforms_source\",\n",
    "    \"episode_transforms_target\",\n",
    "    \"pickle_name\",\n",
    "    \"x_net\",\n",
    "    \"NUM_LOGS_PER_EPOCH\",\n",
    "    \"BEST_MODEL_PATH\",\n",
    "    \"torch_default_dtype\"\n",
    "}"
   ]
  },
  {
   "cell_type": "code",
   "execution_count": 3,
   "id": "fa3f0049",
   "metadata": {
    "execution": {
     "iopub.execute_input": "2022-03-26T07:00:22.343009Z",
     "iopub.status.busy": "2022-03-26T07:00:22.342106Z",
     "iopub.status.idle": "2022-03-26T07:00:22.362642Z",
     "shell.execute_reply": "2022-03-26T07:00:22.363267Z"
    },
    "papermill": {
     "duration": 0.049679,
     "end_time": "2022-03-26T07:00:22.363443",
     "exception": false,
     "start_time": "2022-03-26T07:00:22.313764",
     "status": "completed"
    },
    "tags": [
     "parameters"
    ]
   },
   "outputs": [],
   "source": [
    "\n",
    "\n",
    "standalone_parameters = {}\n",
    "standalone_parameters[\"experiment_name\"] = \"STANDALONE PTN\"\n",
    "standalone_parameters[\"lr\"] = 0.0001\n",
    "standalone_parameters[\"device\"] = \"cuda\"\n",
    "\n",
    "standalone_parameters[\"seed\"] = 1337\n",
    "standalone_parameters[\"dataset_seed\"] = 1337\n",
    "\n",
    "\n",
    "standalone_parameters[\"num_examples_per_domain_per_label_source\"]=100\n",
    "standalone_parameters[\"num_examples_per_domain_per_label_target\"]=100\n",
    "\n",
    "standalone_parameters[\"n_shot\"] = 3\n",
    "standalone_parameters[\"n_query\"]  = 2\n",
    "standalone_parameters[\"train_k_factor\"] = 1\n",
    "standalone_parameters[\"val_k_factor\"] = 2\n",
    "standalone_parameters[\"test_k_factor\"] = 2\n",
    "\n",
    "\n",
    "standalone_parameters[\"n_epoch\"] = 100\n",
    "\n",
    "standalone_parameters[\"patience\"] = 10\n",
    "standalone_parameters[\"criteria_for_best\"] = \"target_accuracy\"\n",
    "\n",
    "standalone_parameters[\"x_transforms_source\"] = [\"unit_power\"]\n",
    "standalone_parameters[\"x_transforms_target\"] = [\"unit_power\"]\n",
    "standalone_parameters[\"episode_transforms_source\"] = []\n",
    "standalone_parameters[\"episode_transforms_target\"] = []\n",
    "\n",
    "standalone_parameters[\"torch_default_dtype\"] = \"torch.float32\" \n",
    "\n",
    "\n",
    "\n",
    "standalone_parameters[\"x_net\"] =     [\n",
    "    {\"class\": \"nnReshape\", \"kargs\": {\"shape\":[-1, 1, 2, 256]}},\n",
    "    {\"class\": \"Conv2d\", \"kargs\": { \"in_channels\":1, \"out_channels\":256, \"kernel_size\":(1,7), \"bias\":False, \"padding\":(0,3), },},\n",
    "    {\"class\": \"ReLU\", \"kargs\": {\"inplace\": True}},\n",
    "    {\"class\": \"BatchNorm2d\", \"kargs\": {\"num_features\":256}},\n",
    "\n",
    "    {\"class\": \"Conv2d\", \"kargs\": { \"in_channels\":256, \"out_channels\":80, \"kernel_size\":(2,7), \"bias\":True, \"padding\":(0,3), },},\n",
    "    {\"class\": \"ReLU\", \"kargs\": {\"inplace\": True}},\n",
    "    {\"class\": \"BatchNorm2d\", \"kargs\": {\"num_features\":80}},\n",
    "    {\"class\": \"Flatten\", \"kargs\": {}},\n",
    "\n",
    "    {\"class\": \"Linear\", \"kargs\": {\"in_features\": 80*256, \"out_features\": 256}}, # 80 units per IQ pair\n",
    "    {\"class\": \"ReLU\", \"kargs\": {\"inplace\": True}},\n",
    "    {\"class\": \"BatchNorm1d\", \"kargs\": {\"num_features\":256}},\n",
    "\n",
    "    {\"class\": \"Linear\", \"kargs\": {\"in_features\": 256, \"out_features\": 256}},\n",
    "]\n",
    "\n",
    "# Parameters relevant to results\n",
    "# These parameters will basically never need to change\n",
    "standalone_parameters[\"NUM_LOGS_PER_EPOCH\"] = 10\n",
    "standalone_parameters[\"BEST_MODEL_PATH\"] = \"./best_model.pth\"\n",
    "\n",
    "# uncomment for CORES dataset\n",
    "from steves_utils.CORES.utils import (\n",
    "    ALL_NODES,\n",
    "    ALL_NODES_MINIMUM_1000_EXAMPLES,\n",
    "    ALL_DAYS\n",
    ")\n",
    "\n",
    "\n",
    "standalone_parameters[\"labels_source\"] = ALL_NODES\n",
    "standalone_parameters[\"labels_target\"] = ALL_NODES\n",
    "\n",
    "standalone_parameters[\"domains_source\"] = [1]\n",
    "standalone_parameters[\"domains_target\"] = [2,3,4,5]\n",
    "\n",
    "standalone_parameters[\"pickle_name\"] = \"cores.stratified_ds.2022A.pkl\"\n",
    "\n",
    "\n",
    "# Uncomment these for ORACLE dataset\n",
    "# from steves_utils.ORACLE.utils_v2 import (\n",
    "#     ALL_DISTANCES_FEET,\n",
    "#     ALL_RUNS,\n",
    "#     ALL_SERIAL_NUMBERS,\n",
    "# )\n",
    "# standalone_parameters[\"labels_source\"] = ALL_SERIAL_NUMBERS\n",
    "# standalone_parameters[\"labels_target\"] = ALL_SERIAL_NUMBERS\n",
    "# standalone_parameters[\"domains_source\"] = [8,20, 38,50]\n",
    "# standalone_parameters[\"domains_target\"] = [14, 26, 32, 44, 56]\n",
    "# standalone_parameters[\"pickle_name\"] = \"oracle.frame_indexed.stratified_ds.2022A.pkl\"\n",
    "# standalone_parameters[\"num_examples_per_domain_per_label_source\"]=1000\n",
    "# standalone_parameters[\"num_examples_per_domain_per_label_target\"]=1000\n",
    "\n",
    "# Uncomment these for Metahan dataset\n",
    "# standalone_parameters[\"labels_source\"] = list(range(19))\n",
    "# standalone_parameters[\"labels_target\"] = list(range(19))\n",
    "# standalone_parameters[\"domains_source\"] = [0]\n",
    "# standalone_parameters[\"domains_target\"] = [1]\n",
    "# standalone_parameters[\"pickle_name\"] = \"metehan.stratified_ds.2022A.pkl\"\n",
    "# standalone_parameters[\"n_way\"]  = len(standalone_parameters[\"labels_source\"])\n",
    "# standalone_parameters[\"num_examples_per_domain_per_label_source\"]=200\n",
    "# standalone_parameters[\"num_examples_per_domain_per_label_target\"]=100\n",
    "\n",
    "\n",
    "standalone_parameters[\"n_way\"]  = len(standalone_parameters[\"labels_source\"])"
   ]
  },
  {
   "cell_type": "code",
   "execution_count": 4,
   "id": "6ec33ca8",
   "metadata": {
    "execution": {
     "iopub.execute_input": "2022-03-26T07:00:22.421475Z",
     "iopub.status.busy": "2022-03-26T07:00:22.411741Z",
     "iopub.status.idle": "2022-03-26T07:00:22.433256Z",
     "shell.execute_reply": "2022-03-26T07:00:22.432444Z"
    },
    "papermill": {
     "duration": 0.050571,
     "end_time": "2022-03-26T07:00:22.433406",
     "exception": false,
     "start_time": "2022-03-26T07:00:22.382835",
     "status": "completed"
    },
    "tags": [
     "injected-parameters"
    ]
   },
   "outputs": [],
   "source": [
    "# Parameters\n",
    "parameters = {\n",
    "    \"experiment_name\": \"tuned_1v2:oracle.run1_limited\",\n",
    "    \"device\": \"cuda\",\n",
    "    \"lr\": 0.0001,\n",
    "    \"labels_source\": [\n",
    "        \"3123D52\",\n",
    "        \"3123D65\",\n",
    "        \"3123D79\",\n",
    "        \"3123D80\",\n",
    "        \"3123D54\",\n",
    "        \"3123D70\",\n",
    "        \"3123D7B\",\n",
    "        \"3123D89\",\n",
    "        \"3123D58\",\n",
    "        \"3123D76\",\n",
    "        \"3123D7D\",\n",
    "        \"3123EFE\",\n",
    "        \"3123D64\",\n",
    "        \"3123D78\",\n",
    "        \"3123D7E\",\n",
    "        \"3124E4A\",\n",
    "    ],\n",
    "    \"labels_target\": [\n",
    "        \"3123D52\",\n",
    "        \"3123D65\",\n",
    "        \"3123D79\",\n",
    "        \"3123D80\",\n",
    "        \"3123D54\",\n",
    "        \"3123D70\",\n",
    "        \"3123D7B\",\n",
    "        \"3123D89\",\n",
    "        \"3123D58\",\n",
    "        \"3123D76\",\n",
    "        \"3123D7D\",\n",
    "        \"3123EFE\",\n",
    "        \"3123D64\",\n",
    "        \"3123D78\",\n",
    "        \"3123D7E\",\n",
    "        \"3124E4A\",\n",
    "    ],\n",
    "    \"episode_transforms_source\": [],\n",
    "    \"episode_transforms_target\": [],\n",
    "    \"domains_source\": [8, 32, 50],\n",
    "    \"domains_target\": [14, 20, 26, 38, 44],\n",
    "    \"num_examples_per_domain_per_label_source\": -1,\n",
    "    \"num_examples_per_domain_per_label_target\": -1,\n",
    "    \"n_shot\": 3,\n",
    "    \"n_way\": 16,\n",
    "    \"n_query\": 2,\n",
    "    \"train_k_factor\": 3,\n",
    "    \"val_k_factor\": 2,\n",
    "    \"test_k_factor\": 2,\n",
    "    \"torch_default_dtype\": \"torch.float32\",\n",
    "    \"n_epoch\": 50,\n",
    "    \"patience\": 3,\n",
    "    \"criteria_for_best\": \"target_accuracy\",\n",
    "    \"x_net\": [\n",
    "        {\"class\": \"nnReshape\", \"kargs\": {\"shape\": [-1, 1, 2, 256]}},\n",
    "        {\n",
    "            \"class\": \"Conv2d\",\n",
    "            \"kargs\": {\n",
    "                \"in_channels\": 1,\n",
    "                \"out_channels\": 256,\n",
    "                \"kernel_size\": [1, 7],\n",
    "                \"bias\": False,\n",
    "                \"padding\": [0, 3],\n",
    "            },\n",
    "        },\n",
    "        {\"class\": \"ReLU\", \"kargs\": {\"inplace\": True}},\n",
    "        {\"class\": \"BatchNorm2d\", \"kargs\": {\"num_features\": 256}},\n",
    "        {\n",
    "            \"class\": \"Conv2d\",\n",
    "            \"kargs\": {\n",
    "                \"in_channels\": 256,\n",
    "                \"out_channels\": 80,\n",
    "                \"kernel_size\": [2, 7],\n",
    "                \"bias\": True,\n",
    "                \"padding\": [0, 3],\n",
    "            },\n",
    "        },\n",
    "        {\"class\": \"ReLU\", \"kargs\": {\"inplace\": True}},\n",
    "        {\"class\": \"BatchNorm2d\", \"kargs\": {\"num_features\": 80}},\n",
    "        {\"class\": \"Flatten\", \"kargs\": {}},\n",
    "        {\"class\": \"Linear\", \"kargs\": {\"in_features\": 20480, \"out_features\": 256}},\n",
    "        {\"class\": \"ReLU\", \"kargs\": {\"inplace\": True}},\n",
    "        {\"class\": \"BatchNorm1d\", \"kargs\": {\"num_features\": 256}},\n",
    "        {\"class\": \"Linear\", \"kargs\": {\"in_features\": 256, \"out_features\": 256}},\n",
    "    ],\n",
    "    \"NUM_LOGS_PER_EPOCH\": 10,\n",
    "    \"BEST_MODEL_PATH\": \"./best_model.pth\",\n",
    "    \"pickle_name\": \"oracle.Run1_10kExamples_stratified_ds.2022A.pkl\",\n",
    "    \"x_transforms_source\": [\"unit_mag\"],\n",
    "    \"x_transforms_target\": [\"unit_mag\"],\n",
    "    \"dataset_seed\": 7,\n",
    "    \"seed\": 7,\n",
    "}\n"
   ]
  },
  {
   "cell_type": "code",
   "execution_count": 5,
   "id": "8fa1cc33",
   "metadata": {
    "execution": {
     "iopub.execute_input": "2022-03-26T07:00:22.472217Z",
     "iopub.status.busy": "2022-03-26T07:00:22.471844Z",
     "iopub.status.idle": "2022-03-26T07:00:22.494448Z",
     "shell.execute_reply": "2022-03-26T07:00:22.493645Z"
    },
    "papermill": {
     "duration": 0.043017,
     "end_time": "2022-03-26T07:00:22.494598",
     "exception": false,
     "start_time": "2022-03-26T07:00:22.451581",
     "status": "completed"
    },
    "tags": []
   },
   "outputs": [],
   "source": [
    "# Set this to True if you want to run this template directly\n",
    "STANDALONE = False\n",
    "if STANDALONE:\n",
    "    print(\"parameters not injected, running with standalone_parameters\")\n",
    "    parameters = standalone_parameters\n",
    "\n",
    "if not 'parameters' in locals() and not 'parameters' in globals():\n",
    "    raise Exception(\"Parameter injection failed\")\n",
    "\n",
    "#Use an easy dict for all the parameters\n",
    "p = EasyDict(parameters)\n",
    "\n",
    "supplied_keys = set(p.keys())\n",
    "\n",
    "if  supplied_keys != required_parameters:\n",
    "    print(\"Parameters are incorrect\")\n",
    "    if len(supplied_keys - required_parameters)>0: print(\"Shouldn't have:\", str(supplied_keys - required_parameters))\n",
    "    if len(required_parameters - supplied_keys)>0: print(\"Need to have:\", str(required_parameters - supplied_keys))\n",
    "    raise RuntimeError(\"Parameters are incorrect\")\n",
    "\n"
   ]
  },
  {
   "cell_type": "code",
   "execution_count": 6,
   "id": "3a028d58",
   "metadata": {
    "execution": {
     "iopub.execute_input": "2022-03-26T07:00:22.534361Z",
     "iopub.status.busy": "2022-03-26T07:00:22.533993Z",
     "iopub.status.idle": "2022-03-26T07:00:22.555443Z",
     "shell.execute_reply": "2022-03-26T07:00:22.554741Z"
    },
    "papermill": {
     "duration": 0.040852,
     "end_time": "2022-03-26T07:00:22.555615",
     "exception": false,
     "start_time": "2022-03-26T07:00:22.514763",
     "status": "completed"
    },
    "tags": []
   },
   "outputs": [],
   "source": [
    "###################################\n",
    "# Set the RNGs and make it all deterministic\n",
    "###################################\n",
    "np.random.seed(p.seed)\n",
    "random.seed(p.seed)\n",
    "torch.manual_seed(p.seed)\n",
    "\n",
    "torch.use_deterministic_algorithms(True) "
   ]
  },
  {
   "cell_type": "code",
   "execution_count": 7,
   "id": "b691acf6",
   "metadata": {
    "execution": {
     "iopub.execute_input": "2022-03-26T07:00:22.597036Z",
     "iopub.status.busy": "2022-03-26T07:00:22.596511Z",
     "iopub.status.idle": "2022-03-26T07:00:22.620224Z",
     "shell.execute_reply": "2022-03-26T07:00:22.619487Z"
    },
    "papermill": {
     "duration": 0.041286,
     "end_time": "2022-03-26T07:00:22.620376",
     "exception": false,
     "start_time": "2022-03-26T07:00:22.579090",
     "status": "completed"
    },
    "tags": []
   },
   "outputs": [],
   "source": [
    "###########################################\n",
    "# The stratified datasets honor this\n",
    "###########################################\n",
    "torch.set_default_dtype(eval(p.torch_default_dtype))"
   ]
  },
  {
   "cell_type": "code",
   "execution_count": 8,
   "id": "b5fba671",
   "metadata": {
    "execution": {
     "iopub.execute_input": "2022-03-26T07:00:22.659003Z",
     "iopub.status.busy": "2022-03-26T07:00:22.658504Z",
     "iopub.status.idle": "2022-03-26T07:00:22.712799Z",
     "shell.execute_reply": "2022-03-26T07:00:22.712096Z"
    },
    "papermill": {
     "duration": 0.071207,
     "end_time": "2022-03-26T07:00:22.712949",
     "exception": false,
     "start_time": "2022-03-26T07:00:22.641742",
     "status": "completed"
    },
    "tags": []
   },
   "outputs": [],
   "source": [
    "###################################\n",
    "# Build the network(s)\n",
    "# Note: It's critical to do this AFTER setting the RNG\n",
    "# (This is due to the randomized initial weights)\n",
    "###################################\n",
    "x_net = build_sequential(p.x_net)"
   ]
  },
  {
   "cell_type": "code",
   "execution_count": 9,
   "id": "5d7e61cc",
   "metadata": {
    "execution": {
     "iopub.execute_input": "2022-03-26T07:00:22.752083Z",
     "iopub.status.busy": "2022-03-26T07:00:22.751718Z",
     "iopub.status.idle": "2022-03-26T07:00:22.774561Z",
     "shell.execute_reply": "2022-03-26T07:00:22.773759Z"
    },
    "papermill": {
     "duration": 0.040346,
     "end_time": "2022-03-26T07:00:22.774713",
     "exception": false,
     "start_time": "2022-03-26T07:00:22.734367",
     "status": "completed"
    },
    "tags": []
   },
   "outputs": [],
   "source": [
    "start_time_secs = time.time()"
   ]
  },
  {
   "cell_type": "code",
   "execution_count": 10,
   "id": "fd5442bc",
   "metadata": {
    "execution": {
     "iopub.execute_input": "2022-03-26T07:00:22.819040Z",
     "iopub.status.busy": "2022-03-26T07:00:22.818183Z",
     "iopub.status.idle": "2022-03-26T07:02:13.041037Z",
     "shell.execute_reply": "2022-03-26T07:02:13.040303Z"
    },
    "papermill": {
     "duration": 110.246135,
     "end_time": "2022-03-26T07:02:13.041223",
     "exception": false,
     "start_time": "2022-03-26T07:00:22.795088",
     "status": "completed"
    },
    "tags": []
   },
   "outputs": [],
   "source": [
    "###################################\n",
    "# Build the dataset\n",
    "###################################\n",
    "\n",
    "if p.x_transforms_source == []: x_transform_source = None\n",
    "else: x_transform_source = get_chained_transform(p.x_transforms_source) \n",
    "\n",
    "if p.x_transforms_target == []: x_transform_target = None\n",
    "else: x_transform_target = get_chained_transform(p.x_transforms_target)\n",
    "\n",
    "if p.episode_transforms_source == []: episode_transform_source = None\n",
    "else: raise Exception(\"episode_transform_source not implemented\")\n",
    "\n",
    "if p.episode_transforms_target == []: episode_transform_target = None\n",
    "else: raise Exception(\"episode_transform_target not implemented\")\n",
    "\n",
    "\n",
    "eaf_source = Episodic_Accessor_Factory(\n",
    "    labels=p.labels_source,\n",
    "    domains=p.domains_source,\n",
    "    num_examples_per_domain_per_label=p.num_examples_per_domain_per_label_source,\n",
    "    iterator_seed=p.seed,\n",
    "    dataset_seed=p.dataset_seed,\n",
    "    n_shot=p.n_shot,\n",
    "    n_way=p.n_way,\n",
    "    n_query=p.n_query,\n",
    "    train_val_test_k_factors=(p.train_k_factor,p.val_k_factor,p.test_k_factor),\n",
    "    pickle_path=os.path.join(get_datasets_base_path(), p.pickle_name),\n",
    "    x_transform_func=x_transform_source,\n",
    "    example_transform_func=episode_transform_source,\n",
    "    \n",
    ")\n",
    "train_original_source, val_original_source, test_original_source = eaf_source.get_train(), eaf_source.get_val(), eaf_source.get_test()\n",
    "\n",
    "\n",
    "eaf_target = Episodic_Accessor_Factory(\n",
    "    labels=p.labels_target,\n",
    "    domains=p.domains_target,\n",
    "    num_examples_per_domain_per_label=p.num_examples_per_domain_per_label_target,\n",
    "    iterator_seed=p.seed,\n",
    "    dataset_seed=p.dataset_seed,\n",
    "    n_shot=p.n_shot,\n",
    "    n_way=p.n_way,\n",
    "    n_query=p.n_query,\n",
    "    train_val_test_k_factors=(p.train_k_factor,p.val_k_factor,p.test_k_factor),\n",
    "    pickle_path=os.path.join(get_datasets_base_path(), p.pickle_name),\n",
    "    x_transform_func=x_transform_target,\n",
    "    example_transform_func=episode_transform_target,\n",
    ")\n",
    "train_original_target, val_original_target, test_original_target = eaf_target.get_train(), eaf_target.get_val(), eaf_target.get_test()\n",
    "\n",
    "\n",
    "transform_lambda = lambda ex: ex[1] # Original is (<domain>, <episode>) so we strip down to episode only\n",
    "\n",
    "train_processed_source = Lazy_Iterable_Wrapper(train_original_source, transform_lambda)\n",
    "val_processed_source   = Lazy_Iterable_Wrapper(val_original_source, transform_lambda)\n",
    "test_processed_source  = Lazy_Iterable_Wrapper(test_original_source, transform_lambda)\n",
    "\n",
    "train_processed_target = Lazy_Iterable_Wrapper(train_original_target, transform_lambda)\n",
    "val_processed_target   = Lazy_Iterable_Wrapper(val_original_target, transform_lambda)\n",
    "test_processed_target  = Lazy_Iterable_Wrapper(test_original_target, transform_lambda)\n",
    "\n",
    "datasets = EasyDict({\n",
    "    \"source\": {\n",
    "        \"original\": {\"train\":train_original_source, \"val\":val_original_source, \"test\":test_original_source},\n",
    "        \"processed\": {\"train\":train_processed_source, \"val\":val_processed_source, \"test\":test_processed_source}\n",
    "    },\n",
    "    \"target\": {\n",
    "        \"original\": {\"train\":train_original_target, \"val\":val_original_target, \"test\":test_original_target},\n",
    "        \"processed\": {\"train\":train_processed_target, \"val\":val_processed_target, \"test\":test_processed_target}\n",
    "    },\n",
    "})"
   ]
  },
  {
   "cell_type": "code",
   "execution_count": 11,
   "id": "296189d9",
   "metadata": {
    "execution": {
     "iopub.execute_input": "2022-03-26T07:02:13.082094Z",
     "iopub.status.busy": "2022-03-26T07:02:13.081712Z",
     "iopub.status.idle": "2022-03-26T07:02:20.759299Z",
     "shell.execute_reply": "2022-03-26T07:02:20.758452Z"
    },
    "papermill": {
     "duration": 7.698342,
     "end_time": "2022-03-26T07:02:20.759473",
     "exception": false,
     "start_time": "2022-03-26T07:02:13.061131",
     "status": "completed"
    },
    "tags": []
   },
   "outputs": [
    {
     "name": "stdout",
     "output_type": "stream",
     "text": [
      "Visually inspect these to see if they line up with expected values given the transforms\n",
      "x_transforms_source ['unit_mag']\n",
      "x_transforms_target ['unit_mag']\n",
      "Average magnitude, source: 1.0\n",
      "Average power, source: 1.0954568\n"
     ]
    },
    {
     "name": "stdout",
     "output_type": "stream",
     "text": [
      "Average magnitude, target: 1.0\n",
      "Average power, target: 1.2488899\n"
     ]
    }
   ],
   "source": [
    "# Some quick unit tests on the data\n",
    "from steves_utils.transforms import get_average_power, get_average_magnitude\n",
    "\n",
    "q_x, q_y, s_x, s_y, truth = next(iter(train_processed_source))\n",
    "\n",
    "assert q_x.dtype == eval(p.torch_default_dtype)\n",
    "assert s_x.dtype == eval(p.torch_default_dtype)\n",
    "\n",
    "print(\"Visually inspect these to see if they line up with expected values given the transforms\")\n",
    "print('x_transforms_source', p.x_transforms_source)\n",
    "print('x_transforms_target', p.x_transforms_target)\n",
    "print(\"Average magnitude, source:\", get_average_magnitude(q_x[0].numpy()))\n",
    "print(\"Average power, source:\", get_average_power(q_x[0].numpy()))\n",
    "\n",
    "q_x, q_y, s_x, s_y, truth = next(iter(train_processed_target))\n",
    "print(\"Average magnitude, target:\", get_average_magnitude(q_x[0].numpy()))\n",
    "print(\"Average power, target:\", get_average_power(q_x[0].numpy()))\n"
   ]
  },
  {
   "cell_type": "code",
   "execution_count": 12,
   "id": "bbdacba1",
   "metadata": {
    "execution": {
     "iopub.execute_input": "2022-03-26T07:02:20.805279Z",
     "iopub.status.busy": "2022-03-26T07:02:20.804899Z",
     "iopub.status.idle": "2022-03-26T07:02:21.071635Z",
     "shell.execute_reply": "2022-03-26T07:02:21.071253Z"
    },
    "papermill": {
     "duration": 0.288468,
     "end_time": "2022-03-26T07:02:21.071746",
     "exception": false,
     "start_time": "2022-03-26T07:02:20.783278",
     "status": "completed"
    },
    "tags": []
   },
   "outputs": [
    {
     "name": "stdout",
     "output_type": "stream",
     "text": [
      "(2, 256)\n"
     ]
    }
   ],
   "source": [
    "###################################\n",
    "# Build the model\n",
    "###################################\n",
    "model = Steves_Prototypical_Network(x_net, device=p.device, x_shape=(2,256))\n",
    "optimizer = Adam(params=model.parameters(), lr=p.lr)"
   ]
  },
  {
   "cell_type": "code",
   "execution_count": 13,
   "id": "22b39ac5",
   "metadata": {
    "execution": {
     "iopub.execute_input": "2022-03-26T07:02:21.109540Z",
     "iopub.status.busy": "2022-03-26T07:02:21.109165Z",
     "iopub.status.idle": "2022-03-26T08:43:41.708028Z",
     "shell.execute_reply": "2022-03-26T08:43:41.707655Z"
    },
    "papermill": {
     "duration": 6080.619785,
     "end_time": "2022-03-26T08:43:41.708130",
     "exception": false,
     "start_time": "2022-03-26T07:02:21.088345",
     "status": "completed"
    },
    "tags": []
   },
   "outputs": [
    {
     "name": "stdout",
     "output_type": "stream",
     "text": [
      "epoch: 1, [batch: 1 / 12600], examples_per_second: 17.8154, train_label_loss: 2.7716, \n"
     ]
    },
    {
     "name": "stdout",
     "output_type": "stream",
     "text": [
      "epoch: 1, [batch: 1260 / 12600], examples_per_second: 1811.4651, train_label_loss: 1.8168, \n"
     ]
    },
    {
     "name": "stdout",
     "output_type": "stream",
     "text": [
      "epoch: 1, [batch: 2520 / 12600], examples_per_second: 1902.9195, train_label_loss: 1.5334, \n"
     ]
    },
    {
     "name": "stdout",
     "output_type": "stream",
     "text": [
      "epoch: 1, [batch: 3780 / 12600], examples_per_second: 3237.5236, train_label_loss: 1.2397, \n"
     ]
    },
    {
     "name": "stdout",
     "output_type": "stream",
     "text": [
      "epoch: 1, [batch: 5040 / 12600], examples_per_second: 4439.6761, train_label_loss: 1.6502, \n"
     ]
    },
    {
     "name": "stdout",
     "output_type": "stream",
     "text": [
      "epoch: 1, [batch: 6300 / 12600], examples_per_second: 1970.1044, train_label_loss: 1.2632, \n"
     ]
    },
    {
     "name": "stdout",
     "output_type": "stream",
     "text": [
      "epoch: 1, [batch: 7560 / 12600], examples_per_second: 1790.4353, train_label_loss: 1.3490, \n"
     ]
    },
    {
     "name": "stdout",
     "output_type": "stream",
     "text": [
      "epoch: 1, [batch: 8820 / 12600], examples_per_second: 1785.0604, train_label_loss: 1.3120, \n"
     ]
    },
    {
     "name": "stdout",
     "output_type": "stream",
     "text": [
      "epoch: 1, [batch: 10080 / 12600], examples_per_second: 1785.1780, train_label_loss: 1.5030, \n"
     ]
    },
    {
     "name": "stdout",
     "output_type": "stream",
     "text": [
      "epoch: 1, [batch: 11340 / 12600], examples_per_second: 3474.9370, train_label_loss: 1.3671, \n"
     ]
    },
    {
     "name": "stdout",
     "output_type": "stream",
     "text": [
      "=============================================================\n",
      "epoch: 1, source_val_acc_label: 0.5700, target_val_acc_label: 0.4874, source_val_label_loss: 1.1695, target_val_label_loss: 1.3926, \n",
      "=============================================================\n"
     ]
    },
    {
     "name": "stdout",
     "output_type": "stream",
     "text": [
      "New best\n"
     ]
    },
    {
     "name": "stdout",
     "output_type": "stream",
     "text": [
      "epoch: 2, [batch: 1 / 12600], examples_per_second: 0.7314, train_label_loss: 1.4674, \n"
     ]
    },
    {
     "name": "stdout",
     "output_type": "stream",
     "text": [
      "epoch: 2, [batch: 1260 / 12600], examples_per_second: 4248.7775, train_label_loss: 0.9370, \n"
     ]
    },
    {
     "name": "stdout",
     "output_type": "stream",
     "text": [
      "epoch: 2, [batch: 2520 / 12600], examples_per_second: 2208.0073, train_label_loss: 0.9935, \n"
     ]
    },
    {
     "name": "stdout",
     "output_type": "stream",
     "text": [
      "epoch: 2, [batch: 3780 / 12600], examples_per_second: 2004.8326, train_label_loss: 0.9699, \n"
     ]
    },
    {
     "name": "stdout",
     "output_type": "stream",
     "text": [
      "epoch: 2, [batch: 5040 / 12600], examples_per_second: 1843.5107, train_label_loss: 1.1312, \n"
     ]
    },
    {
     "name": "stdout",
     "output_type": "stream",
     "text": [
      "epoch: 2, [batch: 6300 / 12600], examples_per_second: 2529.6540, train_label_loss: 0.7369, \n"
     ]
    },
    {
     "name": "stdout",
     "output_type": "stream",
     "text": [
      "epoch: 2, [batch: 7560 / 12600], examples_per_second: 3966.0757, train_label_loss: 0.9073, \n"
     ]
    },
    {
     "name": "stdout",
     "output_type": "stream",
     "text": [
      "epoch: 2, [batch: 8820 / 12600], examples_per_second: 2036.9880, train_label_loss: 0.5855, \n"
     ]
    },
    {
     "name": "stdout",
     "output_type": "stream",
     "text": [
      "epoch: 2, [batch: 10080 / 12600], examples_per_second: 1793.4326, train_label_loss: 0.6973, \n"
     ]
    },
    {
     "name": "stdout",
     "output_type": "stream",
     "text": [
      "epoch: 2, [batch: 11340 / 12600], examples_per_second: 1781.4765, train_label_loss: 0.5615, \n"
     ]
    },
    {
     "name": "stdout",
     "output_type": "stream",
     "text": [
      "=============================================================\n",
      "epoch: 2, source_val_acc_label: 0.6643, target_val_acc_label: 0.5809, source_val_label_loss: 0.8933, target_val_label_loss: 1.1086, \n",
      "=============================================================\n"
     ]
    },
    {
     "name": "stdout",
     "output_type": "stream",
     "text": [
      "New best\n"
     ]
    },
    {
     "name": "stdout",
     "output_type": "stream",
     "text": [
      "epoch: 3, [batch: 1 / 12600], examples_per_second: 1.0489, train_label_loss: 0.6129, \n"
     ]
    },
    {
     "name": "stdout",
     "output_type": "stream",
     "text": [
      "epoch: 3, [batch: 1260 / 12600], examples_per_second: 1889.3503, train_label_loss: 0.4505, \n"
     ]
    },
    {
     "name": "stdout",
     "output_type": "stream",
     "text": [
      "epoch: 3, [batch: 2520 / 12600], examples_per_second: 1923.9935, train_label_loss: 0.8191, \n"
     ]
    },
    {
     "name": "stdout",
     "output_type": "stream",
     "text": [
      "epoch: 3, [batch: 3780 / 12600], examples_per_second: 3304.0867, train_label_loss: 0.8387, \n"
     ]
    },
    {
     "name": "stdout",
     "output_type": "stream",
     "text": [
      "epoch: 3, [batch: 5040 / 12600], examples_per_second: 4443.1827, train_label_loss: 0.4961, \n"
     ]
    },
    {
     "name": "stdout",
     "output_type": "stream",
     "text": [
      "epoch: 3, [batch: 6300 / 12600], examples_per_second: 1935.0691, train_label_loss: 0.7501, \n"
     ]
    },
    {
     "name": "stdout",
     "output_type": "stream",
     "text": [
      "epoch: 3, [batch: 7560 / 12600], examples_per_second: 1781.1436, train_label_loss: 0.9470, \n"
     ]
    },
    {
     "name": "stdout",
     "output_type": "stream",
     "text": [
      "epoch: 3, [batch: 8820 / 12600], examples_per_second: 1788.4444, train_label_loss: 0.5509, \n"
     ]
    },
    {
     "name": "stdout",
     "output_type": "stream",
     "text": [
      "epoch: 3, [batch: 10080 / 12600], examples_per_second: 2717.7234, train_label_loss: 0.4586, \n"
     ]
    },
    {
     "name": "stdout",
     "output_type": "stream",
     "text": [
      "epoch: 3, [batch: 11340 / 12600], examples_per_second: 3961.0588, train_label_loss: 0.8692, \n"
     ]
    },
    {
     "name": "stdout",
     "output_type": "stream",
     "text": [
      "=============================================================\n",
      "epoch: 3, source_val_acc_label: 0.6819, target_val_acc_label: 0.6038, source_val_label_loss: 0.8743, target_val_label_loss: 1.0706, \n",
      "=============================================================\n"
     ]
    },
    {
     "name": "stdout",
     "output_type": "stream",
     "text": [
      "New best\n"
     ]
    },
    {
     "name": "stdout",
     "output_type": "stream",
     "text": [
      "epoch: 4, [batch: 1 / 12600], examples_per_second: 0.7026, train_label_loss: 0.6197, \n"
     ]
    },
    {
     "name": "stdout",
     "output_type": "stream",
     "text": [
      "epoch: 4, [batch: 1260 / 12600], examples_per_second: 4194.4318, train_label_loss: 0.7081, \n"
     ]
    },
    {
     "name": "stdout",
     "output_type": "stream",
     "text": [
      "epoch: 4, [batch: 2520 / 12600], examples_per_second: 1958.8409, train_label_loss: 0.5671, \n"
     ]
    },
    {
     "name": "stdout",
     "output_type": "stream",
     "text": [
      "epoch: 4, [batch: 3780 / 12600], examples_per_second: 2021.1083, train_label_loss: 0.5779, \n"
     ]
    },
    {
     "name": "stdout",
     "output_type": "stream",
     "text": [
      "epoch: 4, [batch: 5040 / 12600], examples_per_second: 1774.9454, train_label_loss: 0.6760, \n"
     ]
    },
    {
     "name": "stdout",
     "output_type": "stream",
     "text": [
      "epoch: 4, [batch: 6300 / 12600], examples_per_second: 1908.0291, train_label_loss: 0.6328, \n"
     ]
    },
    {
     "name": "stdout",
     "output_type": "stream",
     "text": [
      "epoch: 4, [batch: 7560 / 12600], examples_per_second: 3769.5887, train_label_loss: 0.5291, \n"
     ]
    },
    {
     "name": "stdout",
     "output_type": "stream",
     "text": [
      "epoch: 4, [batch: 8820 / 12600], examples_per_second: 2822.8775, train_label_loss: 0.7694, \n"
     ]
    },
    {
     "name": "stdout",
     "output_type": "stream",
     "text": [
      "epoch: 4, [batch: 10080 / 12600], examples_per_second: 1805.4902, train_label_loss: 0.5332, \n"
     ]
    },
    {
     "name": "stdout",
     "output_type": "stream",
     "text": [
      "epoch: 4, [batch: 11340 / 12600], examples_per_second: 1790.9739, train_label_loss: 0.6562, \n"
     ]
    },
    {
     "name": "stdout",
     "output_type": "stream",
     "text": [
      "=============================================================\n",
      "epoch: 4, source_val_acc_label: 0.6890, target_val_acc_label: 0.6096, source_val_label_loss: 0.8490, target_val_label_loss: 1.0481, \n",
      "=============================================================\n"
     ]
    },
    {
     "name": "stdout",
     "output_type": "stream",
     "text": [
      "New best\n"
     ]
    },
    {
     "name": "stdout",
     "output_type": "stream",
     "text": [
      "epoch: 5, [batch: 1 / 12600], examples_per_second: 1.0737, train_label_loss: 0.6376, \n"
     ]
    },
    {
     "name": "stdout",
     "output_type": "stream",
     "text": [
      "epoch: 5, [batch: 1260 / 12600], examples_per_second: 1917.7275, train_label_loss: 0.5287, \n"
     ]
    },
    {
     "name": "stdout",
     "output_type": "stream",
     "text": [
      "epoch: 5, [batch: 2520 / 12600], examples_per_second: 1925.3903, train_label_loss: 0.7822, \n"
     ]
    },
    {
     "name": "stdout",
     "output_type": "stream",
     "text": [
      "epoch: 5, [batch: 3780 / 12600], examples_per_second: 2821.6296, train_label_loss: 0.5202, \n"
     ]
    },
    {
     "name": "stdout",
     "output_type": "stream",
     "text": [
      "epoch: 5, [batch: 5040 / 12600], examples_per_second: 4556.7011, train_label_loss: 0.7377, \n"
     ]
    },
    {
     "name": "stdout",
     "output_type": "stream",
     "text": [
      "epoch: 5, [batch: 6300 / 12600], examples_per_second: 2242.4363, train_label_loss: 0.5263, \n"
     ]
    },
    {
     "name": "stdout",
     "output_type": "stream",
     "text": [
      "epoch: 5, [batch: 7560 / 12600], examples_per_second: 1804.3148, train_label_loss: 0.5409, \n"
     ]
    },
    {
     "name": "stdout",
     "output_type": "stream",
     "text": [
      "epoch: 5, [batch: 8820 / 12600], examples_per_second: 1774.8779, train_label_loss: 0.5275, \n"
     ]
    },
    {
     "name": "stdout",
     "output_type": "stream",
     "text": [
      "epoch: 5, [batch: 10080 / 12600], examples_per_second: 1774.0137, train_label_loss: 0.5518, \n"
     ]
    },
    {
     "name": "stdout",
     "output_type": "stream",
     "text": [
      "epoch: 5, [batch: 11340 / 12600], examples_per_second: 2925.1136, train_label_loss: 0.5816, \n"
     ]
    },
    {
     "name": "stdout",
     "output_type": "stream",
     "text": [
      "=============================================================\n",
      "epoch: 5, source_val_acc_label: 0.6765, target_val_acc_label: 0.5938, source_val_label_loss: 0.8673, target_val_label_loss: 1.0813, \n",
      "=============================================================\n"
     ]
    },
    {
     "name": "stdout",
     "output_type": "stream",
     "text": [
      "epoch: 6, [batch: 1 / 12600], examples_per_second: 0.7395, train_label_loss: 0.5208, \n"
     ]
    },
    {
     "name": "stdout",
     "output_type": "stream",
     "text": [
      "epoch: 6, [batch: 1260 / 12600], examples_per_second: 4448.6213, train_label_loss: 0.8600, \n"
     ]
    },
    {
     "name": "stdout",
     "output_type": "stream",
     "text": [
      "epoch: 6, [batch: 2520 / 12600], examples_per_second: 2855.3989, train_label_loss: 0.5177, \n"
     ]
    },
    {
     "name": "stdout",
     "output_type": "stream",
     "text": [
      "epoch: 6, [batch: 3780 / 12600], examples_per_second: 2036.9672, train_label_loss: 0.4418, \n"
     ]
    },
    {
     "name": "stdout",
     "output_type": "stream",
     "text": [
      "epoch: 6, [batch: 5040 / 12600], examples_per_second: 1763.6615, train_label_loss: 0.6769, \n"
     ]
    },
    {
     "name": "stdout",
     "output_type": "stream",
     "text": [
      "epoch: 6, [batch: 6300 / 12600], examples_per_second: 1778.5442, train_label_loss: 0.5329, \n"
     ]
    },
    {
     "name": "stdout",
     "output_type": "stream",
     "text": [
      "epoch: 6, [batch: 7560 / 12600], examples_per_second: 2448.0619, train_label_loss: 0.3708, \n"
     ]
    },
    {
     "name": "stdout",
     "output_type": "stream",
     "text": [
      "epoch: 6, [batch: 8820 / 12600], examples_per_second: 3900.8395, train_label_loss: 0.4068, \n"
     ]
    },
    {
     "name": "stdout",
     "output_type": "stream",
     "text": [
      "epoch: 6, [batch: 10080 / 12600], examples_per_second: 1832.0162, train_label_loss: 0.3367, \n"
     ]
    },
    {
     "name": "stdout",
     "output_type": "stream",
     "text": [
      "epoch: 6, [batch: 11340 / 12600], examples_per_second: 1783.1826, train_label_loss: 0.8136, \n"
     ]
    },
    {
     "name": "stdout",
     "output_type": "stream",
     "text": [
      "=============================================================\n",
      "epoch: 6, source_val_acc_label: 0.6923, target_val_acc_label: 0.6139, source_val_label_loss: 0.9064, target_val_label_loss: 1.0942, \n",
      "=============================================================\n"
     ]
    },
    {
     "name": "stdout",
     "output_type": "stream",
     "text": [
      "New best\n"
     ]
    },
    {
     "name": "stdout",
     "output_type": "stream",
     "text": [
      "epoch: 7, [batch: 1 / 12600], examples_per_second: 0.6442, train_label_loss: 0.3336, \n"
     ]
    },
    {
     "name": "stdout",
     "output_type": "stream",
     "text": [
      "epoch: 7, [batch: 1260 / 12600], examples_per_second: 3549.5124, train_label_loss: 0.4952, \n"
     ]
    },
    {
     "name": "stdout",
     "output_type": "stream",
     "text": [
      "epoch: 7, [batch: 2520 / 12600], examples_per_second: 3718.1679, train_label_loss: 0.3753, \n"
     ]
    },
    {
     "name": "stdout",
     "output_type": "stream",
     "text": [
      "epoch: 7, [batch: 3780 / 12600], examples_per_second: 1988.4250, train_label_loss: 0.5833, \n"
     ]
    },
    {
     "name": "stdout",
     "output_type": "stream",
     "text": [
      "epoch: 7, [batch: 5040 / 12600], examples_per_second: 1941.7386, train_label_loss: 0.5183, \n"
     ]
    },
    {
     "name": "stdout",
     "output_type": "stream",
     "text": [
      "epoch: 7, [batch: 6300 / 12600], examples_per_second: 1924.9449, train_label_loss: 0.6102, \n"
     ]
    },
    {
     "name": "stdout",
     "output_type": "stream",
     "text": [
      "epoch: 7, [batch: 7560 / 12600], examples_per_second: 1946.2885, train_label_loss: 0.5773, \n"
     ]
    },
    {
     "name": "stdout",
     "output_type": "stream",
     "text": [
      "epoch: 7, [batch: 8820 / 12600], examples_per_second: 1944.8805, train_label_loss: 0.5178, \n"
     ]
    },
    {
     "name": "stdout",
     "output_type": "stream",
     "text": [
      "epoch: 7, [batch: 10080 / 12600], examples_per_second: 1920.5718, train_label_loss: 0.2794, \n"
     ]
    },
    {
     "name": "stdout",
     "output_type": "stream",
     "text": [
      "epoch: 7, [batch: 11340 / 12600], examples_per_second: 2225.7297, train_label_loss: 0.3037, \n"
     ]
    },
    {
     "name": "stdout",
     "output_type": "stream",
     "text": [
      "=============================================================\n",
      "epoch: 7, source_val_acc_label: 0.6788, target_val_acc_label: 0.6004, source_val_label_loss: 0.9177, target_val_label_loss: 1.1297, \n",
      "=============================================================\n"
     ]
    },
    {
     "name": "stdout",
     "output_type": "stream",
     "text": [
      "epoch: 8, [batch: 1 / 12600], examples_per_second: 0.9304, train_label_loss: 0.6335, \n"
     ]
    },
    {
     "name": "stdout",
     "output_type": "stream",
     "text": [
      "epoch: 8, [batch: 1260 / 12600], examples_per_second: 1919.2560, train_label_loss: 0.5775, \n"
     ]
    },
    {
     "name": "stdout",
     "output_type": "stream",
     "text": [
      "epoch: 8, [batch: 2520 / 12600], examples_per_second: 2225.1510, train_label_loss: 0.3917, \n"
     ]
    },
    {
     "name": "stdout",
     "output_type": "stream",
     "text": [
      "epoch: 8, [batch: 3780 / 12600], examples_per_second: 2324.3150, train_label_loss: 0.4167, \n"
     ]
    },
    {
     "name": "stdout",
     "output_type": "stream",
     "text": [
      "epoch: 8, [batch: 5040 / 12600], examples_per_second: 2307.9016, train_label_loss: 0.2451, \n"
     ]
    },
    {
     "name": "stdout",
     "output_type": "stream",
     "text": [
      "epoch: 8, [batch: 6300 / 12600], examples_per_second: 4076.9216, train_label_loss: 0.3364, \n"
     ]
    },
    {
     "name": "stdout",
     "output_type": "stream",
     "text": [
      "epoch: 8, [batch: 7560 / 12600], examples_per_second: 5070.7264, train_label_loss: 0.4127, \n"
     ]
    },
    {
     "name": "stdout",
     "output_type": "stream",
     "text": [
      "epoch: 8, [batch: 8820 / 12600], examples_per_second: 2639.2674, train_label_loss: 0.1682, \n"
     ]
    },
    {
     "name": "stdout",
     "output_type": "stream",
     "text": [
      "epoch: 8, [batch: 10080 / 12600], examples_per_second: 2324.9082, train_label_loss: 0.3878, \n"
     ]
    },
    {
     "name": "stdout",
     "output_type": "stream",
     "text": [
      "epoch: 8, [batch: 11340 / 12600], examples_per_second: 2363.2839, train_label_loss: 0.5576, \n"
     ]
    },
    {
     "name": "stdout",
     "output_type": "stream",
     "text": [
      "=============================================================\n",
      "epoch: 8, source_val_acc_label: 0.6816, target_val_acc_label: 0.5988, source_val_label_loss: 0.9415, target_val_label_loss: 1.1604, \n",
      "=============================================================\n"
     ]
    },
    {
     "name": "stdout",
     "output_type": "stream",
     "text": [
      "epoch: 9, [batch: 1 / 12600], examples_per_second: 0.7046, train_label_loss: 0.5719, \n"
     ]
    },
    {
     "name": "stdout",
     "output_type": "stream",
     "text": [
      "epoch: 9, [batch: 1260 / 12600], examples_per_second: 3806.4392, train_label_loss: 0.3027, \n"
     ]
    },
    {
     "name": "stdout",
     "output_type": "stream",
     "text": [
      "epoch: 9, [batch: 2520 / 12600], examples_per_second: 2309.8616, train_label_loss: 0.5130, \n"
     ]
    },
    {
     "name": "stdout",
     "output_type": "stream",
     "text": [
      "epoch: 9, [batch: 3780 / 12600], examples_per_second: 1796.8406, train_label_loss: 0.3689, \n"
     ]
    },
    {
     "name": "stdout",
     "output_type": "stream",
     "text": [
      "epoch: 9, [batch: 5040 / 12600], examples_per_second: 1785.1317, train_label_loss: 0.2518, \n"
     ]
    },
    {
     "name": "stdout",
     "output_type": "stream",
     "text": [
      "epoch: 9, [batch: 6300 / 12600], examples_per_second: 1779.7126, train_label_loss: 0.3782, \n"
     ]
    },
    {
     "name": "stdout",
     "output_type": "stream",
     "text": [
      "epoch: 9, [batch: 7560 / 12600], examples_per_second: 1782.0630, train_label_loss: 0.3966, \n"
     ]
    },
    {
     "name": "stdout",
     "output_type": "stream",
     "text": [
      "epoch: 9, [batch: 8820 / 12600], examples_per_second: 1791.0707, train_label_loss: 0.2457, \n"
     ]
    },
    {
     "name": "stdout",
     "output_type": "stream",
     "text": [
      "epoch: 9, [batch: 10080 / 12600], examples_per_second: 1916.6720, train_label_loss: 0.3690, \n"
     ]
    },
    {
     "name": "stdout",
     "output_type": "stream",
     "text": [
      "epoch: 9, [batch: 11340 / 12600], examples_per_second: 2868.9790, train_label_loss: 0.2962, \n"
     ]
    },
    {
     "name": "stdout",
     "output_type": "stream",
     "text": [
      "=============================================================\n",
      "epoch: 9, source_val_acc_label: 0.6846, target_val_acc_label: 0.6011, source_val_label_loss: 0.9843, target_val_label_loss: 1.2047, \n",
      "=============================================================\n"
     ]
    },
    {
     "name": "stdout",
     "output_type": "stream",
     "text": [
      "epoch: 10, [batch: 1 / 12600], examples_per_second: 0.7760, train_label_loss: 0.4815, \n"
     ]
    },
    {
     "name": "stdout",
     "output_type": "stream",
     "text": [
      "epoch: 10, [batch: 1260 / 12600], examples_per_second: 1779.8792, train_label_loss: 0.3945, \n"
     ]
    },
    {
     "name": "stdout",
     "output_type": "stream",
     "text": [
      "epoch: 10, [batch: 2520 / 12600], examples_per_second: 1783.8864, train_label_loss: 0.3078, \n"
     ]
    },
    {
     "name": "stdout",
     "output_type": "stream",
     "text": [
      "epoch: 10, [batch: 3780 / 12600], examples_per_second: 1763.3769, train_label_loss: 0.4468, \n"
     ]
    },
    {
     "name": "stdout",
     "output_type": "stream",
     "text": [
      "epoch: 10, [batch: 5040 / 12600], examples_per_second: 2524.2723, train_label_loss: 0.3661, \n"
     ]
    },
    {
     "name": "stdout",
     "output_type": "stream",
     "text": [
      "epoch: 10, [batch: 6300 / 12600], examples_per_second: 3624.0638, train_label_loss: 0.1520, \n"
     ]
    },
    {
     "name": "stdout",
     "output_type": "stream",
     "text": [
      "epoch: 10, [batch: 7560 / 12600], examples_per_second: 1810.2666, train_label_loss: 0.0859, \n"
     ]
    },
    {
     "name": "stdout",
     "output_type": "stream",
     "text": [
      "epoch: 10, [batch: 8820 / 12600], examples_per_second: 1828.2540, train_label_loss: 0.2216, \n"
     ]
    },
    {
     "name": "stdout",
     "output_type": "stream",
     "text": [
      "epoch: 10, [batch: 10080 / 12600], examples_per_second: 1918.9937, train_label_loss: 0.4104, \n"
     ]
    },
    {
     "name": "stdout",
     "output_type": "stream",
     "text": [
      "epoch: 10, [batch: 11340 / 12600], examples_per_second: 1914.6989, train_label_loss: 0.5004, \n"
     ]
    },
    {
     "name": "stdout",
     "output_type": "stream",
     "text": [
      "=============================================================\n",
      "epoch: 10, source_val_acc_label: 0.6790, target_val_acc_label: 0.5937, source_val_label_loss: 1.0443, target_val_label_loss: 1.2738, \n",
      "=============================================================\n"
     ]
    },
    {
     "name": "stdout",
     "output_type": "stream",
     "text": [
      "Patience (3) exhausted\n"
     ]
    }
   ],
   "source": [
    "###################################\n",
    "# train\n",
    "###################################\n",
    "jig = PTN_Train_Eval_Test_Jig(model, p.BEST_MODEL_PATH, p.device)\n",
    "\n",
    "jig.train(\n",
    "    train_iterable=datasets.source.processed.train,\n",
    "    source_val_iterable=datasets.source.processed.val,\n",
    "    target_val_iterable=datasets.target.processed.val,\n",
    "    num_epochs=p.n_epoch,\n",
    "    num_logs_per_epoch=p.NUM_LOGS_PER_EPOCH,\n",
    "    patience=p.patience,\n",
    "    optimizer=optimizer,\n",
    "    criteria_for_best=p.criteria_for_best,\n",
    ")"
   ]
  },
  {
   "cell_type": "code",
   "execution_count": 14,
   "id": "31e8fabf",
   "metadata": {
    "execution": {
     "iopub.execute_input": "2022-03-26T08:43:41.811374Z",
     "iopub.status.busy": "2022-03-26T08:43:41.810992Z",
     "iopub.status.idle": "2022-03-26T08:43:41.843656Z",
     "shell.execute_reply": "2022-03-26T08:43:41.842782Z"
    },
    "papermill": {
     "duration": 0.086631,
     "end_time": "2022-03-26T08:43:41.843837",
     "exception": false,
     "start_time": "2022-03-26T08:43:41.757206",
     "status": "completed"
    },
    "tags": []
   },
   "outputs": [],
   "source": [
    "total_experiment_time_secs = time.time() - start_time_secs"
   ]
  },
  {
   "cell_type": "code",
   "execution_count": 15,
   "id": "87b9595b",
   "metadata": {
    "execution": {
     "iopub.execute_input": "2022-03-26T08:43:41.959476Z",
     "iopub.status.busy": "2022-03-26T08:43:41.958596Z",
     "iopub.status.idle": "2022-03-26T08:56:35.672972Z",
     "shell.execute_reply": "2022-03-26T08:56:35.672202Z"
    },
    "papermill": {
     "duration": 773.771914,
     "end_time": "2022-03-26T08:56:35.673150",
     "exception": false,
     "start_time": "2022-03-26T08:43:41.901236",
     "status": "completed"
    },
    "tags": []
   },
   "outputs": [],
   "source": [
    "###################################\n",
    "# Evaluate the model\n",
    "###################################\n",
    "source_test_label_accuracy, source_test_label_loss = jig.test(datasets.source.processed.test)\n",
    "target_test_label_accuracy, target_test_label_loss = jig.test(datasets.target.processed.test)\n",
    "\n",
    "source_val_label_accuracy, source_val_label_loss = jig.test(datasets.source.processed.val)\n",
    "target_val_label_accuracy, target_val_label_loss = jig.test(datasets.target.processed.val)\n",
    "\n",
    "history = jig.get_history()\n",
    "\n",
    "total_epochs_trained = len(history[\"epoch_indices\"])\n",
    "\n",
    "val_dl = Iterable_Aggregator((datasets.source.original.val,datasets.target.original.val))\n",
    "\n",
    "confusion = ptn_confusion_by_domain_over_dataloader(model, p.device, val_dl)\n",
    "per_domain_accuracy = per_domain_accuracy_from_confusion(confusion)\n",
    "\n",
    "# Add a key to per_domain_accuracy for if it was a source domain\n",
    "for domain, accuracy in per_domain_accuracy.items():\n",
    "    per_domain_accuracy[domain] = {\n",
    "        \"accuracy\": accuracy,\n",
    "        \"source?\": domain in p.domains_source\n",
    "    }\n",
    "\n",
    "# Do an independent accuracy assesment JUST TO BE SURE!\n",
    "# _source_test_label_accuracy = independent_accuracy_assesment(model, datasets.source.processed.test, p.device)\n",
    "# _target_test_label_accuracy = independent_accuracy_assesment(model, datasets.target.processed.test, p.device)\n",
    "# _source_val_label_accuracy = independent_accuracy_assesment(model, datasets.source.processed.val, p.device)\n",
    "# _target_val_label_accuracy = independent_accuracy_assesment(model, datasets.target.processed.val, p.device)\n",
    "\n",
    "# assert(_source_test_label_accuracy == source_test_label_accuracy)\n",
    "# assert(_target_test_label_accuracy == target_test_label_accuracy)\n",
    "# assert(_source_val_label_accuracy == source_val_label_accuracy)\n",
    "# assert(_target_val_label_accuracy == target_val_label_accuracy)\n",
    "\n",
    "experiment = {\n",
    "    \"experiment_name\": p.experiment_name,\n",
    "    \"parameters\": dict(p),\n",
    "    \"results\": {\n",
    "        \"source_test_label_accuracy\": source_test_label_accuracy,\n",
    "        \"source_test_label_loss\": source_test_label_loss,\n",
    "        \"target_test_label_accuracy\": target_test_label_accuracy,\n",
    "        \"target_test_label_loss\": target_test_label_loss,\n",
    "        \"source_val_label_accuracy\": source_val_label_accuracy,\n",
    "        \"source_val_label_loss\": source_val_label_loss,\n",
    "        \"target_val_label_accuracy\": target_val_label_accuracy,\n",
    "        \"target_val_label_loss\": target_val_label_loss,\n",
    "        \"total_epochs_trained\": total_epochs_trained,\n",
    "        \"total_experiment_time_secs\": total_experiment_time_secs,\n",
    "        \"confusion\": confusion,\n",
    "        \"per_domain_accuracy\": per_domain_accuracy,\n",
    "    },\n",
    "    \"history\": history,\n",
    "    \"dataset_metrics\": get_dataset_metrics(datasets, \"ptn\"),\n",
    "}"
   ]
  },
  {
   "cell_type": "code",
   "execution_count": 16,
   "id": "54a21829",
   "metadata": {
    "execution": {
     "iopub.execute_input": "2022-03-26T08:56:35.774183Z",
     "iopub.status.busy": "2022-03-26T08:56:35.773624Z",
     "iopub.status.idle": "2022-03-26T08:56:36.008860Z",
     "shell.execute_reply": "2022-03-26T08:56:36.009529Z"
    },
    "papermill": {
     "duration": 0.28572,
     "end_time": "2022-03-26T08:56:36.009709",
     "exception": false,
     "start_time": "2022-03-26T08:56:35.723989",
     "status": "completed"
    },
    "tags": []
   },
   "outputs": [
    {
     "data": {
      "image/png": "[encoded data removed]",
      "text/plain": [
       "<Figure size 1080x504 with 1 Axes>"
      ]
     },
     "metadata": {
      "needs_background": "light"
     },
     "output_type": "display_data"
    }
   ],
   "source": [
    "ax = get_loss_curve(experiment)\n",
    "plt.show()"
   ]
  },
  {
   "cell_type": "code",
   "execution_count": 17,
   "id": "fd8a0f60",
   "metadata": {
    "execution": {
     "iopub.execute_input": "2022-03-26T08:56:36.113624Z",
     "iopub.status.busy": "2022-03-26T08:56:36.113070Z",
     "iopub.status.idle": "2022-03-26T08:56:36.485523Z",
     "shell.execute_reply": "2022-03-26T08:56:36.486217Z"
    },
    "papermill": {
     "duration": 0.424594,
     "end_time": "2022-03-26T08:56:36.486413",
     "exception": false,
     "start_time": "2022-03-26T08:56:36.061819",
     "status": "completed"
    },
    "tags": []
   },
   "outputs": [
    {
     "data": {
      "text/plain": [
       "<AxesSubplot:title={'center':'Results'}>"
      ]
     },
     "execution_count": 17,
     "metadata": {},
     "output_type": "execute_result"
    },
    {
     "data": {
      "image/png": "[encoded data removed]",
      "text/plain": [
       "<Figure size 1080x504 with 1 Axes>"
      ]
     },
     "metadata": {
      "needs_background": "light"
     },
     "output_type": "display_data"
    }
   ],
   "source": [
    "get_results_table(experiment)"
   ]
  },
  {
   "cell_type": "code",
   "execution_count": 18,
   "id": "cf8dc689",
   "metadata": {
    "execution": {
     "iopub.execute_input": "2022-03-26T08:56:36.594095Z",
     "iopub.status.busy": "2022-03-26T08:56:36.593723Z",
     "iopub.status.idle": "2022-03-26T08:56:36.803740Z",
     "shell.execute_reply": "2022-03-26T08:56:36.804422Z"
    },
    "papermill": {
     "duration": 0.263178,
     "end_time": "2022-03-26T08:56:36.804607",
     "exception": false,
     "start_time": "2022-03-26T08:56:36.541429",
     "status": "completed"
    },
    "tags": []
   },
   "outputs": [
    {
     "data": {
      "text/plain": [
       "<AxesSubplot:title={'center':'Per Domain Validation Accuracy'}, xlabel='domain'>"
      ]
     },
     "execution_count": 18,
     "metadata": {},
     "output_type": "execute_result"
    },
    {
     "data": {
      "image/png": "[encoded data removed]",
      "text/plain": [
       "<Figure size 1080x504 with 1 Axes>"
      ]
     },
     "metadata": {
      "needs_background": "light"
     },
     "output_type": "display_data"
    }
   ],
   "source": [
    "get_domain_accuracies(experiment)"
   ]
  },
  {
   "cell_type": "code",
   "execution_count": 19,
   "id": "a74ae082",
   "metadata": {
    "execution": {
     "iopub.execute_input": "2022-03-26T08:56:36.912683Z",
     "iopub.status.busy": "2022-03-26T08:56:36.912312Z",
     "iopub.status.idle": "2022-03-26T08:56:36.941001Z",
     "shell.execute_reply": "2022-03-26T08:56:36.940297Z"
    },
    "papermill": {
     "duration": 0.082221,
     "end_time": "2022-03-26T08:56:36.941153",
     "exception": false,
     "start_time": "2022-03-26T08:56:36.858932",
     "status": "completed"
    },
    "tags": []
   },
   "outputs": [
    {
     "name": "stdout",
     "output_type": "stream",
     "text": [
      "Source Test Label Accuracy: 0.69390625 Target Test Label Accuracy: 0.6144479166666666\n",
      "Source Val Label Accuracy: 0.6923263888888889 Target Val Label Accuracy: 0.6139166666666667\n"
     ]
    }
   ],
   "source": [
    "print(\"Source Test Label Accuracy:\", experiment[\"results\"][\"source_test_label_accuracy\"], \"Target Test Label Accuracy:\", experiment[\"results\"][\"target_test_label_accuracy\"])\n",
    "print(\"Source Val Label Accuracy:\", experiment[\"results\"][\"source_val_label_accuracy\"], \"Target Val Label Accuracy:\", experiment[\"results\"][\"target_val_label_accuracy\"])"
   ]
  },
  {
   "cell_type": "code",
   "execution_count": 20,
   "id": "dacca602",
   "metadata": {
    "execution": {
     "iopub.execute_input": "2022-03-26T08:56:37.052206Z",
     "iopub.status.busy": "2022-03-26T08:56:37.051844Z",
     "iopub.status.idle": "2022-03-26T08:56:37.079633Z",
     "shell.execute_reply": "2022-03-26T08:56:37.080301Z"
    },
    "papermill": {
     "duration": 0.082729,
     "end_time": "2022-03-26T08:56:37.080481",
     "exception": false,
     "start_time": "2022-03-26T08:56:36.997752",
     "status": "completed"
    },
    "tags": [
     "experiment_json"
    ]
   },
   "outputs": [
    {
     "data": {
      "text/plain": [
       "'{\"experiment_name\": \"tuned_1v2:oracle.run1_limited\", \"parameters\": {\"experiment_name\": \"tuned_1v2:oracle.run1_limited\", \"device\": \"cuda\", \"lr\": 0.0001, \"labels_source\": [\"3123D52\", \"3123D65\", \"3123D79\", \"3123D80\", \"3123D54\", \"3123D70\", \"3123D7B\", \"3123D89\", \"3123D58\", \"3123D76\", \"3123D7D\", \"3123EFE\", \"3123D64\", \"3123D78\", \"3123D7E\", \"3124E4A\"], \"labels_target\": [\"3123D52\", \"3123D65\", \"3123D79\", \"3123D80\", \"3123D54\", \"3123D70\", \"3123D7B\", \"3123D89\", \"3123D58\", \"3123D76\", \"3123D7D\", \"3123EFE\", \"3123D64\", \"3123D78\", \"3123D7E\", \"3124E4A\"], \"episode_transforms_source\": [], \"episode_transforms_target\": [], \"domains_source\": [8, 32, 50], \"domains_target\": [14, 20, 26, 38, 44], \"num_examples_per_domain_per_label_source\": -1, \"num_examples_per_domain_per_label_target\": -1, \"n_shot\": 3, \"n_way\": 16, \"n_query\": 2, \"train_k_factor\": 3, \"val_k_factor\": 2, \"test_k_factor\": 2, \"torch_default_dtype\": \"torch.float32\", \"n_epoch\": 50, \"patience\": 3, \"criteria_for_best\": \"target_accuracy\", \"x_net\": [{\"class\": \"nnReshape\", \"kargs\": {\"shape\": [-1, 1, 2, 256]}}, {\"class\": \"Conv2d\", \"kargs\": {\"in_channels\": 1, \"out_channels\": 256, \"kernel_size\": [1, 7], \"bias\": false, \"padding\": [0, 3]}}, {\"class\": \"ReLU\", \"kargs\": {\"inplace\": true}}, {\"class\": \"BatchNorm2d\", \"kargs\": {\"num_features\": 256}}, {\"class\": \"Conv2d\", \"kargs\": {\"in_channels\": 256, \"out_channels\": 80, \"kernel_size\": [2, 7], \"bias\": true, \"padding\": [0, 3]}}, {\"class\": \"ReLU\", \"kargs\": {\"inplace\": true}}, {\"class\": \"BatchNorm2d\", \"kargs\": {\"num_features\": 80}}, {\"class\": \"Flatten\", \"kargs\": {}}, {\"class\": \"Linear\", \"kargs\": {\"in_features\": 20480, \"out_features\": 256}}, {\"class\": \"ReLU\", \"kargs\": {\"inplace\": true}}, {\"class\": \"BatchNorm1d\", \"kargs\": {\"num_features\": 256}}, {\"class\": \"Linear\", \"kargs\": {\"in_features\": 256, \"out_features\": 256}}], \"NUM_LOGS_PER_EPOCH\": 10, \"BEST_MODEL_PATH\": \"./best_model.pth\", \"pickle_name\": \"oracle.Run1_10kExamples_stratified_ds.2022A.pkl\", \"x_transforms_source\": [\"unit_mag\"], \"x_transforms_target\": [\"unit_mag\"], \"dataset_seed\": 7, \"seed\": 7}, \"results\": {\"source_test_label_accuracy\": 0.69390625, \"source_test_label_loss\": 0.90181565284729, \"target_test_label_accuracy\": 0.6144479166666666, \"target_test_label_loss\": 1.0920759439468384, \"source_val_label_accuracy\": 0.6923263888888889, \"source_val_label_loss\": 0.9064359068870544, \"target_val_label_accuracy\": 0.6139166666666667, \"target_val_label_loss\": 1.0942332744598389, \"total_epochs_trained\": 10, \"total_experiment_time_secs\": 6199.068645477295, \"confusion\": {\"50\": {\"0\": {\"0\": 996, \"10\": 51, \"2\": 147, \"13\": 4, \"5\": 2}, \"4\": {\"6\": 195, \"4\": 491, \"1\": 180, \"13\": 21, \"7\": 25, \"15\": 200, \"5\": 85, \"14\": 2, \"11\": 1}, \"14\": {\"14\": 1168, \"11\": 14, \"12\": 18}, \"12\": {\"12\": 1070, \"9\": 76, \"14\": 47, \"11\": 7}, \"8\": {\"8\": 1157, \"3\": 13, \"10\": 30}, \"7\": {\"7\": 706, \"13\": 264, \"5\": 181, \"10\": 42, \"4\": 5, \"6\": 2}, \"13\": {\"7\": 239, \"13\": 613, \"5\": 255, \"6\": 66, \"10\": 15, \"0\": 4, \"4\": 8}, \"5\": {\"5\": 300, \"7\": 263, \"13\": 272, \"6\": 207, \"4\": 102, \"10\": 17, \"1\": 32, \"0\": 5, \"2\": 1, \"15\": 1}, \"15\": {\"15\": 802, \"5\": 1, \"4\": 124, \"1\": 220, \"11\": 38, \"14\": 3, \"6\": 12}, \"10\": {\"10\": 1061, \"0\": 52, \"8\": 21, \"5\": 6, \"7\": 36, \"13\": 24}, \"3\": {\"3\": 1181, \"8\": 19}, \"9\": {\"9\": 868, \"12\": 122, \"11\": 201, \"14\": 9}, \"6\": {\"6\": 616, \"4\": 227, \"5\": 138, \"13\": 70, \"1\": 135, \"15\": 9, \"7\": 3, \"0\": 2}, \"1\": {\"15\": 275, \"4\": 129, \"6\": 120, \"1\": 664, \"11\": 2, \"5\": 6, \"14\": 3, \"2\": 1}, \"11\": {\"11\": 1018, \"9\": 113, \"14\": 24, \"15\": 35, \"12\": 8, \"1\": 2}, \"2\": {\"2\": 1106, \"0\": 94}}, \"8\": {\"1\": {\"14\": 68, \"11\": 376, \"1\": 703, \"5\": 25, \"4\": 6, \"10\": 21, \"6\": 1}, \"11\": {\"11\": 689, \"1\": 453, \"5\": 23, \"10\": 3, \"4\": 5, \"8\": 9, \"14\": 16, \"6\": 1, \"13\": 1}, \"3\": {\"3\": 912, \"12\": 109, \"2\": 168, \"15\": 11}, \"6\": {\"6\": 674, \"7\": 244, \"4\": 137, \"13\": 32, \"0\": 89, \"8\": 14, \"14\": 10}, \"7\": {\"7\": 884, \"6\": 252, \"0\": 48, \"8\": 8, \"4\": 3, \"15\": 3, \"13\": 1, \"2\": 1}, \"5\": {\"5\": 1022, \"1\": 55, \"11\": 14, \"10\": 93, \"14\": 15, \"13\": 1}, \"2\": {\"3\": 229, \"2\": 895, \"12\": 10, \"7\": 24, \"15\": 41, \"6\": 1}, \"15\": {\"12\": 257, \"15\": 839, \"3\": 18, \"8\": 61, \"2\": 20, \"7\": 4, \"6\": 1}, \"10\": {\"10\": 743, \"14\": 260, \"1\": 14, \"13\": 101, \"5\": 33, \"0\": 4, \"4\": 43, \"11\": 2}, \"13\": {\"13\": 424, \"0\": 298, \"10\": 119, \"4\": 189, \"14\": 109, \"6\": 50, \"7\": 7, \"1\": 4}, \"8\": {\"8\": 1114, \"15\": 61, \"6\": 12, \"7\": 7, \"12\": 5, \"4\": 1}, \"4\": {\"13\": 216, \"4\": 523, \"7\": 6, \"0\": 78, \"14\": 190, \"6\": 148, \"10\": 30, \"8\": 6, \"11\": 1, \"1\": 2}, \"9\": {\"9\": 1200}, \"14\": {\"14\": 583, \"4\": 193, \"1\": 54, \"10\": 232, \"5\": 4, \"13\": 97, \"6\": 6, \"11\": 24, \"0\": 7}, \"0\": {\"10\": 16, \"6\": 99, \"0\": 680, \"13\": 228, \"4\": 94, \"7\": 80, \"14\": 3}, \"12\": {\"8\": 31, \"12\": 554, \"15\": 357, \"3\": 237, \"2\": 21}}, \"32\": {\"15\": {\"15\": 1182, \"8\": 13, \"3\": 5}, \"11\": {\"11\": 838, \"13\": 24, \"14\": 257, \"3\": 26, \"7\": 42, \"5\": 13}, \"10\": {\"10\": 1190, \"1\": 10}, \"14\": {\"7\": 245, \"2\": 3, \"11\": 352, \"14\": 403, \"13\": 92, \"4\": 44, \"5\": 44, \"0\": 5, \"3\": 6, \"8\": 6}, \"6\": {\"6\": 1200}, \"4\": {\"4\": 550, \"2\": 213, \"5\": 77, \"7\": 144, \"0\": 163, \"13\": 37, \"14\": 11, \"8\": 5}, \"13\": {\"5\": 324, \"13\": 395, \"3\": 68, \"11\": 43, \"8\": 105, \"7\": 119, \"0\": 46, \"4\": 47, \"14\": 53}, \"3\": {\"3\": 1076, \"8\": 16, \"15\": 1, \"13\": 52, \"5\": 22, \"11\": 29, \"7\": 1, \"14\": 3}, \"7\": {\"14\": 219, \"7\": 465, \"4\": 160, \"5\": 133, \"13\": 100, \"0\": 36, \"8\": 8, \"11\": 45, \"2\": 34}, \"8\": {\"0\": 103, \"8\": 828, \"5\": 104, \"13\": 128, \"3\": 13, \"7\": 10, \"4\": 11, \"14\": 2, \"15\": 1}, \"1\": {\"1\": 1192, \"10\": 8}, \"5\": {\"13\": 288, \"0\": 75, \"7\": 135, \"14\": 40, \"8\": 148, \"5\": 299, \"4\": 128, \"3\": 46, \"2\": 15, \"11\": 26}, \"0\": {\"0\": 652, \"4\": 214, \"5\": 57, \"8\": 115, \"2\": 63, \"13\": 39, \"14\": 14, \"7\": 46}, \"2\": {\"2\": 956, \"4\": 170, \"0\": 44, \"7\": 24, \"13\": 2, \"5\": 4}, \"12\": {\"12\": 1198, \"9\": 2}, \"9\": {\"9\": 1198, \"12\": 2}}, \"26\": {\"0\": {\"14\": 190, \"10\": 261, \"0\": 258, \"4\": 183, \"1\": 89, \"8\": 107, \"7\": 44, \"6\": 39, \"9\": 19, \"2\": 3, \"15\": 2, \"5\": 2, \"3\": 3}, \"4\": {\"1\": 162, \"14\": 221, \"4\": 334, \"0\": 168, \"10\": 69, \"15\": 3, \"7\": 121, \"8\": 112, \"3\": 5, \"2\": 4, \"9\": 1}, \"14\": {\"14\": 327, \"1\": 292, \"4\": 220, \"10\": 107, \"0\": 182, \"8\": 35, \"6\": 3, \"7\": 28, \"9\": 5, \"2\": 1}, \"12\": {\"12\": 1195, \"11\": 5}, \"8\": {\"8\": 353, \"4\": 97, \"0\": 120, \"7\": 89, \"3\": 8, \"2\": 37, \"15\": 89, \"10\": 170, \"14\": 35, \"9\": 124, \"5\": 19, \"6\": 53, \"1\": 6}, \"7\": {\"2\": 193, \"7\": 550, \"3\": 189, \"15\": 21, \"8\": 78, \"4\": 94, \"1\": 15, \"14\": 18, \"5\": 5, \"0\": 24, \"9\": 7, \"10\": 6}, \"13\": {\"13\": 748, \"5\": 262, \"9\": 40, \"6\": 33, \"15\": 85, \"2\": 29, \"7\": 1, \"3\": 2}, \"5\": {\"5\": 520, \"15\": 231, \"9\": 115, \"13\": 201, \"2\": 69, \"8\": 23, \"6\": 20, \"7\": 15, \"3\": 5, \"10\": 1}, \"15\": {\"6\": 47, \"5\": 277, \"9\": 257, \"15\": 317, \"13\": 83, \"8\": 113, \"7\": 25, \"2\": 46, \"0\": 9, \"10\": 13, \"3\": 5, \"4\": 7, \"14\": 1}, \"10\": {\"0\": 229, \"10\": 404, \"14\": 112, \"6\": 133, \"4\": 63, \"8\": 143, \"1\": 42, \"9\": 42, \"15\": 20, \"2\": 1, \"7\": 8, \"5\": 2, \"3\": 1}, \"3\": {\"3\": 642, \"2\": 314, \"7\": 215, \"4\": 11, \"8\": 8, \"5\": 5, \"15\": 2, \"0\": 2, \"1\": 1}, \"9\": {\"15\": 290, \"8\": 140, \"9\": 376, \"6\": 168, \"5\": 93, \"2\": 12, \"10\": 46, \"13\": 39, \"7\": 5, \"14\": 4, \"0\": 16, \"4\": 8, \"3\": 3}, \"6\": {\"6\": 778, \"9\": 151, \"10\": 121, \"8\": 38, \"15\": 45, \"0\": 26, \"5\": 15, \"13\": 25, \"4\": 1}, \"1\": {\"0\": 78, \"14\": 287, \"4\": 173, \"1\": 576, \"7\": 23, \"8\": 11, \"10\": 44, \"3\": 3, \"2\": 3, \"15\": 1, \"9\": 1}, \"11\": {\"11\": 1185, \"12\": 15}, \"2\": {\"2\": 427, \"5\": 103, \"3\": 390, \"8\": 35, \"7\": 132, \"15\": 75, \"9\": 21, \"13\": 5, \"4\": 7, \"10\": 2, \"1\": 2, \"0\": 1}}, \"44\": {\"1\": {\"3\": 152, \"12\": 296, \"1\": 591, \"2\": 57, \"10\": 103, \"7\": 1}, \"11\": {\"11\": 1030, \"13\": 105, \"6\": 63, \"9\": 2}, \"3\": {\"3\": 1067, \"1\": 112, \"12\": 18, \"2\": 2, \"7\": 1}, \"6\": {\"9\": 134, \"6\": 766, \"11\": 57, \"13\": 205, \"7\": 35, \"2\": 3}, \"7\": {\"7\": 721, \"9\": 229, \"6\": 44, \"2\": 192, \"3\": 7, \"1\": 5, \"13\": 1, \"10\": 1}, \"5\": {\"5\": 986, \"0\": 107, \"15\": 46, \"14\": 41, \"8\": 18, \"4\": 2}, \"2\": {\"2\": 817, \"7\": 174, \"10\": 117, \"1\": 70, \"3\": 11, \"12\": 2, \"6\": 2, \"9\": 7}, \"15\": {\"15\": 965, \"14\": 105, \"5\": 46, \"0\": 69, \"8\": 9, \"4\": 6}, \"10\": {\"2\": 120, \"10\": 841, \"1\": 124, \"12\": 111, \"7\": 2, \"3\": 2}, \"13\": {\"13\": 738, \"9\": 141, \"6\": 224, \"14\": 2, \"11\": 68, \"4\": 14, \"7\": 13}, \"8\": {\"8\": 737, \"0\": 414, \"15\": 29, \"5\": 20}, \"4\": {\"4\": 840, \"14\": 351, \"15\": 6, \"5\": 1, \"9\": 1, \"13\": 1}, \"9\": {\"6\": 108, \"13\": 151, \"7\": 246, \"9\": 671, \"2\": 18, \"11\": 1, \"3\": 3, \"4\": 2}, \"14\": {\"14\": 731, \"4\": 368, \"5\": 25, \"15\": 76}, \"0\": {\"0\": 721, \"8\": 326, \"5\": 85, \"15\": 68}, \"12\": {\"12\": 858, \"1\": 239, \"3\": 18, \"10\": 84, \"2\": 1}}, \"20\": {\"15\": {\"15\": 629, \"1\": 272, \"13\": 45, \"0\": 102, \"3\": 5, \"5\": 101, \"2\": 7, \"12\": 31, \"9\": 8}, \"4\": {\"4\": 804, \"8\": 217, \"3\": 80, \"2\": 3, \"5\": 3, \"7\": 11, \"12\": 18, \"1\": 1, \"10\": 46, \"9\": 8, \"6\": 1, \"0\": 6, \"14\": 2}, \"6\": {\"6\": 964, \"14\": 162, \"10\": 18, \"11\": 4, \"8\": 23, \"7\": 29}, \"2\": {\"2\": 433, \"9\": 265, \"7\": 184, \"3\": 94, \"12\": 56, \"13\": 117, \"8\": 14, \"15\": 9, \"1\": 12, \"5\": 8, \"0\": 5, \"4\": 3}, \"5\": {\"12\": 143, \"15\": 103, \"0\": 300, \"5\": 335, \"3\": 49, \"1\": 230, \"9\": 16, \"2\": 9, \"4\": 12, \"13\": 3}, \"9\": {\"13\": 65, \"2\": 266, \"9\": 307, \"3\": 227, \"7\": 97, \"12\": 136, \"8\": 11, \"1\": 34, \"4\": 21, \"5\": 22, \"15\": 10, \"0\": 4}, \"8\": {\"6\": 19, \"8\": 639, \"10\": 97, \"4\": 218, \"3\": 41, \"7\": 100, \"14\": 46, \"9\": 27, \"2\": 8, \"12\": 4, \"0\": 1}, \"12\": {\"3\": 222, \"12\": 336, \"1\": 142, \"2\": 57, \"9\": 112, \"13\": 19, \"0\": 95, \"15\": 29, \"5\": 160, \"8\": 3, \"7\": 9, \"4\": 16}, \"10\": {\"8\": 140, \"10\": 751, \"14\": 242, \"4\": 43, \"6\": 18, \"7\": 4, \"2\": 1, \"3\": 1}, \"1\": {\"1\": 311, \"13\": 26, \"5\": 251, \"15\": 252, \"0\": 171, \"12\": 142, \"3\": 22, \"9\": 12, \"4\": 2, \"2\": 11}, \"0\": {\"0\": 397, \"1\": 180, \"5\": 275, \"2\": 13, \"15\": 133, \"12\": 101, \"3\": 49, \"4\": 23, \"9\": 18, \"13\": 8, \"7\": 2, \"8\": 1}, \"3\": {\"3\": 371, \"5\": 52, \"12\": 212, \"9\": 197, \"2\": 97, \"4\": 83, \"7\": 73, \"0\": 31, \"1\": 35, \"8\": 42, \"15\": 4, \"13\": 3}, \"13\": {\"13\": 995, \"9\": 38, \"1\": 13, \"15\": 34, \"2\": 92, \"3\": 5, \"5\": 3, \"12\": 16, \"7\": 2, \"0\": 2}, \"11\": {\"11\": 1196, \"7\": 4}, \"7\": {\"2\": 188, \"7\": 693, \"9\": 102, \"3\": 39, \"8\": 105, \"6\": 37, \"13\": 10, \"4\": 9, \"14\": 2, \"12\": 5, \"10\": 9, \"11\": 1}, \"14\": {\"14\": 734, \"10\": 228, \"6\": 205, \"8\": 29, \"7\": 3, \"11\": 1}}, \"38\": {\"15\": {\"13\": 347, \"1\": 119, \"10\": 19, \"15\": 653, \"8\": 39, \"5\": 22, \"0\": 1}, \"11\": {\"11\": 790, \"10\": 13, \"14\": 342, \"12\": 39, \"2\": 13, \"4\": 3}, \"10\": {\"12\": 139, \"10\": 797, \"14\": 15, \"13\": 99, \"0\": 36, \"5\": 3, \"8\": 67, \"4\": 4, \"11\": 9, \"7\": 10, \"15\": 21}, \"14\": {\"11\": 261, \"14\": 846, \"12\": 10, \"2\": 68, \"10\": 11, \"13\": 4}, \"6\": {\"6\": 876, \"9\": 309, \"5\": 13, \"0\": 1, \"3\": 1}, \"4\": {\"4\": 1110, \"12\": 87, \"10\": 2, \"7\": 1}, \"13\": {\"13\": 670, \"15\": 345, \"10\": 88, \"1\": 23, \"2\": 38, \"8\": 23, \"5\": 8, \"14\": 3, \"0\": 2}, \"3\": {\"3\": 992, \"9\": 118, \"7\": 42, \"5\": 10, \"0\": 19, \"6\": 19}, \"7\": {\"7\": 872, \"0\": 238, \"5\": 39, \"8\": 29, \"3\": 19, \"6\": 1, \"10\": 2}, \"8\": {\"0\": 172, \"5\": 271, \"8\": 638, \"15\": 40, \"7\": 32, \"10\": 35, \"13\": 7, \"1\": 4, \"6\": 1}, \"1\": {\"1\": 1134, \"15\": 58, \"5\": 2, \"13\": 6}, \"5\": {\"5\": 500, \"0\": 149, \"8\": 273, \"3\": 29, \"15\": 42, \"6\": 56, \"7\": 81, \"1\": 18, \"10\": 11, \"9\": 34, \"13\": 7}, \"0\": {\"8\": 289, \"7\": 305, \"5\": 128, \"3\": 61, \"0\": 352, \"9\": 4, \"10\": 47, \"12\": 4, \"6\": 4, \"15\": 3, \"4\": 3}, \"2\": {\"2\": 1093, \"14\": 77, \"13\": 26, \"15\": 1, \"11\": 2, \"10\": 1}, \"12\": {\"12\": 1078, \"10\": 74, \"4\": 48}, \"9\": {\"9\": 673, \"6\": 420, \"3\": 91, \"5\": 15, \"0\": 1}}, \"14\": {\"0\": {\"0\": 863, \"10\": 259, \"3\": 35, \"11\": 40, \"8\": 2, \"4\": 1}, \"12\": {\"12\": 1195, \"9\": 5}, \"1\": {\"1\": 935, \"5\": 216, \"7\": 11, \"4\": 34, \"3\": 3, \"15\": 1}, \"4\": {\"5\": 199, \"2\": 93, \"4\": 687, \"3\": 170, \"1\": 36, \"14\": 11, \"13\": 3, \"6\": 1}, \"5\": {\"5\": 625, \"7\": 24, \"1\": 208, \"4\": 235, \"2\": 82, \"3\": 18, \"15\": 5, \"14\": 1, \"13\": 1, \"6\": 1}, \"3\": {\"3\": 904, \"4\": 185, \"14\": 39, \"2\": 30, \"1\": 4, \"0\": 9, \"5\": 17, \"10\": 10, \"13\": 2}, \"7\": {\"7\": 1116, \"15\": 63, \"1\": 14, \"5\": 7}, \"15\": {\"15\": 1086, \"7\": 107, \"5\": 3, \"2\": 4}, \"13\": {\"6\": 435, \"13\": 344, \"2\": 109, \"14\": 275, \"5\": 15, \"4\": 12, \"3\": 3, \"15\": 6, \"1\": 1}, \"10\": {\"0\": 225, \"10\": 949, \"11\": 17, \"3\": 6, \"14\": 3}, \"14\": {\"14\": 783, \"6\": 84, \"13\": 177, \"2\": 81, \"4\": 13, \"3\": 54, \"0\": 2, \"10\": 6}, \"6\": {\"6\": 591, \"13\": 397, \"14\": 108, \"2\": 102, \"4\": 2}, \"9\": {\"9\": 1176, \"11\": 19, \"12\": 4, \"0\": 1}, \"2\": {\"2\": 434, \"3\": 66, \"5\": 153, \"13\": 105, \"14\": 162, \"6\": 115, \"4\": 136, \"15\": 25, \"1\": 4}, \"8\": {\"8\": 1199, \"0\": 1}, \"11\": {\"11\": 1010, \"9\": 73, \"10\": 72, \"0\": 45}}}, \"per_domain_accuracy\": {\"50\": {\"accuracy\": 0.7196354166666666, \"source?\": true}, \"8\": {\"accuracy\": 0.6478645833333333, \"source?\": true}, \"32\": {\"accuracy\": 0.7094791666666667, \"source?\": true}, \"26\": {\"accuracy\": 0.46822916666666664, \"source?\": false}, \"44\": {\"accuracy\": 0.68125, \"source?\": false}, \"20\": {\"accuracy\": 0.5153645833333333, \"source?\": false}, \"38\": {\"accuracy\": 0.6809375, \"source?\": false}, \"14\": {\"accuracy\": 0.7238020833333333, \"source?\": false}}}, \"history\": {\"epoch_indices\": [1, 2, 3, 4, 5, 6, 7, 8, 9, 10], \"train_label_loss\": [1.4238065384115492, 0.904110215270803, 0.758871908966038, 0.6713241765730911, 0.5982273298212224, 0.5241151294064901, 0.4580126570848127, 0.4002306267991662, 0.3487228534511098, 0.30599679076467595], \"source_val_label_loss\": [1.1695080995559692, 0.8933313488960266, 0.8742944598197937, 0.8489713072776794, 0.8672811985015869, 0.9064359068870544, 0.9176890254020691, 0.9414705634117126, 0.9842690229415894, 1.0443075895309448], \"target_val_label_loss\": [1.3926212787628174, 1.1086351871490479, 1.0706360340118408, 1.0481181144714355, 1.081300139427185, 1.0942332744598389, 1.1297452449798584, 1.1603609323501587, 1.2046852111816406, 1.2737947702407837], \"source_val_acc_label\": [0.5700173611111111, 0.6642881944444444, 0.6819097222222222, 0.6889756944444444, 0.6765104166666667, 0.6923263888888889, 0.6788194444444444, 0.6816145833333334, 0.6846180555555555, 0.6789583333333333], \"target_val_acc_label\": [0.4873958333333333, 0.5809270833333333, 0.6038125, 0.6095729166666667, 0.5938229166666666, 0.6139166666666667, 0.6003854166666667, 0.59875, 0.6011145833333333, 0.5936979166666667]}, \"dataset_metrics\": {\"source\": {\"train\": {\"n_unique_x\": 336000, \"n_unique_y\": 16, \"n_batch/episode\": 12600}, \"val\": {\"n_unique_x\": 72000, \"n_unique_y\": 16, \"n_batch/episode\": 1800}, \"test\": {\"n_unique_x\": 72000, \"n_unique_y\": 16, \"n_batch/episode\": 1800}}, \"target\": {\"train\": {\"n_unique_x\": 560000, \"n_unique_y\": 16, \"n_batch/episode\": 21000}, \"val\": {\"n_unique_x\": 120000, \"n_unique_y\": 16, \"n_batch/episode\": 3000}, \"test\": {\"n_unique_x\": 120000, \"n_unique_y\": 16, \"n_batch/episode\": 3000}}}}'"
      ]
     },
     "execution_count": 20,
     "metadata": {},
     "output_type": "execute_result"
    }
   ],
   "source": [
    "json.dumps(experiment)"
   ]
  }
 ],
 "metadata": {
  "celltoolbar": "Tags",
  "kernelspec": {
   "display_name": "Python 3 (ipykernel)",
   "language": "python",
   "name": "python3"
  },
  "language_info": {
   "codemirror_mode": {
    "name": "ipython",
    "version": 3
   },
   "file_extension": ".py",
   "mimetype": "text/x-python",
   "name": "python",
   "nbconvert_exporter": "python",
   "pygments_lexer": "ipython3",
   "version": "3.8.12"
  },
  "papermill": {
   "default_parameters": {},
   "duration": 6981.533162,
   "end_time": "2022-03-26T08:56:40.661867",
   "environment_variables": {},
   "exception": null,
   "input_path": "/root/csc500-main/csc500-notebooks/templates/ptn_template.ipynb",
   "output_path": "trial.ipynb",
   "parameters": {
    "parameters": {
     "BEST_MODEL_PATH": "./best_model.pth",
     "NUM_LOGS_PER_EPOCH": 10,
     "criteria_for_best": "target_accuracy",
     "dataset_seed": 7,
     "device": "cuda",
     "domains_source": [
      8,
      32,
      50
     ],
     "domains_target": [
      14,
      20,
      26,
      38,
      44
     ],
     "episode_transforms_source": [],
     "episode_transforms_target": [],
     "experiment_name": "tuned_1v2:oracle.run1_limited",
     "labels_source": [
      "3123D52",
      "3123D65",
      "3123D79",
      "3123D80",
      "3123D54",
      "3123D70",
      "3123D7B",
      "3123D89",
      "3123D58",
      "3123D76",
      "3123D7D",
      "3123EFE",
      "3123D64",
      "3123D78",
      "3123D7E",
      "3124E4A"
     ],
     "labels_target": [
      "3123D52",
      "3123D65",
      "3123D79",
      "3123D80",
      "3123D54",
      "3123D70",
      "3123D7B",
      "3123D89",
      "3123D58",
      "3123D76",
      "3123D7D",
      "3123EFE",
      "3123D64",
      "3123D78",
      "3123D7E",
      "3124E4A"
     ],
     "lr": 0.0001,
     "n_epoch": 50,
     "n_query": 2,
     "n_shot": 3,
     "n_way": 16,
     "num_examples_per_domain_per_label_source": -1,
     "num_examples_per_domain_per_label_target": -1,
     "patience": 3,
     "pickle_name": "oracle.Run1_10kExamples_stratified_ds.2022A.pkl",
     "seed": 7,
     "test_k_factor": 2,
     "torch_default_dtype": "torch.float32",
     "train_k_factor": 3,
     "val_k_factor": 2,
     "x_net": [
      {
       "class": "nnReshape",
       "kargs": {
        "shape": [
         -1,
         1,
         2,
         256
        ]
       }
      },
      {
       "class": "Conv2d",
       "kargs": {
        "bias": false,
        "in_channels": 1,
        "kernel_size": [
         1,
         7
        ],
        "out_channels": 256,
        "padding": [
         0,
         3
        ]
       }
      },
      {
       "class": "ReLU",
       "kargs": {
        "inplace": true
       }
      },
      {
       "class": "BatchNorm2d",
       "kargs": {
        "num_features": 256
       }
      },
      {
       "class": "Conv2d",
       "kargs": {
        "bias": true,
        "in_channels": 256,
        "kernel_size": [
         2,
         7
        ],
        "out_channels": 80,
        "padding": [
         0,
         3
        ]
       }
      },
      {
       "class": "ReLU",
       "kargs": {
        "inplace": true
       }
      },
      {
       "class": "BatchNorm2d",
       "kargs": {
        "num_features": 80
       }
      },
      {
       "class": "Flatten",
       "kargs": {}
      },
      {
       "class": "Linear",
       "kargs": {
        "in_features": 20480,
        "out_features": 256
       }
      },
      {
       "class": "ReLU",
       "kargs": {
        "inplace": true
       }
      },
      {
       "class": "BatchNorm1d",
       "kargs": {
        "num_features": 256
       }
      },
      {
       "class": "Linear",
       "kargs": {
        "in_features": 256,
        "out_features": 256
       }
      }
     ],
     "x_transforms_source": [
      "unit_mag"
     ],
     "x_transforms_target": [
      "unit_mag"
     ]
    }
   },
   "start_time": "2022-03-26T07:00:19.128705",
   "version": "2.3.4"
  }
 },
 "nbformat": 4,
 "nbformat_minor": 5
}