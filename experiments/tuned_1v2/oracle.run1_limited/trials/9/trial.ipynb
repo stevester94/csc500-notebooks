{
 "cells": [
  {
   "cell_type": "markdown",
   "id": "9fea5f46",
   "metadata": {
    "papermill": {
     "duration": 0.014333,
     "end_time": "2022-04-01T22:11:47.578810",
     "exception": false,
     "start_time": "2022-04-01T22:11:47.564477",
     "status": "completed"
    },
    "tags": []
   },
   "source": [
    "# PTN Template\n",
    "This notebook serves as a template for single dataset PTN experiments  \n",
    "It can be run on its own by setting STANDALONE to True (do a find for \"STANDALONE\" to see where)  \n",
    "But it is intended to be executed as part of a *papermill.py script. See any of the   \n",
    "experimentes with a papermill script to get started with that workflow.  "
   ]
  },
  {
   "cell_type": "code",
   "execution_count": 1,
   "id": "0902182a",
   "metadata": {
    "execution": {
     "iopub.execute_input": "2022-04-01T22:11:47.610497Z",
     "iopub.status.busy": "2022-04-01T22:11:47.603882Z",
     "iopub.status.idle": "2022-04-01T22:11:48.511354Z",
     "shell.execute_reply": "2022-04-01T22:11:48.511588Z"
    },
    "papermill": {
     "duration": 0.923765,
     "end_time": "2022-04-01T22:11:48.511710",
     "exception": false,
     "start_time": "2022-04-01T22:11:47.587945",
     "status": "completed"
    },
    "tags": []
   },
   "outputs": [],
   "source": [
    "%load_ext autoreload\n",
    "%autoreload 2\n",
    "%matplotlib inline\n",
    "\n",
    "    \n",
    "import os, json, sys, time, random\n",
    "import numpy as np\n",
    "import torch\n",
    "from torch.optim import Adam\n",
    "from  easydict import EasyDict\n",
    "import matplotlib.pyplot as plt\n",
    "\n",
    "from steves_models.steves_ptn import Steves_Prototypical_Network\n",
    "\n",
    "from steves_utils.lazy_iterable_wrapper import Lazy_Iterable_Wrapper\n",
    "from steves_utils.iterable_aggregator import Iterable_Aggregator\n",
    "from steves_utils.ptn_train_eval_test_jig import  PTN_Train_Eval_Test_Jig\n",
    "from steves_utils.torch_sequential_builder import build_sequential\n",
    "from steves_utils.torch_utils import get_dataset_metrics, ptn_confusion_by_domain_over_dataloader\n",
    "from steves_utils.utils_v2 import (per_domain_accuracy_from_confusion, get_datasets_base_path)\n",
    "from steves_utils.PTN.utils import independent_accuracy_assesment\n",
    "\n",
    "from steves_utils.stratified_dataset.episodic_accessor import Episodic_Accessor_Factory\n",
    "\n",
    "from steves_utils.ptn_do_report import (\n",
    "    get_loss_curve,\n",
    "    get_results_table,\n",
    "    get_parameters_table,\n",
    "    get_domain_accuracies,\n",
    ")\n",
    "\n",
    "from steves_utils.transforms import get_chained_transform"
   ]
  },
  {
   "cell_type": "markdown",
   "id": "41c840b4",
   "metadata": {
    "papermill": {
     "duration": 0.009625,
     "end_time": "2022-04-01T22:11:48.532827",
     "exception": false,
     "start_time": "2022-04-01T22:11:48.523202",
     "status": "completed"
    },
    "tags": []
   },
   "source": [
    "# Required Parameters\n",
    "These are allowed parameters, not defaults\n",
    "Each of these values need to be present in the injected parameters (the notebook will raise an exception if they are not present)\n",
    "\n",
    "Papermill uses the cell tag \"parameters\" to inject the real parameters below this cell.\n",
    "Enable tags to see what I mean"
   ]
  },
  {
   "cell_type": "code",
   "execution_count": 2,
   "id": "fd44eb83",
   "metadata": {
    "execution": {
     "iopub.execute_input": "2022-04-01T22:11:48.554639Z",
     "iopub.status.busy": "2022-04-01T22:11:48.552875Z",
     "iopub.status.idle": "2022-04-01T22:11:48.570196Z",
     "shell.execute_reply": "2022-04-01T22:11:48.570582Z"
    },
    "papermill": {
     "duration": 0.028563,
     "end_time": "2022-04-01T22:11:48.570708",
     "exception": false,
     "start_time": "2022-04-01T22:11:48.542145",
     "status": "completed"
    },
    "tags": []
   },
   "outputs": [],
   "source": [
    "required_parameters = {\n",
    "    \"experiment_name\",\n",
    "    \"lr\",\n",
    "    \"device\",\n",
    "    \"seed\",\n",
    "    \"dataset_seed\",\n",
    "    \"labels_source\",\n",
    "    \"labels_target\",\n",
    "    \"domains_source\",\n",
    "    \"domains_target\",\n",
    "    \"num_examples_per_domain_per_label_source\",\n",
    "    \"num_examples_per_domain_per_label_target\",\n",
    "    \"n_shot\",\n",
    "    \"n_way\",\n",
    "    \"n_query\",\n",
    "    \"train_k_factor\",\n",
    "    \"val_k_factor\",\n",
    "    \"test_k_factor\",\n",
    "    \"n_epoch\",\n",
    "    \"patience\",\n",
    "    \"criteria_for_best\",\n",
    "    \"x_transforms_source\",\n",
    "    \"x_transforms_target\",\n",
    "    \"episode_transforms_source\",\n",
    "    \"episode_transforms_target\",\n",
    "    \"pickle_name\",\n",
    "    \"x_net\",\n",
    "    \"NUM_LOGS_PER_EPOCH\",\n",
    "    \"BEST_MODEL_PATH\",\n",
    "    \"torch_default_dtype\"\n",
    "}"
   ]
  },
  {
   "cell_type": "code",
   "execution_count": 3,
   "id": "fa3f0049",
   "metadata": {
    "execution": {
     "iopub.execute_input": "2022-04-01T22:11:48.604011Z",
     "iopub.status.busy": "2022-04-01T22:11:48.595113Z",
     "iopub.status.idle": "2022-04-01T22:11:48.616206Z",
     "shell.execute_reply": "2022-04-01T22:11:48.616423Z"
    },
    "papermill": {
     "duration": 0.032039,
     "end_time": "2022-04-01T22:11:48.616504",
     "exception": false,
     "start_time": "2022-04-01T22:11:48.584465",
     "status": "completed"
    },
    "tags": [
     "parameters"
    ]
   },
   "outputs": [],
   "source": [
    "\n",
    "\n",
    "standalone_parameters = {}\n",
    "standalone_parameters[\"experiment_name\"] = \"STANDALONE PTN\"\n",
    "standalone_parameters[\"lr\"] = 0.0001\n",
    "standalone_parameters[\"device\"] = \"cuda\"\n",
    "\n",
    "standalone_parameters[\"seed\"] = 1337\n",
    "standalone_parameters[\"dataset_seed\"] = 1337\n",
    "\n",
    "\n",
    "standalone_parameters[\"num_examples_per_domain_per_label_source\"]=100\n",
    "standalone_parameters[\"num_examples_per_domain_per_label_target\"]=100\n",
    "\n",
    "standalone_parameters[\"n_shot\"] = 3\n",
    "standalone_parameters[\"n_query\"]  = 2\n",
    "standalone_parameters[\"train_k_factor\"] = 1\n",
    "standalone_parameters[\"val_k_factor\"] = 2\n",
    "standalone_parameters[\"test_k_factor\"] = 2\n",
    "\n",
    "\n",
    "standalone_parameters[\"n_epoch\"] = 100\n",
    "\n",
    "standalone_parameters[\"patience\"] = 10\n",
    "standalone_parameters[\"criteria_for_best\"] = \"target_accuracy\"\n",
    "\n",
    "standalone_parameters[\"x_transforms_source\"] = [\"unit_power\"]\n",
    "standalone_parameters[\"x_transforms_target\"] = [\"unit_power\"]\n",
    "standalone_parameters[\"episode_transforms_source\"] = []\n",
    "standalone_parameters[\"episode_transforms_target\"] = []\n",
    "\n",
    "standalone_parameters[\"torch_default_dtype\"] = \"torch.float32\" \n",
    "\n",
    "\n",
    "\n",
    "standalone_parameters[\"x_net\"] =     [\n",
    "    {\"class\": \"nnReshape\", \"kargs\": {\"shape\":[-1, 1, 2, 256]}},\n",
    "    {\"class\": \"Conv2d\", \"kargs\": { \"in_channels\":1, \"out_channels\":256, \"kernel_size\":(1,7), \"bias\":False, \"padding\":(0,3), },},\n",
    "    {\"class\": \"ReLU\", \"kargs\": {\"inplace\": True}},\n",
    "    {\"class\": \"BatchNorm2d\", \"kargs\": {\"num_features\":256}},\n",
    "\n",
    "    {\"class\": \"Conv2d\", \"kargs\": { \"in_channels\":256, \"out_channels\":80, \"kernel_size\":(2,7), \"bias\":True, \"padding\":(0,3), },},\n",
    "    {\"class\": \"ReLU\", \"kargs\": {\"inplace\": True}},\n",
    "    {\"class\": \"BatchNorm2d\", \"kargs\": {\"num_features\":80}},\n",
    "    {\"class\": \"Flatten\", \"kargs\": {}},\n",
    "\n",
    "    {\"class\": \"Linear\", \"kargs\": {\"in_features\": 80*256, \"out_features\": 256}}, # 80 units per IQ pair\n",
    "    {\"class\": \"ReLU\", \"kargs\": {\"inplace\": True}},\n",
    "    {\"class\": \"BatchNorm1d\", \"kargs\": {\"num_features\":256}},\n",
    "\n",
    "    {\"class\": \"Linear\", \"kargs\": {\"in_features\": 256, \"out_features\": 256}},\n",
    "]\n",
    "\n",
    "# Parameters relevant to results\n",
    "# These parameters will basically never need to change\n",
    "standalone_parameters[\"NUM_LOGS_PER_EPOCH\"] = 10\n",
    "standalone_parameters[\"BEST_MODEL_PATH\"] = \"./best_model.pth\"\n",
    "\n",
    "# uncomment for CORES dataset\n",
    "from steves_utils.CORES.utils import (\n",
    "    ALL_NODES,\n",
    "    ALL_NODES_MINIMUM_1000_EXAMPLES,\n",
    "    ALL_DAYS\n",
    ")\n",
    "\n",
    "\n",
    "standalone_parameters[\"labels_source\"] = ALL_NODES\n",
    "standalone_parameters[\"labels_target\"] = ALL_NODES\n",
    "\n",
    "standalone_parameters[\"domains_source\"] = [1]\n",
    "standalone_parameters[\"domains_target\"] = [2,3,4,5]\n",
    "\n",
    "standalone_parameters[\"pickle_name\"] = \"cores.stratified_ds.2022A.pkl\"\n",
    "\n",
    "\n",
    "# Uncomment these for ORACLE dataset\n",
    "# from steves_utils.ORACLE.utils_v2 import (\n",
    "#     ALL_DISTANCES_FEET,\n",
    "#     ALL_RUNS,\n",
    "#     ALL_SERIAL_NUMBERS,\n",
    "# )\n",
    "# standalone_parameters[\"labels_source\"] = ALL_SERIAL_NUMBERS\n",
    "# standalone_parameters[\"labels_target\"] = ALL_SERIAL_NUMBERS\n",
    "# standalone_parameters[\"domains_source\"] = [8,20, 38,50]\n",
    "# standalone_parameters[\"domains_target\"] = [14, 26, 32, 44, 56]\n",
    "# standalone_parameters[\"pickle_name\"] = \"oracle.frame_indexed.stratified_ds.2022A.pkl\"\n",
    "# standalone_parameters[\"num_examples_per_domain_per_label_source\"]=1000\n",
    "# standalone_parameters[\"num_examples_per_domain_per_label_target\"]=1000\n",
    "\n",
    "# Uncomment these for Metahan dataset\n",
    "# standalone_parameters[\"labels_source\"] = list(range(19))\n",
    "# standalone_parameters[\"labels_target\"] = list(range(19))\n",
    "# standalone_parameters[\"domains_source\"] = [0]\n",
    "# standalone_parameters[\"domains_target\"] = [1]\n",
    "# standalone_parameters[\"pickle_name\"] = \"metehan.stratified_ds.2022A.pkl\"\n",
    "# standalone_parameters[\"n_way\"]  = len(standalone_parameters[\"labels_source\"])\n",
    "# standalone_parameters[\"num_examples_per_domain_per_label_source\"]=200\n",
    "# standalone_parameters[\"num_examples_per_domain_per_label_target\"]=100\n",
    "\n",
    "\n",
    "standalone_parameters[\"n_way\"]  = len(standalone_parameters[\"labels_source\"])"
   ]
  },
  {
   "cell_type": "code",
   "execution_count": 4,
   "id": "0185e9ba",
   "metadata": {
    "execution": {
     "iopub.execute_input": "2022-04-01T22:11:48.640594Z",
     "iopub.status.busy": "2022-04-01T22:11:48.640145Z",
     "iopub.status.idle": "2022-04-01T22:11:48.651832Z",
     "shell.execute_reply": "2022-04-01T22:11:48.651583Z"
    },
    "papermill": {
     "duration": 0.02567,
     "end_time": "2022-04-01T22:11:48.651893",
     "exception": false,
     "start_time": "2022-04-01T22:11:48.626223",
     "status": "completed"
    },
    "tags": [
     "injected-parameters"
    ]
   },
   "outputs": [],
   "source": [
    "# Parameters\n",
    "parameters = {\n",
    "    \"experiment_name\": \"tuned_1v2:oracle.run1_limited\",\n",
    "    \"device\": \"cuda\",\n",
    "    \"lr\": 0.0001,\n",
    "    \"labels_source\": [\n",
    "        \"3123D52\",\n",
    "        \"3123D65\",\n",
    "        \"3123D79\",\n",
    "        \"3123D80\",\n",
    "        \"3123D54\",\n",
    "        \"3123D70\",\n",
    "        \"3123D7B\",\n",
    "        \"3123D89\",\n",
    "        \"3123D58\",\n",
    "        \"3123D76\",\n",
    "        \"3123D7D\",\n",
    "        \"3123EFE\",\n",
    "        \"3123D64\",\n",
    "        \"3123D78\",\n",
    "        \"3123D7E\",\n",
    "        \"3124E4A\",\n",
    "    ],\n",
    "    \"labels_target\": [\n",
    "        \"3123D52\",\n",
    "        \"3123D65\",\n",
    "        \"3123D79\",\n",
    "        \"3123D80\",\n",
    "        \"3123D54\",\n",
    "        \"3123D70\",\n",
    "        \"3123D7B\",\n",
    "        \"3123D89\",\n",
    "        \"3123D58\",\n",
    "        \"3123D76\",\n",
    "        \"3123D7D\",\n",
    "        \"3123EFE\",\n",
    "        \"3123D64\",\n",
    "        \"3123D78\",\n",
    "        \"3123D7E\",\n",
    "        \"3124E4A\",\n",
    "    ],\n",
    "    \"episode_transforms_source\": [],\n",
    "    \"episode_transforms_target\": [],\n",
    "    \"domains_source\": [8, 32, 50],\n",
    "    \"domains_target\": [14, 20, 26, 38, 44],\n",
    "    \"num_examples_per_domain_per_label_source\": 2000,\n",
    "    \"num_examples_per_domain_per_label_target\": 2000,\n",
    "    \"n_shot\": 3,\n",
    "    \"n_way\": 16,\n",
    "    \"n_query\": 2,\n",
    "    \"train_k_factor\": 3,\n",
    "    \"val_k_factor\": 2,\n",
    "    \"test_k_factor\": 2,\n",
    "    \"torch_default_dtype\": \"torch.float32\",\n",
    "    \"n_epoch\": 50,\n",
    "    \"patience\": 3,\n",
    "    \"criteria_for_best\": \"target_accuracy\",\n",
    "    \"x_net\": [\n",
    "        {\"class\": \"nnReshape\", \"kargs\": {\"shape\": [-1, 1, 2, 256]}},\n",
    "        {\n",
    "            \"class\": \"Conv2d\",\n",
    "            \"kargs\": {\n",
    "                \"in_channels\": 1,\n",
    "                \"out_channels\": 256,\n",
    "                \"kernel_size\": [1, 7],\n",
    "                \"bias\": False,\n",
    "                \"padding\": [0, 3],\n",
    "            },\n",
    "        },\n",
    "        {\"class\": \"ReLU\", \"kargs\": {\"inplace\": True}},\n",
    "        {\"class\": \"BatchNorm2d\", \"kargs\": {\"num_features\": 256}},\n",
    "        {\n",
    "            \"class\": \"Conv2d\",\n",
    "            \"kargs\": {\n",
    "                \"in_channels\": 256,\n",
    "                \"out_channels\": 80,\n",
    "                \"kernel_size\": [2, 7],\n",
    "                \"bias\": True,\n",
    "                \"padding\": [0, 3],\n",
    "            },\n",
    "        },\n",
    "        {\"class\": \"ReLU\", \"kargs\": {\"inplace\": True}},\n",
    "        {\"class\": \"BatchNorm2d\", \"kargs\": {\"num_features\": 80}},\n",
    "        {\"class\": \"Flatten\", \"kargs\": {}},\n",
    "        {\"class\": \"Linear\", \"kargs\": {\"in_features\": 20480, \"out_features\": 256}},\n",
    "        {\"class\": \"ReLU\", \"kargs\": {\"inplace\": True}},\n",
    "        {\"class\": \"BatchNorm1d\", \"kargs\": {\"num_features\": 256}},\n",
    "        {\"class\": \"Linear\", \"kargs\": {\"in_features\": 256, \"out_features\": 256}},\n",
    "    ],\n",
    "    \"NUM_LOGS_PER_EPOCH\": 10,\n",
    "    \"BEST_MODEL_PATH\": \"./best_model.pth\",\n",
    "    \"pickle_name\": \"oracle.Run1_10kExamples_stratified_ds.2022A.pkl\",\n",
    "    \"x_transforms_source\": [\"unit_mag\"],\n",
    "    \"x_transforms_target\": [\"unit_mag\"],\n",
    "    \"dataset_seed\": 7,\n",
    "    \"seed\": 7,\n",
    "}\n"
   ]
  },
  {
   "cell_type": "code",
   "execution_count": 5,
   "id": "8fa1cc33",
   "metadata": {
    "execution": {
     "iopub.execute_input": "2022-04-01T22:11:48.675355Z",
     "iopub.status.busy": "2022-04-01T22:11:48.674946Z",
     "iopub.status.idle": "2022-04-01T22:11:48.685802Z",
     "shell.execute_reply": "2022-04-01T22:11:48.686025Z"
    },
    "papermill": {
     "duration": 0.022931,
     "end_time": "2022-04-01T22:11:48.686095",
     "exception": false,
     "start_time": "2022-04-01T22:11:48.663164",
     "status": "completed"
    },
    "tags": []
   },
   "outputs": [],
   "source": [
    "# Set this to True if you want to run this template directly\n",
    "STANDALONE = False\n",
    "if STANDALONE:\n",
    "    print(\"parameters not injected, running with standalone_parameters\")\n",
    "    parameters = standalone_parameters\n",
    "\n",
    "if not 'parameters' in locals() and not 'parameters' in globals():\n",
    "    raise Exception(\"Parameter injection failed\")\n",
    "\n",
    "#Use an easy dict for all the parameters\n",
    "p = EasyDict(parameters)\n",
    "\n",
    "supplied_keys = set(p.keys())\n",
    "\n",
    "if  supplied_keys != required_parameters:\n",
    "    print(\"Parameters are incorrect\")\n",
    "    if len(supplied_keys - required_parameters)>0: print(\"Shouldn't have:\", str(supplied_keys - required_parameters))\n",
    "    if len(required_parameters - supplied_keys)>0: print(\"Need to have:\", str(required_parameters - supplied_keys))\n",
    "    raise RuntimeError(\"Parameters are incorrect\")\n",
    "\n"
   ]
  },
  {
   "cell_type": "code",
   "execution_count": 6,
   "id": "3a028d58",
   "metadata": {
    "execution": {
     "iopub.execute_input": "2022-04-01T22:11:48.708367Z",
     "iopub.status.busy": "2022-04-01T22:11:48.707970Z",
     "iopub.status.idle": "2022-04-01T22:11:48.720953Z",
     "shell.execute_reply": "2022-04-01T22:11:48.720698Z"
    },
    "papermill": {
     "duration": 0.024141,
     "end_time": "2022-04-01T22:11:48.721013",
     "exception": false,
     "start_time": "2022-04-01T22:11:48.696872",
     "status": "completed"
    },
    "tags": []
   },
   "outputs": [],
   "source": [
    "###################################\n",
    "# Set the RNGs and make it all deterministic\n",
    "###################################\n",
    "np.random.seed(p.seed)\n",
    "random.seed(p.seed)\n",
    "torch.manual_seed(p.seed)\n",
    "\n",
    "torch.use_deterministic_algorithms(True) "
   ]
  },
  {
   "cell_type": "code",
   "execution_count": 7,
   "id": "b691acf6",
   "metadata": {
    "execution": {
     "iopub.execute_input": "2022-04-01T22:11:48.743926Z",
     "iopub.status.busy": "2022-04-01T22:11:48.743523Z",
     "iopub.status.idle": "2022-04-01T22:11:48.754911Z",
     "shell.execute_reply": "2022-04-01T22:11:48.754619Z"
    },
    "papermill": {
     "duration": 0.024046,
     "end_time": "2022-04-01T22:11:48.754970",
     "exception": false,
     "start_time": "2022-04-01T22:11:48.730924",
     "status": "completed"
    },
    "tags": []
   },
   "outputs": [],
   "source": [
    "###########################################\n",
    "# The stratified datasets honor this\n",
    "###########################################\n",
    "torch.set_default_dtype(eval(p.torch_default_dtype))"
   ]
  },
  {
   "cell_type": "code",
   "execution_count": 8,
   "id": "b5fba671",
   "metadata": {
    "execution": {
     "iopub.execute_input": "2022-04-01T22:11:48.778678Z",
     "iopub.status.busy": "2022-04-01T22:11:48.778278Z",
     "iopub.status.idle": "2022-04-01T22:11:48.815930Z",
     "shell.execute_reply": "2022-04-01T22:11:48.815635Z"
    },
    "papermill": {
     "duration": 0.04897,
     "end_time": "2022-04-01T22:11:48.815997",
     "exception": false,
     "start_time": "2022-04-01T22:11:48.767027",
     "status": "completed"
    },
    "tags": []
   },
   "outputs": [],
   "source": [
    "###################################\n",
    "# Build the network(s)\n",
    "# Note: It's critical to do this AFTER setting the RNG\n",
    "# (This is due to the randomized initial weights)\n",
    "###################################\n",
    "x_net = build_sequential(p.x_net)"
   ]
  },
  {
   "cell_type": "code",
   "execution_count": 9,
   "id": "5d7e61cc",
   "metadata": {
    "execution": {
     "iopub.execute_input": "2022-04-01T22:11:48.837886Z",
     "iopub.status.busy": "2022-04-01T22:11:48.837483Z",
     "iopub.status.idle": "2022-04-01T22:11:48.849069Z",
     "shell.execute_reply": "2022-04-01T22:11:48.848795Z"
    },
    "papermill": {
     "duration": 0.023118,
     "end_time": "2022-04-01T22:11:48.849126",
     "exception": false,
     "start_time": "2022-04-01T22:11:48.826008",
     "status": "completed"
    },
    "tags": []
   },
   "outputs": [],
   "source": [
    "start_time_secs = time.time()"
   ]
  },
  {
   "cell_type": "code",
   "execution_count": 10,
   "id": "fd5442bc",
   "metadata": {
    "execution": {
     "iopub.execute_input": "2022-04-01T22:11:48.877134Z",
     "iopub.status.busy": "2022-04-01T22:11:48.876571Z",
     "iopub.status.idle": "2022-04-01T22:12:07.296628Z",
     "shell.execute_reply": "2022-04-01T22:12:07.296370Z"
    },
    "papermill": {
     "duration": 18.435686,
     "end_time": "2022-04-01T22:12:07.296694",
     "exception": false,
     "start_time": "2022-04-01T22:11:48.861008",
     "status": "completed"
    },
    "tags": []
   },
   "outputs": [],
   "source": [
    "###################################\n",
    "# Build the dataset\n",
    "###################################\n",
    "\n",
    "if p.x_transforms_source == []: x_transform_source = None\n",
    "else: x_transform_source = get_chained_transform(p.x_transforms_source) \n",
    "\n",
    "if p.x_transforms_target == []: x_transform_target = None\n",
    "else: x_transform_target = get_chained_transform(p.x_transforms_target)\n",
    "\n",
    "if p.episode_transforms_source == []: episode_transform_source = None\n",
    "else: raise Exception(\"episode_transform_source not implemented\")\n",
    "\n",
    "if p.episode_transforms_target == []: episode_transform_target = None\n",
    "else: raise Exception(\"episode_transform_target not implemented\")\n",
    "\n",
    "\n",
    "eaf_source = Episodic_Accessor_Factory(\n",
    "    labels=p.labels_source,\n",
    "    domains=p.domains_source,\n",
    "    num_examples_per_domain_per_label=p.num_examples_per_domain_per_label_source,\n",
    "    iterator_seed=p.seed,\n",
    "    dataset_seed=p.dataset_seed,\n",
    "    n_shot=p.n_shot,\n",
    "    n_way=p.n_way,\n",
    "    n_query=p.n_query,\n",
    "    train_val_test_k_factors=(p.train_k_factor,p.val_k_factor,p.test_k_factor),\n",
    "    pickle_path=os.path.join(get_datasets_base_path(), p.pickle_name),\n",
    "    x_transform_func=x_transform_source,\n",
    "    example_transform_func=episode_transform_source,\n",
    "    \n",
    ")\n",
    "train_original_source, val_original_source, test_original_source = eaf_source.get_train(), eaf_source.get_val(), eaf_source.get_test()\n",
    "\n",
    "\n",
    "eaf_target = Episodic_Accessor_Factory(\n",
    "    labels=p.labels_target,\n",
    "    domains=p.domains_target,\n",
    "    num_examples_per_domain_per_label=p.num_examples_per_domain_per_label_target,\n",
    "    iterator_seed=p.seed,\n",
    "    dataset_seed=p.dataset_seed,\n",
    "    n_shot=p.n_shot,\n",
    "    n_way=p.n_way,\n",
    "    n_query=p.n_query,\n",
    "    train_val_test_k_factors=(p.train_k_factor,p.val_k_factor,p.test_k_factor),\n",
    "    pickle_path=os.path.join(get_datasets_base_path(), p.pickle_name),\n",
    "    x_transform_func=x_transform_target,\n",
    "    example_transform_func=episode_transform_target,\n",
    ")\n",
    "train_original_target, val_original_target, test_original_target = eaf_target.get_train(), eaf_target.get_val(), eaf_target.get_test()\n",
    "\n",
    "\n",
    "transform_lambda = lambda ex: ex[1] # Original is (<domain>, <episode>) so we strip down to episode only\n",
    "\n",
    "train_processed_source = Lazy_Iterable_Wrapper(train_original_source, transform_lambda)\n",
    "val_processed_source   = Lazy_Iterable_Wrapper(val_original_source, transform_lambda)\n",
    "test_processed_source  = Lazy_Iterable_Wrapper(test_original_source, transform_lambda)\n",
    "\n",
    "train_processed_target = Lazy_Iterable_Wrapper(train_original_target, transform_lambda)\n",
    "val_processed_target   = Lazy_Iterable_Wrapper(val_original_target, transform_lambda)\n",
    "test_processed_target  = Lazy_Iterable_Wrapper(test_original_target, transform_lambda)\n",
    "\n",
    "datasets = EasyDict({\n",
    "    \"source\": {\n",
    "        \"original\": {\"train\":train_original_source, \"val\":val_original_source, \"test\":test_original_source},\n",
    "        \"processed\": {\"train\":train_processed_source, \"val\":val_processed_source, \"test\":test_processed_source}\n",
    "    },\n",
    "    \"target\": {\n",
    "        \"original\": {\"train\":train_original_target, \"val\":val_original_target, \"test\":test_original_target},\n",
    "        \"processed\": {\"train\":train_processed_target, \"val\":val_processed_target, \"test\":test_processed_target}\n",
    "    },\n",
    "})"
   ]
  },
  {
   "cell_type": "code",
   "execution_count": 11,
   "id": "296189d9",
   "metadata": {
    "execution": {
     "iopub.execute_input": "2022-04-01T22:12:07.323305Z",
     "iopub.status.busy": "2022-04-01T22:12:07.323008Z",
     "iopub.status.idle": "2022-04-01T22:12:08.951075Z",
     "shell.execute_reply": "2022-04-01T22:12:08.950513Z"
    },
    "papermill": {
     "duration": 1.642228,
     "end_time": "2022-04-01T22:12:08.951191",
     "exception": false,
     "start_time": "2022-04-01T22:12:07.308963",
     "status": "completed"
    },
    "tags": []
   },
   "outputs": [
    {
     "name": "stdout",
     "output_type": "stream",
     "text": [
      "Visually inspect these to see if they line up with expected values given the transforms\n",
      "x_transforms_source ['unit_mag']\n",
      "x_transforms_target ['unit_mag']\n",
      "Average magnitude, source: 1.0\n",
      "Average power, source: 1.2485962\n"
     ]
    },
    {
     "name": "stdout",
     "output_type": "stream",
     "text": [
      "Average magnitude, target: 1.0\n",
      "Average power, target: 1.2521646\n"
     ]
    }
   ],
   "source": [
    "# Some quick unit tests on the data\n",
    "from steves_utils.transforms import get_average_power, get_average_magnitude\n",
    "\n",
    "q_x, q_y, s_x, s_y, truth = next(iter(train_processed_source))\n",
    "\n",
    "assert q_x.dtype == eval(p.torch_default_dtype)\n",
    "assert s_x.dtype == eval(p.torch_default_dtype)\n",
    "\n",
    "print(\"Visually inspect these to see if they line up with expected values given the transforms\")\n",
    "print('x_transforms_source', p.x_transforms_source)\n",
    "print('x_transforms_target', p.x_transforms_target)\n",
    "print(\"Average magnitude, source:\", get_average_magnitude(q_x[0].numpy()))\n",
    "print(\"Average power, source:\", get_average_power(q_x[0].numpy()))\n",
    "\n",
    "q_x, q_y, s_x, s_y, truth = next(iter(train_processed_target))\n",
    "print(\"Average magnitude, target:\", get_average_magnitude(q_x[0].numpy()))\n",
    "print(\"Average power, target:\", get_average_power(q_x[0].numpy()))\n"
   ]
  },
  {
   "cell_type": "code",
   "execution_count": 12,
   "id": "bbdacba1",
   "metadata": {
    "execution": {
     "iopub.execute_input": "2022-04-01T22:12:08.978965Z",
     "iopub.status.busy": "2022-04-01T22:12:08.978683Z",
     "iopub.status.idle": "2022-04-01T22:12:09.037862Z",
     "shell.execute_reply": "2022-04-01T22:12:09.037395Z"
    },
    "papermill": {
     "duration": 0.071961,
     "end_time": "2022-04-01T22:12:09.037977",
     "exception": false,
     "start_time": "2022-04-01T22:12:08.966016",
     "status": "completed"
    },
    "tags": []
   },
   "outputs": [
    {
     "name": "stdout",
     "output_type": "stream",
     "text": [
      "(2, 256)\n"
     ]
    }
   ],
   "source": [
    "###################################\n",
    "# Build the model\n",
    "###################################\n",
    "model = Steves_Prototypical_Network(x_net, device=p.device, x_shape=(2,256))\n",
    "optimizer = Adam(params=model.parameters(), lr=p.lr)"
   ]
  },
  {
   "cell_type": "code",
   "execution_count": 13,
   "id": "22b39ac5",
   "metadata": {
    "execution": {
     "iopub.execute_input": "2022-04-01T22:12:09.064536Z",
     "iopub.status.busy": "2022-04-01T22:12:09.064279Z",
     "iopub.status.idle": "2022-04-01T22:27:33.505596Z",
     "shell.execute_reply": "2022-04-01T22:27:33.505365Z"
    },
    "papermill": {
     "duration": 924.453599,
     "end_time": "2022-04-01T22:27:33.505653",
     "exception": false,
     "start_time": "2022-04-01T22:12:09.052054",
     "status": "completed"
    },
    "tags": []
   },
   "outputs": [
    {
     "name": "stdout",
     "output_type": "stream",
     "text": [
      "epoch: 1, [batch: 1 / 2520], examples_per_second: 126.3277, train_label_loss: 2.7646, \n"
     ]
    },
    {
     "name": "stdout",
     "output_type": "stream",
     "text": [
      "epoch: 1, [batch: 252 / 2520], examples_per_second: 3173.0458, train_label_loss: 2.8117, \n"
     ]
    },
    {
     "name": "stdout",
     "output_type": "stream",
     "text": [
      "epoch: 1, [batch: 504 / 2520], examples_per_second: 3194.0807, train_label_loss: 1.9272, \n"
     ]
    },
    {
     "name": "stdout",
     "output_type": "stream",
     "text": [
      "epoch: 1, [batch: 756 / 2520], examples_per_second: 3201.5956, train_label_loss: 1.4867, \n"
     ]
    },
    {
     "name": "stdout",
     "output_type": "stream",
     "text": [
      "epoch: 1, [batch: 1008 / 2520], examples_per_second: 3185.2533, train_label_loss: 1.9188, \n"
     ]
    },
    {
     "name": "stdout",
     "output_type": "stream",
     "text": [
      "epoch: 1, [batch: 1260 / 2520], examples_per_second: 3183.5837, train_label_loss: 1.4420, \n"
     ]
    },
    {
     "name": "stdout",
     "output_type": "stream",
     "text": [
      "epoch: 1, [batch: 1512 / 2520], examples_per_second: 3175.4109, train_label_loss: 1.4119, \n"
     ]
    },
    {
     "name": "stdout",
     "output_type": "stream",
     "text": [
      "epoch: 1, [batch: 1764 / 2520], examples_per_second: 3176.8432, train_label_loss: 1.4063, \n"
     ]
    },
    {
     "name": "stdout",
     "output_type": "stream",
     "text": [
      "epoch: 1, [batch: 2016 / 2520], examples_per_second: 3184.3807, train_label_loss: 1.3514, \n"
     ]
    },
    {
     "name": "stdout",
     "output_type": "stream",
     "text": [
      "epoch: 1, [batch: 2268 / 2520], examples_per_second: 3162.2860, train_label_loss: 1.6269, \n"
     ]
    },
    {
     "name": "stdout",
     "output_type": "stream",
     "text": [
      "=============================================================\n",
      "epoch: 1, source_val_acc_label: 0.3867, target_val_acc_label: 0.2748, source_val_label_loss: 1.5576, target_val_label_loss: 1.8940, \n",
      "=============================================================\n"
     ]
    },
    {
     "name": "stdout",
     "output_type": "stream",
     "text": [
      "New best\n"
     ]
    },
    {
     "name": "stdout",
     "output_type": "stream",
     "text": [
      "epoch: 2, [batch: 1 / 2520], examples_per_second: 11.0995, train_label_loss: 1.2786, \n"
     ]
    },
    {
     "name": "stdout",
     "output_type": "stream",
     "text": [
      "epoch: 2, [batch: 252 / 2520], examples_per_second: 3192.9012, train_label_loss: 1.4992, \n"
     ]
    },
    {
     "name": "stdout",
     "output_type": "stream",
     "text": [
      "epoch: 2, [batch: 504 / 2520], examples_per_second: 3187.7389, train_label_loss: 1.1200, \n"
     ]
    },
    {
     "name": "stdout",
     "output_type": "stream",
     "text": [
      "epoch: 2, [batch: 756 / 2520], examples_per_second: 3167.3046, train_label_loss: 1.2437, \n"
     ]
    },
    {
     "name": "stdout",
     "output_type": "stream",
     "text": [
      "epoch: 2, [batch: 1008 / 2520], examples_per_second: 3183.6430, train_label_loss: 1.1711, \n"
     ]
    },
    {
     "name": "stdout",
     "output_type": "stream",
     "text": [
      "epoch: 2, [batch: 1260 / 2520], examples_per_second: 3183.8508, train_label_loss: 1.4490, \n"
     ]
    },
    {
     "name": "stdout",
     "output_type": "stream",
     "text": [
      "epoch: 2, [batch: 1512 / 2520], examples_per_second: 3191.2094, train_label_loss: 1.7632, \n"
     ]
    },
    {
     "name": "stdout",
     "output_type": "stream",
     "text": [
      "epoch: 2, [batch: 1764 / 2520], examples_per_second: 3184.9665, train_label_loss: 1.3527, \n"
     ]
    },
    {
     "name": "stdout",
     "output_type": "stream",
     "text": [
      "epoch: 2, [batch: 2016 / 2520], examples_per_second: 3177.3198, train_label_loss: 1.1402, \n"
     ]
    },
    {
     "name": "stdout",
     "output_type": "stream",
     "text": [
      "epoch: 2, [batch: 2268 / 2520], examples_per_second: 3191.2509, train_label_loss: 1.4581, \n"
     ]
    },
    {
     "name": "stdout",
     "output_type": "stream",
     "text": [
      "=============================================================\n",
      "epoch: 2, source_val_acc_label: 0.4233, target_val_acc_label: 0.2983, source_val_label_loss: 1.4474, target_val_label_loss: 1.8133, \n",
      "=============================================================\n"
     ]
    },
    {
     "name": "stdout",
     "output_type": "stream",
     "text": [
      "New best\n"
     ]
    },
    {
     "name": "stdout",
     "output_type": "stream",
     "text": [
      "epoch: 3, [batch: 1 / 2520], examples_per_second: 11.0977, train_label_loss: 1.5250, \n"
     ]
    },
    {
     "name": "stdout",
     "output_type": "stream",
     "text": [
      "epoch: 3, [batch: 252 / 2520], examples_per_second: 3175.6153, train_label_loss: 1.5992, \n"
     ]
    },
    {
     "name": "stdout",
     "output_type": "stream",
     "text": [
      "epoch: 3, [batch: 504 / 2520], examples_per_second: 3205.6080, train_label_loss: 1.4827, \n"
     ]
    },
    {
     "name": "stdout",
     "output_type": "stream",
     "text": [
      "epoch: 3, [batch: 756 / 2520], examples_per_second: 3218.5826, train_label_loss: 1.4842, \n"
     ]
    },
    {
     "name": "stdout",
     "output_type": "stream",
     "text": [
      "epoch: 3, [batch: 1008 / 2520], examples_per_second: 3185.2416, train_label_loss: 1.5002, \n"
     ]
    },
    {
     "name": "stdout",
     "output_type": "stream",
     "text": [
      "epoch: 3, [batch: 1260 / 2520], examples_per_second: 3205.7882, train_label_loss: 1.0267, \n"
     ]
    },
    {
     "name": "stdout",
     "output_type": "stream",
     "text": [
      "epoch: 3, [batch: 1512 / 2520], examples_per_second: 3210.2341, train_label_loss: 1.4689, \n"
     ]
    },
    {
     "name": "stdout",
     "output_type": "stream",
     "text": [
      "epoch: 3, [batch: 1764 / 2520], examples_per_second: 3194.8749, train_label_loss: 1.1786, \n"
     ]
    },
    {
     "name": "stdout",
     "output_type": "stream",
     "text": [
      "epoch: 3, [batch: 2016 / 2520], examples_per_second: 3187.6017, train_label_loss: 1.1234, \n"
     ]
    },
    {
     "name": "stdout",
     "output_type": "stream",
     "text": [
      "epoch: 3, [batch: 2268 / 2520], examples_per_second: 3225.7927, train_label_loss: 1.5130, \n"
     ]
    },
    {
     "name": "stdout",
     "output_type": "stream",
     "text": [
      "=============================================================\n",
      "epoch: 3, source_val_acc_label: 0.5086, target_val_acc_label: 0.4018, source_val_label_loss: 1.3027, target_val_label_loss: 1.6092, \n",
      "=============================================================\n"
     ]
    },
    {
     "name": "stdout",
     "output_type": "stream",
     "text": [
      "New best\n"
     ]
    },
    {
     "name": "stdout",
     "output_type": "stream",
     "text": [
      "epoch: 4, [batch: 1 / 2520], examples_per_second: 11.1082, train_label_loss: 0.9419, \n"
     ]
    },
    {
     "name": "stdout",
     "output_type": "stream",
     "text": [
      "epoch: 4, [batch: 252 / 2520], examples_per_second: 3188.1850, train_label_loss: 0.9354, \n"
     ]
    },
    {
     "name": "stdout",
     "output_type": "stream",
     "text": [
      "epoch: 4, [batch: 504 / 2520], examples_per_second: 3221.0033, train_label_loss: 1.3621, \n"
     ]
    },
    {
     "name": "stdout",
     "output_type": "stream",
     "text": [
      "epoch: 4, [batch: 756 / 2520], examples_per_second: 3188.9905, train_label_loss: 1.1911, \n"
     ]
    },
    {
     "name": "stdout",
     "output_type": "stream",
     "text": [
      "epoch: 4, [batch: 1008 / 2520], examples_per_second: 3191.4396, train_label_loss: 0.9162, \n"
     ]
    },
    {
     "name": "stdout",
     "output_type": "stream",
     "text": [
      "epoch: 4, [batch: 1260 / 2520], examples_per_second: 3217.3193, train_label_loss: 1.4238, \n"
     ]
    },
    {
     "name": "stdout",
     "output_type": "stream",
     "text": [
      "epoch: 4, [batch: 1512 / 2520], examples_per_second: 3217.5284, train_label_loss: 0.7928, \n"
     ]
    },
    {
     "name": "stdout",
     "output_type": "stream",
     "text": [
      "epoch: 4, [batch: 1764 / 2520], examples_per_second: 3184.0953, train_label_loss: 0.5336, \n"
     ]
    },
    {
     "name": "stdout",
     "output_type": "stream",
     "text": [
      "epoch: 4, [batch: 2016 / 2520], examples_per_second: 3190.7797, train_label_loss: 0.8768, \n"
     ]
    },
    {
     "name": "stdout",
     "output_type": "stream",
     "text": [
      "epoch: 4, [batch: 2268 / 2520], examples_per_second: 3216.9196, train_label_loss: 0.5515, \n"
     ]
    },
    {
     "name": "stdout",
     "output_type": "stream",
     "text": [
      "=============================================================\n",
      "epoch: 4, source_val_acc_label: 0.5594, target_val_acc_label: 0.4635, source_val_label_loss: 1.2083, target_val_label_loss: 1.4562, \n",
      "=============================================================\n"
     ]
    },
    {
     "name": "stdout",
     "output_type": "stream",
     "text": [
      "New best\n"
     ]
    },
    {
     "name": "stdout",
     "output_type": "stream",
     "text": [
      "epoch: 5, [batch: 1 / 2520], examples_per_second: 11.1409, train_label_loss: 0.8777, \n"
     ]
    },
    {
     "name": "stdout",
     "output_type": "stream",
     "text": [
      "epoch: 5, [batch: 252 / 2520], examples_per_second: 3188.8468, train_label_loss: 0.9182, \n"
     ]
    },
    {
     "name": "stdout",
     "output_type": "stream",
     "text": [
      "epoch: 5, [batch: 504 / 2520], examples_per_second: 3189.4136, train_label_loss: 0.9081, \n"
     ]
    },
    {
     "name": "stdout",
     "output_type": "stream",
     "text": [
      "epoch: 5, [batch: 756 / 2520], examples_per_second: 3204.4392, train_label_loss: 0.8256, \n"
     ]
    },
    {
     "name": "stdout",
     "output_type": "stream",
     "text": [
      "epoch: 5, [batch: 1008 / 2520], examples_per_second: 3181.8181, train_label_loss: 1.1126, \n"
     ]
    },
    {
     "name": "stdout",
     "output_type": "stream",
     "text": [
      "epoch: 5, [batch: 1260 / 2520], examples_per_second: 3180.3297, train_label_loss: 0.6857, \n"
     ]
    },
    {
     "name": "stdout",
     "output_type": "stream",
     "text": [
      "epoch: 5, [batch: 1512 / 2520], examples_per_second: 3197.0384, train_label_loss: 0.9301, \n"
     ]
    },
    {
     "name": "stdout",
     "output_type": "stream",
     "text": [
      "epoch: 5, [batch: 1764 / 2520], examples_per_second: 3187.2596, train_label_loss: 0.9642, \n"
     ]
    },
    {
     "name": "stdout",
     "output_type": "stream",
     "text": [
      "epoch: 5, [batch: 2016 / 2520], examples_per_second: 3202.0307, train_label_loss: 0.5381, \n"
     ]
    },
    {
     "name": "stdout",
     "output_type": "stream",
     "text": [
      "epoch: 5, [batch: 2268 / 2520], examples_per_second: 3219.0337, train_label_loss: 1.0633, \n"
     ]
    },
    {
     "name": "stdout",
     "output_type": "stream",
     "text": [
      "=============================================================\n",
      "epoch: 5, source_val_acc_label: 0.5711, target_val_acc_label: 0.4791, source_val_label_loss: 1.2345, target_val_label_loss: 1.4728, \n",
      "=============================================================\n"
     ]
    },
    {
     "name": "stdout",
     "output_type": "stream",
     "text": [
      "New best\n"
     ]
    },
    {
     "name": "stdout",
     "output_type": "stream",
     "text": [
      "epoch: 6, [batch: 1 / 2520], examples_per_second: 11.1486, train_label_loss: 0.3629, \n"
     ]
    },
    {
     "name": "stdout",
     "output_type": "stream",
     "text": [
      "epoch: 6, [batch: 252 / 2520], examples_per_second: 3207.8460, train_label_loss: 0.6048, \n"
     ]
    },
    {
     "name": "stdout",
     "output_type": "stream",
     "text": [
      "epoch: 6, [batch: 504 / 2520], examples_per_second: 3192.4314, train_label_loss: 1.0251, \n"
     ]
    },
    {
     "name": "stdout",
     "output_type": "stream",
     "text": [
      "epoch: 6, [batch: 756 / 2520], examples_per_second: 3189.0975, train_label_loss: 0.7853, \n"
     ]
    },
    {
     "name": "stdout",
     "output_type": "stream",
     "text": [
      "epoch: 6, [batch: 1008 / 2520], examples_per_second: 3193.7453, train_label_loss: 0.6885, \n"
     ]
    },
    {
     "name": "stdout",
     "output_type": "stream",
     "text": [
      "epoch: 6, [batch: 1260 / 2520], examples_per_second: 3181.5375, train_label_loss: 0.2144, \n"
     ]
    },
    {
     "name": "stdout",
     "output_type": "stream",
     "text": [
      "epoch: 6, [batch: 1512 / 2520], examples_per_second: 3183.9766, train_label_loss: 0.6691, \n"
     ]
    },
    {
     "name": "stdout",
     "output_type": "stream",
     "text": [
      "epoch: 6, [batch: 1764 / 2520], examples_per_second: 3178.9533, train_label_loss: 0.5853, \n"
     ]
    },
    {
     "name": "stdout",
     "output_type": "stream",
     "text": [
      "epoch: 6, [batch: 2016 / 2520], examples_per_second: 3196.7047, train_label_loss: 0.6732, \n"
     ]
    },
    {
     "name": "stdout",
     "output_type": "stream",
     "text": [
      "epoch: 6, [batch: 2268 / 2520], examples_per_second: 3187.8691, train_label_loss: 0.7849, \n"
     ]
    },
    {
     "name": "stdout",
     "output_type": "stream",
     "text": [
      "=============================================================\n",
      "epoch: 6, source_val_acc_label: 0.5839, target_val_acc_label: 0.4892, source_val_label_loss: 1.2627, target_val_label_loss: 1.5268, \n",
      "=============================================================\n"
     ]
    },
    {
     "name": "stdout",
     "output_type": "stream",
     "text": [
      "New best\n"
     ]
    },
    {
     "name": "stdout",
     "output_type": "stream",
     "text": [
      "epoch: 7, [batch: 1 / 2520], examples_per_second: 11.1863, train_label_loss: 0.3702, \n"
     ]
    },
    {
     "name": "stdout",
     "output_type": "stream",
     "text": [
      "epoch: 7, [batch: 252 / 2520], examples_per_second: 3189.1565, train_label_loss: 0.5801, \n"
     ]
    },
    {
     "name": "stdout",
     "output_type": "stream",
     "text": [
      "epoch: 7, [batch: 504 / 2520], examples_per_second: 3196.6105, train_label_loss: 0.2925, \n"
     ]
    },
    {
     "name": "stdout",
     "output_type": "stream",
     "text": [
      "epoch: 7, [batch: 756 / 2520], examples_per_second: 3202.8603, train_label_loss: 0.7676, \n"
     ]
    },
    {
     "name": "stdout",
     "output_type": "stream",
     "text": [
      "epoch: 7, [batch: 1008 / 2520], examples_per_second: 3193.4074, train_label_loss: 0.3457, \n"
     ]
    },
    {
     "name": "stdout",
     "output_type": "stream",
     "text": [
      "epoch: 7, [batch: 1260 / 2520], examples_per_second: 3208.5175, train_label_loss: 0.5111, \n"
     ]
    },
    {
     "name": "stdout",
     "output_type": "stream",
     "text": [
      "epoch: 7, [batch: 1512 / 2520], examples_per_second: 3217.1699, train_label_loss: 0.6223, \n"
     ]
    },
    {
     "name": "stdout",
     "output_type": "stream",
     "text": [
      "epoch: 7, [batch: 1764 / 2520], examples_per_second: 3185.1709, train_label_loss: 0.6802, \n"
     ]
    },
    {
     "name": "stdout",
     "output_type": "stream",
     "text": [
      "epoch: 7, [batch: 2016 / 2520], examples_per_second: 3222.5519, train_label_loss: 0.4744, \n"
     ]
    },
    {
     "name": "stdout",
     "output_type": "stream",
     "text": [
      "epoch: 7, [batch: 2268 / 2520], examples_per_second: 3239.8669, train_label_loss: 0.5013, \n"
     ]
    },
    {
     "name": "stdout",
     "output_type": "stream",
     "text": [
      "=============================================================\n",
      "epoch: 7, source_val_acc_label: 0.5825, target_val_acc_label: 0.4874, source_val_label_loss: 1.3438, target_val_label_loss: 1.6172, \n",
      "=============================================================\n"
     ]
    },
    {
     "name": "stdout",
     "output_type": "stream",
     "text": [
      "epoch: 8, [batch: 1 / 2520], examples_per_second: 11.1961, train_label_loss: 0.3881, \n"
     ]
    },
    {
     "name": "stdout",
     "output_type": "stream",
     "text": [
      "epoch: 8, [batch: 252 / 2520], examples_per_second: 3163.9893, train_label_loss: 0.1412, \n"
     ]
    },
    {
     "name": "stdout",
     "output_type": "stream",
     "text": [
      "epoch: 8, [batch: 504 / 2520], examples_per_second: 3192.6888, train_label_loss: 0.6520, \n"
     ]
    },
    {
     "name": "stdout",
     "output_type": "stream",
     "text": [
      "epoch: 8, [batch: 756 / 2520], examples_per_second: 3214.2709, train_label_loss: 0.5922, \n"
     ]
    },
    {
     "name": "stdout",
     "output_type": "stream",
     "text": [
      "epoch: 8, [batch: 1008 / 2520], examples_per_second: 3183.9961, train_label_loss: 0.3629, \n"
     ]
    },
    {
     "name": "stdout",
     "output_type": "stream",
     "text": [
      "epoch: 8, [batch: 1260 / 2520], examples_per_second: 3203.7037, train_label_loss: 0.3538, \n"
     ]
    },
    {
     "name": "stdout",
     "output_type": "stream",
     "text": [
      "epoch: 8, [batch: 1512 / 2520], examples_per_second: 3213.2115, train_label_loss: 0.4565, \n"
     ]
    },
    {
     "name": "stdout",
     "output_type": "stream",
     "text": [
      "epoch: 8, [batch: 1764 / 2520], examples_per_second: 3196.7737, train_label_loss: 0.5440, \n"
     ]
    },
    {
     "name": "stdout",
     "output_type": "stream",
     "text": [
      "epoch: 8, [batch: 2016 / 2520], examples_per_second: 3204.1482, train_label_loss: 0.4997, \n"
     ]
    },
    {
     "name": "stdout",
     "output_type": "stream",
     "text": [
      "epoch: 8, [batch: 2268 / 2520], examples_per_second: 3205.3661, train_label_loss: 0.2069, \n"
     ]
    },
    {
     "name": "stdout",
     "output_type": "stream",
     "text": [
      "=============================================================\n",
      "epoch: 8, source_val_acc_label: 0.5835, target_val_acc_label: 0.4889, source_val_label_loss: 1.4786, target_val_label_loss: 1.7399, \n",
      "=============================================================\n"
     ]
    },
    {
     "name": "stdout",
     "output_type": "stream",
     "text": [
      "epoch: 9, [batch: 1 / 2520], examples_per_second: 11.2133, train_label_loss: 0.2104, \n"
     ]
    },
    {
     "name": "stdout",
     "output_type": "stream",
     "text": [
      "epoch: 9, [batch: 252 / 2520], examples_per_second: 3187.3990, train_label_loss: 0.3678, \n"
     ]
    },
    {
     "name": "stdout",
     "output_type": "stream",
     "text": [
      "epoch: 9, [batch: 504 / 2520], examples_per_second: 3186.5321, train_label_loss: 0.4396, \n"
     ]
    },
    {
     "name": "stdout",
     "output_type": "stream",
     "text": [
      "epoch: 9, [batch: 756 / 2520], examples_per_second: 3193.8425, train_label_loss: 0.5562, \n"
     ]
    },
    {
     "name": "stdout",
     "output_type": "stream",
     "text": [
      "epoch: 9, [batch: 1008 / 2520], examples_per_second: 3205.8212, train_label_loss: 0.2839, \n"
     ]
    },
    {
     "name": "stdout",
     "output_type": "stream",
     "text": [
      "epoch: 9, [batch: 1260 / 2520], examples_per_second: 3199.6370, train_label_loss: 0.1074, \n"
     ]
    },
    {
     "name": "stdout",
     "output_type": "stream",
     "text": [
      "epoch: 9, [batch: 1512 / 2520], examples_per_second: 3188.6014, train_label_loss: 0.1022, \n"
     ]
    },
    {
     "name": "stdout",
     "output_type": "stream",
     "text": [
      "epoch: 9, [batch: 1764 / 2520], examples_per_second: 3176.1978, train_label_loss: 0.3206, \n"
     ]
    },
    {
     "name": "stdout",
     "output_type": "stream",
     "text": [
      "epoch: 9, [batch: 2016 / 2520], examples_per_second: 3181.8346, train_label_loss: 0.1112, \n"
     ]
    },
    {
     "name": "stdout",
     "output_type": "stream",
     "text": [
      "epoch: 9, [batch: 2268 / 2520], examples_per_second: 3185.9634, train_label_loss: 0.4968, \n"
     ]
    },
    {
     "name": "stdout",
     "output_type": "stream",
     "text": [
      "=============================================================\n",
      "epoch: 9, source_val_acc_label: 0.5885, target_val_acc_label: 0.4928, source_val_label_loss: 1.5260, target_val_label_loss: 1.8026, \n",
      "=============================================================\n"
     ]
    },
    {
     "name": "stdout",
     "output_type": "stream",
     "text": [
      "New best\n"
     ]
    },
    {
     "name": "stdout",
     "output_type": "stream",
     "text": [
      "epoch: 10, [batch: 1 / 2520], examples_per_second: 11.1922, train_label_loss: 0.4723, \n"
     ]
    },
    {
     "name": "stdout",
     "output_type": "stream",
     "text": [
      "epoch: 10, [batch: 252 / 2520], examples_per_second: 3159.2936, train_label_loss: 0.1786, \n"
     ]
    },
    {
     "name": "stdout",
     "output_type": "stream",
     "text": [
      "epoch: 10, [batch: 504 / 2520], examples_per_second: 3171.6016, train_label_loss: 0.3600, \n"
     ]
    },
    {
     "name": "stdout",
     "output_type": "stream",
     "text": [
      "epoch: 10, [batch: 756 / 2520], examples_per_second: 3196.6496, train_label_loss: 0.0584, \n"
     ]
    },
    {
     "name": "stdout",
     "output_type": "stream",
     "text": [
      "epoch: 10, [batch: 1008 / 2520], examples_per_second: 3196.9060, train_label_loss: 0.3936, \n"
     ]
    },
    {
     "name": "stdout",
     "output_type": "stream",
     "text": [
      "epoch: 10, [batch: 1260 / 2520], examples_per_second: 3203.8421, train_label_loss: 0.2292, \n"
     ]
    },
    {
     "name": "stdout",
     "output_type": "stream",
     "text": [
      "epoch: 10, [batch: 1512 / 2520], examples_per_second: 3196.2491, train_label_loss: 0.2892, \n"
     ]
    },
    {
     "name": "stdout",
     "output_type": "stream",
     "text": [
      "epoch: 10, [batch: 1764 / 2520], examples_per_second: 3181.7570, train_label_loss: 0.1693, \n"
     ]
    },
    {
     "name": "stdout",
     "output_type": "stream",
     "text": [
      "epoch: 10, [batch: 2016 / 2520], examples_per_second: 3189.8290, train_label_loss: 0.1552, \n"
     ]
    },
    {
     "name": "stdout",
     "output_type": "stream",
     "text": [
      "epoch: 10, [batch: 2268 / 2520], examples_per_second: 3188.2175, train_label_loss: 0.4128, \n"
     ]
    },
    {
     "name": "stdout",
     "output_type": "stream",
     "text": [
      "=============================================================\n",
      "epoch: 10, source_val_acc_label: 0.5784, target_val_acc_label: 0.4909, source_val_label_loss: 1.7041, target_val_label_loss: 1.9718, \n",
      "=============================================================\n"
     ]
    },
    {
     "name": "stdout",
     "output_type": "stream",
     "text": [
      "epoch: 11, [batch: 1 / 2520], examples_per_second: 11.1623, train_label_loss: 0.1123, \n"
     ]
    },
    {
     "name": "stdout",
     "output_type": "stream",
     "text": [
      "epoch: 11, [batch: 252 / 2520], examples_per_second: 3182.3505, train_label_loss: 0.3906, \n"
     ]
    },
    {
     "name": "stdout",
     "output_type": "stream",
     "text": [
      "epoch: 11, [batch: 504 / 2520], examples_per_second: 3201.2443, train_label_loss: 0.0176, \n"
     ]
    },
    {
     "name": "stdout",
     "output_type": "stream",
     "text": [
      "epoch: 11, [batch: 756 / 2520], examples_per_second: 3189.0199, train_label_loss: 0.0974, \n"
     ]
    },
    {
     "name": "stdout",
     "output_type": "stream",
     "text": [
      "epoch: 11, [batch: 1008 / 2520], examples_per_second: 3193.0247, train_label_loss: 0.0332, \n"
     ]
    },
    {
     "name": "stdout",
     "output_type": "stream",
     "text": [
      "epoch: 11, [batch: 1260 / 2520], examples_per_second: 3213.2737, train_label_loss: 0.0469, \n"
     ]
    },
    {
     "name": "stdout",
     "output_type": "stream",
     "text": [
      "epoch: 11, [batch: 1512 / 2520], examples_per_second: 3194.4446, train_label_loss: 0.2898, \n"
     ]
    },
    {
     "name": "stdout",
     "output_type": "stream",
     "text": [
      "epoch: 11, [batch: 1764 / 2520], examples_per_second: 3202.5784, train_label_loss: 0.0325, \n"
     ]
    },
    {
     "name": "stdout",
     "output_type": "stream",
     "text": [
      "epoch: 11, [batch: 2016 / 2520], examples_per_second: 3196.5197, train_label_loss: 0.1684, \n"
     ]
    },
    {
     "name": "stdout",
     "output_type": "stream",
     "text": [
      "epoch: 11, [batch: 2268 / 2520], examples_per_second: 3216.7945, train_label_loss: 0.0473, \n"
     ]
    },
    {
     "name": "stdout",
     "output_type": "stream",
     "text": [
      "=============================================================\n",
      "epoch: 11, source_val_acc_label: 0.5763, target_val_acc_label: 0.4899, source_val_label_loss: 1.7674, target_val_label_loss: 2.0786, \n",
      "=============================================================\n"
     ]
    },
    {
     "name": "stdout",
     "output_type": "stream",
     "text": [
      "epoch: 12, [batch: 1 / 2520], examples_per_second: 11.1535, train_label_loss: 0.1759, \n"
     ]
    },
    {
     "name": "stdout",
     "output_type": "stream",
     "text": [
      "epoch: 12, [batch: 252 / 2520], examples_per_second: 3188.2846, train_label_loss: 0.2133, \n"
     ]
    },
    {
     "name": "stdout",
     "output_type": "stream",
     "text": [
      "epoch: 12, [batch: 504 / 2520], examples_per_second: 3186.7818, train_label_loss: 0.2998, \n"
     ]
    },
    {
     "name": "stdout",
     "output_type": "stream",
     "text": [
      "epoch: 12, [batch: 756 / 2520], examples_per_second: 3195.9306, train_label_loss: 0.3172, \n"
     ]
    },
    {
     "name": "stdout",
     "output_type": "stream",
     "text": [
      "epoch: 12, [batch: 1008 / 2520], examples_per_second: 3197.8067, train_label_loss: 0.2056, \n"
     ]
    },
    {
     "name": "stdout",
     "output_type": "stream",
     "text": [
      "epoch: 12, [batch: 1260 / 2520], examples_per_second: 3200.3551, train_label_loss: 0.2186, \n"
     ]
    },
    {
     "name": "stdout",
     "output_type": "stream",
     "text": [
      "epoch: 12, [batch: 1512 / 2520], examples_per_second: 3177.1224, train_label_loss: 0.0165, \n"
     ]
    },
    {
     "name": "stdout",
     "output_type": "stream",
     "text": [
      "epoch: 12, [batch: 1764 / 2520], examples_per_second: 3204.3530, train_label_loss: 0.0301, \n"
     ]
    },
    {
     "name": "stdout",
     "output_type": "stream",
     "text": [
      "epoch: 12, [batch: 2016 / 2520], examples_per_second: 3218.3695, train_label_loss: 0.2247, \n"
     ]
    },
    {
     "name": "stdout",
     "output_type": "stream",
     "text": [
      "epoch: 12, [batch: 2268 / 2520], examples_per_second: 3211.9825, train_label_loss: 0.1470, \n"
     ]
    },
    {
     "name": "stdout",
     "output_type": "stream",
     "text": [
      "=============================================================\n",
      "epoch: 12, source_val_acc_label: 0.5729, target_val_acc_label: 0.4881, source_val_label_loss: 1.7990, target_val_label_loss: 2.0789, \n",
      "=============================================================\n"
     ]
    },
    {
     "name": "stdout",
     "output_type": "stream",
     "text": [
      "epoch: 13, [batch: 1 / 2520], examples_per_second: 11.2067, train_label_loss: 0.2065, \n"
     ]
    },
    {
     "name": "stdout",
     "output_type": "stream",
     "text": [
      "epoch: 13, [batch: 252 / 2520], examples_per_second: 3173.0907, train_label_loss: 0.1163, \n"
     ]
    },
    {
     "name": "stdout",
     "output_type": "stream",
     "text": [
      "epoch: 13, [batch: 504 / 2520], examples_per_second: 3197.5785, train_label_loss: 0.1847, \n"
     ]
    },
    {
     "name": "stdout",
     "output_type": "stream",
     "text": [
      "epoch: 13, [batch: 756 / 2520], examples_per_second: 3198.9941, train_label_loss: 0.0470, \n"
     ]
    },
    {
     "name": "stdout",
     "output_type": "stream",
     "text": [
      "epoch: 13, [batch: 1008 / 2520], examples_per_second: 3179.7060, train_label_loss: 0.1266, \n"
     ]
    },
    {
     "name": "stdout",
     "output_type": "stream",
     "text": [
      "epoch: 13, [batch: 1260 / 2520], examples_per_second: 3201.5765, train_label_loss: 0.0617, \n"
     ]
    },
    {
     "name": "stdout",
     "output_type": "stream",
     "text": [
      "epoch: 13, [batch: 1512 / 2520], examples_per_second: 3210.5393, train_label_loss: 0.0443, \n"
     ]
    },
    {
     "name": "stdout",
     "output_type": "stream",
     "text": [
      "epoch: 13, [batch: 1764 / 2520], examples_per_second: 3194.3734, train_label_loss: 0.2160, \n"
     ]
    },
    {
     "name": "stdout",
     "output_type": "stream",
     "text": [
      "epoch: 13, [batch: 2016 / 2520], examples_per_second: 3188.1393, train_label_loss: 0.6893, \n"
     ]
    },
    {
     "name": "stdout",
     "output_type": "stream",
     "text": [
      "epoch: 13, [batch: 2268 / 2520], examples_per_second: 3210.3476, train_label_loss: 0.3489, \n"
     ]
    },
    {
     "name": "stdout",
     "output_type": "stream",
     "text": [
      "=============================================================\n",
      "epoch: 13, source_val_acc_label: 0.5808, target_val_acc_label: 0.4927, source_val_label_loss: 1.8256, target_val_label_loss: 2.1391, \n",
      "=============================================================\n"
     ]
    },
    {
     "name": "stdout",
     "output_type": "stream",
     "text": [
      "Patience (3) exhausted\n"
     ]
    }
   ],
   "source": [
    "###################################\n",
    "# train\n",
    "###################################\n",
    "jig = PTN_Train_Eval_Test_Jig(model, p.BEST_MODEL_PATH, p.device)\n",
    "\n",
    "jig.train(\n",
    "    train_iterable=datasets.source.processed.train,\n",
    "    source_val_iterable=datasets.source.processed.val,\n",
    "    target_val_iterable=datasets.target.processed.val,\n",
    "    num_epochs=p.n_epoch,\n",
    "    num_logs_per_epoch=p.NUM_LOGS_PER_EPOCH,\n",
    "    patience=p.patience,\n",
    "    optimizer=optimizer,\n",
    "    criteria_for_best=p.criteria_for_best,\n",
    ")"
   ]
  },
  {
   "cell_type": "code",
   "execution_count": 14,
   "id": "31e8fabf",
   "metadata": {
    "execution": {
     "iopub.execute_input": "2022-04-01T22:27:33.582654Z",
     "iopub.status.busy": "2022-04-01T22:27:33.582408Z",
     "iopub.status.idle": "2022-04-01T22:27:33.600636Z",
     "shell.execute_reply": "2022-04-01T22:27:33.600185Z"
    },
    "papermill": {
     "duration": 0.057941,
     "end_time": "2022-04-01T22:27:33.600725",
     "exception": false,
     "start_time": "2022-04-01T22:27:33.542784",
     "status": "completed"
    },
    "tags": []
   },
   "outputs": [],
   "source": [
    "total_experiment_time_secs = time.time() - start_time_secs"
   ]
  },
  {
   "cell_type": "code",
   "execution_count": 15,
   "id": "87b9595b",
   "metadata": {
    "execution": {
     "iopub.execute_input": "2022-04-01T22:27:33.683877Z",
     "iopub.status.busy": "2022-04-01T22:27:33.683614Z",
     "iopub.status.idle": "2022-04-01T22:28:22.398743Z",
     "shell.execute_reply": "2022-04-01T22:28:22.399153Z"
    },
    "papermill": {
     "duration": 48.756449,
     "end_time": "2022-04-01T22:28:22.399284",
     "exception": false,
     "start_time": "2022-04-01T22:27:33.642835",
     "status": "completed"
    },
    "tags": []
   },
   "outputs": [],
   "source": [
    "###################################\n",
    "# Evaluate the model\n",
    "###################################\n",
    "source_test_label_accuracy, source_test_label_loss = jig.test(datasets.source.processed.test)\n",
    "target_test_label_accuracy, target_test_label_loss = jig.test(datasets.target.processed.test)\n",
    "\n",
    "source_val_label_accuracy, source_val_label_loss = jig.test(datasets.source.processed.val)\n",
    "target_val_label_accuracy, target_val_label_loss = jig.test(datasets.target.processed.val)\n",
    "\n",
    "history = jig.get_history()\n",
    "\n",
    "total_epochs_trained = len(history[\"epoch_indices\"])\n",
    "\n",
    "val_dl = Iterable_Aggregator((datasets.source.original.val,datasets.target.original.val))\n",
    "\n",
    "confusion = ptn_confusion_by_domain_over_dataloader(model, p.device, val_dl)\n",
    "per_domain_accuracy = per_domain_accuracy_from_confusion(confusion)\n",
    "\n",
    "# Add a key to per_domain_accuracy for if it was a source domain\n",
    "for domain, accuracy in per_domain_accuracy.items():\n",
    "    per_domain_accuracy[domain] = {\n",
    "        \"accuracy\": accuracy,\n",
    "        \"source?\": domain in p.domains_source\n",
    "    }\n",
    "\n",
    "# Do an independent accuracy assesment JUST TO BE SURE!\n",
    "# _source_test_label_accuracy = independent_accuracy_assesment(model, datasets.source.processed.test, p.device)\n",
    "# _target_test_label_accuracy = independent_accuracy_assesment(model, datasets.target.processed.test, p.device)\n",
    "# _source_val_label_accuracy = independent_accuracy_assesment(model, datasets.source.processed.val, p.device)\n",
    "# _target_val_label_accuracy = independent_accuracy_assesment(model, datasets.target.processed.val, p.device)\n",
    "\n",
    "# assert(_source_test_label_accuracy == source_test_label_accuracy)\n",
    "# assert(_target_test_label_accuracy == target_test_label_accuracy)\n",
    "# assert(_source_val_label_accuracy == source_val_label_accuracy)\n",
    "# assert(_target_val_label_accuracy == target_val_label_accuracy)\n",
    "\n",
    "experiment = {\n",
    "    \"experiment_name\": p.experiment_name,\n",
    "    \"parameters\": dict(p),\n",
    "    \"results\": {\n",
    "        \"source_test_label_accuracy\": source_test_label_accuracy,\n",
    "        \"source_test_label_loss\": source_test_label_loss,\n",
    "        \"target_test_label_accuracy\": target_test_label_accuracy,\n",
    "        \"target_test_label_loss\": target_test_label_loss,\n",
    "        \"source_val_label_accuracy\": source_val_label_accuracy,\n",
    "        \"source_val_label_loss\": source_val_label_loss,\n",
    "        \"target_val_label_accuracy\": target_val_label_accuracy,\n",
    "        \"target_val_label_loss\": target_val_label_loss,\n",
    "        \"total_epochs_trained\": total_epochs_trained,\n",
    "        \"total_experiment_time_secs\": total_experiment_time_secs,\n",
    "        \"confusion\": confusion,\n",
    "        \"per_domain_accuracy\": per_domain_accuracy,\n",
    "    },\n",
    "    \"history\": history,\n",
    "    \"dataset_metrics\": get_dataset_metrics(datasets, \"ptn\"),\n",
    "}"
   ]
  },
  {
   "cell_type": "code",
   "execution_count": 16,
   "id": "54a21829",
   "metadata": {
    "execution": {
     "iopub.execute_input": "2022-04-01T22:28:22.479272Z",
     "iopub.status.busy": "2022-04-01T22:28:22.479016Z",
     "iopub.status.idle": "2022-04-01T22:28:22.613713Z",
     "shell.execute_reply": "2022-04-01T22:28:22.613295Z"
    },
    "papermill": {
     "duration": 0.173873,
     "end_time": "2022-04-01T22:28:22.613803",
     "exception": false,
     "start_time": "2022-04-01T22:28:22.439930",
     "status": "completed"
    },
    "tags": []
   },
   "outputs": [
    {
     "data": {
      "image/png": "[encoded data removed]",
      "text/plain": [
       "<Figure size 1080x504 with 1 Axes>"
      ]
     },
     "metadata": {
      "needs_background": "light"
     },
     "output_type": "display_data"
    }
   ],
   "source": [
    "ax = get_loss_curve(experiment)\n",
    "plt.show()"
   ]
  },
  {
   "cell_type": "code",
   "execution_count": 17,
   "id": "fd8a0f60",
   "metadata": {
    "execution": {
     "iopub.execute_input": "2022-04-01T22:28:22.696190Z",
     "iopub.status.busy": "2022-04-01T22:28:22.695940Z",
     "iopub.status.idle": "2022-04-01T22:28:22.834988Z",
     "shell.execute_reply": "2022-04-01T22:28:22.835204Z"
    },
    "papermill": {
     "duration": 0.178965,
     "end_time": "2022-04-01T22:28:22.835266",
     "exception": false,
     "start_time": "2022-04-01T22:28:22.656301",
     "status": "completed"
    },
    "tags": []
   },
   "outputs": [
    {
     "data": {
      "text/plain": [
       "<AxesSubplot:title={'center':'Results'}>"
      ]
     },
     "execution_count": 17,
     "metadata": {},
     "output_type": "execute_result"
    },
    {
     "data": {
      "image/png": "[encoded data removed]",
      "text/plain": [
       "<Figure size 1080x504 with 1 Axes>"
      ]
     },
     "metadata": {
      "needs_background": "light"
     },
     "output_type": "display_data"
    }
   ],
   "source": [
    "get_results_table(experiment)"
   ]
  },
  {
   "cell_type": "code",
   "execution_count": 18,
   "id": "cf8dc689",
   "metadata": {
    "execution": {
     "iopub.execute_input": "2022-04-01T22:28:22.916138Z",
     "iopub.status.busy": "2022-04-01T22:28:22.915882Z",
     "iopub.status.idle": "2022-04-01T22:28:23.034988Z",
     "shell.execute_reply": "2022-04-01T22:28:23.035397Z"
    },
    "papermill": {
     "duration": 0.160451,
     "end_time": "2022-04-01T22:28:23.035508",
     "exception": false,
     "start_time": "2022-04-01T22:28:22.875057",
     "status": "completed"
    },
    "tags": []
   },
   "outputs": [
    {
     "data": {
      "text/plain": [
       "<AxesSubplot:title={'center':'Per Domain Validation Accuracy'}, xlabel='domain'>"
      ]
     },
     "execution_count": 18,
     "metadata": {},
     "output_type": "execute_result"
    },
    {
     "data": {
      "image/png": "[encoded data removed]",
      "text/plain": [
       "<Figure size 1080x504 with 1 Axes>"
      ]
     },
     "metadata": {
      "needs_background": "light"
     },
     "output_type": "display_data"
    }
   ],
   "source": [
    "get_domain_accuracies(experiment)"
   ]
  },
  {
   "cell_type": "code",
   "execution_count": 19,
   "id": "a74ae082",
   "metadata": {
    "execution": {
     "iopub.execute_input": "2022-04-01T22:28:23.121370Z",
     "iopub.status.busy": "2022-04-01T22:28:23.121122Z",
     "iopub.status.idle": "2022-04-01T22:28:23.138667Z",
     "shell.execute_reply": "2022-04-01T22:28:23.138205Z"
    },
    "papermill": {
     "duration": 0.059843,
     "end_time": "2022-04-01T22:28:23.138759",
     "exception": false,
     "start_time": "2022-04-01T22:28:23.078916",
     "status": "completed"
    },
    "tags": []
   },
   "outputs": [
    {
     "name": "stdout",
     "output_type": "stream",
     "text": [
      "Source Test Label Accuracy: 0.5836805555555555 Target Test Label Accuracy: 0.48854166666666665\n",
      "Source Val Label Accuracy: 0.5885416666666666 Target Val Label Accuracy: 0.49276041666666665\n"
     ]
    }
   ],
   "source": [
    "print(\"Source Test Label Accuracy:\", experiment[\"results\"][\"source_test_label_accuracy\"], \"Target Test Label Accuracy:\", experiment[\"results\"][\"target_test_label_accuracy\"])\n",
    "print(\"Source Val Label Accuracy:\", experiment[\"results\"][\"source_val_label_accuracy\"], \"Target Val Label Accuracy:\", experiment[\"results\"][\"target_val_label_accuracy\"])"
   ]
  },
  {
   "cell_type": "code",
   "execution_count": 20,
   "id": "dacca602",
   "metadata": {
    "execution": {
     "iopub.execute_input": "2022-04-01T22:28:23.225121Z",
     "iopub.status.busy": "2022-04-01T22:28:23.224876Z",
     "iopub.status.idle": "2022-04-01T22:28:23.241383Z",
     "shell.execute_reply": "2022-04-01T22:28:23.240918Z"
    },
    "papermill": {
     "duration": 0.058521,
     "end_time": "2022-04-01T22:28:23.241475",
     "exception": false,
     "start_time": "2022-04-01T22:28:23.182954",
     "status": "completed"
    },
    "tags": [
     "experiment_json"
    ]
   },
   "outputs": [
    {
     "data": {
      "text/plain": [
       "'{\"experiment_name\": \"tuned_1v2:oracle.run1_limited\", \"parameters\": {\"experiment_name\": \"tuned_1v2:oracle.run1_limited\", \"device\": \"cuda\", \"lr\": 0.0001, \"labels_source\": [\"3123D52\", \"3123D65\", \"3123D79\", \"3123D80\", \"3123D54\", \"3123D70\", \"3123D7B\", \"3123D89\", \"3123D58\", \"3123D76\", \"3123D7D\", \"3123EFE\", \"3123D64\", \"3123D78\", \"3123D7E\", \"3124E4A\"], \"labels_target\": [\"3123D52\", \"3123D65\", \"3123D79\", \"3123D80\", \"3123D54\", \"3123D70\", \"3123D7B\", \"3123D89\", \"3123D58\", \"3123D76\", \"3123D7D\", \"3123EFE\", \"3123D64\", \"3123D78\", \"3123D7E\", \"3124E4A\"], \"episode_transforms_source\": [], \"episode_transforms_target\": [], \"domains_source\": [8, 32, 50], \"domains_target\": [14, 20, 26, 38, 44], \"num_examples_per_domain_per_label_source\": 2000, \"num_examples_per_domain_per_label_target\": 2000, \"n_shot\": 3, \"n_way\": 16, \"n_query\": 2, \"train_k_factor\": 3, \"val_k_factor\": 2, \"test_k_factor\": 2, \"torch_default_dtype\": \"torch.float32\", \"n_epoch\": 50, \"patience\": 3, \"criteria_for_best\": \"target_accuracy\", \"x_net\": [{\"class\": \"nnReshape\", \"kargs\": {\"shape\": [-1, 1, 2, 256]}}, {\"class\": \"Conv2d\", \"kargs\": {\"in_channels\": 1, \"out_channels\": 256, \"kernel_size\": [1, 7], \"bias\": false, \"padding\": [0, 3]}}, {\"class\": \"ReLU\", \"kargs\": {\"inplace\": true}}, {\"class\": \"BatchNorm2d\", \"kargs\": {\"num_features\": 256}}, {\"class\": \"Conv2d\", \"kargs\": {\"in_channels\": 256, \"out_channels\": 80, \"kernel_size\": [2, 7], \"bias\": true, \"padding\": [0, 3]}}, {\"class\": \"ReLU\", \"kargs\": {\"inplace\": true}}, {\"class\": \"BatchNorm2d\", \"kargs\": {\"num_features\": 80}}, {\"class\": \"Flatten\", \"kargs\": {}}, {\"class\": \"Linear\", \"kargs\": {\"in_features\": 20480, \"out_features\": 256}}, {\"class\": \"ReLU\", \"kargs\": {\"inplace\": true}}, {\"class\": \"BatchNorm1d\", \"kargs\": {\"num_features\": 256}}, {\"class\": \"Linear\", \"kargs\": {\"in_features\": 256, \"out_features\": 256}}], \"NUM_LOGS_PER_EPOCH\": 10, \"BEST_MODEL_PATH\": \"./best_model.pth\", \"pickle_name\": \"oracle.Run1_10kExamples_stratified_ds.2022A.pkl\", \"x_transforms_source\": [\"unit_mag\"], \"x_transforms_target\": [\"unit_mag\"], \"dataset_seed\": 7, \"seed\": 7}, \"results\": {\"source_test_label_accuracy\": 0.5836805555555555, \"source_test_label_loss\": 1.5354448556900024, \"target_test_label_accuracy\": 0.48854166666666665, \"target_test_label_loss\": 1.7937898635864258, \"source_val_label_accuracy\": 0.5885416666666666, \"source_val_label_loss\": 1.5259956121444702, \"target_val_label_accuracy\": 0.49276041666666665, \"target_val_label_loss\": 1.802635908126831, \"total_epochs_trained\": 13, \"total_experiment_time_secs\": 944.751266002655, \"confusion\": {\"50\": {\"0\": {\"0\": 156, \"2\": 52, \"10\": 25, \"13\": 4, \"5\": 1, \"6\": 1, \"7\": 1}, \"4\": {\"5\": 22, \"6\": 46, \"15\": 30, \"4\": 74, \"13\": 9, \"1\": 57, \"11\": 1, \"2\": 1}, \"14\": {\"14\": 229, \"12\": 2, \"11\": 7, \"15\": 1, \"1\": 1}, \"12\": {\"9\": 36, \"12\": 177, \"11\": 8, \"14\": 19}, \"8\": {\"8\": 225, \"10\": 6, \"3\": 9}, \"7\": {\"7\": 123, \"13\": 56, \"5\": 27, \"10\": 29, \"0\": 3, \"6\": 2}, \"13\": {\"13\": 94, \"10\": 7, \"5\": 59, \"7\": 42, \"6\": 20, \"4\": 5, \"0\": 9, \"2\": 4}, \"5\": {\"13\": 57, \"5\": 60, \"6\": 42, \"7\": 45, \"4\": 19, \"0\": 4, \"8\": 1, \"10\": 4, \"1\": 8}, \"15\": {\"1\": 51, \"11\": 14, \"15\": 144, \"4\": 27, \"6\": 1, \"14\": 1, \"5\": 2}, \"10\": {\"10\": 188, \"0\": 20, \"5\": 1, \"13\": 6, \"7\": 18, \"8\": 7}, \"3\": {\"3\": 227, \"8\": 13}, \"9\": {\"12\": 67, \"11\": 36, \"9\": 134, \"14\": 3}, \"6\": {\"13\": 17, \"5\": 26, \"6\": 106, \"1\": 30, \"4\": 45, \"15\": 6, \"2\": 8, \"0\": 2}, \"1\": {\"4\": 48, \"6\": 40, \"1\": 93, \"15\": 51, \"2\": 3, \"5\": 2, \"11\": 2, \"14\": 1}, \"11\": {\"12\": 8, \"9\": 44, \"11\": 153, \"15\": 21, \"14\": 13, \"1\": 1}, \"2\": {\"2\": 214, \"0\": 21, \"6\": 2, \"1\": 1, \"5\": 1, \"13\": 1}}, \"8\": {\"1\": {\"5\": 11, \"1\": 106, \"11\": 66, \"4\": 6, \"14\": 26, \"10\": 20, \"13\": 5}, \"11\": {\"11\": 103, \"6\": 6, \"1\": 57, \"5\": 25, \"10\": 14, \"4\": 8, \"14\": 21, \"0\": 2, \"13\": 3, \"8\": 1}, \"3\": {\"3\": 140, \"12\": 37, \"2\": 55, \"15\": 8}, \"6\": {\"0\": 44, \"6\": 89, \"13\": 10, \"7\": 49, \"14\": 4, \"8\": 17, \"4\": 26, \"1\": 1}, \"7\": {\"7\": 140, \"15\": 7, \"0\": 20, \"6\": 47, \"8\": 14, \"2\": 7, \"12\": 1, \"13\": 1, \"4\": 3}, \"5\": {\"5\": 182, \"11\": 17, \"10\": 22, \"14\": 3, \"1\": 13, \"13\": 2, \"4\": 1}, \"2\": {\"2\": 150, \"3\": 43, \"15\": 20, \"7\": 6, \"12\": 18, \"8\": 3}, \"15\": {\"15\": 119, \"3\": 6, \"7\": 10, \"12\": 62, \"2\": 19, \"8\": 24}, \"10\": {\"4\": 13, \"1\": 29, \"10\": 96, \"14\": 49, \"13\": 25, \"5\": 16, \"11\": 7, \"6\": 1, \"0\": 4}, \"13\": {\"4\": 43, \"6\": 26, \"10\": 29, \"1\": 4, \"13\": 51, \"14\": 25, \"0\": 49, \"7\": 9, \"11\": 3, \"8\": 1}, \"8\": {\"15\": 17, \"8\": 168, \"7\": 24, \"6\": 25, \"11\": 1, \"12\": 3, \"0\": 1, \"2\": 1}, \"4\": {\"14\": 37, \"13\": 41, \"4\": 68, \"10\": 10, \"6\": 22, \"0\": 39, \"1\": 6, \"11\": 6, \"7\": 6, \"8\": 5}, \"9\": {\"9\": 240}, \"14\": {\"10\": 46, \"1\": 20, \"11\": 15, \"13\": 31, \"14\": 74, \"4\": 41, \"6\": 6, \"0\": 6, \"5\": 1}, \"0\": {\"0\": 76, \"4\": 31, \"6\": 48, \"13\": 40, \"7\": 28, \"14\": 9, \"10\": 7, \"8\": 1}, \"12\": {\"3\": 51, \"2\": 16, \"15\": 76, \"12\": 91, \"8\": 3, \"7\": 3}}, \"32\": {\"15\": {\"15\": 233, \"8\": 2, \"3\": 4, \"13\": 1}, \"11\": {\"11\": 141, \"14\": 65, \"13\": 10, \"7\": 9, \"3\": 5, \"8\": 2, \"5\": 7, \"4\": 1}, \"10\": {\"1\": 3, \"10\": 233, \"6\": 4}, \"14\": {\"11\": 71, \"3\": 10, \"7\": 52, \"14\": 56, \"4\": 6, \"13\": 20, \"8\": 8, \"5\": 15, \"2\": 2}, \"6\": {\"6\": 240}, \"4\": {\"4\": 77, \"7\": 35, \"0\": 41, \"2\": 47, \"5\": 23, \"14\": 6, \"13\": 6, \"8\": 5}, \"13\": {\"8\": 32, \"3\": 24, \"13\": 59, \"0\": 10, \"5\": 40, \"7\": 26, \"4\": 16, \"14\": 18, \"11\": 14, \"2\": 1}, \"3\": {\"3\": 197, \"14\": 8, \"8\": 5, \"11\": 15, \"13\": 11, \"7\": 1, \"5\": 3}, \"7\": {\"8\": 4, \"7\": 82, \"0\": 25, \"4\": 36, \"5\": 31, \"13\": 15, \"14\": 29, \"11\": 13, \"3\": 1, \"2\": 4}, \"8\": {\"8\": 148, \"13\": 28, \"5\": 23, \"4\": 7, \"14\": 5, \"0\": 17, \"3\": 7, \"7\": 4, \"11\": 1}, \"1\": {\"1\": 236, \"10\": 4}, \"5\": {\"7\": 31, \"4\": 17, \"13\": 40, \"0\": 34, \"5\": 44, \"3\": 7, \"14\": 26, \"11\": 10, \"8\": 27, \"2\": 4}, \"0\": {\"5\": 20, \"7\": 15, \"13\": 17, \"0\": 89, \"4\": 50, \"8\": 21, \"2\": 26, \"14\": 2}, \"2\": {\"4\": 46, \"0\": 10, \"2\": 179, \"7\": 4, \"5\": 1}, \"12\": {\"12\": 240}, \"9\": {\"9\": 236, \"12\": 4}}, \"26\": {\"0\": {\"1\": 23, \"8\": 26, \"10\": 29, \"0\": 32, \"4\": 35, \"2\": 3, \"14\": 38, \"6\": 12, \"9\": 14, \"3\": 4, \"15\": 10, \"7\": 8, \"5\": 5, \"13\": 1}, \"4\": {\"6\": 3, \"4\": 38, \"1\": 38, \"0\": 25, \"15\": 4, \"14\": 38, \"7\": 34, \"3\": 8, \"8\": 27, \"9\": 4, \"5\": 8, \"2\": 5, \"10\": 8}, \"14\": {\"14\": 53, \"10\": 27, \"8\": 18, \"0\": 30, \"1\": 47, \"2\": 4, \"4\": 33, \"7\": 16, \"6\": 3, \"15\": 3, \"3\": 4, \"9\": 1, \"5\": 1}, \"12\": {\"12\": 216, \"11\": 23, \"6\": 1}, \"8\": {\"0\": 20, \"10\": 35, \"2\": 12, \"4\": 21, \"9\": 20, \"3\": 9, \"5\": 19, \"6\": 13, \"7\": 14, \"14\": 10, \"15\": 27, \"8\": 30, \"13\": 7, \"1\": 3}, \"7\": {\"2\": 37, \"7\": 76, \"15\": 8, \"4\": 21, \"14\": 12, \"1\": 12, \"5\": 8, \"3\": 45, \"8\": 14, \"0\": 5, \"10\": 1, \"13\": 1}, \"13\": {\"5\": 48, \"15\": 27, \"13\": 97, \"10\": 1, \"6\": 25, \"9\": 28, \"2\": 3, \"8\": 6, \"3\": 3, \"7\": 2}, \"5\": {\"15\": 39, \"13\": 42, \"5\": 69, \"7\": 5, \"8\": 19, \"3\": 3, \"0\": 3, \"9\": 32, \"2\": 21, \"6\": 3, \"14\": 2, \"10\": 2}, \"15\": {\"5\": 46, \"15\": 44, \"10\": 12, \"8\": 23, \"13\": 37, \"2\": 14, \"9\": 30, \"0\": 5, \"6\": 12, \"7\": 8, \"4\": 5, \"14\": 3, \"3\": 1}, \"10\": {\"6\": 31, \"9\": 16, \"0\": 36, \"14\": 17, \"8\": 29, \"10\": 69, \"4\": 11, \"15\": 10, \"1\": 15, \"2\": 2, \"7\": 1, \"13\": 2, \"5\": 1}, \"3\": {\"3\": 119, \"2\": 55, \"4\": 7, \"7\": 45, \"5\": 2, \"14\": 2, \"8\": 3, \"1\": 5, \"15\": 2}, \"9\": {\"13\": 36, \"1\": 1, \"9\": 43, \"8\": 28, \"15\": 42, \"5\": 17, \"10\": 22, \"7\": 1, \"6\": 32, \"2\": 6, \"4\": 3, \"0\": 8, \"14\": 1}, \"6\": {\"8\": 10, \"6\": 131, \"10\": 28, \"9\": 28, \"15\": 6, \"13\": 22, \"5\": 3, \"1\": 2, \"0\": 7, \"14\": 2, \"4\": 1}, \"1\": {\"14\": 58, \"1\": 72, \"2\": 3, \"0\": 28, \"4\": 42, \"7\": 18, \"10\": 6, \"15\": 2, \"5\": 2, \"6\": 1, \"3\": 2, \"8\": 5, \"9\": 1}, \"11\": {\"12\": 20, \"11\": 220}, \"2\": {\"2\": 65, \"15\": 18, \"10\": 4, \"3\": 64, \"5\": 19, \"7\": 37, \"13\": 3, \"8\": 12, \"0\": 4, \"4\": 5, \"14\": 3, \"1\": 3, \"9\": 3}}, \"44\": {\"1\": {\"1\": 99, \"12\": 50, \"2\": 23, \"10\": 23, \"3\": 43, \"7\": 2}, \"11\": {\"11\": 180, \"6\": 34, \"13\": 24, \"9\": 1, \"4\": 1}, \"3\": {\"3\": 201, \"1\": 29, \"12\": 5, \"7\": 3, \"2\": 2}, \"6\": {\"6\": 121, \"9\": 32, \"7\": 15, \"13\": 37, \"11\": 32, \"2\": 3}, \"7\": {\"7\": 126, \"9\": 45, \"2\": 45, \"3\": 3, \"6\": 12, \"12\": 1, \"13\": 3, \"10\": 2, \"1\": 3}, \"5\": {\"8\": 15, \"5\": 163, \"0\": 41, \"15\": 18, \"14\": 2, \"4\": 1}, \"2\": {\"1\": 23, \"2\": 119, \"12\": 5, \"7\": 41, \"10\": 30, \"9\": 7, \"3\": 10, \"6\": 5}, \"15\": {\"15\": 176, \"14\": 30, \"5\": 7, \"4\": 10, \"0\": 14, \"8\": 3}, \"10\": {\"1\": 23, \"10\": 144, \"12\": 46, \"3\": 4, \"2\": 23}, \"13\": {\"13\": 125, \"11\": 20, \"6\": 46, \"9\": 44, \"4\": 3, \"7\": 2}, \"8\": {\"15\": 12, \"0\": 75, \"8\": 141, \"5\": 12}, \"4\": {\"4\": 152, \"14\": 80, \"15\": 7, \"5\": 1}, \"9\": {\"9\": 117, \"13\": 31, \"7\": 56, \"2\": 8, \"6\": 25, \"4\": 2, \"3\": 1}, \"14\": {\"4\": 80, \"14\": 129, \"15\": 24, \"5\": 7}, \"0\": {\"0\": 123, \"8\": 67, \"15\": 22, \"5\": 28}, \"12\": {\"12\": 129, \"2\": 5, \"1\": 56, \"10\": 44, \"3\": 5, \"7\": 1}}, \"20\": {\"15\": {\"1\": 47, \"15\": 85, \"5\": 30, \"0\": 52, \"12\": 12, \"13\": 8, \"3\": 2, \"2\": 2, \"4\": 1, \"9\": 1}, \"4\": {\"4\": 93, \"5\": 7, \"10\": 23, \"0\": 3, \"12\": 16, \"7\": 10, \"3\": 37, \"8\": 26, \"9\": 16, \"2\": 6, \"1\": 2, \"13\": 1}, \"6\": {\"6\": 137, \"14\": 49, \"7\": 15, \"10\": 17, \"8\": 5, \"2\": 1, \"11\": 14, \"4\": 2}, \"2\": {\"9\": 41, \"10\": 2, \"2\": 41, \"12\": 13, \"4\": 11, \"13\": 44, \"0\": 2, \"3\": 20, \"7\": 38, \"8\": 13, \"1\": 4, \"15\": 2, \"5\": 3, \"11\": 3, \"6\": 3}, \"5\": {\"15\": 30, \"5\": 49, \"0\": 56, \"1\": 45, \"9\": 11, \"12\": 31, \"2\": 2, \"3\": 5, \"13\": 5, \"7\": 1, \"4\": 5}, \"9\": {\"12\": 24, \"2\": 23, \"8\": 24, \"3\": 42, \"13\": 30, \"6\": 3, \"4\": 14, \"7\": 31, \"9\": 26, \"5\": 7, \"11\": 1, \"1\": 8, \"0\": 3, \"10\": 2, \"15\": 2}, \"8\": {\"10\": 35, \"2\": 13, \"4\": 34, \"9\": 21, \"3\": 15, \"7\": 38, \"8\": 61, \"1\": 1, \"6\": 10, \"14\": 9, \"12\": 2, \"13\": 1}, \"12\": {\"5\": 26, \"12\": 44, \"4\": 23, \"8\": 3, \"0\": 18, \"13\": 17, \"15\": 20, \"3\": 27, \"9\": 21, \"2\": 13, \"1\": 25, \"7\": 1, \"10\": 2}, \"10\": {\"10\": 102, \"14\": 48, \"4\": 19, \"9\": 2, \"8\": 35, \"6\": 20, \"3\": 2, \"7\": 10, \"2\": 2}, \"1\": {\"13\": 16, \"15\": 44, \"0\": 54, \"2\": 5, \"1\": 33, \"5\": 35, \"12\": 22, \"4\": 7, \"9\": 9, \"3\": 14, \"7\": 1}, \"0\": {\"15\": 59, \"1\": 36, \"13\": 8, \"5\": 48, \"0\": 53, \"9\": 3, \"12\": 15, \"3\": 10, \"4\": 4, \"2\": 3, \"7\": 1}, \"3\": {\"8\": 19, \"2\": 25, \"5\": 9, \"13\": 19, \"0\": 5, \"3\": 44, \"12\": 25, \"9\": 38, \"4\": 23, \"7\": 12, \"1\": 12, \"6\": 2, \"15\": 4, \"10\": 3}, \"13\": {\"13\": 113, \"1\": 17, \"3\": 10, \"2\": 31, \"7\": 11, \"5\": 8, \"9\": 19, \"12\": 7, \"15\": 8, \"0\": 10, \"4\": 2, \"11\": 1, \"8\": 3}, \"11\": {\"11\": 210, \"6\": 22, \"7\": 5, \"8\": 2, \"2\": 1}, \"7\": {\"11\": 8, \"12\": 6, \"8\": 31, \"13\": 9, \"9\": 20, \"2\": 35, \"7\": 76, \"6\": 14, \"3\": 9, \"14\": 8, \"10\": 9, \"4\": 13, \"15\": 2}, \"14\": {\"10\": 54, \"14\": 104, \"6\": 59, \"8\": 14, \"7\": 6, \"3\": 2, \"4\": 1}}, \"38\": {\"15\": {\"15\": 110, \"13\": 63, \"8\": 17, \"1\": 41, \"5\": 4, \"10\": 2, \"0\": 2, \"12\": 1}, \"11\": {\"14\": 84, \"2\": 11, \"12\": 8, \"11\": 135, \"10\": 2}, \"10\": {\"10\": 115, \"15\": 10, \"5\": 3, \"13\": 33, \"12\": 55, \"0\": 9, \"8\": 7, \"2\": 2, \"14\": 5, \"11\": 1}, \"14\": {\"11\": 68, \"2\": 30, \"14\": 135, \"13\": 4, \"12\": 1, \"10\": 2}, \"6\": {\"6\": 157, \"9\": 65, \"5\": 15, \"7\": 2, \"0\": 1}, \"4\": {\"4\": 218, \"12\": 21, \"0\": 1}, \"13\": {\"13\": 131, \"15\": 63, \"14\": 1, \"10\": 17, \"8\": 5, \"1\": 12, \"2\": 10, \"5\": 1}, \"3\": {\"3\": 175, \"9\": 40, \"7\": 13, \"0\": 4, \"5\": 3, \"6\": 5}, \"7\": {\"7\": 162, \"0\": 56, \"3\": 9, \"5\": 9, \"4\": 2, \"8\": 2}, \"8\": {\"8\": 116, \"5\": 47, \"15\": 12, \"7\": 10, \"0\": 37, \"1\": 5, \"10\": 7, \"6\": 2, \"13\": 3, \"12\": 1}, \"1\": {\"1\": 193, \"15\": 38, \"8\": 4, \"5\": 3, \"13\": 2}, \"5\": {\"0\": 40, \"8\": 53, \"10\": 3, \"9\": 14, \"5\": 62, \"7\": 18, \"1\": 7, \"15\": 9, \"6\": 27, \"3\": 4, \"13\": 3}, \"0\": {\"7\": 70, \"3\": 11, \"0\": 46, \"8\": 56, \"5\": 41, \"1\": 2, \"13\": 2, \"15\": 5, \"9\": 3, \"6\": 2, \"10\": 2}, \"2\": {\"2\": 200, \"14\": 29, \"13\": 9, \"15\": 1, \"11\": 1}, \"12\": {\"12\": 178, \"10\": 37, \"4\": 23, \"8\": 1, \"0\": 1}, \"9\": {\"6\": 82, \"9\": 114, \"5\": 6, \"3\": 36, \"0\": 1, \"8\": 1}}, \"14\": {\"0\": {\"10\": 65, \"8\": 16, \"0\": 141, \"11\": 11, \"14\": 1, \"3\": 6}, \"12\": {\"12\": 234, \"9\": 6}, \"1\": {\"1\": 142, \"5\": 43, \"2\": 3, \"4\": 37, \"3\": 8, \"7\": 6, \"13\": 1}, \"4\": {\"14\": 14, \"4\": 88, \"2\": 23, \"5\": 36, \"1\": 28, \"3\": 45, \"13\": 2, \"6\": 4}, \"5\": {\"4\": 34, \"5\": 86, \"2\": 24, \"1\": 70, \"7\": 9, \"3\": 9, \"14\": 2, \"6\": 4, \"13\": 2}, \"3\": {\"3\": 149, \"8\": 4, \"4\": 36, \"5\": 9, \"0\": 10, \"10\": 4, \"1\": 8, \"14\": 13, \"2\": 5, \"13\": 2}, \"7\": {\"7\": 189, \"15\": 35, \"5\": 7, \"1\": 9}, \"15\": {\"7\": 46, \"15\": 188, \"13\": 2, \"5\": 3, \"2\": 1}, \"13\": {\"6\": 65, \"2\": 31, \"14\": 44, \"5\": 8, \"13\": 71, \"4\": 6, \"3\": 7, \"15\": 3, \"10\": 3, \"1\": 1, \"7\": 1}, \"10\": {\"3\": 11, \"10\": 141, \"11\": 11, \"14\": 2, \"0\": 74, \"8\": 1}, \"14\": {\"14\": 113, \"2\": 22, \"6\": 26, \"3\": 30, \"13\": 29, \"10\": 6, \"4\": 12, \"5\": 1, \"0\": 1}, \"6\": {\"6\": 108, \"13\": 70, \"2\": 31, \"14\": 17, \"4\": 6, \"5\": 4, \"3\": 2, \"1\": 1, \"15\": 1}, \"9\": {\"9\": 213, \"11\": 21, \"12\": 6}, \"2\": {\"14\": 24, \"1\": 4, \"2\": 60, \"3\": 18, \"4\": 33, \"13\": 31, \"5\": 41, \"6\": 22, \"15\": 5, \"7\": 2}, \"8\": {\"8\": 233, \"3\": 1, \"0\": 3, \"4\": 2, \"1\": 1}, \"11\": {\"11\": 168, \"9\": 35, \"0\": 19, \"10\": 18}}}, \"per_domain_accuracy\": {\"50\": {\"accuracy\": 0.62421875, \"source?\": true}, \"8\": {\"accuracy\": 0.49296875, \"source?\": true}, \"32\": {\"accuracy\": 0.6484375, \"source?\": true}, \"26\": {\"accuracy\": 0.3578125, \"source?\": false}, \"44\": {\"accuracy\": 0.5846354166666666, \"source?\": false}, \"20\": {\"accuracy\": 0.33098958333333334, \"source?\": false}, \"38\": {\"accuracy\": 0.58515625, \"source?\": false}, \"14\": {\"accuracy\": 0.6052083333333333, \"source?\": false}}}, \"history\": {\"epoch_indices\": [1, 2, 3, 4, 5, 6, 7, 8, 9, 10, 11, 12, 13], \"train_label_loss\": [1.8333654474644434, 1.3913173465501694, 1.2462948990956186, 0.9475604059440749, 0.7495476850618918, 0.5973306069948844, 0.4785799956289194, 0.3895833631426776, 0.3189148264918624, 0.26764905511434856, 0.23164745416466354, 0.20837736236206847, 0.18525964141276385], \"source_val_label_loss\": [1.5575894117355347, 1.447444200515747, 1.3027347326278687, 1.2082610130310059, 1.2344980239868164, 1.2627352476119995, 1.343801736831665, 1.4785858392715454, 1.5259956121444702, 1.704140305519104, 1.767447829246521, 1.7990251779556274, 1.8255512714385986], \"target_val_label_loss\": [1.893951654434204, 1.8133049011230469, 1.6091959476470947, 1.4561598300933838, 1.472832202911377, 1.5267927646636963, 1.617246150970459, 1.7398643493652344, 1.802635908126831, 1.9717590808868408, 2.0786285400390625, 2.0789287090301514, 2.139117479324341], \"source_val_acc_label\": [0.38671875, 0.4232638888888889, 0.50859375, 0.559375, 0.57109375, 0.5839409722222222, 0.5824652777777778, 0.5835069444444444, 0.5885416666666666, 0.5783854166666667, 0.5763020833333333, 0.5729166666666666, 0.5808159722222223], \"target_val_acc_label\": [0.27484375, 0.29833333333333334, 0.40177083333333335, 0.46348958333333334, 0.4790625, 0.4891666666666667, 0.48744791666666665, 0.48890625, 0.49276041666666665, 0.4909375, 0.48994791666666665, 0.4880729166666667, 0.49270833333333336]}, \"dataset_metrics\": {\"source\": {\"train\": {\"n_unique_x\": 67200, \"n_unique_y\": 16, \"n_batch/episode\": 2520}, \"val\": {\"n_unique_x\": 14400, \"n_unique_y\": 16, \"n_batch/episode\": 360}, \"test\": {\"n_unique_x\": 14400, \"n_unique_y\": 16, \"n_batch/episode\": 360}}, \"target\": {\"train\": {\"n_unique_x\": 112000, \"n_unique_y\": 16, \"n_batch/episode\": 4200}, \"val\": {\"n_unique_x\": 24000, \"n_unique_y\": 16, \"n_batch/episode\": 600}, \"test\": {\"n_unique_x\": 24000, \"n_unique_y\": 16, \"n_batch/episode\": 600}}}}'"
      ]
     },
     "execution_count": 20,
     "metadata": {},
     "output_type": "execute_result"
    }
   ],
   "source": [
    "json.dumps(experiment)"
   ]
  }
 ],
 "metadata": {
  "celltoolbar": "Tags",
  "kernelspec": {
   "display_name": "Python 3 (ipykernel)",
   "language": "python",
   "name": "python3"
  },
  "language_info": {
   "codemirror_mode": {
    "name": "ipython",
    "version": 3
   },
   "file_extension": ".py",
   "mimetype": "text/x-python",
   "name": "python",
   "nbconvert_exporter": "python",
   "pygments_lexer": "ipython3",
   "version": "3.8.10"
  },
  "papermill": {
   "default_parameters": {},
   "duration": 997.186889,
   "end_time": "2022-04-01T22:28:24.193627",
   "environment_variables": {},
   "exception": null,
   "input_path": "/mnt/wd500GB/CSC500/csc500-main/csc500-notebooks/templates/ptn_template.ipynb",
   "output_path": "trial.ipynb",
   "parameters": {
    "parameters": {
     "BEST_MODEL_PATH": "./best_model.pth",
     "NUM_LOGS_PER_EPOCH": 10,
     "criteria_for_best": "target_accuracy",
     "dataset_seed": 7,
     "device": "cuda",
     "domains_source": [
      8,
      32,
      50
     ],
     "domains_target": [
      14,
      20,
      26,
      38,
      44
     ],
     "episode_transforms_source": [],
     "episode_transforms_target": [],
     "experiment_name": "tuned_1v2:oracle.run1_limited",
     "labels_source": [
      "3123D52",
      "3123D65",
      "3123D79",
      "3123D80",
      "3123D54",
      "3123D70",
      "3123D7B",
      "3123D89",
      "3123D58",
      "3123D76",
      "3123D7D",
      "3123EFE",
      "3123D64",
      "3123D78",
      "3123D7E",
      "3124E4A"
     ],
     "labels_target": [
      "3123D52",
      "3123D65",
      "3123D79",
      "3123D80",
      "3123D54",
      "3123D70",
      "3123D7B",
      "3123D89",
      "3123D58",
      "3123D76",
      "3123D7D",
      "3123EFE",
      "3123D64",
      "3123D78",
      "3123D7E",
      "3124E4A"
     ],
     "lr": 0.0001,
     "n_epoch": 50,
     "n_query": 2,
     "n_shot": 3,
     "n_way": 16,
     "num_examples_per_domain_per_label_source": 2000,
     "num_examples_per_domain_per_label_target": 2000,
     "patience": 3,
     "pickle_name": "oracle.Run1_10kExamples_stratified_ds.2022A.pkl",
     "seed": 7,
     "test_k_factor": 2,
     "torch_default_dtype": "torch.float32",
     "train_k_factor": 3,
     "val_k_factor": 2,
     "x_net": [
      {
       "class": "nnReshape",
       "kargs": {
        "shape": [
         -1,
         1,
         2,
         256
        ]
       }
      },
      {
       "class": "Conv2d",
       "kargs": {
        "bias": false,
        "in_channels": 1,
        "kernel_size": [
         1,
         7
        ],
        "out_channels": 256,
        "padding": [
         0,
         3
        ]
       }
      },
      {
       "class": "ReLU",
       "kargs": {
        "inplace": true
       }
      },
      {
       "class": "BatchNorm2d",
       "kargs": {
        "num_features": 256
       }
      },
      {
       "class": "Conv2d",
       "kargs": {
        "bias": true,
        "in_channels": 256,
        "kernel_size": [
         2,
         7
        ],
        "out_channels": 80,
        "padding": [
         0,
         3
        ]
       }
      },
      {
       "class": "ReLU",
       "kargs": {
        "inplace": true
       }
      },
      {
       "class": "BatchNorm2d",
       "kargs": {
        "num_features": 80
       }
      },
      {
       "class": "Flatten",
       "kargs": {}
      },
      {
       "class": "Linear",
       "kargs": {
        "in_features": 20480,
        "out_features": 256
       }
      },
      {
       "class": "ReLU",
       "kargs": {
        "inplace": true
       }
      },
      {
       "class": "BatchNorm1d",
       "kargs": {
        "num_features": 256
       }
      },
      {
       "class": "Linear",
       "kargs": {
        "in_features": 256,
        "out_features": 256
       }
      }
     ],
     "x_transforms_source": [
      "unit_mag"
     ],
     "x_transforms_target": [
      "unit_mag"
     ]
    }
   },
   "start_time": "2022-04-01T22:11:47.006738",
   "version": "2.3.4"
  }
 },
 "nbformat": 4,
 "nbformat_minor": 5
}