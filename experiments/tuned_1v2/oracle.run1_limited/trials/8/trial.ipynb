{
 "cells": [
  {
   "cell_type": "markdown",
   "id": "9fea5f46",
   "metadata": {
    "papermill": {
     "duration": 0.023532,
     "end_time": "2022-03-26T06:10:19.785330",
     "exception": false,
     "start_time": "2022-03-26T06:10:19.761798",
     "status": "completed"
    },
    "tags": []
   },
   "source": [
    "# PTN Template\n",
    "This notebook serves as a template for single dataset PTN experiments  \n",
    "It can be run on its own by setting STANDALONE to True (do a find for \"STANDALONE\" to see where)  \n",
    "But it is intended to be executed as part of a *papermill.py script. See any of the   \n",
    "experimentes with a papermill script to get started with that workflow.  "
   ]
  },
  {
   "cell_type": "code",
   "execution_count": 1,
   "id": "0902182a",
   "metadata": {
    "execution": {
     "iopub.execute_input": "2022-03-26T06:10:19.838346Z",
     "iopub.status.busy": "2022-03-26T06:10:19.829017Z",
     "iopub.status.idle": "2022-03-26T06:10:21.719719Z",
     "shell.execute_reply": "2022-03-26T06:10:21.720411Z"
    },
    "papermill": {
     "duration": 1.918537,
     "end_time": "2022-03-26T06:10:21.720762",
     "exception": false,
     "start_time": "2022-03-26T06:10:19.802225",
     "status": "completed"
    },
    "tags": []
   },
   "outputs": [],
   "source": [
    "%load_ext autoreload\n",
    "%autoreload 2\n",
    "%matplotlib inline\n",
    "\n",
    "    \n",
    "import os, json, sys, time, random\n",
    "import numpy as np\n",
    "import torch\n",
    "from torch.optim import Adam\n",
    "from  easydict import EasyDict\n",
    "import matplotlib.pyplot as plt\n",
    "\n",
    "from steves_models.steves_ptn import Steves_Prototypical_Network\n",
    "\n",
    "from steves_utils.lazy_iterable_wrapper import Lazy_Iterable_Wrapper\n",
    "from steves_utils.iterable_aggregator import Iterable_Aggregator\n",
    "from steves_utils.ptn_train_eval_test_jig import  PTN_Train_Eval_Test_Jig\n",
    "from steves_utils.torch_sequential_builder import build_sequential\n",
    "from steves_utils.torch_utils import get_dataset_metrics, ptn_confusion_by_domain_over_dataloader\n",
    "from steves_utils.utils_v2 import (per_domain_accuracy_from_confusion, get_datasets_base_path)\n",
    "from steves_utils.PTN.utils import independent_accuracy_assesment\n",
    "\n",
    "from steves_utils.stratified_dataset.episodic_accessor import Episodic_Accessor_Factory\n",
    "\n",
    "from steves_utils.ptn_do_report import (\n",
    "    get_loss_curve,\n",
    "    get_results_table,\n",
    "    get_parameters_table,\n",
    "    get_domain_accuracies,\n",
    ")\n",
    "\n",
    "from steves_utils.transforms import get_chained_transform"
   ]
  },
  {
   "cell_type": "markdown",
   "id": "41c840b4",
   "metadata": {
    "papermill": {
     "duration": 0.014062,
     "end_time": "2022-03-26T06:10:21.755559",
     "exception": false,
     "start_time": "2022-03-26T06:10:21.741497",
     "status": "completed"
    },
    "tags": []
   },
   "source": [
    "# Required Parameters\n",
    "These are allowed parameters, not defaults\n",
    "Each of these values need to be present in the injected parameters (the notebook will raise an exception if they are not present)\n",
    "\n",
    "Papermill uses the cell tag \"parameters\" to inject the real parameters below this cell.\n",
    "Enable tags to see what I mean"
   ]
  },
  {
   "cell_type": "code",
   "execution_count": 2,
   "id": "fd44eb83",
   "metadata": {
    "execution": {
     "iopub.execute_input": "2022-03-26T06:10:21.789711Z",
     "iopub.status.busy": "2022-03-26T06:10:21.789057Z",
     "iopub.status.idle": "2022-03-26T06:10:21.810685Z",
     "shell.execute_reply": "2022-03-26T06:10:21.811358Z"
    },
    "papermill": {
     "duration": 0.042001,
     "end_time": "2022-03-26T06:10:21.811550",
     "exception": false,
     "start_time": "2022-03-26T06:10:21.769549",
     "status": "completed"
    },
    "tags": []
   },
   "outputs": [],
   "source": [
    "required_parameters = {\n",
    "    \"experiment_name\",\n",
    "    \"lr\",\n",
    "    \"device\",\n",
    "    \"seed\",\n",
    "    \"dataset_seed\",\n",
    "    \"labels_source\",\n",
    "    \"labels_target\",\n",
    "    \"domains_source\",\n",
    "    \"domains_target\",\n",
    "    \"num_examples_per_domain_per_label_source\",\n",
    "    \"num_examples_per_domain_per_label_target\",\n",
    "    \"n_shot\",\n",
    "    \"n_way\",\n",
    "    \"n_query\",\n",
    "    \"train_k_factor\",\n",
    "    \"val_k_factor\",\n",
    "    \"test_k_factor\",\n",
    "    \"n_epoch\",\n",
    "    \"patience\",\n",
    "    \"criteria_for_best\",\n",
    "    \"x_transforms_source\",\n",
    "    \"x_transforms_target\",\n",
    "    \"episode_transforms_source\",\n",
    "    \"episode_transforms_target\",\n",
    "    \"pickle_name\",\n",
    "    \"x_net\",\n",
    "    \"NUM_LOGS_PER_EPOCH\",\n",
    "    \"BEST_MODEL_PATH\",\n",
    "    \"torch_default_dtype\"\n",
    "}"
   ]
  },
  {
   "cell_type": "code",
   "execution_count": 3,
   "id": "fa3f0049",
   "metadata": {
    "execution": {
     "iopub.execute_input": "2022-03-26T06:10:21.863854Z",
     "iopub.status.busy": "2022-03-26T06:10:21.863098Z",
     "iopub.status.idle": "2022-03-26T06:10:21.881878Z",
     "shell.execute_reply": "2022-03-26T06:10:21.882541Z"
    },
    "papermill": {
     "duration": 0.048247,
     "end_time": "2022-03-26T06:10:21.882717",
     "exception": false,
     "start_time": "2022-03-26T06:10:21.834470",
     "status": "completed"
    },
    "tags": [
     "parameters"
    ]
   },
   "outputs": [],
   "source": [
    "\n",
    "\n",
    "standalone_parameters = {}\n",
    "standalone_parameters[\"experiment_name\"] = \"STANDALONE PTN\"\n",
    "standalone_parameters[\"lr\"] = 0.0001\n",
    "standalone_parameters[\"device\"] = \"cuda\"\n",
    "\n",
    "standalone_parameters[\"seed\"] = 1337\n",
    "standalone_parameters[\"dataset_seed\"] = 1337\n",
    "\n",
    "\n",
    "standalone_parameters[\"num_examples_per_domain_per_label_source\"]=100\n",
    "standalone_parameters[\"num_examples_per_domain_per_label_target\"]=100\n",
    "\n",
    "standalone_parameters[\"n_shot\"] = 3\n",
    "standalone_parameters[\"n_query\"]  = 2\n",
    "standalone_parameters[\"train_k_factor\"] = 1\n",
    "standalone_parameters[\"val_k_factor\"] = 2\n",
    "standalone_parameters[\"test_k_factor\"] = 2\n",
    "\n",
    "\n",
    "standalone_parameters[\"n_epoch\"] = 100\n",
    "\n",
    "standalone_parameters[\"patience\"] = 10\n",
    "standalone_parameters[\"criteria_for_best\"] = \"target_accuracy\"\n",
    "\n",
    "standalone_parameters[\"x_transforms_source\"] = [\"unit_power\"]\n",
    "standalone_parameters[\"x_transforms_target\"] = [\"unit_power\"]\n",
    "standalone_parameters[\"episode_transforms_source\"] = []\n",
    "standalone_parameters[\"episode_transforms_target\"] = []\n",
    "\n",
    "standalone_parameters[\"torch_default_dtype\"] = \"torch.float32\" \n",
    "\n",
    "\n",
    "\n",
    "standalone_parameters[\"x_net\"] =     [\n",
    "    {\"class\": \"nnReshape\", \"kargs\": {\"shape\":[-1, 1, 2, 256]}},\n",
    "    {\"class\": \"Conv2d\", \"kargs\": { \"in_channels\":1, \"out_channels\":256, \"kernel_size\":(1,7), \"bias\":False, \"padding\":(0,3), },},\n",
    "    {\"class\": \"ReLU\", \"kargs\": {\"inplace\": True}},\n",
    "    {\"class\": \"BatchNorm2d\", \"kargs\": {\"num_features\":256}},\n",
    "\n",
    "    {\"class\": \"Conv2d\", \"kargs\": { \"in_channels\":256, \"out_channels\":80, \"kernel_size\":(2,7), \"bias\":True, \"padding\":(0,3), },},\n",
    "    {\"class\": \"ReLU\", \"kargs\": {\"inplace\": True}},\n",
    "    {\"class\": \"BatchNorm2d\", \"kargs\": {\"num_features\":80}},\n",
    "    {\"class\": \"Flatten\", \"kargs\": {}},\n",
    "\n",
    "    {\"class\": \"Linear\", \"kargs\": {\"in_features\": 80*256, \"out_features\": 256}}, # 80 units per IQ pair\n",
    "    {\"class\": \"ReLU\", \"kargs\": {\"inplace\": True}},\n",
    "    {\"class\": \"BatchNorm1d\", \"kargs\": {\"num_features\":256}},\n",
    "\n",
    "    {\"class\": \"Linear\", \"kargs\": {\"in_features\": 256, \"out_features\": 256}},\n",
    "]\n",
    "\n",
    "# Parameters relevant to results\n",
    "# These parameters will basically never need to change\n",
    "standalone_parameters[\"NUM_LOGS_PER_EPOCH\"] = 10\n",
    "standalone_parameters[\"BEST_MODEL_PATH\"] = \"./best_model.pth\"\n",
    "\n",
    "# uncomment for CORES dataset\n",
    "from steves_utils.CORES.utils import (\n",
    "    ALL_NODES,\n",
    "    ALL_NODES_MINIMUM_1000_EXAMPLES,\n",
    "    ALL_DAYS\n",
    ")\n",
    "\n",
    "\n",
    "standalone_parameters[\"labels_source\"] = ALL_NODES\n",
    "standalone_parameters[\"labels_target\"] = ALL_NODES\n",
    "\n",
    "standalone_parameters[\"domains_source\"] = [1]\n",
    "standalone_parameters[\"domains_target\"] = [2,3,4,5]\n",
    "\n",
    "standalone_parameters[\"pickle_name\"] = \"cores.stratified_ds.2022A.pkl\"\n",
    "\n",
    "\n",
    "# Uncomment these for ORACLE dataset\n",
    "# from steves_utils.ORACLE.utils_v2 import (\n",
    "#     ALL_DISTANCES_FEET,\n",
    "#     ALL_RUNS,\n",
    "#     ALL_SERIAL_NUMBERS,\n",
    "# )\n",
    "# standalone_parameters[\"labels_source\"] = ALL_SERIAL_NUMBERS\n",
    "# standalone_parameters[\"labels_target\"] = ALL_SERIAL_NUMBERS\n",
    "# standalone_parameters[\"domains_source\"] = [8,20, 38,50]\n",
    "# standalone_parameters[\"domains_target\"] = [14, 26, 32, 44, 56]\n",
    "# standalone_parameters[\"pickle_name\"] = \"oracle.frame_indexed.stratified_ds.2022A.pkl\"\n",
    "# standalone_parameters[\"num_examples_per_domain_per_label_source\"]=1000\n",
    "# standalone_parameters[\"num_examples_per_domain_per_label_target\"]=1000\n",
    "\n",
    "# Uncomment these for Metahan dataset\n",
    "# standalone_parameters[\"labels_source\"] = list(range(19))\n",
    "# standalone_parameters[\"labels_target\"] = list(range(19))\n",
    "# standalone_parameters[\"domains_source\"] = [0]\n",
    "# standalone_parameters[\"domains_target\"] = [1]\n",
    "# standalone_parameters[\"pickle_name\"] = \"metehan.stratified_ds.2022A.pkl\"\n",
    "# standalone_parameters[\"n_way\"]  = len(standalone_parameters[\"labels_source\"])\n",
    "# standalone_parameters[\"num_examples_per_domain_per_label_source\"]=200\n",
    "# standalone_parameters[\"num_examples_per_domain_per_label_target\"]=100\n",
    "\n",
    "\n",
    "standalone_parameters[\"n_way\"]  = len(standalone_parameters[\"labels_source\"])"
   ]
  },
  {
   "cell_type": "code",
   "execution_count": 4,
   "id": "70469747",
   "metadata": {
    "execution": {
     "iopub.execute_input": "2022-03-26T06:10:21.929776Z",
     "iopub.status.busy": "2022-03-26T06:10:21.918711Z",
     "iopub.status.idle": "2022-03-26T06:10:21.946404Z",
     "shell.execute_reply": "2022-03-26T06:10:21.947043Z"
    },
    "papermill": {
     "duration": 0.045093,
     "end_time": "2022-03-26T06:10:21.947223",
     "exception": false,
     "start_time": "2022-03-26T06:10:21.902130",
     "status": "completed"
    },
    "tags": [
     "injected-parameters"
    ]
   },
   "outputs": [],
   "source": [
    "# Parameters\n",
    "parameters = {\n",
    "    \"experiment_name\": \"tuned_1v2:oracle.run1_limited\",\n",
    "    \"device\": \"cuda\",\n",
    "    \"lr\": 0.0001,\n",
    "    \"labels_source\": [\n",
    "        \"3123D52\",\n",
    "        \"3123D65\",\n",
    "        \"3123D79\",\n",
    "        \"3123D80\",\n",
    "        \"3123D54\",\n",
    "        \"3123D70\",\n",
    "        \"3123D7B\",\n",
    "        \"3123D89\",\n",
    "        \"3123D58\",\n",
    "        \"3123D76\",\n",
    "        \"3123D7D\",\n",
    "        \"3123EFE\",\n",
    "        \"3123D64\",\n",
    "        \"3123D78\",\n",
    "        \"3123D7E\",\n",
    "        \"3124E4A\",\n",
    "    ],\n",
    "    \"labels_target\": [\n",
    "        \"3123D52\",\n",
    "        \"3123D65\",\n",
    "        \"3123D79\",\n",
    "        \"3123D80\",\n",
    "        \"3123D54\",\n",
    "        \"3123D70\",\n",
    "        \"3123D7B\",\n",
    "        \"3123D89\",\n",
    "        \"3123D58\",\n",
    "        \"3123D76\",\n",
    "        \"3123D7D\",\n",
    "        \"3123EFE\",\n",
    "        \"3123D64\",\n",
    "        \"3123D78\",\n",
    "        \"3123D7E\",\n",
    "        \"3124E4A\",\n",
    "    ],\n",
    "    \"episode_transforms_source\": [],\n",
    "    \"episode_transforms_target\": [],\n",
    "    \"domains_source\": [8, 32, 50],\n",
    "    \"domains_target\": [14, 20, 26, 38, 44],\n",
    "    \"num_examples_per_domain_per_label_source\": -1,\n",
    "    \"num_examples_per_domain_per_label_target\": -1,\n",
    "    \"n_shot\": 3,\n",
    "    \"n_way\": 16,\n",
    "    \"n_query\": 2,\n",
    "    \"train_k_factor\": 3,\n",
    "    \"val_k_factor\": 2,\n",
    "    \"test_k_factor\": 2,\n",
    "    \"torch_default_dtype\": \"torch.float32\",\n",
    "    \"n_epoch\": 50,\n",
    "    \"patience\": 3,\n",
    "    \"criteria_for_best\": \"target_accuracy\",\n",
    "    \"x_net\": [\n",
    "        {\"class\": \"nnReshape\", \"kargs\": {\"shape\": [-1, 1, 2, 256]}},\n",
    "        {\n",
    "            \"class\": \"Conv2d\",\n",
    "            \"kargs\": {\n",
    "                \"in_channels\": 1,\n",
    "                \"out_channels\": 256,\n",
    "                \"kernel_size\": [1, 7],\n",
    "                \"bias\": False,\n",
    "                \"padding\": [0, 3],\n",
    "            },\n",
    "        },\n",
    "        {\"class\": \"ReLU\", \"kargs\": {\"inplace\": True}},\n",
    "        {\"class\": \"BatchNorm2d\", \"kargs\": {\"num_features\": 256}},\n",
    "        {\n",
    "            \"class\": \"Conv2d\",\n",
    "            \"kargs\": {\n",
    "                \"in_channels\": 256,\n",
    "                \"out_channels\": 80,\n",
    "                \"kernel_size\": [2, 7],\n",
    "                \"bias\": True,\n",
    "                \"padding\": [0, 3],\n",
    "            },\n",
    "        },\n",
    "        {\"class\": \"ReLU\", \"kargs\": {\"inplace\": True}},\n",
    "        {\"class\": \"BatchNorm2d\", \"kargs\": {\"num_features\": 80}},\n",
    "        {\"class\": \"Flatten\", \"kargs\": {}},\n",
    "        {\"class\": \"Linear\", \"kargs\": {\"in_features\": 20480, \"out_features\": 256}},\n",
    "        {\"class\": \"ReLU\", \"kargs\": {\"inplace\": True}},\n",
    "        {\"class\": \"BatchNorm1d\", \"kargs\": {\"num_features\": 256}},\n",
    "        {\"class\": \"Linear\", \"kargs\": {\"in_features\": 256, \"out_features\": 256}},\n",
    "    ],\n",
    "    \"NUM_LOGS_PER_EPOCH\": 10,\n",
    "    \"BEST_MODEL_PATH\": \"./best_model.pth\",\n",
    "    \"pickle_name\": \"oracle.Run1_10kExamples_stratified_ds.2022A.pkl\",\n",
    "    \"x_transforms_source\": [\"unit_power\"],\n",
    "    \"x_transforms_target\": [\"unit_power\"],\n",
    "    \"dataset_seed\": 1337,\n",
    "    \"seed\": 1337,\n",
    "}\n"
   ]
  },
  {
   "cell_type": "code",
   "execution_count": 5,
   "id": "8fa1cc33",
   "metadata": {
    "execution": {
     "iopub.execute_input": "2022-03-26T06:10:21.988508Z",
     "iopub.status.busy": "2022-03-26T06:10:21.987876Z",
     "iopub.status.idle": "2022-03-26T06:10:22.003986Z",
     "shell.execute_reply": "2022-03-26T06:10:22.004647Z"
    },
    "papermill": {
     "duration": 0.034323,
     "end_time": "2022-03-26T06:10:22.004821",
     "exception": false,
     "start_time": "2022-03-26T06:10:21.970498",
     "status": "completed"
    },
    "tags": []
   },
   "outputs": [],
   "source": [
    "# Set this to True if you want to run this template directly\n",
    "STANDALONE = False\n",
    "if STANDALONE:\n",
    "    print(\"parameters not injected, running with standalone_parameters\")\n",
    "    parameters = standalone_parameters\n",
    "\n",
    "if not 'parameters' in locals() and not 'parameters' in globals():\n",
    "    raise Exception(\"Parameter injection failed\")\n",
    "\n",
    "#Use an easy dict for all the parameters\n",
    "p = EasyDict(parameters)\n",
    "\n",
    "supplied_keys = set(p.keys())\n",
    "\n",
    "if  supplied_keys != required_parameters:\n",
    "    print(\"Parameters are incorrect\")\n",
    "    if len(supplied_keys - required_parameters)>0: print(\"Shouldn't have:\", str(supplied_keys - required_parameters))\n",
    "    if len(required_parameters - supplied_keys)>0: print(\"Need to have:\", str(required_parameters - supplied_keys))\n",
    "    raise RuntimeError(\"Parameters are incorrect\")\n",
    "\n"
   ]
  },
  {
   "cell_type": "code",
   "execution_count": 6,
   "id": "3a028d58",
   "metadata": {
    "execution": {
     "iopub.execute_input": "2022-03-26T06:10:22.045463Z",
     "iopub.status.busy": "2022-03-26T06:10:22.045095Z",
     "iopub.status.idle": "2022-03-26T06:10:22.064619Z",
     "shell.execute_reply": "2022-03-26T06:10:22.063925Z"
    },
    "papermill": {
     "duration": 0.037193,
     "end_time": "2022-03-26T06:10:22.064769",
     "exception": false,
     "start_time": "2022-03-26T06:10:22.027576",
     "status": "completed"
    },
    "tags": []
   },
   "outputs": [],
   "source": [
    "###################################\n",
    "# Set the RNGs and make it all deterministic\n",
    "###################################\n",
    "np.random.seed(p.seed)\n",
    "random.seed(p.seed)\n",
    "torch.manual_seed(p.seed)\n",
    "\n",
    "torch.use_deterministic_algorithms(True) "
   ]
  },
  {
   "cell_type": "code",
   "execution_count": 7,
   "id": "b691acf6",
   "metadata": {
    "execution": {
     "iopub.execute_input": "2022-03-26T06:10:22.105915Z",
     "iopub.status.busy": "2022-03-26T06:10:22.105346Z",
     "iopub.status.idle": "2022-03-26T06:10:22.128877Z",
     "shell.execute_reply": "2022-03-26T06:10:22.129566Z"
    },
    "papermill": {
     "duration": 0.042259,
     "end_time": "2022-03-26T06:10:22.129752",
     "exception": false,
     "start_time": "2022-03-26T06:10:22.087493",
     "status": "completed"
    },
    "tags": []
   },
   "outputs": [],
   "source": [
    "###########################################\n",
    "# The stratified datasets honor this\n",
    "###########################################\n",
    "torch.set_default_dtype(eval(p.torch_default_dtype))"
   ]
  },
  {
   "cell_type": "code",
   "execution_count": 8,
   "id": "b5fba671",
   "metadata": {
    "execution": {
     "iopub.execute_input": "2022-03-26T06:10:22.168122Z",
     "iopub.status.busy": "2022-03-26T06:10:22.167753Z",
     "iopub.status.idle": "2022-03-26T06:10:22.223030Z",
     "shell.execute_reply": "2022-03-26T06:10:22.222305Z"
    },
    "papermill": {
     "duration": 0.073173,
     "end_time": "2022-03-26T06:10:22.223197",
     "exception": false,
     "start_time": "2022-03-26T06:10:22.150024",
     "status": "completed"
    },
    "tags": []
   },
   "outputs": [],
   "source": [
    "###################################\n",
    "# Build the network(s)\n",
    "# Note: It's critical to do this AFTER setting the RNG\n",
    "# (This is due to the randomized initial weights)\n",
    "###################################\n",
    "x_net = build_sequential(p.x_net)"
   ]
  },
  {
   "cell_type": "code",
   "execution_count": 9,
   "id": "5d7e61cc",
   "metadata": {
    "execution": {
     "iopub.execute_input": "2022-03-26T06:10:22.262989Z",
     "iopub.status.busy": "2022-03-26T06:10:22.262620Z",
     "iopub.status.idle": "2022-03-26T06:10:22.284475Z",
     "shell.execute_reply": "2022-03-26T06:10:22.283751Z"
    },
    "papermill": {
     "duration": 0.039393,
     "end_time": "2022-03-26T06:10:22.284638",
     "exception": false,
     "start_time": "2022-03-26T06:10:22.245245",
     "status": "completed"
    },
    "tags": []
   },
   "outputs": [],
   "source": [
    "start_time_secs = time.time()"
   ]
  },
  {
   "cell_type": "code",
   "execution_count": 10,
   "id": "fd5442bc",
   "metadata": {
    "execution": {
     "iopub.execute_input": "2022-03-26T06:10:22.335155Z",
     "iopub.status.busy": "2022-03-26T06:10:22.334274Z",
     "iopub.status.idle": "2022-03-26T06:12:12.922638Z",
     "shell.execute_reply": "2022-03-26T06:12:12.921877Z"
    },
    "papermill": {
     "duration": 110.616582,
     "end_time": "2022-03-26T06:12:12.922816",
     "exception": false,
     "start_time": "2022-03-26T06:10:22.306234",
     "status": "completed"
    },
    "tags": []
   },
   "outputs": [],
   "source": [
    "###################################\n",
    "# Build the dataset\n",
    "###################################\n",
    "\n",
    "if p.x_transforms_source == []: x_transform_source = None\n",
    "else: x_transform_source = get_chained_transform(p.x_transforms_source) \n",
    "\n",
    "if p.x_transforms_target == []: x_transform_target = None\n",
    "else: x_transform_target = get_chained_transform(p.x_transforms_target)\n",
    "\n",
    "if p.episode_transforms_source == []: episode_transform_source = None\n",
    "else: raise Exception(\"episode_transform_source not implemented\")\n",
    "\n",
    "if p.episode_transforms_target == []: episode_transform_target = None\n",
    "else: raise Exception(\"episode_transform_target not implemented\")\n",
    "\n",
    "\n",
    "eaf_source = Episodic_Accessor_Factory(\n",
    "    labels=p.labels_source,\n",
    "    domains=p.domains_source,\n",
    "    num_examples_per_domain_per_label=p.num_examples_per_domain_per_label_source,\n",
    "    iterator_seed=p.seed,\n",
    "    dataset_seed=p.dataset_seed,\n",
    "    n_shot=p.n_shot,\n",
    "    n_way=p.n_way,\n",
    "    n_query=p.n_query,\n",
    "    train_val_test_k_factors=(p.train_k_factor,p.val_k_factor,p.test_k_factor),\n",
    "    pickle_path=os.path.join(get_datasets_base_path(), p.pickle_name),\n",
    "    x_transform_func=x_transform_source,\n",
    "    example_transform_func=episode_transform_source,\n",
    "    \n",
    ")\n",
    "train_original_source, val_original_source, test_original_source = eaf_source.get_train(), eaf_source.get_val(), eaf_source.get_test()\n",
    "\n",
    "\n",
    "eaf_target = Episodic_Accessor_Factory(\n",
    "    labels=p.labels_target,\n",
    "    domains=p.domains_target,\n",
    "    num_examples_per_domain_per_label=p.num_examples_per_domain_per_label_target,\n",
    "    iterator_seed=p.seed,\n",
    "    dataset_seed=p.dataset_seed,\n",
    "    n_shot=p.n_shot,\n",
    "    n_way=p.n_way,\n",
    "    n_query=p.n_query,\n",
    "    train_val_test_k_factors=(p.train_k_factor,p.val_k_factor,p.test_k_factor),\n",
    "    pickle_path=os.path.join(get_datasets_base_path(), p.pickle_name),\n",
    "    x_transform_func=x_transform_target,\n",
    "    example_transform_func=episode_transform_target,\n",
    ")\n",
    "train_original_target, val_original_target, test_original_target = eaf_target.get_train(), eaf_target.get_val(), eaf_target.get_test()\n",
    "\n",
    "\n",
    "transform_lambda = lambda ex: ex[1] # Original is (<domain>, <episode>) so we strip down to episode only\n",
    "\n",
    "train_processed_source = Lazy_Iterable_Wrapper(train_original_source, transform_lambda)\n",
    "val_processed_source   = Lazy_Iterable_Wrapper(val_original_source, transform_lambda)\n",
    "test_processed_source  = Lazy_Iterable_Wrapper(test_original_source, transform_lambda)\n",
    "\n",
    "train_processed_target = Lazy_Iterable_Wrapper(train_original_target, transform_lambda)\n",
    "val_processed_target   = Lazy_Iterable_Wrapper(val_original_target, transform_lambda)\n",
    "test_processed_target  = Lazy_Iterable_Wrapper(test_original_target, transform_lambda)\n",
    "\n",
    "datasets = EasyDict({\n",
    "    \"source\": {\n",
    "        \"original\": {\"train\":train_original_source, \"val\":val_original_source, \"test\":test_original_source},\n",
    "        \"processed\": {\"train\":train_processed_source, \"val\":val_processed_source, \"test\":test_processed_source}\n",
    "    },\n",
    "    \"target\": {\n",
    "        \"original\": {\"train\":train_original_target, \"val\":val_original_target, \"test\":test_original_target},\n",
    "        \"processed\": {\"train\":train_processed_target, \"val\":val_processed_target, \"test\":test_processed_target}\n",
    "    },\n",
    "})"
   ]
  },
  {
   "cell_type": "code",
   "execution_count": 11,
   "id": "296189d9",
   "metadata": {
    "execution": {
     "iopub.execute_input": "2022-03-26T06:12:12.969707Z",
     "iopub.status.busy": "2022-03-26T06:12:12.968865Z",
     "iopub.status.idle": "2022-03-26T06:12:20.881088Z",
     "shell.execute_reply": "2022-03-26T06:12:20.880247Z"
    },
    "papermill": {
     "duration": 7.935429,
     "end_time": "2022-03-26T06:12:20.881260",
     "exception": false,
     "start_time": "2022-03-26T06:12:12.945831",
     "status": "completed"
    },
    "tags": []
   },
   "outputs": [
    {
     "name": "stdout",
     "output_type": "stream",
     "text": [
      "Visually inspect these to see if they line up with expected values given the transforms\n",
      "x_transforms_source ['unit_power']\n",
      "x_transforms_target ['unit_power']\n",
      "Average magnitude, source: 0.8716737\n",
      "Average power, source: 1.0\n"
     ]
    },
    {
     "name": "stdout",
     "output_type": "stream",
     "text": [
      "Average magnitude, target: 0.8818515\n",
      "Average power, target: 1.0\n"
     ]
    }
   ],
   "source": [
    "# Some quick unit tests on the data\n",
    "from steves_utils.transforms import get_average_power, get_average_magnitude\n",
    "\n",
    "q_x, q_y, s_x, s_y, truth = next(iter(train_processed_source))\n",
    "\n",
    "assert q_x.dtype == eval(p.torch_default_dtype)\n",
    "assert s_x.dtype == eval(p.torch_default_dtype)\n",
    "\n",
    "print(\"Visually inspect these to see if they line up with expected values given the transforms\")\n",
    "print('x_transforms_source', p.x_transforms_source)\n",
    "print('x_transforms_target', p.x_transforms_target)\n",
    "print(\"Average magnitude, source:\", get_average_magnitude(q_x[0].numpy()))\n",
    "print(\"Average power, source:\", get_average_power(q_x[0].numpy()))\n",
    "\n",
    "q_x, q_y, s_x, s_y, truth = next(iter(train_processed_target))\n",
    "print(\"Average magnitude, target:\", get_average_magnitude(q_x[0].numpy()))\n",
    "print(\"Average power, target:\", get_average_power(q_x[0].numpy()))\n"
   ]
  },
  {
   "cell_type": "code",
   "execution_count": 12,
   "id": "bbdacba1",
   "metadata": {
    "execution": {
     "iopub.execute_input": "2022-03-26T06:12:20.928428Z",
     "iopub.status.busy": "2022-03-26T06:12:20.927868Z",
     "iopub.status.idle": "2022-03-26T06:12:21.173826Z",
     "shell.execute_reply": "2022-03-26T06:12:21.174514Z"
    },
    "papermill": {
     "duration": 0.2683,
     "end_time": "2022-03-26T06:12:21.174758",
     "exception": false,
     "start_time": "2022-03-26T06:12:20.906458",
     "status": "completed"
    },
    "tags": []
   },
   "outputs": [
    {
     "name": "stdout",
     "output_type": "stream",
     "text": [
      "(2, 256)\n"
     ]
    }
   ],
   "source": [
    "###################################\n",
    "# Build the model\n",
    "###################################\n",
    "model = Steves_Prototypical_Network(x_net, device=p.device, x_shape=(2,256))\n",
    "optimizer = Adam(params=model.parameters(), lr=p.lr)"
   ]
  },
  {
   "cell_type": "code",
   "execution_count": 13,
   "id": "22b39ac5",
   "metadata": {
    "execution": {
     "iopub.execute_input": "2022-03-26T06:12:21.221215Z",
     "iopub.status.busy": "2022-03-26T06:12:21.220580Z",
     "iopub.status.idle": "2022-03-26T08:03:50.230444Z",
     "shell.execute_reply": "2022-03-26T08:03:50.227808Z"
    },
    "papermill": {
     "duration": 6689.031577,
     "end_time": "2022-03-26T08:03:50.230536",
     "exception": false,
     "start_time": "2022-03-26T06:12:21.198959",
     "status": "completed"
    },
    "tags": []
   },
   "outputs": [
    {
     "name": "stdout",
     "output_type": "stream",
     "text": [
      "epoch: 1, [batch: 1 / 12600], examples_per_second: 17.2395, train_label_loss: 2.8032, \n"
     ]
    },
    {
     "name": "stdout",
     "output_type": "stream",
     "text": [
      "epoch: 1, [batch: 1260 / 12600], examples_per_second: 1770.8553, train_label_loss: 1.8681, \n"
     ]
    },
    {
     "name": "stdout",
     "output_type": "stream",
     "text": [
      "epoch: 1, [batch: 2520 / 12600], examples_per_second: 1781.1094, train_label_loss: 1.4676, \n"
     ]
    },
    {
     "name": "stdout",
     "output_type": "stream",
     "text": [
      "epoch: 1, [batch: 3780 / 12600], examples_per_second: 1764.7339, train_label_loss: 1.2854, \n"
     ]
    },
    {
     "name": "stdout",
     "output_type": "stream",
     "text": [
      "epoch: 1, [batch: 5040 / 12600], examples_per_second: 1763.6296, train_label_loss: 1.2439, \n"
     ]
    },
    {
     "name": "stdout",
     "output_type": "stream",
     "text": [
      "epoch: 1, [batch: 6300 / 12600], examples_per_second: 1996.4256, train_label_loss: 1.4194, \n"
     ]
    },
    {
     "name": "stdout",
     "output_type": "stream",
     "text": [
      "epoch: 1, [batch: 7560 / 12600], examples_per_second: 3901.0305, train_label_loss: 1.3630, \n"
     ]
    },
    {
     "name": "stdout",
     "output_type": "stream",
     "text": [
      "epoch: 1, [batch: 8820 / 12600], examples_per_second: 2142.2888, train_label_loss: 1.1893, \n"
     ]
    },
    {
     "name": "stdout",
     "output_type": "stream",
     "text": [
      "epoch: 1, [batch: 10080 / 12600], examples_per_second: 1761.0839, train_label_loss: 1.2015, \n"
     ]
    },
    {
     "name": "stdout",
     "output_type": "stream",
     "text": [
      "epoch: 1, [batch: 11340 / 12600], examples_per_second: 1844.8498, train_label_loss: 0.6788, \n"
     ]
    },
    {
     "name": "stdout",
     "output_type": "stream",
     "text": [
      "=============================================================\n",
      "epoch: 1, source_val_acc_label: 0.6115, target_val_acc_label: 0.5204, source_val_label_loss: 1.0530, target_val_label_loss: 1.2917, \n",
      "=============================================================\n"
     ]
    },
    {
     "name": "stdout",
     "output_type": "stream",
     "text": [
      "New best\n"
     ]
    },
    {
     "name": "stdout",
     "output_type": "stream",
     "text": [
      "epoch: 2, [batch: 1 / 12600], examples_per_second: 0.6911, train_label_loss: 0.8822, \n"
     ]
    },
    {
     "name": "stdout",
     "output_type": "stream",
     "text": [
      "epoch: 2, [batch: 1260 / 12600], examples_per_second: 1785.0728, train_label_loss: 0.6315, \n"
     ]
    },
    {
     "name": "stdout",
     "output_type": "stream",
     "text": [
      "epoch: 2, [batch: 2520 / 12600], examples_per_second: 1786.3564, train_label_loss: 0.6368, \n"
     ]
    },
    {
     "name": "stdout",
     "output_type": "stream",
     "text": [
      "epoch: 2, [batch: 3780 / 12600], examples_per_second: 1784.5395, train_label_loss: 1.1704, \n"
     ]
    },
    {
     "name": "stdout",
     "output_type": "stream",
     "text": [
      "epoch: 2, [batch: 5040 / 12600], examples_per_second: 1778.8619, train_label_loss: 0.8555, \n"
     ]
    },
    {
     "name": "stdout",
     "output_type": "stream",
     "text": [
      "epoch: 2, [batch: 6300 / 12600], examples_per_second: 1772.8509, train_label_loss: 1.0294, \n"
     ]
    },
    {
     "name": "stdout",
     "output_type": "stream",
     "text": [
      "epoch: 2, [batch: 7560 / 12600], examples_per_second: 1777.9481, train_label_loss: 1.0759, \n"
     ]
    },
    {
     "name": "stdout",
     "output_type": "stream",
     "text": [
      "epoch: 2, [batch: 8820 / 12600], examples_per_second: 1761.8557, train_label_loss: 0.8509, \n"
     ]
    },
    {
     "name": "stdout",
     "output_type": "stream",
     "text": [
      "epoch: 2, [batch: 10080 / 12600], examples_per_second: 1771.3673, train_label_loss: 0.6298, \n"
     ]
    },
    {
     "name": "stdout",
     "output_type": "stream",
     "text": [
      "epoch: 2, [batch: 11340 / 12600], examples_per_second: 3363.5022, train_label_loss: 0.7293, \n"
     ]
    },
    {
     "name": "stdout",
     "output_type": "stream",
     "text": [
      "=============================================================\n",
      "epoch: 2, source_val_acc_label: 0.6602, target_val_acc_label: 0.5816, source_val_label_loss: 0.8922, target_val_label_loss: 1.1077, \n",
      "=============================================================\n"
     ]
    },
    {
     "name": "stdout",
     "output_type": "stream",
     "text": [
      "New best\n"
     ]
    },
    {
     "name": "stdout",
     "output_type": "stream",
     "text": [
      "epoch: 3, [batch: 1 / 12600], examples_per_second: 0.7651, train_label_loss: 0.8007, \n"
     ]
    },
    {
     "name": "stdout",
     "output_type": "stream",
     "text": [
      "epoch: 3, [batch: 1260 / 12600], examples_per_second: 1776.6694, train_label_loss: 0.7999, \n"
     ]
    },
    {
     "name": "stdout",
     "output_type": "stream",
     "text": [
      "epoch: 3, [batch: 2520 / 12600], examples_per_second: 1776.9557, train_label_loss: 0.8542, \n"
     ]
    },
    {
     "name": "stdout",
     "output_type": "stream",
     "text": [
      "epoch: 3, [batch: 3780 / 12600], examples_per_second: 2636.5000, train_label_loss: 0.9344, \n"
     ]
    },
    {
     "name": "stdout",
     "output_type": "stream",
     "text": [
      "epoch: 3, [batch: 5040 / 12600], examples_per_second: 3898.7992, train_label_loss: 0.9963, \n"
     ]
    },
    {
     "name": "stdout",
     "output_type": "stream",
     "text": [
      "epoch: 3, [batch: 6300 / 12600], examples_per_second: 3929.5066, train_label_loss: 0.8149, \n"
     ]
    },
    {
     "name": "stdout",
     "output_type": "stream",
     "text": [
      "epoch: 3, [batch: 7560 / 12600], examples_per_second: 1738.2358, train_label_loss: 0.8302, \n"
     ]
    },
    {
     "name": "stdout",
     "output_type": "stream",
     "text": [
      "epoch: 3, [batch: 8820 / 12600], examples_per_second: 1952.0994, train_label_loss: 0.8298, \n"
     ]
    },
    {
     "name": "stdout",
     "output_type": "stream",
     "text": [
      "epoch: 3, [batch: 10080 / 12600], examples_per_second: 1690.0990, train_label_loss: 1.2385, \n"
     ]
    },
    {
     "name": "stdout",
     "output_type": "stream",
     "text": [
      "epoch: 3, [batch: 11340 / 12600], examples_per_second: 2019.5462, train_label_loss: 0.9566, \n"
     ]
    },
    {
     "name": "stdout",
     "output_type": "stream",
     "text": [
      "=============================================================\n",
      "epoch: 3, source_val_acc_label: 0.6861, target_val_acc_label: 0.6079, source_val_label_loss: 0.8547, target_val_label_loss: 1.0567, \n",
      "=============================================================\n"
     ]
    },
    {
     "name": "stdout",
     "output_type": "stream",
     "text": [
      "New best\n"
     ]
    },
    {
     "name": "stdout",
     "output_type": "stream",
     "text": [
      "epoch: 4, [batch: 1 / 12600], examples_per_second: 0.7007, train_label_loss: 0.4324, \n"
     ]
    },
    {
     "name": "stdout",
     "output_type": "stream",
     "text": [
      "epoch: 4, [batch: 1260 / 12600], examples_per_second: 1818.4364, train_label_loss: 0.8059, \n"
     ]
    },
    {
     "name": "stdout",
     "output_type": "stream",
     "text": [
      "epoch: 4, [batch: 2520 / 12600], examples_per_second: 1999.6146, train_label_loss: 0.7715, \n"
     ]
    },
    {
     "name": "stdout",
     "output_type": "stream",
     "text": [
      "epoch: 4, [batch: 3780 / 12600], examples_per_second: 1857.5562, train_label_loss: 0.7301, \n"
     ]
    },
    {
     "name": "stdout",
     "output_type": "stream",
     "text": [
      "epoch: 4, [batch: 5040 / 12600], examples_per_second: 1930.5875, train_label_loss: 0.6832, \n"
     ]
    },
    {
     "name": "stdout",
     "output_type": "stream",
     "text": [
      "epoch: 4, [batch: 6300 / 12600], examples_per_second: 1990.4641, train_label_loss: 0.3444, \n"
     ]
    },
    {
     "name": "stdout",
     "output_type": "stream",
     "text": [
      "epoch: 4, [batch: 7560 / 12600], examples_per_second: 1808.7136, train_label_loss: 0.7132, \n"
     ]
    },
    {
     "name": "stdout",
     "output_type": "stream",
     "text": [
      "epoch: 4, [batch: 8820 / 12600], examples_per_second: 1971.2838, train_label_loss: 0.8024, \n"
     ]
    },
    {
     "name": "stdout",
     "output_type": "stream",
     "text": [
      "epoch: 4, [batch: 10080 / 12600], examples_per_second: 1849.9318, train_label_loss: 0.4778, \n"
     ]
    },
    {
     "name": "stdout",
     "output_type": "stream",
     "text": [
      "epoch: 4, [batch: 11340 / 12600], examples_per_second: 1952.9677, train_label_loss: 0.5608, \n"
     ]
    },
    {
     "name": "stdout",
     "output_type": "stream",
     "text": [
      "=============================================================\n",
      "epoch: 4, source_val_acc_label: 0.6901, target_val_acc_label: 0.6156, source_val_label_loss: 0.8459, target_val_label_loss: 1.0346, \n",
      "=============================================================\n"
     ]
    },
    {
     "name": "stdout",
     "output_type": "stream",
     "text": [
      "New best\n"
     ]
    },
    {
     "name": "stdout",
     "output_type": "stream",
     "text": [
      "epoch: 5, [batch: 1 / 12600], examples_per_second: 0.9522, train_label_loss: 0.6181, \n"
     ]
    },
    {
     "name": "stdout",
     "output_type": "stream",
     "text": [
      "epoch: 5, [batch: 1260 / 12600], examples_per_second: 4675.4439, train_label_loss: 0.6840, \n"
     ]
    },
    {
     "name": "stdout",
     "output_type": "stream",
     "text": [
      "epoch: 5, [batch: 2520 / 12600], examples_per_second: 2859.1347, train_label_loss: 0.7706, \n"
     ]
    },
    {
     "name": "stdout",
     "output_type": "stream",
     "text": [
      "epoch: 5, [batch: 3780 / 12600], examples_per_second: 2379.7399, train_label_loss: 0.5535, \n"
     ]
    },
    {
     "name": "stdout",
     "output_type": "stream",
     "text": [
      "epoch: 5, [batch: 5040 / 12600], examples_per_second: 2311.0320, train_label_loss: 0.5620, \n"
     ]
    },
    {
     "name": "stdout",
     "output_type": "stream",
     "text": [
      "epoch: 5, [batch: 6300 / 12600], examples_per_second: 2344.1342, train_label_loss: 0.6554, \n"
     ]
    },
    {
     "name": "stdout",
     "output_type": "stream",
     "text": [
      "epoch: 5, [batch: 7560 / 12600], examples_per_second: 3864.5465, train_label_loss: 0.7999, \n"
     ]
    },
    {
     "name": "stdout",
     "output_type": "stream",
     "text": [
      "epoch: 5, [batch: 8820 / 12600], examples_per_second: 5020.6223, train_label_loss: 0.2345, \n"
     ]
    },
    {
     "name": "stdout",
     "output_type": "stream",
     "text": [
      "epoch: 5, [batch: 10080 / 12600], examples_per_second: 3138.9947, train_label_loss: 0.6794, \n"
     ]
    },
    {
     "name": "stdout",
     "output_type": "stream",
     "text": [
      "epoch: 5, [batch: 11340 / 12600], examples_per_second: 2360.1347, train_label_loss: 0.6151, \n"
     ]
    },
    {
     "name": "stdout",
     "output_type": "stream",
     "text": [
      "=============================================================\n",
      "epoch: 5, source_val_acc_label: 0.6933, target_val_acc_label: 0.6146, source_val_label_loss: 0.8412, target_val_label_loss: 1.0421, \n",
      "=============================================================\n"
     ]
    },
    {
     "name": "stdout",
     "output_type": "stream",
     "text": [
      "epoch: 6, [batch: 1 / 12600], examples_per_second: 0.9130, train_label_loss: 0.6222, \n"
     ]
    },
    {
     "name": "stdout",
     "output_type": "stream",
     "text": [
      "epoch: 6, [batch: 1260 / 12600], examples_per_second: 1837.2690, train_label_loss: 0.6355, \n"
     ]
    },
    {
     "name": "stdout",
     "output_type": "stream",
     "text": [
      "epoch: 6, [batch: 2520 / 12600], examples_per_second: 1799.9902, train_label_loss: 0.5829, \n"
     ]
    },
    {
     "name": "stdout",
     "output_type": "stream",
     "text": [
      "epoch: 6, [batch: 3780 / 12600], examples_per_second: 1790.2211, train_label_loss: 0.1914, \n"
     ]
    },
    {
     "name": "stdout",
     "output_type": "stream",
     "text": [
      "epoch: 6, [batch: 5040 / 12600], examples_per_second: 1846.1766, train_label_loss: 0.3772, \n"
     ]
    },
    {
     "name": "stdout",
     "output_type": "stream",
     "text": [
      "epoch: 6, [batch: 6300 / 12600], examples_per_second: 3626.1298, train_label_loss: 0.3874, \n"
     ]
    },
    {
     "name": "stdout",
     "output_type": "stream",
     "text": [
      "epoch: 6, [batch: 7560 / 12600], examples_per_second: 2836.6759, train_label_loss: 0.5683, \n"
     ]
    },
    {
     "name": "stdout",
     "output_type": "stream",
     "text": [
      "epoch: 6, [batch: 8820 / 12600], examples_per_second: 1946.5281, train_label_loss: 0.3958, \n"
     ]
    },
    {
     "name": "stdout",
     "output_type": "stream",
     "text": [
      "epoch: 6, [batch: 10080 / 12600], examples_per_second: 1941.6550, train_label_loss: 0.3432, \n"
     ]
    },
    {
     "name": "stdout",
     "output_type": "stream",
     "text": [
      "epoch: 6, [batch: 11340 / 12600], examples_per_second: 1927.8180, train_label_loss: 0.3351, \n"
     ]
    },
    {
     "name": "stdout",
     "output_type": "stream",
     "text": [
      "=============================================================\n",
      "epoch: 6, source_val_acc_label: 0.6911, target_val_acc_label: 0.6122, source_val_label_loss: 0.8839, target_val_label_loss: 1.0888, \n",
      "=============================================================\n"
     ]
    },
    {
     "name": "stdout",
     "output_type": "stream",
     "text": [
      "epoch: 7, [batch: 1 / 12600], examples_per_second: 1.0504, train_label_loss: 0.3680, \n"
     ]
    },
    {
     "name": "stdout",
     "output_type": "stream",
     "text": [
      "epoch: 7, [batch: 1260 / 12600], examples_per_second: 1779.1372, train_label_loss: 0.1711, \n"
     ]
    },
    {
     "name": "stdout",
     "output_type": "stream",
     "text": [
      "epoch: 7, [batch: 2520 / 12600], examples_per_second: 2909.9887, train_label_loss: 0.2532, \n"
     ]
    },
    {
     "name": "stdout",
     "output_type": "stream",
     "text": [
      "epoch: 7, [batch: 3780 / 12600], examples_per_second: 3880.3853, train_label_loss: 0.5561, \n"
     ]
    },
    {
     "name": "stdout",
     "output_type": "stream",
     "text": [
      "epoch: 7, [batch: 5040 / 12600], examples_per_second: 1809.3666, train_label_loss: 0.4488, \n"
     ]
    },
    {
     "name": "stdout",
     "output_type": "stream",
     "text": [
      "epoch: 7, [batch: 6300 / 12600], examples_per_second: 1789.9846, train_label_loss: 0.3707, \n"
     ]
    },
    {
     "name": "stdout",
     "output_type": "stream",
     "text": [
      "epoch: 7, [batch: 7560 / 12600], examples_per_second: 1791.3585, train_label_loss: 0.2447, \n"
     ]
    },
    {
     "name": "stdout",
     "output_type": "stream",
     "text": [
      "epoch: 7, [batch: 8820 / 12600], examples_per_second: 2302.4149, train_label_loss: 0.2302, \n"
     ]
    },
    {
     "name": "stdout",
     "output_type": "stream",
     "text": [
      "epoch: 7, [batch: 10080 / 12600], examples_per_second: 4355.5277, train_label_loss: 0.4470, \n"
     ]
    },
    {
     "name": "stdout",
     "output_type": "stream",
     "text": [
      "epoch: 7, [batch: 11340 / 12600], examples_per_second: 2707.6319, train_label_loss: 0.2113, \n"
     ]
    },
    {
     "name": "stdout",
     "output_type": "stream",
     "text": [
      "=============================================================\n",
      "epoch: 7, source_val_acc_label: 0.6923, target_val_acc_label: 0.6156, source_val_label_loss: 0.9284, target_val_label_loss: 1.1152, \n",
      "=============================================================\n"
     ]
    },
    {
     "name": "stdout",
     "output_type": "stream",
     "text": [
      "New best\n"
     ]
    },
    {
     "name": "stdout",
     "output_type": "stream",
     "text": [
      "epoch: 8, [batch: 1 / 12600], examples_per_second: 0.8384, train_label_loss: 0.1903, \n"
     ]
    },
    {
     "name": "stdout",
     "output_type": "stream",
     "text": [
      "epoch: 8, [batch: 1260 / 12600], examples_per_second: 2169.9432, train_label_loss: 0.5830, \n"
     ]
    },
    {
     "name": "stdout",
     "output_type": "stream",
     "text": [
      "epoch: 8, [batch: 2520 / 12600], examples_per_second: 1785.8296, train_label_loss: 0.5499, \n"
     ]
    },
    {
     "name": "stdout",
     "output_type": "stream",
     "text": [
      "epoch: 8, [batch: 3780 / 12600], examples_per_second: 1788.0601, train_label_loss: 0.0847, \n"
     ]
    },
    {
     "name": "stdout",
     "output_type": "stream",
     "text": [
      "epoch: 8, [batch: 5040 / 12600], examples_per_second: 2321.9716, train_label_loss: 0.2478, \n"
     ]
    },
    {
     "name": "stdout",
     "output_type": "stream",
     "text": [
      "epoch: 8, [batch: 6300 / 12600], examples_per_second: 3928.5095, train_label_loss: 0.2395, \n"
     ]
    },
    {
     "name": "stdout",
     "output_type": "stream",
     "text": [
      "epoch: 8, [batch: 7560 / 12600], examples_per_second: 2152.9003, train_label_loss: 0.5172, \n"
     ]
    },
    {
     "name": "stdout",
     "output_type": "stream",
     "text": [
      "epoch: 8, [batch: 8820 / 12600], examples_per_second: 1886.9485, train_label_loss: 0.2666, \n"
     ]
    },
    {
     "name": "stdout",
     "output_type": "stream",
     "text": [
      "epoch: 8, [batch: 10080 / 12600], examples_per_second: 1922.7939, train_label_loss: 0.4180, \n"
     ]
    },
    {
     "name": "stdout",
     "output_type": "stream",
     "text": [
      "epoch: 8, [batch: 11340 / 12600], examples_per_second: 1914.2524, train_label_loss: 0.1165, \n"
     ]
    },
    {
     "name": "stdout",
     "output_type": "stream",
     "text": [
      "=============================================================\n",
      "epoch: 8, source_val_acc_label: 0.6880, target_val_acc_label: 0.6089, source_val_label_loss: 0.9462, target_val_label_loss: 1.1371, \n",
      "=============================================================\n"
     ]
    },
    {
     "name": "stdout",
     "output_type": "stream",
     "text": [
      "epoch: 9, [batch: 1 / 12600], examples_per_second: 1.0626, train_label_loss: 0.3744, \n"
     ]
    },
    {
     "name": "stdout",
     "output_type": "stream",
     "text": [
      "epoch: 9, [batch: 1260 / 12600], examples_per_second: 1781.0345, train_label_loss: 0.4040, \n"
     ]
    },
    {
     "name": "stdout",
     "output_type": "stream",
     "text": [
      "epoch: 9, [batch: 2520 / 12600], examples_per_second: 1875.0143, train_label_loss: 0.5270, \n"
     ]
    },
    {
     "name": "stdout",
     "output_type": "stream",
     "text": [
      "epoch: 9, [batch: 3780 / 12600], examples_per_second: 3715.7719, train_label_loss: 0.3239, \n"
     ]
    },
    {
     "name": "stdout",
     "output_type": "stream",
     "text": [
      "epoch: 9, [batch: 5040 / 12600], examples_per_second: 2840.4774, train_label_loss: 0.3078, \n"
     ]
    },
    {
     "name": "stdout",
     "output_type": "stream",
     "text": [
      "epoch: 9, [batch: 6300 / 12600], examples_per_second: 1813.8424, train_label_loss: 0.3593, \n"
     ]
    },
    {
     "name": "stdout",
     "output_type": "stream",
     "text": [
      "epoch: 9, [batch: 7560 / 12600], examples_per_second: 1792.4585, train_label_loss: 0.4457, \n"
     ]
    },
    {
     "name": "stdout",
     "output_type": "stream",
     "text": [
      "epoch: 9, [batch: 8820 / 12600], examples_per_second: 1871.5783, train_label_loss: 0.1984, \n"
     ]
    },
    {
     "name": "stdout",
     "output_type": "stream",
     "text": [
      "epoch: 9, [batch: 10080 / 12600], examples_per_second: 4246.5918, train_label_loss: 0.2449, \n"
     ]
    },
    {
     "name": "stdout",
     "output_type": "stream",
     "text": [
      "epoch: 9, [batch: 11340 / 12600], examples_per_second: 3550.3782, train_label_loss: 0.2996, \n"
     ]
    },
    {
     "name": "stdout",
     "output_type": "stream",
     "text": [
      "=============================================================\n",
      "epoch: 9, source_val_acc_label: 0.6871, target_val_acc_label: 0.6046, source_val_label_loss: 1.0028, target_val_label_loss: 1.2182, \n",
      "=============================================================\n"
     ]
    },
    {
     "name": "stdout",
     "output_type": "stream",
     "text": [
      "epoch: 10, [batch: 1 / 12600], examples_per_second: 0.7925, train_label_loss: 0.1643, \n"
     ]
    },
    {
     "name": "stdout",
     "output_type": "stream",
     "text": [
      "epoch: 10, [batch: 1260 / 12600], examples_per_second: 2608.3811, train_label_loss: 0.2448, \n"
     ]
    },
    {
     "name": "stdout",
     "output_type": "stream",
     "text": [
      "epoch: 10, [batch: 2520 / 12600], examples_per_second: 1790.4761, train_label_loss: 0.4172, \n"
     ]
    },
    {
     "name": "stdout",
     "output_type": "stream",
     "text": [
      "epoch: 10, [batch: 3780 / 12600], examples_per_second: 1761.2934, train_label_loss: 0.3593, \n"
     ]
    },
    {
     "name": "stdout",
     "output_type": "stream",
     "text": [
      "epoch: 10, [batch: 5040 / 12600], examples_per_second: 1754.6494, train_label_loss: 0.3370, \n"
     ]
    },
    {
     "name": "stdout",
     "output_type": "stream",
     "text": [
      "epoch: 10, [batch: 6300 / 12600], examples_per_second: 2522.3918, train_label_loss: 0.3160, \n"
     ]
    },
    {
     "name": "stdout",
     "output_type": "stream",
     "text": [
      "epoch: 10, [batch: 7560 / 12600], examples_per_second: 3956.8857, train_label_loss: 0.2642, \n"
     ]
    },
    {
     "name": "stdout",
     "output_type": "stream",
     "text": [
      "epoch: 10, [batch: 8820 / 12600], examples_per_second: 2187.5182, train_label_loss: 0.2261, \n"
     ]
    },
    {
     "name": "stdout",
     "output_type": "stream",
     "text": [
      "epoch: 10, [batch: 10080 / 12600], examples_per_second: 1956.5080, train_label_loss: 0.2799, \n"
     ]
    },
    {
     "name": "stdout",
     "output_type": "stream",
     "text": [
      "epoch: 10, [batch: 11340 / 12600], examples_per_second: 1932.1128, train_label_loss: 0.0582, \n"
     ]
    },
    {
     "name": "stdout",
     "output_type": "stream",
     "text": [
      "=============================================================\n",
      "epoch: 10, source_val_acc_label: 0.6907, target_val_acc_label: 0.6107, source_val_label_loss: 1.0779, target_val_label_loss: 1.2726, \n",
      "=============================================================\n"
     ]
    },
    {
     "name": "stdout",
     "output_type": "stream",
     "text": [
      "epoch: 11, [batch: 1 / 12600], examples_per_second: 1.1502, train_label_loss: 0.0508, \n"
     ]
    },
    {
     "name": "stdout",
     "output_type": "stream",
     "text": [
      "epoch: 11, [batch: 1260 / 12600], examples_per_second: 1776.2366, train_label_loss: 0.2208, \n"
     ]
    },
    {
     "name": "stdout",
     "output_type": "stream",
     "text": [
      "epoch: 11, [batch: 2520 / 12600], examples_per_second: 1774.1217, train_label_loss: 0.0836, \n"
     ]
    },
    {
     "name": "stdout",
     "output_type": "stream",
     "text": [
      "epoch: 11, [batch: 3780 / 12600], examples_per_second: 2030.4244, train_label_loss: 0.3006, \n"
     ]
    },
    {
     "name": "stdout",
     "output_type": "stream",
     "text": [
      "epoch: 11, [batch: 5040 / 12600], examples_per_second: 3903.0853, train_label_loss: 0.2485, \n"
     ]
    },
    {
     "name": "stdout",
     "output_type": "stream",
     "text": [
      "epoch: 11, [batch: 6300 / 12600], examples_per_second: 2142.9462, train_label_loss: 0.2664, \n"
     ]
    },
    {
     "name": "stdout",
     "output_type": "stream",
     "text": [
      "epoch: 11, [batch: 7560 / 12600], examples_per_second: 1767.2244, train_label_loss: 0.2399, \n"
     ]
    },
    {
     "name": "stdout",
     "output_type": "stream",
     "text": [
      "epoch: 11, [batch: 8820 / 12600], examples_per_second: 1777.1216, train_label_loss: 0.0266, \n"
     ]
    },
    {
     "name": "stdout",
     "output_type": "stream",
     "text": [
      "epoch: 11, [batch: 10080 / 12600], examples_per_second: 1900.6839, train_label_loss: 0.4084, \n"
     ]
    },
    {
     "name": "stdout",
     "output_type": "stream",
     "text": [
      "epoch: 11, [batch: 11340 / 12600], examples_per_second: 1945.4560, train_label_loss: 0.4249, \n"
     ]
    },
    {
     "name": "stdout",
     "output_type": "stream",
     "text": [
      "=============================================================\n",
      "epoch: 11, source_val_acc_label: 0.6863, target_val_acc_label: 0.6030, source_val_label_loss: 1.1118, target_val_label_loss: 1.3200, \n",
      "=============================================================\n"
     ]
    },
    {
     "name": "stdout",
     "output_type": "stream",
     "text": [
      "Patience (3) exhausted\n"
     ]
    }
   ],
   "source": [
    "###################################\n",
    "# train\n",
    "###################################\n",
    "jig = PTN_Train_Eval_Test_Jig(model, p.BEST_MODEL_PATH, p.device)\n",
    "\n",
    "jig.train(\n",
    "    train_iterable=datasets.source.processed.train,\n",
    "    source_val_iterable=datasets.source.processed.val,\n",
    "    target_val_iterable=datasets.target.processed.val,\n",
    "    num_epochs=p.n_epoch,\n",
    "    num_logs_per_epoch=p.NUM_LOGS_PER_EPOCH,\n",
    "    patience=p.patience,\n",
    "    optimizer=optimizer,\n",
    "    criteria_for_best=p.criteria_for_best,\n",
    ")"
   ]
  },
  {
   "cell_type": "code",
   "execution_count": 14,
   "id": "31e8fabf",
   "metadata": {
    "execution": {
     "iopub.execute_input": "2022-03-26T08:03:50.336697Z",
     "iopub.status.busy": "2022-03-26T08:03:50.336333Z",
     "iopub.status.idle": "2022-03-26T08:03:50.370568Z",
     "shell.execute_reply": "2022-03-26T08:03:50.369758Z"
    },
    "papermill": {
     "duration": 0.088461,
     "end_time": "2022-03-26T08:03:50.370720",
     "exception": false,
     "start_time": "2022-03-26T08:03:50.282259",
     "status": "completed"
    },
    "tags": []
   },
   "outputs": [],
   "source": [
    "total_experiment_time_secs = time.time() - start_time_secs"
   ]
  },
  {
   "cell_type": "code",
   "execution_count": 15,
   "id": "87b9595b",
   "metadata": {
    "execution": {
     "iopub.execute_input": "2022-03-26T08:03:50.487229Z",
     "iopub.status.busy": "2022-03-26T08:03:50.483827Z",
     "iopub.status.idle": "2022-03-26T08:17:31.958619Z",
     "shell.execute_reply": "2022-03-26T08:17:31.957840Z"
    },
    "papermill": {
     "duration": 821.531832,
     "end_time": "2022-03-26T08:17:31.958798",
     "exception": false,
     "start_time": "2022-03-26T08:03:50.426966",
     "status": "completed"
    },
    "tags": []
   },
   "outputs": [],
   "source": [
    "###################################\n",
    "# Evaluate the model\n",
    "###################################\n",
    "source_test_label_accuracy, source_test_label_loss = jig.test(datasets.source.processed.test)\n",
    "target_test_label_accuracy, target_test_label_loss = jig.test(datasets.target.processed.test)\n",
    "\n",
    "source_val_label_accuracy, source_val_label_loss = jig.test(datasets.source.processed.val)\n",
    "target_val_label_accuracy, target_val_label_loss = jig.test(datasets.target.processed.val)\n",
    "\n",
    "history = jig.get_history()\n",
    "\n",
    "total_epochs_trained = len(history[\"epoch_indices\"])\n",
    "\n",
    "val_dl = Iterable_Aggregator((datasets.source.original.val,datasets.target.original.val))\n",
    "\n",
    "confusion = ptn_confusion_by_domain_over_dataloader(model, p.device, val_dl)\n",
    "per_domain_accuracy = per_domain_accuracy_from_confusion(confusion)\n",
    "\n",
    "# Add a key to per_domain_accuracy for if it was a source domain\n",
    "for domain, accuracy in per_domain_accuracy.items():\n",
    "    per_domain_accuracy[domain] = {\n",
    "        \"accuracy\": accuracy,\n",
    "        \"source?\": domain in p.domains_source\n",
    "    }\n",
    "\n",
    "# Do an independent accuracy assesment JUST TO BE SURE!\n",
    "# _source_test_label_accuracy = independent_accuracy_assesment(model, datasets.source.processed.test, p.device)\n",
    "# _target_test_label_accuracy = independent_accuracy_assesment(model, datasets.target.processed.test, p.device)\n",
    "# _source_val_label_accuracy = independent_accuracy_assesment(model, datasets.source.processed.val, p.device)\n",
    "# _target_val_label_accuracy = independent_accuracy_assesment(model, datasets.target.processed.val, p.device)\n",
    "\n",
    "# assert(_source_test_label_accuracy == source_test_label_accuracy)\n",
    "# assert(_target_test_label_accuracy == target_test_label_accuracy)\n",
    "# assert(_source_val_label_accuracy == source_val_label_accuracy)\n",
    "# assert(_target_val_label_accuracy == target_val_label_accuracy)\n",
    "\n",
    "experiment = {\n",
    "    \"experiment_name\": p.experiment_name,\n",
    "    \"parameters\": dict(p),\n",
    "    \"results\": {\n",
    "        \"source_test_label_accuracy\": source_test_label_accuracy,\n",
    "        \"source_test_label_loss\": source_test_label_loss,\n",
    "        \"target_test_label_accuracy\": target_test_label_accuracy,\n",
    "        \"target_test_label_loss\": target_test_label_loss,\n",
    "        \"source_val_label_accuracy\": source_val_label_accuracy,\n",
    "        \"source_val_label_loss\": source_val_label_loss,\n",
    "        \"target_val_label_accuracy\": target_val_label_accuracy,\n",
    "        \"target_val_label_loss\": target_val_label_loss,\n",
    "        \"total_epochs_trained\": total_epochs_trained,\n",
    "        \"total_experiment_time_secs\": total_experiment_time_secs,\n",
    "        \"confusion\": confusion,\n",
    "        \"per_domain_accuracy\": per_domain_accuracy,\n",
    "    },\n",
    "    \"history\": history,\n",
    "    \"dataset_metrics\": get_dataset_metrics(datasets, \"ptn\"),\n",
    "}"
   ]
  },
  {
   "cell_type": "code",
   "execution_count": 16,
   "id": "54a21829",
   "metadata": {
    "execution": {
     "iopub.execute_input": "2022-03-26T08:17:32.068364Z",
     "iopub.status.busy": "2022-03-26T08:17:32.067908Z",
     "iopub.status.idle": "2022-03-26T08:17:32.304466Z",
     "shell.execute_reply": "2022-03-26T08:17:32.303672Z"
    },
    "papermill": {
     "duration": 0.29066,
     "end_time": "2022-03-26T08:17:32.304639",
     "exception": false,
     "start_time": "2022-03-26T08:17:32.013979",
     "status": "completed"
    },
    "tags": []
   },
   "outputs": [
    {
     "data": {
      "image/png": "[encoded data removed]",
      "text/plain": [
       "<Figure size 1080x504 with 1 Axes>"
      ]
     },
     "metadata": {
      "needs_background": "light"
     },
     "output_type": "display_data"
    }
   ],
   "source": [
    "ax = get_loss_curve(experiment)\n",
    "plt.show()"
   ]
  },
  {
   "cell_type": "code",
   "execution_count": 17,
   "id": "fd8a0f60",
   "metadata": {
    "execution": {
     "iopub.execute_input": "2022-03-26T08:17:32.427977Z",
     "iopub.status.busy": "2022-03-26T08:17:32.427592Z",
     "iopub.status.idle": "2022-03-26T08:17:32.778539Z",
     "shell.execute_reply": "2022-03-26T08:17:32.778851Z"
    },
    "papermill": {
     "duration": 0.418567,
     "end_time": "2022-03-26T08:17:32.778950",
     "exception": false,
     "start_time": "2022-03-26T08:17:32.360383",
     "status": "completed"
    },
    "tags": []
   },
   "outputs": [
    {
     "data": {
      "text/plain": [
       "<AxesSubplot:title={'center':'Results'}>"
      ]
     },
     "execution_count": 17,
     "metadata": {},
     "output_type": "execute_result"
    },
    {
     "data": {
      "image/png": "[encoded data removed]",
      "text/plain": [
       "<Figure size 1080x504 with 1 Axes>"
      ]
     },
     "metadata": {
      "needs_background": "light"
     },
     "output_type": "display_data"
    }
   ],
   "source": [
    "get_results_table(experiment)"
   ]
  },
  {
   "cell_type": "code",
   "execution_count": 18,
   "id": "cf8dc689",
   "metadata": {
    "execution": {
     "iopub.execute_input": "2022-03-26T08:17:32.894996Z",
     "iopub.status.busy": "2022-03-26T08:17:32.894086Z",
     "iopub.status.idle": "2022-03-26T08:17:33.101426Z",
     "shell.execute_reply": "2022-03-26T08:17:33.102121Z"
    },
    "papermill": {
     "duration": 0.265336,
     "end_time": "2022-03-26T08:17:33.102351",
     "exception": false,
     "start_time": "2022-03-26T08:17:32.837015",
     "status": "completed"
    },
    "tags": []
   },
   "outputs": [
    {
     "data": {
      "text/plain": [
       "<AxesSubplot:title={'center':'Per Domain Validation Accuracy'}, xlabel='domain'>"
      ]
     },
     "execution_count": 18,
     "metadata": {},
     "output_type": "execute_result"
    },
    {
     "data": {
      "image/png": "[encoded data removed]",
      "text/plain": [
       "<Figure size 1080x504 with 1 Axes>"
      ]
     },
     "metadata": {
      "needs_background": "light"
     },
     "output_type": "display_data"
    }
   ],
   "source": [
    "get_domain_accuracies(experiment)"
   ]
  },
  {
   "cell_type": "code",
   "execution_count": 19,
   "id": "a74ae082",
   "metadata": {
    "execution": {
     "iopub.execute_input": "2022-03-26T08:17:33.221807Z",
     "iopub.status.busy": "2022-03-26T08:17:33.221414Z",
     "iopub.status.idle": "2022-03-26T08:17:33.246138Z",
     "shell.execute_reply": "2022-03-26T08:17:33.245777Z"
    },
    "papermill": {
     "duration": 0.082251,
     "end_time": "2022-03-26T08:17:33.246237",
     "exception": false,
     "start_time": "2022-03-26T08:17:33.163986",
     "status": "completed"
    },
    "tags": []
   },
   "outputs": [
    {
     "name": "stdout",
     "output_type": "stream",
     "text": [
      "Source Test Label Accuracy: 0.6986458333333333 Target Test Label Accuracy: 0.6176666666666667\n",
      "Source Val Label Accuracy: 0.6922569444444444 Target Val Label Accuracy: 0.6155833333333334\n"
     ]
    }
   ],
   "source": [
    "print(\"Source Test Label Accuracy:\", experiment[\"results\"][\"source_test_label_accuracy\"], \"Target Test Label Accuracy:\", experiment[\"results\"][\"target_test_label_accuracy\"])\n",
    "print(\"Source Val Label Accuracy:\", experiment[\"results\"][\"source_val_label_accuracy\"], \"Target Val Label Accuracy:\", experiment[\"results\"][\"target_val_label_accuracy\"])"
   ]
  },
  {
   "cell_type": "code",
   "execution_count": 20,
   "id": "dacca602",
   "metadata": {
    "execution": {
     "iopub.execute_input": "2022-03-26T08:17:33.360426Z",
     "iopub.status.busy": "2022-03-26T08:17:33.360040Z",
     "iopub.status.idle": "2022-03-26T08:17:33.385365Z",
     "shell.execute_reply": "2022-03-26T08:17:33.385013Z"
    },
    "papermill": {
     "duration": 0.083599,
     "end_time": "2022-03-26T08:17:33.385459",
     "exception": false,
     "start_time": "2022-03-26T08:17:33.301860",
     "status": "completed"
    },
    "tags": [
     "experiment_json"
    ]
   },
   "outputs": [
    {
     "data": {
      "text/plain": [
       "'{\"experiment_name\": \"tuned_1v2:oracle.run1_limited\", \"parameters\": {\"experiment_name\": \"tuned_1v2:oracle.run1_limited\", \"device\": \"cuda\", \"lr\": 0.0001, \"labels_source\": [\"3123D52\", \"3123D65\", \"3123D79\", \"3123D80\", \"3123D54\", \"3123D70\", \"3123D7B\", \"3123D89\", \"3123D58\", \"3123D76\", \"3123D7D\", \"3123EFE\", \"3123D64\", \"3123D78\", \"3123D7E\", \"3124E4A\"], \"labels_target\": [\"3123D52\", \"3123D65\", \"3123D79\", \"3123D80\", \"3123D54\", \"3123D70\", \"3123D7B\", \"3123D89\", \"3123D58\", \"3123D76\", \"3123D7D\", \"3123EFE\", \"3123D64\", \"3123D78\", \"3123D7E\", \"3124E4A\"], \"episode_transforms_source\": [], \"episode_transforms_target\": [], \"domains_source\": [8, 32, 50], \"domains_target\": [14, 20, 26, 38, 44], \"num_examples_per_domain_per_label_source\": -1, \"num_examples_per_domain_per_label_target\": -1, \"n_shot\": 3, \"n_way\": 16, \"n_query\": 2, \"train_k_factor\": 3, \"val_k_factor\": 2, \"test_k_factor\": 2, \"torch_default_dtype\": \"torch.float32\", \"n_epoch\": 50, \"patience\": 3, \"criteria_for_best\": \"target_accuracy\", \"x_net\": [{\"class\": \"nnReshape\", \"kargs\": {\"shape\": [-1, 1, 2, 256]}}, {\"class\": \"Conv2d\", \"kargs\": {\"in_channels\": 1, \"out_channels\": 256, \"kernel_size\": [1, 7], \"bias\": false, \"padding\": [0, 3]}}, {\"class\": \"ReLU\", \"kargs\": {\"inplace\": true}}, {\"class\": \"BatchNorm2d\", \"kargs\": {\"num_features\": 256}}, {\"class\": \"Conv2d\", \"kargs\": {\"in_channels\": 256, \"out_channels\": 80, \"kernel_size\": [2, 7], \"bias\": true, \"padding\": [0, 3]}}, {\"class\": \"ReLU\", \"kargs\": {\"inplace\": true}}, {\"class\": \"BatchNorm2d\", \"kargs\": {\"num_features\": 80}}, {\"class\": \"Flatten\", \"kargs\": {}}, {\"class\": \"Linear\", \"kargs\": {\"in_features\": 20480, \"out_features\": 256}}, {\"class\": \"ReLU\", \"kargs\": {\"inplace\": true}}, {\"class\": \"BatchNorm1d\", \"kargs\": {\"num_features\": 256}}, {\"class\": \"Linear\", \"kargs\": {\"in_features\": 256, \"out_features\": 256}}], \"NUM_LOGS_PER_EPOCH\": 10, \"BEST_MODEL_PATH\": \"./best_model.pth\", \"pickle_name\": \"oracle.Run1_10kExamples_stratified_ds.2022A.pkl\", \"x_transforms_source\": [\"unit_power\"], \"x_transforms_target\": [\"unit_power\"], \"dataset_seed\": 1337, \"seed\": 1337}, \"results\": {\"source_test_label_accuracy\": 0.6986458333333333, \"source_test_label_loss\": 0.909399688243866, \"target_test_label_accuracy\": 0.6176666666666667, \"target_test_label_loss\": 1.1064143180847168, \"source_val_label_accuracy\": 0.6922569444444444, \"source_val_label_loss\": 0.9284270405769348, \"target_val_label_accuracy\": 0.6155833333333334, \"target_val_label_loss\": 1.1151556968688965, \"total_epochs_trained\": 11, \"total_experiment_time_secs\": 6808.085240602493, \"confusion\": {\"8\": {\"15\": {\"8\": 71, \"15\": 807, \"12\": 290, \"2\": 20, \"3\": 9, \"7\": 3}, \"3\": {\"3\": 879, \"2\": 187, \"12\": 125, \"15\": 9}, \"6\": {\"6\": 657, \"7\": 271, \"4\": 132, \"8\": 21, \"13\": 36, \"0\": 71, \"14\": 12}, \"1\": {\"11\": 357, \"1\": 714, \"14\": 78, \"10\": 24, \"5\": 21, \"6\": 1, \"4\": 3, \"8\": 2}, \"8\": {\"8\": 1079, \"7\": 10, \"15\": 84, \"6\": 18, \"12\": 7, \"4\": 1, \"11\": 1}, \"10\": {\"14\": 223, \"10\": 767, \"4\": 59, \"13\": 110, \"0\": 5, \"5\": 23, \"1\": 11, \"11\": 2}, \"9\": {\"9\": 1200}, \"13\": {\"10\": 122, \"13\": 354, \"6\": 48, \"0\": 333, \"14\": 102, \"4\": 219, \"7\": 16, \"1\": 4, \"5\": 2}, \"12\": {\"15\": 378, \"12\": 553, \"3\": 221, \"8\": 32, \"2\": 15, \"7\": 1}, \"5\": {\"5\": 1018, \"1\": 52, \"14\": 13, \"10\": 107, \"11\": 9, \"13\": 1}, \"0\": {\"13\": 286, \"7\": 88, \"0\": 631, \"10\": 18, \"6\": 91, \"4\": 80, \"14\": 6}, \"2\": {\"3\": 212, \"2\": 894, \"7\": 18, \"12\": 30, \"15\": 45, \"6\": 1}, \"11\": {\"11\": 647, \"1\": 480, \"14\": 21, \"5\": 22, \"6\": 5, \"8\": 16, \"4\": 8, \"10\": 1}, \"14\": {\"13\": 83, \"14\": 574, \"10\": 225, \"4\": 199, \"1\": 83, \"6\": 11, \"0\": 8, \"11\": 14, \"8\": 1, \"5\": 2}, \"7\": {\"7\": 848, \"6\": 260, \"0\": 54, \"15\": 5, \"4\": 12, \"8\": 10, \"2\": 4, \"13\": 7}, \"4\": {\"4\": 540, \"14\": 191, \"6\": 151, \"13\": 204, \"0\": 66, \"10\": 37, \"11\": 1, \"7\": 7, \"1\": 3}}, \"50\": {\"3\": {\"3\": 1156, \"8\": 44}, \"15\": {\"15\": 786, \"1\": 244, \"11\": 35, \"4\": 118, \"6\": 16, \"14\": 1}, \"8\": {\"8\": 1166, \"10\": 22, \"3\": 12}, \"4\": {\"1\": 210, \"4\": 463, \"5\": 98, \"6\": 188, \"15\": 186, \"13\": 29, \"7\": 25, \"0\": 1}, \"14\": {\"14\": 1142, \"11\": 15, \"12\": 41, \"9\": 2}, \"0\": {\"2\": 123, \"0\": 1020, \"13\": 7, \"10\": 48, \"6\": 1, \"5\": 1}, \"7\": {\"13\": 280, \"7\": 715, \"5\": 163, \"10\": 31, \"6\": 9, \"4\": 2}, \"6\": {\"1\": 123, \"6\": 733, \"4\": 160, \"5\": 88, \"15\": 20, \"13\": 69, \"7\": 7}, \"10\": {\"10\": 1072, \"13\": 36, \"8\": 14, \"5\": 8, \"0\": 47, \"7\": 23}, \"5\": {\"13\": 242, \"6\": 182, \"7\": 272, \"5\": 328, \"4\": 125, \"1\": 34, \"10\": 15, \"15\": 1, \"2\": 1}, \"2\": {\"2\": 1114, \"0\": 86}, \"12\": {\"12\": 1031, \"14\": 56, \"9\": 106, \"11\": 7}, \"9\": {\"11\": 170, \"9\": 898, \"12\": 123, \"14\": 9}, \"1\": {\"1\": 703, \"6\": 106, \"4\": 137, \"15\": 233, \"5\": 5, \"11\": 13, \"0\": 1, \"2\": 1, \"13\": 1}, \"11\": {\"11\": 1018, \"9\": 125, \"1\": 3, \"15\": 36, \"14\": 15, \"12\": 3}, \"13\": {\"13\": 611, \"7\": 220, \"5\": 242, \"0\": 4, \"6\": 92, \"10\": 16, \"4\": 13, \"1\": 2}}, \"32\": {\"5\": {\"4\": 158, \"8\": 122, \"0\": 59, \"3\": 57, \"5\": 313, \"11\": 22, \"14\": 22, \"13\": 287, \"7\": 148, \"2\": 12}, \"8\": {\"8\": 822, \"13\": 122, \"0\": 116, \"5\": 90, \"3\": 28, \"7\": 6, \"4\": 11, \"15\": 3, \"14\": 2}, \"11\": {\"11\": 870, \"14\": 236, \"3\": 26, \"13\": 28, \"5\": 10, \"7\": 30}, \"1\": {\"1\": 1183, \"10\": 17}, \"10\": {\"10\": 1195, \"1\": 5}, \"15\": {\"15\": 1193, \"8\": 5, \"3\": 2}, \"3\": {\"3\": 1048, \"13\": 55, \"11\": 45, \"8\": 25, \"14\": 11, \"5\": 16}, \"7\": {\"13\": 123, \"7\": 475, \"4\": 185, \"14\": 173, \"5\": 112, \"2\": 51, \"11\": 48, \"0\": 26, \"3\": 2, \"8\": 5}, \"4\": {\"5\": 84, \"4\": 588, \"7\": 149, \"0\": 114, \"2\": 204, \"13\": 42, \"14\": 11, \"8\": 8}, \"14\": {\"13\": 73, \"11\": 349, \"14\": 458, \"7\": 201, \"2\": 15, \"0\": 33, \"5\": 34, \"4\": 28, \"8\": 3, \"3\": 6}, \"9\": {\"9\": 1194, \"2\": 2, \"12\": 4}, \"12\": {\"12\": 1199, \"9\": 1}, \"6\": {\"6\": 1200}, \"2\": {\"2\": 911, \"4\": 222, \"7\": 23, \"0\": 39, \"5\": 2, \"14\": 3}, \"0\": {\"0\": 689, \"2\": 77, \"7\": 46, \"8\": 119, \"4\": 152, \"13\": 38, \"5\": 67, \"14\": 12}, \"13\": {\"13\": 418, \"8\": 89, \"5\": 287, \"11\": 46, \"4\": 55, \"14\": 40, \"7\": 161, \"3\": 76, \"0\": 27, \"2\": 1}}, \"14\": {\"15\": {\"15\": 1064, \"7\": 133, \"2\": 1, \"5\": 2}, \"3\": {\"3\": 885, \"4\": 187, \"2\": 35, \"0\": 22, \"14\": 52, \"1\": 2, \"5\": 7, \"13\": 5, \"6\": 1, \"10\": 4}, \"6\": {\"6\": 619, \"13\": 382, \"2\": 103, \"14\": 93, \"4\": 2, \"5\": 1}, \"1\": {\"1\": 982, \"5\": 186, \"4\": 23, \"7\": 7, \"2\": 1, \"3\": 1}, \"8\": {\"8\": 1195, \"3\": 2, \"0\": 2, \"1\": 1}, \"10\": {\"10\": 970, \"0\": 203, \"11\": 8, \"3\": 12, \"14\": 5, \"13\": 2}, \"9\": {\"9\": 1182, \"12\": 3, \"11\": 15}, \"13\": {\"13\": 372, \"6\": 444, \"14\": 232, \"2\": 120, \"4\": 7, \"5\": 19, \"15\": 1, \"10\": 1, \"3\": 3, \"7\": 1}, \"12\": {\"12\": 1190, \"9\": 10}, \"5\": {\"5\": 678, \"2\": 75, \"4\": 211, \"1\": 198, \"13\": 2, \"7\": 19, \"15\": 9, \"3\": 7, \"6\": 1}, \"0\": {\"0\": 839, \"3\": 42, \"11\": 29, \"10\": 285, \"14\": 4, \"8\": 1}, \"2\": {\"2\": 450, \"14\": 153, \"6\": 117, \"3\": 85, \"5\": 143, \"4\": 142, \"15\": 33, \"13\": 73, \"1\": 4}, \"11\": {\"11\": 1009, \"10\": 66, \"0\": 53, \"9\": 72}, \"14\": {\"14\": 802, \"6\": 79, \"2\": 102, \"3\": 71, \"13\": 132, \"4\": 11, \"10\": 3}, \"7\": {\"7\": 1108, \"15\": 73, \"1\": 10, \"5\": 8, \"2\": 1}, \"4\": {\"3\": 173, \"4\": 687, \"2\": 112, \"5\": 172, \"1\": 41, \"14\": 7, \"13\": 4, \"6\": 4}}, \"20\": {\"3\": {\"3\": 385, \"4\": 95, \"1\": 32, \"9\": 194, \"8\": 33, \"12\": 201, \"2\": 107, \"5\": 49, \"0\": 38, \"7\": 56, \"15\": 6, \"10\": 2, \"13\": 2}, \"15\": {\"12\": 55, \"5\": 110, \"13\": 52, \"15\": 631, \"0\": 81, \"1\": 248, \"9\": 12, \"2\": 7, \"3\": 4}, \"8\": {\"10\": 93, \"8\": 632, \"4\": 231, \"7\": 103, \"14\": 63, \"6\": 27, \"3\": 38, \"9\": 8, \"12\": 2, \"2\": 3}, \"4\": {\"4\": 801, \"10\": 54, \"8\": 188, \"12\": 24, \"3\": 98, \"9\": 11, \"0\": 10, \"5\": 6, \"7\": 5, \"14\": 2, \"2\": 1}, \"14\": {\"14\": 721, \"10\": 224, \"6\": 190, \"8\": 56, \"7\": 6, \"4\": 3}, \"0\": {\"0\": 419, \"5\": 279, \"12\": 116, \"3\": 51, \"1\": 136, \"9\": 20, \"15\": 127, \"13\": 7, \"2\": 12, \"4\": 26, \"7\": 2, \"8\": 5}, \"7\": {\"7\": 690, \"2\": 199, \"9\": 82, \"3\": 69, \"8\": 89, \"6\": 37, \"4\": 10, \"13\": 6, \"12\": 5, \"14\": 6, \"10\": 3, \"11\": 4}, \"6\": {\"6\": 933, \"14\": 191, \"8\": 13, \"7\": 37, \"10\": 15, \"11\": 8, \"2\": 2, \"4\": 1}, \"10\": {\"10\": 779, \"14\": 201, \"8\": 120, \"4\": 67, \"7\": 11, \"6\": 19, \"9\": 1, \"3\": 1, \"2\": 1}, \"5\": {\"1\": 244, \"12\": 164, \"0\": 285, \"5\": 305, \"9\": 24, \"3\": 46, \"13\": 6, \"15\": 101, \"4\": 18, \"2\": 6, \"8\": 1}, \"2\": {\"2\": 427, \"7\": 193, \"13\": 121, \"9\": 255, \"3\": 97, \"12\": 50, \"1\": 15, \"15\": 12, \"0\": 7, \"8\": 8, \"5\": 10, \"10\": 1, \"11\": 2, \"6\": 1, \"4\": 1}, \"12\": {\"5\": 156, \"12\": 311, \"4\": 27, \"3\": 200, \"0\": 95, \"9\": 141, \"1\": 134, \"10\": 1, \"13\": 21, \"8\": 4, \"2\": 49, \"7\": 13, \"15\": 48}, \"9\": {\"3\": 203, \"2\": 284, \"4\": 10, \"9\": 344, \"12\": 128, \"13\": 73, \"1\": 27, \"7\": 83, \"5\": 20, \"8\": 12, \"10\": 1, \"15\": 10, \"0\": 5}, \"1\": {\"1\": 316, \"5\": 210, \"13\": 20, \"0\": 148, \"3\": 24, \"12\": 146, \"15\": 306, \"9\": 21, \"2\": 8, \"4\": 1}, \"11\": {\"11\": 1189, \"2\": 2, \"13\": 1, \"6\": 6, \"7\": 2}, \"13\": {\"13\": 925, \"9\": 54, \"2\": 135, \"12\": 13, \"15\": 36, \"7\": 13, \"1\": 14, \"0\": 2, \"11\": 3, \"3\": 3, \"5\": 2}}, \"44\": {\"5\": {\"5\": 975, \"15\": 55, \"0\": 105, \"14\": 49, \"4\": 4, \"8\": 12}, \"8\": {\"0\": 402, \"8\": 739, \"15\": 36, \"5\": 22, \"14\": 1}, \"11\": {\"11\": 1073, \"6\": 48, \"13\": 78, \"9\": 1}, \"1\": {\"1\": 620, \"10\": 96, \"12\": 245, \"3\": 184, \"2\": 54, \"7\": 1}, \"10\": {\"10\": 823, \"12\": 115, \"1\": 108, \"2\": 154}, \"15\": {\"15\": 928, \"0\": 85, \"14\": 125, \"5\": 30, \"8\": 15, \"4\": 17}, \"3\": {\"3\": 1038, \"1\": 136, \"12\": 21, \"10\": 1, \"2\": 4}, \"7\": {\"7\": 730, \"9\": 210, \"6\": 51, \"2\": 188, \"1\": 6, \"3\": 9, \"13\": 5, \"10\": 1}, \"4\": {\"14\": 408, \"4\": 778, \"15\": 10, \"13\": 3, \"5\": 1}, \"14\": {\"14\": 697, \"15\": 75, \"4\": 411, \"5\": 17}, \"9\": {\"7\": 257, \"9\": 667, \"6\": 113, \"13\": 140, \"2\": 17, \"14\": 2, \"11\": 1, \"3\": 1, \"4\": 2}, \"12\": {\"12\": 803, \"1\": 273, \"10\": 87, \"3\": 36, \"2\": 1}, \"6\": {\"6\": 769, \"13\": 208, \"9\": 147, \"11\": 26, \"7\": 49, \"2\": 1}, \"2\": {\"2\": 778, \"7\": 198, \"1\": 81, \"10\": 120, \"12\": 2, \"6\": 3, \"3\": 10, \"9\": 8}, \"0\": {\"0\": 699, \"5\": 91, \"15\": 93, \"8\": 317}, \"13\": {\"13\": 761, \"6\": 233, \"9\": 143, \"11\": 44, \"7\": 12, \"4\": 6, \"14\": 1}}, \"38\": {\"14\": {\"14\": 910, \"11\": 189, \"10\": 9, \"2\": 71, \"12\": 16, \"13\": 5}, \"0\": {\"8\": 317, \"0\": 368, \"7\": 270, \"3\": 58, \"10\": 40, \"5\": 131, \"15\": 3, \"4\": 4, \"9\": 4, \"12\": 2, \"6\": 3}, \"13\": {\"13\": 691, \"15\": 341, \"10\": 83, \"8\": 20, \"2\": 34, \"1\": 19, \"0\": 3, \"12\": 2, \"5\": 7}, \"7\": {\"0\": 226, \"7\": 884, \"3\": 16, \"8\": 42, \"5\": 30, \"10\": 2}, \"9\": {\"6\": 461, \"9\": 667, \"3\": 52, \"5\": 19, \"7\": 1}, \"3\": {\"3\": 985, \"9\": 116, \"7\": 55, \"6\": 16, \"5\": 14, \"0\": 14}, \"11\": {\"14\": 310, \"11\": 832, \"12\": 31, \"4\": 6, \"2\": 7, \"10\": 14}, \"6\": {\"9\": 325, \"6\": 858, \"5\": 13, \"15\": 1, \"3\": 1, \"8\": 1, \"0\": 1}, \"8\": {\"8\": 639, \"0\": 215, \"5\": 243, \"10\": 31, \"15\": 25, \"12\": 1, \"7\": 34, \"13\": 10, \"1\": 2}, \"4\": {\"4\": 1115, \"12\": 77, \"10\": 5, \"7\": 3}, \"5\": {\"5\": 534, \"8\": 278, \"3\": 47, \"1\": 23, \"0\": 88, \"10\": 7, \"6\": 54, \"9\": 37, \"15\": 48, \"7\": 74, \"13\": 10}, \"10\": {\"10\": 860, \"0\": 32, \"13\": 102, \"8\": 63, \"15\": 12, \"12\": 90, \"4\": 8, \"14\": 13, \"11\": 3, \"7\": 11, \"5\": 3, \"2\": 3}, \"1\": {\"1\": 1129, \"15\": 63, \"8\": 1, \"13\": 3, \"5\": 4}, \"2\": {\"2\": 1066, \"13\": 37, \"14\": 90, \"11\": 2, \"15\": 2, \"10\": 3}, \"15\": {\"13\": 276, \"15\": 728, \"8\": 44, \"1\": 99, \"0\": 5, \"5\": 32, \"10\": 15, \"2\": 1}, \"12\": {\"10\": 46, \"12\": 1112, \"4\": 38, \"11\": 2, \"14\": 1, \"0\": 1}}, \"26\": {\"13\": {\"5\": 237, \"13\": 786, \"15\": 93, \"9\": 39, \"6\": 20, \"2\": 20, \"3\": 3, \"10\": 1, \"8\": 1}, \"2\": {\"2\": 444, \"8\": 39, \"15\": 67, \"3\": 390, \"5\": 86, \"7\": 127, \"9\": 31, \"13\": 6, \"4\": 5, \"0\": 4, \"10\": 1}, \"8\": {\"8\": 337, \"9\": 117, \"4\": 104, \"0\": 112, \"7\": 114, \"10\": 152, \"15\": 84, \"14\": 43, \"5\": 23, \"6\": 58, \"1\": 20, \"2\": 28, \"3\": 7, \"13\": 1}, \"9\": {\"9\": 358, \"15\": 280, \"6\": 167, \"13\": 39, \"5\": 91, \"2\": 23, \"10\": 42, \"8\": 143, \"0\": 22, \"7\": 21, \"14\": 5, \"4\": 8, \"3\": 1}, \"12\": {\"12\": 1194, \"11\": 6}, \"4\": {\"4\": 344, \"14\": 223, \"0\": 144, \"8\": 131, \"10\": 80, \"1\": 155, \"7\": 104, \"6\": 4, \"15\": 3, \"2\": 5, \"9\": 4, \"3\": 2, \"5\": 1}, \"3\": {\"3\": 675, \"2\": 288, \"7\": 217, \"0\": 1, \"4\": 6, \"14\": 1, \"5\": 2, \"9\": 1, \"8\": 5, \"1\": 1, \"15\": 3}, \"15\": {\"13\": 69, \"8\": 94, \"15\": 341, \"9\": 286, \"6\": 46, \"5\": 233, \"10\": 16, \"7\": 29, \"2\": 62, \"4\": 7, \"0\": 10, \"3\": 6, \"14\": 1}, \"14\": {\"1\": 285, \"0\": 186, \"8\": 25, \"14\": 342, \"4\": 215, \"10\": 116, \"7\": 27, \"9\": 3, \"15\": 1}, \"10\": {\"4\": 98, \"1\": 57, \"14\": 110, \"0\": 245, \"9\": 41, \"10\": 353, \"8\": 146, \"6\": 128, \"15\": 13, \"7\": 6, \"3\": 1, \"5\": 2}, \"7\": {\"4\": 117, \"7\": 530, \"3\": 209, \"2\": 144, \"8\": 93, \"15\": 19, \"14\": 23, \"0\": 17, \"9\": 14, \"1\": 19, \"5\": 9, \"10\": 6}, \"11\": {\"11\": 1190, \"12\": 10}, \"6\": {\"6\": 728, \"9\": 172, \"8\": 58, \"0\": 35, \"15\": 49, \"10\": 128, \"13\": 15, \"14\": 4, \"4\": 1, \"5\": 9, \"7\": 1}, \"1\": {\"0\": 68, \"7\": 26, \"1\": 572, \"4\": 194, \"14\": 271, \"10\": 48, \"8\": 16, \"3\": 3, \"2\": 2}, \"5\": {\"5\": 566, \"13\": 195, \"2\": 66, \"15\": 217, \"9\": 98, \"8\": 29, \"7\": 12, \"3\": 8, \"6\": 7, \"10\": 1, \"4\": 1}, \"0\": {\"1\": 88, \"10\": 236, \"0\": 240, \"14\": 221, \"4\": 188, \"8\": 123, \"7\": 36, \"6\": 39, \"9\": 19, \"2\": 4, \"15\": 4, \"5\": 1, \"3\": 1}}}, \"per_domain_accuracy\": {\"8\": {\"accuracy\": 0.6334375, \"source?\": true}, \"50\": {\"accuracy\": 0.726875, \"source?\": true}, \"32\": {\"accuracy\": 0.7164583333333333, \"source?\": true}, \"14\": {\"accuracy\": 0.7308333333333333, \"source?\": false}, \"20\": {\"accuracy\": 0.5108333333333334, \"source?\": false}, \"44\": {\"accuracy\": 0.6707291666666667, \"source?\": false}, \"38\": {\"accuracy\": 0.6967708333333333, \"source?\": false}, \"26\": {\"accuracy\": 0.46875, \"source?\": false}}}, \"history\": {\"epoch_indices\": [1, 2, 3, 4, 5, 6, 7, 8, 9, 10, 11], \"train_label_loss\": [1.3699759024452596, 0.877499724508278, 0.749586373314498, 0.6580018963806686, 0.5733348719503671, 0.4956104347245797, 0.4292939302603167, 0.37185980189606427, 0.3251444236546873, 0.282820575418956, 0.25055371741281957], \"source_val_label_loss\": [1.0529780387878418, 0.892227053642273, 0.8547257781028748, 0.8459404110908508, 0.841192364692688, 0.883914053440094, 0.9284270405769348, 0.9462220668792725, 1.0027958154678345, 1.0778508186340332, 1.111770510673523], \"target_val_label_loss\": [1.291664481163025, 1.10765540599823, 1.0567175149917603, 1.0346182584762573, 1.0420787334442139, 1.0887702703475952, 1.1151556968688965, 1.1370913982391357, 1.2182271480560303, 1.272607684135437, 1.3199917078018188], \"source_val_acc_label\": [0.6114930555555556, 0.6602256944444445, 0.6861111111111111, 0.6901215277777778, 0.6933333333333334, 0.6911458333333333, 0.6922569444444444, 0.6879513888888888, 0.6871180555555556, 0.6906944444444445, 0.6862847222222223], \"target_val_acc_label\": [0.5204166666666666, 0.5816354166666666, 0.6079270833333333, 0.6155625, 0.614625, 0.6121666666666666, 0.6155833333333334, 0.608875, 0.6045729166666667, 0.61071875, 0.603]}, \"dataset_metrics\": {\"source\": {\"train\": {\"n_unique_x\": 336000, \"n_unique_y\": 16, \"n_batch/episode\": 12600}, \"val\": {\"n_unique_x\": 72000, \"n_unique_y\": 16, \"n_batch/episode\": 1800}, \"test\": {\"n_unique_x\": 72000, \"n_unique_y\": 16, \"n_batch/episode\": 1800}}, \"target\": {\"train\": {\"n_unique_x\": 560000, \"n_unique_y\": 16, \"n_batch/episode\": 21000}, \"val\": {\"n_unique_x\": 120000, \"n_unique_y\": 16, \"n_batch/episode\": 3000}, \"test\": {\"n_unique_x\": 120000, \"n_unique_y\": 16, \"n_batch/episode\": 3000}}}}'"
      ]
     },
     "execution_count": 20,
     "metadata": {},
     "output_type": "execute_result"
    }
   ],
   "source": [
    "json.dumps(experiment)"
   ]
  }
 ],
 "metadata": {
  "celltoolbar": "Tags",
  "kernelspec": {
   "display_name": "Python 3 (ipykernel)",
   "language": "python",
   "name": "python3"
  },
  "language_info": {
   "codemirror_mode": {
    "name": "ipython",
    "version": 3
   },
   "file_extension": ".py",
   "mimetype": "text/x-python",
   "name": "python",
   "nbconvert_exporter": "python",
   "pygments_lexer": "ipython3",
   "version": "3.8.12"
  },
  "papermill": {
   "default_parameters": {},
   "duration": 7637.932975,
   "end_time": "2022-03-26T08:17:36.869726",
   "environment_variables": {},
   "exception": null,
   "input_path": "/root/csc500-main/csc500-notebooks/templates/ptn_template.ipynb",
   "output_path": "trial.ipynb",
   "parameters": {
    "parameters": {
     "BEST_MODEL_PATH": "./best_model.pth",
     "NUM_LOGS_PER_EPOCH": 10,
     "criteria_for_best": "target_accuracy",
     "dataset_seed": 1337,
     "device": "cuda",
     "domains_source": [
      8,
      32,
      50
     ],
     "domains_target": [
      14,
      20,
      26,
      38,
      44
     ],
     "episode_transforms_source": [],
     "episode_transforms_target": [],
     "experiment_name": "tuned_1v2:oracle.run1_limited",
     "labels_source": [
      "3123D52",
      "3123D65",
      "3123D79",
      "3123D80",
      "3123D54",
      "3123D70",
      "3123D7B",
      "3123D89",
      "3123D58",
      "3123D76",
      "3123D7D",
      "3123EFE",
      "3123D64",
      "3123D78",
      "3123D7E",
      "3124E4A"
     ],
     "labels_target": [
      "3123D52",
      "3123D65",
      "3123D79",
      "3123D80",
      "3123D54",
      "3123D70",
      "3123D7B",
      "3123D89",
      "3123D58",
      "3123D76",
      "3123D7D",
      "3123EFE",
      "3123D64",
      "3123D78",
      "3123D7E",
      "3124E4A"
     ],
     "lr": 0.0001,
     "n_epoch": 50,
     "n_query": 2,
     "n_shot": 3,
     "n_way": 16,
     "num_examples_per_domain_per_label_source": -1,
     "num_examples_per_domain_per_label_target": -1,
     "patience": 3,
     "pickle_name": "oracle.Run1_10kExamples_stratified_ds.2022A.pkl",
     "seed": 1337,
     "test_k_factor": 2,
     "torch_default_dtype": "torch.float32",
     "train_k_factor": 3,
     "val_k_factor": 2,
     "x_net": [
      {
       "class": "nnReshape",
       "kargs": {
        "shape": [
         -1,
         1,
         2,
         256
        ]
       }
      },
      {
       "class": "Conv2d",
       "kargs": {
        "bias": false,
        "in_channels": 1,
        "kernel_size": [
         1,
         7
        ],
        "out_channels": 256,
        "padding": [
         0,
         3
        ]
       }
      },
      {
       "class": "ReLU",
       "kargs": {
        "inplace": true
       }
      },
      {
       "class": "BatchNorm2d",
       "kargs": {
        "num_features": 256
       }
      },
      {
       "class": "Conv2d",
       "kargs": {
        "bias": true,
        "in_channels": 256,
        "kernel_size": [
         2,
         7
        ],
        "out_channels": 80,
        "padding": [
         0,
         3
        ]
       }
      },
      {
       "class": "ReLU",
       "kargs": {
        "inplace": true
       }
      },
      {
       "class": "BatchNorm2d",
       "kargs": {
        "num_features": 80
       }
      },
      {
       "class": "Flatten",
       "kargs": {}
      },
      {
       "class": "Linear",
       "kargs": {
        "in_features": 20480,
        "out_features": 256
       }
      },
      {
       "class": "ReLU",
       "kargs": {
        "inplace": true
       }
      },
      {
       "class": "BatchNorm1d",
       "kargs": {
        "num_features": 256
       }
      },
      {
       "class": "Linear",
       "kargs": {
        "in_features": 256,
        "out_features": 256
       }
      }
     ],
     "x_transforms_source": [
      "unit_power"
     ],
     "x_transforms_target": [
      "unit_power"
     ]
    }
   },
   "start_time": "2022-03-26T06:10:18.936751",
   "version": "2.3.4"
  }
 },
 "nbformat": 4,
 "nbformat_minor": 5
}