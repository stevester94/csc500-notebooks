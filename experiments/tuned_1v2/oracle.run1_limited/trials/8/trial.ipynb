{
 "cells": [
  {
   "cell_type": "markdown",
   "id": "9fea5f46",
   "metadata": {
    "papermill": {
     "duration": 0.014157,
     "end_time": "2022-04-01T21:47:58.790579",
     "exception": false,
     "start_time": "2022-04-01T21:47:58.776422",
     "status": "completed"
    },
    "tags": []
   },
   "source": [
    "# PTN Template\n",
    "This notebook serves as a template for single dataset PTN experiments  \n",
    "It can be run on its own by setting STANDALONE to True (do a find for \"STANDALONE\" to see where)  \n",
    "But it is intended to be executed as part of a *papermill.py script. See any of the   \n",
    "experimentes with a papermill script to get started with that workflow.  "
   ]
  },
  {
   "cell_type": "code",
   "execution_count": 1,
   "id": "0902182a",
   "metadata": {
    "execution": {
     "iopub.execute_input": "2022-04-01T21:47:58.822839Z",
     "iopub.status.busy": "2022-04-01T21:47:58.822453Z",
     "iopub.status.idle": "2022-04-01T21:47:59.729544Z",
     "shell.execute_reply": "2022-04-01T21:47:59.729259Z"
    },
    "papermill": {
     "duration": 0.929946,
     "end_time": "2022-04-01T21:47:59.729600",
     "exception": false,
     "start_time": "2022-04-01T21:47:58.799654",
     "status": "completed"
    },
    "tags": []
   },
   "outputs": [],
   "source": [
    "%load_ext autoreload\n",
    "%autoreload 2\n",
    "%matplotlib inline\n",
    "\n",
    "    \n",
    "import os, json, sys, time, random\n",
    "import numpy as np\n",
    "import torch\n",
    "from torch.optim import Adam\n",
    "from  easydict import EasyDict\n",
    "import matplotlib.pyplot as plt\n",
    "\n",
    "from steves_models.steves_ptn import Steves_Prototypical_Network\n",
    "\n",
    "from steves_utils.lazy_iterable_wrapper import Lazy_Iterable_Wrapper\n",
    "from steves_utils.iterable_aggregator import Iterable_Aggregator\n",
    "from steves_utils.ptn_train_eval_test_jig import  PTN_Train_Eval_Test_Jig\n",
    "from steves_utils.torch_sequential_builder import build_sequential\n",
    "from steves_utils.torch_utils import get_dataset_metrics, ptn_confusion_by_domain_over_dataloader\n",
    "from steves_utils.utils_v2 import (per_domain_accuracy_from_confusion, get_datasets_base_path)\n",
    "from steves_utils.PTN.utils import independent_accuracy_assesment\n",
    "\n",
    "from steves_utils.stratified_dataset.episodic_accessor import Episodic_Accessor_Factory\n",
    "\n",
    "from steves_utils.ptn_do_report import (\n",
    "    get_loss_curve,\n",
    "    get_results_table,\n",
    "    get_parameters_table,\n",
    "    get_domain_accuracies,\n",
    ")\n",
    "\n",
    "from steves_utils.transforms import get_chained_transform"
   ]
  },
  {
   "cell_type": "markdown",
   "id": "41c840b4",
   "metadata": {
    "papermill": {
     "duration": 0.009135,
     "end_time": "2022-04-01T21:47:59.748137",
     "exception": false,
     "start_time": "2022-04-01T21:47:59.739002",
     "status": "completed"
    },
    "tags": []
   },
   "source": [
    "# Required Parameters\n",
    "These are allowed parameters, not defaults\n",
    "Each of these values need to be present in the injected parameters (the notebook will raise an exception if they are not present)\n",
    "\n",
    "Papermill uses the cell tag \"parameters\" to inject the real parameters below this cell.\n",
    "Enable tags to see what I mean"
   ]
  },
  {
   "cell_type": "code",
   "execution_count": 2,
   "id": "fd44eb83",
   "metadata": {
    "execution": {
     "iopub.execute_input": "2022-04-01T21:47:59.769667Z",
     "iopub.status.busy": "2022-04-01T21:47:59.769410Z",
     "iopub.status.idle": "2022-04-01T21:47:59.783085Z",
     "shell.execute_reply": "2022-04-01T21:47:59.783479Z"
    },
    "papermill": {
     "duration": 0.026275,
     "end_time": "2022-04-01T21:47:59.783588",
     "exception": false,
     "start_time": "2022-04-01T21:47:59.757313",
     "status": "completed"
    },
    "tags": []
   },
   "outputs": [],
   "source": [
    "required_parameters = {\n",
    "    \"experiment_name\",\n",
    "    \"lr\",\n",
    "    \"device\",\n",
    "    \"seed\",\n",
    "    \"dataset_seed\",\n",
    "    \"labels_source\",\n",
    "    \"labels_target\",\n",
    "    \"domains_source\",\n",
    "    \"domains_target\",\n",
    "    \"num_examples_per_domain_per_label_source\",\n",
    "    \"num_examples_per_domain_per_label_target\",\n",
    "    \"n_shot\",\n",
    "    \"n_way\",\n",
    "    \"n_query\",\n",
    "    \"train_k_factor\",\n",
    "    \"val_k_factor\",\n",
    "    \"test_k_factor\",\n",
    "    \"n_epoch\",\n",
    "    \"patience\",\n",
    "    \"criteria_for_best\",\n",
    "    \"x_transforms_source\",\n",
    "    \"x_transforms_target\",\n",
    "    \"episode_transforms_source\",\n",
    "    \"episode_transforms_target\",\n",
    "    \"pickle_name\",\n",
    "    \"x_net\",\n",
    "    \"NUM_LOGS_PER_EPOCH\",\n",
    "    \"BEST_MODEL_PATH\",\n",
    "    \"torch_default_dtype\"\n",
    "}"
   ]
  },
  {
   "cell_type": "code",
   "execution_count": 3,
   "id": "fa3f0049",
   "metadata": {
    "execution": {
     "iopub.execute_input": "2022-04-01T21:47:59.814355Z",
     "iopub.status.busy": "2022-04-01T21:47:59.813949Z",
     "iopub.status.idle": "2022-04-01T21:47:59.825385Z",
     "shell.execute_reply": "2022-04-01T21:47:59.825659Z"
    },
    "papermill": {
     "duration": 0.028817,
     "end_time": "2022-04-01T21:47:59.825741",
     "exception": false,
     "start_time": "2022-04-01T21:47:59.796924",
     "status": "completed"
    },
    "tags": [
     "parameters"
    ]
   },
   "outputs": [],
   "source": [
    "\n",
    "\n",
    "standalone_parameters = {}\n",
    "standalone_parameters[\"experiment_name\"] = \"STANDALONE PTN\"\n",
    "standalone_parameters[\"lr\"] = 0.0001\n",
    "standalone_parameters[\"device\"] = \"cuda\"\n",
    "\n",
    "standalone_parameters[\"seed\"] = 1337\n",
    "standalone_parameters[\"dataset_seed\"] = 1337\n",
    "\n",
    "\n",
    "standalone_parameters[\"num_examples_per_domain_per_label_source\"]=100\n",
    "standalone_parameters[\"num_examples_per_domain_per_label_target\"]=100\n",
    "\n",
    "standalone_parameters[\"n_shot\"] = 3\n",
    "standalone_parameters[\"n_query\"]  = 2\n",
    "standalone_parameters[\"train_k_factor\"] = 1\n",
    "standalone_parameters[\"val_k_factor\"] = 2\n",
    "standalone_parameters[\"test_k_factor\"] = 2\n",
    "\n",
    "\n",
    "standalone_parameters[\"n_epoch\"] = 100\n",
    "\n",
    "standalone_parameters[\"patience\"] = 10\n",
    "standalone_parameters[\"criteria_for_best\"] = \"target_accuracy\"\n",
    "\n",
    "standalone_parameters[\"x_transforms_source\"] = [\"unit_power\"]\n",
    "standalone_parameters[\"x_transforms_target\"] = [\"unit_power\"]\n",
    "standalone_parameters[\"episode_transforms_source\"] = []\n",
    "standalone_parameters[\"episode_transforms_target\"] = []\n",
    "\n",
    "standalone_parameters[\"torch_default_dtype\"] = \"torch.float32\" \n",
    "\n",
    "\n",
    "\n",
    "standalone_parameters[\"x_net\"] =     [\n",
    "    {\"class\": \"nnReshape\", \"kargs\": {\"shape\":[-1, 1, 2, 256]}},\n",
    "    {\"class\": \"Conv2d\", \"kargs\": { \"in_channels\":1, \"out_channels\":256, \"kernel_size\":(1,7), \"bias\":False, \"padding\":(0,3), },},\n",
    "    {\"class\": \"ReLU\", \"kargs\": {\"inplace\": True}},\n",
    "    {\"class\": \"BatchNorm2d\", \"kargs\": {\"num_features\":256}},\n",
    "\n",
    "    {\"class\": \"Conv2d\", \"kargs\": { \"in_channels\":256, \"out_channels\":80, \"kernel_size\":(2,7), \"bias\":True, \"padding\":(0,3), },},\n",
    "    {\"class\": \"ReLU\", \"kargs\": {\"inplace\": True}},\n",
    "    {\"class\": \"BatchNorm2d\", \"kargs\": {\"num_features\":80}},\n",
    "    {\"class\": \"Flatten\", \"kargs\": {}},\n",
    "\n",
    "    {\"class\": \"Linear\", \"kargs\": {\"in_features\": 80*256, \"out_features\": 256}}, # 80 units per IQ pair\n",
    "    {\"class\": \"ReLU\", \"kargs\": {\"inplace\": True}},\n",
    "    {\"class\": \"BatchNorm1d\", \"kargs\": {\"num_features\":256}},\n",
    "\n",
    "    {\"class\": \"Linear\", \"kargs\": {\"in_features\": 256, \"out_features\": 256}},\n",
    "]\n",
    "\n",
    "# Parameters relevant to results\n",
    "# These parameters will basically never need to change\n",
    "standalone_parameters[\"NUM_LOGS_PER_EPOCH\"] = 10\n",
    "standalone_parameters[\"BEST_MODEL_PATH\"] = \"./best_model.pth\"\n",
    "\n",
    "# uncomment for CORES dataset\n",
    "from steves_utils.CORES.utils import (\n",
    "    ALL_NODES,\n",
    "    ALL_NODES_MINIMUM_1000_EXAMPLES,\n",
    "    ALL_DAYS\n",
    ")\n",
    "\n",
    "\n",
    "standalone_parameters[\"labels_source\"] = ALL_NODES\n",
    "standalone_parameters[\"labels_target\"] = ALL_NODES\n",
    "\n",
    "standalone_parameters[\"domains_source\"] = [1]\n",
    "standalone_parameters[\"domains_target\"] = [2,3,4,5]\n",
    "\n",
    "standalone_parameters[\"pickle_name\"] = \"cores.stratified_ds.2022A.pkl\"\n",
    "\n",
    "\n",
    "# Uncomment these for ORACLE dataset\n",
    "# from steves_utils.ORACLE.utils_v2 import (\n",
    "#     ALL_DISTANCES_FEET,\n",
    "#     ALL_RUNS,\n",
    "#     ALL_SERIAL_NUMBERS,\n",
    "# )\n",
    "# standalone_parameters[\"labels_source\"] = ALL_SERIAL_NUMBERS\n",
    "# standalone_parameters[\"labels_target\"] = ALL_SERIAL_NUMBERS\n",
    "# standalone_parameters[\"domains_source\"] = [8,20, 38,50]\n",
    "# standalone_parameters[\"domains_target\"] = [14, 26, 32, 44, 56]\n",
    "# standalone_parameters[\"pickle_name\"] = \"oracle.frame_indexed.stratified_ds.2022A.pkl\"\n",
    "# standalone_parameters[\"num_examples_per_domain_per_label_source\"]=1000\n",
    "# standalone_parameters[\"num_examples_per_domain_per_label_target\"]=1000\n",
    "\n",
    "# Uncomment these for Metahan dataset\n",
    "# standalone_parameters[\"labels_source\"] = list(range(19))\n",
    "# standalone_parameters[\"labels_target\"] = list(range(19))\n",
    "# standalone_parameters[\"domains_source\"] = [0]\n",
    "# standalone_parameters[\"domains_target\"] = [1]\n",
    "# standalone_parameters[\"pickle_name\"] = \"metehan.stratified_ds.2022A.pkl\"\n",
    "# standalone_parameters[\"n_way\"]  = len(standalone_parameters[\"labels_source\"])\n",
    "# standalone_parameters[\"num_examples_per_domain_per_label_source\"]=200\n",
    "# standalone_parameters[\"num_examples_per_domain_per_label_target\"]=100\n",
    "\n",
    "\n",
    "standalone_parameters[\"n_way\"]  = len(standalone_parameters[\"labels_source\"])"
   ]
  },
  {
   "cell_type": "code",
   "execution_count": 4,
   "id": "28f5e394",
   "metadata": {
    "execution": {
     "iopub.execute_input": "2022-04-01T21:47:59.856628Z",
     "iopub.status.busy": "2022-04-01T21:47:59.856353Z",
     "iopub.status.idle": "2022-04-01T21:47:59.868653Z",
     "shell.execute_reply": "2022-04-01T21:47:59.869003Z"
    },
    "papermill": {
     "duration": 0.029976,
     "end_time": "2022-04-01T21:47:59.869107",
     "exception": false,
     "start_time": "2022-04-01T21:47:59.839131",
     "status": "completed"
    },
    "tags": [
     "injected-parameters"
    ]
   },
   "outputs": [],
   "source": [
    "# Parameters\n",
    "parameters = {\n",
    "    \"experiment_name\": \"tuned_1v2:oracle.run1_limited\",\n",
    "    \"device\": \"cuda\",\n",
    "    \"lr\": 0.0001,\n",
    "    \"labels_source\": [\n",
    "        \"3123D52\",\n",
    "        \"3123D65\",\n",
    "        \"3123D79\",\n",
    "        \"3123D80\",\n",
    "        \"3123D54\",\n",
    "        \"3123D70\",\n",
    "        \"3123D7B\",\n",
    "        \"3123D89\",\n",
    "        \"3123D58\",\n",
    "        \"3123D76\",\n",
    "        \"3123D7D\",\n",
    "        \"3123EFE\",\n",
    "        \"3123D64\",\n",
    "        \"3123D78\",\n",
    "        \"3123D7E\",\n",
    "        \"3124E4A\",\n",
    "    ],\n",
    "    \"labels_target\": [\n",
    "        \"3123D52\",\n",
    "        \"3123D65\",\n",
    "        \"3123D79\",\n",
    "        \"3123D80\",\n",
    "        \"3123D54\",\n",
    "        \"3123D70\",\n",
    "        \"3123D7B\",\n",
    "        \"3123D89\",\n",
    "        \"3123D58\",\n",
    "        \"3123D76\",\n",
    "        \"3123D7D\",\n",
    "        \"3123EFE\",\n",
    "        \"3123D64\",\n",
    "        \"3123D78\",\n",
    "        \"3123D7E\",\n",
    "        \"3124E4A\",\n",
    "    ],\n",
    "    \"episode_transforms_source\": [],\n",
    "    \"episode_transforms_target\": [],\n",
    "    \"domains_source\": [8, 32, 50],\n",
    "    \"domains_target\": [14, 20, 26, 38, 44],\n",
    "    \"num_examples_per_domain_per_label_source\": 2000,\n",
    "    \"num_examples_per_domain_per_label_target\": 2000,\n",
    "    \"n_shot\": 3,\n",
    "    \"n_way\": 16,\n",
    "    \"n_query\": 2,\n",
    "    \"train_k_factor\": 3,\n",
    "    \"val_k_factor\": 2,\n",
    "    \"test_k_factor\": 2,\n",
    "    \"torch_default_dtype\": \"torch.float32\",\n",
    "    \"n_epoch\": 50,\n",
    "    \"patience\": 3,\n",
    "    \"criteria_for_best\": \"target_accuracy\",\n",
    "    \"x_net\": [\n",
    "        {\"class\": \"nnReshape\", \"kargs\": {\"shape\": [-1, 1, 2, 256]}},\n",
    "        {\n",
    "            \"class\": \"Conv2d\",\n",
    "            \"kargs\": {\n",
    "                \"in_channels\": 1,\n",
    "                \"out_channels\": 256,\n",
    "                \"kernel_size\": [1, 7],\n",
    "                \"bias\": False,\n",
    "                \"padding\": [0, 3],\n",
    "            },\n",
    "        },\n",
    "        {\"class\": \"ReLU\", \"kargs\": {\"inplace\": True}},\n",
    "        {\"class\": \"BatchNorm2d\", \"kargs\": {\"num_features\": 256}},\n",
    "        {\n",
    "            \"class\": \"Conv2d\",\n",
    "            \"kargs\": {\n",
    "                \"in_channels\": 256,\n",
    "                \"out_channels\": 80,\n",
    "                \"kernel_size\": [2, 7],\n",
    "                \"bias\": True,\n",
    "                \"padding\": [0, 3],\n",
    "            },\n",
    "        },\n",
    "        {\"class\": \"ReLU\", \"kargs\": {\"inplace\": True}},\n",
    "        {\"class\": \"BatchNorm2d\", \"kargs\": {\"num_features\": 80}},\n",
    "        {\"class\": \"Flatten\", \"kargs\": {}},\n",
    "        {\"class\": \"Linear\", \"kargs\": {\"in_features\": 20480, \"out_features\": 256}},\n",
    "        {\"class\": \"ReLU\", \"kargs\": {\"inplace\": True}},\n",
    "        {\"class\": \"BatchNorm1d\", \"kargs\": {\"num_features\": 256}},\n",
    "        {\"class\": \"Linear\", \"kargs\": {\"in_features\": 256, \"out_features\": 256}},\n",
    "    ],\n",
    "    \"NUM_LOGS_PER_EPOCH\": 10,\n",
    "    \"BEST_MODEL_PATH\": \"./best_model.pth\",\n",
    "    \"pickle_name\": \"oracle.Run1_10kExamples_stratified_ds.2022A.pkl\",\n",
    "    \"x_transforms_source\": [\"unit_power\"],\n",
    "    \"x_transforms_target\": [\"unit_power\"],\n",
    "    \"dataset_seed\": 1337,\n",
    "    \"seed\": 1337,\n",
    "}\n"
   ]
  },
  {
   "cell_type": "code",
   "execution_count": 5,
   "id": "8fa1cc33",
   "metadata": {
    "execution": {
     "iopub.execute_input": "2022-04-01T21:47:59.895907Z",
     "iopub.status.busy": "2022-04-01T21:47:59.895659Z",
     "iopub.status.idle": "2022-04-01T21:47:59.909945Z",
     "shell.execute_reply": "2022-04-01T21:47:59.909508Z"
    },
    "papermill": {
     "duration": 0.027012,
     "end_time": "2022-04-01T21:47:59.910031",
     "exception": false,
     "start_time": "2022-04-01T21:47:59.883019",
     "status": "completed"
    },
    "tags": []
   },
   "outputs": [],
   "source": [
    "# Set this to True if you want to run this template directly\n",
    "STANDALONE = False\n",
    "if STANDALONE:\n",
    "    print(\"parameters not injected, running with standalone_parameters\")\n",
    "    parameters = standalone_parameters\n",
    "\n",
    "if not 'parameters' in locals() and not 'parameters' in globals():\n",
    "    raise Exception(\"Parameter injection failed\")\n",
    "\n",
    "#Use an easy dict for all the parameters\n",
    "p = EasyDict(parameters)\n",
    "\n",
    "supplied_keys = set(p.keys())\n",
    "\n",
    "if  supplied_keys != required_parameters:\n",
    "    print(\"Parameters are incorrect\")\n",
    "    if len(supplied_keys - required_parameters)>0: print(\"Shouldn't have:\", str(supplied_keys - required_parameters))\n",
    "    if len(required_parameters - supplied_keys)>0: print(\"Need to have:\", str(required_parameters - supplied_keys))\n",
    "    raise RuntimeError(\"Parameters are incorrect\")\n",
    "\n"
   ]
  },
  {
   "cell_type": "code",
   "execution_count": 6,
   "id": "3a028d58",
   "metadata": {
    "execution": {
     "iopub.execute_input": "2022-04-01T21:47:59.935385Z",
     "iopub.status.busy": "2022-04-01T21:47:59.935141Z",
     "iopub.status.idle": "2022-04-01T21:47:59.951099Z",
     "shell.execute_reply": "2022-04-01T21:47:59.950645Z"
    },
    "papermill": {
     "duration": 0.027765,
     "end_time": "2022-04-01T21:47:59.951186",
     "exception": false,
     "start_time": "2022-04-01T21:47:59.923421",
     "status": "completed"
    },
    "tags": []
   },
   "outputs": [],
   "source": [
    "###################################\n",
    "# Set the RNGs and make it all deterministic\n",
    "###################################\n",
    "np.random.seed(p.seed)\n",
    "random.seed(p.seed)\n",
    "torch.manual_seed(p.seed)\n",
    "\n",
    "torch.use_deterministic_algorithms(True) "
   ]
  },
  {
   "cell_type": "code",
   "execution_count": 7,
   "id": "b691acf6",
   "metadata": {
    "execution": {
     "iopub.execute_input": "2022-04-01T21:47:59.975970Z",
     "iopub.status.busy": "2022-04-01T21:47:59.975716Z",
     "iopub.status.idle": "2022-04-01T21:47:59.989983Z",
     "shell.execute_reply": "2022-04-01T21:47:59.989681Z"
    },
    "papermill": {
     "duration": 0.025672,
     "end_time": "2022-04-01T21:47:59.990052",
     "exception": false,
     "start_time": "2022-04-01T21:47:59.964380",
     "status": "completed"
    },
    "tags": []
   },
   "outputs": [],
   "source": [
    "###########################################\n",
    "# The stratified datasets honor this\n",
    "###########################################\n",
    "torch.set_default_dtype(eval(p.torch_default_dtype))"
   ]
  },
  {
   "cell_type": "code",
   "execution_count": 8,
   "id": "b5fba671",
   "metadata": {
    "execution": {
     "iopub.execute_input": "2022-04-01T21:48:00.015405Z",
     "iopub.status.busy": "2022-04-01T21:48:00.015155Z",
     "iopub.status.idle": "2022-04-01T21:48:00.056113Z",
     "shell.execute_reply": "2022-04-01T21:48:00.055670Z"
    },
    "papermill": {
     "duration": 0.052606,
     "end_time": "2022-04-01T21:48:00.056200",
     "exception": false,
     "start_time": "2022-04-01T21:48:00.003594",
     "status": "completed"
    },
    "tags": []
   },
   "outputs": [],
   "source": [
    "###################################\n",
    "# Build the network(s)\n",
    "# Note: It's critical to do this AFTER setting the RNG\n",
    "# (This is due to the randomized initial weights)\n",
    "###################################\n",
    "x_net = build_sequential(p.x_net)"
   ]
  },
  {
   "cell_type": "code",
   "execution_count": 9,
   "id": "5d7e61cc",
   "metadata": {
    "execution": {
     "iopub.execute_input": "2022-04-01T21:48:00.081527Z",
     "iopub.status.busy": "2022-04-01T21:48:00.080867Z",
     "iopub.status.idle": "2022-04-01T21:48:00.094531Z",
     "shell.execute_reply": "2022-04-01T21:48:00.094319Z"
    },
    "papermill": {
     "duration": 0.025377,
     "end_time": "2022-04-01T21:48:00.094579",
     "exception": false,
     "start_time": "2022-04-01T21:48:00.069202",
     "status": "completed"
    },
    "tags": []
   },
   "outputs": [],
   "source": [
    "start_time_secs = time.time()"
   ]
  },
  {
   "cell_type": "code",
   "execution_count": 10,
   "id": "fd5442bc",
   "metadata": {
    "execution": {
     "iopub.execute_input": "2022-04-01T21:48:00.125542Z",
     "iopub.status.busy": "2022-04-01T21:48:00.123797Z",
     "iopub.status.idle": "2022-04-01T21:48:19.025682Z",
     "shell.execute_reply": "2022-04-01T21:48:19.025272Z"
    },
    "papermill": {
     "duration": 18.917968,
     "end_time": "2022-04-01T21:48:19.025785",
     "exception": false,
     "start_time": "2022-04-01T21:48:00.107817",
     "status": "completed"
    },
    "tags": []
   },
   "outputs": [],
   "source": [
    "###################################\n",
    "# Build the dataset\n",
    "###################################\n",
    "\n",
    "if p.x_transforms_source == []: x_transform_source = None\n",
    "else: x_transform_source = get_chained_transform(p.x_transforms_source) \n",
    "\n",
    "if p.x_transforms_target == []: x_transform_target = None\n",
    "else: x_transform_target = get_chained_transform(p.x_transforms_target)\n",
    "\n",
    "if p.episode_transforms_source == []: episode_transform_source = None\n",
    "else: raise Exception(\"episode_transform_source not implemented\")\n",
    "\n",
    "if p.episode_transforms_target == []: episode_transform_target = None\n",
    "else: raise Exception(\"episode_transform_target not implemented\")\n",
    "\n",
    "\n",
    "eaf_source = Episodic_Accessor_Factory(\n",
    "    labels=p.labels_source,\n",
    "    domains=p.domains_source,\n",
    "    num_examples_per_domain_per_label=p.num_examples_per_domain_per_label_source,\n",
    "    iterator_seed=p.seed,\n",
    "    dataset_seed=p.dataset_seed,\n",
    "    n_shot=p.n_shot,\n",
    "    n_way=p.n_way,\n",
    "    n_query=p.n_query,\n",
    "    train_val_test_k_factors=(p.train_k_factor,p.val_k_factor,p.test_k_factor),\n",
    "    pickle_path=os.path.join(get_datasets_base_path(), p.pickle_name),\n",
    "    x_transform_func=x_transform_source,\n",
    "    example_transform_func=episode_transform_source,\n",
    "    \n",
    ")\n",
    "train_original_source, val_original_source, test_original_source = eaf_source.get_train(), eaf_source.get_val(), eaf_source.get_test()\n",
    "\n",
    "\n",
    "eaf_target = Episodic_Accessor_Factory(\n",
    "    labels=p.labels_target,\n",
    "    domains=p.domains_target,\n",
    "    num_examples_per_domain_per_label=p.num_examples_per_domain_per_label_target,\n",
    "    iterator_seed=p.seed,\n",
    "    dataset_seed=p.dataset_seed,\n",
    "    n_shot=p.n_shot,\n",
    "    n_way=p.n_way,\n",
    "    n_query=p.n_query,\n",
    "    train_val_test_k_factors=(p.train_k_factor,p.val_k_factor,p.test_k_factor),\n",
    "    pickle_path=os.path.join(get_datasets_base_path(), p.pickle_name),\n",
    "    x_transform_func=x_transform_target,\n",
    "    example_transform_func=episode_transform_target,\n",
    ")\n",
    "train_original_target, val_original_target, test_original_target = eaf_target.get_train(), eaf_target.get_val(), eaf_target.get_test()\n",
    "\n",
    "\n",
    "transform_lambda = lambda ex: ex[1] # Original is (<domain>, <episode>) so we strip down to episode only\n",
    "\n",
    "train_processed_source = Lazy_Iterable_Wrapper(train_original_source, transform_lambda)\n",
    "val_processed_source   = Lazy_Iterable_Wrapper(val_original_source, transform_lambda)\n",
    "test_processed_source  = Lazy_Iterable_Wrapper(test_original_source, transform_lambda)\n",
    "\n",
    "train_processed_target = Lazy_Iterable_Wrapper(train_original_target, transform_lambda)\n",
    "val_processed_target   = Lazy_Iterable_Wrapper(val_original_target, transform_lambda)\n",
    "test_processed_target  = Lazy_Iterable_Wrapper(test_original_target, transform_lambda)\n",
    "\n",
    "datasets = EasyDict({\n",
    "    \"source\": {\n",
    "        \"original\": {\"train\":train_original_source, \"val\":val_original_source, \"test\":test_original_source},\n",
    "        \"processed\": {\"train\":train_processed_source, \"val\":val_processed_source, \"test\":test_processed_source}\n",
    "    },\n",
    "    \"target\": {\n",
    "        \"original\": {\"train\":train_original_target, \"val\":val_original_target, \"test\":test_original_target},\n",
    "        \"processed\": {\"train\":train_processed_target, \"val\":val_processed_target, \"test\":test_processed_target}\n",
    "    },\n",
    "})"
   ]
  },
  {
   "cell_type": "code",
   "execution_count": 11,
   "id": "296189d9",
   "metadata": {
    "execution": {
     "iopub.execute_input": "2022-04-01T21:48:19.055895Z",
     "iopub.status.busy": "2022-04-01T21:48:19.055643Z",
     "iopub.status.idle": "2022-04-01T21:48:20.697283Z",
     "shell.execute_reply": "2022-04-01T21:48:20.697769Z"
    },
    "papermill": {
     "duration": 1.655841,
     "end_time": "2022-04-01T21:48:20.697883",
     "exception": false,
     "start_time": "2022-04-01T21:48:19.042042",
     "status": "completed"
    },
    "tags": []
   },
   "outputs": [
    {
     "name": "stdout",
     "output_type": "stream",
     "text": [
      "Visually inspect these to see if they line up with expected values given the transforms\n",
      "x_transforms_source ['unit_power']\n",
      "x_transforms_target ['unit_power']\n",
      "Average magnitude, source: 0.8852737\n",
      "Average power, source: 1.0\n"
     ]
    },
    {
     "name": "stdout",
     "output_type": "stream",
     "text": [
      "Average magnitude, target: 0.88544965\n",
      "Average power, target: 1.0\n"
     ]
    }
   ],
   "source": [
    "# Some quick unit tests on the data\n",
    "from steves_utils.transforms import get_average_power, get_average_magnitude\n",
    "\n",
    "q_x, q_y, s_x, s_y, truth = next(iter(train_processed_source))\n",
    "\n",
    "assert q_x.dtype == eval(p.torch_default_dtype)\n",
    "assert s_x.dtype == eval(p.torch_default_dtype)\n",
    "\n",
    "print(\"Visually inspect these to see if they line up with expected values given the transforms\")\n",
    "print('x_transforms_source', p.x_transforms_source)\n",
    "print('x_transforms_target', p.x_transforms_target)\n",
    "print(\"Average magnitude, source:\", get_average_magnitude(q_x[0].numpy()))\n",
    "print(\"Average power, source:\", get_average_power(q_x[0].numpy()))\n",
    "\n",
    "q_x, q_y, s_x, s_y, truth = next(iter(train_processed_target))\n",
    "print(\"Average magnitude, target:\", get_average_magnitude(q_x[0].numpy()))\n",
    "print(\"Average power, target:\", get_average_power(q_x[0].numpy()))\n"
   ]
  },
  {
   "cell_type": "code",
   "execution_count": 12,
   "id": "bbdacba1",
   "metadata": {
    "execution": {
     "iopub.execute_input": "2022-04-01T21:48:20.730032Z",
     "iopub.status.busy": "2022-04-01T21:48:20.729781Z",
     "iopub.status.idle": "2022-04-01T21:48:20.791669Z",
     "shell.execute_reply": "2022-04-01T21:48:20.791409Z"
    },
    "papermill": {
     "duration": 0.075345,
     "end_time": "2022-04-01T21:48:20.791724",
     "exception": false,
     "start_time": "2022-04-01T21:48:20.716379",
     "status": "completed"
    },
    "tags": []
   },
   "outputs": [
    {
     "name": "stdout",
     "output_type": "stream",
     "text": [
      "(2, 256)\n"
     ]
    }
   ],
   "source": [
    "###################################\n",
    "# Build the model\n",
    "###################################\n",
    "model = Steves_Prototypical_Network(x_net, device=p.device, x_shape=(2,256))\n",
    "optimizer = Adam(params=model.parameters(), lr=p.lr)"
   ]
  },
  {
   "cell_type": "code",
   "execution_count": 13,
   "id": "22b39ac5",
   "metadata": {
    "execution": {
     "iopub.execute_input": "2022-04-01T21:48:20.815515Z",
     "iopub.status.busy": "2022-04-01T21:48:20.815267Z",
     "iopub.status.idle": "2022-04-01T22:10:55.869769Z",
     "shell.execute_reply": "2022-04-01T22:10:55.869538Z"
    },
    "papermill": {
     "duration": 1355.067811,
     "end_time": "2022-04-01T22:10:55.869827",
     "exception": false,
     "start_time": "2022-04-01T21:48:20.802016",
     "status": "completed"
    },
    "tags": []
   },
   "outputs": [
    {
     "name": "stdout",
     "output_type": "stream",
     "text": [
      "epoch: 1, [batch: 1 / 2520], examples_per_second: 127.0495, train_label_loss: 2.7531, \n"
     ]
    },
    {
     "name": "stdout",
     "output_type": "stream",
     "text": [
      "epoch: 1, [batch: 252 / 2520], examples_per_second: 3168.9577, train_label_loss: 2.7881, \n"
     ]
    },
    {
     "name": "stdout",
     "output_type": "stream",
     "text": [
      "epoch: 1, [batch: 504 / 2520], examples_per_second: 3191.1702, train_label_loss: 2.2936, \n"
     ]
    },
    {
     "name": "stdout",
     "output_type": "stream",
     "text": [
      "epoch: 1, [batch: 756 / 2520], examples_per_second: 3219.7482, train_label_loss: 1.4054, \n"
     ]
    },
    {
     "name": "stdout",
     "output_type": "stream",
     "text": [
      "epoch: 1, [batch: 1008 / 2520], examples_per_second: 3158.3051, train_label_loss: 1.5288, \n"
     ]
    },
    {
     "name": "stdout",
     "output_type": "stream",
     "text": [
      "epoch: 1, [batch: 1260 / 2520], examples_per_second: 3176.8530, train_label_loss: 1.6357, \n"
     ]
    },
    {
     "name": "stdout",
     "output_type": "stream",
     "text": [
      "epoch: 1, [batch: 1512 / 2520], examples_per_second: 3166.9360, train_label_loss: 1.3642, \n"
     ]
    },
    {
     "name": "stdout",
     "output_type": "stream",
     "text": [
      "epoch: 1, [batch: 1764 / 2520], examples_per_second: 3160.3954, train_label_loss: 1.2695, \n"
     ]
    },
    {
     "name": "stdout",
     "output_type": "stream",
     "text": [
      "epoch: 1, [batch: 2016 / 2520], examples_per_second: 3168.8483, train_label_loss: 1.3207, \n"
     ]
    },
    {
     "name": "stdout",
     "output_type": "stream",
     "text": [
      "epoch: 1, [batch: 2268 / 2520], examples_per_second: 3179.3968, train_label_loss: 1.4364, \n"
     ]
    },
    {
     "name": "stdout",
     "output_type": "stream",
     "text": [
      "=============================================================\n",
      "epoch: 1, source_val_acc_label: 0.3878, target_val_acc_label: 0.2754, source_val_label_loss: 1.5502, target_val_label_loss: 1.8854, \n",
      "=============================================================\n"
     ]
    },
    {
     "name": "stdout",
     "output_type": "stream",
     "text": [
      "New best\n"
     ]
    },
    {
     "name": "stdout",
     "output_type": "stream",
     "text": [
      "epoch: 2, [batch: 1 / 2520], examples_per_second: 11.1476, train_label_loss: 1.0416, \n"
     ]
    },
    {
     "name": "stdout",
     "output_type": "stream",
     "text": [
      "epoch: 2, [batch: 252 / 2520], examples_per_second: 3173.2435, train_label_loss: 1.0998, \n"
     ]
    },
    {
     "name": "stdout",
     "output_type": "stream",
     "text": [
      "epoch: 2, [batch: 504 / 2520], examples_per_second: 3201.3394, train_label_loss: 1.4689, \n"
     ]
    },
    {
     "name": "stdout",
     "output_type": "stream",
     "text": [
      "epoch: 2, [batch: 756 / 2520], examples_per_second: 3194.4299, train_label_loss: 1.3237, \n"
     ]
    },
    {
     "name": "stdout",
     "output_type": "stream",
     "text": [
      "epoch: 2, [batch: 1008 / 2520], examples_per_second: 3176.7283, train_label_loss: 1.4108, \n"
     ]
    },
    {
     "name": "stdout",
     "output_type": "stream",
     "text": [
      "epoch: 2, [batch: 1260 / 2520], examples_per_second: 3184.0726, train_label_loss: 1.4431, \n"
     ]
    },
    {
     "name": "stdout",
     "output_type": "stream",
     "text": [
      "epoch: 2, [batch: 1512 / 2520], examples_per_second: 3188.7201, train_label_loss: 1.5852, \n"
     ]
    },
    {
     "name": "stdout",
     "output_type": "stream",
     "text": [
      "epoch: 2, [batch: 1764 / 2520], examples_per_second: 3160.0057, train_label_loss: 1.4323, \n"
     ]
    },
    {
     "name": "stdout",
     "output_type": "stream",
     "text": [
      "epoch: 2, [batch: 2016 / 2520], examples_per_second: 3183.5464, train_label_loss: 1.5152, \n"
     ]
    },
    {
     "name": "stdout",
     "output_type": "stream",
     "text": [
      "epoch: 2, [batch: 2268 / 2520], examples_per_second: 3180.3564, train_label_loss: 1.5332, \n"
     ]
    },
    {
     "name": "stdout",
     "output_type": "stream",
     "text": [
      "=============================================================\n",
      "epoch: 2, source_val_acc_label: 0.4132, target_val_acc_label: 0.2991, source_val_label_loss: 1.4770, target_val_label_loss: 1.8064, \n",
      "=============================================================\n"
     ]
    },
    {
     "name": "stdout",
     "output_type": "stream",
     "text": [
      "New best\n"
     ]
    },
    {
     "name": "stdout",
     "output_type": "stream",
     "text": [
      "epoch: 3, [batch: 1 / 2520], examples_per_second: 11.1516, train_label_loss: 1.4111, \n"
     ]
    },
    {
     "name": "stdout",
     "output_type": "stream",
     "text": [
      "epoch: 3, [batch: 252 / 2520], examples_per_second: 3157.7370, train_label_loss: 1.0747, \n"
     ]
    },
    {
     "name": "stdout",
     "output_type": "stream",
     "text": [
      "epoch: 3, [batch: 504 / 2520], examples_per_second: 3177.6159, train_label_loss: 1.1258, \n"
     ]
    },
    {
     "name": "stdout",
     "output_type": "stream",
     "text": [
      "epoch: 3, [batch: 756 / 2520], examples_per_second: 3184.7897, train_label_loss: 1.3803, \n"
     ]
    },
    {
     "name": "stdout",
     "output_type": "stream",
     "text": [
      "epoch: 3, [batch: 1008 / 2520], examples_per_second: 3181.3716, train_label_loss: 1.1871, \n"
     ]
    },
    {
     "name": "stdout",
     "output_type": "stream",
     "text": [
      "epoch: 3, [batch: 1260 / 2520], examples_per_second: 3178.3797, train_label_loss: 1.3354, \n"
     ]
    },
    {
     "name": "stdout",
     "output_type": "stream",
     "text": [
      "epoch: 3, [batch: 1512 / 2520], examples_per_second: 3171.2310, train_label_loss: 1.3538, \n"
     ]
    },
    {
     "name": "stdout",
     "output_type": "stream",
     "text": [
      "epoch: 3, [batch: 1764 / 2520], examples_per_second: 3164.4146, train_label_loss: 1.2856, \n"
     ]
    },
    {
     "name": "stdout",
     "output_type": "stream",
     "text": [
      "epoch: 3, [batch: 2016 / 2520], examples_per_second: 3189.4858, train_label_loss: 1.1193, \n"
     ]
    },
    {
     "name": "stdout",
     "output_type": "stream",
     "text": [
      "epoch: 3, [batch: 2268 / 2520], examples_per_second: 3178.0336, train_label_loss: 1.0903, \n"
     ]
    },
    {
     "name": "stdout",
     "output_type": "stream",
     "text": [
      "=============================================================\n",
      "epoch: 3, source_val_acc_label: 0.4684, target_val_acc_label: 0.3668, source_val_label_loss: 1.3745, target_val_label_loss: 1.6797, \n",
      "=============================================================\n"
     ]
    },
    {
     "name": "stdout",
     "output_type": "stream",
     "text": [
      "New best\n"
     ]
    },
    {
     "name": "stdout",
     "output_type": "stream",
     "text": [
      "epoch: 4, [batch: 1 / 2520], examples_per_second: 11.0896, train_label_loss: 0.8826, \n"
     ]
    },
    {
     "name": "stdout",
     "output_type": "stream",
     "text": [
      "epoch: 4, [batch: 252 / 2520], examples_per_second: 3165.3063, train_label_loss: 1.1157, \n"
     ]
    },
    {
     "name": "stdout",
     "output_type": "stream",
     "text": [
      "epoch: 4, [batch: 504 / 2520], examples_per_second: 3188.1980, train_label_loss: 1.1640, \n"
     ]
    },
    {
     "name": "stdout",
     "output_type": "stream",
     "text": [
      "epoch: 4, [batch: 756 / 2520], examples_per_second: 3207.5801, train_label_loss: 0.9268, \n"
     ]
    },
    {
     "name": "stdout",
     "output_type": "stream",
     "text": [
      "epoch: 4, [batch: 1008 / 2520], examples_per_second: 3194.2147, train_label_loss: 0.5505, \n"
     ]
    },
    {
     "name": "stdout",
     "output_type": "stream",
     "text": [
      "epoch: 4, [batch: 1260 / 2520], examples_per_second: 3201.4348, train_label_loss: 1.0008, \n"
     ]
    },
    {
     "name": "stdout",
     "output_type": "stream",
     "text": [
      "epoch: 4, [batch: 1512 / 2520], examples_per_second: 3210.6256, train_label_loss: 1.3788, \n"
     ]
    },
    {
     "name": "stdout",
     "output_type": "stream",
     "text": [
      "epoch: 4, [batch: 1764 / 2520], examples_per_second: 3202.6747, train_label_loss: 0.8222, \n"
     ]
    },
    {
     "name": "stdout",
     "output_type": "stream",
     "text": [
      "epoch: 4, [batch: 2016 / 2520], examples_per_second: 3188.2539, train_label_loss: 0.6728, \n"
     ]
    },
    {
     "name": "stdout",
     "output_type": "stream",
     "text": [
      "epoch: 4, [batch: 2268 / 2520], examples_per_second: 3209.8928, train_label_loss: 1.1566, \n"
     ]
    },
    {
     "name": "stdout",
     "output_type": "stream",
     "text": [
      "=============================================================\n",
      "epoch: 4, source_val_acc_label: 0.5622, target_val_acc_label: 0.4599, source_val_label_loss: 1.2152, target_val_label_loss: 1.4781, \n",
      "=============================================================\n"
     ]
    },
    {
     "name": "stdout",
     "output_type": "stream",
     "text": [
      "New best\n"
     ]
    },
    {
     "name": "stdout",
     "output_type": "stream",
     "text": [
      "epoch: 5, [batch: 1 / 2520], examples_per_second: 11.0695, train_label_loss: 0.7040, \n"
     ]
    },
    {
     "name": "stdout",
     "output_type": "stream",
     "text": [
      "epoch: 5, [batch: 252 / 2520], examples_per_second: 3170.0991, train_label_loss: 0.7102, \n"
     ]
    },
    {
     "name": "stdout",
     "output_type": "stream",
     "text": [
      "epoch: 5, [batch: 504 / 2520], examples_per_second: 3173.0812, train_label_loss: 0.6116, \n"
     ]
    },
    {
     "name": "stdout",
     "output_type": "stream",
     "text": [
      "epoch: 5, [batch: 756 / 2520], examples_per_second: 3177.1153, train_label_loss: 1.0322, \n"
     ]
    },
    {
     "name": "stdout",
     "output_type": "stream",
     "text": [
      "epoch: 5, [batch: 1008 / 2520], examples_per_second: 3171.1226, train_label_loss: 0.5326, \n"
     ]
    },
    {
     "name": "stdout",
     "output_type": "stream",
     "text": [
      "epoch: 5, [batch: 1260 / 2520], examples_per_second: 3177.5402, train_label_loss: 0.9602, \n"
     ]
    },
    {
     "name": "stdout",
     "output_type": "stream",
     "text": [
      "epoch: 5, [batch: 1512 / 2520], examples_per_second: 3186.2934, train_label_loss: 0.6743, \n"
     ]
    },
    {
     "name": "stdout",
     "output_type": "stream",
     "text": [
      "epoch: 5, [batch: 1764 / 2520], examples_per_second: 3166.5930, train_label_loss: 0.5742, \n"
     ]
    },
    {
     "name": "stdout",
     "output_type": "stream",
     "text": [
      "epoch: 5, [batch: 2016 / 2520], examples_per_second: 3180.8555, train_label_loss: 0.3682, \n"
     ]
    },
    {
     "name": "stdout",
     "output_type": "stream",
     "text": [
      "epoch: 5, [batch: 2268 / 2520], examples_per_second: 3191.6504, train_label_loss: 0.8658, \n"
     ]
    },
    {
     "name": "stdout",
     "output_type": "stream",
     "text": [
      "=============================================================\n",
      "epoch: 5, source_val_acc_label: 0.5711, target_val_acc_label: 0.4788, source_val_label_loss: 1.2548, target_val_label_loss: 1.4864, \n",
      "=============================================================\n"
     ]
    },
    {
     "name": "stdout",
     "output_type": "stream",
     "text": [
      "New best\n"
     ]
    },
    {
     "name": "stdout",
     "output_type": "stream",
     "text": [
      "epoch: 6, [batch: 1 / 2520], examples_per_second: 11.0942, train_label_loss: 0.8124, \n"
     ]
    },
    {
     "name": "stdout",
     "output_type": "stream",
     "text": [
      "epoch: 6, [batch: 252 / 2520], examples_per_second: 3168.8250, train_label_loss: 0.8134, \n"
     ]
    },
    {
     "name": "stdout",
     "output_type": "stream",
     "text": [
      "epoch: 6, [batch: 504 / 2520], examples_per_second: 3183.7378, train_label_loss: 0.5437, \n"
     ]
    },
    {
     "name": "stdout",
     "output_type": "stream",
     "text": [
      "epoch: 6, [batch: 756 / 2520], examples_per_second: 3206.4554, train_label_loss: 0.7673, \n"
     ]
    },
    {
     "name": "stdout",
     "output_type": "stream",
     "text": [
      "epoch: 6, [batch: 1008 / 2520], examples_per_second: 3177.0958, train_label_loss: 0.7494, \n"
     ]
    },
    {
     "name": "stdout",
     "output_type": "stream",
     "text": [
      "epoch: 6, [batch: 1260 / 2520], examples_per_second: 3188.3686, train_label_loss: 0.5187, \n"
     ]
    },
    {
     "name": "stdout",
     "output_type": "stream",
     "text": [
      "epoch: 6, [batch: 1512 / 2520], examples_per_second: 3190.7158, train_label_loss: 1.0143, \n"
     ]
    },
    {
     "name": "stdout",
     "output_type": "stream",
     "text": [
      "epoch: 6, [batch: 1764 / 2520], examples_per_second: 3181.5388, train_label_loss: 0.5746, \n"
     ]
    },
    {
     "name": "stdout",
     "output_type": "stream",
     "text": [
      "epoch: 6, [batch: 2016 / 2520], examples_per_second: 3184.1653, train_label_loss: 0.5055, \n"
     ]
    },
    {
     "name": "stdout",
     "output_type": "stream",
     "text": [
      "epoch: 6, [batch: 2268 / 2520], examples_per_second: 3186.1673, train_label_loss: 0.5678, \n"
     ]
    },
    {
     "name": "stdout",
     "output_type": "stream",
     "text": [
      "=============================================================\n",
      "epoch: 6, source_val_acc_label: 0.5813, target_val_acc_label: 0.4892, source_val_label_loss: 1.3140, target_val_label_loss: 1.5497, \n",
      "=============================================================\n"
     ]
    },
    {
     "name": "stdout",
     "output_type": "stream",
     "text": [
      "New best\n"
     ]
    },
    {
     "name": "stdout",
     "output_type": "stream",
     "text": [
      "epoch: 7, [batch: 1 / 2520], examples_per_second: 11.1268, train_label_loss: 0.6034, \n"
     ]
    },
    {
     "name": "stdout",
     "output_type": "stream",
     "text": [
      "epoch: 7, [batch: 252 / 2520], examples_per_second: 3177.5475, train_label_loss: 0.4023, \n"
     ]
    },
    {
     "name": "stdout",
     "output_type": "stream",
     "text": [
      "epoch: 7, [batch: 504 / 2520], examples_per_second: 3190.1500, train_label_loss: 0.3226, \n"
     ]
    },
    {
     "name": "stdout",
     "output_type": "stream",
     "text": [
      "epoch: 7, [batch: 756 / 2520], examples_per_second: 3190.5862, train_label_loss: 0.6961, \n"
     ]
    },
    {
     "name": "stdout",
     "output_type": "stream",
     "text": [
      "epoch: 7, [batch: 1008 / 2520], examples_per_second: 3175.0515, train_label_loss: 0.1212, \n"
     ]
    },
    {
     "name": "stdout",
     "output_type": "stream",
     "text": [
      "epoch: 7, [batch: 1260 / 2520], examples_per_second: 3185.2454, train_label_loss: 0.1375, \n"
     ]
    },
    {
     "name": "stdout",
     "output_type": "stream",
     "text": [
      "epoch: 7, [batch: 1512 / 2520], examples_per_second: 3192.5510, train_label_loss: 0.2592, \n"
     ]
    },
    {
     "name": "stdout",
     "output_type": "stream",
     "text": [
      "epoch: 7, [batch: 1764 / 2520], examples_per_second: 3193.8378, train_label_loss: 0.3136, \n"
     ]
    },
    {
     "name": "stdout",
     "output_type": "stream",
     "text": [
      "epoch: 7, [batch: 2016 / 2520], examples_per_second: 3183.3437, train_label_loss: 0.3954, \n"
     ]
    },
    {
     "name": "stdout",
     "output_type": "stream",
     "text": [
      "epoch: 7, [batch: 2268 / 2520], examples_per_second: 3196.5435, train_label_loss: 0.9227, \n"
     ]
    },
    {
     "name": "stdout",
     "output_type": "stream",
     "text": [
      "=============================================================\n",
      "epoch: 7, source_val_acc_label: 0.5848, target_val_acc_label: 0.4922, source_val_label_loss: 1.3849, target_val_label_loss: 1.6085, \n",
      "=============================================================\n"
     ]
    },
    {
     "name": "stdout",
     "output_type": "stream",
     "text": [
      "New best\n"
     ]
    },
    {
     "name": "stdout",
     "output_type": "stream",
     "text": [
      "epoch: 8, [batch: 1 / 2520], examples_per_second: 11.0446, train_label_loss: 0.3759, \n"
     ]
    },
    {
     "name": "stdout",
     "output_type": "stream",
     "text": [
      "epoch: 8, [batch: 252 / 2520], examples_per_second: 3178.0172, train_label_loss: 0.5566, \n"
     ]
    },
    {
     "name": "stdout",
     "output_type": "stream",
     "text": [
      "epoch: 8, [batch: 504 / 2520], examples_per_second: 3200.9500, train_label_loss: 0.5061, \n"
     ]
    },
    {
     "name": "stdout",
     "output_type": "stream",
     "text": [
      "epoch: 8, [batch: 756 / 2520], examples_per_second: 3187.1911, train_label_loss: 0.4786, \n"
     ]
    },
    {
     "name": "stdout",
     "output_type": "stream",
     "text": [
      "epoch: 8, [batch: 1008 / 2520], examples_per_second: 3208.1498, train_label_loss: 0.5307, \n"
     ]
    },
    {
     "name": "stdout",
     "output_type": "stream",
     "text": [
      "epoch: 8, [batch: 1260 / 2520], examples_per_second: 3186.9069, train_label_loss: 0.4820, \n"
     ]
    },
    {
     "name": "stdout",
     "output_type": "stream",
     "text": [
      "epoch: 8, [batch: 1512 / 2520], examples_per_second: 3187.3779, train_label_loss: 0.2160, \n"
     ]
    },
    {
     "name": "stdout",
     "output_type": "stream",
     "text": [
      "epoch: 8, [batch: 1764 / 2520], examples_per_second: 3181.9487, train_label_loss: 0.0730, \n"
     ]
    },
    {
     "name": "stdout",
     "output_type": "stream",
     "text": [
      "epoch: 8, [batch: 2016 / 2520], examples_per_second: 3194.5985, train_label_loss: 0.0971, \n"
     ]
    },
    {
     "name": "stdout",
     "output_type": "stream",
     "text": [
      "epoch: 8, [batch: 2268 / 2520], examples_per_second: 3197.3958, train_label_loss: 0.4406, \n"
     ]
    },
    {
     "name": "stdout",
     "output_type": "stream",
     "text": [
      "=============================================================\n",
      "epoch: 8, source_val_acc_label: 0.5799, target_val_acc_label: 0.4943, source_val_label_loss: 1.5239, target_val_label_loss: 1.7626, \n",
      "=============================================================\n"
     ]
    },
    {
     "name": "stdout",
     "output_type": "stream",
     "text": [
      "New best\n"
     ]
    },
    {
     "name": "stdout",
     "output_type": "stream",
     "text": [
      "epoch: 9, [batch: 1 / 2520], examples_per_second: 11.1326, train_label_loss: 0.1290, \n"
     ]
    },
    {
     "name": "stdout",
     "output_type": "stream",
     "text": [
      "epoch: 9, [batch: 252 / 2520], examples_per_second: 3176.6768, train_label_loss: 0.3516, \n"
     ]
    },
    {
     "name": "stdout",
     "output_type": "stream",
     "text": [
      "epoch: 9, [batch: 504 / 2520], examples_per_second: 3197.9420, train_label_loss: 0.2978, \n"
     ]
    },
    {
     "name": "stdout",
     "output_type": "stream",
     "text": [
      "epoch: 9, [batch: 756 / 2520], examples_per_second: 3194.1445, train_label_loss: 0.9421, \n"
     ]
    },
    {
     "name": "stdout",
     "output_type": "stream",
     "text": [
      "epoch: 9, [batch: 1008 / 2520], examples_per_second: 3178.1170, train_label_loss: 0.3860, \n"
     ]
    },
    {
     "name": "stdout",
     "output_type": "stream",
     "text": [
      "epoch: 9, [batch: 1260 / 2520], examples_per_second: 3202.2144, train_label_loss: 0.4152, \n"
     ]
    },
    {
     "name": "stdout",
     "output_type": "stream",
     "text": [
      "epoch: 9, [batch: 1512 / 2520], examples_per_second: 3195.9687, train_label_loss: 0.4844, \n"
     ]
    },
    {
     "name": "stdout",
     "output_type": "stream",
     "text": [
      "epoch: 9, [batch: 1764 / 2520], examples_per_second: 3181.7209, train_label_loss: 0.1983, \n"
     ]
    },
    {
     "name": "stdout",
     "output_type": "stream",
     "text": [
      "epoch: 9, [batch: 2016 / 2520], examples_per_second: 3189.6140, train_label_loss: 0.1908, \n"
     ]
    },
    {
     "name": "stdout",
     "output_type": "stream",
     "text": [
      "epoch: 9, [batch: 2268 / 2520], examples_per_second: 3197.4555, train_label_loss: 0.2599, \n"
     ]
    },
    {
     "name": "stdout",
     "output_type": "stream",
     "text": [
      "=============================================================\n",
      "epoch: 9, source_val_acc_label: 0.5813, target_val_acc_label: 0.4923, source_val_label_loss: 1.5921, target_val_label_loss: 1.8277, \n",
      "=============================================================\n"
     ]
    },
    {
     "name": "stdout",
     "output_type": "stream",
     "text": [
      "epoch: 10, [batch: 1 / 2520], examples_per_second: 11.0887, train_label_loss: 0.0821, \n"
     ]
    },
    {
     "name": "stdout",
     "output_type": "stream",
     "text": [
      "epoch: 10, [batch: 252 / 2520], examples_per_second: 3184.4455, train_label_loss: 0.1841, \n"
     ]
    },
    {
     "name": "stdout",
     "output_type": "stream",
     "text": [
      "epoch: 10, [batch: 504 / 2520], examples_per_second: 3191.9513, train_label_loss: 0.2897, \n"
     ]
    },
    {
     "name": "stdout",
     "output_type": "stream",
     "text": [
      "epoch: 10, [batch: 756 / 2520], examples_per_second: 3198.6537, train_label_loss: 0.2651, \n"
     ]
    },
    {
     "name": "stdout",
     "output_type": "stream",
     "text": [
      "epoch: 10, [batch: 1008 / 2520], examples_per_second: 3186.0048, train_label_loss: 0.2274, \n"
     ]
    },
    {
     "name": "stdout",
     "output_type": "stream",
     "text": [
      "epoch: 10, [batch: 1260 / 2520], examples_per_second: 3188.9462, train_label_loss: 0.3179, \n"
     ]
    },
    {
     "name": "stdout",
     "output_type": "stream",
     "text": [
      "epoch: 10, [batch: 1512 / 2520], examples_per_second: 3206.6346, train_label_loss: 0.4964, \n"
     ]
    },
    {
     "name": "stdout",
     "output_type": "stream",
     "text": [
      "epoch: 10, [batch: 1764 / 2520], examples_per_second: 3202.7525, train_label_loss: 0.2104, \n"
     ]
    },
    {
     "name": "stdout",
     "output_type": "stream",
     "text": [
      "epoch: 10, [batch: 2016 / 2520], examples_per_second: 3212.9925, train_label_loss: 0.2664, \n"
     ]
    },
    {
     "name": "stdout",
     "output_type": "stream",
     "text": [
      "epoch: 10, [batch: 2268 / 2520], examples_per_second: 3194.5052, train_label_loss: 0.3342, \n"
     ]
    },
    {
     "name": "stdout",
     "output_type": "stream",
     "text": [
      "=============================================================\n",
      "epoch: 10, source_val_acc_label: 0.5766, target_val_acc_label: 0.4919, source_val_label_loss: 1.7271, target_val_label_loss: 1.9772, \n",
      "=============================================================\n"
     ]
    },
    {
     "name": "stdout",
     "output_type": "stream",
     "text": [
      "epoch: 11, [batch: 1 / 2520], examples_per_second: 11.1083, train_label_loss: 0.2810, \n"
     ]
    },
    {
     "name": "stdout",
     "output_type": "stream",
     "text": [
      "epoch: 11, [batch: 252 / 2520], examples_per_second: 3177.6680, train_label_loss: 0.1526, \n"
     ]
    },
    {
     "name": "stdout",
     "output_type": "stream",
     "text": [
      "epoch: 11, [batch: 504 / 2520], examples_per_second: 3178.9943, train_label_loss: 0.4291, \n"
     ]
    },
    {
     "name": "stdout",
     "output_type": "stream",
     "text": [
      "epoch: 11, [batch: 756 / 2520], examples_per_second: 3187.7923, train_label_loss: 0.1525, \n"
     ]
    },
    {
     "name": "stdout",
     "output_type": "stream",
     "text": [
      "epoch: 11, [batch: 1008 / 2520], examples_per_second: 3174.1876, train_label_loss: 0.2789, \n"
     ]
    },
    {
     "name": "stdout",
     "output_type": "stream",
     "text": [
      "epoch: 11, [batch: 1260 / 2520], examples_per_second: 3192.8637, train_label_loss: 0.3084, \n"
     ]
    },
    {
     "name": "stdout",
     "output_type": "stream",
     "text": [
      "epoch: 11, [batch: 1512 / 2520], examples_per_second: 3189.3585, train_label_loss: 0.1838, \n"
     ]
    },
    {
     "name": "stdout",
     "output_type": "stream",
     "text": [
      "epoch: 11, [batch: 1764 / 2520], examples_per_second: 3161.2350, train_label_loss: 0.1194, \n"
     ]
    },
    {
     "name": "stdout",
     "output_type": "stream",
     "text": [
      "epoch: 11, [batch: 2016 / 2520], examples_per_second: 3187.0915, train_label_loss: 0.2710, \n"
     ]
    },
    {
     "name": "stdout",
     "output_type": "stream",
     "text": [
      "epoch: 11, [batch: 2268 / 2520], examples_per_second: 3200.8452, train_label_loss: 0.2639, \n"
     ]
    },
    {
     "name": "stdout",
     "output_type": "stream",
     "text": [
      "=============================================================\n",
      "epoch: 11, source_val_acc_label: 0.5813, target_val_acc_label: 0.4954, source_val_label_loss: 1.7501, target_val_label_loss: 1.9644, \n",
      "=============================================================\n"
     ]
    },
    {
     "name": "stdout",
     "output_type": "stream",
     "text": [
      "New best\n"
     ]
    },
    {
     "name": "stdout",
     "output_type": "stream",
     "text": [
      "epoch: 12, [batch: 1 / 2520], examples_per_second: 11.1041, train_label_loss: 0.2734, \n"
     ]
    },
    {
     "name": "stdout",
     "output_type": "stream",
     "text": [
      "epoch: 12, [batch: 252 / 2520], examples_per_second: 3179.6194, train_label_loss: 0.1239, \n"
     ]
    },
    {
     "name": "stdout",
     "output_type": "stream",
     "text": [
      "epoch: 12, [batch: 504 / 2520], examples_per_second: 3200.1696, train_label_loss: 0.2497, \n"
     ]
    },
    {
     "name": "stdout",
     "output_type": "stream",
     "text": [
      "epoch: 12, [batch: 756 / 2520], examples_per_second: 3197.7814, train_label_loss: 0.4258, \n"
     ]
    },
    {
     "name": "stdout",
     "output_type": "stream",
     "text": [
      "epoch: 12, [batch: 1008 / 2520], examples_per_second: 3195.8607, train_label_loss: 0.5263, \n"
     ]
    },
    {
     "name": "stdout",
     "output_type": "stream",
     "text": [
      "epoch: 12, [batch: 1260 / 2520], examples_per_second: 3215.8041, train_label_loss: 0.2811, \n"
     ]
    },
    {
     "name": "stdout",
     "output_type": "stream",
     "text": [
      "epoch: 12, [batch: 1512 / 2520], examples_per_second: 3196.0233, train_label_loss: 0.2427, \n"
     ]
    },
    {
     "name": "stdout",
     "output_type": "stream",
     "text": [
      "epoch: 12, [batch: 1764 / 2520], examples_per_second: 3192.0186, train_label_loss: 0.2048, \n"
     ]
    },
    {
     "name": "stdout",
     "output_type": "stream",
     "text": [
      "epoch: 12, [batch: 2016 / 2520], examples_per_second: 3197.4095, train_label_loss: 0.0885, \n"
     ]
    },
    {
     "name": "stdout",
     "output_type": "stream",
     "text": [
      "epoch: 12, [batch: 2268 / 2520], examples_per_second: 3213.5626, train_label_loss: 0.3758, \n"
     ]
    },
    {
     "name": "stdout",
     "output_type": "stream",
     "text": [
      "=============================================================\n",
      "epoch: 12, source_val_acc_label: 0.5859, target_val_acc_label: 0.4919, source_val_label_loss: 1.8308, target_val_label_loss: 2.0944, \n",
      "=============================================================\n"
     ]
    },
    {
     "name": "stdout",
     "output_type": "stream",
     "text": [
      "epoch: 13, [batch: 1 / 2520], examples_per_second: 11.1670, train_label_loss: 0.1173, \n"
     ]
    },
    {
     "name": "stdout",
     "output_type": "stream",
     "text": [
      "epoch: 13, [batch: 252 / 2520], examples_per_second: 3183.7388, train_label_loss: 0.3229, \n"
     ]
    },
    {
     "name": "stdout",
     "output_type": "stream",
     "text": [
      "epoch: 13, [batch: 504 / 2520], examples_per_second: 3184.6130, train_label_loss: 0.0278, \n"
     ]
    },
    {
     "name": "stdout",
     "output_type": "stream",
     "text": [
      "epoch: 13, [batch: 756 / 2520], examples_per_second: 3183.8996, train_label_loss: 0.6217, \n"
     ]
    },
    {
     "name": "stdout",
     "output_type": "stream",
     "text": [
      "epoch: 13, [batch: 1008 / 2520], examples_per_second: 3190.9021, train_label_loss: 0.1578, \n"
     ]
    },
    {
     "name": "stdout",
     "output_type": "stream",
     "text": [
      "epoch: 13, [batch: 1260 / 2520], examples_per_second: 3204.4665, train_label_loss: 0.2352, \n"
     ]
    },
    {
     "name": "stdout",
     "output_type": "stream",
     "text": [
      "epoch: 13, [batch: 1512 / 2520], examples_per_second: 3207.6755, train_label_loss: 0.1311, \n"
     ]
    },
    {
     "name": "stdout",
     "output_type": "stream",
     "text": [
      "epoch: 13, [batch: 1764 / 2520], examples_per_second: 3167.6605, train_label_loss: 0.2152, \n"
     ]
    },
    {
     "name": "stdout",
     "output_type": "stream",
     "text": [
      "epoch: 13, [batch: 2016 / 2520], examples_per_second: 3202.6866, train_label_loss: 0.1106, \n"
     ]
    },
    {
     "name": "stdout",
     "output_type": "stream",
     "text": [
      "epoch: 13, [batch: 2268 / 2520], examples_per_second: 3194.5403, train_label_loss: 0.0758, \n"
     ]
    },
    {
     "name": "stdout",
     "output_type": "stream",
     "text": [
      "=============================================================\n",
      "epoch: 13, source_val_acc_label: 0.5870, target_val_acc_label: 0.4942, source_val_label_loss: 1.8713, target_val_label_loss: 2.1122, \n",
      "=============================================================\n"
     ]
    },
    {
     "name": "stdout",
     "output_type": "stream",
     "text": [
      "epoch: 14, [batch: 1 / 2520], examples_per_second: 11.1505, train_label_loss: 0.1086, \n"
     ]
    },
    {
     "name": "stdout",
     "output_type": "stream",
     "text": [
      "epoch: 14, [batch: 252 / 2520], examples_per_second: 3180.4808, train_label_loss: 0.5511, \n"
     ]
    },
    {
     "name": "stdout",
     "output_type": "stream",
     "text": [
      "epoch: 14, [batch: 504 / 2520], examples_per_second: 3189.1490, train_label_loss: 0.0693, \n"
     ]
    },
    {
     "name": "stdout",
     "output_type": "stream",
     "text": [
      "epoch: 14, [batch: 756 / 2520], examples_per_second: 3179.9185, train_label_loss: 0.0704, \n"
     ]
    },
    {
     "name": "stdout",
     "output_type": "stream",
     "text": [
      "epoch: 14, [batch: 1008 / 2520], examples_per_second: 3182.5170, train_label_loss: 0.1105, \n"
     ]
    },
    {
     "name": "stdout",
     "output_type": "stream",
     "text": [
      "epoch: 14, [batch: 1260 / 2520], examples_per_second: 3202.6284, train_label_loss: 0.4658, \n"
     ]
    },
    {
     "name": "stdout",
     "output_type": "stream",
     "text": [
      "epoch: 14, [batch: 1512 / 2520], examples_per_second: 3199.0688, train_label_loss: 0.2468, \n"
     ]
    },
    {
     "name": "stdout",
     "output_type": "stream",
     "text": [
      "epoch: 14, [batch: 1764 / 2520], examples_per_second: 3206.1495, train_label_loss: 0.0123, \n"
     ]
    },
    {
     "name": "stdout",
     "output_type": "stream",
     "text": [
      "epoch: 14, [batch: 2016 / 2520], examples_per_second: 3192.9310, train_label_loss: 0.0917, \n"
     ]
    },
    {
     "name": "stdout",
     "output_type": "stream",
     "text": [
      "epoch: 14, [batch: 2268 / 2520], examples_per_second: 3177.2910, train_label_loss: 0.1178, \n"
     ]
    },
    {
     "name": "stdout",
     "output_type": "stream",
     "text": [
      "=============================================================\n",
      "epoch: 14, source_val_acc_label: 0.5828, target_val_acc_label: 0.4904, source_val_label_loss: 1.9017, target_val_label_loss: 2.1953, \n",
      "=============================================================\n"
     ]
    },
    {
     "name": "stdout",
     "output_type": "stream",
     "text": [
      "epoch: 15, [batch: 1 / 2520], examples_per_second: 11.0996, train_label_loss: 0.1230, \n"
     ]
    },
    {
     "name": "stdout",
     "output_type": "stream",
     "text": [
      "epoch: 15, [batch: 252 / 2520], examples_per_second: 3177.5410, train_label_loss: 0.1199, \n"
     ]
    },
    {
     "name": "stdout",
     "output_type": "stream",
     "text": [
      "epoch: 15, [batch: 504 / 2520], examples_per_second: 3197.0207, train_label_loss: 0.0977, \n"
     ]
    },
    {
     "name": "stdout",
     "output_type": "stream",
     "text": [
      "epoch: 15, [batch: 756 / 2520], examples_per_second: 3187.2685, train_label_loss: 0.0048, \n"
     ]
    },
    {
     "name": "stdout",
     "output_type": "stream",
     "text": [
      "epoch: 15, [batch: 1008 / 2520], examples_per_second: 3175.1668, train_label_loss: 0.2042, \n"
     ]
    },
    {
     "name": "stdout",
     "output_type": "stream",
     "text": [
      "epoch: 15, [batch: 1260 / 2520], examples_per_second: 3200.0435, train_label_loss: 0.0825, \n"
     ]
    },
    {
     "name": "stdout",
     "output_type": "stream",
     "text": [
      "epoch: 15, [batch: 1512 / 2520], examples_per_second: 3203.2758, train_label_loss: 0.1279, \n"
     ]
    },
    {
     "name": "stdout",
     "output_type": "stream",
     "text": [
      "epoch: 15, [batch: 1764 / 2520], examples_per_second: 3179.9538, train_label_loss: 0.5370, \n"
     ]
    },
    {
     "name": "stdout",
     "output_type": "stream",
     "text": [
      "epoch: 15, [batch: 2016 / 2520], examples_per_second: 3195.1275, train_label_loss: 0.3488, \n"
     ]
    },
    {
     "name": "stdout",
     "output_type": "stream",
     "text": [
      "epoch: 15, [batch: 2268 / 2520], examples_per_second: 3197.7618, train_label_loss: 0.0780, \n"
     ]
    },
    {
     "name": "stdout",
     "output_type": "stream",
     "text": [
      "=============================================================\n",
      "epoch: 15, source_val_acc_label: 0.5872, target_val_acc_label: 0.4978, source_val_label_loss: 2.0061, target_val_label_loss: 2.2715, \n",
      "=============================================================\n"
     ]
    },
    {
     "name": "stdout",
     "output_type": "stream",
     "text": [
      "New best\n"
     ]
    },
    {
     "name": "stdout",
     "output_type": "stream",
     "text": [
      "epoch: 16, [batch: 1 / 2520], examples_per_second: 11.0456, train_label_loss: 0.0384, \n"
     ]
    },
    {
     "name": "stdout",
     "output_type": "stream",
     "text": [
      "epoch: 16, [batch: 252 / 2520], examples_per_second: 3178.1150, train_label_loss: 0.1380, \n"
     ]
    },
    {
     "name": "stdout",
     "output_type": "stream",
     "text": [
      "epoch: 16, [batch: 504 / 2520], examples_per_second: 3182.6019, train_label_loss: 0.3578, \n"
     ]
    },
    {
     "name": "stdout",
     "output_type": "stream",
     "text": [
      "epoch: 16, [batch: 756 / 2520], examples_per_second: 3217.0176, train_label_loss: 0.2732, \n"
     ]
    },
    {
     "name": "stdout",
     "output_type": "stream",
     "text": [
      "epoch: 16, [batch: 1008 / 2520], examples_per_second: 3193.2451, train_label_loss: 0.0941, \n"
     ]
    },
    {
     "name": "stdout",
     "output_type": "stream",
     "text": [
      "epoch: 16, [batch: 1260 / 2520], examples_per_second: 3197.8836, train_label_loss: 0.1265, \n"
     ]
    },
    {
     "name": "stdout",
     "output_type": "stream",
     "text": [
      "epoch: 16, [batch: 1512 / 2520], examples_per_second: 3195.8353, train_label_loss: 0.0720, \n"
     ]
    },
    {
     "name": "stdout",
     "output_type": "stream",
     "text": [
      "epoch: 16, [batch: 1764 / 2520], examples_per_second: 3194.0261, train_label_loss: 0.0559, \n"
     ]
    },
    {
     "name": "stdout",
     "output_type": "stream",
     "text": [
      "epoch: 16, [batch: 2016 / 2520], examples_per_second: 3187.8390, train_label_loss: 0.2857, \n"
     ]
    },
    {
     "name": "stdout",
     "output_type": "stream",
     "text": [
      "epoch: 16, [batch: 2268 / 2520], examples_per_second: 3193.3784, train_label_loss: 0.1043, \n"
     ]
    },
    {
     "name": "stdout",
     "output_type": "stream",
     "text": [
      "=============================================================\n",
      "epoch: 16, source_val_acc_label: 0.5819, target_val_acc_label: 0.4947, source_val_label_loss: 2.0261, target_val_label_loss: 2.3531, \n",
      "=============================================================\n"
     ]
    },
    {
     "name": "stdout",
     "output_type": "stream",
     "text": [
      "epoch: 17, [batch: 1 / 2520], examples_per_second: 11.1533, train_label_loss: 0.0540, \n"
     ]
    },
    {
     "name": "stdout",
     "output_type": "stream",
     "text": [
      "epoch: 17, [batch: 252 / 2520], examples_per_second: 3165.2335, train_label_loss: 0.1055, \n"
     ]
    },
    {
     "name": "stdout",
     "output_type": "stream",
     "text": [
      "epoch: 17, [batch: 504 / 2520], examples_per_second: 3191.7599, train_label_loss: 0.0679, \n"
     ]
    },
    {
     "name": "stdout",
     "output_type": "stream",
     "text": [
      "epoch: 17, [batch: 756 / 2520], examples_per_second: 3187.0025, train_label_loss: 0.0907, \n"
     ]
    },
    {
     "name": "stdout",
     "output_type": "stream",
     "text": [
      "epoch: 17, [batch: 1008 / 2520], examples_per_second: 3151.9858, train_label_loss: 0.1666, \n"
     ]
    },
    {
     "name": "stdout",
     "output_type": "stream",
     "text": [
      "epoch: 17, [batch: 1260 / 2520], examples_per_second: 3170.5444, train_label_loss: 0.0958, \n"
     ]
    },
    {
     "name": "stdout",
     "output_type": "stream",
     "text": [
      "epoch: 17, [batch: 1512 / 2520], examples_per_second: 3173.0384, train_label_loss: 0.0511, \n"
     ]
    },
    {
     "name": "stdout",
     "output_type": "stream",
     "text": [
      "epoch: 17, [batch: 1764 / 2520], examples_per_second: 3175.3711, train_label_loss: 0.0564, \n"
     ]
    },
    {
     "name": "stdout",
     "output_type": "stream",
     "text": [
      "epoch: 17, [batch: 2016 / 2520], examples_per_second: 3183.6818, train_label_loss: 0.2392, \n"
     ]
    },
    {
     "name": "stdout",
     "output_type": "stream",
     "text": [
      "epoch: 17, [batch: 2268 / 2520], examples_per_second: 3190.1663, train_label_loss: 0.0373, \n"
     ]
    },
    {
     "name": "stdout",
     "output_type": "stream",
     "text": [
      "=============================================================\n",
      "epoch: 17, source_val_acc_label: 0.5903, target_val_acc_label: 0.4958, source_val_label_loss: 1.9739, target_val_label_loss: 2.2431, \n",
      "=============================================================\n"
     ]
    },
    {
     "name": "stdout",
     "output_type": "stream",
     "text": [
      "epoch: 18, [batch: 1 / 2520], examples_per_second: 11.0679, train_label_loss: 0.0472, \n"
     ]
    },
    {
     "name": "stdout",
     "output_type": "stream",
     "text": [
      "epoch: 18, [batch: 252 / 2520], examples_per_second: 3176.0015, train_label_loss: 0.0449, \n"
     ]
    },
    {
     "name": "stdout",
     "output_type": "stream",
     "text": [
      "epoch: 18, [batch: 504 / 2520], examples_per_second: 3175.1126, train_label_loss: 0.0598, \n"
     ]
    },
    {
     "name": "stdout",
     "output_type": "stream",
     "text": [
      "epoch: 18, [batch: 756 / 2520], examples_per_second: 3179.5941, train_label_loss: 0.3017, \n"
     ]
    },
    {
     "name": "stdout",
     "output_type": "stream",
     "text": [
      "epoch: 18, [batch: 1008 / 2520], examples_per_second: 3183.4819, train_label_loss: 0.3896, \n"
     ]
    },
    {
     "name": "stdout",
     "output_type": "stream",
     "text": [
      "epoch: 18, [batch: 1260 / 2520], examples_per_second: 3190.0968, train_label_loss: 0.0551, \n"
     ]
    },
    {
     "name": "stdout",
     "output_type": "stream",
     "text": [
      "epoch: 18, [batch: 1512 / 2520], examples_per_second: 3186.0796, train_label_loss: 0.1144, \n"
     ]
    },
    {
     "name": "stdout",
     "output_type": "stream",
     "text": [
      "epoch: 18, [batch: 1764 / 2520], examples_per_second: 3177.0942, train_label_loss: 0.0498, \n"
     ]
    },
    {
     "name": "stdout",
     "output_type": "stream",
     "text": [
      "epoch: 18, [batch: 2016 / 2520], examples_per_second: 3188.7076, train_label_loss: 0.1453, \n"
     ]
    },
    {
     "name": "stdout",
     "output_type": "stream",
     "text": [
      "epoch: 18, [batch: 2268 / 2520], examples_per_second: 3193.8889, train_label_loss: 0.2105, \n"
     ]
    },
    {
     "name": "stdout",
     "output_type": "stream",
     "text": [
      "=============================================================\n",
      "epoch: 18, source_val_acc_label: 0.5815, target_val_acc_label: 0.4946, source_val_label_loss: 2.0795, target_val_label_loss: 2.3914, \n",
      "=============================================================\n"
     ]
    },
    {
     "name": "stdout",
     "output_type": "stream",
     "text": [
      "epoch: 19, [batch: 1 / 2520], examples_per_second: 11.1467, train_label_loss: 0.0303, \n"
     ]
    },
    {
     "name": "stdout",
     "output_type": "stream",
     "text": [
      "epoch: 19, [batch: 252 / 2520], examples_per_second: 3181.7317, train_label_loss: 0.0163, \n"
     ]
    },
    {
     "name": "stdout",
     "output_type": "stream",
     "text": [
      "epoch: 19, [batch: 504 / 2520], examples_per_second: 3181.4452, train_label_loss: 0.0953, \n"
     ]
    },
    {
     "name": "stdout",
     "output_type": "stream",
     "text": [
      "epoch: 19, [batch: 756 / 2520], examples_per_second: 3186.5679, train_label_loss: 0.0338, \n"
     ]
    },
    {
     "name": "stdout",
     "output_type": "stream",
     "text": [
      "epoch: 19, [batch: 1008 / 2520], examples_per_second: 3176.8055, train_label_loss: 0.1437, \n"
     ]
    },
    {
     "name": "stdout",
     "output_type": "stream",
     "text": [
      "epoch: 19, [batch: 1260 / 2520], examples_per_second: 3188.1418, train_label_loss: 0.3269, \n"
     ]
    },
    {
     "name": "stdout",
     "output_type": "stream",
     "text": [
      "epoch: 19, [batch: 1512 / 2520], examples_per_second: 3187.0335, train_label_loss: 0.1734, \n"
     ]
    },
    {
     "name": "stdout",
     "output_type": "stream",
     "text": [
      "epoch: 19, [batch: 1764 / 2520], examples_per_second: 3165.4188, train_label_loss: 0.0227, \n"
     ]
    },
    {
     "name": "stdout",
     "output_type": "stream",
     "text": [
      "epoch: 19, [batch: 2016 / 2520], examples_per_second: 3190.4200, train_label_loss: 0.0040, \n"
     ]
    },
    {
     "name": "stdout",
     "output_type": "stream",
     "text": [
      "epoch: 19, [batch: 2268 / 2520], examples_per_second: 3190.3783, train_label_loss: 0.0155, \n"
     ]
    },
    {
     "name": "stdout",
     "output_type": "stream",
     "text": [
      "=============================================================\n",
      "epoch: 19, source_val_acc_label: 0.5902, target_val_acc_label: 0.4943, source_val_label_loss: 2.1195, target_val_label_loss: 2.3967, \n",
      "=============================================================\n"
     ]
    },
    {
     "name": "stdout",
     "output_type": "stream",
     "text": [
      "Patience (3) exhausted\n"
     ]
    }
   ],
   "source": [
    "###################################\n",
    "# train\n",
    "###################################\n",
    "jig = PTN_Train_Eval_Test_Jig(model, p.BEST_MODEL_PATH, p.device)\n",
    "\n",
    "jig.train(\n",
    "    train_iterable=datasets.source.processed.train,\n",
    "    source_val_iterable=datasets.source.processed.val,\n",
    "    target_val_iterable=datasets.target.processed.val,\n",
    "    num_epochs=p.n_epoch,\n",
    "    num_logs_per_epoch=p.NUM_LOGS_PER_EPOCH,\n",
    "    patience=p.patience,\n",
    "    optimizer=optimizer,\n",
    "    criteria_for_best=p.criteria_for_best,\n",
    ")"
   ]
  },
  {
   "cell_type": "code",
   "execution_count": 14,
   "id": "31e8fabf",
   "metadata": {
    "execution": {
     "iopub.execute_input": "2022-04-01T22:10:55.971714Z",
     "iopub.status.busy": "2022-04-01T22:10:55.971456Z",
     "iopub.status.idle": "2022-04-01T22:10:55.990617Z",
     "shell.execute_reply": "2022-04-01T22:10:55.990228Z"
    },
    "papermill": {
     "duration": 0.072036,
     "end_time": "2022-04-01T22:10:55.990706",
     "exception": false,
     "start_time": "2022-04-01T22:10:55.918670",
     "status": "completed"
    },
    "tags": []
   },
   "outputs": [],
   "source": [
    "total_experiment_time_secs = time.time() - start_time_secs"
   ]
  },
  {
   "cell_type": "code",
   "execution_count": 15,
   "id": "87b9595b",
   "metadata": {
    "execution": {
     "iopub.execute_input": "2022-04-01T22:10:56.098711Z",
     "iopub.status.busy": "2022-04-01T22:10:56.098418Z",
     "iopub.status.idle": "2022-04-01T22:11:44.980502Z",
     "shell.execute_reply": "2022-04-01T22:11:44.980238Z"
    },
    "papermill": {
     "duration": 48.937765,
     "end_time": "2022-04-01T22:11:44.980570",
     "exception": false,
     "start_time": "2022-04-01T22:10:56.042805",
     "status": "completed"
    },
    "tags": []
   },
   "outputs": [],
   "source": [
    "###################################\n",
    "# Evaluate the model\n",
    "###################################\n",
    "source_test_label_accuracy, source_test_label_loss = jig.test(datasets.source.processed.test)\n",
    "target_test_label_accuracy, target_test_label_loss = jig.test(datasets.target.processed.test)\n",
    "\n",
    "source_val_label_accuracy, source_val_label_loss = jig.test(datasets.source.processed.val)\n",
    "target_val_label_accuracy, target_val_label_loss = jig.test(datasets.target.processed.val)\n",
    "\n",
    "history = jig.get_history()\n",
    "\n",
    "total_epochs_trained = len(history[\"epoch_indices\"])\n",
    "\n",
    "val_dl = Iterable_Aggregator((datasets.source.original.val,datasets.target.original.val))\n",
    "\n",
    "confusion = ptn_confusion_by_domain_over_dataloader(model, p.device, val_dl)\n",
    "per_domain_accuracy = per_domain_accuracy_from_confusion(confusion)\n",
    "\n",
    "# Add a key to per_domain_accuracy for if it was a source domain\n",
    "for domain, accuracy in per_domain_accuracy.items():\n",
    "    per_domain_accuracy[domain] = {\n",
    "        \"accuracy\": accuracy,\n",
    "        \"source?\": domain in p.domains_source\n",
    "    }\n",
    "\n",
    "# Do an independent accuracy assesment JUST TO BE SURE!\n",
    "# _source_test_label_accuracy = independent_accuracy_assesment(model, datasets.source.processed.test, p.device)\n",
    "# _target_test_label_accuracy = independent_accuracy_assesment(model, datasets.target.processed.test, p.device)\n",
    "# _source_val_label_accuracy = independent_accuracy_assesment(model, datasets.source.processed.val, p.device)\n",
    "# _target_val_label_accuracy = independent_accuracy_assesment(model, datasets.target.processed.val, p.device)\n",
    "\n",
    "# assert(_source_test_label_accuracy == source_test_label_accuracy)\n",
    "# assert(_target_test_label_accuracy == target_test_label_accuracy)\n",
    "# assert(_source_val_label_accuracy == source_val_label_accuracy)\n",
    "# assert(_target_val_label_accuracy == target_val_label_accuracy)\n",
    "\n",
    "experiment = {\n",
    "    \"experiment_name\": p.experiment_name,\n",
    "    \"parameters\": dict(p),\n",
    "    \"results\": {\n",
    "        \"source_test_label_accuracy\": source_test_label_accuracy,\n",
    "        \"source_test_label_loss\": source_test_label_loss,\n",
    "        \"target_test_label_accuracy\": target_test_label_accuracy,\n",
    "        \"target_test_label_loss\": target_test_label_loss,\n",
    "        \"source_val_label_accuracy\": source_val_label_accuracy,\n",
    "        \"source_val_label_loss\": source_val_label_loss,\n",
    "        \"target_val_label_accuracy\": target_val_label_accuracy,\n",
    "        \"target_val_label_loss\": target_val_label_loss,\n",
    "        \"total_epochs_trained\": total_epochs_trained,\n",
    "        \"total_experiment_time_secs\": total_experiment_time_secs,\n",
    "        \"confusion\": confusion,\n",
    "        \"per_domain_accuracy\": per_domain_accuracy,\n",
    "    },\n",
    "    \"history\": history,\n",
    "    \"dataset_metrics\": get_dataset_metrics(datasets, \"ptn\"),\n",
    "}"
   ]
  },
  {
   "cell_type": "code",
   "execution_count": 16,
   "id": "54a21829",
   "metadata": {
    "execution": {
     "iopub.execute_input": "2022-04-01T22:11:45.081670Z",
     "iopub.status.busy": "2022-04-01T22:11:45.081366Z",
     "iopub.status.idle": "2022-04-01T22:11:45.199318Z",
     "shell.execute_reply": "2022-04-01T22:11:45.199063Z"
    },
    "papermill": {
     "duration": 0.167643,
     "end_time": "2022-04-01T22:11:45.199369",
     "exception": false,
     "start_time": "2022-04-01T22:11:45.031726",
     "status": "completed"
    },
    "tags": []
   },
   "outputs": [
    {
     "data": {
      "image/png": "[encoded data removed]",
      "text/plain": [
       "<Figure size 1080x504 with 1 Axes>"
      ]
     },
     "metadata": {
      "needs_background": "light"
     },
     "output_type": "display_data"
    }
   ],
   "source": [
    "ax = get_loss_curve(experiment)\n",
    "plt.show()"
   ]
  },
  {
   "cell_type": "code",
   "execution_count": 17,
   "id": "fd8a0f60",
   "metadata": {
    "execution": {
     "iopub.execute_input": "2022-04-01T22:11:45.307500Z",
     "iopub.status.busy": "2022-04-01T22:11:45.300230Z",
     "iopub.status.idle": "2022-04-01T22:11:45.444965Z",
     "shell.execute_reply": "2022-04-01T22:11:45.445176Z"
    },
    "papermill": {
     "duration": 0.195525,
     "end_time": "2022-04-01T22:11:45.445239",
     "exception": false,
     "start_time": "2022-04-01T22:11:45.249714",
     "status": "completed"
    },
    "tags": []
   },
   "outputs": [
    {
     "data": {
      "text/plain": [
       "<AxesSubplot:title={'center':'Results'}>"
      ]
     },
     "execution_count": 17,
     "metadata": {},
     "output_type": "execute_result"
    },
    {
     "data": {
      "image/png": "[encoded data removed]",
      "text/plain": [
       "<Figure size 1080x504 with 1 Axes>"
      ]
     },
     "metadata": {
      "needs_background": "light"
     },
     "output_type": "display_data"
    }
   ],
   "source": [
    "get_results_table(experiment)"
   ]
  },
  {
   "cell_type": "code",
   "execution_count": 18,
   "id": "cf8dc689",
   "metadata": {
    "execution": {
     "iopub.execute_input": "2022-04-01T22:11:45.549436Z",
     "iopub.status.busy": "2022-04-01T22:11:45.549183Z",
     "iopub.status.idle": "2022-04-01T22:11:45.663605Z",
     "shell.execute_reply": "2022-04-01T22:11:45.663183Z"
    },
    "papermill": {
     "duration": 0.167276,
     "end_time": "2022-04-01T22:11:45.663705",
     "exception": false,
     "start_time": "2022-04-01T22:11:45.496429",
     "status": "completed"
    },
    "tags": []
   },
   "outputs": [
    {
     "data": {
      "text/plain": [
       "<AxesSubplot:title={'center':'Per Domain Validation Accuracy'}, xlabel='domain'>"
      ]
     },
     "execution_count": 18,
     "metadata": {},
     "output_type": "execute_result"
    },
    {
     "data": {
      "image/png": "[encoded data removed]",
      "text/plain": [
       "<Figure size 1080x504 with 1 Axes>"
      ]
     },
     "metadata": {
      "needs_background": "light"
     },
     "output_type": "display_data"
    }
   ],
   "source": [
    "get_domain_accuracies(experiment)"
   ]
  },
  {
   "cell_type": "code",
   "execution_count": 19,
   "id": "a74ae082",
   "metadata": {
    "execution": {
     "iopub.execute_input": "2022-04-01T22:11:45.772897Z",
     "iopub.status.busy": "2022-04-01T22:11:45.772641Z",
     "iopub.status.idle": "2022-04-01T22:11:45.788822Z",
     "shell.execute_reply": "2022-04-01T22:11:45.788615Z"
    },
    "papermill": {
     "duration": 0.069953,
     "end_time": "2022-04-01T22:11:45.788873",
     "exception": false,
     "start_time": "2022-04-01T22:11:45.718920",
     "status": "completed"
    },
    "tags": []
   },
   "outputs": [
    {
     "name": "stdout",
     "output_type": "stream",
     "text": [
      "Source Test Label Accuracy: 0.5891493055555556 Target Test Label Accuracy: 0.5005729166666667\n",
      "Source Val Label Accuracy: 0.5872395833333334 Target Val Label Accuracy: 0.4978125\n"
     ]
    }
   ],
   "source": [
    "print(\"Source Test Label Accuracy:\", experiment[\"results\"][\"source_test_label_accuracy\"], \"Target Test Label Accuracy:\", experiment[\"results\"][\"target_test_label_accuracy\"])\n",
    "print(\"Source Val Label Accuracy:\", experiment[\"results\"][\"source_val_label_accuracy\"], \"Target Val Label Accuracy:\", experiment[\"results\"][\"target_val_label_accuracy\"])"
   ]
  },
  {
   "cell_type": "code",
   "execution_count": 20,
   "id": "dacca602",
   "metadata": {
    "execution": {
     "iopub.execute_input": "2022-04-01T22:11:45.896785Z",
     "iopub.status.busy": "2022-04-01T22:11:45.894055Z",
     "iopub.status.idle": "2022-04-01T22:11:45.910084Z",
     "shell.execute_reply": "2022-04-01T22:11:45.909878Z"
    },
    "papermill": {
     "duration": 0.069557,
     "end_time": "2022-04-01T22:11:45.910134",
     "exception": false,
     "start_time": "2022-04-01T22:11:45.840577",
     "status": "completed"
    },
    "tags": [
     "experiment_json"
    ]
   },
   "outputs": [
    {
     "data": {
      "text/plain": [
       "'{\"experiment_name\": \"tuned_1v2:oracle.run1_limited\", \"parameters\": {\"experiment_name\": \"tuned_1v2:oracle.run1_limited\", \"device\": \"cuda\", \"lr\": 0.0001, \"labels_source\": [\"3123D52\", \"3123D65\", \"3123D79\", \"3123D80\", \"3123D54\", \"3123D70\", \"3123D7B\", \"3123D89\", \"3123D58\", \"3123D76\", \"3123D7D\", \"3123EFE\", \"3123D64\", \"3123D78\", \"3123D7E\", \"3124E4A\"], \"labels_target\": [\"3123D52\", \"3123D65\", \"3123D79\", \"3123D80\", \"3123D54\", \"3123D70\", \"3123D7B\", \"3123D89\", \"3123D58\", \"3123D76\", \"3123D7D\", \"3123EFE\", \"3123D64\", \"3123D78\", \"3123D7E\", \"3124E4A\"], \"episode_transforms_source\": [], \"episode_transforms_target\": [], \"domains_source\": [8, 32, 50], \"domains_target\": [14, 20, 26, 38, 44], \"num_examples_per_domain_per_label_source\": 2000, \"num_examples_per_domain_per_label_target\": 2000, \"n_shot\": 3, \"n_way\": 16, \"n_query\": 2, \"train_k_factor\": 3, \"val_k_factor\": 2, \"test_k_factor\": 2, \"torch_default_dtype\": \"torch.float32\", \"n_epoch\": 50, \"patience\": 3, \"criteria_for_best\": \"target_accuracy\", \"x_net\": [{\"class\": \"nnReshape\", \"kargs\": {\"shape\": [-1, 1, 2, 256]}}, {\"class\": \"Conv2d\", \"kargs\": {\"in_channels\": 1, \"out_channels\": 256, \"kernel_size\": [1, 7], \"bias\": false, \"padding\": [0, 3]}}, {\"class\": \"ReLU\", \"kargs\": {\"inplace\": true}}, {\"class\": \"BatchNorm2d\", \"kargs\": {\"num_features\": 256}}, {\"class\": \"Conv2d\", \"kargs\": {\"in_channels\": 256, \"out_channels\": 80, \"kernel_size\": [2, 7], \"bias\": true, \"padding\": [0, 3]}}, {\"class\": \"ReLU\", \"kargs\": {\"inplace\": true}}, {\"class\": \"BatchNorm2d\", \"kargs\": {\"num_features\": 80}}, {\"class\": \"Flatten\", \"kargs\": {}}, {\"class\": \"Linear\", \"kargs\": {\"in_features\": 20480, \"out_features\": 256}}, {\"class\": \"ReLU\", \"kargs\": {\"inplace\": true}}, {\"class\": \"BatchNorm1d\", \"kargs\": {\"num_features\": 256}}, {\"class\": \"Linear\", \"kargs\": {\"in_features\": 256, \"out_features\": 256}}], \"NUM_LOGS_PER_EPOCH\": 10, \"BEST_MODEL_PATH\": \"./best_model.pth\", \"pickle_name\": \"oracle.Run1_10kExamples_stratified_ds.2022A.pkl\", \"x_transforms_source\": [\"unit_power\"], \"x_transforms_target\": [\"unit_power\"], \"dataset_seed\": 1337, \"seed\": 1337}, \"results\": {\"source_test_label_accuracy\": 0.5891493055555556, \"source_test_label_loss\": 1.9967368841171265, \"target_test_label_accuracy\": 0.5005729166666667, \"target_test_label_loss\": 2.284322738647461, \"source_val_label_accuracy\": 0.5872395833333334, \"source_val_label_loss\": 2.0060794353485107, \"target_val_label_accuracy\": 0.4978125, \"target_val_label_loss\": 2.2714786529541016, \"total_epochs_trained\": 19, \"total_experiment_time_secs\": 1375.895403623581, \"confusion\": {\"8\": {\"15\": {\"12\": 68, \"3\": 10, \"2\": 20, \"15\": 121, \"8\": 17, \"7\": 4}, \"3\": {\"3\": 144, \"2\": 50, \"12\": 33, \"15\": 13}, \"6\": {\"7\": 55, \"6\": 72, \"0\": 29, \"4\": 32, \"13\": 18, \"8\": 23, \"14\": 7, \"12\": 1, \"15\": 1, \"1\": 1, \"11\": 1}, \"1\": {\"11\": 80, \"4\": 8, \"1\": 76, \"5\": 17, \"10\": 27, \"14\": 30, \"13\": 2}, \"8\": {\"8\": 184, \"15\": 20, \"6\": 13, \"7\": 12, \"13\": 2, \"11\": 5, \"4\": 2, \"12\": 1, \"1\": 1}, \"10\": {\"1\": 33, \"10\": 82, \"5\": 15, \"14\": 54, \"13\": 31, \"6\": 1, \"4\": 13, \"11\": 6, \"0\": 4, \"7\": 1}, \"9\": {\"9\": 240}, \"13\": {\"14\": 29, \"10\": 21, \"4\": 44, \"0\": 60, \"13\": 60, \"6\": 13, \"1\": 4, \"5\": 1, \"7\": 7, \"11\": 1}, \"12\": {\"3\": 48, \"15\": 55, \"12\": 105, \"2\": 23, \"8\": 9}, \"5\": {\"5\": 184, \"1\": 22, \"11\": 12, \"10\": 18, \"14\": 4}, \"0\": {\"7\": 24, \"6\": 40, \"13\": 50, \"4\": 29, \"10\": 7, \"0\": 67, \"14\": 21, \"1\": 2}, \"2\": {\"2\": 145, \"15\": 21, \"3\": 59, \"12\": 11, \"7\": 4}, \"11\": {\"11\": 107, \"5\": 19, \"1\": 69, \"4\": 10, \"14\": 11, \"10\": 11, \"6\": 2, \"13\": 5, \"7\": 1, \"8\": 4, \"0\": 1}, \"14\": {\"10\": 51, \"14\": 59, \"0\": 15, \"11\": 10, \"13\": 39, \"4\": 27, \"1\": 29, \"6\": 5, \"5\": 5}, \"7\": {\"7\": 119, \"0\": 30, \"2\": 4, \"8\": 19, \"6\": 54, \"15\": 6, \"13\": 5, \"4\": 3}, \"4\": {\"4\": 65, \"1\": 7, \"6\": 25, \"14\": 24, \"0\": 45, \"13\": 51, \"7\": 7, \"10\": 12, \"11\": 3, \"8\": 1}}, \"50\": {\"3\": {\"3\": 224, \"8\": 16}, \"15\": {\"15\": 141, \"1\": 45, \"4\": 31, \"11\": 13, \"14\": 4, \"6\": 6}, \"8\": {\"8\": 224, \"10\": 10, \"3\": 6}, \"4\": {\"6\": 43, \"1\": 43, \"15\": 42, \"7\": 6, \"4\": 76, \"5\": 21, \"13\": 6, \"11\": 1, \"14\": 1, \"2\": 1}, \"14\": {\"14\": 220, \"11\": 3, \"1\": 2, \"12\": 12, \"9\": 2, \"4\": 1}, \"0\": {\"2\": 27, \"10\": 24, \"0\": 174, \"13\": 7, \"5\": 2, \"6\": 4, \"7\": 2}, \"7\": {\"13\": 62, \"7\": 118, \"5\": 28, \"0\": 2, \"10\": 25, \"6\": 2, \"4\": 3}, \"6\": {\"4\": 34, \"6\": 118, \"1\": 31, \"7\": 1, \"5\": 32, \"15\": 7, \"0\": 1, \"13\": 15, \"2\": 1}, \"10\": {\"10\": 199, \"7\": 13, \"8\": 5, \"0\": 19, \"13\": 4}, \"5\": {\"5\": 53, \"13\": 51, \"4\": 24, \"7\": 56, \"6\": 41, \"10\": 4, \"1\": 9, \"0\": 2}, \"2\": {\"2\": 215, \"0\": 22, \"6\": 2, \"4\": 1}, \"12\": {\"12\": 196, \"9\": 26, \"14\": 12, \"11\": 6}, \"9\": {\"9\": 141, \"11\": 57, \"12\": 33, \"14\": 8, \"15\": 1}, \"1\": {\"4\": 36, \"15\": 59, \"6\": 25, \"1\": 115, \"14\": 3, \"13\": 1, \"11\": 1}, \"11\": {\"11\": 181, \"12\": 9, \"9\": 25, \"14\": 17, \"4\": 1, \"15\": 6, \"1\": 1}, \"13\": {\"7\": 44, \"5\": 67, \"13\": 101, \"1\": 2, \"6\": 18, \"0\": 2, \"10\": 5, \"4\": 1}}, \"32\": {\"5\": {\"7\": 25, \"4\": 22, \"13\": 53, \"5\": 39, \"11\": 15, \"3\": 14, \"0\": 22, \"14\": 18, \"8\": 25, \"2\": 7}, \"8\": {\"8\": 133, \"14\": 2, \"13\": 28, \"5\": 29, \"0\": 17, \"3\": 15, \"4\": 9, \"2\": 3, \"11\": 2, \"7\": 2}, \"11\": {\"14\": 47, \"11\": 137, \"13\": 20, \"3\": 14, \"5\": 7, \"7\": 15}, \"1\": {\"1\": 237, \"10\": 3}, \"10\": {\"10\": 235, \"1\": 4, \"6\": 1}, \"15\": {\"15\": 227, \"3\": 9, \"8\": 3, \"5\": 1}, \"3\": {\"3\": 198, \"11\": 14, \"13\": 11, \"5\": 3, \"8\": 8, \"15\": 3, \"14\": 3}, \"7\": {\"14\": 50, \"4\": 35, \"13\": 20, \"7\": 78, \"5\": 15, \"11\": 13, \"2\": 17, \"0\": 5, \"8\": 5, \"3\": 2}, \"4\": {\"4\": 75, \"14\": 11, \"2\": 60, \"0\": 41, \"5\": 20, \"7\": 19, \"8\": 8, \"13\": 5, \"3\": 1}, \"14\": {\"8\": 3, \"13\": 21, \"7\": 43, \"11\": 52, \"14\": 71, \"4\": 20, \"0\": 5, \"5\": 17, \"2\": 5, \"3\": 3}, \"9\": {\"9\": 239, \"12\": 1}, \"12\": {\"12\": 239, \"9\": 1}, \"6\": {\"6\": 239, \"10\": 1}, \"2\": {\"2\": 165, \"4\": 46, \"0\": 26, \"7\": 2, \"5\": 1}, \"0\": {\"5\": 30, \"2\": 36, \"8\": 21, \"0\": 74, \"4\": 53, \"7\": 17, \"13\": 8, \"14\": 1}, \"13\": {\"5\": 45, \"14\": 20, \"4\": 13, \"7\": 21, \"3\": 23, \"8\": 35, \"13\": 53, \"11\": 15, \"0\": 13, \"2\": 2}}, \"14\": {\"15\": {\"15\": 188, \"7\": 48, \"2\": 1, \"5\": 2, \"1\": 1}, \"3\": {\"3\": 137, \"4\": 53, \"13\": 4, \"14\": 24, \"0\": 4, \"10\": 4, \"2\": 4, \"6\": 1, \"1\": 6, \"5\": 3}, \"6\": {\"6\": 91, \"13\": 68, \"14\": 33, \"2\": 40, \"3\": 1, \"4\": 4, \"5\": 1, \"15\": 2}, \"1\": {\"4\": 24, \"7\": 7, \"5\": 63, \"1\": 137, \"3\": 6, \"2\": 2, \"15\": 1}, \"8\": {\"8\": 240}, \"10\": {\"10\": 129, \"0\": 74, \"3\": 7, \"13\": 1, \"11\": 18, \"14\": 10, \"8\": 1}, \"9\": {\"9\": 217, \"11\": 17, \"12\": 4, \"8\": 2}, \"13\": {\"6\": 83, \"13\": 58, \"14\": 49, \"15\": 2, \"2\": 32, \"4\": 6, \"3\": 5, \"5\": 4, \"10\": 1}, \"12\": {\"12\": 234, \"9\": 6}, \"5\": {\"5\": 89, \"4\": 45, \"1\": 61, \"2\": 19, \"3\": 11, \"15\": 3, \"7\": 8, \"6\": 1, \"14\": 1, \"13\": 2}, \"0\": {\"11\": 20, \"0\": 140, \"8\": 10, \"10\": 63, \"3\": 6, \"14\": 1}, \"2\": {\"5\": 38, \"4\": 30, \"2\": 71, \"14\": 22, \"15\": 11, \"3\": 13, \"13\": 18, \"6\": 26, \"7\": 4, \"1\": 7}, \"11\": {\"11\": 178, \"9\": 27, \"10\": 14, \"0\": 21}, \"14\": {\"13\": 50, \"14\": 98, \"2\": 26, \"3\": 27, \"10\": 2, \"6\": 22, \"4\": 13, \"5\": 1, \"0\": 1}, \"7\": {\"7\": 189, \"15\": 42, \"5\": 7, \"1\": 2}, \"4\": {\"5\": 53, \"4\": 72, \"3\": 46, \"2\": 31, \"1\": 23, \"13\": 3, \"14\": 10, \"6\": 2}}, \"20\": {\"3\": {\"4\": 34, \"0\": 13, \"13\": 10, \"3\": 36, \"1\": 8, \"2\": 19, \"8\": 18, \"12\": 35, \"7\": 11, \"15\": 6, \"6\": 2, \"9\": 39, \"5\": 9}, \"15\": {\"12\": 12, \"3\": 3, \"15\": 85, \"5\": 27, \"1\": 50, \"0\": 42, \"2\": 2, \"9\": 4, \"13\": 15}, \"8\": {\"4\": 50, \"2\": 17, \"7\": 41, \"8\": 67, \"14\": 9, \"10\": 24, \"9\": 9, \"13\": 1, \"6\": 8, \"12\": 2, \"3\": 12}, \"4\": {\"4\": 104, \"3\": 31, \"2\": 6, \"8\": 41, \"7\": 6, \"10\": 19, \"1\": 1, \"12\": 13, \"0\": 6, \"9\": 7, \"5\": 4, \"14\": 2}, \"14\": {\"10\": 61, \"14\": 90, \"6\": 59, \"11\": 2, \"8\": 16, \"7\": 9, \"9\": 1, \"3\": 1, \"4\": 1}, \"0\": {\"1\": 40, \"0\": 45, \"5\": 51, \"3\": 13, \"15\": 38, \"12\": 27, \"9\": 7, \"4\": 10, \"13\": 9}, \"7\": {\"7\": 109, \"6\": 8, \"10\": 4, \"13\": 10, \"9\": 21, \"3\": 8, \"8\": 25, \"2\": 43, \"12\": 3, \"14\": 2, \"4\": 5, \"11\": 1, \"0\": 1}, \"6\": {\"6\": 137, \"7\": 17, \"11\": 8, \"14\": 57, \"10\": 9, \"8\": 9, \"4\": 1, \"2\": 1, \"3\": 1}, \"10\": {\"8\": 42, \"10\": 105, \"14\": 49, \"6\": 12, \"4\": 16, \"7\": 12, \"3\": 1, \"9\": 1, \"12\": 1, \"11\": 1}, \"5\": {\"5\": 45, \"15\": 33, \"12\": 26, \"3\": 17, \"0\": 48, \"1\": 42, \"9\": 11, \"13\": 9, \"4\": 6, \"2\": 1, \"8\": 2}, \"2\": {\"7\": 40, \"13\": 41, \"2\": 49, \"9\": 36, \"15\": 4, \"3\": 23, \"4\": 8, \"12\": 28, \"1\": 2, \"5\": 2, \"8\": 5, \"0\": 2}, \"12\": {\"3\": 31, \"12\": 48, \"5\": 35, \"1\": 21, \"0\": 17, \"7\": 7, \"2\": 17, \"8\": 5, \"15\": 9, \"4\": 10, \"13\": 17, \"9\": 23}, \"9\": {\"7\": 22, \"4\": 10, \"3\": 28, \"13\": 37, \"9\": 53, \"2\": 29, \"1\": 11, \"8\": 15, \"12\": 20, \"15\": 5, \"5\": 7, \"10\": 1, \"14\": 1, \"0\": 1}, \"1\": {\"15\": 52, \"1\": 54, \"5\": 42, \"13\": 8, \"0\": 44, \"9\": 6, \"12\": 16, \"3\": 11, \"4\": 4, \"7\": 2, \"2\": 1}, \"11\": {\"11\": 211, \"7\": 10, \"6\": 13, \"13\": 3, \"2\": 3}, \"13\": {\"13\": 119, \"15\": 9, \"1\": 14, \"9\": 22, \"2\": 35, \"3\": 16, \"12\": 7, \"0\": 4, \"7\": 7, \"5\": 5, \"11\": 1, \"8\": 1}}, \"44\": {\"5\": {\"15\": 22, \"5\": 159, \"0\": 45, \"8\": 6, \"14\": 8}, \"8\": {\"8\": 155, \"0\": 73, \"15\": 6, \"5\": 6}, \"11\": {\"11\": 186, \"6\": 30, \"13\": 23, \"9\": 1}, \"1\": {\"3\": 43, \"12\": 48, \"1\": 103, \"10\": 20, \"2\": 25, \"7\": 1}, \"10\": {\"12\": 38, \"10\": 149, \"1\": 31, \"2\": 22}, \"15\": {\"15\": 180, \"14\": 24, \"5\": 8, \"8\": 2, \"4\": 7, \"0\": 19}, \"3\": {\"1\": 47, \"3\": 184, \"2\": 6, \"12\": 2, \"7\": 1}, \"7\": {\"7\": 112, \"2\": 50, \"9\": 42, \"13\": 2, \"6\": 17, \"11\": 1, \"3\": 10, \"1\": 5, \"10\": 1}, \"4\": {\"14\": 82, \"4\": 152, \"15\": 4, \"5\": 2}, \"14\": {\"4\": 81, \"14\": 130, \"15\": 23, \"5\": 5, \"0\": 1}, \"9\": {\"7\": 53, \"6\": 12, \"9\": 118, \"13\": 46, \"3\": 6, \"4\": 2, \"2\": 3}, \"12\": {\"12\": 120, \"1\": 67, \"10\": 42, \"3\": 6, \"2\": 5}, \"6\": {\"13\": 54, \"6\": 129, \"7\": 16, \"9\": 19, \"11\": 17, \"2\": 4, \"10\": 1}, \"2\": {\"2\": 124, \"12\": 4, \"1\": 34, \"10\": 23, \"7\": 41, \"3\": 11, \"9\": 3}, \"0\": {\"5\": 19, \"0\": 140, \"8\": 64, \"15\": 17}, \"13\": {\"13\": 126, \"9\": 41, \"11\": 23, \"7\": 3, \"6\": 45, \"4\": 2}}, \"38\": {\"14\": {\"11\": 59, \"14\": 142, \"2\": 31, \"13\": 4, \"10\": 4}, \"0\": {\"7\": 61, \"10\": 8, \"8\": 57, \"5\": 35, \"0\": 57, \"3\": 15, \"15\": 1, \"9\": 2, \"13\": 1, \"6\": 3}, \"13\": {\"13\": 97, \"15\": 91, \"2\": 10, \"1\": 13, \"10\": 21, \"8\": 3, \"5\": 2, \"14\": 2, \"11\": 1}, \"7\": {\"7\": 165, \"0\": 57, \"3\": 2, \"5\": 9, \"8\": 3, \"6\": 1, \"9\": 3}, \"9\": {\"3\": 24, \"9\": 128, \"6\": 85, \"5\": 3}, \"3\": {\"3\": 177, \"9\": 34, \"6\": 13, \"0\": 3, \"7\": 7, \"5\": 6}, \"11\": {\"13\": 5, \"14\": 85, \"11\": 131, \"2\": 13, \"12\": 1, \"10\": 5}, \"6\": {\"9\": 77, \"6\": 149, \"5\": 9, \"0\": 2, \"3\": 3}, \"8\": {\"8\": 106, \"0\": 36, \"5\": 62, \"10\": 10, \"1\": 4, \"7\": 11, \"15\": 4, \"12\": 2, \"13\": 4, \"6\": 1}, \"4\": {\"4\": 208, \"12\": 30, \"7\": 2}, \"5\": {\"7\": 20, \"0\": 33, \"5\": 67, \"9\": 8, \"10\": 4, \"6\": 22, \"8\": 64, \"15\": 8, \"1\": 8, \"3\": 5, \"13\": 1}, \"10\": {\"0\": 6, \"14\": 9, \"10\": 125, \"12\": 42, \"13\": 22, \"15\": 14, \"11\": 4, \"8\": 14, \"7\": 1, \"5\": 3}, \"1\": {\"1\": 208, \"13\": 7, \"15\": 19, \"5\": 5, \"8\": 1}, \"2\": {\"2\": 215, \"14\": 18, \"13\": 5, \"11\": 2}, \"15\": {\"15\": 113, \"8\": 17, \"1\": 28, \"13\": 69, \"10\": 8, \"5\": 4, \"0\": 1}, \"12\": {\"12\": 189, \"10\": 36, \"4\": 13, \"14\": 1, \"0\": 1}}, \"26\": {\"13\": {\"13\": 131, \"6\": 19, \"5\": 42, \"9\": 14, \"2\": 7, \"15\": 20, \"4\": 1, \"0\": 1, \"3\": 1, \"8\": 2, \"7\": 2}, \"2\": {\"2\": 74, \"3\": 74, \"13\": 5, \"7\": 24, \"8\": 6, \"5\": 17, \"9\": 7, \"15\": 14, \"0\": 5, \"14\": 5, \"4\": 4, \"1\": 4, \"6\": 1}, \"8\": {\"14\": 18, \"9\": 36, \"10\": 41, \"5\": 17, \"4\": 18, \"0\": 21, \"8\": 32, \"6\": 10, \"7\": 13, \"15\": 14, \"1\": 8, \"2\": 5, \"3\": 2, \"13\": 5}, \"9\": {\"15\": 35, \"8\": 28, \"6\": 43, \"9\": 44, \"0\": 15, \"5\": 26, \"13\": 19, \"1\": 2, \"10\": 12, \"3\": 3, \"14\": 2, \"7\": 3, \"4\": 3, \"2\": 5}, \"12\": {\"12\": 229, \"11\": 11}, \"4\": {\"1\": 40, \"8\": 22, \"0\": 24, \"4\": 40, \"14\": 37, \"10\": 21, \"7\": 31, \"3\": 2, \"2\": 5, \"5\": 4, \"9\": 8, \"15\": 5, \"6\": 1}, \"3\": {\"15\": 4, \"4\": 8, \"3\": 110, \"2\": 60, \"1\": 2, \"7\": 50, \"5\": 4, \"8\": 2}, \"15\": {\"15\": 52, \"13\": 33, \"5\": 35, \"4\": 6, \"9\": 44, \"8\": 20, \"0\": 8, \"1\": 1, \"6\": 8, \"2\": 16, \"10\": 7, \"14\": 3, \"7\": 6, \"3\": 1}, \"14\": {\"14\": 47, \"1\": 46, \"0\": 30, \"10\": 28, \"7\": 12, \"4\": 42, \"6\": 6, \"8\": 13, \"9\": 5, \"3\": 2, \"2\": 6, \"5\": 1, \"15\": 2}, \"10\": {\"6\": 41, \"8\": 15, \"9\": 16, \"0\": 37, \"14\": 33, \"1\": 18, \"10\": 54, \"15\": 9, \"4\": 12, \"5\": 2, \"13\": 1, \"7\": 2}, \"7\": {\"5\": 6, \"15\": 5, \"3\": 51, \"7\": 53, \"2\": 56, \"0\": 6, \"4\": 23, \"1\": 10, \"14\": 6, \"8\": 17, \"9\": 3, \"10\": 3, \"13\": 1}, \"11\": {\"11\": 224, \"12\": 16}, \"6\": {\"6\": 115, \"9\": 30, \"10\": 26, \"13\": 16, \"8\": 19, \"0\": 13, \"15\": 9, \"5\": 8, \"14\": 3, \"1\": 1}, \"1\": {\"7\": 15, \"1\": 65, \"4\": 38, \"8\": 9, \"5\": 2, \"0\": 27, \"14\": 52, \"10\": 19, \"9\": 2, \"3\": 2, \"15\": 4, \"6\": 2, \"2\": 3}, \"5\": {\"5\": 79, \"14\": 3, \"6\": 7, \"2\": 17, \"0\": 4, \"8\": 13, \"13\": 34, \"15\": 43, \"9\": 22, \"3\": 6, \"7\": 7, \"4\": 3, \"10\": 2}, \"0\": {\"9\": 18, \"10\": 37, \"1\": 21, \"4\": 26, \"14\": 31, \"0\": 40, \"2\": 3, \"8\": 30, \"6\": 19, \"7\": 7, \"15\": 4, \"5\": 3, \"3\": 1}}}, \"per_domain_accuracy\": {\"8\": {\"accuracy\": 0.4765625, \"source?\": true}, \"50\": {\"accuracy\": 0.65, \"source?\": true}, \"32\": {\"accuracy\": 0.63515625, \"source?\": true}, \"14\": {\"accuracy\": 0.590625, \"source?\": false}, \"20\": {\"accuracy\": 0.3533854166666667, \"source?\": false}, \"44\": {\"accuracy\": 0.5903645833333333, \"source?\": false}, \"38\": {\"accuracy\": 0.59296875, \"source?\": false}, \"26\": {\"accuracy\": 0.36171875, \"source?\": false}}}, \"history\": {\"epoch_indices\": [1, 2, 3, 4, 5, 6, 7, 8, 9, 10, 11, 12, 13, 14, 15, 16, 17, 18, 19], \"train_label_loss\": [1.8196688944858217, 1.3968054354900405, 1.2553298589019548, 0.9497239469417504, 0.7317714864476805, 0.5797801760040106, 0.45691840235616954, 0.36576119016648995, 0.3086488682647339, 0.25673120884956524, 0.22095132956802402, 0.19629952036720213, 0.17790705967354514, 0.15845093401749472, 0.14714548853600198, 0.13696049176612018, 0.12426557225736028, 0.11649763380444797, 0.1078598693593189], \"source_val_label_loss\": [1.5501888990402222, 1.4769988059997559, 1.3745366334915161, 1.2151645421981812, 1.2547976970672607, 1.3139939308166504, 1.3848769664764404, 1.523919939994812, 1.5920908451080322, 1.727076768875122, 1.75005042552948, 1.830843448638916, 1.8712955713272095, 1.9017287492752075, 2.0060794353485107, 2.0261011123657227, 1.9738917350769043, 2.0795156955718994, 2.1195271015167236], \"target_val_label_loss\": [1.8854427337646484, 1.8064154386520386, 1.6796534061431885, 1.478116750717163, 1.4863940477371216, 1.5496635437011719, 1.608460783958435, 1.7626296281814575, 1.827742576599121, 1.9771665334701538, 1.9644330739974976, 2.0943634510040283, 2.1122045516967773, 2.1952712535858154, 2.2714786529541016, 2.3530807495117188, 2.2431421279907227, 2.3913888931274414, 2.3967196941375732], \"source_val_acc_label\": [0.38784722222222223, 0.4131944444444444, 0.4684027777777778, 0.5621527777777777, 0.57109375, 0.5813368055555556, 0.5848090277777778, 0.5798611111111112, 0.5813368055555556, 0.5766493055555556, 0.5813368055555556, 0.5858506944444445, 0.5869791666666667, 0.5828125, 0.5872395833333334, 0.5818576388888889, 0.5902777777777778, 0.5815104166666667, 0.5901909722222223], \"target_val_acc_label\": [0.27536458333333336, 0.29911458333333335, 0.3667708333333333, 0.4599479166666667, 0.47875, 0.48921875, 0.49223958333333334, 0.49432291666666667, 0.4922916666666667, 0.491875, 0.49536458333333333, 0.491875, 0.49416666666666664, 0.49041666666666667, 0.4978125, 0.49473958333333334, 0.49583333333333335, 0.4945833333333333, 0.4942708333333333]}, \"dataset_metrics\": {\"source\": {\"train\": {\"n_unique_x\": 67200, \"n_unique_y\": 16, \"n_batch/episode\": 2520}, \"val\": {\"n_unique_x\": 14400, \"n_unique_y\": 16, \"n_batch/episode\": 360}, \"test\": {\"n_unique_x\": 14400, \"n_unique_y\": 16, \"n_batch/episode\": 360}}, \"target\": {\"train\": {\"n_unique_x\": 112000, \"n_unique_y\": 16, \"n_batch/episode\": 4200}, \"val\": {\"n_unique_x\": 24000, \"n_unique_y\": 16, \"n_batch/episode\": 600}, \"test\": {\"n_unique_x\": 24000, \"n_unique_y\": 16, \"n_batch/episode\": 600}}}}'"
      ]
     },
     "execution_count": 20,
     "metadata": {},
     "output_type": "execute_result"
    }
   ],
   "source": [
    "json.dumps(experiment)"
   ]
  }
 ],
 "metadata": {
  "celltoolbar": "Tags",
  "kernelspec": {
   "display_name": "Python 3 (ipykernel)",
   "language": "python",
   "name": "python3"
  },
  "language_info": {
   "codemirror_mode": {
    "name": "ipython",
    "version": 3
   },
   "file_extension": ".py",
   "mimetype": "text/x-python",
   "name": "python",
   "nbconvert_exporter": "python",
   "pygments_lexer": "ipython3",
   "version": "3.8.10"
  },
  "papermill": {
   "default_parameters": {},
   "duration": 1428.692405,
   "end_time": "2022-04-01T22:11:46.869750",
   "environment_variables": {},
   "exception": null,
   "input_path": "/mnt/wd500GB/CSC500/csc500-main/csc500-notebooks/templates/ptn_template.ipynb",
   "output_path": "trial.ipynb",
   "parameters": {
    "parameters": {
     "BEST_MODEL_PATH": "./best_model.pth",
     "NUM_LOGS_PER_EPOCH": 10,
     "criteria_for_best": "target_accuracy",
     "dataset_seed": 1337,
     "device": "cuda",
     "domains_source": [
      8,
      32,
      50
     ],
     "domains_target": [
      14,
      20,
      26,
      38,
      44
     ],
     "episode_transforms_source": [],
     "episode_transforms_target": [],
     "experiment_name": "tuned_1v2:oracle.run1_limited",
     "labels_source": [
      "3123D52",
      "3123D65",
      "3123D79",
      "3123D80",
      "3123D54",
      "3123D70",
      "3123D7B",
      "3123D89",
      "3123D58",
      "3123D76",
      "3123D7D",
      "3123EFE",
      "3123D64",
      "3123D78",
      "3123D7E",
      "3124E4A"
     ],
     "labels_target": [
      "3123D52",
      "3123D65",
      "3123D79",
      "3123D80",
      "3123D54",
      "3123D70",
      "3123D7B",
      "3123D89",
      "3123D58",
      "3123D76",
      "3123D7D",
      "3123EFE",
      "3123D64",
      "3123D78",
      "3123D7E",
      "3124E4A"
     ],
     "lr": 0.0001,
     "n_epoch": 50,
     "n_query": 2,
     "n_shot": 3,
     "n_way": 16,
     "num_examples_per_domain_per_label_source": 2000,
     "num_examples_per_domain_per_label_target": 2000,
     "patience": 3,
     "pickle_name": "oracle.Run1_10kExamples_stratified_ds.2022A.pkl",
     "seed": 1337,
     "test_k_factor": 2,
     "torch_default_dtype": "torch.float32",
     "train_k_factor": 3,
     "val_k_factor": 2,
     "x_net": [
      {
       "class": "nnReshape",
       "kargs": {
        "shape": [
         -1,
         1,
         2,
         256
        ]
       }
      },
      {
       "class": "Conv2d",
       "kargs": {
        "bias": false,
        "in_channels": 1,
        "kernel_size": [
         1,
         7
        ],
        "out_channels": 256,
        "padding": [
         0,
         3
        ]
       }
      },
      {
       "class": "ReLU",
       "kargs": {
        "inplace": true
       }
      },
      {
       "class": "BatchNorm2d",
       "kargs": {
        "num_features": 256
       }
      },
      {
       "class": "Conv2d",
       "kargs": {
        "bias": true,
        "in_channels": 256,
        "kernel_size": [
         2,
         7
        ],
        "out_channels": 80,
        "padding": [
         0,
         3
        ]
       }
      },
      {
       "class": "ReLU",
       "kargs": {
        "inplace": true
       }
      },
      {
       "class": "BatchNorm2d",
       "kargs": {
        "num_features": 80
       }
      },
      {
       "class": "Flatten",
       "kargs": {}
      },
      {
       "class": "Linear",
       "kargs": {
        "in_features": 20480,
        "out_features": 256
       }
      },
      {
       "class": "ReLU",
       "kargs": {
        "inplace": true
       }
      },
      {
       "class": "BatchNorm1d",
       "kargs": {
        "num_features": 256
       }
      },
      {
       "class": "Linear",
       "kargs": {
        "in_features": 256,
        "out_features": 256
       }
      }
     ],
     "x_transforms_source": [
      "unit_power"
     ],
     "x_transforms_target": [
      "unit_power"
     ]
    }
   },
   "start_time": "2022-04-01T21:47:58.177345",
   "version": "2.3.4"
  }
 },
 "nbformat": 4,
 "nbformat_minor": 5
}