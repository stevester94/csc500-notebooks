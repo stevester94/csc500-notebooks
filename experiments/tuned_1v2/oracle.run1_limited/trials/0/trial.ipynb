{
 "cells": [
  {
   "cell_type": "markdown",
   "id": "9fea5f46",
   "metadata": {
    "papermill": {
     "duration": 0.015912,
     "end_time": "2022-04-01T19:32:02.675187",
     "exception": false,
     "start_time": "2022-04-01T19:32:02.659275",
     "status": "completed"
    },
    "tags": []
   },
   "source": [
    "# PTN Template\n",
    "This notebook serves as a template for single dataset PTN experiments  \n",
    "It can be run on its own by setting STANDALONE to True (do a find for \"STANDALONE\" to see where)  \n",
    "But it is intended to be executed as part of a *papermill.py script. See any of the   \n",
    "experimentes with a papermill script to get started with that workflow.  "
   ]
  },
  {
   "cell_type": "code",
   "execution_count": 1,
   "id": "0902182a",
   "metadata": {
    "execution": {
     "iopub.execute_input": "2022-04-01T19:32:02.707876Z",
     "iopub.status.busy": "2022-04-01T19:32:02.707393Z",
     "iopub.status.idle": "2022-04-01T19:32:03.608019Z",
     "shell.execute_reply": "2022-04-01T19:32:03.607728Z"
    },
    "papermill": {
     "duration": 0.923733,
     "end_time": "2022-04-01T19:32:03.608093",
     "exception": false,
     "start_time": "2022-04-01T19:32:02.684360",
     "status": "completed"
    },
    "tags": []
   },
   "outputs": [],
   "source": [
    "%load_ext autoreload\n",
    "%autoreload 2\n",
    "%matplotlib inline\n",
    "\n",
    "    \n",
    "import os, json, sys, time, random\n",
    "import numpy as np\n",
    "import torch\n",
    "from torch.optim import Adam\n",
    "from  easydict import EasyDict\n",
    "import matplotlib.pyplot as plt\n",
    "\n",
    "from steves_models.steves_ptn import Steves_Prototypical_Network\n",
    "\n",
    "from steves_utils.lazy_iterable_wrapper import Lazy_Iterable_Wrapper\n",
    "from steves_utils.iterable_aggregator import Iterable_Aggregator\n",
    "from steves_utils.ptn_train_eval_test_jig import  PTN_Train_Eval_Test_Jig\n",
    "from steves_utils.torch_sequential_builder import build_sequential\n",
    "from steves_utils.torch_utils import get_dataset_metrics, ptn_confusion_by_domain_over_dataloader\n",
    "from steves_utils.utils_v2 import (per_domain_accuracy_from_confusion, get_datasets_base_path)\n",
    "from steves_utils.PTN.utils import independent_accuracy_assesment\n",
    "\n",
    "from steves_utils.stratified_dataset.episodic_accessor import Episodic_Accessor_Factory\n",
    "\n",
    "from steves_utils.ptn_do_report import (\n",
    "    get_loss_curve,\n",
    "    get_results_table,\n",
    "    get_parameters_table,\n",
    "    get_domain_accuracies,\n",
    ")\n",
    "\n",
    "from steves_utils.transforms import get_chained_transform"
   ]
  },
  {
   "cell_type": "markdown",
   "id": "41c840b4",
   "metadata": {
    "papermill": {
     "duration": 0.009296,
     "end_time": "2022-04-01T19:32:03.627299",
     "exception": false,
     "start_time": "2022-04-01T19:32:03.618003",
     "status": "completed"
    },
    "tags": []
   },
   "source": [
    "# Required Parameters\n",
    "These are allowed parameters, not defaults\n",
    "Each of these values need to be present in the injected parameters (the notebook will raise an exception if they are not present)\n",
    "\n",
    "Papermill uses the cell tag \"parameters\" to inject the real parameters below this cell.\n",
    "Enable tags to see what I mean"
   ]
  },
  {
   "cell_type": "code",
   "execution_count": 2,
   "id": "fd44eb83",
   "metadata": {
    "execution": {
     "iopub.execute_input": "2022-04-01T19:32:03.651578Z",
     "iopub.status.busy": "2022-04-01T19:32:03.649379Z",
     "iopub.status.idle": "2022-04-01T19:32:03.664742Z",
     "shell.execute_reply": "2022-04-01T19:32:03.664480Z"
    },
    "papermill": {
     "duration": 0.028119,
     "end_time": "2022-04-01T19:32:03.664797",
     "exception": false,
     "start_time": "2022-04-01T19:32:03.636678",
     "status": "completed"
    },
    "tags": []
   },
   "outputs": [],
   "source": [
    "required_parameters = {\n",
    "    \"experiment_name\",\n",
    "    \"lr\",\n",
    "    \"device\",\n",
    "    \"seed\",\n",
    "    \"dataset_seed\",\n",
    "    \"labels_source\",\n",
    "    \"labels_target\",\n",
    "    \"domains_source\",\n",
    "    \"domains_target\",\n",
    "    \"num_examples_per_domain_per_label_source\",\n",
    "    \"num_examples_per_domain_per_label_target\",\n",
    "    \"n_shot\",\n",
    "    \"n_way\",\n",
    "    \"n_query\",\n",
    "    \"train_k_factor\",\n",
    "    \"val_k_factor\",\n",
    "    \"test_k_factor\",\n",
    "    \"n_epoch\",\n",
    "    \"patience\",\n",
    "    \"criteria_for_best\",\n",
    "    \"x_transforms_source\",\n",
    "    \"x_transforms_target\",\n",
    "    \"episode_transforms_source\",\n",
    "    \"episode_transforms_target\",\n",
    "    \"pickle_name\",\n",
    "    \"x_net\",\n",
    "    \"NUM_LOGS_PER_EPOCH\",\n",
    "    \"BEST_MODEL_PATH\",\n",
    "    \"torch_default_dtype\"\n",
    "}"
   ]
  },
  {
   "cell_type": "code",
   "execution_count": 3,
   "id": "fa3f0049",
   "metadata": {
    "execution": {
     "iopub.execute_input": "2022-04-01T19:32:03.692564Z",
     "iopub.status.busy": "2022-04-01T19:32:03.690333Z",
     "iopub.status.idle": "2022-04-01T19:32:03.708125Z",
     "shell.execute_reply": "2022-04-01T19:32:03.707629Z"
    },
    "papermill": {
     "duration": 0.033877,
     "end_time": "2022-04-01T19:32:03.708227",
     "exception": false,
     "start_time": "2022-04-01T19:32:03.674350",
     "status": "completed"
    },
    "tags": [
     "parameters"
    ]
   },
   "outputs": [],
   "source": [
    "\n",
    "\n",
    "standalone_parameters = {}\n",
    "standalone_parameters[\"experiment_name\"] = \"STANDALONE PTN\"\n",
    "standalone_parameters[\"lr\"] = 0.0001\n",
    "standalone_parameters[\"device\"] = \"cuda\"\n",
    "\n",
    "standalone_parameters[\"seed\"] = 1337\n",
    "standalone_parameters[\"dataset_seed\"] = 1337\n",
    "\n",
    "\n",
    "standalone_parameters[\"num_examples_per_domain_per_label_source\"]=100\n",
    "standalone_parameters[\"num_examples_per_domain_per_label_target\"]=100\n",
    "\n",
    "standalone_parameters[\"n_shot\"] = 3\n",
    "standalone_parameters[\"n_query\"]  = 2\n",
    "standalone_parameters[\"train_k_factor\"] = 1\n",
    "standalone_parameters[\"val_k_factor\"] = 2\n",
    "standalone_parameters[\"test_k_factor\"] = 2\n",
    "\n",
    "\n",
    "standalone_parameters[\"n_epoch\"] = 100\n",
    "\n",
    "standalone_parameters[\"patience\"] = 10\n",
    "standalone_parameters[\"criteria_for_best\"] = \"target_accuracy\"\n",
    "\n",
    "standalone_parameters[\"x_transforms_source\"] = [\"unit_power\"]\n",
    "standalone_parameters[\"x_transforms_target\"] = [\"unit_power\"]\n",
    "standalone_parameters[\"episode_transforms_source\"] = []\n",
    "standalone_parameters[\"episode_transforms_target\"] = []\n",
    "\n",
    "standalone_parameters[\"torch_default_dtype\"] = \"torch.float32\" \n",
    "\n",
    "\n",
    "\n",
    "standalone_parameters[\"x_net\"] =     [\n",
    "    {\"class\": \"nnReshape\", \"kargs\": {\"shape\":[-1, 1, 2, 256]}},\n",
    "    {\"class\": \"Conv2d\", \"kargs\": { \"in_channels\":1, \"out_channels\":256, \"kernel_size\":(1,7), \"bias\":False, \"padding\":(0,3), },},\n",
    "    {\"class\": \"ReLU\", \"kargs\": {\"inplace\": True}},\n",
    "    {\"class\": \"BatchNorm2d\", \"kargs\": {\"num_features\":256}},\n",
    "\n",
    "    {\"class\": \"Conv2d\", \"kargs\": { \"in_channels\":256, \"out_channels\":80, \"kernel_size\":(2,7), \"bias\":True, \"padding\":(0,3), },},\n",
    "    {\"class\": \"ReLU\", \"kargs\": {\"inplace\": True}},\n",
    "    {\"class\": \"BatchNorm2d\", \"kargs\": {\"num_features\":80}},\n",
    "    {\"class\": \"Flatten\", \"kargs\": {}},\n",
    "\n",
    "    {\"class\": \"Linear\", \"kargs\": {\"in_features\": 80*256, \"out_features\": 256}}, # 80 units per IQ pair\n",
    "    {\"class\": \"ReLU\", \"kargs\": {\"inplace\": True}},\n",
    "    {\"class\": \"BatchNorm1d\", \"kargs\": {\"num_features\":256}},\n",
    "\n",
    "    {\"class\": \"Linear\", \"kargs\": {\"in_features\": 256, \"out_features\": 256}},\n",
    "]\n",
    "\n",
    "# Parameters relevant to results\n",
    "# These parameters will basically never need to change\n",
    "standalone_parameters[\"NUM_LOGS_PER_EPOCH\"] = 10\n",
    "standalone_parameters[\"BEST_MODEL_PATH\"] = \"./best_model.pth\"\n",
    "\n",
    "# uncomment for CORES dataset\n",
    "from steves_utils.CORES.utils import (\n",
    "    ALL_NODES,\n",
    "    ALL_NODES_MINIMUM_1000_EXAMPLES,\n",
    "    ALL_DAYS\n",
    ")\n",
    "\n",
    "\n",
    "standalone_parameters[\"labels_source\"] = ALL_NODES\n",
    "standalone_parameters[\"labels_target\"] = ALL_NODES\n",
    "\n",
    "standalone_parameters[\"domains_source\"] = [1]\n",
    "standalone_parameters[\"domains_target\"] = [2,3,4,5]\n",
    "\n",
    "standalone_parameters[\"pickle_name\"] = \"cores.stratified_ds.2022A.pkl\"\n",
    "\n",
    "\n",
    "# Uncomment these for ORACLE dataset\n",
    "# from steves_utils.ORACLE.utils_v2 import (\n",
    "#     ALL_DISTANCES_FEET,\n",
    "#     ALL_RUNS,\n",
    "#     ALL_SERIAL_NUMBERS,\n",
    "# )\n",
    "# standalone_parameters[\"labels_source\"] = ALL_SERIAL_NUMBERS\n",
    "# standalone_parameters[\"labels_target\"] = ALL_SERIAL_NUMBERS\n",
    "# standalone_parameters[\"domains_source\"] = [8,20, 38,50]\n",
    "# standalone_parameters[\"domains_target\"] = [14, 26, 32, 44, 56]\n",
    "# standalone_parameters[\"pickle_name\"] = \"oracle.frame_indexed.stratified_ds.2022A.pkl\"\n",
    "# standalone_parameters[\"num_examples_per_domain_per_label_source\"]=1000\n",
    "# standalone_parameters[\"num_examples_per_domain_per_label_target\"]=1000\n",
    "\n",
    "# Uncomment these for Metahan dataset\n",
    "# standalone_parameters[\"labels_source\"] = list(range(19))\n",
    "# standalone_parameters[\"labels_target\"] = list(range(19))\n",
    "# standalone_parameters[\"domains_source\"] = [0]\n",
    "# standalone_parameters[\"domains_target\"] = [1]\n",
    "# standalone_parameters[\"pickle_name\"] = \"metehan.stratified_ds.2022A.pkl\"\n",
    "# standalone_parameters[\"n_way\"]  = len(standalone_parameters[\"labels_source\"])\n",
    "# standalone_parameters[\"num_examples_per_domain_per_label_source\"]=200\n",
    "# standalone_parameters[\"num_examples_per_domain_per_label_target\"]=100\n",
    "\n",
    "\n",
    "standalone_parameters[\"n_way\"]  = len(standalone_parameters[\"labels_source\"])"
   ]
  },
  {
   "cell_type": "code",
   "execution_count": 4,
   "id": "51c25cb7",
   "metadata": {
    "execution": {
     "iopub.execute_input": "2022-04-01T19:32:03.740110Z",
     "iopub.status.busy": "2022-04-01T19:32:03.739482Z",
     "iopub.status.idle": "2022-04-01T19:32:03.754060Z",
     "shell.execute_reply": "2022-04-01T19:32:03.753583Z"
    },
    "papermill": {
     "duration": 0.030665,
     "end_time": "2022-04-01T19:32:03.754158",
     "exception": false,
     "start_time": "2022-04-01T19:32:03.723493",
     "status": "completed"
    },
    "tags": [
     "injected-parameters"
    ]
   },
   "outputs": [],
   "source": [
    "# Parameters\n",
    "parameters = {\n",
    "    \"experiment_name\": \"tuned_1v2:oracle.run1_limited\",\n",
    "    \"device\": \"cuda\",\n",
    "    \"lr\": 0.0001,\n",
    "    \"labels_source\": [\n",
    "        \"3123D52\",\n",
    "        \"3123D65\",\n",
    "        \"3123D79\",\n",
    "        \"3123D80\",\n",
    "        \"3123D54\",\n",
    "        \"3123D70\",\n",
    "        \"3123D7B\",\n",
    "        \"3123D89\",\n",
    "        \"3123D58\",\n",
    "        \"3123D76\",\n",
    "        \"3123D7D\",\n",
    "        \"3123EFE\",\n",
    "        \"3123D64\",\n",
    "        \"3123D78\",\n",
    "        \"3123D7E\",\n",
    "        \"3124E4A\",\n",
    "    ],\n",
    "    \"labels_target\": [\n",
    "        \"3123D52\",\n",
    "        \"3123D65\",\n",
    "        \"3123D79\",\n",
    "        \"3123D80\",\n",
    "        \"3123D54\",\n",
    "        \"3123D70\",\n",
    "        \"3123D7B\",\n",
    "        \"3123D89\",\n",
    "        \"3123D58\",\n",
    "        \"3123D76\",\n",
    "        \"3123D7D\",\n",
    "        \"3123EFE\",\n",
    "        \"3123D64\",\n",
    "        \"3123D78\",\n",
    "        \"3123D7E\",\n",
    "        \"3124E4A\",\n",
    "    ],\n",
    "    \"episode_transforms_source\": [],\n",
    "    \"episode_transforms_target\": [],\n",
    "    \"domains_source\": [8, 32, 50],\n",
    "    \"domains_target\": [14, 20, 26, 38, 44],\n",
    "    \"num_examples_per_domain_per_label_source\": 2000,\n",
    "    \"num_examples_per_domain_per_label_target\": 2000,\n",
    "    \"n_shot\": 3,\n",
    "    \"n_way\": 16,\n",
    "    \"n_query\": 2,\n",
    "    \"train_k_factor\": 3,\n",
    "    \"val_k_factor\": 2,\n",
    "    \"test_k_factor\": 2,\n",
    "    \"torch_default_dtype\": \"torch.float32\",\n",
    "    \"n_epoch\": 50,\n",
    "    \"patience\": 3,\n",
    "    \"criteria_for_best\": \"target_accuracy\",\n",
    "    \"x_net\": [\n",
    "        {\"class\": \"nnReshape\", \"kargs\": {\"shape\": [-1, 1, 2, 256]}},\n",
    "        {\n",
    "            \"class\": \"Conv2d\",\n",
    "            \"kargs\": {\n",
    "                \"in_channels\": 1,\n",
    "                \"out_channels\": 256,\n",
    "                \"kernel_size\": [1, 7],\n",
    "                \"bias\": False,\n",
    "                \"padding\": [0, 3],\n",
    "            },\n",
    "        },\n",
    "        {\"class\": \"ReLU\", \"kargs\": {\"inplace\": True}},\n",
    "        {\"class\": \"BatchNorm2d\", \"kargs\": {\"num_features\": 256}},\n",
    "        {\n",
    "            \"class\": \"Conv2d\",\n",
    "            \"kargs\": {\n",
    "                \"in_channels\": 256,\n",
    "                \"out_channels\": 80,\n",
    "                \"kernel_size\": [2, 7],\n",
    "                \"bias\": True,\n",
    "                \"padding\": [0, 3],\n",
    "            },\n",
    "        },\n",
    "        {\"class\": \"ReLU\", \"kargs\": {\"inplace\": True}},\n",
    "        {\"class\": \"BatchNorm2d\", \"kargs\": {\"num_features\": 80}},\n",
    "        {\"class\": \"Flatten\", \"kargs\": {}},\n",
    "        {\"class\": \"Linear\", \"kargs\": {\"in_features\": 20480, \"out_features\": 256}},\n",
    "        {\"class\": \"ReLU\", \"kargs\": {\"inplace\": True}},\n",
    "        {\"class\": \"BatchNorm1d\", \"kargs\": {\"num_features\": 256}},\n",
    "        {\"class\": \"Linear\", \"kargs\": {\"in_features\": 256, \"out_features\": 256}},\n",
    "    ],\n",
    "    \"NUM_LOGS_PER_EPOCH\": 10,\n",
    "    \"BEST_MODEL_PATH\": \"./best_model.pth\",\n",
    "    \"pickle_name\": \"oracle.Run1_10kExamples_stratified_ds.2022A.pkl\",\n",
    "    \"x_transforms_source\": [],\n",
    "    \"x_transforms_target\": [],\n",
    "    \"dataset_seed\": 154325,\n",
    "    \"seed\": 154325,\n",
    "}\n"
   ]
  },
  {
   "cell_type": "code",
   "execution_count": 5,
   "id": "8fa1cc33",
   "metadata": {
    "execution": {
     "iopub.execute_input": "2022-04-01T19:32:03.788235Z",
     "iopub.status.busy": "2022-04-01T19:32:03.787288Z",
     "iopub.status.idle": "2022-04-01T19:32:03.794568Z",
     "shell.execute_reply": "2022-04-01T19:32:03.794892Z"
    },
    "papermill": {
     "duration": 0.026676,
     "end_time": "2022-04-01T19:32:03.794985",
     "exception": false,
     "start_time": "2022-04-01T19:32:03.768309",
     "status": "completed"
    },
    "tags": []
   },
   "outputs": [],
   "source": [
    "# Set this to True if you want to run this template directly\n",
    "STANDALONE = False\n",
    "if STANDALONE:\n",
    "    print(\"parameters not injected, running with standalone_parameters\")\n",
    "    parameters = standalone_parameters\n",
    "\n",
    "if not 'parameters' in locals() and not 'parameters' in globals():\n",
    "    raise Exception(\"Parameter injection failed\")\n",
    "\n",
    "#Use an easy dict for all the parameters\n",
    "p = EasyDict(parameters)\n",
    "\n",
    "supplied_keys = set(p.keys())\n",
    "\n",
    "if  supplied_keys != required_parameters:\n",
    "    print(\"Parameters are incorrect\")\n",
    "    if len(supplied_keys - required_parameters)>0: print(\"Shouldn't have:\", str(supplied_keys - required_parameters))\n",
    "    if len(required_parameters - supplied_keys)>0: print(\"Need to have:\", str(required_parameters - supplied_keys))\n",
    "    raise RuntimeError(\"Parameters are incorrect\")\n",
    "\n"
   ]
  },
  {
   "cell_type": "code",
   "execution_count": 6,
   "id": "3a028d58",
   "metadata": {
    "execution": {
     "iopub.execute_input": "2022-04-01T19:32:03.820687Z",
     "iopub.status.busy": "2022-04-01T19:32:03.820241Z",
     "iopub.status.idle": "2022-04-01T19:32:03.835704Z",
     "shell.execute_reply": "2022-04-01T19:32:03.835211Z"
    },
    "papermill": {
     "duration": 0.027199,
     "end_time": "2022-04-01T19:32:03.835804",
     "exception": false,
     "start_time": "2022-04-01T19:32:03.808605",
     "status": "completed"
    },
    "tags": []
   },
   "outputs": [],
   "source": [
    "###################################\n",
    "# Set the RNGs and make it all deterministic\n",
    "###################################\n",
    "np.random.seed(p.seed)\n",
    "random.seed(p.seed)\n",
    "torch.manual_seed(p.seed)\n",
    "\n",
    "torch.use_deterministic_algorithms(True) "
   ]
  },
  {
   "cell_type": "code",
   "execution_count": 7,
   "id": "b691acf6",
   "metadata": {
    "execution": {
     "iopub.execute_input": "2022-04-01T19:32:03.870055Z",
     "iopub.status.busy": "2022-04-01T19:32:03.860877Z",
     "iopub.status.idle": "2022-04-01T19:32:03.875575Z",
     "shell.execute_reply": "2022-04-01T19:32:03.875352Z"
    },
    "papermill": {
     "duration": 0.026188,
     "end_time": "2022-04-01T19:32:03.875628",
     "exception": false,
     "start_time": "2022-04-01T19:32:03.849440",
     "status": "completed"
    },
    "tags": []
   },
   "outputs": [],
   "source": [
    "###########################################\n",
    "# The stratified datasets honor this\n",
    "###########################################\n",
    "torch.set_default_dtype(eval(p.torch_default_dtype))"
   ]
  },
  {
   "cell_type": "code",
   "execution_count": 8,
   "id": "b5fba671",
   "metadata": {
    "execution": {
     "iopub.execute_input": "2022-04-01T19:32:03.903218Z",
     "iopub.status.busy": "2022-04-01T19:32:03.902902Z",
     "iopub.status.idle": "2022-04-01T19:32:03.942975Z",
     "shell.execute_reply": "2022-04-01T19:32:03.943404Z"
    },
    "papermill": {
     "duration": 0.052333,
     "end_time": "2022-04-01T19:32:03.943537",
     "exception": false,
     "start_time": "2022-04-01T19:32:03.891204",
     "status": "completed"
    },
    "tags": []
   },
   "outputs": [],
   "source": [
    "###################################\n",
    "# Build the network(s)\n",
    "# Note: It's critical to do this AFTER setting the RNG\n",
    "# (This is due to the randomized initial weights)\n",
    "###################################\n",
    "x_net = build_sequential(p.x_net)"
   ]
  },
  {
   "cell_type": "code",
   "execution_count": 9,
   "id": "5d7e61cc",
   "metadata": {
    "execution": {
     "iopub.execute_input": "2022-04-01T19:32:03.972055Z",
     "iopub.status.busy": "2022-04-01T19:32:03.971540Z",
     "iopub.status.idle": "2022-04-01T19:32:03.985220Z",
     "shell.execute_reply": "2022-04-01T19:32:03.984770Z"
    },
    "papermill": {
     "duration": 0.025461,
     "end_time": "2022-04-01T19:32:03.985321",
     "exception": false,
     "start_time": "2022-04-01T19:32:03.959860",
     "status": "completed"
    },
    "tags": []
   },
   "outputs": [],
   "source": [
    "start_time_secs = time.time()"
   ]
  },
  {
   "cell_type": "code",
   "execution_count": 10,
   "id": "fd5442bc",
   "metadata": {
    "execution": {
     "iopub.execute_input": "2022-04-01T19:32:04.016221Z",
     "iopub.status.busy": "2022-04-01T19:32:04.015946Z",
     "iopub.status.idle": "2022-04-01T19:32:16.266087Z",
     "shell.execute_reply": "2022-04-01T19:32:16.265651Z"
    },
    "papermill": {
     "duration": 12.265118,
     "end_time": "2022-04-01T19:32:16.266189",
     "exception": false,
     "start_time": "2022-04-01T19:32:04.001071",
     "status": "completed"
    },
    "tags": []
   },
   "outputs": [],
   "source": [
    "###################################\n",
    "# Build the dataset\n",
    "###################################\n",
    "\n",
    "if p.x_transforms_source == []: x_transform_source = None\n",
    "else: x_transform_source = get_chained_transform(p.x_transforms_source) \n",
    "\n",
    "if p.x_transforms_target == []: x_transform_target = None\n",
    "else: x_transform_target = get_chained_transform(p.x_transforms_target)\n",
    "\n",
    "if p.episode_transforms_source == []: episode_transform_source = None\n",
    "else: raise Exception(\"episode_transform_source not implemented\")\n",
    "\n",
    "if p.episode_transforms_target == []: episode_transform_target = None\n",
    "else: raise Exception(\"episode_transform_target not implemented\")\n",
    "\n",
    "\n",
    "eaf_source = Episodic_Accessor_Factory(\n",
    "    labels=p.labels_source,\n",
    "    domains=p.domains_source,\n",
    "    num_examples_per_domain_per_label=p.num_examples_per_domain_per_label_source,\n",
    "    iterator_seed=p.seed,\n",
    "    dataset_seed=p.dataset_seed,\n",
    "    n_shot=p.n_shot,\n",
    "    n_way=p.n_way,\n",
    "    n_query=p.n_query,\n",
    "    train_val_test_k_factors=(p.train_k_factor,p.val_k_factor,p.test_k_factor),\n",
    "    pickle_path=os.path.join(get_datasets_base_path(), p.pickle_name),\n",
    "    x_transform_func=x_transform_source,\n",
    "    example_transform_func=episode_transform_source,\n",
    "    \n",
    ")\n",
    "train_original_source, val_original_source, test_original_source = eaf_source.get_train(), eaf_source.get_val(), eaf_source.get_test()\n",
    "\n",
    "\n",
    "eaf_target = Episodic_Accessor_Factory(\n",
    "    labels=p.labels_target,\n",
    "    domains=p.domains_target,\n",
    "    num_examples_per_domain_per_label=p.num_examples_per_domain_per_label_target,\n",
    "    iterator_seed=p.seed,\n",
    "    dataset_seed=p.dataset_seed,\n",
    "    n_shot=p.n_shot,\n",
    "    n_way=p.n_way,\n",
    "    n_query=p.n_query,\n",
    "    train_val_test_k_factors=(p.train_k_factor,p.val_k_factor,p.test_k_factor),\n",
    "    pickle_path=os.path.join(get_datasets_base_path(), p.pickle_name),\n",
    "    x_transform_func=x_transform_target,\n",
    "    example_transform_func=episode_transform_target,\n",
    ")\n",
    "train_original_target, val_original_target, test_original_target = eaf_target.get_train(), eaf_target.get_val(), eaf_target.get_test()\n",
    "\n",
    "\n",
    "transform_lambda = lambda ex: ex[1] # Original is (<domain>, <episode>) so we strip down to episode only\n",
    "\n",
    "train_processed_source = Lazy_Iterable_Wrapper(train_original_source, transform_lambda)\n",
    "val_processed_source   = Lazy_Iterable_Wrapper(val_original_source, transform_lambda)\n",
    "test_processed_source  = Lazy_Iterable_Wrapper(test_original_source, transform_lambda)\n",
    "\n",
    "train_processed_target = Lazy_Iterable_Wrapper(train_original_target, transform_lambda)\n",
    "val_processed_target   = Lazy_Iterable_Wrapper(val_original_target, transform_lambda)\n",
    "test_processed_target  = Lazy_Iterable_Wrapper(test_original_target, transform_lambda)\n",
    "\n",
    "datasets = EasyDict({\n",
    "    \"source\": {\n",
    "        \"original\": {\"train\":train_original_source, \"val\":val_original_source, \"test\":test_original_source},\n",
    "        \"processed\": {\"train\":train_processed_source, \"val\":val_processed_source, \"test\":test_processed_source}\n",
    "    },\n",
    "    \"target\": {\n",
    "        \"original\": {\"train\":train_original_target, \"val\":val_original_target, \"test\":test_original_target},\n",
    "        \"processed\": {\"train\":train_processed_target, \"val\":val_processed_target, \"test\":test_processed_target}\n",
    "    },\n",
    "})"
   ]
  },
  {
   "cell_type": "code",
   "execution_count": 11,
   "id": "296189d9",
   "metadata": {
    "execution": {
     "iopub.execute_input": "2022-04-01T19:32:16.295217Z",
     "iopub.status.busy": "2022-04-01T19:32:16.294841Z",
     "iopub.status.idle": "2022-04-01T19:32:17.911995Z",
     "shell.execute_reply": "2022-04-01T19:32:17.912638Z"
    },
    "papermill": {
     "duration": 1.630308,
     "end_time": "2022-04-01T19:32:17.912810",
     "exception": false,
     "start_time": "2022-04-01T19:32:16.282502",
     "status": "completed"
    },
    "tags": []
   },
   "outputs": [
    {
     "name": "stdout",
     "output_type": "stream",
     "text": [
      "Visually inspect these to see if they line up with expected values given the transforms\n",
      "x_transforms_source []\n",
      "x_transforms_target []\n",
      "Average magnitude, source: 0.0024525675\n",
      "Average power, source: 7.5874136e-06\n"
     ]
    },
    {
     "name": "stdout",
     "output_type": "stream",
     "text": [
      "Average magnitude, target: 0.0014354632\n",
      "Average power, target: 2.5807503e-06\n"
     ]
    }
   ],
   "source": [
    "# Some quick unit tests on the data\n",
    "from steves_utils.transforms import get_average_power, get_average_magnitude\n",
    "\n",
    "q_x, q_y, s_x, s_y, truth = next(iter(train_processed_source))\n",
    "\n",
    "assert q_x.dtype == eval(p.torch_default_dtype)\n",
    "assert s_x.dtype == eval(p.torch_default_dtype)\n",
    "\n",
    "print(\"Visually inspect these to see if they line up with expected values given the transforms\")\n",
    "print('x_transforms_source', p.x_transforms_source)\n",
    "print('x_transforms_target', p.x_transforms_target)\n",
    "print(\"Average magnitude, source:\", get_average_magnitude(q_x[0].numpy()))\n",
    "print(\"Average power, source:\", get_average_power(q_x[0].numpy()))\n",
    "\n",
    "q_x, q_y, s_x, s_y, truth = next(iter(train_processed_target))\n",
    "print(\"Average magnitude, target:\", get_average_magnitude(q_x[0].numpy()))\n",
    "print(\"Average power, target:\", get_average_power(q_x[0].numpy()))\n"
   ]
  },
  {
   "cell_type": "code",
   "execution_count": 12,
   "id": "bbdacba1",
   "metadata": {
    "execution": {
     "iopub.execute_input": "2022-04-01T19:32:17.942191Z",
     "iopub.status.busy": "2022-04-01T19:32:17.941925Z",
     "iopub.status.idle": "2022-04-01T19:32:18.005444Z",
     "shell.execute_reply": "2022-04-01T19:32:18.005844Z"
    },
    "papermill": {
     "duration": 0.077774,
     "end_time": "2022-04-01T19:32:18.005960",
     "exception": false,
     "start_time": "2022-04-01T19:32:17.928186",
     "status": "completed"
    },
    "tags": []
   },
   "outputs": [
    {
     "name": "stdout",
     "output_type": "stream",
     "text": [
      "(2, 256)\n"
     ]
    }
   ],
   "source": [
    "###################################\n",
    "# Build the model\n",
    "###################################\n",
    "model = Steves_Prototypical_Network(x_net, device=p.device, x_shape=(2,256))\n",
    "optimizer = Adam(params=model.parameters(), lr=p.lr)"
   ]
  },
  {
   "cell_type": "code",
   "execution_count": 13,
   "id": "22b39ac5",
   "metadata": {
    "execution": {
     "iopub.execute_input": "2022-04-01T19:32:18.036338Z",
     "iopub.status.busy": "2022-04-01T19:32:18.036079Z",
     "iopub.status.idle": "2022-04-01T19:46:35.134167Z",
     "shell.execute_reply": "2022-04-01T19:46:35.133936Z"
    },
    "papermill": {
     "duration": 857.11144,
     "end_time": "2022-04-01T19:46:35.134224",
     "exception": false,
     "start_time": "2022-04-01T19:32:18.022784",
     "status": "completed"
    },
    "tags": []
   },
   "outputs": [
    {
     "name": "stdout",
     "output_type": "stream",
     "text": [
      "epoch: 1, [batch: 1 / 2520], examples_per_second: 131.4004, train_label_loss: 2.7271, \n"
     ]
    },
    {
     "name": "stdout",
     "output_type": "stream",
     "text": [
      "epoch: 1, [batch: 252 / 2520], examples_per_second: 3165.5440, train_label_loss: 1.2021, \n"
     ]
    },
    {
     "name": "stdout",
     "output_type": "stream",
     "text": [
      "epoch: 1, [batch: 504 / 2520], examples_per_second: 3175.1592, train_label_loss: 1.1768, \n"
     ]
    },
    {
     "name": "stdout",
     "output_type": "stream",
     "text": [
      "epoch: 1, [batch: 756 / 2520], examples_per_second: 3167.5713, train_label_loss: 1.2810, \n"
     ]
    },
    {
     "name": "stdout",
     "output_type": "stream",
     "text": [
      "epoch: 1, [batch: 1008 / 2520], examples_per_second: 3150.6428, train_label_loss: 1.1176, \n"
     ]
    },
    {
     "name": "stdout",
     "output_type": "stream",
     "text": [
      "epoch: 1, [batch: 1260 / 2520], examples_per_second: 3141.1593, train_label_loss: 1.2039, \n"
     ]
    },
    {
     "name": "stdout",
     "output_type": "stream",
     "text": [
      "epoch: 1, [batch: 1512 / 2520], examples_per_second: 3150.2660, train_label_loss: 0.9310, \n"
     ]
    },
    {
     "name": "stdout",
     "output_type": "stream",
     "text": [
      "epoch: 1, [batch: 1764 / 2520], examples_per_second: 3151.0284, train_label_loss: 0.5424, \n"
     ]
    },
    {
     "name": "stdout",
     "output_type": "stream",
     "text": [
      "epoch: 1, [batch: 2016 / 2520], examples_per_second: 3172.9354, train_label_loss: 0.7837, \n"
     ]
    },
    {
     "name": "stdout",
     "output_type": "stream",
     "text": [
      "epoch: 1, [batch: 2268 / 2520], examples_per_second: 3160.5150, train_label_loss: 0.7101, \n"
     ]
    },
    {
     "name": "stdout",
     "output_type": "stream",
     "text": [
      "=============================================================\n",
      "epoch: 1, source_val_acc_label: 0.6720, target_val_acc_label: 0.5455, source_val_label_loss: 2.5650, target_val_label_loss: 2.6314, \n",
      "=============================================================\n"
     ]
    },
    {
     "name": "stdout",
     "output_type": "stream",
     "text": [
      "New best\n"
     ]
    },
    {
     "name": "stdout",
     "output_type": "stream",
     "text": [
      "epoch: 2, [batch: 1 / 2520], examples_per_second: 11.2066, train_label_loss: 3.0254, \n"
     ]
    },
    {
     "name": "stdout",
     "output_type": "stream",
     "text": [
      "epoch: 2, [batch: 252 / 2520], examples_per_second: 3190.2567, train_label_loss: 0.4475, \n"
     ]
    },
    {
     "name": "stdout",
     "output_type": "stream",
     "text": [
      "epoch: 2, [batch: 504 / 2520], examples_per_second: 3188.7657, train_label_loss: 0.4458, \n"
     ]
    },
    {
     "name": "stdout",
     "output_type": "stream",
     "text": [
      "epoch: 2, [batch: 756 / 2520], examples_per_second: 3194.7580, train_label_loss: 1.1255, \n"
     ]
    },
    {
     "name": "stdout",
     "output_type": "stream",
     "text": [
      "epoch: 2, [batch: 1008 / 2520], examples_per_second: 3165.1133, train_label_loss: 1.0602, \n"
     ]
    },
    {
     "name": "stdout",
     "output_type": "stream",
     "text": [
      "epoch: 2, [batch: 1260 / 2520], examples_per_second: 3197.6069, train_label_loss: 1.1337, \n"
     ]
    },
    {
     "name": "stdout",
     "output_type": "stream",
     "text": [
      "epoch: 2, [batch: 1512 / 2520], examples_per_second: 3182.6225, train_label_loss: 0.4739, \n"
     ]
    },
    {
     "name": "stdout",
     "output_type": "stream",
     "text": [
      "epoch: 2, [batch: 1764 / 2520], examples_per_second: 3177.3822, train_label_loss: 0.3694, \n"
     ]
    },
    {
     "name": "stdout",
     "output_type": "stream",
     "text": [
      "epoch: 2, [batch: 2016 / 2520], examples_per_second: 3178.7719, train_label_loss: 0.7545, \n"
     ]
    },
    {
     "name": "stdout",
     "output_type": "stream",
     "text": [
      "epoch: 2, [batch: 2268 / 2520], examples_per_second: 3183.9455, train_label_loss: 0.4708, \n"
     ]
    },
    {
     "name": "stdout",
     "output_type": "stream",
     "text": [
      "=============================================================\n",
      "epoch: 2, source_val_acc_label: 0.7374, target_val_acc_label: 0.6388, source_val_label_loss: 0.6904, target_val_label_loss: 0.9955, \n",
      "=============================================================\n"
     ]
    },
    {
     "name": "stdout",
     "output_type": "stream",
     "text": [
      "New best\n"
     ]
    },
    {
     "name": "stdout",
     "output_type": "stream",
     "text": [
      "epoch: 3, [batch: 1 / 2520], examples_per_second: 11.1630, train_label_loss: 0.5387, \n"
     ]
    },
    {
     "name": "stdout",
     "output_type": "stream",
     "text": [
      "epoch: 3, [batch: 252 / 2520], examples_per_second: 3184.1582, train_label_loss: 0.8089, \n"
     ]
    },
    {
     "name": "stdout",
     "output_type": "stream",
     "text": [
      "epoch: 3, [batch: 504 / 2520], examples_per_second: 3175.5642, train_label_loss: 0.6016, \n"
     ]
    },
    {
     "name": "stdout",
     "output_type": "stream",
     "text": [
      "epoch: 3, [batch: 756 / 2520], examples_per_second: 3178.3741, train_label_loss: 0.4493, \n"
     ]
    },
    {
     "name": "stdout",
     "output_type": "stream",
     "text": [
      "epoch: 3, [batch: 1008 / 2520], examples_per_second: 3166.5687, train_label_loss: 0.9947, \n"
     ]
    },
    {
     "name": "stdout",
     "output_type": "stream",
     "text": [
      "epoch: 3, [batch: 1260 / 2520], examples_per_second: 3177.6203, train_label_loss: 0.8060, \n"
     ]
    },
    {
     "name": "stdout",
     "output_type": "stream",
     "text": [
      "epoch: 3, [batch: 1512 / 2520], examples_per_second: 3179.6739, train_label_loss: 0.7178, \n"
     ]
    },
    {
     "name": "stdout",
     "output_type": "stream",
     "text": [
      "epoch: 3, [batch: 1764 / 2520], examples_per_second: 3175.7256, train_label_loss: 0.1661, \n"
     ]
    },
    {
     "name": "stdout",
     "output_type": "stream",
     "text": [
      "epoch: 3, [batch: 2016 / 2520], examples_per_second: 3179.5704, train_label_loss: 0.7876, \n"
     ]
    },
    {
     "name": "stdout",
     "output_type": "stream",
     "text": [
      "epoch: 3, [batch: 2268 / 2520], examples_per_second: 3191.1458, train_label_loss: 0.3430, \n"
     ]
    },
    {
     "name": "stdout",
     "output_type": "stream",
     "text": [
      "=============================================================\n",
      "epoch: 3, source_val_acc_label: 0.7511, target_val_acc_label: 0.6416, source_val_label_loss: 0.6524, target_val_label_loss: 0.9894, \n",
      "=============================================================\n"
     ]
    },
    {
     "name": "stdout",
     "output_type": "stream",
     "text": [
      "New best\n"
     ]
    },
    {
     "name": "stdout",
     "output_type": "stream",
     "text": [
      "epoch: 4, [batch: 1 / 2520], examples_per_second: 11.1841, train_label_loss: 0.4592, \n"
     ]
    },
    {
     "name": "stdout",
     "output_type": "stream",
     "text": [
      "epoch: 4, [batch: 252 / 2520], examples_per_second: 3202.1544, train_label_loss: 0.8244, \n"
     ]
    },
    {
     "name": "stdout",
     "output_type": "stream",
     "text": [
      "epoch: 4, [batch: 504 / 2520], examples_per_second: 3177.6973, train_label_loss: 0.2172, \n"
     ]
    },
    {
     "name": "stdout",
     "output_type": "stream",
     "text": [
      "epoch: 4, [batch: 756 / 2520], examples_per_second: 3176.4260, train_label_loss: 0.7480, \n"
     ]
    },
    {
     "name": "stdout",
     "output_type": "stream",
     "text": [
      "epoch: 4, [batch: 1008 / 2520], examples_per_second: 3162.5246, train_label_loss: 0.2275, \n"
     ]
    },
    {
     "name": "stdout",
     "output_type": "stream",
     "text": [
      "epoch: 4, [batch: 1260 / 2520], examples_per_second: 3183.5820, train_label_loss: 0.4199, \n"
     ]
    },
    {
     "name": "stdout",
     "output_type": "stream",
     "text": [
      "epoch: 4, [batch: 1512 / 2520], examples_per_second: 3170.3416, train_label_loss: 0.4880, \n"
     ]
    },
    {
     "name": "stdout",
     "output_type": "stream",
     "text": [
      "epoch: 4, [batch: 1764 / 2520], examples_per_second: 3157.0898, train_label_loss: 0.3436, \n"
     ]
    },
    {
     "name": "stdout",
     "output_type": "stream",
     "text": [
      "epoch: 4, [batch: 2016 / 2520], examples_per_second: 3170.1622, train_label_loss: 0.5740, \n"
     ]
    },
    {
     "name": "stdout",
     "output_type": "stream",
     "text": [
      "epoch: 4, [batch: 2268 / 2520], examples_per_second: 3156.0117, train_label_loss: 0.3352, \n"
     ]
    },
    {
     "name": "stdout",
     "output_type": "stream",
     "text": [
      "=============================================================\n",
      "epoch: 4, source_val_acc_label: 0.7589, target_val_acc_label: 0.6461, source_val_label_loss: 0.6752, target_val_label_loss: 0.9811, \n",
      "=============================================================\n"
     ]
    },
    {
     "name": "stdout",
     "output_type": "stream",
     "text": [
      "New best\n"
     ]
    },
    {
     "name": "stdout",
     "output_type": "stream",
     "text": [
      "epoch: 5, [batch: 1 / 2520], examples_per_second: 11.1730, train_label_loss: 0.2562, \n"
     ]
    },
    {
     "name": "stdout",
     "output_type": "stream",
     "text": [
      "epoch: 5, [batch: 252 / 2520], examples_per_second: 3155.7393, train_label_loss: 0.1317, \n"
     ]
    },
    {
     "name": "stdout",
     "output_type": "stream",
     "text": [
      "epoch: 5, [batch: 504 / 2520], examples_per_second: 3148.0530, train_label_loss: 0.1867, \n"
     ]
    },
    {
     "name": "stdout",
     "output_type": "stream",
     "text": [
      "epoch: 5, [batch: 756 / 2520], examples_per_second: 3201.2194, train_label_loss: 0.4403, \n"
     ]
    },
    {
     "name": "stdout",
     "output_type": "stream",
     "text": [
      "epoch: 5, [batch: 1008 / 2520], examples_per_second: 3193.6800, train_label_loss: 0.3421, \n"
     ]
    },
    {
     "name": "stdout",
     "output_type": "stream",
     "text": [
      "epoch: 5, [batch: 1260 / 2520], examples_per_second: 3170.8636, train_label_loss: 0.2833, \n"
     ]
    },
    {
     "name": "stdout",
     "output_type": "stream",
     "text": [
      "epoch: 5, [batch: 1512 / 2520], examples_per_second: 3165.0150, train_label_loss: 0.2918, \n"
     ]
    },
    {
     "name": "stdout",
     "output_type": "stream",
     "text": [
      "epoch: 5, [batch: 1764 / 2520], examples_per_second: 3152.6480, train_label_loss: 0.4297, \n"
     ]
    },
    {
     "name": "stdout",
     "output_type": "stream",
     "text": [
      "epoch: 5, [batch: 2016 / 2520], examples_per_second: 3160.9898, train_label_loss: 0.4767, \n"
     ]
    },
    {
     "name": "stdout",
     "output_type": "stream",
     "text": [
      "epoch: 5, [batch: 2268 / 2520], examples_per_second: 3174.4436, train_label_loss: 0.5924, \n"
     ]
    },
    {
     "name": "stdout",
     "output_type": "stream",
     "text": [
      "=============================================================\n",
      "epoch: 5, source_val_acc_label: 0.7633, target_val_acc_label: 0.6558, source_val_label_loss: 0.6830, target_val_label_loss: 0.9706, \n",
      "=============================================================\n"
     ]
    },
    {
     "name": "stdout",
     "output_type": "stream",
     "text": [
      "New best\n"
     ]
    },
    {
     "name": "stdout",
     "output_type": "stream",
     "text": [
      "epoch: 6, [batch: 1 / 2520], examples_per_second: 11.1731, train_label_loss: 0.3642, \n"
     ]
    },
    {
     "name": "stdout",
     "output_type": "stream",
     "text": [
      "epoch: 6, [batch: 252 / 2520], examples_per_second: 3174.0179, train_label_loss: 0.2248, \n"
     ]
    },
    {
     "name": "stdout",
     "output_type": "stream",
     "text": [
      "epoch: 6, [batch: 504 / 2520], examples_per_second: 3195.2282, train_label_loss: 0.3422, \n"
     ]
    },
    {
     "name": "stdout",
     "output_type": "stream",
     "text": [
      "epoch: 6, [batch: 756 / 2520], examples_per_second: 3190.2981, train_label_loss: 0.6124, \n"
     ]
    },
    {
     "name": "stdout",
     "output_type": "stream",
     "text": [
      "epoch: 6, [batch: 1008 / 2520], examples_per_second: 3150.5793, train_label_loss: 0.1440, \n"
     ]
    },
    {
     "name": "stdout",
     "output_type": "stream",
     "text": [
      "epoch: 6, [batch: 1260 / 2520], examples_per_second: 3181.2526, train_label_loss: 0.1866, \n"
     ]
    },
    {
     "name": "stdout",
     "output_type": "stream",
     "text": [
      "epoch: 6, [batch: 1512 / 2520], examples_per_second: 3188.9594, train_label_loss: 0.2544, \n"
     ]
    },
    {
     "name": "stdout",
     "output_type": "stream",
     "text": [
      "epoch: 6, [batch: 1764 / 2520], examples_per_second: 3160.5611, train_label_loss: 0.3601, \n"
     ]
    },
    {
     "name": "stdout",
     "output_type": "stream",
     "text": [
      "epoch: 6, [batch: 2016 / 2520], examples_per_second: 3171.4348, train_label_loss: 0.1731, \n"
     ]
    },
    {
     "name": "stdout",
     "output_type": "stream",
     "text": [
      "epoch: 6, [batch: 2268 / 2520], examples_per_second: 3165.5781, train_label_loss: 0.3481, \n"
     ]
    },
    {
     "name": "stdout",
     "output_type": "stream",
     "text": [
      "=============================================================\n",
      "epoch: 6, source_val_acc_label: 0.7764, target_val_acc_label: 0.6666, source_val_label_loss: 0.6618, target_val_label_loss: 0.9523, \n",
      "=============================================================\n"
     ]
    },
    {
     "name": "stdout",
     "output_type": "stream",
     "text": [
      "New best\n"
     ]
    },
    {
     "name": "stdout",
     "output_type": "stream",
     "text": [
      "epoch: 7, [batch: 1 / 2520], examples_per_second: 11.1864, train_label_loss: 0.2160, \n"
     ]
    },
    {
     "name": "stdout",
     "output_type": "stream",
     "text": [
      "epoch: 7, [batch: 252 / 2520], examples_per_second: 3191.1549, train_label_loss: 0.2000, \n"
     ]
    },
    {
     "name": "stdout",
     "output_type": "stream",
     "text": [
      "epoch: 7, [batch: 504 / 2520], examples_per_second: 3185.3936, train_label_loss: 0.3182, \n"
     ]
    },
    {
     "name": "stdout",
     "output_type": "stream",
     "text": [
      "epoch: 7, [batch: 756 / 2520], examples_per_second: 3193.0155, train_label_loss: 0.1943, \n"
     ]
    },
    {
     "name": "stdout",
     "output_type": "stream",
     "text": [
      "epoch: 7, [batch: 1008 / 2520], examples_per_second: 3171.6113, train_label_loss: 0.1795, \n"
     ]
    },
    {
     "name": "stdout",
     "output_type": "stream",
     "text": [
      "epoch: 7, [batch: 1260 / 2520], examples_per_second: 3182.3837, train_label_loss: 0.3738, \n"
     ]
    },
    {
     "name": "stdout",
     "output_type": "stream",
     "text": [
      "epoch: 7, [batch: 1512 / 2520], examples_per_second: 3172.3155, train_label_loss: 0.1735, \n"
     ]
    },
    {
     "name": "stdout",
     "output_type": "stream",
     "text": [
      "epoch: 7, [batch: 1764 / 2520], examples_per_second: 3166.4645, train_label_loss: 0.2365, \n"
     ]
    },
    {
     "name": "stdout",
     "output_type": "stream",
     "text": [
      "epoch: 7, [batch: 2016 / 2520], examples_per_second: 3186.7209, train_label_loss: 0.3665, \n"
     ]
    },
    {
     "name": "stdout",
     "output_type": "stream",
     "text": [
      "epoch: 7, [batch: 2268 / 2520], examples_per_second: 3187.9813, train_label_loss: 0.1789, \n"
     ]
    },
    {
     "name": "stdout",
     "output_type": "stream",
     "text": [
      "=============================================================\n",
      "epoch: 7, source_val_acc_label: 0.7740, target_val_acc_label: 0.6659, source_val_label_loss: 0.7219, target_val_label_loss: 0.9933, \n",
      "=============================================================\n"
     ]
    },
    {
     "name": "stdout",
     "output_type": "stream",
     "text": [
      "epoch: 8, [batch: 1 / 2520], examples_per_second: 11.1764, train_label_loss: 0.1725, \n"
     ]
    },
    {
     "name": "stdout",
     "output_type": "stream",
     "text": [
      "epoch: 8, [batch: 252 / 2520], examples_per_second: 3174.6916, train_label_loss: 0.3028, \n"
     ]
    },
    {
     "name": "stdout",
     "output_type": "stream",
     "text": [
      "epoch: 8, [batch: 504 / 2520], examples_per_second: 3171.1699, train_label_loss: 0.3975, \n"
     ]
    },
    {
     "name": "stdout",
     "output_type": "stream",
     "text": [
      "epoch: 8, [batch: 756 / 2520], examples_per_second: 3176.3303, train_label_loss: 0.1434, \n"
     ]
    },
    {
     "name": "stdout",
     "output_type": "stream",
     "text": [
      "epoch: 8, [batch: 1008 / 2520], examples_per_second: 3163.5318, train_label_loss: 0.1855, \n"
     ]
    },
    {
     "name": "stdout",
     "output_type": "stream",
     "text": [
      "epoch: 8, [batch: 1260 / 2520], examples_per_second: 3165.2993, train_label_loss: 0.0181, \n"
     ]
    },
    {
     "name": "stdout",
     "output_type": "stream",
     "text": [
      "epoch: 8, [batch: 1512 / 2520], examples_per_second: 3152.5233, train_label_loss: 0.1410, \n"
     ]
    },
    {
     "name": "stdout",
     "output_type": "stream",
     "text": [
      "epoch: 8, [batch: 1764 / 2520], examples_per_second: 3200.4314, train_label_loss: 0.2944, \n"
     ]
    },
    {
     "name": "stdout",
     "output_type": "stream",
     "text": [
      "epoch: 8, [batch: 2016 / 2520], examples_per_second: 3200.6158, train_label_loss: 0.0964, \n"
     ]
    },
    {
     "name": "stdout",
     "output_type": "stream",
     "text": [
      "epoch: 8, [batch: 2268 / 2520], examples_per_second: 3185.8671, train_label_loss: 0.1951, \n"
     ]
    },
    {
     "name": "stdout",
     "output_type": "stream",
     "text": [
      "=============================================================\n",
      "epoch: 8, source_val_acc_label: 0.7738, target_val_acc_label: 0.6699, source_val_label_loss: 0.7784, target_val_label_loss: 1.0234, \n",
      "=============================================================\n"
     ]
    },
    {
     "name": "stdout",
     "output_type": "stream",
     "text": [
      "New best\n"
     ]
    },
    {
     "name": "stdout",
     "output_type": "stream",
     "text": [
      "epoch: 9, [batch: 1 / 2520], examples_per_second: 11.1118, train_label_loss: 0.0474, \n"
     ]
    },
    {
     "name": "stdout",
     "output_type": "stream",
     "text": [
      "epoch: 9, [batch: 252 / 2520], examples_per_second: 3167.0584, train_label_loss: 0.1665, \n"
     ]
    },
    {
     "name": "stdout",
     "output_type": "stream",
     "text": [
      "epoch: 9, [batch: 504 / 2520], examples_per_second: 3185.6351, train_label_loss: 0.1448, \n"
     ]
    },
    {
     "name": "stdout",
     "output_type": "stream",
     "text": [
      "epoch: 9, [batch: 756 / 2520], examples_per_second: 3189.2996, train_label_loss: 0.3283, \n"
     ]
    },
    {
     "name": "stdout",
     "output_type": "stream",
     "text": [
      "epoch: 9, [batch: 1008 / 2520], examples_per_second: 3164.3139, train_label_loss: 0.0963, \n"
     ]
    },
    {
     "name": "stdout",
     "output_type": "stream",
     "text": [
      "epoch: 9, [batch: 1260 / 2520], examples_per_second: 3170.6512, train_label_loss: 0.1880, \n"
     ]
    },
    {
     "name": "stdout",
     "output_type": "stream",
     "text": [
      "epoch: 9, [batch: 1512 / 2520], examples_per_second: 3181.2888, train_label_loss: 0.0575, \n"
     ]
    },
    {
     "name": "stdout",
     "output_type": "stream",
     "text": [
      "epoch: 9, [batch: 1764 / 2520], examples_per_second: 3181.8983, train_label_loss: 0.1017, \n"
     ]
    },
    {
     "name": "stdout",
     "output_type": "stream",
     "text": [
      "epoch: 9, [batch: 2016 / 2520], examples_per_second: 3212.9706, train_label_loss: 0.0722, \n"
     ]
    },
    {
     "name": "stdout",
     "output_type": "stream",
     "text": [
      "epoch: 9, [batch: 2268 / 2520], examples_per_second: 3186.1165, train_label_loss: 0.3981, \n"
     ]
    },
    {
     "name": "stdout",
     "output_type": "stream",
     "text": [
      "=============================================================\n",
      "epoch: 9, source_val_acc_label: 0.7744, target_val_acc_label: 0.6664, source_val_label_loss: 0.7757, target_val_label_loss: 1.0687, \n",
      "=============================================================\n"
     ]
    },
    {
     "name": "stdout",
     "output_type": "stream",
     "text": [
      "epoch: 10, [batch: 1 / 2520], examples_per_second: 11.2316, train_label_loss: 0.0574, \n"
     ]
    },
    {
     "name": "stdout",
     "output_type": "stream",
     "text": [
      "epoch: 10, [batch: 252 / 2520], examples_per_second: 3186.8182, train_label_loss: 0.3435, \n"
     ]
    },
    {
     "name": "stdout",
     "output_type": "stream",
     "text": [
      "epoch: 10, [batch: 504 / 2520], examples_per_second: 3186.0264, train_label_loss: 0.0955, \n"
     ]
    },
    {
     "name": "stdout",
     "output_type": "stream",
     "text": [
      "epoch: 10, [batch: 756 / 2520], examples_per_second: 3181.1842, train_label_loss: 0.1169, \n"
     ]
    },
    {
     "name": "stdout",
     "output_type": "stream",
     "text": [
      "epoch: 10, [batch: 1008 / 2520], examples_per_second: 3174.8465, train_label_loss: 0.0428, \n"
     ]
    },
    {
     "name": "stdout",
     "output_type": "stream",
     "text": [
      "epoch: 10, [batch: 1260 / 2520], examples_per_second: 3170.7372, train_label_loss: 0.0183, \n"
     ]
    },
    {
     "name": "stdout",
     "output_type": "stream",
     "text": [
      "epoch: 10, [batch: 1512 / 2520], examples_per_second: 3185.8304, train_label_loss: 0.0284, \n"
     ]
    },
    {
     "name": "stdout",
     "output_type": "stream",
     "text": [
      "epoch: 10, [batch: 1764 / 2520], examples_per_second: 3166.6675, train_label_loss: 0.1116, \n"
     ]
    },
    {
     "name": "stdout",
     "output_type": "stream",
     "text": [
      "epoch: 10, [batch: 2016 / 2520], examples_per_second: 3184.5691, train_label_loss: 0.0402, \n"
     ]
    },
    {
     "name": "stdout",
     "output_type": "stream",
     "text": [
      "epoch: 10, [batch: 2268 / 2520], examples_per_second: 3184.0906, train_label_loss: 0.3355, \n"
     ]
    },
    {
     "name": "stdout",
     "output_type": "stream",
     "text": [
      "=============================================================\n",
      "epoch: 10, source_val_acc_label: 0.7671, target_val_acc_label: 0.6653, source_val_label_loss: 0.8755, target_val_label_loss: 1.1316, \n",
      "=============================================================\n"
     ]
    },
    {
     "name": "stdout",
     "output_type": "stream",
     "text": [
      "epoch: 11, [batch: 1 / 2520], examples_per_second: 11.1875, train_label_loss: 0.0258, \n"
     ]
    },
    {
     "name": "stdout",
     "output_type": "stream",
     "text": [
      "epoch: 11, [batch: 252 / 2520], examples_per_second: 3162.2762, train_label_loss: 0.0686, \n"
     ]
    },
    {
     "name": "stdout",
     "output_type": "stream",
     "text": [
      "epoch: 11, [batch: 504 / 2520], examples_per_second: 3161.2791, train_label_loss: 0.0254, \n"
     ]
    },
    {
     "name": "stdout",
     "output_type": "stream",
     "text": [
      "epoch: 11, [batch: 756 / 2520], examples_per_second: 3165.9704, train_label_loss: 0.0370, \n"
     ]
    },
    {
     "name": "stdout",
     "output_type": "stream",
     "text": [
      "epoch: 11, [batch: 1008 / 2520], examples_per_second: 3160.7529, train_label_loss: 0.0431, \n"
     ]
    },
    {
     "name": "stdout",
     "output_type": "stream",
     "text": [
      "epoch: 11, [batch: 1260 / 2520], examples_per_second: 3196.1025, train_label_loss: 0.1435, \n"
     ]
    },
    {
     "name": "stdout",
     "output_type": "stream",
     "text": [
      "epoch: 11, [batch: 1512 / 2520], examples_per_second: 3209.6269, train_label_loss: 0.0416, \n"
     ]
    },
    {
     "name": "stdout",
     "output_type": "stream",
     "text": [
      "epoch: 11, [batch: 1764 / 2520], examples_per_second: 3155.7847, train_label_loss: 0.0210, \n"
     ]
    },
    {
     "name": "stdout",
     "output_type": "stream",
     "text": [
      "epoch: 11, [batch: 2016 / 2520], examples_per_second: 3162.6205, train_label_loss: 0.0712, \n"
     ]
    },
    {
     "name": "stdout",
     "output_type": "stream",
     "text": [
      "epoch: 11, [batch: 2268 / 2520], examples_per_second: 3174.9731, train_label_loss: 0.6831, \n"
     ]
    },
    {
     "name": "stdout",
     "output_type": "stream",
     "text": [
      "=============================================================\n",
      "epoch: 11, source_val_acc_label: 0.7622, target_val_acc_label: 0.6617, source_val_label_loss: 0.9397, target_val_label_loss: 1.1880, \n",
      "=============================================================\n"
     ]
    },
    {
     "name": "stdout",
     "output_type": "stream",
     "text": [
      "epoch: 12, [batch: 1 / 2520], examples_per_second: 11.2026, train_label_loss: 0.0648, \n"
     ]
    },
    {
     "name": "stdout",
     "output_type": "stream",
     "text": [
      "epoch: 12, [batch: 252 / 2520], examples_per_second: 3182.2935, train_label_loss: 0.4133, \n"
     ]
    },
    {
     "name": "stdout",
     "output_type": "stream",
     "text": [
      "epoch: 12, [batch: 504 / 2520], examples_per_second: 3178.0846, train_label_loss: 0.1292, \n"
     ]
    },
    {
     "name": "stdout",
     "output_type": "stream",
     "text": [
      "epoch: 12, [batch: 756 / 2520], examples_per_second: 3176.0521, train_label_loss: 0.0094, \n"
     ]
    },
    {
     "name": "stdout",
     "output_type": "stream",
     "text": [
      "epoch: 12, [batch: 1008 / 2520], examples_per_second: 3158.2422, train_label_loss: 0.0150, \n"
     ]
    },
    {
     "name": "stdout",
     "output_type": "stream",
     "text": [
      "epoch: 12, [batch: 1260 / 2520], examples_per_second: 3174.5959, train_label_loss: 0.0445, \n"
     ]
    },
    {
     "name": "stdout",
     "output_type": "stream",
     "text": [
      "epoch: 12, [batch: 1512 / 2520], examples_per_second: 3174.5730, train_label_loss: 0.2718, \n"
     ]
    },
    {
     "name": "stdout",
     "output_type": "stream",
     "text": [
      "epoch: 12, [batch: 1764 / 2520], examples_per_second: 3165.1533, train_label_loss: 0.2670, \n"
     ]
    },
    {
     "name": "stdout",
     "output_type": "stream",
     "text": [
      "epoch: 12, [batch: 2016 / 2520], examples_per_second: 3178.5908, train_label_loss: 0.2558, \n"
     ]
    },
    {
     "name": "stdout",
     "output_type": "stream",
     "text": [
      "epoch: 12, [batch: 2268 / 2520], examples_per_second: 3158.1982, train_label_loss: 0.0470, \n"
     ]
    },
    {
     "name": "stdout",
     "output_type": "stream",
     "text": [
      "=============================================================\n",
      "epoch: 12, source_val_acc_label: 0.7679, target_val_acc_label: 0.6648, source_val_label_loss: 0.9519, target_val_label_loss: 1.2013, \n",
      "=============================================================\n"
     ]
    },
    {
     "name": "stdout",
     "output_type": "stream",
     "text": [
      "Patience (3) exhausted\n"
     ]
    }
   ],
   "source": [
    "###################################\n",
    "# train\n",
    "###################################\n",
    "jig = PTN_Train_Eval_Test_Jig(model, p.BEST_MODEL_PATH, p.device)\n",
    "\n",
    "jig.train(\n",
    "    train_iterable=datasets.source.processed.train,\n",
    "    source_val_iterable=datasets.source.processed.val,\n",
    "    target_val_iterable=datasets.target.processed.val,\n",
    "    num_epochs=p.n_epoch,\n",
    "    num_logs_per_epoch=p.NUM_LOGS_PER_EPOCH,\n",
    "    patience=p.patience,\n",
    "    optimizer=optimizer,\n",
    "    criteria_for_best=p.criteria_for_best,\n",
    ")"
   ]
  },
  {
   "cell_type": "code",
   "execution_count": 14,
   "id": "31e8fabf",
   "metadata": {
    "execution": {
     "iopub.execute_input": "2022-04-01T19:46:35.204796Z",
     "iopub.status.busy": "2022-04-01T19:46:35.204549Z",
     "iopub.status.idle": "2022-04-01T19:46:35.222642Z",
     "shell.execute_reply": "2022-04-01T19:46:35.222189Z"
    },
    "papermill": {
     "duration": 0.054508,
     "end_time": "2022-04-01T19:46:35.222729",
     "exception": false,
     "start_time": "2022-04-01T19:46:35.168221",
     "status": "completed"
    },
    "tags": []
   },
   "outputs": [],
   "source": [
    "total_experiment_time_secs = time.time() - start_time_secs"
   ]
  },
  {
   "cell_type": "code",
   "execution_count": 15,
   "id": "87b9595b",
   "metadata": {
    "execution": {
     "iopub.execute_input": "2022-04-01T19:46:35.301827Z",
     "iopub.status.busy": "2022-04-01T19:46:35.301562Z",
     "iopub.status.idle": "2022-04-01T19:47:23.791541Z",
     "shell.execute_reply": "2022-04-01T19:47:23.791941Z"
    },
    "papermill": {
     "duration": 48.530336,
     "end_time": "2022-04-01T19:47:23.792071",
     "exception": false,
     "start_time": "2022-04-01T19:46:35.261735",
     "status": "completed"
    },
    "tags": []
   },
   "outputs": [],
   "source": [
    "###################################\n",
    "# Evaluate the model\n",
    "###################################\n",
    "source_test_label_accuracy, source_test_label_loss = jig.test(datasets.source.processed.test)\n",
    "target_test_label_accuracy, target_test_label_loss = jig.test(datasets.target.processed.test)\n",
    "\n",
    "source_val_label_accuracy, source_val_label_loss = jig.test(datasets.source.processed.val)\n",
    "target_val_label_accuracy, target_val_label_loss = jig.test(datasets.target.processed.val)\n",
    "\n",
    "history = jig.get_history()\n",
    "\n",
    "total_epochs_trained = len(history[\"epoch_indices\"])\n",
    "\n",
    "val_dl = Iterable_Aggregator((datasets.source.original.val,datasets.target.original.val))\n",
    "\n",
    "confusion = ptn_confusion_by_domain_over_dataloader(model, p.device, val_dl)\n",
    "per_domain_accuracy = per_domain_accuracy_from_confusion(confusion)\n",
    "\n",
    "# Add a key to per_domain_accuracy for if it was a source domain\n",
    "for domain, accuracy in per_domain_accuracy.items():\n",
    "    per_domain_accuracy[domain] = {\n",
    "        \"accuracy\": accuracy,\n",
    "        \"source?\": domain in p.domains_source\n",
    "    }\n",
    "\n",
    "# Do an independent accuracy assesment JUST TO BE SURE!\n",
    "# _source_test_label_accuracy = independent_accuracy_assesment(model, datasets.source.processed.test, p.device)\n",
    "# _target_test_label_accuracy = independent_accuracy_assesment(model, datasets.target.processed.test, p.device)\n",
    "# _source_val_label_accuracy = independent_accuracy_assesment(model, datasets.source.processed.val, p.device)\n",
    "# _target_val_label_accuracy = independent_accuracy_assesment(model, datasets.target.processed.val, p.device)\n",
    "\n",
    "# assert(_source_test_label_accuracy == source_test_label_accuracy)\n",
    "# assert(_target_test_label_accuracy == target_test_label_accuracy)\n",
    "# assert(_source_val_label_accuracy == source_val_label_accuracy)\n",
    "# assert(_target_val_label_accuracy == target_val_label_accuracy)\n",
    "\n",
    "experiment = {\n",
    "    \"experiment_name\": p.experiment_name,\n",
    "    \"parameters\": dict(p),\n",
    "    \"results\": {\n",
    "        \"source_test_label_accuracy\": source_test_label_accuracy,\n",
    "        \"source_test_label_loss\": source_test_label_loss,\n",
    "        \"target_test_label_accuracy\": target_test_label_accuracy,\n",
    "        \"target_test_label_loss\": target_test_label_loss,\n",
    "        \"source_val_label_accuracy\": source_val_label_accuracy,\n",
    "        \"source_val_label_loss\": source_val_label_loss,\n",
    "        \"target_val_label_accuracy\": target_val_label_accuracy,\n",
    "        \"target_val_label_loss\": target_val_label_loss,\n",
    "        \"total_epochs_trained\": total_epochs_trained,\n",
    "        \"total_experiment_time_secs\": total_experiment_time_secs,\n",
    "        \"confusion\": confusion,\n",
    "        \"per_domain_accuracy\": per_domain_accuracy,\n",
    "    },\n",
    "    \"history\": history,\n",
    "    \"dataset_metrics\": get_dataset_metrics(datasets, \"ptn\"),\n",
    "}"
   ]
  },
  {
   "cell_type": "code",
   "execution_count": 16,
   "id": "54a21829",
   "metadata": {
    "execution": {
     "iopub.execute_input": "2022-04-01T19:47:23.865878Z",
     "iopub.status.busy": "2022-04-01T19:47:23.865628Z",
     "iopub.status.idle": "2022-04-01T19:47:23.990095Z",
     "shell.execute_reply": "2022-04-01T19:47:23.990475Z"
    },
    "papermill": {
     "duration": 0.160872,
     "end_time": "2022-04-01T19:47:23.990581",
     "exception": false,
     "start_time": "2022-04-01T19:47:23.829709",
     "status": "completed"
    },
    "tags": []
   },
   "outputs": [
    {
     "data": {
      "image/png": "[encoded data removed]",
      "text/plain": [
       "<Figure size 1080x504 with 1 Axes>"
      ]
     },
     "metadata": {
      "needs_background": "light"
     },
     "output_type": "display_data"
    }
   ],
   "source": [
    "ax = get_loss_curve(experiment)\n",
    "plt.show()"
   ]
  },
  {
   "cell_type": "code",
   "execution_count": 17,
   "id": "fd8a0f60",
   "metadata": {
    "execution": {
     "iopub.execute_input": "2022-04-01T19:47:24.069003Z",
     "iopub.status.busy": "2022-04-01T19:47:24.068750Z",
     "iopub.status.idle": "2022-04-01T19:47:24.212448Z",
     "shell.execute_reply": "2022-04-01T19:47:24.212146Z"
    },
    "papermill": {
     "duration": 0.180932,
     "end_time": "2022-04-01T19:47:24.212513",
     "exception": false,
     "start_time": "2022-04-01T19:47:24.031581",
     "status": "completed"
    },
    "tags": []
   },
   "outputs": [
    {
     "data": {
      "text/plain": [
       "<AxesSubplot:title={'center':'Results'}>"
      ]
     },
     "execution_count": 17,
     "metadata": {},
     "output_type": "execute_result"
    },
    {
     "data": {
      "image/png": "[encoded data removed]",
      "text/plain": [
       "<Figure size 1080x504 with 1 Axes>"
      ]
     },
     "metadata": {
      "needs_background": "light"
     },
     "output_type": "display_data"
    }
   ],
   "source": [
    "get_results_table(experiment)"
   ]
  },
  {
   "cell_type": "code",
   "execution_count": 18,
   "id": "cf8dc689",
   "metadata": {
    "execution": {
     "iopub.execute_input": "2022-04-01T19:47:24.293615Z",
     "iopub.status.busy": "2022-04-01T19:47:24.293054Z",
     "iopub.status.idle": "2022-04-01T19:47:24.411862Z",
     "shell.execute_reply": "2022-04-01T19:47:24.411415Z"
    },
    "papermill": {
     "duration": 0.157232,
     "end_time": "2022-04-01T19:47:24.411950",
     "exception": false,
     "start_time": "2022-04-01T19:47:24.254718",
     "status": "completed"
    },
    "tags": []
   },
   "outputs": [
    {
     "data": {
      "text/plain": [
       "<AxesSubplot:title={'center':'Per Domain Validation Accuracy'}, xlabel='domain'>"
      ]
     },
     "execution_count": 18,
     "metadata": {},
     "output_type": "execute_result"
    },
    {
     "data": {
      "image/png": "[encoded data removed]",
      "text/plain": [
       "<Figure size 1080x504 with 1 Axes>"
      ]
     },
     "metadata": {
      "needs_background": "light"
     },
     "output_type": "display_data"
    }
   ],
   "source": [
    "get_domain_accuracies(experiment)"
   ]
  },
  {
   "cell_type": "code",
   "execution_count": 19,
   "id": "a74ae082",
   "metadata": {
    "execution": {
     "iopub.execute_input": "2022-04-01T19:47:24.492331Z",
     "iopub.status.busy": "2022-04-01T19:47:24.492080Z",
     "iopub.status.idle": "2022-04-01T19:47:24.506682Z",
     "shell.execute_reply": "2022-04-01T19:47:24.507071Z"
    },
    "papermill": {
     "duration": 0.054546,
     "end_time": "2022-04-01T19:47:24.507180",
     "exception": false,
     "start_time": "2022-04-01T19:47:24.452634",
     "status": "completed"
    },
    "tags": []
   },
   "outputs": [
    {
     "name": "stdout",
     "output_type": "stream",
     "text": [
      "Source Test Label Accuracy: 0.7795138888888888 Target Test Label Accuracy: 0.67359375\n",
      "Source Val Label Accuracy: 0.7737847222222223 Target Val Label Accuracy: 0.6699479166666666\n"
     ]
    }
   ],
   "source": [
    "print(\"Source Test Label Accuracy:\", experiment[\"results\"][\"source_test_label_accuracy\"], \"Target Test Label Accuracy:\", experiment[\"results\"][\"target_test_label_accuracy\"])\n",
    "print(\"Source Val Label Accuracy:\", experiment[\"results\"][\"source_val_label_accuracy\"], \"Target Val Label Accuracy:\", experiment[\"results\"][\"target_val_label_accuracy\"])"
   ]
  },
  {
   "cell_type": "code",
   "execution_count": 20,
   "id": "dacca602",
   "metadata": {
    "execution": {
     "iopub.execute_input": "2022-04-01T19:47:24.587584Z",
     "iopub.status.busy": "2022-04-01T19:47:24.587337Z",
     "iopub.status.idle": "2022-04-01T19:47:24.598906Z",
     "shell.execute_reply": "2022-04-01T19:47:24.598444Z"
    },
    "papermill": {
     "duration": 0.050353,
     "end_time": "2022-04-01T19:47:24.598995",
     "exception": false,
     "start_time": "2022-04-01T19:47:24.548642",
     "status": "completed"
    },
    "tags": [
     "experiment_json"
    ]
   },
   "outputs": [
    {
     "data": {
      "text/plain": [
       "'{\"experiment_name\": \"tuned_1v2:oracle.run1_limited\", \"parameters\": {\"experiment_name\": \"tuned_1v2:oracle.run1_limited\", \"device\": \"cuda\", \"lr\": 0.0001, \"labels_source\": [\"3123D52\", \"3123D65\", \"3123D79\", \"3123D80\", \"3123D54\", \"3123D70\", \"3123D7B\", \"3123D89\", \"3123D58\", \"3123D76\", \"3123D7D\", \"3123EFE\", \"3123D64\", \"3123D78\", \"3123D7E\", \"3124E4A\"], \"labels_target\": [\"3123D52\", \"3123D65\", \"3123D79\", \"3123D80\", \"3123D54\", \"3123D70\", \"3123D7B\", \"3123D89\", \"3123D58\", \"3123D76\", \"3123D7D\", \"3123EFE\", \"3123D64\", \"3123D78\", \"3123D7E\", \"3124E4A\"], \"episode_transforms_source\": [], \"episode_transforms_target\": [], \"domains_source\": [8, 32, 50], \"domains_target\": [14, 20, 26, 38, 44], \"num_examples_per_domain_per_label_source\": 2000, \"num_examples_per_domain_per_label_target\": 2000, \"n_shot\": 3, \"n_way\": 16, \"n_query\": 2, \"train_k_factor\": 3, \"val_k_factor\": 2, \"test_k_factor\": 2, \"torch_default_dtype\": \"torch.float32\", \"n_epoch\": 50, \"patience\": 3, \"criteria_for_best\": \"target_accuracy\", \"x_net\": [{\"class\": \"nnReshape\", \"kargs\": {\"shape\": [-1, 1, 2, 256]}}, {\"class\": \"Conv2d\", \"kargs\": {\"in_channels\": 1, \"out_channels\": 256, \"kernel_size\": [1, 7], \"bias\": false, \"padding\": [0, 3]}}, {\"class\": \"ReLU\", \"kargs\": {\"inplace\": true}}, {\"class\": \"BatchNorm2d\", \"kargs\": {\"num_features\": 256}}, {\"class\": \"Conv2d\", \"kargs\": {\"in_channels\": 256, \"out_channels\": 80, \"kernel_size\": [2, 7], \"bias\": true, \"padding\": [0, 3]}}, {\"class\": \"ReLU\", \"kargs\": {\"inplace\": true}}, {\"class\": \"BatchNorm2d\", \"kargs\": {\"num_features\": 80}}, {\"class\": \"Flatten\", \"kargs\": {}}, {\"class\": \"Linear\", \"kargs\": {\"in_features\": 20480, \"out_features\": 256}}, {\"class\": \"ReLU\", \"kargs\": {\"inplace\": true}}, {\"class\": \"BatchNorm1d\", \"kargs\": {\"num_features\": 256}}, {\"class\": \"Linear\", \"kargs\": {\"in_features\": 256, \"out_features\": 256}}], \"NUM_LOGS_PER_EPOCH\": 10, \"BEST_MODEL_PATH\": \"./best_model.pth\", \"pickle_name\": \"oracle.Run1_10kExamples_stratified_ds.2022A.pkl\", \"x_transforms_source\": [], \"x_transforms_target\": [], \"dataset_seed\": 154325, \"seed\": 154325}, \"results\": {\"source_test_label_accuracy\": 0.7795138888888888, \"source_test_label_loss\": 0.7397686839103699, \"target_test_label_accuracy\": 0.67359375, \"target_test_label_loss\": 1.0073621273040771, \"source_val_label_accuracy\": 0.7737847222222223, \"source_val_label_loss\": 0.7784108519554138, \"target_val_label_accuracy\": 0.6699479166666666, \"target_val_label_loss\": 1.0233582258224487, \"total_epochs_trained\": 12, \"total_experiment_time_secs\": 871.2373480796814, \"confusion\": {\"32\": {\"13\": {\"13\": 157, \"11\": 19, \"4\": 27, \"3\": 34, \"2\": 2, \"14\": 1}, \"9\": {\"9\": 235, \"12\": 4, \"2\": 1}, \"15\": {\"15\": 228, \"0\": 2, \"7\": 2, \"5\": 7, \"8\": 1}, \"2\": {\"2\": 183, \"4\": 50, \"14\": 3, \"8\": 3, \"0\": 1}, \"3\": {\"3\": 207, \"13\": 30, \"11\": 1, \"4\": 2}, \"8\": {\"8\": 121, \"7\": 9, \"0\": 56, \"14\": 19, \"5\": 18, \"2\": 11, \"15\": 3, \"4\": 3}, \"5\": {\"7\": 61, \"5\": 126, \"14\": 14, \"8\": 20, \"15\": 9, \"0\": 10}, \"14\": {\"14\": 127, \"0\": 9, \"7\": 53, \"8\": 18, \"5\": 18, \"2\": 7, \"4\": 7, \"3\": 1}, \"1\": {\"1\": 240}, \"0\": {\"7\": 20, \"0\": 156, \"8\": 47, \"14\": 5, \"5\": 12}, \"10\": {\"10\": 240}, \"6\": {\"6\": 240}, \"11\": {\"11\": 234, \"13\": 5, \"3\": 1}, \"7\": {\"7\": 136, \"14\": 36, \"0\": 13, \"5\": 48, \"8\": 7}, \"4\": {\"4\": 169, \"13\": 19, \"2\": 46, \"3\": 5, \"14\": 1}, \"12\": {\"12\": 240}}, \"50\": {\"10\": {\"10\": 219, \"8\": 11, \"0\": 10}, \"12\": {\"9\": 36, \"12\": 192, \"11\": 12}, \"1\": {\"1\": 230, \"13\": 4, \"0\": 2, \"11\": 2, \"10\": 2}, \"0\": {\"0\": 199, \"2\": 36, \"10\": 5}, \"15\": {\"6\": 21, \"15\": 211, \"11\": 4, \"9\": 2, \"4\": 2}, \"13\": {\"13\": 240}, \"8\": {\"8\": 231, \"10\": 8, \"13\": 1}, \"3\": {\"3\": 239, \"5\": 1}, \"11\": {\"15\": 6, \"11\": 213, \"12\": 8, \"9\": 13}, \"4\": {\"4\": 195, \"6\": 8, \"5\": 11, \"7\": 18, \"15\": 8}, \"6\": {\"6\": 176, \"5\": 34, \"15\": 29, \"13\": 1}, \"7\": {\"4\": 11, \"7\": 201, \"5\": 27, \"6\": 1}, \"14\": {\"14\": 240}, \"2\": {\"2\": 222, \"0\": 17, \"14\": 1}, \"5\": {\"5\": 124, \"7\": 54, \"13\": 11, \"6\": 44, \"15\": 2, \"4\": 3, \"1\": 1, \"11\": 1}, \"9\": {\"11\": 15, \"9\": 176, \"12\": 47, \"15\": 2}}, \"8\": {\"14\": {\"14\": 192, \"11\": 15, \"4\": 25, \"8\": 7, \"1\": 1}, \"10\": {\"5\": 27, \"11\": 5, \"13\": 44, \"10\": 113, \"1\": 37, \"6\": 9, \"7\": 1, \"4\": 4}, \"2\": {\"15\": 35, \"2\": 152, \"3\": 31, \"12\": 22}, \"8\": {\"7\": 3, \"8\": 155, \"4\": 41, \"6\": 25, \"14\": 14, \"1\": 2}, \"6\": {\"6\": 126, \"4\": 10, \"13\": 22, \"7\": 53, \"10\": 14, \"8\": 14, \"1\": 1}, \"7\": {\"7\": 161, \"13\": 25, \"6\": 49, \"10\": 5}, \"9\": {\"9\": 240}, \"11\": {\"11\": 95, \"14\": 37, \"1\": 66, \"10\": 14, \"8\": 4, \"4\": 16, \"5\": 3, \"6\": 3, \"13\": 2}, \"12\": {\"2\": 4, \"12\": 156, \"15\": 80}, \"13\": {\"10\": 45, \"13\": 142, \"7\": 39, \"1\": 2, \"6\": 9, \"5\": 2, \"11\": 1}, \"0\": {\"0\": 239, \"14\": 1}, \"3\": {\"3\": 237, \"2\": 3}, \"4\": {\"8\": 43, \"4\": 130, \"6\": 17, \"11\": 29, \"14\": 14, \"10\": 2, \"1\": 5}, \"15\": {\"12\": 54, \"15\": 170, \"2\": 16}, \"5\": {\"5\": 160, \"14\": 1, \"10\": 29, \"1\": 34, \"4\": 1, \"11\": 11, \"13\": 4}, \"1\": {\"1\": 99, \"10\": 38, \"11\": 61, \"6\": 5, \"5\": 24, \"4\": 11, \"14\": 1, \"13\": 1}}, \"44\": {\"13\": {\"6\": 60, \"13\": 178, \"11\": 2}, \"9\": {\"9\": 92, \"7\": 66, \"6\": 57, \"2\": 4, \"4\": 7, \"13\": 11, \"14\": 3}, \"15\": {\"14\": 39, \"15\": 156, \"5\": 14, \"4\": 15, \"0\": 2, \"8\": 14}, \"2\": {\"2\": 213, \"1\": 21, \"10\": 5, \"7\": 1}, \"3\": {\"3\": 211, \"12\": 29}, \"8\": {\"8\": 132, \"0\": 64, \"5\": 29, \"15\": 15}, \"5\": {\"15\": 20, \"5\": 200, \"14\": 14, \"8\": 5, \"4\": 1}, \"14\": {\"5\": 16, \"14\": 131, \"15\": 23, \"4\": 70}, \"1\": {\"1\": 209, \"2\": 29, \"10\": 2}, \"0\": {\"0\": 187, \"8\": 51, \"15\": 2}, \"10\": {\"10\": 223, \"7\": 8, \"1\": 4, \"2\": 5}, \"6\": {\"6\": 171, \"13\": 45, \"9\": 24}, \"11\": {\"11\": 240}, \"7\": {\"7\": 197, \"9\": 33, \"10\": 10}, \"4\": {\"4\": 122, \"9\": 4, \"15\": 26, \"14\": 83, \"6\": 1, \"13\": 3, \"5\": 1}, \"12\": {\"12\": 213, \"3\": 27}}, \"38\": {\"13\": {\"13\": 207, \"10\": 18, \"0\": 10, \"2\": 4, \"4\": 1}, \"12\": {\"12\": 233, \"8\": 6, \"5\": 1}, \"2\": {\"2\": 188, \"14\": 50, \"13\": 2}, \"9\": {\"9\": 225, \"7\": 5, \"5\": 9, \"8\": 1}, \"15\": {\"15\": 207, \"12\": 5, \"1\": 11, \"8\": 11, \"5\": 6}, \"5\": {\"5\": 114, \"8\": 73, \"7\": 26, \"9\": 15, \"15\": 11, \"12\": 1}, \"14\": {\"14\": 184, \"2\": 50, \"13\": 4, \"4\": 2}, \"0\": {\"7\": 45, \"0\": 139, \"13\": 14, \"3\": 24, \"10\": 11, \"4\": 3, \"9\": 3, \"8\": 1}, \"3\": {\"3\": 240}, \"1\": {\"1\": 235, \"6\": 5}, \"11\": {\"11\": 240}, \"7\": {\"7\": 226, \"8\": 3, \"0\": 4, \"5\": 4, \"13\": 1, \"9\": 2}, \"8\": {\"7\": 42, \"8\": 105, \"5\": 70, \"15\": 15, \"9\": 2, \"12\": 5, \"13\": 1}, \"4\": {\"4\": 222, \"0\": 6, \"10\": 12}, \"10\": {\"10\": 206, \"13\": 22, \"4\": 4, \"0\": 8}, \"6\": {\"6\": 237, \"1\": 3}}, \"26\": {\"10\": {\"14\": 61, \"0\": 41, \"10\": 83, \"15\": 20, \"6\": 28, \"1\": 4, \"5\": 3}, \"12\": {\"12\": 240}, \"1\": {\"1\": 146, \"15\": 15, \"10\": 11, \"6\": 38, \"5\": 17, \"14\": 11, \"0\": 2}, \"0\": {\"0\": 108, \"10\": 52, \"8\": 15, \"15\": 14, \"14\": 24, \"5\": 3, \"9\": 5, \"2\": 10, \"7\": 3, \"6\": 6}, \"15\": {\"5\": 72, \"6\": 24, \"15\": 90, \"14\": 20, \"1\": 11, \"10\": 13, \"0\": 10}, \"13\": {\"13\": 130, \"2\": 12, \"7\": 12, \"9\": 35, \"4\": 17, \"8\": 17, \"3\": 15, \"12\": 2}, \"8\": {\"8\": 88, \"7\": 32, \"9\": 79, \"2\": 17, \"0\": 10, \"10\": 1, \"13\": 12, \"3\": 1}, \"3\": {\"7\": 43, \"2\": 22, \"3\": 154, \"9\": 9, \"13\": 10, \"8\": 2}, \"11\": {\"11\": 237, \"6\": 2, \"12\": 1}, \"4\": {\"4\": 223, \"13\": 12, \"3\": 5}, \"6\": {\"14\": 27, \"6\": 104, \"15\": 27, \"1\": 30, \"10\": 25, \"5\": 20, \"0\": 7}, \"7\": {\"2\": 43, \"8\": 31, \"7\": 95, \"9\": 35, \"3\": 30, \"13\": 5, \"0\": 1}, \"14\": {\"1\": 16, \"15\": 35, \"14\": 86, \"0\": 25, \"6\": 13, \"10\": 58, \"5\": 6, \"2\": 1}, \"2\": {\"2\": 133, \"7\": 33, \"15\": 3, \"3\": 23, \"8\": 20, \"9\": 9, \"0\": 14, \"14\": 1, \"10\": 2, \"13\": 2}, \"5\": {\"5\": 131, \"6\": 22, \"15\": 67, \"1\": 18, \"14\": 1, \"10\": 1}, \"9\": {\"8\": 69, \"9\": 89, \"0\": 5, \"13\": 36, \"7\": 26, \"4\": 2, \"3\": 5, \"2\": 7, \"10\": 1}}, \"20\": {\"5\": {\"5\": 91, \"3\": 34, \"9\": 28, \"1\": 50, \"0\": 4, \"15\": 19, \"8\": 4, \"2\": 4, \"7\": 2, \"12\": 4}, \"15\": {\"5\": 19, \"12\": 42, \"15\": 84, \"4\": 11, \"7\": 5, \"1\": 37, \"9\": 16, \"3\": 7, \"2\": 13, \"13\": 6}, \"9\": {\"15\": 11, \"3\": 30, \"2\": 19, \"8\": 17, \"9\": 76, \"7\": 28, \"6\": 1, \"5\": 24, \"12\": 8, \"14\": 3, \"4\": 4, \"1\": 17, \"0\": 2}, \"7\": {\"7\": 67, \"2\": 46, \"4\": 11, \"3\": 9, \"6\": 21, \"13\": 19, \"14\": 19, \"5\": 2, \"8\": 8, \"9\": 20, \"12\": 12, \"10\": 3, \"1\": 3}, \"3\": {\"3\": 76, \"9\": 38, \"7\": 7, \"14\": 4, \"8\": 34, \"5\": 29, \"1\": 25, \"12\": 4, \"0\": 11, \"2\": 8, \"15\": 3, \"4\": 1}, \"8\": {\"8\": 116, \"7\": 12, \"3\": 38, \"0\": 5, \"14\": 47, \"9\": 14, \"2\": 3, \"4\": 1, \"5\": 3, \"1\": 1}, \"4\": {\"8\": 1, \"2\": 21, \"13\": 28, \"10\": 19, \"4\": 106, \"12\": 31, \"15\": 17, \"7\": 12, \"1\": 1, \"6\": 2, \"9\": 1, \"3\": 1}, \"6\": {\"6\": 169, \"7\": 19, \"2\": 11, \"14\": 29, \"8\": 4, \"13\": 4, \"9\": 1, \"10\": 2, \"4\": 1}, \"2\": {\"2\": 49, \"3\": 5, \"12\": 25, \"13\": 34, \"7\": 35, \"15\": 14, \"5\": 2, \"9\": 25, \"1\": 9, \"6\": 5, \"4\": 29, \"10\": 5, \"14\": 3}, \"12\": {\"9\": 11, \"13\": 16, \"15\": 57, \"12\": 61, \"4\": 44, \"2\": 21, \"1\": 19, \"3\": 2, \"7\": 6, \"10\": 1, \"5\": 2}, \"0\": {\"0\": 222, \"8\": 5, \"3\": 7, \"5\": 6}, \"13\": {\"7\": 24, \"10\": 17, \"13\": 77, \"4\": 31, \"2\": 38, \"12\": 32, \"6\": 4, \"1\": 3, \"9\": 6, \"15\": 6, \"5\": 1, \"3\": 1}, \"10\": {\"4\": 19, \"10\": 193, \"13\": 18, \"6\": 8, \"7\": 2}, \"11\": {\"11\": 239, \"14\": 1}, \"14\": {\"14\": 127, \"3\": 7, \"8\": 59, \"7\": 20, \"9\": 3, \"6\": 22, \"2\": 1, \"11\": 1}, \"1\": {\"5\": 81, \"1\": 67, \"3\": 21, \"7\": 5, \"15\": 29, \"12\": 15, \"9\": 17, \"8\": 4, \"0\": 1}}, \"14\": {\"13\": {\"13\": 58, \"5\": 3, \"6\": 70, \"14\": 42, \"4\": 17, \"3\": 23, \"0\": 7, \"8\": 8, \"2\": 7, \"15\": 4, \"7\": 1}, \"4\": {\"4\": 197, \"2\": 23, \"14\": 2, \"1\": 4, \"5\": 9, \"8\": 4, \"10\": 1}, \"6\": {\"13\": 50, \"6\": 109, \"3\": 46, \"14\": 18, \"5\": 7, \"2\": 10}, \"0\": {\"0\": 166, \"14\": 7, \"8\": 28, \"3\": 24, \"10\": 7, \"13\": 6, \"4\": 1, \"12\": 1}, \"10\": {\"10\": 229, \"9\": 9, \"0\": 2}, \"7\": {\"7\": 236, \"5\": 2, \"6\": 1, \"2\": 1}, \"14\": {\"2\": 32, \"14\": 124, \"0\": 11, \"3\": 21, \"5\": 13, \"13\": 18, \"8\": 8, \"6\": 10, \"4\": 3}, \"15\": {\"15\": 240}, \"5\": {\"5\": 134, \"4\": 13, \"2\": 51, \"14\": 22, \"6\": 5, \"13\": 5, \"7\": 9, \"8\": 1}, \"2\": {\"2\": 56, \"5\": 60, \"4\": 33, \"6\": 24, \"8\": 6, \"13\": 13, \"7\": 14, \"3\": 6, \"14\": 26, \"1\": 1, \"0\": 1}, \"9\": {\"9\": 224, \"10\": 14, \"12\": 2}, \"12\": {\"12\": 240}, \"8\": {\"8\": 186, \"0\": 23, \"3\": 8, \"14\": 9, \"5\": 9, \"2\": 2, \"10\": 1, \"13\": 2}, \"3\": {\"2\": 3, \"3\": 159, \"13\": 23, \"6\": 25, \"14\": 12, \"8\": 10, \"0\": 8}, \"1\": {\"1\": 229, \"4\": 8, \"2\": 1, \"10\": 2}, \"11\": {\"11\": 236, \"9\": 4}}}, \"per_domain_accuracy\": {\"32\": {\"accuracy\": 0.79140625, \"source?\": true}, \"50\": {\"accuracy\": 0.8614583333333333, \"source?\": true}, \"8\": {\"accuracy\": 0.6684895833333333, \"source?\": true}, \"44\": {\"accuracy\": 0.7486979166666666, \"source?\": false}, \"38\": {\"accuracy\": 0.8354166666666667, \"source?\": false}, \"26\": {\"accuracy\": 0.5565104166666667, \"source?\": false}, \"20\": {\"accuracy\": 0.4739583333333333, \"source?\": false}, \"14\": {\"accuracy\": 0.73515625, \"source?\": false}}}, \"history\": {\"epoch_indices\": [1, 2, 3, 4, 5, 6, 7, 8, 9, 10, 11, 12], \"train_label_loss\": [1.0441336750511139, 0.7000879643100595, 0.5219154414262563, 0.43595039678353165, 0.366163687681454, 0.2910343453975483, 0.2356234801548814, 0.18867497573059702, 0.15681524760060248, 0.1290797985478541, 0.11307272017131456, 0.09908446596703485], \"source_val_label_loss\": [2.5649540424346924, 0.6903854608535767, 0.6523948907852173, 0.6751582622528076, 0.6830337643623352, 0.6618173718452454, 0.7219184041023254, 0.7784108519554138, 0.7757384777069092, 0.8754874467849731, 0.9397394061088562, 0.9518939852714539], \"target_val_label_loss\": [2.6313724517822266, 0.9954755902290344, 0.9893789887428284, 0.9810659885406494, 0.9705578684806824, 0.9522969722747803, 0.9933428168296814, 1.0233582258224487, 1.0686719417572021, 1.1315735578536987, 1.187969446182251, 1.201348900794983], \"source_val_acc_label\": [0.6720486111111111, 0.7374131944444444, 0.7511284722222222, 0.7588541666666667, 0.76328125, 0.7763888888888889, 0.7740451388888889, 0.7737847222222223, 0.7743923611111111, 0.7671006944444444, 0.7621527777777778, 0.7678819444444445], \"target_val_acc_label\": [0.54546875, 0.6388020833333333, 0.6415625, 0.6461458333333333, 0.65578125, 0.6666145833333333, 0.6659375, 0.6699479166666666, 0.66640625, 0.6653125, 0.6616666666666666, 0.6647916666666667]}, \"dataset_metrics\": {\"source\": {\"train\": {\"n_unique_x\": 67200, \"n_unique_y\": 16, \"n_batch/episode\": 2520}, \"val\": {\"n_unique_x\": 14400, \"n_unique_y\": 16, \"n_batch/episode\": 360}, \"test\": {\"n_unique_x\": 14400, \"n_unique_y\": 16, \"n_batch/episode\": 360}}, \"target\": {\"train\": {\"n_unique_x\": 112000, \"n_unique_y\": 16, \"n_batch/episode\": 4200}, \"val\": {\"n_unique_x\": 24000, \"n_unique_y\": 16, \"n_batch/episode\": 600}, \"test\": {\"n_unique_x\": 24000, \"n_unique_y\": 16, \"n_batch/episode\": 600}}}}'"
      ]
     },
     "execution_count": 20,
     "metadata": {},
     "output_type": "execute_result"
    }
   ],
   "source": [
    "json.dumps(experiment)"
   ]
  }
 ],
 "metadata": {
  "celltoolbar": "Tags",
  "kernelspec": {
   "display_name": "Python 3 (ipykernel)",
   "language": "python",
   "name": "python3"
  },
  "language_info": {
   "codemirror_mode": {
    "name": "ipython",
    "version": 3
   },
   "file_extension": ".py",
   "mimetype": "text/x-python",
   "name": "python",
   "nbconvert_exporter": "python",
   "pygments_lexer": "ipython3",
   "version": "3.8.10"
  },
  "papermill": {
   "default_parameters": {},
   "duration": 923.42693,
   "end_time": "2022-04-01T19:47:25.348422",
   "environment_variables": {},
   "exception": null,
   "input_path": "/mnt/wd500GB/CSC500/csc500-main/csc500-notebooks/templates/ptn_template.ipynb",
   "output_path": "trial.ipynb",
   "parameters": {
    "parameters": {
     "BEST_MODEL_PATH": "./best_model.pth",
     "NUM_LOGS_PER_EPOCH": 10,
     "criteria_for_best": "target_accuracy",
     "dataset_seed": 154325,
     "device": "cuda",
     "domains_source": [
      8,
      32,
      50
     ],
     "domains_target": [
      14,
      20,
      26,
      38,
      44
     ],
     "episode_transforms_source": [],
     "episode_transforms_target": [],
     "experiment_name": "tuned_1v2:oracle.run1_limited",
     "labels_source": [
      "3123D52",
      "3123D65",
      "3123D79",
      "3123D80",
      "3123D54",
      "3123D70",
      "3123D7B",
      "3123D89",
      "3123D58",
      "3123D76",
      "3123D7D",
      "3123EFE",
      "3123D64",
      "3123D78",
      "3123D7E",
      "3124E4A"
     ],
     "labels_target": [
      "3123D52",
      "3123D65",
      "3123D79",
      "3123D80",
      "3123D54",
      "3123D70",
      "3123D7B",
      "3123D89",
      "3123D58",
      "3123D76",
      "3123D7D",
      "3123EFE",
      "3123D64",
      "3123D78",
      "3123D7E",
      "3124E4A"
     ],
     "lr": 0.0001,
     "n_epoch": 50,
     "n_query": 2,
     "n_shot": 3,
     "n_way": 16,
     "num_examples_per_domain_per_label_source": 2000,
     "num_examples_per_domain_per_label_target": 2000,
     "patience": 3,
     "pickle_name": "oracle.Run1_10kExamples_stratified_ds.2022A.pkl",
     "seed": 154325,
     "test_k_factor": 2,
     "torch_default_dtype": "torch.float32",
     "train_k_factor": 3,
     "val_k_factor": 2,
     "x_net": [
      {
       "class": "nnReshape",
       "kargs": {
        "shape": [
         -1,
         1,
         2,
         256
        ]
       }
      },
      {
       "class": "Conv2d",
       "kargs": {
        "bias": false,
        "in_channels": 1,
        "kernel_size": [
         1,
         7
        ],
        "out_channels": 256,
        "padding": [
         0,
         3
        ]
       }
      },
      {
       "class": "ReLU",
       "kargs": {
        "inplace": true
       }
      },
      {
       "class": "BatchNorm2d",
       "kargs": {
        "num_features": 256
       }
      },
      {
       "class": "Conv2d",
       "kargs": {
        "bias": true,
        "in_channels": 256,
        "kernel_size": [
         2,
         7
        ],
        "out_channels": 80,
        "padding": [
         0,
         3
        ]
       }
      },
      {
       "class": "ReLU",
       "kargs": {
        "inplace": true
       }
      },
      {
       "class": "BatchNorm2d",
       "kargs": {
        "num_features": 80
       }
      },
      {
       "class": "Flatten",
       "kargs": {}
      },
      {
       "class": "Linear",
       "kargs": {
        "in_features": 20480,
        "out_features": 256
       }
      },
      {
       "class": "ReLU",
       "kargs": {
        "inplace": true
       }
      },
      {
       "class": "BatchNorm1d",
       "kargs": {
        "num_features": 256
       }
      },
      {
       "class": "Linear",
       "kargs": {
        "in_features": 256,
        "out_features": 256
       }
      }
     ],
     "x_transforms_source": [],
     "x_transforms_target": []
    }
   },
   "start_time": "2022-04-01T19:32:01.921492",
   "version": "2.3.4"
  }
 },
 "nbformat": 4,
 "nbformat_minor": 5
}