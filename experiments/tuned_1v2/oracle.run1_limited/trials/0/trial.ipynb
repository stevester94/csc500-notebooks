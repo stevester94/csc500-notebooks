{
 "cells": [
  {
   "cell_type": "markdown",
   "id": "9fea5f46",
   "metadata": {
    "papermill": {
     "duration": 0.024723,
     "end_time": "2022-03-26T00:01:13.575792",
     "exception": false,
     "start_time": "2022-03-26T00:01:13.551069",
     "status": "completed"
    },
    "tags": []
   },
   "source": [
    "# PTN Template\n",
    "This notebook serves as a template for single dataset PTN experiments  \n",
    "It can be run on its own by setting STANDALONE to True (do a find for \"STANDALONE\" to see where)  \n",
    "But it is intended to be executed as part of a *papermill.py script. See any of the   \n",
    "experimentes with a papermill script to get started with that workflow.  "
   ]
  },
  {
   "cell_type": "code",
   "execution_count": 1,
   "id": "0902182a",
   "metadata": {
    "execution": {
     "iopub.execute_input": "2022-03-26T00:01:13.629659Z",
     "iopub.status.busy": "2022-03-26T00:01:13.628791Z",
     "iopub.status.idle": "2022-03-26T00:01:15.539289Z",
     "shell.execute_reply": "2022-03-26T00:01:15.538789Z"
    },
    "papermill": {
     "duration": 1.942668,
     "end_time": "2022-03-26T00:01:15.539406",
     "exception": false,
     "start_time": "2022-03-26T00:01:13.596738",
     "status": "completed"
    },
    "tags": []
   },
   "outputs": [],
   "source": [
    "%load_ext autoreload\n",
    "%autoreload 2\n",
    "%matplotlib inline\n",
    "\n",
    "    \n",
    "import os, json, sys, time, random\n",
    "import numpy as np\n",
    "import torch\n",
    "from torch.optim import Adam\n",
    "from  easydict import EasyDict\n",
    "import matplotlib.pyplot as plt\n",
    "\n",
    "from steves_models.steves_ptn import Steves_Prototypical_Network\n",
    "\n",
    "from steves_utils.lazy_iterable_wrapper import Lazy_Iterable_Wrapper\n",
    "from steves_utils.iterable_aggregator import Iterable_Aggregator\n",
    "from steves_utils.ptn_train_eval_test_jig import  PTN_Train_Eval_Test_Jig\n",
    "from steves_utils.torch_sequential_builder import build_sequential\n",
    "from steves_utils.torch_utils import get_dataset_metrics, ptn_confusion_by_domain_over_dataloader\n",
    "from steves_utils.utils_v2 import (per_domain_accuracy_from_confusion, get_datasets_base_path)\n",
    "from steves_utils.PTN.utils import independent_accuracy_assesment\n",
    "\n",
    "from steves_utils.stratified_dataset.episodic_accessor import Episodic_Accessor_Factory\n",
    "\n",
    "from steves_utils.ptn_do_report import (\n",
    "    get_loss_curve,\n",
    "    get_results_table,\n",
    "    get_parameters_table,\n",
    "    get_domain_accuracies,\n",
    ")\n",
    "\n",
    "from steves_utils.transforms import get_chained_transform"
   ]
  },
  {
   "cell_type": "markdown",
   "id": "41c840b4",
   "metadata": {
    "papermill": {
     "duration": 0.013567,
     "end_time": "2022-03-26T00:01:15.567797",
     "exception": false,
     "start_time": "2022-03-26T00:01:15.554230",
     "status": "completed"
    },
    "tags": []
   },
   "source": [
    "# Required Parameters\n",
    "These are allowed parameters, not defaults\n",
    "Each of these values need to be present in the injected parameters (the notebook will raise an exception if they are not present)\n",
    "\n",
    "Papermill uses the cell tag \"parameters\" to inject the real parameters below this cell.\n",
    "Enable tags to see what I mean"
   ]
  },
  {
   "cell_type": "code",
   "execution_count": 2,
   "id": "fd44eb83",
   "metadata": {
    "execution": {
     "iopub.execute_input": "2022-03-26T00:01:15.600936Z",
     "iopub.status.busy": "2022-03-26T00:01:15.600548Z",
     "iopub.status.idle": "2022-03-26T00:01:15.620607Z",
     "shell.execute_reply": "2022-03-26T00:01:15.620925Z"
    },
    "papermill": {
     "duration": 0.039777,
     "end_time": "2022-03-26T00:01:15.621116",
     "exception": false,
     "start_time": "2022-03-26T00:01:15.581339",
     "status": "completed"
    },
    "tags": []
   },
   "outputs": [],
   "source": [
    "required_parameters = {\n",
    "    \"experiment_name\",\n",
    "    \"lr\",\n",
    "    \"device\",\n",
    "    \"seed\",\n",
    "    \"dataset_seed\",\n",
    "    \"labels_source\",\n",
    "    \"labels_target\",\n",
    "    \"domains_source\",\n",
    "    \"domains_target\",\n",
    "    \"num_examples_per_domain_per_label_source\",\n",
    "    \"num_examples_per_domain_per_label_target\",\n",
    "    \"n_shot\",\n",
    "    \"n_way\",\n",
    "    \"n_query\",\n",
    "    \"train_k_factor\",\n",
    "    \"val_k_factor\",\n",
    "    \"test_k_factor\",\n",
    "    \"n_epoch\",\n",
    "    \"patience\",\n",
    "    \"criteria_for_best\",\n",
    "    \"x_transforms_source\",\n",
    "    \"x_transforms_target\",\n",
    "    \"episode_transforms_source\",\n",
    "    \"episode_transforms_target\",\n",
    "    \"pickle_name\",\n",
    "    \"x_net\",\n",
    "    \"NUM_LOGS_PER_EPOCH\",\n",
    "    \"BEST_MODEL_PATH\",\n",
    "    \"torch_default_dtype\"\n",
    "}"
   ]
  },
  {
   "cell_type": "code",
   "execution_count": 3,
   "id": "fa3f0049",
   "metadata": {
    "execution": {
     "iopub.execute_input": "2022-03-26T00:01:15.664074Z",
     "iopub.status.busy": "2022-03-26T00:01:15.663077Z",
     "iopub.status.idle": "2022-03-26T00:01:15.683653Z",
     "shell.execute_reply": "2022-03-26T00:01:15.683280Z"
    },
    "papermill": {
     "duration": 0.048847,
     "end_time": "2022-03-26T00:01:15.683723",
     "exception": false,
     "start_time": "2022-03-26T00:01:15.634876",
     "status": "completed"
    },
    "tags": [
     "parameters"
    ]
   },
   "outputs": [],
   "source": [
    "\n",
    "\n",
    "standalone_parameters = {}\n",
    "standalone_parameters[\"experiment_name\"] = \"STANDALONE PTN\"\n",
    "standalone_parameters[\"lr\"] = 0.0001\n",
    "standalone_parameters[\"device\"] = \"cuda\"\n",
    "\n",
    "standalone_parameters[\"seed\"] = 1337\n",
    "standalone_parameters[\"dataset_seed\"] = 1337\n",
    "\n",
    "\n",
    "standalone_parameters[\"num_examples_per_domain_per_label_source\"]=100\n",
    "standalone_parameters[\"num_examples_per_domain_per_label_target\"]=100\n",
    "\n",
    "standalone_parameters[\"n_shot\"] = 3\n",
    "standalone_parameters[\"n_query\"]  = 2\n",
    "standalone_parameters[\"train_k_factor\"] = 1\n",
    "standalone_parameters[\"val_k_factor\"] = 2\n",
    "standalone_parameters[\"test_k_factor\"] = 2\n",
    "\n",
    "\n",
    "standalone_parameters[\"n_epoch\"] = 100\n",
    "\n",
    "standalone_parameters[\"patience\"] = 10\n",
    "standalone_parameters[\"criteria_for_best\"] = \"target_accuracy\"\n",
    "\n",
    "standalone_parameters[\"x_transforms_source\"] = [\"unit_power\"]\n",
    "standalone_parameters[\"x_transforms_target\"] = [\"unit_power\"]\n",
    "standalone_parameters[\"episode_transforms_source\"] = []\n",
    "standalone_parameters[\"episode_transforms_target\"] = []\n",
    "\n",
    "standalone_parameters[\"torch_default_dtype\"] = \"torch.float32\" \n",
    "\n",
    "\n",
    "\n",
    "standalone_parameters[\"x_net\"] =     [\n",
    "    {\"class\": \"nnReshape\", \"kargs\": {\"shape\":[-1, 1, 2, 256]}},\n",
    "    {\"class\": \"Conv2d\", \"kargs\": { \"in_channels\":1, \"out_channels\":256, \"kernel_size\":(1,7), \"bias\":False, \"padding\":(0,3), },},\n",
    "    {\"class\": \"ReLU\", \"kargs\": {\"inplace\": True}},\n",
    "    {\"class\": \"BatchNorm2d\", \"kargs\": {\"num_features\":256}},\n",
    "\n",
    "    {\"class\": \"Conv2d\", \"kargs\": { \"in_channels\":256, \"out_channels\":80, \"kernel_size\":(2,7), \"bias\":True, \"padding\":(0,3), },},\n",
    "    {\"class\": \"ReLU\", \"kargs\": {\"inplace\": True}},\n",
    "    {\"class\": \"BatchNorm2d\", \"kargs\": {\"num_features\":80}},\n",
    "    {\"class\": \"Flatten\", \"kargs\": {}},\n",
    "\n",
    "    {\"class\": \"Linear\", \"kargs\": {\"in_features\": 80*256, \"out_features\": 256}}, # 80 units per IQ pair\n",
    "    {\"class\": \"ReLU\", \"kargs\": {\"inplace\": True}},\n",
    "    {\"class\": \"BatchNorm1d\", \"kargs\": {\"num_features\":256}},\n",
    "\n",
    "    {\"class\": \"Linear\", \"kargs\": {\"in_features\": 256, \"out_features\": 256}},\n",
    "]\n",
    "\n",
    "# Parameters relevant to results\n",
    "# These parameters will basically never need to change\n",
    "standalone_parameters[\"NUM_LOGS_PER_EPOCH\"] = 10\n",
    "standalone_parameters[\"BEST_MODEL_PATH\"] = \"./best_model.pth\"\n",
    "\n",
    "# uncomment for CORES dataset\n",
    "from steves_utils.CORES.utils import (\n",
    "    ALL_NODES,\n",
    "    ALL_NODES_MINIMUM_1000_EXAMPLES,\n",
    "    ALL_DAYS\n",
    ")\n",
    "\n",
    "\n",
    "standalone_parameters[\"labels_source\"] = ALL_NODES\n",
    "standalone_parameters[\"labels_target\"] = ALL_NODES\n",
    "\n",
    "standalone_parameters[\"domains_source\"] = [1]\n",
    "standalone_parameters[\"domains_target\"] = [2,3,4,5]\n",
    "\n",
    "standalone_parameters[\"pickle_name\"] = \"cores.stratified_ds.2022A.pkl\"\n",
    "\n",
    "\n",
    "# Uncomment these for ORACLE dataset\n",
    "# from steves_utils.ORACLE.utils_v2 import (\n",
    "#     ALL_DISTANCES_FEET,\n",
    "#     ALL_RUNS,\n",
    "#     ALL_SERIAL_NUMBERS,\n",
    "# )\n",
    "# standalone_parameters[\"labels_source\"] = ALL_SERIAL_NUMBERS\n",
    "# standalone_parameters[\"labels_target\"] = ALL_SERIAL_NUMBERS\n",
    "# standalone_parameters[\"domains_source\"] = [8,20, 38,50]\n",
    "# standalone_parameters[\"domains_target\"] = [14, 26, 32, 44, 56]\n",
    "# standalone_parameters[\"pickle_name\"] = \"oracle.frame_indexed.stratified_ds.2022A.pkl\"\n",
    "# standalone_parameters[\"num_examples_per_domain_per_label_source\"]=1000\n",
    "# standalone_parameters[\"num_examples_per_domain_per_label_target\"]=1000\n",
    "\n",
    "# Uncomment these for Metahan dataset\n",
    "# standalone_parameters[\"labels_source\"] = list(range(19))\n",
    "# standalone_parameters[\"labels_target\"] = list(range(19))\n",
    "# standalone_parameters[\"domains_source\"] = [0]\n",
    "# standalone_parameters[\"domains_target\"] = [1]\n",
    "# standalone_parameters[\"pickle_name\"] = \"metehan.stratified_ds.2022A.pkl\"\n",
    "# standalone_parameters[\"n_way\"]  = len(standalone_parameters[\"labels_source\"])\n",
    "# standalone_parameters[\"num_examples_per_domain_per_label_source\"]=200\n",
    "# standalone_parameters[\"num_examples_per_domain_per_label_target\"]=100\n",
    "\n",
    "\n",
    "standalone_parameters[\"n_way\"]  = len(standalone_parameters[\"labels_source\"])"
   ]
  },
  {
   "cell_type": "code",
   "execution_count": 4,
   "id": "ea5ed2fb",
   "metadata": {
    "execution": {
     "iopub.execute_input": "2022-03-26T00:01:15.724354Z",
     "iopub.status.busy": "2022-03-26T00:01:15.722357Z",
     "iopub.status.idle": "2022-03-26T00:01:15.741561Z",
     "shell.execute_reply": "2022-03-26T00:01:15.741196Z"
    },
    "papermill": {
     "duration": 0.043982,
     "end_time": "2022-03-26T00:01:15.741629",
     "exception": false,
     "start_time": "2022-03-26T00:01:15.697647",
     "status": "completed"
    },
    "tags": [
     "injected-parameters"
    ]
   },
   "outputs": [],
   "source": [
    "# Parameters\n",
    "parameters = {\n",
    "    \"experiment_name\": \"tuned_1v2:oracle.run1_limited\",\n",
    "    \"device\": \"cuda\",\n",
    "    \"lr\": 0.0001,\n",
    "    \"labels_source\": [\n",
    "        \"3123D52\",\n",
    "        \"3123D65\",\n",
    "        \"3123D79\",\n",
    "        \"3123D80\",\n",
    "        \"3123D54\",\n",
    "        \"3123D70\",\n",
    "        \"3123D7B\",\n",
    "        \"3123D89\",\n",
    "        \"3123D58\",\n",
    "        \"3123D76\",\n",
    "        \"3123D7D\",\n",
    "        \"3123EFE\",\n",
    "        \"3123D64\",\n",
    "        \"3123D78\",\n",
    "        \"3123D7E\",\n",
    "        \"3124E4A\",\n",
    "    ],\n",
    "    \"labels_target\": [\n",
    "        \"3123D52\",\n",
    "        \"3123D65\",\n",
    "        \"3123D79\",\n",
    "        \"3123D80\",\n",
    "        \"3123D54\",\n",
    "        \"3123D70\",\n",
    "        \"3123D7B\",\n",
    "        \"3123D89\",\n",
    "        \"3123D58\",\n",
    "        \"3123D76\",\n",
    "        \"3123D7D\",\n",
    "        \"3123EFE\",\n",
    "        \"3123D64\",\n",
    "        \"3123D78\",\n",
    "        \"3123D7E\",\n",
    "        \"3124E4A\",\n",
    "    ],\n",
    "    \"episode_transforms_source\": [],\n",
    "    \"episode_transforms_target\": [],\n",
    "    \"domains_source\": [8, 32, 50],\n",
    "    \"domains_target\": [14, 20, 26, 38, 44],\n",
    "    \"num_examples_per_domain_per_label_source\": -1,\n",
    "    \"num_examples_per_domain_per_label_target\": -1,\n",
    "    \"n_shot\": 3,\n",
    "    \"n_way\": 16,\n",
    "    \"n_query\": 2,\n",
    "    \"train_k_factor\": 3,\n",
    "    \"val_k_factor\": 2,\n",
    "    \"test_k_factor\": 2,\n",
    "    \"torch_default_dtype\": \"torch.float32\",\n",
    "    \"n_epoch\": 50,\n",
    "    \"patience\": 3,\n",
    "    \"criteria_for_best\": \"target_accuracy\",\n",
    "    \"x_net\": [\n",
    "        {\"class\": \"nnReshape\", \"kargs\": {\"shape\": [-1, 1, 2, 256]}},\n",
    "        {\n",
    "            \"class\": \"Conv2d\",\n",
    "            \"kargs\": {\n",
    "                \"in_channels\": 1,\n",
    "                \"out_channels\": 256,\n",
    "                \"kernel_size\": [1, 7],\n",
    "                \"bias\": False,\n",
    "                \"padding\": [0, 3],\n",
    "            },\n",
    "        },\n",
    "        {\"class\": \"ReLU\", \"kargs\": {\"inplace\": True}},\n",
    "        {\"class\": \"BatchNorm2d\", \"kargs\": {\"num_features\": 256}},\n",
    "        {\n",
    "            \"class\": \"Conv2d\",\n",
    "            \"kargs\": {\n",
    "                \"in_channels\": 256,\n",
    "                \"out_channels\": 80,\n",
    "                \"kernel_size\": [2, 7],\n",
    "                \"bias\": True,\n",
    "                \"padding\": [0, 3],\n",
    "            },\n",
    "        },\n",
    "        {\"class\": \"ReLU\", \"kargs\": {\"inplace\": True}},\n",
    "        {\"class\": \"BatchNorm2d\", \"kargs\": {\"num_features\": 80}},\n",
    "        {\"class\": \"Flatten\", \"kargs\": {}},\n",
    "        {\"class\": \"Linear\", \"kargs\": {\"in_features\": 20480, \"out_features\": 256}},\n",
    "        {\"class\": \"ReLU\", \"kargs\": {\"inplace\": True}},\n",
    "        {\"class\": \"BatchNorm1d\", \"kargs\": {\"num_features\": 256}},\n",
    "        {\"class\": \"Linear\", \"kargs\": {\"in_features\": 256, \"out_features\": 256}},\n",
    "    ],\n",
    "    \"NUM_LOGS_PER_EPOCH\": 10,\n",
    "    \"BEST_MODEL_PATH\": \"./best_model.pth\",\n",
    "    \"pickle_name\": \"oracle.Run1_10kExamples_stratified_ds.2022A.pkl\",\n",
    "    \"x_transforms_source\": [],\n",
    "    \"x_transforms_target\": [],\n",
    "    \"dataset_seed\": 154325,\n",
    "    \"seed\": 154325,\n",
    "}\n"
   ]
  },
  {
   "cell_type": "code",
   "execution_count": 5,
   "id": "8fa1cc33",
   "metadata": {
    "execution": {
     "iopub.execute_input": "2022-03-26T00:01:15.776483Z",
     "iopub.status.busy": "2022-03-26T00:01:15.776109Z",
     "iopub.status.idle": "2022-03-26T00:01:15.794363Z",
     "shell.execute_reply": "2022-03-26T00:01:15.794044Z"
    },
    "papermill": {
     "duration": 0.038718,
     "end_time": "2022-03-26T00:01:15.794432",
     "exception": false,
     "start_time": "2022-03-26T00:01:15.755714",
     "status": "completed"
    },
    "tags": []
   },
   "outputs": [],
   "source": [
    "# Set this to True if you want to run this template directly\n",
    "STANDALONE = False\n",
    "if STANDALONE:\n",
    "    print(\"parameters not injected, running with standalone_parameters\")\n",
    "    parameters = standalone_parameters\n",
    "\n",
    "if not 'parameters' in locals() and not 'parameters' in globals():\n",
    "    raise Exception(\"Parameter injection failed\")\n",
    "\n",
    "#Use an easy dict for all the parameters\n",
    "p = EasyDict(parameters)\n",
    "\n",
    "supplied_keys = set(p.keys())\n",
    "\n",
    "if  supplied_keys != required_parameters:\n",
    "    print(\"Parameters are incorrect\")\n",
    "    if len(supplied_keys - required_parameters)>0: print(\"Shouldn't have:\", str(supplied_keys - required_parameters))\n",
    "    if len(required_parameters - supplied_keys)>0: print(\"Need to have:\", str(required_parameters - supplied_keys))\n",
    "    raise RuntimeError(\"Parameters are incorrect\")\n",
    "\n"
   ]
  },
  {
   "cell_type": "code",
   "execution_count": 6,
   "id": "3a028d58",
   "metadata": {
    "execution": {
     "iopub.execute_input": "2022-03-26T00:01:15.827954Z",
     "iopub.status.busy": "2022-03-26T00:01:15.826926Z",
     "iopub.status.idle": "2022-03-26T00:01:15.846845Z",
     "shell.execute_reply": "2022-03-26T00:01:15.846479Z"
    },
    "papermill": {
     "duration": 0.038109,
     "end_time": "2022-03-26T00:01:15.846914",
     "exception": false,
     "start_time": "2022-03-26T00:01:15.808805",
     "status": "completed"
    },
    "tags": []
   },
   "outputs": [],
   "source": [
    "###################################\n",
    "# Set the RNGs and make it all deterministic\n",
    "###################################\n",
    "np.random.seed(p.seed)\n",
    "random.seed(p.seed)\n",
    "torch.manual_seed(p.seed)\n",
    "\n",
    "torch.use_deterministic_algorithms(True) "
   ]
  },
  {
   "cell_type": "code",
   "execution_count": 7,
   "id": "b691acf6",
   "metadata": {
    "execution": {
     "iopub.execute_input": "2022-03-26T00:01:15.885575Z",
     "iopub.status.busy": "2022-03-26T00:01:15.884885Z",
     "iopub.status.idle": "2022-03-26T00:01:15.907942Z",
     "shell.execute_reply": "2022-03-26T00:01:15.907121Z"
    },
    "papermill": {
     "duration": 0.040947,
     "end_time": "2022-03-26T00:01:15.908096",
     "exception": false,
     "start_time": "2022-03-26T00:01:15.867149",
     "status": "completed"
    },
    "tags": []
   },
   "outputs": [],
   "source": [
    "###########################################\n",
    "# The stratified datasets honor this\n",
    "###########################################\n",
    "torch.set_default_dtype(eval(p.torch_default_dtype))"
   ]
  },
  {
   "cell_type": "code",
   "execution_count": 8,
   "id": "b5fba671",
   "metadata": {
    "execution": {
     "iopub.execute_input": "2022-03-26T00:01:15.946367Z",
     "iopub.status.busy": "2022-03-26T00:01:15.943527Z",
     "iopub.status.idle": "2022-03-26T00:01:15.997185Z",
     "shell.execute_reply": "2022-03-26T00:01:15.996478Z"
    },
    "papermill": {
     "duration": 0.070579,
     "end_time": "2022-03-26T00:01:15.997338",
     "exception": false,
     "start_time": "2022-03-26T00:01:15.926759",
     "status": "completed"
    },
    "tags": []
   },
   "outputs": [],
   "source": [
    "###################################\n",
    "# Build the network(s)\n",
    "# Note: It's critical to do this AFTER setting the RNG\n",
    "# (This is due to the randomized initial weights)\n",
    "###################################\n",
    "x_net = build_sequential(p.x_net)"
   ]
  },
  {
   "cell_type": "code",
   "execution_count": 9,
   "id": "5d7e61cc",
   "metadata": {
    "execution": {
     "iopub.execute_input": "2022-03-26T00:01:16.035583Z",
     "iopub.status.busy": "2022-03-26T00:01:16.035210Z",
     "iopub.status.idle": "2022-03-26T00:01:16.060035Z",
     "shell.execute_reply": "2022-03-26T00:01:16.059216Z"
    },
    "papermill": {
     "duration": 0.042997,
     "end_time": "2022-03-26T00:01:16.060187",
     "exception": false,
     "start_time": "2022-03-26T00:01:16.017190",
     "status": "completed"
    },
    "tags": []
   },
   "outputs": [],
   "source": [
    "start_time_secs = time.time()"
   ]
  },
  {
   "cell_type": "code",
   "execution_count": 10,
   "id": "fd5442bc",
   "metadata": {
    "execution": {
     "iopub.execute_input": "2022-03-26T00:01:16.111333Z",
     "iopub.status.busy": "2022-03-26T00:01:16.110525Z",
     "iopub.status.idle": "2022-03-26T00:01:27.617219Z",
     "shell.execute_reply": "2022-03-26T00:01:27.616472Z"
    },
    "papermill": {
     "duration": 11.534361,
     "end_time": "2022-03-26T00:01:27.617407",
     "exception": false,
     "start_time": "2022-03-26T00:01:16.083046",
     "status": "completed"
    },
    "tags": []
   },
   "outputs": [],
   "source": [
    "###################################\n",
    "# Build the dataset\n",
    "###################################\n",
    "\n",
    "if p.x_transforms_source == []: x_transform_source = None\n",
    "else: x_transform_source = get_chained_transform(p.x_transforms_source) \n",
    "\n",
    "if p.x_transforms_target == []: x_transform_target = None\n",
    "else: x_transform_target = get_chained_transform(p.x_transforms_target)\n",
    "\n",
    "if p.episode_transforms_source == []: episode_transform_source = None\n",
    "else: raise Exception(\"episode_transform_source not implemented\")\n",
    "\n",
    "if p.episode_transforms_target == []: episode_transform_target = None\n",
    "else: raise Exception(\"episode_transform_target not implemented\")\n",
    "\n",
    "\n",
    "eaf_source = Episodic_Accessor_Factory(\n",
    "    labels=p.labels_source,\n",
    "    domains=p.domains_source,\n",
    "    num_examples_per_domain_per_label=p.num_examples_per_domain_per_label_source,\n",
    "    iterator_seed=p.seed,\n",
    "    dataset_seed=p.dataset_seed,\n",
    "    n_shot=p.n_shot,\n",
    "    n_way=p.n_way,\n",
    "    n_query=p.n_query,\n",
    "    train_val_test_k_factors=(p.train_k_factor,p.val_k_factor,p.test_k_factor),\n",
    "    pickle_path=os.path.join(get_datasets_base_path(), p.pickle_name),\n",
    "    x_transform_func=x_transform_source,\n",
    "    example_transform_func=episode_transform_source,\n",
    "    \n",
    ")\n",
    "train_original_source, val_original_source, test_original_source = eaf_source.get_train(), eaf_source.get_val(), eaf_source.get_test()\n",
    "\n",
    "\n",
    "eaf_target = Episodic_Accessor_Factory(\n",
    "    labels=p.labels_target,\n",
    "    domains=p.domains_target,\n",
    "    num_examples_per_domain_per_label=p.num_examples_per_domain_per_label_target,\n",
    "    iterator_seed=p.seed,\n",
    "    dataset_seed=p.dataset_seed,\n",
    "    n_shot=p.n_shot,\n",
    "    n_way=p.n_way,\n",
    "    n_query=p.n_query,\n",
    "    train_val_test_k_factors=(p.train_k_factor,p.val_k_factor,p.test_k_factor),\n",
    "    pickle_path=os.path.join(get_datasets_base_path(), p.pickle_name),\n",
    "    x_transform_func=x_transform_target,\n",
    "    example_transform_func=episode_transform_target,\n",
    ")\n",
    "train_original_target, val_original_target, test_original_target = eaf_target.get_train(), eaf_target.get_val(), eaf_target.get_test()\n",
    "\n",
    "\n",
    "transform_lambda = lambda ex: ex[1] # Original is (<domain>, <episode>) so we strip down to episode only\n",
    "\n",
    "train_processed_source = Lazy_Iterable_Wrapper(train_original_source, transform_lambda)\n",
    "val_processed_source   = Lazy_Iterable_Wrapper(val_original_source, transform_lambda)\n",
    "test_processed_source  = Lazy_Iterable_Wrapper(test_original_source, transform_lambda)\n",
    "\n",
    "train_processed_target = Lazy_Iterable_Wrapper(train_original_target, transform_lambda)\n",
    "val_processed_target   = Lazy_Iterable_Wrapper(val_original_target, transform_lambda)\n",
    "test_processed_target  = Lazy_Iterable_Wrapper(test_original_target, transform_lambda)\n",
    "\n",
    "datasets = EasyDict({\n",
    "    \"source\": {\n",
    "        \"original\": {\"train\":train_original_source, \"val\":val_original_source, \"test\":test_original_source},\n",
    "        \"processed\": {\"train\":train_processed_source, \"val\":val_processed_source, \"test\":test_processed_source}\n",
    "    },\n",
    "    \"target\": {\n",
    "        \"original\": {\"train\":train_original_target, \"val\":val_original_target, \"test\":test_original_target},\n",
    "        \"processed\": {\"train\":train_processed_target, \"val\":val_processed_target, \"test\":test_processed_target}\n",
    "    },\n",
    "})"
   ]
  },
  {
   "cell_type": "code",
   "execution_count": 11,
   "id": "296189d9",
   "metadata": {
    "execution": {
     "iopub.execute_input": "2022-03-26T00:01:27.660145Z",
     "iopub.status.busy": "2022-03-26T00:01:27.659527Z",
     "iopub.status.idle": "2022-03-26T00:01:35.084502Z",
     "shell.execute_reply": "2022-03-26T00:01:35.083595Z"
    },
    "papermill": {
     "duration": 7.448121,
     "end_time": "2022-03-26T00:01:35.084687",
     "exception": false,
     "start_time": "2022-03-26T00:01:27.636566",
     "status": "completed"
    },
    "tags": []
   },
   "outputs": [
    {
     "name": "stdout",
     "output_type": "stream",
     "text": [
      "Visually inspect these to see if they line up with expected values given the transforms\n",
      "x_transforms_source []\n",
      "x_transforms_target []\n",
      "Average magnitude, source: 0.002271987\n",
      "Average power, source: 6.7968576e-06\n"
     ]
    },
    {
     "name": "stdout",
     "output_type": "stream",
     "text": [
      "Average magnitude, target: 0.0014430321\n",
      "Average power, target: 2.7893177e-06\n"
     ]
    }
   ],
   "source": [
    "# Some quick unit tests on the data\n",
    "from steves_utils.transforms import get_average_power, get_average_magnitude\n",
    "\n",
    "q_x, q_y, s_x, s_y, truth = next(iter(train_processed_source))\n",
    "\n",
    "assert q_x.dtype == eval(p.torch_default_dtype)\n",
    "assert s_x.dtype == eval(p.torch_default_dtype)\n",
    "\n",
    "print(\"Visually inspect these to see if they line up with expected values given the transforms\")\n",
    "print('x_transforms_source', p.x_transforms_source)\n",
    "print('x_transforms_target', p.x_transforms_target)\n",
    "print(\"Average magnitude, source:\", get_average_magnitude(q_x[0].numpy()))\n",
    "print(\"Average power, source:\", get_average_power(q_x[0].numpy()))\n",
    "\n",
    "q_x, q_y, s_x, s_y, truth = next(iter(train_processed_target))\n",
    "print(\"Average magnitude, target:\", get_average_magnitude(q_x[0].numpy()))\n",
    "print(\"Average power, target:\", get_average_power(q_x[0].numpy()))\n"
   ]
  },
  {
   "cell_type": "code",
   "execution_count": 12,
   "id": "bbdacba1",
   "metadata": {
    "execution": {
     "iopub.execute_input": "2022-03-26T00:01:35.128182Z",
     "iopub.status.busy": "2022-03-26T00:01:35.127800Z",
     "iopub.status.idle": "2022-03-26T00:01:35.361774Z",
     "shell.execute_reply": "2022-03-26T00:01:35.360984Z"
    },
    "papermill": {
     "duration": 0.254583,
     "end_time": "2022-03-26T00:01:35.361966",
     "exception": false,
     "start_time": "2022-03-26T00:01:35.107383",
     "status": "completed"
    },
    "tags": []
   },
   "outputs": [
    {
     "name": "stdout",
     "output_type": "stream",
     "text": [
      "(2, 256)\n"
     ]
    }
   ],
   "source": [
    "###################################\n",
    "# Build the model\n",
    "###################################\n",
    "model = Steves_Prototypical_Network(x_net, device=p.device, x_shape=(2,256))\n",
    "optimizer = Adam(params=model.parameters(), lr=p.lr)"
   ]
  },
  {
   "cell_type": "code",
   "execution_count": 13,
   "id": "22b39ac5",
   "metadata": {
    "execution": {
     "iopub.execute_input": "2022-03-26T00:01:35.406062Z",
     "iopub.status.busy": "2022-03-26T00:01:35.405396Z",
     "iopub.status.idle": "2022-03-26T01:30:29.668854Z",
     "shell.execute_reply": "2022-03-26T01:30:29.668492Z"
    },
    "papermill": {
     "duration": 5334.284674,
     "end_time": "2022-03-26T01:30:29.668948",
     "exception": false,
     "start_time": "2022-03-26T00:01:35.384274",
     "status": "completed"
    },
    "tags": []
   },
   "outputs": [
    {
     "name": "stdout",
     "output_type": "stream",
     "text": [
      "epoch: 1, [batch: 1 / 12600], examples_per_second: 18.4033, train_label_loss: 2.7378, \n"
     ]
    },
    {
     "name": "stdout",
     "output_type": "stream",
     "text": [
      "epoch: 1, [batch: 1260 / 12600], examples_per_second: 2052.3442, train_label_loss: 1.0428, \n"
     ]
    },
    {
     "name": "stdout",
     "output_type": "stream",
     "text": [
      "epoch: 1, [batch: 2520 / 12600], examples_per_second: 2193.1590, train_label_loss: 0.6828, \n"
     ]
    },
    {
     "name": "stdout",
     "output_type": "stream",
     "text": [
      "epoch: 1, [batch: 3780 / 12600], examples_per_second: 2298.8910, train_label_loss: 0.5099, \n"
     ]
    },
    {
     "name": "stdout",
     "output_type": "stream",
     "text": [
      "epoch: 1, [batch: 5040 / 12600], examples_per_second: 1906.1249, train_label_loss: 0.4168, \n"
     ]
    },
    {
     "name": "stdout",
     "output_type": "stream",
     "text": [
      "epoch: 1, [batch: 6300 / 12600], examples_per_second: 1770.0474, train_label_loss: 0.7630, \n"
     ]
    },
    {
     "name": "stdout",
     "output_type": "stream",
     "text": [
      "epoch: 1, [batch: 7560 / 12600], examples_per_second: 1852.6259, train_label_loss: 0.7951, \n"
     ]
    },
    {
     "name": "stdout",
     "output_type": "stream",
     "text": [
      "epoch: 1, [batch: 8820 / 12600], examples_per_second: 1992.8663, train_label_loss: 0.1960, \n"
     ]
    },
    {
     "name": "stdout",
     "output_type": "stream",
     "text": [
      "epoch: 1, [batch: 10080 / 12600], examples_per_second: 3653.4400, train_label_loss: 0.4862, \n"
     ]
    },
    {
     "name": "stdout",
     "output_type": "stream",
     "text": [
      "epoch: 1, [batch: 11340 / 12600], examples_per_second: 3923.3573, train_label_loss: 0.3160, \n"
     ]
    },
    {
     "name": "stdout",
     "output_type": "stream",
     "text": [
      "=============================================================\n",
      "epoch: 1, source_val_acc_label: 0.7218, target_val_acc_label: 0.6654, source_val_label_loss: 0.9435, target_val_label_loss: 1.1439, \n",
      "=============================================================\n"
     ]
    },
    {
     "name": "stdout",
     "output_type": "stream",
     "text": [
      "New best\n"
     ]
    },
    {
     "name": "stdout",
     "output_type": "stream",
     "text": [
      "epoch: 2, [batch: 1 / 12600], examples_per_second: 0.7625, train_label_loss: 0.5671, \n"
     ]
    },
    {
     "name": "stdout",
     "output_type": "stream",
     "text": [
      "epoch: 2, [batch: 1260 / 12600], examples_per_second: 1953.3093, train_label_loss: 0.3073, \n"
     ]
    },
    {
     "name": "stdout",
     "output_type": "stream",
     "text": [
      "epoch: 2, [batch: 2520 / 12600], examples_per_second: 1964.7356, train_label_loss: 0.6282, \n"
     ]
    },
    {
     "name": "stdout",
     "output_type": "stream",
     "text": [
      "epoch: 2, [batch: 3780 / 12600], examples_per_second: 1946.1366, train_label_loss: 0.4590, \n"
     ]
    },
    {
     "name": "stdout",
     "output_type": "stream",
     "text": [
      "epoch: 2, [batch: 5040 / 12600], examples_per_second: 1969.0806, train_label_loss: 0.2456, \n"
     ]
    },
    {
     "name": "stdout",
     "output_type": "stream",
     "text": [
      "epoch: 2, [batch: 6300 / 12600], examples_per_second: 1764.8549, train_label_loss: 0.2870, \n"
     ]
    },
    {
     "name": "stdout",
     "output_type": "stream",
     "text": [
      "epoch: 2, [batch: 7560 / 12600], examples_per_second: 1961.3559, train_label_loss: 0.1728, \n"
     ]
    },
    {
     "name": "stdout",
     "output_type": "stream",
     "text": [
      "epoch: 2, [batch: 8820 / 12600], examples_per_second: 3192.5271, train_label_loss: 0.4873, \n"
     ]
    },
    {
     "name": "stdout",
     "output_type": "stream",
     "text": [
      "epoch: 2, [batch: 10080 / 12600], examples_per_second: 4013.0637, train_label_loss: 0.3008, \n"
     ]
    },
    {
     "name": "stdout",
     "output_type": "stream",
     "text": [
      "epoch: 2, [batch: 11340 / 12600], examples_per_second: 4018.9498, train_label_loss: 0.4010, \n"
     ]
    },
    {
     "name": "stdout",
     "output_type": "stream",
     "text": [
      "=============================================================\n",
      "epoch: 2, source_val_acc_label: 0.8510, target_val_acc_label: 0.7516, source_val_label_loss: 0.4180, target_val_label_loss: 0.7264, \n",
      "=============================================================\n"
     ]
    },
    {
     "name": "stdout",
     "output_type": "stream",
     "text": [
      "New best\n"
     ]
    },
    {
     "name": "stdout",
     "output_type": "stream",
     "text": [
      "epoch: 3, [batch: 1 / 12600], examples_per_second: 0.6752, train_label_loss: 0.2456, \n"
     ]
    },
    {
     "name": "stdout",
     "output_type": "stream",
     "text": [
      "epoch: 3, [batch: 1260 / 12600], examples_per_second: 2808.9145, train_label_loss: 0.4277, \n"
     ]
    },
    {
     "name": "stdout",
     "output_type": "stream",
     "text": [
      "epoch: 3, [batch: 2520 / 12600], examples_per_second: 4335.0748, train_label_loss: 0.3064, \n"
     ]
    },
    {
     "name": "stdout",
     "output_type": "stream",
     "text": [
      "epoch: 3, [batch: 3780 / 12600], examples_per_second: 4666.6480, train_label_loss: 0.2171, \n"
     ]
    },
    {
     "name": "stdout",
     "output_type": "stream",
     "text": [
      "epoch: 3, [batch: 5040 / 12600], examples_per_second: 3355.3366, train_label_loss: 0.4239, \n"
     ]
    },
    {
     "name": "stdout",
     "output_type": "stream",
     "text": [
      "epoch: 3, [batch: 6300 / 12600], examples_per_second: 1840.5741, train_label_loss: 0.2727, \n"
     ]
    },
    {
     "name": "stdout",
     "output_type": "stream",
     "text": [
      "epoch: 3, [batch: 7560 / 12600], examples_per_second: 1869.1047, train_label_loss: 0.2292, \n"
     ]
    },
    {
     "name": "stdout",
     "output_type": "stream",
     "text": [
      "epoch: 3, [batch: 8820 / 12600], examples_per_second: 1774.8158, train_label_loss: 0.5054, \n"
     ]
    },
    {
     "name": "stdout",
     "output_type": "stream",
     "text": [
      "epoch: 3, [batch: 10080 / 12600], examples_per_second: 1833.3125, train_label_loss: 0.3056, \n"
     ]
    },
    {
     "name": "stdout",
     "output_type": "stream",
     "text": [
      "epoch: 3, [batch: 11340 / 12600], examples_per_second: 1794.6049, train_label_loss: 0.2637, \n"
     ]
    },
    {
     "name": "stdout",
     "output_type": "stream",
     "text": [
      "=============================================================\n",
      "epoch: 3, source_val_acc_label: 0.8701, target_val_acc_label: 0.7617, source_val_label_loss: 0.3679, target_val_label_loss: 0.7533, \n",
      "=============================================================\n"
     ]
    },
    {
     "name": "stdout",
     "output_type": "stream",
     "text": [
      "New best\n"
     ]
    },
    {
     "name": "stdout",
     "output_type": "stream",
     "text": [
      "epoch: 4, [batch: 1 / 12600], examples_per_second: 1.2258, train_label_loss: 0.3310, \n"
     ]
    },
    {
     "name": "stdout",
     "output_type": "stream",
     "text": [
      "epoch: 4, [batch: 1260 / 12600], examples_per_second: 3376.4049, train_label_loss: 0.2841, \n"
     ]
    },
    {
     "name": "stdout",
     "output_type": "stream",
     "text": [
      "epoch: 4, [batch: 2520 / 12600], examples_per_second: 1975.5199, train_label_loss: 0.1818, \n"
     ]
    },
    {
     "name": "stdout",
     "output_type": "stream",
     "text": [
      "epoch: 4, [batch: 3780 / 12600], examples_per_second: 2027.8784, train_label_loss: 0.3539, \n"
     ]
    },
    {
     "name": "stdout",
     "output_type": "stream",
     "text": [
      "epoch: 4, [batch: 5040 / 12600], examples_per_second: 1862.6133, train_label_loss: 0.1946, \n"
     ]
    },
    {
     "name": "stdout",
     "output_type": "stream",
     "text": [
      "epoch: 4, [batch: 6300 / 12600], examples_per_second: 1872.3125, train_label_loss: 0.1094, \n"
     ]
    },
    {
     "name": "stdout",
     "output_type": "stream",
     "text": [
      "epoch: 4, [batch: 7560 / 12600], examples_per_second: 1762.3391, train_label_loss: 0.4154, \n"
     ]
    },
    {
     "name": "stdout",
     "output_type": "stream",
     "text": [
      "epoch: 4, [batch: 8820 / 12600], examples_per_second: 1862.3611, train_label_loss: 0.2257, \n"
     ]
    },
    {
     "name": "stdout",
     "output_type": "stream",
     "text": [
      "epoch: 4, [batch: 10080 / 12600], examples_per_second: 1752.9432, train_label_loss: 0.2700, \n"
     ]
    },
    {
     "name": "stdout",
     "output_type": "stream",
     "text": [
      "epoch: 4, [batch: 11340 / 12600], examples_per_second: 1841.9091, train_label_loss: 0.2149, \n"
     ]
    },
    {
     "name": "stdout",
     "output_type": "stream",
     "text": [
      "=============================================================\n",
      "epoch: 4, source_val_acc_label: 0.8763, target_val_acc_label: 0.7660, source_val_label_loss: 0.3487, target_val_label_loss: 0.7249, \n",
      "=============================================================\n"
     ]
    },
    {
     "name": "stdout",
     "output_type": "stream",
     "text": [
      "New best\n"
     ]
    },
    {
     "name": "stdout",
     "output_type": "stream",
     "text": [
      "epoch: 5, [batch: 1 / 12600], examples_per_second: 1.1115, train_label_loss: 0.3604, \n"
     ]
    },
    {
     "name": "stdout",
     "output_type": "stream",
     "text": [
      "epoch: 5, [batch: 1260 / 12600], examples_per_second: 3564.7415, train_label_loss: 0.3353, \n"
     ]
    },
    {
     "name": "stdout",
     "output_type": "stream",
     "text": [
      "epoch: 5, [batch: 2520 / 12600], examples_per_second: 1961.0684, train_label_loss: 0.0760, \n"
     ]
    },
    {
     "name": "stdout",
     "output_type": "stream",
     "text": [
      "epoch: 5, [batch: 3780 / 12600], examples_per_second: 2050.4549, train_label_loss: 0.1585, \n"
     ]
    },
    {
     "name": "stdout",
     "output_type": "stream",
     "text": [
      "epoch: 5, [batch: 5040 / 12600], examples_per_second: 1901.6507, train_label_loss: 0.3651, \n"
     ]
    },
    {
     "name": "stdout",
     "output_type": "stream",
     "text": [
      "epoch: 5, [batch: 6300 / 12600], examples_per_second: 1847.3713, train_label_loss: 0.2906, \n"
     ]
    },
    {
     "name": "stdout",
     "output_type": "stream",
     "text": [
      "epoch: 5, [batch: 7560 / 12600], examples_per_second: 2001.8857, train_label_loss: 0.3140, \n"
     ]
    },
    {
     "name": "stdout",
     "output_type": "stream",
     "text": [
      "epoch: 5, [batch: 8820 / 12600], examples_per_second: 3438.2443, train_label_loss: 0.2555, \n"
     ]
    },
    {
     "name": "stdout",
     "output_type": "stream",
     "text": [
      "epoch: 5, [batch: 10080 / 12600], examples_per_second: 3934.0981, train_label_loss: 0.0886, \n"
     ]
    },
    {
     "name": "stdout",
     "output_type": "stream",
     "text": [
      "epoch: 5, [batch: 11340 / 12600], examples_per_second: 3934.7306, train_label_loss: 0.1920, \n"
     ]
    },
    {
     "name": "stdout",
     "output_type": "stream",
     "text": [
      "=============================================================\n",
      "epoch: 5, source_val_acc_label: 0.8772, target_val_acc_label: 0.7693, source_val_label_loss: 0.3480, target_val_label_loss: 0.7330, \n",
      "=============================================================\n"
     ]
    },
    {
     "name": "stdout",
     "output_type": "stream",
     "text": [
      "New best\n"
     ]
    },
    {
     "name": "stdout",
     "output_type": "stream",
     "text": [
      "epoch: 6, [batch: 1 / 12600], examples_per_second: 0.6610, train_label_loss: 0.3425, \n"
     ]
    },
    {
     "name": "stdout",
     "output_type": "stream",
     "text": [
      "epoch: 6, [batch: 1260 / 12600], examples_per_second: 1992.0683, train_label_loss: 0.4695, \n"
     ]
    },
    {
     "name": "stdout",
     "output_type": "stream",
     "text": [
      "epoch: 6, [batch: 2520 / 12600], examples_per_second: 1903.9831, train_label_loss: 0.0474, \n"
     ]
    },
    {
     "name": "stdout",
     "output_type": "stream",
     "text": [
      "epoch: 6, [batch: 3780 / 12600], examples_per_second: 3195.1458, train_label_loss: 0.3319, \n"
     ]
    },
    {
     "name": "stdout",
     "output_type": "stream",
     "text": [
      "epoch: 6, [batch: 5040 / 12600], examples_per_second: 4328.2222, train_label_loss: 0.1557, \n"
     ]
    },
    {
     "name": "stdout",
     "output_type": "stream",
     "text": [
      "epoch: 6, [batch: 6300 / 12600], examples_per_second: 3881.2368, train_label_loss: 0.1398, \n"
     ]
    },
    {
     "name": "stdout",
     "output_type": "stream",
     "text": [
      "epoch: 6, [batch: 7560 / 12600], examples_per_second: 2454.5181, train_label_loss: 0.2380, \n"
     ]
    },
    {
     "name": "stdout",
     "output_type": "stream",
     "text": [
      "epoch: 6, [batch: 8820 / 12600], examples_per_second: 1919.3682, train_label_loss: 0.4215, \n"
     ]
    },
    {
     "name": "stdout",
     "output_type": "stream",
     "text": [
      "epoch: 6, [batch: 10080 / 12600], examples_per_second: 1772.2817, train_label_loss: 0.3030, \n"
     ]
    },
    {
     "name": "stdout",
     "output_type": "stream",
     "text": [
      "epoch: 6, [batch: 11340 / 12600], examples_per_second: 1825.8062, train_label_loss: 0.0452, \n"
     ]
    },
    {
     "name": "stdout",
     "output_type": "stream",
     "text": [
      "=============================================================\n",
      "epoch: 6, source_val_acc_label: 0.8780, target_val_acc_label: 0.7679, source_val_label_loss: 0.3571, target_val_label_loss: 0.7288, \n",
      "=============================================================\n"
     ]
    },
    {
     "name": "stdout",
     "output_type": "stream",
     "text": [
      "epoch: 7, [batch: 1 / 12600], examples_per_second: 0.6395, train_label_loss: 0.3938, \n"
     ]
    },
    {
     "name": "stdout",
     "output_type": "stream",
     "text": [
      "epoch: 7, [batch: 1260 / 12600], examples_per_second: 1914.1180, train_label_loss: 0.2635, \n"
     ]
    },
    {
     "name": "stdout",
     "output_type": "stream",
     "text": [
      "epoch: 7, [batch: 2520 / 12600], examples_per_second: 2793.6413, train_label_loss: 0.3603, \n"
     ]
    },
    {
     "name": "stdout",
     "output_type": "stream",
     "text": [
      "epoch: 7, [batch: 3780 / 12600], examples_per_second: 4800.7717, train_label_loss: 0.4006, \n"
     ]
    },
    {
     "name": "stdout",
     "output_type": "stream",
     "text": [
      "epoch: 7, [batch: 5040 / 12600], examples_per_second: 4141.3939, train_label_loss: 0.2112, \n"
     ]
    },
    {
     "name": "stdout",
     "output_type": "stream",
     "text": [
      "epoch: 7, [batch: 6300 / 12600], examples_per_second: 2974.5888, train_label_loss: 0.1428, \n"
     ]
    },
    {
     "name": "stdout",
     "output_type": "stream",
     "text": [
      "epoch: 7, [batch: 7560 / 12600], examples_per_second: 1815.7648, train_label_loss: 0.1139, \n"
     ]
    },
    {
     "name": "stdout",
     "output_type": "stream",
     "text": [
      "epoch: 7, [batch: 8820 / 12600], examples_per_second: 1857.8546, train_label_loss: 0.1018, \n"
     ]
    },
    {
     "name": "stdout",
     "output_type": "stream",
     "text": [
      "epoch: 7, [batch: 10080 / 12600], examples_per_second: 1778.3950, train_label_loss: 0.1236, \n"
     ]
    },
    {
     "name": "stdout",
     "output_type": "stream",
     "text": [
      "epoch: 7, [batch: 11340 / 12600], examples_per_second: 1868.6867, train_label_loss: 0.1471, \n"
     ]
    },
    {
     "name": "stdout",
     "output_type": "stream",
     "text": [
      "=============================================================\n",
      "epoch: 7, source_val_acc_label: 0.8827, target_val_acc_label: 0.7681, source_val_label_loss: 0.3428, target_val_label_loss: 0.7596, \n",
      "=============================================================\n"
     ]
    },
    {
     "name": "stdout",
     "output_type": "stream",
     "text": [
      "epoch: 8, [batch: 1 / 12600], examples_per_second: 1.3733, train_label_loss: 0.2239, \n"
     ]
    },
    {
     "name": "stdout",
     "output_type": "stream",
     "text": [
      "epoch: 8, [batch: 1260 / 12600], examples_per_second: 2463.6173, train_label_loss: 0.1620, \n"
     ]
    },
    {
     "name": "stdout",
     "output_type": "stream",
     "text": [
      "epoch: 8, [batch: 2520 / 12600], examples_per_second: 2063.9780, train_label_loss: 0.3659, \n"
     ]
    },
    {
     "name": "stdout",
     "output_type": "stream",
     "text": [
      "epoch: 8, [batch: 3780 / 12600], examples_per_second: 1950.9651, train_label_loss: 0.1712, \n"
     ]
    },
    {
     "name": "stdout",
     "output_type": "stream",
     "text": [
      "epoch: 8, [batch: 5040 / 12600], examples_per_second: 2045.7750, train_label_loss: 0.1103, \n"
     ]
    },
    {
     "name": "stdout",
     "output_type": "stream",
     "text": [
      "epoch: 8, [batch: 6300 / 12600], examples_per_second: 1816.9021, train_label_loss: 0.0379, \n"
     ]
    },
    {
     "name": "stdout",
     "output_type": "stream",
     "text": [
      "epoch: 8, [batch: 7560 / 12600], examples_per_second: 1834.9162, train_label_loss: 0.2434, \n"
     ]
    },
    {
     "name": "stdout",
     "output_type": "stream",
     "text": [
      "epoch: 8, [batch: 8820 / 12600], examples_per_second: 1775.5946, train_label_loss: 0.0906, \n"
     ]
    },
    {
     "name": "stdout",
     "output_type": "stream",
     "text": [
      "epoch: 8, [batch: 10080 / 12600], examples_per_second: 1848.8893, train_label_loss: 0.0917, \n"
     ]
    },
    {
     "name": "stdout",
     "output_type": "stream",
     "text": [
      "epoch: 8, [batch: 11340 / 12600], examples_per_second: 1788.1163, train_label_loss: 0.3889, \n"
     ]
    },
    {
     "name": "stdout",
     "output_type": "stream",
     "text": [
      "=============================================================\n",
      "epoch: 8, source_val_acc_label: 0.8838, target_val_acc_label: 0.7659, source_val_label_loss: 0.3414, target_val_label_loss: 0.7412, \n",
      "=============================================================\n"
     ]
    },
    {
     "name": "stdout",
     "output_type": "stream",
     "text": [
      "epoch: 9, [batch: 1 / 12600], examples_per_second: 1.2221, train_label_loss: 0.0563, \n"
     ]
    },
    {
     "name": "stdout",
     "output_type": "stream",
     "text": [
      "epoch: 9, [batch: 1260 / 12600], examples_per_second: 2947.2909, train_label_loss: 0.1239, \n"
     ]
    },
    {
     "name": "stdout",
     "output_type": "stream",
     "text": [
      "epoch: 9, [batch: 2520 / 12600], examples_per_second: 1950.3158, train_label_loss: 0.3544, \n"
     ]
    },
    {
     "name": "stdout",
     "output_type": "stream",
     "text": [
      "epoch: 9, [batch: 3780 / 12600], examples_per_second: 2007.8483, train_label_loss: 0.1080, \n"
     ]
    },
    {
     "name": "stdout",
     "output_type": "stream",
     "text": [
      "epoch: 9, [batch: 5040 / 12600], examples_per_second: 1917.3735, train_label_loss: 0.3126, \n"
     ]
    },
    {
     "name": "stdout",
     "output_type": "stream",
     "text": [
      "epoch: 9, [batch: 6300 / 12600], examples_per_second: 2092.1541, train_label_loss: 0.1040, \n"
     ]
    },
    {
     "name": "stdout",
     "output_type": "stream",
     "text": [
      "epoch: 9, [batch: 7560 / 12600], examples_per_second: 1782.7068, train_label_loss: 0.0311, \n"
     ]
    },
    {
     "name": "stdout",
     "output_type": "stream",
     "text": [
      "epoch: 9, [batch: 8820 / 12600], examples_per_second: 1853.8703, train_label_loss: 0.4264, \n"
     ]
    },
    {
     "name": "stdout",
     "output_type": "stream",
     "text": [
      "epoch: 9, [batch: 10080 / 12600], examples_per_second: 1763.1644, train_label_loss: 0.1929, \n"
     ]
    },
    {
     "name": "stdout",
     "output_type": "stream",
     "text": [
      "epoch: 9, [batch: 11340 / 12600], examples_per_second: 1829.2493, train_label_loss: 0.1186, \n"
     ]
    },
    {
     "name": "stdout",
     "output_type": "stream",
     "text": [
      "=============================================================\n",
      "epoch: 9, source_val_acc_label: 0.8841, target_val_acc_label: 0.7648, source_val_label_loss: 0.3536, target_val_label_loss: 0.7660, \n",
      "=============================================================\n"
     ]
    },
    {
     "name": "stdout",
     "output_type": "stream",
     "text": [
      "Patience (3) exhausted\n"
     ]
    }
   ],
   "source": [
    "###################################\n",
    "# train\n",
    "###################################\n",
    "jig = PTN_Train_Eval_Test_Jig(model, p.BEST_MODEL_PATH, p.device)\n",
    "\n",
    "jig.train(\n",
    "    train_iterable=datasets.source.processed.train,\n",
    "    source_val_iterable=datasets.source.processed.val,\n",
    "    target_val_iterable=datasets.target.processed.val,\n",
    "    num_epochs=p.n_epoch,\n",
    "    num_logs_per_epoch=p.NUM_LOGS_PER_EPOCH,\n",
    "    patience=p.patience,\n",
    "    optimizer=optimizer,\n",
    "    criteria_for_best=p.criteria_for_best,\n",
    ")"
   ]
  },
  {
   "cell_type": "code",
   "execution_count": 14,
   "id": "31e8fabf",
   "metadata": {
    "execution": {
     "iopub.execute_input": "2022-03-26T01:30:29.763869Z",
     "iopub.status.busy": "2022-03-26T01:30:29.763457Z",
     "iopub.status.idle": "2022-03-26T01:30:29.797715Z",
     "shell.execute_reply": "2022-03-26T01:30:29.796872Z"
    },
    "papermill": {
     "duration": 0.084298,
     "end_time": "2022-03-26T01:30:29.797887",
     "exception": false,
     "start_time": "2022-03-26T01:30:29.713589",
     "status": "completed"
    },
    "tags": []
   },
   "outputs": [],
   "source": [
    "total_experiment_time_secs = time.time() - start_time_secs"
   ]
  },
  {
   "cell_type": "code",
   "execution_count": 15,
   "id": "87b9595b",
   "metadata": {
    "execution": {
     "iopub.execute_input": "2022-03-26T01:30:29.915023Z",
     "iopub.status.busy": "2022-03-26T01:30:29.914112Z",
     "iopub.status.idle": "2022-03-26T01:40:34.580839Z",
     "shell.execute_reply": "2022-03-26T01:40:34.580040Z"
    },
    "papermill": {
     "duration": 604.73247,
     "end_time": "2022-03-26T01:40:34.581022",
     "exception": false,
     "start_time": "2022-03-26T01:30:29.848552",
     "status": "completed"
    },
    "tags": []
   },
   "outputs": [],
   "source": [
    "###################################\n",
    "# Evaluate the model\n",
    "###################################\n",
    "source_test_label_accuracy, source_test_label_loss = jig.test(datasets.source.processed.test)\n",
    "target_test_label_accuracy, target_test_label_loss = jig.test(datasets.target.processed.test)\n",
    "\n",
    "source_val_label_accuracy, source_val_label_loss = jig.test(datasets.source.processed.val)\n",
    "target_val_label_accuracy, target_val_label_loss = jig.test(datasets.target.processed.val)\n",
    "\n",
    "history = jig.get_history()\n",
    "\n",
    "total_epochs_trained = len(history[\"epoch_indices\"])\n",
    "\n",
    "val_dl = Iterable_Aggregator((datasets.source.original.val,datasets.target.original.val))\n",
    "\n",
    "confusion = ptn_confusion_by_domain_over_dataloader(model, p.device, val_dl)\n",
    "per_domain_accuracy = per_domain_accuracy_from_confusion(confusion)\n",
    "\n",
    "# Add a key to per_domain_accuracy for if it was a source domain\n",
    "for domain, accuracy in per_domain_accuracy.items():\n",
    "    per_domain_accuracy[domain] = {\n",
    "        \"accuracy\": accuracy,\n",
    "        \"source?\": domain in p.domains_source\n",
    "    }\n",
    "\n",
    "# Do an independent accuracy assesment JUST TO BE SURE!\n",
    "# _source_test_label_accuracy = independent_accuracy_assesment(model, datasets.source.processed.test, p.device)\n",
    "# _target_test_label_accuracy = independent_accuracy_assesment(model, datasets.target.processed.test, p.device)\n",
    "# _source_val_label_accuracy = independent_accuracy_assesment(model, datasets.source.processed.val, p.device)\n",
    "# _target_val_label_accuracy = independent_accuracy_assesment(model, datasets.target.processed.val, p.device)\n",
    "\n",
    "# assert(_source_test_label_accuracy == source_test_label_accuracy)\n",
    "# assert(_target_test_label_accuracy == target_test_label_accuracy)\n",
    "# assert(_source_val_label_accuracy == source_val_label_accuracy)\n",
    "# assert(_target_val_label_accuracy == target_val_label_accuracy)\n",
    "\n",
    "experiment = {\n",
    "    \"experiment_name\": p.experiment_name,\n",
    "    \"parameters\": dict(p),\n",
    "    \"results\": {\n",
    "        \"source_test_label_accuracy\": source_test_label_accuracy,\n",
    "        \"source_test_label_loss\": source_test_label_loss,\n",
    "        \"target_test_label_accuracy\": target_test_label_accuracy,\n",
    "        \"target_test_label_loss\": target_test_label_loss,\n",
    "        \"source_val_label_accuracy\": source_val_label_accuracy,\n",
    "        \"source_val_label_loss\": source_val_label_loss,\n",
    "        \"target_val_label_accuracy\": target_val_label_accuracy,\n",
    "        \"target_val_label_loss\": target_val_label_loss,\n",
    "        \"total_epochs_trained\": total_epochs_trained,\n",
    "        \"total_experiment_time_secs\": total_experiment_time_secs,\n",
    "        \"confusion\": confusion,\n",
    "        \"per_domain_accuracy\": per_domain_accuracy,\n",
    "    },\n",
    "    \"history\": history,\n",
    "    \"dataset_metrics\": get_dataset_metrics(datasets, \"ptn\"),\n",
    "}"
   ]
  },
  {
   "cell_type": "code",
   "execution_count": 16,
   "id": "54a21829",
   "metadata": {
    "execution": {
     "iopub.execute_input": "2022-03-26T01:40:34.678863Z",
     "iopub.status.busy": "2022-03-26T01:40:34.678480Z",
     "iopub.status.idle": "2022-03-26T01:40:34.905718Z",
     "shell.execute_reply": "2022-03-26T01:40:34.906339Z"
    },
    "papermill": {
     "duration": 0.276546,
     "end_time": "2022-03-26T01:40:34.906546",
     "exception": false,
     "start_time": "2022-03-26T01:40:34.630000",
     "status": "completed"
    },
    "tags": []
   },
   "outputs": [
    {
     "data": {
      "image/png": "[encoded data removed]",
      "text/plain": [
       "<Figure size 1080x504 with 1 Axes>"
      ]
     },
     "metadata": {
      "needs_background": "light"
     },
     "output_type": "display_data"
    }
   ],
   "source": [
    "ax = get_loss_curve(experiment)\n",
    "plt.show()"
   ]
  },
  {
   "cell_type": "code",
   "execution_count": 17,
   "id": "fd8a0f60",
   "metadata": {
    "execution": {
     "iopub.execute_input": "2022-03-26T01:40:35.019296Z",
     "iopub.status.busy": "2022-03-26T01:40:35.018909Z",
     "iopub.status.idle": "2022-03-26T01:40:35.391618Z",
     "shell.execute_reply": "2022-03-26T01:40:35.391942Z"
    },
    "papermill": {
     "duration": 0.425918,
     "end_time": "2022-03-26T01:40:35.392071",
     "exception": false,
     "start_time": "2022-03-26T01:40:34.966153",
     "status": "completed"
    },
    "tags": []
   },
   "outputs": [
    {
     "data": {
      "text/plain": [
       "<AxesSubplot:title={'center':'Results'}>"
      ]
     },
     "execution_count": 17,
     "metadata": {},
     "output_type": "execute_result"
    },
    {
     "data": {
      "image/png": "[encoded data removed]",
      "text/plain": [
       "<Figure size 1080x504 with 1 Axes>"
      ]
     },
     "metadata": {
      "needs_background": "light"
     },
     "output_type": "display_data"
    }
   ],
   "source": [
    "get_results_table(experiment)"
   ]
  },
  {
   "cell_type": "code",
   "execution_count": 18,
   "id": "cf8dc689",
   "metadata": {
    "execution": {
     "iopub.execute_input": "2022-03-26T01:40:35.491279Z",
     "iopub.status.busy": "2022-03-26T01:40:35.490904Z",
     "iopub.status.idle": "2022-03-26T01:40:35.717917Z",
     "shell.execute_reply": "2022-03-26T01:40:35.717180Z"
    },
    "papermill": {
     "duration": 0.278094,
     "end_time": "2022-03-26T01:40:35.718076",
     "exception": false,
     "start_time": "2022-03-26T01:40:35.439982",
     "status": "completed"
    },
    "tags": []
   },
   "outputs": [
    {
     "data": {
      "text/plain": [
       "<AxesSubplot:title={'center':'Per Domain Validation Accuracy'}, xlabel='domain'>"
      ]
     },
     "execution_count": 18,
     "metadata": {},
     "output_type": "execute_result"
    },
    {
     "data": {
      "image/png": "[encoded data removed]",
      "text/plain": [
       "<Figure size 1080x504 with 1 Axes>"
      ]
     },
     "metadata": {
      "needs_background": "light"
     },
     "output_type": "display_data"
    }
   ],
   "source": [
    "get_domain_accuracies(experiment)"
   ]
  },
  {
   "cell_type": "code",
   "execution_count": 19,
   "id": "a74ae082",
   "metadata": {
    "execution": {
     "iopub.execute_input": "2022-03-26T01:40:35.825085Z",
     "iopub.status.busy": "2022-03-26T01:40:35.824693Z",
     "iopub.status.idle": "2022-03-26T01:40:35.853681Z",
     "shell.execute_reply": "2022-03-26T01:40:35.852861Z"
    },
    "papermill": {
     "duration": 0.082255,
     "end_time": "2022-03-26T01:40:35.853835",
     "exception": false,
     "start_time": "2022-03-26T01:40:35.771580",
     "status": "completed"
    },
    "tags": []
   },
   "outputs": [
    {
     "name": "stdout",
     "output_type": "stream",
     "text": [
      "Source Test Label Accuracy: 0.8787326388888889 Target Test Label Accuracy: 0.7678229166666667\n",
      "Source Val Label Accuracy: 0.8771701388888888 Target Val Label Accuracy: 0.7693229166666666\n"
     ]
    }
   ],
   "source": [
    "print(\"Source Test Label Accuracy:\", experiment[\"results\"][\"source_test_label_accuracy\"], \"Target Test Label Accuracy:\", experiment[\"results\"][\"target_test_label_accuracy\"])\n",
    "print(\"Source Val Label Accuracy:\", experiment[\"results\"][\"source_val_label_accuracy\"], \"Target Val Label Accuracy:\", experiment[\"results\"][\"target_val_label_accuracy\"])"
   ]
  },
  {
   "cell_type": "code",
   "execution_count": 20,
   "id": "dacca602",
   "metadata": {
    "execution": {
     "iopub.execute_input": "2022-03-26T01:40:35.956231Z",
     "iopub.status.busy": "2022-03-26T01:40:35.955752Z",
     "iopub.status.idle": "2022-03-26T01:40:35.981490Z",
     "shell.execute_reply": "2022-03-26T01:40:35.982171Z"
    },
    "papermill": {
     "duration": 0.077609,
     "end_time": "2022-03-26T01:40:35.982353",
     "exception": false,
     "start_time": "2022-03-26T01:40:35.904744",
     "status": "completed"
    },
    "tags": [
     "experiment_json"
    ]
   },
   "outputs": [
    {
     "data": {
      "text/plain": [
       "'{\"experiment_name\": \"tuned_1v2:oracle.run1_limited\", \"parameters\": {\"experiment_name\": \"tuned_1v2:oracle.run1_limited\", \"device\": \"cuda\", \"lr\": 0.0001, \"labels_source\": [\"3123D52\", \"3123D65\", \"3123D79\", \"3123D80\", \"3123D54\", \"3123D70\", \"3123D7B\", \"3123D89\", \"3123D58\", \"3123D76\", \"3123D7D\", \"3123EFE\", \"3123D64\", \"3123D78\", \"3123D7E\", \"3124E4A\"], \"labels_target\": [\"3123D52\", \"3123D65\", \"3123D79\", \"3123D80\", \"3123D54\", \"3123D70\", \"3123D7B\", \"3123D89\", \"3123D58\", \"3123D76\", \"3123D7D\", \"3123EFE\", \"3123D64\", \"3123D78\", \"3123D7E\", \"3124E4A\"], \"episode_transforms_source\": [], \"episode_transforms_target\": [], \"domains_source\": [8, 32, 50], \"domains_target\": [14, 20, 26, 38, 44], \"num_examples_per_domain_per_label_source\": -1, \"num_examples_per_domain_per_label_target\": -1, \"n_shot\": 3, \"n_way\": 16, \"n_query\": 2, \"train_k_factor\": 3, \"val_k_factor\": 2, \"test_k_factor\": 2, \"torch_default_dtype\": \"torch.float32\", \"n_epoch\": 50, \"patience\": 3, \"criteria_for_best\": \"target_accuracy\", \"x_net\": [{\"class\": \"nnReshape\", \"kargs\": {\"shape\": [-1, 1, 2, 256]}}, {\"class\": \"Conv2d\", \"kargs\": {\"in_channels\": 1, \"out_channels\": 256, \"kernel_size\": [1, 7], \"bias\": false, \"padding\": [0, 3]}}, {\"class\": \"ReLU\", \"kargs\": {\"inplace\": true}}, {\"class\": \"BatchNorm2d\", \"kargs\": {\"num_features\": 256}}, {\"class\": \"Conv2d\", \"kargs\": {\"in_channels\": 256, \"out_channels\": 80, \"kernel_size\": [2, 7], \"bias\": true, \"padding\": [0, 3]}}, {\"class\": \"ReLU\", \"kargs\": {\"inplace\": true}}, {\"class\": \"BatchNorm2d\", \"kargs\": {\"num_features\": 80}}, {\"class\": \"Flatten\", \"kargs\": {}}, {\"class\": \"Linear\", \"kargs\": {\"in_features\": 20480, \"out_features\": 256}}, {\"class\": \"ReLU\", \"kargs\": {\"inplace\": true}}, {\"class\": \"BatchNorm1d\", \"kargs\": {\"num_features\": 256}}, {\"class\": \"Linear\", \"kargs\": {\"in_features\": 256, \"out_features\": 256}}], \"NUM_LOGS_PER_EPOCH\": 10, \"BEST_MODEL_PATH\": \"./best_model.pth\", \"pickle_name\": \"oracle.Run1_10kExamples_stratified_ds.2022A.pkl\", \"x_transforms_source\": [], \"x_transforms_target\": [], \"dataset_seed\": 154325, \"seed\": 154325}, \"results\": {\"source_test_label_accuracy\": 0.8787326388888889, \"source_test_label_loss\": 0.34778258204460144, \"target_test_label_accuracy\": 0.7678229166666667, \"target_test_label_loss\": 0.7326617240905762, \"source_val_label_accuracy\": 0.8771701388888888, \"source_val_label_loss\": 0.3479872941970825, \"target_val_label_accuracy\": 0.7693229166666666, \"target_val_label_loss\": 0.7330093383789062, \"total_epochs_trained\": 9, \"total_experiment_time_secs\": 5353.737204551697, \"confusion\": {\"32\": {\"13\": {\"13\": 925, \"11\": 22, \"3\": 130, \"4\": 122, \"2\": 1}, \"9\": {\"9\": 1191, \"12\": 8, \"2\": 1}, \"15\": {\"15\": 1189, \"8\": 10, \"5\": 1}, \"2\": {\"2\": 1062, \"4\": 138}, \"3\": {\"3\": 1149, \"13\": 51}, \"8\": {\"8\": 914, \"5\": 89, \"0\": 121, \"4\": 19, \"14\": 24, \"2\": 8, \"7\": 24, \"13\": 1}, \"5\": {\"5\": 718, \"7\": 250, \"8\": 107, \"0\": 76, \"14\": 45, \"15\": 4}, \"14\": {\"14\": 736, \"7\": 278, \"2\": 52, \"8\": 33, \"5\": 39, \"0\": 48, \"4\": 14}, \"1\": {\"1\": 1200}, \"0\": {\"0\": 914, \"8\": 110, \"14\": 21, \"7\": 99, \"5\": 54, \"2\": 2}, \"10\": {\"10\": 1200}, \"6\": {\"6\": 1200}, \"11\": {\"11\": 1193, \"13\": 7}, \"7\": {\"5\": 198, \"7\": 797, \"14\": 120, \"8\": 16, \"0\": 69}, \"4\": {\"4\": 1027, \"2\": 138, \"13\": 33, \"14\": 2}, \"12\": {\"12\": 1200}}, \"50\": {\"10\": {\"10\": 1163, \"8\": 21, \"0\": 15, \"1\": 1}, \"12\": {\"12\": 1124, \"11\": 18, \"9\": 58}, \"1\": {\"1\": 1181, \"13\": 16, \"11\": 2, \"6\": 1}, \"0\": {\"0\": 1089, \"2\": 92, \"10\": 19}, \"15\": {\"15\": 1104, \"6\": 72, \"9\": 5, \"11\": 18, \"4\": 1}, \"13\": {\"13\": 1195, \"1\": 5}, \"8\": {\"8\": 1187, \"10\": 13}, \"3\": {\"3\": 1200}, \"11\": {\"11\": 1139, \"12\": 31, \"9\": 27, \"15\": 3}, \"4\": {\"4\": 998, \"6\": 19, \"5\": 52, \"7\": 108, \"15\": 23}, \"6\": {\"6\": 1029, \"5\": 103, \"15\": 67, \"4\": 1}, \"7\": {\"7\": 1125, \"5\": 52, \"4\": 23}, \"14\": {\"14\": 1200}, \"2\": {\"2\": 1148, \"0\": 52}, \"5\": {\"6\": 232, \"5\": 539, \"7\": 285, \"4\": 71, \"13\": 62, \"1\": 3, \"11\": 1, \"15\": 7}, \"9\": {\"9\": 1033, \"11\": 74, \"12\": 87, \"15\": 6}}, \"8\": {\"14\": {\"14\": 1100, \"11\": 15, \"4\": 83, \"8\": 1, \"1\": 1}, \"10\": {\"10\": 952, \"13\": 128, \"4\": 10, \"5\": 42, \"1\": 57, \"6\": 10, \"11\": 1}, \"2\": {\"12\": 40, \"2\": 1021, \"3\": 98, \"15\": 41}, \"8\": {\"8\": 1155, \"6\": 32, \"11\": 7, \"4\": 6}, \"6\": {\"6\": 1009, \"7\": 143, \"13\": 18, \"11\": 1, \"8\": 6, \"10\": 9, \"4\": 12, \"1\": 2}, \"7\": {\"7\": 1034, \"6\": 133, \"13\": 29, \"10\": 3, \"8\": 1}, \"9\": {\"9\": 1200}, \"11\": {\"11\": 788, \"1\": 346, \"5\": 5, \"8\": 23, \"4\": 15, \"14\": 18, \"6\": 3, \"10\": 2}, \"12\": {\"12\": 846, \"15\": 344, \"2\": 10}, \"13\": {\"13\": 937, \"10\": 190, \"7\": 58, \"6\": 13, \"5\": 1, \"15\": 1}, \"0\": {\"0\": 1198, \"14\": 2}, \"3\": {\"3\": 1174, \"2\": 26}, \"4\": {\"4\": 1098, \"6\": 28, \"14\": 29, \"11\": 12, \"1\": 7, \"8\": 20, \"10\": 6}, \"15\": {\"15\": 943, \"12\": 231, \"2\": 26}, \"5\": {\"5\": 1055, \"1\": 58, \"10\": 80, \"11\": 7}, \"1\": {\"1\": 946, \"11\": 152, \"5\": 40, \"10\": 55, \"4\": 4, \"13\": 2, \"6\": 1}}, \"44\": {\"13\": {\"13\": 962, \"6\": 221, \"9\": 17}, \"9\": {\"9\": 505, \"7\": 370, \"6\": 184, \"13\": 121, \"2\": 11, \"4\": 9}, \"15\": {\"15\": 992, \"5\": 51, \"8\": 35, \"14\": 106, \"0\": 6, \"4\": 10}, \"2\": {\"2\": 1149, \"1\": 42, \"10\": 8, \"7\": 1}, \"3\": {\"3\": 1153, \"12\": 47}, \"8\": {\"5\": 49, \"8\": 834, \"0\": 267, \"15\": 50}, \"5\": {\"5\": 1055, \"15\": 77, \"0\": 4, \"4\": 3, \"14\": 48, \"8\": 13}, \"14\": {\"4\": 212, \"14\": 904, \"15\": 39, \"5\": 45}, \"1\": {\"1\": 1131, \"2\": 67, \"10\": 2}, \"0\": {\"0\": 1056, \"8\": 140, \"15\": 4}, \"10\": {\"10\": 1081, \"2\": 33, \"7\": 39, \"9\": 2, \"1\": 45}, \"6\": {\"13\": 125, \"6\": 1014, \"9\": 59, \"7\": 2}, \"11\": {\"11\": 1200}, \"7\": {\"7\": 1056, \"9\": 131, \"10\": 13}, \"4\": {\"14\": 426, \"15\": 21, \"4\": 733, \"9\": 16, \"13\": 4}, \"12\": {\"12\": 1155, \"3\": 45}}, \"38\": {\"13\": {\"13\": 1119, \"10\": 56, \"0\": 21, \"2\": 2, \"4\": 1, \"14\": 1}, \"12\": {\"12\": 1194, \"8\": 4, \"5\": 2}, \"2\": {\"2\": 1089, \"14\": 111}, \"9\": {\"9\": 1160, \"5\": 26, \"7\": 11, \"8\": 3}, \"15\": {\"15\": 1065, \"1\": 48, \"5\": 37, \"8\": 43, \"12\": 7}, \"5\": {\"9\": 97, \"5\": 524, \"7\": 105, \"8\": 416, \"15\": 55, \"12\": 3}, \"14\": {\"14\": 1025, \"2\": 165, \"13\": 10}, \"0\": {\"0\": 752, \"13\": 81, \"10\": 132, \"7\": 152, \"3\": 79, \"4\": 3, \"9\": 1}, \"3\": {\"3\": 1200}, \"1\": {\"1\": 1198, \"6\": 2}, \"11\": {\"11\": 1200}, \"7\": {\"7\": 1186, \"9\": 2, \"0\": 6, \"8\": 6}, \"8\": {\"7\": 169, \"15\": 34, \"5\": 413, \"8\": 553, \"12\": 14, \"9\": 8, \"13\": 9}, \"4\": {\"4\": 1194, \"10\": 5, \"0\": 1}, \"10\": {\"10\": 1109, \"0\": 42, \"13\": 46, \"4\": 3}, \"6\": {\"6\": 1198, \"1\": 2}}, \"26\": {\"10\": {\"14\": 262, \"0\": 150, \"15\": 48, \"6\": 75, \"10\": 645, \"1\": 18, \"5\": 2}, \"12\": {\"12\": 1200}, \"1\": {\"1\": 904, \"6\": 45, \"14\": 193, \"10\": 35, \"15\": 15, \"0\": 3, \"5\": 5}, \"0\": {\"14\": 125, \"0\": 792, \"10\": 214, \"8\": 39, \"9\": 5, \"6\": 7, \"2\": 7, \"1\": 1, \"15\": 9, \"5\": 1}, \"15\": {\"15\": 580, \"5\": 337, \"6\": 144, \"10\": 71, \"14\": 30, \"2\": 3, \"1\": 18, \"0\": 17}, \"13\": {\"13\": 1014, \"4\": 53, \"9\": 61, \"2\": 23, \"8\": 8, \"3\": 33, \"7\": 8}, \"8\": {\"8\": 700, \"9\": 252, \"2\": 67, \"0\": 10, \"7\": 165, \"3\": 6}, \"3\": {\"3\": 1054, \"2\": 19, \"7\": 108, \"13\": 8, \"8\": 2, \"9\": 8, \"4\": 1}, \"11\": {\"11\": 1200}, \"4\": {\"4\": 1197, \"3\": 2, \"13\": 1}, \"6\": {\"15\": 100, \"6\": 919, \"5\": 84, \"10\": 53, \"1\": 29, \"14\": 14, \"0\": 1}, \"7\": {\"8\": 137, \"2\": 128, \"7\": 790, \"3\": 89, \"9\": 56}, \"14\": {\"15\": 20, \"14\": 690, \"6\": 26, \"10\": 264, \"1\": 95, \"0\": 102, \"2\": 1, \"5\": 2}, \"2\": {\"2\": 647, \"7\": 217, \"15\": 4, \"8\": 121, \"9\": 71, \"3\": 85, \"0\": 48, \"10\": 2, \"13\": 5}, \"5\": {\"5\": 812, \"15\": 301, \"6\": 72, \"10\": 3, \"1\": 11, \"14\": 1}, \"9\": {\"9\": 601, \"8\": 326, \"7\": 52, \"13\": 132, \"2\": 61, \"3\": 20, \"0\": 8}}, \"20\": {\"5\": {\"5\": 443, \"1\": 362, \"12\": 44, \"9\": 53, \"15\": 89, \"0\": 23, \"3\": 176, \"2\": 1, \"8\": 6, \"13\": 2, \"4\": 1}, \"15\": {\"15\": 502, \"1\": 249, \"5\": 118, \"2\": 28, \"9\": 90, \"12\": 138, \"3\": 30, \"13\": 41, \"0\": 3, \"7\": 1}, \"9\": {\"1\": 69, \"9\": 426, \"3\": 196, \"7\": 81, \"12\": 112, \"8\": 43, \"5\": 34, \"13\": 55, \"15\": 50, \"2\": 132, \"14\": 1, \"4\": 1}, \"7\": {\"2\": 285, \"14\": 35, \"7\": 547, \"8\": 40, \"13\": 86, \"6\": 33, \"9\": 95, \"12\": 41, \"4\": 31, \"3\": 7}, \"3\": {\"5\": 179, \"8\": 94, \"3\": 424, \"1\": 130, \"2\": 26, \"15\": 20, \"12\": 52, \"9\": 222, \"0\": 34, \"7\": 14, \"4\": 3, \"13\": 1, \"14\": 1}, \"8\": {\"8\": 742, \"9\": 68, \"14\": 130, \"3\": 157, \"12\": 8, \"5\": 13, \"7\": 49, \"4\": 16, \"2\": 6, \"6\": 1, \"1\": 6, \"0\": 3, \"15\": 1}, \"4\": {\"4\": 999, \"12\": 91, \"7\": 23, \"10\": 47, \"14\": 11, \"5\": 3, \"6\": 3, \"2\": 12, \"8\": 4, \"15\": 3, \"9\": 1, \"3\": 2, \"1\": 1}, \"6\": {\"6\": 992, \"14\": 94, \"10\": 51, \"4\": 7, \"7\": 49, \"13\": 2, \"2\": 5}, \"2\": {\"2\": 365, \"9\": 167, \"7\": 245, \"13\": 225, \"3\": 20, \"15\": 18, \"12\": 116, \"14\": 2, \"1\": 11, \"8\": 6, \"4\": 20, \"5\": 3, \"6\": 2}, \"12\": {\"9\": 108, \"15\": 166, \"2\": 122, \"1\": 58, \"12\": 552, \"4\": 56, \"13\": 34, \"5\": 34, \"7\": 39, \"3\": 23, \"8\": 6, \"6\": 1, \"14\": 1}, \"0\": {\"0\": 1058, \"5\": 62, \"1\": 26, \"3\": 44, \"8\": 4, \"9\": 6}, \"13\": {\"2\": 260, \"13\": 738, \"12\": 51, \"7\": 76, \"9\": 39, \"15\": 28, \"3\": 1, \"1\": 5, \"5\": 1, \"4\": 1}, \"10\": {\"10\": 1088, \"4\": 76, \"6\": 32, \"14\": 3, \"7\": 1}, \"11\": {\"11\": 1200}, \"14\": {\"6\": 102, \"7\": 73, \"8\": 142, \"14\": 848, \"2\": 4, \"10\": 8, \"4\": 18, \"9\": 4, \"3\": 1}, \"1\": {\"5\": 338, \"1\": 388, \"15\": 210, \"3\": 118, \"9\": 70, \"12\": 57, \"0\": 10, \"2\": 4, \"8\": 1, \"13\": 3, \"7\": 1}}, \"14\": {\"13\": {\"13\": 268, \"4\": 44, \"6\": 393, \"14\": 276, \"15\": 109, \"2\": 89, \"0\": 7, \"10\": 4, \"3\": 9, \"5\": 1}, \"4\": {\"4\": 1148, \"1\": 7, \"2\": 23, \"5\": 17, \"8\": 4, \"10\": 1}, \"6\": {\"6\": 698, \"13\": 339, \"14\": 121, \"3\": 27, \"2\": 15}, \"0\": {\"0\": 961, \"10\": 42, \"3\": 153, \"8\": 6, \"4\": 11, \"5\": 5, \"14\": 13, \"2\": 7, \"13\": 1, \"9\": 1}, \"10\": {\"10\": 1185, \"9\": 14, \"4\": 1}, \"7\": {\"7\": 1194, \"5\": 6}, \"14\": {\"14\": 869, \"3\": 56, \"13\": 118, \"2\": 98, \"6\": 37, \"0\": 20, \"5\": 2}, \"15\": {\"15\": 1200}, \"5\": {\"5\": 997, \"2\": 122, \"4\": 48, \"14\": 5, \"8\": 7, \"0\": 4, \"7\": 14, \"3\": 3}, \"2\": {\"2\": 439, \"3\": 83, \"7\": 30, \"5\": 171, \"4\": 158, \"14\": 154, \"6\": 90, \"13\": 63, \"0\": 11, \"1\": 1}, \"9\": {\"9\": 1197, \"10\": 3}, \"12\": {\"12\": 1200}, \"8\": {\"8\": 1190, \"5\": 2, \"0\": 8}, \"3\": {\"3\": 1125, \"0\": 23, \"6\": 12, \"2\": 4, \"13\": 8, \"14\": 27, \"5\": 1}, \"1\": {\"1\": 1194, \"4\": 6}, \"11\": {\"11\": 1187, \"10\": 8, \"9\": 5}}}, \"per_domain_accuracy\": {\"32\": {\"accuracy\": 0.8653645833333333, \"source?\": true}, \"50\": {\"accuracy\": 0.9090625, \"source?\": true}, \"8\": {\"accuracy\": 0.8570833333333333, \"source?\": true}, \"44\": {\"accuracy\": 0.8322916666666667, \"source?\": false}, \"38\": {\"accuracy\": 0.8732291666666666, \"source?\": false}, \"26\": {\"accuracy\": 0.7158854166666667, \"source?\": false}, \"20\": {\"accuracy\": 0.5891666666666666, \"source?\": false}, \"14\": {\"accuracy\": 0.8360416666666667, \"source?\": false}}}, \"history\": {\"epoch_indices\": [1, 2, 3, 4, 5, 6, 7, 8, 9], \"train_label_loss\": [0.6514347040883842, 0.4411381099727892, 0.3261438729764805, 0.27855798009812593, 0.2483535423639807, 0.2268470767812641, 0.21058603385773797, 0.19792852652780268, 0.18650136907499965], \"source_val_label_loss\": [0.9435170292854309, 0.4180481731891632, 0.3679291307926178, 0.3486921489238739, 0.3479872941970825, 0.3571397364139557, 0.34284675121307373, 0.34140482544898987, 0.353623628616333], \"target_val_label_loss\": [1.143877387046814, 0.7264279723167419, 0.753291666507721, 0.7249123454093933, 0.7330093383789062, 0.7288088202476501, 0.7596271634101868, 0.7412257194519043, 0.7660226821899414], \"source_val_acc_label\": [0.7217881944444444, 0.8509722222222222, 0.8700694444444445, 0.8763194444444444, 0.8771701388888888, 0.8780381944444444, 0.8827430555555555, 0.8838368055555555, 0.8841145833333334], \"target_val_acc_label\": [0.6654375, 0.7516458333333333, 0.7616770833333333, 0.7659895833333333, 0.7693229166666666, 0.7678541666666666, 0.7680520833333333, 0.7659375, 0.76475]}, \"dataset_metrics\": {\"source\": {\"train\": {\"n_unique_x\": 336000, \"n_unique_y\": 16, \"n_batch/episode\": 12600}, \"val\": {\"n_unique_x\": 72000, \"n_unique_y\": 16, \"n_batch/episode\": 1800}, \"test\": {\"n_unique_x\": 72000, \"n_unique_y\": 16, \"n_batch/episode\": 1800}}, \"target\": {\"train\": {\"n_unique_x\": 560000, \"n_unique_y\": 16, \"n_batch/episode\": 21000}, \"val\": {\"n_unique_x\": 120000, \"n_unique_y\": 16, \"n_batch/episode\": 3000}, \"test\": {\"n_unique_x\": 120000, \"n_unique_y\": 16, \"n_batch/episode\": 3000}}}}'"
      ]
     },
     "execution_count": 20,
     "metadata": {},
     "output_type": "execute_result"
    }
   ],
   "source": [
    "json.dumps(experiment)"
   ]
  }
 ],
 "metadata": {
  "celltoolbar": "Tags",
  "kernelspec": {
   "display_name": "Python 3 (ipykernel)",
   "language": "python",
   "name": "python3"
  },
  "language_info": {
   "codemirror_mode": {
    "name": "ipython",
    "version": 3
   },
   "file_extension": ".py",
   "mimetype": "text/x-python",
   "name": "python",
   "nbconvert_exporter": "python",
   "pygments_lexer": "ipython3",
   "version": "3.8.12"
  },
  "papermill": {
   "default_parameters": {},
   "duration": 5966.505582,
   "end_time": "2022-03-26T01:40:38.757328",
   "environment_variables": {},
   "exception": null,
   "input_path": "/root/csc500-main/csc500-notebooks/templates/ptn_template.ipynb",
   "output_path": "trial.ipynb",
   "parameters": {
    "parameters": {
     "BEST_MODEL_PATH": "./best_model.pth",
     "NUM_LOGS_PER_EPOCH": 10,
     "criteria_for_best": "target_accuracy",
     "dataset_seed": 154325,
     "device": "cuda",
     "domains_source": [
      8,
      32,
      50
     ],
     "domains_target": [
      14,
      20,
      26,
      38,
      44
     ],
     "episode_transforms_source": [],
     "episode_transforms_target": [],
     "experiment_name": "tuned_1v2:oracle.run1_limited",
     "labels_source": [
      "3123D52",
      "3123D65",
      "3123D79",
      "3123D80",
      "3123D54",
      "3123D70",
      "3123D7B",
      "3123D89",
      "3123D58",
      "3123D76",
      "3123D7D",
      "3123EFE",
      "3123D64",
      "3123D78",
      "3123D7E",
      "3124E4A"
     ],
     "labels_target": [
      "3123D52",
      "3123D65",
      "3123D79",
      "3123D80",
      "3123D54",
      "3123D70",
      "3123D7B",
      "3123D89",
      "3123D58",
      "3123D76",
      "3123D7D",
      "3123EFE",
      "3123D64",
      "3123D78",
      "3123D7E",
      "3124E4A"
     ],
     "lr": 0.0001,
     "n_epoch": 50,
     "n_query": 2,
     "n_shot": 3,
     "n_way": 16,
     "num_examples_per_domain_per_label_source": -1,
     "num_examples_per_domain_per_label_target": -1,
     "patience": 3,
     "pickle_name": "oracle.Run1_10kExamples_stratified_ds.2022A.pkl",
     "seed": 154325,
     "test_k_factor": 2,
     "torch_default_dtype": "torch.float32",
     "train_k_factor": 3,
     "val_k_factor": 2,
     "x_net": [
      {
       "class": "nnReshape",
       "kargs": {
        "shape": [
         -1,
         1,
         2,
         256
        ]
       }
      },
      {
       "class": "Conv2d",
       "kargs": {
        "bias": false,
        "in_channels": 1,
        "kernel_size": [
         1,
         7
        ],
        "out_channels": 256,
        "padding": [
         0,
         3
        ]
       }
      },
      {
       "class": "ReLU",
       "kargs": {
        "inplace": true
       }
      },
      {
       "class": "BatchNorm2d",
       "kargs": {
        "num_features": 256
       }
      },
      {
       "class": "Conv2d",
       "kargs": {
        "bias": true,
        "in_channels": 256,
        "kernel_size": [
         2,
         7
        ],
        "out_channels": 80,
        "padding": [
         0,
         3
        ]
       }
      },
      {
       "class": "ReLU",
       "kargs": {
        "inplace": true
       }
      },
      {
       "class": "BatchNorm2d",
       "kargs": {
        "num_features": 80
       }
      },
      {
       "class": "Flatten",
       "kargs": {}
      },
      {
       "class": "Linear",
       "kargs": {
        "in_features": 20480,
        "out_features": 256
       }
      },
      {
       "class": "ReLU",
       "kargs": {
        "inplace": true
       }
      },
      {
       "class": "BatchNorm1d",
       "kargs": {
        "num_features": 256
       }
      },
      {
       "class": "Linear",
       "kargs": {
        "in_features": 256,
        "out_features": 256
       }
      }
     ],
     "x_transforms_source": [],
     "x_transforms_target": []
    }
   },
   "start_time": "2022-03-26T00:01:12.251746",
   "version": "2.3.4"
  }
 },
 "nbformat": 4,
 "nbformat_minor": 5
}