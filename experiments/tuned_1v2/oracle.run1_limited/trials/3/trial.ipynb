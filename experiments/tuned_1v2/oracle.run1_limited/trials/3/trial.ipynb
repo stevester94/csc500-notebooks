{
 "cells": [
  {
   "cell_type": "markdown",
   "id": "9fea5f46",
   "metadata": {
    "papermill": {
     "duration": 0.02696,
     "end_time": "2022-03-26T01:44:10.319363",
     "exception": false,
     "start_time": "2022-03-26T01:44:10.292403",
     "status": "completed"
    },
    "tags": []
   },
   "source": [
    "# PTN Template\n",
    "This notebook serves as a template for single dataset PTN experiments  \n",
    "It can be run on its own by setting STANDALONE to True (do a find for \"STANDALONE\" to see where)  \n",
    "But it is intended to be executed as part of a *papermill.py script. See any of the   \n",
    "experimentes with a papermill script to get started with that workflow.  "
   ]
  },
  {
   "cell_type": "code",
   "execution_count": 1,
   "id": "0902182a",
   "metadata": {
    "execution": {
     "iopub.execute_input": "2022-03-26T01:44:10.374528Z",
     "iopub.status.busy": "2022-03-26T01:44:10.373665Z",
     "iopub.status.idle": "2022-03-26T01:44:12.237962Z",
     "shell.execute_reply": "2022-03-26T01:44:12.237100Z"
    },
    "papermill": {
     "duration": 1.900583,
     "end_time": "2022-03-26T01:44:12.238167",
     "exception": false,
     "start_time": "2022-03-26T01:44:10.337584",
     "status": "completed"
    },
    "tags": []
   },
   "outputs": [],
   "source": [
    "%load_ext autoreload\n",
    "%autoreload 2\n",
    "%matplotlib inline\n",
    "\n",
    "    \n",
    "import os, json, sys, time, random\n",
    "import numpy as np\n",
    "import torch\n",
    "from torch.optim import Adam\n",
    "from  easydict import EasyDict\n",
    "import matplotlib.pyplot as plt\n",
    "\n",
    "from steves_models.steves_ptn import Steves_Prototypical_Network\n",
    "\n",
    "from steves_utils.lazy_iterable_wrapper import Lazy_Iterable_Wrapper\n",
    "from steves_utils.iterable_aggregator import Iterable_Aggregator\n",
    "from steves_utils.ptn_train_eval_test_jig import  PTN_Train_Eval_Test_Jig\n",
    "from steves_utils.torch_sequential_builder import build_sequential\n",
    "from steves_utils.torch_utils import get_dataset_metrics, ptn_confusion_by_domain_over_dataloader\n",
    "from steves_utils.utils_v2 import (per_domain_accuracy_from_confusion, get_datasets_base_path)\n",
    "from steves_utils.PTN.utils import independent_accuracy_assesment\n",
    "\n",
    "from steves_utils.stratified_dataset.episodic_accessor import Episodic_Accessor_Factory\n",
    "\n",
    "from steves_utils.ptn_do_report import (\n",
    "    get_loss_curve,\n",
    "    get_results_table,\n",
    "    get_parameters_table,\n",
    "    get_domain_accuracies,\n",
    ")\n",
    "\n",
    "from steves_utils.transforms import get_chained_transform"
   ]
  },
  {
   "cell_type": "markdown",
   "id": "41c840b4",
   "metadata": {
    "papermill": {
     "duration": 0.013884,
     "end_time": "2022-03-26T01:44:12.274614",
     "exception": false,
     "start_time": "2022-03-26T01:44:12.260730",
     "status": "completed"
    },
    "tags": []
   },
   "source": [
    "# Required Parameters\n",
    "These are allowed parameters, not defaults\n",
    "Each of these values need to be present in the injected parameters (the notebook will raise an exception if they are not present)\n",
    "\n",
    "Papermill uses the cell tag \"parameters\" to inject the real parameters below this cell.\n",
    "Enable tags to see what I mean"
   ]
  },
  {
   "cell_type": "code",
   "execution_count": 2,
   "id": "fd44eb83",
   "metadata": {
    "execution": {
     "iopub.execute_input": "2022-03-26T01:44:12.308216Z",
     "iopub.status.busy": "2022-03-26T01:44:12.307824Z",
     "iopub.status.idle": "2022-03-26T01:44:12.329802Z",
     "shell.execute_reply": "2022-03-26T01:44:12.328976Z"
    },
    "papermill": {
     "duration": 0.041408,
     "end_time": "2022-03-26T01:44:12.329956",
     "exception": false,
     "start_time": "2022-03-26T01:44:12.288548",
     "status": "completed"
    },
    "tags": []
   },
   "outputs": [],
   "source": [
    "required_parameters = {\n",
    "    \"experiment_name\",\n",
    "    \"lr\",\n",
    "    \"device\",\n",
    "    \"seed\",\n",
    "    \"dataset_seed\",\n",
    "    \"labels_source\",\n",
    "    \"labels_target\",\n",
    "    \"domains_source\",\n",
    "    \"domains_target\",\n",
    "    \"num_examples_per_domain_per_label_source\",\n",
    "    \"num_examples_per_domain_per_label_target\",\n",
    "    \"n_shot\",\n",
    "    \"n_way\",\n",
    "    \"n_query\",\n",
    "    \"train_k_factor\",\n",
    "    \"val_k_factor\",\n",
    "    \"test_k_factor\",\n",
    "    \"n_epoch\",\n",
    "    \"patience\",\n",
    "    \"criteria_for_best\",\n",
    "    \"x_transforms_source\",\n",
    "    \"x_transforms_target\",\n",
    "    \"episode_transforms_source\",\n",
    "    \"episode_transforms_target\",\n",
    "    \"pickle_name\",\n",
    "    \"x_net\",\n",
    "    \"NUM_LOGS_PER_EPOCH\",\n",
    "    \"BEST_MODEL_PATH\",\n",
    "    \"torch_default_dtype\"\n",
    "}"
   ]
  },
  {
   "cell_type": "code",
   "execution_count": 3,
   "id": "fa3f0049",
   "metadata": {
    "execution": {
     "iopub.execute_input": "2022-03-26T01:44:12.380635Z",
     "iopub.status.busy": "2022-03-26T01:44:12.376649Z",
     "iopub.status.idle": "2022-03-26T01:44:12.398365Z",
     "shell.execute_reply": "2022-03-26T01:44:12.397548Z"
    },
    "papermill": {
     "duration": 0.048858,
     "end_time": "2022-03-26T01:44:12.398518",
     "exception": false,
     "start_time": "2022-03-26T01:44:12.349660",
     "status": "completed"
    },
    "tags": [
     "parameters"
    ]
   },
   "outputs": [],
   "source": [
    "\n",
    "\n",
    "standalone_parameters = {}\n",
    "standalone_parameters[\"experiment_name\"] = \"STANDALONE PTN\"\n",
    "standalone_parameters[\"lr\"] = 0.0001\n",
    "standalone_parameters[\"device\"] = \"cuda\"\n",
    "\n",
    "standalone_parameters[\"seed\"] = 1337\n",
    "standalone_parameters[\"dataset_seed\"] = 1337\n",
    "\n",
    "\n",
    "standalone_parameters[\"num_examples_per_domain_per_label_source\"]=100\n",
    "standalone_parameters[\"num_examples_per_domain_per_label_target\"]=100\n",
    "\n",
    "standalone_parameters[\"n_shot\"] = 3\n",
    "standalone_parameters[\"n_query\"]  = 2\n",
    "standalone_parameters[\"train_k_factor\"] = 1\n",
    "standalone_parameters[\"val_k_factor\"] = 2\n",
    "standalone_parameters[\"test_k_factor\"] = 2\n",
    "\n",
    "\n",
    "standalone_parameters[\"n_epoch\"] = 100\n",
    "\n",
    "standalone_parameters[\"patience\"] = 10\n",
    "standalone_parameters[\"criteria_for_best\"] = \"target_accuracy\"\n",
    "\n",
    "standalone_parameters[\"x_transforms_source\"] = [\"unit_power\"]\n",
    "standalone_parameters[\"x_transforms_target\"] = [\"unit_power\"]\n",
    "standalone_parameters[\"episode_transforms_source\"] = []\n",
    "standalone_parameters[\"episode_transforms_target\"] = []\n",
    "\n",
    "standalone_parameters[\"torch_default_dtype\"] = \"torch.float32\" \n",
    "\n",
    "\n",
    "\n",
    "standalone_parameters[\"x_net\"] =     [\n",
    "    {\"class\": \"nnReshape\", \"kargs\": {\"shape\":[-1, 1, 2, 256]}},\n",
    "    {\"class\": \"Conv2d\", \"kargs\": { \"in_channels\":1, \"out_channels\":256, \"kernel_size\":(1,7), \"bias\":False, \"padding\":(0,3), },},\n",
    "    {\"class\": \"ReLU\", \"kargs\": {\"inplace\": True}},\n",
    "    {\"class\": \"BatchNorm2d\", \"kargs\": {\"num_features\":256}},\n",
    "\n",
    "    {\"class\": \"Conv2d\", \"kargs\": { \"in_channels\":256, \"out_channels\":80, \"kernel_size\":(2,7), \"bias\":True, \"padding\":(0,3), },},\n",
    "    {\"class\": \"ReLU\", \"kargs\": {\"inplace\": True}},\n",
    "    {\"class\": \"BatchNorm2d\", \"kargs\": {\"num_features\":80}},\n",
    "    {\"class\": \"Flatten\", \"kargs\": {}},\n",
    "\n",
    "    {\"class\": \"Linear\", \"kargs\": {\"in_features\": 80*256, \"out_features\": 256}}, # 80 units per IQ pair\n",
    "    {\"class\": \"ReLU\", \"kargs\": {\"inplace\": True}},\n",
    "    {\"class\": \"BatchNorm1d\", \"kargs\": {\"num_features\":256}},\n",
    "\n",
    "    {\"class\": \"Linear\", \"kargs\": {\"in_features\": 256, \"out_features\": 256}},\n",
    "]\n",
    "\n",
    "# Parameters relevant to results\n",
    "# These parameters will basically never need to change\n",
    "standalone_parameters[\"NUM_LOGS_PER_EPOCH\"] = 10\n",
    "standalone_parameters[\"BEST_MODEL_PATH\"] = \"./best_model.pth\"\n",
    "\n",
    "# uncomment for CORES dataset\n",
    "from steves_utils.CORES.utils import (\n",
    "    ALL_NODES,\n",
    "    ALL_NODES_MINIMUM_1000_EXAMPLES,\n",
    "    ALL_DAYS\n",
    ")\n",
    "\n",
    "\n",
    "standalone_parameters[\"labels_source\"] = ALL_NODES\n",
    "standalone_parameters[\"labels_target\"] = ALL_NODES\n",
    "\n",
    "standalone_parameters[\"domains_source\"] = [1]\n",
    "standalone_parameters[\"domains_target\"] = [2,3,4,5]\n",
    "\n",
    "standalone_parameters[\"pickle_name\"] = \"cores.stratified_ds.2022A.pkl\"\n",
    "\n",
    "\n",
    "# Uncomment these for ORACLE dataset\n",
    "# from steves_utils.ORACLE.utils_v2 import (\n",
    "#     ALL_DISTANCES_FEET,\n",
    "#     ALL_RUNS,\n",
    "#     ALL_SERIAL_NUMBERS,\n",
    "# )\n",
    "# standalone_parameters[\"labels_source\"] = ALL_SERIAL_NUMBERS\n",
    "# standalone_parameters[\"labels_target\"] = ALL_SERIAL_NUMBERS\n",
    "# standalone_parameters[\"domains_source\"] = [8,20, 38,50]\n",
    "# standalone_parameters[\"domains_target\"] = [14, 26, 32, 44, 56]\n",
    "# standalone_parameters[\"pickle_name\"] = \"oracle.frame_indexed.stratified_ds.2022A.pkl\"\n",
    "# standalone_parameters[\"num_examples_per_domain_per_label_source\"]=1000\n",
    "# standalone_parameters[\"num_examples_per_domain_per_label_target\"]=1000\n",
    "\n",
    "# Uncomment these for Metahan dataset\n",
    "# standalone_parameters[\"labels_source\"] = list(range(19))\n",
    "# standalone_parameters[\"labels_target\"] = list(range(19))\n",
    "# standalone_parameters[\"domains_source\"] = [0]\n",
    "# standalone_parameters[\"domains_target\"] = [1]\n",
    "# standalone_parameters[\"pickle_name\"] = \"metehan.stratified_ds.2022A.pkl\"\n",
    "# standalone_parameters[\"n_way\"]  = len(standalone_parameters[\"labels_source\"])\n",
    "# standalone_parameters[\"num_examples_per_domain_per_label_source\"]=200\n",
    "# standalone_parameters[\"num_examples_per_domain_per_label_target\"]=100\n",
    "\n",
    "\n",
    "standalone_parameters[\"n_way\"]  = len(standalone_parameters[\"labels_source\"])"
   ]
  },
  {
   "cell_type": "code",
   "execution_count": 4,
   "id": "15c36256",
   "metadata": {
    "execution": {
     "iopub.execute_input": "2022-03-26T01:44:12.443284Z",
     "iopub.status.busy": "2022-03-26T01:44:12.442653Z",
     "iopub.status.idle": "2022-03-26T01:44:12.461267Z",
     "shell.execute_reply": "2022-03-26T01:44:12.460439Z"
    },
    "papermill": {
     "duration": 0.043488,
     "end_time": "2022-03-26T01:44:12.461422",
     "exception": false,
     "start_time": "2022-03-26T01:44:12.417934",
     "status": "completed"
    },
    "tags": [
     "injected-parameters"
    ]
   },
   "outputs": [],
   "source": [
    "# Parameters\n",
    "parameters = {\n",
    "    \"experiment_name\": \"tuned_1v2:oracle.run1_limited\",\n",
    "    \"device\": \"cuda\",\n",
    "    \"lr\": 0.0001,\n",
    "    \"labels_source\": [\n",
    "        \"3123D52\",\n",
    "        \"3123D65\",\n",
    "        \"3123D79\",\n",
    "        \"3123D80\",\n",
    "        \"3123D54\",\n",
    "        \"3123D70\",\n",
    "        \"3123D7B\",\n",
    "        \"3123D89\",\n",
    "        \"3123D58\",\n",
    "        \"3123D76\",\n",
    "        \"3123D7D\",\n",
    "        \"3123EFE\",\n",
    "        \"3123D64\",\n",
    "        \"3123D78\",\n",
    "        \"3123D7E\",\n",
    "        \"3124E4A\",\n",
    "    ],\n",
    "    \"labels_target\": [\n",
    "        \"3123D52\",\n",
    "        \"3123D65\",\n",
    "        \"3123D79\",\n",
    "        \"3123D80\",\n",
    "        \"3123D54\",\n",
    "        \"3123D70\",\n",
    "        \"3123D7B\",\n",
    "        \"3123D89\",\n",
    "        \"3123D58\",\n",
    "        \"3123D76\",\n",
    "        \"3123D7D\",\n",
    "        \"3123EFE\",\n",
    "        \"3123D64\",\n",
    "        \"3123D78\",\n",
    "        \"3123D7E\",\n",
    "        \"3124E4A\",\n",
    "    ],\n",
    "    \"episode_transforms_source\": [],\n",
    "    \"episode_transforms_target\": [],\n",
    "    \"domains_source\": [8, 32, 50],\n",
    "    \"domains_target\": [14, 20, 26, 38, 44],\n",
    "    \"num_examples_per_domain_per_label_source\": -1,\n",
    "    \"num_examples_per_domain_per_label_target\": -1,\n",
    "    \"n_shot\": 3,\n",
    "    \"n_way\": 16,\n",
    "    \"n_query\": 2,\n",
    "    \"train_k_factor\": 3,\n",
    "    \"val_k_factor\": 2,\n",
    "    \"test_k_factor\": 2,\n",
    "    \"torch_default_dtype\": \"torch.float32\",\n",
    "    \"n_epoch\": 50,\n",
    "    \"patience\": 3,\n",
    "    \"criteria_for_best\": \"target_accuracy\",\n",
    "    \"x_net\": [\n",
    "        {\"class\": \"nnReshape\", \"kargs\": {\"shape\": [-1, 1, 2, 256]}},\n",
    "        {\n",
    "            \"class\": \"Conv2d\",\n",
    "            \"kargs\": {\n",
    "                \"in_channels\": 1,\n",
    "                \"out_channels\": 256,\n",
    "                \"kernel_size\": [1, 7],\n",
    "                \"bias\": False,\n",
    "                \"padding\": [0, 3],\n",
    "            },\n",
    "        },\n",
    "        {\"class\": \"ReLU\", \"kargs\": {\"inplace\": True}},\n",
    "        {\"class\": \"BatchNorm2d\", \"kargs\": {\"num_features\": 256}},\n",
    "        {\n",
    "            \"class\": \"Conv2d\",\n",
    "            \"kargs\": {\n",
    "                \"in_channels\": 256,\n",
    "                \"out_channels\": 80,\n",
    "                \"kernel_size\": [2, 7],\n",
    "                \"bias\": True,\n",
    "                \"padding\": [0, 3],\n",
    "            },\n",
    "        },\n",
    "        {\"class\": \"ReLU\", \"kargs\": {\"inplace\": True}},\n",
    "        {\"class\": \"BatchNorm2d\", \"kargs\": {\"num_features\": 80}},\n",
    "        {\"class\": \"Flatten\", \"kargs\": {}},\n",
    "        {\"class\": \"Linear\", \"kargs\": {\"in_features\": 20480, \"out_features\": 256}},\n",
    "        {\"class\": \"ReLU\", \"kargs\": {\"inplace\": True}},\n",
    "        {\"class\": \"BatchNorm1d\", \"kargs\": {\"num_features\": 256}},\n",
    "        {\"class\": \"Linear\", \"kargs\": {\"in_features\": 256, \"out_features\": 256}},\n",
    "    ],\n",
    "    \"NUM_LOGS_PER_EPOCH\": 10,\n",
    "    \"BEST_MODEL_PATH\": \"./best_model.pth\",\n",
    "    \"pickle_name\": \"oracle.Run1_10kExamples_stratified_ds.2022A.pkl\",\n",
    "    \"x_transforms_source\": [\"unit_mag\"],\n",
    "    \"x_transforms_target\": [\"unit_mag\"],\n",
    "    \"dataset_seed\": 420,\n",
    "    \"seed\": 420,\n",
    "}\n"
   ]
  },
  {
   "cell_type": "code",
   "execution_count": 5,
   "id": "8fa1cc33",
   "metadata": {
    "execution": {
     "iopub.execute_input": "2022-03-26T01:44:12.500884Z",
     "iopub.status.busy": "2022-03-26T01:44:12.500486Z",
     "iopub.status.idle": "2022-03-26T01:44:12.525966Z",
     "shell.execute_reply": "2022-03-26T01:44:12.525144Z"
    },
    "papermill": {
     "duration": 0.044711,
     "end_time": "2022-03-26T01:44:12.526119",
     "exception": false,
     "start_time": "2022-03-26T01:44:12.481408",
     "status": "completed"
    },
    "tags": []
   },
   "outputs": [],
   "source": [
    "# Set this to True if you want to run this template directly\n",
    "STANDALONE = False\n",
    "if STANDALONE:\n",
    "    print(\"parameters not injected, running with standalone_parameters\")\n",
    "    parameters = standalone_parameters\n",
    "\n",
    "if not 'parameters' in locals() and not 'parameters' in globals():\n",
    "    raise Exception(\"Parameter injection failed\")\n",
    "\n",
    "#Use an easy dict for all the parameters\n",
    "p = EasyDict(parameters)\n",
    "\n",
    "supplied_keys = set(p.keys())\n",
    "\n",
    "if  supplied_keys != required_parameters:\n",
    "    print(\"Parameters are incorrect\")\n",
    "    if len(supplied_keys - required_parameters)>0: print(\"Shouldn't have:\", str(supplied_keys - required_parameters))\n",
    "    if len(required_parameters - supplied_keys)>0: print(\"Need to have:\", str(required_parameters - supplied_keys))\n",
    "    raise RuntimeError(\"Parameters are incorrect\")\n",
    "\n"
   ]
  },
  {
   "cell_type": "code",
   "execution_count": 6,
   "id": "3a028d58",
   "metadata": {
    "execution": {
     "iopub.execute_input": "2022-03-26T01:44:12.565473Z",
     "iopub.status.busy": "2022-03-26T01:44:12.564959Z",
     "iopub.status.idle": "2022-03-26T01:44:12.588580Z",
     "shell.execute_reply": "2022-03-26T01:44:12.587755Z"
    },
    "papermill": {
     "duration": 0.042416,
     "end_time": "2022-03-26T01:44:12.588734",
     "exception": false,
     "start_time": "2022-03-26T01:44:12.546318",
     "status": "completed"
    },
    "tags": []
   },
   "outputs": [],
   "source": [
    "###################################\n",
    "# Set the RNGs and make it all deterministic\n",
    "###################################\n",
    "np.random.seed(p.seed)\n",
    "random.seed(p.seed)\n",
    "torch.manual_seed(p.seed)\n",
    "\n",
    "torch.use_deterministic_algorithms(True) "
   ]
  },
  {
   "cell_type": "code",
   "execution_count": 7,
   "id": "b691acf6",
   "metadata": {
    "execution": {
     "iopub.execute_input": "2022-03-26T01:44:12.628664Z",
     "iopub.status.busy": "2022-03-26T01:44:12.628079Z",
     "iopub.status.idle": "2022-03-26T01:44:12.651246Z",
     "shell.execute_reply": "2022-03-26T01:44:12.650417Z"
    },
    "papermill": {
     "duration": 0.041353,
     "end_time": "2022-03-26T01:44:12.651402",
     "exception": false,
     "start_time": "2022-03-26T01:44:12.610049",
     "status": "completed"
    },
    "tags": []
   },
   "outputs": [],
   "source": [
    "###########################################\n",
    "# The stratified datasets honor this\n",
    "###########################################\n",
    "torch.set_default_dtype(eval(p.torch_default_dtype))"
   ]
  },
  {
   "cell_type": "code",
   "execution_count": 8,
   "id": "b5fba671",
   "metadata": {
    "execution": {
     "iopub.execute_input": "2022-03-26T01:44:12.693250Z",
     "iopub.status.busy": "2022-03-26T01:44:12.692880Z",
     "iopub.status.idle": "2022-03-26T01:44:12.746320Z",
     "shell.execute_reply": "2022-03-26T01:44:12.745505Z"
    },
    "papermill": {
     "duration": 0.070933,
     "end_time": "2022-03-26T01:44:12.746478",
     "exception": false,
     "start_time": "2022-03-26T01:44:12.675545",
     "status": "completed"
    },
    "tags": []
   },
   "outputs": [],
   "source": [
    "###################################\n",
    "# Build the network(s)\n",
    "# Note: It's critical to do this AFTER setting the RNG\n",
    "# (This is due to the randomized initial weights)\n",
    "###################################\n",
    "x_net = build_sequential(p.x_net)"
   ]
  },
  {
   "cell_type": "code",
   "execution_count": 9,
   "id": "5d7e61cc",
   "metadata": {
    "execution": {
     "iopub.execute_input": "2022-03-26T01:44:12.784544Z",
     "iopub.status.busy": "2022-03-26T01:44:12.784124Z",
     "iopub.status.idle": "2022-03-26T01:44:12.810729Z",
     "shell.execute_reply": "2022-03-26T01:44:12.809926Z"
    },
    "papermill": {
     "duration": 0.044621,
     "end_time": "2022-03-26T01:44:12.810880",
     "exception": false,
     "start_time": "2022-03-26T01:44:12.766259",
     "status": "completed"
    },
    "tags": []
   },
   "outputs": [],
   "source": [
    "start_time_secs = time.time()"
   ]
  },
  {
   "cell_type": "code",
   "execution_count": 10,
   "id": "fd5442bc",
   "metadata": {
    "execution": {
     "iopub.execute_input": "2022-03-26T01:44:12.858951Z",
     "iopub.status.busy": "2022-03-26T01:44:12.858082Z",
     "iopub.status.idle": "2022-03-26T01:46:01.197625Z",
     "shell.execute_reply": "2022-03-26T01:46:01.196714Z"
    },
    "papermill": {
     "duration": 108.365067,
     "end_time": "2022-03-26T01:46:01.197814",
     "exception": false,
     "start_time": "2022-03-26T01:44:12.832747",
     "status": "completed"
    },
    "tags": []
   },
   "outputs": [],
   "source": [
    "###################################\n",
    "# Build the dataset\n",
    "###################################\n",
    "\n",
    "if p.x_transforms_source == []: x_transform_source = None\n",
    "else: x_transform_source = get_chained_transform(p.x_transforms_source) \n",
    "\n",
    "if p.x_transforms_target == []: x_transform_target = None\n",
    "else: x_transform_target = get_chained_transform(p.x_transforms_target)\n",
    "\n",
    "if p.episode_transforms_source == []: episode_transform_source = None\n",
    "else: raise Exception(\"episode_transform_source not implemented\")\n",
    "\n",
    "if p.episode_transforms_target == []: episode_transform_target = None\n",
    "else: raise Exception(\"episode_transform_target not implemented\")\n",
    "\n",
    "\n",
    "eaf_source = Episodic_Accessor_Factory(\n",
    "    labels=p.labels_source,\n",
    "    domains=p.domains_source,\n",
    "    num_examples_per_domain_per_label=p.num_examples_per_domain_per_label_source,\n",
    "    iterator_seed=p.seed,\n",
    "    dataset_seed=p.dataset_seed,\n",
    "    n_shot=p.n_shot,\n",
    "    n_way=p.n_way,\n",
    "    n_query=p.n_query,\n",
    "    train_val_test_k_factors=(p.train_k_factor,p.val_k_factor,p.test_k_factor),\n",
    "    pickle_path=os.path.join(get_datasets_base_path(), p.pickle_name),\n",
    "    x_transform_func=x_transform_source,\n",
    "    example_transform_func=episode_transform_source,\n",
    "    \n",
    ")\n",
    "train_original_source, val_original_source, test_original_source = eaf_source.get_train(), eaf_source.get_val(), eaf_source.get_test()\n",
    "\n",
    "\n",
    "eaf_target = Episodic_Accessor_Factory(\n",
    "    labels=p.labels_target,\n",
    "    domains=p.domains_target,\n",
    "    num_examples_per_domain_per_label=p.num_examples_per_domain_per_label_target,\n",
    "    iterator_seed=p.seed,\n",
    "    dataset_seed=p.dataset_seed,\n",
    "    n_shot=p.n_shot,\n",
    "    n_way=p.n_way,\n",
    "    n_query=p.n_query,\n",
    "    train_val_test_k_factors=(p.train_k_factor,p.val_k_factor,p.test_k_factor),\n",
    "    pickle_path=os.path.join(get_datasets_base_path(), p.pickle_name),\n",
    "    x_transform_func=x_transform_target,\n",
    "    example_transform_func=episode_transform_target,\n",
    ")\n",
    "train_original_target, val_original_target, test_original_target = eaf_target.get_train(), eaf_target.get_val(), eaf_target.get_test()\n",
    "\n",
    "\n",
    "transform_lambda = lambda ex: ex[1] # Original is (<domain>, <episode>) so we strip down to episode only\n",
    "\n",
    "train_processed_source = Lazy_Iterable_Wrapper(train_original_source, transform_lambda)\n",
    "val_processed_source   = Lazy_Iterable_Wrapper(val_original_source, transform_lambda)\n",
    "test_processed_source  = Lazy_Iterable_Wrapper(test_original_source, transform_lambda)\n",
    "\n",
    "train_processed_target = Lazy_Iterable_Wrapper(train_original_target, transform_lambda)\n",
    "val_processed_target   = Lazy_Iterable_Wrapper(val_original_target, transform_lambda)\n",
    "test_processed_target  = Lazy_Iterable_Wrapper(test_original_target, transform_lambda)\n",
    "\n",
    "datasets = EasyDict({\n",
    "    \"source\": {\n",
    "        \"original\": {\"train\":train_original_source, \"val\":val_original_source, \"test\":test_original_source},\n",
    "        \"processed\": {\"train\":train_processed_source, \"val\":val_processed_source, \"test\":test_processed_source}\n",
    "    },\n",
    "    \"target\": {\n",
    "        \"original\": {\"train\":train_original_target, \"val\":val_original_target, \"test\":test_original_target},\n",
    "        \"processed\": {\"train\":train_processed_target, \"val\":val_processed_target, \"test\":test_processed_target}\n",
    "    },\n",
    "})"
   ]
  },
  {
   "cell_type": "code",
   "execution_count": 11,
   "id": "296189d9",
   "metadata": {
    "execution": {
     "iopub.execute_input": "2022-03-26T01:46:01.242813Z",
     "iopub.status.busy": "2022-03-26T01:46:01.242236Z",
     "iopub.status.idle": "2022-03-26T01:46:07.509276Z",
     "shell.execute_reply": "2022-03-26T01:46:07.508923Z"
    },
    "papermill": {
     "duration": 6.289997,
     "end_time": "2022-03-26T01:46:07.509377",
     "exception": false,
     "start_time": "2022-03-26T01:46:01.219380",
     "status": "completed"
    },
    "tags": []
   },
   "outputs": [
    {
     "name": "stdout",
     "output_type": "stream",
     "text": [
      "Visually inspect these to see if they line up with expected values given the transforms\n",
      "x_transforms_source ['unit_mag']\n",
      "x_transforms_target ['unit_mag']\n",
      "Average magnitude, source: 1.0\n",
      "Average power, source: 1.2039526\n"
     ]
    },
    {
     "name": "stdout",
     "output_type": "stream",
     "text": [
      "Average magnitude, target: 1.0\n",
      "Average power, target: 1.2937696\n"
     ]
    }
   ],
   "source": [
    "# Some quick unit tests on the data\n",
    "from steves_utils.transforms import get_average_power, get_average_magnitude\n",
    "\n",
    "q_x, q_y, s_x, s_y, truth = next(iter(train_processed_source))\n",
    "\n",
    "assert q_x.dtype == eval(p.torch_default_dtype)\n",
    "assert s_x.dtype == eval(p.torch_default_dtype)\n",
    "\n",
    "print(\"Visually inspect these to see if they line up with expected values given the transforms\")\n",
    "print('x_transforms_source', p.x_transforms_source)\n",
    "print('x_transforms_target', p.x_transforms_target)\n",
    "print(\"Average magnitude, source:\", get_average_magnitude(q_x[0].numpy()))\n",
    "print(\"Average power, source:\", get_average_power(q_x[0].numpy()))\n",
    "\n",
    "q_x, q_y, s_x, s_y, truth = next(iter(train_processed_target))\n",
    "print(\"Average magnitude, target:\", get_average_magnitude(q_x[0].numpy()))\n",
    "print(\"Average power, target:\", get_average_power(q_x[0].numpy()))\n"
   ]
  },
  {
   "cell_type": "code",
   "execution_count": 12,
   "id": "bbdacba1",
   "metadata": {
    "execution": {
     "iopub.execute_input": "2022-03-26T01:46:07.549131Z",
     "iopub.status.busy": "2022-03-26T01:46:07.548534Z",
     "iopub.status.idle": "2022-03-26T01:46:07.777973Z",
     "shell.execute_reply": "2022-03-26T01:46:07.778657Z"
    },
    "papermill": {
     "duration": 0.252679,
     "end_time": "2022-03-26T01:46:07.778931",
     "exception": false,
     "start_time": "2022-03-26T01:46:07.526252",
     "status": "completed"
    },
    "tags": []
   },
   "outputs": [
    {
     "name": "stdout",
     "output_type": "stream",
     "text": [
      "(2, 256)\n"
     ]
    }
   ],
   "source": [
    "###################################\n",
    "# Build the model\n",
    "###################################\n",
    "model = Steves_Prototypical_Network(x_net, device=p.device, x_shape=(2,256))\n",
    "optimizer = Adam(params=model.parameters(), lr=p.lr)"
   ]
  },
  {
   "cell_type": "code",
   "execution_count": 13,
   "id": "22b39ac5",
   "metadata": {
    "execution": {
     "iopub.execute_input": "2022-03-26T01:46:07.823942Z",
     "iopub.status.busy": "2022-03-26T01:46:07.823523Z",
     "iopub.status.idle": "2022-03-26T03:01:52.810421Z",
     "shell.execute_reply": "2022-03-26T03:01:52.810075Z"
    },
    "papermill": {
     "duration": 4545.006633,
     "end_time": "2022-03-26T03:01:52.810509",
     "exception": false,
     "start_time": "2022-03-26T01:46:07.803876",
     "status": "completed"
    },
    "tags": []
   },
   "outputs": [
    {
     "name": "stdout",
     "output_type": "stream",
     "text": [
      "epoch: 1, [batch: 1 / 12600], examples_per_second: 17.4281, train_label_loss: 2.7824, \n"
     ]
    },
    {
     "name": "stdout",
     "output_type": "stream",
     "text": [
      "epoch: 1, [batch: 1260 / 12600], examples_per_second: 2305.2141, train_label_loss: 1.5323, \n"
     ]
    },
    {
     "name": "stdout",
     "output_type": "stream",
     "text": [
      "epoch: 1, [batch: 2520 / 12600], examples_per_second: 2990.0050, train_label_loss: 1.3034, \n"
     ]
    },
    {
     "name": "stdout",
     "output_type": "stream",
     "text": [
      "epoch: 1, [batch: 3780 / 12600], examples_per_second: 2590.0205, train_label_loss: 1.2469, \n"
     ]
    },
    {
     "name": "stdout",
     "output_type": "stream",
     "text": [
      "epoch: 1, [batch: 5040 / 12600], examples_per_second: 3562.3070, train_label_loss: 1.2985, \n"
     ]
    },
    {
     "name": "stdout",
     "output_type": "stream",
     "text": [
      "epoch: 1, [batch: 6300 / 12600], examples_per_second: 2032.9917, train_label_loss: 1.2588, \n"
     ]
    },
    {
     "name": "stdout",
     "output_type": "stream",
     "text": [
      "epoch: 1, [batch: 7560 / 12600], examples_per_second: 4669.5336, train_label_loss: 1.1929, \n"
     ]
    },
    {
     "name": "stdout",
     "output_type": "stream",
     "text": [
      "epoch: 1, [batch: 8820 / 12600], examples_per_second: 2206.3223, train_label_loss: 1.1993, \n"
     ]
    },
    {
     "name": "stdout",
     "output_type": "stream",
     "text": [
      "epoch: 1, [batch: 10080 / 12600], examples_per_second: 3538.6208, train_label_loss: 1.3033, \n"
     ]
    },
    {
     "name": "stdout",
     "output_type": "stream",
     "text": [
      "epoch: 1, [batch: 11340 / 12600], examples_per_second: 2129.9273, train_label_loss: 0.8732, \n"
     ]
    },
    {
     "name": "stdout",
     "output_type": "stream",
     "text": [
      "=============================================================\n",
      "epoch: 1, source_val_acc_label: 0.6089, target_val_acc_label: 0.5164, source_val_label_loss: 1.0710, target_val_label_loss: 1.3126, \n",
      "=============================================================\n"
     ]
    },
    {
     "name": "stdout",
     "output_type": "stream",
     "text": [
      "New best\n"
     ]
    },
    {
     "name": "stdout",
     "output_type": "stream",
     "text": [
      "epoch: 2, [batch: 1 / 12600], examples_per_second: 1.1402, train_label_loss: 1.2975, \n"
     ]
    },
    {
     "name": "stdout",
     "output_type": "stream",
     "text": [
      "epoch: 2, [batch: 1260 / 12600], examples_per_second: 2221.5440, train_label_loss: 1.1498, \n"
     ]
    },
    {
     "name": "stdout",
     "output_type": "stream",
     "text": [
      "epoch: 2, [batch: 2520 / 12600], examples_per_second: 3417.0736, train_label_loss: 0.6199, \n"
     ]
    },
    {
     "name": "stdout",
     "output_type": "stream",
     "text": [
      "epoch: 2, [batch: 3780 / 12600], examples_per_second: 2310.4837, train_label_loss: 1.3823, \n"
     ]
    },
    {
     "name": "stdout",
     "output_type": "stream",
     "text": [
      "epoch: 2, [batch: 5040 / 12600], examples_per_second: 3665.1406, train_label_loss: 0.9432, \n"
     ]
    },
    {
     "name": "stdout",
     "output_type": "stream",
     "text": [
      "epoch: 2, [batch: 6300 / 12600], examples_per_second: 2001.6685, train_label_loss: 0.9226, \n"
     ]
    },
    {
     "name": "stdout",
     "output_type": "stream",
     "text": [
      "epoch: 2, [batch: 7560 / 12600], examples_per_second: 4412.5365, train_label_loss: 0.9874, \n"
     ]
    },
    {
     "name": "stdout",
     "output_type": "stream",
     "text": [
      "epoch: 2, [batch: 8820 / 12600], examples_per_second: 2206.2328, train_label_loss: 1.2458, \n"
     ]
    },
    {
     "name": "stdout",
     "output_type": "stream",
     "text": [
      "epoch: 2, [batch: 10080 / 12600], examples_per_second: 3593.0577, train_label_loss: 0.8341, \n"
     ]
    },
    {
     "name": "stdout",
     "output_type": "stream",
     "text": [
      "epoch: 2, [batch: 11340 / 12600], examples_per_second: 2189.7338, train_label_loss: 0.9113, \n"
     ]
    },
    {
     "name": "stdout",
     "output_type": "stream",
     "text": [
      "=============================================================\n",
      "epoch: 2, source_val_acc_label: 0.6640, target_val_acc_label: 0.5831, source_val_label_loss: 0.8967, target_val_label_loss: 1.1040, \n",
      "=============================================================\n"
     ]
    },
    {
     "name": "stdout",
     "output_type": "stream",
     "text": [
      "New best\n"
     ]
    },
    {
     "name": "stdout",
     "output_type": "stream",
     "text": [
      "epoch: 3, [batch: 1 / 12600], examples_per_second: 1.1105, train_label_loss: 0.5953, \n"
     ]
    },
    {
     "name": "stdout",
     "output_type": "stream",
     "text": [
      "epoch: 3, [batch: 1260 / 12600], examples_per_second: 1857.1333, train_label_loss: 0.8985, \n"
     ]
    },
    {
     "name": "stdout",
     "output_type": "stream",
     "text": [
      "epoch: 3, [batch: 2520 / 12600], examples_per_second: 3639.1786, train_label_loss: 0.8784, \n"
     ]
    },
    {
     "name": "stdout",
     "output_type": "stream",
     "text": [
      "epoch: 3, [batch: 3780 / 12600], examples_per_second: 2152.3242, train_label_loss: 0.9664, \n"
     ]
    },
    {
     "name": "stdout",
     "output_type": "stream",
     "text": [
      "epoch: 3, [batch: 5040 / 12600], examples_per_second: 2927.2275, train_label_loss: 0.8372, \n"
     ]
    },
    {
     "name": "stdout",
     "output_type": "stream",
     "text": [
      "epoch: 3, [batch: 6300 / 12600], examples_per_second: 2949.4059, train_label_loss: 1.0621, \n"
     ]
    },
    {
     "name": "stdout",
     "output_type": "stream",
     "text": [
      "epoch: 3, [batch: 7560 / 12600], examples_per_second: 2226.0685, train_label_loss: 0.6660, \n"
     ]
    },
    {
     "name": "stdout",
     "output_type": "stream",
     "text": [
      "epoch: 3, [batch: 8820 / 12600], examples_per_second: 4031.1301, train_label_loss: 0.7759, \n"
     ]
    },
    {
     "name": "stdout",
     "output_type": "stream",
     "text": [
      "epoch: 3, [batch: 10080 / 12600], examples_per_second: 1925.4138, train_label_loss: 0.5409, \n"
     ]
    },
    {
     "name": "stdout",
     "output_type": "stream",
     "text": [
      "epoch: 3, [batch: 11340 / 12600], examples_per_second: 3321.7634, train_label_loss: 0.7230, \n"
     ]
    },
    {
     "name": "stdout",
     "output_type": "stream",
     "text": [
      "=============================================================\n",
      "epoch: 3, source_val_acc_label: 0.6764, target_val_acc_label: 0.5971, source_val_label_loss: 0.8773, target_val_label_loss: 1.0742, \n",
      "=============================================================\n"
     ]
    },
    {
     "name": "stdout",
     "output_type": "stream",
     "text": [
      "New best\n"
     ]
    },
    {
     "name": "stdout",
     "output_type": "stream",
     "text": [
      "epoch: 4, [batch: 1 / 12600], examples_per_second: 0.9515, train_label_loss: 0.6406, \n"
     ]
    },
    {
     "name": "stdout",
     "output_type": "stream",
     "text": [
      "epoch: 4, [batch: 1260 / 12600], examples_per_second: 2429.9335, train_label_loss: 0.6649, \n"
     ]
    },
    {
     "name": "stdout",
     "output_type": "stream",
     "text": [
      "epoch: 4, [batch: 2520 / 12600], examples_per_second: 3061.8020, train_label_loss: 0.6745, \n"
     ]
    },
    {
     "name": "stdout",
     "output_type": "stream",
     "text": [
      "epoch: 4, [batch: 3780 / 12600], examples_per_second: 2297.7427, train_label_loss: 0.8017, \n"
     ]
    },
    {
     "name": "stdout",
     "output_type": "stream",
     "text": [
      "epoch: 4, [batch: 5040 / 12600], examples_per_second: 2583.7970, train_label_loss: 0.5517, \n"
     ]
    },
    {
     "name": "stdout",
     "output_type": "stream",
     "text": [
      "epoch: 4, [batch: 6300 / 12600], examples_per_second: 3341.9508, train_label_loss: 0.7662, \n"
     ]
    },
    {
     "name": "stdout",
     "output_type": "stream",
     "text": [
      "epoch: 4, [batch: 7560 / 12600], examples_per_second: 2122.9308, train_label_loss: 0.8115, \n"
     ]
    },
    {
     "name": "stdout",
     "output_type": "stream",
     "text": [
      "epoch: 4, [batch: 8820 / 12600], examples_per_second: 3698.0919, train_label_loss: 0.4767, \n"
     ]
    },
    {
     "name": "stdout",
     "output_type": "stream",
     "text": [
      "epoch: 4, [batch: 10080 / 12600], examples_per_second: 2077.6167, train_label_loss: 0.4541, \n"
     ]
    },
    {
     "name": "stdout",
     "output_type": "stream",
     "text": [
      "epoch: 4, [batch: 11340 / 12600], examples_per_second: 3537.2158, train_label_loss: 0.6089, \n"
     ]
    },
    {
     "name": "stdout",
     "output_type": "stream",
     "text": [
      "=============================================================\n",
      "epoch: 4, source_val_acc_label: 0.6719, target_val_acc_label: 0.5948, source_val_label_loss: 0.8667, target_val_label_loss: 1.0774, \n",
      "=============================================================\n"
     ]
    },
    {
     "name": "stdout",
     "output_type": "stream",
     "text": [
      "epoch: 5, [batch: 1 / 12600], examples_per_second: 0.9841, train_label_loss: 0.5031, \n"
     ]
    },
    {
     "name": "stdout",
     "output_type": "stream",
     "text": [
      "epoch: 5, [batch: 1260 / 12600], examples_per_second: 2256.8728, train_label_loss: 0.7214, \n"
     ]
    },
    {
     "name": "stdout",
     "output_type": "stream",
     "text": [
      "epoch: 5, [batch: 2520 / 12600], examples_per_second: 3394.9186, train_label_loss: 0.3384, \n"
     ]
    },
    {
     "name": "stdout",
     "output_type": "stream",
     "text": [
      "epoch: 5, [batch: 3780 / 12600], examples_per_second: 2323.0154, train_label_loss: 0.4153, \n"
     ]
    },
    {
     "name": "stdout",
     "output_type": "stream",
     "text": [
      "epoch: 5, [batch: 5040 / 12600], examples_per_second: 2848.2920, train_label_loss: 0.5652, \n"
     ]
    },
    {
     "name": "stdout",
     "output_type": "stream",
     "text": [
      "epoch: 5, [batch: 6300 / 12600], examples_per_second: 3055.3047, train_label_loss: 0.6926, \n"
     ]
    },
    {
     "name": "stdout",
     "output_type": "stream",
     "text": [
      "epoch: 5, [batch: 7560 / 12600], examples_per_second: 2198.1082, train_label_loss: 0.5207, \n"
     ]
    },
    {
     "name": "stdout",
     "output_type": "stream",
     "text": [
      "epoch: 5, [batch: 8820 / 12600], examples_per_second: 3578.6059, train_label_loss: 0.8587, \n"
     ]
    },
    {
     "name": "stdout",
     "output_type": "stream",
     "text": [
      "epoch: 5, [batch: 10080 / 12600], examples_per_second: 1907.7137, train_label_loss: 0.9027, \n"
     ]
    },
    {
     "name": "stdout",
     "output_type": "stream",
     "text": [
      "epoch: 5, [batch: 11340 / 12600], examples_per_second: 2844.0199, train_label_loss: 0.5688, \n"
     ]
    },
    {
     "name": "stdout",
     "output_type": "stream",
     "text": [
      "=============================================================\n",
      "epoch: 5, source_val_acc_label: 0.6820, target_val_acc_label: 0.6071, source_val_label_loss: 0.8745, target_val_label_loss: 1.0735, \n",
      "=============================================================\n"
     ]
    },
    {
     "name": "stdout",
     "output_type": "stream",
     "text": [
      "New best\n"
     ]
    },
    {
     "name": "stdout",
     "output_type": "stream",
     "text": [
      "epoch: 6, [batch: 1 / 12600], examples_per_second: 1.2357, train_label_loss: 0.7411, \n"
     ]
    },
    {
     "name": "stdout",
     "output_type": "stream",
     "text": [
      "epoch: 6, [batch: 1260 / 12600], examples_per_second: 3955.7567, train_label_loss: 0.5861, \n"
     ]
    },
    {
     "name": "stdout",
     "output_type": "stream",
     "text": [
      "epoch: 6, [batch: 2520 / 12600], examples_per_second: 3873.7786, train_label_loss: 0.4397, \n"
     ]
    },
    {
     "name": "stdout",
     "output_type": "stream",
     "text": [
      "epoch: 6, [batch: 3780 / 12600], examples_per_second: 4077.6174, train_label_loss: 0.3523, \n"
     ]
    },
    {
     "name": "stdout",
     "output_type": "stream",
     "text": [
      "epoch: 6, [batch: 5040 / 12600], examples_per_second: 4398.9117, train_label_loss: 0.6751, \n"
     ]
    },
    {
     "name": "stdout",
     "output_type": "stream",
     "text": [
      "epoch: 6, [batch: 6300 / 12600], examples_per_second: 4630.8881, train_label_loss: 0.6516, \n"
     ]
    },
    {
     "name": "stdout",
     "output_type": "stream",
     "text": [
      "epoch: 6, [batch: 7560 / 12600], examples_per_second: 4240.9050, train_label_loss: 0.5512, \n"
     ]
    },
    {
     "name": "stdout",
     "output_type": "stream",
     "text": [
      "epoch: 6, [batch: 8820 / 12600], examples_per_second: 3858.1641, train_label_loss: 0.5853, \n"
     ]
    },
    {
     "name": "stdout",
     "output_type": "stream",
     "text": [
      "epoch: 6, [batch: 10080 / 12600], examples_per_second: 3904.0963, train_label_loss: 0.3169, \n"
     ]
    },
    {
     "name": "stdout",
     "output_type": "stream",
     "text": [
      "epoch: 6, [batch: 11340 / 12600], examples_per_second: 3954.4766, train_label_loss: 0.6178, \n"
     ]
    },
    {
     "name": "stdout",
     "output_type": "stream",
     "text": [
      "=============================================================\n",
      "epoch: 6, source_val_acc_label: 0.6894, target_val_acc_label: 0.6103, source_val_label_loss: 0.9038, target_val_label_loss: 1.1020, \n",
      "=============================================================\n"
     ]
    },
    {
     "name": "stdout",
     "output_type": "stream",
     "text": [
      "New best\n"
     ]
    },
    {
     "name": "stdout",
     "output_type": "stream",
     "text": [
      "epoch: 7, [batch: 1 / 12600], examples_per_second: 1.7982, train_label_loss: 0.4667, \n"
     ]
    },
    {
     "name": "stdout",
     "output_type": "stream",
     "text": [
      "epoch: 7, [batch: 1260 / 12600], examples_per_second: 3881.4237, train_label_loss: 0.4378, \n"
     ]
    },
    {
     "name": "stdout",
     "output_type": "stream",
     "text": [
      "epoch: 7, [batch: 2520 / 12600], examples_per_second: 3878.6354, train_label_loss: 0.8266, \n"
     ]
    },
    {
     "name": "stdout",
     "output_type": "stream",
     "text": [
      "epoch: 7, [batch: 3780 / 12600], examples_per_second: 4157.0619, train_label_loss: 0.3882, \n"
     ]
    },
    {
     "name": "stdout",
     "output_type": "stream",
     "text": [
      "epoch: 7, [batch: 5040 / 12600], examples_per_second: 4415.4609, train_label_loss: 0.6861, \n"
     ]
    },
    {
     "name": "stdout",
     "output_type": "stream",
     "text": [
      "epoch: 7, [batch: 6300 / 12600], examples_per_second: 4575.9340, train_label_loss: 0.5918, \n"
     ]
    },
    {
     "name": "stdout",
     "output_type": "stream",
     "text": [
      "epoch: 7, [batch: 7560 / 12600], examples_per_second: 4517.7967, train_label_loss: 0.4470, \n"
     ]
    },
    {
     "name": "stdout",
     "output_type": "stream",
     "text": [
      "epoch: 7, [batch: 8820 / 12600], examples_per_second: 3845.9836, train_label_loss: 0.2501, \n"
     ]
    },
    {
     "name": "stdout",
     "output_type": "stream",
     "text": [
      "epoch: 7, [batch: 10080 / 12600], examples_per_second: 3866.5485, train_label_loss: 0.3309, \n"
     ]
    },
    {
     "name": "stdout",
     "output_type": "stream",
     "text": [
      "epoch: 7, [batch: 11340 / 12600], examples_per_second: 3994.8159, train_label_loss: 0.3439, \n"
     ]
    },
    {
     "name": "stdout",
     "output_type": "stream",
     "text": [
      "=============================================================\n",
      "epoch: 7, source_val_acc_label: 0.6893, target_val_acc_label: 0.6103, source_val_label_loss: 0.9215, target_val_label_loss: 1.1280, \n",
      "=============================================================\n"
     ]
    },
    {
     "name": "stdout",
     "output_type": "stream",
     "text": [
      "New best\n"
     ]
    },
    {
     "name": "stdout",
     "output_type": "stream",
     "text": [
      "epoch: 8, [batch: 1 / 12600], examples_per_second: 1.7852, train_label_loss: 0.1670, \n"
     ]
    },
    {
     "name": "stdout",
     "output_type": "stream",
     "text": [
      "epoch: 8, [batch: 1260 / 12600], examples_per_second: 3995.7801, train_label_loss: 0.3271, \n"
     ]
    },
    {
     "name": "stdout",
     "output_type": "stream",
     "text": [
      "epoch: 8, [batch: 2520 / 12600], examples_per_second: 3964.7938, train_label_loss: 0.5514, \n"
     ]
    },
    {
     "name": "stdout",
     "output_type": "stream",
     "text": [
      "epoch: 8, [batch: 3780 / 12600], examples_per_second: 4006.0659, train_label_loss: 0.3774, \n"
     ]
    },
    {
     "name": "stdout",
     "output_type": "stream",
     "text": [
      "epoch: 8, [batch: 5040 / 12600], examples_per_second: 4392.9197, train_label_loss: 0.4030, \n"
     ]
    },
    {
     "name": "stdout",
     "output_type": "stream",
     "text": [
      "epoch: 8, [batch: 6300 / 12600], examples_per_second: 4410.9587, train_label_loss: 0.4532, \n"
     ]
    },
    {
     "name": "stdout",
     "output_type": "stream",
     "text": [
      "epoch: 8, [batch: 7560 / 12600], examples_per_second: 4777.2607, train_label_loss: 0.2620, \n"
     ]
    },
    {
     "name": "stdout",
     "output_type": "stream",
     "text": [
      "epoch: 8, [batch: 8820 / 12600], examples_per_second: 3958.0309, train_label_loss: 0.3078, \n"
     ]
    },
    {
     "name": "stdout",
     "output_type": "stream",
     "text": [
      "epoch: 8, [batch: 10080 / 12600], examples_per_second: 4061.5914, train_label_loss: 0.2946, \n"
     ]
    },
    {
     "name": "stdout",
     "output_type": "stream",
     "text": [
      "epoch: 8, [batch: 11340 / 12600], examples_per_second: 4026.5445, train_label_loss: 0.3760, \n"
     ]
    },
    {
     "name": "stdout",
     "output_type": "stream",
     "text": [
      "=============================================================\n",
      "epoch: 8, source_val_acc_label: 0.6919, target_val_acc_label: 0.6116, source_val_label_loss: 0.9700, target_val_label_loss: 1.1699, \n",
      "=============================================================\n"
     ]
    },
    {
     "name": "stdout",
     "output_type": "stream",
     "text": [
      "New best\n"
     ]
    },
    {
     "name": "stdout",
     "output_type": "stream",
     "text": [
      "epoch: 9, [batch: 1 / 12600], examples_per_second: 1.7663, train_label_loss: 0.4226, \n"
     ]
    },
    {
     "name": "stdout",
     "output_type": "stream",
     "text": [
      "epoch: 9, [batch: 1260 / 12600], examples_per_second: 3928.8410, train_label_loss: 0.1218, \n"
     ]
    },
    {
     "name": "stdout",
     "output_type": "stream",
     "text": [
      "epoch: 9, [batch: 2520 / 12600], examples_per_second: 3896.4874, train_label_loss: 0.4194, \n"
     ]
    },
    {
     "name": "stdout",
     "output_type": "stream",
     "text": [
      "epoch: 9, [batch: 3780 / 12600], examples_per_second: 3931.2437, train_label_loss: 0.4876, \n"
     ]
    },
    {
     "name": "stdout",
     "output_type": "stream",
     "text": [
      "epoch: 9, [batch: 5040 / 12600], examples_per_second: 4275.0725, train_label_loss: 0.4438, \n"
     ]
    },
    {
     "name": "stdout",
     "output_type": "stream",
     "text": [
      "epoch: 9, [batch: 6300 / 12600], examples_per_second: 4330.7592, train_label_loss: 0.2822, \n"
     ]
    },
    {
     "name": "stdout",
     "output_type": "stream",
     "text": [
      "epoch: 9, [batch: 7560 / 12600], examples_per_second: 4734.1683, train_label_loss: 0.4765, \n"
     ]
    },
    {
     "name": "stdout",
     "output_type": "stream",
     "text": [
      "epoch: 9, [batch: 8820 / 12600], examples_per_second: 3869.1624, train_label_loss: 0.0638, \n"
     ]
    },
    {
     "name": "stdout",
     "output_type": "stream",
     "text": [
      "epoch: 9, [batch: 10080 / 12600], examples_per_second: 3924.6679, train_label_loss: 0.2952, \n"
     ]
    },
    {
     "name": "stdout",
     "output_type": "stream",
     "text": [
      "epoch: 9, [batch: 11340 / 12600], examples_per_second: 3952.9743, train_label_loss: 0.2581, \n"
     ]
    },
    {
     "name": "stdout",
     "output_type": "stream",
     "text": [
      "=============================================================\n",
      "epoch: 9, source_val_acc_label: 0.6885, target_val_acc_label: 0.6090, source_val_label_loss: 1.0109, target_val_label_loss: 1.2198, \n",
      "=============================================================\n"
     ]
    },
    {
     "name": "stdout",
     "output_type": "stream",
     "text": [
      "epoch: 10, [batch: 1 / 12600], examples_per_second: 1.7807, train_label_loss: 0.1732, \n"
     ]
    },
    {
     "name": "stdout",
     "output_type": "stream",
     "text": [
      "epoch: 10, [batch: 1260 / 12600], examples_per_second: 3958.7513, train_label_loss: 0.3007, \n"
     ]
    },
    {
     "name": "stdout",
     "output_type": "stream",
     "text": [
      "epoch: 10, [batch: 2520 / 12600], examples_per_second: 3922.9602, train_label_loss: 0.3554, \n"
     ]
    },
    {
     "name": "stdout",
     "output_type": "stream",
     "text": [
      "epoch: 10, [batch: 3780 / 12600], examples_per_second: 4247.3549, train_label_loss: 0.3501, \n"
     ]
    },
    {
     "name": "stdout",
     "output_type": "stream",
     "text": [
      "epoch: 10, [batch: 5040 / 12600], examples_per_second: 4295.9850, train_label_loss: 0.4313, \n"
     ]
    },
    {
     "name": "stdout",
     "output_type": "stream",
     "text": [
      "epoch: 10, [batch: 6300 / 12600], examples_per_second: 4311.3744, train_label_loss: 0.1208, \n"
     ]
    },
    {
     "name": "stdout",
     "output_type": "stream",
     "text": [
      "epoch: 10, [batch: 7560 / 12600], examples_per_second: 4418.6247, train_label_loss: 0.1321, \n"
     ]
    },
    {
     "name": "stdout",
     "output_type": "stream",
     "text": [
      "epoch: 10, [batch: 8820 / 12600], examples_per_second: 3916.5196, train_label_loss: 0.2388, \n"
     ]
    },
    {
     "name": "stdout",
     "output_type": "stream",
     "text": [
      "epoch: 10, [batch: 10080 / 12600], examples_per_second: 3920.6197, train_label_loss: 0.2314, \n"
     ]
    },
    {
     "name": "stdout",
     "output_type": "stream",
     "text": [
      "epoch: 10, [batch: 11340 / 12600], examples_per_second: 4008.1593, train_label_loss: 0.2806, \n"
     ]
    },
    {
     "name": "stdout",
     "output_type": "stream",
     "text": [
      "=============================================================\n",
      "epoch: 10, source_val_acc_label: 0.6815, target_val_acc_label: 0.6035, source_val_label_loss: 1.0798, target_val_label_loss: 1.2677, \n",
      "=============================================================\n"
     ]
    },
    {
     "name": "stdout",
     "output_type": "stream",
     "text": [
      "epoch: 11, [batch: 1 / 12600], examples_per_second: 1.7967, train_label_loss: 0.1689, \n"
     ]
    },
    {
     "name": "stdout",
     "output_type": "stream",
     "text": [
      "epoch: 11, [batch: 1260 / 12600], examples_per_second: 4011.2235, train_label_loss: 0.2398, \n"
     ]
    },
    {
     "name": "stdout",
     "output_type": "stream",
     "text": [
      "epoch: 11, [batch: 2520 / 12600], examples_per_second: 3894.2945, train_label_loss: 0.3846, \n"
     ]
    },
    {
     "name": "stdout",
     "output_type": "stream",
     "text": [
      "epoch: 11, [batch: 3780 / 12600], examples_per_second: 4243.8997, train_label_loss: 0.1447, \n"
     ]
    },
    {
     "name": "stdout",
     "output_type": "stream",
     "text": [
      "epoch: 11, [batch: 5040 / 12600], examples_per_second: 4418.9007, train_label_loss: 0.3374, \n"
     ]
    },
    {
     "name": "stdout",
     "output_type": "stream",
     "text": [
      "epoch: 11, [batch: 6300 / 12600], examples_per_second: 4425.3354, train_label_loss: 0.4682, \n"
     ]
    },
    {
     "name": "stdout",
     "output_type": "stream",
     "text": [
      "epoch: 11, [batch: 7560 / 12600], examples_per_second: 4353.1456, train_label_loss: 0.1870, \n"
     ]
    },
    {
     "name": "stdout",
     "output_type": "stream",
     "text": [
      "epoch: 11, [batch: 8820 / 12600], examples_per_second: 4277.1296, train_label_loss: 0.3416, \n"
     ]
    },
    {
     "name": "stdout",
     "output_type": "stream",
     "text": [
      "epoch: 11, [batch: 10080 / 12600], examples_per_second: 4453.8832, train_label_loss: 0.1430, \n"
     ]
    },
    {
     "name": "stdout",
     "output_type": "stream",
     "text": [
      "epoch: 11, [batch: 11340 / 12600], examples_per_second: 4529.6880, train_label_loss: 0.4232, \n"
     ]
    },
    {
     "name": "stdout",
     "output_type": "stream",
     "text": [
      "=============================================================\n",
      "epoch: 11, source_val_acc_label: 0.6758, target_val_acc_label: 0.5963, source_val_label_loss: 1.1122, target_val_label_loss: 1.3102, \n",
      "=============================================================\n"
     ]
    },
    {
     "name": "stdout",
     "output_type": "stream",
     "text": [
      "epoch: 12, [batch: 1 / 12600], examples_per_second: 2.0450, train_label_loss: 0.3752, \n"
     ]
    },
    {
     "name": "stdout",
     "output_type": "stream",
     "text": [
      "epoch: 12, [batch: 1260 / 12600], examples_per_second: 4602.4975, train_label_loss: 0.5672, \n"
     ]
    },
    {
     "name": "stdout",
     "output_type": "stream",
     "text": [
      "epoch: 12, [batch: 2520 / 12600], examples_per_second: 5140.3910, train_label_loss: 0.1969, \n"
     ]
    },
    {
     "name": "stdout",
     "output_type": "stream",
     "text": [
      "epoch: 12, [batch: 3780 / 12600], examples_per_second: 5379.5854, train_label_loss: 0.0872, \n"
     ]
    },
    {
     "name": "stdout",
     "output_type": "stream",
     "text": [
      "epoch: 12, [batch: 5040 / 12600], examples_per_second: 5306.8003, train_label_loss: 0.2378, \n"
     ]
    },
    {
     "name": "stdout",
     "output_type": "stream",
     "text": [
      "epoch: 12, [batch: 6300 / 12600], examples_per_second: 5288.7948, train_label_loss: 0.1145, \n"
     ]
    },
    {
     "name": "stdout",
     "output_type": "stream",
     "text": [
      "epoch: 12, [batch: 7560 / 12600], examples_per_second: 5375.4038, train_label_loss: 0.1272, \n"
     ]
    },
    {
     "name": "stdout",
     "output_type": "stream",
     "text": [
      "epoch: 12, [batch: 8820 / 12600], examples_per_second: 5139.7186, train_label_loss: 0.0369, \n"
     ]
    },
    {
     "name": "stdout",
     "output_type": "stream",
     "text": [
      "epoch: 12, [batch: 10080 / 12600], examples_per_second: 5059.4149, train_label_loss: 0.3530, \n"
     ]
    },
    {
     "name": "stdout",
     "output_type": "stream",
     "text": [
      "epoch: 12, [batch: 11340 / 12600], examples_per_second: 5340.5460, train_label_loss: 0.2244, \n"
     ]
    },
    {
     "name": "stdout",
     "output_type": "stream",
     "text": [
      "=============================================================\n",
      "epoch: 12, source_val_acc_label: 0.6852, target_val_acc_label: 0.6031, source_val_label_loss: 1.1641, target_val_label_loss: 1.3745, \n",
      "=============================================================\n"
     ]
    },
    {
     "name": "stdout",
     "output_type": "stream",
     "text": [
      "Patience (3) exhausted\n"
     ]
    }
   ],
   "source": [
    "###################################\n",
    "# train\n",
    "###################################\n",
    "jig = PTN_Train_Eval_Test_Jig(model, p.BEST_MODEL_PATH, p.device)\n",
    "\n",
    "jig.train(\n",
    "    train_iterable=datasets.source.processed.train,\n",
    "    source_val_iterable=datasets.source.processed.val,\n",
    "    target_val_iterable=datasets.target.processed.val,\n",
    "    num_epochs=p.n_epoch,\n",
    "    num_logs_per_epoch=p.NUM_LOGS_PER_EPOCH,\n",
    "    patience=p.patience,\n",
    "    optimizer=optimizer,\n",
    "    criteria_for_best=p.criteria_for_best,\n",
    ")"
   ]
  },
  {
   "cell_type": "code",
   "execution_count": 14,
   "id": "31e8fabf",
   "metadata": {
    "execution": {
     "iopub.execute_input": "2022-03-26T03:01:52.918967Z",
     "iopub.status.busy": "2022-03-26T03:01:52.918577Z",
     "iopub.status.idle": "2022-03-26T03:01:52.945093Z",
     "shell.execute_reply": "2022-03-26T03:01:52.944390Z"
    },
    "papermill": {
     "duration": 0.082611,
     "end_time": "2022-03-26T03:01:52.945245",
     "exception": false,
     "start_time": "2022-03-26T03:01:52.862634",
     "status": "completed"
    },
    "tags": []
   },
   "outputs": [],
   "source": [
    "total_experiment_time_secs = time.time() - start_time_secs"
   ]
  },
  {
   "cell_type": "code",
   "execution_count": 15,
   "id": "87b9595b",
   "metadata": {
    "execution": {
     "iopub.execute_input": "2022-03-26T03:01:53.062900Z",
     "iopub.status.busy": "2022-03-26T03:01:53.062242Z",
     "iopub.status.idle": "2022-03-26T03:07:34.615257Z",
     "shell.execute_reply": "2022-03-26T03:07:34.614518Z"
    },
    "papermill": {
     "duration": 341.611419,
     "end_time": "2022-03-26T03:07:34.615444",
     "exception": false,
     "start_time": "2022-03-26T03:01:53.004025",
     "status": "completed"
    },
    "tags": []
   },
   "outputs": [],
   "source": [
    "###################################\n",
    "# Evaluate the model\n",
    "###################################\n",
    "source_test_label_accuracy, source_test_label_loss = jig.test(datasets.source.processed.test)\n",
    "target_test_label_accuracy, target_test_label_loss = jig.test(datasets.target.processed.test)\n",
    "\n",
    "source_val_label_accuracy, source_val_label_loss = jig.test(datasets.source.processed.val)\n",
    "target_val_label_accuracy, target_val_label_loss = jig.test(datasets.target.processed.val)\n",
    "\n",
    "history = jig.get_history()\n",
    "\n",
    "total_epochs_trained = len(history[\"epoch_indices\"])\n",
    "\n",
    "val_dl = Iterable_Aggregator((datasets.source.original.val,datasets.target.original.val))\n",
    "\n",
    "confusion = ptn_confusion_by_domain_over_dataloader(model, p.device, val_dl)\n",
    "per_domain_accuracy = per_domain_accuracy_from_confusion(confusion)\n",
    "\n",
    "# Add a key to per_domain_accuracy for if it was a source domain\n",
    "for domain, accuracy in per_domain_accuracy.items():\n",
    "    per_domain_accuracy[domain] = {\n",
    "        \"accuracy\": accuracy,\n",
    "        \"source?\": domain in p.domains_source\n",
    "    }\n",
    "\n",
    "# Do an independent accuracy assesment JUST TO BE SURE!\n",
    "# _source_test_label_accuracy = independent_accuracy_assesment(model, datasets.source.processed.test, p.device)\n",
    "# _target_test_label_accuracy = independent_accuracy_assesment(model, datasets.target.processed.test, p.device)\n",
    "# _source_val_label_accuracy = independent_accuracy_assesment(model, datasets.source.processed.val, p.device)\n",
    "# _target_val_label_accuracy = independent_accuracy_assesment(model, datasets.target.processed.val, p.device)\n",
    "\n",
    "# assert(_source_test_label_accuracy == source_test_label_accuracy)\n",
    "# assert(_target_test_label_accuracy == target_test_label_accuracy)\n",
    "# assert(_source_val_label_accuracy == source_val_label_accuracy)\n",
    "# assert(_target_val_label_accuracy == target_val_label_accuracy)\n",
    "\n",
    "experiment = {\n",
    "    \"experiment_name\": p.experiment_name,\n",
    "    \"parameters\": dict(p),\n",
    "    \"results\": {\n",
    "        \"source_test_label_accuracy\": source_test_label_accuracy,\n",
    "        \"source_test_label_loss\": source_test_label_loss,\n",
    "        \"target_test_label_accuracy\": target_test_label_accuracy,\n",
    "        \"target_test_label_loss\": target_test_label_loss,\n",
    "        \"source_val_label_accuracy\": source_val_label_accuracy,\n",
    "        \"source_val_label_loss\": source_val_label_loss,\n",
    "        \"target_val_label_accuracy\": target_val_label_accuracy,\n",
    "        \"target_val_label_loss\": target_val_label_loss,\n",
    "        \"total_epochs_trained\": total_epochs_trained,\n",
    "        \"total_experiment_time_secs\": total_experiment_time_secs,\n",
    "        \"confusion\": confusion,\n",
    "        \"per_domain_accuracy\": per_domain_accuracy,\n",
    "    },\n",
    "    \"history\": history,\n",
    "    \"dataset_metrics\": get_dataset_metrics(datasets, \"ptn\"),\n",
    "}"
   ]
  },
  {
   "cell_type": "code",
   "execution_count": 16,
   "id": "54a21829",
   "metadata": {
    "execution": {
     "iopub.execute_input": "2022-03-26T03:07:34.730371Z",
     "iopub.status.busy": "2022-03-26T03:07:34.729995Z",
     "iopub.status.idle": "2022-03-26T03:07:34.964813Z",
     "shell.execute_reply": "2022-03-26T03:07:34.965501Z"
    },
    "papermill": {
     "duration": 0.29229,
     "end_time": "2022-03-26T03:07:34.965691",
     "exception": false,
     "start_time": "2022-03-26T03:07:34.673401",
     "status": "completed"
    },
    "tags": []
   },
   "outputs": [
    {
     "data": {
      "image/png": "[encoded data removed]",
      "text/plain": [
       "<Figure size 1080x504 with 1 Axes>"
      ]
     },
     "metadata": {
      "needs_background": "light"
     },
     "output_type": "display_data"
    }
   ],
   "source": [
    "ax = get_loss_curve(experiment)\n",
    "plt.show()"
   ]
  },
  {
   "cell_type": "code",
   "execution_count": 17,
   "id": "fd8a0f60",
   "metadata": {
    "execution": {
     "iopub.execute_input": "2022-03-26T03:07:35.083290Z",
     "iopub.status.busy": "2022-03-26T03:07:35.082919Z",
     "iopub.status.idle": "2022-03-26T03:07:35.437405Z",
     "shell.execute_reply": "2022-03-26T03:07:35.438092Z"
    },
    "papermill": {
     "duration": 0.413927,
     "end_time": "2022-03-26T03:07:35.438277",
     "exception": false,
     "start_time": "2022-03-26T03:07:35.024350",
     "status": "completed"
    },
    "tags": []
   },
   "outputs": [
    {
     "data": {
      "text/plain": [
       "<AxesSubplot:title={'center':'Results'}>"
      ]
     },
     "execution_count": 17,
     "metadata": {},
     "output_type": "execute_result"
    },
    {
     "data": {
      "image/png": "[encoded data removed]",
      "text/plain": [
       "<Figure size 1080x504 with 1 Axes>"
      ]
     },
     "metadata": {
      "needs_background": "light"
     },
     "output_type": "display_data"
    }
   ],
   "source": [
    "get_results_table(experiment)"
   ]
  },
  {
   "cell_type": "code",
   "execution_count": 18,
   "id": "cf8dc689",
   "metadata": {
    "execution": {
     "iopub.execute_input": "2022-03-26T03:07:35.558698Z",
     "iopub.status.busy": "2022-03-26T03:07:35.558329Z",
     "iopub.status.idle": "2022-03-26T03:07:35.768179Z",
     "shell.execute_reply": "2022-03-26T03:07:35.768853Z"
    },
    "papermill": {
     "duration": 0.270696,
     "end_time": "2022-03-26T03:07:35.769045",
     "exception": false,
     "start_time": "2022-03-26T03:07:35.498349",
     "status": "completed"
    },
    "tags": []
   },
   "outputs": [
    {
     "data": {
      "text/plain": [
       "<AxesSubplot:title={'center':'Per Domain Validation Accuracy'}, xlabel='domain'>"
      ]
     },
     "execution_count": 18,
     "metadata": {},
     "output_type": "execute_result"
    },
    {
     "data": {
      "image/png": "[encoded data removed]",
      "text/plain": [
       "<Figure size 1080x504 with 1 Axes>"
      ]
     },
     "metadata": {
      "needs_background": "light"
     },
     "output_type": "display_data"
    }
   ],
   "source": [
    "get_domain_accuracies(experiment)"
   ]
  },
  {
   "cell_type": "code",
   "execution_count": 19,
   "id": "a74ae082",
   "metadata": {
    "execution": {
     "iopub.execute_input": "2022-03-26T03:07:35.891250Z",
     "iopub.status.busy": "2022-03-26T03:07:35.890688Z",
     "iopub.status.idle": "2022-03-26T03:07:35.915646Z",
     "shell.execute_reply": "2022-03-26T03:07:35.916312Z"
    },
    "papermill": {
     "duration": 0.086887,
     "end_time": "2022-03-26T03:07:35.916494",
     "exception": false,
     "start_time": "2022-03-26T03:07:35.829607",
     "status": "completed"
    },
    "tags": []
   },
   "outputs": [
    {
     "name": "stdout",
     "output_type": "stream",
     "text": [
      "Source Test Label Accuracy: 0.6897395833333333 Target Test Label Accuracy: 0.6115416666666667\n",
      "Source Val Label Accuracy: 0.6919097222222222 Target Val Label Accuracy: 0.6115833333333334\n"
     ]
    }
   ],
   "source": [
    "print(\"Source Test Label Accuracy:\", experiment[\"results\"][\"source_test_label_accuracy\"], \"Target Test Label Accuracy:\", experiment[\"results\"][\"target_test_label_accuracy\"])\n",
    "print(\"Source Val Label Accuracy:\", experiment[\"results\"][\"source_val_label_accuracy\"], \"Target Val Label Accuracy:\", experiment[\"results\"][\"target_val_label_accuracy\"])"
   ]
  },
  {
   "cell_type": "code",
   "execution_count": 20,
   "id": "dacca602",
   "metadata": {
    "execution": {
     "iopub.execute_input": "2022-03-26T03:07:36.037584Z",
     "iopub.status.busy": "2022-03-26T03:07:36.037032Z",
     "iopub.status.idle": "2022-03-26T03:07:36.059308Z",
     "shell.execute_reply": "2022-03-26T03:07:36.058506Z"
    },
    "papermill": {
     "duration": 0.081739,
     "end_time": "2022-03-26T03:07:36.059463",
     "exception": false,
     "start_time": "2022-03-26T03:07:35.977724",
     "status": "completed"
    },
    "tags": [
     "experiment_json"
    ]
   },
   "outputs": [
    {
     "data": {
      "text/plain": [
       "'{\"experiment_name\": \"tuned_1v2:oracle.run1_limited\", \"parameters\": {\"experiment_name\": \"tuned_1v2:oracle.run1_limited\", \"device\": \"cuda\", \"lr\": 0.0001, \"labels_source\": [\"3123D52\", \"3123D65\", \"3123D79\", \"3123D80\", \"3123D54\", \"3123D70\", \"3123D7B\", \"3123D89\", \"3123D58\", \"3123D76\", \"3123D7D\", \"3123EFE\", \"3123D64\", \"3123D78\", \"3123D7E\", \"3124E4A\"], \"labels_target\": [\"3123D52\", \"3123D65\", \"3123D79\", \"3123D80\", \"3123D54\", \"3123D70\", \"3123D7B\", \"3123D89\", \"3123D58\", \"3123D76\", \"3123D7D\", \"3123EFE\", \"3123D64\", \"3123D78\", \"3123D7E\", \"3124E4A\"], \"episode_transforms_source\": [], \"episode_transforms_target\": [], \"domains_source\": [8, 32, 50], \"domains_target\": [14, 20, 26, 38, 44], \"num_examples_per_domain_per_label_source\": -1, \"num_examples_per_domain_per_label_target\": -1, \"n_shot\": 3, \"n_way\": 16, \"n_query\": 2, \"train_k_factor\": 3, \"val_k_factor\": 2, \"test_k_factor\": 2, \"torch_default_dtype\": \"torch.float32\", \"n_epoch\": 50, \"patience\": 3, \"criteria_for_best\": \"target_accuracy\", \"x_net\": [{\"class\": \"nnReshape\", \"kargs\": {\"shape\": [-1, 1, 2, 256]}}, {\"class\": \"Conv2d\", \"kargs\": {\"in_channels\": 1, \"out_channels\": 256, \"kernel_size\": [1, 7], \"bias\": false, \"padding\": [0, 3]}}, {\"class\": \"ReLU\", \"kargs\": {\"inplace\": true}}, {\"class\": \"BatchNorm2d\", \"kargs\": {\"num_features\": 256}}, {\"class\": \"Conv2d\", \"kargs\": {\"in_channels\": 256, \"out_channels\": 80, \"kernel_size\": [2, 7], \"bias\": true, \"padding\": [0, 3]}}, {\"class\": \"ReLU\", \"kargs\": {\"inplace\": true}}, {\"class\": \"BatchNorm2d\", \"kargs\": {\"num_features\": 80}}, {\"class\": \"Flatten\", \"kargs\": {}}, {\"class\": \"Linear\", \"kargs\": {\"in_features\": 20480, \"out_features\": 256}}, {\"class\": \"ReLU\", \"kargs\": {\"inplace\": true}}, {\"class\": \"BatchNorm1d\", \"kargs\": {\"num_features\": 256}}, {\"class\": \"Linear\", \"kargs\": {\"in_features\": 256, \"out_features\": 256}}], \"NUM_LOGS_PER_EPOCH\": 10, \"BEST_MODEL_PATH\": \"./best_model.pth\", \"pickle_name\": \"oracle.Run1_10kExamples_stratified_ds.2022A.pkl\", \"x_transforms_source\": [\"unit_mag\"], \"x_transforms_target\": [\"unit_mag\"], \"dataset_seed\": 420, \"seed\": 420}, \"results\": {\"source_test_label_accuracy\": 0.6897395833333333, \"source_test_label_loss\": 0.979200541973114, \"target_test_label_accuracy\": 0.6115416666666667, \"target_test_label_loss\": 1.1719379425048828, \"source_val_label_accuracy\": 0.6919097222222222, \"source_val_label_loss\": 0.9699898958206177, \"target_val_label_accuracy\": 0.6115833333333334, \"target_val_label_loss\": 1.169851541519165, \"total_epochs_trained\": 12, \"total_experiment_time_secs\": 4660.134252786636, \"confusion\": {\"8\": {\"15\": {\"15\": 760, \"12\": 298, \"8\": 96, \"3\": 20, \"7\": 6, \"2\": 20}, \"5\": {\"5\": 1019, \"14\": 16, \"1\": 69, \"10\": 80, \"11\": 16}, \"7\": {\"7\": 795, \"6\": 293, \"15\": 3, \"2\": 6, \"0\": 68, \"4\": 17, \"13\": 7, \"8\": 10, \"12\": 1}, \"4\": {\"0\": 77, \"13\": 183, \"4\": 540, \"14\": 191, \"6\": 157, \"10\": 34, \"11\": 2, \"8\": 1, \"7\": 9, \"1\": 6}, \"10\": {\"10\": 740, \"5\": 32, \"14\": 257, \"1\": 14, \"13\": 98, \"0\": 8, \"4\": 48, \"11\": 3}, \"11\": {\"11\": 685, \"1\": 444, \"14\": 24, \"5\": 24, \"6\": 1, \"10\": 2, \"8\": 16, \"4\": 4}, \"12\": {\"12\": 585, \"15\": 356, \"3\": 200, \"8\": 38, \"2\": 19, \"7\": 2}, \"0\": {\"0\": 636, \"7\": 107, \"4\": 66, \"13\": 271, \"10\": 18, \"6\": 92, \"14\": 10}, \"14\": {\"14\": 575, \"4\": 198, \"10\": 222, \"13\": 96, \"0\": 8, \"1\": 83, \"6\": 6, \"11\": 9, \"5\": 3}, \"8\": {\"8\": 1075, \"6\": 17, \"15\": 81, \"7\": 12, \"12\": 11, \"11\": 4}, \"13\": {\"4\": 197, \"0\": 309, \"13\": 367, \"14\": 121, \"10\": 142, \"6\": 43, \"7\": 19, \"1\": 1, \"11\": 1}, \"6\": {\"7\": 322, \"13\": 28, \"6\": 600, \"0\": 83, \"4\": 134, \"8\": 28, \"14\": 5}, \"1\": {\"1\": 738, \"11\": 349, \"5\": 19, \"10\": 4, \"14\": 84, \"6\": 1, \"4\": 4, \"8\": 1}, \"3\": {\"2\": 154, \"3\": 914, \"12\": 114, \"15\": 18}, \"9\": {\"9\": 1200}, \"2\": {\"2\": 891, \"3\": 202, \"15\": 34, \"7\": 39, \"12\": 30, \"8\": 3, \"6\": 1}}, \"50\": {\"4\": {\"6\": 145, \"4\": 489, \"1\": 205, \"15\": 207, \"5\": 91, \"13\": 30, \"7\": 33}, \"10\": {\"5\": 7, \"10\": 1067, \"0\": 51, \"8\": 23, \"7\": 26, \"13\": 26}, \"15\": {\"1\": 230, \"4\": 136, \"15\": 784, \"11\": 39, \"6\": 10, \"14\": 1}, \"0\": {\"0\": 1009, \"2\": 135, \"10\": 50, \"13\": 3, \"6\": 2, \"1\": 1}, \"6\": {\"6\": 723, \"4\": 157, \"5\": 95, \"15\": 18, \"1\": 118, \"13\": 81, \"7\": 6, \"2\": 2}, \"3\": {\"3\": 1172, \"8\": 28}, \"7\": {\"13\": 241, \"10\": 37, \"5\": 157, \"7\": 739, \"0\": 1, \"6\": 18, \"4\": 7}, \"2\": {\"0\": 74, \"2\": 1125, \"1\": 1}, \"8\": {\"8\": 1163, \"10\": 24, \"3\": 13}, \"11\": {\"11\": 1021, \"12\": 11, \"9\": 112, \"15\": 38, \"14\": 13, \"1\": 5}, \"14\": {\"11\": 12, \"14\": 1143, \"12\": 42, \"1\": 2, \"9\": 1}, \"12\": {\"12\": 1014, \"9\": 98, \"14\": 73, \"11\": 15}, \"13\": {\"5\": 247, \"6\": 75, \"13\": 622, \"7\": 220, \"10\": 16, \"4\": 10, \"0\": 9, \"1\": 1}, \"9\": {\"9\": 904, \"11\": 170, \"14\": 4, \"12\": 122}, \"5\": {\"1\": 31, \"5\": 369, \"7\": 254, \"13\": 251, \"6\": 163, \"4\": 117, \"15\": 3, \"0\": 4, \"10\": 8}, \"1\": {\"1\": 692, \"4\": 149, \"15\": 269, \"6\": 80, \"11\": 7, \"2\": 2, \"14\": 1}}, \"32\": {\"7\": {\"14\": 171, \"5\": 116, \"7\": 517, \"13\": 113, \"4\": 164, \"11\": 40, \"2\": 41, \"0\": 25, \"8\": 11, \"3\": 2}, \"2\": {\"2\": 916, \"4\": 221, \"0\": 37, \"7\": 19, \"5\": 3, \"13\": 2, \"14\": 2}, \"5\": {\"5\": 284, \"13\": 334, \"7\": 148, \"8\": 112, \"0\": 67, \"11\": 22, \"2\": 15, \"4\": 139, \"14\": 30, \"3\": 49}, \"6\": {\"6\": 1200}, \"13\": {\"13\": 414, \"3\": 88, \"5\": 300, \"4\": 45, \"14\": 45, \"7\": 125, \"8\": 108, \"11\": 32, \"0\": 42, \"2\": 1}, \"4\": {\"4\": 556, \"2\": 217, \"5\": 83, \"0\": 138, \"7\": 162, \"13\": 30, \"14\": 8, \"8\": 6}, \"3\": {\"3\": 1044, \"13\": 61, \"11\": 43, \"14\": 6, \"5\": 27, \"8\": 18, \"7\": 1}, \"0\": {\"4\": 149, \"8\": 116, \"2\": 79, \"0\": 657, \"13\": 45, \"5\": 72, \"14\": 26, \"7\": 56}, \"9\": {\"9\": 1194, \"12\": 6}, \"12\": {\"12\": 1200}, \"8\": {\"8\": 835, \"13\": 110, \"0\": 96, \"5\": 101, \"14\": 3, \"3\": 38, \"7\": 9, \"4\": 7, \"15\": 1}, \"14\": {\"7\": 226, \"11\": 301, \"14\": 479, \"5\": 40, \"13\": 57, \"0\": 35, \"3\": 10, \"4\": 29, \"8\": 6, \"2\": 17}, \"15\": {\"15\": 1179, \"8\": 15, \"3\": 6}, \"11\": {\"11\": 832, \"13\": 34, \"14\": 250, \"7\": 41, \"3\": 31, \"5\": 11, \"8\": 1}, \"10\": {\"10\": 1197, \"1\": 3}, \"1\": {\"1\": 1194, \"10\": 6}}, \"20\": {\"15\": {\"13\": 69, \"15\": 607, \"1\": 227, \"0\": 109, \"5\": 116, \"12\": 48, \"9\": 10, \"3\": 7, \"2\": 7}, \"5\": {\"1\": 223, \"5\": 336, \"15\": 112, \"12\": 175, \"0\": 250, \"3\": 61, \"13\": 8, \"9\": 16, \"4\": 12, \"2\": 7}, \"7\": {\"7\": 672, \"2\": 158, \"8\": 106, \"3\": 71, \"10\": 10, \"9\": 94, \"13\": 4, \"6\": 49, \"4\": 11, \"14\": 9, \"11\": 2, \"12\": 8, \"0\": 3, \"5\": 3}, \"4\": {\"4\": 762, \"8\": 210, \"10\": 77, \"3\": 83, \"5\": 10, \"0\": 6, \"9\": 11, \"7\": 17, \"12\": 19, \"2\": 1, \"1\": 1, \"14\": 3}, \"10\": {\"10\": 806, \"4\": 55, \"14\": 223, \"8\": 85, \"6\": 21, \"7\": 6, \"3\": 4}, \"11\": {\"11\": 1183, \"6\": 8, \"7\": 6, \"2\": 2, \"13\": 1}, \"12\": {\"5\": 177, \"9\": 136, \"3\": 216, \"12\": 312, \"1\": 141, \"2\": 73, \"13\": 13, \"15\": 45, \"0\": 47, \"4\": 32, \"7\": 4, \"8\": 4}, \"0\": {\"15\": 150, \"1\": 122, \"2\": 16, \"5\": 297, \"0\": 440, \"4\": 10, \"12\": 90, \"9\": 14, \"3\": 52, \"7\": 1, \"13\": 6, \"8\": 2}, \"14\": {\"6\": 227, \"14\": 697, \"10\": 224, \"8\": 50, \"7\": 2}, \"8\": {\"8\": 610, \"10\": 85, \"7\": 108, \"4\": 251, \"3\": 55, \"12\": 5, \"6\": 25, \"14\": 48, \"2\": 3, \"9\": 9, \"0\": 1}, \"13\": {\"13\": 933, \"15\": 43, \"12\": 21, \"9\": 33, \"2\": 133, \"7\": 8, \"1\": 18, \"5\": 3, \"0\": 1, \"3\": 6, \"11\": 1}, \"6\": {\"14\": 228, \"6\": 875, \"8\": 33, \"7\": 39, \"10\": 19, \"2\": 2, \"11\": 4}, \"1\": {\"5\": 229, \"1\": 306, \"15\": 305, \"0\": 108, \"3\": 46, \"12\": 141, \"2\": 12, \"13\": 20, \"9\": 33}, \"3\": {\"12\": 203, \"9\": 177, \"3\": 392, \"7\": 61, \"8\": 44, \"2\": 101, \"4\": 79, \"0\": 34, \"5\": 57, \"15\": 5, \"1\": 33, \"13\": 10, \"10\": 3, \"6\": 1}, \"9\": {\"12\": 134, \"3\": 174, \"7\": 107, \"9\": 333, \"2\": 323, \"5\": 18, \"13\": 46, \"1\": 26, \"4\": 13, \"15\": 15, \"8\": 5, \"0\": 5, \"10\": 1}, \"2\": {\"9\": 279, \"12\": 58, \"2\": 437, \"13\": 104, \"8\": 8, \"3\": 97, \"7\": 176, \"15\": 10, \"4\": 3, \"5\": 11, \"1\": 13, \"11\": 1, \"0\": 2, \"10\": 1}}, \"26\": {\"4\": {\"14\": 227, \"10\": 83, \"4\": 333, \"0\": 171, \"8\": 120, \"1\": 146, \"7\": 96, \"6\": 3, \"2\": 6, \"9\": 5, \"3\": 8, \"15\": 2}, \"10\": {\"14\": 112, \"10\": 381, \"0\": 234, \"6\": 124, \"4\": 92, \"8\": 159, \"9\": 34, \"15\": 18, \"1\": 34, \"7\": 7, \"2\": 4, \"3\": 1}, \"15\": {\"9\": 279, \"5\": 214, \"15\": 371, \"2\": 48, \"8\": 103, \"13\": 83, \"0\": 5, \"7\": 21, \"6\": 49, \"4\": 4, \"10\": 15, \"3\": 7, \"1\": 1}, \"0\": {\"4\": 178, \"10\": 251, \"7\": 34, \"14\": 194, \"9\": 26, \"0\": 270, \"8\": 117, \"6\": 39, \"1\": 78, \"2\": 7, \"15\": 4, \"5\": 1, \"3\": 1}, \"6\": {\"13\": 21, \"6\": 727, \"9\": 191, \"10\": 98, \"0\": 33, \"5\": 8, \"15\": 69, \"8\": 46, \"14\": 3, \"2\": 1, \"1\": 1, \"4\": 2}, \"3\": {\"5\": 3, \"3\": 644, \"4\": 9, \"2\": 310, \"7\": 224, \"8\": 6, \"9\": 1, \"14\": 2, \"1\": 1}, \"7\": {\"4\": 105, \"7\": 478, \"2\": 199, \"3\": 215, \"8\": 79, \"14\": 30, \"1\": 19, \"0\": 32, \"15\": 19, \"5\": 6, \"9\": 9, \"10\": 9}, \"2\": {\"3\": 361, \"7\": 138, \"2\": 380, \"5\": 132, \"8\": 52, \"9\": 38, \"15\": 72, \"4\": 9, \"0\": 1, \"14\": 6, \"13\": 7, \"6\": 4}, \"8\": {\"10\": 145, \"9\": 106, \"8\": 339, \"4\": 113, \"6\": 80, \"15\": 94, \"0\": 100, \"14\": 35, \"7\": 96, \"5\": 33, \"2\": 34, \"1\": 14, \"3\": 10, \"13\": 1}, \"11\": {\"11\": 1173, \"12\": 26, \"13\": 1}, \"14\": {\"14\": 333, \"4\": 237, \"0\": 191, \"10\": 93, \"1\": 257, \"8\": 45, \"7\": 36, \"6\": 4, \"9\": 2, \"3\": 2}, \"12\": {\"12\": 1197, \"11\": 3}, \"13\": {\"13\": 840, \"15\": 64, \"5\": 223, \"2\": 16, \"9\": 44, \"6\": 10, \"3\": 2, \"7\": 1}, \"9\": {\"9\": 370, \"6\": 173, \"15\": 290, \"5\": 98, \"2\": 12, \"13\": 32, \"10\": 38, \"7\": 16, \"8\": 130, \"4\": 15, \"0\": 20, \"14\": 3, \"3\": 3}, \"5\": {\"15\": 213, \"13\": 200, \"8\": 32, \"5\": 536, \"9\": 108, \"2\": 76, \"6\": 16, \"3\": 4, \"7\": 13, \"4\": 2}, \"1\": {\"1\": 562, \"14\": 282, \"4\": 168, \"0\": 76, \"10\": 52, \"3\": 9, \"7\": 26, \"8\": 19, \"9\": 4, \"6\": 2}}, \"38\": {\"7\": {\"0\": 226, \"7\": 876, \"3\": 9, \"5\": 52, \"8\": 34, \"9\": 1, \"4\": 1, \"10\": 1}, \"2\": {\"2\": 1026, \"14\": 129, \"13\": 37, \"10\": 4, \"11\": 3, \"15\": 1}, \"5\": {\"7\": 76, \"8\": 306, \"5\": 474, \"3\": 35, \"1\": 15, \"0\": 116, \"6\": 61, \"13\": 10, \"9\": 43, \"10\": 3, \"15\": 61}, \"6\": {\"6\": 865, \"9\": 319, \"5\": 13, \"3\": 2, \"8\": 1}, \"13\": {\"15\": 340, \"13\": 670, \"8\": 32, \"10\": 96, \"2\": 26, \"1\": 30, \"5\": 3, \"0\": 2, \"14\": 1}, \"4\": {\"4\": 1112, \"12\": 84, \"0\": 1, \"7\": 1, \"10\": 2}, \"3\": {\"9\": 91, \"3\": 1006, \"0\": 29, \"7\": 45, \"6\": 15, \"5\": 13, \"8\": 1}, \"0\": {\"0\": 392, \"10\": 46, \"7\": 249, \"8\": 302, \"5\": 137, \"3\": 57, \"15\": 1, \"12\": 8, \"6\": 2, \"4\": 3, \"9\": 2, \"13\": 1}, \"9\": {\"6\": 418, \"9\": 679, \"3\": 78, \"5\": 20, \"7\": 2, \"0\": 3}, \"12\": {\"12\": 1099, \"4\": 40, \"10\": 60, \"0\": 1}, \"8\": {\"8\": 618, \"5\": 252, \"13\": 8, \"15\": 35, \"0\": 213, \"10\": 47, \"7\": 25, \"6\": 2}, \"14\": {\"14\": 880, \"11\": 237, \"2\": 50, \"10\": 20, \"13\": 6, \"12\": 7}, \"15\": {\"15\": 673, \"13\": 330, \"8\": 40, \"1\": 106, \"5\": 38, \"2\": 3, \"0\": 3, \"10\": 7}, \"11\": {\"10\": 19, \"11\": 835, \"14\": 302, \"12\": 36, \"2\": 6, \"13\": 1, \"4\": 1}, \"10\": {\"11\": 8, \"10\": 844, \"8\": 64, \"12\": 105, \"13\": 80, \"14\": 20, \"5\": 7, \"4\": 8, \"0\": 31, \"15\": 18, \"7\": 12, \"2\": 3}, \"1\": {\"1\": 1102, \"15\": 84, \"8\": 2, \"5\": 4, \"13\": 5, \"6\": 3}}, \"14\": {\"11\": {\"11\": 1008, \"9\": 67, \"10\": 58, \"0\": 67}, \"7\": {\"7\": 1113, \"15\": 64, \"1\": 14, \"5\": 8, \"2\": 1}, \"6\": {\"6\": 604, \"13\": 406, \"4\": 6, \"2\": 86, \"14\": 95, \"3\": 2, \"10\": 1}, \"12\": {\"12\": 1188, \"9\": 12}, \"4\": {\"4\": 605, \"1\": 55, \"5\": 198, \"3\": 192, \"2\": 128, \"14\": 11, \"13\": 8, \"6\": 3}, \"13\": {\"13\": 417, \"6\": 362, \"14\": 245, \"2\": 140, \"5\": 13, \"4\": 7, \"15\": 6, \"10\": 3, \"3\": 6, \"0\": 1}, \"8\": {\"8\": 1197, \"1\": 1, \"0\": 2}, \"5\": {\"5\": 643, \"4\": 232, \"1\": 179, \"2\": 93, \"7\": 21, \"3\": 24, \"15\": 7, \"0\": 1}, \"14\": {\"14\": 773, \"4\": 24, \"13\": 133, \"6\": 97, \"3\": 68, \"2\": 98, \"10\": 4, \"0\": 3}, \"3\": {\"3\": 877, \"14\": 51, \"4\": 206, \"2\": 27, \"0\": 22, \"10\": 4, \"5\": 7, \"1\": 3, \"13\": 3}, \"10\": {\"10\": 985, \"0\": 200, \"11\": 5, \"3\": 6, \"14\": 4}, \"1\": {\"1\": 962, \"5\": 188, \"7\": 10, \"4\": 37, \"3\": 2, \"15\": 1}, \"2\": {\"14\": 182, \"5\": 119, \"4\": 130, \"2\": 467, \"6\": 109, \"13\": 99, \"3\": 67, \"15\": 22, \"7\": 2, \"1\": 3}, \"15\": {\"15\": 1100, \"7\": 94, \"2\": 3, \"5\": 3}, \"9\": {\"9\": 1174, \"11\": 22, \"12\": 4}, \"0\": {\"0\": 906, \"10\": 225, \"11\": 38, \"3\": 26, \"14\": 3, \"8\": 2}}, \"44\": {\"10\": {\"10\": 826, \"1\": 119, \"2\": 124, \"12\": 125, \"3\": 3, \"7\": 3}, \"6\": {\"6\": 759, \"9\": 119, \"13\": 228, \"11\": 49, \"7\": 41, \"2\": 4}, \"13\": {\"9\": 184, \"13\": 717, \"6\": 218, \"11\": 61, \"7\": 9, \"4\": 11}, \"3\": {\"3\": 1055, \"1\": 124, \"12\": 18, \"2\": 1, \"7\": 1, \"10\": 1}, \"9\": {\"7\": 274, \"9\": 698, \"2\": 15, \"13\": 104, \"6\": 103, \"4\": 4, \"11\": 1, \"3\": 1}, \"1\": {\"12\": 267, \"3\": 157, \"1\": 603, \"2\": 58, \"10\": 112, \"7\": 3}, \"5\": {\"5\": 992, \"0\": 103, \"15\": 36, \"14\": 50, \"4\": 5, \"8\": 14}, \"11\": {\"11\": 1041, \"13\": 98, \"6\": 61}, \"4\": {\"4\": 829, \"14\": 355, \"5\": 3, \"15\": 11, \"13\": 1, \"9\": 1}, \"14\": {\"14\": 700, \"4\": 389, \"5\": 35, \"15\": 76}, \"12\": {\"1\": 265, \"12\": 784, \"10\": 119, \"3\": 31, \"2\": 1}, \"7\": {\"2\": 213, \"7\": 675, \"1\": 6, \"9\": 252, \"6\": 37, \"3\": 9, \"10\": 3, \"13\": 5}, \"0\": {\"0\": 754, \"8\": 286, \"15\": 69, \"5\": 91}, \"15\": {\"14\": 133, \"15\": 921, \"0\": 103, \"8\": 13, \"4\": 7, \"5\": 23}, \"2\": {\"2\": 779, \"10\": 133, \"7\": 184, \"1\": 80, \"9\": 10, \"3\": 11, \"12\": 2, \"6\": 1}, \"8\": {\"8\": 774, \"0\": 370, \"15\": 41, \"5\": 14, \"14\": 1}}}, \"per_domain_accuracy\": {\"8\": {\"accuracy\": 0.63125, \"source?\": true}, \"50\": {\"accuracy\": 0.7310416666666667, \"source?\": true}, \"32\": {\"accuracy\": 0.7134375, \"source?\": true}, \"20\": {\"accuracy\": 0.5052604166666667, \"source?\": false}, \"26\": {\"accuracy\": 0.4653125, \"source?\": false}, \"38\": {\"accuracy\": 0.6849479166666667, \"source?\": false}, \"14\": {\"accuracy\": 0.73015625, \"source?\": false}, \"44\": {\"accuracy\": 0.6722395833333333, \"source?\": false}}}, \"history\": {\"epoch_indices\": [1, 2, 3, 4, 5, 6, 7, 8, 9, 10, 11, 12], \"train_label_loss\": [1.3838997902662036, 0.8832262365283474, 0.7583358674543718, 0.672110602914814, 0.5920593459573057, 0.5174698826173941, 0.45172964094117996, 0.39233629534494074, 0.34362421546205285, 0.3007036588862095, 0.2656863445767187, 0.23502510802417492], \"source_val_label_loss\": [1.071031093597412, 0.896686851978302, 0.8772715330123901, 0.8667418360710144, 0.8744548559188843, 0.9037538170814514, 0.9214994311332703, 0.9699898958206177, 1.010936975479126, 1.0797526836395264, 1.1121788024902344, 1.1641337871551514], \"target_val_label_loss\": [1.3125805854797363, 1.1040037870407104, 1.074217438697815, 1.077410101890564, 1.0734784603118896, 1.1020275354385376, 1.1279808282852173, 1.169851541519165, 1.2197974920272827, 1.267688512802124, 1.3101868629455566, 1.3745113611221313], \"source_val_acc_label\": [0.60890625, 0.6640451388888889, 0.6763715277777778, 0.6718576388888889, 0.6819791666666667, 0.6893576388888889, 0.6893229166666667, 0.6919097222222222, 0.6884722222222223, 0.6814930555555555, 0.6758333333333333, 0.6852083333333333], \"target_val_acc_label\": [0.5164375, 0.5831145833333333, 0.5970833333333333, 0.5948333333333333, 0.6071354166666667, 0.6103229166666667, 0.61034375, 0.6115833333333334, 0.609, 0.6035, 0.5962708333333333, 0.6030729166666666]}, \"dataset_metrics\": {\"source\": {\"train\": {\"n_unique_x\": 336000, \"n_unique_y\": 16, \"n_batch/episode\": 12600}, \"val\": {\"n_unique_x\": 72000, \"n_unique_y\": 16, \"n_batch/episode\": 1800}, \"test\": {\"n_unique_x\": 72000, \"n_unique_y\": 16, \"n_batch/episode\": 1800}}, \"target\": {\"train\": {\"n_unique_x\": 560000, \"n_unique_y\": 16, \"n_batch/episode\": 21000}, \"val\": {\"n_unique_x\": 120000, \"n_unique_y\": 16, \"n_batch/episode\": 3000}, \"test\": {\"n_unique_x\": 120000, \"n_unique_y\": 16, \"n_batch/episode\": 3000}}}}'"
      ]
     },
     "execution_count": 20,
     "metadata": {},
     "output_type": "execute_result"
    }
   ],
   "source": [
    "json.dumps(experiment)"
   ]
  }
 ],
 "metadata": {
  "celltoolbar": "Tags",
  "kernelspec": {
   "display_name": "Python 3 (ipykernel)",
   "language": "python",
   "name": "python3"
  },
  "language_info": {
   "codemirror_mode": {
    "name": "ipython",
    "version": 3
   },
   "file_extension": ".py",
   "mimetype": "text/x-python",
   "name": "python",
   "nbconvert_exporter": "python",
   "pygments_lexer": "ipython3",
   "version": "3.8.12"
  },
  "papermill": {
   "default_parameters": {},
   "duration": 5010.085613,
   "end_time": "2022-03-26T03:07:39.643317",
   "environment_variables": {},
   "exception": null,
   "input_path": "/root/csc500-main/csc500-notebooks/templates/ptn_template.ipynb",
   "output_path": "trial.ipynb",
   "parameters": {
    "parameters": {
     "BEST_MODEL_PATH": "./best_model.pth",
     "NUM_LOGS_PER_EPOCH": 10,
     "criteria_for_best": "target_accuracy",
     "dataset_seed": 420,
     "device": "cuda",
     "domains_source": [
      8,
      32,
      50
     ],
     "domains_target": [
      14,
      20,
      26,
      38,
      44
     ],
     "episode_transforms_source": [],
     "episode_transforms_target": [],
     "experiment_name": "tuned_1v2:oracle.run1_limited",
     "labels_source": [
      "3123D52",
      "3123D65",
      "3123D79",
      "3123D80",
      "3123D54",
      "3123D70",
      "3123D7B",
      "3123D89",
      "3123D58",
      "3123D76",
      "3123D7D",
      "3123EFE",
      "3123D64",
      "3123D78",
      "3123D7E",
      "3124E4A"
     ],
     "labels_target": [
      "3123D52",
      "3123D65",
      "3123D79",
      "3123D80",
      "3123D54",
      "3123D70",
      "3123D7B",
      "3123D89",
      "3123D58",
      "3123D76",
      "3123D7D",
      "3123EFE",
      "3123D64",
      "3123D78",
      "3123D7E",
      "3124E4A"
     ],
     "lr": 0.0001,
     "n_epoch": 50,
     "n_query": 2,
     "n_shot": 3,
     "n_way": 16,
     "num_examples_per_domain_per_label_source": -1,
     "num_examples_per_domain_per_label_target": -1,
     "patience": 3,
     "pickle_name": "oracle.Run1_10kExamples_stratified_ds.2022A.pkl",
     "seed": 420,
     "test_k_factor": 2,
     "torch_default_dtype": "torch.float32",
     "train_k_factor": 3,
     "val_k_factor": 2,
     "x_net": [
      {
       "class": "nnReshape",
       "kargs": {
        "shape": [
         -1,
         1,
         2,
         256
        ]
       }
      },
      {
       "class": "Conv2d",
       "kargs": {
        "bias": false,
        "in_channels": 1,
        "kernel_size": [
         1,
         7
        ],
        "out_channels": 256,
        "padding": [
         0,
         3
        ]
       }
      },
      {
       "class": "ReLU",
       "kargs": {
        "inplace": true
       }
      },
      {
       "class": "BatchNorm2d",
       "kargs": {
        "num_features": 256
       }
      },
      {
       "class": "Conv2d",
       "kargs": {
        "bias": true,
        "in_channels": 256,
        "kernel_size": [
         2,
         7
        ],
        "out_channels": 80,
        "padding": [
         0,
         3
        ]
       }
      },
      {
       "class": "ReLU",
       "kargs": {
        "inplace": true
       }
      },
      {
       "class": "BatchNorm2d",
       "kargs": {
        "num_features": 80
       }
      },
      {
       "class": "Flatten",
       "kargs": {}
      },
      {
       "class": "Linear",
       "kargs": {
        "in_features": 20480,
        "out_features": 256
       }
      },
      {
       "class": "ReLU",
       "kargs": {
        "inplace": true
       }
      },
      {
       "class": "BatchNorm1d",
       "kargs": {
        "num_features": 256
       }
      },
      {
       "class": "Linear",
       "kargs": {
        "in_features": 256,
        "out_features": 256
       }
      }
     ],
     "x_transforms_source": [
      "unit_mag"
     ],
     "x_transforms_target": [
      "unit_mag"
     ]
    }
   },
   "start_time": "2022-03-26T01:44:09.557704",
   "version": "2.3.4"
  }
 },
 "nbformat": 4,
 "nbformat_minor": 5
}