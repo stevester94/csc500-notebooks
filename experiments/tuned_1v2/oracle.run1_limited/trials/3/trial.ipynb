{
 "cells": [
  {
   "cell_type": "markdown",
   "id": "9fea5f46",
   "metadata": {
    "papermill": {
     "duration": 0.014505,
     "end_time": "2022-04-01T20:25:15.518898",
     "exception": false,
     "start_time": "2022-04-01T20:25:15.504393",
     "status": "completed"
    },
    "tags": []
   },
   "source": [
    "# PTN Template\n",
    "This notebook serves as a template for single dataset PTN experiments  \n",
    "It can be run on its own by setting STANDALONE to True (do a find for \"STANDALONE\" to see where)  \n",
    "But it is intended to be executed as part of a *papermill.py script. See any of the   \n",
    "experimentes with a papermill script to get started with that workflow.  "
   ]
  },
  {
   "cell_type": "code",
   "execution_count": 1,
   "id": "0902182a",
   "metadata": {
    "execution": {
     "iopub.execute_input": "2022-04-01T20:25:15.551064Z",
     "iopub.status.busy": "2022-04-01T20:25:15.550577Z",
     "iopub.status.idle": "2022-04-01T20:25:16.457546Z",
     "shell.execute_reply": "2022-04-01T20:25:16.457761Z"
    },
    "papermill": {
     "duration": 0.929814,
     "end_time": "2022-04-01T20:25:16.457850",
     "exception": false,
     "start_time": "2022-04-01T20:25:15.528036",
     "status": "completed"
    },
    "tags": []
   },
   "outputs": [],
   "source": [
    "%load_ext autoreload\n",
    "%autoreload 2\n",
    "%matplotlib inline\n",
    "\n",
    "    \n",
    "import os, json, sys, time, random\n",
    "import numpy as np\n",
    "import torch\n",
    "from torch.optim import Adam\n",
    "from  easydict import EasyDict\n",
    "import matplotlib.pyplot as plt\n",
    "\n",
    "from steves_models.steves_ptn import Steves_Prototypical_Network\n",
    "\n",
    "from steves_utils.lazy_iterable_wrapper import Lazy_Iterable_Wrapper\n",
    "from steves_utils.iterable_aggregator import Iterable_Aggregator\n",
    "from steves_utils.ptn_train_eval_test_jig import  PTN_Train_Eval_Test_Jig\n",
    "from steves_utils.torch_sequential_builder import build_sequential\n",
    "from steves_utils.torch_utils import get_dataset_metrics, ptn_confusion_by_domain_over_dataloader\n",
    "from steves_utils.utils_v2 import (per_domain_accuracy_from_confusion, get_datasets_base_path)\n",
    "from steves_utils.PTN.utils import independent_accuracy_assesment\n",
    "\n",
    "from steves_utils.stratified_dataset.episodic_accessor import Episodic_Accessor_Factory\n",
    "\n",
    "from steves_utils.ptn_do_report import (\n",
    "    get_loss_curve,\n",
    "    get_results_table,\n",
    "    get_parameters_table,\n",
    "    get_domain_accuracies,\n",
    ")\n",
    "\n",
    "from steves_utils.transforms import get_chained_transform"
   ]
  },
  {
   "cell_type": "markdown",
   "id": "41c840b4",
   "metadata": {
    "papermill": {
     "duration": 0.009123,
     "end_time": "2022-04-01T20:25:16.476188",
     "exception": false,
     "start_time": "2022-04-01T20:25:16.467065",
     "status": "completed"
    },
    "tags": []
   },
   "source": [
    "# Required Parameters\n",
    "These are allowed parameters, not defaults\n",
    "Each of these values need to be present in the injected parameters (the notebook will raise an exception if they are not present)\n",
    "\n",
    "Papermill uses the cell tag \"parameters\" to inject the real parameters below this cell.\n",
    "Enable tags to see what I mean"
   ]
  },
  {
   "cell_type": "code",
   "execution_count": 2,
   "id": "fd44eb83",
   "metadata": {
    "execution": {
     "iopub.execute_input": "2022-04-01T20:25:16.497580Z",
     "iopub.status.busy": "2022-04-01T20:25:16.495946Z",
     "iopub.status.idle": "2022-04-01T20:25:16.510974Z",
     "shell.execute_reply": "2022-04-01T20:25:16.511341Z"
    },
    "papermill": {
     "duration": 0.0261,
     "end_time": "2022-04-01T20:25:16.511445",
     "exception": false,
     "start_time": "2022-04-01T20:25:16.485345",
     "status": "completed"
    },
    "tags": []
   },
   "outputs": [],
   "source": [
    "required_parameters = {\n",
    "    \"experiment_name\",\n",
    "    \"lr\",\n",
    "    \"device\",\n",
    "    \"seed\",\n",
    "    \"dataset_seed\",\n",
    "    \"labels_source\",\n",
    "    \"labels_target\",\n",
    "    \"domains_source\",\n",
    "    \"domains_target\",\n",
    "    \"num_examples_per_domain_per_label_source\",\n",
    "    \"num_examples_per_domain_per_label_target\",\n",
    "    \"n_shot\",\n",
    "    \"n_way\",\n",
    "    \"n_query\",\n",
    "    \"train_k_factor\",\n",
    "    \"val_k_factor\",\n",
    "    \"test_k_factor\",\n",
    "    \"n_epoch\",\n",
    "    \"patience\",\n",
    "    \"criteria_for_best\",\n",
    "    \"x_transforms_source\",\n",
    "    \"x_transforms_target\",\n",
    "    \"episode_transforms_source\",\n",
    "    \"episode_transforms_target\",\n",
    "    \"pickle_name\",\n",
    "    \"x_net\",\n",
    "    \"NUM_LOGS_PER_EPOCH\",\n",
    "    \"BEST_MODEL_PATH\",\n",
    "    \"torch_default_dtype\"\n",
    "}"
   ]
  },
  {
   "cell_type": "code",
   "execution_count": 3,
   "id": "fa3f0049",
   "metadata": {
    "execution": {
     "iopub.execute_input": "2022-04-01T20:25:16.542778Z",
     "iopub.status.busy": "2022-04-01T20:25:16.534839Z",
     "iopub.status.idle": "2022-04-01T20:25:16.557928Z",
     "shell.execute_reply": "2022-04-01T20:25:16.557623Z"
    },
    "papermill": {
     "duration": 0.033651,
     "end_time": "2022-04-01T20:25:16.557996",
     "exception": false,
     "start_time": "2022-04-01T20:25:16.524345",
     "status": "completed"
    },
    "tags": [
     "parameters"
    ]
   },
   "outputs": [],
   "source": [
    "\n",
    "\n",
    "standalone_parameters = {}\n",
    "standalone_parameters[\"experiment_name\"] = \"STANDALONE PTN\"\n",
    "standalone_parameters[\"lr\"] = 0.0001\n",
    "standalone_parameters[\"device\"] = \"cuda\"\n",
    "\n",
    "standalone_parameters[\"seed\"] = 1337\n",
    "standalone_parameters[\"dataset_seed\"] = 1337\n",
    "\n",
    "\n",
    "standalone_parameters[\"num_examples_per_domain_per_label_source\"]=100\n",
    "standalone_parameters[\"num_examples_per_domain_per_label_target\"]=100\n",
    "\n",
    "standalone_parameters[\"n_shot\"] = 3\n",
    "standalone_parameters[\"n_query\"]  = 2\n",
    "standalone_parameters[\"train_k_factor\"] = 1\n",
    "standalone_parameters[\"val_k_factor\"] = 2\n",
    "standalone_parameters[\"test_k_factor\"] = 2\n",
    "\n",
    "\n",
    "standalone_parameters[\"n_epoch\"] = 100\n",
    "\n",
    "standalone_parameters[\"patience\"] = 10\n",
    "standalone_parameters[\"criteria_for_best\"] = \"target_accuracy\"\n",
    "\n",
    "standalone_parameters[\"x_transforms_source\"] = [\"unit_power\"]\n",
    "standalone_parameters[\"x_transforms_target\"] = [\"unit_power\"]\n",
    "standalone_parameters[\"episode_transforms_source\"] = []\n",
    "standalone_parameters[\"episode_transforms_target\"] = []\n",
    "\n",
    "standalone_parameters[\"torch_default_dtype\"] = \"torch.float32\" \n",
    "\n",
    "\n",
    "\n",
    "standalone_parameters[\"x_net\"] =     [\n",
    "    {\"class\": \"nnReshape\", \"kargs\": {\"shape\":[-1, 1, 2, 256]}},\n",
    "    {\"class\": \"Conv2d\", \"kargs\": { \"in_channels\":1, \"out_channels\":256, \"kernel_size\":(1,7), \"bias\":False, \"padding\":(0,3), },},\n",
    "    {\"class\": \"ReLU\", \"kargs\": {\"inplace\": True}},\n",
    "    {\"class\": \"BatchNorm2d\", \"kargs\": {\"num_features\":256}},\n",
    "\n",
    "    {\"class\": \"Conv2d\", \"kargs\": { \"in_channels\":256, \"out_channels\":80, \"kernel_size\":(2,7), \"bias\":True, \"padding\":(0,3), },},\n",
    "    {\"class\": \"ReLU\", \"kargs\": {\"inplace\": True}},\n",
    "    {\"class\": \"BatchNorm2d\", \"kargs\": {\"num_features\":80}},\n",
    "    {\"class\": \"Flatten\", \"kargs\": {}},\n",
    "\n",
    "    {\"class\": \"Linear\", \"kargs\": {\"in_features\": 80*256, \"out_features\": 256}}, # 80 units per IQ pair\n",
    "    {\"class\": \"ReLU\", \"kargs\": {\"inplace\": True}},\n",
    "    {\"class\": \"BatchNorm1d\", \"kargs\": {\"num_features\":256}},\n",
    "\n",
    "    {\"class\": \"Linear\", \"kargs\": {\"in_features\": 256, \"out_features\": 256}},\n",
    "]\n",
    "\n",
    "# Parameters relevant to results\n",
    "# These parameters will basically never need to change\n",
    "standalone_parameters[\"NUM_LOGS_PER_EPOCH\"] = 10\n",
    "standalone_parameters[\"BEST_MODEL_PATH\"] = \"./best_model.pth\"\n",
    "\n",
    "# uncomment for CORES dataset\n",
    "from steves_utils.CORES.utils import (\n",
    "    ALL_NODES,\n",
    "    ALL_NODES_MINIMUM_1000_EXAMPLES,\n",
    "    ALL_DAYS\n",
    ")\n",
    "\n",
    "\n",
    "standalone_parameters[\"labels_source\"] = ALL_NODES\n",
    "standalone_parameters[\"labels_target\"] = ALL_NODES\n",
    "\n",
    "standalone_parameters[\"domains_source\"] = [1]\n",
    "standalone_parameters[\"domains_target\"] = [2,3,4,5]\n",
    "\n",
    "standalone_parameters[\"pickle_name\"] = \"cores.stratified_ds.2022A.pkl\"\n",
    "\n",
    "\n",
    "# Uncomment these for ORACLE dataset\n",
    "# from steves_utils.ORACLE.utils_v2 import (\n",
    "#     ALL_DISTANCES_FEET,\n",
    "#     ALL_RUNS,\n",
    "#     ALL_SERIAL_NUMBERS,\n",
    "# )\n",
    "# standalone_parameters[\"labels_source\"] = ALL_SERIAL_NUMBERS\n",
    "# standalone_parameters[\"labels_target\"] = ALL_SERIAL_NUMBERS\n",
    "# standalone_parameters[\"domains_source\"] = [8,20, 38,50]\n",
    "# standalone_parameters[\"domains_target\"] = [14, 26, 32, 44, 56]\n",
    "# standalone_parameters[\"pickle_name\"] = \"oracle.frame_indexed.stratified_ds.2022A.pkl\"\n",
    "# standalone_parameters[\"num_examples_per_domain_per_label_source\"]=1000\n",
    "# standalone_parameters[\"num_examples_per_domain_per_label_target\"]=1000\n",
    "\n",
    "# Uncomment these for Metahan dataset\n",
    "# standalone_parameters[\"labels_source\"] = list(range(19))\n",
    "# standalone_parameters[\"labels_target\"] = list(range(19))\n",
    "# standalone_parameters[\"domains_source\"] = [0]\n",
    "# standalone_parameters[\"domains_target\"] = [1]\n",
    "# standalone_parameters[\"pickle_name\"] = \"metehan.stratified_ds.2022A.pkl\"\n",
    "# standalone_parameters[\"n_way\"]  = len(standalone_parameters[\"labels_source\"])\n",
    "# standalone_parameters[\"num_examples_per_domain_per_label_source\"]=200\n",
    "# standalone_parameters[\"num_examples_per_domain_per_label_target\"]=100\n",
    "\n",
    "\n",
    "standalone_parameters[\"n_way\"]  = len(standalone_parameters[\"labels_source\"])"
   ]
  },
  {
   "cell_type": "code",
   "execution_count": 4,
   "id": "a8796cc1",
   "metadata": {
    "execution": {
     "iopub.execute_input": "2022-04-01T20:25:16.589098Z",
     "iopub.status.busy": "2022-04-01T20:25:16.588825Z",
     "iopub.status.idle": "2022-04-01T20:25:16.601595Z",
     "shell.execute_reply": "2022-04-01T20:25:16.601153Z"
    },
    "papermill": {
     "duration": 0.030358,
     "end_time": "2022-04-01T20:25:16.601682",
     "exception": false,
     "start_time": "2022-04-01T20:25:16.571324",
     "status": "completed"
    },
    "tags": [
     "injected-parameters"
    ]
   },
   "outputs": [],
   "source": [
    "# Parameters\n",
    "parameters = {\n",
    "    \"experiment_name\": \"tuned_1v2:oracle.run1_limited\",\n",
    "    \"device\": \"cuda\",\n",
    "    \"lr\": 0.0001,\n",
    "    \"labels_source\": [\n",
    "        \"3123D52\",\n",
    "        \"3123D65\",\n",
    "        \"3123D79\",\n",
    "        \"3123D80\",\n",
    "        \"3123D54\",\n",
    "        \"3123D70\",\n",
    "        \"3123D7B\",\n",
    "        \"3123D89\",\n",
    "        \"3123D58\",\n",
    "        \"3123D76\",\n",
    "        \"3123D7D\",\n",
    "        \"3123EFE\",\n",
    "        \"3123D64\",\n",
    "        \"3123D78\",\n",
    "        \"3123D7E\",\n",
    "        \"3124E4A\",\n",
    "    ],\n",
    "    \"labels_target\": [\n",
    "        \"3123D52\",\n",
    "        \"3123D65\",\n",
    "        \"3123D79\",\n",
    "        \"3123D80\",\n",
    "        \"3123D54\",\n",
    "        \"3123D70\",\n",
    "        \"3123D7B\",\n",
    "        \"3123D89\",\n",
    "        \"3123D58\",\n",
    "        \"3123D76\",\n",
    "        \"3123D7D\",\n",
    "        \"3123EFE\",\n",
    "        \"3123D64\",\n",
    "        \"3123D78\",\n",
    "        \"3123D7E\",\n",
    "        \"3124E4A\",\n",
    "    ],\n",
    "    \"episode_transforms_source\": [],\n",
    "    \"episode_transforms_target\": [],\n",
    "    \"domains_source\": [8, 32, 50],\n",
    "    \"domains_target\": [14, 20, 26, 38, 44],\n",
    "    \"num_examples_per_domain_per_label_source\": 2000,\n",
    "    \"num_examples_per_domain_per_label_target\": 2000,\n",
    "    \"n_shot\": 3,\n",
    "    \"n_way\": 16,\n",
    "    \"n_query\": 2,\n",
    "    \"train_k_factor\": 3,\n",
    "    \"val_k_factor\": 2,\n",
    "    \"test_k_factor\": 2,\n",
    "    \"torch_default_dtype\": \"torch.float32\",\n",
    "    \"n_epoch\": 50,\n",
    "    \"patience\": 3,\n",
    "    \"criteria_for_best\": \"target_accuracy\",\n",
    "    \"x_net\": [\n",
    "        {\"class\": \"nnReshape\", \"kargs\": {\"shape\": [-1, 1, 2, 256]}},\n",
    "        {\n",
    "            \"class\": \"Conv2d\",\n",
    "            \"kargs\": {\n",
    "                \"in_channels\": 1,\n",
    "                \"out_channels\": 256,\n",
    "                \"kernel_size\": [1, 7],\n",
    "                \"bias\": False,\n",
    "                \"padding\": [0, 3],\n",
    "            },\n",
    "        },\n",
    "        {\"class\": \"ReLU\", \"kargs\": {\"inplace\": True}},\n",
    "        {\"class\": \"BatchNorm2d\", \"kargs\": {\"num_features\": 256}},\n",
    "        {\n",
    "            \"class\": \"Conv2d\",\n",
    "            \"kargs\": {\n",
    "                \"in_channels\": 256,\n",
    "                \"out_channels\": 80,\n",
    "                \"kernel_size\": [2, 7],\n",
    "                \"bias\": True,\n",
    "                \"padding\": [0, 3],\n",
    "            },\n",
    "        },\n",
    "        {\"class\": \"ReLU\", \"kargs\": {\"inplace\": True}},\n",
    "        {\"class\": \"BatchNorm2d\", \"kargs\": {\"num_features\": 80}},\n",
    "        {\"class\": \"Flatten\", \"kargs\": {}},\n",
    "        {\"class\": \"Linear\", \"kargs\": {\"in_features\": 20480, \"out_features\": 256}},\n",
    "        {\"class\": \"ReLU\", \"kargs\": {\"inplace\": True}},\n",
    "        {\"class\": \"BatchNorm1d\", \"kargs\": {\"num_features\": 256}},\n",
    "        {\"class\": \"Linear\", \"kargs\": {\"in_features\": 256, \"out_features\": 256}},\n",
    "    ],\n",
    "    \"NUM_LOGS_PER_EPOCH\": 10,\n",
    "    \"BEST_MODEL_PATH\": \"./best_model.pth\",\n",
    "    \"pickle_name\": \"oracle.Run1_10kExamples_stratified_ds.2022A.pkl\",\n",
    "    \"x_transforms_source\": [\"unit_mag\"],\n",
    "    \"x_transforms_target\": [\"unit_mag\"],\n",
    "    \"dataset_seed\": 420,\n",
    "    \"seed\": 420,\n",
    "}\n"
   ]
  },
  {
   "cell_type": "code",
   "execution_count": 5,
   "id": "8fa1cc33",
   "metadata": {
    "execution": {
     "iopub.execute_input": "2022-04-01T20:25:16.629366Z",
     "iopub.status.busy": "2022-04-01T20:25:16.629117Z",
     "iopub.status.idle": "2022-04-01T20:25:16.643776Z",
     "shell.execute_reply": "2022-04-01T20:25:16.643474Z"
    },
    "papermill": {
     "duration": 0.028285,
     "end_time": "2022-04-01T20:25:16.643843",
     "exception": false,
     "start_time": "2022-04-01T20:25:16.615558",
     "status": "completed"
    },
    "tags": []
   },
   "outputs": [],
   "source": [
    "# Set this to True if you want to run this template directly\n",
    "STANDALONE = False\n",
    "if STANDALONE:\n",
    "    print(\"parameters not injected, running with standalone_parameters\")\n",
    "    parameters = standalone_parameters\n",
    "\n",
    "if not 'parameters' in locals() and not 'parameters' in globals():\n",
    "    raise Exception(\"Parameter injection failed\")\n",
    "\n",
    "#Use an easy dict for all the parameters\n",
    "p = EasyDict(parameters)\n",
    "\n",
    "supplied_keys = set(p.keys())\n",
    "\n",
    "if  supplied_keys != required_parameters:\n",
    "    print(\"Parameters are incorrect\")\n",
    "    if len(supplied_keys - required_parameters)>0: print(\"Shouldn't have:\", str(supplied_keys - required_parameters))\n",
    "    if len(required_parameters - supplied_keys)>0: print(\"Need to have:\", str(required_parameters - supplied_keys))\n",
    "    raise RuntimeError(\"Parameters are incorrect\")\n",
    "\n"
   ]
  },
  {
   "cell_type": "code",
   "execution_count": 6,
   "id": "3a028d58",
   "metadata": {
    "execution": {
     "iopub.execute_input": "2022-04-01T20:25:16.669775Z",
     "iopub.status.busy": "2022-04-01T20:25:16.669529Z",
     "iopub.status.idle": "2022-04-01T20:25:16.684594Z",
     "shell.execute_reply": "2022-04-01T20:25:16.684248Z"
    },
    "papermill": {
     "duration": 0.026089,
     "end_time": "2022-04-01T20:25:16.684663",
     "exception": false,
     "start_time": "2022-04-01T20:25:16.658574",
     "status": "completed"
    },
    "tags": []
   },
   "outputs": [],
   "source": [
    "###################################\n",
    "# Set the RNGs and make it all deterministic\n",
    "###################################\n",
    "np.random.seed(p.seed)\n",
    "random.seed(p.seed)\n",
    "torch.manual_seed(p.seed)\n",
    "\n",
    "torch.use_deterministic_algorithms(True) "
   ]
  },
  {
   "cell_type": "code",
   "execution_count": 7,
   "id": "b691acf6",
   "metadata": {
    "execution": {
     "iopub.execute_input": "2022-04-01T20:25:16.710829Z",
     "iopub.status.busy": "2022-04-01T20:25:16.710569Z",
     "iopub.status.idle": "2022-04-01T20:25:16.724583Z",
     "shell.execute_reply": "2022-04-01T20:25:16.724945Z"
    },
    "papermill": {
     "duration": 0.026741,
     "end_time": "2022-04-01T20:25:16.725046",
     "exception": false,
     "start_time": "2022-04-01T20:25:16.698305",
     "status": "completed"
    },
    "tags": []
   },
   "outputs": [],
   "source": [
    "###########################################\n",
    "# The stratified datasets honor this\n",
    "###########################################\n",
    "torch.set_default_dtype(eval(p.torch_default_dtype))"
   ]
  },
  {
   "cell_type": "code",
   "execution_count": 8,
   "id": "b5fba671",
   "metadata": {
    "execution": {
     "iopub.execute_input": "2022-04-01T20:25:16.750841Z",
     "iopub.status.busy": "2022-04-01T20:25:16.750587Z",
     "iopub.status.idle": "2022-04-01T20:25:16.791488Z",
     "shell.execute_reply": "2022-04-01T20:25:16.791103Z"
    },
    "papermill": {
     "duration": 0.052314,
     "end_time": "2022-04-01T20:25:16.791576",
     "exception": false,
     "start_time": "2022-04-01T20:25:16.739262",
     "status": "completed"
    },
    "tags": []
   },
   "outputs": [],
   "source": [
    "###################################\n",
    "# Build the network(s)\n",
    "# Note: It's critical to do this AFTER setting the RNG\n",
    "# (This is due to the randomized initial weights)\n",
    "###################################\n",
    "x_net = build_sequential(p.x_net)"
   ]
  },
  {
   "cell_type": "code",
   "execution_count": 9,
   "id": "5d7e61cc",
   "metadata": {
    "execution": {
     "iopub.execute_input": "2022-04-01T20:25:16.816113Z",
     "iopub.status.busy": "2022-04-01T20:25:16.815363Z",
     "iopub.status.idle": "2022-04-01T20:25:16.831696Z",
     "shell.execute_reply": "2022-04-01T20:25:16.832059Z"
    },
    "papermill": {
     "duration": 0.027536,
     "end_time": "2022-04-01T20:25:16.832160",
     "exception": false,
     "start_time": "2022-04-01T20:25:16.804624",
     "status": "completed"
    },
    "tags": []
   },
   "outputs": [],
   "source": [
    "start_time_secs = time.time()"
   ]
  },
  {
   "cell_type": "code",
   "execution_count": 10,
   "id": "fd5442bc",
   "metadata": {
    "execution": {
     "iopub.execute_input": "2022-04-01T20:25:16.863996Z",
     "iopub.status.busy": "2022-04-01T20:25:16.863621Z",
     "iopub.status.idle": "2022-04-01T20:25:34.712541Z",
     "shell.execute_reply": "2022-04-01T20:25:34.712109Z"
    },
    "papermill": {
     "duration": 17.865855,
     "end_time": "2022-04-01T20:25:34.712634",
     "exception": false,
     "start_time": "2022-04-01T20:25:16.846779",
     "status": "completed"
    },
    "tags": []
   },
   "outputs": [],
   "source": [
    "###################################\n",
    "# Build the dataset\n",
    "###################################\n",
    "\n",
    "if p.x_transforms_source == []: x_transform_source = None\n",
    "else: x_transform_source = get_chained_transform(p.x_transforms_source) \n",
    "\n",
    "if p.x_transforms_target == []: x_transform_target = None\n",
    "else: x_transform_target = get_chained_transform(p.x_transforms_target)\n",
    "\n",
    "if p.episode_transforms_source == []: episode_transform_source = None\n",
    "else: raise Exception(\"episode_transform_source not implemented\")\n",
    "\n",
    "if p.episode_transforms_target == []: episode_transform_target = None\n",
    "else: raise Exception(\"episode_transform_target not implemented\")\n",
    "\n",
    "\n",
    "eaf_source = Episodic_Accessor_Factory(\n",
    "    labels=p.labels_source,\n",
    "    domains=p.domains_source,\n",
    "    num_examples_per_domain_per_label=p.num_examples_per_domain_per_label_source,\n",
    "    iterator_seed=p.seed,\n",
    "    dataset_seed=p.dataset_seed,\n",
    "    n_shot=p.n_shot,\n",
    "    n_way=p.n_way,\n",
    "    n_query=p.n_query,\n",
    "    train_val_test_k_factors=(p.train_k_factor,p.val_k_factor,p.test_k_factor),\n",
    "    pickle_path=os.path.join(get_datasets_base_path(), p.pickle_name),\n",
    "    x_transform_func=x_transform_source,\n",
    "    example_transform_func=episode_transform_source,\n",
    "    \n",
    ")\n",
    "train_original_source, val_original_source, test_original_source = eaf_source.get_train(), eaf_source.get_val(), eaf_source.get_test()\n",
    "\n",
    "\n",
    "eaf_target = Episodic_Accessor_Factory(\n",
    "    labels=p.labels_target,\n",
    "    domains=p.domains_target,\n",
    "    num_examples_per_domain_per_label=p.num_examples_per_domain_per_label_target,\n",
    "    iterator_seed=p.seed,\n",
    "    dataset_seed=p.dataset_seed,\n",
    "    n_shot=p.n_shot,\n",
    "    n_way=p.n_way,\n",
    "    n_query=p.n_query,\n",
    "    train_val_test_k_factors=(p.train_k_factor,p.val_k_factor,p.test_k_factor),\n",
    "    pickle_path=os.path.join(get_datasets_base_path(), p.pickle_name),\n",
    "    x_transform_func=x_transform_target,\n",
    "    example_transform_func=episode_transform_target,\n",
    ")\n",
    "train_original_target, val_original_target, test_original_target = eaf_target.get_train(), eaf_target.get_val(), eaf_target.get_test()\n",
    "\n",
    "\n",
    "transform_lambda = lambda ex: ex[1] # Original is (<domain>, <episode>) so we strip down to episode only\n",
    "\n",
    "train_processed_source = Lazy_Iterable_Wrapper(train_original_source, transform_lambda)\n",
    "val_processed_source   = Lazy_Iterable_Wrapper(val_original_source, transform_lambda)\n",
    "test_processed_source  = Lazy_Iterable_Wrapper(test_original_source, transform_lambda)\n",
    "\n",
    "train_processed_target = Lazy_Iterable_Wrapper(train_original_target, transform_lambda)\n",
    "val_processed_target   = Lazy_Iterable_Wrapper(val_original_target, transform_lambda)\n",
    "test_processed_target  = Lazy_Iterable_Wrapper(test_original_target, transform_lambda)\n",
    "\n",
    "datasets = EasyDict({\n",
    "    \"source\": {\n",
    "        \"original\": {\"train\":train_original_source, \"val\":val_original_source, \"test\":test_original_source},\n",
    "        \"processed\": {\"train\":train_processed_source, \"val\":val_processed_source, \"test\":test_processed_source}\n",
    "    },\n",
    "    \"target\": {\n",
    "        \"original\": {\"train\":train_original_target, \"val\":val_original_target, \"test\":test_original_target},\n",
    "        \"processed\": {\"train\":train_processed_target, \"val\":val_processed_target, \"test\":test_processed_target}\n",
    "    },\n",
    "})"
   ]
  },
  {
   "cell_type": "code",
   "execution_count": 11,
   "id": "296189d9",
   "metadata": {
    "execution": {
     "iopub.execute_input": "2022-04-01T20:25:34.741333Z",
     "iopub.status.busy": "2022-04-01T20:25:34.741078Z",
     "iopub.status.idle": "2022-04-01T20:25:36.352867Z",
     "shell.execute_reply": "2022-04-01T20:25:36.352466Z"
    },
    "papermill": {
     "duration": 1.625528,
     "end_time": "2022-04-01T20:25:36.352957",
     "exception": false,
     "start_time": "2022-04-01T20:25:34.727429",
     "status": "completed"
    },
    "tags": []
   },
   "outputs": [
    {
     "name": "stdout",
     "output_type": "stream",
     "text": [
      "Visually inspect these to see if they line up with expected values given the transforms\n",
      "x_transforms_source ['unit_mag']\n",
      "x_transforms_target ['unit_mag']\n",
      "Average magnitude, source: 1.0\n",
      "Average power, source: 1.2406757\n"
     ]
    },
    {
     "name": "stdout",
     "output_type": "stream",
     "text": [
      "Average magnitude, target: 1.0\n",
      "Average power, target: 1.3078377\n"
     ]
    }
   ],
   "source": [
    "# Some quick unit tests on the data\n",
    "from steves_utils.transforms import get_average_power, get_average_magnitude\n",
    "\n",
    "q_x, q_y, s_x, s_y, truth = next(iter(train_processed_source))\n",
    "\n",
    "assert q_x.dtype == eval(p.torch_default_dtype)\n",
    "assert s_x.dtype == eval(p.torch_default_dtype)\n",
    "\n",
    "print(\"Visually inspect these to see if they line up with expected values given the transforms\")\n",
    "print('x_transforms_source', p.x_transforms_source)\n",
    "print('x_transforms_target', p.x_transforms_target)\n",
    "print(\"Average magnitude, source:\", get_average_magnitude(q_x[0].numpy()))\n",
    "print(\"Average power, source:\", get_average_power(q_x[0].numpy()))\n",
    "\n",
    "q_x, q_y, s_x, s_y, truth = next(iter(train_processed_target))\n",
    "print(\"Average magnitude, target:\", get_average_magnitude(q_x[0].numpy()))\n",
    "print(\"Average power, target:\", get_average_power(q_x[0].numpy()))\n"
   ]
  },
  {
   "cell_type": "code",
   "execution_count": 12,
   "id": "bbdacba1",
   "metadata": {
    "execution": {
     "iopub.execute_input": "2022-04-01T20:25:36.381690Z",
     "iopub.status.busy": "2022-04-01T20:25:36.381404Z",
     "iopub.status.idle": "2022-04-01T20:25:36.443688Z",
     "shell.execute_reply": "2022-04-01T20:25:36.444087Z"
    },
    "papermill": {
     "duration": 0.077294,
     "end_time": "2022-04-01T20:25:36.444203",
     "exception": false,
     "start_time": "2022-04-01T20:25:36.366909",
     "status": "completed"
    },
    "tags": []
   },
   "outputs": [
    {
     "name": "stdout",
     "output_type": "stream",
     "text": [
      "(2, 256)\n"
     ]
    }
   ],
   "source": [
    "###################################\n",
    "# Build the model\n",
    "###################################\n",
    "model = Steves_Prototypical_Network(x_net, device=p.device, x_shape=(2,256))\n",
    "optimizer = Adam(params=model.parameters(), lr=p.lr)"
   ]
  },
  {
   "cell_type": "code",
   "execution_count": 13,
   "id": "22b39ac5",
   "metadata": {
    "execution": {
     "iopub.execute_input": "2022-04-01T20:25:36.473372Z",
     "iopub.status.busy": "2022-04-01T20:25:36.473117Z",
     "iopub.status.idle": "2022-04-01T20:41:04.326460Z",
     "shell.execute_reply": "2022-04-01T20:41:04.326230Z"
    },
    "papermill": {
     "duration": 927.86615,
     "end_time": "2022-04-01T20:41:04.326519",
     "exception": false,
     "start_time": "2022-04-01T20:25:36.460369",
     "status": "completed"
    },
    "tags": []
   },
   "outputs": [
    {
     "name": "stdout",
     "output_type": "stream",
     "text": [
      "epoch: 1, [batch: 1 / 2520], examples_per_second: 128.4560, train_label_loss: 2.7609, \n"
     ]
    },
    {
     "name": "stdout",
     "output_type": "stream",
     "text": [
      "epoch: 1, [batch: 252 / 2520], examples_per_second: 3144.1681, train_label_loss: 2.6913, \n"
     ]
    },
    {
     "name": "stdout",
     "output_type": "stream",
     "text": [
      "epoch: 1, [batch: 504 / 2520], examples_per_second: 3165.7445, train_label_loss: 1.4861, \n"
     ]
    },
    {
     "name": "stdout",
     "output_type": "stream",
     "text": [
      "epoch: 1, [batch: 756 / 2520], examples_per_second: 3171.5022, train_label_loss: 2.0563, \n"
     ]
    },
    {
     "name": "stdout",
     "output_type": "stream",
     "text": [
      "epoch: 1, [batch: 1008 / 2520], examples_per_second: 3144.6027, train_label_loss: 1.8450, \n"
     ]
    },
    {
     "name": "stdout",
     "output_type": "stream",
     "text": [
      "epoch: 1, [batch: 1260 / 2520], examples_per_second: 3171.6664, train_label_loss: 1.4218, \n"
     ]
    },
    {
     "name": "stdout",
     "output_type": "stream",
     "text": [
      "epoch: 1, [batch: 1512 / 2520], examples_per_second: 3165.6697, train_label_loss: 1.6994, \n"
     ]
    },
    {
     "name": "stdout",
     "output_type": "stream",
     "text": [
      "epoch: 1, [batch: 1764 / 2520], examples_per_second: 3161.1657, train_label_loss: 1.5165, \n"
     ]
    },
    {
     "name": "stdout",
     "output_type": "stream",
     "text": [
      "epoch: 1, [batch: 2016 / 2520], examples_per_second: 3170.8499, train_label_loss: 1.8041, \n"
     ]
    },
    {
     "name": "stdout",
     "output_type": "stream",
     "text": [
      "epoch: 1, [batch: 2268 / 2520], examples_per_second: 3184.4029, train_label_loss: 1.2736, \n"
     ]
    },
    {
     "name": "stdout",
     "output_type": "stream",
     "text": [
      "=============================================================\n",
      "epoch: 1, source_val_acc_label: 0.3807, target_val_acc_label: 0.2747, source_val_label_loss: 1.5542, target_val_label_loss: 1.8665, \n",
      "=============================================================\n"
     ]
    },
    {
     "name": "stdout",
     "output_type": "stream",
     "text": [
      "New best\n"
     ]
    },
    {
     "name": "stdout",
     "output_type": "stream",
     "text": [
      "epoch: 2, [batch: 1 / 2520], examples_per_second: 11.1896, train_label_loss: 1.6980, \n"
     ]
    },
    {
     "name": "stdout",
     "output_type": "stream",
     "text": [
      "epoch: 2, [batch: 252 / 2520], examples_per_second: 3177.9660, train_label_loss: 1.4093, \n"
     ]
    },
    {
     "name": "stdout",
     "output_type": "stream",
     "text": [
      "epoch: 2, [batch: 504 / 2520], examples_per_second: 3192.7497, train_label_loss: 1.4575, \n"
     ]
    },
    {
     "name": "stdout",
     "output_type": "stream",
     "text": [
      "epoch: 2, [batch: 756 / 2520], examples_per_second: 3175.3748, train_label_loss: 1.2577, \n"
     ]
    },
    {
     "name": "stdout",
     "output_type": "stream",
     "text": [
      "epoch: 2, [batch: 1008 / 2520], examples_per_second: 3150.2844, train_label_loss: 1.2805, \n"
     ]
    },
    {
     "name": "stdout",
     "output_type": "stream",
     "text": [
      "epoch: 2, [batch: 1260 / 2520], examples_per_second: 3177.1689, train_label_loss: 1.2599, \n"
     ]
    },
    {
     "name": "stdout",
     "output_type": "stream",
     "text": [
      "epoch: 2, [batch: 1512 / 2520], examples_per_second: 3176.1553, train_label_loss: 1.6231, \n"
     ]
    },
    {
     "name": "stdout",
     "output_type": "stream",
     "text": [
      "epoch: 2, [batch: 1764 / 2520], examples_per_second: 3155.7681, train_label_loss: 1.4636, \n"
     ]
    },
    {
     "name": "stdout",
     "output_type": "stream",
     "text": [
      "epoch: 2, [batch: 2016 / 2520], examples_per_second: 3164.9196, train_label_loss: 1.2268, \n"
     ]
    },
    {
     "name": "stdout",
     "output_type": "stream",
     "text": [
      "epoch: 2, [batch: 2268 / 2520], examples_per_second: 3161.7004, train_label_loss: 1.4690, \n"
     ]
    },
    {
     "name": "stdout",
     "output_type": "stream",
     "text": [
      "=============================================================\n",
      "epoch: 2, source_val_acc_label: 0.4191, target_val_acc_label: 0.2978, source_val_label_loss: 1.4679, target_val_label_loss: 1.8006, \n",
      "=============================================================\n"
     ]
    },
    {
     "name": "stdout",
     "output_type": "stream",
     "text": [
      "New best\n"
     ]
    },
    {
     "name": "stdout",
     "output_type": "stream",
     "text": [
      "epoch: 3, [batch: 1 / 2520], examples_per_second: 11.0859, train_label_loss: 1.2718, \n"
     ]
    },
    {
     "name": "stdout",
     "output_type": "stream",
     "text": [
      "epoch: 3, [batch: 252 / 2520], examples_per_second: 3180.9239, train_label_loss: 1.3041, \n"
     ]
    },
    {
     "name": "stdout",
     "output_type": "stream",
     "text": [
      "epoch: 3, [batch: 504 / 2520], examples_per_second: 3176.6747, train_label_loss: 1.3770, \n"
     ]
    },
    {
     "name": "stdout",
     "output_type": "stream",
     "text": [
      "epoch: 3, [batch: 756 / 2520], examples_per_second: 3184.9494, train_label_loss: 1.3447, \n"
     ]
    },
    {
     "name": "stdout",
     "output_type": "stream",
     "text": [
      "epoch: 3, [batch: 1008 / 2520], examples_per_second: 3165.5247, train_label_loss: 1.3126, \n"
     ]
    },
    {
     "name": "stdout",
     "output_type": "stream",
     "text": [
      "epoch: 3, [batch: 1260 / 2520], examples_per_second: 3198.1218, train_label_loss: 1.4565, \n"
     ]
    },
    {
     "name": "stdout",
     "output_type": "stream",
     "text": [
      "epoch: 3, [batch: 1512 / 2520], examples_per_second: 3186.5744, train_label_loss: 1.4051, \n"
     ]
    },
    {
     "name": "stdout",
     "output_type": "stream",
     "text": [
      "epoch: 3, [batch: 1764 / 2520], examples_per_second: 3150.7256, train_label_loss: 1.3377, \n"
     ]
    },
    {
     "name": "stdout",
     "output_type": "stream",
     "text": [
      "epoch: 3, [batch: 2016 / 2520], examples_per_second: 3183.0850, train_label_loss: 1.3428, \n"
     ]
    },
    {
     "name": "stdout",
     "output_type": "stream",
     "text": [
      "epoch: 3, [batch: 2268 / 2520], examples_per_second: 3191.3625, train_label_loss: 1.0213, \n"
     ]
    },
    {
     "name": "stdout",
     "output_type": "stream",
     "text": [
      "=============================================================\n",
      "epoch: 3, source_val_acc_label: 0.4181, target_val_acc_label: 0.3010, source_val_label_loss: 1.4697, target_val_label_loss: 1.7962, \n",
      "=============================================================\n"
     ]
    },
    {
     "name": "stdout",
     "output_type": "stream",
     "text": [
      "New best\n"
     ]
    },
    {
     "name": "stdout",
     "output_type": "stream",
     "text": [
      "epoch: 4, [batch: 1 / 2520], examples_per_second: 11.0934, train_label_loss: 1.2778, \n"
     ]
    },
    {
     "name": "stdout",
     "output_type": "stream",
     "text": [
      "epoch: 4, [batch: 252 / 2520], examples_per_second: 3168.3908, train_label_loss: 1.0647, \n"
     ]
    },
    {
     "name": "stdout",
     "output_type": "stream",
     "text": [
      "epoch: 4, [batch: 504 / 2520], examples_per_second: 3175.1730, train_label_loss: 1.1712, \n"
     ]
    },
    {
     "name": "stdout",
     "output_type": "stream",
     "text": [
      "epoch: 4, [batch: 756 / 2520], examples_per_second: 3191.8070, train_label_loss: 1.0939, \n"
     ]
    },
    {
     "name": "stdout",
     "output_type": "stream",
     "text": [
      "epoch: 4, [batch: 1008 / 2520], examples_per_second: 3175.1102, train_label_loss: 1.1055, \n"
     ]
    },
    {
     "name": "stdout",
     "output_type": "stream",
     "text": [
      "epoch: 4, [batch: 1260 / 2520], examples_per_second: 3187.0203, train_label_loss: 1.3255, \n"
     ]
    },
    {
     "name": "stdout",
     "output_type": "stream",
     "text": [
      "epoch: 4, [batch: 1512 / 2520], examples_per_second: 3195.8010, train_label_loss: 1.0921, \n"
     ]
    },
    {
     "name": "stdout",
     "output_type": "stream",
     "text": [
      "epoch: 4, [batch: 1764 / 2520], examples_per_second: 3175.7258, train_label_loss: 0.7818, \n"
     ]
    },
    {
     "name": "stdout",
     "output_type": "stream",
     "text": [
      "epoch: 4, [batch: 2016 / 2520], examples_per_second: 3185.6656, train_label_loss: 0.7063, \n"
     ]
    },
    {
     "name": "stdout",
     "output_type": "stream",
     "text": [
      "epoch: 4, [batch: 2268 / 2520], examples_per_second: 3182.7062, train_label_loss: 0.8350, \n"
     ]
    },
    {
     "name": "stdout",
     "output_type": "stream",
     "text": [
      "=============================================================\n",
      "epoch: 4, source_val_acc_label: 0.5337, target_val_acc_label: 0.4346, source_val_label_loss: 1.2791, target_val_label_loss: 1.5449, \n",
      "=============================================================\n"
     ]
    },
    {
     "name": "stdout",
     "output_type": "stream",
     "text": [
      "New best\n"
     ]
    },
    {
     "name": "stdout",
     "output_type": "stream",
     "text": [
      "epoch: 5, [batch: 1 / 2520], examples_per_second: 11.1129, train_label_loss: 0.7487, \n"
     ]
    },
    {
     "name": "stdout",
     "output_type": "stream",
     "text": [
      "epoch: 5, [batch: 252 / 2520], examples_per_second: 3178.3696, train_label_loss: 1.1965, \n"
     ]
    },
    {
     "name": "stdout",
     "output_type": "stream",
     "text": [
      "epoch: 5, [batch: 504 / 2520], examples_per_second: 3197.7297, train_label_loss: 0.4723, \n"
     ]
    },
    {
     "name": "stdout",
     "output_type": "stream",
     "text": [
      "epoch: 5, [batch: 756 / 2520], examples_per_second: 3192.7401, train_label_loss: 1.1010, \n"
     ]
    },
    {
     "name": "stdout",
     "output_type": "stream",
     "text": [
      "epoch: 5, [batch: 1008 / 2520], examples_per_second: 3188.8973, train_label_loss: 1.1430, \n"
     ]
    },
    {
     "name": "stdout",
     "output_type": "stream",
     "text": [
      "epoch: 5, [batch: 1260 / 2520], examples_per_second: 3202.5232, train_label_loss: 1.0738, \n"
     ]
    },
    {
     "name": "stdout",
     "output_type": "stream",
     "text": [
      "epoch: 5, [batch: 1512 / 2520], examples_per_second: 3186.5985, train_label_loss: 0.5288, \n"
     ]
    },
    {
     "name": "stdout",
     "output_type": "stream",
     "text": [
      "epoch: 5, [batch: 1764 / 2520], examples_per_second: 3169.7099, train_label_loss: 0.7702, \n"
     ]
    },
    {
     "name": "stdout",
     "output_type": "stream",
     "text": [
      "epoch: 5, [batch: 2016 / 2520], examples_per_second: 3183.9965, train_label_loss: 0.4817, \n"
     ]
    },
    {
     "name": "stdout",
     "output_type": "stream",
     "text": [
      "epoch: 5, [batch: 2268 / 2520], examples_per_second: 3183.7667, train_label_loss: 1.0990, \n"
     ]
    },
    {
     "name": "stdout",
     "output_type": "stream",
     "text": [
      "=============================================================\n",
      "epoch: 5, source_val_acc_label: 0.5506, target_val_acc_label: 0.4633, source_val_label_loss: 1.2827, target_val_label_loss: 1.5175, \n",
      "=============================================================\n"
     ]
    },
    {
     "name": "stdout",
     "output_type": "stream",
     "text": [
      "New best\n"
     ]
    },
    {
     "name": "stdout",
     "output_type": "stream",
     "text": [
      "epoch: 6, [batch: 1 / 2520], examples_per_second: 11.0887, train_label_loss: 0.5619, \n"
     ]
    },
    {
     "name": "stdout",
     "output_type": "stream",
     "text": [
      "epoch: 6, [batch: 252 / 2520], examples_per_second: 3186.1846, train_label_loss: 0.5262, \n"
     ]
    },
    {
     "name": "stdout",
     "output_type": "stream",
     "text": [
      "epoch: 6, [batch: 504 / 2520], examples_per_second: 3172.3256, train_label_loss: 0.5241, \n"
     ]
    },
    {
     "name": "stdout",
     "output_type": "stream",
     "text": [
      "epoch: 6, [batch: 756 / 2520], examples_per_second: 3179.1969, train_label_loss: 0.8397, \n"
     ]
    },
    {
     "name": "stdout",
     "output_type": "stream",
     "text": [
      "epoch: 6, [batch: 1008 / 2520], examples_per_second: 3174.4633, train_label_loss: 0.8221, \n"
     ]
    },
    {
     "name": "stdout",
     "output_type": "stream",
     "text": [
      "epoch: 6, [batch: 1260 / 2520], examples_per_second: 3177.2013, train_label_loss: 0.2114, \n"
     ]
    },
    {
     "name": "stdout",
     "output_type": "stream",
     "text": [
      "epoch: 6, [batch: 1512 / 2520], examples_per_second: 3186.4767, train_label_loss: 0.7481, \n"
     ]
    },
    {
     "name": "stdout",
     "output_type": "stream",
     "text": [
      "epoch: 6, [batch: 1764 / 2520], examples_per_second: 3178.5638, train_label_loss: 0.4664, \n"
     ]
    },
    {
     "name": "stdout",
     "output_type": "stream",
     "text": [
      "epoch: 6, [batch: 2016 / 2520], examples_per_second: 3175.0491, train_label_loss: 0.5247, \n"
     ]
    },
    {
     "name": "stdout",
     "output_type": "stream",
     "text": [
      "epoch: 6, [batch: 2268 / 2520], examples_per_second: 3166.9464, train_label_loss: 0.3426, \n"
     ]
    },
    {
     "name": "stdout",
     "output_type": "stream",
     "text": [
      "=============================================================\n",
      "epoch: 6, source_val_acc_label: 0.5609, target_val_acc_label: 0.4832, source_val_label_loss: 1.3605, target_val_label_loss: 1.5552, \n",
      "=============================================================\n"
     ]
    },
    {
     "name": "stdout",
     "output_type": "stream",
     "text": [
      "New best\n"
     ]
    },
    {
     "name": "stdout",
     "output_type": "stream",
     "text": [
      "epoch: 7, [batch: 1 / 2520], examples_per_second: 11.0507, train_label_loss: 0.8072, \n"
     ]
    },
    {
     "name": "stdout",
     "output_type": "stream",
     "text": [
      "epoch: 7, [batch: 252 / 2520], examples_per_second: 3182.8515, train_label_loss: 0.5873, \n"
     ]
    },
    {
     "name": "stdout",
     "output_type": "stream",
     "text": [
      "epoch: 7, [batch: 504 / 2520], examples_per_second: 3169.6461, train_label_loss: 0.7741, \n"
     ]
    },
    {
     "name": "stdout",
     "output_type": "stream",
     "text": [
      "epoch: 7, [batch: 756 / 2520], examples_per_second: 3186.8728, train_label_loss: 0.4444, \n"
     ]
    },
    {
     "name": "stdout",
     "output_type": "stream",
     "text": [
      "epoch: 7, [batch: 1008 / 2520], examples_per_second: 3176.8645, train_label_loss: 0.6606, \n"
     ]
    },
    {
     "name": "stdout",
     "output_type": "stream",
     "text": [
      "epoch: 7, [batch: 1260 / 2520], examples_per_second: 3194.2545, train_label_loss: 0.2055, \n"
     ]
    },
    {
     "name": "stdout",
     "output_type": "stream",
     "text": [
      "epoch: 7, [batch: 1512 / 2520], examples_per_second: 3195.5310, train_label_loss: 0.5634, \n"
     ]
    },
    {
     "name": "stdout",
     "output_type": "stream",
     "text": [
      "epoch: 7, [batch: 1764 / 2520], examples_per_second: 3191.2232, train_label_loss: 0.5348, \n"
     ]
    },
    {
     "name": "stdout",
     "output_type": "stream",
     "text": [
      "epoch: 7, [batch: 2016 / 2520], examples_per_second: 3192.7234, train_label_loss: 0.4927, \n"
     ]
    },
    {
     "name": "stdout",
     "output_type": "stream",
     "text": [
      "epoch: 7, [batch: 2268 / 2520], examples_per_second: 3193.0270, train_label_loss: 0.2712, \n"
     ]
    },
    {
     "name": "stdout",
     "output_type": "stream",
     "text": [
      "=============================================================\n",
      "epoch: 7, source_val_acc_label: 0.5766, target_val_acc_label: 0.4856, source_val_label_loss: 1.3875, target_val_label_loss: 1.6202, \n",
      "=============================================================\n"
     ]
    },
    {
     "name": "stdout",
     "output_type": "stream",
     "text": [
      "New best\n"
     ]
    },
    {
     "name": "stdout",
     "output_type": "stream",
     "text": [
      "epoch: 8, [batch: 1 / 2520], examples_per_second: 11.0998, train_label_loss: 0.2146, \n"
     ]
    },
    {
     "name": "stdout",
     "output_type": "stream",
     "text": [
      "epoch: 8, [batch: 252 / 2520], examples_per_second: 3164.1245, train_label_loss: 0.1148, \n"
     ]
    },
    {
     "name": "stdout",
     "output_type": "stream",
     "text": [
      "epoch: 8, [batch: 504 / 2520], examples_per_second: 3203.0258, train_label_loss: 0.4295, \n"
     ]
    },
    {
     "name": "stdout",
     "output_type": "stream",
     "text": [
      "epoch: 8, [batch: 756 / 2520], examples_per_second: 3183.6964, train_label_loss: 0.6704, \n"
     ]
    },
    {
     "name": "stdout",
     "output_type": "stream",
     "text": [
      "epoch: 8, [batch: 1008 / 2520], examples_per_second: 3202.6510, train_label_loss: 0.2206, \n"
     ]
    },
    {
     "name": "stdout",
     "output_type": "stream",
     "text": [
      "epoch: 8, [batch: 1260 / 2520], examples_per_second: 3197.4639, train_label_loss: 0.4269, \n"
     ]
    },
    {
     "name": "stdout",
     "output_type": "stream",
     "text": [
      "epoch: 8, [batch: 1512 / 2520], examples_per_second: 3190.3848, train_label_loss: 0.5057, \n"
     ]
    },
    {
     "name": "stdout",
     "output_type": "stream",
     "text": [
      "epoch: 8, [batch: 1764 / 2520], examples_per_second: 3189.5827, train_label_loss: 0.3735, \n"
     ]
    },
    {
     "name": "stdout",
     "output_type": "stream",
     "text": [
      "epoch: 8, [batch: 2016 / 2520], examples_per_second: 3171.2756, train_label_loss: 0.6424, \n"
     ]
    },
    {
     "name": "stdout",
     "output_type": "stream",
     "text": [
      "epoch: 8, [batch: 2268 / 2520], examples_per_second: 3216.2268, train_label_loss: 0.1528, \n"
     ]
    },
    {
     "name": "stdout",
     "output_type": "stream",
     "text": [
      "=============================================================\n",
      "epoch: 8, source_val_acc_label: 0.5796, target_val_acc_label: 0.4776, source_val_label_loss: 1.4540, target_val_label_loss: 1.7154, \n",
      "=============================================================\n"
     ]
    },
    {
     "name": "stdout",
     "output_type": "stream",
     "text": [
      "epoch: 9, [batch: 1 / 2520], examples_per_second: 11.2370, train_label_loss: 0.4276, \n"
     ]
    },
    {
     "name": "stdout",
     "output_type": "stream",
     "text": [
      "epoch: 9, [batch: 252 / 2520], examples_per_second: 3177.0225, train_label_loss: 0.4254, \n"
     ]
    },
    {
     "name": "stdout",
     "output_type": "stream",
     "text": [
      "epoch: 9, [batch: 504 / 2520], examples_per_second: 3174.2684, train_label_loss: 0.4936, \n"
     ]
    },
    {
     "name": "stdout",
     "output_type": "stream",
     "text": [
      "epoch: 9, [batch: 756 / 2520], examples_per_second: 3197.6605, train_label_loss: 0.4146, \n"
     ]
    },
    {
     "name": "stdout",
     "output_type": "stream",
     "text": [
      "epoch: 9, [batch: 1008 / 2520], examples_per_second: 3184.0537, train_label_loss: 0.0837, \n"
     ]
    },
    {
     "name": "stdout",
     "output_type": "stream",
     "text": [
      "epoch: 9, [batch: 1260 / 2520], examples_per_second: 3187.0175, train_label_loss: 0.3820, \n"
     ]
    },
    {
     "name": "stdout",
     "output_type": "stream",
     "text": [
      "epoch: 9, [batch: 1512 / 2520], examples_per_second: 3198.4440, train_label_loss: 0.3214, \n"
     ]
    },
    {
     "name": "stdout",
     "output_type": "stream",
     "text": [
      "epoch: 9, [batch: 1764 / 2520], examples_per_second: 3179.9988, train_label_loss: 0.1179, \n"
     ]
    },
    {
     "name": "stdout",
     "output_type": "stream",
     "text": [
      "epoch: 9, [batch: 2016 / 2520], examples_per_second: 3206.5400, train_label_loss: 0.4855, \n"
     ]
    },
    {
     "name": "stdout",
     "output_type": "stream",
     "text": [
      "epoch: 9, [batch: 2268 / 2520], examples_per_second: 3194.6312, train_label_loss: 0.6183, \n"
     ]
    },
    {
     "name": "stdout",
     "output_type": "stream",
     "text": [
      "=============================================================\n",
      "epoch: 9, source_val_acc_label: 0.5762, target_val_acc_label: 0.4868, source_val_label_loss: 1.5601, target_val_label_loss: 1.8227, \n",
      "=============================================================\n"
     ]
    },
    {
     "name": "stdout",
     "output_type": "stream",
     "text": [
      "New best\n"
     ]
    },
    {
     "name": "stdout",
     "output_type": "stream",
     "text": [
      "epoch: 10, [batch: 1 / 2520], examples_per_second: 11.0823, train_label_loss: 0.6679, \n"
     ]
    },
    {
     "name": "stdout",
     "output_type": "stream",
     "text": [
      "epoch: 10, [batch: 252 / 2520], examples_per_second: 3169.3267, train_label_loss: 0.3611, \n"
     ]
    },
    {
     "name": "stdout",
     "output_type": "stream",
     "text": [
      "epoch: 10, [batch: 504 / 2520], examples_per_second: 3179.9135, train_label_loss: 0.3449, \n"
     ]
    },
    {
     "name": "stdout",
     "output_type": "stream",
     "text": [
      "epoch: 10, [batch: 756 / 2520], examples_per_second: 3188.2622, train_label_loss: 0.4245, \n"
     ]
    },
    {
     "name": "stdout",
     "output_type": "stream",
     "text": [
      "epoch: 10, [batch: 1008 / 2520], examples_per_second: 3158.6135, train_label_loss: 0.2738, \n"
     ]
    },
    {
     "name": "stdout",
     "output_type": "stream",
     "text": [
      "epoch: 10, [batch: 1260 / 2520], examples_per_second: 3201.9415, train_label_loss: 0.3062, \n"
     ]
    },
    {
     "name": "stdout",
     "output_type": "stream",
     "text": [
      "epoch: 10, [batch: 1512 / 2520], examples_per_second: 3184.2408, train_label_loss: 0.1792, \n"
     ]
    },
    {
     "name": "stdout",
     "output_type": "stream",
     "text": [
      "epoch: 10, [batch: 1764 / 2520], examples_per_second: 3161.0693, train_label_loss: 0.2983, \n"
     ]
    },
    {
     "name": "stdout",
     "output_type": "stream",
     "text": [
      "epoch: 10, [batch: 2016 / 2520], examples_per_second: 3187.4256, train_label_loss: 0.2889, \n"
     ]
    },
    {
     "name": "stdout",
     "output_type": "stream",
     "text": [
      "epoch: 10, [batch: 2268 / 2520], examples_per_second: 3197.4073, train_label_loss: 0.1508, \n"
     ]
    },
    {
     "name": "stdout",
     "output_type": "stream",
     "text": [
      "=============================================================\n",
      "epoch: 10, source_val_acc_label: 0.5784, target_val_acc_label: 0.4811, source_val_label_loss: 1.6685, target_val_label_loss: 1.9698, \n",
      "=============================================================\n"
     ]
    },
    {
     "name": "stdout",
     "output_type": "stream",
     "text": [
      "epoch: 11, [batch: 1 / 2520], examples_per_second: 11.2301, train_label_loss: 0.4104, \n"
     ]
    },
    {
     "name": "stdout",
     "output_type": "stream",
     "text": [
      "epoch: 11, [batch: 252 / 2520], examples_per_second: 3173.3309, train_label_loss: 0.0959, \n"
     ]
    },
    {
     "name": "stdout",
     "output_type": "stream",
     "text": [
      "epoch: 11, [batch: 504 / 2520], examples_per_second: 3185.4956, train_label_loss: 0.0455, \n"
     ]
    },
    {
     "name": "stdout",
     "output_type": "stream",
     "text": [
      "epoch: 11, [batch: 756 / 2520], examples_per_second: 3186.3139, train_label_loss: 0.1310, \n"
     ]
    },
    {
     "name": "stdout",
     "output_type": "stream",
     "text": [
      "epoch: 11, [batch: 1008 / 2520], examples_per_second: 3182.5739, train_label_loss: 0.3242, \n"
     ]
    },
    {
     "name": "stdout",
     "output_type": "stream",
     "text": [
      "epoch: 11, [batch: 1260 / 2520], examples_per_second: 3186.2024, train_label_loss: 0.2083, \n"
     ]
    },
    {
     "name": "stdout",
     "output_type": "stream",
     "text": [
      "epoch: 11, [batch: 1512 / 2520], examples_per_second: 3194.6619, train_label_loss: 0.1879, \n"
     ]
    },
    {
     "name": "stdout",
     "output_type": "stream",
     "text": [
      "epoch: 11, [batch: 1764 / 2520], examples_per_second: 3182.0122, train_label_loss: 0.0479, \n"
     ]
    },
    {
     "name": "stdout",
     "output_type": "stream",
     "text": [
      "epoch: 11, [batch: 2016 / 2520], examples_per_second: 3175.6679, train_label_loss: 0.3681, \n"
     ]
    },
    {
     "name": "stdout",
     "output_type": "stream",
     "text": [
      "epoch: 11, [batch: 2268 / 2520], examples_per_second: 3236.8415, train_label_loss: 0.1920, \n"
     ]
    },
    {
     "name": "stdout",
     "output_type": "stream",
     "text": [
      "=============================================================\n",
      "epoch: 11, source_val_acc_label: 0.5827, target_val_acc_label: 0.4827, source_val_label_loss: 1.7319, target_val_label_loss: 2.0200, \n",
      "=============================================================\n"
     ]
    },
    {
     "name": "stdout",
     "output_type": "stream",
     "text": [
      "epoch: 12, [batch: 1 / 2520], examples_per_second: 11.2167, train_label_loss: 0.0797, \n"
     ]
    },
    {
     "name": "stdout",
     "output_type": "stream",
     "text": [
      "epoch: 12, [batch: 252 / 2520], examples_per_second: 3184.7653, train_label_loss: 0.1222, \n"
     ]
    },
    {
     "name": "stdout",
     "output_type": "stream",
     "text": [
      "epoch: 12, [batch: 504 / 2520], examples_per_second: 3171.2898, train_label_loss: 0.2041, \n"
     ]
    },
    {
     "name": "stdout",
     "output_type": "stream",
     "text": [
      "epoch: 12, [batch: 756 / 2520], examples_per_second: 3184.2912, train_label_loss: 0.3131, \n"
     ]
    },
    {
     "name": "stdout",
     "output_type": "stream",
     "text": [
      "epoch: 12, [batch: 1008 / 2520], examples_per_second: 3194.6819, train_label_loss: 0.2719, \n"
     ]
    },
    {
     "name": "stdout",
     "output_type": "stream",
     "text": [
      "epoch: 12, [batch: 1260 / 2520], examples_per_second: 3190.1334, train_label_loss: 0.1410, \n"
     ]
    },
    {
     "name": "stdout",
     "output_type": "stream",
     "text": [
      "epoch: 12, [batch: 1512 / 2520], examples_per_second: 3173.0011, train_label_loss: 0.3544, \n"
     ]
    },
    {
     "name": "stdout",
     "output_type": "stream",
     "text": [
      "epoch: 12, [batch: 1764 / 2520], examples_per_second: 3169.9571, train_label_loss: 0.3620, \n"
     ]
    },
    {
     "name": "stdout",
     "output_type": "stream",
     "text": [
      "epoch: 12, [batch: 2016 / 2520], examples_per_second: 3184.2671, train_label_loss: 0.2739, \n"
     ]
    },
    {
     "name": "stdout",
     "output_type": "stream",
     "text": [
      "epoch: 12, [batch: 2268 / 2520], examples_per_second: 3186.6796, train_label_loss: 0.1286, \n"
     ]
    },
    {
     "name": "stdout",
     "output_type": "stream",
     "text": [
      "=============================================================\n",
      "epoch: 12, source_val_acc_label: 0.5753, target_val_acc_label: 0.4829, source_val_label_loss: 1.8276, target_val_label_loss: 2.1482, \n",
      "=============================================================\n"
     ]
    },
    {
     "name": "stdout",
     "output_type": "stream",
     "text": [
      "epoch: 13, [batch: 1 / 2520], examples_per_second: 11.1007, train_label_loss: 0.0444, \n"
     ]
    },
    {
     "name": "stdout",
     "output_type": "stream",
     "text": [
      "epoch: 13, [batch: 252 / 2520], examples_per_second: 3172.7181, train_label_loss: 0.4957, \n"
     ]
    },
    {
     "name": "stdout",
     "output_type": "stream",
     "text": [
      "epoch: 13, [batch: 504 / 2520], examples_per_second: 3183.1655, train_label_loss: 0.3283, \n"
     ]
    },
    {
     "name": "stdout",
     "output_type": "stream",
     "text": [
      "epoch: 13, [batch: 756 / 2520], examples_per_second: 3179.5634, train_label_loss: 0.2449, \n"
     ]
    },
    {
     "name": "stdout",
     "output_type": "stream",
     "text": [
      "epoch: 13, [batch: 1008 / 2520], examples_per_second: 3189.5186, train_label_loss: 0.3805, \n"
     ]
    },
    {
     "name": "stdout",
     "output_type": "stream",
     "text": [
      "epoch: 13, [batch: 1260 / 2520], examples_per_second: 3187.5873, train_label_loss: 0.0357, \n"
     ]
    },
    {
     "name": "stdout",
     "output_type": "stream",
     "text": [
      "epoch: 13, [batch: 1512 / 2520], examples_per_second: 3171.9339, train_label_loss: 0.3908, \n"
     ]
    },
    {
     "name": "stdout",
     "output_type": "stream",
     "text": [
      "epoch: 13, [batch: 1764 / 2520], examples_per_second: 3153.3902, train_label_loss: 0.1214, \n"
     ]
    },
    {
     "name": "stdout",
     "output_type": "stream",
     "text": [
      "epoch: 13, [batch: 2016 / 2520], examples_per_second: 3204.7377, train_label_loss: 0.1298, \n"
     ]
    },
    {
     "name": "stdout",
     "output_type": "stream",
     "text": [
      "epoch: 13, [batch: 2268 / 2520], examples_per_second: 3194.5093, train_label_loss: 0.0986, \n"
     ]
    },
    {
     "name": "stdout",
     "output_type": "stream",
     "text": [
      "=============================================================\n",
      "epoch: 13, source_val_acc_label: 0.5802, target_val_acc_label: 0.4797, source_val_label_loss: 1.9089, target_val_label_loss: 2.2798, \n",
      "=============================================================\n"
     ]
    },
    {
     "name": "stdout",
     "output_type": "stream",
     "text": [
      "Patience (3) exhausted\n"
     ]
    }
   ],
   "source": [
    "###################################\n",
    "# train\n",
    "###################################\n",
    "jig = PTN_Train_Eval_Test_Jig(model, p.BEST_MODEL_PATH, p.device)\n",
    "\n",
    "jig.train(\n",
    "    train_iterable=datasets.source.processed.train,\n",
    "    source_val_iterable=datasets.source.processed.val,\n",
    "    target_val_iterable=datasets.target.processed.val,\n",
    "    num_epochs=p.n_epoch,\n",
    "    num_logs_per_epoch=p.NUM_LOGS_PER_EPOCH,\n",
    "    patience=p.patience,\n",
    "    optimizer=optimizer,\n",
    "    criteria_for_best=p.criteria_for_best,\n",
    ")"
   ]
  },
  {
   "cell_type": "code",
   "execution_count": 14,
   "id": "31e8fabf",
   "metadata": {
    "execution": {
     "iopub.execute_input": "2022-04-01T20:41:04.401515Z",
     "iopub.status.busy": "2022-04-01T20:41:04.401270Z",
     "iopub.status.idle": "2022-04-01T20:41:04.415593Z",
     "shell.execute_reply": "2022-04-01T20:41:04.415962Z"
    },
    "papermill": {
     "duration": 0.05271,
     "end_time": "2022-04-01T20:41:04.416065",
     "exception": false,
     "start_time": "2022-04-01T20:41:04.363355",
     "status": "completed"
    },
    "tags": []
   },
   "outputs": [],
   "source": [
    "total_experiment_time_secs = time.time() - start_time_secs"
   ]
  },
  {
   "cell_type": "code",
   "execution_count": 15,
   "id": "87b9595b",
   "metadata": {
    "execution": {
     "iopub.execute_input": "2022-04-01T20:41:04.497457Z",
     "iopub.status.busy": "2022-04-01T20:41:04.497175Z",
     "iopub.status.idle": "2022-04-01T20:41:53.113319Z",
     "shell.execute_reply": "2022-04-01T20:41:53.113530Z"
    },
    "papermill": {
     "duration": 48.656307,
     "end_time": "2022-04-01T20:41:53.113616",
     "exception": false,
     "start_time": "2022-04-01T20:41:04.457309",
     "status": "completed"
    },
    "tags": []
   },
   "outputs": [],
   "source": [
    "###################################\n",
    "# Evaluate the model\n",
    "###################################\n",
    "source_test_label_accuracy, source_test_label_loss = jig.test(datasets.source.processed.test)\n",
    "target_test_label_accuracy, target_test_label_loss = jig.test(datasets.target.processed.test)\n",
    "\n",
    "source_val_label_accuracy, source_val_label_loss = jig.test(datasets.source.processed.val)\n",
    "target_val_label_accuracy, target_val_label_loss = jig.test(datasets.target.processed.val)\n",
    "\n",
    "history = jig.get_history()\n",
    "\n",
    "total_epochs_trained = len(history[\"epoch_indices\"])\n",
    "\n",
    "val_dl = Iterable_Aggregator((datasets.source.original.val,datasets.target.original.val))\n",
    "\n",
    "confusion = ptn_confusion_by_domain_over_dataloader(model, p.device, val_dl)\n",
    "per_domain_accuracy = per_domain_accuracy_from_confusion(confusion)\n",
    "\n",
    "# Add a key to per_domain_accuracy for if it was a source domain\n",
    "for domain, accuracy in per_domain_accuracy.items():\n",
    "    per_domain_accuracy[domain] = {\n",
    "        \"accuracy\": accuracy,\n",
    "        \"source?\": domain in p.domains_source\n",
    "    }\n",
    "\n",
    "# Do an independent accuracy assesment JUST TO BE SURE!\n",
    "# _source_test_label_accuracy = independent_accuracy_assesment(model, datasets.source.processed.test, p.device)\n",
    "# _target_test_label_accuracy = independent_accuracy_assesment(model, datasets.target.processed.test, p.device)\n",
    "# _source_val_label_accuracy = independent_accuracy_assesment(model, datasets.source.processed.val, p.device)\n",
    "# _target_val_label_accuracy = independent_accuracy_assesment(model, datasets.target.processed.val, p.device)\n",
    "\n",
    "# assert(_source_test_label_accuracy == source_test_label_accuracy)\n",
    "# assert(_target_test_label_accuracy == target_test_label_accuracy)\n",
    "# assert(_source_val_label_accuracy == source_val_label_accuracy)\n",
    "# assert(_target_val_label_accuracy == target_val_label_accuracy)\n",
    "\n",
    "experiment = {\n",
    "    \"experiment_name\": p.experiment_name,\n",
    "    \"parameters\": dict(p),\n",
    "    \"results\": {\n",
    "        \"source_test_label_accuracy\": source_test_label_accuracy,\n",
    "        \"source_test_label_loss\": source_test_label_loss,\n",
    "        \"target_test_label_accuracy\": target_test_label_accuracy,\n",
    "        \"target_test_label_loss\": target_test_label_loss,\n",
    "        \"source_val_label_accuracy\": source_val_label_accuracy,\n",
    "        \"source_val_label_loss\": source_val_label_loss,\n",
    "        \"target_val_label_accuracy\": target_val_label_accuracy,\n",
    "        \"target_val_label_loss\": target_val_label_loss,\n",
    "        \"total_epochs_trained\": total_epochs_trained,\n",
    "        \"total_experiment_time_secs\": total_experiment_time_secs,\n",
    "        \"confusion\": confusion,\n",
    "        \"per_domain_accuracy\": per_domain_accuracy,\n",
    "    },\n",
    "    \"history\": history,\n",
    "    \"dataset_metrics\": get_dataset_metrics(datasets, \"ptn\"),\n",
    "}"
   ]
  },
  {
   "cell_type": "code",
   "execution_count": 16,
   "id": "54a21829",
   "metadata": {
    "execution": {
     "iopub.execute_input": "2022-04-01T20:41:53.192999Z",
     "iopub.status.busy": "2022-04-01T20:41:53.192745Z",
     "iopub.status.idle": "2022-04-01T20:41:53.313630Z",
     "shell.execute_reply": "2022-04-01T20:41:53.314009Z"
    },
    "papermill": {
     "duration": 0.159966,
     "end_time": "2022-04-01T20:41:53.314116",
     "exception": false,
     "start_time": "2022-04-01T20:41:53.154150",
     "status": "completed"
    },
    "tags": []
   },
   "outputs": [
    {
     "data": {
      "image/png": "[encoded data removed]",
      "text/plain": [
       "<Figure size 1080x504 with 1 Axes>"
      ]
     },
     "metadata": {
      "needs_background": "light"
     },
     "output_type": "display_data"
    }
   ],
   "source": [
    "ax = get_loss_curve(experiment)\n",
    "plt.show()"
   ]
  },
  {
   "cell_type": "code",
   "execution_count": 17,
   "id": "fd8a0f60",
   "metadata": {
    "execution": {
     "iopub.execute_input": "2022-04-01T20:41:53.397059Z",
     "iopub.status.busy": "2022-04-01T20:41:53.396812Z",
     "iopub.status.idle": "2022-04-01T20:41:53.541382Z",
     "shell.execute_reply": "2022-04-01T20:41:53.541600Z"
    },
    "papermill": {
     "duration": 0.184925,
     "end_time": "2022-04-01T20:41:53.541662",
     "exception": false,
     "start_time": "2022-04-01T20:41:53.356737",
     "status": "completed"
    },
    "tags": []
   },
   "outputs": [
    {
     "data": {
      "text/plain": [
       "<AxesSubplot:title={'center':'Results'}>"
      ]
     },
     "execution_count": 17,
     "metadata": {},
     "output_type": "execute_result"
    },
    {
     "data": {
      "image/png": "[encoded data removed]",
      "text/plain": [
       "<Figure size 1080x504 with 1 Axes>"
      ]
     },
     "metadata": {
      "needs_background": "light"
     },
     "output_type": "display_data"
    }
   ],
   "source": [
    "get_results_table(experiment)"
   ]
  },
  {
   "cell_type": "code",
   "execution_count": 18,
   "id": "cf8dc689",
   "metadata": {
    "execution": {
     "iopub.execute_input": "2022-04-01T20:41:53.625149Z",
     "iopub.status.busy": "2022-04-01T20:41:53.624891Z",
     "iopub.status.idle": "2022-04-01T20:41:53.741413Z",
     "shell.execute_reply": "2022-04-01T20:41:53.741162Z"
    },
    "papermill": {
     "duration": 0.159379,
     "end_time": "2022-04-01T20:41:53.741464",
     "exception": false,
     "start_time": "2022-04-01T20:41:53.582085",
     "status": "completed"
    },
    "tags": []
   },
   "outputs": [
    {
     "data": {
      "text/plain": [
       "<AxesSubplot:title={'center':'Per Domain Validation Accuracy'}, xlabel='domain'>"
      ]
     },
     "execution_count": 18,
     "metadata": {},
     "output_type": "execute_result"
    },
    {
     "data": {
      "image/png": "[encoded data removed]",
      "text/plain": [
       "<Figure size 1080x504 with 1 Axes>"
      ]
     },
     "metadata": {
      "needs_background": "light"
     },
     "output_type": "display_data"
    }
   ],
   "source": [
    "get_domain_accuracies(experiment)"
   ]
  },
  {
   "cell_type": "code",
   "execution_count": 19,
   "id": "a74ae082",
   "metadata": {
    "execution": {
     "iopub.execute_input": "2022-04-01T20:41:53.826433Z",
     "iopub.status.busy": "2022-04-01T20:41:53.826175Z",
     "iopub.status.idle": "2022-04-01T20:41:53.842249Z",
     "shell.execute_reply": "2022-04-01T20:41:53.841992Z"
    },
    "papermill": {
     "duration": 0.059733,
     "end_time": "2022-04-01T20:41:53.842299",
     "exception": false,
     "start_time": "2022-04-01T20:41:53.782566",
     "status": "completed"
    },
    "tags": []
   },
   "outputs": [
    {
     "name": "stdout",
     "output_type": "stream",
     "text": [
      "Source Test Label Accuracy: 0.5795138888888889 Target Test Label Accuracy: 0.49\n",
      "Source Val Label Accuracy: 0.5762152777777778 Target Val Label Accuracy: 0.4867708333333333\n"
     ]
    }
   ],
   "source": [
    "print(\"Source Test Label Accuracy:\", experiment[\"results\"][\"source_test_label_accuracy\"], \"Target Test Label Accuracy:\", experiment[\"results\"][\"target_test_label_accuracy\"])\n",
    "print(\"Source Val Label Accuracy:\", experiment[\"results\"][\"source_val_label_accuracy\"], \"Target Val Label Accuracy:\", experiment[\"results\"][\"target_val_label_accuracy\"])"
   ]
  },
  {
   "cell_type": "code",
   "execution_count": 20,
   "id": "dacca602",
   "metadata": {
    "execution": {
     "iopub.execute_input": "2022-04-01T20:41:53.927193Z",
     "iopub.status.busy": "2022-04-01T20:41:53.926933Z",
     "iopub.status.idle": "2022-04-01T20:41:53.938891Z",
     "shell.execute_reply": "2022-04-01T20:41:53.939137Z"
    },
    "papermill": {
     "duration": 0.055357,
     "end_time": "2022-04-01T20:41:53.939201",
     "exception": false,
     "start_time": "2022-04-01T20:41:53.883844",
     "status": "completed"
    },
    "tags": [
     "experiment_json"
    ]
   },
   "outputs": [
    {
     "data": {
      "text/plain": [
       "'{\"experiment_name\": \"tuned_1v2:oracle.run1_limited\", \"parameters\": {\"experiment_name\": \"tuned_1v2:oracle.run1_limited\", \"device\": \"cuda\", \"lr\": 0.0001, \"labels_source\": [\"3123D52\", \"3123D65\", \"3123D79\", \"3123D80\", \"3123D54\", \"3123D70\", \"3123D7B\", \"3123D89\", \"3123D58\", \"3123D76\", \"3123D7D\", \"3123EFE\", \"3123D64\", \"3123D78\", \"3123D7E\", \"3124E4A\"], \"labels_target\": [\"3123D52\", \"3123D65\", \"3123D79\", \"3123D80\", \"3123D54\", \"3123D70\", \"3123D7B\", \"3123D89\", \"3123D58\", \"3123D76\", \"3123D7D\", \"3123EFE\", \"3123D64\", \"3123D78\", \"3123D7E\", \"3124E4A\"], \"episode_transforms_source\": [], \"episode_transforms_target\": [], \"domains_source\": [8, 32, 50], \"domains_target\": [14, 20, 26, 38, 44], \"num_examples_per_domain_per_label_source\": 2000, \"num_examples_per_domain_per_label_target\": 2000, \"n_shot\": 3, \"n_way\": 16, \"n_query\": 2, \"train_k_factor\": 3, \"val_k_factor\": 2, \"test_k_factor\": 2, \"torch_default_dtype\": \"torch.float32\", \"n_epoch\": 50, \"patience\": 3, \"criteria_for_best\": \"target_accuracy\", \"x_net\": [{\"class\": \"nnReshape\", \"kargs\": {\"shape\": [-1, 1, 2, 256]}}, {\"class\": \"Conv2d\", \"kargs\": {\"in_channels\": 1, \"out_channels\": 256, \"kernel_size\": [1, 7], \"bias\": false, \"padding\": [0, 3]}}, {\"class\": \"ReLU\", \"kargs\": {\"inplace\": true}}, {\"class\": \"BatchNorm2d\", \"kargs\": {\"num_features\": 256}}, {\"class\": \"Conv2d\", \"kargs\": {\"in_channels\": 256, \"out_channels\": 80, \"kernel_size\": [2, 7], \"bias\": true, \"padding\": [0, 3]}}, {\"class\": \"ReLU\", \"kargs\": {\"inplace\": true}}, {\"class\": \"BatchNorm2d\", \"kargs\": {\"num_features\": 80}}, {\"class\": \"Flatten\", \"kargs\": {}}, {\"class\": \"Linear\", \"kargs\": {\"in_features\": 20480, \"out_features\": 256}}, {\"class\": \"ReLU\", \"kargs\": {\"inplace\": true}}, {\"class\": \"BatchNorm1d\", \"kargs\": {\"num_features\": 256}}, {\"class\": \"Linear\", \"kargs\": {\"in_features\": 256, \"out_features\": 256}}], \"NUM_LOGS_PER_EPOCH\": 10, \"BEST_MODEL_PATH\": \"./best_model.pth\", \"pickle_name\": \"oracle.Run1_10kExamples_stratified_ds.2022A.pkl\", \"x_transforms_source\": [\"unit_mag\"], \"x_transforms_target\": [\"unit_mag\"], \"dataset_seed\": 420, \"seed\": 420}, \"results\": {\"source_test_label_accuracy\": 0.5795138888888889, \"source_test_label_loss\": 1.5296605825424194, \"target_test_label_accuracy\": 0.49, \"target_test_label_loss\": 1.784051537513733, \"source_val_label_accuracy\": 0.5762152777777778, \"source_val_label_loss\": 1.560085415840149, \"target_val_label_accuracy\": 0.4867708333333333, \"target_val_label_loss\": 1.822713851928711, \"total_epochs_trained\": 13, \"total_experiment_time_secs\": 947.5835893154144, \"confusion\": {\"8\": {\"15\": {\"2\": 25, \"15\": 125, \"12\": 56, \"8\": 24, \"3\": 4, \"7\": 6}, \"5\": {\"10\": 23, \"5\": 180, \"13\": 1, \"14\": 4, \"1\": 18, \"11\": 12, \"9\": 2}, \"7\": {\"6\": 54, \"7\": 131, \"0\": 15, \"12\": 1, \"8\": 21, \"4\": 2, \"2\": 5, \"13\": 8, \"15\": 3}, \"4\": {\"4\": 67, \"14\": 38, \"6\": 28, \"0\": 37, \"13\": 39, \"10\": 20, \"11\": 3, \"1\": 5, \"7\": 2, \"8\": 1}, \"10\": {\"10\": 95, \"14\": 49, \"0\": 4, \"1\": 25, \"5\": 15, \"4\": 16, \"11\": 14, \"13\": 21, \"6\": 1}, \"11\": {\"14\": 26, \"1\": 75, \"11\": 90, \"4\": 9, \"13\": 5, \"5\": 16, \"10\": 14, \"8\": 3, \"6\": 2}, \"12\": {\"3\": 44, \"15\": 58, \"12\": 97, \"2\": 26, \"8\": 10, \"7\": 5}, \"0\": {\"0\": 70, \"4\": 32, \"6\": 35, \"13\": 58, \"7\": 26, \"10\": 6, \"14\": 8, \"11\": 2, \"8\": 2, \"1\": 1}, \"14\": {\"0\": 11, \"14\": 67, \"10\": 56, \"4\": 27, \"13\": 31, \"1\": 14, \"11\": 25, \"6\": 5, \"8\": 2, \"7\": 1, \"5\": 1}, \"8\": {\"8\": 151, \"7\": 33, \"6\": 16, \"4\": 2, \"15\": 31, \"13\": 2, \"2\": 2, \"12\": 3}, \"13\": {\"4\": 37, \"11\": 3, \"6\": 23, \"0\": 53, \"13\": 48, \"10\": 25, \"1\": 4, \"14\": 32, \"7\": 12, \"8\": 2, \"5\": 1}, \"6\": {\"6\": 92, \"8\": 17, \"0\": 38, \"7\": 50, \"4\": 22, \"13\": 16, \"14\": 3, \"10\": 1, \"11\": 1}, \"1\": {\"1\": 97, \"11\": 66, \"14\": 29, \"5\": 17, \"4\": 5, \"10\": 20, \"13\": 5, \"6\": 1}, \"3\": {\"3\": 144, \"2\": 46, \"12\": 45, \"15\": 5}, \"9\": {\"9\": 240}, \"2\": {\"2\": 138, \"7\": 8, \"15\": 19, \"12\": 23, \"3\": 50, \"8\": 2}}, \"50\": {\"4\": {\"4\": 71, \"6\": 43, \"1\": 52, \"15\": 42, \"11\": 2, \"5\": 17, \"13\": 7, \"7\": 5, \"14\": 1}, \"10\": {\"10\": 182, \"0\": 29, \"13\": 3, \"7\": 23, \"8\": 3}, \"15\": {\"4\": 29, \"15\": 135, \"1\": 51, \"14\": 5, \"11\": 19, \"6\": 1}, \"0\": {\"2\": 42, \"0\": 159, \"10\": 21, \"13\": 10, \"6\": 1, \"7\": 7}, \"6\": {\"2\": 10, \"6\": 108, \"4\": 43, \"1\": 27, \"13\": 16, \"5\": 26, \"15\": 8, \"7\": 1, \"0\": 1}, \"3\": {\"3\": 228, \"8\": 12}, \"7\": {\"13\": 45, \"7\": 113, \"10\": 30, \"5\": 41, \"0\": 7, \"6\": 2, \"4\": 2}, \"2\": {\"2\": 196, \"0\": 38, \"6\": 5, \"13\": 1}, \"8\": {\"8\": 231, \"10\": 3, \"3\": 6}, \"11\": {\"9\": 45, \"11\": 159, \"14\": 18, \"12\": 8, \"15\": 9, \"1\": 1}, \"14\": {\"15\": 2, \"14\": 211, \"11\": 13, \"12\": 13, \"1\": 1}, \"12\": {\"9\": 30, \"12\": 193, \"14\": 11, \"11\": 6}, \"13\": {\"2\": 7, \"13\": 93, \"5\": 69, \"0\": 12, \"7\": 33, \"6\": 15, \"4\": 6, \"10\": 5}, \"9\": {\"9\": 160, \"12\": 49, \"11\": 29, \"14\": 2}, \"5\": {\"7\": 53, \"6\": 51, \"4\": 30, \"5\": 49, \"13\": 46, \"1\": 3, \"0\": 1, \"10\": 4, \"15\": 2, \"2\": 1}, \"1\": {\"1\": 106, \"6\": 43, \"15\": 51, \"4\": 32, \"5\": 3, \"2\": 1, \"11\": 2, \"14\": 2}}, \"32\": {\"7\": {\"7\": 67, \"11\": 18, \"14\": 52, \"2\": 12, \"5\": 26, \"0\": 11, \"8\": 6, \"13\": 18, \"4\": 29, \"3\": 1}, \"2\": {\"2\": 172, \"4\": 37, \"7\": 4, \"0\": 26, \"13\": 1}, \"5\": {\"0\": 26, \"4\": 19, \"3\": 15, \"5\": 42, \"8\": 28, \"7\": 23, \"13\": 56, \"11\": 10, \"14\": 18, \"2\": 3}, \"6\": {\"6\": 239, \"10\": 1}, \"13\": {\"5\": 42, \"13\": 57, \"0\": 19, \"7\": 27, \"3\": 19, \"4\": 14, \"8\": 31, \"11\": 14, \"14\": 16, \"2\": 1}, \"4\": {\"2\": 53, \"7\": 30, \"5\": 21, \"0\": 45, \"4\": 74, \"8\": 7, \"14\": 5, \"13\": 5}, \"3\": {\"13\": 11, \"14\": 4, \"3\": 196, \"11\": 19, \"5\": 6, \"8\": 3, \"15\": 1}, \"0\": {\"4\": 45, \"0\": 91, \"5\": 17, \"8\": 32, \"2\": 32, \"7\": 13, \"13\": 7, \"14\": 3}, \"9\": {\"9\": 238, \"2\": 1, \"12\": 1}, \"12\": {\"12\": 239, \"9\": 1}, \"8\": {\"0\": 29, \"5\": 28, \"8\": 118, \"13\": 32, \"14\": 7, \"3\": 12, \"4\": 7, \"7\": 6, \"15\": 1}, \"14\": {\"11\": 56, \"7\": 47, \"5\": 23, \"14\": 54, \"4\": 23, \"13\": 15, \"0\": 11, \"8\": 2, \"3\": 7, \"2\": 2}, \"15\": {\"3\": 12, \"15\": 224, \"8\": 4}, \"11\": {\"11\": 131, \"14\": 48, \"5\": 9, \"13\": 10, \"3\": 20, \"8\": 1, \"7\": 21}, \"10\": {\"10\": 232, \"1\": 4, \"6\": 4}, \"1\": {\"1\": 238, \"10\": 2}}, \"20\": {\"15\": {\"15\": 91, \"12\": 16, \"5\": 27, \"1\": 39, \"0\": 47, \"9\": 3, \"3\": 4, \"2\": 1, \"13\": 10, \"4\": 2}, \"5\": {\"12\": 23, \"4\": 9, \"5\": 48, \"3\": 14, \"1\": 32, \"0\": 50, \"15\": 40, \"13\": 11, \"9\": 11, \"2\": 2}, \"7\": {\"7\": 73, \"2\": 41, \"13\": 10, \"14\": 5, \"10\": 11, \"8\": 46, \"9\": 21, \"3\": 11, \"11\": 7, \"6\": 5, \"4\": 6, \"12\": 2, \"1\": 1, \"0\": 1}, \"4\": {\"4\": 80, \"7\": 18, \"1\": 1, \"8\": 38, \"3\": 37, \"12\": 13, \"2\": 11, \"6\": 1, \"0\": 2, \"9\": 19, \"15\": 1, \"10\": 14, \"5\": 3, \"14\": 2}, \"10\": {\"10\": 127, \"8\": 32, \"7\": 10, \"14\": 38, \"4\": 17, \"6\": 10, \"3\": 2, \"11\": 2, \"9\": 2}, \"11\": {\"11\": 222, \"14\": 4, \"6\": 10, \"7\": 3, \"8\": 1}, \"12\": {\"4\": 16, \"0\": 26, \"3\": 44, \"13\": 23, \"15\": 7, \"5\": 26, \"8\": 5, \"12\": 35, \"2\": 9, \"1\": 23, \"9\": 22, \"10\": 1, \"7\": 3}, \"0\": {\"1\": 34, \"15\": 57, \"12\": 15, \"0\": 62, \"5\": 43, \"13\": 7, \"9\": 6, \"3\": 7, \"2\": 6, \"4\": 3}, \"14\": {\"14\": 88, \"6\": 69, \"8\": 18, \"10\": 47, \"4\": 5, \"7\": 11, \"11\": 2}, \"8\": {\"8\": 62, \"2\": 13, \"9\": 20, \"4\": 35, \"3\": 16, \"7\": 45, \"10\": 30, \"14\": 7, \"6\": 9, \"12\": 3}, \"13\": {\"12\": 16, \"2\": 33, \"1\": 15, \"13\": 115, \"9\": 17, \"5\": 5, \"7\": 12, \"15\": 11, \"3\": 11, \"0\": 4, \"4\": 1}, \"6\": {\"6\": 124, \"7\": 11, \"11\": 29, \"14\": 52, \"10\": 18, \"8\": 6}, \"1\": {\"3\": 14, \"1\": 39, \"0\": 46, \"12\": 29, \"5\": 43, \"15\": 48, \"8\": 1, \"9\": 8, \"4\": 2, \"2\": 4, \"13\": 6}, \"3\": {\"5\": 15, \"4\": 24, \"3\": 40, \"9\": 32, \"2\": 30, \"12\": 37, \"6\": 1, \"1\": 6, \"7\": 16, \"13\": 14, \"8\": 17, \"15\": 2, \"10\": 2, \"0\": 3, \"14\": 1}, \"9\": {\"2\": 43, \"1\": 8, \"7\": 19, \"12\": 26, \"13\": 27, \"5\": 12, \"4\": 19, \"3\": 27, \"9\": 34, \"0\": 5, \"8\": 14, \"10\": 2, \"14\": 1, \"15\": 2, \"6\": 1}, \"2\": {\"2\": 43, \"9\": 36, \"8\": 18, \"6\": 3, \"4\": 11, \"13\": 31, \"7\": 34, \"5\": 9, \"12\": 18, \"1\": 2, \"0\": 2, \"3\": 29, \"10\": 1, \"15\": 1, \"11\": 1, \"14\": 1}}, \"26\": {\"4\": {\"10\": 14, \"14\": 35, \"4\": 37, \"8\": 26, \"1\": 39, \"0\": 30, \"9\": 6, \"7\": 27, \"3\": 5, \"2\": 10, \"5\": 3, \"15\": 5, \"6\": 2, \"13\": 1}, \"10\": {\"15\": 6, \"10\": 57, \"8\": 39, \"9\": 17, \"7\": 5, \"6\": 34, \"4\": 18, \"14\": 24, \"0\": 20, \"1\": 10, \"5\": 4, \"2\": 2, \"13\": 4}, \"15\": {\"4\": 2, \"15\": 53, \"5\": 59, \"13\": 20, \"6\": 9, \"9\": 32, \"10\": 13, \"2\": 12, \"8\": 22, \"14\": 4, \"3\": 2, \"0\": 1, \"7\": 11}, \"0\": {\"0\": 33, \"14\": 31, \"2\": 4, \"10\": 52, \"9\": 12, \"1\": 25, \"4\": 28, \"7\": 14, \"8\": 17, \"6\": 12, \"13\": 2, \"5\": 5, \"15\": 3, \"3\": 2}, \"6\": {\"6\": 122, \"10\": 18, \"14\": 4, \"13\": 30, \"8\": 9, \"9\": 31, \"15\": 12, \"0\": 9, \"5\": 4, \"4\": 1}, \"3\": {\"3\": 119, \"4\": 4, \"7\": 45, \"2\": 58, \"9\": 1, \"5\": 4, \"8\": 2, \"0\": 1, \"14\": 2, \"1\": 4}, \"7\": {\"4\": 25, \"7\": 66, \"2\": 41, \"8\": 12, \"9\": 3, \"3\": 45, \"1\": 15, \"15\": 7, \"0\": 11, \"5\": 9, \"10\": 1, \"14\": 5}, \"2\": {\"7\": 41, \"1\": 2, \"4\": 5, \"3\": 74, \"2\": 62, \"5\": 28, \"9\": 6, \"15\": 8, \"13\": 1, \"8\": 6, \"0\": 4, \"14\": 1, \"10\": 2}, \"8\": {\"4\": 17, \"9\": 33, \"10\": 26, \"15\": 22, \"6\": 15, \"0\": 24, \"7\": 12, \"8\": 38, \"14\": 17, \"5\": 19, \"3\": 4, \"2\": 6, \"13\": 4, \"1\": 3}, \"11\": {\"11\": 212, \"12\": 28}, \"14\": {\"0\": 32, \"1\": 45, \"4\": 45, \"14\": 59, \"10\": 19, \"8\": 15, \"7\": 12, \"15\": 2, \"3\": 2, \"9\": 3, \"6\": 2, \"2\": 2, \"5\": 2}, \"12\": {\"11\": 30, \"12\": 210}, \"13\": {\"2\": 8, \"13\": 99, \"15\": 25, \"6\": 39, \"5\": 41, \"8\": 4, \"9\": 18, \"7\": 3, \"3\": 3}, \"9\": {\"9\": 43, \"6\": 43, \"5\": 30, \"10\": 17, \"15\": 39, \"8\": 18, \"13\": 35, \"0\": 4, \"14\": 5, \"4\": 2, \"2\": 2, \"7\": 2}, \"5\": {\"4\": 2, \"15\": 40, \"2\": 14, \"5\": 76, \"13\": 29, \"9\": 36, \"8\": 17, \"10\": 4, \"0\": 7, \"6\": 6, \"7\": 4, \"3\": 5}, \"1\": {\"7\": 17, \"1\": 70, \"4\": 44, \"14\": 50, \"6\": 4, \"10\": 19, \"3\": 7, \"2\": 3, \"0\": 18, \"9\": 3, \"8\": 4, \"15\": 1}}, \"38\": {\"7\": {\"7\": 166, \"0\": 50, \"5\": 13, \"3\": 5, \"8\": 4, \"6\": 2}, \"2\": {\"2\": 213, \"11\": 5, \"14\": 16, \"15\": 1, \"13\": 5}, \"5\": {\"8\": 62, \"1\": 4, \"5\": 66, \"6\": 18, \"0\": 40, \"3\": 9, \"9\": 11, \"7\": 18, \"13\": 1, \"15\": 7, \"10\": 4}, \"6\": {\"6\": 165, \"9\": 63, \"8\": 2, \"5\": 7, \"3\": 3}, \"13\": {\"15\": 60, \"13\": 131, \"10\": 17, \"1\": 15, \"2\": 13, \"8\": 2, \"5\": 1, \"11\": 1}, \"4\": {\"4\": 215, \"12\": 22, \"7\": 1, \"0\": 1, \"8\": 1}, \"3\": {\"3\": 180, \"6\": 11, \"9\": 40, \"7\": 7, \"0\": 2}, \"0\": {\"0\": 54, \"10\": 11, \"15\": 2, \"8\": 51, \"6\": 3, \"7\": 60, \"3\": 10, \"5\": 44, \"9\": 3, \"12\": 1, \"4\": 1}, \"9\": {\"6\": 82, \"9\": 120, \"5\": 6, \"3\": 27, \"7\": 3, \"0\": 2}, \"12\": {\"12\": 174, \"10\": 45, \"0\": 4, \"4\": 14, \"5\": 2, \"15\": 1}, \"8\": {\"13\": 1, \"5\": 54, \"8\": 103, \"6\": 3, \"10\": 14, \"15\": 11, \"0\": 38, \"7\": 8, \"1\": 8}, \"14\": {\"11\": 74, \"14\": 126, \"2\": 31, \"13\": 3, \"10\": 4, \"12\": 2}, \"15\": {\"15\": 110, \"13\": 70, \"1\": 39, \"8\": 13, \"5\": 1, \"10\": 6, \"2\": 1}, \"11\": {\"11\": 122, \"14\": 89, \"2\": 13, \"12\": 5, \"10\": 9, \"13\": 2}, \"10\": {\"13\": 25, \"12\": 38, \"10\": 127, \"8\": 17, \"15\": 20, \"0\": 7, \"5\": 2, \"14\": 3, \"2\": 1}, \"1\": {\"1\": 194, \"15\": 36, \"8\": 3, \"13\": 4, \"5\": 3}}, \"14\": {\"11\": {\"11\": 158, \"10\": 16, \"0\": 26, \"9\": 40}, \"7\": {\"15\": 36, \"7\": 187, \"2\": 2, \"5\": 6, \"1\": 9}, \"6\": {\"13\": 77, \"6\": 96, \"14\": 33, \"2\": 27, \"4\": 5, \"5\": 2}, \"12\": {\"12\": 233, \"9\": 7}, \"4\": {\"2\": 27, \"4\": 97, \"1\": 33, \"14\": 14, \"3\": 29, \"5\": 33, \"6\": 3, \"8\": 2, \"10\": 1, \"13\": 1}, \"13\": {\"14\": 49, \"6\": 78, \"2\": 24, \"13\": 67, \"0\": 1, \"3\": 7, \"1\": 3, \"5\": 6, \"15\": 1, \"10\": 1, \"7\": 1, \"4\": 2}, \"8\": {\"8\": 225, \"3\": 5, \"11\": 4, \"0\": 6}, \"5\": {\"5\": 69, \"1\": 67, \"2\": 35, \"4\": 38, \"13\": 5, \"7\": 12, \"3\": 8, \"14\": 2, \"15\": 3, \"6\": 1}, \"14\": {\"2\": 24, \"5\": 3, \"14\": 108, \"4\": 12, \"6\": 24, \"13\": 43, \"10\": 2, \"3\": 24}, \"3\": {\"4\": 50, \"3\": 138, \"8\": 6, \"0\": 5, \"14\": 25, \"2\": 4, \"13\": 5, \"10\": 3, \"1\": 4}, \"10\": {\"11\": 7, \"0\": 76, \"10\": 147, \"3\": 8, \"14\": 2}, \"1\": {\"4\": 31, \"1\": 128, \"5\": 69, \"2\": 5, \"3\": 1, \"7\": 6}, \"2\": {\"5\": 33, \"6\": 26, \"14\": 36, \"4\": 20, \"13\": 23, \"2\": 63, \"3\": 15, \"1\": 16, \"15\": 7, \"7\": 1}, \"15\": {\"15\": 184, \"7\": 54, \"5\": 2}, \"9\": {\"11\": 24, \"9\": 213, \"12\": 3}, \"0\": {\"11\": 14, \"10\": 70, \"0\": 138, \"3\": 8, \"14\": 1, \"8\": 9}}, \"44\": {\"10\": {\"10\": 139, \"1\": 23, \"12\": 50, \"2\": 24, \"3\": 4}, \"6\": {\"11\": 24, \"6\": 132, \"9\": 25, \"7\": 18, \"13\": 39, \"2\": 2}, \"13\": {\"13\": 124, \"6\": 49, \"2\": 2, \"11\": 29, \"9\": 32, \"4\": 1, \"7\": 3}, \"3\": {\"3\": 194, \"1\": 31, \"7\": 4, \"12\": 6, \"2\": 5}, \"9\": {\"3\": 4, \"2\": 4, \"13\": 30, \"7\": 49, \"9\": 135, \"6\": 17, \"14\": 1}, \"1\": {\"12\": 56, \"1\": 88, \"7\": 3, \"3\": 54, \"10\": 17, \"2\": 22}, \"5\": {\"14\": 5, \"5\": 142, \"15\": 25, \"0\": 47, \"8\": 20, \"4\": 1}, \"11\": {\"11\": 170, \"13\": 38, \"6\": 30, \"9\": 2}, \"4\": {\"4\": 162, \"14\": 73, \"15\": 5}, \"14\": {\"14\": 125, \"4\": 77, \"15\": 36, \"5\": 2}, \"12\": {\"1\": 66, \"12\": 128, \"10\": 34, \"3\": 9, \"2\": 3}, \"7\": {\"7\": 98, \"2\": 42, \"9\": 57, \"3\": 17, \"6\": 20, \"10\": 3, \"13\": 2, \"1\": 1}, \"0\": {\"5\": 38, \"8\": 70, \"0\": 107, \"15\": 25}, \"15\": {\"15\": 174, \"5\": 18, \"14\": 29, \"0\": 13, \"8\": 2, \"4\": 4}, \"2\": {\"10\": 26, \"2\": 128, \"1\": 23, \"7\": 41, \"3\": 8, \"12\": 7, \"9\": 5, \"6\": 2}, \"8\": {\"8\": 144, \"15\": 18, \"0\": 70, \"5\": 8}}}, \"per_domain_accuracy\": {\"8\": {\"accuracy\": 0.47708333333333336, \"source?\": true}, \"50\": {\"accuracy\": 0.6234375, \"source?\": true}, \"32\": {\"accuracy\": 0.628125, \"source?\": true}, \"20\": {\"accuracy\": 0.3341145833333333, \"source?\": false}, \"26\": {\"accuracy\": 0.353125, \"source?\": false}, \"38\": {\"accuracy\": 0.5901041666666667, \"source?\": false}, \"14\": {\"accuracy\": 0.5861979166666667, \"source?\": false}, \"44\": {\"accuracy\": 0.5703125, \"source?\": false}}}, \"history\": {\"epoch_indices\": [1, 2, 3, 4, 5, 6, 7, 8, 9, 10, 11, 12, 13], \"train_label_loss\": [1.7821650504119813, 1.3909910662543206, 1.2605027071067265, 1.0981187389247, 0.8284435798724492, 0.6666941290336942, 0.5301563928347258, 0.4255091040520855, 0.3452660616982492, 0.28385825121501784, 0.2487826650875384, 0.21204412014164503, 0.18930166683229988], \"source_val_label_loss\": [1.5542068481445312, 1.4679189920425415, 1.4696862697601318, 1.279086709022522, 1.282672643661499, 1.3605105876922607, 1.3875365257263184, 1.4539903402328491, 1.560085415840149, 1.668479561805725, 1.731933355331421, 1.8276214599609375, 1.9089311361312866], \"target_val_label_loss\": [1.8665027618408203, 1.8005592823028564, 1.7961621284484863, 1.5449013710021973, 1.5175398588180542, 1.5552396774291992, 1.6202236413955688, 1.715352177619934, 1.822713851928711, 1.9698208570480347, 2.0199637413024902, 2.1481969356536865, 2.279794692993164], \"source_val_acc_label\": [0.3807291666666667, 0.41909722222222223, 0.41805555555555557, 0.5336805555555556, 0.5506076388888889, 0.5608506944444445, 0.5765625, 0.5796006944444444, 0.5762152777777778, 0.5783854166666667, 0.5827256944444444, 0.5752604166666667, 0.5802083333333333], \"target_val_acc_label\": [0.2746875, 0.2978125, 0.3009895833333333, 0.4345833333333333, 0.46328125, 0.4831770833333333, 0.485625, 0.4775520833333333, 0.4867708333333333, 0.48109375, 0.48270833333333335, 0.48291666666666666, 0.47973958333333333]}, \"dataset_metrics\": {\"source\": {\"train\": {\"n_unique_x\": 67200, \"n_unique_y\": 16, \"n_batch/episode\": 2520}, \"val\": {\"n_unique_x\": 14400, \"n_unique_y\": 16, \"n_batch/episode\": 360}, \"test\": {\"n_unique_x\": 14400, \"n_unique_y\": 16, \"n_batch/episode\": 360}}, \"target\": {\"train\": {\"n_unique_x\": 112000, \"n_unique_y\": 16, \"n_batch/episode\": 4200}, \"val\": {\"n_unique_x\": 24000, \"n_unique_y\": 16, \"n_batch/episode\": 600}, \"test\": {\"n_unique_x\": 24000, \"n_unique_y\": 16, \"n_batch/episode\": 600}}}}'"
      ]
     },
     "execution_count": 20,
     "metadata": {},
     "output_type": "execute_result"
    }
   ],
   "source": [
    "json.dumps(experiment)"
   ]
  }
 ],
 "metadata": {
  "celltoolbar": "Tags",
  "kernelspec": {
   "display_name": "Python 3 (ipykernel)",
   "language": "python",
   "name": "python3"
  },
  "language_info": {
   "codemirror_mode": {
    "name": "ipython",
    "version": 3
   },
   "file_extension": ".py",
   "mimetype": "text/x-python",
   "name": "python",
   "nbconvert_exporter": "python",
   "pygments_lexer": "ipython3",
   "version": "3.8.10"
  },
  "papermill": {
   "default_parameters": {},
   "duration": 1000.11796,
   "end_time": "2022-04-01T20:41:54.889151",
   "environment_variables": {},
   "exception": null,
   "input_path": "/mnt/wd500GB/CSC500/csc500-main/csc500-notebooks/templates/ptn_template.ipynb",
   "output_path": "trial.ipynb",
   "parameters": {
    "parameters": {
     "BEST_MODEL_PATH": "./best_model.pth",
     "NUM_LOGS_PER_EPOCH": 10,
     "criteria_for_best": "target_accuracy",
     "dataset_seed": 420,
     "device": "cuda",
     "domains_source": [
      8,
      32,
      50
     ],
     "domains_target": [
      14,
      20,
      26,
      38,
      44
     ],
     "episode_transforms_source": [],
     "episode_transforms_target": [],
     "experiment_name": "tuned_1v2:oracle.run1_limited",
     "labels_source": [
      "3123D52",
      "3123D65",
      "3123D79",
      "3123D80",
      "3123D54",
      "3123D70",
      "3123D7B",
      "3123D89",
      "3123D58",
      "3123D76",
      "3123D7D",
      "3123EFE",
      "3123D64",
      "3123D78",
      "3123D7E",
      "3124E4A"
     ],
     "labels_target": [
      "3123D52",
      "3123D65",
      "3123D79",
      "3123D80",
      "3123D54",
      "3123D70",
      "3123D7B",
      "3123D89",
      "3123D58",
      "3123D76",
      "3123D7D",
      "3123EFE",
      "3123D64",
      "3123D78",
      "3123D7E",
      "3124E4A"
     ],
     "lr": 0.0001,
     "n_epoch": 50,
     "n_query": 2,
     "n_shot": 3,
     "n_way": 16,
     "num_examples_per_domain_per_label_source": 2000,
     "num_examples_per_domain_per_label_target": 2000,
     "patience": 3,
     "pickle_name": "oracle.Run1_10kExamples_stratified_ds.2022A.pkl",
     "seed": 420,
     "test_k_factor": 2,
     "torch_default_dtype": "torch.float32",
     "train_k_factor": 3,
     "val_k_factor": 2,
     "x_net": [
      {
       "class": "nnReshape",
       "kargs": {
        "shape": [
         -1,
         1,
         2,
         256
        ]
       }
      },
      {
       "class": "Conv2d",
       "kargs": {
        "bias": false,
        "in_channels": 1,
        "kernel_size": [
         1,
         7
        ],
        "out_channels": 256,
        "padding": [
         0,
         3
        ]
       }
      },
      {
       "class": "ReLU",
       "kargs": {
        "inplace": true
       }
      },
      {
       "class": "BatchNorm2d",
       "kargs": {
        "num_features": 256
       }
      },
      {
       "class": "Conv2d",
       "kargs": {
        "bias": true,
        "in_channels": 256,
        "kernel_size": [
         2,
         7
        ],
        "out_channels": 80,
        "padding": [
         0,
         3
        ]
       }
      },
      {
       "class": "ReLU",
       "kargs": {
        "inplace": true
       }
      },
      {
       "class": "BatchNorm2d",
       "kargs": {
        "num_features": 80
       }
      },
      {
       "class": "Flatten",
       "kargs": {}
      },
      {
       "class": "Linear",
       "kargs": {
        "in_features": 20480,
        "out_features": 256
       }
      },
      {
       "class": "ReLU",
       "kargs": {
        "inplace": true
       }
      },
      {
       "class": "BatchNorm1d",
       "kargs": {
        "num_features": 256
       }
      },
      {
       "class": "Linear",
       "kargs": {
        "in_features": 256,
        "out_features": 256
       }
      }
     ],
     "x_transforms_source": [
      "unit_mag"
     ],
     "x_transforms_target": [
      "unit_mag"
     ]
    }
   },
   "start_time": "2022-04-01T20:25:14.771191",
   "version": "2.3.4"
  }
 },
 "nbformat": 4,
 "nbformat_minor": 5
}