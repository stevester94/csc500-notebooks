{
 "cells": [
  {
   "cell_type": "markdown",
   "id": "9fea5f46",
   "metadata": {
    "papermill": {
     "duration": 0.01432,
     "end_time": "2022-04-01T19:47:26.142794",
     "exception": false,
     "start_time": "2022-04-01T19:47:26.128474",
     "status": "completed"
    },
    "tags": []
   },
   "source": [
    "# PTN Template\n",
    "This notebook serves as a template for single dataset PTN experiments  \n",
    "It can be run on its own by setting STANDALONE to True (do a find for \"STANDALONE\" to see where)  \n",
    "But it is intended to be executed as part of a *papermill.py script. See any of the   \n",
    "experimentes with a papermill script to get started with that workflow.  "
   ]
  },
  {
   "cell_type": "code",
   "execution_count": 1,
   "id": "0902182a",
   "metadata": {
    "execution": {
     "iopub.execute_input": "2022-04-01T19:47:26.175229Z",
     "iopub.status.busy": "2022-04-01T19:47:26.174840Z",
     "iopub.status.idle": "2022-04-01T19:47:27.069496Z",
     "shell.execute_reply": "2022-04-01T19:47:27.069245Z"
    },
    "papermill": {
     "duration": 0.917817,
     "end_time": "2022-04-01T19:47:27.069554",
     "exception": false,
     "start_time": "2022-04-01T19:47:26.151737",
     "status": "completed"
    },
    "tags": []
   },
   "outputs": [],
   "source": [
    "%load_ext autoreload\n",
    "%autoreload 2\n",
    "%matplotlib inline\n",
    "\n",
    "    \n",
    "import os, json, sys, time, random\n",
    "import numpy as np\n",
    "import torch\n",
    "from torch.optim import Adam\n",
    "from  easydict import EasyDict\n",
    "import matplotlib.pyplot as plt\n",
    "\n",
    "from steves_models.steves_ptn import Steves_Prototypical_Network\n",
    "\n",
    "from steves_utils.lazy_iterable_wrapper import Lazy_Iterable_Wrapper\n",
    "from steves_utils.iterable_aggregator import Iterable_Aggregator\n",
    "from steves_utils.ptn_train_eval_test_jig import  PTN_Train_Eval_Test_Jig\n",
    "from steves_utils.torch_sequential_builder import build_sequential\n",
    "from steves_utils.torch_utils import get_dataset_metrics, ptn_confusion_by_domain_over_dataloader\n",
    "from steves_utils.utils_v2 import (per_domain_accuracy_from_confusion, get_datasets_base_path)\n",
    "from steves_utils.PTN.utils import independent_accuracy_assesment\n",
    "\n",
    "from steves_utils.stratified_dataset.episodic_accessor import Episodic_Accessor_Factory\n",
    "\n",
    "from steves_utils.ptn_do_report import (\n",
    "    get_loss_curve,\n",
    "    get_results_table,\n",
    "    get_parameters_table,\n",
    "    get_domain_accuracies,\n",
    ")\n",
    "\n",
    "from steves_utils.transforms import get_chained_transform"
   ]
  },
  {
   "cell_type": "markdown",
   "id": "41c840b4",
   "metadata": {
    "papermill": {
     "duration": 0.009109,
     "end_time": "2022-04-01T19:47:27.087816",
     "exception": false,
     "start_time": "2022-04-01T19:47:27.078707",
     "status": "completed"
    },
    "tags": []
   },
   "source": [
    "# Required Parameters\n",
    "These are allowed parameters, not defaults\n",
    "Each of these values need to be present in the injected parameters (the notebook will raise an exception if they are not present)\n",
    "\n",
    "Papermill uses the cell tag \"parameters\" to inject the real parameters below this cell.\n",
    "Enable tags to see what I mean"
   ]
  },
  {
   "cell_type": "code",
   "execution_count": 2,
   "id": "fd44eb83",
   "metadata": {
    "execution": {
     "iopub.execute_input": "2022-04-01T19:47:27.109191Z",
     "iopub.status.busy": "2022-04-01T19:47:27.108928Z",
     "iopub.status.idle": "2022-04-01T19:47:27.122288Z",
     "shell.execute_reply": "2022-04-01T19:47:27.122663Z"
    },
    "papermill": {
     "duration": 0.025915,
     "end_time": "2022-04-01T19:47:27.122766",
     "exception": false,
     "start_time": "2022-04-01T19:47:27.096851",
     "status": "completed"
    },
    "tags": []
   },
   "outputs": [],
   "source": [
    "required_parameters = {\n",
    "    \"experiment_name\",\n",
    "    \"lr\",\n",
    "    \"device\",\n",
    "    \"seed\",\n",
    "    \"dataset_seed\",\n",
    "    \"labels_source\",\n",
    "    \"labels_target\",\n",
    "    \"domains_source\",\n",
    "    \"domains_target\",\n",
    "    \"num_examples_per_domain_per_label_source\",\n",
    "    \"num_examples_per_domain_per_label_target\",\n",
    "    \"n_shot\",\n",
    "    \"n_way\",\n",
    "    \"n_query\",\n",
    "    \"train_k_factor\",\n",
    "    \"val_k_factor\",\n",
    "    \"test_k_factor\",\n",
    "    \"n_epoch\",\n",
    "    \"patience\",\n",
    "    \"criteria_for_best\",\n",
    "    \"x_transforms_source\",\n",
    "    \"x_transforms_target\",\n",
    "    \"episode_transforms_source\",\n",
    "    \"episode_transforms_target\",\n",
    "    \"pickle_name\",\n",
    "    \"x_net\",\n",
    "    \"NUM_LOGS_PER_EPOCH\",\n",
    "    \"BEST_MODEL_PATH\",\n",
    "    \"torch_default_dtype\"\n",
    "}"
   ]
  },
  {
   "cell_type": "code",
   "execution_count": 3,
   "id": "fa3f0049",
   "metadata": {
    "execution": {
     "iopub.execute_input": "2022-04-01T19:47:27.157672Z",
     "iopub.status.busy": "2022-04-01T19:47:27.157161Z",
     "iopub.status.idle": "2022-04-01T19:47:27.171743Z",
     "shell.execute_reply": "2022-04-01T19:47:27.172094Z"
    },
    "papermill": {
     "duration": 0.034412,
     "end_time": "2022-04-01T19:47:27.172199",
     "exception": false,
     "start_time": "2022-04-01T19:47:27.137787",
     "status": "completed"
    },
    "tags": [
     "parameters"
    ]
   },
   "outputs": [],
   "source": [
    "\n",
    "\n",
    "standalone_parameters = {}\n",
    "standalone_parameters[\"experiment_name\"] = \"STANDALONE PTN\"\n",
    "standalone_parameters[\"lr\"] = 0.0001\n",
    "standalone_parameters[\"device\"] = \"cuda\"\n",
    "\n",
    "standalone_parameters[\"seed\"] = 1337\n",
    "standalone_parameters[\"dataset_seed\"] = 1337\n",
    "\n",
    "\n",
    "standalone_parameters[\"num_examples_per_domain_per_label_source\"]=100\n",
    "standalone_parameters[\"num_examples_per_domain_per_label_target\"]=100\n",
    "\n",
    "standalone_parameters[\"n_shot\"] = 3\n",
    "standalone_parameters[\"n_query\"]  = 2\n",
    "standalone_parameters[\"train_k_factor\"] = 1\n",
    "standalone_parameters[\"val_k_factor\"] = 2\n",
    "standalone_parameters[\"test_k_factor\"] = 2\n",
    "\n",
    "\n",
    "standalone_parameters[\"n_epoch\"] = 100\n",
    "\n",
    "standalone_parameters[\"patience\"] = 10\n",
    "standalone_parameters[\"criteria_for_best\"] = \"target_accuracy\"\n",
    "\n",
    "standalone_parameters[\"x_transforms_source\"] = [\"unit_power\"]\n",
    "standalone_parameters[\"x_transforms_target\"] = [\"unit_power\"]\n",
    "standalone_parameters[\"episode_transforms_source\"] = []\n",
    "standalone_parameters[\"episode_transforms_target\"] = []\n",
    "\n",
    "standalone_parameters[\"torch_default_dtype\"] = \"torch.float32\" \n",
    "\n",
    "\n",
    "\n",
    "standalone_parameters[\"x_net\"] =     [\n",
    "    {\"class\": \"nnReshape\", \"kargs\": {\"shape\":[-1, 1, 2, 256]}},\n",
    "    {\"class\": \"Conv2d\", \"kargs\": { \"in_channels\":1, \"out_channels\":256, \"kernel_size\":(1,7), \"bias\":False, \"padding\":(0,3), },},\n",
    "    {\"class\": \"ReLU\", \"kargs\": {\"inplace\": True}},\n",
    "    {\"class\": \"BatchNorm2d\", \"kargs\": {\"num_features\":256}},\n",
    "\n",
    "    {\"class\": \"Conv2d\", \"kargs\": { \"in_channels\":256, \"out_channels\":80, \"kernel_size\":(2,7), \"bias\":True, \"padding\":(0,3), },},\n",
    "    {\"class\": \"ReLU\", \"kargs\": {\"inplace\": True}},\n",
    "    {\"class\": \"BatchNorm2d\", \"kargs\": {\"num_features\":80}},\n",
    "    {\"class\": \"Flatten\", \"kargs\": {}},\n",
    "\n",
    "    {\"class\": \"Linear\", \"kargs\": {\"in_features\": 80*256, \"out_features\": 256}}, # 80 units per IQ pair\n",
    "    {\"class\": \"ReLU\", \"kargs\": {\"inplace\": True}},\n",
    "    {\"class\": \"BatchNorm1d\", \"kargs\": {\"num_features\":256}},\n",
    "\n",
    "    {\"class\": \"Linear\", \"kargs\": {\"in_features\": 256, \"out_features\": 256}},\n",
    "]\n",
    "\n",
    "# Parameters relevant to results\n",
    "# These parameters will basically never need to change\n",
    "standalone_parameters[\"NUM_LOGS_PER_EPOCH\"] = 10\n",
    "standalone_parameters[\"BEST_MODEL_PATH\"] = \"./best_model.pth\"\n",
    "\n",
    "# uncomment for CORES dataset\n",
    "from steves_utils.CORES.utils import (\n",
    "    ALL_NODES,\n",
    "    ALL_NODES_MINIMUM_1000_EXAMPLES,\n",
    "    ALL_DAYS\n",
    ")\n",
    "\n",
    "\n",
    "standalone_parameters[\"labels_source\"] = ALL_NODES\n",
    "standalone_parameters[\"labels_target\"] = ALL_NODES\n",
    "\n",
    "standalone_parameters[\"domains_source\"] = [1]\n",
    "standalone_parameters[\"domains_target\"] = [2,3,4,5]\n",
    "\n",
    "standalone_parameters[\"pickle_name\"] = \"cores.stratified_ds.2022A.pkl\"\n",
    "\n",
    "\n",
    "# Uncomment these for ORACLE dataset\n",
    "# from steves_utils.ORACLE.utils_v2 import (\n",
    "#     ALL_DISTANCES_FEET,\n",
    "#     ALL_RUNS,\n",
    "#     ALL_SERIAL_NUMBERS,\n",
    "# )\n",
    "# standalone_parameters[\"labels_source\"] = ALL_SERIAL_NUMBERS\n",
    "# standalone_parameters[\"labels_target\"] = ALL_SERIAL_NUMBERS\n",
    "# standalone_parameters[\"domains_source\"] = [8,20, 38,50]\n",
    "# standalone_parameters[\"domains_target\"] = [14, 26, 32, 44, 56]\n",
    "# standalone_parameters[\"pickle_name\"] = \"oracle.frame_indexed.stratified_ds.2022A.pkl\"\n",
    "# standalone_parameters[\"num_examples_per_domain_per_label_source\"]=1000\n",
    "# standalone_parameters[\"num_examples_per_domain_per_label_target\"]=1000\n",
    "\n",
    "# Uncomment these for Metahan dataset\n",
    "# standalone_parameters[\"labels_source\"] = list(range(19))\n",
    "# standalone_parameters[\"labels_target\"] = list(range(19))\n",
    "# standalone_parameters[\"domains_source\"] = [0]\n",
    "# standalone_parameters[\"domains_target\"] = [1]\n",
    "# standalone_parameters[\"pickle_name\"] = \"metehan.stratified_ds.2022A.pkl\"\n",
    "# standalone_parameters[\"n_way\"]  = len(standalone_parameters[\"labels_source\"])\n",
    "# standalone_parameters[\"num_examples_per_domain_per_label_source\"]=200\n",
    "# standalone_parameters[\"num_examples_per_domain_per_label_target\"]=100\n",
    "\n",
    "\n",
    "standalone_parameters[\"n_way\"]  = len(standalone_parameters[\"labels_source\"])"
   ]
  },
  {
   "cell_type": "code",
   "execution_count": 4,
   "id": "68898598",
   "metadata": {
    "execution": {
     "iopub.execute_input": "2022-04-01T19:47:27.202543Z",
     "iopub.status.busy": "2022-04-01T19:47:27.197274Z",
     "iopub.status.idle": "2022-04-01T19:47:27.213705Z",
     "shell.execute_reply": "2022-04-01T19:47:27.213316Z"
    },
    "papermill": {
     "duration": 0.027389,
     "end_time": "2022-04-01T19:47:27.213793",
     "exception": false,
     "start_time": "2022-04-01T19:47:27.186404",
     "status": "completed"
    },
    "tags": [
     "injected-parameters"
    ]
   },
   "outputs": [],
   "source": [
    "# Parameters\n",
    "parameters = {\n",
    "    \"experiment_name\": \"tuned_1v2:oracle.run1_limited\",\n",
    "    \"device\": \"cuda\",\n",
    "    \"lr\": 0.0001,\n",
    "    \"labels_source\": [\n",
    "        \"3123D52\",\n",
    "        \"3123D65\",\n",
    "        \"3123D79\",\n",
    "        \"3123D80\",\n",
    "        \"3123D54\",\n",
    "        \"3123D70\",\n",
    "        \"3123D7B\",\n",
    "        \"3123D89\",\n",
    "        \"3123D58\",\n",
    "        \"3123D76\",\n",
    "        \"3123D7D\",\n",
    "        \"3123EFE\",\n",
    "        \"3123D64\",\n",
    "        \"3123D78\",\n",
    "        \"3123D7E\",\n",
    "        \"3124E4A\",\n",
    "    ],\n",
    "    \"labels_target\": [\n",
    "        \"3123D52\",\n",
    "        \"3123D65\",\n",
    "        \"3123D79\",\n",
    "        \"3123D80\",\n",
    "        \"3123D54\",\n",
    "        \"3123D70\",\n",
    "        \"3123D7B\",\n",
    "        \"3123D89\",\n",
    "        \"3123D58\",\n",
    "        \"3123D76\",\n",
    "        \"3123D7D\",\n",
    "        \"3123EFE\",\n",
    "        \"3123D64\",\n",
    "        \"3123D78\",\n",
    "        \"3123D7E\",\n",
    "        \"3124E4A\",\n",
    "    ],\n",
    "    \"episode_transforms_source\": [],\n",
    "    \"episode_transforms_target\": [],\n",
    "    \"domains_source\": [8, 32, 50],\n",
    "    \"domains_target\": [14, 20, 26, 38, 44],\n",
    "    \"num_examples_per_domain_per_label_source\": 2000,\n",
    "    \"num_examples_per_domain_per_label_target\": 2000,\n",
    "    \"n_shot\": 3,\n",
    "    \"n_way\": 16,\n",
    "    \"n_query\": 2,\n",
    "    \"train_k_factor\": 3,\n",
    "    \"val_k_factor\": 2,\n",
    "    \"test_k_factor\": 2,\n",
    "    \"torch_default_dtype\": \"torch.float32\",\n",
    "    \"n_epoch\": 50,\n",
    "    \"patience\": 3,\n",
    "    \"criteria_for_best\": \"target_accuracy\",\n",
    "    \"x_net\": [\n",
    "        {\"class\": \"nnReshape\", \"kargs\": {\"shape\": [-1, 1, 2, 256]}},\n",
    "        {\n",
    "            \"class\": \"Conv2d\",\n",
    "            \"kargs\": {\n",
    "                \"in_channels\": 1,\n",
    "                \"out_channels\": 256,\n",
    "                \"kernel_size\": [1, 7],\n",
    "                \"bias\": False,\n",
    "                \"padding\": [0, 3],\n",
    "            },\n",
    "        },\n",
    "        {\"class\": \"ReLU\", \"kargs\": {\"inplace\": True}},\n",
    "        {\"class\": \"BatchNorm2d\", \"kargs\": {\"num_features\": 256}},\n",
    "        {\n",
    "            \"class\": \"Conv2d\",\n",
    "            \"kargs\": {\n",
    "                \"in_channels\": 256,\n",
    "                \"out_channels\": 80,\n",
    "                \"kernel_size\": [2, 7],\n",
    "                \"bias\": True,\n",
    "                \"padding\": [0, 3],\n",
    "            },\n",
    "        },\n",
    "        {\"class\": \"ReLU\", \"kargs\": {\"inplace\": True}},\n",
    "        {\"class\": \"BatchNorm2d\", \"kargs\": {\"num_features\": 80}},\n",
    "        {\"class\": \"Flatten\", \"kargs\": {}},\n",
    "        {\"class\": \"Linear\", \"kargs\": {\"in_features\": 20480, \"out_features\": 256}},\n",
    "        {\"class\": \"ReLU\", \"kargs\": {\"inplace\": True}},\n",
    "        {\"class\": \"BatchNorm1d\", \"kargs\": {\"num_features\": 256}},\n",
    "        {\"class\": \"Linear\", \"kargs\": {\"in_features\": 256, \"out_features\": 256}},\n",
    "    ],\n",
    "    \"NUM_LOGS_PER_EPOCH\": 10,\n",
    "    \"BEST_MODEL_PATH\": \"./best_model.pth\",\n",
    "    \"pickle_name\": \"oracle.Run1_10kExamples_stratified_ds.2022A.pkl\",\n",
    "    \"x_transforms_source\": [],\n",
    "    \"x_transforms_target\": [],\n",
    "    \"dataset_seed\": 1337,\n",
    "    \"seed\": 1337,\n",
    "}\n"
   ]
  },
  {
   "cell_type": "code",
   "execution_count": 5,
   "id": "8fa1cc33",
   "metadata": {
    "execution": {
     "iopub.execute_input": "2022-04-01T19:47:27.239634Z",
     "iopub.status.busy": "2022-04-01T19:47:27.237975Z",
     "iopub.status.idle": "2022-04-01T19:47:27.253334Z",
     "shell.execute_reply": "2022-04-01T19:47:27.253701Z"
    },
    "papermill": {
     "duration": 0.02628,
     "end_time": "2022-04-01T19:47:27.253801",
     "exception": false,
     "start_time": "2022-04-01T19:47:27.227521",
     "status": "completed"
    },
    "tags": []
   },
   "outputs": [],
   "source": [
    "# Set this to True if you want to run this template directly\n",
    "STANDALONE = False\n",
    "if STANDALONE:\n",
    "    print(\"parameters not injected, running with standalone_parameters\")\n",
    "    parameters = standalone_parameters\n",
    "\n",
    "if not 'parameters' in locals() and not 'parameters' in globals():\n",
    "    raise Exception(\"Parameter injection failed\")\n",
    "\n",
    "#Use an easy dict for all the parameters\n",
    "p = EasyDict(parameters)\n",
    "\n",
    "supplied_keys = set(p.keys())\n",
    "\n",
    "if  supplied_keys != required_parameters:\n",
    "    print(\"Parameters are incorrect\")\n",
    "    if len(supplied_keys - required_parameters)>0: print(\"Shouldn't have:\", str(supplied_keys - required_parameters))\n",
    "    if len(required_parameters - supplied_keys)>0: print(\"Need to have:\", str(required_parameters - supplied_keys))\n",
    "    raise RuntimeError(\"Parameters are incorrect\")\n",
    "\n"
   ]
  },
  {
   "cell_type": "code",
   "execution_count": 6,
   "id": "3a028d58",
   "metadata": {
    "execution": {
     "iopub.execute_input": "2022-04-01T19:47:27.278802Z",
     "iopub.status.busy": "2022-04-01T19:47:27.278549Z",
     "iopub.status.idle": "2022-04-01T19:47:27.292661Z",
     "shell.execute_reply": "2022-04-01T19:47:27.292949Z"
    },
    "papermill": {
     "duration": 0.025613,
     "end_time": "2022-04-01T19:47:27.293028",
     "exception": false,
     "start_time": "2022-04-01T19:47:27.267415",
     "status": "completed"
    },
    "tags": []
   },
   "outputs": [],
   "source": [
    "###################################\n",
    "# Set the RNGs and make it all deterministic\n",
    "###################################\n",
    "np.random.seed(p.seed)\n",
    "random.seed(p.seed)\n",
    "torch.manual_seed(p.seed)\n",
    "\n",
    "torch.use_deterministic_algorithms(True) "
   ]
  },
  {
   "cell_type": "code",
   "execution_count": 7,
   "id": "b691acf6",
   "metadata": {
    "execution": {
     "iopub.execute_input": "2022-04-01T19:47:27.318229Z",
     "iopub.status.busy": "2022-04-01T19:47:27.317972Z",
     "iopub.status.idle": "2022-04-01T19:47:27.330604Z",
     "shell.execute_reply": "2022-04-01T19:47:27.330966Z"
    },
    "papermill": {
     "duration": 0.024345,
     "end_time": "2022-04-01T19:47:27.331069",
     "exception": false,
     "start_time": "2022-04-01T19:47:27.306724",
     "status": "completed"
    },
    "tags": []
   },
   "outputs": [],
   "source": [
    "###########################################\n",
    "# The stratified datasets honor this\n",
    "###########################################\n",
    "torch.set_default_dtype(eval(p.torch_default_dtype))"
   ]
  },
  {
   "cell_type": "code",
   "execution_count": 8,
   "id": "b5fba671",
   "metadata": {
    "execution": {
     "iopub.execute_input": "2022-04-01T19:47:27.355005Z",
     "iopub.status.busy": "2022-04-01T19:47:27.354623Z",
     "iopub.status.idle": "2022-04-01T19:47:27.394333Z",
     "shell.execute_reply": "2022-04-01T19:47:27.394029Z"
    },
    "papermill": {
     "duration": 0.050339,
     "end_time": "2022-04-01T19:47:27.394401",
     "exception": false,
     "start_time": "2022-04-01T19:47:27.344062",
     "status": "completed"
    },
    "tags": []
   },
   "outputs": [],
   "source": [
    "###################################\n",
    "# Build the network(s)\n",
    "# Note: It's critical to do this AFTER setting the RNG\n",
    "# (This is due to the randomized initial weights)\n",
    "###################################\n",
    "x_net = build_sequential(p.x_net)"
   ]
  },
  {
   "cell_type": "code",
   "execution_count": 9,
   "id": "5d7e61cc",
   "metadata": {
    "execution": {
     "iopub.execute_input": "2022-04-01T19:47:27.419417Z",
     "iopub.status.busy": "2022-04-01T19:47:27.419167Z",
     "iopub.status.idle": "2022-04-01T19:47:27.431837Z",
     "shell.execute_reply": "2022-04-01T19:47:27.431394Z"
    },
    "papermill": {
     "duration": 0.024077,
     "end_time": "2022-04-01T19:47:27.431924",
     "exception": false,
     "start_time": "2022-04-01T19:47:27.407847",
     "status": "completed"
    },
    "tags": []
   },
   "outputs": [],
   "source": [
    "start_time_secs = time.time()"
   ]
  },
  {
   "cell_type": "code",
   "execution_count": 10,
   "id": "fd5442bc",
   "metadata": {
    "execution": {
     "iopub.execute_input": "2022-04-01T19:47:27.459431Z",
     "iopub.status.busy": "2022-04-01T19:47:27.459160Z",
     "iopub.status.idle": "2022-04-01T19:47:31.078878Z",
     "shell.execute_reply": "2022-04-01T19:47:31.078445Z"
    },
    "papermill": {
     "duration": 3.634218,
     "end_time": "2022-04-01T19:47:31.078973",
     "exception": false,
     "start_time": "2022-04-01T19:47:27.444755",
     "status": "completed"
    },
    "tags": []
   },
   "outputs": [],
   "source": [
    "###################################\n",
    "# Build the dataset\n",
    "###################################\n",
    "\n",
    "if p.x_transforms_source == []: x_transform_source = None\n",
    "else: x_transform_source = get_chained_transform(p.x_transforms_source) \n",
    "\n",
    "if p.x_transforms_target == []: x_transform_target = None\n",
    "else: x_transform_target = get_chained_transform(p.x_transforms_target)\n",
    "\n",
    "if p.episode_transforms_source == []: episode_transform_source = None\n",
    "else: raise Exception(\"episode_transform_source not implemented\")\n",
    "\n",
    "if p.episode_transforms_target == []: episode_transform_target = None\n",
    "else: raise Exception(\"episode_transform_target not implemented\")\n",
    "\n",
    "\n",
    "eaf_source = Episodic_Accessor_Factory(\n",
    "    labels=p.labels_source,\n",
    "    domains=p.domains_source,\n",
    "    num_examples_per_domain_per_label=p.num_examples_per_domain_per_label_source,\n",
    "    iterator_seed=p.seed,\n",
    "    dataset_seed=p.dataset_seed,\n",
    "    n_shot=p.n_shot,\n",
    "    n_way=p.n_way,\n",
    "    n_query=p.n_query,\n",
    "    train_val_test_k_factors=(p.train_k_factor,p.val_k_factor,p.test_k_factor),\n",
    "    pickle_path=os.path.join(get_datasets_base_path(), p.pickle_name),\n",
    "    x_transform_func=x_transform_source,\n",
    "    example_transform_func=episode_transform_source,\n",
    "    \n",
    ")\n",
    "train_original_source, val_original_source, test_original_source = eaf_source.get_train(), eaf_source.get_val(), eaf_source.get_test()\n",
    "\n",
    "\n",
    "eaf_target = Episodic_Accessor_Factory(\n",
    "    labels=p.labels_target,\n",
    "    domains=p.domains_target,\n",
    "    num_examples_per_domain_per_label=p.num_examples_per_domain_per_label_target,\n",
    "    iterator_seed=p.seed,\n",
    "    dataset_seed=p.dataset_seed,\n",
    "    n_shot=p.n_shot,\n",
    "    n_way=p.n_way,\n",
    "    n_query=p.n_query,\n",
    "    train_val_test_k_factors=(p.train_k_factor,p.val_k_factor,p.test_k_factor),\n",
    "    pickle_path=os.path.join(get_datasets_base_path(), p.pickle_name),\n",
    "    x_transform_func=x_transform_target,\n",
    "    example_transform_func=episode_transform_target,\n",
    ")\n",
    "train_original_target, val_original_target, test_original_target = eaf_target.get_train(), eaf_target.get_val(), eaf_target.get_test()\n",
    "\n",
    "\n",
    "transform_lambda = lambda ex: ex[1] # Original is (<domain>, <episode>) so we strip down to episode only\n",
    "\n",
    "train_processed_source = Lazy_Iterable_Wrapper(train_original_source, transform_lambda)\n",
    "val_processed_source   = Lazy_Iterable_Wrapper(val_original_source, transform_lambda)\n",
    "test_processed_source  = Lazy_Iterable_Wrapper(test_original_source, transform_lambda)\n",
    "\n",
    "train_processed_target = Lazy_Iterable_Wrapper(train_original_target, transform_lambda)\n",
    "val_processed_target   = Lazy_Iterable_Wrapper(val_original_target, transform_lambda)\n",
    "test_processed_target  = Lazy_Iterable_Wrapper(test_original_target, transform_lambda)\n",
    "\n",
    "datasets = EasyDict({\n",
    "    \"source\": {\n",
    "        \"original\": {\"train\":train_original_source, \"val\":val_original_source, \"test\":test_original_source},\n",
    "        \"processed\": {\"train\":train_processed_source, \"val\":val_processed_source, \"test\":test_processed_source}\n",
    "    },\n",
    "    \"target\": {\n",
    "        \"original\": {\"train\":train_original_target, \"val\":val_original_target, \"test\":test_original_target},\n",
    "        \"processed\": {\"train\":train_processed_target, \"val\":val_processed_target, \"test\":test_processed_target}\n",
    "    },\n",
    "})"
   ]
  },
  {
   "cell_type": "code",
   "execution_count": 11,
   "id": "296189d9",
   "metadata": {
    "execution": {
     "iopub.execute_input": "2022-04-01T19:47:31.107924Z",
     "iopub.status.busy": "2022-04-01T19:47:31.107671Z",
     "iopub.status.idle": "2022-04-01T19:47:32.727231Z",
     "shell.execute_reply": "2022-04-01T19:47:32.727653Z"
    },
    "papermill": {
     "duration": 1.633509,
     "end_time": "2022-04-01T19:47:32.727789",
     "exception": false,
     "start_time": "2022-04-01T19:47:31.094280",
     "status": "completed"
    },
    "tags": []
   },
   "outputs": [
    {
     "name": "stdout",
     "output_type": "stream",
     "text": [
      "Visually inspect these to see if they line up with expected values given the transforms\n",
      "x_transforms_source []\n",
      "x_transforms_target []\n",
      "Average magnitude, source: 0.004711843\n",
      "Average power, source: 2.8328695e-05\n"
     ]
    },
    {
     "name": "stdout",
     "output_type": "stream",
     "text": [
      "Average magnitude, target: 0.0029543545\n",
      "Average power, target: 1.1132622e-05\n"
     ]
    }
   ],
   "source": [
    "# Some quick unit tests on the data\n",
    "from steves_utils.transforms import get_average_power, get_average_magnitude\n",
    "\n",
    "q_x, q_y, s_x, s_y, truth = next(iter(train_processed_source))\n",
    "\n",
    "assert q_x.dtype == eval(p.torch_default_dtype)\n",
    "assert s_x.dtype == eval(p.torch_default_dtype)\n",
    "\n",
    "print(\"Visually inspect these to see if they line up with expected values given the transforms\")\n",
    "print('x_transforms_source', p.x_transforms_source)\n",
    "print('x_transforms_target', p.x_transforms_target)\n",
    "print(\"Average magnitude, source:\", get_average_magnitude(q_x[0].numpy()))\n",
    "print(\"Average power, source:\", get_average_power(q_x[0].numpy()))\n",
    "\n",
    "q_x, q_y, s_x, s_y, truth = next(iter(train_processed_target))\n",
    "print(\"Average magnitude, target:\", get_average_magnitude(q_x[0].numpy()))\n",
    "print(\"Average power, target:\", get_average_power(q_x[0].numpy()))\n"
   ]
  },
  {
   "cell_type": "code",
   "execution_count": 12,
   "id": "bbdacba1",
   "metadata": {
    "execution": {
     "iopub.execute_input": "2022-04-01T19:47:32.755459Z",
     "iopub.status.busy": "2022-04-01T19:47:32.755199Z",
     "iopub.status.idle": "2022-04-01T19:47:32.812480Z",
     "shell.execute_reply": "2022-04-01T19:47:32.812688Z"
    },
    "papermill": {
     "duration": 0.070418,
     "end_time": "2022-04-01T19:47:32.812753",
     "exception": false,
     "start_time": "2022-04-01T19:47:32.742335",
     "status": "completed"
    },
    "tags": []
   },
   "outputs": [
    {
     "name": "stdout",
     "output_type": "stream",
     "text": [
      "(2, 256)\n"
     ]
    }
   ],
   "source": [
    "###################################\n",
    "# Build the model\n",
    "###################################\n",
    "model = Steves_Prototypical_Network(x_net, device=p.device, x_shape=(2,256))\n",
    "optimizer = Adam(params=model.parameters(), lr=p.lr)"
   ]
  },
  {
   "cell_type": "code",
   "execution_count": 13,
   "id": "22b39ac5",
   "metadata": {
    "execution": {
     "iopub.execute_input": "2022-04-01T19:47:32.837119Z",
     "iopub.status.busy": "2022-04-01T19:47:32.836866Z",
     "iopub.status.idle": "2022-04-01T20:06:28.939139Z",
     "shell.execute_reply": "2022-04-01T20:06:28.938907Z"
    },
    "papermill": {
     "duration": 1136.115737,
     "end_time": "2022-04-01T20:06:28.939196",
     "exception": false,
     "start_time": "2022-04-01T19:47:32.823459",
     "status": "completed"
    },
    "tags": []
   },
   "outputs": [
    {
     "name": "stdout",
     "output_type": "stream",
     "text": [
      "epoch: 1, [batch: 1 / 2520], examples_per_second: 129.2360, train_label_loss: 2.6609, \n"
     ]
    },
    {
     "name": "stdout",
     "output_type": "stream",
     "text": [
      "epoch: 1, [batch: 252 / 2520], examples_per_second: 3163.3196, train_label_loss: 1.4834, \n"
     ]
    },
    {
     "name": "stdout",
     "output_type": "stream",
     "text": [
      "epoch: 1, [batch: 504 / 2520], examples_per_second: 3183.4108, train_label_loss: 1.2053, \n"
     ]
    },
    {
     "name": "stdout",
     "output_type": "stream",
     "text": [
      "epoch: 1, [batch: 756 / 2520], examples_per_second: 3179.8899, train_label_loss: 1.4231, \n"
     ]
    },
    {
     "name": "stdout",
     "output_type": "stream",
     "text": [
      "epoch: 1, [batch: 1008 / 2520], examples_per_second: 3161.2053, train_label_loss: 0.8283, \n"
     ]
    },
    {
     "name": "stdout",
     "output_type": "stream",
     "text": [
      "epoch: 1, [batch: 1260 / 2520], examples_per_second: 3196.3444, train_label_loss: 0.9124, \n"
     ]
    },
    {
     "name": "stdout",
     "output_type": "stream",
     "text": [
      "epoch: 1, [batch: 1512 / 2520], examples_per_second: 3180.9158, train_label_loss: 1.1501, \n"
     ]
    },
    {
     "name": "stdout",
     "output_type": "stream",
     "text": [
      "epoch: 1, [batch: 1764 / 2520], examples_per_second: 3184.7025, train_label_loss: 0.7814, \n"
     ]
    },
    {
     "name": "stdout",
     "output_type": "stream",
     "text": [
      "epoch: 1, [batch: 2016 / 2520], examples_per_second: 3182.6647, train_label_loss: 0.7724, \n"
     ]
    },
    {
     "name": "stdout",
     "output_type": "stream",
     "text": [
      "epoch: 1, [batch: 2268 / 2520], examples_per_second: 3183.6389, train_label_loss: 0.4036, \n"
     ]
    },
    {
     "name": "stdout",
     "output_type": "stream",
     "text": [
      "=============================================================\n",
      "epoch: 1, source_val_acc_label: 0.6333, target_val_acc_label: 0.5558, source_val_label_loss: 1.4282, target_val_label_loss: 1.6065, \n",
      "=============================================================\n"
     ]
    },
    {
     "name": "stdout",
     "output_type": "stream",
     "text": [
      "New best\n"
     ]
    },
    {
     "name": "stdout",
     "output_type": "stream",
     "text": [
      "epoch: 2, [batch: 1 / 2520], examples_per_second: 11.1472, train_label_loss: 1.6910, \n"
     ]
    },
    {
     "name": "stdout",
     "output_type": "stream",
     "text": [
      "epoch: 2, [batch: 252 / 2520], examples_per_second: 3216.9741, train_label_loss: 0.6137, \n"
     ]
    },
    {
     "name": "stdout",
     "output_type": "stream",
     "text": [
      "epoch: 2, [batch: 504 / 2520], examples_per_second: 3214.4444, train_label_loss: 0.6501, \n"
     ]
    },
    {
     "name": "stdout",
     "output_type": "stream",
     "text": [
      "epoch: 2, [batch: 756 / 2520], examples_per_second: 3197.9973, train_label_loss: 0.7346, \n"
     ]
    },
    {
     "name": "stdout",
     "output_type": "stream",
     "text": [
      "epoch: 2, [batch: 1008 / 2520], examples_per_second: 3176.7385, train_label_loss: 1.0265, \n"
     ]
    },
    {
     "name": "stdout",
     "output_type": "stream",
     "text": [
      "epoch: 2, [batch: 1260 / 2520], examples_per_second: 3207.1303, train_label_loss: 1.1010, \n"
     ]
    },
    {
     "name": "stdout",
     "output_type": "stream",
     "text": [
      "epoch: 2, [batch: 1512 / 2520], examples_per_second: 3206.5026, train_label_loss: 0.5527, \n"
     ]
    },
    {
     "name": "stdout",
     "output_type": "stream",
     "text": [
      "epoch: 2, [batch: 1764 / 2520], examples_per_second: 3208.4541, train_label_loss: 0.8482, \n"
     ]
    },
    {
     "name": "stdout",
     "output_type": "stream",
     "text": [
      "epoch: 2, [batch: 2016 / 2520], examples_per_second: 3214.7354, train_label_loss: 0.6664, \n"
     ]
    },
    {
     "name": "stdout",
     "output_type": "stream",
     "text": [
      "epoch: 2, [batch: 2268 / 2520], examples_per_second: 3217.7606, train_label_loss: 0.6831, \n"
     ]
    },
    {
     "name": "stdout",
     "output_type": "stream",
     "text": [
      "=============================================================\n",
      "epoch: 2, source_val_acc_label: 0.7373, target_val_acc_label: 0.6271, source_val_label_loss: 0.7125, target_val_label_loss: 1.0690, \n",
      "=============================================================\n"
     ]
    },
    {
     "name": "stdout",
     "output_type": "stream",
     "text": [
      "New best\n"
     ]
    },
    {
     "name": "stdout",
     "output_type": "stream",
     "text": [
      "epoch: 3, [batch: 1 / 2520], examples_per_second: 11.1609, train_label_loss: 0.4767, \n"
     ]
    },
    {
     "name": "stdout",
     "output_type": "stream",
     "text": [
      "epoch: 3, [batch: 252 / 2520], examples_per_second: 3170.3655, train_label_loss: 0.8205, \n"
     ]
    },
    {
     "name": "stdout",
     "output_type": "stream",
     "text": [
      "epoch: 3, [batch: 504 / 2520], examples_per_second: 3191.4971, train_label_loss: 0.5219, \n"
     ]
    },
    {
     "name": "stdout",
     "output_type": "stream",
     "text": [
      "epoch: 3, [batch: 756 / 2520], examples_per_second: 3216.3419, train_label_loss: 0.6858, \n"
     ]
    },
    {
     "name": "stdout",
     "output_type": "stream",
     "text": [
      "epoch: 3, [batch: 1008 / 2520], examples_per_second: 3196.8561, train_label_loss: 0.6423, \n"
     ]
    },
    {
     "name": "stdout",
     "output_type": "stream",
     "text": [
      "epoch: 3, [batch: 1260 / 2520], examples_per_second: 3206.6929, train_label_loss: 0.7239, \n"
     ]
    },
    {
     "name": "stdout",
     "output_type": "stream",
     "text": [
      "epoch: 3, [batch: 1512 / 2520], examples_per_second: 3186.2855, train_label_loss: 0.5808, \n"
     ]
    },
    {
     "name": "stdout",
     "output_type": "stream",
     "text": [
      "epoch: 3, [batch: 1764 / 2520], examples_per_second: 3215.4942, train_label_loss: 0.7942, \n"
     ]
    },
    {
     "name": "stdout",
     "output_type": "stream",
     "text": [
      "epoch: 3, [batch: 2016 / 2520], examples_per_second: 3219.2865, train_label_loss: 0.7277, \n"
     ]
    },
    {
     "name": "stdout",
     "output_type": "stream",
     "text": [
      "epoch: 3, [batch: 2268 / 2520], examples_per_second: 3203.1415, train_label_loss: 0.5878, \n"
     ]
    },
    {
     "name": "stdout",
     "output_type": "stream",
     "text": [
      "=============================================================\n",
      "epoch: 3, source_val_acc_label: 0.7494, target_val_acc_label: 0.6402, source_val_label_loss: 0.6773, target_val_label_loss: 1.0731, \n",
      "=============================================================\n"
     ]
    },
    {
     "name": "stdout",
     "output_type": "stream",
     "text": [
      "New best\n"
     ]
    },
    {
     "name": "stdout",
     "output_type": "stream",
     "text": [
      "epoch: 4, [batch: 1 / 2520], examples_per_second: 11.1718, train_label_loss: 0.3838, \n"
     ]
    },
    {
     "name": "stdout",
     "output_type": "stream",
     "text": [
      "epoch: 4, [batch: 252 / 2520], examples_per_second: 3177.6827, train_label_loss: 0.3949, \n"
     ]
    },
    {
     "name": "stdout",
     "output_type": "stream",
     "text": [
      "epoch: 4, [batch: 504 / 2520], examples_per_second: 3190.8006, train_label_loss: 0.7582, \n"
     ]
    },
    {
     "name": "stdout",
     "output_type": "stream",
     "text": [
      "epoch: 4, [batch: 756 / 2520], examples_per_second: 3207.5568, train_label_loss: 0.5013, \n"
     ]
    },
    {
     "name": "stdout",
     "output_type": "stream",
     "text": [
      "epoch: 4, [batch: 1008 / 2520], examples_per_second: 3200.6260, train_label_loss: 0.4168, \n"
     ]
    },
    {
     "name": "stdout",
     "output_type": "stream",
     "text": [
      "epoch: 4, [batch: 1260 / 2520], examples_per_second: 3197.1667, train_label_loss: 0.5021, \n"
     ]
    },
    {
     "name": "stdout",
     "output_type": "stream",
     "text": [
      "epoch: 4, [batch: 1512 / 2520], examples_per_second: 3198.9503, train_label_loss: 0.3256, \n"
     ]
    },
    {
     "name": "stdout",
     "output_type": "stream",
     "text": [
      "epoch: 4, [batch: 1764 / 2520], examples_per_second: 3175.2013, train_label_loss: 0.5302, \n"
     ]
    },
    {
     "name": "stdout",
     "output_type": "stream",
     "text": [
      "epoch: 4, [batch: 2016 / 2520], examples_per_second: 3197.8503, train_label_loss: 0.4051, \n"
     ]
    },
    {
     "name": "stdout",
     "output_type": "stream",
     "text": [
      "epoch: 4, [batch: 2268 / 2520], examples_per_second: 3183.8346, train_label_loss: 0.2654, \n"
     ]
    },
    {
     "name": "stdout",
     "output_type": "stream",
     "text": [
      "=============================================================\n",
      "epoch: 4, source_val_acc_label: 0.7442, target_val_acc_label: 0.6293, source_val_label_loss: 0.7039, target_val_label_loss: 1.0762, \n",
      "=============================================================\n"
     ]
    },
    {
     "name": "stdout",
     "output_type": "stream",
     "text": [
      "epoch: 5, [batch: 1 / 2520], examples_per_second: 11.2269, train_label_loss: 0.6192, \n"
     ]
    },
    {
     "name": "stdout",
     "output_type": "stream",
     "text": [
      "epoch: 5, [batch: 252 / 2520], examples_per_second: 3202.9257, train_label_loss: 0.2580, \n"
     ]
    },
    {
     "name": "stdout",
     "output_type": "stream",
     "text": [
      "epoch: 5, [batch: 504 / 2520], examples_per_second: 3194.0355, train_label_loss: 0.2293, \n"
     ]
    },
    {
     "name": "stdout",
     "output_type": "stream",
     "text": [
      "epoch: 5, [batch: 756 / 2520], examples_per_second: 3216.4442, train_label_loss: 0.5018, \n"
     ]
    },
    {
     "name": "stdout",
     "output_type": "stream",
     "text": [
      "epoch: 5, [batch: 1008 / 2520], examples_per_second: 3172.0358, train_label_loss: 0.2497, \n"
     ]
    },
    {
     "name": "stdout",
     "output_type": "stream",
     "text": [
      "epoch: 5, [batch: 1260 / 2520], examples_per_second: 3202.3857, train_label_loss: 0.2430, \n"
     ]
    },
    {
     "name": "stdout",
     "output_type": "stream",
     "text": [
      "epoch: 5, [batch: 1512 / 2520], examples_per_second: 3209.6116, train_label_loss: 0.6032, \n"
     ]
    },
    {
     "name": "stdout",
     "output_type": "stream",
     "text": [
      "epoch: 5, [batch: 1764 / 2520], examples_per_second: 3205.6007, train_label_loss: 0.5421, \n"
     ]
    },
    {
     "name": "stdout",
     "output_type": "stream",
     "text": [
      "epoch: 5, [batch: 2016 / 2520], examples_per_second: 3210.9547, train_label_loss: 0.2912, \n"
     ]
    },
    {
     "name": "stdout",
     "output_type": "stream",
     "text": [
      "epoch: 5, [batch: 2268 / 2520], examples_per_second: 3191.2661, train_label_loss: 0.7761, \n"
     ]
    },
    {
     "name": "stdout",
     "output_type": "stream",
     "text": [
      "=============================================================\n",
      "epoch: 5, source_val_acc_label: 0.7637, target_val_acc_label: 0.6456, source_val_label_loss: 0.6708, target_val_label_loss: 1.1138, \n",
      "=============================================================\n"
     ]
    },
    {
     "name": "stdout",
     "output_type": "stream",
     "text": [
      "New best\n"
     ]
    },
    {
     "name": "stdout",
     "output_type": "stream",
     "text": [
      "epoch: 6, [batch: 1 / 2520], examples_per_second: 11.2333, train_label_loss: 0.2532, \n"
     ]
    },
    {
     "name": "stdout",
     "output_type": "stream",
     "text": [
      "epoch: 6, [batch: 252 / 2520], examples_per_second: 3194.5383, train_label_loss: 0.2884, \n"
     ]
    },
    {
     "name": "stdout",
     "output_type": "stream",
     "text": [
      "epoch: 6, [batch: 504 / 2520], examples_per_second: 3206.6508, train_label_loss: 0.4259, \n"
     ]
    },
    {
     "name": "stdout",
     "output_type": "stream",
     "text": [
      "epoch: 6, [batch: 756 / 2520], examples_per_second: 3192.2141, train_label_loss: 0.4155, \n"
     ]
    },
    {
     "name": "stdout",
     "output_type": "stream",
     "text": [
      "epoch: 6, [batch: 1008 / 2520], examples_per_second: 3203.1732, train_label_loss: 0.3294, \n"
     ]
    },
    {
     "name": "stdout",
     "output_type": "stream",
     "text": [
      "epoch: 6, [batch: 1260 / 2520], examples_per_second: 3208.3876, train_label_loss: 0.3472, \n"
     ]
    },
    {
     "name": "stdout",
     "output_type": "stream",
     "text": [
      "epoch: 6, [batch: 1512 / 2520], examples_per_second: 3194.6271, train_label_loss: 0.4135, \n"
     ]
    },
    {
     "name": "stdout",
     "output_type": "stream",
     "text": [
      "epoch: 6, [batch: 1764 / 2520], examples_per_second: 3200.5396, train_label_loss: 0.2386, \n"
     ]
    },
    {
     "name": "stdout",
     "output_type": "stream",
     "text": [
      "epoch: 6, [batch: 2016 / 2520], examples_per_second: 3206.6079, train_label_loss: 0.5331, \n"
     ]
    },
    {
     "name": "stdout",
     "output_type": "stream",
     "text": [
      "epoch: 6, [batch: 2268 / 2520], examples_per_second: 3225.0396, train_label_loss: 0.3939, \n"
     ]
    },
    {
     "name": "stdout",
     "output_type": "stream",
     "text": [
      "=============================================================\n",
      "epoch: 6, source_val_acc_label: 0.7581, target_val_acc_label: 0.6315, source_val_label_loss: 0.6979, target_val_label_loss: 1.1183, \n",
      "=============================================================\n"
     ]
    },
    {
     "name": "stdout",
     "output_type": "stream",
     "text": [
      "epoch: 7, [batch: 1 / 2520], examples_per_second: 11.2203, train_label_loss: 0.2289, \n"
     ]
    },
    {
     "name": "stdout",
     "output_type": "stream",
     "text": [
      "epoch: 7, [batch: 252 / 2520], examples_per_second: 3195.0236, train_label_loss: 0.4733, \n"
     ]
    },
    {
     "name": "stdout",
     "output_type": "stream",
     "text": [
      "epoch: 7, [batch: 504 / 2520], examples_per_second: 3223.8614, train_label_loss: 0.2887, \n"
     ]
    },
    {
     "name": "stdout",
     "output_type": "stream",
     "text": [
      "epoch: 7, [batch: 756 / 2520], examples_per_second: 3194.7271, train_label_loss: 0.5166, \n"
     ]
    },
    {
     "name": "stdout",
     "output_type": "stream",
     "text": [
      "epoch: 7, [batch: 1008 / 2520], examples_per_second: 3209.6095, train_label_loss: 0.2301, \n"
     ]
    },
    {
     "name": "stdout",
     "output_type": "stream",
     "text": [
      "epoch: 7, [batch: 1260 / 2520], examples_per_second: 3205.6114, train_label_loss: 0.2502, \n"
     ]
    },
    {
     "name": "stdout",
     "output_type": "stream",
     "text": [
      "epoch: 7, [batch: 1512 / 2520], examples_per_second: 3194.1558, train_label_loss: 0.2670, \n"
     ]
    },
    {
     "name": "stdout",
     "output_type": "stream",
     "text": [
      "epoch: 7, [batch: 1764 / 2520], examples_per_second: 3191.2466, train_label_loss: 0.2825, \n"
     ]
    },
    {
     "name": "stdout",
     "output_type": "stream",
     "text": [
      "epoch: 7, [batch: 2016 / 2520], examples_per_second: 3215.2611, train_label_loss: 0.3544, \n"
     ]
    },
    {
     "name": "stdout",
     "output_type": "stream",
     "text": [
      "epoch: 7, [batch: 2268 / 2520], examples_per_second: 3220.5695, train_label_loss: 0.2856, \n"
     ]
    },
    {
     "name": "stdout",
     "output_type": "stream",
     "text": [
      "=============================================================\n",
      "epoch: 7, source_val_acc_label: 0.7701, target_val_acc_label: 0.6436, source_val_label_loss: 0.6988, target_val_label_loss: 1.1552, \n",
      "=============================================================\n"
     ]
    },
    {
     "name": "stdout",
     "output_type": "stream",
     "text": [
      "epoch: 8, [batch: 1 / 2520], examples_per_second: 11.2612, train_label_loss: 0.4157, \n"
     ]
    },
    {
     "name": "stdout",
     "output_type": "stream",
     "text": [
      "epoch: 8, [batch: 252 / 2520], examples_per_second: 3227.2713, train_label_loss: 0.0306, \n"
     ]
    },
    {
     "name": "stdout",
     "output_type": "stream",
     "text": [
      "epoch: 8, [batch: 504 / 2520], examples_per_second: 3205.4130, train_label_loss: 0.5327, \n"
     ]
    },
    {
     "name": "stdout",
     "output_type": "stream",
     "text": [
      "epoch: 8, [batch: 756 / 2520], examples_per_second: 3196.5621, train_label_loss: 0.2470, \n"
     ]
    },
    {
     "name": "stdout",
     "output_type": "stream",
     "text": [
      "epoch: 8, [batch: 1008 / 2520], examples_per_second: 3177.9400, train_label_loss: 0.2822, \n"
     ]
    },
    {
     "name": "stdout",
     "output_type": "stream",
     "text": [
      "epoch: 8, [batch: 1260 / 2520], examples_per_second: 3196.7835, train_label_loss: 0.6346, \n"
     ]
    },
    {
     "name": "stdout",
     "output_type": "stream",
     "text": [
      "epoch: 8, [batch: 1512 / 2520], examples_per_second: 3213.6780, train_label_loss: 0.3863, \n"
     ]
    },
    {
     "name": "stdout",
     "output_type": "stream",
     "text": [
      "epoch: 8, [batch: 1764 / 2520], examples_per_second: 3191.5221, train_label_loss: 0.2880, \n"
     ]
    },
    {
     "name": "stdout",
     "output_type": "stream",
     "text": [
      "epoch: 8, [batch: 2016 / 2520], examples_per_second: 3204.5639, train_label_loss: 0.2526, \n"
     ]
    },
    {
     "name": "stdout",
     "output_type": "stream",
     "text": [
      "epoch: 8, [batch: 2268 / 2520], examples_per_second: 3198.8309, train_label_loss: 0.6335, \n"
     ]
    },
    {
     "name": "stdout",
     "output_type": "stream",
     "text": [
      "=============================================================\n",
      "epoch: 8, source_val_acc_label: 0.7643, target_val_acc_label: 0.6347, source_val_label_loss: 0.7696, target_val_label_loss: 1.1822, \n",
      "=============================================================\n"
     ]
    },
    {
     "name": "stdout",
     "output_type": "stream",
     "text": [
      "epoch: 9, [batch: 1 / 2520], examples_per_second: 11.1356, train_label_loss: 0.1561, \n"
     ]
    },
    {
     "name": "stdout",
     "output_type": "stream",
     "text": [
      "epoch: 9, [batch: 252 / 2520], examples_per_second: 3200.0900, train_label_loss: 0.2695, \n"
     ]
    },
    {
     "name": "stdout",
     "output_type": "stream",
     "text": [
      "epoch: 9, [batch: 504 / 2520], examples_per_second: 3219.4789, train_label_loss: 0.5189, \n"
     ]
    },
    {
     "name": "stdout",
     "output_type": "stream",
     "text": [
      "epoch: 9, [batch: 756 / 2520], examples_per_second: 3191.4380, train_label_loss: 0.3653, \n"
     ]
    },
    {
     "name": "stdout",
     "output_type": "stream",
     "text": [
      "epoch: 9, [batch: 1008 / 2520], examples_per_second: 3197.0647, train_label_loss: 0.1037, \n"
     ]
    },
    {
     "name": "stdout",
     "output_type": "stream",
     "text": [
      "epoch: 9, [batch: 1260 / 2520], examples_per_second: 3200.2183, train_label_loss: 0.4270, \n"
     ]
    },
    {
     "name": "stdout",
     "output_type": "stream",
     "text": [
      "epoch: 9, [batch: 1512 / 2520], examples_per_second: 3206.7947, train_label_loss: 0.2509, \n"
     ]
    },
    {
     "name": "stdout",
     "output_type": "stream",
     "text": [
      "epoch: 9, [batch: 1764 / 2520], examples_per_second: 3186.1504, train_label_loss: 0.2814, \n"
     ]
    },
    {
     "name": "stdout",
     "output_type": "stream",
     "text": [
      "epoch: 9, [batch: 2016 / 2520], examples_per_second: 3225.6912, train_label_loss: 0.4420, \n"
     ]
    },
    {
     "name": "stdout",
     "output_type": "stream",
     "text": [
      "epoch: 9, [batch: 2268 / 2520], examples_per_second: 3214.1204, train_label_loss: 0.0776, \n"
     ]
    },
    {
     "name": "stdout",
     "output_type": "stream",
     "text": [
      "=============================================================\n",
      "epoch: 9, source_val_acc_label: 0.7800, target_val_acc_label: 0.6624, source_val_label_loss: 0.7246, target_val_label_loss: 1.1160, \n",
      "=============================================================\n"
     ]
    },
    {
     "name": "stdout",
     "output_type": "stream",
     "text": [
      "New best\n"
     ]
    },
    {
     "name": "stdout",
     "output_type": "stream",
     "text": [
      "epoch: 10, [batch: 1 / 2520], examples_per_second: 11.1729, train_label_loss: 0.1391, \n"
     ]
    },
    {
     "name": "stdout",
     "output_type": "stream",
     "text": [
      "epoch: 10, [batch: 252 / 2520], examples_per_second: 3188.7770, train_label_loss: 0.2595, \n"
     ]
    },
    {
     "name": "stdout",
     "output_type": "stream",
     "text": [
      "epoch: 10, [batch: 504 / 2520], examples_per_second: 3202.6482, train_label_loss: 0.1611, \n"
     ]
    },
    {
     "name": "stdout",
     "output_type": "stream",
     "text": [
      "epoch: 10, [batch: 756 / 2520], examples_per_second: 3233.9411, train_label_loss: 0.2082, \n"
     ]
    },
    {
     "name": "stdout",
     "output_type": "stream",
     "text": [
      "epoch: 10, [batch: 1008 / 2520], examples_per_second: 3184.7973, train_label_loss: 0.1247, \n"
     ]
    },
    {
     "name": "stdout",
     "output_type": "stream",
     "text": [
      "epoch: 10, [batch: 1260 / 2520], examples_per_second: 3197.7775, train_label_loss: 0.4425, \n"
     ]
    },
    {
     "name": "stdout",
     "output_type": "stream",
     "text": [
      "epoch: 10, [batch: 1512 / 2520], examples_per_second: 3187.6646, train_label_loss: 0.1018, \n"
     ]
    },
    {
     "name": "stdout",
     "output_type": "stream",
     "text": [
      "epoch: 10, [batch: 1764 / 2520], examples_per_second: 3191.8465, train_label_loss: 0.2283, \n"
     ]
    },
    {
     "name": "stdout",
     "output_type": "stream",
     "text": [
      "epoch: 10, [batch: 2016 / 2520], examples_per_second: 3188.2743, train_label_loss: 0.3081, \n"
     ]
    },
    {
     "name": "stdout",
     "output_type": "stream",
     "text": [
      "epoch: 10, [batch: 2268 / 2520], examples_per_second: 3190.0405, train_label_loss: 0.2713, \n"
     ]
    },
    {
     "name": "stdout",
     "output_type": "stream",
     "text": [
      "=============================================================\n",
      "epoch: 10, source_val_acc_label: 0.7759, target_val_acc_label: 0.6589, source_val_label_loss: 0.7954, target_val_label_loss: 1.1591, \n",
      "=============================================================\n"
     ]
    },
    {
     "name": "stdout",
     "output_type": "stream",
     "text": [
      "epoch: 11, [batch: 1 / 2520], examples_per_second: 11.2133, train_label_loss: 0.2560, \n"
     ]
    },
    {
     "name": "stdout",
     "output_type": "stream",
     "text": [
      "epoch: 11, [batch: 252 / 2520], examples_per_second: 3209.9152, train_label_loss: 0.2155, \n"
     ]
    },
    {
     "name": "stdout",
     "output_type": "stream",
     "text": [
      "epoch: 11, [batch: 504 / 2520], examples_per_second: 3199.4358, train_label_loss: 0.1084, \n"
     ]
    },
    {
     "name": "stdout",
     "output_type": "stream",
     "text": [
      "epoch: 11, [batch: 756 / 2520], examples_per_second: 3194.4133, train_label_loss: 0.3298, \n"
     ]
    },
    {
     "name": "stdout",
     "output_type": "stream",
     "text": [
      "epoch: 11, [batch: 1008 / 2520], examples_per_second: 3186.1428, train_label_loss: 0.1270, \n"
     ]
    },
    {
     "name": "stdout",
     "output_type": "stream",
     "text": [
      "epoch: 11, [batch: 1260 / 2520], examples_per_second: 3199.0656, train_label_loss: 0.4032, \n"
     ]
    },
    {
     "name": "stdout",
     "output_type": "stream",
     "text": [
      "epoch: 11, [batch: 1512 / 2520], examples_per_second: 3199.8375, train_label_loss: 0.1573, \n"
     ]
    },
    {
     "name": "stdout",
     "output_type": "stream",
     "text": [
      "epoch: 11, [batch: 1764 / 2520], examples_per_second: 3195.6564, train_label_loss: 0.0843, \n"
     ]
    },
    {
     "name": "stdout",
     "output_type": "stream",
     "text": [
      "epoch: 11, [batch: 2016 / 2520], examples_per_second: 3189.4154, train_label_loss: 0.3379, \n"
     ]
    },
    {
     "name": "stdout",
     "output_type": "stream",
     "text": [
      "epoch: 11, [batch: 2268 / 2520], examples_per_second: 3187.2284, train_label_loss: 0.1122, \n"
     ]
    },
    {
     "name": "stdout",
     "output_type": "stream",
     "text": [
      "=============================================================\n",
      "epoch: 11, source_val_acc_label: 0.7839, target_val_acc_label: 0.6638, source_val_label_loss: 0.7696, target_val_label_loss: 1.2319, \n",
      "=============================================================\n"
     ]
    },
    {
     "name": "stdout",
     "output_type": "stream",
     "text": [
      "New best\n"
     ]
    },
    {
     "name": "stdout",
     "output_type": "stream",
     "text": [
      "epoch: 12, [batch: 1 / 2520], examples_per_second: 11.1729, train_label_loss: 0.0100, \n"
     ]
    },
    {
     "name": "stdout",
     "output_type": "stream",
     "text": [
      "epoch: 12, [batch: 252 / 2520], examples_per_second: 3201.2265, train_label_loss: 0.1030, \n"
     ]
    },
    {
     "name": "stdout",
     "output_type": "stream",
     "text": [
      "epoch: 12, [batch: 504 / 2520], examples_per_second: 3194.3859, train_label_loss: 0.2558, \n"
     ]
    },
    {
     "name": "stdout",
     "output_type": "stream",
     "text": [
      "epoch: 12, [batch: 756 / 2520], examples_per_second: 3202.0409, train_label_loss: 0.0288, \n"
     ]
    },
    {
     "name": "stdout",
     "output_type": "stream",
     "text": [
      "epoch: 12, [batch: 1008 / 2520], examples_per_second: 3191.4761, train_label_loss: 0.0069, \n"
     ]
    },
    {
     "name": "stdout",
     "output_type": "stream",
     "text": [
      "epoch: 12, [batch: 1260 / 2520], examples_per_second: 3196.8113, train_label_loss: 0.1970, \n"
     ]
    },
    {
     "name": "stdout",
     "output_type": "stream",
     "text": [
      "epoch: 12, [batch: 1512 / 2520], examples_per_second: 3179.5127, train_label_loss: 0.1988, \n"
     ]
    },
    {
     "name": "stdout",
     "output_type": "stream",
     "text": [
      "epoch: 12, [batch: 1764 / 2520], examples_per_second: 3166.1122, train_label_loss: 0.0126, \n"
     ]
    },
    {
     "name": "stdout",
     "output_type": "stream",
     "text": [
      "epoch: 12, [batch: 2016 / 2520], examples_per_second: 3180.6639, train_label_loss: 0.2977, \n"
     ]
    },
    {
     "name": "stdout",
     "output_type": "stream",
     "text": [
      "epoch: 12, [batch: 2268 / 2520], examples_per_second: 3200.0342, train_label_loss: 0.1852, \n"
     ]
    },
    {
     "name": "stdout",
     "output_type": "stream",
     "text": [
      "=============================================================\n",
      "epoch: 12, source_val_acc_label: 0.7858, target_val_acc_label: 0.6689, source_val_label_loss: 0.8111, target_val_label_loss: 1.2699, \n",
      "=============================================================\n"
     ]
    },
    {
     "name": "stdout",
     "output_type": "stream",
     "text": [
      "New best\n"
     ]
    },
    {
     "name": "stdout",
     "output_type": "stream",
     "text": [
      "epoch: 13, [batch: 1 / 2520], examples_per_second: 11.1133, train_label_loss: 0.1284, \n"
     ]
    },
    {
     "name": "stdout",
     "output_type": "stream",
     "text": [
      "epoch: 13, [batch: 252 / 2520], examples_per_second: 3208.8000, train_label_loss: 0.1606, \n"
     ]
    },
    {
     "name": "stdout",
     "output_type": "stream",
     "text": [
      "epoch: 13, [batch: 504 / 2520], examples_per_second: 3200.9264, train_label_loss: 0.2755, \n"
     ]
    },
    {
     "name": "stdout",
     "output_type": "stream",
     "text": [
      "epoch: 13, [batch: 756 / 2520], examples_per_second: 3205.4205, train_label_loss: 0.0218, \n"
     ]
    },
    {
     "name": "stdout",
     "output_type": "stream",
     "text": [
      "epoch: 13, [batch: 1008 / 2520], examples_per_second: 3199.7293, train_label_loss: 0.4110, \n"
     ]
    },
    {
     "name": "stdout",
     "output_type": "stream",
     "text": [
      "epoch: 13, [batch: 1260 / 2520], examples_per_second: 3213.9447, train_label_loss: 0.0969, \n"
     ]
    },
    {
     "name": "stdout",
     "output_type": "stream",
     "text": [
      "epoch: 13, [batch: 1512 / 2520], examples_per_second: 3206.7745, train_label_loss: 0.1721, \n"
     ]
    },
    {
     "name": "stdout",
     "output_type": "stream",
     "text": [
      "epoch: 13, [batch: 1764 / 2520], examples_per_second: 3185.8778, train_label_loss: 0.1859, \n"
     ]
    },
    {
     "name": "stdout",
     "output_type": "stream",
     "text": [
      "epoch: 13, [batch: 2016 / 2520], examples_per_second: 3193.1233, train_label_loss: 0.3818, \n"
     ]
    },
    {
     "name": "stdout",
     "output_type": "stream",
     "text": [
      "epoch: 13, [batch: 2268 / 2520], examples_per_second: 3195.4433, train_label_loss: 0.1828, \n"
     ]
    },
    {
     "name": "stdout",
     "output_type": "stream",
     "text": [
      "=============================================================\n",
      "epoch: 13, source_val_acc_label: 0.7806, target_val_acc_label: 0.6646, source_val_label_loss: 0.8171, target_val_label_loss: 1.2651, \n",
      "=============================================================\n"
     ]
    },
    {
     "name": "stdout",
     "output_type": "stream",
     "text": [
      "epoch: 14, [batch: 1 / 2520], examples_per_second: 11.2387, train_label_loss: 0.0695, \n"
     ]
    },
    {
     "name": "stdout",
     "output_type": "stream",
     "text": [
      "epoch: 14, [batch: 252 / 2520], examples_per_second: 3188.7060, train_label_loss: 0.2854, \n"
     ]
    },
    {
     "name": "stdout",
     "output_type": "stream",
     "text": [
      "epoch: 14, [batch: 504 / 2520], examples_per_second: 3202.5107, train_label_loss: 0.2607, \n"
     ]
    },
    {
     "name": "stdout",
     "output_type": "stream",
     "text": [
      "epoch: 14, [batch: 756 / 2520], examples_per_second: 3229.7693, train_label_loss: 0.1432, \n"
     ]
    },
    {
     "name": "stdout",
     "output_type": "stream",
     "text": [
      "epoch: 14, [batch: 1008 / 2520], examples_per_second: 3198.5777, train_label_loss: 0.1776, \n"
     ]
    },
    {
     "name": "stdout",
     "output_type": "stream",
     "text": [
      "epoch: 14, [batch: 1260 / 2520], examples_per_second: 3202.4570, train_label_loss: 0.0760, \n"
     ]
    },
    {
     "name": "stdout",
     "output_type": "stream",
     "text": [
      "epoch: 14, [batch: 1512 / 2520], examples_per_second: 3187.7557, train_label_loss: 0.0251, \n"
     ]
    },
    {
     "name": "stdout",
     "output_type": "stream",
     "text": [
      "epoch: 14, [batch: 1764 / 2520], examples_per_second: 3190.3872, train_label_loss: 0.2301, \n"
     ]
    },
    {
     "name": "stdout",
     "output_type": "stream",
     "text": [
      "epoch: 14, [batch: 2016 / 2520], examples_per_second: 3195.4905, train_label_loss: 0.1012, \n"
     ]
    },
    {
     "name": "stdout",
     "output_type": "stream",
     "text": [
      "epoch: 14, [batch: 2268 / 2520], examples_per_second: 3200.1967, train_label_loss: 0.2452, \n"
     ]
    },
    {
     "name": "stdout",
     "output_type": "stream",
     "text": [
      "=============================================================\n",
      "epoch: 14, source_val_acc_label: 0.7786, target_val_acc_label: 0.6636, source_val_label_loss: 0.8187, target_val_label_loss: 1.3288, \n",
      "=============================================================\n"
     ]
    },
    {
     "name": "stdout",
     "output_type": "stream",
     "text": [
      "epoch: 15, [batch: 1 / 2520], examples_per_second: 11.1704, train_label_loss: 0.3387, \n"
     ]
    },
    {
     "name": "stdout",
     "output_type": "stream",
     "text": [
      "epoch: 15, [batch: 252 / 2520], examples_per_second: 3201.6756, train_label_loss: 0.0644, \n"
     ]
    },
    {
     "name": "stdout",
     "output_type": "stream",
     "text": [
      "epoch: 15, [batch: 504 / 2520], examples_per_second: 3205.1115, train_label_loss: 0.0322, \n"
     ]
    },
    {
     "name": "stdout",
     "output_type": "stream",
     "text": [
      "epoch: 15, [batch: 756 / 2520], examples_per_second: 3224.0044, train_label_loss: 0.2224, \n"
     ]
    },
    {
     "name": "stdout",
     "output_type": "stream",
     "text": [
      "epoch: 15, [batch: 1008 / 2520], examples_per_second: 3191.7507, train_label_loss: 0.0364, \n"
     ]
    },
    {
     "name": "stdout",
     "output_type": "stream",
     "text": [
      "epoch: 15, [batch: 1260 / 2520], examples_per_second: 3197.6188, train_label_loss: 0.0809, \n"
     ]
    },
    {
     "name": "stdout",
     "output_type": "stream",
     "text": [
      "epoch: 15, [batch: 1512 / 2520], examples_per_second: 3201.7264, train_label_loss: 0.0344, \n"
     ]
    },
    {
     "name": "stdout",
     "output_type": "stream",
     "text": [
      "epoch: 15, [batch: 1764 / 2520], examples_per_second: 3185.4209, train_label_loss: 0.0478, \n"
     ]
    },
    {
     "name": "stdout",
     "output_type": "stream",
     "text": [
      "epoch: 15, [batch: 2016 / 2520], examples_per_second: 3197.8673, train_label_loss: 0.1648, \n"
     ]
    },
    {
     "name": "stdout",
     "output_type": "stream",
     "text": [
      "epoch: 15, [batch: 2268 / 2520], examples_per_second: 3193.8898, train_label_loss: 0.1679, \n"
     ]
    },
    {
     "name": "stdout",
     "output_type": "stream",
     "text": [
      "=============================================================\n",
      "epoch: 15, source_val_acc_label: 0.7812, target_val_acc_label: 0.6600, source_val_label_loss: 0.8418, target_val_label_loss: 1.3770, \n",
      "=============================================================\n"
     ]
    },
    {
     "name": "stdout",
     "output_type": "stream",
     "text": [
      "epoch: 16, [batch: 1 / 2520], examples_per_second: 11.2074, train_label_loss: 0.4110, \n"
     ]
    },
    {
     "name": "stdout",
     "output_type": "stream",
     "text": [
      "epoch: 16, [batch: 252 / 2520], examples_per_second: 3193.2229, train_label_loss: 0.0682, \n"
     ]
    },
    {
     "name": "stdout",
     "output_type": "stream",
     "text": [
      "epoch: 16, [batch: 504 / 2520], examples_per_second: 3194.4538, train_label_loss: 0.0429, \n"
     ]
    },
    {
     "name": "stdout",
     "output_type": "stream",
     "text": [
      "epoch: 16, [batch: 756 / 2520], examples_per_second: 3195.7020, train_label_loss: 0.1660, \n"
     ]
    },
    {
     "name": "stdout",
     "output_type": "stream",
     "text": [
      "epoch: 16, [batch: 1008 / 2520], examples_per_second: 3193.3312, train_label_loss: 0.0252, \n"
     ]
    },
    {
     "name": "stdout",
     "output_type": "stream",
     "text": [
      "epoch: 16, [batch: 1260 / 2520], examples_per_second: 3220.9042, train_label_loss: 0.1687, \n"
     ]
    },
    {
     "name": "stdout",
     "output_type": "stream",
     "text": [
      "epoch: 16, [batch: 1512 / 2520], examples_per_second: 3190.2363, train_label_loss: 0.0899, \n"
     ]
    },
    {
     "name": "stdout",
     "output_type": "stream",
     "text": [
      "epoch: 16, [batch: 1764 / 2520], examples_per_second: 3186.5605, train_label_loss: 0.1474, \n"
     ]
    },
    {
     "name": "stdout",
     "output_type": "stream",
     "text": [
      "epoch: 16, [batch: 2016 / 2520], examples_per_second: 3203.6719, train_label_loss: 0.2997, \n"
     ]
    },
    {
     "name": "stdout",
     "output_type": "stream",
     "text": [
      "epoch: 16, [batch: 2268 / 2520], examples_per_second: 3198.0626, train_label_loss: 0.1645, \n"
     ]
    },
    {
     "name": "stdout",
     "output_type": "stream",
     "text": [
      "=============================================================\n",
      "epoch: 16, source_val_acc_label: 0.7758, target_val_acc_label: 0.6632, source_val_label_loss: 0.8932, target_val_label_loss: 1.3624, \n",
      "=============================================================\n"
     ]
    },
    {
     "name": "stdout",
     "output_type": "stream",
     "text": [
      "Patience (3) exhausted\n"
     ]
    }
   ],
   "source": [
    "###################################\n",
    "# train\n",
    "###################################\n",
    "jig = PTN_Train_Eval_Test_Jig(model, p.BEST_MODEL_PATH, p.device)\n",
    "\n",
    "jig.train(\n",
    "    train_iterable=datasets.source.processed.train,\n",
    "    source_val_iterable=datasets.source.processed.val,\n",
    "    target_val_iterable=datasets.target.processed.val,\n",
    "    num_epochs=p.n_epoch,\n",
    "    num_logs_per_epoch=p.NUM_LOGS_PER_EPOCH,\n",
    "    patience=p.patience,\n",
    "    optimizer=optimizer,\n",
    "    criteria_for_best=p.criteria_for_best,\n",
    ")"
   ]
  },
  {
   "cell_type": "code",
   "execution_count": 14,
   "id": "31e8fabf",
   "metadata": {
    "execution": {
     "iopub.execute_input": "2022-04-01T20:06:29.026042Z",
     "iopub.status.busy": "2022-04-01T20:06:29.025789Z",
     "iopub.status.idle": "2022-04-01T20:06:29.044081Z",
     "shell.execute_reply": "2022-04-01T20:06:29.044434Z"
    },
    "papermill": {
     "duration": 0.06316,
     "end_time": "2022-04-01T20:06:29.044541",
     "exception": false,
     "start_time": "2022-04-01T20:06:28.981381",
     "status": "completed"
    },
    "tags": []
   },
   "outputs": [],
   "source": [
    "total_experiment_time_secs = time.time() - start_time_secs"
   ]
  },
  {
   "cell_type": "code",
   "execution_count": 15,
   "id": "87b9595b",
   "metadata": {
    "execution": {
     "iopub.execute_input": "2022-04-01T20:06:29.139127Z",
     "iopub.status.busy": "2022-04-01T20:06:29.138854Z",
     "iopub.status.idle": "2022-04-01T20:07:17.678793Z",
     "shell.execute_reply": "2022-04-01T20:07:17.679212Z"
    },
    "papermill": {
     "duration": 48.588413,
     "end_time": "2022-04-01T20:07:17.679342",
     "exception": false,
     "start_time": "2022-04-01T20:06:29.090929",
     "status": "completed"
    },
    "tags": []
   },
   "outputs": [],
   "source": [
    "###################################\n",
    "# Evaluate the model\n",
    "###################################\n",
    "source_test_label_accuracy, source_test_label_loss = jig.test(datasets.source.processed.test)\n",
    "target_test_label_accuracy, target_test_label_loss = jig.test(datasets.target.processed.test)\n",
    "\n",
    "source_val_label_accuracy, source_val_label_loss = jig.test(datasets.source.processed.val)\n",
    "target_val_label_accuracy, target_val_label_loss = jig.test(datasets.target.processed.val)\n",
    "\n",
    "history = jig.get_history()\n",
    "\n",
    "total_epochs_trained = len(history[\"epoch_indices\"])\n",
    "\n",
    "val_dl = Iterable_Aggregator((datasets.source.original.val,datasets.target.original.val))\n",
    "\n",
    "confusion = ptn_confusion_by_domain_over_dataloader(model, p.device, val_dl)\n",
    "per_domain_accuracy = per_domain_accuracy_from_confusion(confusion)\n",
    "\n",
    "# Add a key to per_domain_accuracy for if it was a source domain\n",
    "for domain, accuracy in per_domain_accuracy.items():\n",
    "    per_domain_accuracy[domain] = {\n",
    "        \"accuracy\": accuracy,\n",
    "        \"source?\": domain in p.domains_source\n",
    "    }\n",
    "\n",
    "# Do an independent accuracy assesment JUST TO BE SURE!\n",
    "# _source_test_label_accuracy = independent_accuracy_assesment(model, datasets.source.processed.test, p.device)\n",
    "# _target_test_label_accuracy = independent_accuracy_assesment(model, datasets.target.processed.test, p.device)\n",
    "# _source_val_label_accuracy = independent_accuracy_assesment(model, datasets.source.processed.val, p.device)\n",
    "# _target_val_label_accuracy = independent_accuracy_assesment(model, datasets.target.processed.val, p.device)\n",
    "\n",
    "# assert(_source_test_label_accuracy == source_test_label_accuracy)\n",
    "# assert(_target_test_label_accuracy == target_test_label_accuracy)\n",
    "# assert(_source_val_label_accuracy == source_val_label_accuracy)\n",
    "# assert(_target_val_label_accuracy == target_val_label_accuracy)\n",
    "\n",
    "experiment = {\n",
    "    \"experiment_name\": p.experiment_name,\n",
    "    \"parameters\": dict(p),\n",
    "    \"results\": {\n",
    "        \"source_test_label_accuracy\": source_test_label_accuracy,\n",
    "        \"source_test_label_loss\": source_test_label_loss,\n",
    "        \"target_test_label_accuracy\": target_test_label_accuracy,\n",
    "        \"target_test_label_loss\": target_test_label_loss,\n",
    "        \"source_val_label_accuracy\": source_val_label_accuracy,\n",
    "        \"source_val_label_loss\": source_val_label_loss,\n",
    "        \"target_val_label_accuracy\": target_val_label_accuracy,\n",
    "        \"target_val_label_loss\": target_val_label_loss,\n",
    "        \"total_epochs_trained\": total_epochs_trained,\n",
    "        \"total_experiment_time_secs\": total_experiment_time_secs,\n",
    "        \"confusion\": confusion,\n",
    "        \"per_domain_accuracy\": per_domain_accuracy,\n",
    "    },\n",
    "    \"history\": history,\n",
    "    \"dataset_metrics\": get_dataset_metrics(datasets, \"ptn\"),\n",
    "}"
   ]
  },
  {
   "cell_type": "code",
   "execution_count": 16,
   "id": "54a21829",
   "metadata": {
    "execution": {
     "iopub.execute_input": "2022-04-01T20:07:17.773625Z",
     "iopub.status.busy": "2022-04-01T20:07:17.773376Z",
     "iopub.status.idle": "2022-04-01T20:07:17.907680Z",
     "shell.execute_reply": "2022-04-01T20:07:17.907287Z"
    },
    "papermill": {
     "duration": 0.178955,
     "end_time": "2022-04-01T20:07:17.907770",
     "exception": false,
     "start_time": "2022-04-01T20:07:17.728815",
     "status": "completed"
    },
    "tags": []
   },
   "outputs": [
    {
     "data": {
      "image/png": "[encoded data removed]",
      "text/plain": [
       "<Figure size 1080x504 with 1 Axes>"
      ]
     },
     "metadata": {
      "needs_background": "light"
     },
     "output_type": "display_data"
    }
   ],
   "source": [
    "ax = get_loss_curve(experiment)\n",
    "plt.show()"
   ]
  },
  {
   "cell_type": "code",
   "execution_count": 17,
   "id": "fd8a0f60",
   "metadata": {
    "execution": {
     "iopub.execute_input": "2022-04-01T20:07:18.001474Z",
     "iopub.status.busy": "2022-04-01T20:07:18.001223Z",
     "iopub.status.idle": "2022-04-01T20:07:18.144544Z",
     "shell.execute_reply": "2022-04-01T20:07:18.144755Z"
    },
    "papermill": {
     "duration": 0.188682,
     "end_time": "2022-04-01T20:07:18.144817",
     "exception": false,
     "start_time": "2022-04-01T20:07:17.956135",
     "status": "completed"
    },
    "tags": []
   },
   "outputs": [
    {
     "data": {
      "text/plain": [
       "<AxesSubplot:title={'center':'Results'}>"
      ]
     },
     "execution_count": 17,
     "metadata": {},
     "output_type": "execute_result"
    },
    {
     "data": {
      "image/png": "[encoded data removed]",
      "text/plain": [
       "<Figure size 1080x504 with 1 Axes>"
      ]
     },
     "metadata": {
      "needs_background": "light"
     },
     "output_type": "display_data"
    }
   ],
   "source": [
    "get_results_table(experiment)"
   ]
  },
  {
   "cell_type": "code",
   "execution_count": 18,
   "id": "cf8dc689",
   "metadata": {
    "execution": {
     "iopub.execute_input": "2022-04-01T20:07:18.238102Z",
     "iopub.status.busy": "2022-04-01T20:07:18.235102Z",
     "iopub.status.idle": "2022-04-01T20:07:18.349623Z",
     "shell.execute_reply": "2022-04-01T20:07:18.349145Z"
    },
    "papermill": {
     "duration": 0.160633,
     "end_time": "2022-04-01T20:07:18.349719",
     "exception": false,
     "start_time": "2022-04-01T20:07:18.189086",
     "status": "completed"
    },
    "tags": []
   },
   "outputs": [
    {
     "data": {
      "text/plain": [
       "<AxesSubplot:title={'center':'Per Domain Validation Accuracy'}, xlabel='domain'>"
      ]
     },
     "execution_count": 18,
     "metadata": {},
     "output_type": "execute_result"
    },
    {
     "data": {
      "image/png": "[encoded data removed]",
      "text/plain": [
       "<Figure size 1080x504 with 1 Axes>"
      ]
     },
     "metadata": {
      "needs_background": "light"
     },
     "output_type": "display_data"
    }
   ],
   "source": [
    "get_domain_accuracies(experiment)"
   ]
  },
  {
   "cell_type": "code",
   "execution_count": 19,
   "id": "a74ae082",
   "metadata": {
    "execution": {
     "iopub.execute_input": "2022-04-01T20:07:18.448920Z",
     "iopub.status.busy": "2022-04-01T20:07:18.448661Z",
     "iopub.status.idle": "2022-04-01T20:07:18.461200Z",
     "shell.execute_reply": "2022-04-01T20:07:18.460825Z"
    },
    "papermill": {
     "duration": 0.060923,
     "end_time": "2022-04-01T20:07:18.461291",
     "exception": false,
     "start_time": "2022-04-01T20:07:18.400368",
     "status": "completed"
    },
    "tags": []
   },
   "outputs": [
    {
     "name": "stdout",
     "output_type": "stream",
     "text": [
      "Source Test Label Accuracy: 0.7810763888888889 Target Test Label Accuracy: 0.6694270833333333\n",
      "Source Val Label Accuracy: 0.7857638888888889 Target Val Label Accuracy: 0.6688541666666666\n"
     ]
    }
   ],
   "source": [
    "print(\"Source Test Label Accuracy:\", experiment[\"results\"][\"source_test_label_accuracy\"], \"Target Test Label Accuracy:\", experiment[\"results\"][\"target_test_label_accuracy\"])\n",
    "print(\"Source Val Label Accuracy:\", experiment[\"results\"][\"source_val_label_accuracy\"], \"Target Val Label Accuracy:\", experiment[\"results\"][\"target_val_label_accuracy\"])"
   ]
  },
  {
   "cell_type": "code",
   "execution_count": 20,
   "id": "dacca602",
   "metadata": {
    "execution": {
     "iopub.execute_input": "2022-04-01T20:07:18.561689Z",
     "iopub.status.busy": "2022-04-01T20:07:18.561439Z",
     "iopub.status.idle": "2022-04-01T20:07:18.573393Z",
     "shell.execute_reply": "2022-04-01T20:07:18.572945Z"
    },
    "papermill": {
     "duration": 0.060592,
     "end_time": "2022-04-01T20:07:18.573481",
     "exception": false,
     "start_time": "2022-04-01T20:07:18.512889",
     "status": "completed"
    },
    "tags": [
     "experiment_json"
    ]
   },
   "outputs": [
    {
     "data": {
      "text/plain": [
       "'{\"experiment_name\": \"tuned_1v2:oracle.run1_limited\", \"parameters\": {\"experiment_name\": \"tuned_1v2:oracle.run1_limited\", \"device\": \"cuda\", \"lr\": 0.0001, \"labels_source\": [\"3123D52\", \"3123D65\", \"3123D79\", \"3123D80\", \"3123D54\", \"3123D70\", \"3123D7B\", \"3123D89\", \"3123D58\", \"3123D76\", \"3123D7D\", \"3123EFE\", \"3123D64\", \"3123D78\", \"3123D7E\", \"3124E4A\"], \"labels_target\": [\"3123D52\", \"3123D65\", \"3123D79\", \"3123D80\", \"3123D54\", \"3123D70\", \"3123D7B\", \"3123D89\", \"3123D58\", \"3123D76\", \"3123D7D\", \"3123EFE\", \"3123D64\", \"3123D78\", \"3123D7E\", \"3124E4A\"], \"episode_transforms_source\": [], \"episode_transforms_target\": [], \"domains_source\": [8, 32, 50], \"domains_target\": [14, 20, 26, 38, 44], \"num_examples_per_domain_per_label_source\": 2000, \"num_examples_per_domain_per_label_target\": 2000, \"n_shot\": 3, \"n_way\": 16, \"n_query\": 2, \"train_k_factor\": 3, \"val_k_factor\": 2, \"test_k_factor\": 2, \"torch_default_dtype\": \"torch.float32\", \"n_epoch\": 50, \"patience\": 3, \"criteria_for_best\": \"target_accuracy\", \"x_net\": [{\"class\": \"nnReshape\", \"kargs\": {\"shape\": [-1, 1, 2, 256]}}, {\"class\": \"Conv2d\", \"kargs\": {\"in_channels\": 1, \"out_channels\": 256, \"kernel_size\": [1, 7], \"bias\": false, \"padding\": [0, 3]}}, {\"class\": \"ReLU\", \"kargs\": {\"inplace\": true}}, {\"class\": \"BatchNorm2d\", \"kargs\": {\"num_features\": 256}}, {\"class\": \"Conv2d\", \"kargs\": {\"in_channels\": 256, \"out_channels\": 80, \"kernel_size\": [2, 7], \"bias\": true, \"padding\": [0, 3]}}, {\"class\": \"ReLU\", \"kargs\": {\"inplace\": true}}, {\"class\": \"BatchNorm2d\", \"kargs\": {\"num_features\": 80}}, {\"class\": \"Flatten\", \"kargs\": {}}, {\"class\": \"Linear\", \"kargs\": {\"in_features\": 20480, \"out_features\": 256}}, {\"class\": \"ReLU\", \"kargs\": {\"inplace\": true}}, {\"class\": \"BatchNorm1d\", \"kargs\": {\"num_features\": 256}}, {\"class\": \"Linear\", \"kargs\": {\"in_features\": 256, \"out_features\": 256}}], \"NUM_LOGS_PER_EPOCH\": 10, \"BEST_MODEL_PATH\": \"./best_model.pth\", \"pickle_name\": \"oracle.Run1_10kExamples_stratified_ds.2022A.pkl\", \"x_transforms_source\": [], \"x_transforms_target\": [], \"dataset_seed\": 1337, \"seed\": 1337}, \"results\": {\"source_test_label_accuracy\": 0.7810763888888889, \"source_test_label_loss\": 0.8043038249015808, \"target_test_label_accuracy\": 0.6694270833333333, \"target_test_label_loss\": 1.2603585720062256, \"source_val_label_accuracy\": 0.7857638888888889, \"source_val_label_loss\": 0.8110551238059998, \"target_val_label_accuracy\": 0.6688541666666666, \"target_val_label_loss\": 1.2699331045150757, \"total_epochs_trained\": 16, \"total_experiment_time_secs\": 1141.6125214099884, \"confusion\": {\"8\": {\"15\": {\"12\": 68, \"15\": 152, \"2\": 20}, \"3\": {\"3\": 236, \"2\": 4}, \"6\": {\"6\": 141, \"1\": 6, \"7\": 67, \"10\": 13, \"13\": 5, \"8\": 3, \"4\": 4, \"11\": 1}, \"1\": {\"1\": 122, \"5\": 21, \"10\": 44, \"11\": 38, \"6\": 8, \"13\": 2, \"4\": 4, \"7\": 1}, \"8\": {\"8\": 150, \"4\": 62, \"6\": 16, \"14\": 8, \"11\": 3, \"7\": 1}, \"10\": {\"5\": 17, \"13\": 53, \"1\": 37, \"10\": 113, \"6\": 12, \"11\": 5, \"7\": 3}, \"9\": {\"9\": 240}, \"13\": {\"13\": 152, \"7\": 28, \"10\": 48, \"6\": 8, \"1\": 1, \"5\": 3}, \"12\": {\"12\": 161, \"15\": 71, \"13\": 2, \"2\": 6}, \"5\": {\"5\": 170, \"1\": 30, \"10\": 23, \"13\": 5, \"11\": 11, \"14\": 1}, \"0\": {\"0\": 240}, \"2\": {\"2\": 170, \"15\": 30, \"3\": 25, \"12\": 15}, \"11\": {\"11\": 85, \"1\": 71, \"4\": 38, \"6\": 11, \"10\": 9, \"14\": 14, \"5\": 8, \"8\": 3, \"7\": 1}, \"14\": {\"14\": 182, \"4\": 30, \"11\": 15, \"8\": 13}, \"7\": {\"7\": 173, \"13\": 28, \"6\": 38, \"4\": 1}, \"4\": {\"4\": 156, \"6\": 10, \"11\": 29, \"8\": 34, \"14\": 8, \"1\": 3}}, \"50\": {\"3\": {\"3\": 240}, \"15\": {\"15\": 206, \"6\": 27, \"9\": 3, \"11\": 2, \"5\": 1, \"4\": 1}, \"8\": {\"8\": 228, \"10\": 11, \"13\": 1}, \"4\": {\"7\": 26, \"4\": 191, \"15\": 5, \"5\": 12, \"6\": 6}, \"14\": {\"14\": 239, \"2\": 1}, \"0\": {\"0\": 211, \"10\": 7, \"2\": 22}, \"7\": {\"4\": 10, \"7\": 217, \"5\": 13}, \"6\": {\"6\": 186, \"15\": 28, \"5\": 26}, \"10\": {\"10\": 216, \"8\": 13, \"0\": 11}, \"5\": {\"7\": 67, \"5\": 99, \"6\": 37, \"13\": 13, \"4\": 21, \"3\": 1, \"1\": 1, \"15\": 1}, \"2\": {\"2\": 210, \"0\": 29, \"14\": 1}, \"12\": {\"12\": 213, \"9\": 20, \"11\": 7}, \"9\": {\"9\": 186, \"12\": 37, \"11\": 17}, \"1\": {\"1\": 227, \"0\": 2, \"13\": 10, \"11\": 1}, \"11\": {\"11\": 225, \"9\": 6, \"12\": 7, \"15\": 2}, \"13\": {\"13\": 235, \"1\": 3, \"5\": 1, \"8\": 1}}, \"32\": {\"5\": {\"5\": 126, \"14\": 16, \"7\": 52, \"0\": 18, \"15\": 10, \"8\": 18}, \"8\": {\"7\": 10, \"8\": 140, \"0\": 31, \"14\": 23, \"2\": 13, \"4\": 4, \"5\": 16, \"15\": 3}, \"11\": {\"11\": 235, \"13\": 4, \"3\": 1}, \"1\": {\"1\": 240}, \"10\": {\"10\": 240}, \"15\": {\"15\": 224, \"5\": 8, \"0\": 3, \"8\": 5}, \"3\": {\"3\": 216, \"13\": 21, \"11\": 1, \"4\": 2}, \"7\": {\"7\": 131, \"14\": 33, \"8\": 12, \"5\": 43, \"0\": 21}, \"4\": {\"4\": 168, \"2\": 58, \"13\": 14}, \"14\": {\"7\": 50, \"14\": 141, \"2\": 15, \"5\": 12, \"8\": 13, \"0\": 7, \"4\": 2}, \"9\": {\"9\": 234, \"2\": 1, \"12\": 5}, \"12\": {\"12\": 240}, \"6\": {\"6\": 240}, \"2\": {\"4\": 40, \"2\": 197, \"8\": 1, \"0\": 1, \"14\": 1}, \"0\": {\"0\": 157, \"14\": 8, \"7\": 22, \"8\": 38, \"2\": 1, \"5\": 13, \"15\": 1}, \"13\": {\"13\": 151, \"4\": 29, \"3\": 47, \"11\": 13}}, \"14\": {\"15\": {\"15\": 240}, \"3\": {\"14\": 18, \"3\": 155, \"0\": 10, \"2\": 5, \"5\": 2, \"13\": 19, \"7\": 1, \"6\": 20, \"8\": 10}, \"6\": {\"6\": 115, \"5\": 2, \"13\": 64, \"3\": 32, \"14\": 18, \"2\": 7, \"0\": 2}, \"1\": {\"1\": 236, \"4\": 1, \"10\": 3}, \"8\": {\"8\": 192, \"0\": 20, \"5\": 6, \"14\": 8, \"3\": 8, \"2\": 5, \"4\": 1}, \"10\": {\"10\": 210, \"9\": 25, \"4\": 4, \"0\": 1}, \"9\": {\"10\": 26, \"9\": 214}, \"13\": {\"6\": 76, \"2\": 17, \"14\": 48, \"13\": 47, \"5\": 4, \"3\": 13, \"4\": 11, \"0\": 3, \"15\": 17, \"8\": 4}, \"12\": {\"12\": 240}, \"5\": {\"5\": 146, \"13\": 2, \"8\": 6, \"2\": 47, \"14\": 16, \"7\": 13, \"3\": 3, \"4\": 6, \"6\": 1}, \"0\": {\"0\": 160, \"8\": 29, \"14\": 9, \"10\": 11, \"3\": 26, \"12\": 1, \"13\": 3, \"4\": 1}, \"2\": {\"5\": 46, \"2\": 50, \"6\": 17, \"4\": 43, \"3\": 19, \"14\": 28, \"7\": 13, \"13\": 16, \"8\": 6, \"0\": 1, \"1\": 1}, \"11\": {\"11\": 240}, \"14\": {\"6\": 11, \"2\": 34, \"8\": 10, \"14\": 104, \"5\": 13, \"4\": 2, \"0\": 13, \"13\": 32, \"3\": 21}, \"7\": {\"7\": 235, \"6\": 1, \"5\": 2, \"2\": 2}, \"4\": {\"4\": 203, \"2\": 18, \"5\": 7, \"13\": 1, \"10\": 3, \"14\": 2, \"1\": 4, \"8\": 1, \"0\": 1}}, \"20\": {\"3\": {\"5\": 41, \"8\": 36, \"1\": 28, \"3\": 65, \"0\": 8, \"9\": 31, \"12\": 4, \"7\": 4, \"14\": 8, \"15\": 8, \"2\": 6, \"13\": 1}, \"15\": {\"15\": 67, \"4\": 26, \"5\": 20, \"1\": 37, \"12\": 38, \"7\": 5, \"3\": 8, \"9\": 17, \"13\": 11, \"8\": 1, \"2\": 10}, \"8\": {\"0\": 14, \"9\": 17, \"3\": 32, \"8\": 91, \"14\": 54, \"7\": 8, \"5\": 9, \"1\": 7, \"12\": 2, \"2\": 4, \"6\": 1, \"13\": 1}, \"4\": {\"4\": 69, \"10\": 36, \"13\": 38, \"12\": 32, \"9\": 3, \"6\": 7, \"2\": 26, \"15\": 14, \"7\": 12, \"1\": 2, \"3\": 1}, \"14\": {\"2\": 10, \"5\": 1, \"8\": 60, \"14\": 99, \"7\": 21, \"9\": 17, \"6\": 12, \"3\": 13, \"4\": 2, \"12\": 1, \"13\": 1, \"1\": 1, \"0\": 2}, \"0\": {\"0\": 198, \"8\": 16, \"1\": 3, \"5\": 7, \"3\": 13, \"11\": 3}, \"7\": {\"6\": 15, \"8\": 8, \"7\": 50, \"1\": 5, \"14\": 32, \"2\": 34, \"3\": 8, \"4\": 7, \"12\": 17, \"15\": 11, \"5\": 3, \"9\": 29, \"13\": 21}, \"6\": {\"6\": 161, \"14\": 30, \"2\": 14, \"13\": 6, \"7\": 25, \"12\": 1, \"10\": 2, \"4\": 1}, \"10\": {\"6\": 10, \"10\": 191, \"4\": 21, \"13\": 14, \"12\": 1, \"2\": 3}, \"5\": {\"5\": 77, \"3\": 48, \"1\": 60, \"0\": 3, \"8\": 9, \"15\": 19, \"2\": 1, \"9\": 12, \"12\": 7, \"7\": 4}, \"2\": {\"4\": 17, \"10\": 7, \"2\": 54, \"7\": 36, \"13\": 36, \"8\": 5, \"15\": 14, \"5\": 6, \"6\": 6, \"14\": 3, \"9\": 17, \"12\": 29, \"3\": 4, \"1\": 6}, \"12\": {\"15\": 45, \"12\": 43, \"4\": 37, \"13\": 22, \"9\": 14, \"7\": 23, \"2\": 30, \"14\": 1, \"8\": 3, \"1\": 15, \"5\": 5, \"10\": 1, \"3\": 1}, \"9\": {\"7\": 24, \"3\": 29, \"2\": 21, \"8\": 18, \"5\": 21, \"4\": 4, \"15\": 22, \"9\": 51, \"12\": 11, \"14\": 9, \"1\": 21, \"13\": 7, \"6\": 2}, \"1\": {\"1\": 59, \"15\": 39, \"5\": 56, \"12\": 15, \"3\": 24, \"9\": 24, \"2\": 11, \"4\": 1, \"13\": 2, \"8\": 5, \"14\": 1, \"7\": 3}, \"11\": {\"11\": 234, \"8\": 1, \"0\": 4, \"14\": 1}, \"13\": {\"4\": 32, \"2\": 51, \"13\": 69, \"7\": 26, \"9\": 5, \"6\": 11, \"15\": 6, \"12\": 22, \"10\": 15, \"14\": 3}}, \"44\": {\"5\": {\"5\": 198, \"15\": 16, \"8\": 7, \"14\": 19}, \"8\": {\"8\": 151, \"0\": 61, \"15\": 12, \"5\": 16}, \"11\": {\"11\": 240}, \"1\": {\"1\": 204, \"2\": 34, \"10\": 2}, \"10\": {\"10\": 216, \"2\": 4, \"7\": 13, \"1\": 7}, \"15\": {\"15\": 182, \"5\": 8, \"14\": 34, \"8\": 10, \"4\": 6}, \"3\": {\"3\": 216, \"12\": 24}, \"7\": {\"7\": 197, \"9\": 39, \"10\": 4}, \"4\": {\"4\": 134, \"14\": 67, \"15\": 25, \"13\": 2, \"9\": 8, \"5\": 3, \"7\": 1}, \"14\": {\"14\": 163, \"4\": 50, \"15\": 14, \"5\": 13}, \"9\": {\"6\": 38, \"7\": 77, \"9\": 103, \"13\": 17, \"2\": 2, \"4\": 3}, \"12\": {\"12\": 217, \"3\": 23}, \"6\": {\"6\": 183, \"13\": 38, \"9\": 19}, \"2\": {\"10\": 7, \"2\": 204, \"1\": 29}, \"0\": {\"0\": 191, \"8\": 48, \"15\": 1}, \"13\": {\"13\": 189, \"11\": 3, \"6\": 45, \"9\": 2, \"7\": 1}}, \"38\": {\"14\": {\"14\": 185, \"2\": 54, \"13\": 1}, \"0\": {\"0\": 150, \"13\": 23, \"7\": 32, \"10\": 21, \"3\": 14}, \"13\": {\"13\": 211, \"10\": 21, \"4\": 1, \"0\": 5, \"2\": 2}, \"7\": {\"7\": 229, \"8\": 6, \"0\": 3, \"5\": 2}, \"9\": {\"9\": 227, \"5\": 10, \"7\": 3}, \"3\": {\"3\": 240}, \"11\": {\"11\": 240}, \"6\": {\"6\": 237, \"1\": 3}, \"8\": {\"5\": 85, \"8\": 82, \"7\": 51, \"15\": 14, \"0\": 1, \"9\": 2, \"13\": 1, \"12\": 4}, \"4\": {\"4\": 235, \"10\": 5}, \"5\": {\"7\": 27, \"5\": 105, \"15\": 16, \"8\": 74, \"9\": 17, \"12\": 1}, \"10\": {\"10\": 209, \"13\": 14, \"4\": 7, \"0\": 10}, \"1\": {\"1\": 239, \"6\": 1}, \"2\": {\"14\": 36, \"2\": 203, \"13\": 1}, \"15\": {\"15\": 204, \"8\": 9, \"1\": 11, \"5\": 13, \"12\": 3}, \"12\": {\"12\": 239, \"8\": 1}}, \"26\": {\"13\": {\"13\": 153, \"4\": 29, \"9\": 23, \"3\": 14, \"8\": 6, \"2\": 9, \"7\": 6}, \"2\": {\"3\": 19, \"0\": 12, \"13\": 3, \"2\": 129, \"7\": 35, \"9\": 11, \"8\": 26, \"10\": 1, \"5\": 1, \"14\": 1, \"15\": 2}, \"8\": {\"7\": 31, \"0\": 18, \"2\": 27, \"8\": 98, \"9\": 61, \"13\": 3, \"3\": 1, \"10\": 1}, \"9\": {\"3\": 3, \"8\": 60, \"9\": 79, \"13\": 43, \"7\": 25, \"2\": 19, \"4\": 3, \"0\": 8}, \"12\": {\"12\": 240}, \"4\": {\"4\": 235, \"13\": 3, \"3\": 2}, \"3\": {\"3\": 177, \"8\": 4, \"9\": 5, \"4\": 2, \"7\": 28, \"13\": 14, \"2\": 10}, \"15\": {\"5\": 70, \"0\": 9, \"14\": 15, \"15\": 90, \"1\": 14, \"6\": 21, \"10\": 21}, \"14\": {\"14\": 80, \"10\": 54, \"5\": 9, \"0\": 34, \"15\": 31, \"6\": 15, \"1\": 17}, \"10\": {\"14\": 64, \"10\": 81, \"0\": 36, \"6\": 27, \"15\": 20, \"1\": 7, \"5\": 5}, \"7\": {\"9\": 25, \"7\": 103, \"3\": 38, \"8\": 24, \"2\": 43, \"13\": 6, \"0\": 1}, \"11\": {\"11\": 239, \"15\": 1}, \"6\": {\"6\": 139, \"15\": 21, \"1\": 31, \"5\": 20, \"10\": 22, \"14\": 7}, \"1\": {\"1\": 133, \"15\": 12, \"6\": 36, \"5\": 22, \"14\": 19, \"10\": 18}, \"5\": {\"5\": 149, \"1\": 5, \"14\": 5, \"15\": 54, \"6\": 26, \"10\": 1}, \"0\": {\"14\": 35, \"0\": 129, \"10\": 38, \"8\": 13, \"2\": 12, \"15\": 5, \"9\": 1, \"7\": 3, \"1\": 1, \"6\": 3}}}, \"per_domain_accuracy\": {\"8\": {\"accuracy\": 0.68828125, \"source?\": true}, \"50\": {\"accuracy\": 0.8669270833333333, \"source?\": true}, \"32\": {\"accuracy\": 0.8020833333333334, \"source?\": true}, \"14\": {\"accuracy\": 0.72578125, \"source?\": false}, \"20\": {\"accuracy\": 0.4109375, \"source?\": false}, \"44\": {\"accuracy\": 0.778125, \"source?\": false}, \"38\": {\"accuracy\": 0.8424479166666666, \"source?\": false}, \"26\": {\"accuracy\": 0.5869791666666667, \"source?\": false}}}, \"history\": {\"epoch_indices\": [1, 2, 3, 4, 5, 6, 7, 8, 9, 10, 11, 12, 13, 14, 15, 16], \"train_label_loss\": [1.0770736946473045, 0.7390387772863346, 0.5664507128239151, 0.4675677437749174, 0.39641055125920543, 0.3532331238929478, 0.3084445676707204, 0.2806540849722094, 0.25414635346914155, 0.2247880543413986, 0.20404580399506755, 0.18236094231547284, 0.17264341499128874, 0.15946476295182024, 0.15118799110955838, 0.13709057449609863], \"source_val_label_loss\": [1.4282302856445312, 0.7124890685081482, 0.6772586107254028, 0.7038595080375671, 0.6707535982131958, 0.6978805065155029, 0.6988130211830139, 0.7696022987365723, 0.7245966792106628, 0.795416533946991, 0.7696386575698853, 0.8110551238059998, 0.8170791268348694, 0.8187066316604614, 0.8417574763298035, 0.8932445049285889], \"target_val_label_loss\": [1.6064682006835938, 1.0689969062805176, 1.0731086730957031, 1.0761876106262207, 1.1137723922729492, 1.1182562112808228, 1.1552226543426514, 1.1822359561920166, 1.1160151958465576, 1.1591391563415527, 1.2319403886795044, 1.2699331045150757, 1.2650549411773682, 1.328798532485962, 1.3770033121109009, 1.3624489307403564], \"source_val_acc_label\": [0.6333333333333333, 0.7373263888888889, 0.7493923611111111, 0.7441840277777778, 0.7637152777777778, 0.7580729166666667, 0.7700520833333333, 0.7643229166666666, 0.7800347222222223, 0.7758680555555556, 0.7838541666666666, 0.7857638888888889, 0.7806423611111111, 0.7786458333333334, 0.78125, 0.77578125], \"target_val_acc_label\": [0.55578125, 0.6270833333333333, 0.64015625, 0.6292708333333333, 0.645625, 0.6314583333333333, 0.6436458333333334, 0.6347395833333334, 0.6624479166666667, 0.65890625, 0.6638020833333333, 0.6688541666666666, 0.6645833333333333, 0.66359375, 0.66, 0.6632291666666666]}, \"dataset_metrics\": {\"source\": {\"train\": {\"n_unique_x\": 67200, \"n_unique_y\": 16, \"n_batch/episode\": 2520}, \"val\": {\"n_unique_x\": 14400, \"n_unique_y\": 16, \"n_batch/episode\": 360}, \"test\": {\"n_unique_x\": 14400, \"n_unique_y\": 16, \"n_batch/episode\": 360}}, \"target\": {\"train\": {\"n_unique_x\": 112000, \"n_unique_y\": 16, \"n_batch/episode\": 4200}, \"val\": {\"n_unique_x\": 24000, \"n_unique_y\": 16, \"n_batch/episode\": 600}, \"test\": {\"n_unique_x\": 24000, \"n_unique_y\": 16, \"n_batch/episode\": 600}}}}'"
      ]
     },
     "execution_count": 20,
     "metadata": {},
     "output_type": "execute_result"
    }
   ],
   "source": [
    "json.dumps(experiment)"
   ]
  }
 ],
 "metadata": {
  "celltoolbar": "Tags",
  "kernelspec": {
   "display_name": "Python 3 (ipykernel)",
   "language": "python",
   "name": "python3"
  },
  "language_info": {
   "codemirror_mode": {
    "name": "ipython",
    "version": 3
   },
   "file_extension": ".py",
   "mimetype": "text/x-python",
   "name": "python",
   "nbconvert_exporter": "python",
   "pygments_lexer": "ipython3",
   "version": "3.8.10"
  },
  "papermill": {
   "default_parameters": {},
   "duration": 1193.876974,
   "end_time": "2022-04-01T20:07:19.332322",
   "environment_variables": {},
   "exception": null,
   "input_path": "/mnt/wd500GB/CSC500/csc500-main/csc500-notebooks/templates/ptn_template.ipynb",
   "output_path": "trial.ipynb",
   "parameters": {
    "parameters": {
     "BEST_MODEL_PATH": "./best_model.pth",
     "NUM_LOGS_PER_EPOCH": 10,
     "criteria_for_best": "target_accuracy",
     "dataset_seed": 1337,
     "device": "cuda",
     "domains_source": [
      8,
      32,
      50
     ],
     "domains_target": [
      14,
      20,
      26,
      38,
      44
     ],
     "episode_transforms_source": [],
     "episode_transforms_target": [],
     "experiment_name": "tuned_1v2:oracle.run1_limited",
     "labels_source": [
      "3123D52",
      "3123D65",
      "3123D79",
      "3123D80",
      "3123D54",
      "3123D70",
      "3123D7B",
      "3123D89",
      "3123D58",
      "3123D76",
      "3123D7D",
      "3123EFE",
      "3123D64",
      "3123D78",
      "3123D7E",
      "3124E4A"
     ],
     "labels_target": [
      "3123D52",
      "3123D65",
      "3123D79",
      "3123D80",
      "3123D54",
      "3123D70",
      "3123D7B",
      "3123D89",
      "3123D58",
      "3123D76",
      "3123D7D",
      "3123EFE",
      "3123D64",
      "3123D78",
      "3123D7E",
      "3124E4A"
     ],
     "lr": 0.0001,
     "n_epoch": 50,
     "n_query": 2,
     "n_shot": 3,
     "n_way": 16,
     "num_examples_per_domain_per_label_source": 2000,
     "num_examples_per_domain_per_label_target": 2000,
     "patience": 3,
     "pickle_name": "oracle.Run1_10kExamples_stratified_ds.2022A.pkl",
     "seed": 1337,
     "test_k_factor": 2,
     "torch_default_dtype": "torch.float32",
     "train_k_factor": 3,
     "val_k_factor": 2,
     "x_net": [
      {
       "class": "nnReshape",
       "kargs": {
        "shape": [
         -1,
         1,
         2,
         256
        ]
       }
      },
      {
       "class": "Conv2d",
       "kargs": {
        "bias": false,
        "in_channels": 1,
        "kernel_size": [
         1,
         7
        ],
        "out_channels": 256,
        "padding": [
         0,
         3
        ]
       }
      },
      {
       "class": "ReLU",
       "kargs": {
        "inplace": true
       }
      },
      {
       "class": "BatchNorm2d",
       "kargs": {
        "num_features": 256
       }
      },
      {
       "class": "Conv2d",
       "kargs": {
        "bias": true,
        "in_channels": 256,
        "kernel_size": [
         2,
         7
        ],
        "out_channels": 80,
        "padding": [
         0,
         3
        ]
       }
      },
      {
       "class": "ReLU",
       "kargs": {
        "inplace": true
       }
      },
      {
       "class": "BatchNorm2d",
       "kargs": {
        "num_features": 80
       }
      },
      {
       "class": "Flatten",
       "kargs": {}
      },
      {
       "class": "Linear",
       "kargs": {
        "in_features": 20480,
        "out_features": 256
       }
      },
      {
       "class": "ReLU",
       "kargs": {
        "inplace": true
       }
      },
      {
       "class": "BatchNorm1d",
       "kargs": {
        "num_features": 256
       }
      },
      {
       "class": "Linear",
       "kargs": {
        "in_features": 256,
        "out_features": 256
       }
      }
     ],
     "x_transforms_source": [],
     "x_transforms_target": []
    }
   },
   "start_time": "2022-04-01T19:47:25.455348",
   "version": "2.3.4"
  }
 },
 "nbformat": 4,
 "nbformat_minor": 5
}