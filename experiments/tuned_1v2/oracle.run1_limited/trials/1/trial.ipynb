{
 "cells": [
  {
   "cell_type": "markdown",
   "id": "9fea5f46",
   "metadata": {
    "papermill": {
     "duration": 0.027425,
     "end_time": "2022-03-26T00:03:36.808010",
     "exception": false,
     "start_time": "2022-03-26T00:03:36.780585",
     "status": "completed"
    },
    "tags": []
   },
   "source": [
    "# PTN Template\n",
    "This notebook serves as a template for single dataset PTN experiments  \n",
    "It can be run on its own by setting STANDALONE to True (do a find for \"STANDALONE\" to see where)  \n",
    "But it is intended to be executed as part of a *papermill.py script. See any of the   \n",
    "experimentes with a papermill script to get started with that workflow.  "
   ]
  },
  {
   "cell_type": "code",
   "execution_count": 1,
   "id": "0902182a",
   "metadata": {
    "execution": {
     "iopub.execute_input": "2022-03-26T00:03:36.861580Z",
     "iopub.status.busy": "2022-03-26T00:03:36.860641Z",
     "iopub.status.idle": "2022-03-26T00:03:38.734099Z",
     "shell.execute_reply": "2022-03-26T00:03:38.733673Z"
    },
    "papermill": {
     "duration": 1.907821,
     "end_time": "2022-03-26T00:03:38.734207",
     "exception": false,
     "start_time": "2022-03-26T00:03:36.826386",
     "status": "completed"
    },
    "tags": []
   },
   "outputs": [],
   "source": [
    "%load_ext autoreload\n",
    "%autoreload 2\n",
    "%matplotlib inline\n",
    "\n",
    "    \n",
    "import os, json, sys, time, random\n",
    "import numpy as np\n",
    "import torch\n",
    "from torch.optim import Adam\n",
    "from  easydict import EasyDict\n",
    "import matplotlib.pyplot as plt\n",
    "\n",
    "from steves_models.steves_ptn import Steves_Prototypical_Network\n",
    "\n",
    "from steves_utils.lazy_iterable_wrapper import Lazy_Iterable_Wrapper\n",
    "from steves_utils.iterable_aggregator import Iterable_Aggregator\n",
    "from steves_utils.ptn_train_eval_test_jig import  PTN_Train_Eval_Test_Jig\n",
    "from steves_utils.torch_sequential_builder import build_sequential\n",
    "from steves_utils.torch_utils import get_dataset_metrics, ptn_confusion_by_domain_over_dataloader\n",
    "from steves_utils.utils_v2 import (per_domain_accuracy_from_confusion, get_datasets_base_path)\n",
    "from steves_utils.PTN.utils import independent_accuracy_assesment\n",
    "\n",
    "from steves_utils.stratified_dataset.episodic_accessor import Episodic_Accessor_Factory\n",
    "\n",
    "from steves_utils.ptn_do_report import (\n",
    "    get_loss_curve,\n",
    "    get_results_table,\n",
    "    get_parameters_table,\n",
    "    get_domain_accuracies,\n",
    ")\n",
    "\n",
    "from steves_utils.transforms import get_chained_transform"
   ]
  },
  {
   "cell_type": "markdown",
   "id": "41c840b4",
   "metadata": {
    "papermill": {
     "duration": 0.014097,
     "end_time": "2022-03-26T00:03:38.763210",
     "exception": false,
     "start_time": "2022-03-26T00:03:38.749113",
     "status": "completed"
    },
    "tags": []
   },
   "source": [
    "# Required Parameters\n",
    "These are allowed parameters, not defaults\n",
    "Each of these values need to be present in the injected parameters (the notebook will raise an exception if they are not present)\n",
    "\n",
    "Papermill uses the cell tag \"parameters\" to inject the real parameters below this cell.\n",
    "Enable tags to see what I mean"
   ]
  },
  {
   "cell_type": "code",
   "execution_count": 2,
   "id": "fd44eb83",
   "metadata": {
    "execution": {
     "iopub.execute_input": "2022-03-26T00:03:38.796432Z",
     "iopub.status.busy": "2022-03-26T00:03:38.796041Z",
     "iopub.status.idle": "2022-03-26T00:03:38.817903Z",
     "shell.execute_reply": "2022-03-26T00:03:38.818209Z"
    },
    "papermill": {
     "duration": 0.041011,
     "end_time": "2022-03-26T00:03:38.818295",
     "exception": false,
     "start_time": "2022-03-26T00:03:38.777284",
     "status": "completed"
    },
    "tags": []
   },
   "outputs": [],
   "source": [
    "required_parameters = {\n",
    "    \"experiment_name\",\n",
    "    \"lr\",\n",
    "    \"device\",\n",
    "    \"seed\",\n",
    "    \"dataset_seed\",\n",
    "    \"labels_source\",\n",
    "    \"labels_target\",\n",
    "    \"domains_source\",\n",
    "    \"domains_target\",\n",
    "    \"num_examples_per_domain_per_label_source\",\n",
    "    \"num_examples_per_domain_per_label_target\",\n",
    "    \"n_shot\",\n",
    "    \"n_way\",\n",
    "    \"n_query\",\n",
    "    \"train_k_factor\",\n",
    "    \"val_k_factor\",\n",
    "    \"test_k_factor\",\n",
    "    \"n_epoch\",\n",
    "    \"patience\",\n",
    "    \"criteria_for_best\",\n",
    "    \"x_transforms_source\",\n",
    "    \"x_transforms_target\",\n",
    "    \"episode_transforms_source\",\n",
    "    \"episode_transforms_target\",\n",
    "    \"pickle_name\",\n",
    "    \"x_net\",\n",
    "    \"NUM_LOGS_PER_EPOCH\",\n",
    "    \"BEST_MODEL_PATH\",\n",
    "    \"torch_default_dtype\"\n",
    "}"
   ]
  },
  {
   "cell_type": "code",
   "execution_count": 3,
   "id": "fa3f0049",
   "metadata": {
    "execution": {
     "iopub.execute_input": "2022-03-26T00:03:38.862002Z",
     "iopub.status.busy": "2022-03-26T00:03:38.849940Z",
     "iopub.status.idle": "2022-03-26T00:03:38.892084Z",
     "shell.execute_reply": "2022-03-26T00:03:38.891498Z"
    },
    "papermill": {
     "duration": 0.05945,
     "end_time": "2022-03-26T00:03:38.892220",
     "exception": false,
     "start_time": "2022-03-26T00:03:38.832770",
     "status": "completed"
    },
    "tags": [
     "parameters"
    ]
   },
   "outputs": [],
   "source": [
    "\n",
    "\n",
    "standalone_parameters = {}\n",
    "standalone_parameters[\"experiment_name\"] = \"STANDALONE PTN\"\n",
    "standalone_parameters[\"lr\"] = 0.0001\n",
    "standalone_parameters[\"device\"] = \"cuda\"\n",
    "\n",
    "standalone_parameters[\"seed\"] = 1337\n",
    "standalone_parameters[\"dataset_seed\"] = 1337\n",
    "\n",
    "\n",
    "standalone_parameters[\"num_examples_per_domain_per_label_source\"]=100\n",
    "standalone_parameters[\"num_examples_per_domain_per_label_target\"]=100\n",
    "\n",
    "standalone_parameters[\"n_shot\"] = 3\n",
    "standalone_parameters[\"n_query\"]  = 2\n",
    "standalone_parameters[\"train_k_factor\"] = 1\n",
    "standalone_parameters[\"val_k_factor\"] = 2\n",
    "standalone_parameters[\"test_k_factor\"] = 2\n",
    "\n",
    "\n",
    "standalone_parameters[\"n_epoch\"] = 100\n",
    "\n",
    "standalone_parameters[\"patience\"] = 10\n",
    "standalone_parameters[\"criteria_for_best\"] = \"target_accuracy\"\n",
    "\n",
    "standalone_parameters[\"x_transforms_source\"] = [\"unit_power\"]\n",
    "standalone_parameters[\"x_transforms_target\"] = [\"unit_power\"]\n",
    "standalone_parameters[\"episode_transforms_source\"] = []\n",
    "standalone_parameters[\"episode_transforms_target\"] = []\n",
    "\n",
    "standalone_parameters[\"torch_default_dtype\"] = \"torch.float32\" \n",
    "\n",
    "\n",
    "\n",
    "standalone_parameters[\"x_net\"] =     [\n",
    "    {\"class\": \"nnReshape\", \"kargs\": {\"shape\":[-1, 1, 2, 256]}},\n",
    "    {\"class\": \"Conv2d\", \"kargs\": { \"in_channels\":1, \"out_channels\":256, \"kernel_size\":(1,7), \"bias\":False, \"padding\":(0,3), },},\n",
    "    {\"class\": \"ReLU\", \"kargs\": {\"inplace\": True}},\n",
    "    {\"class\": \"BatchNorm2d\", \"kargs\": {\"num_features\":256}},\n",
    "\n",
    "    {\"class\": \"Conv2d\", \"kargs\": { \"in_channels\":256, \"out_channels\":80, \"kernel_size\":(2,7), \"bias\":True, \"padding\":(0,3), },},\n",
    "    {\"class\": \"ReLU\", \"kargs\": {\"inplace\": True}},\n",
    "    {\"class\": \"BatchNorm2d\", \"kargs\": {\"num_features\":80}},\n",
    "    {\"class\": \"Flatten\", \"kargs\": {}},\n",
    "\n",
    "    {\"class\": \"Linear\", \"kargs\": {\"in_features\": 80*256, \"out_features\": 256}}, # 80 units per IQ pair\n",
    "    {\"class\": \"ReLU\", \"kargs\": {\"inplace\": True}},\n",
    "    {\"class\": \"BatchNorm1d\", \"kargs\": {\"num_features\":256}},\n",
    "\n",
    "    {\"class\": \"Linear\", \"kargs\": {\"in_features\": 256, \"out_features\": 256}},\n",
    "]\n",
    "\n",
    "# Parameters relevant to results\n",
    "# These parameters will basically never need to change\n",
    "standalone_parameters[\"NUM_LOGS_PER_EPOCH\"] = 10\n",
    "standalone_parameters[\"BEST_MODEL_PATH\"] = \"./best_model.pth\"\n",
    "\n",
    "# uncomment for CORES dataset\n",
    "from steves_utils.CORES.utils import (\n",
    "    ALL_NODES,\n",
    "    ALL_NODES_MINIMUM_1000_EXAMPLES,\n",
    "    ALL_DAYS\n",
    ")\n",
    "\n",
    "\n",
    "standalone_parameters[\"labels_source\"] = ALL_NODES\n",
    "standalone_parameters[\"labels_target\"] = ALL_NODES\n",
    "\n",
    "standalone_parameters[\"domains_source\"] = [1]\n",
    "standalone_parameters[\"domains_target\"] = [2,3,4,5]\n",
    "\n",
    "standalone_parameters[\"pickle_name\"] = \"cores.stratified_ds.2022A.pkl\"\n",
    "\n",
    "\n",
    "# Uncomment these for ORACLE dataset\n",
    "# from steves_utils.ORACLE.utils_v2 import (\n",
    "#     ALL_DISTANCES_FEET,\n",
    "#     ALL_RUNS,\n",
    "#     ALL_SERIAL_NUMBERS,\n",
    "# )\n",
    "# standalone_parameters[\"labels_source\"] = ALL_SERIAL_NUMBERS\n",
    "# standalone_parameters[\"labels_target\"] = ALL_SERIAL_NUMBERS\n",
    "# standalone_parameters[\"domains_source\"] = [8,20, 38,50]\n",
    "# standalone_parameters[\"domains_target\"] = [14, 26, 32, 44, 56]\n",
    "# standalone_parameters[\"pickle_name\"] = \"oracle.frame_indexed.stratified_ds.2022A.pkl\"\n",
    "# standalone_parameters[\"num_examples_per_domain_per_label_source\"]=1000\n",
    "# standalone_parameters[\"num_examples_per_domain_per_label_target\"]=1000\n",
    "\n",
    "# Uncomment these for Metahan dataset\n",
    "# standalone_parameters[\"labels_source\"] = list(range(19))\n",
    "# standalone_parameters[\"labels_target\"] = list(range(19))\n",
    "# standalone_parameters[\"domains_source\"] = [0]\n",
    "# standalone_parameters[\"domains_target\"] = [1]\n",
    "# standalone_parameters[\"pickle_name\"] = \"metehan.stratified_ds.2022A.pkl\"\n",
    "# standalone_parameters[\"n_way\"]  = len(standalone_parameters[\"labels_source\"])\n",
    "# standalone_parameters[\"num_examples_per_domain_per_label_source\"]=200\n",
    "# standalone_parameters[\"num_examples_per_domain_per_label_target\"]=100\n",
    "\n",
    "\n",
    "standalone_parameters[\"n_way\"]  = len(standalone_parameters[\"labels_source\"])"
   ]
  },
  {
   "cell_type": "code",
   "execution_count": 4,
   "id": "61e0c879",
   "metadata": {
    "execution": {
     "iopub.execute_input": "2022-03-26T00:03:38.936479Z",
     "iopub.status.busy": "2022-03-26T00:03:38.935841Z",
     "iopub.status.idle": "2022-03-26T00:03:38.957021Z",
     "shell.execute_reply": "2022-03-26T00:03:38.957718Z"
    },
    "papermill": {
     "duration": 0.04381,
     "end_time": "2022-03-26T00:03:38.957907",
     "exception": false,
     "start_time": "2022-03-26T00:03:38.914097",
     "status": "completed"
    },
    "tags": [
     "injected-parameters"
    ]
   },
   "outputs": [],
   "source": [
    "# Parameters\n",
    "parameters = {\n",
    "    \"experiment_name\": \"tuned_1v2:oracle.run1_limited\",\n",
    "    \"device\": \"cuda\",\n",
    "    \"lr\": 0.0001,\n",
    "    \"labels_source\": [\n",
    "        \"3123D52\",\n",
    "        \"3123D65\",\n",
    "        \"3123D79\",\n",
    "        \"3123D80\",\n",
    "        \"3123D54\",\n",
    "        \"3123D70\",\n",
    "        \"3123D7B\",\n",
    "        \"3123D89\",\n",
    "        \"3123D58\",\n",
    "        \"3123D76\",\n",
    "        \"3123D7D\",\n",
    "        \"3123EFE\",\n",
    "        \"3123D64\",\n",
    "        \"3123D78\",\n",
    "        \"3123D7E\",\n",
    "        \"3124E4A\",\n",
    "    ],\n",
    "    \"labels_target\": [\n",
    "        \"3123D52\",\n",
    "        \"3123D65\",\n",
    "        \"3123D79\",\n",
    "        \"3123D80\",\n",
    "        \"3123D54\",\n",
    "        \"3123D70\",\n",
    "        \"3123D7B\",\n",
    "        \"3123D89\",\n",
    "        \"3123D58\",\n",
    "        \"3123D76\",\n",
    "        \"3123D7D\",\n",
    "        \"3123EFE\",\n",
    "        \"3123D64\",\n",
    "        \"3123D78\",\n",
    "        \"3123D7E\",\n",
    "        \"3124E4A\",\n",
    "    ],\n",
    "    \"episode_transforms_source\": [],\n",
    "    \"episode_transforms_target\": [],\n",
    "    \"domains_source\": [8, 32, 50],\n",
    "    \"domains_target\": [14, 20, 26, 38, 44],\n",
    "    \"num_examples_per_domain_per_label_source\": -1,\n",
    "    \"num_examples_per_domain_per_label_target\": -1,\n",
    "    \"n_shot\": 3,\n",
    "    \"n_way\": 16,\n",
    "    \"n_query\": 2,\n",
    "    \"train_k_factor\": 3,\n",
    "    \"val_k_factor\": 2,\n",
    "    \"test_k_factor\": 2,\n",
    "    \"torch_default_dtype\": \"torch.float32\",\n",
    "    \"n_epoch\": 50,\n",
    "    \"patience\": 3,\n",
    "    \"criteria_for_best\": \"target_accuracy\",\n",
    "    \"x_net\": [\n",
    "        {\"class\": \"nnReshape\", \"kargs\": {\"shape\": [-1, 1, 2, 256]}},\n",
    "        {\n",
    "            \"class\": \"Conv2d\",\n",
    "            \"kargs\": {\n",
    "                \"in_channels\": 1,\n",
    "                \"out_channels\": 256,\n",
    "                \"kernel_size\": [1, 7],\n",
    "                \"bias\": False,\n",
    "                \"padding\": [0, 3],\n",
    "            },\n",
    "        },\n",
    "        {\"class\": \"ReLU\", \"kargs\": {\"inplace\": True}},\n",
    "        {\"class\": \"BatchNorm2d\", \"kargs\": {\"num_features\": 256}},\n",
    "        {\n",
    "            \"class\": \"Conv2d\",\n",
    "            \"kargs\": {\n",
    "                \"in_channels\": 256,\n",
    "                \"out_channels\": 80,\n",
    "                \"kernel_size\": [2, 7],\n",
    "                \"bias\": True,\n",
    "                \"padding\": [0, 3],\n",
    "            },\n",
    "        },\n",
    "        {\"class\": \"ReLU\", \"kargs\": {\"inplace\": True}},\n",
    "        {\"class\": \"BatchNorm2d\", \"kargs\": {\"num_features\": 80}},\n",
    "        {\"class\": \"Flatten\", \"kargs\": {}},\n",
    "        {\"class\": \"Linear\", \"kargs\": {\"in_features\": 20480, \"out_features\": 256}},\n",
    "        {\"class\": \"ReLU\", \"kargs\": {\"inplace\": True}},\n",
    "        {\"class\": \"BatchNorm1d\", \"kargs\": {\"num_features\": 256}},\n",
    "        {\"class\": \"Linear\", \"kargs\": {\"in_features\": 256, \"out_features\": 256}},\n",
    "    ],\n",
    "    \"NUM_LOGS_PER_EPOCH\": 10,\n",
    "    \"BEST_MODEL_PATH\": \"./best_model.pth\",\n",
    "    \"pickle_name\": \"oracle.Run1_10kExamples_stratified_ds.2022A.pkl\",\n",
    "    \"x_transforms_source\": [],\n",
    "    \"x_transforms_target\": [],\n",
    "    \"dataset_seed\": 1337,\n",
    "    \"seed\": 1337,\n",
    "}\n"
   ]
  },
  {
   "cell_type": "code",
   "execution_count": 5,
   "id": "8fa1cc33",
   "metadata": {
    "execution": {
     "iopub.execute_input": "2022-03-26T00:03:38.999592Z",
     "iopub.status.busy": "2022-03-26T00:03:38.999198Z",
     "iopub.status.idle": "2022-03-26T00:03:39.021319Z",
     "shell.execute_reply": "2022-03-26T00:03:39.020599Z"
    },
    "papermill": {
     "duration": 0.040877,
     "end_time": "2022-03-26T00:03:39.021476",
     "exception": false,
     "start_time": "2022-03-26T00:03:38.980599",
     "status": "completed"
    },
    "tags": []
   },
   "outputs": [],
   "source": [
    "# Set this to True if you want to run this template directly\n",
    "STANDALONE = False\n",
    "if STANDALONE:\n",
    "    print(\"parameters not injected, running with standalone_parameters\")\n",
    "    parameters = standalone_parameters\n",
    "\n",
    "if not 'parameters' in locals() and not 'parameters' in globals():\n",
    "    raise Exception(\"Parameter injection failed\")\n",
    "\n",
    "#Use an easy dict for all the parameters\n",
    "p = EasyDict(parameters)\n",
    "\n",
    "supplied_keys = set(p.keys())\n",
    "\n",
    "if  supplied_keys != required_parameters:\n",
    "    print(\"Parameters are incorrect\")\n",
    "    if len(supplied_keys - required_parameters)>0: print(\"Shouldn't have:\", str(supplied_keys - required_parameters))\n",
    "    if len(required_parameters - supplied_keys)>0: print(\"Need to have:\", str(required_parameters - supplied_keys))\n",
    "    raise RuntimeError(\"Parameters are incorrect\")\n",
    "\n"
   ]
  },
  {
   "cell_type": "code",
   "execution_count": 6,
   "id": "3a028d58",
   "metadata": {
    "execution": {
     "iopub.execute_input": "2022-03-26T00:03:39.059678Z",
     "iopub.status.busy": "2022-03-26T00:03:39.059264Z",
     "iopub.status.idle": "2022-03-26T00:03:39.081652Z",
     "shell.execute_reply": "2022-03-26T00:03:39.080936Z"
    },
    "papermill": {
     "duration": 0.039844,
     "end_time": "2022-03-26T00:03:39.081807",
     "exception": false,
     "start_time": "2022-03-26T00:03:39.041963",
     "status": "completed"
    },
    "tags": []
   },
   "outputs": [],
   "source": [
    "###################################\n",
    "# Set the RNGs and make it all deterministic\n",
    "###################################\n",
    "np.random.seed(p.seed)\n",
    "random.seed(p.seed)\n",
    "torch.manual_seed(p.seed)\n",
    "\n",
    "torch.use_deterministic_algorithms(True) "
   ]
  },
  {
   "cell_type": "code",
   "execution_count": 7,
   "id": "b691acf6",
   "metadata": {
    "execution": {
     "iopub.execute_input": "2022-03-26T00:03:39.122523Z",
     "iopub.status.busy": "2022-03-26T00:03:39.122144Z",
     "iopub.status.idle": "2022-03-26T00:03:39.144811Z",
     "shell.execute_reply": "2022-03-26T00:03:39.144055Z"
    },
    "papermill": {
     "duration": 0.040334,
     "end_time": "2022-03-26T00:03:39.144965",
     "exception": false,
     "start_time": "2022-03-26T00:03:39.104631",
     "status": "completed"
    },
    "tags": []
   },
   "outputs": [],
   "source": [
    "###########################################\n",
    "# The stratified datasets honor this\n",
    "###########################################\n",
    "torch.set_default_dtype(eval(p.torch_default_dtype))"
   ]
  },
  {
   "cell_type": "code",
   "execution_count": 8,
   "id": "b5fba671",
   "metadata": {
    "execution": {
     "iopub.execute_input": "2022-03-26T00:03:39.182962Z",
     "iopub.status.busy": "2022-03-26T00:03:39.182590Z",
     "iopub.status.idle": "2022-03-26T00:03:39.235060Z",
     "shell.execute_reply": "2022-03-26T00:03:39.234338Z"
    },
    "papermill": {
     "duration": 0.069296,
     "end_time": "2022-03-26T00:03:39.235217",
     "exception": false,
     "start_time": "2022-03-26T00:03:39.165921",
     "status": "completed"
    },
    "tags": []
   },
   "outputs": [],
   "source": [
    "###################################\n",
    "# Build the network(s)\n",
    "# Note: It's critical to do this AFTER setting the RNG\n",
    "# (This is due to the randomized initial weights)\n",
    "###################################\n",
    "x_net = build_sequential(p.x_net)"
   ]
  },
  {
   "cell_type": "code",
   "execution_count": 9,
   "id": "5d7e61cc",
   "metadata": {
    "execution": {
     "iopub.execute_input": "2022-03-26T00:03:39.274402Z",
     "iopub.status.busy": "2022-03-26T00:03:39.274028Z",
     "iopub.status.idle": "2022-03-26T00:03:39.295174Z",
     "shell.execute_reply": "2022-03-26T00:03:39.294454Z"
    },
    "papermill": {
     "duration": 0.038188,
     "end_time": "2022-03-26T00:03:39.295328",
     "exception": false,
     "start_time": "2022-03-26T00:03:39.257140",
     "status": "completed"
    },
    "tags": []
   },
   "outputs": [],
   "source": [
    "start_time_secs = time.time()"
   ]
  },
  {
   "cell_type": "code",
   "execution_count": 10,
   "id": "fd5442bc",
   "metadata": {
    "execution": {
     "iopub.execute_input": "2022-03-26T00:03:39.342637Z",
     "iopub.status.busy": "2022-03-26T00:03:39.342244Z",
     "iopub.status.idle": "2022-03-26T00:03:50.784980Z",
     "shell.execute_reply": "2022-03-26T00:03:50.784184Z"
    },
    "papermill": {
     "duration": 11.465648,
     "end_time": "2022-03-26T00:03:50.785164",
     "exception": false,
     "start_time": "2022-03-26T00:03:39.319516",
     "status": "completed"
    },
    "tags": []
   },
   "outputs": [],
   "source": [
    "###################################\n",
    "# Build the dataset\n",
    "###################################\n",
    "\n",
    "if p.x_transforms_source == []: x_transform_source = None\n",
    "else: x_transform_source = get_chained_transform(p.x_transforms_source) \n",
    "\n",
    "if p.x_transforms_target == []: x_transform_target = None\n",
    "else: x_transform_target = get_chained_transform(p.x_transforms_target)\n",
    "\n",
    "if p.episode_transforms_source == []: episode_transform_source = None\n",
    "else: raise Exception(\"episode_transform_source not implemented\")\n",
    "\n",
    "if p.episode_transforms_target == []: episode_transform_target = None\n",
    "else: raise Exception(\"episode_transform_target not implemented\")\n",
    "\n",
    "\n",
    "eaf_source = Episodic_Accessor_Factory(\n",
    "    labels=p.labels_source,\n",
    "    domains=p.domains_source,\n",
    "    num_examples_per_domain_per_label=p.num_examples_per_domain_per_label_source,\n",
    "    iterator_seed=p.seed,\n",
    "    dataset_seed=p.dataset_seed,\n",
    "    n_shot=p.n_shot,\n",
    "    n_way=p.n_way,\n",
    "    n_query=p.n_query,\n",
    "    train_val_test_k_factors=(p.train_k_factor,p.val_k_factor,p.test_k_factor),\n",
    "    pickle_path=os.path.join(get_datasets_base_path(), p.pickle_name),\n",
    "    x_transform_func=x_transform_source,\n",
    "    example_transform_func=episode_transform_source,\n",
    "    \n",
    ")\n",
    "train_original_source, val_original_source, test_original_source = eaf_source.get_train(), eaf_source.get_val(), eaf_source.get_test()\n",
    "\n",
    "\n",
    "eaf_target = Episodic_Accessor_Factory(\n",
    "    labels=p.labels_target,\n",
    "    domains=p.domains_target,\n",
    "    num_examples_per_domain_per_label=p.num_examples_per_domain_per_label_target,\n",
    "    iterator_seed=p.seed,\n",
    "    dataset_seed=p.dataset_seed,\n",
    "    n_shot=p.n_shot,\n",
    "    n_way=p.n_way,\n",
    "    n_query=p.n_query,\n",
    "    train_val_test_k_factors=(p.train_k_factor,p.val_k_factor,p.test_k_factor),\n",
    "    pickle_path=os.path.join(get_datasets_base_path(), p.pickle_name),\n",
    "    x_transform_func=x_transform_target,\n",
    "    example_transform_func=episode_transform_target,\n",
    ")\n",
    "train_original_target, val_original_target, test_original_target = eaf_target.get_train(), eaf_target.get_val(), eaf_target.get_test()\n",
    "\n",
    "\n",
    "transform_lambda = lambda ex: ex[1] # Original is (<domain>, <episode>) so we strip down to episode only\n",
    "\n",
    "train_processed_source = Lazy_Iterable_Wrapper(train_original_source, transform_lambda)\n",
    "val_processed_source   = Lazy_Iterable_Wrapper(val_original_source, transform_lambda)\n",
    "test_processed_source  = Lazy_Iterable_Wrapper(test_original_source, transform_lambda)\n",
    "\n",
    "train_processed_target = Lazy_Iterable_Wrapper(train_original_target, transform_lambda)\n",
    "val_processed_target   = Lazy_Iterable_Wrapper(val_original_target, transform_lambda)\n",
    "test_processed_target  = Lazy_Iterable_Wrapper(test_original_target, transform_lambda)\n",
    "\n",
    "datasets = EasyDict({\n",
    "    \"source\": {\n",
    "        \"original\": {\"train\":train_original_source, \"val\":val_original_source, \"test\":test_original_source},\n",
    "        \"processed\": {\"train\":train_processed_source, \"val\":val_processed_source, \"test\":test_processed_source}\n",
    "    },\n",
    "    \"target\": {\n",
    "        \"original\": {\"train\":train_original_target, \"val\":val_original_target, \"test\":test_original_target},\n",
    "        \"processed\": {\"train\":train_processed_target, \"val\":val_processed_target, \"test\":test_processed_target}\n",
    "    },\n",
    "})"
   ]
  },
  {
   "cell_type": "code",
   "execution_count": 11,
   "id": "296189d9",
   "metadata": {
    "execution": {
     "iopub.execute_input": "2022-03-26T00:03:50.826836Z",
     "iopub.status.busy": "2022-03-26T00:03:50.826450Z",
     "iopub.status.idle": "2022-03-26T00:03:58.478422Z",
     "shell.execute_reply": "2022-03-26T00:03:58.477546Z"
    },
    "papermill": {
     "duration": 7.672359,
     "end_time": "2022-03-26T00:03:58.478596",
     "exception": false,
     "start_time": "2022-03-26T00:03:50.806237",
     "status": "completed"
    },
    "tags": []
   },
   "outputs": [
    {
     "name": "stdout",
     "output_type": "stream",
     "text": [
      "Visually inspect these to see if they line up with expected values given the transforms\n",
      "x_transforms_source []\n",
      "x_transforms_target []\n",
      "Average magnitude, source: 0.0047276304\n",
      "Average power, source: 2.9415698e-05\n"
     ]
    },
    {
     "name": "stdout",
     "output_type": "stream",
     "text": [
      "Average magnitude, target: 0.002870827\n",
      "Average power, target: 1.0597982e-05\n"
     ]
    }
   ],
   "source": [
    "# Some quick unit tests on the data\n",
    "from steves_utils.transforms import get_average_power, get_average_magnitude\n",
    "\n",
    "q_x, q_y, s_x, s_y, truth = next(iter(train_processed_source))\n",
    "\n",
    "assert q_x.dtype == eval(p.torch_default_dtype)\n",
    "assert s_x.dtype == eval(p.torch_default_dtype)\n",
    "\n",
    "print(\"Visually inspect these to see if they line up with expected values given the transforms\")\n",
    "print('x_transforms_source', p.x_transforms_source)\n",
    "print('x_transforms_target', p.x_transforms_target)\n",
    "print(\"Average magnitude, source:\", get_average_magnitude(q_x[0].numpy()))\n",
    "print(\"Average power, source:\", get_average_power(q_x[0].numpy()))\n",
    "\n",
    "q_x, q_y, s_x, s_y, truth = next(iter(train_processed_target))\n",
    "print(\"Average magnitude, target:\", get_average_magnitude(q_x[0].numpy()))\n",
    "print(\"Average power, target:\", get_average_power(q_x[0].numpy()))\n"
   ]
  },
  {
   "cell_type": "code",
   "execution_count": 12,
   "id": "bbdacba1",
   "metadata": {
    "execution": {
     "iopub.execute_input": "2022-03-26T00:03:58.522975Z",
     "iopub.status.busy": "2022-03-26T00:03:58.522595Z",
     "iopub.status.idle": "2022-03-26T00:03:58.768177Z",
     "shell.execute_reply": "2022-03-26T00:03:58.768853Z"
    },
    "papermill": {
     "duration": 0.26622,
     "end_time": "2022-03-26T00:03:58.769065",
     "exception": false,
     "start_time": "2022-03-26T00:03:58.502845",
     "status": "completed"
    },
    "tags": []
   },
   "outputs": [
    {
     "name": "stdout",
     "output_type": "stream",
     "text": [
      "(2, 256)\n"
     ]
    }
   ],
   "source": [
    "###################################\n",
    "# Build the model\n",
    "###################################\n",
    "model = Steves_Prototypical_Network(x_net, device=p.device, x_shape=(2,256))\n",
    "optimizer = Adam(params=model.parameters(), lr=p.lr)"
   ]
  },
  {
   "cell_type": "code",
   "execution_count": 13,
   "id": "22b39ac5",
   "metadata": {
    "execution": {
     "iopub.execute_input": "2022-03-26T00:03:58.811984Z",
     "iopub.status.busy": "2022-03-26T00:03:58.811598Z",
     "iopub.status.idle": "2022-03-26T01:34:25.907079Z",
     "shell.execute_reply": "2022-03-26T01:34:25.906724Z"
    },
    "papermill": {
     "duration": 5427.11578,
     "end_time": "2022-03-26T01:34:25.907168",
     "exception": false,
     "start_time": "2022-03-26T00:03:58.791388",
     "status": "completed"
    },
    "tags": []
   },
   "outputs": [
    {
     "name": "stdout",
     "output_type": "stream",
     "text": [
      "epoch: 1, [batch: 1 / 12600], examples_per_second: 17.9086, train_label_loss: 2.7139, \n"
     ]
    },
    {
     "name": "stdout",
     "output_type": "stream",
     "text": [
      "epoch: 1, [batch: 1260 / 12600], examples_per_second: 1787.9880, train_label_loss: 1.0101, \n"
     ]
    },
    {
     "name": "stdout",
     "output_type": "stream",
     "text": [
      "epoch: 1, [batch: 2520 / 12600], examples_per_second: 1778.0038, train_label_loss: 0.4545, \n"
     ]
    },
    {
     "name": "stdout",
     "output_type": "stream",
     "text": [
      "epoch: 1, [batch: 3780 / 12600], examples_per_second: 1839.6817, train_label_loss: 0.8582, \n"
     ]
    },
    {
     "name": "stdout",
     "output_type": "stream",
     "text": [
      "epoch: 1, [batch: 5040 / 12600], examples_per_second: 2167.1463, train_label_loss: 0.2578, \n"
     ]
    },
    {
     "name": "stdout",
     "output_type": "stream",
     "text": [
      "epoch: 1, [batch: 6300 / 12600], examples_per_second: 3714.6713, train_label_loss: 0.8152, \n"
     ]
    },
    {
     "name": "stdout",
     "output_type": "stream",
     "text": [
      "epoch: 1, [batch: 7560 / 12600], examples_per_second: 3874.9249, train_label_loss: 0.6449, \n"
     ]
    },
    {
     "name": "stdout",
     "output_type": "stream",
     "text": [
      "epoch: 1, [batch: 8820 / 12600], examples_per_second: 3289.6961, train_label_loss: 0.3652, \n"
     ]
    },
    {
     "name": "stdout",
     "output_type": "stream",
     "text": [
      "epoch: 1, [batch: 10080 / 12600], examples_per_second: 1972.8915, train_label_loss: 0.3547, \n"
     ]
    },
    {
     "name": "stdout",
     "output_type": "stream",
     "text": [
      "epoch: 1, [batch: 11340 / 12600], examples_per_second: 2039.2544, train_label_loss: 0.2644, \n"
     ]
    },
    {
     "name": "stdout",
     "output_type": "stream",
     "text": [
      "=============================================================\n",
      "epoch: 1, source_val_acc_label: 0.7360, target_val_acc_label: 0.6846, source_val_label_loss: 0.9512, target_val_label_loss: 1.1300, \n",
      "=============================================================\n"
     ]
    },
    {
     "name": "stdout",
     "output_type": "stream",
     "text": [
      "New best\n"
     ]
    },
    {
     "name": "stdout",
     "output_type": "stream",
     "text": [
      "epoch: 2, [batch: 1 / 12600], examples_per_second: 0.6684, train_label_loss: 0.5529, \n"
     ]
    },
    {
     "name": "stdout",
     "output_type": "stream",
     "text": [
      "epoch: 2, [batch: 1260 / 12600], examples_per_second: 1774.3338, train_label_loss: 0.3396, \n"
     ]
    },
    {
     "name": "stdout",
     "output_type": "stream",
     "text": [
      "epoch: 2, [batch: 2520 / 12600], examples_per_second: 1870.8692, train_label_loss: 0.5241, \n"
     ]
    },
    {
     "name": "stdout",
     "output_type": "stream",
     "text": [
      "epoch: 2, [batch: 3780 / 12600], examples_per_second: 2043.8964, train_label_loss: 0.4468, \n"
     ]
    },
    {
     "name": "stdout",
     "output_type": "stream",
     "text": [
      "epoch: 2, [batch: 5040 / 12600], examples_per_second: 3623.7586, train_label_loss: 0.6118, \n"
     ]
    },
    {
     "name": "stdout",
     "output_type": "stream",
     "text": [
      "epoch: 2, [batch: 6300 / 12600], examples_per_second: 3878.3429, train_label_loss: 0.5573, \n"
     ]
    },
    {
     "name": "stdout",
     "output_type": "stream",
     "text": [
      "epoch: 2, [batch: 7560 / 12600], examples_per_second: 3597.2438, train_label_loss: 0.6393, \n"
     ]
    },
    {
     "name": "stdout",
     "output_type": "stream",
     "text": [
      "epoch: 2, [batch: 8820 / 12600], examples_per_second: 1876.4275, train_label_loss: 0.3857, \n"
     ]
    },
    {
     "name": "stdout",
     "output_type": "stream",
     "text": [
      "epoch: 2, [batch: 10080 / 12600], examples_per_second: 2015.4081, train_label_loss: 0.3919, \n"
     ]
    },
    {
     "name": "stdout",
     "output_type": "stream",
     "text": [
      "epoch: 2, [batch: 11340 / 12600], examples_per_second: 1943.1442, train_label_loss: 0.2291, \n"
     ]
    },
    {
     "name": "stdout",
     "output_type": "stream",
     "text": [
      "=============================================================\n",
      "epoch: 2, source_val_acc_label: 0.8524, target_val_acc_label: 0.7630, source_val_label_loss: 0.4082, target_val_label_loss: 0.7001, \n",
      "=============================================================\n"
     ]
    },
    {
     "name": "stdout",
     "output_type": "stream",
     "text": [
      "New best\n"
     ]
    },
    {
     "name": "stdout",
     "output_type": "stream",
     "text": [
      "epoch: 3, [batch: 1 / 12600], examples_per_second: 1.0931, train_label_loss: 0.4179, \n"
     ]
    },
    {
     "name": "stdout",
     "output_type": "stream",
     "text": [
      "epoch: 3, [batch: 1260 / 12600], examples_per_second: 3997.5083, train_label_loss: 0.6808, \n"
     ]
    },
    {
     "name": "stdout",
     "output_type": "stream",
     "text": [
      "epoch: 3, [batch: 2520 / 12600], examples_per_second: 1929.3833, train_label_loss: 0.4269, \n"
     ]
    },
    {
     "name": "stdout",
     "output_type": "stream",
     "text": [
      "epoch: 3, [batch: 3780 / 12600], examples_per_second: 1789.0577, train_label_loss: 0.3881, \n"
     ]
    },
    {
     "name": "stdout",
     "output_type": "stream",
     "text": [
      "epoch: 3, [batch: 5040 / 12600], examples_per_second: 1866.8035, train_label_loss: 0.3483, \n"
     ]
    },
    {
     "name": "stdout",
     "output_type": "stream",
     "text": [
      "epoch: 3, [batch: 6300 / 12600], examples_per_second: 1778.3149, train_label_loss: 0.3166, \n"
     ]
    },
    {
     "name": "stdout",
     "output_type": "stream",
     "text": [
      "epoch: 3, [batch: 7560 / 12600], examples_per_second: 1856.5586, train_label_loss: 0.4996, \n"
     ]
    },
    {
     "name": "stdout",
     "output_type": "stream",
     "text": [
      "epoch: 3, [batch: 8820 / 12600], examples_per_second: 1758.8950, train_label_loss: 0.3518, \n"
     ]
    },
    {
     "name": "stdout",
     "output_type": "stream",
     "text": [
      "epoch: 3, [batch: 10080 / 12600], examples_per_second: 2653.7088, train_label_loss: 0.5546, \n"
     ]
    },
    {
     "name": "stdout",
     "output_type": "stream",
     "text": [
      "epoch: 3, [batch: 11340 / 12600], examples_per_second: 4241.1552, train_label_loss: 0.1488, \n"
     ]
    },
    {
     "name": "stdout",
     "output_type": "stream",
     "text": [
      "=============================================================\n",
      "epoch: 3, source_val_acc_label: 0.8700, target_val_acc_label: 0.7733, source_val_label_loss: 0.3673, target_val_label_loss: 0.6887, \n",
      "=============================================================\n"
     ]
    },
    {
     "name": "stdout",
     "output_type": "stream",
     "text": [
      "New best\n"
     ]
    },
    {
     "name": "stdout",
     "output_type": "stream",
     "text": [
      "epoch: 4, [batch: 1 / 12600], examples_per_second: 0.9808, train_label_loss: 0.1049, \n"
     ]
    },
    {
     "name": "stdout",
     "output_type": "stream",
     "text": [
      "epoch: 4, [batch: 1260 / 12600], examples_per_second: 1839.1928, train_label_loss: 0.3202, \n"
     ]
    },
    {
     "name": "stdout",
     "output_type": "stream",
     "text": [
      "epoch: 4, [batch: 2520 / 12600], examples_per_second: 1812.7987, train_label_loss: 0.3816, \n"
     ]
    },
    {
     "name": "stdout",
     "output_type": "stream",
     "text": [
      "epoch: 4, [batch: 3780 / 12600], examples_per_second: 1771.2055, train_label_loss: 0.3212, \n"
     ]
    },
    {
     "name": "stdout",
     "output_type": "stream",
     "text": [
      "epoch: 4, [batch: 5040 / 12600], examples_per_second: 1835.2949, train_label_loss: 0.4738, \n"
     ]
    },
    {
     "name": "stdout",
     "output_type": "stream",
     "text": [
      "epoch: 4, [batch: 6300 / 12600], examples_per_second: 1752.2303, train_label_loss: 0.1518, \n"
     ]
    },
    {
     "name": "stdout",
     "output_type": "stream",
     "text": [
      "epoch: 4, [batch: 7560 / 12600], examples_per_second: 1865.2225, train_label_loss: 0.2622, \n"
     ]
    },
    {
     "name": "stdout",
     "output_type": "stream",
     "text": [
      "epoch: 4, [batch: 8820 / 12600], examples_per_second: 1795.9220, train_label_loss: 0.2837, \n"
     ]
    },
    {
     "name": "stdout",
     "output_type": "stream",
     "text": [
      "epoch: 4, [batch: 10080 / 12600], examples_per_second: 2962.9209, train_label_loss: 0.4017, \n"
     ]
    },
    {
     "name": "stdout",
     "output_type": "stream",
     "text": [
      "epoch: 4, [batch: 11340 / 12600], examples_per_second: 4553.1250, train_label_loss: 0.3475, \n"
     ]
    },
    {
     "name": "stdout",
     "output_type": "stream",
     "text": [
      "=============================================================\n",
      "epoch: 4, source_val_acc_label: 0.8740, target_val_acc_label: 0.7688, source_val_label_loss: 0.3609, target_val_label_loss: 0.7241, \n",
      "=============================================================\n"
     ]
    },
    {
     "name": "stdout",
     "output_type": "stream",
     "text": [
      "epoch: 5, [batch: 1 / 12600], examples_per_second: 0.9973, train_label_loss: 0.3033, \n"
     ]
    },
    {
     "name": "stdout",
     "output_type": "stream",
     "text": [
      "epoch: 5, [batch: 1260 / 12600], examples_per_second: 1811.6692, train_label_loss: 0.2415, \n"
     ]
    },
    {
     "name": "stdout",
     "output_type": "stream",
     "text": [
      "epoch: 5, [batch: 2520 / 12600], examples_per_second: 1849.0920, train_label_loss: 0.4808, \n"
     ]
    },
    {
     "name": "stdout",
     "output_type": "stream",
     "text": [
      "epoch: 5, [batch: 3780 / 12600], examples_per_second: 2199.3835, train_label_loss: 0.2710, \n"
     ]
    },
    {
     "name": "stdout",
     "output_type": "stream",
     "text": [
      "epoch: 5, [batch: 5040 / 12600], examples_per_second: 3759.1248, train_label_loss: 0.3085, \n"
     ]
    },
    {
     "name": "stdout",
     "output_type": "stream",
     "text": [
      "epoch: 5, [batch: 6300 / 12600], examples_per_second: 3875.8877, train_label_loss: 0.0996, \n"
     ]
    },
    {
     "name": "stdout",
     "output_type": "stream",
     "text": [
      "epoch: 5, [batch: 7560 / 12600], examples_per_second: 3261.7364, train_label_loss: 0.0801, \n"
     ]
    },
    {
     "name": "stdout",
     "output_type": "stream",
     "text": [
      "epoch: 5, [batch: 8820 / 12600], examples_per_second: 1855.3139, train_label_loss: 0.1576, \n"
     ]
    },
    {
     "name": "stdout",
     "output_type": "stream",
     "text": [
      "epoch: 5, [batch: 10080 / 12600], examples_per_second: 2000.7023, train_label_loss: 0.3306, \n"
     ]
    },
    {
     "name": "stdout",
     "output_type": "stream",
     "text": [
      "epoch: 5, [batch: 11340 / 12600], examples_per_second: 1918.2966, train_label_loss: 0.3625, \n"
     ]
    },
    {
     "name": "stdout",
     "output_type": "stream",
     "text": [
      "=============================================================\n",
      "epoch: 5, source_val_acc_label: 0.8804, target_val_acc_label: 0.7762, source_val_label_loss: 0.3458, target_val_label_loss: 0.7184, \n",
      "=============================================================\n"
     ]
    },
    {
     "name": "stdout",
     "output_type": "stream",
     "text": [
      "New best\n"
     ]
    },
    {
     "name": "stdout",
     "output_type": "stream",
     "text": [
      "epoch: 6, [batch: 1 / 12600], examples_per_second: 0.7380, train_label_loss: 0.1670, \n"
     ]
    },
    {
     "name": "stdout",
     "output_type": "stream",
     "text": [
      "epoch: 6, [batch: 1260 / 12600], examples_per_second: 3904.0287, train_label_loss: 0.0906, \n"
     ]
    },
    {
     "name": "stdout",
     "output_type": "stream",
     "text": [
      "epoch: 6, [batch: 2520 / 12600], examples_per_second: 3946.4195, train_label_loss: 0.2862, \n"
     ]
    },
    {
     "name": "stdout",
     "output_type": "stream",
     "text": [
      "epoch: 6, [batch: 3780 / 12600], examples_per_second: 2023.5417, train_label_loss: 0.4581, \n"
     ]
    },
    {
     "name": "stdout",
     "output_type": "stream",
     "text": [
      "epoch: 6, [batch: 5040 / 12600], examples_per_second: 1780.8635, train_label_loss: 0.1456, \n"
     ]
    },
    {
     "name": "stdout",
     "output_type": "stream",
     "text": [
      "epoch: 6, [batch: 6300 / 12600], examples_per_second: 1861.3828, train_label_loss: 0.1257, \n"
     ]
    },
    {
     "name": "stdout",
     "output_type": "stream",
     "text": [
      "epoch: 6, [batch: 7560 / 12600], examples_per_second: 1775.1560, train_label_loss: 0.3606, \n"
     ]
    },
    {
     "name": "stdout",
     "output_type": "stream",
     "text": [
      "epoch: 6, [batch: 8820 / 12600], examples_per_second: 1880.5339, train_label_loss: 0.0749, \n"
     ]
    },
    {
     "name": "stdout",
     "output_type": "stream",
     "text": [
      "epoch: 6, [batch: 10080 / 12600], examples_per_second: 1945.0447, train_label_loss: 0.1943, \n"
     ]
    },
    {
     "name": "stdout",
     "output_type": "stream",
     "text": [
      "epoch: 6, [batch: 11340 / 12600], examples_per_second: 1959.2677, train_label_loss: 0.1111, \n"
     ]
    },
    {
     "name": "stdout",
     "output_type": "stream",
     "text": [
      "=============================================================\n",
      "epoch: 6, source_val_acc_label: 0.8830, target_val_acc_label: 0.7703, source_val_label_loss: 0.3425, target_val_label_loss: 0.7229, \n",
      "=============================================================\n"
     ]
    },
    {
     "name": "stdout",
     "output_type": "stream",
     "text": [
      "epoch: 7, [batch: 1 / 12600], examples_per_second: 0.8659, train_label_loss: 0.0209, \n"
     ]
    },
    {
     "name": "stdout",
     "output_type": "stream",
     "text": [
      "epoch: 7, [batch: 1260 / 12600], examples_per_second: 3875.5469, train_label_loss: 0.1030, \n"
     ]
    },
    {
     "name": "stdout",
     "output_type": "stream",
     "text": [
      "epoch: 7, [batch: 2520 / 12600], examples_per_second: 2479.4502, train_label_loss: 0.1925, \n"
     ]
    },
    {
     "name": "stdout",
     "output_type": "stream",
     "text": [
      "epoch: 7, [batch: 3780 / 12600], examples_per_second: 1906.0254, train_label_loss: 0.2143, \n"
     ]
    },
    {
     "name": "stdout",
     "output_type": "stream",
     "text": [
      "epoch: 7, [batch: 5040 / 12600], examples_per_second: 1768.7143, train_label_loss: 0.0911, \n"
     ]
    },
    {
     "name": "stdout",
     "output_type": "stream",
     "text": [
      "epoch: 7, [batch: 6300 / 12600], examples_per_second: 1833.4654, train_label_loss: 0.1481, \n"
     ]
    },
    {
     "name": "stdout",
     "output_type": "stream",
     "text": [
      "epoch: 7, [batch: 7560 / 12600], examples_per_second: 1801.3272, train_label_loss: 0.1770, \n"
     ]
    },
    {
     "name": "stdout",
     "output_type": "stream",
     "text": [
      "epoch: 7, [batch: 8820 / 12600], examples_per_second: 2300.3739, train_label_loss: 0.1426, \n"
     ]
    },
    {
     "name": "stdout",
     "output_type": "stream",
     "text": [
      "epoch: 7, [batch: 10080 / 12600], examples_per_second: 4213.1541, train_label_loss: 0.0832, \n"
     ]
    },
    {
     "name": "stdout",
     "output_type": "stream",
     "text": [
      "epoch: 7, [batch: 11340 / 12600], examples_per_second: 4217.3177, train_label_loss: 0.2032, \n"
     ]
    },
    {
     "name": "stdout",
     "output_type": "stream",
     "text": [
      "=============================================================\n",
      "epoch: 7, source_val_acc_label: 0.8822, target_val_acc_label: 0.7685, source_val_label_loss: 0.3458, target_val_label_loss: 0.7466, \n",
      "=============================================================\n"
     ]
    },
    {
     "name": "stdout",
     "output_type": "stream",
     "text": [
      "epoch: 8, [batch: 1 / 12600], examples_per_second: 0.7684, train_label_loss: 0.1115, \n"
     ]
    },
    {
     "name": "stdout",
     "output_type": "stream",
     "text": [
      "epoch: 8, [batch: 1260 / 12600], examples_per_second: 1762.9424, train_label_loss: 0.3965, \n"
     ]
    },
    {
     "name": "stdout",
     "output_type": "stream",
     "text": [
      "epoch: 8, [batch: 2520 / 12600], examples_per_second: 1828.1557, train_label_loss: 0.0892, \n"
     ]
    },
    {
     "name": "stdout",
     "output_type": "stream",
     "text": [
      "epoch: 8, [batch: 3780 / 12600], examples_per_second: 1776.2819, train_label_loss: 0.1774, \n"
     ]
    },
    {
     "name": "stdout",
     "output_type": "stream",
     "text": [
      "epoch: 8, [batch: 5040 / 12600], examples_per_second: 1849.2825, train_label_loss: 0.2316, \n"
     ]
    },
    {
     "name": "stdout",
     "output_type": "stream",
     "text": [
      "epoch: 8, [batch: 6300 / 12600], examples_per_second: 1769.7845, train_label_loss: 0.2015, \n"
     ]
    },
    {
     "name": "stdout",
     "output_type": "stream",
     "text": [
      "epoch: 8, [batch: 7560 / 12600], examples_per_second: 1917.4515, train_label_loss: 0.1295, \n"
     ]
    },
    {
     "name": "stdout",
     "output_type": "stream",
     "text": [
      "epoch: 8, [batch: 8820 / 12600], examples_per_second: 3478.2775, train_label_loss: 0.0535, \n"
     ]
    },
    {
     "name": "stdout",
     "output_type": "stream",
     "text": [
      "epoch: 8, [batch: 10080 / 12600], examples_per_second: 4301.8043, train_label_loss: 0.3988, \n"
     ]
    },
    {
     "name": "stdout",
     "output_type": "stream",
     "text": [
      "epoch: 8, [batch: 11340 / 12600], examples_per_second: 4793.1502, train_label_loss: 0.2672, \n"
     ]
    },
    {
     "name": "stdout",
     "output_type": "stream",
     "text": [
      "=============================================================\n",
      "epoch: 8, source_val_acc_label: 0.8817, target_val_acc_label: 0.7656, source_val_label_loss: 0.3478, target_val_label_loss: 0.7477, \n",
      "=============================================================\n"
     ]
    },
    {
     "name": "stdout",
     "output_type": "stream",
     "text": [
      "epoch: 9, [batch: 1 / 12600], examples_per_second: 0.7040, train_label_loss: 0.2113, \n"
     ]
    },
    {
     "name": "stdout",
     "output_type": "stream",
     "text": [
      "epoch: 9, [batch: 1260 / 12600], examples_per_second: 1766.1531, train_label_loss: 0.1208, \n"
     ]
    },
    {
     "name": "stdout",
     "output_type": "stream",
     "text": [
      "epoch: 9, [batch: 2520 / 12600], examples_per_second: 1804.9117, train_label_loss: 0.0339, \n"
     ]
    },
    {
     "name": "stdout",
     "output_type": "stream",
     "text": [
      "epoch: 9, [batch: 3780 / 12600], examples_per_second: 1775.3316, train_label_loss: 0.2609, \n"
     ]
    },
    {
     "name": "stdout",
     "output_type": "stream",
     "text": [
      "epoch: 9, [batch: 5040 / 12600], examples_per_second: 1768.1948, train_label_loss: 0.0262, \n"
     ]
    },
    {
     "name": "stdout",
     "output_type": "stream",
     "text": [
      "epoch: 9, [batch: 6300 / 12600], examples_per_second: 1829.4216, train_label_loss: 0.2467, \n"
     ]
    },
    {
     "name": "stdout",
     "output_type": "stream",
     "text": [
      "epoch: 9, [batch: 7560 / 12600], examples_per_second: 2343.8380, train_label_loss: 0.3233, \n"
     ]
    },
    {
     "name": "stdout",
     "output_type": "stream",
     "text": [
      "epoch: 9, [batch: 8820 / 12600], examples_per_second: 4252.6444, train_label_loss: 0.2166, \n"
     ]
    },
    {
     "name": "stdout",
     "output_type": "stream",
     "text": [
      "epoch: 9, [batch: 10080 / 12600], examples_per_second: 4374.2408, train_label_loss: 0.2134, \n"
     ]
    },
    {
     "name": "stdout",
     "output_type": "stream",
     "text": [
      "epoch: 9, [batch: 11340 / 12600], examples_per_second: 4260.9331, train_label_loss: 0.1662, \n"
     ]
    },
    {
     "name": "stdout",
     "output_type": "stream",
     "text": [
      "=============================================================\n",
      "epoch: 9, source_val_acc_label: 0.8820, target_val_acc_label: 0.7638, source_val_label_loss: 0.3521, target_val_label_loss: 0.7399, \n",
      "=============================================================\n"
     ]
    },
    {
     "name": "stdout",
     "output_type": "stream",
     "text": [
      "Patience (3) exhausted\n"
     ]
    }
   ],
   "source": [
    "###################################\n",
    "# train\n",
    "###################################\n",
    "jig = PTN_Train_Eval_Test_Jig(model, p.BEST_MODEL_PATH, p.device)\n",
    "\n",
    "jig.train(\n",
    "    train_iterable=datasets.source.processed.train,\n",
    "    source_val_iterable=datasets.source.processed.val,\n",
    "    target_val_iterable=datasets.target.processed.val,\n",
    "    num_epochs=p.n_epoch,\n",
    "    num_logs_per_epoch=p.NUM_LOGS_PER_EPOCH,\n",
    "    patience=p.patience,\n",
    "    optimizer=optimizer,\n",
    "    criteria_for_best=p.criteria_for_best,\n",
    ")"
   ]
  },
  {
   "cell_type": "code",
   "execution_count": 14,
   "id": "31e8fabf",
   "metadata": {
    "execution": {
     "iopub.execute_input": "2022-03-26T01:34:26.001690Z",
     "iopub.status.busy": "2022-03-26T01:34:26.001043Z",
     "iopub.status.idle": "2022-03-26T01:34:26.032602Z",
     "shell.execute_reply": "2022-03-26T01:34:26.031776Z"
    },
    "papermill": {
     "duration": 0.081551,
     "end_time": "2022-03-26T01:34:26.032777",
     "exception": false,
     "start_time": "2022-03-26T01:34:25.951226",
     "status": "completed"
    },
    "tags": []
   },
   "outputs": [],
   "source": [
    "total_experiment_time_secs = time.time() - start_time_secs"
   ]
  },
  {
   "cell_type": "code",
   "execution_count": 15,
   "id": "87b9595b",
   "metadata": {
    "execution": {
     "iopub.execute_input": "2022-03-26T01:34:26.150281Z",
     "iopub.status.busy": "2022-03-26T01:34:26.147626Z",
     "iopub.status.idle": "2022-03-26T01:44:05.246225Z",
     "shell.execute_reply": "2022-03-26T01:44:05.245480Z"
    },
    "papermill": {
     "duration": 579.152386,
     "end_time": "2022-03-26T01:44:05.246425",
     "exception": false,
     "start_time": "2022-03-26T01:34:26.094039",
     "status": "completed"
    },
    "tags": []
   },
   "outputs": [],
   "source": [
    "###################################\n",
    "# Evaluate the model\n",
    "###################################\n",
    "source_test_label_accuracy, source_test_label_loss = jig.test(datasets.source.processed.test)\n",
    "target_test_label_accuracy, target_test_label_loss = jig.test(datasets.target.processed.test)\n",
    "\n",
    "source_val_label_accuracy, source_val_label_loss = jig.test(datasets.source.processed.val)\n",
    "target_val_label_accuracy, target_val_label_loss = jig.test(datasets.target.processed.val)\n",
    "\n",
    "history = jig.get_history()\n",
    "\n",
    "total_epochs_trained = len(history[\"epoch_indices\"])\n",
    "\n",
    "val_dl = Iterable_Aggregator((datasets.source.original.val,datasets.target.original.val))\n",
    "\n",
    "confusion = ptn_confusion_by_domain_over_dataloader(model, p.device, val_dl)\n",
    "per_domain_accuracy = per_domain_accuracy_from_confusion(confusion)\n",
    "\n",
    "# Add a key to per_domain_accuracy for if it was a source domain\n",
    "for domain, accuracy in per_domain_accuracy.items():\n",
    "    per_domain_accuracy[domain] = {\n",
    "        \"accuracy\": accuracy,\n",
    "        \"source?\": domain in p.domains_source\n",
    "    }\n",
    "\n",
    "# Do an independent accuracy assesment JUST TO BE SURE!\n",
    "# _source_test_label_accuracy = independent_accuracy_assesment(model, datasets.source.processed.test, p.device)\n",
    "# _target_test_label_accuracy = independent_accuracy_assesment(model, datasets.target.processed.test, p.device)\n",
    "# _source_val_label_accuracy = independent_accuracy_assesment(model, datasets.source.processed.val, p.device)\n",
    "# _target_val_label_accuracy = independent_accuracy_assesment(model, datasets.target.processed.val, p.device)\n",
    "\n",
    "# assert(_source_test_label_accuracy == source_test_label_accuracy)\n",
    "# assert(_target_test_label_accuracy == target_test_label_accuracy)\n",
    "# assert(_source_val_label_accuracy == source_val_label_accuracy)\n",
    "# assert(_target_val_label_accuracy == target_val_label_accuracy)\n",
    "\n",
    "experiment = {\n",
    "    \"experiment_name\": p.experiment_name,\n",
    "    \"parameters\": dict(p),\n",
    "    \"results\": {\n",
    "        \"source_test_label_accuracy\": source_test_label_accuracy,\n",
    "        \"source_test_label_loss\": source_test_label_loss,\n",
    "        \"target_test_label_accuracy\": target_test_label_accuracy,\n",
    "        \"target_test_label_loss\": target_test_label_loss,\n",
    "        \"source_val_label_accuracy\": source_val_label_accuracy,\n",
    "        \"source_val_label_loss\": source_val_label_loss,\n",
    "        \"target_val_label_accuracy\": target_val_label_accuracy,\n",
    "        \"target_val_label_loss\": target_val_label_loss,\n",
    "        \"total_epochs_trained\": total_epochs_trained,\n",
    "        \"total_experiment_time_secs\": total_experiment_time_secs,\n",
    "        \"confusion\": confusion,\n",
    "        \"per_domain_accuracy\": per_domain_accuracy,\n",
    "    },\n",
    "    \"history\": history,\n",
    "    \"dataset_metrics\": get_dataset_metrics(datasets, \"ptn\"),\n",
    "}"
   ]
  },
  {
   "cell_type": "code",
   "execution_count": 16,
   "id": "54a21829",
   "metadata": {
    "execution": {
     "iopub.execute_input": "2022-03-26T01:44:05.347199Z",
     "iopub.status.busy": "2022-03-26T01:44:05.346801Z",
     "iopub.status.idle": "2022-03-26T01:44:05.575157Z",
     "shell.execute_reply": "2022-03-26T01:44:05.575873Z"
    },
    "papermill": {
     "duration": 0.277595,
     "end_time": "2022-03-26T01:44:05.576060",
     "exception": false,
     "start_time": "2022-03-26T01:44:05.298465",
     "status": "completed"
    },
    "tags": []
   },
   "outputs": [
    {
     "data": {
      "image/png": "[encoded data removed]",
      "text/plain": [
       "<Figure size 1080x504 with 1 Axes>"
      ]
     },
     "metadata": {
      "needs_background": "light"
     },
     "output_type": "display_data"
    }
   ],
   "source": [
    "ax = get_loss_curve(experiment)\n",
    "plt.show()"
   ]
  },
  {
   "cell_type": "code",
   "execution_count": 17,
   "id": "fd8a0f60",
   "metadata": {
    "execution": {
     "iopub.execute_input": "2022-03-26T01:44:05.679252Z",
     "iopub.status.busy": "2022-03-26T01:44:05.678871Z",
     "iopub.status.idle": "2022-03-26T01:44:06.021779Z",
     "shell.execute_reply": "2022-03-26T01:44:06.022470Z"
    },
    "papermill": {
     "duration": 0.392124,
     "end_time": "2022-03-26T01:44:06.022656",
     "exception": false,
     "start_time": "2022-03-26T01:44:05.630532",
     "status": "completed"
    },
    "tags": []
   },
   "outputs": [
    {
     "data": {
      "text/plain": [
       "<AxesSubplot:title={'center':'Results'}>"
      ]
     },
     "execution_count": 17,
     "metadata": {},
     "output_type": "execute_result"
    },
    {
     "data": {
      "image/png": "[encoded data removed]",
      "text/plain": [
       "<Figure size 1080x504 with 1 Axes>"
      ]
     },
     "metadata": {
      "needs_background": "light"
     },
     "output_type": "display_data"
    }
   ],
   "source": [
    "get_results_table(experiment)"
   ]
  },
  {
   "cell_type": "code",
   "execution_count": 18,
   "id": "cf8dc689",
   "metadata": {
    "execution": {
     "iopub.execute_input": "2022-03-26T01:44:06.124455Z",
     "iopub.status.busy": "2022-03-26T01:44:06.124079Z",
     "iopub.status.idle": "2022-03-26T01:44:06.336602Z",
     "shell.execute_reply": "2022-03-26T01:44:06.337299Z"
    },
    "papermill": {
     "duration": 0.263628,
     "end_time": "2022-03-26T01:44:06.337509",
     "exception": false,
     "start_time": "2022-03-26T01:44:06.073881",
     "status": "completed"
    },
    "tags": []
   },
   "outputs": [
    {
     "data": {
      "text/plain": [
       "<AxesSubplot:title={'center':'Per Domain Validation Accuracy'}, xlabel='domain'>"
      ]
     },
     "execution_count": 18,
     "metadata": {},
     "output_type": "execute_result"
    },
    {
     "data": {
      "image/png": "[encoded data removed]",
      "text/plain": [
       "<Figure size 1080x504 with 1 Axes>"
      ]
     },
     "metadata": {
      "needs_background": "light"
     },
     "output_type": "display_data"
    }
   ],
   "source": [
    "get_domain_accuracies(experiment)"
   ]
  },
  {
   "cell_type": "code",
   "execution_count": 19,
   "id": "a74ae082",
   "metadata": {
    "execution": {
     "iopub.execute_input": "2022-03-26T01:44:06.442139Z",
     "iopub.status.busy": "2022-03-26T01:44:06.441412Z",
     "iopub.status.idle": "2022-03-26T01:44:06.465623Z",
     "shell.execute_reply": "2022-03-26T01:44:06.464912Z"
    },
    "papermill": {
     "duration": 0.075534,
     "end_time": "2022-03-26T01:44:06.465781",
     "exception": false,
     "start_time": "2022-03-26T01:44:06.390247",
     "status": "completed"
    },
    "tags": []
   },
   "outputs": [
    {
     "name": "stdout",
     "output_type": "stream",
     "text": [
      "Source Test Label Accuracy: 0.87859375 Target Test Label Accuracy: 0.7770416666666666\n",
      "Source Val Label Accuracy: 0.8803819444444444 Target Val Label Accuracy: 0.77621875\n"
     ]
    }
   ],
   "source": [
    "print(\"Source Test Label Accuracy:\", experiment[\"results\"][\"source_test_label_accuracy\"], \"Target Test Label Accuracy:\", experiment[\"results\"][\"target_test_label_accuracy\"])\n",
    "print(\"Source Val Label Accuracy:\", experiment[\"results\"][\"source_val_label_accuracy\"], \"Target Val Label Accuracy:\", experiment[\"results\"][\"target_val_label_accuracy\"])"
   ]
  },
  {
   "cell_type": "code",
   "execution_count": 20,
   "id": "dacca602",
   "metadata": {
    "execution": {
     "iopub.execute_input": "2022-03-26T01:44:06.572927Z",
     "iopub.status.busy": "2022-03-26T01:44:06.572555Z",
     "iopub.status.idle": "2022-03-26T01:44:06.599383Z",
     "shell.execute_reply": "2022-03-26T01:44:06.600081Z"
    },
    "papermill": {
     "duration": 0.080329,
     "end_time": "2022-03-26T01:44:06.600268",
     "exception": false,
     "start_time": "2022-03-26T01:44:06.519939",
     "status": "completed"
    },
    "tags": [
     "experiment_json"
    ]
   },
   "outputs": [
    {
     "data": {
      "text/plain": [
       "'{\"experiment_name\": \"tuned_1v2:oracle.run1_limited\", \"parameters\": {\"experiment_name\": \"tuned_1v2:oracle.run1_limited\", \"device\": \"cuda\", \"lr\": 0.0001, \"labels_source\": [\"3123D52\", \"3123D65\", \"3123D79\", \"3123D80\", \"3123D54\", \"3123D70\", \"3123D7B\", \"3123D89\", \"3123D58\", \"3123D76\", \"3123D7D\", \"3123EFE\", \"3123D64\", \"3123D78\", \"3123D7E\", \"3124E4A\"], \"labels_target\": [\"3123D52\", \"3123D65\", \"3123D79\", \"3123D80\", \"3123D54\", \"3123D70\", \"3123D7B\", \"3123D89\", \"3123D58\", \"3123D76\", \"3123D7D\", \"3123EFE\", \"3123D64\", \"3123D78\", \"3123D7E\", \"3124E4A\"], \"episode_transforms_source\": [], \"episode_transforms_target\": [], \"domains_source\": [8, 32, 50], \"domains_target\": [14, 20, 26, 38, 44], \"num_examples_per_domain_per_label_source\": -1, \"num_examples_per_domain_per_label_target\": -1, \"n_shot\": 3, \"n_way\": 16, \"n_query\": 2, \"train_k_factor\": 3, \"val_k_factor\": 2, \"test_k_factor\": 2, \"torch_default_dtype\": \"torch.float32\", \"n_epoch\": 50, \"patience\": 3, \"criteria_for_best\": \"target_accuracy\", \"x_net\": [{\"class\": \"nnReshape\", \"kargs\": {\"shape\": [-1, 1, 2, 256]}}, {\"class\": \"Conv2d\", \"kargs\": {\"in_channels\": 1, \"out_channels\": 256, \"kernel_size\": [1, 7], \"bias\": false, \"padding\": [0, 3]}}, {\"class\": \"ReLU\", \"kargs\": {\"inplace\": true}}, {\"class\": \"BatchNorm2d\", \"kargs\": {\"num_features\": 256}}, {\"class\": \"Conv2d\", \"kargs\": {\"in_channels\": 256, \"out_channels\": 80, \"kernel_size\": [2, 7], \"bias\": true, \"padding\": [0, 3]}}, {\"class\": \"ReLU\", \"kargs\": {\"inplace\": true}}, {\"class\": \"BatchNorm2d\", \"kargs\": {\"num_features\": 80}}, {\"class\": \"Flatten\", \"kargs\": {}}, {\"class\": \"Linear\", \"kargs\": {\"in_features\": 20480, \"out_features\": 256}}, {\"class\": \"ReLU\", \"kargs\": {\"inplace\": true}}, {\"class\": \"BatchNorm1d\", \"kargs\": {\"num_features\": 256}}, {\"class\": \"Linear\", \"kargs\": {\"in_features\": 256, \"out_features\": 256}}], \"NUM_LOGS_PER_EPOCH\": 10, \"BEST_MODEL_PATH\": \"./best_model.pth\", \"pickle_name\": \"oracle.Run1_10kExamples_stratified_ds.2022A.pkl\", \"x_transforms_source\": [], \"x_transforms_target\": [], \"dataset_seed\": 1337, \"seed\": 1337}, \"results\": {\"source_test_label_accuracy\": 0.87859375, \"source_test_label_loss\": 0.34439176321029663, \"target_test_label_accuracy\": 0.7770416666666666, \"target_test_label_loss\": 0.7158490419387817, \"source_val_label_accuracy\": 0.8803819444444444, \"source_val_label_loss\": 0.34582480788230896, \"target_val_label_accuracy\": 0.77621875, \"target_val_label_loss\": 0.7184126973152161, \"total_epochs_trained\": 9, \"total_experiment_time_secs\": 5446.736634016037, \"confusion\": {\"8\": {\"15\": {\"15\": 955, \"12\": 221, \"2\": 24}, \"3\": {\"3\": 1193, \"2\": 7}, \"6\": {\"7\": 136, \"6\": 1012, \"13\": 22, \"10\": 15, \"4\": 7, \"1\": 6, \"11\": 2}, \"1\": {\"1\": 933, \"11\": 187, \"5\": 30, \"10\": 44, \"6\": 1, \"13\": 2, \"4\": 3}, \"8\": {\"8\": 1160, \"4\": 17, \"6\": 19, \"10\": 1, \"14\": 1, \"11\": 2}, \"10\": {\"10\": 962, \"13\": 142, \"1\": 40, \"5\": 38, \"4\": 4, \"6\": 14}, \"9\": {\"9\": 1200}, \"13\": {\"13\": 1017, \"7\": 56, \"10\": 123, \"6\": 4}, \"12\": {\"12\": 852, \"15\": 332, \"2\": 16}, \"5\": {\"5\": 1044, \"14\": 3, \"11\": 11, \"10\": 86, \"1\": 55, \"13\": 1}, \"0\": {\"0\": 1199, \"14\": 1}, \"2\": {\"2\": 999, \"12\": 45, \"15\": 49, \"3\": 107}, \"11\": {\"11\": 786, \"1\": 340, \"4\": 24, \"14\": 24, \"8\": 12, \"5\": 10, \"6\": 3, \"10\": 1}, \"14\": {\"14\": 1129, \"4\": 59, \"11\": 10, \"1\": 1, \"8\": 1}, \"7\": {\"7\": 1063, \"6\": 105, \"13\": 32}, \"4\": {\"4\": 1148, \"14\": 16, \"11\": 9, \"10\": 2, \"6\": 10, \"1\": 5, \"8\": 10}}, \"50\": {\"3\": {\"3\": 1200}, \"15\": {\"15\": 1125, \"11\": 8, \"6\": 63, \"9\": 2, \"4\": 2}, \"8\": {\"8\": 1194, \"10\": 6}, \"4\": {\"4\": 1014, \"7\": 103, \"5\": 39, \"15\": 25, \"6\": 19}, \"14\": {\"14\": 1198, \"2\": 2}, \"0\": {\"0\": 1104, \"2\": 78, \"10\": 18}, \"7\": {\"7\": 1100, \"5\": 66, \"4\": 34}, \"6\": {\"15\": 89, \"6\": 1014, \"5\": 97}, \"10\": {\"10\": 1177, \"8\": 12, \"0\": 11}, \"5\": {\"7\": 293, \"6\": 228, \"5\": 558, \"4\": 58, \"13\": 55, \"15\": 6, \"1\": 2}, \"2\": {\"2\": 1138, \"14\": 2, \"0\": 60}, \"12\": {\"12\": 1109, \"9\": 66, \"11\": 25}, \"9\": {\"9\": 1025, \"12\": 102, \"11\": 65, \"15\": 8}, \"1\": {\"1\": 1170, \"13\": 27, \"10\": 2, \"11\": 1}, \"11\": {\"11\": 1120, \"9\": 32, \"15\": 11, \"12\": 37}, \"13\": {\"13\": 1195, \"1\": 5}}, \"32\": {\"5\": {\"7\": 232, \"8\": 117, \"5\": 707, \"14\": 52, \"0\": 89, \"15\": 3}, \"8\": {\"8\": 888, \"0\": 139, \"5\": 102, \"2\": 5, \"4\": 16, \"14\": 27, \"7\": 19, \"15\": 3, \"3\": 1}, \"11\": {\"11\": 1191, \"13\": 9}, \"1\": {\"1\": 1200}, \"10\": {\"10\": 1200}, \"15\": {\"15\": 1185, \"8\": 12, \"5\": 3}, \"3\": {\"3\": 1135, \"13\": 65}, \"7\": {\"7\": 808, \"14\": 104, \"5\": 188, \"0\": 91, \"8\": 9}, \"4\": {\"2\": 126, \"4\": 1052, \"13\": 20, \"14\": 1, \"8\": 1}, \"14\": {\"0\": 39, \"14\": 762, \"2\": 47, \"5\": 58, \"7\": 243, \"8\": 31, \"13\": 1, \"4\": 19}, \"9\": {\"9\": 1185, \"12\": 13, \"2\": 2}, \"12\": {\"12\": 1200}, \"6\": {\"6\": 1200}, \"2\": {\"2\": 1070, \"4\": 129, \"14\": 1}, \"0\": {\"0\": 909, \"7\": 115, \"8\": 102, \"5\": 53, \"14\": 21}, \"13\": {\"13\": 925, \"4\": 126, \"3\": 126, \"11\": 23}}, \"14\": {\"15\": {\"15\": 1200}, \"3\": {\"3\": 1116, \"2\": 9, \"13\": 10, \"14\": 33, \"0\": 15, \"6\": 16, \"5\": 1}, \"6\": {\"13\": 314, \"6\": 722, \"3\": 37, \"14\": 99, \"2\": 28}, \"1\": {\"1\": 1200}, \"8\": {\"8\": 1195, \"0\": 4, \"5\": 1}, \"10\": {\"10\": 1196, \"4\": 2, \"0\": 1, \"9\": 1}, \"9\": {\"9\": 1200}, \"13\": {\"13\": 230, \"14\": 264, \"15\": 105, \"4\": 48, \"6\": 439, \"2\": 84, \"0\": 8, \"3\": 19, \"5\": 3}, \"12\": {\"12\": 1200}, \"5\": {\"5\": 1033, \"2\": 114, \"4\": 15, \"3\": 2, \"7\": 19, \"14\": 15, \"8\": 2}, \"0\": {\"0\": 917, \"3\": 163, \"4\": 33, \"10\": 32, \"14\": 41, \"13\": 6, \"8\": 1, \"2\": 5, \"5\": 2}, \"2\": {\"2\": 403, \"5\": 189, \"6\": 99, \"4\": 137, \"13\": 67, \"14\": 192, \"3\": 81, \"0\": 16, \"7\": 16}, \"11\": {\"11\": 1181, \"10\": 9, \"9\": 10}, \"14\": {\"3\": 34, \"14\": 890, \"6\": 24, \"2\": 127, \"13\": 103, \"5\": 5, \"0\": 17}, \"7\": {\"7\": 1190, \"5\": 6, \"2\": 4}, \"4\": {\"4\": 1168, \"5\": 16, \"2\": 11, \"1\": 3, \"10\": 1, \"8\": 1}}, \"20\": {\"3\": {\"5\": 155, \"8\": 115, \"12\": 36, \"3\": 502, \"1\": 105, \"9\": 216, \"0\": 19, \"2\": 21, \"4\": 11, \"7\": 13, \"13\": 1, \"15\": 5, \"14\": 1}, \"15\": {\"12\": 171, \"9\": 39, \"15\": 598, \"5\": 85, \"1\": 243, \"13\": 26, \"2\": 15, \"4\": 2, \"3\": 20, \"7\": 1}, \"8\": {\"8\": 776, \"3\": 148, \"9\": 53, \"4\": 17, \"14\": 136, \"1\": 2, \"7\": 46, \"6\": 1, \"12\": 3, \"5\": 9, \"0\": 4, \"2\": 5}, \"4\": {\"10\": 60, \"4\": 969, \"12\": 94, \"2\": 20, \"8\": 4, \"6\": 6, \"7\": 33, \"14\": 4, \"9\": 3, \"5\": 2, \"15\": 2, \"1\": 3}, \"14\": {\"14\": 959, \"8\": 125, \"6\": 70, \"7\": 37, \"4\": 4, \"10\": 3, \"3\": 2}, \"0\": {\"0\": 1069, \"5\": 65, \"3\": 28, \"8\": 10, \"1\": 25, \"9\": 3}, \"7\": {\"7\": 620, \"9\": 111, \"13\": 51, \"3\": 17, \"2\": 244, \"8\": 29, \"12\": 22, \"4\": 32, \"14\": 31, \"6\": 42, \"10\": 1}, \"6\": {\"7\": 69, \"6\": 1039, \"14\": 59, \"10\": 27, \"2\": 3, \"8\": 1, \"13\": 1, \"4\": 1}, \"10\": {\"10\": 1096, \"4\": 74, \"6\": 27, \"7\": 3}, \"5\": {\"1\": 378, \"15\": 81, \"12\": 55, \"5\": 467, \"3\": 158, \"9\": 48, \"13\": 1, \"4\": 3, \"8\": 4, \"0\": 5}, \"2\": {\"2\": 396, \"13\": 188, \"12\": 128, \"7\": 220, \"9\": 170, \"3\": 21, \"15\": 19, \"1\": 11, \"8\": 9, \"4\": 27, \"5\": 7, \"6\": 4}, \"12\": {\"12\": 603, \"2\": 121, \"4\": 64, \"9\": 87, \"15\": 143, \"13\": 31, \"3\": 29, \"7\": 17, \"1\": 65, \"5\": 40}, \"9\": {\"3\": 212, \"2\": 158, \"9\": 476, \"12\": 78, \"7\": 87, \"5\": 40, \"1\": 53, \"4\": 5, \"8\": 38, \"13\": 37, \"15\": 16}, \"1\": {\"1\": 446, \"15\": 183, \"5\": 355, \"3\": 73, \"12\": 66, \"9\": 63, \"13\": 4, \"8\": 5, \"0\": 1, \"2\": 3, \"4\": 1}, \"11\": {\"11\": 1200}, \"13\": {\"13\": 844, \"12\": 49, \"2\": 206, \"7\": 32, \"9\": 23, \"1\": 8, \"15\": 32, \"3\": 3, \"5\": 1, \"6\": 1, \"4\": 1}}, \"44\": {\"5\": {\"5\": 1053, \"15\": 84, \"14\": 42, \"8\": 18, \"4\": 1, \"0\": 2}, \"8\": {\"8\": 840, \"15\": 55, \"0\": 262, \"5\": 43}, \"11\": {\"11\": 1200}, \"1\": {\"1\": 1122, \"2\": 78}, \"10\": {\"10\": 1106, \"7\": 33, \"1\": 21, \"2\": 40}, \"15\": {\"14\": 108, \"5\": 57, \"15\": 981, \"8\": 38, \"0\": 10, \"4\": 6}, \"3\": {\"3\": 1134, \"12\": 66}, \"7\": {\"7\": 1049, \"9\": 136, \"10\": 13, \"6\": 2}, \"4\": {\"14\": 431, \"4\": 739, \"15\": 24, \"13\": 2, \"9\": 4}, \"14\": {\"14\": 874, \"4\": 240, \"15\": 48, \"5\": 37, \"9\": 1}, \"9\": {\"7\": 375, \"9\": 522, \"13\": 97, \"6\": 198, \"4\": 2, \"2\": 6}, \"12\": {\"12\": 1153, \"3\": 47}, \"6\": {\"6\": 1008, \"9\": 70, \"13\": 122}, \"2\": {\"2\": 1131, \"1\": 64, \"10\": 5}, \"0\": {\"0\": 1073, \"8\": 126, \"15\": 1}, \"13\": {\"13\": 970, \"9\": 20, \"6\": 208, \"11\": 2}}, \"38\": {\"14\": {\"14\": 1030, \"2\": 163, \"13\": 6, \"4\": 1}, \"0\": {\"0\": 764, \"7\": 153, \"13\": 77, \"10\": 144, \"3\": 58, \"4\": 1, \"8\": 3}, \"13\": {\"13\": 1126, \"2\": 3, \"10\": 53, \"0\": 10, \"4\": 1, \"14\": 7}, \"7\": {\"7\": 1171, \"9\": 7, \"0\": 10, \"8\": 9, \"5\": 3}, \"9\": {\"9\": 1164, \"7\": 7, \"5\": 24, \"8\": 5}, \"3\": {\"3\": 1200}, \"11\": {\"11\": 1200}, \"6\": {\"6\": 1199, \"1\": 1}, \"8\": {\"8\": 593, \"5\": 394, \"7\": 152, \"15\": 27, \"0\": 6, \"12\": 9, \"13\": 8, \"2\": 4, \"9\": 7}, \"4\": {\"4\": 1195, \"0\": 3, \"10\": 2}, \"5\": {\"9\": 104, \"8\": 412, \"5\": 512, \"15\": 61, \"7\": 103, \"12\": 6, \"13\": 2}, \"10\": {\"10\": 1085, \"13\": 54, \"0\": 51, \"4\": 10}, \"1\": {\"1\": 1197, \"6\": 3}, \"2\": {\"2\": 1085, \"14\": 114, \"13\": 1}, \"15\": {\"15\": 1085, \"8\": 35, \"1\": 39, \"5\": 39, \"12\": 2}, \"12\": {\"12\": 1190, \"8\": 8, \"15\": 1, \"5\": 1}}, \"26\": {\"13\": {\"13\": 1023, \"3\": 23, \"9\": 87, \"4\": 30, \"2\": 23, \"8\": 6, \"7\": 8}, \"2\": {\"2\": 669, \"9\": 86, \"7\": 211, \"3\": 89, \"8\": 86, \"0\": 55, \"14\": 1, \"15\": 1, \"13\": 1, \"10\": 1}, \"8\": {\"9\": 233, \"8\": 671, \"2\": 72, \"7\": 198, \"0\": 18, \"3\": 8}, \"9\": {\"8\": 292, \"9\": 605, \"13\": 118, \"2\": 95, \"7\": 57, \"3\": 25, \"0\": 8}, \"12\": {\"12\": 1200}, \"4\": {\"4\": 1193, \"13\": 6, \"3\": 1}, \"3\": {\"3\": 1046, \"9\": 7, \"13\": 8, \"7\": 123, \"2\": 13, \"8\": 2, \"4\": 1}, \"15\": {\"15\": 600, \"5\": 353, \"10\": 55, \"0\": 17, \"1\": 27, \"6\": 116, \"14\": 31, \"2\": 1}, \"14\": {\"1\": 97, \"14\": 736, \"10\": 248, \"0\": 85, \"6\": 11, \"15\": 20, \"5\": 3}, \"10\": {\"10\": 647, \"14\": 240, \"15\": 58, \"0\": 165, \"6\": 75, \"1\": 11, \"5\": 4}, \"7\": {\"7\": 752, \"2\": 145, \"8\": 154, \"9\": 50, \"3\": 94, \"13\": 2, \"0\": 3}, \"11\": {\"11\": 1200}, \"6\": {\"6\": 896, \"10\": 56, \"15\": 106, \"5\": 99, \"1\": 26, \"14\": 17}, \"1\": {\"1\": 858, \"10\": 38, \"14\": 253, \"15\": 11, \"6\": 29, \"0\": 3, \"5\": 8}, \"5\": {\"5\": 791, \"15\": 300, \"1\": 6, \"6\": 98, \"10\": 3, \"14\": 2}, \"0\": {\"10\": 217, \"0\": 778, \"14\": 127, \"8\": 33, \"15\": 17, \"2\": 17, \"9\": 4, \"5\": 3, \"6\": 2, \"1\": 1, \"7\": 1}}}, \"per_domain_accuracy\": {\"8\": {\"accuracy\": 0.8672916666666667, \"source?\": true}, \"50\": {\"accuracy\": 0.9083854166666666, \"source?\": true}, \"32\": {\"accuracy\": 0.86546875, \"source?\": true}, \"14\": {\"accuracy\": 0.83546875, \"source?\": false}, \"20\": {\"accuracy\": 0.628125, \"source?\": false}, \"44\": {\"accuracy\": 0.8309895833333333, \"source?\": false}, \"38\": {\"accuracy\": 0.8747916666666666, \"source?\": false}, \"26\": {\"accuracy\": 0.71171875, \"source?\": false}}}, \"history\": {\"epoch_indices\": [1, 2, 3, 4, 5, 6, 7, 8, 9], \"train_label_loss\": [0.6513917849425759, 0.4368884898958698, 0.331110877390537, 0.2826196272958011, 0.2532964405222308, 0.23242959872616217, 0.21603073903825135, 0.2036890188247771, 0.19380313729689944], \"source_val_label_loss\": [0.9511755704879761, 0.4082452952861786, 0.3672674894332886, 0.3609355390071869, 0.34582480788230896, 0.3424862325191498, 0.3458428978919983, 0.34775644540786743, 0.35209938883781433], \"target_val_label_loss\": [1.1300396919250488, 0.7001274228096008, 0.6887066960334778, 0.7240702509880066, 0.7184126973152161, 0.72293621301651, 0.7466481924057007, 0.7476772665977478, 0.7398903965950012], \"source_val_acc_label\": [0.7360416666666667, 0.8523611111111111, 0.8699652777777778, 0.8740104166666667, 0.8803819444444444, 0.8830034722222222, 0.8821527777777778, 0.8817361111111112, 0.88203125], \"target_val_acc_label\": [0.6846041666666667, 0.76303125, 0.7732604166666667, 0.76878125, 0.77621875, 0.7703020833333334, 0.76846875, 0.7656145833333333, 0.76378125]}, \"dataset_metrics\": {\"source\": {\"train\": {\"n_unique_x\": 336000, \"n_unique_y\": 16, \"n_batch/episode\": 12600}, \"val\": {\"n_unique_x\": 72000, \"n_unique_y\": 16, \"n_batch/episode\": 1800}, \"test\": {\"n_unique_x\": 72000, \"n_unique_y\": 16, \"n_batch/episode\": 1800}}, \"target\": {\"train\": {\"n_unique_x\": 560000, \"n_unique_y\": 16, \"n_batch/episode\": 21000}, \"val\": {\"n_unique_x\": 120000, \"n_unique_y\": 16, \"n_batch/episode\": 3000}, \"test\": {\"n_unique_x\": 120000, \"n_unique_y\": 16, \"n_batch/episode\": 3000}}}}'"
      ]
     },
     "execution_count": 20,
     "metadata": {},
     "output_type": "execute_result"
    }
   ],
   "source": [
    "json.dumps(experiment)"
   ]
  }
 ],
 "metadata": {
  "celltoolbar": "Tags",
  "kernelspec": {
   "display_name": "Python 3 (ipykernel)",
   "language": "python",
   "name": "python3"
  },
  "language_info": {
   "codemirror_mode": {
    "name": "ipython",
    "version": 3
   },
   "file_extension": ".py",
   "mimetype": "text/x-python",
   "name": "python",
   "nbconvert_exporter": "python",
   "pygments_lexer": "ipython3",
   "version": "3.8.12"
  },
  "papermill": {
   "default_parameters": {},
   "duration": 6033.803978,
   "end_time": "2022-03-26T01:44:09.375106",
   "environment_variables": {},
   "exception": null,
   "input_path": "/root/csc500-main/csc500-notebooks/templates/ptn_template.ipynb",
   "output_path": "trial.ipynb",
   "parameters": {
    "parameters": {
     "BEST_MODEL_PATH": "./best_model.pth",
     "NUM_LOGS_PER_EPOCH": 10,
     "criteria_for_best": "target_accuracy",
     "dataset_seed": 1337,
     "device": "cuda",
     "domains_source": [
      8,
      32,
      50
     ],
     "domains_target": [
      14,
      20,
      26,
      38,
      44
     ],
     "episode_transforms_source": [],
     "episode_transforms_target": [],
     "experiment_name": "tuned_1v2:oracle.run1_limited",
     "labels_source": [
      "3123D52",
      "3123D65",
      "3123D79",
      "3123D80",
      "3123D54",
      "3123D70",
      "3123D7B",
      "3123D89",
      "3123D58",
      "3123D76",
      "3123D7D",
      "3123EFE",
      "3123D64",
      "3123D78",
      "3123D7E",
      "3124E4A"
     ],
     "labels_target": [
      "3123D52",
      "3123D65",
      "3123D79",
      "3123D80",
      "3123D54",
      "3123D70",
      "3123D7B",
      "3123D89",
      "3123D58",
      "3123D76",
      "3123D7D",
      "3123EFE",
      "3123D64",
      "3123D78",
      "3123D7E",
      "3124E4A"
     ],
     "lr": 0.0001,
     "n_epoch": 50,
     "n_query": 2,
     "n_shot": 3,
     "n_way": 16,
     "num_examples_per_domain_per_label_source": -1,
     "num_examples_per_domain_per_label_target": -1,
     "patience": 3,
     "pickle_name": "oracle.Run1_10kExamples_stratified_ds.2022A.pkl",
     "seed": 1337,
     "test_k_factor": 2,
     "torch_default_dtype": "torch.float32",
     "train_k_factor": 3,
     "val_k_factor": 2,
     "x_net": [
      {
       "class": "nnReshape",
       "kargs": {
        "shape": [
         -1,
         1,
         2,
         256
        ]
       }
      },
      {
       "class": "Conv2d",
       "kargs": {
        "bias": false,
        "in_channels": 1,
        "kernel_size": [
         1,
         7
        ],
        "out_channels": 256,
        "padding": [
         0,
         3
        ]
       }
      },
      {
       "class": "ReLU",
       "kargs": {
        "inplace": true
       }
      },
      {
       "class": "BatchNorm2d",
       "kargs": {
        "num_features": 256
       }
      },
      {
       "class": "Conv2d",
       "kargs": {
        "bias": true,
        "in_channels": 256,
        "kernel_size": [
         2,
         7
        ],
        "out_channels": 80,
        "padding": [
         0,
         3
        ]
       }
      },
      {
       "class": "ReLU",
       "kargs": {
        "inplace": true
       }
      },
      {
       "class": "BatchNorm2d",
       "kargs": {
        "num_features": 80
       }
      },
      {
       "class": "Flatten",
       "kargs": {}
      },
      {
       "class": "Linear",
       "kargs": {
        "in_features": 20480,
        "out_features": 256
       }
      },
      {
       "class": "ReLU",
       "kargs": {
        "inplace": true
       }
      },
      {
       "class": "BatchNorm1d",
       "kargs": {
        "num_features": 256
       }
      },
      {
       "class": "Linear",
       "kargs": {
        "in_features": 256,
        "out_features": 256
       }
      }
     ],
     "x_transforms_source": [],
     "x_transforms_target": []
    }
   },
   "start_time": "2022-03-26T00:03:35.571128",
   "version": "2.3.4"
  }
 },
 "nbformat": 4,
 "nbformat_minor": 5
}