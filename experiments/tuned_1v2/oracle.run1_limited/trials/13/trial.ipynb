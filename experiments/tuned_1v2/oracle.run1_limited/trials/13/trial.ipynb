{
 "cells": [
  {
   "cell_type": "markdown",
   "id": "9fea5f46",
   "metadata": {
    "papermill": {
     "duration": 0.021054,
     "end_time": "2022-03-26T11:03:33.811304",
     "exception": false,
     "start_time": "2022-03-26T11:03:33.790250",
     "status": "completed"
    },
    "tags": []
   },
   "source": [
    "# PTN Template\n",
    "This notebook serves as a template for single dataset PTN experiments  \n",
    "It can be run on its own by setting STANDALONE to True (do a find for \"STANDALONE\" to see where)  \n",
    "But it is intended to be executed as part of a *papermill.py script. See any of the   \n",
    "experimentes with a papermill script to get started with that workflow.  "
   ]
  },
  {
   "cell_type": "code",
   "execution_count": 1,
   "id": "0902182a",
   "metadata": {
    "execution": {
     "iopub.execute_input": "2022-03-26T11:03:33.854796Z",
     "iopub.status.busy": "2022-03-26T11:03:33.849609Z",
     "iopub.status.idle": "2022-03-26T11:03:35.714839Z",
     "shell.execute_reply": "2022-03-26T11:03:35.714386Z"
    },
    "papermill": {
     "duration": 1.88883,
     "end_time": "2022-03-26T11:03:35.714952",
     "exception": false,
     "start_time": "2022-03-26T11:03:33.826122",
     "status": "completed"
    },
    "tags": []
   },
   "outputs": [],
   "source": [
    "%load_ext autoreload\n",
    "%autoreload 2\n",
    "%matplotlib inline\n",
    "\n",
    "    \n",
    "import os, json, sys, time, random\n",
    "import numpy as np\n",
    "import torch\n",
    "from torch.optim import Adam\n",
    "from  easydict import EasyDict\n",
    "import matplotlib.pyplot as plt\n",
    "\n",
    "from steves_models.steves_ptn import Steves_Prototypical_Network\n",
    "\n",
    "from steves_utils.lazy_iterable_wrapper import Lazy_Iterable_Wrapper\n",
    "from steves_utils.iterable_aggregator import Iterable_Aggregator\n",
    "from steves_utils.ptn_train_eval_test_jig import  PTN_Train_Eval_Test_Jig\n",
    "from steves_utils.torch_sequential_builder import build_sequential\n",
    "from steves_utils.torch_utils import get_dataset_metrics, ptn_confusion_by_domain_over_dataloader\n",
    "from steves_utils.utils_v2 import (per_domain_accuracy_from_confusion, get_datasets_base_path)\n",
    "from steves_utils.PTN.utils import independent_accuracy_assesment\n",
    "\n",
    "from steves_utils.stratified_dataset.episodic_accessor import Episodic_Accessor_Factory\n",
    "\n",
    "from steves_utils.ptn_do_report import (\n",
    "    get_loss_curve,\n",
    "    get_results_table,\n",
    "    get_parameters_table,\n",
    "    get_domain_accuracies,\n",
    ")\n",
    "\n",
    "from steves_utils.transforms import get_chained_transform"
   ]
  },
  {
   "cell_type": "markdown",
   "id": "41c840b4",
   "metadata": {
    "papermill": {
     "duration": 0.013816,
     "end_time": "2022-03-26T11:03:35.743340",
     "exception": false,
     "start_time": "2022-03-26T11:03:35.729524",
     "status": "completed"
    },
    "tags": []
   },
   "source": [
    "# Required Parameters\n",
    "These are allowed parameters, not defaults\n",
    "Each of these values need to be present in the injected parameters (the notebook will raise an exception if they are not present)\n",
    "\n",
    "Papermill uses the cell tag \"parameters\" to inject the real parameters below this cell.\n",
    "Enable tags to see what I mean"
   ]
  },
  {
   "cell_type": "code",
   "execution_count": 2,
   "id": "fd44eb83",
   "metadata": {
    "execution": {
     "iopub.execute_input": "2022-03-26T11:03:35.774598Z",
     "iopub.status.busy": "2022-03-26T11:03:35.774217Z",
     "iopub.status.idle": "2022-03-26T11:03:35.793045Z",
     "shell.execute_reply": "2022-03-26T11:03:35.792725Z"
    },
    "papermill": {
     "duration": 0.035956,
     "end_time": "2022-03-26T11:03:35.793115",
     "exception": false,
     "start_time": "2022-03-26T11:03:35.757159",
     "status": "completed"
    },
    "tags": []
   },
   "outputs": [],
   "source": [
    "required_parameters = {\n",
    "    \"experiment_name\",\n",
    "    \"lr\",\n",
    "    \"device\",\n",
    "    \"seed\",\n",
    "    \"dataset_seed\",\n",
    "    \"labels_source\",\n",
    "    \"labels_target\",\n",
    "    \"domains_source\",\n",
    "    \"domains_target\",\n",
    "    \"num_examples_per_domain_per_label_source\",\n",
    "    \"num_examples_per_domain_per_label_target\",\n",
    "    \"n_shot\",\n",
    "    \"n_way\",\n",
    "    \"n_query\",\n",
    "    \"train_k_factor\",\n",
    "    \"val_k_factor\",\n",
    "    \"test_k_factor\",\n",
    "    \"n_epoch\",\n",
    "    \"patience\",\n",
    "    \"criteria_for_best\",\n",
    "    \"x_transforms_source\",\n",
    "    \"x_transforms_target\",\n",
    "    \"episode_transforms_source\",\n",
    "    \"episode_transforms_target\",\n",
    "    \"pickle_name\",\n",
    "    \"x_net\",\n",
    "    \"NUM_LOGS_PER_EPOCH\",\n",
    "    \"BEST_MODEL_PATH\",\n",
    "    \"torch_default_dtype\"\n",
    "}"
   ]
  },
  {
   "cell_type": "code",
   "execution_count": 3,
   "id": "fa3f0049",
   "metadata": {
    "execution": {
     "iopub.execute_input": "2022-03-26T11:03:35.829931Z",
     "iopub.status.busy": "2022-03-26T11:03:35.829518Z",
     "iopub.status.idle": "2022-03-26T11:03:35.850337Z",
     "shell.execute_reply": "2022-03-26T11:03:35.849977Z"
    },
    "papermill": {
     "duration": 0.043396,
     "end_time": "2022-03-26T11:03:35.850406",
     "exception": false,
     "start_time": "2022-03-26T11:03:35.807010",
     "status": "completed"
    },
    "tags": [
     "parameters"
    ]
   },
   "outputs": [],
   "source": [
    "\n",
    "\n",
    "standalone_parameters = {}\n",
    "standalone_parameters[\"experiment_name\"] = \"STANDALONE PTN\"\n",
    "standalone_parameters[\"lr\"] = 0.0001\n",
    "standalone_parameters[\"device\"] = \"cuda\"\n",
    "\n",
    "standalone_parameters[\"seed\"] = 1337\n",
    "standalone_parameters[\"dataset_seed\"] = 1337\n",
    "\n",
    "\n",
    "standalone_parameters[\"num_examples_per_domain_per_label_source\"]=100\n",
    "standalone_parameters[\"num_examples_per_domain_per_label_target\"]=100\n",
    "\n",
    "standalone_parameters[\"n_shot\"] = 3\n",
    "standalone_parameters[\"n_query\"]  = 2\n",
    "standalone_parameters[\"train_k_factor\"] = 1\n",
    "standalone_parameters[\"val_k_factor\"] = 2\n",
    "standalone_parameters[\"test_k_factor\"] = 2\n",
    "\n",
    "\n",
    "standalone_parameters[\"n_epoch\"] = 100\n",
    "\n",
    "standalone_parameters[\"patience\"] = 10\n",
    "standalone_parameters[\"criteria_for_best\"] = \"target_accuracy\"\n",
    "\n",
    "standalone_parameters[\"x_transforms_source\"] = [\"unit_power\"]\n",
    "standalone_parameters[\"x_transforms_target\"] = [\"unit_power\"]\n",
    "standalone_parameters[\"episode_transforms_source\"] = []\n",
    "standalone_parameters[\"episode_transforms_target\"] = []\n",
    "\n",
    "standalone_parameters[\"torch_default_dtype\"] = \"torch.float32\" \n",
    "\n",
    "\n",
    "\n",
    "standalone_parameters[\"x_net\"] =     [\n",
    "    {\"class\": \"nnReshape\", \"kargs\": {\"shape\":[-1, 1, 2, 256]}},\n",
    "    {\"class\": \"Conv2d\", \"kargs\": { \"in_channels\":1, \"out_channels\":256, \"kernel_size\":(1,7), \"bias\":False, \"padding\":(0,3), },},\n",
    "    {\"class\": \"ReLU\", \"kargs\": {\"inplace\": True}},\n",
    "    {\"class\": \"BatchNorm2d\", \"kargs\": {\"num_features\":256}},\n",
    "\n",
    "    {\"class\": \"Conv2d\", \"kargs\": { \"in_channels\":256, \"out_channels\":80, \"kernel_size\":(2,7), \"bias\":True, \"padding\":(0,3), },},\n",
    "    {\"class\": \"ReLU\", \"kargs\": {\"inplace\": True}},\n",
    "    {\"class\": \"BatchNorm2d\", \"kargs\": {\"num_features\":80}},\n",
    "    {\"class\": \"Flatten\", \"kargs\": {}},\n",
    "\n",
    "    {\"class\": \"Linear\", \"kargs\": {\"in_features\": 80*256, \"out_features\": 256}}, # 80 units per IQ pair\n",
    "    {\"class\": \"ReLU\", \"kargs\": {\"inplace\": True}},\n",
    "    {\"class\": \"BatchNorm1d\", \"kargs\": {\"num_features\":256}},\n",
    "\n",
    "    {\"class\": \"Linear\", \"kargs\": {\"in_features\": 256, \"out_features\": 256}},\n",
    "]\n",
    "\n",
    "# Parameters relevant to results\n",
    "# These parameters will basically never need to change\n",
    "standalone_parameters[\"NUM_LOGS_PER_EPOCH\"] = 10\n",
    "standalone_parameters[\"BEST_MODEL_PATH\"] = \"./best_model.pth\"\n",
    "\n",
    "# uncomment for CORES dataset\n",
    "from steves_utils.CORES.utils import (\n",
    "    ALL_NODES,\n",
    "    ALL_NODES_MINIMUM_1000_EXAMPLES,\n",
    "    ALL_DAYS\n",
    ")\n",
    "\n",
    "\n",
    "standalone_parameters[\"labels_source\"] = ALL_NODES\n",
    "standalone_parameters[\"labels_target\"] = ALL_NODES\n",
    "\n",
    "standalone_parameters[\"domains_source\"] = [1]\n",
    "standalone_parameters[\"domains_target\"] = [2,3,4,5]\n",
    "\n",
    "standalone_parameters[\"pickle_name\"] = \"cores.stratified_ds.2022A.pkl\"\n",
    "\n",
    "\n",
    "# Uncomment these for ORACLE dataset\n",
    "# from steves_utils.ORACLE.utils_v2 import (\n",
    "#     ALL_DISTANCES_FEET,\n",
    "#     ALL_RUNS,\n",
    "#     ALL_SERIAL_NUMBERS,\n",
    "# )\n",
    "# standalone_parameters[\"labels_source\"] = ALL_SERIAL_NUMBERS\n",
    "# standalone_parameters[\"labels_target\"] = ALL_SERIAL_NUMBERS\n",
    "# standalone_parameters[\"domains_source\"] = [8,20, 38,50]\n",
    "# standalone_parameters[\"domains_target\"] = [14, 26, 32, 44, 56]\n",
    "# standalone_parameters[\"pickle_name\"] = \"oracle.frame_indexed.stratified_ds.2022A.pkl\"\n",
    "# standalone_parameters[\"num_examples_per_domain_per_label_source\"]=1000\n",
    "# standalone_parameters[\"num_examples_per_domain_per_label_target\"]=1000\n",
    "\n",
    "# Uncomment these for Metahan dataset\n",
    "# standalone_parameters[\"labels_source\"] = list(range(19))\n",
    "# standalone_parameters[\"labels_target\"] = list(range(19))\n",
    "# standalone_parameters[\"domains_source\"] = [0]\n",
    "# standalone_parameters[\"domains_target\"] = [1]\n",
    "# standalone_parameters[\"pickle_name\"] = \"metehan.stratified_ds.2022A.pkl\"\n",
    "# standalone_parameters[\"n_way\"]  = len(standalone_parameters[\"labels_source\"])\n",
    "# standalone_parameters[\"num_examples_per_domain_per_label_source\"]=200\n",
    "# standalone_parameters[\"num_examples_per_domain_per_label_target\"]=100\n",
    "\n",
    "\n",
    "standalone_parameters[\"n_way\"]  = len(standalone_parameters[\"labels_source\"])"
   ]
  },
  {
   "cell_type": "code",
   "execution_count": 4,
   "id": "22f43214",
   "metadata": {
    "execution": {
     "iopub.execute_input": "2022-03-26T11:03:35.886096Z",
     "iopub.status.busy": "2022-03-26T11:03:35.885689Z",
     "iopub.status.idle": "2022-03-26T11:03:35.904923Z",
     "shell.execute_reply": "2022-03-26T11:03:35.904563Z"
    },
    "papermill": {
     "duration": 0.040295,
     "end_time": "2022-03-26T11:03:35.904992",
     "exception": false,
     "start_time": "2022-03-26T11:03:35.864697",
     "status": "completed"
    },
    "tags": [
     "injected-parameters"
    ]
   },
   "outputs": [],
   "source": [
    "# Parameters\n",
    "parameters = {\n",
    "    \"experiment_name\": \"tuned_1v2:oracle.run1_limited\",\n",
    "    \"device\": \"cuda\",\n",
    "    \"lr\": 0.0001,\n",
    "    \"labels_source\": [\n",
    "        \"3123D52\",\n",
    "        \"3123D65\",\n",
    "        \"3123D79\",\n",
    "        \"3123D80\",\n",
    "        \"3123D54\",\n",
    "        \"3123D70\",\n",
    "        \"3123D7B\",\n",
    "        \"3123D89\",\n",
    "        \"3123D58\",\n",
    "        \"3123D76\",\n",
    "        \"3123D7D\",\n",
    "        \"3123EFE\",\n",
    "        \"3123D64\",\n",
    "        \"3123D78\",\n",
    "        \"3123D7E\",\n",
    "        \"3124E4A\",\n",
    "    ],\n",
    "    \"labels_target\": [\n",
    "        \"3123D52\",\n",
    "        \"3123D65\",\n",
    "        \"3123D79\",\n",
    "        \"3123D80\",\n",
    "        \"3123D54\",\n",
    "        \"3123D70\",\n",
    "        \"3123D7B\",\n",
    "        \"3123D89\",\n",
    "        \"3123D58\",\n",
    "        \"3123D76\",\n",
    "        \"3123D7D\",\n",
    "        \"3123EFE\",\n",
    "        \"3123D64\",\n",
    "        \"3123D78\",\n",
    "        \"3123D7E\",\n",
    "        \"3124E4A\",\n",
    "    ],\n",
    "    \"episode_transforms_source\": [],\n",
    "    \"episode_transforms_target\": [],\n",
    "    \"domains_source\": [8, 32, 50],\n",
    "    \"domains_target\": [14, 20, 26, 38, 44],\n",
    "    \"num_examples_per_domain_per_label_source\": -1,\n",
    "    \"num_examples_per_domain_per_label_target\": -1,\n",
    "    \"n_shot\": 3,\n",
    "    \"n_way\": 16,\n",
    "    \"n_query\": 2,\n",
    "    \"train_k_factor\": 3,\n",
    "    \"val_k_factor\": 2,\n",
    "    \"test_k_factor\": 2,\n",
    "    \"torch_default_dtype\": \"torch.float32\",\n",
    "    \"n_epoch\": 50,\n",
    "    \"patience\": 3,\n",
    "    \"criteria_for_best\": \"target_accuracy\",\n",
    "    \"x_net\": [\n",
    "        {\"class\": \"nnReshape\", \"kargs\": {\"shape\": [-1, 1, 2, 256]}},\n",
    "        {\n",
    "            \"class\": \"Conv2d\",\n",
    "            \"kargs\": {\n",
    "                \"in_channels\": 1,\n",
    "                \"out_channels\": 256,\n",
    "                \"kernel_size\": [1, 7],\n",
    "                \"bias\": False,\n",
    "                \"padding\": [0, 3],\n",
    "            },\n",
    "        },\n",
    "        {\"class\": \"ReLU\", \"kargs\": {\"inplace\": True}},\n",
    "        {\"class\": \"BatchNorm2d\", \"kargs\": {\"num_features\": 256}},\n",
    "        {\n",
    "            \"class\": \"Conv2d\",\n",
    "            \"kargs\": {\n",
    "                \"in_channels\": 256,\n",
    "                \"out_channels\": 80,\n",
    "                \"kernel_size\": [2, 7],\n",
    "                \"bias\": True,\n",
    "                \"padding\": [0, 3],\n",
    "            },\n",
    "        },\n",
    "        {\"class\": \"ReLU\", \"kargs\": {\"inplace\": True}},\n",
    "        {\"class\": \"BatchNorm2d\", \"kargs\": {\"num_features\": 80}},\n",
    "        {\"class\": \"Flatten\", \"kargs\": {}},\n",
    "        {\"class\": \"Linear\", \"kargs\": {\"in_features\": 20480, \"out_features\": 256}},\n",
    "        {\"class\": \"ReLU\", \"kargs\": {\"inplace\": True}},\n",
    "        {\"class\": \"BatchNorm1d\", \"kargs\": {\"num_features\": 256}},\n",
    "        {\"class\": \"Linear\", \"kargs\": {\"in_features\": 256, \"out_features\": 256}},\n",
    "    ],\n",
    "    \"NUM_LOGS_PER_EPOCH\": 10,\n",
    "    \"BEST_MODEL_PATH\": \"./best_model.pth\",\n",
    "    \"pickle_name\": \"oracle.Run1_10kExamples_stratified_ds.2022A.pkl\",\n",
    "    \"x_transforms_source\": [\"unit_power\"],\n",
    "    \"x_transforms_target\": [\"unit_power\"],\n",
    "    \"dataset_seed\": 154325,\n",
    "    \"seed\": 154325,\n",
    "}\n"
   ]
  },
  {
   "cell_type": "code",
   "execution_count": 5,
   "id": "8fa1cc33",
   "metadata": {
    "execution": {
     "iopub.execute_input": "2022-03-26T11:03:35.937169Z",
     "iopub.status.busy": "2022-03-26T11:03:35.936798Z",
     "iopub.status.idle": "2022-03-26T11:03:35.955354Z",
     "shell.execute_reply": "2022-03-26T11:03:35.955015Z"
    },
    "papermill": {
     "duration": 0.036157,
     "end_time": "2022-03-26T11:03:35.955423",
     "exception": false,
     "start_time": "2022-03-26T11:03:35.919266",
     "status": "completed"
    },
    "tags": []
   },
   "outputs": [],
   "source": [
    "# Set this to True if you want to run this template directly\n",
    "STANDALONE = False\n",
    "if STANDALONE:\n",
    "    print(\"parameters not injected, running with standalone_parameters\")\n",
    "    parameters = standalone_parameters\n",
    "\n",
    "if not 'parameters' in locals() and not 'parameters' in globals():\n",
    "    raise Exception(\"Parameter injection failed\")\n",
    "\n",
    "#Use an easy dict for all the parameters\n",
    "p = EasyDict(parameters)\n",
    "\n",
    "supplied_keys = set(p.keys())\n",
    "\n",
    "if  supplied_keys != required_parameters:\n",
    "    print(\"Parameters are incorrect\")\n",
    "    if len(supplied_keys - required_parameters)>0: print(\"Shouldn't have:\", str(supplied_keys - required_parameters))\n",
    "    if len(required_parameters - supplied_keys)>0: print(\"Need to have:\", str(required_parameters - supplied_keys))\n",
    "    raise RuntimeError(\"Parameters are incorrect\")\n",
    "\n"
   ]
  },
  {
   "cell_type": "code",
   "execution_count": 6,
   "id": "3a028d58",
   "metadata": {
    "execution": {
     "iopub.execute_input": "2022-03-26T11:03:35.986923Z",
     "iopub.status.busy": "2022-03-26T11:03:35.986562Z",
     "iopub.status.idle": "2022-03-26T11:03:36.004643Z",
     "shell.execute_reply": "2022-03-26T11:03:36.004941Z"
    },
    "papermill": {
     "duration": 0.035148,
     "end_time": "2022-03-26T11:03:36.005020",
     "exception": false,
     "start_time": "2022-03-26T11:03:35.969872",
     "status": "completed"
    },
    "tags": []
   },
   "outputs": [],
   "source": [
    "###################################\n",
    "# Set the RNGs and make it all deterministic\n",
    "###################################\n",
    "np.random.seed(p.seed)\n",
    "random.seed(p.seed)\n",
    "torch.manual_seed(p.seed)\n",
    "\n",
    "torch.use_deterministic_algorithms(True) "
   ]
  },
  {
   "cell_type": "code",
   "execution_count": 7,
   "id": "b691acf6",
   "metadata": {
    "execution": {
     "iopub.execute_input": "2022-03-26T11:03:36.037061Z",
     "iopub.status.busy": "2022-03-26T11:03:36.036691Z",
     "iopub.status.idle": "2022-03-26T11:03:36.053944Z",
     "shell.execute_reply": "2022-03-26T11:03:36.053582Z"
    },
    "papermill": {
     "duration": 0.034458,
     "end_time": "2022-03-26T11:03:36.054014",
     "exception": false,
     "start_time": "2022-03-26T11:03:36.019556",
     "status": "completed"
    },
    "tags": []
   },
   "outputs": [],
   "source": [
    "###########################################\n",
    "# The stratified datasets honor this\n",
    "###########################################\n",
    "torch.set_default_dtype(eval(p.torch_default_dtype))"
   ]
  },
  {
   "cell_type": "code",
   "execution_count": 8,
   "id": "b5fba671",
   "metadata": {
    "execution": {
     "iopub.execute_input": "2022-03-26T11:03:36.085418Z",
     "iopub.status.busy": "2022-03-26T11:03:36.085055Z",
     "iopub.status.idle": "2022-03-26T11:03:36.134965Z",
     "shell.execute_reply": "2022-03-26T11:03:36.134605Z"
    },
    "papermill": {
     "duration": 0.066501,
     "end_time": "2022-03-26T11:03:36.135033",
     "exception": false,
     "start_time": "2022-03-26T11:03:36.068532",
     "status": "completed"
    },
    "tags": []
   },
   "outputs": [],
   "source": [
    "###################################\n",
    "# Build the network(s)\n",
    "# Note: It's critical to do this AFTER setting the RNG\n",
    "# (This is due to the randomized initial weights)\n",
    "###################################\n",
    "x_net = build_sequential(p.x_net)"
   ]
  },
  {
   "cell_type": "code",
   "execution_count": 9,
   "id": "5d7e61cc",
   "metadata": {
    "execution": {
     "iopub.execute_input": "2022-03-26T11:03:36.166968Z",
     "iopub.status.busy": "2022-03-26T11:03:36.166607Z",
     "iopub.status.idle": "2022-03-26T11:03:36.188237Z",
     "shell.execute_reply": "2022-03-26T11:03:36.187422Z"
    },
    "papermill": {
     "duration": 0.038606,
     "end_time": "2022-03-26T11:03:36.188370",
     "exception": false,
     "start_time": "2022-03-26T11:03:36.149764",
     "status": "completed"
    },
    "tags": []
   },
   "outputs": [],
   "source": [
    "start_time_secs = time.time()"
   ]
  },
  {
   "cell_type": "code",
   "execution_count": 10,
   "id": "fd5442bc",
   "metadata": {
    "execution": {
     "iopub.execute_input": "2022-03-26T11:03:36.243256Z",
     "iopub.status.busy": "2022-03-26T11:03:36.242563Z",
     "iopub.status.idle": "2022-03-26T11:05:26.356958Z",
     "shell.execute_reply": "2022-03-26T11:05:26.356207Z"
    },
    "papermill": {
     "duration": 110.147726,
     "end_time": "2022-03-26T11:05:26.357151",
     "exception": false,
     "start_time": "2022-03-26T11:03:36.209425",
     "status": "completed"
    },
    "tags": []
   },
   "outputs": [],
   "source": [
    "###################################\n",
    "# Build the dataset\n",
    "###################################\n",
    "\n",
    "if p.x_transforms_source == []: x_transform_source = None\n",
    "else: x_transform_source = get_chained_transform(p.x_transforms_source) \n",
    "\n",
    "if p.x_transforms_target == []: x_transform_target = None\n",
    "else: x_transform_target = get_chained_transform(p.x_transforms_target)\n",
    "\n",
    "if p.episode_transforms_source == []: episode_transform_source = None\n",
    "else: raise Exception(\"episode_transform_source not implemented\")\n",
    "\n",
    "if p.episode_transforms_target == []: episode_transform_target = None\n",
    "else: raise Exception(\"episode_transform_target not implemented\")\n",
    "\n",
    "\n",
    "eaf_source = Episodic_Accessor_Factory(\n",
    "    labels=p.labels_source,\n",
    "    domains=p.domains_source,\n",
    "    num_examples_per_domain_per_label=p.num_examples_per_domain_per_label_source,\n",
    "    iterator_seed=p.seed,\n",
    "    dataset_seed=p.dataset_seed,\n",
    "    n_shot=p.n_shot,\n",
    "    n_way=p.n_way,\n",
    "    n_query=p.n_query,\n",
    "    train_val_test_k_factors=(p.train_k_factor,p.val_k_factor,p.test_k_factor),\n",
    "    pickle_path=os.path.join(get_datasets_base_path(), p.pickle_name),\n",
    "    x_transform_func=x_transform_source,\n",
    "    example_transform_func=episode_transform_source,\n",
    "    \n",
    ")\n",
    "train_original_source, val_original_source, test_original_source = eaf_source.get_train(), eaf_source.get_val(), eaf_source.get_test()\n",
    "\n",
    "\n",
    "eaf_target = Episodic_Accessor_Factory(\n",
    "    labels=p.labels_target,\n",
    "    domains=p.domains_target,\n",
    "    num_examples_per_domain_per_label=p.num_examples_per_domain_per_label_target,\n",
    "    iterator_seed=p.seed,\n",
    "    dataset_seed=p.dataset_seed,\n",
    "    n_shot=p.n_shot,\n",
    "    n_way=p.n_way,\n",
    "    n_query=p.n_query,\n",
    "    train_val_test_k_factors=(p.train_k_factor,p.val_k_factor,p.test_k_factor),\n",
    "    pickle_path=os.path.join(get_datasets_base_path(), p.pickle_name),\n",
    "    x_transform_func=x_transform_target,\n",
    "    example_transform_func=episode_transform_target,\n",
    ")\n",
    "train_original_target, val_original_target, test_original_target = eaf_target.get_train(), eaf_target.get_val(), eaf_target.get_test()\n",
    "\n",
    "\n",
    "transform_lambda = lambda ex: ex[1] # Original is (<domain>, <episode>) so we strip down to episode only\n",
    "\n",
    "train_processed_source = Lazy_Iterable_Wrapper(train_original_source, transform_lambda)\n",
    "val_processed_source   = Lazy_Iterable_Wrapper(val_original_source, transform_lambda)\n",
    "test_processed_source  = Lazy_Iterable_Wrapper(test_original_source, transform_lambda)\n",
    "\n",
    "train_processed_target = Lazy_Iterable_Wrapper(train_original_target, transform_lambda)\n",
    "val_processed_target   = Lazy_Iterable_Wrapper(val_original_target, transform_lambda)\n",
    "test_processed_target  = Lazy_Iterable_Wrapper(test_original_target, transform_lambda)\n",
    "\n",
    "datasets = EasyDict({\n",
    "    \"source\": {\n",
    "        \"original\": {\"train\":train_original_source, \"val\":val_original_source, \"test\":test_original_source},\n",
    "        \"processed\": {\"train\":train_processed_source, \"val\":val_processed_source, \"test\":test_processed_source}\n",
    "    },\n",
    "    \"target\": {\n",
    "        \"original\": {\"train\":train_original_target, \"val\":val_original_target, \"test\":test_original_target},\n",
    "        \"processed\": {\"train\":train_processed_target, \"val\":val_processed_target, \"test\":test_processed_target}\n",
    "    },\n",
    "})"
   ]
  },
  {
   "cell_type": "code",
   "execution_count": 11,
   "id": "296189d9",
   "metadata": {
    "execution": {
     "iopub.execute_input": "2022-03-26T11:05:26.398209Z",
     "iopub.status.busy": "2022-03-26T11:05:26.397561Z",
     "iopub.status.idle": "2022-03-26T11:05:33.861473Z",
     "shell.execute_reply": "2022-03-26T11:05:33.860761Z"
    },
    "papermill": {
     "duration": 7.48488,
     "end_time": "2022-03-26T11:05:33.861653",
     "exception": false,
     "start_time": "2022-03-26T11:05:26.376773",
     "status": "completed"
    },
    "tags": []
   },
   "outputs": [
    {
     "name": "stdout",
     "output_type": "stream",
     "text": [
      "Visually inspect these to see if they line up with expected values given the transforms\n",
      "x_transforms_source ['unit_power']\n",
      "x_transforms_target ['unit_power']\n",
      "Average magnitude, source: 0.8714687\n",
      "Average power, source: 1.0\n"
     ]
    },
    {
     "name": "stdout",
     "output_type": "stream",
     "text": [
      "Average magnitude, target: 0.86402637\n",
      "Average power, target: 1.0\n"
     ]
    }
   ],
   "source": [
    "# Some quick unit tests on the data\n",
    "from steves_utils.transforms import get_average_power, get_average_magnitude\n",
    "\n",
    "q_x, q_y, s_x, s_y, truth = next(iter(train_processed_source))\n",
    "\n",
    "assert q_x.dtype == eval(p.torch_default_dtype)\n",
    "assert s_x.dtype == eval(p.torch_default_dtype)\n",
    "\n",
    "print(\"Visually inspect these to see if they line up with expected values given the transforms\")\n",
    "print('x_transforms_source', p.x_transforms_source)\n",
    "print('x_transforms_target', p.x_transforms_target)\n",
    "print(\"Average magnitude, source:\", get_average_magnitude(q_x[0].numpy()))\n",
    "print(\"Average power, source:\", get_average_power(q_x[0].numpy()))\n",
    "\n",
    "q_x, q_y, s_x, s_y, truth = next(iter(train_processed_target))\n",
    "print(\"Average magnitude, target:\", get_average_magnitude(q_x[0].numpy()))\n",
    "print(\"Average power, target:\", get_average_power(q_x[0].numpy()))\n"
   ]
  },
  {
   "cell_type": "code",
   "execution_count": 12,
   "id": "bbdacba1",
   "metadata": {
    "execution": {
     "iopub.execute_input": "2022-03-26T11:05:33.907190Z",
     "iopub.status.busy": "2022-03-26T11:05:33.906555Z",
     "iopub.status.idle": "2022-03-26T11:05:34.153722Z",
     "shell.execute_reply": "2022-03-26T11:05:34.152978Z"
    },
    "papermill": {
     "duration": 0.269285,
     "end_time": "2022-03-26T11:05:34.153910",
     "exception": false,
     "start_time": "2022-03-26T11:05:33.884625",
     "status": "completed"
    },
    "tags": []
   },
   "outputs": [
    {
     "name": "stdout",
     "output_type": "stream",
     "text": [
      "(2, 256)\n"
     ]
    }
   ],
   "source": [
    "###################################\n",
    "# Build the model\n",
    "###################################\n",
    "model = Steves_Prototypical_Network(x_net, device=p.device, x_shape=(2,256))\n",
    "optimizer = Adam(params=model.parameters(), lr=p.lr)"
   ]
  },
  {
   "cell_type": "code",
   "execution_count": 13,
   "id": "22b39ac5",
   "metadata": {
    "execution": {
     "iopub.execute_input": "2022-03-26T11:05:34.202074Z",
     "iopub.status.busy": "2022-03-26T11:05:34.201433Z",
     "iopub.status.idle": "2022-03-26T12:22:05.521807Z",
     "shell.execute_reply": "2022-03-26T12:22:05.521458Z"
    },
    "papermill": {
     "duration": 4591.342995,
     "end_time": "2022-03-26T12:22:05.521897",
     "exception": false,
     "start_time": "2022-03-26T11:05:34.178902",
     "status": "completed"
    },
    "tags": []
   },
   "outputs": [
    {
     "name": "stdout",
     "output_type": "stream",
     "text": [
      "epoch: 1, [batch: 1 / 12600], examples_per_second: 17.7768, train_label_loss: 2.8017, \n"
     ]
    },
    {
     "name": "stdout",
     "output_type": "stream",
     "text": [
      "epoch: 1, [batch: 1260 / 12600], examples_per_second: 1810.4313, train_label_loss: 1.5487, \n"
     ]
    },
    {
     "name": "stdout",
     "output_type": "stream",
     "text": [
      "epoch: 1, [batch: 2520 / 12600], examples_per_second: 3473.9982, train_label_loss: 1.3845, \n"
     ]
    },
    {
     "name": "stdout",
     "output_type": "stream",
     "text": [
      "epoch: 1, [batch: 3780 / 12600], examples_per_second: 2729.1444, train_label_loss: 1.0181, \n"
     ]
    },
    {
     "name": "stdout",
     "output_type": "stream",
     "text": [
      "epoch: 1, [batch: 5040 / 12600], examples_per_second: 1748.2993, train_label_loss: 1.2106, \n"
     ]
    },
    {
     "name": "stdout",
     "output_type": "stream",
     "text": [
      "epoch: 1, [batch: 6300 / 12600], examples_per_second: 1791.7964, train_label_loss: 1.3107, \n"
     ]
    },
    {
     "name": "stdout",
     "output_type": "stream",
     "text": [
      "epoch: 1, [batch: 7560 / 12600], examples_per_second: 2192.1177, train_label_loss: 1.3667, \n"
     ]
    },
    {
     "name": "stdout",
     "output_type": "stream",
     "text": [
      "epoch: 1, [batch: 8820 / 12600], examples_per_second: 3856.5563, train_label_loss: 0.9870, \n"
     ]
    },
    {
     "name": "stdout",
     "output_type": "stream",
     "text": [
      "epoch: 1, [batch: 10080 / 12600], examples_per_second: 1972.5253, train_label_loss: 1.3093, \n"
     ]
    },
    {
     "name": "stdout",
     "output_type": "stream",
     "text": [
      "epoch: 1, [batch: 11340 / 12600], examples_per_second: 1779.0264, train_label_loss: 0.9932, \n"
     ]
    },
    {
     "name": "stdout",
     "output_type": "stream",
     "text": [
      "=============================================================\n",
      "epoch: 1, source_val_acc_label: 0.5791, target_val_acc_label: 0.4747, source_val_label_loss: 1.1586, target_val_label_loss: 1.4244, \n",
      "=============================================================\n"
     ]
    },
    {
     "name": "stdout",
     "output_type": "stream",
     "text": [
      "New best\n"
     ]
    },
    {
     "name": "stdout",
     "output_type": "stream",
     "text": [
      "epoch: 2, [batch: 1 / 12600], examples_per_second: 1.0908, train_label_loss: 1.2645, \n"
     ]
    },
    {
     "name": "stdout",
     "output_type": "stream",
     "text": [
      "epoch: 2, [batch: 1260 / 12600], examples_per_second: 1841.0060, train_label_loss: 0.9336, \n"
     ]
    },
    {
     "name": "stdout",
     "output_type": "stream",
     "text": [
      "epoch: 2, [batch: 2520 / 12600], examples_per_second: 1785.3907, train_label_loss: 1.1610, \n"
     ]
    },
    {
     "name": "stdout",
     "output_type": "stream",
     "text": [
      "epoch: 2, [batch: 3780 / 12600], examples_per_second: 1759.2718, train_label_loss: 0.7092, \n"
     ]
    },
    {
     "name": "stdout",
     "output_type": "stream",
     "text": [
      "epoch: 2, [batch: 5040 / 12600], examples_per_second: 1791.6759, train_label_loss: 0.6892, \n"
     ]
    },
    {
     "name": "stdout",
     "output_type": "stream",
     "text": [
      "epoch: 2, [batch: 6300 / 12600], examples_per_second: 1785.0113, train_label_loss: 0.6323, \n"
     ]
    },
    {
     "name": "stdout",
     "output_type": "stream",
     "text": [
      "epoch: 2, [batch: 7560 / 12600], examples_per_second: 1779.3253, train_label_loss: 0.6023, \n"
     ]
    },
    {
     "name": "stdout",
     "output_type": "stream",
     "text": [
      "epoch: 2, [batch: 8820 / 12600], examples_per_second: 2477.1190, train_label_loss: 0.8209, \n"
     ]
    },
    {
     "name": "stdout",
     "output_type": "stream",
     "text": [
      "epoch: 2, [batch: 10080 / 12600], examples_per_second: 3906.3642, train_label_loss: 0.9411, \n"
     ]
    },
    {
     "name": "stdout",
     "output_type": "stream",
     "text": [
      "epoch: 2, [batch: 11340 / 12600], examples_per_second: 1813.5601, train_label_loss: 0.9900, \n"
     ]
    },
    {
     "name": "stdout",
     "output_type": "stream",
     "text": [
      "=============================================================\n",
      "epoch: 2, source_val_acc_label: 0.6710, target_val_acc_label: 0.5891, source_val_label_loss: 0.8930, target_val_label_loss: 1.0943, \n",
      "=============================================================\n"
     ]
    },
    {
     "name": "stdout",
     "output_type": "stream",
     "text": [
      "New best\n"
     ]
    },
    {
     "name": "stdout",
     "output_type": "stream",
     "text": [
      "epoch: 3, [batch: 1 / 12600], examples_per_second: 1.0619, train_label_loss: 0.7265, \n"
     ]
    },
    {
     "name": "stdout",
     "output_type": "stream",
     "text": [
      "epoch: 3, [batch: 1260 / 12600], examples_per_second: 1804.3394, train_label_loss: 0.7686, \n"
     ]
    },
    {
     "name": "stdout",
     "output_type": "stream",
     "text": [
      "epoch: 3, [batch: 2520 / 12600], examples_per_second: 1786.6015, train_label_loss: 0.9879, \n"
     ]
    },
    {
     "name": "stdout",
     "output_type": "stream",
     "text": [
      "epoch: 3, [batch: 3780 / 12600], examples_per_second: 1751.6914, train_label_loss: 0.6143, \n"
     ]
    },
    {
     "name": "stdout",
     "output_type": "stream",
     "text": [
      "epoch: 3, [batch: 5040 / 12600], examples_per_second: 2371.7870, train_label_loss: 0.7220, \n"
     ]
    },
    {
     "name": "stdout",
     "output_type": "stream",
     "text": [
      "epoch: 3, [batch: 6300 / 12600], examples_per_second: 3844.6450, train_label_loss: 0.8216, \n"
     ]
    },
    {
     "name": "stdout",
     "output_type": "stream",
     "text": [
      "epoch: 3, [batch: 7560 / 12600], examples_per_second: 1945.7919, train_label_loss: 0.5868, \n"
     ]
    },
    {
     "name": "stdout",
     "output_type": "stream",
     "text": [
      "epoch: 3, [batch: 8820 / 12600], examples_per_second: 1803.7662, train_label_loss: 0.7166, \n"
     ]
    },
    {
     "name": "stdout",
     "output_type": "stream",
     "text": [
      "epoch: 3, [batch: 10080 / 12600], examples_per_second: 3475.3378, train_label_loss: 0.5540, \n"
     ]
    },
    {
     "name": "stdout",
     "output_type": "stream",
     "text": [
      "epoch: 3, [batch: 11340 / 12600], examples_per_second: 2561.2250, train_label_loss: 0.8564, \n"
     ]
    },
    {
     "name": "stdout",
     "output_type": "stream",
     "text": [
      "=============================================================\n",
      "epoch: 3, source_val_acc_label: 0.6648, target_val_acc_label: 0.5937, source_val_label_loss: 0.8807, target_val_label_loss: 1.0818, \n",
      "=============================================================\n"
     ]
    },
    {
     "name": "stdout",
     "output_type": "stream",
     "text": [
      "New best\n"
     ]
    },
    {
     "name": "stdout",
     "output_type": "stream",
     "text": [
      "epoch: 4, [batch: 1 / 12600], examples_per_second: 0.7394, train_label_loss: 0.9159, \n"
     ]
    },
    {
     "name": "stdout",
     "output_type": "stream",
     "text": [
      "epoch: 4, [batch: 1260 / 12600], examples_per_second: 2963.5641, train_label_loss: 0.7590, \n"
     ]
    },
    {
     "name": "stdout",
     "output_type": "stream",
     "text": [
      "epoch: 4, [batch: 2520 / 12600], examples_per_second: 1827.9973, train_label_loss: 0.3990, \n"
     ]
    },
    {
     "name": "stdout",
     "output_type": "stream",
     "text": [
      "epoch: 4, [batch: 3780 / 12600], examples_per_second: 1777.8525, train_label_loss: 0.6824, \n"
     ]
    },
    {
     "name": "stdout",
     "output_type": "stream",
     "text": [
      "epoch: 4, [batch: 5040 / 12600], examples_per_second: 1745.9488, train_label_loss: 0.6686, \n"
     ]
    },
    {
     "name": "stdout",
     "output_type": "stream",
     "text": [
      "epoch: 4, [batch: 6300 / 12600], examples_per_second: 2379.7973, train_label_loss: 0.5711, \n"
     ]
    },
    {
     "name": "stdout",
     "output_type": "stream",
     "text": [
      "epoch: 4, [batch: 7560 / 12600], examples_per_second: 3899.3237, train_label_loss: 0.3955, \n"
     ]
    },
    {
     "name": "stdout",
     "output_type": "stream",
     "text": [
      "epoch: 4, [batch: 8820 / 12600], examples_per_second: 1907.2622, train_label_loss: 0.6929, \n"
     ]
    },
    {
     "name": "stdout",
     "output_type": "stream",
     "text": [
      "epoch: 4, [batch: 10080 / 12600], examples_per_second: 1803.1937, train_label_loss: 0.6344, \n"
     ]
    },
    {
     "name": "stdout",
     "output_type": "stream",
     "text": [
      "epoch: 4, [batch: 11340 / 12600], examples_per_second: 1761.6627, train_label_loss: 0.6939, \n"
     ]
    },
    {
     "name": "stdout",
     "output_type": "stream",
     "text": [
      "=============================================================\n",
      "epoch: 4, source_val_acc_label: 0.6854, target_val_acc_label: 0.6080, source_val_label_loss: 0.8458, target_val_label_loss: 1.0478, \n",
      "=============================================================\n"
     ]
    },
    {
     "name": "stdout",
     "output_type": "stream",
     "text": [
      "New best\n"
     ]
    },
    {
     "name": "stdout",
     "output_type": "stream",
     "text": [
      "epoch: 5, [batch: 1 / 12600], examples_per_second: 0.9878, train_label_loss: 0.5964, \n"
     ]
    },
    {
     "name": "stdout",
     "output_type": "stream",
     "text": [
      "epoch: 5, [batch: 1260 / 12600], examples_per_second: 1837.8214, train_label_loss: 0.6144, \n"
     ]
    },
    {
     "name": "stdout",
     "output_type": "stream",
     "text": [
      "epoch: 5, [batch: 2520 / 12600], examples_per_second: 1863.3938, train_label_loss: 0.6055, \n"
     ]
    },
    {
     "name": "stdout",
     "output_type": "stream",
     "text": [
      "epoch: 5, [batch: 3780 / 12600], examples_per_second: 3698.5007, train_label_loss: 0.6452, \n"
     ]
    },
    {
     "name": "stdout",
     "output_type": "stream",
     "text": [
      "epoch: 5, [batch: 5040 / 12600], examples_per_second: 2368.8245, train_label_loss: 0.3582, \n"
     ]
    },
    {
     "name": "stdout",
     "output_type": "stream",
     "text": [
      "epoch: 5, [batch: 6300 / 12600], examples_per_second: 1806.3660, train_label_loss: 0.7075, \n"
     ]
    },
    {
     "name": "stdout",
     "output_type": "stream",
     "text": [
      "epoch: 5, [batch: 7560 / 12600], examples_per_second: 1760.4008, train_label_loss: 0.6241, \n"
     ]
    },
    {
     "name": "stdout",
     "output_type": "stream",
     "text": [
      "epoch: 5, [batch: 8820 / 12600], examples_per_second: 1787.3294, train_label_loss: 0.4888, \n"
     ]
    },
    {
     "name": "stdout",
     "output_type": "stream",
     "text": [
      "epoch: 5, [batch: 10080 / 12600], examples_per_second: 1793.1711, train_label_loss: 0.6046, \n"
     ]
    },
    {
     "name": "stdout",
     "output_type": "stream",
     "text": [
      "epoch: 5, [batch: 11340 / 12600], examples_per_second: 1797.1123, train_label_loss: 0.5636, \n"
     ]
    },
    {
     "name": "stdout",
     "output_type": "stream",
     "text": [
      "=============================================================\n",
      "epoch: 5, source_val_acc_label: 0.6829, target_val_acc_label: 0.6050, source_val_label_loss: 0.8745, target_val_label_loss: 1.0761, \n",
      "=============================================================\n"
     ]
    },
    {
     "name": "stdout",
     "output_type": "stream",
     "text": [
      "epoch: 6, [batch: 1 / 12600], examples_per_second: 1.1855, train_label_loss: 0.3662, \n"
     ]
    },
    {
     "name": "stdout",
     "output_type": "stream",
     "text": [
      "epoch: 6, [batch: 1260 / 12600], examples_per_second: 1949.5666, train_label_loss: 0.4017, \n"
     ]
    },
    {
     "name": "stdout",
     "output_type": "stream",
     "text": [
      "epoch: 6, [batch: 2520 / 12600], examples_per_second: 1949.7626, train_label_loss: 0.4906, \n"
     ]
    },
    {
     "name": "stdout",
     "output_type": "stream",
     "text": [
      "epoch: 6, [batch: 3780 / 12600], examples_per_second: 1927.4308, train_label_loss: 0.3487, \n"
     ]
    },
    {
     "name": "stdout",
     "output_type": "stream",
     "text": [
      "epoch: 6, [batch: 5040 / 12600], examples_per_second: 2261.7862, train_label_loss: 0.3944, \n"
     ]
    },
    {
     "name": "stdout",
     "output_type": "stream",
     "text": [
      "epoch: 6, [batch: 6300 / 12600], examples_per_second: 4261.8398, train_label_loss: 0.3695, \n"
     ]
    },
    {
     "name": "stdout",
     "output_type": "stream",
     "text": [
      "epoch: 6, [batch: 7560 / 12600], examples_per_second: 4284.8917, train_label_loss: 0.3768, \n"
     ]
    },
    {
     "name": "stdout",
     "output_type": "stream",
     "text": [
      "epoch: 6, [batch: 8820 / 12600], examples_per_second: 4115.2725, train_label_loss: 0.4557, \n"
     ]
    },
    {
     "name": "stdout",
     "output_type": "stream",
     "text": [
      "epoch: 6, [batch: 10080 / 12600], examples_per_second: 4184.1085, train_label_loss: 0.4469, \n"
     ]
    },
    {
     "name": "stdout",
     "output_type": "stream",
     "text": [
      "epoch: 6, [batch: 11340 / 12600], examples_per_second: 4231.1770, train_label_loss: 0.3687, \n"
     ]
    },
    {
     "name": "stdout",
     "output_type": "stream",
     "text": [
      "=============================================================\n",
      "epoch: 6, source_val_acc_label: 0.6929, target_val_acc_label: 0.6173, source_val_label_loss: 0.8970, target_val_label_loss: 1.0888, \n",
      "=============================================================\n"
     ]
    },
    {
     "name": "stdout",
     "output_type": "stream",
     "text": [
      "New best\n"
     ]
    },
    {
     "name": "stdout",
     "output_type": "stream",
     "text": [
      "epoch: 7, [batch: 1 / 12600], examples_per_second: 2.3107, train_label_loss: 0.3562, \n"
     ]
    },
    {
     "name": "stdout",
     "output_type": "stream",
     "text": [
      "epoch: 7, [batch: 1260 / 12600], examples_per_second: 4825.7486, train_label_loss: 0.7182, \n"
     ]
    },
    {
     "name": "stdout",
     "output_type": "stream",
     "text": [
      "epoch: 7, [batch: 2520 / 12600], examples_per_second: 5146.6325, train_label_loss: 0.7325, \n"
     ]
    },
    {
     "name": "stdout",
     "output_type": "stream",
     "text": [
      "epoch: 7, [batch: 3780 / 12600], examples_per_second: 4932.2997, train_label_loss: 0.3503, \n"
     ]
    },
    {
     "name": "stdout",
     "output_type": "stream",
     "text": [
      "epoch: 7, [batch: 5040 / 12600], examples_per_second: 5136.1584, train_label_loss: 0.4349, \n"
     ]
    },
    {
     "name": "stdout",
     "output_type": "stream",
     "text": [
      "epoch: 7, [batch: 6300 / 12600], examples_per_second: 5305.4763, train_label_loss: 0.5673, \n"
     ]
    },
    {
     "name": "stdout",
     "output_type": "stream",
     "text": [
      "epoch: 7, [batch: 7560 / 12600], examples_per_second: 5060.3527, train_label_loss: 0.3112, \n"
     ]
    },
    {
     "name": "stdout",
     "output_type": "stream",
     "text": [
      "epoch: 7, [batch: 8820 / 12600], examples_per_second: 4795.2228, train_label_loss: 0.0719, \n"
     ]
    },
    {
     "name": "stdout",
     "output_type": "stream",
     "text": [
      "epoch: 7, [batch: 10080 / 12600], examples_per_second: 4966.7432, train_label_loss: 0.1490, \n"
     ]
    },
    {
     "name": "stdout",
     "output_type": "stream",
     "text": [
      "epoch: 7, [batch: 11340 / 12600], examples_per_second: 5010.9112, train_label_loss: 0.3459, \n"
     ]
    },
    {
     "name": "stdout",
     "output_type": "stream",
     "text": [
      "=============================================================\n",
      "epoch: 7, source_val_acc_label: 0.6826, target_val_acc_label: 0.6089, source_val_label_loss: 0.9308, target_val_label_loss: 1.1226, \n",
      "=============================================================\n"
     ]
    },
    {
     "name": "stdout",
     "output_type": "stream",
     "text": [
      "epoch: 8, [batch: 1 / 12600], examples_per_second: 1.9508, train_label_loss: 0.4169, \n"
     ]
    },
    {
     "name": "stdout",
     "output_type": "stream",
     "text": [
      "epoch: 8, [batch: 1260 / 12600], examples_per_second: 3908.3703, train_label_loss: 0.2952, \n"
     ]
    },
    {
     "name": "stdout",
     "output_type": "stream",
     "text": [
      "epoch: 8, [batch: 2520 / 12600], examples_per_second: 3967.8103, train_label_loss: 0.2718, \n"
     ]
    },
    {
     "name": "stdout",
     "output_type": "stream",
     "text": [
      "epoch: 8, [batch: 3780 / 12600], examples_per_second: 3897.4158, train_label_loss: 0.2719, \n"
     ]
    },
    {
     "name": "stdout",
     "output_type": "stream",
     "text": [
      "epoch: 8, [batch: 5040 / 12600], examples_per_second: 3781.5530, train_label_loss: 0.2293, \n"
     ]
    },
    {
     "name": "stdout",
     "output_type": "stream",
     "text": [
      "epoch: 8, [batch: 6300 / 12600], examples_per_second: 3781.4999, train_label_loss: 0.3068, \n"
     ]
    },
    {
     "name": "stdout",
     "output_type": "stream",
     "text": [
      "epoch: 8, [batch: 7560 / 12600], examples_per_second: 3819.4136, train_label_loss: 0.4529, \n"
     ]
    },
    {
     "name": "stdout",
     "output_type": "stream",
     "text": [
      "epoch: 8, [batch: 8820 / 12600], examples_per_second: 3843.6390, train_label_loss: 0.3045, \n"
     ]
    },
    {
     "name": "stdout",
     "output_type": "stream",
     "text": [
      "epoch: 8, [batch: 10080 / 12600], examples_per_second: 4027.8966, train_label_loss: 0.4824, \n"
     ]
    },
    {
     "name": "stdout",
     "output_type": "stream",
     "text": [
      "epoch: 8, [batch: 11340 / 12600], examples_per_second: 4234.5893, train_label_loss: 0.4955, \n"
     ]
    },
    {
     "name": "stdout",
     "output_type": "stream",
     "text": [
      "=============================================================\n",
      "epoch: 8, source_val_acc_label: 0.6861, target_val_acc_label: 0.6058, source_val_label_loss: 0.9748, target_val_label_loss: 1.1690, \n",
      "=============================================================\n"
     ]
    },
    {
     "name": "stdout",
     "output_type": "stream",
     "text": [
      "epoch: 9, [batch: 1 / 12600], examples_per_second: 1.8788, train_label_loss: 0.3248, \n"
     ]
    },
    {
     "name": "stdout",
     "output_type": "stream",
     "text": [
      "epoch: 9, [batch: 1260 / 12600], examples_per_second: 3907.3292, train_label_loss: 0.5355, \n"
     ]
    },
    {
     "name": "stdout",
     "output_type": "stream",
     "text": [
      "epoch: 9, [batch: 2520 / 12600], examples_per_second: 3967.5177, train_label_loss: 0.2626, \n"
     ]
    },
    {
     "name": "stdout",
     "output_type": "stream",
     "text": [
      "epoch: 9, [batch: 3780 / 12600], examples_per_second: 3872.5994, train_label_loss: 0.1613, \n"
     ]
    },
    {
     "name": "stdout",
     "output_type": "stream",
     "text": [
      "epoch: 9, [batch: 5040 / 12600], examples_per_second: 3884.8694, train_label_loss: 0.6229, \n"
     ]
    },
    {
     "name": "stdout",
     "output_type": "stream",
     "text": [
      "epoch: 9, [batch: 6300 / 12600], examples_per_second: 3888.2567, train_label_loss: 0.1225, \n"
     ]
    },
    {
     "name": "stdout",
     "output_type": "stream",
     "text": [
      "epoch: 9, [batch: 7560 / 12600], examples_per_second: 3980.1250, train_label_loss: 0.2361, \n"
     ]
    },
    {
     "name": "stdout",
     "output_type": "stream",
     "text": [
      "epoch: 9, [batch: 8820 / 12600], examples_per_second: 3989.8293, train_label_loss: 0.2708, \n"
     ]
    },
    {
     "name": "stdout",
     "output_type": "stream",
     "text": [
      "epoch: 9, [batch: 10080 / 12600], examples_per_second: 4360.9990, train_label_loss: 0.1080, \n"
     ]
    },
    {
     "name": "stdout",
     "output_type": "stream",
     "text": [
      "epoch: 9, [batch: 11340 / 12600], examples_per_second: 4367.4178, train_label_loss: 0.4244, \n"
     ]
    },
    {
     "name": "stdout",
     "output_type": "stream",
     "text": [
      "=============================================================\n",
      "epoch: 9, source_val_acc_label: 0.6861, target_val_acc_label: 0.6065, source_val_label_loss: 1.0543, target_val_label_loss: 1.2372, \n",
      "=============================================================\n"
     ]
    },
    {
     "name": "stdout",
     "output_type": "stream",
     "text": [
      "epoch: 10, [batch: 1 / 12600], examples_per_second: 1.9318, train_label_loss: 0.1746, \n"
     ]
    },
    {
     "name": "stdout",
     "output_type": "stream",
     "text": [
      "epoch: 10, [batch: 1260 / 12600], examples_per_second: 3805.1828, train_label_loss: 0.0874, \n"
     ]
    },
    {
     "name": "stdout",
     "output_type": "stream",
     "text": [
      "epoch: 10, [batch: 2520 / 12600], examples_per_second: 3916.9356, train_label_loss: 0.4037, \n"
     ]
    },
    {
     "name": "stdout",
     "output_type": "stream",
     "text": [
      "epoch: 10, [batch: 3780 / 12600], examples_per_second: 3939.1100, train_label_loss: 0.1604, \n"
     ]
    },
    {
     "name": "stdout",
     "output_type": "stream",
     "text": [
      "epoch: 10, [batch: 5040 / 12600], examples_per_second: 3896.2635, train_label_loss: 0.1752, \n"
     ]
    },
    {
     "name": "stdout",
     "output_type": "stream",
     "text": [
      "epoch: 10, [batch: 6300 / 12600], examples_per_second: 3837.9546, train_label_loss: 0.5600, \n"
     ]
    },
    {
     "name": "stdout",
     "output_type": "stream",
     "text": [
      "epoch: 10, [batch: 7560 / 12600], examples_per_second: 3865.1831, train_label_loss: 0.0633, \n"
     ]
    },
    {
     "name": "stdout",
     "output_type": "stream",
     "text": [
      "epoch: 10, [batch: 8820 / 12600], examples_per_second: 3783.2621, train_label_loss: 0.2998, \n"
     ]
    },
    {
     "name": "stdout",
     "output_type": "stream",
     "text": [
      "epoch: 10, [batch: 10080 / 12600], examples_per_second: 4123.1802, train_label_loss: 0.1255, \n"
     ]
    },
    {
     "name": "stdout",
     "output_type": "stream",
     "text": [
      "epoch: 10, [batch: 11340 / 12600], examples_per_second: 4255.9341, train_label_loss: 0.3499, \n"
     ]
    },
    {
     "name": "stdout",
     "output_type": "stream",
     "text": [
      "=============================================================\n",
      "epoch: 10, source_val_acc_label: 0.6856, target_val_acc_label: 0.6077, source_val_label_loss: 1.0748, target_val_label_loss: 1.2676, \n",
      "=============================================================\n"
     ]
    },
    {
     "name": "stdout",
     "output_type": "stream",
     "text": [
      "Patience (3) exhausted\n"
     ]
    }
   ],
   "source": [
    "###################################\n",
    "# train\n",
    "###################################\n",
    "jig = PTN_Train_Eval_Test_Jig(model, p.BEST_MODEL_PATH, p.device)\n",
    "\n",
    "jig.train(\n",
    "    train_iterable=datasets.source.processed.train,\n",
    "    source_val_iterable=datasets.source.processed.val,\n",
    "    target_val_iterable=datasets.target.processed.val,\n",
    "    num_epochs=p.n_epoch,\n",
    "    num_logs_per_epoch=p.NUM_LOGS_PER_EPOCH,\n",
    "    patience=p.patience,\n",
    "    optimizer=optimizer,\n",
    "    criteria_for_best=p.criteria_for_best,\n",
    ")"
   ]
  },
  {
   "cell_type": "code",
   "execution_count": 14,
   "id": "31e8fabf",
   "metadata": {
    "execution": {
     "iopub.execute_input": "2022-03-26T12:22:05.621419Z",
     "iopub.status.busy": "2022-03-26T12:22:05.621049Z",
     "iopub.status.idle": "2022-03-26T12:22:05.652450Z",
     "shell.execute_reply": "2022-03-26T12:22:05.651635Z"
    },
    "papermill": {
     "duration": 0.083573,
     "end_time": "2022-03-26T12:22:05.652607",
     "exception": false,
     "start_time": "2022-03-26T12:22:05.569034",
     "status": "completed"
    },
    "tags": []
   },
   "outputs": [],
   "source": [
    "total_experiment_time_secs = time.time() - start_time_secs"
   ]
  },
  {
   "cell_type": "code",
   "execution_count": 15,
   "id": "87b9595b",
   "metadata": {
    "execution": {
     "iopub.execute_input": "2022-03-26T12:22:05.759325Z",
     "iopub.status.busy": "2022-03-26T12:22:05.758931Z",
     "iopub.status.idle": "2022-03-26T12:29:01.286351Z",
     "shell.execute_reply": "2022-03-26T12:29:01.285584Z"
    },
    "papermill": {
     "duration": 415.580144,
     "end_time": "2022-03-26T12:29:01.286529",
     "exception": false,
     "start_time": "2022-03-26T12:22:05.706385",
     "status": "completed"
    },
    "tags": []
   },
   "outputs": [],
   "source": [
    "###################################\n",
    "# Evaluate the model\n",
    "###################################\n",
    "source_test_label_accuracy, source_test_label_loss = jig.test(datasets.source.processed.test)\n",
    "target_test_label_accuracy, target_test_label_loss = jig.test(datasets.target.processed.test)\n",
    "\n",
    "source_val_label_accuracy, source_val_label_loss = jig.test(datasets.source.processed.val)\n",
    "target_val_label_accuracy, target_val_label_loss = jig.test(datasets.target.processed.val)\n",
    "\n",
    "history = jig.get_history()\n",
    "\n",
    "total_epochs_trained = len(history[\"epoch_indices\"])\n",
    "\n",
    "val_dl = Iterable_Aggregator((datasets.source.original.val,datasets.target.original.val))\n",
    "\n",
    "confusion = ptn_confusion_by_domain_over_dataloader(model, p.device, val_dl)\n",
    "per_domain_accuracy = per_domain_accuracy_from_confusion(confusion)\n",
    "\n",
    "# Add a key to per_domain_accuracy for if it was a source domain\n",
    "for domain, accuracy in per_domain_accuracy.items():\n",
    "    per_domain_accuracy[domain] = {\n",
    "        \"accuracy\": accuracy,\n",
    "        \"source?\": domain in p.domains_source\n",
    "    }\n",
    "\n",
    "# Do an independent accuracy assesment JUST TO BE SURE!\n",
    "# _source_test_label_accuracy = independent_accuracy_assesment(model, datasets.source.processed.test, p.device)\n",
    "# _target_test_label_accuracy = independent_accuracy_assesment(model, datasets.target.processed.test, p.device)\n",
    "# _source_val_label_accuracy = independent_accuracy_assesment(model, datasets.source.processed.val, p.device)\n",
    "# _target_val_label_accuracy = independent_accuracy_assesment(model, datasets.target.processed.val, p.device)\n",
    "\n",
    "# assert(_source_test_label_accuracy == source_test_label_accuracy)\n",
    "# assert(_target_test_label_accuracy == target_test_label_accuracy)\n",
    "# assert(_source_val_label_accuracy == source_val_label_accuracy)\n",
    "# assert(_target_val_label_accuracy == target_val_label_accuracy)\n",
    "\n",
    "experiment = {\n",
    "    \"experiment_name\": p.experiment_name,\n",
    "    \"parameters\": dict(p),\n",
    "    \"results\": {\n",
    "        \"source_test_label_accuracy\": source_test_label_accuracy,\n",
    "        \"source_test_label_loss\": source_test_label_loss,\n",
    "        \"target_test_label_accuracy\": target_test_label_accuracy,\n",
    "        \"target_test_label_loss\": target_test_label_loss,\n",
    "        \"source_val_label_accuracy\": source_val_label_accuracy,\n",
    "        \"source_val_label_loss\": source_val_label_loss,\n",
    "        \"target_val_label_accuracy\": target_val_label_accuracy,\n",
    "        \"target_val_label_loss\": target_val_label_loss,\n",
    "        \"total_epochs_trained\": total_epochs_trained,\n",
    "        \"total_experiment_time_secs\": total_experiment_time_secs,\n",
    "        \"confusion\": confusion,\n",
    "        \"per_domain_accuracy\": per_domain_accuracy,\n",
    "    },\n",
    "    \"history\": history,\n",
    "    \"dataset_metrics\": get_dataset_metrics(datasets, \"ptn\"),\n",
    "}"
   ]
  },
  {
   "cell_type": "code",
   "execution_count": 16,
   "id": "54a21829",
   "metadata": {
    "execution": {
     "iopub.execute_input": "2022-03-26T12:29:01.392207Z",
     "iopub.status.busy": "2022-03-26T12:29:01.391569Z",
     "iopub.status.idle": "2022-03-26T12:29:01.633864Z",
     "shell.execute_reply": "2022-03-26T12:29:01.633083Z"
    },
    "papermill": {
     "duration": 0.294117,
     "end_time": "2022-03-26T12:29:01.634033",
     "exception": false,
     "start_time": "2022-03-26T12:29:01.339916",
     "status": "completed"
    },
    "tags": []
   },
   "outputs": [
    {
     "data": {
      "image/png": "[encoded data removed]",
      "text/plain": [
       "<Figure size 1080x504 with 1 Axes>"
      ]
     },
     "metadata": {
      "needs_background": "light"
     },
     "output_type": "display_data"
    }
   ],
   "source": [
    "ax = get_loss_curve(experiment)\n",
    "plt.show()"
   ]
  },
  {
   "cell_type": "code",
   "execution_count": 17,
   "id": "fd8a0f60",
   "metadata": {
    "execution": {
     "iopub.execute_input": "2022-03-26T12:29:01.740207Z",
     "iopub.status.busy": "2022-03-26T12:29:01.739834Z",
     "iopub.status.idle": "2022-03-26T12:29:02.090519Z",
     "shell.execute_reply": "2022-03-26T12:29:02.091200Z"
    },
    "papermill": {
     "duration": 0.404747,
     "end_time": "2022-03-26T12:29:02.091416",
     "exception": false,
     "start_time": "2022-03-26T12:29:01.686669",
     "status": "completed"
    },
    "tags": []
   },
   "outputs": [
    {
     "data": {
      "text/plain": [
       "<AxesSubplot:title={'center':'Results'}>"
      ]
     },
     "execution_count": 17,
     "metadata": {},
     "output_type": "execute_result"
    },
    {
     "data": {
      "image/png": "[encoded data removed]",
      "text/plain": [
       "<Figure size 1080x504 with 1 Axes>"
      ]
     },
     "metadata": {
      "needs_background": "light"
     },
     "output_type": "display_data"
    }
   ],
   "source": [
    "get_results_table(experiment)"
   ]
  },
  {
   "cell_type": "code",
   "execution_count": 18,
   "id": "cf8dc689",
   "metadata": {
    "execution": {
     "iopub.execute_input": "2022-03-26T12:29:02.206955Z",
     "iopub.status.busy": "2022-03-26T12:29:02.206585Z",
     "iopub.status.idle": "2022-03-26T12:29:02.420475Z",
     "shell.execute_reply": "2022-03-26T12:29:02.421152Z"
    },
    "papermill": {
     "duration": 0.272695,
     "end_time": "2022-03-26T12:29:02.421365",
     "exception": false,
     "start_time": "2022-03-26T12:29:02.148670",
     "status": "completed"
    },
    "tags": []
   },
   "outputs": [
    {
     "data": {
      "text/plain": [
       "<AxesSubplot:title={'center':'Per Domain Validation Accuracy'}, xlabel='domain'>"
      ]
     },
     "execution_count": 18,
     "metadata": {},
     "output_type": "execute_result"
    },
    {
     "data": {
      "image/png": "[encoded data removed]",
      "text/plain": [
       "<Figure size 1080x504 with 1 Axes>"
      ]
     },
     "metadata": {
      "needs_background": "light"
     },
     "output_type": "display_data"
    }
   ],
   "source": [
    "get_domain_accuracies(experiment)"
   ]
  },
  {
   "cell_type": "code",
   "execution_count": 19,
   "id": "a74ae082",
   "metadata": {
    "execution": {
     "iopub.execute_input": "2022-03-26T12:29:02.533905Z",
     "iopub.status.busy": "2022-03-26T12:29:02.533337Z",
     "iopub.status.idle": "2022-03-26T12:29:02.560989Z",
     "shell.execute_reply": "2022-03-26T12:29:02.560280Z"
    },
    "papermill": {
     "duration": 0.084398,
     "end_time": "2022-03-26T12:29:02.561145",
     "exception": false,
     "start_time": "2022-03-26T12:29:02.476747",
     "status": "completed"
    },
    "tags": []
   },
   "outputs": [
    {
     "name": "stdout",
     "output_type": "stream",
     "text": [
      "Source Test Label Accuracy: 0.69125 Target Test Label Accuracy: 0.6125729166666667\n",
      "Source Val Label Accuracy: 0.6928645833333333 Target Val Label Accuracy: 0.6173125\n"
     ]
    }
   ],
   "source": [
    "print(\"Source Test Label Accuracy:\", experiment[\"results\"][\"source_test_label_accuracy\"], \"Target Test Label Accuracy:\", experiment[\"results\"][\"target_test_label_accuracy\"])\n",
    "print(\"Source Val Label Accuracy:\", experiment[\"results\"][\"source_val_label_accuracy\"], \"Target Val Label Accuracy:\", experiment[\"results\"][\"target_val_label_accuracy\"])"
   ]
  },
  {
   "cell_type": "code",
   "execution_count": 20,
   "id": "dacca602",
   "metadata": {
    "execution": {
     "iopub.execute_input": "2022-03-26T12:29:02.673013Z",
     "iopub.status.busy": "2022-03-26T12:29:02.672350Z",
     "iopub.status.idle": "2022-03-26T12:29:02.695104Z",
     "shell.execute_reply": "2022-03-26T12:29:02.694285Z"
    },
    "papermill": {
     "duration": 0.077903,
     "end_time": "2022-03-26T12:29:02.695261",
     "exception": false,
     "start_time": "2022-03-26T12:29:02.617358",
     "status": "completed"
    },
    "tags": [
     "experiment_json"
    ]
   },
   "outputs": [
    {
     "data": {
      "text/plain": [
       "'{\"experiment_name\": \"tuned_1v2:oracle.run1_limited\", \"parameters\": {\"experiment_name\": \"tuned_1v2:oracle.run1_limited\", \"device\": \"cuda\", \"lr\": 0.0001, \"labels_source\": [\"3123D52\", \"3123D65\", \"3123D79\", \"3123D80\", \"3123D54\", \"3123D70\", \"3123D7B\", \"3123D89\", \"3123D58\", \"3123D76\", \"3123D7D\", \"3123EFE\", \"3123D64\", \"3123D78\", \"3123D7E\", \"3124E4A\"], \"labels_target\": [\"3123D52\", \"3123D65\", \"3123D79\", \"3123D80\", \"3123D54\", \"3123D70\", \"3123D7B\", \"3123D89\", \"3123D58\", \"3123D76\", \"3123D7D\", \"3123EFE\", \"3123D64\", \"3123D78\", \"3123D7E\", \"3124E4A\"], \"episode_transforms_source\": [], \"episode_transforms_target\": [], \"domains_source\": [8, 32, 50], \"domains_target\": [14, 20, 26, 38, 44], \"num_examples_per_domain_per_label_source\": -1, \"num_examples_per_domain_per_label_target\": -1, \"n_shot\": 3, \"n_way\": 16, \"n_query\": 2, \"train_k_factor\": 3, \"val_k_factor\": 2, \"test_k_factor\": 2, \"torch_default_dtype\": \"torch.float32\", \"n_epoch\": 50, \"patience\": 3, \"criteria_for_best\": \"target_accuracy\", \"x_net\": [{\"class\": \"nnReshape\", \"kargs\": {\"shape\": [-1, 1, 2, 256]}}, {\"class\": \"Conv2d\", \"kargs\": {\"in_channels\": 1, \"out_channels\": 256, \"kernel_size\": [1, 7], \"bias\": false, \"padding\": [0, 3]}}, {\"class\": \"ReLU\", \"kargs\": {\"inplace\": true}}, {\"class\": \"BatchNorm2d\", \"kargs\": {\"num_features\": 256}}, {\"class\": \"Conv2d\", \"kargs\": {\"in_channels\": 256, \"out_channels\": 80, \"kernel_size\": [2, 7], \"bias\": true, \"padding\": [0, 3]}}, {\"class\": \"ReLU\", \"kargs\": {\"inplace\": true}}, {\"class\": \"BatchNorm2d\", \"kargs\": {\"num_features\": 80}}, {\"class\": \"Flatten\", \"kargs\": {}}, {\"class\": \"Linear\", \"kargs\": {\"in_features\": 20480, \"out_features\": 256}}, {\"class\": \"ReLU\", \"kargs\": {\"inplace\": true}}, {\"class\": \"BatchNorm1d\", \"kargs\": {\"num_features\": 256}}, {\"class\": \"Linear\", \"kargs\": {\"in_features\": 256, \"out_features\": 256}}], \"NUM_LOGS_PER_EPOCH\": 10, \"BEST_MODEL_PATH\": \"./best_model.pth\", \"pickle_name\": \"oracle.Run1_10kExamples_stratified_ds.2022A.pkl\", \"x_transforms_source\": [\"unit_power\"], \"x_transforms_target\": [\"unit_power\"], \"dataset_seed\": 154325, \"seed\": 154325}, \"results\": {\"source_test_label_accuracy\": 0.69125, \"source_test_label_loss\": 0.9019196033477783, \"target_test_label_accuracy\": 0.6125729166666667, \"target_test_label_loss\": 1.1026674509048462, \"source_val_label_accuracy\": 0.6928645833333333, \"source_val_label_loss\": 0.8969972133636475, \"target_val_label_accuracy\": 0.6173125, \"target_val_label_loss\": 1.0888466835021973, \"total_epochs_trained\": 10, \"total_experiment_time_secs\": 4709.464425325394, \"confusion\": {\"32\": {\"13\": {\"13\": 406, \"8\": 95, \"5\": 315, \"14\": 61, \"11\": 37, \"4\": 39, \"3\": 74, \"0\": 49, \"7\": 124}, \"9\": {\"9\": 1198, \"12\": 2}, \"15\": {\"15\": 1182, \"8\": 15, \"3\": 3}, \"2\": {\"2\": 952, \"4\": 169, \"7\": 25, \"0\": 48, \"13\": 1, \"14\": 5}, \"3\": {\"3\": 1070, \"11\": 39, \"13\": 47, \"8\": 23, \"14\": 6, \"5\": 13, \"7\": 2}, \"8\": {\"8\": 834, \"0\": 93, \"7\": 12, \"5\": 100, \"13\": 125, \"4\": 10, \"3\": 23, \"14\": 3}, \"5\": {\"5\": 350, \"13\": 281, \"7\": 142, \"0\": 72, \"14\": 40, \"8\": 107, \"4\": 128, \"3\": 46, \"11\": 23, \"2\": 11}, \"14\": {\"14\": 434, \"11\": 328, \"7\": 257, \"4\": 24, \"13\": 55, \"5\": 34, \"2\": 22, \"3\": 14, \"0\": 29, \"8\": 3}, \"1\": {\"1\": 1192, \"10\": 8}, \"0\": {\"0\": 667, \"4\": 183, \"2\": 77, \"7\": 62, \"8\": 113, \"13\": 32, \"5\": 51, \"14\": 15}, \"10\": {\"10\": 1191, \"1\": 9}, \"6\": {\"6\": 1200}, \"11\": {\"11\": 869, \"14\": 244, \"7\": 29, \"13\": 25, \"3\": 25, \"5\": 8}, \"7\": {\"8\": 5, \"7\": 451, \"14\": 220, \"5\": 132, \"4\": 160, \"2\": 41, \"11\": 54, \"0\": 36, \"13\": 100, \"3\": 1}, \"4\": {\"4\": 554, \"0\": 129, \"14\": 15, \"7\": 157, \"2\": 196, \"5\": 106, \"8\": 7, \"13\": 36}, \"12\": {\"12\": 1200}}, \"50\": {\"10\": {\"10\": 1086, \"0\": 37, \"8\": 16, \"7\": 32, \"13\": 25, \"5\": 4}, \"12\": {\"12\": 1073, \"9\": 72, \"14\": 50, \"11\": 5}, \"1\": {\"1\": 676, \"15\": 289, \"6\": 92, \"4\": 128, \"5\": 5, \"11\": 6, \"14\": 4}, \"0\": {\"0\": 986, \"2\": 145, \"10\": 60, \"13\": 5, \"6\": 2, \"5\": 1, \"1\": 1}, \"15\": {\"15\": 799, \"1\": 240, \"4\": 114, \"11\": 34, \"6\": 12, \"5\": 1}, \"13\": {\"7\": 209, \"10\": 8, \"13\": 631, \"5\": 246, \"6\": 77, \"4\": 22, \"0\": 7}, \"8\": {\"8\": 1140, \"3\": 28, \"10\": 32}, \"3\": {\"3\": 1169, \"8\": 31}, \"11\": {\"11\": 1028, \"9\": 115, \"15\": 27, \"14\": 18, \"12\": 10, \"1\": 2}, \"4\": {\"4\": 436, \"5\": 104, \"15\": 193, \"6\": 191, \"1\": 214, \"13\": 33, \"7\": 29}, \"6\": {\"6\": 732, \"1\": 133, \"13\": 70, \"5\": 93, \"4\": 160, \"15\": 8, \"0\": 1, \"7\": 3}, \"7\": {\"5\": 187, \"7\": 718, \"10\": 33, \"13\": 254, \"6\": 3, \"4\": 4, \"0\": 1}, \"14\": {\"14\": 1155, \"11\": 13, \"12\": 30, \"9\": 2}, \"2\": {\"2\": 1115, \"0\": 82, \"14\": 3}, \"5\": {\"13\": 222, \"5\": 334, \"7\": 260, \"4\": 139, \"6\": 191, \"1\": 29, \"10\": 16, \"0\": 3, \"15\": 5, \"2\": 1}, \"9\": {\"9\": 887, \"12\": 121, \"11\": 187, \"14\": 5}}, \"8\": {\"14\": {\"14\": 587, \"13\": 103, \"10\": 207, \"11\": 12, \"1\": 83, \"0\": 9, \"4\": 188, \"6\": 5, \"5\": 6}, \"10\": {\"10\": 751, \"14\": 234, \"4\": 56, \"1\": 14, \"5\": 39, \"13\": 96, \"0\": 6, \"11\": 3, \"6\": 1}, \"2\": {\"2\": 885, \"12\": 24, \"7\": 20, \"3\": 234, \"15\": 34, \"8\": 3}, \"8\": {\"8\": 1056, \"11\": 3, \"6\": 19, \"15\": 91, \"7\": 16, \"12\": 15}, \"6\": {\"7\": 294, \"6\": 606, \"0\": 96, \"13\": 29, \"4\": 147, \"8\": 21, \"14\": 7}, \"7\": {\"7\": 835, \"8\": 16, \"6\": 256, \"13\": 8, \"0\": 59, \"2\": 7, \"4\": 8, \"15\": 10, \"12\": 1}, \"9\": {\"9\": 1200}, \"11\": {\"11\": 669, \"1\": 455, \"8\": 24, \"5\": 24, \"14\": 19, \"4\": 2, \"10\": 7}, \"12\": {\"12\": 591, \"15\": 358, \"8\": 30, \"3\": 191, \"2\": 29, \"7\": 1}, \"13\": {\"14\": 104, \"0\": 310, \"13\": 356, \"10\": 157, \"4\": 212, \"6\": 49, \"1\": 4, \"7\": 8}, \"0\": {\"6\": 97, \"0\": 666, \"13\": 246, \"7\": 96, \"4\": 72, \"10\": 11, \"14\": 12}, \"3\": {\"3\": 925, \"2\": 186, \"12\": 79, \"15\": 10}, \"4\": {\"4\": 535, \"13\": 212, \"14\": 189, \"6\": 151, \"0\": 68, \"10\": 27, \"7\": 12, \"1\": 4, \"11\": 2}, \"15\": {\"15\": 805, \"12\": 301, \"8\": 59, \"7\": 1, \"3\": 17, \"2\": 17}, \"5\": {\"5\": 1038, \"10\": 86, \"14\": 16, \"11\": 14, \"1\": 45, \"13\": 1}, \"1\": {\"1\": 689, \"14\": 90, \"11\": 370, \"4\": 8, \"10\": 18, \"5\": 24, \"8\": 1}}, \"44\": {\"13\": {\"13\": 786, \"9\": 140, \"7\": 11, \"6\": 195, \"11\": 63, \"14\": 1, \"4\": 4}, \"9\": {\"13\": 143, \"9\": 683, \"6\": 109, \"7\": 247, \"11\": 1, \"2\": 13, \"4\": 4}, \"15\": {\"15\": 952, \"5\": 28, \"8\": 24, \"0\": 75, \"14\": 108, \"4\": 13}, \"2\": {\"7\": 185, \"2\": 814, \"1\": 69, \"10\": 110, \"6\": 3, \"12\": 2, \"9\": 9, \"3\": 8}, \"3\": {\"3\": 1038, \"1\": 137, \"2\": 4, \"12\": 17, \"7\": 3, \"10\": 1}, \"8\": {\"0\": 369, \"15\": 40, \"8\": 762, \"5\": 29}, \"5\": {\"5\": 1005, \"14\": 40, \"0\": 92, \"4\": 8, \"8\": 13, \"15\": 42}, \"14\": {\"14\": 739, \"4\": 383, \"15\": 59, \"5\": 18, \"0\": 1}, \"1\": {\"12\": 261, \"3\": 176, \"1\": 595, \"10\": 110, \"7\": 4, \"2\": 54}, \"0\": {\"8\": 328, \"0\": 694, \"5\": 108, \"15\": 70}, \"10\": {\"10\": 826, \"1\": 125, \"12\": 129, \"2\": 118, \"7\": 2}, \"6\": {\"13\": 193, \"6\": 821, \"11\": 46, \"7\": 46, \"9\": 93, \"2\": 1}, \"11\": {\"11\": 1046, \"13\": 102, \"6\": 51, \"9\": 1}, \"7\": {\"7\": 693, \"2\": 203, \"9\": 238, \"6\": 44, \"13\": 6, \"3\": 9, \"1\": 5, \"10\": 2}, \"4\": {\"14\": 399, \"4\": 789, \"15\": 10, \"13\": 1, \"5\": 1}, \"12\": {\"12\": 815, \"1\": 261, \"10\": 98, \"3\": 25, \"2\": 1}}, \"38\": {\"13\": {\"15\": 357, \"10\": 88, \"13\": 665, \"8\": 28, \"1\": 25, \"2\": 27, \"0\": 2, \"5\": 6, \"14\": 2}, \"12\": {\"12\": 1090, \"10\": 67, \"4\": 37, \"11\": 6}, \"2\": {\"2\": 1099, \"14\": 70, \"13\": 25, \"11\": 2, \"10\": 3, \"15\": 1}, \"9\": {\"9\": 669, \"6\": 431, \"3\": 75, \"5\": 19, \"0\": 4, \"8\": 1, \"1\": 1}, \"15\": {\"13\": 324, \"15\": 650, \"1\": 124, \"8\": 67, \"5\": 21, \"10\": 10, \"2\": 3, \"0\": 1}, \"5\": {\"5\": 475, \"0\": 137, \"9\": 25, \"6\": 79, \"8\": 295, \"7\": 72, \"15\": 56, \"1\": 18, \"3\": 37, \"10\": 5, \"13\": 1}, \"14\": {\"14\": 872, \"11\": 240, \"10\": 12, \"2\": 60, \"12\": 11, \"13\": 5}, \"0\": {\"7\": 294, \"8\": 315, \"5\": 148, \"0\": 345, \"3\": 48, \"6\": 5, \"9\": 1, \"10\": 25, \"12\": 7, \"4\": 2, \"13\": 2, \"15\": 8}, \"3\": {\"0\": 18, \"3\": 1003, \"7\": 48, \"9\": 102, \"6\": 15, \"5\": 14}, \"1\": {\"1\": 1125, \"15\": 66, \"5\": 4, \"13\": 4, \"8\": 1}, \"11\": {\"11\": 790, \"14\": 352, \"12\": 35, \"2\": 7, \"10\": 15, \"4\": 1}, \"7\": {\"0\": 235, \"7\": 854, \"8\": 42, \"5\": 46, \"3\": 21, \"10\": 2}, \"8\": {\"5\": 234, \"8\": 658, \"10\": 28, \"0\": 207, \"15\": 30, \"13\": 8, \"7\": 32, \"9\": 1, \"1\": 1, \"6\": 1}, \"4\": {\"4\": 1125, \"12\": 71, \"7\": 1, \"10\": 2, \"0\": 1}, \"10\": {\"10\": 857, \"15\": 20, \"8\": 49, \"13\": 92, \"12\": 122, \"14\": 9, \"4\": 4, \"11\": 5, \"0\": 32, \"5\": 4, \"2\": 3, \"7\": 3}, \"6\": {\"6\": 861, \"9\": 324, \"5\": 13, \"7\": 1, \"3\": 1}}, \"26\": {\"10\": {\"14\": 116, \"10\": 365, \"0\": 281, \"1\": 56, \"6\": 90, \"8\": 144, \"4\": 82, \"15\": 11, \"2\": 2, \"7\": 12, \"9\": 38, \"5\": 3}, \"12\": {\"12\": 1193, \"11\": 7}, \"1\": {\"1\": 556, \"14\": 292, \"10\": 45, \"4\": 169, \"0\": 105, \"8\": 15, \"7\": 11, \"3\": 4, \"6\": 1, \"2\": 2}, \"0\": {\"0\": 284, \"4\": 204, \"14\": 160, \"10\": 266, \"1\": 87, \"7\": 35, \"8\": 108, \"15\": 2, \"9\": 12, \"5\": 2, \"3\": 4, \"6\": 33, \"2\": 3}, \"15\": {\"8\": 103, \"9\": 284, \"15\": 341, \"5\": 257, \"6\": 47, \"13\": 68, \"2\": 43, \"7\": 20, \"10\": 17, \"0\": 16, \"3\": 1, \"4\": 3}, \"13\": {\"9\": 36, \"13\": 813, \"5\": 244, \"15\": 79, \"3\": 1, \"6\": 11, \"2\": 15, \"7\": 1}, \"8\": {\"7\": 110, \"0\": 115, \"10\": 132, \"8\": 351, \"6\": 65, \"9\": 142, \"5\": 17, \"14\": 29, \"15\": 92, \"2\": 35, \"4\": 88, \"1\": 15, \"3\": 7, \"13\": 2}, \"3\": {\"2\": 270, \"3\": 665, \"7\": 247, \"1\": 4, \"8\": 3, \"4\": 7, \"5\": 2, \"15\": 2}, \"11\": {\"11\": 1181, \"12\": 19}, \"4\": {\"8\": 125, \"14\": 229, \"4\": 307, \"7\": 104, \"1\": 170, \"10\": 82, \"0\": 156, \"6\": 4, \"3\": 7, \"9\": 7, \"15\": 4, \"2\": 4, \"5\": 1}, \"6\": {\"6\": 733, \"9\": 200, \"15\": 50, \"10\": 106, \"5\": 5, \"8\": 52, \"0\": 27, \"13\": 22, \"14\": 2, \"4\": 2, \"7\": 1}, \"7\": {\"8\": 66, \"7\": 516, \"2\": 157, \"3\": 217, \"4\": 127, \"0\": 21, \"15\": 25, \"9\": 12, \"10\": 5, \"1\": 23, \"14\": 25, \"5\": 6}, \"14\": {\"14\": 360, \"4\": 242, \"1\": 254, \"10\": 97, \"0\": 172, \"8\": 44, \"7\": 27, \"6\": 2, \"9\": 1, \"3\": 1}, \"2\": {\"2\": 418, \"3\": 388, \"8\": 46, \"7\": 119, \"5\": 104, \"15\": 78, \"9\": 35, \"10\": 1, \"13\": 3, \"4\": 5, \"0\": 2, \"6\": 1}, \"5\": {\"9\": 72, \"5\": 580, \"13\": 196, \"15\": 218, \"2\": 77, \"7\": 16, \"3\": 8, \"6\": 5, \"8\": 25, \"0\": 1, \"4\": 1, \"10\": 1}, \"9\": {\"15\": 276, \"6\": 158, \"5\": 104, \"9\": 401, \"10\": 26, \"8\": 160, \"2\": 13, \"0\": 12, \"13\": 35, \"7\": 11, \"3\": 3, \"1\": 1}}, \"20\": {\"5\": {\"5\": 321, \"12\": 159, \"0\": 282, \"1\": 222, \"15\": 112, \"4\": 12, \"3\": 68, \"9\": 13, \"13\": 2, \"2\": 9}, \"15\": {\"5\": 103, \"15\": 643, \"1\": 209, \"0\": 128, \"9\": 5, \"13\": 51, \"12\": 44, \"3\": 11, \"2\": 6}, \"9\": {\"2\": 302, \"3\": 175, \"4\": 13, \"7\": 109, \"9\": 351, \"8\": 20, \"12\": 128, \"13\": 54, \"1\": 20, \"5\": 17, \"15\": 6, \"0\": 5}, \"7\": {\"7\": 685, \"8\": 125, \"13\": 8, \"2\": 193, \"9\": 91, \"6\": 30, \"3\": 49, \"4\": 8, \"12\": 4, \"11\": 2, \"10\": 5}, \"3\": {\"12\": 216, \"9\": 163, \"0\": 23, \"3\": 400, \"7\": 52, \"2\": 123, \"1\": 36, \"15\": 7, \"4\": 85, \"13\": 9, \"8\": 38, \"5\": 48}, \"8\": {\"8\": 629, \"4\": 239, \"7\": 113, \"10\": 94, \"6\": 21, \"12\": 7, \"14\": 39, \"3\": 39, \"2\": 7, \"9\": 11, \"0\": 1}, \"4\": {\"4\": 790, \"10\": 62, \"3\": 82, \"8\": 207, \"12\": 20, \"9\": 6, \"5\": 12, \"0\": 8, \"7\": 8, \"2\": 1, \"14\": 2, \"1\": 2}, \"6\": {\"7\": 38, \"6\": 930, \"14\": 195, \"8\": 17, \"10\": 18, \"11\": 2}, \"2\": {\"9\": 285, \"13\": 127, \"7\": 164, \"2\": 419, \"5\": 9, \"12\": 65, \"3\": 96, \"8\": 13, \"1\": 13, \"0\": 2, \"15\": 6, \"11\": 1}, \"12\": {\"1\": 147, \"12\": 329, \"2\": 49, \"5\": 152, \"3\": 236, \"9\": 123, \"0\": 71, \"15\": 32, \"7\": 11, \"8\": 9, \"4\": 24, \"13\": 17}, \"0\": {\"0\": 419, \"5\": 284, \"9\": 23, \"15\": 166, \"12\": 76, \"3\": 48, \"1\": 143, \"4\": 21, \"13\": 6, \"8\": 5, \"2\": 8, \"7\": 1}, \"13\": {\"13\": 975, \"15\": 29, \"9\": 47, \"2\": 114, \"7\": 3, \"12\": 15, \"1\": 10, \"3\": 4, \"5\": 3}, \"10\": {\"14\": 204, \"8\": 113, \"6\": 30, \"10\": 791, \"7\": 5, \"4\": 56, \"3\": 1}, \"11\": {\"11\": 1194, \"2\": 1, \"7\": 4, \"13\": 1}, \"14\": {\"6\": 208, \"10\": 209, \"14\": 727, \"8\": 47, \"4\": 3, \"7\": 6}, \"1\": {\"5\": 244, \"1\": 334, \"12\": 141, \"15\": 264, \"0\": 131, \"13\": 16, \"3\": 30, \"9\": 27, \"2\": 7, \"4\": 6}}, \"14\": {\"13\": {\"6\": 442, \"13\": 375, \"14\": 220, \"2\": 121, \"4\": 12, \"5\": 17, \"3\": 5, \"10\": 3, \"15\": 4, \"1\": 1}, \"4\": {\"4\": 662, \"5\": 198, \"3\": 183, \"2\": 103, \"14\": 15, \"1\": 37, \"13\": 2}, \"6\": {\"6\": 615, \"13\": 394, \"14\": 100, \"2\": 89, \"4\": 2}, \"0\": {\"0\": 903, \"10\": 223, \"3\": 35, \"11\": 33, \"8\": 2, \"14\": 4}, \"10\": {\"10\": 976, \"0\": 209, \"3\": 7, \"14\": 7, \"11\": 1}, \"7\": {\"7\": 1103, \"15\": 76, \"5\": 8, \"1\": 13}, \"14\": {\"6\": 84, \"14\": 805, \"13\": 144, \"3\": 56, \"2\": 90, \"10\": 4, \"4\": 17}, \"15\": {\"15\": 1083, \"7\": 111, \"2\": 3, \"5\": 3}, \"5\": {\"1\": 215, \"4\": 258, \"2\": 69, \"5\": 612, \"3\": 28, \"15\": 5, \"7\": 13}, \"2\": {\"4\": 133, \"2\": 468, \"5\": 117, \"3\": 75, \"14\": 158, \"13\": 94, \"6\": 114, \"15\": 35, \"1\": 6}, \"9\": {\"9\": 1184, \"11\": 9, \"12\": 7}, \"12\": {\"12\": 1194, \"9\": 6}, \"8\": {\"8\": 1196, \"1\": 1, \"0\": 3}, \"3\": {\"14\": 44, \"3\": 918, \"4\": 176, \"0\": 13, \"2\": 36, \"5\": 9, \"1\": 1, \"10\": 2, \"13\": 1}, \"1\": {\"1\": 960, \"5\": 189, \"4\": 40, \"7\": 9, \"3\": 1, \"15\": 1}, \"11\": {\"11\": 1011, \"10\": 54, \"9\": 65, \"0\": 70}}}, \"per_domain_accuracy\": {\"32\": {\"accuracy\": 0.7161458333333334, \"source?\": true}, \"50\": {\"accuracy\": 0.72734375, \"source?\": true}, \"8\": {\"accuracy\": 0.6351041666666667, \"source?\": true}, \"44\": {\"accuracy\": 0.6801041666666666, \"source?\": false}, \"38\": {\"accuracy\": 0.6842708333333334, \"source?\": false}, \"26\": {\"accuracy\": 0.47208333333333335, \"source?\": false}, \"20\": {\"accuracy\": 0.5175520833333334, \"source?\": false}, \"14\": {\"accuracy\": 0.7325520833333333, \"source?\": false}}}, \"history\": {\"epoch_indices\": [1, 2, 3, 4, 5, 6, 7, 8, 9, 10], \"train_label_loss\": [1.423055833095596, 0.9055296020209789, 0.7543359076361807, 0.6642869683154046, 0.5766600375598858, 0.49730623858374734, 0.43157080355883826, 0.37431635517301776, 0.3275965601817838, 0.28647494563707226], \"source_val_label_loss\": [1.1586048603057861, 0.8929696679115295, 0.8807144165039062, 0.8457828164100647, 0.874510645866394, 0.8969972133636475, 0.9308047890663147, 0.9747553467750549, 1.0542742013931274, 1.0747603178024292], \"target_val_label_loss\": [1.4243685007095337, 1.0942527055740356, 1.0818259716033936, 1.0477750301361084, 1.0761014223098755, 1.0888466835021973, 1.1225968599319458, 1.1690008640289307, 1.2371878623962402, 1.267601728439331], \"source_val_acc_label\": [0.5791145833333333, 0.6709722222222222, 0.6647743055555555, 0.6853819444444444, 0.6828819444444445, 0.6928645833333333, 0.6825520833333333, 0.6861111111111111, 0.6861284722222222, 0.6856076388888889], \"target_val_acc_label\": [0.4746875, 0.5891041666666667, 0.59371875, 0.6080208333333333, 0.6050208333333333, 0.6173125, 0.6088541666666667, 0.6058020833333333, 0.6065208333333333, 0.60771875]}, \"dataset_metrics\": {\"source\": {\"train\": {\"n_unique_x\": 336000, \"n_unique_y\": 16, \"n_batch/episode\": 12600}, \"val\": {\"n_unique_x\": 72000, \"n_unique_y\": 16, \"n_batch/episode\": 1800}, \"test\": {\"n_unique_x\": 72000, \"n_unique_y\": 16, \"n_batch/episode\": 1800}}, \"target\": {\"train\": {\"n_unique_x\": 560000, \"n_unique_y\": 16, \"n_batch/episode\": 21000}, \"val\": {\"n_unique_x\": 120000, \"n_unique_y\": 16, \"n_batch/episode\": 3000}, \"test\": {\"n_unique_x\": 120000, \"n_unique_y\": 16, \"n_batch/episode\": 3000}}}}'"
      ]
     },
     "execution_count": 20,
     "metadata": {},
     "output_type": "execute_result"
    }
   ],
   "source": [
    "json.dumps(experiment)"
   ]
  }
 ],
 "metadata": {
  "celltoolbar": "Tags",
  "kernelspec": {
   "display_name": "Python 3 (ipykernel)",
   "language": "python",
   "name": "python3"
  },
  "language_info": {
   "codemirror_mode": {
    "name": "ipython",
    "version": 3
   },
   "file_extension": ".py",
   "mimetype": "text/x-python",
   "name": "python",
   "nbconvert_exporter": "python",
   "pygments_lexer": "ipython3",
   "version": "3.8.12"
  },
  "papermill": {
   "default_parameters": {},
   "duration": 5133.318375,
   "end_time": "2022-03-26T12:29:06.278220",
   "environment_variables": {},
   "exception": null,
   "input_path": "/root/csc500-main/csc500-notebooks/templates/ptn_template.ipynb",
   "output_path": "trial.ipynb",
   "parameters": {
    "parameters": {
     "BEST_MODEL_PATH": "./best_model.pth",
     "NUM_LOGS_PER_EPOCH": 10,
     "criteria_for_best": "target_accuracy",
     "dataset_seed": 154325,
     "device": "cuda",
     "domains_source": [
      8,
      32,
      50
     ],
     "domains_target": [
      14,
      20,
      26,
      38,
      44
     ],
     "episode_transforms_source": [],
     "episode_transforms_target": [],
     "experiment_name": "tuned_1v2:oracle.run1_limited",
     "labels_source": [
      "3123D52",
      "3123D65",
      "3123D79",
      "3123D80",
      "3123D54",
      "3123D70",
      "3123D7B",
      "3123D89",
      "3123D58",
      "3123D76",
      "3123D7D",
      "3123EFE",
      "3123D64",
      "3123D78",
      "3123D7E",
      "3124E4A"
     ],
     "labels_target": [
      "3123D52",
      "3123D65",
      "3123D79",
      "3123D80",
      "3123D54",
      "3123D70",
      "3123D7B",
      "3123D89",
      "3123D58",
      "3123D76",
      "3123D7D",
      "3123EFE",
      "3123D64",
      "3123D78",
      "3123D7E",
      "3124E4A"
     ],
     "lr": 0.0001,
     "n_epoch": 50,
     "n_query": 2,
     "n_shot": 3,
     "n_way": 16,
     "num_examples_per_domain_per_label_source": -1,
     "num_examples_per_domain_per_label_target": -1,
     "patience": 3,
     "pickle_name": "oracle.Run1_10kExamples_stratified_ds.2022A.pkl",
     "seed": 154325,
     "test_k_factor": 2,
     "torch_default_dtype": "torch.float32",
     "train_k_factor": 3,
     "val_k_factor": 2,
     "x_net": [
      {
       "class": "nnReshape",
       "kargs": {
        "shape": [
         -1,
         1,
         2,
         256
        ]
       }
      },
      {
       "class": "Conv2d",
       "kargs": {
        "bias": false,
        "in_channels": 1,
        "kernel_size": [
         1,
         7
        ],
        "out_channels": 256,
        "padding": [
         0,
         3
        ]
       }
      },
      {
       "class": "ReLU",
       "kargs": {
        "inplace": true
       }
      },
      {
       "class": "BatchNorm2d",
       "kargs": {
        "num_features": 256
       }
      },
      {
       "class": "Conv2d",
       "kargs": {
        "bias": true,
        "in_channels": 256,
        "kernel_size": [
         2,
         7
        ],
        "out_channels": 80,
        "padding": [
         0,
         3
        ]
       }
      },
      {
       "class": "ReLU",
       "kargs": {
        "inplace": true
       }
      },
      {
       "class": "BatchNorm2d",
       "kargs": {
        "num_features": 80
       }
      },
      {
       "class": "Flatten",
       "kargs": {}
      },
      {
       "class": "Linear",
       "kargs": {
        "in_features": 20480,
        "out_features": 256
       }
      },
      {
       "class": "ReLU",
       "kargs": {
        "inplace": true
       }
      },
      {
       "class": "BatchNorm1d",
       "kargs": {
        "num_features": 256
       }
      },
      {
       "class": "Linear",
       "kargs": {
        "in_features": 256,
        "out_features": 256
       }
      }
     ],
     "x_transforms_source": [
      "unit_power"
     ],
     "x_transforms_target": [
      "unit_power"
     ]
    }
   },
   "start_time": "2022-03-26T11:03:32.959845",
   "version": "2.3.4"
  }
 },
 "nbformat": 4,
 "nbformat_minor": 5
}