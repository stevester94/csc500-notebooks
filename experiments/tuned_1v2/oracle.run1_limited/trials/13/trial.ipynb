{
 "cells": [
  {
   "cell_type": "markdown",
   "id": "9fea5f46",
   "metadata": {
    "papermill": {
     "duration": 0.013108,
     "end_time": "2022-04-01T23:15:01.696141",
     "exception": false,
     "start_time": "2022-04-01T23:15:01.683033",
     "status": "completed"
    },
    "tags": []
   },
   "source": [
    "# PTN Template\n",
    "This notebook serves as a template for single dataset PTN experiments  \n",
    "It can be run on its own by setting STANDALONE to True (do a find for \"STANDALONE\" to see where)  \n",
    "But it is intended to be executed as part of a *papermill.py script. See any of the   \n",
    "experimentes with a papermill script to get started with that workflow.  "
   ]
  },
  {
   "cell_type": "code",
   "execution_count": 1,
   "id": "0902182a",
   "metadata": {
    "execution": {
     "iopub.execute_input": "2022-04-01T23:15:01.727696Z",
     "iopub.status.busy": "2022-04-01T23:15:01.727149Z",
     "iopub.status.idle": "2022-04-01T23:15:02.641983Z",
     "shell.execute_reply": "2022-04-01T23:15:02.641698Z"
    },
    "papermill": {
     "duration": 0.936793,
     "end_time": "2022-04-01T23:15:02.642050",
     "exception": false,
     "start_time": "2022-04-01T23:15:01.705257",
     "status": "completed"
    },
    "tags": []
   },
   "outputs": [],
   "source": [
    "%load_ext autoreload\n",
    "%autoreload 2\n",
    "%matplotlib inline\n",
    "\n",
    "    \n",
    "import os, json, sys, time, random\n",
    "import numpy as np\n",
    "import torch\n",
    "from torch.optim import Adam\n",
    "from  easydict import EasyDict\n",
    "import matplotlib.pyplot as plt\n",
    "\n",
    "from steves_models.steves_ptn import Steves_Prototypical_Network\n",
    "\n",
    "from steves_utils.lazy_iterable_wrapper import Lazy_Iterable_Wrapper\n",
    "from steves_utils.iterable_aggregator import Iterable_Aggregator\n",
    "from steves_utils.ptn_train_eval_test_jig import  PTN_Train_Eval_Test_Jig\n",
    "from steves_utils.torch_sequential_builder import build_sequential\n",
    "from steves_utils.torch_utils import get_dataset_metrics, ptn_confusion_by_domain_over_dataloader\n",
    "from steves_utils.utils_v2 import (per_domain_accuracy_from_confusion, get_datasets_base_path)\n",
    "from steves_utils.PTN.utils import independent_accuracy_assesment\n",
    "\n",
    "from steves_utils.stratified_dataset.episodic_accessor import Episodic_Accessor_Factory\n",
    "\n",
    "from steves_utils.ptn_do_report import (\n",
    "    get_loss_curve,\n",
    "    get_results_table,\n",
    "    get_parameters_table,\n",
    "    get_domain_accuracies,\n",
    ")\n",
    "\n",
    "from steves_utils.transforms import get_chained_transform"
   ]
  },
  {
   "cell_type": "markdown",
   "id": "41c840b4",
   "metadata": {
    "papermill": {
     "duration": 0.009136,
     "end_time": "2022-04-01T23:15:02.662774",
     "exception": false,
     "start_time": "2022-04-01T23:15:02.653638",
     "status": "completed"
    },
    "tags": []
   },
   "source": [
    "# Required Parameters\n",
    "These are allowed parameters, not defaults\n",
    "Each of these values need to be present in the injected parameters (the notebook will raise an exception if they are not present)\n",
    "\n",
    "Papermill uses the cell tag \"parameters\" to inject the real parameters below this cell.\n",
    "Enable tags to see what I mean"
   ]
  },
  {
   "cell_type": "code",
   "execution_count": 2,
   "id": "fd44eb83",
   "metadata": {
    "execution": {
     "iopub.execute_input": "2022-04-01T23:15:02.684510Z",
     "iopub.status.busy": "2022-04-01T23:15:02.684248Z",
     "iopub.status.idle": "2022-04-01T23:15:02.698263Z",
     "shell.execute_reply": "2022-04-01T23:15:02.698640Z"
    },
    "papermill": {
     "duration": 0.02678,
     "end_time": "2022-04-01T23:15:02.698753",
     "exception": false,
     "start_time": "2022-04-01T23:15:02.671973",
     "status": "completed"
    },
    "tags": []
   },
   "outputs": [],
   "source": [
    "required_parameters = {\n",
    "    \"experiment_name\",\n",
    "    \"lr\",\n",
    "    \"device\",\n",
    "    \"seed\",\n",
    "    \"dataset_seed\",\n",
    "    \"labels_source\",\n",
    "    \"labels_target\",\n",
    "    \"domains_source\",\n",
    "    \"domains_target\",\n",
    "    \"num_examples_per_domain_per_label_source\",\n",
    "    \"num_examples_per_domain_per_label_target\",\n",
    "    \"n_shot\",\n",
    "    \"n_way\",\n",
    "    \"n_query\",\n",
    "    \"train_k_factor\",\n",
    "    \"val_k_factor\",\n",
    "    \"test_k_factor\",\n",
    "    \"n_epoch\",\n",
    "    \"patience\",\n",
    "    \"criteria_for_best\",\n",
    "    \"x_transforms_source\",\n",
    "    \"x_transforms_target\",\n",
    "    \"episode_transforms_source\",\n",
    "    \"episode_transforms_target\",\n",
    "    \"pickle_name\",\n",
    "    \"x_net\",\n",
    "    \"NUM_LOGS_PER_EPOCH\",\n",
    "    \"BEST_MODEL_PATH\",\n",
    "    \"torch_default_dtype\"\n",
    "}"
   ]
  },
  {
   "cell_type": "code",
   "execution_count": 3,
   "id": "fa3f0049",
   "metadata": {
    "execution": {
     "iopub.execute_input": "2022-04-01T23:15:02.734006Z",
     "iopub.status.busy": "2022-04-01T23:15:02.733501Z",
     "iopub.status.idle": "2022-04-01T23:15:02.744678Z",
     "shell.execute_reply": "2022-04-01T23:15:02.745045Z"
    },
    "papermill": {
     "duration": 0.031091,
     "end_time": "2022-04-01T23:15:02.745147",
     "exception": false,
     "start_time": "2022-04-01T23:15:02.714056",
     "status": "completed"
    },
    "tags": [
     "parameters"
    ]
   },
   "outputs": [],
   "source": [
    "\n",
    "\n",
    "standalone_parameters = {}\n",
    "standalone_parameters[\"experiment_name\"] = \"STANDALONE PTN\"\n",
    "standalone_parameters[\"lr\"] = 0.0001\n",
    "standalone_parameters[\"device\"] = \"cuda\"\n",
    "\n",
    "standalone_parameters[\"seed\"] = 1337\n",
    "standalone_parameters[\"dataset_seed\"] = 1337\n",
    "\n",
    "\n",
    "standalone_parameters[\"num_examples_per_domain_per_label_source\"]=100\n",
    "standalone_parameters[\"num_examples_per_domain_per_label_target\"]=100\n",
    "\n",
    "standalone_parameters[\"n_shot\"] = 3\n",
    "standalone_parameters[\"n_query\"]  = 2\n",
    "standalone_parameters[\"train_k_factor\"] = 1\n",
    "standalone_parameters[\"val_k_factor\"] = 2\n",
    "standalone_parameters[\"test_k_factor\"] = 2\n",
    "\n",
    "\n",
    "standalone_parameters[\"n_epoch\"] = 100\n",
    "\n",
    "standalone_parameters[\"patience\"] = 10\n",
    "standalone_parameters[\"criteria_for_best\"] = \"target_accuracy\"\n",
    "\n",
    "standalone_parameters[\"x_transforms_source\"] = [\"unit_power\"]\n",
    "standalone_parameters[\"x_transforms_target\"] = [\"unit_power\"]\n",
    "standalone_parameters[\"episode_transforms_source\"] = []\n",
    "standalone_parameters[\"episode_transforms_target\"] = []\n",
    "\n",
    "standalone_parameters[\"torch_default_dtype\"] = \"torch.float32\" \n",
    "\n",
    "\n",
    "\n",
    "standalone_parameters[\"x_net\"] =     [\n",
    "    {\"class\": \"nnReshape\", \"kargs\": {\"shape\":[-1, 1, 2, 256]}},\n",
    "    {\"class\": \"Conv2d\", \"kargs\": { \"in_channels\":1, \"out_channels\":256, \"kernel_size\":(1,7), \"bias\":False, \"padding\":(0,3), },},\n",
    "    {\"class\": \"ReLU\", \"kargs\": {\"inplace\": True}},\n",
    "    {\"class\": \"BatchNorm2d\", \"kargs\": {\"num_features\":256}},\n",
    "\n",
    "    {\"class\": \"Conv2d\", \"kargs\": { \"in_channels\":256, \"out_channels\":80, \"kernel_size\":(2,7), \"bias\":True, \"padding\":(0,3), },},\n",
    "    {\"class\": \"ReLU\", \"kargs\": {\"inplace\": True}},\n",
    "    {\"class\": \"BatchNorm2d\", \"kargs\": {\"num_features\":80}},\n",
    "    {\"class\": \"Flatten\", \"kargs\": {}},\n",
    "\n",
    "    {\"class\": \"Linear\", \"kargs\": {\"in_features\": 80*256, \"out_features\": 256}}, # 80 units per IQ pair\n",
    "    {\"class\": \"ReLU\", \"kargs\": {\"inplace\": True}},\n",
    "    {\"class\": \"BatchNorm1d\", \"kargs\": {\"num_features\":256}},\n",
    "\n",
    "    {\"class\": \"Linear\", \"kargs\": {\"in_features\": 256, \"out_features\": 256}},\n",
    "]\n",
    "\n",
    "# Parameters relevant to results\n",
    "# These parameters will basically never need to change\n",
    "standalone_parameters[\"NUM_LOGS_PER_EPOCH\"] = 10\n",
    "standalone_parameters[\"BEST_MODEL_PATH\"] = \"./best_model.pth\"\n",
    "\n",
    "# uncomment for CORES dataset\n",
    "from steves_utils.CORES.utils import (\n",
    "    ALL_NODES,\n",
    "    ALL_NODES_MINIMUM_1000_EXAMPLES,\n",
    "    ALL_DAYS\n",
    ")\n",
    "\n",
    "\n",
    "standalone_parameters[\"labels_source\"] = ALL_NODES\n",
    "standalone_parameters[\"labels_target\"] = ALL_NODES\n",
    "\n",
    "standalone_parameters[\"domains_source\"] = [1]\n",
    "standalone_parameters[\"domains_target\"] = [2,3,4,5]\n",
    "\n",
    "standalone_parameters[\"pickle_name\"] = \"cores.stratified_ds.2022A.pkl\"\n",
    "\n",
    "\n",
    "# Uncomment these for ORACLE dataset\n",
    "# from steves_utils.ORACLE.utils_v2 import (\n",
    "#     ALL_DISTANCES_FEET,\n",
    "#     ALL_RUNS,\n",
    "#     ALL_SERIAL_NUMBERS,\n",
    "# )\n",
    "# standalone_parameters[\"labels_source\"] = ALL_SERIAL_NUMBERS\n",
    "# standalone_parameters[\"labels_target\"] = ALL_SERIAL_NUMBERS\n",
    "# standalone_parameters[\"domains_source\"] = [8,20, 38,50]\n",
    "# standalone_parameters[\"domains_target\"] = [14, 26, 32, 44, 56]\n",
    "# standalone_parameters[\"pickle_name\"] = \"oracle.frame_indexed.stratified_ds.2022A.pkl\"\n",
    "# standalone_parameters[\"num_examples_per_domain_per_label_source\"]=1000\n",
    "# standalone_parameters[\"num_examples_per_domain_per_label_target\"]=1000\n",
    "\n",
    "# Uncomment these for Metahan dataset\n",
    "# standalone_parameters[\"labels_source\"] = list(range(19))\n",
    "# standalone_parameters[\"labels_target\"] = list(range(19))\n",
    "# standalone_parameters[\"domains_source\"] = [0]\n",
    "# standalone_parameters[\"domains_target\"] = [1]\n",
    "# standalone_parameters[\"pickle_name\"] = \"metehan.stratified_ds.2022A.pkl\"\n",
    "# standalone_parameters[\"n_way\"]  = len(standalone_parameters[\"labels_source\"])\n",
    "# standalone_parameters[\"num_examples_per_domain_per_label_source\"]=200\n",
    "# standalone_parameters[\"num_examples_per_domain_per_label_target\"]=100\n",
    "\n",
    "\n",
    "standalone_parameters[\"n_way\"]  = len(standalone_parameters[\"labels_source\"])"
   ]
  },
  {
   "cell_type": "code",
   "execution_count": 4,
   "id": "0f45624a",
   "metadata": {
    "execution": {
     "iopub.execute_input": "2022-04-01T23:15:02.776392Z",
     "iopub.status.busy": "2022-04-01T23:15:02.775045Z",
     "iopub.status.idle": "2022-04-01T23:15:02.787361Z",
     "shell.execute_reply": "2022-04-01T23:15:02.787728Z"
    },
    "papermill": {
     "duration": 0.028783,
     "end_time": "2022-04-01T23:15:02.787829",
     "exception": false,
     "start_time": "2022-04-01T23:15:02.759046",
     "status": "completed"
    },
    "tags": [
     "injected-parameters"
    ]
   },
   "outputs": [],
   "source": [
    "# Parameters\n",
    "parameters = {\n",
    "    \"experiment_name\": \"tuned_1v2:oracle.run1_limited\",\n",
    "    \"device\": \"cuda\",\n",
    "    \"lr\": 0.0001,\n",
    "    \"labels_source\": [\n",
    "        \"3123D52\",\n",
    "        \"3123D65\",\n",
    "        \"3123D79\",\n",
    "        \"3123D80\",\n",
    "        \"3123D54\",\n",
    "        \"3123D70\",\n",
    "        \"3123D7B\",\n",
    "        \"3123D89\",\n",
    "        \"3123D58\",\n",
    "        \"3123D76\",\n",
    "        \"3123D7D\",\n",
    "        \"3123EFE\",\n",
    "        \"3123D64\",\n",
    "        \"3123D78\",\n",
    "        \"3123D7E\",\n",
    "        \"3124E4A\",\n",
    "    ],\n",
    "    \"labels_target\": [\n",
    "        \"3123D52\",\n",
    "        \"3123D65\",\n",
    "        \"3123D79\",\n",
    "        \"3123D80\",\n",
    "        \"3123D54\",\n",
    "        \"3123D70\",\n",
    "        \"3123D7B\",\n",
    "        \"3123D89\",\n",
    "        \"3123D58\",\n",
    "        \"3123D76\",\n",
    "        \"3123D7D\",\n",
    "        \"3123EFE\",\n",
    "        \"3123D64\",\n",
    "        \"3123D78\",\n",
    "        \"3123D7E\",\n",
    "        \"3124E4A\",\n",
    "    ],\n",
    "    \"episode_transforms_source\": [],\n",
    "    \"episode_transforms_target\": [],\n",
    "    \"domains_source\": [8, 32, 50],\n",
    "    \"domains_target\": [14, 20, 26, 38, 44],\n",
    "    \"num_examples_per_domain_per_label_source\": 2000,\n",
    "    \"num_examples_per_domain_per_label_target\": 2000,\n",
    "    \"n_shot\": 3,\n",
    "    \"n_way\": 16,\n",
    "    \"n_query\": 2,\n",
    "    \"train_k_factor\": 3,\n",
    "    \"val_k_factor\": 2,\n",
    "    \"test_k_factor\": 2,\n",
    "    \"torch_default_dtype\": \"torch.float32\",\n",
    "    \"n_epoch\": 50,\n",
    "    \"patience\": 3,\n",
    "    \"criteria_for_best\": \"target_accuracy\",\n",
    "    \"x_net\": [\n",
    "        {\"class\": \"nnReshape\", \"kargs\": {\"shape\": [-1, 1, 2, 256]}},\n",
    "        {\n",
    "            \"class\": \"Conv2d\",\n",
    "            \"kargs\": {\n",
    "                \"in_channels\": 1,\n",
    "                \"out_channels\": 256,\n",
    "                \"kernel_size\": [1, 7],\n",
    "                \"bias\": False,\n",
    "                \"padding\": [0, 3],\n",
    "            },\n",
    "        },\n",
    "        {\"class\": \"ReLU\", \"kargs\": {\"inplace\": True}},\n",
    "        {\"class\": \"BatchNorm2d\", \"kargs\": {\"num_features\": 256}},\n",
    "        {\n",
    "            \"class\": \"Conv2d\",\n",
    "            \"kargs\": {\n",
    "                \"in_channels\": 256,\n",
    "                \"out_channels\": 80,\n",
    "                \"kernel_size\": [2, 7],\n",
    "                \"bias\": True,\n",
    "                \"padding\": [0, 3],\n",
    "            },\n",
    "        },\n",
    "        {\"class\": \"ReLU\", \"kargs\": {\"inplace\": True}},\n",
    "        {\"class\": \"BatchNorm2d\", \"kargs\": {\"num_features\": 80}},\n",
    "        {\"class\": \"Flatten\", \"kargs\": {}},\n",
    "        {\"class\": \"Linear\", \"kargs\": {\"in_features\": 20480, \"out_features\": 256}},\n",
    "        {\"class\": \"ReLU\", \"kargs\": {\"inplace\": True}},\n",
    "        {\"class\": \"BatchNorm1d\", \"kargs\": {\"num_features\": 256}},\n",
    "        {\"class\": \"Linear\", \"kargs\": {\"in_features\": 256, \"out_features\": 256}},\n",
    "    ],\n",
    "    \"NUM_LOGS_PER_EPOCH\": 10,\n",
    "    \"BEST_MODEL_PATH\": \"./best_model.pth\",\n",
    "    \"pickle_name\": \"oracle.Run1_10kExamples_stratified_ds.2022A.pkl\",\n",
    "    \"x_transforms_source\": [\"unit_power\"],\n",
    "    \"x_transforms_target\": [\"unit_power\"],\n",
    "    \"dataset_seed\": 154325,\n",
    "    \"seed\": 154325,\n",
    "}\n"
   ]
  },
  {
   "cell_type": "code",
   "execution_count": 5,
   "id": "8fa1cc33",
   "metadata": {
    "execution": {
     "iopub.execute_input": "2022-04-01T23:15:02.815552Z",
     "iopub.status.busy": "2022-04-01T23:15:02.815307Z",
     "iopub.status.idle": "2022-04-01T23:15:02.829222Z",
     "shell.execute_reply": "2022-04-01T23:15:02.828879Z"
    },
    "papermill": {
     "duration": 0.026852,
     "end_time": "2022-04-01T23:15:02.829291",
     "exception": false,
     "start_time": "2022-04-01T23:15:02.802439",
     "status": "completed"
    },
    "tags": []
   },
   "outputs": [],
   "source": [
    "# Set this to True if you want to run this template directly\n",
    "STANDALONE = False\n",
    "if STANDALONE:\n",
    "    print(\"parameters not injected, running with standalone_parameters\")\n",
    "    parameters = standalone_parameters\n",
    "\n",
    "if not 'parameters' in locals() and not 'parameters' in globals():\n",
    "    raise Exception(\"Parameter injection failed\")\n",
    "\n",
    "#Use an easy dict for all the parameters\n",
    "p = EasyDict(parameters)\n",
    "\n",
    "supplied_keys = set(p.keys())\n",
    "\n",
    "if  supplied_keys != required_parameters:\n",
    "    print(\"Parameters are incorrect\")\n",
    "    if len(supplied_keys - required_parameters)>0: print(\"Shouldn't have:\", str(supplied_keys - required_parameters))\n",
    "    if len(required_parameters - supplied_keys)>0: print(\"Need to have:\", str(required_parameters - supplied_keys))\n",
    "    raise RuntimeError(\"Parameters are incorrect\")\n",
    "\n"
   ]
  },
  {
   "cell_type": "code",
   "execution_count": 6,
   "id": "3a028d58",
   "metadata": {
    "execution": {
     "iopub.execute_input": "2022-04-01T23:15:02.853711Z",
     "iopub.status.busy": "2022-04-01T23:15:02.853466Z",
     "iopub.status.idle": "2022-04-01T23:15:02.863640Z",
     "shell.execute_reply": "2022-04-01T23:15:02.863204Z"
    },
    "papermill": {
     "duration": 0.021877,
     "end_time": "2022-04-01T23:15:02.863726",
     "exception": false,
     "start_time": "2022-04-01T23:15:02.841849",
     "status": "completed"
    },
    "tags": []
   },
   "outputs": [],
   "source": [
    "###################################\n",
    "# Set the RNGs and make it all deterministic\n",
    "###################################\n",
    "np.random.seed(p.seed)\n",
    "random.seed(p.seed)\n",
    "torch.manual_seed(p.seed)\n",
    "\n",
    "torch.use_deterministic_algorithms(True) "
   ]
  },
  {
   "cell_type": "code",
   "execution_count": 7,
   "id": "b691acf6",
   "metadata": {
    "execution": {
     "iopub.execute_input": "2022-04-01T23:15:02.889243Z",
     "iopub.status.busy": "2022-04-01T23:15:02.889000Z",
     "iopub.status.idle": "2022-04-01T23:15:02.904155Z",
     "shell.execute_reply": "2022-04-01T23:15:02.903773Z"
    },
    "papermill": {
     "duration": 0.026414,
     "end_time": "2022-04-01T23:15:02.904242",
     "exception": false,
     "start_time": "2022-04-01T23:15:02.877828",
     "status": "completed"
    },
    "tags": []
   },
   "outputs": [],
   "source": [
    "###########################################\n",
    "# The stratified datasets honor this\n",
    "###########################################\n",
    "torch.set_default_dtype(eval(p.torch_default_dtype))"
   ]
  },
  {
   "cell_type": "code",
   "execution_count": 8,
   "id": "b5fba671",
   "metadata": {
    "execution": {
     "iopub.execute_input": "2022-04-01T23:15:02.930631Z",
     "iopub.status.busy": "2022-04-01T23:15:02.930380Z",
     "iopub.status.idle": "2022-04-01T23:15:02.972191Z",
     "shell.execute_reply": "2022-04-01T23:15:02.971808Z"
    },
    "papermill": {
     "duration": 0.053283,
     "end_time": "2022-04-01T23:15:02.972275",
     "exception": false,
     "start_time": "2022-04-01T23:15:02.918992",
     "status": "completed"
    },
    "tags": []
   },
   "outputs": [],
   "source": [
    "###################################\n",
    "# Build the network(s)\n",
    "# Note: It's critical to do this AFTER setting the RNG\n",
    "# (This is due to the randomized initial weights)\n",
    "###################################\n",
    "x_net = build_sequential(p.x_net)"
   ]
  },
  {
   "cell_type": "code",
   "execution_count": 9,
   "id": "5d7e61cc",
   "metadata": {
    "execution": {
     "iopub.execute_input": "2022-04-01T23:15:02.997129Z",
     "iopub.status.busy": "2022-04-01T23:15:02.996890Z",
     "iopub.status.idle": "2022-04-01T23:15:03.011928Z",
     "shell.execute_reply": "2022-04-01T23:15:03.012248Z"
    },
    "papermill": {
     "duration": 0.026968,
     "end_time": "2022-04-01T23:15:03.012350",
     "exception": false,
     "start_time": "2022-04-01T23:15:02.985382",
     "status": "completed"
    },
    "tags": []
   },
   "outputs": [],
   "source": [
    "start_time_secs = time.time()"
   ]
  },
  {
   "cell_type": "code",
   "execution_count": 10,
   "id": "fd5442bc",
   "metadata": {
    "execution": {
     "iopub.execute_input": "2022-04-01T23:15:03.045368Z",
     "iopub.status.busy": "2022-04-01T23:15:03.045113Z",
     "iopub.status.idle": "2022-04-01T23:15:21.896934Z",
     "shell.execute_reply": "2022-04-01T23:15:21.896383Z"
    },
    "papermill": {
     "duration": 18.869812,
     "end_time": "2022-04-01T23:15:21.897047",
     "exception": false,
     "start_time": "2022-04-01T23:15:03.027235",
     "status": "completed"
    },
    "tags": []
   },
   "outputs": [],
   "source": [
    "###################################\n",
    "# Build the dataset\n",
    "###################################\n",
    "\n",
    "if p.x_transforms_source == []: x_transform_source = None\n",
    "else: x_transform_source = get_chained_transform(p.x_transforms_source) \n",
    "\n",
    "if p.x_transforms_target == []: x_transform_target = None\n",
    "else: x_transform_target = get_chained_transform(p.x_transforms_target)\n",
    "\n",
    "if p.episode_transforms_source == []: episode_transform_source = None\n",
    "else: raise Exception(\"episode_transform_source not implemented\")\n",
    "\n",
    "if p.episode_transforms_target == []: episode_transform_target = None\n",
    "else: raise Exception(\"episode_transform_target not implemented\")\n",
    "\n",
    "\n",
    "eaf_source = Episodic_Accessor_Factory(\n",
    "    labels=p.labels_source,\n",
    "    domains=p.domains_source,\n",
    "    num_examples_per_domain_per_label=p.num_examples_per_domain_per_label_source,\n",
    "    iterator_seed=p.seed,\n",
    "    dataset_seed=p.dataset_seed,\n",
    "    n_shot=p.n_shot,\n",
    "    n_way=p.n_way,\n",
    "    n_query=p.n_query,\n",
    "    train_val_test_k_factors=(p.train_k_factor,p.val_k_factor,p.test_k_factor),\n",
    "    pickle_path=os.path.join(get_datasets_base_path(), p.pickle_name),\n",
    "    x_transform_func=x_transform_source,\n",
    "    example_transform_func=episode_transform_source,\n",
    "    \n",
    ")\n",
    "train_original_source, val_original_source, test_original_source = eaf_source.get_train(), eaf_source.get_val(), eaf_source.get_test()\n",
    "\n",
    "\n",
    "eaf_target = Episodic_Accessor_Factory(\n",
    "    labels=p.labels_target,\n",
    "    domains=p.domains_target,\n",
    "    num_examples_per_domain_per_label=p.num_examples_per_domain_per_label_target,\n",
    "    iterator_seed=p.seed,\n",
    "    dataset_seed=p.dataset_seed,\n",
    "    n_shot=p.n_shot,\n",
    "    n_way=p.n_way,\n",
    "    n_query=p.n_query,\n",
    "    train_val_test_k_factors=(p.train_k_factor,p.val_k_factor,p.test_k_factor),\n",
    "    pickle_path=os.path.join(get_datasets_base_path(), p.pickle_name),\n",
    "    x_transform_func=x_transform_target,\n",
    "    example_transform_func=episode_transform_target,\n",
    ")\n",
    "train_original_target, val_original_target, test_original_target = eaf_target.get_train(), eaf_target.get_val(), eaf_target.get_test()\n",
    "\n",
    "\n",
    "transform_lambda = lambda ex: ex[1] # Original is (<domain>, <episode>) so we strip down to episode only\n",
    "\n",
    "train_processed_source = Lazy_Iterable_Wrapper(train_original_source, transform_lambda)\n",
    "val_processed_source   = Lazy_Iterable_Wrapper(val_original_source, transform_lambda)\n",
    "test_processed_source  = Lazy_Iterable_Wrapper(test_original_source, transform_lambda)\n",
    "\n",
    "train_processed_target = Lazy_Iterable_Wrapper(train_original_target, transform_lambda)\n",
    "val_processed_target   = Lazy_Iterable_Wrapper(val_original_target, transform_lambda)\n",
    "test_processed_target  = Lazy_Iterable_Wrapper(test_original_target, transform_lambda)\n",
    "\n",
    "datasets = EasyDict({\n",
    "    \"source\": {\n",
    "        \"original\": {\"train\":train_original_source, \"val\":val_original_source, \"test\":test_original_source},\n",
    "        \"processed\": {\"train\":train_processed_source, \"val\":val_processed_source, \"test\":test_processed_source}\n",
    "    },\n",
    "    \"target\": {\n",
    "        \"original\": {\"train\":train_original_target, \"val\":val_original_target, \"test\":test_original_target},\n",
    "        \"processed\": {\"train\":train_processed_target, \"val\":val_processed_target, \"test\":test_processed_target}\n",
    "    },\n",
    "})"
   ]
  },
  {
   "cell_type": "code",
   "execution_count": 11,
   "id": "296189d9",
   "metadata": {
    "execution": {
     "iopub.execute_input": "2022-04-01T23:15:21.928498Z",
     "iopub.status.busy": "2022-04-01T23:15:21.928244Z",
     "iopub.status.idle": "2022-04-01T23:15:23.577240Z",
     "shell.execute_reply": "2022-04-01T23:15:23.577620Z"
    },
    "papermill": {
     "duration": 1.662947,
     "end_time": "2022-04-01T23:15:23.577752",
     "exception": false,
     "start_time": "2022-04-01T23:15:21.914805",
     "status": "completed"
    },
    "tags": []
   },
   "outputs": [
    {
     "name": "stdout",
     "output_type": "stream",
     "text": [
      "Visually inspect these to see if they line up with expected values given the transforms\n",
      "x_transforms_source ['unit_power']\n",
      "x_transforms_target ['unit_power']\n",
      "Average magnitude, source: 0.89037734\n",
      "Average power, source: 0.99999994\n"
     ]
    },
    {
     "name": "stdout",
     "output_type": "stream",
     "text": [
      "Average magnitude, target: 0.8935504\n",
      "Average power, target: 1.0\n"
     ]
    }
   ],
   "source": [
    "# Some quick unit tests on the data\n",
    "from steves_utils.transforms import get_average_power, get_average_magnitude\n",
    "\n",
    "q_x, q_y, s_x, s_y, truth = next(iter(train_processed_source))\n",
    "\n",
    "assert q_x.dtype == eval(p.torch_default_dtype)\n",
    "assert s_x.dtype == eval(p.torch_default_dtype)\n",
    "\n",
    "print(\"Visually inspect these to see if they line up with expected values given the transforms\")\n",
    "print('x_transforms_source', p.x_transforms_source)\n",
    "print('x_transforms_target', p.x_transforms_target)\n",
    "print(\"Average magnitude, source:\", get_average_magnitude(q_x[0].numpy()))\n",
    "print(\"Average power, source:\", get_average_power(q_x[0].numpy()))\n",
    "\n",
    "q_x, q_y, s_x, s_y, truth = next(iter(train_processed_target))\n",
    "print(\"Average magnitude, target:\", get_average_magnitude(q_x[0].numpy()))\n",
    "print(\"Average power, target:\", get_average_power(q_x[0].numpy()))\n"
   ]
  },
  {
   "cell_type": "code",
   "execution_count": 12,
   "id": "bbdacba1",
   "metadata": {
    "execution": {
     "iopub.execute_input": "2022-04-01T23:15:23.608590Z",
     "iopub.status.busy": "2022-04-01T23:15:23.608334Z",
     "iopub.status.idle": "2022-04-01T23:15:23.669380Z",
     "shell.execute_reply": "2022-04-01T23:15:23.669777Z"
    },
    "papermill": {
     "duration": 0.075587,
     "end_time": "2022-04-01T23:15:23.669896",
     "exception": false,
     "start_time": "2022-04-01T23:15:23.594309",
     "status": "completed"
    },
    "tags": []
   },
   "outputs": [
    {
     "name": "stdout",
     "output_type": "stream",
     "text": [
      "(2, 256)\n"
     ]
    }
   ],
   "source": [
    "###################################\n",
    "# Build the model\n",
    "###################################\n",
    "model = Steves_Prototypical_Network(x_net, device=p.device, x_shape=(2,256))\n",
    "optimizer = Adam(params=model.parameters(), lr=p.lr)"
   ]
  },
  {
   "cell_type": "code",
   "execution_count": 13,
   "id": "22b39ac5",
   "metadata": {
    "execution": {
     "iopub.execute_input": "2022-04-01T23:15:23.698671Z",
     "iopub.status.busy": "2022-04-01T23:15:23.698425Z",
     "iopub.status.idle": "2022-04-01T23:45:10.883249Z",
     "shell.execute_reply": "2022-04-01T23:45:10.883016Z"
    },
    "papermill": {
     "duration": 1787.19803,
     "end_time": "2022-04-01T23:45:10.883308",
     "exception": false,
     "start_time": "2022-04-01T23:15:23.685278",
     "status": "completed"
    },
    "tags": []
   },
   "outputs": [
    {
     "name": "stdout",
     "output_type": "stream",
     "text": [
      "epoch: 1, [batch: 1 / 2520], examples_per_second: 129.5092, train_label_loss: 2.8089, \n"
     ]
    },
    {
     "name": "stdout",
     "output_type": "stream",
     "text": [
      "epoch: 1, [batch: 252 / 2520], examples_per_second: 3145.1633, train_label_loss: 2.8430, \n"
     ]
    },
    {
     "name": "stdout",
     "output_type": "stream",
     "text": [
      "epoch: 1, [batch: 504 / 2520], examples_per_second: 3169.0874, train_label_loss: 1.8509, \n"
     ]
    },
    {
     "name": "stdout",
     "output_type": "stream",
     "text": [
      "epoch: 1, [batch: 756 / 2520], examples_per_second: 3193.5391, train_label_loss: 1.7991, \n"
     ]
    },
    {
     "name": "stdout",
     "output_type": "stream",
     "text": [
      "epoch: 1, [batch: 1008 / 2520], examples_per_second: 3163.4213, train_label_loss: 1.5553, \n"
     ]
    },
    {
     "name": "stdout",
     "output_type": "stream",
     "text": [
      "epoch: 1, [batch: 1260 / 2520], examples_per_second: 3187.5630, train_label_loss: 1.4562, \n"
     ]
    },
    {
     "name": "stdout",
     "output_type": "stream",
     "text": [
      "epoch: 1, [batch: 1512 / 2520], examples_per_second: 3168.3273, train_label_loss: 1.7771, \n"
     ]
    },
    {
     "name": "stdout",
     "output_type": "stream",
     "text": [
      "epoch: 1, [batch: 1764 / 2520], examples_per_second: 3134.9601, train_label_loss: 1.5185, \n"
     ]
    },
    {
     "name": "stdout",
     "output_type": "stream",
     "text": [
      "epoch: 1, [batch: 2016 / 2520], examples_per_second: 3151.4796, train_label_loss: 1.3302, \n"
     ]
    },
    {
     "name": "stdout",
     "output_type": "stream",
     "text": [
      "epoch: 1, [batch: 2268 / 2520], examples_per_second: 3161.5246, train_label_loss: 1.2962, \n"
     ]
    },
    {
     "name": "stdout",
     "output_type": "stream",
     "text": [
      "=============================================================\n",
      "epoch: 1, source_val_acc_label: 0.3819, target_val_acc_label: 0.2711, source_val_label_loss: 1.5477, target_val_label_loss: 1.8766, \n",
      "=============================================================\n"
     ]
    },
    {
     "name": "stdout",
     "output_type": "stream",
     "text": [
      "New best\n"
     ]
    },
    {
     "name": "stdout",
     "output_type": "stream",
     "text": [
      "epoch: 2, [batch: 1 / 2520], examples_per_second: 11.1265, train_label_loss: 1.6425, \n"
     ]
    },
    {
     "name": "stdout",
     "output_type": "stream",
     "text": [
      "epoch: 2, [batch: 252 / 2520], examples_per_second: 3152.9267, train_label_loss: 1.3396, \n"
     ]
    },
    {
     "name": "stdout",
     "output_type": "stream",
     "text": [
      "epoch: 2, [batch: 504 / 2520], examples_per_second: 3163.6245, train_label_loss: 1.1167, \n"
     ]
    },
    {
     "name": "stdout",
     "output_type": "stream",
     "text": [
      "epoch: 2, [batch: 756 / 2520], examples_per_second: 3170.2271, train_label_loss: 1.4650, \n"
     ]
    },
    {
     "name": "stdout",
     "output_type": "stream",
     "text": [
      "epoch: 2, [batch: 1008 / 2520], examples_per_second: 3157.1881, train_label_loss: 1.4207, \n"
     ]
    },
    {
     "name": "stdout",
     "output_type": "stream",
     "text": [
      "epoch: 2, [batch: 1260 / 2520], examples_per_second: 3179.3435, train_label_loss: 1.4957, \n"
     ]
    },
    {
     "name": "stdout",
     "output_type": "stream",
     "text": [
      "epoch: 2, [batch: 1512 / 2520], examples_per_second: 3178.9239, train_label_loss: 1.1667, \n"
     ]
    },
    {
     "name": "stdout",
     "output_type": "stream",
     "text": [
      "epoch: 2, [batch: 1764 / 2520], examples_per_second: 3167.8040, train_label_loss: 1.3675, \n"
     ]
    },
    {
     "name": "stdout",
     "output_type": "stream",
     "text": [
      "epoch: 2, [batch: 2016 / 2520], examples_per_second: 3172.8638, train_label_loss: 1.4819, \n"
     ]
    },
    {
     "name": "stdout",
     "output_type": "stream",
     "text": [
      "epoch: 2, [batch: 2268 / 2520], examples_per_second: 3194.5139, train_label_loss: 1.6692, \n"
     ]
    },
    {
     "name": "stdout",
     "output_type": "stream",
     "text": [
      "=============================================================\n",
      "epoch: 2, source_val_acc_label: 0.4218, target_val_acc_label: 0.2996, source_val_label_loss: 1.4503, target_val_label_loss: 1.8137, \n",
      "=============================================================\n"
     ]
    },
    {
     "name": "stdout",
     "output_type": "stream",
     "text": [
      "New best\n"
     ]
    },
    {
     "name": "stdout",
     "output_type": "stream",
     "text": [
      "epoch: 3, [batch: 1 / 2520], examples_per_second: 11.1237, train_label_loss: 1.3118, \n"
     ]
    },
    {
     "name": "stdout",
     "output_type": "stream",
     "text": [
      "epoch: 3, [batch: 252 / 2520], examples_per_second: 3187.5201, train_label_loss: 1.2643, \n"
     ]
    },
    {
     "name": "stdout",
     "output_type": "stream",
     "text": [
      "epoch: 3, [batch: 504 / 2520], examples_per_second: 3174.3840, train_label_loss: 1.3717, \n"
     ]
    },
    {
     "name": "stdout",
     "output_type": "stream",
     "text": [
      "epoch: 3, [batch: 756 / 2520], examples_per_second: 3181.3338, train_label_loss: 1.2206, \n"
     ]
    },
    {
     "name": "stdout",
     "output_type": "stream",
     "text": [
      "epoch: 3, [batch: 1008 / 2520], examples_per_second: 3152.3725, train_label_loss: 1.3795, \n"
     ]
    },
    {
     "name": "stdout",
     "output_type": "stream",
     "text": [
      "epoch: 3, [batch: 1260 / 2520], examples_per_second: 3159.3426, train_label_loss: 1.5500, \n"
     ]
    },
    {
     "name": "stdout",
     "output_type": "stream",
     "text": [
      "epoch: 3, [batch: 1512 / 2520], examples_per_second: 3169.3170, train_label_loss: 1.5156, \n"
     ]
    },
    {
     "name": "stdout",
     "output_type": "stream",
     "text": [
      "epoch: 3, [batch: 1764 / 2520], examples_per_second: 3177.3827, train_label_loss: 1.1421, \n"
     ]
    },
    {
     "name": "stdout",
     "output_type": "stream",
     "text": [
      "epoch: 3, [batch: 2016 / 2520], examples_per_second: 3174.9509, train_label_loss: 1.2556, \n"
     ]
    },
    {
     "name": "stdout",
     "output_type": "stream",
     "text": [
      "epoch: 3, [batch: 2268 / 2520], examples_per_second: 3169.5086, train_label_loss: 1.0131, \n"
     ]
    },
    {
     "name": "stdout",
     "output_type": "stream",
     "text": [
      "=============================================================\n",
      "epoch: 3, source_val_acc_label: 0.4359, target_val_acc_label: 0.3078, source_val_label_loss: 1.4464, target_val_label_loss: 1.8074, \n",
      "=============================================================\n"
     ]
    },
    {
     "name": "stdout",
     "output_type": "stream",
     "text": [
      "New best\n"
     ]
    },
    {
     "name": "stdout",
     "output_type": "stream",
     "text": [
      "epoch: 4, [batch: 1 / 2520], examples_per_second: 11.1456, train_label_loss: 1.2449, \n"
     ]
    },
    {
     "name": "stdout",
     "output_type": "stream",
     "text": [
      "epoch: 4, [batch: 252 / 2520], examples_per_second: 3171.9097, train_label_loss: 1.3484, \n"
     ]
    },
    {
     "name": "stdout",
     "output_type": "stream",
     "text": [
      "epoch: 4, [batch: 504 / 2520], examples_per_second: 3187.2194, train_label_loss: 1.0955, \n"
     ]
    },
    {
     "name": "stdout",
     "output_type": "stream",
     "text": [
      "epoch: 4, [batch: 756 / 2520], examples_per_second: 3182.0014, train_label_loss: 1.2606, \n"
     ]
    },
    {
     "name": "stdout",
     "output_type": "stream",
     "text": [
      "epoch: 4, [batch: 1008 / 2520], examples_per_second: 3176.0810, train_label_loss: 0.8695, \n"
     ]
    },
    {
     "name": "stdout",
     "output_type": "stream",
     "text": [
      "epoch: 4, [batch: 1260 / 2520], examples_per_second: 3186.9183, train_label_loss: 1.0289, \n"
     ]
    },
    {
     "name": "stdout",
     "output_type": "stream",
     "text": [
      "epoch: 4, [batch: 1512 / 2520], examples_per_second: 3201.5687, train_label_loss: 1.1231, \n"
     ]
    },
    {
     "name": "stdout",
     "output_type": "stream",
     "text": [
      "epoch: 4, [batch: 1764 / 2520], examples_per_second: 3174.2759, train_label_loss: 1.0258, \n"
     ]
    },
    {
     "name": "stdout",
     "output_type": "stream",
     "text": [
      "epoch: 4, [batch: 2016 / 2520], examples_per_second: 3189.7895, train_label_loss: 0.9247, \n"
     ]
    },
    {
     "name": "stdout",
     "output_type": "stream",
     "text": [
      "epoch: 4, [batch: 2268 / 2520], examples_per_second: 3181.3638, train_label_loss: 1.0889, \n"
     ]
    },
    {
     "name": "stdout",
     "output_type": "stream",
     "text": [
      "=============================================================\n",
      "epoch: 4, source_val_acc_label: 0.5480, target_val_acc_label: 0.4411, source_val_label_loss: 1.2202, target_val_label_loss: 1.5189, \n",
      "=============================================================\n"
     ]
    },
    {
     "name": "stdout",
     "output_type": "stream",
     "text": [
      "New best\n"
     ]
    },
    {
     "name": "stdout",
     "output_type": "stream",
     "text": [
      "epoch: 5, [batch: 1 / 2520], examples_per_second: 11.1002, train_label_loss: 0.6514, \n"
     ]
    },
    {
     "name": "stdout",
     "output_type": "stream",
     "text": [
      "epoch: 5, [batch: 252 / 2520], examples_per_second: 3171.6740, train_label_loss: 0.6504, \n"
     ]
    },
    {
     "name": "stdout",
     "output_type": "stream",
     "text": [
      "epoch: 5, [batch: 504 / 2520], examples_per_second: 3187.6463, train_label_loss: 0.5578, \n"
     ]
    },
    {
     "name": "stdout",
     "output_type": "stream",
     "text": [
      "epoch: 5, [batch: 756 / 2520], examples_per_second: 3174.2945, train_label_loss: 1.0498, \n"
     ]
    },
    {
     "name": "stdout",
     "output_type": "stream",
     "text": [
      "epoch: 5, [batch: 1008 / 2520], examples_per_second: 3172.5481, train_label_loss: 0.7519, \n"
     ]
    },
    {
     "name": "stdout",
     "output_type": "stream",
     "text": [
      "epoch: 5, [batch: 1260 / 2520], examples_per_second: 3182.4724, train_label_loss: 0.5230, \n"
     ]
    },
    {
     "name": "stdout",
     "output_type": "stream",
     "text": [
      "epoch: 5, [batch: 1512 / 2520], examples_per_second: 3176.5304, train_label_loss: 0.5120, \n"
     ]
    },
    {
     "name": "stdout",
     "output_type": "stream",
     "text": [
      "epoch: 5, [batch: 1764 / 2520], examples_per_second: 3171.8545, train_label_loss: 0.8821, \n"
     ]
    },
    {
     "name": "stdout",
     "output_type": "stream",
     "text": [
      "epoch: 5, [batch: 2016 / 2520], examples_per_second: 3176.1852, train_label_loss: 0.9014, \n"
     ]
    },
    {
     "name": "stdout",
     "output_type": "stream",
     "text": [
      "epoch: 5, [batch: 2268 / 2520], examples_per_second: 3185.2855, train_label_loss: 0.8812, \n"
     ]
    },
    {
     "name": "stdout",
     "output_type": "stream",
     "text": [
      "=============================================================\n",
      "epoch: 5, source_val_acc_label: 0.5656, target_val_acc_label: 0.4597, source_val_label_loss: 1.2491, target_val_label_loss: 1.5215, \n",
      "=============================================================\n"
     ]
    },
    {
     "name": "stdout",
     "output_type": "stream",
     "text": [
      "New best\n"
     ]
    },
    {
     "name": "stdout",
     "output_type": "stream",
     "text": [
      "epoch: 6, [batch: 1 / 2520], examples_per_second: 11.0845, train_label_loss: 0.4461, \n"
     ]
    },
    {
     "name": "stdout",
     "output_type": "stream",
     "text": [
      "epoch: 6, [batch: 252 / 2520], examples_per_second: 3167.5772, train_label_loss: 0.3456, \n"
     ]
    },
    {
     "name": "stdout",
     "output_type": "stream",
     "text": [
      "epoch: 6, [batch: 504 / 2520], examples_per_second: 3192.9288, train_label_loss: 0.9047, \n"
     ]
    },
    {
     "name": "stdout",
     "output_type": "stream",
     "text": [
      "epoch: 6, [batch: 756 / 2520], examples_per_second: 3188.4358, train_label_loss: 0.8322, \n"
     ]
    },
    {
     "name": "stdout",
     "output_type": "stream",
     "text": [
      "epoch: 6, [batch: 1008 / 2520], examples_per_second: 3175.1763, train_label_loss: 0.3416, \n"
     ]
    },
    {
     "name": "stdout",
     "output_type": "stream",
     "text": [
      "epoch: 6, [batch: 1260 / 2520], examples_per_second: 3179.5165, train_label_loss: 0.4836, \n"
     ]
    },
    {
     "name": "stdout",
     "output_type": "stream",
     "text": [
      "epoch: 6, [batch: 1512 / 2520], examples_per_second: 3185.3083, train_label_loss: 0.7961, \n"
     ]
    },
    {
     "name": "stdout",
     "output_type": "stream",
     "text": [
      "epoch: 6, [batch: 1764 / 2520], examples_per_second: 3192.6010, train_label_loss: 0.7751, \n"
     ]
    },
    {
     "name": "stdout",
     "output_type": "stream",
     "text": [
      "epoch: 6, [batch: 2016 / 2520], examples_per_second: 3195.4482, train_label_loss: 0.2166, \n"
     ]
    },
    {
     "name": "stdout",
     "output_type": "stream",
     "text": [
      "epoch: 6, [batch: 2268 / 2520], examples_per_second: 3196.1824, train_label_loss: 0.3098, \n"
     ]
    },
    {
     "name": "stdout",
     "output_type": "stream",
     "text": [
      "=============================================================\n",
      "epoch: 6, source_val_acc_label: 0.5744, target_val_acc_label: 0.4830, source_val_label_loss: 1.3265, target_val_label_loss: 1.5741, \n",
      "=============================================================\n"
     ]
    },
    {
     "name": "stdout",
     "output_type": "stream",
     "text": [
      "New best\n"
     ]
    },
    {
     "name": "stdout",
     "output_type": "stream",
     "text": [
      "epoch: 7, [batch: 1 / 2520], examples_per_second: 11.1122, train_label_loss: 0.6298, \n"
     ]
    },
    {
     "name": "stdout",
     "output_type": "stream",
     "text": [
      "epoch: 7, [batch: 252 / 2520], examples_per_second: 3151.1534, train_label_loss: 0.5392, \n"
     ]
    },
    {
     "name": "stdout",
     "output_type": "stream",
     "text": [
      "epoch: 7, [batch: 504 / 2520], examples_per_second: 3174.5659, train_label_loss: 0.7182, \n"
     ]
    },
    {
     "name": "stdout",
     "output_type": "stream",
     "text": [
      "epoch: 7, [batch: 756 / 2520], examples_per_second: 3182.0559, train_label_loss: 0.3757, \n"
     ]
    },
    {
     "name": "stdout",
     "output_type": "stream",
     "text": [
      "epoch: 7, [batch: 1008 / 2520], examples_per_second: 3160.7522, train_label_loss: 0.5143, \n"
     ]
    },
    {
     "name": "stdout",
     "output_type": "stream",
     "text": [
      "epoch: 7, [batch: 1260 / 2520], examples_per_second: 3172.5570, train_label_loss: 0.8393, \n"
     ]
    },
    {
     "name": "stdout",
     "output_type": "stream",
     "text": [
      "epoch: 7, [batch: 1512 / 2520], examples_per_second: 3183.4760, train_label_loss: 0.2695, \n"
     ]
    },
    {
     "name": "stdout",
     "output_type": "stream",
     "text": [
      "epoch: 7, [batch: 1764 / 2520], examples_per_second: 3167.3333, train_label_loss: 0.5389, \n"
     ]
    },
    {
     "name": "stdout",
     "output_type": "stream",
     "text": [
      "epoch: 7, [batch: 2016 / 2520], examples_per_second: 3205.1929, train_label_loss: 0.3491, \n"
     ]
    },
    {
     "name": "stdout",
     "output_type": "stream",
     "text": [
      "epoch: 7, [batch: 2268 / 2520], examples_per_second: 3181.2142, train_label_loss: 0.5804, \n"
     ]
    },
    {
     "name": "stdout",
     "output_type": "stream",
     "text": [
      "=============================================================\n",
      "epoch: 7, source_val_acc_label: 0.5804, target_val_acc_label: 0.4870, source_val_label_loss: 1.3764, target_val_label_loss: 1.6486, \n",
      "=============================================================\n"
     ]
    },
    {
     "name": "stdout",
     "output_type": "stream",
     "text": [
      "New best\n"
     ]
    },
    {
     "name": "stdout",
     "output_type": "stream",
     "text": [
      "epoch: 8, [batch: 1 / 2520], examples_per_second: 11.1222, train_label_loss: 0.4127, \n"
     ]
    },
    {
     "name": "stdout",
     "output_type": "stream",
     "text": [
      "epoch: 8, [batch: 252 / 2520], examples_per_second: 3157.5816, train_label_loss: 0.3194, \n"
     ]
    },
    {
     "name": "stdout",
     "output_type": "stream",
     "text": [
      "epoch: 8, [batch: 504 / 2520], examples_per_second: 3181.3872, train_label_loss: 0.5630, \n"
     ]
    },
    {
     "name": "stdout",
     "output_type": "stream",
     "text": [
      "epoch: 8, [batch: 756 / 2520], examples_per_second: 3184.1868, train_label_loss: 0.4101, \n"
     ]
    },
    {
     "name": "stdout",
     "output_type": "stream",
     "text": [
      "epoch: 8, [batch: 1008 / 2520], examples_per_second: 3176.0832, train_label_loss: 0.4026, \n"
     ]
    },
    {
     "name": "stdout",
     "output_type": "stream",
     "text": [
      "epoch: 8, [batch: 1260 / 2520], examples_per_second: 3181.8576, train_label_loss: 0.2275, \n"
     ]
    },
    {
     "name": "stdout",
     "output_type": "stream",
     "text": [
      "epoch: 8, [batch: 1512 / 2520], examples_per_second: 3186.1710, train_label_loss: 0.3533, \n"
     ]
    },
    {
     "name": "stdout",
     "output_type": "stream",
     "text": [
      "epoch: 8, [batch: 1764 / 2520], examples_per_second: 3154.1373, train_label_loss: 0.1803, \n"
     ]
    },
    {
     "name": "stdout",
     "output_type": "stream",
     "text": [
      "epoch: 8, [batch: 2016 / 2520], examples_per_second: 3170.1602, train_label_loss: 0.3168, \n"
     ]
    },
    {
     "name": "stdout",
     "output_type": "stream",
     "text": [
      "epoch: 8, [batch: 2268 / 2520], examples_per_second: 3185.8068, train_label_loss: 0.6416, \n"
     ]
    },
    {
     "name": "stdout",
     "output_type": "stream",
     "text": [
      "=============================================================\n",
      "epoch: 8, source_val_acc_label: 0.5857, target_val_acc_label: 0.4853, source_val_label_loss: 1.4683, target_val_label_loss: 1.7626, \n",
      "=============================================================\n"
     ]
    },
    {
     "name": "stdout",
     "output_type": "stream",
     "text": [
      "epoch: 9, [batch: 1 / 2520], examples_per_second: 11.1848, train_label_loss: 0.5487, \n"
     ]
    },
    {
     "name": "stdout",
     "output_type": "stream",
     "text": [
      "epoch: 9, [batch: 252 / 2520], examples_per_second: 3163.1552, train_label_loss: 0.3050, \n"
     ]
    },
    {
     "name": "stdout",
     "output_type": "stream",
     "text": [
      "epoch: 9, [batch: 504 / 2520], examples_per_second: 3181.2461, train_label_loss: 0.4637, \n"
     ]
    },
    {
     "name": "stdout",
     "output_type": "stream",
     "text": [
      "epoch: 9, [batch: 756 / 2520], examples_per_second: 3180.0930, train_label_loss: 0.2988, \n"
     ]
    },
    {
     "name": "stdout",
     "output_type": "stream",
     "text": [
      "epoch: 9, [batch: 1008 / 2520], examples_per_second: 3170.8896, train_label_loss: 0.4386, \n"
     ]
    },
    {
     "name": "stdout",
     "output_type": "stream",
     "text": [
      "epoch: 9, [batch: 1260 / 2520], examples_per_second: 3178.8698, train_label_loss: 0.3694, \n"
     ]
    },
    {
     "name": "stdout",
     "output_type": "stream",
     "text": [
      "epoch: 9, [batch: 1512 / 2520], examples_per_second: 3172.1801, train_label_loss: 0.2180, \n"
     ]
    },
    {
     "name": "stdout",
     "output_type": "stream",
     "text": [
      "epoch: 9, [batch: 1764 / 2520], examples_per_second: 3148.1199, train_label_loss: 0.4193, \n"
     ]
    },
    {
     "name": "stdout",
     "output_type": "stream",
     "text": [
      "epoch: 9, [batch: 2016 / 2520], examples_per_second: 3168.5231, train_label_loss: 0.3183, \n"
     ]
    },
    {
     "name": "stdout",
     "output_type": "stream",
     "text": [
      "epoch: 9, [batch: 2268 / 2520], examples_per_second: 3194.8364, train_label_loss: 0.2857, \n"
     ]
    },
    {
     "name": "stdout",
     "output_type": "stream",
     "text": [
      "=============================================================\n",
      "epoch: 9, source_val_acc_label: 0.5910, target_val_acc_label: 0.4895, source_val_label_loss: 1.5133, target_val_label_loss: 1.7959, \n",
      "=============================================================\n"
     ]
    },
    {
     "name": "stdout",
     "output_type": "stream",
     "text": [
      "New best\n"
     ]
    },
    {
     "name": "stdout",
     "output_type": "stream",
     "text": [
      "epoch: 10, [batch: 1 / 2520], examples_per_second: 11.1689, train_label_loss: 0.3533, \n"
     ]
    },
    {
     "name": "stdout",
     "output_type": "stream",
     "text": [
      "epoch: 10, [batch: 252 / 2520], examples_per_second: 3176.6787, train_label_loss: 0.4292, \n"
     ]
    },
    {
     "name": "stdout",
     "output_type": "stream",
     "text": [
      "epoch: 10, [batch: 504 / 2520], examples_per_second: 3196.1498, train_label_loss: 0.4456, \n"
     ]
    },
    {
     "name": "stdout",
     "output_type": "stream",
     "text": [
      "epoch: 10, [batch: 756 / 2520], examples_per_second: 3186.3325, train_label_loss: 0.3525, \n"
     ]
    },
    {
     "name": "stdout",
     "output_type": "stream",
     "text": [
      "epoch: 10, [batch: 1008 / 2520], examples_per_second: 3168.6427, train_label_loss: 0.3818, \n"
     ]
    },
    {
     "name": "stdout",
     "output_type": "stream",
     "text": [
      "epoch: 10, [batch: 1260 / 2520], examples_per_second: 3183.8442, train_label_loss: 0.2182, \n"
     ]
    },
    {
     "name": "stdout",
     "output_type": "stream",
     "text": [
      "epoch: 10, [batch: 1512 / 2520], examples_per_second: 3197.1938, train_label_loss: 0.1629, \n"
     ]
    },
    {
     "name": "stdout",
     "output_type": "stream",
     "text": [
      "epoch: 10, [batch: 1764 / 2520], examples_per_second: 3183.9111, train_label_loss: 0.0259, \n"
     ]
    },
    {
     "name": "stdout",
     "output_type": "stream",
     "text": [
      "epoch: 10, [batch: 2016 / 2520], examples_per_second: 3182.3366, train_label_loss: 0.1116, \n"
     ]
    },
    {
     "name": "stdout",
     "output_type": "stream",
     "text": [
      "epoch: 10, [batch: 2268 / 2520], examples_per_second: 3178.3011, train_label_loss: 0.6485, \n"
     ]
    },
    {
     "name": "stdout",
     "output_type": "stream",
     "text": [
      "=============================================================\n",
      "epoch: 10, source_val_acc_label: 0.5868, target_val_acc_label: 0.4848, source_val_label_loss: 1.6356, target_val_label_loss: 1.9358, \n",
      "=============================================================\n"
     ]
    },
    {
     "name": "stdout",
     "output_type": "stream",
     "text": [
      "epoch: 11, [batch: 1 / 2520], examples_per_second: 11.1344, train_label_loss: 0.1490, \n"
     ]
    },
    {
     "name": "stdout",
     "output_type": "stream",
     "text": [
      "epoch: 11, [batch: 252 / 2520], examples_per_second: 3173.5237, train_label_loss: 0.0169, \n"
     ]
    },
    {
     "name": "stdout",
     "output_type": "stream",
     "text": [
      "epoch: 11, [batch: 504 / 2520], examples_per_second: 3187.2630, train_label_loss: 0.1749, \n"
     ]
    },
    {
     "name": "stdout",
     "output_type": "stream",
     "text": [
      "epoch: 11, [batch: 756 / 2520], examples_per_second: 3181.9352, train_label_loss: 0.1211, \n"
     ]
    },
    {
     "name": "stdout",
     "output_type": "stream",
     "text": [
      "epoch: 11, [batch: 1008 / 2520], examples_per_second: 3161.8825, train_label_loss: 0.1872, \n"
     ]
    },
    {
     "name": "stdout",
     "output_type": "stream",
     "text": [
      "epoch: 11, [batch: 1260 / 2520], examples_per_second: 3160.2268, train_label_loss: 0.2583, \n"
     ]
    },
    {
     "name": "stdout",
     "output_type": "stream",
     "text": [
      "epoch: 11, [batch: 1512 / 2520], examples_per_second: 3162.4725, train_label_loss: 0.0625, \n"
     ]
    },
    {
     "name": "stdout",
     "output_type": "stream",
     "text": [
      "epoch: 11, [batch: 1764 / 2520], examples_per_second: 3167.3552, train_label_loss: 0.4917, \n"
     ]
    },
    {
     "name": "stdout",
     "output_type": "stream",
     "text": [
      "epoch: 11, [batch: 2016 / 2520], examples_per_second: 3170.9774, train_label_loss: 0.0508, \n"
     ]
    },
    {
     "name": "stdout",
     "output_type": "stream",
     "text": [
      "epoch: 11, [batch: 2268 / 2520], examples_per_second: 3181.9747, train_label_loss: 0.3241, \n"
     ]
    },
    {
     "name": "stdout",
     "output_type": "stream",
     "text": [
      "=============================================================\n",
      "epoch: 11, source_val_acc_label: 0.5832, target_val_acc_label: 0.4871, source_val_label_loss: 1.7150, target_val_label_loss: 1.9936, \n",
      "=============================================================\n"
     ]
    },
    {
     "name": "stdout",
     "output_type": "stream",
     "text": [
      "epoch: 12, [batch: 1 / 2520], examples_per_second: 11.2072, train_label_loss: 0.6413, \n"
     ]
    },
    {
     "name": "stdout",
     "output_type": "stream",
     "text": [
      "epoch: 12, [batch: 252 / 2520], examples_per_second: 3164.9775, train_label_loss: 0.4999, \n"
     ]
    },
    {
     "name": "stdout",
     "output_type": "stream",
     "text": [
      "epoch: 12, [batch: 504 / 2520], examples_per_second: 3168.9126, train_label_loss: 0.0468, \n"
     ]
    },
    {
     "name": "stdout",
     "output_type": "stream",
     "text": [
      "epoch: 12, [batch: 756 / 2520], examples_per_second: 3175.9741, train_label_loss: 0.1167, \n"
     ]
    },
    {
     "name": "stdout",
     "output_type": "stream",
     "text": [
      "epoch: 12, [batch: 1008 / 2520], examples_per_second: 3154.8172, train_label_loss: 0.1420, \n"
     ]
    },
    {
     "name": "stdout",
     "output_type": "stream",
     "text": [
      "epoch: 12, [batch: 1260 / 2520], examples_per_second: 3185.2176, train_label_loss: 0.0365, \n"
     ]
    },
    {
     "name": "stdout",
     "output_type": "stream",
     "text": [
      "epoch: 12, [batch: 1512 / 2520], examples_per_second: 3183.2086, train_label_loss: 0.1546, \n"
     ]
    },
    {
     "name": "stdout",
     "output_type": "stream",
     "text": [
      "epoch: 12, [batch: 1764 / 2520], examples_per_second: 3160.5260, train_label_loss: 0.3269, \n"
     ]
    },
    {
     "name": "stdout",
     "output_type": "stream",
     "text": [
      "epoch: 12, [batch: 2016 / 2520], examples_per_second: 3209.6436, train_label_loss: 0.1343, \n"
     ]
    },
    {
     "name": "stdout",
     "output_type": "stream",
     "text": [
      "epoch: 12, [batch: 2268 / 2520], examples_per_second: 3187.3277, train_label_loss: 0.0101, \n"
     ]
    },
    {
     "name": "stdout",
     "output_type": "stream",
     "text": [
      "=============================================================\n",
      "epoch: 12, source_val_acc_label: 0.5851, target_val_acc_label: 0.4863, source_val_label_loss: 1.8119, target_val_label_loss: 2.1150, \n",
      "=============================================================\n"
     ]
    },
    {
     "name": "stdout",
     "output_type": "stream",
     "text": [
      "epoch: 13, [batch: 1 / 2520], examples_per_second: 11.1428, train_label_loss: 0.0780, \n"
     ]
    },
    {
     "name": "stdout",
     "output_type": "stream",
     "text": [
      "epoch: 13, [batch: 252 / 2520], examples_per_second: 3163.4942, train_label_loss: 0.0055, \n"
     ]
    },
    {
     "name": "stdout",
     "output_type": "stream",
     "text": [
      "epoch: 13, [batch: 504 / 2520], examples_per_second: 3189.6843, train_label_loss: 0.0681, \n"
     ]
    },
    {
     "name": "stdout",
     "output_type": "stream",
     "text": [
      "epoch: 13, [batch: 756 / 2520], examples_per_second: 3204.8873, train_label_loss: 0.1845, \n"
     ]
    },
    {
     "name": "stdout",
     "output_type": "stream",
     "text": [
      "epoch: 13, [batch: 1008 / 2520], examples_per_second: 3178.5780, train_label_loss: 0.0708, \n"
     ]
    },
    {
     "name": "stdout",
     "output_type": "stream",
     "text": [
      "epoch: 13, [batch: 1260 / 2520], examples_per_second: 3179.6575, train_label_loss: 0.0207, \n"
     ]
    },
    {
     "name": "stdout",
     "output_type": "stream",
     "text": [
      "epoch: 13, [batch: 1512 / 2520], examples_per_second: 3192.0498, train_label_loss: 0.5922, \n"
     ]
    },
    {
     "name": "stdout",
     "output_type": "stream",
     "text": [
      "epoch: 13, [batch: 1764 / 2520], examples_per_second: 3169.0242, train_label_loss: 0.1108, \n"
     ]
    },
    {
     "name": "stdout",
     "output_type": "stream",
     "text": [
      "epoch: 13, [batch: 2016 / 2520], examples_per_second: 3161.4397, train_label_loss: 0.0298, \n"
     ]
    },
    {
     "name": "stdout",
     "output_type": "stream",
     "text": [
      "epoch: 13, [batch: 2268 / 2520], examples_per_second: 3171.8451, train_label_loss: 0.3375, \n"
     ]
    },
    {
     "name": "stdout",
     "output_type": "stream",
     "text": [
      "=============================================================\n",
      "epoch: 13, source_val_acc_label: 0.5857, target_val_acc_label: 0.4924, source_val_label_loss: 1.8530, target_val_label_loss: 2.1807, \n",
      "=============================================================\n"
     ]
    },
    {
     "name": "stdout",
     "output_type": "stream",
     "text": [
      "New best\n"
     ]
    },
    {
     "name": "stdout",
     "output_type": "stream",
     "text": [
      "epoch: 14, [batch: 1 / 2520], examples_per_second: 11.2009, train_label_loss: 0.2252, \n"
     ]
    },
    {
     "name": "stdout",
     "output_type": "stream",
     "text": [
      "epoch: 14, [batch: 252 / 2520], examples_per_second: 3152.6791, train_label_loss: 0.0032, \n"
     ]
    },
    {
     "name": "stdout",
     "output_type": "stream",
     "text": [
      "epoch: 14, [batch: 504 / 2520], examples_per_second: 3157.2069, train_label_loss: 0.1941, \n"
     ]
    },
    {
     "name": "stdout",
     "output_type": "stream",
     "text": [
      "epoch: 14, [batch: 756 / 2520], examples_per_second: 3178.5490, train_label_loss: 0.0238, \n"
     ]
    },
    {
     "name": "stdout",
     "output_type": "stream",
     "text": [
      "epoch: 14, [batch: 1008 / 2520], examples_per_second: 3148.2503, train_label_loss: 0.1622, \n"
     ]
    },
    {
     "name": "stdout",
     "output_type": "stream",
     "text": [
      "epoch: 14, [batch: 1260 / 2520], examples_per_second: 3177.3040, train_label_loss: 0.2801, \n"
     ]
    },
    {
     "name": "stdout",
     "output_type": "stream",
     "text": [
      "epoch: 14, [batch: 1512 / 2520], examples_per_second: 3185.8080, train_label_loss: 0.2005, \n"
     ]
    },
    {
     "name": "stdout",
     "output_type": "stream",
     "text": [
      "epoch: 14, [batch: 1764 / 2520], examples_per_second: 3172.3657, train_label_loss: 0.0517, \n"
     ]
    },
    {
     "name": "stdout",
     "output_type": "stream",
     "text": [
      "epoch: 14, [batch: 2016 / 2520], examples_per_second: 3166.1141, train_label_loss: 0.1101, \n"
     ]
    },
    {
     "name": "stdout",
     "output_type": "stream",
     "text": [
      "epoch: 14, [batch: 2268 / 2520], examples_per_second: 3150.6997, train_label_loss: 0.1487, \n"
     ]
    },
    {
     "name": "stdout",
     "output_type": "stream",
     "text": [
      "=============================================================\n",
      "epoch: 14, source_val_acc_label: 0.5799, target_val_acc_label: 0.4936, source_val_label_loss: 1.8987, target_val_label_loss: 2.2100, \n",
      "=============================================================\n"
     ]
    },
    {
     "name": "stdout",
     "output_type": "stream",
     "text": [
      "New best\n"
     ]
    },
    {
     "name": "stdout",
     "output_type": "stream",
     "text": [
      "epoch: 15, [batch: 1 / 2520], examples_per_second: 11.1096, train_label_loss: 0.1733, \n"
     ]
    },
    {
     "name": "stdout",
     "output_type": "stream",
     "text": [
      "epoch: 15, [batch: 252 / 2520], examples_per_second: 3153.2583, train_label_loss: 0.0663, \n"
     ]
    },
    {
     "name": "stdout",
     "output_type": "stream",
     "text": [
      "epoch: 15, [batch: 504 / 2520], examples_per_second: 3171.0648, train_label_loss: 0.2505, \n"
     ]
    },
    {
     "name": "stdout",
     "output_type": "stream",
     "text": [
      "epoch: 15, [batch: 756 / 2520], examples_per_second: 3184.8895, train_label_loss: 0.0347, \n"
     ]
    },
    {
     "name": "stdout",
     "output_type": "stream",
     "text": [
      "epoch: 15, [batch: 1008 / 2520], examples_per_second: 3177.6929, train_label_loss: 0.1015, \n"
     ]
    },
    {
     "name": "stdout",
     "output_type": "stream",
     "text": [
      "epoch: 15, [batch: 1260 / 2520], examples_per_second: 3168.5140, train_label_loss: 0.0164, \n"
     ]
    },
    {
     "name": "stdout",
     "output_type": "stream",
     "text": [
      "epoch: 15, [batch: 1512 / 2520], examples_per_second: 3165.7286, train_label_loss: 0.2927, \n"
     ]
    },
    {
     "name": "stdout",
     "output_type": "stream",
     "text": [
      "epoch: 15, [batch: 1764 / 2520], examples_per_second: 3175.6984, train_label_loss: 0.0096, \n"
     ]
    },
    {
     "name": "stdout",
     "output_type": "stream",
     "text": [
      "epoch: 15, [batch: 2016 / 2520], examples_per_second: 3181.0769, train_label_loss: 0.1186, \n"
     ]
    },
    {
     "name": "stdout",
     "output_type": "stream",
     "text": [
      "epoch: 15, [batch: 2268 / 2520], examples_per_second: 3192.8214, train_label_loss: 0.2033, \n"
     ]
    },
    {
     "name": "stdout",
     "output_type": "stream",
     "text": [
      "=============================================================\n",
      "epoch: 15, source_val_acc_label: 0.5852, target_val_acc_label: 0.4919, source_val_label_loss: 1.9209, target_val_label_loss: 2.2663, \n",
      "=============================================================\n"
     ]
    },
    {
     "name": "stdout",
     "output_type": "stream",
     "text": [
      "epoch: 16, [batch: 1 / 2520], examples_per_second: 11.1726, train_label_loss: 0.2321, \n"
     ]
    },
    {
     "name": "stdout",
     "output_type": "stream",
     "text": [
      "epoch: 16, [batch: 252 / 2520], examples_per_second: 3153.9266, train_label_loss: 0.2398, \n"
     ]
    },
    {
     "name": "stdout",
     "output_type": "stream",
     "text": [
      "epoch: 16, [batch: 504 / 2520], examples_per_second: 3160.7040, train_label_loss: 0.0067, \n"
     ]
    },
    {
     "name": "stdout",
     "output_type": "stream",
     "text": [
      "epoch: 16, [batch: 756 / 2520], examples_per_second: 3166.6596, train_label_loss: 0.1768, \n"
     ]
    },
    {
     "name": "stdout",
     "output_type": "stream",
     "text": [
      "epoch: 16, [batch: 1008 / 2520], examples_per_second: 3173.7078, train_label_loss: 0.0833, \n"
     ]
    },
    {
     "name": "stdout",
     "output_type": "stream",
     "text": [
      "epoch: 16, [batch: 1260 / 2520], examples_per_second: 3194.9688, train_label_loss: 0.0544, \n"
     ]
    },
    {
     "name": "stdout",
     "output_type": "stream",
     "text": [
      "epoch: 16, [batch: 1512 / 2520], examples_per_second: 3175.2905, train_label_loss: 0.2475, \n"
     ]
    },
    {
     "name": "stdout",
     "output_type": "stream",
     "text": [
      "epoch: 16, [batch: 1764 / 2520], examples_per_second: 3170.2244, train_label_loss: 0.3975, \n"
     ]
    },
    {
     "name": "stdout",
     "output_type": "stream",
     "text": [
      "epoch: 16, [batch: 2016 / 2520], examples_per_second: 3168.7670, train_label_loss: 0.0041, \n"
     ]
    },
    {
     "name": "stdout",
     "output_type": "stream",
     "text": [
      "epoch: 16, [batch: 2268 / 2520], examples_per_second: 3176.8803, train_label_loss: 0.1403, \n"
     ]
    },
    {
     "name": "stdout",
     "output_type": "stream",
     "text": [
      "=============================================================\n",
      "epoch: 16, source_val_acc_label: 0.5844, target_val_acc_label: 0.4919, source_val_label_loss: 1.9634, target_val_label_loss: 2.3111, \n",
      "=============================================================\n"
     ]
    },
    {
     "name": "stdout",
     "output_type": "stream",
     "text": [
      "epoch: 17, [batch: 1 / 2520], examples_per_second: 11.1979, train_label_loss: 0.0398, \n"
     ]
    },
    {
     "name": "stdout",
     "output_type": "stream",
     "text": [
      "epoch: 17, [batch: 252 / 2520], examples_per_second: 3150.2640, train_label_loss: 0.2911, \n"
     ]
    },
    {
     "name": "stdout",
     "output_type": "stream",
     "text": [
      "epoch: 17, [batch: 504 / 2520], examples_per_second: 3194.7525, train_label_loss: 0.0634, \n"
     ]
    },
    {
     "name": "stdout",
     "output_type": "stream",
     "text": [
      "epoch: 17, [batch: 756 / 2520], examples_per_second: 3185.4361, train_label_loss: 0.2204, \n"
     ]
    },
    {
     "name": "stdout",
     "output_type": "stream",
     "text": [
      "epoch: 17, [batch: 1008 / 2520], examples_per_second: 3168.7757, train_label_loss: 0.3015, \n"
     ]
    },
    {
     "name": "stdout",
     "output_type": "stream",
     "text": [
      "epoch: 17, [batch: 1260 / 2520], examples_per_second: 3178.3728, train_label_loss: 0.0696, \n"
     ]
    },
    {
     "name": "stdout",
     "output_type": "stream",
     "text": [
      "epoch: 17, [batch: 1512 / 2520], examples_per_second: 3166.9661, train_label_loss: 0.3925, \n"
     ]
    },
    {
     "name": "stdout",
     "output_type": "stream",
     "text": [
      "epoch: 17, [batch: 1764 / 2520], examples_per_second: 3168.8400, train_label_loss: 0.0285, \n"
     ]
    },
    {
     "name": "stdout",
     "output_type": "stream",
     "text": [
      "epoch: 17, [batch: 2016 / 2520], examples_per_second: 3181.3736, train_label_loss: 0.1529, \n"
     ]
    },
    {
     "name": "stdout",
     "output_type": "stream",
     "text": [
      "epoch: 17, [batch: 2268 / 2520], examples_per_second: 3180.6632, train_label_loss: 0.3347, \n"
     ]
    },
    {
     "name": "stdout",
     "output_type": "stream",
     "text": [
      "=============================================================\n",
      "epoch: 17, source_val_acc_label: 0.5847, target_val_acc_label: 0.4942, source_val_label_loss: 2.0616, target_val_label_loss: 2.4334, \n",
      "=============================================================\n"
     ]
    },
    {
     "name": "stdout",
     "output_type": "stream",
     "text": [
      "New best\n"
     ]
    },
    {
     "name": "stdout",
     "output_type": "stream",
     "text": [
      "epoch: 18, [batch: 1 / 2520], examples_per_second: 10.9576, train_label_loss: 0.1342, \n"
     ]
    },
    {
     "name": "stdout",
     "output_type": "stream",
     "text": [
      "epoch: 18, [batch: 252 / 2520], examples_per_second: 3165.0949, train_label_loss: 0.1210, \n"
     ]
    },
    {
     "name": "stdout",
     "output_type": "stream",
     "text": [
      "epoch: 18, [batch: 504 / 2520], examples_per_second: 3188.9944, train_label_loss: 0.1520, \n"
     ]
    },
    {
     "name": "stdout",
     "output_type": "stream",
     "text": [
      "epoch: 18, [batch: 756 / 2520], examples_per_second: 3194.0284, train_label_loss: 0.2240, \n"
     ]
    },
    {
     "name": "stdout",
     "output_type": "stream",
     "text": [
      "epoch: 18, [batch: 1008 / 2520], examples_per_second: 3176.4728, train_label_loss: 0.1610, \n"
     ]
    },
    {
     "name": "stdout",
     "output_type": "stream",
     "text": [
      "epoch: 18, [batch: 1260 / 2520], examples_per_second: 3195.2257, train_label_loss: 0.0095, \n"
     ]
    },
    {
     "name": "stdout",
     "output_type": "stream",
     "text": [
      "epoch: 18, [batch: 1512 / 2520], examples_per_second: 3187.2125, train_label_loss: 0.1687, \n"
     ]
    },
    {
     "name": "stdout",
     "output_type": "stream",
     "text": [
      "epoch: 18, [batch: 1764 / 2520], examples_per_second: 3157.2549, train_label_loss: 0.0391, \n"
     ]
    },
    {
     "name": "stdout",
     "output_type": "stream",
     "text": [
      "epoch: 18, [batch: 2016 / 2520], examples_per_second: 3185.6640, train_label_loss: 0.2784, \n"
     ]
    },
    {
     "name": "stdout",
     "output_type": "stream",
     "text": [
      "epoch: 18, [batch: 2268 / 2520], examples_per_second: 3203.4697, train_label_loss: 0.1452, \n"
     ]
    },
    {
     "name": "stdout",
     "output_type": "stream",
     "text": [
      "=============================================================\n",
      "epoch: 18, source_val_acc_label: 0.5848, target_val_acc_label: 0.4824, source_val_label_loss: 2.0991, target_val_label_loss: 2.4785, \n",
      "=============================================================\n"
     ]
    },
    {
     "name": "stdout",
     "output_type": "stream",
     "text": [
      "epoch: 19, [batch: 1 / 2520], examples_per_second: 11.2282, train_label_loss: 0.4088, \n"
     ]
    },
    {
     "name": "stdout",
     "output_type": "stream",
     "text": [
      "epoch: 19, [batch: 252 / 2520], examples_per_second: 3174.3062, train_label_loss: 0.0539, \n"
     ]
    },
    {
     "name": "stdout",
     "output_type": "stream",
     "text": [
      "epoch: 19, [batch: 504 / 2520], examples_per_second: 3179.4680, train_label_loss: 0.0381, \n"
     ]
    },
    {
     "name": "stdout",
     "output_type": "stream",
     "text": [
      "epoch: 19, [batch: 756 / 2520], examples_per_second: 3198.9517, train_label_loss: 0.0996, \n"
     ]
    },
    {
     "name": "stdout",
     "output_type": "stream",
     "text": [
      "epoch: 19, [batch: 1008 / 2520], examples_per_second: 3176.9825, train_label_loss: 0.1376, \n"
     ]
    },
    {
     "name": "stdout",
     "output_type": "stream",
     "text": [
      "epoch: 19, [batch: 1260 / 2520], examples_per_second: 3180.1285, train_label_loss: 0.1278, \n"
     ]
    },
    {
     "name": "stdout",
     "output_type": "stream",
     "text": [
      "epoch: 19, [batch: 1512 / 2520], examples_per_second: 3177.2204, train_label_loss: 0.1396, \n"
     ]
    },
    {
     "name": "stdout",
     "output_type": "stream",
     "text": [
      "epoch: 19, [batch: 1764 / 2520], examples_per_second: 3177.7833, train_label_loss: 0.0837, \n"
     ]
    },
    {
     "name": "stdout",
     "output_type": "stream",
     "text": [
      "epoch: 19, [batch: 2016 / 2520], examples_per_second: 3203.7009, train_label_loss: 0.0039, \n"
     ]
    },
    {
     "name": "stdout",
     "output_type": "stream",
     "text": [
      "epoch: 19, [batch: 2268 / 2520], examples_per_second: 3190.9721, train_label_loss: 0.0357, \n"
     ]
    },
    {
     "name": "stdout",
     "output_type": "stream",
     "text": [
      "=============================================================\n",
      "epoch: 19, source_val_acc_label: 0.5849, target_val_acc_label: 0.4959, source_val_label_loss: 2.1545, target_val_label_loss: 2.5244, \n",
      "=============================================================\n"
     ]
    },
    {
     "name": "stdout",
     "output_type": "stream",
     "text": [
      "New best\n"
     ]
    },
    {
     "name": "stdout",
     "output_type": "stream",
     "text": [
      "epoch: 20, [batch: 1 / 2520], examples_per_second: 11.0450, train_label_loss: 0.0194, \n"
     ]
    },
    {
     "name": "stdout",
     "output_type": "stream",
     "text": [
      "epoch: 20, [batch: 252 / 2520], examples_per_second: 3153.8767, train_label_loss: 0.1096, \n"
     ]
    },
    {
     "name": "stdout",
     "output_type": "stream",
     "text": [
      "epoch: 20, [batch: 504 / 2520], examples_per_second: 3162.8716, train_label_loss: 0.0191, \n"
     ]
    },
    {
     "name": "stdout",
     "output_type": "stream",
     "text": [
      "epoch: 20, [batch: 756 / 2520], examples_per_second: 3164.2997, train_label_loss: 0.1948, \n"
     ]
    },
    {
     "name": "stdout",
     "output_type": "stream",
     "text": [
      "epoch: 20, [batch: 1008 / 2520], examples_per_second: 3161.3846, train_label_loss: 0.0877, \n"
     ]
    },
    {
     "name": "stdout",
     "output_type": "stream",
     "text": [
      "epoch: 20, [batch: 1260 / 2520], examples_per_second: 3193.6174, train_label_loss: 0.2190, \n"
     ]
    },
    {
     "name": "stdout",
     "output_type": "stream",
     "text": [
      "epoch: 20, [batch: 1512 / 2520], examples_per_second: 3172.0218, train_label_loss: 0.1425, \n"
     ]
    },
    {
     "name": "stdout",
     "output_type": "stream",
     "text": [
      "epoch: 20, [batch: 1764 / 2520], examples_per_second: 3161.5830, train_label_loss: 0.0761, \n"
     ]
    },
    {
     "name": "stdout",
     "output_type": "stream",
     "text": [
      "epoch: 20, [batch: 2016 / 2520], examples_per_second: 3168.7449, train_label_loss: 0.0530, \n"
     ]
    },
    {
     "name": "stdout",
     "output_type": "stream",
     "text": [
      "epoch: 20, [batch: 2268 / 2520], examples_per_second: 3180.6190, train_label_loss: 0.0749, \n"
     ]
    },
    {
     "name": "stdout",
     "output_type": "stream",
     "text": [
      "=============================================================\n",
      "epoch: 20, source_val_acc_label: 0.5781, target_val_acc_label: 0.4913, source_val_label_loss: 2.1481, target_val_label_loss: 2.5010, \n",
      "=============================================================\n"
     ]
    },
    {
     "name": "stdout",
     "output_type": "stream",
     "text": [
      "epoch: 21, [batch: 1 / 2520], examples_per_second: 11.0901, train_label_loss: 0.2127, \n"
     ]
    },
    {
     "name": "stdout",
     "output_type": "stream",
     "text": [
      "epoch: 21, [batch: 252 / 2520], examples_per_second: 3144.1484, train_label_loss: 0.1177, \n"
     ]
    },
    {
     "name": "stdout",
     "output_type": "stream",
     "text": [
      "epoch: 21, [batch: 504 / 2520], examples_per_second: 3160.6868, train_label_loss: 0.0384, \n"
     ]
    },
    {
     "name": "stdout",
     "output_type": "stream",
     "text": [
      "epoch: 21, [batch: 756 / 2520], examples_per_second: 3157.8552, train_label_loss: 0.2518, \n"
     ]
    },
    {
     "name": "stdout",
     "output_type": "stream",
     "text": [
      "epoch: 21, [batch: 1008 / 2520], examples_per_second: 3143.4310, train_label_loss: 0.0304, \n"
     ]
    },
    {
     "name": "stdout",
     "output_type": "stream",
     "text": [
      "epoch: 21, [batch: 1260 / 2520], examples_per_second: 3155.8463, train_label_loss: 0.2062, \n"
     ]
    },
    {
     "name": "stdout",
     "output_type": "stream",
     "text": [
      "epoch: 21, [batch: 1512 / 2520], examples_per_second: 3151.0787, train_label_loss: 0.0095, \n"
     ]
    },
    {
     "name": "stdout",
     "output_type": "stream",
     "text": [
      "epoch: 21, [batch: 1764 / 2520], examples_per_second: 3152.9351, train_label_loss: 0.0568, \n"
     ]
    },
    {
     "name": "stdout",
     "output_type": "stream",
     "text": [
      "epoch: 21, [batch: 2016 / 2520], examples_per_second: 3173.6930, train_label_loss: 0.0971, \n"
     ]
    },
    {
     "name": "stdout",
     "output_type": "stream",
     "text": [
      "epoch: 21, [batch: 2268 / 2520], examples_per_second: 3173.9389, train_label_loss: 0.0626, \n"
     ]
    },
    {
     "name": "stdout",
     "output_type": "stream",
     "text": [
      "=============================================================\n",
      "epoch: 21, source_val_acc_label: 0.5784, target_val_acc_label: 0.4999, source_val_label_loss: 2.1744, target_val_label_loss: 2.5133, \n",
      "=============================================================\n"
     ]
    },
    {
     "name": "stdout",
     "output_type": "stream",
     "text": [
      "New best\n"
     ]
    },
    {
     "name": "stdout",
     "output_type": "stream",
     "text": [
      "epoch: 22, [batch: 1 / 2520], examples_per_second: 11.0775, train_label_loss: 0.0881, \n"
     ]
    },
    {
     "name": "stdout",
     "output_type": "stream",
     "text": [
      "epoch: 22, [batch: 252 / 2520], examples_per_second: 3170.4499, train_label_loss: 0.0380, \n"
     ]
    },
    {
     "name": "stdout",
     "output_type": "stream",
     "text": [
      "epoch: 22, [batch: 504 / 2520], examples_per_second: 3181.8644, train_label_loss: 0.2351, \n"
     ]
    },
    {
     "name": "stdout",
     "output_type": "stream",
     "text": [
      "epoch: 22, [batch: 756 / 2520], examples_per_second: 3189.4587, train_label_loss: 0.0512, \n"
     ]
    },
    {
     "name": "stdout",
     "output_type": "stream",
     "text": [
      "epoch: 22, [batch: 1008 / 2520], examples_per_second: 3176.7829, train_label_loss: 0.0572, \n"
     ]
    },
    {
     "name": "stdout",
     "output_type": "stream",
     "text": [
      "epoch: 22, [batch: 1260 / 2520], examples_per_second: 3192.1300, train_label_loss: 0.0174, \n"
     ]
    },
    {
     "name": "stdout",
     "output_type": "stream",
     "text": [
      "epoch: 22, [batch: 1512 / 2520], examples_per_second: 3193.1772, train_label_loss: 0.1330, \n"
     ]
    },
    {
     "name": "stdout",
     "output_type": "stream",
     "text": [
      "epoch: 22, [batch: 1764 / 2520], examples_per_second: 3157.4601, train_label_loss: 0.1353, \n"
     ]
    },
    {
     "name": "stdout",
     "output_type": "stream",
     "text": [
      "epoch: 22, [batch: 2016 / 2520], examples_per_second: 3189.5048, train_label_loss: 0.0453, \n"
     ]
    },
    {
     "name": "stdout",
     "output_type": "stream",
     "text": [
      "epoch: 22, [batch: 2268 / 2520], examples_per_second: 3178.1619, train_label_loss: 0.0413, \n"
     ]
    },
    {
     "name": "stdout",
     "output_type": "stream",
     "text": [
      "=============================================================\n",
      "epoch: 22, source_val_acc_label: 0.5836, target_val_acc_label: 0.4956, source_val_label_loss: 2.1813, target_val_label_loss: 2.4716, \n",
      "=============================================================\n"
     ]
    },
    {
     "name": "stdout",
     "output_type": "stream",
     "text": [
      "epoch: 23, [batch: 1 / 2520], examples_per_second: 11.1600, train_label_loss: 0.2772, \n"
     ]
    },
    {
     "name": "stdout",
     "output_type": "stream",
     "text": [
      "epoch: 23, [batch: 252 / 2520], examples_per_second: 3153.9540, train_label_loss: 0.1114, \n"
     ]
    },
    {
     "name": "stdout",
     "output_type": "stream",
     "text": [
      "epoch: 23, [batch: 504 / 2520], examples_per_second: 3179.0442, train_label_loss: 0.1770, \n"
     ]
    },
    {
     "name": "stdout",
     "output_type": "stream",
     "text": [
      "epoch: 23, [batch: 756 / 2520], examples_per_second: 3178.3336, train_label_loss: 0.1678, \n"
     ]
    },
    {
     "name": "stdout",
     "output_type": "stream",
     "text": [
      "epoch: 23, [batch: 1008 / 2520], examples_per_second: 3158.5081, train_label_loss: 0.0026, \n"
     ]
    },
    {
     "name": "stdout",
     "output_type": "stream",
     "text": [
      "epoch: 23, [batch: 1260 / 2520], examples_per_second: 3181.0390, train_label_loss: 0.1765, \n"
     ]
    },
    {
     "name": "stdout",
     "output_type": "stream",
     "text": [
      "epoch: 23, [batch: 1512 / 2520], examples_per_second: 3168.4075, train_label_loss: 0.0301, \n"
     ]
    },
    {
     "name": "stdout",
     "output_type": "stream",
     "text": [
      "epoch: 23, [batch: 1764 / 2520], examples_per_second: 3162.9824, train_label_loss: 0.0061, \n"
     ]
    },
    {
     "name": "stdout",
     "output_type": "stream",
     "text": [
      "epoch: 23, [batch: 2016 / 2520], examples_per_second: 3177.0834, train_label_loss: 0.0495, \n"
     ]
    },
    {
     "name": "stdout",
     "output_type": "stream",
     "text": [
      "epoch: 23, [batch: 2268 / 2520], examples_per_second: 3203.5028, train_label_loss: 0.0625, \n"
     ]
    },
    {
     "name": "stdout",
     "output_type": "stream",
     "text": [
      "=============================================================\n",
      "epoch: 23, source_val_acc_label: 0.5837, target_val_acc_label: 0.4931, source_val_label_loss: 2.2316, target_val_label_loss: 2.5713, \n",
      "=============================================================\n"
     ]
    },
    {
     "name": "stdout",
     "output_type": "stream",
     "text": [
      "epoch: 24, [batch: 1 / 2520], examples_per_second: 11.1813, train_label_loss: 0.0160, \n"
     ]
    },
    {
     "name": "stdout",
     "output_type": "stream",
     "text": [
      "epoch: 24, [batch: 252 / 2520], examples_per_second: 3148.8971, train_label_loss: 0.0217, \n"
     ]
    },
    {
     "name": "stdout",
     "output_type": "stream",
     "text": [
      "epoch: 24, [batch: 504 / 2520], examples_per_second: 3168.5779, train_label_loss: 0.0200, \n"
     ]
    },
    {
     "name": "stdout",
     "output_type": "stream",
     "text": [
      "epoch: 24, [batch: 756 / 2520], examples_per_second: 3176.6500, train_label_loss: 0.0041, \n"
     ]
    },
    {
     "name": "stdout",
     "output_type": "stream",
     "text": [
      "epoch: 24, [batch: 1008 / 2520], examples_per_second: 3168.5840, train_label_loss: 0.0597, \n"
     ]
    },
    {
     "name": "stdout",
     "output_type": "stream",
     "text": [
      "epoch: 24, [batch: 1260 / 2520], examples_per_second: 3188.2208, train_label_loss: 0.0726, \n"
     ]
    },
    {
     "name": "stdout",
     "output_type": "stream",
     "text": [
      "epoch: 24, [batch: 1512 / 2520], examples_per_second: 3194.9687, train_label_loss: 0.0021, \n"
     ]
    },
    {
     "name": "stdout",
     "output_type": "stream",
     "text": [
      "epoch: 24, [batch: 1764 / 2520], examples_per_second: 3185.8092, train_label_loss: 0.1282, \n"
     ]
    },
    {
     "name": "stdout",
     "output_type": "stream",
     "text": [
      "epoch: 24, [batch: 2016 / 2520], examples_per_second: 3190.9149, train_label_loss: 0.0131, \n"
     ]
    },
    {
     "name": "stdout",
     "output_type": "stream",
     "text": [
      "epoch: 24, [batch: 2268 / 2520], examples_per_second: 3183.9363, train_label_loss: 0.2751, \n"
     ]
    },
    {
     "name": "stdout",
     "output_type": "stream",
     "text": [
      "=============================================================\n",
      "epoch: 24, source_val_acc_label: 0.5831, target_val_acc_label: 0.4946, source_val_label_loss: 2.2000, target_val_label_loss: 2.5622, \n",
      "=============================================================\n"
     ]
    },
    {
     "name": "stdout",
     "output_type": "stream",
     "text": [
      "epoch: 25, [batch: 1 / 2520], examples_per_second: 11.1830, train_label_loss: 0.0094, \n"
     ]
    },
    {
     "name": "stdout",
     "output_type": "stream",
     "text": [
      "epoch: 25, [batch: 252 / 2520], examples_per_second: 3188.6429, train_label_loss: 0.0219, \n"
     ]
    },
    {
     "name": "stdout",
     "output_type": "stream",
     "text": [
      "epoch: 25, [batch: 504 / 2520], examples_per_second: 3173.3526, train_label_loss: 0.1726, \n"
     ]
    },
    {
     "name": "stdout",
     "output_type": "stream",
     "text": [
      "epoch: 25, [batch: 756 / 2520], examples_per_second: 3193.9473, train_label_loss: 0.2768, \n"
     ]
    },
    {
     "name": "stdout",
     "output_type": "stream",
     "text": [
      "epoch: 25, [batch: 1008 / 2520], examples_per_second: 3171.2836, train_label_loss: 0.0388, \n"
     ]
    },
    {
     "name": "stdout",
     "output_type": "stream",
     "text": [
      "epoch: 25, [batch: 1260 / 2520], examples_per_second: 3193.1277, train_label_loss: 0.2885, \n"
     ]
    },
    {
     "name": "stdout",
     "output_type": "stream",
     "text": [
      "epoch: 25, [batch: 1512 / 2520], examples_per_second: 3182.0446, train_label_loss: 0.0190, \n"
     ]
    },
    {
     "name": "stdout",
     "output_type": "stream",
     "text": [
      "epoch: 25, [batch: 1764 / 2520], examples_per_second: 3165.1937, train_label_loss: 0.0334, \n"
     ]
    },
    {
     "name": "stdout",
     "output_type": "stream",
     "text": [
      "epoch: 25, [batch: 2016 / 2520], examples_per_second: 3174.9819, train_label_loss: 0.0275, \n"
     ]
    },
    {
     "name": "stdout",
     "output_type": "stream",
     "text": [
      "epoch: 25, [batch: 2268 / 2520], examples_per_second: 3184.1037, train_label_loss: 0.0074, \n"
     ]
    },
    {
     "name": "stdout",
     "output_type": "stream",
     "text": [
      "=============================================================\n",
      "epoch: 25, source_val_acc_label: 0.5827, target_val_acc_label: 0.4983, source_val_label_loss: 2.2878, target_val_label_loss: 2.6412, \n",
      "=============================================================\n"
     ]
    },
    {
     "name": "stdout",
     "output_type": "stream",
     "text": [
      "Patience (3) exhausted\n"
     ]
    }
   ],
   "source": [
    "###################################\n",
    "# train\n",
    "###################################\n",
    "jig = PTN_Train_Eval_Test_Jig(model, p.BEST_MODEL_PATH, p.device)\n",
    "\n",
    "jig.train(\n",
    "    train_iterable=datasets.source.processed.train,\n",
    "    source_val_iterable=datasets.source.processed.val,\n",
    "    target_val_iterable=datasets.target.processed.val,\n",
    "    num_epochs=p.n_epoch,\n",
    "    num_logs_per_epoch=p.NUM_LOGS_PER_EPOCH,\n",
    "    patience=p.patience,\n",
    "    optimizer=optimizer,\n",
    "    criteria_for_best=p.criteria_for_best,\n",
    ")"
   ]
  },
  {
   "cell_type": "code",
   "execution_count": 14,
   "id": "31e8fabf",
   "metadata": {
    "execution": {
     "iopub.execute_input": "2022-04-01T23:45:11.005912Z",
     "iopub.status.busy": "2022-04-01T23:45:11.005659Z",
     "iopub.status.idle": "2022-04-01T23:45:11.023923Z",
     "shell.execute_reply": "2022-04-01T23:45:11.023552Z"
    },
    "papermill": {
     "duration": 0.081446,
     "end_time": "2022-04-01T23:45:11.024015",
     "exception": false,
     "start_time": "2022-04-01T23:45:10.942569",
     "status": "completed"
    },
    "tags": []
   },
   "outputs": [],
   "source": [
    "total_experiment_time_secs = time.time() - start_time_secs"
   ]
  },
  {
   "cell_type": "code",
   "execution_count": 15,
   "id": "87b9595b",
   "metadata": {
    "execution": {
     "iopub.execute_input": "2022-04-01T23:45:11.153076Z",
     "iopub.status.busy": "2022-04-01T23:45:11.148764Z",
     "iopub.status.idle": "2022-04-01T23:45:59.573669Z",
     "shell.execute_reply": "2022-04-01T23:45:59.574064Z"
    },
    "papermill": {
     "duration": 48.486148,
     "end_time": "2022-04-01T23:45:59.574196",
     "exception": false,
     "start_time": "2022-04-01T23:45:11.088048",
     "status": "completed"
    },
    "tags": []
   },
   "outputs": [],
   "source": [
    "###################################\n",
    "# Evaluate the model\n",
    "###################################\n",
    "source_test_label_accuracy, source_test_label_loss = jig.test(datasets.source.processed.test)\n",
    "target_test_label_accuracy, target_test_label_loss = jig.test(datasets.target.processed.test)\n",
    "\n",
    "source_val_label_accuracy, source_val_label_loss = jig.test(datasets.source.processed.val)\n",
    "target_val_label_accuracy, target_val_label_loss = jig.test(datasets.target.processed.val)\n",
    "\n",
    "history = jig.get_history()\n",
    "\n",
    "total_epochs_trained = len(history[\"epoch_indices\"])\n",
    "\n",
    "val_dl = Iterable_Aggregator((datasets.source.original.val,datasets.target.original.val))\n",
    "\n",
    "confusion = ptn_confusion_by_domain_over_dataloader(model, p.device, val_dl)\n",
    "per_domain_accuracy = per_domain_accuracy_from_confusion(confusion)\n",
    "\n",
    "# Add a key to per_domain_accuracy for if it was a source domain\n",
    "for domain, accuracy in per_domain_accuracy.items():\n",
    "    per_domain_accuracy[domain] = {\n",
    "        \"accuracy\": accuracy,\n",
    "        \"source?\": domain in p.domains_source\n",
    "    }\n",
    "\n",
    "# Do an independent accuracy assesment JUST TO BE SURE!\n",
    "# _source_test_label_accuracy = independent_accuracy_assesment(model, datasets.source.processed.test, p.device)\n",
    "# _target_test_label_accuracy = independent_accuracy_assesment(model, datasets.target.processed.test, p.device)\n",
    "# _source_val_label_accuracy = independent_accuracy_assesment(model, datasets.source.processed.val, p.device)\n",
    "# _target_val_label_accuracy = independent_accuracy_assesment(model, datasets.target.processed.val, p.device)\n",
    "\n",
    "# assert(_source_test_label_accuracy == source_test_label_accuracy)\n",
    "# assert(_target_test_label_accuracy == target_test_label_accuracy)\n",
    "# assert(_source_val_label_accuracy == source_val_label_accuracy)\n",
    "# assert(_target_val_label_accuracy == target_val_label_accuracy)\n",
    "\n",
    "experiment = {\n",
    "    \"experiment_name\": p.experiment_name,\n",
    "    \"parameters\": dict(p),\n",
    "    \"results\": {\n",
    "        \"source_test_label_accuracy\": source_test_label_accuracy,\n",
    "        \"source_test_label_loss\": source_test_label_loss,\n",
    "        \"target_test_label_accuracy\": target_test_label_accuracy,\n",
    "        \"target_test_label_loss\": target_test_label_loss,\n",
    "        \"source_val_label_accuracy\": source_val_label_accuracy,\n",
    "        \"source_val_label_loss\": source_val_label_loss,\n",
    "        \"target_val_label_accuracy\": target_val_label_accuracy,\n",
    "        \"target_val_label_loss\": target_val_label_loss,\n",
    "        \"total_epochs_trained\": total_epochs_trained,\n",
    "        \"total_experiment_time_secs\": total_experiment_time_secs,\n",
    "        \"confusion\": confusion,\n",
    "        \"per_domain_accuracy\": per_domain_accuracy,\n",
    "    },\n",
    "    \"history\": history,\n",
    "    \"dataset_metrics\": get_dataset_metrics(datasets, \"ptn\"),\n",
    "}"
   ]
  },
  {
   "cell_type": "code",
   "execution_count": 16,
   "id": "54a21829",
   "metadata": {
    "execution": {
     "iopub.execute_input": "2022-04-01T23:45:59.700662Z",
     "iopub.status.busy": "2022-04-01T23:45:59.700403Z",
     "iopub.status.idle": "2022-04-01T23:45:59.827201Z",
     "shell.execute_reply": "2022-04-01T23:45:59.826791Z"
    },
    "papermill": {
     "duration": 0.189995,
     "end_time": "2022-04-01T23:45:59.827291",
     "exception": false,
     "start_time": "2022-04-01T23:45:59.637296",
     "status": "completed"
    },
    "tags": []
   },
   "outputs": [
    {
     "data": {
      "image/png": "[encoded data removed]",
      "text/plain": [
       "<Figure size 1080x504 with 1 Axes>"
      ]
     },
     "metadata": {
      "needs_background": "light"
     },
     "output_type": "display_data"
    }
   ],
   "source": [
    "ax = get_loss_curve(experiment)\n",
    "plt.show()"
   ]
  },
  {
   "cell_type": "code",
   "execution_count": 17,
   "id": "fd8a0f60",
   "metadata": {
    "execution": {
     "iopub.execute_input": "2022-04-01T23:45:59.957373Z",
     "iopub.status.busy": "2022-04-01T23:45:59.957126Z",
     "iopub.status.idle": "2022-04-01T23:46:00.103524Z",
     "shell.execute_reply": "2022-04-01T23:46:00.103809Z"
    },
    "papermill": {
     "duration": 0.210993,
     "end_time": "2022-04-01T23:46:00.103890",
     "exception": false,
     "start_time": "2022-04-01T23:45:59.892897",
     "status": "completed"
    },
    "tags": []
   },
   "outputs": [
    {
     "data": {
      "text/plain": [
       "<AxesSubplot:title={'center':'Results'}>"
      ]
     },
     "execution_count": 17,
     "metadata": {},
     "output_type": "execute_result"
    },
    {
     "data": {
      "image/png": "[encoded data removed]",
      "text/plain": [
       "<Figure size 1080x504 with 1 Axes>"
      ]
     },
     "metadata": {
      "needs_background": "light"
     },
     "output_type": "display_data"
    }
   ],
   "source": [
    "get_results_table(experiment)"
   ]
  },
  {
   "cell_type": "code",
   "execution_count": 18,
   "id": "cf8dc689",
   "metadata": {
    "execution": {
     "iopub.execute_input": "2022-04-01T23:46:00.237981Z",
     "iopub.status.busy": "2022-04-01T23:46:00.237728Z",
     "iopub.status.idle": "2022-04-01T23:46:00.357613Z",
     "shell.execute_reply": "2022-04-01T23:46:00.357361Z"
    },
    "papermill": {
     "duration": 0.184093,
     "end_time": "2022-04-01T23:46:00.357664",
     "exception": false,
     "start_time": "2022-04-01T23:46:00.173571",
     "status": "completed"
    },
    "tags": []
   },
   "outputs": [
    {
     "data": {
      "text/plain": [
       "<AxesSubplot:title={'center':'Per Domain Validation Accuracy'}, xlabel='domain'>"
      ]
     },
     "execution_count": 18,
     "metadata": {},
     "output_type": "execute_result"
    },
    {
     "data": {
      "image/png": "[encoded data removed]",
      "text/plain": [
       "<Figure size 1080x504 with 1 Axes>"
      ]
     },
     "metadata": {
      "needs_background": "light"
     },
     "output_type": "display_data"
    }
   ],
   "source": [
    "get_domain_accuracies(experiment)"
   ]
  },
  {
   "cell_type": "code",
   "execution_count": 19,
   "id": "a74ae082",
   "metadata": {
    "execution": {
     "iopub.execute_input": "2022-04-01T23:46:00.486589Z",
     "iopub.status.busy": "2022-04-01T23:46:00.486337Z",
     "iopub.status.idle": "2022-04-01T23:46:00.503289Z",
     "shell.execute_reply": "2022-04-01T23:46:00.502840Z"
    },
    "papermill": {
     "duration": 0.082549,
     "end_time": "2022-04-01T23:46:00.503378",
     "exception": false,
     "start_time": "2022-04-01T23:46:00.420829",
     "status": "completed"
    },
    "tags": []
   },
   "outputs": [
    {
     "name": "stdout",
     "output_type": "stream",
     "text": [
      "Source Test Label Accuracy: 0.5798611111111112 Target Test Label Accuracy: 0.49859375\n",
      "Source Val Label Accuracy: 0.5783854166666667 Target Val Label Accuracy: 0.49994791666666666\n"
     ]
    }
   ],
   "source": [
    "print(\"Source Test Label Accuracy:\", experiment[\"results\"][\"source_test_label_accuracy\"], \"Target Test Label Accuracy:\", experiment[\"results\"][\"target_test_label_accuracy\"])\n",
    "print(\"Source Val Label Accuracy:\", experiment[\"results\"][\"source_val_label_accuracy\"], \"Target Val Label Accuracy:\", experiment[\"results\"][\"target_val_label_accuracy\"])"
   ]
  },
  {
   "cell_type": "code",
   "execution_count": 20,
   "id": "dacca602",
   "metadata": {
    "execution": {
     "iopub.execute_input": "2022-04-01T23:46:00.639047Z",
     "iopub.status.busy": "2022-04-01T23:46:00.638778Z",
     "iopub.status.idle": "2022-04-01T23:46:00.654733Z",
     "shell.execute_reply": "2022-04-01T23:46:00.654281Z"
    },
    "papermill": {
     "duration": 0.082244,
     "end_time": "2022-04-01T23:46:00.654844",
     "exception": false,
     "start_time": "2022-04-01T23:46:00.572600",
     "status": "completed"
    },
    "tags": [
     "experiment_json"
    ]
   },
   "outputs": [
    {
     "data": {
      "text/plain": [
       "'{\"experiment_name\": \"tuned_1v2:oracle.run1_limited\", \"parameters\": {\"experiment_name\": \"tuned_1v2:oracle.run1_limited\", \"device\": \"cuda\", \"lr\": 0.0001, \"labels_source\": [\"3123D52\", \"3123D65\", \"3123D79\", \"3123D80\", \"3123D54\", \"3123D70\", \"3123D7B\", \"3123D89\", \"3123D58\", \"3123D76\", \"3123D7D\", \"3123EFE\", \"3123D64\", \"3123D78\", \"3123D7E\", \"3124E4A\"], \"labels_target\": [\"3123D52\", \"3123D65\", \"3123D79\", \"3123D80\", \"3123D54\", \"3123D70\", \"3123D7B\", \"3123D89\", \"3123D58\", \"3123D76\", \"3123D7D\", \"3123EFE\", \"3123D64\", \"3123D78\", \"3123D7E\", \"3124E4A\"], \"episode_transforms_source\": [], \"episode_transforms_target\": [], \"domains_source\": [8, 32, 50], \"domains_target\": [14, 20, 26, 38, 44], \"num_examples_per_domain_per_label_source\": 2000, \"num_examples_per_domain_per_label_target\": 2000, \"n_shot\": 3, \"n_way\": 16, \"n_query\": 2, \"train_k_factor\": 3, \"val_k_factor\": 2, \"test_k_factor\": 2, \"torch_default_dtype\": \"torch.float32\", \"n_epoch\": 50, \"patience\": 3, \"criteria_for_best\": \"target_accuracy\", \"x_net\": [{\"class\": \"nnReshape\", \"kargs\": {\"shape\": [-1, 1, 2, 256]}}, {\"class\": \"Conv2d\", \"kargs\": {\"in_channels\": 1, \"out_channels\": 256, \"kernel_size\": [1, 7], \"bias\": false, \"padding\": [0, 3]}}, {\"class\": \"ReLU\", \"kargs\": {\"inplace\": true}}, {\"class\": \"BatchNorm2d\", \"kargs\": {\"num_features\": 256}}, {\"class\": \"Conv2d\", \"kargs\": {\"in_channels\": 256, \"out_channels\": 80, \"kernel_size\": [2, 7], \"bias\": true, \"padding\": [0, 3]}}, {\"class\": \"ReLU\", \"kargs\": {\"inplace\": true}}, {\"class\": \"BatchNorm2d\", \"kargs\": {\"num_features\": 80}}, {\"class\": \"Flatten\", \"kargs\": {}}, {\"class\": \"Linear\", \"kargs\": {\"in_features\": 20480, \"out_features\": 256}}, {\"class\": \"ReLU\", \"kargs\": {\"inplace\": true}}, {\"class\": \"BatchNorm1d\", \"kargs\": {\"num_features\": 256}}, {\"class\": \"Linear\", \"kargs\": {\"in_features\": 256, \"out_features\": 256}}], \"NUM_LOGS_PER_EPOCH\": 10, \"BEST_MODEL_PATH\": \"./best_model.pth\", \"pickle_name\": \"oracle.Run1_10kExamples_stratified_ds.2022A.pkl\", \"x_transforms_source\": [\"unit_power\"], \"x_transforms_target\": [\"unit_power\"], \"dataset_seed\": 154325, \"seed\": 154325}, \"results\": {\"source_test_label_accuracy\": 0.5798611111111112, \"source_test_label_loss\": 2.1325008869171143, \"target_test_label_accuracy\": 0.49859375, \"target_test_label_loss\": 2.4793996810913086, \"source_val_label_accuracy\": 0.5783854166666667, \"source_val_label_loss\": 2.1744284629821777, \"target_val_label_accuracy\": 0.49994791666666666, \"target_val_label_loss\": 2.513313055038452, \"total_epochs_trained\": 25, \"total_experiment_time_secs\": 1808.0109169483185, \"confusion\": {\"32\": {\"13\": {\"7\": 23, \"8\": 33, \"5\": 44, \"4\": 10, \"11\": 24, \"3\": 18, \"13\": 62, \"14\": 16, \"0\": 10}, \"9\": {\"9\": 237, \"12\": 2, \"0\": 1}, \"15\": {\"15\": 232, \"8\": 5, \"3\": 3}, \"2\": {\"4\": 40, \"2\": 172, \"0\": 15, \"7\": 9, \"5\": 1, \"14\": 3}, \"3\": {\"3\": 200, \"11\": 19, \"8\": 7, \"13\": 9, \"5\": 4, \"15\": 1}, \"8\": {\"8\": 139, \"13\": 36, \"5\": 30, \"15\": 2, \"0\": 17, \"3\": 4, \"4\": 9, \"7\": 3}, \"5\": {\"5\": 50, \"4\": 25, \"13\": 40, \"2\": 4, \"7\": 32, \"14\": 20, \"0\": 23, \"11\": 8, \"8\": 22, \"3\": 16}, \"14\": {\"7\": 70, \"14\": 54, \"11\": 61, \"13\": 21, \"5\": 11, \"4\": 15, \"2\": 2, \"3\": 3, \"0\": 2, \"8\": 1}, \"1\": {\"10\": 5, \"1\": 235}, \"0\": {\"13\": 12, \"0\": 87, \"14\": 4, \"2\": 34, \"4\": 55, \"5\": 16, \"8\": 20, \"7\": 12}, \"10\": {\"10\": 237, \"1\": 3}, \"6\": {\"6\": 239, \"10\": 1}, \"11\": {\"14\": 44, \"11\": 143, \"7\": 19, \"5\": 9, \"3\": 8, \"13\": 16, \"8\": 1}, \"7\": {\"4\": 36, \"13\": 26, \"7\": 73, \"14\": 58, \"11\": 12, \"5\": 21, \"0\": 10, \"8\": 2, \"2\": 2}, \"4\": {\"0\": 59, \"4\": 77, \"2\": 42, \"5\": 17, \"7\": 21, \"8\": 9, \"14\": 12, \"13\": 3}, \"12\": {\"12\": 240}}, \"50\": {\"10\": {\"10\": 186, \"8\": 5, \"0\": 18, \"7\": 20, \"5\": 2, \"13\": 7, \"2\": 2}, \"12\": {\"12\": 197, \"9\": 27, \"11\": 7, \"14\": 9}, \"1\": {\"1\": 91, \"15\": 58, \"6\": 45, \"4\": 38, \"2\": 1, \"14\": 4, \"5\": 2, \"11\": 1}, \"0\": {\"0\": 170, \"2\": 41, \"10\": 20, \"6\": 2, \"13\": 5, \"7\": 1, \"5\": 1}, \"15\": {\"15\": 140, \"1\": 47, \"4\": 26, \"6\": 4, \"14\": 5, \"11\": 18}, \"13\": {\"6\": 23, \"10\": 8, \"13\": 89, \"5\": 60, \"7\": 53, \"0\": 5, \"4\": 1, \"2\": 1}, \"8\": {\"8\": 226, \"10\": 11, \"3\": 3}, \"3\": {\"3\": 233, \"8\": 7}, \"11\": {\"11\": 166, \"12\": 9, \"9\": 37, \"15\": 9, \"14\": 19}, \"4\": {\"1\": 41, \"6\": 48, \"15\": 61, \"5\": 15, \"4\": 61, \"13\": 8, \"7\": 6}, \"6\": {\"6\": 121, \"4\": 37, \"5\": 30, \"1\": 30, \"13\": 15, \"7\": 3, \"2\": 3, \"15\": 1}, \"7\": {\"13\": 60, \"5\": 40, \"7\": 109, \"10\": 26, \"0\": 2, \"6\": 2, \"4\": 1}, \"14\": {\"14\": 214, \"12\": 13, \"11\": 9, \"9\": 1, \"1\": 3}, \"2\": {\"2\": 196, \"0\": 35, \"6\": 4, \"13\": 3, \"1\": 2}, \"5\": {\"5\": 57, \"13\": 58, \"7\": 50, \"6\": 43, \"1\": 4, \"10\": 5, \"4\": 16, \"2\": 4, \"0\": 3}, \"9\": {\"11\": 40, \"9\": 149, \"12\": 49, \"14\": 2}}, \"8\": {\"14\": {\"1\": 25, \"4\": 48, \"14\": 53, \"0\": 14, \"13\": 28, \"10\": 47, \"11\": 12, \"7\": 4, \"6\": 9}, \"10\": {\"10\": 71, \"14\": 47, \"1\": 24, \"11\": 15, \"5\": 27, \"13\": 32, \"4\": 13, \"0\": 10, \"6\": 1}, \"2\": {\"2\": 141, \"3\": 49, \"15\": 23, \"12\": 18, \"7\": 8, \"6\": 1}, \"8\": {\"8\": 166, \"6\": 18, \"15\": 30, \"7\": 19, \"4\": 2, \"12\": 2, \"14\": 1, \"0\": 2}, \"6\": {\"6\": 73, \"0\": 29, \"4\": 33, \"7\": 55, \"13\": 21, \"1\": 1, \"8\": 20, \"14\": 6, \"10\": 1, \"2\": 1}, \"7\": {\"6\": 45, \"7\": 127, \"13\": 9, \"15\": 7, \"0\": 20, \"4\": 5, \"8\": 20, \"2\": 6, \"12\": 1}, \"9\": {\"9\": 240}, \"11\": {\"11\": 103, \"6\": 1, \"14\": 13, \"5\": 14, \"1\": 73, \"13\": 8, \"8\": 3, \"4\": 7, \"10\": 18}, \"12\": {\"12\": 85, \"3\": 69, \"2\": 18, \"8\": 4, \"15\": 60, \"7\": 4}, \"13\": {\"0\": 57, \"7\": 4, \"10\": 35, \"14\": 28, \"4\": 37, \"13\": 46, \"11\": 4, \"6\": 24, \"8\": 2, \"5\": 1, \"1\": 2}, \"0\": {\"0\": 90, \"7\": 32, \"6\": 33, \"13\": 39, \"14\": 9, \"4\": 27, \"10\": 8, \"8\": 2}, \"3\": {\"3\": 141, \"2\": 46, \"12\": 49, \"15\": 4}, \"4\": {\"4\": 57, \"0\": 41, \"13\": 37, \"14\": 42, \"1\": 7, \"10\": 18, \"6\": 27, \"11\": 5, \"7\": 4, \"8\": 2}, \"15\": {\"12\": 63, \"15\": 121, \"2\": 24, \"8\": 20, \"7\": 3, \"3\": 9}, \"5\": {\"1\": 15, \"5\": 182, \"10\": 34, \"11\": 7, \"14\": 2}, \"1\": {\"1\": 85, \"11\": 76, \"14\": 26, \"4\": 5, \"10\": 24, \"5\": 21, \"13\": 1, \"6\": 1, \"0\": 1}}, \"44\": {\"13\": {\"13\": 132, \"6\": 44, \"9\": 36, \"11\": 22, \"7\": 4, \"4\": 2}, \"9\": {\"6\": 33, \"7\": 46, \"9\": 102, \"13\": 39, \"2\": 14, \"4\": 1, \"3\": 3, \"11\": 2}, \"15\": {\"14\": 31, \"0\": 15, \"15\": 175, \"8\": 6, \"5\": 11, \"4\": 2}, \"2\": {\"7\": 37, \"12\": 3, \"2\": 131, \"10\": 36, \"1\": 25, \"9\": 2, \"6\": 3, \"3\": 3}, \"3\": {\"3\": 192, \"1\": 32, \"2\": 5, \"12\": 6, \"7\": 4, \"9\": 1}, \"8\": {\"0\": 83, \"8\": 139, \"5\": 7, \"15\": 11}, \"5\": {\"5\": 183, \"0\": 33, \"15\": 12, \"8\": 8, \"14\": 4}, \"14\": {\"5\": 4, \"14\": 131, \"15\": 26, \"4\": 78, \"0\": 1}, \"1\": {\"1\": 101, \"3\": 46, \"12\": 58, \"2\": 18, \"10\": 15, \"7\": 2}, \"0\": {\"8\": 68, \"0\": 124, \"5\": 29, \"15\": 18, \"14\": 1}, \"10\": {\"10\": 139, \"12\": 38, \"2\": 27, \"1\": 35, \"7\": 1}, \"6\": {\"6\": 142, \"11\": 20, \"13\": 34, \"7\": 18, \"9\": 26}, \"11\": {\"13\": 30, \"11\": 182, \"6\": 27, \"9\": 1}, \"7\": {\"7\": 122, \"9\": 57, \"3\": 6, \"2\": 39, \"6\": 11, \"13\": 2, \"10\": 1, \"1\": 2}, \"4\": {\"4\": 142, \"14\": 92, \"15\": 5, \"5\": 1}, \"12\": {\"1\": 59, \"3\": 9, \"12\": 143, \"10\": 29}}, \"38\": {\"13\": {\"13\": 130, \"2\": 20, \"15\": 55, \"5\": 2, \"10\": 21, \"14\": 1, \"1\": 9, \"8\": 2}, \"12\": {\"12\": 193, \"10\": 30, \"0\": 1, \"4\": 16}, \"2\": {\"2\": 202, \"13\": 10, \"11\": 2, \"14\": 23, \"10\": 1, \"15\": 2}, \"9\": {\"9\": 127, \"6\": 82, \"3\": 23, \"5\": 8}, \"15\": {\"15\": 111, \"13\": 68, \"10\": 7, \"1\": 38, \"8\": 12, \"5\": 2, \"0\": 2}, \"5\": {\"5\": 82, \"8\": 63, \"0\": 33, \"6\": 14, \"7\": 13, \"3\": 6, \"9\": 7, \"10\": 6, \"1\": 11, \"15\": 5}, \"14\": {\"14\": 142, \"11\": 68, \"10\": 4, \"2\": 24, \"13\": 2}, \"0\": {\"6\": 10, \"0\": 51, \"7\": 62, \"15\": 4, \"5\": 37, \"8\": 54, \"3\": 14, \"10\": 2, \"9\": 4, \"1\": 1, \"13\": 1}, \"3\": {\"3\": 175, \"9\": 37, \"6\": 13, \"7\": 9, \"0\": 5, \"5\": 1}, \"1\": {\"1\": 196, \"15\": 32, \"5\": 3, \"13\": 7, \"8\": 2}, \"11\": {\"11\": 137, \"10\": 5, \"14\": 84, \"12\": 4, \"2\": 10}, \"7\": {\"7\": 153, \"0\": 46, \"5\": 20, \"3\": 7, \"8\": 11, \"9\": 1, \"6\": 1, \"10\": 1}, \"8\": {\"8\": 133, \"13\": 3, \"5\": 37, \"10\": 8, \"0\": 34, \"1\": 5, \"15\": 11, \"6\": 1, \"12\": 1, \"7\": 7}, \"4\": {\"12\": 31, \"4\": 207, \"0\": 2}, \"10\": {\"15\": 15, \"10\": 128, \"13\": 26, \"12\": 35, \"14\": 8, \"8\": 18, \"5\": 3, \"0\": 4, \"4\": 1, \"11\": 2}, \"6\": {\"5\": 14, \"6\": 156, \"9\": 60, \"0\": 3, \"7\": 2, \"3\": 4, \"8\": 1}}, \"26\": {\"10\": {\"0\": 37, \"7\": 6, \"10\": 52, \"13\": 1, \"9\": 18, \"6\": 26, \"8\": 34, \"5\": 3, \"15\": 6, \"4\": 20, \"14\": 23, \"1\": 12, \"2\": 1, \"3\": 1}, \"12\": {\"12\": 225, \"11\": 15}, \"1\": {\"0\": 25, \"1\": 73, \"14\": 49, \"10\": 15, \"4\": 39, \"9\": 3, \"7\": 17, \"3\": 6, \"8\": 5, \"6\": 5, \"15\": 1, \"2\": 2}, \"0\": {\"8\": 25, \"14\": 30, \"10\": 42, \"1\": 27, \"4\": 29, \"0\": 36, \"3\": 4, \"7\": 16, \"6\": 14, \"15\": 3, \"13\": 1, \"9\": 8, \"5\": 3, \"2\": 2}, \"15\": {\"13\": 30, \"5\": 44, \"7\": 12, \"8\": 22, \"9\": 43, \"2\": 15, \"15\": 45, \"14\": 1, \"6\": 9, \"10\": 7, \"1\": 3, \"0\": 4, \"3\": 4, \"4\": 1}, \"13\": {\"6\": 41, \"2\": 5, \"13\": 99, \"15\": 23, \"9\": 19, \"3\": 4, \"5\": 41, \"8\": 5, \"10\": 1, \"7\": 2}, \"8\": {\"15\": 31, \"7\": 22, \"13\": 4, \"14\": 18, \"8\": 30, \"9\": 28, \"5\": 17, \"10\": 34, \"2\": 6, \"3\": 5, \"0\": 15, \"1\": 2, \"4\": 17, \"6\": 11}, \"3\": {\"7\": 43, \"14\": 2, \"3\": 122, \"2\": 60, \"8\": 1, \"13\": 1, \"5\": 3, \"4\": 6, \"1\": 2}, \"11\": {\"11\": 218, \"12\": 22}, \"4\": {\"8\": 22, \"10\": 15, \"4\": 42, \"0\": 29, \"14\": 41, \"7\": 25, \"6\": 3, \"1\": 38, \"15\": 7, \"5\": 5, \"2\": 8, \"3\": 3, \"9\": 2}, \"6\": {\"9\": 42, \"13\": 22, \"6\": 122, \"10\": 18, \"14\": 3, \"15\": 14, \"8\": 5, \"0\": 8, \"1\": 2, \"5\": 4}, \"7\": {\"2\": 48, \"7\": 62, \"8\": 21, \"14\": 6, \"3\": 41, \"1\": 12, \"4\": 17, \"15\": 12, \"10\": 5, \"5\": 4, \"0\": 8, \"9\": 4}, \"14\": {\"1\": 48, \"0\": 37, \"10\": 17, \"14\": 50, \"4\": 39, \"7\": 16, \"3\": 1, \"15\": 7, \"8\": 16, \"9\": 4, \"2\": 2, \"6\": 2, \"13\": 1}, \"2\": {\"2\": 71, \"7\": 35, \"5\": 17, \"3\": 70, \"4\": 8, \"8\": 15, \"15\": 11, \"10\": 1, \"1\": 3, \"9\": 4, \"13\": 2, \"6\": 1, \"0\": 2}, \"5\": {\"6\": 7, \"5\": 68, \"15\": 48, \"4\": 3, \"9\": 26, \"13\": 46, \"10\": 3, \"2\": 20, \"14\": 1, \"0\": 3, \"3\": 5, \"8\": 5, \"7\": 5}, \"9\": {\"6\": 37, \"5\": 22, \"10\": 25, \"8\": 32, \"9\": 40, \"15\": 42, \"13\": 28, \"0\": 5, \"14\": 1, \"2\": 5, \"7\": 1, \"4\": 2}}, \"20\": {\"5\": {\"5\": 46, \"1\": 35, \"0\": 43, \"4\": 12, \"12\": 31, \"3\": 14, \"9\": 10, \"15\": 38, \"13\": 5, \"2\": 3, \"7\": 1, \"8\": 2}, \"15\": {\"1\": 50, \"5\": 33, \"15\": 74, \"13\": 18, \"2\": 2, \"12\": 15, \"0\": 40, \"3\": 1, \"9\": 6, \"7\": 1}, \"9\": {\"0\": 4, \"12\": 27, \"3\": 24, \"9\": 47, \"7\": 29, \"13\": 16, \"2\": 43, \"5\": 4, \"4\": 14, \"1\": 8, \"8\": 17, \"15\": 4, \"10\": 3}, \"7\": {\"7\": 67, \"4\": 10, \"9\": 23, \"8\": 46, \"2\": 40, \"10\": 9, \"12\": 5, \"3\": 11, \"14\": 9, \"6\": 12, \"13\": 8}, \"3\": {\"2\": 36, \"1\": 6, \"12\": 35, \"9\": 39, \"4\": 31, \"0\": 8, \"13\": 7, \"7\": 16, \"3\": 29, \"5\": 14, \"10\": 3, \"8\": 10, \"15\": 5, \"14\": 1}, \"8\": {\"7\": 44, \"8\": 58, \"9\": 10, \"4\": 42, \"10\": 40, \"14\": 9, \"13\": 2, \"3\": 10, \"2\": 11, \"5\": 1, \"6\": 9, \"12\": 4}, \"4\": {\"3\": 23, \"8\": 30, \"0\": 2, \"4\": 113, \"10\": 14, \"14\": 3, \"7\": 10, \"2\": 8, \"5\": 6, \"1\": 3, \"9\": 17, \"12\": 10, \"13\": 1}, \"6\": {\"11\": 20, \"7\": 13, \"6\": 141, \"14\": 54, \"2\": 1, \"8\": 5, \"10\": 6}, \"2\": {\"13\": 41, \"2\": 57, \"7\": 32, \"9\": 32, \"12\": 10, \"4\": 10, \"8\": 21, \"3\": 25, \"10\": 1, \"11\": 3, \"1\": 1, \"0\": 3, \"14\": 1, \"15\": 3}, \"12\": {\"3\": 30, \"2\": 12, \"4\": 11, \"9\": 19, \"0\": 19, \"1\": 31, \"5\": 32, \"13\": 17, \"12\": 50, \"15\": 10, \"8\": 4, \"7\": 5}, \"0\": {\"1\": 36, \"0\": 54, \"5\": 50, \"12\": 23, \"15\": 45, \"9\": 10, \"13\": 8, \"4\": 5, \"2\": 5, \"3\": 3, \"7\": 1}, \"13\": {\"13\": 130, \"12\": 13, \"2\": 34, \"3\": 9, \"1\": 8, \"15\": 9, \"9\": 15, \"8\": 2, \"0\": 6, \"7\": 10, \"5\": 4}, \"10\": {\"10\": 116, \"7\": 8, \"8\": 31, \"14\": 58, \"6\": 11, \"4\": 12, \"3\": 2, \"2\": 2}, \"11\": {\"11\": 215, \"7\": 2, \"6\": 20, \"13\": 1, \"2\": 1, \"14\": 1}, \"14\": {\"14\": 124, \"6\": 57, \"7\": 9, \"8\": 10, \"10\": 38, \"3\": 1, \"11\": 1}, \"1\": {\"0\": 36, \"5\": 41, \"12\": 39, \"4\": 2, \"1\": 50, \"15\": 43, \"13\": 14, \"9\": 7, \"3\": 4, \"2\": 4}}, \"14\": {\"13\": {\"13\": 60, \"6\": 76, \"14\": 51, \"2\": 31, \"3\": 5, \"5\": 10, \"10\": 2, \"4\": 2, \"15\": 2, \"7\": 1}, \"4\": {\"4\": 86, \"2\": 30, \"3\": 34, \"5\": 36, \"6\": 5, \"14\": 16, \"1\": 28, \"13\": 4, \"0\": 1}, \"6\": {\"13\": 73, \"6\": 97, \"2\": 22, \"3\": 4, \"14\": 29, \"4\": 8, \"5\": 7}, \"0\": {\"10\": 71, \"0\": 139, \"14\": 2, \"8\": 8, \"11\": 13, \"3\": 7}, \"10\": {\"0\": 66, \"10\": 155, \"11\": 10, \"3\": 6, \"13\": 1, \"14\": 2}, \"7\": {\"15\": 42, \"7\": 188, \"5\": 6, \"1\": 4}, \"14\": {\"14\": 110, \"2\": 16, \"13\": 35, \"4\": 10, \"3\": 35, \"10\": 3, \"6\": 26, \"0\": 3, \"5\": 2}, \"15\": {\"7\": 57, \"15\": 181, \"2\": 2}, \"5\": {\"7\": 11, \"1\": 63, \"4\": 35, \"5\": 74, \"2\": 37, \"13\": 2, \"3\": 12, \"15\": 2, \"14\": 3, \"6\": 1}, \"2\": {\"3\": 17, \"6\": 28, \"14\": 30, \"5\": 42, \"4\": 21, \"2\": 51, \"13\": 25, \"1\": 16, \"15\": 8, \"7\": 2}, \"9\": {\"9\": 215, \"11\": 21, \"12\": 3, \"0\": 1}, \"12\": {\"12\": 230, \"9\": 10}, \"8\": {\"8\": 233, \"0\": 4, \"3\": 1, \"5\": 1, \"1\": 1}, \"3\": {\"4\": 42, \"3\": 144, \"0\": 4, \"5\": 6, \"14\": 21, \"2\": 9, \"8\": 3, \"10\": 2, \"1\": 6, \"6\": 1, \"13\": 2}, \"1\": {\"1\": 150, \"5\": 60, \"4\": 20, \"2\": 2, \"7\": 3, \"3\": 4, \"13\": 1}, \"11\": {\"11\": 157, \"10\": 27, \"0\": 24, \"9\": 32}}}, \"per_domain_accuracy\": {\"32\": {\"accuracy\": 0.6450520833333333, \"source?\": true}, \"50\": {\"accuracy\": 0.6263020833333334, \"source?\": true}, \"8\": {\"accuracy\": 0.46380208333333334, \"source?\": true}, \"44\": {\"accuracy\": 0.59375, \"source?\": false}, \"38\": {\"accuracy\": 0.6049479166666667, \"source?\": false}, \"26\": {\"accuracy\": 0.3528645833333333, \"source?\": false}, \"20\": {\"accuracy\": 0.35703125, \"source?\": false}, \"14\": {\"accuracy\": 0.5911458333333334, \"source?\": false}}}, \"history\": {\"epoch_indices\": [1, 2, 3, 4, 5, 6, 7, 8, 9, 10, 11, 12, 13, 14, 15, 16, 17, 18, 19, 20, 21, 22, 23, 24, 25], \"train_label_loss\": [1.8338138723184192, 1.385568301426986, 1.251731268895997, 1.012816678188623, 0.7702884201078661, 0.6115661124831864, 0.47969190569091885, 0.3825169877415257, 0.3173243549818705, 0.2648874097396546, 0.2290154272011326, 0.20464365652490718, 0.18581772191622775, 0.16440595528508153, 0.1506982194524931, 0.14187776707537797, 0.1278576110453402, 0.12374676552754531, 0.11571250829222245, 0.10558000485953738, 0.10216005355182532, 0.09600122799115886, 0.09258766839503219, 0.08451167986258663, 0.08236570163063002], \"source_val_label_loss\": [1.547660231590271, 1.4503438472747803, 1.446359634399414, 1.2201690673828125, 1.249057412147522, 1.326470136642456, 1.3763877153396606, 1.4683036804199219, 1.5133050680160522, 1.6355923414230347, 1.7150347232818604, 1.811922550201416, 1.8529548645019531, 1.898654580116272, 1.920864224433899, 1.9633876085281372, 2.061584711074829, 2.0991199016571045, 2.1545073986053467, 2.1481146812438965, 2.1744284629821777, 2.1812617778778076, 2.231558084487915, 2.1999616622924805, 2.2877554893493652], \"target_val_label_loss\": [1.8765923976898193, 1.8136582374572754, 1.8074418306350708, 1.518909215927124, 1.5214593410491943, 1.5741164684295654, 1.6486151218414307, 1.762603998184204, 1.795861005783081, 1.9358376264572144, 1.9935559034347534, 2.114966630935669, 2.180689573287964, 2.209986925125122, 2.2662699222564697, 2.311053514480591, 2.4333837032318115, 2.4784600734710693, 2.5243778228759766, 2.500972032546997, 2.513313055038452, 2.4715981483459473, 2.5713207721710205, 2.5621893405914307, 2.6412346363067627], \"source_val_acc_label\": [0.3819444444444444, 0.42178819444444443, 0.4359375, 0.5480034722222222, 0.565625, 0.5743923611111111, 0.5803819444444445, 0.5856770833333333, 0.5909722222222222, 0.5868055555555556, 0.5832465277777777, 0.5850694444444444, 0.5856770833333333, 0.5798611111111112, 0.58515625, 0.584375, 0.5847222222222223, 0.5848090277777778, 0.5848958333333333, 0.578125, 0.5783854166666667, 0.58359375, 0.5836805555555555, 0.5830729166666667, 0.5827256944444444], \"target_val_acc_label\": [0.2711458333333333, 0.29963541666666665, 0.3078125, 0.44109375, 0.4596875, 0.48296875, 0.48703125, 0.4852604166666667, 0.48953125, 0.48484375, 0.48713541666666665, 0.48630208333333336, 0.49244791666666665, 0.49364583333333334, 0.49192708333333335, 0.491875, 0.49416666666666664, 0.48244791666666664, 0.4958854166666667, 0.4913020833333333, 0.49994791666666666, 0.495625, 0.4930729166666667, 0.4945833333333333, 0.49828125]}, \"dataset_metrics\": {\"source\": {\"train\": {\"n_unique_x\": 67200, \"n_unique_y\": 16, \"n_batch/episode\": 2520}, \"val\": {\"n_unique_x\": 14400, \"n_unique_y\": 16, \"n_batch/episode\": 360}, \"test\": {\"n_unique_x\": 14400, \"n_unique_y\": 16, \"n_batch/episode\": 360}}, \"target\": {\"train\": {\"n_unique_x\": 112000, \"n_unique_y\": 16, \"n_batch/episode\": 4200}, \"val\": {\"n_unique_x\": 24000, \"n_unique_y\": 16, \"n_batch/episode\": 600}, \"test\": {\"n_unique_x\": 24000, \"n_unique_y\": 16, \"n_batch/episode\": 600}}}}'"
      ]
     },
     "execution_count": 20,
     "metadata": {},
     "output_type": "execute_result"
    }
   ],
   "source": [
    "json.dumps(experiment)"
   ]
  }
 ],
 "metadata": {
  "celltoolbar": "Tags",
  "kernelspec": {
   "display_name": "Python 3 (ipykernel)",
   "language": "python",
   "name": "python3"
  },
  "language_info": {
   "codemirror_mode": {
    "name": "ipython",
    "version": 3
   },
   "file_extension": ".py",
   "mimetype": "text/x-python",
   "name": "python",
   "nbconvert_exporter": "python",
   "pygments_lexer": "ipython3",
   "version": "3.8.10"
  },
  "papermill": {
   "default_parameters": {},
   "duration": 1860.565213,
   "end_time": "2022-04-01T23:46:01.631531",
   "environment_variables": {},
   "exception": null,
   "input_path": "/mnt/wd500GB/CSC500/csc500-main/csc500-notebooks/templates/ptn_template.ipynb",
   "output_path": "trial.ipynb",
   "parameters": {
    "parameters": {
     "BEST_MODEL_PATH": "./best_model.pth",
     "NUM_LOGS_PER_EPOCH": 10,
     "criteria_for_best": "target_accuracy",
     "dataset_seed": 154325,
     "device": "cuda",
     "domains_source": [
      8,
      32,
      50
     ],
     "domains_target": [
      14,
      20,
      26,
      38,
      44
     ],
     "episode_transforms_source": [],
     "episode_transforms_target": [],
     "experiment_name": "tuned_1v2:oracle.run1_limited",
     "labels_source": [
      "3123D52",
      "3123D65",
      "3123D79",
      "3123D80",
      "3123D54",
      "3123D70",
      "3123D7B",
      "3123D89",
      "3123D58",
      "3123D76",
      "3123D7D",
      "3123EFE",
      "3123D64",
      "3123D78",
      "3123D7E",
      "3124E4A"
     ],
     "labels_target": [
      "3123D52",
      "3123D65",
      "3123D79",
      "3123D80",
      "3123D54",
      "3123D70",
      "3123D7B",
      "3123D89",
      "3123D58",
      "3123D76",
      "3123D7D",
      "3123EFE",
      "3123D64",
      "3123D78",
      "3123D7E",
      "3124E4A"
     ],
     "lr": 0.0001,
     "n_epoch": 50,
     "n_query": 2,
     "n_shot": 3,
     "n_way": 16,
     "num_examples_per_domain_per_label_source": 2000,
     "num_examples_per_domain_per_label_target": 2000,
     "patience": 3,
     "pickle_name": "oracle.Run1_10kExamples_stratified_ds.2022A.pkl",
     "seed": 154325,
     "test_k_factor": 2,
     "torch_default_dtype": "torch.float32",
     "train_k_factor": 3,
     "val_k_factor": 2,
     "x_net": [
      {
       "class": "nnReshape",
       "kargs": {
        "shape": [
         -1,
         1,
         2,
         256
        ]
       }
      },
      {
       "class": "Conv2d",
       "kargs": {
        "bias": false,
        "in_channels": 1,
        "kernel_size": [
         1,
         7
        ],
        "out_channels": 256,
        "padding": [
         0,
         3
        ]
       }
      },
      {
       "class": "ReLU",
       "kargs": {
        "inplace": true
       }
      },
      {
       "class": "BatchNorm2d",
       "kargs": {
        "num_features": 256
       }
      },
      {
       "class": "Conv2d",
       "kargs": {
        "bias": true,
        "in_channels": 256,
        "kernel_size": [
         2,
         7
        ],
        "out_channels": 80,
        "padding": [
         0,
         3
        ]
       }
      },
      {
       "class": "ReLU",
       "kargs": {
        "inplace": true
       }
      },
      {
       "class": "BatchNorm2d",
       "kargs": {
        "num_features": 80
       }
      },
      {
       "class": "Flatten",
       "kargs": {}
      },
      {
       "class": "Linear",
       "kargs": {
        "in_features": 20480,
        "out_features": 256
       }
      },
      {
       "class": "ReLU",
       "kargs": {
        "inplace": true
       }
      },
      {
       "class": "BatchNorm1d",
       "kargs": {
        "num_features": 256
       }
      },
      {
       "class": "Linear",
       "kargs": {
        "in_features": 256,
        "out_features": 256
       }
      }
     ],
     "x_transforms_source": [
      "unit_power"
     ],
     "x_transforms_target": [
      "unit_power"
     ]
    }
   },
   "start_time": "2022-04-01T23:15:01.066318",
   "version": "2.3.4"
  }
 },
 "nbformat": 4,
 "nbformat_minor": 5
}