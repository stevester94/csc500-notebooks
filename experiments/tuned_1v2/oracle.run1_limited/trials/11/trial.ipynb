{
 "cells": [
  {
   "cell_type": "markdown",
   "id": "9fea5f46",
   "metadata": {
    "papermill": {
     "duration": 0.024275,
     "end_time": "2022-03-26T08:56:41.761294",
     "exception": false,
     "start_time": "2022-03-26T08:56:41.737019",
     "status": "completed"
    },
    "tags": []
   },
   "source": [
    "# PTN Template\n",
    "This notebook serves as a template for single dataset PTN experiments  \n",
    "It can be run on its own by setting STANDALONE to True (do a find for \"STANDALONE\" to see where)  \n",
    "But it is intended to be executed as part of a *papermill.py script. See any of the   \n",
    "experimentes with a papermill script to get started with that workflow.  "
   ]
  },
  {
   "cell_type": "code",
   "execution_count": 1,
   "id": "0902182a",
   "metadata": {
    "execution": {
     "iopub.execute_input": "2022-03-26T08:56:41.816823Z",
     "iopub.status.busy": "2022-03-26T08:56:41.815970Z",
     "iopub.status.idle": "2022-03-26T08:56:43.933037Z",
     "shell.execute_reply": "2022-03-26T08:56:43.932579Z"
    },
    "papermill": {
     "duration": 2.149318,
     "end_time": "2022-03-26T08:56:43.933146",
     "exception": false,
     "start_time": "2022-03-26T08:56:41.783828",
     "status": "completed"
    },
    "tags": []
   },
   "outputs": [],
   "source": [
    "%load_ext autoreload\n",
    "%autoreload 2\n",
    "%matplotlib inline\n",
    "\n",
    "    \n",
    "import os, json, sys, time, random\n",
    "import numpy as np\n",
    "import torch\n",
    "from torch.optim import Adam\n",
    "from  easydict import EasyDict\n",
    "import matplotlib.pyplot as plt\n",
    "\n",
    "from steves_models.steves_ptn import Steves_Prototypical_Network\n",
    "\n",
    "from steves_utils.lazy_iterable_wrapper import Lazy_Iterable_Wrapper\n",
    "from steves_utils.iterable_aggregator import Iterable_Aggregator\n",
    "from steves_utils.ptn_train_eval_test_jig import  PTN_Train_Eval_Test_Jig\n",
    "from steves_utils.torch_sequential_builder import build_sequential\n",
    "from steves_utils.torch_utils import get_dataset_metrics, ptn_confusion_by_domain_over_dataloader\n",
    "from steves_utils.utils_v2 import (per_domain_accuracy_from_confusion, get_datasets_base_path)\n",
    "from steves_utils.PTN.utils import independent_accuracy_assesment\n",
    "\n",
    "from steves_utils.stratified_dataset.episodic_accessor import Episodic_Accessor_Factory\n",
    "\n",
    "from steves_utils.ptn_do_report import (\n",
    "    get_loss_curve,\n",
    "    get_results_table,\n",
    "    get_parameters_table,\n",
    "    get_domain_accuracies,\n",
    ")\n",
    "\n",
    "from steves_utils.transforms import get_chained_transform"
   ]
  },
  {
   "cell_type": "markdown",
   "id": "41c840b4",
   "metadata": {
    "papermill": {
     "duration": 0.013984,
     "end_time": "2022-03-26T08:56:43.961677",
     "exception": false,
     "start_time": "2022-03-26T08:56:43.947693",
     "status": "completed"
    },
    "tags": []
   },
   "source": [
    "# Required Parameters\n",
    "These are allowed parameters, not defaults\n",
    "Each of these values need to be present in the injected parameters (the notebook will raise an exception if they are not present)\n",
    "\n",
    "Papermill uses the cell tag \"parameters\" to inject the real parameters below this cell.\n",
    "Enable tags to see what I mean"
   ]
  },
  {
   "cell_type": "code",
   "execution_count": 2,
   "id": "fd44eb83",
   "metadata": {
    "execution": {
     "iopub.execute_input": "2022-03-26T08:56:43.993501Z",
     "iopub.status.busy": "2022-03-26T08:56:43.993121Z",
     "iopub.status.idle": "2022-03-26T08:56:44.012538Z",
     "shell.execute_reply": "2022-03-26T08:56:44.012840Z"
    },
    "papermill": {
     "duration": 0.037296,
     "end_time": "2022-03-26T08:56:44.012920",
     "exception": false,
     "start_time": "2022-03-26T08:56:43.975624",
     "status": "completed"
    },
    "tags": []
   },
   "outputs": [],
   "source": [
    "required_parameters = {\n",
    "    \"experiment_name\",\n",
    "    \"lr\",\n",
    "    \"device\",\n",
    "    \"seed\",\n",
    "    \"dataset_seed\",\n",
    "    \"labels_source\",\n",
    "    \"labels_target\",\n",
    "    \"domains_source\",\n",
    "    \"domains_target\",\n",
    "    \"num_examples_per_domain_per_label_source\",\n",
    "    \"num_examples_per_domain_per_label_target\",\n",
    "    \"n_shot\",\n",
    "    \"n_way\",\n",
    "    \"n_query\",\n",
    "    \"train_k_factor\",\n",
    "    \"val_k_factor\",\n",
    "    \"test_k_factor\",\n",
    "    \"n_epoch\",\n",
    "    \"patience\",\n",
    "    \"criteria_for_best\",\n",
    "    \"x_transforms_source\",\n",
    "    \"x_transforms_target\",\n",
    "    \"episode_transforms_source\",\n",
    "    \"episode_transforms_target\",\n",
    "    \"pickle_name\",\n",
    "    \"x_net\",\n",
    "    \"NUM_LOGS_PER_EPOCH\",\n",
    "    \"BEST_MODEL_PATH\",\n",
    "    \"torch_default_dtype\"\n",
    "}"
   ]
  },
  {
   "cell_type": "code",
   "execution_count": 3,
   "id": "fa3f0049",
   "metadata": {
    "execution": {
     "iopub.execute_input": "2022-03-26T08:56:44.050709Z",
     "iopub.status.busy": "2022-03-26T08:56:44.049846Z",
     "iopub.status.idle": "2022-03-26T08:56:44.070708Z",
     "shell.execute_reply": "2022-03-26T08:56:44.071008Z"
    },
    "papermill": {
     "duration": 0.044151,
     "end_time": "2022-03-26T08:56:44.071088",
     "exception": false,
     "start_time": "2022-03-26T08:56:44.026937",
     "status": "completed"
    },
    "tags": [
     "parameters"
    ]
   },
   "outputs": [],
   "source": [
    "\n",
    "\n",
    "standalone_parameters = {}\n",
    "standalone_parameters[\"experiment_name\"] = \"STANDALONE PTN\"\n",
    "standalone_parameters[\"lr\"] = 0.0001\n",
    "standalone_parameters[\"device\"] = \"cuda\"\n",
    "\n",
    "standalone_parameters[\"seed\"] = 1337\n",
    "standalone_parameters[\"dataset_seed\"] = 1337\n",
    "\n",
    "\n",
    "standalone_parameters[\"num_examples_per_domain_per_label_source\"]=100\n",
    "standalone_parameters[\"num_examples_per_domain_per_label_target\"]=100\n",
    "\n",
    "standalone_parameters[\"n_shot\"] = 3\n",
    "standalone_parameters[\"n_query\"]  = 2\n",
    "standalone_parameters[\"train_k_factor\"] = 1\n",
    "standalone_parameters[\"val_k_factor\"] = 2\n",
    "standalone_parameters[\"test_k_factor\"] = 2\n",
    "\n",
    "\n",
    "standalone_parameters[\"n_epoch\"] = 100\n",
    "\n",
    "standalone_parameters[\"patience\"] = 10\n",
    "standalone_parameters[\"criteria_for_best\"] = \"target_accuracy\"\n",
    "\n",
    "standalone_parameters[\"x_transforms_source\"] = [\"unit_power\"]\n",
    "standalone_parameters[\"x_transforms_target\"] = [\"unit_power\"]\n",
    "standalone_parameters[\"episode_transforms_source\"] = []\n",
    "standalone_parameters[\"episode_transforms_target\"] = []\n",
    "\n",
    "standalone_parameters[\"torch_default_dtype\"] = \"torch.float32\" \n",
    "\n",
    "\n",
    "\n",
    "standalone_parameters[\"x_net\"] =     [\n",
    "    {\"class\": \"nnReshape\", \"kargs\": {\"shape\":[-1, 1, 2, 256]}},\n",
    "    {\"class\": \"Conv2d\", \"kargs\": { \"in_channels\":1, \"out_channels\":256, \"kernel_size\":(1,7), \"bias\":False, \"padding\":(0,3), },},\n",
    "    {\"class\": \"ReLU\", \"kargs\": {\"inplace\": True}},\n",
    "    {\"class\": \"BatchNorm2d\", \"kargs\": {\"num_features\":256}},\n",
    "\n",
    "    {\"class\": \"Conv2d\", \"kargs\": { \"in_channels\":256, \"out_channels\":80, \"kernel_size\":(2,7), \"bias\":True, \"padding\":(0,3), },},\n",
    "    {\"class\": \"ReLU\", \"kargs\": {\"inplace\": True}},\n",
    "    {\"class\": \"BatchNorm2d\", \"kargs\": {\"num_features\":80}},\n",
    "    {\"class\": \"Flatten\", \"kargs\": {}},\n",
    "\n",
    "    {\"class\": \"Linear\", \"kargs\": {\"in_features\": 80*256, \"out_features\": 256}}, # 80 units per IQ pair\n",
    "    {\"class\": \"ReLU\", \"kargs\": {\"inplace\": True}},\n",
    "    {\"class\": \"BatchNorm1d\", \"kargs\": {\"num_features\":256}},\n",
    "\n",
    "    {\"class\": \"Linear\", \"kargs\": {\"in_features\": 256, \"out_features\": 256}},\n",
    "]\n",
    "\n",
    "# Parameters relevant to results\n",
    "# These parameters will basically never need to change\n",
    "standalone_parameters[\"NUM_LOGS_PER_EPOCH\"] = 10\n",
    "standalone_parameters[\"BEST_MODEL_PATH\"] = \"./best_model.pth\"\n",
    "\n",
    "# uncomment for CORES dataset\n",
    "from steves_utils.CORES.utils import (\n",
    "    ALL_NODES,\n",
    "    ALL_NODES_MINIMUM_1000_EXAMPLES,\n",
    "    ALL_DAYS\n",
    ")\n",
    "\n",
    "\n",
    "standalone_parameters[\"labels_source\"] = ALL_NODES\n",
    "standalone_parameters[\"labels_target\"] = ALL_NODES\n",
    "\n",
    "standalone_parameters[\"domains_source\"] = [1]\n",
    "standalone_parameters[\"domains_target\"] = [2,3,4,5]\n",
    "\n",
    "standalone_parameters[\"pickle_name\"] = \"cores.stratified_ds.2022A.pkl\"\n",
    "\n",
    "\n",
    "# Uncomment these for ORACLE dataset\n",
    "# from steves_utils.ORACLE.utils_v2 import (\n",
    "#     ALL_DISTANCES_FEET,\n",
    "#     ALL_RUNS,\n",
    "#     ALL_SERIAL_NUMBERS,\n",
    "# )\n",
    "# standalone_parameters[\"labels_source\"] = ALL_SERIAL_NUMBERS\n",
    "# standalone_parameters[\"labels_target\"] = ALL_SERIAL_NUMBERS\n",
    "# standalone_parameters[\"domains_source\"] = [8,20, 38,50]\n",
    "# standalone_parameters[\"domains_target\"] = [14, 26, 32, 44, 56]\n",
    "# standalone_parameters[\"pickle_name\"] = \"oracle.frame_indexed.stratified_ds.2022A.pkl\"\n",
    "# standalone_parameters[\"num_examples_per_domain_per_label_source\"]=1000\n",
    "# standalone_parameters[\"num_examples_per_domain_per_label_target\"]=1000\n",
    "\n",
    "# Uncomment these for Metahan dataset\n",
    "# standalone_parameters[\"labels_source\"] = list(range(19))\n",
    "# standalone_parameters[\"labels_target\"] = list(range(19))\n",
    "# standalone_parameters[\"domains_source\"] = [0]\n",
    "# standalone_parameters[\"domains_target\"] = [1]\n",
    "# standalone_parameters[\"pickle_name\"] = \"metehan.stratified_ds.2022A.pkl\"\n",
    "# standalone_parameters[\"n_way\"]  = len(standalone_parameters[\"labels_source\"])\n",
    "# standalone_parameters[\"num_examples_per_domain_per_label_source\"]=200\n",
    "# standalone_parameters[\"num_examples_per_domain_per_label_target\"]=100\n",
    "\n",
    "\n",
    "standalone_parameters[\"n_way\"]  = len(standalone_parameters[\"labels_source\"])"
   ]
  },
  {
   "cell_type": "code",
   "execution_count": 4,
   "id": "80366636",
   "metadata": {
    "execution": {
     "iopub.execute_input": "2022-03-26T08:56:44.106782Z",
     "iopub.status.busy": "2022-03-26T08:56:44.106368Z",
     "iopub.status.idle": "2022-03-26T08:56:44.124782Z",
     "shell.execute_reply": "2022-03-26T08:56:44.124470Z"
    },
    "papermill": {
     "duration": 0.039376,
     "end_time": "2022-03-26T08:56:44.124850",
     "exception": false,
     "start_time": "2022-03-26T08:56:44.085474",
     "status": "completed"
    },
    "tags": [
     "injected-parameters"
    ]
   },
   "outputs": [],
   "source": [
    "# Parameters\n",
    "parameters = {\n",
    "    \"experiment_name\": \"tuned_1v2:oracle.run1_limited\",\n",
    "    \"device\": \"cuda\",\n",
    "    \"lr\": 0.0001,\n",
    "    \"labels_source\": [\n",
    "        \"3123D52\",\n",
    "        \"3123D65\",\n",
    "        \"3123D79\",\n",
    "        \"3123D80\",\n",
    "        \"3123D54\",\n",
    "        \"3123D70\",\n",
    "        \"3123D7B\",\n",
    "        \"3123D89\",\n",
    "        \"3123D58\",\n",
    "        \"3123D76\",\n",
    "        \"3123D7D\",\n",
    "        \"3123EFE\",\n",
    "        \"3123D64\",\n",
    "        \"3123D78\",\n",
    "        \"3123D7E\",\n",
    "        \"3124E4A\",\n",
    "    ],\n",
    "    \"labels_target\": [\n",
    "        \"3123D52\",\n",
    "        \"3123D65\",\n",
    "        \"3123D79\",\n",
    "        \"3123D80\",\n",
    "        \"3123D54\",\n",
    "        \"3123D70\",\n",
    "        \"3123D7B\",\n",
    "        \"3123D89\",\n",
    "        \"3123D58\",\n",
    "        \"3123D76\",\n",
    "        \"3123D7D\",\n",
    "        \"3123EFE\",\n",
    "        \"3123D64\",\n",
    "        \"3123D78\",\n",
    "        \"3123D7E\",\n",
    "        \"3124E4A\",\n",
    "    ],\n",
    "    \"episode_transforms_source\": [],\n",
    "    \"episode_transforms_target\": [],\n",
    "    \"domains_source\": [8, 32, 50],\n",
    "    \"domains_target\": [14, 20, 26, 38, 44],\n",
    "    \"num_examples_per_domain_per_label_source\": -1,\n",
    "    \"num_examples_per_domain_per_label_target\": -1,\n",
    "    \"n_shot\": 3,\n",
    "    \"n_way\": 16,\n",
    "    \"n_query\": 2,\n",
    "    \"train_k_factor\": 3,\n",
    "    \"val_k_factor\": 2,\n",
    "    \"test_k_factor\": 2,\n",
    "    \"torch_default_dtype\": \"torch.float32\",\n",
    "    \"n_epoch\": 50,\n",
    "    \"patience\": 3,\n",
    "    \"criteria_for_best\": \"target_accuracy\",\n",
    "    \"x_net\": [\n",
    "        {\"class\": \"nnReshape\", \"kargs\": {\"shape\": [-1, 1, 2, 256]}},\n",
    "        {\n",
    "            \"class\": \"Conv2d\",\n",
    "            \"kargs\": {\n",
    "                \"in_channels\": 1,\n",
    "                \"out_channels\": 256,\n",
    "                \"kernel_size\": [1, 7],\n",
    "                \"bias\": False,\n",
    "                \"padding\": [0, 3],\n",
    "            },\n",
    "        },\n",
    "        {\"class\": \"ReLU\", \"kargs\": {\"inplace\": True}},\n",
    "        {\"class\": \"BatchNorm2d\", \"kargs\": {\"num_features\": 256}},\n",
    "        {\n",
    "            \"class\": \"Conv2d\",\n",
    "            \"kargs\": {\n",
    "                \"in_channels\": 256,\n",
    "                \"out_channels\": 80,\n",
    "                \"kernel_size\": [2, 7],\n",
    "                \"bias\": True,\n",
    "                \"padding\": [0, 3],\n",
    "            },\n",
    "        },\n",
    "        {\"class\": \"ReLU\", \"kargs\": {\"inplace\": True}},\n",
    "        {\"class\": \"BatchNorm2d\", \"kargs\": {\"num_features\": 80}},\n",
    "        {\"class\": \"Flatten\", \"kargs\": {}},\n",
    "        {\"class\": \"Linear\", \"kargs\": {\"in_features\": 20480, \"out_features\": 256}},\n",
    "        {\"class\": \"ReLU\", \"kargs\": {\"inplace\": True}},\n",
    "        {\"class\": \"BatchNorm1d\", \"kargs\": {\"num_features\": 256}},\n",
    "        {\"class\": \"Linear\", \"kargs\": {\"in_features\": 256, \"out_features\": 256}},\n",
    "    ],\n",
    "    \"NUM_LOGS_PER_EPOCH\": 10,\n",
    "    \"BEST_MODEL_PATH\": \"./best_model.pth\",\n",
    "    \"pickle_name\": \"oracle.Run1_10kExamples_stratified_ds.2022A.pkl\",\n",
    "    \"x_transforms_source\": [\"unit_power\"],\n",
    "    \"x_transforms_target\": [\"unit_power\"],\n",
    "    \"dataset_seed\": 420,\n",
    "    \"seed\": 420,\n",
    "}\n"
   ]
  },
  {
   "cell_type": "code",
   "execution_count": 5,
   "id": "8fa1cc33",
   "metadata": {
    "execution": {
     "iopub.execute_input": "2022-03-26T08:56:44.156347Z",
     "iopub.status.busy": "2022-03-26T08:56:44.155985Z",
     "iopub.status.idle": "2022-03-26T08:56:44.173754Z",
     "shell.execute_reply": "2022-03-26T08:56:44.174048Z"
    },
    "papermill": {
     "duration": 0.035455,
     "end_time": "2022-03-26T08:56:44.174127",
     "exception": false,
     "start_time": "2022-03-26T08:56:44.138672",
     "status": "completed"
    },
    "tags": []
   },
   "outputs": [],
   "source": [
    "# Set this to True if you want to run this template directly\n",
    "STANDALONE = False\n",
    "if STANDALONE:\n",
    "    print(\"parameters not injected, running with standalone_parameters\")\n",
    "    parameters = standalone_parameters\n",
    "\n",
    "if not 'parameters' in locals() and not 'parameters' in globals():\n",
    "    raise Exception(\"Parameter injection failed\")\n",
    "\n",
    "#Use an easy dict for all the parameters\n",
    "p = EasyDict(parameters)\n",
    "\n",
    "supplied_keys = set(p.keys())\n",
    "\n",
    "if  supplied_keys != required_parameters:\n",
    "    print(\"Parameters are incorrect\")\n",
    "    if len(supplied_keys - required_parameters)>0: print(\"Shouldn't have:\", str(supplied_keys - required_parameters))\n",
    "    if len(required_parameters - supplied_keys)>0: print(\"Need to have:\", str(required_parameters - supplied_keys))\n",
    "    raise RuntimeError(\"Parameters are incorrect\")\n",
    "\n"
   ]
  },
  {
   "cell_type": "code",
   "execution_count": 6,
   "id": "3a028d58",
   "metadata": {
    "execution": {
     "iopub.execute_input": "2022-03-26T08:56:44.205115Z",
     "iopub.status.busy": "2022-03-26T08:56:44.204419Z",
     "iopub.status.idle": "2022-03-26T08:56:44.222408Z",
     "shell.execute_reply": "2022-03-26T08:56:44.222051Z"
    },
    "papermill": {
     "duration": 0.034274,
     "end_time": "2022-03-26T08:56:44.222475",
     "exception": false,
     "start_time": "2022-03-26T08:56:44.188201",
     "status": "completed"
    },
    "tags": []
   },
   "outputs": [],
   "source": [
    "###################################\n",
    "# Set the RNGs and make it all deterministic\n",
    "###################################\n",
    "np.random.seed(p.seed)\n",
    "random.seed(p.seed)\n",
    "torch.manual_seed(p.seed)\n",
    "\n",
    "torch.use_deterministic_algorithms(True) "
   ]
  },
  {
   "cell_type": "code",
   "execution_count": 7,
   "id": "b691acf6",
   "metadata": {
    "execution": {
     "iopub.execute_input": "2022-03-26T08:56:44.253757Z",
     "iopub.status.busy": "2022-03-26T08:56:44.253399Z",
     "iopub.status.idle": "2022-03-26T08:56:44.276231Z",
     "shell.execute_reply": "2022-03-26T08:56:44.275876Z"
    },
    "papermill": {
     "duration": 0.039854,
     "end_time": "2022-03-26T08:56:44.276299",
     "exception": false,
     "start_time": "2022-03-26T08:56:44.236445",
     "status": "completed"
    },
    "tags": []
   },
   "outputs": [],
   "source": [
    "###########################################\n",
    "# The stratified datasets honor this\n",
    "###########################################\n",
    "torch.set_default_dtype(eval(p.torch_default_dtype))"
   ]
  },
  {
   "cell_type": "code",
   "execution_count": 8,
   "id": "b5fba671",
   "metadata": {
    "execution": {
     "iopub.execute_input": "2022-03-26T08:56:44.317298Z",
     "iopub.status.busy": "2022-03-26T08:56:44.312083Z",
     "iopub.status.idle": "2022-03-26T08:56:44.362160Z",
     "shell.execute_reply": "2022-03-26T08:56:44.362440Z"
    },
    "papermill": {
     "duration": 0.071963,
     "end_time": "2022-03-26T08:56:44.362521",
     "exception": false,
     "start_time": "2022-03-26T08:56:44.290558",
     "status": "completed"
    },
    "tags": []
   },
   "outputs": [],
   "source": [
    "###################################\n",
    "# Build the network(s)\n",
    "# Note: It's critical to do this AFTER setting the RNG\n",
    "# (This is due to the randomized initial weights)\n",
    "###################################\n",
    "x_net = build_sequential(p.x_net)"
   ]
  },
  {
   "cell_type": "code",
   "execution_count": 9,
   "id": "5d7e61cc",
   "metadata": {
    "execution": {
     "iopub.execute_input": "2022-03-26T08:56:44.394585Z",
     "iopub.status.busy": "2022-03-26T08:56:44.394231Z",
     "iopub.status.idle": "2022-03-26T08:56:44.418608Z",
     "shell.execute_reply": "2022-03-26T08:56:44.418251Z"
    },
    "papermill": {
     "duration": 0.04183,
     "end_time": "2022-03-26T08:56:44.418676",
     "exception": false,
     "start_time": "2022-03-26T08:56:44.376846",
     "status": "completed"
    },
    "tags": []
   },
   "outputs": [],
   "source": [
    "start_time_secs = time.time()"
   ]
  },
  {
   "cell_type": "code",
   "execution_count": 10,
   "id": "fd5442bc",
   "metadata": {
    "execution": {
     "iopub.execute_input": "2022-03-26T08:56:44.461534Z",
     "iopub.status.busy": "2022-03-26T08:56:44.461150Z",
     "iopub.status.idle": "2022-03-26T08:58:36.158962Z",
     "shell.execute_reply": "2022-03-26T08:58:36.158212Z"
    },
    "papermill": {
     "duration": 111.72613,
     "end_time": "2022-03-26T08:58:36.159162",
     "exception": false,
     "start_time": "2022-03-26T08:56:44.433032",
     "status": "completed"
    },
    "tags": []
   },
   "outputs": [],
   "source": [
    "###################################\n",
    "# Build the dataset\n",
    "###################################\n",
    "\n",
    "if p.x_transforms_source == []: x_transform_source = None\n",
    "else: x_transform_source = get_chained_transform(p.x_transforms_source) \n",
    "\n",
    "if p.x_transforms_target == []: x_transform_target = None\n",
    "else: x_transform_target = get_chained_transform(p.x_transforms_target)\n",
    "\n",
    "if p.episode_transforms_source == []: episode_transform_source = None\n",
    "else: raise Exception(\"episode_transform_source not implemented\")\n",
    "\n",
    "if p.episode_transforms_target == []: episode_transform_target = None\n",
    "else: raise Exception(\"episode_transform_target not implemented\")\n",
    "\n",
    "\n",
    "eaf_source = Episodic_Accessor_Factory(\n",
    "    labels=p.labels_source,\n",
    "    domains=p.domains_source,\n",
    "    num_examples_per_domain_per_label=p.num_examples_per_domain_per_label_source,\n",
    "    iterator_seed=p.seed,\n",
    "    dataset_seed=p.dataset_seed,\n",
    "    n_shot=p.n_shot,\n",
    "    n_way=p.n_way,\n",
    "    n_query=p.n_query,\n",
    "    train_val_test_k_factors=(p.train_k_factor,p.val_k_factor,p.test_k_factor),\n",
    "    pickle_path=os.path.join(get_datasets_base_path(), p.pickle_name),\n",
    "    x_transform_func=x_transform_source,\n",
    "    example_transform_func=episode_transform_source,\n",
    "    \n",
    ")\n",
    "train_original_source, val_original_source, test_original_source = eaf_source.get_train(), eaf_source.get_val(), eaf_source.get_test()\n",
    "\n",
    "\n",
    "eaf_target = Episodic_Accessor_Factory(\n",
    "    labels=p.labels_target,\n",
    "    domains=p.domains_target,\n",
    "    num_examples_per_domain_per_label=p.num_examples_per_domain_per_label_target,\n",
    "    iterator_seed=p.seed,\n",
    "    dataset_seed=p.dataset_seed,\n",
    "    n_shot=p.n_shot,\n",
    "    n_way=p.n_way,\n",
    "    n_query=p.n_query,\n",
    "    train_val_test_k_factors=(p.train_k_factor,p.val_k_factor,p.test_k_factor),\n",
    "    pickle_path=os.path.join(get_datasets_base_path(), p.pickle_name),\n",
    "    x_transform_func=x_transform_target,\n",
    "    example_transform_func=episode_transform_target,\n",
    ")\n",
    "train_original_target, val_original_target, test_original_target = eaf_target.get_train(), eaf_target.get_val(), eaf_target.get_test()\n",
    "\n",
    "\n",
    "transform_lambda = lambda ex: ex[1] # Original is (<domain>, <episode>) so we strip down to episode only\n",
    "\n",
    "train_processed_source = Lazy_Iterable_Wrapper(train_original_source, transform_lambda)\n",
    "val_processed_source   = Lazy_Iterable_Wrapper(val_original_source, transform_lambda)\n",
    "test_processed_source  = Lazy_Iterable_Wrapper(test_original_source, transform_lambda)\n",
    "\n",
    "train_processed_target = Lazy_Iterable_Wrapper(train_original_target, transform_lambda)\n",
    "val_processed_target   = Lazy_Iterable_Wrapper(val_original_target, transform_lambda)\n",
    "test_processed_target  = Lazy_Iterable_Wrapper(test_original_target, transform_lambda)\n",
    "\n",
    "datasets = EasyDict({\n",
    "    \"source\": {\n",
    "        \"original\": {\"train\":train_original_source, \"val\":val_original_source, \"test\":test_original_source},\n",
    "        \"processed\": {\"train\":train_processed_source, \"val\":val_processed_source, \"test\":test_processed_source}\n",
    "    },\n",
    "    \"target\": {\n",
    "        \"original\": {\"train\":train_original_target, \"val\":val_original_target, \"test\":test_original_target},\n",
    "        \"processed\": {\"train\":train_processed_target, \"val\":val_processed_target, \"test\":test_processed_target}\n",
    "    },\n",
    "})"
   ]
  },
  {
   "cell_type": "code",
   "execution_count": 11,
   "id": "296189d9",
   "metadata": {
    "execution": {
     "iopub.execute_input": "2022-03-26T08:58:36.203373Z",
     "iopub.status.busy": "2022-03-26T08:58:36.202528Z",
     "iopub.status.idle": "2022-03-26T08:58:43.455284Z",
     "shell.execute_reply": "2022-03-26T08:58:43.454290Z"
    },
    "papermill": {
     "duration": 7.276076,
     "end_time": "2022-03-26T08:58:43.455476",
     "exception": false,
     "start_time": "2022-03-26T08:58:36.179400",
     "status": "completed"
    },
    "tags": []
   },
   "outputs": [
    {
     "name": "stdout",
     "output_type": "stream",
     "text": [
      "Visually inspect these to see if they line up with expected values given the transforms\n",
      "x_transforms_source ['unit_power']\n",
      "x_transforms_target ['unit_power']\n",
      "Average magnitude, source: 0.91137123\n",
      "Average power, source: 1.0\n"
     ]
    },
    {
     "name": "stdout",
     "output_type": "stream",
     "text": [
      "Average magnitude, target: 0.87916726\n",
      "Average power, target: 1.0\n"
     ]
    }
   ],
   "source": [
    "# Some quick unit tests on the data\n",
    "from steves_utils.transforms import get_average_power, get_average_magnitude\n",
    "\n",
    "q_x, q_y, s_x, s_y, truth = next(iter(train_processed_source))\n",
    "\n",
    "assert q_x.dtype == eval(p.torch_default_dtype)\n",
    "assert s_x.dtype == eval(p.torch_default_dtype)\n",
    "\n",
    "print(\"Visually inspect these to see if they line up with expected values given the transforms\")\n",
    "print('x_transforms_source', p.x_transforms_source)\n",
    "print('x_transforms_target', p.x_transforms_target)\n",
    "print(\"Average magnitude, source:\", get_average_magnitude(q_x[0].numpy()))\n",
    "print(\"Average power, source:\", get_average_power(q_x[0].numpy()))\n",
    "\n",
    "q_x, q_y, s_x, s_y, truth = next(iter(train_processed_target))\n",
    "print(\"Average magnitude, target:\", get_average_magnitude(q_x[0].numpy()))\n",
    "print(\"Average power, target:\", get_average_power(q_x[0].numpy()))\n"
   ]
  },
  {
   "cell_type": "code",
   "execution_count": 12,
   "id": "bbdacba1",
   "metadata": {
    "execution": {
     "iopub.execute_input": "2022-03-26T08:58:43.502209Z",
     "iopub.status.busy": "2022-03-26T08:58:43.501827Z",
     "iopub.status.idle": "2022-03-26T08:58:43.768221Z",
     "shell.execute_reply": "2022-03-26T08:58:43.768908Z"
    },
    "papermill": {
     "duration": 0.291266,
     "end_time": "2022-03-26T08:58:43.769146",
     "exception": false,
     "start_time": "2022-03-26T08:58:43.477880",
     "status": "completed"
    },
    "tags": []
   },
   "outputs": [
    {
     "name": "stdout",
     "output_type": "stream",
     "text": [
      "(2, 256)\n"
     ]
    }
   ],
   "source": [
    "###################################\n",
    "# Build the model\n",
    "###################################\n",
    "model = Steves_Prototypical_Network(x_net, device=p.device, x_shape=(2,256))\n",
    "optimizer = Adam(params=model.parameters(), lr=p.lr)"
   ]
  },
  {
   "cell_type": "code",
   "execution_count": 13,
   "id": "22b39ac5",
   "metadata": {
    "execution": {
     "iopub.execute_input": "2022-03-26T08:58:43.814307Z",
     "iopub.status.busy": "2022-03-26T08:58:43.813933Z",
     "iopub.status.idle": "2022-03-26T10:51:48.328665Z",
     "shell.execute_reply": "2022-03-26T10:51:48.325791Z"
    },
    "papermill": {
     "duration": 6784.537782,
     "end_time": "2022-03-26T10:51:48.331160",
     "exception": false,
     "start_time": "2022-03-26T08:58:43.793378",
     "status": "completed"
    },
    "tags": []
   },
   "outputs": [
    {
     "name": "stdout",
     "output_type": "stream",
     "text": [
      "epoch: 1, [batch: 1 / 12600], examples_per_second: 17.3535, train_label_loss: 2.7820, \n"
     ]
    },
    {
     "name": "stdout",
     "output_type": "stream",
     "text": [
      "epoch: 1, [batch: 1260 / 12600], examples_per_second: 1905.2963, train_label_loss: 1.5343, \n"
     ]
    },
    {
     "name": "stdout",
     "output_type": "stream",
     "text": [
      "epoch: 1, [batch: 2520 / 12600], examples_per_second: 1959.4337, train_label_loss: 1.3365, \n"
     ]
    },
    {
     "name": "stdout",
     "output_type": "stream",
     "text": [
      "epoch: 1, [batch: 3780 / 12600], examples_per_second: 1856.9221, train_label_loss: 1.2313, \n"
     ]
    },
    {
     "name": "stdout",
     "output_type": "stream",
     "text": [
      "epoch: 1, [batch: 5040 / 12600], examples_per_second: 1772.5033, train_label_loss: 1.2239, \n"
     ]
    },
    {
     "name": "stdout",
     "output_type": "stream",
     "text": [
      "epoch: 1, [batch: 6300 / 12600], examples_per_second: 1776.6131, train_label_loss: 1.2678, \n"
     ]
    },
    {
     "name": "stdout",
     "output_type": "stream",
     "text": [
      "epoch: 1, [batch: 7560 / 12600], examples_per_second: 1843.9554, train_label_loss: 1.0889, \n"
     ]
    },
    {
     "name": "stdout",
     "output_type": "stream",
     "text": [
      "epoch: 1, [batch: 8820 / 12600], examples_per_second: 3597.1078, train_label_loss: 1.2519, \n"
     ]
    },
    {
     "name": "stdout",
     "output_type": "stream",
     "text": [
      "epoch: 1, [batch: 10080 / 12600], examples_per_second: 2429.0063, train_label_loss: 1.5422, \n"
     ]
    },
    {
     "name": "stdout",
     "output_type": "stream",
     "text": [
      "epoch: 1, [batch: 11340 / 12600], examples_per_second: 1800.5270, train_label_loss: 1.0485, \n"
     ]
    },
    {
     "name": "stdout",
     "output_type": "stream",
     "text": [
      "=============================================================\n",
      "epoch: 1, source_val_acc_label: 0.5847, target_val_acc_label: 0.4835, source_val_label_loss: 1.1279, target_val_label_loss: 1.3854, \n",
      "=============================================================\n"
     ]
    },
    {
     "name": "stdout",
     "output_type": "stream",
     "text": [
      "New best\n"
     ]
    },
    {
     "name": "stdout",
     "output_type": "stream",
     "text": [
      "epoch: 2, [batch: 1 / 12600], examples_per_second: 0.6526, train_label_loss: 1.1602, \n"
     ]
    },
    {
     "name": "stdout",
     "output_type": "stream",
     "text": [
      "epoch: 2, [batch: 1260 / 12600], examples_per_second: 2394.2564, train_label_loss: 1.2962, \n"
     ]
    },
    {
     "name": "stdout",
     "output_type": "stream",
     "text": [
      "epoch: 2, [batch: 2520 / 12600], examples_per_second: 4735.2190, train_label_loss: 0.5638, \n"
     ]
    },
    {
     "name": "stdout",
     "output_type": "stream",
     "text": [
      "epoch: 2, [batch: 3780 / 12600], examples_per_second: 2225.0382, train_label_loss: 1.5926, \n"
     ]
    },
    {
     "name": "stdout",
     "output_type": "stream",
     "text": [
      "epoch: 2, [batch: 5040 / 12600], examples_per_second: 1788.1180, train_label_loss: 0.8645, \n"
     ]
    },
    {
     "name": "stdout",
     "output_type": "stream",
     "text": [
      "epoch: 2, [batch: 6300 / 12600], examples_per_second: 1783.0204, train_label_loss: 1.1232, \n"
     ]
    },
    {
     "name": "stdout",
     "output_type": "stream",
     "text": [
      "epoch: 2, [batch: 7560 / 12600], examples_per_second: 1789.4111, train_label_loss: 0.9442, \n"
     ]
    },
    {
     "name": "stdout",
     "output_type": "stream",
     "text": [
      "epoch: 2, [batch: 8820 / 12600], examples_per_second: 1771.4338, train_label_loss: 1.1801, \n"
     ]
    },
    {
     "name": "stdout",
     "output_type": "stream",
     "text": [
      "epoch: 2, [batch: 10080 / 12600], examples_per_second: 1780.2447, train_label_loss: 0.8431, \n"
     ]
    },
    {
     "name": "stdout",
     "output_type": "stream",
     "text": [
      "epoch: 2, [batch: 11340 / 12600], examples_per_second: 1789.9999, train_label_loss: 0.8710, \n"
     ]
    },
    {
     "name": "stdout",
     "output_type": "stream",
     "text": [
      "=============================================================\n",
      "epoch: 2, source_val_acc_label: 0.6619, target_val_acc_label: 0.5859, source_val_label_loss: 0.9029, target_val_label_loss: 1.1017, \n",
      "=============================================================\n"
     ]
    },
    {
     "name": "stdout",
     "output_type": "stream",
     "text": [
      "New best\n"
     ]
    },
    {
     "name": "stdout",
     "output_type": "stream",
     "text": [
      "epoch: 3, [batch: 1 / 12600], examples_per_second: 0.9219, train_label_loss: 0.6480, \n"
     ]
    },
    {
     "name": "stdout",
     "output_type": "stream",
     "text": [
      "epoch: 3, [batch: 1260 / 12600], examples_per_second: 1918.2349, train_label_loss: 1.0925, \n"
     ]
    },
    {
     "name": "stdout",
     "output_type": "stream",
     "text": [
      "epoch: 3, [batch: 2520 / 12600], examples_per_second: 1915.8365, train_label_loss: 1.0288, \n"
     ]
    },
    {
     "name": "stdout",
     "output_type": "stream",
     "text": [
      "epoch: 3, [batch: 3780 / 12600], examples_per_second: 1938.9036, train_label_loss: 0.9797, \n"
     ]
    },
    {
     "name": "stdout",
     "output_type": "stream",
     "text": [
      "epoch: 3, [batch: 5040 / 12600], examples_per_second: 1786.9933, train_label_loss: 0.7696, \n"
     ]
    },
    {
     "name": "stdout",
     "output_type": "stream",
     "text": [
      "epoch: 3, [batch: 6300 / 12600], examples_per_second: 1780.7582, train_label_loss: 1.2014, \n"
     ]
    },
    {
     "name": "stdout",
     "output_type": "stream",
     "text": [
      "epoch: 3, [batch: 7560 / 12600], examples_per_second: 1793.0853, train_label_loss: 0.6242, \n"
     ]
    },
    {
     "name": "stdout",
     "output_type": "stream",
     "text": [
      "epoch: 3, [batch: 8820 / 12600], examples_per_second: 2639.5459, train_label_loss: 0.7483, \n"
     ]
    },
    {
     "name": "stdout",
     "output_type": "stream",
     "text": [
      "epoch: 3, [batch: 10080 / 12600], examples_per_second: 3335.9583, train_label_loss: 0.4949, \n"
     ]
    },
    {
     "name": "stdout",
     "output_type": "stream",
     "text": [
      "epoch: 3, [batch: 11340 / 12600], examples_per_second: 1828.0330, train_label_loss: 0.7937, \n"
     ]
    },
    {
     "name": "stdout",
     "output_type": "stream",
     "text": [
      "=============================================================\n",
      "epoch: 3, source_val_acc_label: 0.6795, target_val_acc_label: 0.6010, source_val_label_loss: 0.8659, target_val_label_loss: 1.0663, \n",
      "=============================================================\n"
     ]
    },
    {
     "name": "stdout",
     "output_type": "stream",
     "text": [
      "New best\n"
     ]
    },
    {
     "name": "stdout",
     "output_type": "stream",
     "text": [
      "epoch: 4, [batch: 1 / 12600], examples_per_second: 0.6407, train_label_loss: 0.6891, \n"
     ]
    },
    {
     "name": "stdout",
     "output_type": "stream",
     "text": [
      "epoch: 4, [batch: 1260 / 12600], examples_per_second: 1999.1221, train_label_loss: 0.5032, \n"
     ]
    },
    {
     "name": "stdout",
     "output_type": "stream",
     "text": [
      "epoch: 4, [batch: 2520 / 12600], examples_per_second: 4268.2181, train_label_loss: 0.6712, \n"
     ]
    },
    {
     "name": "stdout",
     "output_type": "stream",
     "text": [
      "epoch: 4, [batch: 3780 / 12600], examples_per_second: 2923.4513, train_label_loss: 0.7321, \n"
     ]
    },
    {
     "name": "stdout",
     "output_type": "stream",
     "text": [
      "epoch: 4, [batch: 5040 / 12600], examples_per_second: 1769.0694, train_label_loss: 0.6835, \n"
     ]
    },
    {
     "name": "stdout",
     "output_type": "stream",
     "text": [
      "epoch: 4, [batch: 6300 / 12600], examples_per_second: 1788.4687, train_label_loss: 0.6570, \n"
     ]
    },
    {
     "name": "stdout",
     "output_type": "stream",
     "text": [
      "epoch: 4, [batch: 7560 / 12600], examples_per_second: 1798.6273, train_label_loss: 0.8239, \n"
     ]
    },
    {
     "name": "stdout",
     "output_type": "stream",
     "text": [
      "epoch: 4, [batch: 8820 / 12600], examples_per_second: 1774.3293, train_label_loss: 0.4979, \n"
     ]
    },
    {
     "name": "stdout",
     "output_type": "stream",
     "text": [
      "epoch: 4, [batch: 10080 / 12600], examples_per_second: 1781.7514, train_label_loss: 0.5061, \n"
     ]
    },
    {
     "name": "stdout",
     "output_type": "stream",
     "text": [
      "epoch: 4, [batch: 11340 / 12600], examples_per_second: 1789.5596, train_label_loss: 0.5874, \n"
     ]
    },
    {
     "name": "stdout",
     "output_type": "stream",
     "text": [
      "=============================================================\n",
      "epoch: 4, source_val_acc_label: 0.6713, target_val_acc_label: 0.5986, source_val_label_loss: 0.8685, target_val_label_loss: 1.0600, \n",
      "=============================================================\n"
     ]
    },
    {
     "name": "stdout",
     "output_type": "stream",
     "text": [
      "epoch: 5, [batch: 1 / 12600], examples_per_second: 0.9278, train_label_loss: 0.4454, \n"
     ]
    },
    {
     "name": "stdout",
     "output_type": "stream",
     "text": [
      "epoch: 5, [batch: 1260 / 12600], examples_per_second: 4076.1510, train_label_loss: 0.7023, \n"
     ]
    },
    {
     "name": "stdout",
     "output_type": "stream",
     "text": [
      "epoch: 5, [batch: 2520 / 12600], examples_per_second: 1794.9257, train_label_loss: 0.4459, \n"
     ]
    },
    {
     "name": "stdout",
     "output_type": "stream",
     "text": [
      "epoch: 5, [batch: 3780 / 12600], examples_per_second: 1898.7740, train_label_loss: 0.3886, \n"
     ]
    },
    {
     "name": "stdout",
     "output_type": "stream",
     "text": [
      "epoch: 5, [batch: 5040 / 12600], examples_per_second: 1691.3259, train_label_loss: 0.6552, \n"
     ]
    },
    {
     "name": "stdout",
     "output_type": "stream",
     "text": [
      "epoch: 5, [batch: 6300 / 12600], examples_per_second: 1895.0878, train_label_loss: 0.6815, \n"
     ]
    },
    {
     "name": "stdout",
     "output_type": "stream",
     "text": [
      "epoch: 5, [batch: 7560 / 12600], examples_per_second: 1704.6147, train_label_loss: 0.5886, \n"
     ]
    },
    {
     "name": "stdout",
     "output_type": "stream",
     "text": [
      "epoch: 5, [batch: 8820 / 12600], examples_per_second: 1861.2480, train_label_loss: 0.9051, \n"
     ]
    },
    {
     "name": "stdout",
     "output_type": "stream",
     "text": [
      "epoch: 5, [batch: 10080 / 12600], examples_per_second: 1831.5703, train_label_loss: 0.8956, \n"
     ]
    },
    {
     "name": "stdout",
     "output_type": "stream",
     "text": [
      "epoch: 5, [batch: 11340 / 12600], examples_per_second: 1700.0430, train_label_loss: 0.4920, \n"
     ]
    },
    {
     "name": "stdout",
     "output_type": "stream",
     "text": [
      "=============================================================\n",
      "epoch: 5, source_val_acc_label: 0.6861, target_val_acc_label: 0.6127, source_val_label_loss: 0.8653, target_val_label_loss: 1.0497, \n",
      "=============================================================\n"
     ]
    },
    {
     "name": "stdout",
     "output_type": "stream",
     "text": [
      "New best\n"
     ]
    },
    {
     "name": "stdout",
     "output_type": "stream",
     "text": [
      "epoch: 6, [batch: 1 / 12600], examples_per_second: 0.6570, train_label_loss: 0.6587, \n"
     ]
    },
    {
     "name": "stdout",
     "output_type": "stream",
     "text": [
      "epoch: 6, [batch: 1260 / 12600], examples_per_second: 1989.1106, train_label_loss: 0.6040, \n"
     ]
    },
    {
     "name": "stdout",
     "output_type": "stream",
     "text": [
      "epoch: 6, [batch: 2520 / 12600], examples_per_second: 1747.3702, train_label_loss: 0.5058, \n"
     ]
    },
    {
     "name": "stdout",
     "output_type": "stream",
     "text": [
      "epoch: 6, [batch: 3780 / 12600], examples_per_second: 1847.4703, train_label_loss: 0.3096, \n"
     ]
    },
    {
     "name": "stdout",
     "output_type": "stream",
     "text": [
      "epoch: 6, [batch: 5040 / 12600], examples_per_second: 1670.9566, train_label_loss: 0.5612, \n"
     ]
    },
    {
     "name": "stdout",
     "output_type": "stream",
     "text": [
      "epoch: 6, [batch: 6300 / 12600], examples_per_second: 1878.5699, train_label_loss: 0.6659, \n"
     ]
    },
    {
     "name": "stdout",
     "output_type": "stream",
     "text": [
      "epoch: 6, [batch: 7560 / 12600], examples_per_second: 1778.3171, train_label_loss: 0.6995, \n"
     ]
    },
    {
     "name": "stdout",
     "output_type": "stream",
     "text": [
      "epoch: 6, [batch: 8820 / 12600], examples_per_second: 2533.8742, train_label_loss: 0.6470, \n"
     ]
    },
    {
     "name": "stdout",
     "output_type": "stream",
     "text": [
      "epoch: 6, [batch: 10080 / 12600], examples_per_second: 3531.7201, train_label_loss: 0.4033, \n"
     ]
    },
    {
     "name": "stdout",
     "output_type": "stream",
     "text": [
      "epoch: 6, [batch: 11340 / 12600], examples_per_second: 2575.7978, train_label_loss: 0.4364, \n"
     ]
    },
    {
     "name": "stdout",
     "output_type": "stream",
     "text": [
      "=============================================================\n",
      "epoch: 6, source_val_acc_label: 0.6903, target_val_acc_label: 0.6142, source_val_label_loss: 0.8921, target_val_label_loss: 1.0751, \n",
      "=============================================================\n"
     ]
    },
    {
     "name": "stdout",
     "output_type": "stream",
     "text": [
      "New best\n"
     ]
    },
    {
     "name": "stdout",
     "output_type": "stream",
     "text": [
      "epoch: 7, [batch: 1 / 12600], examples_per_second: 0.8394, train_label_loss: 0.4233, \n"
     ]
    },
    {
     "name": "stdout",
     "output_type": "stream",
     "text": [
      "epoch: 7, [batch: 1260 / 12600], examples_per_second: 2759.7705, train_label_loss: 0.4481, \n"
     ]
    },
    {
     "name": "stdout",
     "output_type": "stream",
     "text": [
      "epoch: 7, [batch: 2520 / 12600], examples_per_second: 1971.2024, train_label_loss: 0.6852, \n"
     ]
    },
    {
     "name": "stdout",
     "output_type": "stream",
     "text": [
      "epoch: 7, [batch: 3780 / 12600], examples_per_second: 1925.3636, train_label_loss: 0.5062, \n"
     ]
    },
    {
     "name": "stdout",
     "output_type": "stream",
     "text": [
      "epoch: 7, [batch: 5040 / 12600], examples_per_second: 2309.7044, train_label_loss: 0.6073, \n"
     ]
    },
    {
     "name": "stdout",
     "output_type": "stream",
     "text": [
      "epoch: 7, [batch: 6300 / 12600], examples_per_second: 4264.0858, train_label_loss: 0.5867, \n"
     ]
    },
    {
     "name": "stdout",
     "output_type": "stream",
     "text": [
      "epoch: 7, [batch: 7560 / 12600], examples_per_second: 2757.1483, train_label_loss: 0.3555, \n"
     ]
    },
    {
     "name": "stdout",
     "output_type": "stream",
     "text": [
      "epoch: 7, [batch: 8820 / 12600], examples_per_second: 1970.6756, train_label_loss: 0.4068, \n"
     ]
    },
    {
     "name": "stdout",
     "output_type": "stream",
     "text": [
      "epoch: 7, [batch: 10080 / 12600], examples_per_second: 1933.4576, train_label_loss: 0.2752, \n"
     ]
    },
    {
     "name": "stdout",
     "output_type": "stream",
     "text": [
      "epoch: 7, [batch: 11340 / 12600], examples_per_second: 2284.1248, train_label_loss: 0.4182, \n"
     ]
    },
    {
     "name": "stdout",
     "output_type": "stream",
     "text": [
      "=============================================================\n",
      "epoch: 7, source_val_acc_label: 0.6938, target_val_acc_label: 0.6177, source_val_label_loss: 0.9356, target_val_label_loss: 1.1181, \n",
      "=============================================================\n"
     ]
    },
    {
     "name": "stdout",
     "output_type": "stream",
     "text": [
      "New best\n"
     ]
    },
    {
     "name": "stdout",
     "output_type": "stream",
     "text": [
      "epoch: 8, [batch: 1 / 12600], examples_per_second: 1.0846, train_label_loss: 0.1918, \n"
     ]
    },
    {
     "name": "stdout",
     "output_type": "stream",
     "text": [
      "epoch: 8, [batch: 1260 / 12600], examples_per_second: 2306.1140, train_label_loss: 0.2223, \n"
     ]
    },
    {
     "name": "stdout",
     "output_type": "stream",
     "text": [
      "epoch: 8, [batch: 2520 / 12600], examples_per_second: 4581.8111, train_label_loss: 0.6275, \n"
     ]
    },
    {
     "name": "stdout",
     "output_type": "stream",
     "text": [
      "epoch: 8, [batch: 3780 / 12600], examples_per_second: 5080.9812, train_label_loss: 0.4395, \n"
     ]
    },
    {
     "name": "stdout",
     "output_type": "stream",
     "text": [
      "epoch: 8, [batch: 5040 / 12600], examples_per_second: 2766.7250, train_label_loss: 0.2725, \n"
     ]
    },
    {
     "name": "stdout",
     "output_type": "stream",
     "text": [
      "epoch: 8, [batch: 6300 / 12600], examples_per_second: 2431.2796, train_label_loss: 0.3583, \n"
     ]
    },
    {
     "name": "stdout",
     "output_type": "stream",
     "text": [
      "epoch: 8, [batch: 7560 / 12600], examples_per_second: 2289.9384, train_label_loss: 0.5153, \n"
     ]
    },
    {
     "name": "stdout",
     "output_type": "stream",
     "text": [
      "epoch: 8, [batch: 8820 / 12600], examples_per_second: 2534.5705, train_label_loss: 0.3350, \n"
     ]
    },
    {
     "name": "stdout",
     "output_type": "stream",
     "text": [
      "epoch: 8, [batch: 10080 / 12600], examples_per_second: 5026.0172, train_label_loss: 0.2603, \n"
     ]
    },
    {
     "name": "stdout",
     "output_type": "stream",
     "text": [
      "epoch: 8, [batch: 11340 / 12600], examples_per_second: 4940.0324, train_label_loss: 0.2540, \n"
     ]
    },
    {
     "name": "stdout",
     "output_type": "stream",
     "text": [
      "=============================================================\n",
      "epoch: 8, source_val_acc_label: 0.6875, target_val_acc_label: 0.6112, source_val_label_loss: 0.9831, target_val_label_loss: 1.1646, \n",
      "=============================================================\n"
     ]
    },
    {
     "name": "stdout",
     "output_type": "stream",
     "text": [
      "epoch: 9, [batch: 1 / 12600], examples_per_second: 0.7578, train_label_loss: 0.2545, \n"
     ]
    },
    {
     "name": "stdout",
     "output_type": "stream",
     "text": [
      "epoch: 9, [batch: 1260 / 12600], examples_per_second: 2650.2320, train_label_loss: 0.1836, \n"
     ]
    },
    {
     "name": "stdout",
     "output_type": "stream",
     "text": [
      "epoch: 9, [batch: 2520 / 12600], examples_per_second: 1772.6665, train_label_loss: 0.6053, \n"
     ]
    },
    {
     "name": "stdout",
     "output_type": "stream",
     "text": [
      "epoch: 9, [batch: 3780 / 12600], examples_per_second: 1769.5254, train_label_loss: 0.7579, \n"
     ]
    },
    {
     "name": "stdout",
     "output_type": "stream",
     "text": [
      "epoch: 9, [batch: 5040 / 12600], examples_per_second: 1771.2894, train_label_loss: 0.4439, \n"
     ]
    },
    {
     "name": "stdout",
     "output_type": "stream",
     "text": [
      "epoch: 9, [batch: 6300 / 12600], examples_per_second: 3250.1620, train_label_loss: 0.2331, \n"
     ]
    },
    {
     "name": "stdout",
     "output_type": "stream",
     "text": [
      "epoch: 9, [batch: 7560 / 12600], examples_per_second: 3416.6187, train_label_loss: 0.7076, \n"
     ]
    },
    {
     "name": "stdout",
     "output_type": "stream",
     "text": [
      "epoch: 9, [batch: 8820 / 12600], examples_per_second: 1995.9276, train_label_loss: 0.2249, \n"
     ]
    },
    {
     "name": "stdout",
     "output_type": "stream",
     "text": [
      "epoch: 9, [batch: 10080 / 12600], examples_per_second: 1941.6386, train_label_loss: 0.2223, \n"
     ]
    },
    {
     "name": "stdout",
     "output_type": "stream",
     "text": [
      "epoch: 9, [batch: 11340 / 12600], examples_per_second: 1972.8908, train_label_loss: 0.2128, \n"
     ]
    },
    {
     "name": "stdout",
     "output_type": "stream",
     "text": [
      "=============================================================\n",
      "epoch: 9, source_val_acc_label: 0.6894, target_val_acc_label: 0.6096, source_val_label_loss: 0.9993, target_val_label_loss: 1.1966, \n",
      "=============================================================\n"
     ]
    },
    {
     "name": "stdout",
     "output_type": "stream",
     "text": [
      "epoch: 10, [batch: 1 / 12600], examples_per_second: 0.9867, train_label_loss: 0.2570, \n"
     ]
    },
    {
     "name": "stdout",
     "output_type": "stream",
     "text": [
      "epoch: 10, [batch: 1260 / 12600], examples_per_second: 1884.8481, train_label_loss: 0.3219, \n"
     ]
    },
    {
     "name": "stdout",
     "output_type": "stream",
     "text": [
      "epoch: 10, [batch: 2520 / 12600], examples_per_second: 3775.3806, train_label_loss: 0.1844, \n"
     ]
    },
    {
     "name": "stdout",
     "output_type": "stream",
     "text": [
      "epoch: 10, [batch: 3780 / 12600], examples_per_second: 2766.2546, train_label_loss: 0.2964, \n"
     ]
    },
    {
     "name": "stdout",
     "output_type": "stream",
     "text": [
      "epoch: 10, [batch: 5040 / 12600], examples_per_second: 1769.2100, train_label_loss: 0.2616, \n"
     ]
    },
    {
     "name": "stdout",
     "output_type": "stream",
     "text": [
      "epoch: 10, [batch: 6300 / 12600], examples_per_second: 1786.1512, train_label_loss: 0.2108, \n"
     ]
    },
    {
     "name": "stdout",
     "output_type": "stream",
     "text": [
      "epoch: 10, [batch: 7560 / 12600], examples_per_second: 1780.8418, train_label_loss: 0.2913, \n"
     ]
    },
    {
     "name": "stdout",
     "output_type": "stream",
     "text": [
      "epoch: 10, [batch: 8820 / 12600], examples_per_second: 3278.2491, train_label_loss: 0.2318, \n"
     ]
    },
    {
     "name": "stdout",
     "output_type": "stream",
     "text": [
      "epoch: 10, [batch: 10080 / 12600], examples_per_second: 4087.2101, train_label_loss: 0.3760, \n"
     ]
    },
    {
     "name": "stdout",
     "output_type": "stream",
     "text": [
      "epoch: 10, [batch: 11340 / 12600], examples_per_second: 2051.6794, train_label_loss: 0.2333, \n"
     ]
    },
    {
     "name": "stdout",
     "output_type": "stream",
     "text": [
      "=============================================================\n",
      "epoch: 10, source_val_acc_label: 0.6864, target_val_acc_label: 0.6059, source_val_label_loss: 1.0449, target_val_label_loss: 1.2408, \n",
      "=============================================================\n"
     ]
    },
    {
     "name": "stdout",
     "output_type": "stream",
     "text": [
      "epoch: 11, [batch: 1 / 12600], examples_per_second: 0.9566, train_label_loss: 0.2168, \n"
     ]
    },
    {
     "name": "stdout",
     "output_type": "stream",
     "text": [
      "epoch: 11, [batch: 1260 / 12600], examples_per_second: 1799.7096, train_label_loss: 0.1028, \n"
     ]
    },
    {
     "name": "stdout",
     "output_type": "stream",
     "text": [
      "epoch: 11, [batch: 2520 / 12600], examples_per_second: 1780.8833, train_label_loss: 0.3586, \n"
     ]
    },
    {
     "name": "stdout",
     "output_type": "stream",
     "text": [
      "epoch: 11, [batch: 3780 / 12600], examples_per_second: 1770.6616, train_label_loss: 0.1362, \n"
     ]
    },
    {
     "name": "stdout",
     "output_type": "stream",
     "text": [
      "epoch: 11, [batch: 5040 / 12600], examples_per_second: 2537.0693, train_label_loss: 0.2734, \n"
     ]
    },
    {
     "name": "stdout",
     "output_type": "stream",
     "text": [
      "epoch: 11, [batch: 6300 / 12600], examples_per_second: 3963.8449, train_label_loss: 0.5107, \n"
     ]
    },
    {
     "name": "stdout",
     "output_type": "stream",
     "text": [
      "epoch: 11, [batch: 7560 / 12600], examples_per_second: 2029.7011, train_label_loss: 0.1521, \n"
     ]
    },
    {
     "name": "stdout",
     "output_type": "stream",
     "text": [
      "epoch: 11, [batch: 8820 / 12600], examples_per_second: 1933.7909, train_label_loss: 0.2050, \n"
     ]
    },
    {
     "name": "stdout",
     "output_type": "stream",
     "text": [
      "epoch: 11, [batch: 10080 / 12600], examples_per_second: 1933.0170, train_label_loss: 0.1280, \n"
     ]
    },
    {
     "name": "stdout",
     "output_type": "stream",
     "text": [
      "epoch: 11, [batch: 11340 / 12600], examples_per_second: 2311.8134, train_label_loss: 0.3831, \n"
     ]
    },
    {
     "name": "stdout",
     "output_type": "stream",
     "text": [
      "=============================================================\n",
      "epoch: 11, source_val_acc_label: 0.6810, target_val_acc_label: 0.5957, source_val_label_loss: 1.1069, target_val_label_loss: 1.3048, \n",
      "=============================================================\n"
     ]
    },
    {
     "name": "stdout",
     "output_type": "stream",
     "text": [
      "Patience (3) exhausted\n"
     ]
    }
   ],
   "source": [
    "###################################\n",
    "# train\n",
    "###################################\n",
    "jig = PTN_Train_Eval_Test_Jig(model, p.BEST_MODEL_PATH, p.device)\n",
    "\n",
    "jig.train(\n",
    "    train_iterable=datasets.source.processed.train,\n",
    "    source_val_iterable=datasets.source.processed.val,\n",
    "    target_val_iterable=datasets.target.processed.val,\n",
    "    num_epochs=p.n_epoch,\n",
    "    num_logs_per_epoch=p.NUM_LOGS_PER_EPOCH,\n",
    "    patience=p.patience,\n",
    "    optimizer=optimizer,\n",
    "    criteria_for_best=p.criteria_for_best,\n",
    ")"
   ]
  },
  {
   "cell_type": "code",
   "execution_count": 14,
   "id": "31e8fabf",
   "metadata": {
    "execution": {
     "iopub.execute_input": "2022-03-26T10:51:48.454691Z",
     "iopub.status.busy": "2022-03-26T10:51:48.454038Z",
     "iopub.status.idle": "2022-03-26T10:51:48.483426Z",
     "shell.execute_reply": "2022-03-26T10:51:48.482890Z"
    },
    "papermill": {
     "duration": 0.091082,
     "end_time": "2022-03-26T10:51:48.483573",
     "exception": false,
     "start_time": "2022-03-26T10:51:48.392491",
     "status": "completed"
    },
    "tags": []
   },
   "outputs": [],
   "source": [
    "total_experiment_time_secs = time.time() - start_time_secs"
   ]
  },
  {
   "cell_type": "code",
   "execution_count": 15,
   "id": "87b9595b",
   "metadata": {
    "execution": {
     "iopub.execute_input": "2022-03-26T10:51:48.595160Z",
     "iopub.status.busy": "2022-03-26T10:51:48.594506Z",
     "iopub.status.idle": "2022-03-26T11:03:27.605514Z",
     "shell.execute_reply": "2022-03-26T11:03:27.604705Z"
    },
    "papermill": {
     "duration": 699.067381,
     "end_time": "2022-03-26T11:03:27.605710",
     "exception": false,
     "start_time": "2022-03-26T10:51:48.538329",
     "status": "completed"
    },
    "tags": []
   },
   "outputs": [],
   "source": [
    "###################################\n",
    "# Evaluate the model\n",
    "###################################\n",
    "source_test_label_accuracy, source_test_label_loss = jig.test(datasets.source.processed.test)\n",
    "target_test_label_accuracy, target_test_label_loss = jig.test(datasets.target.processed.test)\n",
    "\n",
    "source_val_label_accuracy, source_val_label_loss = jig.test(datasets.source.processed.val)\n",
    "target_val_label_accuracy, target_val_label_loss = jig.test(datasets.target.processed.val)\n",
    "\n",
    "history = jig.get_history()\n",
    "\n",
    "total_epochs_trained = len(history[\"epoch_indices\"])\n",
    "\n",
    "val_dl = Iterable_Aggregator((datasets.source.original.val,datasets.target.original.val))\n",
    "\n",
    "confusion = ptn_confusion_by_domain_over_dataloader(model, p.device, val_dl)\n",
    "per_domain_accuracy = per_domain_accuracy_from_confusion(confusion)\n",
    "\n",
    "# Add a key to per_domain_accuracy for if it was a source domain\n",
    "for domain, accuracy in per_domain_accuracy.items():\n",
    "    per_domain_accuracy[domain] = {\n",
    "        \"accuracy\": accuracy,\n",
    "        \"source?\": domain in p.domains_source\n",
    "    }\n",
    "\n",
    "# Do an independent accuracy assesment JUST TO BE SURE!\n",
    "# _source_test_label_accuracy = independent_accuracy_assesment(model, datasets.source.processed.test, p.device)\n",
    "# _target_test_label_accuracy = independent_accuracy_assesment(model, datasets.target.processed.test, p.device)\n",
    "# _source_val_label_accuracy = independent_accuracy_assesment(model, datasets.source.processed.val, p.device)\n",
    "# _target_val_label_accuracy = independent_accuracy_assesment(model, datasets.target.processed.val, p.device)\n",
    "\n",
    "# assert(_source_test_label_accuracy == source_test_label_accuracy)\n",
    "# assert(_target_test_label_accuracy == target_test_label_accuracy)\n",
    "# assert(_source_val_label_accuracy == source_val_label_accuracy)\n",
    "# assert(_target_val_label_accuracy == target_val_label_accuracy)\n",
    "\n",
    "experiment = {\n",
    "    \"experiment_name\": p.experiment_name,\n",
    "    \"parameters\": dict(p),\n",
    "    \"results\": {\n",
    "        \"source_test_label_accuracy\": source_test_label_accuracy,\n",
    "        \"source_test_label_loss\": source_test_label_loss,\n",
    "        \"target_test_label_accuracy\": target_test_label_accuracy,\n",
    "        \"target_test_label_loss\": target_test_label_loss,\n",
    "        \"source_val_label_accuracy\": source_val_label_accuracy,\n",
    "        \"source_val_label_loss\": source_val_label_loss,\n",
    "        \"target_val_label_accuracy\": target_val_label_accuracy,\n",
    "        \"target_val_label_loss\": target_val_label_loss,\n",
    "        \"total_epochs_trained\": total_epochs_trained,\n",
    "        \"total_experiment_time_secs\": total_experiment_time_secs,\n",
    "        \"confusion\": confusion,\n",
    "        \"per_domain_accuracy\": per_domain_accuracy,\n",
    "    },\n",
    "    \"history\": history,\n",
    "    \"dataset_metrics\": get_dataset_metrics(datasets, \"ptn\"),\n",
    "}"
   ]
  },
  {
   "cell_type": "code",
   "execution_count": 16,
   "id": "54a21829",
   "metadata": {
    "execution": {
     "iopub.execute_input": "2022-03-26T11:03:27.729066Z",
     "iopub.status.busy": "2022-03-26T11:03:27.728686Z",
     "iopub.status.idle": "2022-03-26T11:03:27.977748Z",
     "shell.execute_reply": "2022-03-26T11:03:27.976938Z"
    },
    "papermill": {
     "duration": 0.310423,
     "end_time": "2022-03-26T11:03:27.977935",
     "exception": false,
     "start_time": "2022-03-26T11:03:27.667512",
     "status": "completed"
    },
    "tags": []
   },
   "outputs": [
    {
     "data": {
      "image/png": "[encoded data removed]",
      "text/plain": [
       "<Figure size 1080x504 with 1 Axes>"
      ]
     },
     "metadata": {
      "needs_background": "light"
     },
     "output_type": "display_data"
    }
   ],
   "source": [
    "ax = get_loss_curve(experiment)\n",
    "plt.show()"
   ]
  },
  {
   "cell_type": "code",
   "execution_count": 17,
   "id": "fd8a0f60",
   "metadata": {
    "execution": {
     "iopub.execute_input": "2022-03-26T11:03:28.092190Z",
     "iopub.status.busy": "2022-03-26T11:03:28.091649Z",
     "iopub.status.idle": "2022-03-26T11:03:28.476611Z",
     "shell.execute_reply": "2022-03-26T11:03:28.477296Z"
    },
    "papermill": {
     "duration": 0.442542,
     "end_time": "2022-03-26T11:03:28.477514",
     "exception": false,
     "start_time": "2022-03-26T11:03:28.034972",
     "status": "completed"
    },
    "tags": []
   },
   "outputs": [
    {
     "data": {
      "text/plain": [
       "<AxesSubplot:title={'center':'Results'}>"
      ]
     },
     "execution_count": 17,
     "metadata": {},
     "output_type": "execute_result"
    },
    {
     "data": {
      "image/png": "[encoded data removed]",
      "text/plain": [
       "<Figure size 1080x504 with 1 Axes>"
      ]
     },
     "metadata": {
      "needs_background": "light"
     },
     "output_type": "display_data"
    }
   ],
   "source": [
    "get_results_table(experiment)"
   ]
  },
  {
   "cell_type": "code",
   "execution_count": 18,
   "id": "cf8dc689",
   "metadata": {
    "execution": {
     "iopub.execute_input": "2022-03-26T11:03:28.600315Z",
     "iopub.status.busy": "2022-03-26T11:03:28.599935Z",
     "iopub.status.idle": "2022-03-26T11:03:28.836353Z",
     "shell.execute_reply": "2022-03-26T11:03:28.837036Z"
    },
    "papermill": {
     "duration": 0.295953,
     "end_time": "2022-03-26T11:03:28.837245",
     "exception": false,
     "start_time": "2022-03-26T11:03:28.541292",
     "status": "completed"
    },
    "tags": []
   },
   "outputs": [
    {
     "data": {
      "text/plain": [
       "<AxesSubplot:title={'center':'Per Domain Validation Accuracy'}, xlabel='domain'>"
      ]
     },
     "execution_count": 18,
     "metadata": {},
     "output_type": "execute_result"
    },
    {
     "data": {
      "image/png": "[encoded data removed]",
      "text/plain": [
       "<Figure size 1080x504 with 1 Axes>"
      ]
     },
     "metadata": {
      "needs_background": "light"
     },
     "output_type": "display_data"
    }
   ],
   "source": [
    "get_domain_accuracies(experiment)"
   ]
  },
  {
   "cell_type": "code",
   "execution_count": 19,
   "id": "a74ae082",
   "metadata": {
    "execution": {
     "iopub.execute_input": "2022-03-26T11:03:28.958900Z",
     "iopub.status.busy": "2022-03-26T11:03:28.958517Z",
     "iopub.status.idle": "2022-03-26T11:03:28.984194Z",
     "shell.execute_reply": "2022-03-26T11:03:28.984868Z"
    },
    "papermill": {
     "duration": 0.08733,
     "end_time": "2022-03-26T11:03:28.985057",
     "exception": false,
     "start_time": "2022-03-26T11:03:28.897727",
     "status": "completed"
    },
    "tags": []
   },
   "outputs": [
    {
     "name": "stdout",
     "output_type": "stream",
     "text": [
      "Source Test Label Accuracy: 0.6946180555555556 Target Test Label Accuracy: 0.6158541666666667\n",
      "Source Val Label Accuracy: 0.6937673611111111 Target Val Label Accuracy: 0.6177083333333333\n"
     ]
    }
   ],
   "source": [
    "print(\"Source Test Label Accuracy:\", experiment[\"results\"][\"source_test_label_accuracy\"], \"Target Test Label Accuracy:\", experiment[\"results\"][\"target_test_label_accuracy\"])\n",
    "print(\"Source Val Label Accuracy:\", experiment[\"results\"][\"source_val_label_accuracy\"], \"Target Val Label Accuracy:\", experiment[\"results\"][\"target_val_label_accuracy\"])"
   ]
  },
  {
   "cell_type": "code",
   "execution_count": 20,
   "id": "dacca602",
   "metadata": {
    "execution": {
     "iopub.execute_input": "2022-03-26T11:03:29.105413Z",
     "iopub.status.busy": "2022-03-26T11:03:29.105039Z",
     "iopub.status.idle": "2022-03-26T11:03:29.128234Z",
     "shell.execute_reply": "2022-03-26T11:03:29.128912Z"
    },
    "papermill": {
     "duration": 0.083001,
     "end_time": "2022-03-26T11:03:29.129103",
     "exception": false,
     "start_time": "2022-03-26T11:03:29.046102",
     "status": "completed"
    },
    "tags": [
     "experiment_json"
    ]
   },
   "outputs": [
    {
     "data": {
      "text/plain": [
       "'{\"experiment_name\": \"tuned_1v2:oracle.run1_limited\", \"parameters\": {\"experiment_name\": \"tuned_1v2:oracle.run1_limited\", \"device\": \"cuda\", \"lr\": 0.0001, \"labels_source\": [\"3123D52\", \"3123D65\", \"3123D79\", \"3123D80\", \"3123D54\", \"3123D70\", \"3123D7B\", \"3123D89\", \"3123D58\", \"3123D76\", \"3123D7D\", \"3123EFE\", \"3123D64\", \"3123D78\", \"3123D7E\", \"3124E4A\"], \"labels_target\": [\"3123D52\", \"3123D65\", \"3123D79\", \"3123D80\", \"3123D54\", \"3123D70\", \"3123D7B\", \"3123D89\", \"3123D58\", \"3123D76\", \"3123D7D\", \"3123EFE\", \"3123D64\", \"3123D78\", \"3123D7E\", \"3124E4A\"], \"episode_transforms_source\": [], \"episode_transforms_target\": [], \"domains_source\": [8, 32, 50], \"domains_target\": [14, 20, 26, 38, 44], \"num_examples_per_domain_per_label_source\": -1, \"num_examples_per_domain_per_label_target\": -1, \"n_shot\": 3, \"n_way\": 16, \"n_query\": 2, \"train_k_factor\": 3, \"val_k_factor\": 2, \"test_k_factor\": 2, \"torch_default_dtype\": \"torch.float32\", \"n_epoch\": 50, \"patience\": 3, \"criteria_for_best\": \"target_accuracy\", \"x_net\": [{\"class\": \"nnReshape\", \"kargs\": {\"shape\": [-1, 1, 2, 256]}}, {\"class\": \"Conv2d\", \"kargs\": {\"in_channels\": 1, \"out_channels\": 256, \"kernel_size\": [1, 7], \"bias\": false, \"padding\": [0, 3]}}, {\"class\": \"ReLU\", \"kargs\": {\"inplace\": true}}, {\"class\": \"BatchNorm2d\", \"kargs\": {\"num_features\": 256}}, {\"class\": \"Conv2d\", \"kargs\": {\"in_channels\": 256, \"out_channels\": 80, \"kernel_size\": [2, 7], \"bias\": true, \"padding\": [0, 3]}}, {\"class\": \"ReLU\", \"kargs\": {\"inplace\": true}}, {\"class\": \"BatchNorm2d\", \"kargs\": {\"num_features\": 80}}, {\"class\": \"Flatten\", \"kargs\": {}}, {\"class\": \"Linear\", \"kargs\": {\"in_features\": 20480, \"out_features\": 256}}, {\"class\": \"ReLU\", \"kargs\": {\"inplace\": true}}, {\"class\": \"BatchNorm1d\", \"kargs\": {\"num_features\": 256}}, {\"class\": \"Linear\", \"kargs\": {\"in_features\": 256, \"out_features\": 256}}], \"NUM_LOGS_PER_EPOCH\": 10, \"BEST_MODEL_PATH\": \"./best_model.pth\", \"pickle_name\": \"oracle.Run1_10kExamples_stratified_ds.2022A.pkl\", \"x_transforms_source\": [\"unit_power\"], \"x_transforms_target\": [\"unit_power\"], \"dataset_seed\": 420, \"seed\": 420}, \"results\": {\"source_test_label_accuracy\": 0.6946180555555556, \"source_test_label_loss\": 0.939159095287323, \"target_test_label_accuracy\": 0.6158541666666667, \"target_test_label_loss\": 1.1192651987075806, \"source_val_label_accuracy\": 0.6937673611111111, \"source_val_label_loss\": 0.9356281161308289, \"target_val_label_accuracy\": 0.6177083333333333, \"target_val_label_loss\": 1.118107557296753, \"total_epochs_trained\": 11, \"total_experiment_time_secs\": 6904.063951253891, \"confusion\": {\"8\": {\"15\": {\"15\": 790, \"8\": 78, \"12\": 291, \"3\": 15, \"2\": 21, \"7\": 4, \"6\": 1}, \"5\": {\"5\": 1011, \"14\": 12, \"10\": 97, \"1\": 72, \"11\": 8}, \"7\": {\"7\": 802, \"6\": 287, \"0\": 67, \"4\": 9, \"8\": 13, \"2\": 7, \"13\": 13, \"15\": 2}, \"4\": {\"13\": 225, \"4\": 506, \"0\": 86, \"14\": 187, \"6\": 129, \"10\": 42, \"1\": 7, \"7\": 15, \"11\": 2, \"8\": 1}, \"10\": {\"13\": 100, \"4\": 49, \"10\": 739, \"14\": 250, \"5\": 29, \"1\": 19, \"0\": 12, \"11\": 2}, \"11\": {\"11\": 703, \"1\": 420, \"14\": 25, \"10\": 7, \"8\": 18, \"6\": 3, \"5\": 21, \"4\": 3}, \"12\": {\"12\": 589, \"3\": 217, \"15\": 356, \"2\": 14, \"8\": 24}, \"0\": {\"0\": 636, \"7\": 104, \"4\": 76, \"13\": 263, \"6\": 95, \"10\": 22, \"14\": 4}, \"14\": {\"1\": 76, \"13\": 103, \"14\": 569, \"4\": 186, \"10\": 220, \"0\": 9, \"11\": 10, \"6\": 20, \"5\": 6, \"8\": 1}, \"8\": {\"8\": 1087, \"6\": 16, \"15\": 78, \"7\": 8, \"12\": 6, \"11\": 4, \"4\": 1}, \"13\": {\"4\": 181, \"0\": 330, \"13\": 346, \"10\": 149, \"14\": 116, \"6\": 61, \"1\": 3, \"7\": 11, \"11\": 2, \"5\": 1}, \"6\": {\"0\": 96, \"6\": 623, \"4\": 127, \"7\": 304, \"13\": 21, \"8\": 23, \"14\": 6}, \"1\": {\"11\": 363, \"1\": 697, \"14\": 86, \"5\": 27, \"10\": 24, \"4\": 3}, \"3\": {\"3\": 937, \"12\": 97, \"2\": 153, \"15\": 13}, \"9\": {\"9\": 1200}, \"2\": {\"2\": 916, \"3\": 199, \"15\": 39, \"12\": 22, \"7\": 22, \"6\": 2}}, \"50\": {\"4\": {\"6\": 154, \"4\": 479, \"15\": 224, \"5\": 104, \"7\": 31, \"1\": 179, \"13\": 27, \"2\": 1, \"14\": 1}, \"10\": {\"13\": 21, \"10\": 1058, \"7\": 32, \"0\": 61, \"8\": 26, \"5\": 2}, \"15\": {\"1\": 202, \"15\": 806, \"4\": 139, \"11\": 42, \"6\": 10, \"14\": 1}, \"0\": {\"2\": 144, \"0\": 990, \"10\": 53, \"13\": 9, \"6\": 3, \"1\": 1}, \"6\": {\"5\": 99, \"4\": 160, \"13\": 89, \"6\": 711, \"1\": 124, \"15\": 12, \"7\": 5}, \"3\": {\"3\": 1177, \"8\": 23}, \"7\": {\"13\": 259, \"5\": 164, \"10\": 28, \"7\": 727, \"0\": 3, \"4\": 10, \"6\": 9}, \"2\": {\"2\": 1105, \"0\": 94, \"1\": 1}, \"8\": {\"8\": 1163, \"10\": 26, \"3\": 11}, \"11\": {\"11\": 1028, \"12\": 12, \"9\": 112, \"15\": 34, \"14\": 10, \"1\": 4}, \"14\": {\"14\": 1163, \"12\": 23, \"9\": 2, \"11\": 10, \"1\": 2}, \"12\": {\"12\": 1041, \"14\": 62, \"11\": 7, \"9\": 90}, \"13\": {\"13\": 620, \"10\": 15, \"5\": 264, \"7\": 219, \"6\": 70, \"4\": 4, \"0\": 8}, \"9\": {\"9\": 913, \"11\": 170, \"12\": 109, \"14\": 8}, \"5\": {\"5\": 343, \"4\": 120, \"7\": 276, \"13\": 235, \"6\": 173, \"10\": 15, \"15\": 7, \"1\": 24, \"0\": 5, \"2\": 2}, \"1\": {\"1\": 656, \"15\": 275, \"4\": 153, \"6\": 102, \"5\": 5, \"2\": 1, \"11\": 7, \"14\": 1}}, \"32\": {\"7\": {\"14\": 201, \"5\": 117, \"2\": 40, \"7\": 504, \"4\": 161, \"11\": 37, \"13\": 110, \"0\": 24, \"8\": 3, \"3\": 3}, \"2\": {\"2\": 917, \"4\": 221, \"0\": 39, \"7\": 19, \"14\": 1, \"5\": 2, \"13\": 1}, \"5\": {\"5\": 322, \"13\": 315, \"8\": 114, \"7\": 138, \"0\": 63, \"4\": 130, \"2\": 21, \"14\": 31, \"11\": 21, \"3\": 45}, \"6\": {\"6\": 1200}, \"13\": {\"13\": 394, \"5\": 292, \"3\": 87, \"7\": 122, \"14\": 55, \"8\": 112, \"4\": 60, \"0\": 46, \"11\": 31, \"2\": 1}, \"4\": {\"4\": 569, \"2\": 233, \"7\": 140, \"5\": 78, \"0\": 139, \"8\": 5, \"14\": 14, \"13\": 22}, \"3\": {\"3\": 1081, \"13\": 59, \"5\": 8, \"11\": 33, \"8\": 10, \"7\": 3, \"14\": 6}, \"0\": {\"4\": 166, \"0\": 673, \"2\": 79, \"8\": 105, \"5\": 81, \"14\": 14, \"13\": 38, \"7\": 44}, \"9\": {\"9\": 1196, \"12\": 4}, \"12\": {\"12\": 1200}, \"8\": {\"8\": 852, \"5\": 92, \"13\": 113, \"0\": 98, \"14\": 5, \"3\": 26, \"7\": 4, \"4\": 9, \"15\": 1}, \"14\": {\"7\": 218, \"14\": 441, \"11\": 310, \"3\": 13, \"2\": 15, \"13\": 90, \"4\": 32, \"0\": 22, \"5\": 54, \"8\": 5}, \"15\": {\"15\": 1195, \"8\": 4, \"3\": 1}, \"11\": {\"14\": 204, \"11\": 896, \"7\": 34, \"3\": 24, \"13\": 36, \"5\": 5, \"8\": 1}, \"10\": {\"10\": 1195, \"1\": 5}, \"1\": {\"1\": 1195, \"10\": 5}}, \"20\": {\"15\": {\"15\": 645, \"1\": 224, \"0\": 109, \"13\": 52, \"9\": 6, \"5\": 100, \"3\": 8, \"12\": 49, \"2\": 7}, \"5\": {\"0\": 256, \"1\": 218, \"5\": 339, \"15\": 111, \"12\": 185, \"3\": 55, \"9\": 13, \"4\": 19, \"13\": 3, \"2\": 1}, \"7\": {\"7\": 700, \"9\": 93, \"2\": 186, \"8\": 94, \"11\": 2, \"3\": 37, \"6\": 59, \"10\": 8, \"13\": 2, \"4\": 10, \"14\": 6, \"12\": 3}, \"4\": {\"4\": 754, \"8\": 225, \"10\": 72, \"3\": 92, \"9\": 10, \"7\": 12, \"5\": 7, \"0\": 8, \"1\": 3, \"2\": 2, \"14\": 4, \"12\": 11}, \"10\": {\"10\": 799, \"14\": 240, \"4\": 48, \"8\": 91, \"6\": 21, \"7\": 1}, \"11\": {\"11\": 1191, \"7\": 5, \"6\": 2, \"2\": 2}, \"12\": {\"3\": 219, \"4\": 20, \"0\": 81, \"12\": 323, \"9\": 135, \"1\": 131, \"13\": 22, \"5\": 137, \"2\": 70, \"15\": 49, \"8\": 4, \"7\": 9}, \"0\": {\"0\": 400, \"1\": 153, \"9\": 15, \"5\": 305, \"15\": 130, \"4\": 17, \"12\": 108, \"3\": 49, \"2\": 13, \"8\": 2, \"13\": 5, \"7\": 3}, \"14\": {\"14\": 715, \"10\": 220, \"8\": 50, \"6\": 211, \"7\": 4}, \"8\": {\"4\": 227, \"8\": 617, \"7\": 134, \"3\": 50, \"10\": 77, \"14\": 51, \"12\": 6, \"6\": 20, \"9\": 12, \"2\": 6}, \"13\": {\"13\": 960, \"9\": 42, \"5\": 5, \"2\": 117, \"15\": 37, \"12\": 14, \"1\": 12, \"7\": 7, \"0\": 2, \"3\": 4}, \"6\": {\"14\": 195, \"6\": 919, \"10\": 17, \"8\": 20, \"7\": 44, \"11\": 5}, \"1\": {\"5\": 240, \"1\": 328, \"3\": 32, \"12\": 153, \"15\": 253, \"0\": 128, \"13\": 20, \"9\": 32, \"4\": 1, \"2\": 13}, \"3\": {\"9\": 185, \"2\": 90, \"12\": 214, \"3\": 394, \"8\": 46, \"15\": 6, \"7\": 61, \"1\": 39, \"4\": 87, \"5\": 41, \"13\": 7, \"0\": 30}, \"9\": {\"12\": 143, \"2\": 299, \"7\": 103, \"9\": 335, \"3\": 201, \"5\": 11, \"13\": 48, \"4\": 15, \"1\": 19, \"8\": 15, \"15\": 6, \"0\": 4, \"10\": 1}, \"2\": {\"9\": 266, \"2\": 449, \"8\": 8, \"12\": 58, \"13\": 95, \"3\": 99, \"7\": 190, \"1\": 18, \"0\": 3, \"11\": 1, \"15\": 5, \"5\": 7, \"4\": 1}}, \"26\": {\"4\": {\"14\": 239, \"4\": 361, \"10\": 73, \"8\": 127, \"0\": 156, \"1\": 134, \"7\": 92, \"2\": 6, \"3\": 6, \"9\": 4, \"6\": 1, \"15\": 1}, \"10\": {\"14\": 92, \"8\": 151, \"4\": 84, \"9\": 30, \"0\": 248, \"10\": 419, \"6\": 108, \"15\": 17, \"1\": 35, \"7\": 11, \"2\": 5}, \"15\": {\"15\": 374, \"9\": 258, \"2\": 53, \"13\": 76, \"5\": 250, \"4\": 7, \"7\": 23, \"8\": 81, \"6\": 49, \"10\": 17, \"3\": 4, \"0\": 8}, \"0\": {\"14\": 184, \"0\": 261, \"4\": 170, \"8\": 119, \"10\": 272, \"6\": 41, \"7\": 30, \"1\": 93, \"9\": 21, \"15\": 8, \"2\": 1}, \"6\": {\"6\": 785, \"9\": 142, \"13\": 23, \"10\": 102, \"15\": 51, \"5\": 14, \"8\": 55, \"2\": 1, \"0\": 26, \"14\": 1}, \"3\": {\"3\": 681, \"2\": 289, \"7\": 216, \"4\": 7, \"8\": 2, \"5\": 1, \"15\": 3, \"14\": 1}, \"7\": {\"4\": 92, \"8\": 80, \"7\": 506, \"3\": 219, \"2\": 184, \"14\": 35, \"5\": 11, \"15\": 22, \"10\": 5, \"0\": 21, \"1\": 18, \"9\": 7}, \"2\": {\"3\": 377, \"2\": 387, \"5\": 110, \"7\": 143, \"15\": 87, \"8\": 46, \"13\": 9, \"9\": 29, \"10\": 4, \"4\": 4, \"0\": 2, \"6\": 2}, \"8\": {\"0\": 116, \"9\": 139, \"7\": 101, \"8\": 353, \"4\": 107, \"6\": 64, \"10\": 119, \"15\": 98, \"5\": 21, \"14\": 39, \"2\": 26, \"3\": 5, \"1\": 12}, \"11\": {\"11\": 1174, \"12\": 26}, \"14\": {\"14\": 347, \"4\": 200, \"1\": 299, \"0\": 188, \"10\": 95, \"8\": 45, \"7\": 19, \"6\": 1, \"2\": 1, \"3\": 2, \"15\": 1, \"9\": 2}, \"12\": {\"12\": 1188, \"11\": 11, \"6\": 1}, \"13\": {\"13\": 813, \"15\": 96, \"5\": 227, \"2\": 15, \"9\": 30, \"6\": 16, \"3\": 2, \"7\": 1}, \"9\": {\"9\": 377, \"6\": 170, \"15\": 289, \"2\": 20, \"13\": 43, \"5\": 104, \"8\": 124, \"10\": 28, \"0\": 21, \"14\": 4, \"7\": 16, \"4\": 3, \"3\": 1}, \"5\": {\"6\": 17, \"13\": 187, \"15\": 250, \"5\": 529, \"9\": 102, \"4\": 3, \"2\": 65, \"3\": 6, \"7\": 10, \"8\": 26, \"0\": 3, \"10\": 2}, \"1\": {\"1\": 552, \"7\": 27, \"4\": 177, \"10\": 48, \"14\": 294, \"0\": 80, \"8\": 13, \"3\": 5, \"6\": 1, \"9\": 3}}, \"38\": {\"7\": {\"0\": 203, \"7\": 901, \"3\": 15, \"5\": 45, \"12\": 1, \"8\": 34, \"10\": 1}, \"2\": {\"2\": 1047, \"13\": 28, \"14\": 116, \"11\": 2, \"10\": 3, \"15\": 4}, \"5\": {\"7\": 87, \"8\": 304, \"5\": 459, \"3\": 25, \"6\": 69, \"0\": 134, \"1\": 17, \"15\": 56, \"13\": 6, \"9\": 37, \"10\": 6}, \"6\": {\"6\": 884, \"9\": 304, \"5\": 8, \"8\": 1, \"3\": 3}, \"13\": {\"15\": 339, \"13\": 677, \"2\": 28, \"8\": 27, \"10\": 95, \"1\": 24, \"14\": 3, \"5\": 4, \"0\": 2, \"12\": 1}, \"4\": {\"4\": 1117, \"12\": 79, \"7\": 2, \"10\": 2}, \"3\": {\"3\": 1007, \"5\": 11, \"9\": 106, \"0\": 24, \"7\": 42, \"6\": 10}, \"0\": {\"7\": 240, \"0\": 378, \"10\": 47, \"3\": 66, \"8\": 313, \"5\": 137, \"9\": 5, \"12\": 3, \"15\": 3, \"4\": 6, \"13\": 1, \"6\": 1}, \"9\": {\"6\": 419, \"9\": 671, \"3\": 90, \"5\": 17, \"7\": 1, \"0\": 1, \"1\": 1}, \"12\": {\"12\": 1080, \"4\": 48, \"0\": 1, \"10\": 66, \"11\": 2, \"8\": 1, \"13\": 1, \"14\": 1}, \"8\": {\"7\": 41, \"8\": 634, \"10\": 42, \"0\": 207, \"15\": 28, \"5\": 232, \"6\": 4, \"13\": 11, \"9\": 1}, \"14\": {\"14\": 860, \"11\": 237, \"2\": 66, \"12\": 13, \"10\": 19, \"13\": 5}, \"15\": {\"15\": 673, \"13\": 329, \"1\": 101, \"8\": 45, \"5\": 40, \"10\": 10, \"2\": 2}, \"11\": {\"14\": 309, \"11\": 828, \"12\": 41, \"2\": 8, \"10\": 12, \"13\": 2}, \"10\": {\"14\": 17, \"10\": 818, \"15\": 11, \"8\": 75, \"13\": 80, \"5\": 4, \"12\": 141, \"0\": 31, \"11\": 5, \"7\": 9, \"4\": 7, \"2\": 2}, \"1\": {\"1\": 1107, \"15\": 84, \"5\": 3, \"13\": 4, \"8\": 1, \"6\": 1}}, \"14\": {\"11\": {\"11\": 1018, \"0\": 69, \"9\": 63, \"10\": 50}, \"7\": {\"15\": 71, \"7\": 1114, \"1\": 11, \"5\": 4}, \"6\": {\"6\": 590, \"14\": 96, \"2\": 97, \"13\": 411, \"4\": 3, \"5\": 3}, \"12\": {\"12\": 1189, \"9\": 11}, \"4\": {\"4\": 646, \"2\": 130, \"3\": 179, \"5\": 193, \"6\": 2, \"1\": 34, \"14\": 14, \"13\": 2}, \"13\": {\"6\": 400, \"14\": 260, \"13\": 406, \"4\": 7, \"2\": 105, \"5\": 15, \"15\": 5, \"3\": 2}, \"8\": {\"8\": 1200}, \"5\": {\"5\": 666, \"4\": 232, \"2\": 71, \"1\": 189, \"3\": 15, \"13\": 2, \"7\": 19, \"15\": 5, \"14\": 1}, \"14\": {\"14\": 817, \"13\": 153, \"2\": 82, \"6\": 76, \"3\": 58, \"4\": 11, \"0\": 1, \"10\": 2}, \"3\": {\"3\": 896, \"14\": 62, \"4\": 190, \"2\": 22, \"0\": 12, \"5\": 8, \"10\": 7, \"1\": 2, \"13\": 1}, \"10\": {\"0\": 191, \"10\": 996, \"3\": 4, \"11\": 6, \"14\": 3}, \"1\": {\"1\": 975, \"5\": 185, \"4\": 28, \"2\": 2, \"7\": 8, \"3\": 2}, \"2\": {\"3\": 86, \"4\": 137, \"5\": 132, \"2\": 429, \"6\": 129, \"14\": 170, \"13\": 83, \"15\": 30, \"7\": 2, \"1\": 2}, \"15\": {\"15\": 1103, \"7\": 89, \"13\": 1, \"2\": 2, \"5\": 5}, \"9\": {\"9\": 1170, \"12\": 6, \"11\": 23, \"8\": 1}, \"0\": {\"0\": 922, \"11\": 37, \"10\": 205, \"3\": 35, \"14\": 1}}, \"44\": {\"10\": {\"10\": 837, \"12\": 129, \"1\": 98, \"2\": 133, \"3\": 1, \"7\": 2}, \"6\": {\"6\": 737, \"9\": 119, \"7\": 82, \"11\": 34, \"13\": 223, \"2\": 5}, \"13\": {\"13\": 755, \"11\": 67, \"6\": 190, \"9\": 171, \"7\": 11, \"4\": 6}, \"3\": {\"3\": 1055, \"1\": 135, \"12\": 7, \"10\": 3}, \"9\": {\"7\": 266, \"9\": 673, \"13\": 132, \"6\": 113, \"2\": 16}, \"1\": {\"12\": 239, \"1\": 657, \"3\": 152, \"10\": 112, \"2\": 39, \"7\": 1}, \"5\": {\"0\": 102, \"5\": 988, \"14\": 55, \"15\": 42, \"8\": 9, \"4\": 4}, \"11\": {\"11\": 1030, \"13\": 98, \"6\": 72}, \"4\": {\"4\": 816, \"14\": 371, \"5\": 2, \"15\": 7, \"13\": 2, \"9\": 2}, \"14\": {\"14\": 696, \"4\": 417, \"15\": 66, \"5\": 21}, \"12\": {\"1\": 236, \"12\": 846, \"10\": 99, \"3\": 18, \"2\": 1}, \"7\": {\"2\": 198, \"7\": 726, \"6\": 66, \"9\": 194, \"3\": 8, \"1\": 3, \"13\": 4, \"10\": 1}, \"0\": {\"0\": 702, \"8\": 316, \"15\": 80, \"5\": 102}, \"15\": {\"15\": 947, \"0\": 86, \"4\": 19, \"14\": 106, \"5\": 33, \"8\": 9}, \"2\": {\"7\": 192, \"2\": 813, \"1\": 58, \"10\": 123, \"12\": 4, \"9\": 4, \"3\": 4, \"6\": 2}, \"8\": {\"8\": 769, \"0\": 360, \"15\": 55, \"5\": 15, \"14\": 1}}}, \"per_domain_accuracy\": {\"8\": {\"accuracy\": 0.6328645833333333, \"source?\": true}, \"50\": {\"accuracy\": 0.728125, \"source?\": true}, \"32\": {\"accuracy\": 0.7203125, \"source?\": true}, \"20\": {\"accuracy\": 0.5139583333333333, \"source?\": false}, \"26\": {\"accuracy\": 0.47432291666666665, \"source?\": false}, \"38\": {\"accuracy\": 0.6844270833333334, \"source?\": false}, \"14\": {\"accuracy\": 0.7363020833333334, \"source?\": false}, \"44\": {\"accuracy\": 0.67953125, \"source?\": false}}}, \"history\": {\"epoch_indices\": [1, 2, 3, 4, 5, 6, 7, 8, 9, 10, 11], \"train_label_loss\": [1.418380164896685, 0.9056813455195654, 0.759588944927331, 0.670029060470443, 0.5880866686024127, 0.5138726551322237, 0.44698766720170774, 0.38803959760046197, 0.33846673039142927, 0.2984460289445188, 0.262721426880268], \"source_val_label_loss\": [1.1278584003448486, 0.9029255509376526, 0.8659075498580933, 0.8685257434844971, 0.8653310537338257, 0.89206463098526, 0.9356281161308289, 0.9830737709999084, 0.9992774128913879, 1.0448607206344604, 1.1068893671035767], \"target_val_label_loss\": [1.3853516578674316, 1.1016780138015747, 1.0662986040115356, 1.0599716901779175, 1.0496500730514526, 1.0751112699508667, 1.118107557296753, 1.1646158695220947, 1.1965878009796143, 1.2408027648925781, 1.3047800064086914], \"source_val_acc_label\": [0.5847048611111111, 0.6618576388888889, 0.67953125, 0.6712673611111111, 0.6860590277777778, 0.6902777777777778, 0.6937673611111111, 0.6875, 0.6894444444444444, 0.68640625, 0.6809895833333334], \"target_val_acc_label\": [0.4835, 0.5858958333333333, 0.601, 0.5985833333333334, 0.6126666666666667, 0.61425, 0.6177083333333333, 0.6111770833333333, 0.6095520833333333, 0.6059270833333333, 0.59571875]}, \"dataset_metrics\": {\"source\": {\"train\": {\"n_unique_x\": 336000, \"n_unique_y\": 16, \"n_batch/episode\": 12600}, \"val\": {\"n_unique_x\": 72000, \"n_unique_y\": 16, \"n_batch/episode\": 1800}, \"test\": {\"n_unique_x\": 72000, \"n_unique_y\": 16, \"n_batch/episode\": 1800}}, \"target\": {\"train\": {\"n_unique_x\": 560000, \"n_unique_y\": 16, \"n_batch/episode\": 21000}, \"val\": {\"n_unique_x\": 120000, \"n_unique_y\": 16, \"n_batch/episode\": 3000}, \"test\": {\"n_unique_x\": 120000, \"n_unique_y\": 16, \"n_batch/episode\": 3000}}}}'"
      ]
     },
     "execution_count": 20,
     "metadata": {},
     "output_type": "execute_result"
    }
   ],
   "source": [
    "json.dumps(experiment)"
   ]
  }
 ],
 "metadata": {
  "celltoolbar": "Tags",
  "kernelspec": {
   "display_name": "Python 3 (ipykernel)",
   "language": "python",
   "name": "python3"
  },
  "language_info": {
   "codemirror_mode": {
    "name": "ipython",
    "version": 3
   },
   "file_extension": ".py",
   "mimetype": "text/x-python",
   "name": "python",
   "nbconvert_exporter": "python",
   "pygments_lexer": "ipython3",
   "version": "3.8.12"
  },
  "papermill": {
   "default_parameters": {},
   "duration": 7611.940511,
   "end_time": "2022-03-26T11:03:32.753554",
   "environment_variables": {},
   "exception": null,
   "input_path": "/root/csc500-main/csc500-notebooks/templates/ptn_template.ipynb",
   "output_path": "trial.ipynb",
   "parameters": {
    "parameters": {
     "BEST_MODEL_PATH": "./best_model.pth",
     "NUM_LOGS_PER_EPOCH": 10,
     "criteria_for_best": "target_accuracy",
     "dataset_seed": 420,
     "device": "cuda",
     "domains_source": [
      8,
      32,
      50
     ],
     "domains_target": [
      14,
      20,
      26,
      38,
      44
     ],
     "episode_transforms_source": [],
     "episode_transforms_target": [],
     "experiment_name": "tuned_1v2:oracle.run1_limited",
     "labels_source": [
      "3123D52",
      "3123D65",
      "3123D79",
      "3123D80",
      "3123D54",
      "3123D70",
      "3123D7B",
      "3123D89",
      "3123D58",
      "3123D76",
      "3123D7D",
      "3123EFE",
      "3123D64",
      "3123D78",
      "3123D7E",
      "3124E4A"
     ],
     "labels_target": [
      "3123D52",
      "3123D65",
      "3123D79",
      "3123D80",
      "3123D54",
      "3123D70",
      "3123D7B",
      "3123D89",
      "3123D58",
      "3123D76",
      "3123D7D",
      "3123EFE",
      "3123D64",
      "3123D78",
      "3123D7E",
      "3124E4A"
     ],
     "lr": 0.0001,
     "n_epoch": 50,
     "n_query": 2,
     "n_shot": 3,
     "n_way": 16,
     "num_examples_per_domain_per_label_source": -1,
     "num_examples_per_domain_per_label_target": -1,
     "patience": 3,
     "pickle_name": "oracle.Run1_10kExamples_stratified_ds.2022A.pkl",
     "seed": 420,
     "test_k_factor": 2,
     "torch_default_dtype": "torch.float32",
     "train_k_factor": 3,
     "val_k_factor": 2,
     "x_net": [
      {
       "class": "nnReshape",
       "kargs": {
        "shape": [
         -1,
         1,
         2,
         256
        ]
       }
      },
      {
       "class": "Conv2d",
       "kargs": {
        "bias": false,
        "in_channels": 1,
        "kernel_size": [
         1,
         7
        ],
        "out_channels": 256,
        "padding": [
         0,
         3
        ]
       }
      },
      {
       "class": "ReLU",
       "kargs": {
        "inplace": true
       }
      },
      {
       "class": "BatchNorm2d",
       "kargs": {
        "num_features": 256
       }
      },
      {
       "class": "Conv2d",
       "kargs": {
        "bias": true,
        "in_channels": 256,
        "kernel_size": [
         2,
         7
        ],
        "out_channels": 80,
        "padding": [
         0,
         3
        ]
       }
      },
      {
       "class": "ReLU",
       "kargs": {
        "inplace": true
       }
      },
      {
       "class": "BatchNorm2d",
       "kargs": {
        "num_features": 80
       }
      },
      {
       "class": "Flatten",
       "kargs": {}
      },
      {
       "class": "Linear",
       "kargs": {
        "in_features": 20480,
        "out_features": 256
       }
      },
      {
       "class": "ReLU",
       "kargs": {
        "inplace": true
       }
      },
      {
       "class": "BatchNorm1d",
       "kargs": {
        "num_features": 256
       }
      },
      {
       "class": "Linear",
       "kargs": {
        "in_features": 256,
        "out_features": 256
       }
      }
     ],
     "x_transforms_source": [
      "unit_power"
     ],
     "x_transforms_target": [
      "unit_power"
     ]
    }
   },
   "start_time": "2022-03-26T08:56:40.813043",
   "version": "2.3.4"
  }
 },
 "nbformat": 4,
 "nbformat_minor": 5
}