{
 "cells": [
  {
   "cell_type": "markdown",
   "id": "9fea5f46",
   "metadata": {
    "papermill": {
     "duration": 0.013715,
     "end_time": "2022-04-01T22:47:27.592224",
     "exception": false,
     "start_time": "2022-04-01T22:47:27.578509",
     "status": "completed"
    },
    "tags": []
   },
   "source": [
    "# PTN Template\n",
    "This notebook serves as a template for single dataset PTN experiments  \n",
    "It can be run on its own by setting STANDALONE to True (do a find for \"STANDALONE\" to see where)  \n",
    "But it is intended to be executed as part of a *papermill.py script. See any of the   \n",
    "experimentes with a papermill script to get started with that workflow.  "
   ]
  },
  {
   "cell_type": "code",
   "execution_count": 1,
   "id": "0902182a",
   "metadata": {
    "execution": {
     "iopub.execute_input": "2022-04-01T22:47:27.624782Z",
     "iopub.status.busy": "2022-04-01T22:47:27.624316Z",
     "iopub.status.idle": "2022-04-01T22:47:28.528782Z",
     "shell.execute_reply": "2022-04-01T22:47:28.529009Z"
    },
    "papermill": {
     "duration": 0.927897,
     "end_time": "2022-04-01T22:47:28.529131",
     "exception": false,
     "start_time": "2022-04-01T22:47:27.601234",
     "status": "completed"
    },
    "tags": []
   },
   "outputs": [],
   "source": [
    "%load_ext autoreload\n",
    "%autoreload 2\n",
    "%matplotlib inline\n",
    "\n",
    "    \n",
    "import os, json, sys, time, random\n",
    "import numpy as np\n",
    "import torch\n",
    "from torch.optim import Adam\n",
    "from  easydict import EasyDict\n",
    "import matplotlib.pyplot as plt\n",
    "\n",
    "from steves_models.steves_ptn import Steves_Prototypical_Network\n",
    "\n",
    "from steves_utils.lazy_iterable_wrapper import Lazy_Iterable_Wrapper\n",
    "from steves_utils.iterable_aggregator import Iterable_Aggregator\n",
    "from steves_utils.ptn_train_eval_test_jig import  PTN_Train_Eval_Test_Jig\n",
    "from steves_utils.torch_sequential_builder import build_sequential\n",
    "from steves_utils.torch_utils import get_dataset_metrics, ptn_confusion_by_domain_over_dataloader\n",
    "from steves_utils.utils_v2 import (per_domain_accuracy_from_confusion, get_datasets_base_path)\n",
    "from steves_utils.PTN.utils import independent_accuracy_assesment\n",
    "\n",
    "from steves_utils.stratified_dataset.episodic_accessor import Episodic_Accessor_Factory\n",
    "\n",
    "from steves_utils.ptn_do_report import (\n",
    "    get_loss_curve,\n",
    "    get_results_table,\n",
    "    get_parameters_table,\n",
    "    get_domain_accuracies,\n",
    ")\n",
    "\n",
    "from steves_utils.transforms import get_chained_transform"
   ]
  },
  {
   "cell_type": "markdown",
   "id": "41c840b4",
   "metadata": {
    "papermill": {
     "duration": 0.009334,
     "end_time": "2022-04-01T22:47:28.548225",
     "exception": false,
     "start_time": "2022-04-01T22:47:28.538891",
     "status": "completed"
    },
    "tags": []
   },
   "source": [
    "# Required Parameters\n",
    "These are allowed parameters, not defaults\n",
    "Each of these values need to be present in the injected parameters (the notebook will raise an exception if they are not present)\n",
    "\n",
    "Papermill uses the cell tag \"parameters\" to inject the real parameters below this cell.\n",
    "Enable tags to see what I mean"
   ]
  },
  {
   "cell_type": "code",
   "execution_count": 2,
   "id": "fd44eb83",
   "metadata": {
    "execution": {
     "iopub.execute_input": "2022-04-01T22:47:28.568717Z",
     "iopub.status.busy": "2022-04-01T22:47:28.567692Z",
     "iopub.status.idle": "2022-04-01T22:47:28.579672Z",
     "shell.execute_reply": "2022-04-01T22:47:28.579435Z"
    },
    "papermill": {
     "duration": 0.022149,
     "end_time": "2022-04-01T22:47:28.579730",
     "exception": false,
     "start_time": "2022-04-01T22:47:28.557581",
     "status": "completed"
    },
    "tags": []
   },
   "outputs": [],
   "source": [
    "required_parameters = {\n",
    "    \"experiment_name\",\n",
    "    \"lr\",\n",
    "    \"device\",\n",
    "    \"seed\",\n",
    "    \"dataset_seed\",\n",
    "    \"labels_source\",\n",
    "    \"labels_target\",\n",
    "    \"domains_source\",\n",
    "    \"domains_target\",\n",
    "    \"num_examples_per_domain_per_label_source\",\n",
    "    \"num_examples_per_domain_per_label_target\",\n",
    "    \"n_shot\",\n",
    "    \"n_way\",\n",
    "    \"n_query\",\n",
    "    \"train_k_factor\",\n",
    "    \"val_k_factor\",\n",
    "    \"test_k_factor\",\n",
    "    \"n_epoch\",\n",
    "    \"patience\",\n",
    "    \"criteria_for_best\",\n",
    "    \"x_transforms_source\",\n",
    "    \"x_transforms_target\",\n",
    "    \"episode_transforms_source\",\n",
    "    \"episode_transforms_target\",\n",
    "    \"pickle_name\",\n",
    "    \"x_net\",\n",
    "    \"NUM_LOGS_PER_EPOCH\",\n",
    "    \"BEST_MODEL_PATH\",\n",
    "    \"torch_default_dtype\"\n",
    "}"
   ]
  },
  {
   "cell_type": "code",
   "execution_count": 3,
   "id": "fa3f0049",
   "metadata": {
    "execution": {
     "iopub.execute_input": "2022-04-01T22:47:28.607692Z",
     "iopub.status.busy": "2022-04-01T22:47:28.607323Z",
     "iopub.status.idle": "2022-04-01T22:47:28.619827Z",
     "shell.execute_reply": "2022-04-01T22:47:28.620229Z"
    },
    "papermill": {
     "duration": 0.028211,
     "end_time": "2022-04-01T22:47:28.620355",
     "exception": false,
     "start_time": "2022-04-01T22:47:28.592144",
     "status": "completed"
    },
    "tags": [
     "parameters"
    ]
   },
   "outputs": [],
   "source": [
    "\n",
    "\n",
    "standalone_parameters = {}\n",
    "standalone_parameters[\"experiment_name\"] = \"STANDALONE PTN\"\n",
    "standalone_parameters[\"lr\"] = 0.0001\n",
    "standalone_parameters[\"device\"] = \"cuda\"\n",
    "\n",
    "standalone_parameters[\"seed\"] = 1337\n",
    "standalone_parameters[\"dataset_seed\"] = 1337\n",
    "\n",
    "\n",
    "standalone_parameters[\"num_examples_per_domain_per_label_source\"]=100\n",
    "standalone_parameters[\"num_examples_per_domain_per_label_target\"]=100\n",
    "\n",
    "standalone_parameters[\"n_shot\"] = 3\n",
    "standalone_parameters[\"n_query\"]  = 2\n",
    "standalone_parameters[\"train_k_factor\"] = 1\n",
    "standalone_parameters[\"val_k_factor\"] = 2\n",
    "standalone_parameters[\"test_k_factor\"] = 2\n",
    "\n",
    "\n",
    "standalone_parameters[\"n_epoch\"] = 100\n",
    "\n",
    "standalone_parameters[\"patience\"] = 10\n",
    "standalone_parameters[\"criteria_for_best\"] = \"target_accuracy\"\n",
    "\n",
    "standalone_parameters[\"x_transforms_source\"] = [\"unit_power\"]\n",
    "standalone_parameters[\"x_transforms_target\"] = [\"unit_power\"]\n",
    "standalone_parameters[\"episode_transforms_source\"] = []\n",
    "standalone_parameters[\"episode_transforms_target\"] = []\n",
    "\n",
    "standalone_parameters[\"torch_default_dtype\"] = \"torch.float32\" \n",
    "\n",
    "\n",
    "\n",
    "standalone_parameters[\"x_net\"] =     [\n",
    "    {\"class\": \"nnReshape\", \"kargs\": {\"shape\":[-1, 1, 2, 256]}},\n",
    "    {\"class\": \"Conv2d\", \"kargs\": { \"in_channels\":1, \"out_channels\":256, \"kernel_size\":(1,7), \"bias\":False, \"padding\":(0,3), },},\n",
    "    {\"class\": \"ReLU\", \"kargs\": {\"inplace\": True}},\n",
    "    {\"class\": \"BatchNorm2d\", \"kargs\": {\"num_features\":256}},\n",
    "\n",
    "    {\"class\": \"Conv2d\", \"kargs\": { \"in_channels\":256, \"out_channels\":80, \"kernel_size\":(2,7), \"bias\":True, \"padding\":(0,3), },},\n",
    "    {\"class\": \"ReLU\", \"kargs\": {\"inplace\": True}},\n",
    "    {\"class\": \"BatchNorm2d\", \"kargs\": {\"num_features\":80}},\n",
    "    {\"class\": \"Flatten\", \"kargs\": {}},\n",
    "\n",
    "    {\"class\": \"Linear\", \"kargs\": {\"in_features\": 80*256, \"out_features\": 256}}, # 80 units per IQ pair\n",
    "    {\"class\": \"ReLU\", \"kargs\": {\"inplace\": True}},\n",
    "    {\"class\": \"BatchNorm1d\", \"kargs\": {\"num_features\":256}},\n",
    "\n",
    "    {\"class\": \"Linear\", \"kargs\": {\"in_features\": 256, \"out_features\": 256}},\n",
    "]\n",
    "\n",
    "# Parameters relevant to results\n",
    "# These parameters will basically never need to change\n",
    "standalone_parameters[\"NUM_LOGS_PER_EPOCH\"] = 10\n",
    "standalone_parameters[\"BEST_MODEL_PATH\"] = \"./best_model.pth\"\n",
    "\n",
    "# uncomment for CORES dataset\n",
    "from steves_utils.CORES.utils import (\n",
    "    ALL_NODES,\n",
    "    ALL_NODES_MINIMUM_1000_EXAMPLES,\n",
    "    ALL_DAYS\n",
    ")\n",
    "\n",
    "\n",
    "standalone_parameters[\"labels_source\"] = ALL_NODES\n",
    "standalone_parameters[\"labels_target\"] = ALL_NODES\n",
    "\n",
    "standalone_parameters[\"domains_source\"] = [1]\n",
    "standalone_parameters[\"domains_target\"] = [2,3,4,5]\n",
    "\n",
    "standalone_parameters[\"pickle_name\"] = \"cores.stratified_ds.2022A.pkl\"\n",
    "\n",
    "\n",
    "# Uncomment these for ORACLE dataset\n",
    "# from steves_utils.ORACLE.utils_v2 import (\n",
    "#     ALL_DISTANCES_FEET,\n",
    "#     ALL_RUNS,\n",
    "#     ALL_SERIAL_NUMBERS,\n",
    "# )\n",
    "# standalone_parameters[\"labels_source\"] = ALL_SERIAL_NUMBERS\n",
    "# standalone_parameters[\"labels_target\"] = ALL_SERIAL_NUMBERS\n",
    "# standalone_parameters[\"domains_source\"] = [8,20, 38,50]\n",
    "# standalone_parameters[\"domains_target\"] = [14, 26, 32, 44, 56]\n",
    "# standalone_parameters[\"pickle_name\"] = \"oracle.frame_indexed.stratified_ds.2022A.pkl\"\n",
    "# standalone_parameters[\"num_examples_per_domain_per_label_source\"]=1000\n",
    "# standalone_parameters[\"num_examples_per_domain_per_label_target\"]=1000\n",
    "\n",
    "# Uncomment these for Metahan dataset\n",
    "# standalone_parameters[\"labels_source\"] = list(range(19))\n",
    "# standalone_parameters[\"labels_target\"] = list(range(19))\n",
    "# standalone_parameters[\"domains_source\"] = [0]\n",
    "# standalone_parameters[\"domains_target\"] = [1]\n",
    "# standalone_parameters[\"pickle_name\"] = \"metehan.stratified_ds.2022A.pkl\"\n",
    "# standalone_parameters[\"n_way\"]  = len(standalone_parameters[\"labels_source\"])\n",
    "# standalone_parameters[\"num_examples_per_domain_per_label_source\"]=200\n",
    "# standalone_parameters[\"num_examples_per_domain_per_label_target\"]=100\n",
    "\n",
    "\n",
    "standalone_parameters[\"n_way\"]  = len(standalone_parameters[\"labels_source\"])"
   ]
  },
  {
   "cell_type": "code",
   "execution_count": 4,
   "id": "70253ffc",
   "metadata": {
    "execution": {
     "iopub.execute_input": "2022-04-01T22:47:28.650927Z",
     "iopub.status.busy": "2022-04-01T22:47:28.650550Z",
     "iopub.status.idle": "2022-04-01T22:47:28.662049Z",
     "shell.execute_reply": "2022-04-01T22:47:28.662430Z"
    },
    "papermill": {
     "duration": 0.026566,
     "end_time": "2022-04-01T22:47:28.662552",
     "exception": false,
     "start_time": "2022-04-01T22:47:28.635986",
     "status": "completed"
    },
    "tags": [
     "injected-parameters"
    ]
   },
   "outputs": [],
   "source": [
    "# Parameters\n",
    "parameters = {\n",
    "    \"experiment_name\": \"tuned_1v2:oracle.run1_limited\",\n",
    "    \"device\": \"cuda\",\n",
    "    \"lr\": 0.0001,\n",
    "    \"labels_source\": [\n",
    "        \"3123D52\",\n",
    "        \"3123D65\",\n",
    "        \"3123D79\",\n",
    "        \"3123D80\",\n",
    "        \"3123D54\",\n",
    "        \"3123D70\",\n",
    "        \"3123D7B\",\n",
    "        \"3123D89\",\n",
    "        \"3123D58\",\n",
    "        \"3123D76\",\n",
    "        \"3123D7D\",\n",
    "        \"3123EFE\",\n",
    "        \"3123D64\",\n",
    "        \"3123D78\",\n",
    "        \"3123D7E\",\n",
    "        \"3124E4A\",\n",
    "    ],\n",
    "    \"labels_target\": [\n",
    "        \"3123D52\",\n",
    "        \"3123D65\",\n",
    "        \"3123D79\",\n",
    "        \"3123D80\",\n",
    "        \"3123D54\",\n",
    "        \"3123D70\",\n",
    "        \"3123D7B\",\n",
    "        \"3123D89\",\n",
    "        \"3123D58\",\n",
    "        \"3123D76\",\n",
    "        \"3123D7D\",\n",
    "        \"3123EFE\",\n",
    "        \"3123D64\",\n",
    "        \"3123D78\",\n",
    "        \"3123D7E\",\n",
    "        \"3124E4A\",\n",
    "    ],\n",
    "    \"episode_transforms_source\": [],\n",
    "    \"episode_transforms_target\": [],\n",
    "    \"domains_source\": [8, 32, 50],\n",
    "    \"domains_target\": [14, 20, 26, 38, 44],\n",
    "    \"num_examples_per_domain_per_label_source\": 2000,\n",
    "    \"num_examples_per_domain_per_label_target\": 2000,\n",
    "    \"n_shot\": 3,\n",
    "    \"n_way\": 16,\n",
    "    \"n_query\": 2,\n",
    "    \"train_k_factor\": 3,\n",
    "    \"val_k_factor\": 2,\n",
    "    \"test_k_factor\": 2,\n",
    "    \"torch_default_dtype\": \"torch.float32\",\n",
    "    \"n_epoch\": 50,\n",
    "    \"patience\": 3,\n",
    "    \"criteria_for_best\": \"target_accuracy\",\n",
    "    \"x_net\": [\n",
    "        {\"class\": \"nnReshape\", \"kargs\": {\"shape\": [-1, 1, 2, 256]}},\n",
    "        {\n",
    "            \"class\": \"Conv2d\",\n",
    "            \"kargs\": {\n",
    "                \"in_channels\": 1,\n",
    "                \"out_channels\": 256,\n",
    "                \"kernel_size\": [1, 7],\n",
    "                \"bias\": False,\n",
    "                \"padding\": [0, 3],\n",
    "            },\n",
    "        },\n",
    "        {\"class\": \"ReLU\", \"kargs\": {\"inplace\": True}},\n",
    "        {\"class\": \"BatchNorm2d\", \"kargs\": {\"num_features\": 256}},\n",
    "        {\n",
    "            \"class\": \"Conv2d\",\n",
    "            \"kargs\": {\n",
    "                \"in_channels\": 256,\n",
    "                \"out_channels\": 80,\n",
    "                \"kernel_size\": [2, 7],\n",
    "                \"bias\": True,\n",
    "                \"padding\": [0, 3],\n",
    "            },\n",
    "        },\n",
    "        {\"class\": \"ReLU\", \"kargs\": {\"inplace\": True}},\n",
    "        {\"class\": \"BatchNorm2d\", \"kargs\": {\"num_features\": 80}},\n",
    "        {\"class\": \"Flatten\", \"kargs\": {}},\n",
    "        {\"class\": \"Linear\", \"kargs\": {\"in_features\": 20480, \"out_features\": 256}},\n",
    "        {\"class\": \"ReLU\", \"kargs\": {\"inplace\": True}},\n",
    "        {\"class\": \"BatchNorm1d\", \"kargs\": {\"num_features\": 256}},\n",
    "        {\"class\": \"Linear\", \"kargs\": {\"in_features\": 256, \"out_features\": 256}},\n",
    "    ],\n",
    "    \"NUM_LOGS_PER_EPOCH\": 10,\n",
    "    \"BEST_MODEL_PATH\": \"./best_model.pth\",\n",
    "    \"pickle_name\": \"oracle.Run1_10kExamples_stratified_ds.2022A.pkl\",\n",
    "    \"x_transforms_source\": [\"unit_power\"],\n",
    "    \"x_transforms_target\": [\"unit_power\"],\n",
    "    \"dataset_seed\": 420,\n",
    "    \"seed\": 420,\n",
    "}\n"
   ]
  },
  {
   "cell_type": "code",
   "execution_count": 5,
   "id": "8fa1cc33",
   "metadata": {
    "execution": {
     "iopub.execute_input": "2022-04-01T22:47:28.691039Z",
     "iopub.status.busy": "2022-04-01T22:47:28.690761Z",
     "iopub.status.idle": "2022-04-01T22:47:28.704317Z",
     "shell.execute_reply": "2022-04-01T22:47:28.704697Z"
    },
    "papermill": {
     "duration": 0.027616,
     "end_time": "2022-04-01T22:47:28.704818",
     "exception": false,
     "start_time": "2022-04-01T22:47:28.677202",
     "status": "completed"
    },
    "tags": []
   },
   "outputs": [],
   "source": [
    "# Set this to True if you want to run this template directly\n",
    "STANDALONE = False\n",
    "if STANDALONE:\n",
    "    print(\"parameters not injected, running with standalone_parameters\")\n",
    "    parameters = standalone_parameters\n",
    "\n",
    "if not 'parameters' in locals() and not 'parameters' in globals():\n",
    "    raise Exception(\"Parameter injection failed\")\n",
    "\n",
    "#Use an easy dict for all the parameters\n",
    "p = EasyDict(parameters)\n",
    "\n",
    "supplied_keys = set(p.keys())\n",
    "\n",
    "if  supplied_keys != required_parameters:\n",
    "    print(\"Parameters are incorrect\")\n",
    "    if len(supplied_keys - required_parameters)>0: print(\"Shouldn't have:\", str(supplied_keys - required_parameters))\n",
    "    if len(required_parameters - supplied_keys)>0: print(\"Need to have:\", str(required_parameters - supplied_keys))\n",
    "    raise RuntimeError(\"Parameters are incorrect\")\n",
    "\n"
   ]
  },
  {
   "cell_type": "code",
   "execution_count": 6,
   "id": "3a028d58",
   "metadata": {
    "execution": {
     "iopub.execute_input": "2022-04-01T22:47:28.731753Z",
     "iopub.status.busy": "2022-04-01T22:47:28.731501Z",
     "iopub.status.idle": "2022-04-01T22:47:28.745566Z",
     "shell.execute_reply": "2022-04-01T22:47:28.745848Z"
    },
    "papermill": {
     "duration": 0.026667,
     "end_time": "2022-04-01T22:47:28.745941",
     "exception": false,
     "start_time": "2022-04-01T22:47:28.719274",
     "status": "completed"
    },
    "tags": []
   },
   "outputs": [],
   "source": [
    "###################################\n",
    "# Set the RNGs and make it all deterministic\n",
    "###################################\n",
    "np.random.seed(p.seed)\n",
    "random.seed(p.seed)\n",
    "torch.manual_seed(p.seed)\n",
    "\n",
    "torch.use_deterministic_algorithms(True) "
   ]
  },
  {
   "cell_type": "code",
   "execution_count": 7,
   "id": "b691acf6",
   "metadata": {
    "execution": {
     "iopub.execute_input": "2022-04-01T22:47:28.771748Z",
     "iopub.status.busy": "2022-04-01T22:47:28.771497Z",
     "iopub.status.idle": "2022-04-01T22:47:28.783820Z",
     "shell.execute_reply": "2022-04-01T22:47:28.784105Z"
    },
    "papermill": {
     "duration": 0.024003,
     "end_time": "2022-04-01T22:47:28.784198",
     "exception": false,
     "start_time": "2022-04-01T22:47:28.760195",
     "status": "completed"
    },
    "tags": []
   },
   "outputs": [],
   "source": [
    "###########################################\n",
    "# The stratified datasets honor this\n",
    "###########################################\n",
    "torch.set_default_dtype(eval(p.torch_default_dtype))"
   ]
  },
  {
   "cell_type": "code",
   "execution_count": 8,
   "id": "b5fba671",
   "metadata": {
    "execution": {
     "iopub.execute_input": "2022-04-01T22:47:28.810526Z",
     "iopub.status.busy": "2022-04-01T22:47:28.810273Z",
     "iopub.status.idle": "2022-04-01T22:47:28.846840Z",
     "shell.execute_reply": "2022-04-01T22:47:28.847238Z"
    },
    "papermill": {
     "duration": 0.04825,
     "end_time": "2022-04-01T22:47:28.847375",
     "exception": false,
     "start_time": "2022-04-01T22:47:28.799125",
     "status": "completed"
    },
    "tags": []
   },
   "outputs": [],
   "source": [
    "###################################\n",
    "# Build the network(s)\n",
    "# Note: It's critical to do this AFTER setting the RNG\n",
    "# (This is due to the randomized initial weights)\n",
    "###################################\n",
    "x_net = build_sequential(p.x_net)"
   ]
  },
  {
   "cell_type": "code",
   "execution_count": 9,
   "id": "5d7e61cc",
   "metadata": {
    "execution": {
     "iopub.execute_input": "2022-04-01T22:47:28.875474Z",
     "iopub.status.busy": "2022-04-01T22:47:28.875222Z",
     "iopub.status.idle": "2022-04-01T22:47:28.890375Z",
     "shell.execute_reply": "2022-04-01T22:47:28.889953Z"
    },
    "papermill": {
     "duration": 0.02744,
     "end_time": "2022-04-01T22:47:28.890474",
     "exception": false,
     "start_time": "2022-04-01T22:47:28.863034",
     "status": "completed"
    },
    "tags": []
   },
   "outputs": [],
   "source": [
    "start_time_secs = time.time()"
   ]
  },
  {
   "cell_type": "code",
   "execution_count": 10,
   "id": "fd5442bc",
   "metadata": {
    "execution": {
     "iopub.execute_input": "2022-04-01T22:47:28.920006Z",
     "iopub.status.busy": "2022-04-01T22:47:28.919627Z",
     "iopub.status.idle": "2022-04-01T22:47:47.999099Z",
     "shell.execute_reply": "2022-04-01T22:47:47.998604Z"
    },
    "papermill": {
     "duration": 19.09451,
     "end_time": "2022-04-01T22:47:47.999208",
     "exception": false,
     "start_time": "2022-04-01T22:47:28.904698",
     "status": "completed"
    },
    "tags": []
   },
   "outputs": [],
   "source": [
    "###################################\n",
    "# Build the dataset\n",
    "###################################\n",
    "\n",
    "if p.x_transforms_source == []: x_transform_source = None\n",
    "else: x_transform_source = get_chained_transform(p.x_transforms_source) \n",
    "\n",
    "if p.x_transforms_target == []: x_transform_target = None\n",
    "else: x_transform_target = get_chained_transform(p.x_transforms_target)\n",
    "\n",
    "if p.episode_transforms_source == []: episode_transform_source = None\n",
    "else: raise Exception(\"episode_transform_source not implemented\")\n",
    "\n",
    "if p.episode_transforms_target == []: episode_transform_target = None\n",
    "else: raise Exception(\"episode_transform_target not implemented\")\n",
    "\n",
    "\n",
    "eaf_source = Episodic_Accessor_Factory(\n",
    "    labels=p.labels_source,\n",
    "    domains=p.domains_source,\n",
    "    num_examples_per_domain_per_label=p.num_examples_per_domain_per_label_source,\n",
    "    iterator_seed=p.seed,\n",
    "    dataset_seed=p.dataset_seed,\n",
    "    n_shot=p.n_shot,\n",
    "    n_way=p.n_way,\n",
    "    n_query=p.n_query,\n",
    "    train_val_test_k_factors=(p.train_k_factor,p.val_k_factor,p.test_k_factor),\n",
    "    pickle_path=os.path.join(get_datasets_base_path(), p.pickle_name),\n",
    "    x_transform_func=x_transform_source,\n",
    "    example_transform_func=episode_transform_source,\n",
    "    \n",
    ")\n",
    "train_original_source, val_original_source, test_original_source = eaf_source.get_train(), eaf_source.get_val(), eaf_source.get_test()\n",
    "\n",
    "\n",
    "eaf_target = Episodic_Accessor_Factory(\n",
    "    labels=p.labels_target,\n",
    "    domains=p.domains_target,\n",
    "    num_examples_per_domain_per_label=p.num_examples_per_domain_per_label_target,\n",
    "    iterator_seed=p.seed,\n",
    "    dataset_seed=p.dataset_seed,\n",
    "    n_shot=p.n_shot,\n",
    "    n_way=p.n_way,\n",
    "    n_query=p.n_query,\n",
    "    train_val_test_k_factors=(p.train_k_factor,p.val_k_factor,p.test_k_factor),\n",
    "    pickle_path=os.path.join(get_datasets_base_path(), p.pickle_name),\n",
    "    x_transform_func=x_transform_target,\n",
    "    example_transform_func=episode_transform_target,\n",
    ")\n",
    "train_original_target, val_original_target, test_original_target = eaf_target.get_train(), eaf_target.get_val(), eaf_target.get_test()\n",
    "\n",
    "\n",
    "transform_lambda = lambda ex: ex[1] # Original is (<domain>, <episode>) so we strip down to episode only\n",
    "\n",
    "train_processed_source = Lazy_Iterable_Wrapper(train_original_source, transform_lambda)\n",
    "val_processed_source   = Lazy_Iterable_Wrapper(val_original_source, transform_lambda)\n",
    "test_processed_source  = Lazy_Iterable_Wrapper(test_original_source, transform_lambda)\n",
    "\n",
    "train_processed_target = Lazy_Iterable_Wrapper(train_original_target, transform_lambda)\n",
    "val_processed_target   = Lazy_Iterable_Wrapper(val_original_target, transform_lambda)\n",
    "test_processed_target  = Lazy_Iterable_Wrapper(test_original_target, transform_lambda)\n",
    "\n",
    "datasets = EasyDict({\n",
    "    \"source\": {\n",
    "        \"original\": {\"train\":train_original_source, \"val\":val_original_source, \"test\":test_original_source},\n",
    "        \"processed\": {\"train\":train_processed_source, \"val\":val_processed_source, \"test\":test_processed_source}\n",
    "    },\n",
    "    \"target\": {\n",
    "        \"original\": {\"train\":train_original_target, \"val\":val_original_target, \"test\":test_original_target},\n",
    "        \"processed\": {\"train\":train_processed_target, \"val\":val_processed_target, \"test\":test_processed_target}\n",
    "    },\n",
    "})"
   ]
  },
  {
   "cell_type": "code",
   "execution_count": 11,
   "id": "296189d9",
   "metadata": {
    "execution": {
     "iopub.execute_input": "2022-04-01T22:47:48.027223Z",
     "iopub.status.busy": "2022-04-01T22:47:48.026797Z",
     "iopub.status.idle": "2022-04-01T22:47:49.695619Z",
     "shell.execute_reply": "2022-04-01T22:47:49.695328Z"
    },
    "papermill": {
     "duration": 1.681999,
     "end_time": "2022-04-01T22:47:49.695682",
     "exception": false,
     "start_time": "2022-04-01T22:47:48.013683",
     "status": "completed"
    },
    "tags": []
   },
   "outputs": [
    {
     "name": "stdout",
     "output_type": "stream",
     "text": [
      "Visually inspect these to see if they line up with expected values given the transforms\n",
      "x_transforms_source ['unit_power']\n",
      "x_transforms_target ['unit_power']\n",
      "Average magnitude, source: 0.8977819\n",
      "Average power, source: 1.0\n"
     ]
    },
    {
     "name": "stdout",
     "output_type": "stream",
     "text": [
      "Average magnitude, target: 0.874426\n",
      "Average power, target: 1.0\n"
     ]
    }
   ],
   "source": [
    "# Some quick unit tests on the data\n",
    "from steves_utils.transforms import get_average_power, get_average_magnitude\n",
    "\n",
    "q_x, q_y, s_x, s_y, truth = next(iter(train_processed_source))\n",
    "\n",
    "assert q_x.dtype == eval(p.torch_default_dtype)\n",
    "assert s_x.dtype == eval(p.torch_default_dtype)\n",
    "\n",
    "print(\"Visually inspect these to see if they line up with expected values given the transforms\")\n",
    "print('x_transforms_source', p.x_transforms_source)\n",
    "print('x_transforms_target', p.x_transforms_target)\n",
    "print(\"Average magnitude, source:\", get_average_magnitude(q_x[0].numpy()))\n",
    "print(\"Average power, source:\", get_average_power(q_x[0].numpy()))\n",
    "\n",
    "q_x, q_y, s_x, s_y, truth = next(iter(train_processed_target))\n",
    "print(\"Average magnitude, target:\", get_average_magnitude(q_x[0].numpy()))\n",
    "print(\"Average power, target:\", get_average_power(q_x[0].numpy()))\n"
   ]
  },
  {
   "cell_type": "code",
   "execution_count": 12,
   "id": "bbdacba1",
   "metadata": {
    "execution": {
     "iopub.execute_input": "2022-04-01T22:47:49.720257Z",
     "iopub.status.busy": "2022-04-01T22:47:49.720001Z",
     "iopub.status.idle": "2022-04-01T22:47:49.781506Z",
     "shell.execute_reply": "2022-04-01T22:47:49.781715Z"
    },
    "papermill": {
     "duration": 0.075323,
     "end_time": "2022-04-01T22:47:49.781793",
     "exception": false,
     "start_time": "2022-04-01T22:47:49.706470",
     "status": "completed"
    },
    "tags": []
   },
   "outputs": [
    {
     "name": "stdout",
     "output_type": "stream",
     "text": [
      "(2, 256)\n"
     ]
    }
   ],
   "source": [
    "###################################\n",
    "# Build the model\n",
    "###################################\n",
    "model = Steves_Prototypical_Network(x_net, device=p.device, x_shape=(2,256))\n",
    "optimizer = Adam(params=model.parameters(), lr=p.lr)"
   ]
  },
  {
   "cell_type": "code",
   "execution_count": 13,
   "id": "22b39ac5",
   "metadata": {
    "execution": {
     "iopub.execute_input": "2022-04-01T22:47:49.806449Z",
     "iopub.status.busy": "2022-04-01T22:47:49.806192Z",
     "iopub.status.idle": "2022-04-01T22:59:50.112989Z",
     "shell.execute_reply": "2022-04-01T22:59:50.112758Z"
    },
    "papermill": {
     "duration": 720.320453,
     "end_time": "2022-04-01T22:59:50.113048",
     "exception": false,
     "start_time": "2022-04-01T22:47:49.792595",
     "status": "completed"
    },
    "tags": []
   },
   "outputs": [
    {
     "name": "stdout",
     "output_type": "stream",
     "text": [
      "epoch: 1, [batch: 1 / 2520], examples_per_second: 128.3139, train_label_loss: 2.7609, \n"
     ]
    },
    {
     "name": "stdout",
     "output_type": "stream",
     "text": [
      "epoch: 1, [batch: 252 / 2520], examples_per_second: 3160.1910, train_label_loss: 2.7314, \n"
     ]
    },
    {
     "name": "stdout",
     "output_type": "stream",
     "text": [
      "epoch: 1, [batch: 504 / 2520], examples_per_second: 3180.1972, train_label_loss: 1.6939, \n"
     ]
    },
    {
     "name": "stdout",
     "output_type": "stream",
     "text": [
      "epoch: 1, [batch: 756 / 2520], examples_per_second: 3159.8886, train_label_loss: 2.1276, \n"
     ]
    },
    {
     "name": "stdout",
     "output_type": "stream",
     "text": [
      "epoch: 1, [batch: 1008 / 2520], examples_per_second: 3147.0823, train_label_loss: 1.8027, \n"
     ]
    },
    {
     "name": "stdout",
     "output_type": "stream",
     "text": [
      "epoch: 1, [batch: 1260 / 2520], examples_per_second: 3166.1133, train_label_loss: 1.4409, \n"
     ]
    },
    {
     "name": "stdout",
     "output_type": "stream",
     "text": [
      "epoch: 1, [batch: 1512 / 2520], examples_per_second: 3143.0191, train_label_loss: 1.6927, \n"
     ]
    },
    {
     "name": "stdout",
     "output_type": "stream",
     "text": [
      "epoch: 1, [batch: 1764 / 2520], examples_per_second: 3158.9737, train_label_loss: 1.4224, \n"
     ]
    },
    {
     "name": "stdout",
     "output_type": "stream",
     "text": [
      "epoch: 1, [batch: 2016 / 2520], examples_per_second: 3148.9078, train_label_loss: 1.6921, \n"
     ]
    },
    {
     "name": "stdout",
     "output_type": "stream",
     "text": [
      "epoch: 1, [batch: 2268 / 2520], examples_per_second: 3147.5684, train_label_loss: 1.3446, \n"
     ]
    },
    {
     "name": "stdout",
     "output_type": "stream",
     "text": [
      "=============================================================\n",
      "epoch: 1, source_val_acc_label: 0.3800, target_val_acc_label: 0.2761, source_val_label_loss: 1.5548, target_val_label_loss: 1.8641, \n",
      "=============================================================\n"
     ]
    },
    {
     "name": "stdout",
     "output_type": "stream",
     "text": [
      "New best\n"
     ]
    },
    {
     "name": "stdout",
     "output_type": "stream",
     "text": [
      "epoch: 2, [batch: 1 / 2520], examples_per_second: 11.0759, train_label_loss: 1.6779, \n"
     ]
    },
    {
     "name": "stdout",
     "output_type": "stream",
     "text": [
      "epoch: 2, [batch: 252 / 2520], examples_per_second: 3126.0034, train_label_loss: 1.4529, \n"
     ]
    },
    {
     "name": "stdout",
     "output_type": "stream",
     "text": [
      "epoch: 2, [batch: 504 / 2520], examples_per_second: 3144.8359, train_label_loss: 1.4020, \n"
     ]
    },
    {
     "name": "stdout",
     "output_type": "stream",
     "text": [
      "epoch: 2, [batch: 756 / 2520], examples_per_second: 3141.6444, train_label_loss: 1.3783, \n"
     ]
    },
    {
     "name": "stdout",
     "output_type": "stream",
     "text": [
      "epoch: 2, [batch: 1008 / 2520], examples_per_second: 3130.3503, train_label_loss: 1.3030, \n"
     ]
    },
    {
     "name": "stdout",
     "output_type": "stream",
     "text": [
      "epoch: 2, [batch: 1260 / 2520], examples_per_second: 3134.5808, train_label_loss: 1.3035, \n"
     ]
    },
    {
     "name": "stdout",
     "output_type": "stream",
     "text": [
      "epoch: 2, [batch: 1512 / 2520], examples_per_second: 3140.8328, train_label_loss: 1.7555, \n"
     ]
    },
    {
     "name": "stdout",
     "output_type": "stream",
     "text": [
      "epoch: 2, [batch: 1764 / 2520], examples_per_second: 3119.3461, train_label_loss: 1.4684, \n"
     ]
    },
    {
     "name": "stdout",
     "output_type": "stream",
     "text": [
      "epoch: 2, [batch: 2016 / 2520], examples_per_second: 3139.4143, train_label_loss: 1.1542, \n"
     ]
    },
    {
     "name": "stdout",
     "output_type": "stream",
     "text": [
      "epoch: 2, [batch: 2268 / 2520], examples_per_second: 3134.9144, train_label_loss: 1.4677, \n"
     ]
    },
    {
     "name": "stdout",
     "output_type": "stream",
     "text": [
      "=============================================================\n",
      "epoch: 2, source_val_acc_label: 0.4185, target_val_acc_label: 0.2976, source_val_label_loss: 1.4570, target_val_label_loss: 1.7969, \n",
      "=============================================================\n"
     ]
    },
    {
     "name": "stdout",
     "output_type": "stream",
     "text": [
      "New best\n"
     ]
    },
    {
     "name": "stdout",
     "output_type": "stream",
     "text": [
      "epoch: 3, [batch: 1 / 2520], examples_per_second: 11.0211, train_label_loss: 1.2574, \n"
     ]
    },
    {
     "name": "stdout",
     "output_type": "stream",
     "text": [
      "epoch: 3, [batch: 252 / 2520], examples_per_second: 3144.1587, train_label_loss: 1.2658, \n"
     ]
    },
    {
     "name": "stdout",
     "output_type": "stream",
     "text": [
      "epoch: 3, [batch: 504 / 2520], examples_per_second: 3147.9617, train_label_loss: 1.4053, \n"
     ]
    },
    {
     "name": "stdout",
     "output_type": "stream",
     "text": [
      "epoch: 3, [batch: 756 / 2520], examples_per_second: 3158.7418, train_label_loss: 1.3371, \n"
     ]
    },
    {
     "name": "stdout",
     "output_type": "stream",
     "text": [
      "epoch: 3, [batch: 1008 / 2520], examples_per_second: 3153.7342, train_label_loss: 1.3466, \n"
     ]
    },
    {
     "name": "stdout",
     "output_type": "stream",
     "text": [
      "epoch: 3, [batch: 1260 / 2520], examples_per_second: 3175.4073, train_label_loss: 1.2804, \n"
     ]
    },
    {
     "name": "stdout",
     "output_type": "stream",
     "text": [
      "epoch: 3, [batch: 1512 / 2520], examples_per_second: 3174.3938, train_label_loss: 1.3664, \n"
     ]
    },
    {
     "name": "stdout",
     "output_type": "stream",
     "text": [
      "epoch: 3, [batch: 1764 / 2520], examples_per_second: 3146.7904, train_label_loss: 1.3598, \n"
     ]
    },
    {
     "name": "stdout",
     "output_type": "stream",
     "text": [
      "epoch: 3, [batch: 2016 / 2520], examples_per_second: 3147.2406, train_label_loss: 1.3899, \n"
     ]
    },
    {
     "name": "stdout",
     "output_type": "stream",
     "text": [
      "epoch: 3, [batch: 2268 / 2520], examples_per_second: 3176.5314, train_label_loss: 0.9862, \n"
     ]
    },
    {
     "name": "stdout",
     "output_type": "stream",
     "text": [
      "=============================================================\n",
      "epoch: 3, source_val_acc_label: 0.4273, target_val_acc_label: 0.3067, source_val_label_loss: 1.4566, target_val_label_loss: 1.7964, \n",
      "=============================================================\n"
     ]
    },
    {
     "name": "stdout",
     "output_type": "stream",
     "text": [
      "New best\n"
     ]
    },
    {
     "name": "stdout",
     "output_type": "stream",
     "text": [
      "epoch: 4, [batch: 1 / 2520], examples_per_second: 11.0689, train_label_loss: 1.3935, \n"
     ]
    },
    {
     "name": "stdout",
     "output_type": "stream",
     "text": [
      "epoch: 4, [batch: 252 / 2520], examples_per_second: 3153.4265, train_label_loss: 1.0241, \n"
     ]
    },
    {
     "name": "stdout",
     "output_type": "stream",
     "text": [
      "epoch: 4, [batch: 504 / 2520], examples_per_second: 3163.8553, train_label_loss: 1.1275, \n"
     ]
    },
    {
     "name": "stdout",
     "output_type": "stream",
     "text": [
      "epoch: 4, [batch: 756 / 2520], examples_per_second: 3158.0159, train_label_loss: 1.1990, \n"
     ]
    },
    {
     "name": "stdout",
     "output_type": "stream",
     "text": [
      "epoch: 4, [batch: 1008 / 2520], examples_per_second: 3148.8431, train_label_loss: 1.2289, \n"
     ]
    },
    {
     "name": "stdout",
     "output_type": "stream",
     "text": [
      "epoch: 4, [batch: 1260 / 2520], examples_per_second: 3164.2393, train_label_loss: 1.2462, \n"
     ]
    },
    {
     "name": "stdout",
     "output_type": "stream",
     "text": [
      "epoch: 4, [batch: 1512 / 2520], examples_per_second: 3163.7000, train_label_loss: 0.8406, \n"
     ]
    },
    {
     "name": "stdout",
     "output_type": "stream",
     "text": [
      "epoch: 4, [batch: 1764 / 2520], examples_per_second: 3151.7970, train_label_loss: 0.8228, \n"
     ]
    },
    {
     "name": "stdout",
     "output_type": "stream",
     "text": [
      "epoch: 4, [batch: 2016 / 2520], examples_per_second: 3160.6978, train_label_loss: 0.6339, \n"
     ]
    },
    {
     "name": "stdout",
     "output_type": "stream",
     "text": [
      "epoch: 4, [batch: 2268 / 2520], examples_per_second: 3163.1026, train_label_loss: 0.8706, \n"
     ]
    },
    {
     "name": "stdout",
     "output_type": "stream",
     "text": [
      "=============================================================\n",
      "epoch: 4, source_val_acc_label: 0.5421, target_val_acc_label: 0.4457, source_val_label_loss: 1.2608, target_val_label_loss: 1.5183, \n",
      "=============================================================\n"
     ]
    },
    {
     "name": "stdout",
     "output_type": "stream",
     "text": [
      "New best\n"
     ]
    },
    {
     "name": "stdout",
     "output_type": "stream",
     "text": [
      "epoch: 5, [batch: 1 / 2520], examples_per_second: 11.0864, train_label_loss: 0.6114, \n"
     ]
    },
    {
     "name": "stdout",
     "output_type": "stream",
     "text": [
      "epoch: 5, [batch: 252 / 2520], examples_per_second: 3128.3928, train_label_loss: 1.0521, \n"
     ]
    },
    {
     "name": "stdout",
     "output_type": "stream",
     "text": [
      "epoch: 5, [batch: 504 / 2520], examples_per_second: 3160.1622, train_label_loss: 0.5325, \n"
     ]
    },
    {
     "name": "stdout",
     "output_type": "stream",
     "text": [
      "epoch: 5, [batch: 756 / 2520], examples_per_second: 3153.0460, train_label_loss: 1.3638, \n"
     ]
    },
    {
     "name": "stdout",
     "output_type": "stream",
     "text": [
      "epoch: 5, [batch: 1008 / 2520], examples_per_second: 3141.3235, train_label_loss: 0.9869, \n"
     ]
    },
    {
     "name": "stdout",
     "output_type": "stream",
     "text": [
      "epoch: 5, [batch: 1260 / 2520], examples_per_second: 3162.4952, train_label_loss: 1.0323, \n"
     ]
    },
    {
     "name": "stdout",
     "output_type": "stream",
     "text": [
      "epoch: 5, [batch: 1512 / 2520], examples_per_second: 3152.1093, train_label_loss: 0.6330, \n"
     ]
    },
    {
     "name": "stdout",
     "output_type": "stream",
     "text": [
      "epoch: 5, [batch: 1764 / 2520], examples_per_second: 3129.6104, train_label_loss: 0.7687, \n"
     ]
    },
    {
     "name": "stdout",
     "output_type": "stream",
     "text": [
      "epoch: 5, [batch: 2016 / 2520], examples_per_second: 3162.3442, train_label_loss: 0.5230, \n"
     ]
    },
    {
     "name": "stdout",
     "output_type": "stream",
     "text": [
      "epoch: 5, [batch: 2268 / 2520], examples_per_second: 3162.6268, train_label_loss: 1.0385, \n"
     ]
    },
    {
     "name": "stdout",
     "output_type": "stream",
     "text": [
      "=============================================================\n",
      "epoch: 5, source_val_acc_label: 0.5610, target_val_acc_label: 0.4694, source_val_label_loss: 1.2659, target_val_label_loss: 1.5110, \n",
      "=============================================================\n"
     ]
    },
    {
     "name": "stdout",
     "output_type": "stream",
     "text": [
      "New best\n"
     ]
    },
    {
     "name": "stdout",
     "output_type": "stream",
     "text": [
      "epoch: 6, [batch: 1 / 2520], examples_per_second: 11.0440, train_label_loss: 0.7502, \n"
     ]
    },
    {
     "name": "stdout",
     "output_type": "stream",
     "text": [
      "epoch: 6, [batch: 252 / 2520], examples_per_second: 3136.3455, train_label_loss: 0.6044, \n"
     ]
    },
    {
     "name": "stdout",
     "output_type": "stream",
     "text": [
      "epoch: 6, [batch: 504 / 2520], examples_per_second: 3154.6670, train_label_loss: 0.4448, \n"
     ]
    },
    {
     "name": "stdout",
     "output_type": "stream",
     "text": [
      "epoch: 6, [batch: 756 / 2520], examples_per_second: 3139.9272, train_label_loss: 0.8909, \n"
     ]
    },
    {
     "name": "stdout",
     "output_type": "stream",
     "text": [
      "epoch: 6, [batch: 1008 / 2520], examples_per_second: 3142.1729, train_label_loss: 0.9580, \n"
     ]
    },
    {
     "name": "stdout",
     "output_type": "stream",
     "text": [
      "epoch: 6, [batch: 1260 / 2520], examples_per_second: 3143.5885, train_label_loss: 0.2589, \n"
     ]
    },
    {
     "name": "stdout",
     "output_type": "stream",
     "text": [
      "epoch: 6, [batch: 1512 / 2520], examples_per_second: 3174.7846, train_label_loss: 0.8834, \n"
     ]
    },
    {
     "name": "stdout",
     "output_type": "stream",
     "text": [
      "epoch: 6, [batch: 1764 / 2520], examples_per_second: 3137.6341, train_label_loss: 0.3771, \n"
     ]
    },
    {
     "name": "stdout",
     "output_type": "stream",
     "text": [
      "epoch: 6, [batch: 2016 / 2520], examples_per_second: 3159.6104, train_label_loss: 0.7442, \n"
     ]
    },
    {
     "name": "stdout",
     "output_type": "stream",
     "text": [
      "epoch: 6, [batch: 2268 / 2520], examples_per_second: 3156.7140, train_label_loss: 0.4406, \n"
     ]
    },
    {
     "name": "stdout",
     "output_type": "stream",
     "text": [
      "=============================================================\n",
      "epoch: 6, source_val_acc_label: 0.5740, target_val_acc_label: 0.4899, source_val_label_loss: 1.3020, target_val_label_loss: 1.5287, \n",
      "=============================================================\n"
     ]
    },
    {
     "name": "stdout",
     "output_type": "stream",
     "text": [
      "New best\n"
     ]
    },
    {
     "name": "stdout",
     "output_type": "stream",
     "text": [
      "epoch: 7, [batch: 1 / 2520], examples_per_second: 11.0249, train_label_loss: 0.8503, \n"
     ]
    },
    {
     "name": "stdout",
     "output_type": "stream",
     "text": [
      "epoch: 7, [batch: 252 / 2520], examples_per_second: 3141.4384, train_label_loss: 0.5824, \n"
     ]
    },
    {
     "name": "stdout",
     "output_type": "stream",
     "text": [
      "epoch: 7, [batch: 504 / 2520], examples_per_second: 3155.8198, train_label_loss: 0.6990, \n"
     ]
    },
    {
     "name": "stdout",
     "output_type": "stream",
     "text": [
      "epoch: 7, [batch: 756 / 2520], examples_per_second: 3142.3558, train_label_loss: 0.5136, \n"
     ]
    },
    {
     "name": "stdout",
     "output_type": "stream",
     "text": [
      "epoch: 7, [batch: 1008 / 2520], examples_per_second: 3122.7950, train_label_loss: 0.5734, \n"
     ]
    },
    {
     "name": "stdout",
     "output_type": "stream",
     "text": [
      "epoch: 7, [batch: 1260 / 2520], examples_per_second: 3140.3434, train_label_loss: 0.2685, \n"
     ]
    },
    {
     "name": "stdout",
     "output_type": "stream",
     "text": [
      "epoch: 7, [batch: 1512 / 2520], examples_per_second: 3149.2130, train_label_loss: 0.4760, \n"
     ]
    },
    {
     "name": "stdout",
     "output_type": "stream",
     "text": [
      "epoch: 7, [batch: 1764 / 2520], examples_per_second: 3141.8870, train_label_loss: 0.5378, \n"
     ]
    },
    {
     "name": "stdout",
     "output_type": "stream",
     "text": [
      "epoch: 7, [batch: 2016 / 2520], examples_per_second: 3144.1780, train_label_loss: 0.5444, \n"
     ]
    },
    {
     "name": "stdout",
     "output_type": "stream",
     "text": [
      "epoch: 7, [batch: 2268 / 2520], examples_per_second: 3150.0497, train_label_loss: 0.3305, \n"
     ]
    },
    {
     "name": "stdout",
     "output_type": "stream",
     "text": [
      "=============================================================\n",
      "epoch: 7, source_val_acc_label: 0.5800, target_val_acc_label: 0.4833, source_val_label_loss: 1.3649, target_val_label_loss: 1.6177, \n",
      "=============================================================\n"
     ]
    },
    {
     "name": "stdout",
     "output_type": "stream",
     "text": [
      "epoch: 8, [batch: 1 / 2520], examples_per_second: 11.1431, train_label_loss: 0.5344, \n"
     ]
    },
    {
     "name": "stdout",
     "output_type": "stream",
     "text": [
      "epoch: 8, [batch: 252 / 2520], examples_per_second: 3139.8489, train_label_loss: 0.1264, \n"
     ]
    },
    {
     "name": "stdout",
     "output_type": "stream",
     "text": [
      "epoch: 8, [batch: 504 / 2520], examples_per_second: 3168.4615, train_label_loss: 0.3805, \n"
     ]
    },
    {
     "name": "stdout",
     "output_type": "stream",
     "text": [
      "epoch: 8, [batch: 756 / 2520], examples_per_second: 3162.1201, train_label_loss: 0.6990, \n"
     ]
    },
    {
     "name": "stdout",
     "output_type": "stream",
     "text": [
      "epoch: 8, [batch: 1008 / 2520], examples_per_second: 3148.6227, train_label_loss: 0.1551, \n"
     ]
    },
    {
     "name": "stdout",
     "output_type": "stream",
     "text": [
      "epoch: 8, [batch: 1260 / 2520], examples_per_second: 3155.5409, train_label_loss: 0.3079, \n"
     ]
    },
    {
     "name": "stdout",
     "output_type": "stream",
     "text": [
      "epoch: 8, [batch: 1512 / 2520], examples_per_second: 3161.9088, train_label_loss: 0.4081, \n"
     ]
    },
    {
     "name": "stdout",
     "output_type": "stream",
     "text": [
      "epoch: 8, [batch: 1764 / 2520], examples_per_second: 3145.8104, train_label_loss: 0.3262, \n"
     ]
    },
    {
     "name": "stdout",
     "output_type": "stream",
     "text": [
      "epoch: 8, [batch: 2016 / 2520], examples_per_second: 3151.4151, train_label_loss: 0.5387, \n"
     ]
    },
    {
     "name": "stdout",
     "output_type": "stream",
     "text": [
      "epoch: 8, [batch: 2268 / 2520], examples_per_second: 3154.2905, train_label_loss: 0.2131, \n"
     ]
    },
    {
     "name": "stdout",
     "output_type": "stream",
     "text": [
      "=============================================================\n",
      "epoch: 8, source_val_acc_label: 0.5816, target_val_acc_label: 0.4828, source_val_label_loss: 1.4285, target_val_label_loss: 1.7061, \n",
      "=============================================================\n"
     ]
    },
    {
     "name": "stdout",
     "output_type": "stream",
     "text": [
      "epoch: 9, [batch: 1 / 2520], examples_per_second: 11.0883, train_label_loss: 0.3380, \n"
     ]
    },
    {
     "name": "stdout",
     "output_type": "stream",
     "text": [
      "epoch: 9, [batch: 252 / 2520], examples_per_second: 3155.9797, train_label_loss: 0.2003, \n"
     ]
    },
    {
     "name": "stdout",
     "output_type": "stream",
     "text": [
      "epoch: 9, [batch: 504 / 2520], examples_per_second: 3165.0641, train_label_loss: 0.2639, \n"
     ]
    },
    {
     "name": "stdout",
     "output_type": "stream",
     "text": [
      "epoch: 9, [batch: 756 / 2520], examples_per_second: 3132.9878, train_label_loss: 0.8257, \n"
     ]
    },
    {
     "name": "stdout",
     "output_type": "stream",
     "text": [
      "epoch: 9, [batch: 1008 / 2520], examples_per_second: 3135.6952, train_label_loss: 0.2871, \n"
     ]
    },
    {
     "name": "stdout",
     "output_type": "stream",
     "text": [
      "epoch: 9, [batch: 1260 / 2520], examples_per_second: 3147.1216, train_label_loss: 0.5596, \n"
     ]
    },
    {
     "name": "stdout",
     "output_type": "stream",
     "text": [
      "epoch: 9, [batch: 1512 / 2520], examples_per_second: 3144.2652, train_label_loss: 0.2815, \n"
     ]
    },
    {
     "name": "stdout",
     "output_type": "stream",
     "text": [
      "epoch: 9, [batch: 1764 / 2520], examples_per_second: 3151.2682, train_label_loss: 0.0962, \n"
     ]
    },
    {
     "name": "stdout",
     "output_type": "stream",
     "text": [
      "epoch: 9, [batch: 2016 / 2520], examples_per_second: 3152.4706, train_label_loss: 0.4482, \n"
     ]
    },
    {
     "name": "stdout",
     "output_type": "stream",
     "text": [
      "epoch: 9, [batch: 2268 / 2520], examples_per_second: 3152.2895, train_label_loss: 0.2447, \n"
     ]
    },
    {
     "name": "stdout",
     "output_type": "stream",
     "text": [
      "=============================================================\n",
      "epoch: 9, source_val_acc_label: 0.5837, target_val_acc_label: 0.4855, source_val_label_loss: 1.5477, target_val_label_loss: 1.8318, \n",
      "=============================================================\n"
     ]
    },
    {
     "name": "stdout",
     "output_type": "stream",
     "text": [
      "epoch: 10, [batch: 1 / 2520], examples_per_second: 11.0352, train_label_loss: 0.4808, \n"
     ]
    },
    {
     "name": "stdout",
     "output_type": "stream",
     "text": [
      "epoch: 10, [batch: 252 / 2520], examples_per_second: 3142.8326, train_label_loss: 0.4162, \n"
     ]
    },
    {
     "name": "stdout",
     "output_type": "stream",
     "text": [
      "epoch: 10, [batch: 504 / 2520], examples_per_second: 3151.7555, train_label_loss: 0.5961, \n"
     ]
    },
    {
     "name": "stdout",
     "output_type": "stream",
     "text": [
      "epoch: 10, [batch: 756 / 2520], examples_per_second: 3139.0004, train_label_loss: 0.5871, \n"
     ]
    },
    {
     "name": "stdout",
     "output_type": "stream",
     "text": [
      "epoch: 10, [batch: 1008 / 2520], examples_per_second: 3156.6152, train_label_loss: 0.2347, \n"
     ]
    },
    {
     "name": "stdout",
     "output_type": "stream",
     "text": [
      "epoch: 10, [batch: 1260 / 2520], examples_per_second: 3142.2861, train_label_loss: 0.2789, \n"
     ]
    },
    {
     "name": "stdout",
     "output_type": "stream",
     "text": [
      "epoch: 10, [batch: 1512 / 2520], examples_per_second: 3129.6221, train_label_loss: 0.4719, \n"
     ]
    },
    {
     "name": "stdout",
     "output_type": "stream",
     "text": [
      "epoch: 10, [batch: 1764 / 2520], examples_per_second: 3144.2275, train_label_loss: 0.4185, \n"
     ]
    },
    {
     "name": "stdout",
     "output_type": "stream",
     "text": [
      "epoch: 10, [batch: 2016 / 2520], examples_per_second: 3156.7729, train_label_loss: 0.2350, \n"
     ]
    },
    {
     "name": "stdout",
     "output_type": "stream",
     "text": [
      "epoch: 10, [batch: 2268 / 2520], examples_per_second: 3158.2176, train_label_loss: 0.2240, \n"
     ]
    },
    {
     "name": "stdout",
     "output_type": "stream",
     "text": [
      "=============================================================\n",
      "epoch: 10, source_val_acc_label: 0.5760, target_val_acc_label: 0.4814, source_val_label_loss: 1.6678, target_val_label_loss: 1.9506, \n",
      "=============================================================\n"
     ]
    },
    {
     "name": "stdout",
     "output_type": "stream",
     "text": [
      "Patience (3) exhausted\n"
     ]
    }
   ],
   "source": [
    "###################################\n",
    "# train\n",
    "###################################\n",
    "jig = PTN_Train_Eval_Test_Jig(model, p.BEST_MODEL_PATH, p.device)\n",
    "\n",
    "jig.train(\n",
    "    train_iterable=datasets.source.processed.train,\n",
    "    source_val_iterable=datasets.source.processed.val,\n",
    "    target_val_iterable=datasets.target.processed.val,\n",
    "    num_epochs=p.n_epoch,\n",
    "    num_logs_per_epoch=p.NUM_LOGS_PER_EPOCH,\n",
    "    patience=p.patience,\n",
    "    optimizer=optimizer,\n",
    "    criteria_for_best=p.criteria_for_best,\n",
    ")"
   ]
  },
  {
   "cell_type": "code",
   "execution_count": 14,
   "id": "31e8fabf",
   "metadata": {
    "execution": {
     "iopub.execute_input": "2022-04-01T22:59:50.177710Z",
     "iopub.status.busy": "2022-04-01T22:59:50.177460Z",
     "iopub.status.idle": "2022-04-01T22:59:50.196862Z",
     "shell.execute_reply": "2022-04-01T22:59:50.196431Z"
    },
    "papermill": {
     "duration": 0.052768,
     "end_time": "2022-04-01T22:59:50.196967",
     "exception": false,
     "start_time": "2022-04-01T22:59:50.144199",
     "status": "completed"
    },
    "tags": []
   },
   "outputs": [],
   "source": [
    "total_experiment_time_secs = time.time() - start_time_secs"
   ]
  },
  {
   "cell_type": "code",
   "execution_count": 15,
   "id": "87b9595b",
   "metadata": {
    "execution": {
     "iopub.execute_input": "2022-04-01T22:59:50.268126Z",
     "iopub.status.busy": "2022-04-01T22:59:50.267857Z",
     "iopub.status.idle": "2022-04-01T23:00:38.887220Z",
     "shell.execute_reply": "2022-04-01T23:00:38.887610Z"
    },
    "papermill": {
     "duration": 48.654295,
     "end_time": "2022-04-01T23:00:38.887745",
     "exception": false,
     "start_time": "2022-04-01T22:59:50.233450",
     "status": "completed"
    },
    "tags": []
   },
   "outputs": [],
   "source": [
    "###################################\n",
    "# Evaluate the model\n",
    "###################################\n",
    "source_test_label_accuracy, source_test_label_loss = jig.test(datasets.source.processed.test)\n",
    "target_test_label_accuracy, target_test_label_loss = jig.test(datasets.target.processed.test)\n",
    "\n",
    "source_val_label_accuracy, source_val_label_loss = jig.test(datasets.source.processed.val)\n",
    "target_val_label_accuracy, target_val_label_loss = jig.test(datasets.target.processed.val)\n",
    "\n",
    "history = jig.get_history()\n",
    "\n",
    "total_epochs_trained = len(history[\"epoch_indices\"])\n",
    "\n",
    "val_dl = Iterable_Aggregator((datasets.source.original.val,datasets.target.original.val))\n",
    "\n",
    "confusion = ptn_confusion_by_domain_over_dataloader(model, p.device, val_dl)\n",
    "per_domain_accuracy = per_domain_accuracy_from_confusion(confusion)\n",
    "\n",
    "# Add a key to per_domain_accuracy for if it was a source domain\n",
    "for domain, accuracy in per_domain_accuracy.items():\n",
    "    per_domain_accuracy[domain] = {\n",
    "        \"accuracy\": accuracy,\n",
    "        \"source?\": domain in p.domains_source\n",
    "    }\n",
    "\n",
    "# Do an independent accuracy assesment JUST TO BE SURE!\n",
    "# _source_test_label_accuracy = independent_accuracy_assesment(model, datasets.source.processed.test, p.device)\n",
    "# _target_test_label_accuracy = independent_accuracy_assesment(model, datasets.target.processed.test, p.device)\n",
    "# _source_val_label_accuracy = independent_accuracy_assesment(model, datasets.source.processed.val, p.device)\n",
    "# _target_val_label_accuracy = independent_accuracy_assesment(model, datasets.target.processed.val, p.device)\n",
    "\n",
    "# assert(_source_test_label_accuracy == source_test_label_accuracy)\n",
    "# assert(_target_test_label_accuracy == target_test_label_accuracy)\n",
    "# assert(_source_val_label_accuracy == source_val_label_accuracy)\n",
    "# assert(_target_val_label_accuracy == target_val_label_accuracy)\n",
    "\n",
    "experiment = {\n",
    "    \"experiment_name\": p.experiment_name,\n",
    "    \"parameters\": dict(p),\n",
    "    \"results\": {\n",
    "        \"source_test_label_accuracy\": source_test_label_accuracy,\n",
    "        \"source_test_label_loss\": source_test_label_loss,\n",
    "        \"target_test_label_accuracy\": target_test_label_accuracy,\n",
    "        \"target_test_label_loss\": target_test_label_loss,\n",
    "        \"source_val_label_accuracy\": source_val_label_accuracy,\n",
    "        \"source_val_label_loss\": source_val_label_loss,\n",
    "        \"target_val_label_accuracy\": target_val_label_accuracy,\n",
    "        \"target_val_label_loss\": target_val_label_loss,\n",
    "        \"total_epochs_trained\": total_epochs_trained,\n",
    "        \"total_experiment_time_secs\": total_experiment_time_secs,\n",
    "        \"confusion\": confusion,\n",
    "        \"per_domain_accuracy\": per_domain_accuracy,\n",
    "    },\n",
    "    \"history\": history,\n",
    "    \"dataset_metrics\": get_dataset_metrics(datasets, \"ptn\"),\n",
    "}"
   ]
  },
  {
   "cell_type": "code",
   "execution_count": 16,
   "id": "54a21829",
   "metadata": {
    "execution": {
     "iopub.execute_input": "2022-04-01T23:00:38.956508Z",
     "iopub.status.busy": "2022-04-01T23:00:38.956103Z",
     "iopub.status.idle": "2022-04-01T23:00:39.085588Z",
     "shell.execute_reply": "2022-04-01T23:00:39.085806Z"
    },
    "papermill": {
     "duration": 0.162628,
     "end_time": "2022-04-01T23:00:39.085885",
     "exception": false,
     "start_time": "2022-04-01T23:00:38.923257",
     "status": "completed"
    },
    "tags": []
   },
   "outputs": [
    {
     "data": {
      "image/png": "[encoded data removed]",
      "text/plain": [
       "<Figure size 1080x504 with 1 Axes>"
      ]
     },
     "metadata": {
      "needs_background": "light"
     },
     "output_type": "display_data"
    }
   ],
   "source": [
    "ax = get_loss_curve(experiment)\n",
    "plt.show()"
   ]
  },
  {
   "cell_type": "code",
   "execution_count": 17,
   "id": "fd8a0f60",
   "metadata": {
    "execution": {
     "iopub.execute_input": "2022-04-01T23:00:39.154371Z",
     "iopub.status.busy": "2022-04-01T23:00:39.154116Z",
     "iopub.status.idle": "2022-04-01T23:00:39.297965Z",
     "shell.execute_reply": "2022-04-01T23:00:39.298185Z"
    },
    "papermill": {
     "duration": 0.178589,
     "end_time": "2022-04-01T23:00:39.298265",
     "exception": false,
     "start_time": "2022-04-01T23:00:39.119676",
     "status": "completed"
    },
    "tags": []
   },
   "outputs": [
    {
     "data": {
      "text/plain": [
       "<AxesSubplot:title={'center':'Results'}>"
      ]
     },
     "execution_count": 17,
     "metadata": {},
     "output_type": "execute_result"
    },
    {
     "data": {
      "image/png": "[encoded data removed]",
      "text/plain": [
       "<Figure size 1080x504 with 1 Axes>"
      ]
     },
     "metadata": {
      "needs_background": "light"
     },
     "output_type": "display_data"
    }
   ],
   "source": [
    "get_results_table(experiment)"
   ]
  },
  {
   "cell_type": "code",
   "execution_count": 18,
   "id": "cf8dc689",
   "metadata": {
    "execution": {
     "iopub.execute_input": "2022-04-01T23:00:39.367869Z",
     "iopub.status.busy": "2022-04-01T23:00:39.367616Z",
     "iopub.status.idle": "2022-04-01T23:00:39.486452Z",
     "shell.execute_reply": "2022-04-01T23:00:39.485935Z"
    },
    "papermill": {
     "duration": 0.154711,
     "end_time": "2022-04-01T23:00:39.486562",
     "exception": false,
     "start_time": "2022-04-01T23:00:39.331851",
     "status": "completed"
    },
    "tags": []
   },
   "outputs": [
    {
     "data": {
      "text/plain": [
       "<AxesSubplot:title={'center':'Per Domain Validation Accuracy'}, xlabel='domain'>"
      ]
     },
     "execution_count": 18,
     "metadata": {},
     "output_type": "execute_result"
    },
    {
     "data": {
      "image/png": "[encoded data removed]",
      "text/plain": [
       "<Figure size 1080x504 with 1 Axes>"
      ]
     },
     "metadata": {
      "needs_background": "light"
     },
     "output_type": "display_data"
    }
   ],
   "source": [
    "get_domain_accuracies(experiment)"
   ]
  },
  {
   "cell_type": "code",
   "execution_count": 19,
   "id": "a74ae082",
   "metadata": {
    "execution": {
     "iopub.execute_input": "2022-04-01T23:00:39.563375Z",
     "iopub.status.busy": "2022-04-01T23:00:39.563105Z",
     "iopub.status.idle": "2022-04-01T23:00:39.579882Z",
     "shell.execute_reply": "2022-04-01T23:00:39.579550Z"
    },
    "papermill": {
     "duration": 0.053133,
     "end_time": "2022-04-01T23:00:39.579964",
     "exception": false,
     "start_time": "2022-04-01T23:00:39.526831",
     "status": "completed"
    },
    "tags": []
   },
   "outputs": [
    {
     "name": "stdout",
     "output_type": "stream",
     "text": [
      "Source Test Label Accuracy: 0.5709201388888889 Target Test Label Accuracy: 0.49046875\n",
      "Source Val Label Accuracy: 0.5739583333333333 Target Val Label Accuracy: 0.48994791666666665\n"
     ]
    }
   ],
   "source": [
    "print(\"Source Test Label Accuracy:\", experiment[\"results\"][\"source_test_label_accuracy\"], \"Target Test Label Accuracy:\", experiment[\"results\"][\"target_test_label_accuracy\"])\n",
    "print(\"Source Val Label Accuracy:\", experiment[\"results\"][\"source_val_label_accuracy\"], \"Target Val Label Accuracy:\", experiment[\"results\"][\"target_val_label_accuracy\"])"
   ]
  },
  {
   "cell_type": "code",
   "execution_count": 20,
   "id": "dacca602",
   "metadata": {
    "execution": {
     "iopub.execute_input": "2022-04-01T23:00:39.653909Z",
     "iopub.status.busy": "2022-04-01T23:00:39.653648Z",
     "iopub.status.idle": "2022-04-01T23:00:39.671307Z",
     "shell.execute_reply": "2022-04-01T23:00:39.670987Z"
    },
    "papermill": {
     "duration": 0.053327,
     "end_time": "2022-04-01T23:00:39.671390",
     "exception": false,
     "start_time": "2022-04-01T23:00:39.618063",
     "status": "completed"
    },
    "tags": [
     "experiment_json"
    ]
   },
   "outputs": [
    {
     "data": {
      "text/plain": [
       "'{\"experiment_name\": \"tuned_1v2:oracle.run1_limited\", \"parameters\": {\"experiment_name\": \"tuned_1v2:oracle.run1_limited\", \"device\": \"cuda\", \"lr\": 0.0001, \"labels_source\": [\"3123D52\", \"3123D65\", \"3123D79\", \"3123D80\", \"3123D54\", \"3123D70\", \"3123D7B\", \"3123D89\", \"3123D58\", \"3123D76\", \"3123D7D\", \"3123EFE\", \"3123D64\", \"3123D78\", \"3123D7E\", \"3124E4A\"], \"labels_target\": [\"3123D52\", \"3123D65\", \"3123D79\", \"3123D80\", \"3123D54\", \"3123D70\", \"3123D7B\", \"3123D89\", \"3123D58\", \"3123D76\", \"3123D7D\", \"3123EFE\", \"3123D64\", \"3123D78\", \"3123D7E\", \"3124E4A\"], \"episode_transforms_source\": [], \"episode_transforms_target\": [], \"domains_source\": [8, 32, 50], \"domains_target\": [14, 20, 26, 38, 44], \"num_examples_per_domain_per_label_source\": 2000, \"num_examples_per_domain_per_label_target\": 2000, \"n_shot\": 3, \"n_way\": 16, \"n_query\": 2, \"train_k_factor\": 3, \"val_k_factor\": 2, \"test_k_factor\": 2, \"torch_default_dtype\": \"torch.float32\", \"n_epoch\": 50, \"patience\": 3, \"criteria_for_best\": \"target_accuracy\", \"x_net\": [{\"class\": \"nnReshape\", \"kargs\": {\"shape\": [-1, 1, 2, 256]}}, {\"class\": \"Conv2d\", \"kargs\": {\"in_channels\": 1, \"out_channels\": 256, \"kernel_size\": [1, 7], \"bias\": false, \"padding\": [0, 3]}}, {\"class\": \"ReLU\", \"kargs\": {\"inplace\": true}}, {\"class\": \"BatchNorm2d\", \"kargs\": {\"num_features\": 256}}, {\"class\": \"Conv2d\", \"kargs\": {\"in_channels\": 256, \"out_channels\": 80, \"kernel_size\": [2, 7], \"bias\": true, \"padding\": [0, 3]}}, {\"class\": \"ReLU\", \"kargs\": {\"inplace\": true}}, {\"class\": \"BatchNorm2d\", \"kargs\": {\"num_features\": 80}}, {\"class\": \"Flatten\", \"kargs\": {}}, {\"class\": \"Linear\", \"kargs\": {\"in_features\": 20480, \"out_features\": 256}}, {\"class\": \"ReLU\", \"kargs\": {\"inplace\": true}}, {\"class\": \"BatchNorm1d\", \"kargs\": {\"num_features\": 256}}, {\"class\": \"Linear\", \"kargs\": {\"in_features\": 256, \"out_features\": 256}}], \"NUM_LOGS_PER_EPOCH\": 10, \"BEST_MODEL_PATH\": \"./best_model.pth\", \"pickle_name\": \"oracle.Run1_10kExamples_stratified_ds.2022A.pkl\", \"x_transforms_source\": [\"unit_power\"], \"x_transforms_target\": [\"unit_power\"], \"dataset_seed\": 420, \"seed\": 420}, \"results\": {\"source_test_label_accuracy\": 0.5709201388888889, \"source_test_label_loss\": 1.3095067739486694, \"target_test_label_accuracy\": 0.49046875, \"target_test_label_loss\": 1.5071325302124023, \"source_val_label_accuracy\": 0.5739583333333333, \"source_val_label_loss\": 1.301971673965454, \"target_val_label_accuracy\": 0.48994791666666665, \"target_val_label_loss\": 1.5287113189697266, \"total_epochs_trained\": 10, \"total_experiment_time_secs\": 741.3066740036011, \"confusion\": {\"8\": {\"15\": {\"2\": 31, \"15\": 118, \"8\": 25, \"12\": 51, \"7\": 6, \"3\": 9}, \"5\": {\"1\": 20, \"5\": 177, \"10\": 25, \"9\": 2, \"14\": 4, \"11\": 11, \"4\": 1}, \"7\": {\"6\": 67, \"13\": 7, \"7\": 116, \"0\": 17, \"4\": 8, \"8\": 20, \"15\": 3, \"2\": 2}, \"4\": {\"0\": 40, \"13\": 49, \"4\": 51, \"6\": 22, \"14\": 40, \"1\": 4, \"10\": 22, \"11\": 5, \"7\": 6, \"5\": 1}, \"10\": {\"10\": 88, \"11\": 17, \"4\": 16, \"14\": 55, \"5\": 19, \"1\": 15, \"13\": 22, \"0\": 8}, \"11\": {\"14\": 18, \"1\": 77, \"11\": 89, \"4\": 14, \"5\": 15, \"10\": 19, \"6\": 4, \"8\": 2, \"13\": 2}, \"12\": {\"3\": 45, \"15\": 71, \"12\": 82, \"8\": 6, \"2\": 33, \"7\": 3}, \"0\": {\"13\": 34, \"4\": 39, \"0\": 76, \"6\": 45, \"14\": 14, \"7\": 20, \"8\": 3, \"11\": 1, \"1\": 2, \"10\": 6}, \"14\": {\"10\": 64, \"11\": 16, \"4\": 39, \"13\": 32, \"14\": 56, \"1\": 22, \"0\": 8, \"5\": 1, \"6\": 2}, \"8\": {\"8\": 155, \"6\": 17, \"7\": 35, \"15\": 26, \"12\": 5, \"14\": 1, \"4\": 1}, \"13\": {\"13\": 58, \"4\": 45, \"6\": 18, \"14\": 35, \"10\": 14, \"11\": 5, \"0\": 43, \"1\": 9, \"7\": 10, \"8\": 3}, \"6\": {\"4\": 24, \"6\": 88, \"8\": 20, \"7\": 47, \"0\": 37, \"13\": 17, \"14\": 4, \"11\": 1, \"2\": 1, \"10\": 1}, \"1\": {\"1\": 81, \"11\": 70, \"5\": 23, \"14\": 25, \"10\": 31, \"13\": 5, \"4\": 4, \"6\": 1}, \"3\": {\"2\": 55, \"3\": 140, \"15\": 12, \"12\": 33}, \"9\": {\"9\": 240}, \"2\": {\"2\": 144, \"12\": 25, \"3\": 43, \"8\": 3, \"15\": 18, \"7\": 7}}, \"50\": {\"4\": {\"4\": 66, \"15\": 39, \"1\": 66, \"6\": 33, \"11\": 3, \"5\": 22, \"13\": 8, \"7\": 2, \"0\": 1}, \"10\": {\"10\": 185, \"0\": 34, \"7\": 11, \"8\": 8, \"13\": 2}, \"15\": {\"1\": 55, \"15\": 133, \"4\": 27, \"11\": 20, \"14\": 3, \"5\": 1, \"9\": 1}, \"0\": {\"0\": 153, \"10\": 22, \"2\": 40, \"13\": 15, \"5\": 1, \"7\": 8, \"6\": 1}, \"6\": {\"13\": 17, \"6\": 109, \"4\": 53, \"15\": 1, \"1\": 25, \"2\": 12, \"5\": 23}, \"3\": {\"3\": 226, \"8\": 14}, \"7\": {\"7\": 106, \"0\": 14, \"13\": 48, \"10\": 24, \"5\": 43, \"4\": 4, \"6\": 1}, \"2\": {\"2\": 206, \"0\": 28, \"6\": 5, \"13\": 1}, \"8\": {\"8\": 223, \"10\": 7, \"3\": 10}, \"11\": {\"9\": 38, \"11\": 158, \"14\": 18, \"15\": 9, \"12\": 16, \"1\": 1}, \"14\": {\"14\": 218, \"12\": 9, \"15\": 2, \"11\": 10, \"1\": 1}, \"12\": {\"14\": 5, \"9\": 32, \"12\": 194, \"11\": 9}, \"13\": {\"6\": 15, \"13\": 108, \"5\": 58, \"0\": 9, \"7\": 41, \"4\": 4, \"10\": 2, \"2\": 2, \"1\": 1}, \"9\": {\"9\": 169, \"11\": 33, \"12\": 37, \"14\": 1}, \"5\": {\"7\": 49, \"13\": 51, \"4\": 26, \"5\": 52, \"6\": 48, \"10\": 6, \"1\": 2, \"2\": 3, \"15\": 2, \"0\": 1}, \"1\": {\"1\": 93, \"15\": 53, \"6\": 47, \"5\": 5, \"4\": 38, \"14\": 2, \"2\": 2}}, \"32\": {\"7\": {\"7\": 82, \"14\": 43, \"2\": 10, \"5\": 16, \"4\": 31, \"13\": 29, \"11\": 15, \"0\": 10, \"8\": 3, \"3\": 1}, \"2\": {\"2\": 175, \"7\": 4, \"4\": 32, \"0\": 27, \"13\": 1, \"8\": 1}, \"5\": {\"0\": 20, \"4\": 25, \"7\": 27, \"5\": 39, \"13\": 50, \"8\": 35, \"14\": 16, \"11\": 14, \"3\": 11, \"2\": 3}, \"6\": {\"6\": 240}, \"13\": {\"5\": 36, \"13\": 66, \"0\": 13, \"7\": 23, \"8\": 41, \"4\": 15, \"3\": 17, \"14\": 11, \"11\": 18}, \"4\": {\"7\": 30, \"4\": 70, \"2\": 37, \"0\": 63, \"5\": 21, \"13\": 6, \"14\": 9, \"8\": 4}, \"3\": {\"13\": 12, \"14\": 4, \"3\": 197, \"8\": 2, \"11\": 15, \"5\": 9, \"7\": 1}, \"0\": {\"2\": 24, \"0\": 94, \"5\": 17, \"4\": 60, \"13\": 9, \"8\": 18, \"7\": 13, \"14\": 5}, \"9\": {\"9\": 239, \"12\": 1}, \"12\": {\"12\": 239, \"9\": 1}, \"8\": {\"5\": 33, \"8\": 125, \"4\": 4, \"13\": 32, \"0\": 27, \"7\": 4, \"14\": 3, \"3\": 12}, \"14\": {\"7\": 59, \"11\": 57, \"0\": 6, \"13\": 19, \"5\": 10, \"4\": 15, \"8\": 3, \"14\": 60, \"3\": 7, \"2\": 4}, \"15\": {\"15\": 221, \"3\": 15, \"8\": 4}, \"11\": {\"11\": 133, \"14\": 49, \"3\": 17, \"5\": 8, \"7\": 19, \"13\": 12, \"4\": 2}, \"10\": {\"10\": 236, \"1\": 2, \"6\": 2}, \"1\": {\"1\": 238, \"10\": 2}}, \"20\": {\"15\": {\"15\": 73, \"13\": 19, \"5\": 34, \"0\": 52, \"1\": 43, \"12\": 9, \"9\": 3, \"2\": 5, \"3\": 2}, \"5\": {\"7\": 2, \"9\": 4, \"1\": 55, \"3\": 10, \"15\": 37, \"0\": 40, \"5\": 33, \"12\": 37, \"2\": 6, \"13\": 10, \"4\": 6}, \"7\": {\"13\": 11, \"8\": 16, \"10\": 17, \"7\": 93, \"2\": 33, \"12\": 4, \"6\": 11, \"4\": 7, \"3\": 12, \"9\": 22, \"14\": 6, \"11\": 7, \"5\": 1}, \"4\": {\"4\": 83, \"3\": 29, \"8\": 40, \"10\": 15, \"12\": 14, \"6\": 1, \"0\": 3, \"9\": 19, \"7\": 10, \"15\": 1, \"2\": 15, \"5\": 7, \"13\": 1, \"1\": 2}, \"10\": {\"8\": 37, \"10\": 104, \"3\": 3, \"6\": 18, \"14\": 48, \"7\": 6, \"4\": 23, \"11\": 1}, \"11\": {\"11\": 212, \"7\": 8, \"6\": 13, \"14\": 4, \"9\": 2, \"2\": 1}, \"12\": {\"3\": 33, \"0\": 27, \"1\": 24, \"5\": 25, \"13\": 16, \"4\": 15, \"2\": 19, \"12\": 43, \"9\": 20, \"15\": 14, \"8\": 3, \"7\": 1}, \"0\": {\"1\": 53, \"15\": 44, \"5\": 30, \"13\": 6, \"0\": 70, \"9\": 5, \"12\": 17, \"8\": 1, \"4\": 5, \"3\": 5, \"2\": 4}, \"14\": {\"8\": 18, \"14\": 102, \"6\": 66, \"10\": 43, \"7\": 5, \"11\": 3, \"3\": 1, \"4\": 2}, \"8\": {\"10\": 34, \"4\": 44, \"2\": 14, \"3\": 12, \"5\": 2, \"8\": 70, \"7\": 37, \"12\": 1, \"14\": 11, \"9\": 6, \"6\": 8, \"11\": 1}, \"13\": {\"13\": 128, \"12\": 9, \"2\": 30, \"1\": 11, \"7\": 14, \"15\": 10, \"9\": 17, \"5\": 5, \"4\": 1, \"3\": 9, \"8\": 1, \"0\": 5}, \"6\": {\"14\": 59, \"11\": 25, \"6\": 133, \"10\": 12, \"7\": 7, \"8\": 4}, \"1\": {\"0\": 43, \"1\": 42, \"5\": 40, \"15\": 49, \"9\": 6, \"13\": 12, \"4\": 6, \"3\": 11, \"12\": 23, \"2\": 8}, \"3\": {\"0\": 7, \"12\": 37, \"3\": 34, \"9\": 37, \"2\": 32, \"1\": 9, \"4\": 20, \"7\": 17, \"6\": 1, \"13\": 16, \"8\": 13, \"5\": 13, \"15\": 2, \"10\": 1, \"14\": 1}, \"9\": {\"12\": 27, \"13\": 36, \"3\": 32, \"4\": 13, \"15\": 6, \"2\": 34, \"5\": 9, \"9\": 31, \"0\": 7, \"8\": 12, \"7\": 25, \"1\": 7, \"10\": 1}, \"2\": {\"13\": 33, \"8\": 11, \"9\": 39, \"3\": 31, \"2\": 58, \"6\": 1, \"7\": 36, \"1\": 3, \"4\": 7, \"12\": 10, \"5\": 3, \"0\": 2, \"10\": 2, \"15\": 2, \"14\": 1, \"11\": 1}}, \"26\": {\"4\": {\"4\": 35, \"14\": 34, \"8\": 20, \"7\": 30, \"15\": 7, \"0\": 31, \"1\": 42, \"5\": 5, \"3\": 6, \"9\": 6, \"2\": 14, \"10\": 10}, \"10\": {\"8\": 33, \"15\": 8, \"10\": 49, \"2\": 2, \"9\": 10, \"0\": 37, \"6\": 39, \"14\": 21, \"7\": 5, \"4\": 12, \"1\": 17, \"5\": 6, \"3\": 1}, \"15\": {\"5\": 66, \"8\": 20, \"15\": 37, \"9\": 40, \"7\": 10, \"13\": 26, \"6\": 9, \"0\": 8, \"2\": 10, \"14\": 2, \"10\": 8, \"1\": 1, \"4\": 3}, \"0\": {\"0\": 44, \"14\": 26, \"7\": 8, \"4\": 30, \"1\": 28, \"6\": 16, \"8\": 21, \"10\": 39, \"2\": 4, \"15\": 6, \"5\": 6, \"9\": 12}, \"6\": {\"10\": 24, \"6\": 127, \"15\": 14, \"9\": 26, \"5\": 3, \"13\": 28, \"14\": 1, \"0\": 5, \"8\": 10, \"4\": 1, \"1\": 1}, \"3\": {\"2\": 58, \"7\": 41, \"3\": 121, \"4\": 6, \"1\": 4, \"15\": 1, \"5\": 2, \"0\": 1, \"14\": 5, \"13\": 1}, \"7\": {\"2\": 45, \"1\": 14, \"4\": 24, \"3\": 42, \"0\": 13, \"7\": 69, \"5\": 7, \"15\": 5, \"8\": 5, \"14\": 12, \"10\": 4}, \"2\": {\"2\": 59, \"3\": 79, \"14\": 4, \"7\": 34, \"4\": 6, \"5\": 23, \"8\": 11, \"15\": 13, \"9\": 4, \"13\": 3, \"1\": 2, \"0\": 2}, \"8\": {\"4\": 15, \"10\": 31, \"15\": 23, \"6\": 12, \"2\": 3, \"0\": 42, \"8\": 31, \"7\": 15, \"9\": 18, \"5\": 26, \"14\": 14, \"1\": 7, \"13\": 3}, \"11\": {\"11\": 208, \"12\": 32}, \"14\": {\"14\": 47, \"0\": 45, \"8\": 22, \"1\": 58, \"4\": 22, \"15\": 5, \"10\": 14, \"7\": 13, \"5\": 3, \"2\": 8, \"6\": 2, \"9\": 1}, \"12\": {\"11\": 35, \"12\": 204, \"6\": 1}, \"13\": {\"2\": 7, \"6\": 37, \"15\": 31, \"13\": 96, \"5\": 41, \"10\": 3, \"8\": 3, \"0\": 1, \"9\": 15, \"7\": 1, \"3\": 5}, \"9\": {\"9\": 41, \"13\": 31, \"6\": 34, \"5\": 33, \"8\": 25, \"0\": 9, \"15\": 40, \"10\": 15, \"4\": 3, \"7\": 2, \"1\": 1, \"14\": 2, \"2\": 4}, \"5\": {\"5\": 75, \"2\": 21, \"15\": 41, \"1\": 1, \"3\": 1, \"8\": 17, \"9\": 25, \"13\": 26, \"6\": 10, \"7\": 13, \"10\": 4, \"0\": 4, \"4\": 2}, \"1\": {\"7\": 18, \"14\": 58, \"0\": 26, \"4\": 24, \"1\": 79, \"10\": 11, \"3\": 5, \"8\": 11, \"2\": 6, \"9\": 1, \"5\": 1}}, \"38\": {\"7\": {\"0\": 50, \"7\": 159, \"5\": 15, \"8\": 7, \"3\": 5, \"6\": 3, \"9\": 1}, \"2\": {\"2\": 203, \"11\": 6, \"14\": 26, \"13\": 4, \"15\": 1}, \"5\": {\"8\": 55, \"5\": 62, \"1\": 7, \"0\": 42, \"9\": 10, \"6\": 27, \"3\": 6, \"10\": 6, \"15\": 9, \"7\": 14, \"13\": 2}, \"6\": {\"6\": 165, \"9\": 65, \"0\": 3, \"5\": 6, \"3\": 1}, \"13\": {\"15\": 67, \"13\": 132, \"2\": 14, \"10\": 9, \"14\": 3, \"1\": 12, \"8\": 2, \"5\": 1}, \"4\": {\"4\": 218, \"12\": 21, \"7\": 1}, \"3\": {\"3\": 185, \"9\": 41, \"7\": 7, \"6\": 4, \"0\": 3}, \"0\": {\"0\": 49, \"8\": 54, \"15\": 3, \"7\": 62, \"3\": 13, \"5\": 41, \"6\": 8, \"10\": 5, \"9\": 1, \"4\": 2, \"12\": 2}, \"9\": {\"6\": 75, \"9\": 132, \"5\": 1, \"0\": 2, \"3\": 29, \"7\": 1}, \"12\": {\"12\": 174, \"10\": 47, \"4\": 16, \"0\": 2, \"8\": 1}, \"8\": {\"8\": 94, \"10\": 20, \"7\": 11, \"0\": 48, \"5\": 51, \"1\": 2, \"15\": 13, \"6\": 1}, \"14\": {\"14\": 126, \"11\": 72, \"2\": 34, \"13\": 3, \"10\": 4, \"12\": 1}, \"15\": {\"13\": 68, \"8\": 15, \"1\": 44, \"15\": 100, \"5\": 4, \"0\": 1, \"2\": 1, \"10\": 7}, \"11\": {\"11\": 134, \"14\": 84, \"2\": 11, \"10\": 7, \"12\": 3, \"13\": 1}, \"10\": {\"15\": 22, \"12\": 39, \"10\": 123, \"0\": 9, \"13\": 20, \"8\": 15, \"11\": 3, \"1\": 2, \"5\": 2, \"4\": 1, \"7\": 1, \"2\": 1, \"14\": 2}, \"1\": {\"1\": 191, \"15\": 37, \"13\": 6, \"8\": 4, \"5\": 2}}, \"14\": {\"11\": {\"11\": 173, \"10\": 15, \"9\": 33, \"0\": 19}, \"7\": {\"15\": 37, \"7\": 190, \"5\": 5, \"1\": 8}, \"6\": {\"13\": 59, \"6\": 115, \"14\": 34, \"2\": 22, \"1\": 1, \"4\": 5, \"5\": 4}, \"12\": {\"12\": 236, \"9\": 4}, \"4\": {\"2\": 24, \"4\": 79, \"3\": 43, \"7\": 2, \"14\": 23, \"5\": 30, \"1\": 32, \"13\": 6, \"6\": 1}, \"13\": {\"6\": 84, \"14\": 48, \"13\": 58, \"2\": 28, \"1\": 1, \"5\": 6, \"4\": 3, \"15\": 5, \"10\": 1, \"3\": 5, \"7\": 1}, \"8\": {\"8\": 232, \"0\": 4, \"11\": 1, \"3\": 3}, \"5\": {\"5\": 94, \"2\": 36, \"1\": 55, \"4\": 29, \"3\": 11, \"14\": 1, \"6\": 2, \"7\": 8, \"13\": 2, \"15\": 2}, \"14\": {\"14\": 90, \"2\": 16, \"3\": 36, \"4\": 9, \"6\": 42, \"5\": 2, \"13\": 41, \"15\": 2, \"1\": 1, \"10\": 1}, \"3\": {\"3\": 147, \"4\": 44, \"10\": 6, \"8\": 4, \"2\": 11, \"0\": 5, \"13\": 2, \"14\": 9, \"1\": 6, \"5\": 5, \"6\": 1}, \"10\": {\"10\": 145, \"3\": 4, \"0\": 74, \"11\": 6, \"8\": 2, \"14\": 9}, \"1\": {\"5\": 49, \"4\": 38, \"1\": 132, \"3\": 4, \"7\": 9, \"2\": 7, \"14\": 1}, \"2\": {\"1\": 8, \"13\": 25, \"14\": 42, \"3\": 18, \"5\": 46, \"4\": 14, \"2\": 54, \"6\": 22, \"15\": 9, \"7\": 2}, \"15\": {\"15\": 183, \"4\": 1, \"7\": 51, \"13\": 1, \"5\": 3, \"2\": 1}, \"9\": {\"11\": 14, \"9\": 222, \"0\": 1, \"12\": 3}, \"0\": {\"0\": 134, \"10\": 60, \"11\": 23, \"3\": 10, \"8\": 13}}, \"44\": {\"10\": {\"10\": 139, \"2\": 24, \"12\": 43, \"1\": 33, \"3\": 1}, \"6\": {\"6\": 120, \"9\": 27, \"11\": 25, \"13\": 45, \"7\": 21, \"2\": 2}, \"13\": {\"13\": 116, \"6\": 41, \"7\": 2, \"11\": 36, \"9\": 42, \"4\": 3}, \"3\": {\"3\": 197, \"1\": 32, \"12\": 4, \"2\": 3, \"7\": 4}, \"9\": {\"7\": 51, \"2\": 5, \"6\": 16, \"9\": 142, \"13\": 23, \"3\": 3}, \"1\": {\"12\": 47, \"1\": 113, \"3\": 47, \"10\": 13, \"2\": 20}, \"5\": {\"5\": 149, \"0\": 45, \"15\": 20, \"8\": 17, \"14\": 9}, \"11\": {\"6\": 21, \"11\": 174, \"13\": 42, \"9\": 3}, \"4\": {\"4\": 150, \"14\": 83, \"15\": 7}, \"14\": {\"14\": 121, \"4\": 85, \"15\": 29, \"5\": 5}, \"12\": {\"1\": 57, \"12\": 140, \"10\": 30, \"3\": 9, \"2\": 4}, \"7\": {\"7\": 112, \"9\": 56, \"3\": 12, \"1\": 1, \"2\": 38, \"6\": 18, \"10\": 1, \"13\": 2}, \"0\": {\"5\": 33, \"0\": 121, \"8\": 66, \"15\": 20}, \"15\": {\"15\": 182, \"8\": 3, \"5\": 7, \"14\": 26, \"0\": 19, \"4\": 3}, \"2\": {\"10\": 28, \"2\": 129, \"7\": 33, \"3\": 13, \"1\": 26, \"9\": 3, \"12\": 6, \"6\": 2}, \"8\": {\"8\": 140, \"0\": 85, \"15\": 12, \"5\": 3}}}, \"per_domain_accuracy\": {\"8\": {\"accuracy\": 0.45807291666666666, \"source?\": true}, \"50\": {\"accuracy\": 0.6247395833333333, \"source?\": true}, \"32\": {\"accuracy\": 0.6390625, \"source?\": true}, \"20\": {\"accuracy\": 0.34088541666666666, \"source?\": false}, \"26\": {\"accuracy\": 0.34427083333333336, \"source?\": false}, \"38\": {\"accuracy\": 0.58515625, \"source?\": false}, \"14\": {\"accuracy\": 0.5947916666666667, \"source?\": false}, \"44\": {\"accuracy\": 0.5846354166666666, \"source?\": false}}}, \"history\": {\"epoch_indices\": [1, 2, 3, 4, 5, 6, 7, 8, 9, 10], \"train_label_loss\": [1.807585701441008, 1.3951787465148502, 1.2602100542376913, 1.0673268048891, 0.8025561926679479, 0.6428499350886023, 0.5072734344588031, 0.40635991255043163, 0.3345621514001063, 0.2755637620121152], \"source_val_label_loss\": [1.5547733306884766, 1.4570130109786987, 1.456612229347229, 1.2608301639556885, 1.2658765316009521, 1.301971673965454, 1.3648744821548462, 1.4285073280334473, 1.5477358102798462, 1.6678049564361572], \"target_val_label_loss\": [1.8640614748001099, 1.7968783378601074, 1.7963505983352661, 1.5183087587356567, 1.5110124349594116, 1.5287113189697266, 1.617666244506836, 1.706122875213623, 1.8318028450012207, 1.9505819082260132], \"source_val_acc_label\": [0.38003472222222223, 0.41848958333333336, 0.42725694444444445, 0.5421006944444444, 0.5610243055555556, 0.5739583333333333, 0.5800347222222222, 0.5815972222222222, 0.5836805555555555, 0.5760416666666667], \"target_val_acc_label\": [0.27609375, 0.29755208333333333, 0.30666666666666664, 0.4457291666666667, 0.469375, 0.48994791666666665, 0.48328125, 0.4828125, 0.48546875, 0.48140625]}, \"dataset_metrics\": {\"source\": {\"train\": {\"n_unique_x\": 67200, \"n_unique_y\": 16, \"n_batch/episode\": 2520}, \"val\": {\"n_unique_x\": 14400, \"n_unique_y\": 16, \"n_batch/episode\": 360}, \"test\": {\"n_unique_x\": 14400, \"n_unique_y\": 16, \"n_batch/episode\": 360}}, \"target\": {\"train\": {\"n_unique_x\": 112000, \"n_unique_y\": 16, \"n_batch/episode\": 4200}, \"val\": {\"n_unique_x\": 24000, \"n_unique_y\": 16, \"n_batch/episode\": 600}, \"test\": {\"n_unique_x\": 24000, \"n_unique_y\": 16, \"n_batch/episode\": 600}}}}'"
      ]
     },
     "execution_count": 20,
     "metadata": {},
     "output_type": "execute_result"
    }
   ],
   "source": [
    "json.dumps(experiment)"
   ]
  }
 ],
 "metadata": {
  "celltoolbar": "Tags",
  "kernelspec": {
   "display_name": "Python 3 (ipykernel)",
   "language": "python",
   "name": "python3"
  },
  "language_info": {
   "codemirror_mode": {
    "name": "ipython",
    "version": 3
   },
   "file_extension": ".py",
   "mimetype": "text/x-python",
   "name": "python",
   "nbconvert_exporter": "python",
   "pygments_lexer": "ipython3",
   "version": "3.8.10"
  },
  "papermill": {
   "default_parameters": {},
   "duration": 793.592535,
   "end_time": "2022-04-01T23:00:40.619301",
   "environment_variables": {},
   "exception": null,
   "input_path": "/mnt/wd500GB/CSC500/csc500-main/csc500-notebooks/templates/ptn_template.ipynb",
   "output_path": "trial.ipynb",
   "parameters": {
    "parameters": {
     "BEST_MODEL_PATH": "./best_model.pth",
     "NUM_LOGS_PER_EPOCH": 10,
     "criteria_for_best": "target_accuracy",
     "dataset_seed": 420,
     "device": "cuda",
     "domains_source": [
      8,
      32,
      50
     ],
     "domains_target": [
      14,
      20,
      26,
      38,
      44
     ],
     "episode_transforms_source": [],
     "episode_transforms_target": [],
     "experiment_name": "tuned_1v2:oracle.run1_limited",
     "labels_source": [
      "3123D52",
      "3123D65",
      "3123D79",
      "3123D80",
      "3123D54",
      "3123D70",
      "3123D7B",
      "3123D89",
      "3123D58",
      "3123D76",
      "3123D7D",
      "3123EFE",
      "3123D64",
      "3123D78",
      "3123D7E",
      "3124E4A"
     ],
     "labels_target": [
      "3123D52",
      "3123D65",
      "3123D79",
      "3123D80",
      "3123D54",
      "3123D70",
      "3123D7B",
      "3123D89",
      "3123D58",
      "3123D76",
      "3123D7D",
      "3123EFE",
      "3123D64",
      "3123D78",
      "3123D7E",
      "3124E4A"
     ],
     "lr": 0.0001,
     "n_epoch": 50,
     "n_query": 2,
     "n_shot": 3,
     "n_way": 16,
     "num_examples_per_domain_per_label_source": 2000,
     "num_examples_per_domain_per_label_target": 2000,
     "patience": 3,
     "pickle_name": "oracle.Run1_10kExamples_stratified_ds.2022A.pkl",
     "seed": 420,
     "test_k_factor": 2,
     "torch_default_dtype": "torch.float32",
     "train_k_factor": 3,
     "val_k_factor": 2,
     "x_net": [
      {
       "class": "nnReshape",
       "kargs": {
        "shape": [
         -1,
         1,
         2,
         256
        ]
       }
      },
      {
       "class": "Conv2d",
       "kargs": {
        "bias": false,
        "in_channels": 1,
        "kernel_size": [
         1,
         7
        ],
        "out_channels": 256,
        "padding": [
         0,
         3
        ]
       }
      },
      {
       "class": "ReLU",
       "kargs": {
        "inplace": true
       }
      },
      {
       "class": "BatchNorm2d",
       "kargs": {
        "num_features": 256
       }
      },
      {
       "class": "Conv2d",
       "kargs": {
        "bias": true,
        "in_channels": 256,
        "kernel_size": [
         2,
         7
        ],
        "out_channels": 80,
        "padding": [
         0,
         3
        ]
       }
      },
      {
       "class": "ReLU",
       "kargs": {
        "inplace": true
       }
      },
      {
       "class": "BatchNorm2d",
       "kargs": {
        "num_features": 80
       }
      },
      {
       "class": "Flatten",
       "kargs": {}
      },
      {
       "class": "Linear",
       "kargs": {
        "in_features": 20480,
        "out_features": 256
       }
      },
      {
       "class": "ReLU",
       "kargs": {
        "inplace": true
       }
      },
      {
       "class": "BatchNorm1d",
       "kargs": {
        "num_features": 256
       }
      },
      {
       "class": "Linear",
       "kargs": {
        "in_features": 256,
        "out_features": 256
       }
      }
     ],
     "x_transforms_source": [
      "unit_power"
     ],
     "x_transforms_target": [
      "unit_power"
     ]
    }
   },
   "start_time": "2022-04-01T22:47:27.026766",
   "version": "2.3.4"
  }
 },
 "nbformat": 4,
 "nbformat_minor": 5
}