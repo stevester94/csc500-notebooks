{
 "cells": [
  {
   "cell_type": "markdown",
   "id": "9fea5f46",
   "metadata": {
    "papermill": {
     "duration": 0.01408,
     "end_time": "2022-04-01T20:07:20.075942",
     "exception": false,
     "start_time": "2022-04-01T20:07:20.061862",
     "status": "completed"
    },
    "tags": []
   },
   "source": [
    "# PTN Template\n",
    "This notebook serves as a template for single dataset PTN experiments  \n",
    "It can be run on its own by setting STANDALONE to True (do a find for \"STANDALONE\" to see where)  \n",
    "But it is intended to be executed as part of a *papermill.py script. See any of the   \n",
    "experimentes with a papermill script to get started with that workflow.  "
   ]
  },
  {
   "cell_type": "code",
   "execution_count": 1,
   "id": "0902182a",
   "metadata": {
    "execution": {
     "iopub.execute_input": "2022-04-01T20:07:20.107980Z",
     "iopub.status.busy": "2022-04-01T20:07:20.107598Z",
     "iopub.status.idle": "2022-04-01T20:07:21.008966Z",
     "shell.execute_reply": "2022-04-01T20:07:21.008669Z"
    },
    "papermill": {
     "duration": 0.923739,
     "end_time": "2022-04-01T20:07:21.009034",
     "exception": false,
     "start_time": "2022-04-01T20:07:20.085295",
     "status": "completed"
    },
    "tags": []
   },
   "outputs": [],
   "source": [
    "%load_ext autoreload\n",
    "%autoreload 2\n",
    "%matplotlib inline\n",
    "\n",
    "    \n",
    "import os, json, sys, time, random\n",
    "import numpy as np\n",
    "import torch\n",
    "from torch.optim import Adam\n",
    "from  easydict import EasyDict\n",
    "import matplotlib.pyplot as plt\n",
    "\n",
    "from steves_models.steves_ptn import Steves_Prototypical_Network\n",
    "\n",
    "from steves_utils.lazy_iterable_wrapper import Lazy_Iterable_Wrapper\n",
    "from steves_utils.iterable_aggregator import Iterable_Aggregator\n",
    "from steves_utils.ptn_train_eval_test_jig import  PTN_Train_Eval_Test_Jig\n",
    "from steves_utils.torch_sequential_builder import build_sequential\n",
    "from steves_utils.torch_utils import get_dataset_metrics, ptn_confusion_by_domain_over_dataloader\n",
    "from steves_utils.utils_v2 import (per_domain_accuracy_from_confusion, get_datasets_base_path)\n",
    "from steves_utils.PTN.utils import independent_accuracy_assesment\n",
    "\n",
    "from steves_utils.stratified_dataset.episodic_accessor import Episodic_Accessor_Factory\n",
    "\n",
    "from steves_utils.ptn_do_report import (\n",
    "    get_loss_curve,\n",
    "    get_results_table,\n",
    "    get_parameters_table,\n",
    "    get_domain_accuracies,\n",
    ")\n",
    "\n",
    "from steves_utils.transforms import get_chained_transform"
   ]
  },
  {
   "cell_type": "markdown",
   "id": "41c840b4",
   "metadata": {
    "papermill": {
     "duration": 0.00918,
     "end_time": "2022-04-01T20:07:21.028026",
     "exception": false,
     "start_time": "2022-04-01T20:07:21.018846",
     "status": "completed"
    },
    "tags": []
   },
   "source": [
    "# Required Parameters\n",
    "These are allowed parameters, not defaults\n",
    "Each of these values need to be present in the injected parameters (the notebook will raise an exception if they are not present)\n",
    "\n",
    "Papermill uses the cell tag \"parameters\" to inject the real parameters below this cell.\n",
    "Enable tags to see what I mean"
   ]
  },
  {
   "cell_type": "code",
   "execution_count": 2,
   "id": "fd44eb83",
   "metadata": {
    "execution": {
     "iopub.execute_input": "2022-04-01T20:07:21.048915Z",
     "iopub.status.busy": "2022-04-01T20:07:21.048658Z",
     "iopub.status.idle": "2022-04-01T20:07:21.059824Z",
     "shell.execute_reply": "2022-04-01T20:07:21.059570Z"
    },
    "papermill": {
     "duration": 0.022617,
     "end_time": "2022-04-01T20:07:21.059879",
     "exception": false,
     "start_time": "2022-04-01T20:07:21.037262",
     "status": "completed"
    },
    "tags": []
   },
   "outputs": [],
   "source": [
    "required_parameters = {\n",
    "    \"experiment_name\",\n",
    "    \"lr\",\n",
    "    \"device\",\n",
    "    \"seed\",\n",
    "    \"dataset_seed\",\n",
    "    \"labels_source\",\n",
    "    \"labels_target\",\n",
    "    \"domains_source\",\n",
    "    \"domains_target\",\n",
    "    \"num_examples_per_domain_per_label_source\",\n",
    "    \"num_examples_per_domain_per_label_target\",\n",
    "    \"n_shot\",\n",
    "    \"n_way\",\n",
    "    \"n_query\",\n",
    "    \"train_k_factor\",\n",
    "    \"val_k_factor\",\n",
    "    \"test_k_factor\",\n",
    "    \"n_epoch\",\n",
    "    \"patience\",\n",
    "    \"criteria_for_best\",\n",
    "    \"x_transforms_source\",\n",
    "    \"x_transforms_target\",\n",
    "    \"episode_transforms_source\",\n",
    "    \"episode_transforms_target\",\n",
    "    \"pickle_name\",\n",
    "    \"x_net\",\n",
    "    \"NUM_LOGS_PER_EPOCH\",\n",
    "    \"BEST_MODEL_PATH\",\n",
    "    \"torch_default_dtype\"\n",
    "}"
   ]
  },
  {
   "cell_type": "code",
   "execution_count": 3,
   "id": "fa3f0049",
   "metadata": {
    "execution": {
     "iopub.execute_input": "2022-04-01T20:07:21.084822Z",
     "iopub.status.busy": "2022-04-01T20:07:21.084536Z",
     "iopub.status.idle": "2022-04-01T20:07:21.096925Z",
     "shell.execute_reply": "2022-04-01T20:07:21.096666Z"
    },
    "papermill": {
     "duration": 0.027573,
     "end_time": "2022-04-01T20:07:21.096984",
     "exception": false,
     "start_time": "2022-04-01T20:07:21.069411",
     "status": "completed"
    },
    "tags": [
     "parameters"
    ]
   },
   "outputs": [],
   "source": [
    "\n",
    "\n",
    "standalone_parameters = {}\n",
    "standalone_parameters[\"experiment_name\"] = \"STANDALONE PTN\"\n",
    "standalone_parameters[\"lr\"] = 0.0001\n",
    "standalone_parameters[\"device\"] = \"cuda\"\n",
    "\n",
    "standalone_parameters[\"seed\"] = 1337\n",
    "standalone_parameters[\"dataset_seed\"] = 1337\n",
    "\n",
    "\n",
    "standalone_parameters[\"num_examples_per_domain_per_label_source\"]=100\n",
    "standalone_parameters[\"num_examples_per_domain_per_label_target\"]=100\n",
    "\n",
    "standalone_parameters[\"n_shot\"] = 3\n",
    "standalone_parameters[\"n_query\"]  = 2\n",
    "standalone_parameters[\"train_k_factor\"] = 1\n",
    "standalone_parameters[\"val_k_factor\"] = 2\n",
    "standalone_parameters[\"test_k_factor\"] = 2\n",
    "\n",
    "\n",
    "standalone_parameters[\"n_epoch\"] = 100\n",
    "\n",
    "standalone_parameters[\"patience\"] = 10\n",
    "standalone_parameters[\"criteria_for_best\"] = \"target_accuracy\"\n",
    "\n",
    "standalone_parameters[\"x_transforms_source\"] = [\"unit_power\"]\n",
    "standalone_parameters[\"x_transforms_target\"] = [\"unit_power\"]\n",
    "standalone_parameters[\"episode_transforms_source\"] = []\n",
    "standalone_parameters[\"episode_transforms_target\"] = []\n",
    "\n",
    "standalone_parameters[\"torch_default_dtype\"] = \"torch.float32\" \n",
    "\n",
    "\n",
    "\n",
    "standalone_parameters[\"x_net\"] =     [\n",
    "    {\"class\": \"nnReshape\", \"kargs\": {\"shape\":[-1, 1, 2, 256]}},\n",
    "    {\"class\": \"Conv2d\", \"kargs\": { \"in_channels\":1, \"out_channels\":256, \"kernel_size\":(1,7), \"bias\":False, \"padding\":(0,3), },},\n",
    "    {\"class\": \"ReLU\", \"kargs\": {\"inplace\": True}},\n",
    "    {\"class\": \"BatchNorm2d\", \"kargs\": {\"num_features\":256}},\n",
    "\n",
    "    {\"class\": \"Conv2d\", \"kargs\": { \"in_channels\":256, \"out_channels\":80, \"kernel_size\":(2,7), \"bias\":True, \"padding\":(0,3), },},\n",
    "    {\"class\": \"ReLU\", \"kargs\": {\"inplace\": True}},\n",
    "    {\"class\": \"BatchNorm2d\", \"kargs\": {\"num_features\":80}},\n",
    "    {\"class\": \"Flatten\", \"kargs\": {}},\n",
    "\n",
    "    {\"class\": \"Linear\", \"kargs\": {\"in_features\": 80*256, \"out_features\": 256}}, # 80 units per IQ pair\n",
    "    {\"class\": \"ReLU\", \"kargs\": {\"inplace\": True}},\n",
    "    {\"class\": \"BatchNorm1d\", \"kargs\": {\"num_features\":256}},\n",
    "\n",
    "    {\"class\": \"Linear\", \"kargs\": {\"in_features\": 256, \"out_features\": 256}},\n",
    "]\n",
    "\n",
    "# Parameters relevant to results\n",
    "# These parameters will basically never need to change\n",
    "standalone_parameters[\"NUM_LOGS_PER_EPOCH\"] = 10\n",
    "standalone_parameters[\"BEST_MODEL_PATH\"] = \"./best_model.pth\"\n",
    "\n",
    "# uncomment for CORES dataset\n",
    "from steves_utils.CORES.utils import (\n",
    "    ALL_NODES,\n",
    "    ALL_NODES_MINIMUM_1000_EXAMPLES,\n",
    "    ALL_DAYS\n",
    ")\n",
    "\n",
    "\n",
    "standalone_parameters[\"labels_source\"] = ALL_NODES\n",
    "standalone_parameters[\"labels_target\"] = ALL_NODES\n",
    "\n",
    "standalone_parameters[\"domains_source\"] = [1]\n",
    "standalone_parameters[\"domains_target\"] = [2,3,4,5]\n",
    "\n",
    "standalone_parameters[\"pickle_name\"] = \"cores.stratified_ds.2022A.pkl\"\n",
    "\n",
    "\n",
    "# Uncomment these for ORACLE dataset\n",
    "# from steves_utils.ORACLE.utils_v2 import (\n",
    "#     ALL_DISTANCES_FEET,\n",
    "#     ALL_RUNS,\n",
    "#     ALL_SERIAL_NUMBERS,\n",
    "# )\n",
    "# standalone_parameters[\"labels_source\"] = ALL_SERIAL_NUMBERS\n",
    "# standalone_parameters[\"labels_target\"] = ALL_SERIAL_NUMBERS\n",
    "# standalone_parameters[\"domains_source\"] = [8,20, 38,50]\n",
    "# standalone_parameters[\"domains_target\"] = [14, 26, 32, 44, 56]\n",
    "# standalone_parameters[\"pickle_name\"] = \"oracle.frame_indexed.stratified_ds.2022A.pkl\"\n",
    "# standalone_parameters[\"num_examples_per_domain_per_label_source\"]=1000\n",
    "# standalone_parameters[\"num_examples_per_domain_per_label_target\"]=1000\n",
    "\n",
    "# Uncomment these for Metahan dataset\n",
    "# standalone_parameters[\"labels_source\"] = list(range(19))\n",
    "# standalone_parameters[\"labels_target\"] = list(range(19))\n",
    "# standalone_parameters[\"domains_source\"] = [0]\n",
    "# standalone_parameters[\"domains_target\"] = [1]\n",
    "# standalone_parameters[\"pickle_name\"] = \"metehan.stratified_ds.2022A.pkl\"\n",
    "# standalone_parameters[\"n_way\"]  = len(standalone_parameters[\"labels_source\"])\n",
    "# standalone_parameters[\"num_examples_per_domain_per_label_source\"]=200\n",
    "# standalone_parameters[\"num_examples_per_domain_per_label_target\"]=100\n",
    "\n",
    "\n",
    "standalone_parameters[\"n_way\"]  = len(standalone_parameters[\"labels_source\"])"
   ]
  },
  {
   "cell_type": "code",
   "execution_count": 4,
   "id": "22d59eab",
   "metadata": {
    "execution": {
     "iopub.execute_input": "2022-04-01T20:07:21.123140Z",
     "iopub.status.busy": "2022-04-01T20:07:21.122157Z",
     "iopub.status.idle": "2022-04-01T20:07:21.135973Z",
     "shell.execute_reply": "2022-04-01T20:07:21.135719Z"
    },
    "papermill": {
     "duration": 0.029501,
     "end_time": "2022-04-01T20:07:21.136030",
     "exception": false,
     "start_time": "2022-04-01T20:07:21.106529",
     "status": "completed"
    },
    "tags": [
     "injected-parameters"
    ]
   },
   "outputs": [],
   "source": [
    "# Parameters\n",
    "parameters = {\n",
    "    \"experiment_name\": \"tuned_1v2:oracle.run1_limited\",\n",
    "    \"device\": \"cuda\",\n",
    "    \"lr\": 0.0001,\n",
    "    \"labels_source\": [\n",
    "        \"3123D52\",\n",
    "        \"3123D65\",\n",
    "        \"3123D79\",\n",
    "        \"3123D80\",\n",
    "        \"3123D54\",\n",
    "        \"3123D70\",\n",
    "        \"3123D7B\",\n",
    "        \"3123D89\",\n",
    "        \"3123D58\",\n",
    "        \"3123D76\",\n",
    "        \"3123D7D\",\n",
    "        \"3123EFE\",\n",
    "        \"3123D64\",\n",
    "        \"3123D78\",\n",
    "        \"3123D7E\",\n",
    "        \"3124E4A\",\n",
    "    ],\n",
    "    \"labels_target\": [\n",
    "        \"3123D52\",\n",
    "        \"3123D65\",\n",
    "        \"3123D79\",\n",
    "        \"3123D80\",\n",
    "        \"3123D54\",\n",
    "        \"3123D70\",\n",
    "        \"3123D7B\",\n",
    "        \"3123D89\",\n",
    "        \"3123D58\",\n",
    "        \"3123D76\",\n",
    "        \"3123D7D\",\n",
    "        \"3123EFE\",\n",
    "        \"3123D64\",\n",
    "        \"3123D78\",\n",
    "        \"3123D7E\",\n",
    "        \"3124E4A\",\n",
    "    ],\n",
    "    \"episode_transforms_source\": [],\n",
    "    \"episode_transforms_target\": [],\n",
    "    \"domains_source\": [8, 32, 50],\n",
    "    \"domains_target\": [14, 20, 26, 38, 44],\n",
    "    \"num_examples_per_domain_per_label_source\": 2000,\n",
    "    \"num_examples_per_domain_per_label_target\": 2000,\n",
    "    \"n_shot\": 3,\n",
    "    \"n_way\": 16,\n",
    "    \"n_query\": 2,\n",
    "    \"train_k_factor\": 3,\n",
    "    \"val_k_factor\": 2,\n",
    "    \"test_k_factor\": 2,\n",
    "    \"torch_default_dtype\": \"torch.float32\",\n",
    "    \"n_epoch\": 50,\n",
    "    \"patience\": 3,\n",
    "    \"criteria_for_best\": \"target_accuracy\",\n",
    "    \"x_net\": [\n",
    "        {\"class\": \"nnReshape\", \"kargs\": {\"shape\": [-1, 1, 2, 256]}},\n",
    "        {\n",
    "            \"class\": \"Conv2d\",\n",
    "            \"kargs\": {\n",
    "                \"in_channels\": 1,\n",
    "                \"out_channels\": 256,\n",
    "                \"kernel_size\": [1, 7],\n",
    "                \"bias\": False,\n",
    "                \"padding\": [0, 3],\n",
    "            },\n",
    "        },\n",
    "        {\"class\": \"ReLU\", \"kargs\": {\"inplace\": True}},\n",
    "        {\"class\": \"BatchNorm2d\", \"kargs\": {\"num_features\": 256}},\n",
    "        {\n",
    "            \"class\": \"Conv2d\",\n",
    "            \"kargs\": {\n",
    "                \"in_channels\": 256,\n",
    "                \"out_channels\": 80,\n",
    "                \"kernel_size\": [2, 7],\n",
    "                \"bias\": True,\n",
    "                \"padding\": [0, 3],\n",
    "            },\n",
    "        },\n",
    "        {\"class\": \"ReLU\", \"kargs\": {\"inplace\": True}},\n",
    "        {\"class\": \"BatchNorm2d\", \"kargs\": {\"num_features\": 80}},\n",
    "        {\"class\": \"Flatten\", \"kargs\": {}},\n",
    "        {\"class\": \"Linear\", \"kargs\": {\"in_features\": 20480, \"out_features\": 256}},\n",
    "        {\"class\": \"ReLU\", \"kargs\": {\"inplace\": True}},\n",
    "        {\"class\": \"BatchNorm1d\", \"kargs\": {\"num_features\": 256}},\n",
    "        {\"class\": \"Linear\", \"kargs\": {\"in_features\": 256, \"out_features\": 256}},\n",
    "    ],\n",
    "    \"NUM_LOGS_PER_EPOCH\": 10,\n",
    "    \"BEST_MODEL_PATH\": \"./best_model.pth\",\n",
    "    \"pickle_name\": \"oracle.Run1_10kExamples_stratified_ds.2022A.pkl\",\n",
    "    \"x_transforms_source\": [\"unit_mag\"],\n",
    "    \"x_transforms_target\": [\"unit_mag\"],\n",
    "    \"dataset_seed\": 1337,\n",
    "    \"seed\": 1337,\n",
    "}\n"
   ]
  },
  {
   "cell_type": "code",
   "execution_count": 5,
   "id": "8fa1cc33",
   "metadata": {
    "execution": {
     "iopub.execute_input": "2022-04-01T20:07:21.158970Z",
     "iopub.status.busy": "2022-04-01T20:07:21.158673Z",
     "iopub.status.idle": "2022-04-01T20:07:21.174569Z",
     "shell.execute_reply": "2022-04-01T20:07:21.174349Z"
    },
    "papermill": {
     "duration": 0.028854,
     "end_time": "2022-04-01T20:07:21.174622",
     "exception": false,
     "start_time": "2022-04-01T20:07:21.145768",
     "status": "completed"
    },
    "tags": []
   },
   "outputs": [],
   "source": [
    "# Set this to True if you want to run this template directly\n",
    "STANDALONE = False\n",
    "if STANDALONE:\n",
    "    print(\"parameters not injected, running with standalone_parameters\")\n",
    "    parameters = standalone_parameters\n",
    "\n",
    "if not 'parameters' in locals() and not 'parameters' in globals():\n",
    "    raise Exception(\"Parameter injection failed\")\n",
    "\n",
    "#Use an easy dict for all the parameters\n",
    "p = EasyDict(parameters)\n",
    "\n",
    "supplied_keys = set(p.keys())\n",
    "\n",
    "if  supplied_keys != required_parameters:\n",
    "    print(\"Parameters are incorrect\")\n",
    "    if len(supplied_keys - required_parameters)>0: print(\"Shouldn't have:\", str(supplied_keys - required_parameters))\n",
    "    if len(required_parameters - supplied_keys)>0: print(\"Need to have:\", str(required_parameters - supplied_keys))\n",
    "    raise RuntimeError(\"Parameters are incorrect\")\n",
    "\n"
   ]
  },
  {
   "cell_type": "code",
   "execution_count": 6,
   "id": "3a028d58",
   "metadata": {
    "execution": {
     "iopub.execute_input": "2022-04-01T20:07:21.195868Z",
     "iopub.status.busy": "2022-04-01T20:07:21.195621Z",
     "iopub.status.idle": "2022-04-01T20:07:21.211800Z",
     "shell.execute_reply": "2022-04-01T20:07:21.211549Z"
    },
    "papermill": {
     "duration": 0.027636,
     "end_time": "2022-04-01T20:07:21.211855",
     "exception": false,
     "start_time": "2022-04-01T20:07:21.184219",
     "status": "completed"
    },
    "tags": []
   },
   "outputs": [],
   "source": [
    "###################################\n",
    "# Set the RNGs and make it all deterministic\n",
    "###################################\n",
    "np.random.seed(p.seed)\n",
    "random.seed(p.seed)\n",
    "torch.manual_seed(p.seed)\n",
    "\n",
    "torch.use_deterministic_algorithms(True) "
   ]
  },
  {
   "cell_type": "code",
   "execution_count": 7,
   "id": "b691acf6",
   "metadata": {
    "execution": {
     "iopub.execute_input": "2022-04-01T20:07:21.240670Z",
     "iopub.status.busy": "2022-04-01T20:07:21.231997Z",
     "iopub.status.idle": "2022-04-01T20:07:21.246677Z",
     "shell.execute_reply": "2022-04-01T20:07:21.246428Z"
    },
    "papermill": {
     "duration": 0.025286,
     "end_time": "2022-04-01T20:07:21.246731",
     "exception": false,
     "start_time": "2022-04-01T20:07:21.221445",
     "status": "completed"
    },
    "tags": []
   },
   "outputs": [],
   "source": [
    "###########################################\n",
    "# The stratified datasets honor this\n",
    "###########################################\n",
    "torch.set_default_dtype(eval(p.torch_default_dtype))"
   ]
  },
  {
   "cell_type": "code",
   "execution_count": 8,
   "id": "b5fba671",
   "metadata": {
    "execution": {
     "iopub.execute_input": "2022-04-01T20:07:21.271156Z",
     "iopub.status.busy": "2022-04-01T20:07:21.268068Z",
     "iopub.status.idle": "2022-04-01T20:07:21.310337Z",
     "shell.execute_reply": "2022-04-01T20:07:21.310058Z"
    },
    "papermill": {
     "duration": 0.053836,
     "end_time": "2022-04-01T20:07:21.310401",
     "exception": false,
     "start_time": "2022-04-01T20:07:21.256565",
     "status": "completed"
    },
    "tags": []
   },
   "outputs": [],
   "source": [
    "###################################\n",
    "# Build the network(s)\n",
    "# Note: It's critical to do this AFTER setting the RNG\n",
    "# (This is due to the randomized initial weights)\n",
    "###################################\n",
    "x_net = build_sequential(p.x_net)"
   ]
  },
  {
   "cell_type": "code",
   "execution_count": 9,
   "id": "5d7e61cc",
   "metadata": {
    "execution": {
     "iopub.execute_input": "2022-04-01T20:07:21.336588Z",
     "iopub.status.busy": "2022-04-01T20:07:21.336339Z",
     "iopub.status.idle": "2022-04-01T20:07:21.353052Z",
     "shell.execute_reply": "2022-04-01T20:07:21.352572Z"
    },
    "papermill": {
     "duration": 0.028633,
     "end_time": "2022-04-01T20:07:21.353151",
     "exception": false,
     "start_time": "2022-04-01T20:07:21.324518",
     "status": "completed"
    },
    "tags": []
   },
   "outputs": [],
   "source": [
    "start_time_secs = time.time()"
   ]
  },
  {
   "cell_type": "code",
   "execution_count": 10,
   "id": "fd5442bc",
   "metadata": {
    "execution": {
     "iopub.execute_input": "2022-04-01T20:07:21.384806Z",
     "iopub.status.busy": "2022-04-01T20:07:21.384524Z",
     "iopub.status.idle": "2022-04-01T20:07:39.984993Z",
     "shell.execute_reply": "2022-04-01T20:07:39.984534Z"
    },
    "papermill": {
     "duration": 18.619048,
     "end_time": "2022-04-01T20:07:39.985101",
     "exception": false,
     "start_time": "2022-04-01T20:07:21.366053",
     "status": "completed"
    },
    "tags": []
   },
   "outputs": [],
   "source": [
    "###################################\n",
    "# Build the dataset\n",
    "###################################\n",
    "\n",
    "if p.x_transforms_source == []: x_transform_source = None\n",
    "else: x_transform_source = get_chained_transform(p.x_transforms_source) \n",
    "\n",
    "if p.x_transforms_target == []: x_transform_target = None\n",
    "else: x_transform_target = get_chained_transform(p.x_transforms_target)\n",
    "\n",
    "if p.episode_transforms_source == []: episode_transform_source = None\n",
    "else: raise Exception(\"episode_transform_source not implemented\")\n",
    "\n",
    "if p.episode_transforms_target == []: episode_transform_target = None\n",
    "else: raise Exception(\"episode_transform_target not implemented\")\n",
    "\n",
    "\n",
    "eaf_source = Episodic_Accessor_Factory(\n",
    "    labels=p.labels_source,\n",
    "    domains=p.domains_source,\n",
    "    num_examples_per_domain_per_label=p.num_examples_per_domain_per_label_source,\n",
    "    iterator_seed=p.seed,\n",
    "    dataset_seed=p.dataset_seed,\n",
    "    n_shot=p.n_shot,\n",
    "    n_way=p.n_way,\n",
    "    n_query=p.n_query,\n",
    "    train_val_test_k_factors=(p.train_k_factor,p.val_k_factor,p.test_k_factor),\n",
    "    pickle_path=os.path.join(get_datasets_base_path(), p.pickle_name),\n",
    "    x_transform_func=x_transform_source,\n",
    "    example_transform_func=episode_transform_source,\n",
    "    \n",
    ")\n",
    "train_original_source, val_original_source, test_original_source = eaf_source.get_train(), eaf_source.get_val(), eaf_source.get_test()\n",
    "\n",
    "\n",
    "eaf_target = Episodic_Accessor_Factory(\n",
    "    labels=p.labels_target,\n",
    "    domains=p.domains_target,\n",
    "    num_examples_per_domain_per_label=p.num_examples_per_domain_per_label_target,\n",
    "    iterator_seed=p.seed,\n",
    "    dataset_seed=p.dataset_seed,\n",
    "    n_shot=p.n_shot,\n",
    "    n_way=p.n_way,\n",
    "    n_query=p.n_query,\n",
    "    train_val_test_k_factors=(p.train_k_factor,p.val_k_factor,p.test_k_factor),\n",
    "    pickle_path=os.path.join(get_datasets_base_path(), p.pickle_name),\n",
    "    x_transform_func=x_transform_target,\n",
    "    example_transform_func=episode_transform_target,\n",
    ")\n",
    "train_original_target, val_original_target, test_original_target = eaf_target.get_train(), eaf_target.get_val(), eaf_target.get_test()\n",
    "\n",
    "\n",
    "transform_lambda = lambda ex: ex[1] # Original is (<domain>, <episode>) so we strip down to episode only\n",
    "\n",
    "train_processed_source = Lazy_Iterable_Wrapper(train_original_source, transform_lambda)\n",
    "val_processed_source   = Lazy_Iterable_Wrapper(val_original_source, transform_lambda)\n",
    "test_processed_source  = Lazy_Iterable_Wrapper(test_original_source, transform_lambda)\n",
    "\n",
    "train_processed_target = Lazy_Iterable_Wrapper(train_original_target, transform_lambda)\n",
    "val_processed_target   = Lazy_Iterable_Wrapper(val_original_target, transform_lambda)\n",
    "test_processed_target  = Lazy_Iterable_Wrapper(test_original_target, transform_lambda)\n",
    "\n",
    "datasets = EasyDict({\n",
    "    \"source\": {\n",
    "        \"original\": {\"train\":train_original_source, \"val\":val_original_source, \"test\":test_original_source},\n",
    "        \"processed\": {\"train\":train_processed_source, \"val\":val_processed_source, \"test\":test_processed_source}\n",
    "    },\n",
    "    \"target\": {\n",
    "        \"original\": {\"train\":train_original_target, \"val\":val_original_target, \"test\":test_original_target},\n",
    "        \"processed\": {\"train\":train_processed_target, \"val\":val_processed_target, \"test\":test_processed_target}\n",
    "    },\n",
    "})"
   ]
  },
  {
   "cell_type": "code",
   "execution_count": 11,
   "id": "296189d9",
   "metadata": {
    "execution": {
     "iopub.execute_input": "2022-04-01T20:07:40.016422Z",
     "iopub.status.busy": "2022-04-01T20:07:40.016157Z",
     "iopub.status.idle": "2022-04-01T20:07:41.638396Z",
     "shell.execute_reply": "2022-04-01T20:07:41.638055Z"
    },
    "papermill": {
     "duration": 1.63639,
     "end_time": "2022-04-01T20:07:41.638483",
     "exception": false,
     "start_time": "2022-04-01T20:07:40.002093",
     "status": "completed"
    },
    "tags": []
   },
   "outputs": [
    {
     "name": "stdout",
     "output_type": "stream",
     "text": [
      "Visually inspect these to see if they line up with expected values given the transforms\n",
      "x_transforms_source ['unit_mag']\n",
      "x_transforms_target ['unit_mag']\n",
      "Average magnitude, source: 1.0\n",
      "Average power, source: 1.2759831\n"
     ]
    },
    {
     "name": "stdout",
     "output_type": "stream",
     "text": [
      "Average magnitude, target: 1.0\n",
      "Average power, target: 1.2754757\n"
     ]
    }
   ],
   "source": [
    "# Some quick unit tests on the data\n",
    "from steves_utils.transforms import get_average_power, get_average_magnitude\n",
    "\n",
    "q_x, q_y, s_x, s_y, truth = next(iter(train_processed_source))\n",
    "\n",
    "assert q_x.dtype == eval(p.torch_default_dtype)\n",
    "assert s_x.dtype == eval(p.torch_default_dtype)\n",
    "\n",
    "print(\"Visually inspect these to see if they line up with expected values given the transforms\")\n",
    "print('x_transforms_source', p.x_transforms_source)\n",
    "print('x_transforms_target', p.x_transforms_target)\n",
    "print(\"Average magnitude, source:\", get_average_magnitude(q_x[0].numpy()))\n",
    "print(\"Average power, source:\", get_average_power(q_x[0].numpy()))\n",
    "\n",
    "q_x, q_y, s_x, s_y, truth = next(iter(train_processed_target))\n",
    "print(\"Average magnitude, target:\", get_average_magnitude(q_x[0].numpy()))\n",
    "print(\"Average power, target:\", get_average_power(q_x[0].numpy()))\n"
   ]
  },
  {
   "cell_type": "code",
   "execution_count": 12,
   "id": "bbdacba1",
   "metadata": {
    "execution": {
     "iopub.execute_input": "2022-04-01T20:07:41.665671Z",
     "iopub.status.busy": "2022-04-01T20:07:41.665078Z",
     "iopub.status.idle": "2022-04-01T20:07:41.727744Z",
     "shell.execute_reply": "2022-04-01T20:07:41.727983Z"
    },
    "papermill": {
     "duration": 0.076132,
     "end_time": "2022-04-01T20:07:41.728066",
     "exception": false,
     "start_time": "2022-04-01T20:07:41.651934",
     "status": "completed"
    },
    "tags": []
   },
   "outputs": [
    {
     "name": "stdout",
     "output_type": "stream",
     "text": [
      "(2, 256)\n"
     ]
    }
   ],
   "source": [
    "###################################\n",
    "# Build the model\n",
    "###################################\n",
    "model = Steves_Prototypical_Network(x_net, device=p.device, x_shape=(2,256))\n",
    "optimizer = Adam(params=model.parameters(), lr=p.lr)"
   ]
  },
  {
   "cell_type": "code",
   "execution_count": 13,
   "id": "22b39ac5",
   "metadata": {
    "execution": {
     "iopub.execute_input": "2022-04-01T20:07:41.753907Z",
     "iopub.status.busy": "2022-04-01T20:07:41.753498Z",
     "iopub.status.idle": "2022-04-01T20:24:24.042427Z",
     "shell.execute_reply": "2022-04-01T20:24:24.042202Z"
    },
    "papermill": {
     "duration": 1002.301557,
     "end_time": "2022-04-01T20:24:24.042484",
     "exception": false,
     "start_time": "2022-04-01T20:07:41.740927",
     "status": "completed"
    },
    "tags": []
   },
   "outputs": [
    {
     "name": "stdout",
     "output_type": "stream",
     "text": [
      "epoch: 1, [batch: 1 / 2520], examples_per_second: 125.9104, train_label_loss: 2.7536, \n"
     ]
    },
    {
     "name": "stdout",
     "output_type": "stream",
     "text": [
      "epoch: 1, [batch: 252 / 2520], examples_per_second: 3152.1130, train_label_loss: 2.8181, \n"
     ]
    },
    {
     "name": "stdout",
     "output_type": "stream",
     "text": [
      "epoch: 1, [batch: 504 / 2520], examples_per_second: 3176.4964, train_label_loss: 2.4049, \n"
     ]
    },
    {
     "name": "stdout",
     "output_type": "stream",
     "text": [
      "epoch: 1, [batch: 756 / 2520], examples_per_second: 3167.4327, train_label_loss: 1.4599, \n"
     ]
    },
    {
     "name": "stdout",
     "output_type": "stream",
     "text": [
      "epoch: 1, [batch: 1008 / 2520], examples_per_second: 3151.2750, train_label_loss: 1.4776, \n"
     ]
    },
    {
     "name": "stdout",
     "output_type": "stream",
     "text": [
      "epoch: 1, [batch: 1260 / 2520], examples_per_second: 3166.0206, train_label_loss: 1.4840, \n"
     ]
    },
    {
     "name": "stdout",
     "output_type": "stream",
     "text": [
      "epoch: 1, [batch: 1512 / 2520], examples_per_second: 3154.7506, train_label_loss: 1.3221, \n"
     ]
    },
    {
     "name": "stdout",
     "output_type": "stream",
     "text": [
      "epoch: 1, [batch: 1764 / 2520], examples_per_second: 3163.2795, train_label_loss: 1.3232, \n"
     ]
    },
    {
     "name": "stdout",
     "output_type": "stream",
     "text": [
      "epoch: 1, [batch: 2016 / 2520], examples_per_second: 3171.6688, train_label_loss: 1.3107, \n"
     ]
    },
    {
     "name": "stdout",
     "output_type": "stream",
     "text": [
      "epoch: 1, [batch: 2268 / 2520], examples_per_second: 3187.1164, train_label_loss: 1.3593, \n"
     ]
    },
    {
     "name": "stdout",
     "output_type": "stream",
     "text": [
      "=============================================================\n",
      "epoch: 1, source_val_acc_label: 0.3921, target_val_acc_label: 0.2762, source_val_label_loss: 1.5546, target_val_label_loss: 1.8926, \n",
      "=============================================================\n"
     ]
    },
    {
     "name": "stdout",
     "output_type": "stream",
     "text": [
      "New best\n"
     ]
    },
    {
     "name": "stdout",
     "output_type": "stream",
     "text": [
      "epoch: 2, [batch: 1 / 2520], examples_per_second: 11.1392, train_label_loss: 1.0864, \n"
     ]
    },
    {
     "name": "stdout",
     "output_type": "stream",
     "text": [
      "epoch: 2, [batch: 252 / 2520], examples_per_second: 3167.9262, train_label_loss: 1.1134, \n"
     ]
    },
    {
     "name": "stdout",
     "output_type": "stream",
     "text": [
      "epoch: 2, [batch: 504 / 2520], examples_per_second: 3161.2214, train_label_loss: 1.3870, \n"
     ]
    },
    {
     "name": "stdout",
     "output_type": "stream",
     "text": [
      "epoch: 2, [batch: 756 / 2520], examples_per_second: 3162.4707, train_label_loss: 1.4070, \n"
     ]
    },
    {
     "name": "stdout",
     "output_type": "stream",
     "text": [
      "epoch: 2, [batch: 1008 / 2520], examples_per_second: 3152.9415, train_label_loss: 1.3953, \n"
     ]
    },
    {
     "name": "stdout",
     "output_type": "stream",
     "text": [
      "epoch: 2, [batch: 1260 / 2520], examples_per_second: 3153.3273, train_label_loss: 1.5392, \n"
     ]
    },
    {
     "name": "stdout",
     "output_type": "stream",
     "text": [
      "epoch: 2, [batch: 1512 / 2520], examples_per_second: 3165.4278, train_label_loss: 1.5016, \n"
     ]
    },
    {
     "name": "stdout",
     "output_type": "stream",
     "text": [
      "epoch: 2, [batch: 1764 / 2520], examples_per_second: 3135.5259, train_label_loss: 1.5533, \n"
     ]
    },
    {
     "name": "stdout",
     "output_type": "stream",
     "text": [
      "epoch: 2, [batch: 2016 / 2520], examples_per_second: 3155.0662, train_label_loss: 1.4608, \n"
     ]
    },
    {
     "name": "stdout",
     "output_type": "stream",
     "text": [
      "epoch: 2, [batch: 2268 / 2520], examples_per_second: 3167.4367, train_label_loss: 1.4208, \n"
     ]
    },
    {
     "name": "stdout",
     "output_type": "stream",
     "text": [
      "=============================================================\n",
      "epoch: 2, source_val_acc_label: 0.4134, target_val_acc_label: 0.2920, source_val_label_loss: 1.4852, target_val_label_loss: 1.8146, \n",
      "=============================================================\n"
     ]
    },
    {
     "name": "stdout",
     "output_type": "stream",
     "text": [
      "New best\n"
     ]
    },
    {
     "name": "stdout",
     "output_type": "stream",
     "text": [
      "epoch: 3, [batch: 1 / 2520], examples_per_second: 11.1004, train_label_loss: 1.4032, \n"
     ]
    },
    {
     "name": "stdout",
     "output_type": "stream",
     "text": [
      "epoch: 3, [batch: 252 / 2520], examples_per_second: 3153.7096, train_label_loss: 1.0865, \n"
     ]
    },
    {
     "name": "stdout",
     "output_type": "stream",
     "text": [
      "epoch: 3, [batch: 504 / 2520], examples_per_second: 3135.6444, train_label_loss: 1.1214, \n"
     ]
    },
    {
     "name": "stdout",
     "output_type": "stream",
     "text": [
      "epoch: 3, [batch: 756 / 2520], examples_per_second: 3159.6602, train_label_loss: 1.3476, \n"
     ]
    },
    {
     "name": "stdout",
     "output_type": "stream",
     "text": [
      "epoch: 3, [batch: 1008 / 2520], examples_per_second: 3169.2998, train_label_loss: 1.1361, \n"
     ]
    },
    {
     "name": "stdout",
     "output_type": "stream",
     "text": [
      "epoch: 3, [batch: 1260 / 2520], examples_per_second: 3178.5750, train_label_loss: 1.2537, \n"
     ]
    },
    {
     "name": "stdout",
     "output_type": "stream",
     "text": [
      "epoch: 3, [batch: 1512 / 2520], examples_per_second: 3164.3088, train_label_loss: 1.3553, \n"
     ]
    },
    {
     "name": "stdout",
     "output_type": "stream",
     "text": [
      "epoch: 3, [batch: 1764 / 2520], examples_per_second: 3154.3100, train_label_loss: 1.2653, \n"
     ]
    },
    {
     "name": "stdout",
     "output_type": "stream",
     "text": [
      "epoch: 3, [batch: 2016 / 2520], examples_per_second: 3163.7024, train_label_loss: 0.9697, \n"
     ]
    },
    {
     "name": "stdout",
     "output_type": "stream",
     "text": [
      "epoch: 3, [batch: 2268 / 2520], examples_per_second: 3152.1606, train_label_loss: 1.0605, \n"
     ]
    },
    {
     "name": "stdout",
     "output_type": "stream",
     "text": [
      "=============================================================\n",
      "epoch: 3, source_val_acc_label: 0.5022, target_val_acc_label: 0.3944, source_val_label_loss: 1.3209, target_val_label_loss: 1.6135, \n",
      "=============================================================\n"
     ]
    },
    {
     "name": "stdout",
     "output_type": "stream",
     "text": [
      "New best\n"
     ]
    },
    {
     "name": "stdout",
     "output_type": "stream",
     "text": [
      "epoch: 4, [batch: 1 / 2520], examples_per_second: 11.0901, train_label_loss: 0.9053, \n"
     ]
    },
    {
     "name": "stdout",
     "output_type": "stream",
     "text": [
      "epoch: 4, [batch: 252 / 2520], examples_per_second: 3155.3376, train_label_loss: 1.0795, \n"
     ]
    },
    {
     "name": "stdout",
     "output_type": "stream",
     "text": [
      "epoch: 4, [batch: 504 / 2520], examples_per_second: 3185.1805, train_label_loss: 1.2244, \n"
     ]
    },
    {
     "name": "stdout",
     "output_type": "stream",
     "text": [
      "epoch: 4, [batch: 756 / 2520], examples_per_second: 3173.9222, train_label_loss: 1.0009, \n"
     ]
    },
    {
     "name": "stdout",
     "output_type": "stream",
     "text": [
      "epoch: 4, [batch: 1008 / 2520], examples_per_second: 3154.2110, train_label_loss: 0.5225, \n"
     ]
    },
    {
     "name": "stdout",
     "output_type": "stream",
     "text": [
      "epoch: 4, [batch: 1260 / 2520], examples_per_second: 3163.7025, train_label_loss: 1.2299, \n"
     ]
    },
    {
     "name": "stdout",
     "output_type": "stream",
     "text": [
      "epoch: 4, [batch: 1512 / 2520], examples_per_second: 3176.8991, train_label_loss: 1.4120, \n"
     ]
    },
    {
     "name": "stdout",
     "output_type": "stream",
     "text": [
      "epoch: 4, [batch: 1764 / 2520], examples_per_second: 3171.9198, train_label_loss: 0.7081, \n"
     ]
    },
    {
     "name": "stdout",
     "output_type": "stream",
     "text": [
      "epoch: 4, [batch: 2016 / 2520], examples_per_second: 3176.8526, train_label_loss: 0.8037, \n"
     ]
    },
    {
     "name": "stdout",
     "output_type": "stream",
     "text": [
      "epoch: 4, [batch: 2268 / 2520], examples_per_second: 3172.4913, train_label_loss: 1.0976, \n"
     ]
    },
    {
     "name": "stdout",
     "output_type": "stream",
     "text": [
      "=============================================================\n",
      "epoch: 4, source_val_acc_label: 0.5578, target_val_acc_label: 0.4649, source_val_label_loss: 1.2310, target_val_label_loss: 1.4657, \n",
      "=============================================================\n"
     ]
    },
    {
     "name": "stdout",
     "output_type": "stream",
     "text": [
      "New best\n"
     ]
    },
    {
     "name": "stdout",
     "output_type": "stream",
     "text": [
      "epoch: 5, [batch: 1 / 2520], examples_per_second: 11.1093, train_label_loss: 0.6686, \n"
     ]
    },
    {
     "name": "stdout",
     "output_type": "stream",
     "text": [
      "epoch: 5, [batch: 252 / 2520], examples_per_second: 3146.7493, train_label_loss: 0.7769, \n"
     ]
    },
    {
     "name": "stdout",
     "output_type": "stream",
     "text": [
      "epoch: 5, [batch: 504 / 2520], examples_per_second: 3184.7569, train_label_loss: 0.4933, \n"
     ]
    },
    {
     "name": "stdout",
     "output_type": "stream",
     "text": [
      "epoch: 5, [batch: 756 / 2520], examples_per_second: 3163.1460, train_label_loss: 1.1471, \n"
     ]
    },
    {
     "name": "stdout",
     "output_type": "stream",
     "text": [
      "epoch: 5, [batch: 1008 / 2520], examples_per_second: 3160.6413, train_label_loss: 0.6017, \n"
     ]
    },
    {
     "name": "stdout",
     "output_type": "stream",
     "text": [
      "epoch: 5, [batch: 1260 / 2520], examples_per_second: 3175.2674, train_label_loss: 0.9507, \n"
     ]
    },
    {
     "name": "stdout",
     "output_type": "stream",
     "text": [
      "epoch: 5, [batch: 1512 / 2520], examples_per_second: 3169.1601, train_label_loss: 0.6694, \n"
     ]
    },
    {
     "name": "stdout",
     "output_type": "stream",
     "text": [
      "epoch: 5, [batch: 1764 / 2520], examples_per_second: 3158.3134, train_label_loss: 0.5538, \n"
     ]
    },
    {
     "name": "stdout",
     "output_type": "stream",
     "text": [
      "epoch: 5, [batch: 2016 / 2520], examples_per_second: 3187.7080, train_label_loss: 0.2386, \n"
     ]
    },
    {
     "name": "stdout",
     "output_type": "stream",
     "text": [
      "epoch: 5, [batch: 2268 / 2520], examples_per_second: 3180.7593, train_label_loss: 0.7297, \n"
     ]
    },
    {
     "name": "stdout",
     "output_type": "stream",
     "text": [
      "=============================================================\n",
      "epoch: 5, source_val_acc_label: 0.5723, target_val_acc_label: 0.4842, source_val_label_loss: 1.2581, target_val_label_loss: 1.4750, \n",
      "=============================================================\n"
     ]
    },
    {
     "name": "stdout",
     "output_type": "stream",
     "text": [
      "New best\n"
     ]
    },
    {
     "name": "stdout",
     "output_type": "stream",
     "text": [
      "epoch: 6, [batch: 1 / 2520], examples_per_second: 11.0761, train_label_loss: 0.8328, \n"
     ]
    },
    {
     "name": "stdout",
     "output_type": "stream",
     "text": [
      "epoch: 6, [batch: 252 / 2520], examples_per_second: 3156.7404, train_label_loss: 0.7129, \n"
     ]
    },
    {
     "name": "stdout",
     "output_type": "stream",
     "text": [
      "epoch: 6, [batch: 504 / 2520], examples_per_second: 3155.2516, train_label_loss: 0.5027, \n"
     ]
    },
    {
     "name": "stdout",
     "output_type": "stream",
     "text": [
      "epoch: 6, [batch: 756 / 2520], examples_per_second: 3151.1187, train_label_loss: 0.8933, \n"
     ]
    },
    {
     "name": "stdout",
     "output_type": "stream",
     "text": [
      "epoch: 6, [batch: 1008 / 2520], examples_per_second: 3169.0261, train_label_loss: 0.7634, \n"
     ]
    },
    {
     "name": "stdout",
     "output_type": "stream",
     "text": [
      "epoch: 6, [batch: 1260 / 2520], examples_per_second: 3177.2688, train_label_loss: 0.5809, \n"
     ]
    },
    {
     "name": "stdout",
     "output_type": "stream",
     "text": [
      "epoch: 6, [batch: 1512 / 2520], examples_per_second: 3167.6670, train_label_loss: 1.1071, \n"
     ]
    },
    {
     "name": "stdout",
     "output_type": "stream",
     "text": [
      "epoch: 6, [batch: 1764 / 2520], examples_per_second: 3148.8576, train_label_loss: 0.5802, \n"
     ]
    },
    {
     "name": "stdout",
     "output_type": "stream",
     "text": [
      "epoch: 6, [batch: 2016 / 2520], examples_per_second: 3185.0952, train_label_loss: 0.5145, \n"
     ]
    },
    {
     "name": "stdout",
     "output_type": "stream",
     "text": [
      "epoch: 6, [batch: 2268 / 2520], examples_per_second: 3173.3354, train_label_loss: 0.5338, \n"
     ]
    },
    {
     "name": "stdout",
     "output_type": "stream",
     "text": [
      "=============================================================\n",
      "epoch: 6, source_val_acc_label: 0.5806, target_val_acc_label: 0.4924, source_val_label_loss: 1.3073, target_val_label_loss: 1.5239, \n",
      "=============================================================\n"
     ]
    },
    {
     "name": "stdout",
     "output_type": "stream",
     "text": [
      "New best\n"
     ]
    },
    {
     "name": "stdout",
     "output_type": "stream",
     "text": [
      "epoch: 7, [batch: 1 / 2520], examples_per_second: 11.0655, train_label_loss: 0.5264, \n"
     ]
    },
    {
     "name": "stdout",
     "output_type": "stream",
     "text": [
      "epoch: 7, [batch: 252 / 2520], examples_per_second: 3166.9431, train_label_loss: 0.4701, \n"
     ]
    },
    {
     "name": "stdout",
     "output_type": "stream",
     "text": [
      "epoch: 7, [batch: 504 / 2520], examples_per_second: 3166.8428, train_label_loss: 0.3118, \n"
     ]
    },
    {
     "name": "stdout",
     "output_type": "stream",
     "text": [
      "epoch: 7, [batch: 756 / 2520], examples_per_second: 3174.4093, train_label_loss: 0.5148, \n"
     ]
    },
    {
     "name": "stdout",
     "output_type": "stream",
     "text": [
      "epoch: 7, [batch: 1008 / 2520], examples_per_second: 3170.5195, train_label_loss: 0.3968, \n"
     ]
    },
    {
     "name": "stdout",
     "output_type": "stream",
     "text": [
      "epoch: 7, [batch: 1260 / 2520], examples_per_second: 3179.6992, train_label_loss: 0.1783, \n"
     ]
    },
    {
     "name": "stdout",
     "output_type": "stream",
     "text": [
      "epoch: 7, [batch: 1512 / 2520], examples_per_second: 3188.6016, train_label_loss: 0.3793, \n"
     ]
    },
    {
     "name": "stdout",
     "output_type": "stream",
     "text": [
      "epoch: 7, [batch: 1764 / 2520], examples_per_second: 3195.1084, train_label_loss: 0.3957, \n"
     ]
    },
    {
     "name": "stdout",
     "output_type": "stream",
     "text": [
      "epoch: 7, [batch: 2016 / 2520], examples_per_second: 3163.1904, train_label_loss: 0.3636, \n"
     ]
    },
    {
     "name": "stdout",
     "output_type": "stream",
     "text": [
      "epoch: 7, [batch: 2268 / 2520], examples_per_second: 3181.6962, train_label_loss: 0.6903, \n"
     ]
    },
    {
     "name": "stdout",
     "output_type": "stream",
     "text": [
      "=============================================================\n",
      "epoch: 7, source_val_acc_label: 0.5829, target_val_acc_label: 0.4916, source_val_label_loss: 1.3907, target_val_label_loss: 1.6006, \n",
      "=============================================================\n"
     ]
    },
    {
     "name": "stdout",
     "output_type": "stream",
     "text": [
      "epoch: 8, [batch: 1 / 2520], examples_per_second: 11.1608, train_label_loss: 0.5678, \n"
     ]
    },
    {
     "name": "stdout",
     "output_type": "stream",
     "text": [
      "epoch: 8, [batch: 252 / 2520], examples_per_second: 3186.2810, train_label_loss: 0.8652, \n"
     ]
    },
    {
     "name": "stdout",
     "output_type": "stream",
     "text": [
      "epoch: 8, [batch: 504 / 2520], examples_per_second: 3161.0519, train_label_loss: 0.4804, \n"
     ]
    },
    {
     "name": "stdout",
     "output_type": "stream",
     "text": [
      "epoch: 8, [batch: 756 / 2520], examples_per_second: 3188.9522, train_label_loss: 0.4917, \n"
     ]
    },
    {
     "name": "stdout",
     "output_type": "stream",
     "text": [
      "epoch: 8, [batch: 1008 / 2520], examples_per_second: 3176.9346, train_label_loss: 0.3399, \n"
     ]
    },
    {
     "name": "stdout",
     "output_type": "stream",
     "text": [
      "epoch: 8, [batch: 1260 / 2520], examples_per_second: 3176.1374, train_label_loss: 0.3929, \n"
     ]
    },
    {
     "name": "stdout",
     "output_type": "stream",
     "text": [
      "epoch: 8, [batch: 1512 / 2520], examples_per_second: 3178.7710, train_label_loss: 0.2149, \n"
     ]
    },
    {
     "name": "stdout",
     "output_type": "stream",
     "text": [
      "epoch: 8, [batch: 1764 / 2520], examples_per_second: 3164.4400, train_label_loss: 0.2502, \n"
     ]
    },
    {
     "name": "stdout",
     "output_type": "stream",
     "text": [
      "epoch: 8, [batch: 2016 / 2520], examples_per_second: 3178.2982, train_label_loss: 0.1751, \n"
     ]
    },
    {
     "name": "stdout",
     "output_type": "stream",
     "text": [
      "epoch: 8, [batch: 2268 / 2520], examples_per_second: 3174.9141, train_label_loss: 0.4647, \n"
     ]
    },
    {
     "name": "stdout",
     "output_type": "stream",
     "text": [
      "=============================================================\n",
      "epoch: 8, source_val_acc_label: 0.5760, target_val_acc_label: 0.4911, source_val_label_loss: 1.4986, target_val_label_loss: 1.6724, \n",
      "=============================================================\n"
     ]
    },
    {
     "name": "stdout",
     "output_type": "stream",
     "text": [
      "epoch: 9, [batch: 1 / 2520], examples_per_second: 11.0750, train_label_loss: 0.1583, \n"
     ]
    },
    {
     "name": "stdout",
     "output_type": "stream",
     "text": [
      "epoch: 9, [batch: 252 / 2520], examples_per_second: 3176.7416, train_label_loss: 0.2379, \n"
     ]
    },
    {
     "name": "stdout",
     "output_type": "stream",
     "text": [
      "epoch: 9, [batch: 504 / 2520], examples_per_second: 3195.7091, train_label_loss: 0.2082, \n"
     ]
    },
    {
     "name": "stdout",
     "output_type": "stream",
     "text": [
      "epoch: 9, [batch: 756 / 2520], examples_per_second: 3182.6515, train_label_loss: 0.4611, \n"
     ]
    },
    {
     "name": "stdout",
     "output_type": "stream",
     "text": [
      "epoch: 9, [batch: 1008 / 2520], examples_per_second: 3161.4025, train_label_loss: 0.2639, \n"
     ]
    },
    {
     "name": "stdout",
     "output_type": "stream",
     "text": [
      "epoch: 9, [batch: 1260 / 2520], examples_per_second: 3182.6788, train_label_loss: 0.4304, \n"
     ]
    },
    {
     "name": "stdout",
     "output_type": "stream",
     "text": [
      "epoch: 9, [batch: 1512 / 2520], examples_per_second: 3182.3141, train_label_loss: 0.4540, \n"
     ]
    },
    {
     "name": "stdout",
     "output_type": "stream",
     "text": [
      "epoch: 9, [batch: 1764 / 2520], examples_per_second: 3167.0451, train_label_loss: 0.2154, \n"
     ]
    },
    {
     "name": "stdout",
     "output_type": "stream",
     "text": [
      "epoch: 9, [batch: 2016 / 2520], examples_per_second: 3169.9534, train_label_loss: 0.2661, \n"
     ]
    },
    {
     "name": "stdout",
     "output_type": "stream",
     "text": [
      "epoch: 9, [batch: 2268 / 2520], examples_per_second: 3202.7326, train_label_loss: 0.2346, \n"
     ]
    },
    {
     "name": "stdout",
     "output_type": "stream",
     "text": [
      "=============================================================\n",
      "epoch: 9, source_val_acc_label: 0.5790, target_val_acc_label: 0.4892, source_val_label_loss: 1.6016, target_val_label_loss: 1.8004, \n",
      "=============================================================\n"
     ]
    },
    {
     "name": "stdout",
     "output_type": "stream",
     "text": [
      "epoch: 10, [batch: 1 / 2520], examples_per_second: 11.1417, train_label_loss: 0.1290, \n"
     ]
    },
    {
     "name": "stdout",
     "output_type": "stream",
     "text": [
      "epoch: 10, [batch: 252 / 2520], examples_per_second: 3148.9522, train_label_loss: 0.1417, \n"
     ]
    },
    {
     "name": "stdout",
     "output_type": "stream",
     "text": [
      "epoch: 10, [batch: 504 / 2520], examples_per_second: 3165.8733, train_label_loss: 0.2860, \n"
     ]
    },
    {
     "name": "stdout",
     "output_type": "stream",
     "text": [
      "epoch: 10, [batch: 756 / 2520], examples_per_second: 3173.0848, train_label_loss: 0.4929, \n"
     ]
    },
    {
     "name": "stdout",
     "output_type": "stream",
     "text": [
      "epoch: 10, [batch: 1008 / 2520], examples_per_second: 3154.9930, train_label_loss: 0.0878, \n"
     ]
    },
    {
     "name": "stdout",
     "output_type": "stream",
     "text": [
      "epoch: 10, [batch: 1260 / 2520], examples_per_second: 3166.7623, train_label_loss: 0.2350, \n"
     ]
    },
    {
     "name": "stdout",
     "output_type": "stream",
     "text": [
      "epoch: 10, [batch: 1512 / 2520], examples_per_second: 3177.6961, train_label_loss: 0.2070, \n"
     ]
    },
    {
     "name": "stdout",
     "output_type": "stream",
     "text": [
      "epoch: 10, [batch: 1764 / 2520], examples_per_second: 3154.8704, train_label_loss: 0.3788, \n"
     ]
    },
    {
     "name": "stdout",
     "output_type": "stream",
     "text": [
      "epoch: 10, [batch: 2016 / 2520], examples_per_second: 3167.2693, train_label_loss: 0.4722, \n"
     ]
    },
    {
     "name": "stdout",
     "output_type": "stream",
     "text": [
      "epoch: 10, [batch: 2268 / 2520], examples_per_second: 3175.8333, train_label_loss: 0.1797, \n"
     ]
    },
    {
     "name": "stdout",
     "output_type": "stream",
     "text": [
      "=============================================================\n",
      "epoch: 10, source_val_acc_label: 0.5905, target_val_acc_label: 0.4983, source_val_label_loss: 1.6631, target_val_label_loss: 1.8708, \n",
      "=============================================================\n"
     ]
    },
    {
     "name": "stdout",
     "output_type": "stream",
     "text": [
      "New best\n"
     ]
    },
    {
     "name": "stdout",
     "output_type": "stream",
     "text": [
      "epoch: 11, [batch: 1 / 2520], examples_per_second: 11.0488, train_label_loss: 0.2393, \n"
     ]
    },
    {
     "name": "stdout",
     "output_type": "stream",
     "text": [
      "epoch: 11, [batch: 252 / 2520], examples_per_second: 3188.9154, train_label_loss: 0.3302, \n"
     ]
    },
    {
     "name": "stdout",
     "output_type": "stream",
     "text": [
      "epoch: 11, [batch: 504 / 2520], examples_per_second: 3169.7579, train_label_loss: 0.5579, \n"
     ]
    },
    {
     "name": "stdout",
     "output_type": "stream",
     "text": [
      "epoch: 11, [batch: 756 / 2520], examples_per_second: 3166.3415, train_label_loss: 0.5281, \n"
     ]
    },
    {
     "name": "stdout",
     "output_type": "stream",
     "text": [
      "epoch: 11, [batch: 1008 / 2520], examples_per_second: 3163.8637, train_label_loss: 0.1521, \n"
     ]
    },
    {
     "name": "stdout",
     "output_type": "stream",
     "text": [
      "epoch: 11, [batch: 1260 / 2520], examples_per_second: 3164.3255, train_label_loss: 0.3617, \n"
     ]
    },
    {
     "name": "stdout",
     "output_type": "stream",
     "text": [
      "epoch: 11, [batch: 1512 / 2520], examples_per_second: 3186.3254, train_label_loss: 0.0085, \n"
     ]
    },
    {
     "name": "stdout",
     "output_type": "stream",
     "text": [
      "epoch: 11, [batch: 1764 / 2520], examples_per_second: 3167.9823, train_label_loss: 0.0544, \n"
     ]
    },
    {
     "name": "stdout",
     "output_type": "stream",
     "text": [
      "epoch: 11, [batch: 2016 / 2520], examples_per_second: 3172.3695, train_label_loss: 0.1090, \n"
     ]
    },
    {
     "name": "stdout",
     "output_type": "stream",
     "text": [
      "epoch: 11, [batch: 2268 / 2520], examples_per_second: 3174.6789, train_label_loss: 0.2744, \n"
     ]
    },
    {
     "name": "stdout",
     "output_type": "stream",
     "text": [
      "=============================================================\n",
      "epoch: 11, source_val_acc_label: 0.5832, target_val_acc_label: 0.4974, source_val_label_loss: 1.7583, target_val_label_loss: 1.9584, \n",
      "=============================================================\n"
     ]
    },
    {
     "name": "stdout",
     "output_type": "stream",
     "text": [
      "epoch: 12, [batch: 1 / 2520], examples_per_second: 11.1239, train_label_loss: 0.3164, \n"
     ]
    },
    {
     "name": "stdout",
     "output_type": "stream",
     "text": [
      "epoch: 12, [batch: 252 / 2520], examples_per_second: 3168.2114, train_label_loss: 0.1837, \n"
     ]
    },
    {
     "name": "stdout",
     "output_type": "stream",
     "text": [
      "epoch: 12, [batch: 504 / 2520], examples_per_second: 3169.5345, train_label_loss: 0.2774, \n"
     ]
    },
    {
     "name": "stdout",
     "output_type": "stream",
     "text": [
      "epoch: 12, [batch: 756 / 2520], examples_per_second: 3165.7419, train_label_loss: 0.3741, \n"
     ]
    },
    {
     "name": "stdout",
     "output_type": "stream",
     "text": [
      "epoch: 12, [batch: 1008 / 2520], examples_per_second: 3164.9959, train_label_loss: 0.2486, \n"
     ]
    },
    {
     "name": "stdout",
     "output_type": "stream",
     "text": [
      "epoch: 12, [batch: 1260 / 2520], examples_per_second: 3202.6205, train_label_loss: 0.4202, \n"
     ]
    },
    {
     "name": "stdout",
     "output_type": "stream",
     "text": [
      "epoch: 12, [batch: 1512 / 2520], examples_per_second: 3176.9668, train_label_loss: 0.2650, \n"
     ]
    },
    {
     "name": "stdout",
     "output_type": "stream",
     "text": [
      "epoch: 12, [batch: 1764 / 2520], examples_per_second: 3175.0171, train_label_loss: 0.1697, \n"
     ]
    },
    {
     "name": "stdout",
     "output_type": "stream",
     "text": [
      "epoch: 12, [batch: 2016 / 2520], examples_per_second: 3196.7872, train_label_loss: 0.1551, \n"
     ]
    },
    {
     "name": "stdout",
     "output_type": "stream",
     "text": [
      "epoch: 12, [batch: 2268 / 2520], examples_per_second: 3184.4258, train_label_loss: 0.1711, \n"
     ]
    },
    {
     "name": "stdout",
     "output_type": "stream",
     "text": [
      "=============================================================\n",
      "epoch: 12, source_val_acc_label: 0.5848, target_val_acc_label: 0.4958, source_val_label_loss: 1.8143, target_val_label_loss: 2.0713, \n",
      "=============================================================\n"
     ]
    },
    {
     "name": "stdout",
     "output_type": "stream",
     "text": [
      "epoch: 13, [batch: 1 / 2520], examples_per_second: 11.1678, train_label_loss: 0.1507, \n"
     ]
    },
    {
     "name": "stdout",
     "output_type": "stream",
     "text": [
      "epoch: 13, [batch: 252 / 2520], examples_per_second: 3168.4519, train_label_loss: 0.3063, \n"
     ]
    },
    {
     "name": "stdout",
     "output_type": "stream",
     "text": [
      "epoch: 13, [batch: 504 / 2520], examples_per_second: 3175.5627, train_label_loss: 0.1394, \n"
     ]
    },
    {
     "name": "stdout",
     "output_type": "stream",
     "text": [
      "epoch: 13, [batch: 756 / 2520], examples_per_second: 3168.1296, train_label_loss: 0.0771, \n"
     ]
    },
    {
     "name": "stdout",
     "output_type": "stream",
     "text": [
      "epoch: 13, [batch: 1008 / 2520], examples_per_second: 3169.2369, train_label_loss: 0.2528, \n"
     ]
    },
    {
     "name": "stdout",
     "output_type": "stream",
     "text": [
      "epoch: 13, [batch: 1260 / 2520], examples_per_second: 3185.1737, train_label_loss: 0.2541, \n"
     ]
    },
    {
     "name": "stdout",
     "output_type": "stream",
     "text": [
      "epoch: 13, [batch: 1512 / 2520], examples_per_second: 3189.1878, train_label_loss: 0.0543, \n"
     ]
    },
    {
     "name": "stdout",
     "output_type": "stream",
     "text": [
      "epoch: 13, [batch: 1764 / 2520], examples_per_second: 3198.3872, train_label_loss: 0.3574, \n"
     ]
    },
    {
     "name": "stdout",
     "output_type": "stream",
     "text": [
      "epoch: 13, [batch: 2016 / 2520], examples_per_second: 3172.3000, train_label_loss: 0.2065, \n"
     ]
    },
    {
     "name": "stdout",
     "output_type": "stream",
     "text": [
      "epoch: 13, [batch: 2268 / 2520], examples_per_second: 3179.1016, train_label_loss: 0.0886, \n"
     ]
    },
    {
     "name": "stdout",
     "output_type": "stream",
     "text": [
      "=============================================================\n",
      "epoch: 13, source_val_acc_label: 0.5841, target_val_acc_label: 0.4940, source_val_label_loss: 1.8824, target_val_label_loss: 2.1236, \n",
      "=============================================================\n"
     ]
    },
    {
     "name": "stdout",
     "output_type": "stream",
     "text": [
      "epoch: 14, [batch: 1 / 2520], examples_per_second: 11.1797, train_label_loss: 0.7610, \n"
     ]
    },
    {
     "name": "stdout",
     "output_type": "stream",
     "text": [
      "epoch: 14, [batch: 252 / 2520], examples_per_second: 3175.3511, train_label_loss: 0.2001, \n"
     ]
    },
    {
     "name": "stdout",
     "output_type": "stream",
     "text": [
      "epoch: 14, [batch: 504 / 2520], examples_per_second: 3184.3786, train_label_loss: 0.0030, \n"
     ]
    },
    {
     "name": "stdout",
     "output_type": "stream",
     "text": [
      "epoch: 14, [batch: 756 / 2520], examples_per_second: 3173.0327, train_label_loss: 0.2030, \n"
     ]
    },
    {
     "name": "stdout",
     "output_type": "stream",
     "text": [
      "epoch: 14, [batch: 1008 / 2520], examples_per_second: 3158.6263, train_label_loss: 0.1124, \n"
     ]
    },
    {
     "name": "stdout",
     "output_type": "stream",
     "text": [
      "epoch: 14, [batch: 1260 / 2520], examples_per_second: 3183.1367, train_label_loss: 0.1276, \n"
     ]
    },
    {
     "name": "stdout",
     "output_type": "stream",
     "text": [
      "epoch: 14, [batch: 1512 / 2520], examples_per_second: 3198.3024, train_label_loss: 0.4962, \n"
     ]
    },
    {
     "name": "stdout",
     "output_type": "stream",
     "text": [
      "epoch: 14, [batch: 1764 / 2520], examples_per_second: 3177.1720, train_label_loss: 0.1445, \n"
     ]
    },
    {
     "name": "stdout",
     "output_type": "stream",
     "text": [
      "epoch: 14, [batch: 2016 / 2520], examples_per_second: 3178.7708, train_label_loss: 0.0367, \n"
     ]
    },
    {
     "name": "stdout",
     "output_type": "stream",
     "text": [
      "epoch: 14, [batch: 2268 / 2520], examples_per_second: 3173.5024, train_label_loss: 0.2062, \n"
     ]
    },
    {
     "name": "stdout",
     "output_type": "stream",
     "text": [
      "=============================================================\n",
      "epoch: 14, source_val_acc_label: 0.5798, target_val_acc_label: 0.4977, source_val_label_loss: 1.9572, target_val_label_loss: 2.1766, \n",
      "=============================================================\n"
     ]
    },
    {
     "name": "stdout",
     "output_type": "stream",
     "text": [
      "Patience (3) exhausted\n"
     ]
    }
   ],
   "source": [
    "###################################\n",
    "# train\n",
    "###################################\n",
    "jig = PTN_Train_Eval_Test_Jig(model, p.BEST_MODEL_PATH, p.device)\n",
    "\n",
    "jig.train(\n",
    "    train_iterable=datasets.source.processed.train,\n",
    "    source_val_iterable=datasets.source.processed.val,\n",
    "    target_val_iterable=datasets.target.processed.val,\n",
    "    num_epochs=p.n_epoch,\n",
    "    num_logs_per_epoch=p.NUM_LOGS_PER_EPOCH,\n",
    "    patience=p.patience,\n",
    "    optimizer=optimizer,\n",
    "    criteria_for_best=p.criteria_for_best,\n",
    ")"
   ]
  },
  {
   "cell_type": "code",
   "execution_count": 14,
   "id": "31e8fabf",
   "metadata": {
    "execution": {
     "iopub.execute_input": "2022-04-01T20:24:24.121534Z",
     "iopub.status.busy": "2022-04-01T20:24:24.121290Z",
     "iopub.status.idle": "2022-04-01T20:24:24.138489Z",
     "shell.execute_reply": "2022-04-01T20:24:24.138040Z"
    },
    "papermill": {
     "duration": 0.057922,
     "end_time": "2022-04-01T20:24:24.138578",
     "exception": false,
     "start_time": "2022-04-01T20:24:24.080656",
     "status": "completed"
    },
    "tags": []
   },
   "outputs": [],
   "source": [
    "total_experiment_time_secs = time.time() - start_time_secs"
   ]
  },
  {
   "cell_type": "code",
   "execution_count": 15,
   "id": "87b9595b",
   "metadata": {
    "execution": {
     "iopub.execute_input": "2022-04-01T20:24:24.224833Z",
     "iopub.status.busy": "2022-04-01T20:24:24.224576Z",
     "iopub.status.idle": "2022-04-01T20:25:12.831199Z",
     "shell.execute_reply": "2022-04-01T20:25:12.831609Z"
    },
    "papermill": {
     "duration": 48.650801,
     "end_time": "2022-04-01T20:25:12.831745",
     "exception": false,
     "start_time": "2022-04-01T20:24:24.180944",
     "status": "completed"
    },
    "tags": []
   },
   "outputs": [],
   "source": [
    "###################################\n",
    "# Evaluate the model\n",
    "###################################\n",
    "source_test_label_accuracy, source_test_label_loss = jig.test(datasets.source.processed.test)\n",
    "target_test_label_accuracy, target_test_label_loss = jig.test(datasets.target.processed.test)\n",
    "\n",
    "source_val_label_accuracy, source_val_label_loss = jig.test(datasets.source.processed.val)\n",
    "target_val_label_accuracy, target_val_label_loss = jig.test(datasets.target.processed.val)\n",
    "\n",
    "history = jig.get_history()\n",
    "\n",
    "total_epochs_trained = len(history[\"epoch_indices\"])\n",
    "\n",
    "val_dl = Iterable_Aggregator((datasets.source.original.val,datasets.target.original.val))\n",
    "\n",
    "confusion = ptn_confusion_by_domain_over_dataloader(model, p.device, val_dl)\n",
    "per_domain_accuracy = per_domain_accuracy_from_confusion(confusion)\n",
    "\n",
    "# Add a key to per_domain_accuracy for if it was a source domain\n",
    "for domain, accuracy in per_domain_accuracy.items():\n",
    "    per_domain_accuracy[domain] = {\n",
    "        \"accuracy\": accuracy,\n",
    "        \"source?\": domain in p.domains_source\n",
    "    }\n",
    "\n",
    "# Do an independent accuracy assesment JUST TO BE SURE!\n",
    "# _source_test_label_accuracy = independent_accuracy_assesment(model, datasets.source.processed.test, p.device)\n",
    "# _target_test_label_accuracy = independent_accuracy_assesment(model, datasets.target.processed.test, p.device)\n",
    "# _source_val_label_accuracy = independent_accuracy_assesment(model, datasets.source.processed.val, p.device)\n",
    "# _target_val_label_accuracy = independent_accuracy_assesment(model, datasets.target.processed.val, p.device)\n",
    "\n",
    "# assert(_source_test_label_accuracy == source_test_label_accuracy)\n",
    "# assert(_target_test_label_accuracy == target_test_label_accuracy)\n",
    "# assert(_source_val_label_accuracy == source_val_label_accuracy)\n",
    "# assert(_target_val_label_accuracy == target_val_label_accuracy)\n",
    "\n",
    "experiment = {\n",
    "    \"experiment_name\": p.experiment_name,\n",
    "    \"parameters\": dict(p),\n",
    "    \"results\": {\n",
    "        \"source_test_label_accuracy\": source_test_label_accuracy,\n",
    "        \"source_test_label_loss\": source_test_label_loss,\n",
    "        \"target_test_label_accuracy\": target_test_label_accuracy,\n",
    "        \"target_test_label_loss\": target_test_label_loss,\n",
    "        \"source_val_label_accuracy\": source_val_label_accuracy,\n",
    "        \"source_val_label_loss\": source_val_label_loss,\n",
    "        \"target_val_label_accuracy\": target_val_label_accuracy,\n",
    "        \"target_val_label_loss\": target_val_label_loss,\n",
    "        \"total_epochs_trained\": total_epochs_trained,\n",
    "        \"total_experiment_time_secs\": total_experiment_time_secs,\n",
    "        \"confusion\": confusion,\n",
    "        \"per_domain_accuracy\": per_domain_accuracy,\n",
    "    },\n",
    "    \"history\": history,\n",
    "    \"dataset_metrics\": get_dataset_metrics(datasets, \"ptn\"),\n",
    "}"
   ]
  },
  {
   "cell_type": "code",
   "execution_count": 16,
   "id": "54a21829",
   "metadata": {
    "execution": {
     "iopub.execute_input": "2022-04-01T20:25:12.918119Z",
     "iopub.status.busy": "2022-04-01T20:25:12.917867Z",
     "iopub.status.idle": "2022-04-01T20:25:13.054083Z",
     "shell.execute_reply": "2022-04-01T20:25:13.054460Z"
    },
    "papermill": {
     "duration": 0.177316,
     "end_time": "2022-04-01T20:25:13.054566",
     "exception": false,
     "start_time": "2022-04-01T20:25:12.877250",
     "status": "completed"
    },
    "tags": []
   },
   "outputs": [
    {
     "data": {
      "image/png": "[encoded data removed]",
      "text/plain": [
       "<Figure size 1080x504 with 1 Axes>"
      ]
     },
     "metadata": {
      "needs_background": "light"
     },
     "output_type": "display_data"
    }
   ],
   "source": [
    "ax = get_loss_curve(experiment)\n",
    "plt.show()"
   ]
  },
  {
   "cell_type": "code",
   "execution_count": 17,
   "id": "fd8a0f60",
   "metadata": {
    "execution": {
     "iopub.execute_input": "2022-04-01T20:25:13.140731Z",
     "iopub.status.busy": "2022-04-01T20:25:13.140481Z",
     "iopub.status.idle": "2022-04-01T20:25:13.284205Z",
     "shell.execute_reply": "2022-04-01T20:25:13.284416Z"
    },
    "papermill": {
     "duration": 0.184753,
     "end_time": "2022-04-01T20:25:13.284480",
     "exception": false,
     "start_time": "2022-04-01T20:25:13.099727",
     "status": "completed"
    },
    "tags": []
   },
   "outputs": [
    {
     "data": {
      "text/plain": [
       "<AxesSubplot:title={'center':'Results'}>"
      ]
     },
     "execution_count": 17,
     "metadata": {},
     "output_type": "execute_result"
    },
    {
     "data": {
      "image/png": "[encoded data removed]",
      "text/plain": [
       "<Figure size 1080x504 with 1 Axes>"
      ]
     },
     "metadata": {
      "needs_background": "light"
     },
     "output_type": "display_data"
    }
   ],
   "source": [
    "get_results_table(experiment)"
   ]
  },
  {
   "cell_type": "code",
   "execution_count": 18,
   "id": "cf8dc689",
   "metadata": {
    "execution": {
     "iopub.execute_input": "2022-04-01T20:25:13.369395Z",
     "iopub.status.busy": "2022-04-01T20:25:13.369147Z",
     "iopub.status.idle": "2022-04-01T20:25:13.485852Z",
     "shell.execute_reply": "2022-04-01T20:25:13.485408Z"
    },
    "papermill": {
     "duration": 0.160008,
     "end_time": "2022-04-01T20:25:13.485940",
     "exception": false,
     "start_time": "2022-04-01T20:25:13.325932",
     "status": "completed"
    },
    "tags": []
   },
   "outputs": [
    {
     "data": {
      "text/plain": [
       "<AxesSubplot:title={'center':'Per Domain Validation Accuracy'}, xlabel='domain'>"
      ]
     },
     "execution_count": 18,
     "metadata": {},
     "output_type": "execute_result"
    },
    {
     "data": {
      "image/png": "[encoded data removed]",
      "text/plain": [
       "<Figure size 1080x504 with 1 Axes>"
      ]
     },
     "metadata": {
      "needs_background": "light"
     },
     "output_type": "display_data"
    }
   ],
   "source": [
    "get_domain_accuracies(experiment)"
   ]
  },
  {
   "cell_type": "code",
   "execution_count": 19,
   "id": "a74ae082",
   "metadata": {
    "execution": {
     "iopub.execute_input": "2022-04-01T20:25:13.576741Z",
     "iopub.status.busy": "2022-04-01T20:25:13.576491Z",
     "iopub.status.idle": "2022-04-01T20:25:13.593300Z",
     "shell.execute_reply": "2022-04-01T20:25:13.592995Z"
    },
    "papermill": {
     "duration": 0.061428,
     "end_time": "2022-04-01T20:25:13.593368",
     "exception": false,
     "start_time": "2022-04-01T20:25:13.531940",
     "status": "completed"
    },
    "tags": []
   },
   "outputs": [
    {
     "name": "stdout",
     "output_type": "stream",
     "text": [
      "Source Test Label Accuracy: 0.5793402777777777 Target Test Label Accuracy: 0.49822916666666667\n",
      "Source Val Label Accuracy: 0.5904513888888889 Target Val Label Accuracy: 0.49833333333333335\n"
     ]
    }
   ],
   "source": [
    "print(\"Source Test Label Accuracy:\", experiment[\"results\"][\"source_test_label_accuracy\"], \"Target Test Label Accuracy:\", experiment[\"results\"][\"target_test_label_accuracy\"])\n",
    "print(\"Source Val Label Accuracy:\", experiment[\"results\"][\"source_val_label_accuracy\"], \"Target Val Label Accuracy:\", experiment[\"results\"][\"target_val_label_accuracy\"])"
   ]
  },
  {
   "cell_type": "code",
   "execution_count": 20,
   "id": "dacca602",
   "metadata": {
    "execution": {
     "iopub.execute_input": "2022-04-01T20:25:13.682548Z",
     "iopub.status.busy": "2022-04-01T20:25:13.682300Z",
     "iopub.status.idle": "2022-04-01T20:25:13.697283Z",
     "shell.execute_reply": "2022-04-01T20:25:13.696833Z"
    },
    "papermill": {
     "duration": 0.058103,
     "end_time": "2022-04-01T20:25:13.697371",
     "exception": false,
     "start_time": "2022-04-01T20:25:13.639268",
     "status": "completed"
    },
    "tags": [
     "experiment_json"
    ]
   },
   "outputs": [
    {
     "data": {
      "text/plain": [
       "'{\"experiment_name\": \"tuned_1v2:oracle.run1_limited\", \"parameters\": {\"experiment_name\": \"tuned_1v2:oracle.run1_limited\", \"device\": \"cuda\", \"lr\": 0.0001, \"labels_source\": [\"3123D52\", \"3123D65\", \"3123D79\", \"3123D80\", \"3123D54\", \"3123D70\", \"3123D7B\", \"3123D89\", \"3123D58\", \"3123D76\", \"3123D7D\", \"3123EFE\", \"3123D64\", \"3123D78\", \"3123D7E\", \"3124E4A\"], \"labels_target\": [\"3123D52\", \"3123D65\", \"3123D79\", \"3123D80\", \"3123D54\", \"3123D70\", \"3123D7B\", \"3123D89\", \"3123D58\", \"3123D76\", \"3123D7D\", \"3123EFE\", \"3123D64\", \"3123D78\", \"3123D7E\", \"3124E4A\"], \"episode_transforms_source\": [], \"episode_transforms_target\": [], \"domains_source\": [8, 32, 50], \"domains_target\": [14, 20, 26, 38, 44], \"num_examples_per_domain_per_label_source\": 2000, \"num_examples_per_domain_per_label_target\": 2000, \"n_shot\": 3, \"n_way\": 16, \"n_query\": 2, \"train_k_factor\": 3, \"val_k_factor\": 2, \"test_k_factor\": 2, \"torch_default_dtype\": \"torch.float32\", \"n_epoch\": 50, \"patience\": 3, \"criteria_for_best\": \"target_accuracy\", \"x_net\": [{\"class\": \"nnReshape\", \"kargs\": {\"shape\": [-1, 1, 2, 256]}}, {\"class\": \"Conv2d\", \"kargs\": {\"in_channels\": 1, \"out_channels\": 256, \"kernel_size\": [1, 7], \"bias\": false, \"padding\": [0, 3]}}, {\"class\": \"ReLU\", \"kargs\": {\"inplace\": true}}, {\"class\": \"BatchNorm2d\", \"kargs\": {\"num_features\": 256}}, {\"class\": \"Conv2d\", \"kargs\": {\"in_channels\": 256, \"out_channels\": 80, \"kernel_size\": [2, 7], \"bias\": true, \"padding\": [0, 3]}}, {\"class\": \"ReLU\", \"kargs\": {\"inplace\": true}}, {\"class\": \"BatchNorm2d\", \"kargs\": {\"num_features\": 80}}, {\"class\": \"Flatten\", \"kargs\": {}}, {\"class\": \"Linear\", \"kargs\": {\"in_features\": 20480, \"out_features\": 256}}, {\"class\": \"ReLU\", \"kargs\": {\"inplace\": true}}, {\"class\": \"BatchNorm1d\", \"kargs\": {\"num_features\": 256}}, {\"class\": \"Linear\", \"kargs\": {\"in_features\": 256, \"out_features\": 256}}], \"NUM_LOGS_PER_EPOCH\": 10, \"BEST_MODEL_PATH\": \"./best_model.pth\", \"pickle_name\": \"oracle.Run1_10kExamples_stratified_ds.2022A.pkl\", \"x_transforms_source\": [\"unit_mag\"], \"x_transforms_target\": [\"unit_mag\"], \"dataset_seed\": 1337, \"seed\": 1337}, \"results\": {\"source_test_label_accuracy\": 0.5793402777777777, \"source_test_label_loss\": 1.6510674953460693, \"target_test_label_accuracy\": 0.49822916666666667, \"target_test_label_loss\": 1.894424319267273, \"source_val_label_accuracy\": 0.5904513888888889, \"source_val_label_loss\": 1.663089394569397, \"target_val_label_accuracy\": 0.49833333333333335, \"target_val_label_loss\": 1.8708282709121704, \"total_epochs_trained\": 14, \"total_experiment_time_secs\": 1022.785409450531, \"confusion\": {\"8\": {\"15\": {\"12\": 64, \"15\": 120, \"8\": 21, \"7\": 7, \"2\": 20, \"3\": 8}, \"3\": {\"3\": 149, \"2\": 50, \"12\": 36, \"15\": 5}, \"6\": {\"8\": 18, \"7\": 48, \"0\": 23, \"13\": 22, \"6\": 91, \"4\": 30, \"11\": 3, \"14\": 3, \"10\": 1, \"15\": 1}, \"1\": {\"1\": 83, \"11\": 78, \"5\": 20, \"13\": 5, \"14\": 28, \"10\": 21, \"8\": 1, \"4\": 4}, \"8\": {\"8\": 176, \"15\": 19, \"6\": 19, \"7\": 22, \"11\": 1, \"12\": 1, \"4\": 1, \"2\": 1}, \"10\": {\"10\": 86, \"0\": 12, \"14\": 51, \"1\": 27, \"5\": 18, \"4\": 17, \"13\": 22, \"11\": 6, \"7\": 1}, \"9\": {\"9\": 240}, \"13\": {\"14\": 32, \"4\": 39, \"10\": 28, \"13\": 59, \"0\": 47, \"6\": 18, \"7\": 8, \"11\": 2, \"1\": 7}, \"12\": {\"3\": 55, \"15\": 66, \"12\": 96, \"2\": 15, \"8\": 8}, \"5\": {\"5\": 186, \"10\": 22, \"1\": 18, \"11\": 10, \"14\": 4}, \"0\": {\"8\": 1, \"6\": 31, \"4\": 34, \"13\": 58, \"0\": 63, \"14\": 18, \"10\": 12, \"7\": 22, \"1\": 1}, \"2\": {\"2\": 149, \"15\": 23, \"3\": 45, \"7\": 4, \"12\": 18, \"8\": 1}, \"11\": {\"5\": 25, \"11\": 103, \"1\": 70, \"13\": 2, \"4\": 6, \"14\": 16, \"10\": 12, \"6\": 2, \"8\": 3, \"0\": 1}, \"14\": {\"14\": 58, \"1\": 22, \"0\": 14, \"10\": 51, \"4\": 39, \"6\": 4, \"13\": 34, \"11\": 13, \"5\": 4, \"7\": 1}, \"7\": {\"0\": 22, \"7\": 129, \"13\": 8, \"6\": 57, \"4\": 6, \"2\": 1, \"8\": 12, \"15\": 5}, \"4\": {\"0\": 54, \"14\": 30, \"6\": 32, \"13\": 40, \"4\": 44, \"7\": 8, \"10\": 17, \"11\": 8, \"1\": 5, \"8\": 2}}, \"50\": {\"3\": {\"3\": 229, \"8\": 11}, \"15\": {\"15\": 143, \"1\": 55, \"4\": 22, \"11\": 13, \"6\": 5, \"14\": 2}, \"8\": {\"8\": 230, \"10\": 8, \"3\": 2}, \"4\": {\"5\": 20, \"1\": 46, \"15\": 44, \"4\": 80, \"6\": 31, \"13\": 9, \"7\": 8, \"10\": 1, \"2\": 1}, \"14\": {\"14\": 216, \"12\": 12, \"1\": 2, \"11\": 5, \"9\": 4, \"15\": 1}, \"0\": {\"0\": 171, \"10\": 19, \"2\": 40, \"13\": 8, \"7\": 1, \"6\": 1}, \"7\": {\"13\": 43, \"7\": 125, \"5\": 35, \"10\": 29, \"6\": 3, \"0\": 3, \"4\": 2}, \"6\": {\"6\": 116, \"4\": 37, \"13\": 18, \"1\": 36, \"5\": 29, \"0\": 2, \"2\": 2}, \"10\": {\"10\": 201, \"13\": 4, \"8\": 7, \"0\": 17, \"7\": 11}, \"5\": {\"7\": 58, \"5\": 57, \"4\": 19, \"6\": 45, \"13\": 47, \"10\": 4, \"2\": 1, \"0\": 3, \"1\": 6}, \"2\": {\"0\": 31, \"2\": 208, \"6\": 1}, \"12\": {\"12\": 199, \"9\": 20, \"14\": 13, \"11\": 8}, \"9\": {\"9\": 138, \"11\": 54, \"12\": 41, \"14\": 7}, \"1\": {\"4\": 34, \"11\": 2, \"15\": 54, \"6\": 31, \"1\": 109, \"14\": 6, \"2\": 3, \"13\": 1}, \"11\": {\"11\": 165, \"9\": 30, \"14\": 16, \"12\": 14, \"15\": 14, \"1\": 1}, \"13\": {\"5\": 53, \"7\": 51, \"13\": 98, \"1\": 3, \"6\": 15, \"0\": 10, \"4\": 3, \"10\": 7}}, \"32\": {\"5\": {\"14\": 24, \"4\": 26, \"8\": 33, \"5\": 42, \"11\": 14, \"0\": 23, \"2\": 6, \"7\": 25, \"3\": 6, \"13\": 41}, \"8\": {\"13\": 36, \"7\": 3, \"8\": 134, \"0\": 17, \"3\": 14, \"5\": 33, \"4\": 2, \"11\": 1}, \"11\": {\"7\": 19, \"14\": 41, \"11\": 147, \"13\": 11, \"3\": 16, \"5\": 6}, \"1\": {\"1\": 239, \"10\": 1}, \"10\": {\"10\": 239, \"6\": 1}, \"15\": {\"15\": 230, \"8\": 4, \"3\": 5, \"13\": 1}, \"3\": {\"3\": 192, \"8\": 10, \"13\": 14, \"11\": 15, \"5\": 7, \"14\": 1, \"15\": 1}, \"7\": {\"5\": 20, \"4\": 34, \"11\": 20, \"13\": 15, \"14\": 57, \"7\": 72, \"2\": 16, \"0\": 4, \"8\": 1, \"3\": 1}, \"4\": {\"4\": 68, \"2\": 55, \"0\": 50, \"5\": 22, \"7\": 19, \"14\": 7, \"8\": 10, \"13\": 9}, \"14\": {\"8\": 3, \"13\": 23, \"5\": 15, \"14\": 65, \"11\": 53, \"4\": 16, \"2\": 5, \"7\": 55, \"0\": 2, \"3\": 3}, \"9\": {\"9\": 238, \"12\": 2}, \"12\": {\"12\": 240}, \"6\": {\"6\": 240}, \"2\": {\"4\": 42, \"0\": 21, \"2\": 171, \"14\": 2, \"5\": 1, \"7\": 2, \"13\": 1}, \"0\": {\"7\": 10, \"13\": 9, \"4\": 59, \"0\": 97, \"8\": 16, \"5\": 21, \"2\": 27, \"14\": 1}, \"13\": {\"14\": 20, \"7\": 21, \"8\": 39, \"13\": 71, \"5\": 43, \"3\": 13, \"0\": 11, \"4\": 8, \"11\": 12, \"2\": 2}}, \"14\": {\"15\": {\"15\": 190, \"2\": 1, \"7\": 47, \"5\": 1, \"1\": 1}, \"3\": {\"4\": 42, \"3\": 129, \"14\": 33, \"2\": 5, \"0\": 9, \"10\": 6, \"5\": 8, \"8\": 2, \"1\": 5, \"6\": 1}, \"6\": {\"6\": 90, \"2\": 42, \"13\": 70, \"14\": 34, \"4\": 2, \"5\": 1, \"3\": 1}, \"1\": {\"1\": 165, \"5\": 49, \"2\": 5, \"3\": 4, \"4\": 12, \"7\": 5}, \"8\": {\"8\": 233, \"3\": 5, \"0\": 2}, \"10\": {\"10\": 143, \"0\": 81, \"8\": 1, \"11\": 7, \"3\": 7, \"14\": 1}, \"9\": {\"9\": 214, \"12\": 4, \"11\": 21, \"8\": 1}, \"13\": {\"6\": 85, \"2\": 27, \"14\": 42, \"13\": 62, \"5\": 11, \"4\": 7, \"3\": 4, \"10\": 1, \"7\": 1}, \"12\": {\"12\": 235, \"9\": 5}, \"5\": {\"4\": 38, \"1\": 70, \"5\": 76, \"7\": 9, \"2\": 26, \"14\": 1, \"3\": 13, \"15\": 4, \"6\": 2, \"13\": 1}, \"0\": {\"10\": 64, \"3\": 4, \"0\": 140, \"8\": 12, \"11\": 19, \"14\": 1}, \"2\": {\"4\": 30, \"14\": 35, \"6\": 27, \"2\": 68, \"5\": 46, \"3\": 4, \"1\": 7, \"13\": 19, \"7\": 3, \"15\": 1}, \"11\": {\"11\": 177, \"0\": 19, \"9\": 34, \"10\": 10}, \"14\": {\"6\": 38, \"14\": 105, \"4\": 14, \"3\": 22, \"13\": 32, \"10\": 7, \"2\": 17, \"5\": 4, \"0\": 1}, \"7\": {\"7\": 190, \"15\": 33, \"1\": 13, \"2\": 1, \"5\": 3}, \"4\": {\"5\": 39, \"4\": 77, \"3\": 48, \"2\": 25, \"14\": 14, \"1\": 29, \"6\": 4, \"13\": 4}}, \"20\": {\"3\": {\"4\": 48, \"3\": 45, \"12\": 25, \"13\": 7, \"2\": 25, \"7\": 12, \"8\": 17, \"15\": 5, \"0\": 10, \"9\": 31, \"5\": 7, \"1\": 6, \"10\": 2}, \"15\": {\"12\": 10, \"1\": 33, \"15\": 80, \"4\": 2, \"5\": 45, \"0\": 43, \"13\": 14, \"9\": 8, \"2\": 2, \"3\": 3}, \"8\": {\"7\": 43, \"9\": 8, \"2\": 12, \"3\": 15, \"10\": 35, \"14\": 9, \"8\": 70, \"4\": 40, \"6\": 5, \"12\": 3}, \"4\": {\"4\": 108, \"10\": 27, \"2\": 6, \"5\": 3, \"9\": 12, \"8\": 22, \"12\": 17, \"3\": 34, \"0\": 3, \"1\": 2, \"7\": 5, \"14\": 1}, \"14\": {\"10\": 72, \"14\": 88, \"6\": 51, \"11\": 2, \"7\": 5, \"8\": 20, \"4\": 2}, \"0\": {\"1\": 60, \"0\": 47, \"12\": 22, \"15\": 44, \"5\": 37, \"13\": 7, \"9\": 8, \"3\": 10, \"2\": 2, \"4\": 2, \"8\": 1}, \"7\": {\"7\": 88, \"4\": 11, \"2\": 35, \"6\": 10, \"9\": 20, \"10\": 11, \"3\": 7, \"14\": 6, \"13\": 12, \"8\": 33, \"12\": 5, \"11\": 2}, \"6\": {\"6\": 139, \"10\": 10, \"14\": 52, \"11\": 16, \"8\": 5, \"7\": 17, \"2\": 1}, \"10\": {\"8\": 39, \"10\": 97, \"3\": 2, \"6\": 11, \"14\": 56, \"4\": 15, \"7\": 16, \"2\": 1, \"5\": 1, \"12\": 2}, \"5\": {\"15\": 33, \"5\": 41, \"1\": 52, \"0\": 45, \"9\": 8, \"4\": 13, \"12\": 24, \"13\": 8, \"3\": 12, \"2\": 3, \"8\": 1}, \"2\": {\"12\": 15, \"7\": 50, \"13\": 42, \"2\": 53, \"8\": 8, \"15\": 3, \"3\": 16, \"5\": 3, \"9\": 38, \"1\": 5, \"4\": 3, \"11\": 1, \"6\": 1, \"0\": 2}, \"12\": {\"2\": 18, \"0\": 17, \"12\": 41, \"4\": 12, \"5\": 30, \"1\": 28, \"13\": 14, \"15\": 17, \"7\": 6, \"3\": 24, \"9\": 30, \"8\": 3}, \"9\": {\"7\": 22, \"13\": 30, \"4\": 17, \"12\": 29, \"3\": 26, \"2\": 40, \"9\": 38, \"1\": 7, \"0\": 2, \"8\": 16, \"15\": 6, \"5\": 4, \"6\": 1, \"10\": 2}, \"1\": {\"15\": 42, \"12\": 20, \"0\": 45, \"1\": 54, \"4\": 6, \"5\": 48, \"13\": 6, \"3\": 8, \"9\": 4, \"2\": 5, \"7\": 2}, \"11\": {\"11\": 221, \"2\": 1, \"7\": 9, \"6\": 9}, \"13\": {\"13\": 126, \"9\": 25, \"2\": 35, \"15\": 9, \"11\": 3, \"1\": 11, \"7\": 10, \"3\": 5, \"12\": 14, \"4\": 2}}, \"44\": {\"5\": {\"15\": 21, \"5\": 146, \"0\": 57, \"8\": 9, \"14\": 6, \"4\": 1}, \"8\": {\"8\": 157, \"15\": 9, \"0\": 68, \"5\": 6}, \"11\": {\"11\": 166, \"13\": 38, \"6\": 36}, \"1\": {\"3\": 48, \"12\": 52, \"1\": 98, \"10\": 22, \"2\": 19, \"7\": 1}, \"10\": {\"12\": 31, \"10\": 153, \"1\": 27, \"2\": 26, \"7\": 1, \"3\": 2}, \"15\": {\"15\": 180, \"14\": 25, \"5\": 6, \"0\": 20, \"8\": 3, \"4\": 6}, \"3\": {\"3\": 191, \"1\": 34, \"12\": 7, \"9\": 2, \"2\": 3, \"7\": 3}, \"7\": {\"7\": 109, \"2\": 52, \"9\": 49, \"6\": 16, \"3\": 10, \"10\": 2, \"13\": 2}, \"4\": {\"4\": 151, \"14\": 82, \"15\": 6, \"13\": 1}, \"14\": {\"4\": 85, \"14\": 120, \"15\": 28, \"5\": 5, \"0\": 2}, \"9\": {\"7\": 48, \"9\": 127, \"13\": 41, \"2\": 3, \"3\": 3, \"6\": 16, \"4\": 1, \"11\": 1}, \"12\": {\"1\": 58, \"12\": 121, \"10\": 48, \"3\": 10, \"2\": 3}, \"6\": {\"7\": 14, \"13\": 48, \"6\": 119, \"9\": 25, \"11\": 33, \"2\": 1}, \"2\": {\"10\": 24, \"7\": 54, \"2\": 117, \"1\": 28, \"3\": 11, \"12\": 4, \"6\": 1, \"9\": 1}, \"0\": {\"5\": 32, \"0\": 121, \"8\": 66, \"15\": 21}, \"13\": {\"13\": 118, \"6\": 49, \"9\": 44, \"11\": 24, \"7\": 2, \"4\": 3}}, \"38\": {\"14\": {\"11\": 57, \"14\": 148, \"2\": 25, \"13\": 7, \"10\": 2, \"12\": 1}, \"0\": {\"9\": 3, \"10\": 2, \"8\": 48, \"6\": 3, \"0\": 58, \"7\": 56, \"5\": 52, \"3\": 12, \"15\": 4, \"1\": 2}, \"13\": {\"13\": 105, \"15\": 82, \"1\": 18, \"2\": 11, \"8\": 6, \"10\": 16, \"14\": 2}, \"7\": {\"7\": 156, \"0\": 56, \"6\": 1, \"3\": 6, \"9\": 2, \"5\": 13, \"8\": 6}, \"9\": {\"9\": 126, \"6\": 84, \"8\": 1, \"3\": 22, \"5\": 4, \"0\": 1, \"1\": 1, \"7\": 1}, \"3\": {\"3\": 169, \"9\": 35, \"7\": 10, \"6\": 17, \"5\": 3, \"0\": 6}, \"11\": {\"11\": 129, \"14\": 90, \"2\": 8, \"10\": 4, \"13\": 1, \"12\": 8}, \"6\": {\"6\": 151, \"9\": 76, \"0\": 2, \"3\": 3, \"5\": 7, \"7\": 1}, \"8\": {\"8\": 115, \"5\": 54, \"10\": 13, \"15\": 5, \"1\": 5, \"0\": 36, \"7\": 9, \"6\": 1, \"13\": 2}, \"4\": {\"4\": 215, \"12\": 24, \"10\": 1}, \"5\": {\"7\": 19, \"0\": 32, \"5\": 68, \"9\": 8, \"10\": 5, \"6\": 26, \"3\": 4, \"15\": 11, \"8\": 60, \"1\": 5, \"13\": 2}, \"10\": {\"10\": 133, \"13\": 27, \"12\": 31, \"11\": 4, \"5\": 2, \"15\": 16, \"8\": 14, \"7\": 1, \"0\": 6, \"2\": 3, \"14\": 3}, \"1\": {\"1\": 218, \"15\": 14, \"8\": 1, \"5\": 3, \"13\": 4}, \"2\": {\"14\": 25, \"2\": 204, \"11\": 5, \"13\": 6}, \"15\": {\"15\": 112, \"1\": 34, \"13\": 65, \"10\": 6, \"8\": 21, \"5\": 2}, \"12\": {\"12\": 192, \"10\": 31, \"4\": 15, \"0\": 1, \"8\": 1}}, \"26\": {\"13\": {\"13\": 120, \"2\": 12, \"5\": 35, \"15\": 25, \"8\": 4, \"9\": 17, \"6\": 25, \"3\": 1, \"7\": 1}, \"2\": {\"7\": 22, \"3\": 74, \"2\": 83, \"15\": 13, \"5\": 17, \"9\": 6, \"1\": 1, \"4\": 5, \"13\": 3, \"14\": 3, \"8\": 9, \"0\": 2, \"6\": 1, \"10\": 1}, \"8\": {\"0\": 27, \"9\": 22, \"8\": 37, \"5\": 18, \"2\": 13, \"10\": 29, \"15\": 22, \"1\": 8, \"14\": 19, \"4\": 20, \"3\": 4, \"6\": 9, \"7\": 9, \"13\": 3}, \"9\": {\"5\": 33, \"9\": 39, \"15\": 52, \"10\": 18, \"8\": 17, \"6\": 38, \"13\": 29, \"0\": 3, \"4\": 6, \"14\": 1, \"2\": 3, \"1\": 1}, \"12\": {\"12\": 220, \"11\": 19, \"6\": 1}, \"4\": {\"1\": 42, \"4\": 53, \"5\": 1, \"8\": 25, \"14\": 35, \"0\": 29, \"7\": 29, \"9\": 4, \"10\": 12, \"15\": 4, \"2\": 3, \"3\": 3}, \"3\": {\"7\": 48, \"3\": 127, \"8\": 1, \"2\": 54, \"15\": 2, \"14\": 2, \"0\": 3, \"5\": 2, \"10\": 1}, \"15\": {\"5\": 53, \"14\": 3, \"15\": 52, \"8\": 16, \"4\": 5, \"10\": 10, \"9\": 28, \"13\": 22, \"2\": 19, \"6\": 17, \"3\": 2, \"7\": 6, \"0\": 7}, \"14\": {\"10\": 26, \"1\": 49, \"14\": 52, \"0\": 35, \"7\": 13, \"8\": 17, \"9\": 4, \"15\": 3, \"4\": 34, \"3\": 1, \"6\": 5, \"5\": 1}, \"10\": {\"14\": 19, \"10\": 69, \"9\": 15, \"0\": 38, \"6\": 29, \"4\": 15, \"15\": 9, \"5\": 7, \"8\": 23, \"1\": 13, \"13\": 2, \"2\": 1}, \"7\": {\"5\": 10, \"7\": 67, \"4\": 27, \"3\": 60, \"1\": 9, \"8\": 15, \"14\": 6, \"2\": 34, \"10\": 2, \"0\": 4, \"15\": 5, \"9\": 1}, \"11\": {\"11\": 228, \"12\": 12}, \"6\": {\"8\": 13, \"9\": 34, \"6\": 116, \"10\": 32, \"13\": 10, \"0\": 12, \"15\": 11, \"5\": 8, \"14\": 1, \"1\": 2, \"4\": 1}, \"1\": {\"14\": 46, \"1\": 68, \"4\": 40, \"3\": 2, \"8\": 14, \"0\": 26, \"10\": 21, \"9\": 3, \"7\": 18, \"5\": 1, \"6\": 1}, \"5\": {\"13\": 31, \"5\": 77, \"0\": 2, \"8\": 13, \"9\": 26, \"15\": 48, \"2\": 22, \"14\": 4, \"10\": 1, \"6\": 5, \"7\": 7, \"3\": 3, \"4\": 1}, \"0\": {\"15\": 8, \"1\": 23, \"10\": 41, \"8\": 33, \"14\": 32, \"4\": 28, \"2\": 4, \"0\": 37, \"7\": 10, \"9\": 11, \"6\": 9, \"5\": 3, \"3\": 1}}}, \"per_domain_accuracy\": {\"8\": {\"accuracy\": 0.47708333333333336, \"source?\": true}, \"50\": {\"accuracy\": 0.6471354166666666, \"source?\": true}, \"32\": {\"accuracy\": 0.6471354166666666, \"source?\": true}, \"14\": {\"accuracy\": 0.5973958333333333, \"source?\": false}, \"20\": {\"accuracy\": 0.34791666666666665, \"source?\": false}, \"44\": {\"accuracy\": 0.5713541666666667, \"source?\": false}, \"38\": {\"accuracy\": 0.5986979166666667, \"source?\": false}, \"26\": {\"accuracy\": 0.3763020833333333, \"source?\": false}}}, \"history\": {\"epoch_indices\": [1, 2, 3, 4, 5, 6, 7, 8, 9, 10, 11, 12, 13, 14], \"train_label_loss\": [1.8238759744261939, 1.3911009682312845, 1.242001966895565, 0.9404831678739616, 0.7278776619110315, 0.5774154034191891, 0.4598954787758726, 0.3706206479834186, 0.3056745494612389, 0.26290834533089463, 0.22758349568189476, 0.20055267748437702, 0.1809398056848237, 0.15932291725004602], \"source_val_label_loss\": [1.554599404335022, 1.4852076768875122, 1.3208931684494019, 1.2309783697128296, 1.258095145225525, 1.3073360919952393, 1.3906519412994385, 1.4986355304718018, 1.6016108989715576, 1.663089394569397, 1.7583465576171875, 1.8142774105072021, 1.8824321031570435, 1.9571974277496338], \"target_val_label_loss\": [1.892586350440979, 1.8145805597305298, 1.6135210990905762, 1.4657092094421387, 1.4749892950057983, 1.5238726139068604, 1.6005892753601074, 1.6724270582199097, 1.800404667854309, 1.8708282709121704, 1.9584249258041382, 2.0713257789611816, 2.1236257553100586, 2.1766300201416016], \"source_val_acc_label\": [0.39210069444444445, 0.41336805555555556, 0.5021701388888888, 0.5578125, 0.5723090277777778, 0.5806423611111111, 0.5828993055555556, 0.5760416666666667, 0.5789930555555556, 0.5904513888888889, 0.5831597222222222, 0.5848090277777778, 0.5841145833333333, 0.5797743055555555], \"target_val_acc_label\": [0.27619791666666665, 0.29203125, 0.3944270833333333, 0.46489583333333334, 0.4841666666666667, 0.4923958333333333, 0.49161458333333335, 0.49109375, 0.48921875, 0.49833333333333335, 0.4973958333333333, 0.49578125, 0.49395833333333333, 0.49765625]}, \"dataset_metrics\": {\"source\": {\"train\": {\"n_unique_x\": 67200, \"n_unique_y\": 16, \"n_batch/episode\": 2520}, \"val\": {\"n_unique_x\": 14400, \"n_unique_y\": 16, \"n_batch/episode\": 360}, \"test\": {\"n_unique_x\": 14400, \"n_unique_y\": 16, \"n_batch/episode\": 360}}, \"target\": {\"train\": {\"n_unique_x\": 112000, \"n_unique_y\": 16, \"n_batch/episode\": 4200}, \"val\": {\"n_unique_x\": 24000, \"n_unique_y\": 16, \"n_batch/episode\": 600}, \"test\": {\"n_unique_x\": 24000, \"n_unique_y\": 16, \"n_batch/episode\": 600}}}}'"
      ]
     },
     "execution_count": 20,
     "metadata": {},
     "output_type": "execute_result"
    }
   ],
   "source": [
    "json.dumps(experiment)"
   ]
  }
 ],
 "metadata": {
  "celltoolbar": "Tags",
  "kernelspec": {
   "display_name": "Python 3 (ipykernel)",
   "language": "python",
   "name": "python3"
  },
  "language_info": {
   "codemirror_mode": {
    "name": "ipython",
    "version": 3
   },
   "file_extension": ".py",
   "mimetype": "text/x-python",
   "name": "python",
   "nbconvert_exporter": "python",
   "pygments_lexer": "ipython3",
   "version": "3.8.10"
  },
  "papermill": {
   "default_parameters": {},
   "duration": 1075.172833,
   "end_time": "2022-04-01T20:25:14.652300",
   "environment_variables": {},
   "exception": null,
   "input_path": "/mnt/wd500GB/CSC500/csc500-main/csc500-notebooks/templates/ptn_template.ipynb",
   "output_path": "trial.ipynb",
   "parameters": {
    "parameters": {
     "BEST_MODEL_PATH": "./best_model.pth",
     "NUM_LOGS_PER_EPOCH": 10,
     "criteria_for_best": "target_accuracy",
     "dataset_seed": 1337,
     "device": "cuda",
     "domains_source": [
      8,
      32,
      50
     ],
     "domains_target": [
      14,
      20,
      26,
      38,
      44
     ],
     "episode_transforms_source": [],
     "episode_transforms_target": [],
     "experiment_name": "tuned_1v2:oracle.run1_limited",
     "labels_source": [
      "3123D52",
      "3123D65",
      "3123D79",
      "3123D80",
      "3123D54",
      "3123D70",
      "3123D7B",
      "3123D89",
      "3123D58",
      "3123D76",
      "3123D7D",
      "3123EFE",
      "3123D64",
      "3123D78",
      "3123D7E",
      "3124E4A"
     ],
     "labels_target": [
      "3123D52",
      "3123D65",
      "3123D79",
      "3123D80",
      "3123D54",
      "3123D70",
      "3123D7B",
      "3123D89",
      "3123D58",
      "3123D76",
      "3123D7D",
      "3123EFE",
      "3123D64",
      "3123D78",
      "3123D7E",
      "3124E4A"
     ],
     "lr": 0.0001,
     "n_epoch": 50,
     "n_query": 2,
     "n_shot": 3,
     "n_way": 16,
     "num_examples_per_domain_per_label_source": 2000,
     "num_examples_per_domain_per_label_target": 2000,
     "patience": 3,
     "pickle_name": "oracle.Run1_10kExamples_stratified_ds.2022A.pkl",
     "seed": 1337,
     "test_k_factor": 2,
     "torch_default_dtype": "torch.float32",
     "train_k_factor": 3,
     "val_k_factor": 2,
     "x_net": [
      {
       "class": "nnReshape",
       "kargs": {
        "shape": [
         -1,
         1,
         2,
         256
        ]
       }
      },
      {
       "class": "Conv2d",
       "kargs": {
        "bias": false,
        "in_channels": 1,
        "kernel_size": [
         1,
         7
        ],
        "out_channels": 256,
        "padding": [
         0,
         3
        ]
       }
      },
      {
       "class": "ReLU",
       "kargs": {
        "inplace": true
       }
      },
      {
       "class": "BatchNorm2d",
       "kargs": {
        "num_features": 256
       }
      },
      {
       "class": "Conv2d",
       "kargs": {
        "bias": true,
        "in_channels": 256,
        "kernel_size": [
         2,
         7
        ],
        "out_channels": 80,
        "padding": [
         0,
         3
        ]
       }
      },
      {
       "class": "ReLU",
       "kargs": {
        "inplace": true
       }
      },
      {
       "class": "BatchNorm2d",
       "kargs": {
        "num_features": 80
       }
      },
      {
       "class": "Flatten",
       "kargs": {}
      },
      {
       "class": "Linear",
       "kargs": {
        "in_features": 20480,
        "out_features": 256
       }
      },
      {
       "class": "ReLU",
       "kargs": {
        "inplace": true
       }
      },
      {
       "class": "BatchNorm1d",
       "kargs": {
        "num_features": 256
       }
      },
      {
       "class": "Linear",
       "kargs": {
        "in_features": 256,
        "out_features": 256
       }
      }
     ],
     "x_transforms_source": [
      "unit_mag"
     ],
     "x_transforms_target": [
      "unit_mag"
     ]
    }
   },
   "start_time": "2022-04-01T20:07:19.479467",
   "version": "2.3.4"
  }
 },
 "nbformat": 4,
 "nbformat_minor": 5
}