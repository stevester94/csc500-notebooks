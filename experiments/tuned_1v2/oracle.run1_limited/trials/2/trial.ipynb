{
 "cells": [
  {
   "cell_type": "markdown",
   "id": "9fea5f46",
   "metadata": {
    "papermill": {
     "duration": 0.026319,
     "end_time": "2022-03-26T01:40:39.692134",
     "exception": false,
     "start_time": "2022-03-26T01:40:39.665815",
     "status": "completed"
    },
    "tags": []
   },
   "source": [
    "# PTN Template\n",
    "This notebook serves as a template for single dataset PTN experiments  \n",
    "It can be run on its own by setting STANDALONE to True (do a find for \"STANDALONE\" to see where)  \n",
    "But it is intended to be executed as part of a *papermill.py script. See any of the   \n",
    "experimentes with a papermill script to get started with that workflow.  "
   ]
  },
  {
   "cell_type": "code",
   "execution_count": 1,
   "id": "0902182a",
   "metadata": {
    "execution": {
     "iopub.execute_input": "2022-03-26T01:40:39.742301Z",
     "iopub.status.busy": "2022-03-26T01:40:39.741415Z",
     "iopub.status.idle": "2022-03-26T01:40:41.798213Z",
     "shell.execute_reply": "2022-03-26T01:40:41.797297Z"
    },
    "papermill": {
     "duration": 2.089526,
     "end_time": "2022-03-26T01:40:41.798403",
     "exception": false,
     "start_time": "2022-03-26T01:40:39.708877",
     "status": "completed"
    },
    "tags": []
   },
   "outputs": [],
   "source": [
    "%load_ext autoreload\n",
    "%autoreload 2\n",
    "%matplotlib inline\n",
    "\n",
    "    \n",
    "import os, json, sys, time, random\n",
    "import numpy as np\n",
    "import torch\n",
    "from torch.optim import Adam\n",
    "from  easydict import EasyDict\n",
    "import matplotlib.pyplot as plt\n",
    "\n",
    "from steves_models.steves_ptn import Steves_Prototypical_Network\n",
    "\n",
    "from steves_utils.lazy_iterable_wrapper import Lazy_Iterable_Wrapper\n",
    "from steves_utils.iterable_aggregator import Iterable_Aggregator\n",
    "from steves_utils.ptn_train_eval_test_jig import  PTN_Train_Eval_Test_Jig\n",
    "from steves_utils.torch_sequential_builder import build_sequential\n",
    "from steves_utils.torch_utils import get_dataset_metrics, ptn_confusion_by_domain_over_dataloader\n",
    "from steves_utils.utils_v2 import (per_domain_accuracy_from_confusion, get_datasets_base_path)\n",
    "from steves_utils.PTN.utils import independent_accuracy_assesment\n",
    "\n",
    "from steves_utils.stratified_dataset.episodic_accessor import Episodic_Accessor_Factory\n",
    "\n",
    "from steves_utils.ptn_do_report import (\n",
    "    get_loss_curve,\n",
    "    get_results_table,\n",
    "    get_parameters_table,\n",
    "    get_domain_accuracies,\n",
    ")\n",
    "\n",
    "from steves_utils.transforms import get_chained_transform"
   ]
  },
  {
   "cell_type": "markdown",
   "id": "41c840b4",
   "metadata": {
    "papermill": {
     "duration": 0.015331,
     "end_time": "2022-03-26T01:40:41.833850",
     "exception": false,
     "start_time": "2022-03-26T01:40:41.818519",
     "status": "completed"
    },
    "tags": []
   },
   "source": [
    "# Required Parameters\n",
    "These are allowed parameters, not defaults\n",
    "Each of these values need to be present in the injected parameters (the notebook will raise an exception if they are not present)\n",
    "\n",
    "Papermill uses the cell tag \"parameters\" to inject the real parameters below this cell.\n",
    "Enable tags to see what I mean"
   ]
  },
  {
   "cell_type": "code",
   "execution_count": 2,
   "id": "fd44eb83",
   "metadata": {
    "execution": {
     "iopub.execute_input": "2022-03-26T01:40:41.866028Z",
     "iopub.status.busy": "2022-03-26T01:40:41.865639Z",
     "iopub.status.idle": "2022-03-26T01:40:41.884592Z",
     "shell.execute_reply": "2022-03-26T01:40:41.883782Z"
    },
    "papermill": {
     "duration": 0.036879,
     "end_time": "2022-03-26T01:40:41.884750",
     "exception": false,
     "start_time": "2022-03-26T01:40:41.847871",
     "status": "completed"
    },
    "tags": []
   },
   "outputs": [],
   "source": [
    "required_parameters = {\n",
    "    \"experiment_name\",\n",
    "    \"lr\",\n",
    "    \"device\",\n",
    "    \"seed\",\n",
    "    \"dataset_seed\",\n",
    "    \"labels_source\",\n",
    "    \"labels_target\",\n",
    "    \"domains_source\",\n",
    "    \"domains_target\",\n",
    "    \"num_examples_per_domain_per_label_source\",\n",
    "    \"num_examples_per_domain_per_label_target\",\n",
    "    \"n_shot\",\n",
    "    \"n_way\",\n",
    "    \"n_query\",\n",
    "    \"train_k_factor\",\n",
    "    \"val_k_factor\",\n",
    "    \"test_k_factor\",\n",
    "    \"n_epoch\",\n",
    "    \"patience\",\n",
    "    \"criteria_for_best\",\n",
    "    \"x_transforms_source\",\n",
    "    \"x_transforms_target\",\n",
    "    \"episode_transforms_source\",\n",
    "    \"episode_transforms_target\",\n",
    "    \"pickle_name\",\n",
    "    \"x_net\",\n",
    "    \"NUM_LOGS_PER_EPOCH\",\n",
    "    \"BEST_MODEL_PATH\",\n",
    "    \"torch_default_dtype\"\n",
    "}"
   ]
  },
  {
   "cell_type": "code",
   "execution_count": 3,
   "id": "fa3f0049",
   "metadata": {
    "execution": {
     "iopub.execute_input": "2022-03-26T01:40:41.928205Z",
     "iopub.status.busy": "2022-03-26T01:40:41.927262Z",
     "iopub.status.idle": "2022-03-26T01:40:41.946565Z",
     "shell.execute_reply": "2022-03-26T01:40:41.945815Z"
    },
    "papermill": {
     "duration": 0.043561,
     "end_time": "2022-03-26T01:40:41.946722",
     "exception": false,
     "start_time": "2022-03-26T01:40:41.903161",
     "status": "completed"
    },
    "tags": [
     "parameters"
    ]
   },
   "outputs": [],
   "source": [
    "\n",
    "\n",
    "standalone_parameters = {}\n",
    "standalone_parameters[\"experiment_name\"] = \"STANDALONE PTN\"\n",
    "standalone_parameters[\"lr\"] = 0.0001\n",
    "standalone_parameters[\"device\"] = \"cuda\"\n",
    "\n",
    "standalone_parameters[\"seed\"] = 1337\n",
    "standalone_parameters[\"dataset_seed\"] = 1337\n",
    "\n",
    "\n",
    "standalone_parameters[\"num_examples_per_domain_per_label_source\"]=100\n",
    "standalone_parameters[\"num_examples_per_domain_per_label_target\"]=100\n",
    "\n",
    "standalone_parameters[\"n_shot\"] = 3\n",
    "standalone_parameters[\"n_query\"]  = 2\n",
    "standalone_parameters[\"train_k_factor\"] = 1\n",
    "standalone_parameters[\"val_k_factor\"] = 2\n",
    "standalone_parameters[\"test_k_factor\"] = 2\n",
    "\n",
    "\n",
    "standalone_parameters[\"n_epoch\"] = 100\n",
    "\n",
    "standalone_parameters[\"patience\"] = 10\n",
    "standalone_parameters[\"criteria_for_best\"] = \"target_accuracy\"\n",
    "\n",
    "standalone_parameters[\"x_transforms_source\"] = [\"unit_power\"]\n",
    "standalone_parameters[\"x_transforms_target\"] = [\"unit_power\"]\n",
    "standalone_parameters[\"episode_transforms_source\"] = []\n",
    "standalone_parameters[\"episode_transforms_target\"] = []\n",
    "\n",
    "standalone_parameters[\"torch_default_dtype\"] = \"torch.float32\" \n",
    "\n",
    "\n",
    "\n",
    "standalone_parameters[\"x_net\"] =     [\n",
    "    {\"class\": \"nnReshape\", \"kargs\": {\"shape\":[-1, 1, 2, 256]}},\n",
    "    {\"class\": \"Conv2d\", \"kargs\": { \"in_channels\":1, \"out_channels\":256, \"kernel_size\":(1,7), \"bias\":False, \"padding\":(0,3), },},\n",
    "    {\"class\": \"ReLU\", \"kargs\": {\"inplace\": True}},\n",
    "    {\"class\": \"BatchNorm2d\", \"kargs\": {\"num_features\":256}},\n",
    "\n",
    "    {\"class\": \"Conv2d\", \"kargs\": { \"in_channels\":256, \"out_channels\":80, \"kernel_size\":(2,7), \"bias\":True, \"padding\":(0,3), },},\n",
    "    {\"class\": \"ReLU\", \"kargs\": {\"inplace\": True}},\n",
    "    {\"class\": \"BatchNorm2d\", \"kargs\": {\"num_features\":80}},\n",
    "    {\"class\": \"Flatten\", \"kargs\": {}},\n",
    "\n",
    "    {\"class\": \"Linear\", \"kargs\": {\"in_features\": 80*256, \"out_features\": 256}}, # 80 units per IQ pair\n",
    "    {\"class\": \"ReLU\", \"kargs\": {\"inplace\": True}},\n",
    "    {\"class\": \"BatchNorm1d\", \"kargs\": {\"num_features\":256}},\n",
    "\n",
    "    {\"class\": \"Linear\", \"kargs\": {\"in_features\": 256, \"out_features\": 256}},\n",
    "]\n",
    "\n",
    "# Parameters relevant to results\n",
    "# These parameters will basically never need to change\n",
    "standalone_parameters[\"NUM_LOGS_PER_EPOCH\"] = 10\n",
    "standalone_parameters[\"BEST_MODEL_PATH\"] = \"./best_model.pth\"\n",
    "\n",
    "# uncomment for CORES dataset\n",
    "from steves_utils.CORES.utils import (\n",
    "    ALL_NODES,\n",
    "    ALL_NODES_MINIMUM_1000_EXAMPLES,\n",
    "    ALL_DAYS\n",
    ")\n",
    "\n",
    "\n",
    "standalone_parameters[\"labels_source\"] = ALL_NODES\n",
    "standalone_parameters[\"labels_target\"] = ALL_NODES\n",
    "\n",
    "standalone_parameters[\"domains_source\"] = [1]\n",
    "standalone_parameters[\"domains_target\"] = [2,3,4,5]\n",
    "\n",
    "standalone_parameters[\"pickle_name\"] = \"cores.stratified_ds.2022A.pkl\"\n",
    "\n",
    "\n",
    "# Uncomment these for ORACLE dataset\n",
    "# from steves_utils.ORACLE.utils_v2 import (\n",
    "#     ALL_DISTANCES_FEET,\n",
    "#     ALL_RUNS,\n",
    "#     ALL_SERIAL_NUMBERS,\n",
    "# )\n",
    "# standalone_parameters[\"labels_source\"] = ALL_SERIAL_NUMBERS\n",
    "# standalone_parameters[\"labels_target\"] = ALL_SERIAL_NUMBERS\n",
    "# standalone_parameters[\"domains_source\"] = [8,20, 38,50]\n",
    "# standalone_parameters[\"domains_target\"] = [14, 26, 32, 44, 56]\n",
    "# standalone_parameters[\"pickle_name\"] = \"oracle.frame_indexed.stratified_ds.2022A.pkl\"\n",
    "# standalone_parameters[\"num_examples_per_domain_per_label_source\"]=1000\n",
    "# standalone_parameters[\"num_examples_per_domain_per_label_target\"]=1000\n",
    "\n",
    "# Uncomment these for Metahan dataset\n",
    "# standalone_parameters[\"labels_source\"] = list(range(19))\n",
    "# standalone_parameters[\"labels_target\"] = list(range(19))\n",
    "# standalone_parameters[\"domains_source\"] = [0]\n",
    "# standalone_parameters[\"domains_target\"] = [1]\n",
    "# standalone_parameters[\"pickle_name\"] = \"metehan.stratified_ds.2022A.pkl\"\n",
    "# standalone_parameters[\"n_way\"]  = len(standalone_parameters[\"labels_source\"])\n",
    "# standalone_parameters[\"num_examples_per_domain_per_label_source\"]=200\n",
    "# standalone_parameters[\"num_examples_per_domain_per_label_target\"]=100\n",
    "\n",
    "\n",
    "standalone_parameters[\"n_way\"]  = len(standalone_parameters[\"labels_source\"])"
   ]
  },
  {
   "cell_type": "code",
   "execution_count": 4,
   "id": "b8ab68fa",
   "metadata": {
    "execution": {
     "iopub.execute_input": "2022-03-26T01:40:41.989116Z",
     "iopub.status.busy": "2022-03-26T01:40:41.988397Z",
     "iopub.status.idle": "2022-03-26T01:40:42.006780Z",
     "shell.execute_reply": "2022-03-26T01:40:42.006031Z"
    },
    "papermill": {
     "duration": 0.040245,
     "end_time": "2022-03-26T01:40:42.006937",
     "exception": false,
     "start_time": "2022-03-26T01:40:41.966692",
     "status": "completed"
    },
    "tags": [
     "injected-parameters"
    ]
   },
   "outputs": [],
   "source": [
    "# Parameters\n",
    "parameters = {\n",
    "    \"experiment_name\": \"tuned_1v2:oracle.run1_limited\",\n",
    "    \"device\": \"cuda\",\n",
    "    \"lr\": 0.0001,\n",
    "    \"labels_source\": [\n",
    "        \"3123D52\",\n",
    "        \"3123D65\",\n",
    "        \"3123D79\",\n",
    "        \"3123D80\",\n",
    "        \"3123D54\",\n",
    "        \"3123D70\",\n",
    "        \"3123D7B\",\n",
    "        \"3123D89\",\n",
    "        \"3123D58\",\n",
    "        \"3123D76\",\n",
    "        \"3123D7D\",\n",
    "        \"3123EFE\",\n",
    "        \"3123D64\",\n",
    "        \"3123D78\",\n",
    "        \"3123D7E\",\n",
    "        \"3124E4A\",\n",
    "    ],\n",
    "    \"labels_target\": [\n",
    "        \"3123D52\",\n",
    "        \"3123D65\",\n",
    "        \"3123D79\",\n",
    "        \"3123D80\",\n",
    "        \"3123D54\",\n",
    "        \"3123D70\",\n",
    "        \"3123D7B\",\n",
    "        \"3123D89\",\n",
    "        \"3123D58\",\n",
    "        \"3123D76\",\n",
    "        \"3123D7D\",\n",
    "        \"3123EFE\",\n",
    "        \"3123D64\",\n",
    "        \"3123D78\",\n",
    "        \"3123D7E\",\n",
    "        \"3124E4A\",\n",
    "    ],\n",
    "    \"episode_transforms_source\": [],\n",
    "    \"episode_transforms_target\": [],\n",
    "    \"domains_source\": [8, 32, 50],\n",
    "    \"domains_target\": [14, 20, 26, 38, 44],\n",
    "    \"num_examples_per_domain_per_label_source\": -1,\n",
    "    \"num_examples_per_domain_per_label_target\": -1,\n",
    "    \"n_shot\": 3,\n",
    "    \"n_way\": 16,\n",
    "    \"n_query\": 2,\n",
    "    \"train_k_factor\": 3,\n",
    "    \"val_k_factor\": 2,\n",
    "    \"test_k_factor\": 2,\n",
    "    \"torch_default_dtype\": \"torch.float32\",\n",
    "    \"n_epoch\": 50,\n",
    "    \"patience\": 3,\n",
    "    \"criteria_for_best\": \"target_accuracy\",\n",
    "    \"x_net\": [\n",
    "        {\"class\": \"nnReshape\", \"kargs\": {\"shape\": [-1, 1, 2, 256]}},\n",
    "        {\n",
    "            \"class\": \"Conv2d\",\n",
    "            \"kargs\": {\n",
    "                \"in_channels\": 1,\n",
    "                \"out_channels\": 256,\n",
    "                \"kernel_size\": [1, 7],\n",
    "                \"bias\": False,\n",
    "                \"padding\": [0, 3],\n",
    "            },\n",
    "        },\n",
    "        {\"class\": \"ReLU\", \"kargs\": {\"inplace\": True}},\n",
    "        {\"class\": \"BatchNorm2d\", \"kargs\": {\"num_features\": 256}},\n",
    "        {\n",
    "            \"class\": \"Conv2d\",\n",
    "            \"kargs\": {\n",
    "                \"in_channels\": 256,\n",
    "                \"out_channels\": 80,\n",
    "                \"kernel_size\": [2, 7],\n",
    "                \"bias\": True,\n",
    "                \"padding\": [0, 3],\n",
    "            },\n",
    "        },\n",
    "        {\"class\": \"ReLU\", \"kargs\": {\"inplace\": True}},\n",
    "        {\"class\": \"BatchNorm2d\", \"kargs\": {\"num_features\": 80}},\n",
    "        {\"class\": \"Flatten\", \"kargs\": {}},\n",
    "        {\"class\": \"Linear\", \"kargs\": {\"in_features\": 20480, \"out_features\": 256}},\n",
    "        {\"class\": \"ReLU\", \"kargs\": {\"inplace\": True}},\n",
    "        {\"class\": \"BatchNorm1d\", \"kargs\": {\"num_features\": 256}},\n",
    "        {\"class\": \"Linear\", \"kargs\": {\"in_features\": 256, \"out_features\": 256}},\n",
    "    ],\n",
    "    \"NUM_LOGS_PER_EPOCH\": 10,\n",
    "    \"BEST_MODEL_PATH\": \"./best_model.pth\",\n",
    "    \"pickle_name\": \"oracle.Run1_10kExamples_stratified_ds.2022A.pkl\",\n",
    "    \"x_transforms_source\": [\"unit_mag\"],\n",
    "    \"x_transforms_target\": [\"unit_mag\"],\n",
    "    \"dataset_seed\": 1337,\n",
    "    \"seed\": 1337,\n",
    "}\n"
   ]
  },
  {
   "cell_type": "code",
   "execution_count": 5,
   "id": "8fa1cc33",
   "metadata": {
    "execution": {
     "iopub.execute_input": "2022-03-26T01:40:42.044351Z",
     "iopub.status.busy": "2022-03-26T01:40:42.043966Z",
     "iopub.status.idle": "2022-03-26T01:40:42.061583Z",
     "shell.execute_reply": "2022-03-26T01:40:42.060874Z"
    },
    "papermill": {
     "duration": 0.035376,
     "end_time": "2022-03-26T01:40:42.061740",
     "exception": false,
     "start_time": "2022-03-26T01:40:42.026364",
     "status": "completed"
    },
    "tags": []
   },
   "outputs": [],
   "source": [
    "# Set this to True if you want to run this template directly\n",
    "STANDALONE = False\n",
    "if STANDALONE:\n",
    "    print(\"parameters not injected, running with standalone_parameters\")\n",
    "    parameters = standalone_parameters\n",
    "\n",
    "if not 'parameters' in locals() and not 'parameters' in globals():\n",
    "    raise Exception(\"Parameter injection failed\")\n",
    "\n",
    "#Use an easy dict for all the parameters\n",
    "p = EasyDict(parameters)\n",
    "\n",
    "supplied_keys = set(p.keys())\n",
    "\n",
    "if  supplied_keys != required_parameters:\n",
    "    print(\"Parameters are incorrect\")\n",
    "    if len(supplied_keys - required_parameters)>0: print(\"Shouldn't have:\", str(supplied_keys - required_parameters))\n",
    "    if len(required_parameters - supplied_keys)>0: print(\"Need to have:\", str(required_parameters - supplied_keys))\n",
    "    raise RuntimeError(\"Parameters are incorrect\")\n",
    "\n"
   ]
  },
  {
   "cell_type": "code",
   "execution_count": 6,
   "id": "3a028d58",
   "metadata": {
    "execution": {
     "iopub.execute_input": "2022-03-26T01:40:42.100932Z",
     "iopub.status.busy": "2022-03-26T01:40:42.100557Z",
     "iopub.status.idle": "2022-03-26T01:40:42.118115Z",
     "shell.execute_reply": "2022-03-26T01:40:42.117301Z"
    },
    "papermill": {
     "duration": 0.035557,
     "end_time": "2022-03-26T01:40:42.118271",
     "exception": false,
     "start_time": "2022-03-26T01:40:42.082714",
     "status": "completed"
    },
    "tags": []
   },
   "outputs": [],
   "source": [
    "###################################\n",
    "# Set the RNGs and make it all deterministic\n",
    "###################################\n",
    "np.random.seed(p.seed)\n",
    "random.seed(p.seed)\n",
    "torch.manual_seed(p.seed)\n",
    "\n",
    "torch.use_deterministic_algorithms(True) "
   ]
  },
  {
   "cell_type": "code",
   "execution_count": 7,
   "id": "b691acf6",
   "metadata": {
    "execution": {
     "iopub.execute_input": "2022-03-26T01:40:42.155691Z",
     "iopub.status.busy": "2022-03-26T01:40:42.155305Z",
     "iopub.status.idle": "2022-03-26T01:40:42.171295Z",
     "shell.execute_reply": "2022-03-26T01:40:42.171963Z"
    },
    "papermill": {
     "duration": 0.033665,
     "end_time": "2022-03-26T01:40:42.172154",
     "exception": false,
     "start_time": "2022-03-26T01:40:42.138489",
     "status": "completed"
    },
    "tags": []
   },
   "outputs": [],
   "source": [
    "###########################################\n",
    "# The stratified datasets honor this\n",
    "###########################################\n",
    "torch.set_default_dtype(eval(p.torch_default_dtype))"
   ]
  },
  {
   "cell_type": "code",
   "execution_count": 8,
   "id": "b5fba671",
   "metadata": {
    "execution": {
     "iopub.execute_input": "2022-03-26T01:40:42.209883Z",
     "iopub.status.busy": "2022-03-26T01:40:42.209516Z",
     "iopub.status.idle": "2022-03-26T01:40:42.264277Z",
     "shell.execute_reply": "2022-03-26T01:40:42.263465Z"
    },
    "papermill": {
     "duration": 0.072771,
     "end_time": "2022-03-26T01:40:42.264443",
     "exception": false,
     "start_time": "2022-03-26T01:40:42.191672",
     "status": "completed"
    },
    "tags": []
   },
   "outputs": [],
   "source": [
    "###################################\n",
    "# Build the network(s)\n",
    "# Note: It's critical to do this AFTER setting the RNG\n",
    "# (This is due to the randomized initial weights)\n",
    "###################################\n",
    "x_net = build_sequential(p.x_net)"
   ]
  },
  {
   "cell_type": "code",
   "execution_count": 9,
   "id": "5d7e61cc",
   "metadata": {
    "execution": {
     "iopub.execute_input": "2022-03-26T01:40:42.302455Z",
     "iopub.status.busy": "2022-03-26T01:40:42.302085Z",
     "iopub.status.idle": "2022-03-26T01:40:42.328282Z",
     "shell.execute_reply": "2022-03-26T01:40:42.327414Z"
    },
    "papermill": {
     "duration": 0.044844,
     "end_time": "2022-03-26T01:40:42.328442",
     "exception": false,
     "start_time": "2022-03-26T01:40:42.283598",
     "status": "completed"
    },
    "tags": []
   },
   "outputs": [],
   "source": [
    "start_time_secs = time.time()"
   ]
  },
  {
   "cell_type": "code",
   "execution_count": 10,
   "id": "fd5442bc",
   "metadata": {
    "execution": {
     "iopub.execute_input": "2022-03-26T01:40:42.386911Z",
     "iopub.status.busy": "2022-03-26T01:40:42.385663Z",
     "iopub.status.idle": "2022-03-26T01:42:31.781533Z",
     "shell.execute_reply": "2022-03-26T01:42:31.780764Z"
    },
    "papermill": {
     "duration": 109.424256,
     "end_time": "2022-03-26T01:42:31.781713",
     "exception": false,
     "start_time": "2022-03-26T01:40:42.357457",
     "status": "completed"
    },
    "tags": []
   },
   "outputs": [],
   "source": [
    "###################################\n",
    "# Build the dataset\n",
    "###################################\n",
    "\n",
    "if p.x_transforms_source == []: x_transform_source = None\n",
    "else: x_transform_source = get_chained_transform(p.x_transforms_source) \n",
    "\n",
    "if p.x_transforms_target == []: x_transform_target = None\n",
    "else: x_transform_target = get_chained_transform(p.x_transforms_target)\n",
    "\n",
    "if p.episode_transforms_source == []: episode_transform_source = None\n",
    "else: raise Exception(\"episode_transform_source not implemented\")\n",
    "\n",
    "if p.episode_transforms_target == []: episode_transform_target = None\n",
    "else: raise Exception(\"episode_transform_target not implemented\")\n",
    "\n",
    "\n",
    "eaf_source = Episodic_Accessor_Factory(\n",
    "    labels=p.labels_source,\n",
    "    domains=p.domains_source,\n",
    "    num_examples_per_domain_per_label=p.num_examples_per_domain_per_label_source,\n",
    "    iterator_seed=p.seed,\n",
    "    dataset_seed=p.dataset_seed,\n",
    "    n_shot=p.n_shot,\n",
    "    n_way=p.n_way,\n",
    "    n_query=p.n_query,\n",
    "    train_val_test_k_factors=(p.train_k_factor,p.val_k_factor,p.test_k_factor),\n",
    "    pickle_path=os.path.join(get_datasets_base_path(), p.pickle_name),\n",
    "    x_transform_func=x_transform_source,\n",
    "    example_transform_func=episode_transform_source,\n",
    "    \n",
    ")\n",
    "train_original_source, val_original_source, test_original_source = eaf_source.get_train(), eaf_source.get_val(), eaf_source.get_test()\n",
    "\n",
    "\n",
    "eaf_target = Episodic_Accessor_Factory(\n",
    "    labels=p.labels_target,\n",
    "    domains=p.domains_target,\n",
    "    num_examples_per_domain_per_label=p.num_examples_per_domain_per_label_target,\n",
    "    iterator_seed=p.seed,\n",
    "    dataset_seed=p.dataset_seed,\n",
    "    n_shot=p.n_shot,\n",
    "    n_way=p.n_way,\n",
    "    n_query=p.n_query,\n",
    "    train_val_test_k_factors=(p.train_k_factor,p.val_k_factor,p.test_k_factor),\n",
    "    pickle_path=os.path.join(get_datasets_base_path(), p.pickle_name),\n",
    "    x_transform_func=x_transform_target,\n",
    "    example_transform_func=episode_transform_target,\n",
    ")\n",
    "train_original_target, val_original_target, test_original_target = eaf_target.get_train(), eaf_target.get_val(), eaf_target.get_test()\n",
    "\n",
    "\n",
    "transform_lambda = lambda ex: ex[1] # Original is (<domain>, <episode>) so we strip down to episode only\n",
    "\n",
    "train_processed_source = Lazy_Iterable_Wrapper(train_original_source, transform_lambda)\n",
    "val_processed_source   = Lazy_Iterable_Wrapper(val_original_source, transform_lambda)\n",
    "test_processed_source  = Lazy_Iterable_Wrapper(test_original_source, transform_lambda)\n",
    "\n",
    "train_processed_target = Lazy_Iterable_Wrapper(train_original_target, transform_lambda)\n",
    "val_processed_target   = Lazy_Iterable_Wrapper(val_original_target, transform_lambda)\n",
    "test_processed_target  = Lazy_Iterable_Wrapper(test_original_target, transform_lambda)\n",
    "\n",
    "datasets = EasyDict({\n",
    "    \"source\": {\n",
    "        \"original\": {\"train\":train_original_source, \"val\":val_original_source, \"test\":test_original_source},\n",
    "        \"processed\": {\"train\":train_processed_source, \"val\":val_processed_source, \"test\":test_processed_source}\n",
    "    },\n",
    "    \"target\": {\n",
    "        \"original\": {\"train\":train_original_target, \"val\":val_original_target, \"test\":test_original_target},\n",
    "        \"processed\": {\"train\":train_processed_target, \"val\":val_processed_target, \"test\":test_processed_target}\n",
    "    },\n",
    "})"
   ]
  },
  {
   "cell_type": "code",
   "execution_count": 11,
   "id": "296189d9",
   "metadata": {
    "execution": {
     "iopub.execute_input": "2022-03-26T01:42:31.826273Z",
     "iopub.status.busy": "2022-03-26T01:42:31.825690Z",
     "iopub.status.idle": "2022-03-26T01:42:38.804070Z",
     "shell.execute_reply": "2022-03-26T01:42:38.804890Z"
    },
    "papermill": {
     "duration": 7.001975,
     "end_time": "2022-03-26T01:42:38.805107",
     "exception": false,
     "start_time": "2022-03-26T01:42:31.803132",
     "status": "completed"
    },
    "tags": []
   },
   "outputs": [
    {
     "name": "stdout",
     "output_type": "stream",
     "text": [
      "Visually inspect these to see if they line up with expected values given the transforms\n",
      "x_transforms_source ['unit_mag']\n",
      "x_transforms_target ['unit_mag']\n",
      "Average magnitude, source: 1.0\n",
      "Average power, source: 1.3161097\n"
     ]
    },
    {
     "name": "stdout",
     "output_type": "stream",
     "text": [
      "Average magnitude, target: 1.0\n",
      "Average power, target: 1.2859056\n"
     ]
    }
   ],
   "source": [
    "# Some quick unit tests on the data\n",
    "from steves_utils.transforms import get_average_power, get_average_magnitude\n",
    "\n",
    "q_x, q_y, s_x, s_y, truth = next(iter(train_processed_source))\n",
    "\n",
    "assert q_x.dtype == eval(p.torch_default_dtype)\n",
    "assert s_x.dtype == eval(p.torch_default_dtype)\n",
    "\n",
    "print(\"Visually inspect these to see if they line up with expected values given the transforms\")\n",
    "print('x_transforms_source', p.x_transforms_source)\n",
    "print('x_transforms_target', p.x_transforms_target)\n",
    "print(\"Average magnitude, source:\", get_average_magnitude(q_x[0].numpy()))\n",
    "print(\"Average power, source:\", get_average_power(q_x[0].numpy()))\n",
    "\n",
    "q_x, q_y, s_x, s_y, truth = next(iter(train_processed_target))\n",
    "print(\"Average magnitude, target:\", get_average_magnitude(q_x[0].numpy()))\n",
    "print(\"Average power, target:\", get_average_power(q_x[0].numpy()))\n"
   ]
  },
  {
   "cell_type": "code",
   "execution_count": 12,
   "id": "bbdacba1",
   "metadata": {
    "execution": {
     "iopub.execute_input": "2022-03-26T01:42:38.850964Z",
     "iopub.status.busy": "2022-03-26T01:42:38.850584Z",
     "iopub.status.idle": "2022-03-26T01:42:39.078793Z",
     "shell.execute_reply": "2022-03-26T01:42:39.079505Z"
    },
    "papermill": {
     "duration": 0.250047,
     "end_time": "2022-03-26T01:42:39.079761",
     "exception": false,
     "start_time": "2022-03-26T01:42:38.829714",
     "status": "completed"
    },
    "tags": []
   },
   "outputs": [
    {
     "name": "stdout",
     "output_type": "stream",
     "text": [
      "(2, 256)\n"
     ]
    }
   ],
   "source": [
    "###################################\n",
    "# Build the model\n",
    "###################################\n",
    "model = Steves_Prototypical_Network(x_net, device=p.device, x_shape=(2,256))\n",
    "optimizer = Adam(params=model.parameters(), lr=p.lr)"
   ]
  },
  {
   "cell_type": "code",
   "execution_count": 13,
   "id": "22b39ac5",
   "metadata": {
    "execution": {
     "iopub.execute_input": "2022-03-26T01:42:39.124591Z",
     "iopub.status.busy": "2022-03-26T01:42:39.124211Z",
     "iopub.status.idle": "2022-03-26T02:55:09.866681Z",
     "shell.execute_reply": "2022-03-26T02:55:09.866335Z"
    },
    "papermill": {
     "duration": 4350.76306,
     "end_time": "2022-03-26T02:55:09.866765",
     "exception": false,
     "start_time": "2022-03-26T01:42:39.103705",
     "status": "completed"
    },
    "tags": []
   },
   "outputs": [
    {
     "name": "stdout",
     "output_type": "stream",
     "text": [
      "epoch: 1, [batch: 1 / 12600], examples_per_second: 17.4422, train_label_loss: 2.8020, \n"
     ]
    },
    {
     "name": "stdout",
     "output_type": "stream",
     "text": [
      "epoch: 1, [batch: 1260 / 12600], examples_per_second: 2371.8009, train_label_loss: 1.9658, \n"
     ]
    },
    {
     "name": "stdout",
     "output_type": "stream",
     "text": [
      "epoch: 1, [batch: 2520 / 12600], examples_per_second: 3836.3346, train_label_loss: 1.4168, \n"
     ]
    },
    {
     "name": "stdout",
     "output_type": "stream",
     "text": [
      "epoch: 1, [batch: 3780 / 12600], examples_per_second: 5041.0980, train_label_loss: 1.3214, \n"
     ]
    },
    {
     "name": "stdout",
     "output_type": "stream",
     "text": [
      "epoch: 1, [batch: 5040 / 12600], examples_per_second: 5021.4005, train_label_loss: 1.2474, \n"
     ]
    },
    {
     "name": "stdout",
     "output_type": "stream",
     "text": [
      "epoch: 1, [batch: 6300 / 12600], examples_per_second: 3726.6004, train_label_loss: 1.3504, \n"
     ]
    },
    {
     "name": "stdout",
     "output_type": "stream",
     "text": [
      "epoch: 1, [batch: 7560 / 12600], examples_per_second: 2644.3066, train_label_loss: 1.4016, \n"
     ]
    },
    {
     "name": "stdout",
     "output_type": "stream",
     "text": [
      "epoch: 1, [batch: 8820 / 12600], examples_per_second: 4868.6242, train_label_loss: 1.2478, \n"
     ]
    },
    {
     "name": "stdout",
     "output_type": "stream",
     "text": [
      "epoch: 1, [batch: 10080 / 12600], examples_per_second: 2406.4420, train_label_loss: 1.2423, \n"
     ]
    },
    {
     "name": "stdout",
     "output_type": "stream",
     "text": [
      "epoch: 1, [batch: 11340 / 12600], examples_per_second: 3520.3487, train_label_loss: 0.7983, \n"
     ]
    },
    {
     "name": "stdout",
     "output_type": "stream",
     "text": [
      "=============================================================\n",
      "epoch: 1, source_val_acc_label: 0.5970, target_val_acc_label: 0.5025, source_val_label_loss: 1.0866, target_val_label_loss: 1.3285, \n",
      "=============================================================\n"
     ]
    },
    {
     "name": "stdout",
     "output_type": "stream",
     "text": [
      "New best\n"
     ]
    },
    {
     "name": "stdout",
     "output_type": "stream",
     "text": [
      "epoch: 2, [batch: 1 / 12600], examples_per_second: 1.0272, train_label_loss: 0.9482, \n"
     ]
    },
    {
     "name": "stdout",
     "output_type": "stream",
     "text": [
      "epoch: 2, [batch: 1260 / 12600], examples_per_second: 2435.4970, train_label_loss: 0.6363, \n"
     ]
    },
    {
     "name": "stdout",
     "output_type": "stream",
     "text": [
      "epoch: 2, [batch: 2520 / 12600], examples_per_second: 3083.0329, train_label_loss: 0.8781, \n"
     ]
    },
    {
     "name": "stdout",
     "output_type": "stream",
     "text": [
      "epoch: 2, [batch: 3780 / 12600], examples_per_second: 2325.0639, train_label_loss: 1.1017, \n"
     ]
    },
    {
     "name": "stdout",
     "output_type": "stream",
     "text": [
      "epoch: 2, [batch: 5040 / 12600], examples_per_second: 2582.3846, train_label_loss: 0.8574, \n"
     ]
    },
    {
     "name": "stdout",
     "output_type": "stream",
     "text": [
      "epoch: 2, [batch: 6300 / 12600], examples_per_second: 3230.1734, train_label_loss: 0.9851, \n"
     ]
    },
    {
     "name": "stdout",
     "output_type": "stream",
     "text": [
      "epoch: 2, [batch: 7560 / 12600], examples_per_second: 2130.2391, train_label_loss: 1.0350, \n"
     ]
    },
    {
     "name": "stdout",
     "output_type": "stream",
     "text": [
      "epoch: 2, [batch: 8820 / 12600], examples_per_second: 4289.4067, train_label_loss: 0.8910, \n"
     ]
    },
    {
     "name": "stdout",
     "output_type": "stream",
     "text": [
      "epoch: 2, [batch: 10080 / 12600], examples_per_second: 2198.7862, train_label_loss: 0.6948, \n"
     ]
    },
    {
     "name": "stdout",
     "output_type": "stream",
     "text": [
      "epoch: 2, [batch: 11340 / 12600], examples_per_second: 3856.2457, train_label_loss: 0.6496, \n"
     ]
    },
    {
     "name": "stdout",
     "output_type": "stream",
     "text": [
      "=============================================================\n",
      "epoch: 2, source_val_acc_label: 0.6551, target_val_acc_label: 0.5801, source_val_label_loss: 0.9062, target_val_label_loss: 1.1057, \n",
      "=============================================================\n"
     ]
    },
    {
     "name": "stdout",
     "output_type": "stream",
     "text": [
      "New best\n"
     ]
    },
    {
     "name": "stdout",
     "output_type": "stream",
     "text": [
      "epoch: 3, [batch: 1 / 12600], examples_per_second: 1.0434, train_label_loss: 0.7700, \n"
     ]
    },
    {
     "name": "stdout",
     "output_type": "stream",
     "text": [
      "epoch: 3, [batch: 1260 / 12600], examples_per_second: 2280.1598, train_label_loss: 0.9095, \n"
     ]
    },
    {
     "name": "stdout",
     "output_type": "stream",
     "text": [
      "epoch: 3, [batch: 2520 / 12600], examples_per_second: 3451.7815, train_label_loss: 0.9591, \n"
     ]
    },
    {
     "name": "stdout",
     "output_type": "stream",
     "text": [
      "epoch: 3, [batch: 3780 / 12600], examples_per_second: 2222.7259, train_label_loss: 0.9169, \n"
     ]
    },
    {
     "name": "stdout",
     "output_type": "stream",
     "text": [
      "epoch: 3, [batch: 5040 / 12600], examples_per_second: 2478.2684, train_label_loss: 0.9451, \n"
     ]
    },
    {
     "name": "stdout",
     "output_type": "stream",
     "text": [
      "epoch: 3, [batch: 6300 / 12600], examples_per_second: 3311.8219, train_label_loss: 0.7555, \n"
     ]
    },
    {
     "name": "stdout",
     "output_type": "stream",
     "text": [
      "epoch: 3, [batch: 7560 / 12600], examples_per_second: 2110.2529, train_label_loss: 0.8206, \n"
     ]
    },
    {
     "name": "stdout",
     "output_type": "stream",
     "text": [
      "epoch: 3, [batch: 8820 / 12600], examples_per_second: 4379.0586, train_label_loss: 0.8914, \n"
     ]
    },
    {
     "name": "stdout",
     "output_type": "stream",
     "text": [
      "epoch: 3, [batch: 10080 / 12600], examples_per_second: 2121.6649, train_label_loss: 0.8775, \n"
     ]
    },
    {
     "name": "stdout",
     "output_type": "stream",
     "text": [
      "epoch: 3, [batch: 11340 / 12600], examples_per_second: 3015.8653, train_label_loss: 0.8009, \n"
     ]
    },
    {
     "name": "stdout",
     "output_type": "stream",
     "text": [
      "=============================================================\n",
      "epoch: 3, source_val_acc_label: 0.6835, target_val_acc_label: 0.5989, source_val_label_loss: 0.8702, target_val_label_loss: 1.0737, \n",
      "=============================================================\n"
     ]
    },
    {
     "name": "stdout",
     "output_type": "stream",
     "text": [
      "New best\n"
     ]
    },
    {
     "name": "stdout",
     "output_type": "stream",
     "text": [
      "epoch: 4, [batch: 1 / 12600], examples_per_second: 0.9512, train_label_loss: 0.3229, \n"
     ]
    },
    {
     "name": "stdout",
     "output_type": "stream",
     "text": [
      "epoch: 4, [batch: 1260 / 12600], examples_per_second: 3597.6915, train_label_loss: 1.0015, \n"
     ]
    },
    {
     "name": "stdout",
     "output_type": "stream",
     "text": [
      "epoch: 4, [batch: 2520 / 12600], examples_per_second: 1913.2125, train_label_loss: 0.8099, \n"
     ]
    },
    {
     "name": "stdout",
     "output_type": "stream",
     "text": [
      "epoch: 4, [batch: 3780 / 12600], examples_per_second: 3676.8298, train_label_loss: 0.7191, \n"
     ]
    },
    {
     "name": "stdout",
     "output_type": "stream",
     "text": [
      "epoch: 4, [batch: 5040 / 12600], examples_per_second: 2043.5961, train_label_loss: 0.6743, \n"
     ]
    },
    {
     "name": "stdout",
     "output_type": "stream",
     "text": [
      "epoch: 4, [batch: 6300 / 12600], examples_per_second: 3404.7000, train_label_loss: 0.3979, \n"
     ]
    },
    {
     "name": "stdout",
     "output_type": "stream",
     "text": [
      "epoch: 4, [batch: 7560 / 12600], examples_per_second: 2687.5124, train_label_loss: 0.7884, \n"
     ]
    },
    {
     "name": "stdout",
     "output_type": "stream",
     "text": [
      "epoch: 4, [batch: 8820 / 12600], examples_per_second: 2508.7856, train_label_loss: 0.7990, \n"
     ]
    },
    {
     "name": "stdout",
     "output_type": "stream",
     "text": [
      "epoch: 4, [batch: 10080 / 12600], examples_per_second: 3792.0215, train_label_loss: 0.5497, \n"
     ]
    },
    {
     "name": "stdout",
     "output_type": "stream",
     "text": [
      "epoch: 4, [batch: 11340 / 12600], examples_per_second: 2252.2234, train_label_loss: 0.5918, \n"
     ]
    },
    {
     "name": "stdout",
     "output_type": "stream",
     "text": [
      "=============================================================\n",
      "epoch: 4, source_val_acc_label: 0.6864, target_val_acc_label: 0.6058, source_val_label_loss: 0.8594, target_val_label_loss: 1.0562, \n",
      "=============================================================\n"
     ]
    },
    {
     "name": "stdout",
     "output_type": "stream",
     "text": [
      "New best\n"
     ]
    },
    {
     "name": "stdout",
     "output_type": "stream",
     "text": [
      "epoch: 5, [batch: 1 / 12600], examples_per_second: 1.0136, train_label_loss: 0.7664, \n"
     ]
    },
    {
     "name": "stdout",
     "output_type": "stream",
     "text": [
      "epoch: 5, [batch: 1260 / 12600], examples_per_second: 2950.8167, train_label_loss: 0.6822, \n"
     ]
    },
    {
     "name": "stdout",
     "output_type": "stream",
     "text": [
      "epoch: 5, [batch: 2520 / 12600], examples_per_second: 2301.3032, train_label_loss: 0.7944, \n"
     ]
    },
    {
     "name": "stdout",
     "output_type": "stream",
     "text": [
      "epoch: 5, [batch: 3780 / 12600], examples_per_second: 3307.9395, train_label_loss: 0.6938, \n"
     ]
    },
    {
     "name": "stdout",
     "output_type": "stream",
     "text": [
      "epoch: 5, [batch: 5040 / 12600], examples_per_second: 2151.9341, train_label_loss: 0.6382, \n"
     ]
    },
    {
     "name": "stdout",
     "output_type": "stream",
     "text": [
      "epoch: 5, [batch: 6300 / 12600], examples_per_second: 2918.9436, train_label_loss: 0.7755, \n"
     ]
    },
    {
     "name": "stdout",
     "output_type": "stream",
     "text": [
      "epoch: 5, [batch: 7560 / 12600], examples_per_second: 2766.1868, train_label_loss: 0.8695, \n"
     ]
    },
    {
     "name": "stdout",
     "output_type": "stream",
     "text": [
      "epoch: 5, [batch: 8820 / 12600], examples_per_second: 2392.6312, train_label_loss: 0.3431, \n"
     ]
    },
    {
     "name": "stdout",
     "output_type": "stream",
     "text": [
      "epoch: 5, [batch: 10080 / 12600], examples_per_second: 4313.1463, train_label_loss: 0.9144, \n"
     ]
    },
    {
     "name": "stdout",
     "output_type": "stream",
     "text": [
      "epoch: 5, [batch: 11340 / 12600], examples_per_second: 2156.4675, train_label_loss: 0.5873, \n"
     ]
    },
    {
     "name": "stdout",
     "output_type": "stream",
     "text": [
      "=============================================================\n",
      "epoch: 5, source_val_acc_label: 0.6845, target_val_acc_label: 0.6049, source_val_label_loss: 0.8565, target_val_label_loss: 1.0572, \n",
      "=============================================================\n"
     ]
    },
    {
     "name": "stdout",
     "output_type": "stream",
     "text": [
      "epoch: 6, [batch: 1 / 12600], examples_per_second: 1.0461, train_label_loss: 0.7492, \n"
     ]
    },
    {
     "name": "stdout",
     "output_type": "stream",
     "text": [
      "epoch: 6, [batch: 1260 / 12600], examples_per_second: 2760.1922, train_label_loss: 0.6479, \n"
     ]
    },
    {
     "name": "stdout",
     "output_type": "stream",
     "text": [
      "epoch: 6, [batch: 2520 / 12600], examples_per_second: 2487.2467, train_label_loss: 0.4899, \n"
     ]
    },
    {
     "name": "stdout",
     "output_type": "stream",
     "text": [
      "epoch: 6, [batch: 3780 / 12600], examples_per_second: 2071.4777, train_label_loss: 0.2063, \n"
     ]
    },
    {
     "name": "stdout",
     "output_type": "stream",
     "text": [
      "epoch: 6, [batch: 5040 / 12600], examples_per_second: 3309.5008, train_label_loss: 0.3863, \n"
     ]
    },
    {
     "name": "stdout",
     "output_type": "stream",
     "text": [
      "epoch: 6, [batch: 6300 / 12600], examples_per_second: 1961.5876, train_label_loss: 0.3928, \n"
     ]
    },
    {
     "name": "stdout",
     "output_type": "stream",
     "text": [
      "epoch: 6, [batch: 7560 / 12600], examples_per_second: 3980.8698, train_label_loss: 0.5862, \n"
     ]
    },
    {
     "name": "stdout",
     "output_type": "stream",
     "text": [
      "epoch: 6, [batch: 8820 / 12600], examples_per_second: 4273.6775, train_label_loss: 0.4108, \n"
     ]
    },
    {
     "name": "stdout",
     "output_type": "stream",
     "text": [
      "epoch: 6, [batch: 10080 / 12600], examples_per_second: 4478.3564, train_label_loss: 0.4199, \n"
     ]
    },
    {
     "name": "stdout",
     "output_type": "stream",
     "text": [
      "epoch: 6, [batch: 11340 / 12600], examples_per_second: 3926.7575, train_label_loss: 0.3608, \n"
     ]
    },
    {
     "name": "stdout",
     "output_type": "stream",
     "text": [
      "=============================================================\n",
      "epoch: 6, source_val_acc_label: 0.6898, target_val_acc_label: 0.6116, source_val_label_loss: 0.8991, target_val_label_loss: 1.0854, \n",
      "=============================================================\n"
     ]
    },
    {
     "name": "stdout",
     "output_type": "stream",
     "text": [
      "New best\n"
     ]
    },
    {
     "name": "stdout",
     "output_type": "stream",
     "text": [
      "epoch: 7, [batch: 1 / 12600], examples_per_second: 1.7570, train_label_loss: 0.3332, \n"
     ]
    },
    {
     "name": "stdout",
     "output_type": "stream",
     "text": [
      "epoch: 7, [batch: 1260 / 12600], examples_per_second: 3883.3255, train_label_loss: 0.1873, \n"
     ]
    },
    {
     "name": "stdout",
     "output_type": "stream",
     "text": [
      "epoch: 7, [batch: 2520 / 12600], examples_per_second: 3888.6507, train_label_loss: 0.5182, \n"
     ]
    },
    {
     "name": "stdout",
     "output_type": "stream",
     "text": [
      "epoch: 7, [batch: 3780 / 12600], examples_per_second: 3895.8956, train_label_loss: 0.5233, \n"
     ]
    },
    {
     "name": "stdout",
     "output_type": "stream",
     "text": [
      "epoch: 7, [batch: 5040 / 12600], examples_per_second: 3919.7859, train_label_loss: 0.3715, \n"
     ]
    },
    {
     "name": "stdout",
     "output_type": "stream",
     "text": [
      "epoch: 7, [batch: 6300 / 12600], examples_per_second: 4183.3486, train_label_loss: 0.5367, \n"
     ]
    },
    {
     "name": "stdout",
     "output_type": "stream",
     "text": [
      "epoch: 7, [batch: 7560 / 12600], examples_per_second: 4495.9890, train_label_loss: 0.6170, \n"
     ]
    },
    {
     "name": "stdout",
     "output_type": "stream",
     "text": [
      "epoch: 7, [batch: 8820 / 12600], examples_per_second: 4315.0028, train_label_loss: 0.4853, \n"
     ]
    },
    {
     "name": "stdout",
     "output_type": "stream",
     "text": [
      "epoch: 7, [batch: 10080 / 12600], examples_per_second: 4346.9356, train_label_loss: 0.5822, \n"
     ]
    },
    {
     "name": "stdout",
     "output_type": "stream",
     "text": [
      "epoch: 7, [batch: 11340 / 12600], examples_per_second: 3869.1233, train_label_loss: 0.3045, \n"
     ]
    },
    {
     "name": "stdout",
     "output_type": "stream",
     "text": [
      "=============================================================\n",
      "epoch: 7, source_val_acc_label: 0.6887, target_val_acc_label: 0.6119, source_val_label_loss: 0.9345, target_val_label_loss: 1.1272, \n",
      "=============================================================\n"
     ]
    },
    {
     "name": "stdout",
     "output_type": "stream",
     "text": [
      "New best\n"
     ]
    },
    {
     "name": "stdout",
     "output_type": "stream",
     "text": [
      "epoch: 8, [batch: 1 / 12600], examples_per_second: 1.7654, train_label_loss: 0.3121, \n"
     ]
    },
    {
     "name": "stdout",
     "output_type": "stream",
     "text": [
      "epoch: 8, [batch: 1260 / 12600], examples_per_second: 3883.8254, train_label_loss: 0.4455, \n"
     ]
    },
    {
     "name": "stdout",
     "output_type": "stream",
     "text": [
      "epoch: 8, [batch: 2520 / 12600], examples_per_second: 3881.9328, train_label_loss: 0.5396, \n"
     ]
    },
    {
     "name": "stdout",
     "output_type": "stream",
     "text": [
      "epoch: 8, [batch: 3780 / 12600], examples_per_second: 3868.7326, train_label_loss: 0.0979, \n"
     ]
    },
    {
     "name": "stdout",
     "output_type": "stream",
     "text": [
      "epoch: 8, [batch: 5040 / 12600], examples_per_second: 3930.9296, train_label_loss: 0.2556, \n"
     ]
    },
    {
     "name": "stdout",
     "output_type": "stream",
     "text": [
      "epoch: 8, [batch: 6300 / 12600], examples_per_second: 4103.0128, train_label_loss: 0.4394, \n"
     ]
    },
    {
     "name": "stdout",
     "output_type": "stream",
     "text": [
      "epoch: 8, [batch: 7560 / 12600], examples_per_second: 4312.5507, train_label_loss: 0.4928, \n"
     ]
    },
    {
     "name": "stdout",
     "output_type": "stream",
     "text": [
      "epoch: 8, [batch: 8820 / 12600], examples_per_second: 4425.5809, train_label_loss: 0.2381, \n"
     ]
    },
    {
     "name": "stdout",
     "output_type": "stream",
     "text": [
      "epoch: 8, [batch: 10080 / 12600], examples_per_second: 4244.6207, train_label_loss: 0.3926, \n"
     ]
    },
    {
     "name": "stdout",
     "output_type": "stream",
     "text": [
      "epoch: 8, [batch: 11340 / 12600], examples_per_second: 4027.9880, train_label_loss: 0.1314, \n"
     ]
    },
    {
     "name": "stdout",
     "output_type": "stream",
     "text": [
      "=============================================================\n",
      "epoch: 8, source_val_acc_label: 0.6810, target_val_acc_label: 0.6021, source_val_label_loss: 0.9626, target_val_label_loss: 1.1483, \n",
      "=============================================================\n"
     ]
    },
    {
     "name": "stdout",
     "output_type": "stream",
     "text": [
      "epoch: 9, [batch: 1 / 12600], examples_per_second: 1.7545, train_label_loss: 0.3817, \n"
     ]
    },
    {
     "name": "stdout",
     "output_type": "stream",
     "text": [
      "epoch: 9, [batch: 1260 / 12600], examples_per_second: 3952.6558, train_label_loss: 0.2627, \n"
     ]
    },
    {
     "name": "stdout",
     "output_type": "stream",
     "text": [
      "epoch: 9, [batch: 2520 / 12600], examples_per_second: 3973.9037, train_label_loss: 0.5656, \n"
     ]
    },
    {
     "name": "stdout",
     "output_type": "stream",
     "text": [
      "epoch: 9, [batch: 3780 / 12600], examples_per_second: 3958.9669, train_label_loss: 0.4339, \n"
     ]
    },
    {
     "name": "stdout",
     "output_type": "stream",
     "text": [
      "epoch: 9, [batch: 5040 / 12600], examples_per_second: 3865.7907, train_label_loss: 0.5690, \n"
     ]
    },
    {
     "name": "stdout",
     "output_type": "stream",
     "text": [
      "epoch: 9, [batch: 6300 / 12600], examples_per_second: 4189.4795, train_label_loss: 0.2952, \n"
     ]
    },
    {
     "name": "stdout",
     "output_type": "stream",
     "text": [
      "epoch: 9, [batch: 7560 / 12600], examples_per_second: 4368.0700, train_label_loss: 0.4661, \n"
     ]
    },
    {
     "name": "stdout",
     "output_type": "stream",
     "text": [
      "epoch: 9, [batch: 8820 / 12600], examples_per_second: 4713.6892, train_label_loss: 0.2586, \n"
     ]
    },
    {
     "name": "stdout",
     "output_type": "stream",
     "text": [
      "epoch: 9, [batch: 10080 / 12600], examples_per_second: 4165.0671, train_label_loss: 0.2552, \n"
     ]
    },
    {
     "name": "stdout",
     "output_type": "stream",
     "text": [
      "epoch: 9, [batch: 11340 / 12600], examples_per_second: 3889.8090, train_label_loss: 0.2326, \n"
     ]
    },
    {
     "name": "stdout",
     "output_type": "stream",
     "text": [
      "=============================================================\n",
      "epoch: 9, source_val_acc_label: 0.6840, target_val_acc_label: 0.6045, source_val_label_loss: 1.0304, target_val_label_loss: 1.2103, \n",
      "=============================================================\n"
     ]
    },
    {
     "name": "stdout",
     "output_type": "stream",
     "text": [
      "epoch: 10, [batch: 1 / 12600], examples_per_second: 1.8056, train_label_loss: 0.4214, \n"
     ]
    },
    {
     "name": "stdout",
     "output_type": "stream",
     "text": [
      "epoch: 10, [batch: 1260 / 12600], examples_per_second: 3952.0053, train_label_loss: 0.5754, \n"
     ]
    },
    {
     "name": "stdout",
     "output_type": "stream",
     "text": [
      "epoch: 10, [batch: 2520 / 12600], examples_per_second: 3896.4419, train_label_loss: 0.4987, \n"
     ]
    },
    {
     "name": "stdout",
     "output_type": "stream",
     "text": [
      "epoch: 10, [batch: 3780 / 12600], examples_per_second: 3908.2101, train_label_loss: 0.2627, \n"
     ]
    },
    {
     "name": "stdout",
     "output_type": "stream",
     "text": [
      "epoch: 10, [batch: 5040 / 12600], examples_per_second: 3952.1674, train_label_loss: 0.4416, \n"
     ]
    },
    {
     "name": "stdout",
     "output_type": "stream",
     "text": [
      "epoch: 10, [batch: 6300 / 12600], examples_per_second: 4297.2683, train_label_loss: 0.2272, \n"
     ]
    },
    {
     "name": "stdout",
     "output_type": "stream",
     "text": [
      "epoch: 10, [batch: 7560 / 12600], examples_per_second: 4519.2327, train_label_loss: 0.3275, \n"
     ]
    },
    {
     "name": "stdout",
     "output_type": "stream",
     "text": [
      "epoch: 10, [batch: 8820 / 12600], examples_per_second: 4617.8720, train_label_loss: 0.5245, \n"
     ]
    },
    {
     "name": "stdout",
     "output_type": "stream",
     "text": [
      "epoch: 10, [batch: 10080 / 12600], examples_per_second: 4470.8873, train_label_loss: 0.3624, \n"
     ]
    },
    {
     "name": "stdout",
     "output_type": "stream",
     "text": [
      "epoch: 10, [batch: 11340 / 12600], examples_per_second: 3925.5384, train_label_loss: 0.1930, \n"
     ]
    },
    {
     "name": "stdout",
     "output_type": "stream",
     "text": [
      "=============================================================\n",
      "epoch: 10, source_val_acc_label: 0.6873, target_val_acc_label: 0.6081, source_val_label_loss: 1.0880, target_val_label_loss: 1.2725, \n",
      "=============================================================\n"
     ]
    },
    {
     "name": "stdout",
     "output_type": "stream",
     "text": [
      "epoch: 11, [batch: 1 / 12600], examples_per_second: 1.7862, train_label_loss: 0.0334, \n"
     ]
    },
    {
     "name": "stdout",
     "output_type": "stream",
     "text": [
      "epoch: 11, [batch: 1260 / 12600], examples_per_second: 3887.7337, train_label_loss: 0.3231, \n"
     ]
    },
    {
     "name": "stdout",
     "output_type": "stream",
     "text": [
      "epoch: 11, [batch: 2520 / 12600], examples_per_second: 3899.9876, train_label_loss: 0.1959, \n"
     ]
    },
    {
     "name": "stdout",
     "output_type": "stream",
     "text": [
      "epoch: 11, [batch: 3780 / 12600], examples_per_second: 3939.4779, train_label_loss: 0.3850, \n"
     ]
    },
    {
     "name": "stdout",
     "output_type": "stream",
     "text": [
      "epoch: 11, [batch: 5040 / 12600], examples_per_second: 3973.3312, train_label_loss: 0.4648, \n"
     ]
    },
    {
     "name": "stdout",
     "output_type": "stream",
     "text": [
      "epoch: 11, [batch: 6300 / 12600], examples_per_second: 4191.0986, train_label_loss: 0.1486, \n"
     ]
    },
    {
     "name": "stdout",
     "output_type": "stream",
     "text": [
      "epoch: 11, [batch: 7560 / 12600], examples_per_second: 4492.5447, train_label_loss: 0.4407, \n"
     ]
    },
    {
     "name": "stdout",
     "output_type": "stream",
     "text": [
      "epoch: 11, [batch: 8820 / 12600], examples_per_second: 4511.6144, train_label_loss: 0.1012, \n"
     ]
    },
    {
     "name": "stdout",
     "output_type": "stream",
     "text": [
      "epoch: 11, [batch: 10080 / 12600], examples_per_second: 4501.1659, train_label_loss: 0.4327, \n"
     ]
    },
    {
     "name": "stdout",
     "output_type": "stream",
     "text": [
      "epoch: 11, [batch: 11340 / 12600], examples_per_second: 3871.0435, train_label_loss: 0.2079, \n"
     ]
    },
    {
     "name": "stdout",
     "output_type": "stream",
     "text": [
      "=============================================================\n",
      "epoch: 11, source_val_acc_label: 0.6778, target_val_acc_label: 0.5975, source_val_label_loss: 1.1221, target_val_label_loss: 1.2992, \n",
      "=============================================================\n"
     ]
    },
    {
     "name": "stdout",
     "output_type": "stream",
     "text": [
      "Patience (3) exhausted\n"
     ]
    }
   ],
   "source": [
    "###################################\n",
    "# train\n",
    "###################################\n",
    "jig = PTN_Train_Eval_Test_Jig(model, p.BEST_MODEL_PATH, p.device)\n",
    "\n",
    "jig.train(\n",
    "    train_iterable=datasets.source.processed.train,\n",
    "    source_val_iterable=datasets.source.processed.val,\n",
    "    target_val_iterable=datasets.target.processed.val,\n",
    "    num_epochs=p.n_epoch,\n",
    "    num_logs_per_epoch=p.NUM_LOGS_PER_EPOCH,\n",
    "    patience=p.patience,\n",
    "    optimizer=optimizer,\n",
    "    criteria_for_best=p.criteria_for_best,\n",
    ")"
   ]
  },
  {
   "cell_type": "code",
   "execution_count": 14,
   "id": "31e8fabf",
   "metadata": {
    "execution": {
     "iopub.execute_input": "2022-03-26T02:55:09.973886Z",
     "iopub.status.busy": "2022-03-26T02:55:09.973514Z",
     "iopub.status.idle": "2022-03-26T02:55:10.007911Z",
     "shell.execute_reply": "2022-03-26T02:55:10.007162Z"
    },
    "papermill": {
     "duration": 0.090645,
     "end_time": "2022-03-26T02:55:10.008068",
     "exception": false,
     "start_time": "2022-03-26T02:55:09.917423",
     "status": "completed"
    },
    "tags": []
   },
   "outputs": [],
   "source": [
    "total_experiment_time_secs = time.time() - start_time_secs"
   ]
  },
  {
   "cell_type": "code",
   "execution_count": 15,
   "id": "87b9595b",
   "metadata": {
    "execution": {
     "iopub.execute_input": "2022-03-26T02:55:10.125486Z",
     "iopub.status.busy": "2022-03-26T02:55:10.124817Z",
     "iopub.status.idle": "2022-03-26T03:01:50.784745Z",
     "shell.execute_reply": "2022-03-26T03:01:50.783968Z"
    },
    "papermill": {
     "duration": 400.720741,
     "end_time": "2022-03-26T03:01:50.784927",
     "exception": false,
     "start_time": "2022-03-26T02:55:10.064186",
     "status": "completed"
    },
    "tags": []
   },
   "outputs": [],
   "source": [
    "###################################\n",
    "# Evaluate the model\n",
    "###################################\n",
    "source_test_label_accuracy, source_test_label_loss = jig.test(datasets.source.processed.test)\n",
    "target_test_label_accuracy, target_test_label_loss = jig.test(datasets.target.processed.test)\n",
    "\n",
    "source_val_label_accuracy, source_val_label_loss = jig.test(datasets.source.processed.val)\n",
    "target_val_label_accuracy, target_val_label_loss = jig.test(datasets.target.processed.val)\n",
    "\n",
    "history = jig.get_history()\n",
    "\n",
    "total_epochs_trained = len(history[\"epoch_indices\"])\n",
    "\n",
    "val_dl = Iterable_Aggregator((datasets.source.original.val,datasets.target.original.val))\n",
    "\n",
    "confusion = ptn_confusion_by_domain_over_dataloader(model, p.device, val_dl)\n",
    "per_domain_accuracy = per_domain_accuracy_from_confusion(confusion)\n",
    "\n",
    "# Add a key to per_domain_accuracy for if it was a source domain\n",
    "for domain, accuracy in per_domain_accuracy.items():\n",
    "    per_domain_accuracy[domain] = {\n",
    "        \"accuracy\": accuracy,\n",
    "        \"source?\": domain in p.domains_source\n",
    "    }\n",
    "\n",
    "# Do an independent accuracy assesment JUST TO BE SURE!\n",
    "# _source_test_label_accuracy = independent_accuracy_assesment(model, datasets.source.processed.test, p.device)\n",
    "# _target_test_label_accuracy = independent_accuracy_assesment(model, datasets.target.processed.test, p.device)\n",
    "# _source_val_label_accuracy = independent_accuracy_assesment(model, datasets.source.processed.val, p.device)\n",
    "# _target_val_label_accuracy = independent_accuracy_assesment(model, datasets.target.processed.val, p.device)\n",
    "\n",
    "# assert(_source_test_label_accuracy == source_test_label_accuracy)\n",
    "# assert(_target_test_label_accuracy == target_test_label_accuracy)\n",
    "# assert(_source_val_label_accuracy == source_val_label_accuracy)\n",
    "# assert(_target_val_label_accuracy == target_val_label_accuracy)\n",
    "\n",
    "experiment = {\n",
    "    \"experiment_name\": p.experiment_name,\n",
    "    \"parameters\": dict(p),\n",
    "    \"results\": {\n",
    "        \"source_test_label_accuracy\": source_test_label_accuracy,\n",
    "        \"source_test_label_loss\": source_test_label_loss,\n",
    "        \"target_test_label_accuracy\": target_test_label_accuracy,\n",
    "        \"target_test_label_loss\": target_test_label_loss,\n",
    "        \"source_val_label_accuracy\": source_val_label_accuracy,\n",
    "        \"source_val_label_loss\": source_val_label_loss,\n",
    "        \"target_val_label_accuracy\": target_val_label_accuracy,\n",
    "        \"target_val_label_loss\": target_val_label_loss,\n",
    "        \"total_epochs_trained\": total_epochs_trained,\n",
    "        \"total_experiment_time_secs\": total_experiment_time_secs,\n",
    "        \"confusion\": confusion,\n",
    "        \"per_domain_accuracy\": per_domain_accuracy,\n",
    "    },\n",
    "    \"history\": history,\n",
    "    \"dataset_metrics\": get_dataset_metrics(datasets, \"ptn\"),\n",
    "}"
   ]
  },
  {
   "cell_type": "code",
   "execution_count": 16,
   "id": "54a21829",
   "metadata": {
    "execution": {
     "iopub.execute_input": "2022-03-26T03:01:50.899397Z",
     "iopub.status.busy": "2022-03-26T03:01:50.898752Z",
     "iopub.status.idle": "2022-03-26T03:01:51.131052Z",
     "shell.execute_reply": "2022-03-26T03:01:51.131791Z"
    },
    "papermill": {
     "duration": 0.289304,
     "end_time": "2022-03-26T03:01:51.132006",
     "exception": false,
     "start_time": "2022-03-26T03:01:50.842702",
     "status": "completed"
    },
    "tags": []
   },
   "outputs": [
    {
     "data": {
      "image/png": "[encoded data removed]",
      "text/plain": [
       "<Figure size 1080x504 with 1 Axes>"
      ]
     },
     "metadata": {
      "needs_background": "light"
     },
     "output_type": "display_data"
    }
   ],
   "source": [
    "ax = get_loss_curve(experiment)\n",
    "plt.show()"
   ]
  },
  {
   "cell_type": "code",
   "execution_count": 17,
   "id": "fd8a0f60",
   "metadata": {
    "execution": {
     "iopub.execute_input": "2022-03-26T03:01:51.246791Z",
     "iopub.status.busy": "2022-03-26T03:01:51.246412Z",
     "iopub.status.idle": "2022-03-26T03:01:51.585625Z",
     "shell.execute_reply": "2022-03-26T03:01:51.586317Z"
    },
    "papermill": {
     "duration": 0.395272,
     "end_time": "2022-03-26T03:01:51.586531",
     "exception": false,
     "start_time": "2022-03-26T03:01:51.191259",
     "status": "completed"
    },
    "tags": []
   },
   "outputs": [
    {
     "data": {
      "text/plain": [
       "<AxesSubplot:title={'center':'Results'}>"
      ]
     },
     "execution_count": 17,
     "metadata": {},
     "output_type": "execute_result"
    },
    {
     "data": {
      "image/png": "[encoded data removed]",
      "text/plain": [
       "<Figure size 1080x504 with 1 Axes>"
      ]
     },
     "metadata": {
      "needs_background": "light"
     },
     "output_type": "display_data"
    }
   ],
   "source": [
    "get_results_table(experiment)"
   ]
  },
  {
   "cell_type": "code",
   "execution_count": 18,
   "id": "cf8dc689",
   "metadata": {
    "execution": {
     "iopub.execute_input": "2022-03-26T03:01:51.705663Z",
     "iopub.status.busy": "2022-03-26T03:01:51.705284Z",
     "iopub.status.idle": "2022-03-26T03:01:51.919462Z",
     "shell.execute_reply": "2022-03-26T03:01:51.918726Z"
    },
    "papermill": {
     "duration": 0.273326,
     "end_time": "2022-03-26T03:01:51.919642",
     "exception": false,
     "start_time": "2022-03-26T03:01:51.646316",
     "status": "completed"
    },
    "tags": []
   },
   "outputs": [
    {
     "data": {
      "text/plain": [
       "<AxesSubplot:title={'center':'Per Domain Validation Accuracy'}, xlabel='domain'>"
      ]
     },
     "execution_count": 18,
     "metadata": {},
     "output_type": "execute_result"
    },
    {
     "data": {
      "image/png": "[encoded data removed]",
      "text/plain": [
       "<Figure size 1080x504 with 1 Axes>"
      ]
     },
     "metadata": {
      "needs_background": "light"
     },
     "output_type": "display_data"
    }
   ],
   "source": [
    "get_domain_accuracies(experiment)"
   ]
  },
  {
   "cell_type": "code",
   "execution_count": 19,
   "id": "a74ae082",
   "metadata": {
    "execution": {
     "iopub.execute_input": "2022-03-26T03:01:52.039040Z",
     "iopub.status.busy": "2022-03-26T03:01:52.038660Z",
     "iopub.status.idle": "2022-03-26T03:01:52.066654Z",
     "shell.execute_reply": "2022-03-26T03:01:52.065827Z"
    },
    "papermill": {
     "duration": 0.087556,
     "end_time": "2022-03-26T03:01:52.066813",
     "exception": false,
     "start_time": "2022-03-26T03:01:51.979257",
     "status": "completed"
    },
    "tags": []
   },
   "outputs": [
    {
     "name": "stdout",
     "output_type": "stream",
     "text": [
      "Source Test Label Accuracy: 0.6916840277777778 Target Test Label Accuracy: 0.6154583333333333\n",
      "Source Val Label Accuracy: 0.6887152777777777 Target Val Label Accuracy: 0.6119270833333333\n"
     ]
    }
   ],
   "source": [
    "print(\"Source Test Label Accuracy:\", experiment[\"results\"][\"source_test_label_accuracy\"], \"Target Test Label Accuracy:\", experiment[\"results\"][\"target_test_label_accuracy\"])\n",
    "print(\"Source Val Label Accuracy:\", experiment[\"results\"][\"source_val_label_accuracy\"], \"Target Val Label Accuracy:\", experiment[\"results\"][\"target_val_label_accuracy\"])"
   ]
  },
  {
   "cell_type": "code",
   "execution_count": 20,
   "id": "dacca602",
   "metadata": {
    "execution": {
     "iopub.execute_input": "2022-03-26T03:01:52.186269Z",
     "iopub.status.busy": "2022-03-26T03:01:52.185899Z",
     "iopub.status.idle": "2022-03-26T03:01:52.208533Z",
     "shell.execute_reply": "2022-03-26T03:01:52.207663Z"
    },
    "papermill": {
     "duration": 0.0813,
     "end_time": "2022-03-26T03:01:52.208693",
     "exception": false,
     "start_time": "2022-03-26T03:01:52.127393",
     "status": "completed"
    },
    "tags": [
     "experiment_json"
    ]
   },
   "outputs": [
    {
     "data": {
      "text/plain": [
       "'{\"experiment_name\": \"tuned_1v2:oracle.run1_limited\", \"parameters\": {\"experiment_name\": \"tuned_1v2:oracle.run1_limited\", \"device\": \"cuda\", \"lr\": 0.0001, \"labels_source\": [\"3123D52\", \"3123D65\", \"3123D79\", \"3123D80\", \"3123D54\", \"3123D70\", \"3123D7B\", \"3123D89\", \"3123D58\", \"3123D76\", \"3123D7D\", \"3123EFE\", \"3123D64\", \"3123D78\", \"3123D7E\", \"3124E4A\"], \"labels_target\": [\"3123D52\", \"3123D65\", \"3123D79\", \"3123D80\", \"3123D54\", \"3123D70\", \"3123D7B\", \"3123D89\", \"3123D58\", \"3123D76\", \"3123D7D\", \"3123EFE\", \"3123D64\", \"3123D78\", \"3123D7E\", \"3124E4A\"], \"episode_transforms_source\": [], \"episode_transforms_target\": [], \"domains_source\": [8, 32, 50], \"domains_target\": [14, 20, 26, 38, 44], \"num_examples_per_domain_per_label_source\": -1, \"num_examples_per_domain_per_label_target\": -1, \"n_shot\": 3, \"n_way\": 16, \"n_query\": 2, \"train_k_factor\": 3, \"val_k_factor\": 2, \"test_k_factor\": 2, \"torch_default_dtype\": \"torch.float32\", \"n_epoch\": 50, \"patience\": 3, \"criteria_for_best\": \"target_accuracy\", \"x_net\": [{\"class\": \"nnReshape\", \"kargs\": {\"shape\": [-1, 1, 2, 256]}}, {\"class\": \"Conv2d\", \"kargs\": {\"in_channels\": 1, \"out_channels\": 256, \"kernel_size\": [1, 7], \"bias\": false, \"padding\": [0, 3]}}, {\"class\": \"ReLU\", \"kargs\": {\"inplace\": true}}, {\"class\": \"BatchNorm2d\", \"kargs\": {\"num_features\": 256}}, {\"class\": \"Conv2d\", \"kargs\": {\"in_channels\": 256, \"out_channels\": 80, \"kernel_size\": [2, 7], \"bias\": true, \"padding\": [0, 3]}}, {\"class\": \"ReLU\", \"kargs\": {\"inplace\": true}}, {\"class\": \"BatchNorm2d\", \"kargs\": {\"num_features\": 80}}, {\"class\": \"Flatten\", \"kargs\": {}}, {\"class\": \"Linear\", \"kargs\": {\"in_features\": 20480, \"out_features\": 256}}, {\"class\": \"ReLU\", \"kargs\": {\"inplace\": true}}, {\"class\": \"BatchNorm1d\", \"kargs\": {\"num_features\": 256}}, {\"class\": \"Linear\", \"kargs\": {\"in_features\": 256, \"out_features\": 256}}], \"NUM_LOGS_PER_EPOCH\": 10, \"BEST_MODEL_PATH\": \"./best_model.pth\", \"pickle_name\": \"oracle.Run1_10kExamples_stratified_ds.2022A.pkl\", \"x_transforms_source\": [\"unit_mag\"], \"x_transforms_target\": [\"unit_mag\"], \"dataset_seed\": 1337, \"seed\": 1337}, \"results\": {\"source_test_label_accuracy\": 0.6916840277777778, \"source_test_label_loss\": 0.9221701622009277, \"target_test_label_accuracy\": 0.6154583333333333, \"target_test_label_loss\": 1.1232397556304932, \"source_val_label_accuracy\": 0.6887152777777777, \"source_val_label_loss\": 0.9344756603240967, \"target_val_label_accuracy\": 0.6119270833333333, \"target_val_label_loss\": 1.1272404193878174, \"total_epochs_trained\": 11, \"total_experiment_time_secs\": 4467.678722143173, \"confusion\": {\"8\": {\"15\": {\"8\": 71, \"15\": 797, \"12\": 288, \"2\": 22, \"3\": 19, \"7\": 3}, \"3\": {\"3\": 888, \"2\": 177, \"12\": 113, \"15\": 22}, \"6\": {\"6\": 622, \"7\": 292, \"13\": 21, \"4\": 135, \"0\": 102, \"8\": 20, \"14\": 7, \"11\": 1}, \"1\": {\"11\": 378, \"1\": 688, \"4\": 10, \"14\": 79, \"10\": 22, \"5\": 21, \"6\": 1, \"13\": 1}, \"8\": {\"8\": 1089, \"6\": 16, \"15\": 76, \"7\": 9, \"11\": 2, \"12\": 8}, \"10\": {\"13\": 107, \"14\": 229, \"10\": 746, \"4\": 61, \"1\": 13, \"0\": 6, \"5\": 38}, \"9\": {\"9\": 1200}, \"13\": {\"10\": 131, \"0\": 302, \"4\": 219, \"13\": 368, \"6\": 58, \"14\": 103, \"7\": 15, \"1\": 3, \"5\": 1}, \"12\": {\"12\": 581, \"15\": 364, \"3\": 206, \"2\": 20, \"8\": 29}, \"5\": {\"5\": 1029, \"1\": 51, \"14\": 21, \"10\": 89, \"11\": 8, \"13\": 2}, \"0\": {\"4\": 97, \"6\": 87, \"7\": 100, \"0\": 612, \"13\": 273, \"10\": 24, \"14\": 7}, \"2\": {\"15\": 42, \"2\": 883, \"0\": 1, \"8\": 4, \"3\": 231, \"7\": 21, \"12\": 17, \"6\": 1}, \"11\": {\"11\": 664, \"1\": 445, \"14\": 28, \"5\": 28, \"4\": 7, \"8\": 18, \"6\": 2, \"10\": 8}, \"14\": {\"4\": 198, \"14\": 564, \"10\": 211, \"13\": 102, \"1\": 84, \"11\": 16, \"0\": 8, \"6\": 14, \"5\": 3}, \"7\": {\"7\": 821, \"6\": 283, \"0\": 64, \"4\": 7, \"8\": 8, \"13\": 10, \"15\": 3, \"2\": 3, \"14\": 1}, \"4\": {\"6\": 162, \"4\": 483, \"13\": 210, \"0\": 88, \"10\": 43, \"14\": 201, \"7\": 9, \"1\": 2, \"11\": 1, \"8\": 1}}, \"50\": {\"3\": {\"3\": 1155, \"8\": 45}, \"15\": {\"15\": 810, \"1\": 223, \"11\": 38, \"4\": 112, \"6\": 13, \"14\": 3, \"5\": 1}, \"8\": {\"8\": 1159, \"10\": 24, \"3\": 17}, \"4\": {\"1\": 206, \"15\": 214, \"5\": 89, \"6\": 172, \"4\": 465, \"7\": 27, \"13\": 25, \"0\": 2}, \"14\": {\"14\": 1131, \"12\": 43, \"11\": 22, \"9\": 3, \"1\": 1}, \"0\": {\"0\": 991, \"2\": 141, \"6\": 1, \"13\": 8, \"10\": 59}, \"7\": {\"13\": 274, \"7\": 710, \"5\": 169, \"10\": 39, \"6\": 7, \"4\": 1}, \"6\": {\"1\": 131, \"6\": 697, \"4\": 190, \"13\": 74, \"5\": 89, \"15\": 13, \"7\": 5, \"0\": 1}, \"10\": {\"10\": 1064, \"13\": 45, \"0\": 49, \"5\": 7, \"7\": 23, \"8\": 12}, \"5\": {\"7\": 266, \"5\": 336, \"6\": 180, \"13\": 232, \"4\": 128, \"10\": 12, \"1\": 39, \"15\": 5, \"0\": 1, \"2\": 1}, \"2\": {\"2\": 1104, \"0\": 95, \"6\": 1}, \"12\": {\"12\": 1024, \"14\": 59, \"11\": 10, \"9\": 107}, \"9\": {\"11\": 175, \"9\": 875, \"12\": 143, \"14\": 7}, \"1\": {\"1\": 698, \"6\": 93, \"4\": 158, \"15\": 228, \"5\": 4, \"13\": 2, \"2\": 5, \"14\": 6, \"11\": 6}, \"11\": {\"11\": 1015, \"9\": 131, \"1\": 2, \"14\": 16, \"12\": 9, \"15\": 27}, \"13\": {\"13\": 626, \"6\": 79, \"7\": 227, \"5\": 237, \"0\": 6, \"10\": 11, \"4\": 13, \"1\": 1}}, \"32\": {\"5\": {\"4\": 134, \"8\": 99, \"5\": 335, \"3\": 53, \"14\": 29, \"13\": 308, \"7\": 128, \"0\": 73, \"11\": 26, \"2\": 15}, \"8\": {\"8\": 832, \"3\": 28, \"13\": 130, \"5\": 99, \"0\": 93, \"7\": 3, \"4\": 9, \"14\": 4, \"15\": 2}, \"11\": {\"11\": 886, \"14\": 213, \"7\": 39, \"5\": 13, \"3\": 22, \"13\": 27}, \"1\": {\"1\": 1184, \"10\": 16}, \"10\": {\"10\": 1196, \"1\": 4}, \"15\": {\"15\": 1185, \"8\": 13, \"3\": 2}, \"3\": {\"3\": 1065, \"13\": 49, \"14\": 5, \"11\": 46, \"8\": 16, \"5\": 18, \"7\": 1}, \"7\": {\"11\": 48, \"13\": 91, \"7\": 482, \"5\": 126, \"14\": 210, \"4\": 170, \"2\": 32, \"0\": 32, \"3\": 1, \"8\": 8}, \"4\": {\"5\": 106, \"0\": 119, \"4\": 564, \"7\": 159, \"2\": 199, \"13\": 37, \"14\": 7, \"8\": 9}, \"14\": {\"13\": 58, \"11\": 387, \"14\": 420, \"7\": 224, \"3\": 7, \"4\": 38, \"2\": 18, \"5\": 26, \"0\": 22}, \"9\": {\"9\": 1196, \"12\": 3, \"2\": 1}, \"12\": {\"12\": 1197, \"9\": 3}, \"6\": {\"6\": 1200}, \"2\": {\"2\": 948, \"4\": 195, \"7\": 24, \"0\": 31, \"14\": 1, \"5\": 1}, \"0\": {\"0\": 679, \"2\": 76, \"7\": 45, \"5\": 64, \"13\": 37, \"8\": 108, \"4\": 179, \"14\": 11, \"11\": 1}, \"13\": {\"13\": 406, \"0\": 31, \"11\": 35, \"5\": 327, \"8\": 84, \"14\": 67, \"4\": 63, \"7\": 120, \"3\": 66, \"2\": 1}}, \"14\": {\"15\": {\"15\": 1065, \"7\": 132, \"5\": 3}, \"3\": {\"3\": 877, \"4\": 202, \"14\": 41, \"0\": 21, \"2\": 40, \"5\": 12, \"10\": 4, \"13\": 2, \"1\": 1}, \"6\": {\"6\": 613, \"13\": 397, \"2\": 105, \"14\": 84, \"4\": 1}, \"1\": {\"1\": 974, \"5\": 184, \"4\": 31, \"2\": 3, \"7\": 6, \"3\": 2}, \"8\": {\"8\": 1193, \"3\": 3, \"1\": 2, \"0\": 2}, \"10\": {\"10\": 964, \"0\": 208, \"3\": 6, \"14\": 6, \"11\": 15, \"13\": 1}, \"9\": {\"9\": 1183, \"11\": 15, \"0\": 1, \"12\": 1}, \"13\": {\"13\": 362, \"14\": 250, \"6\": 444, \"5\": 19, \"2\": 112, \"4\": 7, \"15\": 3, \"3\": 2, \"10\": 1}, \"12\": {\"12\": 1187, \"9\": 13}, \"5\": {\"5\": 666, \"2\": 77, \"4\": 217, \"1\": 200, \"7\": 23, \"3\": 11, \"15\": 5, \"14\": 1}, \"0\": {\"0\": 828, \"11\": 34, \"10\": 286, \"3\": 45, \"14\": 4, \"8\": 3}, \"2\": {\"13\": 103, \"14\": 177, \"2\": 480, \"3\": 60, \"6\": 103, \"4\": 108, \"5\": 133, \"15\": 32, \"1\": 4}, \"11\": {\"11\": 981, \"0\": 58, \"10\": 82, \"9\": 79}, \"14\": {\"14\": 795, \"6\": 99, \"2\": 101, \"13\": 137, \"3\": 51, \"4\": 13, \"0\": 1, \"5\": 2, \"10\": 1}, \"7\": {\"7\": 1096, \"15\": 90, \"1\": 11, \"2\": 1, \"5\": 2}, \"4\": {\"3\": 186, \"4\": 670, \"5\": 178, \"2\": 110, \"1\": 42, \"14\": 8, \"13\": 1, \"6\": 5}}, \"20\": {\"3\": {\"5\": 55, \"4\": 89, \"12\": 211, \"9\": 172, \"3\": 375, \"7\": 69, \"2\": 108, \"8\": 43, \"13\": 6, \"0\": 34, \"1\": 32, \"10\": 1, \"15\": 5}, \"15\": {\"9\": 11, \"15\": 621, \"13\": 63, \"1\": 243, \"0\": 100, \"5\": 105, \"2\": 8, \"12\": 45, \"3\": 4}, \"8\": {\"8\": 642, \"7\": 82, \"2\": 10, \"4\": 206, \"10\": 110, \"3\": 51, \"6\": 35, \"9\": 11, \"14\": 46, \"5\": 1, \"0\": 1, \"12\": 5}, \"4\": {\"4\": 785, \"8\": 217, \"3\": 83, \"10\": 61, \"12\": 18, \"5\": 7, \"9\": 5, \"0\": 8, \"7\": 12, \"14\": 1, \"1\": 1, \"2\": 2}, \"14\": {\"8\": 49, \"10\": 210, \"14\": 714, \"6\": 222, \"4\": 3, \"7\": 2}, \"0\": {\"1\": 169, \"15\": 141, \"5\": 282, \"0\": 392, \"9\": 16, \"4\": 21, \"12\": 97, \"3\": 53, \"8\": 4, \"2\": 13, \"7\": 6, \"13\": 6}, \"7\": {\"3\": 61, \"7\": 690, \"9\": 91, \"2\": 176, \"12\": 9, \"8\": 121, \"6\": 29, \"13\": 8, \"4\": 7, \"14\": 3, \"11\": 1, \"10\": 4}, \"6\": {\"6\": 929, \"14\": 207, \"7\": 34, \"8\": 15, \"10\": 13, \"11\": 2}, \"10\": {\"10\": 790, \"14\": 233, \"8\": 103, \"6\": 13, \"3\": 3, \"4\": 51, \"7\": 6, \"12\": 1}, \"5\": {\"5\": 306, \"12\": 172, \"0\": 281, \"1\": 215, \"15\": 113, \"3\": 60, \"9\": 24, \"4\": 12, \"13\": 11, \"2\": 5, \"7\": 1}, \"2\": {\"2\": 422, \"7\": 167, \"9\": 285, \"3\": 102, \"12\": 53, \"13\": 134, \"4\": 1, \"1\": 16, \"15\": 8, \"8\": 5, \"5\": 4, \"0\": 2, \"6\": 1}, \"12\": {\"5\": 152, \"9\": 119, \"3\": 212, \"12\": 325, \"1\": 156, \"8\": 8, \"0\": 74, \"15\": 46, \"4\": 29, \"2\": 54, \"13\": 22, \"7\": 3}, \"9\": {\"3\": 212, \"2\": 311, \"4\": 15, \"9\": 288, \"12\": 133, \"7\": 93, \"13\": 75, \"5\": 17, \"8\": 18, \"1\": 24, \"15\": 8, \"0\": 6}, \"1\": {\"1\": 335, \"15\": 273, \"12\": 115, \"3\": 39, \"5\": 218, \"0\": 151, \"13\": 30, \"9\": 22, \"2\": 17}, \"11\": {\"11\": 1193, \"6\": 4, \"7\": 1, \"2\": 2}, \"13\": {\"13\": 942, \"2\": 112, \"15\": 34, \"9\": 72, \"1\": 13, \"12\": 9, \"7\": 6, \"11\": 2, \"5\": 6, \"0\": 2, \"3\": 2}}, \"44\": {\"5\": {\"5\": 959, \"15\": 50, \"0\": 119, \"14\": 53, \"4\": 2, \"8\": 17}, \"8\": {\"0\": 391, \"8\": 760, \"15\": 32, \"5\": 17}, \"11\": {\"11\": 1068, \"6\": 65, \"13\": 67}, \"1\": {\"1\": 649, \"2\": 41, \"12\": 245, \"3\": 164, \"10\": 99, \"7\": 2}, \"10\": {\"2\": 134, \"12\": 128, \"1\": 113, \"10\": 823, \"3\": 2}, \"15\": {\"15\": 933, \"14\": 118, \"8\": 17, \"0\": 87, \"5\": 31, \"4\": 14}, \"3\": {\"3\": 1043, \"1\": 132, \"12\": 20, \"7\": 2, \"2\": 3}, \"7\": {\"7\": 716, \"9\": 235, \"1\": 6, \"6\": 28, \"2\": 202, \"13\": 4, \"3\": 9}, \"4\": {\"4\": 810, \"14\": 379, \"15\": 7, \"13\": 2, \"5\": 2}, \"14\": {\"14\": 692, \"4\": 423, \"15\": 69, \"5\": 16}, \"9\": {\"9\": 714, \"7\": 276, \"6\": 98, \"13\": 95, \"2\": 14, \"3\": 1, \"4\": 2}, \"12\": {\"1\": 242, \"10\": 111, \"12\": 824, \"3\": 22, \"2\": 1}, \"6\": {\"6\": 769, \"9\": 126, \"13\": 218, \"11\": 48, \"7\": 39}, \"2\": {\"2\": 799, \"7\": 189, \"1\": 90, \"10\": 99, \"6\": 4, \"3\": 11, \"12\": 4, \"9\": 4}, \"0\": {\"0\": 676, \"15\": 87, \"8\": 326, \"5\": 111}, \"13\": {\"13\": 771, \"6\": 232, \"11\": 44, \"9\": 140, \"7\": 7, \"4\": 6}}, \"38\": {\"14\": {\"14\": 892, \"11\": 226, \"10\": 15, \"2\": 58, \"12\": 6, \"13\": 3}, \"0\": {\"8\": 276, \"0\": 373, \"5\": 143, \"7\": 297, \"10\": 46, \"3\": 48, \"12\": 4, \"15\": 4, \"4\": 4, \"9\": 3, \"13\": 1, \"6\": 1}, \"13\": {\"15\": 373, \"13\": 652, \"10\": 84, \"8\": 19, \"2\": 33, \"1\": 31, \"5\": 3, \"14\": 3, \"0\": 2}, \"7\": {\"7\": 867, \"0\": 234, \"5\": 34, \"8\": 40, \"4\": 4, \"9\": 1, \"3\": 16, \"10\": 2, \"6\": 2}, \"9\": {\"9\": 645, \"6\": 453, \"3\": 81, \"5\": 20, \"0\": 1}, \"3\": {\"3\": 1005, \"9\": 106, \"6\": 12, \"0\": 14, \"7\": 54, \"5\": 9}, \"11\": {\"14\": 347, \"11\": 793, \"12\": 42, \"2\": 8, \"10\": 8, \"4\": 1, \"13\": 1}, \"6\": {\"6\": 839, \"9\": 339, \"5\": 17, \"3\": 3, \"15\": 1, \"0\": 1}, \"8\": {\"5\": 256, \"8\": 656, \"10\": 20, \"0\": 193, \"7\": 41, \"15\": 22, \"13\": 9, \"1\": 2, \"6\": 1}, \"4\": {\"4\": 1125, \"12\": 72, \"10\": 2, \"7\": 1}, \"5\": {\"5\": 507, \"8\": 284, \"7\": 67, \"0\": 109, \"6\": 67, \"3\": 46, \"1\": 16, \"9\": 40, \"15\": 47, \"13\": 7, \"10\": 10}, \"10\": {\"10\": 822, \"12\": 152, \"8\": 56, \"13\": 87, \"0\": 33, \"7\": 10, \"14\": 15, \"15\": 14, \"5\": 2, \"11\": 2, \"2\": 3, \"4\": 4}, \"1\": {\"1\": 1128, \"15\": 68, \"8\": 1, \"13\": 2, \"5\": 1}, \"2\": {\"2\": 1078, \"13\": 32, \"14\": 84, \"11\": 5, \"15\": 1}, \"15\": {\"15\": 702, \"13\": 289, \"1\": 114, \"5\": 39, \"8\": 46, \"0\": 4, \"10\": 5, \"2\": 1}, \"12\": {\"12\": 1099, \"4\": 46, \"10\": 55}}, \"26\": {\"13\": {\"5\": 267, \"13\": 783, \"15\": 80, \"9\": 33, \"6\": 22, \"2\": 12, \"8\": 1, \"3\": 1, \"7\": 1}, \"2\": {\"2\": 393, \"5\": 95, \"3\": 400, \"9\": 44, \"7\": 138, \"15\": 86, \"8\": 29, \"4\": 6, \"13\": 8, \"0\": 1}, \"8\": {\"9\": 131, \"10\": 155, \"6\": 46, \"8\": 336, \"0\": 126, \"4\": 112, \"7\": 97, \"15\": 83, \"2\": 32, \"14\": 43, \"5\": 18, \"3\": 12, \"1\": 8, \"13\": 1}, \"9\": {\"5\": 136, \"15\": 250, \"6\": 154, \"13\": 33, \"8\": 146, \"9\": 372, \"2\": 24, \"10\": 35, \"0\": 23, \"3\": 3, \"7\": 15, \"4\": 7, \"14\": 2}, \"12\": {\"12\": 1190, \"11\": 10}, \"4\": {\"4\": 347, \"1\": 156, \"8\": 86, \"10\": 71, \"0\": 162, \"14\": 248, \"7\": 107, \"9\": 6, \"2\": 6, \"15\": 4, \"3\": 7}, \"3\": {\"3\": 651, \"0\": 1, \"2\": 279, \"7\": 247, \"4\": 6, \"1\": 5, \"8\": 4, \"15\": 4, \"9\": 1, \"14\": 1, \"5\": 1}, \"15\": {\"5\": 243, \"8\": 104, \"15\": 325, \"6\": 56, \"9\": 282, \"13\": 67, \"7\": 28, \"0\": 10, \"2\": 62, \"10\": 10, \"4\": 8, \"3\": 4, \"14\": 1}, \"14\": {\"1\": 274, \"10\": 89, \"14\": 366, \"8\": 28, \"0\": 194, \"4\": 217, \"7\": 25, \"3\": 4, \"9\": 1, \"5\": 1, \"15\": 1}, \"10\": {\"0\": 255, \"1\": 49, \"6\": 101, \"10\": 375, \"8\": 152, \"9\": 31, \"14\": 122, \"4\": 86, \"15\": 18, \"2\": 2, \"7\": 7, \"5\": 2}, \"7\": {\"7\": 494, \"2\": 163, \"3\": 231, \"4\": 119, \"8\": 73, \"9\": 10, \"5\": 11, \"15\": 19, \"0\": 30, \"14\": 21, \"1\": 21, \"10\": 8}, \"11\": {\"11\": 1176, \"12\": 24}, \"6\": {\"6\": 716, \"15\": 65, \"10\": 123, \"8\": 64, \"9\": 157, \"0\": 34, \"13\": 29, \"5\": 10, \"14\": 1, \"4\": 1}, \"1\": {\"0\": 76, \"10\": 39, \"1\": 554, \"4\": 178, \"14\": 304, \"8\": 14, \"7\": 29, \"2\": 2, \"3\": 2, \"6\": 2}, \"5\": {\"15\": 239, \"13\": 185, \"5\": 544, \"9\": 126, \"7\": 6, \"6\": 11, \"2\": 56, \"8\": 27, \"3\": 5, \"10\": 1}, \"0\": {\"14\": 220, \"1\": 88, \"10\": 237, \"8\": 122, \"4\": 184, \"0\": 251, \"15\": 7, \"7\": 40, \"6\": 28, \"9\": 16, \"3\": 3, \"2\": 4}}}, \"per_domain_accuracy\": {\"8\": {\"accuracy\": 0.6268229166666667, \"source?\": true}, \"50\": {\"accuracy\": 0.721875, \"source?\": true}, \"32\": {\"accuracy\": 0.7174479166666666, \"source?\": true}, \"14\": {\"accuracy\": 0.7257291666666666, \"source?\": false}, \"20\": {\"accuracy\": 0.5077604166666667, \"source?\": false}, \"44\": {\"accuracy\": 0.6773958333333333, \"source?\": false}, \"38\": {\"accuracy\": 0.6866145833333334, \"source?\": false}, \"26\": {\"accuracy\": 0.4621354166666667, \"source?\": false}}}, \"history\": {\"epoch_indices\": [1, 2, 3, 4, 5, 6, 7, 8, 9, 10, 11], \"train_label_loss\": [1.4079943991937334, 0.8991159847804479, 0.7664602657005427, 0.6829228032415822, 0.6077091538131474, 0.533722826983957, 0.4669635052689248, 0.4066425325702285, 0.35857495109809356, 0.31409008542371414, 0.27922713957719564], \"source_val_label_loss\": [1.0866096019744873, 0.9061868786811829, 0.8701809048652649, 0.8594067692756653, 0.8565087914466858, 0.8991383910179138, 0.9344756603240967, 0.9626087546348572, 1.0304473638534546, 1.0880212783813477, 1.122099757194519], \"target_val_label_loss\": [1.3285059928894043, 1.1057249307632446, 1.0737452507019043, 1.0562268495559692, 1.0572165250778198, 1.085432767868042, 1.1272404193878174, 1.1482670307159424, 1.210284948348999, 1.2725011110305786, 1.2992336750030518], \"source_val_acc_label\": [0.5969791666666666, 0.6551388888888889, 0.6835243055555555, 0.68640625, 0.6845138888888889, 0.6898263888888889, 0.6887152777777777, 0.6809895833333334, 0.6840277777777778, 0.6872916666666666, 0.6778125], \"target_val_acc_label\": [0.5025, 0.58009375, 0.5988854166666666, 0.6058020833333333, 0.6049375, 0.61159375, 0.6119270833333333, 0.6020833333333333, 0.60453125, 0.6080729166666666, 0.5975416666666666]}, \"dataset_metrics\": {\"source\": {\"train\": {\"n_unique_x\": 336000, \"n_unique_y\": 16, \"n_batch/episode\": 12600}, \"val\": {\"n_unique_x\": 72000, \"n_unique_y\": 16, \"n_batch/episode\": 1800}, \"test\": {\"n_unique_x\": 72000, \"n_unique_y\": 16, \"n_batch/episode\": 1800}}, \"target\": {\"train\": {\"n_unique_x\": 560000, \"n_unique_y\": 16, \"n_batch/episode\": 21000}, \"val\": {\"n_unique_x\": 120000, \"n_unique_y\": 16, \"n_batch/episode\": 3000}, \"test\": {\"n_unique_x\": 120000, \"n_unique_y\": 16, \"n_batch/episode\": 3000}}}}'"
      ]
     },
     "execution_count": 20,
     "metadata": {},
     "output_type": "execute_result"
    }
   ],
   "source": [
    "json.dumps(experiment)"
   ]
  }
 ],
 "metadata": {
  "celltoolbar": "Tags",
  "kernelspec": {
   "display_name": "Python 3 (ipykernel)",
   "language": "python",
   "name": "python3"
  },
  "language_info": {
   "codemirror_mode": {
    "name": "ipython",
    "version": 3
   },
   "file_extension": ".py",
   "mimetype": "text/x-python",
   "name": "python",
   "nbconvert_exporter": "python",
   "pygments_lexer": "ipython3",
   "version": "3.8.12"
  },
  "papermill": {
   "default_parameters": {},
   "duration": 4876.648899,
   "end_time": "2022-03-26T03:01:55.590822",
   "environment_variables": {},
   "exception": null,
   "input_path": "/root/csc500-main/csc500-notebooks/templates/ptn_template.ipynb",
   "output_path": "trial.ipynb",
   "parameters": {
    "parameters": {
     "BEST_MODEL_PATH": "./best_model.pth",
     "NUM_LOGS_PER_EPOCH": 10,
     "criteria_for_best": "target_accuracy",
     "dataset_seed": 1337,
     "device": "cuda",
     "domains_source": [
      8,
      32,
      50
     ],
     "domains_target": [
      14,
      20,
      26,
      38,
      44
     ],
     "episode_transforms_source": [],
     "episode_transforms_target": [],
     "experiment_name": "tuned_1v2:oracle.run1_limited",
     "labels_source": [
      "3123D52",
      "3123D65",
      "3123D79",
      "3123D80",
      "3123D54",
      "3123D70",
      "3123D7B",
      "3123D89",
      "3123D58",
      "3123D76",
      "3123D7D",
      "3123EFE",
      "3123D64",
      "3123D78",
      "3123D7E",
      "3124E4A"
     ],
     "labels_target": [
      "3123D52",
      "3123D65",
      "3123D79",
      "3123D80",
      "3123D54",
      "3123D70",
      "3123D7B",
      "3123D89",
      "3123D58",
      "3123D76",
      "3123D7D",
      "3123EFE",
      "3123D64",
      "3123D78",
      "3123D7E",
      "3124E4A"
     ],
     "lr": 0.0001,
     "n_epoch": 50,
     "n_query": 2,
     "n_shot": 3,
     "n_way": 16,
     "num_examples_per_domain_per_label_source": -1,
     "num_examples_per_domain_per_label_target": -1,
     "patience": 3,
     "pickle_name": "oracle.Run1_10kExamples_stratified_ds.2022A.pkl",
     "seed": 1337,
     "test_k_factor": 2,
     "torch_default_dtype": "torch.float32",
     "train_k_factor": 3,
     "val_k_factor": 2,
     "x_net": [
      {
       "class": "nnReshape",
       "kargs": {
        "shape": [
         -1,
         1,
         2,
         256
        ]
       }
      },
      {
       "class": "Conv2d",
       "kargs": {
        "bias": false,
        "in_channels": 1,
        "kernel_size": [
         1,
         7
        ],
        "out_channels": 256,
        "padding": [
         0,
         3
        ]
       }
      },
      {
       "class": "ReLU",
       "kargs": {
        "inplace": true
       }
      },
      {
       "class": "BatchNorm2d",
       "kargs": {
        "num_features": 256
       }
      },
      {
       "class": "Conv2d",
       "kargs": {
        "bias": true,
        "in_channels": 256,
        "kernel_size": [
         2,
         7
        ],
        "out_channels": 80,
        "padding": [
         0,
         3
        ]
       }
      },
      {
       "class": "ReLU",
       "kargs": {
        "inplace": true
       }
      },
      {
       "class": "BatchNorm2d",
       "kargs": {
        "num_features": 80
       }
      },
      {
       "class": "Flatten",
       "kargs": {}
      },
      {
       "class": "Linear",
       "kargs": {
        "in_features": 20480,
        "out_features": 256
       }
      },
      {
       "class": "ReLU",
       "kargs": {
        "inplace": true
       }
      },
      {
       "class": "BatchNorm1d",
       "kargs": {
        "num_features": 256
       }
      },
      {
       "class": "Linear",
       "kargs": {
        "in_features": 256,
        "out_features": 256
       }
      }
     ],
     "x_transforms_source": [
      "unit_mag"
     ],
     "x_transforms_target": [
      "unit_mag"
     ]
    }
   },
   "start_time": "2022-03-26T01:40:38.941923",
   "version": "2.3.4"
  }
 },
 "nbformat": 4,
 "nbformat_minor": 5
}