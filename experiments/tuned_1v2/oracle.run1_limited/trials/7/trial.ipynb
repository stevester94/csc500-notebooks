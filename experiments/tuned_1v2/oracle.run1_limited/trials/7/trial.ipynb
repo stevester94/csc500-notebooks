{
 "cells": [
  {
   "cell_type": "markdown",
   "id": "9fea5f46",
   "metadata": {
    "papermill": {
     "duration": 0.014001,
     "end_time": "2022-04-01T21:33:58.087891",
     "exception": false,
     "start_time": "2022-04-01T21:33:58.073890",
     "status": "completed"
    },
    "tags": []
   },
   "source": [
    "# PTN Template\n",
    "This notebook serves as a template for single dataset PTN experiments  \n",
    "It can be run on its own by setting STANDALONE to True (do a find for \"STANDALONE\" to see where)  \n",
    "But it is intended to be executed as part of a *papermill.py script. See any of the   \n",
    "experimentes with a papermill script to get started with that workflow.  "
   ]
  },
  {
   "cell_type": "code",
   "execution_count": 1,
   "id": "0902182a",
   "metadata": {
    "execution": {
     "iopub.execute_input": "2022-04-01T21:33:58.121794Z",
     "iopub.status.busy": "2022-04-01T21:33:58.118739Z",
     "iopub.status.idle": "2022-04-01T21:33:59.028176Z",
     "shell.execute_reply": "2022-04-01T21:33:59.027872Z"
    },
    "papermill": {
     "duration": 0.931195,
     "end_time": "2022-04-01T21:33:59.028246",
     "exception": false,
     "start_time": "2022-04-01T21:33:58.097051",
     "status": "completed"
    },
    "tags": []
   },
   "outputs": [],
   "source": [
    "%load_ext autoreload\n",
    "%autoreload 2\n",
    "%matplotlib inline\n",
    "\n",
    "    \n",
    "import os, json, sys, time, random\n",
    "import numpy as np\n",
    "import torch\n",
    "from torch.optim import Adam\n",
    "from  easydict import EasyDict\n",
    "import matplotlib.pyplot as plt\n",
    "\n",
    "from steves_models.steves_ptn import Steves_Prototypical_Network\n",
    "\n",
    "from steves_utils.lazy_iterable_wrapper import Lazy_Iterable_Wrapper\n",
    "from steves_utils.iterable_aggregator import Iterable_Aggregator\n",
    "from steves_utils.ptn_train_eval_test_jig import  PTN_Train_Eval_Test_Jig\n",
    "from steves_utils.torch_sequential_builder import build_sequential\n",
    "from steves_utils.torch_utils import get_dataset_metrics, ptn_confusion_by_domain_over_dataloader\n",
    "from steves_utils.utils_v2 import (per_domain_accuracy_from_confusion, get_datasets_base_path)\n",
    "from steves_utils.PTN.utils import independent_accuracy_assesment\n",
    "\n",
    "from steves_utils.stratified_dataset.episodic_accessor import Episodic_Accessor_Factory\n",
    "\n",
    "from steves_utils.ptn_do_report import (\n",
    "    get_loss_curve,\n",
    "    get_results_table,\n",
    "    get_parameters_table,\n",
    "    get_domain_accuracies,\n",
    ")\n",
    "\n",
    "from steves_utils.transforms import get_chained_transform"
   ]
  },
  {
   "cell_type": "markdown",
   "id": "41c840b4",
   "metadata": {
    "papermill": {
     "duration": 0.00913,
     "end_time": "2022-04-01T21:33:59.049246",
     "exception": false,
     "start_time": "2022-04-01T21:33:59.040116",
     "status": "completed"
    },
    "tags": []
   },
   "source": [
    "# Required Parameters\n",
    "These are allowed parameters, not defaults\n",
    "Each of these values need to be present in the injected parameters (the notebook will raise an exception if they are not present)\n",
    "\n",
    "Papermill uses the cell tag \"parameters\" to inject the real parameters below this cell.\n",
    "Enable tags to see what I mean"
   ]
  },
  {
   "cell_type": "code",
   "execution_count": 2,
   "id": "fd44eb83",
   "metadata": {
    "execution": {
     "iopub.execute_input": "2022-04-01T21:33:59.070129Z",
     "iopub.status.busy": "2022-04-01T21:33:59.069606Z",
     "iopub.status.idle": "2022-04-01T21:33:59.080945Z",
     "shell.execute_reply": "2022-04-01T21:33:59.080700Z"
    },
    "papermill": {
     "duration": 0.022709,
     "end_time": "2022-04-01T21:33:59.081012",
     "exception": false,
     "start_time": "2022-04-01T21:33:59.058303",
     "status": "completed"
    },
    "tags": []
   },
   "outputs": [],
   "source": [
    "required_parameters = {\n",
    "    \"experiment_name\",\n",
    "    \"lr\",\n",
    "    \"device\",\n",
    "    \"seed\",\n",
    "    \"dataset_seed\",\n",
    "    \"labels_source\",\n",
    "    \"labels_target\",\n",
    "    \"domains_source\",\n",
    "    \"domains_target\",\n",
    "    \"num_examples_per_domain_per_label_source\",\n",
    "    \"num_examples_per_domain_per_label_target\",\n",
    "    \"n_shot\",\n",
    "    \"n_way\",\n",
    "    \"n_query\",\n",
    "    \"train_k_factor\",\n",
    "    \"val_k_factor\",\n",
    "    \"test_k_factor\",\n",
    "    \"n_epoch\",\n",
    "    \"patience\",\n",
    "    \"criteria_for_best\",\n",
    "    \"x_transforms_source\",\n",
    "    \"x_transforms_target\",\n",
    "    \"episode_transforms_source\",\n",
    "    \"episode_transforms_target\",\n",
    "    \"pickle_name\",\n",
    "    \"x_net\",\n",
    "    \"NUM_LOGS_PER_EPOCH\",\n",
    "    \"BEST_MODEL_PATH\",\n",
    "    \"torch_default_dtype\"\n",
    "}"
   ]
  },
  {
   "cell_type": "code",
   "execution_count": 3,
   "id": "fa3f0049",
   "metadata": {
    "execution": {
     "iopub.execute_input": "2022-04-01T21:33:59.110115Z",
     "iopub.status.busy": "2022-04-01T21:33:59.106604Z",
     "iopub.status.idle": "2022-04-01T21:33:59.122407Z",
     "shell.execute_reply": "2022-04-01T21:33:59.122167Z"
    },
    "papermill": {
     "duration": 0.031677,
     "end_time": "2022-04-01T21:33:59.122460",
     "exception": false,
     "start_time": "2022-04-01T21:33:59.090783",
     "status": "completed"
    },
    "tags": [
     "parameters"
    ]
   },
   "outputs": [],
   "source": [
    "\n",
    "\n",
    "standalone_parameters = {}\n",
    "standalone_parameters[\"experiment_name\"] = \"STANDALONE PTN\"\n",
    "standalone_parameters[\"lr\"] = 0.0001\n",
    "standalone_parameters[\"device\"] = \"cuda\"\n",
    "\n",
    "standalone_parameters[\"seed\"] = 1337\n",
    "standalone_parameters[\"dataset_seed\"] = 1337\n",
    "\n",
    "\n",
    "standalone_parameters[\"num_examples_per_domain_per_label_source\"]=100\n",
    "standalone_parameters[\"num_examples_per_domain_per_label_target\"]=100\n",
    "\n",
    "standalone_parameters[\"n_shot\"] = 3\n",
    "standalone_parameters[\"n_query\"]  = 2\n",
    "standalone_parameters[\"train_k_factor\"] = 1\n",
    "standalone_parameters[\"val_k_factor\"] = 2\n",
    "standalone_parameters[\"test_k_factor\"] = 2\n",
    "\n",
    "\n",
    "standalone_parameters[\"n_epoch\"] = 100\n",
    "\n",
    "standalone_parameters[\"patience\"] = 10\n",
    "standalone_parameters[\"criteria_for_best\"] = \"target_accuracy\"\n",
    "\n",
    "standalone_parameters[\"x_transforms_source\"] = [\"unit_power\"]\n",
    "standalone_parameters[\"x_transforms_target\"] = [\"unit_power\"]\n",
    "standalone_parameters[\"episode_transforms_source\"] = []\n",
    "standalone_parameters[\"episode_transforms_target\"] = []\n",
    "\n",
    "standalone_parameters[\"torch_default_dtype\"] = \"torch.float32\" \n",
    "\n",
    "\n",
    "\n",
    "standalone_parameters[\"x_net\"] =     [\n",
    "    {\"class\": \"nnReshape\", \"kargs\": {\"shape\":[-1, 1, 2, 256]}},\n",
    "    {\"class\": \"Conv2d\", \"kargs\": { \"in_channels\":1, \"out_channels\":256, \"kernel_size\":(1,7), \"bias\":False, \"padding\":(0,3), },},\n",
    "    {\"class\": \"ReLU\", \"kargs\": {\"inplace\": True}},\n",
    "    {\"class\": \"BatchNorm2d\", \"kargs\": {\"num_features\":256}},\n",
    "\n",
    "    {\"class\": \"Conv2d\", \"kargs\": { \"in_channels\":256, \"out_channels\":80, \"kernel_size\":(2,7), \"bias\":True, \"padding\":(0,3), },},\n",
    "    {\"class\": \"ReLU\", \"kargs\": {\"inplace\": True}},\n",
    "    {\"class\": \"BatchNorm2d\", \"kargs\": {\"num_features\":80}},\n",
    "    {\"class\": \"Flatten\", \"kargs\": {}},\n",
    "\n",
    "    {\"class\": \"Linear\", \"kargs\": {\"in_features\": 80*256, \"out_features\": 256}}, # 80 units per IQ pair\n",
    "    {\"class\": \"ReLU\", \"kargs\": {\"inplace\": True}},\n",
    "    {\"class\": \"BatchNorm1d\", \"kargs\": {\"num_features\":256}},\n",
    "\n",
    "    {\"class\": \"Linear\", \"kargs\": {\"in_features\": 256, \"out_features\": 256}},\n",
    "]\n",
    "\n",
    "# Parameters relevant to results\n",
    "# These parameters will basically never need to change\n",
    "standalone_parameters[\"NUM_LOGS_PER_EPOCH\"] = 10\n",
    "standalone_parameters[\"BEST_MODEL_PATH\"] = \"./best_model.pth\"\n",
    "\n",
    "# uncomment for CORES dataset\n",
    "from steves_utils.CORES.utils import (\n",
    "    ALL_NODES,\n",
    "    ALL_NODES_MINIMUM_1000_EXAMPLES,\n",
    "    ALL_DAYS\n",
    ")\n",
    "\n",
    "\n",
    "standalone_parameters[\"labels_source\"] = ALL_NODES\n",
    "standalone_parameters[\"labels_target\"] = ALL_NODES\n",
    "\n",
    "standalone_parameters[\"domains_source\"] = [1]\n",
    "standalone_parameters[\"domains_target\"] = [2,3,4,5]\n",
    "\n",
    "standalone_parameters[\"pickle_name\"] = \"cores.stratified_ds.2022A.pkl\"\n",
    "\n",
    "\n",
    "# Uncomment these for ORACLE dataset\n",
    "# from steves_utils.ORACLE.utils_v2 import (\n",
    "#     ALL_DISTANCES_FEET,\n",
    "#     ALL_RUNS,\n",
    "#     ALL_SERIAL_NUMBERS,\n",
    "# )\n",
    "# standalone_parameters[\"labels_source\"] = ALL_SERIAL_NUMBERS\n",
    "# standalone_parameters[\"labels_target\"] = ALL_SERIAL_NUMBERS\n",
    "# standalone_parameters[\"domains_source\"] = [8,20, 38,50]\n",
    "# standalone_parameters[\"domains_target\"] = [14, 26, 32, 44, 56]\n",
    "# standalone_parameters[\"pickle_name\"] = \"oracle.frame_indexed.stratified_ds.2022A.pkl\"\n",
    "# standalone_parameters[\"num_examples_per_domain_per_label_source\"]=1000\n",
    "# standalone_parameters[\"num_examples_per_domain_per_label_target\"]=1000\n",
    "\n",
    "# Uncomment these for Metahan dataset\n",
    "# standalone_parameters[\"labels_source\"] = list(range(19))\n",
    "# standalone_parameters[\"labels_target\"] = list(range(19))\n",
    "# standalone_parameters[\"domains_source\"] = [0]\n",
    "# standalone_parameters[\"domains_target\"] = [1]\n",
    "# standalone_parameters[\"pickle_name\"] = \"metehan.stratified_ds.2022A.pkl\"\n",
    "# standalone_parameters[\"n_way\"]  = len(standalone_parameters[\"labels_source\"])\n",
    "# standalone_parameters[\"num_examples_per_domain_per_label_source\"]=200\n",
    "# standalone_parameters[\"num_examples_per_domain_per_label_target\"]=100\n",
    "\n",
    "\n",
    "standalone_parameters[\"n_way\"]  = len(standalone_parameters[\"labels_source\"])"
   ]
  },
  {
   "cell_type": "code",
   "execution_count": 4,
   "id": "12aac8a3",
   "metadata": {
    "execution": {
     "iopub.execute_input": "2022-04-01T21:33:59.148985Z",
     "iopub.status.busy": "2022-04-01T21:33:59.142657Z",
     "iopub.status.idle": "2022-04-01T21:33:59.160893Z",
     "shell.execute_reply": "2022-04-01T21:33:59.161100Z"
    },
    "papermill": {
     "duration": 0.029241,
     "end_time": "2022-04-01T21:33:59.161157",
     "exception": false,
     "start_time": "2022-04-01T21:33:59.131916",
     "status": "completed"
    },
    "tags": [
     "injected-parameters"
    ]
   },
   "outputs": [],
   "source": [
    "# Parameters\n",
    "parameters = {\n",
    "    \"experiment_name\": \"tuned_1v2:oracle.run1_limited\",\n",
    "    \"device\": \"cuda\",\n",
    "    \"lr\": 0.0001,\n",
    "    \"labels_source\": [\n",
    "        \"3123D52\",\n",
    "        \"3123D65\",\n",
    "        \"3123D79\",\n",
    "        \"3123D80\",\n",
    "        \"3123D54\",\n",
    "        \"3123D70\",\n",
    "        \"3123D7B\",\n",
    "        \"3123D89\",\n",
    "        \"3123D58\",\n",
    "        \"3123D76\",\n",
    "        \"3123D7D\",\n",
    "        \"3123EFE\",\n",
    "        \"3123D64\",\n",
    "        \"3123D78\",\n",
    "        \"3123D7E\",\n",
    "        \"3124E4A\",\n",
    "    ],\n",
    "    \"labels_target\": [\n",
    "        \"3123D52\",\n",
    "        \"3123D65\",\n",
    "        \"3123D79\",\n",
    "        \"3123D80\",\n",
    "        \"3123D54\",\n",
    "        \"3123D70\",\n",
    "        \"3123D7B\",\n",
    "        \"3123D89\",\n",
    "        \"3123D58\",\n",
    "        \"3123D76\",\n",
    "        \"3123D7D\",\n",
    "        \"3123EFE\",\n",
    "        \"3123D64\",\n",
    "        \"3123D78\",\n",
    "        \"3123D7E\",\n",
    "        \"3124E4A\",\n",
    "    ],\n",
    "    \"episode_transforms_source\": [],\n",
    "    \"episode_transforms_target\": [],\n",
    "    \"domains_source\": [8, 32, 50],\n",
    "    \"domains_target\": [14, 20, 26, 38, 44],\n",
    "    \"num_examples_per_domain_per_label_source\": 2000,\n",
    "    \"num_examples_per_domain_per_label_target\": 2000,\n",
    "    \"n_shot\": 3,\n",
    "    \"n_way\": 16,\n",
    "    \"n_query\": 2,\n",
    "    \"train_k_factor\": 3,\n",
    "    \"val_k_factor\": 2,\n",
    "    \"test_k_factor\": 2,\n",
    "    \"torch_default_dtype\": \"torch.float32\",\n",
    "    \"n_epoch\": 50,\n",
    "    \"patience\": 3,\n",
    "    \"criteria_for_best\": \"target_accuracy\",\n",
    "    \"x_net\": [\n",
    "        {\"class\": \"nnReshape\", \"kargs\": {\"shape\": [-1, 1, 2, 256]}},\n",
    "        {\n",
    "            \"class\": \"Conv2d\",\n",
    "            \"kargs\": {\n",
    "                \"in_channels\": 1,\n",
    "                \"out_channels\": 256,\n",
    "                \"kernel_size\": [1, 7],\n",
    "                \"bias\": False,\n",
    "                \"padding\": [0, 3],\n",
    "            },\n",
    "        },\n",
    "        {\"class\": \"ReLU\", \"kargs\": {\"inplace\": True}},\n",
    "        {\"class\": \"BatchNorm2d\", \"kargs\": {\"num_features\": 256}},\n",
    "        {\n",
    "            \"class\": \"Conv2d\",\n",
    "            \"kargs\": {\n",
    "                \"in_channels\": 256,\n",
    "                \"out_channels\": 80,\n",
    "                \"kernel_size\": [2, 7],\n",
    "                \"bias\": True,\n",
    "                \"padding\": [0, 3],\n",
    "            },\n",
    "        },\n",
    "        {\"class\": \"ReLU\", \"kargs\": {\"inplace\": True}},\n",
    "        {\"class\": \"BatchNorm2d\", \"kargs\": {\"num_features\": 80}},\n",
    "        {\"class\": \"Flatten\", \"kargs\": {}},\n",
    "        {\"class\": \"Linear\", \"kargs\": {\"in_features\": 20480, \"out_features\": 256}},\n",
    "        {\"class\": \"ReLU\", \"kargs\": {\"inplace\": True}},\n",
    "        {\"class\": \"BatchNorm1d\", \"kargs\": {\"num_features\": 256}},\n",
    "        {\"class\": \"Linear\", \"kargs\": {\"in_features\": 256, \"out_features\": 256}},\n",
    "    ],\n",
    "    \"NUM_LOGS_PER_EPOCH\": 10,\n",
    "    \"BEST_MODEL_PATH\": \"./best_model.pth\",\n",
    "    \"pickle_name\": \"oracle.Run1_10kExamples_stratified_ds.2022A.pkl\",\n",
    "    \"x_transforms_source\": [],\n",
    "    \"x_transforms_target\": [],\n",
    "    \"dataset_seed\": 500,\n",
    "    \"seed\": 500,\n",
    "}\n"
   ]
  },
  {
   "cell_type": "code",
   "execution_count": 5,
   "id": "8fa1cc33",
   "metadata": {
    "execution": {
     "iopub.execute_input": "2022-04-01T21:33:59.184334Z",
     "iopub.status.busy": "2022-04-01T21:33:59.184082Z",
     "iopub.status.idle": "2022-04-01T21:33:59.195887Z",
     "shell.execute_reply": "2022-04-01T21:33:59.196091Z"
    },
    "papermill": {
     "duration": 0.025398,
     "end_time": "2022-04-01T21:33:59.196148",
     "exception": false,
     "start_time": "2022-04-01T21:33:59.170750",
     "status": "completed"
    },
    "tags": []
   },
   "outputs": [],
   "source": [
    "# Set this to True if you want to run this template directly\n",
    "STANDALONE = False\n",
    "if STANDALONE:\n",
    "    print(\"parameters not injected, running with standalone_parameters\")\n",
    "    parameters = standalone_parameters\n",
    "\n",
    "if not 'parameters' in locals() and not 'parameters' in globals():\n",
    "    raise Exception(\"Parameter injection failed\")\n",
    "\n",
    "#Use an easy dict for all the parameters\n",
    "p = EasyDict(parameters)\n",
    "\n",
    "supplied_keys = set(p.keys())\n",
    "\n",
    "if  supplied_keys != required_parameters:\n",
    "    print(\"Parameters are incorrect\")\n",
    "    if len(supplied_keys - required_parameters)>0: print(\"Shouldn't have:\", str(supplied_keys - required_parameters))\n",
    "    if len(required_parameters - supplied_keys)>0: print(\"Need to have:\", str(required_parameters - supplied_keys))\n",
    "    raise RuntimeError(\"Parameters are incorrect\")\n",
    "\n"
   ]
  },
  {
   "cell_type": "code",
   "execution_count": 6,
   "id": "3a028d58",
   "metadata": {
    "execution": {
     "iopub.execute_input": "2022-04-01T21:33:59.218091Z",
     "iopub.status.busy": "2022-04-01T21:33:59.217843Z",
     "iopub.status.idle": "2022-04-01T21:33:59.231931Z",
     "shell.execute_reply": "2022-04-01T21:33:59.231715Z"
    },
    "papermill": {
     "duration": 0.026355,
     "end_time": "2022-04-01T21:33:59.231980",
     "exception": false,
     "start_time": "2022-04-01T21:33:59.205625",
     "status": "completed"
    },
    "tags": []
   },
   "outputs": [],
   "source": [
    "###################################\n",
    "# Set the RNGs and make it all deterministic\n",
    "###################################\n",
    "np.random.seed(p.seed)\n",
    "random.seed(p.seed)\n",
    "torch.manual_seed(p.seed)\n",
    "\n",
    "torch.use_deterministic_algorithms(True) "
   ]
  },
  {
   "cell_type": "code",
   "execution_count": 7,
   "id": "b691acf6",
   "metadata": {
    "execution": {
     "iopub.execute_input": "2022-04-01T21:33:59.252993Z",
     "iopub.status.busy": "2022-04-01T21:33:59.252701Z",
     "iopub.status.idle": "2022-04-01T21:33:59.267040Z",
     "shell.execute_reply": "2022-04-01T21:33:59.267241Z"
    },
    "papermill": {
     "duration": 0.025826,
     "end_time": "2022-04-01T21:33:59.267298",
     "exception": false,
     "start_time": "2022-04-01T21:33:59.241472",
     "status": "completed"
    },
    "tags": []
   },
   "outputs": [],
   "source": [
    "###########################################\n",
    "# The stratified datasets honor this\n",
    "###########################################\n",
    "torch.set_default_dtype(eval(p.torch_default_dtype))"
   ]
  },
  {
   "cell_type": "code",
   "execution_count": 8,
   "id": "b5fba671",
   "metadata": {
    "execution": {
     "iopub.execute_input": "2022-04-01T21:33:59.289183Z",
     "iopub.status.busy": "2022-04-01T21:33:59.288937Z",
     "iopub.status.idle": "2022-04-01T21:33:59.329847Z",
     "shell.execute_reply": "2022-04-01T21:33:59.329601Z"
    },
    "papermill": {
     "duration": 0.052956,
     "end_time": "2022-04-01T21:33:59.329902",
     "exception": false,
     "start_time": "2022-04-01T21:33:59.276946",
     "status": "completed"
    },
    "tags": []
   },
   "outputs": [],
   "source": [
    "###################################\n",
    "# Build the network(s)\n",
    "# Note: It's critical to do this AFTER setting the RNG\n",
    "# (This is due to the randomized initial weights)\n",
    "###################################\n",
    "x_net = build_sequential(p.x_net)"
   ]
  },
  {
   "cell_type": "code",
   "execution_count": 9,
   "id": "5d7e61cc",
   "metadata": {
    "execution": {
     "iopub.execute_input": "2022-04-01T21:33:59.355293Z",
     "iopub.status.busy": "2022-04-01T21:33:59.354477Z",
     "iopub.status.idle": "2022-04-01T21:33:59.369543Z",
     "shell.execute_reply": "2022-04-01T21:33:59.369831Z"
    },
    "papermill": {
     "duration": 0.026285,
     "end_time": "2022-04-01T21:33:59.369912",
     "exception": false,
     "start_time": "2022-04-01T21:33:59.343627",
     "status": "completed"
    },
    "tags": []
   },
   "outputs": [],
   "source": [
    "start_time_secs = time.time()"
   ]
  },
  {
   "cell_type": "code",
   "execution_count": 10,
   "id": "fd5442bc",
   "metadata": {
    "execution": {
     "iopub.execute_input": "2022-04-01T21:33:59.401298Z",
     "iopub.status.busy": "2022-04-01T21:33:59.395126Z",
     "iopub.status.idle": "2022-04-01T21:34:03.113704Z",
     "shell.execute_reply": "2022-04-01T21:34:03.113235Z"
    },
    "papermill": {
     "duration": 3.729901,
     "end_time": "2022-04-01T21:34:03.113795",
     "exception": false,
     "start_time": "2022-04-01T21:33:59.383894",
     "status": "completed"
    },
    "tags": []
   },
   "outputs": [],
   "source": [
    "###################################\n",
    "# Build the dataset\n",
    "###################################\n",
    "\n",
    "if p.x_transforms_source == []: x_transform_source = None\n",
    "else: x_transform_source = get_chained_transform(p.x_transforms_source) \n",
    "\n",
    "if p.x_transforms_target == []: x_transform_target = None\n",
    "else: x_transform_target = get_chained_transform(p.x_transforms_target)\n",
    "\n",
    "if p.episode_transforms_source == []: episode_transform_source = None\n",
    "else: raise Exception(\"episode_transform_source not implemented\")\n",
    "\n",
    "if p.episode_transforms_target == []: episode_transform_target = None\n",
    "else: raise Exception(\"episode_transform_target not implemented\")\n",
    "\n",
    "\n",
    "eaf_source = Episodic_Accessor_Factory(\n",
    "    labels=p.labels_source,\n",
    "    domains=p.domains_source,\n",
    "    num_examples_per_domain_per_label=p.num_examples_per_domain_per_label_source,\n",
    "    iterator_seed=p.seed,\n",
    "    dataset_seed=p.dataset_seed,\n",
    "    n_shot=p.n_shot,\n",
    "    n_way=p.n_way,\n",
    "    n_query=p.n_query,\n",
    "    train_val_test_k_factors=(p.train_k_factor,p.val_k_factor,p.test_k_factor),\n",
    "    pickle_path=os.path.join(get_datasets_base_path(), p.pickle_name),\n",
    "    x_transform_func=x_transform_source,\n",
    "    example_transform_func=episode_transform_source,\n",
    "    \n",
    ")\n",
    "train_original_source, val_original_source, test_original_source = eaf_source.get_train(), eaf_source.get_val(), eaf_source.get_test()\n",
    "\n",
    "\n",
    "eaf_target = Episodic_Accessor_Factory(\n",
    "    labels=p.labels_target,\n",
    "    domains=p.domains_target,\n",
    "    num_examples_per_domain_per_label=p.num_examples_per_domain_per_label_target,\n",
    "    iterator_seed=p.seed,\n",
    "    dataset_seed=p.dataset_seed,\n",
    "    n_shot=p.n_shot,\n",
    "    n_way=p.n_way,\n",
    "    n_query=p.n_query,\n",
    "    train_val_test_k_factors=(p.train_k_factor,p.val_k_factor,p.test_k_factor),\n",
    "    pickle_path=os.path.join(get_datasets_base_path(), p.pickle_name),\n",
    "    x_transform_func=x_transform_target,\n",
    "    example_transform_func=episode_transform_target,\n",
    ")\n",
    "train_original_target, val_original_target, test_original_target = eaf_target.get_train(), eaf_target.get_val(), eaf_target.get_test()\n",
    "\n",
    "\n",
    "transform_lambda = lambda ex: ex[1] # Original is (<domain>, <episode>) so we strip down to episode only\n",
    "\n",
    "train_processed_source = Lazy_Iterable_Wrapper(train_original_source, transform_lambda)\n",
    "val_processed_source   = Lazy_Iterable_Wrapper(val_original_source, transform_lambda)\n",
    "test_processed_source  = Lazy_Iterable_Wrapper(test_original_source, transform_lambda)\n",
    "\n",
    "train_processed_target = Lazy_Iterable_Wrapper(train_original_target, transform_lambda)\n",
    "val_processed_target   = Lazy_Iterable_Wrapper(val_original_target, transform_lambda)\n",
    "test_processed_target  = Lazy_Iterable_Wrapper(test_original_target, transform_lambda)\n",
    "\n",
    "datasets = EasyDict({\n",
    "    \"source\": {\n",
    "        \"original\": {\"train\":train_original_source, \"val\":val_original_source, \"test\":test_original_source},\n",
    "        \"processed\": {\"train\":train_processed_source, \"val\":val_processed_source, \"test\":test_processed_source}\n",
    "    },\n",
    "    \"target\": {\n",
    "        \"original\": {\"train\":train_original_target, \"val\":val_original_target, \"test\":test_original_target},\n",
    "        \"processed\": {\"train\":train_processed_target, \"val\":val_processed_target, \"test\":test_processed_target}\n",
    "    },\n",
    "})"
   ]
  },
  {
   "cell_type": "code",
   "execution_count": 11,
   "id": "296189d9",
   "metadata": {
    "execution": {
     "iopub.execute_input": "2022-04-01T21:34:03.143827Z",
     "iopub.status.busy": "2022-04-01T21:34:03.143578Z",
     "iopub.status.idle": "2022-04-01T21:34:04.784480Z",
     "shell.execute_reply": "2022-04-01T21:34:04.784094Z"
    },
    "papermill": {
     "duration": 1.654824,
     "end_time": "2022-04-01T21:34:04.784565",
     "exception": false,
     "start_time": "2022-04-01T21:34:03.129741",
     "status": "completed"
    },
    "tags": []
   },
   "outputs": [
    {
     "name": "stdout",
     "output_type": "stream",
     "text": [
      "Visually inspect these to see if they line up with expected values given the transforms\n",
      "x_transforms_source []\n",
      "x_transforms_target []\n",
      "Average magnitude, source: 0.005927925\n",
      "Average power, source: 4.5331188e-05\n"
     ]
    },
    {
     "name": "stdout",
     "output_type": "stream",
     "text": [
      "Average magnitude, target: 0.005070867\n",
      "Average power, target: 3.340448e-05\n"
     ]
    }
   ],
   "source": [
    "# Some quick unit tests on the data\n",
    "from steves_utils.transforms import get_average_power, get_average_magnitude\n",
    "\n",
    "q_x, q_y, s_x, s_y, truth = next(iter(train_processed_source))\n",
    "\n",
    "assert q_x.dtype == eval(p.torch_default_dtype)\n",
    "assert s_x.dtype == eval(p.torch_default_dtype)\n",
    "\n",
    "print(\"Visually inspect these to see if they line up with expected values given the transforms\")\n",
    "print('x_transforms_source', p.x_transforms_source)\n",
    "print('x_transforms_target', p.x_transforms_target)\n",
    "print(\"Average magnitude, source:\", get_average_magnitude(q_x[0].numpy()))\n",
    "print(\"Average power, source:\", get_average_power(q_x[0].numpy()))\n",
    "\n",
    "q_x, q_y, s_x, s_y, truth = next(iter(train_processed_target))\n",
    "print(\"Average magnitude, target:\", get_average_magnitude(q_x[0].numpy()))\n",
    "print(\"Average power, target:\", get_average_power(q_x[0].numpy()))\n"
   ]
  },
  {
   "cell_type": "code",
   "execution_count": 12,
   "id": "bbdacba1",
   "metadata": {
    "execution": {
     "iopub.execute_input": "2022-04-01T21:34:04.810116Z",
     "iopub.status.busy": "2022-04-01T21:34:04.809858Z",
     "iopub.status.idle": "2022-04-01T21:34:04.872305Z",
     "shell.execute_reply": "2022-04-01T21:34:04.871903Z"
    },
    "papermill": {
     "duration": 0.075909,
     "end_time": "2022-04-01T21:34:04.872406",
     "exception": false,
     "start_time": "2022-04-01T21:34:04.796497",
     "status": "completed"
    },
    "tags": []
   },
   "outputs": [
    {
     "name": "stdout",
     "output_type": "stream",
     "text": [
      "(2, 256)\n"
     ]
    }
   ],
   "source": [
    "###################################\n",
    "# Build the model\n",
    "###################################\n",
    "model = Steves_Prototypical_Network(x_net, device=p.device, x_shape=(2,256))\n",
    "optimizer = Adam(params=model.parameters(), lr=p.lr)"
   ]
  },
  {
   "cell_type": "code",
   "execution_count": 13,
   "id": "22b39ac5",
   "metadata": {
    "execution": {
     "iopub.execute_input": "2022-04-01T21:34:04.902630Z",
     "iopub.status.busy": "2022-04-01T21:34:04.902381Z",
     "iopub.status.idle": "2022-04-01T21:47:07.810634Z",
     "shell.execute_reply": "2022-04-01T21:47:07.810407Z"
    },
    "papermill": {
     "duration": 782.921725,
     "end_time": "2022-04-01T21:47:07.810690",
     "exception": false,
     "start_time": "2022-04-01T21:34:04.888965",
     "status": "completed"
    },
    "tags": []
   },
   "outputs": [
    {
     "name": "stdout",
     "output_type": "stream",
     "text": [
      "epoch: 1, [batch: 1 / 2520], examples_per_second: 126.5761, train_label_loss: 2.7142, \n"
     ]
    },
    {
     "name": "stdout",
     "output_type": "stream",
     "text": [
      "epoch: 1, [batch: 252 / 2520], examples_per_second: 3178.1175, train_label_loss: 1.3272, \n"
     ]
    },
    {
     "name": "stdout",
     "output_type": "stream",
     "text": [
      "epoch: 1, [batch: 504 / 2520], examples_per_second: 3196.9182, train_label_loss: 1.2814, \n"
     ]
    },
    {
     "name": "stdout",
     "output_type": "stream",
     "text": [
      "epoch: 1, [batch: 756 / 2520], examples_per_second: 3177.6559, train_label_loss: 1.3128, \n"
     ]
    },
    {
     "name": "stdout",
     "output_type": "stream",
     "text": [
      "epoch: 1, [batch: 1008 / 2520], examples_per_second: 3167.1363, train_label_loss: 1.3897, \n"
     ]
    },
    {
     "name": "stdout",
     "output_type": "stream",
     "text": [
      "epoch: 1, [batch: 1260 / 2520], examples_per_second: 3182.1977, train_label_loss: 1.2472, \n"
     ]
    },
    {
     "name": "stdout",
     "output_type": "stream",
     "text": [
      "epoch: 1, [batch: 1512 / 2520], examples_per_second: 3194.8674, train_label_loss: 1.0523, \n"
     ]
    },
    {
     "name": "stdout",
     "output_type": "stream",
     "text": [
      "epoch: 1, [batch: 1764 / 2520], examples_per_second: 3159.1716, train_label_loss: 0.9592, \n"
     ]
    },
    {
     "name": "stdout",
     "output_type": "stream",
     "text": [
      "epoch: 1, [batch: 2016 / 2520], examples_per_second: 3179.2104, train_label_loss: 0.8476, \n"
     ]
    },
    {
     "name": "stdout",
     "output_type": "stream",
     "text": [
      "epoch: 1, [batch: 2268 / 2520], examples_per_second: 3173.9615, train_label_loss: 0.7052, \n"
     ]
    },
    {
     "name": "stdout",
     "output_type": "stream",
     "text": [
      "=============================================================\n",
      "epoch: 1, source_val_acc_label: 0.6677, target_val_acc_label: 0.5437, source_val_label_loss: 1.8871, target_val_label_loss: 2.0245, \n",
      "=============================================================\n"
     ]
    },
    {
     "name": "stdout",
     "output_type": "stream",
     "text": [
      "New best\n"
     ]
    },
    {
     "name": "stdout",
     "output_type": "stream",
     "text": [
      "epoch: 2, [batch: 1 / 2520], examples_per_second: 11.1737, train_label_loss: 5.9906, \n"
     ]
    },
    {
     "name": "stdout",
     "output_type": "stream",
     "text": [
      "epoch: 2, [batch: 252 / 2520], examples_per_second: 3212.3647, train_label_loss: 0.6693, \n"
     ]
    },
    {
     "name": "stdout",
     "output_type": "stream",
     "text": [
      "epoch: 2, [batch: 504 / 2520], examples_per_second: 3198.8232, train_label_loss: 0.3720, \n"
     ]
    },
    {
     "name": "stdout",
     "output_type": "stream",
     "text": [
      "epoch: 2, [batch: 756 / 2520], examples_per_second: 3208.4729, train_label_loss: 0.5679, \n"
     ]
    },
    {
     "name": "stdout",
     "output_type": "stream",
     "text": [
      "epoch: 2, [batch: 1008 / 2520], examples_per_second: 3196.4908, train_label_loss: 0.3186, \n"
     ]
    },
    {
     "name": "stdout",
     "output_type": "stream",
     "text": [
      "epoch: 2, [batch: 1260 / 2520], examples_per_second: 3210.2203, train_label_loss: 0.4796, \n"
     ]
    },
    {
     "name": "stdout",
     "output_type": "stream",
     "text": [
      "epoch: 2, [batch: 1512 / 2520], examples_per_second: 3195.3257, train_label_loss: 0.4377, \n"
     ]
    },
    {
     "name": "stdout",
     "output_type": "stream",
     "text": [
      "epoch: 2, [batch: 1764 / 2520], examples_per_second: 3184.1735, train_label_loss: 0.7416, \n"
     ]
    },
    {
     "name": "stdout",
     "output_type": "stream",
     "text": [
      "epoch: 2, [batch: 2016 / 2520], examples_per_second: 3191.7142, train_label_loss: 0.4108, \n"
     ]
    },
    {
     "name": "stdout",
     "output_type": "stream",
     "text": [
      "epoch: 2, [batch: 2268 / 2520], examples_per_second: 3192.1176, train_label_loss: 0.4003, \n"
     ]
    },
    {
     "name": "stdout",
     "output_type": "stream",
     "text": [
      "=============================================================\n",
      "epoch: 2, source_val_acc_label: 0.7440, target_val_acc_label: 0.6361, source_val_label_loss: 0.6878, target_val_label_loss: 0.9862, \n",
      "=============================================================\n"
     ]
    },
    {
     "name": "stdout",
     "output_type": "stream",
     "text": [
      "New best\n"
     ]
    },
    {
     "name": "stdout",
     "output_type": "stream",
     "text": [
      "epoch: 3, [batch: 1 / 2520], examples_per_second: 11.1250, train_label_loss: 0.5245, \n"
     ]
    },
    {
     "name": "stdout",
     "output_type": "stream",
     "text": [
      "epoch: 3, [batch: 252 / 2520], examples_per_second: 3194.3365, train_label_loss: 0.4805, \n"
     ]
    },
    {
     "name": "stdout",
     "output_type": "stream",
     "text": [
      "epoch: 3, [batch: 504 / 2520], examples_per_second: 3195.9724, train_label_loss: 0.9021, \n"
     ]
    },
    {
     "name": "stdout",
     "output_type": "stream",
     "text": [
      "epoch: 3, [batch: 756 / 2520], examples_per_second: 3196.3769, train_label_loss: 0.2922, \n"
     ]
    },
    {
     "name": "stdout",
     "output_type": "stream",
     "text": [
      "epoch: 3, [batch: 1008 / 2520], examples_per_second: 3185.4434, train_label_loss: 0.8697, \n"
     ]
    },
    {
     "name": "stdout",
     "output_type": "stream",
     "text": [
      "epoch: 3, [batch: 1260 / 2520], examples_per_second: 3194.9409, train_label_loss: 0.5135, \n"
     ]
    },
    {
     "name": "stdout",
     "output_type": "stream",
     "text": [
      "epoch: 3, [batch: 1512 / 2520], examples_per_second: 3183.8857, train_label_loss: 0.9657, \n"
     ]
    },
    {
     "name": "stdout",
     "output_type": "stream",
     "text": [
      "epoch: 3, [batch: 1764 / 2520], examples_per_second: 3170.1760, train_label_loss: 0.5606, \n"
     ]
    },
    {
     "name": "stdout",
     "output_type": "stream",
     "text": [
      "epoch: 3, [batch: 2016 / 2520], examples_per_second: 3180.6342, train_label_loss: 0.1948, \n"
     ]
    },
    {
     "name": "stdout",
     "output_type": "stream",
     "text": [
      "epoch: 3, [batch: 2268 / 2520], examples_per_second: 3173.5084, train_label_loss: 0.7503, \n"
     ]
    },
    {
     "name": "stdout",
     "output_type": "stream",
     "text": [
      "=============================================================\n",
      "epoch: 3, source_val_acc_label: 0.7615, target_val_acc_label: 0.6595, source_val_label_loss: 0.6442, target_val_label_loss: 0.9430, \n",
      "=============================================================\n"
     ]
    },
    {
     "name": "stdout",
     "output_type": "stream",
     "text": [
      "New best\n"
     ]
    },
    {
     "name": "stdout",
     "output_type": "stream",
     "text": [
      "epoch: 4, [batch: 1 / 2520], examples_per_second: 11.0814, train_label_loss: 0.3144, \n"
     ]
    },
    {
     "name": "stdout",
     "output_type": "stream",
     "text": [
      "epoch: 4, [batch: 252 / 2520], examples_per_second: 3198.3711, train_label_loss: 0.3107, \n"
     ]
    },
    {
     "name": "stdout",
     "output_type": "stream",
     "text": [
      "epoch: 4, [batch: 504 / 2520], examples_per_second: 3200.1421, train_label_loss: 0.2637, \n"
     ]
    },
    {
     "name": "stdout",
     "output_type": "stream",
     "text": [
      "epoch: 4, [batch: 756 / 2520], examples_per_second: 3194.0867, train_label_loss: 0.6323, \n"
     ]
    },
    {
     "name": "stdout",
     "output_type": "stream",
     "text": [
      "epoch: 4, [batch: 1008 / 2520], examples_per_second: 3188.8346, train_label_loss: 0.3112, \n"
     ]
    },
    {
     "name": "stdout",
     "output_type": "stream",
     "text": [
      "epoch: 4, [batch: 1260 / 2520], examples_per_second: 3206.0473, train_label_loss: 0.5741, \n"
     ]
    },
    {
     "name": "stdout",
     "output_type": "stream",
     "text": [
      "epoch: 4, [batch: 1512 / 2520], examples_per_second: 3186.8576, train_label_loss: 0.2259, \n"
     ]
    },
    {
     "name": "stdout",
     "output_type": "stream",
     "text": [
      "epoch: 4, [batch: 1764 / 2520], examples_per_second: 3170.4565, train_label_loss: 0.2979, \n"
     ]
    },
    {
     "name": "stdout",
     "output_type": "stream",
     "text": [
      "epoch: 4, [batch: 2016 / 2520], examples_per_second: 3189.9132, train_label_loss: 0.8360, \n"
     ]
    },
    {
     "name": "stdout",
     "output_type": "stream",
     "text": [
      "epoch: 4, [batch: 2268 / 2520], examples_per_second: 3209.7535, train_label_loss: 0.2507, \n"
     ]
    },
    {
     "name": "stdout",
     "output_type": "stream",
     "text": [
      "=============================================================\n",
      "epoch: 4, source_val_acc_label: 0.7657, target_val_acc_label: 0.6597, source_val_label_loss: 0.6529, target_val_label_loss: 0.9570, \n",
      "=============================================================\n"
     ]
    },
    {
     "name": "stdout",
     "output_type": "stream",
     "text": [
      "New best\n"
     ]
    },
    {
     "name": "stdout",
     "output_type": "stream",
     "text": [
      "epoch: 5, [batch: 1 / 2520], examples_per_second: 11.1053, train_label_loss: 0.5239, \n"
     ]
    },
    {
     "name": "stdout",
     "output_type": "stream",
     "text": [
      "epoch: 5, [batch: 252 / 2520], examples_per_second: 3177.1275, train_label_loss: 0.3089, \n"
     ]
    },
    {
     "name": "stdout",
     "output_type": "stream",
     "text": [
      "epoch: 5, [batch: 504 / 2520], examples_per_second: 3174.1331, train_label_loss: 0.7011, \n"
     ]
    },
    {
     "name": "stdout",
     "output_type": "stream",
     "text": [
      "epoch: 5, [batch: 756 / 2520], examples_per_second: 3181.2809, train_label_loss: 0.6181, \n"
     ]
    },
    {
     "name": "stdout",
     "output_type": "stream",
     "text": [
      "epoch: 5, [batch: 1008 / 2520], examples_per_second: 3174.3938, train_label_loss: 0.3934, \n"
     ]
    },
    {
     "name": "stdout",
     "output_type": "stream",
     "text": [
      "epoch: 5, [batch: 1260 / 2520], examples_per_second: 3185.5752, train_label_loss: 0.2854, \n"
     ]
    },
    {
     "name": "stdout",
     "output_type": "stream",
     "text": [
      "epoch: 5, [batch: 1512 / 2520], examples_per_second: 3200.6654, train_label_loss: 0.2280, \n"
     ]
    },
    {
     "name": "stdout",
     "output_type": "stream",
     "text": [
      "epoch: 5, [batch: 1764 / 2520], examples_per_second: 3190.2485, train_label_loss: 0.2844, \n"
     ]
    },
    {
     "name": "stdout",
     "output_type": "stream",
     "text": [
      "epoch: 5, [batch: 2016 / 2520], examples_per_second: 3199.4260, train_label_loss: 0.2575, \n"
     ]
    },
    {
     "name": "stdout",
     "output_type": "stream",
     "text": [
      "epoch: 5, [batch: 2268 / 2520], examples_per_second: 3214.8799, train_label_loss: 0.1917, \n"
     ]
    },
    {
     "name": "stdout",
     "output_type": "stream",
     "text": [
      "=============================================================\n",
      "epoch: 5, source_val_acc_label: 0.7762, target_val_acc_label: 0.6787, source_val_label_loss: 0.6358, target_val_label_loss: 0.9073, \n",
      "=============================================================\n"
     ]
    },
    {
     "name": "stdout",
     "output_type": "stream",
     "text": [
      "New best\n"
     ]
    },
    {
     "name": "stdout",
     "output_type": "stream",
     "text": [
      "epoch: 6, [batch: 1 / 2520], examples_per_second: 11.1171, train_label_loss: 0.2547, \n"
     ]
    },
    {
     "name": "stdout",
     "output_type": "stream",
     "text": [
      "epoch: 6, [batch: 252 / 2520], examples_per_second: 3210.2686, train_label_loss: 0.1603, \n"
     ]
    },
    {
     "name": "stdout",
     "output_type": "stream",
     "text": [
      "epoch: 6, [batch: 504 / 2520], examples_per_second: 3201.8450, train_label_loss: 0.0629, \n"
     ]
    },
    {
     "name": "stdout",
     "output_type": "stream",
     "text": [
      "epoch: 6, [batch: 756 / 2520], examples_per_second: 3181.6895, train_label_loss: 0.2109, \n"
     ]
    },
    {
     "name": "stdout",
     "output_type": "stream",
     "text": [
      "epoch: 6, [batch: 1008 / 2520], examples_per_second: 3165.2616, train_label_loss: 0.0913, \n"
     ]
    },
    {
     "name": "stdout",
     "output_type": "stream",
     "text": [
      "epoch: 6, [batch: 1260 / 2520], examples_per_second: 3199.2965, train_label_loss: 0.1732, \n"
     ]
    },
    {
     "name": "stdout",
     "output_type": "stream",
     "text": [
      "epoch: 6, [batch: 1512 / 2520], examples_per_second: 3197.5223, train_label_loss: 0.2016, \n"
     ]
    },
    {
     "name": "stdout",
     "output_type": "stream",
     "text": [
      "epoch: 6, [batch: 1764 / 2520], examples_per_second: 3190.6381, train_label_loss: 0.4313, \n"
     ]
    },
    {
     "name": "stdout",
     "output_type": "stream",
     "text": [
      "epoch: 6, [batch: 2016 / 2520], examples_per_second: 3202.6645, train_label_loss: 0.2448, \n"
     ]
    },
    {
     "name": "stdout",
     "output_type": "stream",
     "text": [
      "epoch: 6, [batch: 2268 / 2520], examples_per_second: 3190.7364, train_label_loss: 0.1706, \n"
     ]
    },
    {
     "name": "stdout",
     "output_type": "stream",
     "text": [
      "=============================================================\n",
      "epoch: 6, source_val_acc_label: 0.7806, target_val_acc_label: 0.6711, source_val_label_loss: 0.6578, target_val_label_loss: 0.9592, \n",
      "=============================================================\n"
     ]
    },
    {
     "name": "stdout",
     "output_type": "stream",
     "text": [
      "epoch: 7, [batch: 1 / 2520], examples_per_second: 11.1401, train_label_loss: 0.1663, \n"
     ]
    },
    {
     "name": "stdout",
     "output_type": "stream",
     "text": [
      "epoch: 7, [batch: 252 / 2520], examples_per_second: 3205.3191, train_label_loss: 0.0404, \n"
     ]
    },
    {
     "name": "stdout",
     "output_type": "stream",
     "text": [
      "epoch: 7, [batch: 504 / 2520], examples_per_second: 3192.3562, train_label_loss: 0.0384, \n"
     ]
    },
    {
     "name": "stdout",
     "output_type": "stream",
     "text": [
      "epoch: 7, [batch: 756 / 2520], examples_per_second: 3200.0890, train_label_loss: 0.1052, \n"
     ]
    },
    {
     "name": "stdout",
     "output_type": "stream",
     "text": [
      "epoch: 7, [batch: 1008 / 2520], examples_per_second: 3199.0838, train_label_loss: 0.2724, \n"
     ]
    },
    {
     "name": "stdout",
     "output_type": "stream",
     "text": [
      "epoch: 7, [batch: 1260 / 2520], examples_per_second: 3189.3118, train_label_loss: 0.3227, \n"
     ]
    },
    {
     "name": "stdout",
     "output_type": "stream",
     "text": [
      "epoch: 7, [batch: 1512 / 2520], examples_per_second: 3194.3315, train_label_loss: 0.2253, \n"
     ]
    },
    {
     "name": "stdout",
     "output_type": "stream",
     "text": [
      "epoch: 7, [batch: 1764 / 2520], examples_per_second: 3189.7872, train_label_loss: 0.1955, \n"
     ]
    },
    {
     "name": "stdout",
     "output_type": "stream",
     "text": [
      "epoch: 7, [batch: 2016 / 2520], examples_per_second: 3208.0828, train_label_loss: 0.0766, \n"
     ]
    },
    {
     "name": "stdout",
     "output_type": "stream",
     "text": [
      "epoch: 7, [batch: 2268 / 2520], examples_per_second: 3210.6955, train_label_loss: 0.4631, \n"
     ]
    },
    {
     "name": "stdout",
     "output_type": "stream",
     "text": [
      "=============================================================\n",
      "epoch: 7, source_val_acc_label: 0.7798, target_val_acc_label: 0.6814, source_val_label_loss: 0.7161, target_val_label_loss: 0.9724, \n",
      "=============================================================\n"
     ]
    },
    {
     "name": "stdout",
     "output_type": "stream",
     "text": [
      "New best\n"
     ]
    },
    {
     "name": "stdout",
     "output_type": "stream",
     "text": [
      "epoch: 8, [batch: 1 / 2520], examples_per_second: 11.1918, train_label_loss: 0.1509, \n"
     ]
    },
    {
     "name": "stdout",
     "output_type": "stream",
     "text": [
      "epoch: 8, [batch: 252 / 2520], examples_per_second: 3191.2900, train_label_loss: 0.0389, \n"
     ]
    },
    {
     "name": "stdout",
     "output_type": "stream",
     "text": [
      "epoch: 8, [batch: 504 / 2520], examples_per_second: 3194.4079, train_label_loss: 0.0630, \n"
     ]
    },
    {
     "name": "stdout",
     "output_type": "stream",
     "text": [
      "epoch: 8, [batch: 756 / 2520], examples_per_second: 3203.6197, train_label_loss: 0.3535, \n"
     ]
    },
    {
     "name": "stdout",
     "output_type": "stream",
     "text": [
      "epoch: 8, [batch: 1008 / 2520], examples_per_second: 3175.3520, train_label_loss: 0.1536, \n"
     ]
    },
    {
     "name": "stdout",
     "output_type": "stream",
     "text": [
      "epoch: 8, [batch: 1260 / 2520], examples_per_second: 3194.6280, train_label_loss: 0.1004, \n"
     ]
    },
    {
     "name": "stdout",
     "output_type": "stream",
     "text": [
      "epoch: 8, [batch: 1512 / 2520], examples_per_second: 3188.2848, train_label_loss: 0.2570, \n"
     ]
    },
    {
     "name": "stdout",
     "output_type": "stream",
     "text": [
      "epoch: 8, [batch: 1764 / 2520], examples_per_second: 3186.0958, train_label_loss: 0.0859, \n"
     ]
    },
    {
     "name": "stdout",
     "output_type": "stream",
     "text": [
      "epoch: 8, [batch: 2016 / 2520], examples_per_second: 3204.0973, train_label_loss: 0.2323, \n"
     ]
    },
    {
     "name": "stdout",
     "output_type": "stream",
     "text": [
      "epoch: 8, [batch: 2268 / 2520], examples_per_second: 3212.2460, train_label_loss: 0.3429, \n"
     ]
    },
    {
     "name": "stdout",
     "output_type": "stream",
     "text": [
      "=============================================================\n",
      "epoch: 8, source_val_acc_label: 0.7812, target_val_acc_label: 0.6802, source_val_label_loss: 0.7520, target_val_label_loss: 1.0023, \n",
      "=============================================================\n"
     ]
    },
    {
     "name": "stdout",
     "output_type": "stream",
     "text": [
      "epoch: 9, [batch: 1 / 2520], examples_per_second: 11.2120, train_label_loss: 0.3389, \n"
     ]
    },
    {
     "name": "stdout",
     "output_type": "stream",
     "text": [
      "epoch: 9, [batch: 252 / 2520], examples_per_second: 3196.3001, train_label_loss: 0.0535, \n"
     ]
    },
    {
     "name": "stdout",
     "output_type": "stream",
     "text": [
      "epoch: 9, [batch: 504 / 2520], examples_per_second: 3203.1601, train_label_loss: 0.0728, \n"
     ]
    },
    {
     "name": "stdout",
     "output_type": "stream",
     "text": [
      "epoch: 9, [batch: 756 / 2520], examples_per_second: 3204.8177, train_label_loss: 0.2774, \n"
     ]
    },
    {
     "name": "stdout",
     "output_type": "stream",
     "text": [
      "epoch: 9, [batch: 1008 / 2520], examples_per_second: 3179.9170, train_label_loss: 0.0951, \n"
     ]
    },
    {
     "name": "stdout",
     "output_type": "stream",
     "text": [
      "epoch: 9, [batch: 1260 / 2520], examples_per_second: 3191.6135, train_label_loss: 0.0543, \n"
     ]
    },
    {
     "name": "stdout",
     "output_type": "stream",
     "text": [
      "epoch: 9, [batch: 1512 / 2520], examples_per_second: 3183.4537, train_label_loss: 0.3602, \n"
     ]
    },
    {
     "name": "stdout",
     "output_type": "stream",
     "text": [
      "epoch: 9, [batch: 1764 / 2520], examples_per_second: 3168.6950, train_label_loss: 0.1359, \n"
     ]
    },
    {
     "name": "stdout",
     "output_type": "stream",
     "text": [
      "epoch: 9, [batch: 2016 / 2520], examples_per_second: 3183.7474, train_label_loss: 0.0469, \n"
     ]
    },
    {
     "name": "stdout",
     "output_type": "stream",
     "text": [
      "epoch: 9, [batch: 2268 / 2520], examples_per_second: 3196.5161, train_label_loss: 0.0176, \n"
     ]
    },
    {
     "name": "stdout",
     "output_type": "stream",
     "text": [
      "=============================================================\n",
      "epoch: 9, source_val_acc_label: 0.7766, target_val_acc_label: 0.6802, source_val_label_loss: 0.7833, target_val_label_loss: 1.0141, \n",
      "=============================================================\n"
     ]
    },
    {
     "name": "stdout",
     "output_type": "stream",
     "text": [
      "epoch: 10, [batch: 1 / 2520], examples_per_second: 11.1431, train_label_loss: 0.0874, \n"
     ]
    },
    {
     "name": "stdout",
     "output_type": "stream",
     "text": [
      "epoch: 10, [batch: 252 / 2520], examples_per_second: 3192.1702, train_label_loss: 0.0960, \n"
     ]
    },
    {
     "name": "stdout",
     "output_type": "stream",
     "text": [
      "epoch: 10, [batch: 504 / 2520], examples_per_second: 3175.5231, train_label_loss: 0.1108, \n"
     ]
    },
    {
     "name": "stdout",
     "output_type": "stream",
     "text": [
      "epoch: 10, [batch: 756 / 2520], examples_per_second: 3185.9205, train_label_loss: 0.0446, \n"
     ]
    },
    {
     "name": "stdout",
     "output_type": "stream",
     "text": [
      "epoch: 10, [batch: 1008 / 2520], examples_per_second: 3164.7174, train_label_loss: 0.1188, \n"
     ]
    },
    {
     "name": "stdout",
     "output_type": "stream",
     "text": [
      "epoch: 10, [batch: 1260 / 2520], examples_per_second: 3185.0467, train_label_loss: 0.0276, \n"
     ]
    },
    {
     "name": "stdout",
     "output_type": "stream",
     "text": [
      "epoch: 10, [batch: 1512 / 2520], examples_per_second: 3200.3940, train_label_loss: 0.1040, \n"
     ]
    },
    {
     "name": "stdout",
     "output_type": "stream",
     "text": [
      "epoch: 10, [batch: 1764 / 2520], examples_per_second: 3173.4389, train_label_loss: 0.0752, \n"
     ]
    },
    {
     "name": "stdout",
     "output_type": "stream",
     "text": [
      "epoch: 10, [batch: 2016 / 2520], examples_per_second: 3209.9074, train_label_loss: 0.0596, \n"
     ]
    },
    {
     "name": "stdout",
     "output_type": "stream",
     "text": [
      "epoch: 10, [batch: 2268 / 2520], examples_per_second: 3185.3538, train_label_loss: 0.1500, \n"
     ]
    },
    {
     "name": "stdout",
     "output_type": "stream",
     "text": [
      "=============================================================\n",
      "epoch: 10, source_val_acc_label: 0.7769, target_val_acc_label: 0.6715, source_val_label_loss: 0.8622, target_val_label_loss: 1.1104, \n",
      "=============================================================\n"
     ]
    },
    {
     "name": "stdout",
     "output_type": "stream",
     "text": [
      "epoch: 11, [batch: 1 / 2520], examples_per_second: 11.2436, train_label_loss: 0.2844, \n"
     ]
    },
    {
     "name": "stdout",
     "output_type": "stream",
     "text": [
      "epoch: 11, [batch: 252 / 2520], examples_per_second: 3191.8682, train_label_loss: 0.1012, \n"
     ]
    },
    {
     "name": "stdout",
     "output_type": "stream",
     "text": [
      "epoch: 11, [batch: 504 / 2520], examples_per_second: 3202.4714, train_label_loss: 0.7026, \n"
     ]
    },
    {
     "name": "stdout",
     "output_type": "stream",
     "text": [
      "epoch: 11, [batch: 756 / 2520], examples_per_second: 3206.2556, train_label_loss: 0.1307, \n"
     ]
    },
    {
     "name": "stdout",
     "output_type": "stream",
     "text": [
      "epoch: 11, [batch: 1008 / 2520], examples_per_second: 3191.4012, train_label_loss: 0.0521, \n"
     ]
    },
    {
     "name": "stdout",
     "output_type": "stream",
     "text": [
      "epoch: 11, [batch: 1260 / 2520], examples_per_second: 3187.8918, train_label_loss: 0.0069, \n"
     ]
    },
    {
     "name": "stdout",
     "output_type": "stream",
     "text": [
      "epoch: 11, [batch: 1512 / 2520], examples_per_second: 3198.4438, train_label_loss: 0.0798, \n"
     ]
    },
    {
     "name": "stdout",
     "output_type": "stream",
     "text": [
      "epoch: 11, [batch: 1764 / 2520], examples_per_second: 3191.5736, train_label_loss: 0.0373, \n"
     ]
    },
    {
     "name": "stdout",
     "output_type": "stream",
     "text": [
      "epoch: 11, [batch: 2016 / 2520], examples_per_second: 3197.5764, train_label_loss: 0.0763, \n"
     ]
    },
    {
     "name": "stdout",
     "output_type": "stream",
     "text": [
      "epoch: 11, [batch: 2268 / 2520], examples_per_second: 3205.3035, train_label_loss: 0.1904, \n"
     ]
    },
    {
     "name": "stdout",
     "output_type": "stream",
     "text": [
      "=============================================================\n",
      "epoch: 11, source_val_acc_label: 0.7773, target_val_acc_label: 0.6733, source_val_label_loss: 0.9197, target_val_label_loss: 1.1381, \n",
      "=============================================================\n"
     ]
    },
    {
     "name": "stdout",
     "output_type": "stream",
     "text": [
      "Patience (3) exhausted\n"
     ]
    }
   ],
   "source": [
    "###################################\n",
    "# train\n",
    "###################################\n",
    "jig = PTN_Train_Eval_Test_Jig(model, p.BEST_MODEL_PATH, p.device)\n",
    "\n",
    "jig.train(\n",
    "    train_iterable=datasets.source.processed.train,\n",
    "    source_val_iterable=datasets.source.processed.val,\n",
    "    target_val_iterable=datasets.target.processed.val,\n",
    "    num_epochs=p.n_epoch,\n",
    "    num_logs_per_epoch=p.NUM_LOGS_PER_EPOCH,\n",
    "    patience=p.patience,\n",
    "    optimizer=optimizer,\n",
    "    criteria_for_best=p.criteria_for_best,\n",
    ")"
   ]
  },
  {
   "cell_type": "code",
   "execution_count": 14,
   "id": "31e8fabf",
   "metadata": {
    "execution": {
     "iopub.execute_input": "2022-04-01T21:47:07.878434Z",
     "iopub.status.busy": "2022-04-01T21:47:07.878185Z",
     "iopub.status.idle": "2022-04-01T21:47:07.897748Z",
     "shell.execute_reply": "2022-04-01T21:47:07.898116Z"
    },
    "papermill": {
     "duration": 0.055272,
     "end_time": "2022-04-01T21:47:07.898217",
     "exception": false,
     "start_time": "2022-04-01T21:47:07.842945",
     "status": "completed"
    },
    "tags": []
   },
   "outputs": [],
   "source": [
    "total_experiment_time_secs = time.time() - start_time_secs"
   ]
  },
  {
   "cell_type": "code",
   "execution_count": 15,
   "id": "87b9595b",
   "metadata": {
    "execution": {
     "iopub.execute_input": "2022-04-01T21:47:07.971574Z",
     "iopub.status.busy": "2022-04-01T21:47:07.971315Z",
     "iopub.status.idle": "2022-04-01T21:47:56.534444Z",
     "shell.execute_reply": "2022-04-01T21:47:56.534832Z"
    },
    "papermill": {
     "duration": 48.602279,
     "end_time": "2022-04-01T21:47:56.534968",
     "exception": false,
     "start_time": "2022-04-01T21:47:07.932689",
     "status": "completed"
    },
    "tags": []
   },
   "outputs": [],
   "source": [
    "###################################\n",
    "# Evaluate the model\n",
    "###################################\n",
    "source_test_label_accuracy, source_test_label_loss = jig.test(datasets.source.processed.test)\n",
    "target_test_label_accuracy, target_test_label_loss = jig.test(datasets.target.processed.test)\n",
    "\n",
    "source_val_label_accuracy, source_val_label_loss = jig.test(datasets.source.processed.val)\n",
    "target_val_label_accuracy, target_val_label_loss = jig.test(datasets.target.processed.val)\n",
    "\n",
    "history = jig.get_history()\n",
    "\n",
    "total_epochs_trained = len(history[\"epoch_indices\"])\n",
    "\n",
    "val_dl = Iterable_Aggregator((datasets.source.original.val,datasets.target.original.val))\n",
    "\n",
    "confusion = ptn_confusion_by_domain_over_dataloader(model, p.device, val_dl)\n",
    "per_domain_accuracy = per_domain_accuracy_from_confusion(confusion)\n",
    "\n",
    "# Add a key to per_domain_accuracy for if it was a source domain\n",
    "for domain, accuracy in per_domain_accuracy.items():\n",
    "    per_domain_accuracy[domain] = {\n",
    "        \"accuracy\": accuracy,\n",
    "        \"source?\": domain in p.domains_source\n",
    "    }\n",
    "\n",
    "# Do an independent accuracy assesment JUST TO BE SURE!\n",
    "# _source_test_label_accuracy = independent_accuracy_assesment(model, datasets.source.processed.test, p.device)\n",
    "# _target_test_label_accuracy = independent_accuracy_assesment(model, datasets.target.processed.test, p.device)\n",
    "# _source_val_label_accuracy = independent_accuracy_assesment(model, datasets.source.processed.val, p.device)\n",
    "# _target_val_label_accuracy = independent_accuracy_assesment(model, datasets.target.processed.val, p.device)\n",
    "\n",
    "# assert(_source_test_label_accuracy == source_test_label_accuracy)\n",
    "# assert(_target_test_label_accuracy == target_test_label_accuracy)\n",
    "# assert(_source_val_label_accuracy == source_val_label_accuracy)\n",
    "# assert(_target_val_label_accuracy == target_val_label_accuracy)\n",
    "\n",
    "experiment = {\n",
    "    \"experiment_name\": p.experiment_name,\n",
    "    \"parameters\": dict(p),\n",
    "    \"results\": {\n",
    "        \"source_test_label_accuracy\": source_test_label_accuracy,\n",
    "        \"source_test_label_loss\": source_test_label_loss,\n",
    "        \"target_test_label_accuracy\": target_test_label_accuracy,\n",
    "        \"target_test_label_loss\": target_test_label_loss,\n",
    "        \"source_val_label_accuracy\": source_val_label_accuracy,\n",
    "        \"source_val_label_loss\": source_val_label_loss,\n",
    "        \"target_val_label_accuracy\": target_val_label_accuracy,\n",
    "        \"target_val_label_loss\": target_val_label_loss,\n",
    "        \"total_epochs_trained\": total_epochs_trained,\n",
    "        \"total_experiment_time_secs\": total_experiment_time_secs,\n",
    "        \"confusion\": confusion,\n",
    "        \"per_domain_accuracy\": per_domain_accuracy,\n",
    "    },\n",
    "    \"history\": history,\n",
    "    \"dataset_metrics\": get_dataset_metrics(datasets, \"ptn\"),\n",
    "}"
   ]
  },
  {
   "cell_type": "code",
   "execution_count": 16,
   "id": "54a21829",
   "metadata": {
    "execution": {
     "iopub.execute_input": "2022-04-01T21:47:56.608958Z",
     "iopub.status.busy": "2022-04-01T21:47:56.608701Z",
     "iopub.status.idle": "2022-04-01T21:47:56.735988Z",
     "shell.execute_reply": "2022-04-01T21:47:56.735569Z"
    },
    "papermill": {
     "duration": 0.161699,
     "end_time": "2022-04-01T21:47:56.736078",
     "exception": false,
     "start_time": "2022-04-01T21:47:56.574379",
     "status": "completed"
    },
    "tags": []
   },
   "outputs": [
    {
     "data": {
      "image/png": "[encoded data removed]",
      "text/plain": [
       "<Figure size 1080x504 with 1 Axes>"
      ]
     },
     "metadata": {
      "needs_background": "light"
     },
     "output_type": "display_data"
    }
   ],
   "source": [
    "ax = get_loss_curve(experiment)\n",
    "plt.show()"
   ]
  },
  {
   "cell_type": "code",
   "execution_count": 17,
   "id": "fd8a0f60",
   "metadata": {
    "execution": {
     "iopub.execute_input": "2022-04-01T21:47:56.808988Z",
     "iopub.status.busy": "2022-04-01T21:47:56.808741Z",
     "iopub.status.idle": "2022-04-01T21:47:56.952537Z",
     "shell.execute_reply": "2022-04-01T21:47:56.952748Z"
    },
    "papermill": {
     "duration": 0.179662,
     "end_time": "2022-04-01T21:47:56.952808",
     "exception": false,
     "start_time": "2022-04-01T21:47:56.773146",
     "status": "completed"
    },
    "tags": []
   },
   "outputs": [
    {
     "data": {
      "text/plain": [
       "<AxesSubplot:title={'center':'Results'}>"
      ]
     },
     "execution_count": 17,
     "metadata": {},
     "output_type": "execute_result"
    },
    {
     "data": {
      "image/png": "[encoded data removed]",
      "text/plain": [
       "<Figure size 1080x504 with 1 Axes>"
      ]
     },
     "metadata": {
      "needs_background": "light"
     },
     "output_type": "display_data"
    }
   ],
   "source": [
    "get_results_table(experiment)"
   ]
  },
  {
   "cell_type": "code",
   "execution_count": 18,
   "id": "cf8dc689",
   "metadata": {
    "execution": {
     "iopub.execute_input": "2022-04-01T21:47:57.026928Z",
     "iopub.status.busy": "2022-04-01T21:47:57.026666Z",
     "iopub.status.idle": "2022-04-01T21:47:57.144199Z",
     "shell.execute_reply": "2022-04-01T21:47:57.143784Z"
    },
    "papermill": {
     "duration": 0.155242,
     "end_time": "2022-04-01T21:47:57.144292",
     "exception": false,
     "start_time": "2022-04-01T21:47:56.989050",
     "status": "completed"
    },
    "tags": []
   },
   "outputs": [
    {
     "data": {
      "text/plain": [
       "<AxesSubplot:title={'center':'Per Domain Validation Accuracy'}, xlabel='domain'>"
      ]
     },
     "execution_count": 18,
     "metadata": {},
     "output_type": "execute_result"
    },
    {
     "data": {
      "image/png": "[encoded data removed]",
      "text/plain": [
       "<Figure size 1080x504 with 1 Axes>"
      ]
     },
     "metadata": {
      "needs_background": "light"
     },
     "output_type": "display_data"
    }
   ],
   "source": [
    "get_domain_accuracies(experiment)"
   ]
  },
  {
   "cell_type": "code",
   "execution_count": 19,
   "id": "a74ae082",
   "metadata": {
    "execution": {
     "iopub.execute_input": "2022-04-01T21:47:57.222006Z",
     "iopub.status.busy": "2022-04-01T21:47:57.221755Z",
     "iopub.status.idle": "2022-04-01T21:47:57.237802Z",
     "shell.execute_reply": "2022-04-01T21:47:57.237398Z"
    },
    "papermill": {
     "duration": 0.054282,
     "end_time": "2022-04-01T21:47:57.237893",
     "exception": false,
     "start_time": "2022-04-01T21:47:57.183611",
     "status": "completed"
    },
    "tags": []
   },
   "outputs": [
    {
     "name": "stdout",
     "output_type": "stream",
     "text": [
      "Source Test Label Accuracy: 0.7868923611111112 Target Test Label Accuracy: 0.6783333333333333\n",
      "Source Val Label Accuracy: 0.7797743055555556 Target Val Label Accuracy: 0.6813541666666667\n"
     ]
    }
   ],
   "source": [
    "print(\"Source Test Label Accuracy:\", experiment[\"results\"][\"source_test_label_accuracy\"], \"Target Test Label Accuracy:\", experiment[\"results\"][\"target_test_label_accuracy\"])\n",
    "print(\"Source Val Label Accuracy:\", experiment[\"results\"][\"source_val_label_accuracy\"], \"Target Val Label Accuracy:\", experiment[\"results\"][\"target_val_label_accuracy\"])"
   ]
  },
  {
   "cell_type": "code",
   "execution_count": 20,
   "id": "dacca602",
   "metadata": {
    "execution": {
     "iopub.execute_input": "2022-04-01T21:47:57.316094Z",
     "iopub.status.busy": "2022-04-01T21:47:57.315849Z",
     "iopub.status.idle": "2022-04-01T21:47:57.326527Z",
     "shell.execute_reply": "2022-04-01T21:47:57.326732Z"
    },
    "papermill": {
     "duration": 0.048332,
     "end_time": "2022-04-01T21:47:57.326790",
     "exception": false,
     "start_time": "2022-04-01T21:47:57.278458",
     "status": "completed"
    },
    "tags": [
     "experiment_json"
    ]
   },
   "outputs": [
    {
     "data": {
      "text/plain": [
       "'{\"experiment_name\": \"tuned_1v2:oracle.run1_limited\", \"parameters\": {\"experiment_name\": \"tuned_1v2:oracle.run1_limited\", \"device\": \"cuda\", \"lr\": 0.0001, \"labels_source\": [\"3123D52\", \"3123D65\", \"3123D79\", \"3123D80\", \"3123D54\", \"3123D70\", \"3123D7B\", \"3123D89\", \"3123D58\", \"3123D76\", \"3123D7D\", \"3123EFE\", \"3123D64\", \"3123D78\", \"3123D7E\", \"3124E4A\"], \"labels_target\": [\"3123D52\", \"3123D65\", \"3123D79\", \"3123D80\", \"3123D54\", \"3123D70\", \"3123D7B\", \"3123D89\", \"3123D58\", \"3123D76\", \"3123D7D\", \"3123EFE\", \"3123D64\", \"3123D78\", \"3123D7E\", \"3124E4A\"], \"episode_transforms_source\": [], \"episode_transforms_target\": [], \"domains_source\": [8, 32, 50], \"domains_target\": [14, 20, 26, 38, 44], \"num_examples_per_domain_per_label_source\": 2000, \"num_examples_per_domain_per_label_target\": 2000, \"n_shot\": 3, \"n_way\": 16, \"n_query\": 2, \"train_k_factor\": 3, \"val_k_factor\": 2, \"test_k_factor\": 2, \"torch_default_dtype\": \"torch.float32\", \"n_epoch\": 50, \"patience\": 3, \"criteria_for_best\": \"target_accuracy\", \"x_net\": [{\"class\": \"nnReshape\", \"kargs\": {\"shape\": [-1, 1, 2, 256]}}, {\"class\": \"Conv2d\", \"kargs\": {\"in_channels\": 1, \"out_channels\": 256, \"kernel_size\": [1, 7], \"bias\": false, \"padding\": [0, 3]}}, {\"class\": \"ReLU\", \"kargs\": {\"inplace\": true}}, {\"class\": \"BatchNorm2d\", \"kargs\": {\"num_features\": 256}}, {\"class\": \"Conv2d\", \"kargs\": {\"in_channels\": 256, \"out_channels\": 80, \"kernel_size\": [2, 7], \"bias\": true, \"padding\": [0, 3]}}, {\"class\": \"ReLU\", \"kargs\": {\"inplace\": true}}, {\"class\": \"BatchNorm2d\", \"kargs\": {\"num_features\": 80}}, {\"class\": \"Flatten\", \"kargs\": {}}, {\"class\": \"Linear\", \"kargs\": {\"in_features\": 20480, \"out_features\": 256}}, {\"class\": \"ReLU\", \"kargs\": {\"inplace\": true}}, {\"class\": \"BatchNorm1d\", \"kargs\": {\"num_features\": 256}}, {\"class\": \"Linear\", \"kargs\": {\"in_features\": 256, \"out_features\": 256}}], \"NUM_LOGS_PER_EPOCH\": 10, \"BEST_MODEL_PATH\": \"./best_model.pth\", \"pickle_name\": \"oracle.Run1_10kExamples_stratified_ds.2022A.pkl\", \"x_transforms_source\": [], \"x_transforms_target\": [], \"dataset_seed\": 500, \"seed\": 500}, \"results\": {\"source_test_label_accuracy\": 0.7868923611111112, \"source_test_label_loss\": 0.6990127563476562, \"target_test_label_accuracy\": 0.6783333333333333, \"target_test_label_loss\": 0.963883101940155, \"source_val_label_accuracy\": 0.7797743055555556, \"source_val_label_loss\": 0.7161062359809875, \"target_val_label_accuracy\": 0.6813541666666667, \"target_val_label_loss\": 0.97242271900177, \"total_epochs_trained\": 11, \"total_experiment_time_secs\": 788.5273997783661, \"confusion\": {\"8\": {\"7\": {\"7\": 164, \"6\": 57, \"13\": 19}, \"10\": {\"13\": 44, \"10\": 104, \"1\": 57, \"5\": 20, \"11\": 7, \"6\": 5, \"4\": 2, \"7\": 1}, \"0\": {\"0\": 240}, \"11\": {\"11\": 100, \"6\": 4, \"1\": 64, \"5\": 9, \"10\": 12, \"4\": 26, \"14\": 22, \"8\": 2, \"13\": 1}, \"2\": {\"2\": 157, \"12\": 18, \"3\": 39, \"15\": 26}, \"14\": {\"14\": 199, \"4\": 20, \"1\": 1, \"11\": 16, \"8\": 4}, \"9\": {\"9\": 240}, \"13\": {\"7\": 36, \"10\": 41, \"13\": 145, \"6\": 15, \"5\": 3}, \"8\": {\"8\": 173, \"7\": 6, \"4\": 33, \"6\": 23, \"1\": 1, \"14\": 3, \"11\": 1}, \"15\": {\"15\": 183, \"2\": 10, \"12\": 47}, \"4\": {\"6\": 19, \"4\": 148, \"7\": 1, \"14\": 12, \"8\": 34, \"11\": 21, \"1\": 5}, \"5\": {\"1\": 38, \"5\": 160, \"10\": 30, \"11\": 11, \"13\": 1}, \"3\": {\"3\": 236, \"2\": 4}, \"1\": {\"1\": 115, \"5\": 27, \"11\": 48, \"10\": 38, \"13\": 2, \"4\": 6, \"6\": 4}, \"6\": {\"6\": 142, \"7\": 56, \"4\": 12, \"8\": 9, \"10\": 8, \"1\": 2, \"13\": 9, \"11\": 2}, \"12\": {\"12\": 177, \"15\": 56, \"2\": 7}}, \"50\": {\"11\": {\"9\": 15, \"11\": 207, \"15\": 5, \"12\": 13}, \"2\": {\"2\": 221, \"0\": 18, \"14\": 1}, \"12\": {\"12\": 204, \"11\": 6, \"9\": 30}, \"8\": {\"8\": 234, \"10\": 6}, \"4\": {\"4\": 174, \"7\": 41, \"5\": 8, \"15\": 9, \"6\": 8}, \"10\": {\"10\": 232, \"8\": 4, \"0\": 4}, \"14\": {\"14\": 240}, \"13\": {\"13\": 238, \"1\": 1, \"5\": 1}, \"6\": {\"6\": 169, \"15\": 29, \"5\": 40, \"7\": 2}, \"9\": {\"9\": 185, \"12\": 38, \"11\": 14, \"15\": 3}, \"15\": {\"15\": 197, \"6\": 27, \"9\": 4, \"5\": 3, \"11\": 6, \"4\": 3}, \"1\": {\"1\": 225, \"13\": 13, \"2\": 1, \"0\": 1}, \"3\": {\"3\": 240}, \"7\": {\"7\": 204, \"4\": 13, \"5\": 22, \"6\": 1}, \"0\": {\"0\": 201, \"2\": 28, \"10\": 11}, \"5\": {\"5\": 84, \"6\": 46, \"13\": 9, \"7\": 82, \"15\": 5, \"1\": 3, \"4\": 11}}, \"32\": {\"4\": {\"4\": 185, \"2\": 36, \"13\": 16, \"3\": 3}, \"14\": {\"8\": 18, \"14\": 120, \"7\": 63, \"2\": 11, \"5\": 14, \"0\": 11, \"4\": 3}, \"5\": {\"0\": 20, \"7\": 57, \"5\": 134, \"8\": 18, \"14\": 7, \"15\": 4}, \"10\": {\"10\": 240}, \"13\": {\"13\": 175, \"4\": 21, \"3\": 35, \"11\": 8, \"2\": 1}, \"9\": {\"9\": 231, \"12\": 5, \"4\": 2, \"2\": 2}, \"6\": {\"6\": 240}, \"3\": {\"3\": 215, \"13\": 24, \"4\": 1}, \"15\": {\"15\": 217, \"0\": 5, \"5\": 12, \"8\": 5, \"7\": 1}, \"7\": {\"7\": 131, \"0\": 19, \"5\": 43, \"8\": 9, \"14\": 38}, \"12\": {\"12\": 239, \"9\": 1}, \"8\": {\"8\": 104, \"14\": 19, \"7\": 24, \"0\": 54, \"5\": 14, \"2\": 19, \"4\": 5, \"15\": 1}, \"11\": {\"11\": 235, \"13\": 4, \"3\": 1}, \"2\": {\"2\": 199, \"4\": 34, \"8\": 6, \"14\": 1}, \"1\": {\"1\": 240}, \"0\": {\"7\": 28, \"8\": 48, \"2\": 1, \"0\": 140, \"14\": 10, \"5\": 12, \"15\": 1}}, \"20\": {\"7\": {\"7\": 80, \"12\": 10, \"9\": 30, \"2\": 46, \"3\": 6, \"6\": 22, \"4\": 8, \"14\": 12, \"15\": 3, \"13\": 12, \"10\": 1, \"8\": 8, \"5\": 2}, \"10\": {\"10\": 194, \"4\": 22, \"13\": 18, \"12\": 2, \"6\": 2, \"2\": 2}, \"0\": {\"8\": 3, \"0\": 223, \"5\": 6, \"1\": 2, \"3\": 6}, \"11\": {\"11\": 240}, \"2\": {\"2\": 51, \"4\": 22, \"9\": 20, \"13\": 40, \"15\": 15, \"10\": 1, \"6\": 12, \"12\": 30, \"8\": 1, \"7\": 38, \"1\": 3, \"3\": 2, \"14\": 3, \"5\": 2}, \"14\": {\"14\": 143, \"7\": 11, \"9\": 11, \"8\": 53, \"6\": 14, \"5\": 1, \"2\": 2, \"3\": 5}, \"9\": {\"1\": 24, \"14\": 7, \"6\": 3, \"15\": 9, \"7\": 23, \"12\": 12, \"9\": 69, \"3\": 30, \"5\": 23, \"2\": 21, \"8\": 16, \"13\": 1, \"4\": 2}, \"13\": {\"4\": 30, \"2\": 42, \"13\": 107, \"9\": 2, \"6\": 3, \"10\": 12, \"15\": 7, \"12\": 23, \"7\": 13, \"1\": 1}, \"8\": {\"3\": 42, \"14\": 44, \"8\": 105, \"9\": 24, \"7\": 8, \"1\": 5, \"5\": 8, \"0\": 3, \"2\": 1}, \"15\": {\"12\": 55, \"15\": 84, \"13\": 10, \"4\": 13, \"1\": 33, \"3\": 7, \"2\": 9, \"5\": 10, \"9\": 16, \"7\": 3}, \"4\": {\"12\": 37, \"4\": 105, \"15\": 14, \"10\": 24, \"13\": 24, \"2\": 27, \"6\": 2, \"9\": 3, \"7\": 3, \"5\": 1}, \"5\": {\"5\": 92, \"3\": 44, \"8\": 9, \"9\": 21, \"1\": 61, \"2\": 4, \"4\": 1, \"15\": 4, \"0\": 2, \"7\": 1, \"12\": 1}, \"3\": {\"5\": 42, \"3\": 70, \"1\": 29, \"14\": 6, \"8\": 35, \"9\": 40, \"2\": 4, \"0\": 6, \"15\": 2, \"12\": 5, \"7\": 1}, \"1\": {\"15\": 23, \"1\": 66, \"9\": 32, \"3\": 26, \"5\": 71, \"12\": 10, \"8\": 4, \"2\": 3, \"4\": 1, \"7\": 3, \"13\": 1}, \"6\": {\"7\": 41, \"6\": 165, \"4\": 3, \"14\": 16, \"2\": 8, \"9\": 1, \"10\": 3, \"1\": 1, \"13\": 2}, \"12\": {\"12\": 71, \"2\": 26, \"15\": 54, \"7\": 5, \"4\": 50, \"13\": 17, \"9\": 8, \"1\": 8, \"5\": 1}}, \"14\": {\"14\": {\"14\": 127, \"13\": 40, \"2\": 27, \"5\": 6, \"8\": 7, \"3\": 9, \"6\": 13, \"0\": 9, \"4\": 2}, \"6\": {\"6\": 83, \"2\": 19, \"8\": 1, \"3\": 42, \"13\": 63, \"7\": 2, \"14\": 21, \"5\": 8, \"0\": 1}, \"5\": {\"2\": 54, \"5\": 137, \"14\": 17, \"7\": 14, \"6\": 3, \"13\": 6, \"4\": 5, \"8\": 4}, \"15\": {\"15\": 240}, \"11\": {\"11\": 240}, \"8\": {\"8\": 182, \"14\": 8, \"2\": 6, \"5\": 6, \"3\": 9, \"0\": 27, \"6\": 1, \"13\": 1}, \"12\": {\"12\": 240}, \"1\": {\"1\": 240}, \"2\": {\"2\": 62, \"5\": 48, \"7\": 9, \"4\": 42, \"14\": 30, \"6\": 26, \"0\": 1, \"13\": 9, \"3\": 8, \"8\": 5}, \"13\": {\"6\": 58, \"3\": 24, \"14\": 51, \"15\": 19, \"13\": 51, \"2\": 14, \"4\": 9, \"5\": 1, \"0\": 7, \"8\": 5, \"7\": 1}, \"3\": {\"3\": 145, \"6\": 46, \"13\": 22, \"5\": 2, \"7\": 1, \"2\": 3, \"8\": 7, \"0\": 7, \"14\": 7}, \"0\": {\"14\": 8, \"0\": 176, \"2\": 4, \"3\": 23, \"8\": 18, \"4\": 1, \"13\": 4, \"10\": 6}, \"9\": {\"9\": 232, \"10\": 8}, \"4\": {\"4\": 214, \"2\": 12, \"5\": 4, \"8\": 2, \"10\": 4, \"13\": 3, \"0\": 1}, \"7\": {\"7\": 226, \"5\": 11, \"6\": 2, \"2\": 1}, \"10\": {\"10\": 235, \"9\": 5}}, \"38\": {\"4\": {\"4\": 231, \"10\": 7, \"0\": 2}, \"14\": {\"14\": 183, \"2\": 56, \"13\": 1}, \"5\": {\"7\": 28, \"9\": 24, \"13\": 1, \"8\": 75, \"5\": 101, \"15\": 9, \"12\": 1, \"2\": 1}, \"10\": {\"10\": 205, \"4\": 5, \"0\": 14, \"13\": 16}, \"13\": {\"13\": 209, \"0\": 9, \"10\": 16, \"2\": 3, \"7\": 1, \"14\": 1, \"4\": 1}, \"9\": {\"9\": 234, \"5\": 4, \"8\": 1, \"0\": 1}, \"6\": {\"6\": 239, \"1\": 1}, \"3\": {\"3\": 240}, \"15\": {\"15\": 196, \"1\": 4, \"8\": 18, \"5\": 16, \"12\": 6}, \"7\": {\"7\": 231, \"5\": 3, \"8\": 3, \"0\": 1, \"13\": 1, \"9\": 1}, \"12\": {\"12\": 237, \"8\": 3}, \"8\": {\"5\": 70, \"8\": 116, \"7\": 29, \"15\": 16, \"12\": 5, \"13\": 3, \"2\": 1}, \"11\": {\"11\": 240}, \"2\": {\"2\": 196, \"14\": 41, \"13\": 2, \"8\": 1}, \"1\": {\"1\": 232, \"6\": 8}, \"0\": {\"7\": 30, \"0\": 156, \"3\": 9, \"13\": 17, \"10\": 26, \"4\": 2}}, \"44\": {\"8\": {\"8\": 149, \"0\": 60, \"15\": 16, \"5\": 15}, \"11\": {\"11\": 240}, \"14\": {\"4\": 51, \"14\": 162, \"5\": 13, \"15\": 14}, \"10\": {\"7\": 13, \"10\": 209, \"2\": 11, \"1\": 7}, \"3\": {\"3\": 221, \"12\": 19}, \"15\": {\"15\": 153, \"14\": 43, \"8\": 23, \"0\": 5, \"4\": 5, \"5\": 11}, \"2\": {\"2\": 212, \"1\": 25, \"7\": 1, \"10\": 2}, \"12\": {\"12\": 195, \"3\": 45}, \"4\": {\"4\": 133, \"14\": 75, \"15\": 12, \"6\": 2, \"5\": 4, \"9\": 11, \"13\": 3}, \"1\": {\"1\": 213, \"2\": 26, \"10\": 1}, \"0\": {\"0\": 188, \"8\": 52}, \"9\": {\"9\": 92, \"7\": 65, \"6\": 49, \"13\": 23, \"2\": 6, \"4\": 4, \"10\": 1}, \"5\": {\"5\": 193, \"4\": 1, \"8\": 8, \"14\": 17, \"0\": 2, \"15\": 19}, \"6\": {\"6\": 182, \"13\": 38, \"9\": 19, \"7\": 1}, \"7\": {\"7\": 175, \"9\": 49, \"10\": 12, \"4\": 1, \"2\": 1, \"6\": 2}, \"13\": {\"13\": 167, \"6\": 69, \"9\": 4}}, \"26\": {\"6\": {\"6\": 131, \"1\": 24, \"15\": 25, \"5\": 23, \"14\": 15, \"10\": 20, \"0\": 2}, \"11\": {\"11\": 239, \"6\": 1}, \"5\": {\"5\": 157, \"6\": 24, \"15\": 47, \"1\": 8, \"14\": 1, \"10\": 3}, \"14\": {\"0\": 30, \"1\": 21, \"14\": 73, \"10\": 67, \"15\": 22, \"6\": 24, \"5\": 3}, \"2\": {\"2\": 122, \"3\": 17, \"9\": 20, \"7\": 48, \"13\": 2, \"8\": 17, \"0\": 9, \"15\": 4, \"14\": 1}, \"7\": {\"2\": 38, \"3\": 33, \"9\": 21, \"8\": 36, \"7\": 105, \"13\": 7}, \"3\": {\"3\": 171, \"7\": 31, \"13\": 15, \"9\": 7, \"2\": 13, \"4\": 1, \"8\": 2}, \"4\": {\"4\": 232, \"3\": 2, \"13\": 6}, \"9\": {\"8\": 67, \"13\": 35, \"3\": 6, \"9\": 88, \"7\": 22, \"0\": 6, \"2\": 16}, \"12\": {\"12\": 239, \"8\": 1}, \"0\": {\"0\": 125, \"10\": 49, \"8\": 17, \"14\": 19, \"15\": 10, \"2\": 10, \"9\": 6, \"1\": 1, \"6\": 2, \"7\": 1}, \"10\": {\"0\": 47, \"10\": 84, \"14\": 57, \"6\": 23, \"15\": 22, \"5\": 2, \"1\": 5}, \"8\": {\"9\": 66, \"8\": 110, \"2\": 20, \"7\": 24, \"0\": 9, \"13\": 8, \"10\": 1, \"3\": 2}, \"13\": {\"2\": 8, \"13\": 145, \"3\": 12, \"9\": 34, \"7\": 7, \"4\": 23, \"8\": 11}, \"1\": {\"14\": 20, \"1\": 140, \"10\": 13, \"6\": 42, \"0\": 2, \"15\": 12, \"5\": 11}, \"15\": {\"6\": 27, \"15\": 96, \"14\": 19, \"2\": 3, \"5\": 67, \"1\": 8, \"10\": 15, \"0\": 5}}}, \"per_domain_accuracy\": {\"8\": {\"accuracy\": 0.6986979166666667, \"source?\": true}, \"50\": {\"accuracy\": 0.84765625, \"source?\": true}, \"32\": {\"accuracy\": 0.79296875, \"source?\": true}, \"20\": {\"accuracy\": 0.4856770833333333, \"source?\": false}, \"14\": {\"accuracy\": 0.7369791666666666, \"source?\": false}, \"38\": {\"accuracy\": 0.8453125, \"source?\": false}, \"44\": {\"accuracy\": 0.7510416666666667, \"source?\": false}, \"26\": {\"accuracy\": 0.5877604166666667, \"source?\": false}}}, \"history\": {\"epoch_indices\": [1, 2, 3, 4, 5, 6, 7, 8, 9, 10, 11], \"train_label_loss\": [1.0925946977758219, 0.6983253718782512, 0.5196188731858181, 0.424161062781359, 0.33134219110721636, 0.26216644610995277, 0.2128849574697337, 0.17295169161507, 0.14538431350984388, 0.12075236076627681, 0.10915127667346193], \"source_val_label_loss\": [1.8870548009872437, 0.6878392696380615, 0.6442369818687439, 0.6529065370559692, 0.6357974410057068, 0.6577501893043518, 0.7161062359809875, 0.7519899606704712, 0.7833307385444641, 0.862189531326294, 0.9196870923042297], \"target_val_label_loss\": [2.024515390396118, 0.9861633777618408, 0.942993700504303, 0.9570486545562744, 0.9072527289390564, 0.9591665863990784, 0.97242271900177, 1.0022614002227783, 1.0140931606292725, 1.1103706359863281, 1.1380641460418701], \"source_val_acc_label\": [0.6677083333333333, 0.7440104166666667, 0.7614583333333333, 0.7657118055555555, 0.7762152777777778, 0.7806423611111111, 0.7797743055555556, 0.78125, 0.7766493055555556, 0.7769097222222222, 0.7772569444444445], \"target_val_acc_label\": [0.54375, 0.6361458333333333, 0.6594791666666666, 0.6596875, 0.67875, 0.67109375, 0.6813541666666667, 0.68015625, 0.68015625, 0.6714583333333334, 0.67328125]}, \"dataset_metrics\": {\"source\": {\"train\": {\"n_unique_x\": 67200, \"n_unique_y\": 16, \"n_batch/episode\": 2520}, \"val\": {\"n_unique_x\": 14400, \"n_unique_y\": 16, \"n_batch/episode\": 360}, \"test\": {\"n_unique_x\": 14400, \"n_unique_y\": 16, \"n_batch/episode\": 360}}, \"target\": {\"train\": {\"n_unique_x\": 112000, \"n_unique_y\": 16, \"n_batch/episode\": 4200}, \"val\": {\"n_unique_x\": 24000, \"n_unique_y\": 16, \"n_batch/episode\": 600}, \"test\": {\"n_unique_x\": 24000, \"n_unique_y\": 16, \"n_batch/episode\": 600}}}}'"
      ]
     },
     "execution_count": 20,
     "metadata": {},
     "output_type": "execute_result"
    }
   ],
   "source": [
    "json.dumps(experiment)"
   ]
  }
 ],
 "metadata": {
  "celltoolbar": "Tags",
  "kernelspec": {
   "display_name": "Python 3 (ipykernel)",
   "language": "python",
   "name": "python3"
  },
  "language_info": {
   "codemirror_mode": {
    "name": "ipython",
    "version": 3
   },
   "file_extension": ".py",
   "mimetype": "text/x-python",
   "name": "python",
   "nbconvert_exporter": "python",
   "pygments_lexer": "ipython3",
   "version": "3.8.10"
  },
  "papermill": {
   "default_parameters": {},
   "duration": 840.555901,
   "end_time": "2022-04-01T21:47:58.073743",
   "environment_variables": {},
   "exception": null,
   "input_path": "/mnt/wd500GB/CSC500/csc500-main/csc500-notebooks/templates/ptn_template.ipynb",
   "output_path": "trial.ipynb",
   "parameters": {
    "parameters": {
     "BEST_MODEL_PATH": "./best_model.pth",
     "NUM_LOGS_PER_EPOCH": 10,
     "criteria_for_best": "target_accuracy",
     "dataset_seed": 500,
     "device": "cuda",
     "domains_source": [
      8,
      32,
      50
     ],
     "domains_target": [
      14,
      20,
      26,
      38,
      44
     ],
     "episode_transforms_source": [],
     "episode_transforms_target": [],
     "experiment_name": "tuned_1v2:oracle.run1_limited",
     "labels_source": [
      "3123D52",
      "3123D65",
      "3123D79",
      "3123D80",
      "3123D54",
      "3123D70",
      "3123D7B",
      "3123D89",
      "3123D58",
      "3123D76",
      "3123D7D",
      "3123EFE",
      "3123D64",
      "3123D78",
      "3123D7E",
      "3124E4A"
     ],
     "labels_target": [
      "3123D52",
      "3123D65",
      "3123D79",
      "3123D80",
      "3123D54",
      "3123D70",
      "3123D7B",
      "3123D89",
      "3123D58",
      "3123D76",
      "3123D7D",
      "3123EFE",
      "3123D64",
      "3123D78",
      "3123D7E",
      "3124E4A"
     ],
     "lr": 0.0001,
     "n_epoch": 50,
     "n_query": 2,
     "n_shot": 3,
     "n_way": 16,
     "num_examples_per_domain_per_label_source": 2000,
     "num_examples_per_domain_per_label_target": 2000,
     "patience": 3,
     "pickle_name": "oracle.Run1_10kExamples_stratified_ds.2022A.pkl",
     "seed": 500,
     "test_k_factor": 2,
     "torch_default_dtype": "torch.float32",
     "train_k_factor": 3,
     "val_k_factor": 2,
     "x_net": [
      {
       "class": "nnReshape",
       "kargs": {
        "shape": [
         -1,
         1,
         2,
         256
        ]
       }
      },
      {
       "class": "Conv2d",
       "kargs": {
        "bias": false,
        "in_channels": 1,
        "kernel_size": [
         1,
         7
        ],
        "out_channels": 256,
        "padding": [
         0,
         3
        ]
       }
      },
      {
       "class": "ReLU",
       "kargs": {
        "inplace": true
       }
      },
      {
       "class": "BatchNorm2d",
       "kargs": {
        "num_features": 256
       }
      },
      {
       "class": "Conv2d",
       "kargs": {
        "bias": true,
        "in_channels": 256,
        "kernel_size": [
         2,
         7
        ],
        "out_channels": 80,
        "padding": [
         0,
         3
        ]
       }
      },
      {
       "class": "ReLU",
       "kargs": {
        "inplace": true
       }
      },
      {
       "class": "BatchNorm2d",
       "kargs": {
        "num_features": 80
       }
      },
      {
       "class": "Flatten",
       "kargs": {}
      },
      {
       "class": "Linear",
       "kargs": {
        "in_features": 20480,
        "out_features": 256
       }
      },
      {
       "class": "ReLU",
       "kargs": {
        "inplace": true
       }
      },
      {
       "class": "BatchNorm1d",
       "kargs": {
        "num_features": 256
       }
      },
      {
       "class": "Linear",
       "kargs": {
        "in_features": 256,
        "out_features": 256
       }
      }
     ],
     "x_transforms_source": [],
     "x_transforms_target": []
    }
   },
   "start_time": "2022-04-01T21:33:57.517842",
   "version": "2.3.4"
  }
 },
 "nbformat": 4,
 "nbformat_minor": 5
}