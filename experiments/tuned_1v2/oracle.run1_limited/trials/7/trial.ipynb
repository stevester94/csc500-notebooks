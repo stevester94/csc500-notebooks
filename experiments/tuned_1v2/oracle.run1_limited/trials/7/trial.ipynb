{
 "cells": [
  {
   "cell_type": "markdown",
   "id": "9fea5f46",
   "metadata": {
    "papermill": {
     "duration": 0.023552,
     "end_time": "2022-03-26T04:46:42.765629",
     "exception": false,
     "start_time": "2022-03-26T04:46:42.742077",
     "status": "completed"
    },
    "tags": []
   },
   "source": [
    "# PTN Template\n",
    "This notebook serves as a template for single dataset PTN experiments  \n",
    "It can be run on its own by setting STANDALONE to True (do a find for \"STANDALONE\" to see where)  \n",
    "But it is intended to be executed as part of a *papermill.py script. See any of the   \n",
    "experimentes with a papermill script to get started with that workflow.  "
   ]
  },
  {
   "cell_type": "code",
   "execution_count": 1,
   "id": "0902182a",
   "metadata": {
    "execution": {
     "iopub.execute_input": "2022-03-26T04:46:42.816894Z",
     "iopub.status.busy": "2022-03-26T04:46:42.810129Z",
     "iopub.status.idle": "2022-03-26T04:46:44.828191Z",
     "shell.execute_reply": "2022-03-26T04:46:44.827734Z"
    },
    "papermill": {
     "duration": 2.045895,
     "end_time": "2022-03-26T04:46:44.828302",
     "exception": false,
     "start_time": "2022-03-26T04:46:42.782407",
     "status": "completed"
    },
    "tags": []
   },
   "outputs": [],
   "source": [
    "%load_ext autoreload\n",
    "%autoreload 2\n",
    "%matplotlib inline\n",
    "\n",
    "    \n",
    "import os, json, sys, time, random\n",
    "import numpy as np\n",
    "import torch\n",
    "from torch.optim import Adam\n",
    "from  easydict import EasyDict\n",
    "import matplotlib.pyplot as plt\n",
    "\n",
    "from steves_models.steves_ptn import Steves_Prototypical_Network\n",
    "\n",
    "from steves_utils.lazy_iterable_wrapper import Lazy_Iterable_Wrapper\n",
    "from steves_utils.iterable_aggregator import Iterable_Aggregator\n",
    "from steves_utils.ptn_train_eval_test_jig import  PTN_Train_Eval_Test_Jig\n",
    "from steves_utils.torch_sequential_builder import build_sequential\n",
    "from steves_utils.torch_utils import get_dataset_metrics, ptn_confusion_by_domain_over_dataloader\n",
    "from steves_utils.utils_v2 import (per_domain_accuracy_from_confusion, get_datasets_base_path)\n",
    "from steves_utils.PTN.utils import independent_accuracy_assesment\n",
    "\n",
    "from steves_utils.stratified_dataset.episodic_accessor import Episodic_Accessor_Factory\n",
    "\n",
    "from steves_utils.ptn_do_report import (\n",
    "    get_loss_curve,\n",
    "    get_results_table,\n",
    "    get_parameters_table,\n",
    "    get_domain_accuracies,\n",
    ")\n",
    "\n",
    "from steves_utils.transforms import get_chained_transform"
   ]
  },
  {
   "cell_type": "markdown",
   "id": "41c840b4",
   "metadata": {
    "papermill": {
     "duration": 0.013799,
     "end_time": "2022-03-26T04:46:44.856702",
     "exception": false,
     "start_time": "2022-03-26T04:46:44.842903",
     "status": "completed"
    },
    "tags": []
   },
   "source": [
    "# Required Parameters\n",
    "These are allowed parameters, not defaults\n",
    "Each of these values need to be present in the injected parameters (the notebook will raise an exception if they are not present)\n",
    "\n",
    "Papermill uses the cell tag \"parameters\" to inject the real parameters below this cell.\n",
    "Enable tags to see what I mean"
   ]
  },
  {
   "cell_type": "code",
   "execution_count": 2,
   "id": "fd44eb83",
   "metadata": {
    "execution": {
     "iopub.execute_input": "2022-03-26T04:46:44.889787Z",
     "iopub.status.busy": "2022-03-26T04:46:44.889398Z",
     "iopub.status.idle": "2022-03-26T04:46:44.913066Z",
     "shell.execute_reply": "2022-03-26T04:46:44.912701Z"
    },
    "papermill": {
     "duration": 0.042629,
     "end_time": "2022-03-26T04:46:44.913136",
     "exception": false,
     "start_time": "2022-03-26T04:46:44.870507",
     "status": "completed"
    },
    "tags": []
   },
   "outputs": [],
   "source": [
    "required_parameters = {\n",
    "    \"experiment_name\",\n",
    "    \"lr\",\n",
    "    \"device\",\n",
    "    \"seed\",\n",
    "    \"dataset_seed\",\n",
    "    \"labels_source\",\n",
    "    \"labels_target\",\n",
    "    \"domains_source\",\n",
    "    \"domains_target\",\n",
    "    \"num_examples_per_domain_per_label_source\",\n",
    "    \"num_examples_per_domain_per_label_target\",\n",
    "    \"n_shot\",\n",
    "    \"n_way\",\n",
    "    \"n_query\",\n",
    "    \"train_k_factor\",\n",
    "    \"val_k_factor\",\n",
    "    \"test_k_factor\",\n",
    "    \"n_epoch\",\n",
    "    \"patience\",\n",
    "    \"criteria_for_best\",\n",
    "    \"x_transforms_source\",\n",
    "    \"x_transforms_target\",\n",
    "    \"episode_transforms_source\",\n",
    "    \"episode_transforms_target\",\n",
    "    \"pickle_name\",\n",
    "    \"x_net\",\n",
    "    \"NUM_LOGS_PER_EPOCH\",\n",
    "    \"BEST_MODEL_PATH\",\n",
    "    \"torch_default_dtype\"\n",
    "}"
   ]
  },
  {
   "cell_type": "code",
   "execution_count": 3,
   "id": "fa3f0049",
   "metadata": {
    "execution": {
     "iopub.execute_input": "2022-03-26T04:46:44.953875Z",
     "iopub.status.busy": "2022-03-26T04:46:44.953454Z",
     "iopub.status.idle": "2022-03-26T04:46:44.976659Z",
     "shell.execute_reply": "2022-03-26T04:46:44.976293Z"
    },
    "papermill": {
     "duration": 0.0497,
     "end_time": "2022-03-26T04:46:44.976729",
     "exception": false,
     "start_time": "2022-03-26T04:46:44.927029",
     "status": "completed"
    },
    "tags": [
     "parameters"
    ]
   },
   "outputs": [],
   "source": [
    "\n",
    "\n",
    "standalone_parameters = {}\n",
    "standalone_parameters[\"experiment_name\"] = \"STANDALONE PTN\"\n",
    "standalone_parameters[\"lr\"] = 0.0001\n",
    "standalone_parameters[\"device\"] = \"cuda\"\n",
    "\n",
    "standalone_parameters[\"seed\"] = 1337\n",
    "standalone_parameters[\"dataset_seed\"] = 1337\n",
    "\n",
    "\n",
    "standalone_parameters[\"num_examples_per_domain_per_label_source\"]=100\n",
    "standalone_parameters[\"num_examples_per_domain_per_label_target\"]=100\n",
    "\n",
    "standalone_parameters[\"n_shot\"] = 3\n",
    "standalone_parameters[\"n_query\"]  = 2\n",
    "standalone_parameters[\"train_k_factor\"] = 1\n",
    "standalone_parameters[\"val_k_factor\"] = 2\n",
    "standalone_parameters[\"test_k_factor\"] = 2\n",
    "\n",
    "\n",
    "standalone_parameters[\"n_epoch\"] = 100\n",
    "\n",
    "standalone_parameters[\"patience\"] = 10\n",
    "standalone_parameters[\"criteria_for_best\"] = \"target_accuracy\"\n",
    "\n",
    "standalone_parameters[\"x_transforms_source\"] = [\"unit_power\"]\n",
    "standalone_parameters[\"x_transforms_target\"] = [\"unit_power\"]\n",
    "standalone_parameters[\"episode_transforms_source\"] = []\n",
    "standalone_parameters[\"episode_transforms_target\"] = []\n",
    "\n",
    "standalone_parameters[\"torch_default_dtype\"] = \"torch.float32\" \n",
    "\n",
    "\n",
    "\n",
    "standalone_parameters[\"x_net\"] =     [\n",
    "    {\"class\": \"nnReshape\", \"kargs\": {\"shape\":[-1, 1, 2, 256]}},\n",
    "    {\"class\": \"Conv2d\", \"kargs\": { \"in_channels\":1, \"out_channels\":256, \"kernel_size\":(1,7), \"bias\":False, \"padding\":(0,3), },},\n",
    "    {\"class\": \"ReLU\", \"kargs\": {\"inplace\": True}},\n",
    "    {\"class\": \"BatchNorm2d\", \"kargs\": {\"num_features\":256}},\n",
    "\n",
    "    {\"class\": \"Conv2d\", \"kargs\": { \"in_channels\":256, \"out_channels\":80, \"kernel_size\":(2,7), \"bias\":True, \"padding\":(0,3), },},\n",
    "    {\"class\": \"ReLU\", \"kargs\": {\"inplace\": True}},\n",
    "    {\"class\": \"BatchNorm2d\", \"kargs\": {\"num_features\":80}},\n",
    "    {\"class\": \"Flatten\", \"kargs\": {}},\n",
    "\n",
    "    {\"class\": \"Linear\", \"kargs\": {\"in_features\": 80*256, \"out_features\": 256}}, # 80 units per IQ pair\n",
    "    {\"class\": \"ReLU\", \"kargs\": {\"inplace\": True}},\n",
    "    {\"class\": \"BatchNorm1d\", \"kargs\": {\"num_features\":256}},\n",
    "\n",
    "    {\"class\": \"Linear\", \"kargs\": {\"in_features\": 256, \"out_features\": 256}},\n",
    "]\n",
    "\n",
    "# Parameters relevant to results\n",
    "# These parameters will basically never need to change\n",
    "standalone_parameters[\"NUM_LOGS_PER_EPOCH\"] = 10\n",
    "standalone_parameters[\"BEST_MODEL_PATH\"] = \"./best_model.pth\"\n",
    "\n",
    "# uncomment for CORES dataset\n",
    "from steves_utils.CORES.utils import (\n",
    "    ALL_NODES,\n",
    "    ALL_NODES_MINIMUM_1000_EXAMPLES,\n",
    "    ALL_DAYS\n",
    ")\n",
    "\n",
    "\n",
    "standalone_parameters[\"labels_source\"] = ALL_NODES\n",
    "standalone_parameters[\"labels_target\"] = ALL_NODES\n",
    "\n",
    "standalone_parameters[\"domains_source\"] = [1]\n",
    "standalone_parameters[\"domains_target\"] = [2,3,4,5]\n",
    "\n",
    "standalone_parameters[\"pickle_name\"] = \"cores.stratified_ds.2022A.pkl\"\n",
    "\n",
    "\n",
    "# Uncomment these for ORACLE dataset\n",
    "# from steves_utils.ORACLE.utils_v2 import (\n",
    "#     ALL_DISTANCES_FEET,\n",
    "#     ALL_RUNS,\n",
    "#     ALL_SERIAL_NUMBERS,\n",
    "# )\n",
    "# standalone_parameters[\"labels_source\"] = ALL_SERIAL_NUMBERS\n",
    "# standalone_parameters[\"labels_target\"] = ALL_SERIAL_NUMBERS\n",
    "# standalone_parameters[\"domains_source\"] = [8,20, 38,50]\n",
    "# standalone_parameters[\"domains_target\"] = [14, 26, 32, 44, 56]\n",
    "# standalone_parameters[\"pickle_name\"] = \"oracle.frame_indexed.stratified_ds.2022A.pkl\"\n",
    "# standalone_parameters[\"num_examples_per_domain_per_label_source\"]=1000\n",
    "# standalone_parameters[\"num_examples_per_domain_per_label_target\"]=1000\n",
    "\n",
    "# Uncomment these for Metahan dataset\n",
    "# standalone_parameters[\"labels_source\"] = list(range(19))\n",
    "# standalone_parameters[\"labels_target\"] = list(range(19))\n",
    "# standalone_parameters[\"domains_source\"] = [0]\n",
    "# standalone_parameters[\"domains_target\"] = [1]\n",
    "# standalone_parameters[\"pickle_name\"] = \"metehan.stratified_ds.2022A.pkl\"\n",
    "# standalone_parameters[\"n_way\"]  = len(standalone_parameters[\"labels_source\"])\n",
    "# standalone_parameters[\"num_examples_per_domain_per_label_source\"]=200\n",
    "# standalone_parameters[\"num_examples_per_domain_per_label_target\"]=100\n",
    "\n",
    "\n",
    "standalone_parameters[\"n_way\"]  = len(standalone_parameters[\"labels_source\"])"
   ]
  },
  {
   "cell_type": "code",
   "execution_count": 4,
   "id": "b47a8acd",
   "metadata": {
    "execution": {
     "iopub.execute_input": "2022-03-26T04:46:45.019386Z",
     "iopub.status.busy": "2022-03-26T04:46:45.018485Z",
     "iopub.status.idle": "2022-03-26T04:46:45.041199Z",
     "shell.execute_reply": "2022-03-26T04:46:45.040387Z"
    },
    "papermill": {
     "duration": 0.05044,
     "end_time": "2022-03-26T04:46:45.041354",
     "exception": false,
     "start_time": "2022-03-26T04:46:44.990914",
     "status": "completed"
    },
    "tags": [
     "injected-parameters"
    ]
   },
   "outputs": [],
   "source": [
    "# Parameters\n",
    "parameters = {\n",
    "    \"experiment_name\": \"tuned_1v2:oracle.run1_limited\",\n",
    "    \"device\": \"cuda\",\n",
    "    \"lr\": 0.0001,\n",
    "    \"labels_source\": [\n",
    "        \"3123D52\",\n",
    "        \"3123D65\",\n",
    "        \"3123D79\",\n",
    "        \"3123D80\",\n",
    "        \"3123D54\",\n",
    "        \"3123D70\",\n",
    "        \"3123D7B\",\n",
    "        \"3123D89\",\n",
    "        \"3123D58\",\n",
    "        \"3123D76\",\n",
    "        \"3123D7D\",\n",
    "        \"3123EFE\",\n",
    "        \"3123D64\",\n",
    "        \"3123D78\",\n",
    "        \"3123D7E\",\n",
    "        \"3124E4A\",\n",
    "    ],\n",
    "    \"labels_target\": [\n",
    "        \"3123D52\",\n",
    "        \"3123D65\",\n",
    "        \"3123D79\",\n",
    "        \"3123D80\",\n",
    "        \"3123D54\",\n",
    "        \"3123D70\",\n",
    "        \"3123D7B\",\n",
    "        \"3123D89\",\n",
    "        \"3123D58\",\n",
    "        \"3123D76\",\n",
    "        \"3123D7D\",\n",
    "        \"3123EFE\",\n",
    "        \"3123D64\",\n",
    "        \"3123D78\",\n",
    "        \"3123D7E\",\n",
    "        \"3124E4A\",\n",
    "    ],\n",
    "    \"episode_transforms_source\": [],\n",
    "    \"episode_transforms_target\": [],\n",
    "    \"domains_source\": [8, 32, 50],\n",
    "    \"domains_target\": [14, 20, 26, 38, 44],\n",
    "    \"num_examples_per_domain_per_label_source\": -1,\n",
    "    \"num_examples_per_domain_per_label_target\": -1,\n",
    "    \"n_shot\": 3,\n",
    "    \"n_way\": 16,\n",
    "    \"n_query\": 2,\n",
    "    \"train_k_factor\": 3,\n",
    "    \"val_k_factor\": 2,\n",
    "    \"test_k_factor\": 2,\n",
    "    \"torch_default_dtype\": \"torch.float32\",\n",
    "    \"n_epoch\": 50,\n",
    "    \"patience\": 3,\n",
    "    \"criteria_for_best\": \"target_accuracy\",\n",
    "    \"x_net\": [\n",
    "        {\"class\": \"nnReshape\", \"kargs\": {\"shape\": [-1, 1, 2, 256]}},\n",
    "        {\n",
    "            \"class\": \"Conv2d\",\n",
    "            \"kargs\": {\n",
    "                \"in_channels\": 1,\n",
    "                \"out_channels\": 256,\n",
    "                \"kernel_size\": [1, 7],\n",
    "                \"bias\": False,\n",
    "                \"padding\": [0, 3],\n",
    "            },\n",
    "        },\n",
    "        {\"class\": \"ReLU\", \"kargs\": {\"inplace\": True}},\n",
    "        {\"class\": \"BatchNorm2d\", \"kargs\": {\"num_features\": 256}},\n",
    "        {\n",
    "            \"class\": \"Conv2d\",\n",
    "            \"kargs\": {\n",
    "                \"in_channels\": 256,\n",
    "                \"out_channels\": 80,\n",
    "                \"kernel_size\": [2, 7],\n",
    "                \"bias\": True,\n",
    "                \"padding\": [0, 3],\n",
    "            },\n",
    "        },\n",
    "        {\"class\": \"ReLU\", \"kargs\": {\"inplace\": True}},\n",
    "        {\"class\": \"BatchNorm2d\", \"kargs\": {\"num_features\": 80}},\n",
    "        {\"class\": \"Flatten\", \"kargs\": {}},\n",
    "        {\"class\": \"Linear\", \"kargs\": {\"in_features\": 20480, \"out_features\": 256}},\n",
    "        {\"class\": \"ReLU\", \"kargs\": {\"inplace\": True}},\n",
    "        {\"class\": \"BatchNorm1d\", \"kargs\": {\"num_features\": 256}},\n",
    "        {\"class\": \"Linear\", \"kargs\": {\"in_features\": 256, \"out_features\": 256}},\n",
    "    ],\n",
    "    \"NUM_LOGS_PER_EPOCH\": 10,\n",
    "    \"BEST_MODEL_PATH\": \"./best_model.pth\",\n",
    "    \"pickle_name\": \"oracle.Run1_10kExamples_stratified_ds.2022A.pkl\",\n",
    "    \"x_transforms_source\": [],\n",
    "    \"x_transforms_target\": [],\n",
    "    \"dataset_seed\": 500,\n",
    "    \"seed\": 500,\n",
    "}\n"
   ]
  },
  {
   "cell_type": "code",
   "execution_count": 5,
   "id": "8fa1cc33",
   "metadata": {
    "execution": {
     "iopub.execute_input": "2022-03-26T04:46:45.083989Z",
     "iopub.status.busy": "2022-03-26T04:46:45.083163Z",
     "iopub.status.idle": "2022-03-26T04:46:45.104732Z",
     "shell.execute_reply": "2022-03-26T04:46:45.104016Z"
    },
    "papermill": {
     "duration": 0.040863,
     "end_time": "2022-03-26T04:46:45.104891",
     "exception": false,
     "start_time": "2022-03-26T04:46:45.064028",
     "status": "completed"
    },
    "tags": []
   },
   "outputs": [],
   "source": [
    "# Set this to True if you want to run this template directly\n",
    "STANDALONE = False\n",
    "if STANDALONE:\n",
    "    print(\"parameters not injected, running with standalone_parameters\")\n",
    "    parameters = standalone_parameters\n",
    "\n",
    "if not 'parameters' in locals() and not 'parameters' in globals():\n",
    "    raise Exception(\"Parameter injection failed\")\n",
    "\n",
    "#Use an easy dict for all the parameters\n",
    "p = EasyDict(parameters)\n",
    "\n",
    "supplied_keys = set(p.keys())\n",
    "\n",
    "if  supplied_keys != required_parameters:\n",
    "    print(\"Parameters are incorrect\")\n",
    "    if len(supplied_keys - required_parameters)>0: print(\"Shouldn't have:\", str(supplied_keys - required_parameters))\n",
    "    if len(required_parameters - supplied_keys)>0: print(\"Need to have:\", str(required_parameters - supplied_keys))\n",
    "    raise RuntimeError(\"Parameters are incorrect\")\n",
    "\n"
   ]
  },
  {
   "cell_type": "code",
   "execution_count": 6,
   "id": "3a028d58",
   "metadata": {
    "execution": {
     "iopub.execute_input": "2022-03-26T04:46:45.144608Z",
     "iopub.status.busy": "2022-03-26T04:46:45.144242Z",
     "iopub.status.idle": "2022-03-26T04:46:45.170272Z",
     "shell.execute_reply": "2022-03-26T04:46:45.169568Z"
    },
    "papermill": {
     "duration": 0.044628,
     "end_time": "2022-03-26T04:46:45.170424",
     "exception": false,
     "start_time": "2022-03-26T04:46:45.125796",
     "status": "completed"
    },
    "tags": []
   },
   "outputs": [],
   "source": [
    "###################################\n",
    "# Set the RNGs and make it all deterministic\n",
    "###################################\n",
    "np.random.seed(p.seed)\n",
    "random.seed(p.seed)\n",
    "torch.manual_seed(p.seed)\n",
    "\n",
    "torch.use_deterministic_algorithms(True) "
   ]
  },
  {
   "cell_type": "code",
   "execution_count": 7,
   "id": "b691acf6",
   "metadata": {
    "execution": {
     "iopub.execute_input": "2022-03-26T04:46:45.209127Z",
     "iopub.status.busy": "2022-03-26T04:46:45.208576Z",
     "iopub.status.idle": "2022-03-26T04:46:45.233882Z",
     "shell.execute_reply": "2022-03-26T04:46:45.233079Z"
    },
    "papermill": {
     "duration": 0.043569,
     "end_time": "2022-03-26T04:46:45.234035",
     "exception": false,
     "start_time": "2022-03-26T04:46:45.190466",
     "status": "completed"
    },
    "tags": []
   },
   "outputs": [],
   "source": [
    "###########################################\n",
    "# The stratified datasets honor this\n",
    "###########################################\n",
    "torch.set_default_dtype(eval(p.torch_default_dtype))"
   ]
  },
  {
   "cell_type": "code",
   "execution_count": 8,
   "id": "b5fba671",
   "metadata": {
    "execution": {
     "iopub.execute_input": "2022-03-26T04:46:45.271677Z",
     "iopub.status.busy": "2022-03-26T04:46:45.271297Z",
     "iopub.status.idle": "2022-03-26T04:46:45.323743Z",
     "shell.execute_reply": "2022-03-26T04:46:45.322996Z"
    },
    "papermill": {
     "duration": 0.069748,
     "end_time": "2022-03-26T04:46:45.323896",
     "exception": false,
     "start_time": "2022-03-26T04:46:45.254148",
     "status": "completed"
    },
    "tags": []
   },
   "outputs": [],
   "source": [
    "###################################\n",
    "# Build the network(s)\n",
    "# Note: It's critical to do this AFTER setting the RNG\n",
    "# (This is due to the randomized initial weights)\n",
    "###################################\n",
    "x_net = build_sequential(p.x_net)"
   ]
  },
  {
   "cell_type": "code",
   "execution_count": 9,
   "id": "5d7e61cc",
   "metadata": {
    "execution": {
     "iopub.execute_input": "2022-03-26T04:46:45.363901Z",
     "iopub.status.busy": "2022-03-26T04:46:45.363519Z",
     "iopub.status.idle": "2022-03-26T04:46:45.389321Z",
     "shell.execute_reply": "2022-03-26T04:46:45.388616Z"
    },
    "papermill": {
     "duration": 0.044078,
     "end_time": "2022-03-26T04:46:45.389476",
     "exception": false,
     "start_time": "2022-03-26T04:46:45.345398",
     "status": "completed"
    },
    "tags": []
   },
   "outputs": [],
   "source": [
    "start_time_secs = time.time()"
   ]
  },
  {
   "cell_type": "code",
   "execution_count": 10,
   "id": "fd5442bc",
   "metadata": {
    "execution": {
     "iopub.execute_input": "2022-03-26T04:46:45.436489Z",
     "iopub.status.busy": "2022-03-26T04:46:45.427286Z",
     "iopub.status.idle": "2022-03-26T04:46:56.427294Z",
     "shell.execute_reply": "2022-03-26T04:46:56.426533Z"
    },
    "papermill": {
     "duration": 11.017306,
     "end_time": "2022-03-26T04:46:56.427491",
     "exception": false,
     "start_time": "2022-03-26T04:46:45.410185",
     "status": "completed"
    },
    "tags": []
   },
   "outputs": [],
   "source": [
    "###################################\n",
    "# Build the dataset\n",
    "###################################\n",
    "\n",
    "if p.x_transforms_source == []: x_transform_source = None\n",
    "else: x_transform_source = get_chained_transform(p.x_transforms_source) \n",
    "\n",
    "if p.x_transforms_target == []: x_transform_target = None\n",
    "else: x_transform_target = get_chained_transform(p.x_transforms_target)\n",
    "\n",
    "if p.episode_transforms_source == []: episode_transform_source = None\n",
    "else: raise Exception(\"episode_transform_source not implemented\")\n",
    "\n",
    "if p.episode_transforms_target == []: episode_transform_target = None\n",
    "else: raise Exception(\"episode_transform_target not implemented\")\n",
    "\n",
    "\n",
    "eaf_source = Episodic_Accessor_Factory(\n",
    "    labels=p.labels_source,\n",
    "    domains=p.domains_source,\n",
    "    num_examples_per_domain_per_label=p.num_examples_per_domain_per_label_source,\n",
    "    iterator_seed=p.seed,\n",
    "    dataset_seed=p.dataset_seed,\n",
    "    n_shot=p.n_shot,\n",
    "    n_way=p.n_way,\n",
    "    n_query=p.n_query,\n",
    "    train_val_test_k_factors=(p.train_k_factor,p.val_k_factor,p.test_k_factor),\n",
    "    pickle_path=os.path.join(get_datasets_base_path(), p.pickle_name),\n",
    "    x_transform_func=x_transform_source,\n",
    "    example_transform_func=episode_transform_source,\n",
    "    \n",
    ")\n",
    "train_original_source, val_original_source, test_original_source = eaf_source.get_train(), eaf_source.get_val(), eaf_source.get_test()\n",
    "\n",
    "\n",
    "eaf_target = Episodic_Accessor_Factory(\n",
    "    labels=p.labels_target,\n",
    "    domains=p.domains_target,\n",
    "    num_examples_per_domain_per_label=p.num_examples_per_domain_per_label_target,\n",
    "    iterator_seed=p.seed,\n",
    "    dataset_seed=p.dataset_seed,\n",
    "    n_shot=p.n_shot,\n",
    "    n_way=p.n_way,\n",
    "    n_query=p.n_query,\n",
    "    train_val_test_k_factors=(p.train_k_factor,p.val_k_factor,p.test_k_factor),\n",
    "    pickle_path=os.path.join(get_datasets_base_path(), p.pickle_name),\n",
    "    x_transform_func=x_transform_target,\n",
    "    example_transform_func=episode_transform_target,\n",
    ")\n",
    "train_original_target, val_original_target, test_original_target = eaf_target.get_train(), eaf_target.get_val(), eaf_target.get_test()\n",
    "\n",
    "\n",
    "transform_lambda = lambda ex: ex[1] # Original is (<domain>, <episode>) so we strip down to episode only\n",
    "\n",
    "train_processed_source = Lazy_Iterable_Wrapper(train_original_source, transform_lambda)\n",
    "val_processed_source   = Lazy_Iterable_Wrapper(val_original_source, transform_lambda)\n",
    "test_processed_source  = Lazy_Iterable_Wrapper(test_original_source, transform_lambda)\n",
    "\n",
    "train_processed_target = Lazy_Iterable_Wrapper(train_original_target, transform_lambda)\n",
    "val_processed_target   = Lazy_Iterable_Wrapper(val_original_target, transform_lambda)\n",
    "test_processed_target  = Lazy_Iterable_Wrapper(test_original_target, transform_lambda)\n",
    "\n",
    "datasets = EasyDict({\n",
    "    \"source\": {\n",
    "        \"original\": {\"train\":train_original_source, \"val\":val_original_source, \"test\":test_original_source},\n",
    "        \"processed\": {\"train\":train_processed_source, \"val\":val_processed_source, \"test\":test_processed_source}\n",
    "    },\n",
    "    \"target\": {\n",
    "        \"original\": {\"train\":train_original_target, \"val\":val_original_target, \"test\":test_original_target},\n",
    "        \"processed\": {\"train\":train_processed_target, \"val\":val_processed_target, \"test\":test_processed_target}\n",
    "    },\n",
    "})"
   ]
  },
  {
   "cell_type": "code",
   "execution_count": 11,
   "id": "296189d9",
   "metadata": {
    "execution": {
     "iopub.execute_input": "2022-03-26T04:46:56.467461Z",
     "iopub.status.busy": "2022-03-26T04:46:56.467090Z",
     "iopub.status.idle": "2022-03-26T04:47:04.305049Z",
     "shell.execute_reply": "2022-03-26T04:47:04.305870Z"
    },
    "papermill": {
     "duration": 7.858223,
     "end_time": "2022-03-26T04:47:04.306126",
     "exception": false,
     "start_time": "2022-03-26T04:46:56.447903",
     "status": "completed"
    },
    "tags": []
   },
   "outputs": [
    {
     "name": "stdout",
     "output_type": "stream",
     "text": [
      "Visually inspect these to see if they line up with expected values given the transforms\n",
      "x_transforms_source []\n",
      "x_transforms_target []\n",
      "Average magnitude, source: 0.005763963\n",
      "Average power, source: 4.258563e-05\n"
     ]
    },
    {
     "name": "stdout",
     "output_type": "stream",
     "text": [
      "Average magnitude, target: 0.0051063267\n",
      "Average power, target: 3.2912016e-05\n"
     ]
    }
   ],
   "source": [
    "# Some quick unit tests on the data\n",
    "from steves_utils.transforms import get_average_power, get_average_magnitude\n",
    "\n",
    "q_x, q_y, s_x, s_y, truth = next(iter(train_processed_source))\n",
    "\n",
    "assert q_x.dtype == eval(p.torch_default_dtype)\n",
    "assert s_x.dtype == eval(p.torch_default_dtype)\n",
    "\n",
    "print(\"Visually inspect these to see if they line up with expected values given the transforms\")\n",
    "print('x_transforms_source', p.x_transforms_source)\n",
    "print('x_transforms_target', p.x_transforms_target)\n",
    "print(\"Average magnitude, source:\", get_average_magnitude(q_x[0].numpy()))\n",
    "print(\"Average power, source:\", get_average_power(q_x[0].numpy()))\n",
    "\n",
    "q_x, q_y, s_x, s_y, truth = next(iter(train_processed_target))\n",
    "print(\"Average magnitude, target:\", get_average_magnitude(q_x[0].numpy()))\n",
    "print(\"Average power, target:\", get_average_power(q_x[0].numpy()))\n"
   ]
  },
  {
   "cell_type": "code",
   "execution_count": 12,
   "id": "bbdacba1",
   "metadata": {
    "execution": {
     "iopub.execute_input": "2022-03-26T04:47:04.346799Z",
     "iopub.status.busy": "2022-03-26T04:47:04.346425Z",
     "iopub.status.idle": "2022-03-26T04:47:04.483344Z",
     "shell.execute_reply": "2022-03-26T04:47:04.483003Z"
    },
    "papermill": {
     "duration": 0.157882,
     "end_time": "2022-03-26T04:47:04.483433",
     "exception": false,
     "start_time": "2022-03-26T04:47:04.325551",
     "status": "completed"
    },
    "tags": []
   },
   "outputs": [
    {
     "name": "stdout",
     "output_type": "stream",
     "text": [
      "(2, 256)\n"
     ]
    }
   ],
   "source": [
    "###################################\n",
    "# Build the model\n",
    "###################################\n",
    "model = Steves_Prototypical_Network(x_net, device=p.device, x_shape=(2,256))\n",
    "optimizer = Adam(params=model.parameters(), lr=p.lr)"
   ]
  },
  {
   "cell_type": "code",
   "execution_count": 13,
   "id": "22b39ac5",
   "metadata": {
    "execution": {
     "iopub.execute_input": "2022-03-26T04:47:04.538992Z",
     "iopub.status.busy": "2022-03-26T04:47:04.538624Z",
     "iopub.status.idle": "2022-03-26T06:44:47.099091Z",
     "shell.execute_reply": "2022-03-26T06:44:47.098740Z"
    },
    "papermill": {
     "duration": 7062.599551,
     "end_time": "2022-03-26T06:44:47.099189",
     "exception": false,
     "start_time": "2022-03-26T04:47:04.499638",
     "status": "completed"
    },
    "tags": []
   },
   "outputs": [
    {
     "name": "stdout",
     "output_type": "stream",
     "text": [
      "epoch: 1, [batch: 1 / 12600], examples_per_second: 18.0714, train_label_loss: 2.7167, \n"
     ]
    },
    {
     "name": "stdout",
     "output_type": "stream",
     "text": [
      "epoch: 1, [batch: 1260 / 12600], examples_per_second: 1776.0428, train_label_loss: 0.9898, \n"
     ]
    },
    {
     "name": "stdout",
     "output_type": "stream",
     "text": [
      "epoch: 1, [batch: 2520 / 12600], examples_per_second: 1830.6721, train_label_loss: 0.4673, \n"
     ]
    },
    {
     "name": "stdout",
     "output_type": "stream",
     "text": [
      "epoch: 1, [batch: 3780 / 12600], examples_per_second: 1929.6919, train_label_loss: 1.0895, \n"
     ]
    },
    {
     "name": "stdout",
     "output_type": "stream",
     "text": [
      "epoch: 1, [batch: 5040 / 12600], examples_per_second: 1912.0341, train_label_loss: 0.3588, \n"
     ]
    },
    {
     "name": "stdout",
     "output_type": "stream",
     "text": [
      "epoch: 1, [batch: 6300 / 12600], examples_per_second: 1897.2240, train_label_loss: 0.3029, \n"
     ]
    },
    {
     "name": "stdout",
     "output_type": "stream",
     "text": [
      "epoch: 1, [batch: 7560 / 12600], examples_per_second: 1898.5313, train_label_loss: 0.6150, \n"
     ]
    },
    {
     "name": "stdout",
     "output_type": "stream",
     "text": [
      "epoch: 1, [batch: 8820 / 12600], examples_per_second: 1752.4498, train_label_loss: 0.3741, \n"
     ]
    },
    {
     "name": "stdout",
     "output_type": "stream",
     "text": [
      "epoch: 1, [batch: 10080 / 12600], examples_per_second: 3495.1837, train_label_loss: 0.1448, \n"
     ]
    },
    {
     "name": "stdout",
     "output_type": "stream",
     "text": [
      "epoch: 1, [batch: 11340 / 12600], examples_per_second: 2766.8585, train_label_loss: 0.4766, \n"
     ]
    },
    {
     "name": "stdout",
     "output_type": "stream",
     "text": [
      "=============================================================\n",
      "epoch: 1, source_val_acc_label: 0.7230, target_val_acc_label: 0.6066, source_val_label_loss: 22.7158, target_val_label_loss: 13.7563, \n",
      "=============================================================\n"
     ]
    },
    {
     "name": "stdout",
     "output_type": "stream",
     "text": [
      "New best\n"
     ]
    },
    {
     "name": "stdout",
     "output_type": "stream",
     "text": [
      "epoch: 2, [batch: 1 / 12600], examples_per_second: 0.6378, train_label_loss: 0.2727, \n"
     ]
    },
    {
     "name": "stdout",
     "output_type": "stream",
     "text": [
      "epoch: 2, [batch: 1260 / 12600], examples_per_second: 3437.8094, train_label_loss: 0.6322, \n"
     ]
    },
    {
     "name": "stdout",
     "output_type": "stream",
     "text": [
      "epoch: 2, [batch: 2520 / 12600], examples_per_second: 2923.6202, train_label_loss: 0.3873, \n"
     ]
    },
    {
     "name": "stdout",
     "output_type": "stream",
     "text": [
      "epoch: 2, [batch: 3780 / 12600], examples_per_second: 1941.9101, train_label_loss: 0.8962, \n"
     ]
    },
    {
     "name": "stdout",
     "output_type": "stream",
     "text": [
      "epoch: 2, [batch: 5040 / 12600], examples_per_second: 1930.3744, train_label_loss: 0.3759, \n"
     ]
    },
    {
     "name": "stdout",
     "output_type": "stream",
     "text": [
      "epoch: 2, [batch: 6300 / 12600], examples_per_second: 1930.5469, train_label_loss: 0.4916, \n"
     ]
    },
    {
     "name": "stdout",
     "output_type": "stream",
     "text": [
      "epoch: 2, [batch: 7560 / 12600], examples_per_second: 1891.9695, train_label_loss: 0.9736, \n"
     ]
    },
    {
     "name": "stdout",
     "output_type": "stream",
     "text": [
      "epoch: 2, [batch: 8820 / 12600], examples_per_second: 1912.8813, train_label_loss: 0.3786, \n"
     ]
    },
    {
     "name": "stdout",
     "output_type": "stream",
     "text": [
      "epoch: 2, [batch: 10080 / 12600], examples_per_second: 3879.6534, train_label_loss: 0.6367, \n"
     ]
    },
    {
     "name": "stdout",
     "output_type": "stream",
     "text": [
      "epoch: 2, [batch: 11340 / 12600], examples_per_second: 2348.4866, train_label_loss: 0.3896, \n"
     ]
    },
    {
     "name": "stdout",
     "output_type": "stream",
     "text": [
      "=============================================================\n",
      "epoch: 2, source_val_acc_label: 0.8545, target_val_acc_label: 0.7538, source_val_label_loss: 0.3971, target_val_label_loss: 0.6948, \n",
      "=============================================================\n"
     ]
    },
    {
     "name": "stdout",
     "output_type": "stream",
     "text": [
      "New best\n"
     ]
    },
    {
     "name": "stdout",
     "output_type": "stream",
     "text": [
      "epoch: 3, [batch: 1 / 12600], examples_per_second: 0.6360, train_label_loss: 0.3302, \n"
     ]
    },
    {
     "name": "stdout",
     "output_type": "stream",
     "text": [
      "epoch: 3, [batch: 1260 / 12600], examples_per_second: 2264.7423, train_label_loss: 0.2343, \n"
     ]
    },
    {
     "name": "stdout",
     "output_type": "stream",
     "text": [
      "epoch: 3, [batch: 2520 / 12600], examples_per_second: 4124.4886, train_label_loss: 0.2284, \n"
     ]
    },
    {
     "name": "stdout",
     "output_type": "stream",
     "text": [
      "epoch: 3, [batch: 3780 / 12600], examples_per_second: 2193.8483, train_label_loss: 0.1827, \n"
     ]
    },
    {
     "name": "stdout",
     "output_type": "stream",
     "text": [
      "epoch: 3, [batch: 5040 / 12600], examples_per_second: 1930.7455, train_label_loss: 0.3306, \n"
     ]
    },
    {
     "name": "stdout",
     "output_type": "stream",
     "text": [
      "epoch: 3, [batch: 6300 / 12600], examples_per_second: 1979.6458, train_label_loss: 0.2325, \n"
     ]
    },
    {
     "name": "stdout",
     "output_type": "stream",
     "text": [
      "epoch: 3, [batch: 7560 / 12600], examples_per_second: 1781.5813, train_label_loss: 0.3357, \n"
     ]
    },
    {
     "name": "stdout",
     "output_type": "stream",
     "text": [
      "epoch: 3, [batch: 8820 / 12600], examples_per_second: 1771.2614, train_label_loss: 0.3975, \n"
     ]
    },
    {
     "name": "stdout",
     "output_type": "stream",
     "text": [
      "epoch: 3, [batch: 10080 / 12600], examples_per_second: 1771.8383, train_label_loss: 0.1608, \n"
     ]
    },
    {
     "name": "stdout",
     "output_type": "stream",
     "text": [
      "epoch: 3, [batch: 11340 / 12600], examples_per_second: 1787.2737, train_label_loss: 0.1109, \n"
     ]
    },
    {
     "name": "stdout",
     "output_type": "stream",
     "text": [
      "=============================================================\n",
      "epoch: 3, source_val_acc_label: 0.8679, target_val_acc_label: 0.7517, source_val_label_loss: 0.3667, target_val_label_loss: 0.7237, \n",
      "=============================================================\n"
     ]
    },
    {
     "name": "stdout",
     "output_type": "stream",
     "text": [
      "epoch: 4, [batch: 1 / 12600], examples_per_second: 1.0350, train_label_loss: 0.2098, \n"
     ]
    },
    {
     "name": "stdout",
     "output_type": "stream",
     "text": [
      "epoch: 4, [batch: 1260 / 12600], examples_per_second: 1789.4726, train_label_loss: 0.2075, \n"
     ]
    },
    {
     "name": "stdout",
     "output_type": "stream",
     "text": [
      "epoch: 4, [batch: 2520 / 12600], examples_per_second: 1775.9353, train_label_loss: 0.2187, \n"
     ]
    },
    {
     "name": "stdout",
     "output_type": "stream",
     "text": [
      "epoch: 4, [batch: 3780 / 12600], examples_per_second: 1912.6342, train_label_loss: 0.2341, \n"
     ]
    },
    {
     "name": "stdout",
     "output_type": "stream",
     "text": [
      "epoch: 4, [batch: 5040 / 12600], examples_per_second: 1930.6030, train_label_loss: 0.2031, \n"
     ]
    },
    {
     "name": "stdout",
     "output_type": "stream",
     "text": [
      "epoch: 4, [batch: 6300 / 12600], examples_per_second: 1904.7161, train_label_loss: 0.3944, \n"
     ]
    },
    {
     "name": "stdout",
     "output_type": "stream",
     "text": [
      "epoch: 4, [batch: 7560 / 12600], examples_per_second: 1993.3232, train_label_loss: 0.3451, \n"
     ]
    },
    {
     "name": "stdout",
     "output_type": "stream",
     "text": [
      "epoch: 4, [batch: 8820 / 12600], examples_per_second: 1779.3008, train_label_loss: 0.1361, \n"
     ]
    },
    {
     "name": "stdout",
     "output_type": "stream",
     "text": [
      "epoch: 4, [batch: 10080 / 12600], examples_per_second: 1787.9782, train_label_loss: 0.2917, \n"
     ]
    },
    {
     "name": "stdout",
     "output_type": "stream",
     "text": [
      "epoch: 4, [batch: 11340 / 12600], examples_per_second: 1782.6713, train_label_loss: 0.3366, \n"
     ]
    },
    {
     "name": "stdout",
     "output_type": "stream",
     "text": [
      "=============================================================\n",
      "epoch: 4, source_val_acc_label: 0.8772, target_val_acc_label: 0.7564, source_val_label_loss: 0.3448, target_val_label_loss: 0.7465, \n",
      "=============================================================\n"
     ]
    },
    {
     "name": "stdout",
     "output_type": "stream",
     "text": [
      "New best\n"
     ]
    },
    {
     "name": "stdout",
     "output_type": "stream",
     "text": [
      "epoch: 5, [batch: 1 / 12600], examples_per_second: 0.6328, train_label_loss: 0.1362, \n"
     ]
    },
    {
     "name": "stdout",
     "output_type": "stream",
     "text": [
      "epoch: 5, [batch: 1260 / 12600], examples_per_second: 2035.9843, train_label_loss: 0.3812, \n"
     ]
    },
    {
     "name": "stdout",
     "output_type": "stream",
     "text": [
      "epoch: 5, [batch: 2520 / 12600], examples_per_second: 3978.3309, train_label_loss: 0.3514, \n"
     ]
    },
    {
     "name": "stdout",
     "output_type": "stream",
     "text": [
      "epoch: 5, [batch: 3780 / 12600], examples_per_second: 2437.1405, train_label_loss: 0.1769, \n"
     ]
    },
    {
     "name": "stdout",
     "output_type": "stream",
     "text": [
      "epoch: 5, [batch: 5040 / 12600], examples_per_second: 1955.8007, train_label_loss: 0.2277, \n"
     ]
    },
    {
     "name": "stdout",
     "output_type": "stream",
     "text": [
      "epoch: 5, [batch: 6300 / 12600], examples_per_second: 1925.4138, train_label_loss: 0.3542, \n"
     ]
    },
    {
     "name": "stdout",
     "output_type": "stream",
     "text": [
      "epoch: 5, [batch: 7560 / 12600], examples_per_second: 1954.9790, train_label_loss: 0.4687, \n"
     ]
    },
    {
     "name": "stdout",
     "output_type": "stream",
     "text": [
      "epoch: 5, [batch: 8820 / 12600], examples_per_second: 1796.2677, train_label_loss: 0.4541, \n"
     ]
    },
    {
     "name": "stdout",
     "output_type": "stream",
     "text": [
      "epoch: 5, [batch: 10080 / 12600], examples_per_second: 1783.3532, train_label_loss: 0.1159, \n"
     ]
    },
    {
     "name": "stdout",
     "output_type": "stream",
     "text": [
      "epoch: 5, [batch: 11340 / 12600], examples_per_second: 2756.7388, train_label_loss: 0.1303, \n"
     ]
    },
    {
     "name": "stdout",
     "output_type": "stream",
     "text": [
      "=============================================================\n",
      "epoch: 5, source_val_acc_label: 0.8805, target_val_acc_label: 0.7654, source_val_label_loss: 0.3410, target_val_label_loss: 0.7314, \n",
      "=============================================================\n"
     ]
    },
    {
     "name": "stdout",
     "output_type": "stream",
     "text": [
      "New best\n"
     ]
    },
    {
     "name": "stdout",
     "output_type": "stream",
     "text": [
      "epoch: 6, [batch: 1 / 12600], examples_per_second: 0.7182, train_label_loss: 0.5455, \n"
     ]
    },
    {
     "name": "stdout",
     "output_type": "stream",
     "text": [
      "epoch: 6, [batch: 1260 / 12600], examples_per_second: 1790.3088, train_label_loss: 0.1419, \n"
     ]
    },
    {
     "name": "stdout",
     "output_type": "stream",
     "text": [
      "epoch: 6, [batch: 2520 / 12600], examples_per_second: 1814.0639, train_label_loss: 0.2597, \n"
     ]
    },
    {
     "name": "stdout",
     "output_type": "stream",
     "text": [
      "epoch: 6, [batch: 3780 / 12600], examples_per_second: 1929.6178, train_label_loss: 0.2627, \n"
     ]
    },
    {
     "name": "stdout",
     "output_type": "stream",
     "text": [
      "epoch: 6, [batch: 5040 / 12600], examples_per_second: 1938.4080, train_label_loss: 0.2957, \n"
     ]
    },
    {
     "name": "stdout",
     "output_type": "stream",
     "text": [
      "epoch: 6, [batch: 6300 / 12600], examples_per_second: 4033.2004, train_label_loss: 0.1481, \n"
     ]
    },
    {
     "name": "stdout",
     "output_type": "stream",
     "text": [
      "epoch: 6, [batch: 7560 / 12600], examples_per_second: 3589.9316, train_label_loss: 0.2626, \n"
     ]
    },
    {
     "name": "stdout",
     "output_type": "stream",
     "text": [
      "epoch: 6, [batch: 8820 / 12600], examples_per_second: 1827.5257, train_label_loss: 0.1827, \n"
     ]
    },
    {
     "name": "stdout",
     "output_type": "stream",
     "text": [
      "epoch: 6, [batch: 10080 / 12600], examples_per_second: 1787.3514, train_label_loss: 0.1707, \n"
     ]
    },
    {
     "name": "stdout",
     "output_type": "stream",
     "text": [
      "epoch: 6, [batch: 11340 / 12600], examples_per_second: 1780.7308, train_label_loss: 0.0655, \n"
     ]
    },
    {
     "name": "stdout",
     "output_type": "stream",
     "text": [
      "=============================================================\n",
      "epoch: 6, source_val_acc_label: 0.8839, target_val_acc_label: 0.7640, source_val_label_loss: 0.3474, target_val_label_loss: 0.7867, \n",
      "=============================================================\n"
     ]
    },
    {
     "name": "stdout",
     "output_type": "stream",
     "text": [
      "epoch: 7, [batch: 1 / 12600], examples_per_second: 0.9835, train_label_loss: 0.1960, \n"
     ]
    },
    {
     "name": "stdout",
     "output_type": "stream",
     "text": [
      "epoch: 7, [batch: 1260 / 12600], examples_per_second: 1840.2830, train_label_loss: 0.0618, \n"
     ]
    },
    {
     "name": "stdout",
     "output_type": "stream",
     "text": [
      "epoch: 7, [batch: 2520 / 12600], examples_per_second: 1804.0318, train_label_loss: 0.0865, \n"
     ]
    },
    {
     "name": "stdout",
     "output_type": "stream",
     "text": [
      "epoch: 7, [batch: 3780 / 12600], examples_per_second: 1848.6094, train_label_loss: 0.1470, \n"
     ]
    },
    {
     "name": "stdout",
     "output_type": "stream",
     "text": [
      "epoch: 7, [batch: 5040 / 12600], examples_per_second: 1944.7983, train_label_loss: 0.0638, \n"
     ]
    },
    {
     "name": "stdout",
     "output_type": "stream",
     "text": [
      "epoch: 7, [batch: 6300 / 12600], examples_per_second: 1921.5626, train_label_loss: 0.0647, \n"
     ]
    },
    {
     "name": "stdout",
     "output_type": "stream",
     "text": [
      "epoch: 7, [batch: 7560 / 12600], examples_per_second: 1921.5737, train_label_loss: 0.1008, \n"
     ]
    },
    {
     "name": "stdout",
     "output_type": "stream",
     "text": [
      "epoch: 7, [batch: 8820 / 12600], examples_per_second: 3981.1209, train_label_loss: 0.1535, \n"
     ]
    },
    {
     "name": "stdout",
     "output_type": "stream",
     "text": [
      "epoch: 7, [batch: 10080 / 12600], examples_per_second: 3145.1578, train_label_loss: 0.1801, \n"
     ]
    },
    {
     "name": "stdout",
     "output_type": "stream",
     "text": [
      "epoch: 7, [batch: 11340 / 12600], examples_per_second: 2006.2582, train_label_loss: 0.1204, \n"
     ]
    },
    {
     "name": "stdout",
     "output_type": "stream",
     "text": [
      "=============================================================\n",
      "epoch: 7, source_val_acc_label: 0.8847, target_val_acc_label: 0.7670, source_val_label_loss: 0.3378, target_val_label_loss: 0.7627, \n",
      "=============================================================\n"
     ]
    },
    {
     "name": "stdout",
     "output_type": "stream",
     "text": [
      "New best\n"
     ]
    },
    {
     "name": "stdout",
     "output_type": "stream",
     "text": [
      "epoch: 8, [batch: 1 / 12600], examples_per_second: 0.6983, train_label_loss: 0.1130, \n"
     ]
    },
    {
     "name": "stdout",
     "output_type": "stream",
     "text": [
      "epoch: 8, [batch: 1260 / 12600], examples_per_second: 1920.5256, train_label_loss: 0.1309, \n"
     ]
    },
    {
     "name": "stdout",
     "output_type": "stream",
     "text": [
      "epoch: 8, [batch: 2520 / 12600], examples_per_second: 2114.5491, train_label_loss: 0.0447, \n"
     ]
    },
    {
     "name": "stdout",
     "output_type": "stream",
     "text": [
      "epoch: 8, [batch: 3780 / 12600], examples_per_second: 4203.7778, train_label_loss: 0.2435, \n"
     ]
    },
    {
     "name": "stdout",
     "output_type": "stream",
     "text": [
      "epoch: 8, [batch: 5040 / 12600], examples_per_second: 2533.4143, train_label_loss: 0.1094, \n"
     ]
    },
    {
     "name": "stdout",
     "output_type": "stream",
     "text": [
      "epoch: 8, [batch: 6300 / 12600], examples_per_second: 2274.8173, train_label_loss: 0.1748, \n"
     ]
    },
    {
     "name": "stdout",
     "output_type": "stream",
     "text": [
      "epoch: 8, [batch: 7560 / 12600], examples_per_second: 2294.0817, train_label_loss: 0.1319, \n"
     ]
    },
    {
     "name": "stdout",
     "output_type": "stream",
     "text": [
      "epoch: 8, [batch: 8820 / 12600], examples_per_second: 2357.5206, train_label_loss: 0.0457, \n"
     ]
    },
    {
     "name": "stdout",
     "output_type": "stream",
     "text": [
      "epoch: 8, [batch: 10080 / 12600], examples_per_second: 2358.3671, train_label_loss: 0.2640, \n"
     ]
    },
    {
     "name": "stdout",
     "output_type": "stream",
     "text": [
      "epoch: 8, [batch: 11340 / 12600], examples_per_second: 2281.4652, train_label_loss: 0.1440, \n"
     ]
    },
    {
     "name": "stdout",
     "output_type": "stream",
     "text": [
      "=============================================================\n",
      "epoch: 8, source_val_acc_label: 0.8882, target_val_acc_label: 0.7606, source_val_label_loss: 0.3462, target_val_label_loss: 0.8160, \n",
      "=============================================================\n"
     ]
    },
    {
     "name": "stdout",
     "output_type": "stream",
     "text": [
      "epoch: 9, [batch: 1 / 12600], examples_per_second: 1.8061, train_label_loss: 0.0807, \n"
     ]
    },
    {
     "name": "stdout",
     "output_type": "stream",
     "text": [
      "epoch: 9, [batch: 1260 / 12600], examples_per_second: 2425.3318, train_label_loss: 0.1979, \n"
     ]
    },
    {
     "name": "stdout",
     "output_type": "stream",
     "text": [
      "epoch: 9, [batch: 2520 / 12600], examples_per_second: 1929.8312, train_label_loss: 0.0169, \n"
     ]
    },
    {
     "name": "stdout",
     "output_type": "stream",
     "text": [
      "epoch: 9, [batch: 3780 / 12600], examples_per_second: 1761.6345, train_label_loss: 0.1592, \n"
     ]
    },
    {
     "name": "stdout",
     "output_type": "stream",
     "text": [
      "epoch: 9, [batch: 5040 / 12600], examples_per_second: 1753.4109, train_label_loss: 0.0483, \n"
     ]
    },
    {
     "name": "stdout",
     "output_type": "stream",
     "text": [
      "epoch: 9, [batch: 6300 / 12600], examples_per_second: 1776.0967, train_label_loss: 0.1581, \n"
     ]
    },
    {
     "name": "stdout",
     "output_type": "stream",
     "text": [
      "epoch: 9, [batch: 7560 / 12600], examples_per_second: 1784.1288, train_label_loss: 0.3442, \n"
     ]
    },
    {
     "name": "stdout",
     "output_type": "stream",
     "text": [
      "epoch: 9, [batch: 8820 / 12600], examples_per_second: 3198.8889, train_label_loss: 0.0865, \n"
     ]
    },
    {
     "name": "stdout",
     "output_type": "stream",
     "text": [
      "epoch: 9, [batch: 10080 / 12600], examples_per_second: 2783.1195, train_label_loss: 0.1804, \n"
     ]
    },
    {
     "name": "stdout",
     "output_type": "stream",
     "text": [
      "epoch: 9, [batch: 11340 / 12600], examples_per_second: 1785.3664, train_label_loss: 0.0454, \n"
     ]
    },
    {
     "name": "stdout",
     "output_type": "stream",
     "text": [
      "=============================================================\n",
      "epoch: 9, source_val_acc_label: 0.8879, target_val_acc_label: 0.7604, source_val_label_loss: 0.3464, target_val_label_loss: 0.8331, \n",
      "=============================================================\n"
     ]
    },
    {
     "name": "stdout",
     "output_type": "stream",
     "text": [
      "epoch: 10, [batch: 1 / 12600], examples_per_second: 0.6667, train_label_loss: 0.0850, \n"
     ]
    },
    {
     "name": "stdout",
     "output_type": "stream",
     "text": [
      "epoch: 10, [batch: 1260 / 12600], examples_per_second: 1916.8416, train_label_loss: 0.0281, \n"
     ]
    },
    {
     "name": "stdout",
     "output_type": "stream",
     "text": [
      "epoch: 10, [batch: 2520 / 12600], examples_per_second: 1922.3413, train_label_loss: 0.1703, \n"
     ]
    },
    {
     "name": "stdout",
     "output_type": "stream",
     "text": [
      "epoch: 10, [batch: 3780 / 12600], examples_per_second: 1792.4322, train_label_loss: 0.0763, \n"
     ]
    },
    {
     "name": "stdout",
     "output_type": "stream",
     "text": [
      "epoch: 10, [batch: 5040 / 12600], examples_per_second: 1781.3534, train_label_loss: 0.1943, \n"
     ]
    },
    {
     "name": "stdout",
     "output_type": "stream",
     "text": [
      "epoch: 10, [batch: 6300 / 12600], examples_per_second: 1774.2543, train_label_loss: 0.0679, \n"
     ]
    },
    {
     "name": "stdout",
     "output_type": "stream",
     "text": [
      "epoch: 10, [batch: 7560 / 12600], examples_per_second: 1786.1605, train_label_loss: 0.1008, \n"
     ]
    },
    {
     "name": "stdout",
     "output_type": "stream",
     "text": [
      "epoch: 10, [batch: 8820 / 12600], examples_per_second: 1773.9742, train_label_loss: 0.1374, \n"
     ]
    },
    {
     "name": "stdout",
     "output_type": "stream",
     "text": [
      "epoch: 10, [batch: 10080 / 12600], examples_per_second: 1759.2840, train_label_loss: 0.1977, \n"
     ]
    },
    {
     "name": "stdout",
     "output_type": "stream",
     "text": [
      "epoch: 10, [batch: 11340 / 12600], examples_per_second: 1761.9098, train_label_loss: 0.0244, \n"
     ]
    },
    {
     "name": "stdout",
     "output_type": "stream",
     "text": [
      "=============================================================\n",
      "epoch: 10, source_val_acc_label: 0.8858, target_val_acc_label: 0.7549, source_val_label_loss: 0.3659, target_val_label_loss: 0.8704, \n",
      "=============================================================\n"
     ]
    },
    {
     "name": "stdout",
     "output_type": "stream",
     "text": [
      "epoch: 11, [batch: 1 / 12600], examples_per_second: 1.0082, train_label_loss: 0.0422, \n"
     ]
    },
    {
     "name": "stdout",
     "output_type": "stream",
     "text": [
      "epoch: 11, [batch: 1260 / 12600], examples_per_second: 1925.8647, train_label_loss: 0.0886, \n"
     ]
    },
    {
     "name": "stdout",
     "output_type": "stream",
     "text": [
      "epoch: 11, [batch: 2520 / 12600], examples_per_second: 2011.0250, train_label_loss: 0.1054, \n"
     ]
    },
    {
     "name": "stdout",
     "output_type": "stream",
     "text": [
      "epoch: 11, [batch: 3780 / 12600], examples_per_second: 1778.6071, train_label_loss: 0.0462, \n"
     ]
    },
    {
     "name": "stdout",
     "output_type": "stream",
     "text": [
      "epoch: 11, [batch: 5040 / 12600], examples_per_second: 1785.3669, train_label_loss: 0.1454, \n"
     ]
    },
    {
     "name": "stdout",
     "output_type": "stream",
     "text": [
      "epoch: 11, [batch: 6300 / 12600], examples_per_second: 2781.2134, train_label_loss: 0.1206, \n"
     ]
    },
    {
     "name": "stdout",
     "output_type": "stream",
     "text": [
      "epoch: 11, [batch: 7560 / 12600], examples_per_second: 3950.6839, train_label_loss: 0.0139, \n"
     ]
    },
    {
     "name": "stdout",
     "output_type": "stream",
     "text": [
      "epoch: 11, [batch: 8820 / 12600], examples_per_second: 3902.8812, train_label_loss: 0.0851, \n"
     ]
    },
    {
     "name": "stdout",
     "output_type": "stream",
     "text": [
      "epoch: 11, [batch: 10080 / 12600], examples_per_second: 1685.4530, train_label_loss: 0.1158, \n"
     ]
    },
    {
     "name": "stdout",
     "output_type": "stream",
     "text": [
      "epoch: 11, [batch: 11340 / 12600], examples_per_second: 1972.4266, train_label_loss: 0.2104, \n"
     ]
    },
    {
     "name": "stdout",
     "output_type": "stream",
     "text": [
      "=============================================================\n",
      "epoch: 11, source_val_acc_label: 0.8875, target_val_acc_label: 0.7516, source_val_label_loss: 0.3694, target_val_label_loss: 0.8992, \n",
      "=============================================================\n"
     ]
    },
    {
     "name": "stdout",
     "output_type": "stream",
     "text": [
      "Patience (3) exhausted\n"
     ]
    }
   ],
   "source": [
    "###################################\n",
    "# train\n",
    "###################################\n",
    "jig = PTN_Train_Eval_Test_Jig(model, p.BEST_MODEL_PATH, p.device)\n",
    "\n",
    "jig.train(\n",
    "    train_iterable=datasets.source.processed.train,\n",
    "    source_val_iterable=datasets.source.processed.val,\n",
    "    target_val_iterable=datasets.target.processed.val,\n",
    "    num_epochs=p.n_epoch,\n",
    "    num_logs_per_epoch=p.NUM_LOGS_PER_EPOCH,\n",
    "    patience=p.patience,\n",
    "    optimizer=optimizer,\n",
    "    criteria_for_best=p.criteria_for_best,\n",
    ")"
   ]
  },
  {
   "cell_type": "code",
   "execution_count": 14,
   "id": "31e8fabf",
   "metadata": {
    "execution": {
     "iopub.execute_input": "2022-03-26T06:44:47.213278Z",
     "iopub.status.busy": "2022-03-26T06:44:47.212898Z",
     "iopub.status.idle": "2022-03-26T06:44:47.249623Z",
     "shell.execute_reply": "2022-03-26T06:44:47.248900Z"
    },
    "papermill": {
     "duration": 0.101566,
     "end_time": "2022-03-26T06:44:47.249790",
     "exception": false,
     "start_time": "2022-03-26T06:44:47.148224",
     "status": "completed"
    },
    "tags": []
   },
   "outputs": [],
   "source": [
    "total_experiment_time_secs = time.time() - start_time_secs"
   ]
  },
  {
   "cell_type": "code",
   "execution_count": 15,
   "id": "87b9595b",
   "metadata": {
    "execution": {
     "iopub.execute_input": "2022-03-26T06:44:47.367613Z",
     "iopub.status.busy": "2022-03-26T06:44:47.366719Z",
     "iopub.status.idle": "2022-03-26T07:00:13.795159Z",
     "shell.execute_reply": "2022-03-26T07:00:13.794398Z"
    },
    "papermill": {
     "duration": 926.489506,
     "end_time": "2022-03-26T07:00:13.795362",
     "exception": false,
     "start_time": "2022-03-26T06:44:47.305856",
     "status": "completed"
    },
    "tags": []
   },
   "outputs": [],
   "source": [
    "###################################\n",
    "# Evaluate the model\n",
    "###################################\n",
    "source_test_label_accuracy, source_test_label_loss = jig.test(datasets.source.processed.test)\n",
    "target_test_label_accuracy, target_test_label_loss = jig.test(datasets.target.processed.test)\n",
    "\n",
    "source_val_label_accuracy, source_val_label_loss = jig.test(datasets.source.processed.val)\n",
    "target_val_label_accuracy, target_val_label_loss = jig.test(datasets.target.processed.val)\n",
    "\n",
    "history = jig.get_history()\n",
    "\n",
    "total_epochs_trained = len(history[\"epoch_indices\"])\n",
    "\n",
    "val_dl = Iterable_Aggregator((datasets.source.original.val,datasets.target.original.val))\n",
    "\n",
    "confusion = ptn_confusion_by_domain_over_dataloader(model, p.device, val_dl)\n",
    "per_domain_accuracy = per_domain_accuracy_from_confusion(confusion)\n",
    "\n",
    "# Add a key to per_domain_accuracy for if it was a source domain\n",
    "for domain, accuracy in per_domain_accuracy.items():\n",
    "    per_domain_accuracy[domain] = {\n",
    "        \"accuracy\": accuracy,\n",
    "        \"source?\": domain in p.domains_source\n",
    "    }\n",
    "\n",
    "# Do an independent accuracy assesment JUST TO BE SURE!\n",
    "# _source_test_label_accuracy = independent_accuracy_assesment(model, datasets.source.processed.test, p.device)\n",
    "# _target_test_label_accuracy = independent_accuracy_assesment(model, datasets.target.processed.test, p.device)\n",
    "# _source_val_label_accuracy = independent_accuracy_assesment(model, datasets.source.processed.val, p.device)\n",
    "# _target_val_label_accuracy = independent_accuracy_assesment(model, datasets.target.processed.val, p.device)\n",
    "\n",
    "# assert(_source_test_label_accuracy == source_test_label_accuracy)\n",
    "# assert(_target_test_label_accuracy == target_test_label_accuracy)\n",
    "# assert(_source_val_label_accuracy == source_val_label_accuracy)\n",
    "# assert(_target_val_label_accuracy == target_val_label_accuracy)\n",
    "\n",
    "experiment = {\n",
    "    \"experiment_name\": p.experiment_name,\n",
    "    \"parameters\": dict(p),\n",
    "    \"results\": {\n",
    "        \"source_test_label_accuracy\": source_test_label_accuracy,\n",
    "        \"source_test_label_loss\": source_test_label_loss,\n",
    "        \"target_test_label_accuracy\": target_test_label_accuracy,\n",
    "        \"target_test_label_loss\": target_test_label_loss,\n",
    "        \"source_val_label_accuracy\": source_val_label_accuracy,\n",
    "        \"source_val_label_loss\": source_val_label_loss,\n",
    "        \"target_val_label_accuracy\": target_val_label_accuracy,\n",
    "        \"target_val_label_loss\": target_val_label_loss,\n",
    "        \"total_epochs_trained\": total_epochs_trained,\n",
    "        \"total_experiment_time_secs\": total_experiment_time_secs,\n",
    "        \"confusion\": confusion,\n",
    "        \"per_domain_accuracy\": per_domain_accuracy,\n",
    "    },\n",
    "    \"history\": history,\n",
    "    \"dataset_metrics\": get_dataset_metrics(datasets, \"ptn\"),\n",
    "}"
   ]
  },
  {
   "cell_type": "code",
   "execution_count": 16,
   "id": "54a21829",
   "metadata": {
    "execution": {
     "iopub.execute_input": "2022-03-26T07:00:13.908891Z",
     "iopub.status.busy": "2022-03-26T07:00:13.908362Z",
     "iopub.status.idle": "2022-03-26T07:00:14.380986Z",
     "shell.execute_reply": "2022-03-26T07:00:14.381671Z"
    },
    "papermill": {
     "duration": 0.529768,
     "end_time": "2022-03-26T07:00:14.381888",
     "exception": false,
     "start_time": "2022-03-26T07:00:13.852120",
     "status": "completed"
    },
    "tags": []
   },
   "outputs": [
    {
     "data": {
      "image/png": "[encoded data removed]",
      "text/plain": [
       "<Figure size 1080x504 with 1 Axes>"
      ]
     },
     "metadata": {
      "needs_background": "light"
     },
     "output_type": "display_data"
    }
   ],
   "source": [
    "ax = get_loss_curve(experiment)\n",
    "plt.show()"
   ]
  },
  {
   "cell_type": "code",
   "execution_count": 17,
   "id": "fd8a0f60",
   "metadata": {
    "execution": {
     "iopub.execute_input": "2022-03-26T07:00:14.496034Z",
     "iopub.status.busy": "2022-03-26T07:00:14.495652Z",
     "iopub.status.idle": "2022-03-26T07:00:14.898660Z",
     "shell.execute_reply": "2022-03-26T07:00:14.899347Z"
    },
    "papermill": {
     "duration": 0.459871,
     "end_time": "2022-03-26T07:00:14.899549",
     "exception": false,
     "start_time": "2022-03-26T07:00:14.439678",
     "status": "completed"
    },
    "tags": []
   },
   "outputs": [
    {
     "data": {
      "text/plain": [
       "<AxesSubplot:title={'center':'Results'}>"
      ]
     },
     "execution_count": 17,
     "metadata": {},
     "output_type": "execute_result"
    },
    {
     "data": {
      "image/png": "[encoded data removed]",
      "text/plain": [
       "<Figure size 1080x504 with 1 Axes>"
      ]
     },
     "metadata": {
      "needs_background": "light"
     },
     "output_type": "display_data"
    }
   ],
   "source": [
    "get_results_table(experiment)"
   ]
  },
  {
   "cell_type": "code",
   "execution_count": 18,
   "id": "cf8dc689",
   "metadata": {
    "execution": {
     "iopub.execute_input": "2022-03-26T07:00:15.014170Z",
     "iopub.status.busy": "2022-03-26T07:00:15.013391Z",
     "iopub.status.idle": "2022-03-26T07:00:15.297203Z",
     "shell.execute_reply": "2022-03-26T07:00:15.297885Z"
    },
    "papermill": {
     "duration": 0.34099,
     "end_time": "2022-03-26T07:00:15.298090",
     "exception": false,
     "start_time": "2022-03-26T07:00:14.957100",
     "status": "completed"
    },
    "tags": []
   },
   "outputs": [
    {
     "data": {
      "text/plain": [
       "<AxesSubplot:title={'center':'Per Domain Validation Accuracy'}, xlabel='domain'>"
      ]
     },
     "execution_count": 18,
     "metadata": {},
     "output_type": "execute_result"
    },
    {
     "data": {
      "image/png": "[encoded data removed]",
      "text/plain": [
       "<Figure size 1080x504 with 1 Axes>"
      ]
     },
     "metadata": {
      "needs_background": "light"
     },
     "output_type": "display_data"
    }
   ],
   "source": [
    "get_domain_accuracies(experiment)"
   ]
  },
  {
   "cell_type": "code",
   "execution_count": 19,
   "id": "a74ae082",
   "metadata": {
    "execution": {
     "iopub.execute_input": "2022-03-26T07:00:15.416486Z",
     "iopub.status.busy": "2022-03-26T07:00:15.416113Z",
     "iopub.status.idle": "2022-03-26T07:00:15.443411Z",
     "shell.execute_reply": "2022-03-26T07:00:15.444117Z"
    },
    "papermill": {
     "duration": 0.085607,
     "end_time": "2022-03-26T07:00:15.444299",
     "exception": false,
     "start_time": "2022-03-26T07:00:15.358692",
     "status": "completed"
    },
    "tags": []
   },
   "outputs": [
    {
     "name": "stdout",
     "output_type": "stream",
     "text": [
      "Source Test Label Accuracy: 0.8853472222222222 Target Test Label Accuracy: 0.7715833333333333\n",
      "Source Val Label Accuracy: 0.8847048611111111 Target Val Label Accuracy: 0.76703125\n"
     ]
    }
   ],
   "source": [
    "print(\"Source Test Label Accuracy:\", experiment[\"results\"][\"source_test_label_accuracy\"], \"Target Test Label Accuracy:\", experiment[\"results\"][\"target_test_label_accuracy\"])\n",
    "print(\"Source Val Label Accuracy:\", experiment[\"results\"][\"source_val_label_accuracy\"], \"Target Val Label Accuracy:\", experiment[\"results\"][\"target_val_label_accuracy\"])"
   ]
  },
  {
   "cell_type": "code",
   "execution_count": 20,
   "id": "dacca602",
   "metadata": {
    "execution": {
     "iopub.execute_input": "2022-03-26T07:00:15.557240Z",
     "iopub.status.busy": "2022-03-26T07:00:15.556876Z",
     "iopub.status.idle": "2022-03-26T07:00:15.577378Z",
     "shell.execute_reply": "2022-03-26T07:00:15.578048Z"
    },
    "papermill": {
     "duration": 0.076585,
     "end_time": "2022-03-26T07:00:15.578228",
     "exception": false,
     "start_time": "2022-03-26T07:00:15.501643",
     "status": "completed"
    },
    "tags": [
     "experiment_json"
    ]
   },
   "outputs": [
    {
     "data": {
      "text/plain": [
       "'{\"experiment_name\": \"tuned_1v2:oracle.run1_limited\", \"parameters\": {\"experiment_name\": \"tuned_1v2:oracle.run1_limited\", \"device\": \"cuda\", \"lr\": 0.0001, \"labels_source\": [\"3123D52\", \"3123D65\", \"3123D79\", \"3123D80\", \"3123D54\", \"3123D70\", \"3123D7B\", \"3123D89\", \"3123D58\", \"3123D76\", \"3123D7D\", \"3123EFE\", \"3123D64\", \"3123D78\", \"3123D7E\", \"3124E4A\"], \"labels_target\": [\"3123D52\", \"3123D65\", \"3123D79\", \"3123D80\", \"3123D54\", \"3123D70\", \"3123D7B\", \"3123D89\", \"3123D58\", \"3123D76\", \"3123D7D\", \"3123EFE\", \"3123D64\", \"3123D78\", \"3123D7E\", \"3124E4A\"], \"episode_transforms_source\": [], \"episode_transforms_target\": [], \"domains_source\": [8, 32, 50], \"domains_target\": [14, 20, 26, 38, 44], \"num_examples_per_domain_per_label_source\": -1, \"num_examples_per_domain_per_label_target\": -1, \"n_shot\": 3, \"n_way\": 16, \"n_query\": 2, \"train_k_factor\": 3, \"val_k_factor\": 2, \"test_k_factor\": 2, \"torch_default_dtype\": \"torch.float32\", \"n_epoch\": 50, \"patience\": 3, \"criteria_for_best\": \"target_accuracy\", \"x_net\": [{\"class\": \"nnReshape\", \"kargs\": {\"shape\": [-1, 1, 2, 256]}}, {\"class\": \"Conv2d\", \"kargs\": {\"in_channels\": 1, \"out_channels\": 256, \"kernel_size\": [1, 7], \"bias\": false, \"padding\": [0, 3]}}, {\"class\": \"ReLU\", \"kargs\": {\"inplace\": true}}, {\"class\": \"BatchNorm2d\", \"kargs\": {\"num_features\": 256}}, {\"class\": \"Conv2d\", \"kargs\": {\"in_channels\": 256, \"out_channels\": 80, \"kernel_size\": [2, 7], \"bias\": true, \"padding\": [0, 3]}}, {\"class\": \"ReLU\", \"kargs\": {\"inplace\": true}}, {\"class\": \"BatchNorm2d\", \"kargs\": {\"num_features\": 80}}, {\"class\": \"Flatten\", \"kargs\": {}}, {\"class\": \"Linear\", \"kargs\": {\"in_features\": 20480, \"out_features\": 256}}, {\"class\": \"ReLU\", \"kargs\": {\"inplace\": true}}, {\"class\": \"BatchNorm1d\", \"kargs\": {\"num_features\": 256}}, {\"class\": \"Linear\", \"kargs\": {\"in_features\": 256, \"out_features\": 256}}], \"NUM_LOGS_PER_EPOCH\": 10, \"BEST_MODEL_PATH\": \"./best_model.pth\", \"pickle_name\": \"oracle.Run1_10kExamples_stratified_ds.2022A.pkl\", \"x_transforms_source\": [], \"x_transforms_target\": [], \"dataset_seed\": 500, \"seed\": 500}, \"results\": {\"source_test_label_accuracy\": 0.8853472222222222, \"source_test_label_loss\": 0.3358316421508789, \"target_test_label_accuracy\": 0.7715833333333333, \"target_test_label_loss\": 0.7401092052459717, \"source_val_label_accuracy\": 0.8847048611111111, \"source_val_label_loss\": 0.33777663111686707, \"target_val_label_accuracy\": 0.76703125, \"target_val_label_loss\": 0.7626777291297913, \"total_epochs_trained\": 11, \"total_experiment_time_secs\": 7081.8601241111755, \"confusion\": {\"8\": {\"7\": {\"7\": 1006, \"6\": 173, \"13\": 21}, \"10\": {\"10\": 961, \"1\": 43, \"4\": 16, \"13\": 140, \"5\": 30, \"6\": 10}, \"0\": {\"0\": 1200}, \"11\": {\"11\": 742, \"14\": 40, \"1\": 361, \"5\": 16, \"8\": 18, \"6\": 8, \"4\": 13, \"10\": 2}, \"2\": {\"2\": 1044, \"3\": 74, \"12\": 40, \"15\": 42}, \"14\": {\"14\": 1133, \"4\": 58, \"11\": 7, \"8\": 1, \"1\": 1}, \"9\": {\"9\": 1200}, \"13\": {\"13\": 930, \"10\": 161, \"7\": 71, \"6\": 37, \"5\": 1}, \"8\": {\"8\": 1140, \"6\": 31, \"7\": 2, \"4\": 18, \"11\": 9}, \"15\": {\"15\": 960, \"12\": 222, \"2\": 18}, \"4\": {\"4\": 1131, \"6\": 28, \"8\": 6, \"14\": 16, \"11\": 6, \"1\": 8, \"10\": 5}, \"5\": {\"5\": 1049, \"1\": 55, \"10\": 86, \"11\": 5, \"14\": 3, \"4\": 1, \"13\": 1}, \"3\": {\"3\": 1170, \"2\": 30}, \"1\": {\"11\": 188, \"1\": 920, \"5\": 27, \"4\": 6, \"10\": 53, \"13\": 5, \"6\": 1}, \"6\": {\"6\": 973, \"7\": 185, \"10\": 9, \"13\": 20, \"4\": 12, \"8\": 1}, \"12\": {\"15\": 344, \"12\": 847, \"2\": 9}}, \"50\": {\"11\": {\"11\": 1123, \"15\": 28, \"12\": 26, \"9\": 23}, \"2\": {\"2\": 1146, \"0\": 54}, \"12\": {\"12\": 1095, \"9\": 84, \"11\": 21}, \"8\": {\"10\": 10, \"8\": 1189, \"13\": 1}, \"4\": {\"4\": 1004, \"7\": 106, \"5\": 49, \"6\": 10, \"15\": 31}, \"10\": {\"10\": 1180, \"0\": 2, \"8\": 18}, \"14\": {\"14\": 1200}, \"13\": {\"13\": 1190, \"1\": 6, \"8\": 1, \"6\": 1, \"5\": 2}, \"6\": {\"6\": 987, \"5\": 125, \"15\": 82, \"4\": 5, \"7\": 1}, \"9\": {\"9\": 1039, \"12\": 68, \"11\": 86, \"15\": 7}, \"15\": {\"15\": 1092, \"11\": 18, \"6\": 81, \"4\": 7, \"9\": 2}, \"1\": {\"1\": 1169, \"0\": 2, \"6\": 8, \"15\": 1, \"13\": 12, \"5\": 7, \"10\": 1}, \"3\": {\"3\": 1200}, \"7\": {\"7\": 1062, \"4\": 26, \"5\": 110, \"6\": 2}, \"0\": {\"0\": 1143, \"10\": 13, \"2\": 44}, \"5\": {\"5\": 676, \"13\": 27, \"6\": 190, \"7\": 214, \"4\": 77, \"15\": 9, \"1\": 7}}, \"32\": {\"4\": {\"4\": 1024, \"2\": 139, \"13\": 37}, \"14\": {\"8\": 29, \"14\": 877, \"2\": 22, \"7\": 207, \"0\": 42, \"5\": 19, \"4\": 4}, \"5\": {\"5\": 788, \"7\": 204, \"8\": 110, \"14\": 30, \"0\": 67, \"15\": 1}, \"10\": {\"10\": 1200}, \"13\": {\"13\": 1034, \"3\": 76, \"4\": 74, \"11\": 16}, \"9\": {\"9\": 1192, \"12\": 6, \"2\": 2}, \"6\": {\"6\": 1200}, \"3\": {\"3\": 1155, \"13\": 45}, \"15\": {\"15\": 1187, \"8\": 13}, \"7\": {\"7\": 836, \"5\": 169, \"14\": 107, \"8\": 25, \"0\": 63}, \"12\": {\"12\": 1200}, \"8\": {\"8\": 952, \"0\": 118, \"7\": 18, \"4\": 9, \"14\": 21, \"5\": 76, \"2\": 1, \"15\": 5}, \"11\": {\"11\": 1195, \"13\": 5}, \"2\": {\"2\": 1082, \"4\": 113, \"0\": 2, \"8\": 1, \"14\": 2}, \"1\": {\"1\": 1200}, \"0\": {\"0\": 936, \"7\": 80, \"8\": 123, \"5\": 33, \"14\": 28}}, \"20\": {\"7\": {\"2\": 243, \"7\": 642, \"4\": 35, \"9\": 131, \"8\": 13, \"6\": 52, \"13\": 18, \"12\": 42, \"3\": 20, \"14\": 3, \"15\": 1}, \"10\": {\"10\": 1100, \"4\": 87, \"6\": 13}, \"0\": {\"0\": 1052, \"3\": 50, \"5\": 74, \"1\": 14, \"8\": 9, \"9\": 1}, \"11\": {\"11\": 1195, \"0\": 4, \"8\": 1}, \"2\": {\"2\": 450, \"13\": 144, \"15\": 28, \"9\": 156, \"12\": 161, \"7\": 221, \"4\": 19, \"1\": 8, \"5\": 3, \"6\": 3, \"3\": 6, \"8\": 1}, \"14\": {\"14\": 969, \"8\": 183, \"6\": 33, \"7\": 10, \"3\": 3, \"4\": 2}, \"9\": {\"9\": 564, \"8\": 9, \"2\": 127, \"1\": 73, \"3\": 171, \"4\": 3, \"15\": 22, \"7\": 114, \"12\": 65, \"5\": 39, \"13\": 13}, \"13\": {\"13\": 900, \"15\": 37, \"2\": 186, \"7\": 14, \"12\": 45, \"9\": 12, \"4\": 3, \"1\": 2, \"5\": 1}, \"8\": {\"8\": 874, \"14\": 159, \"3\": 126, \"5\": 9, \"9\": 12, \"7\": 15, \"6\": 2, \"4\": 1, \"0\": 2}, \"15\": {\"12\": 159, \"1\": 221, \"15\": 640, \"13\": 48, \"9\": 49, \"5\": 44, \"2\": 31, \"3\": 5, \"7\": 1, \"4\": 2}, \"4\": {\"4\": 982, \"7\": 34, \"12\": 61, \"10\": 81, \"6\": 15, \"1\": 1, \"2\": 15, \"8\": 5, \"9\": 2, \"3\": 2, \"5\": 1, \"14\": 1}, \"5\": {\"5\": 504, \"3\": 217, \"15\": 43, \"1\": 314, \"12\": 31, \"9\": 56, \"8\": 16, \"0\": 12, \"2\": 2, \"4\": 5}, \"3\": {\"8\": 111, \"9\": 237, \"3\": 481, \"5\": 183, \"1\": 91, \"0\": 27, \"7\": 22, \"12\": 29, \"2\": 15, \"4\": 1, \"15\": 3}, \"1\": {\"5\": 296, \"1\": 502, \"15\": 168, \"12\": 50, \"3\": 74, \"9\": 91, \"7\": 2, \"2\": 9, \"8\": 2, \"0\": 4, \"13\": 2}, \"6\": {\"2\": 5, \"6\": 1033, \"4\": 11, \"14\": 40, \"7\": 88, \"10\": 22, \"8\": 1}, \"12\": {\"12\": 586, \"2\": 159, \"7\": 28, \"13\": 43, \"15\": 164, \"4\": 59, \"9\": 67, \"1\": 53, \"5\": 30, \"3\": 9, \"8\": 2}}, \"14\": {\"14\": {\"14\": 872, \"13\": 133, \"2\": 112, \"3\": 28, \"0\": 17, \"6\": 38}, \"6\": {\"6\": 732, \"14\": 99, \"13\": 338, \"2\": 21, \"3\": 10}, \"5\": {\"5\": 941, \"2\": 137, \"7\": 47, \"4\": 48, \"3\": 12, \"14\": 11, \"8\": 4}, \"15\": {\"15\": 1200}, \"11\": {\"11\": 1200}, \"8\": {\"8\": 1195, \"0\": 5}, \"12\": {\"12\": 1199, \"9\": 1}, \"1\": {\"1\": 1197, \"4\": 3}, \"2\": {\"14\": 211, \"2\": 473, \"3\": 102, \"0\": 18, \"6\": 67, \"13\": 61, \"4\": 107, \"5\": 143, \"7\": 17, \"10\": 1}, \"13\": {\"6\": 397, \"14\": 308, \"13\": 288, \"15\": 98, \"2\": 80, \"3\": 5, \"4\": 12, \"10\": 4, \"0\": 8}, \"3\": {\"3\": 1094, \"0\": 20, \"6\": 18, \"14\": 35, \"2\": 13, \"13\": 13, \"5\": 7}, \"0\": {\"0\": 926, \"10\": 62, \"3\": 173, \"14\": 24, \"4\": 9, \"2\": 1, \"8\": 3, \"13\": 1, \"5\": 1}, \"9\": {\"9\": 1197, \"10\": 3}, \"4\": {\"4\": 1134, \"5\": 38, \"0\": 1, \"10\": 2, \"2\": 22, \"1\": 3}, \"7\": {\"7\": 1168, \"5\": 30, \"2\": 2}, \"10\": {\"10\": 1199, \"4\": 1}}, \"38\": {\"4\": {\"4\": 1174, \"10\": 12, \"0\": 12, \"13\": 1, \"7\": 1}, \"14\": {\"14\": 950, \"2\": 240, \"13\": 9, \"12\": 1}, \"5\": {\"8\": 423, \"5\": 544, \"9\": 76, \"7\": 104, \"15\": 47, \"13\": 1, \"12\": 4, \"0\": 1}, \"10\": {\"4\": 18, \"10\": 1029, \"13\": 97, \"0\": 53, \"11\": 3}, \"13\": {\"13\": 1098, \"10\": 72, \"0\": 17, \"2\": 6, \"14\": 5, \"4\": 1, \"7\": 1}, \"9\": {\"9\": 1125, \"7\": 31, \"5\": 36, \"8\": 8}, \"6\": {\"6\": 1199, \"1\": 1}, \"3\": {\"3\": 1200}, \"15\": {\"15\": 1098, \"8\": 40, \"2\": 16, \"5\": 32, \"12\": 5, \"1\": 9}, \"7\": {\"7\": 1150, \"8\": 26, \"0\": 12, \"5\": 10, \"9\": 2}, \"12\": {\"12\": 1152, \"15\": 6, \"8\": 19, \"14\": 15, \"2\": 6, \"5\": 2}, \"8\": {\"8\": 633, \"5\": 395, \"7\": 117, \"13\": 15, \"15\": 20, \"12\": 9, \"0\": 5, \"9\": 4, \"14\": 1, \"2\": 1}, \"11\": {\"11\": 1200}, \"2\": {\"2\": 991, \"14\": 207, \"13\": 2}, \"1\": {\"1\": 1199, \"6\": 1}, \"0\": {\"10\": 157, \"3\": 59, \"0\": 765, \"7\": 126, \"13\": 60, \"5\": 2, \"4\": 27, \"8\": 4}}, \"44\": {\"8\": {\"0\": 387, \"8\": 714, \"5\": 45, \"15\": 54}, \"11\": {\"11\": 1200}, \"14\": {\"14\": 849, \"4\": 232, \"5\": 56, \"15\": 63}, \"10\": {\"10\": 1068, \"7\": 54, \"2\": 54, \"1\": 23, \"9\": 1}, \"3\": {\"3\": 1159, \"12\": 41}, \"15\": {\"15\": 933, \"14\": 121, \"5\": 86, \"8\": 40, \"4\": 9, \"0\": 11}, \"2\": {\"2\": 1135, \"1\": 54, \"10\": 11}, \"12\": {\"12\": 1151, \"3\": 49}, \"4\": {\"4\": 763, \"14\": 390, \"9\": 6, \"15\": 29, \"13\": 5, \"6\": 1, \"5\": 6}, \"1\": {\"1\": 1129, \"2\": 71}, \"0\": {\"0\": 866, \"8\": 317, \"5\": 8, \"15\": 9}, \"9\": {\"6\": 211, \"9\": 472, \"7\": 362, \"2\": 28, \"13\": 119, \"10\": 1, \"4\": 7}, \"5\": {\"5\": 993, \"15\": 75, \"14\": 68, \"8\": 42, \"0\": 18, \"4\": 4}, \"6\": {\"6\": 977, \"13\": 160, \"9\": 63}, \"7\": {\"7\": 988, \"9\": 182, \"10\": 25, \"6\": 5}, \"13\": {\"6\": 197, \"13\": 979, \"9\": 19, \"11\": 5}}, \"26\": {\"6\": {\"6\": 806, \"1\": 25, \"15\": 101, \"10\": 177, \"14\": 32, \"5\": 50, \"0\": 9}, \"11\": {\"11\": 1198, \"12\": 2}, \"5\": {\"5\": 846, \"15\": 290, \"6\": 51, \"14\": 5, \"1\": 6, \"10\": 2}, \"14\": {\"6\": 17, \"14\": 673, \"1\": 140, \"0\": 143, \"10\": 210, \"15\": 15, \"5\": 1, \"8\": 1}, \"2\": {\"9\": 60, \"2\": 661, \"10\": 11, \"7\": 217, \"3\": 115, \"0\": 25, \"15\": 34, \"5\": 1, \"8\": 70, \"13\": 5, \"14\": 1}, \"7\": {\"8\": 164, \"2\": 166, \"3\": 116, \"7\": 685, \"9\": 60, \"0\": 8, \"13\": 1}, \"3\": {\"3\": 874, \"2\": 73, \"7\": 211, \"9\": 22, \"13\": 5, \"4\": 6, \"8\": 9}, \"4\": {\"4\": 1193, \"9\": 3, \"7\": 2, \"3\": 2}, \"9\": {\"9\": 718, \"2\": 52, \"13\": 94, \"3\": 10, \"8\": 249, \"4\": 9, \"7\": 62, \"15\": 1, \"0\": 5}, \"12\": {\"12\": 1200}, \"0\": {\"0\": 692, \"8\": 65, \"10\": 229, \"14\": 160, \"7\": 12, \"15\": 18, \"6\": 16, \"1\": 1, \"2\": 5, \"5\": 1, \"9\": 1}, \"10\": {\"0\": 209, \"10\": 524, \"14\": 239, \"6\": 144, \"15\": 55, \"1\": 24, \"5\": 3, \"8\": 2}, \"8\": {\"9\": 223, \"8\": 679, \"7\": 183, \"0\": 50, \"2\": 51, \"10\": 5, \"3\": 9}, \"13\": {\"13\": 1023, \"9\": 93, \"4\": 4, \"3\": 21, \"2\": 51, \"8\": 4, \"7\": 3, \"5\": 1}, \"1\": {\"1\": 889, \"14\": 209, \"6\": 28, \"10\": 58, \"15\": 5, \"0\": 11}, \"15\": {\"10\": 77, \"15\": 602, \"1\": 14, \"5\": 308, \"6\": 140, \"2\": 7, \"14\": 28, \"0\": 20, \"8\": 1, \"9\": 2, \"7\": 1}}}, \"per_domain_accuracy\": {\"8\": {\"accuracy\": 0.8544791666666667, \"source?\": true}, \"50\": {\"accuracy\": 0.9111979166666667, \"source?\": true}, \"32\": {\"accuracy\": 0.8884375, \"source?\": true}, \"20\": {\"accuracy\": 0.6496875, \"source?\": false}, \"14\": {\"accuracy\": 0.8341145833333333, \"source?\": false}, \"38\": {\"accuracy\": 0.8597395833333333, \"source?\": false}, \"44\": {\"accuracy\": 0.8008333333333333, \"source?\": false}, \"26\": {\"accuracy\": 0.69078125, \"source?\": false}}}, \"history\": {\"epoch_indices\": [1, 2, 3, 4, 5, 6, 7, 8, 9, 10, 11], \"train_label_loss\": [0.657527892287998, 0.4511870751003661, 0.3194035580604973, 0.2639275911475517, 0.22155600884190155, 0.18835565926418418, 0.16050368939792473, 0.1397481692139806, 0.12386003330106005, 0.10869273935342097, 0.10019495734055194], \"source_val_label_loss\": [22.71576690673828, 0.39713552594184875, 0.3667215406894684, 0.3448445796966553, 0.3409986197948456, 0.3474137783050537, 0.33777663111686707, 0.34616827964782715, 0.3463597297668457, 0.3659325838088989, 0.36944085359573364], \"target_val_label_loss\": [13.756291389465332, 0.6948063969612122, 0.7236902713775635, 0.7465474605560303, 0.7313658595085144, 0.7866724133491516, 0.7626777291297913, 0.8159527778625488, 0.8331071734428406, 0.8704234957695007, 0.8992281556129456], \"source_val_acc_label\": [0.72296875, 0.8544965277777777, 0.8678819444444444, 0.8771701388888888, 0.8804861111111111, 0.88390625, 0.8847048611111111, 0.8882118055555556, 0.8879166666666667, 0.8858333333333334, 0.8874826388888889], \"target_val_acc_label\": [0.6065729166666667, 0.7538125, 0.7516770833333334, 0.7564270833333333, 0.7653958333333334, 0.7639791666666667, 0.76703125, 0.7606041666666666, 0.76040625, 0.75490625, 0.7515729166666667]}, \"dataset_metrics\": {\"source\": {\"train\": {\"n_unique_x\": 336000, \"n_unique_y\": 16, \"n_batch/episode\": 12600}, \"val\": {\"n_unique_x\": 72000, \"n_unique_y\": 16, \"n_batch/episode\": 1800}, \"test\": {\"n_unique_x\": 72000, \"n_unique_y\": 16, \"n_batch/episode\": 1800}}, \"target\": {\"train\": {\"n_unique_x\": 560000, \"n_unique_y\": 16, \"n_batch/episode\": 21000}, \"val\": {\"n_unique_x\": 120000, \"n_unique_y\": 16, \"n_batch/episode\": 3000}, \"test\": {\"n_unique_x\": 120000, \"n_unique_y\": 16, \"n_batch/episode\": 3000}}}}'"
      ]
     },
     "execution_count": 20,
     "metadata": {},
     "output_type": "execute_result"
    }
   ],
   "source": [
    "json.dumps(experiment)"
   ]
  }
 ],
 "metadata": {
  "celltoolbar": "Tags",
  "kernelspec": {
   "display_name": "Python 3 (ipykernel)",
   "language": "python",
   "name": "python3"
  },
  "language_info": {
   "codemirror_mode": {
    "name": "ipython",
    "version": 3
   },
   "file_extension": ".py",
   "mimetype": "text/x-python",
   "name": "python",
   "nbconvert_exporter": "python",
   "pygments_lexer": "ipython3",
   "version": "3.8.12"
  },
  "papermill": {
   "default_parameters": {},
   "duration": 8017.059356,
   "end_time": "2022-03-26T07:00:18.972233",
   "environment_variables": {},
   "exception": null,
   "input_path": "/root/csc500-main/csc500-notebooks/templates/ptn_template.ipynb",
   "output_path": "trial.ipynb",
   "parameters": {
    "parameters": {
     "BEST_MODEL_PATH": "./best_model.pth",
     "NUM_LOGS_PER_EPOCH": 10,
     "criteria_for_best": "target_accuracy",
     "dataset_seed": 500,
     "device": "cuda",
     "domains_source": [
      8,
      32,
      50
     ],
     "domains_target": [
      14,
      20,
      26,
      38,
      44
     ],
     "episode_transforms_source": [],
     "episode_transforms_target": [],
     "experiment_name": "tuned_1v2:oracle.run1_limited",
     "labels_source": [
      "3123D52",
      "3123D65",
      "3123D79",
      "3123D80",
      "3123D54",
      "3123D70",
      "3123D7B",
      "3123D89",
      "3123D58",
      "3123D76",
      "3123D7D",
      "3123EFE",
      "3123D64",
      "3123D78",
      "3123D7E",
      "3124E4A"
     ],
     "labels_target": [
      "3123D52",
      "3123D65",
      "3123D79",
      "3123D80",
      "3123D54",
      "3123D70",
      "3123D7B",
      "3123D89",
      "3123D58",
      "3123D76",
      "3123D7D",
      "3123EFE",
      "3123D64",
      "3123D78",
      "3123D7E",
      "3124E4A"
     ],
     "lr": 0.0001,
     "n_epoch": 50,
     "n_query": 2,
     "n_shot": 3,
     "n_way": 16,
     "num_examples_per_domain_per_label_source": -1,
     "num_examples_per_domain_per_label_target": -1,
     "patience": 3,
     "pickle_name": "oracle.Run1_10kExamples_stratified_ds.2022A.pkl",
     "seed": 500,
     "test_k_factor": 2,
     "torch_default_dtype": "torch.float32",
     "train_k_factor": 3,
     "val_k_factor": 2,
     "x_net": [
      {
       "class": "nnReshape",
       "kargs": {
        "shape": [
         -1,
         1,
         2,
         256
        ]
       }
      },
      {
       "class": "Conv2d",
       "kargs": {
        "bias": false,
        "in_channels": 1,
        "kernel_size": [
         1,
         7
        ],
        "out_channels": 256,
        "padding": [
         0,
         3
        ]
       }
      },
      {
       "class": "ReLU",
       "kargs": {
        "inplace": true
       }
      },
      {
       "class": "BatchNorm2d",
       "kargs": {
        "num_features": 256
       }
      },
      {
       "class": "Conv2d",
       "kargs": {
        "bias": true,
        "in_channels": 256,
        "kernel_size": [
         2,
         7
        ],
        "out_channels": 80,
        "padding": [
         0,
         3
        ]
       }
      },
      {
       "class": "ReLU",
       "kargs": {
        "inplace": true
       }
      },
      {
       "class": "BatchNorm2d",
       "kargs": {
        "num_features": 80
       }
      },
      {
       "class": "Flatten",
       "kargs": {}
      },
      {
       "class": "Linear",
       "kargs": {
        "in_features": 20480,
        "out_features": 256
       }
      },
      {
       "class": "ReLU",
       "kargs": {
        "inplace": true
       }
      },
      {
       "class": "BatchNorm1d",
       "kargs": {
        "num_features": 256
       }
      },
      {
       "class": "Linear",
       "kargs": {
        "in_features": 256,
        "out_features": 256
       }
      }
     ],
     "x_transforms_source": [],
     "x_transforms_target": []
    }
   },
   "start_time": "2022-03-26T04:46:41.912877",
   "version": "2.3.4"
  }
 },
 "nbformat": 4,
 "nbformat_minor": 5
}