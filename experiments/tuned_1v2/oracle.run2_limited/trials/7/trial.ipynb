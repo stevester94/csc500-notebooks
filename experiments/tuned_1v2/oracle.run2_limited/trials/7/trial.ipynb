{
 "cells": [
  {
   "cell_type": "markdown",
   "id": "9fea5f46",
   "metadata": {
    "papermill": {
     "duration": 0.023348,
     "end_time": "2022-03-26T15:46:06.242054",
     "exception": false,
     "start_time": "2022-03-26T15:46:06.218706",
     "status": "completed"
    },
    "tags": []
   },
   "source": [
    "# PTN Template\n",
    "This notebook serves as a template for single dataset PTN experiments  \n",
    "It can be run on its own by setting STANDALONE to True (do a find for \"STANDALONE\" to see where)  \n",
    "But it is intended to be executed as part of a *papermill.py script. See any of the   \n",
    "experimentes with a papermill script to get started with that workflow.  "
   ]
  },
  {
   "cell_type": "code",
   "execution_count": 1,
   "id": "0902182a",
   "metadata": {
    "execution": {
     "iopub.execute_input": "2022-03-26T15:46:06.293638Z",
     "iopub.status.busy": "2022-03-26T15:46:06.286297Z",
     "iopub.status.idle": "2022-03-26T15:46:08.120226Z",
     "shell.execute_reply": "2022-03-26T15:46:08.119634Z"
    },
    "papermill": {
     "duration": 1.861326,
     "end_time": "2022-03-26T15:46:08.120378",
     "exception": false,
     "start_time": "2022-03-26T15:46:06.259052",
     "status": "completed"
    },
    "tags": []
   },
   "outputs": [],
   "source": [
    "%load_ext autoreload\n",
    "%autoreload 2\n",
    "%matplotlib inline\n",
    "\n",
    "    \n",
    "import os, json, sys, time, random\n",
    "import numpy as np\n",
    "import torch\n",
    "from torch.optim import Adam\n",
    "from  easydict import EasyDict\n",
    "import matplotlib.pyplot as plt\n",
    "\n",
    "from steves_models.steves_ptn import Steves_Prototypical_Network\n",
    "\n",
    "from steves_utils.lazy_iterable_wrapper import Lazy_Iterable_Wrapper\n",
    "from steves_utils.iterable_aggregator import Iterable_Aggregator\n",
    "from steves_utils.ptn_train_eval_test_jig import  PTN_Train_Eval_Test_Jig\n",
    "from steves_utils.torch_sequential_builder import build_sequential\n",
    "from steves_utils.torch_utils import get_dataset_metrics, ptn_confusion_by_domain_over_dataloader\n",
    "from steves_utils.utils_v2 import (per_domain_accuracy_from_confusion, get_datasets_base_path)\n",
    "from steves_utils.PTN.utils import independent_accuracy_assesment\n",
    "\n",
    "from steves_utils.stratified_dataset.episodic_accessor import Episodic_Accessor_Factory\n",
    "\n",
    "from steves_utils.ptn_do_report import (\n",
    "    get_loss_curve,\n",
    "    get_results_table,\n",
    "    get_parameters_table,\n",
    "    get_domain_accuracies,\n",
    ")\n",
    "\n",
    "from steves_utils.transforms import get_chained_transform"
   ]
  },
  {
   "cell_type": "markdown",
   "id": "41c840b4",
   "metadata": {
    "papermill": {
     "duration": 0.020171,
     "end_time": "2022-03-26T15:46:08.162105",
     "exception": false,
     "start_time": "2022-03-26T15:46:08.141934",
     "status": "completed"
    },
    "tags": []
   },
   "source": [
    "# Required Parameters\n",
    "These are allowed parameters, not defaults\n",
    "Each of these values need to be present in the injected parameters (the notebook will raise an exception if they are not present)\n",
    "\n",
    "Papermill uses the cell tag \"parameters\" to inject the real parameters below this cell.\n",
    "Enable tags to see what I mean"
   ]
  },
  {
   "cell_type": "code",
   "execution_count": 2,
   "id": "fd44eb83",
   "metadata": {
    "execution": {
     "iopub.execute_input": "2022-03-26T15:46:08.198931Z",
     "iopub.status.busy": "2022-03-26T15:46:08.198481Z",
     "iopub.status.idle": "2022-03-26T15:46:08.218340Z",
     "shell.execute_reply": "2022-03-26T15:46:08.217442Z"
    },
    "papermill": {
     "duration": 0.038193,
     "end_time": "2022-03-26T15:46:08.218523",
     "exception": false,
     "start_time": "2022-03-26T15:46:08.180330",
     "status": "completed"
    },
    "tags": []
   },
   "outputs": [],
   "source": [
    "required_parameters = {\n",
    "    \"experiment_name\",\n",
    "    \"lr\",\n",
    "    \"device\",\n",
    "    \"seed\",\n",
    "    \"dataset_seed\",\n",
    "    \"labels_source\",\n",
    "    \"labels_target\",\n",
    "    \"domains_source\",\n",
    "    \"domains_target\",\n",
    "    \"num_examples_per_domain_per_label_source\",\n",
    "    \"num_examples_per_domain_per_label_target\",\n",
    "    \"n_shot\",\n",
    "    \"n_way\",\n",
    "    \"n_query\",\n",
    "    \"train_k_factor\",\n",
    "    \"val_k_factor\",\n",
    "    \"test_k_factor\",\n",
    "    \"n_epoch\",\n",
    "    \"patience\",\n",
    "    \"criteria_for_best\",\n",
    "    \"x_transforms_source\",\n",
    "    \"x_transforms_target\",\n",
    "    \"episode_transforms_source\",\n",
    "    \"episode_transforms_target\",\n",
    "    \"pickle_name\",\n",
    "    \"x_net\",\n",
    "    \"NUM_LOGS_PER_EPOCH\",\n",
    "    \"BEST_MODEL_PATH\",\n",
    "    \"torch_default_dtype\"\n",
    "}"
   ]
  },
  {
   "cell_type": "code",
   "execution_count": 3,
   "id": "fa3f0049",
   "metadata": {
    "execution": {
     "iopub.execute_input": "2022-03-26T15:46:08.263836Z",
     "iopub.status.busy": "2022-03-26T15:46:08.263145Z",
     "iopub.status.idle": "2022-03-26T15:46:08.282564Z",
     "shell.execute_reply": "2022-03-26T15:46:08.281804Z"
    },
    "papermill": {
     "duration": 0.043985,
     "end_time": "2022-03-26T15:46:08.282730",
     "exception": false,
     "start_time": "2022-03-26T15:46:08.238745",
     "status": "completed"
    },
    "tags": [
     "parameters"
    ]
   },
   "outputs": [],
   "source": [
    "\n",
    "\n",
    "standalone_parameters = {}\n",
    "standalone_parameters[\"experiment_name\"] = \"STANDALONE PTN\"\n",
    "standalone_parameters[\"lr\"] = 0.0001\n",
    "standalone_parameters[\"device\"] = \"cuda\"\n",
    "\n",
    "standalone_parameters[\"seed\"] = 1337\n",
    "standalone_parameters[\"dataset_seed\"] = 1337\n",
    "\n",
    "\n",
    "standalone_parameters[\"num_examples_per_domain_per_label_source\"]=100\n",
    "standalone_parameters[\"num_examples_per_domain_per_label_target\"]=100\n",
    "\n",
    "standalone_parameters[\"n_shot\"] = 3\n",
    "standalone_parameters[\"n_query\"]  = 2\n",
    "standalone_parameters[\"train_k_factor\"] = 1\n",
    "standalone_parameters[\"val_k_factor\"] = 2\n",
    "standalone_parameters[\"test_k_factor\"] = 2\n",
    "\n",
    "\n",
    "standalone_parameters[\"n_epoch\"] = 100\n",
    "\n",
    "standalone_parameters[\"patience\"] = 10\n",
    "standalone_parameters[\"criteria_for_best\"] = \"target_accuracy\"\n",
    "\n",
    "standalone_parameters[\"x_transforms_source\"] = [\"unit_power\"]\n",
    "standalone_parameters[\"x_transforms_target\"] = [\"unit_power\"]\n",
    "standalone_parameters[\"episode_transforms_source\"] = []\n",
    "standalone_parameters[\"episode_transforms_target\"] = []\n",
    "\n",
    "standalone_parameters[\"torch_default_dtype\"] = \"torch.float32\" \n",
    "\n",
    "\n",
    "\n",
    "standalone_parameters[\"x_net\"] =     [\n",
    "    {\"class\": \"nnReshape\", \"kargs\": {\"shape\":[-1, 1, 2, 256]}},\n",
    "    {\"class\": \"Conv2d\", \"kargs\": { \"in_channels\":1, \"out_channels\":256, \"kernel_size\":(1,7), \"bias\":False, \"padding\":(0,3), },},\n",
    "    {\"class\": \"ReLU\", \"kargs\": {\"inplace\": True}},\n",
    "    {\"class\": \"BatchNorm2d\", \"kargs\": {\"num_features\":256}},\n",
    "\n",
    "    {\"class\": \"Conv2d\", \"kargs\": { \"in_channels\":256, \"out_channels\":80, \"kernel_size\":(2,7), \"bias\":True, \"padding\":(0,3), },},\n",
    "    {\"class\": \"ReLU\", \"kargs\": {\"inplace\": True}},\n",
    "    {\"class\": \"BatchNorm2d\", \"kargs\": {\"num_features\":80}},\n",
    "    {\"class\": \"Flatten\", \"kargs\": {}},\n",
    "\n",
    "    {\"class\": \"Linear\", \"kargs\": {\"in_features\": 80*256, \"out_features\": 256}}, # 80 units per IQ pair\n",
    "    {\"class\": \"ReLU\", \"kargs\": {\"inplace\": True}},\n",
    "    {\"class\": \"BatchNorm1d\", \"kargs\": {\"num_features\":256}},\n",
    "\n",
    "    {\"class\": \"Linear\", \"kargs\": {\"in_features\": 256, \"out_features\": 256}},\n",
    "]\n",
    "\n",
    "# Parameters relevant to results\n",
    "# These parameters will basically never need to change\n",
    "standalone_parameters[\"NUM_LOGS_PER_EPOCH\"] = 10\n",
    "standalone_parameters[\"BEST_MODEL_PATH\"] = \"./best_model.pth\"\n",
    "\n",
    "# uncomment for CORES dataset\n",
    "from steves_utils.CORES.utils import (\n",
    "    ALL_NODES,\n",
    "    ALL_NODES_MINIMUM_1000_EXAMPLES,\n",
    "    ALL_DAYS\n",
    ")\n",
    "\n",
    "\n",
    "standalone_parameters[\"labels_source\"] = ALL_NODES\n",
    "standalone_parameters[\"labels_target\"] = ALL_NODES\n",
    "\n",
    "standalone_parameters[\"domains_source\"] = [1]\n",
    "standalone_parameters[\"domains_target\"] = [2,3,4,5]\n",
    "\n",
    "standalone_parameters[\"pickle_name\"] = \"cores.stratified_ds.2022A.pkl\"\n",
    "\n",
    "\n",
    "# Uncomment these for ORACLE dataset\n",
    "# from steves_utils.ORACLE.utils_v2 import (\n",
    "#     ALL_DISTANCES_FEET,\n",
    "#     ALL_RUNS,\n",
    "#     ALL_SERIAL_NUMBERS,\n",
    "# )\n",
    "# standalone_parameters[\"labels_source\"] = ALL_SERIAL_NUMBERS\n",
    "# standalone_parameters[\"labels_target\"] = ALL_SERIAL_NUMBERS\n",
    "# standalone_parameters[\"domains_source\"] = [8,20, 38,50]\n",
    "# standalone_parameters[\"domains_target\"] = [14, 26, 32, 44, 56]\n",
    "# standalone_parameters[\"pickle_name\"] = \"oracle.frame_indexed.stratified_ds.2022A.pkl\"\n",
    "# standalone_parameters[\"num_examples_per_domain_per_label_source\"]=1000\n",
    "# standalone_parameters[\"num_examples_per_domain_per_label_target\"]=1000\n",
    "\n",
    "# Uncomment these for Metahan dataset\n",
    "# standalone_parameters[\"labels_source\"] = list(range(19))\n",
    "# standalone_parameters[\"labels_target\"] = list(range(19))\n",
    "# standalone_parameters[\"domains_source\"] = [0]\n",
    "# standalone_parameters[\"domains_target\"] = [1]\n",
    "# standalone_parameters[\"pickle_name\"] = \"metehan.stratified_ds.2022A.pkl\"\n",
    "# standalone_parameters[\"n_way\"]  = len(standalone_parameters[\"labels_source\"])\n",
    "# standalone_parameters[\"num_examples_per_domain_per_label_source\"]=200\n",
    "# standalone_parameters[\"num_examples_per_domain_per_label_target\"]=100\n",
    "\n",
    "\n",
    "standalone_parameters[\"n_way\"]  = len(standalone_parameters[\"labels_source\"])"
   ]
  },
  {
   "cell_type": "code",
   "execution_count": 4,
   "id": "a1a1490e",
   "metadata": {
    "execution": {
     "iopub.execute_input": "2022-03-26T15:46:08.328302Z",
     "iopub.status.busy": "2022-03-26T15:46:08.327647Z",
     "iopub.status.idle": "2022-03-26T15:46:08.345940Z",
     "shell.execute_reply": "2022-03-26T15:46:08.345123Z"
    },
    "papermill": {
     "duration": 0.040792,
     "end_time": "2022-03-26T15:46:08.346103",
     "exception": false,
     "start_time": "2022-03-26T15:46:08.305311",
     "status": "completed"
    },
    "tags": [
     "injected-parameters"
    ]
   },
   "outputs": [],
   "source": [
    "# Parameters\n",
    "parameters = {\n",
    "    \"experiment_name\": \"tuned_1v2:oracle.run2_limited\",\n",
    "    \"device\": \"cuda\",\n",
    "    \"lr\": 0.0001,\n",
    "    \"labels_source\": [\n",
    "        \"3123D52\",\n",
    "        \"3123D65\",\n",
    "        \"3123D79\",\n",
    "        \"3123D80\",\n",
    "        \"3123D54\",\n",
    "        \"3123D70\",\n",
    "        \"3123D7B\",\n",
    "        \"3123D89\",\n",
    "        \"3123D58\",\n",
    "        \"3123D76\",\n",
    "        \"3123D7D\",\n",
    "        \"3123EFE\",\n",
    "        \"3123D64\",\n",
    "        \"3123D78\",\n",
    "        \"3123D7E\",\n",
    "        \"3124E4A\",\n",
    "    ],\n",
    "    \"labels_target\": [\n",
    "        \"3123D52\",\n",
    "        \"3123D65\",\n",
    "        \"3123D79\",\n",
    "        \"3123D80\",\n",
    "        \"3123D54\",\n",
    "        \"3123D70\",\n",
    "        \"3123D7B\",\n",
    "        \"3123D89\",\n",
    "        \"3123D58\",\n",
    "        \"3123D76\",\n",
    "        \"3123D7D\",\n",
    "        \"3123EFE\",\n",
    "        \"3123D64\",\n",
    "        \"3123D78\",\n",
    "        \"3123D7E\",\n",
    "        \"3124E4A\",\n",
    "    ],\n",
    "    \"episode_transforms_source\": [],\n",
    "    \"episode_transforms_target\": [],\n",
    "    \"domains_source\": [8, 32, 50],\n",
    "    \"domains_target\": [14, 20, 26, 38, 44],\n",
    "    \"num_examples_per_domain_per_label_source\": -1,\n",
    "    \"num_examples_per_domain_per_label_target\": -1,\n",
    "    \"n_shot\": 3,\n",
    "    \"n_way\": 16,\n",
    "    \"n_query\": 2,\n",
    "    \"train_k_factor\": 3,\n",
    "    \"val_k_factor\": 2,\n",
    "    \"test_k_factor\": 2,\n",
    "    \"torch_default_dtype\": \"torch.float32\",\n",
    "    \"n_epoch\": 50,\n",
    "    \"patience\": 3,\n",
    "    \"criteria_for_best\": \"target_accuracy\",\n",
    "    \"x_net\": [\n",
    "        {\"class\": \"nnReshape\", \"kargs\": {\"shape\": [-1, 1, 2, 256]}},\n",
    "        {\n",
    "            \"class\": \"Conv2d\",\n",
    "            \"kargs\": {\n",
    "                \"in_channels\": 1,\n",
    "                \"out_channels\": 256,\n",
    "                \"kernel_size\": [1, 7],\n",
    "                \"bias\": False,\n",
    "                \"padding\": [0, 3],\n",
    "            },\n",
    "        },\n",
    "        {\"class\": \"ReLU\", \"kargs\": {\"inplace\": True}},\n",
    "        {\"class\": \"BatchNorm2d\", \"kargs\": {\"num_features\": 256}},\n",
    "        {\n",
    "            \"class\": \"Conv2d\",\n",
    "            \"kargs\": {\n",
    "                \"in_channels\": 256,\n",
    "                \"out_channels\": 80,\n",
    "                \"kernel_size\": [2, 7],\n",
    "                \"bias\": True,\n",
    "                \"padding\": [0, 3],\n",
    "            },\n",
    "        },\n",
    "        {\"class\": \"ReLU\", \"kargs\": {\"inplace\": True}},\n",
    "        {\"class\": \"BatchNorm2d\", \"kargs\": {\"num_features\": 80}},\n",
    "        {\"class\": \"Flatten\", \"kargs\": {}},\n",
    "        {\"class\": \"Linear\", \"kargs\": {\"in_features\": 20480, \"out_features\": 256}},\n",
    "        {\"class\": \"ReLU\", \"kargs\": {\"inplace\": True}},\n",
    "        {\"class\": \"BatchNorm1d\", \"kargs\": {\"num_features\": 256}},\n",
    "        {\"class\": \"Linear\", \"kargs\": {\"in_features\": 256, \"out_features\": 256}},\n",
    "    ],\n",
    "    \"NUM_LOGS_PER_EPOCH\": 10,\n",
    "    \"BEST_MODEL_PATH\": \"./best_model.pth\",\n",
    "    \"pickle_name\": \"oracle.Run2_10kExamples_stratified_ds.2022A.pkl\",\n",
    "    \"x_transforms_source\": [],\n",
    "    \"x_transforms_target\": [],\n",
    "    \"dataset_seed\": 500,\n",
    "    \"seed\": 500,\n",
    "}\n"
   ]
  },
  {
   "cell_type": "code",
   "execution_count": 5,
   "id": "8fa1cc33",
   "metadata": {
    "execution": {
     "iopub.execute_input": "2022-03-26T15:46:08.389665Z",
     "iopub.status.busy": "2022-03-26T15:46:08.389145Z",
     "iopub.status.idle": "2022-03-26T15:46:08.406078Z",
     "shell.execute_reply": "2022-03-26T15:46:08.405227Z"
    },
    "papermill": {
     "duration": 0.037279,
     "end_time": "2022-03-26T15:46:08.406245",
     "exception": false,
     "start_time": "2022-03-26T15:46:08.368966",
     "status": "completed"
    },
    "tags": []
   },
   "outputs": [],
   "source": [
    "# Set this to True if you want to run this template directly\n",
    "STANDALONE = False\n",
    "if STANDALONE:\n",
    "    print(\"parameters not injected, running with standalone_parameters\")\n",
    "    parameters = standalone_parameters\n",
    "\n",
    "if not 'parameters' in locals() and not 'parameters' in globals():\n",
    "    raise Exception(\"Parameter injection failed\")\n",
    "\n",
    "#Use an easy dict for all the parameters\n",
    "p = EasyDict(parameters)\n",
    "\n",
    "supplied_keys = set(p.keys())\n",
    "\n",
    "if  supplied_keys != required_parameters:\n",
    "    print(\"Parameters are incorrect\")\n",
    "    if len(supplied_keys - required_parameters)>0: print(\"Shouldn't have:\", str(supplied_keys - required_parameters))\n",
    "    if len(required_parameters - supplied_keys)>0: print(\"Need to have:\", str(required_parameters - supplied_keys))\n",
    "    raise RuntimeError(\"Parameters are incorrect\")\n",
    "\n"
   ]
  },
  {
   "cell_type": "code",
   "execution_count": 6,
   "id": "3a028d58",
   "metadata": {
    "execution": {
     "iopub.execute_input": "2022-03-26T15:46:08.445285Z",
     "iopub.status.busy": "2022-03-26T15:46:08.444902Z",
     "iopub.status.idle": "2022-03-26T15:46:08.462452Z",
     "shell.execute_reply": "2022-03-26T15:46:08.461611Z"
    },
    "papermill": {
     "duration": 0.035471,
     "end_time": "2022-03-26T15:46:08.462621",
     "exception": false,
     "start_time": "2022-03-26T15:46:08.427150",
     "status": "completed"
    },
    "tags": []
   },
   "outputs": [],
   "source": [
    "###################################\n",
    "# Set the RNGs and make it all deterministic\n",
    "###################################\n",
    "np.random.seed(p.seed)\n",
    "random.seed(p.seed)\n",
    "torch.manual_seed(p.seed)\n",
    "\n",
    "torch.use_deterministic_algorithms(True) "
   ]
  },
  {
   "cell_type": "code",
   "execution_count": 7,
   "id": "b691acf6",
   "metadata": {
    "execution": {
     "iopub.execute_input": "2022-03-26T15:46:08.502213Z",
     "iopub.status.busy": "2022-03-26T15:46:08.501566Z",
     "iopub.status.idle": "2022-03-26T15:46:08.518217Z",
     "shell.execute_reply": "2022-03-26T15:46:08.517396Z"
    },
    "papermill": {
     "duration": 0.034146,
     "end_time": "2022-03-26T15:46:08.518377",
     "exception": false,
     "start_time": "2022-03-26T15:46:08.484231",
     "status": "completed"
    },
    "tags": []
   },
   "outputs": [],
   "source": [
    "###########################################\n",
    "# The stratified datasets honor this\n",
    "###########################################\n",
    "torch.set_default_dtype(eval(p.torch_default_dtype))"
   ]
  },
  {
   "cell_type": "code",
   "execution_count": 8,
   "id": "b5fba671",
   "metadata": {
    "execution": {
     "iopub.execute_input": "2022-03-26T15:46:08.556874Z",
     "iopub.status.busy": "2022-03-26T15:46:08.556493Z",
     "iopub.status.idle": "2022-03-26T15:46:08.607208Z",
     "shell.execute_reply": "2022-03-26T15:46:08.606491Z"
    },
    "papermill": {
     "duration": 0.068426,
     "end_time": "2022-03-26T15:46:08.607381",
     "exception": false,
     "start_time": "2022-03-26T15:46:08.538955",
     "status": "completed"
    },
    "tags": []
   },
   "outputs": [],
   "source": [
    "###################################\n",
    "# Build the network(s)\n",
    "# Note: It's critical to do this AFTER setting the RNG\n",
    "# (This is due to the randomized initial weights)\n",
    "###################################\n",
    "x_net = build_sequential(p.x_net)"
   ]
  },
  {
   "cell_type": "code",
   "execution_count": 9,
   "id": "5d7e61cc",
   "metadata": {
    "execution": {
     "iopub.execute_input": "2022-03-26T15:46:08.646165Z",
     "iopub.status.busy": "2022-03-26T15:46:08.645329Z",
     "iopub.status.idle": "2022-03-26T15:46:08.668317Z",
     "shell.execute_reply": "2022-03-26T15:46:08.667447Z"
    },
    "papermill": {
     "duration": 0.040935,
     "end_time": "2022-03-26T15:46:08.668486",
     "exception": false,
     "start_time": "2022-03-26T15:46:08.627551",
     "status": "completed"
    },
    "tags": []
   },
   "outputs": [],
   "source": [
    "start_time_secs = time.time()"
   ]
  },
  {
   "cell_type": "code",
   "execution_count": 10,
   "id": "fd5442bc",
   "metadata": {
    "execution": {
     "iopub.execute_input": "2022-03-26T15:46:08.711820Z",
     "iopub.status.busy": "2022-03-26T15:46:08.711181Z",
     "iopub.status.idle": "2022-03-26T15:46:20.981017Z",
     "shell.execute_reply": "2022-03-26T15:46:20.981718Z"
    },
    "papermill": {
     "duration": 12.293455,
     "end_time": "2022-03-26T15:46:20.981953",
     "exception": false,
     "start_time": "2022-03-26T15:46:08.688498",
     "status": "completed"
    },
    "tags": []
   },
   "outputs": [],
   "source": [
    "###################################\n",
    "# Build the dataset\n",
    "###################################\n",
    "\n",
    "if p.x_transforms_source == []: x_transform_source = None\n",
    "else: x_transform_source = get_chained_transform(p.x_transforms_source) \n",
    "\n",
    "if p.x_transforms_target == []: x_transform_target = None\n",
    "else: x_transform_target = get_chained_transform(p.x_transforms_target)\n",
    "\n",
    "if p.episode_transforms_source == []: episode_transform_source = None\n",
    "else: raise Exception(\"episode_transform_source not implemented\")\n",
    "\n",
    "if p.episode_transforms_target == []: episode_transform_target = None\n",
    "else: raise Exception(\"episode_transform_target not implemented\")\n",
    "\n",
    "\n",
    "eaf_source = Episodic_Accessor_Factory(\n",
    "    labels=p.labels_source,\n",
    "    domains=p.domains_source,\n",
    "    num_examples_per_domain_per_label=p.num_examples_per_domain_per_label_source,\n",
    "    iterator_seed=p.seed,\n",
    "    dataset_seed=p.dataset_seed,\n",
    "    n_shot=p.n_shot,\n",
    "    n_way=p.n_way,\n",
    "    n_query=p.n_query,\n",
    "    train_val_test_k_factors=(p.train_k_factor,p.val_k_factor,p.test_k_factor),\n",
    "    pickle_path=os.path.join(get_datasets_base_path(), p.pickle_name),\n",
    "    x_transform_func=x_transform_source,\n",
    "    example_transform_func=episode_transform_source,\n",
    "    \n",
    ")\n",
    "train_original_source, val_original_source, test_original_source = eaf_source.get_train(), eaf_source.get_val(), eaf_source.get_test()\n",
    "\n",
    "\n",
    "eaf_target = Episodic_Accessor_Factory(\n",
    "    labels=p.labels_target,\n",
    "    domains=p.domains_target,\n",
    "    num_examples_per_domain_per_label=p.num_examples_per_domain_per_label_target,\n",
    "    iterator_seed=p.seed,\n",
    "    dataset_seed=p.dataset_seed,\n",
    "    n_shot=p.n_shot,\n",
    "    n_way=p.n_way,\n",
    "    n_query=p.n_query,\n",
    "    train_val_test_k_factors=(p.train_k_factor,p.val_k_factor,p.test_k_factor),\n",
    "    pickle_path=os.path.join(get_datasets_base_path(), p.pickle_name),\n",
    "    x_transform_func=x_transform_target,\n",
    "    example_transform_func=episode_transform_target,\n",
    ")\n",
    "train_original_target, val_original_target, test_original_target = eaf_target.get_train(), eaf_target.get_val(), eaf_target.get_test()\n",
    "\n",
    "\n",
    "transform_lambda = lambda ex: ex[1] # Original is (<domain>, <episode>) so we strip down to episode only\n",
    "\n",
    "train_processed_source = Lazy_Iterable_Wrapper(train_original_source, transform_lambda)\n",
    "val_processed_source   = Lazy_Iterable_Wrapper(val_original_source, transform_lambda)\n",
    "test_processed_source  = Lazy_Iterable_Wrapper(test_original_source, transform_lambda)\n",
    "\n",
    "train_processed_target = Lazy_Iterable_Wrapper(train_original_target, transform_lambda)\n",
    "val_processed_target   = Lazy_Iterable_Wrapper(val_original_target, transform_lambda)\n",
    "test_processed_target  = Lazy_Iterable_Wrapper(test_original_target, transform_lambda)\n",
    "\n",
    "datasets = EasyDict({\n",
    "    \"source\": {\n",
    "        \"original\": {\"train\":train_original_source, \"val\":val_original_source, \"test\":test_original_source},\n",
    "        \"processed\": {\"train\":train_processed_source, \"val\":val_processed_source, \"test\":test_processed_source}\n",
    "    },\n",
    "    \"target\": {\n",
    "        \"original\": {\"train\":train_original_target, \"val\":val_original_target, \"test\":test_original_target},\n",
    "        \"processed\": {\"train\":train_processed_target, \"val\":val_processed_target, \"test\":test_processed_target}\n",
    "    },\n",
    "})"
   ]
  },
  {
   "cell_type": "code",
   "execution_count": 11,
   "id": "296189d9",
   "metadata": {
    "execution": {
     "iopub.execute_input": "2022-03-26T15:46:21.022166Z",
     "iopub.status.busy": "2022-03-26T15:46:21.021780Z",
     "iopub.status.idle": "2022-03-26T15:46:26.935357Z",
     "shell.execute_reply": "2022-03-26T15:46:26.934579Z"
    },
    "papermill": {
     "duration": 5.933224,
     "end_time": "2022-03-26T15:46:26.935550",
     "exception": false,
     "start_time": "2022-03-26T15:46:21.002326",
     "status": "completed"
    },
    "tags": []
   },
   "outputs": [
    {
     "name": "stdout",
     "output_type": "stream",
     "text": [
      "Visually inspect these to see if they line up with expected values given the transforms\n",
      "x_transforms_source []\n",
      "x_transforms_target []\n",
      "Average magnitude, source: 0.006031243\n",
      "Average power, source: 4.574067e-05\n"
     ]
    },
    {
     "name": "stdout",
     "output_type": "stream",
     "text": [
      "Average magnitude, target: 0.0051132403\n",
      "Average power, target: 3.2162818e-05\n"
     ]
    }
   ],
   "source": [
    "# Some quick unit tests on the data\n",
    "from steves_utils.transforms import get_average_power, get_average_magnitude\n",
    "\n",
    "q_x, q_y, s_x, s_y, truth = next(iter(train_processed_source))\n",
    "\n",
    "assert q_x.dtype == eval(p.torch_default_dtype)\n",
    "assert s_x.dtype == eval(p.torch_default_dtype)\n",
    "\n",
    "print(\"Visually inspect these to see if they line up with expected values given the transforms\")\n",
    "print('x_transforms_source', p.x_transforms_source)\n",
    "print('x_transforms_target', p.x_transforms_target)\n",
    "print(\"Average magnitude, source:\", get_average_magnitude(q_x[0].numpy()))\n",
    "print(\"Average power, source:\", get_average_power(q_x[0].numpy()))\n",
    "\n",
    "q_x, q_y, s_x, s_y, truth = next(iter(train_processed_target))\n",
    "print(\"Average magnitude, target:\", get_average_magnitude(q_x[0].numpy()))\n",
    "print(\"Average power, target:\", get_average_power(q_x[0].numpy()))\n"
   ]
  },
  {
   "cell_type": "code",
   "execution_count": 12,
   "id": "bbdacba1",
   "metadata": {
    "execution": {
     "iopub.execute_input": "2022-03-26T15:46:26.981077Z",
     "iopub.status.busy": "2022-03-26T15:46:26.980699Z",
     "iopub.status.idle": "2022-03-26T15:46:27.241254Z",
     "shell.execute_reply": "2022-03-26T15:46:27.241585Z"
    },
    "papermill": {
     "duration": 0.282864,
     "end_time": "2022-03-26T15:46:27.241726",
     "exception": false,
     "start_time": "2022-03-26T15:46:26.958862",
     "status": "completed"
    },
    "tags": []
   },
   "outputs": [
    {
     "name": "stdout",
     "output_type": "stream",
     "text": [
      "(2, 256)\n"
     ]
    }
   ],
   "source": [
    "###################################\n",
    "# Build the model\n",
    "###################################\n",
    "model = Steves_Prototypical_Network(x_net, device=p.device, x_shape=(2,256))\n",
    "optimizer = Adam(params=model.parameters(), lr=p.lr)"
   ]
  },
  {
   "cell_type": "code",
   "execution_count": 13,
   "id": "22b39ac5",
   "metadata": {
    "execution": {
     "iopub.execute_input": "2022-03-26T15:46:27.278874Z",
     "iopub.status.busy": "2022-03-26T15:46:27.278497Z",
     "iopub.status.idle": "2022-03-26T16:36:46.705171Z",
     "shell.execute_reply": "2022-03-26T16:36:46.704816Z"
    },
    "papermill": {
     "duration": 3019.447029,
     "end_time": "2022-03-26T16:36:46.705258",
     "exception": false,
     "start_time": "2022-03-26T15:46:27.258229",
     "status": "completed"
    },
    "tags": []
   },
   "outputs": [
    {
     "name": "stdout",
     "output_type": "stream",
     "text": [
      "epoch: 1, [batch: 1 / 12600], examples_per_second: 17.8697, train_label_loss: 2.7235, \n"
     ]
    },
    {
     "name": "stdout",
     "output_type": "stream",
     "text": [
      "epoch: 1, [batch: 1260 / 12600], examples_per_second: 4279.9662, train_label_loss: 1.1437, \n"
     ]
    },
    {
     "name": "stdout",
     "output_type": "stream",
     "text": [
      "epoch: 1, [batch: 2520 / 12600], examples_per_second: 4334.5479, train_label_loss: 0.6009, \n"
     ]
    },
    {
     "name": "stdout",
     "output_type": "stream",
     "text": [
      "epoch: 1, [batch: 3780 / 12600], examples_per_second: 4550.4175, train_label_loss: 0.6477, \n"
     ]
    },
    {
     "name": "stdout",
     "output_type": "stream",
     "text": [
      "epoch: 1, [batch: 5040 / 12600], examples_per_second: 4127.3234, train_label_loss: 0.3026, \n"
     ]
    },
    {
     "name": "stdout",
     "output_type": "stream",
     "text": [
      "epoch: 1, [batch: 6300 / 12600], examples_per_second: 4163.9842, train_label_loss: 0.1784, \n"
     ]
    },
    {
     "name": "stdout",
     "output_type": "stream",
     "text": [
      "epoch: 1, [batch: 7560 / 12600], examples_per_second: 4235.2200, train_label_loss: 0.3191, \n"
     ]
    },
    {
     "name": "stdout",
     "output_type": "stream",
     "text": [
      "epoch: 1, [batch: 8820 / 12600], examples_per_second: 4695.9057, train_label_loss: 0.2802, \n"
     ]
    },
    {
     "name": "stdout",
     "output_type": "stream",
     "text": [
      "epoch: 1, [batch: 10080 / 12600], examples_per_second: 5096.2313, train_label_loss: 0.1379, \n"
     ]
    },
    {
     "name": "stdout",
     "output_type": "stream",
     "text": [
      "epoch: 1, [batch: 11340 / 12600], examples_per_second: 4919.0904, train_label_loss: 0.2122, \n"
     ]
    },
    {
     "name": "stdout",
     "output_type": "stream",
     "text": [
      "=============================================================\n",
      "epoch: 1, source_val_acc_label: 0.7191, target_val_acc_label: 0.5630, source_val_label_loss: 28.4756, target_val_label_loss: 21.8523, \n",
      "=============================================================\n"
     ]
    },
    {
     "name": "stdout",
     "output_type": "stream",
     "text": [
      "New best\n"
     ]
    },
    {
     "name": "stdout",
     "output_type": "stream",
     "text": [
      "epoch: 2, [batch: 1 / 12600], examples_per_second: 2.4048, train_label_loss: 0.2138, \n"
     ]
    },
    {
     "name": "stdout",
     "output_type": "stream",
     "text": [
      "epoch: 2, [batch: 1260 / 12600], examples_per_second: 5085.3255, train_label_loss: 0.2998, \n"
     ]
    },
    {
     "name": "stdout",
     "output_type": "stream",
     "text": [
      "epoch: 2, [batch: 2520 / 12600], examples_per_second: 5315.1368, train_label_loss: 0.2457, \n"
     ]
    },
    {
     "name": "stdout",
     "output_type": "stream",
     "text": [
      "epoch: 2, [batch: 3780 / 12600], examples_per_second: 5157.6429, train_label_loss: 0.7219, \n"
     ]
    },
    {
     "name": "stdout",
     "output_type": "stream",
     "text": [
      "epoch: 2, [batch: 5040 / 12600], examples_per_second: 4839.1627, train_label_loss: 0.2557, \n"
     ]
    },
    {
     "name": "stdout",
     "output_type": "stream",
     "text": [
      "epoch: 2, [batch: 6300 / 12600], examples_per_second: 4853.4386, train_label_loss: 0.3883, \n"
     ]
    },
    {
     "name": "stdout",
     "output_type": "stream",
     "text": [
      "epoch: 2, [batch: 7560 / 12600], examples_per_second: 4979.3383, train_label_loss: 0.4600, \n"
     ]
    },
    {
     "name": "stdout",
     "output_type": "stream",
     "text": [
      "epoch: 2, [batch: 8820 / 12600], examples_per_second: 5010.1466, train_label_loss: 0.2829, \n"
     ]
    },
    {
     "name": "stdout",
     "output_type": "stream",
     "text": [
      "epoch: 2, [batch: 10080 / 12600], examples_per_second: 5009.1698, train_label_loss: 0.3814, \n"
     ]
    },
    {
     "name": "stdout",
     "output_type": "stream",
     "text": [
      "epoch: 2, [batch: 11340 / 12600], examples_per_second: 5348.2468, train_label_loss: 0.1849, \n"
     ]
    },
    {
     "name": "stdout",
     "output_type": "stream",
     "text": [
      "=============================================================\n",
      "epoch: 2, source_val_acc_label: 0.8806, target_val_acc_label: 0.7244, source_val_label_loss: 0.3354, target_val_label_loss: 0.8228, \n",
      "=============================================================\n"
     ]
    },
    {
     "name": "stdout",
     "output_type": "stream",
     "text": [
      "New best\n"
     ]
    },
    {
     "name": "stdout",
     "output_type": "stream",
     "text": [
      "epoch: 3, [batch: 1 / 12600], examples_per_second: 2.4721, train_label_loss: 0.2643, \n"
     ]
    },
    {
     "name": "stdout",
     "output_type": "stream",
     "text": [
      "epoch: 3, [batch: 1260 / 12600], examples_per_second: 4003.5068, train_label_loss: 0.0684, \n"
     ]
    },
    {
     "name": "stdout",
     "output_type": "stream",
     "text": [
      "epoch: 3, [batch: 2520 / 12600], examples_per_second: 3950.8772, train_label_loss: 0.0607, \n"
     ]
    },
    {
     "name": "stdout",
     "output_type": "stream",
     "text": [
      "epoch: 3, [batch: 3780 / 12600], examples_per_second: 4011.5533, train_label_loss: 0.2173, \n"
     ]
    },
    {
     "name": "stdout",
     "output_type": "stream",
     "text": [
      "epoch: 3, [batch: 5040 / 12600], examples_per_second: 3937.7100, train_label_loss: 0.0894, \n"
     ]
    },
    {
     "name": "stdout",
     "output_type": "stream",
     "text": [
      "epoch: 3, [batch: 6300 / 12600], examples_per_second: 3971.4423, train_label_loss: 0.4235, \n"
     ]
    },
    {
     "name": "stdout",
     "output_type": "stream",
     "text": [
      "epoch: 3, [batch: 7560 / 12600], examples_per_second: 3957.4920, train_label_loss: 0.0973, \n"
     ]
    },
    {
     "name": "stdout",
     "output_type": "stream",
     "text": [
      "epoch: 3, [batch: 8820 / 12600], examples_per_second: 3946.0881, train_label_loss: 0.2060, \n"
     ]
    },
    {
     "name": "stdout",
     "output_type": "stream",
     "text": [
      "epoch: 3, [batch: 10080 / 12600], examples_per_second: 3846.6767, train_label_loss: 0.1158, \n"
     ]
    },
    {
     "name": "stdout",
     "output_type": "stream",
     "text": [
      "epoch: 3, [batch: 11340 / 12600], examples_per_second: 3838.1690, train_label_loss: 0.0997, \n"
     ]
    },
    {
     "name": "stdout",
     "output_type": "stream",
     "text": [
      "=============================================================\n",
      "epoch: 3, source_val_acc_label: 0.9002, target_val_acc_label: 0.7404, source_val_label_loss: 0.2779, target_val_label_loss: 0.8410, \n",
      "=============================================================\n"
     ]
    },
    {
     "name": "stdout",
     "output_type": "stream",
     "text": [
      "New best\n"
     ]
    },
    {
     "name": "stdout",
     "output_type": "stream",
     "text": [
      "epoch: 4, [batch: 1 / 12600], examples_per_second: 1.9838, train_label_loss: 0.0671, \n"
     ]
    },
    {
     "name": "stdout",
     "output_type": "stream",
     "text": [
      "epoch: 4, [batch: 1260 / 12600], examples_per_second: 3819.3593, train_label_loss: 0.0377, \n"
     ]
    },
    {
     "name": "stdout",
     "output_type": "stream",
     "text": [
      "epoch: 4, [batch: 2520 / 12600], examples_per_second: 3833.4421, train_label_loss: 0.1816, \n"
     ]
    },
    {
     "name": "stdout",
     "output_type": "stream",
     "text": [
      "epoch: 4, [batch: 3780 / 12600], examples_per_second: 3895.0205, train_label_loss: 0.4346, \n"
     ]
    },
    {
     "name": "stdout",
     "output_type": "stream",
     "text": [
      "epoch: 4, [batch: 5040 / 12600], examples_per_second: 3936.4600, train_label_loss: 0.1991, \n"
     ]
    },
    {
     "name": "stdout",
     "output_type": "stream",
     "text": [
      "epoch: 4, [batch: 6300 / 12600], examples_per_second: 4035.3008, train_label_loss: 0.0962, \n"
     ]
    },
    {
     "name": "stdout",
     "output_type": "stream",
     "text": [
      "epoch: 4, [batch: 7560 / 12600], examples_per_second: 4019.9071, train_label_loss: 0.1291, \n"
     ]
    },
    {
     "name": "stdout",
     "output_type": "stream",
     "text": [
      "epoch: 4, [batch: 8820 / 12600], examples_per_second: 3963.4225, train_label_loss: 0.0619, \n"
     ]
    },
    {
     "name": "stdout",
     "output_type": "stream",
     "text": [
      "epoch: 4, [batch: 10080 / 12600], examples_per_second: 3860.2833, train_label_loss: 0.4994, \n"
     ]
    },
    {
     "name": "stdout",
     "output_type": "stream",
     "text": [
      "epoch: 4, [batch: 11340 / 12600], examples_per_second: 3838.1506, train_label_loss: 0.2349, \n"
     ]
    },
    {
     "name": "stdout",
     "output_type": "stream",
     "text": [
      "=============================================================\n",
      "epoch: 4, source_val_acc_label: 0.9043, target_val_acc_label: 0.7487, source_val_label_loss: 0.2736, target_val_label_loss: 0.8413, \n",
      "=============================================================\n"
     ]
    },
    {
     "name": "stdout",
     "output_type": "stream",
     "text": [
      "New best\n"
     ]
    },
    {
     "name": "stdout",
     "output_type": "stream",
     "text": [
      "epoch: 5, [batch: 1 / 12600], examples_per_second: 1.9477, train_label_loss: 0.1054, \n"
     ]
    },
    {
     "name": "stdout",
     "output_type": "stream",
     "text": [
      "epoch: 5, [batch: 1260 / 12600], examples_per_second: 3871.8198, train_label_loss: 0.0264, \n"
     ]
    },
    {
     "name": "stdout",
     "output_type": "stream",
     "text": [
      "epoch: 5, [batch: 2520 / 12600], examples_per_second: 3843.2526, train_label_loss: 0.0660, \n"
     ]
    },
    {
     "name": "stdout",
     "output_type": "stream",
     "text": [
      "epoch: 5, [batch: 3780 / 12600], examples_per_second: 3933.8891, train_label_loss: 0.3313, \n"
     ]
    },
    {
     "name": "stdout",
     "output_type": "stream",
     "text": [
      "epoch: 5, [batch: 5040 / 12600], examples_per_second: 3808.8045, train_label_loss: 0.2206, \n"
     ]
    },
    {
     "name": "stdout",
     "output_type": "stream",
     "text": [
      "epoch: 5, [batch: 6300 / 12600], examples_per_second: 3970.5516, train_label_loss: 0.0337, \n"
     ]
    },
    {
     "name": "stdout",
     "output_type": "stream",
     "text": [
      "epoch: 5, [batch: 7560 / 12600], examples_per_second: 3920.7029, train_label_loss: 0.1223, \n"
     ]
    },
    {
     "name": "stdout",
     "output_type": "stream",
     "text": [
      "epoch: 5, [batch: 8820 / 12600], examples_per_second: 3912.8438, train_label_loss: 0.2787, \n"
     ]
    },
    {
     "name": "stdout",
     "output_type": "stream",
     "text": [
      "epoch: 5, [batch: 10080 / 12600], examples_per_second: 4020.8568, train_label_loss: 0.0386, \n"
     ]
    },
    {
     "name": "stdout",
     "output_type": "stream",
     "text": [
      "epoch: 5, [batch: 11340 / 12600], examples_per_second: 4020.4621, train_label_loss: 0.1914, \n"
     ]
    },
    {
     "name": "stdout",
     "output_type": "stream",
     "text": [
      "=============================================================\n",
      "epoch: 5, source_val_acc_label: 0.9081, target_val_acc_label: 0.7505, source_val_label_loss: 0.2610, target_val_label_loss: 0.8605, \n",
      "=============================================================\n"
     ]
    },
    {
     "name": "stdout",
     "output_type": "stream",
     "text": [
      "New best\n"
     ]
    },
    {
     "name": "stdout",
     "output_type": "stream",
     "text": [
      "epoch: 6, [batch: 1 / 12600], examples_per_second: 1.9221, train_label_loss: 0.1998, \n"
     ]
    },
    {
     "name": "stdout",
     "output_type": "stream",
     "text": [
      "epoch: 6, [batch: 1260 / 12600], examples_per_second: 3892.3814, train_label_loss: 0.2034, \n"
     ]
    },
    {
     "name": "stdout",
     "output_type": "stream",
     "text": [
      "epoch: 6, [batch: 2520 / 12600], examples_per_second: 3896.5962, train_label_loss: 0.1538, \n"
     ]
    },
    {
     "name": "stdout",
     "output_type": "stream",
     "text": [
      "epoch: 6, [batch: 3780 / 12600], examples_per_second: 4014.7457, train_label_loss: 0.2464, \n"
     ]
    },
    {
     "name": "stdout",
     "output_type": "stream",
     "text": [
      "epoch: 6, [batch: 5040 / 12600], examples_per_second: 3860.9827, train_label_loss: 0.0031, \n"
     ]
    },
    {
     "name": "stdout",
     "output_type": "stream",
     "text": [
      "epoch: 6, [batch: 6300 / 12600], examples_per_second: 3962.0906, train_label_loss: 0.2329, \n"
     ]
    },
    {
     "name": "stdout",
     "output_type": "stream",
     "text": [
      "epoch: 6, [batch: 7560 / 12600], examples_per_second: 3903.9709, train_label_loss: 0.2178, \n"
     ]
    },
    {
     "name": "stdout",
     "output_type": "stream",
     "text": [
      "epoch: 6, [batch: 8820 / 12600], examples_per_second: 3794.4933, train_label_loss: 0.1744, \n"
     ]
    },
    {
     "name": "stdout",
     "output_type": "stream",
     "text": [
      "epoch: 6, [batch: 10080 / 12600], examples_per_second: 3891.7338, train_label_loss: 0.1925, \n"
     ]
    },
    {
     "name": "stdout",
     "output_type": "stream",
     "text": [
      "epoch: 6, [batch: 11340 / 12600], examples_per_second: 3911.7135, train_label_loss: 0.0834, \n"
     ]
    },
    {
     "name": "stdout",
     "output_type": "stream",
     "text": [
      "=============================================================\n",
      "epoch: 6, source_val_acc_label: 0.9137, target_val_acc_label: 0.7537, source_val_label_loss: 0.2435, target_val_label_loss: 0.8705, \n",
      "=============================================================\n"
     ]
    },
    {
     "name": "stdout",
     "output_type": "stream",
     "text": [
      "New best\n"
     ]
    },
    {
     "name": "stdout",
     "output_type": "stream",
     "text": [
      "epoch: 7, [batch: 1 / 12600], examples_per_second: 1.9117, train_label_loss: 0.1310, \n"
     ]
    },
    {
     "name": "stdout",
     "output_type": "stream",
     "text": [
      "epoch: 7, [batch: 1260 / 12600], examples_per_second: 3959.0302, train_label_loss: 0.0474, \n"
     ]
    },
    {
     "name": "stdout",
     "output_type": "stream",
     "text": [
      "epoch: 7, [batch: 2520 / 12600], examples_per_second: 3876.9749, train_label_loss: 0.1969, \n"
     ]
    },
    {
     "name": "stdout",
     "output_type": "stream",
     "text": [
      "epoch: 7, [batch: 3780 / 12600], examples_per_second: 3869.0049, train_label_loss: 0.2053, \n"
     ]
    },
    {
     "name": "stdout",
     "output_type": "stream",
     "text": [
      "epoch: 7, [batch: 5040 / 12600], examples_per_second: 3981.1026, train_label_loss: 0.0612, \n"
     ]
    },
    {
     "name": "stdout",
     "output_type": "stream",
     "text": [
      "epoch: 7, [batch: 6300 / 12600], examples_per_second: 4032.9974, train_label_loss: 0.2486, \n"
     ]
    },
    {
     "name": "stdout",
     "output_type": "stream",
     "text": [
      "epoch: 7, [batch: 7560 / 12600], examples_per_second: 3963.3825, train_label_loss: 0.1960, \n"
     ]
    },
    {
     "name": "stdout",
     "output_type": "stream",
     "text": [
      "epoch: 7, [batch: 8820 / 12600], examples_per_second: 4010.8181, train_label_loss: 0.0760, \n"
     ]
    },
    {
     "name": "stdout",
     "output_type": "stream",
     "text": [
      "epoch: 7, [batch: 10080 / 12600], examples_per_second: 4007.6848, train_label_loss: 0.2469, \n"
     ]
    },
    {
     "name": "stdout",
     "output_type": "stream",
     "text": [
      "epoch: 7, [batch: 11340 / 12600], examples_per_second: 4045.3635, train_label_loss: 0.1212, \n"
     ]
    },
    {
     "name": "stdout",
     "output_type": "stream",
     "text": [
      "=============================================================\n",
      "epoch: 7, source_val_acc_label: 0.9042, target_val_acc_label: 0.7526, source_val_label_loss: 0.2771, target_val_label_loss: 0.9485, \n",
      "=============================================================\n"
     ]
    },
    {
     "name": "stdout",
     "output_type": "stream",
     "text": [
      "epoch: 8, [batch: 1 / 12600], examples_per_second: 1.9370, train_label_loss: 0.1224, \n"
     ]
    },
    {
     "name": "stdout",
     "output_type": "stream",
     "text": [
      "epoch: 8, [batch: 1260 / 12600], examples_per_second: 3945.6211, train_label_loss: 0.0178, \n"
     ]
    },
    {
     "name": "stdout",
     "output_type": "stream",
     "text": [
      "epoch: 8, [batch: 2520 / 12600], examples_per_second: 4006.9414, train_label_loss: 0.0286, \n"
     ]
    },
    {
     "name": "stdout",
     "output_type": "stream",
     "text": [
      "epoch: 8, [batch: 3780 / 12600], examples_per_second: 3941.3812, train_label_loss: 0.0915, \n"
     ]
    },
    {
     "name": "stdout",
     "output_type": "stream",
     "text": [
      "epoch: 8, [batch: 5040 / 12600], examples_per_second: 3901.3510, train_label_loss: 0.0010, \n"
     ]
    },
    {
     "name": "stdout",
     "output_type": "stream",
     "text": [
      "epoch: 8, [batch: 6300 / 12600], examples_per_second: 4018.1502, train_label_loss: 0.2190, \n"
     ]
    },
    {
     "name": "stdout",
     "output_type": "stream",
     "text": [
      "epoch: 8, [batch: 7560 / 12600], examples_per_second: 4037.8826, train_label_loss: 0.0640, \n"
     ]
    },
    {
     "name": "stdout",
     "output_type": "stream",
     "text": [
      "epoch: 8, [batch: 8820 / 12600], examples_per_second: 4032.6173, train_label_loss: 0.0271, \n"
     ]
    },
    {
     "name": "stdout",
     "output_type": "stream",
     "text": [
      "epoch: 8, [batch: 10080 / 12600], examples_per_second: 4052.8036, train_label_loss: 0.5328, \n"
     ]
    },
    {
     "name": "stdout",
     "output_type": "stream",
     "text": [
      "epoch: 8, [batch: 11340 / 12600], examples_per_second: 4050.2867, train_label_loss: 0.0194, \n"
     ]
    },
    {
     "name": "stdout",
     "output_type": "stream",
     "text": [
      "=============================================================\n",
      "epoch: 8, source_val_acc_label: 0.9180, target_val_acc_label: 0.7490, source_val_label_loss: 0.2479, target_val_label_loss: 1.0061, \n",
      "=============================================================\n"
     ]
    },
    {
     "name": "stdout",
     "output_type": "stream",
     "text": [
      "epoch: 9, [batch: 1 / 12600], examples_per_second: 1.9577, train_label_loss: 0.0930, \n"
     ]
    },
    {
     "name": "stdout",
     "output_type": "stream",
     "text": [
      "epoch: 9, [batch: 1260 / 12600], examples_per_second: 4016.6337, train_label_loss: 0.1655, \n"
     ]
    },
    {
     "name": "stdout",
     "output_type": "stream",
     "text": [
      "epoch: 9, [batch: 2520 / 12600], examples_per_second: 3873.4875, train_label_loss: 0.1590, \n"
     ]
    },
    {
     "name": "stdout",
     "output_type": "stream",
     "text": [
      "epoch: 9, [batch: 3780 / 12600], examples_per_second: 3889.3676, train_label_loss: 0.0174, \n"
     ]
    },
    {
     "name": "stdout",
     "output_type": "stream",
     "text": [
      "epoch: 9, [batch: 5040 / 12600], examples_per_second: 3805.8636, train_label_loss: 0.4323, \n"
     ]
    },
    {
     "name": "stdout",
     "output_type": "stream",
     "text": [
      "epoch: 9, [batch: 6300 / 12600], examples_per_second: 3867.8060, train_label_loss: 0.1555, \n"
     ]
    },
    {
     "name": "stdout",
     "output_type": "stream",
     "text": [
      "epoch: 9, [batch: 7560 / 12600], examples_per_second: 4007.1310, train_label_loss: 0.0460, \n"
     ]
    },
    {
     "name": "stdout",
     "output_type": "stream",
     "text": [
      "epoch: 9, [batch: 8820 / 12600], examples_per_second: 3897.7845, train_label_loss: 0.0160, \n"
     ]
    },
    {
     "name": "stdout",
     "output_type": "stream",
     "text": [
      "epoch: 9, [batch: 10080 / 12600], examples_per_second: 3983.8125, train_label_loss: 0.0047, \n"
     ]
    },
    {
     "name": "stdout",
     "output_type": "stream",
     "text": [
      "epoch: 9, [batch: 11340 / 12600], examples_per_second: 4037.7221, train_label_loss: 0.0530, \n"
     ]
    },
    {
     "name": "stdout",
     "output_type": "stream",
     "text": [
      "=============================================================\n",
      "epoch: 9, source_val_acc_label: 0.9159, target_val_acc_label: 0.7524, source_val_label_loss: 0.2582, target_val_label_loss: 1.0289, \n",
      "=============================================================\n"
     ]
    },
    {
     "name": "stdout",
     "output_type": "stream",
     "text": [
      "epoch: 10, [batch: 1 / 12600], examples_per_second: 1.9358, train_label_loss: 0.0411, \n"
     ]
    },
    {
     "name": "stdout",
     "output_type": "stream",
     "text": [
      "epoch: 10, [batch: 1260 / 12600], examples_per_second: 4030.3074, train_label_loss: 0.3062, \n"
     ]
    },
    {
     "name": "stdout",
     "output_type": "stream",
     "text": [
      "epoch: 10, [batch: 2520 / 12600], examples_per_second: 3828.4815, train_label_loss: 0.1104, \n"
     ]
    },
    {
     "name": "stdout",
     "output_type": "stream",
     "text": [
      "epoch: 10, [batch: 3780 / 12600], examples_per_second: 3847.5916, train_label_loss: 0.0446, \n"
     ]
    },
    {
     "name": "stdout",
     "output_type": "stream",
     "text": [
      "epoch: 10, [batch: 5040 / 12600], examples_per_second: 3809.0549, train_label_loss: 0.0742, \n"
     ]
    },
    {
     "name": "stdout",
     "output_type": "stream",
     "text": [
      "epoch: 10, [batch: 6300 / 12600], examples_per_second: 3801.5797, train_label_loss: 0.2668, \n"
     ]
    },
    {
     "name": "stdout",
     "output_type": "stream",
     "text": [
      "epoch: 10, [batch: 7560 / 12600], examples_per_second: 3925.5791, train_label_loss: 0.0382, \n"
     ]
    },
    {
     "name": "stdout",
     "output_type": "stream",
     "text": [
      "epoch: 10, [batch: 8820 / 12600], examples_per_second: 3814.8145, train_label_loss: 0.0225, \n"
     ]
    },
    {
     "name": "stdout",
     "output_type": "stream",
     "text": [
      "epoch: 10, [batch: 10080 / 12600], examples_per_second: 3908.2849, train_label_loss: 0.0124, \n"
     ]
    },
    {
     "name": "stdout",
     "output_type": "stream",
     "text": [
      "epoch: 10, [batch: 11340 / 12600], examples_per_second: 3955.5677, train_label_loss: 0.0203, \n"
     ]
    },
    {
     "name": "stdout",
     "output_type": "stream",
     "text": [
      "=============================================================\n",
      "epoch: 10, source_val_acc_label: 0.9218, target_val_acc_label: 0.7477, source_val_label_loss: 0.2487, target_val_label_loss: 1.0775, \n",
      "=============================================================\n"
     ]
    },
    {
     "name": "stdout",
     "output_type": "stream",
     "text": [
      "Patience (3) exhausted\n"
     ]
    }
   ],
   "source": [
    "###################################\n",
    "# train\n",
    "###################################\n",
    "jig = PTN_Train_Eval_Test_Jig(model, p.BEST_MODEL_PATH, p.device)\n",
    "\n",
    "jig.train(\n",
    "    train_iterable=datasets.source.processed.train,\n",
    "    source_val_iterable=datasets.source.processed.val,\n",
    "    target_val_iterable=datasets.target.processed.val,\n",
    "    num_epochs=p.n_epoch,\n",
    "    num_logs_per_epoch=p.NUM_LOGS_PER_EPOCH,\n",
    "    patience=p.patience,\n",
    "    optimizer=optimizer,\n",
    "    criteria_for_best=p.criteria_for_best,\n",
    ")"
   ]
  },
  {
   "cell_type": "code",
   "execution_count": 14,
   "id": "31e8fabf",
   "metadata": {
    "execution": {
     "iopub.execute_input": "2022-03-26T16:36:46.806487Z",
     "iopub.status.busy": "2022-03-26T16:36:46.806100Z",
     "iopub.status.idle": "2022-03-26T16:36:46.838673Z",
     "shell.execute_reply": "2022-03-26T16:36:46.837954Z"
    },
    "papermill": {
     "duration": 0.085794,
     "end_time": "2022-03-26T16:36:46.838852",
     "exception": false,
     "start_time": "2022-03-26T16:36:46.753058",
     "status": "completed"
    },
    "tags": []
   },
   "outputs": [],
   "source": [
    "total_experiment_time_secs = time.time() - start_time_secs"
   ]
  },
  {
   "cell_type": "code",
   "execution_count": 15,
   "id": "87b9595b",
   "metadata": {
    "execution": {
     "iopub.execute_input": "2022-03-26T16:36:46.947882Z",
     "iopub.status.busy": "2022-03-26T16:36:46.947441Z",
     "iopub.status.idle": "2022-03-26T16:43:36.984015Z",
     "shell.execute_reply": "2022-03-26T16:43:36.983199Z"
    },
    "papermill": {
     "duration": 410.090931,
     "end_time": "2022-03-26T16:43:36.984200",
     "exception": false,
     "start_time": "2022-03-26T16:36:46.893269",
     "status": "completed"
    },
    "tags": []
   },
   "outputs": [],
   "source": [
    "###################################\n",
    "# Evaluate the model\n",
    "###################################\n",
    "source_test_label_accuracy, source_test_label_loss = jig.test(datasets.source.processed.test)\n",
    "target_test_label_accuracy, target_test_label_loss = jig.test(datasets.target.processed.test)\n",
    "\n",
    "source_val_label_accuracy, source_val_label_loss = jig.test(datasets.source.processed.val)\n",
    "target_val_label_accuracy, target_val_label_loss = jig.test(datasets.target.processed.val)\n",
    "\n",
    "history = jig.get_history()\n",
    "\n",
    "total_epochs_trained = len(history[\"epoch_indices\"])\n",
    "\n",
    "val_dl = Iterable_Aggregator((datasets.source.original.val,datasets.target.original.val))\n",
    "\n",
    "confusion = ptn_confusion_by_domain_over_dataloader(model, p.device, val_dl)\n",
    "per_domain_accuracy = per_domain_accuracy_from_confusion(confusion)\n",
    "\n",
    "# Add a key to per_domain_accuracy for if it was a source domain\n",
    "for domain, accuracy in per_domain_accuracy.items():\n",
    "    per_domain_accuracy[domain] = {\n",
    "        \"accuracy\": accuracy,\n",
    "        \"source?\": domain in p.domains_source\n",
    "    }\n",
    "\n",
    "# Do an independent accuracy assesment JUST TO BE SURE!\n",
    "# _source_test_label_accuracy = independent_accuracy_assesment(model, datasets.source.processed.test, p.device)\n",
    "# _target_test_label_accuracy = independent_accuracy_assesment(model, datasets.target.processed.test, p.device)\n",
    "# _source_val_label_accuracy = independent_accuracy_assesment(model, datasets.source.processed.val, p.device)\n",
    "# _target_val_label_accuracy = independent_accuracy_assesment(model, datasets.target.processed.val, p.device)\n",
    "\n",
    "# assert(_source_test_label_accuracy == source_test_label_accuracy)\n",
    "# assert(_target_test_label_accuracy == target_test_label_accuracy)\n",
    "# assert(_source_val_label_accuracy == source_val_label_accuracy)\n",
    "# assert(_target_val_label_accuracy == target_val_label_accuracy)\n",
    "\n",
    "experiment = {\n",
    "    \"experiment_name\": p.experiment_name,\n",
    "    \"parameters\": dict(p),\n",
    "    \"results\": {\n",
    "        \"source_test_label_accuracy\": source_test_label_accuracy,\n",
    "        \"source_test_label_loss\": source_test_label_loss,\n",
    "        \"target_test_label_accuracy\": target_test_label_accuracy,\n",
    "        \"target_test_label_loss\": target_test_label_loss,\n",
    "        \"source_val_label_accuracy\": source_val_label_accuracy,\n",
    "        \"source_val_label_loss\": source_val_label_loss,\n",
    "        \"target_val_label_accuracy\": target_val_label_accuracy,\n",
    "        \"target_val_label_loss\": target_val_label_loss,\n",
    "        \"total_epochs_trained\": total_epochs_trained,\n",
    "        \"total_experiment_time_secs\": total_experiment_time_secs,\n",
    "        \"confusion\": confusion,\n",
    "        \"per_domain_accuracy\": per_domain_accuracy,\n",
    "    },\n",
    "    \"history\": history,\n",
    "    \"dataset_metrics\": get_dataset_metrics(datasets, \"ptn\"),\n",
    "}"
   ]
  },
  {
   "cell_type": "code",
   "execution_count": 16,
   "id": "54a21829",
   "metadata": {
    "execution": {
     "iopub.execute_input": "2022-03-26T16:43:37.089995Z",
     "iopub.status.busy": "2022-03-26T16:43:37.089424Z",
     "iopub.status.idle": "2022-03-26T16:43:37.304842Z",
     "shell.execute_reply": "2022-03-26T16:43:37.304003Z"
    },
    "papermill": {
     "duration": 0.266319,
     "end_time": "2022-03-26T16:43:37.305001",
     "exception": false,
     "start_time": "2022-03-26T16:43:37.038682",
     "status": "completed"
    },
    "tags": []
   },
   "outputs": [
    {
     "data": {
      "image/png": "[encoded data removed]",
      "text/plain": [
       "<Figure size 1080x504 with 1 Axes>"
      ]
     },
     "metadata": {
      "needs_background": "light"
     },
     "output_type": "display_data"
    }
   ],
   "source": [
    "ax = get_loss_curve(experiment)\n",
    "plt.show()"
   ]
  },
  {
   "cell_type": "code",
   "execution_count": 17,
   "id": "fd8a0f60",
   "metadata": {
    "execution": {
     "iopub.execute_input": "2022-03-26T16:43:37.410291Z",
     "iopub.status.busy": "2022-03-26T16:43:37.409834Z",
     "iopub.status.idle": "2022-03-26T16:43:37.773825Z",
     "shell.execute_reply": "2022-03-26T16:43:37.774534Z"
    },
    "papermill": {
     "duration": 0.416607,
     "end_time": "2022-03-26T16:43:37.774744",
     "exception": false,
     "start_time": "2022-03-26T16:43:37.358137",
     "status": "completed"
    },
    "tags": []
   },
   "outputs": [
    {
     "data": {
      "text/plain": [
       "<AxesSubplot:title={'center':'Results'}>"
      ]
     },
     "execution_count": 17,
     "metadata": {},
     "output_type": "execute_result"
    },
    {
     "data": {
      "image/png": "[encoded data removed]",
      "text/plain": [
       "<Figure size 1080x504 with 1 Axes>"
      ]
     },
     "metadata": {
      "needs_background": "light"
     },
     "output_type": "display_data"
    }
   ],
   "source": [
    "get_results_table(experiment)"
   ]
  },
  {
   "cell_type": "code",
   "execution_count": 18,
   "id": "cf8dc689",
   "metadata": {
    "execution": {
     "iopub.execute_input": "2022-03-26T16:43:37.887251Z",
     "iopub.status.busy": "2022-03-26T16:43:37.886877Z",
     "iopub.status.idle": "2022-03-26T16:43:38.096421Z",
     "shell.execute_reply": "2022-03-26T16:43:38.095707Z"
    },
    "papermill": {
     "duration": 0.26296,
     "end_time": "2022-03-26T16:43:38.096580",
     "exception": false,
     "start_time": "2022-03-26T16:43:37.833620",
     "status": "completed"
    },
    "tags": []
   },
   "outputs": [
    {
     "data": {
      "text/plain": [
       "<AxesSubplot:title={'center':'Per Domain Validation Accuracy'}, xlabel='domain'>"
      ]
     },
     "execution_count": 18,
     "metadata": {},
     "output_type": "execute_result"
    },
    {
     "data": {
      "image/png": "[encoded data removed]",
      "text/plain": [
       "<Figure size 1080x504 with 1 Axes>"
      ]
     },
     "metadata": {
      "needs_background": "light"
     },
     "output_type": "display_data"
    }
   ],
   "source": [
    "get_domain_accuracies(experiment)"
   ]
  },
  {
   "cell_type": "code",
   "execution_count": 19,
   "id": "a74ae082",
   "metadata": {
    "execution": {
     "iopub.execute_input": "2022-03-26T16:43:38.207858Z",
     "iopub.status.busy": "2022-03-26T16:43:38.207461Z",
     "iopub.status.idle": "2022-03-26T16:43:38.233013Z",
     "shell.execute_reply": "2022-03-26T16:43:38.233699Z"
    },
    "papermill": {
     "duration": 0.081645,
     "end_time": "2022-03-26T16:43:38.233881",
     "exception": false,
     "start_time": "2022-03-26T16:43:38.152236",
     "status": "completed"
    },
    "tags": []
   },
   "outputs": [
    {
     "name": "stdout",
     "output_type": "stream",
     "text": [
      "Source Test Label Accuracy: 0.9132291666666666 Target Test Label Accuracy: 0.7551458333333333\n",
      "Source Val Label Accuracy: 0.9136631944444444 Target Val Label Accuracy: 0.7536875\n"
     ]
    }
   ],
   "source": [
    "print(\"Source Test Label Accuracy:\", experiment[\"results\"][\"source_test_label_accuracy\"], \"Target Test Label Accuracy:\", experiment[\"results\"][\"target_test_label_accuracy\"])\n",
    "print(\"Source Val Label Accuracy:\", experiment[\"results\"][\"source_val_label_accuracy\"], \"Target Val Label Accuracy:\", experiment[\"results\"][\"target_val_label_accuracy\"])"
   ]
  },
  {
   "cell_type": "code",
   "execution_count": 20,
   "id": "dacca602",
   "metadata": {
    "execution": {
     "iopub.execute_input": "2022-03-26T16:43:38.345969Z",
     "iopub.status.busy": "2022-03-26T16:43:38.345403Z",
     "iopub.status.idle": "2022-03-26T16:43:38.370641Z",
     "shell.execute_reply": "2022-03-26T16:43:38.369953Z"
    },
    "papermill": {
     "duration": 0.081018,
     "end_time": "2022-03-26T16:43:38.370801",
     "exception": false,
     "start_time": "2022-03-26T16:43:38.289783",
     "status": "completed"
    },
    "tags": [
     "experiment_json"
    ]
   },
   "outputs": [
    {
     "data": {
      "text/plain": [
       "'{\"experiment_name\": \"tuned_1v2:oracle.run2_limited\", \"parameters\": {\"experiment_name\": \"tuned_1v2:oracle.run2_limited\", \"device\": \"cuda\", \"lr\": 0.0001, \"labels_source\": [\"3123D52\", \"3123D65\", \"3123D79\", \"3123D80\", \"3123D54\", \"3123D70\", \"3123D7B\", \"3123D89\", \"3123D58\", \"3123D76\", \"3123D7D\", \"3123EFE\", \"3123D64\", \"3123D78\", \"3123D7E\", \"3124E4A\"], \"labels_target\": [\"3123D52\", \"3123D65\", \"3123D79\", \"3123D80\", \"3123D54\", \"3123D70\", \"3123D7B\", \"3123D89\", \"3123D58\", \"3123D76\", \"3123D7D\", \"3123EFE\", \"3123D64\", \"3123D78\", \"3123D7E\", \"3124E4A\"], \"episode_transforms_source\": [], \"episode_transforms_target\": [], \"domains_source\": [8, 32, 50], \"domains_target\": [14, 20, 26, 38, 44], \"num_examples_per_domain_per_label_source\": -1, \"num_examples_per_domain_per_label_target\": -1, \"n_shot\": 3, \"n_way\": 16, \"n_query\": 2, \"train_k_factor\": 3, \"val_k_factor\": 2, \"test_k_factor\": 2, \"torch_default_dtype\": \"torch.float32\", \"n_epoch\": 50, \"patience\": 3, \"criteria_for_best\": \"target_accuracy\", \"x_net\": [{\"class\": \"nnReshape\", \"kargs\": {\"shape\": [-1, 1, 2, 256]}}, {\"class\": \"Conv2d\", \"kargs\": {\"in_channels\": 1, \"out_channels\": 256, \"kernel_size\": [1, 7], \"bias\": false, \"padding\": [0, 3]}}, {\"class\": \"ReLU\", \"kargs\": {\"inplace\": true}}, {\"class\": \"BatchNorm2d\", \"kargs\": {\"num_features\": 256}}, {\"class\": \"Conv2d\", \"kargs\": {\"in_channels\": 256, \"out_channels\": 80, \"kernel_size\": [2, 7], \"bias\": true, \"padding\": [0, 3]}}, {\"class\": \"ReLU\", \"kargs\": {\"inplace\": true}}, {\"class\": \"BatchNorm2d\", \"kargs\": {\"num_features\": 80}}, {\"class\": \"Flatten\", \"kargs\": {}}, {\"class\": \"Linear\", \"kargs\": {\"in_features\": 20480, \"out_features\": 256}}, {\"class\": \"ReLU\", \"kargs\": {\"inplace\": true}}, {\"class\": \"BatchNorm1d\", \"kargs\": {\"num_features\": 256}}, {\"class\": \"Linear\", \"kargs\": {\"in_features\": 256, \"out_features\": 256}}], \"NUM_LOGS_PER_EPOCH\": 10, \"BEST_MODEL_PATH\": \"./best_model.pth\", \"pickle_name\": \"oracle.Run2_10kExamples_stratified_ds.2022A.pkl\", \"x_transforms_source\": [], \"x_transforms_target\": [], \"dataset_seed\": 500, \"seed\": 500}, \"results\": {\"source_test_label_accuracy\": 0.9132291666666666, \"source_test_label_loss\": 0.24546431005001068, \"target_test_label_accuracy\": 0.7551458333333333, \"target_test_label_loss\": 0.8779109716415405, \"source_val_label_accuracy\": 0.9136631944444444, \"source_val_label_loss\": 0.24345514178276062, \"target_val_label_accuracy\": 0.7536875, \"target_val_label_loss\": 0.870456874370575, \"total_epochs_trained\": 10, \"total_experiment_time_secs\": 3038.1701605319977, \"confusion\": {\"8\": {\"7\": {\"7\": 978, \"4\": 218, \"13\": 3, \"11\": 1}, \"10\": {\"10\": 957, \"5\": 158, \"13\": 69, \"1\": 16}, \"0\": {\"0\": 1200}, \"11\": {\"11\": 835, \"12\": 39, \"8\": 317, \"7\": 4, \"6\": 5}, \"2\": {\"2\": 1196, \"15\": 4}, \"14\": {\"14\": 1094, \"6\": 90, \"1\": 16}, \"9\": {\"9\": 1200}, \"13\": {\"13\": 1103, \"10\": 67, \"4\": 6, \"7\": 14, \"1\": 10}, \"8\": {\"8\": 1033, \"11\": 122, \"6\": 39, \"4\": 6}, \"15\": {\"15\": 1123, \"12\": 54, \"2\": 19, \"3\": 4}, \"4\": {\"4\": 885, \"7\": 281, \"6\": 21, \"13\": 1, \"1\": 4, \"14\": 7, \"8\": 1}, \"5\": {\"5\": 964, \"10\": 199, \"1\": 37}, \"3\": {\"3\": 1200}, \"1\": {\"1\": 1016, \"10\": 54, \"13\": 61, \"4\": 18, \"14\": 22, \"5\": 28, \"7\": 1}, \"6\": {\"6\": 1067, \"4\": 28, \"14\": 73, \"8\": 30, \"1\": 2}, \"12\": {\"12\": 1155, \"15\": 45}}, \"50\": {\"11\": {\"11\": 1170, \"12\": 25, \"1\": 5}, \"2\": {\"2\": 1175, \"0\": 24, \"14\": 1}, \"12\": {\"12\": 1179, \"11\": 7, \"9\": 14}, \"8\": {\"8\": 1198, \"13\": 2}, \"4\": {\"4\": 950, \"5\": 208, \"7\": 39, \"15\": 1, \"6\": 2}, \"10\": {\"10\": 1178, \"0\": 18, \"13\": 2, \"1\": 2}, \"14\": {\"14\": 1200}, \"13\": {\"13\": 1194, \"8\": 5, \"1\": 1}, \"6\": {\"6\": 1121, \"15\": 51, \"5\": 26, \"4\": 2}, \"9\": {\"9\": 1190, \"12\": 7, \"15\": 3}, \"15\": {\"15\": 1153, \"6\": 35, \"12\": 3, \"9\": 8, \"5\": 1}, \"1\": {\"1\": 1198, \"11\": 1, \"13\": 1}, \"3\": {\"3\": 1200}, \"7\": {\"7\": 1151, \"5\": 20, \"4\": 29}, \"0\": {\"0\": 1152, \"2\": 32, \"10\": 16}, \"5\": {\"5\": 851, \"4\": 251, \"7\": 35, \"6\": 63}}, \"32\": {\"4\": {\"4\": 992, \"11\": 164, \"0\": 20, \"13\": 21, \"3\": 3}, \"14\": {\"2\": 179, \"14\": 1001, \"0\": 17, \"5\": 2, \"7\": 1}, \"5\": {\"5\": 1150, \"2\": 18, \"14\": 8, \"15\": 15, \"8\": 1, \"0\": 1, \"7\": 7}, \"10\": {\"10\": 1200}, \"13\": {\"13\": 1069, \"4\": 14, \"11\": 76, \"3\": 41}, \"9\": {\"9\": 1186, \"11\": 11, \"12\": 2, \"14\": 1}, \"6\": {\"6\": 1200}, \"3\": {\"3\": 1146, \"13\": 52, \"4\": 2}, \"15\": {\"15\": 1193, \"5\": 5, \"8\": 2}, \"7\": {\"2\": 58, \"7\": 1021, \"0\": 82, \"8\": 38, \"14\": 1}, \"12\": {\"12\": 1200}, \"8\": {\"8\": 1086, \"0\": 92, \"7\": 22}, \"11\": {\"13\": 141, \"11\": 837, \"4\": 200, \"0\": 18, \"7\": 3, \"2\": 1}, \"2\": {\"14\": 127, \"2\": 950, \"7\": 58, \"0\": 64, \"8\": 1}, \"1\": {\"1\": 1200}, \"0\": {\"0\": 930, \"8\": 85, \"7\": 60, \"2\": 68, \"14\": 17, \"4\": 36, \"5\": 1, \"11\": 3}}, \"20\": {\"7\": {\"14\": 3, \"7\": 812, \"10\": 136, \"3\": 133, \"4\": 88, \"5\": 5, \"12\": 13, \"6\": 6, \"13\": 1, \"9\": 2, \"2\": 1}, \"10\": {\"10\": 859, \"6\": 165, \"7\": 162, \"3\": 4, \"4\": 9, \"12\": 1}, \"0\": {\"0\": 1083, \"1\": 84, \"11\": 11, \"5\": 15, \"14\": 1, \"8\": 5, \"2\": 1}, \"11\": {\"11\": 1154, \"8\": 30, \"0\": 6, \"9\": 1, \"5\": 5, \"3\": 2, \"2\": 1, \"1\": 1}, \"2\": {\"1\": 23, \"5\": 237, \"15\": 162, \"2\": 314, \"13\": 5, \"3\": 124, \"9\": 276, \"4\": 44, \"12\": 11, \"8\": 2, \"7\": 1, \"11\": 1}, \"14\": {\"14\": 939, \"8\": 237, \"7\": 7, \"3\": 3, \"4\": 2, \"6\": 7, \"11\": 1, \"10\": 4}, \"9\": {\"1\": 23, \"4\": 40, \"15\": 303, \"12\": 6, \"9\": 337, \"2\": 265, \"5\": 127, \"3\": 94, \"13\": 4, \"7\": 1}, \"13\": {\"12\": 304, \"13\": 787, \"15\": 65, \"3\": 14, \"7\": 3, \"9\": 17, \"4\": 5, \"2\": 5}, \"8\": {\"8\": 922, \"5\": 23, \"14\": 217, \"11\": 25, \"1\": 1, \"3\": 2, \"0\": 6, \"4\": 2, \"2\": 1, \"7\": 1}, \"15\": {\"15\": 493, \"3\": 32, \"9\": 277, \"2\": 181, \"1\": 61, \"5\": 52, \"4\": 13, \"13\": 52, \"12\": 37, \"11\": 1, \"7\": 1}, \"4\": {\"3\": 190, \"2\": 48, \"7\": 96, \"13\": 1, \"4\": 698, \"12\": 29, \"9\": 55, \"10\": 9, \"8\": 4, \"5\": 53, \"1\": 2, \"14\": 7, \"15\": 8}, \"5\": {\"1\": 116, \"5\": 373, \"9\": 157, \"3\": 172, \"2\": 236, \"4\": 72, \"11\": 5, \"8\": 11, \"0\": 7, \"15\": 45, \"7\": 2, \"13\": 1, \"14\": 1, \"12\": 2}, \"3\": {\"4\": 192, \"2\": 131, \"5\": 123, \"9\": 134, \"3\": 415, \"7\": 128, \"15\": 36, \"13\": 5, \"12\": 32, \"8\": 3, \"1\": 1}, \"1\": {\"1\": 1001, \"5\": 48, \"9\": 28, \"2\": 44, \"15\": 39, \"0\": 37, \"11\": 2, \"8\": 1}, \"6\": {\"6\": 1014, \"10\": 167, \"7\": 19}, \"12\": {\"12\": 726, \"13\": 248, \"4\": 78, \"3\": 39, \"7\": 18, \"2\": 14, \"15\": 48, \"9\": 28, \"10\": 1}}, \"14\": {\"14\": {\"5\": 153, \"14\": 650, \"2\": 344, \"3\": 20, \"6\": 15, \"4\": 10, \"10\": 6, \"0\": 1, \"7\": 1}, \"6\": {\"6\": 821, \"13\": 331, \"3\": 48}, \"5\": {\"5\": 792, \"14\": 143, \"4\": 47, \"2\": 154, \"3\": 8, \"7\": 31, \"0\": 24, \"10\": 1}, \"15\": {\"15\": 1199, \"6\": 1}, \"11\": {\"11\": 1200}, \"8\": {\"8\": 1197, \"0\": 1, \"9\": 1, \"10\": 1}, \"12\": {\"12\": 454, \"9\": 181, \"4\": 15, \"10\": 99, \"11\": 18, \"8\": 135, \"15\": 137, \"0\": 54, \"6\": 5, \"3\": 74, \"1\": 24, \"2\": 1, \"5\": 2, \"13\": 1}, \"1\": {\"1\": 1199, \"4\": 1}, \"2\": {\"14\": 368, \"5\": 191, \"4\": 68, \"2\": 417, \"7\": 51, \"3\": 62, \"6\": 33, \"13\": 5, \"0\": 3, \"10\": 2}, \"13\": {\"6\": 374, \"13\": 820, \"3\": 5, \"2\": 1}, \"3\": {\"3\": 1171, \"10\": 7, \"14\": 6, \"2\": 3, \"6\": 12, \"5\": 1}, \"0\": {\"0\": 1078, \"10\": 67, \"5\": 19, \"4\": 25, \"14\": 5, \"8\": 3, \"9\": 2, \"2\": 1}, \"9\": {\"9\": 1194, \"12\": 6}, \"4\": {\"4\": 1096, \"5\": 70, \"0\": 10, \"14\": 3, \"2\": 20, \"1\": 1}, \"7\": {\"7\": 1074, \"2\": 68, \"5\": 46, \"14\": 9, \"4\": 1, \"3\": 2}, \"10\": {\"10\": 830, \"12\": 17, \"0\": 231, \"3\": 111, \"14\": 8, \"8\": 1, \"2\": 1, \"9\": 1}}, \"38\": {\"4\": {\"4\": 1080, \"10\": 112, \"7\": 4, \"13\": 4}, \"14\": {\"14\": 594, \"2\": 399, \"5\": 3, \"12\": 46, \"8\": 14, \"4\": 52, \"7\": 86, \"13\": 5, \"10\": 1}, \"5\": {\"5\": 706, \"8\": 364, \"12\": 95, \"9\": 26, \"15\": 2, \"1\": 4, \"0\": 2, \"7\": 1}, \"10\": {\"10\": 1014, \"13\": 85, \"4\": 39, \"3\": 62}, \"13\": {\"3\": 218, \"13\": 795, \"10\": 187}, \"9\": {\"9\": 1197, \"5\": 1, \"8\": 2}, \"6\": {\"6\": 1192, \"15\": 8}, \"3\": {\"3\": 618, \"10\": 228, \"13\": 345, \"4\": 2, \"0\": 3, \"11\": 4}, \"15\": {\"15\": 749, \"6\": 110, \"1\": 339, \"5\": 2}, \"7\": {\"0\": 29, \"7\": 1168, \"8\": 2, \"4\": 1}, \"12\": {\"12\": 1154, \"5\": 36, \"14\": 3, \"8\": 7}, \"8\": {\"8\": 1110, \"5\": 72, \"7\": 7, \"0\": 8, \"9\": 1, \"14\": 2}, \"11\": {\"11\": 1200}, \"2\": {\"2\": 1064, \"14\": 136}, \"1\": {\"15\": 169, \"1\": 1030, \"6\": 1}, \"0\": {\"0\": 1169, \"7\": 29, \"8\": 2}}, \"44\": {\"8\": {\"8\": 956, \"15\": 9, \"0\": 157, \"5\": 78}, \"11\": {\"11\": 1200}, \"14\": {\"14\": 1038, \"4\": 146, \"5\": 16}, \"10\": {\"10\": 1120, \"7\": 46, \"6\": 11, \"9\": 20, \"1\": 3}, \"3\": {\"3\": 1075, \"12\": 125}, \"15\": {\"15\": 1079, \"5\": 59, \"4\": 3, \"8\": 32, \"14\": 11, \"0\": 16}, \"2\": {\"2\": 1152, \"1\": 48}, \"12\": {\"12\": 1098, \"3\": 102}, \"4\": {\"14\": 110, \"4\": 1088, \"9\": 2}, \"1\": {\"1\": 1168, \"2\": 31, \"3\": 1}, \"0\": {\"0\": 905, \"5\": 13, \"8\": 273, \"15\": 9}, \"9\": {\"6\": 22, \"7\": 417, \"9\": 756, \"4\": 5}, \"5\": {\"5\": 997, \"14\": 83, \"0\": 4, \"8\": 93, \"15\": 23}, \"6\": {\"6\": 1184, \"13\": 7, \"7\": 7, \"9\": 2}, \"7\": {\"9\": 350, \"7\": 846, \"10\": 2, \"6\": 2}, \"13\": {\"13\": 1113, \"6\": 49, \"4\": 38}}, \"26\": {\"6\": {\"6\": 794, \"5\": 330, \"14\": 29, \"1\": 28, \"10\": 19}, \"11\": {\"11\": 1170, \"12\": 30}, \"5\": {\"6\": 496, \"14\": 48, \"5\": 548, \"1\": 38, \"10\": 44, \"15\": 4, \"8\": 6, \"0\": 13, \"9\": 3}, \"14\": {\"1\": 102, \"14\": 580, \"10\": 235, \"0\": 199, \"5\": 35, \"6\": 35, \"8\": 2, \"15\": 11, \"9\": 1}, \"2\": {\"8\": 212, \"9\": 126, \"2\": 586, \"3\": 18, \"7\": 192, \"15\": 53, \"10\": 2, \"0\": 6, \"13\": 5}, \"7\": {\"3\": 203, \"7\": 668, \"9\": 77, \"13\": 30, \"2\": 194, \"8\": 26, \"15\": 2}, \"3\": {\"3\": 940, \"7\": 211, \"4\": 30, \"2\": 14, \"13\": 5}, \"4\": {\"4\": 1154, \"3\": 44, \"7\": 2}, \"9\": {\"8\": 262, \"9\": 624, \"2\": 124, \"13\": 120, \"7\": 62, \"10\": 5, \"15\": 3}, \"12\": {\"12\": 1166, \"11\": 33, \"13\": 1}, \"0\": {\"14\": 167, \"8\": 35, \"15\": 165, \"10\": 271, \"0\": 540, \"2\": 12, \"5\": 4, \"9\": 3, \"3\": 1, \"6\": 2}, \"10\": {\"10\": 384, \"14\": 238, \"8\": 99, \"0\": 238, \"6\": 73, \"1\": 50, \"2\": 11, \"15\": 44, \"9\": 31, \"5\": 30, \"3\": 1, \"7\": 1}, \"8\": {\"8\": 586, \"2\": 210, \"9\": 282, \"15\": 49, \"10\": 29, \"0\": 21, \"7\": 15, \"13\": 7, \"14\": 1}, \"13\": {\"13\": 1023, \"9\": 137, \"7\": 25, \"8\": 9, \"2\": 5, \"3\": 1}, \"1\": {\"1\": 1071, \"14\": 50, \"5\": 21, \"6\": 55, \"10\": 2, \"0\": 1}, \"15\": {\"10\": 42, \"8\": 99, \"2\": 111, \"15\": 786, \"0\": 135, \"14\": 11, \"9\": 14, \"7\": 1, \"5\": 1}}}, \"per_domain_accuracy\": {\"8\": {\"accuracy\": 0.8857291666666667, \"source?\": true}, \"50\": {\"accuracy\": 0.9510416666666667, \"source?\": true}, \"32\": {\"accuracy\": 0.90421875, \"source?\": true}, \"20\": {\"accuracy\": 0.6211979166666667, \"source?\": false}, \"14\": {\"accuracy\": 0.79125, \"source?\": false}, \"38\": {\"accuracy\": 0.825, \"source?\": false}, \"44\": {\"accuracy\": 0.8736979166666666, \"source?\": false}, \"26\": {\"accuracy\": 0.6572916666666667, \"source?\": false}}}, \"history\": {\"epoch_indices\": [1, 2, 3, 4, 5, 6, 7, 8, 9, 10], \"train_label_loss\": [0.5573151228396547, 0.38000601181789995, 0.2521780804026177, 0.1994622026431182, 0.16137922675424582, 0.1354116076343445, 0.11470237160523769, 0.097850336110333, 0.08519712960826938, 0.0749767697730804], \"source_val_label_loss\": [28.47555923461914, 0.3353598713874817, 0.27792051434516907, 0.27360519766807556, 0.2610141336917877, 0.24345514178276062, 0.2770707607269287, 0.24787525832653046, 0.25823190808296204, 0.24872100353240967], \"target_val_label_loss\": [21.85226058959961, 0.8227510452270508, 0.8410079479217529, 0.8413422703742981, 0.8604782819747925, 0.870456874370575, 0.9484952092170715, 1.0060760974884033, 1.028904914855957, 1.0774965286254883], \"source_val_acc_label\": [0.7190625, 0.8806076388888889, 0.9001909722222222, 0.9043229166666666, 0.9080729166666667, 0.9136631944444444, 0.9042013888888889, 0.9180208333333333, 0.9159201388888889, 0.9217534722222223], \"target_val_acc_label\": [0.5629583333333333, 0.7244375, 0.7403854166666667, 0.7486979166666666, 0.7505416666666667, 0.7536875, 0.7526041666666666, 0.7489791666666666, 0.7523645833333333, 0.7476875]}, \"dataset_metrics\": {\"source\": {\"train\": {\"n_unique_x\": 336000, \"n_unique_y\": 16, \"n_batch/episode\": 12600}, \"val\": {\"n_unique_x\": 72000, \"n_unique_y\": 16, \"n_batch/episode\": 1800}, \"test\": {\"n_unique_x\": 72000, \"n_unique_y\": 16, \"n_batch/episode\": 1800}}, \"target\": {\"train\": {\"n_unique_x\": 560000, \"n_unique_y\": 16, \"n_batch/episode\": 21000}, \"val\": {\"n_unique_x\": 120000, \"n_unique_y\": 16, \"n_batch/episode\": 3000}, \"test\": {\"n_unique_x\": 120000, \"n_unique_y\": 16, \"n_batch/episode\": 3000}}}}'"
      ]
     },
     "execution_count": 20,
     "metadata": {},
     "output_type": "execute_result"
    }
   ],
   "source": [
    "json.dumps(experiment)"
   ]
  }
 ],
 "metadata": {
  "celltoolbar": "Tags",
  "kernelspec": {
   "display_name": "Python 3 (ipykernel)",
   "language": "python",
   "name": "python3"
  },
  "language_info": {
   "codemirror_mode": {
    "name": "ipython",
    "version": 3
   },
   "file_extension": ".py",
   "mimetype": "text/x-python",
   "name": "python",
   "nbconvert_exporter": "python",
   "pygments_lexer": "ipython3",
   "version": "3.8.12"
  },
  "papermill": {
   "default_parameters": {},
   "duration": 3456.075175,
   "end_time": "2022-03-26T16:43:41.347325",
   "environment_variables": {},
   "exception": null,
   "input_path": "/root/csc500-main/csc500-notebooks/templates/ptn_template.ipynb",
   "output_path": "trial.ipynb",
   "parameters": {
    "parameters": {
     "BEST_MODEL_PATH": "./best_model.pth",
     "NUM_LOGS_PER_EPOCH": 10,
     "criteria_for_best": "target_accuracy",
     "dataset_seed": 500,
     "device": "cuda",
     "domains_source": [
      8,
      32,
      50
     ],
     "domains_target": [
      14,
      20,
      26,
      38,
      44
     ],
     "episode_transforms_source": [],
     "episode_transforms_target": [],
     "experiment_name": "tuned_1v2:oracle.run2_limited",
     "labels_source": [
      "3123D52",
      "3123D65",
      "3123D79",
      "3123D80",
      "3123D54",
      "3123D70",
      "3123D7B",
      "3123D89",
      "3123D58",
      "3123D76",
      "3123D7D",
      "3123EFE",
      "3123D64",
      "3123D78",
      "3123D7E",
      "3124E4A"
     ],
     "labels_target": [
      "3123D52",
      "3123D65",
      "3123D79",
      "3123D80",
      "3123D54",
      "3123D70",
      "3123D7B",
      "3123D89",
      "3123D58",
      "3123D76",
      "3123D7D",
      "3123EFE",
      "3123D64",
      "3123D78",
      "3123D7E",
      "3124E4A"
     ],
     "lr": 0.0001,
     "n_epoch": 50,
     "n_query": 2,
     "n_shot": 3,
     "n_way": 16,
     "num_examples_per_domain_per_label_source": -1,
     "num_examples_per_domain_per_label_target": -1,
     "patience": 3,
     "pickle_name": "oracle.Run2_10kExamples_stratified_ds.2022A.pkl",
     "seed": 500,
     "test_k_factor": 2,
     "torch_default_dtype": "torch.float32",
     "train_k_factor": 3,
     "val_k_factor": 2,
     "x_net": [
      {
       "class": "nnReshape",
       "kargs": {
        "shape": [
         -1,
         1,
         2,
         256
        ]
       }
      },
      {
       "class": "Conv2d",
       "kargs": {
        "bias": false,
        "in_channels": 1,
        "kernel_size": [
         1,
         7
        ],
        "out_channels": 256,
        "padding": [
         0,
         3
        ]
       }
      },
      {
       "class": "ReLU",
       "kargs": {
        "inplace": true
       }
      },
      {
       "class": "BatchNorm2d",
       "kargs": {
        "num_features": 256
       }
      },
      {
       "class": "Conv2d",
       "kargs": {
        "bias": true,
        "in_channels": 256,
        "kernel_size": [
         2,
         7
        ],
        "out_channels": 80,
        "padding": [
         0,
         3
        ]
       }
      },
      {
       "class": "ReLU",
       "kargs": {
        "inplace": true
       }
      },
      {
       "class": "BatchNorm2d",
       "kargs": {
        "num_features": 80
       }
      },
      {
       "class": "Flatten",
       "kargs": {}
      },
      {
       "class": "Linear",
       "kargs": {
        "in_features": 20480,
        "out_features": 256
       }
      },
      {
       "class": "ReLU",
       "kargs": {
        "inplace": true
       }
      },
      {
       "class": "BatchNorm1d",
       "kargs": {
        "num_features": 256
       }
      },
      {
       "class": "Linear",
       "kargs": {
        "in_features": 256,
        "out_features": 256
       }
      }
     ],
     "x_transforms_source": [],
     "x_transforms_target": []
    }
   },
   "start_time": "2022-03-26T15:46:05.272150",
   "version": "2.3.4"
  }
 },
 "nbformat": 4,
 "nbformat_minor": 5
}