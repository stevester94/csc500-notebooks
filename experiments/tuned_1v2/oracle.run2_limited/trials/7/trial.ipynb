{
 "cells": [
  {
   "cell_type": "markdown",
   "id": "9fea5f46",
   "metadata": {
    "papermill": {
     "duration": 0.015092,
     "end_time": "2022-04-01T17:03:28.498940",
     "exception": false,
     "start_time": "2022-04-01T17:03:28.483848",
     "status": "completed"
    },
    "tags": []
   },
   "source": [
    "# PTN Template\n",
    "This notebook serves as a template for single dataset PTN experiments  \n",
    "It can be run on its own by setting STANDALONE to True (do a find for \"STANDALONE\" to see where)  \n",
    "But it is intended to be executed as part of a *papermill.py script. See any of the   \n",
    "experimentes with a papermill script to get started with that workflow.  "
   ]
  },
  {
   "cell_type": "code",
   "execution_count": 1,
   "id": "0902182a",
   "metadata": {
    "execution": {
     "iopub.execute_input": "2022-04-01T17:03:28.529862Z",
     "iopub.status.busy": "2022-04-01T17:03:28.529378Z",
     "iopub.status.idle": "2022-04-01T17:03:29.440974Z",
     "shell.execute_reply": "2022-04-01T17:03:29.441180Z"
    },
    "papermill": {
     "duration": 0.933093,
     "end_time": "2022-04-01T17:03:29.441272",
     "exception": false,
     "start_time": "2022-04-01T17:03:28.508179",
     "status": "completed"
    },
    "tags": []
   },
   "outputs": [],
   "source": [
    "%load_ext autoreload\n",
    "%autoreload 2\n",
    "%matplotlib inline\n",
    "\n",
    "    \n",
    "import os, json, sys, time, random\n",
    "import numpy as np\n",
    "import torch\n",
    "from torch.optim import Adam\n",
    "from  easydict import EasyDict\n",
    "import matplotlib.pyplot as plt\n",
    "\n",
    "from steves_models.steves_ptn import Steves_Prototypical_Network\n",
    "\n",
    "from steves_utils.lazy_iterable_wrapper import Lazy_Iterable_Wrapper\n",
    "from steves_utils.iterable_aggregator import Iterable_Aggregator\n",
    "from steves_utils.ptn_train_eval_test_jig import  PTN_Train_Eval_Test_Jig\n",
    "from steves_utils.torch_sequential_builder import build_sequential\n",
    "from steves_utils.torch_utils import get_dataset_metrics, ptn_confusion_by_domain_over_dataloader\n",
    "from steves_utils.utils_v2 import (per_domain_accuracy_from_confusion, get_datasets_base_path)\n",
    "from steves_utils.PTN.utils import independent_accuracy_assesment\n",
    "\n",
    "from steves_utils.stratified_dataset.episodic_accessor import Episodic_Accessor_Factory\n",
    "\n",
    "from steves_utils.ptn_do_report import (\n",
    "    get_loss_curve,\n",
    "    get_results_table,\n",
    "    get_parameters_table,\n",
    "    get_domain_accuracies,\n",
    ")\n",
    "\n",
    "from steves_utils.transforms import get_chained_transform"
   ]
  },
  {
   "cell_type": "markdown",
   "id": "41c840b4",
   "metadata": {
    "papermill": {
     "duration": 0.009374,
     "end_time": "2022-04-01T17:03:29.460153",
     "exception": false,
     "start_time": "2022-04-01T17:03:29.450779",
     "status": "completed"
    },
    "tags": []
   },
   "source": [
    "# Required Parameters\n",
    "These are allowed parameters, not defaults\n",
    "Each of these values need to be present in the injected parameters (the notebook will raise an exception if they are not present)\n",
    "\n",
    "Papermill uses the cell tag \"parameters\" to inject the real parameters below this cell.\n",
    "Enable tags to see what I mean"
   ]
  },
  {
   "cell_type": "code",
   "execution_count": 2,
   "id": "fd44eb83",
   "metadata": {
    "execution": {
     "iopub.execute_input": "2022-04-01T17:03:29.484033Z",
     "iopub.status.busy": "2022-04-01T17:03:29.480655Z",
     "iopub.status.idle": "2022-04-01T17:03:29.492016Z",
     "shell.execute_reply": "2022-04-01T17:03:29.491617Z"
    },
    "papermill": {
     "duration": 0.022636,
     "end_time": "2022-04-01T17:03:29.492113",
     "exception": false,
     "start_time": "2022-04-01T17:03:29.469477",
     "status": "completed"
    },
    "tags": []
   },
   "outputs": [],
   "source": [
    "required_parameters = {\n",
    "    \"experiment_name\",\n",
    "    \"lr\",\n",
    "    \"device\",\n",
    "    \"seed\",\n",
    "    \"dataset_seed\",\n",
    "    \"labels_source\",\n",
    "    \"labels_target\",\n",
    "    \"domains_source\",\n",
    "    \"domains_target\",\n",
    "    \"num_examples_per_domain_per_label_source\",\n",
    "    \"num_examples_per_domain_per_label_target\",\n",
    "    \"n_shot\",\n",
    "    \"n_way\",\n",
    "    \"n_query\",\n",
    "    \"train_k_factor\",\n",
    "    \"val_k_factor\",\n",
    "    \"test_k_factor\",\n",
    "    \"n_epoch\",\n",
    "    \"patience\",\n",
    "    \"criteria_for_best\",\n",
    "    \"x_transforms_source\",\n",
    "    \"x_transforms_target\",\n",
    "    \"episode_transforms_source\",\n",
    "    \"episode_transforms_target\",\n",
    "    \"pickle_name\",\n",
    "    \"x_net\",\n",
    "    \"NUM_LOGS_PER_EPOCH\",\n",
    "    \"BEST_MODEL_PATH\",\n",
    "    \"torch_default_dtype\"\n",
    "}"
   ]
  },
  {
   "cell_type": "code",
   "execution_count": 3,
   "id": "fa3f0049",
   "metadata": {
    "execution": {
     "iopub.execute_input": "2022-04-01T17:03:29.538202Z",
     "iopub.status.busy": "2022-04-01T17:03:29.523639Z",
     "iopub.status.idle": "2022-04-01T17:03:29.539715Z",
     "shell.execute_reply": "2022-04-01T17:03:29.539298Z"
    },
    "papermill": {
     "duration": 0.032292,
     "end_time": "2022-04-01T17:03:29.539809",
     "exception": false,
     "start_time": "2022-04-01T17:03:29.507517",
     "status": "completed"
    },
    "tags": [
     "parameters"
    ]
   },
   "outputs": [],
   "source": [
    "\n",
    "\n",
    "standalone_parameters = {}\n",
    "standalone_parameters[\"experiment_name\"] = \"STANDALONE PTN\"\n",
    "standalone_parameters[\"lr\"] = 0.0001\n",
    "standalone_parameters[\"device\"] = \"cuda\"\n",
    "\n",
    "standalone_parameters[\"seed\"] = 1337\n",
    "standalone_parameters[\"dataset_seed\"] = 1337\n",
    "\n",
    "\n",
    "standalone_parameters[\"num_examples_per_domain_per_label_source\"]=100\n",
    "standalone_parameters[\"num_examples_per_domain_per_label_target\"]=100\n",
    "\n",
    "standalone_parameters[\"n_shot\"] = 3\n",
    "standalone_parameters[\"n_query\"]  = 2\n",
    "standalone_parameters[\"train_k_factor\"] = 1\n",
    "standalone_parameters[\"val_k_factor\"] = 2\n",
    "standalone_parameters[\"test_k_factor\"] = 2\n",
    "\n",
    "\n",
    "standalone_parameters[\"n_epoch\"] = 100\n",
    "\n",
    "standalone_parameters[\"patience\"] = 10\n",
    "standalone_parameters[\"criteria_for_best\"] = \"target_accuracy\"\n",
    "\n",
    "standalone_parameters[\"x_transforms_source\"] = [\"unit_power\"]\n",
    "standalone_parameters[\"x_transforms_target\"] = [\"unit_power\"]\n",
    "standalone_parameters[\"episode_transforms_source\"] = []\n",
    "standalone_parameters[\"episode_transforms_target\"] = []\n",
    "\n",
    "standalone_parameters[\"torch_default_dtype\"] = \"torch.float32\" \n",
    "\n",
    "\n",
    "\n",
    "standalone_parameters[\"x_net\"] =     [\n",
    "    {\"class\": \"nnReshape\", \"kargs\": {\"shape\":[-1, 1, 2, 256]}},\n",
    "    {\"class\": \"Conv2d\", \"kargs\": { \"in_channels\":1, \"out_channels\":256, \"kernel_size\":(1,7), \"bias\":False, \"padding\":(0,3), },},\n",
    "    {\"class\": \"ReLU\", \"kargs\": {\"inplace\": True}},\n",
    "    {\"class\": \"BatchNorm2d\", \"kargs\": {\"num_features\":256}},\n",
    "\n",
    "    {\"class\": \"Conv2d\", \"kargs\": { \"in_channels\":256, \"out_channels\":80, \"kernel_size\":(2,7), \"bias\":True, \"padding\":(0,3), },},\n",
    "    {\"class\": \"ReLU\", \"kargs\": {\"inplace\": True}},\n",
    "    {\"class\": \"BatchNorm2d\", \"kargs\": {\"num_features\":80}},\n",
    "    {\"class\": \"Flatten\", \"kargs\": {}},\n",
    "\n",
    "    {\"class\": \"Linear\", \"kargs\": {\"in_features\": 80*256, \"out_features\": 256}}, # 80 units per IQ pair\n",
    "    {\"class\": \"ReLU\", \"kargs\": {\"inplace\": True}},\n",
    "    {\"class\": \"BatchNorm1d\", \"kargs\": {\"num_features\":256}},\n",
    "\n",
    "    {\"class\": \"Linear\", \"kargs\": {\"in_features\": 256, \"out_features\": 256}},\n",
    "]\n",
    "\n",
    "# Parameters relevant to results\n",
    "# These parameters will basically never need to change\n",
    "standalone_parameters[\"NUM_LOGS_PER_EPOCH\"] = 10\n",
    "standalone_parameters[\"BEST_MODEL_PATH\"] = \"./best_model.pth\"\n",
    "\n",
    "# uncomment for CORES dataset\n",
    "from steves_utils.CORES.utils import (\n",
    "    ALL_NODES,\n",
    "    ALL_NODES_MINIMUM_1000_EXAMPLES,\n",
    "    ALL_DAYS\n",
    ")\n",
    "\n",
    "\n",
    "standalone_parameters[\"labels_source\"] = ALL_NODES\n",
    "standalone_parameters[\"labels_target\"] = ALL_NODES\n",
    "\n",
    "standalone_parameters[\"domains_source\"] = [1]\n",
    "standalone_parameters[\"domains_target\"] = [2,3,4,5]\n",
    "\n",
    "standalone_parameters[\"pickle_name\"] = \"cores.stratified_ds.2022A.pkl\"\n",
    "\n",
    "\n",
    "# Uncomment these for ORACLE dataset\n",
    "# from steves_utils.ORACLE.utils_v2 import (\n",
    "#     ALL_DISTANCES_FEET,\n",
    "#     ALL_RUNS,\n",
    "#     ALL_SERIAL_NUMBERS,\n",
    "# )\n",
    "# standalone_parameters[\"labels_source\"] = ALL_SERIAL_NUMBERS\n",
    "# standalone_parameters[\"labels_target\"] = ALL_SERIAL_NUMBERS\n",
    "# standalone_parameters[\"domains_source\"] = [8,20, 38,50]\n",
    "# standalone_parameters[\"domains_target\"] = [14, 26, 32, 44, 56]\n",
    "# standalone_parameters[\"pickle_name\"] = \"oracle.frame_indexed.stratified_ds.2022A.pkl\"\n",
    "# standalone_parameters[\"num_examples_per_domain_per_label_source\"]=1000\n",
    "# standalone_parameters[\"num_examples_per_domain_per_label_target\"]=1000\n",
    "\n",
    "# Uncomment these for Metahan dataset\n",
    "# standalone_parameters[\"labels_source\"] = list(range(19))\n",
    "# standalone_parameters[\"labels_target\"] = list(range(19))\n",
    "# standalone_parameters[\"domains_source\"] = [0]\n",
    "# standalone_parameters[\"domains_target\"] = [1]\n",
    "# standalone_parameters[\"pickle_name\"] = \"metehan.stratified_ds.2022A.pkl\"\n",
    "# standalone_parameters[\"n_way\"]  = len(standalone_parameters[\"labels_source\"])\n",
    "# standalone_parameters[\"num_examples_per_domain_per_label_source\"]=200\n",
    "# standalone_parameters[\"num_examples_per_domain_per_label_target\"]=100\n",
    "\n",
    "\n",
    "standalone_parameters[\"n_way\"]  = len(standalone_parameters[\"labels_source\"])"
   ]
  },
  {
   "cell_type": "code",
   "execution_count": 4,
   "id": "1a1fd055",
   "metadata": {
    "execution": {
     "iopub.execute_input": "2022-04-01T17:03:29.571005Z",
     "iopub.status.busy": "2022-04-01T17:03:29.570720Z",
     "iopub.status.idle": "2022-04-01T17:03:29.584929Z",
     "shell.execute_reply": "2022-04-01T17:03:29.584458Z"
    },
    "papermill": {
     "duration": 0.031641,
     "end_time": "2022-04-01T17:03:29.585025",
     "exception": false,
     "start_time": "2022-04-01T17:03:29.553384",
     "status": "completed"
    },
    "tags": [
     "injected-parameters"
    ]
   },
   "outputs": [],
   "source": [
    "# Parameters\n",
    "parameters = {\n",
    "    \"experiment_name\": \"tuned_1v2:oracle.run2_limited\",\n",
    "    \"device\": \"cuda\",\n",
    "    \"lr\": 0.0001,\n",
    "    \"labels_source\": [\n",
    "        \"3123D52\",\n",
    "        \"3123D65\",\n",
    "        \"3123D79\",\n",
    "        \"3123D80\",\n",
    "        \"3123D54\",\n",
    "        \"3123D70\",\n",
    "        \"3123D7B\",\n",
    "        \"3123D89\",\n",
    "        \"3123D58\",\n",
    "        \"3123D76\",\n",
    "        \"3123D7D\",\n",
    "        \"3123EFE\",\n",
    "        \"3123D64\",\n",
    "        \"3123D78\",\n",
    "        \"3123D7E\",\n",
    "        \"3124E4A\",\n",
    "    ],\n",
    "    \"labels_target\": [\n",
    "        \"3123D52\",\n",
    "        \"3123D65\",\n",
    "        \"3123D79\",\n",
    "        \"3123D80\",\n",
    "        \"3123D54\",\n",
    "        \"3123D70\",\n",
    "        \"3123D7B\",\n",
    "        \"3123D89\",\n",
    "        \"3123D58\",\n",
    "        \"3123D76\",\n",
    "        \"3123D7D\",\n",
    "        \"3123EFE\",\n",
    "        \"3123D64\",\n",
    "        \"3123D78\",\n",
    "        \"3123D7E\",\n",
    "        \"3124E4A\",\n",
    "    ],\n",
    "    \"episode_transforms_source\": [],\n",
    "    \"episode_transforms_target\": [],\n",
    "    \"domains_source\": [8, 32, 50],\n",
    "    \"domains_target\": [14, 20, 26, 38, 44],\n",
    "    \"num_examples_per_domain_per_label_source\": 2000,\n",
    "    \"num_examples_per_domain_per_label_target\": 2000,\n",
    "    \"n_shot\": 3,\n",
    "    \"n_way\": 16,\n",
    "    \"n_query\": 2,\n",
    "    \"train_k_factor\": 3,\n",
    "    \"val_k_factor\": 2,\n",
    "    \"test_k_factor\": 2,\n",
    "    \"torch_default_dtype\": \"torch.float32\",\n",
    "    \"n_epoch\": 50,\n",
    "    \"patience\": 3,\n",
    "    \"criteria_for_best\": \"target_accuracy\",\n",
    "    \"x_net\": [\n",
    "        {\"class\": \"nnReshape\", \"kargs\": {\"shape\": [-1, 1, 2, 256]}},\n",
    "        {\n",
    "            \"class\": \"Conv2d\",\n",
    "            \"kargs\": {\n",
    "                \"in_channels\": 1,\n",
    "                \"out_channels\": 256,\n",
    "                \"kernel_size\": [1, 7],\n",
    "                \"bias\": False,\n",
    "                \"padding\": [0, 3],\n",
    "            },\n",
    "        },\n",
    "        {\"class\": \"ReLU\", \"kargs\": {\"inplace\": True}},\n",
    "        {\"class\": \"BatchNorm2d\", \"kargs\": {\"num_features\": 256}},\n",
    "        {\n",
    "            \"class\": \"Conv2d\",\n",
    "            \"kargs\": {\n",
    "                \"in_channels\": 256,\n",
    "                \"out_channels\": 80,\n",
    "                \"kernel_size\": [2, 7],\n",
    "                \"bias\": True,\n",
    "                \"padding\": [0, 3],\n",
    "            },\n",
    "        },\n",
    "        {\"class\": \"ReLU\", \"kargs\": {\"inplace\": True}},\n",
    "        {\"class\": \"BatchNorm2d\", \"kargs\": {\"num_features\": 80}},\n",
    "        {\"class\": \"Flatten\", \"kargs\": {}},\n",
    "        {\"class\": \"Linear\", \"kargs\": {\"in_features\": 20480, \"out_features\": 256}},\n",
    "        {\"class\": \"ReLU\", \"kargs\": {\"inplace\": True}},\n",
    "        {\"class\": \"BatchNorm1d\", \"kargs\": {\"num_features\": 256}},\n",
    "        {\"class\": \"Linear\", \"kargs\": {\"in_features\": 256, \"out_features\": 256}},\n",
    "    ],\n",
    "    \"NUM_LOGS_PER_EPOCH\": 10,\n",
    "    \"BEST_MODEL_PATH\": \"./best_model.pth\",\n",
    "    \"pickle_name\": \"oracle.Run2_10kExamples_stratified_ds.2022A.pkl\",\n",
    "    \"x_transforms_source\": [],\n",
    "    \"x_transforms_target\": [],\n",
    "    \"dataset_seed\": 500,\n",
    "    \"seed\": 500,\n",
    "}\n"
   ]
  },
  {
   "cell_type": "code",
   "execution_count": 5,
   "id": "8fa1cc33",
   "metadata": {
    "execution": {
     "iopub.execute_input": "2022-04-01T17:03:29.613452Z",
     "iopub.status.busy": "2022-04-01T17:03:29.610787Z",
     "iopub.status.idle": "2022-04-01T17:03:29.628468Z",
     "shell.execute_reply": "2022-04-01T17:03:29.628055Z"
    },
    "papermill": {
     "duration": 0.028378,
     "end_time": "2022-04-01T17:03:29.628562",
     "exception": false,
     "start_time": "2022-04-01T17:03:29.600184",
     "status": "completed"
    },
    "tags": []
   },
   "outputs": [],
   "source": [
    "# Set this to True if you want to run this template directly\n",
    "STANDALONE = False\n",
    "if STANDALONE:\n",
    "    print(\"parameters not injected, running with standalone_parameters\")\n",
    "    parameters = standalone_parameters\n",
    "\n",
    "if not 'parameters' in locals() and not 'parameters' in globals():\n",
    "    raise Exception(\"Parameter injection failed\")\n",
    "\n",
    "#Use an easy dict for all the parameters\n",
    "p = EasyDict(parameters)\n",
    "\n",
    "supplied_keys = set(p.keys())\n",
    "\n",
    "if  supplied_keys != required_parameters:\n",
    "    print(\"Parameters are incorrect\")\n",
    "    if len(supplied_keys - required_parameters)>0: print(\"Shouldn't have:\", str(supplied_keys - required_parameters))\n",
    "    if len(required_parameters - supplied_keys)>0: print(\"Need to have:\", str(required_parameters - supplied_keys))\n",
    "    raise RuntimeError(\"Parameters are incorrect\")\n",
    "\n"
   ]
  },
  {
   "cell_type": "code",
   "execution_count": 6,
   "id": "3a028d58",
   "metadata": {
    "execution": {
     "iopub.execute_input": "2022-04-01T17:03:29.654571Z",
     "iopub.status.busy": "2022-04-01T17:03:29.653857Z",
     "iopub.status.idle": "2022-04-01T17:03:29.664741Z",
     "shell.execute_reply": "2022-04-01T17:03:29.664395Z"
    },
    "papermill": {
     "duration": 0.021409,
     "end_time": "2022-04-01T17:03:29.664811",
     "exception": false,
     "start_time": "2022-04-01T17:03:29.643402",
     "status": "completed"
    },
    "tags": []
   },
   "outputs": [],
   "source": [
    "###################################\n",
    "# Set the RNGs and make it all deterministic\n",
    "###################################\n",
    "np.random.seed(p.seed)\n",
    "random.seed(p.seed)\n",
    "torch.manual_seed(p.seed)\n",
    "\n",
    "torch.use_deterministic_algorithms(True) "
   ]
  },
  {
   "cell_type": "code",
   "execution_count": 7,
   "id": "b691acf6",
   "metadata": {
    "execution": {
     "iopub.execute_input": "2022-04-01T17:03:29.691624Z",
     "iopub.status.busy": "2022-04-01T17:03:29.687232Z",
     "iopub.status.idle": "2022-04-01T17:03:29.701193Z",
     "shell.execute_reply": "2022-04-01T17:03:29.701571Z"
    },
    "papermill": {
     "duration": 0.025163,
     "end_time": "2022-04-01T17:03:29.701689",
     "exception": false,
     "start_time": "2022-04-01T17:03:29.676526",
     "status": "completed"
    },
    "tags": []
   },
   "outputs": [],
   "source": [
    "###########################################\n",
    "# The stratified datasets honor this\n",
    "###########################################\n",
    "torch.set_default_dtype(eval(p.torch_default_dtype))"
   ]
  },
  {
   "cell_type": "code",
   "execution_count": 8,
   "id": "b5fba671",
   "metadata": {
    "execution": {
     "iopub.execute_input": "2022-04-01T17:03:29.727867Z",
     "iopub.status.busy": "2022-04-01T17:03:29.727617Z",
     "iopub.status.idle": "2022-04-01T17:03:29.764662Z",
     "shell.execute_reply": "2022-04-01T17:03:29.764271Z"
    },
    "papermill": {
     "duration": 0.048175,
     "end_time": "2022-04-01T17:03:29.764750",
     "exception": false,
     "start_time": "2022-04-01T17:03:29.716575",
     "status": "completed"
    },
    "tags": []
   },
   "outputs": [],
   "source": [
    "###################################\n",
    "# Build the network(s)\n",
    "# Note: It's critical to do this AFTER setting the RNG\n",
    "# (This is due to the randomized initial weights)\n",
    "###################################\n",
    "x_net = build_sequential(p.x_net)"
   ]
  },
  {
   "cell_type": "code",
   "execution_count": 9,
   "id": "5d7e61cc",
   "metadata": {
    "execution": {
     "iopub.execute_input": "2022-04-01T17:03:29.790901Z",
     "iopub.status.busy": "2022-04-01T17:03:29.790301Z",
     "iopub.status.idle": "2022-04-01T17:03:29.802058Z",
     "shell.execute_reply": "2022-04-01T17:03:29.801709Z"
    },
    "papermill": {
     "duration": 0.022757,
     "end_time": "2022-04-01T17:03:29.802128",
     "exception": false,
     "start_time": "2022-04-01T17:03:29.779371",
     "status": "completed"
    },
    "tags": []
   },
   "outputs": [],
   "source": [
    "start_time_secs = time.time()"
   ]
  },
  {
   "cell_type": "code",
   "execution_count": 10,
   "id": "fd5442bc",
   "metadata": {
    "execution": {
     "iopub.execute_input": "2022-04-01T17:03:29.836170Z",
     "iopub.status.busy": "2022-04-01T17:03:29.834430Z",
     "iopub.status.idle": "2022-04-01T17:03:33.518290Z",
     "shell.execute_reply": "2022-04-01T17:03:33.517899Z"
    },
    "papermill": {
     "duration": 3.70236,
     "end_time": "2022-04-01T17:03:33.518389",
     "exception": false,
     "start_time": "2022-04-01T17:03:29.816029",
     "status": "completed"
    },
    "tags": []
   },
   "outputs": [],
   "source": [
    "###################################\n",
    "# Build the dataset\n",
    "###################################\n",
    "\n",
    "if p.x_transforms_source == []: x_transform_source = None\n",
    "else: x_transform_source = get_chained_transform(p.x_transforms_source) \n",
    "\n",
    "if p.x_transforms_target == []: x_transform_target = None\n",
    "else: x_transform_target = get_chained_transform(p.x_transforms_target)\n",
    "\n",
    "if p.episode_transforms_source == []: episode_transform_source = None\n",
    "else: raise Exception(\"episode_transform_source not implemented\")\n",
    "\n",
    "if p.episode_transforms_target == []: episode_transform_target = None\n",
    "else: raise Exception(\"episode_transform_target not implemented\")\n",
    "\n",
    "\n",
    "eaf_source = Episodic_Accessor_Factory(\n",
    "    labels=p.labels_source,\n",
    "    domains=p.domains_source,\n",
    "    num_examples_per_domain_per_label=p.num_examples_per_domain_per_label_source,\n",
    "    iterator_seed=p.seed,\n",
    "    dataset_seed=p.dataset_seed,\n",
    "    n_shot=p.n_shot,\n",
    "    n_way=p.n_way,\n",
    "    n_query=p.n_query,\n",
    "    train_val_test_k_factors=(p.train_k_factor,p.val_k_factor,p.test_k_factor),\n",
    "    pickle_path=os.path.join(get_datasets_base_path(), p.pickle_name),\n",
    "    x_transform_func=x_transform_source,\n",
    "    example_transform_func=episode_transform_source,\n",
    "    \n",
    ")\n",
    "train_original_source, val_original_source, test_original_source = eaf_source.get_train(), eaf_source.get_val(), eaf_source.get_test()\n",
    "\n",
    "\n",
    "eaf_target = Episodic_Accessor_Factory(\n",
    "    labels=p.labels_target,\n",
    "    domains=p.domains_target,\n",
    "    num_examples_per_domain_per_label=p.num_examples_per_domain_per_label_target,\n",
    "    iterator_seed=p.seed,\n",
    "    dataset_seed=p.dataset_seed,\n",
    "    n_shot=p.n_shot,\n",
    "    n_way=p.n_way,\n",
    "    n_query=p.n_query,\n",
    "    train_val_test_k_factors=(p.train_k_factor,p.val_k_factor,p.test_k_factor),\n",
    "    pickle_path=os.path.join(get_datasets_base_path(), p.pickle_name),\n",
    "    x_transform_func=x_transform_target,\n",
    "    example_transform_func=episode_transform_target,\n",
    ")\n",
    "train_original_target, val_original_target, test_original_target = eaf_target.get_train(), eaf_target.get_val(), eaf_target.get_test()\n",
    "\n",
    "\n",
    "transform_lambda = lambda ex: ex[1] # Original is (<domain>, <episode>) so we strip down to episode only\n",
    "\n",
    "train_processed_source = Lazy_Iterable_Wrapper(train_original_source, transform_lambda)\n",
    "val_processed_source   = Lazy_Iterable_Wrapper(val_original_source, transform_lambda)\n",
    "test_processed_source  = Lazy_Iterable_Wrapper(test_original_source, transform_lambda)\n",
    "\n",
    "train_processed_target = Lazy_Iterable_Wrapper(train_original_target, transform_lambda)\n",
    "val_processed_target   = Lazy_Iterable_Wrapper(val_original_target, transform_lambda)\n",
    "test_processed_target  = Lazy_Iterable_Wrapper(test_original_target, transform_lambda)\n",
    "\n",
    "datasets = EasyDict({\n",
    "    \"source\": {\n",
    "        \"original\": {\"train\":train_original_source, \"val\":val_original_source, \"test\":test_original_source},\n",
    "        \"processed\": {\"train\":train_processed_source, \"val\":val_processed_source, \"test\":test_processed_source}\n",
    "    },\n",
    "    \"target\": {\n",
    "        \"original\": {\"train\":train_original_target, \"val\":val_original_target, \"test\":test_original_target},\n",
    "        \"processed\": {\"train\":train_processed_target, \"val\":val_processed_target, \"test\":test_processed_target}\n",
    "    },\n",
    "})"
   ]
  },
  {
   "cell_type": "code",
   "execution_count": 11,
   "id": "296189d9",
   "metadata": {
    "execution": {
     "iopub.execute_input": "2022-04-01T17:03:33.545385Z",
     "iopub.status.busy": "2022-04-01T17:03:33.545000Z",
     "iopub.status.idle": "2022-04-01T17:03:35.192891Z",
     "shell.execute_reply": "2022-04-01T17:03:35.192626Z"
    },
    "papermill": {
     "duration": 1.660542,
     "end_time": "2022-04-01T17:03:35.192960",
     "exception": false,
     "start_time": "2022-04-01T17:03:33.532418",
     "status": "completed"
    },
    "tags": []
   },
   "outputs": [
    {
     "name": "stdout",
     "output_type": "stream",
     "text": [
      "Visually inspect these to see if they line up with expected values given the transforms\n",
      "x_transforms_source []\n",
      "x_transforms_target []\n",
      "Average magnitude, source: 0.0064444044\n",
      "Average power, source: 4.5425055e-05\n"
     ]
    },
    {
     "name": "stdout",
     "output_type": "stream",
     "text": [
      "Average magnitude, target: 0.0049498985\n",
      "Average power, target: 3.0479689e-05\n"
     ]
    }
   ],
   "source": [
    "# Some quick unit tests on the data\n",
    "from steves_utils.transforms import get_average_power, get_average_magnitude\n",
    "\n",
    "q_x, q_y, s_x, s_y, truth = next(iter(train_processed_source))\n",
    "\n",
    "assert q_x.dtype == eval(p.torch_default_dtype)\n",
    "assert s_x.dtype == eval(p.torch_default_dtype)\n",
    "\n",
    "print(\"Visually inspect these to see if they line up with expected values given the transforms\")\n",
    "print('x_transforms_source', p.x_transforms_source)\n",
    "print('x_transforms_target', p.x_transforms_target)\n",
    "print(\"Average magnitude, source:\", get_average_magnitude(q_x[0].numpy()))\n",
    "print(\"Average power, source:\", get_average_power(q_x[0].numpy()))\n",
    "\n",
    "q_x, q_y, s_x, s_y, truth = next(iter(train_processed_target))\n",
    "print(\"Average magnitude, target:\", get_average_magnitude(q_x[0].numpy()))\n",
    "print(\"Average power, target:\", get_average_power(q_x[0].numpy()))\n"
   ]
  },
  {
   "cell_type": "code",
   "execution_count": 12,
   "id": "bbdacba1",
   "metadata": {
    "execution": {
     "iopub.execute_input": "2022-04-01T17:03:35.222050Z",
     "iopub.status.busy": "2022-04-01T17:03:35.221753Z",
     "iopub.status.idle": "2022-04-01T17:03:35.285669Z",
     "shell.execute_reply": "2022-04-01T17:03:35.285225Z"
    },
    "papermill": {
     "duration": 0.077988,
     "end_time": "2022-04-01T17:03:35.285812",
     "exception": false,
     "start_time": "2022-04-01T17:03:35.207824",
     "status": "completed"
    },
    "tags": []
   },
   "outputs": [
    {
     "name": "stdout",
     "output_type": "stream",
     "text": [
      "(2, 256)\n"
     ]
    }
   ],
   "source": [
    "###################################\n",
    "# Build the model\n",
    "###################################\n",
    "model = Steves_Prototypical_Network(x_net, device=p.device, x_shape=(2,256))\n",
    "optimizer = Adam(params=model.parameters(), lr=p.lr)"
   ]
  },
  {
   "cell_type": "code",
   "execution_count": 13,
   "id": "22b39ac5",
   "metadata": {
    "execution": {
     "iopub.execute_input": "2022-04-01T17:03:35.318008Z",
     "iopub.status.busy": "2022-04-01T17:03:35.317732Z",
     "iopub.status.idle": "2022-04-01T17:13:02.687155Z",
     "shell.execute_reply": "2022-04-01T17:13:02.686923Z"
    },
    "papermill": {
     "duration": 567.383285,
     "end_time": "2022-04-01T17:13:02.687215",
     "exception": false,
     "start_time": "2022-04-01T17:03:35.303930",
     "status": "completed"
    },
    "tags": []
   },
   "outputs": [
    {
     "name": "stdout",
     "output_type": "stream",
     "text": [
      "epoch: 1, [batch: 1 / 2520], examples_per_second: 128.4453, train_label_loss: 2.7330, \n"
     ]
    },
    {
     "name": "stdout",
     "output_type": "stream",
     "text": [
      "epoch: 1, [batch: 252 / 2520], examples_per_second: 3178.7301, train_label_loss: 1.1178, \n"
     ]
    },
    {
     "name": "stdout",
     "output_type": "stream",
     "text": [
      "epoch: 1, [batch: 504 / 2520], examples_per_second: 3210.8194, train_label_loss: 1.1917, \n"
     ]
    },
    {
     "name": "stdout",
     "output_type": "stream",
     "text": [
      "epoch: 1, [batch: 756 / 2520], examples_per_second: 3176.8561, train_label_loss: 1.1228, \n"
     ]
    },
    {
     "name": "stdout",
     "output_type": "stream",
     "text": [
      "epoch: 1, [batch: 1008 / 2520], examples_per_second: 3180.3017, train_label_loss: 0.9105, \n"
     ]
    },
    {
     "name": "stdout",
     "output_type": "stream",
     "text": [
      "epoch: 1, [batch: 1260 / 2520], examples_per_second: 3193.1893, train_label_loss: 1.1506, \n"
     ]
    },
    {
     "name": "stdout",
     "output_type": "stream",
     "text": [
      "epoch: 1, [batch: 1512 / 2520], examples_per_second: 3188.9067, train_label_loss: 1.1767, \n"
     ]
    },
    {
     "name": "stdout",
     "output_type": "stream",
     "text": [
      "epoch: 1, [batch: 1764 / 2520], examples_per_second: 3176.8867, train_label_loss: 1.0070, \n"
     ]
    },
    {
     "name": "stdout",
     "output_type": "stream",
     "text": [
      "epoch: 1, [batch: 2016 / 2520], examples_per_second: 3184.8626, train_label_loss: 0.8923, \n"
     ]
    },
    {
     "name": "stdout",
     "output_type": "stream",
     "text": [
      "epoch: 1, [batch: 2268 / 2520], examples_per_second: 3218.4408, train_label_loss: 0.8136, \n"
     ]
    },
    {
     "name": "stdout",
     "output_type": "stream",
     "text": [
      "=============================================================\n",
      "epoch: 1, source_val_acc_label: 0.6527, target_val_acc_label: 0.4829, source_val_label_loss: 2.3689, target_val_label_loss: 2.7963, \n",
      "=============================================================\n"
     ]
    },
    {
     "name": "stdout",
     "output_type": "stream",
     "text": [
      "New best\n"
     ]
    },
    {
     "name": "stdout",
     "output_type": "stream",
     "text": [
      "epoch: 2, [batch: 1 / 2520], examples_per_second: 11.2605, train_label_loss: 4.7584, \n"
     ]
    },
    {
     "name": "stdout",
     "output_type": "stream",
     "text": [
      "epoch: 2, [batch: 252 / 2520], examples_per_second: 3208.1554, train_label_loss: 0.6326, \n"
     ]
    },
    {
     "name": "stdout",
     "output_type": "stream",
     "text": [
      "epoch: 2, [batch: 504 / 2520], examples_per_second: 3204.9753, train_label_loss: 0.4277, \n"
     ]
    },
    {
     "name": "stdout",
     "output_type": "stream",
     "text": [
      "epoch: 2, [batch: 756 / 2520], examples_per_second: 3221.6037, train_label_loss: 0.4440, \n"
     ]
    },
    {
     "name": "stdout",
     "output_type": "stream",
     "text": [
      "epoch: 2, [batch: 1008 / 2520], examples_per_second: 3198.3620, train_label_loss: 0.3125, \n"
     ]
    },
    {
     "name": "stdout",
     "output_type": "stream",
     "text": [
      "epoch: 2, [batch: 1260 / 2520], examples_per_second: 3212.0678, train_label_loss: 0.2240, \n"
     ]
    },
    {
     "name": "stdout",
     "output_type": "stream",
     "text": [
      "epoch: 2, [batch: 1512 / 2520], examples_per_second: 3200.1076, train_label_loss: 0.3061, \n"
     ]
    },
    {
     "name": "stdout",
     "output_type": "stream",
     "text": [
      "epoch: 2, [batch: 1764 / 2520], examples_per_second: 3189.6077, train_label_loss: 0.6127, \n"
     ]
    },
    {
     "name": "stdout",
     "output_type": "stream",
     "text": [
      "epoch: 2, [batch: 2016 / 2520], examples_per_second: 3195.3044, train_label_loss: 0.3108, \n"
     ]
    },
    {
     "name": "stdout",
     "output_type": "stream",
     "text": [
      "epoch: 2, [batch: 2268 / 2520], examples_per_second: 3212.1378, train_label_loss: 0.2435, \n"
     ]
    },
    {
     "name": "stdout",
     "output_type": "stream",
     "text": [
      "=============================================================\n",
      "epoch: 2, source_val_acc_label: 0.8001, target_val_acc_label: 0.6482, source_val_label_loss: 0.5294, target_val_label_loss: 1.0010, \n",
      "=============================================================\n"
     ]
    },
    {
     "name": "stdout",
     "output_type": "stream",
     "text": [
      "New best\n"
     ]
    },
    {
     "name": "stdout",
     "output_type": "stream",
     "text": [
      "epoch: 3, [batch: 1 / 2520], examples_per_second: 11.2174, train_label_loss: 0.3692, \n"
     ]
    },
    {
     "name": "stdout",
     "output_type": "stream",
     "text": [
      "epoch: 3, [batch: 252 / 2520], examples_per_second: 3209.7253, train_label_loss: 0.1385, \n"
     ]
    },
    {
     "name": "stdout",
     "output_type": "stream",
     "text": [
      "epoch: 3, [batch: 504 / 2520], examples_per_second: 3225.2102, train_label_loss: 0.8966, \n"
     ]
    },
    {
     "name": "stdout",
     "output_type": "stream",
     "text": [
      "epoch: 3, [batch: 756 / 2520], examples_per_second: 3212.4521, train_label_loss: 0.2957, \n"
     ]
    },
    {
     "name": "stdout",
     "output_type": "stream",
     "text": [
      "epoch: 3, [batch: 1008 / 2520], examples_per_second: 3178.8018, train_label_loss: 0.7114, \n"
     ]
    },
    {
     "name": "stdout",
     "output_type": "stream",
     "text": [
      "epoch: 3, [batch: 1260 / 2520], examples_per_second: 3198.2315, train_label_loss: 0.4444, \n"
     ]
    },
    {
     "name": "stdout",
     "output_type": "stream",
     "text": [
      "epoch: 3, [batch: 1512 / 2520], examples_per_second: 3242.4224, train_label_loss: 0.5868, \n"
     ]
    },
    {
     "name": "stdout",
     "output_type": "stream",
     "text": [
      "epoch: 3, [batch: 1764 / 2520], examples_per_second: 3185.4377, train_label_loss: 0.3693, \n"
     ]
    },
    {
     "name": "stdout",
     "output_type": "stream",
     "text": [
      "epoch: 3, [batch: 2016 / 2520], examples_per_second: 3214.8536, train_label_loss: 0.1016, \n"
     ]
    },
    {
     "name": "stdout",
     "output_type": "stream",
     "text": [
      "epoch: 3, [batch: 2268 / 2520], examples_per_second: 3203.3108, train_label_loss: 0.4276, \n"
     ]
    },
    {
     "name": "stdout",
     "output_type": "stream",
     "text": [
      "=============================================================\n",
      "epoch: 3, source_val_acc_label: 0.8196, target_val_acc_label: 0.6631, source_val_label_loss: 0.4863, target_val_label_loss: 1.0110, \n",
      "=============================================================\n"
     ]
    },
    {
     "name": "stdout",
     "output_type": "stream",
     "text": [
      "New best\n"
     ]
    },
    {
     "name": "stdout",
     "output_type": "stream",
     "text": [
      "epoch: 4, [batch: 1 / 2520], examples_per_second: 11.1921, train_label_loss: 0.0303, \n"
     ]
    },
    {
     "name": "stdout",
     "output_type": "stream",
     "text": [
      "epoch: 4, [batch: 252 / 2520], examples_per_second: 3220.6707, train_label_loss: 0.1255, \n"
     ]
    },
    {
     "name": "stdout",
     "output_type": "stream",
     "text": [
      "epoch: 4, [batch: 504 / 2520], examples_per_second: 3224.1341, train_label_loss: 0.4189, \n"
     ]
    },
    {
     "name": "stdout",
     "output_type": "stream",
     "text": [
      "epoch: 4, [batch: 756 / 2520], examples_per_second: 3187.2911, train_label_loss: 0.3038, \n"
     ]
    },
    {
     "name": "stdout",
     "output_type": "stream",
     "text": [
      "epoch: 4, [batch: 1008 / 2520], examples_per_second: 3200.3343, train_label_loss: 0.3965, \n"
     ]
    },
    {
     "name": "stdout",
     "output_type": "stream",
     "text": [
      "epoch: 4, [batch: 1260 / 2520], examples_per_second: 3202.3162, train_label_loss: 0.1980, \n"
     ]
    },
    {
     "name": "stdout",
     "output_type": "stream",
     "text": [
      "epoch: 4, [batch: 1512 / 2520], examples_per_second: 3187.8229, train_label_loss: 0.2416, \n"
     ]
    },
    {
     "name": "stdout",
     "output_type": "stream",
     "text": [
      "epoch: 4, [batch: 1764 / 2520], examples_per_second: 3181.9777, train_label_loss: 0.3689, \n"
     ]
    },
    {
     "name": "stdout",
     "output_type": "stream",
     "text": [
      "epoch: 4, [batch: 2016 / 2520], examples_per_second: 3159.2750, train_label_loss: 0.3934, \n"
     ]
    },
    {
     "name": "stdout",
     "output_type": "stream",
     "text": [
      "epoch: 4, [batch: 2268 / 2520], examples_per_second: 3191.1899, train_label_loss: 0.2601, \n"
     ]
    },
    {
     "name": "stdout",
     "output_type": "stream",
     "text": [
      "=============================================================\n",
      "epoch: 4, source_val_acc_label: 0.8350, target_val_acc_label: 0.6687, source_val_label_loss: 0.4801, target_val_label_loss: 1.0243, \n",
      "=============================================================\n"
     ]
    },
    {
     "name": "stdout",
     "output_type": "stream",
     "text": [
      "New best\n"
     ]
    },
    {
     "name": "stdout",
     "output_type": "stream",
     "text": [
      "epoch: 5, [batch: 1 / 2520], examples_per_second: 11.2174, train_label_loss: 0.3405, \n"
     ]
    },
    {
     "name": "stdout",
     "output_type": "stream",
     "text": [
      "epoch: 5, [batch: 252 / 2520], examples_per_second: 3204.2336, train_label_loss: 0.4834, \n"
     ]
    },
    {
     "name": "stdout",
     "output_type": "stream",
     "text": [
      "epoch: 5, [batch: 504 / 2520], examples_per_second: 3215.5369, train_label_loss: 0.5403, \n"
     ]
    },
    {
     "name": "stdout",
     "output_type": "stream",
     "text": [
      "epoch: 5, [batch: 756 / 2520], examples_per_second: 3197.2575, train_label_loss: 0.1870, \n"
     ]
    },
    {
     "name": "stdout",
     "output_type": "stream",
     "text": [
      "epoch: 5, [batch: 1008 / 2520], examples_per_second: 3179.4838, train_label_loss: 0.3196, \n"
     ]
    },
    {
     "name": "stdout",
     "output_type": "stream",
     "text": [
      "epoch: 5, [batch: 1260 / 2520], examples_per_second: 3189.2701, train_label_loss: 0.2440, \n"
     ]
    },
    {
     "name": "stdout",
     "output_type": "stream",
     "text": [
      "epoch: 5, [batch: 1512 / 2520], examples_per_second: 3188.8453, train_label_loss: 0.1656, \n"
     ]
    },
    {
     "name": "stdout",
     "output_type": "stream",
     "text": [
      "epoch: 5, [batch: 1764 / 2520], examples_per_second: 3191.1445, train_label_loss: 0.1492, \n"
     ]
    },
    {
     "name": "stdout",
     "output_type": "stream",
     "text": [
      "epoch: 5, [batch: 2016 / 2520], examples_per_second: 3188.7808, train_label_loss: 0.1997, \n"
     ]
    },
    {
     "name": "stdout",
     "output_type": "stream",
     "text": [
      "epoch: 5, [batch: 2268 / 2520], examples_per_second: 3190.8742, train_label_loss: 0.0442, \n"
     ]
    },
    {
     "name": "stdout",
     "output_type": "stream",
     "text": [
      "=============================================================\n",
      "epoch: 5, source_val_acc_label: 0.8163, target_val_acc_label: 0.6613, source_val_label_loss: 0.5256, target_val_label_loss: 1.0783, \n",
      "=============================================================\n"
     ]
    },
    {
     "name": "stdout",
     "output_type": "stream",
     "text": [
      "epoch: 6, [batch: 1 / 2520], examples_per_second: 11.2358, train_label_loss: 0.0697, \n"
     ]
    },
    {
     "name": "stdout",
     "output_type": "stream",
     "text": [
      "epoch: 6, [batch: 252 / 2520], examples_per_second: 3196.2963, train_label_loss: 0.1226, \n"
     ]
    },
    {
     "name": "stdout",
     "output_type": "stream",
     "text": [
      "epoch: 6, [batch: 504 / 2520], examples_per_second: 3207.9093, train_label_loss: 0.2015, \n"
     ]
    },
    {
     "name": "stdout",
     "output_type": "stream",
     "text": [
      "epoch: 6, [batch: 756 / 2520], examples_per_second: 3194.1967, train_label_loss: 0.0312, \n"
     ]
    },
    {
     "name": "stdout",
     "output_type": "stream",
     "text": [
      "epoch: 6, [batch: 1008 / 2520], examples_per_second: 3181.5072, train_label_loss: 0.1621, \n"
     ]
    },
    {
     "name": "stdout",
     "output_type": "stream",
     "text": [
      "epoch: 6, [batch: 1260 / 2520], examples_per_second: 3195.5942, train_label_loss: 0.1495, \n"
     ]
    },
    {
     "name": "stdout",
     "output_type": "stream",
     "text": [
      "epoch: 6, [batch: 1512 / 2520], examples_per_second: 3207.9474, train_label_loss: 0.0458, \n"
     ]
    },
    {
     "name": "stdout",
     "output_type": "stream",
     "text": [
      "epoch: 6, [batch: 1764 / 2520], examples_per_second: 3191.3670, train_label_loss: 0.0228, \n"
     ]
    },
    {
     "name": "stdout",
     "output_type": "stream",
     "text": [
      "epoch: 6, [batch: 2016 / 2520], examples_per_second: 3216.9797, train_label_loss: 0.0957, \n"
     ]
    },
    {
     "name": "stdout",
     "output_type": "stream",
     "text": [
      "epoch: 6, [batch: 2268 / 2520], examples_per_second: 3193.9512, train_label_loss: 0.2173, \n"
     ]
    },
    {
     "name": "stdout",
     "output_type": "stream",
     "text": [
      "=============================================================\n",
      "epoch: 6, source_val_acc_label: 0.8235, target_val_acc_label: 0.6600, source_val_label_loss: 0.5746, target_val_label_loss: 1.1959, \n",
      "=============================================================\n"
     ]
    },
    {
     "name": "stdout",
     "output_type": "stream",
     "text": [
      "epoch: 7, [batch: 1 / 2520], examples_per_second: 11.3009, train_label_loss: 0.3685, \n"
     ]
    },
    {
     "name": "stdout",
     "output_type": "stream",
     "text": [
      "epoch: 7, [batch: 252 / 2520], examples_per_second: 3190.1784, train_label_loss: 0.0260, \n"
     ]
    },
    {
     "name": "stdout",
     "output_type": "stream",
     "text": [
      "epoch: 7, [batch: 504 / 2520], examples_per_second: 3205.6085, train_label_loss: 0.0395, \n"
     ]
    },
    {
     "name": "stdout",
     "output_type": "stream",
     "text": [
      "epoch: 7, [batch: 756 / 2520], examples_per_second: 3210.6170, train_label_loss: 0.0924, \n"
     ]
    },
    {
     "name": "stdout",
     "output_type": "stream",
     "text": [
      "epoch: 7, [batch: 1008 / 2520], examples_per_second: 3210.9743, train_label_loss: 0.1438, \n"
     ]
    },
    {
     "name": "stdout",
     "output_type": "stream",
     "text": [
      "epoch: 7, [batch: 1260 / 2520], examples_per_second: 3197.8597, train_label_loss: 0.0032, \n"
     ]
    },
    {
     "name": "stdout",
     "output_type": "stream",
     "text": [
      "epoch: 7, [batch: 1512 / 2520], examples_per_second: 3210.1114, train_label_loss: 0.4910, \n"
     ]
    },
    {
     "name": "stdout",
     "output_type": "stream",
     "text": [
      "epoch: 7, [batch: 1764 / 2520], examples_per_second: 3200.6018, train_label_loss: 0.2751, \n"
     ]
    },
    {
     "name": "stdout",
     "output_type": "stream",
     "text": [
      "epoch: 7, [batch: 2016 / 2520], examples_per_second: 3202.4188, train_label_loss: 0.0288, \n"
     ]
    },
    {
     "name": "stdout",
     "output_type": "stream",
     "text": [
      "epoch: 7, [batch: 2268 / 2520], examples_per_second: 3212.3971, train_label_loss: 0.4466, \n"
     ]
    },
    {
     "name": "stdout",
     "output_type": "stream",
     "text": [
      "=============================================================\n",
      "epoch: 7, source_val_acc_label: 0.8207, target_val_acc_label: 0.6576, source_val_label_loss: 0.5576, target_val_label_loss: 1.1634, \n",
      "=============================================================\n"
     ]
    },
    {
     "name": "stdout",
     "output_type": "stream",
     "text": [
      "epoch: 8, [batch: 1 / 2520], examples_per_second: 11.2916, train_label_loss: 0.1480, \n"
     ]
    },
    {
     "name": "stdout",
     "output_type": "stream",
     "text": [
      "epoch: 8, [batch: 252 / 2520], examples_per_second: 3192.0935, train_label_loss: 0.0911, \n"
     ]
    },
    {
     "name": "stdout",
     "output_type": "stream",
     "text": [
      "epoch: 8, [batch: 504 / 2520], examples_per_second: 3225.4137, train_label_loss: 0.0119, \n"
     ]
    },
    {
     "name": "stdout",
     "output_type": "stream",
     "text": [
      "epoch: 8, [batch: 756 / 2520], examples_per_second: 3214.3848, train_label_loss: 0.1066, \n"
     ]
    },
    {
     "name": "stdout",
     "output_type": "stream",
     "text": [
      "epoch: 8, [batch: 1008 / 2520], examples_per_second: 3196.9223, train_label_loss: 0.3003, \n"
     ]
    },
    {
     "name": "stdout",
     "output_type": "stream",
     "text": [
      "epoch: 8, [batch: 1260 / 2520], examples_per_second: 3201.8346, train_label_loss: 0.0220, \n"
     ]
    },
    {
     "name": "stdout",
     "output_type": "stream",
     "text": [
      "epoch: 8, [batch: 1512 / 2520], examples_per_second: 3200.4549, train_label_loss: 0.1529, \n"
     ]
    },
    {
     "name": "stdout",
     "output_type": "stream",
     "text": [
      "epoch: 8, [batch: 1764 / 2520], examples_per_second: 3185.2670, train_label_loss: 0.1420, \n"
     ]
    },
    {
     "name": "stdout",
     "output_type": "stream",
     "text": [
      "epoch: 8, [batch: 2016 / 2520], examples_per_second: 3191.1063, train_label_loss: 0.0871, \n"
     ]
    },
    {
     "name": "stdout",
     "output_type": "stream",
     "text": [
      "epoch: 8, [batch: 2268 / 2520], examples_per_second: 3200.8833, train_label_loss: 0.0752, \n"
     ]
    },
    {
     "name": "stdout",
     "output_type": "stream",
     "text": [
      "=============================================================\n",
      "epoch: 8, source_val_acc_label: 0.8223, target_val_acc_label: 0.6589, source_val_label_loss: 0.6159, target_val_label_loss: 1.2867, \n",
      "=============================================================\n"
     ]
    },
    {
     "name": "stdout",
     "output_type": "stream",
     "text": [
      "Patience (3) exhausted\n"
     ]
    }
   ],
   "source": [
    "###################################\n",
    "# train\n",
    "###################################\n",
    "jig = PTN_Train_Eval_Test_Jig(model, p.BEST_MODEL_PATH, p.device)\n",
    "\n",
    "jig.train(\n",
    "    train_iterable=datasets.source.processed.train,\n",
    "    source_val_iterable=datasets.source.processed.val,\n",
    "    target_val_iterable=datasets.target.processed.val,\n",
    "    num_epochs=p.n_epoch,\n",
    "    num_logs_per_epoch=p.NUM_LOGS_PER_EPOCH,\n",
    "    patience=p.patience,\n",
    "    optimizer=optimizer,\n",
    "    criteria_for_best=p.criteria_for_best,\n",
    ")"
   ]
  },
  {
   "cell_type": "code",
   "execution_count": 14,
   "id": "31e8fabf",
   "metadata": {
    "execution": {
     "iopub.execute_input": "2022-04-01T17:13:02.744167Z",
     "iopub.status.busy": "2022-04-01T17:13:02.743918Z",
     "iopub.status.idle": "2022-04-01T17:13:02.760851Z",
     "shell.execute_reply": "2022-04-01T17:13:02.760615Z"
    },
    "papermill": {
     "duration": 0.046645,
     "end_time": "2022-04-01T17:13:02.760918",
     "exception": false,
     "start_time": "2022-04-01T17:13:02.714273",
     "status": "completed"
    },
    "tags": []
   },
   "outputs": [],
   "source": [
    "total_experiment_time_secs = time.time() - start_time_secs"
   ]
  },
  {
   "cell_type": "code",
   "execution_count": 15,
   "id": "87b9595b",
   "metadata": {
    "execution": {
     "iopub.execute_input": "2022-04-01T17:13:02.821687Z",
     "iopub.status.busy": "2022-04-01T17:13:02.821400Z",
     "iopub.status.idle": "2022-04-01T17:13:51.556819Z",
     "shell.execute_reply": "2022-04-01T17:13:51.557050Z"
    },
    "papermill": {
     "duration": 48.76896,
     "end_time": "2022-04-01T17:13:51.557135",
     "exception": false,
     "start_time": "2022-04-01T17:13:02.788175",
     "status": "completed"
    },
    "tags": []
   },
   "outputs": [],
   "source": [
    "###################################\n",
    "# Evaluate the model\n",
    "###################################\n",
    "source_test_label_accuracy, source_test_label_loss = jig.test(datasets.source.processed.test)\n",
    "target_test_label_accuracy, target_test_label_loss = jig.test(datasets.target.processed.test)\n",
    "\n",
    "source_val_label_accuracy, source_val_label_loss = jig.test(datasets.source.processed.val)\n",
    "target_val_label_accuracy, target_val_label_loss = jig.test(datasets.target.processed.val)\n",
    "\n",
    "history = jig.get_history()\n",
    "\n",
    "total_epochs_trained = len(history[\"epoch_indices\"])\n",
    "\n",
    "val_dl = Iterable_Aggregator((datasets.source.original.val,datasets.target.original.val))\n",
    "\n",
    "confusion = ptn_confusion_by_domain_over_dataloader(model, p.device, val_dl)\n",
    "per_domain_accuracy = per_domain_accuracy_from_confusion(confusion)\n",
    "\n",
    "# Add a key to per_domain_accuracy for if it was a source domain\n",
    "for domain, accuracy in per_domain_accuracy.items():\n",
    "    per_domain_accuracy[domain] = {\n",
    "        \"accuracy\": accuracy,\n",
    "        \"source?\": domain in p.domains_source\n",
    "    }\n",
    "\n",
    "# Do an independent accuracy assesment JUST TO BE SURE!\n",
    "# _source_test_label_accuracy = independent_accuracy_assesment(model, datasets.source.processed.test, p.device)\n",
    "# _target_test_label_accuracy = independent_accuracy_assesment(model, datasets.target.processed.test, p.device)\n",
    "# _source_val_label_accuracy = independent_accuracy_assesment(model, datasets.source.processed.val, p.device)\n",
    "# _target_val_label_accuracy = independent_accuracy_assesment(model, datasets.target.processed.val, p.device)\n",
    "\n",
    "# assert(_source_test_label_accuracy == source_test_label_accuracy)\n",
    "# assert(_target_test_label_accuracy == target_test_label_accuracy)\n",
    "# assert(_source_val_label_accuracy == source_val_label_accuracy)\n",
    "# assert(_target_val_label_accuracy == target_val_label_accuracy)\n",
    "\n",
    "experiment = {\n",
    "    \"experiment_name\": p.experiment_name,\n",
    "    \"parameters\": dict(p),\n",
    "    \"results\": {\n",
    "        \"source_test_label_accuracy\": source_test_label_accuracy,\n",
    "        \"source_test_label_loss\": source_test_label_loss,\n",
    "        \"target_test_label_accuracy\": target_test_label_accuracy,\n",
    "        \"target_test_label_loss\": target_test_label_loss,\n",
    "        \"source_val_label_accuracy\": source_val_label_accuracy,\n",
    "        \"source_val_label_loss\": source_val_label_loss,\n",
    "        \"target_val_label_accuracy\": target_val_label_accuracy,\n",
    "        \"target_val_label_loss\": target_val_label_loss,\n",
    "        \"total_epochs_trained\": total_epochs_trained,\n",
    "        \"total_experiment_time_secs\": total_experiment_time_secs,\n",
    "        \"confusion\": confusion,\n",
    "        \"per_domain_accuracy\": per_domain_accuracy,\n",
    "    },\n",
    "    \"history\": history,\n",
    "    \"dataset_metrics\": get_dataset_metrics(datasets, \"ptn\"),\n",
    "}"
   ]
  },
  {
   "cell_type": "code",
   "execution_count": 16,
   "id": "54a21829",
   "metadata": {
    "execution": {
     "iopub.execute_input": "2022-04-01T17:13:51.614229Z",
     "iopub.status.busy": "2022-04-01T17:13:51.613971Z",
     "iopub.status.idle": "2022-04-01T17:13:51.739757Z",
     "shell.execute_reply": "2022-04-01T17:13:51.740170Z"
    },
    "papermill": {
     "duration": 0.155798,
     "end_time": "2022-04-01T17:13:51.740304",
     "exception": false,
     "start_time": "2022-04-01T17:13:51.584506",
     "status": "completed"
    },
    "tags": []
   },
   "outputs": [
    {
     "data": {
      "image/png": "[encoded data removed]",
      "text/plain": [
       "<Figure size 1080x504 with 1 Axes>"
      ]
     },
     "metadata": {
      "needs_background": "light"
     },
     "output_type": "display_data"
    }
   ],
   "source": [
    "ax = get_loss_curve(experiment)\n",
    "plt.show()"
   ]
  },
  {
   "cell_type": "code",
   "execution_count": 17,
   "id": "fd8a0f60",
   "metadata": {
    "execution": {
     "iopub.execute_input": "2022-04-01T17:13:51.802530Z",
     "iopub.status.busy": "2022-04-01T17:13:51.802276Z",
     "iopub.status.idle": "2022-04-01T17:13:51.943694Z",
     "shell.execute_reply": "2022-04-01T17:13:51.943448Z"
    },
    "papermill": {
     "duration": 0.17176,
     "end_time": "2022-04-01T17:13:51.943758",
     "exception": false,
     "start_time": "2022-04-01T17:13:51.771998",
     "status": "completed"
    },
    "tags": []
   },
   "outputs": [
    {
     "data": {
      "text/plain": [
       "<AxesSubplot:title={'center':'Results'}>"
      ]
     },
     "execution_count": 17,
     "metadata": {},
     "output_type": "execute_result"
    },
    {
     "data": {
      "image/png": "[encoded data removed]",
      "text/plain": [
       "<Figure size 1080x504 with 1 Axes>"
      ]
     },
     "metadata": {
      "needs_background": "light"
     },
     "output_type": "display_data"
    }
   ],
   "source": [
    "get_results_table(experiment)"
   ]
  },
  {
   "cell_type": "code",
   "execution_count": 18,
   "id": "cf8dc689",
   "metadata": {
    "execution": {
     "iopub.execute_input": "2022-04-01T17:13:52.006657Z",
     "iopub.status.busy": "2022-04-01T17:13:52.006396Z",
     "iopub.status.idle": "2022-04-01T17:13:52.120427Z",
     "shell.execute_reply": "2022-04-01T17:13:52.120833Z"
    },
    "papermill": {
     "duration": 0.146519,
     "end_time": "2022-04-01T17:13:52.120966",
     "exception": false,
     "start_time": "2022-04-01T17:13:51.974447",
     "status": "completed"
    },
    "tags": []
   },
   "outputs": [
    {
     "data": {
      "text/plain": [
       "<AxesSubplot:title={'center':'Per Domain Validation Accuracy'}, xlabel='domain'>"
      ]
     },
     "execution_count": 18,
     "metadata": {},
     "output_type": "execute_result"
    },
    {
     "data": {
      "image/png": "[encoded data removed]",
      "text/plain": [
       "<Figure size 1080x504 with 1 Axes>"
      ]
     },
     "metadata": {
      "needs_background": "light"
     },
     "output_type": "display_data"
    }
   ],
   "source": [
    "get_domain_accuracies(experiment)"
   ]
  },
  {
   "cell_type": "code",
   "execution_count": 19,
   "id": "a74ae082",
   "metadata": {
    "execution": {
     "iopub.execute_input": "2022-04-01T17:13:52.188502Z",
     "iopub.status.busy": "2022-04-01T17:13:52.188243Z",
     "iopub.status.idle": "2022-04-01T17:13:52.202004Z",
     "shell.execute_reply": "2022-04-01T17:13:52.202385Z"
    },
    "papermill": {
     "duration": 0.047838,
     "end_time": "2022-04-01T17:13:52.202514",
     "exception": false,
     "start_time": "2022-04-01T17:13:52.154676",
     "status": "completed"
    },
    "tags": []
   },
   "outputs": [
    {
     "name": "stdout",
     "output_type": "stream",
     "text": [
      "Source Test Label Accuracy: 0.8268229166666666 Target Test Label Accuracy: 0.6694791666666666\n",
      "Source Val Label Accuracy: 0.8349826388888889 Target Val Label Accuracy: 0.66875\n"
     ]
    }
   ],
   "source": [
    "print(\"Source Test Label Accuracy:\", experiment[\"results\"][\"source_test_label_accuracy\"], \"Target Test Label Accuracy:\", experiment[\"results\"][\"target_test_label_accuracy\"])\n",
    "print(\"Source Val Label Accuracy:\", experiment[\"results\"][\"source_val_label_accuracy\"], \"Target Val Label Accuracy:\", experiment[\"results\"][\"target_val_label_accuracy\"])"
   ]
  },
  {
   "cell_type": "code",
   "execution_count": 20,
   "id": "dacca602",
   "metadata": {
    "execution": {
     "iopub.execute_input": "2022-04-01T17:13:52.271975Z",
     "iopub.status.busy": "2022-04-01T17:13:52.271720Z",
     "iopub.status.idle": "2022-04-01T17:13:52.287510Z",
     "shell.execute_reply": "2022-04-01T17:13:52.287897Z"
    },
    "papermill": {
     "duration": 0.04978,
     "end_time": "2022-04-01T17:13:52.288024",
     "exception": false,
     "start_time": "2022-04-01T17:13:52.238244",
     "status": "completed"
    },
    "tags": [
     "experiment_json"
    ]
   },
   "outputs": [
    {
     "data": {
      "text/plain": [
       "'{\"experiment_name\": \"tuned_1v2:oracle.run2_limited\", \"parameters\": {\"experiment_name\": \"tuned_1v2:oracle.run2_limited\", \"device\": \"cuda\", \"lr\": 0.0001, \"labels_source\": [\"3123D52\", \"3123D65\", \"3123D79\", \"3123D80\", \"3123D54\", \"3123D70\", \"3123D7B\", \"3123D89\", \"3123D58\", \"3123D76\", \"3123D7D\", \"3123EFE\", \"3123D64\", \"3123D78\", \"3123D7E\", \"3124E4A\"], \"labels_target\": [\"3123D52\", \"3123D65\", \"3123D79\", \"3123D80\", \"3123D54\", \"3123D70\", \"3123D7B\", \"3123D89\", \"3123D58\", \"3123D76\", \"3123D7D\", \"3123EFE\", \"3123D64\", \"3123D78\", \"3123D7E\", \"3124E4A\"], \"episode_transforms_source\": [], \"episode_transforms_target\": [], \"domains_source\": [8, 32, 50], \"domains_target\": [14, 20, 26, 38, 44], \"num_examples_per_domain_per_label_source\": 2000, \"num_examples_per_domain_per_label_target\": 2000, \"n_shot\": 3, \"n_way\": 16, \"n_query\": 2, \"train_k_factor\": 3, \"val_k_factor\": 2, \"test_k_factor\": 2, \"torch_default_dtype\": \"torch.float32\", \"n_epoch\": 50, \"patience\": 3, \"criteria_for_best\": \"target_accuracy\", \"x_net\": [{\"class\": \"nnReshape\", \"kargs\": {\"shape\": [-1, 1, 2, 256]}}, {\"class\": \"Conv2d\", \"kargs\": {\"in_channels\": 1, \"out_channels\": 256, \"kernel_size\": [1, 7], \"bias\": false, \"padding\": [0, 3]}}, {\"class\": \"ReLU\", \"kargs\": {\"inplace\": true}}, {\"class\": \"BatchNorm2d\", \"kargs\": {\"num_features\": 256}}, {\"class\": \"Conv2d\", \"kargs\": {\"in_channels\": 256, \"out_channels\": 80, \"kernel_size\": [2, 7], \"bias\": true, \"padding\": [0, 3]}}, {\"class\": \"ReLU\", \"kargs\": {\"inplace\": true}}, {\"class\": \"BatchNorm2d\", \"kargs\": {\"num_features\": 80}}, {\"class\": \"Flatten\", \"kargs\": {}}, {\"class\": \"Linear\", \"kargs\": {\"in_features\": 20480, \"out_features\": 256}}, {\"class\": \"ReLU\", \"kargs\": {\"inplace\": true}}, {\"class\": \"BatchNorm1d\", \"kargs\": {\"num_features\": 256}}, {\"class\": \"Linear\", \"kargs\": {\"in_features\": 256, \"out_features\": 256}}], \"NUM_LOGS_PER_EPOCH\": 10, \"BEST_MODEL_PATH\": \"./best_model.pth\", \"pickle_name\": \"oracle.Run2_10kExamples_stratified_ds.2022A.pkl\", \"x_transforms_source\": [], \"x_transforms_target\": [], \"dataset_seed\": 500, \"seed\": 500}, \"results\": {\"source_test_label_accuracy\": 0.8268229166666666, \"source_test_label_loss\": 0.4874746799468994, \"target_test_label_accuracy\": 0.6694791666666666, \"target_test_label_loss\": 1.0310722589492798, \"source_val_label_accuracy\": 0.8349826388888889, \"source_val_label_loss\": 0.480072021484375, \"target_val_label_accuracy\": 0.66875, \"target_val_label_loss\": 1.0243334770202637, \"total_epochs_trained\": 8, \"total_experiment_time_secs\": 572.9587240219116, \"confusion\": {\"8\": {\"7\": {\"7\": 182, \"4\": 45, \"13\": 4, \"10\": 3, \"8\": 1, \"1\": 4, \"11\": 1}, \"10\": {\"10\": 148, \"1\": 9, \"5\": 50, \"13\": 33}, \"0\": {\"0\": 240}, \"11\": {\"8\": 86, \"11\": 126, \"7\": 8, \"12\": 11, \"6\": 8, \"4\": 1}, \"2\": {\"2\": 235, \"15\": 3, \"12\": 2}, \"14\": {\"14\": 188, \"6\": 41, \"4\": 1, \"1\": 9, \"8\": 1}, \"9\": {\"9\": 240}, \"13\": {\"13\": 204, \"7\": 8, \"10\": 26, \"5\": 2}, \"8\": {\"8\": 167, \"4\": 6, \"11\": 30, \"6\": 36, \"7\": 1}, \"15\": {\"2\": 10, \"15\": 213, \"12\": 15, \"3\": 2}, \"4\": {\"4\": 146, \"7\": 57, \"1\": 23, \"8\": 5, \"6\": 7, \"11\": 2}, \"5\": {\"5\": 141, \"1\": 30, \"10\": 68, \"13\": 1}, \"3\": {\"3\": 240}, \"1\": {\"4\": 20, \"1\": 161, \"10\": 18, \"7\": 4, \"14\": 12, \"13\": 8, \"5\": 17}, \"6\": {\"8\": 26, \"6\": 166, \"14\": 46, \"4\": 2}, \"12\": {\"12\": 226, \"2\": 1, \"15\": 13}}, \"50\": {\"11\": {\"12\": 20, \"11\": 214, \"1\": 6}, \"2\": {\"2\": 228, \"0\": 12}, \"12\": {\"12\": 215, \"11\": 13, \"15\": 7, \"6\": 1, \"9\": 4}, \"8\": {\"8\": 240}, \"4\": {\"4\": 182, \"7\": 16, \"5\": 41, \"15\": 1}, \"10\": {\"10\": 236, \"0\": 3, \"1\": 1}, \"14\": {\"14\": 239, \"2\": 1}, \"13\": {\"13\": 232, \"1\": 5, \"8\": 3}, \"6\": {\"6\": 215, \"15\": 14, \"5\": 8, \"4\": 2, \"12\": 1}, \"9\": {\"9\": 227, \"15\": 10, \"12\": 3}, \"15\": {\"15\": 204, \"12\": 12, \"9\": 3, \"6\": 18, \"4\": 3}, \"1\": {\"1\": 237, \"13\": 2, \"11\": 1}, \"3\": {\"3\": 240}, \"7\": {\"5\": 5, \"7\": 226, \"4\": 9}, \"0\": {\"0\": 210, \"2\": 18, \"10\": 12}, \"5\": {\"4\": 47, \"5\": 169, \"7\": 14, \"6\": 9, \"15\": 1}}, \"32\": {\"4\": {\"4\": 183, \"11\": 53, \"13\": 3, \"0\": 1}, \"14\": {\"2\": 72, \"14\": 155, \"0\": 8, \"7\": 4, \"4\": 1}, \"5\": {\"5\": 188, \"15\": 41, \"2\": 2, \"7\": 8, \"8\": 1}, \"10\": {\"10\": 240}, \"13\": {\"11\": 22, \"13\": 201, \"3\": 17}, \"9\": {\"9\": 238, \"12\": 2}, \"6\": {\"6\": 240}, \"3\": {\"3\": 226, \"13\": 13, \"11\": 1}, \"15\": {\"15\": 224, \"5\": 16}, \"7\": {\"7\": 115, \"2\": 20, \"8\": 55, \"0\": 48, \"14\": 1, \"15\": 1}, \"12\": {\"12\": 239, \"9\": 1}, \"8\": {\"8\": 170, \"0\": 26, \"7\": 43, \"2\": 1}, \"11\": {\"13\": 47, \"4\": 71, \"0\": 8, \"11\": 113, \"8\": 1}, \"2\": {\"2\": 146, \"8\": 2, \"7\": 23, \"0\": 11, \"14\": 58}, \"1\": {\"1\": 240}, \"0\": {\"0\": 164, \"2\": 15, \"4\": 10, \"8\": 21, \"7\": 26, \"14\": 3, \"11\": 1}}, \"20\": {\"7\": {\"7\": 131, \"4\": 20, \"6\": 33, \"3\": 24, \"10\": 22, \"5\": 3, \"2\": 2, \"9\": 3, \"15\": 1, \"12\": 1}, \"10\": {\"6\": 44, \"10\": 152, \"7\": 35, \"4\": 4, \"12\": 4, \"3\": 1}, \"0\": {\"0\": 209, \"1\": 10, \"11\": 19, \"8\": 2}, \"11\": {\"11\": 153, \"0\": 12, \"8\": 66, \"14\": 8, \"1\": 1}, \"2\": {\"3\": 29, \"2\": 55, \"9\": 44, \"5\": 48, \"1\": 10, \"15\": 23, \"4\": 20, \"7\": 7, \"11\": 1, \"14\": 1, \"8\": 1, \"12\": 1}, \"14\": {\"14\": 152, \"8\": 65, \"11\": 18, \"5\": 2, \"7\": 1, \"6\": 1, \"2\": 1}, \"9\": {\"15\": 55, \"2\": 40, \"9\": 47, \"3\": 23, \"13\": 3, \"1\": 14, \"4\": 20, \"5\": 34, \"7\": 3, \"12\": 1}, \"13\": {\"3\": 2, \"13\": 98, \"4\": 5, \"12\": 112, \"10\": 3, \"7\": 2, \"15\": 17, \"9\": 1}, \"8\": {\"14\": 73, \"0\": 6, \"8\": 87, \"11\": 72, \"2\": 1, \"5\": 1}, \"15\": {\"15\": 80, \"4\": 17, \"5\": 18, \"2\": 28, \"1\": 17, \"9\": 46, \"12\": 6, \"13\": 15, \"3\": 9, \"7\": 4}, \"4\": {\"7\": 29, \"3\": 53, \"4\": 58, \"15\": 26, \"5\": 15, \"12\": 5, \"9\": 25, \"2\": 19, \"10\": 3, \"6\": 1, \"13\": 4, \"1\": 2}, \"5\": {\"4\": 13, \"7\": 11, \"5\": 65, \"3\": 31, \"2\": 38, \"14\": 4, \"9\": 25, \"15\": 18, \"1\": 27, \"10\": 1, \"11\": 1, \"0\": 2, \"8\": 4}, \"3\": {\"15\": 12, \"3\": 56, \"2\": 21, \"5\": 27, \"7\": 45, \"9\": 27, \"13\": 4, \"4\": 43, \"1\": 2, \"10\": 2, \"12\": 1}, \"1\": {\"5\": 24, \"15\": 10, \"1\": 171, \"2\": 8, \"0\": 10, \"9\": 15, \"4\": 1, \"3\": 1}, \"6\": {\"7\": 17, \"6\": 188, \"10\": 35}, \"12\": {\"13\": 98, \"7\": 6, \"12\": 118, \"15\": 6, \"10\": 1, \"9\": 1, \"3\": 4, \"4\": 5, \"6\": 1}}, \"14\": {\"14\": {\"14\": 72, \"5\": 67, \"7\": 28, \"2\": 60, \"4\": 4, \"3\": 9}, \"6\": {\"6\": 144, \"13\": 84, \"3\": 9, \"7\": 3}, \"5\": {\"8\": 3, \"5\": 121, \"14\": 65, \"2\": 44, \"4\": 2, \"7\": 2, \"3\": 1, \"10\": 2}, \"15\": {\"15\": 240}, \"11\": {\"11\": 240}, \"8\": {\"8\": 179, \"10\": 55, \"0\": 6}, \"12\": {\"10\": 12, \"15\": 30, \"3\": 12, \"12\": 96, \"9\": 51, \"8\": 26, \"11\": 4, \"0\": 2, \"5\": 1, \"4\": 3, \"1\": 2, \"6\": 1}, \"1\": {\"1\": 240}, \"2\": {\"5\": 56, \"2\": 74, \"7\": 48, \"4\": 10, \"14\": 39, \"3\": 11, \"13\": 1, \"6\": 1}, \"13\": {\"13\": 156, \"6\": 82, \"7\": 2}, \"3\": {\"3\": 225, \"6\": 5, \"2\": 5, \"12\": 1, \"7\": 2, \"14\": 1, \"5\": 1}, \"0\": {\"0\": 193, \"10\": 21, \"4\": 18, \"8\": 6, \"5\": 2}, \"9\": {\"9\": 237, \"12\": 2, \"8\": 1}, \"4\": {\"4\": 234, \"0\": 5, \"5\": 1}, \"7\": {\"7\": 205, \"2\": 25, \"14\": 6, \"6\": 1, \"3\": 1, \"5\": 2}, \"10\": {\"8\": 81, \"10\": 96, \"3\": 15, \"0\": 41, \"14\": 2, \"5\": 3, \"12\": 2}}, \"38\": {\"4\": {\"10\": 44, \"4\": 175, \"3\": 10, \"7\": 5, \"13\": 6}, \"14\": {\"7\": 29, \"4\": 15, \"14\": 103, \"2\": 80, \"8\": 3, \"10\": 3, \"12\": 5, \"5\": 1, \"13\": 1}, \"5\": {\"8\": 68, \"5\": 71, \"12\": 83, \"9\": 15, \"0\": 1, \"15\": 1, \"2\": 1}, \"10\": {\"3\": 32, \"10\": 133, \"4\": 59, \"13\": 16}, \"13\": {\"13\": 135, \"3\": 52, \"10\": 47, \"4\": 6}, \"9\": {\"9\": 218, \"8\": 3, \"5\": 14, \"12\": 5}, \"6\": {\"6\": 234, \"15\": 6}, \"3\": {\"10\": 71, \"3\": 101, \"4\": 19, \"13\": 49}, \"15\": {\"15\": 119, \"1\": 71, \"6\": 49, \"5\": 1}, \"7\": {\"7\": 221, \"0\": 14, \"14\": 3, \"8\": 2}, \"12\": {\"8\": 12, \"5\": 64, \"12\": 162, \"9\": 2}, \"8\": {\"8\": 220, \"5\": 15, \"0\": 1, \"7\": 2, \"2\": 1, \"12\": 1}, \"11\": {\"11\": 240}, \"2\": {\"2\": 203, \"14\": 36, \"12\": 1}, \"1\": {\"1\": 203, \"15\": 37}, \"0\": {\"0\": 215, \"7\": 23, \"8\": 2}}, \"44\": {\"8\": {\"0\": 34, \"5\": 35, \"8\": 171}, \"11\": {\"11\": 240}, \"14\": {\"4\": 35, \"14\": 200, \"5\": 5}, \"10\": {\"10\": 210, \"6\": 12, \"9\": 7, \"7\": 11}, \"3\": {\"12\": 20, \"3\": 220}, \"15\": {\"15\": 198, \"8\": 3, \"5\": 31, \"0\": 7, \"14\": 1}, \"2\": {\"1\": 41, \"2\": 199}, \"12\": {\"12\": 210, \"3\": 30}, \"4\": {\"4\": 207, \"14\": 32, \"5\": 1}, \"1\": {\"1\": 208, \"2\": 32}, \"0\": {\"0\": 181, \"8\": 51, \"15\": 4, \"5\": 4}, \"9\": {\"9\": 156, \"7\": 69, \"6\": 12, \"10\": 1, \"4\": 2}, \"5\": {\"14\": 16, \"15\": 15, \"5\": 171, \"8\": 35, \"0\": 3}, \"6\": {\"6\": 222, \"13\": 7, \"7\": 6, \"10\": 3, \"9\": 2}, \"7\": {\"7\": 162, \"9\": 71, \"6\": 6, \"10\": 1}, \"13\": {\"13\": 219, \"6\": 9, \"4\": 12}}, \"26\": {\"6\": {\"6\": 146, \"5\": 74, \"10\": 2, \"1\": 11, \"14\": 7}, \"11\": {\"11\": 240}, \"5\": {\"1\": 30, \"10\": 23, \"5\": 67, \"6\": 84, \"14\": 30, \"15\": 1, \"0\": 5}, \"14\": {\"14\": 103, \"5\": 25, \"1\": 18, \"6\": 13, \"10\": 42, \"0\": 33, \"15\": 4, \"8\": 1, \"9\": 1}, \"2\": {\"2\": 134, \"9\": 21, \"7\": 23, \"8\": 43, \"15\": 13, \"13\": 2, \"0\": 1, \"3\": 1, \"10\": 2}, \"7\": {\"7\": 124, \"2\": 20, \"3\": 57, \"9\": 16, \"13\": 16, \"8\": 7}, \"3\": {\"3\": 195, \"7\": 37, \"13\": 1, \"2\": 6, \"4\": 1}, \"4\": {\"4\": 239, \"3\": 1}, \"9\": {\"9\": 105, \"8\": 56, \"10\": 5, \"13\": 34, \"2\": 21, \"7\": 17, \"0\": 2}, \"12\": {\"12\": 240}, \"0\": {\"15\": 54, \"0\": 100, \"10\": 36, \"14\": 34, \"8\": 4, \"9\": 2, \"2\": 6, \"5\": 2, \"7\": 1, \"1\": 1}, \"10\": {\"0\": 39, \"6\": 12, \"10\": 55, \"14\": 48, \"9\": 11, \"8\": 23, \"1\": 10, \"2\": 3, \"5\": 13, \"15\": 26}, \"8\": {\"8\": 86, \"2\": 65, \"10\": 11, \"9\": 51, \"7\": 6, \"15\": 14, \"0\": 5, \"14\": 1, \"13\": 1}, \"13\": {\"13\": 194, \"9\": 26, \"7\": 14, \"8\": 3, \"3\": 1, \"2\": 2}, \"1\": {\"1\": 187, \"5\": 35, \"6\": 10, \"14\": 8}, \"15\": {\"15\": 126, \"0\": 59, \"8\": 6, \"10\": 12, \"2\": 27, \"14\": 6, \"7\": 1, \"5\": 1, \"9\": 2}}}, \"per_domain_accuracy\": {\"8\": {\"accuracy\": 0.7872395833333333, \"source?\": true}, \"50\": {\"accuracy\": 0.9151041666666667, \"source?\": true}, \"32\": {\"accuracy\": 0.8026041666666667, \"source?\": true}, \"20\": {\"accuracy\": 0.4739583333333333, \"source?\": false}, \"14\": {\"accuracy\": 0.7166666666666667, \"source?\": false}, \"38\": {\"accuracy\": 0.7169270833333333, \"source?\": false}, \"44\": {\"accuracy\": 0.8265625, \"source?\": false}, \"26\": {\"accuracy\": 0.6096354166666667, \"source?\": false}}}, \"history\": {\"epoch_indices\": [1, 2, 3, 4, 5, 6, 7, 8], \"train_label_loss\": [1.116382520350199, 0.5920769302617936, 0.38778122473537685, 0.30657524843256745, 0.24177763885910816, 0.1917220538921861, 0.1555407478414025, 0.1256139475144289], \"source_val_label_loss\": [2.368927240371704, 0.5294157266616821, 0.48630762100219727, 0.480072021484375, 0.5255814790725708, 0.5745741724967957, 0.5575997233390808, 0.6158961653709412], \"target_val_label_loss\": [2.7962515354156494, 1.0010290145874023, 1.0110080242156982, 1.0243334770202637, 1.0782685279846191, 1.195888638496399, 1.1634124517440796, 1.2867039442062378], \"source_val_acc_label\": [0.6526909722222223, 0.8000868055555556, 0.8196180555555556, 0.8349826388888889, 0.8163194444444445, 0.8235243055555556, 0.8206597222222223, 0.8223090277777778], \"target_val_acc_label\": [0.4828645833333333, 0.6482291666666666, 0.663125, 0.66875, 0.66125, 0.66, 0.6575520833333334, 0.6588541666666666]}, \"dataset_metrics\": {\"source\": {\"train\": {\"n_unique_x\": 67200, \"n_unique_y\": 16, \"n_batch/episode\": 2520}, \"val\": {\"n_unique_x\": 14400, \"n_unique_y\": 16, \"n_batch/episode\": 360}, \"test\": {\"n_unique_x\": 14400, \"n_unique_y\": 16, \"n_batch/episode\": 360}}, \"target\": {\"train\": {\"n_unique_x\": 112000, \"n_unique_y\": 16, \"n_batch/episode\": 4200}, \"val\": {\"n_unique_x\": 24000, \"n_unique_y\": 16, \"n_batch/episode\": 600}, \"test\": {\"n_unique_x\": 24000, \"n_unique_y\": 16, \"n_batch/episode\": 600}}}}'"
      ]
     },
     "execution_count": 20,
     "metadata": {},
     "output_type": "execute_result"
    }
   ],
   "source": [
    "json.dumps(experiment)"
   ]
  }
 ],
 "metadata": {
  "celltoolbar": "Tags",
  "kernelspec": {
   "display_name": "Python 3 (ipykernel)",
   "language": "python",
   "name": "python3"
  },
  "language_info": {
   "codemirror_mode": {
    "name": "ipython",
    "version": 3
   },
   "file_extension": ".py",
   "mimetype": "text/x-python",
   "name": "python",
   "nbconvert_exporter": "python",
   "pygments_lexer": "ipython3",
   "version": "3.8.10"
  },
  "papermill": {
   "default_parameters": {},
   "duration": 625.333791,
   "end_time": "2022-04-01T17:13:53.031418",
   "environment_variables": {},
   "exception": null,
   "input_path": "/mnt/wd500GB/CSC500/csc500-main/csc500-notebooks/templates/ptn_template.ipynb",
   "output_path": "trial.ipynb",
   "parameters": {
    "parameters": {
     "BEST_MODEL_PATH": "./best_model.pth",
     "NUM_LOGS_PER_EPOCH": 10,
     "criteria_for_best": "target_accuracy",
     "dataset_seed": 500,
     "device": "cuda",
     "domains_source": [
      8,
      32,
      50
     ],
     "domains_target": [
      14,
      20,
      26,
      38,
      44
     ],
     "episode_transforms_source": [],
     "episode_transforms_target": [],
     "experiment_name": "tuned_1v2:oracle.run2_limited",
     "labels_source": [
      "3123D52",
      "3123D65",
      "3123D79",
      "3123D80",
      "3123D54",
      "3123D70",
      "3123D7B",
      "3123D89",
      "3123D58",
      "3123D76",
      "3123D7D",
      "3123EFE",
      "3123D64",
      "3123D78",
      "3123D7E",
      "3124E4A"
     ],
     "labels_target": [
      "3123D52",
      "3123D65",
      "3123D79",
      "3123D80",
      "3123D54",
      "3123D70",
      "3123D7B",
      "3123D89",
      "3123D58",
      "3123D76",
      "3123D7D",
      "3123EFE",
      "3123D64",
      "3123D78",
      "3123D7E",
      "3124E4A"
     ],
     "lr": 0.0001,
     "n_epoch": 50,
     "n_query": 2,
     "n_shot": 3,
     "n_way": 16,
     "num_examples_per_domain_per_label_source": 2000,
     "num_examples_per_domain_per_label_target": 2000,
     "patience": 3,
     "pickle_name": "oracle.Run2_10kExamples_stratified_ds.2022A.pkl",
     "seed": 500,
     "test_k_factor": 2,
     "torch_default_dtype": "torch.float32",
     "train_k_factor": 3,
     "val_k_factor": 2,
     "x_net": [
      {
       "class": "nnReshape",
       "kargs": {
        "shape": [
         -1,
         1,
         2,
         256
        ]
       }
      },
      {
       "class": "Conv2d",
       "kargs": {
        "bias": false,
        "in_channels": 1,
        "kernel_size": [
         1,
         7
        ],
        "out_channels": 256,
        "padding": [
         0,
         3
        ]
       }
      },
      {
       "class": "ReLU",
       "kargs": {
        "inplace": true
       }
      },
      {
       "class": "BatchNorm2d",
       "kargs": {
        "num_features": 256
       }
      },
      {
       "class": "Conv2d",
       "kargs": {
        "bias": true,
        "in_channels": 256,
        "kernel_size": [
         2,
         7
        ],
        "out_channels": 80,
        "padding": [
         0,
         3
        ]
       }
      },
      {
       "class": "ReLU",
       "kargs": {
        "inplace": true
       }
      },
      {
       "class": "BatchNorm2d",
       "kargs": {
        "num_features": 80
       }
      },
      {
       "class": "Flatten",
       "kargs": {}
      },
      {
       "class": "Linear",
       "kargs": {
        "in_features": 20480,
        "out_features": 256
       }
      },
      {
       "class": "ReLU",
       "kargs": {
        "inplace": true
       }
      },
      {
       "class": "BatchNorm1d",
       "kargs": {
        "num_features": 256
       }
      },
      {
       "class": "Linear",
       "kargs": {
        "in_features": 256,
        "out_features": 256
       }
      }
     ],
     "x_transforms_source": [],
     "x_transforms_target": []
    }
   },
   "start_time": "2022-04-01T17:03:27.697627",
   "version": "2.3.4"
  }
 },
 "nbformat": 4,
 "nbformat_minor": 5
}