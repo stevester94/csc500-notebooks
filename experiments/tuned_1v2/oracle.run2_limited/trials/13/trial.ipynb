{
 "cells": [
  {
   "cell_type": "markdown",
   "id": "9fea5f46",
   "metadata": {
    "papermill": {
     "duration": 0.01296,
     "end_time": "2022-04-01T18:52:59.172524",
     "exception": false,
     "start_time": "2022-04-01T18:52:59.159564",
     "status": "completed"
    },
    "tags": []
   },
   "source": [
    "# PTN Template\n",
    "This notebook serves as a template for single dataset PTN experiments  \n",
    "It can be run on its own by setting STANDALONE to True (do a find for \"STANDALONE\" to see where)  \n",
    "But it is intended to be executed as part of a *papermill.py script. See any of the   \n",
    "experimentes with a papermill script to get started with that workflow.  "
   ]
  },
  {
   "cell_type": "code",
   "execution_count": 1,
   "id": "0902182a",
   "metadata": {
    "execution": {
     "iopub.execute_input": "2022-04-01T18:52:59.205639Z",
     "iopub.status.busy": "2022-04-01T18:52:59.203105Z",
     "iopub.status.idle": "2022-04-01T18:53:00.131179Z",
     "shell.execute_reply": "2022-04-01T18:53:00.130680Z"
    },
    "papermill": {
     "duration": 0.949573,
     "end_time": "2022-04-01T18:53:00.131295",
     "exception": false,
     "start_time": "2022-04-01T18:52:59.181722",
     "status": "completed"
    },
    "tags": []
   },
   "outputs": [],
   "source": [
    "%load_ext autoreload\n",
    "%autoreload 2\n",
    "%matplotlib inline\n",
    "\n",
    "    \n",
    "import os, json, sys, time, random\n",
    "import numpy as np\n",
    "import torch\n",
    "from torch.optim import Adam\n",
    "from  easydict import EasyDict\n",
    "import matplotlib.pyplot as plt\n",
    "\n",
    "from steves_models.steves_ptn import Steves_Prototypical_Network\n",
    "\n",
    "from steves_utils.lazy_iterable_wrapper import Lazy_Iterable_Wrapper\n",
    "from steves_utils.iterable_aggregator import Iterable_Aggregator\n",
    "from steves_utils.ptn_train_eval_test_jig import  PTN_Train_Eval_Test_Jig\n",
    "from steves_utils.torch_sequential_builder import build_sequential\n",
    "from steves_utils.torch_utils import get_dataset_metrics, ptn_confusion_by_domain_over_dataloader\n",
    "from steves_utils.utils_v2 import (per_domain_accuracy_from_confusion, get_datasets_base_path)\n",
    "from steves_utils.PTN.utils import independent_accuracy_assesment\n",
    "\n",
    "from steves_utils.stratified_dataset.episodic_accessor import Episodic_Accessor_Factory\n",
    "\n",
    "from steves_utils.ptn_do_report import (\n",
    "    get_loss_curve,\n",
    "    get_results_table,\n",
    "    get_parameters_table,\n",
    "    get_domain_accuracies,\n",
    ")\n",
    "\n",
    "from steves_utils.transforms import get_chained_transform"
   ]
  },
  {
   "cell_type": "markdown",
   "id": "41c840b4",
   "metadata": {
    "papermill": {
     "duration": 0.009151,
     "end_time": "2022-04-01T18:53:00.153771",
     "exception": false,
     "start_time": "2022-04-01T18:53:00.144620",
     "status": "completed"
    },
    "tags": []
   },
   "source": [
    "# Required Parameters\n",
    "These are allowed parameters, not defaults\n",
    "Each of these values need to be present in the injected parameters (the notebook will raise an exception if they are not present)\n",
    "\n",
    "Papermill uses the cell tag \"parameters\" to inject the real parameters below this cell.\n",
    "Enable tags to see what I mean"
   ]
  },
  {
   "cell_type": "code",
   "execution_count": 2,
   "id": "fd44eb83",
   "metadata": {
    "execution": {
     "iopub.execute_input": "2022-04-01T18:53:00.175679Z",
     "iopub.status.busy": "2022-04-01T18:53:00.175421Z",
     "iopub.status.idle": "2022-04-01T18:53:00.190035Z",
     "shell.execute_reply": "2022-04-01T18:53:00.189624Z"
    },
    "papermill": {
     "duration": 0.027147,
     "end_time": "2022-04-01T18:53:00.190124",
     "exception": false,
     "start_time": "2022-04-01T18:53:00.162977",
     "status": "completed"
    },
    "tags": []
   },
   "outputs": [],
   "source": [
    "required_parameters = {\n",
    "    \"experiment_name\",\n",
    "    \"lr\",\n",
    "    \"device\",\n",
    "    \"seed\",\n",
    "    \"dataset_seed\",\n",
    "    \"labels_source\",\n",
    "    \"labels_target\",\n",
    "    \"domains_source\",\n",
    "    \"domains_target\",\n",
    "    \"num_examples_per_domain_per_label_source\",\n",
    "    \"num_examples_per_domain_per_label_target\",\n",
    "    \"n_shot\",\n",
    "    \"n_way\",\n",
    "    \"n_query\",\n",
    "    \"train_k_factor\",\n",
    "    \"val_k_factor\",\n",
    "    \"test_k_factor\",\n",
    "    \"n_epoch\",\n",
    "    \"patience\",\n",
    "    \"criteria_for_best\",\n",
    "    \"x_transforms_source\",\n",
    "    \"x_transforms_target\",\n",
    "    \"episode_transforms_source\",\n",
    "    \"episode_transforms_target\",\n",
    "    \"pickle_name\",\n",
    "    \"x_net\",\n",
    "    \"NUM_LOGS_PER_EPOCH\",\n",
    "    \"BEST_MODEL_PATH\",\n",
    "    \"torch_default_dtype\"\n",
    "}"
   ]
  },
  {
   "cell_type": "code",
   "execution_count": 3,
   "id": "fa3f0049",
   "metadata": {
    "execution": {
     "iopub.execute_input": "2022-04-01T18:53:00.222014Z",
     "iopub.status.busy": "2022-04-01T18:53:00.221605Z",
     "iopub.status.idle": "2022-04-01T18:53:00.233564Z",
     "shell.execute_reply": "2022-04-01T18:53:00.233837Z"
    },
    "papermill": {
     "duration": 0.030175,
     "end_time": "2022-04-01T18:53:00.233920",
     "exception": false,
     "start_time": "2022-04-01T18:53:00.203745",
     "status": "completed"
    },
    "tags": [
     "parameters"
    ]
   },
   "outputs": [],
   "source": [
    "\n",
    "\n",
    "standalone_parameters = {}\n",
    "standalone_parameters[\"experiment_name\"] = \"STANDALONE PTN\"\n",
    "standalone_parameters[\"lr\"] = 0.0001\n",
    "standalone_parameters[\"device\"] = \"cuda\"\n",
    "\n",
    "standalone_parameters[\"seed\"] = 1337\n",
    "standalone_parameters[\"dataset_seed\"] = 1337\n",
    "\n",
    "\n",
    "standalone_parameters[\"num_examples_per_domain_per_label_source\"]=100\n",
    "standalone_parameters[\"num_examples_per_domain_per_label_target\"]=100\n",
    "\n",
    "standalone_parameters[\"n_shot\"] = 3\n",
    "standalone_parameters[\"n_query\"]  = 2\n",
    "standalone_parameters[\"train_k_factor\"] = 1\n",
    "standalone_parameters[\"val_k_factor\"] = 2\n",
    "standalone_parameters[\"test_k_factor\"] = 2\n",
    "\n",
    "\n",
    "standalone_parameters[\"n_epoch\"] = 100\n",
    "\n",
    "standalone_parameters[\"patience\"] = 10\n",
    "standalone_parameters[\"criteria_for_best\"] = \"target_accuracy\"\n",
    "\n",
    "standalone_parameters[\"x_transforms_source\"] = [\"unit_power\"]\n",
    "standalone_parameters[\"x_transforms_target\"] = [\"unit_power\"]\n",
    "standalone_parameters[\"episode_transforms_source\"] = []\n",
    "standalone_parameters[\"episode_transforms_target\"] = []\n",
    "\n",
    "standalone_parameters[\"torch_default_dtype\"] = \"torch.float32\" \n",
    "\n",
    "\n",
    "\n",
    "standalone_parameters[\"x_net\"] =     [\n",
    "    {\"class\": \"nnReshape\", \"kargs\": {\"shape\":[-1, 1, 2, 256]}},\n",
    "    {\"class\": \"Conv2d\", \"kargs\": { \"in_channels\":1, \"out_channels\":256, \"kernel_size\":(1,7), \"bias\":False, \"padding\":(0,3), },},\n",
    "    {\"class\": \"ReLU\", \"kargs\": {\"inplace\": True}},\n",
    "    {\"class\": \"BatchNorm2d\", \"kargs\": {\"num_features\":256}},\n",
    "\n",
    "    {\"class\": \"Conv2d\", \"kargs\": { \"in_channels\":256, \"out_channels\":80, \"kernel_size\":(2,7), \"bias\":True, \"padding\":(0,3), },},\n",
    "    {\"class\": \"ReLU\", \"kargs\": {\"inplace\": True}},\n",
    "    {\"class\": \"BatchNorm2d\", \"kargs\": {\"num_features\":80}},\n",
    "    {\"class\": \"Flatten\", \"kargs\": {}},\n",
    "\n",
    "    {\"class\": \"Linear\", \"kargs\": {\"in_features\": 80*256, \"out_features\": 256}}, # 80 units per IQ pair\n",
    "    {\"class\": \"ReLU\", \"kargs\": {\"inplace\": True}},\n",
    "    {\"class\": \"BatchNorm1d\", \"kargs\": {\"num_features\":256}},\n",
    "\n",
    "    {\"class\": \"Linear\", \"kargs\": {\"in_features\": 256, \"out_features\": 256}},\n",
    "]\n",
    "\n",
    "# Parameters relevant to results\n",
    "# These parameters will basically never need to change\n",
    "standalone_parameters[\"NUM_LOGS_PER_EPOCH\"] = 10\n",
    "standalone_parameters[\"BEST_MODEL_PATH\"] = \"./best_model.pth\"\n",
    "\n",
    "# uncomment for CORES dataset\n",
    "from steves_utils.CORES.utils import (\n",
    "    ALL_NODES,\n",
    "    ALL_NODES_MINIMUM_1000_EXAMPLES,\n",
    "    ALL_DAYS\n",
    ")\n",
    "\n",
    "\n",
    "standalone_parameters[\"labels_source\"] = ALL_NODES\n",
    "standalone_parameters[\"labels_target\"] = ALL_NODES\n",
    "\n",
    "standalone_parameters[\"domains_source\"] = [1]\n",
    "standalone_parameters[\"domains_target\"] = [2,3,4,5]\n",
    "\n",
    "standalone_parameters[\"pickle_name\"] = \"cores.stratified_ds.2022A.pkl\"\n",
    "\n",
    "\n",
    "# Uncomment these for ORACLE dataset\n",
    "# from steves_utils.ORACLE.utils_v2 import (\n",
    "#     ALL_DISTANCES_FEET,\n",
    "#     ALL_RUNS,\n",
    "#     ALL_SERIAL_NUMBERS,\n",
    "# )\n",
    "# standalone_parameters[\"labels_source\"] = ALL_SERIAL_NUMBERS\n",
    "# standalone_parameters[\"labels_target\"] = ALL_SERIAL_NUMBERS\n",
    "# standalone_parameters[\"domains_source\"] = [8,20, 38,50]\n",
    "# standalone_parameters[\"domains_target\"] = [14, 26, 32, 44, 56]\n",
    "# standalone_parameters[\"pickle_name\"] = \"oracle.frame_indexed.stratified_ds.2022A.pkl\"\n",
    "# standalone_parameters[\"num_examples_per_domain_per_label_source\"]=1000\n",
    "# standalone_parameters[\"num_examples_per_domain_per_label_target\"]=1000\n",
    "\n",
    "# Uncomment these for Metahan dataset\n",
    "# standalone_parameters[\"labels_source\"] = list(range(19))\n",
    "# standalone_parameters[\"labels_target\"] = list(range(19))\n",
    "# standalone_parameters[\"domains_source\"] = [0]\n",
    "# standalone_parameters[\"domains_target\"] = [1]\n",
    "# standalone_parameters[\"pickle_name\"] = \"metehan.stratified_ds.2022A.pkl\"\n",
    "# standalone_parameters[\"n_way\"]  = len(standalone_parameters[\"labels_source\"])\n",
    "# standalone_parameters[\"num_examples_per_domain_per_label_source\"]=200\n",
    "# standalone_parameters[\"num_examples_per_domain_per_label_target\"]=100\n",
    "\n",
    "\n",
    "standalone_parameters[\"n_way\"]  = len(standalone_parameters[\"labels_source\"])"
   ]
  },
  {
   "cell_type": "code",
   "execution_count": 4,
   "id": "c2323a1b",
   "metadata": {
    "execution": {
     "iopub.execute_input": "2022-04-01T18:53:00.265671Z",
     "iopub.status.busy": "2022-04-01T18:53:00.265267Z",
     "iopub.status.idle": "2022-04-01T18:53:00.280071Z",
     "shell.execute_reply": "2022-04-01T18:53:00.279722Z"
    },
    "papermill": {
     "duration": 0.032534,
     "end_time": "2022-04-01T18:53:00.280140",
     "exception": false,
     "start_time": "2022-04-01T18:53:00.247606",
     "status": "completed"
    },
    "tags": [
     "injected-parameters"
    ]
   },
   "outputs": [],
   "source": [
    "# Parameters\n",
    "parameters = {\n",
    "    \"experiment_name\": \"tuned_1v2:oracle.run2_limited\",\n",
    "    \"device\": \"cuda\",\n",
    "    \"lr\": 0.0001,\n",
    "    \"labels_source\": [\n",
    "        \"3123D52\",\n",
    "        \"3123D65\",\n",
    "        \"3123D79\",\n",
    "        \"3123D80\",\n",
    "        \"3123D54\",\n",
    "        \"3123D70\",\n",
    "        \"3123D7B\",\n",
    "        \"3123D89\",\n",
    "        \"3123D58\",\n",
    "        \"3123D76\",\n",
    "        \"3123D7D\",\n",
    "        \"3123EFE\",\n",
    "        \"3123D64\",\n",
    "        \"3123D78\",\n",
    "        \"3123D7E\",\n",
    "        \"3124E4A\",\n",
    "    ],\n",
    "    \"labels_target\": [\n",
    "        \"3123D52\",\n",
    "        \"3123D65\",\n",
    "        \"3123D79\",\n",
    "        \"3123D80\",\n",
    "        \"3123D54\",\n",
    "        \"3123D70\",\n",
    "        \"3123D7B\",\n",
    "        \"3123D89\",\n",
    "        \"3123D58\",\n",
    "        \"3123D76\",\n",
    "        \"3123D7D\",\n",
    "        \"3123EFE\",\n",
    "        \"3123D64\",\n",
    "        \"3123D78\",\n",
    "        \"3123D7E\",\n",
    "        \"3124E4A\",\n",
    "    ],\n",
    "    \"episode_transforms_source\": [],\n",
    "    \"episode_transforms_target\": [],\n",
    "    \"domains_source\": [8, 32, 50],\n",
    "    \"domains_target\": [14, 20, 26, 38, 44],\n",
    "    \"num_examples_per_domain_per_label_source\": 2000,\n",
    "    \"num_examples_per_domain_per_label_target\": 2000,\n",
    "    \"n_shot\": 3,\n",
    "    \"n_way\": 16,\n",
    "    \"n_query\": 2,\n",
    "    \"train_k_factor\": 3,\n",
    "    \"val_k_factor\": 2,\n",
    "    \"test_k_factor\": 2,\n",
    "    \"torch_default_dtype\": \"torch.float32\",\n",
    "    \"n_epoch\": 50,\n",
    "    \"patience\": 3,\n",
    "    \"criteria_for_best\": \"target_accuracy\",\n",
    "    \"x_net\": [\n",
    "        {\"class\": \"nnReshape\", \"kargs\": {\"shape\": [-1, 1, 2, 256]}},\n",
    "        {\n",
    "            \"class\": \"Conv2d\",\n",
    "            \"kargs\": {\n",
    "                \"in_channels\": 1,\n",
    "                \"out_channels\": 256,\n",
    "                \"kernel_size\": [1, 7],\n",
    "                \"bias\": False,\n",
    "                \"padding\": [0, 3],\n",
    "            },\n",
    "        },\n",
    "        {\"class\": \"ReLU\", \"kargs\": {\"inplace\": True}},\n",
    "        {\"class\": \"BatchNorm2d\", \"kargs\": {\"num_features\": 256}},\n",
    "        {\n",
    "            \"class\": \"Conv2d\",\n",
    "            \"kargs\": {\n",
    "                \"in_channels\": 256,\n",
    "                \"out_channels\": 80,\n",
    "                \"kernel_size\": [2, 7],\n",
    "                \"bias\": True,\n",
    "                \"padding\": [0, 3],\n",
    "            },\n",
    "        },\n",
    "        {\"class\": \"ReLU\", \"kargs\": {\"inplace\": True}},\n",
    "        {\"class\": \"BatchNorm2d\", \"kargs\": {\"num_features\": 80}},\n",
    "        {\"class\": \"Flatten\", \"kargs\": {}},\n",
    "        {\"class\": \"Linear\", \"kargs\": {\"in_features\": 20480, \"out_features\": 256}},\n",
    "        {\"class\": \"ReLU\", \"kargs\": {\"inplace\": True}},\n",
    "        {\"class\": \"BatchNorm1d\", \"kargs\": {\"num_features\": 256}},\n",
    "        {\"class\": \"Linear\", \"kargs\": {\"in_features\": 256, \"out_features\": 256}},\n",
    "    ],\n",
    "    \"NUM_LOGS_PER_EPOCH\": 10,\n",
    "    \"BEST_MODEL_PATH\": \"./best_model.pth\",\n",
    "    \"pickle_name\": \"oracle.Run2_10kExamples_stratified_ds.2022A.pkl\",\n",
    "    \"x_transforms_source\": [\"unit_power\"],\n",
    "    \"x_transforms_target\": [\"unit_power\"],\n",
    "    \"dataset_seed\": 154325,\n",
    "    \"seed\": 154325,\n",
    "}\n"
   ]
  },
  {
   "cell_type": "code",
   "execution_count": 5,
   "id": "8fa1cc33",
   "metadata": {
    "execution": {
     "iopub.execute_input": "2022-04-01T18:53:00.307710Z",
     "iopub.status.busy": "2022-04-01T18:53:00.307454Z",
     "iopub.status.idle": "2022-04-01T18:53:00.320047Z",
     "shell.execute_reply": "2022-04-01T18:53:00.319698Z"
    },
    "papermill": {
     "duration": 0.025394,
     "end_time": "2022-04-01T18:53:00.320117",
     "exception": false,
     "start_time": "2022-04-01T18:53:00.294723",
     "status": "completed"
    },
    "tags": []
   },
   "outputs": [],
   "source": [
    "# Set this to True if you want to run this template directly\n",
    "STANDALONE = False\n",
    "if STANDALONE:\n",
    "    print(\"parameters not injected, running with standalone_parameters\")\n",
    "    parameters = standalone_parameters\n",
    "\n",
    "if not 'parameters' in locals() and not 'parameters' in globals():\n",
    "    raise Exception(\"Parameter injection failed\")\n",
    "\n",
    "#Use an easy dict for all the parameters\n",
    "p = EasyDict(parameters)\n",
    "\n",
    "supplied_keys = set(p.keys())\n",
    "\n",
    "if  supplied_keys != required_parameters:\n",
    "    print(\"Parameters are incorrect\")\n",
    "    if len(supplied_keys - required_parameters)>0: print(\"Shouldn't have:\", str(supplied_keys - required_parameters))\n",
    "    if len(required_parameters - supplied_keys)>0: print(\"Need to have:\", str(required_parameters - supplied_keys))\n",
    "    raise RuntimeError(\"Parameters are incorrect\")\n",
    "\n"
   ]
  },
  {
   "cell_type": "code",
   "execution_count": 6,
   "id": "3a028d58",
   "metadata": {
    "execution": {
     "iopub.execute_input": "2022-04-01T18:53:00.346702Z",
     "iopub.status.busy": "2022-04-01T18:53:00.346454Z",
     "iopub.status.idle": "2022-04-01T18:53:00.360582Z",
     "shell.execute_reply": "2022-04-01T18:53:00.360233Z"
    },
    "papermill": {
     "duration": 0.025935,
     "end_time": "2022-04-01T18:53:00.360677",
     "exception": false,
     "start_time": "2022-04-01T18:53:00.334742",
     "status": "completed"
    },
    "tags": []
   },
   "outputs": [],
   "source": [
    "###################################\n",
    "# Set the RNGs and make it all deterministic\n",
    "###################################\n",
    "np.random.seed(p.seed)\n",
    "random.seed(p.seed)\n",
    "torch.manual_seed(p.seed)\n",
    "\n",
    "torch.use_deterministic_algorithms(True) "
   ]
  },
  {
   "cell_type": "code",
   "execution_count": 7,
   "id": "b691acf6",
   "metadata": {
    "execution": {
     "iopub.execute_input": "2022-04-01T18:53:00.386878Z",
     "iopub.status.busy": "2022-04-01T18:53:00.386626Z",
     "iopub.status.idle": "2022-04-01T18:53:00.400077Z",
     "shell.execute_reply": "2022-04-01T18:53:00.399723Z"
    },
    "papermill": {
     "duration": 0.024828,
     "end_time": "2022-04-01T18:53:00.400147",
     "exception": false,
     "start_time": "2022-04-01T18:53:00.375319",
     "status": "completed"
    },
    "tags": []
   },
   "outputs": [],
   "source": [
    "###########################################\n",
    "# The stratified datasets honor this\n",
    "###########################################\n",
    "torch.set_default_dtype(eval(p.torch_default_dtype))"
   ]
  },
  {
   "cell_type": "code",
   "execution_count": 8,
   "id": "b5fba671",
   "metadata": {
    "execution": {
     "iopub.execute_input": "2022-04-01T18:53:00.425755Z",
     "iopub.status.busy": "2022-04-01T18:53:00.425493Z",
     "iopub.status.idle": "2022-04-01T18:53:00.461460Z",
     "shell.execute_reply": "2022-04-01T18:53:00.461017Z"
    },
    "papermill": {
     "duration": 0.047472,
     "end_time": "2022-04-01T18:53:00.461548",
     "exception": false,
     "start_time": "2022-04-01T18:53:00.414076",
     "status": "completed"
    },
    "tags": []
   },
   "outputs": [],
   "source": [
    "###################################\n",
    "# Build the network(s)\n",
    "# Note: It's critical to do this AFTER setting the RNG\n",
    "# (This is due to the randomized initial weights)\n",
    "###################################\n",
    "x_net = build_sequential(p.x_net)"
   ]
  },
  {
   "cell_type": "code",
   "execution_count": 9,
   "id": "5d7e61cc",
   "metadata": {
    "execution": {
     "iopub.execute_input": "2022-04-01T18:53:00.487932Z",
     "iopub.status.busy": "2022-04-01T18:53:00.487685Z",
     "iopub.status.idle": "2022-04-01T18:53:00.501103Z",
     "shell.execute_reply": "2022-04-01T18:53:00.500710Z"
    },
    "papermill": {
     "duration": 0.025225,
     "end_time": "2022-04-01T18:53:00.501192",
     "exception": false,
     "start_time": "2022-04-01T18:53:00.475967",
     "status": "completed"
    },
    "tags": []
   },
   "outputs": [],
   "source": [
    "start_time_secs = time.time()"
   ]
  },
  {
   "cell_type": "code",
   "execution_count": 10,
   "id": "fd5442bc",
   "metadata": {
    "execution": {
     "iopub.execute_input": "2022-04-01T18:53:00.533077Z",
     "iopub.status.busy": "2022-04-01T18:53:00.532697Z",
     "iopub.status.idle": "2022-04-01T18:53:19.245448Z",
     "shell.execute_reply": "2022-04-01T18:53:19.245005Z"
    },
    "papermill": {
     "duration": 18.729801,
     "end_time": "2022-04-01T18:53:19.245550",
     "exception": false,
     "start_time": "2022-04-01T18:53:00.515749",
     "status": "completed"
    },
    "tags": []
   },
   "outputs": [],
   "source": [
    "###################################\n",
    "# Build the dataset\n",
    "###################################\n",
    "\n",
    "if p.x_transforms_source == []: x_transform_source = None\n",
    "else: x_transform_source = get_chained_transform(p.x_transforms_source) \n",
    "\n",
    "if p.x_transforms_target == []: x_transform_target = None\n",
    "else: x_transform_target = get_chained_transform(p.x_transforms_target)\n",
    "\n",
    "if p.episode_transforms_source == []: episode_transform_source = None\n",
    "else: raise Exception(\"episode_transform_source not implemented\")\n",
    "\n",
    "if p.episode_transforms_target == []: episode_transform_target = None\n",
    "else: raise Exception(\"episode_transform_target not implemented\")\n",
    "\n",
    "\n",
    "eaf_source = Episodic_Accessor_Factory(\n",
    "    labels=p.labels_source,\n",
    "    domains=p.domains_source,\n",
    "    num_examples_per_domain_per_label=p.num_examples_per_domain_per_label_source,\n",
    "    iterator_seed=p.seed,\n",
    "    dataset_seed=p.dataset_seed,\n",
    "    n_shot=p.n_shot,\n",
    "    n_way=p.n_way,\n",
    "    n_query=p.n_query,\n",
    "    train_val_test_k_factors=(p.train_k_factor,p.val_k_factor,p.test_k_factor),\n",
    "    pickle_path=os.path.join(get_datasets_base_path(), p.pickle_name),\n",
    "    x_transform_func=x_transform_source,\n",
    "    example_transform_func=episode_transform_source,\n",
    "    \n",
    ")\n",
    "train_original_source, val_original_source, test_original_source = eaf_source.get_train(), eaf_source.get_val(), eaf_source.get_test()\n",
    "\n",
    "\n",
    "eaf_target = Episodic_Accessor_Factory(\n",
    "    labels=p.labels_target,\n",
    "    domains=p.domains_target,\n",
    "    num_examples_per_domain_per_label=p.num_examples_per_domain_per_label_target,\n",
    "    iterator_seed=p.seed,\n",
    "    dataset_seed=p.dataset_seed,\n",
    "    n_shot=p.n_shot,\n",
    "    n_way=p.n_way,\n",
    "    n_query=p.n_query,\n",
    "    train_val_test_k_factors=(p.train_k_factor,p.val_k_factor,p.test_k_factor),\n",
    "    pickle_path=os.path.join(get_datasets_base_path(), p.pickle_name),\n",
    "    x_transform_func=x_transform_target,\n",
    "    example_transform_func=episode_transform_target,\n",
    ")\n",
    "train_original_target, val_original_target, test_original_target = eaf_target.get_train(), eaf_target.get_val(), eaf_target.get_test()\n",
    "\n",
    "\n",
    "transform_lambda = lambda ex: ex[1] # Original is (<domain>, <episode>) so we strip down to episode only\n",
    "\n",
    "train_processed_source = Lazy_Iterable_Wrapper(train_original_source, transform_lambda)\n",
    "val_processed_source   = Lazy_Iterable_Wrapper(val_original_source, transform_lambda)\n",
    "test_processed_source  = Lazy_Iterable_Wrapper(test_original_source, transform_lambda)\n",
    "\n",
    "train_processed_target = Lazy_Iterable_Wrapper(train_original_target, transform_lambda)\n",
    "val_processed_target   = Lazy_Iterable_Wrapper(val_original_target, transform_lambda)\n",
    "test_processed_target  = Lazy_Iterable_Wrapper(test_original_target, transform_lambda)\n",
    "\n",
    "datasets = EasyDict({\n",
    "    \"source\": {\n",
    "        \"original\": {\"train\":train_original_source, \"val\":val_original_source, \"test\":test_original_source},\n",
    "        \"processed\": {\"train\":train_processed_source, \"val\":val_processed_source, \"test\":test_processed_source}\n",
    "    },\n",
    "    \"target\": {\n",
    "        \"original\": {\"train\":train_original_target, \"val\":val_original_target, \"test\":test_original_target},\n",
    "        \"processed\": {\"train\":train_processed_target, \"val\":val_processed_target, \"test\":test_processed_target}\n",
    "    },\n",
    "})"
   ]
  },
  {
   "cell_type": "code",
   "execution_count": 11,
   "id": "296189d9",
   "metadata": {
    "execution": {
     "iopub.execute_input": "2022-04-01T18:53:19.275854Z",
     "iopub.status.busy": "2022-04-01T18:53:19.275601Z",
     "iopub.status.idle": "2022-04-01T18:53:20.927924Z",
     "shell.execute_reply": "2022-04-01T18:53:20.928636Z"
    },
    "papermill": {
     "duration": 1.667051,
     "end_time": "2022-04-01T18:53:20.928828",
     "exception": false,
     "start_time": "2022-04-01T18:53:19.261777",
     "status": "completed"
    },
    "tags": []
   },
   "outputs": [
    {
     "name": "stdout",
     "output_type": "stream",
     "text": [
      "Visually inspect these to see if they line up with expected values given the transforms\n",
      "x_transforms_source ['unit_power']\n",
      "x_transforms_target ['unit_power']\n",
      "Average magnitude, source: 0.8860904\n",
      "Average power, source: 1.0\n"
     ]
    },
    {
     "name": "stdout",
     "output_type": "stream",
     "text": [
      "Average magnitude, target: 0.8979908\n",
      "Average power, target: 1.0\n"
     ]
    }
   ],
   "source": [
    "# Some quick unit tests on the data\n",
    "from steves_utils.transforms import get_average_power, get_average_magnitude\n",
    "\n",
    "q_x, q_y, s_x, s_y, truth = next(iter(train_processed_source))\n",
    "\n",
    "assert q_x.dtype == eval(p.torch_default_dtype)\n",
    "assert s_x.dtype == eval(p.torch_default_dtype)\n",
    "\n",
    "print(\"Visually inspect these to see if they line up with expected values given the transforms\")\n",
    "print('x_transforms_source', p.x_transforms_source)\n",
    "print('x_transforms_target', p.x_transforms_target)\n",
    "print(\"Average magnitude, source:\", get_average_magnitude(q_x[0].numpy()))\n",
    "print(\"Average power, source:\", get_average_power(q_x[0].numpy()))\n",
    "\n",
    "q_x, q_y, s_x, s_y, truth = next(iter(train_processed_target))\n",
    "print(\"Average magnitude, target:\", get_average_magnitude(q_x[0].numpy()))\n",
    "print(\"Average power, target:\", get_average_power(q_x[0].numpy()))\n"
   ]
  },
  {
   "cell_type": "code",
   "execution_count": 12,
   "id": "bbdacba1",
   "metadata": {
    "execution": {
     "iopub.execute_input": "2022-04-01T18:53:20.959218Z",
     "iopub.status.busy": "2022-04-01T18:53:20.958965Z",
     "iopub.status.idle": "2022-04-01T18:53:21.016632Z",
     "shell.execute_reply": "2022-04-01T18:53:21.017000Z"
    },
    "papermill": {
     "duration": 0.070579,
     "end_time": "2022-04-01T18:53:21.017110",
     "exception": false,
     "start_time": "2022-04-01T18:53:20.946531",
     "status": "completed"
    },
    "tags": []
   },
   "outputs": [
    {
     "name": "stdout",
     "output_type": "stream",
     "text": [
      "(2, 256)\n"
     ]
    }
   ],
   "source": [
    "###################################\n",
    "# Build the model\n",
    "###################################\n",
    "model = Steves_Prototypical_Network(x_net, device=p.device, x_shape=(2,256))\n",
    "optimizer = Adam(params=model.parameters(), lr=p.lr)"
   ]
  },
  {
   "cell_type": "code",
   "execution_count": 13,
   "id": "22b39ac5",
   "metadata": {
    "execution": {
     "iopub.execute_input": "2022-04-01T18:53:21.045843Z",
     "iopub.status.busy": "2022-04-01T18:53:21.045594Z",
     "iopub.status.idle": "2022-04-01T19:12:23.620286Z",
     "shell.execute_reply": "2022-04-01T19:12:23.620056Z"
    },
    "papermill": {
     "duration": 1142.588021,
     "end_time": "2022-04-01T19:12:23.620344",
     "exception": false,
     "start_time": "2022-04-01T18:53:21.032323",
     "status": "completed"
    },
    "tags": []
   },
   "outputs": [
    {
     "name": "stdout",
     "output_type": "stream",
     "text": [
      "epoch: 1, [batch: 1 / 2520], examples_per_second: 128.7095, train_label_loss: 2.7746, \n"
     ]
    },
    {
     "name": "stdout",
     "output_type": "stream",
     "text": [
      "epoch: 1, [batch: 252 / 2520], examples_per_second: 3159.6139, train_label_loss: 2.7643, \n"
     ]
    },
    {
     "name": "stdout",
     "output_type": "stream",
     "text": [
      "epoch: 1, [batch: 504 / 2520], examples_per_second: 3182.1071, train_label_loss: 1.9816, \n"
     ]
    },
    {
     "name": "stdout",
     "output_type": "stream",
     "text": [
      "epoch: 1, [batch: 756 / 2520], examples_per_second: 3198.8213, train_label_loss: 1.5173, \n"
     ]
    },
    {
     "name": "stdout",
     "output_type": "stream",
     "text": [
      "epoch: 1, [batch: 1008 / 2520], examples_per_second: 3168.0482, train_label_loss: 1.6016, \n"
     ]
    },
    {
     "name": "stdout",
     "output_type": "stream",
     "text": [
      "epoch: 1, [batch: 1260 / 2520], examples_per_second: 3168.5257, train_label_loss: 1.4871, \n"
     ]
    },
    {
     "name": "stdout",
     "output_type": "stream",
     "text": [
      "epoch: 1, [batch: 1512 / 2520], examples_per_second: 3175.3229, train_label_loss: 2.0067, \n"
     ]
    },
    {
     "name": "stdout",
     "output_type": "stream",
     "text": [
      "epoch: 1, [batch: 1764 / 2520], examples_per_second: 3155.4072, train_label_loss: 1.7002, \n"
     ]
    },
    {
     "name": "stdout",
     "output_type": "stream",
     "text": [
      "epoch: 1, [batch: 2016 / 2520], examples_per_second: 3167.0223, train_label_loss: 1.2291, \n"
     ]
    },
    {
     "name": "stdout",
     "output_type": "stream",
     "text": [
      "epoch: 1, [batch: 2268 / 2520], examples_per_second: 3179.6058, train_label_loss: 1.2843, \n"
     ]
    },
    {
     "name": "stdout",
     "output_type": "stream",
     "text": [
      "=============================================================\n",
      "epoch: 1, source_val_acc_label: 0.3938, target_val_acc_label: 0.2795, source_val_label_loss: 1.5012, target_val_label_loss: 1.9172, \n",
      "=============================================================\n"
     ]
    },
    {
     "name": "stdout",
     "output_type": "stream",
     "text": [
      "New best\n"
     ]
    },
    {
     "name": "stdout",
     "output_type": "stream",
     "text": [
      "epoch: 2, [batch: 1 / 2520], examples_per_second: 11.1014, train_label_loss: 1.5821, \n"
     ]
    },
    {
     "name": "stdout",
     "output_type": "stream",
     "text": [
      "epoch: 2, [batch: 252 / 2520], examples_per_second: 3190.7418, train_label_loss: 1.3557, \n"
     ]
    },
    {
     "name": "stdout",
     "output_type": "stream",
     "text": [
      "epoch: 2, [batch: 504 / 2520], examples_per_second: 3196.9258, train_label_loss: 1.5141, \n"
     ]
    },
    {
     "name": "stdout",
     "output_type": "stream",
     "text": [
      "epoch: 2, [batch: 756 / 2520], examples_per_second: 3198.1081, train_label_loss: 1.6149, \n"
     ]
    },
    {
     "name": "stdout",
     "output_type": "stream",
     "text": [
      "epoch: 2, [batch: 1008 / 2520], examples_per_second: 3175.7689, train_label_loss: 1.6435, \n"
     ]
    },
    {
     "name": "stdout",
     "output_type": "stream",
     "text": [
      "epoch: 2, [batch: 1260 / 2520], examples_per_second: 3184.3369, train_label_loss: 1.4771, \n"
     ]
    },
    {
     "name": "stdout",
     "output_type": "stream",
     "text": [
      "epoch: 2, [batch: 1512 / 2520], examples_per_second: 3196.1875, train_label_loss: 1.2388, \n"
     ]
    },
    {
     "name": "stdout",
     "output_type": "stream",
     "text": [
      "epoch: 2, [batch: 1764 / 2520], examples_per_second: 3179.5816, train_label_loss: 1.2147, \n"
     ]
    },
    {
     "name": "stdout",
     "output_type": "stream",
     "text": [
      "epoch: 2, [batch: 2016 / 2520], examples_per_second: 3189.2191, train_label_loss: 1.4677, \n"
     ]
    },
    {
     "name": "stdout",
     "output_type": "stream",
     "text": [
      "epoch: 2, [batch: 2268 / 2520], examples_per_second: 3178.4654, train_label_loss: 1.3342, \n"
     ]
    },
    {
     "name": "stdout",
     "output_type": "stream",
     "text": [
      "=============================================================\n",
      "epoch: 2, source_val_acc_label: 0.4355, target_val_acc_label: 0.3082, source_val_label_loss: 1.3669, target_val_label_loss: 1.8676, \n",
      "=============================================================\n"
     ]
    },
    {
     "name": "stdout",
     "output_type": "stream",
     "text": [
      "New best\n"
     ]
    },
    {
     "name": "stdout",
     "output_type": "stream",
     "text": [
      "epoch: 3, [batch: 1 / 2520], examples_per_second: 11.1142, train_label_loss: 1.2792, \n"
     ]
    },
    {
     "name": "stdout",
     "output_type": "stream",
     "text": [
      "epoch: 3, [batch: 252 / 2520], examples_per_second: 3178.9089, train_label_loss: 1.4080, \n"
     ]
    },
    {
     "name": "stdout",
     "output_type": "stream",
     "text": [
      "epoch: 3, [batch: 504 / 2520], examples_per_second: 3176.8330, train_label_loss: 1.5873, \n"
     ]
    },
    {
     "name": "stdout",
     "output_type": "stream",
     "text": [
      "epoch: 3, [batch: 756 / 2520], examples_per_second: 3179.4361, train_label_loss: 1.3413, \n"
     ]
    },
    {
     "name": "stdout",
     "output_type": "stream",
     "text": [
      "epoch: 3, [batch: 1008 / 2520], examples_per_second: 3158.4477, train_label_loss: 1.3944, \n"
     ]
    },
    {
     "name": "stdout",
     "output_type": "stream",
     "text": [
      "epoch: 3, [batch: 1260 / 2520], examples_per_second: 3181.0826, train_label_loss: 1.2532, \n"
     ]
    },
    {
     "name": "stdout",
     "output_type": "stream",
     "text": [
      "epoch: 3, [batch: 1512 / 2520], examples_per_second: 3184.8549, train_label_loss: 1.3515, \n"
     ]
    },
    {
     "name": "stdout",
     "output_type": "stream",
     "text": [
      "epoch: 3, [batch: 1764 / 2520], examples_per_second: 3169.9277, train_label_loss: 0.6704, \n"
     ]
    },
    {
     "name": "stdout",
     "output_type": "stream",
     "text": [
      "epoch: 3, [batch: 2016 / 2520], examples_per_second: 3178.6375, train_label_loss: 1.1919, \n"
     ]
    },
    {
     "name": "stdout",
     "output_type": "stream",
     "text": [
      "epoch: 3, [batch: 2268 / 2520], examples_per_second: 3182.0833, train_label_loss: 0.7636, \n"
     ]
    },
    {
     "name": "stdout",
     "output_type": "stream",
     "text": [
      "=============================================================\n",
      "epoch: 3, source_val_acc_label: 0.5284, target_val_acc_label: 0.4321, source_val_label_loss: 1.2287, target_val_label_loss: 1.6275, \n",
      "=============================================================\n"
     ]
    },
    {
     "name": "stdout",
     "output_type": "stream",
     "text": [
      "New best\n"
     ]
    },
    {
     "name": "stdout",
     "output_type": "stream",
     "text": [
      "epoch: 4, [batch: 1 / 2520], examples_per_second: 11.1216, train_label_loss: 1.2944, \n"
     ]
    },
    {
     "name": "stdout",
     "output_type": "stream",
     "text": [
      "epoch: 4, [batch: 252 / 2520], examples_per_second: 3178.5834, train_label_loss: 1.4559, \n"
     ]
    },
    {
     "name": "stdout",
     "output_type": "stream",
     "text": [
      "epoch: 4, [batch: 504 / 2520], examples_per_second: 3180.2792, train_label_loss: 0.8978, \n"
     ]
    },
    {
     "name": "stdout",
     "output_type": "stream",
     "text": [
      "epoch: 4, [batch: 756 / 2520], examples_per_second: 3187.7305, train_label_loss: 1.3314, \n"
     ]
    },
    {
     "name": "stdout",
     "output_type": "stream",
     "text": [
      "epoch: 4, [batch: 1008 / 2520], examples_per_second: 3171.5679, train_label_loss: 0.5019, \n"
     ]
    },
    {
     "name": "stdout",
     "output_type": "stream",
     "text": [
      "epoch: 4, [batch: 1260 / 2520], examples_per_second: 3196.9211, train_label_loss: 0.6233, \n"
     ]
    },
    {
     "name": "stdout",
     "output_type": "stream",
     "text": [
      "epoch: 4, [batch: 1512 / 2520], examples_per_second: 3192.2532, train_label_loss: 0.8058, \n"
     ]
    },
    {
     "name": "stdout",
     "output_type": "stream",
     "text": [
      "epoch: 4, [batch: 1764 / 2520], examples_per_second: 3198.5584, train_label_loss: 0.4283, \n"
     ]
    },
    {
     "name": "stdout",
     "output_type": "stream",
     "text": [
      "epoch: 4, [batch: 2016 / 2520], examples_per_second: 3222.8349, train_label_loss: 0.8394, \n"
     ]
    },
    {
     "name": "stdout",
     "output_type": "stream",
     "text": [
      "epoch: 4, [batch: 2268 / 2520], examples_per_second: 3194.9553, train_label_loss: 1.1321, \n"
     ]
    },
    {
     "name": "stdout",
     "output_type": "stream",
     "text": [
      "=============================================================\n",
      "epoch: 4, source_val_acc_label: 0.5659, target_val_acc_label: 0.4640, source_val_label_loss: 1.1292, target_val_label_loss: 1.5528, \n",
      "=============================================================\n"
     ]
    },
    {
     "name": "stdout",
     "output_type": "stream",
     "text": [
      "New best\n"
     ]
    },
    {
     "name": "stdout",
     "output_type": "stream",
     "text": [
      "epoch: 5, [batch: 1 / 2520], examples_per_second: 11.0471, train_label_loss: 0.4632, \n"
     ]
    },
    {
     "name": "stdout",
     "output_type": "stream",
     "text": [
      "epoch: 5, [batch: 252 / 2520], examples_per_second: 3161.1874, train_label_loss: 0.8719, \n"
     ]
    },
    {
     "name": "stdout",
     "output_type": "stream",
     "text": [
      "epoch: 5, [batch: 504 / 2520], examples_per_second: 3196.9364, train_label_loss: 0.6614, \n"
     ]
    },
    {
     "name": "stdout",
     "output_type": "stream",
     "text": [
      "epoch: 5, [batch: 756 / 2520], examples_per_second: 3182.2815, train_label_loss: 1.1333, \n"
     ]
    },
    {
     "name": "stdout",
     "output_type": "stream",
     "text": [
      "epoch: 5, [batch: 1008 / 2520], examples_per_second: 3182.2352, train_label_loss: 0.6267, \n"
     ]
    },
    {
     "name": "stdout",
     "output_type": "stream",
     "text": [
      "epoch: 5, [batch: 1260 / 2520], examples_per_second: 3202.3311, train_label_loss: 0.6182, \n"
     ]
    },
    {
     "name": "stdout",
     "output_type": "stream",
     "text": [
      "epoch: 5, [batch: 1512 / 2520], examples_per_second: 3176.1399, train_label_loss: 0.6789, \n"
     ]
    },
    {
     "name": "stdout",
     "output_type": "stream",
     "text": [
      "epoch: 5, [batch: 1764 / 2520], examples_per_second: 3173.0943, train_label_loss: 1.1739, \n"
     ]
    },
    {
     "name": "stdout",
     "output_type": "stream",
     "text": [
      "epoch: 5, [batch: 2016 / 2520], examples_per_second: 3191.6663, train_label_loss: 0.6271, \n"
     ]
    },
    {
     "name": "stdout",
     "output_type": "stream",
     "text": [
      "epoch: 5, [batch: 2268 / 2520], examples_per_second: 3193.3191, train_label_loss: 0.8367, \n"
     ]
    },
    {
     "name": "stdout",
     "output_type": "stream",
     "text": [
      "=============================================================\n",
      "epoch: 5, source_val_acc_label: 0.5863, target_val_acc_label: 0.4810, source_val_label_loss: 1.1391, target_val_label_loss: 1.5958, \n",
      "=============================================================\n"
     ]
    },
    {
     "name": "stdout",
     "output_type": "stream",
     "text": [
      "New best\n"
     ]
    },
    {
     "name": "stdout",
     "output_type": "stream",
     "text": [
      "epoch: 6, [batch: 1 / 2520], examples_per_second: 11.0929, train_label_loss: 0.4132, \n"
     ]
    },
    {
     "name": "stdout",
     "output_type": "stream",
     "text": [
      "epoch: 6, [batch: 252 / 2520], examples_per_second: 3172.6145, train_label_loss: 0.5698, \n"
     ]
    },
    {
     "name": "stdout",
     "output_type": "stream",
     "text": [
      "epoch: 6, [batch: 504 / 2520], examples_per_second: 3189.3042, train_label_loss: 0.7837, \n"
     ]
    },
    {
     "name": "stdout",
     "output_type": "stream",
     "text": [
      "epoch: 6, [batch: 756 / 2520], examples_per_second: 3195.9353, train_label_loss: 0.7099, \n"
     ]
    },
    {
     "name": "stdout",
     "output_type": "stream",
     "text": [
      "epoch: 6, [batch: 1008 / 2520], examples_per_second: 3177.2793, train_label_loss: 0.4168, \n"
     ]
    },
    {
     "name": "stdout",
     "output_type": "stream",
     "text": [
      "epoch: 6, [batch: 1260 / 2520], examples_per_second: 3175.0439, train_label_loss: 0.4183, \n"
     ]
    },
    {
     "name": "stdout",
     "output_type": "stream",
     "text": [
      "epoch: 6, [batch: 1512 / 2520], examples_per_second: 3188.2120, train_label_loss: 0.5552, \n"
     ]
    },
    {
     "name": "stdout",
     "output_type": "stream",
     "text": [
      "epoch: 6, [batch: 1764 / 2520], examples_per_second: 3197.1967, train_label_loss: 0.5847, \n"
     ]
    },
    {
     "name": "stdout",
     "output_type": "stream",
     "text": [
      "epoch: 6, [batch: 2016 / 2520], examples_per_second: 3170.4434, train_label_loss: 0.1665, \n"
     ]
    },
    {
     "name": "stdout",
     "output_type": "stream",
     "text": [
      "epoch: 6, [batch: 2268 / 2520], examples_per_second: 3191.3437, train_label_loss: 0.2362, \n"
     ]
    },
    {
     "name": "stdout",
     "output_type": "stream",
     "text": [
      "=============================================================\n",
      "epoch: 6, source_val_acc_label: 0.5987, target_val_acc_label: 0.4854, source_val_label_loss: 1.1881, target_val_label_loss: 1.7000, \n",
      "=============================================================\n"
     ]
    },
    {
     "name": "stdout",
     "output_type": "stream",
     "text": [
      "New best\n"
     ]
    },
    {
     "name": "stdout",
     "output_type": "stream",
     "text": [
      "epoch: 7, [batch: 1 / 2520], examples_per_second: 11.0780, train_label_loss: 0.7926, \n"
     ]
    },
    {
     "name": "stdout",
     "output_type": "stream",
     "text": [
      "epoch: 7, [batch: 252 / 2520], examples_per_second: 3169.7759, train_label_loss: 0.3306, \n"
     ]
    },
    {
     "name": "stdout",
     "output_type": "stream",
     "text": [
      "epoch: 7, [batch: 504 / 2520], examples_per_second: 3164.7753, train_label_loss: 0.5723, \n"
     ]
    },
    {
     "name": "stdout",
     "output_type": "stream",
     "text": [
      "epoch: 7, [batch: 756 / 2520], examples_per_second: 3190.8139, train_label_loss: 0.4639, \n"
     ]
    },
    {
     "name": "stdout",
     "output_type": "stream",
     "text": [
      "epoch: 7, [batch: 1008 / 2520], examples_per_second: 3168.5016, train_label_loss: 0.6833, \n"
     ]
    },
    {
     "name": "stdout",
     "output_type": "stream",
     "text": [
      "epoch: 7, [batch: 1260 / 2520], examples_per_second: 3175.7872, train_label_loss: 0.6782, \n"
     ]
    },
    {
     "name": "stdout",
     "output_type": "stream",
     "text": [
      "epoch: 7, [batch: 1512 / 2520], examples_per_second: 3187.3382, train_label_loss: 0.3268, \n"
     ]
    },
    {
     "name": "stdout",
     "output_type": "stream",
     "text": [
      "epoch: 7, [batch: 1764 / 2520], examples_per_second: 3168.3647, train_label_loss: 0.1829, \n"
     ]
    },
    {
     "name": "stdout",
     "output_type": "stream",
     "text": [
      "epoch: 7, [batch: 2016 / 2520], examples_per_second: 3197.4467, train_label_loss: 0.2330, \n"
     ]
    },
    {
     "name": "stdout",
     "output_type": "stream",
     "text": [
      "epoch: 7, [batch: 2268 / 2520], examples_per_second: 3177.9709, train_label_loss: 0.5411, \n"
     ]
    },
    {
     "name": "stdout",
     "output_type": "stream",
     "text": [
      "=============================================================\n",
      "epoch: 7, source_val_acc_label: 0.5951, target_val_acc_label: 0.4854, source_val_label_loss: 1.2461, target_val_label_loss: 1.7594, \n",
      "=============================================================\n"
     ]
    },
    {
     "name": "stdout",
     "output_type": "stream",
     "text": [
      "epoch: 8, [batch: 1 / 2520], examples_per_second: 11.1716, train_label_loss: 0.4189, \n"
     ]
    },
    {
     "name": "stdout",
     "output_type": "stream",
     "text": [
      "epoch: 8, [batch: 252 / 2520], examples_per_second: 3161.7118, train_label_loss: 0.3070, \n"
     ]
    },
    {
     "name": "stdout",
     "output_type": "stream",
     "text": [
      "epoch: 8, [batch: 504 / 2520], examples_per_second: 3182.0663, train_label_loss: 0.4706, \n"
     ]
    },
    {
     "name": "stdout",
     "output_type": "stream",
     "text": [
      "epoch: 8, [batch: 756 / 2520], examples_per_second: 3182.7590, train_label_loss: 0.1852, \n"
     ]
    },
    {
     "name": "stdout",
     "output_type": "stream",
     "text": [
      "epoch: 8, [batch: 1008 / 2520], examples_per_second: 3182.2863, train_label_loss: 0.3219, \n"
     ]
    },
    {
     "name": "stdout",
     "output_type": "stream",
     "text": [
      "epoch: 8, [batch: 1260 / 2520], examples_per_second: 3179.8777, train_label_loss: 0.2888, \n"
     ]
    },
    {
     "name": "stdout",
     "output_type": "stream",
     "text": [
      "epoch: 8, [batch: 1512 / 2520], examples_per_second: 3184.4398, train_label_loss: 0.2933, \n"
     ]
    },
    {
     "name": "stdout",
     "output_type": "stream",
     "text": [
      "epoch: 8, [batch: 1764 / 2520], examples_per_second: 3164.3924, train_label_loss: 0.3787, \n"
     ]
    },
    {
     "name": "stdout",
     "output_type": "stream",
     "text": [
      "epoch: 8, [batch: 2016 / 2520], examples_per_second: 3171.0661, train_label_loss: 0.4046, \n"
     ]
    },
    {
     "name": "stdout",
     "output_type": "stream",
     "text": [
      "epoch: 8, [batch: 2268 / 2520], examples_per_second: 3176.5247, train_label_loss: 0.3055, \n"
     ]
    },
    {
     "name": "stdout",
     "output_type": "stream",
     "text": [
      "=============================================================\n",
      "epoch: 8, source_val_acc_label: 0.5964, target_val_acc_label: 0.4905, source_val_label_loss: 1.3128, target_val_label_loss: 1.8526, \n",
      "=============================================================\n"
     ]
    },
    {
     "name": "stdout",
     "output_type": "stream",
     "text": [
      "New best\n"
     ]
    },
    {
     "name": "stdout",
     "output_type": "stream",
     "text": [
      "epoch: 9, [batch: 1 / 2520], examples_per_second: 11.0114, train_label_loss: 0.3895, \n"
     ]
    },
    {
     "name": "stdout",
     "output_type": "stream",
     "text": [
      "epoch: 9, [batch: 252 / 2520], examples_per_second: 3150.8901, train_label_loss: 0.2017, \n"
     ]
    },
    {
     "name": "stdout",
     "output_type": "stream",
     "text": [
      "epoch: 9, [batch: 504 / 2520], examples_per_second: 3180.3909, train_label_loss: 0.5886, \n"
     ]
    },
    {
     "name": "stdout",
     "output_type": "stream",
     "text": [
      "epoch: 9, [batch: 756 / 2520], examples_per_second: 3175.4161, train_label_loss: 0.4046, \n"
     ]
    },
    {
     "name": "stdout",
     "output_type": "stream",
     "text": [
      "epoch: 9, [batch: 1008 / 2520], examples_per_second: 3182.4630, train_label_loss: 0.4492, \n"
     ]
    },
    {
     "name": "stdout",
     "output_type": "stream",
     "text": [
      "epoch: 9, [batch: 1260 / 2520], examples_per_second: 3193.7063, train_label_loss: 0.2159, \n"
     ]
    },
    {
     "name": "stdout",
     "output_type": "stream",
     "text": [
      "epoch: 9, [batch: 1512 / 2520], examples_per_second: 3189.3044, train_label_loss: 0.1311, \n"
     ]
    },
    {
     "name": "stdout",
     "output_type": "stream",
     "text": [
      "epoch: 9, [batch: 1764 / 2520], examples_per_second: 3162.4124, train_label_loss: 0.3328, \n"
     ]
    },
    {
     "name": "stdout",
     "output_type": "stream",
     "text": [
      "epoch: 9, [batch: 2016 / 2520], examples_per_second: 3187.4683, train_label_loss: 0.6004, \n"
     ]
    },
    {
     "name": "stdout",
     "output_type": "stream",
     "text": [
      "epoch: 9, [batch: 2268 / 2520], examples_per_second: 3179.5726, train_label_loss: 0.2837, \n"
     ]
    },
    {
     "name": "stdout",
     "output_type": "stream",
     "text": [
      "=============================================================\n",
      "epoch: 9, source_val_acc_label: 0.6076, target_val_acc_label: 0.4897, source_val_label_loss: 1.3515, target_val_label_loss: 1.9493, \n",
      "=============================================================\n"
     ]
    },
    {
     "name": "stdout",
     "output_type": "stream",
     "text": [
      "epoch: 10, [batch: 1 / 2520], examples_per_second: 11.0674, train_label_loss: 0.5114, \n"
     ]
    },
    {
     "name": "stdout",
     "output_type": "stream",
     "text": [
      "epoch: 10, [batch: 252 / 2520], examples_per_second: 3162.0280, train_label_loss: 0.0651, \n"
     ]
    },
    {
     "name": "stdout",
     "output_type": "stream",
     "text": [
      "epoch: 10, [batch: 504 / 2520], examples_per_second: 3179.7556, train_label_loss: 0.4198, \n"
     ]
    },
    {
     "name": "stdout",
     "output_type": "stream",
     "text": [
      "epoch: 10, [batch: 756 / 2520], examples_per_second: 3176.0628, train_label_loss: 0.2508, \n"
     ]
    },
    {
     "name": "stdout",
     "output_type": "stream",
     "text": [
      "epoch: 10, [batch: 1008 / 2520], examples_per_second: 3180.1166, train_label_loss: 0.1641, \n"
     ]
    },
    {
     "name": "stdout",
     "output_type": "stream",
     "text": [
      "epoch: 10, [batch: 1260 / 2520], examples_per_second: 3192.0183, train_label_loss: 0.2674, \n"
     ]
    },
    {
     "name": "stdout",
     "output_type": "stream",
     "text": [
      "epoch: 10, [batch: 1512 / 2520], examples_per_second: 3180.8333, train_label_loss: 0.1450, \n"
     ]
    },
    {
     "name": "stdout",
     "output_type": "stream",
     "text": [
      "epoch: 10, [batch: 1764 / 2520], examples_per_second: 3185.6047, train_label_loss: 0.1292, \n"
     ]
    },
    {
     "name": "stdout",
     "output_type": "stream",
     "text": [
      "epoch: 10, [batch: 2016 / 2520], examples_per_second: 3194.5977, train_label_loss: 0.1388, \n"
     ]
    },
    {
     "name": "stdout",
     "output_type": "stream",
     "text": [
      "epoch: 10, [batch: 2268 / 2520], examples_per_second: 3182.6484, train_label_loss: 0.4328, \n"
     ]
    },
    {
     "name": "stdout",
     "output_type": "stream",
     "text": [
      "=============================================================\n",
      "epoch: 10, source_val_acc_label: 0.5975, target_val_acc_label: 0.4857, source_val_label_loss: 1.4697, target_val_label_loss: 2.0912, \n",
      "=============================================================\n"
     ]
    },
    {
     "name": "stdout",
     "output_type": "stream",
     "text": [
      "epoch: 11, [batch: 1 / 2520], examples_per_second: 11.1464, train_label_loss: 0.0906, \n"
     ]
    },
    {
     "name": "stdout",
     "output_type": "stream",
     "text": [
      "epoch: 11, [batch: 252 / 2520], examples_per_second: 3172.3737, train_label_loss: 0.4209, \n"
     ]
    },
    {
     "name": "stdout",
     "output_type": "stream",
     "text": [
      "epoch: 11, [batch: 504 / 2520], examples_per_second: 3180.4401, train_label_loss: 0.1616, \n"
     ]
    },
    {
     "name": "stdout",
     "output_type": "stream",
     "text": [
      "epoch: 11, [batch: 756 / 2520], examples_per_second: 3196.6545, train_label_loss: 0.3292, \n"
     ]
    },
    {
     "name": "stdout",
     "output_type": "stream",
     "text": [
      "epoch: 11, [batch: 1008 / 2520], examples_per_second: 3184.4190, train_label_loss: 0.1060, \n"
     ]
    },
    {
     "name": "stdout",
     "output_type": "stream",
     "text": [
      "epoch: 11, [batch: 1260 / 2520], examples_per_second: 3205.6000, train_label_loss: 0.1975, \n"
     ]
    },
    {
     "name": "stdout",
     "output_type": "stream",
     "text": [
      "epoch: 11, [batch: 1512 / 2520], examples_per_second: 3195.6660, train_label_loss: 0.2557, \n"
     ]
    },
    {
     "name": "stdout",
     "output_type": "stream",
     "text": [
      "epoch: 11, [batch: 1764 / 2520], examples_per_second: 3180.7665, train_label_loss: 0.3600, \n"
     ]
    },
    {
     "name": "stdout",
     "output_type": "stream",
     "text": [
      "epoch: 11, [batch: 2016 / 2520], examples_per_second: 3198.6352, train_label_loss: 0.0812, \n"
     ]
    },
    {
     "name": "stdout",
     "output_type": "stream",
     "text": [
      "epoch: 11, [batch: 2268 / 2520], examples_per_second: 3197.7876, train_label_loss: 0.4173, \n"
     ]
    },
    {
     "name": "stdout",
     "output_type": "stream",
     "text": [
      "=============================================================\n",
      "epoch: 11, source_val_acc_label: 0.6004, target_val_acc_label: 0.4895, source_val_label_loss: 1.5573, target_val_label_loss: 2.2276, \n",
      "=============================================================\n"
     ]
    },
    {
     "name": "stdout",
     "output_type": "stream",
     "text": [
      "epoch: 12, [batch: 1 / 2520], examples_per_second: 11.1853, train_label_loss: 0.2394, \n"
     ]
    },
    {
     "name": "stdout",
     "output_type": "stream",
     "text": [
      "epoch: 12, [batch: 252 / 2520], examples_per_second: 3176.9251, train_label_loss: 0.1857, \n"
     ]
    },
    {
     "name": "stdout",
     "output_type": "stream",
     "text": [
      "epoch: 12, [batch: 504 / 2520], examples_per_second: 3189.3260, train_label_loss: 0.1138, \n"
     ]
    },
    {
     "name": "stdout",
     "output_type": "stream",
     "text": [
      "epoch: 12, [batch: 756 / 2520], examples_per_second: 3204.8539, train_label_loss: 0.4845, \n"
     ]
    },
    {
     "name": "stdout",
     "output_type": "stream",
     "text": [
      "epoch: 12, [batch: 1008 / 2520], examples_per_second: 3176.8892, train_label_loss: 0.1375, \n"
     ]
    },
    {
     "name": "stdout",
     "output_type": "stream",
     "text": [
      "epoch: 12, [batch: 1260 / 2520], examples_per_second: 3198.1669, train_label_loss: 0.2517, \n"
     ]
    },
    {
     "name": "stdout",
     "output_type": "stream",
     "text": [
      "epoch: 12, [batch: 1512 / 2520], examples_per_second: 3197.0896, train_label_loss: 0.2622, \n"
     ]
    },
    {
     "name": "stdout",
     "output_type": "stream",
     "text": [
      "epoch: 12, [batch: 1764 / 2520], examples_per_second: 3182.2094, train_label_loss: 0.0866, \n"
     ]
    },
    {
     "name": "stdout",
     "output_type": "stream",
     "text": [
      "epoch: 12, [batch: 2016 / 2520], examples_per_second: 3181.9766, train_label_loss: 0.3474, \n"
     ]
    },
    {
     "name": "stdout",
     "output_type": "stream",
     "text": [
      "epoch: 12, [batch: 2268 / 2520], examples_per_second: 3174.7355, train_label_loss: 0.1634, \n"
     ]
    },
    {
     "name": "stdout",
     "output_type": "stream",
     "text": [
      "=============================================================\n",
      "epoch: 12, source_val_acc_label: 0.6002, target_val_acc_label: 0.4953, source_val_label_loss: 1.5713, target_val_label_loss: 2.2161, \n",
      "=============================================================\n"
     ]
    },
    {
     "name": "stdout",
     "output_type": "stream",
     "text": [
      "New best\n"
     ]
    },
    {
     "name": "stdout",
     "output_type": "stream",
     "text": [
      "epoch: 13, [batch: 1 / 2520], examples_per_second: 11.0760, train_label_loss: 0.1161, \n"
     ]
    },
    {
     "name": "stdout",
     "output_type": "stream",
     "text": [
      "epoch: 13, [batch: 252 / 2520], examples_per_second: 3167.3498, train_label_loss: 0.0268, \n"
     ]
    },
    {
     "name": "stdout",
     "output_type": "stream",
     "text": [
      "epoch: 13, [batch: 504 / 2520], examples_per_second: 3161.8955, train_label_loss: 0.0654, \n"
     ]
    },
    {
     "name": "stdout",
     "output_type": "stream",
     "text": [
      "epoch: 13, [batch: 756 / 2520], examples_per_second: 3164.0237, train_label_loss: 0.2396, \n"
     ]
    },
    {
     "name": "stdout",
     "output_type": "stream",
     "text": [
      "epoch: 13, [batch: 1008 / 2520], examples_per_second: 3159.2523, train_label_loss: 0.3195, \n"
     ]
    },
    {
     "name": "stdout",
     "output_type": "stream",
     "text": [
      "epoch: 13, [batch: 1260 / 2520], examples_per_second: 3182.0317, train_label_loss: 0.0267, \n"
     ]
    },
    {
     "name": "stdout",
     "output_type": "stream",
     "text": [
      "epoch: 13, [batch: 1512 / 2520], examples_per_second: 3180.1999, train_label_loss: 0.2101, \n"
     ]
    },
    {
     "name": "stdout",
     "output_type": "stream",
     "text": [
      "epoch: 13, [batch: 1764 / 2520], examples_per_second: 3167.8112, train_label_loss: 0.1396, \n"
     ]
    },
    {
     "name": "stdout",
     "output_type": "stream",
     "text": [
      "epoch: 13, [batch: 2016 / 2520], examples_per_second: 3170.2242, train_label_loss: 0.3082, \n"
     ]
    },
    {
     "name": "stdout",
     "output_type": "stream",
     "text": [
      "epoch: 13, [batch: 2268 / 2520], examples_per_second: 3158.7211, train_label_loss: 0.0049, \n"
     ]
    },
    {
     "name": "stdout",
     "output_type": "stream",
     "text": [
      "=============================================================\n",
      "epoch: 13, source_val_acc_label: 0.5990, target_val_acc_label: 0.4924, source_val_label_loss: 1.6593, target_val_label_loss: 2.3055, \n",
      "=============================================================\n"
     ]
    },
    {
     "name": "stdout",
     "output_type": "stream",
     "text": [
      "epoch: 14, [batch: 1 / 2520], examples_per_second: 11.0820, train_label_loss: 0.3071, \n"
     ]
    },
    {
     "name": "stdout",
     "output_type": "stream",
     "text": [
      "epoch: 14, [batch: 252 / 2520], examples_per_second: 3164.3194, train_label_loss: 0.0248, \n"
     ]
    },
    {
     "name": "stdout",
     "output_type": "stream",
     "text": [
      "epoch: 14, [batch: 504 / 2520], examples_per_second: 3189.6145, train_label_loss: 0.3084, \n"
     ]
    },
    {
     "name": "stdout",
     "output_type": "stream",
     "text": [
      "epoch: 14, [batch: 756 / 2520], examples_per_second: 3200.5619, train_label_loss: 0.4664, \n"
     ]
    },
    {
     "name": "stdout",
     "output_type": "stream",
     "text": [
      "epoch: 14, [batch: 1008 / 2520], examples_per_second: 3175.3719, train_label_loss: 0.0595, \n"
     ]
    },
    {
     "name": "stdout",
     "output_type": "stream",
     "text": [
      "epoch: 14, [batch: 1260 / 2520], examples_per_second: 3188.8026, train_label_loss: 0.0654, \n"
     ]
    },
    {
     "name": "stdout",
     "output_type": "stream",
     "text": [
      "epoch: 14, [batch: 1512 / 2520], examples_per_second: 3170.6295, train_label_loss: 0.1612, \n"
     ]
    },
    {
     "name": "stdout",
     "output_type": "stream",
     "text": [
      "epoch: 14, [batch: 1764 / 2520], examples_per_second: 3165.2319, train_label_loss: 0.0399, \n"
     ]
    },
    {
     "name": "stdout",
     "output_type": "stream",
     "text": [
      "epoch: 14, [batch: 2016 / 2520], examples_per_second: 3205.8839, train_label_loss: 0.1053, \n"
     ]
    },
    {
     "name": "stdout",
     "output_type": "stream",
     "text": [
      "epoch: 14, [batch: 2268 / 2520], examples_per_second: 3201.5944, train_label_loss: 0.2913, \n"
     ]
    },
    {
     "name": "stdout",
     "output_type": "stream",
     "text": [
      "=============================================================\n",
      "epoch: 14, source_val_acc_label: 0.5955, target_val_acc_label: 0.4794, source_val_label_loss: 1.7368, target_val_label_loss: 2.4295, \n",
      "=============================================================\n"
     ]
    },
    {
     "name": "stdout",
     "output_type": "stream",
     "text": [
      "epoch: 15, [batch: 1 / 2520], examples_per_second: 11.1678, train_label_loss: 0.1938, \n"
     ]
    },
    {
     "name": "stdout",
     "output_type": "stream",
     "text": [
      "epoch: 15, [batch: 252 / 2520], examples_per_second: 3168.4126, train_label_loss: 0.0338, \n"
     ]
    },
    {
     "name": "stdout",
     "output_type": "stream",
     "text": [
      "epoch: 15, [batch: 504 / 2520], examples_per_second: 3185.5091, train_label_loss: 0.1483, \n"
     ]
    },
    {
     "name": "stdout",
     "output_type": "stream",
     "text": [
      "epoch: 15, [batch: 756 / 2520], examples_per_second: 3186.7788, train_label_loss: 0.0675, \n"
     ]
    },
    {
     "name": "stdout",
     "output_type": "stream",
     "text": [
      "epoch: 15, [batch: 1008 / 2520], examples_per_second: 3178.3658, train_label_loss: 0.2074, \n"
     ]
    },
    {
     "name": "stdout",
     "output_type": "stream",
     "text": [
      "epoch: 15, [batch: 1260 / 2520], examples_per_second: 3197.9974, train_label_loss: 0.1105, \n"
     ]
    },
    {
     "name": "stdout",
     "output_type": "stream",
     "text": [
      "epoch: 15, [batch: 1512 / 2520], examples_per_second: 3195.2838, train_label_loss: 0.1344, \n"
     ]
    },
    {
     "name": "stdout",
     "output_type": "stream",
     "text": [
      "epoch: 15, [batch: 1764 / 2520], examples_per_second: 3201.8242, train_label_loss: 0.0076, \n"
     ]
    },
    {
     "name": "stdout",
     "output_type": "stream",
     "text": [
      "epoch: 15, [batch: 2016 / 2520], examples_per_second: 3184.3290, train_label_loss: 0.2160, \n"
     ]
    },
    {
     "name": "stdout",
     "output_type": "stream",
     "text": [
      "epoch: 15, [batch: 2268 / 2520], examples_per_second: 3186.6008, train_label_loss: 0.0730, \n"
     ]
    },
    {
     "name": "stdout",
     "output_type": "stream",
     "text": [
      "=============================================================\n",
      "epoch: 15, source_val_acc_label: 0.6043, target_val_acc_label: 0.4898, source_val_label_loss: 1.7565, target_val_label_loss: 2.4846, \n",
      "=============================================================\n"
     ]
    },
    {
     "name": "stdout",
     "output_type": "stream",
     "text": [
      "epoch: 16, [batch: 1 / 2520], examples_per_second: 11.1364, train_label_loss: 0.0662, \n"
     ]
    },
    {
     "name": "stdout",
     "output_type": "stream",
     "text": [
      "epoch: 16, [batch: 252 / 2520], examples_per_second: 3174.9508, train_label_loss: 0.1943, \n"
     ]
    },
    {
     "name": "stdout",
     "output_type": "stream",
     "text": [
      "epoch: 16, [batch: 504 / 2520], examples_per_second: 3181.3210, train_label_loss: 0.0904, \n"
     ]
    },
    {
     "name": "stdout",
     "output_type": "stream",
     "text": [
      "epoch: 16, [batch: 756 / 2520], examples_per_second: 3189.8780, train_label_loss: 0.2851, \n"
     ]
    },
    {
     "name": "stdout",
     "output_type": "stream",
     "text": [
      "epoch: 16, [batch: 1008 / 2520], examples_per_second: 3183.1252, train_label_loss: 0.0949, \n"
     ]
    },
    {
     "name": "stdout",
     "output_type": "stream",
     "text": [
      "epoch: 16, [batch: 1260 / 2520], examples_per_second: 3173.4217, train_label_loss: 0.0333, \n"
     ]
    },
    {
     "name": "stdout",
     "output_type": "stream",
     "text": [
      "epoch: 16, [batch: 1512 / 2520], examples_per_second: 3165.3911, train_label_loss: 0.4047, \n"
     ]
    },
    {
     "name": "stdout",
     "output_type": "stream",
     "text": [
      "epoch: 16, [batch: 1764 / 2520], examples_per_second: 3168.9013, train_label_loss: 0.4127, \n"
     ]
    },
    {
     "name": "stdout",
     "output_type": "stream",
     "text": [
      "epoch: 16, [batch: 2016 / 2520], examples_per_second: 3180.5134, train_label_loss: 0.1663, \n"
     ]
    },
    {
     "name": "stdout",
     "output_type": "stream",
     "text": [
      "epoch: 16, [batch: 2268 / 2520], examples_per_second: 3182.7701, train_label_loss: 0.0594, \n"
     ]
    },
    {
     "name": "stdout",
     "output_type": "stream",
     "text": [
      "=============================================================\n",
      "epoch: 16, source_val_acc_label: 0.5967, target_val_acc_label: 0.4880, source_val_label_loss: 1.8333, target_val_label_loss: 2.5846, \n",
      "=============================================================\n"
     ]
    },
    {
     "name": "stdout",
     "output_type": "stream",
     "text": [
      "Patience (3) exhausted\n"
     ]
    }
   ],
   "source": [
    "###################################\n",
    "# train\n",
    "###################################\n",
    "jig = PTN_Train_Eval_Test_Jig(model, p.BEST_MODEL_PATH, p.device)\n",
    "\n",
    "jig.train(\n",
    "    train_iterable=datasets.source.processed.train,\n",
    "    source_val_iterable=datasets.source.processed.val,\n",
    "    target_val_iterable=datasets.target.processed.val,\n",
    "    num_epochs=p.n_epoch,\n",
    "    num_logs_per_epoch=p.NUM_LOGS_PER_EPOCH,\n",
    "    patience=p.patience,\n",
    "    optimizer=optimizer,\n",
    "    criteria_for_best=p.criteria_for_best,\n",
    ")"
   ]
  },
  {
   "cell_type": "code",
   "execution_count": 14,
   "id": "31e8fabf",
   "metadata": {
    "execution": {
     "iopub.execute_input": "2022-04-01T19:12:23.710243Z",
     "iopub.status.busy": "2022-04-01T19:12:23.709656Z",
     "iopub.status.idle": "2022-04-01T19:12:23.728712Z",
     "shell.execute_reply": "2022-04-01T19:12:23.728267Z"
    },
    "papermill": {
     "duration": 0.064893,
     "end_time": "2022-04-01T19:12:23.728801",
     "exception": false,
     "start_time": "2022-04-01T19:12:23.663908",
     "status": "completed"
    },
    "tags": []
   },
   "outputs": [],
   "source": [
    "total_experiment_time_secs = time.time() - start_time_secs"
   ]
  },
  {
   "cell_type": "code",
   "execution_count": 15,
   "id": "87b9595b",
   "metadata": {
    "execution": {
     "iopub.execute_input": "2022-04-01T19:12:23.824441Z",
     "iopub.status.busy": "2022-04-01T19:12:23.824175Z",
     "iopub.status.idle": "2022-04-01T19:13:12.558960Z",
     "shell.execute_reply": "2022-04-01T19:13:12.558511Z"
    },
    "papermill": {
     "duration": 48.782611,
     "end_time": "2022-04-01T19:13:12.559073",
     "exception": false,
     "start_time": "2022-04-01T19:12:23.776462",
     "status": "completed"
    },
    "tags": []
   },
   "outputs": [],
   "source": [
    "###################################\n",
    "# Evaluate the model\n",
    "###################################\n",
    "source_test_label_accuracy, source_test_label_loss = jig.test(datasets.source.processed.test)\n",
    "target_test_label_accuracy, target_test_label_loss = jig.test(datasets.target.processed.test)\n",
    "\n",
    "source_val_label_accuracy, source_val_label_loss = jig.test(datasets.source.processed.val)\n",
    "target_val_label_accuracy, target_val_label_loss = jig.test(datasets.target.processed.val)\n",
    "\n",
    "history = jig.get_history()\n",
    "\n",
    "total_epochs_trained = len(history[\"epoch_indices\"])\n",
    "\n",
    "val_dl = Iterable_Aggregator((datasets.source.original.val,datasets.target.original.val))\n",
    "\n",
    "confusion = ptn_confusion_by_domain_over_dataloader(model, p.device, val_dl)\n",
    "per_domain_accuracy = per_domain_accuracy_from_confusion(confusion)\n",
    "\n",
    "# Add a key to per_domain_accuracy for if it was a source domain\n",
    "for domain, accuracy in per_domain_accuracy.items():\n",
    "    per_domain_accuracy[domain] = {\n",
    "        \"accuracy\": accuracy,\n",
    "        \"source?\": domain in p.domains_source\n",
    "    }\n",
    "\n",
    "# Do an independent accuracy assesment JUST TO BE SURE!\n",
    "# _source_test_label_accuracy = independent_accuracy_assesment(model, datasets.source.processed.test, p.device)\n",
    "# _target_test_label_accuracy = independent_accuracy_assesment(model, datasets.target.processed.test, p.device)\n",
    "# _source_val_label_accuracy = independent_accuracy_assesment(model, datasets.source.processed.val, p.device)\n",
    "# _target_val_label_accuracy = independent_accuracy_assesment(model, datasets.target.processed.val, p.device)\n",
    "\n",
    "# assert(_source_test_label_accuracy == source_test_label_accuracy)\n",
    "# assert(_target_test_label_accuracy == target_test_label_accuracy)\n",
    "# assert(_source_val_label_accuracy == source_val_label_accuracy)\n",
    "# assert(_target_val_label_accuracy == target_val_label_accuracy)\n",
    "\n",
    "experiment = {\n",
    "    \"experiment_name\": p.experiment_name,\n",
    "    \"parameters\": dict(p),\n",
    "    \"results\": {\n",
    "        \"source_test_label_accuracy\": source_test_label_accuracy,\n",
    "        \"source_test_label_loss\": source_test_label_loss,\n",
    "        \"target_test_label_accuracy\": target_test_label_accuracy,\n",
    "        \"target_test_label_loss\": target_test_label_loss,\n",
    "        \"source_val_label_accuracy\": source_val_label_accuracy,\n",
    "        \"source_val_label_loss\": source_val_label_loss,\n",
    "        \"target_val_label_accuracy\": target_val_label_accuracy,\n",
    "        \"target_val_label_loss\": target_val_label_loss,\n",
    "        \"total_epochs_trained\": total_epochs_trained,\n",
    "        \"total_experiment_time_secs\": total_experiment_time_secs,\n",
    "        \"confusion\": confusion,\n",
    "        \"per_domain_accuracy\": per_domain_accuracy,\n",
    "    },\n",
    "    \"history\": history,\n",
    "    \"dataset_metrics\": get_dataset_metrics(datasets, \"ptn\"),\n",
    "}"
   ]
  },
  {
   "cell_type": "code",
   "execution_count": 16,
   "id": "54a21829",
   "metadata": {
    "execution": {
     "iopub.execute_input": "2022-04-01T19:13:12.653620Z",
     "iopub.status.busy": "2022-04-01T19:13:12.653210Z",
     "iopub.status.idle": "2022-04-01T19:13:12.779410Z",
     "shell.execute_reply": "2022-04-01T19:13:12.779168Z"
    },
    "papermill": {
     "duration": 0.171972,
     "end_time": "2022-04-01T19:13:12.779474",
     "exception": false,
     "start_time": "2022-04-01T19:13:12.607502",
     "status": "completed"
    },
    "tags": []
   },
   "outputs": [
    {
     "data": {
      "image/png": "[encoded data removed]",
      "text/plain": [
       "<Figure size 1080x504 with 1 Axes>"
      ]
     },
     "metadata": {
      "needs_background": "light"
     },
     "output_type": "display_data"
    }
   ],
   "source": [
    "ax = get_loss_curve(experiment)\n",
    "plt.show()"
   ]
  },
  {
   "cell_type": "code",
   "execution_count": 17,
   "id": "fd8a0f60",
   "metadata": {
    "execution": {
     "iopub.execute_input": "2022-04-01T19:13:12.871838Z",
     "iopub.status.busy": "2022-04-01T19:13:12.871434Z",
     "iopub.status.idle": "2022-04-01T19:13:13.013862Z",
     "shell.execute_reply": "2022-04-01T19:13:13.014082Z"
    },
    "papermill": {
     "duration": 0.189723,
     "end_time": "2022-04-01T19:13:13.014166",
     "exception": false,
     "start_time": "2022-04-01T19:13:12.824443",
     "status": "completed"
    },
    "tags": []
   },
   "outputs": [
    {
     "data": {
      "text/plain": [
       "<AxesSubplot:title={'center':'Results'}>"
      ]
     },
     "execution_count": 17,
     "metadata": {},
     "output_type": "execute_result"
    },
    {
     "data": {
      "image/png": "[encoded data removed]",
      "text/plain": [
       "<Figure size 1080x504 with 1 Axes>"
      ]
     },
     "metadata": {
      "needs_background": "light"
     },
     "output_type": "display_data"
    }
   ],
   "source": [
    "get_results_table(experiment)"
   ]
  },
  {
   "cell_type": "code",
   "execution_count": 18,
   "id": "cf8dc689",
   "metadata": {
    "execution": {
     "iopub.execute_input": "2022-04-01T19:13:13.108798Z",
     "iopub.status.busy": "2022-04-01T19:13:13.108400Z",
     "iopub.status.idle": "2022-04-01T19:13:13.222335Z",
     "shell.execute_reply": "2022-04-01T19:13:13.222052Z"
    },
    "papermill": {
     "duration": 0.162067,
     "end_time": "2022-04-01T19:13:13.222400",
     "exception": false,
     "start_time": "2022-04-01T19:13:13.060333",
     "status": "completed"
    },
    "tags": []
   },
   "outputs": [
    {
     "data": {
      "text/plain": [
       "<AxesSubplot:title={'center':'Per Domain Validation Accuracy'}, xlabel='domain'>"
      ]
     },
     "execution_count": 18,
     "metadata": {},
     "output_type": "execute_result"
    },
    {
     "data": {
      "image/png": "[encoded data removed]",
      "text/plain": [
       "<Figure size 1080x504 with 1 Axes>"
      ]
     },
     "metadata": {
      "needs_background": "light"
     },
     "output_type": "display_data"
    }
   ],
   "source": [
    "get_domain_accuracies(experiment)"
   ]
  },
  {
   "cell_type": "code",
   "execution_count": 19,
   "id": "a74ae082",
   "metadata": {
    "execution": {
     "iopub.execute_input": "2022-04-01T19:13:13.318476Z",
     "iopub.status.busy": "2022-04-01T19:13:13.318072Z",
     "iopub.status.idle": "2022-04-01T19:13:13.330770Z",
     "shell.execute_reply": "2022-04-01T19:13:13.330500Z"
    },
    "papermill": {
     "duration": 0.061372,
     "end_time": "2022-04-01T19:13:13.330841",
     "exception": false,
     "start_time": "2022-04-01T19:13:13.269469",
     "status": "completed"
    },
    "tags": []
   },
   "outputs": [
    {
     "name": "stdout",
     "output_type": "stream",
     "text": [
      "Source Test Label Accuracy: 0.6000868055555556 Target Test Label Accuracy: 0.4911979166666667\n",
      "Source Val Label Accuracy: 0.6001736111111111 Target Val Label Accuracy: 0.4953125\n"
     ]
    }
   ],
   "source": [
    "print(\"Source Test Label Accuracy:\", experiment[\"results\"][\"source_test_label_accuracy\"], \"Target Test Label Accuracy:\", experiment[\"results\"][\"target_test_label_accuracy\"])\n",
    "print(\"Source Val Label Accuracy:\", experiment[\"results\"][\"source_val_label_accuracy\"], \"Target Val Label Accuracy:\", experiment[\"results\"][\"target_val_label_accuracy\"])"
   ]
  },
  {
   "cell_type": "code",
   "execution_count": 20,
   "id": "dacca602",
   "metadata": {
    "execution": {
     "iopub.execute_input": "2022-04-01T19:13:13.428414Z",
     "iopub.status.busy": "2022-04-01T19:13:13.428015Z",
     "iopub.status.idle": "2022-04-01T19:13:13.440443Z",
     "shell.execute_reply": "2022-04-01T19:13:13.440662Z"
    },
    "papermill": {
     "duration": 0.061361,
     "end_time": "2022-04-01T19:13:13.440734",
     "exception": false,
     "start_time": "2022-04-01T19:13:13.379373",
     "status": "completed"
    },
    "tags": [
     "experiment_json"
    ]
   },
   "outputs": [
    {
     "data": {
      "text/plain": [
       "'{\"experiment_name\": \"tuned_1v2:oracle.run2_limited\", \"parameters\": {\"experiment_name\": \"tuned_1v2:oracle.run2_limited\", \"device\": \"cuda\", \"lr\": 0.0001, \"labels_source\": [\"3123D52\", \"3123D65\", \"3123D79\", \"3123D80\", \"3123D54\", \"3123D70\", \"3123D7B\", \"3123D89\", \"3123D58\", \"3123D76\", \"3123D7D\", \"3123EFE\", \"3123D64\", \"3123D78\", \"3123D7E\", \"3124E4A\"], \"labels_target\": [\"3123D52\", \"3123D65\", \"3123D79\", \"3123D80\", \"3123D54\", \"3123D70\", \"3123D7B\", \"3123D89\", \"3123D58\", \"3123D76\", \"3123D7D\", \"3123EFE\", \"3123D64\", \"3123D78\", \"3123D7E\", \"3124E4A\"], \"episode_transforms_source\": [], \"episode_transforms_target\": [], \"domains_source\": [8, 32, 50], \"domains_target\": [14, 20, 26, 38, 44], \"num_examples_per_domain_per_label_source\": 2000, \"num_examples_per_domain_per_label_target\": 2000, \"n_shot\": 3, \"n_way\": 16, \"n_query\": 2, \"train_k_factor\": 3, \"val_k_factor\": 2, \"test_k_factor\": 2, \"torch_default_dtype\": \"torch.float32\", \"n_epoch\": 50, \"patience\": 3, \"criteria_for_best\": \"target_accuracy\", \"x_net\": [{\"class\": \"nnReshape\", \"kargs\": {\"shape\": [-1, 1, 2, 256]}}, {\"class\": \"Conv2d\", \"kargs\": {\"in_channels\": 1, \"out_channels\": 256, \"kernel_size\": [1, 7], \"bias\": false, \"padding\": [0, 3]}}, {\"class\": \"ReLU\", \"kargs\": {\"inplace\": true}}, {\"class\": \"BatchNorm2d\", \"kargs\": {\"num_features\": 256}}, {\"class\": \"Conv2d\", \"kargs\": {\"in_channels\": 256, \"out_channels\": 80, \"kernel_size\": [2, 7], \"bias\": true, \"padding\": [0, 3]}}, {\"class\": \"ReLU\", \"kargs\": {\"inplace\": true}}, {\"class\": \"BatchNorm2d\", \"kargs\": {\"num_features\": 80}}, {\"class\": \"Flatten\", \"kargs\": {}}, {\"class\": \"Linear\", \"kargs\": {\"in_features\": 20480, \"out_features\": 256}}, {\"class\": \"ReLU\", \"kargs\": {\"inplace\": true}}, {\"class\": \"BatchNorm1d\", \"kargs\": {\"num_features\": 256}}, {\"class\": \"Linear\", \"kargs\": {\"in_features\": 256, \"out_features\": 256}}], \"NUM_LOGS_PER_EPOCH\": 10, \"BEST_MODEL_PATH\": \"./best_model.pth\", \"pickle_name\": \"oracle.Run2_10kExamples_stratified_ds.2022A.pkl\", \"x_transforms_source\": [\"unit_power\"], \"x_transforms_target\": [\"unit_power\"], \"dataset_seed\": 154325, \"seed\": 154325}, \"results\": {\"source_test_label_accuracy\": 0.6000868055555556, \"source_test_label_loss\": 1.5993036031723022, \"target_test_label_accuracy\": 0.4911979166666667, \"target_test_label_loss\": 2.176332950592041, \"source_val_label_accuracy\": 0.6001736111111111, \"source_val_label_loss\": 1.5712916851043701, \"target_val_label_accuracy\": 0.4953125, \"target_val_label_loss\": 2.2161214351654053, \"total_epochs_trained\": 16, \"total_experiment_time_secs\": 1163.2273225784302, \"confusion\": {\"32\": {\"13\": {\"8\": 25, \"5\": 7, \"4\": 43, \"13\": 81, \"11\": 24, \"7\": 39, \"3\": 7, \"0\": 14}, \"9\": {\"9\": 228, \"14\": 11, \"12\": 1}, \"15\": {\"15\": 231, \"8\": 5, \"13\": 1, \"5\": 3}, \"2\": {\"2\": 131, \"0\": 18, \"11\": 16, \"14\": 43, \"5\": 20, \"7\": 3, \"13\": 1, \"4\": 7, \"8\": 1}, \"3\": {\"3\": 217, \"13\": 11, \"7\": 3, \"8\": 9}, \"8\": {\"13\": 35, \"8\": 120, \"4\": 31, \"5\": 23, \"3\": 8, \"0\": 16, \"15\": 5, \"11\": 2}, \"5\": {\"8\": 27, \"0\": 42, \"5\": 75, \"2\": 33, \"14\": 17, \"11\": 3, \"3\": 2, \"4\": 28, \"13\": 10, \"15\": 2, \"7\": 1}, \"14\": {\"14\": 179, \"2\": 53, \"5\": 7, \"11\": 1}, \"1\": {\"1\": 236, \"10\": 4}, \"0\": {\"5\": 43, \"0\": 45, \"4\": 35, \"13\": 11, \"2\": 36, \"14\": 3, \"7\": 18, \"11\": 33, \"8\": 16}, \"10\": {\"10\": 237, \"1\": 3}, \"6\": {\"6\": 240}, \"11\": {\"7\": 60, \"11\": 69, \"13\": 27, \"2\": 23, \"0\": 29, \"4\": 21, \"5\": 8, \"8\": 2, \"14\": 1}, \"7\": {\"13\": 53, \"7\": 91, \"11\": 60, \"2\": 7, \"0\": 10, \"4\": 13, \"8\": 3, \"5\": 2, \"3\": 1}, \"4\": {\"11\": 34, \"13\": 34, \"4\": 49, \"5\": 20, \"0\": 55, \"7\": 21, \"14\": 1, \"8\": 17, \"2\": 9}, \"12\": {\"12\": 240}}, \"50\": {\"10\": {\"10\": 143, \"5\": 11, \"0\": 20, \"13\": 42, \"7\": 23, \"4\": 1}, \"12\": {\"14\": 10, \"12\": 198, \"11\": 8, \"9\": 24}, \"1\": {\"1\": 130, \"6\": 74, \"4\": 15, \"15\": 14, \"2\": 3, \"14\": 1, \"0\": 1, \"5\": 2}, \"0\": {\"0\": 189, \"10\": 11, \"2\": 32, \"13\": 1, \"5\": 3, \"4\": 3, \"1\": 1}, \"15\": {\"15\": 201, \"11\": 15, \"1\": 18, \"14\": 4, \"6\": 2}, \"13\": {\"7\": 79, \"13\": 92, \"5\": 14, \"10\": 55}, \"8\": {\"8\": 228, \"3\": 11, \"13\": 1}, \"3\": {\"3\": 214, \"8\": 26}, \"11\": {\"11\": 171, \"15\": 14, \"12\": 19, \"14\": 32, \"9\": 4}, \"4\": {\"4\": 117, \"1\": 21, \"6\": 35, \"5\": 54, \"0\": 6, \"7\": 3, \"13\": 3, \"10\": 1}, \"6\": {\"1\": 80, \"15\": 1, \"6\": 87, \"4\": 49, \"2\": 11, \"5\": 10, \"0\": 2}, \"7\": {\"13\": 85, \"4\": 4, \"7\": 93, \"10\": 39, \"5\": 18, \"6\": 1}, \"14\": {\"14\": 212, \"12\": 14, \"11\": 11, \"15\": 3}, \"2\": {\"2\": 213, \"0\": 23, \"6\": 2, \"4\": 1, \"1\": 1}, \"5\": {\"5\": 93, \"4\": 75, \"10\": 16, \"1\": 4, \"7\": 19, \"13\": 12, \"6\": 11, \"0\": 10}, \"9\": {\"9\": 211, \"12\": 25, \"11\": 4}}, \"8\": {\"14\": {\"14\": 79, \"13\": 42, \"10\": 21, \"6\": 25, \"0\": 55, \"1\": 6, \"4\": 10, \"7\": 2}, \"10\": {\"5\": 39, \"13\": 20, \"1\": 29, \"10\": 90, \"14\": 18, \"0\": 44}, \"2\": {\"2\": 132, \"7\": 54, \"4\": 30, \"6\": 17, \"15\": 3, \"8\": 2, \"3\": 1, \"14\": 1}, \"8\": {\"8\": 130, \"7\": 24, \"11\": 25, \"15\": 18, \"13\": 3, \"6\": 14, \"4\": 15, \"14\": 3, \"2\": 7, \"1\": 1}, \"6\": {\"6\": 73, \"14\": 26, \"7\": 45, \"4\": 55, \"2\": 24, \"8\": 9, \"13\": 4, \"0\": 4}, \"7\": {\"4\": 57, \"2\": 50, \"6\": 46, \"7\": 64, \"8\": 17, \"15\": 5, \"14\": 1}, \"9\": {\"9\": 239, \"5\": 1}, \"11\": {\"12\": 30, \"11\": 85, \"15\": 52, \"8\": 54, \"6\": 4, \"7\": 5, \"3\": 7, \"4\": 2, \"14\": 1}, \"12\": {\"12\": 125, \"15\": 39, \"3\": 59, \"11\": 17}, \"13\": {\"13\": 105, \"10\": 30, \"5\": 1, \"1\": 32, \"0\": 22, \"14\": 43, \"4\": 1, \"6\": 5, \"8\": 1}, \"0\": {\"14\": 65, \"0\": 104, \"10\": 40, \"13\": 19, \"6\": 5, \"1\": 2, \"5\": 3, \"4\": 2}, \"3\": {\"15\": 16, \"3\": 161, \"12\": 59, \"11\": 2, \"2\": 2}, \"4\": {\"4\": 81, \"6\": 65, \"7\": 44, \"2\": 27, \"8\": 9, \"13\": 2, \"14\": 10, \"0\": 1, \"11\": 1}, \"15\": {\"11\": 54, \"15\": 85, \"12\": 44, \"7\": 5, \"6\": 2, \"3\": 20, \"2\": 8, \"8\": 21, \"4\": 1}, \"5\": {\"5\": 159, \"1\": 33, \"10\": 36, \"13\": 7, \"0\": 3, \"14\": 2}, \"1\": {\"1\": 141, \"5\": 25, \"13\": 42, \"10\": 24, \"0\": 5, \"14\": 3}}, \"44\": {\"13\": {\"13\": 210, \"6\": 10, \"4\": 18, \"9\": 1, \"7\": 1}, \"9\": {\"7\": 66, \"2\": 81, \"9\": 72, \"11\": 1, \"6\": 13, \"1\": 4, \"3\": 3}, \"15\": {\"15\": 171, \"4\": 19, \"14\": 43, \"8\": 4, \"5\": 3}, \"2\": {\"2\": 108, \"7\": 50, \"1\": 2, \"9\": 78, \"3\": 2}, \"3\": {\"12\": 21, \"3\": 182, \"1\": 33, \"9\": 1, \"2\": 2, \"7\": 1}, \"8\": {\"0\": 97, \"8\": 134, \"15\": 3, \"5\": 5, \"14\": 1}, \"5\": {\"5\": 181, \"8\": 11, \"15\": 3, \"0\": 6, \"14\": 39}, \"14\": {\"14\": 159, \"5\": 24, \"15\": 47, \"4\": 9, \"8\": 1}, \"1\": {\"1\": 112, \"12\": 75, \"3\": 37, \"7\": 8, \"10\": 4, \"9\": 1, \"2\": 3}, \"0\": {\"0\": 142, \"15\": 2, \"8\": 92, \"5\": 4}, \"10\": {\"10\": 224, \"1\": 5, \"12\": 11}, \"6\": {\"9\": 23, \"6\": 168, \"7\": 3, \"11\": 32, \"13\": 9, \"2\": 5}, \"11\": {\"6\": 42, \"11\": 191, \"7\": 4, \"9\": 3}, \"7\": {\"7\": 102, \"9\": 63, \"11\": 1, \"2\": 58, \"3\": 5, \"6\": 6, \"1\": 5}, \"4\": {\"4\": 203, \"14\": 14, \"15\": 15, \"13\": 8}, \"12\": {\"3\": 24, \"1\": 71, \"12\": 138, \"10\": 5, \"7\": 2}}, \"38\": {\"13\": {\"1\": 37, \"2\": 4, \"13\": 42, \"15\": 50, \"8\": 32, \"7\": 9, \"3\": 23, \"5\": 27, \"6\": 8, \"10\": 2, \"14\": 4, \"0\": 2}, \"12\": {\"12\": 210, \"14\": 11, \"5\": 2, \"4\": 15, \"10\": 1, \"7\": 1}, \"2\": {\"2\": 208, \"14\": 29, \"11\": 3}, \"9\": {\"9\": 125, \"6\": 101, \"3\": 12, \"0\": 2}, \"15\": {\"15\": 76, \"13\": 38, \"8\": 29, \"1\": 27, \"3\": 31, \"10\": 5, \"7\": 6, \"5\": 26, \"6\": 2}, \"5\": {\"8\": 63, \"7\": 22, \"5\": 79, \"15\": 36, \"3\": 3, \"13\": 27, \"1\": 4, \"10\": 6}, \"14\": {\"2\": 62, \"14\": 106, \"11\": 31, \"13\": 3, \"12\": 34, \"5\": 2, \"7\": 1, \"8\": 1}, \"0\": {\"0\": 158, \"3\": 52, \"10\": 7, \"6\": 9, \"15\": 1, \"9\": 12, \"7\": 1}, \"3\": {\"7\": 8, \"5\": 11, \"10\": 15, \"6\": 31, \"0\": 46, \"8\": 12, \"3\": 52, \"13\": 15, \"9\": 25, \"15\": 22, \"1\": 2, \"14\": 1}, \"1\": {\"1\": 192, \"15\": 22, \"13\": 22, \"8\": 3, \"3\": 1}, \"11\": {\"11\": 180, \"14\": 42, \"2\": 3, \"12\": 15}, \"7\": {\"7\": 91, \"8\": 27, \"3\": 6, \"10\": 69, \"5\": 24, \"13\": 10, \"15\": 8, \"12\": 2, \"0\": 2, \"14\": 1}, \"8\": {\"7\": 21, \"5\": 59, \"15\": 42, \"8\": 59, \"13\": 37, \"1\": 1, \"10\": 13, \"3\": 8}, \"4\": {\"12\": 30, \"10\": 7, \"4\": 201, \"7\": 2}, \"10\": {\"10\": 112, \"5\": 13, \"7\": 74, \"3\": 10, \"8\": 12, \"13\": 4, \"15\": 7, \"0\": 7, \"12\": 1}, \"6\": {\"9\": 71, \"6\": 153, \"3\": 15, \"13\": 1}}, \"26\": {\"10\": {\"0\": 29, \"10\": 42, \"6\": 27, \"3\": 4, \"1\": 36, \"14\": 43, \"12\": 2, \"2\": 7, \"7\": 6, \"4\": 15, \"8\": 16, \"15\": 2, \"5\": 5, \"9\": 5, \"13\": 1}, \"12\": {\"12\": 226, \"11\": 14}, \"1\": {\"14\": 43, \"0\": 34, \"1\": 85, \"10\": 40, \"4\": 10, \"6\": 13, \"8\": 6, \"2\": 4, \"9\": 1, \"15\": 1, \"7\": 3}, \"0\": {\"9\": 10, \"4\": 25, \"10\": 25, \"14\": 49, \"1\": 32, \"8\": 20, \"0\": 49, \"7\": 7, \"6\": 3, \"2\": 9, \"15\": 3, \"3\": 5, \"13\": 2, \"5\": 1}, \"15\": {\"3\": 80, \"4\": 15, \"15\": 92, \"7\": 25, \"2\": 20, \"9\": 1, \"5\": 1, \"0\": 3, \"13\": 1, \"14\": 1, \"1\": 1}, \"13\": {\"13\": 105, \"6\": 29, \"5\": 48, \"9\": 32, \"2\": 6, \"7\": 7, \"1\": 1, \"8\": 7, \"10\": 2, \"14\": 1, \"0\": 1, \"3\": 1}, \"8\": {\"7\": 24, \"6\": 16, \"5\": 11, \"10\": 9, \"8\": 52, \"1\": 14, \"9\": 31, \"14\": 22, \"0\": 17, \"4\": 15, \"13\": 6, \"2\": 18, \"3\": 3, \"15\": 2}, \"3\": {\"4\": 20, \"2\": 21, \"15\": 87, \"7\": 24, \"3\": 80, \"9\": 2, \"14\": 3, \"0\": 3}, \"11\": {\"11\": 225, \"12\": 15}, \"4\": {\"0\": 24, \"4\": 57, \"9\": 5, \"3\": 31, \"14\": 21, \"2\": 31, \"15\": 18, \"10\": 3, \"8\": 12, \"7\": 25, \"1\": 12, \"6\": 1}, \"6\": {\"9\": 18, \"6\": 103, \"5\": 34, \"1\": 6, \"13\": 39, \"14\": 6, \"10\": 18, \"8\": 13, \"0\": 1, \"4\": 1, \"2\": 1}, \"7\": {\"13\": 4, \"8\": 19, \"3\": 28, \"7\": 43, \"0\": 16, \"9\": 24, \"4\": 24, \"14\": 6, \"15\": 16, \"2\": 47, \"5\": 12, \"10\": 1}, \"14\": {\"0\": 42, \"8\": 18, \"14\": 41, \"4\": 18, \"1\": 52, \"5\": 4, \"10\": 34, \"2\": 7, \"9\": 8, \"7\": 4, \"6\": 9, \"15\": 3}, \"2\": {\"15\": 30, \"7\": 53, \"3\": 33, \"2\": 55, \"4\": 21, \"8\": 15, \"9\": 10, \"0\": 10, \"13\": 3, \"5\": 3, \"14\": 3, \"1\": 1, \"10\": 3}, \"5\": {\"15\": 6, \"13\": 40, \"0\": 3, \"2\": 23, \"5\": 38, \"8\": 8, \"6\": 44, \"4\": 2, \"7\": 22, \"9\": 34, \"14\": 6, \"3\": 8, \"10\": 5, \"1\": 1}, \"9\": {\"13\": 39, \"9\": 35, \"5\": 43, \"7\": 22, \"6\": 24, \"8\": 29, \"14\": 10, \"4\": 3, \"2\": 12, \"0\": 5, \"3\": 4, \"1\": 1, \"10\": 10, \"15\": 3}}, \"20\": {\"5\": {\"9\": 25, \"2\": 33, \"14\": 2, \"1\": 11, \"15\": 21, \"3\": 23, \"5\": 26, \"0\": 18, \"13\": 24, \"10\": 6, \"4\": 22, \"12\": 13, \"8\": 5, \"7\": 11}, \"15\": {\"15\": 45, \"1\": 26, \"0\": 21, \"3\": 11, \"13\": 46, \"9\": 23, \"12\": 26, \"5\": 16, \"2\": 23, \"4\": 3}, \"9\": {\"13\": 33, \"5\": 28, \"3\": 28, \"15\": 24, \"4\": 18, \"0\": 13, \"2\": 27, \"9\": 24, \"12\": 19, \"7\": 9, \"1\": 13, \"8\": 3, \"10\": 1}, \"7\": {\"11\": 8, \"6\": 14, \"8\": 41, \"3\": 27, \"10\": 21, \"7\": 98, \"2\": 11, \"14\": 8, \"5\": 6, \"9\": 3, \"4\": 2, \"0\": 1}, \"3\": {\"2\": 32, \"13\": 12, \"3\": 52, \"7\": 38, \"15\": 10, \"8\": 19, \"4\": 12, \"5\": 26, \"9\": 19, \"12\": 4, \"10\": 10, \"6\": 2, \"0\": 2, \"14\": 1, \"11\": 1}, \"8\": {\"7\": 44, \"10\": 59, \"14\": 43, \"8\": 55, \"4\": 6, \"2\": 3, \"6\": 11, \"3\": 15, \"12\": 1, \"9\": 1, \"5\": 1, \"13\": 1}, \"4\": {\"4\": 109, \"5\": 17, \"8\": 6, \"12\": 19, \"0\": 30, \"14\": 3, \"10\": 13, \"15\": 7, \"3\": 10, \"2\": 7, \"1\": 10, \"9\": 5, \"13\": 3, \"7\": 1}, \"6\": {\"8\": 11, \"11\": 8, \"6\": 174, \"14\": 25, \"7\": 18, \"5\": 1, \"10\": 2, \"3\": 1}, \"2\": {\"9\": 27, \"5\": 32, \"2\": 42, \"15\": 18, \"3\": 38, \"13\": 28, \"1\": 7, \"4\": 8, \"7\": 14, \"0\": 8, \"12\": 14, \"8\": 3, \"10\": 1}, \"12\": {\"9\": 21, \"0\": 41, \"4\": 29, \"15\": 22, \"1\": 39, \"12\": 36, \"13\": 16, \"5\": 17, \"2\": 12, \"8\": 1, \"3\": 6}, \"0\": {\"4\": 28, \"12\": 31, \"9\": 10, \"0\": 55, \"5\": 15, \"1\": 60, \"15\": 19, \"7\": 1, \"13\": 7, \"2\": 11, \"3\": 3}, \"13\": {\"0\": 9, \"15\": 43, \"12\": 12, \"9\": 29, \"13\": 79, \"5\": 13, \"2\": 23, \"3\": 10, \"1\": 17, \"7\": 3, \"10\": 1, \"4\": 1}, \"10\": {\"4\": 8, \"10\": 74, \"7\": 23, \"8\": 58, \"6\": 10, \"14\": 45, \"3\": 16, \"2\": 2, \"9\": 2, \"5\": 1, \"11\": 1}, \"11\": {\"11\": 228, \"13\": 2, \"7\": 4, \"2\": 2, \"8\": 1, \"9\": 1, \"3\": 1, \"6\": 1}, \"14\": {\"14\": 92, \"7\": 18, \"6\": 45, \"8\": 42, \"10\": 37, \"3\": 5, \"4\": 1}, \"1\": {\"1\": 89, \"12\": 42, \"15\": 25, \"13\": 21, \"9\": 6, \"0\": 37, \"5\": 7, \"4\": 10, \"3\": 2, \"2\": 1}}, \"14\": {\"13\": {\"2\": 27, \"13\": 137, \"6\": 56, \"15\": 2, \"4\": 4, \"14\": 11, \"5\": 3}, \"4\": {\"4\": 62, \"5\": 57, \"1\": 40, \"3\": 43, \"2\": 26, \"6\": 4, \"14\": 6, \"13\": 2}, \"6\": {\"2\": 36, \"6\": 85, \"13\": 49, \"14\": 48, \"3\": 4, \"4\": 14, \"5\": 3, \"1\": 1}, \"0\": {\"0\": 207, \"10\": 17, \"3\": 10, \"14\": 2, \"8\": 2, \"9\": 2}, \"10\": {\"0\": 31, \"10\": 186, \"11\": 18, \"9\": 5}, \"7\": {\"7\": 194, \"15\": 41, \"1\": 5}, \"14\": {\"6\": 46, \"0\": 5, \"3\": 26, \"14\": 105, \"4\": 11, \"13\": 9, \"2\": 26, \"5\": 12}, \"15\": {\"15\": 178, \"7\": 61, \"1\": 1}, \"5\": {\"1\": 41, \"4\": 63, \"3\": 24, \"2\": 21, \"5\": 77, \"13\": 3, \"6\": 5, \"14\": 6}, \"2\": {\"4\": 23, \"13\": 27, \"3\": 20, \"2\": 63, \"6\": 33, \"14\": 29, \"5\": 20, \"1\": 19, \"7\": 3, \"15\": 3}, \"9\": {\"9\": 220, \"12\": 1, \"0\": 5, \"8\": 1, \"10\": 3, \"11\": 10}, \"12\": {\"11\": 57, \"0\": 12, \"12\": 128, \"9\": 21, \"10\": 12, \"8\": 10}, \"8\": {\"9\": 2, \"8\": 232, \"3\": 2, \"1\": 2, \"4\": 1, \"0\": 1}, \"3\": {\"14\": 22, \"3\": 137, \"4\": 42, \"8\": 10, \"0\": 6, \"1\": 4, \"5\": 8, \"2\": 9, \"6\": 2}, \"1\": {\"1\": 156, \"4\": 26, \"5\": 46, \"2\": 3, \"3\": 7, \"14\": 1, \"7\": 1}, \"11\": {\"12\": 18, \"11\": 196, \"10\": 10, \"9\": 16}}}, \"per_domain_accuracy\": {\"32\": {\"accuracy\": 0.64296875, \"source?\": true}, \"50\": {\"accuracy\": 0.675, \"source?\": true}, \"8\": {\"accuracy\": 0.4825520833333333, \"source?\": true}, \"44\": {\"accuracy\": 0.6502604166666667, \"source?\": false}, \"38\": {\"accuracy\": 0.5322916666666667, \"source?\": false}, \"26\": {\"accuracy\": 0.3458333333333333, \"source?\": false}, \"20\": {\"accuracy\": 0.3328125, \"source?\": false}, \"14\": {\"accuracy\": 0.6153645833333333, \"source?\": false}}}, \"history\": {\"epoch_indices\": [1, 2, 3, 4, 5, 6, 7, 8, 9, 10, 11, 12, 13, 14, 15, 16], \"train_label_loss\": [1.7869146166339753, 1.3392223189747523, 1.1726191932483325, 0.8819773513646353, 0.7076140656298588, 0.5703158428153349, 0.4676337639313369, 0.38102550299926885, 0.318626495623695, 0.26751588374775437, 0.22745291337533485, 0.20098772359501926, 0.17778887319986503, 0.15996846516093696, 0.14694734578009783, 0.13676947941218268], \"source_val_label_loss\": [1.501220703125, 1.3669034242630005, 1.2286605834960938, 1.1291526556015015, 1.1391422748565674, 1.188106656074524, 1.2461389303207397, 1.312778115272522, 1.3515210151672363, 1.4697376489639282, 1.5573456287384033, 1.5712916851043701, 1.6593190431594849, 1.7367877960205078, 1.7564650774002075, 1.8332867622375488], \"target_val_label_loss\": [1.9171611070632935, 1.8676259517669678, 1.627496600151062, 1.5528340339660645, 1.595753788948059, 1.699984073638916, 1.7593516111373901, 1.852631688117981, 1.9492661952972412, 2.091247081756592, 2.227633476257324, 2.2161214351654053, 2.3055245876312256, 2.4294662475585938, 2.484614133834839, 2.584597587585449], \"source_val_acc_label\": [0.39383680555555556, 0.43550347222222224, 0.5283854166666667, 0.5658854166666667, 0.5862847222222223, 0.5986979166666667, 0.5950520833333334, 0.5964409722222223, 0.6075520833333333, 0.5974826388888889, 0.6004340277777778, 0.6001736111111111, 0.5989583333333334, 0.5954861111111112, 0.6043402777777778, 0.5967013888888889], \"target_val_acc_label\": [0.27947916666666667, 0.3081770833333333, 0.43213541666666666, 0.46401041666666665, 0.48104166666666665, 0.48541666666666666, 0.48541666666666666, 0.49046875, 0.48973958333333334, 0.4856770833333333, 0.4894791666666667, 0.4953125, 0.49244791666666665, 0.479375, 0.48984375, 0.48802083333333335]}, \"dataset_metrics\": {\"source\": {\"train\": {\"n_unique_x\": 67200, \"n_unique_y\": 16, \"n_batch/episode\": 2520}, \"val\": {\"n_unique_x\": 14400, \"n_unique_y\": 16, \"n_batch/episode\": 360}, \"test\": {\"n_unique_x\": 14400, \"n_unique_y\": 16, \"n_batch/episode\": 360}}, \"target\": {\"train\": {\"n_unique_x\": 112000, \"n_unique_y\": 16, \"n_batch/episode\": 4200}, \"val\": {\"n_unique_x\": 24000, \"n_unique_y\": 16, \"n_batch/episode\": 600}, \"test\": {\"n_unique_x\": 24000, \"n_unique_y\": 16, \"n_batch/episode\": 600}}}}'"
      ]
     },
     "execution_count": 20,
     "metadata": {},
     "output_type": "execute_result"
    }
   ],
   "source": [
    "json.dumps(experiment)"
   ]
  }
 ],
 "metadata": {
  "celltoolbar": "Tags",
  "kernelspec": {
   "display_name": "Python 3 (ipykernel)",
   "language": "python",
   "name": "python3"
  },
  "language_info": {
   "codemirror_mode": {
    "name": "ipython",
    "version": 3
   },
   "file_extension": ".py",
   "mimetype": "text/x-python",
   "name": "python",
   "nbconvert_exporter": "python",
   "pygments_lexer": "ipython3",
   "version": "3.8.10"
  },
  "papermill": {
   "default_parameters": {},
   "duration": 1215.876693,
   "end_time": "2022-04-01T19:13:14.396598",
   "environment_variables": {},
   "exception": null,
   "input_path": "/mnt/wd500GB/CSC500/csc500-main/csc500-notebooks/templates/ptn_template.ipynb",
   "output_path": "trial.ipynb",
   "parameters": {
    "parameters": {
     "BEST_MODEL_PATH": "./best_model.pth",
     "NUM_LOGS_PER_EPOCH": 10,
     "criteria_for_best": "target_accuracy",
     "dataset_seed": 154325,
     "device": "cuda",
     "domains_source": [
      8,
      32,
      50
     ],
     "domains_target": [
      14,
      20,
      26,
      38,
      44
     ],
     "episode_transforms_source": [],
     "episode_transforms_target": [],
     "experiment_name": "tuned_1v2:oracle.run2_limited",
     "labels_source": [
      "3123D52",
      "3123D65",
      "3123D79",
      "3123D80",
      "3123D54",
      "3123D70",
      "3123D7B",
      "3123D89",
      "3123D58",
      "3123D76",
      "3123D7D",
      "3123EFE",
      "3123D64",
      "3123D78",
      "3123D7E",
      "3124E4A"
     ],
     "labels_target": [
      "3123D52",
      "3123D65",
      "3123D79",
      "3123D80",
      "3123D54",
      "3123D70",
      "3123D7B",
      "3123D89",
      "3123D58",
      "3123D76",
      "3123D7D",
      "3123EFE",
      "3123D64",
      "3123D78",
      "3123D7E",
      "3124E4A"
     ],
     "lr": 0.0001,
     "n_epoch": 50,
     "n_query": 2,
     "n_shot": 3,
     "n_way": 16,
     "num_examples_per_domain_per_label_source": 2000,
     "num_examples_per_domain_per_label_target": 2000,
     "patience": 3,
     "pickle_name": "oracle.Run2_10kExamples_stratified_ds.2022A.pkl",
     "seed": 154325,
     "test_k_factor": 2,
     "torch_default_dtype": "torch.float32",
     "train_k_factor": 3,
     "val_k_factor": 2,
     "x_net": [
      {
       "class": "nnReshape",
       "kargs": {
        "shape": [
         -1,
         1,
         2,
         256
        ]
       }
      },
      {
       "class": "Conv2d",
       "kargs": {
        "bias": false,
        "in_channels": 1,
        "kernel_size": [
         1,
         7
        ],
        "out_channels": 256,
        "padding": [
         0,
         3
        ]
       }
      },
      {
       "class": "ReLU",
       "kargs": {
        "inplace": true
       }
      },
      {
       "class": "BatchNorm2d",
       "kargs": {
        "num_features": 256
       }
      },
      {
       "class": "Conv2d",
       "kargs": {
        "bias": true,
        "in_channels": 256,
        "kernel_size": [
         2,
         7
        ],
        "out_channels": 80,
        "padding": [
         0,
         3
        ]
       }
      },
      {
       "class": "ReLU",
       "kargs": {
        "inplace": true
       }
      },
      {
       "class": "BatchNorm2d",
       "kargs": {
        "num_features": 80
       }
      },
      {
       "class": "Flatten",
       "kargs": {}
      },
      {
       "class": "Linear",
       "kargs": {
        "in_features": 20480,
        "out_features": 256
       }
      },
      {
       "class": "ReLU",
       "kargs": {
        "inplace": true
       }
      },
      {
       "class": "BatchNorm1d",
       "kargs": {
        "num_features": 256
       }
      },
      {
       "class": "Linear",
       "kargs": {
        "in_features": 256,
        "out_features": 256
       }
      }
     ],
     "x_transforms_source": [
      "unit_power"
     ],
     "x_transforms_target": [
      "unit_power"
     ]
    }
   },
   "start_time": "2022-04-01T18:52:58.519905",
   "version": "2.3.4"
  }
 },
 "nbformat": 4,
 "nbformat_minor": 5
}