{
 "cells": [
  {
   "cell_type": "markdown",
   "id": "9fea5f46",
   "metadata": {
    "papermill": {
     "duration": 0.020623,
     "end_time": "2022-03-26T18:57:13.646602",
     "exception": false,
     "start_time": "2022-03-26T18:57:13.625979",
     "status": "completed"
    },
    "tags": []
   },
   "source": [
    "# PTN Template\n",
    "This notebook serves as a template for single dataset PTN experiments  \n",
    "It can be run on its own by setting STANDALONE to True (do a find for \"STANDALONE\" to see where)  \n",
    "But it is intended to be executed as part of a *papermill.py script. See any of the   \n",
    "experimentes with a papermill script to get started with that workflow.  "
   ]
  },
  {
   "cell_type": "code",
   "execution_count": 1,
   "id": "0902182a",
   "metadata": {
    "execution": {
     "iopub.execute_input": "2022-03-26T18:57:13.695524Z",
     "iopub.status.busy": "2022-03-26T18:57:13.694652Z",
     "iopub.status.idle": "2022-03-26T18:57:15.697299Z",
     "shell.execute_reply": "2022-03-26T18:57:15.696408Z"
    },
    "papermill": {
     "duration": 2.036679,
     "end_time": "2022-03-26T18:57:15.697495",
     "exception": false,
     "start_time": "2022-03-26T18:57:13.660816",
     "status": "completed"
    },
    "tags": []
   },
   "outputs": [],
   "source": [
    "%load_ext autoreload\n",
    "%autoreload 2\n",
    "%matplotlib inline\n",
    "\n",
    "    \n",
    "import os, json, sys, time, random\n",
    "import numpy as np\n",
    "import torch\n",
    "from torch.optim import Adam\n",
    "from  easydict import EasyDict\n",
    "import matplotlib.pyplot as plt\n",
    "\n",
    "from steves_models.steves_ptn import Steves_Prototypical_Network\n",
    "\n",
    "from steves_utils.lazy_iterable_wrapper import Lazy_Iterable_Wrapper\n",
    "from steves_utils.iterable_aggregator import Iterable_Aggregator\n",
    "from steves_utils.ptn_train_eval_test_jig import  PTN_Train_Eval_Test_Jig\n",
    "from steves_utils.torch_sequential_builder import build_sequential\n",
    "from steves_utils.torch_utils import get_dataset_metrics, ptn_confusion_by_domain_over_dataloader\n",
    "from steves_utils.utils_v2 import (per_domain_accuracy_from_confusion, get_datasets_base_path)\n",
    "from steves_utils.PTN.utils import independent_accuracy_assesment\n",
    "\n",
    "from steves_utils.stratified_dataset.episodic_accessor import Episodic_Accessor_Factory\n",
    "\n",
    "from steves_utils.ptn_do_report import (\n",
    "    get_loss_curve,\n",
    "    get_results_table,\n",
    "    get_parameters_table,\n",
    "    get_domain_accuracies,\n",
    ")\n",
    "\n",
    "from steves_utils.transforms import get_chained_transform"
   ]
  },
  {
   "cell_type": "markdown",
   "id": "41c840b4",
   "metadata": {
    "papermill": {
     "duration": 0.013834,
     "end_time": "2022-03-26T18:57:15.729733",
     "exception": false,
     "start_time": "2022-03-26T18:57:15.715899",
     "status": "completed"
    },
    "tags": []
   },
   "source": [
    "# Required Parameters\n",
    "These are allowed parameters, not defaults\n",
    "Each of these values need to be present in the injected parameters (the notebook will raise an exception if they are not present)\n",
    "\n",
    "Papermill uses the cell tag \"parameters\" to inject the real parameters below this cell.\n",
    "Enable tags to see what I mean"
   ]
  },
  {
   "cell_type": "code",
   "execution_count": 2,
   "id": "fd44eb83",
   "metadata": {
    "execution": {
     "iopub.execute_input": "2022-03-26T18:57:15.761108Z",
     "iopub.status.busy": "2022-03-26T18:57:15.760721Z",
     "iopub.status.idle": "2022-03-26T18:57:15.780930Z",
     "shell.execute_reply": "2022-03-26T18:57:15.780121Z"
    },
    "papermill": {
     "duration": 0.037682,
     "end_time": "2022-03-26T18:57:15.781083",
     "exception": false,
     "start_time": "2022-03-26T18:57:15.743401",
     "status": "completed"
    },
    "tags": []
   },
   "outputs": [],
   "source": [
    "required_parameters = {\n",
    "    \"experiment_name\",\n",
    "    \"lr\",\n",
    "    \"device\",\n",
    "    \"seed\",\n",
    "    \"dataset_seed\",\n",
    "    \"labels_source\",\n",
    "    \"labels_target\",\n",
    "    \"domains_source\",\n",
    "    \"domains_target\",\n",
    "    \"num_examples_per_domain_per_label_source\",\n",
    "    \"num_examples_per_domain_per_label_target\",\n",
    "    \"n_shot\",\n",
    "    \"n_way\",\n",
    "    \"n_query\",\n",
    "    \"train_k_factor\",\n",
    "    \"val_k_factor\",\n",
    "    \"test_k_factor\",\n",
    "    \"n_epoch\",\n",
    "    \"patience\",\n",
    "    \"criteria_for_best\",\n",
    "    \"x_transforms_source\",\n",
    "    \"x_transforms_target\",\n",
    "    \"episode_transforms_source\",\n",
    "    \"episode_transforms_target\",\n",
    "    \"pickle_name\",\n",
    "    \"x_net\",\n",
    "    \"NUM_LOGS_PER_EPOCH\",\n",
    "    \"BEST_MODEL_PATH\",\n",
    "    \"torch_default_dtype\"\n",
    "}"
   ]
  },
  {
   "cell_type": "code",
   "execution_count": 3,
   "id": "fa3f0049",
   "metadata": {
    "execution": {
     "iopub.execute_input": "2022-03-26T18:57:15.825472Z",
     "iopub.status.busy": "2022-03-26T18:57:15.824560Z",
     "iopub.status.idle": "2022-03-26T18:57:15.846199Z",
     "shell.execute_reply": "2022-03-26T18:57:15.845402Z"
    },
    "papermill": {
     "duration": 0.045086,
     "end_time": "2022-03-26T18:57:15.846350",
     "exception": false,
     "start_time": "2022-03-26T18:57:15.801264",
     "status": "completed"
    },
    "tags": [
     "parameters"
    ]
   },
   "outputs": [],
   "source": [
    "\n",
    "\n",
    "standalone_parameters = {}\n",
    "standalone_parameters[\"experiment_name\"] = \"STANDALONE PTN\"\n",
    "standalone_parameters[\"lr\"] = 0.0001\n",
    "standalone_parameters[\"device\"] = \"cuda\"\n",
    "\n",
    "standalone_parameters[\"seed\"] = 1337\n",
    "standalone_parameters[\"dataset_seed\"] = 1337\n",
    "\n",
    "\n",
    "standalone_parameters[\"num_examples_per_domain_per_label_source\"]=100\n",
    "standalone_parameters[\"num_examples_per_domain_per_label_target\"]=100\n",
    "\n",
    "standalone_parameters[\"n_shot\"] = 3\n",
    "standalone_parameters[\"n_query\"]  = 2\n",
    "standalone_parameters[\"train_k_factor\"] = 1\n",
    "standalone_parameters[\"val_k_factor\"] = 2\n",
    "standalone_parameters[\"test_k_factor\"] = 2\n",
    "\n",
    "\n",
    "standalone_parameters[\"n_epoch\"] = 100\n",
    "\n",
    "standalone_parameters[\"patience\"] = 10\n",
    "standalone_parameters[\"criteria_for_best\"] = \"target_accuracy\"\n",
    "\n",
    "standalone_parameters[\"x_transforms_source\"] = [\"unit_power\"]\n",
    "standalone_parameters[\"x_transforms_target\"] = [\"unit_power\"]\n",
    "standalone_parameters[\"episode_transforms_source\"] = []\n",
    "standalone_parameters[\"episode_transforms_target\"] = []\n",
    "\n",
    "standalone_parameters[\"torch_default_dtype\"] = \"torch.float32\" \n",
    "\n",
    "\n",
    "\n",
    "standalone_parameters[\"x_net\"] =     [\n",
    "    {\"class\": \"nnReshape\", \"kargs\": {\"shape\":[-1, 1, 2, 256]}},\n",
    "    {\"class\": \"Conv2d\", \"kargs\": { \"in_channels\":1, \"out_channels\":256, \"kernel_size\":(1,7), \"bias\":False, \"padding\":(0,3), },},\n",
    "    {\"class\": \"ReLU\", \"kargs\": {\"inplace\": True}},\n",
    "    {\"class\": \"BatchNorm2d\", \"kargs\": {\"num_features\":256}},\n",
    "\n",
    "    {\"class\": \"Conv2d\", \"kargs\": { \"in_channels\":256, \"out_channels\":80, \"kernel_size\":(2,7), \"bias\":True, \"padding\":(0,3), },},\n",
    "    {\"class\": \"ReLU\", \"kargs\": {\"inplace\": True}},\n",
    "    {\"class\": \"BatchNorm2d\", \"kargs\": {\"num_features\":80}},\n",
    "    {\"class\": \"Flatten\", \"kargs\": {}},\n",
    "\n",
    "    {\"class\": \"Linear\", \"kargs\": {\"in_features\": 80*256, \"out_features\": 256}}, # 80 units per IQ pair\n",
    "    {\"class\": \"ReLU\", \"kargs\": {\"inplace\": True}},\n",
    "    {\"class\": \"BatchNorm1d\", \"kargs\": {\"num_features\":256}},\n",
    "\n",
    "    {\"class\": \"Linear\", \"kargs\": {\"in_features\": 256, \"out_features\": 256}},\n",
    "]\n",
    "\n",
    "# Parameters relevant to results\n",
    "# These parameters will basically never need to change\n",
    "standalone_parameters[\"NUM_LOGS_PER_EPOCH\"] = 10\n",
    "standalone_parameters[\"BEST_MODEL_PATH\"] = \"./best_model.pth\"\n",
    "\n",
    "# uncomment for CORES dataset\n",
    "from steves_utils.CORES.utils import (\n",
    "    ALL_NODES,\n",
    "    ALL_NODES_MINIMUM_1000_EXAMPLES,\n",
    "    ALL_DAYS\n",
    ")\n",
    "\n",
    "\n",
    "standalone_parameters[\"labels_source\"] = ALL_NODES\n",
    "standalone_parameters[\"labels_target\"] = ALL_NODES\n",
    "\n",
    "standalone_parameters[\"domains_source\"] = [1]\n",
    "standalone_parameters[\"domains_target\"] = [2,3,4,5]\n",
    "\n",
    "standalone_parameters[\"pickle_name\"] = \"cores.stratified_ds.2022A.pkl\"\n",
    "\n",
    "\n",
    "# Uncomment these for ORACLE dataset\n",
    "# from steves_utils.ORACLE.utils_v2 import (\n",
    "#     ALL_DISTANCES_FEET,\n",
    "#     ALL_RUNS,\n",
    "#     ALL_SERIAL_NUMBERS,\n",
    "# )\n",
    "# standalone_parameters[\"labels_source\"] = ALL_SERIAL_NUMBERS\n",
    "# standalone_parameters[\"labels_target\"] = ALL_SERIAL_NUMBERS\n",
    "# standalone_parameters[\"domains_source\"] = [8,20, 38,50]\n",
    "# standalone_parameters[\"domains_target\"] = [14, 26, 32, 44, 56]\n",
    "# standalone_parameters[\"pickle_name\"] = \"oracle.frame_indexed.stratified_ds.2022A.pkl\"\n",
    "# standalone_parameters[\"num_examples_per_domain_per_label_source\"]=1000\n",
    "# standalone_parameters[\"num_examples_per_domain_per_label_target\"]=1000\n",
    "\n",
    "# Uncomment these for Metahan dataset\n",
    "# standalone_parameters[\"labels_source\"] = list(range(19))\n",
    "# standalone_parameters[\"labels_target\"] = list(range(19))\n",
    "# standalone_parameters[\"domains_source\"] = [0]\n",
    "# standalone_parameters[\"domains_target\"] = [1]\n",
    "# standalone_parameters[\"pickle_name\"] = \"metehan.stratified_ds.2022A.pkl\"\n",
    "# standalone_parameters[\"n_way\"]  = len(standalone_parameters[\"labels_source\"])\n",
    "# standalone_parameters[\"num_examples_per_domain_per_label_source\"]=200\n",
    "# standalone_parameters[\"num_examples_per_domain_per_label_target\"]=100\n",
    "\n",
    "\n",
    "standalone_parameters[\"n_way\"]  = len(standalone_parameters[\"labels_source\"])"
   ]
  },
  {
   "cell_type": "code",
   "execution_count": 4,
   "id": "573d7d17",
   "metadata": {
    "execution": {
     "iopub.execute_input": "2022-03-26T18:57:15.888138Z",
     "iopub.status.busy": "2022-03-26T18:57:15.887501Z",
     "iopub.status.idle": "2022-03-26T18:57:15.907797Z",
     "shell.execute_reply": "2022-03-26T18:57:15.906963Z"
    },
    "papermill": {
     "duration": 0.041977,
     "end_time": "2022-03-26T18:57:15.907949",
     "exception": false,
     "start_time": "2022-03-26T18:57:15.865972",
     "status": "completed"
    },
    "tags": [
     "injected-parameters"
    ]
   },
   "outputs": [],
   "source": [
    "# Parameters\n",
    "parameters = {\n",
    "    \"experiment_name\": \"tuned_1v2:oracle.run2_limited\",\n",
    "    \"device\": \"cuda\",\n",
    "    \"lr\": 0.0001,\n",
    "    \"labels_source\": [\n",
    "        \"3123D52\",\n",
    "        \"3123D65\",\n",
    "        \"3123D79\",\n",
    "        \"3123D80\",\n",
    "        \"3123D54\",\n",
    "        \"3123D70\",\n",
    "        \"3123D7B\",\n",
    "        \"3123D89\",\n",
    "        \"3123D58\",\n",
    "        \"3123D76\",\n",
    "        \"3123D7D\",\n",
    "        \"3123EFE\",\n",
    "        \"3123D64\",\n",
    "        \"3123D78\",\n",
    "        \"3123D7E\",\n",
    "        \"3124E4A\",\n",
    "    ],\n",
    "    \"labels_target\": [\n",
    "        \"3123D52\",\n",
    "        \"3123D65\",\n",
    "        \"3123D79\",\n",
    "        \"3123D80\",\n",
    "        \"3123D54\",\n",
    "        \"3123D70\",\n",
    "        \"3123D7B\",\n",
    "        \"3123D89\",\n",
    "        \"3123D58\",\n",
    "        \"3123D76\",\n",
    "        \"3123D7D\",\n",
    "        \"3123EFE\",\n",
    "        \"3123D64\",\n",
    "        \"3123D78\",\n",
    "        \"3123D7E\",\n",
    "        \"3124E4A\",\n",
    "    ],\n",
    "    \"episode_transforms_source\": [],\n",
    "    \"episode_transforms_target\": [],\n",
    "    \"domains_source\": [8, 32, 50],\n",
    "    \"domains_target\": [14, 20, 26, 38, 44],\n",
    "    \"num_examples_per_domain_per_label_source\": -1,\n",
    "    \"num_examples_per_domain_per_label_target\": -1,\n",
    "    \"n_shot\": 3,\n",
    "    \"n_way\": 16,\n",
    "    \"n_query\": 2,\n",
    "    \"train_k_factor\": 3,\n",
    "    \"val_k_factor\": 2,\n",
    "    \"test_k_factor\": 2,\n",
    "    \"torch_default_dtype\": \"torch.float32\",\n",
    "    \"n_epoch\": 50,\n",
    "    \"patience\": 3,\n",
    "    \"criteria_for_best\": \"target_accuracy\",\n",
    "    \"x_net\": [\n",
    "        {\"class\": \"nnReshape\", \"kargs\": {\"shape\": [-1, 1, 2, 256]}},\n",
    "        {\n",
    "            \"class\": \"Conv2d\",\n",
    "            \"kargs\": {\n",
    "                \"in_channels\": 1,\n",
    "                \"out_channels\": 256,\n",
    "                \"kernel_size\": [1, 7],\n",
    "                \"bias\": False,\n",
    "                \"padding\": [0, 3],\n",
    "            },\n",
    "        },\n",
    "        {\"class\": \"ReLU\", \"kargs\": {\"inplace\": True}},\n",
    "        {\"class\": \"BatchNorm2d\", \"kargs\": {\"num_features\": 256}},\n",
    "        {\n",
    "            \"class\": \"Conv2d\",\n",
    "            \"kargs\": {\n",
    "                \"in_channels\": 256,\n",
    "                \"out_channels\": 80,\n",
    "                \"kernel_size\": [2, 7],\n",
    "                \"bias\": True,\n",
    "                \"padding\": [0, 3],\n",
    "            },\n",
    "        },\n",
    "        {\"class\": \"ReLU\", \"kargs\": {\"inplace\": True}},\n",
    "        {\"class\": \"BatchNorm2d\", \"kargs\": {\"num_features\": 80}},\n",
    "        {\"class\": \"Flatten\", \"kargs\": {}},\n",
    "        {\"class\": \"Linear\", \"kargs\": {\"in_features\": 20480, \"out_features\": 256}},\n",
    "        {\"class\": \"ReLU\", \"kargs\": {\"inplace\": True}},\n",
    "        {\"class\": \"BatchNorm1d\", \"kargs\": {\"num_features\": 256}},\n",
    "        {\"class\": \"Linear\", \"kargs\": {\"in_features\": 256, \"out_features\": 256}},\n",
    "    ],\n",
    "    \"NUM_LOGS_PER_EPOCH\": 10,\n",
    "    \"BEST_MODEL_PATH\": \"./best_model.pth\",\n",
    "    \"pickle_name\": \"oracle.Run2_10kExamples_stratified_ds.2022A.pkl\",\n",
    "    \"x_transforms_source\": [\"unit_power\"],\n",
    "    \"x_transforms_target\": [\"unit_power\"],\n",
    "    \"dataset_seed\": 154325,\n",
    "    \"seed\": 154325,\n",
    "}\n"
   ]
  },
  {
   "cell_type": "code",
   "execution_count": 5,
   "id": "8fa1cc33",
   "metadata": {
    "execution": {
     "iopub.execute_input": "2022-03-26T18:57:15.949692Z",
     "iopub.status.busy": "2022-03-26T18:57:15.949127Z",
     "iopub.status.idle": "2022-03-26T18:57:15.968591Z",
     "shell.execute_reply": "2022-03-26T18:57:15.967852Z"
    },
    "papermill": {
     "duration": 0.0378,
     "end_time": "2022-03-26T18:57:15.968743",
     "exception": false,
     "start_time": "2022-03-26T18:57:15.930943",
     "status": "completed"
    },
    "tags": []
   },
   "outputs": [],
   "source": [
    "# Set this to True if you want to run this template directly\n",
    "STANDALONE = False\n",
    "if STANDALONE:\n",
    "    print(\"parameters not injected, running with standalone_parameters\")\n",
    "    parameters = standalone_parameters\n",
    "\n",
    "if not 'parameters' in locals() and not 'parameters' in globals():\n",
    "    raise Exception(\"Parameter injection failed\")\n",
    "\n",
    "#Use an easy dict for all the parameters\n",
    "p = EasyDict(parameters)\n",
    "\n",
    "supplied_keys = set(p.keys())\n",
    "\n",
    "if  supplied_keys != required_parameters:\n",
    "    print(\"Parameters are incorrect\")\n",
    "    if len(supplied_keys - required_parameters)>0: print(\"Shouldn't have:\", str(supplied_keys - required_parameters))\n",
    "    if len(required_parameters - supplied_keys)>0: print(\"Need to have:\", str(required_parameters - supplied_keys))\n",
    "    raise RuntimeError(\"Parameters are incorrect\")\n",
    "\n"
   ]
  },
  {
   "cell_type": "code",
   "execution_count": 6,
   "id": "3a028d58",
   "metadata": {
    "execution": {
     "iopub.execute_input": "2022-03-26T18:57:16.004790Z",
     "iopub.status.busy": "2022-03-26T18:57:16.004425Z",
     "iopub.status.idle": "2022-03-26T18:57:16.023871Z",
     "shell.execute_reply": "2022-03-26T18:57:16.023052Z"
    },
    "papermill": {
     "duration": 0.036561,
     "end_time": "2022-03-26T18:57:16.024023",
     "exception": false,
     "start_time": "2022-03-26T18:57:15.987462",
     "status": "completed"
    },
    "tags": []
   },
   "outputs": [],
   "source": [
    "###################################\n",
    "# Set the RNGs and make it all deterministic\n",
    "###################################\n",
    "np.random.seed(p.seed)\n",
    "random.seed(p.seed)\n",
    "torch.manual_seed(p.seed)\n",
    "\n",
    "torch.use_deterministic_algorithms(True) "
   ]
  },
  {
   "cell_type": "code",
   "execution_count": 7,
   "id": "b691acf6",
   "metadata": {
    "execution": {
     "iopub.execute_input": "2022-03-26T18:57:16.060206Z",
     "iopub.status.busy": "2022-03-26T18:57:16.059843Z",
     "iopub.status.idle": "2022-03-26T18:57:16.078624Z",
     "shell.execute_reply": "2022-03-26T18:57:16.077824Z"
    },
    "papermill": {
     "duration": 0.03554,
     "end_time": "2022-03-26T18:57:16.078776",
     "exception": false,
     "start_time": "2022-03-26T18:57:16.043236",
     "status": "completed"
    },
    "tags": []
   },
   "outputs": [],
   "source": [
    "###########################################\n",
    "# The stratified datasets honor this\n",
    "###########################################\n",
    "torch.set_default_dtype(eval(p.torch_default_dtype))"
   ]
  },
  {
   "cell_type": "code",
   "execution_count": 8,
   "id": "b5fba671",
   "metadata": {
    "execution": {
     "iopub.execute_input": "2022-03-26T18:57:16.115794Z",
     "iopub.status.busy": "2022-03-26T18:57:16.115420Z",
     "iopub.status.idle": "2022-03-26T18:57:16.167658Z",
     "shell.execute_reply": "2022-03-26T18:57:16.166835Z"
    },
    "papermill": {
     "duration": 0.069129,
     "end_time": "2022-03-26T18:57:16.167810",
     "exception": false,
     "start_time": "2022-03-26T18:57:16.098681",
     "status": "completed"
    },
    "tags": []
   },
   "outputs": [],
   "source": [
    "###################################\n",
    "# Build the network(s)\n",
    "# Note: It's critical to do this AFTER setting the RNG\n",
    "# (This is due to the randomized initial weights)\n",
    "###################################\n",
    "x_net = build_sequential(p.x_net)"
   ]
  },
  {
   "cell_type": "code",
   "execution_count": 9,
   "id": "5d7e61cc",
   "metadata": {
    "execution": {
     "iopub.execute_input": "2022-03-26T18:57:16.204872Z",
     "iopub.status.busy": "2022-03-26T18:57:16.204509Z",
     "iopub.status.idle": "2022-03-26T18:57:16.225787Z",
     "shell.execute_reply": "2022-03-26T18:57:16.224989Z"
    },
    "papermill": {
     "duration": 0.038674,
     "end_time": "2022-03-26T18:57:16.225938",
     "exception": false,
     "start_time": "2022-03-26T18:57:16.187264",
     "status": "completed"
    },
    "tags": []
   },
   "outputs": [],
   "source": [
    "start_time_secs = time.time()"
   ]
  },
  {
   "cell_type": "code",
   "execution_count": 10,
   "id": "fd5442bc",
   "metadata": {
    "execution": {
     "iopub.execute_input": "2022-03-26T18:57:16.270623Z",
     "iopub.status.busy": "2022-03-26T18:57:16.269770Z",
     "iopub.status.idle": "2022-03-26T18:59:08.108505Z",
     "shell.execute_reply": "2022-03-26T18:59:08.107757Z"
    },
    "papermill": {
     "duration": 111.862409,
     "end_time": "2022-03-26T18:59:08.108694",
     "exception": false,
     "start_time": "2022-03-26T18:57:16.246285",
     "status": "completed"
    },
    "tags": []
   },
   "outputs": [],
   "source": [
    "###################################\n",
    "# Build the dataset\n",
    "###################################\n",
    "\n",
    "if p.x_transforms_source == []: x_transform_source = None\n",
    "else: x_transform_source = get_chained_transform(p.x_transforms_source) \n",
    "\n",
    "if p.x_transforms_target == []: x_transform_target = None\n",
    "else: x_transform_target = get_chained_transform(p.x_transforms_target)\n",
    "\n",
    "if p.episode_transforms_source == []: episode_transform_source = None\n",
    "else: raise Exception(\"episode_transform_source not implemented\")\n",
    "\n",
    "if p.episode_transforms_target == []: episode_transform_target = None\n",
    "else: raise Exception(\"episode_transform_target not implemented\")\n",
    "\n",
    "\n",
    "eaf_source = Episodic_Accessor_Factory(\n",
    "    labels=p.labels_source,\n",
    "    domains=p.domains_source,\n",
    "    num_examples_per_domain_per_label=p.num_examples_per_domain_per_label_source,\n",
    "    iterator_seed=p.seed,\n",
    "    dataset_seed=p.dataset_seed,\n",
    "    n_shot=p.n_shot,\n",
    "    n_way=p.n_way,\n",
    "    n_query=p.n_query,\n",
    "    train_val_test_k_factors=(p.train_k_factor,p.val_k_factor,p.test_k_factor),\n",
    "    pickle_path=os.path.join(get_datasets_base_path(), p.pickle_name),\n",
    "    x_transform_func=x_transform_source,\n",
    "    example_transform_func=episode_transform_source,\n",
    "    \n",
    ")\n",
    "train_original_source, val_original_source, test_original_source = eaf_source.get_train(), eaf_source.get_val(), eaf_source.get_test()\n",
    "\n",
    "\n",
    "eaf_target = Episodic_Accessor_Factory(\n",
    "    labels=p.labels_target,\n",
    "    domains=p.domains_target,\n",
    "    num_examples_per_domain_per_label=p.num_examples_per_domain_per_label_target,\n",
    "    iterator_seed=p.seed,\n",
    "    dataset_seed=p.dataset_seed,\n",
    "    n_shot=p.n_shot,\n",
    "    n_way=p.n_way,\n",
    "    n_query=p.n_query,\n",
    "    train_val_test_k_factors=(p.train_k_factor,p.val_k_factor,p.test_k_factor),\n",
    "    pickle_path=os.path.join(get_datasets_base_path(), p.pickle_name),\n",
    "    x_transform_func=x_transform_target,\n",
    "    example_transform_func=episode_transform_target,\n",
    ")\n",
    "train_original_target, val_original_target, test_original_target = eaf_target.get_train(), eaf_target.get_val(), eaf_target.get_test()\n",
    "\n",
    "\n",
    "transform_lambda = lambda ex: ex[1] # Original is (<domain>, <episode>) so we strip down to episode only\n",
    "\n",
    "train_processed_source = Lazy_Iterable_Wrapper(train_original_source, transform_lambda)\n",
    "val_processed_source   = Lazy_Iterable_Wrapper(val_original_source, transform_lambda)\n",
    "test_processed_source  = Lazy_Iterable_Wrapper(test_original_source, transform_lambda)\n",
    "\n",
    "train_processed_target = Lazy_Iterable_Wrapper(train_original_target, transform_lambda)\n",
    "val_processed_target   = Lazy_Iterable_Wrapper(val_original_target, transform_lambda)\n",
    "test_processed_target  = Lazy_Iterable_Wrapper(test_original_target, transform_lambda)\n",
    "\n",
    "datasets = EasyDict({\n",
    "    \"source\": {\n",
    "        \"original\": {\"train\":train_original_source, \"val\":val_original_source, \"test\":test_original_source},\n",
    "        \"processed\": {\"train\":train_processed_source, \"val\":val_processed_source, \"test\":test_processed_source}\n",
    "    },\n",
    "    \"target\": {\n",
    "        \"original\": {\"train\":train_original_target, \"val\":val_original_target, \"test\":test_original_target},\n",
    "        \"processed\": {\"train\":train_processed_target, \"val\":val_processed_target, \"test\":test_processed_target}\n",
    "    },\n",
    "})"
   ]
  },
  {
   "cell_type": "code",
   "execution_count": 11,
   "id": "296189d9",
   "metadata": {
    "execution": {
     "iopub.execute_input": "2022-03-26T18:59:08.149913Z",
     "iopub.status.busy": "2022-03-26T18:59:08.149535Z",
     "iopub.status.idle": "2022-03-26T18:59:16.056679Z",
     "shell.execute_reply": "2022-03-26T18:59:16.055579Z"
    },
    "papermill": {
     "duration": 7.926175,
     "end_time": "2022-03-26T18:59:16.056780",
     "exception": false,
     "start_time": "2022-03-26T18:59:08.130605",
     "status": "completed"
    },
    "tags": []
   },
   "outputs": [
    {
     "name": "stdout",
     "output_type": "stream",
     "text": [
      "Visually inspect these to see if they line up with expected values given the transforms\n",
      "x_transforms_source ['unit_power']\n",
      "x_transforms_target ['unit_power']\n",
      "Average magnitude, source: 0.8816321\n",
      "Average power, source: 1.0\n"
     ]
    },
    {
     "name": "stdout",
     "output_type": "stream",
     "text": [
      "Average magnitude, target: 0.879156\n",
      "Average power, target: 1.0\n"
     ]
    }
   ],
   "source": [
    "# Some quick unit tests on the data\n",
    "from steves_utils.transforms import get_average_power, get_average_magnitude\n",
    "\n",
    "q_x, q_y, s_x, s_y, truth = next(iter(train_processed_source))\n",
    "\n",
    "assert q_x.dtype == eval(p.torch_default_dtype)\n",
    "assert s_x.dtype == eval(p.torch_default_dtype)\n",
    "\n",
    "print(\"Visually inspect these to see if they line up with expected values given the transforms\")\n",
    "print('x_transforms_source', p.x_transforms_source)\n",
    "print('x_transforms_target', p.x_transforms_target)\n",
    "print(\"Average magnitude, source:\", get_average_magnitude(q_x[0].numpy()))\n",
    "print(\"Average power, source:\", get_average_power(q_x[0].numpy()))\n",
    "\n",
    "q_x, q_y, s_x, s_y, truth = next(iter(train_processed_target))\n",
    "print(\"Average magnitude, target:\", get_average_magnitude(q_x[0].numpy()))\n",
    "print(\"Average power, target:\", get_average_power(q_x[0].numpy()))\n"
   ]
  },
  {
   "cell_type": "code",
   "execution_count": 12,
   "id": "bbdacba1",
   "metadata": {
    "execution": {
     "iopub.execute_input": "2022-03-26T18:59:16.094236Z",
     "iopub.status.busy": "2022-03-26T18:59:16.093596Z",
     "iopub.status.idle": "2022-03-26T18:59:16.370377Z",
     "shell.execute_reply": "2022-03-26T18:59:16.369623Z"
    },
    "papermill": {
     "duration": 0.297381,
     "end_time": "2022-03-26T18:59:16.370568",
     "exception": false,
     "start_time": "2022-03-26T18:59:16.073187",
     "status": "completed"
    },
    "tags": []
   },
   "outputs": [
    {
     "name": "stdout",
     "output_type": "stream",
     "text": [
      "(2, 256)\n"
     ]
    }
   ],
   "source": [
    "###################################\n",
    "# Build the model\n",
    "###################################\n",
    "model = Steves_Prototypical_Network(x_net, device=p.device, x_shape=(2,256))\n",
    "optimizer = Adam(params=model.parameters(), lr=p.lr)"
   ]
  },
  {
   "cell_type": "code",
   "execution_count": 13,
   "id": "22b39ac5",
   "metadata": {
    "execution": {
     "iopub.execute_input": "2022-03-26T18:59:16.416390Z",
     "iopub.status.busy": "2022-03-26T18:59:16.416008Z",
     "iopub.status.idle": "2022-03-26T20:51:56.779971Z",
     "shell.execute_reply": "2022-03-26T20:51:56.779611Z"
    },
    "papermill": {
     "duration": 6760.385531,
     "end_time": "2022-03-26T20:51:56.780060",
     "exception": false,
     "start_time": "2022-03-26T18:59:16.394529",
     "status": "completed"
    },
    "tags": []
   },
   "outputs": [
    {
     "name": "stdout",
     "output_type": "stream",
     "text": [
      "epoch: 1, [batch: 1 / 12600], examples_per_second: 17.0359, train_label_loss: 2.7986, \n"
     ]
    },
    {
     "name": "stdout",
     "output_type": "stream",
     "text": [
      "epoch: 1, [batch: 1260 / 12600], examples_per_second: 1870.4412, train_label_loss: 1.5455, \n"
     ]
    },
    {
     "name": "stdout",
     "output_type": "stream",
     "text": [
      "epoch: 1, [batch: 2520 / 12600], examples_per_second: 1925.2328, train_label_loss: 1.1802, \n"
     ]
    },
    {
     "name": "stdout",
     "output_type": "stream",
     "text": [
      "epoch: 1, [batch: 3780 / 12600], examples_per_second: 1929.8479, train_label_loss: 1.0997, \n"
     ]
    },
    {
     "name": "stdout",
     "output_type": "stream",
     "text": [
      "epoch: 1, [batch: 5040 / 12600], examples_per_second: 1971.9615, train_label_loss: 1.1761, \n"
     ]
    },
    {
     "name": "stdout",
     "output_type": "stream",
     "text": [
      "epoch: 1, [batch: 6300 / 12600], examples_per_second: 2054.9059, train_label_loss: 1.5733, \n"
     ]
    },
    {
     "name": "stdout",
     "output_type": "stream",
     "text": [
      "epoch: 1, [batch: 7560 / 12600], examples_per_second: 3821.3919, train_label_loss: 1.4248, \n"
     ]
    },
    {
     "name": "stdout",
     "output_type": "stream",
     "text": [
      "epoch: 1, [batch: 8820 / 12600], examples_per_second: 2052.9980, train_label_loss: 1.0128, \n"
     ]
    },
    {
     "name": "stdout",
     "output_type": "stream",
     "text": [
      "epoch: 1, [batch: 10080 / 12600], examples_per_second: 1786.9928, train_label_loss: 1.3036, \n"
     ]
    },
    {
     "name": "stdout",
     "output_type": "stream",
     "text": [
      "epoch: 1, [batch: 11340 / 12600], examples_per_second: 1758.9061, train_label_loss: 0.8754, \n"
     ]
    },
    {
     "name": "stdout",
     "output_type": "stream",
     "text": [
      "=============================================================\n",
      "epoch: 1, source_val_acc_label: 0.6181, target_val_acc_label: 0.5016, source_val_label_loss: 1.0112, target_val_label_loss: 1.4506, \n",
      "=============================================================\n"
     ]
    },
    {
     "name": "stdout",
     "output_type": "stream",
     "text": [
      "New best\n"
     ]
    },
    {
     "name": "stdout",
     "output_type": "stream",
     "text": [
      "epoch: 2, [batch: 1 / 12600], examples_per_second: 0.6313, train_label_loss: 0.9502, \n"
     ]
    },
    {
     "name": "stdout",
     "output_type": "stream",
     "text": [
      "epoch: 2, [batch: 1260 / 12600], examples_per_second: 1877.5880, train_label_loss: 0.8125, \n"
     ]
    },
    {
     "name": "stdout",
     "output_type": "stream",
     "text": [
      "epoch: 2, [batch: 2520 / 12600], examples_per_second: 2743.0755, train_label_loss: 0.7964, \n"
     ]
    },
    {
     "name": "stdout",
     "output_type": "stream",
     "text": [
      "epoch: 2, [batch: 3780 / 12600], examples_per_second: 4393.2796, train_label_loss: 1.0278, \n"
     ]
    },
    {
     "name": "stdout",
     "output_type": "stream",
     "text": [
      "epoch: 2, [batch: 5040 / 12600], examples_per_second: 2339.8155, train_label_loss: 0.6460, \n"
     ]
    },
    {
     "name": "stdout",
     "output_type": "stream",
     "text": [
      "epoch: 2, [batch: 6300 / 12600], examples_per_second: 1963.6234, train_label_loss: 0.7570, \n"
     ]
    },
    {
     "name": "stdout",
     "output_type": "stream",
     "text": [
      "epoch: 2, [batch: 7560 / 12600], examples_per_second: 1920.2889, train_label_loss: 0.3532, \n"
     ]
    },
    {
     "name": "stdout",
     "output_type": "stream",
     "text": [
      "epoch: 2, [batch: 8820 / 12600], examples_per_second: 1930.6036, train_label_loss: 0.7496, \n"
     ]
    },
    {
     "name": "stdout",
     "output_type": "stream",
     "text": [
      "epoch: 2, [batch: 10080 / 12600], examples_per_second: 1920.5942, train_label_loss: 0.5487, \n"
     ]
    },
    {
     "name": "stdout",
     "output_type": "stream",
     "text": [
      "epoch: 2, [batch: 11340 / 12600], examples_per_second: 2188.2820, train_label_loss: 1.0688, \n"
     ]
    },
    {
     "name": "stdout",
     "output_type": "stream",
     "text": [
      "=============================================================\n",
      "epoch: 2, source_val_acc_label: 0.6820, target_val_acc_label: 0.5614, source_val_label_loss: 0.8273, target_val_label_loss: 1.2439, \n",
      "=============================================================\n"
     ]
    },
    {
     "name": "stdout",
     "output_type": "stream",
     "text": [
      "New best\n"
     ]
    },
    {
     "name": "stdout",
     "output_type": "stream",
     "text": [
      "epoch: 3, [batch: 1 / 12600], examples_per_second: 0.9673, train_label_loss: 0.4160, \n"
     ]
    },
    {
     "name": "stdout",
     "output_type": "stream",
     "text": [
      "epoch: 3, [batch: 1260 / 12600], examples_per_second: 1932.6884, train_label_loss: 0.6787, \n"
     ]
    },
    {
     "name": "stdout",
     "output_type": "stream",
     "text": [
      "epoch: 3, [batch: 2520 / 12600], examples_per_second: 1902.8457, train_label_loss: 0.4592, \n"
     ]
    },
    {
     "name": "stdout",
     "output_type": "stream",
     "text": [
      "epoch: 3, [batch: 3780 / 12600], examples_per_second: 2051.3490, train_label_loss: 0.4279, \n"
     ]
    },
    {
     "name": "stdout",
     "output_type": "stream",
     "text": [
      "epoch: 3, [batch: 5040 / 12600], examples_per_second: 2333.0706, train_label_loss: 0.8904, \n"
     ]
    },
    {
     "name": "stdout",
     "output_type": "stream",
     "text": [
      "epoch: 3, [batch: 6300 / 12600], examples_per_second: 2352.5855, train_label_loss: 0.6117, \n"
     ]
    },
    {
     "name": "stdout",
     "output_type": "stream",
     "text": [
      "epoch: 3, [batch: 7560 / 12600], examples_per_second: 2326.7106, train_label_loss: 0.7115, \n"
     ]
    },
    {
     "name": "stdout",
     "output_type": "stream",
     "text": [
      "epoch: 3, [batch: 8820 / 12600], examples_per_second: 2362.8202, train_label_loss: 0.6377, \n"
     ]
    },
    {
     "name": "stdout",
     "output_type": "stream",
     "text": [
      "epoch: 3, [batch: 10080 / 12600], examples_per_second: 3468.7148, train_label_loss: 0.6734, \n"
     ]
    },
    {
     "name": "stdout",
     "output_type": "stream",
     "text": [
      "epoch: 3, [batch: 11340 / 12600], examples_per_second: 5106.0146, train_label_loss: 0.5051, \n"
     ]
    },
    {
     "name": "stdout",
     "output_type": "stream",
     "text": [
      "=============================================================\n",
      "epoch: 3, source_val_acc_label: 0.6873, target_val_acc_label: 0.5664, source_val_label_loss: 0.8028, target_val_label_loss: 1.2170, \n",
      "=============================================================\n"
     ]
    },
    {
     "name": "stdout",
     "output_type": "stream",
     "text": [
      "New best\n"
     ]
    },
    {
     "name": "stdout",
     "output_type": "stream",
     "text": [
      "epoch: 4, [batch: 1 / 12600], examples_per_second: 0.6889, train_label_loss: 0.8629, \n"
     ]
    },
    {
     "name": "stdout",
     "output_type": "stream",
     "text": [
      "epoch: 4, [batch: 1260 / 12600], examples_per_second: 1769.6657, train_label_loss: 0.8017, \n"
     ]
    },
    {
     "name": "stdout",
     "output_type": "stream",
     "text": [
      "epoch: 4, [batch: 2520 / 12600], examples_per_second: 1768.6740, train_label_loss: 0.6038, \n"
     ]
    },
    {
     "name": "stdout",
     "output_type": "stream",
     "text": [
      "epoch: 4, [batch: 3780 / 12600], examples_per_second: 1780.7423, train_label_loss: 0.6670, \n"
     ]
    },
    {
     "name": "stdout",
     "output_type": "stream",
     "text": [
      "epoch: 4, [batch: 5040 / 12600], examples_per_second: 1755.1413, train_label_loss: 0.6953, \n"
     ]
    },
    {
     "name": "stdout",
     "output_type": "stream",
     "text": [
      "epoch: 4, [batch: 6300 / 12600], examples_per_second: 1981.2783, train_label_loss: 0.7244, \n"
     ]
    },
    {
     "name": "stdout",
     "output_type": "stream",
     "text": [
      "epoch: 4, [batch: 7560 / 12600], examples_per_second: 3971.4272, train_label_loss: 0.4687, \n"
     ]
    },
    {
     "name": "stdout",
     "output_type": "stream",
     "text": [
      "epoch: 4, [batch: 8820 / 12600], examples_per_second: 2451.2797, train_label_loss: 0.4878, \n"
     ]
    },
    {
     "name": "stdout",
     "output_type": "stream",
     "text": [
      "epoch: 4, [batch: 10080 / 12600], examples_per_second: 1944.0855, train_label_loss: 0.7448, \n"
     ]
    },
    {
     "name": "stdout",
     "output_type": "stream",
     "text": [
      "epoch: 4, [batch: 11340 / 12600], examples_per_second: 1925.8079, train_label_loss: 0.6947, \n"
     ]
    },
    {
     "name": "stdout",
     "output_type": "stream",
     "text": [
      "=============================================================\n",
      "epoch: 4, source_val_acc_label: 0.6994, target_val_acc_label: 0.5818, source_val_label_loss: 0.7966, target_val_label_loss: 1.2372, \n",
      "=============================================================\n"
     ]
    },
    {
     "name": "stdout",
     "output_type": "stream",
     "text": [
      "New best\n"
     ]
    },
    {
     "name": "stdout",
     "output_type": "stream",
     "text": [
      "epoch: 5, [batch: 1 / 12600], examples_per_second: 0.8357, train_label_loss: 0.6536, \n"
     ]
    },
    {
     "name": "stdout",
     "output_type": "stream",
     "text": [
      "epoch: 5, [batch: 1260 / 12600], examples_per_second: 1829.6623, train_label_loss: 0.7245, \n"
     ]
    },
    {
     "name": "stdout",
     "output_type": "stream",
     "text": [
      "epoch: 5, [batch: 2520 / 12600], examples_per_second: 1781.4540, train_label_loss: 0.4608, \n"
     ]
    },
    {
     "name": "stdout",
     "output_type": "stream",
     "text": [
      "epoch: 5, [batch: 3780 / 12600], examples_per_second: 1778.9163, train_label_loss: 0.5255, \n"
     ]
    },
    {
     "name": "stdout",
     "output_type": "stream",
     "text": [
      "epoch: 5, [batch: 5040 / 12600], examples_per_second: 1776.2294, train_label_loss: 0.4095, \n"
     ]
    },
    {
     "name": "stdout",
     "output_type": "stream",
     "text": [
      "epoch: 5, [batch: 6300 / 12600], examples_per_second: 1766.5415, train_label_loss: 0.4953, \n"
     ]
    },
    {
     "name": "stdout",
     "output_type": "stream",
     "text": [
      "epoch: 5, [batch: 7560 / 12600], examples_per_second: 2754.0942, train_label_loss: 0.4765, \n"
     ]
    },
    {
     "name": "stdout",
     "output_type": "stream",
     "text": [
      "epoch: 5, [batch: 8820 / 12600], examples_per_second: 3755.3908, train_label_loss: 0.6203, \n"
     ]
    },
    {
     "name": "stdout",
     "output_type": "stream",
     "text": [
      "epoch: 5, [batch: 10080 / 12600], examples_per_second: 1969.9920, train_label_loss: 0.5570, \n"
     ]
    },
    {
     "name": "stdout",
     "output_type": "stream",
     "text": [
      "epoch: 5, [batch: 11340 / 12600], examples_per_second: 1971.3264, train_label_loss: 0.3730, \n"
     ]
    },
    {
     "name": "stdout",
     "output_type": "stream",
     "text": [
      "=============================================================\n",
      "epoch: 5, source_val_acc_label: 0.7046, target_val_acc_label: 0.5845, source_val_label_loss: 0.7894, target_val_label_loss: 1.2411, \n",
      "=============================================================\n"
     ]
    },
    {
     "name": "stdout",
     "output_type": "stream",
     "text": [
      "New best\n"
     ]
    },
    {
     "name": "stdout",
     "output_type": "stream",
     "text": [
      "epoch: 6, [batch: 1 / 12600], examples_per_second: 0.8407, train_label_loss: 0.3038, \n"
     ]
    },
    {
     "name": "stdout",
     "output_type": "stream",
     "text": [
      "epoch: 6, [batch: 1260 / 12600], examples_per_second: 1800.0220, train_label_loss: 0.7676, \n"
     ]
    },
    {
     "name": "stdout",
     "output_type": "stream",
     "text": [
      "epoch: 6, [batch: 2520 / 12600], examples_per_second: 1785.3179, train_label_loss: 0.6268, \n"
     ]
    },
    {
     "name": "stdout",
     "output_type": "stream",
     "text": [
      "epoch: 6, [batch: 3780 / 12600], examples_per_second: 1773.7290, train_label_loss: 0.3039, \n"
     ]
    },
    {
     "name": "stdout",
     "output_type": "stream",
     "text": [
      "epoch: 6, [batch: 5040 / 12600], examples_per_second: 1792.4321, train_label_loss: 0.5619, \n"
     ]
    },
    {
     "name": "stdout",
     "output_type": "stream",
     "text": [
      "epoch: 6, [batch: 6300 / 12600], examples_per_second: 1779.5350, train_label_loss: 1.0406, \n"
     ]
    },
    {
     "name": "stdout",
     "output_type": "stream",
     "text": [
      "epoch: 6, [batch: 7560 / 12600], examples_per_second: 2327.1360, train_label_loss: 0.5044, \n"
     ]
    },
    {
     "name": "stdout",
     "output_type": "stream",
     "text": [
      "epoch: 6, [batch: 8820 / 12600], examples_per_second: 4319.2845, train_label_loss: 0.3150, \n"
     ]
    },
    {
     "name": "stdout",
     "output_type": "stream",
     "text": [
      "epoch: 6, [batch: 10080 / 12600], examples_per_second: 2317.7546, train_label_loss: 0.1975, \n"
     ]
    },
    {
     "name": "stdout",
     "output_type": "stream",
     "text": [
      "epoch: 6, [batch: 11340 / 12600], examples_per_second: 1868.5270, train_label_loss: 0.2878, \n"
     ]
    },
    {
     "name": "stdout",
     "output_type": "stream",
     "text": [
      "=============================================================\n",
      "epoch: 6, source_val_acc_label: 0.7138, target_val_acc_label: 0.5898, source_val_label_loss: 0.8073, target_val_label_loss: 1.2832, \n",
      "=============================================================\n"
     ]
    },
    {
     "name": "stdout",
     "output_type": "stream",
     "text": [
      "New best\n"
     ]
    },
    {
     "name": "stdout",
     "output_type": "stream",
     "text": [
      "epoch: 7, [batch: 1 / 12600], examples_per_second: 0.6389, train_label_loss: 0.6473, \n"
     ]
    },
    {
     "name": "stdout",
     "output_type": "stream",
     "text": [
      "epoch: 7, [batch: 1260 / 12600], examples_per_second: 1777.9698, train_label_loss: 0.1565, \n"
     ]
    },
    {
     "name": "stdout",
     "output_type": "stream",
     "text": [
      "epoch: 7, [batch: 2520 / 12600], examples_per_second: 1787.6457, train_label_loss: 0.4678, \n"
     ]
    },
    {
     "name": "stdout",
     "output_type": "stream",
     "text": [
      "epoch: 7, [batch: 3780 / 12600], examples_per_second: 2213.3026, train_label_loss: 0.5165, \n"
     ]
    },
    {
     "name": "stdout",
     "output_type": "stream",
     "text": [
      "epoch: 7, [batch: 5040 / 12600], examples_per_second: 3864.1811, train_label_loss: 0.2974, \n"
     ]
    },
    {
     "name": "stdout",
     "output_type": "stream",
     "text": [
      "epoch: 7, [batch: 6300 / 12600], examples_per_second: 2079.4386, train_label_loss: 0.4931, \n"
     ]
    },
    {
     "name": "stdout",
     "output_type": "stream",
     "text": [
      "epoch: 7, [batch: 7560 / 12600], examples_per_second: 1959.3149, train_label_loss: 0.5298, \n"
     ]
    },
    {
     "name": "stdout",
     "output_type": "stream",
     "text": [
      "epoch: 7, [batch: 8820 / 12600], examples_per_second: 1902.8269, train_label_loss: 0.3037, \n"
     ]
    },
    {
     "name": "stdout",
     "output_type": "stream",
     "text": [
      "epoch: 7, [batch: 10080 / 12600], examples_per_second: 1932.7483, train_label_loss: 0.1750, \n"
     ]
    },
    {
     "name": "stdout",
     "output_type": "stream",
     "text": [
      "epoch: 7, [batch: 11340 / 12600], examples_per_second: 1855.2364, train_label_loss: 0.3059, \n"
     ]
    },
    {
     "name": "stdout",
     "output_type": "stream",
     "text": [
      "=============================================================\n",
      "epoch: 7, source_val_acc_label: 0.7128, target_val_acc_label: 0.5900, source_val_label_loss: 0.8356, target_val_label_loss: 1.3288, \n",
      "=============================================================\n"
     ]
    },
    {
     "name": "stdout",
     "output_type": "stream",
     "text": [
      "New best\n"
     ]
    },
    {
     "name": "stdout",
     "output_type": "stream",
     "text": [
      "epoch: 8, [batch: 1 / 12600], examples_per_second: 0.8656, train_label_loss: 0.6615, \n"
     ]
    },
    {
     "name": "stdout",
     "output_type": "stream",
     "text": [
      "epoch: 8, [batch: 1260 / 12600], examples_per_second: 1759.7220, train_label_loss: 0.2273, \n"
     ]
    },
    {
     "name": "stdout",
     "output_type": "stream",
     "text": [
      "epoch: 8, [batch: 2520 / 12600], examples_per_second: 1782.6998, train_label_loss: 0.5770, \n"
     ]
    },
    {
     "name": "stdout",
     "output_type": "stream",
     "text": [
      "epoch: 8, [batch: 3780 / 12600], examples_per_second: 1791.8442, train_label_loss: 0.7764, \n"
     ]
    },
    {
     "name": "stdout",
     "output_type": "stream",
     "text": [
      "epoch: 8, [batch: 5040 / 12600], examples_per_second: 1766.5760, train_label_loss: 0.3304, \n"
     ]
    },
    {
     "name": "stdout",
     "output_type": "stream",
     "text": [
      "epoch: 8, [batch: 6300 / 12600], examples_per_second: 1806.1982, train_label_loss: 0.4493, \n"
     ]
    },
    {
     "name": "stdout",
     "output_type": "stream",
     "text": [
      "epoch: 8, [batch: 7560 / 12600], examples_per_second: 1940.5828, train_label_loss: 0.3418, \n"
     ]
    },
    {
     "name": "stdout",
     "output_type": "stream",
     "text": [
      "epoch: 8, [batch: 8820 / 12600], examples_per_second: 2019.8279, train_label_loss: 0.3004, \n"
     ]
    },
    {
     "name": "stdout",
     "output_type": "stream",
     "text": [
      "epoch: 8, [batch: 10080 / 12600], examples_per_second: 4157.8884, train_label_loss: 0.4083, \n"
     ]
    },
    {
     "name": "stdout",
     "output_type": "stream",
     "text": [
      "epoch: 8, [batch: 11340 / 12600], examples_per_second: 2978.0990, train_label_loss: 0.6278, \n"
     ]
    },
    {
     "name": "stdout",
     "output_type": "stream",
     "text": [
      "=============================================================\n",
      "epoch: 8, source_val_acc_label: 0.7125, target_val_acc_label: 0.5910, source_val_label_loss: 0.8585, target_val_label_loss: 1.3576, \n",
      "=============================================================\n"
     ]
    },
    {
     "name": "stdout",
     "output_type": "stream",
     "text": [
      "New best\n"
     ]
    },
    {
     "name": "stdout",
     "output_type": "stream",
     "text": [
      "epoch: 9, [batch: 1 / 12600], examples_per_second: 0.6380, train_label_loss: 0.2860, \n"
     ]
    },
    {
     "name": "stdout",
     "output_type": "stream",
     "text": [
      "epoch: 9, [batch: 1260 / 12600], examples_per_second: 3870.4987, train_label_loss: 0.2295, \n"
     ]
    },
    {
     "name": "stdout",
     "output_type": "stream",
     "text": [
      "epoch: 9, [batch: 2520 / 12600], examples_per_second: 3931.6439, train_label_loss: 0.3044, \n"
     ]
    },
    {
     "name": "stdout",
     "output_type": "stream",
     "text": [
      "epoch: 9, [batch: 3780 / 12600], examples_per_second: 3945.1511, train_label_loss: 0.2031, \n"
     ]
    },
    {
     "name": "stdout",
     "output_type": "stream",
     "text": [
      "epoch: 9, [batch: 5040 / 12600], examples_per_second: 3918.5625, train_label_loss: 0.2798, \n"
     ]
    },
    {
     "name": "stdout",
     "output_type": "stream",
     "text": [
      "epoch: 9, [batch: 6300 / 12600], examples_per_second: 4148.7149, train_label_loss: 0.2944, \n"
     ]
    },
    {
     "name": "stdout",
     "output_type": "stream",
     "text": [
      "epoch: 9, [batch: 7560 / 12600], examples_per_second: 4295.3068, train_label_loss: 0.3749, \n"
     ]
    },
    {
     "name": "stdout",
     "output_type": "stream",
     "text": [
      "epoch: 9, [batch: 8820 / 12600], examples_per_second: 4600.3767, train_label_loss: 0.1544, \n"
     ]
    },
    {
     "name": "stdout",
     "output_type": "stream",
     "text": [
      "epoch: 9, [batch: 10080 / 12600], examples_per_second: 4054.1433, train_label_loss: 0.3116, \n"
     ]
    },
    {
     "name": "stdout",
     "output_type": "stream",
     "text": [
      "epoch: 9, [batch: 11340 / 12600], examples_per_second: 3984.1237, train_label_loss: 0.2164, \n"
     ]
    },
    {
     "name": "stdout",
     "output_type": "stream",
     "text": [
      "=============================================================\n",
      "epoch: 9, source_val_acc_label: 0.7163, target_val_acc_label: 0.5930, source_val_label_loss: 0.8972, target_val_label_loss: 1.4343, \n",
      "=============================================================\n"
     ]
    },
    {
     "name": "stdout",
     "output_type": "stream",
     "text": [
      "New best\n"
     ]
    },
    {
     "name": "stdout",
     "output_type": "stream",
     "text": [
      "epoch: 10, [batch: 1 / 12600], examples_per_second: 1.7899, train_label_loss: 0.1822, \n"
     ]
    },
    {
     "name": "stdout",
     "output_type": "stream",
     "text": [
      "epoch: 10, [batch: 1260 / 12600], examples_per_second: 3863.3995, train_label_loss: 0.1272, \n"
     ]
    },
    {
     "name": "stdout",
     "output_type": "stream",
     "text": [
      "epoch: 10, [batch: 2520 / 12600], examples_per_second: 3891.5517, train_label_loss: 0.2566, \n"
     ]
    },
    {
     "name": "stdout",
     "output_type": "stream",
     "text": [
      "epoch: 10, [batch: 3780 / 12600], examples_per_second: 3886.0991, train_label_loss: 0.1843, \n"
     ]
    },
    {
     "name": "stdout",
     "output_type": "stream",
     "text": [
      "epoch: 10, [batch: 5040 / 12600], examples_per_second: 3855.3846, train_label_loss: 0.4054, \n"
     ]
    },
    {
     "name": "stdout",
     "output_type": "stream",
     "text": [
      "epoch: 10, [batch: 6300 / 12600], examples_per_second: 4152.7030, train_label_loss: 0.2299, \n"
     ]
    },
    {
     "name": "stdout",
     "output_type": "stream",
     "text": [
      "epoch: 10, [batch: 7560 / 12600], examples_per_second: 4333.0423, train_label_loss: 0.1917, \n"
     ]
    },
    {
     "name": "stdout",
     "output_type": "stream",
     "text": [
      "epoch: 10, [batch: 8820 / 12600], examples_per_second: 4524.0405, train_label_loss: 0.2252, \n"
     ]
    },
    {
     "name": "stdout",
     "output_type": "stream",
     "text": [
      "epoch: 10, [batch: 10080 / 12600], examples_per_second: 4025.3102, train_label_loss: 0.2220, \n"
     ]
    },
    {
     "name": "stdout",
     "output_type": "stream",
     "text": [
      "epoch: 10, [batch: 11340 / 12600], examples_per_second: 3963.4845, train_label_loss: 0.3808, \n"
     ]
    },
    {
     "name": "stdout",
     "output_type": "stream",
     "text": [
      "=============================================================\n",
      "epoch: 10, source_val_acc_label: 0.7109, target_val_acc_label: 0.5898, source_val_label_loss: 0.9309, target_val_label_loss: 1.4708, \n",
      "=============================================================\n"
     ]
    },
    {
     "name": "stdout",
     "output_type": "stream",
     "text": [
      "epoch: 11, [batch: 1 / 12600], examples_per_second: 1.7623, train_label_loss: 0.2973, \n"
     ]
    },
    {
     "name": "stdout",
     "output_type": "stream",
     "text": [
      "epoch: 11, [batch: 1260 / 12600], examples_per_second: 3798.2927, train_label_loss: 0.1772, \n"
     ]
    },
    {
     "name": "stdout",
     "output_type": "stream",
     "text": [
      "epoch: 11, [batch: 2520 / 12600], examples_per_second: 3942.2687, train_label_loss: 0.4408, \n"
     ]
    },
    {
     "name": "stdout",
     "output_type": "stream",
     "text": [
      "epoch: 11, [batch: 3780 / 12600], examples_per_second: 3841.5288, train_label_loss: 0.0553, \n"
     ]
    },
    {
     "name": "stdout",
     "output_type": "stream",
     "text": [
      "epoch: 11, [batch: 5040 / 12600], examples_per_second: 3798.9240, train_label_loss: 0.2616, \n"
     ]
    },
    {
     "name": "stdout",
     "output_type": "stream",
     "text": [
      "epoch: 11, [batch: 6300 / 12600], examples_per_second: 4141.1150, train_label_loss: 0.1960, \n"
     ]
    },
    {
     "name": "stdout",
     "output_type": "stream",
     "text": [
      "epoch: 11, [batch: 7560 / 12600], examples_per_second: 4263.8055, train_label_loss: 0.2408, \n"
     ]
    },
    {
     "name": "stdout",
     "output_type": "stream",
     "text": [
      "epoch: 11, [batch: 8820 / 12600], examples_per_second: 4505.7835, train_label_loss: 0.4422, \n"
     ]
    },
    {
     "name": "stdout",
     "output_type": "stream",
     "text": [
      "epoch: 11, [batch: 10080 / 12600], examples_per_second: 3876.5150, train_label_loss: 0.3247, \n"
     ]
    },
    {
     "name": "stdout",
     "output_type": "stream",
     "text": [
      "epoch: 11, [batch: 11340 / 12600], examples_per_second: 3945.2991, train_label_loss: 0.3185, \n"
     ]
    },
    {
     "name": "stdout",
     "output_type": "stream",
     "text": [
      "=============================================================\n",
      "epoch: 11, source_val_acc_label: 0.7102, target_val_acc_label: 0.5851, source_val_label_loss: 0.9592, target_val_label_loss: 1.5269, \n",
      "=============================================================\n"
     ]
    },
    {
     "name": "stdout",
     "output_type": "stream",
     "text": [
      "epoch: 12, [batch: 1 / 12600], examples_per_second: 1.7622, train_label_loss: 0.1730, \n"
     ]
    },
    {
     "name": "stdout",
     "output_type": "stream",
     "text": [
      "epoch: 12, [batch: 1260 / 12600], examples_per_second: 3898.3361, train_label_loss: 0.2077, \n"
     ]
    },
    {
     "name": "stdout",
     "output_type": "stream",
     "text": [
      "epoch: 12, [batch: 2520 / 12600], examples_per_second: 3895.3983, train_label_loss: 0.2330, \n"
     ]
    },
    {
     "name": "stdout",
     "output_type": "stream",
     "text": [
      "epoch: 12, [batch: 3780 / 12600], examples_per_second: 3856.1473, train_label_loss: 0.1962, \n"
     ]
    },
    {
     "name": "stdout",
     "output_type": "stream",
     "text": [
      "epoch: 12, [batch: 5040 / 12600], examples_per_second: 3925.4550, train_label_loss: 0.2412, \n"
     ]
    },
    {
     "name": "stdout",
     "output_type": "stream",
     "text": [
      "epoch: 12, [batch: 6300 / 12600], examples_per_second: 4181.4468, train_label_loss: 0.2271, \n"
     ]
    },
    {
     "name": "stdout",
     "output_type": "stream",
     "text": [
      "epoch: 12, [batch: 7560 / 12600], examples_per_second: 4428.2442, train_label_loss: 0.3470, \n"
     ]
    },
    {
     "name": "stdout",
     "output_type": "stream",
     "text": [
      "epoch: 12, [batch: 8820 / 12600], examples_per_second: 4436.0326, train_label_loss: 0.1797, \n"
     ]
    },
    {
     "name": "stdout",
     "output_type": "stream",
     "text": [
      "epoch: 12, [batch: 10080 / 12600], examples_per_second: 3943.2194, train_label_loss: 0.0595, \n"
     ]
    },
    {
     "name": "stdout",
     "output_type": "stream",
     "text": [
      "epoch: 12, [batch: 11340 / 12600], examples_per_second: 3940.5928, train_label_loss: 0.3873, \n"
     ]
    },
    {
     "name": "stdout",
     "output_type": "stream",
     "text": [
      "=============================================================\n",
      "epoch: 12, source_val_acc_label: 0.7063, target_val_acc_label: 0.5852, source_val_label_loss: 1.0039, target_val_label_loss: 1.5749, \n",
      "=============================================================\n"
     ]
    },
    {
     "name": "stdout",
     "output_type": "stream",
     "text": [
      "epoch: 13, [batch: 1 / 12600], examples_per_second: 1.7693, train_label_loss: 0.3634, \n"
     ]
    },
    {
     "name": "stdout",
     "output_type": "stream",
     "text": [
      "epoch: 13, [batch: 1260 / 12600], examples_per_second: 3766.4953, train_label_loss: 0.2585, \n"
     ]
    },
    {
     "name": "stdout",
     "output_type": "stream",
     "text": [
      "epoch: 13, [batch: 2520 / 12600], examples_per_second: 3868.7934, train_label_loss: 0.1460, \n"
     ]
    },
    {
     "name": "stdout",
     "output_type": "stream",
     "text": [
      "epoch: 13, [batch: 3780 / 12600], examples_per_second: 3971.3715, train_label_loss: 0.0882, \n"
     ]
    },
    {
     "name": "stdout",
     "output_type": "stream",
     "text": [
      "epoch: 13, [batch: 5040 / 12600], examples_per_second: 3943.9972, train_label_loss: 0.0354, \n"
     ]
    },
    {
     "name": "stdout",
     "output_type": "stream",
     "text": [
      "epoch: 13, [batch: 6300 / 12600], examples_per_second: 4200.8217, train_label_loss: 0.1982, \n"
     ]
    },
    {
     "name": "stdout",
     "output_type": "stream",
     "text": [
      "epoch: 13, [batch: 7560 / 12600], examples_per_second: 4207.3380, train_label_loss: 0.1459, \n"
     ]
    },
    {
     "name": "stdout",
     "output_type": "stream",
     "text": [
      "epoch: 13, [batch: 8820 / 12600], examples_per_second: 4251.6163, train_label_loss: 0.0976, \n"
     ]
    },
    {
     "name": "stdout",
     "output_type": "stream",
     "text": [
      "epoch: 13, [batch: 10080 / 12600], examples_per_second: 3828.7100, train_label_loss: 0.1484, \n"
     ]
    },
    {
     "name": "stdout",
     "output_type": "stream",
     "text": [
      "epoch: 13, [batch: 11340 / 12600], examples_per_second: 3850.7627, train_label_loss: 0.1797, \n"
     ]
    },
    {
     "name": "stdout",
     "output_type": "stream",
     "text": [
      "=============================================================\n",
      "epoch: 13, source_val_acc_label: 0.7117, target_val_acc_label: 0.5864, source_val_label_loss: 1.0609, target_val_label_loss: 1.6652, \n",
      "=============================================================\n"
     ]
    },
    {
     "name": "stdout",
     "output_type": "stream",
     "text": [
      "Patience (3) exhausted\n"
     ]
    }
   ],
   "source": [
    "###################################\n",
    "# train\n",
    "###################################\n",
    "jig = PTN_Train_Eval_Test_Jig(model, p.BEST_MODEL_PATH, p.device)\n",
    "\n",
    "jig.train(\n",
    "    train_iterable=datasets.source.processed.train,\n",
    "    source_val_iterable=datasets.source.processed.val,\n",
    "    target_val_iterable=datasets.target.processed.val,\n",
    "    num_epochs=p.n_epoch,\n",
    "    num_logs_per_epoch=p.NUM_LOGS_PER_EPOCH,\n",
    "    patience=p.patience,\n",
    "    optimizer=optimizer,\n",
    "    criteria_for_best=p.criteria_for_best,\n",
    ")"
   ]
  },
  {
   "cell_type": "code",
   "execution_count": 14,
   "id": "31e8fabf",
   "metadata": {
    "execution": {
     "iopub.execute_input": "2022-03-26T20:51:56.902478Z",
     "iopub.status.busy": "2022-03-26T20:51:56.902040Z",
     "iopub.status.idle": "2022-03-26T20:51:56.936717Z",
     "shell.execute_reply": "2022-03-26T20:51:56.935663Z"
    },
    "papermill": {
     "duration": 0.09837,
     "end_time": "2022-03-26T20:51:56.936943",
     "exception": false,
     "start_time": "2022-03-26T20:51:56.838573",
     "status": "completed"
    },
    "tags": []
   },
   "outputs": [],
   "source": [
    "total_experiment_time_secs = time.time() - start_time_secs"
   ]
  },
  {
   "cell_type": "code",
   "execution_count": 15,
   "id": "87b9595b",
   "metadata": {
    "execution": {
     "iopub.execute_input": "2022-03-26T20:51:57.072010Z",
     "iopub.status.busy": "2022-03-26T20:51:57.071086Z",
     "iopub.status.idle": "2022-03-26T20:58:40.855571Z",
     "shell.execute_reply": "2022-03-26T20:58:40.854729Z"
    },
    "papermill": {
     "duration": 403.855788,
     "end_time": "2022-03-26T20:58:40.855756",
     "exception": false,
     "start_time": "2022-03-26T20:51:56.999968",
     "status": "completed"
    },
    "tags": []
   },
   "outputs": [],
   "source": [
    "###################################\n",
    "# Evaluate the model\n",
    "###################################\n",
    "source_test_label_accuracy, source_test_label_loss = jig.test(datasets.source.processed.test)\n",
    "target_test_label_accuracy, target_test_label_loss = jig.test(datasets.target.processed.test)\n",
    "\n",
    "source_val_label_accuracy, source_val_label_loss = jig.test(datasets.source.processed.val)\n",
    "target_val_label_accuracy, target_val_label_loss = jig.test(datasets.target.processed.val)\n",
    "\n",
    "history = jig.get_history()\n",
    "\n",
    "total_epochs_trained = len(history[\"epoch_indices\"])\n",
    "\n",
    "val_dl = Iterable_Aggregator((datasets.source.original.val,datasets.target.original.val))\n",
    "\n",
    "confusion = ptn_confusion_by_domain_over_dataloader(model, p.device, val_dl)\n",
    "per_domain_accuracy = per_domain_accuracy_from_confusion(confusion)\n",
    "\n",
    "# Add a key to per_domain_accuracy for if it was a source domain\n",
    "for domain, accuracy in per_domain_accuracy.items():\n",
    "    per_domain_accuracy[domain] = {\n",
    "        \"accuracy\": accuracy,\n",
    "        \"source?\": domain in p.domains_source\n",
    "    }\n",
    "\n",
    "# Do an independent accuracy assesment JUST TO BE SURE!\n",
    "# _source_test_label_accuracy = independent_accuracy_assesment(model, datasets.source.processed.test, p.device)\n",
    "# _target_test_label_accuracy = independent_accuracy_assesment(model, datasets.target.processed.test, p.device)\n",
    "# _source_val_label_accuracy = independent_accuracy_assesment(model, datasets.source.processed.val, p.device)\n",
    "# _target_val_label_accuracy = independent_accuracy_assesment(model, datasets.target.processed.val, p.device)\n",
    "\n",
    "# assert(_source_test_label_accuracy == source_test_label_accuracy)\n",
    "# assert(_target_test_label_accuracy == target_test_label_accuracy)\n",
    "# assert(_source_val_label_accuracy == source_val_label_accuracy)\n",
    "# assert(_target_val_label_accuracy == target_val_label_accuracy)\n",
    "\n",
    "experiment = {\n",
    "    \"experiment_name\": p.experiment_name,\n",
    "    \"parameters\": dict(p),\n",
    "    \"results\": {\n",
    "        \"source_test_label_accuracy\": source_test_label_accuracy,\n",
    "        \"source_test_label_loss\": source_test_label_loss,\n",
    "        \"target_test_label_accuracy\": target_test_label_accuracy,\n",
    "        \"target_test_label_loss\": target_test_label_loss,\n",
    "        \"source_val_label_accuracy\": source_val_label_accuracy,\n",
    "        \"source_val_label_loss\": source_val_label_loss,\n",
    "        \"target_val_label_accuracy\": target_val_label_accuracy,\n",
    "        \"target_val_label_loss\": target_val_label_loss,\n",
    "        \"total_epochs_trained\": total_epochs_trained,\n",
    "        \"total_experiment_time_secs\": total_experiment_time_secs,\n",
    "        \"confusion\": confusion,\n",
    "        \"per_domain_accuracy\": per_domain_accuracy,\n",
    "    },\n",
    "    \"history\": history,\n",
    "    \"dataset_metrics\": get_dataset_metrics(datasets, \"ptn\"),\n",
    "}"
   ]
  },
  {
   "cell_type": "code",
   "execution_count": 16,
   "id": "54a21829",
   "metadata": {
    "execution": {
     "iopub.execute_input": "2022-03-26T20:58:40.982351Z",
     "iopub.status.busy": "2022-03-26T20:58:40.981776Z",
     "iopub.status.idle": "2022-03-26T20:58:41.226293Z",
     "shell.execute_reply": "2022-03-26T20:58:41.225511Z"
    },
    "papermill": {
     "duration": 0.307023,
     "end_time": "2022-03-26T20:58:41.226453",
     "exception": false,
     "start_time": "2022-03-26T20:58:40.919430",
     "status": "completed"
    },
    "tags": []
   },
   "outputs": [
    {
     "data": {
      "image/png": "[encoded data removed]",
      "text/plain": [
       "<Figure size 1080x504 with 1 Axes>"
      ]
     },
     "metadata": {
      "needs_background": "light"
     },
     "output_type": "display_data"
    }
   ],
   "source": [
    "ax = get_loss_curve(experiment)\n",
    "plt.show()"
   ]
  },
  {
   "cell_type": "code",
   "execution_count": 17,
   "id": "fd8a0f60",
   "metadata": {
    "execution": {
     "iopub.execute_input": "2022-03-26T20:58:41.352281Z",
     "iopub.status.busy": "2022-03-26T20:58:41.351907Z",
     "iopub.status.idle": "2022-03-26T20:58:41.685330Z",
     "shell.execute_reply": "2022-03-26T20:58:41.685631Z"
    },
    "papermill": {
     "duration": 0.39681,
     "end_time": "2022-03-26T20:58:41.685719",
     "exception": false,
     "start_time": "2022-03-26T20:58:41.288909",
     "status": "completed"
    },
    "tags": []
   },
   "outputs": [
    {
     "data": {
      "text/plain": [
       "<AxesSubplot:title={'center':'Results'}>"
      ]
     },
     "execution_count": 17,
     "metadata": {},
     "output_type": "execute_result"
    },
    {
     "data": {
      "image/png": "[encoded data removed]",
      "text/plain": [
       "<Figure size 1080x504 with 1 Axes>"
      ]
     },
     "metadata": {
      "needs_background": "light"
     },
     "output_type": "display_data"
    }
   ],
   "source": [
    "get_results_table(experiment)"
   ]
  },
  {
   "cell_type": "code",
   "execution_count": 18,
   "id": "cf8dc689",
   "metadata": {
    "execution": {
     "iopub.execute_input": "2022-03-26T20:58:41.812591Z",
     "iopub.status.busy": "2022-03-26T20:58:41.812219Z",
     "iopub.status.idle": "2022-03-26T20:58:42.037300Z",
     "shell.execute_reply": "2022-03-26T20:58:42.036928Z"
    },
    "papermill": {
     "duration": 0.290359,
     "end_time": "2022-03-26T20:58:42.037373",
     "exception": false,
     "start_time": "2022-03-26T20:58:41.747014",
     "status": "completed"
    },
    "tags": []
   },
   "outputs": [
    {
     "data": {
      "text/plain": [
       "<AxesSubplot:title={'center':'Per Domain Validation Accuracy'}, xlabel='domain'>"
      ]
     },
     "execution_count": 18,
     "metadata": {},
     "output_type": "execute_result"
    },
    {
     "data": {
      "image/png": "[encoded data removed]",
      "text/plain": [
       "<Figure size 1080x504 with 1 Axes>"
      ]
     },
     "metadata": {
      "needs_background": "light"
     },
     "output_type": "display_data"
    }
   ],
   "source": [
    "get_domain_accuracies(experiment)"
   ]
  },
  {
   "cell_type": "code",
   "execution_count": 19,
   "id": "a74ae082",
   "metadata": {
    "execution": {
     "iopub.execute_input": "2022-03-26T20:58:42.166740Z",
     "iopub.status.busy": "2022-03-26T20:58:42.166365Z",
     "iopub.status.idle": "2022-03-26T20:58:42.192261Z",
     "shell.execute_reply": "2022-03-26T20:58:42.191892Z"
    },
    "papermill": {
     "duration": 0.093056,
     "end_time": "2022-03-26T20:58:42.192332",
     "exception": false,
     "start_time": "2022-03-26T20:58:42.099276",
     "status": "completed"
    },
    "tags": []
   },
   "outputs": [
    {
     "name": "stdout",
     "output_type": "stream",
     "text": [
      "Source Test Label Accuracy: 0.71671875 Target Test Label Accuracy: 0.5963125\n",
      "Source Val Label Accuracy: 0.7162673611111111 Target Val Label Accuracy: 0.5929895833333333\n"
     ]
    }
   ],
   "source": [
    "print(\"Source Test Label Accuracy:\", experiment[\"results\"][\"source_test_label_accuracy\"], \"Target Test Label Accuracy:\", experiment[\"results\"][\"target_test_label_accuracy\"])\n",
    "print(\"Source Val Label Accuracy:\", experiment[\"results\"][\"source_val_label_accuracy\"], \"Target Val Label Accuracy:\", experiment[\"results\"][\"target_val_label_accuracy\"])"
   ]
  },
  {
   "cell_type": "code",
   "execution_count": 20,
   "id": "dacca602",
   "metadata": {
    "execution": {
     "iopub.execute_input": "2022-03-26T20:58:42.370911Z",
     "iopub.status.busy": "2022-03-26T20:58:42.370534Z",
     "iopub.status.idle": "2022-03-26T20:58:42.399295Z",
     "shell.execute_reply": "2022-03-26T20:58:42.398917Z"
    },
    "papermill": {
     "duration": 0.094875,
     "end_time": "2022-03-26T20:58:42.399373",
     "exception": false,
     "start_time": "2022-03-26T20:58:42.304498",
     "status": "completed"
    },
    "tags": [
     "experiment_json"
    ]
   },
   "outputs": [
    {
     "data": {
      "text/plain": [
       "'{\"experiment_name\": \"tuned_1v2:oracle.run2_limited\", \"parameters\": {\"experiment_name\": \"tuned_1v2:oracle.run2_limited\", \"device\": \"cuda\", \"lr\": 0.0001, \"labels_source\": [\"3123D52\", \"3123D65\", \"3123D79\", \"3123D80\", \"3123D54\", \"3123D70\", \"3123D7B\", \"3123D89\", \"3123D58\", \"3123D76\", \"3123D7D\", \"3123EFE\", \"3123D64\", \"3123D78\", \"3123D7E\", \"3124E4A\"], \"labels_target\": [\"3123D52\", \"3123D65\", \"3123D79\", \"3123D80\", \"3123D54\", \"3123D70\", \"3123D7B\", \"3123D89\", \"3123D58\", \"3123D76\", \"3123D7D\", \"3123EFE\", \"3123D64\", \"3123D78\", \"3123D7E\", \"3124E4A\"], \"episode_transforms_source\": [], \"episode_transforms_target\": [], \"domains_source\": [8, 32, 50], \"domains_target\": [14, 20, 26, 38, 44], \"num_examples_per_domain_per_label_source\": -1, \"num_examples_per_domain_per_label_target\": -1, \"n_shot\": 3, \"n_way\": 16, \"n_query\": 2, \"train_k_factor\": 3, \"val_k_factor\": 2, \"test_k_factor\": 2, \"torch_default_dtype\": \"torch.float32\", \"n_epoch\": 50, \"patience\": 3, \"criteria_for_best\": \"target_accuracy\", \"x_net\": [{\"class\": \"nnReshape\", \"kargs\": {\"shape\": [-1, 1, 2, 256]}}, {\"class\": \"Conv2d\", \"kargs\": {\"in_channels\": 1, \"out_channels\": 256, \"kernel_size\": [1, 7], \"bias\": false, \"padding\": [0, 3]}}, {\"class\": \"ReLU\", \"kargs\": {\"inplace\": true}}, {\"class\": \"BatchNorm2d\", \"kargs\": {\"num_features\": 256}}, {\"class\": \"Conv2d\", \"kargs\": {\"in_channels\": 256, \"out_channels\": 80, \"kernel_size\": [2, 7], \"bias\": true, \"padding\": [0, 3]}}, {\"class\": \"ReLU\", \"kargs\": {\"inplace\": true}}, {\"class\": \"BatchNorm2d\", \"kargs\": {\"num_features\": 80}}, {\"class\": \"Flatten\", \"kargs\": {}}, {\"class\": \"Linear\", \"kargs\": {\"in_features\": 20480, \"out_features\": 256}}, {\"class\": \"ReLU\", \"kargs\": {\"inplace\": true}}, {\"class\": \"BatchNorm1d\", \"kargs\": {\"num_features\": 256}}, {\"class\": \"Linear\", \"kargs\": {\"in_features\": 256, \"out_features\": 256}}], \"NUM_LOGS_PER_EPOCH\": 10, \"BEST_MODEL_PATH\": \"./best_model.pth\", \"pickle_name\": \"oracle.Run2_10kExamples_stratified_ds.2022A.pkl\", \"x_transforms_source\": [\"unit_power\"], \"x_transforms_target\": [\"unit_power\"], \"dataset_seed\": 154325, \"seed\": 154325}, \"results\": {\"source_test_label_accuracy\": 0.71671875, \"source_test_label_loss\": 0.8990709781646729, \"target_test_label_accuracy\": 0.5963125, \"target_test_label_loss\": 1.423026204109192, \"source_val_label_accuracy\": 0.7162673611111111, \"source_val_label_loss\": 0.8971636891365051, \"target_val_label_accuracy\": 0.5929895833333333, \"target_val_label_loss\": 1.434253454208374, \"total_epochs_trained\": 13, \"total_experiment_time_secs\": 6880.710139751434, \"confusion\": {\"32\": {\"13\": {\"4\": 186, \"13\": 545, \"11\": 102, \"3\": 29, \"8\": 70, \"5\": 32, \"7\": 182, \"0\": 53, \"2\": 1}, \"9\": {\"14\": 41, \"9\": 1159}, \"15\": {\"15\": 1192, \"8\": 8}, \"2\": {\"0\": 39, \"2\": 907, \"5\": 77, \"7\": 16, \"4\": 28, \"14\": 108, \"11\": 25}, \"3\": {\"3\": 1122, \"8\": 27, \"13\": 49, \"4\": 1, \"7\": 1}, \"8\": {\"8\": 839, \"5\": 99, \"0\": 71, \"13\": 94, \"4\": 60, \"15\": 5, \"3\": 26, \"11\": 5, \"7\": 1}, \"5\": {\"0\": 163, \"13\": 44, \"5\": 476, \"4\": 151, \"8\": 128, \"2\": 131, \"14\": 75, \"15\": 3, \"11\": 16, \"7\": 9, \"3\": 4}, \"14\": {\"14\": 1020, \"2\": 111, \"5\": 26, \"11\": 8, \"0\": 32, \"9\": 2, \"4\": 1}, \"1\": {\"1\": 1193, \"10\": 7}, \"0\": {\"5\": 191, \"0\": 532, \"4\": 142, \"11\": 141, \"13\": 55, \"14\": 13, \"8\": 76, \"2\": 32, \"7\": 18}, \"10\": {\"10\": 1197, \"1\": 3}, \"6\": {\"6\": 1200}, \"11\": {\"0\": 171, \"7\": 265, \"11\": 502, \"13\": 92, \"4\": 107, \"2\": 38, \"5\": 15, \"8\": 6, \"14\": 4}, \"7\": {\"7\": 667, \"13\": 155, \"11\": 255, \"0\": 19, \"4\": 82, \"2\": 12, \"5\": 3, \"8\": 4, \"3\": 3}, \"4\": {\"8\": 72, \"5\": 144, \"11\": 91, \"4\": 401, \"13\": 189, \"0\": 176, \"7\": 93, \"2\": 32, \"14\": 2}, \"12\": {\"12\": 1200}}, \"50\": {\"10\": {\"10\": 847, \"5\": 84, \"13\": 176, \"7\": 69, \"0\": 18, \"4\": 6}, \"12\": {\"12\": 1052, \"14\": 53, \"9\": 85, \"11\": 10}, \"1\": {\"1\": 832, \"15\": 87, \"6\": 242, \"4\": 32, \"14\": 1, \"11\": 2, \"0\": 1, \"2\": 1, \"5\": 2}, \"0\": {\"10\": 33, \"0\": 1066, \"2\": 81, \"5\": 11, \"1\": 3, \"4\": 4, \"6\": 2}, \"15\": {\"15\": 1046, \"1\": 67, \"11\": 67, \"6\": 18, \"4\": 1, \"14\": 1}, \"13\": {\"5\": 55, \"7\": 435, \"10\": 167, \"13\": 537, \"4\": 6}, \"8\": {\"8\": 1169, \"3\": 31}, \"3\": {\"3\": 1160, \"8\": 40}, \"11\": {\"11\": 1095, \"15\": 43, \"14\": 31, \"9\": 22, \"12\": 9}, \"4\": {\"4\": 598, \"5\": 290, \"1\": 53, \"6\": 240, \"7\": 7, \"10\": 3, \"13\": 3, \"0\": 5, \"15\": 1}, \"6\": {\"6\": 637, \"1\": 272, \"5\": 49, \"4\": 228, \"15\": 12, \"0\": 2}, \"7\": {\"13\": 462, \"7\": 528, \"10\": 94, \"5\": 107, \"4\": 9}, \"14\": {\"14\": 1141, \"12\": 41, \"11\": 17, \"15\": 1}, \"2\": {\"2\": 1147, \"0\": 53}, \"5\": {\"4\": 320, \"5\": 614, \"7\": 80, \"1\": 10, \"10\": 62, \"6\": 60, \"13\": 47, \"0\": 7}, \"9\": {\"9\": 1093, \"12\": 87, \"11\": 19, \"14\": 1}}, \"8\": {\"14\": {\"0\": 228, \"14\": 689, \"6\": 60, \"13\": 159, \"10\": 41, \"4\": 19, \"1\": 2, \"7\": 2}, \"10\": {\"10\": 714, \"0\": 194, \"5\": 135, \"1\": 22, \"13\": 85, \"14\": 50}, \"2\": {\"6\": 22, \"2\": 914, \"4\": 80, \"7\": 177, \"15\": 4, \"3\": 3}, \"8\": {\"8\": 901, \"15\": 110, \"11\": 146, \"7\": 16, \"6\": 22, \"13\": 3, \"4\": 2}, \"6\": {\"6\": 524, \"8\": 20, \"4\": 346, \"7\": 220, \"14\": 56, \"2\": 25, \"0\": 9}, \"7\": {\"4\": 281, \"7\": 510, \"6\": 199, \"2\": 174, \"8\": 18, \"0\": 2, \"14\": 2, \"15\": 13, \"11\": 1}, \"9\": {\"9\": 1200}, \"11\": {\"12\": 117, \"8\": 288, \"11\": 591, \"15\": 199, \"4\": 2, \"7\": 1, \"3\": 1, \"6\": 1}, \"12\": {\"12\": 909, \"15\": 113, \"11\": 27, \"3\": 151}, \"13\": {\"0\": 21, \"13\": 725, \"1\": 125, \"14\": 224, \"10\": 74, \"6\": 18, \"4\": 3, \"8\": 2, \"5\": 8}, \"0\": {\"14\": 238, \"0\": 732, \"10\": 187, \"13\": 32, \"4\": 4, \"6\": 5, \"5\": 2}, \"3\": {\"3\": 1038, \"12\": 154, \"15\": 7, \"11\": 1}, \"4\": {\"7\": 304, \"4\": 422, \"6\": 332, \"2\": 110, \"14\": 22, \"8\": 8, \"15\": 2}, \"15\": {\"15\": 696, \"11\": 188, \"12\": 153, \"8\": 139, \"3\": 18, \"7\": 4, \"2\": 2}, \"5\": {\"5\": 948, \"10\": 179, \"1\": 61, \"13\": 9, \"0\": 2, \"9\": 1}, \"1\": {\"1\": 1030, \"13\": 112, \"5\": 32, \"10\": 25, \"14\": 1}}, \"44\": {\"13\": {\"13\": 1134, \"4\": 41, \"6\": 21, \"14\": 3, \"9\": 1}, \"9\": {\"9\": 472, \"6\": 36, \"7\": 311, \"2\": 374, \"1\": 2, \"11\": 1, \"3\": 2, \"4\": 1, \"13\": 1}, \"15\": {\"15\": 1004, \"14\": 118, \"4\": 64, \"8\": 11, \"5\": 2, \"0\": 1}, \"2\": {\"2\": 612, \"9\": 345, \"7\": 229, \"1\": 4, \"3\": 10}, \"3\": {\"3\": 973, \"1\": 150, \"12\": 74, \"2\": 3}, \"8\": {\"0\": 520, \"8\": 633, \"5\": 27, \"14\": 9, \"15\": 11}, \"5\": {\"5\": 1048, \"14\": 130, \"8\": 15, \"0\": 6, \"4\": 1}, \"14\": {\"14\": 825, \"5\": 135, \"15\": 144, \"4\": 96}, \"1\": {\"1\": 676, \"12\": 337, \"3\": 170, \"7\": 6, \"10\": 9, \"2\": 2}, \"0\": {\"8\": 513, \"0\": 673, \"14\": 2, \"5\": 9, \"15\": 3}, \"10\": {\"10\": 1137, \"12\": 43, \"1\": 20}, \"6\": {\"6\": 1079, \"11\": 26, \"9\": 44, \"13\": 17, \"7\": 24, \"2\": 10}, \"11\": {\"11\": 1123, \"6\": 68, \"13\": 1, \"7\": 3, \"9\": 5}, \"7\": {\"7\": 617, \"2\": 281, \"9\": 280, \"1\": 7, \"11\": 2, \"3\": 1, \"6\": 11, \"12\": 1}, \"4\": {\"4\": 1044, \"13\": 34, \"14\": 79, \"15\": 43}, \"12\": {\"1\": 317, \"12\": 796, \"3\": 81, \"10\": 6}}, \"38\": {\"13\": {\"3\": 86, \"13\": 239, \"5\": 198, \"8\": 207, \"14\": 6, \"0\": 12, \"10\": 26, \"1\": 77, \"15\": 259, \"7\": 58, \"6\": 11, \"9\": 2, \"2\": 19}, \"12\": {\"12\": 1121, \"11\": 7, \"4\": 41, \"14\": 29, \"13\": 1, \"7\": 1}, \"2\": {\"2\": 1044, \"14\": 152, \"13\": 1, \"11\": 3}, \"9\": {\"6\": 398, \"9\": 783, \"0\": 6, \"3\": 12, \"15\": 1}, \"15\": {\"8\": 218, \"3\": 93, \"15\": 416, \"13\": 236, \"1\": 82, \"5\": 124, \"6\": 11, \"7\": 5, \"0\": 13, \"10\": 1, \"9\": 1}, \"5\": {\"8\": 294, \"7\": 140, \"5\": 392, \"13\": 174, \"3\": 21, \"10\": 45, \"15\": 131, \"1\": 2, \"0\": 1}, \"14\": {\"14\": 601, \"11\": 144, \"7\": 17, \"12\": 151, \"5\": 16, \"2\": 254, \"13\": 12, \"10\": 3, \"8\": 2}, \"0\": {\"0\": 852, \"3\": 293, \"7\": 7, \"10\": 22, \"9\": 14, \"15\": 4, \"6\": 5, \"5\": 1, \"8\": 2}, \"3\": {\"7\": 65, \"0\": 367, \"3\": 301, \"15\": 94, \"10\": 67, \"8\": 59, \"6\": 72, \"9\": 61, \"13\": 51, \"5\": 54, \"1\": 9}, \"1\": {\"1\": 1060, \"15\": 80, \"5\": 10, \"13\": 43, \"8\": 7}, \"11\": {\"11\": 934, \"14\": 119, \"12\": 136, \"2\": 10, \"4\": 1}, \"7\": {\"10\": 373, \"5\": 133, \"8\": 91, \"7\": 551, \"3\": 20, \"13\": 20, \"15\": 8, \"4\": 1, \"12\": 1, \"0\": 2}, \"8\": {\"5\": 322, \"8\": 335, \"10\": 29, \"13\": 190, \"15\": 168, \"3\": 54, \"7\": 87, \"1\": 15}, \"4\": {\"4\": 1104, \"12\": 90, \"10\": 4, \"7\": 2}, \"10\": {\"0\": 19, \"10\": 627, \"7\": 401, \"3\": 44, \"8\": 41, \"13\": 18, \"5\": 42, \"4\": 4, \"12\": 2, \"15\": 2}, \"6\": {\"9\": 408, \"6\": 768, \"1\": 1, \"13\": 1, \"0\": 5, \"3\": 17}}, \"26\": {\"10\": {\"10\": 335, \"0\": 157, \"8\": 110, \"1\": 202, \"14\": 170, \"6\": 96, \"4\": 72, \"12\": 8, \"9\": 25, \"2\": 13, \"3\": 3, \"7\": 8, \"15\": 1}, \"12\": {\"12\": 1200}, \"1\": {\"0\": 180, \"1\": 532, \"8\": 27, \"14\": 285, \"10\": 136, \"4\": 29, \"6\": 7, \"7\": 2, \"2\": 2}, \"0\": {\"0\": 296, \"14\": 243, \"1\": 201, \"4\": 152, \"10\": 158, \"7\": 21, \"8\": 87, \"2\": 15, \"6\": 7, \"3\": 3, \"9\": 8, \"15\": 9}, \"15\": {\"3\": 351, \"7\": 144, \"15\": 478, \"2\": 137, \"5\": 13, \"4\": 63, \"8\": 10, \"13\": 1, \"9\": 2, \"0\": 1}, \"13\": {\"13\": 750, \"5\": 257, \"8\": 8, \"9\": 117, \"6\": 58, \"2\": 3, \"7\": 6, \"15\": 1}, \"8\": {\"8\": 369, \"4\": 90, \"0\": 91, \"2\": 109, \"7\": 114, \"14\": 92, \"1\": 16, \"10\": 69, \"5\": 64, \"9\": 133, \"6\": 37, \"15\": 6, \"13\": 5, \"3\": 5}, \"3\": {\"3\": 521, \"2\": 120, \"15\": 364, \"7\": 112, \"4\": 73, \"9\": 3, \"8\": 3, \"5\": 3, \"0\": 1}, \"11\": {\"11\": 1195, \"12\": 5}, \"4\": {\"2\": 130, \"0\": 136, \"4\": 539, \"15\": 65, \"7\": 86, \"10\": 24, \"1\": 17, \"3\": 68, \"8\": 72, \"14\": 59, \"9\": 3, \"5\": 1}, \"6\": {\"6\": 768, \"5\": 62, \"14\": 10, \"9\": 150, \"10\": 103, \"8\": 37, \"13\": 55, \"0\": 6, \"1\": 7, \"2\": 1, \"7\": 1}, \"7\": {\"8\": 95, \"7\": 347, \"15\": 105, \"2\": 310, \"4\": 92, \"3\": 90, \"10\": 6, \"5\": 67, \"9\": 40, \"13\": 11, \"0\": 24, \"14\": 12, \"1\": 1}, \"14\": {\"0\": 259, \"8\": 97, \"1\": 275, \"10\": 156, \"9\": 6, \"14\": 302, \"4\": 61, \"6\": 12, \"13\": 1, \"7\": 8, \"2\": 17, \"5\": 5, \"3\": 1}, \"2\": {\"7\": 327, \"2\": 269, \"8\": 74, \"4\": 121, \"10\": 8, \"15\": 150, \"3\": 132, \"5\": 47, \"0\": 22, \"13\": 4, \"9\": 35, \"6\": 1, \"14\": 10}, \"5\": {\"9\": 122, \"13\": 290, \"7\": 99, \"5\": 342, \"15\": 26, \"14\": 3, \"8\": 51, \"6\": 166, \"1\": 1, \"2\": 59, \"3\": 29, \"10\": 5, \"4\": 5, \"0\": 2}, \"9\": {\"9\": 450, \"5\": 175, \"13\": 120, \"8\": 154, \"2\": 31, \"7\": 76, \"0\": 10, \"6\": 134, \"10\": 27, \"14\": 11, \"3\": 2, \"1\": 1, \"15\": 4, \"4\": 5}}, \"20\": {\"5\": {\"12\": 119, \"7\": 53, \"0\": 73, \"2\": 166, \"3\": 179, \"9\": 128, \"5\": 246, \"1\": 50, \"15\": 78, \"4\": 57, \"8\": 22, \"13\": 24, \"10\": 5}, \"15\": {\"3\": 16, \"12\": 108, \"15\": 308, \"1\": 136, \"13\": 273, \"2\": 113, \"9\": 134, \"5\": 66, \"0\": 42, \"4\": 4}, \"9\": {\"13\": 71, \"5\": 140, \"9\": 230, \"2\": 248, \"1\": 47, \"15\": 152, \"7\": 10, \"3\": 139, \"12\": 134, \"0\": 13, \"4\": 9, \"8\": 5, \"10\": 2}, \"7\": {\"7\": 730, \"8\": 143, \"6\": 50, \"10\": 36, \"3\": 165, \"5\": 30, \"2\": 28, \"11\": 1, \"9\": 12, \"14\": 4, \"4\": 1}, \"3\": {\"5\": 182, \"3\": 329, \"0\": 11, \"9\": 147, \"7\": 185, \"2\": 186, \"8\": 46, \"15\": 15, \"12\": 37, \"4\": 24, \"13\": 9, \"6\": 1, \"10\": 23, \"1\": 4, \"14\": 1}, \"8\": {\"7\": 163, \"14\": 183, \"10\": 204, \"8\": 487, \"3\": 45, \"12\": 2, \"6\": 42, \"4\": 57, \"5\": 13, \"2\": 3, \"0\": 1}, \"4\": {\"4\": 902, \"12\": 51, \"8\": 41, \"5\": 40, \"10\": 30, \"2\": 8, \"0\": 85, \"9\": 8, \"1\": 12, \"3\": 19, \"7\": 2, \"14\": 2}, \"6\": {\"7\": 46, \"14\": 79, \"6\": 1006, \"10\": 31, \"8\": 38}, \"2\": {\"15\": 119, \"5\": 160, \"9\": 250, \"2\": 280, \"3\": 206, \"13\": 74, \"12\": 61, \"7\": 23, \"0\": 9, \"8\": 6, \"1\": 11, \"4\": 1}, \"12\": {\"15\": 114, \"9\": 131, \"0\": 150, \"12\": 318, \"4\": 57, \"1\": 214, \"5\": 116, \"2\": 63, \"3\": 26, \"13\": 10, \"7\": 1}, \"0\": {\"0\": 534, \"5\": 80, \"12\": 169, \"1\": 202, \"4\": 104, \"9\": 23, \"15\": 60, \"13\": 7, \"2\": 13, \"3\": 7, \"8\": 1}, \"13\": {\"13\": 726, \"0\": 5, \"9\": 49, \"5\": 17, \"2\": 95, \"15\": 245, \"1\": 34, \"3\": 15, \"12\": 13, \"11\": 1}, \"10\": {\"10\": 649, \"7\": 51, \"14\": 197, \"8\": 186, \"6\": 55, \"4\": 31, \"3\": 26, \"5\": 4, \"9\": 1}, \"11\": {\"11\": 1194, \"7\": 5, \"6\": 1}, \"14\": {\"8\": 180, \"10\": 198, \"14\": 674, \"6\": 124, \"4\": 10, \"7\": 11, \"3\": 3}, \"1\": {\"1\": 515, \"12\": 214, \"0\": 194, \"15\": 126, \"13\": 40, \"3\": 6, \"9\": 30, \"4\": 19, \"5\": 39, \"2\": 17}}, \"14\": {\"13\": {\"13\": 762, \"6\": 331, \"15\": 1, \"2\": 87, \"14\": 15, \"4\": 2, \"5\": 2}, \"4\": {\"3\": 119, \"4\": 580, \"5\": 336, \"2\": 101, \"1\": 45, \"6\": 5, \"14\": 11, \"13\": 3}, \"6\": {\"6\": 688, \"13\": 281, \"2\": 76, \"14\": 146, \"4\": 8, \"5\": 1}, \"0\": {\"0\": 1098, \"10\": 79, \"14\": 8, \"3\": 11, \"9\": 4}, \"10\": {\"10\": 1012, \"0\": 149, \"11\": 36, \"9\": 1, \"2\": 1, \"12\": 1}, \"7\": {\"7\": 1155, \"15\": 42, \"1\": 3}, \"14\": {\"14\": 770, \"2\": 109, \"6\": 176, \"5\": 16, \"3\": 77, \"13\": 17, \"4\": 25, \"10\": 3, \"0\": 7}, \"15\": {\"15\": 1137, \"7\": 62, \"2\": 1}, \"5\": {\"2\": 112, \"5\": 510, \"4\": 369, \"3\": 81, \"1\": 118, \"14\": 6, \"6\": 3, \"13\": 1}, \"2\": {\"2\": 455, \"14\": 172, \"5\": 138, \"6\": 70, \"4\": 118, \"3\": 98, \"13\": 135, \"1\": 6, \"15\": 5, \"7\": 2, \"0\": 1}, \"9\": {\"9\": 1182, \"12\": 6, \"0\": 5, \"11\": 6, \"8\": 1}, \"12\": {\"11\": 311, \"8\": 46, \"12\": 586, \"0\": 94, \"9\": 112, \"10\": 44, \"3\": 6, \"14\": 1}, \"8\": {\"8\": 1200}, \"3\": {\"3\": 888, \"5\": 85, \"4\": 134, \"2\": 30, \"14\": 54, \"0\": 2, \"1\": 6, \"6\": 1}, \"1\": {\"5\": 148, \"1\": 980, \"4\": 55, \"7\": 2, \"2\": 9, \"3\": 6}, \"11\": {\"11\": 1129, \"10\": 23, \"12\": 42, \"9\": 6}}}, \"per_domain_accuracy\": {\"32\": {\"accuracy\": 0.7370833333333333, \"source?\": true}, \"50\": {\"accuracy\": 0.7584375, \"source?\": true}, \"8\": {\"accuracy\": 0.65328125, \"source?\": true}, \"44\": {\"accuracy\": 0.7211458333333334, \"source?\": false}, \"38\": {\"accuracy\": 0.5795833333333333, \"source?\": false}, \"26\": {\"accuracy\": 0.45276041666666667, \"source?\": false}, \"20\": {\"accuracy\": 0.47541666666666665, \"source?\": false}, \"14\": {\"accuracy\": 0.7360416666666667, \"source?\": false}}}, \"history\": {\"epoch_indices\": [1, 2, 3, 4, 5, 6, 7, 8, 9, 10, 11, 12, 13], \"train_label_loss\": [1.3350130863085625, 0.8231104855227565, 0.6999926078910865, 0.6230797418490762, 0.5533862393668719, 0.4858708350271696, 0.42720405280767454, 0.37584083400991936, 0.33054775333800723, 0.2907993900002025, 0.25820637194417595, 0.2297631643477842, 0.20440465024984739], \"source_val_label_loss\": [1.0111974477767944, 0.8273054361343384, 0.8027603626251221, 0.7965601682662964, 0.7894036769866943, 0.8072869181632996, 0.8356402516365051, 0.8584691286087036, 0.8971636891365051, 0.9308680891990662, 0.9592092633247375, 1.0038944482803345, 1.0609303712844849], \"target_val_label_loss\": [1.4505776166915894, 1.2439039945602417, 1.2169743776321411, 1.237166166305542, 1.2411348819732666, 1.2832196950912476, 1.3287931680679321, 1.3576180934906006, 1.434253454208374, 1.4707506895065308, 1.5268982648849487, 1.5748813152313232, 1.6651673316955566], \"source_val_acc_label\": [0.6181076388888889, 0.6820138888888889, 0.6872743055555556, 0.6994444444444444, 0.7045833333333333, 0.7138194444444445, 0.7127604166666667, 0.7125347222222222, 0.7162673611111111, 0.7108506944444445, 0.7102083333333333, 0.7063368055555556, 0.7117013888888889], \"target_val_acc_label\": [0.5016458333333333, 0.5614166666666667, 0.5664166666666667, 0.5818020833333334, 0.5845104166666667, 0.5897604166666667, 0.5899895833333333, 0.5909583333333334, 0.5929895833333333, 0.5898125, 0.5850729166666667, 0.5851666666666666, 0.5864479166666666]}, \"dataset_metrics\": {\"source\": {\"train\": {\"n_unique_x\": 336000, \"n_unique_y\": 16, \"n_batch/episode\": 12600}, \"val\": {\"n_unique_x\": 72000, \"n_unique_y\": 16, \"n_batch/episode\": 1800}, \"test\": {\"n_unique_x\": 72000, \"n_unique_y\": 16, \"n_batch/episode\": 1800}}, \"target\": {\"train\": {\"n_unique_x\": 560000, \"n_unique_y\": 16, \"n_batch/episode\": 21000}, \"val\": {\"n_unique_x\": 120000, \"n_unique_y\": 16, \"n_batch/episode\": 3000}, \"test\": {\"n_unique_x\": 120000, \"n_unique_y\": 16, \"n_batch/episode\": 3000}}}}'"
      ]
     },
     "execution_count": 20,
     "metadata": {},
     "output_type": "execute_result"
    }
   ],
   "source": [
    "json.dumps(experiment)"
   ]
  }
 ],
 "metadata": {
  "celltoolbar": "Tags",
  "kernelspec": {
   "display_name": "Python 3 (ipykernel)",
   "language": "python",
   "name": "python3"
  },
  "language_info": {
   "codemirror_mode": {
    "name": "ipython",
    "version": 3
   },
   "file_extension": ".py",
   "mimetype": "text/x-python",
   "name": "python",
   "nbconvert_exporter": "python",
   "pygments_lexer": "ipython3",
   "version": "3.8.12"
  },
  "papermill": {
   "default_parameters": {},
   "duration": 7293.092385,
   "end_time": "2022-03-26T20:58:45.989617",
   "environment_variables": {},
   "exception": null,
   "input_path": "/root/csc500-main/csc500-notebooks/templates/ptn_template.ipynb",
   "output_path": "trial.ipynb",
   "parameters": {
    "parameters": {
     "BEST_MODEL_PATH": "./best_model.pth",
     "NUM_LOGS_PER_EPOCH": 10,
     "criteria_for_best": "target_accuracy",
     "dataset_seed": 154325,
     "device": "cuda",
     "domains_source": [
      8,
      32,
      50
     ],
     "domains_target": [
      14,
      20,
      26,
      38,
      44
     ],
     "episode_transforms_source": [],
     "episode_transforms_target": [],
     "experiment_name": "tuned_1v2:oracle.run2_limited",
     "labels_source": [
      "3123D52",
      "3123D65",
      "3123D79",
      "3123D80",
      "3123D54",
      "3123D70",
      "3123D7B",
      "3123D89",
      "3123D58",
      "3123D76",
      "3123D7D",
      "3123EFE",
      "3123D64",
      "3123D78",
      "3123D7E",
      "3124E4A"
     ],
     "labels_target": [
      "3123D52",
      "3123D65",
      "3123D79",
      "3123D80",
      "3123D54",
      "3123D70",
      "3123D7B",
      "3123D89",
      "3123D58",
      "3123D76",
      "3123D7D",
      "3123EFE",
      "3123D64",
      "3123D78",
      "3123D7E",
      "3124E4A"
     ],
     "lr": 0.0001,
     "n_epoch": 50,
     "n_query": 2,
     "n_shot": 3,
     "n_way": 16,
     "num_examples_per_domain_per_label_source": -1,
     "num_examples_per_domain_per_label_target": -1,
     "patience": 3,
     "pickle_name": "oracle.Run2_10kExamples_stratified_ds.2022A.pkl",
     "seed": 154325,
     "test_k_factor": 2,
     "torch_default_dtype": "torch.float32",
     "train_k_factor": 3,
     "val_k_factor": 2,
     "x_net": [
      {
       "class": "nnReshape",
       "kargs": {
        "shape": [
         -1,
         1,
         2,
         256
        ]
       }
      },
      {
       "class": "Conv2d",
       "kargs": {
        "bias": false,
        "in_channels": 1,
        "kernel_size": [
         1,
         7
        ],
        "out_channels": 256,
        "padding": [
         0,
         3
        ]
       }
      },
      {
       "class": "ReLU",
       "kargs": {
        "inplace": true
       }
      },
      {
       "class": "BatchNorm2d",
       "kargs": {
        "num_features": 256
       }
      },
      {
       "class": "Conv2d",
       "kargs": {
        "bias": true,
        "in_channels": 256,
        "kernel_size": [
         2,
         7
        ],
        "out_channels": 80,
        "padding": [
         0,
         3
        ]
       }
      },
      {
       "class": "ReLU",
       "kargs": {
        "inplace": true
       }
      },
      {
       "class": "BatchNorm2d",
       "kargs": {
        "num_features": 80
       }
      },
      {
       "class": "Flatten",
       "kargs": {}
      },
      {
       "class": "Linear",
       "kargs": {
        "in_features": 20480,
        "out_features": 256
       }
      },
      {
       "class": "ReLU",
       "kargs": {
        "inplace": true
       }
      },
      {
       "class": "BatchNorm1d",
       "kargs": {
        "num_features": 256
       }
      },
      {
       "class": "Linear",
       "kargs": {
        "in_features": 256,
        "out_features": 256
       }
      }
     ],
     "x_transforms_source": [
      "unit_power"
     ],
     "x_transforms_target": [
      "unit_power"
     ]
    }
   },
   "start_time": "2022-03-26T18:57:12.897232",
   "version": "2.3.4"
  }
 },
 "nbformat": 4,
 "nbformat_minor": 5
}