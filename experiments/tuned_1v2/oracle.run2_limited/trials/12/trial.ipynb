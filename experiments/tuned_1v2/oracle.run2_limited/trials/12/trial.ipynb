{
 "cells": [
  {
   "cell_type": "markdown",
   "id": "9fea5f46",
   "metadata": {
    "papermill": {
     "duration": 0.022799,
     "end_time": "2022-03-26T17:57:22.406508",
     "exception": false,
     "start_time": "2022-03-26T17:57:22.383709",
     "status": "completed"
    },
    "tags": []
   },
   "source": [
    "# PTN Template\n",
    "This notebook serves as a template for single dataset PTN experiments  \n",
    "It can be run on its own by setting STANDALONE to True (do a find for \"STANDALONE\" to see where)  \n",
    "But it is intended to be executed as part of a *papermill.py script. See any of the   \n",
    "experimentes with a papermill script to get started with that workflow.  "
   ]
  },
  {
   "cell_type": "code",
   "execution_count": 1,
   "id": "0902182a",
   "metadata": {
    "execution": {
     "iopub.execute_input": "2022-03-26T17:57:22.456671Z",
     "iopub.status.busy": "2022-03-26T17:57:22.446116Z",
     "iopub.status.idle": "2022-03-26T17:57:24.309677Z",
     "shell.execute_reply": "2022-03-26T17:57:24.309244Z"
    },
    "papermill": {
     "duration": 1.885849,
     "end_time": "2022-03-26T17:57:24.309791",
     "exception": false,
     "start_time": "2022-03-26T17:57:22.423942",
     "status": "completed"
    },
    "tags": []
   },
   "outputs": [],
   "source": [
    "%load_ext autoreload\n",
    "%autoreload 2\n",
    "%matplotlib inline\n",
    "\n",
    "    \n",
    "import os, json, sys, time, random\n",
    "import numpy as np\n",
    "import torch\n",
    "from torch.optim import Adam\n",
    "from  easydict import EasyDict\n",
    "import matplotlib.pyplot as plt\n",
    "\n",
    "from steves_models.steves_ptn import Steves_Prototypical_Network\n",
    "\n",
    "from steves_utils.lazy_iterable_wrapper import Lazy_Iterable_Wrapper\n",
    "from steves_utils.iterable_aggregator import Iterable_Aggregator\n",
    "from steves_utils.ptn_train_eval_test_jig import  PTN_Train_Eval_Test_Jig\n",
    "from steves_utils.torch_sequential_builder import build_sequential\n",
    "from steves_utils.torch_utils import get_dataset_metrics, ptn_confusion_by_domain_over_dataloader\n",
    "from steves_utils.utils_v2 import (per_domain_accuracy_from_confusion, get_datasets_base_path)\n",
    "from steves_utils.PTN.utils import independent_accuracy_assesment\n",
    "\n",
    "from steves_utils.stratified_dataset.episodic_accessor import Episodic_Accessor_Factory\n",
    "\n",
    "from steves_utils.ptn_do_report import (\n",
    "    get_loss_curve,\n",
    "    get_results_table,\n",
    "    get_parameters_table,\n",
    "    get_domain_accuracies,\n",
    ")\n",
    "\n",
    "from steves_utils.transforms import get_chained_transform"
   ]
  },
  {
   "cell_type": "markdown",
   "id": "41c840b4",
   "metadata": {
    "papermill": {
     "duration": 0.014262,
     "end_time": "2022-03-26T17:57:24.339034",
     "exception": false,
     "start_time": "2022-03-26T17:57:24.324772",
     "status": "completed"
    },
    "tags": []
   },
   "source": [
    "# Required Parameters\n",
    "These are allowed parameters, not defaults\n",
    "Each of these values need to be present in the injected parameters (the notebook will raise an exception if they are not present)\n",
    "\n",
    "Papermill uses the cell tag \"parameters\" to inject the real parameters below this cell.\n",
    "Enable tags to see what I mean"
   ]
  },
  {
   "cell_type": "code",
   "execution_count": 2,
   "id": "fd44eb83",
   "metadata": {
    "execution": {
     "iopub.execute_input": "2022-03-26T17:57:24.373203Z",
     "iopub.status.busy": "2022-03-26T17:57:24.372700Z",
     "iopub.status.idle": "2022-03-26T17:57:24.397549Z",
     "shell.execute_reply": "2022-03-26T17:57:24.397178Z"
    },
    "papermill": {
     "duration": 0.044083,
     "end_time": "2022-03-26T17:57:24.397620",
     "exception": false,
     "start_time": "2022-03-26T17:57:24.353537",
     "status": "completed"
    },
    "tags": []
   },
   "outputs": [],
   "source": [
    "required_parameters = {\n",
    "    \"experiment_name\",\n",
    "    \"lr\",\n",
    "    \"device\",\n",
    "    \"seed\",\n",
    "    \"dataset_seed\",\n",
    "    \"labels_source\",\n",
    "    \"labels_target\",\n",
    "    \"domains_source\",\n",
    "    \"domains_target\",\n",
    "    \"num_examples_per_domain_per_label_source\",\n",
    "    \"num_examples_per_domain_per_label_target\",\n",
    "    \"n_shot\",\n",
    "    \"n_way\",\n",
    "    \"n_query\",\n",
    "    \"train_k_factor\",\n",
    "    \"val_k_factor\",\n",
    "    \"test_k_factor\",\n",
    "    \"n_epoch\",\n",
    "    \"patience\",\n",
    "    \"criteria_for_best\",\n",
    "    \"x_transforms_source\",\n",
    "    \"x_transforms_target\",\n",
    "    \"episode_transforms_source\",\n",
    "    \"episode_transforms_target\",\n",
    "    \"pickle_name\",\n",
    "    \"x_net\",\n",
    "    \"NUM_LOGS_PER_EPOCH\",\n",
    "    \"BEST_MODEL_PATH\",\n",
    "    \"torch_default_dtype\"\n",
    "}"
   ]
  },
  {
   "cell_type": "code",
   "execution_count": 3,
   "id": "fa3f0049",
   "metadata": {
    "execution": {
     "iopub.execute_input": "2022-03-26T17:57:24.439987Z",
     "iopub.status.busy": "2022-03-26T17:57:24.439317Z",
     "iopub.status.idle": "2022-03-26T17:57:24.461053Z",
     "shell.execute_reply": "2022-03-26T17:57:24.460685Z"
    },
    "papermill": {
     "duration": 0.04897,
     "end_time": "2022-03-26T17:57:24.461124",
     "exception": false,
     "start_time": "2022-03-26T17:57:24.412154",
     "status": "completed"
    },
    "tags": [
     "parameters"
    ]
   },
   "outputs": [],
   "source": [
    "\n",
    "\n",
    "standalone_parameters = {}\n",
    "standalone_parameters[\"experiment_name\"] = \"STANDALONE PTN\"\n",
    "standalone_parameters[\"lr\"] = 0.0001\n",
    "standalone_parameters[\"device\"] = \"cuda\"\n",
    "\n",
    "standalone_parameters[\"seed\"] = 1337\n",
    "standalone_parameters[\"dataset_seed\"] = 1337\n",
    "\n",
    "\n",
    "standalone_parameters[\"num_examples_per_domain_per_label_source\"]=100\n",
    "standalone_parameters[\"num_examples_per_domain_per_label_target\"]=100\n",
    "\n",
    "standalone_parameters[\"n_shot\"] = 3\n",
    "standalone_parameters[\"n_query\"]  = 2\n",
    "standalone_parameters[\"train_k_factor\"] = 1\n",
    "standalone_parameters[\"val_k_factor\"] = 2\n",
    "standalone_parameters[\"test_k_factor\"] = 2\n",
    "\n",
    "\n",
    "standalone_parameters[\"n_epoch\"] = 100\n",
    "\n",
    "standalone_parameters[\"patience\"] = 10\n",
    "standalone_parameters[\"criteria_for_best\"] = \"target_accuracy\"\n",
    "\n",
    "standalone_parameters[\"x_transforms_source\"] = [\"unit_power\"]\n",
    "standalone_parameters[\"x_transforms_target\"] = [\"unit_power\"]\n",
    "standalone_parameters[\"episode_transforms_source\"] = []\n",
    "standalone_parameters[\"episode_transforms_target\"] = []\n",
    "\n",
    "standalone_parameters[\"torch_default_dtype\"] = \"torch.float32\" \n",
    "\n",
    "\n",
    "\n",
    "standalone_parameters[\"x_net\"] =     [\n",
    "    {\"class\": \"nnReshape\", \"kargs\": {\"shape\":[-1, 1, 2, 256]}},\n",
    "    {\"class\": \"Conv2d\", \"kargs\": { \"in_channels\":1, \"out_channels\":256, \"kernel_size\":(1,7), \"bias\":False, \"padding\":(0,3), },},\n",
    "    {\"class\": \"ReLU\", \"kargs\": {\"inplace\": True}},\n",
    "    {\"class\": \"BatchNorm2d\", \"kargs\": {\"num_features\":256}},\n",
    "\n",
    "    {\"class\": \"Conv2d\", \"kargs\": { \"in_channels\":256, \"out_channels\":80, \"kernel_size\":(2,7), \"bias\":True, \"padding\":(0,3), },},\n",
    "    {\"class\": \"ReLU\", \"kargs\": {\"inplace\": True}},\n",
    "    {\"class\": \"BatchNorm2d\", \"kargs\": {\"num_features\":80}},\n",
    "    {\"class\": \"Flatten\", \"kargs\": {}},\n",
    "\n",
    "    {\"class\": \"Linear\", \"kargs\": {\"in_features\": 80*256, \"out_features\": 256}}, # 80 units per IQ pair\n",
    "    {\"class\": \"ReLU\", \"kargs\": {\"inplace\": True}},\n",
    "    {\"class\": \"BatchNorm1d\", \"kargs\": {\"num_features\":256}},\n",
    "\n",
    "    {\"class\": \"Linear\", \"kargs\": {\"in_features\": 256, \"out_features\": 256}},\n",
    "]\n",
    "\n",
    "# Parameters relevant to results\n",
    "# These parameters will basically never need to change\n",
    "standalone_parameters[\"NUM_LOGS_PER_EPOCH\"] = 10\n",
    "standalone_parameters[\"BEST_MODEL_PATH\"] = \"./best_model.pth\"\n",
    "\n",
    "# uncomment for CORES dataset\n",
    "from steves_utils.CORES.utils import (\n",
    "    ALL_NODES,\n",
    "    ALL_NODES_MINIMUM_1000_EXAMPLES,\n",
    "    ALL_DAYS\n",
    ")\n",
    "\n",
    "\n",
    "standalone_parameters[\"labels_source\"] = ALL_NODES\n",
    "standalone_parameters[\"labels_target\"] = ALL_NODES\n",
    "\n",
    "standalone_parameters[\"domains_source\"] = [1]\n",
    "standalone_parameters[\"domains_target\"] = [2,3,4,5]\n",
    "\n",
    "standalone_parameters[\"pickle_name\"] = \"cores.stratified_ds.2022A.pkl\"\n",
    "\n",
    "\n",
    "# Uncomment these for ORACLE dataset\n",
    "# from steves_utils.ORACLE.utils_v2 import (\n",
    "#     ALL_DISTANCES_FEET,\n",
    "#     ALL_RUNS,\n",
    "#     ALL_SERIAL_NUMBERS,\n",
    "# )\n",
    "# standalone_parameters[\"labels_source\"] = ALL_SERIAL_NUMBERS\n",
    "# standalone_parameters[\"labels_target\"] = ALL_SERIAL_NUMBERS\n",
    "# standalone_parameters[\"domains_source\"] = [8,20, 38,50]\n",
    "# standalone_parameters[\"domains_target\"] = [14, 26, 32, 44, 56]\n",
    "# standalone_parameters[\"pickle_name\"] = \"oracle.frame_indexed.stratified_ds.2022A.pkl\"\n",
    "# standalone_parameters[\"num_examples_per_domain_per_label_source\"]=1000\n",
    "# standalone_parameters[\"num_examples_per_domain_per_label_target\"]=1000\n",
    "\n",
    "# Uncomment these for Metahan dataset\n",
    "# standalone_parameters[\"labels_source\"] = list(range(19))\n",
    "# standalone_parameters[\"labels_target\"] = list(range(19))\n",
    "# standalone_parameters[\"domains_source\"] = [0]\n",
    "# standalone_parameters[\"domains_target\"] = [1]\n",
    "# standalone_parameters[\"pickle_name\"] = \"metehan.stratified_ds.2022A.pkl\"\n",
    "# standalone_parameters[\"n_way\"]  = len(standalone_parameters[\"labels_source\"])\n",
    "# standalone_parameters[\"num_examples_per_domain_per_label_source\"]=200\n",
    "# standalone_parameters[\"num_examples_per_domain_per_label_target\"]=100\n",
    "\n",
    "\n",
    "standalone_parameters[\"n_way\"]  = len(standalone_parameters[\"labels_source\"])"
   ]
  },
  {
   "cell_type": "code",
   "execution_count": 4,
   "id": "c0003e03",
   "metadata": {
    "execution": {
     "iopub.execute_input": "2022-03-26T17:57:24.501418Z",
     "iopub.status.busy": "2022-03-26T17:57:24.500994Z",
     "iopub.status.idle": "2022-03-26T17:57:24.520445Z",
     "shell.execute_reply": "2022-03-26T17:57:24.520077Z"
    },
    "papermill": {
     "duration": 0.044598,
     "end_time": "2022-03-26T17:57:24.520516",
     "exception": false,
     "start_time": "2022-03-26T17:57:24.475918",
     "status": "completed"
    },
    "tags": [
     "injected-parameters"
    ]
   },
   "outputs": [],
   "source": [
    "# Parameters\n",
    "parameters = {\n",
    "    \"experiment_name\": \"tuned_1v2:oracle.run2_limited\",\n",
    "    \"device\": \"cuda\",\n",
    "    \"lr\": 0.0001,\n",
    "    \"labels_source\": [\n",
    "        \"3123D52\",\n",
    "        \"3123D65\",\n",
    "        \"3123D79\",\n",
    "        \"3123D80\",\n",
    "        \"3123D54\",\n",
    "        \"3123D70\",\n",
    "        \"3123D7B\",\n",
    "        \"3123D89\",\n",
    "        \"3123D58\",\n",
    "        \"3123D76\",\n",
    "        \"3123D7D\",\n",
    "        \"3123EFE\",\n",
    "        \"3123D64\",\n",
    "        \"3123D78\",\n",
    "        \"3123D7E\",\n",
    "        \"3124E4A\",\n",
    "    ],\n",
    "    \"labels_target\": [\n",
    "        \"3123D52\",\n",
    "        \"3123D65\",\n",
    "        \"3123D79\",\n",
    "        \"3123D80\",\n",
    "        \"3123D54\",\n",
    "        \"3123D70\",\n",
    "        \"3123D7B\",\n",
    "        \"3123D89\",\n",
    "        \"3123D58\",\n",
    "        \"3123D76\",\n",
    "        \"3123D7D\",\n",
    "        \"3123EFE\",\n",
    "        \"3123D64\",\n",
    "        \"3123D78\",\n",
    "        \"3123D7E\",\n",
    "        \"3124E4A\",\n",
    "    ],\n",
    "    \"episode_transforms_source\": [],\n",
    "    \"episode_transforms_target\": [],\n",
    "    \"domains_source\": [8, 32, 50],\n",
    "    \"domains_target\": [14, 20, 26, 38, 44],\n",
    "    \"num_examples_per_domain_per_label_source\": -1,\n",
    "    \"num_examples_per_domain_per_label_target\": -1,\n",
    "    \"n_shot\": 3,\n",
    "    \"n_way\": 16,\n",
    "    \"n_query\": 2,\n",
    "    \"train_k_factor\": 3,\n",
    "    \"val_k_factor\": 2,\n",
    "    \"test_k_factor\": 2,\n",
    "    \"torch_default_dtype\": \"torch.float32\",\n",
    "    \"n_epoch\": 50,\n",
    "    \"patience\": 3,\n",
    "    \"criteria_for_best\": \"target_accuracy\",\n",
    "    \"x_net\": [\n",
    "        {\"class\": \"nnReshape\", \"kargs\": {\"shape\": [-1, 1, 2, 256]}},\n",
    "        {\n",
    "            \"class\": \"Conv2d\",\n",
    "            \"kargs\": {\n",
    "                \"in_channels\": 1,\n",
    "                \"out_channels\": 256,\n",
    "                \"kernel_size\": [1, 7],\n",
    "                \"bias\": False,\n",
    "                \"padding\": [0, 3],\n",
    "            },\n",
    "        },\n",
    "        {\"class\": \"ReLU\", \"kargs\": {\"inplace\": True}},\n",
    "        {\"class\": \"BatchNorm2d\", \"kargs\": {\"num_features\": 256}},\n",
    "        {\n",
    "            \"class\": \"Conv2d\",\n",
    "            \"kargs\": {\n",
    "                \"in_channels\": 256,\n",
    "                \"out_channels\": 80,\n",
    "                \"kernel_size\": [2, 7],\n",
    "                \"bias\": True,\n",
    "                \"padding\": [0, 3],\n",
    "            },\n",
    "        },\n",
    "        {\"class\": \"ReLU\", \"kargs\": {\"inplace\": True}},\n",
    "        {\"class\": \"BatchNorm2d\", \"kargs\": {\"num_features\": 80}},\n",
    "        {\"class\": \"Flatten\", \"kargs\": {}},\n",
    "        {\"class\": \"Linear\", \"kargs\": {\"in_features\": 20480, \"out_features\": 256}},\n",
    "        {\"class\": \"ReLU\", \"kargs\": {\"inplace\": True}},\n",
    "        {\"class\": \"BatchNorm1d\", \"kargs\": {\"num_features\": 256}},\n",
    "        {\"class\": \"Linear\", \"kargs\": {\"in_features\": 256, \"out_features\": 256}},\n",
    "    ],\n",
    "    \"NUM_LOGS_PER_EPOCH\": 10,\n",
    "    \"BEST_MODEL_PATH\": \"./best_model.pth\",\n",
    "    \"pickle_name\": \"oracle.Run2_10kExamples_stratified_ds.2022A.pkl\",\n",
    "    \"x_transforms_source\": [\"unit_power\"],\n",
    "    \"x_transforms_target\": [\"unit_power\"],\n",
    "    \"dataset_seed\": 7,\n",
    "    \"seed\": 7,\n",
    "}\n"
   ]
  },
  {
   "cell_type": "code",
   "execution_count": 5,
   "id": "8fa1cc33",
   "metadata": {
    "execution": {
     "iopub.execute_input": "2022-03-26T17:57:24.556074Z",
     "iopub.status.busy": "2022-03-26T17:57:24.555701Z",
     "iopub.status.idle": "2022-03-26T17:57:24.577079Z",
     "shell.execute_reply": "2022-03-26T17:57:24.576711Z"
    },
    "papermill": {
     "duration": 0.041919,
     "end_time": "2022-03-26T17:57:24.577149",
     "exception": false,
     "start_time": "2022-03-26T17:57:24.535230",
     "status": "completed"
    },
    "tags": []
   },
   "outputs": [],
   "source": [
    "# Set this to True if you want to run this template directly\n",
    "STANDALONE = False\n",
    "if STANDALONE:\n",
    "    print(\"parameters not injected, running with standalone_parameters\")\n",
    "    parameters = standalone_parameters\n",
    "\n",
    "if not 'parameters' in locals() and not 'parameters' in globals():\n",
    "    raise Exception(\"Parameter injection failed\")\n",
    "\n",
    "#Use an easy dict for all the parameters\n",
    "p = EasyDict(parameters)\n",
    "\n",
    "supplied_keys = set(p.keys())\n",
    "\n",
    "if  supplied_keys != required_parameters:\n",
    "    print(\"Parameters are incorrect\")\n",
    "    if len(supplied_keys - required_parameters)>0: print(\"Shouldn't have:\", str(supplied_keys - required_parameters))\n",
    "    if len(required_parameters - supplied_keys)>0: print(\"Need to have:\", str(required_parameters - supplied_keys))\n",
    "    raise RuntimeError(\"Parameters are incorrect\")\n",
    "\n"
   ]
  },
  {
   "cell_type": "code",
   "execution_count": 6,
   "id": "3a028d58",
   "metadata": {
    "execution": {
     "iopub.execute_input": "2022-03-26T17:57:24.611394Z",
     "iopub.status.busy": "2022-03-26T17:57:24.610803Z",
     "iopub.status.idle": "2022-03-26T17:57:24.632277Z",
     "shell.execute_reply": "2022-03-26T17:57:24.631957Z"
    },
    "papermill": {
     "duration": 0.040043,
     "end_time": "2022-03-26T17:57:24.632348",
     "exception": false,
     "start_time": "2022-03-26T17:57:24.592305",
     "status": "completed"
    },
    "tags": []
   },
   "outputs": [],
   "source": [
    "###################################\n",
    "# Set the RNGs and make it all deterministic\n",
    "###################################\n",
    "np.random.seed(p.seed)\n",
    "random.seed(p.seed)\n",
    "torch.manual_seed(p.seed)\n",
    "\n",
    "torch.use_deterministic_algorithms(True) "
   ]
  },
  {
   "cell_type": "code",
   "execution_count": 7,
   "id": "b691acf6",
   "metadata": {
    "execution": {
     "iopub.execute_input": "2022-03-26T17:57:24.666234Z",
     "iopub.status.busy": "2022-03-26T17:57:24.665867Z",
     "iopub.status.idle": "2022-03-26T17:57:24.689059Z",
     "shell.execute_reply": "2022-03-26T17:57:24.688740Z"
    },
    "papermill": {
     "duration": 0.041517,
     "end_time": "2022-03-26T17:57:24.689131",
     "exception": false,
     "start_time": "2022-03-26T17:57:24.647614",
     "status": "completed"
    },
    "tags": []
   },
   "outputs": [],
   "source": [
    "###########################################\n",
    "# The stratified datasets honor this\n",
    "###########################################\n",
    "torch.set_default_dtype(eval(p.torch_default_dtype))"
   ]
  },
  {
   "cell_type": "code",
   "execution_count": 8,
   "id": "b5fba671",
   "metadata": {
    "execution": {
     "iopub.execute_input": "2022-03-26T17:57:24.722091Z",
     "iopub.status.busy": "2022-03-26T17:57:24.721724Z",
     "iopub.status.idle": "2022-03-26T17:57:24.774105Z",
     "shell.execute_reply": "2022-03-26T17:57:24.773390Z"
    },
    "papermill": {
     "duration": 0.069973,
     "end_time": "2022-03-26T17:57:24.774277",
     "exception": false,
     "start_time": "2022-03-26T17:57:24.704304",
     "status": "completed"
    },
    "tags": []
   },
   "outputs": [],
   "source": [
    "###################################\n",
    "# Build the network(s)\n",
    "# Note: It's critical to do this AFTER setting the RNG\n",
    "# (This is due to the randomized initial weights)\n",
    "###################################\n",
    "x_net = build_sequential(p.x_net)"
   ]
  },
  {
   "cell_type": "code",
   "execution_count": 9,
   "id": "5d7e61cc",
   "metadata": {
    "execution": {
     "iopub.execute_input": "2022-03-26T17:57:24.814214Z",
     "iopub.status.busy": "2022-03-26T17:57:24.813850Z",
     "iopub.status.idle": "2022-03-26T17:57:24.838037Z",
     "shell.execute_reply": "2022-03-26T17:57:24.837229Z"
    },
    "papermill": {
     "duration": 0.043157,
     "end_time": "2022-03-26T17:57:24.838194",
     "exception": false,
     "start_time": "2022-03-26T17:57:24.795037",
     "status": "completed"
    },
    "tags": []
   },
   "outputs": [],
   "source": [
    "start_time_secs = time.time()"
   ]
  },
  {
   "cell_type": "code",
   "execution_count": 10,
   "id": "fd5442bc",
   "metadata": {
    "execution": {
     "iopub.execute_input": "2022-03-26T17:57:24.886650Z",
     "iopub.status.busy": "2022-03-26T17:57:24.885774Z",
     "iopub.status.idle": "2022-03-26T17:59:16.043217Z",
     "shell.execute_reply": "2022-03-26T17:59:16.042398Z"
    },
    "papermill": {
     "duration": 111.184505,
     "end_time": "2022-03-26T17:59:16.043402",
     "exception": false,
     "start_time": "2022-03-26T17:57:24.858897",
     "status": "completed"
    },
    "tags": []
   },
   "outputs": [],
   "source": [
    "###################################\n",
    "# Build the dataset\n",
    "###################################\n",
    "\n",
    "if p.x_transforms_source == []: x_transform_source = None\n",
    "else: x_transform_source = get_chained_transform(p.x_transforms_source) \n",
    "\n",
    "if p.x_transforms_target == []: x_transform_target = None\n",
    "else: x_transform_target = get_chained_transform(p.x_transforms_target)\n",
    "\n",
    "if p.episode_transforms_source == []: episode_transform_source = None\n",
    "else: raise Exception(\"episode_transform_source not implemented\")\n",
    "\n",
    "if p.episode_transforms_target == []: episode_transform_target = None\n",
    "else: raise Exception(\"episode_transform_target not implemented\")\n",
    "\n",
    "\n",
    "eaf_source = Episodic_Accessor_Factory(\n",
    "    labels=p.labels_source,\n",
    "    domains=p.domains_source,\n",
    "    num_examples_per_domain_per_label=p.num_examples_per_domain_per_label_source,\n",
    "    iterator_seed=p.seed,\n",
    "    dataset_seed=p.dataset_seed,\n",
    "    n_shot=p.n_shot,\n",
    "    n_way=p.n_way,\n",
    "    n_query=p.n_query,\n",
    "    train_val_test_k_factors=(p.train_k_factor,p.val_k_factor,p.test_k_factor),\n",
    "    pickle_path=os.path.join(get_datasets_base_path(), p.pickle_name),\n",
    "    x_transform_func=x_transform_source,\n",
    "    example_transform_func=episode_transform_source,\n",
    "    \n",
    ")\n",
    "train_original_source, val_original_source, test_original_source = eaf_source.get_train(), eaf_source.get_val(), eaf_source.get_test()\n",
    "\n",
    "\n",
    "eaf_target = Episodic_Accessor_Factory(\n",
    "    labels=p.labels_target,\n",
    "    domains=p.domains_target,\n",
    "    num_examples_per_domain_per_label=p.num_examples_per_domain_per_label_target,\n",
    "    iterator_seed=p.seed,\n",
    "    dataset_seed=p.dataset_seed,\n",
    "    n_shot=p.n_shot,\n",
    "    n_way=p.n_way,\n",
    "    n_query=p.n_query,\n",
    "    train_val_test_k_factors=(p.train_k_factor,p.val_k_factor,p.test_k_factor),\n",
    "    pickle_path=os.path.join(get_datasets_base_path(), p.pickle_name),\n",
    "    x_transform_func=x_transform_target,\n",
    "    example_transform_func=episode_transform_target,\n",
    ")\n",
    "train_original_target, val_original_target, test_original_target = eaf_target.get_train(), eaf_target.get_val(), eaf_target.get_test()\n",
    "\n",
    "\n",
    "transform_lambda = lambda ex: ex[1] # Original is (<domain>, <episode>) so we strip down to episode only\n",
    "\n",
    "train_processed_source = Lazy_Iterable_Wrapper(train_original_source, transform_lambda)\n",
    "val_processed_source   = Lazy_Iterable_Wrapper(val_original_source, transform_lambda)\n",
    "test_processed_source  = Lazy_Iterable_Wrapper(test_original_source, transform_lambda)\n",
    "\n",
    "train_processed_target = Lazy_Iterable_Wrapper(train_original_target, transform_lambda)\n",
    "val_processed_target   = Lazy_Iterable_Wrapper(val_original_target, transform_lambda)\n",
    "test_processed_target  = Lazy_Iterable_Wrapper(test_original_target, transform_lambda)\n",
    "\n",
    "datasets = EasyDict({\n",
    "    \"source\": {\n",
    "        \"original\": {\"train\":train_original_source, \"val\":val_original_source, \"test\":test_original_source},\n",
    "        \"processed\": {\"train\":train_processed_source, \"val\":val_processed_source, \"test\":test_processed_source}\n",
    "    },\n",
    "    \"target\": {\n",
    "        \"original\": {\"train\":train_original_target, \"val\":val_original_target, \"test\":test_original_target},\n",
    "        \"processed\": {\"train\":train_processed_target, \"val\":val_processed_target, \"test\":test_processed_target}\n",
    "    },\n",
    "})"
   ]
  },
  {
   "cell_type": "code",
   "execution_count": 11,
   "id": "296189d9",
   "metadata": {
    "execution": {
     "iopub.execute_input": "2022-03-26T17:59:16.086741Z",
     "iopub.status.busy": "2022-03-26T17:59:16.086169Z",
     "iopub.status.idle": "2022-03-26T17:59:22.338940Z",
     "shell.execute_reply": "2022-03-26T17:59:22.339976Z"
    },
    "papermill": {
     "duration": 6.276258,
     "end_time": "2022-03-26T17:59:22.340303",
     "exception": false,
     "start_time": "2022-03-26T17:59:16.064045",
     "status": "completed"
    },
    "tags": []
   },
   "outputs": [
    {
     "name": "stdout",
     "output_type": "stream",
     "text": [
      "Visually inspect these to see if they line up with expected values given the transforms\n",
      "x_transforms_source ['unit_power']\n",
      "x_transforms_target ['unit_power']\n",
      "Average magnitude, source: 0.8596183\n",
      "Average power, source: 1.0\n"
     ]
    },
    {
     "name": "stdout",
     "output_type": "stream",
     "text": [
      "Average magnitude, target: 0.8860433\n",
      "Average power, target: 1.0\n"
     ]
    }
   ],
   "source": [
    "# Some quick unit tests on the data\n",
    "from steves_utils.transforms import get_average_power, get_average_magnitude\n",
    "\n",
    "q_x, q_y, s_x, s_y, truth = next(iter(train_processed_source))\n",
    "\n",
    "assert q_x.dtype == eval(p.torch_default_dtype)\n",
    "assert s_x.dtype == eval(p.torch_default_dtype)\n",
    "\n",
    "print(\"Visually inspect these to see if they line up with expected values given the transforms\")\n",
    "print('x_transforms_source', p.x_transforms_source)\n",
    "print('x_transforms_target', p.x_transforms_target)\n",
    "print(\"Average magnitude, source:\", get_average_magnitude(q_x[0].numpy()))\n",
    "print(\"Average power, source:\", get_average_power(q_x[0].numpy()))\n",
    "\n",
    "q_x, q_y, s_x, s_y, truth = next(iter(train_processed_target))\n",
    "print(\"Average magnitude, target:\", get_average_magnitude(q_x[0].numpy()))\n",
    "print(\"Average power, target:\", get_average_power(q_x[0].numpy()))\n"
   ]
  },
  {
   "cell_type": "code",
   "execution_count": 12,
   "id": "bbdacba1",
   "metadata": {
    "execution": {
     "iopub.execute_input": "2022-03-26T17:59:22.385599Z",
     "iopub.status.busy": "2022-03-26T17:59:22.385031Z",
     "iopub.status.idle": "2022-03-26T17:59:22.579744Z",
     "shell.execute_reply": "2022-03-26T17:59:22.579384Z"
    },
    "papermill": {
     "duration": 0.217671,
     "end_time": "2022-03-26T17:59:22.579833",
     "exception": false,
     "start_time": "2022-03-26T17:59:22.362162",
     "status": "completed"
    },
    "tags": []
   },
   "outputs": [
    {
     "name": "stdout",
     "output_type": "stream",
     "text": [
      "(2, 256)\n"
     ]
    }
   ],
   "source": [
    "###################################\n",
    "# Build the model\n",
    "###################################\n",
    "model = Steves_Prototypical_Network(x_net, device=p.device, x_shape=(2,256))\n",
    "optimizer = Adam(params=model.parameters(), lr=p.lr)"
   ]
  },
  {
   "cell_type": "code",
   "execution_count": 13,
   "id": "22b39ac5",
   "metadata": {
    "execution": {
     "iopub.execute_input": "2022-03-26T17:59:22.621698Z",
     "iopub.status.busy": "2022-03-26T17:59:22.621320Z",
     "iopub.status.idle": "2022-03-26T19:13:03.391471Z",
     "shell.execute_reply": "2022-03-26T19:13:03.388058Z"
    },
    "papermill": {
     "duration": 4420.797384,
     "end_time": "2022-03-26T19:13:03.393626",
     "exception": false,
     "start_time": "2022-03-26T17:59:22.596242",
     "status": "completed"
    },
    "tags": []
   },
   "outputs": [
    {
     "name": "stdout",
     "output_type": "stream",
     "text": [
      "epoch: 1, [batch: 1 / 12600], examples_per_second: 17.4345, train_label_loss: 2.7925, \n"
     ]
    },
    {
     "name": "stdout",
     "output_type": "stream",
     "text": [
      "epoch: 1, [batch: 1260 / 12600], examples_per_second: 3811.8372, train_label_loss: 1.8944, \n"
     ]
    },
    {
     "name": "stdout",
     "output_type": "stream",
     "text": [
      "epoch: 1, [batch: 2520 / 12600], examples_per_second: 3867.1536, train_label_loss: 1.1994, \n"
     ]
    },
    {
     "name": "stdout",
     "output_type": "stream",
     "text": [
      "epoch: 1, [batch: 3780 / 12600], examples_per_second: 3839.4092, train_label_loss: 1.2902, \n"
     ]
    },
    {
     "name": "stdout",
     "output_type": "stream",
     "text": [
      "epoch: 1, [batch: 5040 / 12600], examples_per_second: 3761.4489, train_label_loss: 1.3542, \n"
     ]
    },
    {
     "name": "stdout",
     "output_type": "stream",
     "text": [
      "epoch: 1, [batch: 6300 / 12600], examples_per_second: 3973.5985, train_label_loss: 0.9910, \n"
     ]
    },
    {
     "name": "stdout",
     "output_type": "stream",
     "text": [
      "epoch: 1, [batch: 7560 / 12600], examples_per_second: 3906.4757, train_label_loss: 1.4212, \n"
     ]
    },
    {
     "name": "stdout",
     "output_type": "stream",
     "text": [
      "epoch: 1, [batch: 8820 / 12600], examples_per_second: 3935.1665, train_label_loss: 1.0207, \n"
     ]
    },
    {
     "name": "stdout",
     "output_type": "stream",
     "text": [
      "epoch: 1, [batch: 10080 / 12600], examples_per_second: 4003.2592, train_label_loss: 0.7619, \n"
     ]
    },
    {
     "name": "stdout",
     "output_type": "stream",
     "text": [
      "epoch: 1, [batch: 11340 / 12600], examples_per_second: 4034.0839, train_label_loss: 1.2189, \n"
     ]
    },
    {
     "name": "stdout",
     "output_type": "stream",
     "text": [
      "=============================================================\n",
      "epoch: 1, source_val_acc_label: 0.5929, target_val_acc_label: 0.5006, source_val_label_loss: 1.0645, target_val_label_loss: 1.3646, \n",
      "=============================================================\n"
     ]
    },
    {
     "name": "stdout",
     "output_type": "stream",
     "text": [
      "New best\n"
     ]
    },
    {
     "name": "stdout",
     "output_type": "stream",
     "text": [
      "epoch: 2, [batch: 1 / 12600], examples_per_second: 2.0582, train_label_loss: 1.3829, \n"
     ]
    },
    {
     "name": "stdout",
     "output_type": "stream",
     "text": [
      "epoch: 2, [batch: 1260 / 12600], examples_per_second: 3888.2888, train_label_loss: 0.8208, \n"
     ]
    },
    {
     "name": "stdout",
     "output_type": "stream",
     "text": [
      "epoch: 2, [batch: 2520 / 12600], examples_per_second: 3939.1419, train_label_loss: 0.9729, \n"
     ]
    },
    {
     "name": "stdout",
     "output_type": "stream",
     "text": [
      "epoch: 2, [batch: 3780 / 12600], examples_per_second: 3898.0628, train_label_loss: 0.8445, \n"
     ]
    },
    {
     "name": "stdout",
     "output_type": "stream",
     "text": [
      "epoch: 2, [batch: 5040 / 12600], examples_per_second: 3857.0438, train_label_loss: 1.0494, \n"
     ]
    },
    {
     "name": "stdout",
     "output_type": "stream",
     "text": [
      "epoch: 2, [batch: 6300 / 12600], examples_per_second: 3874.3933, train_label_loss: 0.7144, \n"
     ]
    },
    {
     "name": "stdout",
     "output_type": "stream",
     "text": [
      "epoch: 2, [batch: 7560 / 12600], examples_per_second: 3929.1797, train_label_loss: 0.5871, \n"
     ]
    },
    {
     "name": "stdout",
     "output_type": "stream",
     "text": [
      "epoch: 2, [batch: 8820 / 12600], examples_per_second: 3839.0638, train_label_loss: 0.5305, \n"
     ]
    },
    {
     "name": "stdout",
     "output_type": "stream",
     "text": [
      "epoch: 2, [batch: 10080 / 12600], examples_per_second: 3826.8815, train_label_loss: 0.7869, \n"
     ]
    },
    {
     "name": "stdout",
     "output_type": "stream",
     "text": [
      "epoch: 2, [batch: 11340 / 12600], examples_per_second: 3961.0775, train_label_loss: 0.8216, \n"
     ]
    },
    {
     "name": "stdout",
     "output_type": "stream",
     "text": [
      "=============================================================\n",
      "epoch: 2, source_val_acc_label: 0.6845, target_val_acc_label: 0.5640, source_val_label_loss: 0.8200, target_val_label_loss: 1.2409, \n",
      "=============================================================\n"
     ]
    },
    {
     "name": "stdout",
     "output_type": "stream",
     "text": [
      "New best\n"
     ]
    },
    {
     "name": "stdout",
     "output_type": "stream",
     "text": [
      "epoch: 3, [batch: 1 / 12600], examples_per_second: 2.0680, train_label_loss: 0.4806, \n"
     ]
    },
    {
     "name": "stdout",
     "output_type": "stream",
     "text": [
      "epoch: 3, [batch: 1260 / 12600], examples_per_second: 3849.3728, train_label_loss: 0.8092, \n"
     ]
    },
    {
     "name": "stdout",
     "output_type": "stream",
     "text": [
      "epoch: 3, [batch: 2520 / 12600], examples_per_second: 3993.6818, train_label_loss: 0.8780, \n"
     ]
    },
    {
     "name": "stdout",
     "output_type": "stream",
     "text": [
      "epoch: 3, [batch: 3780 / 12600], examples_per_second: 3843.5777, train_label_loss: 0.4969, \n"
     ]
    },
    {
     "name": "stdout",
     "output_type": "stream",
     "text": [
      "epoch: 3, [batch: 5040 / 12600], examples_per_second: 3838.7217, train_label_loss: 0.5263, \n"
     ]
    },
    {
     "name": "stdout",
     "output_type": "stream",
     "text": [
      "epoch: 3, [batch: 6300 / 12600], examples_per_second: 3955.6472, train_label_loss: 0.4601, \n"
     ]
    },
    {
     "name": "stdout",
     "output_type": "stream",
     "text": [
      "epoch: 3, [batch: 7560 / 12600], examples_per_second: 3821.3282, train_label_loss: 0.7200, \n"
     ]
    },
    {
     "name": "stdout",
     "output_type": "stream",
     "text": [
      "epoch: 3, [batch: 8820 / 12600], examples_per_second: 3804.8291, train_label_loss: 0.5586, \n"
     ]
    },
    {
     "name": "stdout",
     "output_type": "stream",
     "text": [
      "epoch: 3, [batch: 10080 / 12600], examples_per_second: 3949.0364, train_label_loss: 0.8283, \n"
     ]
    },
    {
     "name": "stdout",
     "output_type": "stream",
     "text": [
      "epoch: 3, [batch: 11340 / 12600], examples_per_second: 3915.4840, train_label_loss: 0.6066, \n"
     ]
    },
    {
     "name": "stdout",
     "output_type": "stream",
     "text": [
      "=============================================================\n",
      "epoch: 3, source_val_acc_label: 0.6999, target_val_acc_label: 0.5812, source_val_label_loss: 0.8028, target_val_label_loss: 1.2320, \n",
      "=============================================================\n"
     ]
    },
    {
     "name": "stdout",
     "output_type": "stream",
     "text": [
      "New best\n"
     ]
    },
    {
     "name": "stdout",
     "output_type": "stream",
     "text": [
      "epoch: 4, [batch: 1 / 12600], examples_per_second: 2.0167, train_label_loss: 0.6625, \n"
     ]
    },
    {
     "name": "stdout",
     "output_type": "stream",
     "text": [
      "epoch: 4, [batch: 1260 / 12600], examples_per_second: 3780.0273, train_label_loss: 0.6988, \n"
     ]
    },
    {
     "name": "stdout",
     "output_type": "stream",
     "text": [
      "epoch: 4, [batch: 2520 / 12600], examples_per_second: 3799.0728, train_label_loss: 0.6713, \n"
     ]
    },
    {
     "name": "stdout",
     "output_type": "stream",
     "text": [
      "epoch: 4, [batch: 3780 / 12600], examples_per_second: 4068.4398, train_label_loss: 0.8014, \n"
     ]
    },
    {
     "name": "stdout",
     "output_type": "stream",
     "text": [
      "epoch: 4, [batch: 5040 / 12600], examples_per_second: 3991.0967, train_label_loss: 0.9776, \n"
     ]
    },
    {
     "name": "stdout",
     "output_type": "stream",
     "text": [
      "epoch: 4, [batch: 6300 / 12600], examples_per_second: 4042.2565, train_label_loss: 0.5068, \n"
     ]
    },
    {
     "name": "stdout",
     "output_type": "stream",
     "text": [
      "epoch: 4, [batch: 7560 / 12600], examples_per_second: 4026.7263, train_label_loss: 0.5305, \n"
     ]
    },
    {
     "name": "stdout",
     "output_type": "stream",
     "text": [
      "epoch: 4, [batch: 8820 / 12600], examples_per_second: 4028.8183, train_label_loss: 0.5771, \n"
     ]
    },
    {
     "name": "stdout",
     "output_type": "stream",
     "text": [
      "epoch: 4, [batch: 10080 / 12600], examples_per_second: 4009.2347, train_label_loss: 0.8218, \n"
     ]
    },
    {
     "name": "stdout",
     "output_type": "stream",
     "text": [
      "epoch: 4, [batch: 11340 / 12600], examples_per_second: 4014.6413, train_label_loss: 0.7816, \n"
     ]
    },
    {
     "name": "stdout",
     "output_type": "stream",
     "text": [
      "=============================================================\n",
      "epoch: 4, source_val_acc_label: 0.7034, target_val_acc_label: 0.5861, source_val_label_loss: 0.7816, target_val_label_loss: 1.2147, \n",
      "=============================================================\n"
     ]
    },
    {
     "name": "stdout",
     "output_type": "stream",
     "text": [
      "New best\n"
     ]
    },
    {
     "name": "stdout",
     "output_type": "stream",
     "text": [
      "epoch: 5, [batch: 1 / 12600], examples_per_second: 1.9758, train_label_loss: 0.3114, \n"
     ]
    },
    {
     "name": "stdout",
     "output_type": "stream",
     "text": [
      "epoch: 5, [batch: 1260 / 12600], examples_per_second: 3842.9999, train_label_loss: 0.7293, \n"
     ]
    },
    {
     "name": "stdout",
     "output_type": "stream",
     "text": [
      "epoch: 5, [batch: 2520 / 12600], examples_per_second: 3887.6261, train_label_loss: 0.5345, \n"
     ]
    },
    {
     "name": "stdout",
     "output_type": "stream",
     "text": [
      "epoch: 5, [batch: 3780 / 12600], examples_per_second: 3830.7425, train_label_loss: 0.5575, \n"
     ]
    },
    {
     "name": "stdout",
     "output_type": "stream",
     "text": [
      "epoch: 5, [batch: 5040 / 12600], examples_per_second: 3901.3596, train_label_loss: 0.5361, \n"
     ]
    },
    {
     "name": "stdout",
     "output_type": "stream",
     "text": [
      "epoch: 5, [batch: 6300 / 12600], examples_per_second: 3898.5070, train_label_loss: 0.5465, \n"
     ]
    },
    {
     "name": "stdout",
     "output_type": "stream",
     "text": [
      "epoch: 5, [batch: 7560 / 12600], examples_per_second: 3909.7680, train_label_loss: 0.6816, \n"
     ]
    },
    {
     "name": "stdout",
     "output_type": "stream",
     "text": [
      "epoch: 5, [batch: 8820 / 12600], examples_per_second: 3937.5607, train_label_loss: 0.6927, \n"
     ]
    },
    {
     "name": "stdout",
     "output_type": "stream",
     "text": [
      "epoch: 5, [batch: 10080 / 12600], examples_per_second: 3948.5872, train_label_loss: 0.2494, \n"
     ]
    },
    {
     "name": "stdout",
     "output_type": "stream",
     "text": [
      "epoch: 5, [batch: 11340 / 12600], examples_per_second: 3999.0285, train_label_loss: 0.5255, \n"
     ]
    },
    {
     "name": "stdout",
     "output_type": "stream",
     "text": [
      "=============================================================\n",
      "epoch: 5, source_val_acc_label: 0.7031, target_val_acc_label: 0.5832, source_val_label_loss: 0.7885, target_val_label_loss: 1.2253, \n",
      "=============================================================\n"
     ]
    },
    {
     "name": "stdout",
     "output_type": "stream",
     "text": [
      "epoch: 6, [batch: 1 / 12600], examples_per_second: 1.9497, train_label_loss: 0.5213, \n"
     ]
    },
    {
     "name": "stdout",
     "output_type": "stream",
     "text": [
      "epoch: 6, [batch: 1260 / 12600], examples_per_second: 3773.6975, train_label_loss: 0.4878, \n"
     ]
    },
    {
     "name": "stdout",
     "output_type": "stream",
     "text": [
      "epoch: 6, [batch: 2520 / 12600], examples_per_second: 3833.4709, train_label_loss: 0.5913, \n"
     ]
    },
    {
     "name": "stdout",
     "output_type": "stream",
     "text": [
      "epoch: 6, [batch: 3780 / 12600], examples_per_second: 4000.9612, train_label_loss: 0.6143, \n"
     ]
    },
    {
     "name": "stdout",
     "output_type": "stream",
     "text": [
      "epoch: 6, [batch: 5040 / 12600], examples_per_second: 3913.6178, train_label_loss: 0.5704, \n"
     ]
    },
    {
     "name": "stdout",
     "output_type": "stream",
     "text": [
      "epoch: 6, [batch: 6300 / 12600], examples_per_second: 3859.1661, train_label_loss: 0.4200, \n"
     ]
    },
    {
     "name": "stdout",
     "output_type": "stream",
     "text": [
      "epoch: 6, [batch: 7560 / 12600], examples_per_second: 3917.2788, train_label_loss: 0.3957, \n"
     ]
    },
    {
     "name": "stdout",
     "output_type": "stream",
     "text": [
      "epoch: 6, [batch: 8820 / 12600], examples_per_second: 3925.0877, train_label_loss: 0.3044, \n"
     ]
    },
    {
     "name": "stdout",
     "output_type": "stream",
     "text": [
      "epoch: 6, [batch: 10080 / 12600], examples_per_second: 3876.3945, train_label_loss: 0.5133, \n"
     ]
    },
    {
     "name": "stdout",
     "output_type": "stream",
     "text": [
      "epoch: 6, [batch: 11340 / 12600], examples_per_second: 3954.4715, train_label_loss: 0.7129, \n"
     ]
    },
    {
     "name": "stdout",
     "output_type": "stream",
     "text": [
      "=============================================================\n",
      "epoch: 6, source_val_acc_label: 0.7138, target_val_acc_label: 0.5910, source_val_label_loss: 0.8056, target_val_label_loss: 1.2845, \n",
      "=============================================================\n"
     ]
    },
    {
     "name": "stdout",
     "output_type": "stream",
     "text": [
      "New best\n"
     ]
    },
    {
     "name": "stdout",
     "output_type": "stream",
     "text": [
      "epoch: 7, [batch: 1 / 12600], examples_per_second: 1.9320, train_label_loss: 1.0037, \n"
     ]
    },
    {
     "name": "stdout",
     "output_type": "stream",
     "text": [
      "epoch: 7, [batch: 1260 / 12600], examples_per_second: 1684.3705, train_label_loss: 0.5563, \n"
     ]
    },
    {
     "name": "stdout",
     "output_type": "stream",
     "text": [
      "epoch: 7, [batch: 2520 / 12600], examples_per_second: 1898.9462, train_label_loss: 0.5581, \n"
     ]
    },
    {
     "name": "stdout",
     "output_type": "stream",
     "text": [
      "epoch: 7, [batch: 3780 / 12600], examples_per_second: 1754.2460, train_label_loss: 0.3633, \n"
     ]
    },
    {
     "name": "stdout",
     "output_type": "stream",
     "text": [
      "epoch: 7, [batch: 5040 / 12600], examples_per_second: 1781.2349, train_label_loss: 0.5958, \n"
     ]
    },
    {
     "name": "stdout",
     "output_type": "stream",
     "text": [
      "epoch: 7, [batch: 6300 / 12600], examples_per_second: 1869.5374, train_label_loss: 0.5003, \n"
     ]
    },
    {
     "name": "stdout",
     "output_type": "stream",
     "text": [
      "epoch: 7, [batch: 7560 / 12600], examples_per_second: 1681.1780, train_label_loss: 0.4114, \n"
     ]
    },
    {
     "name": "stdout",
     "output_type": "stream",
     "text": [
      "epoch: 7, [batch: 8820 / 12600], examples_per_second: 1842.7644, train_label_loss: 0.0979, \n"
     ]
    },
    {
     "name": "stdout",
     "output_type": "stream",
     "text": [
      "epoch: 7, [batch: 10080 / 12600], examples_per_second: 1670.5810, train_label_loss: 0.6907, \n"
     ]
    },
    {
     "name": "stdout",
     "output_type": "stream",
     "text": [
      "epoch: 7, [batch: 11340 / 12600], examples_per_second: 1853.5357, train_label_loss: 0.2906, \n"
     ]
    },
    {
     "name": "stdout",
     "output_type": "stream",
     "text": [
      "=============================================================\n",
      "epoch: 7, source_val_acc_label: 0.7073, target_val_acc_label: 0.5878, source_val_label_loss: 0.8277, target_val_label_loss: 1.2861, \n",
      "=============================================================\n"
     ]
    },
    {
     "name": "stdout",
     "output_type": "stream",
     "text": [
      "epoch: 8, [batch: 1 / 12600], examples_per_second: 0.6805, train_label_loss: 0.4719, \n"
     ]
    },
    {
     "name": "stdout",
     "output_type": "stream",
     "text": [
      "epoch: 8, [batch: 1260 / 12600], examples_per_second: 1813.5097, train_label_loss: 0.7132, \n"
     ]
    },
    {
     "name": "stdout",
     "output_type": "stream",
     "text": [
      "epoch: 8, [batch: 2520 / 12600], examples_per_second: 2598.3657, train_label_loss: 0.3883, \n"
     ]
    },
    {
     "name": "stdout",
     "output_type": "stream",
     "text": [
      "epoch: 8, [batch: 3780 / 12600], examples_per_second: 3795.7338, train_label_loss: 0.3551, \n"
     ]
    },
    {
     "name": "stdout",
     "output_type": "stream",
     "text": [
      "epoch: 8, [batch: 5040 / 12600], examples_per_second: 3074.0294, train_label_loss: 0.2984, \n"
     ]
    },
    {
     "name": "stdout",
     "output_type": "stream",
     "text": [
      "epoch: 8, [batch: 6300 / 12600], examples_per_second: 1937.6238, train_label_loss: 0.4321, \n"
     ]
    },
    {
     "name": "stdout",
     "output_type": "stream",
     "text": [
      "epoch: 8, [batch: 7560 / 12600], examples_per_second: 1919.0821, train_label_loss: 0.4944, \n"
     ]
    },
    {
     "name": "stdout",
     "output_type": "stream",
     "text": [
      "epoch: 8, [batch: 8820 / 12600], examples_per_second: 1930.8403, train_label_loss: 0.3325, \n"
     ]
    },
    {
     "name": "stdout",
     "output_type": "stream",
     "text": [
      "epoch: 8, [batch: 10080 / 12600], examples_per_second: 1919.1830, train_label_loss: 0.6116, \n"
     ]
    },
    {
     "name": "stdout",
     "output_type": "stream",
     "text": [
      "epoch: 8, [batch: 11340 / 12600], examples_per_second: 1918.4238, train_label_loss: 0.2470, \n"
     ]
    },
    {
     "name": "stdout",
     "output_type": "stream",
     "text": [
      "=============================================================\n",
      "epoch: 8, source_val_acc_label: 0.7071, target_val_acc_label: 0.5870, source_val_label_loss: 0.8454, target_val_label_loss: 1.3333, \n",
      "=============================================================\n"
     ]
    },
    {
     "name": "stdout",
     "output_type": "stream",
     "text": [
      "epoch: 9, [batch: 1 / 12600], examples_per_second: 0.7346, train_label_loss: 0.3299, \n"
     ]
    },
    {
     "name": "stdout",
     "output_type": "stream",
     "text": [
      "epoch: 9, [batch: 1260 / 12600], examples_per_second: 4728.2238, train_label_loss: 0.3805, \n"
     ]
    },
    {
     "name": "stdout",
     "output_type": "stream",
     "text": [
      "epoch: 9, [batch: 2520 / 12600], examples_per_second: 2745.1433, train_label_loss: 0.2277, \n"
     ]
    },
    {
     "name": "stdout",
     "output_type": "stream",
     "text": [
      "epoch: 9, [batch: 3780 / 12600], examples_per_second: 2393.7090, train_label_loss: 0.4024, \n"
     ]
    },
    {
     "name": "stdout",
     "output_type": "stream",
     "text": [
      "epoch: 9, [batch: 5040 / 12600], examples_per_second: 2363.0838, train_label_loss: 0.3378, \n"
     ]
    },
    {
     "name": "stdout",
     "output_type": "stream",
     "text": [
      "epoch: 9, [batch: 6300 / 12600], examples_per_second: 2305.5075, train_label_loss: 0.2483, \n"
     ]
    },
    {
     "name": "stdout",
     "output_type": "stream",
     "text": [
      "epoch: 9, [batch: 7560 / 12600], examples_per_second: 2349.1937, train_label_loss: 0.3110, \n"
     ]
    },
    {
     "name": "stdout",
     "output_type": "stream",
     "text": [
      "epoch: 9, [batch: 8820 / 12600], examples_per_second: 2301.0911, train_label_loss: 0.1878, \n"
     ]
    },
    {
     "name": "stdout",
     "output_type": "stream",
     "text": [
      "epoch: 9, [batch: 10080 / 12600], examples_per_second: 4431.6728, train_label_loss: 0.4669, \n"
     ]
    },
    {
     "name": "stdout",
     "output_type": "stream",
     "text": [
      "epoch: 9, [batch: 11340 / 12600], examples_per_second: 5159.6866, train_label_loss: 0.3365, \n"
     ]
    },
    {
     "name": "stdout",
     "output_type": "stream",
     "text": [
      "=============================================================\n",
      "epoch: 9, source_val_acc_label: 0.7094, target_val_acc_label: 0.5879, source_val_label_loss: 0.8729, target_val_label_loss: 1.3751, \n",
      "=============================================================\n"
     ]
    },
    {
     "name": "stdout",
     "output_type": "stream",
     "text": [
      "epoch: 10, [batch: 1 / 12600], examples_per_second: 0.6675, train_label_loss: 0.4409, \n"
     ]
    },
    {
     "name": "stdout",
     "output_type": "stream",
     "text": [
      "epoch: 10, [batch: 1260 / 12600], examples_per_second: 2146.0639, train_label_loss: 0.4609, \n"
     ]
    },
    {
     "name": "stdout",
     "output_type": "stream",
     "text": [
      "epoch: 10, [batch: 2520 / 12600], examples_per_second: 3964.8469, train_label_loss: 0.1446, \n"
     ]
    },
    {
     "name": "stdout",
     "output_type": "stream",
     "text": [
      "epoch: 10, [batch: 3780 / 12600], examples_per_second: 2032.2791, train_label_loss: 0.0882, \n"
     ]
    },
    {
     "name": "stdout",
     "output_type": "stream",
     "text": [
      "epoch: 10, [batch: 5040 / 12600], examples_per_second: 1779.6376, train_label_loss: 0.2223, \n"
     ]
    },
    {
     "name": "stdout",
     "output_type": "stream",
     "text": [
      "epoch: 10, [batch: 6300 / 12600], examples_per_second: 1762.6488, train_label_loss: 0.3628, \n"
     ]
    },
    {
     "name": "stdout",
     "output_type": "stream",
     "text": [
      "epoch: 10, [batch: 7560 / 12600], examples_per_second: 1755.5914, train_label_loss: 0.1548, \n"
     ]
    },
    {
     "name": "stdout",
     "output_type": "stream",
     "text": [
      "epoch: 10, [batch: 8820 / 12600], examples_per_second: 1922.5628, train_label_loss: 0.4003, \n"
     ]
    },
    {
     "name": "stdout",
     "output_type": "stream",
     "text": [
      "epoch: 10, [batch: 10080 / 12600], examples_per_second: 1956.0278, train_label_loss: 0.3172, \n"
     ]
    },
    {
     "name": "stdout",
     "output_type": "stream",
     "text": [
      "epoch: 10, [batch: 11340 / 12600], examples_per_second: 1922.8851, train_label_loss: 0.2336, \n"
     ]
    },
    {
     "name": "stdout",
     "output_type": "stream",
     "text": [
      "=============================================================\n",
      "epoch: 10, source_val_acc_label: 0.7073, target_val_acc_label: 0.5871, source_val_label_loss: 0.9098, target_val_label_loss: 1.4178, \n",
      "=============================================================\n"
     ]
    },
    {
     "name": "stdout",
     "output_type": "stream",
     "text": [
      "Patience (3) exhausted\n"
     ]
    }
   ],
   "source": [
    "###################################\n",
    "# train\n",
    "###################################\n",
    "jig = PTN_Train_Eval_Test_Jig(model, p.BEST_MODEL_PATH, p.device)\n",
    "\n",
    "jig.train(\n",
    "    train_iterable=datasets.source.processed.train,\n",
    "    source_val_iterable=datasets.source.processed.val,\n",
    "    target_val_iterable=datasets.target.processed.val,\n",
    "    num_epochs=p.n_epoch,\n",
    "    num_logs_per_epoch=p.NUM_LOGS_PER_EPOCH,\n",
    "    patience=p.patience,\n",
    "    optimizer=optimizer,\n",
    "    criteria_for_best=p.criteria_for_best,\n",
    ")"
   ]
  },
  {
   "cell_type": "code",
   "execution_count": 14,
   "id": "31e8fabf",
   "metadata": {
    "execution": {
     "iopub.execute_input": "2022-03-26T19:13:03.515095Z",
     "iopub.status.busy": "2022-03-26T19:13:03.514268Z",
     "iopub.status.idle": "2022-03-26T19:13:03.545477Z",
     "shell.execute_reply": "2022-03-26T19:13:03.546113Z"
    },
    "papermill": {
     "duration": 0.094883,
     "end_time": "2022-03-26T19:13:03.546301",
     "exception": false,
     "start_time": "2022-03-26T19:13:03.451418",
     "status": "completed"
    },
    "tags": []
   },
   "outputs": [],
   "source": [
    "total_experiment_time_secs = time.time() - start_time_secs"
   ]
  },
  {
   "cell_type": "code",
   "execution_count": 15,
   "id": "87b9595b",
   "metadata": {
    "execution": {
     "iopub.execute_input": "2022-03-26T19:13:03.652775Z",
     "iopub.status.busy": "2022-03-26T19:13:03.652385Z",
     "iopub.status.idle": "2022-03-26T19:26:37.141339Z",
     "shell.execute_reply": "2022-03-26T19:26:37.140590Z"
    },
    "papermill": {
     "duration": 813.543298,
     "end_time": "2022-03-26T19:26:37.141535",
     "exception": false,
     "start_time": "2022-03-26T19:13:03.598237",
     "status": "completed"
    },
    "tags": []
   },
   "outputs": [],
   "source": [
    "###################################\n",
    "# Evaluate the model\n",
    "###################################\n",
    "source_test_label_accuracy, source_test_label_loss = jig.test(datasets.source.processed.test)\n",
    "target_test_label_accuracy, target_test_label_loss = jig.test(datasets.target.processed.test)\n",
    "\n",
    "source_val_label_accuracy, source_val_label_loss = jig.test(datasets.source.processed.val)\n",
    "target_val_label_accuracy, target_val_label_loss = jig.test(datasets.target.processed.val)\n",
    "\n",
    "history = jig.get_history()\n",
    "\n",
    "total_epochs_trained = len(history[\"epoch_indices\"])\n",
    "\n",
    "val_dl = Iterable_Aggregator((datasets.source.original.val,datasets.target.original.val))\n",
    "\n",
    "confusion = ptn_confusion_by_domain_over_dataloader(model, p.device, val_dl)\n",
    "per_domain_accuracy = per_domain_accuracy_from_confusion(confusion)\n",
    "\n",
    "# Add a key to per_domain_accuracy for if it was a source domain\n",
    "for domain, accuracy in per_domain_accuracy.items():\n",
    "    per_domain_accuracy[domain] = {\n",
    "        \"accuracy\": accuracy,\n",
    "        \"source?\": domain in p.domains_source\n",
    "    }\n",
    "\n",
    "# Do an independent accuracy assesment JUST TO BE SURE!\n",
    "# _source_test_label_accuracy = independent_accuracy_assesment(model, datasets.source.processed.test, p.device)\n",
    "# _target_test_label_accuracy = independent_accuracy_assesment(model, datasets.target.processed.test, p.device)\n",
    "# _source_val_label_accuracy = independent_accuracy_assesment(model, datasets.source.processed.val, p.device)\n",
    "# _target_val_label_accuracy = independent_accuracy_assesment(model, datasets.target.processed.val, p.device)\n",
    "\n",
    "# assert(_source_test_label_accuracy == source_test_label_accuracy)\n",
    "# assert(_target_test_label_accuracy == target_test_label_accuracy)\n",
    "# assert(_source_val_label_accuracy == source_val_label_accuracy)\n",
    "# assert(_target_val_label_accuracy == target_val_label_accuracy)\n",
    "\n",
    "experiment = {\n",
    "    \"experiment_name\": p.experiment_name,\n",
    "    \"parameters\": dict(p),\n",
    "    \"results\": {\n",
    "        \"source_test_label_accuracy\": source_test_label_accuracy,\n",
    "        \"source_test_label_loss\": source_test_label_loss,\n",
    "        \"target_test_label_accuracy\": target_test_label_accuracy,\n",
    "        \"target_test_label_loss\": target_test_label_loss,\n",
    "        \"source_val_label_accuracy\": source_val_label_accuracy,\n",
    "        \"source_val_label_loss\": source_val_label_loss,\n",
    "        \"target_val_label_accuracy\": target_val_label_accuracy,\n",
    "        \"target_val_label_loss\": target_val_label_loss,\n",
    "        \"total_epochs_trained\": total_epochs_trained,\n",
    "        \"total_experiment_time_secs\": total_experiment_time_secs,\n",
    "        \"confusion\": confusion,\n",
    "        \"per_domain_accuracy\": per_domain_accuracy,\n",
    "    },\n",
    "    \"history\": history,\n",
    "    \"dataset_metrics\": get_dataset_metrics(datasets, \"ptn\"),\n",
    "}"
   ]
  },
  {
   "cell_type": "code",
   "execution_count": 16,
   "id": "54a21829",
   "metadata": {
    "execution": {
     "iopub.execute_input": "2022-03-26T19:26:37.249152Z",
     "iopub.status.busy": "2022-03-26T19:26:37.248717Z",
     "iopub.status.idle": "2022-03-26T19:26:37.500139Z",
     "shell.execute_reply": "2022-03-26T19:26:37.499328Z"
    },
    "papermill": {
     "duration": 0.301573,
     "end_time": "2022-03-26T19:26:37.500303",
     "exception": false,
     "start_time": "2022-03-26T19:26:37.198730",
     "status": "completed"
    },
    "tags": []
   },
   "outputs": [
    {
     "data": {
      "image/png": "[encoded data removed]",
      "text/plain": [
       "<Figure size 1080x504 with 1 Axes>"
      ]
     },
     "metadata": {
      "needs_background": "light"
     },
     "output_type": "display_data"
    }
   ],
   "source": [
    "ax = get_loss_curve(experiment)\n",
    "plt.show()"
   ]
  },
  {
   "cell_type": "code",
   "execution_count": 17,
   "id": "fd8a0f60",
   "metadata": {
    "execution": {
     "iopub.execute_input": "2022-03-26T19:26:37.608245Z",
     "iopub.status.busy": "2022-03-26T19:26:37.607872Z",
     "iopub.status.idle": "2022-03-26T19:26:38.007203Z",
     "shell.execute_reply": "2022-03-26T19:26:38.007925Z"
    },
    "papermill": {
     "duration": 0.455278,
     "end_time": "2022-03-26T19:26:38.008114",
     "exception": false,
     "start_time": "2022-03-26T19:26:37.552836",
     "status": "completed"
    },
    "tags": []
   },
   "outputs": [
    {
     "data": {
      "text/plain": [
       "<AxesSubplot:title={'center':'Results'}>"
      ]
     },
     "execution_count": 17,
     "metadata": {},
     "output_type": "execute_result"
    },
    {
     "data": {
      "image/png": "[encoded data removed]",
      "text/plain": [
       "<Figure size 1080x504 with 1 Axes>"
      ]
     },
     "metadata": {
      "needs_background": "light"
     },
     "output_type": "display_data"
    }
   ],
   "source": [
    "get_results_table(experiment)"
   ]
  },
  {
   "cell_type": "code",
   "execution_count": 18,
   "id": "cf8dc689",
   "metadata": {
    "execution": {
     "iopub.execute_input": "2022-03-26T19:26:38.129219Z",
     "iopub.status.busy": "2022-03-26T19:26:38.128839Z",
     "iopub.status.idle": "2022-03-26T19:26:38.364767Z",
     "shell.execute_reply": "2022-03-26T19:26:38.363987Z"
    },
    "papermill": {
     "duration": 0.295446,
     "end_time": "2022-03-26T19:26:38.364926",
     "exception": false,
     "start_time": "2022-03-26T19:26:38.069480",
     "status": "completed"
    },
    "tags": []
   },
   "outputs": [
    {
     "data": {
      "text/plain": [
       "<AxesSubplot:title={'center':'Per Domain Validation Accuracy'}, xlabel='domain'>"
      ]
     },
     "execution_count": 18,
     "metadata": {},
     "output_type": "execute_result"
    },
    {
     "data": {
      "image/png": "[encoded data removed]",
      "text/plain": [
       "<Figure size 1080x504 with 1 Axes>"
      ]
     },
     "metadata": {
      "needs_background": "light"
     },
     "output_type": "display_data"
    }
   ],
   "source": [
    "get_domain_accuracies(experiment)"
   ]
  },
  {
   "cell_type": "code",
   "execution_count": 19,
   "id": "a74ae082",
   "metadata": {
    "execution": {
     "iopub.execute_input": "2022-03-26T19:26:38.480079Z",
     "iopub.status.busy": "2022-03-26T19:26:38.479689Z",
     "iopub.status.idle": "2022-03-26T19:26:38.527201Z",
     "shell.execute_reply": "2022-03-26T19:26:38.526471Z"
    },
    "papermill": {
     "duration": 0.103115,
     "end_time": "2022-03-26T19:26:38.527368",
     "exception": false,
     "start_time": "2022-03-26T19:26:38.424253",
     "status": "completed"
    },
    "tags": []
   },
   "outputs": [
    {
     "name": "stdout",
     "output_type": "stream",
     "text": [
      "Source Test Label Accuracy: 0.7149131944444445 Target Test Label Accuracy: 0.5878020833333333\n",
      "Source Val Label Accuracy: 0.7138020833333333 Target Val Label Accuracy: 0.59103125\n"
     ]
    }
   ],
   "source": [
    "print(\"Source Test Label Accuracy:\", experiment[\"results\"][\"source_test_label_accuracy\"], \"Target Test Label Accuracy:\", experiment[\"results\"][\"target_test_label_accuracy\"])\n",
    "print(\"Source Val Label Accuracy:\", experiment[\"results\"][\"source_val_label_accuracy\"], \"Target Val Label Accuracy:\", experiment[\"results\"][\"target_val_label_accuracy\"])"
   ]
  },
  {
   "cell_type": "code",
   "execution_count": 20,
   "id": "dacca602",
   "metadata": {
    "execution": {
     "iopub.execute_input": "2022-03-26T19:26:38.640818Z",
     "iopub.status.busy": "2022-03-26T19:26:38.640130Z",
     "iopub.status.idle": "2022-03-26T19:26:38.667623Z",
     "shell.execute_reply": "2022-03-26T19:26:38.668308Z"
    },
    "papermill": {
     "duration": 0.083208,
     "end_time": "2022-03-26T19:26:38.668493",
     "exception": false,
     "start_time": "2022-03-26T19:26:38.585285",
     "status": "completed"
    },
    "tags": [
     "experiment_json"
    ]
   },
   "outputs": [
    {
     "data": {
      "text/plain": [
       "'{\"experiment_name\": \"tuned_1v2:oracle.run2_limited\", \"parameters\": {\"experiment_name\": \"tuned_1v2:oracle.run2_limited\", \"device\": \"cuda\", \"lr\": 0.0001, \"labels_source\": [\"3123D52\", \"3123D65\", \"3123D79\", \"3123D80\", \"3123D54\", \"3123D70\", \"3123D7B\", \"3123D89\", \"3123D58\", \"3123D76\", \"3123D7D\", \"3123EFE\", \"3123D64\", \"3123D78\", \"3123D7E\", \"3124E4A\"], \"labels_target\": [\"3123D52\", \"3123D65\", \"3123D79\", \"3123D80\", \"3123D54\", \"3123D70\", \"3123D7B\", \"3123D89\", \"3123D58\", \"3123D76\", \"3123D7D\", \"3123EFE\", \"3123D64\", \"3123D78\", \"3123D7E\", \"3124E4A\"], \"episode_transforms_source\": [], \"episode_transforms_target\": [], \"domains_source\": [8, 32, 50], \"domains_target\": [14, 20, 26, 38, 44], \"num_examples_per_domain_per_label_source\": -1, \"num_examples_per_domain_per_label_target\": -1, \"n_shot\": 3, \"n_way\": 16, \"n_query\": 2, \"train_k_factor\": 3, \"val_k_factor\": 2, \"test_k_factor\": 2, \"torch_default_dtype\": \"torch.float32\", \"n_epoch\": 50, \"patience\": 3, \"criteria_for_best\": \"target_accuracy\", \"x_net\": [{\"class\": \"nnReshape\", \"kargs\": {\"shape\": [-1, 1, 2, 256]}}, {\"class\": \"Conv2d\", \"kargs\": {\"in_channels\": 1, \"out_channels\": 256, \"kernel_size\": [1, 7], \"bias\": false, \"padding\": [0, 3]}}, {\"class\": \"ReLU\", \"kargs\": {\"inplace\": true}}, {\"class\": \"BatchNorm2d\", \"kargs\": {\"num_features\": 256}}, {\"class\": \"Conv2d\", \"kargs\": {\"in_channels\": 256, \"out_channels\": 80, \"kernel_size\": [2, 7], \"bias\": true, \"padding\": [0, 3]}}, {\"class\": \"ReLU\", \"kargs\": {\"inplace\": true}}, {\"class\": \"BatchNorm2d\", \"kargs\": {\"num_features\": 80}}, {\"class\": \"Flatten\", \"kargs\": {}}, {\"class\": \"Linear\", \"kargs\": {\"in_features\": 20480, \"out_features\": 256}}, {\"class\": \"ReLU\", \"kargs\": {\"inplace\": true}}, {\"class\": \"BatchNorm1d\", \"kargs\": {\"num_features\": 256}}, {\"class\": \"Linear\", \"kargs\": {\"in_features\": 256, \"out_features\": 256}}], \"NUM_LOGS_PER_EPOCH\": 10, \"BEST_MODEL_PATH\": \"./best_model.pth\", \"pickle_name\": \"oracle.Run2_10kExamples_stratified_ds.2022A.pkl\", \"x_transforms_source\": [\"unit_power\"], \"x_transforms_target\": [\"unit_power\"], \"dataset_seed\": 7, \"seed\": 7}, \"results\": {\"source_test_label_accuracy\": 0.7149131944444445, \"source_test_label_loss\": 0.8032288551330566, \"target_test_label_accuracy\": 0.5878020833333333, \"target_test_label_loss\": 1.2780998945236206, \"source_val_label_accuracy\": 0.7138020833333333, \"source_val_label_loss\": 0.8056195378303528, \"target_val_label_accuracy\": 0.59103125, \"target_val_label_loss\": 1.2844544649124146, \"total_epochs_trained\": 10, \"total_experiment_time_secs\": 4538.707670211792, \"confusion\": {\"50\": {\"0\": {\"0\": 1085, \"2\": 86, \"10\": 24, \"5\": 3, \"6\": 1, \"1\": 1}, \"4\": {\"4\": 571, \"5\": 305, \"1\": 43, \"6\": 267, \"13\": 2, \"7\": 8, \"15\": 1, \"10\": 3}, \"14\": {\"14\": 1158, \"11\": 20, \"12\": 22}, \"12\": {\"12\": 1073, \"11\": 6, \"14\": 55, \"9\": 66}, \"8\": {\"8\": 1176, \"3\": 24}, \"7\": {\"7\": 487, \"5\": 94, \"13\": 506, \"10\": 98, \"4\": 15}, \"13\": {\"13\": 544, \"7\": 438, \"10\": 178, \"5\": 36, \"4\": 4}, \"5\": {\"5\": 594, \"4\": 317, \"10\": 60, \"13\": 57, \"7\": 90, \"6\": 65, \"1\": 7, \"0\": 10}, \"15\": {\"15\": 1040, \"11\": 46, \"1\": 91, \"6\": 19, \"4\": 1, \"14\": 3}, \"10\": {\"13\": 151, \"7\": 102, \"10\": 836, \"5\": 77, \"0\": 29, \"4\": 5}, \"3\": {\"3\": 1165, \"8\": 35}, \"9\": {\"9\": 1088, \"12\": 89, \"11\": 23}, \"6\": {\"6\": 585, \"1\": 322, \"5\": 54, \"4\": 224, \"15\": 12, \"0\": 3}, \"1\": {\"1\": 829, \"4\": 20, \"6\": 267, \"15\": 81, \"11\": 1, \"5\": 2}, \"11\": {\"11\": 1090, \"15\": 43, \"9\": 28, \"14\": 33, \"12\": 6}, \"2\": {\"2\": 1110, \"0\": 90}}, \"8\": {\"1\": {\"1\": 1025, \"13\": 108, \"5\": 50, \"10\": 17}, \"11\": {\"8\": 260, \"11\": 572, \"15\": 236, \"12\": 128, \"7\": 1, \"6\": 3}, \"3\": {\"3\": 1022, \"12\": 166, \"15\": 8, \"2\": 3, \"11\": 1}, \"6\": {\"6\": 556, \"4\": 336, \"7\": 225, \"2\": 12, \"0\": 7, \"14\": 52, \"8\": 10, \"13\": 2}, \"7\": {\"15\": 6, \"7\": 524, \"2\": 179, \"4\": 259, \"6\": 224, \"14\": 3, \"8\": 5}, \"5\": {\"5\": 971, \"1\": 41, \"10\": 177, \"0\": 4, \"13\": 7}, \"2\": {\"2\": 939, \"7\": 153, \"4\": 81, \"6\": 22, \"15\": 4, \"3\": 1}, \"15\": {\"12\": 221, \"15\": 653, \"8\": 118, \"3\": 21, \"11\": 178, \"6\": 1, \"7\": 7, \"4\": 1}, \"10\": {\"10\": 754, \"0\": 175, \"5\": 147, \"14\": 36, \"13\": 70, \"1\": 18}, \"13\": {\"13\": 782, \"0\": 28, \"14\": 193, \"1\": 121, \"10\": 57, \"8\": 6, \"6\": 9, \"5\": 2, \"4\": 1, \"7\": 1}, \"8\": {\"8\": 915, \"15\": 113, \"11\": 134, \"7\": 13, \"14\": 3, \"6\": 15, \"13\": 4, \"4\": 2, \"1\": 1}, \"4\": {\"6\": 373, \"4\": 439, \"7\": 281, \"2\": 83, \"14\": 13, \"8\": 5, \"0\": 6}, \"9\": {\"9\": 1200}, \"14\": {\"13\": 163, \"14\": 679, \"6\": 57, \"0\": 246, \"4\": 17, \"10\": 36, \"1\": 1, \"7\": 1}, \"0\": {\"0\": 771, \"10\": 200, \"14\": 195, \"13\": 26, \"6\": 5, \"4\": 3}, \"12\": {\"12\": 891, \"15\": 129, \"11\": 31, \"3\": 148, \"8\": 1}}, \"32\": {\"15\": {\"15\": 1194, \"8\": 6}, \"11\": {\"11\": 476, \"0\": 124, \"13\": 107, \"4\": 122, \"7\": 302, \"2\": 46, \"5\": 17, \"8\": 3, \"14\": 3}, \"10\": {\"10\": 1196, \"1\": 4}, \"14\": {\"14\": 990, \"2\": 150, \"0\": 23, \"5\": 32, \"11\": 4, \"7\": 1}, \"6\": {\"6\": 1200}, \"4\": {\"5\": 146, \"0\": 189, \"11\": 117, \"4\": 396, \"7\": 81, \"13\": 200, \"8\": 56, \"2\": 14, \"3\": 1}, \"13\": {\"13\": 530, \"4\": 215, \"8\": 72, \"7\": 158, \"0\": 61, \"5\": 34, \"11\": 103, \"3\": 24, \"2\": 3}, \"3\": {\"3\": 1148, \"13\": 36, \"8\": 15, \"11\": 1}, \"7\": {\"7\": 642, \"0\": 26, \"13\": 134, \"4\": 70, \"11\": 311, \"3\": 4, \"5\": 5, \"2\": 8}, \"8\": {\"8\": 879, \"0\": 52, \"5\": 99, \"4\": 45, \"13\": 90, \"3\": 25, \"11\": 4, \"15\": 5, \"7\": 1}, \"1\": {\"1\": 1198, \"10\": 2}, \"5\": {\"0\": 200, \"5\": 386, \"14\": 103, \"8\": 159, \"3\": 5, \"13\": 78, \"11\": 26, \"4\": 117, \"2\": 111, \"7\": 11, \"15\": 4}, \"0\": {\"5\": 214, \"11\": 137, \"0\": 490, \"7\": 26, \"2\": 47, \"13\": 62, \"4\": 166, \"8\": 45, \"14\": 13}, \"2\": {\"2\": 893, \"14\": 121, \"5\": 68, \"11\": 27, \"0\": 55, \"4\": 27, \"7\": 8, \"13\": 1}, \"12\": {\"12\": 1199, \"9\": 1}, \"9\": {\"9\": 1174, \"14\": 25, \"2\": 1}}, \"26\": {\"0\": {\"10\": 153, \"14\": 237, \"1\": 193, \"0\": 290, \"8\": 95, \"4\": 184, \"6\": 7, \"7\": 14, \"2\": 13, \"9\": 10, \"15\": 3, \"5\": 1}, \"4\": {\"4\": 567, \"8\": 64, \"14\": 65, \"7\": 100, \"10\": 28, \"15\": 51, \"1\": 15, \"3\": 74, \"0\": 118, \"2\": 116, \"9\": 2}, \"14\": {\"10\": 188, \"4\": 69, \"1\": 272, \"8\": 108, \"0\": 253, \"14\": 265, \"5\": 3, \"2\": 5, \"15\": 1, \"9\": 9, \"6\": 15, \"7\": 11, \"13\": 1}, \"12\": {\"12\": 1197, \"11\": 3}, \"8\": {\"8\": 373, \"9\": 162, \"6\": 37, \"7\": 129, \"0\": 91, \"14\": 90, \"5\": 58, \"4\": 69, \"10\": 84, \"1\": 13, \"15\": 4, \"2\": 76, \"13\": 8, \"3\": 6}, \"7\": {\"2\": 295, \"8\": 115, \"7\": 311, \"4\": 94, \"3\": 87, \"5\": 77, \"9\": 78, \"15\": 117, \"0\": 14, \"13\": 5, \"14\": 5, \"10\": 2}, \"13\": {\"6\": 80, \"5\": 253, \"13\": 701, \"9\": 139, \"7\": 10, \"8\": 12, \"2\": 4, \"10\": 1}, \"5\": {\"13\": 288, \"6\": 177, \"5\": 277, \"8\": 42, \"9\": 166, \"3\": 26, \"2\": 65, \"7\": 112, \"15\": 33, \"10\": 9, \"4\": 3, \"14\": 1, \"0\": 1}, \"15\": {\"3\": 423, \"15\": 419, \"2\": 154, \"7\": 107, \"4\": 64, \"9\": 8, \"8\": 10, \"13\": 2, \"5\": 11, \"0\": 2}, \"10\": {\"1\": 191, \"14\": 178, \"10\": 344, \"6\": 134, \"0\": 165, \"4\": 60, \"2\": 14, \"8\": 77, \"7\": 13, \"15\": 2, \"9\": 12, \"12\": 5, \"3\": 3, \"5\": 2}, \"3\": {\"4\": 72, \"7\": 86, \"3\": 519, \"2\": 136, \"15\": 371, \"5\": 8, \"10\": 1, \"0\": 1, \"13\": 1, \"8\": 3, \"9\": 2}, \"9\": {\"6\": 115, \"13\": 152, \"8\": 158, \"9\": 386, \"2\": 56, \"5\": 216, \"7\": 67, \"10\": 19, \"0\": 12, \"14\": 8, \"15\": 3, \"3\": 3, \"4\": 4, \"1\": 1}, \"6\": {\"6\": 773, \"9\": 106, \"10\": 88, \"5\": 85, \"0\": 5, \"13\": 77, \"8\": 50, \"14\": 11, \"1\": 5}, \"1\": {\"0\": 189, \"1\": 547, \"10\": 188, \"14\": 229, \"4\": 22, \"8\": 14, \"6\": 6, \"2\": 1, \"7\": 3, \"5\": 1}, \"11\": {\"11\": 1198, \"12\": 2}, \"2\": {\"15\": 141, \"8\": 93, \"14\": 10, \"3\": 127, \"4\": 139, \"7\": 299, \"2\": 301, \"9\": 44, \"5\": 31, \"0\": 7, \"13\": 3, \"10\": 5}}, \"44\": {\"1\": {\"1\": 721, \"3\": 143, \"12\": 326, \"7\": 6, \"10\": 2, \"2\": 2}, \"11\": {\"11\": 1074, \"6\": 117, \"9\": 1, \"7\": 8}, \"3\": {\"3\": 1014, \"1\": 122, \"12\": 62, \"2\": 2}, \"6\": {\"6\": 1040, \"9\": 54, \"2\": 6, \"11\": 63, \"13\": 13, \"7\": 24}, \"7\": {\"7\": 612, \"9\": 287, \"6\": 23, \"2\": 265, \"3\": 4, \"11\": 2, \"1\": 7}, \"5\": {\"5\": 1059, \"14\": 120, \"15\": 2, \"8\": 16, \"0\": 2, \"13\": 1}, \"2\": {\"2\": 629, \"9\": 310, \"7\": 239, \"3\": 9, \"1\": 7, \"6\": 6}, \"15\": {\"15\": 1024, \"14\": 116, \"8\": 11, \"4\": 46, \"0\": 2, \"5\": 1}, \"10\": {\"10\": 1140, \"1\": 26, \"12\": 33, \"7\": 1}, \"13\": {\"13\": 1125, \"4\": 42, \"6\": 28, \"14\": 4, \"9\": 1}, \"8\": {\"8\": 690, \"0\": 481, \"5\": 15, \"15\": 10, \"14\": 4}, \"4\": {\"4\": 1048, \"14\": 75, \"15\": 52, \"13\": 25}, \"9\": {\"9\": 506, \"7\": 290, \"2\": 362, \"6\": 40, \"3\": 1, \"11\": 1}, \"14\": {\"4\": 96, \"14\": 807, \"5\": 131, \"15\": 161, \"13\": 2, \"8\": 2, \"0\": 1}, \"0\": {\"8\": 520, \"0\": 667, \"5\": 6, \"15\": 6, \"14\": 1}, \"12\": {\"1\": 335, \"12\": 777, \"3\": 84, \"10\": 4}}, \"20\": {\"15\": {\"1\": 131, \"13\": 252, \"15\": 357, \"12\": 97, \"3\": 17, \"9\": 134, \"2\": 105, \"5\": 67, \"4\": 3, \"0\": 36, \"7\": 1}, \"4\": {\"4\": 904, \"10\": 24, \"5\": 41, \"0\": 77, \"12\": 65, \"3\": 26, \"8\": 34, \"9\": 11, \"14\": 7, \"2\": 5, \"1\": 6}, \"6\": {\"6\": 1028, \"7\": 52, \"8\": 22, \"14\": 76, \"10\": 22}, \"2\": {\"2\": 289, \"15\": 112, \"13\": 67, \"3\": 184, \"9\": 238, \"12\": 56, \"0\": 10, \"5\": 193, \"4\": 5, \"1\": 19, \"7\": 21, \"8\": 5, \"10\": 1}, \"5\": {\"2\": 204, \"5\": 210, \"7\": 40, \"3\": 226, \"9\": 173, \"13\": 23, \"1\": 32, \"15\": 74, \"12\": 87, \"0\": 56, \"4\": 50, \"8\": 20, \"10\": 5}, \"9\": {\"15\": 157, \"9\": 252, \"2\": 238, \"12\": 97, \"5\": 165, \"4\": 16, \"3\": 138, \"0\": 29, \"7\": 15, \"13\": 59, \"1\": 29, \"8\": 4, \"10\": 1}, \"8\": {\"14\": 120, \"8\": 489, \"6\": 38, \"10\": 263, \"7\": 175, \"4\": 61, \"12\": 3, \"9\": 7, \"3\": 37, \"5\": 5, \"2\": 2}, \"12\": {\"5\": 104, \"12\": 309, \"2\": 49, \"3\": 38, \"0\": 190, \"4\": 67, \"1\": 220, \"9\": 100, \"15\": 110, \"13\": 12, \"8\": 1}, \"10\": {\"7\": 40, \"14\": 232, \"10\": 555, \"8\": 277, \"6\": 35, \"3\": 20, \"4\": 35, \"2\": 1, \"9\": 3, \"5\": 2}, \"1\": {\"0\": 258, \"12\": 179, \"15\": 138, \"1\": 519, \"13\": 25, \"5\": 26, \"9\": 27, \"4\": 14, \"2\": 13, \"3\": 1}, \"0\": {\"12\": 203, \"4\": 121, \"0\": 438, \"15\": 68, \"3\": 6, \"1\": 233, \"2\": 21, \"13\": 5, \"9\": 34, \"5\": 69, \"8\": 2}, \"3\": {\"2\": 192, \"3\": 335, \"5\": 178, \"10\": 12, \"8\": 50, \"14\": 1, \"7\": 210, \"4\": 25, \"9\": 121, \"11\": 1, \"12\": 42, \"0\": 8, \"13\": 4, \"15\": 19, \"1\": 2}, \"13\": {\"13\": 764, \"15\": 251, \"9\": 55, \"5\": 18, \"2\": 67, \"1\": 23, \"12\": 12, \"3\": 5, \"0\": 5}, \"11\": {\"11\": 1198, \"7\": 1, \"2\": 1}, \"7\": {\"3\": 143, \"2\": 28, \"7\": 780, \"8\": 147, \"6\": 35, \"10\": 26, \"11\": 3, \"5\": 20, \"9\": 10, \"4\": 1, \"13\": 2, \"14\": 3, \"15\": 1, \"12\": 1}, \"14\": {\"14\": 652, \"10\": 264, \"6\": 139, \"8\": 126, \"7\": 9, \"4\": 10}}, \"38\": {\"15\": {\"15\": 399, \"13\": 260, \"8\": 193, \"3\": 86, \"1\": 100, \"7\": 9, \"5\": 125, \"0\": 8, \"6\": 10, \"10\": 7, \"9\": 2, \"14\": 1}, \"11\": {\"11\": 969, \"14\": 97, \"2\": 9, \"12\": 125}, \"10\": {\"10\": 617, \"8\": 55, \"7\": 402, \"5\": 47, \"13\": 15, \"3\": 37, \"0\": 18, \"15\": 8, \"4\": 1}, \"14\": {\"11\": 112, \"13\": 8, \"14\": 623, \"12\": 174, \"2\": 248, \"7\": 14, \"5\": 14, \"10\": 5, \"8\": 2}, \"6\": {\"6\": 815, \"9\": 371, \"3\": 11, \"0\": 1, \"13\": 1, \"15\": 1}, \"4\": {\"4\": 1099, \"12\": 95, \"10\": 4, \"14\": 1, \"7\": 1}, \"13\": {\"15\": 260, \"13\": 222, \"3\": 96, \"5\": 207, \"1\": 93, \"7\": 53, \"9\": 3, \"10\": 24, \"8\": 193, \"6\": 12, \"2\": 15, \"0\": 14, \"14\": 8}, \"3\": {\"15\": 93, \"9\": 76, \"8\": 68, \"0\": 349, \"5\": 48, \"6\": 77, \"1\": 6, \"3\": 289, \"13\": 66, \"10\": 67, \"7\": 61}, \"7\": {\"7\": 539, \"10\": 378, \"3\": 26, \"5\": 137, \"8\": 90, \"13\": 19, \"12\": 2, \"15\": 8, \"0\": 1}, \"8\": {\"15\": 205, \"5\": 311, \"8\": 363, \"13\": 158, \"7\": 100, \"10\": 30, \"3\": 25, \"1\": 7, \"0\": 1}, \"1\": {\"1\": 1072, \"15\": 65, \"13\": 49, \"8\": 9, \"6\": 2, \"3\": 2, \"5\": 1}, \"5\": {\"5\": 389, \"8\": 305, \"7\": 155, \"13\": 157, \"3\": 35, \"15\": 124, \"10\": 29, \"1\": 2, \"0\": 3, \"14\": 1}, \"0\": {\"0\": 867, \"3\": 279, \"10\": 15, \"13\": 5, \"15\": 1, \"6\": 10, \"9\": 14, \"7\": 5, \"5\": 1, \"8\": 3}, \"2\": {\"2\": 1020, \"13\": 2, \"14\": 178}, \"12\": {\"12\": 1118, \"4\": 50, \"11\": 5, \"14\": 26, \"10\": 1}, \"9\": {\"9\": 746, \"6\": 439, \"0\": 2, \"3\": 13}}, \"14\": {\"0\": {\"10\": 41, \"0\": 1141, \"14\": 7, \"9\": 1, \"2\": 1, \"3\": 8, \"12\": 1}, \"12\": {\"10\": 46, \"11\": 340, \"9\": 92, \"12\": 602, \"0\": 78, \"8\": 37, \"14\": 3, \"3\": 2}, \"1\": {\"1\": 1032, \"5\": 118, \"4\": 47, \"7\": 1, \"3\": 1, \"2\": 1}, \"4\": {\"5\": 408, \"3\": 132, \"4\": 507, \"2\": 96, \"1\": 37, \"14\": 18, \"6\": 2}, \"5\": {\"5\": 522, \"14\": 7, \"1\": 142, \"4\": 355, \"3\": 83, \"2\": 89, \"6\": 2}, \"3\": {\"3\": 902, \"4\": 137, \"14\": 62, \"2\": 24, \"5\": 62, \"1\": 8, \"0\": 4, \"6\": 1}, \"7\": {\"7\": 1161, \"15\": 36, \"1\": 2, \"2\": 1}, \"15\": {\"15\": 1139, \"7\": 60, \"13\": 1}, \"13\": {\"2\": 88, \"13\": 777, \"6\": 315, \"14\": 17, \"4\": 3}, \"10\": {\"0\": 182, \"10\": 972, \"11\": 45, \"12\": 1}, \"14\": {\"14\": 694, \"13\": 29, \"6\": 214, \"2\": 112, \"3\": 87, \"4\": 37, \"0\": 20, \"5\": 7}, \"6\": {\"6\": 669, \"14\": 201, \"13\": 250, \"2\": 69, \"4\": 8, \"5\": 3}, \"9\": {\"9\": 1190, \"0\": 1, \"12\": 8, \"11\": 1}, \"2\": {\"2\": 477, \"3\": 96, \"14\": 156, \"6\": 54, \"4\": 131, \"13\": 128, \"5\": 138, \"1\": 16, \"15\": 4}, \"8\": {\"8\": 1199, \"1\": 1}, \"11\": {\"11\": 1128, \"9\": 18, \"12\": 35, \"10\": 18, \"0\": 1}}}, \"per_domain_accuracy\": {\"50\": {\"accuracy\": 0.7516145833333333, \"source?\": true}, \"8\": {\"accuracy\": 0.66109375, \"source?\": true}, \"32\": {\"accuracy\": 0.7286979166666666, \"source?\": true}, \"26\": {\"accuracy\": 0.44104166666666667, \"source?\": false}, \"44\": {\"accuracy\": 0.7256770833333334, \"source?\": false}, \"20\": {\"accuracy\": 0.4728645833333333, \"source?\": false}, \"38\": {\"accuracy\": 0.5805729166666667, \"source?\": false}, \"14\": {\"accuracy\": 0.735, \"source?\": false}}}, \"history\": {\"epoch_indices\": [1, 2, 3, 4, 5, 6, 7, 8, 9, 10], \"train_label_loss\": [1.3411127039151531, 0.8354644453667459, 0.7011301795925413, 0.6203781331448801, 0.5524601037770747, 0.4901140621795304, 0.4347768525294368, 0.3858278585603786, 0.3424848269816074, 0.3059308166627491], \"source_val_label_loss\": [1.0645064115524292, 0.8200390934944153, 0.8027563095092773, 0.7815794944763184, 0.7884668707847595, 0.8056195378303528, 0.8276660442352295, 0.8454476594924927, 0.8728954792022705, 0.9097875952720642], \"target_val_label_loss\": [1.364628791809082, 1.2408840656280518, 1.2319716215133667, 1.2146673202514648, 1.225335955619812, 1.2844544649124146, 1.2860944271087646, 1.3332996368408203, 1.3751417398452759, 1.4178465604782104], \"source_val_acc_label\": [0.5928993055555556, 0.6845138888888889, 0.6998611111111112, 0.7034375, 0.7031076388888889, 0.7138020833333333, 0.7072916666666667, 0.7071006944444445, 0.7094097222222222, 0.7073090277777778], \"target_val_acc_label\": [0.5006354166666667, 0.5640416666666667, 0.5811979166666666, 0.5860520833333334, 0.5831770833333333, 0.59103125, 0.58778125, 0.5870104166666666, 0.5879166666666666, 0.5870520833333334]}, \"dataset_metrics\": {\"source\": {\"train\": {\"n_unique_x\": 336000, \"n_unique_y\": 16, \"n_batch/episode\": 12600}, \"val\": {\"n_unique_x\": 72000, \"n_unique_y\": 16, \"n_batch/episode\": 1800}, \"test\": {\"n_unique_x\": 72000, \"n_unique_y\": 16, \"n_batch/episode\": 1800}}, \"target\": {\"train\": {\"n_unique_x\": 560000, \"n_unique_y\": 16, \"n_batch/episode\": 21000}, \"val\": {\"n_unique_x\": 120000, \"n_unique_y\": 16, \"n_batch/episode\": 3000}, \"test\": {\"n_unique_x\": 120000, \"n_unique_y\": 16, \"n_batch/episode\": 3000}}}}'"
      ]
     },
     "execution_count": 20,
     "metadata": {},
     "output_type": "execute_result"
    }
   ],
   "source": [
    "json.dumps(experiment)"
   ]
  }
 ],
 "metadata": {
  "celltoolbar": "Tags",
  "kernelspec": {
   "display_name": "Python 3 (ipykernel)",
   "language": "python",
   "name": "python3"
  },
  "language_info": {
   "codemirror_mode": {
    "name": "ipython",
    "version": 3
   },
   "file_extension": ".py",
   "mimetype": "text/x-python",
   "name": "python",
   "nbconvert_exporter": "python",
   "pygments_lexer": "ipython3",
   "version": "3.8.12"
  },
  "papermill": {
   "default_parameters": {},
   "duration": 5360.742691,
   "end_time": "2022-03-26T19:26:42.352189",
   "environment_variables": {},
   "exception": null,
   "input_path": "/root/csc500-main/csc500-notebooks/templates/ptn_template.ipynb",
   "output_path": "trial.ipynb",
   "parameters": {
    "parameters": {
     "BEST_MODEL_PATH": "./best_model.pth",
     "NUM_LOGS_PER_EPOCH": 10,
     "criteria_for_best": "target_accuracy",
     "dataset_seed": 7,
     "device": "cuda",
     "domains_source": [
      8,
      32,
      50
     ],
     "domains_target": [
      14,
      20,
      26,
      38,
      44
     ],
     "episode_transforms_source": [],
     "episode_transforms_target": [],
     "experiment_name": "tuned_1v2:oracle.run2_limited",
     "labels_source": [
      "3123D52",
      "3123D65",
      "3123D79",
      "3123D80",
      "3123D54",
      "3123D70",
      "3123D7B",
      "3123D89",
      "3123D58",
      "3123D76",
      "3123D7D",
      "3123EFE",
      "3123D64",
      "3123D78",
      "3123D7E",
      "3124E4A"
     ],
     "labels_target": [
      "3123D52",
      "3123D65",
      "3123D79",
      "3123D80",
      "3123D54",
      "3123D70",
      "3123D7B",
      "3123D89",
      "3123D58",
      "3123D76",
      "3123D7D",
      "3123EFE",
      "3123D64",
      "3123D78",
      "3123D7E",
      "3124E4A"
     ],
     "lr": 0.0001,
     "n_epoch": 50,
     "n_query": 2,
     "n_shot": 3,
     "n_way": 16,
     "num_examples_per_domain_per_label_source": -1,
     "num_examples_per_domain_per_label_target": -1,
     "patience": 3,
     "pickle_name": "oracle.Run2_10kExamples_stratified_ds.2022A.pkl",
     "seed": 7,
     "test_k_factor": 2,
     "torch_default_dtype": "torch.float32",
     "train_k_factor": 3,
     "val_k_factor": 2,
     "x_net": [
      {
       "class": "nnReshape",
       "kargs": {
        "shape": [
         -1,
         1,
         2,
         256
        ]
       }
      },
      {
       "class": "Conv2d",
       "kargs": {
        "bias": false,
        "in_channels": 1,
        "kernel_size": [
         1,
         7
        ],
        "out_channels": 256,
        "padding": [
         0,
         3
        ]
       }
      },
      {
       "class": "ReLU",
       "kargs": {
        "inplace": true
       }
      },
      {
       "class": "BatchNorm2d",
       "kargs": {
        "num_features": 256
       }
      },
      {
       "class": "Conv2d",
       "kargs": {
        "bias": true,
        "in_channels": 256,
        "kernel_size": [
         2,
         7
        ],
        "out_channels": 80,
        "padding": [
         0,
         3
        ]
       }
      },
      {
       "class": "ReLU",
       "kargs": {
        "inplace": true
       }
      },
      {
       "class": "BatchNorm2d",
       "kargs": {
        "num_features": 80
       }
      },
      {
       "class": "Flatten",
       "kargs": {}
      },
      {
       "class": "Linear",
       "kargs": {
        "in_features": 20480,
        "out_features": 256
       }
      },
      {
       "class": "ReLU",
       "kargs": {
        "inplace": true
       }
      },
      {
       "class": "BatchNorm1d",
       "kargs": {
        "num_features": 256
       }
      },
      {
       "class": "Linear",
       "kargs": {
        "in_features": 256,
        "out_features": 256
       }
      }
     ],
     "x_transforms_source": [
      "unit_power"
     ],
     "x_transforms_target": [
      "unit_power"
     ]
    }
   },
   "start_time": "2022-03-26T17:57:21.609498",
   "version": "2.3.4"
  }
 },
 "nbformat": 4,
 "nbformat_minor": 5
}