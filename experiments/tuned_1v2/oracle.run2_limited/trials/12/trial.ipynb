{
 "cells": [
  {
   "cell_type": "markdown",
   "id": "9fea5f46",
   "metadata": {
    "papermill": {
     "duration": 0.014851,
     "end_time": "2022-04-01T18:35:05.275164",
     "exception": false,
     "start_time": "2022-04-01T18:35:05.260313",
     "status": "completed"
    },
    "tags": []
   },
   "source": [
    "# PTN Template\n",
    "This notebook serves as a template for single dataset PTN experiments  \n",
    "It can be run on its own by setting STANDALONE to True (do a find for \"STANDALONE\" to see where)  \n",
    "But it is intended to be executed as part of a *papermill.py script. See any of the   \n",
    "experimentes with a papermill script to get started with that workflow.  "
   ]
  },
  {
   "cell_type": "code",
   "execution_count": 1,
   "id": "0902182a",
   "metadata": {
    "execution": {
     "iopub.execute_input": "2022-04-01T18:35:05.307874Z",
     "iopub.status.busy": "2022-04-01T18:35:05.307494Z",
     "iopub.status.idle": "2022-04-01T18:35:06.209553Z",
     "shell.execute_reply": "2022-04-01T18:35:06.209774Z"
    },
    "papermill": {
     "duration": 0.925501,
     "end_time": "2022-04-01T18:35:06.209905",
     "exception": false,
     "start_time": "2022-04-01T18:35:05.284404",
     "status": "completed"
    },
    "tags": []
   },
   "outputs": [],
   "source": [
    "%load_ext autoreload\n",
    "%autoreload 2\n",
    "%matplotlib inline\n",
    "\n",
    "    \n",
    "import os, json, sys, time, random\n",
    "import numpy as np\n",
    "import torch\n",
    "from torch.optim import Adam\n",
    "from  easydict import EasyDict\n",
    "import matplotlib.pyplot as plt\n",
    "\n",
    "from steves_models.steves_ptn import Steves_Prototypical_Network\n",
    "\n",
    "from steves_utils.lazy_iterable_wrapper import Lazy_Iterable_Wrapper\n",
    "from steves_utils.iterable_aggregator import Iterable_Aggregator\n",
    "from steves_utils.ptn_train_eval_test_jig import  PTN_Train_Eval_Test_Jig\n",
    "from steves_utils.torch_sequential_builder import build_sequential\n",
    "from steves_utils.torch_utils import get_dataset_metrics, ptn_confusion_by_domain_over_dataloader\n",
    "from steves_utils.utils_v2 import (per_domain_accuracy_from_confusion, get_datasets_base_path)\n",
    "from steves_utils.PTN.utils import independent_accuracy_assesment\n",
    "\n",
    "from steves_utils.stratified_dataset.episodic_accessor import Episodic_Accessor_Factory\n",
    "\n",
    "from steves_utils.ptn_do_report import (\n",
    "    get_loss_curve,\n",
    "    get_results_table,\n",
    "    get_parameters_table,\n",
    "    get_domain_accuracies,\n",
    ")\n",
    "\n",
    "from steves_utils.transforms import get_chained_transform"
   ]
  },
  {
   "cell_type": "markdown",
   "id": "41c840b4",
   "metadata": {
    "papermill": {
     "duration": 0.009346,
     "end_time": "2022-04-01T18:35:06.233016",
     "exception": false,
     "start_time": "2022-04-01T18:35:06.223670",
     "status": "completed"
    },
    "tags": []
   },
   "source": [
    "# Required Parameters\n",
    "These are allowed parameters, not defaults\n",
    "Each of these values need to be present in the injected parameters (the notebook will raise an exception if they are not present)\n",
    "\n",
    "Papermill uses the cell tag \"parameters\" to inject the real parameters below this cell.\n",
    "Enable tags to see what I mean"
   ]
  },
  {
   "cell_type": "code",
   "execution_count": 2,
   "id": "fd44eb83",
   "metadata": {
    "execution": {
     "iopub.execute_input": "2022-04-01T18:35:06.255128Z",
     "iopub.status.busy": "2022-04-01T18:35:06.254824Z",
     "iopub.status.idle": "2022-04-01T18:35:06.270227Z",
     "shell.execute_reply": "2022-04-01T18:35:06.269777Z"
    },
    "papermill": {
     "duration": 0.027954,
     "end_time": "2022-04-01T18:35:06.270321",
     "exception": false,
     "start_time": "2022-04-01T18:35:06.242367",
     "status": "completed"
    },
    "tags": []
   },
   "outputs": [],
   "source": [
    "required_parameters = {\n",
    "    \"experiment_name\",\n",
    "    \"lr\",\n",
    "    \"device\",\n",
    "    \"seed\",\n",
    "    \"dataset_seed\",\n",
    "    \"labels_source\",\n",
    "    \"labels_target\",\n",
    "    \"domains_source\",\n",
    "    \"domains_target\",\n",
    "    \"num_examples_per_domain_per_label_source\",\n",
    "    \"num_examples_per_domain_per_label_target\",\n",
    "    \"n_shot\",\n",
    "    \"n_way\",\n",
    "    \"n_query\",\n",
    "    \"train_k_factor\",\n",
    "    \"val_k_factor\",\n",
    "    \"test_k_factor\",\n",
    "    \"n_epoch\",\n",
    "    \"patience\",\n",
    "    \"criteria_for_best\",\n",
    "    \"x_transforms_source\",\n",
    "    \"x_transforms_target\",\n",
    "    \"episode_transforms_source\",\n",
    "    \"episode_transforms_target\",\n",
    "    \"pickle_name\",\n",
    "    \"x_net\",\n",
    "    \"NUM_LOGS_PER_EPOCH\",\n",
    "    \"BEST_MODEL_PATH\",\n",
    "    \"torch_default_dtype\"\n",
    "}"
   ]
  },
  {
   "cell_type": "code",
   "execution_count": 3,
   "id": "fa3f0049",
   "metadata": {
    "execution": {
     "iopub.execute_input": "2022-04-01T18:35:06.303831Z",
     "iopub.status.busy": "2022-04-01T18:35:06.294947Z",
     "iopub.status.idle": "2022-04-01T18:35:06.315815Z",
     "shell.execute_reply": "2022-04-01T18:35:06.315409Z"
    },
    "papermill": {
     "duration": 0.031601,
     "end_time": "2022-04-01T18:35:06.315894",
     "exception": false,
     "start_time": "2022-04-01T18:35:06.284293",
     "status": "completed"
    },
    "tags": [
     "parameters"
    ]
   },
   "outputs": [],
   "source": [
    "\n",
    "\n",
    "standalone_parameters = {}\n",
    "standalone_parameters[\"experiment_name\"] = \"STANDALONE PTN\"\n",
    "standalone_parameters[\"lr\"] = 0.0001\n",
    "standalone_parameters[\"device\"] = \"cuda\"\n",
    "\n",
    "standalone_parameters[\"seed\"] = 1337\n",
    "standalone_parameters[\"dataset_seed\"] = 1337\n",
    "\n",
    "\n",
    "standalone_parameters[\"num_examples_per_domain_per_label_source\"]=100\n",
    "standalone_parameters[\"num_examples_per_domain_per_label_target\"]=100\n",
    "\n",
    "standalone_parameters[\"n_shot\"] = 3\n",
    "standalone_parameters[\"n_query\"]  = 2\n",
    "standalone_parameters[\"train_k_factor\"] = 1\n",
    "standalone_parameters[\"val_k_factor\"] = 2\n",
    "standalone_parameters[\"test_k_factor\"] = 2\n",
    "\n",
    "\n",
    "standalone_parameters[\"n_epoch\"] = 100\n",
    "\n",
    "standalone_parameters[\"patience\"] = 10\n",
    "standalone_parameters[\"criteria_for_best\"] = \"target_accuracy\"\n",
    "\n",
    "standalone_parameters[\"x_transforms_source\"] = [\"unit_power\"]\n",
    "standalone_parameters[\"x_transforms_target\"] = [\"unit_power\"]\n",
    "standalone_parameters[\"episode_transforms_source\"] = []\n",
    "standalone_parameters[\"episode_transforms_target\"] = []\n",
    "\n",
    "standalone_parameters[\"torch_default_dtype\"] = \"torch.float32\" \n",
    "\n",
    "\n",
    "\n",
    "standalone_parameters[\"x_net\"] =     [\n",
    "    {\"class\": \"nnReshape\", \"kargs\": {\"shape\":[-1, 1, 2, 256]}},\n",
    "    {\"class\": \"Conv2d\", \"kargs\": { \"in_channels\":1, \"out_channels\":256, \"kernel_size\":(1,7), \"bias\":False, \"padding\":(0,3), },},\n",
    "    {\"class\": \"ReLU\", \"kargs\": {\"inplace\": True}},\n",
    "    {\"class\": \"BatchNorm2d\", \"kargs\": {\"num_features\":256}},\n",
    "\n",
    "    {\"class\": \"Conv2d\", \"kargs\": { \"in_channels\":256, \"out_channels\":80, \"kernel_size\":(2,7), \"bias\":True, \"padding\":(0,3), },},\n",
    "    {\"class\": \"ReLU\", \"kargs\": {\"inplace\": True}},\n",
    "    {\"class\": \"BatchNorm2d\", \"kargs\": {\"num_features\":80}},\n",
    "    {\"class\": \"Flatten\", \"kargs\": {}},\n",
    "\n",
    "    {\"class\": \"Linear\", \"kargs\": {\"in_features\": 80*256, \"out_features\": 256}}, # 80 units per IQ pair\n",
    "    {\"class\": \"ReLU\", \"kargs\": {\"inplace\": True}},\n",
    "    {\"class\": \"BatchNorm1d\", \"kargs\": {\"num_features\":256}},\n",
    "\n",
    "    {\"class\": \"Linear\", \"kargs\": {\"in_features\": 256, \"out_features\": 256}},\n",
    "]\n",
    "\n",
    "# Parameters relevant to results\n",
    "# These parameters will basically never need to change\n",
    "standalone_parameters[\"NUM_LOGS_PER_EPOCH\"] = 10\n",
    "standalone_parameters[\"BEST_MODEL_PATH\"] = \"./best_model.pth\"\n",
    "\n",
    "# uncomment for CORES dataset\n",
    "from steves_utils.CORES.utils import (\n",
    "    ALL_NODES,\n",
    "    ALL_NODES_MINIMUM_1000_EXAMPLES,\n",
    "    ALL_DAYS\n",
    ")\n",
    "\n",
    "\n",
    "standalone_parameters[\"labels_source\"] = ALL_NODES\n",
    "standalone_parameters[\"labels_target\"] = ALL_NODES\n",
    "\n",
    "standalone_parameters[\"domains_source\"] = [1]\n",
    "standalone_parameters[\"domains_target\"] = [2,3,4,5]\n",
    "\n",
    "standalone_parameters[\"pickle_name\"] = \"cores.stratified_ds.2022A.pkl\"\n",
    "\n",
    "\n",
    "# Uncomment these for ORACLE dataset\n",
    "# from steves_utils.ORACLE.utils_v2 import (\n",
    "#     ALL_DISTANCES_FEET,\n",
    "#     ALL_RUNS,\n",
    "#     ALL_SERIAL_NUMBERS,\n",
    "# )\n",
    "# standalone_parameters[\"labels_source\"] = ALL_SERIAL_NUMBERS\n",
    "# standalone_parameters[\"labels_target\"] = ALL_SERIAL_NUMBERS\n",
    "# standalone_parameters[\"domains_source\"] = [8,20, 38,50]\n",
    "# standalone_parameters[\"domains_target\"] = [14, 26, 32, 44, 56]\n",
    "# standalone_parameters[\"pickle_name\"] = \"oracle.frame_indexed.stratified_ds.2022A.pkl\"\n",
    "# standalone_parameters[\"num_examples_per_domain_per_label_source\"]=1000\n",
    "# standalone_parameters[\"num_examples_per_domain_per_label_target\"]=1000\n",
    "\n",
    "# Uncomment these for Metahan dataset\n",
    "# standalone_parameters[\"labels_source\"] = list(range(19))\n",
    "# standalone_parameters[\"labels_target\"] = list(range(19))\n",
    "# standalone_parameters[\"domains_source\"] = [0]\n",
    "# standalone_parameters[\"domains_target\"] = [1]\n",
    "# standalone_parameters[\"pickle_name\"] = \"metehan.stratified_ds.2022A.pkl\"\n",
    "# standalone_parameters[\"n_way\"]  = len(standalone_parameters[\"labels_source\"])\n",
    "# standalone_parameters[\"num_examples_per_domain_per_label_source\"]=200\n",
    "# standalone_parameters[\"num_examples_per_domain_per_label_target\"]=100\n",
    "\n",
    "\n",
    "standalone_parameters[\"n_way\"]  = len(standalone_parameters[\"labels_source\"])"
   ]
  },
  {
   "cell_type": "code",
   "execution_count": 4,
   "id": "74a10e51",
   "metadata": {
    "execution": {
     "iopub.execute_input": "2022-04-01T18:35:06.342132Z",
     "iopub.status.busy": "2022-04-01T18:35:06.341851Z",
     "iopub.status.idle": "2022-04-01T18:35:06.361317Z",
     "shell.execute_reply": "2022-04-01T18:35:06.360963Z"
    },
    "papermill": {
     "duration": 0.030979,
     "end_time": "2022-04-01T18:35:06.361388",
     "exception": false,
     "start_time": "2022-04-01T18:35:06.330409",
     "status": "completed"
    },
    "tags": [
     "injected-parameters"
    ]
   },
   "outputs": [],
   "source": [
    "# Parameters\n",
    "parameters = {\n",
    "    \"experiment_name\": \"tuned_1v2:oracle.run2_limited\",\n",
    "    \"device\": \"cuda\",\n",
    "    \"lr\": 0.0001,\n",
    "    \"labels_source\": [\n",
    "        \"3123D52\",\n",
    "        \"3123D65\",\n",
    "        \"3123D79\",\n",
    "        \"3123D80\",\n",
    "        \"3123D54\",\n",
    "        \"3123D70\",\n",
    "        \"3123D7B\",\n",
    "        \"3123D89\",\n",
    "        \"3123D58\",\n",
    "        \"3123D76\",\n",
    "        \"3123D7D\",\n",
    "        \"3123EFE\",\n",
    "        \"3123D64\",\n",
    "        \"3123D78\",\n",
    "        \"3123D7E\",\n",
    "        \"3124E4A\",\n",
    "    ],\n",
    "    \"labels_target\": [\n",
    "        \"3123D52\",\n",
    "        \"3123D65\",\n",
    "        \"3123D79\",\n",
    "        \"3123D80\",\n",
    "        \"3123D54\",\n",
    "        \"3123D70\",\n",
    "        \"3123D7B\",\n",
    "        \"3123D89\",\n",
    "        \"3123D58\",\n",
    "        \"3123D76\",\n",
    "        \"3123D7D\",\n",
    "        \"3123EFE\",\n",
    "        \"3123D64\",\n",
    "        \"3123D78\",\n",
    "        \"3123D7E\",\n",
    "        \"3124E4A\",\n",
    "    ],\n",
    "    \"episode_transforms_source\": [],\n",
    "    \"episode_transforms_target\": [],\n",
    "    \"domains_source\": [8, 32, 50],\n",
    "    \"domains_target\": [14, 20, 26, 38, 44],\n",
    "    \"num_examples_per_domain_per_label_source\": 2000,\n",
    "    \"num_examples_per_domain_per_label_target\": 2000,\n",
    "    \"n_shot\": 3,\n",
    "    \"n_way\": 16,\n",
    "    \"n_query\": 2,\n",
    "    \"train_k_factor\": 3,\n",
    "    \"val_k_factor\": 2,\n",
    "    \"test_k_factor\": 2,\n",
    "    \"torch_default_dtype\": \"torch.float32\",\n",
    "    \"n_epoch\": 50,\n",
    "    \"patience\": 3,\n",
    "    \"criteria_for_best\": \"target_accuracy\",\n",
    "    \"x_net\": [\n",
    "        {\"class\": \"nnReshape\", \"kargs\": {\"shape\": [-1, 1, 2, 256]}},\n",
    "        {\n",
    "            \"class\": \"Conv2d\",\n",
    "            \"kargs\": {\n",
    "                \"in_channels\": 1,\n",
    "                \"out_channels\": 256,\n",
    "                \"kernel_size\": [1, 7],\n",
    "                \"bias\": False,\n",
    "                \"padding\": [0, 3],\n",
    "            },\n",
    "        },\n",
    "        {\"class\": \"ReLU\", \"kargs\": {\"inplace\": True}},\n",
    "        {\"class\": \"BatchNorm2d\", \"kargs\": {\"num_features\": 256}},\n",
    "        {\n",
    "            \"class\": \"Conv2d\",\n",
    "            \"kargs\": {\n",
    "                \"in_channels\": 256,\n",
    "                \"out_channels\": 80,\n",
    "                \"kernel_size\": [2, 7],\n",
    "                \"bias\": True,\n",
    "                \"padding\": [0, 3],\n",
    "            },\n",
    "        },\n",
    "        {\"class\": \"ReLU\", \"kargs\": {\"inplace\": True}},\n",
    "        {\"class\": \"BatchNorm2d\", \"kargs\": {\"num_features\": 80}},\n",
    "        {\"class\": \"Flatten\", \"kargs\": {}},\n",
    "        {\"class\": \"Linear\", \"kargs\": {\"in_features\": 20480, \"out_features\": 256}},\n",
    "        {\"class\": \"ReLU\", \"kargs\": {\"inplace\": True}},\n",
    "        {\"class\": \"BatchNorm1d\", \"kargs\": {\"num_features\": 256}},\n",
    "        {\"class\": \"Linear\", \"kargs\": {\"in_features\": 256, \"out_features\": 256}},\n",
    "    ],\n",
    "    \"NUM_LOGS_PER_EPOCH\": 10,\n",
    "    \"BEST_MODEL_PATH\": \"./best_model.pth\",\n",
    "    \"pickle_name\": \"oracle.Run2_10kExamples_stratified_ds.2022A.pkl\",\n",
    "    \"x_transforms_source\": [\"unit_power\"],\n",
    "    \"x_transforms_target\": [\"unit_power\"],\n",
    "    \"dataset_seed\": 7,\n",
    "    \"seed\": 7,\n",
    "}\n"
   ]
  },
  {
   "cell_type": "code",
   "execution_count": 5,
   "id": "8fa1cc33",
   "metadata": {
    "execution": {
     "iopub.execute_input": "2022-04-01T18:35:06.390387Z",
     "iopub.status.busy": "2022-04-01T18:35:06.390137Z",
     "iopub.status.idle": "2022-04-01T18:35:06.405574Z",
     "shell.execute_reply": "2022-04-01T18:35:06.405121Z"
    },
    "papermill": {
     "duration": 0.028562,
     "end_time": "2022-04-01T18:35:06.405663",
     "exception": false,
     "start_time": "2022-04-01T18:35:06.377101",
     "status": "completed"
    },
    "tags": []
   },
   "outputs": [],
   "source": [
    "# Set this to True if you want to run this template directly\n",
    "STANDALONE = False\n",
    "if STANDALONE:\n",
    "    print(\"parameters not injected, running with standalone_parameters\")\n",
    "    parameters = standalone_parameters\n",
    "\n",
    "if not 'parameters' in locals() and not 'parameters' in globals():\n",
    "    raise Exception(\"Parameter injection failed\")\n",
    "\n",
    "#Use an easy dict for all the parameters\n",
    "p = EasyDict(parameters)\n",
    "\n",
    "supplied_keys = set(p.keys())\n",
    "\n",
    "if  supplied_keys != required_parameters:\n",
    "    print(\"Parameters are incorrect\")\n",
    "    if len(supplied_keys - required_parameters)>0: print(\"Shouldn't have:\", str(supplied_keys - required_parameters))\n",
    "    if len(required_parameters - supplied_keys)>0: print(\"Need to have:\", str(required_parameters - supplied_keys))\n",
    "    raise RuntimeError(\"Parameters are incorrect\")\n",
    "\n"
   ]
  },
  {
   "cell_type": "code",
   "execution_count": 6,
   "id": "3a028d58",
   "metadata": {
    "execution": {
     "iopub.execute_input": "2022-04-01T18:35:06.431620Z",
     "iopub.status.busy": "2022-04-01T18:35:06.431362Z",
     "iopub.status.idle": "2022-04-01T18:35:06.443491Z",
     "shell.execute_reply": "2022-04-01T18:35:06.443130Z"
    },
    "papermill": {
     "duration": 0.023978,
     "end_time": "2022-04-01T18:35:06.443560",
     "exception": false,
     "start_time": "2022-04-01T18:35:06.419582",
     "status": "completed"
    },
    "tags": []
   },
   "outputs": [],
   "source": [
    "###################################\n",
    "# Set the RNGs and make it all deterministic\n",
    "###################################\n",
    "np.random.seed(p.seed)\n",
    "random.seed(p.seed)\n",
    "torch.manual_seed(p.seed)\n",
    "\n",
    "torch.use_deterministic_algorithms(True) "
   ]
  },
  {
   "cell_type": "code",
   "execution_count": 7,
   "id": "b691acf6",
   "metadata": {
    "execution": {
     "iopub.execute_input": "2022-04-01T18:35:06.470165Z",
     "iopub.status.busy": "2022-04-01T18:35:06.469251Z",
     "iopub.status.idle": "2022-04-01T18:35:06.484555Z",
     "shell.execute_reply": "2022-04-01T18:35:06.484102Z"
    },
    "papermill": {
     "duration": 0.027472,
     "end_time": "2022-04-01T18:35:06.484644",
     "exception": false,
     "start_time": "2022-04-01T18:35:06.457172",
     "status": "completed"
    },
    "tags": []
   },
   "outputs": [],
   "source": [
    "###########################################\n",
    "# The stratified datasets honor this\n",
    "###########################################\n",
    "torch.set_default_dtype(eval(p.torch_default_dtype))"
   ]
  },
  {
   "cell_type": "code",
   "execution_count": 8,
   "id": "b5fba671",
   "metadata": {
    "execution": {
     "iopub.execute_input": "2022-04-01T18:35:06.510743Z",
     "iopub.status.busy": "2022-04-01T18:35:06.510473Z",
     "iopub.status.idle": "2022-04-01T18:35:06.551332Z",
     "shell.execute_reply": "2022-04-01T18:35:06.550934Z"
    },
    "papermill": {
     "duration": 0.052474,
     "end_time": "2022-04-01T18:35:06.551422",
     "exception": false,
     "start_time": "2022-04-01T18:35:06.498948",
     "status": "completed"
    },
    "tags": []
   },
   "outputs": [],
   "source": [
    "###################################\n",
    "# Build the network(s)\n",
    "# Note: It's critical to do this AFTER setting the RNG\n",
    "# (This is due to the randomized initial weights)\n",
    "###################################\n",
    "x_net = build_sequential(p.x_net)"
   ]
  },
  {
   "cell_type": "code",
   "execution_count": 9,
   "id": "5d7e61cc",
   "metadata": {
    "execution": {
     "iopub.execute_input": "2022-04-01T18:35:06.576733Z",
     "iopub.status.busy": "2022-04-01T18:35:06.576479Z",
     "iopub.status.idle": "2022-04-01T18:35:06.588613Z",
     "shell.execute_reply": "2022-04-01T18:35:06.588809Z"
    },
    "papermill": {
     "duration": 0.024092,
     "end_time": "2022-04-01T18:35:06.588867",
     "exception": false,
     "start_time": "2022-04-01T18:35:06.564775",
     "status": "completed"
    },
    "tags": []
   },
   "outputs": [],
   "source": [
    "start_time_secs = time.time()"
   ]
  },
  {
   "cell_type": "code",
   "execution_count": 10,
   "id": "fd5442bc",
   "metadata": {
    "execution": {
     "iopub.execute_input": "2022-04-01T18:35:06.619318Z",
     "iopub.status.busy": "2022-04-01T18:35:06.612385Z",
     "iopub.status.idle": "2022-04-01T18:35:25.114773Z",
     "shell.execute_reply": "2022-04-01T18:35:25.114368Z"
    },
    "papermill": {
     "duration": 18.513835,
     "end_time": "2022-04-01T18:35:25.114901",
     "exception": false,
     "start_time": "2022-04-01T18:35:06.601066",
     "status": "completed"
    },
    "tags": []
   },
   "outputs": [],
   "source": [
    "###################################\n",
    "# Build the dataset\n",
    "###################################\n",
    "\n",
    "if p.x_transforms_source == []: x_transform_source = None\n",
    "else: x_transform_source = get_chained_transform(p.x_transforms_source) \n",
    "\n",
    "if p.x_transforms_target == []: x_transform_target = None\n",
    "else: x_transform_target = get_chained_transform(p.x_transforms_target)\n",
    "\n",
    "if p.episode_transforms_source == []: episode_transform_source = None\n",
    "else: raise Exception(\"episode_transform_source not implemented\")\n",
    "\n",
    "if p.episode_transforms_target == []: episode_transform_target = None\n",
    "else: raise Exception(\"episode_transform_target not implemented\")\n",
    "\n",
    "\n",
    "eaf_source = Episodic_Accessor_Factory(\n",
    "    labels=p.labels_source,\n",
    "    domains=p.domains_source,\n",
    "    num_examples_per_domain_per_label=p.num_examples_per_domain_per_label_source,\n",
    "    iterator_seed=p.seed,\n",
    "    dataset_seed=p.dataset_seed,\n",
    "    n_shot=p.n_shot,\n",
    "    n_way=p.n_way,\n",
    "    n_query=p.n_query,\n",
    "    train_val_test_k_factors=(p.train_k_factor,p.val_k_factor,p.test_k_factor),\n",
    "    pickle_path=os.path.join(get_datasets_base_path(), p.pickle_name),\n",
    "    x_transform_func=x_transform_source,\n",
    "    example_transform_func=episode_transform_source,\n",
    "    \n",
    ")\n",
    "train_original_source, val_original_source, test_original_source = eaf_source.get_train(), eaf_source.get_val(), eaf_source.get_test()\n",
    "\n",
    "\n",
    "eaf_target = Episodic_Accessor_Factory(\n",
    "    labels=p.labels_target,\n",
    "    domains=p.domains_target,\n",
    "    num_examples_per_domain_per_label=p.num_examples_per_domain_per_label_target,\n",
    "    iterator_seed=p.seed,\n",
    "    dataset_seed=p.dataset_seed,\n",
    "    n_shot=p.n_shot,\n",
    "    n_way=p.n_way,\n",
    "    n_query=p.n_query,\n",
    "    train_val_test_k_factors=(p.train_k_factor,p.val_k_factor,p.test_k_factor),\n",
    "    pickle_path=os.path.join(get_datasets_base_path(), p.pickle_name),\n",
    "    x_transform_func=x_transform_target,\n",
    "    example_transform_func=episode_transform_target,\n",
    ")\n",
    "train_original_target, val_original_target, test_original_target = eaf_target.get_train(), eaf_target.get_val(), eaf_target.get_test()\n",
    "\n",
    "\n",
    "transform_lambda = lambda ex: ex[1] # Original is (<domain>, <episode>) so we strip down to episode only\n",
    "\n",
    "train_processed_source = Lazy_Iterable_Wrapper(train_original_source, transform_lambda)\n",
    "val_processed_source   = Lazy_Iterable_Wrapper(val_original_source, transform_lambda)\n",
    "test_processed_source  = Lazy_Iterable_Wrapper(test_original_source, transform_lambda)\n",
    "\n",
    "train_processed_target = Lazy_Iterable_Wrapper(train_original_target, transform_lambda)\n",
    "val_processed_target   = Lazy_Iterable_Wrapper(val_original_target, transform_lambda)\n",
    "test_processed_target  = Lazy_Iterable_Wrapper(test_original_target, transform_lambda)\n",
    "\n",
    "datasets = EasyDict({\n",
    "    \"source\": {\n",
    "        \"original\": {\"train\":train_original_source, \"val\":val_original_source, \"test\":test_original_source},\n",
    "        \"processed\": {\"train\":train_processed_source, \"val\":val_processed_source, \"test\":test_processed_source}\n",
    "    },\n",
    "    \"target\": {\n",
    "        \"original\": {\"train\":train_original_target, \"val\":val_original_target, \"test\":test_original_target},\n",
    "        \"processed\": {\"train\":train_processed_target, \"val\":val_processed_target, \"test\":test_processed_target}\n",
    "    },\n",
    "})"
   ]
  },
  {
   "cell_type": "code",
   "execution_count": 11,
   "id": "296189d9",
   "metadata": {
    "execution": {
     "iopub.execute_input": "2022-04-01T18:35:25.145080Z",
     "iopub.status.busy": "2022-04-01T18:35:25.144825Z",
     "iopub.status.idle": "2022-04-01T18:35:26.809036Z",
     "shell.execute_reply": "2022-04-01T18:35:26.808546Z"
    },
    "papermill": {
     "duration": 1.678436,
     "end_time": "2022-04-01T18:35:26.809145",
     "exception": false,
     "start_time": "2022-04-01T18:35:25.130709",
     "status": "completed"
    },
    "tags": []
   },
   "outputs": [
    {
     "name": "stdout",
     "output_type": "stream",
     "text": [
      "Visually inspect these to see if they line up with expected values given the transforms\n",
      "x_transforms_source ['unit_power']\n",
      "x_transforms_target ['unit_power']\n",
      "Average magnitude, source: 0.9587929\n",
      "Average power, source: 1.0\n"
     ]
    },
    {
     "name": "stdout",
     "output_type": "stream",
     "text": [
      "Average magnitude, target: 0.89048505\n",
      "Average power, target: 1.0\n"
     ]
    }
   ],
   "source": [
    "# Some quick unit tests on the data\n",
    "from steves_utils.transforms import get_average_power, get_average_magnitude\n",
    "\n",
    "q_x, q_y, s_x, s_y, truth = next(iter(train_processed_source))\n",
    "\n",
    "assert q_x.dtype == eval(p.torch_default_dtype)\n",
    "assert s_x.dtype == eval(p.torch_default_dtype)\n",
    "\n",
    "print(\"Visually inspect these to see if they line up with expected values given the transforms\")\n",
    "print('x_transforms_source', p.x_transforms_source)\n",
    "print('x_transforms_target', p.x_transforms_target)\n",
    "print(\"Average magnitude, source:\", get_average_magnitude(q_x[0].numpy()))\n",
    "print(\"Average power, source:\", get_average_power(q_x[0].numpy()))\n",
    "\n",
    "q_x, q_y, s_x, s_y, truth = next(iter(train_processed_target))\n",
    "print(\"Average magnitude, target:\", get_average_magnitude(q_x[0].numpy()))\n",
    "print(\"Average power, target:\", get_average_power(q_x[0].numpy()))\n"
   ]
  },
  {
   "cell_type": "code",
   "execution_count": 12,
   "id": "bbdacba1",
   "metadata": {
    "execution": {
     "iopub.execute_input": "2022-04-01T18:35:26.843152Z",
     "iopub.status.busy": "2022-04-01T18:35:26.840588Z",
     "iopub.status.idle": "2022-04-01T18:35:26.901496Z",
     "shell.execute_reply": "2022-04-01T18:35:26.901240Z"
    },
    "papermill": {
     "duration": 0.075106,
     "end_time": "2022-04-01T18:35:26.901552",
     "exception": false,
     "start_time": "2022-04-01T18:35:26.826446",
     "status": "completed"
    },
    "tags": []
   },
   "outputs": [
    {
     "name": "stdout",
     "output_type": "stream",
     "text": [
      "(2, 256)\n"
     ]
    }
   ],
   "source": [
    "###################################\n",
    "# Build the model\n",
    "###################################\n",
    "model = Steves_Prototypical_Network(x_net, device=p.device, x_shape=(2,256))\n",
    "optimizer = Adam(params=model.parameters(), lr=p.lr)"
   ]
  },
  {
   "cell_type": "code",
   "execution_count": 13,
   "id": "22b39ac5",
   "metadata": {
    "execution": {
     "iopub.execute_input": "2022-04-01T18:35:26.926574Z",
     "iopub.status.busy": "2022-04-01T18:35:26.926324Z",
     "iopub.status.idle": "2022-04-01T18:52:07.591732Z",
     "shell.execute_reply": "2022-04-01T18:52:07.591499Z"
    },
    "papermill": {
     "duration": 1000.679547,
     "end_time": "2022-04-01T18:52:07.591792",
     "exception": false,
     "start_time": "2022-04-01T18:35:26.912245",
     "status": "completed"
    },
    "tags": []
   },
   "outputs": [
    {
     "name": "stdout",
     "output_type": "stream",
     "text": [
      "epoch: 1, [batch: 1 / 2520], examples_per_second: 123.8411, train_label_loss: 2.7868, \n"
     ]
    },
    {
     "name": "stdout",
     "output_type": "stream",
     "text": [
      "epoch: 1, [batch: 252 / 2520], examples_per_second: 3164.2532, train_label_loss: 2.8126, \n"
     ]
    },
    {
     "name": "stdout",
     "output_type": "stream",
     "text": [
      "epoch: 1, [batch: 504 / 2520], examples_per_second: 3185.3549, train_label_loss: 1.6866, \n"
     ]
    },
    {
     "name": "stdout",
     "output_type": "stream",
     "text": [
      "epoch: 1, [batch: 756 / 2520], examples_per_second: 3183.8488, train_label_loss: 1.2609, \n"
     ]
    },
    {
     "name": "stdout",
     "output_type": "stream",
     "text": [
      "epoch: 1, [batch: 1008 / 2520], examples_per_second: 3168.0105, train_label_loss: 1.8982, \n"
     ]
    },
    {
     "name": "stdout",
     "output_type": "stream",
     "text": [
      "epoch: 1, [batch: 1260 / 2520], examples_per_second: 3165.2252, train_label_loss: 1.4646, \n"
     ]
    },
    {
     "name": "stdout",
     "output_type": "stream",
     "text": [
      "epoch: 1, [batch: 1512 / 2520], examples_per_second: 3154.9881, train_label_loss: 1.2374, \n"
     ]
    },
    {
     "name": "stdout",
     "output_type": "stream",
     "text": [
      "epoch: 1, [batch: 1764 / 2520], examples_per_second: 3153.4110, train_label_loss: 1.3699, \n"
     ]
    },
    {
     "name": "stdout",
     "output_type": "stream",
     "text": [
      "epoch: 1, [batch: 2016 / 2520], examples_per_second: 3155.8429, train_label_loss: 1.2555, \n"
     ]
    },
    {
     "name": "stdout",
     "output_type": "stream",
     "text": [
      "epoch: 1, [batch: 2268 / 2520], examples_per_second: 3154.1663, train_label_loss: 1.9917, \n"
     ]
    },
    {
     "name": "stdout",
     "output_type": "stream",
     "text": [
      "=============================================================\n",
      "epoch: 1, source_val_acc_label: 0.3955, target_val_acc_label: 0.2785, source_val_label_loss: 1.5166, target_val_label_loss: 1.9797, \n",
      "=============================================================\n"
     ]
    },
    {
     "name": "stdout",
     "output_type": "stream",
     "text": [
      "New best\n"
     ]
    },
    {
     "name": "stdout",
     "output_type": "stream",
     "text": [
      "epoch: 2, [batch: 1 / 2520], examples_per_second: 11.1353, train_label_loss: 1.0993, \n"
     ]
    },
    {
     "name": "stdout",
     "output_type": "stream",
     "text": [
      "epoch: 2, [batch: 252 / 2520], examples_per_second: 3178.9642, train_label_loss: 1.1798, \n"
     ]
    },
    {
     "name": "stdout",
     "output_type": "stream",
     "text": [
      "epoch: 2, [batch: 504 / 2520], examples_per_second: 3187.7106, train_label_loss: 1.1206, \n"
     ]
    },
    {
     "name": "stdout",
     "output_type": "stream",
     "text": [
      "epoch: 2, [batch: 756 / 2520], examples_per_second: 3173.5458, train_label_loss: 1.4075, \n"
     ]
    },
    {
     "name": "stdout",
     "output_type": "stream",
     "text": [
      "epoch: 2, [batch: 1008 / 2520], examples_per_second: 3203.4844, train_label_loss: 1.2119, \n"
     ]
    },
    {
     "name": "stdout",
     "output_type": "stream",
     "text": [
      "epoch: 2, [batch: 1260 / 2520], examples_per_second: 3191.2748, train_label_loss: 1.7342, \n"
     ]
    },
    {
     "name": "stdout",
     "output_type": "stream",
     "text": [
      "epoch: 2, [batch: 1512 / 2520], examples_per_second: 3179.2475, train_label_loss: 1.5381, \n"
     ]
    },
    {
     "name": "stdout",
     "output_type": "stream",
     "text": [
      "epoch: 2, [batch: 1764 / 2520], examples_per_second: 3165.7660, train_label_loss: 1.0514, \n"
     ]
    },
    {
     "name": "stdout",
     "output_type": "stream",
     "text": [
      "epoch: 2, [batch: 2016 / 2520], examples_per_second: 3179.3476, train_label_loss: 1.3106, \n"
     ]
    },
    {
     "name": "stdout",
     "output_type": "stream",
     "text": [
      "epoch: 2, [batch: 2268 / 2520], examples_per_second: 3181.4024, train_label_loss: 1.0063, \n"
     ]
    },
    {
     "name": "stdout",
     "output_type": "stream",
     "text": [
      "=============================================================\n",
      "epoch: 2, source_val_acc_label: 0.4234, target_val_acc_label: 0.3003, source_val_label_loss: 1.4077, target_val_label_loss: 1.8835, \n",
      "=============================================================\n"
     ]
    },
    {
     "name": "stdout",
     "output_type": "stream",
     "text": [
      "New best\n"
     ]
    },
    {
     "name": "stdout",
     "output_type": "stream",
     "text": [
      "epoch: 3, [batch: 1 / 2520], examples_per_second: 11.0428, train_label_loss: 1.2499, \n"
     ]
    },
    {
     "name": "stdout",
     "output_type": "stream",
     "text": [
      "epoch: 3, [batch: 252 / 2520], examples_per_second: 3187.5998, train_label_loss: 1.5349, \n"
     ]
    },
    {
     "name": "stdout",
     "output_type": "stream",
     "text": [
      "epoch: 3, [batch: 504 / 2520], examples_per_second: 3195.4865, train_label_loss: 1.1807, \n"
     ]
    },
    {
     "name": "stdout",
     "output_type": "stream",
     "text": [
      "epoch: 3, [batch: 756 / 2520], examples_per_second: 3150.3897, train_label_loss: 1.3253, \n"
     ]
    },
    {
     "name": "stdout",
     "output_type": "stream",
     "text": [
      "epoch: 3, [batch: 1008 / 2520], examples_per_second: 3183.2540, train_label_loss: 1.4124, \n"
     ]
    },
    {
     "name": "stdout",
     "output_type": "stream",
     "text": [
      "epoch: 3, [batch: 1260 / 2520], examples_per_second: 3197.2126, train_label_loss: 0.7955, \n"
     ]
    },
    {
     "name": "stdout",
     "output_type": "stream",
     "text": [
      "epoch: 3, [batch: 1512 / 2520], examples_per_second: 3197.3864, train_label_loss: 0.8324, \n"
     ]
    },
    {
     "name": "stdout",
     "output_type": "stream",
     "text": [
      "epoch: 3, [batch: 1764 / 2520], examples_per_second: 3181.3990, train_label_loss: 1.1965, \n"
     ]
    },
    {
     "name": "stdout",
     "output_type": "stream",
     "text": [
      "epoch: 3, [batch: 2016 / 2520], examples_per_second: 3183.0888, train_label_loss: 0.9177, \n"
     ]
    },
    {
     "name": "stdout",
     "output_type": "stream",
     "text": [
      "epoch: 3, [batch: 2268 / 2520], examples_per_second: 3190.8382, train_label_loss: 1.2642, \n"
     ]
    },
    {
     "name": "stdout",
     "output_type": "stream",
     "text": [
      "=============================================================\n",
      "epoch: 3, source_val_acc_label: 0.5545, target_val_acc_label: 0.4437, source_val_label_loss: 1.1433, target_val_label_loss: 1.5536, \n",
      "=============================================================\n"
     ]
    },
    {
     "name": "stdout",
     "output_type": "stream",
     "text": [
      "New best\n"
     ]
    },
    {
     "name": "stdout",
     "output_type": "stream",
     "text": [
      "epoch: 4, [batch: 1 / 2520], examples_per_second: 11.0953, train_label_loss: 0.7310, \n"
     ]
    },
    {
     "name": "stdout",
     "output_type": "stream",
     "text": [
      "epoch: 4, [batch: 252 / 2520], examples_per_second: 3184.2693, train_label_loss: 0.7050, \n"
     ]
    },
    {
     "name": "stdout",
     "output_type": "stream",
     "text": [
      "epoch: 4, [batch: 504 / 2520], examples_per_second: 3179.4341, train_label_loss: 1.6326, \n"
     ]
    },
    {
     "name": "stdout",
     "output_type": "stream",
     "text": [
      "epoch: 4, [batch: 756 / 2520], examples_per_second: 3178.4901, train_label_loss: 0.7550, \n"
     ]
    },
    {
     "name": "stdout",
     "output_type": "stream",
     "text": [
      "epoch: 4, [batch: 1008 / 2520], examples_per_second: 3164.4130, train_label_loss: 0.8414, \n"
     ]
    },
    {
     "name": "stdout",
     "output_type": "stream",
     "text": [
      "epoch: 4, [batch: 1260 / 2520], examples_per_second: 3190.6227, train_label_loss: 1.1192, \n"
     ]
    },
    {
     "name": "stdout",
     "output_type": "stream",
     "text": [
      "epoch: 4, [batch: 1512 / 2520], examples_per_second: 3169.4774, train_label_loss: 0.4632, \n"
     ]
    },
    {
     "name": "stdout",
     "output_type": "stream",
     "text": [
      "epoch: 4, [batch: 1764 / 2520], examples_per_second: 3165.8086, train_label_loss: 0.5120, \n"
     ]
    },
    {
     "name": "stdout",
     "output_type": "stream",
     "text": [
      "epoch: 4, [batch: 2016 / 2520], examples_per_second: 3185.8392, train_label_loss: 0.6433, \n"
     ]
    },
    {
     "name": "stdout",
     "output_type": "stream",
     "text": [
      "epoch: 4, [batch: 2268 / 2520], examples_per_second: 3188.1021, train_label_loss: 0.5690, \n"
     ]
    },
    {
     "name": "stdout",
     "output_type": "stream",
     "text": [
      "=============================================================\n",
      "epoch: 4, source_val_acc_label: 0.5741, target_val_acc_label: 0.4726, source_val_label_loss: 1.1203, target_val_label_loss: 1.5397, \n",
      "=============================================================\n"
     ]
    },
    {
     "name": "stdout",
     "output_type": "stream",
     "text": [
      "New best\n"
     ]
    },
    {
     "name": "stdout",
     "output_type": "stream",
     "text": [
      "epoch: 5, [batch: 1 / 2520], examples_per_second: 11.0760, train_label_loss: 0.7908, \n"
     ]
    },
    {
     "name": "stdout",
     "output_type": "stream",
     "text": [
      "epoch: 5, [batch: 252 / 2520], examples_per_second: 3177.6576, train_label_loss: 1.0124, \n"
     ]
    },
    {
     "name": "stdout",
     "output_type": "stream",
     "text": [
      "epoch: 5, [batch: 504 / 2520], examples_per_second: 3184.8670, train_label_loss: 0.8800, \n"
     ]
    },
    {
     "name": "stdout",
     "output_type": "stream",
     "text": [
      "epoch: 5, [batch: 756 / 2520], examples_per_second: 3192.6120, train_label_loss: 0.8271, \n"
     ]
    },
    {
     "name": "stdout",
     "output_type": "stream",
     "text": [
      "epoch: 5, [batch: 1008 / 2520], examples_per_second: 3184.5874, train_label_loss: 0.8279, \n"
     ]
    },
    {
     "name": "stdout",
     "output_type": "stream",
     "text": [
      "epoch: 5, [batch: 1260 / 2520], examples_per_second: 3193.0846, train_label_loss: 0.5402, \n"
     ]
    },
    {
     "name": "stdout",
     "output_type": "stream",
     "text": [
      "epoch: 5, [batch: 1512 / 2520], examples_per_second: 3183.8785, train_label_loss: 0.8613, \n"
     ]
    },
    {
     "name": "stdout",
     "output_type": "stream",
     "text": [
      "epoch: 5, [batch: 1764 / 2520], examples_per_second: 3187.8420, train_label_loss: 0.8456, \n"
     ]
    },
    {
     "name": "stdout",
     "output_type": "stream",
     "text": [
      "epoch: 5, [batch: 2016 / 2520], examples_per_second: 3192.1821, train_label_loss: 0.7850, \n"
     ]
    },
    {
     "name": "stdout",
     "output_type": "stream",
     "text": [
      "epoch: 5, [batch: 2268 / 2520], examples_per_second: 3192.4063, train_label_loss: 0.7932, \n"
     ]
    },
    {
     "name": "stdout",
     "output_type": "stream",
     "text": [
      "=============================================================\n",
      "epoch: 5, source_val_acc_label: 0.5881, target_val_acc_label: 0.4901, source_val_label_loss: 1.1587, target_val_label_loss: 1.5948, \n",
      "=============================================================\n"
     ]
    },
    {
     "name": "stdout",
     "output_type": "stream",
     "text": [
      "New best\n"
     ]
    },
    {
     "name": "stdout",
     "output_type": "stream",
     "text": [
      "epoch: 6, [batch: 1 / 2520], examples_per_second: 11.0347, train_label_loss: 0.5593, \n"
     ]
    },
    {
     "name": "stdout",
     "output_type": "stream",
     "text": [
      "epoch: 6, [batch: 252 / 2520], examples_per_second: 3171.2878, train_label_loss: 0.6603, \n"
     ]
    },
    {
     "name": "stdout",
     "output_type": "stream",
     "text": [
      "epoch: 6, [batch: 504 / 2520], examples_per_second: 3182.7900, train_label_loss: 0.7502, \n"
     ]
    },
    {
     "name": "stdout",
     "output_type": "stream",
     "text": [
      "epoch: 6, [batch: 756 / 2520], examples_per_second: 3180.6029, train_label_loss: 0.5648, \n"
     ]
    },
    {
     "name": "stdout",
     "output_type": "stream",
     "text": [
      "epoch: 6, [batch: 1008 / 2520], examples_per_second: 3182.3126, train_label_loss: 0.4234, \n"
     ]
    },
    {
     "name": "stdout",
     "output_type": "stream",
     "text": [
      "epoch: 6, [batch: 1260 / 2520], examples_per_second: 3190.7860, train_label_loss: 0.4973, \n"
     ]
    },
    {
     "name": "stdout",
     "output_type": "stream",
     "text": [
      "epoch: 6, [batch: 1512 / 2520], examples_per_second: 3188.9493, train_label_loss: 0.9136, \n"
     ]
    },
    {
     "name": "stdout",
     "output_type": "stream",
     "text": [
      "epoch: 6, [batch: 1764 / 2520], examples_per_second: 3178.7353, train_label_loss: 0.5751, \n"
     ]
    },
    {
     "name": "stdout",
     "output_type": "stream",
     "text": [
      "epoch: 6, [batch: 2016 / 2520], examples_per_second: 3190.3756, train_label_loss: 0.4436, \n"
     ]
    },
    {
     "name": "stdout",
     "output_type": "stream",
     "text": [
      "epoch: 6, [batch: 2268 / 2520], examples_per_second: 3188.1010, train_label_loss: 0.8283, \n"
     ]
    },
    {
     "name": "stdout",
     "output_type": "stream",
     "text": [
      "=============================================================\n",
      "epoch: 6, source_val_acc_label: 0.6033, target_val_acc_label: 0.4949, source_val_label_loss: 1.1782, target_val_label_loss: 1.6227, \n",
      "=============================================================\n"
     ]
    },
    {
     "name": "stdout",
     "output_type": "stream",
     "text": [
      "New best\n"
     ]
    },
    {
     "name": "stdout",
     "output_type": "stream",
     "text": [
      "epoch: 7, [batch: 1 / 2520], examples_per_second: 11.0529, train_label_loss: 0.3990, \n"
     ]
    },
    {
     "name": "stdout",
     "output_type": "stream",
     "text": [
      "epoch: 7, [batch: 252 / 2520], examples_per_second: 3155.3550, train_label_loss: 0.3848, \n"
     ]
    },
    {
     "name": "stdout",
     "output_type": "stream",
     "text": [
      "epoch: 7, [batch: 504 / 2520], examples_per_second: 3184.4262, train_label_loss: 0.3388, \n"
     ]
    },
    {
     "name": "stdout",
     "output_type": "stream",
     "text": [
      "epoch: 7, [batch: 756 / 2520], examples_per_second: 3195.8276, train_label_loss: 0.6870, \n"
     ]
    },
    {
     "name": "stdout",
     "output_type": "stream",
     "text": [
      "epoch: 7, [batch: 1008 / 2520], examples_per_second: 3169.5241, train_label_loss: 0.2509, \n"
     ]
    },
    {
     "name": "stdout",
     "output_type": "stream",
     "text": [
      "epoch: 7, [batch: 1260 / 2520], examples_per_second: 3195.8404, train_label_loss: 0.5676, \n"
     ]
    },
    {
     "name": "stdout",
     "output_type": "stream",
     "text": [
      "epoch: 7, [batch: 1512 / 2520], examples_per_second: 3189.4798, train_label_loss: 0.4473, \n"
     ]
    },
    {
     "name": "stdout",
     "output_type": "stream",
     "text": [
      "epoch: 7, [batch: 1764 / 2520], examples_per_second: 3174.2807, train_label_loss: 0.4168, \n"
     ]
    },
    {
     "name": "stdout",
     "output_type": "stream",
     "text": [
      "epoch: 7, [batch: 2016 / 2520], examples_per_second: 3193.4293, train_label_loss: 0.3115, \n"
     ]
    },
    {
     "name": "stdout",
     "output_type": "stream",
     "text": [
      "epoch: 7, [batch: 2268 / 2520], examples_per_second: 3179.6454, train_label_loss: 0.3345, \n"
     ]
    },
    {
     "name": "stdout",
     "output_type": "stream",
     "text": [
      "=============================================================\n",
      "epoch: 7, source_val_acc_label: 0.5954, target_val_acc_label: 0.4963, source_val_label_loss: 1.2715, target_val_label_loss: 1.7142, \n",
      "=============================================================\n"
     ]
    },
    {
     "name": "stdout",
     "output_type": "stream",
     "text": [
      "New best\n"
     ]
    },
    {
     "name": "stdout",
     "output_type": "stream",
     "text": [
      "epoch: 8, [batch: 1 / 2520], examples_per_second: 11.0501, train_label_loss: 0.2304, \n"
     ]
    },
    {
     "name": "stdout",
     "output_type": "stream",
     "text": [
      "epoch: 8, [batch: 252 / 2520], examples_per_second: 3166.0162, train_label_loss: 0.2121, \n"
     ]
    },
    {
     "name": "stdout",
     "output_type": "stream",
     "text": [
      "epoch: 8, [batch: 504 / 2520], examples_per_second: 3178.3785, train_label_loss: 0.3478, \n"
     ]
    },
    {
     "name": "stdout",
     "output_type": "stream",
     "text": [
      "epoch: 8, [batch: 756 / 2520], examples_per_second: 3165.0615, train_label_loss: 0.5041, \n"
     ]
    },
    {
     "name": "stdout",
     "output_type": "stream",
     "text": [
      "epoch: 8, [batch: 1008 / 2520], examples_per_second: 3155.5256, train_label_loss: 0.3394, \n"
     ]
    },
    {
     "name": "stdout",
     "output_type": "stream",
     "text": [
      "epoch: 8, [batch: 1260 / 2520], examples_per_second: 3171.1011, train_label_loss: 0.5459, \n"
     ]
    },
    {
     "name": "stdout",
     "output_type": "stream",
     "text": [
      "epoch: 8, [batch: 1512 / 2520], examples_per_second: 3188.3456, train_label_loss: 0.4069, \n"
     ]
    },
    {
     "name": "stdout",
     "output_type": "stream",
     "text": [
      "epoch: 8, [batch: 1764 / 2520], examples_per_second: 3162.3153, train_label_loss: 0.4870, \n"
     ]
    },
    {
     "name": "stdout",
     "output_type": "stream",
     "text": [
      "epoch: 8, [batch: 2016 / 2520], examples_per_second: 3192.7251, train_label_loss: 0.5399, \n"
     ]
    },
    {
     "name": "stdout",
     "output_type": "stream",
     "text": [
      "epoch: 8, [batch: 2268 / 2520], examples_per_second: 3172.1727, train_label_loss: 0.4288, \n"
     ]
    },
    {
     "name": "stdout",
     "output_type": "stream",
     "text": [
      "=============================================================\n",
      "epoch: 8, source_val_acc_label: 0.5934, target_val_acc_label: 0.4968, source_val_label_loss: 1.3689, target_val_label_loss: 1.8415, \n",
      "=============================================================\n"
     ]
    },
    {
     "name": "stdout",
     "output_type": "stream",
     "text": [
      "New best\n"
     ]
    },
    {
     "name": "stdout",
     "output_type": "stream",
     "text": [
      "epoch: 9, [batch: 1 / 2520], examples_per_second: 11.0916, train_label_loss: 0.3494, \n"
     ]
    },
    {
     "name": "stdout",
     "output_type": "stream",
     "text": [
      "epoch: 9, [batch: 252 / 2520], examples_per_second: 3175.4192, train_label_loss: 0.2689, \n"
     ]
    },
    {
     "name": "stdout",
     "output_type": "stream",
     "text": [
      "epoch: 9, [batch: 504 / 2520], examples_per_second: 3179.9976, train_label_loss: 0.2599, \n"
     ]
    },
    {
     "name": "stdout",
     "output_type": "stream",
     "text": [
      "epoch: 9, [batch: 756 / 2520], examples_per_second: 3177.7881, train_label_loss: 0.3621, \n"
     ]
    },
    {
     "name": "stdout",
     "output_type": "stream",
     "text": [
      "epoch: 9, [batch: 1008 / 2520], examples_per_second: 3173.5475, train_label_loss: 0.4421, \n"
     ]
    },
    {
     "name": "stdout",
     "output_type": "stream",
     "text": [
      "epoch: 9, [batch: 1260 / 2520], examples_per_second: 3192.4895, train_label_loss: 0.2362, \n"
     ]
    },
    {
     "name": "stdout",
     "output_type": "stream",
     "text": [
      "epoch: 9, [batch: 1512 / 2520], examples_per_second: 3183.5630, train_label_loss: 0.0474, \n"
     ]
    },
    {
     "name": "stdout",
     "output_type": "stream",
     "text": [
      "epoch: 9, [batch: 1764 / 2520], examples_per_second: 3175.3708, train_label_loss: 0.1949, \n"
     ]
    },
    {
     "name": "stdout",
     "output_type": "stream",
     "text": [
      "epoch: 9, [batch: 2016 / 2520], examples_per_second: 3186.9472, train_label_loss: 0.3725, \n"
     ]
    },
    {
     "name": "stdout",
     "output_type": "stream",
     "text": [
      "epoch: 9, [batch: 2268 / 2520], examples_per_second: 3188.7506, train_label_loss: 0.1376, \n"
     ]
    },
    {
     "name": "stdout",
     "output_type": "stream",
     "text": [
      "=============================================================\n",
      "epoch: 9, source_val_acc_label: 0.6038, target_val_acc_label: 0.4977, source_val_label_loss: 1.4273, target_val_label_loss: 1.9300, \n",
      "=============================================================\n"
     ]
    },
    {
     "name": "stdout",
     "output_type": "stream",
     "text": [
      "New best\n"
     ]
    },
    {
     "name": "stdout",
     "output_type": "stream",
     "text": [
      "epoch: 10, [batch: 1 / 2520], examples_per_second: 11.0537, train_label_loss: 0.2080, \n"
     ]
    },
    {
     "name": "stdout",
     "output_type": "stream",
     "text": [
      "epoch: 10, [batch: 252 / 2520], examples_per_second: 3174.1193, train_label_loss: 0.1323, \n"
     ]
    },
    {
     "name": "stdout",
     "output_type": "stream",
     "text": [
      "epoch: 10, [batch: 504 / 2520], examples_per_second: 3187.2158, train_label_loss: 0.3725, \n"
     ]
    },
    {
     "name": "stdout",
     "output_type": "stream",
     "text": [
      "epoch: 10, [batch: 756 / 2520], examples_per_second: 3189.7583, train_label_loss: 0.3465, \n"
     ]
    },
    {
     "name": "stdout",
     "output_type": "stream",
     "text": [
      "epoch: 10, [batch: 1008 / 2520], examples_per_second: 3165.8217, train_label_loss: 0.2864, \n"
     ]
    },
    {
     "name": "stdout",
     "output_type": "stream",
     "text": [
      "epoch: 10, [batch: 1260 / 2520], examples_per_second: 3162.9449, train_label_loss: 0.3114, \n"
     ]
    },
    {
     "name": "stdout",
     "output_type": "stream",
     "text": [
      "epoch: 10, [batch: 1512 / 2520], examples_per_second: 3171.9742, train_label_loss: 0.0721, \n"
     ]
    },
    {
     "name": "stdout",
     "output_type": "stream",
     "text": [
      "epoch: 10, [batch: 1764 / 2520], examples_per_second: 3165.2307, train_label_loss: 0.0757, \n"
     ]
    },
    {
     "name": "stdout",
     "output_type": "stream",
     "text": [
      "epoch: 10, [batch: 2016 / 2520], examples_per_second: 3174.2347, train_label_loss: 0.1261, \n"
     ]
    },
    {
     "name": "stdout",
     "output_type": "stream",
     "text": [
      "epoch: 10, [batch: 2268 / 2520], examples_per_second: 3178.4562, train_label_loss: 0.2336, \n"
     ]
    },
    {
     "name": "stdout",
     "output_type": "stream",
     "text": [
      "=============================================================\n",
      "epoch: 10, source_val_acc_label: 0.6021, target_val_acc_label: 0.5002, source_val_label_loss: 1.4479, target_val_label_loss: 1.9998, \n",
      "=============================================================\n"
     ]
    },
    {
     "name": "stdout",
     "output_type": "stream",
     "text": [
      "New best\n"
     ]
    },
    {
     "name": "stdout",
     "output_type": "stream",
     "text": [
      "epoch: 11, [batch: 1 / 2520], examples_per_second: 11.0132, train_label_loss: 0.2346, \n"
     ]
    },
    {
     "name": "stdout",
     "output_type": "stream",
     "text": [
      "epoch: 11, [batch: 252 / 2520], examples_per_second: 3173.6094, train_label_loss: 0.1402, \n"
     ]
    },
    {
     "name": "stdout",
     "output_type": "stream",
     "text": [
      "epoch: 11, [batch: 504 / 2520], examples_per_second: 3190.4326, train_label_loss: 0.0852, \n"
     ]
    },
    {
     "name": "stdout",
     "output_type": "stream",
     "text": [
      "epoch: 11, [batch: 756 / 2520], examples_per_second: 3202.7917, train_label_loss: 0.2421, \n"
     ]
    },
    {
     "name": "stdout",
     "output_type": "stream",
     "text": [
      "epoch: 11, [batch: 1008 / 2520], examples_per_second: 3204.1818, train_label_loss: 0.1124, \n"
     ]
    },
    {
     "name": "stdout",
     "output_type": "stream",
     "text": [
      "epoch: 11, [batch: 1260 / 2520], examples_per_second: 3201.7633, train_label_loss: 0.3829, \n"
     ]
    },
    {
     "name": "stdout",
     "output_type": "stream",
     "text": [
      "epoch: 11, [batch: 1512 / 2520], examples_per_second: 3182.4504, train_label_loss: 0.7277, \n"
     ]
    },
    {
     "name": "stdout",
     "output_type": "stream",
     "text": [
      "epoch: 11, [batch: 1764 / 2520], examples_per_second: 3159.1211, train_label_loss: 0.2533, \n"
     ]
    },
    {
     "name": "stdout",
     "output_type": "stream",
     "text": [
      "epoch: 11, [batch: 2016 / 2520], examples_per_second: 3161.7336, train_label_loss: 0.0889, \n"
     ]
    },
    {
     "name": "stdout",
     "output_type": "stream",
     "text": [
      "epoch: 11, [batch: 2268 / 2520], examples_per_second: 3180.5767, train_label_loss: 0.4859, \n"
     ]
    },
    {
     "name": "stdout",
     "output_type": "stream",
     "text": [
      "=============================================================\n",
      "epoch: 11, source_val_acc_label: 0.5963, target_val_acc_label: 0.4965, source_val_label_loss: 1.5309, target_val_label_loss: 2.0511, \n",
      "=============================================================\n"
     ]
    },
    {
     "name": "stdout",
     "output_type": "stream",
     "text": [
      "epoch: 12, [batch: 1 / 2520], examples_per_second: 11.1308, train_label_loss: 0.3107, \n"
     ]
    },
    {
     "name": "stdout",
     "output_type": "stream",
     "text": [
      "epoch: 12, [batch: 252 / 2520], examples_per_second: 3163.5879, train_label_loss: 0.2322, \n"
     ]
    },
    {
     "name": "stdout",
     "output_type": "stream",
     "text": [
      "epoch: 12, [batch: 504 / 2520], examples_per_second: 3185.6255, train_label_loss: 0.1281, \n"
     ]
    },
    {
     "name": "stdout",
     "output_type": "stream",
     "text": [
      "epoch: 12, [batch: 756 / 2520], examples_per_second: 3173.3623, train_label_loss: 0.1781, \n"
     ]
    },
    {
     "name": "stdout",
     "output_type": "stream",
     "text": [
      "epoch: 12, [batch: 1008 / 2520], examples_per_second: 3169.0127, train_label_loss: 0.0299, \n"
     ]
    },
    {
     "name": "stdout",
     "output_type": "stream",
     "text": [
      "epoch: 12, [batch: 1260 / 2520], examples_per_second: 3182.2961, train_label_loss: 0.4100, \n"
     ]
    },
    {
     "name": "stdout",
     "output_type": "stream",
     "text": [
      "epoch: 12, [batch: 1512 / 2520], examples_per_second: 3185.9986, train_label_loss: 0.0203, \n"
     ]
    },
    {
     "name": "stdout",
     "output_type": "stream",
     "text": [
      "epoch: 12, [batch: 1764 / 2520], examples_per_second: 3184.5691, train_label_loss: 0.0948, \n"
     ]
    },
    {
     "name": "stdout",
     "output_type": "stream",
     "text": [
      "epoch: 12, [batch: 2016 / 2520], examples_per_second: 3182.0473, train_label_loss: 0.0926, \n"
     ]
    },
    {
     "name": "stdout",
     "output_type": "stream",
     "text": [
      "epoch: 12, [batch: 2268 / 2520], examples_per_second: 3172.4824, train_label_loss: 0.1083, \n"
     ]
    },
    {
     "name": "stdout",
     "output_type": "stream",
     "text": [
      "=============================================================\n",
      "epoch: 12, source_val_acc_label: 0.6012, target_val_acc_label: 0.4968, source_val_label_loss: 1.6527, target_val_label_loss: 2.2662, \n",
      "=============================================================\n"
     ]
    },
    {
     "name": "stdout",
     "output_type": "stream",
     "text": [
      "epoch: 13, [batch: 1 / 2520], examples_per_second: 11.1317, train_label_loss: 0.2264, \n"
     ]
    },
    {
     "name": "stdout",
     "output_type": "stream",
     "text": [
      "epoch: 13, [batch: 252 / 2520], examples_per_second: 3179.9965, train_label_loss: 0.0258, \n"
     ]
    },
    {
     "name": "stdout",
     "output_type": "stream",
     "text": [
      "epoch: 13, [batch: 504 / 2520], examples_per_second: 3172.9310, train_label_loss: 0.0296, \n"
     ]
    },
    {
     "name": "stdout",
     "output_type": "stream",
     "text": [
      "epoch: 13, [batch: 756 / 2520], examples_per_second: 3176.5640, train_label_loss: 0.2348, \n"
     ]
    },
    {
     "name": "stdout",
     "output_type": "stream",
     "text": [
      "epoch: 13, [batch: 1008 / 2520], examples_per_second: 3185.6190, train_label_loss: 0.1873, \n"
     ]
    },
    {
     "name": "stdout",
     "output_type": "stream",
     "text": [
      "epoch: 13, [batch: 1260 / 2520], examples_per_second: 3180.9177, train_label_loss: 0.2187, \n"
     ]
    },
    {
     "name": "stdout",
     "output_type": "stream",
     "text": [
      "epoch: 13, [batch: 1512 / 2520], examples_per_second: 3192.0124, train_label_loss: 0.0631, \n"
     ]
    },
    {
     "name": "stdout",
     "output_type": "stream",
     "text": [
      "epoch: 13, [batch: 1764 / 2520], examples_per_second: 3180.0632, train_label_loss: 0.1103, \n"
     ]
    },
    {
     "name": "stdout",
     "output_type": "stream",
     "text": [
      "epoch: 13, [batch: 2016 / 2520], examples_per_second: 3191.5435, train_label_loss: 0.1846, \n"
     ]
    },
    {
     "name": "stdout",
     "output_type": "stream",
     "text": [
      "epoch: 13, [batch: 2268 / 2520], examples_per_second: 3188.6108, train_label_loss: 0.0721, \n"
     ]
    },
    {
     "name": "stdout",
     "output_type": "stream",
     "text": [
      "=============================================================\n",
      "epoch: 13, source_val_acc_label: 0.5987, target_val_acc_label: 0.4983, source_val_label_loss: 1.6987, target_val_label_loss: 2.3121, \n",
      "=============================================================\n"
     ]
    },
    {
     "name": "stdout",
     "output_type": "stream",
     "text": [
      "epoch: 14, [batch: 1 / 2520], examples_per_second: 11.1214, train_label_loss: 0.2464, \n"
     ]
    },
    {
     "name": "stdout",
     "output_type": "stream",
     "text": [
      "epoch: 14, [batch: 252 / 2520], examples_per_second: 3171.2946, train_label_loss: 0.1449, \n"
     ]
    },
    {
     "name": "stdout",
     "output_type": "stream",
     "text": [
      "epoch: 14, [batch: 504 / 2520], examples_per_second: 3187.6010, train_label_loss: 0.1429, \n"
     ]
    },
    {
     "name": "stdout",
     "output_type": "stream",
     "text": [
      "epoch: 14, [batch: 756 / 2520], examples_per_second: 3185.6010, train_label_loss: 0.1173, \n"
     ]
    },
    {
     "name": "stdout",
     "output_type": "stream",
     "text": [
      "epoch: 14, [batch: 1008 / 2520], examples_per_second: 3159.8735, train_label_loss: 0.0223, \n"
     ]
    },
    {
     "name": "stdout",
     "output_type": "stream",
     "text": [
      "epoch: 14, [batch: 1260 / 2520], examples_per_second: 3205.1966, train_label_loss: 0.3614, \n"
     ]
    },
    {
     "name": "stdout",
     "output_type": "stream",
     "text": [
      "epoch: 14, [batch: 1512 / 2520], examples_per_second: 3189.2410, train_label_loss: 0.0763, \n"
     ]
    },
    {
     "name": "stdout",
     "output_type": "stream",
     "text": [
      "epoch: 14, [batch: 1764 / 2520], examples_per_second: 3169.2766, train_label_loss: 0.0547, \n"
     ]
    },
    {
     "name": "stdout",
     "output_type": "stream",
     "text": [
      "epoch: 14, [batch: 2016 / 2520], examples_per_second: 3174.6991, train_label_loss: 0.0523, \n"
     ]
    },
    {
     "name": "stdout",
     "output_type": "stream",
     "text": [
      "epoch: 14, [batch: 2268 / 2520], examples_per_second: 3179.3566, train_label_loss: 0.1408, \n"
     ]
    },
    {
     "name": "stdout",
     "output_type": "stream",
     "text": [
      "=============================================================\n",
      "epoch: 14, source_val_acc_label: 0.6023, target_val_acc_label: 0.4967, source_val_label_loss: 1.7386, target_val_label_loss: 2.3486, \n",
      "=============================================================\n"
     ]
    },
    {
     "name": "stdout",
     "output_type": "stream",
     "text": [
      "Patience (3) exhausted\n"
     ]
    }
   ],
   "source": [
    "###################################\n",
    "# train\n",
    "###################################\n",
    "jig = PTN_Train_Eval_Test_Jig(model, p.BEST_MODEL_PATH, p.device)\n",
    "\n",
    "jig.train(\n",
    "    train_iterable=datasets.source.processed.train,\n",
    "    source_val_iterable=datasets.source.processed.val,\n",
    "    target_val_iterable=datasets.target.processed.val,\n",
    "    num_epochs=p.n_epoch,\n",
    "    num_logs_per_epoch=p.NUM_LOGS_PER_EPOCH,\n",
    "    patience=p.patience,\n",
    "    optimizer=optimizer,\n",
    "    criteria_for_best=p.criteria_for_best,\n",
    ")"
   ]
  },
  {
   "cell_type": "code",
   "execution_count": 14,
   "id": "31e8fabf",
   "metadata": {
    "execution": {
     "iopub.execute_input": "2022-04-01T18:52:07.675012Z",
     "iopub.status.busy": "2022-04-01T18:52:07.674750Z",
     "iopub.status.idle": "2022-04-01T18:52:07.693439Z",
     "shell.execute_reply": "2022-04-01T18:52:07.692990Z"
    },
    "papermill": {
     "duration": 0.061745,
     "end_time": "2022-04-01T18:52:07.693530",
     "exception": false,
     "start_time": "2022-04-01T18:52:07.631785",
     "status": "completed"
    },
    "tags": []
   },
   "outputs": [],
   "source": [
    "total_experiment_time_secs = time.time() - start_time_secs"
   ]
  },
  {
   "cell_type": "code",
   "execution_count": 15,
   "id": "87b9595b",
   "metadata": {
    "execution": {
     "iopub.execute_input": "2022-04-01T18:52:07.783468Z",
     "iopub.status.busy": "2022-04-01T18:52:07.783173Z",
     "iopub.status.idle": "2022-04-01T18:52:56.548092Z",
     "shell.execute_reply": "2022-04-01T18:52:56.547853Z"
    },
    "papermill": {
     "duration": 48.810313,
     "end_time": "2022-04-01T18:52:56.548159",
     "exception": false,
     "start_time": "2022-04-01T18:52:07.737846",
     "status": "completed"
    },
    "tags": []
   },
   "outputs": [],
   "source": [
    "###################################\n",
    "# Evaluate the model\n",
    "###################################\n",
    "source_test_label_accuracy, source_test_label_loss = jig.test(datasets.source.processed.test)\n",
    "target_test_label_accuracy, target_test_label_loss = jig.test(datasets.target.processed.test)\n",
    "\n",
    "source_val_label_accuracy, source_val_label_loss = jig.test(datasets.source.processed.val)\n",
    "target_val_label_accuracy, target_val_label_loss = jig.test(datasets.target.processed.val)\n",
    "\n",
    "history = jig.get_history()\n",
    "\n",
    "total_epochs_trained = len(history[\"epoch_indices\"])\n",
    "\n",
    "val_dl = Iterable_Aggregator((datasets.source.original.val,datasets.target.original.val))\n",
    "\n",
    "confusion = ptn_confusion_by_domain_over_dataloader(model, p.device, val_dl)\n",
    "per_domain_accuracy = per_domain_accuracy_from_confusion(confusion)\n",
    "\n",
    "# Add a key to per_domain_accuracy for if it was a source domain\n",
    "for domain, accuracy in per_domain_accuracy.items():\n",
    "    per_domain_accuracy[domain] = {\n",
    "        \"accuracy\": accuracy,\n",
    "        \"source?\": domain in p.domains_source\n",
    "    }\n",
    "\n",
    "# Do an independent accuracy assesment JUST TO BE SURE!\n",
    "# _source_test_label_accuracy = independent_accuracy_assesment(model, datasets.source.processed.test, p.device)\n",
    "# _target_test_label_accuracy = independent_accuracy_assesment(model, datasets.target.processed.test, p.device)\n",
    "# _source_val_label_accuracy = independent_accuracy_assesment(model, datasets.source.processed.val, p.device)\n",
    "# _target_val_label_accuracy = independent_accuracy_assesment(model, datasets.target.processed.val, p.device)\n",
    "\n",
    "# assert(_source_test_label_accuracy == source_test_label_accuracy)\n",
    "# assert(_target_test_label_accuracy == target_test_label_accuracy)\n",
    "# assert(_source_val_label_accuracy == source_val_label_accuracy)\n",
    "# assert(_target_val_label_accuracy == target_val_label_accuracy)\n",
    "\n",
    "experiment = {\n",
    "    \"experiment_name\": p.experiment_name,\n",
    "    \"parameters\": dict(p),\n",
    "    \"results\": {\n",
    "        \"source_test_label_accuracy\": source_test_label_accuracy,\n",
    "        \"source_test_label_loss\": source_test_label_loss,\n",
    "        \"target_test_label_accuracy\": target_test_label_accuracy,\n",
    "        \"target_test_label_loss\": target_test_label_loss,\n",
    "        \"source_val_label_accuracy\": source_val_label_accuracy,\n",
    "        \"source_val_label_loss\": source_val_label_loss,\n",
    "        \"target_val_label_accuracy\": target_val_label_accuracy,\n",
    "        \"target_val_label_loss\": target_val_label_loss,\n",
    "        \"total_epochs_trained\": total_epochs_trained,\n",
    "        \"total_experiment_time_secs\": total_experiment_time_secs,\n",
    "        \"confusion\": confusion,\n",
    "        \"per_domain_accuracy\": per_domain_accuracy,\n",
    "    },\n",
    "    \"history\": history,\n",
    "    \"dataset_metrics\": get_dataset_metrics(datasets, \"ptn\"),\n",
    "}"
   ]
  },
  {
   "cell_type": "code",
   "execution_count": 16,
   "id": "54a21829",
   "metadata": {
    "execution": {
     "iopub.execute_input": "2022-04-01T18:52:56.631859Z",
     "iopub.status.busy": "2022-04-01T18:52:56.631596Z",
     "iopub.status.idle": "2022-04-01T18:52:56.758697Z",
     "shell.execute_reply": "2022-04-01T18:52:56.759129Z"
    },
    "papermill": {
     "duration": 0.170425,
     "end_time": "2022-04-01T18:52:56.759261",
     "exception": false,
     "start_time": "2022-04-01T18:52:56.588836",
     "status": "completed"
    },
    "tags": []
   },
   "outputs": [
    {
     "data": {
      "image/png": "[encoded data removed]",
      "text/plain": [
       "<Figure size 1080x504 with 1 Axes>"
      ]
     },
     "metadata": {
      "needs_background": "light"
     },
     "output_type": "display_data"
    }
   ],
   "source": [
    "ax = get_loss_curve(experiment)\n",
    "plt.show()"
   ]
  },
  {
   "cell_type": "code",
   "execution_count": 17,
   "id": "fd8a0f60",
   "metadata": {
    "execution": {
     "iopub.execute_input": "2022-04-01T18:52:56.848557Z",
     "iopub.status.busy": "2022-04-01T18:52:56.848298Z",
     "iopub.status.idle": "2022-04-01T18:52:56.996142Z",
     "shell.execute_reply": "2022-04-01T18:52:56.996357Z"
    },
    "papermill": {
     "duration": 0.191424,
     "end_time": "2022-04-01T18:52:56.996440",
     "exception": false,
     "start_time": "2022-04-01T18:52:56.805016",
     "status": "completed"
    },
    "tags": []
   },
   "outputs": [
    {
     "data": {
      "text/plain": [
       "<AxesSubplot:title={'center':'Results'}>"
      ]
     },
     "execution_count": 17,
     "metadata": {},
     "output_type": "execute_result"
    },
    {
     "data": {
      "image/png": "[encoded data removed]",
      "text/plain": [
       "<Figure size 1080x504 with 1 Axes>"
      ]
     },
     "metadata": {
      "needs_background": "light"
     },
     "output_type": "display_data"
    }
   ],
   "source": [
    "get_results_table(experiment)"
   ]
  },
  {
   "cell_type": "code",
   "execution_count": 18,
   "id": "cf8dc689",
   "metadata": {
    "execution": {
     "iopub.execute_input": "2022-04-01T18:52:57.085389Z",
     "iopub.status.busy": "2022-04-01T18:52:57.085127Z",
     "iopub.status.idle": "2022-04-01T18:52:57.204135Z",
     "shell.execute_reply": "2022-04-01T18:52:57.204538Z"
    },
    "papermill": {
     "duration": 0.164086,
     "end_time": "2022-04-01T18:52:57.204669",
     "exception": false,
     "start_time": "2022-04-01T18:52:57.040583",
     "status": "completed"
    },
    "tags": []
   },
   "outputs": [
    {
     "data": {
      "text/plain": [
       "<AxesSubplot:title={'center':'Per Domain Validation Accuracy'}, xlabel='domain'>"
      ]
     },
     "execution_count": 18,
     "metadata": {},
     "output_type": "execute_result"
    },
    {
     "data": {
      "image/png": "[encoded data removed]",
      "text/plain": [
       "<Figure size 1080x504 with 1 Axes>"
      ]
     },
     "metadata": {
      "needs_background": "light"
     },
     "output_type": "display_data"
    }
   ],
   "source": [
    "get_domain_accuracies(experiment)"
   ]
  },
  {
   "cell_type": "code",
   "execution_count": 19,
   "id": "a74ae082",
   "metadata": {
    "execution": {
     "iopub.execute_input": "2022-04-01T18:52:57.297911Z",
     "iopub.status.busy": "2022-04-01T18:52:57.297654Z",
     "iopub.status.idle": "2022-04-01T18:52:57.314350Z",
     "shell.execute_reply": "2022-04-01T18:52:57.314726Z"
    },
    "papermill": {
     "duration": 0.063221,
     "end_time": "2022-04-01T18:52:57.314875",
     "exception": false,
     "start_time": "2022-04-01T18:52:57.251654",
     "status": "completed"
    },
    "tags": []
   },
   "outputs": [
    {
     "name": "stdout",
     "output_type": "stream",
     "text": [
      "Source Test Label Accuracy: 0.6 Target Test Label Accuracy: 0.49734375\n",
      "Source Val Label Accuracy: 0.6020833333333333 Target Val Label Accuracy: 0.5002083333333334\n"
     ]
    }
   ],
   "source": [
    "print(\"Source Test Label Accuracy:\", experiment[\"results\"][\"source_test_label_accuracy\"], \"Target Test Label Accuracy:\", experiment[\"results\"][\"target_test_label_accuracy\"])\n",
    "print(\"Source Val Label Accuracy:\", experiment[\"results\"][\"source_val_label_accuracy\"], \"Target Val Label Accuracy:\", experiment[\"results\"][\"target_val_label_accuracy\"])"
   ]
  },
  {
   "cell_type": "code",
   "execution_count": 20,
   "id": "dacca602",
   "metadata": {
    "execution": {
     "iopub.execute_input": "2022-04-01T18:52:57.410322Z",
     "iopub.status.busy": "2022-04-01T18:52:57.409842Z",
     "iopub.status.idle": "2022-04-01T18:52:57.421727Z",
     "shell.execute_reply": "2022-04-01T18:52:57.422105Z"
    },
    "papermill": {
     "duration": 0.0581,
     "end_time": "2022-04-01T18:52:57.422231",
     "exception": false,
     "start_time": "2022-04-01T18:52:57.364131",
     "status": "completed"
    },
    "tags": [
     "experiment_json"
    ]
   },
   "outputs": [
    {
     "data": {
      "text/plain": [
       "'{\"experiment_name\": \"tuned_1v2:oracle.run2_limited\", \"parameters\": {\"experiment_name\": \"tuned_1v2:oracle.run2_limited\", \"device\": \"cuda\", \"lr\": 0.0001, \"labels_source\": [\"3123D52\", \"3123D65\", \"3123D79\", \"3123D80\", \"3123D54\", \"3123D70\", \"3123D7B\", \"3123D89\", \"3123D58\", \"3123D76\", \"3123D7D\", \"3123EFE\", \"3123D64\", \"3123D78\", \"3123D7E\", \"3124E4A\"], \"labels_target\": [\"3123D52\", \"3123D65\", \"3123D79\", \"3123D80\", \"3123D54\", \"3123D70\", \"3123D7B\", \"3123D89\", \"3123D58\", \"3123D76\", \"3123D7D\", \"3123EFE\", \"3123D64\", \"3123D78\", \"3123D7E\", \"3124E4A\"], \"episode_transforms_source\": [], \"episode_transforms_target\": [], \"domains_source\": [8, 32, 50], \"domains_target\": [14, 20, 26, 38, 44], \"num_examples_per_domain_per_label_source\": 2000, \"num_examples_per_domain_per_label_target\": 2000, \"n_shot\": 3, \"n_way\": 16, \"n_query\": 2, \"train_k_factor\": 3, \"val_k_factor\": 2, \"test_k_factor\": 2, \"torch_default_dtype\": \"torch.float32\", \"n_epoch\": 50, \"patience\": 3, \"criteria_for_best\": \"target_accuracy\", \"x_net\": [{\"class\": \"nnReshape\", \"kargs\": {\"shape\": [-1, 1, 2, 256]}}, {\"class\": \"Conv2d\", \"kargs\": {\"in_channels\": 1, \"out_channels\": 256, \"kernel_size\": [1, 7], \"bias\": false, \"padding\": [0, 3]}}, {\"class\": \"ReLU\", \"kargs\": {\"inplace\": true}}, {\"class\": \"BatchNorm2d\", \"kargs\": {\"num_features\": 256}}, {\"class\": \"Conv2d\", \"kargs\": {\"in_channels\": 256, \"out_channels\": 80, \"kernel_size\": [2, 7], \"bias\": true, \"padding\": [0, 3]}}, {\"class\": \"ReLU\", \"kargs\": {\"inplace\": true}}, {\"class\": \"BatchNorm2d\", \"kargs\": {\"num_features\": 80}}, {\"class\": \"Flatten\", \"kargs\": {}}, {\"class\": \"Linear\", \"kargs\": {\"in_features\": 20480, \"out_features\": 256}}, {\"class\": \"ReLU\", \"kargs\": {\"inplace\": true}}, {\"class\": \"BatchNorm1d\", \"kargs\": {\"num_features\": 256}}, {\"class\": \"Linear\", \"kargs\": {\"in_features\": 256, \"out_features\": 256}}], \"NUM_LOGS_PER_EPOCH\": 10, \"BEST_MODEL_PATH\": \"./best_model.pth\", \"pickle_name\": \"oracle.Run2_10kExamples_stratified_ds.2022A.pkl\", \"x_transforms_source\": [\"unit_power\"], \"x_transforms_target\": [\"unit_power\"], \"dataset_seed\": 7, \"seed\": 7}, \"results\": {\"source_test_label_accuracy\": 0.6, \"source_test_label_loss\": 1.5044182538986206, \"target_test_label_accuracy\": 0.49734375, \"target_test_label_loss\": 2.008880376815796, \"source_val_label_accuracy\": 0.6020833333333333, \"source_val_label_loss\": 1.4478719234466553, \"target_val_label_accuracy\": 0.5002083333333334, \"target_val_label_loss\": 1.9998151063919067, \"total_epochs_trained\": 14, \"total_experiment_time_secs\": 1021.1039080619812, \"confusion\": {\"50\": {\"0\": {\"0\": 184, \"2\": 33, \"10\": 16, \"13\": 1, \"5\": 4, \"6\": 1, \"7\": 1}, \"4\": {\"5\": 69, \"4\": 98, \"6\": 47, \"7\": 1, \"2\": 2, \"1\": 15, \"13\": 4, \"0\": 3, \"10\": 1}, \"14\": {\"12\": 9, \"14\": 225, \"11\": 4, \"15\": 2}, \"12\": {\"12\": 189, \"9\": 24, \"14\": 23, \"11\": 4}, \"8\": {\"8\": 230, \"3\": 9, \"13\": 1}, \"7\": {\"7\": 103, \"13\": 83, \"5\": 14, \"10\": 37, \"4\": 3}, \"13\": {\"5\": 17, \"13\": 82, \"7\": 89, \"10\": 51, \"0\": 1}, \"5\": {\"7\": 24, \"5\": 116, \"4\": 50, \"10\": 17, \"6\": 16, \"13\": 10, \"0\": 4, \"1\": 2, \"2\": 1}, \"15\": {\"15\": 190, \"14\": 5, \"11\": 14, \"1\": 27, \"6\": 4}, \"10\": {\"10\": 134, \"5\": 13, \"13\": 46, \"7\": 31, \"4\": 2, \"0\": 14}, \"3\": {\"3\": 221, \"8\": 19}, \"9\": {\"9\": 197, \"12\": 36, \"11\": 7}, \"6\": {\"1\": 85, \"4\": 54, \"5\": 9, \"6\": 90, \"15\": 1, \"2\": 1}, \"1\": {\"6\": 60, \"1\": 152, \"4\": 7, \"15\": 14, \"0\": 1, \"2\": 5, \"5\": 1}, \"11\": {\"14\": 21, \"11\": 181, \"15\": 18, \"12\": 13, \"9\": 7}, \"2\": {\"2\": 213, \"0\": 23, \"5\": 1, \"6\": 1, \"1\": 2}}, \"8\": {\"1\": {\"13\": 32, \"0\": 4, \"1\": 148, \"5\": 28, \"14\": 6, \"10\": 22}, \"11\": {\"11\": 82, \"8\": 49, \"15\": 54, \"12\": 36, \"6\": 5, \"4\": 2, \"7\": 6, \"0\": 1, \"3\": 2, \"13\": 2, \"2\": 1}, \"3\": {\"12\": 63, \"3\": 159, \"2\": 6, \"15\": 8, \"11\": 4}, \"6\": {\"7\": 56, \"6\": 69, \"8\": 14, \"4\": 50, \"13\": 7, \"14\": 29, \"2\": 12, \"0\": 3}, \"7\": {\"6\": 54, \"7\": 64, \"8\": 15, \"2\": 54, \"13\": 1, \"15\": 3, \"4\": 47, \"11\": 2}, \"5\": {\"5\": 153, \"0\": 8, \"10\": 49, \"1\": 26, \"13\": 2, \"9\": 2}, \"2\": {\"2\": 135, \"15\": 5, \"7\": 44, \"4\": 28, \"6\": 23, \"8\": 3, \"12\": 1, \"0\": 1}, \"15\": {\"11\": 58, \"15\": 100, \"8\": 29, \"3\": 15, \"12\": 27, \"2\": 5, \"7\": 6}, \"10\": {\"10\": 110, \"0\": 39, \"5\": 40, \"13\": 20, \"14\": 12, \"1\": 19}, \"13\": {\"13\": 93, \"1\": 36, \"10\": 20, \"0\": 24, \"14\": 55, \"5\": 2, \"6\": 8, \"4\": 1, \"8\": 1}, \"8\": {\"15\": 27, \"7\": 29, \"11\": 32, \"8\": 125, \"6\": 12, \"4\": 9, \"14\": 2, \"2\": 3, \"13\": 1}, \"4\": {\"7\": 61, \"6\": 66, \"4\": 57, \"2\": 29, \"8\": 11, \"14\": 14, \"0\": 2}, \"9\": {\"9\": 238, \"5\": 2}, \"14\": {\"4\": 6, \"0\": 60, \"13\": 53, \"14\": 80, \"10\": 14, \"6\": 13, \"1\": 11, \"7\": 2, \"2\": 1}, \"0\": {\"4\": 4, \"14\": 55, \"0\": 99, \"10\": 47, \"6\": 6, \"1\": 6, \"7\": 2, \"13\": 20, \"5\": 1}, \"12\": {\"11\": 18, \"12\": 131, \"3\": 66, \"15\": 24, \"7\": 1}}, \"32\": {\"15\": {\"15\": 230, \"5\": 2, \"8\": 8}, \"11\": {\"5\": 9, \"11\": 55, \"7\": 73, \"2\": 12, \"4\": 30, \"0\": 24, \"13\": 32, \"8\": 3, \"3\": 2}, \"10\": {\"10\": 238, \"1\": 2}, \"14\": {\"14\": 186, \"2\": 36, \"5\": 4, \"9\": 3, \"0\": 10, \"11\": 1}, \"6\": {\"6\": 240}, \"4\": {\"5\": 30, \"2\": 7, \"4\": 47, \"8\": 20, \"11\": 33, \"13\": 45, \"0\": 42, \"7\": 15, \"3\": 1}, \"13\": {\"7\": 28, \"13\": 77, \"11\": 32, \"4\": 40, \"8\": 29, \"5\": 10, \"0\": 10, \"3\": 13, \"2\": 1}, \"3\": {\"3\": 210, \"8\": 14, \"13\": 11, \"7\": 2, \"4\": 3}, \"7\": {\"13\": 34, \"4\": 28, \"2\": 9, \"11\": 53, \"7\": 94, \"0\": 13, \"3\": 3, \"5\": 5, \"8\": 1}, \"8\": {\"3\": 12, \"8\": 144, \"0\": 16, \"15\": 7, \"13\": 20, \"5\": 16, \"11\": 2, \"4\": 21, \"7\": 2}, \"1\": {\"1\": 235, \"10\": 5}, \"5\": {\"5\": 61, \"8\": 24, \"14\": 19, \"0\": 49, \"2\": 27, \"13\": 16, \"4\": 30, \"11\": 6, \"3\": 1, \"7\": 5, \"15\": 2}, \"0\": {\"8\": 14, \"5\": 50, \"4\": 30, \"11\": 27, \"2\": 32, \"0\": 59, \"13\": 14, \"7\": 12, \"14\": 2}, \"2\": {\"2\": 142, \"11\": 11, \"0\": 23, \"14\": 42, \"5\": 12, \"4\": 5, \"7\": 5}, \"12\": {\"12\": 240}, \"9\": {\"9\": 230, \"14\": 9, \"12\": 1}}, \"26\": {\"0\": {\"14\": 34, \"1\": 37, \"4\": 29, \"0\": 51, \"3\": 6, \"10\": 19, \"2\": 9, \"7\": 12, \"8\": 26, \"13\": 4, \"5\": 2, \"9\": 7, \"6\": 2, \"15\": 2}, \"4\": {\"4\": 76, \"3\": 26, \"9\": 5, \"7\": 25, \"15\": 17, \"14\": 18, \"2\": 22, \"8\": 14, \"0\": 20, \"1\": 5, \"10\": 12}, \"14\": {\"9\": 14, \"14\": 46, \"4\": 11, \"1\": 33, \"15\": 3, \"2\": 5, \"10\": 40, \"5\": 4, \"0\": 49, \"8\": 20, \"6\": 5, \"7\": 9, \"13\": 1}, \"12\": {\"11\": 21, \"12\": 218, \"6\": 1}, \"8\": {\"4\": 16, \"9\": 28, \"13\": 16, \"5\": 13, \"2\": 28, \"14\": 18, \"0\": 20, \"8\": 31, \"10\": 15, \"7\": 33, \"6\": 13, \"15\": 4, \"3\": 2, \"1\": 3}, \"7\": {\"4\": 28, \"7\": 38, \"14\": 7, \"3\": 28, \"9\": 21, \"10\": 2, \"0\": 21, \"2\": 36, \"15\": 20, \"8\": 22, \"5\": 11, \"13\": 4, \"1\": 2}, \"13\": {\"13\": 117, \"8\": 6, \"6\": 47, \"9\": 26, \"5\": 34, \"7\": 2, \"2\": 3, \"15\": 1, \"10\": 4}, \"5\": {\"5\": 40, \"15\": 6, \"13\": 47, \"7\": 21, \"6\": 39, \"9\": 41, \"8\": 10, \"10\": 7, \"3\": 7, \"2\": 17, \"1\": 3, \"14\": 2}, \"15\": {\"2\": 29, \"4\": 28, \"15\": 79, \"7\": 21, \"3\": 71, \"0\": 5, \"5\": 3, \"8\": 2, \"9\": 2}, \"10\": {\"6\": 39, \"8\": 17, \"1\": 52, \"14\": 31, \"10\": 36, \"13\": 3, \"4\": 13, \"0\": 24, \"9\": 10, \"5\": 3, \"2\": 3, \"7\": 5, \"3\": 4}, \"3\": {\"15\": 86, \"4\": 20, \"7\": 19, \"3\": 79, \"2\": 25, \"0\": 6, \"5\": 2, \"8\": 1, \"14\": 1, \"9\": 1}, \"9\": {\"6\": 27, \"8\": 23, \"10\": 11, \"4\": 4, \"9\": 56, \"7\": 13, \"5\": 33, \"1\": 1, \"13\": 44, \"0\": 8, \"2\": 10, \"3\": 1, \"15\": 3, \"14\": 6}, \"6\": {\"6\": 113, \"10\": 19, \"1\": 9, \"8\": 8, \"13\": 41, \"9\": 25, \"5\": 16, \"0\": 3, \"14\": 6}, \"1\": {\"14\": 45, \"10\": 40, \"1\": 90, \"5\": 1, \"9\": 9, \"0\": 26, \"8\": 11, \"4\": 10, \"2\": 2, \"6\": 3, \"7\": 3}, \"11\": {\"11\": 231, \"12\": 9}, \"2\": {\"2\": 48, \"0\": 11, \"4\": 22, \"3\": 25, \"7\": 48, \"9\": 15, \"14\": 8, \"15\": 26, \"10\": 3, \"8\": 15, \"5\": 11, \"13\": 7, \"1\": 1}}, \"44\": {\"1\": {\"12\": 70, \"7\": 9, \"3\": 48, \"1\": 107, \"2\": 4, \"10\": 1, \"9\": 1}, \"11\": {\"11\": 199, \"9\": 2, \"6\": 36, \"7\": 2, \"13\": 1}, \"3\": {\"3\": 178, \"1\": 33, \"12\": 27, \"2\": 1, \"7\": 1}, \"6\": {\"11\": 31, \"6\": 169, \"9\": 19, \"2\": 8, \"13\": 8, \"7\": 5}, \"7\": {\"2\": 60, \"7\": 109, \"11\": 2, \"9\": 49, \"6\": 10, \"3\": 3, \"1\": 7}, \"5\": {\"5\": 190, \"8\": 14, \"14\": 33, \"0\": 2, \"15\": 1}, \"2\": {\"9\": 74, \"7\": 48, \"2\": 109, \"3\": 6, \"6\": 2, \"1\": 1}, \"15\": {\"15\": 178, \"14\": 40, \"4\": 13, \"5\": 7, \"8\": 2}, \"10\": {\"10\": 216, \"12\": 19, \"1\": 5}, \"13\": {\"13\": 212, \"4\": 18, \"6\": 7, \"9\": 2, \"14\": 1}, \"8\": {\"8\": 124, \"5\": 17, \"0\": 94, \"15\": 3, \"14\": 2}, \"4\": {\"15\": 24, \"4\": 199, \"14\": 10, \"13\": 7}, \"9\": {\"9\": 88, \"2\": 74, \"7\": 60, \"6\": 13, \"1\": 3, \"3\": 2}, \"14\": {\"15\": 52, \"14\": 153, \"5\": 17, \"4\": 17, \"13\": 1}, \"0\": {\"8\": 117, \"0\": 118, \"5\": 5}, \"12\": {\"12\": 137, \"1\": 65, \"3\": 31, \"10\": 7}}, \"20\": {\"15\": {\"9\": 29, \"1\": 36, \"13\": 49, \"7\": 2, \"5\": 14, \"15\": 33, \"3\": 10, \"0\": 14, \"12\": 24, \"2\": 25, \"4\": 4}, \"4\": {\"12\": 13, \"4\": 127, \"1\": 12, \"0\": 18, \"2\": 13, \"9\": 10, \"8\": 9, \"5\": 16, \"15\": 3, \"3\": 11, \"10\": 5, \"14\": 2, \"7\": 1}, \"6\": {\"6\": 189, \"10\": 8, \"14\": 23, \"7\": 11, \"8\": 8, \"11\": 1}, \"2\": {\"9\": 31, \"7\": 13, \"5\": 29, \"0\": 5, \"13\": 32, \"2\": 37, \"3\": 32, \"12\": 13, \"8\": 8, \"15\": 18, \"4\": 17, \"1\": 5}, \"5\": {\"3\": 28, \"2\": 39, \"15\": 21, \"13\": 10, \"9\": 28, \"5\": 29, \"4\": 18, \"0\": 6, \"1\": 10, \"7\": 13, \"6\": 1, \"12\": 23, \"8\": 8, \"10\": 6}, \"9\": {\"5\": 34, \"9\": 35, \"15\": 17, \"1\": 10, \"3\": 23, \"0\": 13, \"7\": 14, \"13\": 27, \"12\": 15, \"2\": 33, \"4\": 14, \"10\": 2, \"8\": 2, \"11\": 1}, \"8\": {\"14\": 37, \"7\": 53, \"10\": 49, \"8\": 51, \"5\": 9, \"3\": 17, \"2\": 4, \"6\": 8, \"4\": 11, \"15\": 1}, \"12\": {\"4\": 31, \"5\": 15, \"0\": 37, \"3\": 8, \"12\": 36, \"15\": 30, \"1\": 31, \"13\": 20, \"2\": 15, \"8\": 1, \"9\": 14, \"10\": 1, \"7\": 1}, \"10\": {\"10\": 81, \"8\": 53, \"14\": 47, \"3\": 8, \"6\": 15, \"4\": 13, \"7\": 18, \"5\": 3, \"12\": 1, \"9\": 1}, \"1\": {\"12\": 30, \"0\": 47, \"1\": 102, \"13\": 18, \"15\": 16, \"9\": 7, \"2\": 6, \"5\": 6, \"3\": 3, \"4\": 5}, \"0\": {\"0\": 64, \"1\": 80, \"13\": 7, \"3\": 6, \"12\": 32, \"15\": 13, \"5\": 8, \"9\": 6, \"2\": 9, \"4\": 14, \"8\": 1}, \"3\": {\"5\": 36, \"12\": 9, \"0\": 4, \"9\": 19, \"8\": 22, \"3\": 50, \"10\": 13, \"7\": 29, \"4\": 19, \"2\": 26, \"13\": 6, \"14\": 1, \"15\": 3, \"11\": 2, \"1\": 1}, \"13\": {\"9\": 29, \"13\": 93, \"5\": 3, \"15\": 40, \"2\": 20, \"1\": 22, \"0\": 11, \"12\": 15, \"7\": 1, \"3\": 6}, \"11\": {\"11\": 230, \"3\": 1, \"6\": 1, \"7\": 6, \"13\": 1, \"9\": 1}, \"7\": {\"7\": 98, \"3\": 32, \"2\": 10, \"10\": 21, \"5\": 11, \"8\": 23, \"14\": 11, \"6\": 12, \"12\": 1, \"9\": 12, \"13\": 1, \"11\": 5, \"4\": 3}, \"14\": {\"6\": 46, \"10\": 62, \"14\": 80, \"8\": 33, \"7\": 15, \"5\": 1, \"3\": 2, \"4\": 1}}, \"38\": {\"15\": {\"3\": 26, \"13\": 40, \"8\": 35, \"1\": 30, \"7\": 4, \"5\": 35, \"15\": 60, \"10\": 4, \"6\": 5, \"0\": 1}, \"11\": {\"12\": 21, \"11\": 178, \"14\": 27, \"2\": 14}, \"10\": {\"10\": 123, \"7\": 77, \"13\": 5, \"0\": 8, \"8\": 11, \"15\": 2, \"3\": 5, \"5\": 7, \"12\": 1, \"4\": 1}, \"14\": {\"10\": 1, \"14\": 117, \"11\": 21, \"5\": 3, \"2\": 68, \"7\": 4, \"12\": 24, \"13\": 2}, \"6\": {\"9\": 91, \"6\": 134, \"3\": 6, \"15\": 1, \"0\": 7, \"1\": 1}, \"4\": {\"12\": 24, \"4\": 214, \"10\": 2}, \"13\": {\"5\": 35, \"13\": 55, \"1\": 44, \"8\": 32, \"0\": 3, \"3\": 14, \"15\": 35, \"7\": 7, \"6\": 4, \"14\": 2, \"2\": 4, \"10\": 5}, \"3\": {\"5\": 8, \"6\": 18, \"10\": 21, \"3\": 61, \"8\": 11, \"1\": 1, \"0\": 52, \"15\": 26, \"9\": 17, \"13\": 12, \"7\": 13}, \"7\": {\"10\": 66, \"8\": 23, \"7\": 101, \"15\": 8, \"0\": 2, \"12\": 4, \"5\": 25, \"3\": 5, \"13\": 6}, \"8\": {\"5\": 61, \"8\": 57, \"13\": 37, \"7\": 16, \"3\": 10, \"1\": 4, \"15\": 46, \"10\": 6, \"6\": 1, \"0\": 1, \"12\": 1}, \"1\": {\"1\": 189, \"13\": 27, \"8\": 4, \"6\": 3, \"15\": 15, \"5\": 2}, \"5\": {\"8\": 44, \"15\": 30, \"7\": 36, \"5\": 66, \"1\": 5, \"13\": 40, \"10\": 10, \"3\": 9}, \"0\": {\"0\": 176, \"6\": 5, \"3\": 50, \"7\": 1, \"9\": 6, \"10\": 1, \"15\": 1}, \"2\": {\"2\": 202, \"14\": 37, \"11\": 1}, \"12\": {\"12\": 204, \"10\": 1, \"7\": 3, \"4\": 18, \"14\": 8, \"11\": 4, \"13\": 2}, \"9\": {\"6\": 85, \"9\": 146, \"3\": 6, \"0\": 3}}, \"14\": {\"0\": {\"0\": 203, \"9\": 6, \"8\": 3, \"3\": 5, \"10\": 23}, \"12\": {\"12\": 129, \"0\": 9, \"10\": 10, \"11\": 69, \"9\": 19, \"8\": 4}, \"1\": {\"1\": 159, \"5\": 42, \"4\": 21, \"2\": 8, \"3\": 8, \"13\": 1, \"15\": 1}, \"4\": {\"1\": 24, \"5\": 65, \"4\": 59, \"3\": 38, \"8\": 3, \"2\": 31, \"14\": 12, \"13\": 3, \"6\": 4, \"7\": 1}, \"5\": {\"1\": 49, \"5\": 67, \"2\": 37, \"14\": 10, \"4\": 51, \"6\": 3, \"3\": 19, \"13\": 4}, \"3\": {\"3\": 136, \"4\": 44, \"14\": 18, \"8\": 5, \"1\": 10, \"5\": 16, \"0\": 4, \"6\": 3, \"2\": 4}, \"7\": {\"15\": 30, \"7\": 205, \"1\": 5}, \"15\": {\"15\": 186, \"7\": 49, \"2\": 1, \"13\": 3, \"5\": 1}, \"13\": {\"6\": 63, \"13\": 119, \"2\": 31, \"14\": 10, \"5\": 9, \"4\": 4, \"15\": 3, \"7\": 1}, \"10\": {\"10\": 169, \"0\": 53, \"11\": 15, \"12\": 2, \"9\": 1}, \"14\": {\"14\": 97, \"4\": 22, \"6\": 43, \"5\": 8, \"13\": 9, \"3\": 43, \"2\": 16, \"0\": 2}, \"6\": {\"13\": 67, \"14\": 45, \"6\": 84, \"4\": 6, \"2\": 26, \"5\": 6, \"1\": 2, \"3\": 4}, \"9\": {\"9\": 231, \"12\": 2, \"11\": 3, \"0\": 2, \"10\": 2}, \"2\": {\"6\": 17, \"14\": 25, \"1\": 17, \"2\": 63, \"0\": 1, \"5\": 37, \"4\": 23, \"3\": 20, \"13\": 35, \"7\": 1, \"15\": 1}, \"8\": {\"8\": 233, \"9\": 3, \"1\": 1, \"4\": 2, \"3\": 1}, \"11\": {\"11\": 211, \"10\": 5, \"9\": 15, \"12\": 9}}}, \"per_domain_accuracy\": {\"50\": {\"accuracy\": 0.6783854166666666, \"source?\": true}, \"8\": {\"accuracy\": 0.47994791666666664, \"source?\": true}, \"32\": {\"accuracy\": 0.6479166666666667, \"source?\": true}, \"26\": {\"accuracy\": 0.35130208333333335, \"source?\": false}, \"44\": {\"accuracy\": 0.6473958333333333, \"source?\": false}, \"20\": {\"accuracy\": 0.34765625, \"source?\": false}, \"38\": {\"accuracy\": 0.5424479166666667, \"source?\": false}, \"14\": {\"accuracy\": 0.6122395833333333, \"source?\": false}}}, \"history\": {\"epoch_indices\": [1, 2, 3, 4, 5, 6, 7, 8, 9, 10, 11, 12, 13, 14], \"train_label_loss\": [1.7520729298629458, 1.3396423540181583, 1.1333150192149102, 0.8546624663211997, 0.686959516901582, 0.5523461282726319, 0.45161098648040066, 0.36919292424258493, 0.3005404396692202, 0.25594476974894487, 0.21831429409424938, 0.19178353664650036, 0.16818249822050954, 0.14801298659572024], \"source_val_label_loss\": [1.5165849924087524, 1.4076563119888306, 1.1432647705078125, 1.1203110218048096, 1.1586978435516357, 1.178175687789917, 1.2714802026748657, 1.3689302206039429, 1.4273090362548828, 1.4478719234466553, 1.5308773517608643, 1.6527146100997925, 1.6987011432647705, 1.738620400428772], \"target_val_label_loss\": [1.9797066450119019, 1.8834666013717651, 1.5536150932312012, 1.5396853685379028, 1.5947577953338623, 1.6227400302886963, 1.7141762971878052, 1.841495156288147, 1.9300150871276855, 1.9998151063919067, 2.051086902618408, 2.2661960124969482, 2.3120791912078857, 2.3486311435699463], \"source_val_acc_label\": [0.3954861111111111, 0.42335069444444445, 0.5545138888888889, 0.5741319444444445, 0.5881076388888888, 0.6032986111111112, 0.5953993055555555, 0.5934027777777777, 0.6038194444444445, 0.6020833333333333, 0.5962673611111111, 0.6012152777777777, 0.5986979166666667, 0.6022569444444444], \"target_val_acc_label\": [0.2785416666666667, 0.3003125, 0.44375, 0.4725520833333333, 0.49005208333333333, 0.49494791666666665, 0.49625, 0.49682291666666667, 0.4977083333333333, 0.5002083333333334, 0.4965104166666667, 0.49677083333333333, 0.49828125, 0.49666666666666665]}, \"dataset_metrics\": {\"source\": {\"train\": {\"n_unique_x\": 67200, \"n_unique_y\": 16, \"n_batch/episode\": 2520}, \"val\": {\"n_unique_x\": 14400, \"n_unique_y\": 16, \"n_batch/episode\": 360}, \"test\": {\"n_unique_x\": 14400, \"n_unique_y\": 16, \"n_batch/episode\": 360}}, \"target\": {\"train\": {\"n_unique_x\": 112000, \"n_unique_y\": 16, \"n_batch/episode\": 4200}, \"val\": {\"n_unique_x\": 24000, \"n_unique_y\": 16, \"n_batch/episode\": 600}, \"test\": {\"n_unique_x\": 24000, \"n_unique_y\": 16, \"n_batch/episode\": 600}}}}'"
      ]
     },
     "execution_count": 20,
     "metadata": {},
     "output_type": "execute_result"
    }
   ],
   "source": [
    "json.dumps(experiment)"
   ]
  }
 ],
 "metadata": {
  "celltoolbar": "Tags",
  "kernelspec": {
   "display_name": "Python 3 (ipykernel)",
   "language": "python",
   "name": "python3"
  },
  "language_info": {
   "codemirror_mode": {
    "name": "ipython",
    "version": 3
   },
   "file_extension": ".py",
   "mimetype": "text/x-python",
   "name": "python",
   "nbconvert_exporter": "python",
   "pygments_lexer": "ipython3",
   "version": "3.8.10"
  },
  "papermill": {
   "default_parameters": {},
   "duration": 1073.856648,
   "end_time": "2022-04-01T18:52:58.379378",
   "environment_variables": {},
   "exception": null,
   "input_path": "/mnt/wd500GB/CSC500/csc500-main/csc500-notebooks/templates/ptn_template.ipynb",
   "output_path": "trial.ipynb",
   "parameters": {
    "parameters": {
     "BEST_MODEL_PATH": "./best_model.pth",
     "NUM_LOGS_PER_EPOCH": 10,
     "criteria_for_best": "target_accuracy",
     "dataset_seed": 7,
     "device": "cuda",
     "domains_source": [
      8,
      32,
      50
     ],
     "domains_target": [
      14,
      20,
      26,
      38,
      44
     ],
     "episode_transforms_source": [],
     "episode_transforms_target": [],
     "experiment_name": "tuned_1v2:oracle.run2_limited",
     "labels_source": [
      "3123D52",
      "3123D65",
      "3123D79",
      "3123D80",
      "3123D54",
      "3123D70",
      "3123D7B",
      "3123D89",
      "3123D58",
      "3123D76",
      "3123D7D",
      "3123EFE",
      "3123D64",
      "3123D78",
      "3123D7E",
      "3124E4A"
     ],
     "labels_target": [
      "3123D52",
      "3123D65",
      "3123D79",
      "3123D80",
      "3123D54",
      "3123D70",
      "3123D7B",
      "3123D89",
      "3123D58",
      "3123D76",
      "3123D7D",
      "3123EFE",
      "3123D64",
      "3123D78",
      "3123D7E",
      "3124E4A"
     ],
     "lr": 0.0001,
     "n_epoch": 50,
     "n_query": 2,
     "n_shot": 3,
     "n_way": 16,
     "num_examples_per_domain_per_label_source": 2000,
     "num_examples_per_domain_per_label_target": 2000,
     "patience": 3,
     "pickle_name": "oracle.Run2_10kExamples_stratified_ds.2022A.pkl",
     "seed": 7,
     "test_k_factor": 2,
     "torch_default_dtype": "torch.float32",
     "train_k_factor": 3,
     "val_k_factor": 2,
     "x_net": [
      {
       "class": "nnReshape",
       "kargs": {
        "shape": [
         -1,
         1,
         2,
         256
        ]
       }
      },
      {
       "class": "Conv2d",
       "kargs": {
        "bias": false,
        "in_channels": 1,
        "kernel_size": [
         1,
         7
        ],
        "out_channels": 256,
        "padding": [
         0,
         3
        ]
       }
      },
      {
       "class": "ReLU",
       "kargs": {
        "inplace": true
       }
      },
      {
       "class": "BatchNorm2d",
       "kargs": {
        "num_features": 256
       }
      },
      {
       "class": "Conv2d",
       "kargs": {
        "bias": true,
        "in_channels": 256,
        "kernel_size": [
         2,
         7
        ],
        "out_channels": 80,
        "padding": [
         0,
         3
        ]
       }
      },
      {
       "class": "ReLU",
       "kargs": {
        "inplace": true
       }
      },
      {
       "class": "BatchNorm2d",
       "kargs": {
        "num_features": 80
       }
      },
      {
       "class": "Flatten",
       "kargs": {}
      },
      {
       "class": "Linear",
       "kargs": {
        "in_features": 20480,
        "out_features": 256
       }
      },
      {
       "class": "ReLU",
       "kargs": {
        "inplace": true
       }
      },
      {
       "class": "BatchNorm1d",
       "kargs": {
        "num_features": 256
       }
      },
      {
       "class": "Linear",
       "kargs": {
        "in_features": 256,
        "out_features": 256
       }
      }
     ],
     "x_transforms_source": [
      "unit_power"
     ],
     "x_transforms_target": [
      "unit_power"
     ]
    }
   },
   "start_time": "2022-04-01T18:35:04.522730",
   "version": "2.3.4"
  }
 },
 "nbformat": 4,
 "nbformat_minor": 5
}