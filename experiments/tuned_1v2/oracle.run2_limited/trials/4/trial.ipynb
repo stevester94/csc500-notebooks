{
 "cells": [
  {
   "cell_type": "markdown",
   "id": "9fea5f46",
   "metadata": {
    "papermill": {
     "duration": 0.01493,
     "end_time": "2022-04-01T16:16:06.103016",
     "exception": false,
     "start_time": "2022-04-01T16:16:06.088086",
     "status": "completed"
    },
    "tags": []
   },
   "source": [
    "# PTN Template\n",
    "This notebook serves as a template for single dataset PTN experiments  \n",
    "It can be run on its own by setting STANDALONE to True (do a find for \"STANDALONE\" to see where)  \n",
    "But it is intended to be executed as part of a *papermill.py script. See any of the   \n",
    "experimentes with a papermill script to get started with that workflow.  "
   ]
  },
  {
   "cell_type": "code",
   "execution_count": 1,
   "id": "0902182a",
   "metadata": {
    "execution": {
     "iopub.execute_input": "2022-04-01T16:16:06.135487Z",
     "iopub.status.busy": "2022-04-01T16:16:06.135005Z",
     "iopub.status.idle": "2022-04-01T16:16:07.041537Z",
     "shell.execute_reply": "2022-04-01T16:16:07.041257Z"
    },
    "papermill": {
     "duration": 0.929286,
     "end_time": "2022-04-01T16:16:07.041608",
     "exception": false,
     "start_time": "2022-04-01T16:16:06.112322",
     "status": "completed"
    },
    "tags": []
   },
   "outputs": [],
   "source": [
    "%load_ext autoreload\n",
    "%autoreload 2\n",
    "%matplotlib inline\n",
    "\n",
    "    \n",
    "import os, json, sys, time, random\n",
    "import numpy as np\n",
    "import torch\n",
    "from torch.optim import Adam\n",
    "from  easydict import EasyDict\n",
    "import matplotlib.pyplot as plt\n",
    "\n",
    "from steves_models.steves_ptn import Steves_Prototypical_Network\n",
    "\n",
    "from steves_utils.lazy_iterable_wrapper import Lazy_Iterable_Wrapper\n",
    "from steves_utils.iterable_aggregator import Iterable_Aggregator\n",
    "from steves_utils.ptn_train_eval_test_jig import  PTN_Train_Eval_Test_Jig\n",
    "from steves_utils.torch_sequential_builder import build_sequential\n",
    "from steves_utils.torch_utils import get_dataset_metrics, ptn_confusion_by_domain_over_dataloader\n",
    "from steves_utils.utils_v2 import (per_domain_accuracy_from_confusion, get_datasets_base_path)\n",
    "from steves_utils.PTN.utils import independent_accuracy_assesment\n",
    "\n",
    "from steves_utils.stratified_dataset.episodic_accessor import Episodic_Accessor_Factory\n",
    "\n",
    "from steves_utils.ptn_do_report import (\n",
    "    get_loss_curve,\n",
    "    get_results_table,\n",
    "    get_parameters_table,\n",
    "    get_domain_accuracies,\n",
    ")\n",
    "\n",
    "from steves_utils.transforms import get_chained_transform"
   ]
  },
  {
   "cell_type": "markdown",
   "id": "41c840b4",
   "metadata": {
    "papermill": {
     "duration": 0.009346,
     "end_time": "2022-04-01T16:16:07.060796",
     "exception": false,
     "start_time": "2022-04-01T16:16:07.051450",
     "status": "completed"
    },
    "tags": []
   },
   "source": [
    "# Required Parameters\n",
    "These are allowed parameters, not defaults\n",
    "Each of these values need to be present in the injected parameters (the notebook will raise an exception if they are not present)\n",
    "\n",
    "Papermill uses the cell tag \"parameters\" to inject the real parameters below this cell.\n",
    "Enable tags to see what I mean"
   ]
  },
  {
   "cell_type": "code",
   "execution_count": 2,
   "id": "fd44eb83",
   "metadata": {
    "execution": {
     "iopub.execute_input": "2022-04-01T16:16:07.082091Z",
     "iopub.status.busy": "2022-04-01T16:16:07.081825Z",
     "iopub.status.idle": "2022-04-01T16:16:07.093038Z",
     "shell.execute_reply": "2022-04-01T16:16:07.093344Z"
    },
    "papermill": {
     "duration": 0.023231,
     "end_time": "2022-04-01T16:16:07.093442",
     "exception": false,
     "start_time": "2022-04-01T16:16:07.070211",
     "status": "completed"
    },
    "tags": []
   },
   "outputs": [],
   "source": [
    "required_parameters = {\n",
    "    \"experiment_name\",\n",
    "    \"lr\",\n",
    "    \"device\",\n",
    "    \"seed\",\n",
    "    \"dataset_seed\",\n",
    "    \"labels_source\",\n",
    "    \"labels_target\",\n",
    "    \"domains_source\",\n",
    "    \"domains_target\",\n",
    "    \"num_examples_per_domain_per_label_source\",\n",
    "    \"num_examples_per_domain_per_label_target\",\n",
    "    \"n_shot\",\n",
    "    \"n_way\",\n",
    "    \"n_query\",\n",
    "    \"train_k_factor\",\n",
    "    \"val_k_factor\",\n",
    "    \"test_k_factor\",\n",
    "    \"n_epoch\",\n",
    "    \"patience\",\n",
    "    \"criteria_for_best\",\n",
    "    \"x_transforms_source\",\n",
    "    \"x_transforms_target\",\n",
    "    \"episode_transforms_source\",\n",
    "    \"episode_transforms_target\",\n",
    "    \"pickle_name\",\n",
    "    \"x_net\",\n",
    "    \"NUM_LOGS_PER_EPOCH\",\n",
    "    \"BEST_MODEL_PATH\",\n",
    "    \"torch_default_dtype\"\n",
    "}"
   ]
  },
  {
   "cell_type": "code",
   "execution_count": 3,
   "id": "fa3f0049",
   "metadata": {
    "execution": {
     "iopub.execute_input": "2022-04-01T16:16:07.123952Z",
     "iopub.status.busy": "2022-04-01T16:16:07.123639Z",
     "iopub.status.idle": "2022-04-01T16:16:07.136874Z",
     "shell.execute_reply": "2022-04-01T16:16:07.136468Z"
    },
    "papermill": {
     "duration": 0.028576,
     "end_time": "2022-04-01T16:16:07.136979",
     "exception": false,
     "start_time": "2022-04-01T16:16:07.108403",
     "status": "completed"
    },
    "tags": [
     "parameters"
    ]
   },
   "outputs": [],
   "source": [
    "\n",
    "\n",
    "standalone_parameters = {}\n",
    "standalone_parameters[\"experiment_name\"] = \"STANDALONE PTN\"\n",
    "standalone_parameters[\"lr\"] = 0.0001\n",
    "standalone_parameters[\"device\"] = \"cuda\"\n",
    "\n",
    "standalone_parameters[\"seed\"] = 1337\n",
    "standalone_parameters[\"dataset_seed\"] = 1337\n",
    "\n",
    "\n",
    "standalone_parameters[\"num_examples_per_domain_per_label_source\"]=100\n",
    "standalone_parameters[\"num_examples_per_domain_per_label_target\"]=100\n",
    "\n",
    "standalone_parameters[\"n_shot\"] = 3\n",
    "standalone_parameters[\"n_query\"]  = 2\n",
    "standalone_parameters[\"train_k_factor\"] = 1\n",
    "standalone_parameters[\"val_k_factor\"] = 2\n",
    "standalone_parameters[\"test_k_factor\"] = 2\n",
    "\n",
    "\n",
    "standalone_parameters[\"n_epoch\"] = 100\n",
    "\n",
    "standalone_parameters[\"patience\"] = 10\n",
    "standalone_parameters[\"criteria_for_best\"] = \"target_accuracy\"\n",
    "\n",
    "standalone_parameters[\"x_transforms_source\"] = [\"unit_power\"]\n",
    "standalone_parameters[\"x_transforms_target\"] = [\"unit_power\"]\n",
    "standalone_parameters[\"episode_transforms_source\"] = []\n",
    "standalone_parameters[\"episode_transforms_target\"] = []\n",
    "\n",
    "standalone_parameters[\"torch_default_dtype\"] = \"torch.float32\" \n",
    "\n",
    "\n",
    "\n",
    "standalone_parameters[\"x_net\"] =     [\n",
    "    {\"class\": \"nnReshape\", \"kargs\": {\"shape\":[-1, 1, 2, 256]}},\n",
    "    {\"class\": \"Conv2d\", \"kargs\": { \"in_channels\":1, \"out_channels\":256, \"kernel_size\":(1,7), \"bias\":False, \"padding\":(0,3), },},\n",
    "    {\"class\": \"ReLU\", \"kargs\": {\"inplace\": True}},\n",
    "    {\"class\": \"BatchNorm2d\", \"kargs\": {\"num_features\":256}},\n",
    "\n",
    "    {\"class\": \"Conv2d\", \"kargs\": { \"in_channels\":256, \"out_channels\":80, \"kernel_size\":(2,7), \"bias\":True, \"padding\":(0,3), },},\n",
    "    {\"class\": \"ReLU\", \"kargs\": {\"inplace\": True}},\n",
    "    {\"class\": \"BatchNorm2d\", \"kargs\": {\"num_features\":80}},\n",
    "    {\"class\": \"Flatten\", \"kargs\": {}},\n",
    "\n",
    "    {\"class\": \"Linear\", \"kargs\": {\"in_features\": 80*256, \"out_features\": 256}}, # 80 units per IQ pair\n",
    "    {\"class\": \"ReLU\", \"kargs\": {\"inplace\": True}},\n",
    "    {\"class\": \"BatchNorm1d\", \"kargs\": {\"num_features\":256}},\n",
    "\n",
    "    {\"class\": \"Linear\", \"kargs\": {\"in_features\": 256, \"out_features\": 256}},\n",
    "]\n",
    "\n",
    "# Parameters relevant to results\n",
    "# These parameters will basically never need to change\n",
    "standalone_parameters[\"NUM_LOGS_PER_EPOCH\"] = 10\n",
    "standalone_parameters[\"BEST_MODEL_PATH\"] = \"./best_model.pth\"\n",
    "\n",
    "# uncomment for CORES dataset\n",
    "from steves_utils.CORES.utils import (\n",
    "    ALL_NODES,\n",
    "    ALL_NODES_MINIMUM_1000_EXAMPLES,\n",
    "    ALL_DAYS\n",
    ")\n",
    "\n",
    "\n",
    "standalone_parameters[\"labels_source\"] = ALL_NODES\n",
    "standalone_parameters[\"labels_target\"] = ALL_NODES\n",
    "\n",
    "standalone_parameters[\"domains_source\"] = [1]\n",
    "standalone_parameters[\"domains_target\"] = [2,3,4,5]\n",
    "\n",
    "standalone_parameters[\"pickle_name\"] = \"cores.stratified_ds.2022A.pkl\"\n",
    "\n",
    "\n",
    "# Uncomment these for ORACLE dataset\n",
    "# from steves_utils.ORACLE.utils_v2 import (\n",
    "#     ALL_DISTANCES_FEET,\n",
    "#     ALL_RUNS,\n",
    "#     ALL_SERIAL_NUMBERS,\n",
    "# )\n",
    "# standalone_parameters[\"labels_source\"] = ALL_SERIAL_NUMBERS\n",
    "# standalone_parameters[\"labels_target\"] = ALL_SERIAL_NUMBERS\n",
    "# standalone_parameters[\"domains_source\"] = [8,20, 38,50]\n",
    "# standalone_parameters[\"domains_target\"] = [14, 26, 32, 44, 56]\n",
    "# standalone_parameters[\"pickle_name\"] = \"oracle.frame_indexed.stratified_ds.2022A.pkl\"\n",
    "# standalone_parameters[\"num_examples_per_domain_per_label_source\"]=1000\n",
    "# standalone_parameters[\"num_examples_per_domain_per_label_target\"]=1000\n",
    "\n",
    "# Uncomment these for Metahan dataset\n",
    "# standalone_parameters[\"labels_source\"] = list(range(19))\n",
    "# standalone_parameters[\"labels_target\"] = list(range(19))\n",
    "# standalone_parameters[\"domains_source\"] = [0]\n",
    "# standalone_parameters[\"domains_target\"] = [1]\n",
    "# standalone_parameters[\"pickle_name\"] = \"metehan.stratified_ds.2022A.pkl\"\n",
    "# standalone_parameters[\"n_way\"]  = len(standalone_parameters[\"labels_source\"])\n",
    "# standalone_parameters[\"num_examples_per_domain_per_label_source\"]=200\n",
    "# standalone_parameters[\"num_examples_per_domain_per_label_target\"]=100\n",
    "\n",
    "\n",
    "standalone_parameters[\"n_way\"]  = len(standalone_parameters[\"labels_source\"])"
   ]
  },
  {
   "cell_type": "code",
   "execution_count": 4,
   "id": "6d6c503b",
   "metadata": {
    "execution": {
     "iopub.execute_input": "2022-04-01T16:16:07.166789Z",
     "iopub.status.busy": "2022-04-01T16:16:07.166507Z",
     "iopub.status.idle": "2022-04-01T16:16:07.178126Z",
     "shell.execute_reply": "2022-04-01T16:16:07.178533Z"
    },
    "papermill": {
     "duration": 0.026621,
     "end_time": "2022-04-01T16:16:07.178658",
     "exception": false,
     "start_time": "2022-04-01T16:16:07.152037",
     "status": "completed"
    },
    "tags": [
     "injected-parameters"
    ]
   },
   "outputs": [],
   "source": [
    "# Parameters\n",
    "parameters = {\n",
    "    \"experiment_name\": \"tuned_1v2:oracle.run2_limited\",\n",
    "    \"device\": \"cuda\",\n",
    "    \"lr\": 0.0001,\n",
    "    \"labels_source\": [\n",
    "        \"3123D52\",\n",
    "        \"3123D65\",\n",
    "        \"3123D79\",\n",
    "        \"3123D80\",\n",
    "        \"3123D54\",\n",
    "        \"3123D70\",\n",
    "        \"3123D7B\",\n",
    "        \"3123D89\",\n",
    "        \"3123D58\",\n",
    "        \"3123D76\",\n",
    "        \"3123D7D\",\n",
    "        \"3123EFE\",\n",
    "        \"3123D64\",\n",
    "        \"3123D78\",\n",
    "        \"3123D7E\",\n",
    "        \"3124E4A\",\n",
    "    ],\n",
    "    \"labels_target\": [\n",
    "        \"3123D52\",\n",
    "        \"3123D65\",\n",
    "        \"3123D79\",\n",
    "        \"3123D80\",\n",
    "        \"3123D54\",\n",
    "        \"3123D70\",\n",
    "        \"3123D7B\",\n",
    "        \"3123D89\",\n",
    "        \"3123D58\",\n",
    "        \"3123D76\",\n",
    "        \"3123D7D\",\n",
    "        \"3123EFE\",\n",
    "        \"3123D64\",\n",
    "        \"3123D78\",\n",
    "        \"3123D7E\",\n",
    "        \"3124E4A\",\n",
    "    ],\n",
    "    \"episode_transforms_source\": [],\n",
    "    \"episode_transforms_target\": [],\n",
    "    \"domains_source\": [8, 32, 50],\n",
    "    \"domains_target\": [14, 20, 26, 38, 44],\n",
    "    \"num_examples_per_domain_per_label_source\": 2000,\n",
    "    \"num_examples_per_domain_per_label_target\": 2000,\n",
    "    \"n_shot\": 3,\n",
    "    \"n_way\": 16,\n",
    "    \"n_query\": 2,\n",
    "    \"train_k_factor\": 3,\n",
    "    \"val_k_factor\": 2,\n",
    "    \"test_k_factor\": 2,\n",
    "    \"torch_default_dtype\": \"torch.float32\",\n",
    "    \"n_epoch\": 50,\n",
    "    \"patience\": 3,\n",
    "    \"criteria_for_best\": \"target_accuracy\",\n",
    "    \"x_net\": [\n",
    "        {\"class\": \"nnReshape\", \"kargs\": {\"shape\": [-1, 1, 2, 256]}},\n",
    "        {\n",
    "            \"class\": \"Conv2d\",\n",
    "            \"kargs\": {\n",
    "                \"in_channels\": 1,\n",
    "                \"out_channels\": 256,\n",
    "                \"kernel_size\": [1, 7],\n",
    "                \"bias\": False,\n",
    "                \"padding\": [0, 3],\n",
    "            },\n",
    "        },\n",
    "        {\"class\": \"ReLU\", \"kargs\": {\"inplace\": True}},\n",
    "        {\"class\": \"BatchNorm2d\", \"kargs\": {\"num_features\": 256}},\n",
    "        {\n",
    "            \"class\": \"Conv2d\",\n",
    "            \"kargs\": {\n",
    "                \"in_channels\": 256,\n",
    "                \"out_channels\": 80,\n",
    "                \"kernel_size\": [2, 7],\n",
    "                \"bias\": True,\n",
    "                \"padding\": [0, 3],\n",
    "            },\n",
    "        },\n",
    "        {\"class\": \"ReLU\", \"kargs\": {\"inplace\": True}},\n",
    "        {\"class\": \"BatchNorm2d\", \"kargs\": {\"num_features\": 80}},\n",
    "        {\"class\": \"Flatten\", \"kargs\": {}},\n",
    "        {\"class\": \"Linear\", \"kargs\": {\"in_features\": 20480, \"out_features\": 256}},\n",
    "        {\"class\": \"ReLU\", \"kargs\": {\"inplace\": True}},\n",
    "        {\"class\": \"BatchNorm1d\", \"kargs\": {\"num_features\": 256}},\n",
    "        {\"class\": \"Linear\", \"kargs\": {\"in_features\": 256, \"out_features\": 256}},\n",
    "    ],\n",
    "    \"NUM_LOGS_PER_EPOCH\": 10,\n",
    "    \"BEST_MODEL_PATH\": \"./best_model.pth\",\n",
    "    \"pickle_name\": \"oracle.Run2_10kExamples_stratified_ds.2022A.pkl\",\n",
    "    \"x_transforms_source\": [\"unit_mag\"],\n",
    "    \"x_transforms_target\": [\"unit_mag\"],\n",
    "    \"dataset_seed\": 500,\n",
    "    \"seed\": 500,\n",
    "}\n"
   ]
  },
  {
   "cell_type": "code",
   "execution_count": 5,
   "id": "8fa1cc33",
   "metadata": {
    "execution": {
     "iopub.execute_input": "2022-04-01T16:16:07.207929Z",
     "iopub.status.busy": "2022-04-01T16:16:07.207675Z",
     "iopub.status.idle": "2022-04-01T16:16:07.217408Z",
     "shell.execute_reply": "2022-04-01T16:16:07.217198Z"
    },
    "papermill": {
     "duration": 0.024597,
     "end_time": "2022-04-01T16:16:07.217463",
     "exception": false,
     "start_time": "2022-04-01T16:16:07.192866",
     "status": "completed"
    },
    "tags": []
   },
   "outputs": [],
   "source": [
    "# Set this to True if you want to run this template directly\n",
    "STANDALONE = False\n",
    "if STANDALONE:\n",
    "    print(\"parameters not injected, running with standalone_parameters\")\n",
    "    parameters = standalone_parameters\n",
    "\n",
    "if not 'parameters' in locals() and not 'parameters' in globals():\n",
    "    raise Exception(\"Parameter injection failed\")\n",
    "\n",
    "#Use an easy dict for all the parameters\n",
    "p = EasyDict(parameters)\n",
    "\n",
    "supplied_keys = set(p.keys())\n",
    "\n",
    "if  supplied_keys != required_parameters:\n",
    "    print(\"Parameters are incorrect\")\n",
    "    if len(supplied_keys - required_parameters)>0: print(\"Shouldn't have:\", str(supplied_keys - required_parameters))\n",
    "    if len(required_parameters - supplied_keys)>0: print(\"Need to have:\", str(required_parameters - supplied_keys))\n",
    "    raise RuntimeError(\"Parameters are incorrect\")\n",
    "\n"
   ]
  },
  {
   "cell_type": "code",
   "execution_count": 6,
   "id": "3a028d58",
   "metadata": {
    "execution": {
     "iopub.execute_input": "2022-04-01T16:16:07.243779Z",
     "iopub.status.busy": "2022-04-01T16:16:07.243526Z",
     "iopub.status.idle": "2022-04-01T16:16:07.254622Z",
     "shell.execute_reply": "2022-04-01T16:16:07.254972Z"
    },
    "papermill": {
     "duration": 0.022926,
     "end_time": "2022-04-01T16:16:07.255077",
     "exception": false,
     "start_time": "2022-04-01T16:16:07.232151",
     "status": "completed"
    },
    "tags": []
   },
   "outputs": [],
   "source": [
    "###################################\n",
    "# Set the RNGs and make it all deterministic\n",
    "###################################\n",
    "np.random.seed(p.seed)\n",
    "random.seed(p.seed)\n",
    "torch.manual_seed(p.seed)\n",
    "\n",
    "torch.use_deterministic_algorithms(True) "
   ]
  },
  {
   "cell_type": "code",
   "execution_count": 7,
   "id": "b691acf6",
   "metadata": {
    "execution": {
     "iopub.execute_input": "2022-04-01T16:16:07.284257Z",
     "iopub.status.busy": "2022-04-01T16:16:07.283705Z",
     "iopub.status.idle": "2022-04-01T16:16:07.293262Z",
     "shell.execute_reply": "2022-04-01T16:16:07.293564Z"
    },
    "papermill": {
     "duration": 0.022892,
     "end_time": "2022-04-01T16:16:07.293659",
     "exception": false,
     "start_time": "2022-04-01T16:16:07.270767",
     "status": "completed"
    },
    "tags": []
   },
   "outputs": [],
   "source": [
    "###########################################\n",
    "# The stratified datasets honor this\n",
    "###########################################\n",
    "torch.set_default_dtype(eval(p.torch_default_dtype))"
   ]
  },
  {
   "cell_type": "code",
   "execution_count": 8,
   "id": "b5fba671",
   "metadata": {
    "execution": {
     "iopub.execute_input": "2022-04-01T16:16:07.320220Z",
     "iopub.status.busy": "2022-04-01T16:16:07.319968Z",
     "iopub.status.idle": "2022-04-01T16:16:07.356916Z",
     "shell.execute_reply": "2022-04-01T16:16:07.356491Z"
    },
    "papermill": {
     "duration": 0.048676,
     "end_time": "2022-04-01T16:16:07.357025",
     "exception": false,
     "start_time": "2022-04-01T16:16:07.308349",
     "status": "completed"
    },
    "tags": []
   },
   "outputs": [],
   "source": [
    "###################################\n",
    "# Build the network(s)\n",
    "# Note: It's critical to do this AFTER setting the RNG\n",
    "# (This is due to the randomized initial weights)\n",
    "###################################\n",
    "x_net = build_sequential(p.x_net)"
   ]
  },
  {
   "cell_type": "code",
   "execution_count": 9,
   "id": "5d7e61cc",
   "metadata": {
    "execution": {
     "iopub.execute_input": "2022-04-01T16:16:07.384483Z",
     "iopub.status.busy": "2022-04-01T16:16:07.384230Z",
     "iopub.status.idle": "2022-04-01T16:16:07.400495Z",
     "shell.execute_reply": "2022-04-01T16:16:07.400892Z"
    },
    "papermill": {
     "duration": 0.028718,
     "end_time": "2022-04-01T16:16:07.401009",
     "exception": false,
     "start_time": "2022-04-01T16:16:07.372291",
     "status": "completed"
    },
    "tags": []
   },
   "outputs": [],
   "source": [
    "start_time_secs = time.time()"
   ]
  },
  {
   "cell_type": "code",
   "execution_count": 10,
   "id": "fd5442bc",
   "metadata": {
    "execution": {
     "iopub.execute_input": "2022-04-01T16:16:07.433459Z",
     "iopub.status.busy": "2022-04-01T16:16:07.427397Z",
     "iopub.status.idle": "2022-04-01T16:16:25.707477Z",
     "shell.execute_reply": "2022-04-01T16:16:25.706984Z"
    },
    "papermill": {
     "duration": 18.291601,
     "end_time": "2022-04-01T16:16:25.707580",
     "exception": false,
     "start_time": "2022-04-01T16:16:07.415979",
     "status": "completed"
    },
    "tags": []
   },
   "outputs": [],
   "source": [
    "###################################\n",
    "# Build the dataset\n",
    "###################################\n",
    "\n",
    "if p.x_transforms_source == []: x_transform_source = None\n",
    "else: x_transform_source = get_chained_transform(p.x_transforms_source) \n",
    "\n",
    "if p.x_transforms_target == []: x_transform_target = None\n",
    "else: x_transform_target = get_chained_transform(p.x_transforms_target)\n",
    "\n",
    "if p.episode_transforms_source == []: episode_transform_source = None\n",
    "else: raise Exception(\"episode_transform_source not implemented\")\n",
    "\n",
    "if p.episode_transforms_target == []: episode_transform_target = None\n",
    "else: raise Exception(\"episode_transform_target not implemented\")\n",
    "\n",
    "\n",
    "eaf_source = Episodic_Accessor_Factory(\n",
    "    labels=p.labels_source,\n",
    "    domains=p.domains_source,\n",
    "    num_examples_per_domain_per_label=p.num_examples_per_domain_per_label_source,\n",
    "    iterator_seed=p.seed,\n",
    "    dataset_seed=p.dataset_seed,\n",
    "    n_shot=p.n_shot,\n",
    "    n_way=p.n_way,\n",
    "    n_query=p.n_query,\n",
    "    train_val_test_k_factors=(p.train_k_factor,p.val_k_factor,p.test_k_factor),\n",
    "    pickle_path=os.path.join(get_datasets_base_path(), p.pickle_name),\n",
    "    x_transform_func=x_transform_source,\n",
    "    example_transform_func=episode_transform_source,\n",
    "    \n",
    ")\n",
    "train_original_source, val_original_source, test_original_source = eaf_source.get_train(), eaf_source.get_val(), eaf_source.get_test()\n",
    "\n",
    "\n",
    "eaf_target = Episodic_Accessor_Factory(\n",
    "    labels=p.labels_target,\n",
    "    domains=p.domains_target,\n",
    "    num_examples_per_domain_per_label=p.num_examples_per_domain_per_label_target,\n",
    "    iterator_seed=p.seed,\n",
    "    dataset_seed=p.dataset_seed,\n",
    "    n_shot=p.n_shot,\n",
    "    n_way=p.n_way,\n",
    "    n_query=p.n_query,\n",
    "    train_val_test_k_factors=(p.train_k_factor,p.val_k_factor,p.test_k_factor),\n",
    "    pickle_path=os.path.join(get_datasets_base_path(), p.pickle_name),\n",
    "    x_transform_func=x_transform_target,\n",
    "    example_transform_func=episode_transform_target,\n",
    ")\n",
    "train_original_target, val_original_target, test_original_target = eaf_target.get_train(), eaf_target.get_val(), eaf_target.get_test()\n",
    "\n",
    "\n",
    "transform_lambda = lambda ex: ex[1] # Original is (<domain>, <episode>) so we strip down to episode only\n",
    "\n",
    "train_processed_source = Lazy_Iterable_Wrapper(train_original_source, transform_lambda)\n",
    "val_processed_source   = Lazy_Iterable_Wrapper(val_original_source, transform_lambda)\n",
    "test_processed_source  = Lazy_Iterable_Wrapper(test_original_source, transform_lambda)\n",
    "\n",
    "train_processed_target = Lazy_Iterable_Wrapper(train_original_target, transform_lambda)\n",
    "val_processed_target   = Lazy_Iterable_Wrapper(val_original_target, transform_lambda)\n",
    "test_processed_target  = Lazy_Iterable_Wrapper(test_original_target, transform_lambda)\n",
    "\n",
    "datasets = EasyDict({\n",
    "    \"source\": {\n",
    "        \"original\": {\"train\":train_original_source, \"val\":val_original_source, \"test\":test_original_source},\n",
    "        \"processed\": {\"train\":train_processed_source, \"val\":val_processed_source, \"test\":test_processed_source}\n",
    "    },\n",
    "    \"target\": {\n",
    "        \"original\": {\"train\":train_original_target, \"val\":val_original_target, \"test\":test_original_target},\n",
    "        \"processed\": {\"train\":train_processed_target, \"val\":val_processed_target, \"test\":test_processed_target}\n",
    "    },\n",
    "})"
   ]
  },
  {
   "cell_type": "code",
   "execution_count": 11,
   "id": "296189d9",
   "metadata": {
    "execution": {
     "iopub.execute_input": "2022-04-01T16:16:25.737320Z",
     "iopub.status.busy": "2022-04-01T16:16:25.737065Z",
     "iopub.status.idle": "2022-04-01T16:16:27.369991Z",
     "shell.execute_reply": "2022-04-01T16:16:27.369338Z"
    },
    "papermill": {
     "duration": 1.646752,
     "end_time": "2022-04-01T16:16:27.370112",
     "exception": false,
     "start_time": "2022-04-01T16:16:25.723360",
     "status": "completed"
    },
    "tags": []
   },
   "outputs": [
    {
     "name": "stdout",
     "output_type": "stream",
     "text": [
      "Visually inspect these to see if they line up with expected values given the transforms\n",
      "x_transforms_source ['unit_mag']\n",
      "x_transforms_target ['unit_mag']\n",
      "Average magnitude, source: 0.99999994\n",
      "Average power, source: 1.0937798\n"
     ]
    },
    {
     "name": "stdout",
     "output_type": "stream",
     "text": [
      "Average magnitude, target: 1.0\n",
      "Average power, target: 1.243993\n"
     ]
    }
   ],
   "source": [
    "# Some quick unit tests on the data\n",
    "from steves_utils.transforms import get_average_power, get_average_magnitude\n",
    "\n",
    "q_x, q_y, s_x, s_y, truth = next(iter(train_processed_source))\n",
    "\n",
    "assert q_x.dtype == eval(p.torch_default_dtype)\n",
    "assert s_x.dtype == eval(p.torch_default_dtype)\n",
    "\n",
    "print(\"Visually inspect these to see if they line up with expected values given the transforms\")\n",
    "print('x_transforms_source', p.x_transforms_source)\n",
    "print('x_transforms_target', p.x_transforms_target)\n",
    "print(\"Average magnitude, source:\", get_average_magnitude(q_x[0].numpy()))\n",
    "print(\"Average power, source:\", get_average_power(q_x[0].numpy()))\n",
    "\n",
    "q_x, q_y, s_x, s_y, truth = next(iter(train_processed_target))\n",
    "print(\"Average magnitude, target:\", get_average_magnitude(q_x[0].numpy()))\n",
    "print(\"Average power, target:\", get_average_power(q_x[0].numpy()))\n"
   ]
  },
  {
   "cell_type": "code",
   "execution_count": 12,
   "id": "bbdacba1",
   "metadata": {
    "execution": {
     "iopub.execute_input": "2022-04-01T16:16:27.402352Z",
     "iopub.status.busy": "2022-04-01T16:16:27.402093Z",
     "iopub.status.idle": "2022-04-01T16:16:27.464096Z",
     "shell.execute_reply": "2022-04-01T16:16:27.463874Z"
    },
    "papermill": {
     "duration": 0.07664,
     "end_time": "2022-04-01T16:16:27.464151",
     "exception": false,
     "start_time": "2022-04-01T16:16:27.387511",
     "status": "completed"
    },
    "tags": []
   },
   "outputs": [
    {
     "name": "stdout",
     "output_type": "stream",
     "text": [
      "(2, 256)\n"
     ]
    }
   ],
   "source": [
    "###################################\n",
    "# Build the model\n",
    "###################################\n",
    "model = Steves_Prototypical_Network(x_net, device=p.device, x_shape=(2,256))\n",
    "optimizer = Adam(params=model.parameters(), lr=p.lr)"
   ]
  },
  {
   "cell_type": "code",
   "execution_count": 13,
   "id": "22b39ac5",
   "metadata": {
    "execution": {
     "iopub.execute_input": "2022-04-01T16:16:27.487696Z",
     "iopub.status.busy": "2022-04-01T16:16:27.487441Z",
     "iopub.status.idle": "2022-04-01T16:36:40.155395Z",
     "shell.execute_reply": "2022-04-01T16:36:40.155166Z"
    },
    "papermill": {
     "duration": 1212.680549,
     "end_time": "2022-04-01T16:36:40.155452",
     "exception": false,
     "start_time": "2022-04-01T16:16:27.474903",
     "status": "completed"
    },
    "tags": []
   },
   "outputs": [
    {
     "name": "stdout",
     "output_type": "stream",
     "text": [
      "epoch: 1, [batch: 1 / 2520], examples_per_second: 127.2752, train_label_loss: 2.7745, \n"
     ]
    },
    {
     "name": "stdout",
     "output_type": "stream",
     "text": [
      "epoch: 1, [batch: 252 / 2520], examples_per_second: 3170.7351, train_label_loss: 2.7728, \n"
     ]
    },
    {
     "name": "stdout",
     "output_type": "stream",
     "text": [
      "epoch: 1, [batch: 504 / 2520], examples_per_second: 3199.2714, train_label_loss: 1.8876, \n"
     ]
    },
    {
     "name": "stdout",
     "output_type": "stream",
     "text": [
      "epoch: 1, [batch: 756 / 2520], examples_per_second: 3185.2183, train_label_loss: 1.6369, \n"
     ]
    },
    {
     "name": "stdout",
     "output_type": "stream",
     "text": [
      "epoch: 1, [batch: 1008 / 2520], examples_per_second: 3180.3133, train_label_loss: 1.4925, \n"
     ]
    },
    {
     "name": "stdout",
     "output_type": "stream",
     "text": [
      "epoch: 1, [batch: 1260 / 2520], examples_per_second: 3173.0917, train_label_loss: 1.4714, \n"
     ]
    },
    {
     "name": "stdout",
     "output_type": "stream",
     "text": [
      "epoch: 1, [batch: 1512 / 2520], examples_per_second: 3172.8357, train_label_loss: 1.5436, \n"
     ]
    },
    {
     "name": "stdout",
     "output_type": "stream",
     "text": [
      "epoch: 1, [batch: 1764 / 2520], examples_per_second: 3168.5891, train_label_loss: 1.3421, \n"
     ]
    },
    {
     "name": "stdout",
     "output_type": "stream",
     "text": [
      "epoch: 1, [batch: 2016 / 2520], examples_per_second: 3163.9089, train_label_loss: 1.3886, \n"
     ]
    },
    {
     "name": "stdout",
     "output_type": "stream",
     "text": [
      "epoch: 1, [batch: 2268 / 2520], examples_per_second: 3165.5689, train_label_loss: 1.4050, \n"
     ]
    },
    {
     "name": "stdout",
     "output_type": "stream",
     "text": [
      "=============================================================\n",
      "epoch: 1, source_val_acc_label: 0.4016, target_val_acc_label: 0.2873, source_val_label_loss: 1.4802, target_val_label_loss: 1.8812, \n",
      "=============================================================\n"
     ]
    },
    {
     "name": "stdout",
     "output_type": "stream",
     "text": [
      "New best\n"
     ]
    },
    {
     "name": "stdout",
     "output_type": "stream",
     "text": [
      "epoch: 2, [batch: 1 / 2520], examples_per_second: 11.0936, train_label_loss: 1.7683, \n"
     ]
    },
    {
     "name": "stdout",
     "output_type": "stream",
     "text": [
      "epoch: 2, [batch: 252 / 2520], examples_per_second: 3180.5839, train_label_loss: 1.1795, \n"
     ]
    },
    {
     "name": "stdout",
     "output_type": "stream",
     "text": [
      "epoch: 2, [batch: 504 / 2520], examples_per_second: 3204.2920, train_label_loss: 1.3498, \n"
     ]
    },
    {
     "name": "stdout",
     "output_type": "stream",
     "text": [
      "epoch: 2, [batch: 756 / 2520], examples_per_second: 3191.2420, train_label_loss: 1.1671, \n"
     ]
    },
    {
     "name": "stdout",
     "output_type": "stream",
     "text": [
      "epoch: 2, [batch: 1008 / 2520], examples_per_second: 3170.2385, train_label_loss: 1.1914, \n"
     ]
    },
    {
     "name": "stdout",
     "output_type": "stream",
     "text": [
      "epoch: 2, [batch: 1260 / 2520], examples_per_second: 3185.9661, train_label_loss: 1.1547, \n"
     ]
    },
    {
     "name": "stdout",
     "output_type": "stream",
     "text": [
      "epoch: 2, [batch: 1512 / 2520], examples_per_second: 3194.1359, train_label_loss: 1.1302, \n"
     ]
    },
    {
     "name": "stdout",
     "output_type": "stream",
     "text": [
      "epoch: 2, [batch: 1764 / 2520], examples_per_second: 3185.5271, train_label_loss: 1.2409, \n"
     ]
    },
    {
     "name": "stdout",
     "output_type": "stream",
     "text": [
      "epoch: 2, [batch: 2016 / 2520], examples_per_second: 3196.6844, train_label_loss: 1.4515, \n"
     ]
    },
    {
     "name": "stdout",
     "output_type": "stream",
     "text": [
      "epoch: 2, [batch: 2268 / 2520], examples_per_second: 3212.2727, train_label_loss: 1.0513, \n"
     ]
    },
    {
     "name": "stdout",
     "output_type": "stream",
     "text": [
      "=============================================================\n",
      "epoch: 2, source_val_acc_label: 0.4323, target_val_acc_label: 0.3195, source_val_label_loss: 1.3723, target_val_label_loss: 1.8246, \n",
      "=============================================================\n"
     ]
    },
    {
     "name": "stdout",
     "output_type": "stream",
     "text": [
      "New best\n"
     ]
    },
    {
     "name": "stdout",
     "output_type": "stream",
     "text": [
      "epoch: 3, [batch: 1 / 2520], examples_per_second: 11.1340, train_label_loss: 1.1938, \n"
     ]
    },
    {
     "name": "stdout",
     "output_type": "stream",
     "text": [
      "epoch: 3, [batch: 252 / 2520], examples_per_second: 3180.3284, train_label_loss: 1.2120, \n"
     ]
    },
    {
     "name": "stdout",
     "output_type": "stream",
     "text": [
      "epoch: 3, [batch: 504 / 2520], examples_per_second: 3188.3549, train_label_loss: 1.5326, \n"
     ]
    },
    {
     "name": "stdout",
     "output_type": "stream",
     "text": [
      "epoch: 3, [batch: 756 / 2520], examples_per_second: 3197.7073, train_label_loss: 1.1047, \n"
     ]
    },
    {
     "name": "stdout",
     "output_type": "stream",
     "text": [
      "epoch: 3, [batch: 1008 / 2520], examples_per_second: 3163.7714, train_label_loss: 1.3013, \n"
     ]
    },
    {
     "name": "stdout",
     "output_type": "stream",
     "text": [
      "epoch: 3, [batch: 1260 / 2520], examples_per_second: 3179.7066, train_label_loss: 1.3050, \n"
     ]
    },
    {
     "name": "stdout",
     "output_type": "stream",
     "text": [
      "epoch: 3, [batch: 1512 / 2520], examples_per_second: 3187.7132, train_label_loss: 1.4231, \n"
     ]
    },
    {
     "name": "stdout",
     "output_type": "stream",
     "text": [
      "epoch: 3, [batch: 1764 / 2520], examples_per_second: 3194.6687, train_label_loss: 0.9052, \n"
     ]
    },
    {
     "name": "stdout",
     "output_type": "stream",
     "text": [
      "epoch: 3, [batch: 2016 / 2520], examples_per_second: 3183.2430, train_label_loss: 0.5206, \n"
     ]
    },
    {
     "name": "stdout",
     "output_type": "stream",
     "text": [
      "epoch: 3, [batch: 2268 / 2520], examples_per_second: 3182.5428, train_label_loss: 1.0302, \n"
     ]
    },
    {
     "name": "stdout",
     "output_type": "stream",
     "text": [
      "=============================================================\n",
      "epoch: 3, source_val_acc_label: 0.5345, target_val_acc_label: 0.4280, source_val_label_loss: 1.2069, target_val_label_loss: 1.6099, \n",
      "=============================================================\n"
     ]
    },
    {
     "name": "stdout",
     "output_type": "stream",
     "text": [
      "New best\n"
     ]
    },
    {
     "name": "stdout",
     "output_type": "stream",
     "text": [
      "epoch: 4, [batch: 1 / 2520], examples_per_second: 11.1022, train_label_loss: 0.7797, \n"
     ]
    },
    {
     "name": "stdout",
     "output_type": "stream",
     "text": [
      "epoch: 4, [batch: 252 / 2520], examples_per_second: 3169.1874, train_label_loss: 0.8505, \n"
     ]
    },
    {
     "name": "stdout",
     "output_type": "stream",
     "text": [
      "epoch: 4, [batch: 504 / 2520], examples_per_second: 3180.8786, train_label_loss: 1.0862, \n"
     ]
    },
    {
     "name": "stdout",
     "output_type": "stream",
     "text": [
      "epoch: 4, [batch: 756 / 2520], examples_per_second: 3178.9223, train_label_loss: 0.8438, \n"
     ]
    },
    {
     "name": "stdout",
     "output_type": "stream",
     "text": [
      "epoch: 4, [batch: 1008 / 2520], examples_per_second: 3168.0735, train_label_loss: 0.7695, \n"
     ]
    },
    {
     "name": "stdout",
     "output_type": "stream",
     "text": [
      "epoch: 4, [batch: 1260 / 2520], examples_per_second: 3188.7206, train_label_loss: 1.2897, \n"
     ]
    },
    {
     "name": "stdout",
     "output_type": "stream",
     "text": [
      "epoch: 4, [batch: 1512 / 2520], examples_per_second: 3198.4138, train_label_loss: 0.7008, \n"
     ]
    },
    {
     "name": "stdout",
     "output_type": "stream",
     "text": [
      "epoch: 4, [batch: 1764 / 2520], examples_per_second: 3195.8474, train_label_loss: 0.8468, \n"
     ]
    },
    {
     "name": "stdout",
     "output_type": "stream",
     "text": [
      "epoch: 4, [batch: 2016 / 2520], examples_per_second: 3208.3520, train_label_loss: 1.0659, \n"
     ]
    },
    {
     "name": "stdout",
     "output_type": "stream",
     "text": [
      "epoch: 4, [batch: 2268 / 2520], examples_per_second: 3202.3128, train_label_loss: 0.8509, \n"
     ]
    },
    {
     "name": "stdout",
     "output_type": "stream",
     "text": [
      "=============================================================\n",
      "epoch: 4, source_val_acc_label: 0.5714, target_val_acc_label: 0.4633, source_val_label_loss: 1.1545, target_val_label_loss: 1.5663, \n",
      "=============================================================\n"
     ]
    },
    {
     "name": "stdout",
     "output_type": "stream",
     "text": [
      "New best\n"
     ]
    },
    {
     "name": "stdout",
     "output_type": "stream",
     "text": [
      "epoch: 5, [batch: 1 / 2520], examples_per_second: 11.1571, train_label_loss: 1.0692, \n"
     ]
    },
    {
     "name": "stdout",
     "output_type": "stream",
     "text": [
      "epoch: 5, [batch: 252 / 2520], examples_per_second: 3181.6094, train_label_loss: 0.7959, \n"
     ]
    },
    {
     "name": "stdout",
     "output_type": "stream",
     "text": [
      "epoch: 5, [batch: 504 / 2520], examples_per_second: 3205.7766, train_label_loss: 1.0131, \n"
     ]
    },
    {
     "name": "stdout",
     "output_type": "stream",
     "text": [
      "epoch: 5, [batch: 756 / 2520], examples_per_second: 3202.2836, train_label_loss: 0.8871, \n"
     ]
    },
    {
     "name": "stdout",
     "output_type": "stream",
     "text": [
      "epoch: 5, [batch: 1008 / 2520], examples_per_second: 3170.0733, train_label_loss: 0.9485, \n"
     ]
    },
    {
     "name": "stdout",
     "output_type": "stream",
     "text": [
      "epoch: 5, [batch: 1260 / 2520], examples_per_second: 3189.0322, train_label_loss: 0.7868, \n"
     ]
    },
    {
     "name": "stdout",
     "output_type": "stream",
     "text": [
      "epoch: 5, [batch: 1512 / 2520], examples_per_second: 3182.9318, train_label_loss: 0.9246, \n"
     ]
    },
    {
     "name": "stdout",
     "output_type": "stream",
     "text": [
      "epoch: 5, [batch: 1764 / 2520], examples_per_second: 3174.8073, train_label_loss: 0.6181, \n"
     ]
    },
    {
     "name": "stdout",
     "output_type": "stream",
     "text": [
      "epoch: 5, [batch: 2016 / 2520], examples_per_second: 3175.9540, train_label_loss: 0.9175, \n"
     ]
    },
    {
     "name": "stdout",
     "output_type": "stream",
     "text": [
      "epoch: 5, [batch: 2268 / 2520], examples_per_second: 3178.1355, train_label_loss: 0.4861, \n"
     ]
    },
    {
     "name": "stdout",
     "output_type": "stream",
     "text": [
      "=============================================================\n",
      "epoch: 5, source_val_acc_label: 0.5836, target_val_acc_label: 0.4776, source_val_label_loss: 1.1603, target_val_label_loss: 1.5917, \n",
      "=============================================================\n"
     ]
    },
    {
     "name": "stdout",
     "output_type": "stream",
     "text": [
      "New best\n"
     ]
    },
    {
     "name": "stdout",
     "output_type": "stream",
     "text": [
      "epoch: 6, [batch: 1 / 2520], examples_per_second: 11.0870, train_label_loss: 0.5768, \n"
     ]
    },
    {
     "name": "stdout",
     "output_type": "stream",
     "text": [
      "epoch: 6, [batch: 252 / 2520], examples_per_second: 3160.4321, train_label_loss: 0.7154, \n"
     ]
    },
    {
     "name": "stdout",
     "output_type": "stream",
     "text": [
      "epoch: 6, [batch: 504 / 2520], examples_per_second: 3174.2867, train_label_loss: 0.3476, \n"
     ]
    },
    {
     "name": "stdout",
     "output_type": "stream",
     "text": [
      "epoch: 6, [batch: 756 / 2520], examples_per_second: 3178.8456, train_label_loss: 0.4751, \n"
     ]
    },
    {
     "name": "stdout",
     "output_type": "stream",
     "text": [
      "epoch: 6, [batch: 1008 / 2520], examples_per_second: 3188.4118, train_label_loss: 0.8737, \n"
     ]
    },
    {
     "name": "stdout",
     "output_type": "stream",
     "text": [
      "epoch: 6, [batch: 1260 / 2520], examples_per_second: 3226.7248, train_label_loss: 0.4779, \n"
     ]
    },
    {
     "name": "stdout",
     "output_type": "stream",
     "text": [
      "epoch: 6, [batch: 1512 / 2520], examples_per_second: 3205.9492, train_label_loss: 0.4563, \n"
     ]
    },
    {
     "name": "stdout",
     "output_type": "stream",
     "text": [
      "epoch: 6, [batch: 1764 / 2520], examples_per_second: 3188.5596, train_label_loss: 0.1353, \n"
     ]
    },
    {
     "name": "stdout",
     "output_type": "stream",
     "text": [
      "epoch: 6, [batch: 2016 / 2520], examples_per_second: 3214.9754, train_label_loss: 0.2874, \n"
     ]
    },
    {
     "name": "stdout",
     "output_type": "stream",
     "text": [
      "epoch: 6, [batch: 2268 / 2520], examples_per_second: 3198.9649, train_label_loss: 0.5370, \n"
     ]
    },
    {
     "name": "stdout",
     "output_type": "stream",
     "text": [
      "=============================================================\n",
      "epoch: 6, source_val_acc_label: 0.6024, target_val_acc_label: 0.4927, source_val_label_loss: 1.1679, target_val_label_loss: 1.6376, \n",
      "=============================================================\n"
     ]
    },
    {
     "name": "stdout",
     "output_type": "stream",
     "text": [
      "New best\n"
     ]
    },
    {
     "name": "stdout",
     "output_type": "stream",
     "text": [
      "epoch: 7, [batch: 1 / 2520], examples_per_second: 11.1046, train_label_loss: 0.6443, \n"
     ]
    },
    {
     "name": "stdout",
     "output_type": "stream",
     "text": [
      "epoch: 7, [batch: 252 / 2520], examples_per_second: 3164.4813, train_label_loss: 0.2355, \n"
     ]
    },
    {
     "name": "stdout",
     "output_type": "stream",
     "text": [
      "epoch: 7, [batch: 504 / 2520], examples_per_second: 3174.3403, train_label_loss: 0.2242, \n"
     ]
    },
    {
     "name": "stdout",
     "output_type": "stream",
     "text": [
      "epoch: 7, [batch: 756 / 2520], examples_per_second: 3161.1206, train_label_loss: 0.4415, \n"
     ]
    },
    {
     "name": "stdout",
     "output_type": "stream",
     "text": [
      "epoch: 7, [batch: 1008 / 2520], examples_per_second: 3165.8927, train_label_loss: 0.3414, \n"
     ]
    },
    {
     "name": "stdout",
     "output_type": "stream",
     "text": [
      "epoch: 7, [batch: 1260 / 2520], examples_per_second: 3182.3664, train_label_loss: 0.2287, \n"
     ]
    },
    {
     "name": "stdout",
     "output_type": "stream",
     "text": [
      "epoch: 7, [batch: 1512 / 2520], examples_per_second: 3188.0290, train_label_loss: 0.4244, \n"
     ]
    },
    {
     "name": "stdout",
     "output_type": "stream",
     "text": [
      "epoch: 7, [batch: 1764 / 2520], examples_per_second: 3167.4667, train_label_loss: 0.6710, \n"
     ]
    },
    {
     "name": "stdout",
     "output_type": "stream",
     "text": [
      "epoch: 7, [batch: 2016 / 2520], examples_per_second: 3175.4448, train_label_loss: 0.4867, \n"
     ]
    },
    {
     "name": "stdout",
     "output_type": "stream",
     "text": [
      "epoch: 7, [batch: 2268 / 2520], examples_per_second: 3190.7242, train_label_loss: 0.5442, \n"
     ]
    },
    {
     "name": "stdout",
     "output_type": "stream",
     "text": [
      "=============================================================\n",
      "epoch: 7, source_val_acc_label: 0.5904, target_val_acc_label: 0.4884, source_val_label_loss: 1.2533, target_val_label_loss: 1.7361, \n",
      "=============================================================\n"
     ]
    },
    {
     "name": "stdout",
     "output_type": "stream",
     "text": [
      "epoch: 8, [batch: 1 / 2520], examples_per_second: 11.1576, train_label_loss: 0.3141, \n"
     ]
    },
    {
     "name": "stdout",
     "output_type": "stream",
     "text": [
      "epoch: 8, [batch: 252 / 2520], examples_per_second: 3172.4601, train_label_loss: 0.1713, \n"
     ]
    },
    {
     "name": "stdout",
     "output_type": "stream",
     "text": [
      "epoch: 8, [batch: 504 / 2520], examples_per_second: 3187.0720, train_label_loss: 0.6060, \n"
     ]
    },
    {
     "name": "stdout",
     "output_type": "stream",
     "text": [
      "epoch: 8, [batch: 756 / 2520], examples_per_second: 3183.4556, train_label_loss: 0.5481, \n"
     ]
    },
    {
     "name": "stdout",
     "output_type": "stream",
     "text": [
      "epoch: 8, [batch: 1008 / 2520], examples_per_second: 3183.8816, train_label_loss: 0.4670, \n"
     ]
    },
    {
     "name": "stdout",
     "output_type": "stream",
     "text": [
      "epoch: 8, [batch: 1260 / 2520], examples_per_second: 3177.8572, train_label_loss: 0.1262, \n"
     ]
    },
    {
     "name": "stdout",
     "output_type": "stream",
     "text": [
      "epoch: 8, [batch: 1512 / 2520], examples_per_second: 3182.5391, train_label_loss: 0.3667, \n"
     ]
    },
    {
     "name": "stdout",
     "output_type": "stream",
     "text": [
      "epoch: 8, [batch: 1764 / 2520], examples_per_second: 3192.2736, train_label_loss: 0.3253, \n"
     ]
    },
    {
     "name": "stdout",
     "output_type": "stream",
     "text": [
      "epoch: 8, [batch: 2016 / 2520], examples_per_second: 3200.7474, train_label_loss: 0.5119, \n"
     ]
    },
    {
     "name": "stdout",
     "output_type": "stream",
     "text": [
      "epoch: 8, [batch: 2268 / 2520], examples_per_second: 3197.4964, train_label_loss: 0.0970, \n"
     ]
    },
    {
     "name": "stdout",
     "output_type": "stream",
     "text": [
      "=============================================================\n",
      "epoch: 8, source_val_acc_label: 0.5998, target_val_acc_label: 0.4847, source_val_label_loss: 1.3018, target_val_label_loss: 1.8214, \n",
      "=============================================================\n"
     ]
    },
    {
     "name": "stdout",
     "output_type": "stream",
     "text": [
      "epoch: 9, [batch: 1 / 2520], examples_per_second: 11.1372, train_label_loss: 0.2108, \n"
     ]
    },
    {
     "name": "stdout",
     "output_type": "stream",
     "text": [
      "epoch: 9, [batch: 252 / 2520], examples_per_second: 3179.1935, train_label_loss: 0.1387, \n"
     ]
    },
    {
     "name": "stdout",
     "output_type": "stream",
     "text": [
      "epoch: 9, [batch: 504 / 2520], examples_per_second: 3200.0482, train_label_loss: 0.1638, \n"
     ]
    },
    {
     "name": "stdout",
     "output_type": "stream",
     "text": [
      "epoch: 9, [batch: 756 / 2520], examples_per_second: 3196.9735, train_label_loss: 0.2650, \n"
     ]
    },
    {
     "name": "stdout",
     "output_type": "stream",
     "text": [
      "epoch: 9, [batch: 1008 / 2520], examples_per_second: 3183.3967, train_label_loss: 0.2307, \n"
     ]
    },
    {
     "name": "stdout",
     "output_type": "stream",
     "text": [
      "epoch: 9, [batch: 1260 / 2520], examples_per_second: 3195.6799, train_label_loss: 0.2350, \n"
     ]
    },
    {
     "name": "stdout",
     "output_type": "stream",
     "text": [
      "epoch: 9, [batch: 1512 / 2520], examples_per_second: 3203.3084, train_label_loss: 0.3939, \n"
     ]
    },
    {
     "name": "stdout",
     "output_type": "stream",
     "text": [
      "epoch: 9, [batch: 1764 / 2520], examples_per_second: 3186.6104, train_label_loss: 0.5576, \n"
     ]
    },
    {
     "name": "stdout",
     "output_type": "stream",
     "text": [
      "epoch: 9, [batch: 2016 / 2520], examples_per_second: 3200.3941, train_label_loss: 0.2111, \n"
     ]
    },
    {
     "name": "stdout",
     "output_type": "stream",
     "text": [
      "epoch: 9, [batch: 2268 / 2520], examples_per_second: 3189.1909, train_label_loss: 0.4919, \n"
     ]
    },
    {
     "name": "stdout",
     "output_type": "stream",
     "text": [
      "=============================================================\n",
      "epoch: 9, source_val_acc_label: 0.6014, target_val_acc_label: 0.4880, source_val_label_loss: 1.3549, target_val_label_loss: 1.8829, \n",
      "=============================================================\n"
     ]
    },
    {
     "name": "stdout",
     "output_type": "stream",
     "text": [
      "epoch: 10, [batch: 1 / 2520], examples_per_second: 11.1320, train_label_loss: 0.5211, \n"
     ]
    },
    {
     "name": "stdout",
     "output_type": "stream",
     "text": [
      "epoch: 10, [batch: 252 / 2520], examples_per_second: 3184.6841, train_label_loss: 0.2537, \n"
     ]
    },
    {
     "name": "stdout",
     "output_type": "stream",
     "text": [
      "epoch: 10, [batch: 504 / 2520], examples_per_second: 3178.4719, train_label_loss: 0.2851, \n"
     ]
    },
    {
     "name": "stdout",
     "output_type": "stream",
     "text": [
      "epoch: 10, [batch: 756 / 2520], examples_per_second: 3180.2169, train_label_loss: 0.2240, \n"
     ]
    },
    {
     "name": "stdout",
     "output_type": "stream",
     "text": [
      "epoch: 10, [batch: 1008 / 2520], examples_per_second: 3187.9442, train_label_loss: 0.1350, \n"
     ]
    },
    {
     "name": "stdout",
     "output_type": "stream",
     "text": [
      "epoch: 10, [batch: 1260 / 2520], examples_per_second: 3178.5418, train_label_loss: 0.3721, \n"
     ]
    },
    {
     "name": "stdout",
     "output_type": "stream",
     "text": [
      "epoch: 10, [batch: 1512 / 2520], examples_per_second: 3190.7916, train_label_loss: 0.2883, \n"
     ]
    },
    {
     "name": "stdout",
     "output_type": "stream",
     "text": [
      "epoch: 10, [batch: 1764 / 2520], examples_per_second: 3200.9610, train_label_loss: 0.1625, \n"
     ]
    },
    {
     "name": "stdout",
     "output_type": "stream",
     "text": [
      "epoch: 10, [batch: 2016 / 2520], examples_per_second: 3204.9592, train_label_loss: 0.0918, \n"
     ]
    },
    {
     "name": "stdout",
     "output_type": "stream",
     "text": [
      "epoch: 10, [batch: 2268 / 2520], examples_per_second: 3207.1195, train_label_loss: 0.2513, \n"
     ]
    },
    {
     "name": "stdout",
     "output_type": "stream",
     "text": [
      "=============================================================\n",
      "epoch: 10, source_val_acc_label: 0.6023, target_val_acc_label: 0.4947, source_val_label_loss: 1.4636, target_val_label_loss: 2.0388, \n",
      "=============================================================\n"
     ]
    },
    {
     "name": "stdout",
     "output_type": "stream",
     "text": [
      "New best\n"
     ]
    },
    {
     "name": "stdout",
     "output_type": "stream",
     "text": [
      "epoch: 11, [batch: 1 / 2520], examples_per_second: 11.0542, train_label_loss: 0.1900, \n"
     ]
    },
    {
     "name": "stdout",
     "output_type": "stream",
     "text": [
      "epoch: 11, [batch: 252 / 2520], examples_per_second: 3185.7105, train_label_loss: 0.1438, \n"
     ]
    },
    {
     "name": "stdout",
     "output_type": "stream",
     "text": [
      "epoch: 11, [batch: 504 / 2520], examples_per_second: 3169.6318, train_label_loss: 0.4811, \n"
     ]
    },
    {
     "name": "stdout",
     "output_type": "stream",
     "text": [
      "epoch: 11, [batch: 756 / 2520], examples_per_second: 3181.5472, train_label_loss: 0.2903, \n"
     ]
    },
    {
     "name": "stdout",
     "output_type": "stream",
     "text": [
      "epoch: 11, [batch: 1008 / 2520], examples_per_second: 3180.1146, train_label_loss: 0.1826, \n"
     ]
    },
    {
     "name": "stdout",
     "output_type": "stream",
     "text": [
      "epoch: 11, [batch: 1260 / 2520], examples_per_second: 3184.0739, train_label_loss: 0.2145, \n"
     ]
    },
    {
     "name": "stdout",
     "output_type": "stream",
     "text": [
      "epoch: 11, [batch: 1512 / 2520], examples_per_second: 3181.9933, train_label_loss: 0.2885, \n"
     ]
    },
    {
     "name": "stdout",
     "output_type": "stream",
     "text": [
      "epoch: 11, [batch: 1764 / 2520], examples_per_second: 3177.6683, train_label_loss: 0.3969, \n"
     ]
    },
    {
     "name": "stdout",
     "output_type": "stream",
     "text": [
      "epoch: 11, [batch: 2016 / 2520], examples_per_second: 3190.3243, train_label_loss: 0.5412, \n"
     ]
    },
    {
     "name": "stdout",
     "output_type": "stream",
     "text": [
      "epoch: 11, [batch: 2268 / 2520], examples_per_second: 3185.7173, train_label_loss: 0.0965, \n"
     ]
    },
    {
     "name": "stdout",
     "output_type": "stream",
     "text": [
      "=============================================================\n",
      "epoch: 11, source_val_acc_label: 0.5987, target_val_acc_label: 0.4960, source_val_label_loss: 1.5678, target_val_label_loss: 2.1283, \n",
      "=============================================================\n"
     ]
    },
    {
     "name": "stdout",
     "output_type": "stream",
     "text": [
      "New best\n"
     ]
    },
    {
     "name": "stdout",
     "output_type": "stream",
     "text": [
      "epoch: 12, [batch: 1 / 2520], examples_per_second: 11.1512, train_label_loss: 0.3848, \n"
     ]
    },
    {
     "name": "stdout",
     "output_type": "stream",
     "text": [
      "epoch: 12, [batch: 252 / 2520], examples_per_second: 3161.8368, train_label_loss: 0.1222, \n"
     ]
    },
    {
     "name": "stdout",
     "output_type": "stream",
     "text": [
      "epoch: 12, [batch: 504 / 2520], examples_per_second: 3190.5274, train_label_loss: 0.2918, \n"
     ]
    },
    {
     "name": "stdout",
     "output_type": "stream",
     "text": [
      "epoch: 12, [batch: 756 / 2520], examples_per_second: 3191.4818, train_label_loss: 0.2675, \n"
     ]
    },
    {
     "name": "stdout",
     "output_type": "stream",
     "text": [
      "epoch: 12, [batch: 1008 / 2520], examples_per_second: 3183.3421, train_label_loss: 0.0913, \n"
     ]
    },
    {
     "name": "stdout",
     "output_type": "stream",
     "text": [
      "epoch: 12, [batch: 1260 / 2520], examples_per_second: 3185.5737, train_label_loss: 0.3139, \n"
     ]
    },
    {
     "name": "stdout",
     "output_type": "stream",
     "text": [
      "epoch: 12, [batch: 1512 / 2520], examples_per_second: 3184.9035, train_label_loss: 0.2415, \n"
     ]
    },
    {
     "name": "stdout",
     "output_type": "stream",
     "text": [
      "epoch: 12, [batch: 1764 / 2520], examples_per_second: 3179.5934, train_label_loss: 0.0489, \n"
     ]
    },
    {
     "name": "stdout",
     "output_type": "stream",
     "text": [
      "epoch: 12, [batch: 2016 / 2520], examples_per_second: 3193.7359, train_label_loss: 0.0592, \n"
     ]
    },
    {
     "name": "stdout",
     "output_type": "stream",
     "text": [
      "epoch: 12, [batch: 2268 / 2520], examples_per_second: 3187.8794, train_label_loss: 0.2046, \n"
     ]
    },
    {
     "name": "stdout",
     "output_type": "stream",
     "text": [
      "=============================================================\n",
      "epoch: 12, source_val_acc_label: 0.6006, target_val_acc_label: 0.4945, source_val_label_loss: 1.6188, target_val_label_loss: 2.2130, \n",
      "=============================================================\n"
     ]
    },
    {
     "name": "stdout",
     "output_type": "stream",
     "text": [
      "epoch: 13, [batch: 1 / 2520], examples_per_second: 11.1797, train_label_loss: 0.1051, \n"
     ]
    },
    {
     "name": "stdout",
     "output_type": "stream",
     "text": [
      "epoch: 13, [batch: 252 / 2520], examples_per_second: 3193.1546, train_label_loss: 0.0361, \n"
     ]
    },
    {
     "name": "stdout",
     "output_type": "stream",
     "text": [
      "epoch: 13, [batch: 504 / 2520], examples_per_second: 3175.8200, train_label_loss: 0.2311, \n"
     ]
    },
    {
     "name": "stdout",
     "output_type": "stream",
     "text": [
      "epoch: 13, [batch: 756 / 2520], examples_per_second: 3175.0338, train_label_loss: 0.0846, \n"
     ]
    },
    {
     "name": "stdout",
     "output_type": "stream",
     "text": [
      "epoch: 13, [batch: 1008 / 2520], examples_per_second: 3163.8149, train_label_loss: 0.0362, \n"
     ]
    },
    {
     "name": "stdout",
     "output_type": "stream",
     "text": [
      "epoch: 13, [batch: 1260 / 2520], examples_per_second: 3181.3092, train_label_loss: 0.0197, \n"
     ]
    },
    {
     "name": "stdout",
     "output_type": "stream",
     "text": [
      "epoch: 13, [batch: 1512 / 2520], examples_per_second: 3186.3629, train_label_loss: 0.0666, \n"
     ]
    },
    {
     "name": "stdout",
     "output_type": "stream",
     "text": [
      "epoch: 13, [batch: 1764 / 2520], examples_per_second: 3171.4193, train_label_loss: 0.5535, \n"
     ]
    },
    {
     "name": "stdout",
     "output_type": "stream",
     "text": [
      "epoch: 13, [batch: 2016 / 2520], examples_per_second: 3190.8532, train_label_loss: 0.1185, \n"
     ]
    },
    {
     "name": "stdout",
     "output_type": "stream",
     "text": [
      "epoch: 13, [batch: 2268 / 2520], examples_per_second: 3177.5214, train_label_loss: 0.0866, \n"
     ]
    },
    {
     "name": "stdout",
     "output_type": "stream",
     "text": [
      "=============================================================\n",
      "epoch: 13, source_val_acc_label: 0.5995, target_val_acc_label: 0.4971, source_val_label_loss: 1.6226, target_val_label_loss: 2.2401, \n",
      "=============================================================\n"
     ]
    },
    {
     "name": "stdout",
     "output_type": "stream",
     "text": [
      "New best\n"
     ]
    },
    {
     "name": "stdout",
     "output_type": "stream",
     "text": [
      "epoch: 14, [batch: 1 / 2520], examples_per_second: 11.0823, train_label_loss: 0.1888, \n"
     ]
    },
    {
     "name": "stdout",
     "output_type": "stream",
     "text": [
      "epoch: 14, [batch: 252 / 2520], examples_per_second: 3197.8061, train_label_loss: 0.1633, \n"
     ]
    },
    {
     "name": "stdout",
     "output_type": "stream",
     "text": [
      "epoch: 14, [batch: 504 / 2520], examples_per_second: 3208.9296, train_label_loss: 0.0875, \n"
     ]
    },
    {
     "name": "stdout",
     "output_type": "stream",
     "text": [
      "epoch: 14, [batch: 756 / 2520], examples_per_second: 3194.9712, train_label_loss: 0.1608, \n"
     ]
    },
    {
     "name": "stdout",
     "output_type": "stream",
     "text": [
      "epoch: 14, [batch: 1008 / 2520], examples_per_second: 3191.6280, train_label_loss: 0.1644, \n"
     ]
    },
    {
     "name": "stdout",
     "output_type": "stream",
     "text": [
      "epoch: 14, [batch: 1260 / 2520], examples_per_second: 3184.3207, train_label_loss: 0.1177, \n"
     ]
    },
    {
     "name": "stdout",
     "output_type": "stream",
     "text": [
      "epoch: 14, [batch: 1512 / 2520], examples_per_second: 3188.6559, train_label_loss: 0.2551, \n"
     ]
    },
    {
     "name": "stdout",
     "output_type": "stream",
     "text": [
      "epoch: 14, [batch: 1764 / 2520], examples_per_second: 3179.7549, train_label_loss: 0.3110, \n"
     ]
    },
    {
     "name": "stdout",
     "output_type": "stream",
     "text": [
      "epoch: 14, [batch: 2016 / 2520], examples_per_second: 3181.1891, train_label_loss: 0.0644, \n"
     ]
    },
    {
     "name": "stdout",
     "output_type": "stream",
     "text": [
      "epoch: 14, [batch: 2268 / 2520], examples_per_second: 3182.3522, train_label_loss: 0.3058, \n"
     ]
    },
    {
     "name": "stdout",
     "output_type": "stream",
     "text": [
      "=============================================================\n",
      "epoch: 14, source_val_acc_label: 0.5994, target_val_acc_label: 0.4959, source_val_label_loss: 1.7371, target_val_label_loss: 2.3470, \n",
      "=============================================================\n"
     ]
    },
    {
     "name": "stdout",
     "output_type": "stream",
     "text": [
      "epoch: 15, [batch: 1 / 2520], examples_per_second: 11.1434, train_label_loss: 0.2428, \n"
     ]
    },
    {
     "name": "stdout",
     "output_type": "stream",
     "text": [
      "epoch: 15, [batch: 252 / 2520], examples_per_second: 3172.7529, train_label_loss: 0.0482, \n"
     ]
    },
    {
     "name": "stdout",
     "output_type": "stream",
     "text": [
      "epoch: 15, [batch: 504 / 2520], examples_per_second: 3171.1321, train_label_loss: 0.0361, \n"
     ]
    },
    {
     "name": "stdout",
     "output_type": "stream",
     "text": [
      "epoch: 15, [batch: 756 / 2520], examples_per_second: 3173.2038, train_label_loss: 0.1413, \n"
     ]
    },
    {
     "name": "stdout",
     "output_type": "stream",
     "text": [
      "epoch: 15, [batch: 1008 / 2520], examples_per_second: 3158.8569, train_label_loss: 0.1621, \n"
     ]
    },
    {
     "name": "stdout",
     "output_type": "stream",
     "text": [
      "epoch: 15, [batch: 1260 / 2520], examples_per_second: 3189.3216, train_label_loss: 0.1321, \n"
     ]
    },
    {
     "name": "stdout",
     "output_type": "stream",
     "text": [
      "epoch: 15, [batch: 1512 / 2520], examples_per_second: 3190.9779, train_label_loss: 0.1999, \n"
     ]
    },
    {
     "name": "stdout",
     "output_type": "stream",
     "text": [
      "epoch: 15, [batch: 1764 / 2520], examples_per_second: 3177.9295, train_label_loss: 0.1626, \n"
     ]
    },
    {
     "name": "stdout",
     "output_type": "stream",
     "text": [
      "epoch: 15, [batch: 2016 / 2520], examples_per_second: 3181.9797, train_label_loss: 0.1976, \n"
     ]
    },
    {
     "name": "stdout",
     "output_type": "stream",
     "text": [
      "epoch: 15, [batch: 2268 / 2520], examples_per_second: 3183.3265, train_label_loss: 0.2998, \n"
     ]
    },
    {
     "name": "stdout",
     "output_type": "stream",
     "text": [
      "=============================================================\n",
      "epoch: 15, source_val_acc_label: 0.6003, target_val_acc_label: 0.4953, source_val_label_loss: 1.7483, target_val_label_loss: 2.3252, \n",
      "=============================================================\n"
     ]
    },
    {
     "name": "stdout",
     "output_type": "stream",
     "text": [
      "epoch: 16, [batch: 1 / 2520], examples_per_second: 11.1411, train_label_loss: 0.1031, \n"
     ]
    },
    {
     "name": "stdout",
     "output_type": "stream",
     "text": [
      "epoch: 16, [batch: 252 / 2520], examples_per_second: 3181.9975, train_label_loss: 0.1941, \n"
     ]
    },
    {
     "name": "stdout",
     "output_type": "stream",
     "text": [
      "epoch: 16, [batch: 504 / 2520], examples_per_second: 3178.0438, train_label_loss: 0.0402, \n"
     ]
    },
    {
     "name": "stdout",
     "output_type": "stream",
     "text": [
      "epoch: 16, [batch: 756 / 2520], examples_per_second: 3167.2850, train_label_loss: 0.1032, \n"
     ]
    },
    {
     "name": "stdout",
     "output_type": "stream",
     "text": [
      "epoch: 16, [batch: 1008 / 2520], examples_per_second: 3166.7805, train_label_loss: 0.0719, \n"
     ]
    },
    {
     "name": "stdout",
     "output_type": "stream",
     "text": [
      "epoch: 16, [batch: 1260 / 2520], examples_per_second: 3208.8806, train_label_loss: 0.0486, \n"
     ]
    },
    {
     "name": "stdout",
     "output_type": "stream",
     "text": [
      "epoch: 16, [batch: 1512 / 2520], examples_per_second: 3186.8527, train_label_loss: 0.1077, \n"
     ]
    },
    {
     "name": "stdout",
     "output_type": "stream",
     "text": [
      "epoch: 16, [batch: 1764 / 2520], examples_per_second: 3185.1196, train_label_loss: 0.0185, \n"
     ]
    },
    {
     "name": "stdout",
     "output_type": "stream",
     "text": [
      "epoch: 16, [batch: 2016 / 2520], examples_per_second: 3170.2290, train_label_loss: 0.1129, \n"
     ]
    },
    {
     "name": "stdout",
     "output_type": "stream",
     "text": [
      "epoch: 16, [batch: 2268 / 2520], examples_per_second: 3177.5951, train_label_loss: 0.2039, \n"
     ]
    },
    {
     "name": "stdout",
     "output_type": "stream",
     "text": [
      "=============================================================\n",
      "epoch: 16, source_val_acc_label: 0.6015, target_val_acc_label: 0.4939, source_val_label_loss: 1.8071, target_val_label_loss: 2.4666, \n",
      "=============================================================\n"
     ]
    },
    {
     "name": "stdout",
     "output_type": "stream",
     "text": [
      "epoch: 17, [batch: 1 / 2520], examples_per_second: 11.0686, train_label_loss: 0.0521, \n"
     ]
    },
    {
     "name": "stdout",
     "output_type": "stream",
     "text": [
      "epoch: 17, [batch: 252 / 2520], examples_per_second: 3180.3943, train_label_loss: 0.0283, \n"
     ]
    },
    {
     "name": "stdout",
     "output_type": "stream",
     "text": [
      "epoch: 17, [batch: 504 / 2520], examples_per_second: 3181.7295, train_label_loss: 0.1572, \n"
     ]
    },
    {
     "name": "stdout",
     "output_type": "stream",
     "text": [
      "epoch: 17, [batch: 756 / 2520], examples_per_second: 3202.1989, train_label_loss: 0.0757, \n"
     ]
    },
    {
     "name": "stdout",
     "output_type": "stream",
     "text": [
      "epoch: 17, [batch: 1008 / 2520], examples_per_second: 3186.6277, train_label_loss: 0.2335, \n"
     ]
    },
    {
     "name": "stdout",
     "output_type": "stream",
     "text": [
      "epoch: 17, [batch: 1260 / 2520], examples_per_second: 3187.8906, train_label_loss: 0.1748, \n"
     ]
    },
    {
     "name": "stdout",
     "output_type": "stream",
     "text": [
      "epoch: 17, [batch: 1512 / 2520], examples_per_second: 3209.8701, train_label_loss: 0.4812, \n"
     ]
    },
    {
     "name": "stdout",
     "output_type": "stream",
     "text": [
      "epoch: 17, [batch: 1764 / 2520], examples_per_second: 3191.4982, train_label_loss: 0.0696, \n"
     ]
    },
    {
     "name": "stdout",
     "output_type": "stream",
     "text": [
      "epoch: 17, [batch: 2016 / 2520], examples_per_second: 3188.1670, train_label_loss: 0.0355, \n"
     ]
    },
    {
     "name": "stdout",
     "output_type": "stream",
     "text": [
      "epoch: 17, [batch: 2268 / 2520], examples_per_second: 3191.1867, train_label_loss: 0.3628, \n"
     ]
    },
    {
     "name": "stdout",
     "output_type": "stream",
     "text": [
      "=============================================================\n",
      "epoch: 17, source_val_acc_label: 0.5970, target_val_acc_label: 0.4913, source_val_label_loss: 1.8606, target_val_label_loss: 2.5442, \n",
      "=============================================================\n"
     ]
    },
    {
     "name": "stdout",
     "output_type": "stream",
     "text": [
      "Patience (3) exhausted\n"
     ]
    }
   ],
   "source": [
    "###################################\n",
    "# train\n",
    "###################################\n",
    "jig = PTN_Train_Eval_Test_Jig(model, p.BEST_MODEL_PATH, p.device)\n",
    "\n",
    "jig.train(\n",
    "    train_iterable=datasets.source.processed.train,\n",
    "    source_val_iterable=datasets.source.processed.val,\n",
    "    target_val_iterable=datasets.target.processed.val,\n",
    "    num_epochs=p.n_epoch,\n",
    "    num_logs_per_epoch=p.NUM_LOGS_PER_EPOCH,\n",
    "    patience=p.patience,\n",
    "    optimizer=optimizer,\n",
    "    criteria_for_best=p.criteria_for_best,\n",
    ")"
   ]
  },
  {
   "cell_type": "code",
   "execution_count": 14,
   "id": "31e8fabf",
   "metadata": {
    "execution": {
     "iopub.execute_input": "2022-04-01T16:36:40.249685Z",
     "iopub.status.busy": "2022-04-01T16:36:40.249438Z",
     "iopub.status.idle": "2022-04-01T16:36:40.266731Z",
     "shell.execute_reply": "2022-04-01T16:36:40.266341Z"
    },
    "papermill": {
     "duration": 0.065242,
     "end_time": "2022-04-01T16:36:40.266828",
     "exception": false,
     "start_time": "2022-04-01T16:36:40.201586",
     "status": "completed"
    },
    "tags": []
   },
   "outputs": [],
   "source": [
    "total_experiment_time_secs = time.time() - start_time_secs"
   ]
  },
  {
   "cell_type": "code",
   "execution_count": 15,
   "id": "87b9595b",
   "metadata": {
    "execution": {
     "iopub.execute_input": "2022-04-01T16:36:40.367395Z",
     "iopub.status.busy": "2022-04-01T16:36:40.363132Z",
     "iopub.status.idle": "2022-04-01T16:37:29.040257Z",
     "shell.execute_reply": "2022-04-01T16:37:29.040684Z"
    },
    "papermill": {
     "duration": 48.724824,
     "end_time": "2022-04-01T16:37:29.040825",
     "exception": false,
     "start_time": "2022-04-01T16:36:40.316001",
     "status": "completed"
    },
    "tags": []
   },
   "outputs": [],
   "source": [
    "###################################\n",
    "# Evaluate the model\n",
    "###################################\n",
    "source_test_label_accuracy, source_test_label_loss = jig.test(datasets.source.processed.test)\n",
    "target_test_label_accuracy, target_test_label_loss = jig.test(datasets.target.processed.test)\n",
    "\n",
    "source_val_label_accuracy, source_val_label_loss = jig.test(datasets.source.processed.val)\n",
    "target_val_label_accuracy, target_val_label_loss = jig.test(datasets.target.processed.val)\n",
    "\n",
    "history = jig.get_history()\n",
    "\n",
    "total_epochs_trained = len(history[\"epoch_indices\"])\n",
    "\n",
    "val_dl = Iterable_Aggregator((datasets.source.original.val,datasets.target.original.val))\n",
    "\n",
    "confusion = ptn_confusion_by_domain_over_dataloader(model, p.device, val_dl)\n",
    "per_domain_accuracy = per_domain_accuracy_from_confusion(confusion)\n",
    "\n",
    "# Add a key to per_domain_accuracy for if it was a source domain\n",
    "for domain, accuracy in per_domain_accuracy.items():\n",
    "    per_domain_accuracy[domain] = {\n",
    "        \"accuracy\": accuracy,\n",
    "        \"source?\": domain in p.domains_source\n",
    "    }\n",
    "\n",
    "# Do an independent accuracy assesment JUST TO BE SURE!\n",
    "# _source_test_label_accuracy = independent_accuracy_assesment(model, datasets.source.processed.test, p.device)\n",
    "# _target_test_label_accuracy = independent_accuracy_assesment(model, datasets.target.processed.test, p.device)\n",
    "# _source_val_label_accuracy = independent_accuracy_assesment(model, datasets.source.processed.val, p.device)\n",
    "# _target_val_label_accuracy = independent_accuracy_assesment(model, datasets.target.processed.val, p.device)\n",
    "\n",
    "# assert(_source_test_label_accuracy == source_test_label_accuracy)\n",
    "# assert(_target_test_label_accuracy == target_test_label_accuracy)\n",
    "# assert(_source_val_label_accuracy == source_val_label_accuracy)\n",
    "# assert(_target_val_label_accuracy == target_val_label_accuracy)\n",
    "\n",
    "experiment = {\n",
    "    \"experiment_name\": p.experiment_name,\n",
    "    \"parameters\": dict(p),\n",
    "    \"results\": {\n",
    "        \"source_test_label_accuracy\": source_test_label_accuracy,\n",
    "        \"source_test_label_loss\": source_test_label_loss,\n",
    "        \"target_test_label_accuracy\": target_test_label_accuracy,\n",
    "        \"target_test_label_loss\": target_test_label_loss,\n",
    "        \"source_val_label_accuracy\": source_val_label_accuracy,\n",
    "        \"source_val_label_loss\": source_val_label_loss,\n",
    "        \"target_val_label_accuracy\": target_val_label_accuracy,\n",
    "        \"target_val_label_loss\": target_val_label_loss,\n",
    "        \"total_epochs_trained\": total_epochs_trained,\n",
    "        \"total_experiment_time_secs\": total_experiment_time_secs,\n",
    "        \"confusion\": confusion,\n",
    "        \"per_domain_accuracy\": per_domain_accuracy,\n",
    "    },\n",
    "    \"history\": history,\n",
    "    \"dataset_metrics\": get_dataset_metrics(datasets, \"ptn\"),\n",
    "}"
   ]
  },
  {
   "cell_type": "code",
   "execution_count": 16,
   "id": "54a21829",
   "metadata": {
    "execution": {
     "iopub.execute_input": "2022-04-01T16:37:29.164659Z",
     "iopub.status.busy": "2022-04-01T16:37:29.164402Z",
     "iopub.status.idle": "2022-04-01T16:37:29.293751Z",
     "shell.execute_reply": "2022-04-01T16:37:29.294137Z"
    },
    "papermill": {
     "duration": 0.177746,
     "end_time": "2022-04-01T16:37:29.294249",
     "exception": false,
     "start_time": "2022-04-01T16:37:29.116503",
     "status": "completed"
    },
    "tags": []
   },
   "outputs": [
    {
     "data": {
      "image/png": "[encoded data removed]",
      "text/plain": [
       "<Figure size 1080x504 with 1 Axes>"
      ]
     },
     "metadata": {
      "needs_background": "light"
     },
     "output_type": "display_data"
    }
   ],
   "source": [
    "ax = get_loss_curve(experiment)\n",
    "plt.show()"
   ]
  },
  {
   "cell_type": "code",
   "execution_count": 17,
   "id": "fd8a0f60",
   "metadata": {
    "execution": {
     "iopub.execute_input": "2022-04-01T16:37:29.397621Z",
     "iopub.status.busy": "2022-04-01T16:37:29.397368Z",
     "iopub.status.idle": "2022-04-01T16:37:29.542399Z",
     "shell.execute_reply": "2022-04-01T16:37:29.542160Z"
    },
    "papermill": {
     "duration": 0.195047,
     "end_time": "2022-04-01T16:37:29.542451",
     "exception": false,
     "start_time": "2022-04-01T16:37:29.347404",
     "status": "completed"
    },
    "tags": []
   },
   "outputs": [
    {
     "data": {
      "text/plain": [
       "<AxesSubplot:title={'center':'Results'}>"
      ]
     },
     "execution_count": 17,
     "metadata": {},
     "output_type": "execute_result"
    },
    {
     "data": {
      "image/png": "[encoded data removed]",
      "text/plain": [
       "<Figure size 1080x504 with 1 Axes>"
      ]
     },
     "metadata": {
      "needs_background": "light"
     },
     "output_type": "display_data"
    }
   ],
   "source": [
    "get_results_table(experiment)"
   ]
  },
  {
   "cell_type": "code",
   "execution_count": 18,
   "id": "cf8dc689",
   "metadata": {
    "execution": {
     "iopub.execute_input": "2022-04-01T16:37:29.642321Z",
     "iopub.status.busy": "2022-04-01T16:37:29.642067Z",
     "iopub.status.idle": "2022-04-01T16:37:29.759791Z",
     "shell.execute_reply": "2022-04-01T16:37:29.759335Z"
    },
    "papermill": {
     "duration": 0.167891,
     "end_time": "2022-04-01T16:37:29.759880",
     "exception": false,
     "start_time": "2022-04-01T16:37:29.591989",
     "status": "completed"
    },
    "tags": []
   },
   "outputs": [
    {
     "data": {
      "text/plain": [
       "<AxesSubplot:title={'center':'Per Domain Validation Accuracy'}, xlabel='domain'>"
      ]
     },
     "execution_count": 18,
     "metadata": {},
     "output_type": "execute_result"
    },
    {
     "data": {
      "image/png": "[encoded data removed]",
      "text/plain": [
       "<Figure size 1080x504 with 1 Axes>"
      ]
     },
     "metadata": {
      "needs_background": "light"
     },
     "output_type": "display_data"
    }
   ],
   "source": [
    "get_domain_accuracies(experiment)"
   ]
  },
  {
   "cell_type": "code",
   "execution_count": 19,
   "id": "a74ae082",
   "metadata": {
    "execution": {
     "iopub.execute_input": "2022-04-01T16:37:29.868309Z",
     "iopub.status.busy": "2022-04-01T16:37:29.868053Z",
     "iopub.status.idle": "2022-04-01T16:37:29.883494Z",
     "shell.execute_reply": "2022-04-01T16:37:29.883128Z"
    },
    "papermill": {
     "duration": 0.067288,
     "end_time": "2022-04-01T16:37:29.883584",
     "exception": false,
     "start_time": "2022-04-01T16:37:29.816296",
     "status": "completed"
    },
    "tags": []
   },
   "outputs": [
    {
     "name": "stdout",
     "output_type": "stream",
     "text": [
      "Source Test Label Accuracy: 0.5949652777777777 Target Test Label Accuracy: 0.48864583333333333\n",
      "Source Val Label Accuracy: 0.5994791666666667 Target Val Label Accuracy: 0.4970833333333333\n"
     ]
    }
   ],
   "source": [
    "print(\"Source Test Label Accuracy:\", experiment[\"results\"][\"source_test_label_accuracy\"], \"Target Test Label Accuracy:\", experiment[\"results\"][\"target_test_label_accuracy\"])\n",
    "print(\"Source Val Label Accuracy:\", experiment[\"results\"][\"source_val_label_accuracy\"], \"Target Val Label Accuracy:\", experiment[\"results\"][\"target_val_label_accuracy\"])"
   ]
  },
  {
   "cell_type": "code",
   "execution_count": 20,
   "id": "dacca602",
   "metadata": {
    "execution": {
     "iopub.execute_input": "2022-04-01T16:37:29.990549Z",
     "iopub.status.busy": "2022-04-01T16:37:29.990297Z",
     "iopub.status.idle": "2022-04-01T16:37:30.006331Z",
     "shell.execute_reply": "2022-04-01T16:37:30.005876Z"
    },
    "papermill": {
     "duration": 0.067686,
     "end_time": "2022-04-01T16:37:30.006421",
     "exception": false,
     "start_time": "2022-04-01T16:37:29.938735",
     "status": "completed"
    },
    "tags": [
     "experiment_json"
    ]
   },
   "outputs": [
    {
     "data": {
      "text/plain": [
       "'{\"experiment_name\": \"tuned_1v2:oracle.run2_limited\", \"parameters\": {\"experiment_name\": \"tuned_1v2:oracle.run2_limited\", \"device\": \"cuda\", \"lr\": 0.0001, \"labels_source\": [\"3123D52\", \"3123D65\", \"3123D79\", \"3123D80\", \"3123D54\", \"3123D70\", \"3123D7B\", \"3123D89\", \"3123D58\", \"3123D76\", \"3123D7D\", \"3123EFE\", \"3123D64\", \"3123D78\", \"3123D7E\", \"3124E4A\"], \"labels_target\": [\"3123D52\", \"3123D65\", \"3123D79\", \"3123D80\", \"3123D54\", \"3123D70\", \"3123D7B\", \"3123D89\", \"3123D58\", \"3123D76\", \"3123D7D\", \"3123EFE\", \"3123D64\", \"3123D78\", \"3123D7E\", \"3124E4A\"], \"episode_transforms_source\": [], \"episode_transforms_target\": [], \"domains_source\": [8, 32, 50], \"domains_target\": [14, 20, 26, 38, 44], \"num_examples_per_domain_per_label_source\": 2000, \"num_examples_per_domain_per_label_target\": 2000, \"n_shot\": 3, \"n_way\": 16, \"n_query\": 2, \"train_k_factor\": 3, \"val_k_factor\": 2, \"test_k_factor\": 2, \"torch_default_dtype\": \"torch.float32\", \"n_epoch\": 50, \"patience\": 3, \"criteria_for_best\": \"target_accuracy\", \"x_net\": [{\"class\": \"nnReshape\", \"kargs\": {\"shape\": [-1, 1, 2, 256]}}, {\"class\": \"Conv2d\", \"kargs\": {\"in_channels\": 1, \"out_channels\": 256, \"kernel_size\": [1, 7], \"bias\": false, \"padding\": [0, 3]}}, {\"class\": \"ReLU\", \"kargs\": {\"inplace\": true}}, {\"class\": \"BatchNorm2d\", \"kargs\": {\"num_features\": 256}}, {\"class\": \"Conv2d\", \"kargs\": {\"in_channels\": 256, \"out_channels\": 80, \"kernel_size\": [2, 7], \"bias\": true, \"padding\": [0, 3]}}, {\"class\": \"ReLU\", \"kargs\": {\"inplace\": true}}, {\"class\": \"BatchNorm2d\", \"kargs\": {\"num_features\": 80}}, {\"class\": \"Flatten\", \"kargs\": {}}, {\"class\": \"Linear\", \"kargs\": {\"in_features\": 20480, \"out_features\": 256}}, {\"class\": \"ReLU\", \"kargs\": {\"inplace\": true}}, {\"class\": \"BatchNorm1d\", \"kargs\": {\"num_features\": 256}}, {\"class\": \"Linear\", \"kargs\": {\"in_features\": 256, \"out_features\": 256}}], \"NUM_LOGS_PER_EPOCH\": 10, \"BEST_MODEL_PATH\": \"./best_model.pth\", \"pickle_name\": \"oracle.Run2_10kExamples_stratified_ds.2022A.pkl\", \"x_transforms_source\": [\"unit_mag\"], \"x_transforms_target\": [\"unit_mag\"], \"dataset_seed\": 500, \"seed\": 500}, \"results\": {\"source_test_label_accuracy\": 0.5949652777777777, \"source_test_label_loss\": 1.6867738962173462, \"target_test_label_accuracy\": 0.48864583333333333, \"target_test_label_loss\": 2.2742016315460205, \"source_val_label_accuracy\": 0.5994791666666667, \"source_val_label_loss\": 1.6225717067718506, \"target_val_label_accuracy\": 0.4970833333333333, \"target_val_label_loss\": 2.240088701248169, \"total_epochs_trained\": 17, \"total_experiment_time_secs\": 1232.865852355957, \"confusion\": {\"8\": {\"7\": {\"6\": 42, \"2\": 61, \"7\": 69, \"4\": 49, \"14\": 3, \"8\": 10, \"15\": 3, \"13\": 1, \"0\": 1, \"11\": 1}, \"10\": {\"0\": 60, \"13\": 19, \"10\": 96, \"5\": 31, \"1\": 20, \"14\": 14}, \"0\": {\"4\": 3, \"0\": 74, \"10\": 45, \"5\": 5, \"14\": 63, \"13\": 38, \"6\": 6, \"1\": 4, \"7\": 1, \"2\": 1}, \"11\": {\"15\": 58, \"8\": 51, \"11\": 85, \"7\": 4, \"3\": 1, \"2\": 4, \"12\": 28, \"4\": 2, \"6\": 4, \"14\": 1, \"13\": 2}, \"2\": {\"2\": 128, \"6\": 17, \"4\": 35, \"7\": 52, \"15\": 6, \"8\": 1, \"3\": 1}, \"14\": {\"7\": 1, \"14\": 87, \"0\": 64, \"6\": 16, \"13\": 47, \"1\": 3, \"10\": 15, \"4\": 6, \"8\": 1}, \"9\": {\"9\": 236, \"5\": 4}, \"13\": {\"13\": 86, \"0\": 28, \"1\": 44, \"14\": 48, \"6\": 11, \"5\": 2, \"10\": 20, \"4\": 1}, \"8\": {\"2\": 9, \"7\": 17, \"8\": 133, \"11\": 33, \"6\": 13, \"15\": 19, \"14\": 5, \"4\": 7, \"13\": 3, \"0\": 1}, \"15\": {\"11\": 47, \"15\": 102, \"12\": 40, \"3\": 16, \"7\": 3, \"8\": 24, \"2\": 8}, \"4\": {\"4\": 73, \"2\": 29, \"6\": 63, \"7\": 51, \"14\": 12, \"8\": 7, \"0\": 2, \"15\": 2, \"13\": 1}, \"5\": {\"1\": 44, \"10\": 41, \"5\": 145, \"13\": 3, \"14\": 1, \"9\": 2, \"0\": 4}, \"3\": {\"3\": 171, \"12\": 58, \"15\": 9, \"2\": 2}, \"1\": {\"1\": 143, \"5\": 29, \"13\": 37, \"0\": 4, \"10\": 23, \"14\": 4}, \"6\": {\"6\": 79, \"7\": 35, \"4\": 68, \"2\": 11, \"14\": 24, \"11\": 1, \"13\": 7, \"8\": 11, \"0\": 3, \"10\": 1}, \"12\": {\"12\": 125, \"3\": 61, \"11\": 11, \"15\": 43}}, \"50\": {\"11\": {\"11\": 187, \"14\": 25, \"9\": 7, \"15\": 15, \"12\": 6}, \"2\": {\"2\": 212, \"1\": 3, \"0\": 24, \"6\": 1}, \"12\": {\"12\": 194, \"11\": 4, \"9\": 31, \"14\": 11}, \"8\": {\"8\": 232, \"3\": 7, \"10\": 1}, \"4\": {\"4\": 101, \"6\": 54, \"5\": 63, \"10\": 5, \"0\": 4, \"1\": 11, \"7\": 1, \"13\": 1}, \"10\": {\"0\": 18, \"10\": 137, \"7\": 34, \"5\": 17, \"13\": 32, \"4\": 2}, \"14\": {\"14\": 221, \"11\": 6, \"12\": 12, \"15\": 1}, \"13\": {\"7\": 79, \"13\": 87, \"10\": 51, \"5\": 19, \"0\": 1, \"4\": 3}, \"6\": {\"6\": 105, \"1\": 72, \"4\": 48, \"5\": 8, \"15\": 4, \"2\": 1, \"0\": 2}, \"9\": {\"9\": 200, \"12\": 34, \"11\": 6}, \"15\": {\"1\": 21, \"11\": 19, \"15\": 189, \"14\": 8, \"6\": 3}, \"1\": {\"15\": 21, \"1\": 134, \"6\": 67, \"4\": 14, \"5\": 1, \"2\": 3}, \"3\": {\"3\": 219, \"8\": 21}, \"7\": {\"13\": 98, \"10\": 45, \"7\": 78, \"5\": 16, \"0\": 3}, \"0\": {\"0\": 190, \"10\": 13, \"5\": 4, \"2\": 28, \"4\": 1, \"7\": 2, \"6\": 2}, \"5\": {\"6\": 14, \"4\": 53, \"13\": 14, \"0\": 23, \"5\": 109, \"10\": 14, \"7\": 10, \"2\": 2, \"1\": 1}}, \"32\": {\"4\": {\"13\": 26, \"5\": 28, \"8\": 31, \"0\": 50, \"4\": 49, \"7\": 20, \"2\": 5, \"14\": 2, \"11\": 28, \"3\": 1}, \"14\": {\"2\": 39, \"14\": 188, \"5\": 7, \"0\": 4, \"9\": 1, \"11\": 1}, \"5\": {\"5\": 65, \"8\": 29, \"11\": 17, \"13\": 15, \"0\": 31, \"4\": 21, \"14\": 22, \"7\": 6, \"2\": 30, \"3\": 3, \"15\": 1}, \"10\": {\"10\": 236, \"1\": 4}, \"13\": {\"7\": 42, \"13\": 76, \"4\": 29, \"3\": 9, \"5\": 9, \"11\": 33, \"0\": 7, \"8\": 33, \"2\": 2}, \"9\": {\"9\": 222, \"14\": 15, \"12\": 3}, \"6\": {\"6\": 240}, \"3\": {\"3\": 210, \"13\": 10, \"7\": 11, \"8\": 9}, \"15\": {\"15\": 229, \"8\": 10, \"5\": 1}, \"7\": {\"7\": 91, \"0\": 13, \"8\": 1, \"11\": 74, \"2\": 5, \"13\": 41, \"4\": 11, \"3\": 1, \"5\": 3}, \"12\": {\"12\": 239, \"9\": 1}, \"8\": {\"5\": 21, \"7\": 3, \"8\": 118, \"4\": 32, \"0\": 14, \"11\": 3, \"15\": 8, \"3\": 9, \"13\": 32}, \"11\": {\"0\": 26, \"13\": 21, \"11\": 83, \"4\": 25, \"7\": 65, \"8\": 3, \"2\": 12, \"5\": 5}, \"2\": {\"2\": 142, \"14\": 37, \"5\": 13, \"11\": 18, \"0\": 21, \"13\": 1, \"4\": 5, \"8\": 1, \"7\": 2}, \"1\": {\"1\": 237, \"10\": 3}, \"0\": {\"4\": 44, \"13\": 18, \"2\": 29, \"8\": 14, \"0\": 54, \"7\": 17, \"11\": 22, \"5\": 41, \"14\": 1}}, \"20\": {\"7\": {\"6\": 23, \"7\": 103, \"8\": 33, \"3\": 26, \"11\": 9, \"10\": 21, \"14\": 5, \"2\": 10, \"9\": 3, \"5\": 7}, \"10\": {\"14\": 48, \"4\": 13, \"3\": 8, \"10\": 74, \"8\": 52, \"2\": 1, \"6\": 7, \"5\": 7, \"9\": 4, \"7\": 26}, \"0\": {\"2\": 8, \"12\": 33, \"13\": 8, \"9\": 9, \"0\": 63, \"1\": 64, \"15\": 16, \"4\": 28, \"5\": 7, \"10\": 1, \"3\": 2, \"7\": 1}, \"11\": {\"11\": 228, \"8\": 1, \"7\": 4, \"6\": 3, \"2\": 4}, \"2\": {\"3\": 44, \"5\": 26, \"13\": 23, \"15\": 19, \"11\": 3, \"12\": 16, \"9\": 30, \"7\": 12, \"2\": 32, \"1\": 6, \"0\": 4, \"10\": 3, \"4\": 20, \"8\": 2}, \"14\": {\"8\": 39, \"6\": 45, \"14\": 89, \"7\": 12, \"10\": 51, \"11\": 1, \"5\": 1, \"4\": 1, \"9\": 1}, \"9\": {\"9\": 39, \"0\": 9, \"1\": 13, \"5\": 26, \"13\": 27, \"3\": 24, \"15\": 32, \"2\": 37, \"12\": 18, \"4\": 8, \"7\": 5, \"8\": 2}, \"13\": {\"13\": 85, \"12\": 22, \"9\": 14, \"2\": 28, \"1\": 10, \"5\": 12, \"15\": 45, \"3\": 12, \"7\": 1, \"0\": 9, \"11\": 1, \"4\": 1}, \"8\": {\"10\": 54, \"9\": 3, \"14\": 40, \"8\": 59, \"7\": 39, \"6\": 11, \"5\": 6, \"3\": 16, \"4\": 7, \"2\": 4, \"15\": 1}, \"15\": {\"1\": 17, \"3\": 15, \"13\": 38, \"5\": 17, \"15\": 37, \"4\": 5, \"2\": 28, \"12\": 27, \"0\": 24, \"9\": 26, \"7\": 4, \"10\": 1, \"14\": 1}, \"4\": {\"8\": 10, \"4\": 113, \"10\": 13, \"0\": 19, \"9\": 12, \"15\": 5, \"5\": 17, \"2\": 4, \"12\": 22, \"1\": 13, \"7\": 1, \"3\": 9, \"14\": 2}, \"5\": {\"7\": 16, \"3\": 29, \"9\": 29, \"13\": 21, \"12\": 16, \"2\": 25, \"10\": 10, \"5\": 20, \"4\": 23, \"1\": 10, \"15\": 13, \"0\": 21, \"8\": 7}, \"3\": {\"9\": 27, \"5\": 34, \"3\": 49, \"13\": 12, \"7\": 26, \"4\": 11, \"10\": 8, \"15\": 11, \"8\": 17, \"2\": 34, \"12\": 6, \"11\": 2, \"0\": 3}, \"1\": {\"15\": 24, \"0\": 47, \"13\": 18, \"1\": 78, \"4\": 19, \"12\": 32, \"3\": 1, \"5\": 5, \"2\": 5, \"9\": 11}, \"6\": {\"14\": 29, \"6\": 168, \"10\": 8, \"7\": 18, \"8\": 8, \"11\": 9}, \"12\": {\"15\": 31, \"2\": 7, \"0\": 34, \"3\": 5, \"4\": 31, \"13\": 23, \"1\": 37, \"5\": 22, \"9\": 19, \"12\": 30, \"10\": 1}}, \"14\": {\"14\": {\"3\": 33, \"14\": 85, \"2\": 21, \"4\": 16, \"6\": 63, \"5\": 11, \"13\": 7, \"0\": 2, \"1\": 2}, \"6\": {\"2\": 29, \"6\": 101, \"13\": 47, \"4\": 10, \"14\": 36, \"5\": 10, \"3\": 6, \"1\": 1}, \"5\": {\"4\": 51, \"1\": 53, \"5\": 78, \"14\": 7, \"2\": 18, \"3\": 26, \"6\": 5, \"13\": 1, \"8\": 1}, \"15\": {\"15\": 186, \"7\": 51, \"13\": 3}, \"11\": {\"11\": 200, \"10\": 12, \"9\": 14, \"12\": 14}, \"8\": {\"8\": 232, \"9\": 1, \"1\": 1, \"3\": 6}, \"12\": {\"12\": 140, \"11\": 61, \"10\": 9, \"9\": 14, \"6\": 1, \"0\": 10, \"8\": 4, \"3\": 1}, \"1\": {\"2\": 10, \"1\": 160, \"4\": 33, \"5\": 29, \"7\": 1, \"3\": 5, \"6\": 2}, \"2\": {\"2\": 54, \"13\": 44, \"3\": 20, \"5\": 29, \"14\": 38, \"4\": 22, \"6\": 24, \"15\": 3, \"7\": 1, \"1\": 3, \"0\": 2}, \"13\": {\"13\": 140, \"6\": 58, \"5\": 4, \"2\": 31, \"14\": 6, \"4\": 1}, \"3\": {\"4\": 36, \"3\": 134, \"14\": 26, \"5\": 16, \"0\": 7, \"8\": 11, \"2\": 3, \"1\": 4, \"6\": 3}, \"0\": {\"0\": 205, \"14\": 5, \"3\": 4, \"10\": 20, \"9\": 6}, \"9\": {\"9\": 226, \"0\": 7, \"12\": 4, \"11\": 3}, \"4\": {\"2\": 16, \"4\": 81, \"3\": 31, \"5\": 61, \"1\": 33, \"14\": 15, \"6\": 3}, \"7\": {\"7\": 199, \"15\": 39, \"1\": 2}, \"10\": {\"0\": 47, \"10\": 167, \"11\": 22, \"12\": 1, \"9\": 3}}, \"38\": {\"4\": {\"4\": 218, \"12\": 17, \"10\": 4, \"7\": 1}, \"14\": {\"14\": 119, \"2\": 57, \"12\": 21, \"11\": 30, \"13\": 5, \"7\": 2, \"5\": 5, \"8\": 1}, \"5\": {\"3\": 8, \"5\": 69, \"15\": 32, \"8\": 43, \"7\": 31, \"13\": 38, \"10\": 10, \"1\": 9}, \"10\": {\"10\": 104, \"0\": 6, \"8\": 15, \"7\": 80, \"3\": 15, \"15\": 4, \"5\": 13, \"4\": 1, \"13\": 2}, \"13\": {\"15\": 54, \"3\": 15, \"13\": 53, \"1\": 27, \"5\": 35, \"8\": 25, \"2\": 3, \"6\": 5, \"7\": 9, \"14\": 4, \"10\": 9, \"0\": 1}, \"9\": {\"9\": 131, \"6\": 98, \"3\": 11}, \"6\": {\"6\": 154, \"9\": 77, \"3\": 8, \"0\": 1}, \"3\": {\"0\": 56, \"6\": 31, \"1\": 1, \"3\": 57, \"8\": 17, \"13\": 7, \"15\": 7, \"10\": 10, \"7\": 13, \"5\": 10, \"9\": 31}, \"15\": {\"8\": 36, \"3\": 26, \"13\": 39, \"15\": 57, \"7\": 7, \"1\": 36, \"5\": 30, \"6\": 4, \"9\": 1, \"10\": 4}, \"7\": {\"10\": 69, \"5\": 32, \"7\": 87, \"8\": 30, \"3\": 9, \"15\": 8, \"13\": 4, \"0\": 1}, \"12\": {\"12\": 219, \"13\": 1, \"14\": 11, \"4\": 7, \"11\": 1, \"10\": 1}, \"8\": {\"8\": 65, \"5\": 51, \"15\": 35, \"13\": 32, \"3\": 7, \"10\": 17, \"7\": 27, \"1\": 5, \"6\": 1}, \"11\": {\"2\": 7, \"11\": 185, \"14\": 33, \"12\": 15}, \"2\": {\"2\": 188, \"14\": 51, \"11\": 1}, \"1\": {\"1\": 175, \"15\": 27, \"8\": 3, \"13\": 27, \"5\": 6, \"3\": 2}, \"0\": {\"10\": 2, \"0\": 163, \"9\": 14, \"3\": 50, \"15\": 2, \"6\": 6, \"5\": 2, \"8\": 1}}, \"44\": {\"8\": {\"0\": 98, \"8\": 128, \"5\": 11, \"15\": 2, \"14\": 1}, \"11\": {\"11\": 198, \"6\": 37, \"7\": 3, \"2\": 1, \"9\": 1}, \"14\": {\"15\": 46, \"14\": 153, \"4\": 14, \"5\": 27}, \"10\": {\"12\": 15, \"10\": 220, \"1\": 5}, \"3\": {\"3\": 198, \"12\": 15, \"1\": 22, \"7\": 1, \"9\": 3, \"2\": 1}, \"15\": {\"14\": 36, \"8\": 5, \"4\": 14, \"15\": 179, \"5\": 5, \"0\": 1}, \"2\": {\"7\": 50, \"9\": 77, \"2\": 102, \"3\": 6, \"1\": 3, \"12\": 1, \"6\": 1}, \"12\": {\"1\": 75, \"12\": 140, \"3\": 22, \"10\": 3}, \"4\": {\"4\": 194, \"15\": 25, \"13\": 9, \"14\": 12}, \"1\": {\"1\": 103, \"3\": 52, \"7\": 3, \"12\": 78, \"9\": 2, \"10\": 2}, \"0\": {\"0\": 125, \"8\": 107, \"5\": 6, \"15\": 2}, \"9\": {\"9\": 90, \"7\": 66, \"2\": 68, \"6\": 12, \"1\": 2, \"13\": 1, \"3\": 1}, \"5\": {\"5\": 187, \"14\": 35, \"8\": 7, \"0\": 9, \"15\": 2}, \"6\": {\"6\": 178, \"13\": 9, \"9\": 16, \"11\": 25, \"2\": 5, \"7\": 7}, \"7\": {\"9\": 68, \"7\": 94, \"2\": 63, \"6\": 8, \"3\": 4, \"11\": 1, \"1\": 2}, \"13\": {\"13\": 211, \"4\": 15, \"14\": 2, \"6\": 12}}, \"26\": {\"6\": {\"13\": 32, \"6\": 112, \"5\": 22, \"10\": 31, \"8\": 10, \"9\": 19, \"14\": 7, \"1\": 3, \"2\": 1, \"0\": 3}, \"11\": {\"11\": 227, \"12\": 13}, \"5\": {\"2\": 14, \"6\": 32, \"9\": 26, \"5\": 47, \"15\": 15, \"13\": 48, \"10\": 8, \"8\": 15, \"7\": 24, \"0\": 2, \"3\": 5, \"4\": 1, \"1\": 1, \"14\": 2}, \"14\": {\"6\": 11, \"14\": 48, \"8\": 17, \"4\": 13, \"0\": 35, \"1\": 57, \"9\": 9, \"7\": 8, \"3\": 1, \"5\": 3, \"10\": 31, \"13\": 2, \"2\": 4, \"15\": 1}, \"2\": {\"7\": 46, \"2\": 33, \"3\": 34, \"9\": 15, \"15\": 43, \"8\": 14, \"4\": 24, \"5\": 11, \"10\": 2, \"0\": 14, \"14\": 2, \"13\": 2}, \"7\": {\"8\": 16, \"4\": 15, \"2\": 36, \"7\": 50, \"9\": 16, \"15\": 32, \"3\": 26, \"0\": 13, \"5\": 23, \"14\": 5, \"10\": 3, \"13\": 4, \"6\": 1}, \"3\": {\"3\": 81, \"4\": 31, \"15\": 73, \"2\": 23, \"7\": 27, \"9\": 1, \"13\": 1, \"5\": 2, \"0\": 1}, \"4\": {\"3\": 20, \"2\": 33, \"4\": 88, \"0\": 24, \"15\": 21, \"10\": 6, \"8\": 8, \"7\": 22, \"1\": 3, \"14\": 9, \"5\": 2, \"9\": 4}, \"9\": {\"13\": 36, \"9\": 42, \"5\": 40, \"6\": 26, \"7\": 16, \"10\": 15, \"4\": 2, \"8\": 32, \"2\": 9, \"14\": 11, \"3\": 2, \"0\": 4, \"1\": 2, \"15\": 3}, \"12\": {\"12\": 224, \"11\": 16}, \"0\": {\"1\": 47, \"9\": 9, \"14\": 40, \"0\": 43, \"10\": 24, \"7\": 11, \"4\": 27, \"8\": 19, \"2\": 9, \"15\": 4, \"6\": 2, \"3\": 2, \"5\": 3}, \"10\": {\"6\": 35, \"1\": 45, \"7\": 6, \"8\": 21, \"14\": 39, \"0\": 22, \"5\": 4, \"10\": 36, \"4\": 12, \"9\": 9, \"2\": 5, \"15\": 1, \"3\": 1, \"13\": 3, \"12\": 1}, \"8\": {\"0\": 22, \"2\": 14, \"7\": 16, \"5\": 27, \"13\": 11, \"15\": 6, \"9\": 28, \"8\": 37, \"3\": 8, \"6\": 6, \"10\": 17, \"4\": 20, \"14\": 19, \"1\": 9}, \"13\": {\"13\": 111, \"5\": 43, \"6\": 32, \"15\": 3, \"9\": 34, \"8\": 8, \"10\": 2, \"2\": 3, \"7\": 3, \"14\": 1}, \"1\": {\"1\": 73, \"0\": 46, \"14\": 57, \"10\": 29, \"8\": 10, \"4\": 5, \"2\": 2, \"9\": 6, \"7\": 1, \"3\": 3, \"6\": 6, \"13\": 1, \"15\": 1}, \"15\": {\"3\": 76, \"15\": 93, \"2\": 25, \"7\": 17, \"8\": 1, \"0\": 2, \"4\": 18, \"1\": 1, \"5\": 4, \"14\": 2, \"9\": 1}}}, \"per_domain_accuracy\": {\"8\": {\"accuracy\": 0.47708333333333336, \"source?\": true}, \"50\": {\"accuracy\": 0.67578125, \"source?\": true}, \"32\": {\"accuracy\": 0.6455729166666667, \"source?\": true}, \"20\": {\"accuracy\": 0.3299479166666667, \"source?\": false}, \"14\": {\"accuracy\": 0.621875, \"source?\": false}, \"38\": {\"accuracy\": 0.5322916666666667, \"source?\": false}, \"44\": {\"accuracy\": 0.6510416666666666, \"source?\": false}, \"26\": {\"accuracy\": 0.3502604166666667, \"source?\": false}}}, \"history\": {\"epoch_indices\": [1, 2, 3, 4, 5, 6, 7, 8, 9, 10, 11, 12, 13, 14, 15, 16, 17], \"train_label_loss\": [1.8265613843524267, 1.3416388328822832, 1.1669107783171866, 0.8787941151549892, 0.701124383952646, 0.5646894681873539, 0.4622909780473463, 0.3770117754308832, 0.31695473854178713, 0.26657377272947796, 0.23181841040976228, 0.20089529859796462, 0.17620083394327335, 0.15807787719148483, 0.15027643965708742, 0.13609233541171148, 0.12519898582700295], \"source_val_label_loss\": [1.4802088737487793, 1.372313141822815, 1.206911325454712, 1.154508113861084, 1.1603480577468872, 1.1679472923278809, 1.25333571434021, 1.3017996549606323, 1.3548595905303955, 1.4635708332061768, 1.567754864692688, 1.6187993288040161, 1.6225717067718506, 1.7371166944503784, 1.7482942342758179, 1.8070833683013916, 1.8605581521987915], \"target_val_label_loss\": [1.881188154220581, 1.8246076107025146, 1.6098560094833374, 1.5663197040557861, 1.5916718244552612, 1.6375762224197388, 1.7361063957214355, 1.8213845491409302, 1.8828593492507935, 2.0387556552886963, 2.128286838531494, 2.2130370140075684, 2.240088701248169, 2.346999406814575, 2.325218439102173, 2.466564893722534, 2.5442144870758057], \"source_val_acc_label\": [0.40164930555555556, 0.4322916666666667, 0.5344618055555556, 0.5714409722222222, 0.58359375, 0.6024305555555556, 0.5903645833333333, 0.5998263888888888, 0.6013888888888889, 0.6022569444444444, 0.5986979166666667, 0.6006076388888889, 0.5994791666666667, 0.5993923611111112, 0.6003472222222223, 0.6014756944444445, 0.5970486111111111], \"target_val_acc_label\": [0.28734375, 0.31947916666666665, 0.42802083333333335, 0.46328125, 0.4775520833333333, 0.49270833333333336, 0.4883854166666667, 0.48473958333333333, 0.48796875, 0.49473958333333334, 0.49604166666666666, 0.4944791666666667, 0.4970833333333333, 0.4959375, 0.4953125, 0.49385416666666665, 0.4913020833333333]}, \"dataset_metrics\": {\"source\": {\"train\": {\"n_unique_x\": 67200, \"n_unique_y\": 16, \"n_batch/episode\": 2520}, \"val\": {\"n_unique_x\": 14400, \"n_unique_y\": 16, \"n_batch/episode\": 360}, \"test\": {\"n_unique_x\": 14400, \"n_unique_y\": 16, \"n_batch/episode\": 360}}, \"target\": {\"train\": {\"n_unique_x\": 112000, \"n_unique_y\": 16, \"n_batch/episode\": 4200}, \"val\": {\"n_unique_x\": 24000, \"n_unique_y\": 16, \"n_batch/episode\": 600}, \"test\": {\"n_unique_x\": 24000, \"n_unique_y\": 16, \"n_batch/episode\": 600}}}}'"
      ]
     },
     "execution_count": 20,
     "metadata": {},
     "output_type": "execute_result"
    }
   ],
   "source": [
    "json.dumps(experiment)"
   ]
  }
 ],
 "metadata": {
  "celltoolbar": "Tags",
  "kernelspec": {
   "display_name": "Python 3 (ipykernel)",
   "language": "python",
   "name": "python3"
  },
  "language_info": {
   "codemirror_mode": {
    "name": "ipython",
    "version": 3
   },
   "file_extension": ".py",
   "mimetype": "text/x-python",
   "name": "python",
   "nbconvert_exporter": "python",
   "pygments_lexer": "ipython3",
   "version": "3.8.10"
  },
  "papermill": {
   "default_parameters": {},
   "duration": 1285.480711,
   "end_time": "2022-04-01T16:37:30.967802",
   "environment_variables": {},
   "exception": null,
   "input_path": "/mnt/wd500GB/CSC500/csc500-main/csc500-notebooks/templates/ptn_template.ipynb",
   "output_path": "trial.ipynb",
   "parameters": {
    "parameters": {
     "BEST_MODEL_PATH": "./best_model.pth",
     "NUM_LOGS_PER_EPOCH": 10,
     "criteria_for_best": "target_accuracy",
     "dataset_seed": 500,
     "device": "cuda",
     "domains_source": [
      8,
      32,
      50
     ],
     "domains_target": [
      14,
      20,
      26,
      38,
      44
     ],
     "episode_transforms_source": [],
     "episode_transforms_target": [],
     "experiment_name": "tuned_1v2:oracle.run2_limited",
     "labels_source": [
      "3123D52",
      "3123D65",
      "3123D79",
      "3123D80",
      "3123D54",
      "3123D70",
      "3123D7B",
      "3123D89",
      "3123D58",
      "3123D76",
      "3123D7D",
      "3123EFE",
      "3123D64",
      "3123D78",
      "3123D7E",
      "3124E4A"
     ],
     "labels_target": [
      "3123D52",
      "3123D65",
      "3123D79",
      "3123D80",
      "3123D54",
      "3123D70",
      "3123D7B",
      "3123D89",
      "3123D58",
      "3123D76",
      "3123D7D",
      "3123EFE",
      "3123D64",
      "3123D78",
      "3123D7E",
      "3124E4A"
     ],
     "lr": 0.0001,
     "n_epoch": 50,
     "n_query": 2,
     "n_shot": 3,
     "n_way": 16,
     "num_examples_per_domain_per_label_source": 2000,
     "num_examples_per_domain_per_label_target": 2000,
     "patience": 3,
     "pickle_name": "oracle.Run2_10kExamples_stratified_ds.2022A.pkl",
     "seed": 500,
     "test_k_factor": 2,
     "torch_default_dtype": "torch.float32",
     "train_k_factor": 3,
     "val_k_factor": 2,
     "x_net": [
      {
       "class": "nnReshape",
       "kargs": {
        "shape": [
         -1,
         1,
         2,
         256
        ]
       }
      },
      {
       "class": "Conv2d",
       "kargs": {
        "bias": false,
        "in_channels": 1,
        "kernel_size": [
         1,
         7
        ],
        "out_channels": 256,
        "padding": [
         0,
         3
        ]
       }
      },
      {
       "class": "ReLU",
       "kargs": {
        "inplace": true
       }
      },
      {
       "class": "BatchNorm2d",
       "kargs": {
        "num_features": 256
       }
      },
      {
       "class": "Conv2d",
       "kargs": {
        "bias": true,
        "in_channels": 256,
        "kernel_size": [
         2,
         7
        ],
        "out_channels": 80,
        "padding": [
         0,
         3
        ]
       }
      },
      {
       "class": "ReLU",
       "kargs": {
        "inplace": true
       }
      },
      {
       "class": "BatchNorm2d",
       "kargs": {
        "num_features": 80
       }
      },
      {
       "class": "Flatten",
       "kargs": {}
      },
      {
       "class": "Linear",
       "kargs": {
        "in_features": 20480,
        "out_features": 256
       }
      },
      {
       "class": "ReLU",
       "kargs": {
        "inplace": true
       }
      },
      {
       "class": "BatchNorm1d",
       "kargs": {
        "num_features": 256
       }
      },
      {
       "class": "Linear",
       "kargs": {
        "in_features": 256,
        "out_features": 256
       }
      }
     ],
     "x_transforms_source": [
      "unit_mag"
     ],
     "x_transforms_target": [
      "unit_mag"
     ]
    }
   },
   "start_time": "2022-04-01T16:16:05.487091",
   "version": "2.3.4"
  }
 },
 "nbformat": 4,
 "nbformat_minor": 5
}