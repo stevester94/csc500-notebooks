{
 "cells": [
  {
   "cell_type": "markdown",
   "id": "9fea5f46",
   "metadata": {
    "papermill": {
     "duration": 0.015378,
     "end_time": "2022-04-01T17:13:53.747171",
     "exception": false,
     "start_time": "2022-04-01T17:13:53.731793",
     "status": "completed"
    },
    "tags": []
   },
   "source": [
    "# PTN Template\n",
    "This notebook serves as a template for single dataset PTN experiments  \n",
    "It can be run on its own by setting STANDALONE to True (do a find for \"STANDALONE\" to see where)  \n",
    "But it is intended to be executed as part of a *papermill.py script. See any of the   \n",
    "experimentes with a papermill script to get started with that workflow.  "
   ]
  },
  {
   "cell_type": "code",
   "execution_count": 1,
   "id": "0902182a",
   "metadata": {
    "execution": {
     "iopub.execute_input": "2022-04-01T17:13:53.779216Z",
     "iopub.status.busy": "2022-04-01T17:13:53.772640Z",
     "iopub.status.idle": "2022-04-01T17:13:54.822426Z",
     "shell.execute_reply": "2022-04-01T17:13:54.822135Z"
    },
    "papermill": {
     "duration": 1.065734,
     "end_time": "2022-04-01T17:13:54.822494",
     "exception": false,
     "start_time": "2022-04-01T17:13:53.756760",
     "status": "completed"
    },
    "tags": []
   },
   "outputs": [],
   "source": [
    "%load_ext autoreload\n",
    "%autoreload 2\n",
    "%matplotlib inline\n",
    "\n",
    "    \n",
    "import os, json, sys, time, random\n",
    "import numpy as np\n",
    "import torch\n",
    "from torch.optim import Adam\n",
    "from  easydict import EasyDict\n",
    "import matplotlib.pyplot as plt\n",
    "\n",
    "from steves_models.steves_ptn import Steves_Prototypical_Network\n",
    "\n",
    "from steves_utils.lazy_iterable_wrapper import Lazy_Iterable_Wrapper\n",
    "from steves_utils.iterable_aggregator import Iterable_Aggregator\n",
    "from steves_utils.ptn_train_eval_test_jig import  PTN_Train_Eval_Test_Jig\n",
    "from steves_utils.torch_sequential_builder import build_sequential\n",
    "from steves_utils.torch_utils import get_dataset_metrics, ptn_confusion_by_domain_over_dataloader\n",
    "from steves_utils.utils_v2 import (per_domain_accuracy_from_confusion, get_datasets_base_path)\n",
    "from steves_utils.PTN.utils import independent_accuracy_assesment\n",
    "\n",
    "from steves_utils.stratified_dataset.episodic_accessor import Episodic_Accessor_Factory\n",
    "\n",
    "from steves_utils.ptn_do_report import (\n",
    "    get_loss_curve,\n",
    "    get_results_table,\n",
    "    get_parameters_table,\n",
    "    get_domain_accuracies,\n",
    ")\n",
    "\n",
    "from steves_utils.transforms import get_chained_transform"
   ]
  },
  {
   "cell_type": "markdown",
   "id": "41c840b4",
   "metadata": {
    "papermill": {
     "duration": 0.009465,
     "end_time": "2022-04-01T17:13:54.841871",
     "exception": false,
     "start_time": "2022-04-01T17:13:54.832406",
     "status": "completed"
    },
    "tags": []
   },
   "source": [
    "# Required Parameters\n",
    "These are allowed parameters, not defaults\n",
    "Each of these values need to be present in the injected parameters (the notebook will raise an exception if they are not present)\n",
    "\n",
    "Papermill uses the cell tag \"parameters\" to inject the real parameters below this cell.\n",
    "Enable tags to see what I mean"
   ]
  },
  {
   "cell_type": "code",
   "execution_count": 2,
   "id": "fd44eb83",
   "metadata": {
    "execution": {
     "iopub.execute_input": "2022-04-01T17:13:54.863538Z",
     "iopub.status.busy": "2022-04-01T17:13:54.863109Z",
     "iopub.status.idle": "2022-04-01T17:13:54.874415Z",
     "shell.execute_reply": "2022-04-01T17:13:54.874637Z"
    },
    "papermill": {
     "duration": 0.023241,
     "end_time": "2022-04-01T17:13:54.874718",
     "exception": false,
     "start_time": "2022-04-01T17:13:54.851477",
     "status": "completed"
    },
    "tags": []
   },
   "outputs": [],
   "source": [
    "required_parameters = {\n",
    "    \"experiment_name\",\n",
    "    \"lr\",\n",
    "    \"device\",\n",
    "    \"seed\",\n",
    "    \"dataset_seed\",\n",
    "    \"labels_source\",\n",
    "    \"labels_target\",\n",
    "    \"domains_source\",\n",
    "    \"domains_target\",\n",
    "    \"num_examples_per_domain_per_label_source\",\n",
    "    \"num_examples_per_domain_per_label_target\",\n",
    "    \"n_shot\",\n",
    "    \"n_way\",\n",
    "    \"n_query\",\n",
    "    \"train_k_factor\",\n",
    "    \"val_k_factor\",\n",
    "    \"test_k_factor\",\n",
    "    \"n_epoch\",\n",
    "    \"patience\",\n",
    "    \"criteria_for_best\",\n",
    "    \"x_transforms_source\",\n",
    "    \"x_transforms_target\",\n",
    "    \"episode_transforms_source\",\n",
    "    \"episode_transforms_target\",\n",
    "    \"pickle_name\",\n",
    "    \"x_net\",\n",
    "    \"NUM_LOGS_PER_EPOCH\",\n",
    "    \"BEST_MODEL_PATH\",\n",
    "    \"torch_default_dtype\"\n",
    "}"
   ]
  },
  {
   "cell_type": "code",
   "execution_count": 3,
   "id": "fa3f0049",
   "metadata": {
    "execution": {
     "iopub.execute_input": "2022-04-01T17:13:54.901819Z",
     "iopub.status.busy": "2022-04-01T17:13:54.901326Z",
     "iopub.status.idle": "2022-04-01T17:13:54.916351Z",
     "shell.execute_reply": "2022-04-01T17:13:54.916644Z"
    },
    "papermill": {
     "duration": 0.032121,
     "end_time": "2022-04-01T17:13:54.916751",
     "exception": false,
     "start_time": "2022-04-01T17:13:54.884630",
     "status": "completed"
    },
    "tags": [
     "parameters"
    ]
   },
   "outputs": [],
   "source": [
    "\n",
    "\n",
    "standalone_parameters = {}\n",
    "standalone_parameters[\"experiment_name\"] = \"STANDALONE PTN\"\n",
    "standalone_parameters[\"lr\"] = 0.0001\n",
    "standalone_parameters[\"device\"] = \"cuda\"\n",
    "\n",
    "standalone_parameters[\"seed\"] = 1337\n",
    "standalone_parameters[\"dataset_seed\"] = 1337\n",
    "\n",
    "\n",
    "standalone_parameters[\"num_examples_per_domain_per_label_source\"]=100\n",
    "standalone_parameters[\"num_examples_per_domain_per_label_target\"]=100\n",
    "\n",
    "standalone_parameters[\"n_shot\"] = 3\n",
    "standalone_parameters[\"n_query\"]  = 2\n",
    "standalone_parameters[\"train_k_factor\"] = 1\n",
    "standalone_parameters[\"val_k_factor\"] = 2\n",
    "standalone_parameters[\"test_k_factor\"] = 2\n",
    "\n",
    "\n",
    "standalone_parameters[\"n_epoch\"] = 100\n",
    "\n",
    "standalone_parameters[\"patience\"] = 10\n",
    "standalone_parameters[\"criteria_for_best\"] = \"target_accuracy\"\n",
    "\n",
    "standalone_parameters[\"x_transforms_source\"] = [\"unit_power\"]\n",
    "standalone_parameters[\"x_transforms_target\"] = [\"unit_power\"]\n",
    "standalone_parameters[\"episode_transforms_source\"] = []\n",
    "standalone_parameters[\"episode_transforms_target\"] = []\n",
    "\n",
    "standalone_parameters[\"torch_default_dtype\"] = \"torch.float32\" \n",
    "\n",
    "\n",
    "\n",
    "standalone_parameters[\"x_net\"] =     [\n",
    "    {\"class\": \"nnReshape\", \"kargs\": {\"shape\":[-1, 1, 2, 256]}},\n",
    "    {\"class\": \"Conv2d\", \"kargs\": { \"in_channels\":1, \"out_channels\":256, \"kernel_size\":(1,7), \"bias\":False, \"padding\":(0,3), },},\n",
    "    {\"class\": \"ReLU\", \"kargs\": {\"inplace\": True}},\n",
    "    {\"class\": \"BatchNorm2d\", \"kargs\": {\"num_features\":256}},\n",
    "\n",
    "    {\"class\": \"Conv2d\", \"kargs\": { \"in_channels\":256, \"out_channels\":80, \"kernel_size\":(2,7), \"bias\":True, \"padding\":(0,3), },},\n",
    "    {\"class\": \"ReLU\", \"kargs\": {\"inplace\": True}},\n",
    "    {\"class\": \"BatchNorm2d\", \"kargs\": {\"num_features\":80}},\n",
    "    {\"class\": \"Flatten\", \"kargs\": {}},\n",
    "\n",
    "    {\"class\": \"Linear\", \"kargs\": {\"in_features\": 80*256, \"out_features\": 256}}, # 80 units per IQ pair\n",
    "    {\"class\": \"ReLU\", \"kargs\": {\"inplace\": True}},\n",
    "    {\"class\": \"BatchNorm1d\", \"kargs\": {\"num_features\":256}},\n",
    "\n",
    "    {\"class\": \"Linear\", \"kargs\": {\"in_features\": 256, \"out_features\": 256}},\n",
    "]\n",
    "\n",
    "# Parameters relevant to results\n",
    "# These parameters will basically never need to change\n",
    "standalone_parameters[\"NUM_LOGS_PER_EPOCH\"] = 10\n",
    "standalone_parameters[\"BEST_MODEL_PATH\"] = \"./best_model.pth\"\n",
    "\n",
    "# uncomment for CORES dataset\n",
    "from steves_utils.CORES.utils import (\n",
    "    ALL_NODES,\n",
    "    ALL_NODES_MINIMUM_1000_EXAMPLES,\n",
    "    ALL_DAYS\n",
    ")\n",
    "\n",
    "\n",
    "standalone_parameters[\"labels_source\"] = ALL_NODES\n",
    "standalone_parameters[\"labels_target\"] = ALL_NODES\n",
    "\n",
    "standalone_parameters[\"domains_source\"] = [1]\n",
    "standalone_parameters[\"domains_target\"] = [2,3,4,5]\n",
    "\n",
    "standalone_parameters[\"pickle_name\"] = \"cores.stratified_ds.2022A.pkl\"\n",
    "\n",
    "\n",
    "# Uncomment these for ORACLE dataset\n",
    "# from steves_utils.ORACLE.utils_v2 import (\n",
    "#     ALL_DISTANCES_FEET,\n",
    "#     ALL_RUNS,\n",
    "#     ALL_SERIAL_NUMBERS,\n",
    "# )\n",
    "# standalone_parameters[\"labels_source\"] = ALL_SERIAL_NUMBERS\n",
    "# standalone_parameters[\"labels_target\"] = ALL_SERIAL_NUMBERS\n",
    "# standalone_parameters[\"domains_source\"] = [8,20, 38,50]\n",
    "# standalone_parameters[\"domains_target\"] = [14, 26, 32, 44, 56]\n",
    "# standalone_parameters[\"pickle_name\"] = \"oracle.frame_indexed.stratified_ds.2022A.pkl\"\n",
    "# standalone_parameters[\"num_examples_per_domain_per_label_source\"]=1000\n",
    "# standalone_parameters[\"num_examples_per_domain_per_label_target\"]=1000\n",
    "\n",
    "# Uncomment these for Metahan dataset\n",
    "# standalone_parameters[\"labels_source\"] = list(range(19))\n",
    "# standalone_parameters[\"labels_target\"] = list(range(19))\n",
    "# standalone_parameters[\"domains_source\"] = [0]\n",
    "# standalone_parameters[\"domains_target\"] = [1]\n",
    "# standalone_parameters[\"pickle_name\"] = \"metehan.stratified_ds.2022A.pkl\"\n",
    "# standalone_parameters[\"n_way\"]  = len(standalone_parameters[\"labels_source\"])\n",
    "# standalone_parameters[\"num_examples_per_domain_per_label_source\"]=200\n",
    "# standalone_parameters[\"num_examples_per_domain_per_label_target\"]=100\n",
    "\n",
    "\n",
    "standalone_parameters[\"n_way\"]  = len(standalone_parameters[\"labels_source\"])"
   ]
  },
  {
   "cell_type": "code",
   "execution_count": 4,
   "id": "08a1d9db",
   "metadata": {
    "execution": {
     "iopub.execute_input": "2022-04-01T17:13:54.945395Z",
     "iopub.status.busy": "2022-04-01T17:13:54.945079Z",
     "iopub.status.idle": "2022-04-01T17:13:54.959269Z",
     "shell.execute_reply": "2022-04-01T17:13:54.959011Z"
    },
    "papermill": {
     "duration": 0.031132,
     "end_time": "2022-04-01T17:13:54.959336",
     "exception": false,
     "start_time": "2022-04-01T17:13:54.928204",
     "status": "completed"
    },
    "tags": [
     "injected-parameters"
    ]
   },
   "outputs": [],
   "source": [
    "# Parameters\n",
    "parameters = {\n",
    "    \"experiment_name\": \"tuned_1v2:oracle.run2_limited\",\n",
    "    \"device\": \"cuda\",\n",
    "    \"lr\": 0.0001,\n",
    "    \"labels_source\": [\n",
    "        \"3123D52\",\n",
    "        \"3123D65\",\n",
    "        \"3123D79\",\n",
    "        \"3123D80\",\n",
    "        \"3123D54\",\n",
    "        \"3123D70\",\n",
    "        \"3123D7B\",\n",
    "        \"3123D89\",\n",
    "        \"3123D58\",\n",
    "        \"3123D76\",\n",
    "        \"3123D7D\",\n",
    "        \"3123EFE\",\n",
    "        \"3123D64\",\n",
    "        \"3123D78\",\n",
    "        \"3123D7E\",\n",
    "        \"3124E4A\",\n",
    "    ],\n",
    "    \"labels_target\": [\n",
    "        \"3123D52\",\n",
    "        \"3123D65\",\n",
    "        \"3123D79\",\n",
    "        \"3123D80\",\n",
    "        \"3123D54\",\n",
    "        \"3123D70\",\n",
    "        \"3123D7B\",\n",
    "        \"3123D89\",\n",
    "        \"3123D58\",\n",
    "        \"3123D76\",\n",
    "        \"3123D7D\",\n",
    "        \"3123EFE\",\n",
    "        \"3123D64\",\n",
    "        \"3123D78\",\n",
    "        \"3123D7E\",\n",
    "        \"3124E4A\",\n",
    "    ],\n",
    "    \"episode_transforms_source\": [],\n",
    "    \"episode_transforms_target\": [],\n",
    "    \"domains_source\": [8, 32, 50],\n",
    "    \"domains_target\": [14, 20, 26, 38, 44],\n",
    "    \"num_examples_per_domain_per_label_source\": 2000,\n",
    "    \"num_examples_per_domain_per_label_target\": 2000,\n",
    "    \"n_shot\": 3,\n",
    "    \"n_way\": 16,\n",
    "    \"n_query\": 2,\n",
    "    \"train_k_factor\": 3,\n",
    "    \"val_k_factor\": 2,\n",
    "    \"test_k_factor\": 2,\n",
    "    \"torch_default_dtype\": \"torch.float32\",\n",
    "    \"n_epoch\": 50,\n",
    "    \"patience\": 3,\n",
    "    \"criteria_for_best\": \"target_accuracy\",\n",
    "    \"x_net\": [\n",
    "        {\"class\": \"nnReshape\", \"kargs\": {\"shape\": [-1, 1, 2, 256]}},\n",
    "        {\n",
    "            \"class\": \"Conv2d\",\n",
    "            \"kargs\": {\n",
    "                \"in_channels\": 1,\n",
    "                \"out_channels\": 256,\n",
    "                \"kernel_size\": [1, 7],\n",
    "                \"bias\": False,\n",
    "                \"padding\": [0, 3],\n",
    "            },\n",
    "        },\n",
    "        {\"class\": \"ReLU\", \"kargs\": {\"inplace\": True}},\n",
    "        {\"class\": \"BatchNorm2d\", \"kargs\": {\"num_features\": 256}},\n",
    "        {\n",
    "            \"class\": \"Conv2d\",\n",
    "            \"kargs\": {\n",
    "                \"in_channels\": 256,\n",
    "                \"out_channels\": 80,\n",
    "                \"kernel_size\": [2, 7],\n",
    "                \"bias\": True,\n",
    "                \"padding\": [0, 3],\n",
    "            },\n",
    "        },\n",
    "        {\"class\": \"ReLU\", \"kargs\": {\"inplace\": True}},\n",
    "        {\"class\": \"BatchNorm2d\", \"kargs\": {\"num_features\": 80}},\n",
    "        {\"class\": \"Flatten\", \"kargs\": {}},\n",
    "        {\"class\": \"Linear\", \"kargs\": {\"in_features\": 20480, \"out_features\": 256}},\n",
    "        {\"class\": \"ReLU\", \"kargs\": {\"inplace\": True}},\n",
    "        {\"class\": \"BatchNorm1d\", \"kargs\": {\"num_features\": 256}},\n",
    "        {\"class\": \"Linear\", \"kargs\": {\"in_features\": 256, \"out_features\": 256}},\n",
    "    ],\n",
    "    \"NUM_LOGS_PER_EPOCH\": 10,\n",
    "    \"BEST_MODEL_PATH\": \"./best_model.pth\",\n",
    "    \"pickle_name\": \"oracle.Run2_10kExamples_stratified_ds.2022A.pkl\",\n",
    "    \"x_transforms_source\": [\"unit_power\"],\n",
    "    \"x_transforms_target\": [\"unit_power\"],\n",
    "    \"dataset_seed\": 1337,\n",
    "    \"seed\": 1337,\n",
    "}\n"
   ]
  },
  {
   "cell_type": "code",
   "execution_count": 5,
   "id": "8fa1cc33",
   "metadata": {
    "execution": {
     "iopub.execute_input": "2022-04-01T17:13:54.983415Z",
     "iopub.status.busy": "2022-04-01T17:13:54.982877Z",
     "iopub.status.idle": "2022-04-01T17:13:54.994928Z",
     "shell.execute_reply": "2022-04-01T17:13:54.995335Z"
    },
    "papermill": {
     "duration": 0.025957,
     "end_time": "2022-04-01T17:13:54.995478",
     "exception": false,
     "start_time": "2022-04-01T17:13:54.969521",
     "status": "completed"
    },
    "tags": []
   },
   "outputs": [],
   "source": [
    "# Set this to True if you want to run this template directly\n",
    "STANDALONE = False\n",
    "if STANDALONE:\n",
    "    print(\"parameters not injected, running with standalone_parameters\")\n",
    "    parameters = standalone_parameters\n",
    "\n",
    "if not 'parameters' in locals() and not 'parameters' in globals():\n",
    "    raise Exception(\"Parameter injection failed\")\n",
    "\n",
    "#Use an easy dict for all the parameters\n",
    "p = EasyDict(parameters)\n",
    "\n",
    "supplied_keys = set(p.keys())\n",
    "\n",
    "if  supplied_keys != required_parameters:\n",
    "    print(\"Parameters are incorrect\")\n",
    "    if len(supplied_keys - required_parameters)>0: print(\"Shouldn't have:\", str(supplied_keys - required_parameters))\n",
    "    if len(required_parameters - supplied_keys)>0: print(\"Need to have:\", str(required_parameters - supplied_keys))\n",
    "    raise RuntimeError(\"Parameters are incorrect\")\n",
    "\n"
   ]
  },
  {
   "cell_type": "code",
   "execution_count": 6,
   "id": "3a028d58",
   "metadata": {
    "execution": {
     "iopub.execute_input": "2022-04-01T17:13:55.022695Z",
     "iopub.status.busy": "2022-04-01T17:13:55.021771Z",
     "iopub.status.idle": "2022-04-01T17:13:55.036720Z",
     "shell.execute_reply": "2022-04-01T17:13:55.036282Z"
    },
    "papermill": {
     "duration": 0.027329,
     "end_time": "2022-04-01T17:13:55.036828",
     "exception": false,
     "start_time": "2022-04-01T17:13:55.009499",
     "status": "completed"
    },
    "tags": []
   },
   "outputs": [],
   "source": [
    "###################################\n",
    "# Set the RNGs and make it all deterministic\n",
    "###################################\n",
    "np.random.seed(p.seed)\n",
    "random.seed(p.seed)\n",
    "torch.manual_seed(p.seed)\n",
    "\n",
    "torch.use_deterministic_algorithms(True) "
   ]
  },
  {
   "cell_type": "code",
   "execution_count": 7,
   "id": "b691acf6",
   "metadata": {
    "execution": {
     "iopub.execute_input": "2022-04-01T17:13:55.063869Z",
     "iopub.status.busy": "2022-04-01T17:13:55.063609Z",
     "iopub.status.idle": "2022-04-01T17:13:55.075939Z",
     "shell.execute_reply": "2022-04-01T17:13:55.076150Z"
    },
    "papermill": {
     "duration": 0.024214,
     "end_time": "2022-04-01T17:13:55.076222",
     "exception": false,
     "start_time": "2022-04-01T17:13:55.052008",
     "status": "completed"
    },
    "tags": []
   },
   "outputs": [],
   "source": [
    "###########################################\n",
    "# The stratified datasets honor this\n",
    "###########################################\n",
    "torch.set_default_dtype(eval(p.torch_default_dtype))"
   ]
  },
  {
   "cell_type": "code",
   "execution_count": 8,
   "id": "b5fba671",
   "metadata": {
    "execution": {
     "iopub.execute_input": "2022-04-01T17:13:55.102548Z",
     "iopub.status.busy": "2022-04-01T17:13:55.102285Z",
     "iopub.status.idle": "2022-04-01T17:13:55.141468Z",
     "shell.execute_reply": "2022-04-01T17:13:55.141881Z"
    },
    "papermill": {
     "duration": 0.05216,
     "end_time": "2022-04-01T17:13:55.142017",
     "exception": false,
     "start_time": "2022-04-01T17:13:55.089857",
     "status": "completed"
    },
    "tags": []
   },
   "outputs": [],
   "source": [
    "###################################\n",
    "# Build the network(s)\n",
    "# Note: It's critical to do this AFTER setting the RNG\n",
    "# (This is due to the randomized initial weights)\n",
    "###################################\n",
    "x_net = build_sequential(p.x_net)"
   ]
  },
  {
   "cell_type": "code",
   "execution_count": 9,
   "id": "5d7e61cc",
   "metadata": {
    "execution": {
     "iopub.execute_input": "2022-04-01T17:13:55.170923Z",
     "iopub.status.busy": "2022-04-01T17:13:55.170364Z",
     "iopub.status.idle": "2022-04-01T17:13:55.181243Z",
     "shell.execute_reply": "2022-04-01T17:13:55.181654Z"
    },
    "papermill": {
     "duration": 0.023357,
     "end_time": "2022-04-01T17:13:55.181777",
     "exception": false,
     "start_time": "2022-04-01T17:13:55.158420",
     "status": "completed"
    },
    "tags": []
   },
   "outputs": [],
   "source": [
    "start_time_secs = time.time()"
   ]
  },
  {
   "cell_type": "code",
   "execution_count": 10,
   "id": "fd5442bc",
   "metadata": {
    "execution": {
     "iopub.execute_input": "2022-04-01T17:13:55.209963Z",
     "iopub.status.busy": "2022-04-01T17:13:55.206138Z",
     "iopub.status.idle": "2022-04-01T17:14:13.821863Z",
     "shell.execute_reply": "2022-04-01T17:14:13.821404Z"
    },
    "papermill": {
     "duration": 18.626985,
     "end_time": "2022-04-01T17:14:13.821973",
     "exception": false,
     "start_time": "2022-04-01T17:13:55.194988",
     "status": "completed"
    },
    "tags": []
   },
   "outputs": [],
   "source": [
    "###################################\n",
    "# Build the dataset\n",
    "###################################\n",
    "\n",
    "if p.x_transforms_source == []: x_transform_source = None\n",
    "else: x_transform_source = get_chained_transform(p.x_transforms_source) \n",
    "\n",
    "if p.x_transforms_target == []: x_transform_target = None\n",
    "else: x_transform_target = get_chained_transform(p.x_transforms_target)\n",
    "\n",
    "if p.episode_transforms_source == []: episode_transform_source = None\n",
    "else: raise Exception(\"episode_transform_source not implemented\")\n",
    "\n",
    "if p.episode_transforms_target == []: episode_transform_target = None\n",
    "else: raise Exception(\"episode_transform_target not implemented\")\n",
    "\n",
    "\n",
    "eaf_source = Episodic_Accessor_Factory(\n",
    "    labels=p.labels_source,\n",
    "    domains=p.domains_source,\n",
    "    num_examples_per_domain_per_label=p.num_examples_per_domain_per_label_source,\n",
    "    iterator_seed=p.seed,\n",
    "    dataset_seed=p.dataset_seed,\n",
    "    n_shot=p.n_shot,\n",
    "    n_way=p.n_way,\n",
    "    n_query=p.n_query,\n",
    "    train_val_test_k_factors=(p.train_k_factor,p.val_k_factor,p.test_k_factor),\n",
    "    pickle_path=os.path.join(get_datasets_base_path(), p.pickle_name),\n",
    "    x_transform_func=x_transform_source,\n",
    "    example_transform_func=episode_transform_source,\n",
    "    \n",
    ")\n",
    "train_original_source, val_original_source, test_original_source = eaf_source.get_train(), eaf_source.get_val(), eaf_source.get_test()\n",
    "\n",
    "\n",
    "eaf_target = Episodic_Accessor_Factory(\n",
    "    labels=p.labels_target,\n",
    "    domains=p.domains_target,\n",
    "    num_examples_per_domain_per_label=p.num_examples_per_domain_per_label_target,\n",
    "    iterator_seed=p.seed,\n",
    "    dataset_seed=p.dataset_seed,\n",
    "    n_shot=p.n_shot,\n",
    "    n_way=p.n_way,\n",
    "    n_query=p.n_query,\n",
    "    train_val_test_k_factors=(p.train_k_factor,p.val_k_factor,p.test_k_factor),\n",
    "    pickle_path=os.path.join(get_datasets_base_path(), p.pickle_name),\n",
    "    x_transform_func=x_transform_target,\n",
    "    example_transform_func=episode_transform_target,\n",
    ")\n",
    "train_original_target, val_original_target, test_original_target = eaf_target.get_train(), eaf_target.get_val(), eaf_target.get_test()\n",
    "\n",
    "\n",
    "transform_lambda = lambda ex: ex[1] # Original is (<domain>, <episode>) so we strip down to episode only\n",
    "\n",
    "train_processed_source = Lazy_Iterable_Wrapper(train_original_source, transform_lambda)\n",
    "val_processed_source   = Lazy_Iterable_Wrapper(val_original_source, transform_lambda)\n",
    "test_processed_source  = Lazy_Iterable_Wrapper(test_original_source, transform_lambda)\n",
    "\n",
    "train_processed_target = Lazy_Iterable_Wrapper(train_original_target, transform_lambda)\n",
    "val_processed_target   = Lazy_Iterable_Wrapper(val_original_target, transform_lambda)\n",
    "test_processed_target  = Lazy_Iterable_Wrapper(test_original_target, transform_lambda)\n",
    "\n",
    "datasets = EasyDict({\n",
    "    \"source\": {\n",
    "        \"original\": {\"train\":train_original_source, \"val\":val_original_source, \"test\":test_original_source},\n",
    "        \"processed\": {\"train\":train_processed_source, \"val\":val_processed_source, \"test\":test_processed_source}\n",
    "    },\n",
    "    \"target\": {\n",
    "        \"original\": {\"train\":train_original_target, \"val\":val_original_target, \"test\":test_original_target},\n",
    "        \"processed\": {\"train\":train_processed_target, \"val\":val_processed_target, \"test\":test_processed_target}\n",
    "    },\n",
    "})"
   ]
  },
  {
   "cell_type": "code",
   "execution_count": 11,
   "id": "296189d9",
   "metadata": {
    "execution": {
     "iopub.execute_input": "2022-04-01T17:14:13.852032Z",
     "iopub.status.busy": "2022-04-01T17:14:13.851762Z",
     "iopub.status.idle": "2022-04-01T17:14:15.512816Z",
     "shell.execute_reply": "2022-04-01T17:14:15.512575Z"
    },
    "papermill": {
     "duration": 1.673743,
     "end_time": "2022-04-01T17:14:15.512881",
     "exception": false,
     "start_time": "2022-04-01T17:14:13.839138",
     "status": "completed"
    },
    "tags": []
   },
   "outputs": [
    {
     "name": "stdout",
     "output_type": "stream",
     "text": [
      "Visually inspect these to see if they line up with expected values given the transforms\n",
      "x_transforms_source ['unit_power']\n",
      "x_transforms_target ['unit_power']\n",
      "Average magnitude, source: 0.89581305\n",
      "Average power, source: 1.0\n"
     ]
    },
    {
     "name": "stdout",
     "output_type": "stream",
     "text": [
      "Average magnitude, target: 0.8891083\n",
      "Average power, target: 1.0\n"
     ]
    }
   ],
   "source": [
    "# Some quick unit tests on the data\n",
    "from steves_utils.transforms import get_average_power, get_average_magnitude\n",
    "\n",
    "q_x, q_y, s_x, s_y, truth = next(iter(train_processed_source))\n",
    "\n",
    "assert q_x.dtype == eval(p.torch_default_dtype)\n",
    "assert s_x.dtype == eval(p.torch_default_dtype)\n",
    "\n",
    "print(\"Visually inspect these to see if they line up with expected values given the transforms\")\n",
    "print('x_transforms_source', p.x_transforms_source)\n",
    "print('x_transforms_target', p.x_transforms_target)\n",
    "print(\"Average magnitude, source:\", get_average_magnitude(q_x[0].numpy()))\n",
    "print(\"Average power, source:\", get_average_power(q_x[0].numpy()))\n",
    "\n",
    "q_x, q_y, s_x, s_y, truth = next(iter(train_processed_target))\n",
    "print(\"Average magnitude, target:\", get_average_magnitude(q_x[0].numpy()))\n",
    "print(\"Average power, target:\", get_average_power(q_x[0].numpy()))\n"
   ]
  },
  {
   "cell_type": "code",
   "execution_count": 12,
   "id": "bbdacba1",
   "metadata": {
    "execution": {
     "iopub.execute_input": "2022-04-01T17:14:15.540046Z",
     "iopub.status.busy": "2022-04-01T17:14:15.539781Z",
     "iopub.status.idle": "2022-04-01T17:14:15.602140Z",
     "shell.execute_reply": "2022-04-01T17:14:15.602539Z"
    },
    "papermill": {
     "duration": 0.076396,
     "end_time": "2022-04-01T17:14:15.602668",
     "exception": false,
     "start_time": "2022-04-01T17:14:15.526272",
     "status": "completed"
    },
    "tags": []
   },
   "outputs": [
    {
     "name": "stdout",
     "output_type": "stream",
     "text": [
      "(2, 256)\n"
     ]
    }
   ],
   "source": [
    "###################################\n",
    "# Build the model\n",
    "###################################\n",
    "model = Steves_Prototypical_Network(x_net, device=p.device, x_shape=(2,256))\n",
    "optimizer = Adam(params=model.parameters(), lr=p.lr)"
   ]
  },
  {
   "cell_type": "code",
   "execution_count": 13,
   "id": "22b39ac5",
   "metadata": {
    "execution": {
     "iopub.execute_input": "2022-04-01T17:14:15.631717Z",
     "iopub.status.busy": "2022-04-01T17:14:15.631460Z",
     "iopub.status.idle": "2022-04-01T17:27:25.945671Z",
     "shell.execute_reply": "2022-04-01T17:27:25.945440Z"
    },
    "papermill": {
     "duration": 790.328091,
     "end_time": "2022-04-01T17:27:25.945730",
     "exception": false,
     "start_time": "2022-04-01T17:14:15.617639",
     "status": "completed"
    },
    "tags": []
   },
   "outputs": [
    {
     "name": "stdout",
     "output_type": "stream",
     "text": [
      "epoch: 1, [batch: 1 / 2520], examples_per_second: 130.7403, train_label_loss: 2.7759, \n"
     ]
    },
    {
     "name": "stdout",
     "output_type": "stream",
     "text": [
      "epoch: 1, [batch: 252 / 2520], examples_per_second: 3155.0159, train_label_loss: 2.7765, \n"
     ]
    },
    {
     "name": "stdout",
     "output_type": "stream",
     "text": [
      "epoch: 1, [batch: 504 / 2520], examples_per_second: 3165.0417, train_label_loss: 2.3855, \n"
     ]
    },
    {
     "name": "stdout",
     "output_type": "stream",
     "text": [
      "epoch: 1, [batch: 756 / 2520], examples_per_second: 3161.5392, train_label_loss: 1.7293, \n"
     ]
    },
    {
     "name": "stdout",
     "output_type": "stream",
     "text": [
      "epoch: 1, [batch: 1008 / 2520], examples_per_second: 3138.0721, train_label_loss: 1.5066, \n"
     ]
    },
    {
     "name": "stdout",
     "output_type": "stream",
     "text": [
      "epoch: 1, [batch: 1260 / 2520], examples_per_second: 3120.9569, train_label_loss: 1.3815, \n"
     ]
    },
    {
     "name": "stdout",
     "output_type": "stream",
     "text": [
      "epoch: 1, [batch: 1512 / 2520], examples_per_second: 3125.9713, train_label_loss: 1.2588, \n"
     ]
    },
    {
     "name": "stdout",
     "output_type": "stream",
     "text": [
      "epoch: 1, [batch: 1764 / 2520], examples_per_second: 3120.9219, train_label_loss: 1.2072, \n"
     ]
    },
    {
     "name": "stdout",
     "output_type": "stream",
     "text": [
      "epoch: 1, [batch: 2016 / 2520], examples_per_second: 3129.3025, train_label_loss: 1.3261, \n"
     ]
    },
    {
     "name": "stdout",
     "output_type": "stream",
     "text": [
      "epoch: 1, [batch: 2268 / 2520], examples_per_second: 3138.9962, train_label_loss: 1.4367, \n"
     ]
    },
    {
     "name": "stdout",
     "output_type": "stream",
     "text": [
      "=============================================================\n",
      "epoch: 1, source_val_acc_label: 0.4021, target_val_acc_label: 0.2798, source_val_label_loss: 1.5188, target_val_label_loss: 1.9642, \n",
      "=============================================================\n"
     ]
    },
    {
     "name": "stdout",
     "output_type": "stream",
     "text": [
      "New best\n"
     ]
    },
    {
     "name": "stdout",
     "output_type": "stream",
     "text": [
      "epoch: 2, [batch: 1 / 2520], examples_per_second: 11.1035, train_label_loss: 1.3031, \n"
     ]
    },
    {
     "name": "stdout",
     "output_type": "stream",
     "text": [
      "epoch: 2, [batch: 252 / 2520], examples_per_second: 3168.2329, train_label_loss: 1.1346, \n"
     ]
    },
    {
     "name": "stdout",
     "output_type": "stream",
     "text": [
      "epoch: 2, [batch: 504 / 2520], examples_per_second: 3161.1596, train_label_loss: 1.4647, \n"
     ]
    },
    {
     "name": "stdout",
     "output_type": "stream",
     "text": [
      "epoch: 2, [batch: 756 / 2520], examples_per_second: 3166.9560, train_label_loss: 1.5464, \n"
     ]
    },
    {
     "name": "stdout",
     "output_type": "stream",
     "text": [
      "epoch: 2, [batch: 1008 / 2520], examples_per_second: 3158.9037, train_label_loss: 1.7342, \n"
     ]
    },
    {
     "name": "stdout",
     "output_type": "stream",
     "text": [
      "epoch: 2, [batch: 1260 / 2520], examples_per_second: 3188.4110, train_label_loss: 1.5639, \n"
     ]
    },
    {
     "name": "stdout",
     "output_type": "stream",
     "text": [
      "epoch: 2, [batch: 1512 / 2520], examples_per_second: 3167.3318, train_label_loss: 1.3011, \n"
     ]
    },
    {
     "name": "stdout",
     "output_type": "stream",
     "text": [
      "epoch: 2, [batch: 1764 / 2520], examples_per_second: 3160.2442, train_label_loss: 1.4072, \n"
     ]
    },
    {
     "name": "stdout",
     "output_type": "stream",
     "text": [
      "epoch: 2, [batch: 2016 / 2520], examples_per_second: 3149.4930, train_label_loss: 1.7926, \n"
     ]
    },
    {
     "name": "stdout",
     "output_type": "stream",
     "text": [
      "epoch: 2, [batch: 2268 / 2520], examples_per_second: 3136.7520, train_label_loss: 1.1426, \n"
     ]
    },
    {
     "name": "stdout",
     "output_type": "stream",
     "text": [
      "=============================================================\n",
      "epoch: 2, source_val_acc_label: 0.4353, target_val_acc_label: 0.3074, source_val_label_loss: 1.3746, target_val_label_loss: 1.8609, \n",
      "=============================================================\n"
     ]
    },
    {
     "name": "stdout",
     "output_type": "stream",
     "text": [
      "New best\n"
     ]
    },
    {
     "name": "stdout",
     "output_type": "stream",
     "text": [
      "epoch: 3, [batch: 1 / 2520], examples_per_second: 11.0158, train_label_loss: 1.3488, \n"
     ]
    },
    {
     "name": "stdout",
     "output_type": "stream",
     "text": [
      "epoch: 3, [batch: 252 / 2520], examples_per_second: 3139.6580, train_label_loss: 1.1976, \n"
     ]
    },
    {
     "name": "stdout",
     "output_type": "stream",
     "text": [
      "epoch: 3, [batch: 504 / 2520], examples_per_second: 3176.8153, train_label_loss: 1.1639, \n"
     ]
    },
    {
     "name": "stdout",
     "output_type": "stream",
     "text": [
      "epoch: 3, [batch: 756 / 2520], examples_per_second: 3168.0222, train_label_loss: 1.4849, \n"
     ]
    },
    {
     "name": "stdout",
     "output_type": "stream",
     "text": [
      "epoch: 3, [batch: 1008 / 2520], examples_per_second: 3152.0305, train_label_loss: 1.0689, \n"
     ]
    },
    {
     "name": "stdout",
     "output_type": "stream",
     "text": [
      "epoch: 3, [batch: 1260 / 2520], examples_per_second: 3164.5527, train_label_loss: 1.3292, \n"
     ]
    },
    {
     "name": "stdout",
     "output_type": "stream",
     "text": [
      "epoch: 3, [batch: 1512 / 2520], examples_per_second: 3156.2056, train_label_loss: 0.7137, \n"
     ]
    },
    {
     "name": "stdout",
     "output_type": "stream",
     "text": [
      "epoch: 3, [batch: 1764 / 2520], examples_per_second: 3145.3297, train_label_loss: 0.8034, \n"
     ]
    },
    {
     "name": "stdout",
     "output_type": "stream",
     "text": [
      "epoch: 3, [batch: 2016 / 2520], examples_per_second: 3177.7506, train_label_loss: 0.8677, \n"
     ]
    },
    {
     "name": "stdout",
     "output_type": "stream",
     "text": [
      "epoch: 3, [batch: 2268 / 2520], examples_per_second: 3179.3774, train_label_loss: 0.7771, \n"
     ]
    },
    {
     "name": "stdout",
     "output_type": "stream",
     "text": [
      "=============================================================\n",
      "epoch: 3, source_val_acc_label: 0.5491, target_val_acc_label: 0.4528, source_val_label_loss: 1.1535, target_val_label_loss: 1.5439, \n",
      "=============================================================\n"
     ]
    },
    {
     "name": "stdout",
     "output_type": "stream",
     "text": [
      "New best\n"
     ]
    },
    {
     "name": "stdout",
     "output_type": "stream",
     "text": [
      "epoch: 4, [batch: 1 / 2520], examples_per_second: 11.0755, train_label_loss: 0.6525, \n"
     ]
    },
    {
     "name": "stdout",
     "output_type": "stream",
     "text": [
      "epoch: 4, [batch: 252 / 2520], examples_per_second: 3140.3122, train_label_loss: 1.0583, \n"
     ]
    },
    {
     "name": "stdout",
     "output_type": "stream",
     "text": [
      "epoch: 4, [batch: 504 / 2520], examples_per_second: 3143.3546, train_label_loss: 1.4774, \n"
     ]
    },
    {
     "name": "stdout",
     "output_type": "stream",
     "text": [
      "epoch: 4, [batch: 756 / 2520], examples_per_second: 3167.6520, train_label_loss: 1.1041, \n"
     ]
    },
    {
     "name": "stdout",
     "output_type": "stream",
     "text": [
      "epoch: 4, [batch: 1008 / 2520], examples_per_second: 3163.4574, train_label_loss: 0.5717, \n"
     ]
    },
    {
     "name": "stdout",
     "output_type": "stream",
     "text": [
      "epoch: 4, [batch: 1260 / 2520], examples_per_second: 3170.2587, train_label_loss: 1.4165, \n"
     ]
    },
    {
     "name": "stdout",
     "output_type": "stream",
     "text": [
      "epoch: 4, [batch: 1512 / 2520], examples_per_second: 3171.0284, train_label_loss: 1.1089, \n"
     ]
    },
    {
     "name": "stdout",
     "output_type": "stream",
     "text": [
      "epoch: 4, [batch: 1764 / 2520], examples_per_second: 3166.8876, train_label_loss: 0.7025, \n"
     ]
    },
    {
     "name": "stdout",
     "output_type": "stream",
     "text": [
      "epoch: 4, [batch: 2016 / 2520], examples_per_second: 3152.6507, train_label_loss: 0.7165, \n"
     ]
    },
    {
     "name": "stdout",
     "output_type": "stream",
     "text": [
      "epoch: 4, [batch: 2268 / 2520], examples_per_second: 3160.6500, train_label_loss: 0.8749, \n"
     ]
    },
    {
     "name": "stdout",
     "output_type": "stream",
     "text": [
      "=============================================================\n",
      "epoch: 4, source_val_acc_label: 0.5829, target_val_acc_label: 0.4789, source_val_label_loss: 1.1158, target_val_label_loss: 1.5096, \n",
      "=============================================================\n"
     ]
    },
    {
     "name": "stdout",
     "output_type": "stream",
     "text": [
      "New best\n"
     ]
    },
    {
     "name": "stdout",
     "output_type": "stream",
     "text": [
      "epoch: 5, [batch: 1 / 2520], examples_per_second: 11.0995, train_label_loss: 0.8067, \n"
     ]
    },
    {
     "name": "stdout",
     "output_type": "stream",
     "text": [
      "epoch: 5, [batch: 252 / 2520], examples_per_second: 3163.2338, train_label_loss: 0.3708, \n"
     ]
    },
    {
     "name": "stdout",
     "output_type": "stream",
     "text": [
      "epoch: 5, [batch: 504 / 2520], examples_per_second: 3169.1526, train_label_loss: 0.7568, \n"
     ]
    },
    {
     "name": "stdout",
     "output_type": "stream",
     "text": [
      "epoch: 5, [batch: 756 / 2520], examples_per_second: 3184.2814, train_label_loss: 1.2578, \n"
     ]
    },
    {
     "name": "stdout",
     "output_type": "stream",
     "text": [
      "epoch: 5, [batch: 1008 / 2520], examples_per_second: 3168.8314, train_label_loss: 0.3698, \n"
     ]
    },
    {
     "name": "stdout",
     "output_type": "stream",
     "text": [
      "epoch: 5, [batch: 1260 / 2520], examples_per_second: 3161.9085, train_label_loss: 0.8878, \n"
     ]
    },
    {
     "name": "stdout",
     "output_type": "stream",
     "text": [
      "epoch: 5, [batch: 1512 / 2520], examples_per_second: 3165.1509, train_label_loss: 0.8637, \n"
     ]
    },
    {
     "name": "stdout",
     "output_type": "stream",
     "text": [
      "epoch: 5, [batch: 1764 / 2520], examples_per_second: 3159.1427, train_label_loss: 0.6980, \n"
     ]
    },
    {
     "name": "stdout",
     "output_type": "stream",
     "text": [
      "epoch: 5, [batch: 2016 / 2520], examples_per_second: 3179.3576, train_label_loss: 0.3863, \n"
     ]
    },
    {
     "name": "stdout",
     "output_type": "stream",
     "text": [
      "epoch: 5, [batch: 2268 / 2520], examples_per_second: 3165.3928, train_label_loss: 0.4249, \n"
     ]
    },
    {
     "name": "stdout",
     "output_type": "stream",
     "text": [
      "=============================================================\n",
      "epoch: 5, source_val_acc_label: 0.5899, target_val_acc_label: 0.4882, source_val_label_loss: 1.1722, target_val_label_loss: 1.5863, \n",
      "=============================================================\n"
     ]
    },
    {
     "name": "stdout",
     "output_type": "stream",
     "text": [
      "New best\n"
     ]
    },
    {
     "name": "stdout",
     "output_type": "stream",
     "text": [
      "epoch: 6, [batch: 1 / 2520], examples_per_second: 11.0810, train_label_loss: 0.6418, \n"
     ]
    },
    {
     "name": "stdout",
     "output_type": "stream",
     "text": [
      "epoch: 6, [batch: 252 / 2520], examples_per_second: 3157.8322, train_label_loss: 0.8907, \n"
     ]
    },
    {
     "name": "stdout",
     "output_type": "stream",
     "text": [
      "epoch: 6, [batch: 504 / 2520], examples_per_second: 3190.1988, train_label_loss: 0.5641, \n"
     ]
    },
    {
     "name": "stdout",
     "output_type": "stream",
     "text": [
      "epoch: 6, [batch: 756 / 2520], examples_per_second: 3161.8997, train_label_loss: 0.7250, \n"
     ]
    },
    {
     "name": "stdout",
     "output_type": "stream",
     "text": [
      "epoch: 6, [batch: 1008 / 2520], examples_per_second: 3159.0193, train_label_loss: 0.4678, \n"
     ]
    },
    {
     "name": "stdout",
     "output_type": "stream",
     "text": [
      "epoch: 6, [batch: 1260 / 2520], examples_per_second: 3153.0992, train_label_loss: 0.7372, \n"
     ]
    },
    {
     "name": "stdout",
     "output_type": "stream",
     "text": [
      "epoch: 6, [batch: 1512 / 2520], examples_per_second: 3164.9529, train_label_loss: 0.7312, \n"
     ]
    },
    {
     "name": "stdout",
     "output_type": "stream",
     "text": [
      "epoch: 6, [batch: 1764 / 2520], examples_per_second: 3150.4874, train_label_loss: 0.7617, \n"
     ]
    },
    {
     "name": "stdout",
     "output_type": "stream",
     "text": [
      "epoch: 6, [batch: 2016 / 2520], examples_per_second: 3156.8684, train_label_loss: 0.3074, \n"
     ]
    },
    {
     "name": "stdout",
     "output_type": "stream",
     "text": [
      "epoch: 6, [batch: 2268 / 2520], examples_per_second: 3153.0335, train_label_loss: 0.4948, \n"
     ]
    },
    {
     "name": "stdout",
     "output_type": "stream",
     "text": [
      "=============================================================\n",
      "epoch: 6, source_val_acc_label: 0.5992, target_val_acc_label: 0.4932, source_val_label_loss: 1.2017, target_val_label_loss: 1.6391, \n",
      "=============================================================\n"
     ]
    },
    {
     "name": "stdout",
     "output_type": "stream",
     "text": [
      "New best\n"
     ]
    },
    {
     "name": "stdout",
     "output_type": "stream",
     "text": [
      "epoch: 7, [batch: 1 / 2520], examples_per_second: 11.0623, train_label_loss: 0.6056, \n"
     ]
    },
    {
     "name": "stdout",
     "output_type": "stream",
     "text": [
      "epoch: 7, [batch: 252 / 2520], examples_per_second: 3150.1512, train_label_loss: 0.3972, \n"
     ]
    },
    {
     "name": "stdout",
     "output_type": "stream",
     "text": [
      "epoch: 7, [batch: 504 / 2520], examples_per_second: 3142.2274, train_label_loss: 0.3156, \n"
     ]
    },
    {
     "name": "stdout",
     "output_type": "stream",
     "text": [
      "epoch: 7, [batch: 756 / 2520], examples_per_second: 3132.3760, train_label_loss: 0.3883, \n"
     ]
    },
    {
     "name": "stdout",
     "output_type": "stream",
     "text": [
      "epoch: 7, [batch: 1008 / 2520], examples_per_second: 3125.7203, train_label_loss: 0.4591, \n"
     ]
    },
    {
     "name": "stdout",
     "output_type": "stream",
     "text": [
      "epoch: 7, [batch: 1260 / 2520], examples_per_second: 3135.8522, train_label_loss: 0.2637, \n"
     ]
    },
    {
     "name": "stdout",
     "output_type": "stream",
     "text": [
      "epoch: 7, [batch: 1512 / 2520], examples_per_second: 3139.4454, train_label_loss: 0.4778, \n"
     ]
    },
    {
     "name": "stdout",
     "output_type": "stream",
     "text": [
      "epoch: 7, [batch: 1764 / 2520], examples_per_second: 3143.1011, train_label_loss: 0.3639, \n"
     ]
    },
    {
     "name": "stdout",
     "output_type": "stream",
     "text": [
      "epoch: 7, [batch: 2016 / 2520], examples_per_second: 3138.4822, train_label_loss: 0.3608, \n"
     ]
    },
    {
     "name": "stdout",
     "output_type": "stream",
     "text": [
      "epoch: 7, [batch: 2268 / 2520], examples_per_second: 3169.2385, train_label_loss: 0.3129, \n"
     ]
    },
    {
     "name": "stdout",
     "output_type": "stream",
     "text": [
      "=============================================================\n",
      "epoch: 7, source_val_acc_label: 0.5923, target_val_acc_label: 0.4980, source_val_label_loss: 1.3036, target_val_label_loss: 1.7598, \n",
      "=============================================================\n"
     ]
    },
    {
     "name": "stdout",
     "output_type": "stream",
     "text": [
      "New best\n"
     ]
    },
    {
     "name": "stdout",
     "output_type": "stream",
     "text": [
      "epoch: 8, [batch: 1 / 2520], examples_per_second: 11.1038, train_label_loss: 0.3258, \n"
     ]
    },
    {
     "name": "stdout",
     "output_type": "stream",
     "text": [
      "epoch: 8, [batch: 252 / 2520], examples_per_second: 3129.2857, train_label_loss: 0.2360, \n"
     ]
    },
    {
     "name": "stdout",
     "output_type": "stream",
     "text": [
      "epoch: 8, [batch: 504 / 2520], examples_per_second: 3150.2639, train_label_loss: 0.3198, \n"
     ]
    },
    {
     "name": "stdout",
     "output_type": "stream",
     "text": [
      "epoch: 8, [batch: 756 / 2520], examples_per_second: 3168.5117, train_label_loss: 0.3442, \n"
     ]
    },
    {
     "name": "stdout",
     "output_type": "stream",
     "text": [
      "epoch: 8, [batch: 1008 / 2520], examples_per_second: 3178.5513, train_label_loss: 0.4432, \n"
     ]
    },
    {
     "name": "stdout",
     "output_type": "stream",
     "text": [
      "epoch: 8, [batch: 1260 / 2520], examples_per_second: 3188.2800, train_label_loss: 0.2245, \n"
     ]
    },
    {
     "name": "stdout",
     "output_type": "stream",
     "text": [
      "epoch: 8, [batch: 1512 / 2520], examples_per_second: 3167.8169, train_label_loss: 0.3076, \n"
     ]
    },
    {
     "name": "stdout",
     "output_type": "stream",
     "text": [
      "epoch: 8, [batch: 1764 / 2520], examples_per_second: 3166.9298, train_label_loss: 0.3209, \n"
     ]
    },
    {
     "name": "stdout",
     "output_type": "stream",
     "text": [
      "epoch: 8, [batch: 2016 / 2520], examples_per_second: 3167.6295, train_label_loss: 0.0952, \n"
     ]
    },
    {
     "name": "stdout",
     "output_type": "stream",
     "text": [
      "epoch: 8, [batch: 2268 / 2520], examples_per_second: 3165.9999, train_label_loss: 0.4127, \n"
     ]
    },
    {
     "name": "stdout",
     "output_type": "stream",
     "text": [
      "=============================================================\n",
      "epoch: 8, source_val_acc_label: 0.5953, target_val_acc_label: 0.4967, source_val_label_loss: 1.4161, target_val_label_loss: 1.9110, \n",
      "=============================================================\n"
     ]
    },
    {
     "name": "stdout",
     "output_type": "stream",
     "text": [
      "epoch: 9, [batch: 1 / 2520], examples_per_second: 11.1074, train_label_loss: 0.6724, \n"
     ]
    },
    {
     "name": "stdout",
     "output_type": "stream",
     "text": [
      "epoch: 9, [batch: 252 / 2520], examples_per_second: 3148.5856, train_label_loss: 0.4434, \n"
     ]
    },
    {
     "name": "stdout",
     "output_type": "stream",
     "text": [
      "epoch: 9, [batch: 504 / 2520], examples_per_second: 3159.1568, train_label_loss: 0.2774, \n"
     ]
    },
    {
     "name": "stdout",
     "output_type": "stream",
     "text": [
      "epoch: 9, [batch: 756 / 2520], examples_per_second: 3155.4564, train_label_loss: 0.4311, \n"
     ]
    },
    {
     "name": "stdout",
     "output_type": "stream",
     "text": [
      "epoch: 9, [batch: 1008 / 2520], examples_per_second: 3165.2037, train_label_loss: 0.2618, \n"
     ]
    },
    {
     "name": "stdout",
     "output_type": "stream",
     "text": [
      "epoch: 9, [batch: 1260 / 2520], examples_per_second: 3187.4402, train_label_loss: 0.1637, \n"
     ]
    },
    {
     "name": "stdout",
     "output_type": "stream",
     "text": [
      "epoch: 9, [batch: 1512 / 2520], examples_per_second: 3171.4683, train_label_loss: 0.2131, \n"
     ]
    },
    {
     "name": "stdout",
     "output_type": "stream",
     "text": [
      "epoch: 9, [batch: 1764 / 2520], examples_per_second: 3149.5277, train_label_loss: 0.1426, \n"
     ]
    },
    {
     "name": "stdout",
     "output_type": "stream",
     "text": [
      "epoch: 9, [batch: 2016 / 2520], examples_per_second: 3175.1235, train_label_loss: 0.2088, \n"
     ]
    },
    {
     "name": "stdout",
     "output_type": "stream",
     "text": [
      "epoch: 9, [batch: 2268 / 2520], examples_per_second: 3169.8437, train_label_loss: 0.2859, \n"
     ]
    },
    {
     "name": "stdout",
     "output_type": "stream",
     "text": [
      "=============================================================\n",
      "epoch: 9, source_val_acc_label: 0.5975, target_val_acc_label: 0.4911, source_val_label_loss: 1.4290, target_val_label_loss: 1.9566, \n",
      "=============================================================\n"
     ]
    },
    {
     "name": "stdout",
     "output_type": "stream",
     "text": [
      "epoch: 10, [batch: 1 / 2520], examples_per_second: 11.1366, train_label_loss: 0.1674, \n"
     ]
    },
    {
     "name": "stdout",
     "output_type": "stream",
     "text": [
      "epoch: 10, [batch: 252 / 2520], examples_per_second: 3145.2310, train_label_loss: 0.2218, \n"
     ]
    },
    {
     "name": "stdout",
     "output_type": "stream",
     "text": [
      "epoch: 10, [batch: 504 / 2520], examples_per_second: 3146.7575, train_label_loss: 0.2525, \n"
     ]
    },
    {
     "name": "stdout",
     "output_type": "stream",
     "text": [
      "epoch: 10, [batch: 756 / 2520], examples_per_second: 3160.9461, train_label_loss: 0.3944, \n"
     ]
    },
    {
     "name": "stdout",
     "output_type": "stream",
     "text": [
      "epoch: 10, [batch: 1008 / 2520], examples_per_second: 3153.0928, train_label_loss: 0.1567, \n"
     ]
    },
    {
     "name": "stdout",
     "output_type": "stream",
     "text": [
      "epoch: 10, [batch: 1260 / 2520], examples_per_second: 3149.4483, train_label_loss: 0.1902, \n"
     ]
    },
    {
     "name": "stdout",
     "output_type": "stream",
     "text": [
      "epoch: 10, [batch: 1512 / 2520], examples_per_second: 3173.4891, train_label_loss: 0.3280, \n"
     ]
    },
    {
     "name": "stdout",
     "output_type": "stream",
     "text": [
      "epoch: 10, [batch: 1764 / 2520], examples_per_second: 3149.7487, train_label_loss: 0.0955, \n"
     ]
    },
    {
     "name": "stdout",
     "output_type": "stream",
     "text": [
      "epoch: 10, [batch: 2016 / 2520], examples_per_second: 3150.0062, train_label_loss: 0.2271, \n"
     ]
    },
    {
     "name": "stdout",
     "output_type": "stream",
     "text": [
      "epoch: 10, [batch: 2268 / 2520], examples_per_second: 3168.6263, train_label_loss: 0.3860, \n"
     ]
    },
    {
     "name": "stdout",
     "output_type": "stream",
     "text": [
      "=============================================================\n",
      "epoch: 10, source_val_acc_label: 0.5915, target_val_acc_label: 0.4931, source_val_label_loss: 1.5565, target_val_label_loss: 2.1030, \n",
      "=============================================================\n"
     ]
    },
    {
     "name": "stdout",
     "output_type": "stream",
     "text": [
      "epoch: 11, [batch: 1 / 2520], examples_per_second: 11.1492, train_label_loss: 0.0712, \n"
     ]
    },
    {
     "name": "stdout",
     "output_type": "stream",
     "text": [
      "epoch: 11, [batch: 252 / 2520], examples_per_second: 3150.1099, train_label_loss: 0.1629, \n"
     ]
    },
    {
     "name": "stdout",
     "output_type": "stream",
     "text": [
      "epoch: 11, [batch: 504 / 2520], examples_per_second: 3165.2796, train_label_loss: 0.4570, \n"
     ]
    },
    {
     "name": "stdout",
     "output_type": "stream",
     "text": [
      "epoch: 11, [batch: 756 / 2520], examples_per_second: 3153.2798, train_label_loss: 0.3903, \n"
     ]
    },
    {
     "name": "stdout",
     "output_type": "stream",
     "text": [
      "epoch: 11, [batch: 1008 / 2520], examples_per_second: 3152.3678, train_label_loss: 0.2405, \n"
     ]
    },
    {
     "name": "stdout",
     "output_type": "stream",
     "text": [
      "epoch: 11, [batch: 1260 / 2520], examples_per_second: 3158.4942, train_label_loss: 0.0560, \n"
     ]
    },
    {
     "name": "stdout",
     "output_type": "stream",
     "text": [
      "epoch: 11, [batch: 1512 / 2520], examples_per_second: 3171.1000, train_label_loss: 0.1186, \n"
     ]
    },
    {
     "name": "stdout",
     "output_type": "stream",
     "text": [
      "epoch: 11, [batch: 1764 / 2520], examples_per_second: 3159.6208, train_label_loss: 0.0597, \n"
     ]
    },
    {
     "name": "stdout",
     "output_type": "stream",
     "text": [
      "epoch: 11, [batch: 2016 / 2520], examples_per_second: 3152.4036, train_label_loss: 0.0651, \n"
     ]
    },
    {
     "name": "stdout",
     "output_type": "stream",
     "text": [
      "epoch: 11, [batch: 2268 / 2520], examples_per_second: 3165.2457, train_label_loss: 0.3153, \n"
     ]
    },
    {
     "name": "stdout",
     "output_type": "stream",
     "text": [
      "=============================================================\n",
      "epoch: 11, source_val_acc_label: 0.6000, target_val_acc_label: 0.4964, source_val_label_loss: 1.6071, target_val_label_loss: 2.1508, \n",
      "=============================================================\n"
     ]
    },
    {
     "name": "stdout",
     "output_type": "stream",
     "text": [
      "Patience (3) exhausted\n"
     ]
    }
   ],
   "source": [
    "###################################\n",
    "# train\n",
    "###################################\n",
    "jig = PTN_Train_Eval_Test_Jig(model, p.BEST_MODEL_PATH, p.device)\n",
    "\n",
    "jig.train(\n",
    "    train_iterable=datasets.source.processed.train,\n",
    "    source_val_iterable=datasets.source.processed.val,\n",
    "    target_val_iterable=datasets.target.processed.val,\n",
    "    num_epochs=p.n_epoch,\n",
    "    num_logs_per_epoch=p.NUM_LOGS_PER_EPOCH,\n",
    "    patience=p.patience,\n",
    "    optimizer=optimizer,\n",
    "    criteria_for_best=p.criteria_for_best,\n",
    ")"
   ]
  },
  {
   "cell_type": "code",
   "execution_count": 14,
   "id": "31e8fabf",
   "metadata": {
    "execution": {
     "iopub.execute_input": "2022-04-01T17:27:26.014605Z",
     "iopub.status.busy": "2022-04-01T17:27:26.014351Z",
     "iopub.status.idle": "2022-04-01T17:27:26.032201Z",
     "shell.execute_reply": "2022-04-01T17:27:26.032572Z"
    },
    "papermill": {
     "duration": 0.053828,
     "end_time": "2022-04-01T17:27:26.032676",
     "exception": false,
     "start_time": "2022-04-01T17:27:25.978848",
     "status": "completed"
    },
    "tags": []
   },
   "outputs": [],
   "source": [
    "total_experiment_time_secs = time.time() - start_time_secs"
   ]
  },
  {
   "cell_type": "code",
   "execution_count": 15,
   "id": "87b9595b",
   "metadata": {
    "execution": {
     "iopub.execute_input": "2022-04-01T17:27:26.108659Z",
     "iopub.status.busy": "2022-04-01T17:27:26.108278Z",
     "iopub.status.idle": "2022-04-01T17:28:14.906757Z",
     "shell.execute_reply": "2022-04-01T17:28:14.907168Z"
    },
    "papermill": {
     "duration": 48.837153,
     "end_time": "2022-04-01T17:28:14.907301",
     "exception": false,
     "start_time": "2022-04-01T17:27:26.070148",
     "status": "completed"
    },
    "tags": []
   },
   "outputs": [],
   "source": [
    "###################################\n",
    "# Evaluate the model\n",
    "###################################\n",
    "source_test_label_accuracy, source_test_label_loss = jig.test(datasets.source.processed.test)\n",
    "target_test_label_accuracy, target_test_label_loss = jig.test(datasets.target.processed.test)\n",
    "\n",
    "source_val_label_accuracy, source_val_label_loss = jig.test(datasets.source.processed.val)\n",
    "target_val_label_accuracy, target_val_label_loss = jig.test(datasets.target.processed.val)\n",
    "\n",
    "history = jig.get_history()\n",
    "\n",
    "total_epochs_trained = len(history[\"epoch_indices\"])\n",
    "\n",
    "val_dl = Iterable_Aggregator((datasets.source.original.val,datasets.target.original.val))\n",
    "\n",
    "confusion = ptn_confusion_by_domain_over_dataloader(model, p.device, val_dl)\n",
    "per_domain_accuracy = per_domain_accuracy_from_confusion(confusion)\n",
    "\n",
    "# Add a key to per_domain_accuracy for if it was a source domain\n",
    "for domain, accuracy in per_domain_accuracy.items():\n",
    "    per_domain_accuracy[domain] = {\n",
    "        \"accuracy\": accuracy,\n",
    "        \"source?\": domain in p.domains_source\n",
    "    }\n",
    "\n",
    "# Do an independent accuracy assesment JUST TO BE SURE!\n",
    "# _source_test_label_accuracy = independent_accuracy_assesment(model, datasets.source.processed.test, p.device)\n",
    "# _target_test_label_accuracy = independent_accuracy_assesment(model, datasets.target.processed.test, p.device)\n",
    "# _source_val_label_accuracy = independent_accuracy_assesment(model, datasets.source.processed.val, p.device)\n",
    "# _target_val_label_accuracy = independent_accuracy_assesment(model, datasets.target.processed.val, p.device)\n",
    "\n",
    "# assert(_source_test_label_accuracy == source_test_label_accuracy)\n",
    "# assert(_target_test_label_accuracy == target_test_label_accuracy)\n",
    "# assert(_source_val_label_accuracy == source_val_label_accuracy)\n",
    "# assert(_target_val_label_accuracy == target_val_label_accuracy)\n",
    "\n",
    "experiment = {\n",
    "    \"experiment_name\": p.experiment_name,\n",
    "    \"parameters\": dict(p),\n",
    "    \"results\": {\n",
    "        \"source_test_label_accuracy\": source_test_label_accuracy,\n",
    "        \"source_test_label_loss\": source_test_label_loss,\n",
    "        \"target_test_label_accuracy\": target_test_label_accuracy,\n",
    "        \"target_test_label_loss\": target_test_label_loss,\n",
    "        \"source_val_label_accuracy\": source_val_label_accuracy,\n",
    "        \"source_val_label_loss\": source_val_label_loss,\n",
    "        \"target_val_label_accuracy\": target_val_label_accuracy,\n",
    "        \"target_val_label_loss\": target_val_label_loss,\n",
    "        \"total_epochs_trained\": total_epochs_trained,\n",
    "        \"total_experiment_time_secs\": total_experiment_time_secs,\n",
    "        \"confusion\": confusion,\n",
    "        \"per_domain_accuracy\": per_domain_accuracy,\n",
    "    },\n",
    "    \"history\": history,\n",
    "    \"dataset_metrics\": get_dataset_metrics(datasets, \"ptn\"),\n",
    "}"
   ]
  },
  {
   "cell_type": "code",
   "execution_count": 16,
   "id": "54a21829",
   "metadata": {
    "execution": {
     "iopub.execute_input": "2022-04-01T17:28:14.979775Z",
     "iopub.status.busy": "2022-04-01T17:28:14.979514Z",
     "iopub.status.idle": "2022-04-01T17:28:15.109687Z",
     "shell.execute_reply": "2022-04-01T17:28:15.110095Z"
    },
    "papermill": {
     "duration": 0.166611,
     "end_time": "2022-04-01T17:28:15.110227",
     "exception": false,
     "start_time": "2022-04-01T17:28:14.943616",
     "status": "completed"
    },
    "tags": []
   },
   "outputs": [
    {
     "data": {
      "image/png": "[encoded data removed]",
      "text/plain": [
       "<Figure size 1080x504 with 1 Axes>"
      ]
     },
     "metadata": {
      "needs_background": "light"
     },
     "output_type": "display_data"
    }
   ],
   "source": [
    "ax = get_loss_curve(experiment)\n",
    "plt.show()"
   ]
  },
  {
   "cell_type": "code",
   "execution_count": 17,
   "id": "fd8a0f60",
   "metadata": {
    "execution": {
     "iopub.execute_input": "2022-04-01T17:28:15.183983Z",
     "iopub.status.busy": "2022-04-01T17:28:15.183732Z",
     "iopub.status.idle": "2022-04-01T17:28:15.322139Z",
     "shell.execute_reply": "2022-04-01T17:28:15.322359Z"
    },
    "papermill": {
     "duration": 0.174539,
     "end_time": "2022-04-01T17:28:15.322438",
     "exception": false,
     "start_time": "2022-04-01T17:28:15.147899",
     "status": "completed"
    },
    "tags": []
   },
   "outputs": [
    {
     "data": {
      "text/plain": [
       "<AxesSubplot:title={'center':'Results'}>"
      ]
     },
     "execution_count": 17,
     "metadata": {},
     "output_type": "execute_result"
    },
    {
     "data": {
      "image/png": "[encoded data removed]",
      "text/plain": [
       "<Figure size 1080x504 with 1 Axes>"
      ]
     },
     "metadata": {
      "needs_background": "light"
     },
     "output_type": "display_data"
    }
   ],
   "source": [
    "get_results_table(experiment)"
   ]
  },
  {
   "cell_type": "code",
   "execution_count": 18,
   "id": "cf8dc689",
   "metadata": {
    "execution": {
     "iopub.execute_input": "2022-04-01T17:28:15.400157Z",
     "iopub.status.busy": "2022-04-01T17:28:15.399862Z",
     "iopub.status.idle": "2022-04-01T17:28:15.518458Z",
     "shell.execute_reply": "2022-04-01T17:28:15.517961Z"
    },
    "papermill": {
     "duration": 0.159581,
     "end_time": "2022-04-01T17:28:15.518564",
     "exception": false,
     "start_time": "2022-04-01T17:28:15.358983",
     "status": "completed"
    },
    "tags": []
   },
   "outputs": [
    {
     "data": {
      "text/plain": [
       "<AxesSubplot:title={'center':'Per Domain Validation Accuracy'}, xlabel='domain'>"
      ]
     },
     "execution_count": 18,
     "metadata": {},
     "output_type": "execute_result"
    },
    {
     "data": {
      "image/png": "[encoded data removed]",
      "text/plain": [
       "<Figure size 1080x504 with 1 Axes>"
      ]
     },
     "metadata": {
      "needs_background": "light"
     },
     "output_type": "display_data"
    }
   ],
   "source": [
    "get_domain_accuracies(experiment)"
   ]
  },
  {
   "cell_type": "code",
   "execution_count": 19,
   "id": "a74ae082",
   "metadata": {
    "execution": {
     "iopub.execute_input": "2022-04-01T17:28:15.607542Z",
     "iopub.status.busy": "2022-04-01T17:28:15.599487Z",
     "iopub.status.idle": "2022-04-01T17:28:15.615483Z",
     "shell.execute_reply": "2022-04-01T17:28:15.615881Z"
    },
    "papermill": {
     "duration": 0.056133,
     "end_time": "2022-04-01T17:28:15.616003",
     "exception": false,
     "start_time": "2022-04-01T17:28:15.559870",
     "status": "completed"
    },
    "tags": []
   },
   "outputs": [
    {
     "name": "stdout",
     "output_type": "stream",
     "text": [
      "Source Test Label Accuracy: 0.5933159722222222 Target Test Label Accuracy: 0.4944791666666667\n",
      "Source Val Label Accuracy: 0.5922743055555556 Target Val Label Accuracy: 0.49802083333333336\n"
     ]
    }
   ],
   "source": [
    "print(\"Source Test Label Accuracy:\", experiment[\"results\"][\"source_test_label_accuracy\"], \"Target Test Label Accuracy:\", experiment[\"results\"][\"target_test_label_accuracy\"])\n",
    "print(\"Source Val Label Accuracy:\", experiment[\"results\"][\"source_val_label_accuracy\"], \"Target Val Label Accuracy:\", experiment[\"results\"][\"target_val_label_accuracy\"])"
   ]
  },
  {
   "cell_type": "code",
   "execution_count": 20,
   "id": "dacca602",
   "metadata": {
    "execution": {
     "iopub.execute_input": "2022-04-01T17:28:15.698352Z",
     "iopub.status.busy": "2022-04-01T17:28:15.698099Z",
     "iopub.status.idle": "2022-04-01T17:28:15.714717Z",
     "shell.execute_reply": "2022-04-01T17:28:15.715050Z"
    },
    "papermill": {
     "duration": 0.056222,
     "end_time": "2022-04-01T17:28:15.715148",
     "exception": false,
     "start_time": "2022-04-01T17:28:15.658926",
     "status": "completed"
    },
    "tags": [
     "experiment_json"
    ]
   },
   "outputs": [
    {
     "data": {
      "text/plain": [
       "'{\"experiment_name\": \"tuned_1v2:oracle.run2_limited\", \"parameters\": {\"experiment_name\": \"tuned_1v2:oracle.run2_limited\", \"device\": \"cuda\", \"lr\": 0.0001, \"labels_source\": [\"3123D52\", \"3123D65\", \"3123D79\", \"3123D80\", \"3123D54\", \"3123D70\", \"3123D7B\", \"3123D89\", \"3123D58\", \"3123D76\", \"3123D7D\", \"3123EFE\", \"3123D64\", \"3123D78\", \"3123D7E\", \"3124E4A\"], \"labels_target\": [\"3123D52\", \"3123D65\", \"3123D79\", \"3123D80\", \"3123D54\", \"3123D70\", \"3123D7B\", \"3123D89\", \"3123D58\", \"3123D76\", \"3123D7D\", \"3123EFE\", \"3123D64\", \"3123D78\", \"3123D7E\", \"3124E4A\"], \"episode_transforms_source\": [], \"episode_transforms_target\": [], \"domains_source\": [8, 32, 50], \"domains_target\": [14, 20, 26, 38, 44], \"num_examples_per_domain_per_label_source\": 2000, \"num_examples_per_domain_per_label_target\": 2000, \"n_shot\": 3, \"n_way\": 16, \"n_query\": 2, \"train_k_factor\": 3, \"val_k_factor\": 2, \"test_k_factor\": 2, \"torch_default_dtype\": \"torch.float32\", \"n_epoch\": 50, \"patience\": 3, \"criteria_for_best\": \"target_accuracy\", \"x_net\": [{\"class\": \"nnReshape\", \"kargs\": {\"shape\": [-1, 1, 2, 256]}}, {\"class\": \"Conv2d\", \"kargs\": {\"in_channels\": 1, \"out_channels\": 256, \"kernel_size\": [1, 7], \"bias\": false, \"padding\": [0, 3]}}, {\"class\": \"ReLU\", \"kargs\": {\"inplace\": true}}, {\"class\": \"BatchNorm2d\", \"kargs\": {\"num_features\": 256}}, {\"class\": \"Conv2d\", \"kargs\": {\"in_channels\": 256, \"out_channels\": 80, \"kernel_size\": [2, 7], \"bias\": true, \"padding\": [0, 3]}}, {\"class\": \"ReLU\", \"kargs\": {\"inplace\": true}}, {\"class\": \"BatchNorm2d\", \"kargs\": {\"num_features\": 80}}, {\"class\": \"Flatten\", \"kargs\": {}}, {\"class\": \"Linear\", \"kargs\": {\"in_features\": 20480, \"out_features\": 256}}, {\"class\": \"ReLU\", \"kargs\": {\"inplace\": true}}, {\"class\": \"BatchNorm1d\", \"kargs\": {\"num_features\": 256}}, {\"class\": \"Linear\", \"kargs\": {\"in_features\": 256, \"out_features\": 256}}], \"NUM_LOGS_PER_EPOCH\": 10, \"BEST_MODEL_PATH\": \"./best_model.pth\", \"pickle_name\": \"oracle.Run2_10kExamples_stratified_ds.2022A.pkl\", \"x_transforms_source\": [\"unit_power\"], \"x_transforms_target\": [\"unit_power\"], \"dataset_seed\": 1337, \"seed\": 1337}, \"results\": {\"source_test_label_accuracy\": 0.5933159722222222, \"source_test_label_loss\": 1.299053430557251, \"target_test_label_accuracy\": 0.4944791666666667, \"target_test_label_loss\": 1.7828377485275269, \"source_val_label_accuracy\": 0.5922743055555556, \"source_val_label_loss\": 1.3036402463912964, \"target_val_label_accuracy\": 0.49802083333333336, \"target_val_label_loss\": 1.759755253791809, \"total_epochs_trained\": 11, \"total_experiment_time_secs\": 810.8509304523468, \"confusion\": {\"8\": {\"15\": {\"15\": 92, \"11\": 60, \"8\": 28, \"3\": 18, \"12\": 30, \"2\": 8, \"7\": 4}, \"3\": {\"12\": 71, \"3\": 153, \"15\": 10, \"11\": 5, \"2\": 1}, \"6\": {\"0\": 3, \"8\": 17, \"4\": 49, \"7\": 53, \"6\": 70, \"2\": 20, \"13\": 9, \"14\": 19}, \"1\": {\"1\": 123, \"10\": 33, \"13\": 47, \"5\": 29, \"0\": 6, \"7\": 1, \"14\": 1}, \"8\": {\"8\": 134, \"11\": 42, \"15\": 20, \"4\": 7, \"6\": 13, \"2\": 9, \"7\": 13, \"14\": 2}, \"10\": {\"10\": 92, \"0\": 46, \"13\": 20, \"5\": 32, \"1\": 28, \"14\": 22}, \"9\": {\"9\": 238, \"5\": 2}, \"13\": {\"0\": 29, \"13\": 90, \"14\": 49, \"1\": 42, \"6\": 3, \"5\": 3, \"10\": 23, \"7\": 1}, \"12\": {\"15\": 30, \"12\": 132, \"3\": 60, \"11\": 17, \"8\": 1}, \"5\": {\"5\": 161, \"10\": 42, \"0\": 10, \"1\": 21, \"13\": 3, \"14\": 1, \"9\": 2}, \"0\": {\"0\": 80, \"13\": 35, \"14\": 59, \"10\": 47, \"5\": 3, \"7\": 2, \"1\": 7, \"4\": 3, \"6\": 4}, \"2\": {\"7\": 52, \"2\": 130, \"6\": 10, \"4\": 42, \"3\": 2, \"8\": 2, \"11\": 1, \"15\": 1}, \"11\": {\"11\": 78, \"2\": 2, \"8\": 53, \"12\": 26, \"15\": 67, \"3\": 9, \"6\": 3, \"7\": 2}, \"14\": {\"0\": 56, \"4\": 9, \"14\": 78, \"13\": 51, \"6\": 22, \"10\": 17, \"1\": 7}, \"7\": {\"2\": 67, \"8\": 20, \"6\": 48, \"7\": 49, \"4\": 50, \"15\": 1, \"11\": 4, \"0\": 1}, \"4\": {\"4\": 60, \"8\": 12, \"2\": 43, \"6\": 65, \"7\": 45, \"13\": 1, \"11\": 1, \"14\": 10, \"0\": 3}}, \"50\": {\"3\": {\"3\": 223, \"8\": 17}, \"15\": {\"15\": 201, \"1\": 16, \"14\": 5, \"11\": 16, \"6\": 2}, \"8\": {\"8\": 224, \"3\": 16}, \"4\": {\"5\": 63, \"6\": 53, \"4\": 105, \"1\": 13, \"2\": 2, \"13\": 1, \"7\": 2, \"0\": 1}, \"14\": {\"14\": 218, \"11\": 9, \"15\": 3, \"12\": 10}, \"0\": {\"0\": 183, \"10\": 13, \"6\": 1, \"5\": 9, \"2\": 28, \"7\": 1, \"4\": 4, \"1\": 1}, \"7\": {\"7\": 84, \"5\": 17, \"4\": 2, \"10\": 53, \"13\": 80, \"8\": 2, \"0\": 2}, \"6\": {\"6\": 99, \"1\": 74, \"5\": 7, \"4\": 44, \"0\": 2, \"10\": 1, \"2\": 4, \"15\": 9}, \"10\": {\"7\": 53, \"13\": 39, \"10\": 121, \"5\": 9, \"0\": 17, \"4\": 1}, \"5\": {\"7\": 25, \"10\": 14, \"4\": 52, \"5\": 99, \"13\": 15, \"6\": 20, \"0\": 12, \"1\": 2, \"2\": 1}, \"2\": {\"2\": 190, \"0\": 42, \"1\": 5, \"6\": 3}, \"12\": {\"12\": 212, \"11\": 4, \"9\": 14, \"14\": 10}, \"9\": {\"9\": 196, \"12\": 39, \"11\": 5}, \"1\": {\"1\": 137, \"6\": 63, \"4\": 11, \"15\": 19, \"2\": 4, \"5\": 3, \"14\": 3}, \"11\": {\"11\": 194, \"14\": 18, \"15\": 15, \"12\": 8, \"9\": 5}, \"13\": {\"13\": 89, \"7\": 86, \"10\": 59, \"5\": 6}}, \"32\": {\"5\": {\"2\": 35, \"5\": 69, \"8\": 25, \"4\": 25, \"13\": 7, \"0\": 44, \"14\": 18, \"15\": 2, \"7\": 7, \"11\": 8}, \"8\": {\"5\": 23, \"8\": 114, \"13\": 38, \"7\": 5, \"3\": 7, \"0\": 15, \"4\": 28, \"15\": 8, \"11\": 2}, \"11\": {\"11\": 70, \"2\": 23, \"7\": 67, \"0\": 25, \"13\": 23, \"5\": 4, \"4\": 23, \"8\": 4, \"14\": 1}, \"1\": {\"1\": 239, \"10\": 1}, \"10\": {\"10\": 235, \"6\": 3, \"1\": 2}, \"15\": {\"15\": 221, \"8\": 17, \"5\": 2}, \"3\": {\"3\": 220, \"8\": 4, \"13\": 12, \"7\": 3, \"4\": 1}, \"7\": {\"13\": 30, \"8\": 2, \"7\": 110, \"4\": 21, \"0\": 13, \"11\": 53, \"3\": 3, \"2\": 7, \"5\": 1}, \"4\": {\"13\": 35, \"11\": 35, \"7\": 30, \"4\": 46, \"0\": 46, \"3\": 1, \"5\": 23, \"2\": 6, \"8\": 18}, \"14\": {\"2\": 48, \"14\": 174, \"5\": 8, \"0\": 5, \"4\": 2, \"9\": 2, \"11\": 1}, \"9\": {\"9\": 225, \"14\": 13, \"12\": 2}, \"12\": {\"12\": 240}, \"6\": {\"6\": 240}, \"2\": {\"2\": 138, \"5\": 15, \"4\": 2, \"11\": 17, \"14\": 46, \"0\": 18, \"8\": 2, \"7\": 2}, \"0\": {\"0\": 66, \"4\": 47, \"2\": 17, \"8\": 11, \"5\": 49, \"13\": 13, \"7\": 13, \"11\": 23, \"14\": 1}, \"13\": {\"11\": 29, \"0\": 14, \"7\": 42, \"13\": 81, \"3\": 9, \"8\": 29, \"4\": 32, \"2\": 2, \"5\": 2}}, \"14\": {\"15\": {\"15\": 191, \"7\": 48, \"2\": 1}, \"3\": {\"4\": 36, \"3\": 130, \"8\": 11, \"1\": 9, \"0\": 5, \"5\": 17, \"2\": 8, \"14\": 22, \"6\": 2}, \"6\": {\"13\": 61, \"6\": 92, \"2\": 27, \"4\": 10, \"5\": 6, \"14\": 39, \"3\": 4, \"1\": 1}, \"1\": {\"1\": 143, \"5\": 45, \"4\": 27, \"3\": 10, \"7\": 3, \"2\": 10, \"14\": 1, \"8\": 1}, \"8\": {\"8\": 229, \"1\": 3, \"4\": 2, \"3\": 5, \"12\": 1}, \"10\": {\"10\": 178, \"0\": 44, \"11\": 14, \"12\": 2, \"14\": 1, \"9\": 1}, \"9\": {\"9\": 225, \"11\": 5, \"0\": 2, \"10\": 1, \"12\": 7}, \"13\": {\"13\": 143, \"2\": 31, \"6\": 43, \"5\": 6, \"14\": 12, \"4\": 3, \"1\": 2}, \"12\": {\"11\": 63, \"12\": 131, \"9\": 18, \"0\": 11, \"8\": 5, \"10\": 12}, \"5\": {\"5\": 64, \"1\": 49, \"2\": 19, \"4\": 72, \"3\": 26, \"6\": 8, \"13\": 2}, \"0\": {\"0\": 202, \"10\": 24, \"9\": 3, \"3\": 7, \"14\": 1, \"8\": 2, \"2\": 1}, \"2\": {\"2\": 55, \"13\": 28, \"1\": 12, \"3\": 37, \"14\": 22, \"5\": 29, \"4\": 29, \"6\": 24, \"15\": 2, \"0\": 2}, \"11\": {\"11\": 201, \"12\": 15, \"9\": 16, \"10\": 8}, \"14\": {\"2\": 19, \"3\": 29, \"6\": 58, \"14\": 100, \"5\": 9, \"4\": 13, \"13\": 8, \"0\": 4}, \"7\": {\"7\": 210, \"15\": 26, \"5\": 1, \"1\": 2, \"13\": 1}, \"4\": {\"4\": 66, \"14\": 8, \"1\": 29, \"5\": 73, \"3\": 34, \"2\": 20, \"6\": 7, \"8\": 1, \"13\": 2}}, \"20\": {\"3\": {\"10\": 12, \"4\": 18, \"2\": 43, \"7\": 32, \"9\": 17, \"3\": 48, \"13\": 9, \"8\": 18, \"0\": 2, \"1\": 3, \"5\": 20, \"15\": 5, \"12\": 10, \"14\": 3}, \"15\": {\"13\": 55, \"4\": 4, \"15\": 36, \"2\": 26, \"12\": 25, \"7\": 2, \"0\": 19, \"3\": 6, \"5\": 11, \"9\": 28, \"1\": 26, \"8\": 1, \"11\": 1}, \"8\": {\"10\": 63, \"8\": 52, \"7\": 40, \"4\": 7, \"6\": 10, \"3\": 19, \"14\": 29, \"5\": 11, \"9\": 2, \"11\": 3, \"2\": 3, \"12\": 1}, \"4\": {\"4\": 121, \"2\": 3, \"5\": 29, \"1\": 10, \"9\": 9, \"0\": 16, \"12\": 20, \"3\": 10, \"8\": 10, \"7\": 5, \"10\": 3, \"13\": 1, \"15\": 2, \"14\": 1}, \"14\": {\"14\": 89, \"6\": 39, \"10\": 58, \"3\": 5, \"8\": 35, \"7\": 11, \"4\": 3}, \"0\": {\"15\": 13, \"0\": 59, \"9\": 8, \"12\": 30, \"1\": 61, \"5\": 14, \"3\": 7, \"4\": 29, \"2\": 5, \"13\": 14}, \"7\": {\"8\": 38, \"11\": 8, \"7\": 107, \"6\": 7, \"3\": 28, \"10\": 15, \"14\": 12, \"5\": 6, \"9\": 5, \"12\": 1, \"2\": 8, \"4\": 1, \"15\": 1, \"0\": 2, \"13\": 1}, \"6\": {\"14\": 41, \"10\": 13, \"6\": 160, \"3\": 1, \"8\": 4, \"7\": 17, \"11\": 4}, \"10\": {\"7\": 33, \"6\": 14, \"3\": 12, \"14\": 60, \"10\": 59, \"8\": 49, \"4\": 9, \"2\": 2, \"5\": 2}, \"5\": {\"13\": 17, \"4\": 30, \"8\": 10, \"9\": 27, \"15\": 21, \"1\": 15, \"3\": 28, \"5\": 29, \"0\": 10, \"2\": 28, \"12\": 15, \"7\": 10}, \"2\": {\"9\": 34, \"2\": 49, \"15\": 24, \"7\": 12, \"13\": 22, \"8\": 4, \"5\": 36, \"12\": 13, \"3\": 28, \"11\": 1, \"0\": 5, \"1\": 5, \"4\": 7}, \"12\": {\"13\": 23, \"3\": 8, \"9\": 13, \"1\": 42, \"15\": 30, \"0\": 40, \"5\": 13, \"4\": 22, \"12\": 39, \"2\": 9, \"7\": 1}, \"9\": {\"4\": 21, \"2\": 32, \"3\": 23, \"15\": 29, \"7\": 5, \"13\": 19, \"9\": 42, \"0\": 9, \"5\": 29, \"12\": 19, \"1\": 6, \"10\": 1, \"8\": 5}, \"1\": {\"1\": 83, \"4\": 13, \"15\": 22, \"0\": 59, \"12\": 24, \"5\": 3, \"13\": 16, \"3\": 3, \"8\": 1, \"9\": 10, \"2\": 6}, \"11\": {\"11\": 228, \"6\": 4, \"7\": 5, \"2\": 1, \"3\": 1, \"14\": 1}, \"13\": {\"0\": 9, \"15\": 40, \"5\": 17, \"7\": 3, \"1\": 14, \"13\": 100, \"2\": 21, \"9\": 16, \"3\": 4, \"12\": 13, \"4\": 1, \"11\": 2}}, \"44\": {\"5\": {\"14\": 36, \"5\": 185, \"4\": 2, \"8\": 13, \"15\": 3, \"0\": 1}, \"8\": {\"8\": 135, \"0\": 97, \"5\": 7, \"14\": 1}, \"11\": {\"11\": 199, \"6\": 38, \"7\": 3}, \"1\": {\"12\": 74, \"10\": 3, \"1\": 115, \"3\": 45, \"7\": 2, \"2\": 1}, \"10\": {\"10\": 225, \"1\": 4, \"12\": 11}, \"15\": {\"15\": 168, \"4\": 17, \"14\": 51, \"5\": 3, \"8\": 1}, \"3\": {\"3\": 184, \"1\": 33, \"7\": 2, \"12\": 18, \"2\": 3}, \"7\": {\"9\": 63, \"7\": 94, \"2\": 58, \"1\": 10, \"6\": 12, \"12\": 2, \"3\": 1}, \"4\": {\"4\": 201, \"13\": 7, \"14\": 21, \"15\": 11}, \"14\": {\"14\": 138, \"5\": 33, \"15\": 49, \"4\": 18, \"8\": 2}, \"9\": {\"9\": 67, \"2\": 104, \"7\": 53, \"11\": 4, \"6\": 5, \"4\": 3, \"1\": 2, \"3\": 2}, \"12\": {\"1\": 77, \"12\": 135, \"3\": 22, \"10\": 6}, \"6\": {\"2\": 5, \"6\": 175, \"9\": 15, \"11\": 30, \"7\": 8, \"13\": 7}, \"2\": {\"9\": 75, \"2\": 105, \"7\": 48, \"1\": 3, \"3\": 2, \"6\": 7}, \"0\": {\"0\": 136, \"8\": 103, \"14\": 1}, \"13\": {\"13\": 210, \"6\": 11, \"7\": 2, \"4\": 13, \"9\": 2, \"14\": 1, \"2\": 1}}, \"38\": {\"14\": {\"14\": 121, \"2\": 66, \"12\": 27, \"11\": 18, \"8\": 1, \"7\": 3, \"5\": 1, \"13\": 2, \"15\": 1}, \"0\": {\"0\": 166, \"3\": 52, \"9\": 10, \"13\": 1, \"6\": 6, \"10\": 4, \"7\": 1}, \"13\": {\"15\": 49, \"8\": 29, \"13\": 40, \"2\": 9, \"1\": 44, \"3\": 16, \"0\": 2, \"5\": 26, \"7\": 10, \"6\": 6, \"14\": 5, \"9\": 1, \"10\": 3}, \"7\": {\"8\": 27, \"10\": 79, \"7\": 90, \"0\": 4, \"3\": 6, \"5\": 27, \"15\": 3, \"12\": 1, \"13\": 3}, \"9\": {\"9\": 150, \"6\": 82, \"0\": 4, \"3\": 4}, \"3\": {\"3\": 66, \"8\": 17, \"13\": 9, \"10\": 14, \"0\": 45, \"9\": 21, \"15\": 21, \"5\": 7, \"6\": 27, \"7\": 9, \"1\": 4}, \"11\": {\"2\": 12, \"11\": 158, \"14\": 47, \"4\": 3, \"12\": 20}, \"6\": {\"6\": 142, \"9\": 82, \"15\": 1, \"3\": 12, \"0\": 1, \"13\": 2}, \"8\": {\"15\": 54, \"8\": 68, \"5\": 48, \"7\": 20, \"13\": 24, \"0\": 3, \"10\": 7, \"3\": 10, \"1\": 5, \"6\": 1}, \"4\": {\"4\": 212, \"12\": 25, \"7\": 2, \"10\": 1}, \"5\": {\"8\": 66, \"5\": 60, \"1\": 3, \"13\": 36, \"15\": 37, \"7\": 21, \"10\": 9, \"3\": 7, \"14\": 1}, \"10\": {\"10\": 113, \"0\": 6, \"7\": 78, \"8\": 11, \"4\": 5, \"3\": 6, \"5\": 15, \"12\": 1, \"13\": 2, \"15\": 3}, \"1\": {\"1\": 186, \"5\": 7, \"13\": 25, \"15\": 16, \"8\": 6}, \"2\": {\"2\": 213, \"14\": 26, \"11\": 1}, \"15\": {\"5\": 37, \"6\": 2, \"13\": 44, \"1\": 25, \"3\": 18, \"8\": 29, \"0\": 3, \"15\": 73, \"7\": 9}, \"12\": {\"14\": 12, \"12\": 209, \"4\": 13, \"2\": 1, \"7\": 4, \"11\": 1}}, \"26\": {\"13\": {\"13\": 110, \"9\": 41, \"5\": 43, \"6\": 28, \"7\": 3, \"2\": 4, \"10\": 4, \"0\": 1, \"8\": 5, \"15\": 1}, \"2\": {\"4\": 35, \"7\": 36, \"9\": 12, \"14\": 5, \"3\": 29, \"10\": 3, \"2\": 45, \"8\": 19, \"15\": 25, \"5\": 12, \"0\": 13, \"1\": 5, \"6\": 1}, \"8\": {\"5\": 24, \"9\": 41, \"8\": 59, \"0\": 17, \"7\": 17, \"2\": 13, \"13\": 6, \"10\": 16, \"14\": 16, \"1\": 5, \"6\": 9, \"4\": 14, \"15\": 1, \"3\": 2}, \"9\": {\"9\": 49, \"13\": 44, \"4\": 4, \"8\": 31, \"6\": 25, \"5\": 40, \"2\": 11, \"14\": 8, \"7\": 10, \"10\": 8, \"3\": 1, \"15\": 3, \"0\": 2, \"1\": 4}, \"12\": {\"12\": 220, \"11\": 20}, \"4\": {\"2\": 21, \"4\": 98, \"14\": 17, \"7\": 19, \"15\": 14, \"8\": 9, \"0\": 24, \"3\": 23, \"1\": 6, \"5\": 3, \"10\": 4, \"9\": 2}, \"3\": {\"3\": 83, \"2\": 27, \"15\": 78, \"4\": 24, \"7\": 22, \"9\": 1, \"8\": 4, \"1\": 1}, \"15\": {\"3\": 66, \"15\": 78, \"4\": 25, \"2\": 27, \"7\": 31, \"0\": 2, \"8\": 2, \"5\": 7, \"9\": 2}, \"14\": {\"4\": 14, \"9\": 13, \"14\": 40, \"0\": 44, \"7\": 6, \"8\": 23, \"2\": 8, \"1\": 50, \"10\": 28, \"6\": 5, \"13\": 3, \"5\": 3, \"15\": 3}, \"10\": {\"10\": 44, \"2\": 8, \"8\": 27, \"1\": 45, \"6\": 31, \"4\": 15, \"5\": 5, \"0\": 25, \"14\": 24, \"9\": 7, \"3\": 1, \"12\": 2, \"13\": 1, \"7\": 5}, \"7\": {\"7\": 42, \"3\": 26, \"4\": 20, \"2\": 43, \"15\": 30, \"0\": 6, \"8\": 23, \"9\": 15, \"14\": 4, \"10\": 6, \"5\": 20, \"1\": 1, \"13\": 4}, \"11\": {\"11\": 222, \"12\": 18}, \"6\": {\"6\": 127, \"13\": 30, \"9\": 22, \"5\": 13, \"10\": 25, \"14\": 5, \"1\": 8, \"7\": 2, \"8\": 7, \"0\": 1}, \"1\": {\"8\": 14, \"1\": 71, \"10\": 50, \"6\": 6, \"0\": 38, \"14\": 43, \"4\": 9, \"5\": 3, \"9\": 3, \"7\": 2, \"13\": 1}, \"5\": {\"13\": 52, \"9\": 34, \"6\": 40, \"7\": 13, \"5\": 35, \"10\": 9, \"2\": 17, \"8\": 16, \"1\": 3, \"14\": 6, \"4\": 3, \"12\": 1, \"15\": 4, \"3\": 6, \"0\": 1}, \"0\": {\"4\": 36, \"0\": 39, \"2\": 7, \"14\": 52, \"8\": 16, \"15\": 5, \"9\": 5, \"1\": 37, \"6\": 5, \"7\": 4, \"10\": 27, \"3\": 6, \"5\": 1}}}, \"per_domain_accuracy\": {\"8\": {\"accuracy\": 0.4583333333333333, \"source?\": true}, \"50\": {\"accuracy\": 0.6705729166666666, \"source?\": true}, \"32\": {\"accuracy\": 0.6479166666666667, \"source?\": true}, \"14\": {\"accuracy\": 0.6145833333333334, \"source?\": false}, \"20\": {\"accuracy\": 0.33880208333333334, \"source?\": false}, \"44\": {\"accuracy\": 0.64375, \"source?\": false}, \"38\": {\"accuracy\": 0.53828125, \"source?\": false}, \"26\": {\"accuracy\": 0.3546875, \"source?\": false}}}, \"history\": {\"epoch_indices\": [1, 2, 3, 4, 5, 6, 7, 8, 9, 10, 11], \"train_label_loss\": [1.754983972840839, 1.3345095703053096, 1.0997489313284556, 0.8329557783310375, 0.6622723576982343, 0.5300374992103094, 0.4259944724628613, 0.3492920594023807, 0.2869412035326518, 0.24341546439802245, 0.20766515037680547], \"source_val_label_loss\": [1.5187866687774658, 1.3746126890182495, 1.153539776802063, 1.115846872329712, 1.1721832752227783, 1.2017496824264526, 1.3036402463912964, 1.4161311388015747, 1.4289954900741577, 1.5565344095230103, 1.6070765256881714], \"target_val_label_loss\": [1.9642140865325928, 1.8609132766723633, 1.5438653230667114, 1.5095887184143066, 1.5863163471221924, 1.6390559673309326, 1.759755253791809, 1.9109753370285034, 1.9566268920898438, 2.1030075550079346, 2.150822877883911], \"source_val_acc_label\": [0.40208333333333335, 0.4353298611111111, 0.5491319444444445, 0.5828993055555556, 0.5899305555555555, 0.59921875, 0.5922743055555556, 0.5953125, 0.5974826388888889, 0.5914930555555555, 0.6], \"target_val_acc_label\": [0.27979166666666666, 0.30744791666666665, 0.4528125, 0.4788541666666667, 0.48822916666666666, 0.49322916666666666, 0.49802083333333336, 0.49666666666666665, 0.49109375, 0.493125, 0.49635416666666665]}, \"dataset_metrics\": {\"source\": {\"train\": {\"n_unique_x\": 67200, \"n_unique_y\": 16, \"n_batch/episode\": 2520}, \"val\": {\"n_unique_x\": 14400, \"n_unique_y\": 16, \"n_batch/episode\": 360}, \"test\": {\"n_unique_x\": 14400, \"n_unique_y\": 16, \"n_batch/episode\": 360}}, \"target\": {\"train\": {\"n_unique_x\": 112000, \"n_unique_y\": 16, \"n_batch/episode\": 4200}, \"val\": {\"n_unique_x\": 24000, \"n_unique_y\": 16, \"n_batch/episode\": 600}, \"test\": {\"n_unique_x\": 24000, \"n_unique_y\": 16, \"n_batch/episode\": 600}}}}'"
      ]
     },
     "execution_count": 20,
     "metadata": {},
     "output_type": "execute_result"
    }
   ],
   "source": [
    "json.dumps(experiment)"
   ]
  }
 ],
 "metadata": {
  "celltoolbar": "Tags",
  "kernelspec": {
   "display_name": "Python 3 (ipykernel)",
   "language": "python",
   "name": "python3"
  },
  "language_info": {
   "codemirror_mode": {
    "name": "ipython",
    "version": 3
   },
   "file_extension": ".py",
   "mimetype": "text/x-python",
   "name": "python",
   "nbconvert_exporter": "python",
   "pygments_lexer": "ipython3",
   "version": "3.8.10"
  },
  "papermill": {
   "default_parameters": {},
   "duration": 863.53496,
   "end_time": "2022-04-01T17:28:16.665625",
   "environment_variables": {},
   "exception": null,
   "input_path": "/mnt/wd500GB/CSC500/csc500-main/csc500-notebooks/templates/ptn_template.ipynb",
   "output_path": "trial.ipynb",
   "parameters": {
    "parameters": {
     "BEST_MODEL_PATH": "./best_model.pth",
     "NUM_LOGS_PER_EPOCH": 10,
     "criteria_for_best": "target_accuracy",
     "dataset_seed": 1337,
     "device": "cuda",
     "domains_source": [
      8,
      32,
      50
     ],
     "domains_target": [
      14,
      20,
      26,
      38,
      44
     ],
     "episode_transforms_source": [],
     "episode_transforms_target": [],
     "experiment_name": "tuned_1v2:oracle.run2_limited",
     "labels_source": [
      "3123D52",
      "3123D65",
      "3123D79",
      "3123D80",
      "3123D54",
      "3123D70",
      "3123D7B",
      "3123D89",
      "3123D58",
      "3123D76",
      "3123D7D",
      "3123EFE",
      "3123D64",
      "3123D78",
      "3123D7E",
      "3124E4A"
     ],
     "labels_target": [
      "3123D52",
      "3123D65",
      "3123D79",
      "3123D80",
      "3123D54",
      "3123D70",
      "3123D7B",
      "3123D89",
      "3123D58",
      "3123D76",
      "3123D7D",
      "3123EFE",
      "3123D64",
      "3123D78",
      "3123D7E",
      "3124E4A"
     ],
     "lr": 0.0001,
     "n_epoch": 50,
     "n_query": 2,
     "n_shot": 3,
     "n_way": 16,
     "num_examples_per_domain_per_label_source": 2000,
     "num_examples_per_domain_per_label_target": 2000,
     "patience": 3,
     "pickle_name": "oracle.Run2_10kExamples_stratified_ds.2022A.pkl",
     "seed": 1337,
     "test_k_factor": 2,
     "torch_default_dtype": "torch.float32",
     "train_k_factor": 3,
     "val_k_factor": 2,
     "x_net": [
      {
       "class": "nnReshape",
       "kargs": {
        "shape": [
         -1,
         1,
         2,
         256
        ]
       }
      },
      {
       "class": "Conv2d",
       "kargs": {
        "bias": false,
        "in_channels": 1,
        "kernel_size": [
         1,
         7
        ],
        "out_channels": 256,
        "padding": [
         0,
         3
        ]
       }
      },
      {
       "class": "ReLU",
       "kargs": {
        "inplace": true
       }
      },
      {
       "class": "BatchNorm2d",
       "kargs": {
        "num_features": 256
       }
      },
      {
       "class": "Conv2d",
       "kargs": {
        "bias": true,
        "in_channels": 256,
        "kernel_size": [
         2,
         7
        ],
        "out_channels": 80,
        "padding": [
         0,
         3
        ]
       }
      },
      {
       "class": "ReLU",
       "kargs": {
        "inplace": true
       }
      },
      {
       "class": "BatchNorm2d",
       "kargs": {
        "num_features": 80
       }
      },
      {
       "class": "Flatten",
       "kargs": {}
      },
      {
       "class": "Linear",
       "kargs": {
        "in_features": 20480,
        "out_features": 256
       }
      },
      {
       "class": "ReLU",
       "kargs": {
        "inplace": true
       }
      },
      {
       "class": "BatchNorm1d",
       "kargs": {
        "num_features": 256
       }
      },
      {
       "class": "Linear",
       "kargs": {
        "in_features": 256,
        "out_features": 256
       }
      }
     ],
     "x_transforms_source": [
      "unit_power"
     ],
     "x_transforms_target": [
      "unit_power"
     ]
    }
   },
   "start_time": "2022-04-01T17:13:53.130665",
   "version": "2.3.4"
  }
 },
 "nbformat": 4,
 "nbformat_minor": 5
}