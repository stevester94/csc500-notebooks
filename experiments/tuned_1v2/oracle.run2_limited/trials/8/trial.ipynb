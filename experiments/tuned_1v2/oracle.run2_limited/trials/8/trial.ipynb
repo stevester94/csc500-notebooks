{
 "cells": [
  {
   "cell_type": "markdown",
   "id": "9fea5f46",
   "metadata": {
    "papermill": {
     "duration": 0.023663,
     "end_time": "2022-03-26T15:52:51.858864",
     "exception": false,
     "start_time": "2022-03-26T15:52:51.835201",
     "status": "completed"
    },
    "tags": []
   },
   "source": [
    "# PTN Template\n",
    "This notebook serves as a template for single dataset PTN experiments  \n",
    "It can be run on its own by setting STANDALONE to True (do a find for \"STANDALONE\" to see where)  \n",
    "But it is intended to be executed as part of a *papermill.py script. See any of the   \n",
    "experimentes with a papermill script to get started with that workflow.  "
   ]
  },
  {
   "cell_type": "code",
   "execution_count": 1,
   "id": "0902182a",
   "metadata": {
    "execution": {
     "iopub.execute_input": "2022-03-26T15:52:51.909558Z",
     "iopub.status.busy": "2022-03-26T15:52:51.908682Z",
     "iopub.status.idle": "2022-03-26T15:52:53.723221Z",
     "shell.execute_reply": "2022-03-26T15:52:53.722796Z"
    },
    "papermill": {
     "duration": 1.846978,
     "end_time": "2022-03-26T15:52:53.723326",
     "exception": false,
     "start_time": "2022-03-26T15:52:51.876348",
     "status": "completed"
    },
    "tags": []
   },
   "outputs": [],
   "source": [
    "%load_ext autoreload\n",
    "%autoreload 2\n",
    "%matplotlib inline\n",
    "\n",
    "    \n",
    "import os, json, sys, time, random\n",
    "import numpy as np\n",
    "import torch\n",
    "from torch.optim import Adam\n",
    "from  easydict import EasyDict\n",
    "import matplotlib.pyplot as plt\n",
    "\n",
    "from steves_models.steves_ptn import Steves_Prototypical_Network\n",
    "\n",
    "from steves_utils.lazy_iterable_wrapper import Lazy_Iterable_Wrapper\n",
    "from steves_utils.iterable_aggregator import Iterable_Aggregator\n",
    "from steves_utils.ptn_train_eval_test_jig import  PTN_Train_Eval_Test_Jig\n",
    "from steves_utils.torch_sequential_builder import build_sequential\n",
    "from steves_utils.torch_utils import get_dataset_metrics, ptn_confusion_by_domain_over_dataloader\n",
    "from steves_utils.utils_v2 import (per_domain_accuracy_from_confusion, get_datasets_base_path)\n",
    "from steves_utils.PTN.utils import independent_accuracy_assesment\n",
    "\n",
    "from steves_utils.stratified_dataset.episodic_accessor import Episodic_Accessor_Factory\n",
    "\n",
    "from steves_utils.ptn_do_report import (\n",
    "    get_loss_curve,\n",
    "    get_results_table,\n",
    "    get_parameters_table,\n",
    "    get_domain_accuracies,\n",
    ")\n",
    "\n",
    "from steves_utils.transforms import get_chained_transform"
   ]
  },
  {
   "cell_type": "markdown",
   "id": "41c840b4",
   "metadata": {
    "papermill": {
     "duration": 0.014574,
     "end_time": "2022-03-26T15:52:53.753005",
     "exception": false,
     "start_time": "2022-03-26T15:52:53.738431",
     "status": "completed"
    },
    "tags": []
   },
   "source": [
    "# Required Parameters\n",
    "These are allowed parameters, not defaults\n",
    "Each of these values need to be present in the injected parameters (the notebook will raise an exception if they are not present)\n",
    "\n",
    "Papermill uses the cell tag \"parameters\" to inject the real parameters below this cell.\n",
    "Enable tags to see what I mean"
   ]
  },
  {
   "cell_type": "code",
   "execution_count": 2,
   "id": "fd44eb83",
   "metadata": {
    "execution": {
     "iopub.execute_input": "2022-03-26T15:52:53.787439Z",
     "iopub.status.busy": "2022-03-26T15:52:53.787047Z",
     "iopub.status.idle": "2022-03-26T15:52:53.810133Z",
     "shell.execute_reply": "2022-03-26T15:52:53.810444Z"
    },
    "papermill": {
     "duration": 0.043156,
     "end_time": "2022-03-26T15:52:53.810537",
     "exception": false,
     "start_time": "2022-03-26T15:52:53.767381",
     "status": "completed"
    },
    "tags": []
   },
   "outputs": [],
   "source": [
    "required_parameters = {\n",
    "    \"experiment_name\",\n",
    "    \"lr\",\n",
    "    \"device\",\n",
    "    \"seed\",\n",
    "    \"dataset_seed\",\n",
    "    \"labels_source\",\n",
    "    \"labels_target\",\n",
    "    \"domains_source\",\n",
    "    \"domains_target\",\n",
    "    \"num_examples_per_domain_per_label_source\",\n",
    "    \"num_examples_per_domain_per_label_target\",\n",
    "    \"n_shot\",\n",
    "    \"n_way\",\n",
    "    \"n_query\",\n",
    "    \"train_k_factor\",\n",
    "    \"val_k_factor\",\n",
    "    \"test_k_factor\",\n",
    "    \"n_epoch\",\n",
    "    \"patience\",\n",
    "    \"criteria_for_best\",\n",
    "    \"x_transforms_source\",\n",
    "    \"x_transforms_target\",\n",
    "    \"episode_transforms_source\",\n",
    "    \"episode_transforms_target\",\n",
    "    \"pickle_name\",\n",
    "    \"x_net\",\n",
    "    \"NUM_LOGS_PER_EPOCH\",\n",
    "    \"BEST_MODEL_PATH\",\n",
    "    \"torch_default_dtype\"\n",
    "}"
   ]
  },
  {
   "cell_type": "code",
   "execution_count": 3,
   "id": "fa3f0049",
   "metadata": {
    "execution": {
     "iopub.execute_input": "2022-03-26T15:52:53.855026Z",
     "iopub.status.busy": "2022-03-26T15:52:53.852426Z",
     "iopub.status.idle": "2022-03-26T15:52:53.873694Z",
     "shell.execute_reply": "2022-03-26T15:52:53.873369Z"
    },
    "papermill": {
     "duration": 0.048517,
     "end_time": "2022-03-26T15:52:53.873769",
     "exception": false,
     "start_time": "2022-03-26T15:52:53.825252",
     "status": "completed"
    },
    "tags": [
     "parameters"
    ]
   },
   "outputs": [],
   "source": [
    "\n",
    "\n",
    "standalone_parameters = {}\n",
    "standalone_parameters[\"experiment_name\"] = \"STANDALONE PTN\"\n",
    "standalone_parameters[\"lr\"] = 0.0001\n",
    "standalone_parameters[\"device\"] = \"cuda\"\n",
    "\n",
    "standalone_parameters[\"seed\"] = 1337\n",
    "standalone_parameters[\"dataset_seed\"] = 1337\n",
    "\n",
    "\n",
    "standalone_parameters[\"num_examples_per_domain_per_label_source\"]=100\n",
    "standalone_parameters[\"num_examples_per_domain_per_label_target\"]=100\n",
    "\n",
    "standalone_parameters[\"n_shot\"] = 3\n",
    "standalone_parameters[\"n_query\"]  = 2\n",
    "standalone_parameters[\"train_k_factor\"] = 1\n",
    "standalone_parameters[\"val_k_factor\"] = 2\n",
    "standalone_parameters[\"test_k_factor\"] = 2\n",
    "\n",
    "\n",
    "standalone_parameters[\"n_epoch\"] = 100\n",
    "\n",
    "standalone_parameters[\"patience\"] = 10\n",
    "standalone_parameters[\"criteria_for_best\"] = \"target_accuracy\"\n",
    "\n",
    "standalone_parameters[\"x_transforms_source\"] = [\"unit_power\"]\n",
    "standalone_parameters[\"x_transforms_target\"] = [\"unit_power\"]\n",
    "standalone_parameters[\"episode_transforms_source\"] = []\n",
    "standalone_parameters[\"episode_transforms_target\"] = []\n",
    "\n",
    "standalone_parameters[\"torch_default_dtype\"] = \"torch.float32\" \n",
    "\n",
    "\n",
    "\n",
    "standalone_parameters[\"x_net\"] =     [\n",
    "    {\"class\": \"nnReshape\", \"kargs\": {\"shape\":[-1, 1, 2, 256]}},\n",
    "    {\"class\": \"Conv2d\", \"kargs\": { \"in_channels\":1, \"out_channels\":256, \"kernel_size\":(1,7), \"bias\":False, \"padding\":(0,3), },},\n",
    "    {\"class\": \"ReLU\", \"kargs\": {\"inplace\": True}},\n",
    "    {\"class\": \"BatchNorm2d\", \"kargs\": {\"num_features\":256}},\n",
    "\n",
    "    {\"class\": \"Conv2d\", \"kargs\": { \"in_channels\":256, \"out_channels\":80, \"kernel_size\":(2,7), \"bias\":True, \"padding\":(0,3), },},\n",
    "    {\"class\": \"ReLU\", \"kargs\": {\"inplace\": True}},\n",
    "    {\"class\": \"BatchNorm2d\", \"kargs\": {\"num_features\":80}},\n",
    "    {\"class\": \"Flatten\", \"kargs\": {}},\n",
    "\n",
    "    {\"class\": \"Linear\", \"kargs\": {\"in_features\": 80*256, \"out_features\": 256}}, # 80 units per IQ pair\n",
    "    {\"class\": \"ReLU\", \"kargs\": {\"inplace\": True}},\n",
    "    {\"class\": \"BatchNorm1d\", \"kargs\": {\"num_features\":256}},\n",
    "\n",
    "    {\"class\": \"Linear\", \"kargs\": {\"in_features\": 256, \"out_features\": 256}},\n",
    "]\n",
    "\n",
    "# Parameters relevant to results\n",
    "# These parameters will basically never need to change\n",
    "standalone_parameters[\"NUM_LOGS_PER_EPOCH\"] = 10\n",
    "standalone_parameters[\"BEST_MODEL_PATH\"] = \"./best_model.pth\"\n",
    "\n",
    "# uncomment for CORES dataset\n",
    "from steves_utils.CORES.utils import (\n",
    "    ALL_NODES,\n",
    "    ALL_NODES_MINIMUM_1000_EXAMPLES,\n",
    "    ALL_DAYS\n",
    ")\n",
    "\n",
    "\n",
    "standalone_parameters[\"labels_source\"] = ALL_NODES\n",
    "standalone_parameters[\"labels_target\"] = ALL_NODES\n",
    "\n",
    "standalone_parameters[\"domains_source\"] = [1]\n",
    "standalone_parameters[\"domains_target\"] = [2,3,4,5]\n",
    "\n",
    "standalone_parameters[\"pickle_name\"] = \"cores.stratified_ds.2022A.pkl\"\n",
    "\n",
    "\n",
    "# Uncomment these for ORACLE dataset\n",
    "# from steves_utils.ORACLE.utils_v2 import (\n",
    "#     ALL_DISTANCES_FEET,\n",
    "#     ALL_RUNS,\n",
    "#     ALL_SERIAL_NUMBERS,\n",
    "# )\n",
    "# standalone_parameters[\"labels_source\"] = ALL_SERIAL_NUMBERS\n",
    "# standalone_parameters[\"labels_target\"] = ALL_SERIAL_NUMBERS\n",
    "# standalone_parameters[\"domains_source\"] = [8,20, 38,50]\n",
    "# standalone_parameters[\"domains_target\"] = [14, 26, 32, 44, 56]\n",
    "# standalone_parameters[\"pickle_name\"] = \"oracle.frame_indexed.stratified_ds.2022A.pkl\"\n",
    "# standalone_parameters[\"num_examples_per_domain_per_label_source\"]=1000\n",
    "# standalone_parameters[\"num_examples_per_domain_per_label_target\"]=1000\n",
    "\n",
    "# Uncomment these for Metahan dataset\n",
    "# standalone_parameters[\"labels_source\"] = list(range(19))\n",
    "# standalone_parameters[\"labels_target\"] = list(range(19))\n",
    "# standalone_parameters[\"domains_source\"] = [0]\n",
    "# standalone_parameters[\"domains_target\"] = [1]\n",
    "# standalone_parameters[\"pickle_name\"] = \"metehan.stratified_ds.2022A.pkl\"\n",
    "# standalone_parameters[\"n_way\"]  = len(standalone_parameters[\"labels_source\"])\n",
    "# standalone_parameters[\"num_examples_per_domain_per_label_source\"]=200\n",
    "# standalone_parameters[\"num_examples_per_domain_per_label_target\"]=100\n",
    "\n",
    "\n",
    "standalone_parameters[\"n_way\"]  = len(standalone_parameters[\"labels_source\"])"
   ]
  },
  {
   "cell_type": "code",
   "execution_count": 4,
   "id": "da759625",
   "metadata": {
    "execution": {
     "iopub.execute_input": "2022-03-26T15:52:53.911296Z",
     "iopub.status.busy": "2022-03-26T15:52:53.910875Z",
     "iopub.status.idle": "2022-03-26T15:52:53.928590Z",
     "shell.execute_reply": "2022-03-26T15:52:53.928214Z"
    },
    "papermill": {
     "duration": 0.039862,
     "end_time": "2022-03-26T15:52:53.928665",
     "exception": false,
     "start_time": "2022-03-26T15:52:53.888803",
     "status": "completed"
    },
    "tags": [
     "injected-parameters"
    ]
   },
   "outputs": [],
   "source": [
    "# Parameters\n",
    "parameters = {\n",
    "    \"experiment_name\": \"tuned_1v2:oracle.run2_limited\",\n",
    "    \"device\": \"cuda\",\n",
    "    \"lr\": 0.0001,\n",
    "    \"labels_source\": [\n",
    "        \"3123D52\",\n",
    "        \"3123D65\",\n",
    "        \"3123D79\",\n",
    "        \"3123D80\",\n",
    "        \"3123D54\",\n",
    "        \"3123D70\",\n",
    "        \"3123D7B\",\n",
    "        \"3123D89\",\n",
    "        \"3123D58\",\n",
    "        \"3123D76\",\n",
    "        \"3123D7D\",\n",
    "        \"3123EFE\",\n",
    "        \"3123D64\",\n",
    "        \"3123D78\",\n",
    "        \"3123D7E\",\n",
    "        \"3124E4A\",\n",
    "    ],\n",
    "    \"labels_target\": [\n",
    "        \"3123D52\",\n",
    "        \"3123D65\",\n",
    "        \"3123D79\",\n",
    "        \"3123D80\",\n",
    "        \"3123D54\",\n",
    "        \"3123D70\",\n",
    "        \"3123D7B\",\n",
    "        \"3123D89\",\n",
    "        \"3123D58\",\n",
    "        \"3123D76\",\n",
    "        \"3123D7D\",\n",
    "        \"3123EFE\",\n",
    "        \"3123D64\",\n",
    "        \"3123D78\",\n",
    "        \"3123D7E\",\n",
    "        \"3124E4A\",\n",
    "    ],\n",
    "    \"episode_transforms_source\": [],\n",
    "    \"episode_transforms_target\": [],\n",
    "    \"domains_source\": [8, 32, 50],\n",
    "    \"domains_target\": [14, 20, 26, 38, 44],\n",
    "    \"num_examples_per_domain_per_label_source\": -1,\n",
    "    \"num_examples_per_domain_per_label_target\": -1,\n",
    "    \"n_shot\": 3,\n",
    "    \"n_way\": 16,\n",
    "    \"n_query\": 2,\n",
    "    \"train_k_factor\": 3,\n",
    "    \"val_k_factor\": 2,\n",
    "    \"test_k_factor\": 2,\n",
    "    \"torch_default_dtype\": \"torch.float32\",\n",
    "    \"n_epoch\": 50,\n",
    "    \"patience\": 3,\n",
    "    \"criteria_for_best\": \"target_accuracy\",\n",
    "    \"x_net\": [\n",
    "        {\"class\": \"nnReshape\", \"kargs\": {\"shape\": [-1, 1, 2, 256]}},\n",
    "        {\n",
    "            \"class\": \"Conv2d\",\n",
    "            \"kargs\": {\n",
    "                \"in_channels\": 1,\n",
    "                \"out_channels\": 256,\n",
    "                \"kernel_size\": [1, 7],\n",
    "                \"bias\": False,\n",
    "                \"padding\": [0, 3],\n",
    "            },\n",
    "        },\n",
    "        {\"class\": \"ReLU\", \"kargs\": {\"inplace\": True}},\n",
    "        {\"class\": \"BatchNorm2d\", \"kargs\": {\"num_features\": 256}},\n",
    "        {\n",
    "            \"class\": \"Conv2d\",\n",
    "            \"kargs\": {\n",
    "                \"in_channels\": 256,\n",
    "                \"out_channels\": 80,\n",
    "                \"kernel_size\": [2, 7],\n",
    "                \"bias\": True,\n",
    "                \"padding\": [0, 3],\n",
    "            },\n",
    "        },\n",
    "        {\"class\": \"ReLU\", \"kargs\": {\"inplace\": True}},\n",
    "        {\"class\": \"BatchNorm2d\", \"kargs\": {\"num_features\": 80}},\n",
    "        {\"class\": \"Flatten\", \"kargs\": {}},\n",
    "        {\"class\": \"Linear\", \"kargs\": {\"in_features\": 20480, \"out_features\": 256}},\n",
    "        {\"class\": \"ReLU\", \"kargs\": {\"inplace\": True}},\n",
    "        {\"class\": \"BatchNorm1d\", \"kargs\": {\"num_features\": 256}},\n",
    "        {\"class\": \"Linear\", \"kargs\": {\"in_features\": 256, \"out_features\": 256}},\n",
    "    ],\n",
    "    \"NUM_LOGS_PER_EPOCH\": 10,\n",
    "    \"BEST_MODEL_PATH\": \"./best_model.pth\",\n",
    "    \"pickle_name\": \"oracle.Run2_10kExamples_stratified_ds.2022A.pkl\",\n",
    "    \"x_transforms_source\": [\"unit_power\"],\n",
    "    \"x_transforms_target\": [\"unit_power\"],\n",
    "    \"dataset_seed\": 1337,\n",
    "    \"seed\": 1337,\n",
    "}\n"
   ]
  },
  {
   "cell_type": "code",
   "execution_count": 5,
   "id": "8fa1cc33",
   "metadata": {
    "execution": {
     "iopub.execute_input": "2022-03-26T15:52:53.964962Z",
     "iopub.status.busy": "2022-03-26T15:52:53.964192Z",
     "iopub.status.idle": "2022-03-26T15:52:53.983133Z",
     "shell.execute_reply": "2022-03-26T15:52:53.982762Z"
    },
    "papermill": {
     "duration": 0.039698,
     "end_time": "2022-03-26T15:52:53.983207",
     "exception": false,
     "start_time": "2022-03-26T15:52:53.943509",
     "status": "completed"
    },
    "tags": []
   },
   "outputs": [],
   "source": [
    "# Set this to True if you want to run this template directly\n",
    "STANDALONE = False\n",
    "if STANDALONE:\n",
    "    print(\"parameters not injected, running with standalone_parameters\")\n",
    "    parameters = standalone_parameters\n",
    "\n",
    "if not 'parameters' in locals() and not 'parameters' in globals():\n",
    "    raise Exception(\"Parameter injection failed\")\n",
    "\n",
    "#Use an easy dict for all the parameters\n",
    "p = EasyDict(parameters)\n",
    "\n",
    "supplied_keys = set(p.keys())\n",
    "\n",
    "if  supplied_keys != required_parameters:\n",
    "    print(\"Parameters are incorrect\")\n",
    "    if len(supplied_keys - required_parameters)>0: print(\"Shouldn't have:\", str(supplied_keys - required_parameters))\n",
    "    if len(required_parameters - supplied_keys)>0: print(\"Need to have:\", str(required_parameters - supplied_keys))\n",
    "    raise RuntimeError(\"Parameters are incorrect\")\n",
    "\n"
   ]
  },
  {
   "cell_type": "code",
   "execution_count": 6,
   "id": "3a028d58",
   "metadata": {
    "execution": {
     "iopub.execute_input": "2022-03-26T15:52:54.018027Z",
     "iopub.status.busy": "2022-03-26T15:52:54.017459Z",
     "iopub.status.idle": "2022-03-26T15:52:54.038073Z",
     "shell.execute_reply": "2022-03-26T15:52:54.037746Z"
    },
    "papermill": {
     "duration": 0.039886,
     "end_time": "2022-03-26T15:52:54.038148",
     "exception": false,
     "start_time": "2022-03-26T15:52:53.998262",
     "status": "completed"
    },
    "tags": []
   },
   "outputs": [],
   "source": [
    "###################################\n",
    "# Set the RNGs and make it all deterministic\n",
    "###################################\n",
    "np.random.seed(p.seed)\n",
    "random.seed(p.seed)\n",
    "torch.manual_seed(p.seed)\n",
    "\n",
    "torch.use_deterministic_algorithms(True) "
   ]
  },
  {
   "cell_type": "code",
   "execution_count": 7,
   "id": "b691acf6",
   "metadata": {
    "execution": {
     "iopub.execute_input": "2022-03-26T15:52:54.072241Z",
     "iopub.status.busy": "2022-03-26T15:52:54.071618Z",
     "iopub.status.idle": "2022-03-26T15:52:54.092659Z",
     "shell.execute_reply": "2022-03-26T15:52:54.092287Z"
    },
    "papermill": {
     "duration": 0.039489,
     "end_time": "2022-03-26T15:52:54.092736",
     "exception": false,
     "start_time": "2022-03-26T15:52:54.053247",
     "status": "completed"
    },
    "tags": []
   },
   "outputs": [],
   "source": [
    "###########################################\n",
    "# The stratified datasets honor this\n",
    "###########################################\n",
    "torch.set_default_dtype(eval(p.torch_default_dtype))"
   ]
  },
  {
   "cell_type": "code",
   "execution_count": 8,
   "id": "b5fba671",
   "metadata": {
    "execution": {
     "iopub.execute_input": "2022-03-26T15:52:54.125974Z",
     "iopub.status.busy": "2022-03-26T15:52:54.125596Z",
     "iopub.status.idle": "2022-03-26T15:52:54.175391Z",
     "shell.execute_reply": "2022-03-26T15:52:54.175061Z"
    },
    "papermill": {
     "duration": 0.067367,
     "end_time": "2022-03-26T15:52:54.175471",
     "exception": false,
     "start_time": "2022-03-26T15:52:54.108104",
     "status": "completed"
    },
    "tags": []
   },
   "outputs": [],
   "source": [
    "###################################\n",
    "# Build the network(s)\n",
    "# Note: It's critical to do this AFTER setting the RNG\n",
    "# (This is due to the randomized initial weights)\n",
    "###################################\n",
    "x_net = build_sequential(p.x_net)"
   ]
  },
  {
   "cell_type": "code",
   "execution_count": 9,
   "id": "5d7e61cc",
   "metadata": {
    "execution": {
     "iopub.execute_input": "2022-03-26T15:52:54.209604Z",
     "iopub.status.busy": "2022-03-26T15:52:54.209229Z",
     "iopub.status.idle": "2022-03-26T15:52:54.233495Z",
     "shell.execute_reply": "2022-03-26T15:52:54.233168Z"
    },
    "papermill": {
     "duration": 0.042834,
     "end_time": "2022-03-26T15:52:54.233571",
     "exception": false,
     "start_time": "2022-03-26T15:52:54.190737",
     "status": "completed"
    },
    "tags": []
   },
   "outputs": [],
   "source": [
    "start_time_secs = time.time()"
   ]
  },
  {
   "cell_type": "code",
   "execution_count": 10,
   "id": "fd5442bc",
   "metadata": {
    "execution": {
     "iopub.execute_input": "2022-03-26T15:52:54.275844Z",
     "iopub.status.busy": "2022-03-26T15:52:54.275346Z",
     "iopub.status.idle": "2022-03-26T15:54:45.841460Z",
     "shell.execute_reply": "2022-03-26T15:54:45.840671Z"
    },
    "papermill": {
     "duration": 111.592631,
     "end_time": "2022-03-26T15:54:45.841650",
     "exception": false,
     "start_time": "2022-03-26T15:52:54.249019",
     "status": "completed"
    },
    "tags": []
   },
   "outputs": [],
   "source": [
    "###################################\n",
    "# Build the dataset\n",
    "###################################\n",
    "\n",
    "if p.x_transforms_source == []: x_transform_source = None\n",
    "else: x_transform_source = get_chained_transform(p.x_transforms_source) \n",
    "\n",
    "if p.x_transforms_target == []: x_transform_target = None\n",
    "else: x_transform_target = get_chained_transform(p.x_transforms_target)\n",
    "\n",
    "if p.episode_transforms_source == []: episode_transform_source = None\n",
    "else: raise Exception(\"episode_transform_source not implemented\")\n",
    "\n",
    "if p.episode_transforms_target == []: episode_transform_target = None\n",
    "else: raise Exception(\"episode_transform_target not implemented\")\n",
    "\n",
    "\n",
    "eaf_source = Episodic_Accessor_Factory(\n",
    "    labels=p.labels_source,\n",
    "    domains=p.domains_source,\n",
    "    num_examples_per_domain_per_label=p.num_examples_per_domain_per_label_source,\n",
    "    iterator_seed=p.seed,\n",
    "    dataset_seed=p.dataset_seed,\n",
    "    n_shot=p.n_shot,\n",
    "    n_way=p.n_way,\n",
    "    n_query=p.n_query,\n",
    "    train_val_test_k_factors=(p.train_k_factor,p.val_k_factor,p.test_k_factor),\n",
    "    pickle_path=os.path.join(get_datasets_base_path(), p.pickle_name),\n",
    "    x_transform_func=x_transform_source,\n",
    "    example_transform_func=episode_transform_source,\n",
    "    \n",
    ")\n",
    "train_original_source, val_original_source, test_original_source = eaf_source.get_train(), eaf_source.get_val(), eaf_source.get_test()\n",
    "\n",
    "\n",
    "eaf_target = Episodic_Accessor_Factory(\n",
    "    labels=p.labels_target,\n",
    "    domains=p.domains_target,\n",
    "    num_examples_per_domain_per_label=p.num_examples_per_domain_per_label_target,\n",
    "    iterator_seed=p.seed,\n",
    "    dataset_seed=p.dataset_seed,\n",
    "    n_shot=p.n_shot,\n",
    "    n_way=p.n_way,\n",
    "    n_query=p.n_query,\n",
    "    train_val_test_k_factors=(p.train_k_factor,p.val_k_factor,p.test_k_factor),\n",
    "    pickle_path=os.path.join(get_datasets_base_path(), p.pickle_name),\n",
    "    x_transform_func=x_transform_target,\n",
    "    example_transform_func=episode_transform_target,\n",
    ")\n",
    "train_original_target, val_original_target, test_original_target = eaf_target.get_train(), eaf_target.get_val(), eaf_target.get_test()\n",
    "\n",
    "\n",
    "transform_lambda = lambda ex: ex[1] # Original is (<domain>, <episode>) so we strip down to episode only\n",
    "\n",
    "train_processed_source = Lazy_Iterable_Wrapper(train_original_source, transform_lambda)\n",
    "val_processed_source   = Lazy_Iterable_Wrapper(val_original_source, transform_lambda)\n",
    "test_processed_source  = Lazy_Iterable_Wrapper(test_original_source, transform_lambda)\n",
    "\n",
    "train_processed_target = Lazy_Iterable_Wrapper(train_original_target, transform_lambda)\n",
    "val_processed_target   = Lazy_Iterable_Wrapper(val_original_target, transform_lambda)\n",
    "test_processed_target  = Lazy_Iterable_Wrapper(test_original_target, transform_lambda)\n",
    "\n",
    "datasets = EasyDict({\n",
    "    \"source\": {\n",
    "        \"original\": {\"train\":train_original_source, \"val\":val_original_source, \"test\":test_original_source},\n",
    "        \"processed\": {\"train\":train_processed_source, \"val\":val_processed_source, \"test\":test_processed_source}\n",
    "    },\n",
    "    \"target\": {\n",
    "        \"original\": {\"train\":train_original_target, \"val\":val_original_target, \"test\":test_original_target},\n",
    "        \"processed\": {\"train\":train_processed_target, \"val\":val_processed_target, \"test\":test_processed_target}\n",
    "    },\n",
    "})"
   ]
  },
  {
   "cell_type": "code",
   "execution_count": 11,
   "id": "296189d9",
   "metadata": {
    "execution": {
     "iopub.execute_input": "2022-03-26T15:54:45.884025Z",
     "iopub.status.busy": "2022-03-26T15:54:45.883433Z",
     "iopub.status.idle": "2022-03-26T15:54:51.849030Z",
     "shell.execute_reply": "2022-03-26T15:54:51.848133Z"
    },
    "papermill": {
     "duration": 5.987808,
     "end_time": "2022-03-26T15:54:51.849162",
     "exception": false,
     "start_time": "2022-03-26T15:54:45.861354",
     "status": "completed"
    },
    "tags": []
   },
   "outputs": [
    {
     "name": "stdout",
     "output_type": "stream",
     "text": [
      "Visually inspect these to see if they line up with expected values given the transforms\n",
      "x_transforms_source ['unit_power']\n",
      "x_transforms_target ['unit_power']\n",
      "Average magnitude, source: 0.8931209\n",
      "Average power, source: 1.0\n"
     ]
    },
    {
     "name": "stdout",
     "output_type": "stream",
     "text": [
      "Average magnitude, target: 0.9123239\n",
      "Average power, target: 0.99999994\n"
     ]
    }
   ],
   "source": [
    "# Some quick unit tests on the data\n",
    "from steves_utils.transforms import get_average_power, get_average_magnitude\n",
    "\n",
    "q_x, q_y, s_x, s_y, truth = next(iter(train_processed_source))\n",
    "\n",
    "assert q_x.dtype == eval(p.torch_default_dtype)\n",
    "assert s_x.dtype == eval(p.torch_default_dtype)\n",
    "\n",
    "print(\"Visually inspect these to see if they line up with expected values given the transforms\")\n",
    "print('x_transforms_source', p.x_transforms_source)\n",
    "print('x_transforms_target', p.x_transforms_target)\n",
    "print(\"Average magnitude, source:\", get_average_magnitude(q_x[0].numpy()))\n",
    "print(\"Average power, source:\", get_average_power(q_x[0].numpy()))\n",
    "\n",
    "q_x, q_y, s_x, s_y, truth = next(iter(train_processed_target))\n",
    "print(\"Average magnitude, target:\", get_average_magnitude(q_x[0].numpy()))\n",
    "print(\"Average power, target:\", get_average_power(q_x[0].numpy()))\n"
   ]
  },
  {
   "cell_type": "code",
   "execution_count": 12,
   "id": "bbdacba1",
   "metadata": {
    "execution": {
     "iopub.execute_input": "2022-03-26T15:54:51.891273Z",
     "iopub.status.busy": "2022-03-26T15:54:51.890762Z",
     "iopub.status.idle": "2022-03-26T15:54:52.165075Z",
     "shell.execute_reply": "2022-03-26T15:54:52.164326Z"
    },
    "papermill": {
     "duration": 0.29426,
     "end_time": "2022-03-26T15:54:52.165263",
     "exception": false,
     "start_time": "2022-03-26T15:54:51.871003",
     "status": "completed"
    },
    "tags": []
   },
   "outputs": [
    {
     "name": "stdout",
     "output_type": "stream",
     "text": [
      "(2, 256)\n"
     ]
    }
   ],
   "source": [
    "###################################\n",
    "# Build the model\n",
    "###################################\n",
    "model = Steves_Prototypical_Network(x_net, device=p.device, x_shape=(2,256))\n",
    "optimizer = Adam(params=model.parameters(), lr=p.lr)"
   ]
  },
  {
   "cell_type": "code",
   "execution_count": 13,
   "id": "22b39ac5",
   "metadata": {
    "execution": {
     "iopub.execute_input": "2022-03-26T15:54:52.210375Z",
     "iopub.status.busy": "2022-03-26T15:54:52.209121Z",
     "iopub.status.idle": "2022-03-26T16:50:58.973995Z",
     "shell.execute_reply": "2022-03-26T16:50:58.973643Z"
    },
    "papermill": {
     "duration": 3366.785257,
     "end_time": "2022-03-26T16:50:58.974085",
     "exception": false,
     "start_time": "2022-03-26T15:54:52.188828",
     "status": "completed"
    },
    "tags": []
   },
   "outputs": [
    {
     "name": "stdout",
     "output_type": "stream",
     "text": [
      "epoch: 1, [batch: 1 / 12600], examples_per_second: 17.1200, train_label_loss: 2.7878, \n"
     ]
    },
    {
     "name": "stdout",
     "output_type": "stream",
     "text": [
      "epoch: 1, [batch: 1260 / 12600], examples_per_second: 4138.6316, train_label_loss: 1.8701, \n"
     ]
    },
    {
     "name": "stdout",
     "output_type": "stream",
     "text": [
      "epoch: 1, [batch: 2520 / 12600], examples_per_second: 3904.2439, train_label_loss: 1.2495, \n"
     ]
    },
    {
     "name": "stdout",
     "output_type": "stream",
     "text": [
      "epoch: 1, [batch: 3780 / 12600], examples_per_second: 3956.6751, train_label_loss: 1.4463, \n"
     ]
    },
    {
     "name": "stdout",
     "output_type": "stream",
     "text": [
      "epoch: 1, [batch: 5040 / 12600], examples_per_second: 3932.7446, train_label_loss: 1.1347, \n"
     ]
    },
    {
     "name": "stdout",
     "output_type": "stream",
     "text": [
      "epoch: 1, [batch: 6300 / 12600], examples_per_second: 3897.2811, train_label_loss: 1.4041, \n"
     ]
    },
    {
     "name": "stdout",
     "output_type": "stream",
     "text": [
      "epoch: 1, [batch: 7560 / 12600], examples_per_second: 3877.1185, train_label_loss: 1.4613, \n"
     ]
    },
    {
     "name": "stdout",
     "output_type": "stream",
     "text": [
      "epoch: 1, [batch: 8820 / 12600], examples_per_second: 3856.4853, train_label_loss: 1.1521, \n"
     ]
    },
    {
     "name": "stdout",
     "output_type": "stream",
     "text": [
      "epoch: 1, [batch: 10080 / 12600], examples_per_second: 3854.2384, train_label_loss: 0.8445, \n"
     ]
    },
    {
     "name": "stdout",
     "output_type": "stream",
     "text": [
      "epoch: 1, [batch: 11340 / 12600], examples_per_second: 3810.7761, train_label_loss: 0.8966, \n"
     ]
    },
    {
     "name": "stdout",
     "output_type": "stream",
     "text": [
      "=============================================================\n",
      "epoch: 1, source_val_acc_label: 0.6150, target_val_acc_label: 0.5017, source_val_label_loss: 1.0200, target_val_label_loss: 1.4521, \n",
      "=============================================================\n"
     ]
    },
    {
     "name": "stdout",
     "output_type": "stream",
     "text": [
      "New best\n"
     ]
    },
    {
     "name": "stdout",
     "output_type": "stream",
     "text": [
      "epoch: 2, [batch: 1 / 12600], examples_per_second: 1.9008, train_label_loss: 1.3909, \n"
     ]
    },
    {
     "name": "stdout",
     "output_type": "stream",
     "text": [
      "epoch: 2, [batch: 1260 / 12600], examples_per_second: 3885.9949, train_label_loss: 0.6108, \n"
     ]
    },
    {
     "name": "stdout",
     "output_type": "stream",
     "text": [
      "epoch: 2, [batch: 2520 / 12600], examples_per_second: 3846.3374, train_label_loss: 0.4807, \n"
     ]
    },
    {
     "name": "stdout",
     "output_type": "stream",
     "text": [
      "epoch: 2, [batch: 3780 / 12600], examples_per_second: 3862.9046, train_label_loss: 1.1053, \n"
     ]
    },
    {
     "name": "stdout",
     "output_type": "stream",
     "text": [
      "epoch: 2, [batch: 5040 / 12600], examples_per_second: 3972.4002, train_label_loss: 0.9790, \n"
     ]
    },
    {
     "name": "stdout",
     "output_type": "stream",
     "text": [
      "epoch: 2, [batch: 6300 / 12600], examples_per_second: 4020.7515, train_label_loss: 0.9366, \n"
     ]
    },
    {
     "name": "stdout",
     "output_type": "stream",
     "text": [
      "epoch: 2, [batch: 7560 / 12600], examples_per_second: 4008.0465, train_label_loss: 1.0334, \n"
     ]
    },
    {
     "name": "stdout",
     "output_type": "stream",
     "text": [
      "epoch: 2, [batch: 8820 / 12600], examples_per_second: 3944.9078, train_label_loss: 0.9856, \n"
     ]
    },
    {
     "name": "stdout",
     "output_type": "stream",
     "text": [
      "epoch: 2, [batch: 10080 / 12600], examples_per_second: 3809.7966, train_label_loss: 0.6923, \n"
     ]
    },
    {
     "name": "stdout",
     "output_type": "stream",
     "text": [
      "epoch: 2, [batch: 11340 / 12600], examples_per_second: 3829.8341, train_label_loss: 0.4493, \n"
     ]
    },
    {
     "name": "stdout",
     "output_type": "stream",
     "text": [
      "=============================================================\n",
      "epoch: 2, source_val_acc_label: 0.6728, target_val_acc_label: 0.5593, source_val_label_loss: 0.8362, target_val_label_loss: 1.2208, \n",
      "=============================================================\n"
     ]
    },
    {
     "name": "stdout",
     "output_type": "stream",
     "text": [
      "New best\n"
     ]
    },
    {
     "name": "stdout",
     "output_type": "stream",
     "text": [
      "epoch: 3, [batch: 1 / 12600], examples_per_second: 1.8803, train_label_loss: 0.7637, \n"
     ]
    },
    {
     "name": "stdout",
     "output_type": "stream",
     "text": [
      "epoch: 3, [batch: 1260 / 12600], examples_per_second: 3807.0323, train_label_loss: 1.1421, \n"
     ]
    },
    {
     "name": "stdout",
     "output_type": "stream",
     "text": [
      "epoch: 3, [batch: 2520 / 12600], examples_per_second: 3855.5097, train_label_loss: 0.7585, \n"
     ]
    },
    {
     "name": "stdout",
     "output_type": "stream",
     "text": [
      "epoch: 3, [batch: 3780 / 12600], examples_per_second: 3958.8373, train_label_loss: 0.9142, \n"
     ]
    },
    {
     "name": "stdout",
     "output_type": "stream",
     "text": [
      "epoch: 3, [batch: 5040 / 12600], examples_per_second: 3845.3432, train_label_loss: 0.6607, \n"
     ]
    },
    {
     "name": "stdout",
     "output_type": "stream",
     "text": [
      "epoch: 3, [batch: 6300 / 12600], examples_per_second: 3967.9632, train_label_loss: 0.8884, \n"
     ]
    },
    {
     "name": "stdout",
     "output_type": "stream",
     "text": [
      "epoch: 3, [batch: 7560 / 12600], examples_per_second: 3988.5705, train_label_loss: 0.9002, \n"
     ]
    },
    {
     "name": "stdout",
     "output_type": "stream",
     "text": [
      "epoch: 3, [batch: 8820 / 12600], examples_per_second: 3914.4995, train_label_loss: 0.8600, \n"
     ]
    },
    {
     "name": "stdout",
     "output_type": "stream",
     "text": [
      "epoch: 3, [batch: 10080 / 12600], examples_per_second: 3971.9072, train_label_loss: 0.5363, \n"
     ]
    },
    {
     "name": "stdout",
     "output_type": "stream",
     "text": [
      "epoch: 3, [batch: 11340 / 12600], examples_per_second: 4006.2339, train_label_loss: 0.8223, \n"
     ]
    },
    {
     "name": "stdout",
     "output_type": "stream",
     "text": [
      "=============================================================\n",
      "epoch: 3, source_val_acc_label: 0.6963, target_val_acc_label: 0.5758, source_val_label_loss: 0.8158, target_val_label_loss: 1.2487, \n",
      "=============================================================\n"
     ]
    },
    {
     "name": "stdout",
     "output_type": "stream",
     "text": [
      "New best\n"
     ]
    },
    {
     "name": "stdout",
     "output_type": "stream",
     "text": [
      "epoch: 4, [batch: 1 / 12600], examples_per_second: 1.8952, train_label_loss: 0.4870, \n"
     ]
    },
    {
     "name": "stdout",
     "output_type": "stream",
     "text": [
      "epoch: 4, [batch: 1260 / 12600], examples_per_second: 3838.0361, train_label_loss: 0.5866, \n"
     ]
    },
    {
     "name": "stdout",
     "output_type": "stream",
     "text": [
      "epoch: 4, [batch: 2520 / 12600], examples_per_second: 3977.6327, train_label_loss: 0.7241, \n"
     ]
    },
    {
     "name": "stdout",
     "output_type": "stream",
     "text": [
      "epoch: 4, [batch: 3780 / 12600], examples_per_second: 3945.9735, train_label_loss: 0.5193, \n"
     ]
    },
    {
     "name": "stdout",
     "output_type": "stream",
     "text": [
      "epoch: 4, [batch: 5040 / 12600], examples_per_second: 3812.1294, train_label_loss: 0.4910, \n"
     ]
    },
    {
     "name": "stdout",
     "output_type": "stream",
     "text": [
      "epoch: 4, [batch: 6300 / 12600], examples_per_second: 3873.8364, train_label_loss: 0.4992, \n"
     ]
    },
    {
     "name": "stdout",
     "output_type": "stream",
     "text": [
      "epoch: 4, [batch: 7560 / 12600], examples_per_second: 3922.9105, train_label_loss: 0.8859, \n"
     ]
    },
    {
     "name": "stdout",
     "output_type": "stream",
     "text": [
      "epoch: 4, [batch: 8820 / 12600], examples_per_second: 3793.3782, train_label_loss: 0.6688, \n"
     ]
    },
    {
     "name": "stdout",
     "output_type": "stream",
     "text": [
      "epoch: 4, [batch: 10080 / 12600], examples_per_second: 3904.3644, train_label_loss: 0.3996, \n"
     ]
    },
    {
     "name": "stdout",
     "output_type": "stream",
     "text": [
      "epoch: 4, [batch: 11340 / 12600], examples_per_second: 3972.0115, train_label_loss: 0.6232, \n"
     ]
    },
    {
     "name": "stdout",
     "output_type": "stream",
     "text": [
      "=============================================================\n",
      "epoch: 4, source_val_acc_label: 0.6973, target_val_acc_label: 0.5778, source_val_label_loss: 0.7980, target_val_label_loss: 1.2276, \n",
      "=============================================================\n"
     ]
    },
    {
     "name": "stdout",
     "output_type": "stream",
     "text": [
      "New best\n"
     ]
    },
    {
     "name": "stdout",
     "output_type": "stream",
     "text": [
      "epoch: 5, [batch: 1 / 12600], examples_per_second: 1.8956, train_label_loss: 0.6484, \n"
     ]
    },
    {
     "name": "stdout",
     "output_type": "stream",
     "text": [
      "epoch: 5, [batch: 1260 / 12600], examples_per_second: 3870.4121, train_label_loss: 0.6769, \n"
     ]
    },
    {
     "name": "stdout",
     "output_type": "stream",
     "text": [
      "epoch: 5, [batch: 2520 / 12600], examples_per_second: 3857.5663, train_label_loss: 0.6450, \n"
     ]
    },
    {
     "name": "stdout",
     "output_type": "stream",
     "text": [
      "epoch: 5, [batch: 3780 / 12600], examples_per_second: 3916.3324, train_label_loss: 0.4485, \n"
     ]
    },
    {
     "name": "stdout",
     "output_type": "stream",
     "text": [
      "epoch: 5, [batch: 5040 / 12600], examples_per_second: 3990.4520, train_label_loss: 0.6110, \n"
     ]
    },
    {
     "name": "stdout",
     "output_type": "stream",
     "text": [
      "epoch: 5, [batch: 6300 / 12600], examples_per_second: 4050.5279, train_label_loss: 0.1988, \n"
     ]
    },
    {
     "name": "stdout",
     "output_type": "stream",
     "text": [
      "epoch: 5, [batch: 7560 / 12600], examples_per_second: 3993.6495, train_label_loss: 0.5955, \n"
     ]
    },
    {
     "name": "stdout",
     "output_type": "stream",
     "text": [
      "epoch: 5, [batch: 8820 / 12600], examples_per_second: 3994.1074, train_label_loss: 0.2219, \n"
     ]
    },
    {
     "name": "stdout",
     "output_type": "stream",
     "text": [
      "epoch: 5, [batch: 10080 / 12600], examples_per_second: 4019.2456, train_label_loss: 0.5851, \n"
     ]
    },
    {
     "name": "stdout",
     "output_type": "stream",
     "text": [
      "epoch: 5, [batch: 11340 / 12600], examples_per_second: 4023.9526, train_label_loss: 0.5400, \n"
     ]
    },
    {
     "name": "stdout",
     "output_type": "stream",
     "text": [
      "=============================================================\n",
      "epoch: 5, source_val_acc_label: 0.7051, target_val_acc_label: 0.5861, source_val_label_loss: 0.7909, target_val_label_loss: 1.2227, \n",
      "=============================================================\n"
     ]
    },
    {
     "name": "stdout",
     "output_type": "stream",
     "text": [
      "New best\n"
     ]
    },
    {
     "name": "stdout",
     "output_type": "stream",
     "text": [
      "epoch: 6, [batch: 1 / 12600], examples_per_second: 1.9436, train_label_loss: 0.5084, \n"
     ]
    },
    {
     "name": "stdout",
     "output_type": "stream",
     "text": [
      "epoch: 6, [batch: 1260 / 12600], examples_per_second: 3868.1035, train_label_loss: 0.3951, \n"
     ]
    },
    {
     "name": "stdout",
     "output_type": "stream",
     "text": [
      "epoch: 6, [batch: 2520 / 12600], examples_per_second: 4029.4329, train_label_loss: 0.4691, \n"
     ]
    },
    {
     "name": "stdout",
     "output_type": "stream",
     "text": [
      "epoch: 6, [batch: 3780 / 12600], examples_per_second: 3974.0128, train_label_loss: 0.6129, \n"
     ]
    },
    {
     "name": "stdout",
     "output_type": "stream",
     "text": [
      "epoch: 6, [batch: 5040 / 12600], examples_per_second: 3925.1024, train_label_loss: 0.4525, \n"
     ]
    },
    {
     "name": "stdout",
     "output_type": "stream",
     "text": [
      "epoch: 6, [batch: 6300 / 12600], examples_per_second: 3933.7606, train_label_loss: 0.1247, \n"
     ]
    },
    {
     "name": "stdout",
     "output_type": "stream",
     "text": [
      "epoch: 6, [batch: 7560 / 12600], examples_per_second: 3919.1949, train_label_loss: 0.5585, \n"
     ]
    },
    {
     "name": "stdout",
     "output_type": "stream",
     "text": [
      "epoch: 6, [batch: 8820 / 12600], examples_per_second: 3916.6762, train_label_loss: 0.3735, \n"
     ]
    },
    {
     "name": "stdout",
     "output_type": "stream",
     "text": [
      "epoch: 6, [batch: 10080 / 12600], examples_per_second: 3954.0699, train_label_loss: 0.4138, \n"
     ]
    },
    {
     "name": "stdout",
     "output_type": "stream",
     "text": [
      "epoch: 6, [batch: 11340 / 12600], examples_per_second: 4028.5885, train_label_loss: 0.2861, \n"
     ]
    },
    {
     "name": "stdout",
     "output_type": "stream",
     "text": [
      "=============================================================\n",
      "epoch: 6, source_val_acc_label: 0.7090, target_val_acc_label: 0.5883, source_val_label_loss: 0.8164, target_val_label_loss: 1.2689, \n",
      "=============================================================\n"
     ]
    },
    {
     "name": "stdout",
     "output_type": "stream",
     "text": [
      "New best\n"
     ]
    },
    {
     "name": "stdout",
     "output_type": "stream",
     "text": [
      "epoch: 7, [batch: 1 / 12600], examples_per_second: 1.9728, train_label_loss: 0.3071, \n"
     ]
    },
    {
     "name": "stdout",
     "output_type": "stream",
     "text": [
      "epoch: 7, [batch: 1260 / 12600], examples_per_second: 3845.7574, train_label_loss: 0.4100, \n"
     ]
    },
    {
     "name": "stdout",
     "output_type": "stream",
     "text": [
      "epoch: 7, [batch: 2520 / 12600], examples_per_second: 3870.6731, train_label_loss: 0.4088, \n"
     ]
    },
    {
     "name": "stdout",
     "output_type": "stream",
     "text": [
      "epoch: 7, [batch: 3780 / 12600], examples_per_second: 3931.8341, train_label_loss: 0.5585, \n"
     ]
    },
    {
     "name": "stdout",
     "output_type": "stream",
     "text": [
      "epoch: 7, [batch: 5040 / 12600], examples_per_second: 3794.6489, train_label_loss: 0.4318, \n"
     ]
    },
    {
     "name": "stdout",
     "output_type": "stream",
     "text": [
      "epoch: 7, [batch: 6300 / 12600], examples_per_second: 3896.5343, train_label_loss: 0.2695, \n"
     ]
    },
    {
     "name": "stdout",
     "output_type": "stream",
     "text": [
      "epoch: 7, [batch: 7560 / 12600], examples_per_second: 3928.1309, train_label_loss: 0.3312, \n"
     ]
    },
    {
     "name": "stdout",
     "output_type": "stream",
     "text": [
      "epoch: 7, [batch: 8820 / 12600], examples_per_second: 3943.0314, train_label_loss: 0.4265, \n"
     ]
    },
    {
     "name": "stdout",
     "output_type": "stream",
     "text": [
      "epoch: 7, [batch: 10080 / 12600], examples_per_second: 3995.8250, train_label_loss: 0.5274, \n"
     ]
    },
    {
     "name": "stdout",
     "output_type": "stream",
     "text": [
      "epoch: 7, [batch: 11340 / 12600], examples_per_second: 3964.7684, train_label_loss: 0.3784, \n"
     ]
    },
    {
     "name": "stdout",
     "output_type": "stream",
     "text": [
      "=============================================================\n",
      "epoch: 7, source_val_acc_label: 0.7160, target_val_acc_label: 0.5945, source_val_label_loss: 0.8370, target_val_label_loss: 1.3149, \n",
      "=============================================================\n"
     ]
    },
    {
     "name": "stdout",
     "output_type": "stream",
     "text": [
      "New best\n"
     ]
    },
    {
     "name": "stdout",
     "output_type": "stream",
     "text": [
      "epoch: 8, [batch: 1 / 12600], examples_per_second: 1.9503, train_label_loss: 0.3460, \n"
     ]
    },
    {
     "name": "stdout",
     "output_type": "stream",
     "text": [
      "epoch: 8, [batch: 1260 / 12600], examples_per_second: 3745.9580, train_label_loss: 0.4129, \n"
     ]
    },
    {
     "name": "stdout",
     "output_type": "stream",
     "text": [
      "epoch: 8, [batch: 2520 / 12600], examples_per_second: 3854.7070, train_label_loss: 0.2612, \n"
     ]
    },
    {
     "name": "stdout",
     "output_type": "stream",
     "text": [
      "epoch: 8, [batch: 3780 / 12600], examples_per_second: 3823.5243, train_label_loss: 0.3093, \n"
     ]
    },
    {
     "name": "stdout",
     "output_type": "stream",
     "text": [
      "epoch: 8, [batch: 5040 / 12600], examples_per_second: 3797.7873, train_label_loss: 0.4131, \n"
     ]
    },
    {
     "name": "stdout",
     "output_type": "stream",
     "text": [
      "epoch: 8, [batch: 6300 / 12600], examples_per_second: 3796.6065, train_label_loss: 0.4633, \n"
     ]
    },
    {
     "name": "stdout",
     "output_type": "stream",
     "text": [
      "epoch: 8, [batch: 7560 / 12600], examples_per_second: 3894.9048, train_label_loss: 0.3532, \n"
     ]
    },
    {
     "name": "stdout",
     "output_type": "stream",
     "text": [
      "epoch: 8, [batch: 8820 / 12600], examples_per_second: 3780.1389, train_label_loss: 0.2971, \n"
     ]
    },
    {
     "name": "stdout",
     "output_type": "stream",
     "text": [
      "epoch: 8, [batch: 10080 / 12600], examples_per_second: 3923.1268, train_label_loss: 0.5441, \n"
     ]
    },
    {
     "name": "stdout",
     "output_type": "stream",
     "text": [
      "epoch: 8, [batch: 11340 / 12600], examples_per_second: 3909.9314, train_label_loss: 0.4031, \n"
     ]
    },
    {
     "name": "stdout",
     "output_type": "stream",
     "text": [
      "=============================================================\n",
      "epoch: 8, source_val_acc_label: 0.7049, target_val_acc_label: 0.5885, source_val_label_loss: 0.8720, target_val_label_loss: 1.3392, \n",
      "=============================================================\n"
     ]
    },
    {
     "name": "stdout",
     "output_type": "stream",
     "text": [
      "epoch: 9, [batch: 1 / 12600], examples_per_second: 1.9393, train_label_loss: 0.4018, \n"
     ]
    },
    {
     "name": "stdout",
     "output_type": "stream",
     "text": [
      "epoch: 9, [batch: 1260 / 12600], examples_per_second: 4064.8070, train_label_loss: 0.6716, \n"
     ]
    },
    {
     "name": "stdout",
     "output_type": "stream",
     "text": [
      "epoch: 9, [batch: 2520 / 12600], examples_per_second: 4276.8820, train_label_loss: 0.6524, \n"
     ]
    },
    {
     "name": "stdout",
     "output_type": "stream",
     "text": [
      "epoch: 9, [batch: 3780 / 12600], examples_per_second: 4186.9106, train_label_loss: 0.4551, \n"
     ]
    },
    {
     "name": "stdout",
     "output_type": "stream",
     "text": [
      "epoch: 9, [batch: 5040 / 12600], examples_per_second: 4307.3700, train_label_loss: 0.2287, \n"
     ]
    },
    {
     "name": "stdout",
     "output_type": "stream",
     "text": [
      "epoch: 9, [batch: 6300 / 12600], examples_per_second: 4204.9638, train_label_loss: 0.3100, \n"
     ]
    },
    {
     "name": "stdout",
     "output_type": "stream",
     "text": [
      "epoch: 9, [batch: 7560 / 12600], examples_per_second: 4182.4829, train_label_loss: 0.3739, \n"
     ]
    },
    {
     "name": "stdout",
     "output_type": "stream",
     "text": [
      "epoch: 9, [batch: 8820 / 12600], examples_per_second: 4155.7292, train_label_loss: 0.3328, \n"
     ]
    },
    {
     "name": "stdout",
     "output_type": "stream",
     "text": [
      "epoch: 9, [batch: 10080 / 12600], examples_per_second: 4643.2811, train_label_loss: 0.4262, \n"
     ]
    },
    {
     "name": "stdout",
     "output_type": "stream",
     "text": [
      "epoch: 9, [batch: 11340 / 12600], examples_per_second: 4919.6790, train_label_loss: 0.2627, \n"
     ]
    },
    {
     "name": "stdout",
     "output_type": "stream",
     "text": [
      "=============================================================\n",
      "epoch: 9, source_val_acc_label: 0.7077, target_val_acc_label: 0.5875, source_val_label_loss: 0.8965, target_val_label_loss: 1.3828, \n",
      "=============================================================\n"
     ]
    },
    {
     "name": "stdout",
     "output_type": "stream",
     "text": [
      "epoch: 10, [batch: 1 / 12600], examples_per_second: 2.3638, train_label_loss: 0.2219, \n"
     ]
    },
    {
     "name": "stdout",
     "output_type": "stream",
     "text": [
      "epoch: 10, [batch: 1260 / 12600], examples_per_second: 4696.2009, train_label_loss: 0.2167, \n"
     ]
    },
    {
     "name": "stdout",
     "output_type": "stream",
     "text": [
      "epoch: 10, [batch: 2520 / 12600], examples_per_second: 5227.9192, train_label_loss: 0.1246, \n"
     ]
    },
    {
     "name": "stdout",
     "output_type": "stream",
     "text": [
      "epoch: 10, [batch: 3780 / 12600], examples_per_second: 5129.4454, train_label_loss: 0.2537, \n"
     ]
    },
    {
     "name": "stdout",
     "output_type": "stream",
     "text": [
      "epoch: 10, [batch: 5040 / 12600], examples_per_second: 4913.7495, train_label_loss: 0.4488, \n"
     ]
    },
    {
     "name": "stdout",
     "output_type": "stream",
     "text": [
      "epoch: 10, [batch: 6300 / 12600], examples_per_second: 5022.5145, train_label_loss: 0.2083, \n"
     ]
    },
    {
     "name": "stdout",
     "output_type": "stream",
     "text": [
      "epoch: 10, [batch: 7560 / 12600], examples_per_second: 4773.9310, train_label_loss: 0.1147, \n"
     ]
    },
    {
     "name": "stdout",
     "output_type": "stream",
     "text": [
      "epoch: 10, [batch: 8820 / 12600], examples_per_second: 4810.0990, train_label_loss: 0.0552, \n"
     ]
    },
    {
     "name": "stdout",
     "output_type": "stream",
     "text": [
      "epoch: 10, [batch: 10080 / 12600], examples_per_second: 4846.3986, train_label_loss: 0.4770, \n"
     ]
    },
    {
     "name": "stdout",
     "output_type": "stream",
     "text": [
      "epoch: 10, [batch: 11340 / 12600], examples_per_second: 4882.0521, train_label_loss: 0.1984, \n"
     ]
    },
    {
     "name": "stdout",
     "output_type": "stream",
     "text": [
      "=============================================================\n",
      "epoch: 10, source_val_acc_label: 0.7109, target_val_acc_label: 0.5928, source_val_label_loss: 0.9462, target_val_label_loss: 1.4628, \n",
      "=============================================================\n"
     ]
    },
    {
     "name": "stdout",
     "output_type": "stream",
     "text": [
      "epoch: 11, [batch: 1 / 12600], examples_per_second: 2.4370, train_label_loss: 0.1680, \n"
     ]
    },
    {
     "name": "stdout",
     "output_type": "stream",
     "text": [
      "epoch: 11, [batch: 1260 / 12600], examples_per_second: 3794.9235, train_label_loss: 0.2225, \n"
     ]
    },
    {
     "name": "stdout",
     "output_type": "stream",
     "text": [
      "epoch: 11, [batch: 2520 / 12600], examples_per_second: 3912.0024, train_label_loss: 0.3600, \n"
     ]
    },
    {
     "name": "stdout",
     "output_type": "stream",
     "text": [
      "epoch: 11, [batch: 3780 / 12600], examples_per_second: 4006.3531, train_label_loss: 0.7107, \n"
     ]
    },
    {
     "name": "stdout",
     "output_type": "stream",
     "text": [
      "epoch: 11, [batch: 5040 / 12600], examples_per_second: 3922.7132, train_label_loss: 0.2012, \n"
     ]
    },
    {
     "name": "stdout",
     "output_type": "stream",
     "text": [
      "epoch: 11, [batch: 6300 / 12600], examples_per_second: 3854.0176, train_label_loss: 0.2455, \n"
     ]
    },
    {
     "name": "stdout",
     "output_type": "stream",
     "text": [
      "epoch: 11, [batch: 7560 / 12600], examples_per_second: 3869.6461, train_label_loss: 0.6218, \n"
     ]
    },
    {
     "name": "stdout",
     "output_type": "stream",
     "text": [
      "epoch: 11, [batch: 8820 / 12600], examples_per_second: 3850.8691, train_label_loss: 0.3357, \n"
     ]
    },
    {
     "name": "stdout",
     "output_type": "stream",
     "text": [
      "epoch: 11, [batch: 10080 / 12600], examples_per_second: 3850.9283, train_label_loss: 0.3801, \n"
     ]
    },
    {
     "name": "stdout",
     "output_type": "stream",
     "text": [
      "epoch: 11, [batch: 11340 / 12600], examples_per_second: 3805.5215, train_label_loss: 0.5528, \n"
     ]
    },
    {
     "name": "stdout",
     "output_type": "stream",
     "text": [
      "=============================================================\n",
      "epoch: 11, source_val_acc_label: 0.7039, target_val_acc_label: 0.5804, source_val_label_loss: 0.9672, target_val_label_loss: 1.4709, \n",
      "=============================================================\n"
     ]
    },
    {
     "name": "stdout",
     "output_type": "stream",
     "text": [
      "Patience (3) exhausted\n"
     ]
    }
   ],
   "source": [
    "###################################\n",
    "# train\n",
    "###################################\n",
    "jig = PTN_Train_Eval_Test_Jig(model, p.BEST_MODEL_PATH, p.device)\n",
    "\n",
    "jig.train(\n",
    "    train_iterable=datasets.source.processed.train,\n",
    "    source_val_iterable=datasets.source.processed.val,\n",
    "    target_val_iterable=datasets.target.processed.val,\n",
    "    num_epochs=p.n_epoch,\n",
    "    num_logs_per_epoch=p.NUM_LOGS_PER_EPOCH,\n",
    "    patience=p.patience,\n",
    "    optimizer=optimizer,\n",
    "    criteria_for_best=p.criteria_for_best,\n",
    ")"
   ]
  },
  {
   "cell_type": "code",
   "execution_count": 14,
   "id": "31e8fabf",
   "metadata": {
    "execution": {
     "iopub.execute_input": "2022-03-26T16:50:59.083206Z",
     "iopub.status.busy": "2022-03-26T16:50:59.082642Z",
     "iopub.status.idle": "2022-03-26T16:50:59.114833Z",
     "shell.execute_reply": "2022-03-26T16:50:59.114106Z"
    },
    "papermill": {
     "duration": 0.089047,
     "end_time": "2022-03-26T16:50:59.114987",
     "exception": false,
     "start_time": "2022-03-26T16:50:59.025940",
     "status": "completed"
    },
    "tags": []
   },
   "outputs": [],
   "source": [
    "total_experiment_time_secs = time.time() - start_time_secs"
   ]
  },
  {
   "cell_type": "code",
   "execution_count": 15,
   "id": "87b9595b",
   "metadata": {
    "execution": {
     "iopub.execute_input": "2022-03-26T16:50:59.233995Z",
     "iopub.status.busy": "2022-03-26T16:50:59.233125Z",
     "iopub.status.idle": "2022-03-26T16:57:57.812358Z",
     "shell.execute_reply": "2022-03-26T16:57:57.811494Z"
    },
    "papermill": {
     "duration": 418.640477,
     "end_time": "2022-03-26T16:57:57.812633",
     "exception": false,
     "start_time": "2022-03-26T16:50:59.172156",
     "status": "completed"
    },
    "tags": []
   },
   "outputs": [],
   "source": [
    "###################################\n",
    "# Evaluate the model\n",
    "###################################\n",
    "source_test_label_accuracy, source_test_label_loss = jig.test(datasets.source.processed.test)\n",
    "target_test_label_accuracy, target_test_label_loss = jig.test(datasets.target.processed.test)\n",
    "\n",
    "source_val_label_accuracy, source_val_label_loss = jig.test(datasets.source.processed.val)\n",
    "target_val_label_accuracy, target_val_label_loss = jig.test(datasets.target.processed.val)\n",
    "\n",
    "history = jig.get_history()\n",
    "\n",
    "total_epochs_trained = len(history[\"epoch_indices\"])\n",
    "\n",
    "val_dl = Iterable_Aggregator((datasets.source.original.val,datasets.target.original.val))\n",
    "\n",
    "confusion = ptn_confusion_by_domain_over_dataloader(model, p.device, val_dl)\n",
    "per_domain_accuracy = per_domain_accuracy_from_confusion(confusion)\n",
    "\n",
    "# Add a key to per_domain_accuracy for if it was a source domain\n",
    "for domain, accuracy in per_domain_accuracy.items():\n",
    "    per_domain_accuracy[domain] = {\n",
    "        \"accuracy\": accuracy,\n",
    "        \"source?\": domain in p.domains_source\n",
    "    }\n",
    "\n",
    "# Do an independent accuracy assesment JUST TO BE SURE!\n",
    "# _source_test_label_accuracy = independent_accuracy_assesment(model, datasets.source.processed.test, p.device)\n",
    "# _target_test_label_accuracy = independent_accuracy_assesment(model, datasets.target.processed.test, p.device)\n",
    "# _source_val_label_accuracy = independent_accuracy_assesment(model, datasets.source.processed.val, p.device)\n",
    "# _target_val_label_accuracy = independent_accuracy_assesment(model, datasets.target.processed.val, p.device)\n",
    "\n",
    "# assert(_source_test_label_accuracy == source_test_label_accuracy)\n",
    "# assert(_target_test_label_accuracy == target_test_label_accuracy)\n",
    "# assert(_source_val_label_accuracy == source_val_label_accuracy)\n",
    "# assert(_target_val_label_accuracy == target_val_label_accuracy)\n",
    "\n",
    "experiment = {\n",
    "    \"experiment_name\": p.experiment_name,\n",
    "    \"parameters\": dict(p),\n",
    "    \"results\": {\n",
    "        \"source_test_label_accuracy\": source_test_label_accuracy,\n",
    "        \"source_test_label_loss\": source_test_label_loss,\n",
    "        \"target_test_label_accuracy\": target_test_label_accuracy,\n",
    "        \"target_test_label_loss\": target_test_label_loss,\n",
    "        \"source_val_label_accuracy\": source_val_label_accuracy,\n",
    "        \"source_val_label_loss\": source_val_label_loss,\n",
    "        \"target_val_label_accuracy\": target_val_label_accuracy,\n",
    "        \"target_val_label_loss\": target_val_label_loss,\n",
    "        \"total_epochs_trained\": total_epochs_trained,\n",
    "        \"total_experiment_time_secs\": total_experiment_time_secs,\n",
    "        \"confusion\": confusion,\n",
    "        \"per_domain_accuracy\": per_domain_accuracy,\n",
    "    },\n",
    "    \"history\": history,\n",
    "    \"dataset_metrics\": get_dataset_metrics(datasets, \"ptn\"),\n",
    "}"
   ]
  },
  {
   "cell_type": "code",
   "execution_count": 16,
   "id": "54a21829",
   "metadata": {
    "execution": {
     "iopub.execute_input": "2022-03-26T16:57:57.934509Z",
     "iopub.status.busy": "2022-03-26T16:57:57.933948Z",
     "iopub.status.idle": "2022-03-26T16:57:58.167768Z",
     "shell.execute_reply": "2022-03-26T16:57:58.168481Z"
    },
    "papermill": {
     "duration": 0.295674,
     "end_time": "2022-03-26T16:57:58.168699",
     "exception": false,
     "start_time": "2022-03-26T16:57:57.873025",
     "status": "completed"
    },
    "tags": []
   },
   "outputs": [
    {
     "data": {
      "image/png": "[encoded data removed]",
      "text/plain": [
       "<Figure size 1080x504 with 1 Axes>"
      ]
     },
     "metadata": {
      "needs_background": "light"
     },
     "output_type": "display_data"
    }
   ],
   "source": [
    "ax = get_loss_curve(experiment)\n",
    "plt.show()"
   ]
  },
  {
   "cell_type": "code",
   "execution_count": 17,
   "id": "fd8a0f60",
   "metadata": {
    "execution": {
     "iopub.execute_input": "2022-03-26T16:57:58.293267Z",
     "iopub.status.busy": "2022-03-26T16:57:58.292694Z",
     "iopub.status.idle": "2022-03-26T16:57:58.659437Z",
     "shell.execute_reply": "2022-03-26T16:57:58.659036Z"
    },
    "papermill": {
     "duration": 0.428755,
     "end_time": "2022-03-26T16:57:58.659548",
     "exception": false,
     "start_time": "2022-03-26T16:57:58.230793",
     "status": "completed"
    },
    "tags": []
   },
   "outputs": [
    {
     "data": {
      "text/plain": [
       "<AxesSubplot:title={'center':'Results'}>"
      ]
     },
     "execution_count": 17,
     "metadata": {},
     "output_type": "execute_result"
    },
    {
     "data": {
      "image/png": "[encoded data removed]",
      "text/plain": [
       "<Figure size 1080x504 with 1 Axes>"
      ]
     },
     "metadata": {
      "needs_background": "light"
     },
     "output_type": "display_data"
    }
   ],
   "source": [
    "get_results_table(experiment)"
   ]
  },
  {
   "cell_type": "code",
   "execution_count": 18,
   "id": "cf8dc689",
   "metadata": {
    "execution": {
     "iopub.execute_input": "2022-03-26T16:57:58.771666Z",
     "iopub.status.busy": "2022-03-26T16:57:58.771245Z",
     "iopub.status.idle": "2022-03-26T16:57:58.985272Z",
     "shell.execute_reply": "2022-03-26T16:57:58.985976Z"
    },
    "papermill": {
     "duration": 0.272453,
     "end_time": "2022-03-26T16:57:58.986196",
     "exception": false,
     "start_time": "2022-03-26T16:57:58.713743",
     "status": "completed"
    },
    "tags": []
   },
   "outputs": [
    {
     "data": {
      "text/plain": [
       "<AxesSubplot:title={'center':'Per Domain Validation Accuracy'}, xlabel='domain'>"
      ]
     },
     "execution_count": 18,
     "metadata": {},
     "output_type": "execute_result"
    },
    {
     "data": {
      "image/png": "[encoded data removed]",
      "text/plain": [
       "<Figure size 1080x504 with 1 Axes>"
      ]
     },
     "metadata": {
      "needs_background": "light"
     },
     "output_type": "display_data"
    }
   ],
   "source": [
    "get_domain_accuracies(experiment)"
   ]
  },
  {
   "cell_type": "code",
   "execution_count": 19,
   "id": "a74ae082",
   "metadata": {
    "execution": {
     "iopub.execute_input": "2022-03-26T16:57:59.106556Z",
     "iopub.status.busy": "2022-03-26T16:57:59.106169Z",
     "iopub.status.idle": "2022-03-26T16:57:59.131888Z",
     "shell.execute_reply": "2022-03-26T16:57:59.131037Z"
    },
    "papermill": {
     "duration": 0.085998,
     "end_time": "2022-03-26T16:57:59.132060",
     "exception": false,
     "start_time": "2022-03-26T16:57:59.046062",
     "status": "completed"
    },
    "tags": []
   },
   "outputs": [
    {
     "name": "stdout",
     "output_type": "stream",
     "text": [
      "Source Test Label Accuracy: 0.71765625 Target Test Label Accuracy: 0.5936875\n",
      "Source Val Label Accuracy: 0.7159722222222222 Target Val Label Accuracy: 0.5945\n"
     ]
    }
   ],
   "source": [
    "print(\"Source Test Label Accuracy:\", experiment[\"results\"][\"source_test_label_accuracy\"], \"Target Test Label Accuracy:\", experiment[\"results\"][\"target_test_label_accuracy\"])\n",
    "print(\"Source Val Label Accuracy:\", experiment[\"results\"][\"source_val_label_accuracy\"], \"Target Val Label Accuracy:\", experiment[\"results\"][\"target_val_label_accuracy\"])"
   ]
  },
  {
   "cell_type": "code",
   "execution_count": 20,
   "id": "dacca602",
   "metadata": {
    "execution": {
     "iopub.execute_input": "2022-03-26T16:57:59.254059Z",
     "iopub.status.busy": "2022-03-26T16:57:59.253681Z",
     "iopub.status.idle": "2022-03-26T16:57:59.276264Z",
     "shell.execute_reply": "2022-03-26T16:57:59.276962Z"
    },
    "papermill": {
     "duration": 0.083488,
     "end_time": "2022-03-26T16:57:59.277167",
     "exception": false,
     "start_time": "2022-03-26T16:57:59.193679",
     "status": "completed"
    },
    "tags": [
     "experiment_json"
    ]
   },
   "outputs": [
    {
     "data": {
      "text/plain": [
       "'{\"experiment_name\": \"tuned_1v2:oracle.run2_limited\", \"parameters\": {\"experiment_name\": \"tuned_1v2:oracle.run2_limited\", \"device\": \"cuda\", \"lr\": 0.0001, \"labels_source\": [\"3123D52\", \"3123D65\", \"3123D79\", \"3123D80\", \"3123D54\", \"3123D70\", \"3123D7B\", \"3123D89\", \"3123D58\", \"3123D76\", \"3123D7D\", \"3123EFE\", \"3123D64\", \"3123D78\", \"3123D7E\", \"3124E4A\"], \"labels_target\": [\"3123D52\", \"3123D65\", \"3123D79\", \"3123D80\", \"3123D54\", \"3123D70\", \"3123D7B\", \"3123D89\", \"3123D58\", \"3123D76\", \"3123D7D\", \"3123EFE\", \"3123D64\", \"3123D78\", \"3123D7E\", \"3124E4A\"], \"episode_transforms_source\": [], \"episode_transforms_target\": [], \"domains_source\": [8, 32, 50], \"domains_target\": [14, 20, 26, 38, 44], \"num_examples_per_domain_per_label_source\": -1, \"num_examples_per_domain_per_label_target\": -1, \"n_shot\": 3, \"n_way\": 16, \"n_query\": 2, \"train_k_factor\": 3, \"val_k_factor\": 2, \"test_k_factor\": 2, \"torch_default_dtype\": \"torch.float32\", \"n_epoch\": 50, \"patience\": 3, \"criteria_for_best\": \"target_accuracy\", \"x_net\": [{\"class\": \"nnReshape\", \"kargs\": {\"shape\": [-1, 1, 2, 256]}}, {\"class\": \"Conv2d\", \"kargs\": {\"in_channels\": 1, \"out_channels\": 256, \"kernel_size\": [1, 7], \"bias\": false, \"padding\": [0, 3]}}, {\"class\": \"ReLU\", \"kargs\": {\"inplace\": true}}, {\"class\": \"BatchNorm2d\", \"kargs\": {\"num_features\": 256}}, {\"class\": \"Conv2d\", \"kargs\": {\"in_channels\": 256, \"out_channels\": 80, \"kernel_size\": [2, 7], \"bias\": true, \"padding\": [0, 3]}}, {\"class\": \"ReLU\", \"kargs\": {\"inplace\": true}}, {\"class\": \"BatchNorm2d\", \"kargs\": {\"num_features\": 80}}, {\"class\": \"Flatten\", \"kargs\": {}}, {\"class\": \"Linear\", \"kargs\": {\"in_features\": 20480, \"out_features\": 256}}, {\"class\": \"ReLU\", \"kargs\": {\"inplace\": true}}, {\"class\": \"BatchNorm1d\", \"kargs\": {\"num_features\": 256}}, {\"class\": \"Linear\", \"kargs\": {\"in_features\": 256, \"out_features\": 256}}], \"NUM_LOGS_PER_EPOCH\": 10, \"BEST_MODEL_PATH\": \"./best_model.pth\", \"pickle_name\": \"oracle.Run2_10kExamples_stratified_ds.2022A.pkl\", \"x_transforms_source\": [\"unit_power\"], \"x_transforms_target\": [\"unit_power\"], \"dataset_seed\": 1337, \"seed\": 1337}, \"results\": {\"source_test_label_accuracy\": 0.71765625, \"source_test_label_loss\": 0.8272718787193298, \"target_test_label_accuracy\": 0.5936875, \"target_test_label_loss\": 1.3305021524429321, \"source_val_label_accuracy\": 0.7159722222222222, \"source_val_label_loss\": 0.8369746208190918, \"target_val_label_accuracy\": 0.5945, \"target_val_label_loss\": 1.3149001598358154, \"total_epochs_trained\": 11, \"total_experiment_time_secs\": 3484.880034685135, \"confusion\": {\"8\": {\"15\": {\"7\": 11, \"15\": 632, \"11\": 223, \"12\": 184, \"8\": 129, \"3\": 16, \"2\": 2, \"6\": 3}, \"3\": {\"3\": 1036, \"12\": 155, \"15\": 9}, \"6\": {\"4\": 369, \"14\": 49, \"6\": 537, \"7\": 208, \"8\": 11, \"2\": 18, \"13\": 7, \"11\": 1}, \"1\": {\"1\": 1009, \"13\": 128, \"5\": 44, \"10\": 18, \"14\": 1}, \"8\": {\"8\": 929, \"11\": 125, \"15\": 111, \"6\": 11, \"7\": 15, \"4\": 3, \"13\": 5, \"14\": 1}, \"10\": {\"10\": 756, \"5\": 141, \"0\": 180, \"13\": 57, \"1\": 19, \"14\": 47}, \"9\": {\"9\": 1199, \"5\": 1}, \"13\": {\"13\": 750, \"14\": 214, \"1\": 131, \"6\": 8, \"10\": 70, \"0\": 20, \"8\": 3, \"4\": 2, \"5\": 2}, \"12\": {\"12\": 893, \"3\": 159, \"11\": 37, \"15\": 111}, \"5\": {\"5\": 957, \"10\": 193, \"1\": 50}, \"0\": {\"0\": 742, \"10\": 170, \"14\": 259, \"13\": 18, \"6\": 8, \"4\": 3}, \"2\": {\"2\": 902, \"6\": 26, \"7\": 194, \"4\": 74, \"15\": 3, \"3\": 1}, \"11\": {\"8\": 272, \"12\": 121, \"15\": 220, \"11\": 586, \"4\": 1}, \"14\": {\"0\": 227, \"14\": 712, \"13\": 156, \"6\": 54, \"4\": 19, \"10\": 30, \"7\": 1, \"1\": 1}, \"7\": {\"7\": 543, \"4\": 255, \"6\": 228, \"8\": 19, \"2\": 149, \"15\": 4, \"14\": 1, \"11\": 1}, \"4\": {\"6\": 338, \"4\": 432, \"7\": 308, \"2\": 94, \"8\": 6, \"14\": 17, \"0\": 3, \"15\": 1, \"13\": 1}}, \"50\": {\"3\": {\"3\": 1146, \"8\": 54}, \"15\": {\"15\": 1060, \"11\": 52, \"14\": 1, \"1\": 70, \"6\": 16, \"4\": 1}, \"8\": {\"8\": 1180, \"3\": 19, \"7\": 1}, \"4\": {\"1\": 44, \"4\": 589, \"6\": 254, \"5\": 289, \"15\": 1, \"13\": 3, \"10\": 4, \"0\": 3, \"7\": 13}, \"14\": {\"14\": 1165, \"11\": 21, \"12\": 14}, \"0\": {\"0\": 1067, \"2\": 104, \"5\": 3, \"1\": 3, \"10\": 21, \"6\": 2}, \"7\": {\"7\": 514, \"13\": 460, \"10\": 84, \"5\": 133, \"4\": 9}, \"6\": {\"6\": 575, \"4\": 270, \"1\": 299, \"5\": 40, \"15\": 14, \"0\": 2}, \"10\": {\"10\": 866, \"13\": 163, \"5\": 78, \"7\": 67, \"0\": 24, \"4\": 2}, \"5\": {\"5\": 670, \"6\": 51, \"4\": 273, \"10\": 53, \"7\": 77, \"13\": 52, \"0\": 17, \"1\": 7}, \"2\": {\"2\": 1127, \"0\": 72, \"1\": 1}, \"12\": {\"9\": 66, \"12\": 1061, \"14\": 67, \"11\": 6}, \"9\": {\"9\": 1106, \"12\": 75, \"11\": 19}, \"1\": {\"1\": 823, \"15\": 77, \"4\": 36, \"6\": 255, \"5\": 5, \"2\": 1, \"0\": 2, \"14\": 1}, \"11\": {\"11\": 1093, \"14\": 37, \"15\": 38, \"12\": 13, \"9\": 19}, \"13\": {\"7\": 425, \"13\": 559, \"5\": 43, \"10\": 169, \"4\": 4}}, \"32\": {\"5\": {\"14\": 85, \"5\": 441, \"2\": 115, \"8\": 135, \"13\": 68, \"0\": 186, \"4\": 133, \"11\": 22, \"3\": 8, \"7\": 7}, \"8\": {\"8\": 858, \"5\": 96, \"7\": 4, \"13\": 93, \"0\": 66, \"4\": 57, \"15\": 2, \"3\": 21, \"11\": 3}, \"11\": {\"0\": 127, \"13\": 119, \"2\": 70, \"11\": 470, \"5\": 18, \"7\": 287, \"4\": 98, \"8\": 7, \"14\": 4}, \"1\": {\"1\": 1195, \"10\": 5}, \"10\": {\"10\": 1196, \"1\": 4}, \"15\": {\"15\": 1184, \"8\": 15, \"5\": 1}, \"3\": {\"3\": 1136, \"8\": 16, \"13\": 38, \"7\": 9, \"11\": 1}, \"7\": {\"13\": 164, \"7\": 642, \"11\": 272, \"4\": 81, \"0\": 23, \"8\": 1, \"5\": 8, \"2\": 7, \"3\": 2}, \"4\": {\"11\": 104, \"13\": 194, \"5\": 138, \"7\": 64, \"4\": 429, \"0\": 198, \"8\": 50, \"2\": 22, \"14\": 1}, \"14\": {\"14\": 986, \"2\": 161, \"5\": 26, \"7\": 1, \"0\": 16, \"11\": 6, \"9\": 4}, \"9\": {\"9\": 1166, \"14\": 33, \"2\": 1}, \"12\": {\"12\": 1200}, \"6\": {\"6\": 1200}, \"2\": {\"2\": 896, \"14\": 118, \"5\": 69, \"0\": 43, \"4\": 19, \"11\": 36, \"7\": 19}, \"0\": {\"4\": 174, \"11\": 167, \"0\": 465, \"5\": 196, \"7\": 18, \"13\": 52, \"8\": 69, \"2\": 47, \"14\": 12}, \"13\": {\"11\": 104, \"13\": 560, \"4\": 187, \"0\": 54, \"3\": 38, \"8\": 77, \"7\": 151, \"5\": 28, \"2\": 1}}, \"14\": {\"15\": {\"15\": 1130, \"7\": 67, \"2\": 2, \"13\": 1}, \"3\": {\"3\": 896, \"5\": 63, \"4\": 156, \"2\": 30, \"14\": 45, \"1\": 8, \"0\": 2}, \"6\": {\"2\": 65, \"6\": 643, \"13\": 284, \"14\": 199, \"4\": 6, \"5\": 1, \"3\": 2}, \"1\": {\"1\": 996, \"5\": 133, \"2\": 4, \"4\": 63, \"3\": 3, \"7\": 1}, \"8\": {\"8\": 1198, \"3\": 2}, \"10\": {\"10\": 1014, \"0\": 156, \"11\": 30}, \"9\": {\"9\": 1185, \"0\": 4, \"12\": 10, \"11\": 1}, \"13\": {\"13\": 823, \"6\": 282, \"2\": 76, \"14\": 15, \"5\": 1, \"4\": 2, \"15\": 1}, \"12\": {\"9\": 99, \"12\": 592, \"0\": 80, \"11\": 328, \"8\": 38, \"10\": 61, \"14\": 1, \"3\": 1}, \"5\": {\"1\": 152, \"5\": 510, \"3\": 70, \"4\": 341, \"2\": 116, \"6\": 3, \"13\": 2, \"14\": 6}, \"0\": {\"0\": 1143, \"10\": 49, \"3\": 3, \"14\": 2, \"9\": 2, \"12\": 1}, \"2\": {\"3\": 80, \"2\": 450, \"4\": 111, \"13\": 140, \"14\": 160, \"1\": 17, \"6\": 75, \"5\": 161, \"15\": 6}, \"11\": {\"11\": 1140, \"10\": 17, \"9\": 10, \"12\": 33}, \"14\": {\"14\": 713, \"2\": 141, \"6\": 166, \"3\": 78, \"0\": 21, \"13\": 30, \"5\": 24, \"4\": 27}, \"7\": {\"7\": 1145, \"1\": 2, \"15\": 53}, \"4\": {\"5\": 378, \"4\": 547, \"3\": 121, \"1\": 55, \"14\": 12, \"2\": 79, \"6\": 8}}, \"20\": {\"3\": {\"2\": 181, \"3\": 360, \"5\": 216, \"7\": 189, \"9\": 115, \"4\": 26, \"12\": 42, \"15\": 16, \"10\": 12, \"0\": 4, \"8\": 26, \"13\": 8, \"1\": 4, \"14\": 1}, \"15\": {\"15\": 302, \"13\": 305, \"5\": 60, \"1\": 125, \"12\": 108, \"2\": 106, \"9\": 126, \"0\": 43, \"3\": 20, \"4\": 4, \"8\": 1}, \"8\": {\"8\": 514, \"10\": 198, \"3\": 37, \"7\": 183, \"4\": 65, \"14\": 154, \"6\": 33, \"5\": 15, \"0\": 1}, \"4\": {\"4\": 935, \"3\": 32, \"0\": 72, \"5\": 39, \"12\": 46, \"9\": 10, \"1\": 3, \"8\": 34, \"10\": 21, \"7\": 1, \"14\": 3, \"2\": 2, \"15\": 2}, \"14\": {\"14\": 651, \"10\": 259, \"8\": 149, \"7\": 12, \"6\": 126, \"4\": 3}, \"0\": {\"12\": 207, \"1\": 220, \"0\": 458, \"3\": 18, \"15\": 76, \"4\": 98, \"13\": 11, \"9\": 29, \"5\": 66, \"2\": 16, \"10\": 1}, \"7\": {\"8\": 141, \"6\": 31, \"7\": 774, \"5\": 31, \"3\": 160, \"2\": 15, \"10\": 31, \"14\": 7, \"11\": 4, \"9\": 5, \"4\": 1}, \"6\": {\"10\": 27, \"6\": 1021, \"14\": 80, \"7\": 45, \"8\": 27}, \"10\": {\"4\": 37, \"10\": 639, \"8\": 237, \"7\": 31, \"14\": 207, \"6\": 38, \"5\": 2, \"3\": 9}, \"5\": {\"2\": 188, \"5\": 215, \"12\": 142, \"9\": 138, \"0\": 60, \"15\": 74, \"7\": 39, \"3\": 210, \"13\": 27, \"8\": 16, \"4\": 51, \"1\": 39, \"10\": 1}, \"2\": {\"3\": 180, \"2\": 298, \"5\": 173, \"9\": 225, \"7\": 32, \"13\": 102, \"15\": 106, \"12\": 48, \"4\": 10, \"0\": 12, \"1\": 13, \"8\": 1}, \"12\": {\"15\": 114, \"3\": 34, \"12\": 311, \"5\": 115, \"1\": 199, \"2\": 60, \"0\": 168, \"9\": 128, \"4\": 56, \"13\": 15}, \"9\": {\"2\": 251, \"12\": 113, \"3\": 133, \"15\": 144, \"5\": 153, \"9\": 259, \"7\": 8, \"8\": 2, \"13\": 63, \"0\": 35, \"1\": 29, \"4\": 9, \"10\": 1}, \"1\": {\"12\": 204, \"1\": 550, \"0\": 218, \"5\": 17, \"15\": 117, \"3\": 4, \"9\": 32, \"13\": 37, \"4\": 8, \"2\": 13}, \"11\": {\"11\": 1198, \"7\": 2}, \"13\": {\"13\": 722, \"15\": 268, \"5\": 26, \"0\": 6, \"2\": 84, \"7\": 1, \"1\": 32, \"9\": 42, \"12\": 16, \"3\": 3}}, \"44\": {\"5\": {\"5\": 1052, \"14\": 130, \"8\": 12, \"15\": 3, \"0\": 3}, \"8\": {\"0\": 497, \"8\": 668, \"15\": 13, \"14\": 9, \"5\": 13}, \"11\": {\"11\": 1110, \"6\": 80, \"7\": 5, \"9\": 4, \"13\": 1}, \"1\": {\"1\": 692, \"12\": 338, \"3\": 158, \"2\": 4, \"10\": 3, \"7\": 4, \"9\": 1}, \"10\": {\"10\": 1143, \"1\": 18, \"12\": 39}, \"15\": {\"14\": 102, \"15\": 1023, \"8\": 10, \"4\": 63, \"5\": 2}, \"3\": {\"1\": 127, \"3\": 1011, \"12\": 61, \"7\": 1}, \"7\": {\"7\": 604, \"1\": 9, \"9\": 317, \"2\": 256, \"6\": 12, \"3\": 1, \"11\": 1}, \"4\": {\"4\": 1050, \"15\": 55, \"14\": 72, \"13\": 23}, \"14\": {\"14\": 896, \"5\": 89, \"0\": 1, \"4\": 64, \"15\": 147, \"13\": 3}, \"9\": {\"2\": 376, \"7\": 291, \"9\": 497, \"11\": 2, \"6\": 30, \"1\": 2, \"3\": 2}, \"12\": {\"12\": 783, \"1\": 338, \"3\": 68, \"10\": 11}, \"6\": {\"6\": 1072, \"7\": 20, \"9\": 46, \"13\": 21, \"11\": 37, \"2\": 4}, \"2\": {\"2\": 573, \"9\": 346, \"7\": 270, \"1\": 8, \"3\": 1, \"6\": 2}, \"0\": {\"8\": 523, \"0\": 669, \"5\": 6, \"15\": 2}, \"13\": {\"13\": 1144, \"6\": 18, \"4\": 37, \"9\": 1}}, \"38\": {\"14\": {\"14\": 617, \"2\": 272, \"12\": 152, \"11\": 128, \"7\": 12, \"13\": 8, \"5\": 7, \"8\": 1, \"4\": 1, \"10\": 2}, \"0\": {\"0\": 858, \"3\": 296, \"9\": 10, \"13\": 6, \"15\": 5, \"10\": 11, \"7\": 4, \"6\": 7, \"8\": 3}, \"13\": {\"13\": 249, \"2\": 16, \"7\": 53, \"15\": 257, \"8\": 196, \"5\": 200, \"3\": 99, \"0\": 20, \"1\": 74, \"10\": 17, \"6\": 5, \"14\": 10, \"9\": 4}, \"7\": {\"10\": 377, \"8\": 74, \"5\": 124, \"7\": 539, \"13\": 38, \"3\": 33, \"0\": 4, \"15\": 11}, \"9\": {\"9\": 742, \"6\": 442, \"3\": 8, \"0\": 8}, \"3\": {\"0\": 308, \"3\": 321, \"5\": 31, \"8\": 81, \"7\": 87, \"15\": 99, \"9\": 66, \"13\": 64, \"6\": 63, \"10\": 78, \"1\": 2}, \"11\": {\"11\": 968, \"14\": 93, \"12\": 132, \"2\": 4, \"4\": 3}, \"6\": {\"6\": 842, \"9\": 348, \"3\": 8, \"0\": 1, \"15\": 1}, \"8\": {\"5\": 305, \"13\": 200, \"8\": 308, \"15\": 210, \"10\": 32, \"7\": 96, \"0\": 1, \"3\": 42, \"1\": 6}, \"4\": {\"4\": 1100, \"12\": 95, \"7\": 3, \"10\": 1, \"11\": 1}, \"5\": {\"13\": 179, \"8\": 307, \"7\": 126, \"15\": 126, \"5\": 408, \"3\": 20, \"10\": 33, \"1\": 1}, \"10\": {\"7\": 441, \"5\": 45, \"10\": 593, \"3\": 51, \"13\": 23, \"8\": 36, \"0\": 7, \"15\": 3, \"12\": 1}, \"1\": {\"1\": 1069, \"15\": 89, \"13\": 30, \"5\": 7, \"8\": 5}, \"2\": {\"2\": 1013, \"14\": 186, \"11\": 1}, \"15\": {\"15\": 423, \"13\": 233, \"8\": 201, \"1\": 95, \"7\": 12, \"5\": 111, \"0\": 15, \"3\": 93, \"10\": 7, \"9\": 1, \"6\": 9}, \"12\": {\"12\": 1108, \"14\": 33, \"4\": 48, \"11\": 8, \"10\": 1, \"7\": 2}}, \"26\": {\"13\": {\"13\": 756, \"5\": 247, \"9\": 115, \"6\": 69, \"7\": 7, \"2\": 3, \"8\": 3}, \"2\": {\"4\": 135, \"8\": 96, \"2\": 290, \"15\": 138, \"7\": 307, \"9\": 45, \"3\": 117, \"5\": 40, \"14\": 7, \"0\": 16, \"13\": 3, \"10\": 5, \"1\": 1}, \"8\": {\"14\": 78, \"8\": 391, \"9\": 153, \"7\": 111, \"2\": 92, \"1\": 14, \"6\": 44, \"10\": 74, \"0\": 98, \"5\": 50, \"4\": 77, \"3\": 5, \"15\": 8, \"13\": 5}, \"9\": {\"9\": 402, \"5\": 199, \"6\": 113, \"7\": 68, \"8\": 181, \"13\": 130, \"2\": 48, \"10\": 23, \"14\": 13, \"4\": 4, \"0\": 10, \"3\": 2, \"15\": 7}, \"12\": {\"12\": 1190, \"11\": 10}, \"4\": {\"2\": 92, \"4\": 561, \"0\": 141, \"14\": 64, \"15\": 54, \"10\": 27, \"3\": 93, \"8\": 80, \"7\": 74, \"1\": 10, \"9\": 2, \"5\": 2}, \"3\": {\"15\": 387, \"7\": 77, \"2\": 133, \"3\": 524, \"8\": 5, \"5\": 6, \"4\": 61, \"14\": 3, \"9\": 2, \"0\": 2}, \"15\": {\"2\": 139, \"15\": 454, \"4\": 65, \"3\": 400, \"8\": 13, \"0\": 5, \"7\": 112, \"5\": 8, \"10\": 2, \"9\": 2}, \"14\": {\"14\": 295, \"4\": 70, \"1\": 269, \"0\": 234, \"10\": 183, \"8\": 99, \"6\": 12, \"7\": 10, \"3\": 1, \"2\": 12, \"9\": 13, \"5\": 2}, \"10\": {\"10\": 332, \"9\": 17, \"0\": 144, \"14\": 203, \"4\": 69, \"6\": 98, \"1\": 202, \"8\": 83, \"7\": 13, \"3\": 5, \"5\": 6, \"2\": 18, \"15\": 4, \"12\": 6}, \"7\": {\"7\": 326, \"9\": 48, \"2\": 310, \"8\": 123, \"4\": 99, \"5\": 68, \"15\": 108, \"14\": 15, \"3\": 80, \"13\": 7, \"0\": 13, \"10\": 3}, \"11\": {\"11\": 1195, \"12\": 5}, \"6\": {\"6\": 757, \"9\": 116, \"5\": 102, \"13\": 92, \"10\": 70, \"14\": 15, \"8\": 34, \"1\": 8, \"0\": 5, \"7\": 1}, \"1\": {\"14\": 260, \"1\": 530, \"10\": 175, \"8\": 34, \"6\": 4, \"0\": 175, \"4\": 19, \"9\": 1, \"7\": 1, \"5\": 1}, \"5\": {\"13\": 290, \"5\": 274, \"9\": 189, \"6\": 171, \"7\": 90, \"3\": 22, \"8\": 38, \"14\": 1, \"2\": 80, \"15\": 34, \"10\": 9, \"4\": 2}, \"0\": {\"1\": 202, \"14\": 249, \"10\": 153, \"7\": 17, \"0\": 318, \"3\": 2, \"4\": 127, \"2\": 33, \"8\": 86, \"15\": 3, \"9\": 5, \"6\": 4, \"5\": 1}}}, \"per_domain_accuracy\": {\"8\": {\"accuracy\": 0.65703125, \"source?\": true}, \"50\": {\"accuracy\": 0.76046875, \"source?\": true}, \"32\": {\"accuracy\": 0.7304166666666667, \"source?\": true}, \"14\": {\"accuracy\": 0.7356770833333334, \"source?\": false}, \"20\": {\"accuracy\": 0.47953125, \"source?\": false}, \"44\": {\"accuracy\": 0.7284895833333334, \"source?\": false}, \"38\": {\"accuracy\": 0.5811458333333334, \"source?\": false}, \"26\": {\"accuracy\": 0.44765625, \"source?\": false}}}, \"history\": {\"epoch_indices\": [1, 2, 3, 4, 5, 6, 7, 8, 9, 10, 11], \"train_label_loss\": [1.3152711066296177, 0.8270588742953444, 0.7069687959066933, 0.6277598745872577, 0.5628609763795421, 0.49733863026731545, 0.4397967428548468, 0.38891902298149134, 0.3426440369606846, 0.3028758076140805, 0.2679857019369771], \"source_val_label_loss\": [1.0200135707855225, 0.8361850380897522, 0.8158214688301086, 0.7979550957679749, 0.7908822298049927, 0.8164488673210144, 0.8369746208190918, 0.8719879984855652, 0.8964504599571228, 0.9461820721626282, 0.9672074317932129], \"target_val_label_loss\": [1.4521028995513916, 1.220842719078064, 1.248691439628601, 1.2275786399841309, 1.222725510597229, 1.2688922882080078, 1.3149001598358154, 1.339152216911316, 1.3827924728393555, 1.4627962112426758, 1.4709041118621826], \"source_val_acc_label\": [0.6149826388888889, 0.6727604166666666, 0.69625, 0.6973263888888889, 0.7050520833333334, 0.7089930555555556, 0.7159722222222222, 0.7048958333333334, 0.7077256944444444, 0.7108680555555555, 0.7038541666666667], \"target_val_acc_label\": [0.50171875, 0.55928125, 0.5757916666666667, 0.5778125, 0.5861354166666667, 0.58825, 0.5945, 0.58853125, 0.58746875, 0.5927708333333334, 0.5803541666666666]}, \"dataset_metrics\": {\"source\": {\"train\": {\"n_unique_x\": 336000, \"n_unique_y\": 16, \"n_batch/episode\": 12600}, \"val\": {\"n_unique_x\": 72000, \"n_unique_y\": 16, \"n_batch/episode\": 1800}, \"test\": {\"n_unique_x\": 72000, \"n_unique_y\": 16, \"n_batch/episode\": 1800}}, \"target\": {\"train\": {\"n_unique_x\": 560000, \"n_unique_y\": 16, \"n_batch/episode\": 21000}, \"val\": {\"n_unique_x\": 120000, \"n_unique_y\": 16, \"n_batch/episode\": 3000}, \"test\": {\"n_unique_x\": 120000, \"n_unique_y\": 16, \"n_batch/episode\": 3000}}}}'"
      ]
     },
     "execution_count": 20,
     "metadata": {},
     "output_type": "execute_result"
    }
   ],
   "source": [
    "json.dumps(experiment)"
   ]
  }
 ],
 "metadata": {
  "celltoolbar": "Tags",
  "kernelspec": {
   "display_name": "Python 3 (ipykernel)",
   "language": "python",
   "name": "python3"
  },
  "language_info": {
   "codemirror_mode": {
    "name": "ipython",
    "version": 3
   },
   "file_extension": ".py",
   "mimetype": "text/x-python",
   "name": "python",
   "nbconvert_exporter": "python",
   "pygments_lexer": "ipython3",
   "version": "3.8.12"
  },
  "papermill": {
   "default_parameters": {},
   "duration": 3911.803726,
   "end_time": "2022-03-26T16:58:02.860319",
   "environment_variables": {},
   "exception": null,
   "input_path": "/root/csc500-main/csc500-notebooks/templates/ptn_template.ipynb",
   "output_path": "trial.ipynb",
   "parameters": {
    "parameters": {
     "BEST_MODEL_PATH": "./best_model.pth",
     "NUM_LOGS_PER_EPOCH": 10,
     "criteria_for_best": "target_accuracy",
     "dataset_seed": 1337,
     "device": "cuda",
     "domains_source": [
      8,
      32,
      50
     ],
     "domains_target": [
      14,
      20,
      26,
      38,
      44
     ],
     "episode_transforms_source": [],
     "episode_transforms_target": [],
     "experiment_name": "tuned_1v2:oracle.run2_limited",
     "labels_source": [
      "3123D52",
      "3123D65",
      "3123D79",
      "3123D80",
      "3123D54",
      "3123D70",
      "3123D7B",
      "3123D89",
      "3123D58",
      "3123D76",
      "3123D7D",
      "3123EFE",
      "3123D64",
      "3123D78",
      "3123D7E",
      "3124E4A"
     ],
     "labels_target": [
      "3123D52",
      "3123D65",
      "3123D79",
      "3123D80",
      "3123D54",
      "3123D70",
      "3123D7B",
      "3123D89",
      "3123D58",
      "3123D76",
      "3123D7D",
      "3123EFE",
      "3123D64",
      "3123D78",
      "3123D7E",
      "3124E4A"
     ],
     "lr": 0.0001,
     "n_epoch": 50,
     "n_query": 2,
     "n_shot": 3,
     "n_way": 16,
     "num_examples_per_domain_per_label_source": -1,
     "num_examples_per_domain_per_label_target": -1,
     "patience": 3,
     "pickle_name": "oracle.Run2_10kExamples_stratified_ds.2022A.pkl",
     "seed": 1337,
     "test_k_factor": 2,
     "torch_default_dtype": "torch.float32",
     "train_k_factor": 3,
     "val_k_factor": 2,
     "x_net": [
      {
       "class": "nnReshape",
       "kargs": {
        "shape": [
         -1,
         1,
         2,
         256
        ]
       }
      },
      {
       "class": "Conv2d",
       "kargs": {
        "bias": false,
        "in_channels": 1,
        "kernel_size": [
         1,
         7
        ],
        "out_channels": 256,
        "padding": [
         0,
         3
        ]
       }
      },
      {
       "class": "ReLU",
       "kargs": {
        "inplace": true
       }
      },
      {
       "class": "BatchNorm2d",
       "kargs": {
        "num_features": 256
       }
      },
      {
       "class": "Conv2d",
       "kargs": {
        "bias": true,
        "in_channels": 256,
        "kernel_size": [
         2,
         7
        ],
        "out_channels": 80,
        "padding": [
         0,
         3
        ]
       }
      },
      {
       "class": "ReLU",
       "kargs": {
        "inplace": true
       }
      },
      {
       "class": "BatchNorm2d",
       "kargs": {
        "num_features": 80
       }
      },
      {
       "class": "Flatten",
       "kargs": {}
      },
      {
       "class": "Linear",
       "kargs": {
        "in_features": 20480,
        "out_features": 256
       }
      },
      {
       "class": "ReLU",
       "kargs": {
        "inplace": true
       }
      },
      {
       "class": "BatchNorm1d",
       "kargs": {
        "num_features": 256
       }
      },
      {
       "class": "Linear",
       "kargs": {
        "in_features": 256,
        "out_features": 256
       }
      }
     ],
     "x_transforms_source": [
      "unit_power"
     ],
     "x_transforms_target": [
      "unit_power"
     ]
    }
   },
   "start_time": "2022-03-26T15:52:51.056593",
   "version": "2.3.4"
  }
 },
 "nbformat": 4,
 "nbformat_minor": 5
}