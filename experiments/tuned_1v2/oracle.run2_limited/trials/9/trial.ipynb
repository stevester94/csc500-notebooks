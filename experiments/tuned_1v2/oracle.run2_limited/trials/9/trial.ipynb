{
 "cells": [
  {
   "cell_type": "markdown",
   "id": "9fea5f46",
   "metadata": {
    "papermill": {
     "duration": 0.014241,
     "end_time": "2022-04-01T17:28:17.435034",
     "exception": false,
     "start_time": "2022-04-01T17:28:17.420793",
     "status": "completed"
    },
    "tags": []
   },
   "source": [
    "# PTN Template\n",
    "This notebook serves as a template for single dataset PTN experiments  \n",
    "It can be run on its own by setting STANDALONE to True (do a find for \"STANDALONE\" to see where)  \n",
    "But it is intended to be executed as part of a *papermill.py script. See any of the   \n",
    "experimentes with a papermill script to get started with that workflow.  "
   ]
  },
  {
   "cell_type": "code",
   "execution_count": 1,
   "id": "0902182a",
   "metadata": {
    "execution": {
     "iopub.execute_input": "2022-04-01T17:28:17.466918Z",
     "iopub.status.busy": "2022-04-01T17:28:17.466516Z",
     "iopub.status.idle": "2022-04-01T17:28:18.372674Z",
     "shell.execute_reply": "2022-04-01T17:28:18.372878Z"
    },
    "papermill": {
     "duration": 0.928595,
     "end_time": "2022-04-01T17:28:18.372970",
     "exception": false,
     "start_time": "2022-04-01T17:28:17.444375",
     "status": "completed"
    },
    "tags": []
   },
   "outputs": [],
   "source": [
    "%load_ext autoreload\n",
    "%autoreload 2\n",
    "%matplotlib inline\n",
    "\n",
    "    \n",
    "import os, json, sys, time, random\n",
    "import numpy as np\n",
    "import torch\n",
    "from torch.optim import Adam\n",
    "from  easydict import EasyDict\n",
    "import matplotlib.pyplot as plt\n",
    "\n",
    "from steves_models.steves_ptn import Steves_Prototypical_Network\n",
    "\n",
    "from steves_utils.lazy_iterable_wrapper import Lazy_Iterable_Wrapper\n",
    "from steves_utils.iterable_aggregator import Iterable_Aggregator\n",
    "from steves_utils.ptn_train_eval_test_jig import  PTN_Train_Eval_Test_Jig\n",
    "from steves_utils.torch_sequential_builder import build_sequential\n",
    "from steves_utils.torch_utils import get_dataset_metrics, ptn_confusion_by_domain_over_dataloader\n",
    "from steves_utils.utils_v2 import (per_domain_accuracy_from_confusion, get_datasets_base_path)\n",
    "from steves_utils.PTN.utils import independent_accuracy_assesment\n",
    "\n",
    "from steves_utils.stratified_dataset.episodic_accessor import Episodic_Accessor_Factory\n",
    "\n",
    "from steves_utils.ptn_do_report import (\n",
    "    get_loss_curve,\n",
    "    get_results_table,\n",
    "    get_parameters_table,\n",
    "    get_domain_accuracies,\n",
    ")\n",
    "\n",
    "from steves_utils.transforms import get_chained_transform"
   ]
  },
  {
   "cell_type": "markdown",
   "id": "41c840b4",
   "metadata": {
    "papermill": {
     "duration": 0.009277,
     "end_time": "2022-04-01T17:28:18.391779",
     "exception": false,
     "start_time": "2022-04-01T17:28:18.382502",
     "status": "completed"
    },
    "tags": []
   },
   "source": [
    "# Required Parameters\n",
    "These are allowed parameters, not defaults\n",
    "Each of these values need to be present in the injected parameters (the notebook will raise an exception if they are not present)\n",
    "\n",
    "Papermill uses the cell tag \"parameters\" to inject the real parameters below this cell.\n",
    "Enable tags to see what I mean"
   ]
  },
  {
   "cell_type": "code",
   "execution_count": 2,
   "id": "fd44eb83",
   "metadata": {
    "execution": {
     "iopub.execute_input": "2022-04-01T17:28:18.412417Z",
     "iopub.status.busy": "2022-04-01T17:28:18.411494Z",
     "iopub.status.idle": "2022-04-01T17:28:18.422583Z",
     "shell.execute_reply": "2022-04-01T17:28:18.422788Z"
    },
    "papermill": {
     "duration": 0.021766,
     "end_time": "2022-04-01T17:28:18.422859",
     "exception": false,
     "start_time": "2022-04-01T17:28:18.401093",
     "status": "completed"
    },
    "tags": []
   },
   "outputs": [],
   "source": [
    "required_parameters = {\n",
    "    \"experiment_name\",\n",
    "    \"lr\",\n",
    "    \"device\",\n",
    "    \"seed\",\n",
    "    \"dataset_seed\",\n",
    "    \"labels_source\",\n",
    "    \"labels_target\",\n",
    "    \"domains_source\",\n",
    "    \"domains_target\",\n",
    "    \"num_examples_per_domain_per_label_source\",\n",
    "    \"num_examples_per_domain_per_label_target\",\n",
    "    \"n_shot\",\n",
    "    \"n_way\",\n",
    "    \"n_query\",\n",
    "    \"train_k_factor\",\n",
    "    \"val_k_factor\",\n",
    "    \"test_k_factor\",\n",
    "    \"n_epoch\",\n",
    "    \"patience\",\n",
    "    \"criteria_for_best\",\n",
    "    \"x_transforms_source\",\n",
    "    \"x_transforms_target\",\n",
    "    \"episode_transforms_source\",\n",
    "    \"episode_transforms_target\",\n",
    "    \"pickle_name\",\n",
    "    \"x_net\",\n",
    "    \"NUM_LOGS_PER_EPOCH\",\n",
    "    \"BEST_MODEL_PATH\",\n",
    "    \"torch_default_dtype\"\n",
    "}"
   ]
  },
  {
   "cell_type": "code",
   "execution_count": 3,
   "id": "fa3f0049",
   "metadata": {
    "execution": {
     "iopub.execute_input": "2022-04-01T17:28:18.450138Z",
     "iopub.status.busy": "2022-04-01T17:28:18.448129Z",
     "iopub.status.idle": "2022-04-01T17:28:18.461612Z",
     "shell.execute_reply": "2022-04-01T17:28:18.461990Z"
    },
    "papermill": {
     "duration": 0.029837,
     "end_time": "2022-04-01T17:28:18.462103",
     "exception": false,
     "start_time": "2022-04-01T17:28:18.432266",
     "status": "completed"
    },
    "tags": [
     "parameters"
    ]
   },
   "outputs": [],
   "source": [
    "\n",
    "\n",
    "standalone_parameters = {}\n",
    "standalone_parameters[\"experiment_name\"] = \"STANDALONE PTN\"\n",
    "standalone_parameters[\"lr\"] = 0.0001\n",
    "standalone_parameters[\"device\"] = \"cuda\"\n",
    "\n",
    "standalone_parameters[\"seed\"] = 1337\n",
    "standalone_parameters[\"dataset_seed\"] = 1337\n",
    "\n",
    "\n",
    "standalone_parameters[\"num_examples_per_domain_per_label_source\"]=100\n",
    "standalone_parameters[\"num_examples_per_domain_per_label_target\"]=100\n",
    "\n",
    "standalone_parameters[\"n_shot\"] = 3\n",
    "standalone_parameters[\"n_query\"]  = 2\n",
    "standalone_parameters[\"train_k_factor\"] = 1\n",
    "standalone_parameters[\"val_k_factor\"] = 2\n",
    "standalone_parameters[\"test_k_factor\"] = 2\n",
    "\n",
    "\n",
    "standalone_parameters[\"n_epoch\"] = 100\n",
    "\n",
    "standalone_parameters[\"patience\"] = 10\n",
    "standalone_parameters[\"criteria_for_best\"] = \"target_accuracy\"\n",
    "\n",
    "standalone_parameters[\"x_transforms_source\"] = [\"unit_power\"]\n",
    "standalone_parameters[\"x_transforms_target\"] = [\"unit_power\"]\n",
    "standalone_parameters[\"episode_transforms_source\"] = []\n",
    "standalone_parameters[\"episode_transforms_target\"] = []\n",
    "\n",
    "standalone_parameters[\"torch_default_dtype\"] = \"torch.float32\" \n",
    "\n",
    "\n",
    "\n",
    "standalone_parameters[\"x_net\"] =     [\n",
    "    {\"class\": \"nnReshape\", \"kargs\": {\"shape\":[-1, 1, 2, 256]}},\n",
    "    {\"class\": \"Conv2d\", \"kargs\": { \"in_channels\":1, \"out_channels\":256, \"kernel_size\":(1,7), \"bias\":False, \"padding\":(0,3), },},\n",
    "    {\"class\": \"ReLU\", \"kargs\": {\"inplace\": True}},\n",
    "    {\"class\": \"BatchNorm2d\", \"kargs\": {\"num_features\":256}},\n",
    "\n",
    "    {\"class\": \"Conv2d\", \"kargs\": { \"in_channels\":256, \"out_channels\":80, \"kernel_size\":(2,7), \"bias\":True, \"padding\":(0,3), },},\n",
    "    {\"class\": \"ReLU\", \"kargs\": {\"inplace\": True}},\n",
    "    {\"class\": \"BatchNorm2d\", \"kargs\": {\"num_features\":80}},\n",
    "    {\"class\": \"Flatten\", \"kargs\": {}},\n",
    "\n",
    "    {\"class\": \"Linear\", \"kargs\": {\"in_features\": 80*256, \"out_features\": 256}}, # 80 units per IQ pair\n",
    "    {\"class\": \"ReLU\", \"kargs\": {\"inplace\": True}},\n",
    "    {\"class\": \"BatchNorm1d\", \"kargs\": {\"num_features\":256}},\n",
    "\n",
    "    {\"class\": \"Linear\", \"kargs\": {\"in_features\": 256, \"out_features\": 256}},\n",
    "]\n",
    "\n",
    "# Parameters relevant to results\n",
    "# These parameters will basically never need to change\n",
    "standalone_parameters[\"NUM_LOGS_PER_EPOCH\"] = 10\n",
    "standalone_parameters[\"BEST_MODEL_PATH\"] = \"./best_model.pth\"\n",
    "\n",
    "# uncomment for CORES dataset\n",
    "from steves_utils.CORES.utils import (\n",
    "    ALL_NODES,\n",
    "    ALL_NODES_MINIMUM_1000_EXAMPLES,\n",
    "    ALL_DAYS\n",
    ")\n",
    "\n",
    "\n",
    "standalone_parameters[\"labels_source\"] = ALL_NODES\n",
    "standalone_parameters[\"labels_target\"] = ALL_NODES\n",
    "\n",
    "standalone_parameters[\"domains_source\"] = [1]\n",
    "standalone_parameters[\"domains_target\"] = [2,3,4,5]\n",
    "\n",
    "standalone_parameters[\"pickle_name\"] = \"cores.stratified_ds.2022A.pkl\"\n",
    "\n",
    "\n",
    "# Uncomment these for ORACLE dataset\n",
    "# from steves_utils.ORACLE.utils_v2 import (\n",
    "#     ALL_DISTANCES_FEET,\n",
    "#     ALL_RUNS,\n",
    "#     ALL_SERIAL_NUMBERS,\n",
    "# )\n",
    "# standalone_parameters[\"labels_source\"] = ALL_SERIAL_NUMBERS\n",
    "# standalone_parameters[\"labels_target\"] = ALL_SERIAL_NUMBERS\n",
    "# standalone_parameters[\"domains_source\"] = [8,20, 38,50]\n",
    "# standalone_parameters[\"domains_target\"] = [14, 26, 32, 44, 56]\n",
    "# standalone_parameters[\"pickle_name\"] = \"oracle.frame_indexed.stratified_ds.2022A.pkl\"\n",
    "# standalone_parameters[\"num_examples_per_domain_per_label_source\"]=1000\n",
    "# standalone_parameters[\"num_examples_per_domain_per_label_target\"]=1000\n",
    "\n",
    "# Uncomment these for Metahan dataset\n",
    "# standalone_parameters[\"labels_source\"] = list(range(19))\n",
    "# standalone_parameters[\"labels_target\"] = list(range(19))\n",
    "# standalone_parameters[\"domains_source\"] = [0]\n",
    "# standalone_parameters[\"domains_target\"] = [1]\n",
    "# standalone_parameters[\"pickle_name\"] = \"metehan.stratified_ds.2022A.pkl\"\n",
    "# standalone_parameters[\"n_way\"]  = len(standalone_parameters[\"labels_source\"])\n",
    "# standalone_parameters[\"num_examples_per_domain_per_label_source\"]=200\n",
    "# standalone_parameters[\"num_examples_per_domain_per_label_target\"]=100\n",
    "\n",
    "\n",
    "standalone_parameters[\"n_way\"]  = len(standalone_parameters[\"labels_source\"])"
   ]
  },
  {
   "cell_type": "code",
   "execution_count": 4,
   "id": "58951d56",
   "metadata": {
    "execution": {
     "iopub.execute_input": "2022-04-01T17:28:18.492035Z",
     "iopub.status.busy": "2022-04-01T17:28:18.486530Z",
     "iopub.status.idle": "2022-04-01T17:28:18.505621Z",
     "shell.execute_reply": "2022-04-01T17:28:18.505200Z"
    },
    "papermill": {
     "duration": 0.029788,
     "end_time": "2022-04-01T17:28:18.505713",
     "exception": false,
     "start_time": "2022-04-01T17:28:18.475925",
     "status": "completed"
    },
    "tags": [
     "injected-parameters"
    ]
   },
   "outputs": [],
   "source": [
    "# Parameters\n",
    "parameters = {\n",
    "    \"experiment_name\": \"tuned_1v2:oracle.run2_limited\",\n",
    "    \"device\": \"cuda\",\n",
    "    \"lr\": 0.0001,\n",
    "    \"labels_source\": [\n",
    "        \"3123D52\",\n",
    "        \"3123D65\",\n",
    "        \"3123D79\",\n",
    "        \"3123D80\",\n",
    "        \"3123D54\",\n",
    "        \"3123D70\",\n",
    "        \"3123D7B\",\n",
    "        \"3123D89\",\n",
    "        \"3123D58\",\n",
    "        \"3123D76\",\n",
    "        \"3123D7D\",\n",
    "        \"3123EFE\",\n",
    "        \"3123D64\",\n",
    "        \"3123D78\",\n",
    "        \"3123D7E\",\n",
    "        \"3124E4A\",\n",
    "    ],\n",
    "    \"labels_target\": [\n",
    "        \"3123D52\",\n",
    "        \"3123D65\",\n",
    "        \"3123D79\",\n",
    "        \"3123D80\",\n",
    "        \"3123D54\",\n",
    "        \"3123D70\",\n",
    "        \"3123D7B\",\n",
    "        \"3123D89\",\n",
    "        \"3123D58\",\n",
    "        \"3123D76\",\n",
    "        \"3123D7D\",\n",
    "        \"3123EFE\",\n",
    "        \"3123D64\",\n",
    "        \"3123D78\",\n",
    "        \"3123D7E\",\n",
    "        \"3124E4A\",\n",
    "    ],\n",
    "    \"episode_transforms_source\": [],\n",
    "    \"episode_transforms_target\": [],\n",
    "    \"domains_source\": [8, 32, 50],\n",
    "    \"domains_target\": [14, 20, 26, 38, 44],\n",
    "    \"num_examples_per_domain_per_label_source\": 2000,\n",
    "    \"num_examples_per_domain_per_label_target\": 2000,\n",
    "    \"n_shot\": 3,\n",
    "    \"n_way\": 16,\n",
    "    \"n_query\": 2,\n",
    "    \"train_k_factor\": 3,\n",
    "    \"val_k_factor\": 2,\n",
    "    \"test_k_factor\": 2,\n",
    "    \"torch_default_dtype\": \"torch.float32\",\n",
    "    \"n_epoch\": 50,\n",
    "    \"patience\": 3,\n",
    "    \"criteria_for_best\": \"target_accuracy\",\n",
    "    \"x_net\": [\n",
    "        {\"class\": \"nnReshape\", \"kargs\": {\"shape\": [-1, 1, 2, 256]}},\n",
    "        {\n",
    "            \"class\": \"Conv2d\",\n",
    "            \"kargs\": {\n",
    "                \"in_channels\": 1,\n",
    "                \"out_channels\": 256,\n",
    "                \"kernel_size\": [1, 7],\n",
    "                \"bias\": False,\n",
    "                \"padding\": [0, 3],\n",
    "            },\n",
    "        },\n",
    "        {\"class\": \"ReLU\", \"kargs\": {\"inplace\": True}},\n",
    "        {\"class\": \"BatchNorm2d\", \"kargs\": {\"num_features\": 256}},\n",
    "        {\n",
    "            \"class\": \"Conv2d\",\n",
    "            \"kargs\": {\n",
    "                \"in_channels\": 256,\n",
    "                \"out_channels\": 80,\n",
    "                \"kernel_size\": [2, 7],\n",
    "                \"bias\": True,\n",
    "                \"padding\": [0, 3],\n",
    "            },\n",
    "        },\n",
    "        {\"class\": \"ReLU\", \"kargs\": {\"inplace\": True}},\n",
    "        {\"class\": \"BatchNorm2d\", \"kargs\": {\"num_features\": 80}},\n",
    "        {\"class\": \"Flatten\", \"kargs\": {}},\n",
    "        {\"class\": \"Linear\", \"kargs\": {\"in_features\": 20480, \"out_features\": 256}},\n",
    "        {\"class\": \"ReLU\", \"kargs\": {\"inplace\": True}},\n",
    "        {\"class\": \"BatchNorm1d\", \"kargs\": {\"num_features\": 256}},\n",
    "        {\"class\": \"Linear\", \"kargs\": {\"in_features\": 256, \"out_features\": 256}},\n",
    "    ],\n",
    "    \"NUM_LOGS_PER_EPOCH\": 10,\n",
    "    \"BEST_MODEL_PATH\": \"./best_model.pth\",\n",
    "    \"pickle_name\": \"oracle.Run2_10kExamples_stratified_ds.2022A.pkl\",\n",
    "    \"x_transforms_source\": [\"unit_mag\"],\n",
    "    \"x_transforms_target\": [\"unit_mag\"],\n",
    "    \"dataset_seed\": 7,\n",
    "    \"seed\": 7,\n",
    "}\n"
   ]
  },
  {
   "cell_type": "code",
   "execution_count": 5,
   "id": "8fa1cc33",
   "metadata": {
    "execution": {
     "iopub.execute_input": "2022-04-01T17:28:18.532770Z",
     "iopub.status.busy": "2022-04-01T17:28:18.531146Z",
     "iopub.status.idle": "2022-04-01T17:28:18.546467Z",
     "shell.execute_reply": "2022-04-01T17:28:18.546074Z"
    },
    "papermill": {
     "duration": 0.026784,
     "end_time": "2022-04-01T17:28:18.546562",
     "exception": false,
     "start_time": "2022-04-01T17:28:18.519778",
     "status": "completed"
    },
    "tags": []
   },
   "outputs": [],
   "source": [
    "# Set this to True if you want to run this template directly\n",
    "STANDALONE = False\n",
    "if STANDALONE:\n",
    "    print(\"parameters not injected, running with standalone_parameters\")\n",
    "    parameters = standalone_parameters\n",
    "\n",
    "if not 'parameters' in locals() and not 'parameters' in globals():\n",
    "    raise Exception(\"Parameter injection failed\")\n",
    "\n",
    "#Use an easy dict for all the parameters\n",
    "p = EasyDict(parameters)\n",
    "\n",
    "supplied_keys = set(p.keys())\n",
    "\n",
    "if  supplied_keys != required_parameters:\n",
    "    print(\"Parameters are incorrect\")\n",
    "    if len(supplied_keys - required_parameters)>0: print(\"Shouldn't have:\", str(supplied_keys - required_parameters))\n",
    "    if len(required_parameters - supplied_keys)>0: print(\"Need to have:\", str(required_parameters - supplied_keys))\n",
    "    raise RuntimeError(\"Parameters are incorrect\")\n",
    "\n"
   ]
  },
  {
   "cell_type": "code",
   "execution_count": 6,
   "id": "3a028d58",
   "metadata": {
    "execution": {
     "iopub.execute_input": "2022-04-01T17:28:18.571895Z",
     "iopub.status.busy": "2022-04-01T17:28:18.571643Z",
     "iopub.status.idle": "2022-04-01T17:28:18.583804Z",
     "shell.execute_reply": "2022-04-01T17:28:18.583413Z"
    },
    "papermill": {
     "duration": 0.023564,
     "end_time": "2022-04-01T17:28:18.583900",
     "exception": false,
     "start_time": "2022-04-01T17:28:18.560336",
     "status": "completed"
    },
    "tags": []
   },
   "outputs": [],
   "source": [
    "###################################\n",
    "# Set the RNGs and make it all deterministic\n",
    "###################################\n",
    "np.random.seed(p.seed)\n",
    "random.seed(p.seed)\n",
    "torch.manual_seed(p.seed)\n",
    "\n",
    "torch.use_deterministic_algorithms(True) "
   ]
  },
  {
   "cell_type": "code",
   "execution_count": 7,
   "id": "b691acf6",
   "metadata": {
    "execution": {
     "iopub.execute_input": "2022-04-01T17:28:18.610622Z",
     "iopub.status.busy": "2022-04-01T17:28:18.610124Z",
     "iopub.status.idle": "2022-04-01T17:28:18.624664Z",
     "shell.execute_reply": "2022-04-01T17:28:18.624977Z"
    },
    "papermill": {
     "duration": 0.026043,
     "end_time": "2022-04-01T17:28:18.625070",
     "exception": false,
     "start_time": "2022-04-01T17:28:18.599027",
     "status": "completed"
    },
    "tags": []
   },
   "outputs": [],
   "source": [
    "###########################################\n",
    "# The stratified datasets honor this\n",
    "###########################################\n",
    "torch.set_default_dtype(eval(p.torch_default_dtype))"
   ]
  },
  {
   "cell_type": "code",
   "execution_count": 8,
   "id": "b5fba671",
   "metadata": {
    "execution": {
     "iopub.execute_input": "2022-04-01T17:28:18.651214Z",
     "iopub.status.busy": "2022-04-01T17:28:18.650492Z",
     "iopub.status.idle": "2022-04-01T17:28:18.691917Z",
     "shell.execute_reply": "2022-04-01T17:28:18.691510Z"
    },
    "papermill": {
     "duration": 0.052225,
     "end_time": "2022-04-01T17:28:18.692011",
     "exception": false,
     "start_time": "2022-04-01T17:28:18.639786",
     "status": "completed"
    },
    "tags": []
   },
   "outputs": [],
   "source": [
    "###################################\n",
    "# Build the network(s)\n",
    "# Note: It's critical to do this AFTER setting the RNG\n",
    "# (This is due to the randomized initial weights)\n",
    "###################################\n",
    "x_net = build_sequential(p.x_net)"
   ]
  },
  {
   "cell_type": "code",
   "execution_count": 9,
   "id": "5d7e61cc",
   "metadata": {
    "execution": {
     "iopub.execute_input": "2022-04-01T17:28:18.719659Z",
     "iopub.status.busy": "2022-04-01T17:28:18.719413Z",
     "iopub.status.idle": "2022-04-01T17:28:18.734595Z",
     "shell.execute_reply": "2022-04-01T17:28:18.734976Z"
    },
    "papermill": {
     "duration": 0.02756,
     "end_time": "2022-04-01T17:28:18.735085",
     "exception": false,
     "start_time": "2022-04-01T17:28:18.707525",
     "status": "completed"
    },
    "tags": []
   },
   "outputs": [],
   "source": [
    "start_time_secs = time.time()"
   ]
  },
  {
   "cell_type": "code",
   "execution_count": 10,
   "id": "fd5442bc",
   "metadata": {
    "execution": {
     "iopub.execute_input": "2022-04-01T17:28:18.764358Z",
     "iopub.status.busy": "2022-04-01T17:28:18.764087Z",
     "iopub.status.idle": "2022-04-01T17:28:36.873144Z",
     "shell.execute_reply": "2022-04-01T17:28:36.872662Z"
    },
    "papermill": {
     "duration": 18.12392,
     "end_time": "2022-04-01T17:28:36.873241",
     "exception": false,
     "start_time": "2022-04-01T17:28:18.749321",
     "status": "completed"
    },
    "tags": []
   },
   "outputs": [],
   "source": [
    "###################################\n",
    "# Build the dataset\n",
    "###################################\n",
    "\n",
    "if p.x_transforms_source == []: x_transform_source = None\n",
    "else: x_transform_source = get_chained_transform(p.x_transforms_source) \n",
    "\n",
    "if p.x_transforms_target == []: x_transform_target = None\n",
    "else: x_transform_target = get_chained_transform(p.x_transforms_target)\n",
    "\n",
    "if p.episode_transforms_source == []: episode_transform_source = None\n",
    "else: raise Exception(\"episode_transform_source not implemented\")\n",
    "\n",
    "if p.episode_transforms_target == []: episode_transform_target = None\n",
    "else: raise Exception(\"episode_transform_target not implemented\")\n",
    "\n",
    "\n",
    "eaf_source = Episodic_Accessor_Factory(\n",
    "    labels=p.labels_source,\n",
    "    domains=p.domains_source,\n",
    "    num_examples_per_domain_per_label=p.num_examples_per_domain_per_label_source,\n",
    "    iterator_seed=p.seed,\n",
    "    dataset_seed=p.dataset_seed,\n",
    "    n_shot=p.n_shot,\n",
    "    n_way=p.n_way,\n",
    "    n_query=p.n_query,\n",
    "    train_val_test_k_factors=(p.train_k_factor,p.val_k_factor,p.test_k_factor),\n",
    "    pickle_path=os.path.join(get_datasets_base_path(), p.pickle_name),\n",
    "    x_transform_func=x_transform_source,\n",
    "    example_transform_func=episode_transform_source,\n",
    "    \n",
    ")\n",
    "train_original_source, val_original_source, test_original_source = eaf_source.get_train(), eaf_source.get_val(), eaf_source.get_test()\n",
    "\n",
    "\n",
    "eaf_target = Episodic_Accessor_Factory(\n",
    "    labels=p.labels_target,\n",
    "    domains=p.domains_target,\n",
    "    num_examples_per_domain_per_label=p.num_examples_per_domain_per_label_target,\n",
    "    iterator_seed=p.seed,\n",
    "    dataset_seed=p.dataset_seed,\n",
    "    n_shot=p.n_shot,\n",
    "    n_way=p.n_way,\n",
    "    n_query=p.n_query,\n",
    "    train_val_test_k_factors=(p.train_k_factor,p.val_k_factor,p.test_k_factor),\n",
    "    pickle_path=os.path.join(get_datasets_base_path(), p.pickle_name),\n",
    "    x_transform_func=x_transform_target,\n",
    "    example_transform_func=episode_transform_target,\n",
    ")\n",
    "train_original_target, val_original_target, test_original_target = eaf_target.get_train(), eaf_target.get_val(), eaf_target.get_test()\n",
    "\n",
    "\n",
    "transform_lambda = lambda ex: ex[1] # Original is (<domain>, <episode>) so we strip down to episode only\n",
    "\n",
    "train_processed_source = Lazy_Iterable_Wrapper(train_original_source, transform_lambda)\n",
    "val_processed_source   = Lazy_Iterable_Wrapper(val_original_source, transform_lambda)\n",
    "test_processed_source  = Lazy_Iterable_Wrapper(test_original_source, transform_lambda)\n",
    "\n",
    "train_processed_target = Lazy_Iterable_Wrapper(train_original_target, transform_lambda)\n",
    "val_processed_target   = Lazy_Iterable_Wrapper(val_original_target, transform_lambda)\n",
    "test_processed_target  = Lazy_Iterable_Wrapper(test_original_target, transform_lambda)\n",
    "\n",
    "datasets = EasyDict({\n",
    "    \"source\": {\n",
    "        \"original\": {\"train\":train_original_source, \"val\":val_original_source, \"test\":test_original_source},\n",
    "        \"processed\": {\"train\":train_processed_source, \"val\":val_processed_source, \"test\":test_processed_source}\n",
    "    },\n",
    "    \"target\": {\n",
    "        \"original\": {\"train\":train_original_target, \"val\":val_original_target, \"test\":test_original_target},\n",
    "        \"processed\": {\"train\":train_processed_target, \"val\":val_processed_target, \"test\":test_processed_target}\n",
    "    },\n",
    "})"
   ]
  },
  {
   "cell_type": "code",
   "execution_count": 11,
   "id": "296189d9",
   "metadata": {
    "execution": {
     "iopub.execute_input": "2022-04-01T17:28:36.904322Z",
     "iopub.status.busy": "2022-04-01T17:28:36.904066Z",
     "iopub.status.idle": "2022-04-01T17:28:38.534235Z",
     "shell.execute_reply": "2022-04-01T17:28:38.534622Z"
    },
    "papermill": {
     "duration": 1.644732,
     "end_time": "2022-04-01T17:28:38.534751",
     "exception": false,
     "start_time": "2022-04-01T17:28:36.890019",
     "status": "completed"
    },
    "tags": []
   },
   "outputs": [
    {
     "name": "stdout",
     "output_type": "stream",
     "text": [
      "Visually inspect these to see if they line up with expected values given the transforms\n",
      "x_transforms_source ['unit_mag']\n",
      "x_transforms_target ['unit_mag']\n",
      "Average magnitude, source: 1.0\n",
      "Average power, source: 1.0878031\n"
     ]
    },
    {
     "name": "stdout",
     "output_type": "stream",
     "text": [
      "Average magnitude, target: 1.0\n",
      "Average power, target: 1.261092\n"
     ]
    }
   ],
   "source": [
    "# Some quick unit tests on the data\n",
    "from steves_utils.transforms import get_average_power, get_average_magnitude\n",
    "\n",
    "q_x, q_y, s_x, s_y, truth = next(iter(train_processed_source))\n",
    "\n",
    "assert q_x.dtype == eval(p.torch_default_dtype)\n",
    "assert s_x.dtype == eval(p.torch_default_dtype)\n",
    "\n",
    "print(\"Visually inspect these to see if they line up with expected values given the transforms\")\n",
    "print('x_transforms_source', p.x_transforms_source)\n",
    "print('x_transforms_target', p.x_transforms_target)\n",
    "print(\"Average magnitude, source:\", get_average_magnitude(q_x[0].numpy()))\n",
    "print(\"Average power, source:\", get_average_power(q_x[0].numpy()))\n",
    "\n",
    "q_x, q_y, s_x, s_y, truth = next(iter(train_processed_target))\n",
    "print(\"Average magnitude, target:\", get_average_magnitude(q_x[0].numpy()))\n",
    "print(\"Average power, target:\", get_average_power(q_x[0].numpy()))\n"
   ]
  },
  {
   "cell_type": "code",
   "execution_count": 12,
   "id": "bbdacba1",
   "metadata": {
    "execution": {
     "iopub.execute_input": "2022-04-01T17:28:38.565237Z",
     "iopub.status.busy": "2022-04-01T17:28:38.564967Z",
     "iopub.status.idle": "2022-04-01T17:28:38.623988Z",
     "shell.execute_reply": "2022-04-01T17:28:38.623733Z"
    },
    "papermill": {
     "duration": 0.072104,
     "end_time": "2022-04-01T17:28:38.624042",
     "exception": false,
     "start_time": "2022-04-01T17:28:38.551938",
     "status": "completed"
    },
    "tags": []
   },
   "outputs": [
    {
     "name": "stdout",
     "output_type": "stream",
     "text": [
      "(2, 256)\n"
     ]
    }
   ],
   "source": [
    "###################################\n",
    "# Build the model\n",
    "###################################\n",
    "model = Steves_Prototypical_Network(x_net, device=p.device, x_shape=(2,256))\n",
    "optimizer = Adam(params=model.parameters(), lr=p.lr)"
   ]
  },
  {
   "cell_type": "code",
   "execution_count": 13,
   "id": "22b39ac5",
   "metadata": {
    "execution": {
     "iopub.execute_input": "2022-04-01T17:28:38.648141Z",
     "iopub.status.busy": "2022-04-01T17:28:38.647889Z",
     "iopub.status.idle": "2022-04-01T17:47:47.156388Z",
     "shell.execute_reply": "2022-04-01T17:47:47.156157Z"
    },
    "papermill": {
     "duration": 1148.52173,
     "end_time": "2022-04-01T17:47:47.156446",
     "exception": false,
     "start_time": "2022-04-01T17:28:38.634716",
     "status": "completed"
    },
    "tags": []
   },
   "outputs": [
    {
     "name": "stdout",
     "output_type": "stream",
     "text": [
      "epoch: 1, [batch: 1 / 2520], examples_per_second: 127.6511, train_label_loss: 2.7871, \n"
     ]
    },
    {
     "name": "stdout",
     "output_type": "stream",
     "text": [
      "epoch: 1, [batch: 252 / 2520], examples_per_second: 3152.9995, train_label_loss: 2.8178, \n"
     ]
    },
    {
     "name": "stdout",
     "output_type": "stream",
     "text": [
      "epoch: 1, [batch: 504 / 2520], examples_per_second: 3165.8409, train_label_loss: 1.7931, \n"
     ]
    },
    {
     "name": "stdout",
     "output_type": "stream",
     "text": [
      "epoch: 1, [batch: 756 / 2520], examples_per_second: 3161.6698, train_label_loss: 1.3969, \n"
     ]
    },
    {
     "name": "stdout",
     "output_type": "stream",
     "text": [
      "epoch: 1, [batch: 1008 / 2520], examples_per_second: 3153.2269, train_label_loss: 1.8661, \n"
     ]
    },
    {
     "name": "stdout",
     "output_type": "stream",
     "text": [
      "epoch: 1, [batch: 1260 / 2520], examples_per_second: 3161.2593, train_label_loss: 1.5745, \n"
     ]
    },
    {
     "name": "stdout",
     "output_type": "stream",
     "text": [
      "epoch: 1, [batch: 1512 / 2520], examples_per_second: 3159.2778, train_label_loss: 1.2090, \n"
     ]
    },
    {
     "name": "stdout",
     "output_type": "stream",
     "text": [
      "epoch: 1, [batch: 1764 / 2520], examples_per_second: 3142.5858, train_label_loss: 1.4828, \n"
     ]
    },
    {
     "name": "stdout",
     "output_type": "stream",
     "text": [
      "epoch: 1, [batch: 2016 / 2520], examples_per_second: 3167.2719, train_label_loss: 1.2039, \n"
     ]
    },
    {
     "name": "stdout",
     "output_type": "stream",
     "text": [
      "epoch: 1, [batch: 2268 / 2520], examples_per_second: 3167.9106, train_label_loss: 2.0478, \n"
     ]
    },
    {
     "name": "stdout",
     "output_type": "stream",
     "text": [
      "=============================================================\n",
      "epoch: 1, source_val_acc_label: 0.3965, target_val_acc_label: 0.2786, source_val_label_loss: 1.5067, target_val_label_loss: 1.9586, \n",
      "=============================================================\n"
     ]
    },
    {
     "name": "stdout",
     "output_type": "stream",
     "text": [
      "New best\n"
     ]
    },
    {
     "name": "stdout",
     "output_type": "stream",
     "text": [
      "epoch: 2, [batch: 1 / 2520], examples_per_second: 11.1082, train_label_loss: 1.0603, \n"
     ]
    },
    {
     "name": "stdout",
     "output_type": "stream",
     "text": [
      "epoch: 2, [batch: 252 / 2520], examples_per_second: 3163.9131, train_label_loss: 1.2207, \n"
     ]
    },
    {
     "name": "stdout",
     "output_type": "stream",
     "text": [
      "epoch: 2, [batch: 504 / 2520], examples_per_second: 3159.0187, train_label_loss: 1.1222, \n"
     ]
    },
    {
     "name": "stdout",
     "output_type": "stream",
     "text": [
      "epoch: 2, [batch: 756 / 2520], examples_per_second: 3163.0948, train_label_loss: 1.4378, \n"
     ]
    },
    {
     "name": "stdout",
     "output_type": "stream",
     "text": [
      "epoch: 2, [batch: 1008 / 2520], examples_per_second: 3141.6687, train_label_loss: 1.2717, \n"
     ]
    },
    {
     "name": "stdout",
     "output_type": "stream",
     "text": [
      "epoch: 2, [batch: 1260 / 2520], examples_per_second: 3160.9950, train_label_loss: 1.6186, \n"
     ]
    },
    {
     "name": "stdout",
     "output_type": "stream",
     "text": [
      "epoch: 2, [batch: 1512 / 2520], examples_per_second: 3174.2654, train_label_loss: 1.4580, \n"
     ]
    },
    {
     "name": "stdout",
     "output_type": "stream",
     "text": [
      "epoch: 2, [batch: 1764 / 2520], examples_per_second: 3153.7098, train_label_loss: 1.1725, \n"
     ]
    },
    {
     "name": "stdout",
     "output_type": "stream",
     "text": [
      "epoch: 2, [batch: 2016 / 2520], examples_per_second: 3175.5298, train_label_loss: 1.3581, \n"
     ]
    },
    {
     "name": "stdout",
     "output_type": "stream",
     "text": [
      "epoch: 2, [batch: 2268 / 2520], examples_per_second: 3186.3464, train_label_loss: 0.9499, \n"
     ]
    },
    {
     "name": "stdout",
     "output_type": "stream",
     "text": [
      "=============================================================\n",
      "epoch: 2, source_val_acc_label: 0.4249, target_val_acc_label: 0.3059, source_val_label_loss: 1.3986, target_val_label_loss: 1.8707, \n",
      "=============================================================\n"
     ]
    },
    {
     "name": "stdout",
     "output_type": "stream",
     "text": [
      "New best\n"
     ]
    },
    {
     "name": "stdout",
     "output_type": "stream",
     "text": [
      "epoch: 3, [batch: 1 / 2520], examples_per_second: 11.0671, train_label_loss: 1.1952, \n"
     ]
    },
    {
     "name": "stdout",
     "output_type": "stream",
     "text": [
      "epoch: 3, [batch: 252 / 2520], examples_per_second: 3147.3260, train_label_loss: 1.5284, \n"
     ]
    },
    {
     "name": "stdout",
     "output_type": "stream",
     "text": [
      "epoch: 3, [batch: 504 / 2520], examples_per_second: 3165.8893, train_label_loss: 1.0976, \n"
     ]
    },
    {
     "name": "stdout",
     "output_type": "stream",
     "text": [
      "epoch: 3, [batch: 756 / 2520], examples_per_second: 3165.3890, train_label_loss: 1.2233, \n"
     ]
    },
    {
     "name": "stdout",
     "output_type": "stream",
     "text": [
      "epoch: 3, [batch: 1008 / 2520], examples_per_second: 3162.5440, train_label_loss: 1.4058, \n"
     ]
    },
    {
     "name": "stdout",
     "output_type": "stream",
     "text": [
      "epoch: 3, [batch: 1260 / 2520], examples_per_second: 3174.5367, train_label_loss: 0.9519, \n"
     ]
    },
    {
     "name": "stdout",
     "output_type": "stream",
     "text": [
      "epoch: 3, [batch: 1512 / 2520], examples_per_second: 3162.0021, train_label_loss: 0.8007, \n"
     ]
    },
    {
     "name": "stdout",
     "output_type": "stream",
     "text": [
      "epoch: 3, [batch: 1764 / 2520], examples_per_second: 3172.2777, train_label_loss: 1.2966, \n"
     ]
    },
    {
     "name": "stdout",
     "output_type": "stream",
     "text": [
      "epoch: 3, [batch: 2016 / 2520], examples_per_second: 3161.6558, train_label_loss: 0.8743, \n"
     ]
    },
    {
     "name": "stdout",
     "output_type": "stream",
     "text": [
      "epoch: 3, [batch: 2268 / 2520], examples_per_second: 3158.5940, train_label_loss: 1.2970, \n"
     ]
    },
    {
     "name": "stdout",
     "output_type": "stream",
     "text": [
      "=============================================================\n",
      "epoch: 3, source_val_acc_label: 0.5309, target_val_acc_label: 0.4263, source_val_label_loss: 1.2020, target_val_label_loss: 1.6140, \n",
      "=============================================================\n"
     ]
    },
    {
     "name": "stdout",
     "output_type": "stream",
     "text": [
      "New best\n"
     ]
    },
    {
     "name": "stdout",
     "output_type": "stream",
     "text": [
      "epoch: 4, [batch: 1 / 2520], examples_per_second: 11.0782, train_label_loss: 0.9935, \n"
     ]
    },
    {
     "name": "stdout",
     "output_type": "stream",
     "text": [
      "epoch: 4, [batch: 252 / 2520], examples_per_second: 3176.2667, train_label_loss: 0.8133, \n"
     ]
    },
    {
     "name": "stdout",
     "output_type": "stream",
     "text": [
      "epoch: 4, [batch: 504 / 2520], examples_per_second: 3176.0149, train_label_loss: 1.4423, \n"
     ]
    },
    {
     "name": "stdout",
     "output_type": "stream",
     "text": [
      "epoch: 4, [batch: 756 / 2520], examples_per_second: 3168.2014, train_label_loss: 0.7826, \n"
     ]
    },
    {
     "name": "stdout",
     "output_type": "stream",
     "text": [
      "epoch: 4, [batch: 1008 / 2520], examples_per_second: 3151.5544, train_label_loss: 0.9533, \n"
     ]
    },
    {
     "name": "stdout",
     "output_type": "stream",
     "text": [
      "epoch: 4, [batch: 1260 / 2520], examples_per_second: 3177.0359, train_label_loss: 1.2155, \n"
     ]
    },
    {
     "name": "stdout",
     "output_type": "stream",
     "text": [
      "epoch: 4, [batch: 1512 / 2520], examples_per_second: 3186.9363, train_label_loss: 0.6010, \n"
     ]
    },
    {
     "name": "stdout",
     "output_type": "stream",
     "text": [
      "epoch: 4, [batch: 1764 / 2520], examples_per_second: 3164.5179, train_label_loss: 0.5064, \n"
     ]
    },
    {
     "name": "stdout",
     "output_type": "stream",
     "text": [
      "epoch: 4, [batch: 2016 / 2520], examples_per_second: 3178.4201, train_label_loss: 0.6909, \n"
     ]
    },
    {
     "name": "stdout",
     "output_type": "stream",
     "text": [
      "epoch: 4, [batch: 2268 / 2520], examples_per_second: 3182.3092, train_label_loss: 0.7023, \n"
     ]
    },
    {
     "name": "stdout",
     "output_type": "stream",
     "text": [
      "=============================================================\n",
      "epoch: 4, source_val_acc_label: 0.5787, target_val_acc_label: 0.4754, source_val_label_loss: 1.1089, target_val_label_loss: 1.5218, \n",
      "=============================================================\n"
     ]
    },
    {
     "name": "stdout",
     "output_type": "stream",
     "text": [
      "New best\n"
     ]
    },
    {
     "name": "stdout",
     "output_type": "stream",
     "text": [
      "epoch: 5, [batch: 1 / 2520], examples_per_second: 11.0973, train_label_loss: 0.8878, \n"
     ]
    },
    {
     "name": "stdout",
     "output_type": "stream",
     "text": [
      "epoch: 5, [batch: 252 / 2520], examples_per_second: 3174.4204, train_label_loss: 1.0192, \n"
     ]
    },
    {
     "name": "stdout",
     "output_type": "stream",
     "text": [
      "epoch: 5, [batch: 504 / 2520], examples_per_second: 3165.9067, train_label_loss: 0.9599, \n"
     ]
    },
    {
     "name": "stdout",
     "output_type": "stream",
     "text": [
      "epoch: 5, [batch: 756 / 2520], examples_per_second: 3152.2995, train_label_loss: 0.8133, \n"
     ]
    },
    {
     "name": "stdout",
     "output_type": "stream",
     "text": [
      "epoch: 5, [batch: 1008 / 2520], examples_per_second: 3159.0406, train_label_loss: 0.7882, \n"
     ]
    },
    {
     "name": "stdout",
     "output_type": "stream",
     "text": [
      "epoch: 5, [batch: 1260 / 2520], examples_per_second: 3156.8673, train_label_loss: 0.5353, \n"
     ]
    },
    {
     "name": "stdout",
     "output_type": "stream",
     "text": [
      "epoch: 5, [batch: 1512 / 2520], examples_per_second: 3173.8942, train_label_loss: 1.0765, \n"
     ]
    },
    {
     "name": "stdout",
     "output_type": "stream",
     "text": [
      "epoch: 5, [batch: 1764 / 2520], examples_per_second: 3149.9023, train_label_loss: 0.6779, \n"
     ]
    },
    {
     "name": "stdout",
     "output_type": "stream",
     "text": [
      "epoch: 5, [batch: 2016 / 2520], examples_per_second: 3175.9656, train_label_loss: 0.8175, \n"
     ]
    },
    {
     "name": "stdout",
     "output_type": "stream",
     "text": [
      "epoch: 5, [batch: 2268 / 2520], examples_per_second: 3179.5617, train_label_loss: 0.7841, \n"
     ]
    },
    {
     "name": "stdout",
     "output_type": "stream",
     "text": [
      "=============================================================\n",
      "epoch: 5, source_val_acc_label: 0.5974, target_val_acc_label: 0.4865, source_val_label_loss: 1.1131, target_val_label_loss: 1.5551, \n",
      "=============================================================\n"
     ]
    },
    {
     "name": "stdout",
     "output_type": "stream",
     "text": [
      "New best\n"
     ]
    },
    {
     "name": "stdout",
     "output_type": "stream",
     "text": [
      "epoch: 6, [batch: 1 / 2520], examples_per_second: 11.0700, train_label_loss: 0.6650, \n"
     ]
    },
    {
     "name": "stdout",
     "output_type": "stream",
     "text": [
      "epoch: 6, [batch: 252 / 2520], examples_per_second: 3148.1425, train_label_loss: 0.8071, \n"
     ]
    },
    {
     "name": "stdout",
     "output_type": "stream",
     "text": [
      "epoch: 6, [batch: 504 / 2520], examples_per_second: 3158.6278, train_label_loss: 0.5648, \n"
     ]
    },
    {
     "name": "stdout",
     "output_type": "stream",
     "text": [
      "epoch: 6, [batch: 756 / 2520], examples_per_second: 3165.3962, train_label_loss: 0.5154, \n"
     ]
    },
    {
     "name": "stdout",
     "output_type": "stream",
     "text": [
      "epoch: 6, [batch: 1008 / 2520], examples_per_second: 3162.4662, train_label_loss: 0.7990, \n"
     ]
    },
    {
     "name": "stdout",
     "output_type": "stream",
     "text": [
      "epoch: 6, [batch: 1260 / 2520], examples_per_second: 3169.6808, train_label_loss: 0.2545, \n"
     ]
    },
    {
     "name": "stdout",
     "output_type": "stream",
     "text": [
      "epoch: 6, [batch: 1512 / 2520], examples_per_second: 3165.4799, train_label_loss: 0.8878, \n"
     ]
    },
    {
     "name": "stdout",
     "output_type": "stream",
     "text": [
      "epoch: 6, [batch: 1764 / 2520], examples_per_second: 3159.3813, train_label_loss: 0.6244, \n"
     ]
    },
    {
     "name": "stdout",
     "output_type": "stream",
     "text": [
      "epoch: 6, [batch: 2016 / 2520], examples_per_second: 3167.0895, train_label_loss: 0.4362, \n"
     ]
    },
    {
     "name": "stdout",
     "output_type": "stream",
     "text": [
      "epoch: 6, [batch: 2268 / 2520], examples_per_second: 3176.7887, train_label_loss: 0.3305, \n"
     ]
    },
    {
     "name": "stdout",
     "output_type": "stream",
     "text": [
      "=============================================================\n",
      "epoch: 6, source_val_acc_label: 0.5995, target_val_acc_label: 0.4934, source_val_label_loss: 1.1708, target_val_label_loss: 1.6151, \n",
      "=============================================================\n"
     ]
    },
    {
     "name": "stdout",
     "output_type": "stream",
     "text": [
      "New best\n"
     ]
    },
    {
     "name": "stdout",
     "output_type": "stream",
     "text": [
      "epoch: 7, [batch: 1 / 2520], examples_per_second: 11.1406, train_label_loss: 0.5173, \n"
     ]
    },
    {
     "name": "stdout",
     "output_type": "stream",
     "text": [
      "epoch: 7, [batch: 252 / 2520], examples_per_second: 3181.2342, train_label_loss: 0.4665, \n"
     ]
    },
    {
     "name": "stdout",
     "output_type": "stream",
     "text": [
      "epoch: 7, [batch: 504 / 2520], examples_per_second: 3159.7952, train_label_loss: 0.4791, \n"
     ]
    },
    {
     "name": "stdout",
     "output_type": "stream",
     "text": [
      "epoch: 7, [batch: 756 / 2520], examples_per_second: 3150.7150, train_label_loss: 0.6415, \n"
     ]
    },
    {
     "name": "stdout",
     "output_type": "stream",
     "text": [
      "epoch: 7, [batch: 1008 / 2520], examples_per_second: 3148.6607, train_label_loss: 0.3365, \n"
     ]
    },
    {
     "name": "stdout",
     "output_type": "stream",
     "text": [
      "epoch: 7, [batch: 1260 / 2520], examples_per_second: 3165.2622, train_label_loss: 0.6877, \n"
     ]
    },
    {
     "name": "stdout",
     "output_type": "stream",
     "text": [
      "epoch: 7, [batch: 1512 / 2520], examples_per_second: 3179.3899, train_label_loss: 0.4051, \n"
     ]
    },
    {
     "name": "stdout",
     "output_type": "stream",
     "text": [
      "epoch: 7, [batch: 1764 / 2520], examples_per_second: 3170.1288, train_label_loss: 0.3924, \n"
     ]
    },
    {
     "name": "stdout",
     "output_type": "stream",
     "text": [
      "epoch: 7, [batch: 2016 / 2520], examples_per_second: 3170.1618, train_label_loss: 0.2508, \n"
     ]
    },
    {
     "name": "stdout",
     "output_type": "stream",
     "text": [
      "epoch: 7, [batch: 2268 / 2520], examples_per_second: 3183.8888, train_label_loss: 0.5101, \n"
     ]
    },
    {
     "name": "stdout",
     "output_type": "stream",
     "text": [
      "=============================================================\n",
      "epoch: 7, source_val_acc_label: 0.5947, target_val_acc_label: 0.4953, source_val_label_loss: 1.2385, target_val_label_loss: 1.6867, \n",
      "=============================================================\n"
     ]
    },
    {
     "name": "stdout",
     "output_type": "stream",
     "text": [
      "New best\n"
     ]
    },
    {
     "name": "stdout",
     "output_type": "stream",
     "text": [
      "epoch: 8, [batch: 1 / 2520], examples_per_second: 11.0182, train_label_loss: 0.2982, \n"
     ]
    },
    {
     "name": "stdout",
     "output_type": "stream",
     "text": [
      "epoch: 8, [batch: 252 / 2520], examples_per_second: 3142.1531, train_label_loss: 0.2389, \n"
     ]
    },
    {
     "name": "stdout",
     "output_type": "stream",
     "text": [
      "epoch: 8, [batch: 504 / 2520], examples_per_second: 3136.2707, train_label_loss: 0.4937, \n"
     ]
    },
    {
     "name": "stdout",
     "output_type": "stream",
     "text": [
      "epoch: 8, [batch: 756 / 2520], examples_per_second: 3146.9570, train_label_loss: 0.5227, \n"
     ]
    },
    {
     "name": "stdout",
     "output_type": "stream",
     "text": [
      "epoch: 8, [batch: 1008 / 2520], examples_per_second: 3145.5721, train_label_loss: 0.3363, \n"
     ]
    },
    {
     "name": "stdout",
     "output_type": "stream",
     "text": [
      "epoch: 8, [batch: 1260 / 2520], examples_per_second: 3174.9755, train_label_loss: 0.6034, \n"
     ]
    },
    {
     "name": "stdout",
     "output_type": "stream",
     "text": [
      "epoch: 8, [batch: 1512 / 2520], examples_per_second: 3159.8949, train_label_loss: 0.4832, \n"
     ]
    },
    {
     "name": "stdout",
     "output_type": "stream",
     "text": [
      "epoch: 8, [batch: 1764 / 2520], examples_per_second: 3155.8031, train_label_loss: 0.2715, \n"
     ]
    },
    {
     "name": "stdout",
     "output_type": "stream",
     "text": [
      "epoch: 8, [batch: 2016 / 2520], examples_per_second: 3167.8185, train_label_loss: 0.4165, \n"
     ]
    },
    {
     "name": "stdout",
     "output_type": "stream",
     "text": [
      "epoch: 8, [batch: 2268 / 2520], examples_per_second: 3173.0088, train_label_loss: 0.2083, \n"
     ]
    },
    {
     "name": "stdout",
     "output_type": "stream",
     "text": [
      "=============================================================\n",
      "epoch: 8, source_val_acc_label: 0.5990, target_val_acc_label: 0.4985, source_val_label_loss: 1.3190, target_val_label_loss: 1.7984, \n",
      "=============================================================\n"
     ]
    },
    {
     "name": "stdout",
     "output_type": "stream",
     "text": [
      "New best\n"
     ]
    },
    {
     "name": "stdout",
     "output_type": "stream",
     "text": [
      "epoch: 9, [batch: 1 / 2520], examples_per_second: 11.0348, train_label_loss: 0.2620, \n"
     ]
    },
    {
     "name": "stdout",
     "output_type": "stream",
     "text": [
      "epoch: 9, [batch: 252 / 2520], examples_per_second: 3138.4229, train_label_loss: 0.3061, \n"
     ]
    },
    {
     "name": "stdout",
     "output_type": "stream",
     "text": [
      "epoch: 9, [batch: 504 / 2520], examples_per_second: 3146.2640, train_label_loss: 0.2930, \n"
     ]
    },
    {
     "name": "stdout",
     "output_type": "stream",
     "text": [
      "epoch: 9, [batch: 756 / 2520], examples_per_second: 3142.9906, train_label_loss: 0.3793, \n"
     ]
    },
    {
     "name": "stdout",
     "output_type": "stream",
     "text": [
      "epoch: 9, [batch: 1008 / 2520], examples_per_second: 3132.3840, train_label_loss: 0.3084, \n"
     ]
    },
    {
     "name": "stdout",
     "output_type": "stream",
     "text": [
      "epoch: 9, [batch: 1260 / 2520], examples_per_second: 3159.5359, train_label_loss: 0.2943, \n"
     ]
    },
    {
     "name": "stdout",
     "output_type": "stream",
     "text": [
      "epoch: 9, [batch: 1512 / 2520], examples_per_second: 3150.7762, train_label_loss: 0.1351, \n"
     ]
    },
    {
     "name": "stdout",
     "output_type": "stream",
     "text": [
      "epoch: 9, [batch: 1764 / 2520], examples_per_second: 3148.8201, train_label_loss: 0.2584, \n"
     ]
    },
    {
     "name": "stdout",
     "output_type": "stream",
     "text": [
      "epoch: 9, [batch: 2016 / 2520], examples_per_second: 3163.8036, train_label_loss: 0.5054, \n"
     ]
    },
    {
     "name": "stdout",
     "output_type": "stream",
     "text": [
      "epoch: 9, [batch: 2268 / 2520], examples_per_second: 3172.7614, train_label_loss: 0.3729, \n"
     ]
    },
    {
     "name": "stdout",
     "output_type": "stream",
     "text": [
      "=============================================================\n",
      "epoch: 9, source_val_acc_label: 0.6036, target_val_acc_label: 0.5003, source_val_label_loss: 1.4055, target_val_label_loss: 1.9322, \n",
      "=============================================================\n"
     ]
    },
    {
     "name": "stdout",
     "output_type": "stream",
     "text": [
      "New best\n"
     ]
    },
    {
     "name": "stdout",
     "output_type": "stream",
     "text": [
      "epoch: 10, [batch: 1 / 2520], examples_per_second: 11.1069, train_label_loss: 0.2195, \n"
     ]
    },
    {
     "name": "stdout",
     "output_type": "stream",
     "text": [
      "epoch: 10, [batch: 252 / 2520], examples_per_second: 3159.0526, train_label_loss: 0.1521, \n"
     ]
    },
    {
     "name": "stdout",
     "output_type": "stream",
     "text": [
      "epoch: 10, [batch: 504 / 2520], examples_per_second: 3157.5146, train_label_loss: 0.4412, \n"
     ]
    },
    {
     "name": "stdout",
     "output_type": "stream",
     "text": [
      "epoch: 10, [batch: 756 / 2520], examples_per_second: 3168.9426, train_label_loss: 0.4639, \n"
     ]
    },
    {
     "name": "stdout",
     "output_type": "stream",
     "text": [
      "epoch: 10, [batch: 1008 / 2520], examples_per_second: 3153.9347, train_label_loss: 0.3429, \n"
     ]
    },
    {
     "name": "stdout",
     "output_type": "stream",
     "text": [
      "epoch: 10, [batch: 1260 / 2520], examples_per_second: 3172.6641, train_label_loss: 0.3461, \n"
     ]
    },
    {
     "name": "stdout",
     "output_type": "stream",
     "text": [
      "epoch: 10, [batch: 1512 / 2520], examples_per_second: 3162.4709, train_label_loss: 0.1699, \n"
     ]
    },
    {
     "name": "stdout",
     "output_type": "stream",
     "text": [
      "epoch: 10, [batch: 1764 / 2520], examples_per_second: 3154.8412, train_label_loss: 0.0653, \n"
     ]
    },
    {
     "name": "stdout",
     "output_type": "stream",
     "text": [
      "epoch: 10, [batch: 2016 / 2520], examples_per_second: 3174.8278, train_label_loss: 0.3267, \n"
     ]
    },
    {
     "name": "stdout",
     "output_type": "stream",
     "text": [
      "epoch: 10, [batch: 2268 / 2520], examples_per_second: 3164.6585, train_label_loss: 0.1039, \n"
     ]
    },
    {
     "name": "stdout",
     "output_type": "stream",
     "text": [
      "=============================================================\n",
      "epoch: 10, source_val_acc_label: 0.6023, target_val_acc_label: 0.4989, source_val_label_loss: 1.4220, target_val_label_loss: 1.9883, \n",
      "=============================================================\n"
     ]
    },
    {
     "name": "stdout",
     "output_type": "stream",
     "text": [
      "epoch: 11, [batch: 1 / 2520], examples_per_second: 11.1257, train_label_loss: 0.2521, \n"
     ]
    },
    {
     "name": "stdout",
     "output_type": "stream",
     "text": [
      "epoch: 11, [batch: 252 / 2520], examples_per_second: 3165.4276, train_label_loss: 0.2009, \n"
     ]
    },
    {
     "name": "stdout",
     "output_type": "stream",
     "text": [
      "epoch: 11, [batch: 504 / 2520], examples_per_second: 3170.7380, train_label_loss: 0.3440, \n"
     ]
    },
    {
     "name": "stdout",
     "output_type": "stream",
     "text": [
      "epoch: 11, [batch: 756 / 2520], examples_per_second: 3166.7450, train_label_loss: 0.0557, \n"
     ]
    },
    {
     "name": "stdout",
     "output_type": "stream",
     "text": [
      "epoch: 11, [batch: 1008 / 2520], examples_per_second: 3154.5203, train_label_loss: 0.0327, \n"
     ]
    },
    {
     "name": "stdout",
     "output_type": "stream",
     "text": [
      "epoch: 11, [batch: 1260 / 2520], examples_per_second: 3171.1006, train_label_loss: 0.3170, \n"
     ]
    },
    {
     "name": "stdout",
     "output_type": "stream",
     "text": [
      "epoch: 11, [batch: 1512 / 2520], examples_per_second: 3178.3712, train_label_loss: 0.3623, \n"
     ]
    },
    {
     "name": "stdout",
     "output_type": "stream",
     "text": [
      "epoch: 11, [batch: 1764 / 2520], examples_per_second: 3169.2677, train_label_loss: 0.2985, \n"
     ]
    },
    {
     "name": "stdout",
     "output_type": "stream",
     "text": [
      "epoch: 11, [batch: 2016 / 2520], examples_per_second: 3156.8366, train_label_loss: 0.2930, \n"
     ]
    },
    {
     "name": "stdout",
     "output_type": "stream",
     "text": [
      "epoch: 11, [batch: 2268 / 2520], examples_per_second: 3158.4900, train_label_loss: 0.1169, \n"
     ]
    },
    {
     "name": "stdout",
     "output_type": "stream",
     "text": [
      "=============================================================\n",
      "epoch: 11, source_val_acc_label: 0.5967, target_val_acc_label: 0.4915, source_val_label_loss: 1.5173, target_val_label_loss: 2.0619, \n",
      "=============================================================\n"
     ]
    },
    {
     "name": "stdout",
     "output_type": "stream",
     "text": [
      "epoch: 12, [batch: 1 / 2520], examples_per_second: 11.1362, train_label_loss: 0.3467, \n"
     ]
    },
    {
     "name": "stdout",
     "output_type": "stream",
     "text": [
      "epoch: 12, [batch: 252 / 2520], examples_per_second: 3138.6088, train_label_loss: 0.2600, \n"
     ]
    },
    {
     "name": "stdout",
     "output_type": "stream",
     "text": [
      "epoch: 12, [batch: 504 / 2520], examples_per_second: 3157.0734, train_label_loss: 0.2350, \n"
     ]
    },
    {
     "name": "stdout",
     "output_type": "stream",
     "text": [
      "epoch: 12, [batch: 756 / 2520], examples_per_second: 3161.8721, train_label_loss: 0.2119, \n"
     ]
    },
    {
     "name": "stdout",
     "output_type": "stream",
     "text": [
      "epoch: 12, [batch: 1008 / 2520], examples_per_second: 3140.8961, train_label_loss: 0.3809, \n"
     ]
    },
    {
     "name": "stdout",
     "output_type": "stream",
     "text": [
      "epoch: 12, [batch: 1260 / 2520], examples_per_second: 3154.1968, train_label_loss: 0.1473, \n"
     ]
    },
    {
     "name": "stdout",
     "output_type": "stream",
     "text": [
      "epoch: 12, [batch: 1512 / 2520], examples_per_second: 3162.9468, train_label_loss: 0.3457, \n"
     ]
    },
    {
     "name": "stdout",
     "output_type": "stream",
     "text": [
      "epoch: 12, [batch: 1764 / 2520], examples_per_second: 3148.8207, train_label_loss: 0.1913, \n"
     ]
    },
    {
     "name": "stdout",
     "output_type": "stream",
     "text": [
      "epoch: 12, [batch: 2016 / 2520], examples_per_second: 3160.2861, train_label_loss: 0.3954, \n"
     ]
    },
    {
     "name": "stdout",
     "output_type": "stream",
     "text": [
      "epoch: 12, [batch: 2268 / 2520], examples_per_second: 3171.0762, train_label_loss: 0.0969, \n"
     ]
    },
    {
     "name": "stdout",
     "output_type": "stream",
     "text": [
      "=============================================================\n",
      "epoch: 12, source_val_acc_label: 0.6009, target_val_acc_label: 0.5007, source_val_label_loss: 1.5701, target_val_label_loss: 2.1540, \n",
      "=============================================================\n"
     ]
    },
    {
     "name": "stdout",
     "output_type": "stream",
     "text": [
      "New best\n"
     ]
    },
    {
     "name": "stdout",
     "output_type": "stream",
     "text": [
      "epoch: 13, [batch: 1 / 2520], examples_per_second: 11.0591, train_label_loss: 0.3793, \n"
     ]
    },
    {
     "name": "stdout",
     "output_type": "stream",
     "text": [
      "epoch: 13, [batch: 252 / 2520], examples_per_second: 3170.9905, train_label_loss: 0.1929, \n"
     ]
    },
    {
     "name": "stdout",
     "output_type": "stream",
     "text": [
      "epoch: 13, [batch: 504 / 2520], examples_per_second: 3150.3696, train_label_loss: 0.1277, \n"
     ]
    },
    {
     "name": "stdout",
     "output_type": "stream",
     "text": [
      "epoch: 13, [batch: 756 / 2520], examples_per_second: 3162.2732, train_label_loss: 0.3709, \n"
     ]
    },
    {
     "name": "stdout",
     "output_type": "stream",
     "text": [
      "epoch: 13, [batch: 1008 / 2520], examples_per_second: 3165.5731, train_label_loss: 0.0841, \n"
     ]
    },
    {
     "name": "stdout",
     "output_type": "stream",
     "text": [
      "epoch: 13, [batch: 1260 / 2520], examples_per_second: 3167.3528, train_label_loss: 0.3495, \n"
     ]
    },
    {
     "name": "stdout",
     "output_type": "stream",
     "text": [
      "epoch: 13, [batch: 1512 / 2520], examples_per_second: 3161.1976, train_label_loss: 0.1508, \n"
     ]
    },
    {
     "name": "stdout",
     "output_type": "stream",
     "text": [
      "epoch: 13, [batch: 1764 / 2520], examples_per_second: 3158.5665, train_label_loss: 0.0573, \n"
     ]
    },
    {
     "name": "stdout",
     "output_type": "stream",
     "text": [
      "epoch: 13, [batch: 2016 / 2520], examples_per_second: 3169.5305, train_label_loss: 0.3321, \n"
     ]
    },
    {
     "name": "stdout",
     "output_type": "stream",
     "text": [
      "epoch: 13, [batch: 2268 / 2520], examples_per_second: 3160.2610, train_label_loss: 0.2619, \n"
     ]
    },
    {
     "name": "stdout",
     "output_type": "stream",
     "text": [
      "=============================================================\n",
      "epoch: 13, source_val_acc_label: 0.5999, target_val_acc_label: 0.4982, source_val_label_loss: 1.6902, target_val_label_loss: 2.2625, \n",
      "=============================================================\n"
     ]
    },
    {
     "name": "stdout",
     "output_type": "stream",
     "text": [
      "epoch: 14, [batch: 1 / 2520], examples_per_second: 11.0569, train_label_loss: 0.1318, \n"
     ]
    },
    {
     "name": "stdout",
     "output_type": "stream",
     "text": [
      "epoch: 14, [batch: 252 / 2520], examples_per_second: 3170.0944, train_label_loss: 0.2533, \n"
     ]
    },
    {
     "name": "stdout",
     "output_type": "stream",
     "text": [
      "epoch: 14, [batch: 504 / 2520], examples_per_second: 3169.2678, train_label_loss: 0.1600, \n"
     ]
    },
    {
     "name": "stdout",
     "output_type": "stream",
     "text": [
      "epoch: 14, [batch: 756 / 2520], examples_per_second: 3152.0606, train_label_loss: 0.0711, \n"
     ]
    },
    {
     "name": "stdout",
     "output_type": "stream",
     "text": [
      "epoch: 14, [batch: 1008 / 2520], examples_per_second: 3131.5001, train_label_loss: 0.1035, \n"
     ]
    },
    {
     "name": "stdout",
     "output_type": "stream",
     "text": [
      "epoch: 14, [batch: 1260 / 2520], examples_per_second: 3157.2900, train_label_loss: 0.2135, \n"
     ]
    },
    {
     "name": "stdout",
     "output_type": "stream",
     "text": [
      "epoch: 14, [batch: 1512 / 2520], examples_per_second: 3169.3734, train_label_loss: 0.1470, \n"
     ]
    },
    {
     "name": "stdout",
     "output_type": "stream",
     "text": [
      "epoch: 14, [batch: 1764 / 2520], examples_per_second: 3147.1421, train_label_loss: 0.1770, \n"
     ]
    },
    {
     "name": "stdout",
     "output_type": "stream",
     "text": [
      "epoch: 14, [batch: 2016 / 2520], examples_per_second: 3175.8128, train_label_loss: 0.4607, \n"
     ]
    },
    {
     "name": "stdout",
     "output_type": "stream",
     "text": [
      "epoch: 14, [batch: 2268 / 2520], examples_per_second: 3172.1222, train_label_loss: 0.3552, \n"
     ]
    },
    {
     "name": "stdout",
     "output_type": "stream",
     "text": [
      "=============================================================\n",
      "epoch: 14, source_val_acc_label: 0.6002, target_val_acc_label: 0.4975, source_val_label_loss: 1.7088, target_val_label_loss: 2.3399, \n",
      "=============================================================\n"
     ]
    },
    {
     "name": "stdout",
     "output_type": "stream",
     "text": [
      "epoch: 15, [batch: 1 / 2520], examples_per_second: 11.1475, train_label_loss: 0.1696, \n"
     ]
    },
    {
     "name": "stdout",
     "output_type": "stream",
     "text": [
      "epoch: 15, [batch: 252 / 2520], examples_per_second: 3163.2980, train_label_loss: 0.3413, \n"
     ]
    },
    {
     "name": "stdout",
     "output_type": "stream",
     "text": [
      "epoch: 15, [batch: 504 / 2520], examples_per_second: 3151.1062, train_label_loss: 0.1493, \n"
     ]
    },
    {
     "name": "stdout",
     "output_type": "stream",
     "text": [
      "epoch: 15, [batch: 756 / 2520], examples_per_second: 3152.8919, train_label_loss: 0.0505, \n"
     ]
    },
    {
     "name": "stdout",
     "output_type": "stream",
     "text": [
      "epoch: 15, [batch: 1008 / 2520], examples_per_second: 3148.2492, train_label_loss: 0.2787, \n"
     ]
    },
    {
     "name": "stdout",
     "output_type": "stream",
     "text": [
      "epoch: 15, [batch: 1260 / 2520], examples_per_second: 3172.5724, train_label_loss: 0.3242, \n"
     ]
    },
    {
     "name": "stdout",
     "output_type": "stream",
     "text": [
      "epoch: 15, [batch: 1512 / 2520], examples_per_second: 3167.3270, train_label_loss: 0.2449, \n"
     ]
    },
    {
     "name": "stdout",
     "output_type": "stream",
     "text": [
      "epoch: 15, [batch: 1764 / 2520], examples_per_second: 3162.0442, train_label_loss: 0.2512, \n"
     ]
    },
    {
     "name": "stdout",
     "output_type": "stream",
     "text": [
      "epoch: 15, [batch: 2016 / 2520], examples_per_second: 3183.7733, train_label_loss: 0.0790, \n"
     ]
    },
    {
     "name": "stdout",
     "output_type": "stream",
     "text": [
      "epoch: 15, [batch: 2268 / 2520], examples_per_second: 3169.1787, train_label_loss: 0.1198, \n"
     ]
    },
    {
     "name": "stdout",
     "output_type": "stream",
     "text": [
      "=============================================================\n",
      "epoch: 15, source_val_acc_label: 0.6007, target_val_acc_label: 0.4966, source_val_label_loss: 1.7167, target_val_label_loss: 2.3739, \n",
      "=============================================================\n"
     ]
    },
    {
     "name": "stdout",
     "output_type": "stream",
     "text": [
      "epoch: 16, [batch: 1 / 2520], examples_per_second: 11.1222, train_label_loss: 0.0673, \n"
     ]
    },
    {
     "name": "stdout",
     "output_type": "stream",
     "text": [
      "epoch: 16, [batch: 252 / 2520], examples_per_second: 3164.0635, train_label_loss: 0.0501, \n"
     ]
    },
    {
     "name": "stdout",
     "output_type": "stream",
     "text": [
      "epoch: 16, [batch: 504 / 2520], examples_per_second: 3160.0676, train_label_loss: 0.0515, \n"
     ]
    },
    {
     "name": "stdout",
     "output_type": "stream",
     "text": [
      "epoch: 16, [batch: 756 / 2520], examples_per_second: 3153.6588, train_label_loss: 0.0709, \n"
     ]
    },
    {
     "name": "stdout",
     "output_type": "stream",
     "text": [
      "epoch: 16, [batch: 1008 / 2520], examples_per_second: 3132.6667, train_label_loss: 0.1149, \n"
     ]
    },
    {
     "name": "stdout",
     "output_type": "stream",
     "text": [
      "epoch: 16, [batch: 1260 / 2520], examples_per_second: 3137.0901, train_label_loss: 0.1095, \n"
     ]
    },
    {
     "name": "stdout",
     "output_type": "stream",
     "text": [
      "epoch: 16, [batch: 1512 / 2520], examples_per_second: 3159.6155, train_label_loss: 0.0703, \n"
     ]
    },
    {
     "name": "stdout",
     "output_type": "stream",
     "text": [
      "epoch: 16, [batch: 1764 / 2520], examples_per_second: 3158.6061, train_label_loss: 0.0394, \n"
     ]
    },
    {
     "name": "stdout",
     "output_type": "stream",
     "text": [
      "epoch: 16, [batch: 2016 / 2520], examples_per_second: 3162.8738, train_label_loss: 0.0753, \n"
     ]
    },
    {
     "name": "stdout",
     "output_type": "stream",
     "text": [
      "epoch: 16, [batch: 2268 / 2520], examples_per_second: 3170.9887, train_label_loss: 0.0894, \n"
     ]
    },
    {
     "name": "stdout",
     "output_type": "stream",
     "text": [
      "=============================================================\n",
      "epoch: 16, source_val_acc_label: 0.6003, target_val_acc_label: 0.4933, source_val_label_loss: 1.7523, target_val_label_loss: 2.3653, \n",
      "=============================================================\n"
     ]
    },
    {
     "name": "stdout",
     "output_type": "stream",
     "text": [
      "Patience (3) exhausted\n"
     ]
    }
   ],
   "source": [
    "###################################\n",
    "# train\n",
    "###################################\n",
    "jig = PTN_Train_Eval_Test_Jig(model, p.BEST_MODEL_PATH, p.device)\n",
    "\n",
    "jig.train(\n",
    "    train_iterable=datasets.source.processed.train,\n",
    "    source_val_iterable=datasets.source.processed.val,\n",
    "    target_val_iterable=datasets.target.processed.val,\n",
    "    num_epochs=p.n_epoch,\n",
    "    num_logs_per_epoch=p.NUM_LOGS_PER_EPOCH,\n",
    "    patience=p.patience,\n",
    "    optimizer=optimizer,\n",
    "    criteria_for_best=p.criteria_for_best,\n",
    ")"
   ]
  },
  {
   "cell_type": "code",
   "execution_count": 14,
   "id": "31e8fabf",
   "metadata": {
    "execution": {
     "iopub.execute_input": "2022-04-01T17:47:47.246979Z",
     "iopub.status.busy": "2022-04-01T17:47:47.246058Z",
     "iopub.status.idle": "2022-04-01T17:47:47.265531Z",
     "shell.execute_reply": "2022-04-01T17:47:47.265161Z"
    },
    "papermill": {
     "duration": 0.064825,
     "end_time": "2022-04-01T17:47:47.265623",
     "exception": false,
     "start_time": "2022-04-01T17:47:47.200798",
     "status": "completed"
    },
    "tags": []
   },
   "outputs": [],
   "source": [
    "total_experiment_time_secs = time.time() - start_time_secs"
   ]
  },
  {
   "cell_type": "code",
   "execution_count": 15,
   "id": "87b9595b",
   "metadata": {
    "execution": {
     "iopub.execute_input": "2022-04-01T17:47:47.362812Z",
     "iopub.status.busy": "2022-04-01T17:47:47.362519Z",
     "iopub.status.idle": "2022-04-01T17:48:35.834115Z",
     "shell.execute_reply": "2022-04-01T17:48:35.834517Z"
    },
    "papermill": {
     "duration": 48.521008,
     "end_time": "2022-04-01T17:48:35.834649",
     "exception": false,
     "start_time": "2022-04-01T17:47:47.313641",
     "status": "completed"
    },
    "tags": []
   },
   "outputs": [],
   "source": [
    "###################################\n",
    "# Evaluate the model\n",
    "###################################\n",
    "source_test_label_accuracy, source_test_label_loss = jig.test(datasets.source.processed.test)\n",
    "target_test_label_accuracy, target_test_label_loss = jig.test(datasets.target.processed.test)\n",
    "\n",
    "source_val_label_accuracy, source_val_label_loss = jig.test(datasets.source.processed.val)\n",
    "target_val_label_accuracy, target_val_label_loss = jig.test(datasets.target.processed.val)\n",
    "\n",
    "history = jig.get_history()\n",
    "\n",
    "total_epochs_trained = len(history[\"epoch_indices\"])\n",
    "\n",
    "val_dl = Iterable_Aggregator((datasets.source.original.val,datasets.target.original.val))\n",
    "\n",
    "confusion = ptn_confusion_by_domain_over_dataloader(model, p.device, val_dl)\n",
    "per_domain_accuracy = per_domain_accuracy_from_confusion(confusion)\n",
    "\n",
    "# Add a key to per_domain_accuracy for if it was a source domain\n",
    "for domain, accuracy in per_domain_accuracy.items():\n",
    "    per_domain_accuracy[domain] = {\n",
    "        \"accuracy\": accuracy,\n",
    "        \"source?\": domain in p.domains_source\n",
    "    }\n",
    "\n",
    "# Do an independent accuracy assesment JUST TO BE SURE!\n",
    "# _source_test_label_accuracy = independent_accuracy_assesment(model, datasets.source.processed.test, p.device)\n",
    "# _target_test_label_accuracy = independent_accuracy_assesment(model, datasets.target.processed.test, p.device)\n",
    "# _source_val_label_accuracy = independent_accuracy_assesment(model, datasets.source.processed.val, p.device)\n",
    "# _target_val_label_accuracy = independent_accuracy_assesment(model, datasets.target.processed.val, p.device)\n",
    "\n",
    "# assert(_source_test_label_accuracy == source_test_label_accuracy)\n",
    "# assert(_target_test_label_accuracy == target_test_label_accuracy)\n",
    "# assert(_source_val_label_accuracy == source_val_label_accuracy)\n",
    "# assert(_target_val_label_accuracy == target_val_label_accuracy)\n",
    "\n",
    "experiment = {\n",
    "    \"experiment_name\": p.experiment_name,\n",
    "    \"parameters\": dict(p),\n",
    "    \"results\": {\n",
    "        \"source_test_label_accuracy\": source_test_label_accuracy,\n",
    "        \"source_test_label_loss\": source_test_label_loss,\n",
    "        \"target_test_label_accuracy\": target_test_label_accuracy,\n",
    "        \"target_test_label_loss\": target_test_label_loss,\n",
    "        \"source_val_label_accuracy\": source_val_label_accuracy,\n",
    "        \"source_val_label_loss\": source_val_label_loss,\n",
    "        \"target_val_label_accuracy\": target_val_label_accuracy,\n",
    "        \"target_val_label_loss\": target_val_label_loss,\n",
    "        \"total_epochs_trained\": total_epochs_trained,\n",
    "        \"total_experiment_time_secs\": total_experiment_time_secs,\n",
    "        \"confusion\": confusion,\n",
    "        \"per_domain_accuracy\": per_domain_accuracy,\n",
    "    },\n",
    "    \"history\": history,\n",
    "    \"dataset_metrics\": get_dataset_metrics(datasets, \"ptn\"),\n",
    "}"
   ]
  },
  {
   "cell_type": "code",
   "execution_count": 16,
   "id": "54a21829",
   "metadata": {
    "execution": {
     "iopub.execute_input": "2022-04-01T17:48:35.930608Z",
     "iopub.status.busy": "2022-04-01T17:48:35.929754Z",
     "iopub.status.idle": "2022-04-01T17:48:36.059997Z",
     "shell.execute_reply": "2022-04-01T17:48:36.060370Z"
    },
    "papermill": {
     "duration": 0.175928,
     "end_time": "2022-04-01T17:48:36.060478",
     "exception": false,
     "start_time": "2022-04-01T17:48:35.884550",
     "status": "completed"
    },
    "tags": []
   },
   "outputs": [
    {
     "data": {
      "image/png": "[encoded data removed]",
      "text/plain": [
       "<Figure size 1080x504 with 1 Axes>"
      ]
     },
     "metadata": {
      "needs_background": "light"
     },
     "output_type": "display_data"
    }
   ],
   "source": [
    "ax = get_loss_curve(experiment)\n",
    "plt.show()"
   ]
  },
  {
   "cell_type": "code",
   "execution_count": 17,
   "id": "fd8a0f60",
   "metadata": {
    "execution": {
     "iopub.execute_input": "2022-04-01T17:48:36.162023Z",
     "iopub.status.busy": "2022-04-01T17:48:36.161495Z",
     "iopub.status.idle": "2022-04-01T17:48:36.304679Z",
     "shell.execute_reply": "2022-04-01T17:48:36.304442Z"
    },
    "papermill": {
     "duration": 0.19456,
     "end_time": "2022-04-01T17:48:36.304733",
     "exception": false,
     "start_time": "2022-04-01T17:48:36.110173",
     "status": "completed"
    },
    "tags": []
   },
   "outputs": [
    {
     "data": {
      "text/plain": [
       "<AxesSubplot:title={'center':'Results'}>"
      ]
     },
     "execution_count": 17,
     "metadata": {},
     "output_type": "execute_result"
    },
    {
     "data": {
      "image/png": "[encoded data removed]",
      "text/plain": [
       "<Figure size 1080x504 with 1 Axes>"
      ]
     },
     "metadata": {
      "needs_background": "light"
     },
     "output_type": "display_data"
    }
   ],
   "source": [
    "get_results_table(experiment)"
   ]
  },
  {
   "cell_type": "code",
   "execution_count": 18,
   "id": "cf8dc689",
   "metadata": {
    "execution": {
     "iopub.execute_input": "2022-04-01T17:48:36.399862Z",
     "iopub.status.busy": "2022-04-01T17:48:36.399613Z",
     "iopub.status.idle": "2022-04-01T17:48:36.517170Z",
     "shell.execute_reply": "2022-04-01T17:48:36.516741Z"
    },
    "papermill": {
     "duration": 0.165648,
     "end_time": "2022-04-01T17:48:36.517268",
     "exception": false,
     "start_time": "2022-04-01T17:48:36.351620",
     "status": "completed"
    },
    "tags": []
   },
   "outputs": [
    {
     "data": {
      "text/plain": [
       "<AxesSubplot:title={'center':'Per Domain Validation Accuracy'}, xlabel='domain'>"
      ]
     },
     "execution_count": 18,
     "metadata": {},
     "output_type": "execute_result"
    },
    {
     "data": {
      "image/png": "[encoded data removed]",
      "text/plain": [
       "<Figure size 1080x504 with 1 Axes>"
      ]
     },
     "metadata": {
      "needs_background": "light"
     },
     "output_type": "display_data"
    }
   ],
   "source": [
    "get_domain_accuracies(experiment)"
   ]
  },
  {
   "cell_type": "code",
   "execution_count": 19,
   "id": "a74ae082",
   "metadata": {
    "execution": {
     "iopub.execute_input": "2022-04-01T17:48:36.618712Z",
     "iopub.status.busy": "2022-04-01T17:48:36.618459Z",
     "iopub.status.idle": "2022-04-01T17:48:36.635456Z",
     "shell.execute_reply": "2022-04-01T17:48:36.634979Z"
    },
    "papermill": {
     "duration": 0.066699,
     "end_time": "2022-04-01T17:48:36.635557",
     "exception": false,
     "start_time": "2022-04-01T17:48:36.568858",
     "status": "completed"
    },
    "tags": []
   },
   "outputs": [
    {
     "name": "stdout",
     "output_type": "stream",
     "text": [
      "Source Test Label Accuracy: 0.6043402777777778 Target Test Label Accuracy: 0.5004166666666666\n",
      "Source Val Label Accuracy: 0.6008680555555556 Target Val Label Accuracy: 0.5006770833333334\n"
     ]
    }
   ],
   "source": [
    "print(\"Source Test Label Accuracy:\", experiment[\"results\"][\"source_test_label_accuracy\"], \"Target Test Label Accuracy:\", experiment[\"results\"][\"target_test_label_accuracy\"])\n",
    "print(\"Source Val Label Accuracy:\", experiment[\"results\"][\"source_val_label_accuracy\"], \"Target Val Label Accuracy:\", experiment[\"results\"][\"target_val_label_accuracy\"])"
   ]
  },
  {
   "cell_type": "code",
   "execution_count": 20,
   "id": "dacca602",
   "metadata": {
    "execution": {
     "iopub.execute_input": "2022-04-01T17:48:36.737763Z",
     "iopub.status.busy": "2022-04-01T17:48:36.737507Z",
     "iopub.status.idle": "2022-04-01T17:48:36.753843Z",
     "shell.execute_reply": "2022-04-01T17:48:36.753404Z"
    },
    "papermill": {
     "duration": 0.065752,
     "end_time": "2022-04-01T17:48:36.753934",
     "exception": false,
     "start_time": "2022-04-01T17:48:36.688182",
     "status": "completed"
    },
    "tags": [
     "experiment_json"
    ]
   },
   "outputs": [
    {
     "data": {
      "text/plain": [
       "'{\"experiment_name\": \"tuned_1v2:oracle.run2_limited\", \"parameters\": {\"experiment_name\": \"tuned_1v2:oracle.run2_limited\", \"device\": \"cuda\", \"lr\": 0.0001, \"labels_source\": [\"3123D52\", \"3123D65\", \"3123D79\", \"3123D80\", \"3123D54\", \"3123D70\", \"3123D7B\", \"3123D89\", \"3123D58\", \"3123D76\", \"3123D7D\", \"3123EFE\", \"3123D64\", \"3123D78\", \"3123D7E\", \"3124E4A\"], \"labels_target\": [\"3123D52\", \"3123D65\", \"3123D79\", \"3123D80\", \"3123D54\", \"3123D70\", \"3123D7B\", \"3123D89\", \"3123D58\", \"3123D76\", \"3123D7D\", \"3123EFE\", \"3123D64\", \"3123D78\", \"3123D7E\", \"3124E4A\"], \"episode_transforms_source\": [], \"episode_transforms_target\": [], \"domains_source\": [8, 32, 50], \"domains_target\": [14, 20, 26, 38, 44], \"num_examples_per_domain_per_label_source\": 2000, \"num_examples_per_domain_per_label_target\": 2000, \"n_shot\": 3, \"n_way\": 16, \"n_query\": 2, \"train_k_factor\": 3, \"val_k_factor\": 2, \"test_k_factor\": 2, \"torch_default_dtype\": \"torch.float32\", \"n_epoch\": 50, \"patience\": 3, \"criteria_for_best\": \"target_accuracy\", \"x_net\": [{\"class\": \"nnReshape\", \"kargs\": {\"shape\": [-1, 1, 2, 256]}}, {\"class\": \"Conv2d\", \"kargs\": {\"in_channels\": 1, \"out_channels\": 256, \"kernel_size\": [1, 7], \"bias\": false, \"padding\": [0, 3]}}, {\"class\": \"ReLU\", \"kargs\": {\"inplace\": true}}, {\"class\": \"BatchNorm2d\", \"kargs\": {\"num_features\": 256}}, {\"class\": \"Conv2d\", \"kargs\": {\"in_channels\": 256, \"out_channels\": 80, \"kernel_size\": [2, 7], \"bias\": true, \"padding\": [0, 3]}}, {\"class\": \"ReLU\", \"kargs\": {\"inplace\": true}}, {\"class\": \"BatchNorm2d\", \"kargs\": {\"num_features\": 80}}, {\"class\": \"Flatten\", \"kargs\": {}}, {\"class\": \"Linear\", \"kargs\": {\"in_features\": 20480, \"out_features\": 256}}, {\"class\": \"ReLU\", \"kargs\": {\"inplace\": true}}, {\"class\": \"BatchNorm1d\", \"kargs\": {\"num_features\": 256}}, {\"class\": \"Linear\", \"kargs\": {\"in_features\": 256, \"out_features\": 256}}], \"NUM_LOGS_PER_EPOCH\": 10, \"BEST_MODEL_PATH\": \"./best_model.pth\", \"pickle_name\": \"oracle.Run2_10kExamples_stratified_ds.2022A.pkl\", \"x_transforms_source\": [\"unit_mag\"], \"x_transforms_target\": [\"unit_mag\"], \"dataset_seed\": 7, \"seed\": 7}, \"results\": {\"source_test_label_accuracy\": 0.6043402777777778, \"source_test_label_loss\": 1.6056113243103027, \"target_test_label_accuracy\": 0.5004166666666666, \"target_test_label_loss\": 2.193000555038452, \"source_val_label_accuracy\": 0.6008680555555556, \"source_val_label_loss\": 1.57008957862854, \"target_val_label_accuracy\": 0.5006770833333334, \"target_val_label_loss\": 2.153974771499634, \"total_epochs_trained\": 16, \"total_experiment_time_secs\": 1168.5300295352936, \"confusion\": {\"50\": {\"0\": {\"0\": 186, \"10\": 15, \"7\": 1, \"2\": 32, \"5\": 2, \"6\": 3, \"13\": 1}, \"4\": {\"4\": 94, \"5\": 69, \"1\": 16, \"6\": 52, \"7\": 4, \"15\": 1, \"0\": 3, \"10\": 1}, \"14\": {\"12\": 8, \"14\": 217, \"11\": 13, \"15\": 2}, \"12\": {\"12\": 204, \"14\": 10, \"9\": 23, \"11\": 3}, \"8\": {\"8\": 223, \"3\": 17}, \"7\": {\"10\": 41, \"13\": 84, \"7\": 91, \"5\": 18, \"4\": 6}, \"13\": {\"13\": 94, \"5\": 12, \"10\": 54, \"7\": 80}, \"5\": {\"5\": 105, \"4\": 63, \"0\": 10, \"10\": 25, \"6\": 13, \"7\": 15, \"13\": 9}, \"15\": {\"15\": 195, \"1\": 18, \"11\": 15, \"14\": 5, \"6\": 7}, \"10\": {\"5\": 24, \"10\": 120, \"13\": 41, \"7\": 37, \"0\": 16, \"4\": 2}, \"3\": {\"3\": 217, \"8\": 23}, \"9\": {\"9\": 200, \"12\": 32, \"11\": 8}, \"6\": {\"1\": 74, \"4\": 56, \"6\": 95, \"15\": 5, \"0\": 4, \"5\": 6}, \"1\": {\"4\": 11, \"1\": 144, \"6\": 66, \"0\": 1, \"15\": 17, \"5\": 1}, \"11\": {\"11\": 181, \"15\": 22, \"14\": 16, \"9\": 12, \"12\": 9}, \"2\": {\"2\": 205, \"0\": 30, \"1\": 3, \"14\": 1, \"5\": 1}}, \"8\": {\"1\": {\"1\": 138, \"13\": 36, \"5\": 25, \"14\": 9, \"10\": 24, \"0\": 8}, \"11\": {\"15\": 45, \"11\": 90, \"8\": 57, \"12\": 34, \"3\": 4, \"7\": 3, \"14\": 1, \"4\": 1, \"13\": 5}, \"3\": {\"3\": 170, \"2\": 1, \"15\": 7, \"12\": 62}, \"6\": {\"2\": 12, \"6\": 83, \"15\": 1, \"13\": 6, \"8\": 11, \"7\": 46, \"4\": 59, \"14\": 16, \"0\": 4, \"11\": 2}, \"7\": {\"6\": 45, \"4\": 47, \"8\": 18, \"7\": 67, \"2\": 50, \"15\": 6, \"11\": 3, \"14\": 4}, \"5\": {\"13\": 4, \"5\": 140, \"1\": 42, \"10\": 48, \"0\": 3, \"9\": 3}, \"2\": {\"2\": 136, \"7\": 50, \"8\": 2, \"4\": 30, \"6\": 11, \"15\": 7, \"11\": 1, \"3\": 3}, \"15\": {\"11\": 57, \"15\": 96, \"3\": 15, \"7\": 6, \"8\": 20, \"12\": 37, \"2\": 7, \"4\": 1, \"6\": 1}, \"10\": {\"5\": 33, \"10\": 95, \"13\": 18, \"14\": 10, \"6\": 1, \"0\": 53, \"1\": 30}, \"13\": {\"13\": 93, \"5\": 8, \"10\": 23, \"14\": 47, \"7\": 4, \"1\": 29, \"0\": 29, \"4\": 3, \"6\": 3, \"8\": 1}, \"8\": {\"6\": 17, \"8\": 127, \"15\": 26, \"11\": 30, \"14\": 3, \"7\": 25, \"13\": 4, \"2\": 3, \"4\": 5}, \"4\": {\"7\": 53, \"6\": 68, \"2\": 30, \"4\": 71, \"13\": 3, \"0\": 3, \"8\": 7, \"14\": 4, \"11\": 1}, \"9\": {\"9\": 237, \"5\": 3}, \"14\": {\"6\": 23, \"0\": 58, \"13\": 51, \"14\": 79, \"10\": 16, \"1\": 3, \"4\": 3, \"5\": 1, \"7\": 4, \"8\": 2}, \"0\": {\"0\": 103, \"4\": 2, \"13\": 20, \"10\": 42, \"6\": 8, \"1\": 6, \"14\": 53, \"5\": 5, \"7\": 1}, \"12\": {\"15\": 25, \"12\": 117, \"11\": 20, \"3\": 77, \"8\": 1}}, \"32\": {\"15\": {\"15\": 231, \"5\": 1, \"8\": 6, \"14\": 2}, \"11\": {\"5\": 8, \"11\": 70, \"7\": 73, \"13\": 24, \"4\": 29, \"0\": 16, \"2\": 17, \"8\": 2, \"3\": 1}, \"10\": {\"10\": 238, \"1\": 2}, \"14\": {\"2\": 38, \"14\": 180, \"5\": 11, \"11\": 1, \"9\": 1, \"0\": 7, \"4\": 1, \"7\": 1}, \"6\": {\"6\": 240}, \"4\": {\"5\": 21, \"2\": 8, \"8\": 21, \"4\": 43, \"11\": 34, \"7\": 20, \"0\": 50, \"13\": 42, \"3\": 1}, \"13\": {\"7\": 32, \"13\": 79, \"11\": 26, \"4\": 44, \"8\": 30, \"3\": 10, \"5\": 9, \"0\": 10}, \"3\": {\"3\": 214, \"13\": 15, \"8\": 11}, \"7\": {\"7\": 98, \"2\": 3, \"13\": 38, \"11\": 62, \"0\": 10, \"4\": 23, \"8\": 1, \"5\": 2, \"14\": 1, \"3\": 2}, \"8\": {\"8\": 140, \"4\": 21, \"15\": 8, \"13\": 31, \"5\": 13, \"0\": 13, \"3\": 11, \"11\": 3}, \"1\": {\"1\": 235, \"10\": 5}, \"5\": {\"5\": 57, \"8\": 28, \"0\": 53, \"2\": 31, \"14\": 22, \"13\": 7, \"4\": 29, \"15\": 1, \"11\": 7, \"7\": 4, \"3\": 1}, \"0\": {\"8\": 13, \"5\": 45, \"13\": 15, \"4\": 40, \"0\": 65, \"14\": 4, \"2\": 20, \"11\": 28, \"7\": 10}, \"2\": {\"2\": 156, \"7\": 3, \"0\": 22, \"14\": 33, \"5\": 14, \"11\": 7, \"4\": 2, \"8\": 1, \"13\": 2}, \"12\": {\"12\": 240}, \"9\": {\"9\": 223, \"14\": 16, \"12\": 1}}, \"26\": {\"0\": {\"14\": 41, \"0\": 50, \"7\": 19, \"9\": 7, \"6\": 1, \"10\": 21, \"4\": 26, \"1\": 34, \"8\": 22, \"5\": 2, \"15\": 6, \"3\": 1, \"2\": 10}, \"4\": {\"4\": 69, \"0\": 37, \"7\": 23, \"3\": 19, \"14\": 11, \"2\": 21, \"9\": 4, \"8\": 19, \"10\": 9, \"15\": 18, \"1\": 7, \"5\": 3}, \"14\": {\"0\": 34, \"9\": 11, \"14\": 41, \"8\": 25, \"7\": 5, \"6\": 4, \"4\": 12, \"10\": 41, \"3\": 2, \"1\": 48, \"2\": 8, \"5\": 7, \"13\": 1, \"15\": 1}, \"12\": {\"12\": 222, \"11\": 18}, \"8\": {\"4\": 10, \"10\": 19, \"8\": 28, \"3\": 2, \"15\": 7, \"9\": 29, \"13\": 14, \"14\": 16, \"0\": 18, \"5\": 23, \"6\": 10, \"7\": 29, \"2\": 27, \"1\": 8}, \"7\": {\"7\": 44, \"15\": 27, \"5\": 18, \"3\": 23, \"8\": 18, \"2\": 51, \"0\": 14, \"4\": 13, \"14\": 7, \"9\": 15, \"10\": 3, \"13\": 4, \"1\": 2, \"6\": 1}, \"13\": {\"5\": 52, \"8\": 3, \"6\": 33, \"13\": 108, \"9\": 37, \"2\": 4, \"10\": 2, \"7\": 1}, \"5\": {\"5\": 47, \"2\": 18, \"13\": 45, \"4\": 4, \"9\": 36, \"7\": 19, \"6\": 40, \"1\": 2, \"10\": 5, \"8\": 11, \"3\": 5, \"15\": 4, \"14\": 4}, \"15\": {\"4\": 18, \"7\": 18, \"2\": 33, \"3\": 83, \"15\": 77, \"13\": 1, \"0\": 5, \"5\": 1, \"8\": 3, \"9\": 1}, \"10\": {\"1\": 35, \"10\": 46, \"0\": 30, \"2\": 5, \"6\": 42, \"8\": 12, \"14\": 33, \"3\": 3, \"5\": 3, \"15\": 1, \"4\": 12, \"7\": 11, \"13\": 4, \"9\": 3}, \"3\": {\"15\": 87, \"4\": 18, \"3\": 78, \"7\": 23, \"2\": 24, \"5\": 2, \"8\": 2, \"0\": 3, \"13\": 1, \"14\": 1, \"9\": 1}, \"9\": {\"10\": 14, \"5\": 46, \"6\": 22, \"7\": 18, \"15\": 1, \"13\": 39, \"2\": 14, \"9\": 46, \"0\": 3, \"4\": 3, \"8\": 25, \"1\": 1, \"14\": 6, \"3\": 2}, \"6\": {\"13\": 39, \"10\": 19, \"6\": 111, \"8\": 13, \"9\": 22, \"5\": 25, \"0\": 2, \"14\": 6, \"1\": 2, \"7\": 1}, \"1\": {\"14\": 47, \"0\": 29, \"10\": 35, \"1\": 87, \"9\": 5, \"4\": 6, \"8\": 14, \"6\": 7, \"7\": 4, \"13\": 1, \"5\": 4, \"2\": 1}, \"11\": {\"11\": 232, \"12\": 8}, \"2\": {\"8\": 21, \"15\": 32, \"2\": 52, \"4\": 25, \"3\": 20, \"0\": 12, \"14\": 4, \"13\": 4, \"9\": 11, \"7\": 43, \"5\": 13, \"10\": 2, \"1\": 1}}, \"44\": {\"1\": {\"1\": 109, \"7\": 6, \"12\": 78, \"3\": 41, \"2\": 2, \"9\": 1, \"10\": 3}, \"11\": {\"11\": 195, \"6\": 41, \"7\": 3, \"13\": 1}, \"3\": {\"3\": 183, \"1\": 36, \"12\": 21}, \"6\": {\"6\": 180, \"11\": 25, \"9\": 19, \"7\": 5, \"13\": 6, \"2\": 5}, \"7\": {\"2\": 57, \"7\": 115, \"9\": 58, \"12\": 1, \"1\": 4, \"6\": 5}, \"5\": {\"5\": 191, \"8\": 10, \"14\": 31, \"0\": 7, \"15\": 1}, \"2\": {\"2\": 96, \"9\": 90, \"7\": 49, \"3\": 4, \"6\": 1}, \"15\": {\"15\": 183, \"14\": 38, \"4\": 18, \"8\": 1}, \"10\": {\"10\": 215, \"12\": 19, \"1\": 6}, \"13\": {\"13\": 215, \"4\": 17, \"6\": 8}, \"8\": {\"0\": 101, \"5\": 12, \"8\": 121, \"15\": 4, \"14\": 2}, \"4\": {\"4\": 208, \"15\": 16, \"13\": 7, \"14\": 9}, \"9\": {\"2\": 77, \"9\": 92, \"6\": 8, \"7\": 57, \"3\": 4, \"1\": 2}, \"14\": {\"15\": 45, \"14\": 163, \"8\": 2, \"5\": 11, \"4\": 19}, \"0\": {\"8\": 109, \"0\": 124, \"5\": 7}, \"12\": {\"12\": 147, \"10\": 4, \"1\": 70, \"3\": 18, \"7\": 1}}, \"20\": {\"15\": {\"9\": 32, \"5\": 13, \"12\": 28, \"15\": 39, \"13\": 47, \"1\": 27, \"7\": 5, \"2\": 15, \"0\": 21, \"3\": 10, \"4\": 2, \"11\": 1}, \"4\": {\"3\": 16, \"9\": 17, \"5\": 14, \"4\": 112, \"0\": 22, \"8\": 8, \"10\": 12, \"1\": 10, \"2\": 12, \"13\": 1, \"12\": 12, \"15\": 3, \"14\": 1}, \"6\": {\"6\": 168, \"14\": 36, \"8\": 9, \"10\": 5, \"7\": 13, \"11\": 9}, \"2\": {\"5\": 36, \"7\": 12, \"0\": 5, \"15\": 9, \"2\": 41, \"12\": 15, \"9\": 33, \"13\": 23, \"3\": 37, \"8\": 7, \"4\": 15, \"1\": 6, \"14\": 1}, \"5\": {\"5\": 30, \"2\": 38, \"13\": 11, \"12\": 20, \"3\": 27, \"15\": 13, \"0\": 18, \"9\": 25, \"7\": 15, \"4\": 19, \"8\": 10, \"1\": 11, \"10\": 3}, \"9\": {\"5\": 23, \"9\": 33, \"4\": 16, \"15\": 25, \"2\": 43, \"3\": 31, \"0\": 8, \"13\": 18, \"7\": 9, \"12\": 21, \"1\": 8, \"8\": 3, \"10\": 2}, \"8\": {\"8\": 46, \"6\": 11, \"7\": 72, \"10\": 48, \"3\": 17, \"4\": 8, \"5\": 2, \"14\": 24, \"9\": 4, \"2\": 7, \"12\": 1}, \"12\": {\"0\": 33, \"12\": 41, \"4\": 33, \"5\": 9, \"1\": 38, \"15\": 24, \"3\": 9, \"13\": 24, \"9\": 17, \"2\": 11, \"8\": 1}, \"10\": {\"10\": 74, \"14\": 60, \"7\": 23, \"8\": 47, \"3\": 10, \"6\": 12, \"4\": 10, \"5\": 3, \"2\": 1}, \"1\": {\"1\": 96, \"0\": 53, \"13\": 8, \"15\": 21, \"12\": 28, \"2\": 4, \"5\": 6, \"3\": 4, \"9\": 11, \"4\": 9}, \"0\": {\"1\": 67, \"2\": 14, \"9\": 12, \"15\": 20, \"0\": 45, \"12\": 40, \"4\": 16, \"13\": 13, \"3\": 8, \"5\": 4, \"10\": 1}, \"3\": {\"8\": 13, \"5\": 28, \"13\": 10, \"0\": 5, \"2\": 39, \"3\": 56, \"9\": 16, \"10\": 13, \"7\": 27, \"4\": 19, \"12\": 6, \"15\": 5, \"1\": 2, \"14\": 1}, \"13\": {\"15\": 46, \"13\": 93, \"2\": 20, \"5\": 14, \"12\": 16, \"7\": 1, \"1\": 14, \"9\": 22, \"3\": 3, \"0\": 10, \"4\": 1}, \"11\": {\"11\": 230, \"7\": 5, \"6\": 4, \"3\": 1}, \"7\": {\"7\": 106, \"8\": 27, \"2\": 15, \"3\": 23, \"10\": 23, \"6\": 12, \"14\": 9, \"5\": 10, \"9\": 2, \"11\": 11, \"4\": 1, \"15\": 1}, \"14\": {\"14\": 90, \"6\": 43, \"8\": 35, \"10\": 51, \"7\": 16, \"3\": 2, \"11\": 1, \"4\": 1, \"12\": 1}}, \"38\": {\"15\": {\"3\": 20, \"15\": 63, \"8\": 46, \"13\": 39, \"5\": 23, \"7\": 4, \"1\": 30, \"10\": 4, \"6\": 9, \"0\": 2}, \"11\": {\"11\": 177, \"12\": 15, \"14\": 39, \"2\": 7, \"4\": 2}, \"10\": {\"10\": 112, \"7\": 80, \"8\": 15, \"15\": 7, \"0\": 5, \"3\": 9, \"5\": 8, \"12\": 2, \"13\": 1, \"4\": 1}, \"14\": {\"7\": 2, \"2\": 62, \"14\": 112, \"5\": 5, \"12\": 29, \"11\": 29, \"1\": 1}, \"6\": {\"6\": 126, \"9\": 98, \"3\": 11, \"0\": 4, \"13\": 1}, \"4\": {\"12\": 21, \"4\": 214, \"7\": 3, \"10\": 2}, \"13\": {\"5\": 31, \"13\": 51, \"15\": 50, \"1\": 35, \"8\": 38, \"7\": 8, \"0\": 4, \"3\": 11, \"9\": 1, \"2\": 4, \"14\": 3, \"6\": 2, \"10\": 2}, \"3\": {\"8\": 13, \"6\": 17, \"3\": 47, \"13\": 9, \"7\": 15, \"0\": 64, \"15\": 34, \"9\": 20, \"10\": 14, \"5\": 6, \"1\": 1}, \"7\": {\"8\": 18, \"7\": 109, \"10\": 56, \"3\": 10, \"5\": 29, \"12\": 5, \"0\": 1, \"15\": 5, \"13\": 7}, \"8\": {\"8\": 67, \"7\": 26, \"1\": 10, \"15\": 41, \"5\": 46, \"10\": 11, \"3\": 7, \"13\": 30, \"0\": 1, \"14\": 1}, \"1\": {\"1\": 196, \"13\": 22, \"15\": 16, \"8\": 3, \"5\": 2, \"3\": 1}, \"5\": {\"10\": 11, \"15\": 25, \"5\": 62, \"13\": 43, \"8\": 54, \"1\": 5, \"7\": 28, \"12\": 1, \"3\": 10, \"0\": 1}, \"0\": {\"0\": 174, \"6\": 8, \"3\": 44, \"9\": 5, \"7\": 2, \"10\": 5, \"15\": 1, \"5\": 1}, \"2\": {\"2\": 210, \"14\": 30}, \"12\": {\"12\": 214, \"4\": 15, \"14\": 7, \"7\": 4}, \"9\": {\"6\": 85, \"9\": 148, \"3\": 3, \"0\": 4}}, \"14\": {\"0\": {\"10\": 24, \"3\": 7, \"0\": 201, \"14\": 4, \"8\": 1, \"9\": 2, \"4\": 1}, \"12\": {\"12\": 128, \"11\": 73, \"0\": 13, \"9\": 17, \"8\": 3, \"10\": 6}, \"1\": {\"1\": 160, \"5\": 46, \"4\": 24, \"2\": 6, \"3\": 2, \"13\": 1, \"6\": 1}, \"4\": {\"1\": 28, \"4\": 68, \"2\": 32, \"3\": 40, \"5\": 58, \"14\": 8, \"6\": 5, \"13\": 1}, \"5\": {\"6\": 8, \"4\": 55, \"2\": 31, \"5\": 68, \"1\": 49, \"3\": 18, \"13\": 5, \"14\": 3, \"7\": 3}, \"3\": {\"3\": 130, \"4\": 34, \"14\": 21, \"8\": 8, \"6\": 3, \"5\": 27, \"2\": 6, \"1\": 9, \"0\": 2}, \"7\": {\"7\": 207, \"15\": 29, \"2\": 1, \"1\": 3}, \"15\": {\"15\": 189, \"7\": 48, \"2\": 1, \"13\": 1, \"1\": 1}, \"13\": {\"6\": 69, \"13\": 114, \"2\": 35, \"4\": 5, \"14\": 8, \"5\": 5, \"1\": 1, \"3\": 1, \"15\": 2}, \"10\": {\"10\": 180, \"0\": 42, \"12\": 1, \"11\": 15, \"14\": 1, \"9\": 1}, \"14\": {\"14\": 97, \"3\": 31, \"13\": 8, \"6\": 43, \"2\": 31, \"5\": 8, \"4\": 14, \"0\": 8}, \"6\": {\"6\": 89, \"14\": 49, \"13\": 68, \"4\": 7, \"2\": 21, \"5\": 5, \"3\": 1}, \"9\": {\"9\": 228, \"11\": 9, \"12\": 2, \"0\": 1}, \"2\": {\"6\": 19, \"14\": 28, \"5\": 34, \"2\": 57, \"3\": 23, \"13\": 34, \"1\": 11, \"4\": 27, \"15\": 1, \"7\": 3, \"0\": 3}, \"8\": {\"8\": 230, \"9\": 2, \"3\": 4, \"5\": 1, \"4\": 1, \"1\": 2}, \"11\": {\"11\": 210, \"9\": 13, \"12\": 14, \"10\": 3}}}, \"per_domain_accuracy\": {\"50\": {\"accuracy\": 0.66953125, \"source?\": true}, \"8\": {\"accuracy\": 0.4796875, \"source?\": true}, \"32\": {\"accuracy\": 0.6533854166666667, \"source?\": true}, \"26\": {\"accuracy\": 0.3484375, \"source?\": false}, \"44\": {\"accuracy\": 0.6606770833333333, \"source?\": false}, \"20\": {\"accuracy\": 0.3385416666666667, \"source?\": false}, \"38\": {\"accuracy\": 0.5421875, \"source?\": false}, \"14\": {\"accuracy\": 0.6135416666666667, \"source?\": false}}}, \"history\": {\"epoch_indices\": [1, 2, 3, 4, 5, 6, 7, 8, 9, 10, 11, 12, 13, 14, 15, 16], \"train_label_loss\": [1.7507255794273482, 1.3381237103115944, 1.1785562708264306, 0.8902435110320175, 0.7153003669979553, 0.5715842581575825, 0.4735533162478417, 0.3915413543818489, 0.3227413143770444, 0.27496410135682375, 0.23690445116159345, 0.20118078133460904, 0.1776418041494224, 0.15576809547325995, 0.14491452626465443, 0.1315301326565012], \"source_val_label_loss\": [1.506664752960205, 1.398576021194458, 1.2020337581634521, 1.1088788509368896, 1.1131309270858765, 1.1707719564437866, 1.2384594678878784, 1.3189743757247925, 1.4055202007293701, 1.421974778175354, 1.5172749757766724, 1.57008957862854, 1.690224528312683, 1.7088067531585693, 1.7167015075683594, 1.7522536516189575], \"target_val_label_loss\": [1.958560824394226, 1.870690107345581, 1.614027500152588, 1.5218497514724731, 1.5550875663757324, 1.6151466369628906, 1.6867280006408691, 1.7983559370040894, 1.9321823120117188, 1.9883283376693726, 2.0619068145751953, 2.153974771499634, 2.2624735832214355, 2.3398804664611816, 2.37394380569458, 2.3653407096862793], \"source_val_acc_label\": [0.39652777777777776, 0.4249131944444444, 0.5309027777777777, 0.5787326388888889, 0.5973958333333333, 0.5994791666666667, 0.5947048611111111, 0.5989583333333334, 0.6035590277777778, 0.6022569444444444, 0.5967013888888889, 0.6008680555555556, 0.5999131944444445, 0.6001736111111111, 0.6006944444444444, 0.6002604166666666], \"target_val_acc_label\": [0.2786458333333333, 0.3058854166666667, 0.42625, 0.47541666666666665, 0.48651041666666667, 0.4933854166666667, 0.4953125, 0.4984895833333333, 0.5002604166666667, 0.49890625, 0.49151041666666667, 0.5006770833333334, 0.4981770833333333, 0.4975, 0.49661458333333336, 0.49333333333333335]}, \"dataset_metrics\": {\"source\": {\"train\": {\"n_unique_x\": 67200, \"n_unique_y\": 16, \"n_batch/episode\": 2520}, \"val\": {\"n_unique_x\": 14400, \"n_unique_y\": 16, \"n_batch/episode\": 360}, \"test\": {\"n_unique_x\": 14400, \"n_unique_y\": 16, \"n_batch/episode\": 360}}, \"target\": {\"train\": {\"n_unique_x\": 112000, \"n_unique_y\": 16, \"n_batch/episode\": 4200}, \"val\": {\"n_unique_x\": 24000, \"n_unique_y\": 16, \"n_batch/episode\": 600}, \"test\": {\"n_unique_x\": 24000, \"n_unique_y\": 16, \"n_batch/episode\": 600}}}}'"
      ]
     },
     "execution_count": 20,
     "metadata": {},
     "output_type": "execute_result"
    }
   ],
   "source": [
    "json.dumps(experiment)"
   ]
  }
 ],
 "metadata": {
  "celltoolbar": "Tags",
  "kernelspec": {
   "display_name": "Python 3 (ipykernel)",
   "language": "python",
   "name": "python3"
  },
  "language_info": {
   "codemirror_mode": {
    "name": "ipython",
    "version": 3
   },
   "file_extension": ".py",
   "mimetype": "text/x-python",
   "name": "python",
   "nbconvert_exporter": "python",
   "pygments_lexer": "ipython3",
   "version": "3.8.10"
  },
  "papermill": {
   "default_parameters": {},
   "duration": 1220.941533,
   "end_time": "2022-04-01T17:48:37.712915",
   "environment_variables": {},
   "exception": null,
   "input_path": "/mnt/wd500GB/CSC500/csc500-main/csc500-notebooks/templates/ptn_template.ipynb",
   "output_path": "trial.ipynb",
   "parameters": {
    "parameters": {
     "BEST_MODEL_PATH": "./best_model.pth",
     "NUM_LOGS_PER_EPOCH": 10,
     "criteria_for_best": "target_accuracy",
     "dataset_seed": 7,
     "device": "cuda",
     "domains_source": [
      8,
      32,
      50
     ],
     "domains_target": [
      14,
      20,
      26,
      38,
      44
     ],
     "episode_transforms_source": [],
     "episode_transforms_target": [],
     "experiment_name": "tuned_1v2:oracle.run2_limited",
     "labels_source": [
      "3123D52",
      "3123D65",
      "3123D79",
      "3123D80",
      "3123D54",
      "3123D70",
      "3123D7B",
      "3123D89",
      "3123D58",
      "3123D76",
      "3123D7D",
      "3123EFE",
      "3123D64",
      "3123D78",
      "3123D7E",
      "3124E4A"
     ],
     "labels_target": [
      "3123D52",
      "3123D65",
      "3123D79",
      "3123D80",
      "3123D54",
      "3123D70",
      "3123D7B",
      "3123D89",
      "3123D58",
      "3123D76",
      "3123D7D",
      "3123EFE",
      "3123D64",
      "3123D78",
      "3123D7E",
      "3124E4A"
     ],
     "lr": 0.0001,
     "n_epoch": 50,
     "n_query": 2,
     "n_shot": 3,
     "n_way": 16,
     "num_examples_per_domain_per_label_source": 2000,
     "num_examples_per_domain_per_label_target": 2000,
     "patience": 3,
     "pickle_name": "oracle.Run2_10kExamples_stratified_ds.2022A.pkl",
     "seed": 7,
     "test_k_factor": 2,
     "torch_default_dtype": "torch.float32",
     "train_k_factor": 3,
     "val_k_factor": 2,
     "x_net": [
      {
       "class": "nnReshape",
       "kargs": {
        "shape": [
         -1,
         1,
         2,
         256
        ]
       }
      },
      {
       "class": "Conv2d",
       "kargs": {
        "bias": false,
        "in_channels": 1,
        "kernel_size": [
         1,
         7
        ],
        "out_channels": 256,
        "padding": [
         0,
         3
        ]
       }
      },
      {
       "class": "ReLU",
       "kargs": {
        "inplace": true
       }
      },
      {
       "class": "BatchNorm2d",
       "kargs": {
        "num_features": 256
       }
      },
      {
       "class": "Conv2d",
       "kargs": {
        "bias": true,
        "in_channels": 256,
        "kernel_size": [
         2,
         7
        ],
        "out_channels": 80,
        "padding": [
         0,
         3
        ]
       }
      },
      {
       "class": "ReLU",
       "kargs": {
        "inplace": true
       }
      },
      {
       "class": "BatchNorm2d",
       "kargs": {
        "num_features": 80
       }
      },
      {
       "class": "Flatten",
       "kargs": {}
      },
      {
       "class": "Linear",
       "kargs": {
        "in_features": 20480,
        "out_features": 256
       }
      },
      {
       "class": "ReLU",
       "kargs": {
        "inplace": true
       }
      },
      {
       "class": "BatchNorm1d",
       "kargs": {
        "num_features": 256
       }
      },
      {
       "class": "Linear",
       "kargs": {
        "in_features": 256,
        "out_features": 256
       }
      }
     ],
     "x_transforms_source": [
      "unit_mag"
     ],
     "x_transforms_target": [
      "unit_mag"
     ]
    }
   },
   "start_time": "2022-04-01T17:28:16.771382",
   "version": "2.3.4"
  }
 },
 "nbformat": 4,
 "nbformat_minor": 5
}