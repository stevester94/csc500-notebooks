{
 "cells": [
  {
   "cell_type": "markdown",
   "id": "9fea5f46",
   "metadata": {
    "papermill": {
     "duration": 0.024791,
     "end_time": "2022-03-26T16:43:42.481331",
     "exception": false,
     "start_time": "2022-03-26T16:43:42.456540",
     "status": "completed"
    },
    "tags": []
   },
   "source": [
    "# PTN Template\n",
    "This notebook serves as a template for single dataset PTN experiments  \n",
    "It can be run on its own by setting STANDALONE to True (do a find for \"STANDALONE\" to see where)  \n",
    "But it is intended to be executed as part of a *papermill.py script. See any of the   \n",
    "experimentes with a papermill script to get started with that workflow.  "
   ]
  },
  {
   "cell_type": "code",
   "execution_count": 1,
   "id": "0902182a",
   "metadata": {
    "execution": {
     "iopub.execute_input": "2022-03-26T16:43:42.534330Z",
     "iopub.status.busy": "2022-03-26T16:43:42.533475Z",
     "iopub.status.idle": "2022-03-26T16:43:44.415601Z",
     "shell.execute_reply": "2022-03-26T16:43:44.414660Z"
    },
    "papermill": {
     "duration": 1.917307,
     "end_time": "2022-03-26T16:43:44.415800",
     "exception": false,
     "start_time": "2022-03-26T16:43:42.498493",
     "status": "completed"
    },
    "tags": []
   },
   "outputs": [],
   "source": [
    "%load_ext autoreload\n",
    "%autoreload 2\n",
    "%matplotlib inline\n",
    "\n",
    "    \n",
    "import os, json, sys, time, random\n",
    "import numpy as np\n",
    "import torch\n",
    "from torch.optim import Adam\n",
    "from  easydict import EasyDict\n",
    "import matplotlib.pyplot as plt\n",
    "\n",
    "from steves_models.steves_ptn import Steves_Prototypical_Network\n",
    "\n",
    "from steves_utils.lazy_iterable_wrapper import Lazy_Iterable_Wrapper\n",
    "from steves_utils.iterable_aggregator import Iterable_Aggregator\n",
    "from steves_utils.ptn_train_eval_test_jig import  PTN_Train_Eval_Test_Jig\n",
    "from steves_utils.torch_sequential_builder import build_sequential\n",
    "from steves_utils.torch_utils import get_dataset_metrics, ptn_confusion_by_domain_over_dataloader\n",
    "from steves_utils.utils_v2 import (per_domain_accuracy_from_confusion, get_datasets_base_path)\n",
    "from steves_utils.PTN.utils import independent_accuracy_assesment\n",
    "\n",
    "from steves_utils.stratified_dataset.episodic_accessor import Episodic_Accessor_Factory\n",
    "\n",
    "from steves_utils.ptn_do_report import (\n",
    "    get_loss_curve,\n",
    "    get_results_table,\n",
    "    get_parameters_table,\n",
    "    get_domain_accuracies,\n",
    ")\n",
    "\n",
    "from steves_utils.transforms import get_chained_transform"
   ]
  },
  {
   "cell_type": "markdown",
   "id": "41c840b4",
   "metadata": {
    "papermill": {
     "duration": 0.014697,
     "end_time": "2022-03-26T16:43:44.450196",
     "exception": false,
     "start_time": "2022-03-26T16:43:44.435499",
     "status": "completed"
    },
    "tags": []
   },
   "source": [
    "# Required Parameters\n",
    "These are allowed parameters, not defaults\n",
    "Each of these values need to be present in the injected parameters (the notebook will raise an exception if they are not present)\n",
    "\n",
    "Papermill uses the cell tag \"parameters\" to inject the real parameters below this cell.\n",
    "Enable tags to see what I mean"
   ]
  },
  {
   "cell_type": "code",
   "execution_count": 2,
   "id": "fd44eb83",
   "metadata": {
    "execution": {
     "iopub.execute_input": "2022-03-26T16:43:44.483776Z",
     "iopub.status.busy": "2022-03-26T16:43:44.483340Z",
     "iopub.status.idle": "2022-03-26T16:43:44.503546Z",
     "shell.execute_reply": "2022-03-26T16:43:44.502722Z"
    },
    "papermill": {
     "duration": 0.03894,
     "end_time": "2022-03-26T16:43:44.503730",
     "exception": false,
     "start_time": "2022-03-26T16:43:44.464790",
     "status": "completed"
    },
    "tags": []
   },
   "outputs": [],
   "source": [
    "required_parameters = {\n",
    "    \"experiment_name\",\n",
    "    \"lr\",\n",
    "    \"device\",\n",
    "    \"seed\",\n",
    "    \"dataset_seed\",\n",
    "    \"labels_source\",\n",
    "    \"labels_target\",\n",
    "    \"domains_source\",\n",
    "    \"domains_target\",\n",
    "    \"num_examples_per_domain_per_label_source\",\n",
    "    \"num_examples_per_domain_per_label_target\",\n",
    "    \"n_shot\",\n",
    "    \"n_way\",\n",
    "    \"n_query\",\n",
    "    \"train_k_factor\",\n",
    "    \"val_k_factor\",\n",
    "    \"test_k_factor\",\n",
    "    \"n_epoch\",\n",
    "    \"patience\",\n",
    "    \"criteria_for_best\",\n",
    "    \"x_transforms_source\",\n",
    "    \"x_transforms_target\",\n",
    "    \"episode_transforms_source\",\n",
    "    \"episode_transforms_target\",\n",
    "    \"pickle_name\",\n",
    "    \"x_net\",\n",
    "    \"NUM_LOGS_PER_EPOCH\",\n",
    "    \"BEST_MODEL_PATH\",\n",
    "    \"torch_default_dtype\"\n",
    "}"
   ]
  },
  {
   "cell_type": "code",
   "execution_count": 3,
   "id": "fa3f0049",
   "metadata": {
    "execution": {
     "iopub.execute_input": "2022-03-26T16:43:44.552015Z",
     "iopub.status.busy": "2022-03-26T16:43:44.544933Z",
     "iopub.status.idle": "2022-03-26T16:43:44.574902Z",
     "shell.execute_reply": "2022-03-26T16:43:44.574116Z"
    },
    "papermill": {
     "duration": 0.047082,
     "end_time": "2022-03-26T16:43:44.575084",
     "exception": false,
     "start_time": "2022-03-26T16:43:44.528002",
     "status": "completed"
    },
    "tags": [
     "parameters"
    ]
   },
   "outputs": [],
   "source": [
    "\n",
    "\n",
    "standalone_parameters = {}\n",
    "standalone_parameters[\"experiment_name\"] = \"STANDALONE PTN\"\n",
    "standalone_parameters[\"lr\"] = 0.0001\n",
    "standalone_parameters[\"device\"] = \"cuda\"\n",
    "\n",
    "standalone_parameters[\"seed\"] = 1337\n",
    "standalone_parameters[\"dataset_seed\"] = 1337\n",
    "\n",
    "\n",
    "standalone_parameters[\"num_examples_per_domain_per_label_source\"]=100\n",
    "standalone_parameters[\"num_examples_per_domain_per_label_target\"]=100\n",
    "\n",
    "standalone_parameters[\"n_shot\"] = 3\n",
    "standalone_parameters[\"n_query\"]  = 2\n",
    "standalone_parameters[\"train_k_factor\"] = 1\n",
    "standalone_parameters[\"val_k_factor\"] = 2\n",
    "standalone_parameters[\"test_k_factor\"] = 2\n",
    "\n",
    "\n",
    "standalone_parameters[\"n_epoch\"] = 100\n",
    "\n",
    "standalone_parameters[\"patience\"] = 10\n",
    "standalone_parameters[\"criteria_for_best\"] = \"target_accuracy\"\n",
    "\n",
    "standalone_parameters[\"x_transforms_source\"] = [\"unit_power\"]\n",
    "standalone_parameters[\"x_transforms_target\"] = [\"unit_power\"]\n",
    "standalone_parameters[\"episode_transforms_source\"] = []\n",
    "standalone_parameters[\"episode_transforms_target\"] = []\n",
    "\n",
    "standalone_parameters[\"torch_default_dtype\"] = \"torch.float32\" \n",
    "\n",
    "\n",
    "\n",
    "standalone_parameters[\"x_net\"] =     [\n",
    "    {\"class\": \"nnReshape\", \"kargs\": {\"shape\":[-1, 1, 2, 256]}},\n",
    "    {\"class\": \"Conv2d\", \"kargs\": { \"in_channels\":1, \"out_channels\":256, \"kernel_size\":(1,7), \"bias\":False, \"padding\":(0,3), },},\n",
    "    {\"class\": \"ReLU\", \"kargs\": {\"inplace\": True}},\n",
    "    {\"class\": \"BatchNorm2d\", \"kargs\": {\"num_features\":256}},\n",
    "\n",
    "    {\"class\": \"Conv2d\", \"kargs\": { \"in_channels\":256, \"out_channels\":80, \"kernel_size\":(2,7), \"bias\":True, \"padding\":(0,3), },},\n",
    "    {\"class\": \"ReLU\", \"kargs\": {\"inplace\": True}},\n",
    "    {\"class\": \"BatchNorm2d\", \"kargs\": {\"num_features\":80}},\n",
    "    {\"class\": \"Flatten\", \"kargs\": {}},\n",
    "\n",
    "    {\"class\": \"Linear\", \"kargs\": {\"in_features\": 80*256, \"out_features\": 256}}, # 80 units per IQ pair\n",
    "    {\"class\": \"ReLU\", \"kargs\": {\"inplace\": True}},\n",
    "    {\"class\": \"BatchNorm1d\", \"kargs\": {\"num_features\":256}},\n",
    "\n",
    "    {\"class\": \"Linear\", \"kargs\": {\"in_features\": 256, \"out_features\": 256}},\n",
    "]\n",
    "\n",
    "# Parameters relevant to results\n",
    "# These parameters will basically never need to change\n",
    "standalone_parameters[\"NUM_LOGS_PER_EPOCH\"] = 10\n",
    "standalone_parameters[\"BEST_MODEL_PATH\"] = \"./best_model.pth\"\n",
    "\n",
    "# uncomment for CORES dataset\n",
    "from steves_utils.CORES.utils import (\n",
    "    ALL_NODES,\n",
    "    ALL_NODES_MINIMUM_1000_EXAMPLES,\n",
    "    ALL_DAYS\n",
    ")\n",
    "\n",
    "\n",
    "standalone_parameters[\"labels_source\"] = ALL_NODES\n",
    "standalone_parameters[\"labels_target\"] = ALL_NODES\n",
    "\n",
    "standalone_parameters[\"domains_source\"] = [1]\n",
    "standalone_parameters[\"domains_target\"] = [2,3,4,5]\n",
    "\n",
    "standalone_parameters[\"pickle_name\"] = \"cores.stratified_ds.2022A.pkl\"\n",
    "\n",
    "\n",
    "# Uncomment these for ORACLE dataset\n",
    "# from steves_utils.ORACLE.utils_v2 import (\n",
    "#     ALL_DISTANCES_FEET,\n",
    "#     ALL_RUNS,\n",
    "#     ALL_SERIAL_NUMBERS,\n",
    "# )\n",
    "# standalone_parameters[\"labels_source\"] = ALL_SERIAL_NUMBERS\n",
    "# standalone_parameters[\"labels_target\"] = ALL_SERIAL_NUMBERS\n",
    "# standalone_parameters[\"domains_source\"] = [8,20, 38,50]\n",
    "# standalone_parameters[\"domains_target\"] = [14, 26, 32, 44, 56]\n",
    "# standalone_parameters[\"pickle_name\"] = \"oracle.frame_indexed.stratified_ds.2022A.pkl\"\n",
    "# standalone_parameters[\"num_examples_per_domain_per_label_source\"]=1000\n",
    "# standalone_parameters[\"num_examples_per_domain_per_label_target\"]=1000\n",
    "\n",
    "# Uncomment these for Metahan dataset\n",
    "# standalone_parameters[\"labels_source\"] = list(range(19))\n",
    "# standalone_parameters[\"labels_target\"] = list(range(19))\n",
    "# standalone_parameters[\"domains_source\"] = [0]\n",
    "# standalone_parameters[\"domains_target\"] = [1]\n",
    "# standalone_parameters[\"pickle_name\"] = \"metehan.stratified_ds.2022A.pkl\"\n",
    "# standalone_parameters[\"n_way\"]  = len(standalone_parameters[\"labels_source\"])\n",
    "# standalone_parameters[\"num_examples_per_domain_per_label_source\"]=200\n",
    "# standalone_parameters[\"num_examples_per_domain_per_label_target\"]=100\n",
    "\n",
    "\n",
    "standalone_parameters[\"n_way\"]  = len(standalone_parameters[\"labels_source\"])"
   ]
  },
  {
   "cell_type": "code",
   "execution_count": 4,
   "id": "17e9dc39",
   "metadata": {
    "execution": {
     "iopub.execute_input": "2022-03-26T16:43:44.619490Z",
     "iopub.status.busy": "2022-03-26T16:43:44.618838Z",
     "iopub.status.idle": "2022-03-26T16:43:44.641459Z",
     "shell.execute_reply": "2022-03-26T16:43:44.640655Z"
    },
    "papermill": {
     "duration": 0.045731,
     "end_time": "2022-03-26T16:43:44.641642",
     "exception": false,
     "start_time": "2022-03-26T16:43:44.595911",
     "status": "completed"
    },
    "tags": [
     "injected-parameters"
    ]
   },
   "outputs": [],
   "source": [
    "# Parameters\n",
    "parameters = {\n",
    "    \"experiment_name\": \"tuned_1v2:oracle.run2_limited\",\n",
    "    \"device\": \"cuda\",\n",
    "    \"lr\": 0.0001,\n",
    "    \"labels_source\": [\n",
    "        \"3123D52\",\n",
    "        \"3123D65\",\n",
    "        \"3123D79\",\n",
    "        \"3123D80\",\n",
    "        \"3123D54\",\n",
    "        \"3123D70\",\n",
    "        \"3123D7B\",\n",
    "        \"3123D89\",\n",
    "        \"3123D58\",\n",
    "        \"3123D76\",\n",
    "        \"3123D7D\",\n",
    "        \"3123EFE\",\n",
    "        \"3123D64\",\n",
    "        \"3123D78\",\n",
    "        \"3123D7E\",\n",
    "        \"3124E4A\",\n",
    "    ],\n",
    "    \"labels_target\": [\n",
    "        \"3123D52\",\n",
    "        \"3123D65\",\n",
    "        \"3123D79\",\n",
    "        \"3123D80\",\n",
    "        \"3123D54\",\n",
    "        \"3123D70\",\n",
    "        \"3123D7B\",\n",
    "        \"3123D89\",\n",
    "        \"3123D58\",\n",
    "        \"3123D76\",\n",
    "        \"3123D7D\",\n",
    "        \"3123EFE\",\n",
    "        \"3123D64\",\n",
    "        \"3123D78\",\n",
    "        \"3123D7E\",\n",
    "        \"3124E4A\",\n",
    "    ],\n",
    "    \"episode_transforms_source\": [],\n",
    "    \"episode_transforms_target\": [],\n",
    "    \"domains_source\": [8, 32, 50],\n",
    "    \"domains_target\": [14, 20, 26, 38, 44],\n",
    "    \"num_examples_per_domain_per_label_source\": -1,\n",
    "    \"num_examples_per_domain_per_label_target\": -1,\n",
    "    \"n_shot\": 3,\n",
    "    \"n_way\": 16,\n",
    "    \"n_query\": 2,\n",
    "    \"train_k_factor\": 3,\n",
    "    \"val_k_factor\": 2,\n",
    "    \"test_k_factor\": 2,\n",
    "    \"torch_default_dtype\": \"torch.float32\",\n",
    "    \"n_epoch\": 50,\n",
    "    \"patience\": 3,\n",
    "    \"criteria_for_best\": \"target_accuracy\",\n",
    "    \"x_net\": [\n",
    "        {\"class\": \"nnReshape\", \"kargs\": {\"shape\": [-1, 1, 2, 256]}},\n",
    "        {\n",
    "            \"class\": \"Conv2d\",\n",
    "            \"kargs\": {\n",
    "                \"in_channels\": 1,\n",
    "                \"out_channels\": 256,\n",
    "                \"kernel_size\": [1, 7],\n",
    "                \"bias\": False,\n",
    "                \"padding\": [0, 3],\n",
    "            },\n",
    "        },\n",
    "        {\"class\": \"ReLU\", \"kargs\": {\"inplace\": True}},\n",
    "        {\"class\": \"BatchNorm2d\", \"kargs\": {\"num_features\": 256}},\n",
    "        {\n",
    "            \"class\": \"Conv2d\",\n",
    "            \"kargs\": {\n",
    "                \"in_channels\": 256,\n",
    "                \"out_channels\": 80,\n",
    "                \"kernel_size\": [2, 7],\n",
    "                \"bias\": True,\n",
    "                \"padding\": [0, 3],\n",
    "            },\n",
    "        },\n",
    "        {\"class\": \"ReLU\", \"kargs\": {\"inplace\": True}},\n",
    "        {\"class\": \"BatchNorm2d\", \"kargs\": {\"num_features\": 80}},\n",
    "        {\"class\": \"Flatten\", \"kargs\": {}},\n",
    "        {\"class\": \"Linear\", \"kargs\": {\"in_features\": 20480, \"out_features\": 256}},\n",
    "        {\"class\": \"ReLU\", \"kargs\": {\"inplace\": True}},\n",
    "        {\"class\": \"BatchNorm1d\", \"kargs\": {\"num_features\": 256}},\n",
    "        {\"class\": \"Linear\", \"kargs\": {\"in_features\": 256, \"out_features\": 256}},\n",
    "    ],\n",
    "    \"NUM_LOGS_PER_EPOCH\": 10,\n",
    "    \"BEST_MODEL_PATH\": \"./best_model.pth\",\n",
    "    \"pickle_name\": \"oracle.Run2_10kExamples_stratified_ds.2022A.pkl\",\n",
    "    \"x_transforms_source\": [\"unit_mag\"],\n",
    "    \"x_transforms_target\": [\"unit_mag\"],\n",
    "    \"dataset_seed\": 7,\n",
    "    \"seed\": 7,\n",
    "}\n"
   ]
  },
  {
   "cell_type": "code",
   "execution_count": 5,
   "id": "8fa1cc33",
   "metadata": {
    "execution": {
     "iopub.execute_input": "2022-03-26T16:43:44.683634Z",
     "iopub.status.busy": "2022-03-26T16:43:44.683216Z",
     "iopub.status.idle": "2022-03-26T16:43:44.704107Z",
     "shell.execute_reply": "2022-03-26T16:43:44.703214Z"
    },
    "papermill": {
     "duration": 0.04072,
     "end_time": "2022-03-26T16:43:44.704281",
     "exception": false,
     "start_time": "2022-03-26T16:43:44.663561",
     "status": "completed"
    },
    "tags": []
   },
   "outputs": [],
   "source": [
    "# Set this to True if you want to run this template directly\n",
    "STANDALONE = False\n",
    "if STANDALONE:\n",
    "    print(\"parameters not injected, running with standalone_parameters\")\n",
    "    parameters = standalone_parameters\n",
    "\n",
    "if not 'parameters' in locals() and not 'parameters' in globals():\n",
    "    raise Exception(\"Parameter injection failed\")\n",
    "\n",
    "#Use an easy dict for all the parameters\n",
    "p = EasyDict(parameters)\n",
    "\n",
    "supplied_keys = set(p.keys())\n",
    "\n",
    "if  supplied_keys != required_parameters:\n",
    "    print(\"Parameters are incorrect\")\n",
    "    if len(supplied_keys - required_parameters)>0: print(\"Shouldn't have:\", str(supplied_keys - required_parameters))\n",
    "    if len(required_parameters - supplied_keys)>0: print(\"Need to have:\", str(required_parameters - supplied_keys))\n",
    "    raise RuntimeError(\"Parameters are incorrect\")\n",
    "\n"
   ]
  },
  {
   "cell_type": "code",
   "execution_count": 6,
   "id": "3a028d58",
   "metadata": {
    "execution": {
     "iopub.execute_input": "2022-03-26T16:43:44.744452Z",
     "iopub.status.busy": "2022-03-26T16:43:44.744060Z",
     "iopub.status.idle": "2022-03-26T16:43:44.764902Z",
     "shell.execute_reply": "2022-03-26T16:43:44.764124Z"
    },
    "papermill": {
     "duration": 0.03858,
     "end_time": "2022-03-26T16:43:44.765088",
     "exception": false,
     "start_time": "2022-03-26T16:43:44.726508",
     "status": "completed"
    },
    "tags": []
   },
   "outputs": [],
   "source": [
    "###################################\n",
    "# Set the RNGs and make it all deterministic\n",
    "###################################\n",
    "np.random.seed(p.seed)\n",
    "random.seed(p.seed)\n",
    "torch.manual_seed(p.seed)\n",
    "\n",
    "torch.use_deterministic_algorithms(True) "
   ]
  },
  {
   "cell_type": "code",
   "execution_count": 7,
   "id": "b691acf6",
   "metadata": {
    "execution": {
     "iopub.execute_input": "2022-03-26T16:43:44.806592Z",
     "iopub.status.busy": "2022-03-26T16:43:44.806069Z",
     "iopub.status.idle": "2022-03-26T16:43:44.828878Z",
     "shell.execute_reply": "2022-03-26T16:43:44.828120Z"
    },
    "papermill": {
     "duration": 0.041884,
     "end_time": "2022-03-26T16:43:44.829056",
     "exception": false,
     "start_time": "2022-03-26T16:43:44.787172",
     "status": "completed"
    },
    "tags": []
   },
   "outputs": [],
   "source": [
    "###########################################\n",
    "# The stratified datasets honor this\n",
    "###########################################\n",
    "torch.set_default_dtype(eval(p.torch_default_dtype))"
   ]
  },
  {
   "cell_type": "code",
   "execution_count": 8,
   "id": "b5fba671",
   "metadata": {
    "execution": {
     "iopub.execute_input": "2022-03-26T16:43:44.874380Z",
     "iopub.status.busy": "2022-03-26T16:43:44.873249Z",
     "iopub.status.idle": "2022-03-26T16:43:44.930475Z",
     "shell.execute_reply": "2022-03-26T16:43:44.929288Z"
    },
    "papermill": {
     "duration": 0.077023,
     "end_time": "2022-03-26T16:43:44.930746",
     "exception": false,
     "start_time": "2022-03-26T16:43:44.853723",
     "status": "completed"
    },
    "tags": []
   },
   "outputs": [],
   "source": [
    "###################################\n",
    "# Build the network(s)\n",
    "# Note: It's critical to do this AFTER setting the RNG\n",
    "# (This is due to the randomized initial weights)\n",
    "###################################\n",
    "x_net = build_sequential(p.x_net)"
   ]
  },
  {
   "cell_type": "code",
   "execution_count": 9,
   "id": "5d7e61cc",
   "metadata": {
    "execution": {
     "iopub.execute_input": "2022-03-26T16:43:44.972401Z",
     "iopub.status.busy": "2022-03-26T16:43:44.971949Z",
     "iopub.status.idle": "2022-03-26T16:43:44.998328Z",
     "shell.execute_reply": "2022-03-26T16:43:44.997440Z"
    },
    "papermill": {
     "duration": 0.046446,
     "end_time": "2022-03-26T16:43:44.998513",
     "exception": false,
     "start_time": "2022-03-26T16:43:44.952067",
     "status": "completed"
    },
    "tags": []
   },
   "outputs": [],
   "source": [
    "start_time_secs = time.time()"
   ]
  },
  {
   "cell_type": "code",
   "execution_count": 10,
   "id": "fd5442bc",
   "metadata": {
    "execution": {
     "iopub.execute_input": "2022-03-26T16:43:45.049592Z",
     "iopub.status.busy": "2022-03-26T16:43:45.048675Z",
     "iopub.status.idle": "2022-03-26T16:45:33.137548Z",
     "shell.execute_reply": "2022-03-26T16:45:33.136800Z"
    },
    "papermill": {
     "duration": 108.116701,
     "end_time": "2022-03-26T16:45:33.137739",
     "exception": false,
     "start_time": "2022-03-26T16:43:45.021038",
     "status": "completed"
    },
    "tags": []
   },
   "outputs": [],
   "source": [
    "###################################\n",
    "# Build the dataset\n",
    "###################################\n",
    "\n",
    "if p.x_transforms_source == []: x_transform_source = None\n",
    "else: x_transform_source = get_chained_transform(p.x_transforms_source) \n",
    "\n",
    "if p.x_transforms_target == []: x_transform_target = None\n",
    "else: x_transform_target = get_chained_transform(p.x_transforms_target)\n",
    "\n",
    "if p.episode_transforms_source == []: episode_transform_source = None\n",
    "else: raise Exception(\"episode_transform_source not implemented\")\n",
    "\n",
    "if p.episode_transforms_target == []: episode_transform_target = None\n",
    "else: raise Exception(\"episode_transform_target not implemented\")\n",
    "\n",
    "\n",
    "eaf_source = Episodic_Accessor_Factory(\n",
    "    labels=p.labels_source,\n",
    "    domains=p.domains_source,\n",
    "    num_examples_per_domain_per_label=p.num_examples_per_domain_per_label_source,\n",
    "    iterator_seed=p.seed,\n",
    "    dataset_seed=p.dataset_seed,\n",
    "    n_shot=p.n_shot,\n",
    "    n_way=p.n_way,\n",
    "    n_query=p.n_query,\n",
    "    train_val_test_k_factors=(p.train_k_factor,p.val_k_factor,p.test_k_factor),\n",
    "    pickle_path=os.path.join(get_datasets_base_path(), p.pickle_name),\n",
    "    x_transform_func=x_transform_source,\n",
    "    example_transform_func=episode_transform_source,\n",
    "    \n",
    ")\n",
    "train_original_source, val_original_source, test_original_source = eaf_source.get_train(), eaf_source.get_val(), eaf_source.get_test()\n",
    "\n",
    "\n",
    "eaf_target = Episodic_Accessor_Factory(\n",
    "    labels=p.labels_target,\n",
    "    domains=p.domains_target,\n",
    "    num_examples_per_domain_per_label=p.num_examples_per_domain_per_label_target,\n",
    "    iterator_seed=p.seed,\n",
    "    dataset_seed=p.dataset_seed,\n",
    "    n_shot=p.n_shot,\n",
    "    n_way=p.n_way,\n",
    "    n_query=p.n_query,\n",
    "    train_val_test_k_factors=(p.train_k_factor,p.val_k_factor,p.test_k_factor),\n",
    "    pickle_path=os.path.join(get_datasets_base_path(), p.pickle_name),\n",
    "    x_transform_func=x_transform_target,\n",
    "    example_transform_func=episode_transform_target,\n",
    ")\n",
    "train_original_target, val_original_target, test_original_target = eaf_target.get_train(), eaf_target.get_val(), eaf_target.get_test()\n",
    "\n",
    "\n",
    "transform_lambda = lambda ex: ex[1] # Original is (<domain>, <episode>) so we strip down to episode only\n",
    "\n",
    "train_processed_source = Lazy_Iterable_Wrapper(train_original_source, transform_lambda)\n",
    "val_processed_source   = Lazy_Iterable_Wrapper(val_original_source, transform_lambda)\n",
    "test_processed_source  = Lazy_Iterable_Wrapper(test_original_source, transform_lambda)\n",
    "\n",
    "train_processed_target = Lazy_Iterable_Wrapper(train_original_target, transform_lambda)\n",
    "val_processed_target   = Lazy_Iterable_Wrapper(val_original_target, transform_lambda)\n",
    "test_processed_target  = Lazy_Iterable_Wrapper(test_original_target, transform_lambda)\n",
    "\n",
    "datasets = EasyDict({\n",
    "    \"source\": {\n",
    "        \"original\": {\"train\":train_original_source, \"val\":val_original_source, \"test\":test_original_source},\n",
    "        \"processed\": {\"train\":train_processed_source, \"val\":val_processed_source, \"test\":test_processed_source}\n",
    "    },\n",
    "    \"target\": {\n",
    "        \"original\": {\"train\":train_original_target, \"val\":val_original_target, \"test\":test_original_target},\n",
    "        \"processed\": {\"train\":train_processed_target, \"val\":val_processed_target, \"test\":test_processed_target}\n",
    "    },\n",
    "})"
   ]
  },
  {
   "cell_type": "code",
   "execution_count": 11,
   "id": "296189d9",
   "metadata": {
    "execution": {
     "iopub.execute_input": "2022-03-26T16:45:33.177529Z",
     "iopub.status.busy": "2022-03-26T16:45:33.176950Z",
     "iopub.status.idle": "2022-03-26T16:45:38.984356Z",
     "shell.execute_reply": "2022-03-26T16:45:38.983639Z"
    },
    "papermill": {
     "duration": 5.827758,
     "end_time": "2022-03-26T16:45:38.984537",
     "exception": false,
     "start_time": "2022-03-26T16:45:33.156779",
     "status": "completed"
    },
    "tags": []
   },
   "outputs": [
    {
     "name": "stdout",
     "output_type": "stream",
     "text": [
      "Visually inspect these to see if they line up with expected values given the transforms\n",
      "x_transforms_source ['unit_mag']\n",
      "x_transforms_target ['unit_mag']\n",
      "Average magnitude, source: 1.0\n",
      "Average power, source: 1.3532832\n"
     ]
    },
    {
     "name": "stdout",
     "output_type": "stream",
     "text": [
      "Average magnitude, target: 0.99999994\n",
      "Average power, target: 1.2737676\n"
     ]
    }
   ],
   "source": [
    "# Some quick unit tests on the data\n",
    "from steves_utils.transforms import get_average_power, get_average_magnitude\n",
    "\n",
    "q_x, q_y, s_x, s_y, truth = next(iter(train_processed_source))\n",
    "\n",
    "assert q_x.dtype == eval(p.torch_default_dtype)\n",
    "assert s_x.dtype == eval(p.torch_default_dtype)\n",
    "\n",
    "print(\"Visually inspect these to see if they line up with expected values given the transforms\")\n",
    "print('x_transforms_source', p.x_transforms_source)\n",
    "print('x_transforms_target', p.x_transforms_target)\n",
    "print(\"Average magnitude, source:\", get_average_magnitude(q_x[0].numpy()))\n",
    "print(\"Average power, source:\", get_average_power(q_x[0].numpy()))\n",
    "\n",
    "q_x, q_y, s_x, s_y, truth = next(iter(train_processed_target))\n",
    "print(\"Average magnitude, target:\", get_average_magnitude(q_x[0].numpy()))\n",
    "print(\"Average power, target:\", get_average_power(q_x[0].numpy()))\n"
   ]
  },
  {
   "cell_type": "code",
   "execution_count": 12,
   "id": "bbdacba1",
   "metadata": {
    "execution": {
     "iopub.execute_input": "2022-03-26T16:45:39.029915Z",
     "iopub.status.busy": "2022-03-26T16:45:39.029281Z",
     "iopub.status.idle": "2022-03-26T16:45:39.254751Z",
     "shell.execute_reply": "2022-03-26T16:45:39.254034Z"
    },
    "papermill": {
     "duration": 0.246942,
     "end_time": "2022-03-26T16:45:39.254924",
     "exception": false,
     "start_time": "2022-03-26T16:45:39.007982",
     "status": "completed"
    },
    "tags": []
   },
   "outputs": [
    {
     "name": "stdout",
     "output_type": "stream",
     "text": [
      "(2, 256)\n"
     ]
    }
   ],
   "source": [
    "###################################\n",
    "# Build the model\n",
    "###################################\n",
    "model = Steves_Prototypical_Network(x_net, device=p.device, x_shape=(2,256))\n",
    "optimizer = Adam(params=model.parameters(), lr=p.lr)"
   ]
  },
  {
   "cell_type": "code",
   "execution_count": 13,
   "id": "22b39ac5",
   "metadata": {
    "execution": {
     "iopub.execute_input": "2022-03-26T16:45:39.298767Z",
     "iopub.status.busy": "2022-03-26T16:45:39.298196Z",
     "iopub.status.idle": "2022-03-26T17:36:11.030952Z",
     "shell.execute_reply": "2022-03-26T17:36:11.030593Z"
    },
    "papermill": {
     "duration": 3031.754716,
     "end_time": "2022-03-26T17:36:11.031045",
     "exception": false,
     "start_time": "2022-03-26T16:45:39.276329",
     "status": "completed"
    },
    "tags": []
   },
   "outputs": [
    {
     "name": "stdout",
     "output_type": "stream",
     "text": [
      "epoch: 1, [batch: 1 / 12600], examples_per_second: 17.1117, train_label_loss: 2.7908, \n"
     ]
    },
    {
     "name": "stdout",
     "output_type": "stream",
     "text": [
      "epoch: 1, [batch: 1260 / 12600], examples_per_second: 3972.6921, train_label_loss: 1.9822, \n"
     ]
    },
    {
     "name": "stdout",
     "output_type": "stream",
     "text": [
      "epoch: 1, [batch: 2520 / 12600], examples_per_second: 3918.3592, train_label_loss: 1.2299, \n"
     ]
    },
    {
     "name": "stdout",
     "output_type": "stream",
     "text": [
      "epoch: 1, [batch: 3780 / 12600], examples_per_second: 3912.0279, train_label_loss: 1.2794, \n"
     ]
    },
    {
     "name": "stdout",
     "output_type": "stream",
     "text": [
      "epoch: 1, [batch: 5040 / 12600], examples_per_second: 3866.8618, train_label_loss: 1.3506, \n"
     ]
    },
    {
     "name": "stdout",
     "output_type": "stream",
     "text": [
      "epoch: 1, [batch: 6300 / 12600], examples_per_second: 3840.0221, train_label_loss: 0.9502, \n"
     ]
    },
    {
     "name": "stdout",
     "output_type": "stream",
     "text": [
      "epoch: 1, [batch: 7560 / 12600], examples_per_second: 3830.3371, train_label_loss: 1.4194, \n"
     ]
    },
    {
     "name": "stdout",
     "output_type": "stream",
     "text": [
      "epoch: 1, [batch: 8820 / 12600], examples_per_second: 3839.3332, train_label_loss: 1.1561, \n"
     ]
    },
    {
     "name": "stdout",
     "output_type": "stream",
     "text": [
      "epoch: 1, [batch: 10080 / 12600], examples_per_second: 3917.0359, train_label_loss: 0.8804, \n"
     ]
    },
    {
     "name": "stdout",
     "output_type": "stream",
     "text": [
      "epoch: 1, [batch: 11340 / 12600], examples_per_second: 3817.7433, train_label_loss: 1.2294, \n"
     ]
    },
    {
     "name": "stdout",
     "output_type": "stream",
     "text": [
      "=============================================================\n",
      "epoch: 1, source_val_acc_label: 0.5807, target_val_acc_label: 0.4888, source_val_label_loss: 1.0911, target_val_label_loss: 1.3998, \n",
      "=============================================================\n"
     ]
    },
    {
     "name": "stdout",
     "output_type": "stream",
     "text": [
      "New best\n"
     ]
    },
    {
     "name": "stdout",
     "output_type": "stream",
     "text": [
      "epoch: 2, [batch: 1 / 12600], examples_per_second: 1.9036, train_label_loss: 1.3553, \n"
     ]
    },
    {
     "name": "stdout",
     "output_type": "stream",
     "text": [
      "epoch: 2, [batch: 1260 / 12600], examples_per_second: 4244.9546, train_label_loss: 0.8539, \n"
     ]
    },
    {
     "name": "stdout",
     "output_type": "stream",
     "text": [
      "epoch: 2, [batch: 2520 / 12600], examples_per_second: 4336.8252, train_label_loss: 0.9687, \n"
     ]
    },
    {
     "name": "stdout",
     "output_type": "stream",
     "text": [
      "epoch: 2, [batch: 3780 / 12600], examples_per_second: 4481.3648, train_label_loss: 0.8402, \n"
     ]
    },
    {
     "name": "stdout",
     "output_type": "stream",
     "text": [
      "epoch: 2, [batch: 5040 / 12600], examples_per_second: 4340.7292, train_label_loss: 0.9829, \n"
     ]
    },
    {
     "name": "stdout",
     "output_type": "stream",
     "text": [
      "epoch: 2, [batch: 6300 / 12600], examples_per_second: 4318.4729, train_label_loss: 0.7864, \n"
     ]
    },
    {
     "name": "stdout",
     "output_type": "stream",
     "text": [
      "epoch: 2, [batch: 7560 / 12600], examples_per_second: 4359.2603, train_label_loss: 0.5681, \n"
     ]
    },
    {
     "name": "stdout",
     "output_type": "stream",
     "text": [
      "epoch: 2, [batch: 8820 / 12600], examples_per_second: 4318.8481, train_label_loss: 0.5766, \n"
     ]
    },
    {
     "name": "stdout",
     "output_type": "stream",
     "text": [
      "epoch: 2, [batch: 10080 / 12600], examples_per_second: 4208.4962, train_label_loss: 0.7585, \n"
     ]
    },
    {
     "name": "stdout",
     "output_type": "stream",
     "text": [
      "epoch: 2, [batch: 11340 / 12600], examples_per_second: 4916.9940, train_label_loss: 0.8139, \n"
     ]
    },
    {
     "name": "stdout",
     "output_type": "stream",
     "text": [
      "=============================================================\n",
      "epoch: 2, source_val_acc_label: 0.6812, target_val_acc_label: 0.5605, source_val_label_loss: 0.8251, target_val_label_loss: 1.2448, \n",
      "=============================================================\n"
     ]
    },
    {
     "name": "stdout",
     "output_type": "stream",
     "text": [
      "New best\n"
     ]
    },
    {
     "name": "stdout",
     "output_type": "stream",
     "text": [
      "epoch: 3, [batch: 1 / 12600], examples_per_second: 2.3872, train_label_loss: 0.5741, \n"
     ]
    },
    {
     "name": "stdout",
     "output_type": "stream",
     "text": [
      "epoch: 3, [batch: 1260 / 12600], examples_per_second: 4984.9460, train_label_loss: 0.6881, \n"
     ]
    },
    {
     "name": "stdout",
     "output_type": "stream",
     "text": [
      "epoch: 3, [batch: 2520 / 12600], examples_per_second: 5309.2489, train_label_loss: 1.1180, \n"
     ]
    },
    {
     "name": "stdout",
     "output_type": "stream",
     "text": [
      "epoch: 3, [batch: 3780 / 12600], examples_per_second: 5063.2987, train_label_loss: 0.5282, \n"
     ]
    },
    {
     "name": "stdout",
     "output_type": "stream",
     "text": [
      "epoch: 3, [batch: 5040 / 12600], examples_per_second: 4953.9129, train_label_loss: 0.5011, \n"
     ]
    },
    {
     "name": "stdout",
     "output_type": "stream",
     "text": [
      "epoch: 3, [batch: 6300 / 12600], examples_per_second: 5010.9945, train_label_loss: 0.4561, \n"
     ]
    },
    {
     "name": "stdout",
     "output_type": "stream",
     "text": [
      "epoch: 3, [batch: 7560 / 12600], examples_per_second: 5059.9148, train_label_loss: 0.7445, \n"
     ]
    },
    {
     "name": "stdout",
     "output_type": "stream",
     "text": [
      "epoch: 3, [batch: 8820 / 12600], examples_per_second: 5243.9224, train_label_loss: 0.5258, \n"
     ]
    },
    {
     "name": "stdout",
     "output_type": "stream",
     "text": [
      "epoch: 3, [batch: 10080 / 12600], examples_per_second: 5243.6174, train_label_loss: 0.6530, \n"
     ]
    },
    {
     "name": "stdout",
     "output_type": "stream",
     "text": [
      "epoch: 3, [batch: 11340 / 12600], examples_per_second: 5049.3255, train_label_loss: 0.4761, \n"
     ]
    },
    {
     "name": "stdout",
     "output_type": "stream",
     "text": [
      "=============================================================\n",
      "epoch: 3, source_val_acc_label: 0.6994, target_val_acc_label: 0.5777, source_val_label_loss: 0.7963, target_val_label_loss: 1.2350, \n",
      "=============================================================\n"
     ]
    },
    {
     "name": "stdout",
     "output_type": "stream",
     "text": [
      "New best\n"
     ]
    },
    {
     "name": "stdout",
     "output_type": "stream",
     "text": [
      "epoch: 4, [batch: 1 / 12600], examples_per_second: 2.3847, train_label_loss: 0.6196, \n"
     ]
    },
    {
     "name": "stdout",
     "output_type": "stream",
     "text": [
      "epoch: 4, [batch: 1260 / 12600], examples_per_second: 4936.1155, train_label_loss: 0.6246, \n"
     ]
    },
    {
     "name": "stdout",
     "output_type": "stream",
     "text": [
      "epoch: 4, [batch: 2520 / 12600], examples_per_second: 4313.6322, train_label_loss: 0.7990, \n"
     ]
    },
    {
     "name": "stdout",
     "output_type": "stream",
     "text": [
      "epoch: 4, [batch: 3780 / 12600], examples_per_second: 3865.2891, train_label_loss: 0.7448, \n"
     ]
    },
    {
     "name": "stdout",
     "output_type": "stream",
     "text": [
      "epoch: 4, [batch: 5040 / 12600], examples_per_second: 3860.3820, train_label_loss: 0.7921, \n"
     ]
    },
    {
     "name": "stdout",
     "output_type": "stream",
     "text": [
      "epoch: 4, [batch: 6300 / 12600], examples_per_second: 3918.3731, train_label_loss: 0.3776, \n"
     ]
    },
    {
     "name": "stdout",
     "output_type": "stream",
     "text": [
      "epoch: 4, [batch: 7560 / 12600], examples_per_second: 3920.5717, train_label_loss: 0.5980, \n"
     ]
    },
    {
     "name": "stdout",
     "output_type": "stream",
     "text": [
      "epoch: 4, [batch: 8820 / 12600], examples_per_second: 3895.2636, train_label_loss: 0.6672, \n"
     ]
    },
    {
     "name": "stdout",
     "output_type": "stream",
     "text": [
      "epoch: 4, [batch: 10080 / 12600], examples_per_second: 4076.8707, train_label_loss: 0.8650, \n"
     ]
    },
    {
     "name": "stdout",
     "output_type": "stream",
     "text": [
      "epoch: 4, [batch: 11340 / 12600], examples_per_second: 3990.5903, train_label_loss: 0.8179, \n"
     ]
    },
    {
     "name": "stdout",
     "output_type": "stream",
     "text": [
      "=============================================================\n",
      "epoch: 4, source_val_acc_label: 0.7068, target_val_acc_label: 0.5826, source_val_label_loss: 0.7741, target_val_label_loss: 1.2184, \n",
      "=============================================================\n"
     ]
    },
    {
     "name": "stdout",
     "output_type": "stream",
     "text": [
      "New best\n"
     ]
    },
    {
     "name": "stdout",
     "output_type": "stream",
     "text": [
      "epoch: 5, [batch: 1 / 12600], examples_per_second: 1.8236, train_label_loss: 0.2126, \n"
     ]
    },
    {
     "name": "stdout",
     "output_type": "stream",
     "text": [
      "epoch: 5, [batch: 1260 / 12600], examples_per_second: 4456.0352, train_label_loss: 0.6801, \n"
     ]
    },
    {
     "name": "stdout",
     "output_type": "stream",
     "text": [
      "epoch: 5, [batch: 2520 / 12600], examples_per_second: 4055.8984, train_label_loss: 0.6487, \n"
     ]
    },
    {
     "name": "stdout",
     "output_type": "stream",
     "text": [
      "epoch: 5, [batch: 3780 / 12600], examples_per_second: 3859.8841, train_label_loss: 0.6588, \n"
     ]
    },
    {
     "name": "stdout",
     "output_type": "stream",
     "text": [
      "epoch: 5, [batch: 5040 / 12600], examples_per_second: 3897.3808, train_label_loss: 0.4108, \n"
     ]
    },
    {
     "name": "stdout",
     "output_type": "stream",
     "text": [
      "epoch: 5, [batch: 6300 / 12600], examples_per_second: 3906.8304, train_label_loss: 0.7090, \n"
     ]
    },
    {
     "name": "stdout",
     "output_type": "stream",
     "text": [
      "epoch: 5, [batch: 7560 / 12600], examples_per_second: 3847.2799, train_label_loss: 0.5423, \n"
     ]
    },
    {
     "name": "stdout",
     "output_type": "stream",
     "text": [
      "epoch: 5, [batch: 8820 / 12600], examples_per_second: 3897.1047, train_label_loss: 0.7898, \n"
     ]
    },
    {
     "name": "stdout",
     "output_type": "stream",
     "text": [
      "epoch: 5, [batch: 10080 / 12600], examples_per_second: 4025.9062, train_label_loss: 0.3032, \n"
     ]
    },
    {
     "name": "stdout",
     "output_type": "stream",
     "text": [
      "epoch: 5, [batch: 11340 / 12600], examples_per_second: 3881.0154, train_label_loss: 0.6275, \n"
     ]
    },
    {
     "name": "stdout",
     "output_type": "stream",
     "text": [
      "=============================================================\n",
      "epoch: 5, source_val_acc_label: 0.6995, target_val_acc_label: 0.5773, source_val_label_loss: 0.8001, target_val_label_loss: 1.2531, \n",
      "=============================================================\n"
     ]
    },
    {
     "name": "stdout",
     "output_type": "stream",
     "text": [
      "epoch: 6, [batch: 1 / 12600], examples_per_second: 1.8483, train_label_loss: 0.5077, \n"
     ]
    },
    {
     "name": "stdout",
     "output_type": "stream",
     "text": [
      "epoch: 6, [batch: 1260 / 12600], examples_per_second: 4826.1005, train_label_loss: 0.5783, \n"
     ]
    },
    {
     "name": "stdout",
     "output_type": "stream",
     "text": [
      "epoch: 6, [batch: 2520 / 12600], examples_per_second: 4067.9797, train_label_loss: 0.6935, \n"
     ]
    },
    {
     "name": "stdout",
     "output_type": "stream",
     "text": [
      "epoch: 6, [batch: 3780 / 12600], examples_per_second: 3905.6425, train_label_loss: 0.6060, \n"
     ]
    },
    {
     "name": "stdout",
     "output_type": "stream",
     "text": [
      "epoch: 6, [batch: 5040 / 12600], examples_per_second: 3853.8632, train_label_loss: 0.5299, \n"
     ]
    },
    {
     "name": "stdout",
     "output_type": "stream",
     "text": [
      "epoch: 6, [batch: 6300 / 12600], examples_per_second: 3837.0143, train_label_loss: 0.5342, \n"
     ]
    },
    {
     "name": "stdout",
     "output_type": "stream",
     "text": [
      "epoch: 6, [batch: 7560 / 12600], examples_per_second: 3826.7600, train_label_loss: 0.2058, \n"
     ]
    },
    {
     "name": "stdout",
     "output_type": "stream",
     "text": [
      "epoch: 6, [batch: 8820 / 12600], examples_per_second: 3811.6423, train_label_loss: 0.2930, \n"
     ]
    },
    {
     "name": "stdout",
     "output_type": "stream",
     "text": [
      "epoch: 6, [batch: 10080 / 12600], examples_per_second: 3932.4078, train_label_loss: 0.4503, \n"
     ]
    },
    {
     "name": "stdout",
     "output_type": "stream",
     "text": [
      "epoch: 6, [batch: 11340 / 12600], examples_per_second: 3996.6700, train_label_loss: 0.4421, \n"
     ]
    },
    {
     "name": "stdout",
     "output_type": "stream",
     "text": [
      "=============================================================\n",
      "epoch: 6, source_val_acc_label: 0.7117, target_val_acc_label: 0.5922, source_val_label_loss: 0.8194, target_val_label_loss: 1.3043, \n",
      "=============================================================\n"
     ]
    },
    {
     "name": "stdout",
     "output_type": "stream",
     "text": [
      "New best\n"
     ]
    },
    {
     "name": "stdout",
     "output_type": "stream",
     "text": [
      "epoch: 7, [batch: 1 / 12600], examples_per_second: 1.8544, train_label_loss: 1.0497, \n"
     ]
    },
    {
     "name": "stdout",
     "output_type": "stream",
     "text": [
      "epoch: 7, [batch: 1260 / 12600], examples_per_second: 4565.5343, train_label_loss: 0.7139, \n"
     ]
    },
    {
     "name": "stdout",
     "output_type": "stream",
     "text": [
      "epoch: 7, [batch: 2520 / 12600], examples_per_second: 3917.1740, train_label_loss: 0.5042, \n"
     ]
    },
    {
     "name": "stdout",
     "output_type": "stream",
     "text": [
      "epoch: 7, [batch: 3780 / 12600], examples_per_second: 4001.1383, train_label_loss: 0.6050, \n"
     ]
    },
    {
     "name": "stdout",
     "output_type": "stream",
     "text": [
      "epoch: 7, [batch: 5040 / 12600], examples_per_second: 3839.8704, train_label_loss: 0.4783, \n"
     ]
    },
    {
     "name": "stdout",
     "output_type": "stream",
     "text": [
      "epoch: 7, [batch: 6300 / 12600], examples_per_second: 3947.2625, train_label_loss: 0.5496, \n"
     ]
    },
    {
     "name": "stdout",
     "output_type": "stream",
     "text": [
      "epoch: 7, [batch: 7560 / 12600], examples_per_second: 3960.1439, train_label_loss: 0.4939, \n"
     ]
    },
    {
     "name": "stdout",
     "output_type": "stream",
     "text": [
      "epoch: 7, [batch: 8820 / 12600], examples_per_second: 3950.2384, train_label_loss: 0.0956, \n"
     ]
    },
    {
     "name": "stdout",
     "output_type": "stream",
     "text": [
      "epoch: 7, [batch: 10080 / 12600], examples_per_second: 3848.9250, train_label_loss: 0.5729, \n"
     ]
    },
    {
     "name": "stdout",
     "output_type": "stream",
     "text": [
      "epoch: 7, [batch: 11340 / 12600], examples_per_second: 3871.6881, train_label_loss: 0.4569, \n"
     ]
    },
    {
     "name": "stdout",
     "output_type": "stream",
     "text": [
      "=============================================================\n",
      "epoch: 7, source_val_acc_label: 0.7098, target_val_acc_label: 0.5913, source_val_label_loss: 0.8285, target_val_label_loss: 1.2922, \n",
      "=============================================================\n"
     ]
    },
    {
     "name": "stdout",
     "output_type": "stream",
     "text": [
      "epoch: 8, [batch: 1 / 12600], examples_per_second: 1.8585, train_label_loss: 0.3708, \n"
     ]
    },
    {
     "name": "stdout",
     "output_type": "stream",
     "text": [
      "epoch: 8, [batch: 1260 / 12600], examples_per_second: 4598.5542, train_label_loss: 0.4615, \n"
     ]
    },
    {
     "name": "stdout",
     "output_type": "stream",
     "text": [
      "epoch: 8, [batch: 2520 / 12600], examples_per_second: 3842.7274, train_label_loss: 0.3021, \n"
     ]
    },
    {
     "name": "stdout",
     "output_type": "stream",
     "text": [
      "epoch: 8, [batch: 3780 / 12600], examples_per_second: 3961.3402, train_label_loss: 0.4675, \n"
     ]
    },
    {
     "name": "stdout",
     "output_type": "stream",
     "text": [
      "epoch: 8, [batch: 5040 / 12600], examples_per_second: 3931.4908, train_label_loss: 0.3431, \n"
     ]
    },
    {
     "name": "stdout",
     "output_type": "stream",
     "text": [
      "epoch: 8, [batch: 6300 / 12600], examples_per_second: 3908.6174, train_label_loss: 0.5122, \n"
     ]
    },
    {
     "name": "stdout",
     "output_type": "stream",
     "text": [
      "epoch: 8, [batch: 7560 / 12600], examples_per_second: 3912.6722, train_label_loss: 0.5343, \n"
     ]
    },
    {
     "name": "stdout",
     "output_type": "stream",
     "text": [
      "epoch: 8, [batch: 8820 / 12600], examples_per_second: 3980.0137, train_label_loss: 0.4179, \n"
     ]
    },
    {
     "name": "stdout",
     "output_type": "stream",
     "text": [
      "epoch: 8, [batch: 10080 / 12600], examples_per_second: 3997.4596, train_label_loss: 0.5102, \n"
     ]
    },
    {
     "name": "stdout",
     "output_type": "stream",
     "text": [
      "epoch: 8, [batch: 11340 / 12600], examples_per_second: 3876.5055, train_label_loss: 0.3117, \n"
     ]
    },
    {
     "name": "stdout",
     "output_type": "stream",
     "text": [
      "=============================================================\n",
      "epoch: 8, source_val_acc_label: 0.7070, target_val_acc_label: 0.5861, source_val_label_loss: 0.8485, target_val_label_loss: 1.3454, \n",
      "=============================================================\n"
     ]
    },
    {
     "name": "stdout",
     "output_type": "stream",
     "text": [
      "epoch: 9, [batch: 1 / 12600], examples_per_second: 1.8547, train_label_loss: 0.3547, \n"
     ]
    },
    {
     "name": "stdout",
     "output_type": "stream",
     "text": [
      "epoch: 9, [batch: 1260 / 12600], examples_per_second: 4765.3584, train_label_loss: 0.6015, \n"
     ]
    },
    {
     "name": "stdout",
     "output_type": "stream",
     "text": [
      "epoch: 9, [batch: 2520 / 12600], examples_per_second: 3994.3879, train_label_loss: 0.3449, \n"
     ]
    },
    {
     "name": "stdout",
     "output_type": "stream",
     "text": [
      "epoch: 9, [batch: 3780 / 12600], examples_per_second: 4036.3557, train_label_loss: 0.2849, \n"
     ]
    },
    {
     "name": "stdout",
     "output_type": "stream",
     "text": [
      "epoch: 9, [batch: 5040 / 12600], examples_per_second: 3850.5339, train_label_loss: 0.4310, \n"
     ]
    },
    {
     "name": "stdout",
     "output_type": "stream",
     "text": [
      "epoch: 9, [batch: 6300 / 12600], examples_per_second: 3890.2290, train_label_loss: 0.3387, \n"
     ]
    },
    {
     "name": "stdout",
     "output_type": "stream",
     "text": [
      "epoch: 9, [batch: 7560 / 12600], examples_per_second: 3909.5633, train_label_loss: 0.2941, \n"
     ]
    },
    {
     "name": "stdout",
     "output_type": "stream",
     "text": [
      "epoch: 9, [batch: 8820 / 12600], examples_per_second: 3908.0514, train_label_loss: 0.2068, \n"
     ]
    },
    {
     "name": "stdout",
     "output_type": "stream",
     "text": [
      "epoch: 9, [batch: 10080 / 12600], examples_per_second: 3869.6161, train_label_loss: 0.2577, \n"
     ]
    },
    {
     "name": "stdout",
     "output_type": "stream",
     "text": [
      "epoch: 9, [batch: 11340 / 12600], examples_per_second: 3873.4363, train_label_loss: 0.4446, \n"
     ]
    },
    {
     "name": "stdout",
     "output_type": "stream",
     "text": [
      "=============================================================\n",
      "epoch: 9, source_val_acc_label: 0.7084, target_val_acc_label: 0.5865, source_val_label_loss: 0.8750, target_val_label_loss: 1.3980, \n",
      "=============================================================\n"
     ]
    },
    {
     "name": "stdout",
     "output_type": "stream",
     "text": [
      "epoch: 10, [batch: 1 / 12600], examples_per_second: 1.8758, train_label_loss: 0.2611, \n"
     ]
    },
    {
     "name": "stdout",
     "output_type": "stream",
     "text": [
      "epoch: 10, [batch: 1260 / 12600], examples_per_second: 4495.9218, train_label_loss: 0.3001, \n"
     ]
    },
    {
     "name": "stdout",
     "output_type": "stream",
     "text": [
      "epoch: 10, [batch: 2520 / 12600], examples_per_second: 3928.8330, train_label_loss: 0.1311, \n"
     ]
    },
    {
     "name": "stdout",
     "output_type": "stream",
     "text": [
      "epoch: 10, [batch: 3780 / 12600], examples_per_second: 3947.8669, train_label_loss: 0.0716, \n"
     ]
    },
    {
     "name": "stdout",
     "output_type": "stream",
     "text": [
      "epoch: 10, [batch: 5040 / 12600], examples_per_second: 3926.5874, train_label_loss: 0.1399, \n"
     ]
    },
    {
     "name": "stdout",
     "output_type": "stream",
     "text": [
      "epoch: 10, [batch: 6300 / 12600], examples_per_second: 3882.5742, train_label_loss: 0.1665, \n"
     ]
    },
    {
     "name": "stdout",
     "output_type": "stream",
     "text": [
      "epoch: 10, [batch: 7560 / 12600], examples_per_second: 3860.2294, train_label_loss: 0.3557, \n"
     ]
    },
    {
     "name": "stdout",
     "output_type": "stream",
     "text": [
      "epoch: 10, [batch: 8820 / 12600], examples_per_second: 3824.0917, train_label_loss: 0.2738, \n"
     ]
    },
    {
     "name": "stdout",
     "output_type": "stream",
     "text": [
      "epoch: 10, [batch: 10080 / 12600], examples_per_second: 3867.2223, train_label_loss: 0.4966, \n"
     ]
    },
    {
     "name": "stdout",
     "output_type": "stream",
     "text": [
      "epoch: 10, [batch: 11340 / 12600], examples_per_second: 3986.8279, train_label_loss: 0.1543, \n"
     ]
    },
    {
     "name": "stdout",
     "output_type": "stream",
     "text": [
      "=============================================================\n",
      "epoch: 10, source_val_acc_label: 0.7073, target_val_acc_label: 0.5845, source_val_label_loss: 0.9055, target_val_label_loss: 1.4408, \n",
      "=============================================================\n"
     ]
    },
    {
     "name": "stdout",
     "output_type": "stream",
     "text": [
      "Patience (3) exhausted\n"
     ]
    }
   ],
   "source": [
    "###################################\n",
    "# train\n",
    "###################################\n",
    "jig = PTN_Train_Eval_Test_Jig(model, p.BEST_MODEL_PATH, p.device)\n",
    "\n",
    "jig.train(\n",
    "    train_iterable=datasets.source.processed.train,\n",
    "    source_val_iterable=datasets.source.processed.val,\n",
    "    target_val_iterable=datasets.target.processed.val,\n",
    "    num_epochs=p.n_epoch,\n",
    "    num_logs_per_epoch=p.NUM_LOGS_PER_EPOCH,\n",
    "    patience=p.patience,\n",
    "    optimizer=optimizer,\n",
    "    criteria_for_best=p.criteria_for_best,\n",
    ")"
   ]
  },
  {
   "cell_type": "code",
   "execution_count": 14,
   "id": "31e8fabf",
   "metadata": {
    "execution": {
     "iopub.execute_input": "2022-03-26T17:36:11.130079Z",
     "iopub.status.busy": "2022-03-26T17:36:11.129453Z",
     "iopub.status.idle": "2022-03-26T17:36:11.164213Z",
     "shell.execute_reply": "2022-03-26T17:36:11.163893Z"
    },
    "papermill": {
     "duration": 0.086191,
     "end_time": "2022-03-26T17:36:11.164283",
     "exception": false,
     "start_time": "2022-03-26T17:36:11.078092",
     "status": "completed"
    },
    "tags": []
   },
   "outputs": [],
   "source": [
    "total_experiment_time_secs = time.time() - start_time_secs"
   ]
  },
  {
   "cell_type": "code",
   "execution_count": 15,
   "id": "87b9595b",
   "metadata": {
    "execution": {
     "iopub.execute_input": "2022-03-26T17:36:11.263166Z",
     "iopub.status.busy": "2022-03-26T17:36:11.262764Z",
     "iopub.status.idle": "2022-03-26T17:43:04.789327Z",
     "shell.execute_reply": "2022-03-26T17:43:04.788535Z"
    },
    "papermill": {
     "duration": 413.578901,
     "end_time": "2022-03-26T17:43:04.789522",
     "exception": false,
     "start_time": "2022-03-26T17:36:11.210621",
     "status": "completed"
    },
    "tags": []
   },
   "outputs": [],
   "source": [
    "###################################\n",
    "# Evaluate the model\n",
    "###################################\n",
    "source_test_label_accuracy, source_test_label_loss = jig.test(datasets.source.processed.test)\n",
    "target_test_label_accuracy, target_test_label_loss = jig.test(datasets.target.processed.test)\n",
    "\n",
    "source_val_label_accuracy, source_val_label_loss = jig.test(datasets.source.processed.val)\n",
    "target_val_label_accuracy, target_val_label_loss = jig.test(datasets.target.processed.val)\n",
    "\n",
    "history = jig.get_history()\n",
    "\n",
    "total_epochs_trained = len(history[\"epoch_indices\"])\n",
    "\n",
    "val_dl = Iterable_Aggregator((datasets.source.original.val,datasets.target.original.val))\n",
    "\n",
    "confusion = ptn_confusion_by_domain_over_dataloader(model, p.device, val_dl)\n",
    "per_domain_accuracy = per_domain_accuracy_from_confusion(confusion)\n",
    "\n",
    "# Add a key to per_domain_accuracy for if it was a source domain\n",
    "for domain, accuracy in per_domain_accuracy.items():\n",
    "    per_domain_accuracy[domain] = {\n",
    "        \"accuracy\": accuracy,\n",
    "        \"source?\": domain in p.domains_source\n",
    "    }\n",
    "\n",
    "# Do an independent accuracy assesment JUST TO BE SURE!\n",
    "# _source_test_label_accuracy = independent_accuracy_assesment(model, datasets.source.processed.test, p.device)\n",
    "# _target_test_label_accuracy = independent_accuracy_assesment(model, datasets.target.processed.test, p.device)\n",
    "# _source_val_label_accuracy = independent_accuracy_assesment(model, datasets.source.processed.val, p.device)\n",
    "# _target_val_label_accuracy = independent_accuracy_assesment(model, datasets.target.processed.val, p.device)\n",
    "\n",
    "# assert(_source_test_label_accuracy == source_test_label_accuracy)\n",
    "# assert(_target_test_label_accuracy == target_test_label_accuracy)\n",
    "# assert(_source_val_label_accuracy == source_val_label_accuracy)\n",
    "# assert(_target_val_label_accuracy == target_val_label_accuracy)\n",
    "\n",
    "experiment = {\n",
    "    \"experiment_name\": p.experiment_name,\n",
    "    \"parameters\": dict(p),\n",
    "    \"results\": {\n",
    "        \"source_test_label_accuracy\": source_test_label_accuracy,\n",
    "        \"source_test_label_loss\": source_test_label_loss,\n",
    "        \"target_test_label_accuracy\": target_test_label_accuracy,\n",
    "        \"target_test_label_loss\": target_test_label_loss,\n",
    "        \"source_val_label_accuracy\": source_val_label_accuracy,\n",
    "        \"source_val_label_loss\": source_val_label_loss,\n",
    "        \"target_val_label_accuracy\": target_val_label_accuracy,\n",
    "        \"target_val_label_loss\": target_val_label_loss,\n",
    "        \"total_epochs_trained\": total_epochs_trained,\n",
    "        \"total_experiment_time_secs\": total_experiment_time_secs,\n",
    "        \"confusion\": confusion,\n",
    "        \"per_domain_accuracy\": per_domain_accuracy,\n",
    "    },\n",
    "    \"history\": history,\n",
    "    \"dataset_metrics\": get_dataset_metrics(datasets, \"ptn\"),\n",
    "}"
   ]
  },
  {
   "cell_type": "code",
   "execution_count": 16,
   "id": "54a21829",
   "metadata": {
    "execution": {
     "iopub.execute_input": "2022-03-26T17:43:04.894520Z",
     "iopub.status.busy": "2022-03-26T17:43:04.894150Z",
     "iopub.status.idle": "2022-03-26T17:43:05.132145Z",
     "shell.execute_reply": "2022-03-26T17:43:05.131379Z"
    },
    "papermill": {
     "duration": 0.288878,
     "end_time": "2022-03-26T17:43:05.132303",
     "exception": false,
     "start_time": "2022-03-26T17:43:04.843425",
     "status": "completed"
    },
    "tags": []
   },
   "outputs": [
    {
     "data": {
      "image/png": "[encoded data removed]",
      "text/plain": [
       "<Figure size 1080x504 with 1 Axes>"
      ]
     },
     "metadata": {
      "needs_background": "light"
     },
     "output_type": "display_data"
    }
   ],
   "source": [
    "ax = get_loss_curve(experiment)\n",
    "plt.show()"
   ]
  },
  {
   "cell_type": "code",
   "execution_count": 17,
   "id": "fd8a0f60",
   "metadata": {
    "execution": {
     "iopub.execute_input": "2022-03-26T17:43:05.239725Z",
     "iopub.status.busy": "2022-03-26T17:43:05.239338Z",
     "iopub.status.idle": "2022-03-26T17:43:05.564567Z",
     "shell.execute_reply": "2022-03-26T17:43:05.564215Z"
    },
    "papermill": {
     "duration": 0.37676,
     "end_time": "2022-03-26T17:43:05.564640",
     "exception": false,
     "start_time": "2022-03-26T17:43:05.187880",
     "status": "completed"
    },
    "tags": []
   },
   "outputs": [
    {
     "data": {
      "text/plain": [
       "<AxesSubplot:title={'center':'Results'}>"
      ]
     },
     "execution_count": 17,
     "metadata": {},
     "output_type": "execute_result"
    },
    {
     "data": {
      "image/png": "[encoded data removed]",
      "text/plain": [
       "<Figure size 1080x504 with 1 Axes>"
      ]
     },
     "metadata": {
      "needs_background": "light"
     },
     "output_type": "display_data"
    }
   ],
   "source": [
    "get_results_table(experiment)"
   ]
  },
  {
   "cell_type": "code",
   "execution_count": 18,
   "id": "cf8dc689",
   "metadata": {
    "execution": {
     "iopub.execute_input": "2022-03-26T17:43:05.666149Z",
     "iopub.status.busy": "2022-03-26T17:43:05.665782Z",
     "iopub.status.idle": "2022-03-26T17:43:05.875505Z",
     "shell.execute_reply": "2022-03-26T17:43:05.874679Z"
    },
    "papermill": {
     "duration": 0.261693,
     "end_time": "2022-03-26T17:43:05.875672",
     "exception": false,
     "start_time": "2022-03-26T17:43:05.613979",
     "status": "completed"
    },
    "tags": []
   },
   "outputs": [
    {
     "data": {
      "text/plain": [
       "<AxesSubplot:title={'center':'Per Domain Validation Accuracy'}, xlabel='domain'>"
      ]
     },
     "execution_count": 18,
     "metadata": {},
     "output_type": "execute_result"
    },
    {
     "data": {
      "image/png": "[encoded data removed]",
      "text/plain": [
       "<Figure size 1080x504 with 1 Axes>"
      ]
     },
     "metadata": {
      "needs_background": "light"
     },
     "output_type": "display_data"
    }
   ],
   "source": [
    "get_domain_accuracies(experiment)"
   ]
  },
  {
   "cell_type": "code",
   "execution_count": 19,
   "id": "a74ae082",
   "metadata": {
    "execution": {
     "iopub.execute_input": "2022-03-26T17:43:05.982788Z",
     "iopub.status.busy": "2022-03-26T17:43:05.982212Z",
     "iopub.status.idle": "2022-03-26T17:43:06.009195Z",
     "shell.execute_reply": "2022-03-26T17:43:06.008382Z"
    },
    "papermill": {
     "duration": 0.080177,
     "end_time": "2022-03-26T17:43:06.009346",
     "exception": false,
     "start_time": "2022-03-26T17:43:05.929169",
     "status": "completed"
    },
    "tags": []
   },
   "outputs": [
    {
     "name": "stdout",
     "output_type": "stream",
     "text": [
      "Source Test Label Accuracy: 0.7085243055555556 Target Test Label Accuracy: 0.5891354166666667\n",
      "Source Val Label Accuracy: 0.7116666666666667 Target Val Label Accuracy: 0.59221875\n"
     ]
    }
   ],
   "source": [
    "print(\"Source Test Label Accuracy:\", experiment[\"results\"][\"source_test_label_accuracy\"], \"Target Test Label Accuracy:\", experiment[\"results\"][\"target_test_label_accuracy\"])\n",
    "print(\"Source Val Label Accuracy:\", experiment[\"results\"][\"source_val_label_accuracy\"], \"Target Val Label Accuracy:\", experiment[\"results\"][\"target_val_label_accuracy\"])"
   ]
  },
  {
   "cell_type": "code",
   "execution_count": 20,
   "id": "dacca602",
   "metadata": {
    "execution": {
     "iopub.execute_input": "2022-03-26T17:43:06.117504Z",
     "iopub.status.busy": "2022-03-26T17:43:06.117143Z",
     "iopub.status.idle": "2022-03-26T17:43:06.141187Z",
     "shell.execute_reply": "2022-03-26T17:43:06.141853Z"
    },
    "papermill": {
     "duration": 0.0778,
     "end_time": "2022-03-26T17:43:06.142030",
     "exception": false,
     "start_time": "2022-03-26T17:43:06.064230",
     "status": "completed"
    },
    "tags": [
     "experiment_json"
    ]
   },
   "outputs": [
    {
     "data": {
      "text/plain": [
       "'{\"experiment_name\": \"tuned_1v2:oracle.run2_limited\", \"parameters\": {\"experiment_name\": \"tuned_1v2:oracle.run2_limited\", \"device\": \"cuda\", \"lr\": 0.0001, \"labels_source\": [\"3123D52\", \"3123D65\", \"3123D79\", \"3123D80\", \"3123D54\", \"3123D70\", \"3123D7B\", \"3123D89\", \"3123D58\", \"3123D76\", \"3123D7D\", \"3123EFE\", \"3123D64\", \"3123D78\", \"3123D7E\", \"3124E4A\"], \"labels_target\": [\"3123D52\", \"3123D65\", \"3123D79\", \"3123D80\", \"3123D54\", \"3123D70\", \"3123D7B\", \"3123D89\", \"3123D58\", \"3123D76\", \"3123D7D\", \"3123EFE\", \"3123D64\", \"3123D78\", \"3123D7E\", \"3124E4A\"], \"episode_transforms_source\": [], \"episode_transforms_target\": [], \"domains_source\": [8, 32, 50], \"domains_target\": [14, 20, 26, 38, 44], \"num_examples_per_domain_per_label_source\": -1, \"num_examples_per_domain_per_label_target\": -1, \"n_shot\": 3, \"n_way\": 16, \"n_query\": 2, \"train_k_factor\": 3, \"val_k_factor\": 2, \"test_k_factor\": 2, \"torch_default_dtype\": \"torch.float32\", \"n_epoch\": 50, \"patience\": 3, \"criteria_for_best\": \"target_accuracy\", \"x_net\": [{\"class\": \"nnReshape\", \"kargs\": {\"shape\": [-1, 1, 2, 256]}}, {\"class\": \"Conv2d\", \"kargs\": {\"in_channels\": 1, \"out_channels\": 256, \"kernel_size\": [1, 7], \"bias\": false, \"padding\": [0, 3]}}, {\"class\": \"ReLU\", \"kargs\": {\"inplace\": true}}, {\"class\": \"BatchNorm2d\", \"kargs\": {\"num_features\": 256}}, {\"class\": \"Conv2d\", \"kargs\": {\"in_channels\": 256, \"out_channels\": 80, \"kernel_size\": [2, 7], \"bias\": true, \"padding\": [0, 3]}}, {\"class\": \"ReLU\", \"kargs\": {\"inplace\": true}}, {\"class\": \"BatchNorm2d\", \"kargs\": {\"num_features\": 80}}, {\"class\": \"Flatten\", \"kargs\": {}}, {\"class\": \"Linear\", \"kargs\": {\"in_features\": 20480, \"out_features\": 256}}, {\"class\": \"ReLU\", \"kargs\": {\"inplace\": true}}, {\"class\": \"BatchNorm1d\", \"kargs\": {\"num_features\": 256}}, {\"class\": \"Linear\", \"kargs\": {\"in_features\": 256, \"out_features\": 256}}], \"NUM_LOGS_PER_EPOCH\": 10, \"BEST_MODEL_PATH\": \"./best_model.pth\", \"pickle_name\": \"oracle.Run2_10kExamples_stratified_ds.2022A.pkl\", \"x_transforms_source\": [\"unit_mag\"], \"x_transforms_target\": [\"unit_mag\"], \"dataset_seed\": 7, \"seed\": 7}, \"results\": {\"source_test_label_accuracy\": 0.7085243055555556, \"source_test_label_loss\": 0.82948899269104, \"target_test_label_accuracy\": 0.5891354166666667, \"target_test_label_loss\": 1.2907605171203613, \"source_val_label_accuracy\": 0.7116666666666667, \"source_val_label_loss\": 0.8193883895874023, \"target_val_label_accuracy\": 0.59221875, \"target_val_label_loss\": 1.3042573928833008, \"total_epochs_trained\": 10, \"total_experiment_time_secs\": 3146.1662361621857, \"confusion\": {\"50\": {\"0\": {\"0\": 1078, \"2\": 76, \"10\": 32, \"6\": 5, \"1\": 3, \"5\": 5, \"4\": 1}, \"4\": {\"4\": 565, \"5\": 293, \"1\": 53, \"6\": 270, \"0\": 2, \"13\": 2, \"7\": 11, \"10\": 4}, \"14\": {\"14\": 1155, \"12\": 25, \"11\": 20}, \"12\": {\"12\": 1071, \"14\": 51, \"9\": 74, \"11\": 4}, \"8\": {\"8\": 1173, \"3\": 27}, \"7\": {\"13\": 486, \"10\": 113, \"7\": 486, \"5\": 102, \"4\": 13}, \"13\": {\"5\": 37, \"13\": 546, \"7\": 456, \"10\": 159, \"4\": 2}, \"5\": {\"5\": 576, \"4\": 333, \"10\": 65, \"6\": 74, \"13\": 52, \"7\": 90, \"0\": 7, \"1\": 3}, \"15\": {\"15\": 1046, \"11\": 47, \"1\": 92, \"6\": 13, \"14\": 1, \"4\": 1}, \"10\": {\"10\": 857, \"13\": 137, \"7\": 95, \"5\": 71, \"0\": 30, \"4\": 10}, \"3\": {\"3\": 1159, \"8\": 41}, \"9\": {\"12\": 84, \"9\": 1097, \"11\": 19}, \"6\": {\"6\": 603, \"1\": 321, \"5\": 42, \"4\": 222, \"15\": 7, \"0\": 4, \"10\": 1}, \"1\": {\"1\": 843, \"4\": 17, \"15\": 80, \"6\": 256, \"14\": 2, \"5\": 1, \"2\": 1}, \"11\": {\"15\": 31, \"11\": 1099, \"9\": 24, \"14\": 34, \"12\": 12}, \"2\": {\"2\": 1120, \"0\": 80}}, \"8\": {\"1\": {\"1\": 1025, \"5\": 36, \"13\": 124, \"10\": 15}, \"11\": {\"8\": 260, \"11\": 586, \"15\": 221, \"12\": 130, \"6\": 3}, \"3\": {\"3\": 1029, \"12\": 159, \"11\": 1, \"15\": 10, \"2\": 1}, \"6\": {\"6\": 573, \"7\": 201, \"4\": 341, \"8\": 7, \"2\": 16, \"14\": 58, \"0\": 3, \"13\": 1}, \"7\": {\"7\": 517, \"2\": 157, \"4\": 280, \"6\": 223, \"8\": 16, \"15\": 6, \"14\": 1}, \"5\": {\"5\": 956, \"10\": 190, \"13\": 6, \"1\": 43, \"0\": 5}, \"2\": {\"2\": 933, \"7\": 167, \"4\": 85, \"6\": 14, \"15\": 1}, \"15\": {\"12\": 230, \"15\": 636, \"8\": 118, \"3\": 21, \"11\": 175, \"7\": 15, \"2\": 3, \"4\": 2}, \"10\": {\"10\": 711, \"5\": 139, \"0\": 208, \"13\": 79, \"14\": 37, \"1\": 26}, \"13\": {\"13\": 767, \"1\": 134, \"14\": 185, \"10\": 76, \"6\": 15, \"0\": 22, \"4\": 1}, \"8\": {\"8\": 921, \"15\": 110, \"6\": 21, \"13\": 5, \"11\": 122, \"4\": 5, \"7\": 14, \"12\": 1, \"14\": 1}, \"4\": {\"7\": 288, \"4\": 448, \"2\": 81, \"6\": 353, \"14\": 22, \"13\": 2, \"8\": 2, \"15\": 1, \"0\": 3}, \"9\": {\"9\": 1200}, \"14\": {\"13\": 167, \"14\": 690, \"0\": 230, \"6\": 59, \"4\": 21, \"10\": 32, \"7\": 1}, \"0\": {\"0\": 721, \"10\": 189, \"14\": 240, \"13\": 29, \"6\": 12, \"4\": 4, \"7\": 2, \"5\": 3}, \"12\": {\"3\": 155, \"12\": 889, \"15\": 124, \"11\": 31, \"8\": 1}}, \"32\": {\"15\": {\"15\": 1191, \"8\": 9}, \"11\": {\"11\": 459, \"0\": 127, \"7\": 313, \"13\": 120, \"5\": 11, \"4\": 101, \"2\": 63, \"14\": 2, \"8\": 3, \"3\": 1}, \"10\": {\"10\": 1195, \"1\": 5}, \"14\": {\"14\": 989, \"2\": 148, \"5\": 36, \"0\": 22, \"4\": 3, \"11\": 2}, \"6\": {\"6\": 1200}, \"4\": {\"5\": 164, \"0\": 203, \"8\": 64, \"4\": 370, \"11\": 116, \"13\": 202, \"7\": 63, \"3\": 3, \"2\": 15}, \"13\": {\"13\": 539, \"8\": 75, \"5\": 29, \"7\": 172, \"4\": 190, \"0\": 69, \"3\": 33, \"11\": 92, \"2\": 1}, \"3\": {\"3\": 1139, \"13\": 39, \"8\": 20, \"11\": 1, \"7\": 1}, \"7\": {\"7\": 629, \"0\": 27, \"11\": 324, \"3\": 5, \"13\": 132, \"4\": 65, \"2\": 13, \"5\": 4, \"8\": 1}, \"8\": {\"8\": 873, \"13\": 93, \"5\": 88, \"4\": 60, \"0\": 53, \"3\": 20, \"11\": 5, \"15\": 7, \"7\": 1}, \"1\": {\"1\": 1193, \"10\": 7}, \"5\": {\"4\": 105, \"0\": 192, \"8\": 142, \"5\": 434, \"2\": 119, \"11\": 25, \"14\": 101, \"3\": 8, \"13\": 61, \"7\": 13}, \"0\": {\"0\": 479, \"11\": 150, \"2\": 63, \"7\": 17, \"4\": 174, \"5\": 199, \"13\": 68, \"8\": 43, \"14\": 7}, \"2\": {\"2\": 854, \"11\": 37, \"5\": 60, \"14\": 154, \"0\": 58, \"4\": 30, \"7\": 7}, \"12\": {\"12\": 1200}, \"9\": {\"9\": 1172, \"14\": 27, \"2\": 1}}, \"26\": {\"0\": {\"1\": 205, \"4\": 162, \"10\": 131, \"14\": 258, \"6\": 7, \"8\": 91, \"0\": 311, \"7\": 9, \"2\": 15, \"9\": 9, \"15\": 1, \"3\": 1}, \"4\": {\"4\": 558, \"7\": 95, \"14\": 55, \"8\": 88, \"0\": 130, \"15\": 62, \"3\": 68, \"2\": 107, \"10\": 20, \"1\": 12, \"9\": 4, \"5\": 1}, \"14\": {\"1\": 274, \"8\": 123, \"0\": 230, \"10\": 182, \"7\": 12, \"14\": 273, \"4\": 61, \"6\": 21, \"2\": 8, \"9\": 15, \"5\": 1}, \"12\": {\"12\": 1194, \"11\": 6}, \"8\": {\"2\": 73, \"8\": 406, \"0\": 83, \"10\": 80, \"14\": 95, \"7\": 104, \"6\": 37, \"9\": 169, \"4\": 66, \"5\": 49, \"13\": 6, \"1\": 27, \"15\": 4, \"3\": 1}, \"7\": {\"9\": 62, \"2\": 308, \"7\": 316, \"4\": 110, \"15\": 115, \"3\": 89, \"8\": 103, \"5\": 70, \"13\": 10, \"0\": 10, \"14\": 4, \"10\": 3}, \"13\": {\"6\": 73, \"13\": 708, \"9\": 133, \"5\": 257, \"8\": 11, \"2\": 5, \"7\": 13}, \"5\": {\"5\": 320, \"6\": 179, \"8\": 38, \"13\": 281, \"9\": 154, \"7\": 112, \"2\": 60, \"15\": 25, \"10\": 2, \"14\": 2, \"3\": 22, \"4\": 4, \"1\": 1}, \"15\": {\"3\": 426, \"15\": 413, \"7\": 109, \"8\": 10, \"2\": 164, \"4\": 67, \"9\": 5, \"5\": 3, \"0\": 2, \"14\": 1}, \"10\": {\"4\": 64, \"8\": 104, \"1\": 198, \"6\": 121, \"10\": 327, \"0\": 163, \"14\": 174, \"9\": 10, \"2\": 17, \"7\": 10, \"15\": 3, \"12\": 6, \"3\": 3}, \"3\": {\"3\": 523, \"15\": 386, \"2\": 139, \"7\": 84, \"4\": 58, \"5\": 6, \"8\": 3, \"9\": 1}, \"9\": {\"6\": 122, \"13\": 127, \"8\": 187, \"5\": 198, \"2\": 43, \"9\": 398, \"10\": 25, \"14\": 11, \"7\": 61, \"0\": 15, \"15\": 4, \"4\": 6, \"3\": 3}, \"6\": {\"6\": 787, \"13\": 71, \"5\": 67, \"9\": 117, \"10\": 86, \"8\": 42, \"14\": 17, \"1\": 9, \"0\": 4}, \"1\": {\"10\": 172, \"1\": 549, \"14\": 261, \"0\": 167, \"4\": 17, \"8\": 21, \"6\": 8, \"5\": 2, \"7\": 1, \"2\": 1, \"9\": 1}, \"11\": {\"11\": 1191, \"12\": 9}, \"2\": {\"9\": 28, \"15\": 138, \"8\": 86, \"7\": 294, \"2\": 322, \"4\": 116, \"3\": 135, \"0\": 17, \"5\": 45, \"14\": 9, \"10\": 5, \"13\": 4, \"6\": 1}}, \"44\": {\"1\": {\"1\": 711, \"3\": 164, \"12\": 313, \"7\": 5, \"10\": 4, \"2\": 3}, \"11\": {\"11\": 1057, \"6\": 133, \"9\": 2, \"7\": 7, \"2\": 1}, \"3\": {\"1\": 155, \"3\": 985, \"12\": 59, \"7\": 1}, \"6\": {\"6\": 1036, \"13\": 14, \"2\": 8, \"9\": 53, \"11\": 67, \"7\": 22}, \"7\": {\"9\": 310, \"7\": 578, \"2\": 289, \"3\": 4, \"6\": 12, \"1\": 7}, \"5\": {\"5\": 1070, \"14\": 106, \"8\": 17, \"0\": 5, \"15\": 2}, \"2\": {\"2\": 636, \"9\": 328, \"7\": 220, \"3\": 5, \"1\": 7, \"6\": 4}, \"15\": {\"15\": 1016, \"4\": 48, \"14\": 123, \"8\": 9, \"0\": 2, \"5\": 2}, \"10\": {\"10\": 1116, \"12\": 52, \"1\": 31, \"7\": 1}, \"13\": {\"13\": 1109, \"6\": 29, \"4\": 56, \"14\": 4, \"9\": 2}, \"8\": {\"0\": 515, \"5\": 16, \"8\": 655, \"15\": 9, \"14\": 5}, \"4\": {\"4\": 1046, \"13\": 33, \"14\": 65, \"15\": 55, \"9\": 1}, \"9\": {\"9\": 503, \"7\": 270, \"2\": 395, \"6\": 28, \"3\": 2, \"1\": 1, \"11\": 1}, \"14\": {\"4\": 88, \"14\": 843, \"5\": 116, \"15\": 148, \"13\": 2, \"8\": 2, \"0\": 1}, \"0\": {\"0\": 684, \"8\": 509, \"5\": 6, \"15\": 1}, \"12\": {\"12\": 785, \"1\": 330, \"3\": 79, \"10\": 6}}, \"20\": {\"15\": {\"1\": 126, \"9\": 124, \"2\": 124, \"13\": 282, \"15\": 311, \"12\": 98, \"5\": 69, \"0\": 40, \"3\": 23, \"4\": 1, \"7\": 2}, \"4\": {\"2\": 3, \"4\": 928, \"5\": 31, \"12\": 58, \"0\": 85, \"8\": 36, \"1\": 8, \"14\": 3, \"9\": 7, \"3\": 19, \"10\": 19, \"7\": 3}, \"6\": {\"6\": 1024, \"7\": 37, \"14\": 88, \"10\": 26, \"8\": 25}, \"2\": {\"3\": 199, \"9\": 229, \"1\": 12, \"15\": 111, \"13\": 81, \"2\": 326, \"5\": 144, \"0\": 12, \"12\": 56, \"7\": 26, \"8\": 2, \"4\": 1, \"10\": 1}, \"5\": {\"9\": 137, \"7\": 49, \"5\": 249, \"3\": 244, \"10\": 4, \"12\": 101, \"2\": 174, \"1\": 45, \"4\": 53, \"15\": 57, \"0\": 61, \"13\": 10, \"8\": 16}, \"9\": {\"13\": 68, \"15\": 143, \"2\": 248, \"9\": 242, \"12\": 108, \"5\": 159, \"4\": 14, \"3\": 135, \"1\": 35, \"7\": 14, \"0\": 32, \"8\": 2}, \"8\": {\"10\": 231, \"8\": 510, \"6\": 39, \"14\": 122, \"7\": 175, \"4\": 63, \"3\": 39, \"5\": 17, \"12\": 2, \"2\": 2}, \"12\": {\"9\": 106, \"5\": 127, \"12\": 299, \"2\": 48, \"0\": 204, \"3\": 25, \"1\": 212, \"15\": 100, \"4\": 59, \"13\": 18, \"10\": 1, \"8\": 1}, \"10\": {\"8\": 266, \"14\": 264, \"10\": 536, \"7\": 53, \"4\": 33, \"6\": 31, \"5\": 3, \"3\": 11, \"9\": 1, \"2\": 2}, \"1\": {\"1\": 528, \"0\": 239, \"4\": 14, \"3\": 2, \"15\": 125, \"13\": 23, \"12\": 201, \"2\": 14, \"5\": 21, \"9\": 33}, \"0\": {\"5\": 65, \"1\": 207, \"12\": 232, \"4\": 114, \"15\": 44, \"0\": 482, \"3\": 8, \"2\": 15, \"9\": 27, \"13\": 6}, \"3\": {\"9\": 126, \"5\": 178, \"8\": 41, \"3\": 346, \"7\": 209, \"2\": 168, \"4\": 29, \"15\": 25, \"11\": 1, \"12\": 48, \"13\": 6, \"10\": 11, \"0\": 6, \"1\": 6}, \"13\": {\"13\": 734, \"15\": 255, \"5\": 14, \"2\": 79, \"9\": 60, \"1\": 25, \"12\": 18, \"0\": 5, \"3\": 10}, \"11\": {\"11\": 1196, \"7\": 2, \"5\": 2}, \"7\": {\"7\": 835, \"2\": 32, \"8\": 106, \"3\": 127, \"10\": 29, \"5\": 25, \"6\": 31, \"9\": 5, \"14\": 7, \"15\": 1, \"13\": 2}, \"14\": {\"10\": 250, \"14\": 631, \"8\": 175, \"6\": 128, \"4\": 13, \"7\": 3}}, \"38\": {\"15\": {\"15\": 387, \"13\": 256, \"8\": 206, \"3\": 90, \"10\": 7, \"6\": 12, \"5\": 121, \"1\": 106, \"0\": 7, \"7\": 6, \"9\": 2}, \"11\": {\"11\": 978, \"2\": 12, \"12\": 110, \"14\": 100}, \"10\": {\"10\": 588, \"7\": 429, \"5\": 60, \"13\": 16, \"8\": 49, \"4\": 2, \"3\": 31, \"12\": 1, \"15\": 11, \"0\": 13}, \"14\": {\"11\": 122, \"2\": 238, \"14\": 621, \"12\": 166, \"7\": 22, \"5\": 18, \"13\": 5, \"10\": 6, \"8\": 2}, \"6\": {\"9\": 398, \"6\": 779, \"3\": 20, \"13\": 1, \"0\": 2}, \"4\": {\"4\": 1096, \"12\": 97, \"10\": 5, \"14\": 1, \"7\": 1}, \"13\": {\"15\": 255, \"13\": 221, \"3\": 95, \"5\": 208, \"7\": 44, \"8\": 184, \"9\": 3, \"2\": 10, \"1\": 122, \"6\": 16, \"0\": 10, \"10\": 18, \"14\": 14}, \"3\": {\"15\": 97, \"9\": 79, \"8\": 93, \"0\": 337, \"5\": 43, \"6\": 90, \"3\": 299, \"13\": 51, \"10\": 53, \"7\": 55, \"1\": 3}, \"7\": {\"7\": 566, \"10\": 353, \"8\": 106, \"3\": 24, \"5\": 123, \"12\": 3, \"13\": 14, \"15\": 11}, \"8\": {\"8\": 367, \"15\": 203, \"5\": 348, \"13\": 138, \"7\": 81, \"3\": 34, \"10\": 24, \"0\": 2, \"1\": 3}, \"1\": {\"1\": 1053, \"13\": 66, \"15\": 66, \"6\": 4, \"8\": 7, \"5\": 2, \"3\": 2}, \"5\": {\"8\": 294, \"7\": 125, \"5\": 433, \"10\": 32, \"13\": 155, \"15\": 116, \"3\": 37, \"1\": 7, \"0\": 1}, \"0\": {\"0\": 905, \"9\": 11, \"3\": 241, \"10\": 20, \"6\": 11, \"7\": 6, \"15\": 1, \"8\": 2, \"13\": 2, \"5\": 1}, \"2\": {\"2\": 1045, \"13\": 3, \"14\": 152}, \"12\": {\"12\": 1118, \"4\": 51, \"11\": 10, \"14\": 20, \"10\": 1}, \"9\": {\"6\": 447, \"9\": 734, \"3\": 14, \"0\": 5}}, \"14\": {\"0\": {\"10\": 55, \"0\": 1136, \"14\": 2, \"3\": 4, \"11\": 1, \"12\": 2}, \"12\": {\"11\": 354, \"9\": 84, \"12\": 601, \"0\": 72, \"10\": 48, \"8\": 39, \"3\": 1, \"14\": 1}, \"1\": {\"1\": 1026, \"5\": 120, \"4\": 51, \"3\": 1, \"2\": 2}, \"4\": {\"4\": 504, \"5\": 406, \"2\": 86, \"14\": 12, \"3\": 140, \"1\": 50, \"6\": 1, \"13\": 1}, \"5\": {\"5\": 512, \"14\": 9, \"4\": 376, \"1\": 134, \"2\": 100, \"3\": 69}, \"3\": {\"3\": 927, \"5\": 57, \"4\": 125, \"14\": 43, \"2\": 32, \"1\": 12, \"6\": 3, \"0\": 1}, \"7\": {\"7\": 1151, \"15\": 45, \"5\": 2, \"1\": 2}, \"15\": {\"15\": 1134, \"7\": 65, \"2\": 1}, \"13\": {\"2\": 85, \"13\": 761, \"6\": 331, \"14\": 20, \"5\": 1, \"4\": 2}, \"10\": {\"10\": 974, \"0\": 183, \"11\": 42, \"12\": 1}, \"14\": {\"6\": 212, \"14\": 721, \"13\": 27, \"3\": 55, \"2\": 123, \"4\": 27, \"0\": 22, \"5\": 13}, \"6\": {\"13\": 266, \"2\": 75, \"6\": 660, \"14\": 192, \"4\": 4, \"5\": 2, \"3\": 1}, \"9\": {\"9\": 1193, \"0\": 1, \"11\": 1, \"12\": 5}, \"2\": {\"14\": 188, \"2\": 437, \"4\": 125, \"6\": 63, \"3\": 73, \"13\": 131, \"5\": 157, \"1\": 15, \"15\": 11}, \"8\": {\"8\": 1199, \"9\": 1}, \"11\": {\"11\": 1124, \"12\": 34, \"9\": 19, \"10\": 23}}}, \"per_domain_accuracy\": {\"50\": {\"accuracy\": 0.7538541666666667, \"source?\": true}, \"8\": {\"accuracy\": 0.6563541666666667, \"source?\": true}, \"32\": {\"accuracy\": 0.7247916666666666, \"source?\": true}, \"26\": {\"accuracy\": 0.4477083333333333, \"source?\": false}, \"44\": {\"accuracy\": 0.7203125, \"source?\": false}, \"20\": {\"accuracy\": 0.47796875, \"source?\": false}, \"38\": {\"accuracy\": 0.5828125, \"source?\": false}, \"14\": {\"accuracy\": 0.7322916666666667, \"source?\": false}}}, \"history\": {\"epoch_indices\": [1, 2, 3, 4, 5, 6, 7, 8, 9, 10], \"train_label_loss\": [1.3590725660560623, 0.848640407312011, 0.7080367199674485, 0.6298655257214393, 0.5627556838308062, 0.4983254190250522, 0.4399274747366352, 0.38961667169269826, 0.3445484040049274, 0.3053534367013841], \"source_val_label_loss\": [1.0910669565200806, 0.8250970840454102, 0.7963485717773438, 0.7740512490272522, 0.8001477718353271, 0.8193883895874023, 0.8285267949104309, 0.848546028137207, 0.8750349879264832, 0.9055153131484985], \"target_val_label_loss\": [1.3997526168823242, 1.2448302507400513, 1.2350026369094849, 1.2183583974838257, 1.2531052827835083, 1.3042573928833008, 1.2921785116195679, 1.3453848361968994, 1.3980478048324585, 1.4407896995544434], \"source_val_acc_label\": [0.5806770833333333, 0.6812326388888889, 0.6994444444444444, 0.7067534722222222, 0.6994791666666667, 0.7116666666666667, 0.7097916666666667, 0.7070138888888889, 0.7083506944444444, 0.7072569444444444], \"target_val_acc_label\": [0.48876041666666664, 0.56053125, 0.5776979166666667, 0.5825520833333333, 0.5773125, 0.59221875, 0.5912916666666667, 0.5861041666666666, 0.5865416666666666, 0.5845]}, \"dataset_metrics\": {\"source\": {\"train\": {\"n_unique_x\": 336000, \"n_unique_y\": 16, \"n_batch/episode\": 12600}, \"val\": {\"n_unique_x\": 72000, \"n_unique_y\": 16, \"n_batch/episode\": 1800}, \"test\": {\"n_unique_x\": 72000, \"n_unique_y\": 16, \"n_batch/episode\": 1800}}, \"target\": {\"train\": {\"n_unique_x\": 560000, \"n_unique_y\": 16, \"n_batch/episode\": 21000}, \"val\": {\"n_unique_x\": 120000, \"n_unique_y\": 16, \"n_batch/episode\": 3000}, \"test\": {\"n_unique_x\": 120000, \"n_unique_y\": 16, \"n_batch/episode\": 3000}}}}'"
      ]
     },
     "execution_count": 20,
     "metadata": {},
     "output_type": "execute_result"
    }
   ],
   "source": [
    "json.dumps(experiment)"
   ]
  }
 ],
 "metadata": {
  "celltoolbar": "Tags",
  "kernelspec": {
   "display_name": "Python 3 (ipykernel)",
   "language": "python",
   "name": "python3"
  },
  "language_info": {
   "codemirror_mode": {
    "name": "ipython",
    "version": 3
   },
   "file_extension": ".py",
   "mimetype": "text/x-python",
   "name": "python",
   "nbconvert_exporter": "python",
   "pygments_lexer": "ipython3",
   "version": "3.8.12"
  },
  "papermill": {
   "default_parameters": {},
   "duration": 3568.213021,
   "end_time": "2022-03-26T17:43:09.718172",
   "environment_variables": {},
   "exception": null,
   "input_path": "/root/csc500-main/csc500-notebooks/templates/ptn_template.ipynb",
   "output_path": "trial.ipynb",
   "parameters": {
    "parameters": {
     "BEST_MODEL_PATH": "./best_model.pth",
     "NUM_LOGS_PER_EPOCH": 10,
     "criteria_for_best": "target_accuracy",
     "dataset_seed": 7,
     "device": "cuda",
     "domains_source": [
      8,
      32,
      50
     ],
     "domains_target": [
      14,
      20,
      26,
      38,
      44
     ],
     "episode_transforms_source": [],
     "episode_transforms_target": [],
     "experiment_name": "tuned_1v2:oracle.run2_limited",
     "labels_source": [
      "3123D52",
      "3123D65",
      "3123D79",
      "3123D80",
      "3123D54",
      "3123D70",
      "3123D7B",
      "3123D89",
      "3123D58",
      "3123D76",
      "3123D7D",
      "3123EFE",
      "3123D64",
      "3123D78",
      "3123D7E",
      "3124E4A"
     ],
     "labels_target": [
      "3123D52",
      "3123D65",
      "3123D79",
      "3123D80",
      "3123D54",
      "3123D70",
      "3123D7B",
      "3123D89",
      "3123D58",
      "3123D76",
      "3123D7D",
      "3123EFE",
      "3123D64",
      "3123D78",
      "3123D7E",
      "3124E4A"
     ],
     "lr": 0.0001,
     "n_epoch": 50,
     "n_query": 2,
     "n_shot": 3,
     "n_way": 16,
     "num_examples_per_domain_per_label_source": -1,
     "num_examples_per_domain_per_label_target": -1,
     "patience": 3,
     "pickle_name": "oracle.Run2_10kExamples_stratified_ds.2022A.pkl",
     "seed": 7,
     "test_k_factor": 2,
     "torch_default_dtype": "torch.float32",
     "train_k_factor": 3,
     "val_k_factor": 2,
     "x_net": [
      {
       "class": "nnReshape",
       "kargs": {
        "shape": [
         -1,
         1,
         2,
         256
        ]
       }
      },
      {
       "class": "Conv2d",
       "kargs": {
        "bias": false,
        "in_channels": 1,
        "kernel_size": [
         1,
         7
        ],
        "out_channels": 256,
        "padding": [
         0,
         3
        ]
       }
      },
      {
       "class": "ReLU",
       "kargs": {
        "inplace": true
       }
      },
      {
       "class": "BatchNorm2d",
       "kargs": {
        "num_features": 256
       }
      },
      {
       "class": "Conv2d",
       "kargs": {
        "bias": true,
        "in_channels": 256,
        "kernel_size": [
         2,
         7
        ],
        "out_channels": 80,
        "padding": [
         0,
         3
        ]
       }
      },
      {
       "class": "ReLU",
       "kargs": {
        "inplace": true
       }
      },
      {
       "class": "BatchNorm2d",
       "kargs": {
        "num_features": 80
       }
      },
      {
       "class": "Flatten",
       "kargs": {}
      },
      {
       "class": "Linear",
       "kargs": {
        "in_features": 20480,
        "out_features": 256
       }
      },
      {
       "class": "ReLU",
       "kargs": {
        "inplace": true
       }
      },
      {
       "class": "BatchNorm1d",
       "kargs": {
        "num_features": 256
       }
      },
      {
       "class": "Linear",
       "kargs": {
        "in_features": 256,
        "out_features": 256
       }
      }
     ],
     "x_transforms_source": [
      "unit_mag"
     ],
     "x_transforms_target": [
      "unit_mag"
     ]
    }
   },
   "start_time": "2022-03-26T16:43:41.505151",
   "version": "2.3.4"
  }
 },
 "nbformat": 4,
 "nbformat_minor": 5
}