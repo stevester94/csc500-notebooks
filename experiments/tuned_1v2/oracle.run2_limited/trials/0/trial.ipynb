{
 "cells": [
  {
   "cell_type": "markdown",
   "id": "9fea5f46",
   "metadata": {
    "papermill": {
     "duration": 0.014313,
     "end_time": "2022-04-01T15:08:41.901307",
     "exception": false,
     "start_time": "2022-04-01T15:08:41.886994",
     "status": "completed"
    },
    "tags": []
   },
   "source": [
    "# PTN Template\n",
    "This notebook serves as a template for single dataset PTN experiments  \n",
    "It can be run on its own by setting STANDALONE to True (do a find for \"STANDALONE\" to see where)  \n",
    "But it is intended to be executed as part of a *papermill.py script. See any of the   \n",
    "experimentes with a papermill script to get started with that workflow.  "
   ]
  },
  {
   "cell_type": "code",
   "execution_count": 1,
   "id": "0902182a",
   "metadata": {
    "execution": {
     "iopub.execute_input": "2022-04-01T15:08:41.934300Z",
     "iopub.status.busy": "2022-04-01T15:08:41.933820Z",
     "iopub.status.idle": "2022-04-01T15:08:42.877775Z",
     "shell.execute_reply": "2022-04-01T15:08:42.877485Z"
    },
    "papermill": {
     "duration": 0.96729,
     "end_time": "2022-04-01T15:08:42.877847",
     "exception": false,
     "start_time": "2022-04-01T15:08:41.910557",
     "status": "completed"
    },
    "tags": []
   },
   "outputs": [],
   "source": [
    "%load_ext autoreload\n",
    "%autoreload 2\n",
    "%matplotlib inline\n",
    "\n",
    "    \n",
    "import os, json, sys, time, random\n",
    "import numpy as np\n",
    "import torch\n",
    "from torch.optim import Adam\n",
    "from  easydict import EasyDict\n",
    "import matplotlib.pyplot as plt\n",
    "\n",
    "from steves_models.steves_ptn import Steves_Prototypical_Network\n",
    "\n",
    "from steves_utils.lazy_iterable_wrapper import Lazy_Iterable_Wrapper\n",
    "from steves_utils.iterable_aggregator import Iterable_Aggregator\n",
    "from steves_utils.ptn_train_eval_test_jig import  PTN_Train_Eval_Test_Jig\n",
    "from steves_utils.torch_sequential_builder import build_sequential\n",
    "from steves_utils.torch_utils import get_dataset_metrics, ptn_confusion_by_domain_over_dataloader\n",
    "from steves_utils.utils_v2 import (per_domain_accuracy_from_confusion, get_datasets_base_path)\n",
    "from steves_utils.PTN.utils import independent_accuracy_assesment\n",
    "\n",
    "from steves_utils.stratified_dataset.episodic_accessor import Episodic_Accessor_Factory\n",
    "\n",
    "from steves_utils.ptn_do_report import (\n",
    "    get_loss_curve,\n",
    "    get_results_table,\n",
    "    get_parameters_table,\n",
    "    get_domain_accuracies,\n",
    ")\n",
    "\n",
    "from steves_utils.transforms import get_chained_transform"
   ]
  },
  {
   "cell_type": "markdown",
   "id": "41c840b4",
   "metadata": {
    "papermill": {
     "duration": 0.009057,
     "end_time": "2022-04-01T15:08:42.900475",
     "exception": false,
     "start_time": "2022-04-01T15:08:42.891418",
     "status": "completed"
    },
    "tags": []
   },
   "source": [
    "# Required Parameters\n",
    "These are allowed parameters, not defaults\n",
    "Each of these values need to be present in the injected parameters (the notebook will raise an exception if they are not present)\n",
    "\n",
    "Papermill uses the cell tag \"parameters\" to inject the real parameters below this cell.\n",
    "Enable tags to see what I mean"
   ]
  },
  {
   "cell_type": "code",
   "execution_count": 2,
   "id": "fd44eb83",
   "metadata": {
    "execution": {
     "iopub.execute_input": "2022-04-01T15:08:42.921592Z",
     "iopub.status.busy": "2022-04-01T15:08:42.921330Z",
     "iopub.status.idle": "2022-04-01T15:08:42.936879Z",
     "shell.execute_reply": "2022-04-01T15:08:42.936556Z"
    },
    "papermill": {
     "duration": 0.027303,
     "end_time": "2022-04-01T15:08:42.936957",
     "exception": false,
     "start_time": "2022-04-01T15:08:42.909654",
     "status": "completed"
    },
    "tags": []
   },
   "outputs": [],
   "source": [
    "required_parameters = {\n",
    "    \"experiment_name\",\n",
    "    \"lr\",\n",
    "    \"device\",\n",
    "    \"seed\",\n",
    "    \"dataset_seed\",\n",
    "    \"labels_source\",\n",
    "    \"labels_target\",\n",
    "    \"domains_source\",\n",
    "    \"domains_target\",\n",
    "    \"num_examples_per_domain_per_label_source\",\n",
    "    \"num_examples_per_domain_per_label_target\",\n",
    "    \"n_shot\",\n",
    "    \"n_way\",\n",
    "    \"n_query\",\n",
    "    \"train_k_factor\",\n",
    "    \"val_k_factor\",\n",
    "    \"test_k_factor\",\n",
    "    \"n_epoch\",\n",
    "    \"patience\",\n",
    "    \"criteria_for_best\",\n",
    "    \"x_transforms_source\",\n",
    "    \"x_transforms_target\",\n",
    "    \"episode_transforms_source\",\n",
    "    \"episode_transforms_target\",\n",
    "    \"pickle_name\",\n",
    "    \"x_net\",\n",
    "    \"NUM_LOGS_PER_EPOCH\",\n",
    "    \"BEST_MODEL_PATH\",\n",
    "    \"torch_default_dtype\"\n",
    "}"
   ]
  },
  {
   "cell_type": "code",
   "execution_count": 3,
   "id": "fa3f0049",
   "metadata": {
    "execution": {
     "iopub.execute_input": "2022-04-01T15:08:42.964643Z",
     "iopub.status.busy": "2022-04-01T15:08:42.964352Z",
     "iopub.status.idle": "2022-04-01T15:08:42.976305Z",
     "shell.execute_reply": "2022-04-01T15:08:42.976603Z"
    },
    "papermill": {
     "duration": 0.026947,
     "end_time": "2022-04-01T15:08:42.976699",
     "exception": false,
     "start_time": "2022-04-01T15:08:42.949752",
     "status": "completed"
    },
    "tags": [
     "parameters"
    ]
   },
   "outputs": [],
   "source": [
    "\n",
    "\n",
    "standalone_parameters = {}\n",
    "standalone_parameters[\"experiment_name\"] = \"STANDALONE PTN\"\n",
    "standalone_parameters[\"lr\"] = 0.0001\n",
    "standalone_parameters[\"device\"] = \"cuda\"\n",
    "\n",
    "standalone_parameters[\"seed\"] = 1337\n",
    "standalone_parameters[\"dataset_seed\"] = 1337\n",
    "\n",
    "\n",
    "standalone_parameters[\"num_examples_per_domain_per_label_source\"]=100\n",
    "standalone_parameters[\"num_examples_per_domain_per_label_target\"]=100\n",
    "\n",
    "standalone_parameters[\"n_shot\"] = 3\n",
    "standalone_parameters[\"n_query\"]  = 2\n",
    "standalone_parameters[\"train_k_factor\"] = 1\n",
    "standalone_parameters[\"val_k_factor\"] = 2\n",
    "standalone_parameters[\"test_k_factor\"] = 2\n",
    "\n",
    "\n",
    "standalone_parameters[\"n_epoch\"] = 100\n",
    "\n",
    "standalone_parameters[\"patience\"] = 10\n",
    "standalone_parameters[\"criteria_for_best\"] = \"target_accuracy\"\n",
    "\n",
    "standalone_parameters[\"x_transforms_source\"] = [\"unit_power\"]\n",
    "standalone_parameters[\"x_transforms_target\"] = [\"unit_power\"]\n",
    "standalone_parameters[\"episode_transforms_source\"] = []\n",
    "standalone_parameters[\"episode_transforms_target\"] = []\n",
    "\n",
    "standalone_parameters[\"torch_default_dtype\"] = \"torch.float32\" \n",
    "\n",
    "\n",
    "\n",
    "standalone_parameters[\"x_net\"] =     [\n",
    "    {\"class\": \"nnReshape\", \"kargs\": {\"shape\":[-1, 1, 2, 256]}},\n",
    "    {\"class\": \"Conv2d\", \"kargs\": { \"in_channels\":1, \"out_channels\":256, \"kernel_size\":(1,7), \"bias\":False, \"padding\":(0,3), },},\n",
    "    {\"class\": \"ReLU\", \"kargs\": {\"inplace\": True}},\n",
    "    {\"class\": \"BatchNorm2d\", \"kargs\": {\"num_features\":256}},\n",
    "\n",
    "    {\"class\": \"Conv2d\", \"kargs\": { \"in_channels\":256, \"out_channels\":80, \"kernel_size\":(2,7), \"bias\":True, \"padding\":(0,3), },},\n",
    "    {\"class\": \"ReLU\", \"kargs\": {\"inplace\": True}},\n",
    "    {\"class\": \"BatchNorm2d\", \"kargs\": {\"num_features\":80}},\n",
    "    {\"class\": \"Flatten\", \"kargs\": {}},\n",
    "\n",
    "    {\"class\": \"Linear\", \"kargs\": {\"in_features\": 80*256, \"out_features\": 256}}, # 80 units per IQ pair\n",
    "    {\"class\": \"ReLU\", \"kargs\": {\"inplace\": True}},\n",
    "    {\"class\": \"BatchNorm1d\", \"kargs\": {\"num_features\":256}},\n",
    "\n",
    "    {\"class\": \"Linear\", \"kargs\": {\"in_features\": 256, \"out_features\": 256}},\n",
    "]\n",
    "\n",
    "# Parameters relevant to results\n",
    "# These parameters will basically never need to change\n",
    "standalone_parameters[\"NUM_LOGS_PER_EPOCH\"] = 10\n",
    "standalone_parameters[\"BEST_MODEL_PATH\"] = \"./best_model.pth\"\n",
    "\n",
    "# uncomment for CORES dataset\n",
    "from steves_utils.CORES.utils import (\n",
    "    ALL_NODES,\n",
    "    ALL_NODES_MINIMUM_1000_EXAMPLES,\n",
    "    ALL_DAYS\n",
    ")\n",
    "\n",
    "\n",
    "standalone_parameters[\"labels_source\"] = ALL_NODES\n",
    "standalone_parameters[\"labels_target\"] = ALL_NODES\n",
    "\n",
    "standalone_parameters[\"domains_source\"] = [1]\n",
    "standalone_parameters[\"domains_target\"] = [2,3,4,5]\n",
    "\n",
    "standalone_parameters[\"pickle_name\"] = \"cores.stratified_ds.2022A.pkl\"\n",
    "\n",
    "\n",
    "# Uncomment these for ORACLE dataset\n",
    "# from steves_utils.ORACLE.utils_v2 import (\n",
    "#     ALL_DISTANCES_FEET,\n",
    "#     ALL_RUNS,\n",
    "#     ALL_SERIAL_NUMBERS,\n",
    "# )\n",
    "# standalone_parameters[\"labels_source\"] = ALL_SERIAL_NUMBERS\n",
    "# standalone_parameters[\"labels_target\"] = ALL_SERIAL_NUMBERS\n",
    "# standalone_parameters[\"domains_source\"] = [8,20, 38,50]\n",
    "# standalone_parameters[\"domains_target\"] = [14, 26, 32, 44, 56]\n",
    "# standalone_parameters[\"pickle_name\"] = \"oracle.frame_indexed.stratified_ds.2022A.pkl\"\n",
    "# standalone_parameters[\"num_examples_per_domain_per_label_source\"]=1000\n",
    "# standalone_parameters[\"num_examples_per_domain_per_label_target\"]=1000\n",
    "\n",
    "# Uncomment these for Metahan dataset\n",
    "# standalone_parameters[\"labels_source\"] = list(range(19))\n",
    "# standalone_parameters[\"labels_target\"] = list(range(19))\n",
    "# standalone_parameters[\"domains_source\"] = [0]\n",
    "# standalone_parameters[\"domains_target\"] = [1]\n",
    "# standalone_parameters[\"pickle_name\"] = \"metehan.stratified_ds.2022A.pkl\"\n",
    "# standalone_parameters[\"n_way\"]  = len(standalone_parameters[\"labels_source\"])\n",
    "# standalone_parameters[\"num_examples_per_domain_per_label_source\"]=200\n",
    "# standalone_parameters[\"num_examples_per_domain_per_label_target\"]=100\n",
    "\n",
    "\n",
    "standalone_parameters[\"n_way\"]  = len(standalone_parameters[\"labels_source\"])"
   ]
  },
  {
   "cell_type": "code",
   "execution_count": 4,
   "id": "363f9b25",
   "metadata": {
    "execution": {
     "iopub.execute_input": "2022-04-01T15:08:43.005653Z",
     "iopub.status.busy": "2022-04-01T15:08:43.005372Z",
     "iopub.status.idle": "2022-04-01T15:08:43.016751Z",
     "shell.execute_reply": "2022-04-01T15:08:43.017139Z"
    },
    "papermill": {
     "duration": 0.025385,
     "end_time": "2022-04-01T15:08:43.017257",
     "exception": false,
     "start_time": "2022-04-01T15:08:42.991872",
     "status": "completed"
    },
    "tags": [
     "injected-parameters"
    ]
   },
   "outputs": [],
   "source": [
    "# Parameters\n",
    "parameters = {\n",
    "    \"experiment_name\": \"tuned_1v2:oracle.run2_limited\",\n",
    "    \"device\": \"cuda\",\n",
    "    \"lr\": 0.0001,\n",
    "    \"labels_source\": [\n",
    "        \"3123D52\",\n",
    "        \"3123D65\",\n",
    "        \"3123D79\",\n",
    "        \"3123D80\",\n",
    "        \"3123D54\",\n",
    "        \"3123D70\",\n",
    "        \"3123D7B\",\n",
    "        \"3123D89\",\n",
    "        \"3123D58\",\n",
    "        \"3123D76\",\n",
    "        \"3123D7D\",\n",
    "        \"3123EFE\",\n",
    "        \"3123D64\",\n",
    "        \"3123D78\",\n",
    "        \"3123D7E\",\n",
    "        \"3124E4A\",\n",
    "    ],\n",
    "    \"labels_target\": [\n",
    "        \"3123D52\",\n",
    "        \"3123D65\",\n",
    "        \"3123D79\",\n",
    "        \"3123D80\",\n",
    "        \"3123D54\",\n",
    "        \"3123D70\",\n",
    "        \"3123D7B\",\n",
    "        \"3123D89\",\n",
    "        \"3123D58\",\n",
    "        \"3123D76\",\n",
    "        \"3123D7D\",\n",
    "        \"3123EFE\",\n",
    "        \"3123D64\",\n",
    "        \"3123D78\",\n",
    "        \"3123D7E\",\n",
    "        \"3124E4A\",\n",
    "    ],\n",
    "    \"episode_transforms_source\": [],\n",
    "    \"episode_transforms_target\": [],\n",
    "    \"domains_source\": [8, 32, 50],\n",
    "    \"domains_target\": [14, 20, 26, 38, 44],\n",
    "    \"num_examples_per_domain_per_label_source\": 2000,\n",
    "    \"num_examples_per_domain_per_label_target\": 2000,\n",
    "    \"n_shot\": 3,\n",
    "    \"n_way\": 16,\n",
    "    \"n_query\": 2,\n",
    "    \"train_k_factor\": 3,\n",
    "    \"val_k_factor\": 2,\n",
    "    \"test_k_factor\": 2,\n",
    "    \"torch_default_dtype\": \"torch.float32\",\n",
    "    \"n_epoch\": 50,\n",
    "    \"patience\": 3,\n",
    "    \"criteria_for_best\": \"target_accuracy\",\n",
    "    \"x_net\": [\n",
    "        {\"class\": \"nnReshape\", \"kargs\": {\"shape\": [-1, 1, 2, 256]}},\n",
    "        {\n",
    "            \"class\": \"Conv2d\",\n",
    "            \"kargs\": {\n",
    "                \"in_channels\": 1,\n",
    "                \"out_channels\": 256,\n",
    "                \"kernel_size\": [1, 7],\n",
    "                \"bias\": False,\n",
    "                \"padding\": [0, 3],\n",
    "            },\n",
    "        },\n",
    "        {\"class\": \"ReLU\", \"kargs\": {\"inplace\": True}},\n",
    "        {\"class\": \"BatchNorm2d\", \"kargs\": {\"num_features\": 256}},\n",
    "        {\n",
    "            \"class\": \"Conv2d\",\n",
    "            \"kargs\": {\n",
    "                \"in_channels\": 256,\n",
    "                \"out_channels\": 80,\n",
    "                \"kernel_size\": [2, 7],\n",
    "                \"bias\": True,\n",
    "                \"padding\": [0, 3],\n",
    "            },\n",
    "        },\n",
    "        {\"class\": \"ReLU\", \"kargs\": {\"inplace\": True}},\n",
    "        {\"class\": \"BatchNorm2d\", \"kargs\": {\"num_features\": 80}},\n",
    "        {\"class\": \"Flatten\", \"kargs\": {}},\n",
    "        {\"class\": \"Linear\", \"kargs\": {\"in_features\": 20480, \"out_features\": 256}},\n",
    "        {\"class\": \"ReLU\", \"kargs\": {\"inplace\": True}},\n",
    "        {\"class\": \"BatchNorm1d\", \"kargs\": {\"num_features\": 256}},\n",
    "        {\"class\": \"Linear\", \"kargs\": {\"in_features\": 256, \"out_features\": 256}},\n",
    "    ],\n",
    "    \"NUM_LOGS_PER_EPOCH\": 10,\n",
    "    \"BEST_MODEL_PATH\": \"./best_model.pth\",\n",
    "    \"pickle_name\": \"oracle.Run2_10kExamples_stratified_ds.2022A.pkl\",\n",
    "    \"x_transforms_source\": [],\n",
    "    \"x_transforms_target\": [],\n",
    "    \"dataset_seed\": 154325,\n",
    "    \"seed\": 154325,\n",
    "}\n"
   ]
  },
  {
   "cell_type": "code",
   "execution_count": 5,
   "id": "8fa1cc33",
   "metadata": {
    "execution": {
     "iopub.execute_input": "2022-04-01T15:08:43.045104Z",
     "iopub.status.busy": "2022-04-01T15:08:43.043956Z",
     "iopub.status.idle": "2022-04-01T15:08:43.055967Z",
     "shell.execute_reply": "2022-04-01T15:08:43.055709Z"
    },
    "papermill": {
     "duration": 0.023576,
     "end_time": "2022-04-01T15:08:43.056023",
     "exception": false,
     "start_time": "2022-04-01T15:08:43.032447",
     "status": "completed"
    },
    "tags": []
   },
   "outputs": [],
   "source": [
    "# Set this to True if you want to run this template directly\n",
    "STANDALONE = False\n",
    "if STANDALONE:\n",
    "    print(\"parameters not injected, running with standalone_parameters\")\n",
    "    parameters = standalone_parameters\n",
    "\n",
    "if not 'parameters' in locals() and not 'parameters' in globals():\n",
    "    raise Exception(\"Parameter injection failed\")\n",
    "\n",
    "#Use an easy dict for all the parameters\n",
    "p = EasyDict(parameters)\n",
    "\n",
    "supplied_keys = set(p.keys())\n",
    "\n",
    "if  supplied_keys != required_parameters:\n",
    "    print(\"Parameters are incorrect\")\n",
    "    if len(supplied_keys - required_parameters)>0: print(\"Shouldn't have:\", str(supplied_keys - required_parameters))\n",
    "    if len(required_parameters - supplied_keys)>0: print(\"Need to have:\", str(required_parameters - supplied_keys))\n",
    "    raise RuntimeError(\"Parameters are incorrect\")\n",
    "\n"
   ]
  },
  {
   "cell_type": "code",
   "execution_count": 6,
   "id": "3a028d58",
   "metadata": {
    "execution": {
     "iopub.execute_input": "2022-04-01T15:08:43.077521Z",
     "iopub.status.busy": "2022-04-01T15:08:43.077276Z",
     "iopub.status.idle": "2022-04-01T15:08:43.093197Z",
     "shell.execute_reply": "2022-04-01T15:08:43.092859Z"
    },
    "papermill": {
     "duration": 0.027922,
     "end_time": "2022-04-01T15:08:43.093275",
     "exception": false,
     "start_time": "2022-04-01T15:08:43.065353",
     "status": "completed"
    },
    "tags": []
   },
   "outputs": [],
   "source": [
    "###################################\n",
    "# Set the RNGs and make it all deterministic\n",
    "###################################\n",
    "np.random.seed(p.seed)\n",
    "random.seed(p.seed)\n",
    "torch.manual_seed(p.seed)\n",
    "\n",
    "torch.use_deterministic_algorithms(True) "
   ]
  },
  {
   "cell_type": "code",
   "execution_count": 7,
   "id": "b691acf6",
   "metadata": {
    "execution": {
     "iopub.execute_input": "2022-04-01T15:08:43.119839Z",
     "iopub.status.busy": "2022-04-01T15:08:43.119595Z",
     "iopub.status.idle": "2022-04-01T15:08:43.130302Z",
     "shell.execute_reply": "2022-04-01T15:08:43.129937Z"
    },
    "papermill": {
     "duration": 0.021977,
     "end_time": "2022-04-01T15:08:43.130380",
     "exception": false,
     "start_time": "2022-04-01T15:08:43.108403",
     "status": "completed"
    },
    "tags": []
   },
   "outputs": [],
   "source": [
    "###########################################\n",
    "# The stratified datasets honor this\n",
    "###########################################\n",
    "torch.set_default_dtype(eval(p.torch_default_dtype))"
   ]
  },
  {
   "cell_type": "code",
   "execution_count": 8,
   "id": "b5fba671",
   "metadata": {
    "execution": {
     "iopub.execute_input": "2022-04-01T15:08:43.155989Z",
     "iopub.status.busy": "2022-04-01T15:08:43.155744Z",
     "iopub.status.idle": "2022-04-01T15:08:43.191296Z",
     "shell.execute_reply": "2022-04-01T15:08:43.190848Z"
    },
    "papermill": {
     "duration": 0.046547,
     "end_time": "2022-04-01T15:08:43.191403",
     "exception": false,
     "start_time": "2022-04-01T15:08:43.144856",
     "status": "completed"
    },
    "tags": []
   },
   "outputs": [],
   "source": [
    "###################################\n",
    "# Build the network(s)\n",
    "# Note: It's critical to do this AFTER setting the RNG\n",
    "# (This is due to the randomized initial weights)\n",
    "###################################\n",
    "x_net = build_sequential(p.x_net)"
   ]
  },
  {
   "cell_type": "code",
   "execution_count": 9,
   "id": "5d7e61cc",
   "metadata": {
    "execution": {
     "iopub.execute_input": "2022-04-01T15:08:43.228087Z",
     "iopub.status.busy": "2022-04-01T15:08:43.227726Z",
     "iopub.status.idle": "2022-04-01T15:08:43.233412Z",
     "shell.execute_reply": "2022-04-01T15:08:43.233102Z"
    },
    "papermill": {
     "duration": 0.026064,
     "end_time": "2022-04-01T15:08:43.233488",
     "exception": false,
     "start_time": "2022-04-01T15:08:43.207424",
     "status": "completed"
    },
    "tags": []
   },
   "outputs": [],
   "source": [
    "start_time_secs = time.time()"
   ]
  },
  {
   "cell_type": "code",
   "execution_count": 10,
   "id": "fd5442bc",
   "metadata": {
    "execution": {
     "iopub.execute_input": "2022-04-01T15:08:43.265987Z",
     "iopub.status.busy": "2022-04-01T15:08:43.259038Z",
     "iopub.status.idle": "2022-04-01T15:08:55.154031Z",
     "shell.execute_reply": "2022-04-01T15:08:55.153781Z"
    },
    "papermill": {
     "duration": 11.906133,
     "end_time": "2022-04-01T15:08:55.154094",
     "exception": false,
     "start_time": "2022-04-01T15:08:43.247961",
     "status": "completed"
    },
    "tags": []
   },
   "outputs": [],
   "source": [
    "###################################\n",
    "# Build the dataset\n",
    "###################################\n",
    "\n",
    "if p.x_transforms_source == []: x_transform_source = None\n",
    "else: x_transform_source = get_chained_transform(p.x_transforms_source) \n",
    "\n",
    "if p.x_transforms_target == []: x_transform_target = None\n",
    "else: x_transform_target = get_chained_transform(p.x_transforms_target)\n",
    "\n",
    "if p.episode_transforms_source == []: episode_transform_source = None\n",
    "else: raise Exception(\"episode_transform_source not implemented\")\n",
    "\n",
    "if p.episode_transforms_target == []: episode_transform_target = None\n",
    "else: raise Exception(\"episode_transform_target not implemented\")\n",
    "\n",
    "\n",
    "eaf_source = Episodic_Accessor_Factory(\n",
    "    labels=p.labels_source,\n",
    "    domains=p.domains_source,\n",
    "    num_examples_per_domain_per_label=p.num_examples_per_domain_per_label_source,\n",
    "    iterator_seed=p.seed,\n",
    "    dataset_seed=p.dataset_seed,\n",
    "    n_shot=p.n_shot,\n",
    "    n_way=p.n_way,\n",
    "    n_query=p.n_query,\n",
    "    train_val_test_k_factors=(p.train_k_factor,p.val_k_factor,p.test_k_factor),\n",
    "    pickle_path=os.path.join(get_datasets_base_path(), p.pickle_name),\n",
    "    x_transform_func=x_transform_source,\n",
    "    example_transform_func=episode_transform_source,\n",
    "    \n",
    ")\n",
    "train_original_source, val_original_source, test_original_source = eaf_source.get_train(), eaf_source.get_val(), eaf_source.get_test()\n",
    "\n",
    "\n",
    "eaf_target = Episodic_Accessor_Factory(\n",
    "    labels=p.labels_target,\n",
    "    domains=p.domains_target,\n",
    "    num_examples_per_domain_per_label=p.num_examples_per_domain_per_label_target,\n",
    "    iterator_seed=p.seed,\n",
    "    dataset_seed=p.dataset_seed,\n",
    "    n_shot=p.n_shot,\n",
    "    n_way=p.n_way,\n",
    "    n_query=p.n_query,\n",
    "    train_val_test_k_factors=(p.train_k_factor,p.val_k_factor,p.test_k_factor),\n",
    "    pickle_path=os.path.join(get_datasets_base_path(), p.pickle_name),\n",
    "    x_transform_func=x_transform_target,\n",
    "    example_transform_func=episode_transform_target,\n",
    ")\n",
    "train_original_target, val_original_target, test_original_target = eaf_target.get_train(), eaf_target.get_val(), eaf_target.get_test()\n",
    "\n",
    "\n",
    "transform_lambda = lambda ex: ex[1] # Original is (<domain>, <episode>) so we strip down to episode only\n",
    "\n",
    "train_processed_source = Lazy_Iterable_Wrapper(train_original_source, transform_lambda)\n",
    "val_processed_source   = Lazy_Iterable_Wrapper(val_original_source, transform_lambda)\n",
    "test_processed_source  = Lazy_Iterable_Wrapper(test_original_source, transform_lambda)\n",
    "\n",
    "train_processed_target = Lazy_Iterable_Wrapper(train_original_target, transform_lambda)\n",
    "val_processed_target   = Lazy_Iterable_Wrapper(val_original_target, transform_lambda)\n",
    "test_processed_target  = Lazy_Iterable_Wrapper(test_original_target, transform_lambda)\n",
    "\n",
    "datasets = EasyDict({\n",
    "    \"source\": {\n",
    "        \"original\": {\"train\":train_original_source, \"val\":val_original_source, \"test\":test_original_source},\n",
    "        \"processed\": {\"train\":train_processed_source, \"val\":val_processed_source, \"test\":test_processed_source}\n",
    "    },\n",
    "    \"target\": {\n",
    "        \"original\": {\"train\":train_original_target, \"val\":val_original_target, \"test\":test_original_target},\n",
    "        \"processed\": {\"train\":train_processed_target, \"val\":val_processed_target, \"test\":test_processed_target}\n",
    "    },\n",
    "})"
   ]
  },
  {
   "cell_type": "code",
   "execution_count": 11,
   "id": "296189d9",
   "metadata": {
    "execution": {
     "iopub.execute_input": "2022-04-01T15:08:55.178595Z",
     "iopub.status.busy": "2022-04-01T15:08:55.178316Z",
     "iopub.status.idle": "2022-04-01T15:08:56.787552Z",
     "shell.execute_reply": "2022-04-01T15:08:56.788081Z"
    },
    "papermill": {
     "duration": 1.623642,
     "end_time": "2022-04-01T15:08:56.788221",
     "exception": false,
     "start_time": "2022-04-01T15:08:55.164579",
     "status": "completed"
    },
    "tags": []
   },
   "outputs": [
    {
     "name": "stdout",
     "output_type": "stream",
     "text": [
      "Visually inspect these to see if they line up with expected values given the transforms\n",
      "x_transforms_source []\n",
      "x_transforms_target []\n",
      "Average magnitude, source: 0.0023563148\n",
      "Average power, source: 7.071484e-06\n"
     ]
    },
    {
     "name": "stdout",
     "output_type": "stream",
     "text": [
      "Average magnitude, target: 0.0014857439\n",
      "Average power, target: 2.7374367e-06\n"
     ]
    }
   ],
   "source": [
    "# Some quick unit tests on the data\n",
    "from steves_utils.transforms import get_average_power, get_average_magnitude\n",
    "\n",
    "q_x, q_y, s_x, s_y, truth = next(iter(train_processed_source))\n",
    "\n",
    "assert q_x.dtype == eval(p.torch_default_dtype)\n",
    "assert s_x.dtype == eval(p.torch_default_dtype)\n",
    "\n",
    "print(\"Visually inspect these to see if they line up with expected values given the transforms\")\n",
    "print('x_transforms_source', p.x_transforms_source)\n",
    "print('x_transforms_target', p.x_transforms_target)\n",
    "print(\"Average magnitude, source:\", get_average_magnitude(q_x[0].numpy()))\n",
    "print(\"Average power, source:\", get_average_power(q_x[0].numpy()))\n",
    "\n",
    "q_x, q_y, s_x, s_y, truth = next(iter(train_processed_target))\n",
    "print(\"Average magnitude, target:\", get_average_magnitude(q_x[0].numpy()))\n",
    "print(\"Average power, target:\", get_average_power(q_x[0].numpy()))\n"
   ]
  },
  {
   "cell_type": "code",
   "execution_count": 12,
   "id": "bbdacba1",
   "metadata": {
    "execution": {
     "iopub.execute_input": "2022-04-01T15:08:56.819991Z",
     "iopub.status.busy": "2022-04-01T15:08:56.819732Z",
     "iopub.status.idle": "2022-04-01T15:08:56.905969Z",
     "shell.execute_reply": "2022-04-01T15:08:56.906183Z"
    },
    "papermill": {
     "duration": 0.099243,
     "end_time": "2022-04-01T15:08:56.906266",
     "exception": false,
     "start_time": "2022-04-01T15:08:56.807023",
     "status": "completed"
    },
    "tags": []
   },
   "outputs": [
    {
     "name": "stdout",
     "output_type": "stream",
     "text": [
      "(2, 256)\n"
     ]
    }
   ],
   "source": [
    "###################################\n",
    "# Build the model\n",
    "###################################\n",
    "model = Steves_Prototypical_Network(x_net, device=p.device, x_shape=(2,256))\n",
    "optimizer = Adam(params=model.parameters(), lr=p.lr)"
   ]
  },
  {
   "cell_type": "code",
   "execution_count": 13,
   "id": "22b39ac5",
   "metadata": {
    "execution": {
     "iopub.execute_input": "2022-04-01T15:08:56.930593Z",
     "iopub.status.busy": "2022-04-01T15:08:56.930346Z",
     "iopub.status.idle": "2022-04-01T15:19:35.936810Z",
     "shell.execute_reply": "2022-04-01T15:19:35.936572Z"
    },
    "papermill": {
     "duration": 639.019783,
     "end_time": "2022-04-01T15:19:35.936868",
     "exception": false,
     "start_time": "2022-04-01T15:08:56.917085",
     "status": "completed"
    },
    "tags": []
   },
   "outputs": [
    {
     "name": "stdout",
     "output_type": "stream",
     "text": [
      "epoch: 1, [batch: 1 / 2520], examples_per_second: 130.3654, train_label_loss: 2.7254, \n"
     ]
    },
    {
     "name": "stdout",
     "output_type": "stream",
     "text": [
      "epoch: 1, [batch: 252 / 2520], examples_per_second: 3217.2890, train_label_loss: 1.3041, \n"
     ]
    },
    {
     "name": "stdout",
     "output_type": "stream",
     "text": [
      "epoch: 1, [batch: 504 / 2520], examples_per_second: 3216.1772, train_label_loss: 1.1726, \n"
     ]
    },
    {
     "name": "stdout",
     "output_type": "stream",
     "text": [
      "epoch: 1, [batch: 756 / 2520], examples_per_second: 3211.6074, train_label_loss: 1.0861, \n"
     ]
    },
    {
     "name": "stdout",
     "output_type": "stream",
     "text": [
      "epoch: 1, [batch: 1008 / 2520], examples_per_second: 3189.4871, train_label_loss: 1.0688, \n"
     ]
    },
    {
     "name": "stdout",
     "output_type": "stream",
     "text": [
      "epoch: 1, [batch: 1260 / 2520], examples_per_second: 3205.3184, train_label_loss: 1.1058, \n"
     ]
    },
    {
     "name": "stdout",
     "output_type": "stream",
     "text": [
      "epoch: 1, [batch: 1512 / 2520], examples_per_second: 3187.0933, train_label_loss: 1.0042, \n"
     ]
    },
    {
     "name": "stdout",
     "output_type": "stream",
     "text": [
      "epoch: 1, [batch: 1764 / 2520], examples_per_second: 3190.6958, train_label_loss: 1.0315, \n"
     ]
    },
    {
     "name": "stdout",
     "output_type": "stream",
     "text": [
      "epoch: 1, [batch: 2016 / 2520], examples_per_second: 3215.7517, train_label_loss: 0.7732, \n"
     ]
    },
    {
     "name": "stdout",
     "output_type": "stream",
     "text": [
      "epoch: 1, [batch: 2268 / 2520], examples_per_second: 3195.1563, train_label_loss: 0.8819, \n"
     ]
    },
    {
     "name": "stdout",
     "output_type": "stream",
     "text": [
      "=============================================================\n",
      "epoch: 1, source_val_acc_label: 0.5135, target_val_acc_label: 0.4137, source_val_label_loss: 2.3645, target_val_label_loss: 2.8589, \n",
      "=============================================================\n"
     ]
    },
    {
     "name": "stdout",
     "output_type": "stream",
     "text": [
      "New best\n"
     ]
    },
    {
     "name": "stdout",
     "output_type": "stream",
     "text": [
      "epoch: 2, [batch: 1 / 2520], examples_per_second: 11.2621, train_label_loss: 6.2199, \n"
     ]
    },
    {
     "name": "stdout",
     "output_type": "stream",
     "text": [
      "epoch: 2, [batch: 252 / 2520], examples_per_second: 3204.9103, train_label_loss: 1.2702, \n"
     ]
    },
    {
     "name": "stdout",
     "output_type": "stream",
     "text": [
      "epoch: 2, [batch: 504 / 2520], examples_per_second: 3230.8338, train_label_loss: 0.5602, \n"
     ]
    },
    {
     "name": "stdout",
     "output_type": "stream",
     "text": [
      "epoch: 2, [batch: 756 / 2520], examples_per_second: 3212.6977, train_label_loss: 1.0151, \n"
     ]
    },
    {
     "name": "stdout",
     "output_type": "stream",
     "text": [
      "epoch: 2, [batch: 1008 / 2520], examples_per_second: 3179.2053, train_label_loss: 1.0757, \n"
     ]
    },
    {
     "name": "stdout",
     "output_type": "stream",
     "text": [
      "epoch: 2, [batch: 1260 / 2520], examples_per_second: 3198.7235, train_label_loss: 0.9026, \n"
     ]
    },
    {
     "name": "stdout",
     "output_type": "stream",
     "text": [
      "epoch: 2, [batch: 1512 / 2520], examples_per_second: 3203.8876, train_label_loss: 0.4356, \n"
     ]
    },
    {
     "name": "stdout",
     "output_type": "stream",
     "text": [
      "epoch: 2, [batch: 1764 / 2520], examples_per_second: 3207.9071, train_label_loss: 0.2780, \n"
     ]
    },
    {
     "name": "stdout",
     "output_type": "stream",
     "text": [
      "epoch: 2, [batch: 2016 / 2520], examples_per_second: 3202.7696, train_label_loss: 0.4719, \n"
     ]
    },
    {
     "name": "stdout",
     "output_type": "stream",
     "text": [
      "epoch: 2, [batch: 2268 / 2520], examples_per_second: 3226.3114, train_label_loss: 0.3196, \n"
     ]
    },
    {
     "name": "stdout",
     "output_type": "stream",
     "text": [
      "=============================================================\n",
      "epoch: 2, source_val_acc_label: 0.8049, target_val_acc_label: 0.6426, source_val_label_loss: 0.5210, target_val_label_loss: 1.0573, \n",
      "=============================================================\n"
     ]
    },
    {
     "name": "stdout",
     "output_type": "stream",
     "text": [
      "New best\n"
     ]
    },
    {
     "name": "stdout",
     "output_type": "stream",
     "text": [
      "epoch: 3, [batch: 1 / 2520], examples_per_second: 11.2246, train_label_loss: 0.7650, \n"
     ]
    },
    {
     "name": "stdout",
     "output_type": "stream",
     "text": [
      "epoch: 3, [batch: 252 / 2520], examples_per_second: 3199.1396, train_label_loss: 0.4193, \n"
     ]
    },
    {
     "name": "stdout",
     "output_type": "stream",
     "text": [
      "epoch: 3, [batch: 504 / 2520], examples_per_second: 3210.1960, train_label_loss: 0.7413, \n"
     ]
    },
    {
     "name": "stdout",
     "output_type": "stream",
     "text": [
      "epoch: 3, [batch: 756 / 2520], examples_per_second: 3205.3510, train_label_loss: 0.2207, \n"
     ]
    },
    {
     "name": "stdout",
     "output_type": "stream",
     "text": [
      "epoch: 3, [batch: 1008 / 2520], examples_per_second: 3210.3254, train_label_loss: 0.3064, \n"
     ]
    },
    {
     "name": "stdout",
     "output_type": "stream",
     "text": [
      "epoch: 3, [batch: 1260 / 2520], examples_per_second: 3207.4632, train_label_loss: 0.5199, \n"
     ]
    },
    {
     "name": "stdout",
     "output_type": "stream",
     "text": [
      "epoch: 3, [batch: 1512 / 2520], examples_per_second: 3203.4431, train_label_loss: 0.5583, \n"
     ]
    },
    {
     "name": "stdout",
     "output_type": "stream",
     "text": [
      "epoch: 3, [batch: 1764 / 2520], examples_per_second: 3208.9595, train_label_loss: 0.1505, \n"
     ]
    },
    {
     "name": "stdout",
     "output_type": "stream",
     "text": [
      "epoch: 3, [batch: 2016 / 2520], examples_per_second: 3211.5301, train_label_loss: 0.4076, \n"
     ]
    },
    {
     "name": "stdout",
     "output_type": "stream",
     "text": [
      "epoch: 3, [batch: 2268 / 2520], examples_per_second: 3201.3420, train_label_loss: 0.1612, \n"
     ]
    },
    {
     "name": "stdout",
     "output_type": "stream",
     "text": [
      "=============================================================\n",
      "epoch: 3, source_val_acc_label: 0.8244, target_val_acc_label: 0.6655, source_val_label_loss: 0.4741, target_val_label_loss: 1.0083, \n",
      "=============================================================\n"
     ]
    },
    {
     "name": "stdout",
     "output_type": "stream",
     "text": [
      "New best\n"
     ]
    },
    {
     "name": "stdout",
     "output_type": "stream",
     "text": [
      "epoch: 4, [batch: 1 / 2520], examples_per_second: 11.2252, train_label_loss: 0.1650, \n"
     ]
    },
    {
     "name": "stdout",
     "output_type": "stream",
     "text": [
      "epoch: 4, [batch: 252 / 2520], examples_per_second: 3184.5243, train_label_loss: 0.5409, \n"
     ]
    },
    {
     "name": "stdout",
     "output_type": "stream",
     "text": [
      "epoch: 4, [batch: 504 / 2520], examples_per_second: 3200.8469, train_label_loss: 0.1442, \n"
     ]
    },
    {
     "name": "stdout",
     "output_type": "stream",
     "text": [
      "epoch: 4, [batch: 756 / 2520], examples_per_second: 3226.3801, train_label_loss: 0.3501, \n"
     ]
    },
    {
     "name": "stdout",
     "output_type": "stream",
     "text": [
      "epoch: 4, [batch: 1008 / 2520], examples_per_second: 3210.8633, train_label_loss: 0.0658, \n"
     ]
    },
    {
     "name": "stdout",
     "output_type": "stream",
     "text": [
      "epoch: 4, [batch: 1260 / 2520], examples_per_second: 3203.6236, train_label_loss: 0.2173, \n"
     ]
    },
    {
     "name": "stdout",
     "output_type": "stream",
     "text": [
      "epoch: 4, [batch: 1512 / 2520], examples_per_second: 3217.3544, train_label_loss: 0.4526, \n"
     ]
    },
    {
     "name": "stdout",
     "output_type": "stream",
     "text": [
      "epoch: 4, [batch: 1764 / 2520], examples_per_second: 3193.6857, train_label_loss: 0.0797, \n"
     ]
    },
    {
     "name": "stdout",
     "output_type": "stream",
     "text": [
      "epoch: 4, [batch: 2016 / 2520], examples_per_second: 3189.8555, train_label_loss: 0.1477, \n"
     ]
    },
    {
     "name": "stdout",
     "output_type": "stream",
     "text": [
      "epoch: 4, [batch: 2268 / 2520], examples_per_second: 3205.2561, train_label_loss: 0.4081, \n"
     ]
    },
    {
     "name": "stdout",
     "output_type": "stream",
     "text": [
      "=============================================================\n",
      "epoch: 4, source_val_acc_label: 0.8346, target_val_acc_label: 0.6632, source_val_label_loss: 0.4562, target_val_label_loss: 1.0752, \n",
      "=============================================================\n"
     ]
    },
    {
     "name": "stdout",
     "output_type": "stream",
     "text": [
      "epoch: 5, [batch: 1 / 2520], examples_per_second: 11.1916, train_label_loss: 0.0636, \n"
     ]
    },
    {
     "name": "stdout",
     "output_type": "stream",
     "text": [
      "epoch: 5, [batch: 252 / 2520], examples_per_second: 3200.1302, train_label_loss: 0.0851, \n"
     ]
    },
    {
     "name": "stdout",
     "output_type": "stream",
     "text": [
      "epoch: 5, [batch: 504 / 2520], examples_per_second: 3192.8600, train_label_loss: 0.1097, \n"
     ]
    },
    {
     "name": "stdout",
     "output_type": "stream",
     "text": [
      "epoch: 5, [batch: 756 / 2520], examples_per_second: 3191.4605, train_label_loss: 0.2075, \n"
     ]
    },
    {
     "name": "stdout",
     "output_type": "stream",
     "text": [
      "epoch: 5, [batch: 1008 / 2520], examples_per_second: 3191.2920, train_label_loss: 0.4076, \n"
     ]
    },
    {
     "name": "stdout",
     "output_type": "stream",
     "text": [
      "epoch: 5, [batch: 1260 / 2520], examples_per_second: 3207.8142, train_label_loss: 0.2764, \n"
     ]
    },
    {
     "name": "stdout",
     "output_type": "stream",
     "text": [
      "epoch: 5, [batch: 1512 / 2520], examples_per_second: 3173.3332, train_label_loss: 0.0778, \n"
     ]
    },
    {
     "name": "stdout",
     "output_type": "stream",
     "text": [
      "epoch: 5, [batch: 1764 / 2520], examples_per_second: 3190.7263, train_label_loss: 0.5430, \n"
     ]
    },
    {
     "name": "stdout",
     "output_type": "stream",
     "text": [
      "epoch: 5, [batch: 2016 / 2520], examples_per_second: 3203.6374, train_label_loss: 0.2409, \n"
     ]
    },
    {
     "name": "stdout",
     "output_type": "stream",
     "text": [
      "epoch: 5, [batch: 2268 / 2520], examples_per_second: 3192.6870, train_label_loss: 0.4328, \n"
     ]
    },
    {
     "name": "stdout",
     "output_type": "stream",
     "text": [
      "=============================================================\n",
      "epoch: 5, source_val_acc_label: 0.8287, target_val_acc_label: 0.6704, source_val_label_loss: 0.4876, target_val_label_loss: 1.0604, \n",
      "=============================================================\n"
     ]
    },
    {
     "name": "stdout",
     "output_type": "stream",
     "text": [
      "New best\n"
     ]
    },
    {
     "name": "stdout",
     "output_type": "stream",
     "text": [
      "epoch: 6, [batch: 1 / 2520], examples_per_second: 11.1453, train_label_loss: 0.0401, \n"
     ]
    },
    {
     "name": "stdout",
     "output_type": "stream",
     "text": [
      "epoch: 6, [batch: 252 / 2520], examples_per_second: 3194.9796, train_label_loss: 0.0405, \n"
     ]
    },
    {
     "name": "stdout",
     "output_type": "stream",
     "text": [
      "epoch: 6, [batch: 504 / 2520], examples_per_second: 3202.5673, train_label_loss: 0.2692, \n"
     ]
    },
    {
     "name": "stdout",
     "output_type": "stream",
     "text": [
      "epoch: 6, [batch: 756 / 2520], examples_per_second: 3209.2916, train_label_loss: 0.2242, \n"
     ]
    },
    {
     "name": "stdout",
     "output_type": "stream",
     "text": [
      "epoch: 6, [batch: 1008 / 2520], examples_per_second: 3198.4178, train_label_loss: 0.2735, \n"
     ]
    },
    {
     "name": "stdout",
     "output_type": "stream",
     "text": [
      "epoch: 6, [batch: 1260 / 2520], examples_per_second: 3189.0260, train_label_loss: 0.0902, \n"
     ]
    },
    {
     "name": "stdout",
     "output_type": "stream",
     "text": [
      "epoch: 6, [batch: 1512 / 2520], examples_per_second: 3213.7827, train_label_loss: 0.4150, \n"
     ]
    },
    {
     "name": "stdout",
     "output_type": "stream",
     "text": [
      "epoch: 6, [batch: 1764 / 2520], examples_per_second: 3201.0824, train_label_loss: 0.3013, \n"
     ]
    },
    {
     "name": "stdout",
     "output_type": "stream",
     "text": [
      "epoch: 6, [batch: 2016 / 2520], examples_per_second: 3193.8248, train_label_loss: 0.1245, \n"
     ]
    },
    {
     "name": "stdout",
     "output_type": "stream",
     "text": [
      "epoch: 6, [batch: 2268 / 2520], examples_per_second: 3176.7931, train_label_loss: 0.0747, \n"
     ]
    },
    {
     "name": "stdout",
     "output_type": "stream",
     "text": [
      "=============================================================\n",
      "epoch: 6, source_val_acc_label: 0.8281, target_val_acc_label: 0.6579, source_val_label_loss: 0.5109, target_val_label_loss: 1.1147, \n",
      "=============================================================\n"
     ]
    },
    {
     "name": "stdout",
     "output_type": "stream",
     "text": [
      "epoch: 7, [batch: 1 / 2520], examples_per_second: 11.2424, train_label_loss: 0.1774, \n"
     ]
    },
    {
     "name": "stdout",
     "output_type": "stream",
     "text": [
      "epoch: 7, [batch: 252 / 2520], examples_per_second: 3162.1509, train_label_loss: 0.2441, \n"
     ]
    },
    {
     "name": "stdout",
     "output_type": "stream",
     "text": [
      "epoch: 7, [batch: 504 / 2520], examples_per_second: 3178.8330, train_label_loss: 0.1698, \n"
     ]
    },
    {
     "name": "stdout",
     "output_type": "stream",
     "text": [
      "epoch: 7, [batch: 756 / 2520], examples_per_second: 3191.7102, train_label_loss: 0.0371, \n"
     ]
    },
    {
     "name": "stdout",
     "output_type": "stream",
     "text": [
      "epoch: 7, [batch: 1008 / 2520], examples_per_second: 3171.1162, train_label_loss: 0.2034, \n"
     ]
    },
    {
     "name": "stdout",
     "output_type": "stream",
     "text": [
      "epoch: 7, [batch: 1260 / 2520], examples_per_second: 3201.4191, train_label_loss: 0.0939, \n"
     ]
    },
    {
     "name": "stdout",
     "output_type": "stream",
     "text": [
      "epoch: 7, [batch: 1512 / 2520], examples_per_second: 3180.4634, train_label_loss: 0.1079, \n"
     ]
    },
    {
     "name": "stdout",
     "output_type": "stream",
     "text": [
      "epoch: 7, [batch: 1764 / 2520], examples_per_second: 3176.0557, train_label_loss: 0.0221, \n"
     ]
    },
    {
     "name": "stdout",
     "output_type": "stream",
     "text": [
      "epoch: 7, [batch: 2016 / 2520], examples_per_second: 3192.5298, train_label_loss: 0.0046, \n"
     ]
    },
    {
     "name": "stdout",
     "output_type": "stream",
     "text": [
      "epoch: 7, [batch: 2268 / 2520], examples_per_second: 3198.3533, train_label_loss: 0.0993, \n"
     ]
    },
    {
     "name": "stdout",
     "output_type": "stream",
     "text": [
      "=============================================================\n",
      "epoch: 7, source_val_acc_label: 0.8238, target_val_acc_label: 0.6607, source_val_label_loss: 0.5481, target_val_label_loss: 1.2074, \n",
      "=============================================================\n"
     ]
    },
    {
     "name": "stdout",
     "output_type": "stream",
     "text": [
      "epoch: 8, [batch: 1 / 2520], examples_per_second: 11.2052, train_label_loss: 0.0242, \n"
     ]
    },
    {
     "name": "stdout",
     "output_type": "stream",
     "text": [
      "epoch: 8, [batch: 252 / 2520], examples_per_second: 3185.6976, train_label_loss: 0.2969, \n"
     ]
    },
    {
     "name": "stdout",
     "output_type": "stream",
     "text": [
      "epoch: 8, [batch: 504 / 2520], examples_per_second: 3184.1941, train_label_loss: 0.2082, \n"
     ]
    },
    {
     "name": "stdout",
     "output_type": "stream",
     "text": [
      "epoch: 8, [batch: 756 / 2520], examples_per_second: 3198.4800, train_label_loss: 0.1775, \n"
     ]
    },
    {
     "name": "stdout",
     "output_type": "stream",
     "text": [
      "epoch: 8, [batch: 1008 / 2520], examples_per_second: 3176.3653, train_label_loss: 0.0900, \n"
     ]
    },
    {
     "name": "stdout",
     "output_type": "stream",
     "text": [
      "epoch: 8, [batch: 1260 / 2520], examples_per_second: 3196.4267, train_label_loss: 0.0197, \n"
     ]
    },
    {
     "name": "stdout",
     "output_type": "stream",
     "text": [
      "epoch: 8, [batch: 1512 / 2520], examples_per_second: 3197.2644, train_label_loss: 0.1986, \n"
     ]
    },
    {
     "name": "stdout",
     "output_type": "stream",
     "text": [
      "epoch: 8, [batch: 1764 / 2520], examples_per_second: 3198.7638, train_label_loss: 0.0022, \n"
     ]
    },
    {
     "name": "stdout",
     "output_type": "stream",
     "text": [
      "epoch: 8, [batch: 2016 / 2520], examples_per_second: 3190.4804, train_label_loss: 0.0595, \n"
     ]
    },
    {
     "name": "stdout",
     "output_type": "stream",
     "text": [
      "epoch: 8, [batch: 2268 / 2520], examples_per_second: 3201.8581, train_label_loss: 0.0799, \n"
     ]
    },
    {
     "name": "stdout",
     "output_type": "stream",
     "text": [
      "=============================================================\n",
      "epoch: 8, source_val_acc_label: 0.8227, target_val_acc_label: 0.6585, source_val_label_loss: 0.5884, target_val_label_loss: 1.2654, \n",
      "=============================================================\n"
     ]
    },
    {
     "name": "stdout",
     "output_type": "stream",
     "text": [
      "epoch: 9, [batch: 1 / 2520], examples_per_second: 11.1837, train_label_loss: 0.0538, \n"
     ]
    },
    {
     "name": "stdout",
     "output_type": "stream",
     "text": [
      "epoch: 9, [batch: 252 / 2520], examples_per_second: 3168.6814, train_label_loss: 0.3577, \n"
     ]
    },
    {
     "name": "stdout",
     "output_type": "stream",
     "text": [
      "epoch: 9, [batch: 504 / 2520], examples_per_second: 3185.7922, train_label_loss: 0.1134, \n"
     ]
    },
    {
     "name": "stdout",
     "output_type": "stream",
     "text": [
      "epoch: 9, [batch: 756 / 2520], examples_per_second: 3187.8198, train_label_loss: 0.1952, \n"
     ]
    },
    {
     "name": "stdout",
     "output_type": "stream",
     "text": [
      "epoch: 9, [batch: 1008 / 2520], examples_per_second: 3190.2474, train_label_loss: 0.0755, \n"
     ]
    },
    {
     "name": "stdout",
     "output_type": "stream",
     "text": [
      "epoch: 9, [batch: 1260 / 2520], examples_per_second: 3201.9712, train_label_loss: 0.0071, \n"
     ]
    },
    {
     "name": "stdout",
     "output_type": "stream",
     "text": [
      "epoch: 9, [batch: 1512 / 2520], examples_per_second: 3185.5407, train_label_loss: 0.2037, \n"
     ]
    },
    {
     "name": "stdout",
     "output_type": "stream",
     "text": [
      "epoch: 9, [batch: 1764 / 2520], examples_per_second: 3184.7846, train_label_loss: 0.0318, \n"
     ]
    },
    {
     "name": "stdout",
     "output_type": "stream",
     "text": [
      "epoch: 9, [batch: 2016 / 2520], examples_per_second: 3189.8745, train_label_loss: 0.1495, \n"
     ]
    },
    {
     "name": "stdout",
     "output_type": "stream",
     "text": [
      "epoch: 9, [batch: 2268 / 2520], examples_per_second: 3195.3490, train_label_loss: 0.0955, \n"
     ]
    },
    {
     "name": "stdout",
     "output_type": "stream",
     "text": [
      "=============================================================\n",
      "epoch: 9, source_val_acc_label: 0.8219, target_val_acc_label: 0.6589, source_val_label_loss: 0.5911, target_val_label_loss: 1.3076, \n",
      "=============================================================\n"
     ]
    },
    {
     "name": "stdout",
     "output_type": "stream",
     "text": [
      "Patience (3) exhausted\n"
     ]
    }
   ],
   "source": [
    "###################################\n",
    "# train\n",
    "###################################\n",
    "jig = PTN_Train_Eval_Test_Jig(model, p.BEST_MODEL_PATH, p.device)\n",
    "\n",
    "jig.train(\n",
    "    train_iterable=datasets.source.processed.train,\n",
    "    source_val_iterable=datasets.source.processed.val,\n",
    "    target_val_iterable=datasets.target.processed.val,\n",
    "    num_epochs=p.n_epoch,\n",
    "    num_logs_per_epoch=p.NUM_LOGS_PER_EPOCH,\n",
    "    patience=p.patience,\n",
    "    optimizer=optimizer,\n",
    "    criteria_for_best=p.criteria_for_best,\n",
    ")"
   ]
  },
  {
   "cell_type": "code",
   "execution_count": 14,
   "id": "31e8fabf",
   "metadata": {
    "execution": {
     "iopub.execute_input": "2022-04-01T15:19:35.997460Z",
     "iopub.status.busy": "2022-04-01T15:19:35.997212Z",
     "iopub.status.idle": "2022-04-01T15:19:36.016160Z",
     "shell.execute_reply": "2022-04-01T15:19:36.015706Z"
    },
    "papermill": {
     "duration": 0.050637,
     "end_time": "2022-04-01T15:19:36.016249",
     "exception": false,
     "start_time": "2022-04-01T15:19:35.965612",
     "status": "completed"
    },
    "tags": []
   },
   "outputs": [],
   "source": [
    "total_experiment_time_secs = time.time() - start_time_secs"
   ]
  },
  {
   "cell_type": "code",
   "execution_count": 15,
   "id": "87b9595b",
   "metadata": {
    "execution": {
     "iopub.execute_input": "2022-04-01T15:19:36.084709Z",
     "iopub.status.busy": "2022-04-01T15:19:36.084443Z",
     "iopub.status.idle": "2022-04-01T15:20:24.286155Z",
     "shell.execute_reply": "2022-04-01T15:20:24.285692Z"
    },
    "papermill": {
     "duration": 48.236011,
     "end_time": "2022-04-01T15:20:24.286264",
     "exception": false,
     "start_time": "2022-04-01T15:19:36.050253",
     "status": "completed"
    },
    "tags": []
   },
   "outputs": [],
   "source": [
    "###################################\n",
    "# Evaluate the model\n",
    "###################################\n",
    "source_test_label_accuracy, source_test_label_loss = jig.test(datasets.source.processed.test)\n",
    "target_test_label_accuracy, target_test_label_loss = jig.test(datasets.target.processed.test)\n",
    "\n",
    "source_val_label_accuracy, source_val_label_loss = jig.test(datasets.source.processed.val)\n",
    "target_val_label_accuracy, target_val_label_loss = jig.test(datasets.target.processed.val)\n",
    "\n",
    "history = jig.get_history()\n",
    "\n",
    "total_epochs_trained = len(history[\"epoch_indices\"])\n",
    "\n",
    "val_dl = Iterable_Aggregator((datasets.source.original.val,datasets.target.original.val))\n",
    "\n",
    "confusion = ptn_confusion_by_domain_over_dataloader(model, p.device, val_dl)\n",
    "per_domain_accuracy = per_domain_accuracy_from_confusion(confusion)\n",
    "\n",
    "# Add a key to per_domain_accuracy for if it was a source domain\n",
    "for domain, accuracy in per_domain_accuracy.items():\n",
    "    per_domain_accuracy[domain] = {\n",
    "        \"accuracy\": accuracy,\n",
    "        \"source?\": domain in p.domains_source\n",
    "    }\n",
    "\n",
    "# Do an independent accuracy assesment JUST TO BE SURE!\n",
    "# _source_test_label_accuracy = independent_accuracy_assesment(model, datasets.source.processed.test, p.device)\n",
    "# _target_test_label_accuracy = independent_accuracy_assesment(model, datasets.target.processed.test, p.device)\n",
    "# _source_val_label_accuracy = independent_accuracy_assesment(model, datasets.source.processed.val, p.device)\n",
    "# _target_val_label_accuracy = independent_accuracy_assesment(model, datasets.target.processed.val, p.device)\n",
    "\n",
    "# assert(_source_test_label_accuracy == source_test_label_accuracy)\n",
    "# assert(_target_test_label_accuracy == target_test_label_accuracy)\n",
    "# assert(_source_val_label_accuracy == source_val_label_accuracy)\n",
    "# assert(_target_val_label_accuracy == target_val_label_accuracy)\n",
    "\n",
    "experiment = {\n",
    "    \"experiment_name\": p.experiment_name,\n",
    "    \"parameters\": dict(p),\n",
    "    \"results\": {\n",
    "        \"source_test_label_accuracy\": source_test_label_accuracy,\n",
    "        \"source_test_label_loss\": source_test_label_loss,\n",
    "        \"target_test_label_accuracy\": target_test_label_accuracy,\n",
    "        \"target_test_label_loss\": target_test_label_loss,\n",
    "        \"source_val_label_accuracy\": source_val_label_accuracy,\n",
    "        \"source_val_label_loss\": source_val_label_loss,\n",
    "        \"target_val_label_accuracy\": target_val_label_accuracy,\n",
    "        \"target_val_label_loss\": target_val_label_loss,\n",
    "        \"total_epochs_trained\": total_epochs_trained,\n",
    "        \"total_experiment_time_secs\": total_experiment_time_secs,\n",
    "        \"confusion\": confusion,\n",
    "        \"per_domain_accuracy\": per_domain_accuracy,\n",
    "    },\n",
    "    \"history\": history,\n",
    "    \"dataset_metrics\": get_dataset_metrics(datasets, \"ptn\"),\n",
    "}"
   ]
  },
  {
   "cell_type": "code",
   "execution_count": 16,
   "id": "54a21829",
   "metadata": {
    "execution": {
     "iopub.execute_input": "2022-04-01T15:20:24.354546Z",
     "iopub.status.busy": "2022-04-01T15:20:24.353280Z",
     "iopub.status.idle": "2022-04-01T15:20:24.484321Z",
     "shell.execute_reply": "2022-04-01T15:20:24.484764Z"
    },
    "papermill": {
     "duration": 0.162565,
     "end_time": "2022-04-01T15:20:24.484887",
     "exception": false,
     "start_time": "2022-04-01T15:20:24.322322",
     "status": "completed"
    },
    "tags": []
   },
   "outputs": [
    {
     "data": {
      "image/png": "[encoded data removed]",
      "text/plain": [
       "<Figure size 1080x504 with 1 Axes>"
      ]
     },
     "metadata": {
      "needs_background": "light"
     },
     "output_type": "display_data"
    }
   ],
   "source": [
    "ax = get_loss_curve(experiment)\n",
    "plt.show()"
   ]
  },
  {
   "cell_type": "code",
   "execution_count": 17,
   "id": "fd8a0f60",
   "metadata": {
    "execution": {
     "iopub.execute_input": "2022-04-01T15:20:24.552154Z",
     "iopub.status.busy": "2022-04-01T15:20:24.551886Z",
     "iopub.status.idle": "2022-04-01T15:20:24.697544Z",
     "shell.execute_reply": "2022-04-01T15:20:24.697757Z"
    },
    "papermill": {
     "duration": 0.178897,
     "end_time": "2022-04-01T15:20:24.697818",
     "exception": false,
     "start_time": "2022-04-01T15:20:24.518921",
     "status": "completed"
    },
    "tags": []
   },
   "outputs": [
    {
     "data": {
      "text/plain": [
       "<AxesSubplot:title={'center':'Results'}>"
      ]
     },
     "execution_count": 17,
     "metadata": {},
     "output_type": "execute_result"
    },
    {
     "data": {
      "image/png": "[encoded data removed]",
      "text/plain": [
       "<Figure size 1080x504 with 1 Axes>"
      ]
     },
     "metadata": {
      "needs_background": "light"
     },
     "output_type": "display_data"
    }
   ],
   "source": [
    "get_results_table(experiment)"
   ]
  },
  {
   "cell_type": "code",
   "execution_count": 18,
   "id": "cf8dc689",
   "metadata": {
    "execution": {
     "iopub.execute_input": "2022-04-01T15:20:24.764364Z",
     "iopub.status.busy": "2022-04-01T15:20:24.763533Z",
     "iopub.status.idle": "2022-04-01T15:20:24.880808Z",
     "shell.execute_reply": "2022-04-01T15:20:24.880363Z"
    },
    "papermill": {
     "duration": 0.150926,
     "end_time": "2022-04-01T15:20:24.880899",
     "exception": false,
     "start_time": "2022-04-01T15:20:24.729973",
     "status": "completed"
    },
    "tags": []
   },
   "outputs": [
    {
     "data": {
      "text/plain": [
       "<AxesSubplot:title={'center':'Per Domain Validation Accuracy'}, xlabel='domain'>"
      ]
     },
     "execution_count": 18,
     "metadata": {},
     "output_type": "execute_result"
    },
    {
     "data": {
      "image/png": "[encoded data removed]",
      "text/plain": [
       "<Figure size 1080x504 with 1 Axes>"
      ]
     },
     "metadata": {
      "needs_background": "light"
     },
     "output_type": "display_data"
    }
   ],
   "source": [
    "get_domain_accuracies(experiment)"
   ]
  },
  {
   "cell_type": "code",
   "execution_count": 19,
   "id": "a74ae082",
   "metadata": {
    "execution": {
     "iopub.execute_input": "2022-04-01T15:20:24.955183Z",
     "iopub.status.busy": "2022-04-01T15:20:24.953368Z",
     "iopub.status.idle": "2022-04-01T15:20:24.969160Z",
     "shell.execute_reply": "2022-04-01T15:20:24.968690Z"
    },
    "papermill": {
     "duration": 0.050906,
     "end_time": "2022-04-01T15:20:24.969254",
     "exception": false,
     "start_time": "2022-04-01T15:20:24.918348",
     "status": "completed"
    },
    "tags": []
   },
   "outputs": [
    {
     "name": "stdout",
     "output_type": "stream",
     "text": [
      "Source Test Label Accuracy: 0.8317708333333333 Target Test Label Accuracy: 0.6727604166666666\n",
      "Source Val Label Accuracy: 0.8287326388888889 Target Val Label Accuracy: 0.6703645833333334\n"
     ]
    }
   ],
   "source": [
    "print(\"Source Test Label Accuracy:\", experiment[\"results\"][\"source_test_label_accuracy\"], \"Target Test Label Accuracy:\", experiment[\"results\"][\"target_test_label_accuracy\"])\n",
    "print(\"Source Val Label Accuracy:\", experiment[\"results\"][\"source_val_label_accuracy\"], \"Target Val Label Accuracy:\", experiment[\"results\"][\"target_val_label_accuracy\"])"
   ]
  },
  {
   "cell_type": "code",
   "execution_count": 20,
   "id": "dacca602",
   "metadata": {
    "execution": {
     "iopub.execute_input": "2022-04-01T15:20:25.041326Z",
     "iopub.status.busy": "2022-04-01T15:20:25.041072Z",
     "iopub.status.idle": "2022-04-01T15:20:25.057717Z",
     "shell.execute_reply": "2022-04-01T15:20:25.057323Z"
    },
    "papermill": {
     "duration": 0.050919,
     "end_time": "2022-04-01T15:20:25.057806",
     "exception": false,
     "start_time": "2022-04-01T15:20:25.006887",
     "status": "completed"
    },
    "tags": [
     "experiment_json"
    ]
   },
   "outputs": [
    {
     "data": {
      "text/plain": [
       "'{\"experiment_name\": \"tuned_1v2:oracle.run2_limited\", \"parameters\": {\"experiment_name\": \"tuned_1v2:oracle.run2_limited\", \"device\": \"cuda\", \"lr\": 0.0001, \"labels_source\": [\"3123D52\", \"3123D65\", \"3123D79\", \"3123D80\", \"3123D54\", \"3123D70\", \"3123D7B\", \"3123D89\", \"3123D58\", \"3123D76\", \"3123D7D\", \"3123EFE\", \"3123D64\", \"3123D78\", \"3123D7E\", \"3124E4A\"], \"labels_target\": [\"3123D52\", \"3123D65\", \"3123D79\", \"3123D80\", \"3123D54\", \"3123D70\", \"3123D7B\", \"3123D89\", \"3123D58\", \"3123D76\", \"3123D7D\", \"3123EFE\", \"3123D64\", \"3123D78\", \"3123D7E\", \"3124E4A\"], \"episode_transforms_source\": [], \"episode_transforms_target\": [], \"domains_source\": [8, 32, 50], \"domains_target\": [14, 20, 26, 38, 44], \"num_examples_per_domain_per_label_source\": 2000, \"num_examples_per_domain_per_label_target\": 2000, \"n_shot\": 3, \"n_way\": 16, \"n_query\": 2, \"train_k_factor\": 3, \"val_k_factor\": 2, \"test_k_factor\": 2, \"torch_default_dtype\": \"torch.float32\", \"n_epoch\": 50, \"patience\": 3, \"criteria_for_best\": \"target_accuracy\", \"x_net\": [{\"class\": \"nnReshape\", \"kargs\": {\"shape\": [-1, 1, 2, 256]}}, {\"class\": \"Conv2d\", \"kargs\": {\"in_channels\": 1, \"out_channels\": 256, \"kernel_size\": [1, 7], \"bias\": false, \"padding\": [0, 3]}}, {\"class\": \"ReLU\", \"kargs\": {\"inplace\": true}}, {\"class\": \"BatchNorm2d\", \"kargs\": {\"num_features\": 256}}, {\"class\": \"Conv2d\", \"kargs\": {\"in_channels\": 256, \"out_channels\": 80, \"kernel_size\": [2, 7], \"bias\": true, \"padding\": [0, 3]}}, {\"class\": \"ReLU\", \"kargs\": {\"inplace\": true}}, {\"class\": \"BatchNorm2d\", \"kargs\": {\"num_features\": 80}}, {\"class\": \"Flatten\", \"kargs\": {}}, {\"class\": \"Linear\", \"kargs\": {\"in_features\": 20480, \"out_features\": 256}}, {\"class\": \"ReLU\", \"kargs\": {\"inplace\": true}}, {\"class\": \"BatchNorm1d\", \"kargs\": {\"num_features\": 256}}, {\"class\": \"Linear\", \"kargs\": {\"in_features\": 256, \"out_features\": 256}}], \"NUM_LOGS_PER_EPOCH\": 10, \"BEST_MODEL_PATH\": \"./best_model.pth\", \"pickle_name\": \"oracle.Run2_10kExamples_stratified_ds.2022A.pkl\", \"x_transforms_source\": [], \"x_transforms_target\": [], \"dataset_seed\": 154325, \"seed\": 154325}, \"results\": {\"source_test_label_accuracy\": 0.8317708333333333, \"source_test_label_loss\": 0.47673124074935913, \"target_test_label_accuracy\": 0.6727604166666666, \"target_test_label_loss\": 1.0604474544525146, \"source_val_label_accuracy\": 0.8287326388888889, \"source_val_label_loss\": 0.4875671863555908, \"target_val_label_accuracy\": 0.6703645833333334, \"target_val_label_loss\": 1.0604276657104492, \"total_epochs_trained\": 9, \"total_experiment_time_secs\": 652.7822158336639, \"confusion\": {\"32\": {\"13\": {\"13\": 205, \"4\": 4, \"3\": 8, \"11\": 23}, \"9\": {\"9\": 238, \"12\": 1, \"11\": 1}, \"15\": {\"15\": 228, \"5\": 12}, \"2\": {\"2\": 159, \"0\": 14, \"14\": 44, \"8\": 1, \"7\": 22}, \"3\": {\"3\": 225, \"13\": 13, \"4\": 1, \"11\": 1}, \"8\": {\"8\": 188, \"7\": 35, \"2\": 1, \"0\": 15, \"4\": 1}, \"5\": {\"5\": 194, \"2\": 10, \"15\": 32, \"7\": 4}, \"14\": {\"14\": 146, \"2\": 84, \"0\": 7, \"7\": 1, \"5\": 2}, \"1\": {\"1\": 240}, \"0\": {\"4\": 13, \"0\": 146, \"8\": 23, \"2\": 14, \"7\": 38, \"14\": 4, \"11\": 2}, \"10\": {\"10\": 240}, \"6\": {\"6\": 240}, \"11\": {\"13\": 48, \"4\": 73, \"11\": 109, \"0\": 9, \"3\": 1}, \"7\": {\"7\": 127, \"8\": 45, \"0\": 41, \"2\": 23, \"15\": 4}, \"4\": {\"4\": 170, \"11\": 48, \"3\": 4, \"0\": 9, \"13\": 7, \"8\": 2}, \"12\": {\"12\": 240}}, \"50\": {\"10\": {\"10\": 230, \"0\": 8, \"1\": 1, \"13\": 1}, \"12\": {\"12\": 201, \"11\": 19, \"15\": 14, \"9\": 5, \"6\": 1}, \"1\": {\"1\": 234, \"11\": 1, \"13\": 4, \"10\": 1}, \"0\": {\"0\": 204, \"2\": 23, \"10\": 13}, \"15\": {\"15\": 201, \"12\": 10, \"6\": 19, \"4\": 3, \"9\": 5, \"5\": 2}, \"13\": {\"13\": 234, \"1\": 5, \"10\": 1}, \"8\": {\"8\": 240}, \"3\": {\"3\": 240}, \"11\": {\"11\": 214, \"12\": 25, \"9\": 1}, \"4\": {\"4\": 186, \"5\": 44, \"7\": 9, \"15\": 1}, \"6\": {\"6\": 214, \"15\": 14, \"5\": 10, \"12\": 2}, \"7\": {\"7\": 230, \"4\": 8, \"5\": 2}, \"14\": {\"14\": 239, \"2\": 1}, \"2\": {\"2\": 224, \"0\": 15, \"14\": 1}, \"5\": {\"4\": 66, \"5\": 151, \"6\": 17, \"7\": 6}, \"9\": {\"15\": 14, \"9\": 220, \"12\": 6}}, \"8\": {\"14\": {\"14\": 189, \"6\": 44, \"1\": 6, \"4\": 1}, \"10\": {\"10\": 148, \"13\": 34, \"5\": 45, \"1\": 13}, \"2\": {\"2\": 234, \"15\": 3, \"12\": 1, \"13\": 2}, \"8\": {\"6\": 41, \"8\": 168, \"11\": 24, \"4\": 6, \"14\": 1}, \"6\": {\"8\": 27, \"6\": 164, \"14\": 40, \"11\": 2, \"4\": 5, \"1\": 1, \"7\": 1}, \"7\": {\"4\": 43, \"7\": 184, \"11\": 3, \"13\": 4, \"10\": 2, \"8\": 2, \"1\": 2}, \"9\": {\"9\": 240}, \"11\": {\"11\": 126, \"7\": 14, \"8\": 75, \"12\": 11, \"6\": 13, \"4\": 1}, \"12\": {\"12\": 223, \"15\": 16, \"2\": 1}, \"13\": {\"13\": 184, \"5\": 2, \"10\": 44, \"1\": 1, \"7\": 6, \"4\": 3}, \"0\": {\"0\": 240}, \"3\": {\"3\": 240}, \"4\": {\"4\": 150, \"1\": 28, \"7\": 47, \"8\": 8, \"6\": 6, \"14\": 1}, \"15\": {\"15\": 213, \"12\": 17, \"2\": 10}, \"5\": {\"5\": 139, \"10\": 79, \"1\": 16, \"13\": 6}, \"1\": {\"10\": 15, \"5\": 19, \"1\": 148, \"4\": 23, \"13\": 18, \"14\": 13, \"7\": 4}}, \"44\": {\"13\": {\"13\": 227, \"6\": 5, \"11\": 1, \"4\": 7}, \"9\": {\"9\": 139, \"7\": 89, \"6\": 11, \"10\": 1}, \"15\": {\"15\": 200, \"5\": 32, \"4\": 1, \"8\": 3, \"0\": 4}, \"2\": {\"2\": 203, \"1\": 37}, \"3\": {\"3\": 212, \"12\": 27, \"1\": 1}, \"8\": {\"8\": 179, \"5\": 20, \"0\": 41}, \"5\": {\"5\": 182, \"8\": 22, \"15\": 26, \"0\": 2, \"14\": 8}, \"14\": {\"14\": 201, \"4\": 34, \"5\": 4, \"15\": 1}, \"1\": {\"1\": 196, \"2\": 43, \"3\": 1}, \"0\": {\"0\": 172, \"8\": 62, \"5\": 4, \"15\": 2}, \"10\": {\"10\": 223, \"9\": 4, \"6\": 10, \"7\": 3}, \"6\": {\"6\": 228, \"13\": 6, \"7\": 5, \"9\": 1}, \"11\": {\"11\": 240}, \"7\": {\"9\": 79, \"7\": 150, \"6\": 9, \"10\": 2}, \"4\": {\"14\": 29, \"4\": 211}, \"12\": {\"3\": 30, \"12\": 210}}, \"38\": {\"13\": {\"13\": 147, \"10\": 42, \"3\": 50, \"4\": 1}, \"12\": {\"12\": 168, \"8\": 4, \"5\": 60, \"9\": 7, \"2\": 1}, \"2\": {\"2\": 210, \"14\": 30}, \"9\": {\"9\": 225, \"5\": 11, \"12\": 3, \"8\": 1}, \"15\": {\"1\": 62, \"15\": 141, \"6\": 37}, \"5\": {\"12\": 84, \"5\": 84, \"8\": 60, \"9\": 9, \"0\": 1, \"7\": 1, \"1\": 1}, \"14\": {\"12\": 11, \"14\": 102, \"2\": 80, \"4\": 15, \"13\": 4, \"7\": 17, \"8\": 7, \"3\": 1, \"10\": 2, \"5\": 1}, \"0\": {\"0\": 219, \"7\": 19, \"8\": 2}, \"3\": {\"13\": 77, \"3\": 73, \"10\": 66, \"4\": 22, \"11\": 2}, \"1\": {\"1\": 206, \"15\": 33, \"6\": 1}, \"11\": {\"11\": 240}, \"7\": {\"7\": 219, \"14\": 5, \"0\": 16}, \"8\": {\"8\": 201, \"5\": 28, \"2\": 1, \"12\": 3, \"14\": 3, \"9\": 2, \"7\": 1, \"0\": 1}, \"4\": {\"4\": 177, \"10\": 43, \"3\": 9, \"13\": 3, \"7\": 8}, \"10\": {\"10\": 132, \"13\": 18, \"4\": 56, \"3\": 34}, \"6\": {\"6\": 231, \"15\": 9}}, \"26\": {\"10\": {\"15\": 27, \"5\": 19, \"0\": 46, \"2\": 2, \"10\": 56, \"6\": 6, \"14\": 41, \"8\": 22, \"9\": 12, \"1\": 9}, \"12\": {\"12\": 240}, \"1\": {\"1\": 189, \"6\": 19, \"14\": 16, \"5\": 16}, \"0\": {\"10\": 43, \"0\": 90, \"15\": 64, \"14\": 28, \"8\": 8, \"2\": 4, \"7\": 1, \"9\": 1, \"5\": 1}, \"15\": {\"15\": 134, \"2\": 15, \"0\": 61, \"8\": 13, \"10\": 12, \"14\": 3, \"7\": 2}, \"13\": {\"13\": 175, \"9\": 40, \"7\": 15, \"8\": 4, \"2\": 4, \"3\": 2}, \"8\": {\"8\": 89, \"2\": 45, \"9\": 61, \"10\": 6, \"0\": 14, \"15\": 18, \"7\": 5, \"13\": 2}, \"3\": {\"3\": 192, \"7\": 44, \"13\": 2, \"2\": 2}, \"11\": {\"11\": 240}, \"4\": {\"4\": 234, \"3\": 6}, \"6\": {\"6\": 153, \"5\": 77, \"14\": 3, \"1\": 7}, \"7\": {\"2\": 32, \"7\": 117, \"9\": 14, \"13\": 13, \"3\": 61, \"8\": 3}, \"14\": {\"14\": 104, \"10\": 42, \"1\": 17, \"5\": 26, \"0\": 44, \"15\": 6, \"8\": 1}, \"2\": {\"8\": 44, \"9\": 28, \"7\": 41, \"2\": 106, \"3\": 8, \"15\": 10, \"0\": 2, \"13\": 1}, \"5\": {\"6\": 107, \"0\": 8, \"1\": 29, \"5\": 60, \"14\": 18, \"10\": 18}, \"9\": {\"9\": 109, \"13\": 27, \"2\": 22, \"8\": 60, \"7\": 15, \"10\": 3, \"15\": 2, \"0\": 1, \"12\": 1}}, \"20\": {\"5\": {\"2\": 49, \"3\": 30, \"9\": 24, \"5\": 62, \"0\": 3, \"7\": 8, \"4\": 16, \"1\": 29, \"15\": 16, \"11\": 2, \"8\": 1}, \"15\": {\"15\": 92, \"13\": 14, \"2\": 28, \"4\": 12, \"3\": 12, \"9\": 36, \"5\": 17, \"12\": 11, \"1\": 18}, \"9\": {\"9\": 45, \"5\": 31, \"3\": 27, \"2\": 37, \"15\": 54, \"4\": 28, \"12\": 4, \"1\": 9, \"7\": 4, \"13\": 1}, \"7\": {\"7\": 132, \"10\": 25, \"4\": 27, \"12\": 4, \"6\": 15, \"9\": 4, \"3\": 27, \"5\": 3, \"15\": 1, \"2\": 2}, \"3\": {\"5\": 18, \"15\": 13, \"4\": 53, \"3\": 48, \"2\": 36, \"7\": 45, \"12\": 2, \"9\": 20, \"1\": 2, \"13\": 2, \"6\": 1}, \"8\": {\"11\": 72, \"14\": 57, \"8\": 101, \"5\": 3, \"2\": 1, \"0\": 6}, \"4\": {\"4\": 71, \"2\": 22, \"9\": 25, \"7\": 27, \"15\": 25, \"12\": 8, \"3\": 40, \"13\": 5, \"10\": 2, \"5\": 13, \"1\": 2}, \"6\": {\"6\": 192, \"7\": 12, \"10\": 35, \"14\": 1}, \"2\": {\"9\": 42, \"2\": 49, \"3\": 21, \"5\": 59, \"1\": 14, \"15\": 21, \"4\": 24, \"7\": 9, \"12\": 1}, \"12\": {\"12\": 110, \"13\": 108, \"10\": 4, \"3\": 4, \"4\": 8, \"15\": 3, \"2\": 1, \"7\": 2}, \"0\": {\"0\": 202, \"1\": 15, \"11\": 19, \"8\": 3, \"5\": 1}, \"13\": {\"12\": 99, \"15\": 11, \"13\": 116, \"4\": 6, \"9\": 2, \"3\": 3, \"2\": 2, \"7\": 1}, \"10\": {\"10\": 165, \"6\": 41, \"7\": 21, \"12\": 9, \"4\": 2, \"13\": 1, \"3\": 1}, \"11\": {\"11\": 147, \"8\": 63, \"14\": 10, \"0\": 19, \"5\": 1}, \"14\": {\"14\": 188, \"8\": 38, \"5\": 3, \"3\": 2, \"6\": 3, \"11\": 6}, \"1\": {\"5\": 24, \"1\": 178, \"15\": 8, \"2\": 9, \"9\": 12, \"0\": 7, \"4\": 1, \"11\": 1}}, \"14\": {\"13\": {\"13\": 186, \"6\": 52, \"7\": 1, \"3\": 1}, \"4\": {\"4\": 211, \"0\": 25, \"5\": 2, \"10\": 1, \"2\": 1}, \"6\": {\"6\": 141, \"13\": 84, \"7\": 4, \"3\": 11}, \"0\": {\"0\": 197, \"8\": 8, \"10\": 22, \"4\": 10, \"5\": 3}, \"10\": {\"10\": 92, \"3\": 32, \"8\": 51, \"0\": 60, \"12\": 1, \"5\": 3, \"14\": 1}, \"7\": {\"7\": 196, \"2\": 28, \"14\": 12, \"3\": 2, \"6\": 2}, \"14\": {\"14\": 81, \"2\": 72, \"5\": 66, \"7\": 13, \"3\": 5, \"10\": 2, \"4\": 1}, \"15\": {\"15\": 240}, \"5\": {\"5\": 117, \"2\": 42, \"14\": 75, \"3\": 1, \"0\": 1, \"7\": 1, \"4\": 3}, \"2\": {\"7\": 51, \"5\": 46, \"2\": 60, \"3\": 15, \"14\": 60, \"6\": 5, \"10\": 1, \"4\": 2}, \"9\": {\"9\": 237, \"0\": 1, \"12\": 2}, \"12\": {\"12\": 93, \"0\": 5, \"8\": 31, \"9\": 31, \"10\": 14, \"15\": 42, \"1\": 7, \"3\": 9, \"11\": 6, \"6\": 2}, \"8\": {\"8\": 182, \"10\": 37, \"0\": 20, \"12\": 1}, \"3\": {\"6\": 6, \"3\": 224, \"7\": 6, \"14\": 1, \"10\": 1, \"2\": 2}, \"1\": {\"1\": 240}, \"11\": {\"11\": 240}}}, \"per_domain_accuracy\": {\"32\": {\"accuracy\": 0.8059895833333334, \"source?\": true}, \"50\": {\"accuracy\": 0.9015625, \"source?\": true}, \"8\": {\"accuracy\": 0.7786458333333334, \"source?\": true}, \"44\": {\"accuracy\": 0.8263020833333333, \"source?\": false}, \"38\": {\"accuracy\": 0.72265625, \"source?\": false}, \"26\": {\"accuracy\": 0.5958333333333333, \"source?\": false}, \"20\": {\"accuracy\": 0.4942708333333333, \"source?\": false}, \"14\": {\"accuracy\": 0.7127604166666667, \"source?\": false}}}, \"history\": {\"epoch_indices\": [1, 2, 3, 4, 5, 6, 7, 8, 9], \"train_label_loss\": [1.1406567113740103, 0.6687885601516991, 0.40330050146975926, 0.31908877494464083, 0.2616102320670579, 0.2117374525721451, 0.1751656596012975, 0.14127276165245492, 0.12181911107840106], \"source_val_label_loss\": [2.364543914794922, 0.5209630727767944, 0.4741206467151642, 0.4561859369277954, 0.4875671863555908, 0.5108780264854431, 0.5480576753616333, 0.5884266495704651, 0.5910544395446777], \"target_val_label_loss\": [2.858853340148926, 1.0572513341903687, 1.0082659721374512, 1.0752323865890503, 1.0604276657104492, 1.1146564483642578, 1.2073612213134766, 1.2653926610946655, 1.3075735569000244], \"source_val_acc_label\": [0.5135416666666667, 0.8048611111111111, 0.8243923611111111, 0.8346354166666666, 0.8287326388888889, 0.828125, 0.8237847222222222, 0.82265625, 0.821875], \"target_val_acc_label\": [0.41369791666666667, 0.6426041666666666, 0.6655208333333333, 0.6632291666666666, 0.6703645833333334, 0.6579166666666667, 0.6606770833333333, 0.6585416666666667, 0.6588541666666666]}, \"dataset_metrics\": {\"source\": {\"train\": {\"n_unique_x\": 67200, \"n_unique_y\": 16, \"n_batch/episode\": 2520}, \"val\": {\"n_unique_x\": 14400, \"n_unique_y\": 16, \"n_batch/episode\": 360}, \"test\": {\"n_unique_x\": 14400, \"n_unique_y\": 16, \"n_batch/episode\": 360}}, \"target\": {\"train\": {\"n_unique_x\": 112000, \"n_unique_y\": 16, \"n_batch/episode\": 4200}, \"val\": {\"n_unique_x\": 24000, \"n_unique_y\": 16, \"n_batch/episode\": 600}, \"test\": {\"n_unique_x\": 24000, \"n_unique_y\": 16, \"n_batch/episode\": 600}}}}'"
      ]
     },
     "execution_count": 20,
     "metadata": {},
     "output_type": "execute_result"
    }
   ],
   "source": [
    "json.dumps(experiment)"
   ]
  }
 ],
 "metadata": {
  "celltoolbar": "Tags",
  "kernelspec": {
   "display_name": "Python 3 (ipykernel)",
   "language": "python",
   "name": "python3"
  },
  "language_info": {
   "codemirror_mode": {
    "name": "ipython",
    "version": 3
   },
   "file_extension": ".py",
   "mimetype": "text/x-python",
   "name": "python",
   "nbconvert_exporter": "python",
   "pygments_lexer": "ipython3",
   "version": "3.8.10"
  },
  "papermill": {
   "default_parameters": {},
   "duration": 704.655816,
   "end_time": "2022-04-01T15:20:25.802983",
   "environment_variables": {},
   "exception": null,
   "input_path": "/mnt/wd500GB/CSC500/csc500-main/csc500-notebooks/templates/ptn_template.ipynb",
   "output_path": "trial.ipynb",
   "parameters": {
    "parameters": {
     "BEST_MODEL_PATH": "./best_model.pth",
     "NUM_LOGS_PER_EPOCH": 10,
     "criteria_for_best": "target_accuracy",
     "dataset_seed": 154325,
     "device": "cuda",
     "domains_source": [
      8,
      32,
      50
     ],
     "domains_target": [
      14,
      20,
      26,
      38,
      44
     ],
     "episode_transforms_source": [],
     "episode_transforms_target": [],
     "experiment_name": "tuned_1v2:oracle.run2_limited",
     "labels_source": [
      "3123D52",
      "3123D65",
      "3123D79",
      "3123D80",
      "3123D54",
      "3123D70",
      "3123D7B",
      "3123D89",
      "3123D58",
      "3123D76",
      "3123D7D",
      "3123EFE",
      "3123D64",
      "3123D78",
      "3123D7E",
      "3124E4A"
     ],
     "labels_target": [
      "3123D52",
      "3123D65",
      "3123D79",
      "3123D80",
      "3123D54",
      "3123D70",
      "3123D7B",
      "3123D89",
      "3123D58",
      "3123D76",
      "3123D7D",
      "3123EFE",
      "3123D64",
      "3123D78",
      "3123D7E",
      "3124E4A"
     ],
     "lr": 0.0001,
     "n_epoch": 50,
     "n_query": 2,
     "n_shot": 3,
     "n_way": 16,
     "num_examples_per_domain_per_label_source": 2000,
     "num_examples_per_domain_per_label_target": 2000,
     "patience": 3,
     "pickle_name": "oracle.Run2_10kExamples_stratified_ds.2022A.pkl",
     "seed": 154325,
     "test_k_factor": 2,
     "torch_default_dtype": "torch.float32",
     "train_k_factor": 3,
     "val_k_factor": 2,
     "x_net": [
      {
       "class": "nnReshape",
       "kargs": {
        "shape": [
         -1,
         1,
         2,
         256
        ]
       }
      },
      {
       "class": "Conv2d",
       "kargs": {
        "bias": false,
        "in_channels": 1,
        "kernel_size": [
         1,
         7
        ],
        "out_channels": 256,
        "padding": [
         0,
         3
        ]
       }
      },
      {
       "class": "ReLU",
       "kargs": {
        "inplace": true
       }
      },
      {
       "class": "BatchNorm2d",
       "kargs": {
        "num_features": 256
       }
      },
      {
       "class": "Conv2d",
       "kargs": {
        "bias": true,
        "in_channels": 256,
        "kernel_size": [
         2,
         7
        ],
        "out_channels": 80,
        "padding": [
         0,
         3
        ]
       }
      },
      {
       "class": "ReLU",
       "kargs": {
        "inplace": true
       }
      },
      {
       "class": "BatchNorm2d",
       "kargs": {
        "num_features": 80
       }
      },
      {
       "class": "Flatten",
       "kargs": {}
      },
      {
       "class": "Linear",
       "kargs": {
        "in_features": 20480,
        "out_features": 256
       }
      },
      {
       "class": "ReLU",
       "kargs": {
        "inplace": true
       }
      },
      {
       "class": "BatchNorm1d",
       "kargs": {
        "num_features": 256
       }
      },
      {
       "class": "Linear",
       "kargs": {
        "in_features": 256,
        "out_features": 256
       }
      }
     ],
     "x_transforms_source": [],
     "x_transforms_target": []
    }
   },
   "start_time": "2022-04-01T15:08:41.147167",
   "version": "2.3.4"
  }
 },
 "nbformat": 4,
 "nbformat_minor": 5
}