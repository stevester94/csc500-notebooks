{
 "cells": [
  {
   "cell_type": "markdown",
   "id": "9fea5f46",
   "metadata": {
    "papermill": {
     "duration": 0.023046,
     "end_time": "2022-03-26T16:58:03.866529",
     "exception": false,
     "start_time": "2022-03-26T16:58:03.843483",
     "status": "completed"
    },
    "tags": []
   },
   "source": [
    "# PTN Template\n",
    "This notebook serves as a template for single dataset PTN experiments  \n",
    "It can be run on its own by setting STANDALONE to True (do a find for \"STANDALONE\" to see where)  \n",
    "But it is intended to be executed as part of a *papermill.py script. See any of the   \n",
    "experimentes with a papermill script to get started with that workflow.  "
   ]
  },
  {
   "cell_type": "code",
   "execution_count": 1,
   "id": "0902182a",
   "metadata": {
    "execution": {
     "iopub.execute_input": "2022-03-26T16:58:03.911378Z",
     "iopub.status.busy": "2022-03-26T16:58:03.905825Z",
     "iopub.status.idle": "2022-03-26T16:58:05.819216Z",
     "shell.execute_reply": "2022-03-26T16:58:05.818807Z"
    },
    "papermill": {
     "duration": 1.935604,
     "end_time": "2022-03-26T16:58:05.819322",
     "exception": false,
     "start_time": "2022-03-26T16:58:03.883718",
     "status": "completed"
    },
    "tags": []
   },
   "outputs": [],
   "source": [
    "%load_ext autoreload\n",
    "%autoreload 2\n",
    "%matplotlib inline\n",
    "\n",
    "    \n",
    "import os, json, sys, time, random\n",
    "import numpy as np\n",
    "import torch\n",
    "from torch.optim import Adam\n",
    "from  easydict import EasyDict\n",
    "import matplotlib.pyplot as plt\n",
    "\n",
    "from steves_models.steves_ptn import Steves_Prototypical_Network\n",
    "\n",
    "from steves_utils.lazy_iterable_wrapper import Lazy_Iterable_Wrapper\n",
    "from steves_utils.iterable_aggregator import Iterable_Aggregator\n",
    "from steves_utils.ptn_train_eval_test_jig import  PTN_Train_Eval_Test_Jig\n",
    "from steves_utils.torch_sequential_builder import build_sequential\n",
    "from steves_utils.torch_utils import get_dataset_metrics, ptn_confusion_by_domain_over_dataloader\n",
    "from steves_utils.utils_v2 import (per_domain_accuracy_from_confusion, get_datasets_base_path)\n",
    "from steves_utils.PTN.utils import independent_accuracy_assesment\n",
    "\n",
    "from steves_utils.stratified_dataset.episodic_accessor import Episodic_Accessor_Factory\n",
    "\n",
    "from steves_utils.ptn_do_report import (\n",
    "    get_loss_curve,\n",
    "    get_results_table,\n",
    "    get_parameters_table,\n",
    "    get_domain_accuracies,\n",
    ")\n",
    "\n",
    "from steves_utils.transforms import get_chained_transform"
   ]
  },
  {
   "cell_type": "markdown",
   "id": "41c840b4",
   "metadata": {
    "papermill": {
     "duration": 0.014191,
     "end_time": "2022-03-26T16:58:05.848420",
     "exception": false,
     "start_time": "2022-03-26T16:58:05.834229",
     "status": "completed"
    },
    "tags": []
   },
   "source": [
    "# Required Parameters\n",
    "These are allowed parameters, not defaults\n",
    "Each of these values need to be present in the injected parameters (the notebook will raise an exception if they are not present)\n",
    "\n",
    "Papermill uses the cell tag \"parameters\" to inject the real parameters below this cell.\n",
    "Enable tags to see what I mean"
   ]
  },
  {
   "cell_type": "code",
   "execution_count": 2,
   "id": "fd44eb83",
   "metadata": {
    "execution": {
     "iopub.execute_input": "2022-03-26T16:58:05.881894Z",
     "iopub.status.busy": "2022-03-26T16:58:05.881501Z",
     "iopub.status.idle": "2022-03-26T16:58:05.902577Z",
     "shell.execute_reply": "2022-03-26T16:58:05.902258Z"
    },
    "papermill": {
     "duration": 0.040011,
     "end_time": "2022-03-26T16:58:05.902653",
     "exception": false,
     "start_time": "2022-03-26T16:58:05.862642",
     "status": "completed"
    },
    "tags": []
   },
   "outputs": [],
   "source": [
    "required_parameters = {\n",
    "    \"experiment_name\",\n",
    "    \"lr\",\n",
    "    \"device\",\n",
    "    \"seed\",\n",
    "    \"dataset_seed\",\n",
    "    \"labels_source\",\n",
    "    \"labels_target\",\n",
    "    \"domains_source\",\n",
    "    \"domains_target\",\n",
    "    \"num_examples_per_domain_per_label_source\",\n",
    "    \"num_examples_per_domain_per_label_target\",\n",
    "    \"n_shot\",\n",
    "    \"n_way\",\n",
    "    \"n_query\",\n",
    "    \"train_k_factor\",\n",
    "    \"val_k_factor\",\n",
    "    \"test_k_factor\",\n",
    "    \"n_epoch\",\n",
    "    \"patience\",\n",
    "    \"criteria_for_best\",\n",
    "    \"x_transforms_source\",\n",
    "    \"x_transforms_target\",\n",
    "    \"episode_transforms_source\",\n",
    "    \"episode_transforms_target\",\n",
    "    \"pickle_name\",\n",
    "    \"x_net\",\n",
    "    \"NUM_LOGS_PER_EPOCH\",\n",
    "    \"BEST_MODEL_PATH\",\n",
    "    \"torch_default_dtype\"\n",
    "}"
   ]
  },
  {
   "cell_type": "code",
   "execution_count": 3,
   "id": "fa3f0049",
   "metadata": {
    "execution": {
     "iopub.execute_input": "2022-03-26T16:58:05.943740Z",
     "iopub.status.busy": "2022-03-26T16:58:05.938280Z",
     "iopub.status.idle": "2022-03-26T16:58:05.963856Z",
     "shell.execute_reply": "2022-03-26T16:58:05.963513Z"
    },
    "papermill": {
     "duration": 0.046882,
     "end_time": "2022-03-26T16:58:05.963927",
     "exception": false,
     "start_time": "2022-03-26T16:58:05.917045",
     "status": "completed"
    },
    "tags": [
     "parameters"
    ]
   },
   "outputs": [],
   "source": [
    "\n",
    "\n",
    "standalone_parameters = {}\n",
    "standalone_parameters[\"experiment_name\"] = \"STANDALONE PTN\"\n",
    "standalone_parameters[\"lr\"] = 0.0001\n",
    "standalone_parameters[\"device\"] = \"cuda\"\n",
    "\n",
    "standalone_parameters[\"seed\"] = 1337\n",
    "standalone_parameters[\"dataset_seed\"] = 1337\n",
    "\n",
    "\n",
    "standalone_parameters[\"num_examples_per_domain_per_label_source\"]=100\n",
    "standalone_parameters[\"num_examples_per_domain_per_label_target\"]=100\n",
    "\n",
    "standalone_parameters[\"n_shot\"] = 3\n",
    "standalone_parameters[\"n_query\"]  = 2\n",
    "standalone_parameters[\"train_k_factor\"] = 1\n",
    "standalone_parameters[\"val_k_factor\"] = 2\n",
    "standalone_parameters[\"test_k_factor\"] = 2\n",
    "\n",
    "\n",
    "standalone_parameters[\"n_epoch\"] = 100\n",
    "\n",
    "standalone_parameters[\"patience\"] = 10\n",
    "standalone_parameters[\"criteria_for_best\"] = \"target_accuracy\"\n",
    "\n",
    "standalone_parameters[\"x_transforms_source\"] = [\"unit_power\"]\n",
    "standalone_parameters[\"x_transforms_target\"] = [\"unit_power\"]\n",
    "standalone_parameters[\"episode_transforms_source\"] = []\n",
    "standalone_parameters[\"episode_transforms_target\"] = []\n",
    "\n",
    "standalone_parameters[\"torch_default_dtype\"] = \"torch.float32\" \n",
    "\n",
    "\n",
    "\n",
    "standalone_parameters[\"x_net\"] =     [\n",
    "    {\"class\": \"nnReshape\", \"kargs\": {\"shape\":[-1, 1, 2, 256]}},\n",
    "    {\"class\": \"Conv2d\", \"kargs\": { \"in_channels\":1, \"out_channels\":256, \"kernel_size\":(1,7), \"bias\":False, \"padding\":(0,3), },},\n",
    "    {\"class\": \"ReLU\", \"kargs\": {\"inplace\": True}},\n",
    "    {\"class\": \"BatchNorm2d\", \"kargs\": {\"num_features\":256}},\n",
    "\n",
    "    {\"class\": \"Conv2d\", \"kargs\": { \"in_channels\":256, \"out_channels\":80, \"kernel_size\":(2,7), \"bias\":True, \"padding\":(0,3), },},\n",
    "    {\"class\": \"ReLU\", \"kargs\": {\"inplace\": True}},\n",
    "    {\"class\": \"BatchNorm2d\", \"kargs\": {\"num_features\":80}},\n",
    "    {\"class\": \"Flatten\", \"kargs\": {}},\n",
    "\n",
    "    {\"class\": \"Linear\", \"kargs\": {\"in_features\": 80*256, \"out_features\": 256}}, # 80 units per IQ pair\n",
    "    {\"class\": \"ReLU\", \"kargs\": {\"inplace\": True}},\n",
    "    {\"class\": \"BatchNorm1d\", \"kargs\": {\"num_features\":256}},\n",
    "\n",
    "    {\"class\": \"Linear\", \"kargs\": {\"in_features\": 256, \"out_features\": 256}},\n",
    "]\n",
    "\n",
    "# Parameters relevant to results\n",
    "# These parameters will basically never need to change\n",
    "standalone_parameters[\"NUM_LOGS_PER_EPOCH\"] = 10\n",
    "standalone_parameters[\"BEST_MODEL_PATH\"] = \"./best_model.pth\"\n",
    "\n",
    "# uncomment for CORES dataset\n",
    "from steves_utils.CORES.utils import (\n",
    "    ALL_NODES,\n",
    "    ALL_NODES_MINIMUM_1000_EXAMPLES,\n",
    "    ALL_DAYS\n",
    ")\n",
    "\n",
    "\n",
    "standalone_parameters[\"labels_source\"] = ALL_NODES\n",
    "standalone_parameters[\"labels_target\"] = ALL_NODES\n",
    "\n",
    "standalone_parameters[\"domains_source\"] = [1]\n",
    "standalone_parameters[\"domains_target\"] = [2,3,4,5]\n",
    "\n",
    "standalone_parameters[\"pickle_name\"] = \"cores.stratified_ds.2022A.pkl\"\n",
    "\n",
    "\n",
    "# Uncomment these for ORACLE dataset\n",
    "# from steves_utils.ORACLE.utils_v2 import (\n",
    "#     ALL_DISTANCES_FEET,\n",
    "#     ALL_RUNS,\n",
    "#     ALL_SERIAL_NUMBERS,\n",
    "# )\n",
    "# standalone_parameters[\"labels_source\"] = ALL_SERIAL_NUMBERS\n",
    "# standalone_parameters[\"labels_target\"] = ALL_SERIAL_NUMBERS\n",
    "# standalone_parameters[\"domains_source\"] = [8,20, 38,50]\n",
    "# standalone_parameters[\"domains_target\"] = [14, 26, 32, 44, 56]\n",
    "# standalone_parameters[\"pickle_name\"] = \"oracle.frame_indexed.stratified_ds.2022A.pkl\"\n",
    "# standalone_parameters[\"num_examples_per_domain_per_label_source\"]=1000\n",
    "# standalone_parameters[\"num_examples_per_domain_per_label_target\"]=1000\n",
    "\n",
    "# Uncomment these for Metahan dataset\n",
    "# standalone_parameters[\"labels_source\"] = list(range(19))\n",
    "# standalone_parameters[\"labels_target\"] = list(range(19))\n",
    "# standalone_parameters[\"domains_source\"] = [0]\n",
    "# standalone_parameters[\"domains_target\"] = [1]\n",
    "# standalone_parameters[\"pickle_name\"] = \"metehan.stratified_ds.2022A.pkl\"\n",
    "# standalone_parameters[\"n_way\"]  = len(standalone_parameters[\"labels_source\"])\n",
    "# standalone_parameters[\"num_examples_per_domain_per_label_source\"]=200\n",
    "# standalone_parameters[\"num_examples_per_domain_per_label_target\"]=100\n",
    "\n",
    "\n",
    "standalone_parameters[\"n_way\"]  = len(standalone_parameters[\"labels_source\"])"
   ]
  },
  {
   "cell_type": "code",
   "execution_count": 4,
   "id": "7b700901",
   "metadata": {
    "execution": {
     "iopub.execute_input": "2022-03-26T16:58:06.006483Z",
     "iopub.status.busy": "2022-03-26T16:58:06.002910Z",
     "iopub.status.idle": "2022-03-26T16:58:06.021772Z",
     "shell.execute_reply": "2022-03-26T16:58:06.021403Z"
    },
    "papermill": {
     "duration": 0.043048,
     "end_time": "2022-03-26T16:58:06.021842",
     "exception": false,
     "start_time": "2022-03-26T16:58:05.978794",
     "status": "completed"
    },
    "tags": [
     "injected-parameters"
    ]
   },
   "outputs": [],
   "source": [
    "# Parameters\n",
    "parameters = {\n",
    "    \"experiment_name\": \"tuned_1v2:oracle.run2_limited\",\n",
    "    \"device\": \"cuda\",\n",
    "    \"lr\": 0.0001,\n",
    "    \"labels_source\": [\n",
    "        \"3123D52\",\n",
    "        \"3123D65\",\n",
    "        \"3123D79\",\n",
    "        \"3123D80\",\n",
    "        \"3123D54\",\n",
    "        \"3123D70\",\n",
    "        \"3123D7B\",\n",
    "        \"3123D89\",\n",
    "        \"3123D58\",\n",
    "        \"3123D76\",\n",
    "        \"3123D7D\",\n",
    "        \"3123EFE\",\n",
    "        \"3123D64\",\n",
    "        \"3123D78\",\n",
    "        \"3123D7E\",\n",
    "        \"3124E4A\",\n",
    "    ],\n",
    "    \"labels_target\": [\n",
    "        \"3123D52\",\n",
    "        \"3123D65\",\n",
    "        \"3123D79\",\n",
    "        \"3123D80\",\n",
    "        \"3123D54\",\n",
    "        \"3123D70\",\n",
    "        \"3123D7B\",\n",
    "        \"3123D89\",\n",
    "        \"3123D58\",\n",
    "        \"3123D76\",\n",
    "        \"3123D7D\",\n",
    "        \"3123EFE\",\n",
    "        \"3123D64\",\n",
    "        \"3123D78\",\n",
    "        \"3123D7E\",\n",
    "        \"3124E4A\",\n",
    "    ],\n",
    "    \"episode_transforms_source\": [],\n",
    "    \"episode_transforms_target\": [],\n",
    "    \"domains_source\": [8, 32, 50],\n",
    "    \"domains_target\": [14, 20, 26, 38, 44],\n",
    "    \"num_examples_per_domain_per_label_source\": -1,\n",
    "    \"num_examples_per_domain_per_label_target\": -1,\n",
    "    \"n_shot\": 3,\n",
    "    \"n_way\": 16,\n",
    "    \"n_query\": 2,\n",
    "    \"train_k_factor\": 3,\n",
    "    \"val_k_factor\": 2,\n",
    "    \"test_k_factor\": 2,\n",
    "    \"torch_default_dtype\": \"torch.float32\",\n",
    "    \"n_epoch\": 50,\n",
    "    \"patience\": 3,\n",
    "    \"criteria_for_best\": \"target_accuracy\",\n",
    "    \"x_net\": [\n",
    "        {\"class\": \"nnReshape\", \"kargs\": {\"shape\": [-1, 1, 2, 256]}},\n",
    "        {\n",
    "            \"class\": \"Conv2d\",\n",
    "            \"kargs\": {\n",
    "                \"in_channels\": 1,\n",
    "                \"out_channels\": 256,\n",
    "                \"kernel_size\": [1, 7],\n",
    "                \"bias\": False,\n",
    "                \"padding\": [0, 3],\n",
    "            },\n",
    "        },\n",
    "        {\"class\": \"ReLU\", \"kargs\": {\"inplace\": True}},\n",
    "        {\"class\": \"BatchNorm2d\", \"kargs\": {\"num_features\": 256}},\n",
    "        {\n",
    "            \"class\": \"Conv2d\",\n",
    "            \"kargs\": {\n",
    "                \"in_channels\": 256,\n",
    "                \"out_channels\": 80,\n",
    "                \"kernel_size\": [2, 7],\n",
    "                \"bias\": True,\n",
    "                \"padding\": [0, 3],\n",
    "            },\n",
    "        },\n",
    "        {\"class\": \"ReLU\", \"kargs\": {\"inplace\": True}},\n",
    "        {\"class\": \"BatchNorm2d\", \"kargs\": {\"num_features\": 80}},\n",
    "        {\"class\": \"Flatten\", \"kargs\": {}},\n",
    "        {\"class\": \"Linear\", \"kargs\": {\"in_features\": 20480, \"out_features\": 256}},\n",
    "        {\"class\": \"ReLU\", \"kargs\": {\"inplace\": True}},\n",
    "        {\"class\": \"BatchNorm1d\", \"kargs\": {\"num_features\": 256}},\n",
    "        {\"class\": \"Linear\", \"kargs\": {\"in_features\": 256, \"out_features\": 256}},\n",
    "    ],\n",
    "    \"NUM_LOGS_PER_EPOCH\": 10,\n",
    "    \"BEST_MODEL_PATH\": \"./best_model.pth\",\n",
    "    \"pickle_name\": \"oracle.Run2_10kExamples_stratified_ds.2022A.pkl\",\n",
    "    \"x_transforms_source\": [\"unit_power\"],\n",
    "    \"x_transforms_target\": [\"unit_power\"],\n",
    "    \"dataset_seed\": 500,\n",
    "    \"seed\": 500,\n",
    "}\n"
   ]
  },
  {
   "cell_type": "code",
   "execution_count": 5,
   "id": "8fa1cc33",
   "metadata": {
    "execution": {
     "iopub.execute_input": "2022-03-26T16:58:06.056320Z",
     "iopub.status.busy": "2022-03-26T16:58:06.055171Z",
     "iopub.status.idle": "2022-03-26T16:58:06.071791Z",
     "shell.execute_reply": "2022-03-26T16:58:06.071453Z"
    },
    "papermill": {
     "duration": 0.035675,
     "end_time": "2022-03-26T16:58:06.071863",
     "exception": false,
     "start_time": "2022-03-26T16:58:06.036188",
     "status": "completed"
    },
    "tags": []
   },
   "outputs": [],
   "source": [
    "# Set this to True if you want to run this template directly\n",
    "STANDALONE = False\n",
    "if STANDALONE:\n",
    "    print(\"parameters not injected, running with standalone_parameters\")\n",
    "    parameters = standalone_parameters\n",
    "\n",
    "if not 'parameters' in locals() and not 'parameters' in globals():\n",
    "    raise Exception(\"Parameter injection failed\")\n",
    "\n",
    "#Use an easy dict for all the parameters\n",
    "p = EasyDict(parameters)\n",
    "\n",
    "supplied_keys = set(p.keys())\n",
    "\n",
    "if  supplied_keys != required_parameters:\n",
    "    print(\"Parameters are incorrect\")\n",
    "    if len(supplied_keys - required_parameters)>0: print(\"Shouldn't have:\", str(supplied_keys - required_parameters))\n",
    "    if len(required_parameters - supplied_keys)>0: print(\"Need to have:\", str(required_parameters - supplied_keys))\n",
    "    raise RuntimeError(\"Parameters are incorrect\")\n",
    "\n"
   ]
  },
  {
   "cell_type": "code",
   "execution_count": 6,
   "id": "3a028d58",
   "metadata": {
    "execution": {
     "iopub.execute_input": "2022-03-26T16:58:06.104219Z",
     "iopub.status.busy": "2022-03-26T16:58:06.103852Z",
     "iopub.status.idle": "2022-03-26T16:58:06.121643Z",
     "shell.execute_reply": "2022-03-26T16:58:06.121275Z"
    },
    "papermill": {
     "duration": 0.035337,
     "end_time": "2022-03-26T16:58:06.121713",
     "exception": false,
     "start_time": "2022-03-26T16:58:06.086376",
     "status": "completed"
    },
    "tags": []
   },
   "outputs": [],
   "source": [
    "###################################\n",
    "# Set the RNGs and make it all deterministic\n",
    "###################################\n",
    "np.random.seed(p.seed)\n",
    "random.seed(p.seed)\n",
    "torch.manual_seed(p.seed)\n",
    "\n",
    "torch.use_deterministic_algorithms(True) "
   ]
  },
  {
   "cell_type": "code",
   "execution_count": 7,
   "id": "b691acf6",
   "metadata": {
    "execution": {
     "iopub.execute_input": "2022-03-26T16:58:06.155078Z",
     "iopub.status.busy": "2022-03-26T16:58:06.153074Z",
     "iopub.status.idle": "2022-03-26T16:58:06.176550Z",
     "shell.execute_reply": "2022-03-26T16:58:06.176188Z"
    },
    "papermill": {
     "duration": 0.040279,
     "end_time": "2022-03-26T16:58:06.176635",
     "exception": false,
     "start_time": "2022-03-26T16:58:06.136356",
     "status": "completed"
    },
    "tags": []
   },
   "outputs": [],
   "source": [
    "###########################################\n",
    "# The stratified datasets honor this\n",
    "###########################################\n",
    "torch.set_default_dtype(eval(p.torch_default_dtype))"
   ]
  },
  {
   "cell_type": "code",
   "execution_count": 8,
   "id": "b5fba671",
   "metadata": {
    "execution": {
     "iopub.execute_input": "2022-03-26T16:58:06.213120Z",
     "iopub.status.busy": "2022-03-26T16:58:06.209424Z",
     "iopub.status.idle": "2022-03-26T16:58:06.263491Z",
     "shell.execute_reply": "2022-03-26T16:58:06.263175Z"
    },
    "papermill": {
     "duration": 0.072232,
     "end_time": "2022-03-26T16:58:06.263570",
     "exception": false,
     "start_time": "2022-03-26T16:58:06.191338",
     "status": "completed"
    },
    "tags": []
   },
   "outputs": [],
   "source": [
    "###################################\n",
    "# Build the network(s)\n",
    "# Note: It's critical to do this AFTER setting the RNG\n",
    "# (This is due to the randomized initial weights)\n",
    "###################################\n",
    "x_net = build_sequential(p.x_net)"
   ]
  },
  {
   "cell_type": "code",
   "execution_count": 9,
   "id": "5d7e61cc",
   "metadata": {
    "execution": {
     "iopub.execute_input": "2022-03-26T16:58:06.297343Z",
     "iopub.status.busy": "2022-03-26T16:58:06.296695Z",
     "iopub.status.idle": "2022-03-26T16:58:06.318077Z",
     "shell.execute_reply": "2022-03-26T16:58:06.317716Z"
    },
    "papermill": {
     "duration": 0.039789,
     "end_time": "2022-03-26T16:58:06.318147",
     "exception": false,
     "start_time": "2022-03-26T16:58:06.278358",
     "status": "completed"
    },
    "tags": []
   },
   "outputs": [],
   "source": [
    "start_time_secs = time.time()"
   ]
  },
  {
   "cell_type": "code",
   "execution_count": 10,
   "id": "fd5442bc",
   "metadata": {
    "execution": {
     "iopub.execute_input": "2022-03-26T16:58:06.356867Z",
     "iopub.status.busy": "2022-03-26T16:58:06.356471Z",
     "iopub.status.idle": "2022-03-26T16:59:57.131390Z",
     "shell.execute_reply": "2022-03-26T16:59:57.131007Z"
    },
    "papermill": {
     "duration": 110.798128,
     "end_time": "2022-03-26T16:59:57.131506",
     "exception": false,
     "start_time": "2022-03-26T16:58:06.333378",
     "status": "completed"
    },
    "tags": []
   },
   "outputs": [],
   "source": [
    "###################################\n",
    "# Build the dataset\n",
    "###################################\n",
    "\n",
    "if p.x_transforms_source == []: x_transform_source = None\n",
    "else: x_transform_source = get_chained_transform(p.x_transforms_source) \n",
    "\n",
    "if p.x_transforms_target == []: x_transform_target = None\n",
    "else: x_transform_target = get_chained_transform(p.x_transforms_target)\n",
    "\n",
    "if p.episode_transforms_source == []: episode_transform_source = None\n",
    "else: raise Exception(\"episode_transform_source not implemented\")\n",
    "\n",
    "if p.episode_transforms_target == []: episode_transform_target = None\n",
    "else: raise Exception(\"episode_transform_target not implemented\")\n",
    "\n",
    "\n",
    "eaf_source = Episodic_Accessor_Factory(\n",
    "    labels=p.labels_source,\n",
    "    domains=p.domains_source,\n",
    "    num_examples_per_domain_per_label=p.num_examples_per_domain_per_label_source,\n",
    "    iterator_seed=p.seed,\n",
    "    dataset_seed=p.dataset_seed,\n",
    "    n_shot=p.n_shot,\n",
    "    n_way=p.n_way,\n",
    "    n_query=p.n_query,\n",
    "    train_val_test_k_factors=(p.train_k_factor,p.val_k_factor,p.test_k_factor),\n",
    "    pickle_path=os.path.join(get_datasets_base_path(), p.pickle_name),\n",
    "    x_transform_func=x_transform_source,\n",
    "    example_transform_func=episode_transform_source,\n",
    "    \n",
    ")\n",
    "train_original_source, val_original_source, test_original_source = eaf_source.get_train(), eaf_source.get_val(), eaf_source.get_test()\n",
    "\n",
    "\n",
    "eaf_target = Episodic_Accessor_Factory(\n",
    "    labels=p.labels_target,\n",
    "    domains=p.domains_target,\n",
    "    num_examples_per_domain_per_label=p.num_examples_per_domain_per_label_target,\n",
    "    iterator_seed=p.seed,\n",
    "    dataset_seed=p.dataset_seed,\n",
    "    n_shot=p.n_shot,\n",
    "    n_way=p.n_way,\n",
    "    n_query=p.n_query,\n",
    "    train_val_test_k_factors=(p.train_k_factor,p.val_k_factor,p.test_k_factor),\n",
    "    pickle_path=os.path.join(get_datasets_base_path(), p.pickle_name),\n",
    "    x_transform_func=x_transform_target,\n",
    "    example_transform_func=episode_transform_target,\n",
    ")\n",
    "train_original_target, val_original_target, test_original_target = eaf_target.get_train(), eaf_target.get_val(), eaf_target.get_test()\n",
    "\n",
    "\n",
    "transform_lambda = lambda ex: ex[1] # Original is (<domain>, <episode>) so we strip down to episode only\n",
    "\n",
    "train_processed_source = Lazy_Iterable_Wrapper(train_original_source, transform_lambda)\n",
    "val_processed_source   = Lazy_Iterable_Wrapper(val_original_source, transform_lambda)\n",
    "test_processed_source  = Lazy_Iterable_Wrapper(test_original_source, transform_lambda)\n",
    "\n",
    "train_processed_target = Lazy_Iterable_Wrapper(train_original_target, transform_lambda)\n",
    "val_processed_target   = Lazy_Iterable_Wrapper(val_original_target, transform_lambda)\n",
    "test_processed_target  = Lazy_Iterable_Wrapper(test_original_target, transform_lambda)\n",
    "\n",
    "datasets = EasyDict({\n",
    "    \"source\": {\n",
    "        \"original\": {\"train\":train_original_source, \"val\":val_original_source, \"test\":test_original_source},\n",
    "        \"processed\": {\"train\":train_processed_source, \"val\":val_processed_source, \"test\":test_processed_source}\n",
    "    },\n",
    "    \"target\": {\n",
    "        \"original\": {\"train\":train_original_target, \"val\":val_original_target, \"test\":test_original_target},\n",
    "        \"processed\": {\"train\":train_processed_target, \"val\":val_processed_target, \"test\":test_processed_target}\n",
    "    },\n",
    "})"
   ]
  },
  {
   "cell_type": "code",
   "execution_count": 11,
   "id": "296189d9",
   "metadata": {
    "execution": {
     "iopub.execute_input": "2022-03-26T16:59:57.172169Z",
     "iopub.status.busy": "2022-03-26T16:59:57.171581Z",
     "iopub.status.idle": "2022-03-26T17:00:03.438195Z",
     "shell.execute_reply": "2022-03-26T17:00:03.438533Z"
    },
    "papermill": {
     "duration": 6.290809,
     "end_time": "2022-03-26T17:00:03.438685",
     "exception": false,
     "start_time": "2022-03-26T16:59:57.147876",
     "status": "completed"
    },
    "tags": []
   },
   "outputs": [
    {
     "name": "stdout",
     "output_type": "stream",
     "text": [
      "Visually inspect these to see if they line up with expected values given the transforms\n",
      "x_transforms_source ['unit_power']\n",
      "x_transforms_target ['unit_power']\n",
      "Average magnitude, source: 0.89177555\n",
      "Average power, source: 0.99999994\n"
     ]
    },
    {
     "name": "stdout",
     "output_type": "stream",
     "text": [
      "Average magnitude, target: 0.9016109\n",
      "Average power, target: 1.0\n"
     ]
    }
   ],
   "source": [
    "# Some quick unit tests on the data\n",
    "from steves_utils.transforms import get_average_power, get_average_magnitude\n",
    "\n",
    "q_x, q_y, s_x, s_y, truth = next(iter(train_processed_source))\n",
    "\n",
    "assert q_x.dtype == eval(p.torch_default_dtype)\n",
    "assert s_x.dtype == eval(p.torch_default_dtype)\n",
    "\n",
    "print(\"Visually inspect these to see if they line up with expected values given the transforms\")\n",
    "print('x_transforms_source', p.x_transforms_source)\n",
    "print('x_transforms_target', p.x_transforms_target)\n",
    "print(\"Average magnitude, source:\", get_average_magnitude(q_x[0].numpy()))\n",
    "print(\"Average power, source:\", get_average_power(q_x[0].numpy()))\n",
    "\n",
    "q_x, q_y, s_x, s_y, truth = next(iter(train_processed_target))\n",
    "print(\"Average magnitude, target:\", get_average_magnitude(q_x[0].numpy()))\n",
    "print(\"Average power, target:\", get_average_power(q_x[0].numpy()))\n"
   ]
  },
  {
   "cell_type": "code",
   "execution_count": 12,
   "id": "bbdacba1",
   "metadata": {
    "execution": {
     "iopub.execute_input": "2022-03-26T17:00:03.487911Z",
     "iopub.status.busy": "2022-03-26T17:00:03.487497Z",
     "iopub.status.idle": "2022-03-26T17:00:03.681396Z",
     "shell.execute_reply": "2022-03-26T17:00:03.681720Z"
    },
    "papermill": {
     "duration": 0.220534,
     "end_time": "2022-03-26T17:00:03.681864",
     "exception": false,
     "start_time": "2022-03-26T17:00:03.461330",
     "status": "completed"
    },
    "tags": []
   },
   "outputs": [
    {
     "name": "stdout",
     "output_type": "stream",
     "text": [
      "(2, 256)\n"
     ]
    }
   ],
   "source": [
    "###################################\n",
    "# Build the model\n",
    "###################################\n",
    "model = Steves_Prototypical_Network(x_net, device=p.device, x_shape=(2,256))\n",
    "optimizer = Adam(params=model.parameters(), lr=p.lr)"
   ]
  },
  {
   "cell_type": "code",
   "execution_count": 13,
   "id": "22b39ac5",
   "metadata": {
    "execution": {
     "iopub.execute_input": "2022-03-26T17:00:03.724359Z",
     "iopub.status.busy": "2022-03-26T17:00:03.723938Z",
     "iopub.status.idle": "2022-03-26T17:50:22.879171Z",
     "shell.execute_reply": "2022-03-26T17:50:22.878807Z"
    },
    "papermill": {
     "duration": 3019.180803,
     "end_time": "2022-03-26T17:50:22.879277",
     "exception": false,
     "start_time": "2022-03-26T17:00:03.698474",
     "status": "completed"
    },
    "tags": []
   },
   "outputs": [
    {
     "name": "stdout",
     "output_type": "stream",
     "text": [
      "epoch: 1, [batch: 1 / 12600], examples_per_second: 17.1220, train_label_loss: 2.7778, \n"
     ]
    },
    {
     "name": "stdout",
     "output_type": "stream",
     "text": [
      "epoch: 1, [batch: 1260 / 12600], examples_per_second: 3766.6566, train_label_loss: 1.5323, \n"
     ]
    },
    {
     "name": "stdout",
     "output_type": "stream",
     "text": [
      "epoch: 1, [batch: 2520 / 12600], examples_per_second: 3922.3162, train_label_loss: 1.4351, \n"
     ]
    },
    {
     "name": "stdout",
     "output_type": "stream",
     "text": [
      "epoch: 1, [batch: 3780 / 12600], examples_per_second: 3935.6585, train_label_loss: 1.5060, \n"
     ]
    },
    {
     "name": "stdout",
     "output_type": "stream",
     "text": [
      "epoch: 1, [batch: 5040 / 12600], examples_per_second: 3922.8727, train_label_loss: 1.0874, \n"
     ]
    },
    {
     "name": "stdout",
     "output_type": "stream",
     "text": [
      "epoch: 1, [batch: 6300 / 12600], examples_per_second: 3865.5508, train_label_loss: 1.4642, \n"
     ]
    },
    {
     "name": "stdout",
     "output_type": "stream",
     "text": [
      "epoch: 1, [batch: 7560 / 12600], examples_per_second: 4014.0385, train_label_loss: 1.2482, \n"
     ]
    },
    {
     "name": "stdout",
     "output_type": "stream",
     "text": [
      "epoch: 1, [batch: 8820 / 12600], examples_per_second: 3962.9224, train_label_loss: 1.1571, \n"
     ]
    },
    {
     "name": "stdout",
     "output_type": "stream",
     "text": [
      "epoch: 1, [batch: 10080 / 12600], examples_per_second: 3935.5184, train_label_loss: 0.7733, \n"
     ]
    },
    {
     "name": "stdout",
     "output_type": "stream",
     "text": [
      "epoch: 1, [batch: 11340 / 12600], examples_per_second: 4117.4821, train_label_loss: 0.7915, \n"
     ]
    },
    {
     "name": "stdout",
     "output_type": "stream",
     "text": [
      "=============================================================\n",
      "epoch: 1, source_val_acc_label: 0.6150, target_val_acc_label: 0.5112, source_val_label_loss: 0.9835, target_val_label_loss: 1.3481, \n",
      "=============================================================\n"
     ]
    },
    {
     "name": "stdout",
     "output_type": "stream",
     "text": [
      "New best\n"
     ]
    },
    {
     "name": "stdout",
     "output_type": "stream",
     "text": [
      "epoch: 2, [batch: 1 / 12600], examples_per_second: 1.9863, train_label_loss: 0.7696, \n"
     ]
    },
    {
     "name": "stdout",
     "output_type": "stream",
     "text": [
      "epoch: 2, [batch: 1260 / 12600], examples_per_second: 3811.6137, train_label_loss: 0.8630, \n"
     ]
    },
    {
     "name": "stdout",
     "output_type": "stream",
     "text": [
      "epoch: 2, [batch: 2520 / 12600], examples_per_second: 3864.0202, train_label_loss: 1.0410, \n"
     ]
    },
    {
     "name": "stdout",
     "output_type": "stream",
     "text": [
      "epoch: 2, [batch: 3780 / 12600], examples_per_second: 3946.9706, train_label_loss: 0.8977, \n"
     ]
    },
    {
     "name": "stdout",
     "output_type": "stream",
     "text": [
      "epoch: 2, [batch: 5040 / 12600], examples_per_second: 3828.9814, train_label_loss: 0.9980, \n"
     ]
    },
    {
     "name": "stdout",
     "output_type": "stream",
     "text": [
      "epoch: 2, [batch: 6300 / 12600], examples_per_second: 3837.9167, train_label_loss: 0.6698, \n"
     ]
    },
    {
     "name": "stdout",
     "output_type": "stream",
     "text": [
      "epoch: 2, [batch: 7560 / 12600], examples_per_second: 3970.9473, train_label_loss: 0.7461, \n"
     ]
    },
    {
     "name": "stdout",
     "output_type": "stream",
     "text": [
      "epoch: 2, [batch: 8820 / 12600], examples_per_second: 3966.8493, train_label_loss: 0.7932, \n"
     ]
    },
    {
     "name": "stdout",
     "output_type": "stream",
     "text": [
      "epoch: 2, [batch: 10080 / 12600], examples_per_second: 3858.6740, train_label_loss: 0.7084, \n"
     ]
    },
    {
     "name": "stdout",
     "output_type": "stream",
     "text": [
      "epoch: 2, [batch: 11340 / 12600], examples_per_second: 4072.8508, train_label_loss: 0.8462, \n"
     ]
    },
    {
     "name": "stdout",
     "output_type": "stream",
     "text": [
      "=============================================================\n",
      "epoch: 2, source_val_acc_label: 0.6830, target_val_acc_label: 0.5641, source_val_label_loss: 0.8175, target_val_label_loss: 1.2233, \n",
      "=============================================================\n"
     ]
    },
    {
     "name": "stdout",
     "output_type": "stream",
     "text": [
      "New best\n"
     ]
    },
    {
     "name": "stdout",
     "output_type": "stream",
     "text": [
      "epoch: 3, [batch: 1 / 12600], examples_per_second: 2.0454, train_label_loss: 0.6592, \n"
     ]
    },
    {
     "name": "stdout",
     "output_type": "stream",
     "text": [
      "epoch: 3, [batch: 1260 / 12600], examples_per_second: 3884.1491, train_label_loss: 0.3882, \n"
     ]
    },
    {
     "name": "stdout",
     "output_type": "stream",
     "text": [
      "epoch: 3, [batch: 2520 / 12600], examples_per_second: 3878.7013, train_label_loss: 0.5442, \n"
     ]
    },
    {
     "name": "stdout",
     "output_type": "stream",
     "text": [
      "epoch: 3, [batch: 3780 / 12600], examples_per_second: 3872.0389, train_label_loss: 0.6319, \n"
     ]
    },
    {
     "name": "stdout",
     "output_type": "stream",
     "text": [
      "epoch: 3, [batch: 5040 / 12600], examples_per_second: 3809.8114, train_label_loss: 0.9520, \n"
     ]
    },
    {
     "name": "stdout",
     "output_type": "stream",
     "text": [
      "epoch: 3, [batch: 6300 / 12600], examples_per_second: 3826.7398, train_label_loss: 0.8563, \n"
     ]
    },
    {
     "name": "stdout",
     "output_type": "stream",
     "text": [
      "epoch: 3, [batch: 7560 / 12600], examples_per_second: 3826.3481, train_label_loss: 0.6836, \n"
     ]
    },
    {
     "name": "stdout",
     "output_type": "stream",
     "text": [
      "epoch: 3, [batch: 8820 / 12600], examples_per_second: 3850.3006, train_label_loss: 0.6404, \n"
     ]
    },
    {
     "name": "stdout",
     "output_type": "stream",
     "text": [
      "epoch: 3, [batch: 10080 / 12600], examples_per_second: 3926.4110, train_label_loss: 0.5242, \n"
     ]
    },
    {
     "name": "stdout",
     "output_type": "stream",
     "text": [
      "epoch: 3, [batch: 11340 / 12600], examples_per_second: 3954.4757, train_label_loss: 0.7608, \n"
     ]
    },
    {
     "name": "stdout",
     "output_type": "stream",
     "text": [
      "=============================================================\n",
      "epoch: 3, source_val_acc_label: 0.6906, target_val_acc_label: 0.5699, source_val_label_loss: 0.7926, target_val_label_loss: 1.2045, \n",
      "=============================================================\n"
     ]
    },
    {
     "name": "stdout",
     "output_type": "stream",
     "text": [
      "New best\n"
     ]
    },
    {
     "name": "stdout",
     "output_type": "stream",
     "text": [
      "epoch: 4, [batch: 1 / 12600], examples_per_second: 2.0026, train_label_loss: 0.6460, \n"
     ]
    },
    {
     "name": "stdout",
     "output_type": "stream",
     "text": [
      "epoch: 4, [batch: 1260 / 12600], examples_per_second: 3864.9650, train_label_loss: 0.6733, \n"
     ]
    },
    {
     "name": "stdout",
     "output_type": "stream",
     "text": [
      "epoch: 4, [batch: 2520 / 12600], examples_per_second: 4023.5995, train_label_loss: 0.7739, \n"
     ]
    },
    {
     "name": "stdout",
     "output_type": "stream",
     "text": [
      "epoch: 4, [batch: 3780 / 12600], examples_per_second: 3859.5849, train_label_loss: 0.7592, \n"
     ]
    },
    {
     "name": "stdout",
     "output_type": "stream",
     "text": [
      "epoch: 4, [batch: 5040 / 12600], examples_per_second: 3895.6205, train_label_loss: 0.5312, \n"
     ]
    },
    {
     "name": "stdout",
     "output_type": "stream",
     "text": [
      "epoch: 4, [batch: 6300 / 12600], examples_per_second: 3907.8457, train_label_loss: 0.6742, \n"
     ]
    },
    {
     "name": "stdout",
     "output_type": "stream",
     "text": [
      "epoch: 4, [batch: 7560 / 12600], examples_per_second: 3903.6364, train_label_loss: 0.8166, \n"
     ]
    },
    {
     "name": "stdout",
     "output_type": "stream",
     "text": [
      "epoch: 4, [batch: 8820 / 12600], examples_per_second: 3800.8182, train_label_loss: 0.3865, \n"
     ]
    },
    {
     "name": "stdout",
     "output_type": "stream",
     "text": [
      "epoch: 4, [batch: 10080 / 12600], examples_per_second: 3922.7939, train_label_loss: 0.6806, \n"
     ]
    },
    {
     "name": "stdout",
     "output_type": "stream",
     "text": [
      "epoch: 4, [batch: 11340 / 12600], examples_per_second: 3914.1059, train_label_loss: 0.5116, \n"
     ]
    },
    {
     "name": "stdout",
     "output_type": "stream",
     "text": [
      "=============================================================\n",
      "epoch: 4, source_val_acc_label: 0.6961, target_val_acc_label: 0.5740, source_val_label_loss: 0.7957, target_val_label_loss: 1.2263, \n",
      "=============================================================\n"
     ]
    },
    {
     "name": "stdout",
     "output_type": "stream",
     "text": [
      "New best\n"
     ]
    },
    {
     "name": "stdout",
     "output_type": "stream",
     "text": [
      "epoch: 5, [batch: 1 / 12600], examples_per_second: 2.0155, train_label_loss: 0.6779, \n"
     ]
    },
    {
     "name": "stdout",
     "output_type": "stream",
     "text": [
      "epoch: 5, [batch: 1260 / 12600], examples_per_second: 3834.2543, train_label_loss: 0.4886, \n"
     ]
    },
    {
     "name": "stdout",
     "output_type": "stream",
     "text": [
      "epoch: 5, [batch: 2520 / 12600], examples_per_second: 3891.8425, train_label_loss: 0.5486, \n"
     ]
    },
    {
     "name": "stdout",
     "output_type": "stream",
     "text": [
      "epoch: 5, [batch: 3780 / 12600], examples_per_second: 3919.1028, train_label_loss: 0.7227, \n"
     ]
    },
    {
     "name": "stdout",
     "output_type": "stream",
     "text": [
      "epoch: 5, [batch: 5040 / 12600], examples_per_second: 3842.1375, train_label_loss: 0.5228, \n"
     ]
    },
    {
     "name": "stdout",
     "output_type": "stream",
     "text": [
      "epoch: 5, [batch: 6300 / 12600], examples_per_second: 3896.5619, train_label_loss: 0.3638, \n"
     ]
    },
    {
     "name": "stdout",
     "output_type": "stream",
     "text": [
      "epoch: 5, [batch: 7560 / 12600], examples_per_second: 3977.6174, train_label_loss: 0.6588, \n"
     ]
    },
    {
     "name": "stdout",
     "output_type": "stream",
     "text": [
      "epoch: 5, [batch: 8820 / 12600], examples_per_second: 3957.3678, train_label_loss: 0.4942, \n"
     ]
    },
    {
     "name": "stdout",
     "output_type": "stream",
     "text": [
      "epoch: 5, [batch: 10080 / 12600], examples_per_second: 3867.7737, train_label_loss: 0.2867, \n"
     ]
    },
    {
     "name": "stdout",
     "output_type": "stream",
     "text": [
      "epoch: 5, [batch: 11340 / 12600], examples_per_second: 3953.5480, train_label_loss: 0.5336, \n"
     ]
    },
    {
     "name": "stdout",
     "output_type": "stream",
     "text": [
      "=============================================================\n",
      "epoch: 5, source_val_acc_label: 0.7119, target_val_acc_label: 0.5892, source_val_label_loss: 0.7918, target_val_label_loss: 1.2495, \n",
      "=============================================================\n"
     ]
    },
    {
     "name": "stdout",
     "output_type": "stream",
     "text": [
      "New best\n"
     ]
    },
    {
     "name": "stdout",
     "output_type": "stream",
     "text": [
      "epoch: 6, [batch: 1 / 12600], examples_per_second: 2.0687, train_label_loss: 0.4966, \n"
     ]
    },
    {
     "name": "stdout",
     "output_type": "stream",
     "text": [
      "epoch: 6, [batch: 1260 / 12600], examples_per_second: 3959.0153, train_label_loss: 0.6463, \n"
     ]
    },
    {
     "name": "stdout",
     "output_type": "stream",
     "text": [
      "epoch: 6, [batch: 2520 / 12600], examples_per_second: 3921.0581, train_label_loss: 0.6564, \n"
     ]
    },
    {
     "name": "stdout",
     "output_type": "stream",
     "text": [
      "epoch: 6, [batch: 3780 / 12600], examples_per_second: 3883.1571, train_label_loss: 0.5187, \n"
     ]
    },
    {
     "name": "stdout",
     "output_type": "stream",
     "text": [
      "epoch: 6, [batch: 5040 / 12600], examples_per_second: 3869.5127, train_label_loss: 0.3302, \n"
     ]
    },
    {
     "name": "stdout",
     "output_type": "stream",
     "text": [
      "epoch: 6, [batch: 6300 / 12600], examples_per_second: 3936.8368, train_label_loss: 0.6566, \n"
     ]
    },
    {
     "name": "stdout",
     "output_type": "stream",
     "text": [
      "epoch: 6, [batch: 7560 / 12600], examples_per_second: 3989.8290, train_label_loss: 0.4643, \n"
     ]
    },
    {
     "name": "stdout",
     "output_type": "stream",
     "text": [
      "epoch: 6, [batch: 8820 / 12600], examples_per_second: 3851.2559, train_label_loss: 0.5041, \n"
     ]
    },
    {
     "name": "stdout",
     "output_type": "stream",
     "text": [
      "epoch: 6, [batch: 10080 / 12600], examples_per_second: 3876.9430, train_label_loss: 0.3438, \n"
     ]
    },
    {
     "name": "stdout",
     "output_type": "stream",
     "text": [
      "epoch: 6, [batch: 11340 / 12600], examples_per_second: 3937.1834, train_label_loss: 0.2713, \n"
     ]
    },
    {
     "name": "stdout",
     "output_type": "stream",
     "text": [
      "=============================================================\n",
      "epoch: 6, source_val_acc_label: 0.7245, target_val_acc_label: 0.5990, source_val_label_loss: 0.8112, target_val_label_loss: 1.2977, \n",
      "=============================================================\n"
     ]
    },
    {
     "name": "stdout",
     "output_type": "stream",
     "text": [
      "New best\n"
     ]
    },
    {
     "name": "stdout",
     "output_type": "stream",
     "text": [
      "epoch: 7, [batch: 1 / 12600], examples_per_second: 2.0381, train_label_loss: 0.2944, \n"
     ]
    },
    {
     "name": "stdout",
     "output_type": "stream",
     "text": [
      "epoch: 7, [batch: 1260 / 12600], examples_per_second: 3824.6595, train_label_loss: 0.4786, \n"
     ]
    },
    {
     "name": "stdout",
     "output_type": "stream",
     "text": [
      "epoch: 7, [batch: 2520 / 12600], examples_per_second: 3984.3759, train_label_loss: 0.4565, \n"
     ]
    },
    {
     "name": "stdout",
     "output_type": "stream",
     "text": [
      "epoch: 7, [batch: 3780 / 12600], examples_per_second: 3991.0239, train_label_loss: 0.7197, \n"
     ]
    },
    {
     "name": "stdout",
     "output_type": "stream",
     "text": [
      "epoch: 7, [batch: 5040 / 12600], examples_per_second: 3878.0756, train_label_loss: 0.7674, \n"
     ]
    },
    {
     "name": "stdout",
     "output_type": "stream",
     "text": [
      "epoch: 7, [batch: 6300 / 12600], examples_per_second: 3922.6636, train_label_loss: 0.6496, \n"
     ]
    },
    {
     "name": "stdout",
     "output_type": "stream",
     "text": [
      "epoch: 7, [batch: 7560 / 12600], examples_per_second: 3856.5385, train_label_loss: 0.4583, \n"
     ]
    },
    {
     "name": "stdout",
     "output_type": "stream",
     "text": [
      "epoch: 7, [batch: 8820 / 12600], examples_per_second: 3830.3237, train_label_loss: 0.6539, \n"
     ]
    },
    {
     "name": "stdout",
     "output_type": "stream",
     "text": [
      "epoch: 7, [batch: 10080 / 12600], examples_per_second: 3886.8740, train_label_loss: 0.4362, \n"
     ]
    },
    {
     "name": "stdout",
     "output_type": "stream",
     "text": [
      "epoch: 7, [batch: 11340 / 12600], examples_per_second: 4018.6013, train_label_loss: 0.4590, \n"
     ]
    },
    {
     "name": "stdout",
     "output_type": "stream",
     "text": [
      "=============================================================\n",
      "epoch: 7, source_val_acc_label: 0.7063, target_val_acc_label: 0.5873, source_val_label_loss: 0.8229, target_val_label_loss: 1.2897, \n",
      "=============================================================\n"
     ]
    },
    {
     "name": "stdout",
     "output_type": "stream",
     "text": [
      "epoch: 8, [batch: 1 / 12600], examples_per_second: 2.0007, train_label_loss: 0.4848, \n"
     ]
    },
    {
     "name": "stdout",
     "output_type": "stream",
     "text": [
      "epoch: 8, [batch: 1260 / 12600], examples_per_second: 4121.9049, train_label_loss: 0.5679, \n"
     ]
    },
    {
     "name": "stdout",
     "output_type": "stream",
     "text": [
      "epoch: 8, [batch: 2520 / 12600], examples_per_second: 4421.9361, train_label_loss: 0.3283, \n"
     ]
    },
    {
     "name": "stdout",
     "output_type": "stream",
     "text": [
      "epoch: 8, [batch: 3780 / 12600], examples_per_second: 4220.9972, train_label_loss: 0.4629, \n"
     ]
    },
    {
     "name": "stdout",
     "output_type": "stream",
     "text": [
      "epoch: 8, [batch: 5040 / 12600], examples_per_second: 4359.4234, train_label_loss: 0.5552, \n"
     ]
    },
    {
     "name": "stdout",
     "output_type": "stream",
     "text": [
      "epoch: 8, [batch: 6300 / 12600], examples_per_second: 4253.7640, train_label_loss: 0.5661, \n"
     ]
    },
    {
     "name": "stdout",
     "output_type": "stream",
     "text": [
      "epoch: 8, [batch: 7560 / 12600], examples_per_second: 4193.0706, train_label_loss: 0.1289, \n"
     ]
    },
    {
     "name": "stdout",
     "output_type": "stream",
     "text": [
      "epoch: 8, [batch: 8820 / 12600], examples_per_second: 4112.8908, train_label_loss: 0.2464, \n"
     ]
    },
    {
     "name": "stdout",
     "output_type": "stream",
     "text": [
      "epoch: 8, [batch: 10080 / 12600], examples_per_second: 4657.8236, train_label_loss: 0.4805, \n"
     ]
    },
    {
     "name": "stdout",
     "output_type": "stream",
     "text": [
      "epoch: 8, [batch: 11340 / 12600], examples_per_second: 4930.4397, train_label_loss: 0.5311, \n"
     ]
    },
    {
     "name": "stdout",
     "output_type": "stream",
     "text": [
      "=============================================================\n",
      "epoch: 8, source_val_acc_label: 0.7168, target_val_acc_label: 0.5954, source_val_label_loss: 0.8497, target_val_label_loss: 1.3514, \n",
      "=============================================================\n"
     ]
    },
    {
     "name": "stdout",
     "output_type": "stream",
     "text": [
      "epoch: 9, [batch: 1 / 12600], examples_per_second: 2.3854, train_label_loss: 0.2699, \n"
     ]
    },
    {
     "name": "stdout",
     "output_type": "stream",
     "text": [
      "epoch: 9, [batch: 1260 / 12600], examples_per_second: 4702.2920, train_label_loss: 0.4862, \n"
     ]
    },
    {
     "name": "stdout",
     "output_type": "stream",
     "text": [
      "epoch: 9, [batch: 2520 / 12600], examples_per_second: 4928.8317, train_label_loss: 0.4362, \n"
     ]
    },
    {
     "name": "stdout",
     "output_type": "stream",
     "text": [
      "epoch: 9, [batch: 3780 / 12600], examples_per_second: 5182.9697, train_label_loss: 0.5785, \n"
     ]
    },
    {
     "name": "stdout",
     "output_type": "stream",
     "text": [
      "epoch: 9, [batch: 5040 / 12600], examples_per_second: 5114.0646, train_label_loss: 0.2657, \n"
     ]
    },
    {
     "name": "stdout",
     "output_type": "stream",
     "text": [
      "epoch: 9, [batch: 6300 / 12600], examples_per_second: 5105.9930, train_label_loss: 0.5728, \n"
     ]
    },
    {
     "name": "stdout",
     "output_type": "stream",
     "text": [
      "epoch: 9, [batch: 7560 / 12600], examples_per_second: 5313.4361, train_label_loss: 0.4552, \n"
     ]
    },
    {
     "name": "stdout",
     "output_type": "stream",
     "text": [
      "epoch: 9, [batch: 8820 / 12600], examples_per_second: 4932.5265, train_label_loss: 0.1940, \n"
     ]
    },
    {
     "name": "stdout",
     "output_type": "stream",
     "text": [
      "epoch: 9, [batch: 10080 / 12600], examples_per_second: 4975.4614, train_label_loss: 0.2021, \n"
     ]
    },
    {
     "name": "stdout",
     "output_type": "stream",
     "text": [
      "epoch: 9, [batch: 11340 / 12600], examples_per_second: 5075.5500, train_label_loss: 0.3517, \n"
     ]
    },
    {
     "name": "stdout",
     "output_type": "stream",
     "text": [
      "=============================================================\n",
      "epoch: 9, source_val_acc_label: 0.7139, target_val_acc_label: 0.5901, source_val_label_loss: 0.8829, target_val_label_loss: 1.3988, \n",
      "=============================================================\n"
     ]
    },
    {
     "name": "stdout",
     "output_type": "stream",
     "text": [
      "epoch: 10, [batch: 1 / 12600], examples_per_second: 2.4499, train_label_loss: 0.3405, \n"
     ]
    },
    {
     "name": "stdout",
     "output_type": "stream",
     "text": [
      "epoch: 10, [batch: 1260 / 12600], examples_per_second: 4045.2133, train_label_loss: 0.5056, \n"
     ]
    },
    {
     "name": "stdout",
     "output_type": "stream",
     "text": [
      "epoch: 10, [batch: 2520 / 12600], examples_per_second: 3869.5546, train_label_loss: 0.1365, \n"
     ]
    },
    {
     "name": "stdout",
     "output_type": "stream",
     "text": [
      "epoch: 10, [batch: 3780 / 12600], examples_per_second: 3779.6243, train_label_loss: 0.1449, \n"
     ]
    },
    {
     "name": "stdout",
     "output_type": "stream",
     "text": [
      "epoch: 10, [batch: 5040 / 12600], examples_per_second: 3761.8373, train_label_loss: 0.1609, \n"
     ]
    },
    {
     "name": "stdout",
     "output_type": "stream",
     "text": [
      "epoch: 10, [batch: 6300 / 12600], examples_per_second: 3944.6530, train_label_loss: 0.3693, \n"
     ]
    },
    {
     "name": "stdout",
     "output_type": "stream",
     "text": [
      "epoch: 10, [batch: 7560 / 12600], examples_per_second: 3923.6414, train_label_loss: 0.2896, \n"
     ]
    },
    {
     "name": "stdout",
     "output_type": "stream",
     "text": [
      "epoch: 10, [batch: 8820 / 12600], examples_per_second: 3830.2569, train_label_loss: 0.3772, \n"
     ]
    },
    {
     "name": "stdout",
     "output_type": "stream",
     "text": [
      "epoch: 10, [batch: 10080 / 12600], examples_per_second: 3943.7184, train_label_loss: 0.2110, \n"
     ]
    },
    {
     "name": "stdout",
     "output_type": "stream",
     "text": [
      "epoch: 10, [batch: 11340 / 12600], examples_per_second: 3903.6169, train_label_loss: 0.2307, \n"
     ]
    },
    {
     "name": "stdout",
     "output_type": "stream",
     "text": [
      "=============================================================\n",
      "epoch: 10, source_val_acc_label: 0.7137, target_val_acc_label: 0.5928, source_val_label_loss: 0.9312, target_val_label_loss: 1.4595, \n",
      "=============================================================\n"
     ]
    },
    {
     "name": "stdout",
     "output_type": "stream",
     "text": [
      "Patience (3) exhausted\n"
     ]
    }
   ],
   "source": [
    "###################################\n",
    "# train\n",
    "###################################\n",
    "jig = PTN_Train_Eval_Test_Jig(model, p.BEST_MODEL_PATH, p.device)\n",
    "\n",
    "jig.train(\n",
    "    train_iterable=datasets.source.processed.train,\n",
    "    source_val_iterable=datasets.source.processed.val,\n",
    "    target_val_iterable=datasets.target.processed.val,\n",
    "    num_epochs=p.n_epoch,\n",
    "    num_logs_per_epoch=p.NUM_LOGS_PER_EPOCH,\n",
    "    patience=p.patience,\n",
    "    optimizer=optimizer,\n",
    "    criteria_for_best=p.criteria_for_best,\n",
    ")"
   ]
  },
  {
   "cell_type": "code",
   "execution_count": 14,
   "id": "31e8fabf",
   "metadata": {
    "execution": {
     "iopub.execute_input": "2022-03-26T17:50:22.982449Z",
     "iopub.status.busy": "2022-03-26T17:50:22.981870Z",
     "iopub.status.idle": "2022-03-26T17:50:23.015048Z",
     "shell.execute_reply": "2022-03-26T17:50:23.014134Z"
    },
    "papermill": {
     "duration": 0.087137,
     "end_time": "2022-03-26T17:50:23.015239",
     "exception": false,
     "start_time": "2022-03-26T17:50:22.928102",
     "status": "completed"
    },
    "tags": []
   },
   "outputs": [],
   "source": [
    "total_experiment_time_secs = time.time() - start_time_secs"
   ]
  },
  {
   "cell_type": "code",
   "execution_count": 15,
   "id": "87b9595b",
   "metadata": {
    "execution": {
     "iopub.execute_input": "2022-03-26T17:50:23.129790Z",
     "iopub.status.busy": "2022-03-26T17:50:23.129166Z",
     "iopub.status.idle": "2022-03-26T17:57:16.428736Z",
     "shell.execute_reply": "2022-03-26T17:57:16.427959Z"
    },
    "papermill": {
     "duration": 413.359186,
     "end_time": "2022-03-26T17:57:16.428920",
     "exception": false,
     "start_time": "2022-03-26T17:50:23.069734",
     "status": "completed"
    },
    "tags": []
   },
   "outputs": [],
   "source": [
    "###################################\n",
    "# Evaluate the model\n",
    "###################################\n",
    "source_test_label_accuracy, source_test_label_loss = jig.test(datasets.source.processed.test)\n",
    "target_test_label_accuracy, target_test_label_loss = jig.test(datasets.target.processed.test)\n",
    "\n",
    "source_val_label_accuracy, source_val_label_loss = jig.test(datasets.source.processed.val)\n",
    "target_val_label_accuracy, target_val_label_loss = jig.test(datasets.target.processed.val)\n",
    "\n",
    "history = jig.get_history()\n",
    "\n",
    "total_epochs_trained = len(history[\"epoch_indices\"])\n",
    "\n",
    "val_dl = Iterable_Aggregator((datasets.source.original.val,datasets.target.original.val))\n",
    "\n",
    "confusion = ptn_confusion_by_domain_over_dataloader(model, p.device, val_dl)\n",
    "per_domain_accuracy = per_domain_accuracy_from_confusion(confusion)\n",
    "\n",
    "# Add a key to per_domain_accuracy for if it was a source domain\n",
    "for domain, accuracy in per_domain_accuracy.items():\n",
    "    per_domain_accuracy[domain] = {\n",
    "        \"accuracy\": accuracy,\n",
    "        \"source?\": domain in p.domains_source\n",
    "    }\n",
    "\n",
    "# Do an independent accuracy assesment JUST TO BE SURE!\n",
    "# _source_test_label_accuracy = independent_accuracy_assesment(model, datasets.source.processed.test, p.device)\n",
    "# _target_test_label_accuracy = independent_accuracy_assesment(model, datasets.target.processed.test, p.device)\n",
    "# _source_val_label_accuracy = independent_accuracy_assesment(model, datasets.source.processed.val, p.device)\n",
    "# _target_val_label_accuracy = independent_accuracy_assesment(model, datasets.target.processed.val, p.device)\n",
    "\n",
    "# assert(_source_test_label_accuracy == source_test_label_accuracy)\n",
    "# assert(_target_test_label_accuracy == target_test_label_accuracy)\n",
    "# assert(_source_val_label_accuracy == source_val_label_accuracy)\n",
    "# assert(_target_val_label_accuracy == target_val_label_accuracy)\n",
    "\n",
    "experiment = {\n",
    "    \"experiment_name\": p.experiment_name,\n",
    "    \"parameters\": dict(p),\n",
    "    \"results\": {\n",
    "        \"source_test_label_accuracy\": source_test_label_accuracy,\n",
    "        \"source_test_label_loss\": source_test_label_loss,\n",
    "        \"target_test_label_accuracy\": target_test_label_accuracy,\n",
    "        \"target_test_label_loss\": target_test_label_loss,\n",
    "        \"source_val_label_accuracy\": source_val_label_accuracy,\n",
    "        \"source_val_label_loss\": source_val_label_loss,\n",
    "        \"target_val_label_accuracy\": target_val_label_accuracy,\n",
    "        \"target_val_label_loss\": target_val_label_loss,\n",
    "        \"total_epochs_trained\": total_epochs_trained,\n",
    "        \"total_experiment_time_secs\": total_experiment_time_secs,\n",
    "        \"confusion\": confusion,\n",
    "        \"per_domain_accuracy\": per_domain_accuracy,\n",
    "    },\n",
    "    \"history\": history,\n",
    "    \"dataset_metrics\": get_dataset_metrics(datasets, \"ptn\"),\n",
    "}"
   ]
  },
  {
   "cell_type": "code",
   "execution_count": 16,
   "id": "54a21829",
   "metadata": {
    "execution": {
     "iopub.execute_input": "2022-03-26T17:57:16.545448Z",
     "iopub.status.busy": "2022-03-26T17:57:16.544865Z",
     "iopub.status.idle": "2022-03-26T17:57:16.775163Z",
     "shell.execute_reply": "2022-03-26T17:57:16.775937Z"
    },
    "papermill": {
     "duration": 0.293397,
     "end_time": "2022-03-26T17:57:16.776156",
     "exception": false,
     "start_time": "2022-03-26T17:57:16.482759",
     "status": "completed"
    },
    "tags": []
   },
   "outputs": [
    {
     "data": {
      "image/png": "[encoded data removed]",
      "text/plain": [
       "<Figure size 1080x504 with 1 Axes>"
      ]
     },
     "metadata": {
      "needs_background": "light"
     },
     "output_type": "display_data"
    }
   ],
   "source": [
    "ax = get_loss_curve(experiment)\n",
    "plt.show()"
   ]
  },
  {
   "cell_type": "code",
   "execution_count": 17,
   "id": "fd8a0f60",
   "metadata": {
    "execution": {
     "iopub.execute_input": "2022-03-26T17:57:16.888253Z",
     "iopub.status.busy": "2022-03-26T17:57:16.887748Z",
     "iopub.status.idle": "2022-03-26T17:57:17.267026Z",
     "shell.execute_reply": "2022-03-26T17:57:17.267347Z"
    },
    "papermill": {
     "duration": 0.434903,
     "end_time": "2022-03-26T17:57:17.267465",
     "exception": false,
     "start_time": "2022-03-26T17:57:16.832562",
     "status": "completed"
    },
    "tags": []
   },
   "outputs": [
    {
     "data": {
      "text/plain": [
       "<AxesSubplot:title={'center':'Results'}>"
      ]
     },
     "execution_count": 17,
     "metadata": {},
     "output_type": "execute_result"
    },
    {
     "data": {
      "image/png": "[encoded data removed]",
      "text/plain": [
       "<Figure size 1080x504 with 1 Axes>"
      ]
     },
     "metadata": {
      "needs_background": "light"
     },
     "output_type": "display_data"
    }
   ],
   "source": [
    "get_results_table(experiment)"
   ]
  },
  {
   "cell_type": "code",
   "execution_count": 18,
   "id": "cf8dc689",
   "metadata": {
    "execution": {
     "iopub.execute_input": "2022-03-26T17:57:17.374856Z",
     "iopub.status.busy": "2022-03-26T17:57:17.374483Z",
     "iopub.status.idle": "2022-03-26T17:57:17.587172Z",
     "shell.execute_reply": "2022-03-26T17:57:17.586401Z"
    },
    "papermill": {
     "duration": 0.267665,
     "end_time": "2022-03-26T17:57:17.587332",
     "exception": false,
     "start_time": "2022-03-26T17:57:17.319667",
     "status": "completed"
    },
    "tags": []
   },
   "outputs": [
    {
     "data": {
      "text/plain": [
       "<AxesSubplot:title={'center':'Per Domain Validation Accuracy'}, xlabel='domain'>"
      ]
     },
     "execution_count": 18,
     "metadata": {},
     "output_type": "execute_result"
    },
    {
     "data": {
      "image/png": "[encoded data removed]",
      "text/plain": [
       "<Figure size 1080x504 with 1 Axes>"
      ]
     },
     "metadata": {
      "needs_background": "light"
     },
     "output_type": "display_data"
    }
   ],
   "source": [
    "get_domain_accuracies(experiment)"
   ]
  },
  {
   "cell_type": "code",
   "execution_count": 19,
   "id": "a74ae082",
   "metadata": {
    "execution": {
     "iopub.execute_input": "2022-03-26T17:57:17.704241Z",
     "iopub.status.busy": "2022-03-26T17:57:17.703864Z",
     "iopub.status.idle": "2022-03-26T17:57:17.727755Z",
     "shell.execute_reply": "2022-03-26T17:57:17.726913Z"
    },
    "papermill": {
     "duration": 0.080653,
     "end_time": "2022-03-26T17:57:17.727915",
     "exception": false,
     "start_time": "2022-03-26T17:57:17.647262",
     "status": "completed"
    },
    "tags": []
   },
   "outputs": [
    {
     "name": "stdout",
     "output_type": "stream",
     "text": [
      "Source Test Label Accuracy: 0.7200173611111111 Target Test Label Accuracy: 0.5963125\n",
      "Source Val Label Accuracy: 0.7244791666666667 Target Val Label Accuracy: 0.5989791666666666\n"
     ]
    }
   ],
   "source": [
    "print(\"Source Test Label Accuracy:\", experiment[\"results\"][\"source_test_label_accuracy\"], \"Target Test Label Accuracy:\", experiment[\"results\"][\"target_test_label_accuracy\"])\n",
    "print(\"Source Val Label Accuracy:\", experiment[\"results\"][\"source_val_label_accuracy\"], \"Target Val Label Accuracy:\", experiment[\"results\"][\"target_val_label_accuracy\"])"
   ]
  },
  {
   "cell_type": "code",
   "execution_count": 20,
   "id": "dacca602",
   "metadata": {
    "execution": {
     "iopub.execute_input": "2022-03-26T17:57:17.844960Z",
     "iopub.status.busy": "2022-03-26T17:57:17.844583Z",
     "iopub.status.idle": "2022-03-26T17:57:17.868142Z",
     "shell.execute_reply": "2022-03-26T17:57:17.868829Z"
    },
    "papermill": {
     "duration": 0.080733,
     "end_time": "2022-03-26T17:57:17.869014",
     "exception": false,
     "start_time": "2022-03-26T17:57:17.788281",
     "status": "completed"
    },
    "tags": [
     "experiment_json"
    ]
   },
   "outputs": [
    {
     "data": {
      "text/plain": [
       "'{\"experiment_name\": \"tuned_1v2:oracle.run2_limited\", \"parameters\": {\"experiment_name\": \"tuned_1v2:oracle.run2_limited\", \"device\": \"cuda\", \"lr\": 0.0001, \"labels_source\": [\"3123D52\", \"3123D65\", \"3123D79\", \"3123D80\", \"3123D54\", \"3123D70\", \"3123D7B\", \"3123D89\", \"3123D58\", \"3123D76\", \"3123D7D\", \"3123EFE\", \"3123D64\", \"3123D78\", \"3123D7E\", \"3124E4A\"], \"labels_target\": [\"3123D52\", \"3123D65\", \"3123D79\", \"3123D80\", \"3123D54\", \"3123D70\", \"3123D7B\", \"3123D89\", \"3123D58\", \"3123D76\", \"3123D7D\", \"3123EFE\", \"3123D64\", \"3123D78\", \"3123D7E\", \"3124E4A\"], \"episode_transforms_source\": [], \"episode_transforms_target\": [], \"domains_source\": [8, 32, 50], \"domains_target\": [14, 20, 26, 38, 44], \"num_examples_per_domain_per_label_source\": -1, \"num_examples_per_domain_per_label_target\": -1, \"n_shot\": 3, \"n_way\": 16, \"n_query\": 2, \"train_k_factor\": 3, \"val_k_factor\": 2, \"test_k_factor\": 2, \"torch_default_dtype\": \"torch.float32\", \"n_epoch\": 50, \"patience\": 3, \"criteria_for_best\": \"target_accuracy\", \"x_net\": [{\"class\": \"nnReshape\", \"kargs\": {\"shape\": [-1, 1, 2, 256]}}, {\"class\": \"Conv2d\", \"kargs\": {\"in_channels\": 1, \"out_channels\": 256, \"kernel_size\": [1, 7], \"bias\": false, \"padding\": [0, 3]}}, {\"class\": \"ReLU\", \"kargs\": {\"inplace\": true}}, {\"class\": \"BatchNorm2d\", \"kargs\": {\"num_features\": 256}}, {\"class\": \"Conv2d\", \"kargs\": {\"in_channels\": 256, \"out_channels\": 80, \"kernel_size\": [2, 7], \"bias\": true, \"padding\": [0, 3]}}, {\"class\": \"ReLU\", \"kargs\": {\"inplace\": true}}, {\"class\": \"BatchNorm2d\", \"kargs\": {\"num_features\": 80}}, {\"class\": \"Flatten\", \"kargs\": {}}, {\"class\": \"Linear\", \"kargs\": {\"in_features\": 20480, \"out_features\": 256}}, {\"class\": \"ReLU\", \"kargs\": {\"inplace\": true}}, {\"class\": \"BatchNorm1d\", \"kargs\": {\"num_features\": 256}}, {\"class\": \"Linear\", \"kargs\": {\"in_features\": 256, \"out_features\": 256}}], \"NUM_LOGS_PER_EPOCH\": 10, \"BEST_MODEL_PATH\": \"./best_model.pth\", \"pickle_name\": \"oracle.Run2_10kExamples_stratified_ds.2022A.pkl\", \"x_transforms_source\": [\"unit_power\"], \"x_transforms_target\": [\"unit_power\"], \"dataset_seed\": 500, \"seed\": 500}, \"results\": {\"source_test_label_accuracy\": 0.7200173611111111, \"source_test_label_loss\": 0.8125007152557373, \"target_test_label_accuracy\": 0.5963125, \"target_test_label_loss\": 1.3138091564178467, \"source_val_label_accuracy\": 0.7244791666666667, \"source_val_label_loss\": 0.8112276792526245, \"target_val_label_accuracy\": 0.5989791666666666, \"target_val_label_loss\": 1.2977030277252197, \"total_epochs_trained\": 10, \"total_experiment_time_secs\": 3136.6955695152283, \"confusion\": {\"8\": {\"7\": {\"7\": 527, \"2\": 180, \"4\": 257, \"6\": 218, \"8\": 9, \"15\": 5, \"13\": 2, \"14\": 2}, \"10\": {\"10\": 792, \"1\": 12, \"0\": 189, \"13\": 56, \"14\": 45, \"5\": 106}, \"0\": {\"14\": 228, \"0\": 779, \"13\": 17, \"10\": 163, \"6\": 6, \"5\": 2, \"4\": 5}, \"11\": {\"11\": 591, \"15\": 223, \"12\": 118, \"8\": 268}, \"2\": {\"2\": 951, \"7\": 137, \"6\": 23, \"4\": 87, \"3\": 1, \"8\": 1}, \"14\": {\"13\": 147, \"14\": 712, \"0\": 232, \"6\": 63, \"10\": 28, \"4\": 15, \"8\": 1, \"1\": 2}, \"9\": {\"9\": 1200}, \"13\": {\"13\": 796, \"10\": 70, \"1\": 123, \"14\": 167, \"0\": 21, \"6\": 12, \"7\": 2, \"5\": 5, \"8\": 3, \"4\": 1}, \"8\": {\"8\": 962, \"11\": 119, \"15\": 81, \"6\": 13, \"7\": 16, \"14\": 1, \"4\": 2, \"13\": 6}, \"15\": {\"15\": 657, \"11\": 198, \"8\": 115, \"12\": 206, \"7\": 8, \"3\": 14, \"6\": 1, \"4\": 1}, \"4\": {\"4\": 463, \"7\": 276, \"6\": 349, \"14\": 13, \"2\": 93, \"8\": 6}, \"5\": {\"5\": 1005, \"10\": 155, \"1\": 31, \"13\": 6, \"0\": 3}, \"3\": {\"3\": 1044, \"12\": 154, \"15\": 2}, \"1\": {\"1\": 1047, \"5\": 21, \"13\": 121, \"10\": 11}, \"6\": {\"6\": 563, \"2\": 19, \"4\": 341, \"7\": 216, \"14\": 45, \"8\": 9, \"13\": 4, \"0\": 2, \"15\": 1}, \"12\": {\"12\": 929, \"3\": 126, \"15\": 124, \"11\": 21}}, \"50\": {\"11\": {\"11\": 1105, \"15\": 31, \"14\": 41, \"9\": 15, \"12\": 7, \"1\": 1}, \"2\": {\"2\": 1133, \"0\": 63, \"14\": 3, \"1\": 1}, \"12\": {\"12\": 1088, \"14\": 42, \"9\": 66, \"11\": 4}, \"8\": {\"8\": 1164, \"3\": 35, \"10\": 1}, \"4\": {\"4\": 594, \"5\": 326, \"6\": 224, \"7\": 8, \"10\": 7, \"1\": 37, \"13\": 1, \"2\": 1, \"0\": 2}, \"10\": {\"7\": 74, \"10\": 844, \"13\": 167, \"5\": 77, \"4\": 8, \"0\": 30}, \"14\": {\"14\": 1149, \"12\": 30, \"11\": 21}, \"13\": {\"10\": 127, \"13\": 558, \"7\": 464, \"5\": 50, \"4\": 1}, \"6\": {\"6\": 588, \"1\": 289, \"4\": 264, \"5\": 47, \"15\": 9, \"0\": 3}, \"9\": {\"9\": 1096, \"12\": 85, \"11\": 19}, \"15\": {\"15\": 1065, \"6\": 19, \"11\": 55, \"1\": 59, \"14\": 1, \"4\": 1}, \"1\": {\"1\": 872, \"6\": 236, \"15\": 55, \"4\": 32, \"14\": 2, \"5\": 2, \"2\": 1}, \"3\": {\"3\": 1148, \"8\": 52}, \"7\": {\"7\": 533, \"13\": 482, \"10\": 92, \"5\": 87, \"4\": 6}, \"0\": {\"0\": 1064, \"2\": 113, \"10\": 18, \"5\": 1, \"4\": 2, \"6\": 1, \"1\": 1}, \"5\": {\"10\": 72, \"5\": 612, \"4\": 323, \"13\": 58, \"7\": 67, \"0\": 6, \"6\": 51, \"1\": 11}}, \"32\": {\"4\": {\"11\": 76, \"8\": 78, \"0\": 173, \"4\": 414, \"13\": 224, \"2\": 26, \"5\": 137, \"7\": 69, \"3\": 3}, \"14\": {\"2\": 158, \"14\": 968, \"5\": 46, \"0\": 20, \"11\": 7, \"4\": 1}, \"5\": {\"8\": 160, \"13\": 63, \"5\": 439, \"14\": 81, \"4\": 140, \"0\": 159, \"2\": 128, \"3\": 9, \"11\": 13, \"15\": 2, \"7\": 6}, \"10\": {\"10\": 1198, \"1\": 2}, \"13\": {\"13\": 572, \"4\": 211, \"7\": 160, \"8\": 70, \"0\": 48, \"11\": 80, \"5\": 27, \"3\": 31, \"2\": 1}, \"9\": {\"9\": 1152, \"14\": 47, \"2\": 1}, \"6\": {\"6\": 1200}, \"3\": {\"3\": 1144, \"13\": 37, \"8\": 12, \"7\": 7}, \"15\": {\"15\": 1184, \"8\": 15, \"5\": 1}, \"7\": {\"11\": 289, \"4\": 70, \"7\": 650, \"13\": 157, \"2\": 13, \"0\": 17, \"5\": 2, \"8\": 2}, \"12\": {\"12\": 1199, \"9\": 1}, \"8\": {\"8\": 864, \"0\": 53, \"4\": 61, \"5\": 95, \"13\": 91, \"15\": 8, \"3\": 24, \"11\": 3, \"7\": 1}, \"11\": {\"0\": 128, \"11\": 494, \"13\": 111, \"8\": 8, \"7\": 314, \"2\": 52, \"4\": 77, \"5\": 13, \"14\": 3}, \"2\": {\"2\": 889, \"4\": 32, \"5\": 72, \"14\": 118, \"11\": 35, \"7\": 10, \"0\": 44}, \"1\": {\"1\": 1194, \"10\": 6}, \"0\": {\"13\": 42, \"0\": 538, \"5\": 197, \"4\": 160, \"2\": 48, \"11\": 141, \"8\": 45, \"14\": 9, \"7\": 20}}, \"20\": {\"7\": {\"7\": 813, \"5\": 31, \"3\": 127, \"8\": 108, \"6\": 29, \"10\": 37, \"2\": 35, \"9\": 12, \"11\": 2, \"14\": 6}, \"10\": {\"10\": 636, \"7\": 50, \"14\": 194, \"4\": 34, \"8\": 233, \"5\": 4, \"3\": 16, \"6\": 30, \"15\": 1, \"12\": 1, \"9\": 1}, \"0\": {\"0\": 497, \"4\": 115, \"1\": 243, \"12\": 177, \"5\": 63, \"15\": 45, \"9\": 24, \"2\": 20, \"3\": 8, \"13\": 6, \"7\": 2}, \"11\": {\"11\": 1195, \"13\": 1, \"7\": 2, \"9\": 2}, \"2\": {\"15\": 110, \"2\": 279, \"9\": 234, \"13\": 86, \"3\": 190, \"12\": 57, \"5\": 182, \"1\": 15, \"0\": 18, \"7\": 19, \"4\": 6, \"8\": 2, \"10\": 2}, \"14\": {\"14\": 701, \"8\": 163, \"10\": 237, \"6\": 92, \"4\": 3, \"7\": 3, \"3\": 1}, \"9\": {\"5\": 145, \"13\": 65, \"3\": 122, \"15\": 163, \"1\": 30, \"0\": 21, \"9\": 270, \"2\": 255, \"12\": 113, \"7\": 11, \"4\": 4, \"8\": 1}, \"13\": {\"15\": 255, \"2\": 58, \"13\": 733, \"9\": 70, \"1\": 31, \"5\": 22, \"12\": 16, \"3\": 9, \"0\": 5, \"7\": 1}, \"8\": {\"8\": 534, \"7\": 159, \"14\": 158, \"10\": 225, \"6\": 32, \"4\": 48, \"3\": 28, \"2\": 2, \"5\": 11, \"12\": 3}, \"15\": {\"2\": 118, \"9\": 143, \"13\": 287, \"12\": 112, \"1\": 115, \"15\": 313, \"0\": 36, \"5\": 56, \"3\": 17, \"4\": 2, \"7\": 1}, \"4\": {\"8\": 36, \"4\": 942, \"12\": 42, \"5\": 34, \"0\": 95, \"14\": 2, \"1\": 6, \"3\": 15, \"10\": 17, \"2\": 5, \"7\": 2, \"9\": 4}, \"5\": {\"1\": 39, \"5\": 227, \"3\": 213, \"10\": 3, \"4\": 51, \"7\": 49, \"12\": 123, \"2\": 197, \"9\": 133, \"0\": 82, \"15\": 50, \"13\": 20, \"8\": 13}, \"3\": {\"3\": 352, \"2\": 179, \"12\": 32, \"7\": 196, \"5\": 196, \"8\": 32, \"9\": 137, \"15\": 26, \"10\": 21, \"0\": 3, \"4\": 21, \"13\": 3, \"1\": 1, \"14\": 1}, \"1\": {\"1\": 541, \"0\": 212, \"12\": 227, \"15\": 119, \"13\": 27, \"2\": 18, \"9\": 17, \"5\": 25, \"4\": 13, \"3\": 1}, \"6\": {\"6\": 1031, \"14\": 84, \"8\": 25, \"10\": 19, \"7\": 41}, \"12\": {\"4\": 58, \"1\": 243, \"15\": 117, \"12\": 324, \"9\": 94, \"0\": 191, \"5\": 85, \"13\": 14, \"2\": 56, \"3\": 18}}, \"14\": {\"14\": {\"14\": 680, \"13\": 16, \"2\": 138, \"6\": 241, \"3\": 72, \"5\": 15, \"0\": 22, \"4\": 16}, \"6\": {\"6\": 730, \"14\": 138, \"2\": 66, \"13\": 255, \"3\": 2, \"4\": 5, \"5\": 4}, \"5\": {\"1\": 164, \"3\": 74, \"4\": 374, \"5\": 467, \"2\": 116, \"13\": 1, \"14\": 3, \"6\": 1}, \"15\": {\"7\": 62, \"15\": 1137, \"2\": 1}, \"11\": {\"11\": 1108, \"9\": 10, \"12\": 58, \"10\": 24}, \"8\": {\"8\": 1200}, \"12\": {\"12\": 599, \"11\": 319, \"0\": 102, \"9\": 100, \"10\": 53, \"8\": 26, \"3\": 1}, \"1\": {\"1\": 999, \"5\": 138, \"4\": 55, \"3\": 6, \"7\": 1, \"2\": 1}, \"2\": {\"5\": 157, \"4\": 106, \"13\": 118, \"14\": 161, \"6\": 70, \"3\": 83, \"2\": 483, \"15\": 11, \"1\": 11}, \"13\": {\"14\": 15, \"13\": 790, \"6\": 295, \"2\": 96, \"4\": 3, \"5\": 1}, \"3\": {\"3\": 933, \"5\": 67, \"4\": 121, \"2\": 29, \"0\": 2, \"8\": 1, \"14\": 43, \"6\": 3, \"1\": 1}, \"0\": {\"0\": 1146, \"10\": 46, \"3\": 3, \"14\": 2, \"11\": 1, \"9\": 1, \"12\": 1}, \"9\": {\"9\": 1191, \"12\": 5, \"11\": 3, \"0\": 1}, \"4\": {\"5\": 372, \"3\": 102, \"4\": 577, \"1\": 52, \"2\": 87, \"13\": 2, \"14\": 6, \"6\": 2}, \"7\": {\"7\": 1145, \"15\": 55}, \"10\": {\"10\": 997, \"0\": 165, \"11\": 34, \"14\": 1, \"12\": 3}}, \"38\": {\"4\": {\"4\": 1092, \"12\": 96, \"10\": 7, \"7\": 4, \"11\": 1}, \"14\": {\"14\": 621, \"2\": 277, \"11\": 111, \"12\": 145, \"7\": 23, \"5\": 12, \"8\": 3, \"13\": 3, \"10\": 5}, \"5\": {\"8\": 328, \"3\": 29, \"5\": 380, \"15\": 136, \"7\": 128, \"13\": 170, \"10\": 28, \"1\": 1}, \"10\": {\"7\": 441, \"5\": 39, \"13\": 22, \"10\": 561, \"3\": 52, \"15\": 8, \"8\": 49, \"0\": 26, \"4\": 1, \"12\": 1}, \"13\": {\"3\": 99, \"15\": 282, \"8\": 173, \"10\": 25, \"13\": 221, \"5\": 208, \"7\": 45, \"2\": 10, \"1\": 104, \"6\": 19, \"0\": 8, \"14\": 6}, \"9\": {\"6\": 432, \"9\": 754, \"3\": 10, \"13\": 1, \"0\": 3}, \"6\": {\"6\": 796, \"9\": 388, \"3\": 11, \"0\": 2, \"15\": 2, \"13\": 1}, \"3\": {\"0\": 334, \"7\": 51, \"3\": 343, \"10\": 81, \"5\": 40, \"8\": 67, \"13\": 56, \"9\": 58, \"6\": 79, \"15\": 87, \"1\": 4}, \"15\": {\"15\": 441, \"3\": 78, \"5\": 138, \"13\": 257, \"1\": 86, \"8\": 170, \"0\": 3, \"10\": 3, \"7\": 14, \"6\": 8, \"9\": 2}, \"7\": {\"10\": 392, \"7\": 529, \"8\": 93, \"13\": 33, \"5\": 119, \"15\": 5, \"3\": 26, \"14\": 1, \"0\": 2}, \"12\": {\"12\": 1128, \"4\": 43, \"14\": 18, \"7\": 1, \"11\": 8, \"10\": 1, \"13\": 1}, \"8\": {\"5\": 321, \"8\": 358, \"15\": 164, \"3\": 42, \"13\": 183, \"7\": 95, \"10\": 30, \"1\": 5, \"0\": 2}, \"11\": {\"11\": 918, \"14\": 125, \"12\": 147, \"2\": 7, \"4\": 3}, \"2\": {\"2\": 1053, \"14\": 146, \"11\": 1}, \"1\": {\"1\": 1085, \"15\": 71, \"13\": 38, \"5\": 4, \"6\": 2}, \"0\": {\"9\": 7, \"0\": 888, \"7\": 10, \"3\": 255, \"10\": 28, \"8\": 2, \"6\": 3, \"13\": 4, \"5\": 1, \"15\": 2}}, \"44\": {\"8\": {\"8\": 686, \"0\": 477, \"14\": 6, \"5\": 16, \"15\": 15}, \"11\": {\"11\": 1097, \"6\": 90, \"7\": 11, \"9\": 2}, \"14\": {\"14\": 880, \"5\": 100, \"15\": 137, \"4\": 80, \"13\": 3}, \"10\": {\"10\": 1131, \"1\": 25, \"12\": 42, \"7\": 2}, \"3\": {\"3\": 989, \"12\": 67, \"1\": 144}, \"15\": {\"15\": 990, \"8\": 11, \"14\": 140, \"4\": 59}, \"2\": {\"9\": 304, \"2\": 648, \"7\": 238, \"3\": 4, \"1\": 5, \"6\": 1}, \"12\": {\"1\": 334, \"12\": 794, \"3\": 69, \"10\": 3}, \"4\": {\"14\": 56, \"4\": 1066, \"13\": 27, \"15\": 51}, \"1\": {\"3\": 152, \"1\": 706, \"12\": 331, \"10\": 5, \"7\": 4, \"2\": 2}, \"0\": {\"8\": 523, \"0\": 666, \"5\": 8, \"14\": 2, \"15\": 1}, \"9\": {\"9\": 486, \"7\": 294, \"2\": 377, \"6\": 38, \"1\": 5}, \"5\": {\"5\": 1074, \"0\": 5, \"14\": 97, \"8\": 20, \"15\": 4}, \"6\": {\"6\": 1063, \"9\": 55, \"2\": 6, \"13\": 11, \"11\": 50, \"7\": 15}, \"7\": {\"9\": 305, \"7\": 591, \"2\": 277, \"1\": 11, \"6\": 14, \"11\": 2}, \"13\": {\"13\": 1117, \"9\": 1, \"4\": 50, \"6\": 29, \"14\": 3}}, \"26\": {\"6\": {\"6\": 757, \"9\": 133, \"8\": 41, \"10\": 82, \"13\": 63, \"5\": 88, \"1\": 10, \"14\": 15, \"0\": 11}, \"11\": {\"11\": 1195, \"12\": 5}, \"5\": {\"6\": 158, \"9\": 171, \"5\": 291, \"8\": 36, \"13\": 301, \"15\": 31, \"14\": 5, \"7\": 112, \"2\": 66, \"3\": 17, \"10\": 6, \"0\": 4, \"4\": 2}, \"14\": {\"1\": 259, \"14\": 275, \"10\": 194, \"8\": 120, \"4\": 78, \"0\": 231, \"2\": 8, \"9\": 10, \"7\": 13, \"6\": 10, \"5\": 2}, \"2\": {\"2\": 298, \"3\": 141, \"15\": 122, \"8\": 74, \"7\": 322, \"5\": 46, \"13\": 5, \"4\": 130, \"10\": 3, \"14\": 11, \"9\": 38, \"0\": 9, \"1\": 1}, \"7\": {\"3\": 101, \"2\": 291, \"15\": 105, \"7\": 358, \"5\": 67, \"4\": 102, \"8\": 90, \"13\": 4, \"9\": 61, \"14\": 5, \"6\": 1, \"0\": 12, \"10\": 3}, \"3\": {\"3\": 541, \"7\": 101, \"2\": 118, \"15\": 363, \"4\": 69, \"5\": 6, \"0\": 1, \"8\": 1}, \"4\": {\"4\": 600, \"15\": 64, \"7\": 72, \"0\": 117, \"2\": 98, \"3\": 68, \"8\": 62, \"10\": 24, \"1\": 23, \"14\": 68, \"9\": 3, \"5\": 1}, \"9\": {\"8\": 164, \"6\": 118, \"13\": 122, \"9\": 443, \"5\": 174, \"0\": 9, \"14\": 12, \"7\": 63, \"2\": 49, \"10\": 24, \"15\": 9, \"4\": 11, \"1\": 1, \"3\": 1}, \"12\": {\"12\": 1196, \"11\": 4}, \"0\": {\"14\": 228, \"4\": 146, \"0\": 326, \"10\": 151, \"1\": 201, \"9\": 5, \"6\": 8, \"2\": 22, \"8\": 86, \"7\": 17, \"5\": 3, \"3\": 3, \"15\": 4}, \"10\": {\"10\": 360, \"8\": 86, \"4\": 77, \"6\": 92, \"14\": 191, \"0\": 146, \"15\": 4, \"1\": 202, \"2\": 11, \"9\": 10, \"7\": 15, \"12\": 4, \"3\": 2}, \"8\": {\"14\": 98, \"8\": 377, \"2\": 98, \"5\": 57, \"7\": 103, \"0\": 68, \"6\": 49, \"10\": 83, \"9\": 166, \"4\": 74, \"1\": 12, \"13\": 10, \"3\": 4, \"15\": 1}, \"13\": {\"13\": 787, \"9\": 104, \"5\": 240, \"6\": 45, \"7\": 10, \"8\": 7, \"2\": 7}, \"1\": {\"1\": 544, \"10\": 175, \"14\": 256, \"0\": 181, \"4\": 14, \"8\": 18, \"9\": 4, \"6\": 8}, \"15\": {\"3\": 412, \"15\": 432, \"4\": 71, \"2\": 143, \"7\": 120, \"8\": 5, \"0\": 4, \"9\": 5, \"5\": 7, \"10\": 1}}}, \"per_domain_accuracy\": {\"8\": {\"accuracy\": 0.6780208333333333, \"source?\": true}, \"50\": {\"accuracy\": 0.76109375, \"source?\": true}, \"32\": {\"accuracy\": 0.7343229166666667, \"source?\": true}, \"20\": {\"accuracy\": 0.48895833333333333, \"source?\": false}, \"14\": {\"accuracy\": 0.7386458333333333, \"source?\": false}, \"38\": {\"accuracy\": 0.5816666666666667, \"source?\": false}, \"44\": {\"accuracy\": 0.7283333333333334, \"source?\": false}, \"26\": {\"accuracy\": 0.45729166666666665, \"source?\": false}}}, \"history\": {\"epoch_indices\": [1, 2, 3, 4, 5, 6, 7, 8, 9, 10], \"train_label_loss\": [1.3205146595717423, 0.8166451448166654, 0.6909380436251088, 0.6114872356338633, 0.5381348188002668, 0.4712633275849715, 0.4165507650455194, 0.36803572314717464, 0.3256204576608503, 0.2866864817297559], \"source_val_label_loss\": [0.9834530353546143, 0.8174642324447632, 0.7925528287887573, 0.7957146763801575, 0.7917564511299133, 0.8112276792526245, 0.8228703737258911, 0.8496528267860413, 0.8828771114349365, 0.9311903715133667], \"target_val_label_loss\": [1.3480534553527832, 1.223251223564148, 1.204514741897583, 1.2262505292892456, 1.2495002746582031, 1.2977030277252197, 1.289682388305664, 1.3514461517333984, 1.3988368511199951, 1.4594799280166626], \"source_val_acc_label\": [0.6149826388888889, 0.6829513888888888, 0.6905729166666666, 0.6961111111111111, 0.711875, 0.7244791666666667, 0.7063194444444445, 0.7168402777777778, 0.7138715277777777, 0.71375], \"target_val_acc_label\": [0.51115625, 0.5640520833333333, 0.5699479166666667, 0.574, 0.5891770833333333, 0.5989791666666666, 0.58734375, 0.5953541666666666, 0.590125, 0.5927604166666667]}, \"dataset_metrics\": {\"source\": {\"train\": {\"n_unique_x\": 336000, \"n_unique_y\": 16, \"n_batch/episode\": 12600}, \"val\": {\"n_unique_x\": 72000, \"n_unique_y\": 16, \"n_batch/episode\": 1800}, \"test\": {\"n_unique_x\": 72000, \"n_unique_y\": 16, \"n_batch/episode\": 1800}}, \"target\": {\"train\": {\"n_unique_x\": 560000, \"n_unique_y\": 16, \"n_batch/episode\": 21000}, \"val\": {\"n_unique_x\": 120000, \"n_unique_y\": 16, \"n_batch/episode\": 3000}, \"test\": {\"n_unique_x\": 120000, \"n_unique_y\": 16, \"n_batch/episode\": 3000}}}}'"
      ]
     },
     "execution_count": 20,
     "metadata": {},
     "output_type": "execute_result"
    }
   ],
   "source": [
    "json.dumps(experiment)"
   ]
  }
 ],
 "metadata": {
  "celltoolbar": "Tags",
  "kernelspec": {
   "display_name": "Python 3 (ipykernel)",
   "language": "python",
   "name": "python3"
  },
  "language_info": {
   "codemirror_mode": {
    "name": "ipython",
    "version": 3
   },
   "file_extension": ".py",
   "mimetype": "text/x-python",
   "name": "python",
   "nbconvert_exporter": "python",
   "pygments_lexer": "ipython3",
   "version": "3.8.12"
  },
  "papermill": {
   "default_parameters": {},
   "duration": 3558.440553,
   "end_time": "2022-03-26T17:57:21.455009",
   "environment_variables": {},
   "exception": null,
   "input_path": "/root/csc500-main/csc500-notebooks/templates/ptn_template.ipynb",
   "output_path": "trial.ipynb",
   "parameters": {
    "parameters": {
     "BEST_MODEL_PATH": "./best_model.pth",
     "NUM_LOGS_PER_EPOCH": 10,
     "criteria_for_best": "target_accuracy",
     "dataset_seed": 500,
     "device": "cuda",
     "domains_source": [
      8,
      32,
      50
     ],
     "domains_target": [
      14,
      20,
      26,
      38,
      44
     ],
     "episode_transforms_source": [],
     "episode_transforms_target": [],
     "experiment_name": "tuned_1v2:oracle.run2_limited",
     "labels_source": [
      "3123D52",
      "3123D65",
      "3123D79",
      "3123D80",
      "3123D54",
      "3123D70",
      "3123D7B",
      "3123D89",
      "3123D58",
      "3123D76",
      "3123D7D",
      "3123EFE",
      "3123D64",
      "3123D78",
      "3123D7E",
      "3124E4A"
     ],
     "labels_target": [
      "3123D52",
      "3123D65",
      "3123D79",
      "3123D80",
      "3123D54",
      "3123D70",
      "3123D7B",
      "3123D89",
      "3123D58",
      "3123D76",
      "3123D7D",
      "3123EFE",
      "3123D64",
      "3123D78",
      "3123D7E",
      "3124E4A"
     ],
     "lr": 0.0001,
     "n_epoch": 50,
     "n_query": 2,
     "n_shot": 3,
     "n_way": 16,
     "num_examples_per_domain_per_label_source": -1,
     "num_examples_per_domain_per_label_target": -1,
     "patience": 3,
     "pickle_name": "oracle.Run2_10kExamples_stratified_ds.2022A.pkl",
     "seed": 500,
     "test_k_factor": 2,
     "torch_default_dtype": "torch.float32",
     "train_k_factor": 3,
     "val_k_factor": 2,
     "x_net": [
      {
       "class": "nnReshape",
       "kargs": {
        "shape": [
         -1,
         1,
         2,
         256
        ]
       }
      },
      {
       "class": "Conv2d",
       "kargs": {
        "bias": false,
        "in_channels": 1,
        "kernel_size": [
         1,
         7
        ],
        "out_channels": 256,
        "padding": [
         0,
         3
        ]
       }
      },
      {
       "class": "ReLU",
       "kargs": {
        "inplace": true
       }
      },
      {
       "class": "BatchNorm2d",
       "kargs": {
        "num_features": 256
       }
      },
      {
       "class": "Conv2d",
       "kargs": {
        "bias": true,
        "in_channels": 256,
        "kernel_size": [
         2,
         7
        ],
        "out_channels": 80,
        "padding": [
         0,
         3
        ]
       }
      },
      {
       "class": "ReLU",
       "kargs": {
        "inplace": true
       }
      },
      {
       "class": "BatchNorm2d",
       "kargs": {
        "num_features": 80
       }
      },
      {
       "class": "Flatten",
       "kargs": {}
      },
      {
       "class": "Linear",
       "kargs": {
        "in_features": 20480,
        "out_features": 256
       }
      },
      {
       "class": "ReLU",
       "kargs": {
        "inplace": true
       }
      },
      {
       "class": "BatchNorm1d",
       "kargs": {
        "num_features": 256
       }
      },
      {
       "class": "Linear",
       "kargs": {
        "in_features": 256,
        "out_features": 256
       }
      }
     ],
     "x_transforms_source": [
      "unit_power"
     ],
     "x_transforms_target": [
      "unit_power"
     ]
    }
   },
   "start_time": "2022-03-26T16:58:03.014456",
   "version": "2.3.4"
  }
 },
 "nbformat": 4,
 "nbformat_minor": 5
}