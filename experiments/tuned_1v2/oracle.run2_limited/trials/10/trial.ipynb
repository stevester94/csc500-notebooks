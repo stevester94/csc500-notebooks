{
 "cells": [
  {
   "cell_type": "markdown",
   "id": "9fea5f46",
   "metadata": {
    "papermill": {
     "duration": 0.01416,
     "end_time": "2022-04-01T17:48:38.595449",
     "exception": false,
     "start_time": "2022-04-01T17:48:38.581289",
     "status": "completed"
    },
    "tags": []
   },
   "source": [
    "# PTN Template\n",
    "This notebook serves as a template for single dataset PTN experiments  \n",
    "It can be run on its own by setting STANDALONE to True (do a find for \"STANDALONE\" to see where)  \n",
    "But it is intended to be executed as part of a *papermill.py script. See any of the   \n",
    "experimentes with a papermill script to get started with that workflow.  "
   ]
  },
  {
   "cell_type": "code",
   "execution_count": 1,
   "id": "0902182a",
   "metadata": {
    "execution": {
     "iopub.execute_input": "2022-04-01T17:48:38.627476Z",
     "iopub.status.busy": "2022-04-01T17:48:38.620862Z",
     "iopub.status.idle": "2022-04-01T17:48:39.548365Z",
     "shell.execute_reply": "2022-04-01T17:48:39.548083Z"
    },
    "papermill": {
     "duration": 0.943673,
     "end_time": "2022-04-01T17:48:39.548438",
     "exception": false,
     "start_time": "2022-04-01T17:48:38.604765",
     "status": "completed"
    },
    "tags": []
   },
   "outputs": [],
   "source": [
    "%load_ext autoreload\n",
    "%autoreload 2\n",
    "%matplotlib inline\n",
    "\n",
    "    \n",
    "import os, json, sys, time, random\n",
    "import numpy as np\n",
    "import torch\n",
    "from torch.optim import Adam\n",
    "from  easydict import EasyDict\n",
    "import matplotlib.pyplot as plt\n",
    "\n",
    "from steves_models.steves_ptn import Steves_Prototypical_Network\n",
    "\n",
    "from steves_utils.lazy_iterable_wrapper import Lazy_Iterable_Wrapper\n",
    "from steves_utils.iterable_aggregator import Iterable_Aggregator\n",
    "from steves_utils.ptn_train_eval_test_jig import  PTN_Train_Eval_Test_Jig\n",
    "from steves_utils.torch_sequential_builder import build_sequential\n",
    "from steves_utils.torch_utils import get_dataset_metrics, ptn_confusion_by_domain_over_dataloader\n",
    "from steves_utils.utils_v2 import (per_domain_accuracy_from_confusion, get_datasets_base_path)\n",
    "from steves_utils.PTN.utils import independent_accuracy_assesment\n",
    "\n",
    "from steves_utils.stratified_dataset.episodic_accessor import Episodic_Accessor_Factory\n",
    "\n",
    "from steves_utils.ptn_do_report import (\n",
    "    get_loss_curve,\n",
    "    get_results_table,\n",
    "    get_parameters_table,\n",
    "    get_domain_accuracies,\n",
    ")\n",
    "\n",
    "from steves_utils.transforms import get_chained_transform"
   ]
  },
  {
   "cell_type": "markdown",
   "id": "41c840b4",
   "metadata": {
    "papermill": {
     "duration": 0.009356,
     "end_time": "2022-04-01T17:48:39.567548",
     "exception": false,
     "start_time": "2022-04-01T17:48:39.558192",
     "status": "completed"
    },
    "tags": []
   },
   "source": [
    "# Required Parameters\n",
    "These are allowed parameters, not defaults\n",
    "Each of these values need to be present in the injected parameters (the notebook will raise an exception if they are not present)\n",
    "\n",
    "Papermill uses the cell tag \"parameters\" to inject the real parameters below this cell.\n",
    "Enable tags to see what I mean"
   ]
  },
  {
   "cell_type": "code",
   "execution_count": 2,
   "id": "fd44eb83",
   "metadata": {
    "execution": {
     "iopub.execute_input": "2022-04-01T17:48:39.595219Z",
     "iopub.status.busy": "2022-04-01T17:48:39.589628Z",
     "iopub.status.idle": "2022-04-01T17:48:39.603455Z",
     "shell.execute_reply": "2022-04-01T17:48:39.603226Z"
    },
    "papermill": {
     "duration": 0.026597,
     "end_time": "2022-04-01T17:48:39.603505",
     "exception": false,
     "start_time": "2022-04-01T17:48:39.576908",
     "status": "completed"
    },
    "tags": []
   },
   "outputs": [],
   "source": [
    "required_parameters = {\n",
    "    \"experiment_name\",\n",
    "    \"lr\",\n",
    "    \"device\",\n",
    "    \"seed\",\n",
    "    \"dataset_seed\",\n",
    "    \"labels_source\",\n",
    "    \"labels_target\",\n",
    "    \"domains_source\",\n",
    "    \"domains_target\",\n",
    "    \"num_examples_per_domain_per_label_source\",\n",
    "    \"num_examples_per_domain_per_label_target\",\n",
    "    \"n_shot\",\n",
    "    \"n_way\",\n",
    "    \"n_query\",\n",
    "    \"train_k_factor\",\n",
    "    \"val_k_factor\",\n",
    "    \"test_k_factor\",\n",
    "    \"n_epoch\",\n",
    "    \"patience\",\n",
    "    \"criteria_for_best\",\n",
    "    \"x_transforms_source\",\n",
    "    \"x_transforms_target\",\n",
    "    \"episode_transforms_source\",\n",
    "    \"episode_transforms_target\",\n",
    "    \"pickle_name\",\n",
    "    \"x_net\",\n",
    "    \"NUM_LOGS_PER_EPOCH\",\n",
    "    \"BEST_MODEL_PATH\",\n",
    "    \"torch_default_dtype\"\n",
    "}"
   ]
  },
  {
   "cell_type": "code",
   "execution_count": 3,
   "id": "fa3f0049",
   "metadata": {
    "execution": {
     "iopub.execute_input": "2022-04-01T17:48:39.631504Z",
     "iopub.status.busy": "2022-04-01T17:48:39.631222Z",
     "iopub.status.idle": "2022-04-01T17:48:39.643200Z",
     "shell.execute_reply": "2022-04-01T17:48:39.642711Z"
    },
    "papermill": {
     "duration": 0.02685,
     "end_time": "2022-04-01T17:48:39.643294",
     "exception": false,
     "start_time": "2022-04-01T17:48:39.616444",
     "status": "completed"
    },
    "tags": [
     "parameters"
    ]
   },
   "outputs": [],
   "source": [
    "\n",
    "\n",
    "standalone_parameters = {}\n",
    "standalone_parameters[\"experiment_name\"] = \"STANDALONE PTN\"\n",
    "standalone_parameters[\"lr\"] = 0.0001\n",
    "standalone_parameters[\"device\"] = \"cuda\"\n",
    "\n",
    "standalone_parameters[\"seed\"] = 1337\n",
    "standalone_parameters[\"dataset_seed\"] = 1337\n",
    "\n",
    "\n",
    "standalone_parameters[\"num_examples_per_domain_per_label_source\"]=100\n",
    "standalone_parameters[\"num_examples_per_domain_per_label_target\"]=100\n",
    "\n",
    "standalone_parameters[\"n_shot\"] = 3\n",
    "standalone_parameters[\"n_query\"]  = 2\n",
    "standalone_parameters[\"train_k_factor\"] = 1\n",
    "standalone_parameters[\"val_k_factor\"] = 2\n",
    "standalone_parameters[\"test_k_factor\"] = 2\n",
    "\n",
    "\n",
    "standalone_parameters[\"n_epoch\"] = 100\n",
    "\n",
    "standalone_parameters[\"patience\"] = 10\n",
    "standalone_parameters[\"criteria_for_best\"] = \"target_accuracy\"\n",
    "\n",
    "standalone_parameters[\"x_transforms_source\"] = [\"unit_power\"]\n",
    "standalone_parameters[\"x_transforms_target\"] = [\"unit_power\"]\n",
    "standalone_parameters[\"episode_transforms_source\"] = []\n",
    "standalone_parameters[\"episode_transforms_target\"] = []\n",
    "\n",
    "standalone_parameters[\"torch_default_dtype\"] = \"torch.float32\" \n",
    "\n",
    "\n",
    "\n",
    "standalone_parameters[\"x_net\"] =     [\n",
    "    {\"class\": \"nnReshape\", \"kargs\": {\"shape\":[-1, 1, 2, 256]}},\n",
    "    {\"class\": \"Conv2d\", \"kargs\": { \"in_channels\":1, \"out_channels\":256, \"kernel_size\":(1,7), \"bias\":False, \"padding\":(0,3), },},\n",
    "    {\"class\": \"ReLU\", \"kargs\": {\"inplace\": True}},\n",
    "    {\"class\": \"BatchNorm2d\", \"kargs\": {\"num_features\":256}},\n",
    "\n",
    "    {\"class\": \"Conv2d\", \"kargs\": { \"in_channels\":256, \"out_channels\":80, \"kernel_size\":(2,7), \"bias\":True, \"padding\":(0,3), },},\n",
    "    {\"class\": \"ReLU\", \"kargs\": {\"inplace\": True}},\n",
    "    {\"class\": \"BatchNorm2d\", \"kargs\": {\"num_features\":80}},\n",
    "    {\"class\": \"Flatten\", \"kargs\": {}},\n",
    "\n",
    "    {\"class\": \"Linear\", \"kargs\": {\"in_features\": 80*256, \"out_features\": 256}}, # 80 units per IQ pair\n",
    "    {\"class\": \"ReLU\", \"kargs\": {\"inplace\": True}},\n",
    "    {\"class\": \"BatchNorm1d\", \"kargs\": {\"num_features\":256}},\n",
    "\n",
    "    {\"class\": \"Linear\", \"kargs\": {\"in_features\": 256, \"out_features\": 256}},\n",
    "]\n",
    "\n",
    "# Parameters relevant to results\n",
    "# These parameters will basically never need to change\n",
    "standalone_parameters[\"NUM_LOGS_PER_EPOCH\"] = 10\n",
    "standalone_parameters[\"BEST_MODEL_PATH\"] = \"./best_model.pth\"\n",
    "\n",
    "# uncomment for CORES dataset\n",
    "from steves_utils.CORES.utils import (\n",
    "    ALL_NODES,\n",
    "    ALL_NODES_MINIMUM_1000_EXAMPLES,\n",
    "    ALL_DAYS\n",
    ")\n",
    "\n",
    "\n",
    "standalone_parameters[\"labels_source\"] = ALL_NODES\n",
    "standalone_parameters[\"labels_target\"] = ALL_NODES\n",
    "\n",
    "standalone_parameters[\"domains_source\"] = [1]\n",
    "standalone_parameters[\"domains_target\"] = [2,3,4,5]\n",
    "\n",
    "standalone_parameters[\"pickle_name\"] = \"cores.stratified_ds.2022A.pkl\"\n",
    "\n",
    "\n",
    "# Uncomment these for ORACLE dataset\n",
    "# from steves_utils.ORACLE.utils_v2 import (\n",
    "#     ALL_DISTANCES_FEET,\n",
    "#     ALL_RUNS,\n",
    "#     ALL_SERIAL_NUMBERS,\n",
    "# )\n",
    "# standalone_parameters[\"labels_source\"] = ALL_SERIAL_NUMBERS\n",
    "# standalone_parameters[\"labels_target\"] = ALL_SERIAL_NUMBERS\n",
    "# standalone_parameters[\"domains_source\"] = [8,20, 38,50]\n",
    "# standalone_parameters[\"domains_target\"] = [14, 26, 32, 44, 56]\n",
    "# standalone_parameters[\"pickle_name\"] = \"oracle.frame_indexed.stratified_ds.2022A.pkl\"\n",
    "# standalone_parameters[\"num_examples_per_domain_per_label_source\"]=1000\n",
    "# standalone_parameters[\"num_examples_per_domain_per_label_target\"]=1000\n",
    "\n",
    "# Uncomment these for Metahan dataset\n",
    "# standalone_parameters[\"labels_source\"] = list(range(19))\n",
    "# standalone_parameters[\"labels_target\"] = list(range(19))\n",
    "# standalone_parameters[\"domains_source\"] = [0]\n",
    "# standalone_parameters[\"domains_target\"] = [1]\n",
    "# standalone_parameters[\"pickle_name\"] = \"metehan.stratified_ds.2022A.pkl\"\n",
    "# standalone_parameters[\"n_way\"]  = len(standalone_parameters[\"labels_source\"])\n",
    "# standalone_parameters[\"num_examples_per_domain_per_label_source\"]=200\n",
    "# standalone_parameters[\"num_examples_per_domain_per_label_target\"]=100\n",
    "\n",
    "\n",
    "standalone_parameters[\"n_way\"]  = len(standalone_parameters[\"labels_source\"])"
   ]
  },
  {
   "cell_type": "code",
   "execution_count": 4,
   "id": "f2aea630",
   "metadata": {
    "execution": {
     "iopub.execute_input": "2022-04-01T17:48:39.677864Z",
     "iopub.status.busy": "2022-04-01T17:48:39.677589Z",
     "iopub.status.idle": "2022-04-01T17:48:39.689016Z",
     "shell.execute_reply": "2022-04-01T17:48:39.689388Z"
    },
    "papermill": {
     "duration": 0.030167,
     "end_time": "2022-04-01T17:48:39.689499",
     "exception": false,
     "start_time": "2022-04-01T17:48:39.659332",
     "status": "completed"
    },
    "tags": [
     "injected-parameters"
    ]
   },
   "outputs": [],
   "source": [
    "# Parameters\n",
    "parameters = {\n",
    "    \"experiment_name\": \"tuned_1v2:oracle.run2_limited\",\n",
    "    \"device\": \"cuda\",\n",
    "    \"lr\": 0.0001,\n",
    "    \"labels_source\": [\n",
    "        \"3123D52\",\n",
    "        \"3123D65\",\n",
    "        \"3123D79\",\n",
    "        \"3123D80\",\n",
    "        \"3123D54\",\n",
    "        \"3123D70\",\n",
    "        \"3123D7B\",\n",
    "        \"3123D89\",\n",
    "        \"3123D58\",\n",
    "        \"3123D76\",\n",
    "        \"3123D7D\",\n",
    "        \"3123EFE\",\n",
    "        \"3123D64\",\n",
    "        \"3123D78\",\n",
    "        \"3123D7E\",\n",
    "        \"3124E4A\",\n",
    "    ],\n",
    "    \"labels_target\": [\n",
    "        \"3123D52\",\n",
    "        \"3123D65\",\n",
    "        \"3123D79\",\n",
    "        \"3123D80\",\n",
    "        \"3123D54\",\n",
    "        \"3123D70\",\n",
    "        \"3123D7B\",\n",
    "        \"3123D89\",\n",
    "        \"3123D58\",\n",
    "        \"3123D76\",\n",
    "        \"3123D7D\",\n",
    "        \"3123EFE\",\n",
    "        \"3123D64\",\n",
    "        \"3123D78\",\n",
    "        \"3123D7E\",\n",
    "        \"3124E4A\",\n",
    "    ],\n",
    "    \"episode_transforms_source\": [],\n",
    "    \"episode_transforms_target\": [],\n",
    "    \"domains_source\": [8, 32, 50],\n",
    "    \"domains_target\": [14, 20, 26, 38, 44],\n",
    "    \"num_examples_per_domain_per_label_source\": 2000,\n",
    "    \"num_examples_per_domain_per_label_target\": 2000,\n",
    "    \"n_shot\": 3,\n",
    "    \"n_way\": 16,\n",
    "    \"n_query\": 2,\n",
    "    \"train_k_factor\": 3,\n",
    "    \"val_k_factor\": 2,\n",
    "    \"test_k_factor\": 2,\n",
    "    \"torch_default_dtype\": \"torch.float32\",\n",
    "    \"n_epoch\": 50,\n",
    "    \"patience\": 3,\n",
    "    \"criteria_for_best\": \"target_accuracy\",\n",
    "    \"x_net\": [\n",
    "        {\"class\": \"nnReshape\", \"kargs\": {\"shape\": [-1, 1, 2, 256]}},\n",
    "        {\n",
    "            \"class\": \"Conv2d\",\n",
    "            \"kargs\": {\n",
    "                \"in_channels\": 1,\n",
    "                \"out_channels\": 256,\n",
    "                \"kernel_size\": [1, 7],\n",
    "                \"bias\": False,\n",
    "                \"padding\": [0, 3],\n",
    "            },\n",
    "        },\n",
    "        {\"class\": \"ReLU\", \"kargs\": {\"inplace\": True}},\n",
    "        {\"class\": \"BatchNorm2d\", \"kargs\": {\"num_features\": 256}},\n",
    "        {\n",
    "            \"class\": \"Conv2d\",\n",
    "            \"kargs\": {\n",
    "                \"in_channels\": 256,\n",
    "                \"out_channels\": 80,\n",
    "                \"kernel_size\": [2, 7],\n",
    "                \"bias\": True,\n",
    "                \"padding\": [0, 3],\n",
    "            },\n",
    "        },\n",
    "        {\"class\": \"ReLU\", \"kargs\": {\"inplace\": True}},\n",
    "        {\"class\": \"BatchNorm2d\", \"kargs\": {\"num_features\": 80}},\n",
    "        {\"class\": \"Flatten\", \"kargs\": {}},\n",
    "        {\"class\": \"Linear\", \"kargs\": {\"in_features\": 20480, \"out_features\": 256}},\n",
    "        {\"class\": \"ReLU\", \"kargs\": {\"inplace\": True}},\n",
    "        {\"class\": \"BatchNorm1d\", \"kargs\": {\"num_features\": 256}},\n",
    "        {\"class\": \"Linear\", \"kargs\": {\"in_features\": 256, \"out_features\": 256}},\n",
    "    ],\n",
    "    \"NUM_LOGS_PER_EPOCH\": 10,\n",
    "    \"BEST_MODEL_PATH\": \"./best_model.pth\",\n",
    "    \"pickle_name\": \"oracle.Run2_10kExamples_stratified_ds.2022A.pkl\",\n",
    "    \"x_transforms_source\": [\"unit_power\"],\n",
    "    \"x_transforms_target\": [\"unit_power\"],\n",
    "    \"dataset_seed\": 500,\n",
    "    \"seed\": 500,\n",
    "}\n"
   ]
  },
  {
   "cell_type": "code",
   "execution_count": 5,
   "id": "8fa1cc33",
   "metadata": {
    "execution": {
     "iopub.execute_input": "2022-04-01T17:48:39.717272Z",
     "iopub.status.busy": "2022-04-01T17:48:39.717022Z",
     "iopub.status.idle": "2022-04-01T17:48:39.730086Z",
     "shell.execute_reply": "2022-04-01T17:48:39.729786Z"
    },
    "papermill": {
     "duration": 0.026435,
     "end_time": "2022-04-01T17:48:39.730158",
     "exception": false,
     "start_time": "2022-04-01T17:48:39.703723",
     "status": "completed"
    },
    "tags": []
   },
   "outputs": [],
   "source": [
    "# Set this to True if you want to run this template directly\n",
    "STANDALONE = False\n",
    "if STANDALONE:\n",
    "    print(\"parameters not injected, running with standalone_parameters\")\n",
    "    parameters = standalone_parameters\n",
    "\n",
    "if not 'parameters' in locals() and not 'parameters' in globals():\n",
    "    raise Exception(\"Parameter injection failed\")\n",
    "\n",
    "#Use an easy dict for all the parameters\n",
    "p = EasyDict(parameters)\n",
    "\n",
    "supplied_keys = set(p.keys())\n",
    "\n",
    "if  supplied_keys != required_parameters:\n",
    "    print(\"Parameters are incorrect\")\n",
    "    if len(supplied_keys - required_parameters)>0: print(\"Shouldn't have:\", str(supplied_keys - required_parameters))\n",
    "    if len(required_parameters - supplied_keys)>0: print(\"Need to have:\", str(required_parameters - supplied_keys))\n",
    "    raise RuntimeError(\"Parameters are incorrect\")\n",
    "\n"
   ]
  },
  {
   "cell_type": "code",
   "execution_count": 6,
   "id": "3a028d58",
   "metadata": {
    "execution": {
     "iopub.execute_input": "2022-04-01T17:48:39.756500Z",
     "iopub.status.busy": "2022-04-01T17:48:39.756255Z",
     "iopub.status.idle": "2022-04-01T17:48:39.771813Z",
     "shell.execute_reply": "2022-04-01T17:48:39.771414Z"
    },
    "papermill": {
     "duration": 0.027646,
     "end_time": "2022-04-01T17:48:39.771905",
     "exception": false,
     "start_time": "2022-04-01T17:48:39.744259",
     "status": "completed"
    },
    "tags": []
   },
   "outputs": [],
   "source": [
    "###################################\n",
    "# Set the RNGs and make it all deterministic\n",
    "###################################\n",
    "np.random.seed(p.seed)\n",
    "random.seed(p.seed)\n",
    "torch.manual_seed(p.seed)\n",
    "\n",
    "torch.use_deterministic_algorithms(True) "
   ]
  },
  {
   "cell_type": "code",
   "execution_count": 7,
   "id": "b691acf6",
   "metadata": {
    "execution": {
     "iopub.execute_input": "2022-04-01T17:48:39.798920Z",
     "iopub.status.busy": "2022-04-01T17:48:39.798122Z",
     "iopub.status.idle": "2022-04-01T17:48:39.812948Z",
     "shell.execute_reply": "2022-04-01T17:48:39.812534Z"
    },
    "papermill": {
     "duration": 0.025943,
     "end_time": "2022-04-01T17:48:39.813040",
     "exception": false,
     "start_time": "2022-04-01T17:48:39.787097",
     "status": "completed"
    },
    "tags": []
   },
   "outputs": [],
   "source": [
    "###########################################\n",
    "# The stratified datasets honor this\n",
    "###########################################\n",
    "torch.set_default_dtype(eval(p.torch_default_dtype))"
   ]
  },
  {
   "cell_type": "code",
   "execution_count": 8,
   "id": "b5fba671",
   "metadata": {
    "execution": {
     "iopub.execute_input": "2022-04-01T17:48:39.839055Z",
     "iopub.status.busy": "2022-04-01T17:48:39.838799Z",
     "iopub.status.idle": "2022-04-01T17:48:39.878868Z",
     "shell.execute_reply": "2022-04-01T17:48:39.878417Z"
    },
    "papermill": {
     "duration": 0.051347,
     "end_time": "2022-04-01T17:48:39.878956",
     "exception": false,
     "start_time": "2022-04-01T17:48:39.827609",
     "status": "completed"
    },
    "tags": []
   },
   "outputs": [],
   "source": [
    "###################################\n",
    "# Build the network(s)\n",
    "# Note: It's critical to do this AFTER setting the RNG\n",
    "# (This is due to the randomized initial weights)\n",
    "###################################\n",
    "x_net = build_sequential(p.x_net)"
   ]
  },
  {
   "cell_type": "code",
   "execution_count": 9,
   "id": "5d7e61cc",
   "metadata": {
    "execution": {
     "iopub.execute_input": "2022-04-01T17:48:39.904725Z",
     "iopub.status.busy": "2022-04-01T17:48:39.904476Z",
     "iopub.status.idle": "2022-04-01T17:48:39.919353Z",
     "shell.execute_reply": "2022-04-01T17:48:39.918909Z"
    },
    "papermill": {
     "duration": 0.026795,
     "end_time": "2022-04-01T17:48:39.919441",
     "exception": false,
     "start_time": "2022-04-01T17:48:39.892646",
     "status": "completed"
    },
    "tags": []
   },
   "outputs": [],
   "source": [
    "start_time_secs = time.time()"
   ]
  },
  {
   "cell_type": "code",
   "execution_count": 10,
   "id": "fd5442bc",
   "metadata": {
    "execution": {
     "iopub.execute_input": "2022-04-01T17:48:39.949693Z",
     "iopub.status.busy": "2022-04-01T17:48:39.949403Z",
     "iopub.status.idle": "2022-04-01T17:48:58.901952Z",
     "shell.execute_reply": "2022-04-01T17:48:58.901522Z"
    },
    "papermill": {
     "duration": 18.967241,
     "end_time": "2022-04-01T17:48:58.902054",
     "exception": false,
     "start_time": "2022-04-01T17:48:39.934813",
     "status": "completed"
    },
    "tags": []
   },
   "outputs": [],
   "source": [
    "###################################\n",
    "# Build the dataset\n",
    "###################################\n",
    "\n",
    "if p.x_transforms_source == []: x_transform_source = None\n",
    "else: x_transform_source = get_chained_transform(p.x_transforms_source) \n",
    "\n",
    "if p.x_transforms_target == []: x_transform_target = None\n",
    "else: x_transform_target = get_chained_transform(p.x_transforms_target)\n",
    "\n",
    "if p.episode_transforms_source == []: episode_transform_source = None\n",
    "else: raise Exception(\"episode_transform_source not implemented\")\n",
    "\n",
    "if p.episode_transforms_target == []: episode_transform_target = None\n",
    "else: raise Exception(\"episode_transform_target not implemented\")\n",
    "\n",
    "\n",
    "eaf_source = Episodic_Accessor_Factory(\n",
    "    labels=p.labels_source,\n",
    "    domains=p.domains_source,\n",
    "    num_examples_per_domain_per_label=p.num_examples_per_domain_per_label_source,\n",
    "    iterator_seed=p.seed,\n",
    "    dataset_seed=p.dataset_seed,\n",
    "    n_shot=p.n_shot,\n",
    "    n_way=p.n_way,\n",
    "    n_query=p.n_query,\n",
    "    train_val_test_k_factors=(p.train_k_factor,p.val_k_factor,p.test_k_factor),\n",
    "    pickle_path=os.path.join(get_datasets_base_path(), p.pickle_name),\n",
    "    x_transform_func=x_transform_source,\n",
    "    example_transform_func=episode_transform_source,\n",
    "    \n",
    ")\n",
    "train_original_source, val_original_source, test_original_source = eaf_source.get_train(), eaf_source.get_val(), eaf_source.get_test()\n",
    "\n",
    "\n",
    "eaf_target = Episodic_Accessor_Factory(\n",
    "    labels=p.labels_target,\n",
    "    domains=p.domains_target,\n",
    "    num_examples_per_domain_per_label=p.num_examples_per_domain_per_label_target,\n",
    "    iterator_seed=p.seed,\n",
    "    dataset_seed=p.dataset_seed,\n",
    "    n_shot=p.n_shot,\n",
    "    n_way=p.n_way,\n",
    "    n_query=p.n_query,\n",
    "    train_val_test_k_factors=(p.train_k_factor,p.val_k_factor,p.test_k_factor),\n",
    "    pickle_path=os.path.join(get_datasets_base_path(), p.pickle_name),\n",
    "    x_transform_func=x_transform_target,\n",
    "    example_transform_func=episode_transform_target,\n",
    ")\n",
    "train_original_target, val_original_target, test_original_target = eaf_target.get_train(), eaf_target.get_val(), eaf_target.get_test()\n",
    "\n",
    "\n",
    "transform_lambda = lambda ex: ex[1] # Original is (<domain>, <episode>) so we strip down to episode only\n",
    "\n",
    "train_processed_source = Lazy_Iterable_Wrapper(train_original_source, transform_lambda)\n",
    "val_processed_source   = Lazy_Iterable_Wrapper(val_original_source, transform_lambda)\n",
    "test_processed_source  = Lazy_Iterable_Wrapper(test_original_source, transform_lambda)\n",
    "\n",
    "train_processed_target = Lazy_Iterable_Wrapper(train_original_target, transform_lambda)\n",
    "val_processed_target   = Lazy_Iterable_Wrapper(val_original_target, transform_lambda)\n",
    "test_processed_target  = Lazy_Iterable_Wrapper(test_original_target, transform_lambda)\n",
    "\n",
    "datasets = EasyDict({\n",
    "    \"source\": {\n",
    "        \"original\": {\"train\":train_original_source, \"val\":val_original_source, \"test\":test_original_source},\n",
    "        \"processed\": {\"train\":train_processed_source, \"val\":val_processed_source, \"test\":test_processed_source}\n",
    "    },\n",
    "    \"target\": {\n",
    "        \"original\": {\"train\":train_original_target, \"val\":val_original_target, \"test\":test_original_target},\n",
    "        \"processed\": {\"train\":train_processed_target, \"val\":val_processed_target, \"test\":test_processed_target}\n",
    "    },\n",
    "})"
   ]
  },
  {
   "cell_type": "code",
   "execution_count": 11,
   "id": "296189d9",
   "metadata": {
    "execution": {
     "iopub.execute_input": "2022-04-01T17:48:58.932757Z",
     "iopub.status.busy": "2022-04-01T17:48:58.932436Z",
     "iopub.status.idle": "2022-04-01T17:49:00.577642Z",
     "shell.execute_reply": "2022-04-01T17:49:00.577898Z"
    },
    "papermill": {
     "duration": 1.659545,
     "end_time": "2022-04-01T17:49:00.577988",
     "exception": false,
     "start_time": "2022-04-01T17:48:58.918443",
     "status": "completed"
    },
    "tags": []
   },
   "outputs": [
    {
     "name": "stdout",
     "output_type": "stream",
     "text": [
      "Visually inspect these to see if they line up with expected values given the transforms\n",
      "x_transforms_source ['unit_power']\n",
      "x_transforms_target ['unit_power']\n",
      "Average magnitude, source: 0.95616984\n",
      "Average power, source: 1.0\n"
     ]
    },
    {
     "name": "stdout",
     "output_type": "stream",
     "text": [
      "Average magnitude, target: 0.8965841\n",
      "Average power, target: 1.0\n"
     ]
    }
   ],
   "source": [
    "# Some quick unit tests on the data\n",
    "from steves_utils.transforms import get_average_power, get_average_magnitude\n",
    "\n",
    "q_x, q_y, s_x, s_y, truth = next(iter(train_processed_source))\n",
    "\n",
    "assert q_x.dtype == eval(p.torch_default_dtype)\n",
    "assert s_x.dtype == eval(p.torch_default_dtype)\n",
    "\n",
    "print(\"Visually inspect these to see if they line up with expected values given the transforms\")\n",
    "print('x_transforms_source', p.x_transforms_source)\n",
    "print('x_transforms_target', p.x_transforms_target)\n",
    "print(\"Average magnitude, source:\", get_average_magnitude(q_x[0].numpy()))\n",
    "print(\"Average power, source:\", get_average_power(q_x[0].numpy()))\n",
    "\n",
    "q_x, q_y, s_x, s_y, truth = next(iter(train_processed_target))\n",
    "print(\"Average magnitude, target:\", get_average_magnitude(q_x[0].numpy()))\n",
    "print(\"Average power, target:\", get_average_power(q_x[0].numpy()))\n"
   ]
  },
  {
   "cell_type": "code",
   "execution_count": 12,
   "id": "bbdacba1",
   "metadata": {
    "execution": {
     "iopub.execute_input": "2022-04-01T17:49:00.618366Z",
     "iopub.status.busy": "2022-04-01T17:49:00.610802Z",
     "iopub.status.idle": "2022-04-01T17:49:00.672829Z",
     "shell.execute_reply": "2022-04-01T17:49:00.673039Z"
    },
    "papermill": {
     "duration": 0.076757,
     "end_time": "2022-04-01T17:49:00.673105",
     "exception": false,
     "start_time": "2022-04-01T17:49:00.596348",
     "status": "completed"
    },
    "tags": []
   },
   "outputs": [
    {
     "name": "stdout",
     "output_type": "stream",
     "text": [
      "(2, 256)\n"
     ]
    }
   ],
   "source": [
    "###################################\n",
    "# Build the model\n",
    "###################################\n",
    "model = Steves_Prototypical_Network(x_net, device=p.device, x_shape=(2,256))\n",
    "optimizer = Adam(params=model.parameters(), lr=p.lr)"
   ]
  },
  {
   "cell_type": "code",
   "execution_count": 13,
   "id": "22b39ac5",
   "metadata": {
    "execution": {
     "iopub.execute_input": "2022-04-01T17:49:00.698442Z",
     "iopub.status.busy": "2022-04-01T17:49:00.698161Z",
     "iopub.status.idle": "2022-04-01T18:18:42.602476Z",
     "shell.execute_reply": "2022-04-01T18:18:42.602241Z"
    },
    "papermill": {
     "duration": 1781.918066,
     "end_time": "2022-04-01T18:18:42.602535",
     "exception": false,
     "start_time": "2022-04-01T17:49:00.684469",
     "status": "completed"
    },
    "tags": []
   },
   "outputs": [
    {
     "name": "stdout",
     "output_type": "stream",
     "text": [
      "epoch: 1, [batch: 1 / 2520], examples_per_second: 126.8331, train_label_loss: 2.7729, \n"
     ]
    },
    {
     "name": "stdout",
     "output_type": "stream",
     "text": [
      "epoch: 1, [batch: 252 / 2520], examples_per_second: 3170.6215, train_label_loss: 2.8182, \n"
     ]
    },
    {
     "name": "stdout",
     "output_type": "stream",
     "text": [
      "epoch: 1, [batch: 504 / 2520], examples_per_second: 3207.4662, train_label_loss: 2.0160, \n"
     ]
    },
    {
     "name": "stdout",
     "output_type": "stream",
     "text": [
      "epoch: 1, [batch: 756 / 2520], examples_per_second: 3190.2715, train_label_loss: 1.6416, \n"
     ]
    },
    {
     "name": "stdout",
     "output_type": "stream",
     "text": [
      "epoch: 1, [batch: 1008 / 2520], examples_per_second: 3207.0268, train_label_loss: 1.6682, \n"
     ]
    },
    {
     "name": "stdout",
     "output_type": "stream",
     "text": [
      "epoch: 1, [batch: 1260 / 2520], examples_per_second: 3189.8495, train_label_loss: 1.3977, \n"
     ]
    },
    {
     "name": "stdout",
     "output_type": "stream",
     "text": [
      "epoch: 1, [batch: 1512 / 2520], examples_per_second: 3166.1404, train_label_loss: 1.5874, \n"
     ]
    },
    {
     "name": "stdout",
     "output_type": "stream",
     "text": [
      "epoch: 1, [batch: 1764 / 2520], examples_per_second: 3163.8912, train_label_loss: 1.4270, \n"
     ]
    },
    {
     "name": "stdout",
     "output_type": "stream",
     "text": [
      "epoch: 1, [batch: 2016 / 2520], examples_per_second: 3184.7390, train_label_loss: 1.4164, \n"
     ]
    },
    {
     "name": "stdout",
     "output_type": "stream",
     "text": [
      "epoch: 1, [batch: 2268 / 2520], examples_per_second: 3188.1494, train_label_loss: 1.3451, \n"
     ]
    },
    {
     "name": "stdout",
     "output_type": "stream",
     "text": [
      "=============================================================\n",
      "epoch: 1, source_val_acc_label: 0.3953, target_val_acc_label: 0.2782, source_val_label_loss: 1.5238, target_val_label_loss: 1.9122, \n",
      "=============================================================\n"
     ]
    },
    {
     "name": "stdout",
     "output_type": "stream",
     "text": [
      "New best\n"
     ]
    },
    {
     "name": "stdout",
     "output_type": "stream",
     "text": [
      "epoch: 2, [batch: 1 / 2520], examples_per_second: 11.0831, train_label_loss: 1.8098, \n"
     ]
    },
    {
     "name": "stdout",
     "output_type": "stream",
     "text": [
      "epoch: 2, [batch: 252 / 2520], examples_per_second: 3185.6855, train_label_loss: 1.2538, \n"
     ]
    },
    {
     "name": "stdout",
     "output_type": "stream",
     "text": [
      "epoch: 2, [batch: 504 / 2520], examples_per_second: 3187.5930, train_label_loss: 1.2619, \n"
     ]
    },
    {
     "name": "stdout",
     "output_type": "stream",
     "text": [
      "epoch: 2, [batch: 756 / 2520], examples_per_second: 3185.2447, train_label_loss: 1.1750, \n"
     ]
    },
    {
     "name": "stdout",
     "output_type": "stream",
     "text": [
      "epoch: 2, [batch: 1008 / 2520], examples_per_second: 3196.2293, train_label_loss: 1.2617, \n"
     ]
    },
    {
     "name": "stdout",
     "output_type": "stream",
     "text": [
      "epoch: 2, [batch: 1260 / 2520], examples_per_second: 3200.7138, train_label_loss: 1.2262, \n"
     ]
    },
    {
     "name": "stdout",
     "output_type": "stream",
     "text": [
      "epoch: 2, [batch: 1512 / 2520], examples_per_second: 3204.4794, train_label_loss: 1.0477, \n"
     ]
    },
    {
     "name": "stdout",
     "output_type": "stream",
     "text": [
      "epoch: 2, [batch: 1764 / 2520], examples_per_second: 3185.8087, train_label_loss: 1.3059, \n"
     ]
    },
    {
     "name": "stdout",
     "output_type": "stream",
     "text": [
      "epoch: 2, [batch: 2016 / 2520], examples_per_second: 3220.2697, train_label_loss: 1.6126, \n"
     ]
    },
    {
     "name": "stdout",
     "output_type": "stream",
     "text": [
      "epoch: 2, [batch: 2268 / 2520], examples_per_second: 3197.5315, train_label_loss: 0.9531, \n"
     ]
    },
    {
     "name": "stdout",
     "output_type": "stream",
     "text": [
      "=============================================================\n",
      "epoch: 2, source_val_acc_label: 0.4344, target_val_acc_label: 0.3056, source_val_label_loss: 1.3836, target_val_label_loss: 1.8394, \n",
      "=============================================================\n"
     ]
    },
    {
     "name": "stdout",
     "output_type": "stream",
     "text": [
      "New best\n"
     ]
    },
    {
     "name": "stdout",
     "output_type": "stream",
     "text": [
      "epoch: 3, [batch: 1 / 2520], examples_per_second: 11.1583, train_label_loss: 1.1864, \n"
     ]
    },
    {
     "name": "stdout",
     "output_type": "stream",
     "text": [
      "epoch: 3, [batch: 252 / 2520], examples_per_second: 3169.7713, train_label_loss: 1.0546, \n"
     ]
    },
    {
     "name": "stdout",
     "output_type": "stream",
     "text": [
      "epoch: 3, [batch: 504 / 2520], examples_per_second: 3195.2730, train_label_loss: 1.7002, \n"
     ]
    },
    {
     "name": "stdout",
     "output_type": "stream",
     "text": [
      "epoch: 3, [batch: 756 / 2520], examples_per_second: 3196.6076, train_label_loss: 1.1163, \n"
     ]
    },
    {
     "name": "stdout",
     "output_type": "stream",
     "text": [
      "epoch: 3, [batch: 1008 / 2520], examples_per_second: 3165.0032, train_label_loss: 1.2906, \n"
     ]
    },
    {
     "name": "stdout",
     "output_type": "stream",
     "text": [
      "epoch: 3, [batch: 1260 / 2520], examples_per_second: 3180.7618, train_label_loss: 1.3026, \n"
     ]
    },
    {
     "name": "stdout",
     "output_type": "stream",
     "text": [
      "epoch: 3, [batch: 1512 / 2520], examples_per_second: 3184.3425, train_label_loss: 1.4739, \n"
     ]
    },
    {
     "name": "stdout",
     "output_type": "stream",
     "text": [
      "epoch: 3, [batch: 1764 / 2520], examples_per_second: 3170.5824, train_label_loss: 0.9536, \n"
     ]
    },
    {
     "name": "stdout",
     "output_type": "stream",
     "text": [
      "epoch: 3, [batch: 2016 / 2520], examples_per_second: 3192.1406, train_label_loss: 0.7068, \n"
     ]
    },
    {
     "name": "stdout",
     "output_type": "stream",
     "text": [
      "epoch: 3, [batch: 2268 / 2520], examples_per_second: 3182.6159, train_label_loss: 0.9299, \n"
     ]
    },
    {
     "name": "stdout",
     "output_type": "stream",
     "text": [
      "=============================================================\n",
      "epoch: 3, source_val_acc_label: 0.5395, target_val_acc_label: 0.4333, source_val_label_loss: 1.1961, target_val_label_loss: 1.5952, \n",
      "=============================================================\n"
     ]
    },
    {
     "name": "stdout",
     "output_type": "stream",
     "text": [
      "New best\n"
     ]
    },
    {
     "name": "stdout",
     "output_type": "stream",
     "text": [
      "epoch: 4, [batch: 1 / 2520], examples_per_second: 11.0741, train_label_loss: 0.6921, \n"
     ]
    },
    {
     "name": "stdout",
     "output_type": "stream",
     "text": [
      "epoch: 4, [batch: 252 / 2520], examples_per_second: 3185.3485, train_label_loss: 1.0183, \n"
     ]
    },
    {
     "name": "stdout",
     "output_type": "stream",
     "text": [
      "epoch: 4, [batch: 504 / 2520], examples_per_second: 3190.3171, train_label_loss: 0.9245, \n"
     ]
    },
    {
     "name": "stdout",
     "output_type": "stream",
     "text": [
      "epoch: 4, [batch: 756 / 2520], examples_per_second: 3192.3818, train_label_loss: 0.7582, \n"
     ]
    },
    {
     "name": "stdout",
     "output_type": "stream",
     "text": [
      "epoch: 4, [batch: 1008 / 2520], examples_per_second: 3184.8381, train_label_loss: 0.8532, \n"
     ]
    },
    {
     "name": "stdout",
     "output_type": "stream",
     "text": [
      "epoch: 4, [batch: 1260 / 2520], examples_per_second: 3159.0751, train_label_loss: 1.2184, \n"
     ]
    },
    {
     "name": "stdout",
     "output_type": "stream",
     "text": [
      "epoch: 4, [batch: 1512 / 2520], examples_per_second: 3154.7962, train_label_loss: 0.8326, \n"
     ]
    },
    {
     "name": "stdout",
     "output_type": "stream",
     "text": [
      "epoch: 4, [batch: 1764 / 2520], examples_per_second: 3152.0506, train_label_loss: 0.7738, \n"
     ]
    },
    {
     "name": "stdout",
     "output_type": "stream",
     "text": [
      "epoch: 4, [batch: 2016 / 2520], examples_per_second: 3188.8450, train_label_loss: 0.8668, \n"
     ]
    },
    {
     "name": "stdout",
     "output_type": "stream",
     "text": [
      "epoch: 4, [batch: 2268 / 2520], examples_per_second: 3218.3965, train_label_loss: 0.8785, \n"
     ]
    },
    {
     "name": "stdout",
     "output_type": "stream",
     "text": [
      "=============================================================\n",
      "epoch: 4, source_val_acc_label: 0.5796, target_val_acc_label: 0.4694, source_val_label_loss: 1.1300, target_val_label_loss: 1.5420, \n",
      "=============================================================\n"
     ]
    },
    {
     "name": "stdout",
     "output_type": "stream",
     "text": [
      "New best\n"
     ]
    },
    {
     "name": "stdout",
     "output_type": "stream",
     "text": [
      "epoch: 5, [batch: 1 / 2520], examples_per_second: 11.0733, train_label_loss: 1.0847, \n"
     ]
    },
    {
     "name": "stdout",
     "output_type": "stream",
     "text": [
      "epoch: 5, [batch: 252 / 2520], examples_per_second: 3190.3265, train_label_loss: 0.6041, \n"
     ]
    },
    {
     "name": "stdout",
     "output_type": "stream",
     "text": [
      "epoch: 5, [batch: 504 / 2520], examples_per_second: 3185.5745, train_label_loss: 0.8303, \n"
     ]
    },
    {
     "name": "stdout",
     "output_type": "stream",
     "text": [
      "epoch: 5, [batch: 756 / 2520], examples_per_second: 3199.4906, train_label_loss: 0.8510, \n"
     ]
    },
    {
     "name": "stdout",
     "output_type": "stream",
     "text": [
      "epoch: 5, [batch: 1008 / 2520], examples_per_second: 3185.4141, train_label_loss: 1.2102, \n"
     ]
    },
    {
     "name": "stdout",
     "output_type": "stream",
     "text": [
      "epoch: 5, [batch: 1260 / 2520], examples_per_second: 3191.7373, train_label_loss: 0.6811, \n"
     ]
    },
    {
     "name": "stdout",
     "output_type": "stream",
     "text": [
      "epoch: 5, [batch: 1512 / 2520], examples_per_second: 3184.5132, train_label_loss: 0.7910, \n"
     ]
    },
    {
     "name": "stdout",
     "output_type": "stream",
     "text": [
      "epoch: 5, [batch: 1764 / 2520], examples_per_second: 3196.2411, train_label_loss: 0.5728, \n"
     ]
    },
    {
     "name": "stdout",
     "output_type": "stream",
     "text": [
      "epoch: 5, [batch: 2016 / 2520], examples_per_second: 3192.2898, train_label_loss: 0.8602, \n"
     ]
    },
    {
     "name": "stdout",
     "output_type": "stream",
     "text": [
      "epoch: 5, [batch: 2268 / 2520], examples_per_second: 3204.2730, train_label_loss: 0.3860, \n"
     ]
    },
    {
     "name": "stdout",
     "output_type": "stream",
     "text": [
      "=============================================================\n",
      "epoch: 5, source_val_acc_label: 0.5950, target_val_acc_label: 0.4838, source_val_label_loss: 1.1484, target_val_label_loss: 1.5709, \n",
      "=============================================================\n"
     ]
    },
    {
     "name": "stdout",
     "output_type": "stream",
     "text": [
      "New best\n"
     ]
    },
    {
     "name": "stdout",
     "output_type": "stream",
     "text": [
      "epoch: 6, [batch: 1 / 2520], examples_per_second: 11.1012, train_label_loss: 0.5390, \n"
     ]
    },
    {
     "name": "stdout",
     "output_type": "stream",
     "text": [
      "epoch: 6, [batch: 252 / 2520], examples_per_second: 3181.0479, train_label_loss: 0.6595, \n"
     ]
    },
    {
     "name": "stdout",
     "output_type": "stream",
     "text": [
      "epoch: 6, [batch: 504 / 2520], examples_per_second: 3193.4969, train_label_loss: 0.5417, \n"
     ]
    },
    {
     "name": "stdout",
     "output_type": "stream",
     "text": [
      "epoch: 6, [batch: 756 / 2520], examples_per_second: 3184.3130, train_label_loss: 0.2559, \n"
     ]
    },
    {
     "name": "stdout",
     "output_type": "stream",
     "text": [
      "epoch: 6, [batch: 1008 / 2520], examples_per_second: 3181.1896, train_label_loss: 0.8496, \n"
     ]
    },
    {
     "name": "stdout",
     "output_type": "stream",
     "text": [
      "epoch: 6, [batch: 1260 / 2520], examples_per_second: 3200.6466, train_label_loss: 0.6515, \n"
     ]
    },
    {
     "name": "stdout",
     "output_type": "stream",
     "text": [
      "epoch: 6, [batch: 1512 / 2520], examples_per_second: 3188.7103, train_label_loss: 0.3594, \n"
     ]
    },
    {
     "name": "stdout",
     "output_type": "stream",
     "text": [
      "epoch: 6, [batch: 1764 / 2520], examples_per_second: 3185.8762, train_label_loss: 0.3592, \n"
     ]
    },
    {
     "name": "stdout",
     "output_type": "stream",
     "text": [
      "epoch: 6, [batch: 2016 / 2520], examples_per_second: 3193.9730, train_label_loss: 0.3283, \n"
     ]
    },
    {
     "name": "stdout",
     "output_type": "stream",
     "text": [
      "epoch: 6, [batch: 2268 / 2520], examples_per_second: 3185.3472, train_label_loss: 0.5978, \n"
     ]
    },
    {
     "name": "stdout",
     "output_type": "stream",
     "text": [
      "=============================================================\n",
      "epoch: 6, source_val_acc_label: 0.6028, target_val_acc_label: 0.4899, source_val_label_loss: 1.1447, target_val_label_loss: 1.6009, \n",
      "=============================================================\n"
     ]
    },
    {
     "name": "stdout",
     "output_type": "stream",
     "text": [
      "New best\n"
     ]
    },
    {
     "name": "stdout",
     "output_type": "stream",
     "text": [
      "epoch: 7, [batch: 1 / 2520], examples_per_second: 11.1379, train_label_loss: 0.5570, \n"
     ]
    },
    {
     "name": "stdout",
     "output_type": "stream",
     "text": [
      "epoch: 7, [batch: 252 / 2520], examples_per_second: 3191.9943, train_label_loss: 0.3998, \n"
     ]
    },
    {
     "name": "stdout",
     "output_type": "stream",
     "text": [
      "epoch: 7, [batch: 504 / 2520], examples_per_second: 3203.6684, train_label_loss: 0.3457, \n"
     ]
    },
    {
     "name": "stdout",
     "output_type": "stream",
     "text": [
      "epoch: 7, [batch: 756 / 2520], examples_per_second: 3203.7649, train_label_loss: 0.3657, \n"
     ]
    },
    {
     "name": "stdout",
     "output_type": "stream",
     "text": [
      "epoch: 7, [batch: 1008 / 2520], examples_per_second: 3182.9171, train_label_loss: 0.3576, \n"
     ]
    },
    {
     "name": "stdout",
     "output_type": "stream",
     "text": [
      "epoch: 7, [batch: 1260 / 2520], examples_per_second: 3199.9792, train_label_loss: 0.3723, \n"
     ]
    },
    {
     "name": "stdout",
     "output_type": "stream",
     "text": [
      "epoch: 7, [batch: 1512 / 2520], examples_per_second: 3191.1814, train_label_loss: 0.5713, \n"
     ]
    },
    {
     "name": "stdout",
     "output_type": "stream",
     "text": [
      "epoch: 7, [batch: 1764 / 2520], examples_per_second: 3177.9007, train_label_loss: 0.3852, \n"
     ]
    },
    {
     "name": "stdout",
     "output_type": "stream",
     "text": [
      "epoch: 7, [batch: 2016 / 2520], examples_per_second: 3223.0419, train_label_loss: 0.4694, \n"
     ]
    },
    {
     "name": "stdout",
     "output_type": "stream",
     "text": [
      "epoch: 7, [batch: 2268 / 2520], examples_per_second: 3208.7551, train_label_loss: 0.4879, \n"
     ]
    },
    {
     "name": "stdout",
     "output_type": "stream",
     "text": [
      "=============================================================\n",
      "epoch: 7, source_val_acc_label: 0.5964, target_val_acc_label: 0.4923, source_val_label_loss: 1.2702, target_val_label_loss: 1.7486, \n",
      "=============================================================\n"
     ]
    },
    {
     "name": "stdout",
     "output_type": "stream",
     "text": [
      "New best\n"
     ]
    },
    {
     "name": "stdout",
     "output_type": "stream",
     "text": [
      "epoch: 8, [batch: 1 / 2520], examples_per_second: 11.0677, train_label_loss: 0.2593, \n"
     ]
    },
    {
     "name": "stdout",
     "output_type": "stream",
     "text": [
      "epoch: 8, [batch: 252 / 2520], examples_per_second: 3175.8716, train_label_loss: 0.2774, \n"
     ]
    },
    {
     "name": "stdout",
     "output_type": "stream",
     "text": [
      "epoch: 8, [batch: 504 / 2520], examples_per_second: 3182.3633, train_label_loss: 0.3893, \n"
     ]
    },
    {
     "name": "stdout",
     "output_type": "stream",
     "text": [
      "epoch: 8, [batch: 756 / 2520], examples_per_second: 3190.9762, train_label_loss: 0.3736, \n"
     ]
    },
    {
     "name": "stdout",
     "output_type": "stream",
     "text": [
      "epoch: 8, [batch: 1008 / 2520], examples_per_second: 3190.1092, train_label_loss: 0.2534, \n"
     ]
    },
    {
     "name": "stdout",
     "output_type": "stream",
     "text": [
      "epoch: 8, [batch: 1260 / 2520], examples_per_second: 3184.5461, train_label_loss: 0.4065, \n"
     ]
    },
    {
     "name": "stdout",
     "output_type": "stream",
     "text": [
      "epoch: 8, [batch: 1512 / 2520], examples_per_second: 3206.7869, train_label_loss: 0.2941, \n"
     ]
    },
    {
     "name": "stdout",
     "output_type": "stream",
     "text": [
      "epoch: 8, [batch: 1764 / 2520], examples_per_second: 3176.3541, train_label_loss: 0.2653, \n"
     ]
    },
    {
     "name": "stdout",
     "output_type": "stream",
     "text": [
      "epoch: 8, [batch: 2016 / 2520], examples_per_second: 3197.7934, train_label_loss: 0.4243, \n"
     ]
    },
    {
     "name": "stdout",
     "output_type": "stream",
     "text": [
      "epoch: 8, [batch: 2268 / 2520], examples_per_second: 3199.6284, train_label_loss: 0.3534, \n"
     ]
    },
    {
     "name": "stdout",
     "output_type": "stream",
     "text": [
      "=============================================================\n",
      "epoch: 8, source_val_acc_label: 0.5990, target_val_acc_label: 0.4910, source_val_label_loss: 1.3410, target_val_label_loss: 1.8269, \n",
      "=============================================================\n"
     ]
    },
    {
     "name": "stdout",
     "output_type": "stream",
     "text": [
      "epoch: 9, [batch: 1 / 2520], examples_per_second: 11.1776, train_label_loss: 0.3509, \n"
     ]
    },
    {
     "name": "stdout",
     "output_type": "stream",
     "text": [
      "epoch: 9, [batch: 252 / 2520], examples_per_second: 3167.0335, train_label_loss: 0.3736, \n"
     ]
    },
    {
     "name": "stdout",
     "output_type": "stream",
     "text": [
      "epoch: 9, [batch: 504 / 2520], examples_per_second: 3190.4589, train_label_loss: 0.2996, \n"
     ]
    },
    {
     "name": "stdout",
     "output_type": "stream",
     "text": [
      "epoch: 9, [batch: 756 / 2520], examples_per_second: 3192.1227, train_label_loss: 0.3534, \n"
     ]
    },
    {
     "name": "stdout",
     "output_type": "stream",
     "text": [
      "epoch: 9, [batch: 1008 / 2520], examples_per_second: 3173.4369, train_label_loss: 0.2741, \n"
     ]
    },
    {
     "name": "stdout",
     "output_type": "stream",
     "text": [
      "epoch: 9, [batch: 1260 / 2520], examples_per_second: 3185.3972, train_label_loss: 0.2231, \n"
     ]
    },
    {
     "name": "stdout",
     "output_type": "stream",
     "text": [
      "epoch: 9, [batch: 1512 / 2520], examples_per_second: 3183.7607, train_label_loss: 0.3755, \n"
     ]
    },
    {
     "name": "stdout",
     "output_type": "stream",
     "text": [
      "epoch: 9, [batch: 1764 / 2520], examples_per_second: 3191.7671, train_label_loss: 0.4179, \n"
     ]
    },
    {
     "name": "stdout",
     "output_type": "stream",
     "text": [
      "epoch: 9, [batch: 2016 / 2520], examples_per_second: 3189.8679, train_label_loss: 0.1718, \n"
     ]
    },
    {
     "name": "stdout",
     "output_type": "stream",
     "text": [
      "epoch: 9, [batch: 2268 / 2520], examples_per_second: 3174.2720, train_label_loss: 0.3113, \n"
     ]
    },
    {
     "name": "stdout",
     "output_type": "stream",
     "text": [
      "=============================================================\n",
      "epoch: 9, source_val_acc_label: 0.6062, target_val_acc_label: 0.4915, source_val_label_loss: 1.3456, target_val_label_loss: 1.9125, \n",
      "=============================================================\n"
     ]
    },
    {
     "name": "stdout",
     "output_type": "stream",
     "text": [
      "epoch: 10, [batch: 1 / 2520], examples_per_second: 11.0930, train_label_loss: 0.5586, \n"
     ]
    },
    {
     "name": "stdout",
     "output_type": "stream",
     "text": [
      "epoch: 10, [batch: 252 / 2520], examples_per_second: 3184.1852, train_label_loss: 0.2310, \n"
     ]
    },
    {
     "name": "stdout",
     "output_type": "stream",
     "text": [
      "epoch: 10, [batch: 504 / 2520], examples_per_second: 3209.1146, train_label_loss: 0.5441, \n"
     ]
    },
    {
     "name": "stdout",
     "output_type": "stream",
     "text": [
      "epoch: 10, [batch: 756 / 2520], examples_per_second: 3214.7098, train_label_loss: 0.5038, \n"
     ]
    },
    {
     "name": "stdout",
     "output_type": "stream",
     "text": [
      "epoch: 10, [batch: 1008 / 2520], examples_per_second: 3188.5504, train_label_loss: 0.1145, \n"
     ]
    },
    {
     "name": "stdout",
     "output_type": "stream",
     "text": [
      "epoch: 10, [batch: 1260 / 2520], examples_per_second: 3208.4561, train_label_loss: 0.3540, \n"
     ]
    },
    {
     "name": "stdout",
     "output_type": "stream",
     "text": [
      "epoch: 10, [batch: 1512 / 2520], examples_per_second: 3203.5979, train_label_loss: 0.0785, \n"
     ]
    },
    {
     "name": "stdout",
     "output_type": "stream",
     "text": [
      "epoch: 10, [batch: 1764 / 2520], examples_per_second: 3190.5991, train_label_loss: 0.1028, \n"
     ]
    },
    {
     "name": "stdout",
     "output_type": "stream",
     "text": [
      "epoch: 10, [batch: 2016 / 2520], examples_per_second: 3193.6136, train_label_loss: 0.0599, \n"
     ]
    },
    {
     "name": "stdout",
     "output_type": "stream",
     "text": [
      "epoch: 10, [batch: 2268 / 2520], examples_per_second: 3192.4876, train_label_loss: 0.2440, \n"
     ]
    },
    {
     "name": "stdout",
     "output_type": "stream",
     "text": [
      "=============================================================\n",
      "epoch: 10, source_val_acc_label: 0.5998, target_val_acc_label: 0.4970, source_val_label_loss: 1.5048, target_val_label_loss: 2.0510, \n",
      "=============================================================\n"
     ]
    },
    {
     "name": "stdout",
     "output_type": "stream",
     "text": [
      "New best\n"
     ]
    },
    {
     "name": "stdout",
     "output_type": "stream",
     "text": [
      "epoch: 11, [batch: 1 / 2520], examples_per_second: 11.0399, train_label_loss: 0.2453, \n"
     ]
    },
    {
     "name": "stdout",
     "output_type": "stream",
     "text": [
      "epoch: 11, [batch: 252 / 2520], examples_per_second: 3192.8020, train_label_loss: 0.3746, \n"
     ]
    },
    {
     "name": "stdout",
     "output_type": "stream",
     "text": [
      "epoch: 11, [batch: 504 / 2520], examples_per_second: 3186.9481, train_label_loss: 0.3200, \n"
     ]
    },
    {
     "name": "stdout",
     "output_type": "stream",
     "text": [
      "epoch: 11, [batch: 756 / 2520], examples_per_second: 3202.8636, train_label_loss: 0.2556, \n"
     ]
    },
    {
     "name": "stdout",
     "output_type": "stream",
     "text": [
      "epoch: 11, [batch: 1008 / 2520], examples_per_second: 3179.8719, train_label_loss: 0.5869, \n"
     ]
    },
    {
     "name": "stdout",
     "output_type": "stream",
     "text": [
      "epoch: 11, [batch: 1260 / 2520], examples_per_second: 3205.5672, train_label_loss: 0.3299, \n"
     ]
    },
    {
     "name": "stdout",
     "output_type": "stream",
     "text": [
      "epoch: 11, [batch: 1512 / 2520], examples_per_second: 3208.6194, train_label_loss: 0.1247, \n"
     ]
    },
    {
     "name": "stdout",
     "output_type": "stream",
     "text": [
      "epoch: 11, [batch: 1764 / 2520], examples_per_second: 3180.8127, train_label_loss: 0.1769, \n"
     ]
    },
    {
     "name": "stdout",
     "output_type": "stream",
     "text": [
      "epoch: 11, [batch: 2016 / 2520], examples_per_second: 3208.7245, train_label_loss: 0.3019, \n"
     ]
    },
    {
     "name": "stdout",
     "output_type": "stream",
     "text": [
      "epoch: 11, [batch: 2268 / 2520], examples_per_second: 3198.3627, train_label_loss: 0.1374, \n"
     ]
    },
    {
     "name": "stdout",
     "output_type": "stream",
     "text": [
      "=============================================================\n",
      "epoch: 11, source_val_acc_label: 0.6084, target_val_acc_label: 0.4940, source_val_label_loss: 1.5588, target_val_label_loss: 2.1327, \n",
      "=============================================================\n"
     ]
    },
    {
     "name": "stdout",
     "output_type": "stream",
     "text": [
      "epoch: 12, [batch: 1 / 2520], examples_per_second: 11.1480, train_label_loss: 0.4307, \n"
     ]
    },
    {
     "name": "stdout",
     "output_type": "stream",
     "text": [
      "epoch: 12, [batch: 252 / 2520], examples_per_second: 3184.6182, train_label_loss: 0.1057, \n"
     ]
    },
    {
     "name": "stdout",
     "output_type": "stream",
     "text": [
      "epoch: 12, [batch: 504 / 2520], examples_per_second: 3193.2871, train_label_loss: 0.3641, \n"
     ]
    },
    {
     "name": "stdout",
     "output_type": "stream",
     "text": [
      "epoch: 12, [batch: 756 / 2520], examples_per_second: 3202.7299, train_label_loss: 0.1268, \n"
     ]
    },
    {
     "name": "stdout",
     "output_type": "stream",
     "text": [
      "epoch: 12, [batch: 1008 / 2520], examples_per_second: 3183.7511, train_label_loss: 0.0460, \n"
     ]
    },
    {
     "name": "stdout",
     "output_type": "stream",
     "text": [
      "epoch: 12, [batch: 1260 / 2520], examples_per_second: 3182.5306, train_label_loss: 0.1204, \n"
     ]
    },
    {
     "name": "stdout",
     "output_type": "stream",
     "text": [
      "epoch: 12, [batch: 1512 / 2520], examples_per_second: 3183.6585, train_label_loss: 0.1607, \n"
     ]
    },
    {
     "name": "stdout",
     "output_type": "stream",
     "text": [
      "epoch: 12, [batch: 1764 / 2520], examples_per_second: 3157.4167, train_label_loss: 0.0273, \n"
     ]
    },
    {
     "name": "stdout",
     "output_type": "stream",
     "text": [
      "epoch: 12, [batch: 2016 / 2520], examples_per_second: 3171.8369, train_label_loss: 0.1244, \n"
     ]
    },
    {
     "name": "stdout",
     "output_type": "stream",
     "text": [
      "epoch: 12, [batch: 2268 / 2520], examples_per_second: 3178.0229, train_label_loss: 0.0957, \n"
     ]
    },
    {
     "name": "stdout",
     "output_type": "stream",
     "text": [
      "=============================================================\n",
      "epoch: 12, source_val_acc_label: 0.5990, target_val_acc_label: 0.4949, source_val_label_loss: 1.6263, target_val_label_loss: 2.2190, \n",
      "=============================================================\n"
     ]
    },
    {
     "name": "stdout",
     "output_type": "stream",
     "text": [
      "epoch: 13, [batch: 1 / 2520], examples_per_second: 11.1046, train_label_loss: 0.0886, \n"
     ]
    },
    {
     "name": "stdout",
     "output_type": "stream",
     "text": [
      "epoch: 13, [batch: 252 / 2520], examples_per_second: 3184.0683, train_label_loss: 0.1924, \n"
     ]
    },
    {
     "name": "stdout",
     "output_type": "stream",
     "text": [
      "epoch: 13, [batch: 504 / 2520], examples_per_second: 3183.9702, train_label_loss: 0.3353, \n"
     ]
    },
    {
     "name": "stdout",
     "output_type": "stream",
     "text": [
      "epoch: 13, [batch: 756 / 2520], examples_per_second: 3184.0886, train_label_loss: 0.0827, \n"
     ]
    },
    {
     "name": "stdout",
     "output_type": "stream",
     "text": [
      "epoch: 13, [batch: 1008 / 2520], examples_per_second: 3174.2554, train_label_loss: 0.3218, \n"
     ]
    },
    {
     "name": "stdout",
     "output_type": "stream",
     "text": [
      "epoch: 13, [batch: 1260 / 2520], examples_per_second: 3178.5202, train_label_loss: 0.0345, \n"
     ]
    },
    {
     "name": "stdout",
     "output_type": "stream",
     "text": [
      "epoch: 13, [batch: 1512 / 2520], examples_per_second: 3171.3577, train_label_loss: 0.1506, \n"
     ]
    },
    {
     "name": "stdout",
     "output_type": "stream",
     "text": [
      "epoch: 13, [batch: 1764 / 2520], examples_per_second: 3193.6555, train_label_loss: 0.4516, \n"
     ]
    },
    {
     "name": "stdout",
     "output_type": "stream",
     "text": [
      "epoch: 13, [batch: 2016 / 2520], examples_per_second: 3184.1625, train_label_loss: 0.0891, \n"
     ]
    },
    {
     "name": "stdout",
     "output_type": "stream",
     "text": [
      "epoch: 13, [batch: 2268 / 2520], examples_per_second: 3175.6765, train_label_loss: 0.0507, \n"
     ]
    },
    {
     "name": "stdout",
     "output_type": "stream",
     "text": [
      "=============================================================\n",
      "epoch: 13, source_val_acc_label: 0.6025, target_val_acc_label: 0.4996, source_val_label_loss: 1.6362, target_val_label_loss: 2.2308, \n",
      "=============================================================\n"
     ]
    },
    {
     "name": "stdout",
     "output_type": "stream",
     "text": [
      "New best\n"
     ]
    },
    {
     "name": "stdout",
     "output_type": "stream",
     "text": [
      "epoch: 14, [batch: 1 / 2520], examples_per_second: 11.0701, train_label_loss: 0.0089, \n"
     ]
    },
    {
     "name": "stdout",
     "output_type": "stream",
     "text": [
      "epoch: 14, [batch: 252 / 2520], examples_per_second: 3195.4595, train_label_loss: 0.4259, \n"
     ]
    },
    {
     "name": "stdout",
     "output_type": "stream",
     "text": [
      "epoch: 14, [batch: 504 / 2520], examples_per_second: 3200.4304, train_label_loss: 0.2862, \n"
     ]
    },
    {
     "name": "stdout",
     "output_type": "stream",
     "text": [
      "epoch: 14, [batch: 756 / 2520], examples_per_second: 3192.6306, train_label_loss: 0.4942, \n"
     ]
    },
    {
     "name": "stdout",
     "output_type": "stream",
     "text": [
      "epoch: 14, [batch: 1008 / 2520], examples_per_second: 3200.4629, train_label_loss: 0.1299, \n"
     ]
    },
    {
     "name": "stdout",
     "output_type": "stream",
     "text": [
      "epoch: 14, [batch: 1260 / 2520], examples_per_second: 3192.3539, train_label_loss: 0.0538, \n"
     ]
    },
    {
     "name": "stdout",
     "output_type": "stream",
     "text": [
      "epoch: 14, [batch: 1512 / 2520], examples_per_second: 3188.8319, train_label_loss: 0.2550, \n"
     ]
    },
    {
     "name": "stdout",
     "output_type": "stream",
     "text": [
      "epoch: 14, [batch: 1764 / 2520], examples_per_second: 3178.2472, train_label_loss: 0.2823, \n"
     ]
    },
    {
     "name": "stdout",
     "output_type": "stream",
     "text": [
      "epoch: 14, [batch: 2016 / 2520], examples_per_second: 3179.3513, train_label_loss: 0.0435, \n"
     ]
    },
    {
     "name": "stdout",
     "output_type": "stream",
     "text": [
      "epoch: 14, [batch: 2268 / 2520], examples_per_second: 3178.7029, train_label_loss: 0.0745, \n"
     ]
    },
    {
     "name": "stdout",
     "output_type": "stream",
     "text": [
      "=============================================================\n",
      "epoch: 14, source_val_acc_label: 0.6010, target_val_acc_label: 0.4965, source_val_label_loss: 1.6983, target_val_label_loss: 2.2997, \n",
      "=============================================================\n"
     ]
    },
    {
     "name": "stdout",
     "output_type": "stream",
     "text": [
      "epoch: 15, [batch: 1 / 2520], examples_per_second: 11.1161, train_label_loss: 0.4330, \n"
     ]
    },
    {
     "name": "stdout",
     "output_type": "stream",
     "text": [
      "epoch: 15, [batch: 252 / 2520], examples_per_second: 3188.1240, train_label_loss: 0.0789, \n"
     ]
    },
    {
     "name": "stdout",
     "output_type": "stream",
     "text": [
      "epoch: 15, [batch: 504 / 2520], examples_per_second: 3190.6547, train_label_loss: 0.0584, \n"
     ]
    },
    {
     "name": "stdout",
     "output_type": "stream",
     "text": [
      "epoch: 15, [batch: 756 / 2520], examples_per_second: 3210.4347, train_label_loss: 0.1822, \n"
     ]
    },
    {
     "name": "stdout",
     "output_type": "stream",
     "text": [
      "epoch: 15, [batch: 1008 / 2520], examples_per_second: 3179.9516, train_label_loss: 0.0181, \n"
     ]
    },
    {
     "name": "stdout",
     "output_type": "stream",
     "text": [
      "epoch: 15, [batch: 1260 / 2520], examples_per_second: 3202.7562, train_label_loss: 0.1600, \n"
     ]
    },
    {
     "name": "stdout",
     "output_type": "stream",
     "text": [
      "epoch: 15, [batch: 1512 / 2520], examples_per_second: 3196.3896, train_label_loss: 0.0380, \n"
     ]
    },
    {
     "name": "stdout",
     "output_type": "stream",
     "text": [
      "epoch: 15, [batch: 1764 / 2520], examples_per_second: 3185.1979, train_label_loss: 0.1019, \n"
     ]
    },
    {
     "name": "stdout",
     "output_type": "stream",
     "text": [
      "epoch: 15, [batch: 2016 / 2520], examples_per_second: 3188.8562, train_label_loss: 0.0214, \n"
     ]
    },
    {
     "name": "stdout",
     "output_type": "stream",
     "text": [
      "epoch: 15, [batch: 2268 / 2520], examples_per_second: 3197.3954, train_label_loss: 0.1463, \n"
     ]
    },
    {
     "name": "stdout",
     "output_type": "stream",
     "text": [
      "=============================================================\n",
      "epoch: 15, source_val_acc_label: 0.6065, target_val_acc_label: 0.4987, source_val_label_loss: 1.7456, target_val_label_loss: 2.3505, \n",
      "=============================================================\n"
     ]
    },
    {
     "name": "stdout",
     "output_type": "stream",
     "text": [
      "epoch: 16, [batch: 1 / 2520], examples_per_second: 11.1447, train_label_loss: 0.0368, \n"
     ]
    },
    {
     "name": "stdout",
     "output_type": "stream",
     "text": [
      "epoch: 16, [batch: 252 / 2520], examples_per_second: 3175.7019, train_label_loss: 0.2369, \n"
     ]
    },
    {
     "name": "stdout",
     "output_type": "stream",
     "text": [
      "epoch: 16, [batch: 504 / 2520], examples_per_second: 3194.6572, train_label_loss: 0.0726, \n"
     ]
    },
    {
     "name": "stdout",
     "output_type": "stream",
     "text": [
      "epoch: 16, [batch: 756 / 2520], examples_per_second: 3204.7164, train_label_loss: 0.1167, \n"
     ]
    },
    {
     "name": "stdout",
     "output_type": "stream",
     "text": [
      "epoch: 16, [batch: 1008 / 2520], examples_per_second: 3188.5144, train_label_loss: 0.0144, \n"
     ]
    },
    {
     "name": "stdout",
     "output_type": "stream",
     "text": [
      "epoch: 16, [batch: 1260 / 2520], examples_per_second: 3203.9465, train_label_loss: 0.0305, \n"
     ]
    },
    {
     "name": "stdout",
     "output_type": "stream",
     "text": [
      "epoch: 16, [batch: 1512 / 2520], examples_per_second: 3198.4999, train_label_loss: 0.0283, \n"
     ]
    },
    {
     "name": "stdout",
     "output_type": "stream",
     "text": [
      "epoch: 16, [batch: 1764 / 2520], examples_per_second: 3177.1326, train_label_loss: 0.0343, \n"
     ]
    },
    {
     "name": "stdout",
     "output_type": "stream",
     "text": [
      "epoch: 16, [batch: 2016 / 2520], examples_per_second: 3184.0642, train_label_loss: 0.1323, \n"
     ]
    },
    {
     "name": "stdout",
     "output_type": "stream",
     "text": [
      "epoch: 16, [batch: 2268 / 2520], examples_per_second: 3195.5910, train_label_loss: 0.0655, \n"
     ]
    },
    {
     "name": "stdout",
     "output_type": "stream",
     "text": [
      "=============================================================\n",
      "epoch: 16, source_val_acc_label: 0.6059, target_val_acc_label: 0.5004, source_val_label_loss: 1.7493, target_val_label_loss: 2.3821, \n",
      "=============================================================\n"
     ]
    },
    {
     "name": "stdout",
     "output_type": "stream",
     "text": [
      "New best\n"
     ]
    },
    {
     "name": "stdout",
     "output_type": "stream",
     "text": [
      "epoch: 17, [batch: 1 / 2520], examples_per_second: 11.0690, train_label_loss: 0.0461, \n"
     ]
    },
    {
     "name": "stdout",
     "output_type": "stream",
     "text": [
      "epoch: 17, [batch: 252 / 2520], examples_per_second: 3167.6239, train_label_loss: 0.3256, \n"
     ]
    },
    {
     "name": "stdout",
     "output_type": "stream",
     "text": [
      "epoch: 17, [batch: 504 / 2520], examples_per_second: 3205.6160, train_label_loss: 0.0671, \n"
     ]
    },
    {
     "name": "stdout",
     "output_type": "stream",
     "text": [
      "epoch: 17, [batch: 756 / 2520], examples_per_second: 3206.5765, train_label_loss: 0.0093, \n"
     ]
    },
    {
     "name": "stdout",
     "output_type": "stream",
     "text": [
      "epoch: 17, [batch: 1008 / 2520], examples_per_second: 3181.5595, train_label_loss: 0.3594, \n"
     ]
    },
    {
     "name": "stdout",
     "output_type": "stream",
     "text": [
      "epoch: 17, [batch: 1260 / 2520], examples_per_second: 3188.4367, train_label_loss: 0.2187, \n"
     ]
    },
    {
     "name": "stdout",
     "output_type": "stream",
     "text": [
      "epoch: 17, [batch: 1512 / 2520], examples_per_second: 3203.3428, train_label_loss: 0.1680, \n"
     ]
    },
    {
     "name": "stdout",
     "output_type": "stream",
     "text": [
      "epoch: 17, [batch: 1764 / 2520], examples_per_second: 3174.8455, train_label_loss: 0.1251, \n"
     ]
    },
    {
     "name": "stdout",
     "output_type": "stream",
     "text": [
      "epoch: 17, [batch: 2016 / 2520], examples_per_second: 3193.0748, train_label_loss: 0.2653, \n"
     ]
    },
    {
     "name": "stdout",
     "output_type": "stream",
     "text": [
      "epoch: 17, [batch: 2268 / 2520], examples_per_second: 3197.2333, train_label_loss: 0.2762, \n"
     ]
    },
    {
     "name": "stdout",
     "output_type": "stream",
     "text": [
      "=============================================================\n",
      "epoch: 17, source_val_acc_label: 0.6005, target_val_acc_label: 0.5014, source_val_label_loss: 1.8440, target_val_label_loss: 2.5053, \n",
      "=============================================================\n"
     ]
    },
    {
     "name": "stdout",
     "output_type": "stream",
     "text": [
      "New best\n"
     ]
    },
    {
     "name": "stdout",
     "output_type": "stream",
     "text": [
      "epoch: 18, [batch: 1 / 2520], examples_per_second: 10.9245, train_label_loss: 0.1242, \n"
     ]
    },
    {
     "name": "stdout",
     "output_type": "stream",
     "text": [
      "epoch: 18, [batch: 252 / 2520], examples_per_second: 3180.1874, train_label_loss: 0.0978, \n"
     ]
    },
    {
     "name": "stdout",
     "output_type": "stream",
     "text": [
      "epoch: 18, [batch: 504 / 2520], examples_per_second: 3194.1405, train_label_loss: 0.0053, \n"
     ]
    },
    {
     "name": "stdout",
     "output_type": "stream",
     "text": [
      "epoch: 18, [batch: 756 / 2520], examples_per_second: 3191.7600, train_label_loss: 0.1254, \n"
     ]
    },
    {
     "name": "stdout",
     "output_type": "stream",
     "text": [
      "epoch: 18, [batch: 1008 / 2520], examples_per_second: 3179.7996, train_label_loss: 0.0646, \n"
     ]
    },
    {
     "name": "stdout",
     "output_type": "stream",
     "text": [
      "epoch: 18, [batch: 1260 / 2520], examples_per_second: 3204.0879, train_label_loss: 0.3349, \n"
     ]
    },
    {
     "name": "stdout",
     "output_type": "stream",
     "text": [
      "epoch: 18, [batch: 1512 / 2520], examples_per_second: 3193.7654, train_label_loss: 0.1059, \n"
     ]
    },
    {
     "name": "stdout",
     "output_type": "stream",
     "text": [
      "epoch: 18, [batch: 1764 / 2520], examples_per_second: 3179.4905, train_label_loss: 0.2049, \n"
     ]
    },
    {
     "name": "stdout",
     "output_type": "stream",
     "text": [
      "epoch: 18, [batch: 2016 / 2520], examples_per_second: 3187.7560, train_label_loss: 0.3413, \n"
     ]
    },
    {
     "name": "stdout",
     "output_type": "stream",
     "text": [
      "epoch: 18, [batch: 2268 / 2520], examples_per_second: 3194.8540, train_label_loss: 0.0185, \n"
     ]
    },
    {
     "name": "stdout",
     "output_type": "stream",
     "text": [
      "=============================================================\n",
      "epoch: 18, source_val_acc_label: 0.6098, target_val_acc_label: 0.5043, source_val_label_loss: 1.8326, target_val_label_loss: 2.5212, \n",
      "=============================================================\n"
     ]
    },
    {
     "name": "stdout",
     "output_type": "stream",
     "text": [
      "New best\n"
     ]
    },
    {
     "name": "stdout",
     "output_type": "stream",
     "text": [
      "epoch: 19, [batch: 1 / 2520], examples_per_second: 11.0816, train_label_loss: 0.0511, \n"
     ]
    },
    {
     "name": "stdout",
     "output_type": "stream",
     "text": [
      "epoch: 19, [batch: 252 / 2520], examples_per_second: 3173.6207, train_label_loss: 0.0629, \n"
     ]
    },
    {
     "name": "stdout",
     "output_type": "stream",
     "text": [
      "epoch: 19, [batch: 504 / 2520], examples_per_second: 3196.9258, train_label_loss: 0.0819, \n"
     ]
    },
    {
     "name": "stdout",
     "output_type": "stream",
     "text": [
      "epoch: 19, [batch: 756 / 2520], examples_per_second: 3205.2748, train_label_loss: 0.0673, \n"
     ]
    },
    {
     "name": "stdout",
     "output_type": "stream",
     "text": [
      "epoch: 19, [batch: 1008 / 2520], examples_per_second: 3184.1745, train_label_loss: 0.0217, \n"
     ]
    },
    {
     "name": "stdout",
     "output_type": "stream",
     "text": [
      "epoch: 19, [batch: 1260 / 2520], examples_per_second: 3181.3154, train_label_loss: 0.0312, \n"
     ]
    },
    {
     "name": "stdout",
     "output_type": "stream",
     "text": [
      "epoch: 19, [batch: 1512 / 2520], examples_per_second: 3198.0827, train_label_loss: 0.0012, \n"
     ]
    },
    {
     "name": "stdout",
     "output_type": "stream",
     "text": [
      "epoch: 19, [batch: 1764 / 2520], examples_per_second: 3164.0027, train_label_loss: 0.0463, \n"
     ]
    },
    {
     "name": "stdout",
     "output_type": "stream",
     "text": [
      "epoch: 19, [batch: 2016 / 2520], examples_per_second: 3203.2001, train_label_loss: 0.0155, \n"
     ]
    },
    {
     "name": "stdout",
     "output_type": "stream",
     "text": [
      "epoch: 19, [batch: 2268 / 2520], examples_per_second: 3214.5130, train_label_loss: 0.1453, \n"
     ]
    },
    {
     "name": "stdout",
     "output_type": "stream",
     "text": [
      "=============================================================\n",
      "epoch: 19, source_val_acc_label: 0.6096, target_val_acc_label: 0.5046, source_val_label_loss: 1.8748, target_val_label_loss: 2.5594, \n",
      "=============================================================\n"
     ]
    },
    {
     "name": "stdout",
     "output_type": "stream",
     "text": [
      "New best\n"
     ]
    },
    {
     "name": "stdout",
     "output_type": "stream",
     "text": [
      "epoch: 20, [batch: 1 / 2520], examples_per_second: 10.9915, train_label_loss: 0.0721, \n"
     ]
    },
    {
     "name": "stdout",
     "output_type": "stream",
     "text": [
      "epoch: 20, [batch: 252 / 2520], examples_per_second: 3182.5572, train_label_loss: 0.0975, \n"
     ]
    },
    {
     "name": "stdout",
     "output_type": "stream",
     "text": [
      "epoch: 20, [batch: 504 / 2520], examples_per_second: 3200.5993, train_label_loss: 0.0066, \n"
     ]
    },
    {
     "name": "stdout",
     "output_type": "stream",
     "text": [
      "epoch: 20, [batch: 756 / 2520], examples_per_second: 3196.8918, train_label_loss: 0.2938, \n"
     ]
    },
    {
     "name": "stdout",
     "output_type": "stream",
     "text": [
      "epoch: 20, [batch: 1008 / 2520], examples_per_second: 3191.0538, train_label_loss: 0.0598, \n"
     ]
    },
    {
     "name": "stdout",
     "output_type": "stream",
     "text": [
      "epoch: 20, [batch: 1260 / 2520], examples_per_second: 3205.0583, train_label_loss: 0.1908, \n"
     ]
    },
    {
     "name": "stdout",
     "output_type": "stream",
     "text": [
      "epoch: 20, [batch: 1512 / 2520], examples_per_second: 3200.6238, train_label_loss: 0.0737, \n"
     ]
    },
    {
     "name": "stdout",
     "output_type": "stream",
     "text": [
      "epoch: 20, [batch: 1764 / 2520], examples_per_second: 3194.3734, train_label_loss: 0.2499, \n"
     ]
    },
    {
     "name": "stdout",
     "output_type": "stream",
     "text": [
      "epoch: 20, [batch: 2016 / 2520], examples_per_second: 3196.4500, train_label_loss: 0.0027, \n"
     ]
    },
    {
     "name": "stdout",
     "output_type": "stream",
     "text": [
      "epoch: 20, [batch: 2268 / 2520], examples_per_second: 3208.7673, train_label_loss: 0.1062, \n"
     ]
    },
    {
     "name": "stdout",
     "output_type": "stream",
     "text": [
      "=============================================================\n",
      "epoch: 20, source_val_acc_label: 0.6102, target_val_acc_label: 0.5028, source_val_label_loss: 1.9133, target_val_label_loss: 2.6144, \n",
      "=============================================================\n"
     ]
    },
    {
     "name": "stdout",
     "output_type": "stream",
     "text": [
      "epoch: 21, [batch: 1 / 2520], examples_per_second: 11.1038, train_label_loss: 0.0175, \n"
     ]
    },
    {
     "name": "stdout",
     "output_type": "stream",
     "text": [
      "epoch: 21, [batch: 252 / 2520], examples_per_second: 3177.9987, train_label_loss: 0.1071, \n"
     ]
    },
    {
     "name": "stdout",
     "output_type": "stream",
     "text": [
      "epoch: 21, [batch: 504 / 2520], examples_per_second: 3202.0418, train_label_loss: 0.0890, \n"
     ]
    },
    {
     "name": "stdout",
     "output_type": "stream",
     "text": [
      "epoch: 21, [batch: 756 / 2520], examples_per_second: 3201.2710, train_label_loss: 0.0407, \n"
     ]
    },
    {
     "name": "stdout",
     "output_type": "stream",
     "text": [
      "epoch: 21, [batch: 1008 / 2520], examples_per_second: 3193.5253, train_label_loss: 0.0856, \n"
     ]
    },
    {
     "name": "stdout",
     "output_type": "stream",
     "text": [
      "epoch: 21, [batch: 1260 / 2520], examples_per_second: 3201.8515, train_label_loss: 0.0550, \n"
     ]
    },
    {
     "name": "stdout",
     "output_type": "stream",
     "text": [
      "epoch: 21, [batch: 1512 / 2520], examples_per_second: 3198.3676, train_label_loss: 0.0034, \n"
     ]
    },
    {
     "name": "stdout",
     "output_type": "stream",
     "text": [
      "epoch: 21, [batch: 1764 / 2520], examples_per_second: 3200.3224, train_label_loss: 0.0973, \n"
     ]
    },
    {
     "name": "stdout",
     "output_type": "stream",
     "text": [
      "epoch: 21, [batch: 2016 / 2520], examples_per_second: 3182.4170, train_label_loss: 0.0059, \n"
     ]
    },
    {
     "name": "stdout",
     "output_type": "stream",
     "text": [
      "epoch: 21, [batch: 2268 / 2520], examples_per_second: 3181.6468, train_label_loss: 0.0493, \n"
     ]
    },
    {
     "name": "stdout",
     "output_type": "stream",
     "text": [
      "=============================================================\n",
      "epoch: 21, source_val_acc_label: 0.6066, target_val_acc_label: 0.5055, source_val_label_loss: 1.9681, target_val_label_loss: 2.6962, \n",
      "=============================================================\n"
     ]
    },
    {
     "name": "stdout",
     "output_type": "stream",
     "text": [
      "New best\n"
     ]
    },
    {
     "name": "stdout",
     "output_type": "stream",
     "text": [
      "epoch: 22, [batch: 1 / 2520], examples_per_second: 11.0055, train_label_loss: 0.0589, \n"
     ]
    },
    {
     "name": "stdout",
     "output_type": "stream",
     "text": [
      "epoch: 22, [batch: 252 / 2520], examples_per_second: 3169.9241, train_label_loss: 0.0176, \n"
     ]
    },
    {
     "name": "stdout",
     "output_type": "stream",
     "text": [
      "epoch: 22, [batch: 504 / 2520], examples_per_second: 3191.8298, train_label_loss: 0.0232, \n"
     ]
    },
    {
     "name": "stdout",
     "output_type": "stream",
     "text": [
      "epoch: 22, [batch: 756 / 2520], examples_per_second: 3208.4557, train_label_loss: 0.0037, \n"
     ]
    },
    {
     "name": "stdout",
     "output_type": "stream",
     "text": [
      "epoch: 22, [batch: 1008 / 2520], examples_per_second: 3183.3421, train_label_loss: 0.0469, \n"
     ]
    },
    {
     "name": "stdout",
     "output_type": "stream",
     "text": [
      "epoch: 22, [batch: 1260 / 2520], examples_per_second: 3180.7132, train_label_loss: 0.0092, \n"
     ]
    },
    {
     "name": "stdout",
     "output_type": "stream",
     "text": [
      "epoch: 22, [batch: 1512 / 2520], examples_per_second: 3185.5040, train_label_loss: 0.1731, \n"
     ]
    },
    {
     "name": "stdout",
     "output_type": "stream",
     "text": [
      "epoch: 22, [batch: 1764 / 2520], examples_per_second: 3182.2664, train_label_loss: 0.0240, \n"
     ]
    },
    {
     "name": "stdout",
     "output_type": "stream",
     "text": [
      "epoch: 22, [batch: 2016 / 2520], examples_per_second: 3182.8354, train_label_loss: 0.0021, \n"
     ]
    },
    {
     "name": "stdout",
     "output_type": "stream",
     "text": [
      "epoch: 22, [batch: 2268 / 2520], examples_per_second: 3198.6737, train_label_loss: 0.0027, \n"
     ]
    },
    {
     "name": "stdout",
     "output_type": "stream",
     "text": [
      "=============================================================\n",
      "epoch: 22, source_val_acc_label: 0.6002, target_val_acc_label: 0.4969, source_val_label_loss: 2.0143, target_val_label_loss: 2.7169, \n",
      "=============================================================\n"
     ]
    },
    {
     "name": "stdout",
     "output_type": "stream",
     "text": [
      "epoch: 23, [batch: 1 / 2520], examples_per_second: 11.2019, train_label_loss: 0.2203, \n"
     ]
    },
    {
     "name": "stdout",
     "output_type": "stream",
     "text": [
      "epoch: 23, [batch: 252 / 2520], examples_per_second: 3183.9134, train_label_loss: 0.1719, \n"
     ]
    },
    {
     "name": "stdout",
     "output_type": "stream",
     "text": [
      "epoch: 23, [batch: 504 / 2520], examples_per_second: 3197.7734, train_label_loss: 0.0388, \n"
     ]
    },
    {
     "name": "stdout",
     "output_type": "stream",
     "text": [
      "epoch: 23, [batch: 756 / 2520], examples_per_second: 3189.7606, train_label_loss: 0.1608, \n"
     ]
    },
    {
     "name": "stdout",
     "output_type": "stream",
     "text": [
      "epoch: 23, [batch: 1008 / 2520], examples_per_second: 3192.2205, train_label_loss: 0.0948, \n"
     ]
    },
    {
     "name": "stdout",
     "output_type": "stream",
     "text": [
      "epoch: 23, [batch: 1260 / 2520], examples_per_second: 3187.3747, train_label_loss: 0.2364, \n"
     ]
    },
    {
     "name": "stdout",
     "output_type": "stream",
     "text": [
      "epoch: 23, [batch: 1512 / 2520], examples_per_second: 3203.6089, train_label_loss: 0.0580, \n"
     ]
    },
    {
     "name": "stdout",
     "output_type": "stream",
     "text": [
      "epoch: 23, [batch: 1764 / 2520], examples_per_second: 3191.3578, train_label_loss: 0.1450, \n"
     ]
    },
    {
     "name": "stdout",
     "output_type": "stream",
     "text": [
      "epoch: 23, [batch: 2016 / 2520], examples_per_second: 3190.9033, train_label_loss: 0.0447, \n"
     ]
    },
    {
     "name": "stdout",
     "output_type": "stream",
     "text": [
      "epoch: 23, [batch: 2268 / 2520], examples_per_second: 3209.7412, train_label_loss: 0.0247, \n"
     ]
    },
    {
     "name": "stdout",
     "output_type": "stream",
     "text": [
      "=============================================================\n",
      "epoch: 23, source_val_acc_label: 0.6107, target_val_acc_label: 0.5010, source_val_label_loss: 1.9779, target_val_label_loss: 2.6792, \n",
      "=============================================================\n"
     ]
    },
    {
     "name": "stdout",
     "output_type": "stream",
     "text": [
      "epoch: 24, [batch: 1 / 2520], examples_per_second: 11.1952, train_label_loss: 0.2096, \n"
     ]
    },
    {
     "name": "stdout",
     "output_type": "stream",
     "text": [
      "epoch: 24, [batch: 252 / 2520], examples_per_second: 3196.8347, train_label_loss: 0.0204, \n"
     ]
    },
    {
     "name": "stdout",
     "output_type": "stream",
     "text": [
      "epoch: 24, [batch: 504 / 2520], examples_per_second: 3174.2329, train_label_loss: 0.0073, \n"
     ]
    },
    {
     "name": "stdout",
     "output_type": "stream",
     "text": [
      "epoch: 24, [batch: 756 / 2520], examples_per_second: 3207.4951, train_label_loss: 0.0452, \n"
     ]
    },
    {
     "name": "stdout",
     "output_type": "stream",
     "text": [
      "epoch: 24, [batch: 1008 / 2520], examples_per_second: 3188.1863, train_label_loss: 0.4116, \n"
     ]
    },
    {
     "name": "stdout",
     "output_type": "stream",
     "text": [
      "epoch: 24, [batch: 1260 / 2520], examples_per_second: 3182.4749, train_label_loss: 0.0287, \n"
     ]
    },
    {
     "name": "stdout",
     "output_type": "stream",
     "text": [
      "epoch: 24, [batch: 1512 / 2520], examples_per_second: 3190.5752, train_label_loss: 0.1060, \n"
     ]
    },
    {
     "name": "stdout",
     "output_type": "stream",
     "text": [
      "epoch: 24, [batch: 1764 / 2520], examples_per_second: 3183.8113, train_label_loss: 0.1284, \n"
     ]
    },
    {
     "name": "stdout",
     "output_type": "stream",
     "text": [
      "epoch: 24, [batch: 2016 / 2520], examples_per_second: 3206.4876, train_label_loss: 0.0780, \n"
     ]
    },
    {
     "name": "stdout",
     "output_type": "stream",
     "text": [
      "epoch: 24, [batch: 2268 / 2520], examples_per_second: 3181.9018, train_label_loss: 0.0846, \n"
     ]
    },
    {
     "name": "stdout",
     "output_type": "stream",
     "text": [
      "=============================================================\n",
      "epoch: 24, source_val_acc_label: 0.6049, target_val_acc_label: 0.5043, source_val_label_loss: 2.0049, target_val_label_loss: 2.6801, \n",
      "=============================================================\n"
     ]
    },
    {
     "name": "stdout",
     "output_type": "stream",
     "text": [
      "epoch: 25, [batch: 1 / 2520], examples_per_second: 11.0811, train_label_loss: 0.0655, \n"
     ]
    },
    {
     "name": "stdout",
     "output_type": "stream",
     "text": [
      "epoch: 25, [batch: 252 / 2520], examples_per_second: 3198.9485, train_label_loss: 0.0174, \n"
     ]
    },
    {
     "name": "stdout",
     "output_type": "stream",
     "text": [
      "epoch: 25, [batch: 504 / 2520], examples_per_second: 3209.2561, train_label_loss: 0.1156, \n"
     ]
    },
    {
     "name": "stdout",
     "output_type": "stream",
     "text": [
      "epoch: 25, [batch: 756 / 2520], examples_per_second: 3206.6406, train_label_loss: 0.0035, \n"
     ]
    },
    {
     "name": "stdout",
     "output_type": "stream",
     "text": [
      "epoch: 25, [batch: 1008 / 2520], examples_per_second: 3186.3132, train_label_loss: 0.0231, \n"
     ]
    },
    {
     "name": "stdout",
     "output_type": "stream",
     "text": [
      "epoch: 25, [batch: 1260 / 2520], examples_per_second: 3205.7665, train_label_loss: 0.0542, \n"
     ]
    },
    {
     "name": "stdout",
     "output_type": "stream",
     "text": [
      "epoch: 25, [batch: 1512 / 2520], examples_per_second: 3203.1479, train_label_loss: 0.1844, \n"
     ]
    },
    {
     "name": "stdout",
     "output_type": "stream",
     "text": [
      "epoch: 25, [batch: 1764 / 2520], examples_per_second: 3175.7156, train_label_loss: 0.1358, \n"
     ]
    },
    {
     "name": "stdout",
     "output_type": "stream",
     "text": [
      "epoch: 25, [batch: 2016 / 2520], examples_per_second: 3185.0503, train_label_loss: 0.0857, \n"
     ]
    },
    {
     "name": "stdout",
     "output_type": "stream",
     "text": [
      "epoch: 25, [batch: 2268 / 2520], examples_per_second: 3184.6482, train_label_loss: 0.0056, \n"
     ]
    },
    {
     "name": "stdout",
     "output_type": "stream",
     "text": [
      "=============================================================\n",
      "epoch: 25, source_val_acc_label: 0.6115, target_val_acc_label: 0.5040, source_val_label_loss: 2.0251, target_val_label_loss: 2.7219, \n",
      "=============================================================\n"
     ]
    },
    {
     "name": "stdout",
     "output_type": "stream",
     "text": [
      "Patience (3) exhausted\n"
     ]
    }
   ],
   "source": [
    "###################################\n",
    "# train\n",
    "###################################\n",
    "jig = PTN_Train_Eval_Test_Jig(model, p.BEST_MODEL_PATH, p.device)\n",
    "\n",
    "jig.train(\n",
    "    train_iterable=datasets.source.processed.train,\n",
    "    source_val_iterable=datasets.source.processed.val,\n",
    "    target_val_iterable=datasets.target.processed.val,\n",
    "    num_epochs=p.n_epoch,\n",
    "    num_logs_per_epoch=p.NUM_LOGS_PER_EPOCH,\n",
    "    patience=p.patience,\n",
    "    optimizer=optimizer,\n",
    "    criteria_for_best=p.criteria_for_best,\n",
    ")"
   ]
  },
  {
   "cell_type": "code",
   "execution_count": 14,
   "id": "31e8fabf",
   "metadata": {
    "execution": {
     "iopub.execute_input": "2022-04-01T18:18:42.727992Z",
     "iopub.status.busy": "2022-04-01T18:18:42.727729Z",
     "iopub.status.idle": "2022-04-01T18:18:42.747935Z",
     "shell.execute_reply": "2022-04-01T18:18:42.748345Z"
    },
    "papermill": {
     "duration": 0.08433,
     "end_time": "2022-04-01T18:18:42.748480",
     "exception": false,
     "start_time": "2022-04-01T18:18:42.664150",
     "status": "completed"
    },
    "tags": []
   },
   "outputs": [],
   "source": [
    "total_experiment_time_secs = time.time() - start_time_secs"
   ]
  },
  {
   "cell_type": "code",
   "execution_count": 15,
   "id": "87b9595b",
   "metadata": {
    "execution": {
     "iopub.execute_input": "2022-04-01T18:18:42.879006Z",
     "iopub.status.busy": "2022-04-01T18:18:42.878563Z",
     "iopub.status.idle": "2022-04-01T18:19:31.530347Z",
     "shell.execute_reply": "2022-04-01T18:19:31.529891Z"
    },
    "papermill": {
     "duration": 48.716749,
     "end_time": "2022-04-01T18:19:31.530455",
     "exception": false,
     "start_time": "2022-04-01T18:18:42.813706",
     "status": "completed"
    },
    "tags": []
   },
   "outputs": [],
   "source": [
    "###################################\n",
    "# Evaluate the model\n",
    "###################################\n",
    "source_test_label_accuracy, source_test_label_loss = jig.test(datasets.source.processed.test)\n",
    "target_test_label_accuracy, target_test_label_loss = jig.test(datasets.target.processed.test)\n",
    "\n",
    "source_val_label_accuracy, source_val_label_loss = jig.test(datasets.source.processed.val)\n",
    "target_val_label_accuracy, target_val_label_loss = jig.test(datasets.target.processed.val)\n",
    "\n",
    "history = jig.get_history()\n",
    "\n",
    "total_epochs_trained = len(history[\"epoch_indices\"])\n",
    "\n",
    "val_dl = Iterable_Aggregator((datasets.source.original.val,datasets.target.original.val))\n",
    "\n",
    "confusion = ptn_confusion_by_domain_over_dataloader(model, p.device, val_dl)\n",
    "per_domain_accuracy = per_domain_accuracy_from_confusion(confusion)\n",
    "\n",
    "# Add a key to per_domain_accuracy for if it was a source domain\n",
    "for domain, accuracy in per_domain_accuracy.items():\n",
    "    per_domain_accuracy[domain] = {\n",
    "        \"accuracy\": accuracy,\n",
    "        \"source?\": domain in p.domains_source\n",
    "    }\n",
    "\n",
    "# Do an independent accuracy assesment JUST TO BE SURE!\n",
    "# _source_test_label_accuracy = independent_accuracy_assesment(model, datasets.source.processed.test, p.device)\n",
    "# _target_test_label_accuracy = independent_accuracy_assesment(model, datasets.target.processed.test, p.device)\n",
    "# _source_val_label_accuracy = independent_accuracy_assesment(model, datasets.source.processed.val, p.device)\n",
    "# _target_val_label_accuracy = independent_accuracy_assesment(model, datasets.target.processed.val, p.device)\n",
    "\n",
    "# assert(_source_test_label_accuracy == source_test_label_accuracy)\n",
    "# assert(_target_test_label_accuracy == target_test_label_accuracy)\n",
    "# assert(_source_val_label_accuracy == source_val_label_accuracy)\n",
    "# assert(_target_val_label_accuracy == target_val_label_accuracy)\n",
    "\n",
    "experiment = {\n",
    "    \"experiment_name\": p.experiment_name,\n",
    "    \"parameters\": dict(p),\n",
    "    \"results\": {\n",
    "        \"source_test_label_accuracy\": source_test_label_accuracy,\n",
    "        \"source_test_label_loss\": source_test_label_loss,\n",
    "        \"target_test_label_accuracy\": target_test_label_accuracy,\n",
    "        \"target_test_label_loss\": target_test_label_loss,\n",
    "        \"source_val_label_accuracy\": source_val_label_accuracy,\n",
    "        \"source_val_label_loss\": source_val_label_loss,\n",
    "        \"target_val_label_accuracy\": target_val_label_accuracy,\n",
    "        \"target_val_label_loss\": target_val_label_loss,\n",
    "        \"total_epochs_trained\": total_epochs_trained,\n",
    "        \"total_experiment_time_secs\": total_experiment_time_secs,\n",
    "        \"confusion\": confusion,\n",
    "        \"per_domain_accuracy\": per_domain_accuracy,\n",
    "    },\n",
    "    \"history\": history,\n",
    "    \"dataset_metrics\": get_dataset_metrics(datasets, \"ptn\"),\n",
    "}"
   ]
  },
  {
   "cell_type": "code",
   "execution_count": 16,
   "id": "54a21829",
   "metadata": {
    "execution": {
     "iopub.execute_input": "2022-04-01T18:19:31.667151Z",
     "iopub.status.busy": "2022-04-01T18:19:31.665063Z",
     "iopub.status.idle": "2022-04-01T18:19:31.788936Z",
     "shell.execute_reply": "2022-04-01T18:19:31.789348Z"
    },
    "papermill": {
     "duration": 0.191146,
     "end_time": "2022-04-01T18:19:31.789483",
     "exception": false,
     "start_time": "2022-04-01T18:19:31.598337",
     "status": "completed"
    },
    "tags": []
   },
   "outputs": [
    {
     "data": {
      "image/png": "[encoded data removed]",
      "text/plain": [
       "<Figure size 1080x504 with 1 Axes>"
      ]
     },
     "metadata": {
      "needs_background": "light"
     },
     "output_type": "display_data"
    }
   ],
   "source": [
    "ax = get_loss_curve(experiment)\n",
    "plt.show()"
   ]
  },
  {
   "cell_type": "code",
   "execution_count": 17,
   "id": "fd8a0f60",
   "metadata": {
    "execution": {
     "iopub.execute_input": "2022-04-01T18:19:31.926932Z",
     "iopub.status.busy": "2022-04-01T18:19:31.926653Z",
     "iopub.status.idle": "2022-04-01T18:19:32.070531Z",
     "shell.execute_reply": "2022-04-01T18:19:32.070296Z"
    },
    "papermill": {
     "duration": 0.209861,
     "end_time": "2022-04-01T18:19:32.070592",
     "exception": false,
     "start_time": "2022-04-01T18:19:31.860731",
     "status": "completed"
    },
    "tags": []
   },
   "outputs": [
    {
     "data": {
      "text/plain": [
       "<AxesSubplot:title={'center':'Results'}>"
      ]
     },
     "execution_count": 17,
     "metadata": {},
     "output_type": "execute_result"
    },
    {
     "data": {
      "image/png": "[encoded data removed]",
      "text/plain": [
       "<Figure size 1080x504 with 1 Axes>"
      ]
     },
     "metadata": {
      "needs_background": "light"
     },
     "output_type": "display_data"
    }
   ],
   "source": [
    "get_results_table(experiment)"
   ]
  },
  {
   "cell_type": "code",
   "execution_count": 18,
   "id": "cf8dc689",
   "metadata": {
    "execution": {
     "iopub.execute_input": "2022-04-01T18:19:32.204786Z",
     "iopub.status.busy": "2022-04-01T18:19:32.204352Z",
     "iopub.status.idle": "2022-04-01T18:19:32.321057Z",
     "shell.execute_reply": "2022-04-01T18:19:32.320624Z"
    },
    "papermill": {
     "duration": 0.184209,
     "end_time": "2022-04-01T18:19:32.321163",
     "exception": false,
     "start_time": "2022-04-01T18:19:32.136954",
     "status": "completed"
    },
    "tags": []
   },
   "outputs": [
    {
     "data": {
      "text/plain": [
       "<AxesSubplot:title={'center':'Per Domain Validation Accuracy'}, xlabel='domain'>"
      ]
     },
     "execution_count": 18,
     "metadata": {},
     "output_type": "execute_result"
    },
    {
     "data": {
      "image/png": "[encoded data removed]",
      "text/plain": [
       "<Figure size 1080x504 with 1 Axes>"
      ]
     },
     "metadata": {
      "needs_background": "light"
     },
     "output_type": "display_data"
    }
   ],
   "source": [
    "get_domain_accuracies(experiment)"
   ]
  },
  {
   "cell_type": "code",
   "execution_count": 19,
   "id": "a74ae082",
   "metadata": {
    "execution": {
     "iopub.execute_input": "2022-04-01T18:19:32.459644Z",
     "iopub.status.busy": "2022-04-01T18:19:32.459082Z",
     "iopub.status.idle": "2022-04-01T18:19:32.475366Z",
     "shell.execute_reply": "2022-04-01T18:19:32.475767Z"
    },
    "papermill": {
     "duration": 0.085554,
     "end_time": "2022-04-01T18:19:32.475890",
     "exception": false,
     "start_time": "2022-04-01T18:19:32.390336",
     "status": "completed"
    },
    "tags": []
   },
   "outputs": [
    {
     "name": "stdout",
     "output_type": "stream",
     "text": [
      "Source Test Label Accuracy: 0.6059027777777778 Target Test Label Accuracy: 0.5025520833333333\n",
      "Source Val Label Accuracy: 0.6065972222222222 Target Val Label Accuracy: 0.5055208333333333\n"
     ]
    }
   ],
   "source": [
    "print(\"Source Test Label Accuracy:\", experiment[\"results\"][\"source_test_label_accuracy\"], \"Target Test Label Accuracy:\", experiment[\"results\"][\"target_test_label_accuracy\"])\n",
    "print(\"Source Val Label Accuracy:\", experiment[\"results\"][\"source_val_label_accuracy\"], \"Target Val Label Accuracy:\", experiment[\"results\"][\"target_val_label_accuracy\"])"
   ]
  },
  {
   "cell_type": "code",
   "execution_count": 20,
   "id": "dacca602",
   "metadata": {
    "execution": {
     "iopub.execute_input": "2022-04-01T18:19:32.614318Z",
     "iopub.status.busy": "2022-04-01T18:19:32.614050Z",
     "iopub.status.idle": "2022-04-01T18:19:32.630923Z",
     "shell.execute_reply": "2022-04-01T18:19:32.631314Z"
    },
    "papermill": {
     "duration": 0.0848,
     "end_time": "2022-04-01T18:19:32.631432",
     "exception": false,
     "start_time": "2022-04-01T18:19:32.546632",
     "status": "completed"
    },
    "tags": [
     "experiment_json"
    ]
   },
   "outputs": [
    {
     "data": {
      "text/plain": [
       "'{\"experiment_name\": \"tuned_1v2:oracle.run2_limited\", \"parameters\": {\"experiment_name\": \"tuned_1v2:oracle.run2_limited\", \"device\": \"cuda\", \"lr\": 0.0001, \"labels_source\": [\"3123D52\", \"3123D65\", \"3123D79\", \"3123D80\", \"3123D54\", \"3123D70\", \"3123D7B\", \"3123D89\", \"3123D58\", \"3123D76\", \"3123D7D\", \"3123EFE\", \"3123D64\", \"3123D78\", \"3123D7E\", \"3124E4A\"], \"labels_target\": [\"3123D52\", \"3123D65\", \"3123D79\", \"3123D80\", \"3123D54\", \"3123D70\", \"3123D7B\", \"3123D89\", \"3123D58\", \"3123D76\", \"3123D7D\", \"3123EFE\", \"3123D64\", \"3123D78\", \"3123D7E\", \"3124E4A\"], \"episode_transforms_source\": [], \"episode_transforms_target\": [], \"domains_source\": [8, 32, 50], \"domains_target\": [14, 20, 26, 38, 44], \"num_examples_per_domain_per_label_source\": 2000, \"num_examples_per_domain_per_label_target\": 2000, \"n_shot\": 3, \"n_way\": 16, \"n_query\": 2, \"train_k_factor\": 3, \"val_k_factor\": 2, \"test_k_factor\": 2, \"torch_default_dtype\": \"torch.float32\", \"n_epoch\": 50, \"patience\": 3, \"criteria_for_best\": \"target_accuracy\", \"x_net\": [{\"class\": \"nnReshape\", \"kargs\": {\"shape\": [-1, 1, 2, 256]}}, {\"class\": \"Conv2d\", \"kargs\": {\"in_channels\": 1, \"out_channels\": 256, \"kernel_size\": [1, 7], \"bias\": false, \"padding\": [0, 3]}}, {\"class\": \"ReLU\", \"kargs\": {\"inplace\": true}}, {\"class\": \"BatchNorm2d\", \"kargs\": {\"num_features\": 256}}, {\"class\": \"Conv2d\", \"kargs\": {\"in_channels\": 256, \"out_channels\": 80, \"kernel_size\": [2, 7], \"bias\": true, \"padding\": [0, 3]}}, {\"class\": \"ReLU\", \"kargs\": {\"inplace\": true}}, {\"class\": \"BatchNorm2d\", \"kargs\": {\"num_features\": 80}}, {\"class\": \"Flatten\", \"kargs\": {}}, {\"class\": \"Linear\", \"kargs\": {\"in_features\": 20480, \"out_features\": 256}}, {\"class\": \"ReLU\", \"kargs\": {\"inplace\": true}}, {\"class\": \"BatchNorm1d\", \"kargs\": {\"num_features\": 256}}, {\"class\": \"Linear\", \"kargs\": {\"in_features\": 256, \"out_features\": 256}}], \"NUM_LOGS_PER_EPOCH\": 10, \"BEST_MODEL_PATH\": \"./best_model.pth\", \"pickle_name\": \"oracle.Run2_10kExamples_stratified_ds.2022A.pkl\", \"x_transforms_source\": [\"unit_power\"], \"x_transforms_target\": [\"unit_power\"], \"dataset_seed\": 500, \"seed\": 500}, \"results\": {\"source_test_label_accuracy\": 0.6059027777777778, \"source_test_label_loss\": 1.9991366863250732, \"target_test_label_accuracy\": 0.5025520833333333, \"target_test_label_loss\": 2.675663709640503, \"source_val_label_accuracy\": 0.6065972222222222, \"source_val_label_loss\": 1.9681077003479004, \"target_val_label_accuracy\": 0.5055208333333333, \"target_val_label_loss\": 2.6962201595306396, \"total_epochs_trained\": 25, \"total_experiment_time_secs\": 1802.8287258148193, \"confusion\": {\"8\": {\"7\": {\"6\": 35, \"2\": 61, \"14\": 2, \"4\": 52, \"7\": 69, \"8\": 15, \"11\": 1, \"13\": 2, \"15\": 2, \"1\": 1}, \"10\": {\"10\": 95, \"5\": 40, \"1\": 16, \"14\": 26, \"13\": 14, \"0\": 49}, \"0\": {\"0\": 91, \"10\": 49, \"14\": 54, \"13\": 28, \"1\": 5, \"4\": 3, \"6\": 8, \"5\": 2}, \"11\": {\"12\": 21, \"8\": 48, \"11\": 95, \"7\": 5, \"15\": 59, \"3\": 5, \"6\": 2, \"13\": 2, \"4\": 1, \"2\": 2}, \"2\": {\"15\": 5, \"2\": 136, \"7\": 54, \"3\": 2, \"4\": 30, \"6\": 11, \"8\": 2}, \"14\": {\"14\": 68, \"0\": 61, \"6\": 23, \"10\": 16, \"13\": 48, \"1\": 9, \"7\": 3, \"4\": 9, \"5\": 1, \"8\": 2}, \"9\": {\"9\": 239, \"5\": 1}, \"13\": {\"13\": 102, \"10\": 16, \"1\": 44, \"14\": 47, \"0\": 17, \"5\": 4, \"6\": 6, \"8\": 2, \"4\": 1, \"7\": 1}, \"8\": {\"7\": 15, \"8\": 129, \"4\": 6, \"11\": 47, \"15\": 25, \"3\": 1, \"6\": 6, \"14\": 4, \"2\": 4, \"13\": 3}, \"15\": {\"2\": 12, \"11\": 43, \"8\": 21, \"12\": 36, \"15\": 108, \"3\": 14, \"7\": 5, \"4\": 1}, \"4\": {\"6\": 60, \"7\": 54, \"4\": 71, \"2\": 35, \"14\": 6, \"8\": 10, \"15\": 2, \"0\": 2}, \"5\": {\"5\": 150, \"14\": 2, \"10\": 44, \"1\": 33, \"13\": 6, \"0\": 4, \"9\": 1}, \"3\": {\"3\": 170, \"12\": 58, \"2\": 1, \"15\": 10, \"11\": 1}, \"1\": {\"13\": 46, \"10\": 15, \"1\": 144, \"5\": 28, \"14\": 3, \"0\": 4}, \"6\": {\"7\": 56, \"4\": 57, \"6\": 79, \"14\": 18, \"13\": 3, \"8\": 13, \"0\": 3, \"2\": 10, \"11\": 1}, \"12\": {\"12\": 120, \"3\": 72, \"11\": 14, \"15\": 34}}, \"50\": {\"11\": {\"11\": 188, \"9\": 7, \"14\": 20, \"15\": 17, \"12\": 8}, \"2\": {\"2\": 216, \"0\": 24}, \"12\": {\"12\": 197, \"9\": 27, \"11\": 5, \"14\": 11}, \"8\": {\"8\": 228, \"3\": 12}, \"4\": {\"4\": 109, \"6\": 53, \"7\": 3, \"10\": 2, \"5\": 55, \"1\": 13, \"13\": 4, \"2\": 1}, \"10\": {\"10\": 136, \"13\": 32, \"5\": 23, \"7\": 27, \"0\": 21, \"4\": 1}, \"14\": {\"14\": 219, \"12\": 12, \"11\": 9}, \"13\": {\"7\": 83, \"13\": 98, \"10\": 42, \"5\": 16, \"0\": 1}, \"6\": {\"6\": 109, \"1\": 61, \"4\": 50, \"15\": 6, \"5\": 11, \"2\": 2, \"0\": 1}, \"9\": {\"9\": 197, \"12\": 38, \"11\": 5}, \"15\": {\"1\": 27, \"11\": 15, \"15\": 191, \"6\": 5, \"14\": 2}, \"1\": {\"15\": 24, \"1\": 122, \"5\": 3, \"6\": 78, \"4\": 11, \"2\": 1, \"14\": 1}, \"3\": {\"3\": 224, \"8\": 16}, \"7\": {\"7\": 79, \"10\": 38, \"5\": 26, \"4\": 2, \"13\": 95}, \"0\": {\"0\": 186, \"10\": 17, \"2\": 29, \"5\": 5, \"4\": 2, \"6\": 1}, \"5\": {\"4\": 65, \"13\": 16, \"0\": 9, \"7\": 21, \"5\": 103, \"6\": 6, \"1\": 6, \"10\": 14}}, \"32\": {\"4\": {\"13\": 36, \"4\": 54, \"8\": 23, \"5\": 25, \"2\": 7, \"11\": 35, \"0\": 43, \"7\": 16, \"3\": 1}, \"14\": {\"2\": 37, \"14\": 195, \"5\": 7, \"0\": 1}, \"5\": {\"5\": 57, \"8\": 37, \"2\": 35, \"13\": 12, \"0\": 37, \"11\": 12, \"14\": 20, \"4\": 23, \"3\": 4, \"7\": 3}, \"10\": {\"10\": 237, \"6\": 1, \"1\": 2}, \"13\": {\"7\": 42, \"13\": 83, \"3\": 8, \"8\": 32, \"4\": 28, \"11\": 24, \"2\": 3, \"0\": 12, \"5\": 8}, \"9\": {\"9\": 222, \"14\": 16, \"12\": 2}, \"6\": {\"6\": 240}, \"3\": {\"3\": 221, \"13\": 10, \"7\": 4, \"8\": 5}, \"15\": {\"15\": 236, \"8\": 4}, \"7\": {\"13\": 50, \"7\": 95, \"4\": 10, \"8\": 1, \"2\": 3, \"11\": 69, \"5\": 1, \"0\": 11}, \"12\": {\"12\": 240}, \"8\": {\"5\": 21, \"7\": 2, \"8\": 122, \"13\": 27, \"0\": 22, \"4\": 34, \"3\": 7, \"15\": 4, \"11\": 1}, \"11\": {\"11\": 75, \"4\": 25, \"7\": 68, \"5\": 6, \"13\": 23, \"8\": 3, \"0\": 21, \"2\": 19}, \"2\": {\"2\": 145, \"5\": 11, \"14\": 38, \"0\": 30, \"4\": 2, \"13\": 1, \"7\": 4, \"11\": 9}, \"1\": {\"1\": 238, \"10\": 2}, \"0\": {\"4\": 42, \"5\": 44, \"2\": 28, \"0\": 60, \"13\": 11, \"7\": 15, \"11\": 23, \"8\": 16, \"14\": 1}}, \"20\": {\"7\": {\"7\": 100, \"8\": 41, \"9\": 4, \"10\": 22, \"6\": 16, \"5\": 6, \"14\": 10, \"2\": 7, \"3\": 22, \"11\": 12}, \"10\": {\"10\": 62, \"8\": 64, \"4\": 18, \"7\": 26, \"5\": 3, \"14\": 53, \"3\": 6, \"6\": 7, \"2\": 1}, \"0\": {\"4\": 33, \"12\": 30, \"13\": 9, \"1\": 43, \"0\": 66, \"15\": 24, \"9\": 8, \"5\": 10, \"2\": 7, \"3\": 7, \"8\": 1, \"10\": 2}, \"11\": {\"11\": 229, \"6\": 5, \"9\": 1, \"7\": 4, \"13\": 1}, \"2\": {\"13\": 26, \"2\": 43, \"5\": 38, \"9\": 38, \"12\": 17, \"7\": 8, \"15\": 20, \"3\": 28, \"10\": 5, \"0\": 4, \"4\": 9, \"8\": 3, \"1\": 1}, \"14\": {\"8\": 41, \"6\": 46, \"14\": 81, \"7\": 13, \"10\": 54, \"4\": 5}, \"9\": {\"13\": 27, \"4\": 10, \"2\": 37, \"9\": 42, \"0\": 7, \"15\": 26, \"5\": 28, \"3\": 15, \"12\": 25, \"8\": 2, \"7\": 6, \"1\": 11, \"10\": 4}, \"13\": {\"13\": 106, \"7\": 2, \"0\": 11, \"3\": 7, \"11\": 1, \"9\": 24, \"15\": 37, \"2\": 17, \"1\": 12, \"5\": 14, \"12\": 8, \"8\": 1}, \"8\": {\"8\": 65, \"2\": 3, \"14\": 36, \"7\": 42, \"10\": 52, \"6\": 12, \"4\": 9, \"3\": 10, \"5\": 6, \"9\": 5}, \"15\": {\"15\": 44, \"3\": 10, \"0\": 24, \"13\": 55, \"1\": 19, \"9\": 23, \"12\": 25, \"2\": 22, \"4\": 3, \"5\": 15}, \"4\": {\"8\": 8, \"4\": 112, \"10\": 16, \"3\": 13, \"5\": 18, \"12\": 20, \"0\": 23, \"13\": 2, \"1\": 9, \"9\": 7, \"2\": 4, \"14\": 5, \"15\": 3}, \"5\": {\"7\": 14, \"8\": 6, \"12\": 18, \"2\": 35, \"13\": 13, \"3\": 28, \"5\": 27, \"15\": 12, \"1\": 18, \"4\": 22, \"9\": 19, \"10\": 10, \"0\": 15, \"11\": 2, \"14\": 1}, \"3\": {\"5\": 31, \"4\": 5, \"12\": 9, \"7\": 34, \"8\": 19, \"9\": 25, \"3\": 50, \"13\": 14, \"2\": 37, \"15\": 3, \"0\": 4, \"10\": 4, \"6\": 1, \"1\": 2, \"14\": 2}, \"1\": {\"15\": 27, \"0\": 58, \"1\": 87, \"13\": 8, \"5\": 10, \"2\": 3, \"9\": 11, \"12\": 28, \"3\": 2, \"4\": 6}, \"6\": {\"6\": 173, \"10\": 11, \"8\": 11, \"14\": 18, \"7\": 25, \"11\": 2}, \"12\": {\"1\": 39, \"12\": 40, \"5\": 12, \"15\": 33, \"0\": 33, \"4\": 21, \"2\": 20, \"9\": 16, \"3\": 7, \"8\": 1, \"7\": 1, \"13\": 17}}, \"14\": {\"14\": {\"14\": 85, \"3\": 29, \"6\": 62, \"5\": 9, \"2\": 28, \"4\": 13, \"13\": 10, \"0\": 4}, \"6\": {\"6\": 109, \"14\": 36, \"13\": 39, \"3\": 5, \"5\": 5, \"4\": 10, \"2\": 36}, \"5\": {\"4\": 58, \"1\": 49, \"2\": 28, \"3\": 31, \"5\": 66, \"14\": 5, \"13\": 1, \"6\": 2}, \"15\": {\"15\": 193, \"7\": 43, \"2\": 2, \"13\": 2}, \"11\": {\"11\": 197, \"12\": 18, \"9\": 11, \"10\": 14}, \"8\": {\"8\": 238, \"3\": 2}, \"12\": {\"12\": 128, \"11\": 67, \"10\": 11, \"9\": 15, \"8\": 5, \"0\": 9, \"3\": 3, \"14\": 2}, \"1\": {\"5\": 31, \"1\": 162, \"4\": 36, \"2\": 6, \"3\": 4, \"7\": 1}, \"2\": {\"2\": 60, \"13\": 42, \"1\": 3, \"4\": 24, \"14\": 30, \"3\": 18, \"5\": 34, \"6\": 21, \"15\": 6, \"0\": 2}, \"13\": {\"13\": 137, \"6\": 56, \"5\": 7, \"2\": 31, \"4\": 5, \"14\": 4}, \"3\": {\"3\": 141, \"4\": 35, \"1\": 6, \"5\": 22, \"2\": 5, \"14\": 18, \"0\": 6, \"8\": 4, \"6\": 3}, \"0\": {\"0\": 208, \"10\": 21, \"3\": 4, \"9\": 5, \"12\": 1, \"14\": 1}, \"9\": {\"9\": 230, \"12\": 4, \"11\": 2, \"10\": 3, \"0\": 1}, \"4\": {\"3\": 44, \"2\": 26, \"4\": 82, \"5\": 58, \"1\": 19, \"14\": 10, \"13\": 1}, \"7\": {\"15\": 40, \"7\": 196, \"1\": 4}, \"10\": {\"10\": 183, \"0\": 37, \"11\": 15, \"12\": 2, \"14\": 2, \"9\": 1}}, \"38\": {\"4\": {\"4\": 215, \"12\": 21, \"10\": 2, \"7\": 2}, \"14\": {\"14\": 115, \"2\": 68, \"12\": 24, \"11\": 24, \"7\": 4, \"10\": 1, \"5\": 2, \"13\": 2}, \"5\": {\"3\": 7, \"8\": 55, \"15\": 31, \"7\": 27, \"10\": 9, \"13\": 46, \"5\": 62, \"1\": 3}, \"10\": {\"10\": 112, \"3\": 11, \"8\": 15, \"7\": 71, \"0\": 7, \"5\": 12, \"12\": 3, \"15\": 4, \"13\": 4, \"4\": 1}, \"13\": {\"8\": 30, \"15\": 46, \"13\": 65, \"14\": 5, \"10\": 6, \"5\": 37, \"1\": 25, \"7\": 9, \"3\": 8, \"6\": 6, \"2\": 3}, \"9\": {\"9\": 135, \"6\": 100, \"3\": 4, \"0\": 1}, \"6\": {\"9\": 92, \"6\": 142, \"0\": 4, \"3\": 1, \"15\": 1}, \"3\": {\"0\": 59, \"6\": 31, \"1\": 1, \"9\": 28, \"8\": 15, \"7\": 14, \"3\": 51, \"5\": 10, \"15\": 16, \"10\": 10, \"13\": 5}, \"15\": {\"15\": 65, \"3\": 23, \"13\": 49, \"1\": 32, \"5\": 24, \"8\": 37, \"6\": 2, \"7\": 4, \"10\": 2, \"0\": 2}, \"7\": {\"10\": 69, \"7\": 84, \"5\": 22, \"8\": 38, \"15\": 11, \"13\": 10, \"0\": 2, \"3\": 3, \"12\": 1}, \"12\": {\"12\": 206, \"14\": 13, \"13\": 1, \"4\": 15, \"10\": 1, \"7\": 1, \"11\": 2, \"5\": 1}, \"8\": {\"3\": 12, \"8\": 60, \"15\": 47, \"10\": 11, \"5\": 45, \"13\": 34, \"7\": 28, \"6\": 1, \"1\": 2}, \"11\": {\"2\": 4, \"11\": 198, \"14\": 21, \"4\": 1, \"12\": 16}, \"2\": {\"2\": 190, \"14\": 47, \"11\": 2, \"12\": 1}, \"1\": {\"1\": 199, \"13\": 14, \"15\": 25, \"8\": 1, \"9\": 1}, \"0\": {\"10\": 5, \"3\": 48, \"0\": 155, \"9\": 15, \"6\": 10, \"15\": 4, \"7\": 2, \"13\": 1}}, \"44\": {\"8\": {\"0\": 82, \"8\": 148, \"15\": 2, \"5\": 7, \"14\": 1}, \"11\": {\"11\": 193, \"6\": 42, \"7\": 3, \"2\": 2}, \"14\": {\"14\": 152, \"15\": 45, \"5\": 31, \"8\": 1, \"4\": 11}, \"10\": {\"12\": 12, \"10\": 219, \"1\": 9}, \"3\": {\"1\": 26, \"3\": 186, \"12\": 24, \"7\": 1, \"2\": 1, \"9\": 2}, \"15\": {\"14\": 29, \"15\": 187, \"4\": 14, \"8\": 5, \"5\": 5}, \"2\": {\"2\": 116, \"9\": 60, \"6\": 5, \"7\": 46, \"1\": 3, \"3\": 9, \"12\": 1}, \"12\": {\"1\": 71, \"12\": 142, \"3\": 25, \"10\": 2}, \"4\": {\"4\": 196, \"14\": 14, \"15\": 23, \"13\": 7}, \"1\": {\"12\": 77, \"3\": 52, \"1\": 106, \"7\": 2, \"10\": 2, \"2\": 1}, \"0\": {\"0\": 133, \"8\": 104, \"15\": 1, \"5\": 2}, \"9\": {\"9\": 81, \"7\": 60, \"2\": 83, \"6\": 9, \"11\": 1, \"3\": 3, \"13\": 1, \"1\": 2}, \"5\": {\"5\": 195, \"14\": 35, \"8\": 6, \"0\": 2, \"4\": 2}, \"6\": {\"6\": 160, \"13\": 7, \"11\": 28, \"9\": 27, \"2\": 7, \"7\": 10, \"4\": 1}, \"7\": {\"9\": 48, \"7\": 113, \"2\": 64, \"6\": 7, \"1\": 6, \"11\": 1, \"3\": 1}, \"13\": {\"13\": 222, \"6\": 7, \"4\": 11}}, \"26\": {\"6\": {\"9\": 22, \"6\": 115, \"10\": 31, \"5\": 20, \"1\": 5, \"13\": 24, \"0\": 3, \"14\": 4, \"8\": 15, \"4\": 1}, \"11\": {\"11\": 230, \"12\": 10}, \"5\": {\"9\": 32, \"13\": 58, \"5\": 32, \"10\": 5, \"6\": 41, \"2\": 18, \"7\": 21, \"3\": 8, \"14\": 2, \"8\": 10, \"15\": 11, \"0\": 1, \"1\": 1}, \"14\": {\"1\": 68, \"0\": 34, \"14\": 30, \"7\": 11, \"10\": 38, \"2\": 3, \"8\": 17, \"9\": 9, \"6\": 8, \"5\": 3, \"4\": 16, \"13\": 2, \"15\": 1}, \"2\": {\"2\": 42, \"9\": 8, \"5\": 7, \"15\": 38, \"7\": 44, \"3\": 35, \"4\": 23, \"8\": 16, \"14\": 11, \"10\": 4, \"0\": 8, \"13\": 3, \"1\": 1}, \"7\": {\"9\": 17, \"7\": 57, \"15\": 24, \"2\": 51, \"1\": 1, \"5\": 22, \"8\": 19, \"3\": 16, \"4\": 16, \"13\": 3, \"14\": 7, \"0\": 6, \"10\": 1}, \"3\": {\"3\": 69, \"15\": 78, \"4\": 28, \"7\": 27, \"2\": 32, \"5\": 2, \"8\": 2, \"0\": 1, \"10\": 1}, \"4\": {\"3\": 24, \"7\": 27, \"4\": 79, \"14\": 6, \"15\": 23, \"0\": 34, \"8\": 8, \"2\": 27, \"1\": 4, \"10\": 5, \"9\": 1, \"5\": 2}, \"9\": {\"9\": 62, \"8\": 22, \"13\": 40, \"6\": 22, \"5\": 36, \"10\": 8, \"0\": 8, \"7\": 16, \"2\": 7, \"14\": 10, \"3\": 4, \"4\": 2, \"15\": 2, \"1\": 1}, \"12\": {\"12\": 224, \"11\": 15, \"6\": 1}, \"0\": {\"14\": 47, \"8\": 23, \"4\": 28, \"0\": 46, \"2\": 8, \"7\": 13, \"1\": 40, \"15\": 4, \"9\": 6, \"5\": 3, \"10\": 18, \"6\": 2, \"3\": 2}, \"10\": {\"8\": 15, \"1\": 49, \"10\": 51, \"6\": 24, \"4\": 17, \"0\": 26, \"14\": 36, \"2\": 8, \"7\": 4, \"9\": 5, \"5\": 2, \"15\": 1, \"12\": 1, \"3\": 1}, \"8\": {\"14\": 19, \"8\": 48, \"4\": 13, \"9\": 35, \"6\": 11, \"15\": 6, \"5\": 24, \"2\": 13, \"7\": 26, \"0\": 15, \"1\": 7, \"10\": 17, \"3\": 4, \"13\": 2}, \"13\": {\"9\": 44, \"13\": 103, \"6\": 23, \"5\": 53, \"8\": 6, \"7\": 4, \"15\": 1, \"2\": 3, \"4\": 2, \"10\": 1}, \"1\": {\"1\": 85, \"10\": 33, \"0\": 38, \"4\": 7, \"14\": 48, \"8\": 13, \"5\": 2, \"6\": 6, \"2\": 5, \"9\": 2, \"7\": 1}, \"15\": {\"3\": 77, \"15\": 88, \"2\": 26, \"7\": 26, \"4\": 16, \"8\": 3, \"0\": 1, \"5\": 1, \"14\": 1, \"9\": 1}}}, \"per_domain_accuracy\": {\"8\": {\"accuracy\": 0.4859375, \"source?\": true}, \"50\": {\"accuracy\": 0.6776041666666667, \"source?\": true}, \"32\": {\"accuracy\": 0.65625, \"source?\": true}, \"20\": {\"accuracy\": 0.3455729166666667, \"source?\": false}, \"14\": {\"accuracy\": 0.62890625, \"source?\": false}, \"38\": {\"accuracy\": 0.5348958333333333, \"source?\": false}, \"44\": {\"accuracy\": 0.6638020833333333, \"source?\": false}, \"26\": {\"accuracy\": 0.35442708333333334, \"source?\": false}}}, \"history\": {\"epoch_indices\": [1, 2, 3, 4, 5, 6, 7, 8, 9, 10, 11, 12, 13, 14, 15, 16, 17, 18, 19, 20, 21, 22, 23, 24, 25], \"train_label_loss\": [1.8481039139959548, 1.347294444626286, 1.1602526760527065, 0.8656437606210746, 0.6822748503396435, 0.5506561277611625, 0.44651836366466585, 0.36246138000565153, 0.3043866458319364, 0.2525771503078027, 0.2147228697869217, 0.18993434737924308, 0.17210390091252822, 0.15182015430764295, 0.14220950351464415, 0.13448911461436802, 0.1243689299109281, 0.11282439467872286, 0.10800750126155825, 0.10568753565959114, 0.09607755157737143, 0.0940411811988082, 0.08894522539641392, 0.08651515491418116, 0.08185101857439833], \"source_val_label_loss\": [1.5237629413604736, 1.3835610151290894, 1.1961402893066406, 1.129955530166626, 1.1483526229858398, 1.1446723937988281, 1.2701513767242432, 1.3410460948944092, 1.3456358909606934, 1.5048340559005737, 1.5588306188583374, 1.6263453960418701, 1.6361685991287231, 1.6982862949371338, 1.7455788850784302, 1.74927818775177, 1.8439968824386597, 1.8326066732406616, 1.8748100996017456, 1.9133353233337402, 1.9681077003479004, 2.0142922401428223, 1.9778505563735962, 2.0048916339874268, 2.025054931640625], \"target_val_label_loss\": [1.9122036695480347, 1.8394291400909424, 1.5951793193817139, 1.5420080423355103, 1.5708749294281006, 1.6009278297424316, 1.748603343963623, 1.8268890380859375, 1.9124813079833984, 2.051015853881836, 2.132667303085327, 2.2190356254577637, 2.2307934761047363, 2.2996983528137207, 2.3505101203918457, 2.3821306228637695, 2.5053389072418213, 2.5211713314056396, 2.5594191551208496, 2.614424705505371, 2.6962201595306396, 2.7169137001037598, 2.6792120933532715, 2.680061101913452, 2.721889019012451], \"source_val_acc_label\": [0.3953125, 0.434375, 0.5394965277777778, 0.5796006944444444, 0.5949652777777777, 0.6027777777777777, 0.5963541666666666, 0.5990451388888889, 0.6061631944444444, 0.5998263888888888, 0.6084201388888889, 0.5989583333333334, 0.6025173611111111, 0.6009548611111111, 0.6065104166666667, 0.6059027777777778, 0.6005208333333333, 0.6098090277777778, 0.6096354166666667, 0.61015625, 0.6065972222222222, 0.6001736111111111, 0.6106770833333334, 0.6049479166666667, 0.6114583333333333], \"target_val_acc_label\": [0.2782291666666667, 0.305625, 0.43328125, 0.469375, 0.48375, 0.4898958333333333, 0.49234375, 0.49104166666666665, 0.49145833333333333, 0.49703125, 0.4940104166666667, 0.49494791666666665, 0.4995833333333333, 0.49645833333333333, 0.4986979166666667, 0.5003645833333333, 0.5013541666666667, 0.5043229166666666, 0.5046354166666667, 0.5028125, 0.5055208333333333, 0.49692708333333335, 0.5009895833333333, 0.5043229166666666, 0.5040104166666667]}, \"dataset_metrics\": {\"source\": {\"train\": {\"n_unique_x\": 67200, \"n_unique_y\": 16, \"n_batch/episode\": 2520}, \"val\": {\"n_unique_x\": 14400, \"n_unique_y\": 16, \"n_batch/episode\": 360}, \"test\": {\"n_unique_x\": 14400, \"n_unique_y\": 16, \"n_batch/episode\": 360}}, \"target\": {\"train\": {\"n_unique_x\": 112000, \"n_unique_y\": 16, \"n_batch/episode\": 4200}, \"val\": {\"n_unique_x\": 24000, \"n_unique_y\": 16, \"n_batch/episode\": 600}, \"test\": {\"n_unique_x\": 24000, \"n_unique_y\": 16, \"n_batch/episode\": 600}}}}'"
      ]
     },
     "execution_count": 20,
     "metadata": {},
     "output_type": "execute_result"
    }
   ],
   "source": [
    "json.dumps(experiment)"
   ]
  }
 ],
 "metadata": {
  "celltoolbar": "Tags",
  "kernelspec": {
   "display_name": "Python 3 (ipykernel)",
   "language": "python",
   "name": "python3"
  },
  "language_info": {
   "codemirror_mode": {
    "name": "ipython",
    "version": 3
   },
   "file_extension": ".py",
   "mimetype": "text/x-python",
   "name": "python",
   "nbconvert_exporter": "python",
   "pygments_lexer": "ipython3",
   "version": "3.8.10"
  },
  "papermill": {
   "default_parameters": {},
   "duration": 1855.772762,
   "end_time": "2022-04-01T18:19:33.611605",
   "environment_variables": {},
   "exception": null,
   "input_path": "/mnt/wd500GB/CSC500/csc500-main/csc500-notebooks/templates/ptn_template.ipynb",
   "output_path": "trial.ipynb",
   "parameters": {
    "parameters": {
     "BEST_MODEL_PATH": "./best_model.pth",
     "NUM_LOGS_PER_EPOCH": 10,
     "criteria_for_best": "target_accuracy",
     "dataset_seed": 500,
     "device": "cuda",
     "domains_source": [
      8,
      32,
      50
     ],
     "domains_target": [
      14,
      20,
      26,
      38,
      44
     ],
     "episode_transforms_source": [],
     "episode_transforms_target": [],
     "experiment_name": "tuned_1v2:oracle.run2_limited",
     "labels_source": [
      "3123D52",
      "3123D65",
      "3123D79",
      "3123D80",
      "3123D54",
      "3123D70",
      "3123D7B",
      "3123D89",
      "3123D58",
      "3123D76",
      "3123D7D",
      "3123EFE",
      "3123D64",
      "3123D78",
      "3123D7E",
      "3124E4A"
     ],
     "labels_target": [
      "3123D52",
      "3123D65",
      "3123D79",
      "3123D80",
      "3123D54",
      "3123D70",
      "3123D7B",
      "3123D89",
      "3123D58",
      "3123D76",
      "3123D7D",
      "3123EFE",
      "3123D64",
      "3123D78",
      "3123D7E",
      "3124E4A"
     ],
     "lr": 0.0001,
     "n_epoch": 50,
     "n_query": 2,
     "n_shot": 3,
     "n_way": 16,
     "num_examples_per_domain_per_label_source": 2000,
     "num_examples_per_domain_per_label_target": 2000,
     "patience": 3,
     "pickle_name": "oracle.Run2_10kExamples_stratified_ds.2022A.pkl",
     "seed": 500,
     "test_k_factor": 2,
     "torch_default_dtype": "torch.float32",
     "train_k_factor": 3,
     "val_k_factor": 2,
     "x_net": [
      {
       "class": "nnReshape",
       "kargs": {
        "shape": [
         -1,
         1,
         2,
         256
        ]
       }
      },
      {
       "class": "Conv2d",
       "kargs": {
        "bias": false,
        "in_channels": 1,
        "kernel_size": [
         1,
         7
        ],
        "out_channels": 256,
        "padding": [
         0,
         3
        ]
       }
      },
      {
       "class": "ReLU",
       "kargs": {
        "inplace": true
       }
      },
      {
       "class": "BatchNorm2d",
       "kargs": {
        "num_features": 256
       }
      },
      {
       "class": "Conv2d",
       "kargs": {
        "bias": true,
        "in_channels": 256,
        "kernel_size": [
         2,
         7
        ],
        "out_channels": 80,
        "padding": [
         0,
         3
        ]
       }
      },
      {
       "class": "ReLU",
       "kargs": {
        "inplace": true
       }
      },
      {
       "class": "BatchNorm2d",
       "kargs": {
        "num_features": 80
       }
      },
      {
       "class": "Flatten",
       "kargs": {}
      },
      {
       "class": "Linear",
       "kargs": {
        "in_features": 20480,
        "out_features": 256
       }
      },
      {
       "class": "ReLU",
       "kargs": {
        "inplace": true
       }
      },
      {
       "class": "BatchNorm1d",
       "kargs": {
        "num_features": 256
       }
      },
      {
       "class": "Linear",
       "kargs": {
        "in_features": 256,
        "out_features": 256
       }
      }
     ],
     "x_transforms_source": [
      "unit_power"
     ],
     "x_transforms_target": [
      "unit_power"
     ]
    }
   },
   "start_time": "2022-04-01T17:48:37.838843",
   "version": "2.3.4"
  }
 },
 "nbformat": 4,
 "nbformat_minor": 5
}