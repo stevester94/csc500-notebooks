{
 "cells": [
  {
   "cell_type": "markdown",
   "id": "9fea5f46",
   "metadata": {
    "papermill": {
     "duration": 0.018169,
     "end_time": "2022-03-26T17:43:10.646751",
     "exception": false,
     "start_time": "2022-03-26T17:43:10.628582",
     "status": "completed"
    },
    "tags": []
   },
   "source": [
    "# PTN Template\n",
    "This notebook serves as a template for single dataset PTN experiments  \n",
    "It can be run on its own by setting STANDALONE to True (do a find for \"STANDALONE\" to see where)  \n",
    "But it is intended to be executed as part of a *papermill.py script. See any of the   \n",
    "experimentes with a papermill script to get started with that workflow.  "
   ]
  },
  {
   "cell_type": "code",
   "execution_count": 1,
   "id": "0902182a",
   "metadata": {
    "execution": {
     "iopub.execute_input": "2022-03-26T17:43:10.697789Z",
     "iopub.status.busy": "2022-03-26T17:43:10.693970Z",
     "iopub.status.idle": "2022-03-26T17:43:12.612285Z",
     "shell.execute_reply": "2022-03-26T17:43:12.611797Z"
    },
    "papermill": {
     "duration": 1.95123,
     "end_time": "2022-03-26T17:43:12.612389",
     "exception": false,
     "start_time": "2022-03-26T17:43:10.661159",
     "status": "completed"
    },
    "tags": []
   },
   "outputs": [],
   "source": [
    "%load_ext autoreload\n",
    "%autoreload 2\n",
    "%matplotlib inline\n",
    "\n",
    "    \n",
    "import os, json, sys, time, random\n",
    "import numpy as np\n",
    "import torch\n",
    "from torch.optim import Adam\n",
    "from  easydict import EasyDict\n",
    "import matplotlib.pyplot as plt\n",
    "\n",
    "from steves_models.steves_ptn import Steves_Prototypical_Network\n",
    "\n",
    "from steves_utils.lazy_iterable_wrapper import Lazy_Iterable_Wrapper\n",
    "from steves_utils.iterable_aggregator import Iterable_Aggregator\n",
    "from steves_utils.ptn_train_eval_test_jig import  PTN_Train_Eval_Test_Jig\n",
    "from steves_utils.torch_sequential_builder import build_sequential\n",
    "from steves_utils.torch_utils import get_dataset_metrics, ptn_confusion_by_domain_over_dataloader\n",
    "from steves_utils.utils_v2 import (per_domain_accuracy_from_confusion, get_datasets_base_path)\n",
    "from steves_utils.PTN.utils import independent_accuracy_assesment\n",
    "\n",
    "from steves_utils.stratified_dataset.episodic_accessor import Episodic_Accessor_Factory\n",
    "\n",
    "from steves_utils.ptn_do_report import (\n",
    "    get_loss_curve,\n",
    "    get_results_table,\n",
    "    get_parameters_table,\n",
    "    get_domain_accuracies,\n",
    ")\n",
    "\n",
    "from steves_utils.transforms import get_chained_transform"
   ]
  },
  {
   "cell_type": "markdown",
   "id": "41c840b4",
   "metadata": {
    "papermill": {
     "duration": 0.014128,
     "end_time": "2022-03-26T17:43:12.641338",
     "exception": false,
     "start_time": "2022-03-26T17:43:12.627210",
     "status": "completed"
    },
    "tags": []
   },
   "source": [
    "# Required Parameters\n",
    "These are allowed parameters, not defaults\n",
    "Each of these values need to be present in the injected parameters (the notebook will raise an exception if they are not present)\n",
    "\n",
    "Papermill uses the cell tag \"parameters\" to inject the real parameters below this cell.\n",
    "Enable tags to see what I mean"
   ]
  },
  {
   "cell_type": "code",
   "execution_count": 2,
   "id": "fd44eb83",
   "metadata": {
    "execution": {
     "iopub.execute_input": "2022-03-26T17:43:12.675592Z",
     "iopub.status.busy": "2022-03-26T17:43:12.675198Z",
     "iopub.status.idle": "2022-03-26T17:43:12.696972Z",
     "shell.execute_reply": "2022-03-26T17:43:12.696643Z"
    },
    "papermill": {
     "duration": 0.041687,
     "end_time": "2022-03-26T17:43:12.697042",
     "exception": false,
     "start_time": "2022-03-26T17:43:12.655355",
     "status": "completed"
    },
    "tags": []
   },
   "outputs": [],
   "source": [
    "required_parameters = {\n",
    "    \"experiment_name\",\n",
    "    \"lr\",\n",
    "    \"device\",\n",
    "    \"seed\",\n",
    "    \"dataset_seed\",\n",
    "    \"labels_source\",\n",
    "    \"labels_target\",\n",
    "    \"domains_source\",\n",
    "    \"domains_target\",\n",
    "    \"num_examples_per_domain_per_label_source\",\n",
    "    \"num_examples_per_domain_per_label_target\",\n",
    "    \"n_shot\",\n",
    "    \"n_way\",\n",
    "    \"n_query\",\n",
    "    \"train_k_factor\",\n",
    "    \"val_k_factor\",\n",
    "    \"test_k_factor\",\n",
    "    \"n_epoch\",\n",
    "    \"patience\",\n",
    "    \"criteria_for_best\",\n",
    "    \"x_transforms_source\",\n",
    "    \"x_transforms_target\",\n",
    "    \"episode_transforms_source\",\n",
    "    \"episode_transforms_target\",\n",
    "    \"pickle_name\",\n",
    "    \"x_net\",\n",
    "    \"NUM_LOGS_PER_EPOCH\",\n",
    "    \"BEST_MODEL_PATH\",\n",
    "    \"torch_default_dtype\"\n",
    "}"
   ]
  },
  {
   "cell_type": "code",
   "execution_count": 3,
   "id": "fa3f0049",
   "metadata": {
    "execution": {
     "iopub.execute_input": "2022-03-26T17:43:12.740279Z",
     "iopub.status.busy": "2022-03-26T17:43:12.739823Z",
     "iopub.status.idle": "2022-03-26T17:43:12.761141Z",
     "shell.execute_reply": "2022-03-26T17:43:12.760772Z"
    },
    "papermill": {
     "duration": 0.049731,
     "end_time": "2022-03-26T17:43:12.761210",
     "exception": false,
     "start_time": "2022-03-26T17:43:12.711479",
     "status": "completed"
    },
    "tags": [
     "parameters"
    ]
   },
   "outputs": [],
   "source": [
    "\n",
    "\n",
    "standalone_parameters = {}\n",
    "standalone_parameters[\"experiment_name\"] = \"STANDALONE PTN\"\n",
    "standalone_parameters[\"lr\"] = 0.0001\n",
    "standalone_parameters[\"device\"] = \"cuda\"\n",
    "\n",
    "standalone_parameters[\"seed\"] = 1337\n",
    "standalone_parameters[\"dataset_seed\"] = 1337\n",
    "\n",
    "\n",
    "standalone_parameters[\"num_examples_per_domain_per_label_source\"]=100\n",
    "standalone_parameters[\"num_examples_per_domain_per_label_target\"]=100\n",
    "\n",
    "standalone_parameters[\"n_shot\"] = 3\n",
    "standalone_parameters[\"n_query\"]  = 2\n",
    "standalone_parameters[\"train_k_factor\"] = 1\n",
    "standalone_parameters[\"val_k_factor\"] = 2\n",
    "standalone_parameters[\"test_k_factor\"] = 2\n",
    "\n",
    "\n",
    "standalone_parameters[\"n_epoch\"] = 100\n",
    "\n",
    "standalone_parameters[\"patience\"] = 10\n",
    "standalone_parameters[\"criteria_for_best\"] = \"target_accuracy\"\n",
    "\n",
    "standalone_parameters[\"x_transforms_source\"] = [\"unit_power\"]\n",
    "standalone_parameters[\"x_transforms_target\"] = [\"unit_power\"]\n",
    "standalone_parameters[\"episode_transforms_source\"] = []\n",
    "standalone_parameters[\"episode_transforms_target\"] = []\n",
    "\n",
    "standalone_parameters[\"torch_default_dtype\"] = \"torch.float32\" \n",
    "\n",
    "\n",
    "\n",
    "standalone_parameters[\"x_net\"] =     [\n",
    "    {\"class\": \"nnReshape\", \"kargs\": {\"shape\":[-1, 1, 2, 256]}},\n",
    "    {\"class\": \"Conv2d\", \"kargs\": { \"in_channels\":1, \"out_channels\":256, \"kernel_size\":(1,7), \"bias\":False, \"padding\":(0,3), },},\n",
    "    {\"class\": \"ReLU\", \"kargs\": {\"inplace\": True}},\n",
    "    {\"class\": \"BatchNorm2d\", \"kargs\": {\"num_features\":256}},\n",
    "\n",
    "    {\"class\": \"Conv2d\", \"kargs\": { \"in_channels\":256, \"out_channels\":80, \"kernel_size\":(2,7), \"bias\":True, \"padding\":(0,3), },},\n",
    "    {\"class\": \"ReLU\", \"kargs\": {\"inplace\": True}},\n",
    "    {\"class\": \"BatchNorm2d\", \"kargs\": {\"num_features\":80}},\n",
    "    {\"class\": \"Flatten\", \"kargs\": {}},\n",
    "\n",
    "    {\"class\": \"Linear\", \"kargs\": {\"in_features\": 80*256, \"out_features\": 256}}, # 80 units per IQ pair\n",
    "    {\"class\": \"ReLU\", \"kargs\": {\"inplace\": True}},\n",
    "    {\"class\": \"BatchNorm1d\", \"kargs\": {\"num_features\":256}},\n",
    "\n",
    "    {\"class\": \"Linear\", \"kargs\": {\"in_features\": 256, \"out_features\": 256}},\n",
    "]\n",
    "\n",
    "# Parameters relevant to results\n",
    "# These parameters will basically never need to change\n",
    "standalone_parameters[\"NUM_LOGS_PER_EPOCH\"] = 10\n",
    "standalone_parameters[\"BEST_MODEL_PATH\"] = \"./best_model.pth\"\n",
    "\n",
    "# uncomment for CORES dataset\n",
    "from steves_utils.CORES.utils import (\n",
    "    ALL_NODES,\n",
    "    ALL_NODES_MINIMUM_1000_EXAMPLES,\n",
    "    ALL_DAYS\n",
    ")\n",
    "\n",
    "\n",
    "standalone_parameters[\"labels_source\"] = ALL_NODES\n",
    "standalone_parameters[\"labels_target\"] = ALL_NODES\n",
    "\n",
    "standalone_parameters[\"domains_source\"] = [1]\n",
    "standalone_parameters[\"domains_target\"] = [2,3,4,5]\n",
    "\n",
    "standalone_parameters[\"pickle_name\"] = \"cores.stratified_ds.2022A.pkl\"\n",
    "\n",
    "\n",
    "# Uncomment these for ORACLE dataset\n",
    "# from steves_utils.ORACLE.utils_v2 import (\n",
    "#     ALL_DISTANCES_FEET,\n",
    "#     ALL_RUNS,\n",
    "#     ALL_SERIAL_NUMBERS,\n",
    "# )\n",
    "# standalone_parameters[\"labels_source\"] = ALL_SERIAL_NUMBERS\n",
    "# standalone_parameters[\"labels_target\"] = ALL_SERIAL_NUMBERS\n",
    "# standalone_parameters[\"domains_source\"] = [8,20, 38,50]\n",
    "# standalone_parameters[\"domains_target\"] = [14, 26, 32, 44, 56]\n",
    "# standalone_parameters[\"pickle_name\"] = \"oracle.frame_indexed.stratified_ds.2022A.pkl\"\n",
    "# standalone_parameters[\"num_examples_per_domain_per_label_source\"]=1000\n",
    "# standalone_parameters[\"num_examples_per_domain_per_label_target\"]=1000\n",
    "\n",
    "# Uncomment these for Metahan dataset\n",
    "# standalone_parameters[\"labels_source\"] = list(range(19))\n",
    "# standalone_parameters[\"labels_target\"] = list(range(19))\n",
    "# standalone_parameters[\"domains_source\"] = [0]\n",
    "# standalone_parameters[\"domains_target\"] = [1]\n",
    "# standalone_parameters[\"pickle_name\"] = \"metehan.stratified_ds.2022A.pkl\"\n",
    "# standalone_parameters[\"n_way\"]  = len(standalone_parameters[\"labels_source\"])\n",
    "# standalone_parameters[\"num_examples_per_domain_per_label_source\"]=200\n",
    "# standalone_parameters[\"num_examples_per_domain_per_label_target\"]=100\n",
    "\n",
    "\n",
    "standalone_parameters[\"n_way\"]  = len(standalone_parameters[\"labels_source\"])"
   ]
  },
  {
   "cell_type": "code",
   "execution_count": 4,
   "id": "bceacbcc",
   "metadata": {
    "execution": {
     "iopub.execute_input": "2022-03-26T17:43:12.800953Z",
     "iopub.status.busy": "2022-03-26T17:43:12.800531Z",
     "iopub.status.idle": "2022-03-26T17:43:12.820231Z",
     "shell.execute_reply": "2022-03-26T17:43:12.819870Z"
    },
    "papermill": {
     "duration": 0.044521,
     "end_time": "2022-03-26T17:43:12.820300",
     "exception": false,
     "start_time": "2022-03-26T17:43:12.775779",
     "status": "completed"
    },
    "tags": [
     "injected-parameters"
    ]
   },
   "outputs": [],
   "source": [
    "# Parameters\n",
    "parameters = {\n",
    "    \"experiment_name\": \"tuned_1v2:oracle.run2_limited\",\n",
    "    \"device\": \"cuda\",\n",
    "    \"lr\": 0.0001,\n",
    "    \"labels_source\": [\n",
    "        \"3123D52\",\n",
    "        \"3123D65\",\n",
    "        \"3123D79\",\n",
    "        \"3123D80\",\n",
    "        \"3123D54\",\n",
    "        \"3123D70\",\n",
    "        \"3123D7B\",\n",
    "        \"3123D89\",\n",
    "        \"3123D58\",\n",
    "        \"3123D76\",\n",
    "        \"3123D7D\",\n",
    "        \"3123EFE\",\n",
    "        \"3123D64\",\n",
    "        \"3123D78\",\n",
    "        \"3123D7E\",\n",
    "        \"3124E4A\",\n",
    "    ],\n",
    "    \"labels_target\": [\n",
    "        \"3123D52\",\n",
    "        \"3123D65\",\n",
    "        \"3123D79\",\n",
    "        \"3123D80\",\n",
    "        \"3123D54\",\n",
    "        \"3123D70\",\n",
    "        \"3123D7B\",\n",
    "        \"3123D89\",\n",
    "        \"3123D58\",\n",
    "        \"3123D76\",\n",
    "        \"3123D7D\",\n",
    "        \"3123EFE\",\n",
    "        \"3123D64\",\n",
    "        \"3123D78\",\n",
    "        \"3123D7E\",\n",
    "        \"3124E4A\",\n",
    "    ],\n",
    "    \"episode_transforms_source\": [],\n",
    "    \"episode_transforms_target\": [],\n",
    "    \"domains_source\": [8, 32, 50],\n",
    "    \"domains_target\": [14, 20, 26, 38, 44],\n",
    "    \"num_examples_per_domain_per_label_source\": -1,\n",
    "    \"num_examples_per_domain_per_label_target\": -1,\n",
    "    \"n_shot\": 3,\n",
    "    \"n_way\": 16,\n",
    "    \"n_query\": 2,\n",
    "    \"train_k_factor\": 3,\n",
    "    \"val_k_factor\": 2,\n",
    "    \"test_k_factor\": 2,\n",
    "    \"torch_default_dtype\": \"torch.float32\",\n",
    "    \"n_epoch\": 50,\n",
    "    \"patience\": 3,\n",
    "    \"criteria_for_best\": \"target_accuracy\",\n",
    "    \"x_net\": [\n",
    "        {\"class\": \"nnReshape\", \"kargs\": {\"shape\": [-1, 1, 2, 256]}},\n",
    "        {\n",
    "            \"class\": \"Conv2d\",\n",
    "            \"kargs\": {\n",
    "                \"in_channels\": 1,\n",
    "                \"out_channels\": 256,\n",
    "                \"kernel_size\": [1, 7],\n",
    "                \"bias\": False,\n",
    "                \"padding\": [0, 3],\n",
    "            },\n",
    "        },\n",
    "        {\"class\": \"ReLU\", \"kargs\": {\"inplace\": True}},\n",
    "        {\"class\": \"BatchNorm2d\", \"kargs\": {\"num_features\": 256}},\n",
    "        {\n",
    "            \"class\": \"Conv2d\",\n",
    "            \"kargs\": {\n",
    "                \"in_channels\": 256,\n",
    "                \"out_channels\": 80,\n",
    "                \"kernel_size\": [2, 7],\n",
    "                \"bias\": True,\n",
    "                \"padding\": [0, 3],\n",
    "            },\n",
    "        },\n",
    "        {\"class\": \"ReLU\", \"kargs\": {\"inplace\": True}},\n",
    "        {\"class\": \"BatchNorm2d\", \"kargs\": {\"num_features\": 80}},\n",
    "        {\"class\": \"Flatten\", \"kargs\": {}},\n",
    "        {\"class\": \"Linear\", \"kargs\": {\"in_features\": 20480, \"out_features\": 256}},\n",
    "        {\"class\": \"ReLU\", \"kargs\": {\"inplace\": True}},\n",
    "        {\"class\": \"BatchNorm1d\", \"kargs\": {\"num_features\": 256}},\n",
    "        {\"class\": \"Linear\", \"kargs\": {\"in_features\": 256, \"out_features\": 256}},\n",
    "    ],\n",
    "    \"NUM_LOGS_PER_EPOCH\": 10,\n",
    "    \"BEST_MODEL_PATH\": \"./best_model.pth\",\n",
    "    \"pickle_name\": \"oracle.Run2_10kExamples_stratified_ds.2022A.pkl\",\n",
    "    \"x_transforms_source\": [\"unit_power\"],\n",
    "    \"x_transforms_target\": [\"unit_power\"],\n",
    "    \"dataset_seed\": 420,\n",
    "    \"seed\": 420,\n",
    "}\n"
   ]
  },
  {
   "cell_type": "code",
   "execution_count": 5,
   "id": "8fa1cc33",
   "metadata": {
    "execution": {
     "iopub.execute_input": "2022-03-26T17:43:12.854586Z",
     "iopub.status.busy": "2022-03-26T17:43:12.854213Z",
     "iopub.status.idle": "2022-03-26T17:43:12.874621Z",
     "shell.execute_reply": "2022-03-26T17:43:12.874299Z"
    },
    "papermill": {
     "duration": 0.039659,
     "end_time": "2022-03-26T17:43:12.874689",
     "exception": false,
     "start_time": "2022-03-26T17:43:12.835030",
     "status": "completed"
    },
    "tags": []
   },
   "outputs": [],
   "source": [
    "# Set this to True if you want to run this template directly\n",
    "STANDALONE = False\n",
    "if STANDALONE:\n",
    "    print(\"parameters not injected, running with standalone_parameters\")\n",
    "    parameters = standalone_parameters\n",
    "\n",
    "if not 'parameters' in locals() and not 'parameters' in globals():\n",
    "    raise Exception(\"Parameter injection failed\")\n",
    "\n",
    "#Use an easy dict for all the parameters\n",
    "p = EasyDict(parameters)\n",
    "\n",
    "supplied_keys = set(p.keys())\n",
    "\n",
    "if  supplied_keys != required_parameters:\n",
    "    print(\"Parameters are incorrect\")\n",
    "    if len(supplied_keys - required_parameters)>0: print(\"Shouldn't have:\", str(supplied_keys - required_parameters))\n",
    "    if len(required_parameters - supplied_keys)>0: print(\"Need to have:\", str(required_parameters - supplied_keys))\n",
    "    raise RuntimeError(\"Parameters are incorrect\")\n",
    "\n"
   ]
  },
  {
   "cell_type": "code",
   "execution_count": 6,
   "id": "3a028d58",
   "metadata": {
    "execution": {
     "iopub.execute_input": "2022-03-26T17:43:12.907166Z",
     "iopub.status.busy": "2022-03-26T17:43:12.906797Z",
     "iopub.status.idle": "2022-03-26T17:43:12.924971Z",
     "shell.execute_reply": "2022-03-26T17:43:12.924652Z"
    },
    "papermill": {
     "duration": 0.035645,
     "end_time": "2022-03-26T17:43:12.925040",
     "exception": false,
     "start_time": "2022-03-26T17:43:12.889395",
     "status": "completed"
    },
    "tags": []
   },
   "outputs": [],
   "source": [
    "###################################\n",
    "# Set the RNGs and make it all deterministic\n",
    "###################################\n",
    "np.random.seed(p.seed)\n",
    "random.seed(p.seed)\n",
    "torch.manual_seed(p.seed)\n",
    "\n",
    "torch.use_deterministic_algorithms(True) "
   ]
  },
  {
   "cell_type": "code",
   "execution_count": 7,
   "id": "b691acf6",
   "metadata": {
    "execution": {
     "iopub.execute_input": "2022-03-26T17:43:12.957898Z",
     "iopub.status.busy": "2022-03-26T17:43:12.957530Z",
     "iopub.status.idle": "2022-03-26T17:43:12.978933Z",
     "shell.execute_reply": "2022-03-26T17:43:12.978575Z"
    },
    "papermill": {
     "duration": 0.03926,
     "end_time": "2022-03-26T17:43:12.979003",
     "exception": false,
     "start_time": "2022-03-26T17:43:12.939743",
     "status": "completed"
    },
    "tags": []
   },
   "outputs": [],
   "source": [
    "###########################################\n",
    "# The stratified datasets honor this\n",
    "###########################################\n",
    "torch.set_default_dtype(eval(p.torch_default_dtype))"
   ]
  },
  {
   "cell_type": "code",
   "execution_count": 8,
   "id": "b5fba671",
   "metadata": {
    "execution": {
     "iopub.execute_input": "2022-03-26T17:43:13.011577Z",
     "iopub.status.busy": "2022-03-26T17:43:13.011199Z",
     "iopub.status.idle": "2022-03-26T17:43:13.062357Z",
     "shell.execute_reply": "2022-03-26T17:43:13.062036Z"
    },
    "papermill": {
     "duration": 0.068381,
     "end_time": "2022-03-26T17:43:13.062427",
     "exception": false,
     "start_time": "2022-03-26T17:43:12.994046",
     "status": "completed"
    },
    "tags": []
   },
   "outputs": [],
   "source": [
    "###################################\n",
    "# Build the network(s)\n",
    "# Note: It's critical to do this AFTER setting the RNG\n",
    "# (This is due to the randomized initial weights)\n",
    "###################################\n",
    "x_net = build_sequential(p.x_net)"
   ]
  },
  {
   "cell_type": "code",
   "execution_count": 9,
   "id": "5d7e61cc",
   "metadata": {
    "execution": {
     "iopub.execute_input": "2022-03-26T17:43:13.096521Z",
     "iopub.status.busy": "2022-03-26T17:43:13.096157Z",
     "iopub.status.idle": "2022-03-26T17:43:13.120457Z",
     "shell.execute_reply": "2022-03-26T17:43:13.120138Z"
    },
    "papermill": {
     "duration": 0.04316,
     "end_time": "2022-03-26T17:43:13.120526",
     "exception": false,
     "start_time": "2022-03-26T17:43:13.077366",
     "status": "completed"
    },
    "tags": []
   },
   "outputs": [],
   "source": [
    "start_time_secs = time.time()"
   ]
  },
  {
   "cell_type": "code",
   "execution_count": 10,
   "id": "fd5442bc",
   "metadata": {
    "execution": {
     "iopub.execute_input": "2022-03-26T17:43:13.161580Z",
     "iopub.status.busy": "2022-03-26T17:43:13.161185Z",
     "iopub.status.idle": "2022-03-26T17:45:07.009012Z",
     "shell.execute_reply": "2022-03-26T17:45:07.008225Z"
    },
    "papermill": {
     "duration": 113.873515,
     "end_time": "2022-03-26T17:45:07.009191",
     "exception": false,
     "start_time": "2022-03-26T17:43:13.135676",
     "status": "completed"
    },
    "tags": []
   },
   "outputs": [],
   "source": [
    "###################################\n",
    "# Build the dataset\n",
    "###################################\n",
    "\n",
    "if p.x_transforms_source == []: x_transform_source = None\n",
    "else: x_transform_source = get_chained_transform(p.x_transforms_source) \n",
    "\n",
    "if p.x_transforms_target == []: x_transform_target = None\n",
    "else: x_transform_target = get_chained_transform(p.x_transforms_target)\n",
    "\n",
    "if p.episode_transforms_source == []: episode_transform_source = None\n",
    "else: raise Exception(\"episode_transform_source not implemented\")\n",
    "\n",
    "if p.episode_transforms_target == []: episode_transform_target = None\n",
    "else: raise Exception(\"episode_transform_target not implemented\")\n",
    "\n",
    "\n",
    "eaf_source = Episodic_Accessor_Factory(\n",
    "    labels=p.labels_source,\n",
    "    domains=p.domains_source,\n",
    "    num_examples_per_domain_per_label=p.num_examples_per_domain_per_label_source,\n",
    "    iterator_seed=p.seed,\n",
    "    dataset_seed=p.dataset_seed,\n",
    "    n_shot=p.n_shot,\n",
    "    n_way=p.n_way,\n",
    "    n_query=p.n_query,\n",
    "    train_val_test_k_factors=(p.train_k_factor,p.val_k_factor,p.test_k_factor),\n",
    "    pickle_path=os.path.join(get_datasets_base_path(), p.pickle_name),\n",
    "    x_transform_func=x_transform_source,\n",
    "    example_transform_func=episode_transform_source,\n",
    "    \n",
    ")\n",
    "train_original_source, val_original_source, test_original_source = eaf_source.get_train(), eaf_source.get_val(), eaf_source.get_test()\n",
    "\n",
    "\n",
    "eaf_target = Episodic_Accessor_Factory(\n",
    "    labels=p.labels_target,\n",
    "    domains=p.domains_target,\n",
    "    num_examples_per_domain_per_label=p.num_examples_per_domain_per_label_target,\n",
    "    iterator_seed=p.seed,\n",
    "    dataset_seed=p.dataset_seed,\n",
    "    n_shot=p.n_shot,\n",
    "    n_way=p.n_way,\n",
    "    n_query=p.n_query,\n",
    "    train_val_test_k_factors=(p.train_k_factor,p.val_k_factor,p.test_k_factor),\n",
    "    pickle_path=os.path.join(get_datasets_base_path(), p.pickle_name),\n",
    "    x_transform_func=x_transform_target,\n",
    "    example_transform_func=episode_transform_target,\n",
    ")\n",
    "train_original_target, val_original_target, test_original_target = eaf_target.get_train(), eaf_target.get_val(), eaf_target.get_test()\n",
    "\n",
    "\n",
    "transform_lambda = lambda ex: ex[1] # Original is (<domain>, <episode>) so we strip down to episode only\n",
    "\n",
    "train_processed_source = Lazy_Iterable_Wrapper(train_original_source, transform_lambda)\n",
    "val_processed_source   = Lazy_Iterable_Wrapper(val_original_source, transform_lambda)\n",
    "test_processed_source  = Lazy_Iterable_Wrapper(test_original_source, transform_lambda)\n",
    "\n",
    "train_processed_target = Lazy_Iterable_Wrapper(train_original_target, transform_lambda)\n",
    "val_processed_target   = Lazy_Iterable_Wrapper(val_original_target, transform_lambda)\n",
    "test_processed_target  = Lazy_Iterable_Wrapper(test_original_target, transform_lambda)\n",
    "\n",
    "datasets = EasyDict({\n",
    "    \"source\": {\n",
    "        \"original\": {\"train\":train_original_source, \"val\":val_original_source, \"test\":test_original_source},\n",
    "        \"processed\": {\"train\":train_processed_source, \"val\":val_processed_source, \"test\":test_processed_source}\n",
    "    },\n",
    "    \"target\": {\n",
    "        \"original\": {\"train\":train_original_target, \"val\":val_original_target, \"test\":test_original_target},\n",
    "        \"processed\": {\"train\":train_processed_target, \"val\":val_processed_target, \"test\":test_processed_target}\n",
    "    },\n",
    "})"
   ]
  },
  {
   "cell_type": "code",
   "execution_count": 11,
   "id": "296189d9",
   "metadata": {
    "execution": {
     "iopub.execute_input": "2022-03-26T17:45:07.051909Z",
     "iopub.status.busy": "2022-03-26T17:45:07.051504Z",
     "iopub.status.idle": "2022-03-26T17:45:12.710599Z",
     "shell.execute_reply": "2022-03-26T17:45:12.709739Z"
    },
    "papermill": {
     "duration": 5.68189,
     "end_time": "2022-03-26T17:45:12.710773",
     "exception": false,
     "start_time": "2022-03-26T17:45:07.028883",
     "status": "completed"
    },
    "tags": []
   },
   "outputs": [
    {
     "name": "stdout",
     "output_type": "stream",
     "text": [
      "Visually inspect these to see if they line up with expected values given the transforms\n",
      "x_transforms_source ['unit_power']\n",
      "x_transforms_target ['unit_power']\n",
      "Average magnitude, source: 0.8953406\n",
      "Average power, source: 1.0\n"
     ]
    },
    {
     "name": "stdout",
     "output_type": "stream",
     "text": [
      "Average magnitude, target: 0.89680517\n",
      "Average power, target: 1.0\n"
     ]
    }
   ],
   "source": [
    "# Some quick unit tests on the data\n",
    "from steves_utils.transforms import get_average_power, get_average_magnitude\n",
    "\n",
    "q_x, q_y, s_x, s_y, truth = next(iter(train_processed_source))\n",
    "\n",
    "assert q_x.dtype == eval(p.torch_default_dtype)\n",
    "assert s_x.dtype == eval(p.torch_default_dtype)\n",
    "\n",
    "print(\"Visually inspect these to see if they line up with expected values given the transforms\")\n",
    "print('x_transforms_source', p.x_transforms_source)\n",
    "print('x_transforms_target', p.x_transforms_target)\n",
    "print(\"Average magnitude, source:\", get_average_magnitude(q_x[0].numpy()))\n",
    "print(\"Average power, source:\", get_average_power(q_x[0].numpy()))\n",
    "\n",
    "q_x, q_y, s_x, s_y, truth = next(iter(train_processed_target))\n",
    "print(\"Average magnitude, target:\", get_average_magnitude(q_x[0].numpy()))\n",
    "print(\"Average power, target:\", get_average_power(q_x[0].numpy()))\n"
   ]
  },
  {
   "cell_type": "code",
   "execution_count": 12,
   "id": "bbdacba1",
   "metadata": {
    "execution": {
     "iopub.execute_input": "2022-03-26T17:45:12.750992Z",
     "iopub.status.busy": "2022-03-26T17:45:12.750612Z",
     "iopub.status.idle": "2022-03-26T17:45:12.972044Z",
     "shell.execute_reply": "2022-03-26T17:45:12.972723Z"
    },
    "papermill": {
     "duration": 0.242612,
     "end_time": "2022-03-26T17:45:12.972954",
     "exception": false,
     "start_time": "2022-03-26T17:45:12.730342",
     "status": "completed"
    },
    "tags": []
   },
   "outputs": [
    {
     "name": "stdout",
     "output_type": "stream",
     "text": [
      "(2, 256)\n"
     ]
    }
   ],
   "source": [
    "###################################\n",
    "# Build the model\n",
    "###################################\n",
    "model = Steves_Prototypical_Network(x_net, device=p.device, x_shape=(2,256))\n",
    "optimizer = Adam(params=model.parameters(), lr=p.lr)"
   ]
  },
  {
   "cell_type": "code",
   "execution_count": 13,
   "id": "22b39ac5",
   "metadata": {
    "execution": {
     "iopub.execute_input": "2022-03-26T17:45:13.015855Z",
     "iopub.status.busy": "2022-03-26T17:45:13.013240Z",
     "iopub.status.idle": "2022-03-26T18:42:58.856948Z",
     "shell.execute_reply": "2022-03-26T18:42:58.856584Z"
    },
    "papermill": {
     "duration": 3465.862914,
     "end_time": "2022-03-26T18:42:58.857051",
     "exception": false,
     "start_time": "2022-03-26T17:45:12.994137",
     "status": "completed"
    },
    "tags": []
   },
   "outputs": [
    {
     "name": "stdout",
     "output_type": "stream",
     "text": [
      "epoch: 1, [batch: 1 / 12600], examples_per_second: 17.0021, train_label_loss: 2.7861, \n"
     ]
    },
    {
     "name": "stdout",
     "output_type": "stream",
     "text": [
      "epoch: 1, [batch: 1260 / 12600], examples_per_second: 3778.1416, train_label_loss: 1.2960, \n"
     ]
    },
    {
     "name": "stdout",
     "output_type": "stream",
     "text": [
      "epoch: 1, [batch: 2520 / 12600], examples_per_second: 3815.4643, train_label_loss: 1.2526, \n"
     ]
    },
    {
     "name": "stdout",
     "output_type": "stream",
     "text": [
      "epoch: 1, [batch: 3780 / 12600], examples_per_second: 3781.0135, train_label_loss: 1.3580, \n"
     ]
    },
    {
     "name": "stdout",
     "output_type": "stream",
     "text": [
      "epoch: 1, [batch: 5040 / 12600], examples_per_second: 3797.5269, train_label_loss: 1.2552, \n"
     ]
    },
    {
     "name": "stdout",
     "output_type": "stream",
     "text": [
      "epoch: 1, [batch: 6300 / 12600], examples_per_second: 3876.0658, train_label_loss: 1.2600, \n"
     ]
    },
    {
     "name": "stdout",
     "output_type": "stream",
     "text": [
      "epoch: 1, [batch: 7560 / 12600], examples_per_second: 3845.9904, train_label_loss: 0.9803, \n"
     ]
    },
    {
     "name": "stdout",
     "output_type": "stream",
     "text": [
      "epoch: 1, [batch: 8820 / 12600], examples_per_second: 3907.0468, train_label_loss: 0.8990, \n"
     ]
    },
    {
     "name": "stdout",
     "output_type": "stream",
     "text": [
      "epoch: 1, [batch: 10080 / 12600], examples_per_second: 3883.4226, train_label_loss: 0.8191, \n"
     ]
    },
    {
     "name": "stdout",
     "output_type": "stream",
     "text": [
      "epoch: 1, [batch: 11340 / 12600], examples_per_second: 3939.9684, train_label_loss: 0.7186, \n"
     ]
    },
    {
     "name": "stdout",
     "output_type": "stream",
     "text": [
      "=============================================================\n",
      "epoch: 1, source_val_acc_label: 0.6297, target_val_acc_label: 0.5146, source_val_label_loss: 0.9798, target_val_label_loss: 1.4053, \n",
      "=============================================================\n"
     ]
    },
    {
     "name": "stdout",
     "output_type": "stream",
     "text": [
      "New best\n"
     ]
    },
    {
     "name": "stdout",
     "output_type": "stream",
     "text": [
      "epoch: 2, [batch: 1 / 12600], examples_per_second: 1.9701, train_label_loss: 0.6985, \n"
     ]
    },
    {
     "name": "stdout",
     "output_type": "stream",
     "text": [
      "epoch: 2, [batch: 1260 / 12600], examples_per_second: 4081.0068, train_label_loss: 1.1249, \n"
     ]
    },
    {
     "name": "stdout",
     "output_type": "stream",
     "text": [
      "epoch: 2, [batch: 2520 / 12600], examples_per_second: 4337.1067, train_label_loss: 0.8973, \n"
     ]
    },
    {
     "name": "stdout",
     "output_type": "stream",
     "text": [
      "epoch: 2, [batch: 3780 / 12600], examples_per_second: 4293.8129, train_label_loss: 1.2556, \n"
     ]
    },
    {
     "name": "stdout",
     "output_type": "stream",
     "text": [
      "epoch: 2, [batch: 5040 / 12600], examples_per_second: 4349.8449, train_label_loss: 0.7221, \n"
     ]
    },
    {
     "name": "stdout",
     "output_type": "stream",
     "text": [
      "epoch: 2, [batch: 6300 / 12600], examples_per_second: 4413.0301, train_label_loss: 1.0952, \n"
     ]
    },
    {
     "name": "stdout",
     "output_type": "stream",
     "text": [
      "epoch: 2, [batch: 7560 / 12600], examples_per_second: 4386.0258, train_label_loss: 0.8088, \n"
     ]
    },
    {
     "name": "stdout",
     "output_type": "stream",
     "text": [
      "epoch: 2, [batch: 8820 / 12600], examples_per_second: 4197.6885, train_label_loss: 0.5121, \n"
     ]
    },
    {
     "name": "stdout",
     "output_type": "stream",
     "text": [
      "epoch: 2, [batch: 10080 / 12600], examples_per_second: 4528.6502, train_label_loss: 0.9929, \n"
     ]
    },
    {
     "name": "stdout",
     "output_type": "stream",
     "text": [
      "epoch: 2, [batch: 11340 / 12600], examples_per_second: 5151.7037, train_label_loss: 0.5685, \n"
     ]
    },
    {
     "name": "stdout",
     "output_type": "stream",
     "text": [
      "=============================================================\n",
      "epoch: 2, source_val_acc_label: 0.6795, target_val_acc_label: 0.5589, source_val_label_loss: 0.8270, target_val_label_loss: 1.2505, \n",
      "=============================================================\n"
     ]
    },
    {
     "name": "stdout",
     "output_type": "stream",
     "text": [
      "New best\n"
     ]
    },
    {
     "name": "stdout",
     "output_type": "stream",
     "text": [
      "epoch: 3, [batch: 1 / 12600], examples_per_second: 2.4178, train_label_loss: 1.0063, \n"
     ]
    },
    {
     "name": "stdout",
     "output_type": "stream",
     "text": [
      "epoch: 3, [batch: 1260 / 12600], examples_per_second: 4885.6055, train_label_loss: 0.8801, \n"
     ]
    },
    {
     "name": "stdout",
     "output_type": "stream",
     "text": [
      "epoch: 3, [batch: 2520 / 12600], examples_per_second: 5051.5071, train_label_loss: 0.6371, \n"
     ]
    },
    {
     "name": "stdout",
     "output_type": "stream",
     "text": [
      "epoch: 3, [batch: 3780 / 12600], examples_per_second: 5132.1942, train_label_loss: 0.7421, \n"
     ]
    },
    {
     "name": "stdout",
     "output_type": "stream",
     "text": [
      "epoch: 3, [batch: 5040 / 12600], examples_per_second: 5222.5839, train_label_loss: 0.6890, \n"
     ]
    },
    {
     "name": "stdout",
     "output_type": "stream",
     "text": [
      "epoch: 3, [batch: 6300 / 12600], examples_per_second: 5236.1215, train_label_loss: 0.7830, \n"
     ]
    },
    {
     "name": "stdout",
     "output_type": "stream",
     "text": [
      "epoch: 3, [batch: 7560 / 12600], examples_per_second: 5194.3864, train_label_loss: 0.9622, \n"
     ]
    },
    {
     "name": "stdout",
     "output_type": "stream",
     "text": [
      "epoch: 3, [batch: 8820 / 12600], examples_per_second: 5140.6757, train_label_loss: 0.4775, \n"
     ]
    },
    {
     "name": "stdout",
     "output_type": "stream",
     "text": [
      "epoch: 3, [batch: 10080 / 12600], examples_per_second: 5227.1114, train_label_loss: 0.3903, \n"
     ]
    },
    {
     "name": "stdout",
     "output_type": "stream",
     "text": [
      "epoch: 3, [batch: 11340 / 12600], examples_per_second: 5103.8975, train_label_loss: 0.8335, \n"
     ]
    },
    {
     "name": "stdout",
     "output_type": "stream",
     "text": [
      "=============================================================\n",
      "epoch: 3, source_val_acc_label: 0.6961, target_val_acc_label: 0.5714, source_val_label_loss: 0.7932, target_val_label_loss: 1.2357, \n",
      "=============================================================\n"
     ]
    },
    {
     "name": "stdout",
     "output_type": "stream",
     "text": [
      "New best\n"
     ]
    },
    {
     "name": "stdout",
     "output_type": "stream",
     "text": [
      "epoch: 4, [batch: 1 / 12600], examples_per_second: 2.4421, train_label_loss: 0.2512, \n"
     ]
    },
    {
     "name": "stdout",
     "output_type": "stream",
     "text": [
      "epoch: 4, [batch: 1260 / 12600], examples_per_second: 4593.4503, train_label_loss: 0.8609, \n"
     ]
    },
    {
     "name": "stdout",
     "output_type": "stream",
     "text": [
      "epoch: 4, [batch: 2520 / 12600], examples_per_second: 3981.2611, train_label_loss: 0.6508, \n"
     ]
    },
    {
     "name": "stdout",
     "output_type": "stream",
     "text": [
      "epoch: 4, [batch: 3780 / 12600], examples_per_second: 3903.8300, train_label_loss: 0.6401, \n"
     ]
    },
    {
     "name": "stdout",
     "output_type": "stream",
     "text": [
      "epoch: 4, [batch: 5040 / 12600], examples_per_second: 3815.7828, train_label_loss: 0.6868, \n"
     ]
    },
    {
     "name": "stdout",
     "output_type": "stream",
     "text": [
      "epoch: 4, [batch: 6300 / 12600], examples_per_second: 3799.8020, train_label_loss: 0.4830, \n"
     ]
    },
    {
     "name": "stdout",
     "output_type": "stream",
     "text": [
      "epoch: 4, [batch: 7560 / 12600], examples_per_second: 3910.8205, train_label_loss: 0.3829, \n"
     ]
    },
    {
     "name": "stdout",
     "output_type": "stream",
     "text": [
      "epoch: 4, [batch: 8820 / 12600], examples_per_second: 3871.3210, train_label_loss: 0.6256, \n"
     ]
    },
    {
     "name": "stdout",
     "output_type": "stream",
     "text": [
      "epoch: 4, [batch: 10080 / 12600], examples_per_second: 4019.9180, train_label_loss: 0.5558, \n"
     ]
    },
    {
     "name": "stdout",
     "output_type": "stream",
     "text": [
      "epoch: 4, [batch: 11340 / 12600], examples_per_second: 4022.4187, train_label_loss: 0.5871, \n"
     ]
    },
    {
     "name": "stdout",
     "output_type": "stream",
     "text": [
      "=============================================================\n",
      "epoch: 4, source_val_acc_label: 0.6948, target_val_acc_label: 0.5743, source_val_label_loss: 0.7976, target_val_label_loss: 1.2412, \n",
      "=============================================================\n"
     ]
    },
    {
     "name": "stdout",
     "output_type": "stream",
     "text": [
      "New best\n"
     ]
    },
    {
     "name": "stdout",
     "output_type": "stream",
     "text": [
      "epoch: 5, [batch: 1 / 12600], examples_per_second: 1.8925, train_label_loss: 0.5049, \n"
     ]
    },
    {
     "name": "stdout",
     "output_type": "stream",
     "text": [
      "epoch: 5, [batch: 1260 / 12600], examples_per_second: 4218.7812, train_label_loss: 0.7454, \n"
     ]
    },
    {
     "name": "stdout",
     "output_type": "stream",
     "text": [
      "epoch: 5, [batch: 2520 / 12600], examples_per_second: 3907.6279, train_label_loss: 0.5567, \n"
     ]
    },
    {
     "name": "stdout",
     "output_type": "stream",
     "text": [
      "epoch: 5, [batch: 3780 / 12600], examples_per_second: 3900.5679, train_label_loss: 0.7072, \n"
     ]
    },
    {
     "name": "stdout",
     "output_type": "stream",
     "text": [
      "epoch: 5, [batch: 5040 / 12600], examples_per_second: 3917.4072, train_label_loss: 0.4862, \n"
     ]
    },
    {
     "name": "stdout",
     "output_type": "stream",
     "text": [
      "epoch: 5, [batch: 6300 / 12600], examples_per_second: 3905.8640, train_label_loss: 0.8881, \n"
     ]
    },
    {
     "name": "stdout",
     "output_type": "stream",
     "text": [
      "epoch: 5, [batch: 7560 / 12600], examples_per_second: 3905.9624, train_label_loss: 0.6597, \n"
     ]
    },
    {
     "name": "stdout",
     "output_type": "stream",
     "text": [
      "epoch: 5, [batch: 8820 / 12600], examples_per_second: 3839.8591, train_label_loss: 0.6380, \n"
     ]
    },
    {
     "name": "stdout",
     "output_type": "stream",
     "text": [
      "epoch: 5, [batch: 10080 / 12600], examples_per_second: 3900.5217, train_label_loss: 0.4568, \n"
     ]
    },
    {
     "name": "stdout",
     "output_type": "stream",
     "text": [
      "epoch: 5, [batch: 11340 / 12600], examples_per_second: 3843.0350, train_label_loss: 0.6202, \n"
     ]
    },
    {
     "name": "stdout",
     "output_type": "stream",
     "text": [
      "=============================================================\n",
      "epoch: 5, source_val_acc_label: 0.7067, target_val_acc_label: 0.5847, source_val_label_loss: 0.8069, target_val_label_loss: 1.2797, \n",
      "=============================================================\n"
     ]
    },
    {
     "name": "stdout",
     "output_type": "stream",
     "text": [
      "New best\n"
     ]
    },
    {
     "name": "stdout",
     "output_type": "stream",
     "text": [
      "epoch: 6, [batch: 1 / 12600], examples_per_second: 1.9063, train_label_loss: 0.5469, \n"
     ]
    },
    {
     "name": "stdout",
     "output_type": "stream",
     "text": [
      "epoch: 6, [batch: 1260 / 12600], examples_per_second: 4276.6079, train_label_loss: 0.4797, \n"
     ]
    },
    {
     "name": "stdout",
     "output_type": "stream",
     "text": [
      "epoch: 6, [batch: 2520 / 12600], examples_per_second: 3926.1929, train_label_loss: 0.6331, \n"
     ]
    },
    {
     "name": "stdout",
     "output_type": "stream",
     "text": [
      "epoch: 6, [batch: 3780 / 12600], examples_per_second: 3867.4575, train_label_loss: 0.2861, \n"
     ]
    },
    {
     "name": "stdout",
     "output_type": "stream",
     "text": [
      "epoch: 6, [batch: 5040 / 12600], examples_per_second: 3815.3936, train_label_loss: 0.3641, \n"
     ]
    },
    {
     "name": "stdout",
     "output_type": "stream",
     "text": [
      "epoch: 6, [batch: 6300 / 12600], examples_per_second: 3952.6255, train_label_loss: 0.2768, \n"
     ]
    },
    {
     "name": "stdout",
     "output_type": "stream",
     "text": [
      "epoch: 6, [batch: 7560 / 12600], examples_per_second: 3873.2235, train_label_loss: 0.6549, \n"
     ]
    },
    {
     "name": "stdout",
     "output_type": "stream",
     "text": [
      "epoch: 6, [batch: 8820 / 12600], examples_per_second: 3782.3845, train_label_loss: 0.3662, \n"
     ]
    },
    {
     "name": "stdout",
     "output_type": "stream",
     "text": [
      "epoch: 6, [batch: 10080 / 12600], examples_per_second: 3874.9192, train_label_loss: 0.4964, \n"
     ]
    },
    {
     "name": "stdout",
     "output_type": "stream",
     "text": [
      "epoch: 6, [batch: 11340 / 12600], examples_per_second: 3887.8817, train_label_loss: 0.5637, \n"
     ]
    },
    {
     "name": "stdout",
     "output_type": "stream",
     "text": [
      "=============================================================\n",
      "epoch: 6, source_val_acc_label: 0.7137, target_val_acc_label: 0.5888, source_val_label_loss: 0.8043, target_val_label_loss: 1.2914, \n",
      "=============================================================\n"
     ]
    },
    {
     "name": "stdout",
     "output_type": "stream",
     "text": [
      "New best\n"
     ]
    },
    {
     "name": "stdout",
     "output_type": "stream",
     "text": [
      "epoch: 7, [batch: 1 / 12600], examples_per_second: 1.8760, train_label_loss: 0.3081, \n"
     ]
    },
    {
     "name": "stdout",
     "output_type": "stream",
     "text": [
      "epoch: 7, [batch: 1260 / 12600], examples_per_second: 4010.7994, train_label_loss: 0.3820, \n"
     ]
    },
    {
     "name": "stdout",
     "output_type": "stream",
     "text": [
      "epoch: 7, [batch: 2520 / 12600], examples_per_second: 3808.1267, train_label_loss: 0.5205, \n"
     ]
    },
    {
     "name": "stdout",
     "output_type": "stream",
     "text": [
      "epoch: 7, [batch: 3780 / 12600], examples_per_second: 3983.7478, train_label_loss: 0.3205, \n"
     ]
    },
    {
     "name": "stdout",
     "output_type": "stream",
     "text": [
      "epoch: 7, [batch: 5040 / 12600], examples_per_second: 3987.4523, train_label_loss: 0.2473, \n"
     ]
    },
    {
     "name": "stdout",
     "output_type": "stream",
     "text": [
      "epoch: 7, [batch: 6300 / 12600], examples_per_second: 4036.5914, train_label_loss: 0.2752, \n"
     ]
    },
    {
     "name": "stdout",
     "output_type": "stream",
     "text": [
      "epoch: 7, [batch: 7560 / 12600], examples_per_second: 4047.4370, train_label_loss: 0.2725, \n"
     ]
    },
    {
     "name": "stdout",
     "output_type": "stream",
     "text": [
      "epoch: 7, [batch: 8820 / 12600], examples_per_second: 3990.8746, train_label_loss: 0.3674, \n"
     ]
    },
    {
     "name": "stdout",
     "output_type": "stream",
     "text": [
      "epoch: 7, [batch: 10080 / 12600], examples_per_second: 3940.3542, train_label_loss: 0.5347, \n"
     ]
    },
    {
     "name": "stdout",
     "output_type": "stream",
     "text": [
      "epoch: 7, [batch: 11340 / 12600], examples_per_second: 3996.9193, train_label_loss: 0.2066, \n"
     ]
    },
    {
     "name": "stdout",
     "output_type": "stream",
     "text": [
      "=============================================================\n",
      "epoch: 7, source_val_acc_label: 0.7093, target_val_acc_label: 0.5875, source_val_label_loss: 0.8484, target_val_label_loss: 1.3500, \n",
      "=============================================================\n"
     ]
    },
    {
     "name": "stdout",
     "output_type": "stream",
     "text": [
      "epoch: 8, [batch: 1 / 12600], examples_per_second: 1.9006, train_label_loss: 0.3334, \n"
     ]
    },
    {
     "name": "stdout",
     "output_type": "stream",
     "text": [
      "epoch: 8, [batch: 1260 / 12600], examples_per_second: 3885.4606, train_label_loss: 0.4529, \n"
     ]
    },
    {
     "name": "stdout",
     "output_type": "stream",
     "text": [
      "epoch: 8, [batch: 2520 / 12600], examples_per_second: 3880.5254, train_label_loss: 0.4154, \n"
     ]
    },
    {
     "name": "stdout",
     "output_type": "stream",
     "text": [
      "epoch: 8, [batch: 3780 / 12600], examples_per_second: 3818.2362, train_label_loss: 0.4671, \n"
     ]
    },
    {
     "name": "stdout",
     "output_type": "stream",
     "text": [
      "epoch: 8, [batch: 5040 / 12600], examples_per_second: 3887.0515, train_label_loss: 0.7425, \n"
     ]
    },
    {
     "name": "stdout",
     "output_type": "stream",
     "text": [
      "epoch: 8, [batch: 6300 / 12600], examples_per_second: 3939.4579, train_label_loss: 0.2697, \n"
     ]
    },
    {
     "name": "stdout",
     "output_type": "stream",
     "text": [
      "epoch: 8, [batch: 7560 / 12600], examples_per_second: 3932.6988, train_label_loss: 0.5834, \n"
     ]
    },
    {
     "name": "stdout",
     "output_type": "stream",
     "text": [
      "epoch: 8, [batch: 8820 / 12600], examples_per_second: 4006.7507, train_label_loss: 0.4063, \n"
     ]
    },
    {
     "name": "stdout",
     "output_type": "stream",
     "text": [
      "epoch: 8, [batch: 10080 / 12600], examples_per_second: 3950.5502, train_label_loss: 0.4321, \n"
     ]
    },
    {
     "name": "stdout",
     "output_type": "stream",
     "text": [
      "epoch: 8, [batch: 11340 / 12600], examples_per_second: 3970.7332, train_label_loss: 0.1673, \n"
     ]
    },
    {
     "name": "stdout",
     "output_type": "stream",
     "text": [
      "=============================================================\n",
      "epoch: 8, source_val_acc_label: 0.7128, target_val_acc_label: 0.5872, source_val_label_loss: 0.8779, target_val_label_loss: 1.4145, \n",
      "=============================================================\n"
     ]
    },
    {
     "name": "stdout",
     "output_type": "stream",
     "text": [
      "epoch: 9, [batch: 1 / 12600], examples_per_second: 1.9084, train_label_loss: 0.1145, \n"
     ]
    },
    {
     "name": "stdout",
     "output_type": "stream",
     "text": [
      "epoch: 9, [batch: 1260 / 12600], examples_per_second: 3880.1540, train_label_loss: 0.3126, \n"
     ]
    },
    {
     "name": "stdout",
     "output_type": "stream",
     "text": [
      "epoch: 9, [batch: 2520 / 12600], examples_per_second: 3842.9662, train_label_loss: 0.3874, \n"
     ]
    },
    {
     "name": "stdout",
     "output_type": "stream",
     "text": [
      "epoch: 9, [batch: 3780 / 12600], examples_per_second: 3892.6213, train_label_loss: 0.3733, \n"
     ]
    },
    {
     "name": "stdout",
     "output_type": "stream",
     "text": [
      "epoch: 9, [batch: 5040 / 12600], examples_per_second: 3885.9883, train_label_loss: 0.4165, \n"
     ]
    },
    {
     "name": "stdout",
     "output_type": "stream",
     "text": [
      "epoch: 9, [batch: 6300 / 12600], examples_per_second: 3836.1321, train_label_loss: 0.4882, \n"
     ]
    },
    {
     "name": "stdout",
     "output_type": "stream",
     "text": [
      "epoch: 9, [batch: 7560 / 12600], examples_per_second: 3958.8145, train_label_loss: 0.6598, \n"
     ]
    },
    {
     "name": "stdout",
     "output_type": "stream",
     "text": [
      "epoch: 9, [batch: 8820 / 12600], examples_per_second: 3962.9136, train_label_loss: 0.2624, \n"
     ]
    },
    {
     "name": "stdout",
     "output_type": "stream",
     "text": [
      "epoch: 9, [batch: 10080 / 12600], examples_per_second: 3930.0262, train_label_loss: 0.1312, \n"
     ]
    },
    {
     "name": "stdout",
     "output_type": "stream",
     "text": [
      "epoch: 9, [batch: 11340 / 12600], examples_per_second: 3957.3828, train_label_loss: 0.2706, \n"
     ]
    },
    {
     "name": "stdout",
     "output_type": "stream",
     "text": [
      "=============================================================\n",
      "epoch: 9, source_val_acc_label: 0.7106, target_val_acc_label: 0.5834, source_val_label_loss: 0.9093, target_val_label_loss: 1.4501, \n",
      "=============================================================\n"
     ]
    },
    {
     "name": "stdout",
     "output_type": "stream",
     "text": [
      "epoch: 10, [batch: 1 / 12600], examples_per_second: 1.9282, train_label_loss: 0.1920, \n"
     ]
    },
    {
     "name": "stdout",
     "output_type": "stream",
     "text": [
      "epoch: 10, [batch: 1260 / 12600], examples_per_second: 1703.9096, train_label_loss: 0.2437, \n"
     ]
    },
    {
     "name": "stdout",
     "output_type": "stream",
     "text": [
      "epoch: 10, [batch: 2520 / 12600], examples_per_second: 1905.6952, train_label_loss: 0.5539, \n"
     ]
    },
    {
     "name": "stdout",
     "output_type": "stream",
     "text": [
      "epoch: 10, [batch: 3780 / 12600], examples_per_second: 1715.3090, train_label_loss: 0.2119, \n"
     ]
    },
    {
     "name": "stdout",
     "output_type": "stream",
     "text": [
      "epoch: 10, [batch: 5040 / 12600], examples_per_second: 1823.9349, train_label_loss: 0.2089, \n"
     ]
    },
    {
     "name": "stdout",
     "output_type": "stream",
     "text": [
      "epoch: 10, [batch: 6300 / 12600], examples_per_second: 1858.7563, train_label_loss: 0.1375, \n"
     ]
    },
    {
     "name": "stdout",
     "output_type": "stream",
     "text": [
      "epoch: 10, [batch: 7560 / 12600], examples_per_second: 1687.0805, train_label_loss: 0.3372, \n"
     ]
    },
    {
     "name": "stdout",
     "output_type": "stream",
     "text": [
      "epoch: 10, [batch: 8820 / 12600], examples_per_second: 1836.2699, train_label_loss: 0.3015, \n"
     ]
    },
    {
     "name": "stdout",
     "output_type": "stream",
     "text": [
      "epoch: 10, [batch: 10080 / 12600], examples_per_second: 1677.3621, train_label_loss: 0.2958, \n"
     ]
    },
    {
     "name": "stdout",
     "output_type": "stream",
     "text": [
      "epoch: 10, [batch: 11340 / 12600], examples_per_second: 1854.2163, train_label_loss: 0.2475, \n"
     ]
    },
    {
     "name": "stdout",
     "output_type": "stream",
     "text": [
      "=============================================================\n",
      "epoch: 10, source_val_acc_label: 0.7034, target_val_acc_label: 0.5833, source_val_label_loss: 0.9556, target_val_label_loss: 1.4819, \n",
      "=============================================================\n"
     ]
    },
    {
     "name": "stdout",
     "output_type": "stream",
     "text": [
      "Patience (3) exhausted\n"
     ]
    }
   ],
   "source": [
    "###################################\n",
    "# train\n",
    "###################################\n",
    "jig = PTN_Train_Eval_Test_Jig(model, p.BEST_MODEL_PATH, p.device)\n",
    "\n",
    "jig.train(\n",
    "    train_iterable=datasets.source.processed.train,\n",
    "    source_val_iterable=datasets.source.processed.val,\n",
    "    target_val_iterable=datasets.target.processed.val,\n",
    "    num_epochs=p.n_epoch,\n",
    "    num_logs_per_epoch=p.NUM_LOGS_PER_EPOCH,\n",
    "    patience=p.patience,\n",
    "    optimizer=optimizer,\n",
    "    criteria_for_best=p.criteria_for_best,\n",
    ")"
   ]
  },
  {
   "cell_type": "code",
   "execution_count": 14,
   "id": "31e8fabf",
   "metadata": {
    "execution": {
     "iopub.execute_input": "2022-03-26T18:42:58.965157Z",
     "iopub.status.busy": "2022-03-26T18:42:58.964515Z",
     "iopub.status.idle": "2022-03-26T18:42:59.000065Z",
     "shell.execute_reply": "2022-03-26T18:42:58.999179Z"
    },
    "papermill": {
     "duration": 0.091833,
     "end_time": "2022-03-26T18:42:59.000238",
     "exception": false,
     "start_time": "2022-03-26T18:42:58.908405",
     "status": "completed"
    },
    "tags": []
   },
   "outputs": [],
   "source": [
    "total_experiment_time_secs = time.time() - start_time_secs"
   ]
  },
  {
   "cell_type": "code",
   "execution_count": 15,
   "id": "87b9595b",
   "metadata": {
    "execution": {
     "iopub.execute_input": "2022-03-26T18:42:59.109157Z",
     "iopub.status.busy": "2022-03-26T18:42:59.108485Z",
     "iopub.status.idle": "2022-03-26T18:57:06.591769Z",
     "shell.execute_reply": "2022-03-26T18:57:06.587576Z"
    },
    "papermill": {
     "duration": 847.537671,
     "end_time": "2022-03-26T18:57:06.591979",
     "exception": false,
     "start_time": "2022-03-26T18:42:59.054308",
     "status": "completed"
    },
    "tags": []
   },
   "outputs": [],
   "source": [
    "###################################\n",
    "# Evaluate the model\n",
    "###################################\n",
    "source_test_label_accuracy, source_test_label_loss = jig.test(datasets.source.processed.test)\n",
    "target_test_label_accuracy, target_test_label_loss = jig.test(datasets.target.processed.test)\n",
    "\n",
    "source_val_label_accuracy, source_val_label_loss = jig.test(datasets.source.processed.val)\n",
    "target_val_label_accuracy, target_val_label_loss = jig.test(datasets.target.processed.val)\n",
    "\n",
    "history = jig.get_history()\n",
    "\n",
    "total_epochs_trained = len(history[\"epoch_indices\"])\n",
    "\n",
    "val_dl = Iterable_Aggregator((datasets.source.original.val,datasets.target.original.val))\n",
    "\n",
    "confusion = ptn_confusion_by_domain_over_dataloader(model, p.device, val_dl)\n",
    "per_domain_accuracy = per_domain_accuracy_from_confusion(confusion)\n",
    "\n",
    "# Add a key to per_domain_accuracy for if it was a source domain\n",
    "for domain, accuracy in per_domain_accuracy.items():\n",
    "    per_domain_accuracy[domain] = {\n",
    "        \"accuracy\": accuracy,\n",
    "        \"source?\": domain in p.domains_source\n",
    "    }\n",
    "\n",
    "# Do an independent accuracy assesment JUST TO BE SURE!\n",
    "# _source_test_label_accuracy = independent_accuracy_assesment(model, datasets.source.processed.test, p.device)\n",
    "# _target_test_label_accuracy = independent_accuracy_assesment(model, datasets.target.processed.test, p.device)\n",
    "# _source_val_label_accuracy = independent_accuracy_assesment(model, datasets.source.processed.val, p.device)\n",
    "# _target_val_label_accuracy = independent_accuracy_assesment(model, datasets.target.processed.val, p.device)\n",
    "\n",
    "# assert(_source_test_label_accuracy == source_test_label_accuracy)\n",
    "# assert(_target_test_label_accuracy == target_test_label_accuracy)\n",
    "# assert(_source_val_label_accuracy == source_val_label_accuracy)\n",
    "# assert(_target_val_label_accuracy == target_val_label_accuracy)\n",
    "\n",
    "experiment = {\n",
    "    \"experiment_name\": p.experiment_name,\n",
    "    \"parameters\": dict(p),\n",
    "    \"results\": {\n",
    "        \"source_test_label_accuracy\": source_test_label_accuracy,\n",
    "        \"source_test_label_loss\": source_test_label_loss,\n",
    "        \"target_test_label_accuracy\": target_test_label_accuracy,\n",
    "        \"target_test_label_loss\": target_test_label_loss,\n",
    "        \"source_val_label_accuracy\": source_val_label_accuracy,\n",
    "        \"source_val_label_loss\": source_val_label_loss,\n",
    "        \"target_val_label_accuracy\": target_val_label_accuracy,\n",
    "        \"target_val_label_loss\": target_val_label_loss,\n",
    "        \"total_epochs_trained\": total_epochs_trained,\n",
    "        \"total_experiment_time_secs\": total_experiment_time_secs,\n",
    "        \"confusion\": confusion,\n",
    "        \"per_domain_accuracy\": per_domain_accuracy,\n",
    "    },\n",
    "    \"history\": history,\n",
    "    \"dataset_metrics\": get_dataset_metrics(datasets, \"ptn\"),\n",
    "}"
   ]
  },
  {
   "cell_type": "code",
   "execution_count": 16,
   "id": "54a21829",
   "metadata": {
    "execution": {
     "iopub.execute_input": "2022-03-26T18:57:06.708392Z",
     "iopub.status.busy": "2022-03-26T18:57:06.707913Z",
     "iopub.status.idle": "2022-03-26T18:57:07.195072Z",
     "shell.execute_reply": "2022-03-26T18:57:07.195811Z"
    },
    "papermill": {
     "duration": 0.544724,
     "end_time": "2022-03-26T18:57:07.196007",
     "exception": false,
     "start_time": "2022-03-26T18:57:06.651283",
     "status": "completed"
    },
    "tags": []
   },
   "outputs": [
    {
     "data": {
      "image/png": "[encoded data removed]",
      "text/plain": [
       "<Figure size 1080x504 with 1 Axes>"
      ]
     },
     "metadata": {
      "needs_background": "light"
     },
     "output_type": "display_data"
    }
   ],
   "source": [
    "ax = get_loss_curve(experiment)\n",
    "plt.show()"
   ]
  },
  {
   "cell_type": "code",
   "execution_count": 17,
   "id": "fd8a0f60",
   "metadata": {
    "execution": {
     "iopub.execute_input": "2022-03-26T18:57:07.309304Z",
     "iopub.status.busy": "2022-03-26T18:57:07.308928Z",
     "iopub.status.idle": "2022-03-26T18:57:07.682201Z",
     "shell.execute_reply": "2022-03-26T18:57:07.682895Z"
    },
    "papermill": {
     "duration": 0.42906,
     "end_time": "2022-03-26T18:57:07.683084",
     "exception": false,
     "start_time": "2022-03-26T18:57:07.254024",
     "status": "completed"
    },
    "tags": []
   },
   "outputs": [
    {
     "data": {
      "text/plain": [
       "<AxesSubplot:title={'center':'Results'}>"
      ]
     },
     "execution_count": 17,
     "metadata": {},
     "output_type": "execute_result"
    },
    {
     "data": {
      "image/png": "[encoded data removed]",
      "text/plain": [
       "<Figure size 1080x504 with 1 Axes>"
      ]
     },
     "metadata": {
      "needs_background": "light"
     },
     "output_type": "display_data"
    }
   ],
   "source": [
    "get_results_table(experiment)"
   ]
  },
  {
   "cell_type": "code",
   "execution_count": 18,
   "id": "cf8dc689",
   "metadata": {
    "execution": {
     "iopub.execute_input": "2022-03-26T18:57:07.798247Z",
     "iopub.status.busy": "2022-03-26T18:57:07.797874Z",
     "iopub.status.idle": "2022-03-26T18:57:08.078330Z",
     "shell.execute_reply": "2022-03-26T18:57:08.079024Z"
    },
    "papermill": {
     "duration": 0.339964,
     "end_time": "2022-03-26T18:57:08.079209",
     "exception": false,
     "start_time": "2022-03-26T18:57:07.739245",
     "status": "completed"
    },
    "tags": []
   },
   "outputs": [
    {
     "data": {
      "text/plain": [
       "<AxesSubplot:title={'center':'Per Domain Validation Accuracy'}, xlabel='domain'>"
      ]
     },
     "execution_count": 18,
     "metadata": {},
     "output_type": "execute_result"
    },
    {
     "data": {
      "image/png": "[encoded data removed]",
      "text/plain": [
       "<Figure size 1080x504 with 1 Axes>"
      ]
     },
     "metadata": {
      "needs_background": "light"
     },
     "output_type": "display_data"
    }
   ],
   "source": [
    "get_domain_accuracies(experiment)"
   ]
  },
  {
   "cell_type": "code",
   "execution_count": 19,
   "id": "a74ae082",
   "metadata": {
    "execution": {
     "iopub.execute_input": "2022-03-26T18:57:08.193715Z",
     "iopub.status.busy": "2022-03-26T18:57:08.193335Z",
     "iopub.status.idle": "2022-03-26T18:57:08.217347Z",
     "shell.execute_reply": "2022-03-26T18:57:08.216630Z"
    },
    "papermill": {
     "duration": 0.08033,
     "end_time": "2022-03-26T18:57:08.217503",
     "exception": false,
     "start_time": "2022-03-26T18:57:08.137173",
     "status": "completed"
    },
    "tags": []
   },
   "outputs": [
    {
     "name": "stdout",
     "output_type": "stream",
     "text": [
      "Source Test Label Accuracy: 0.7115798611111112 Target Test Label Accuracy: 0.59253125\n",
      "Source Val Label Accuracy: 0.7136979166666667 Target Val Label Accuracy: 0.5887604166666667\n"
     ]
    }
   ],
   "source": [
    "print(\"Source Test Label Accuracy:\", experiment[\"results\"][\"source_test_label_accuracy\"], \"Target Test Label Accuracy:\", experiment[\"results\"][\"target_test_label_accuracy\"])\n",
    "print(\"Source Val Label Accuracy:\", experiment[\"results\"][\"source_val_label_accuracy\"], \"Target Val Label Accuracy:\", experiment[\"results\"][\"target_val_label_accuracy\"])"
   ]
  },
  {
   "cell_type": "code",
   "execution_count": 20,
   "id": "dacca602",
   "metadata": {
    "execution": {
     "iopub.execute_input": "2022-03-26T18:57:08.332925Z",
     "iopub.status.busy": "2022-03-26T18:57:08.332364Z",
     "iopub.status.idle": "2022-03-26T18:57:08.357170Z",
     "shell.execute_reply": "2022-03-26T18:57:08.357853Z"
    },
    "papermill": {
     "duration": 0.082282,
     "end_time": "2022-03-26T18:57:08.358035",
     "exception": false,
     "start_time": "2022-03-26T18:57:08.275753",
     "status": "completed"
    },
    "tags": [
     "experiment_json"
    ]
   },
   "outputs": [
    {
     "data": {
      "text/plain": [
       "'{\"experiment_name\": \"tuned_1v2:oracle.run2_limited\", \"parameters\": {\"experiment_name\": \"tuned_1v2:oracle.run2_limited\", \"device\": \"cuda\", \"lr\": 0.0001, \"labels_source\": [\"3123D52\", \"3123D65\", \"3123D79\", \"3123D80\", \"3123D54\", \"3123D70\", \"3123D7B\", \"3123D89\", \"3123D58\", \"3123D76\", \"3123D7D\", \"3123EFE\", \"3123D64\", \"3123D78\", \"3123D7E\", \"3124E4A\"], \"labels_target\": [\"3123D52\", \"3123D65\", \"3123D79\", \"3123D80\", \"3123D54\", \"3123D70\", \"3123D7B\", \"3123D89\", \"3123D58\", \"3123D76\", \"3123D7D\", \"3123EFE\", \"3123D64\", \"3123D78\", \"3123D7E\", \"3124E4A\"], \"episode_transforms_source\": [], \"episode_transforms_target\": [], \"domains_source\": [8, 32, 50], \"domains_target\": [14, 20, 26, 38, 44], \"num_examples_per_domain_per_label_source\": -1, \"num_examples_per_domain_per_label_target\": -1, \"n_shot\": 3, \"n_way\": 16, \"n_query\": 2, \"train_k_factor\": 3, \"val_k_factor\": 2, \"test_k_factor\": 2, \"torch_default_dtype\": \"torch.float32\", \"n_epoch\": 50, \"patience\": 3, \"criteria_for_best\": \"target_accuracy\", \"x_net\": [{\"class\": \"nnReshape\", \"kargs\": {\"shape\": [-1, 1, 2, 256]}}, {\"class\": \"Conv2d\", \"kargs\": {\"in_channels\": 1, \"out_channels\": 256, \"kernel_size\": [1, 7], \"bias\": false, \"padding\": [0, 3]}}, {\"class\": \"ReLU\", \"kargs\": {\"inplace\": true}}, {\"class\": \"BatchNorm2d\", \"kargs\": {\"num_features\": 256}}, {\"class\": \"Conv2d\", \"kargs\": {\"in_channels\": 256, \"out_channels\": 80, \"kernel_size\": [2, 7], \"bias\": true, \"padding\": [0, 3]}}, {\"class\": \"ReLU\", \"kargs\": {\"inplace\": true}}, {\"class\": \"BatchNorm2d\", \"kargs\": {\"num_features\": 80}}, {\"class\": \"Flatten\", \"kargs\": {}}, {\"class\": \"Linear\", \"kargs\": {\"in_features\": 20480, \"out_features\": 256}}, {\"class\": \"ReLU\", \"kargs\": {\"inplace\": true}}, {\"class\": \"BatchNorm1d\", \"kargs\": {\"num_features\": 256}}, {\"class\": \"Linear\", \"kargs\": {\"in_features\": 256, \"out_features\": 256}}], \"NUM_LOGS_PER_EPOCH\": 10, \"BEST_MODEL_PATH\": \"./best_model.pth\", \"pickle_name\": \"oracle.Run2_10kExamples_stratified_ds.2022A.pkl\", \"x_transforms_source\": [\"unit_power\"], \"x_transforms_target\": [\"unit_power\"], \"dataset_seed\": 420, \"seed\": 420}, \"results\": {\"source_test_label_accuracy\": 0.7115798611111112, \"source_test_label_loss\": 0.8157394528388977, \"target_test_label_accuracy\": 0.59253125, \"target_test_label_loss\": 1.2808055877685547, \"source_val_label_accuracy\": 0.7136979166666667, \"source_val_label_loss\": 0.8043469190597534, \"target_val_label_accuracy\": 0.5887604166666667, \"target_val_label_loss\": 1.2913768291473389, \"total_epochs_trained\": 10, \"total_experiment_time_secs\": 3585.8779077529907, \"confusion\": {\"8\": {\"15\": {\"15\": 649, \"12\": 195, \"8\": 124, \"11\": 200, \"3\": 15, \"7\": 9, \"2\": 4, \"6\": 2, \"13\": 1, \"4\": 1}, \"5\": {\"1\": 48, \"5\": 938, \"10\": 204, \"13\": 8, \"0\": 2}, \"7\": {\"6\": 193, \"2\": 187, \"4\": 290, \"7\": 507, \"0\": 1, \"8\": 14, \"14\": 4, \"15\": 4}, \"4\": {\"4\": 431, \"7\": 279, \"6\": 369, \"2\": 96, \"14\": 17, \"15\": 1, \"8\": 6, \"0\": 1}, \"10\": {\"10\": 752, \"5\": 136, \"0\": 194, \"14\": 36, \"13\": 54, \"1\": 28}, \"11\": {\"8\": 269, \"11\": 601, \"12\": 103, \"15\": 222, \"6\": 3, \"4\": 1, \"7\": 1}, \"12\": {\"12\": 859, \"15\": 125, \"3\": 176, \"11\": 40}, \"0\": {\"0\": 765, \"10\": 165, \"14\": 236, \"13\": 20, \"6\": 4, \"4\": 7, \"5\": 3}, \"14\": {\"14\": 718, \"0\": 203, \"13\": 175, \"10\": 28, \"4\": 18, \"6\": 56, \"7\": 1, \"1\": 1}, \"8\": {\"7\": 11, \"8\": 958, \"11\": 135, \"15\": 83, \"6\": 9, \"2\": 1, \"4\": 1, \"13\": 2}, \"13\": {\"13\": 767, \"0\": 15, \"1\": 115, \"14\": 211, \"10\": 78, \"5\": 2, \"6\": 8, \"8\": 3, \"4\": 1}, \"6\": {\"14\": 66, \"4\": 334, \"6\": 540, \"7\": 228, \"2\": 21, \"8\": 8, \"13\": 2, \"0\": 1}, \"1\": {\"13\": 144, \"1\": 989, \"5\": 47, \"10\": 19, \"14\": 1}, \"3\": {\"3\": 1010, \"12\": 185, \"15\": 5}, \"9\": {\"9\": 1200}, \"2\": {\"2\": 912, \"4\": 108, \"7\": 164, \"15\": 1, \"6\": 15}}, \"50\": {\"4\": {\"4\": 577, \"6\": 245, \"5\": 313, \"1\": 43, \"7\": 10, \"0\": 1, \"13\": 4, \"10\": 7}, \"10\": {\"10\": 854, \"5\": 79, \"13\": 178, \"7\": 66, \"0\": 20, \"4\": 3}, \"15\": {\"15\": 1041, \"1\": 89, \"11\": 60, \"6\": 10}, \"0\": {\"0\": 1074, \"2\": 84, \"5\": 8, \"10\": 28, \"1\": 4, \"6\": 2}, \"6\": {\"1\": 327, \"6\": 589, \"4\": 227, \"5\": 42, \"0\": 4, \"15\": 10, \"10\": 1}, \"3\": {\"3\": 1152, \"8\": 48}, \"7\": {\"7\": 532, \"13\": 454, \"5\": 117, \"10\": 89, \"4\": 8}, \"2\": {\"2\": 1140, \"0\": 60}, \"8\": {\"8\": 1171, \"3\": 29}, \"11\": {\"11\": 1095, \"14\": 31, \"15\": 38, \"9\": 21, \"12\": 15}, \"14\": {\"14\": 1143, \"11\": 23, \"12\": 34}, \"12\": {\"12\": 1086, \"14\": 50, \"9\": 54, \"11\": 10}, \"13\": {\"13\": 530, \"7\": 482, \"10\": 136, \"5\": 48, \"4\": 4}, \"9\": {\"9\": 1094, \"12\": 74, \"11\": 32}, \"5\": {\"4\": 308, \"5\": 623, \"10\": 83, \"13\": 55, \"7\": 70, \"0\": 4, \"6\": 53, \"1\": 4}, \"1\": {\"15\": 71, \"1\": 860, \"6\": 247, \"14\": 2, \"4\": 18, \"2\": 2}}, \"32\": {\"7\": {\"7\": 627, \"11\": 307, \"13\": 141, \"4\": 81, \"0\": 22, \"2\": 13, \"5\": 6, \"3\": 2, \"8\": 1}, \"2\": {\"2\": 863, \"5\": 70, \"0\": 47, \"14\": 135, \"11\": 43, \"7\": 15, \"4\": 26, \"13\": 1}, \"5\": {\"4\": 131, \"8\": 194, \"11\": 24, \"5\": 406, \"0\": 216, \"2\": 92, \"13\": 55, \"14\": 66, \"7\": 10, \"3\": 4, \"15\": 2}, \"6\": {\"6\": 1200}, \"13\": {\"7\": 126, \"13\": 580, \"4\": 213, \"0\": 57, \"8\": 68, \"3\": 28, \"11\": 96, \"5\": 32}, \"4\": {\"5\": 141, \"11\": 99, \"7\": 87, \"0\": 184, \"13\": 197, \"4\": 414, \"3\": 3, \"8\": 64, \"2\": 11}, \"3\": {\"3\": 1142, \"8\": 17, \"13\": 37, \"7\": 3, \"4\": 1}, \"0\": {\"4\": 195, \"0\": 457, \"5\": 203, \"13\": 59, \"2\": 56, \"11\": 129, \"7\": 20, \"8\": 69, \"14\": 12}, \"9\": {\"9\": 1158, \"14\": 40, \"12\": 2}, \"12\": {\"12\": 1200}, \"8\": {\"8\": 873, \"13\": 92, \"0\": 52, \"4\": 56, \"5\": 96, \"3\": 14, \"15\": 9, \"11\": 7, \"7\": 1}, \"14\": {\"14\": 945, \"2\": 170, \"0\": 28, \"5\": 46, \"4\": 2, \"11\": 7, \"9\": 2}, \"15\": {\"15\": 1190, \"8\": 10}, \"11\": {\"11\": 502, \"0\": 115, \"2\": 61, \"7\": 299, \"4\": 100, \"13\": 101, \"5\": 18, \"8\": 2, \"3\": 2}, \"10\": {\"10\": 1198, \"1\": 2}, \"1\": {\"1\": 1197, \"10\": 3}}, \"20\": {\"15\": {\"2\": 112, \"13\": 265, \"9\": 143, \"15\": 333, \"5\": 51, \"12\": 120, \"0\": 48, \"1\": 100, \"3\": 25, \"7\": 2, \"4\": 1}, \"5\": {\"12\": 101, \"13\": 27, \"5\": 217, \"3\": 203, \"2\": 184, \"15\": 59, \"1\": 46, \"0\": 82, \"7\": 45, \"9\": 155, \"4\": 63, \"8\": 15, \"10\": 2, \"11\": 1}, \"7\": {\"8\": 144, \"7\": 745, \"2\": 26, \"5\": 30, \"3\": 170, \"9\": 13, \"6\": 25, \"14\": 7, \"10\": 40}, \"4\": {\"12\": 52, \"0\": 80, \"1\": 9, \"7\": 1, \"4\": 934, \"9\": 6, \"2\": 3, \"15\": 1, \"8\": 16, \"10\": 32, \"5\": 40, \"3\": 20, \"14\": 6}, \"10\": {\"10\": 583, \"8\": 249, \"14\": 229, \"4\": 29, \"6\": 29, \"7\": 60, \"3\": 19, \"5\": 1, \"0\": 1}, \"11\": {\"11\": 1198, \"7\": 1, \"13\": 1}, \"12\": {\"9\": 104, \"1\": 213, \"0\": 183, \"12\": 304, \"5\": 116, \"3\": 38, \"15\": 114, \"2\": 54, \"4\": 51, \"13\": 18, \"8\": 4, \"7\": 1}, \"0\": {\"0\": 471, \"12\": 191, \"5\": 69, \"4\": 117, \"15\": 48, \"1\": 233, \"2\": 15, \"8\": 7, \"13\": 6, \"3\": 10, \"9\": 33}, \"14\": {\"14\": 649, \"10\": 245, \"6\": 121, \"8\": 168, \"7\": 11, \"4\": 6}, \"8\": {\"8\": 477, \"14\": 162, \"7\": 160, \"6\": 56, \"10\": 231, \"5\": 10, \"3\": 41, \"4\": 54, \"2\": 3, \"12\": 1, \"9\": 3, \"0\": 2}, \"13\": {\"2\": 73, \"13\": 772, \"15\": 235, \"9\": 49, \"5\": 19, \"1\": 22, \"12\": 23, \"3\": 6, \"0\": 1}, \"6\": {\"6\": 1011, \"7\": 49, \"14\": 83, \"8\": 37, \"10\": 20}, \"1\": {\"0\": 203, \"9\": 28, \"1\": 507, \"12\": 219, \"15\": 145, \"13\": 32, \"5\": 37, \"4\": 9, \"2\": 19, \"3\": 1}, \"3\": {\"9\": 125, \"7\": 153, \"3\": 363, \"2\": 185, \"5\": 198, \"8\": 34, \"4\": 33, \"10\": 21, \"12\": 36, \"15\": 27, \"13\": 16, \"0\": 4, \"1\": 5}, \"9\": {\"7\": 9, \"9\": 243, \"15\": 138, \"2\": 247, \"3\": 121, \"13\": 80, \"5\": 160, \"1\": 31, \"12\": 121, \"0\": 34, \"4\": 14, \"8\": 2}, \"2\": {\"2\": 306, \"9\": 237, \"3\": 177, \"12\": 60, \"5\": 161, \"15\": 115, \"13\": 75, \"7\": 26, \"1\": 13, \"4\": 9, \"0\": 16, \"8\": 3, \"10\": 2}}, \"26\": {\"4\": {\"4\": 598, \"8\": 71, \"3\": 60, \"14\": 61, \"2\": 103, \"7\": 83, \"0\": 119, \"10\": 27, \"1\": 10, \"15\": 61, \"9\": 6, \"5\": 1}, \"10\": {\"10\": 337, \"4\": 74, \"1\": 193, \"8\": 77, \"0\": 168, \"14\": 184, \"6\": 99, \"7\": 18, \"9\": 24, \"2\": 15, \"12\": 5, \"5\": 3, \"3\": 2, \"15\": 1}, \"15\": {\"2\": 187, \"3\": 391, \"7\": 116, \"15\": 418, \"4\": 62, \"5\": 6, \"0\": 1, \"9\": 4, \"8\": 13, \"10\": 1, \"13\": 1}, \"0\": {\"10\": 131, \"1\": 201, \"14\": 245, \"4\": 159, \"0\": 297, \"8\": 105, \"7\": 20, \"5\": 2, \"9\": 12, \"2\": 14, \"6\": 7, \"3\": 5, \"15\": 2}, \"6\": {\"6\": 763, \"5\": 73, \"8\": 58, \"13\": 82, \"10\": 88, \"9\": 105, \"14\": 16, \"1\": 7, \"0\": 7, \"7\": 1}, \"3\": {\"3\": 455, \"2\": 149, \"15\": 375, \"4\": 97, \"7\": 113, \"0\": 1, \"5\": 3, \"8\": 6, \"9\": 1}, \"7\": {\"2\": 302, \"7\": 304, \"15\": 106, \"3\": 90, \"0\": 16, \"8\": 116, \"4\": 117, \"9\": 79, \"14\": 4, \"13\": 7, \"5\": 53, \"10\": 5, \"6\": 1}, \"2\": {\"2\": 307, \"15\": 150, \"8\": 90, \"9\": 39, \"3\": 124, \"7\": 308, \"4\": 113, \"10\": 6, \"14\": 9, \"5\": 37, \"6\": 1, \"0\": 13, \"13\": 3}, \"8\": {\"8\": 340, \"14\": 120, \"9\": 175, \"0\": 97, \"7\": 94, \"4\": 86, \"2\": 80, \"10\": 82, \"15\": 4, \"5\": 49, \"13\": 10, \"6\": 36, \"1\": 21, \"3\": 6}, \"11\": {\"11\": 1196, \"12\": 4}, \"14\": {\"14\": 293, \"1\": 272, \"8\": 88, \"0\": 241, \"10\": 201, \"6\": 15, \"7\": 10, \"4\": 61, \"2\": 5, \"9\": 12, \"3\": 1, \"5\": 1}, \"12\": {\"12\": 1196, \"11\": 4}, \"13\": {\"5\": 254, \"13\": 745, \"9\": 122, \"8\": 14, \"2\": 5, \"6\": 54, \"7\": 5, \"10\": 1}, \"9\": {\"9\": 406, \"7\": 77, \"8\": 185, \"10\": 24, \"0\": 13, \"13\": 137, \"6\": 123, \"5\": 179, \"15\": 6, \"14\": 10, \"2\": 33, \"3\": 2, \"4\": 5}, \"5\": {\"5\": 319, \"13\": 263, \"6\": 153, \"7\": 95, \"9\": 185, \"8\": 36, \"2\": 97, \"10\": 5, \"15\": 25, \"3\": 19, \"1\": 2, \"4\": 1}, \"1\": {\"1\": 539, \"0\": 169, \"10\": 153, \"14\": 272, \"8\": 29, \"4\": 24, \"2\": 1, \"6\": 11, \"5\": 1, \"9\": 1}}, \"38\": {\"7\": {\"7\": 515, \"10\": 409, \"5\": 121, \"3\": 30, \"8\": 94, \"13\": 23, \"0\": 3, \"15\": 4, \"12\": 1}, \"2\": {\"2\": 1041, \"14\": 156, \"11\": 2, \"12\": 1}, \"5\": {\"8\": 303, \"15\": 125, \"5\": 411, \"10\": 44, \"7\": 112, \"3\": 29, \"6\": 3, \"13\": 168, \"1\": 4, \"0\": 1}, \"6\": {\"6\": 800, \"9\": 379, \"3\": 15, \"0\": 6}, \"13\": {\"8\": 178, \"15\": 264, \"13\": 259, \"1\": 114, \"7\": 27, \"3\": 86, \"14\": 11, \"5\": 170, \"10\": 28, \"2\": 20, \"6\": 25, \"9\": 3, \"0\": 15}, \"4\": {\"4\": 1076, \"12\": 118, \"10\": 4, \"11\": 1, \"7\": 1}, \"3\": {\"8\": 79, \"3\": 321, \"0\": 331, \"9\": 54, \"15\": 99, \"6\": 71, \"13\": 74, \"7\": 62, \"10\": 53, \"5\": 47, \"1\": 9}, \"0\": {\"3\": 282, \"0\": 861, \"10\": 17, \"9\": 17, \"6\": 7, \"7\": 4, \"15\": 4, \"8\": 4, \"13\": 4}, \"9\": {\"9\": 763, \"6\": 425, \"3\": 9, \"15\": 1, \"0\": 2}, \"12\": {\"12\": 1115, \"14\": 30, \"4\": 45, \"11\": 10}, \"8\": {\"5\": 328, \"8\": 337, \"7\": 113, \"13\": 161, \"3\": 37, \"15\": 187, \"10\": 31, \"1\": 6}, \"14\": {\"14\": 622, \"2\": 270, \"11\": 134, \"12\": 129, \"5\": 13, \"7\": 22, \"10\": 2, \"13\": 3, \"4\": 2, \"8\": 2, \"3\": 1}, \"15\": {\"15\": 384, \"8\": 181, \"13\": 259, \"5\": 139, \"1\": 99, \"3\": 107, \"10\": 4, \"6\": 14, \"0\": 5, \"7\": 7, \"9\": 1}, \"11\": {\"11\": 939, \"14\": 130, \"2\": 16, \"12\": 109, \"4\": 6}, \"10\": {\"7\": 415, \"10\": 594, \"8\": 51, \"3\": 48, \"5\": 50, \"15\": 8, \"0\": 18, \"13\": 12, \"12\": 2, \"4\": 2}, \"1\": {\"1\": 1076, \"13\": 43, \"15\": 66, \"8\": 7, \"5\": 5, \"6\": 3}}, \"14\": {\"11\": {\"11\": 1122, \"10\": 30, \"12\": 42, \"9\": 3, \"0\": 3}, \"7\": {\"7\": 1153, \"15\": 44, \"1\": 3}, \"6\": {\"6\": 664, \"2\": 75, \"13\": 277, \"14\": 177, \"5\": 3, \"4\": 4}, \"12\": {\"12\": 579, \"11\": 349, \"9\": 106, \"10\": 48, \"0\": 77, \"8\": 39, \"3\": 2}, \"4\": {\"5\": 347, \"14\": 15, \"1\": 69, \"4\": 535, \"2\": 91, \"3\": 138, \"6\": 4, \"13\": 1}, \"13\": {\"6\": 322, \"13\": 765, \"2\": 87, \"14\": 23, \"5\": 1, \"4\": 2}, \"8\": {\"8\": 1199, \"1\": 1}, \"5\": {\"4\": 371, \"5\": 500, \"3\": 79, \"2\": 108, \"1\": 129, \"6\": 4, \"14\": 8, \"13\": 1}, \"14\": {\"6\": 231, \"14\": 714, \"0\": 19, \"5\": 11, \"4\": 18, \"2\": 119, \"3\": 61, \"13\": 26, \"10\": 1}, \"3\": {\"3\": 831, \"5\": 81, \"14\": 60, \"4\": 182, \"2\": 31, \"1\": 13, \"0\": 2}, \"10\": {\"10\": 989, \"0\": 174, \"11\": 34, \"14\": 3}, \"1\": {\"3\": 3, \"1\": 1021, \"5\": 126, \"4\": 46, \"7\": 2, \"2\": 2}, \"2\": {\"7\": 4, \"6\": 88, \"2\": 449, \"5\": 144, \"14\": 143, \"3\": 73, \"4\": 134, \"13\": 145, \"0\": 3, \"15\": 13, \"1\": 4}, \"15\": {\"15\": 1126, \"7\": 74}, \"9\": {\"9\": 1187, \"12\": 9, \"0\": 1, \"11\": 3}, \"0\": {\"0\": 1137, \"10\": 50, \"3\": 8, \"9\": 1, \"14\": 4}}, \"44\": {\"10\": {\"10\": 1127, \"12\": 47, \"1\": 26}, \"6\": {\"6\": 1051, \"7\": 28, \"13\": 17, \"2\": 9, \"11\": 45, \"9\": 50}, \"13\": {\"13\": 1117, \"4\": 62, \"6\": 19, \"14\": 2}, \"3\": {\"3\": 976, \"1\": 152, \"12\": 71, \"2\": 1}, \"9\": {\"9\": 450, \"2\": 408, \"7\": 298, \"6\": 36, \"1\": 5, \"11\": 1, \"3\": 1, \"4\": 1}, \"1\": {\"12\": 361, \"1\": 663, \"3\": 168, \"10\": 3, \"7\": 5}, \"5\": {\"5\": 1057, \"14\": 124, \"8\": 8, \"0\": 9, \"15\": 2}, \"11\": {\"11\": 1070, \"6\": 123, \"7\": 6, \"9\": 1}, \"4\": {\"4\": 1060, \"15\": 46, \"14\": 57, \"13\": 37}, \"14\": {\"14\": 859, \"15\": 147, \"5\": 126, \"4\": 64, \"8\": 4}, \"12\": {\"1\": 331, \"12\": 784, \"3\": 70, \"10\": 15}, \"7\": {\"7\": 609, \"2\": 269, \"6\": 14, \"9\": 297, \"1\": 6, \"11\": 3, \"3\": 2}, \"0\": {\"0\": 648, \"8\": 536, \"15\": 8, \"5\": 7, \"14\": 1}, \"15\": {\"15\": 1003, \"14\": 116, \"4\": 62, \"0\": 4, \"5\": 6, \"8\": 9}, \"2\": {\"9\": 327, \"7\": 223, \"2\": 641, \"3\": 5, \"6\": 3, \"1\": 1}, \"8\": {\"0\": 472, \"8\": 695, \"15\": 14, \"14\": 5, \"5\": 14}}}, \"per_domain_accuracy\": {\"8\": {\"accuracy\": 0.6560416666666666, \"source?\": true}, \"50\": {\"accuracy\": 0.7583854166666667, \"source?\": true}, \"32\": {\"accuracy\": 0.7266666666666667, \"source?\": true}, \"20\": {\"accuracy\": 0.47463541666666664, \"source?\": false}, \"26\": {\"accuracy\": 0.44338541666666664, \"source?\": false}, \"38\": {\"accuracy\": 0.5788541666666667, \"source?\": false}, \"14\": {\"accuracy\": 0.72765625, \"source?\": false}, \"44\": {\"accuracy\": 0.7192708333333333, \"source?\": false}}}, \"history\": {\"epoch_indices\": [1, 2, 3, 4, 5, 6, 7, 8, 9, 10], \"train_label_loss\": [1.266359973784004, 0.811402334913848, 0.6905265940524756, 0.6096983719989657, 0.5416619355651358, 0.4778434467017059, 0.4205821465094766, 0.37192595468213163, 0.32581567898392677, 0.2900704074707178], \"source_val_label_loss\": [0.9797596335411072, 0.8269596099853516, 0.7931845784187317, 0.7976403832435608, 0.8068748116493225, 0.8043469190597534, 0.8484228849411011, 0.8779210448265076, 0.9093360304832458, 0.9556222558021545], \"target_val_label_loss\": [1.4052735567092896, 1.2504868507385254, 1.2356653213500977, 1.2411525249481201, 1.2796683311462402, 1.2913768291473389, 1.3500200510025024, 1.4145116806030273, 1.450124979019165, 1.4818636178970337], \"source_val_acc_label\": [0.6297395833333334, 0.6794618055555556, 0.6960763888888889, 0.6947569444444445, 0.7067361111111111, 0.7136979166666667, 0.7093402777777778, 0.7128125, 0.7105902777777777, 0.7034375], \"target_val_acc_label\": [0.5146145833333333, 0.55890625, 0.5713854166666666, 0.5742916666666666, 0.5847083333333334, 0.5887604166666667, 0.58746875, 0.5872291666666667, 0.5833958333333333, 0.58334375]}, \"dataset_metrics\": {\"source\": {\"train\": {\"n_unique_x\": 336000, \"n_unique_y\": 16, \"n_batch/episode\": 12600}, \"val\": {\"n_unique_x\": 72000, \"n_unique_y\": 16, \"n_batch/episode\": 1800}, \"test\": {\"n_unique_x\": 72000, \"n_unique_y\": 16, \"n_batch/episode\": 1800}}, \"target\": {\"train\": {\"n_unique_x\": 560000, \"n_unique_y\": 16, \"n_batch/episode\": 21000}, \"val\": {\"n_unique_x\": 120000, \"n_unique_y\": 16, \"n_batch/episode\": 3000}, \"test\": {\"n_unique_x\": 120000, \"n_unique_y\": 16, \"n_batch/episode\": 3000}}}}'"
      ]
     },
     "execution_count": 20,
     "metadata": {},
     "output_type": "execute_result"
    }
   ],
   "source": [
    "json.dumps(experiment)"
   ]
  }
 ],
 "metadata": {
  "celltoolbar": "Tags",
  "kernelspec": {
   "display_name": "Python 3 (ipykernel)",
   "language": "python",
   "name": "python3"
  },
  "language_info": {
   "codemirror_mode": {
    "name": "ipython",
    "version": 3
   },
   "file_extension": ".py",
   "mimetype": "text/x-python",
   "name": "python",
   "nbconvert_exporter": "python",
   "pygments_lexer": "ipython3",
   "version": "3.8.12"
  },
  "papermill": {
   "default_parameters": {},
   "duration": 4442.209975,
   "end_time": "2022-03-26T18:57:12.072210",
   "environment_variables": {},
   "exception": null,
   "input_path": "/root/csc500-main/csc500-notebooks/templates/ptn_template.ipynb",
   "output_path": "trial.ipynb",
   "parameters": {
    "parameters": {
     "BEST_MODEL_PATH": "./best_model.pth",
     "NUM_LOGS_PER_EPOCH": 10,
     "criteria_for_best": "target_accuracy",
     "dataset_seed": 420,
     "device": "cuda",
     "domains_source": [
      8,
      32,
      50
     ],
     "domains_target": [
      14,
      20,
      26,
      38,
      44
     ],
     "episode_transforms_source": [],
     "episode_transforms_target": [],
     "experiment_name": "tuned_1v2:oracle.run2_limited",
     "labels_source": [
      "3123D52",
      "3123D65",
      "3123D79",
      "3123D80",
      "3123D54",
      "3123D70",
      "3123D7B",
      "3123D89",
      "3123D58",
      "3123D76",
      "3123D7D",
      "3123EFE",
      "3123D64",
      "3123D78",
      "3123D7E",
      "3124E4A"
     ],
     "labels_target": [
      "3123D52",
      "3123D65",
      "3123D79",
      "3123D80",
      "3123D54",
      "3123D70",
      "3123D7B",
      "3123D89",
      "3123D58",
      "3123D76",
      "3123D7D",
      "3123EFE",
      "3123D64",
      "3123D78",
      "3123D7E",
      "3124E4A"
     ],
     "lr": 0.0001,
     "n_epoch": 50,
     "n_query": 2,
     "n_shot": 3,
     "n_way": 16,
     "num_examples_per_domain_per_label_source": -1,
     "num_examples_per_domain_per_label_target": -1,
     "patience": 3,
     "pickle_name": "oracle.Run2_10kExamples_stratified_ds.2022A.pkl",
     "seed": 420,
     "test_k_factor": 2,
     "torch_default_dtype": "torch.float32",
     "train_k_factor": 3,
     "val_k_factor": 2,
     "x_net": [
      {
       "class": "nnReshape",
       "kargs": {
        "shape": [
         -1,
         1,
         2,
         256
        ]
       }
      },
      {
       "class": "Conv2d",
       "kargs": {
        "bias": false,
        "in_channels": 1,
        "kernel_size": [
         1,
         7
        ],
        "out_channels": 256,
        "padding": [
         0,
         3
        ]
       }
      },
      {
       "class": "ReLU",
       "kargs": {
        "inplace": true
       }
      },
      {
       "class": "BatchNorm2d",
       "kargs": {
        "num_features": 256
       }
      },
      {
       "class": "Conv2d",
       "kargs": {
        "bias": true,
        "in_channels": 256,
        "kernel_size": [
         2,
         7
        ],
        "out_channels": 80,
        "padding": [
         0,
         3
        ]
       }
      },
      {
       "class": "ReLU",
       "kargs": {
        "inplace": true
       }
      },
      {
       "class": "BatchNorm2d",
       "kargs": {
        "num_features": 80
       }
      },
      {
       "class": "Flatten",
       "kargs": {}
      },
      {
       "class": "Linear",
       "kargs": {
        "in_features": 20480,
        "out_features": 256
       }
      },
      {
       "class": "ReLU",
       "kargs": {
        "inplace": true
       }
      },
      {
       "class": "BatchNorm1d",
       "kargs": {
        "num_features": 256
       }
      },
      {
       "class": "Linear",
       "kargs": {
        "in_features": 256,
        "out_features": 256
       }
      }
     ],
     "x_transforms_source": [
      "unit_power"
     ],
     "x_transforms_target": [
      "unit_power"
     ]
    }
   },
   "start_time": "2022-03-26T17:43:09.862235",
   "version": "2.3.4"
  }
 },
 "nbformat": 4,
 "nbformat_minor": 5
}