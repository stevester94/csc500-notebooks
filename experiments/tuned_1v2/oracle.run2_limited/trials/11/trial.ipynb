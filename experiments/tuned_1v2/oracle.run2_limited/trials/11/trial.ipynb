{
 "cells": [
  {
   "cell_type": "markdown",
   "id": "9fea5f46",
   "metadata": {
    "papermill": {
     "duration": 0.015047,
     "end_time": "2022-04-01T18:19:34.594616",
     "exception": false,
     "start_time": "2022-04-01T18:19:34.579569",
     "status": "completed"
    },
    "tags": []
   },
   "source": [
    "# PTN Template\n",
    "This notebook serves as a template for single dataset PTN experiments  \n",
    "It can be run on its own by setting STANDALONE to True (do a find for \"STANDALONE\" to see where)  \n",
    "But it is intended to be executed as part of a *papermill.py script. See any of the   \n",
    "experimentes with a papermill script to get started with that workflow.  "
   ]
  },
  {
   "cell_type": "code",
   "execution_count": 1,
   "id": "0902182a",
   "metadata": {
    "execution": {
     "iopub.execute_input": "2022-04-01T18:19:34.627080Z",
     "iopub.status.busy": "2022-04-01T18:19:34.626691Z",
     "iopub.status.idle": "2022-04-01T18:19:35.534157Z",
     "shell.execute_reply": "2022-04-01T18:19:35.533912Z"
    },
    "papermill": {
     "duration": 0.930237,
     "end_time": "2022-04-01T18:19:35.534216",
     "exception": false,
     "start_time": "2022-04-01T18:19:34.603979",
     "status": "completed"
    },
    "tags": []
   },
   "outputs": [],
   "source": [
    "%load_ext autoreload\n",
    "%autoreload 2\n",
    "%matplotlib inline\n",
    "\n",
    "    \n",
    "import os, json, sys, time, random\n",
    "import numpy as np\n",
    "import torch\n",
    "from torch.optim import Adam\n",
    "from  easydict import EasyDict\n",
    "import matplotlib.pyplot as plt\n",
    "\n",
    "from steves_models.steves_ptn import Steves_Prototypical_Network\n",
    "\n",
    "from steves_utils.lazy_iterable_wrapper import Lazy_Iterable_Wrapper\n",
    "from steves_utils.iterable_aggregator import Iterable_Aggregator\n",
    "from steves_utils.ptn_train_eval_test_jig import  PTN_Train_Eval_Test_Jig\n",
    "from steves_utils.torch_sequential_builder import build_sequential\n",
    "from steves_utils.torch_utils import get_dataset_metrics, ptn_confusion_by_domain_over_dataloader\n",
    "from steves_utils.utils_v2 import (per_domain_accuracy_from_confusion, get_datasets_base_path)\n",
    "from steves_utils.PTN.utils import independent_accuracy_assesment\n",
    "\n",
    "from steves_utils.stratified_dataset.episodic_accessor import Episodic_Accessor_Factory\n",
    "\n",
    "from steves_utils.ptn_do_report import (\n",
    "    get_loss_curve,\n",
    "    get_results_table,\n",
    "    get_parameters_table,\n",
    "    get_domain_accuracies,\n",
    ")\n",
    "\n",
    "from steves_utils.transforms import get_chained_transform"
   ]
  },
  {
   "cell_type": "markdown",
   "id": "41c840b4",
   "metadata": {
    "papermill": {
     "duration": 0.009221,
     "end_time": "2022-04-01T18:19:35.552879",
     "exception": false,
     "start_time": "2022-04-01T18:19:35.543658",
     "status": "completed"
    },
    "tags": []
   },
   "source": [
    "# Required Parameters\n",
    "These are allowed parameters, not defaults\n",
    "Each of these values need to be present in the injected parameters (the notebook will raise an exception if they are not present)\n",
    "\n",
    "Papermill uses the cell tag \"parameters\" to inject the real parameters below this cell.\n",
    "Enable tags to see what I mean"
   ]
  },
  {
   "cell_type": "code",
   "execution_count": 2,
   "id": "fd44eb83",
   "metadata": {
    "execution": {
     "iopub.execute_input": "2022-04-01T18:19:35.573268Z",
     "iopub.status.busy": "2022-04-01T18:19:35.573008Z",
     "iopub.status.idle": "2022-04-01T18:19:35.583477Z",
     "shell.execute_reply": "2022-04-01T18:19:35.583762Z"
    },
    "papermill": {
     "duration": 0.021712,
     "end_time": "2022-04-01T18:19:35.583849",
     "exception": false,
     "start_time": "2022-04-01T18:19:35.562137",
     "status": "completed"
    },
    "tags": []
   },
   "outputs": [],
   "source": [
    "required_parameters = {\n",
    "    \"experiment_name\",\n",
    "    \"lr\",\n",
    "    \"device\",\n",
    "    \"seed\",\n",
    "    \"dataset_seed\",\n",
    "    \"labels_source\",\n",
    "    \"labels_target\",\n",
    "    \"domains_source\",\n",
    "    \"domains_target\",\n",
    "    \"num_examples_per_domain_per_label_source\",\n",
    "    \"num_examples_per_domain_per_label_target\",\n",
    "    \"n_shot\",\n",
    "    \"n_way\",\n",
    "    \"n_query\",\n",
    "    \"train_k_factor\",\n",
    "    \"val_k_factor\",\n",
    "    \"test_k_factor\",\n",
    "    \"n_epoch\",\n",
    "    \"patience\",\n",
    "    \"criteria_for_best\",\n",
    "    \"x_transforms_source\",\n",
    "    \"x_transforms_target\",\n",
    "    \"episode_transforms_source\",\n",
    "    \"episode_transforms_target\",\n",
    "    \"pickle_name\",\n",
    "    \"x_net\",\n",
    "    \"NUM_LOGS_PER_EPOCH\",\n",
    "    \"BEST_MODEL_PATH\",\n",
    "    \"torch_default_dtype\"\n",
    "}"
   ]
  },
  {
   "cell_type": "code",
   "execution_count": 3,
   "id": "fa3f0049",
   "metadata": {
    "execution": {
     "iopub.execute_input": "2022-04-01T18:19:35.614162Z",
     "iopub.status.busy": "2022-04-01T18:19:35.613881Z",
     "iopub.status.idle": "2022-04-01T18:19:35.629453Z",
     "shell.execute_reply": "2022-04-01T18:19:35.629068Z"
    },
    "papermill": {
     "duration": 0.031534,
     "end_time": "2022-04-01T18:19:35.629547",
     "exception": false,
     "start_time": "2022-04-01T18:19:35.598013",
     "status": "completed"
    },
    "tags": [
     "parameters"
    ]
   },
   "outputs": [],
   "source": [
    "\n",
    "\n",
    "standalone_parameters = {}\n",
    "standalone_parameters[\"experiment_name\"] = \"STANDALONE PTN\"\n",
    "standalone_parameters[\"lr\"] = 0.0001\n",
    "standalone_parameters[\"device\"] = \"cuda\"\n",
    "\n",
    "standalone_parameters[\"seed\"] = 1337\n",
    "standalone_parameters[\"dataset_seed\"] = 1337\n",
    "\n",
    "\n",
    "standalone_parameters[\"num_examples_per_domain_per_label_source\"]=100\n",
    "standalone_parameters[\"num_examples_per_domain_per_label_target\"]=100\n",
    "\n",
    "standalone_parameters[\"n_shot\"] = 3\n",
    "standalone_parameters[\"n_query\"]  = 2\n",
    "standalone_parameters[\"train_k_factor\"] = 1\n",
    "standalone_parameters[\"val_k_factor\"] = 2\n",
    "standalone_parameters[\"test_k_factor\"] = 2\n",
    "\n",
    "\n",
    "standalone_parameters[\"n_epoch\"] = 100\n",
    "\n",
    "standalone_parameters[\"patience\"] = 10\n",
    "standalone_parameters[\"criteria_for_best\"] = \"target_accuracy\"\n",
    "\n",
    "standalone_parameters[\"x_transforms_source\"] = [\"unit_power\"]\n",
    "standalone_parameters[\"x_transforms_target\"] = [\"unit_power\"]\n",
    "standalone_parameters[\"episode_transforms_source\"] = []\n",
    "standalone_parameters[\"episode_transforms_target\"] = []\n",
    "\n",
    "standalone_parameters[\"torch_default_dtype\"] = \"torch.float32\" \n",
    "\n",
    "\n",
    "\n",
    "standalone_parameters[\"x_net\"] =     [\n",
    "    {\"class\": \"nnReshape\", \"kargs\": {\"shape\":[-1, 1, 2, 256]}},\n",
    "    {\"class\": \"Conv2d\", \"kargs\": { \"in_channels\":1, \"out_channels\":256, \"kernel_size\":(1,7), \"bias\":False, \"padding\":(0,3), },},\n",
    "    {\"class\": \"ReLU\", \"kargs\": {\"inplace\": True}},\n",
    "    {\"class\": \"BatchNorm2d\", \"kargs\": {\"num_features\":256}},\n",
    "\n",
    "    {\"class\": \"Conv2d\", \"kargs\": { \"in_channels\":256, \"out_channels\":80, \"kernel_size\":(2,7), \"bias\":True, \"padding\":(0,3), },},\n",
    "    {\"class\": \"ReLU\", \"kargs\": {\"inplace\": True}},\n",
    "    {\"class\": \"BatchNorm2d\", \"kargs\": {\"num_features\":80}},\n",
    "    {\"class\": \"Flatten\", \"kargs\": {}},\n",
    "\n",
    "    {\"class\": \"Linear\", \"kargs\": {\"in_features\": 80*256, \"out_features\": 256}}, # 80 units per IQ pair\n",
    "    {\"class\": \"ReLU\", \"kargs\": {\"inplace\": True}},\n",
    "    {\"class\": \"BatchNorm1d\", \"kargs\": {\"num_features\":256}},\n",
    "\n",
    "    {\"class\": \"Linear\", \"kargs\": {\"in_features\": 256, \"out_features\": 256}},\n",
    "]\n",
    "\n",
    "# Parameters relevant to results\n",
    "# These parameters will basically never need to change\n",
    "standalone_parameters[\"NUM_LOGS_PER_EPOCH\"] = 10\n",
    "standalone_parameters[\"BEST_MODEL_PATH\"] = \"./best_model.pth\"\n",
    "\n",
    "# uncomment for CORES dataset\n",
    "from steves_utils.CORES.utils import (\n",
    "    ALL_NODES,\n",
    "    ALL_NODES_MINIMUM_1000_EXAMPLES,\n",
    "    ALL_DAYS\n",
    ")\n",
    "\n",
    "\n",
    "standalone_parameters[\"labels_source\"] = ALL_NODES\n",
    "standalone_parameters[\"labels_target\"] = ALL_NODES\n",
    "\n",
    "standalone_parameters[\"domains_source\"] = [1]\n",
    "standalone_parameters[\"domains_target\"] = [2,3,4,5]\n",
    "\n",
    "standalone_parameters[\"pickle_name\"] = \"cores.stratified_ds.2022A.pkl\"\n",
    "\n",
    "\n",
    "# Uncomment these for ORACLE dataset\n",
    "# from steves_utils.ORACLE.utils_v2 import (\n",
    "#     ALL_DISTANCES_FEET,\n",
    "#     ALL_RUNS,\n",
    "#     ALL_SERIAL_NUMBERS,\n",
    "# )\n",
    "# standalone_parameters[\"labels_source\"] = ALL_SERIAL_NUMBERS\n",
    "# standalone_parameters[\"labels_target\"] = ALL_SERIAL_NUMBERS\n",
    "# standalone_parameters[\"domains_source\"] = [8,20, 38,50]\n",
    "# standalone_parameters[\"domains_target\"] = [14, 26, 32, 44, 56]\n",
    "# standalone_parameters[\"pickle_name\"] = \"oracle.frame_indexed.stratified_ds.2022A.pkl\"\n",
    "# standalone_parameters[\"num_examples_per_domain_per_label_source\"]=1000\n",
    "# standalone_parameters[\"num_examples_per_domain_per_label_target\"]=1000\n",
    "\n",
    "# Uncomment these for Metahan dataset\n",
    "# standalone_parameters[\"labels_source\"] = list(range(19))\n",
    "# standalone_parameters[\"labels_target\"] = list(range(19))\n",
    "# standalone_parameters[\"domains_source\"] = [0]\n",
    "# standalone_parameters[\"domains_target\"] = [1]\n",
    "# standalone_parameters[\"pickle_name\"] = \"metehan.stratified_ds.2022A.pkl\"\n",
    "# standalone_parameters[\"n_way\"]  = len(standalone_parameters[\"labels_source\"])\n",
    "# standalone_parameters[\"num_examples_per_domain_per_label_source\"]=200\n",
    "# standalone_parameters[\"num_examples_per_domain_per_label_target\"]=100\n",
    "\n",
    "\n",
    "standalone_parameters[\"n_way\"]  = len(standalone_parameters[\"labels_source\"])"
   ]
  },
  {
   "cell_type": "code",
   "execution_count": 4,
   "id": "0f84c72f",
   "metadata": {
    "execution": {
     "iopub.execute_input": "2022-04-01T18:19:35.662211Z",
     "iopub.status.busy": "2022-04-01T18:19:35.661757Z",
     "iopub.status.idle": "2022-04-01T18:19:35.674599Z",
     "shell.execute_reply": "2022-04-01T18:19:35.674135Z"
    },
    "papermill": {
     "duration": 0.030792,
     "end_time": "2022-04-01T18:19:35.674691",
     "exception": false,
     "start_time": "2022-04-01T18:19:35.643899",
     "status": "completed"
    },
    "tags": [
     "injected-parameters"
    ]
   },
   "outputs": [],
   "source": [
    "# Parameters\n",
    "parameters = {\n",
    "    \"experiment_name\": \"tuned_1v2:oracle.run2_limited\",\n",
    "    \"device\": \"cuda\",\n",
    "    \"lr\": 0.0001,\n",
    "    \"labels_source\": [\n",
    "        \"3123D52\",\n",
    "        \"3123D65\",\n",
    "        \"3123D79\",\n",
    "        \"3123D80\",\n",
    "        \"3123D54\",\n",
    "        \"3123D70\",\n",
    "        \"3123D7B\",\n",
    "        \"3123D89\",\n",
    "        \"3123D58\",\n",
    "        \"3123D76\",\n",
    "        \"3123D7D\",\n",
    "        \"3123EFE\",\n",
    "        \"3123D64\",\n",
    "        \"3123D78\",\n",
    "        \"3123D7E\",\n",
    "        \"3124E4A\",\n",
    "    ],\n",
    "    \"labels_target\": [\n",
    "        \"3123D52\",\n",
    "        \"3123D65\",\n",
    "        \"3123D79\",\n",
    "        \"3123D80\",\n",
    "        \"3123D54\",\n",
    "        \"3123D70\",\n",
    "        \"3123D7B\",\n",
    "        \"3123D89\",\n",
    "        \"3123D58\",\n",
    "        \"3123D76\",\n",
    "        \"3123D7D\",\n",
    "        \"3123EFE\",\n",
    "        \"3123D64\",\n",
    "        \"3123D78\",\n",
    "        \"3123D7E\",\n",
    "        \"3124E4A\",\n",
    "    ],\n",
    "    \"episode_transforms_source\": [],\n",
    "    \"episode_transforms_target\": [],\n",
    "    \"domains_source\": [8, 32, 50],\n",
    "    \"domains_target\": [14, 20, 26, 38, 44],\n",
    "    \"num_examples_per_domain_per_label_source\": 2000,\n",
    "    \"num_examples_per_domain_per_label_target\": 2000,\n",
    "    \"n_shot\": 3,\n",
    "    \"n_way\": 16,\n",
    "    \"n_query\": 2,\n",
    "    \"train_k_factor\": 3,\n",
    "    \"val_k_factor\": 2,\n",
    "    \"test_k_factor\": 2,\n",
    "    \"torch_default_dtype\": \"torch.float32\",\n",
    "    \"n_epoch\": 50,\n",
    "    \"patience\": 3,\n",
    "    \"criteria_for_best\": \"target_accuracy\",\n",
    "    \"x_net\": [\n",
    "        {\"class\": \"nnReshape\", \"kargs\": {\"shape\": [-1, 1, 2, 256]}},\n",
    "        {\n",
    "            \"class\": \"Conv2d\",\n",
    "            \"kargs\": {\n",
    "                \"in_channels\": 1,\n",
    "                \"out_channels\": 256,\n",
    "                \"kernel_size\": [1, 7],\n",
    "                \"bias\": False,\n",
    "                \"padding\": [0, 3],\n",
    "            },\n",
    "        },\n",
    "        {\"class\": \"ReLU\", \"kargs\": {\"inplace\": True}},\n",
    "        {\"class\": \"BatchNorm2d\", \"kargs\": {\"num_features\": 256}},\n",
    "        {\n",
    "            \"class\": \"Conv2d\",\n",
    "            \"kargs\": {\n",
    "                \"in_channels\": 256,\n",
    "                \"out_channels\": 80,\n",
    "                \"kernel_size\": [2, 7],\n",
    "                \"bias\": True,\n",
    "                \"padding\": [0, 3],\n",
    "            },\n",
    "        },\n",
    "        {\"class\": \"ReLU\", \"kargs\": {\"inplace\": True}},\n",
    "        {\"class\": \"BatchNorm2d\", \"kargs\": {\"num_features\": 80}},\n",
    "        {\"class\": \"Flatten\", \"kargs\": {}},\n",
    "        {\"class\": \"Linear\", \"kargs\": {\"in_features\": 20480, \"out_features\": 256}},\n",
    "        {\"class\": \"ReLU\", \"kargs\": {\"inplace\": True}},\n",
    "        {\"class\": \"BatchNorm1d\", \"kargs\": {\"num_features\": 256}},\n",
    "        {\"class\": \"Linear\", \"kargs\": {\"in_features\": 256, \"out_features\": 256}},\n",
    "    ],\n",
    "    \"NUM_LOGS_PER_EPOCH\": 10,\n",
    "    \"BEST_MODEL_PATH\": \"./best_model.pth\",\n",
    "    \"pickle_name\": \"oracle.Run2_10kExamples_stratified_ds.2022A.pkl\",\n",
    "    \"x_transforms_source\": [\"unit_power\"],\n",
    "    \"x_transforms_target\": [\"unit_power\"],\n",
    "    \"dataset_seed\": 420,\n",
    "    \"seed\": 420,\n",
    "}\n"
   ]
  },
  {
   "cell_type": "code",
   "execution_count": 5,
   "id": "8fa1cc33",
   "metadata": {
    "execution": {
     "iopub.execute_input": "2022-04-01T18:19:35.701479Z",
     "iopub.status.busy": "2022-04-01T18:19:35.701232Z",
     "iopub.status.idle": "2022-04-01T18:19:35.716613Z",
     "shell.execute_reply": "2022-04-01T18:19:35.716991Z"
    },
    "papermill": {
     "duration": 0.028802,
     "end_time": "2022-04-01T18:19:35.717097",
     "exception": false,
     "start_time": "2022-04-01T18:19:35.688295",
     "status": "completed"
    },
    "tags": []
   },
   "outputs": [],
   "source": [
    "# Set this to True if you want to run this template directly\n",
    "STANDALONE = False\n",
    "if STANDALONE:\n",
    "    print(\"parameters not injected, running with standalone_parameters\")\n",
    "    parameters = standalone_parameters\n",
    "\n",
    "if not 'parameters' in locals() and not 'parameters' in globals():\n",
    "    raise Exception(\"Parameter injection failed\")\n",
    "\n",
    "#Use an easy dict for all the parameters\n",
    "p = EasyDict(parameters)\n",
    "\n",
    "supplied_keys = set(p.keys())\n",
    "\n",
    "if  supplied_keys != required_parameters:\n",
    "    print(\"Parameters are incorrect\")\n",
    "    if len(supplied_keys - required_parameters)>0: print(\"Shouldn't have:\", str(supplied_keys - required_parameters))\n",
    "    if len(required_parameters - supplied_keys)>0: print(\"Need to have:\", str(required_parameters - supplied_keys))\n",
    "    raise RuntimeError(\"Parameters are incorrect\")\n",
    "\n"
   ]
  },
  {
   "cell_type": "code",
   "execution_count": 6,
   "id": "3a028d58",
   "metadata": {
    "execution": {
     "iopub.execute_input": "2022-04-01T18:19:35.743749Z",
     "iopub.status.busy": "2022-04-01T18:19:35.743475Z",
     "iopub.status.idle": "2022-04-01T18:19:35.756147Z",
     "shell.execute_reply": "2022-04-01T18:19:35.755751Z"
    },
    "papermill": {
     "duration": 0.024452,
     "end_time": "2022-04-01T18:19:35.756226",
     "exception": false,
     "start_time": "2022-04-01T18:19:35.731774",
     "status": "completed"
    },
    "tags": []
   },
   "outputs": [],
   "source": [
    "###################################\n",
    "# Set the RNGs and make it all deterministic\n",
    "###################################\n",
    "np.random.seed(p.seed)\n",
    "random.seed(p.seed)\n",
    "torch.manual_seed(p.seed)\n",
    "\n",
    "torch.use_deterministic_algorithms(True) "
   ]
  },
  {
   "cell_type": "code",
   "execution_count": 7,
   "id": "b691acf6",
   "metadata": {
    "execution": {
     "iopub.execute_input": "2022-04-01T18:19:35.783925Z",
     "iopub.status.busy": "2022-04-01T18:19:35.783682Z",
     "iopub.status.idle": "2022-04-01T18:19:35.799439Z",
     "shell.execute_reply": "2022-04-01T18:19:35.799004Z"
    },
    "papermill": {
     "duration": 0.027241,
     "end_time": "2022-04-01T18:19:35.799532",
     "exception": false,
     "start_time": "2022-04-01T18:19:35.772291",
     "status": "completed"
    },
    "tags": []
   },
   "outputs": [],
   "source": [
    "###########################################\n",
    "# The stratified datasets honor this\n",
    "###########################################\n",
    "torch.set_default_dtype(eval(p.torch_default_dtype))"
   ]
  },
  {
   "cell_type": "code",
   "execution_count": 8,
   "id": "b5fba671",
   "metadata": {
    "execution": {
     "iopub.execute_input": "2022-04-01T18:19:35.826746Z",
     "iopub.status.busy": "2022-04-01T18:19:35.826500Z",
     "iopub.status.idle": "2022-04-01T18:19:35.865860Z",
     "shell.execute_reply": "2022-04-01T18:19:35.865462Z"
    },
    "papermill": {
     "duration": 0.051151,
     "end_time": "2022-04-01T18:19:35.865953",
     "exception": false,
     "start_time": "2022-04-01T18:19:35.814802",
     "status": "completed"
    },
    "tags": []
   },
   "outputs": [],
   "source": [
    "###################################\n",
    "# Build the network(s)\n",
    "# Note: It's critical to do this AFTER setting the RNG\n",
    "# (This is due to the randomized initial weights)\n",
    "###################################\n",
    "x_net = build_sequential(p.x_net)"
   ]
  },
  {
   "cell_type": "code",
   "execution_count": 9,
   "id": "5d7e61cc",
   "metadata": {
    "execution": {
     "iopub.execute_input": "2022-04-01T18:19:35.892192Z",
     "iopub.status.busy": "2022-04-01T18:19:35.891946Z",
     "iopub.status.idle": "2022-04-01T18:19:35.903233Z",
     "shell.execute_reply": "2022-04-01T18:19:35.902831Z"
    },
    "papermill": {
     "duration": 0.023005,
     "end_time": "2022-04-01T18:19:35.903312",
     "exception": false,
     "start_time": "2022-04-01T18:19:35.880307",
     "status": "completed"
    },
    "tags": []
   },
   "outputs": [],
   "source": [
    "start_time_secs = time.time()"
   ]
  },
  {
   "cell_type": "code",
   "execution_count": 10,
   "id": "fd5442bc",
   "metadata": {
    "execution": {
     "iopub.execute_input": "2022-04-01T18:19:35.936555Z",
     "iopub.status.busy": "2022-04-01T18:19:35.930500Z",
     "iopub.status.idle": "2022-04-01T18:19:54.500518Z",
     "shell.execute_reply": "2022-04-01T18:19:54.500098Z"
    },
    "papermill": {
     "duration": 18.581257,
     "end_time": "2022-04-01T18:19:54.500616",
     "exception": false,
     "start_time": "2022-04-01T18:19:35.919359",
     "status": "completed"
    },
    "tags": []
   },
   "outputs": [],
   "source": [
    "###################################\n",
    "# Build the dataset\n",
    "###################################\n",
    "\n",
    "if p.x_transforms_source == []: x_transform_source = None\n",
    "else: x_transform_source = get_chained_transform(p.x_transforms_source) \n",
    "\n",
    "if p.x_transforms_target == []: x_transform_target = None\n",
    "else: x_transform_target = get_chained_transform(p.x_transforms_target)\n",
    "\n",
    "if p.episode_transforms_source == []: episode_transform_source = None\n",
    "else: raise Exception(\"episode_transform_source not implemented\")\n",
    "\n",
    "if p.episode_transforms_target == []: episode_transform_target = None\n",
    "else: raise Exception(\"episode_transform_target not implemented\")\n",
    "\n",
    "\n",
    "eaf_source = Episodic_Accessor_Factory(\n",
    "    labels=p.labels_source,\n",
    "    domains=p.domains_source,\n",
    "    num_examples_per_domain_per_label=p.num_examples_per_domain_per_label_source,\n",
    "    iterator_seed=p.seed,\n",
    "    dataset_seed=p.dataset_seed,\n",
    "    n_shot=p.n_shot,\n",
    "    n_way=p.n_way,\n",
    "    n_query=p.n_query,\n",
    "    train_val_test_k_factors=(p.train_k_factor,p.val_k_factor,p.test_k_factor),\n",
    "    pickle_path=os.path.join(get_datasets_base_path(), p.pickle_name),\n",
    "    x_transform_func=x_transform_source,\n",
    "    example_transform_func=episode_transform_source,\n",
    "    \n",
    ")\n",
    "train_original_source, val_original_source, test_original_source = eaf_source.get_train(), eaf_source.get_val(), eaf_source.get_test()\n",
    "\n",
    "\n",
    "eaf_target = Episodic_Accessor_Factory(\n",
    "    labels=p.labels_target,\n",
    "    domains=p.domains_target,\n",
    "    num_examples_per_domain_per_label=p.num_examples_per_domain_per_label_target,\n",
    "    iterator_seed=p.seed,\n",
    "    dataset_seed=p.dataset_seed,\n",
    "    n_shot=p.n_shot,\n",
    "    n_way=p.n_way,\n",
    "    n_query=p.n_query,\n",
    "    train_val_test_k_factors=(p.train_k_factor,p.val_k_factor,p.test_k_factor),\n",
    "    pickle_path=os.path.join(get_datasets_base_path(), p.pickle_name),\n",
    "    x_transform_func=x_transform_target,\n",
    "    example_transform_func=episode_transform_target,\n",
    ")\n",
    "train_original_target, val_original_target, test_original_target = eaf_target.get_train(), eaf_target.get_val(), eaf_target.get_test()\n",
    "\n",
    "\n",
    "transform_lambda = lambda ex: ex[1] # Original is (<domain>, <episode>) so we strip down to episode only\n",
    "\n",
    "train_processed_source = Lazy_Iterable_Wrapper(train_original_source, transform_lambda)\n",
    "val_processed_source   = Lazy_Iterable_Wrapper(val_original_source, transform_lambda)\n",
    "test_processed_source  = Lazy_Iterable_Wrapper(test_original_source, transform_lambda)\n",
    "\n",
    "train_processed_target = Lazy_Iterable_Wrapper(train_original_target, transform_lambda)\n",
    "val_processed_target   = Lazy_Iterable_Wrapper(val_original_target, transform_lambda)\n",
    "test_processed_target  = Lazy_Iterable_Wrapper(test_original_target, transform_lambda)\n",
    "\n",
    "datasets = EasyDict({\n",
    "    \"source\": {\n",
    "        \"original\": {\"train\":train_original_source, \"val\":val_original_source, \"test\":test_original_source},\n",
    "        \"processed\": {\"train\":train_processed_source, \"val\":val_processed_source, \"test\":test_processed_source}\n",
    "    },\n",
    "    \"target\": {\n",
    "        \"original\": {\"train\":train_original_target, \"val\":val_original_target, \"test\":test_original_target},\n",
    "        \"processed\": {\"train\":train_processed_target, \"val\":val_processed_target, \"test\":test_processed_target}\n",
    "    },\n",
    "})"
   ]
  },
  {
   "cell_type": "code",
   "execution_count": 11,
   "id": "296189d9",
   "metadata": {
    "execution": {
     "iopub.execute_input": "2022-04-01T18:19:54.529426Z",
     "iopub.status.busy": "2022-04-01T18:19:54.529144Z",
     "iopub.status.idle": "2022-04-01T18:19:56.180634Z",
     "shell.execute_reply": "2022-04-01T18:19:56.180268Z"
    },
    "papermill": {
     "duration": 1.665096,
     "end_time": "2022-04-01T18:19:56.180725",
     "exception": false,
     "start_time": "2022-04-01T18:19:54.515629",
     "status": "completed"
    },
    "tags": []
   },
   "outputs": [
    {
     "name": "stdout",
     "output_type": "stream",
     "text": [
      "Visually inspect these to see if they line up with expected values given the transforms\n",
      "x_transforms_source ['unit_power']\n",
      "x_transforms_target ['unit_power']\n",
      "Average magnitude, source: 0.8992195\n",
      "Average power, source: 0.99999994\n"
     ]
    },
    {
     "name": "stdout",
     "output_type": "stream",
     "text": [
      "Average magnitude, target: 0.8699887\n",
      "Average power, target: 1.0\n"
     ]
    }
   ],
   "source": [
    "# Some quick unit tests on the data\n",
    "from steves_utils.transforms import get_average_power, get_average_magnitude\n",
    "\n",
    "q_x, q_y, s_x, s_y, truth = next(iter(train_processed_source))\n",
    "\n",
    "assert q_x.dtype == eval(p.torch_default_dtype)\n",
    "assert s_x.dtype == eval(p.torch_default_dtype)\n",
    "\n",
    "print(\"Visually inspect these to see if they line up with expected values given the transforms\")\n",
    "print('x_transforms_source', p.x_transforms_source)\n",
    "print('x_transforms_target', p.x_transforms_target)\n",
    "print(\"Average magnitude, source:\", get_average_magnitude(q_x[0].numpy()))\n",
    "print(\"Average power, source:\", get_average_power(q_x[0].numpy()))\n",
    "\n",
    "q_x, q_y, s_x, s_y, truth = next(iter(train_processed_target))\n",
    "print(\"Average magnitude, target:\", get_average_magnitude(q_x[0].numpy()))\n",
    "print(\"Average power, target:\", get_average_power(q_x[0].numpy()))\n"
   ]
  },
  {
   "cell_type": "code",
   "execution_count": 12,
   "id": "bbdacba1",
   "metadata": {
    "execution": {
     "iopub.execute_input": "2022-04-01T18:19:56.208039Z",
     "iopub.status.busy": "2022-04-01T18:19:56.207542Z",
     "iopub.status.idle": "2022-04-01T18:19:56.269413Z",
     "shell.execute_reply": "2022-04-01T18:19:56.269726Z"
    },
    "papermill": {
     "duration": 0.076019,
     "end_time": "2022-04-01T18:19:56.269833",
     "exception": false,
     "start_time": "2022-04-01T18:19:56.193814",
     "status": "completed"
    },
    "tags": []
   },
   "outputs": [
    {
     "name": "stdout",
     "output_type": "stream",
     "text": [
      "(2, 256)\n"
     ]
    }
   ],
   "source": [
    "###################################\n",
    "# Build the model\n",
    "###################################\n",
    "model = Steves_Prototypical_Network(x_net, device=p.device, x_shape=(2,256))\n",
    "optimizer = Adam(params=model.parameters(), lr=p.lr)"
   ]
  },
  {
   "cell_type": "code",
   "execution_count": 13,
   "id": "22b39ac5",
   "metadata": {
    "execution": {
     "iopub.execute_input": "2022-04-01T18:19:56.297103Z",
     "iopub.status.busy": "2022-04-01T18:19:56.296849Z",
     "iopub.status.idle": "2022-04-01T18:34:13.623167Z",
     "shell.execute_reply": "2022-04-01T18:34:13.622688Z"
    },
    "papermill": {
     "duration": 857.339075,
     "end_time": "2022-04-01T18:34:13.623272",
     "exception": false,
     "start_time": "2022-04-01T18:19:56.284197",
     "status": "completed"
    },
    "tags": []
   },
   "outputs": [
    {
     "name": "stdout",
     "output_type": "stream",
     "text": [
      "epoch: 1, [batch: 1 / 2520], examples_per_second: 125.5460, train_label_loss: 2.7623, \n"
     ]
    },
    {
     "name": "stdout",
     "output_type": "stream",
     "text": [
      "epoch: 1, [batch: 252 / 2520], examples_per_second: 3170.1346, train_label_loss: 2.7895, \n"
     ]
    },
    {
     "name": "stdout",
     "output_type": "stream",
     "text": [
      "epoch: 1, [batch: 504 / 2520], examples_per_second: 3181.7423, train_label_loss: 1.9960, \n"
     ]
    },
    {
     "name": "stdout",
     "output_type": "stream",
     "text": [
      "epoch: 1, [batch: 756 / 2520], examples_per_second: 3183.9259, train_label_loss: 1.9195, \n"
     ]
    },
    {
     "name": "stdout",
     "output_type": "stream",
     "text": [
      "epoch: 1, [batch: 1008 / 2520], examples_per_second: 3160.8488, train_label_loss: 1.9037, \n"
     ]
    },
    {
     "name": "stdout",
     "output_type": "stream",
     "text": [
      "epoch: 1, [batch: 1260 / 2520], examples_per_second: 3164.3284, train_label_loss: 1.3361, \n"
     ]
    },
    {
     "name": "stdout",
     "output_type": "stream",
     "text": [
      "epoch: 1, [batch: 1512 / 2520], examples_per_second: 3163.9094, train_label_loss: 1.7695, \n"
     ]
    },
    {
     "name": "stdout",
     "output_type": "stream",
     "text": [
      "epoch: 1, [batch: 1764 / 2520], examples_per_second: 3170.5449, train_label_loss: 1.4922, \n"
     ]
    },
    {
     "name": "stdout",
     "output_type": "stream",
     "text": [
      "epoch: 1, [batch: 2016 / 2520], examples_per_second: 3163.6127, train_label_loss: 1.9643, \n"
     ]
    },
    {
     "name": "stdout",
     "output_type": "stream",
     "text": [
      "epoch: 1, [batch: 2268 / 2520], examples_per_second: 3170.6157, train_label_loss: 1.2921, \n"
     ]
    },
    {
     "name": "stdout",
     "output_type": "stream",
     "text": [
      "=============================================================\n",
      "epoch: 1, source_val_acc_label: 0.4036, target_val_acc_label: 0.2902, source_val_label_loss: 1.5062, target_val_label_loss: 1.8748, \n",
      "=============================================================\n"
     ]
    },
    {
     "name": "stdout",
     "output_type": "stream",
     "text": [
      "New best\n"
     ]
    },
    {
     "name": "stdout",
     "output_type": "stream",
     "text": [
      "epoch: 2, [batch: 1 / 2520], examples_per_second: 11.0855, train_label_loss: 1.6929, \n"
     ]
    },
    {
     "name": "stdout",
     "output_type": "stream",
     "text": [
      "epoch: 2, [batch: 252 / 2520], examples_per_second: 3174.5891, train_label_loss: 1.2416, \n"
     ]
    },
    {
     "name": "stdout",
     "output_type": "stream",
     "text": [
      "epoch: 2, [batch: 504 / 2520], examples_per_second: 3165.1127, train_label_loss: 1.5649, \n"
     ]
    },
    {
     "name": "stdout",
     "output_type": "stream",
     "text": [
      "epoch: 2, [batch: 756 / 2520], examples_per_second: 3163.1716, train_label_loss: 1.3374, \n"
     ]
    },
    {
     "name": "stdout",
     "output_type": "stream",
     "text": [
      "epoch: 2, [batch: 1008 / 2520], examples_per_second: 3165.9983, train_label_loss: 1.2775, \n"
     ]
    },
    {
     "name": "stdout",
     "output_type": "stream",
     "text": [
      "epoch: 2, [batch: 1260 / 2520], examples_per_second: 3174.8303, train_label_loss: 1.4223, \n"
     ]
    },
    {
     "name": "stdout",
     "output_type": "stream",
     "text": [
      "epoch: 2, [batch: 1512 / 2520], examples_per_second: 3172.2067, train_label_loss: 1.9202, \n"
     ]
    },
    {
     "name": "stdout",
     "output_type": "stream",
     "text": [
      "epoch: 2, [batch: 1764 / 2520], examples_per_second: 3173.4799, train_label_loss: 1.5329, \n"
     ]
    },
    {
     "name": "stdout",
     "output_type": "stream",
     "text": [
      "epoch: 2, [batch: 2016 / 2520], examples_per_second: 3170.3620, train_label_loss: 1.0794, \n"
     ]
    },
    {
     "name": "stdout",
     "output_type": "stream",
     "text": [
      "epoch: 2, [batch: 2268 / 2520], examples_per_second: 3189.1696, train_label_loss: 1.3951, \n"
     ]
    },
    {
     "name": "stdout",
     "output_type": "stream",
     "text": [
      "=============================================================\n",
      "epoch: 2, source_val_acc_label: 0.4329, target_val_acc_label: 0.3079, source_val_label_loss: 1.3933, target_val_label_loss: 1.8595, \n",
      "=============================================================\n"
     ]
    },
    {
     "name": "stdout",
     "output_type": "stream",
     "text": [
      "New best\n"
     ]
    },
    {
     "name": "stdout",
     "output_type": "stream",
     "text": [
      "epoch: 3, [batch: 1 / 2520], examples_per_second: 11.1685, train_label_loss: 1.1199, \n"
     ]
    },
    {
     "name": "stdout",
     "output_type": "stream",
     "text": [
      "epoch: 3, [batch: 252 / 2520], examples_per_second: 3163.8329, train_label_loss: 1.4179, \n"
     ]
    },
    {
     "name": "stdout",
     "output_type": "stream",
     "text": [
      "epoch: 3, [batch: 504 / 2520], examples_per_second: 3189.6487, train_label_loss: 1.5791, \n"
     ]
    },
    {
     "name": "stdout",
     "output_type": "stream",
     "text": [
      "epoch: 3, [batch: 756 / 2520], examples_per_second: 3211.5218, train_label_loss: 1.3134, \n"
     ]
    },
    {
     "name": "stdout",
     "output_type": "stream",
     "text": [
      "epoch: 3, [batch: 1008 / 2520], examples_per_second: 3189.8892, train_label_loss: 1.1606, \n"
     ]
    },
    {
     "name": "stdout",
     "output_type": "stream",
     "text": [
      "epoch: 3, [batch: 1260 / 2520], examples_per_second: 3170.6102, train_label_loss: 1.1967, \n"
     ]
    },
    {
     "name": "stdout",
     "output_type": "stream",
     "text": [
      "epoch: 3, [batch: 1512 / 2520], examples_per_second: 3179.2178, train_label_loss: 0.8371, \n"
     ]
    },
    {
     "name": "stdout",
     "output_type": "stream",
     "text": [
      "epoch: 3, [batch: 1764 / 2520], examples_per_second: 3167.8554, train_label_loss: 1.2154, \n"
     ]
    },
    {
     "name": "stdout",
     "output_type": "stream",
     "text": [
      "epoch: 3, [batch: 2016 / 2520], examples_per_second: 3171.9002, train_label_loss: 1.2182, \n"
     ]
    },
    {
     "name": "stdout",
     "output_type": "stream",
     "text": [
      "epoch: 3, [batch: 2268 / 2520], examples_per_second: 3177.5679, train_label_loss: 0.7386, \n"
     ]
    },
    {
     "name": "stdout",
     "output_type": "stream",
     "text": [
      "=============================================================\n",
      "epoch: 3, source_val_acc_label: 0.5610, target_val_acc_label: 0.4533, source_val_label_loss: 1.1409, target_val_label_loss: 1.5636, \n",
      "=============================================================\n"
     ]
    },
    {
     "name": "stdout",
     "output_type": "stream",
     "text": [
      "New best\n"
     ]
    },
    {
     "name": "stdout",
     "output_type": "stream",
     "text": [
      "epoch: 4, [batch: 1 / 2520], examples_per_second: 11.1219, train_label_loss: 0.9963, \n"
     ]
    },
    {
     "name": "stdout",
     "output_type": "stream",
     "text": [
      "epoch: 4, [batch: 252 / 2520], examples_per_second: 3166.8301, train_label_loss: 0.7233, \n"
     ]
    },
    {
     "name": "stdout",
     "output_type": "stream",
     "text": [
      "epoch: 4, [batch: 504 / 2520], examples_per_second: 3164.3520, train_label_loss: 0.7495, \n"
     ]
    },
    {
     "name": "stdout",
     "output_type": "stream",
     "text": [
      "epoch: 4, [batch: 756 / 2520], examples_per_second: 3184.1787, train_label_loss: 1.0912, \n"
     ]
    },
    {
     "name": "stdout",
     "output_type": "stream",
     "text": [
      "epoch: 4, [batch: 1008 / 2520], examples_per_second: 3167.0528, train_label_loss: 0.9845, \n"
     ]
    },
    {
     "name": "stdout",
     "output_type": "stream",
     "text": [
      "epoch: 4, [batch: 1260 / 2520], examples_per_second: 3180.8854, train_label_loss: 0.9455, \n"
     ]
    },
    {
     "name": "stdout",
     "output_type": "stream",
     "text": [
      "epoch: 4, [batch: 1512 / 2520], examples_per_second: 3177.9844, train_label_loss: 0.7715, \n"
     ]
    },
    {
     "name": "stdout",
     "output_type": "stream",
     "text": [
      "epoch: 4, [batch: 1764 / 2520], examples_per_second: 3173.4275, train_label_loss: 0.6995, \n"
     ]
    },
    {
     "name": "stdout",
     "output_type": "stream",
     "text": [
      "epoch: 4, [batch: 2016 / 2520], examples_per_second: 3173.5740, train_label_loss: 0.6159, \n"
     ]
    },
    {
     "name": "stdout",
     "output_type": "stream",
     "text": [
      "epoch: 4, [batch: 2268 / 2520], examples_per_second: 3180.2207, train_label_loss: 0.7411, \n"
     ]
    },
    {
     "name": "stdout",
     "output_type": "stream",
     "text": [
      "=============================================================\n",
      "epoch: 4, source_val_acc_label: 0.5873, target_val_acc_label: 0.4797, source_val_label_loss: 1.0876, target_val_label_loss: 1.5119, \n",
      "=============================================================\n"
     ]
    },
    {
     "name": "stdout",
     "output_type": "stream",
     "text": [
      "New best\n"
     ]
    },
    {
     "name": "stdout",
     "output_type": "stream",
     "text": [
      "epoch: 5, [batch: 1 / 2520], examples_per_second: 11.1581, train_label_loss: 0.6502, \n"
     ]
    },
    {
     "name": "stdout",
     "output_type": "stream",
     "text": [
      "epoch: 5, [batch: 252 / 2520], examples_per_second: 3162.4824, train_label_loss: 0.8708, \n"
     ]
    },
    {
     "name": "stdout",
     "output_type": "stream",
     "text": [
      "epoch: 5, [batch: 504 / 2520], examples_per_second: 3172.5388, train_label_loss: 0.4407, \n"
     ]
    },
    {
     "name": "stdout",
     "output_type": "stream",
     "text": [
      "epoch: 5, [batch: 756 / 2520], examples_per_second: 3164.4466, train_label_loss: 0.9123, \n"
     ]
    },
    {
     "name": "stdout",
     "output_type": "stream",
     "text": [
      "epoch: 5, [batch: 1008 / 2520], examples_per_second: 3171.6455, train_label_loss: 0.6738, \n"
     ]
    },
    {
     "name": "stdout",
     "output_type": "stream",
     "text": [
      "epoch: 5, [batch: 1260 / 2520], examples_per_second: 3187.9573, train_label_loss: 0.6045, \n"
     ]
    },
    {
     "name": "stdout",
     "output_type": "stream",
     "text": [
      "epoch: 5, [batch: 1512 / 2520], examples_per_second: 3197.8097, train_label_loss: 0.5347, \n"
     ]
    },
    {
     "name": "stdout",
     "output_type": "stream",
     "text": [
      "epoch: 5, [batch: 1764 / 2520], examples_per_second: 3193.9799, train_label_loss: 1.1686, \n"
     ]
    },
    {
     "name": "stdout",
     "output_type": "stream",
     "text": [
      "epoch: 5, [batch: 2016 / 2520], examples_per_second: 3192.9644, train_label_loss: 0.4324, \n"
     ]
    },
    {
     "name": "stdout",
     "output_type": "stream",
     "text": [
      "epoch: 5, [batch: 2268 / 2520], examples_per_second: 3179.3707, train_label_loss: 0.5067, \n"
     ]
    },
    {
     "name": "stdout",
     "output_type": "stream",
     "text": [
      "=============================================================\n",
      "epoch: 5, source_val_acc_label: 0.5997, target_val_acc_label: 0.4942, source_val_label_loss: 1.1147, target_val_label_loss: 1.5461, \n",
      "=============================================================\n"
     ]
    },
    {
     "name": "stdout",
     "output_type": "stream",
     "text": [
      "New best\n"
     ]
    },
    {
     "name": "stdout",
     "output_type": "stream",
     "text": [
      "epoch: 6, [batch: 1 / 2520], examples_per_second: 11.0660, train_label_loss: 0.7044, \n"
     ]
    },
    {
     "name": "stdout",
     "output_type": "stream",
     "text": [
      "epoch: 6, [batch: 252 / 2520], examples_per_second: 3165.1519, train_label_loss: 0.7560, \n"
     ]
    },
    {
     "name": "stdout",
     "output_type": "stream",
     "text": [
      "epoch: 6, [batch: 504 / 2520], examples_per_second: 3184.2096, train_label_loss: 0.3258, \n"
     ]
    },
    {
     "name": "stdout",
     "output_type": "stream",
     "text": [
      "epoch: 6, [batch: 756 / 2520], examples_per_second: 3181.6751, train_label_loss: 0.8070, \n"
     ]
    },
    {
     "name": "stdout",
     "output_type": "stream",
     "text": [
      "epoch: 6, [batch: 1008 / 2520], examples_per_second: 3206.8097, train_label_loss: 0.8444, \n"
     ]
    },
    {
     "name": "stdout",
     "output_type": "stream",
     "text": [
      "epoch: 6, [batch: 1260 / 2520], examples_per_second: 3192.9567, train_label_loss: 0.4750, \n"
     ]
    },
    {
     "name": "stdout",
     "output_type": "stream",
     "text": [
      "epoch: 6, [batch: 1512 / 2520], examples_per_second: 3183.1324, train_label_loss: 0.9326, \n"
     ]
    },
    {
     "name": "stdout",
     "output_type": "stream",
     "text": [
      "epoch: 6, [batch: 1764 / 2520], examples_per_second: 3178.3420, train_label_loss: 0.6538, \n"
     ]
    },
    {
     "name": "stdout",
     "output_type": "stream",
     "text": [
      "epoch: 6, [batch: 2016 / 2520], examples_per_second: 3193.5739, train_label_loss: 0.8782, \n"
     ]
    },
    {
     "name": "stdout",
     "output_type": "stream",
     "text": [
      "epoch: 6, [batch: 2268 / 2520], examples_per_second: 3184.8303, train_label_loss: 0.3421, \n"
     ]
    },
    {
     "name": "stdout",
     "output_type": "stream",
     "text": [
      "=============================================================\n",
      "epoch: 6, source_val_acc_label: 0.6068, target_val_acc_label: 0.4977, source_val_label_loss: 1.1422, target_val_label_loss: 1.6088, \n",
      "=============================================================\n"
     ]
    },
    {
     "name": "stdout",
     "output_type": "stream",
     "text": [
      "New best\n"
     ]
    },
    {
     "name": "stdout",
     "output_type": "stream",
     "text": [
      "epoch: 7, [batch: 1 / 2520], examples_per_second: 11.1078, train_label_loss: 0.4487, \n"
     ]
    },
    {
     "name": "stdout",
     "output_type": "stream",
     "text": [
      "epoch: 7, [batch: 252 / 2520], examples_per_second: 3169.9377, train_label_loss: 0.3892, \n"
     ]
    },
    {
     "name": "stdout",
     "output_type": "stream",
     "text": [
      "epoch: 7, [batch: 504 / 2520], examples_per_second: 3161.8303, train_label_loss: 0.7552, \n"
     ]
    },
    {
     "name": "stdout",
     "output_type": "stream",
     "text": [
      "epoch: 7, [batch: 756 / 2520], examples_per_second: 3193.0312, train_label_loss: 0.4157, \n"
     ]
    },
    {
     "name": "stdout",
     "output_type": "stream",
     "text": [
      "epoch: 7, [batch: 1008 / 2520], examples_per_second: 3180.8478, train_label_loss: 0.6090, \n"
     ]
    },
    {
     "name": "stdout",
     "output_type": "stream",
     "text": [
      "epoch: 7, [batch: 1260 / 2520], examples_per_second: 3196.2017, train_label_loss: 0.4505, \n"
     ]
    },
    {
     "name": "stdout",
     "output_type": "stream",
     "text": [
      "epoch: 7, [batch: 1512 / 2520], examples_per_second: 3197.0646, train_label_loss: 0.5202, \n"
     ]
    },
    {
     "name": "stdout",
     "output_type": "stream",
     "text": [
      "epoch: 7, [batch: 1764 / 2520], examples_per_second: 3162.8852, train_label_loss: 0.3399, \n"
     ]
    },
    {
     "name": "stdout",
     "output_type": "stream",
     "text": [
      "epoch: 7, [batch: 2016 / 2520], examples_per_second: 3183.4774, train_label_loss: 0.4445, \n"
     ]
    },
    {
     "name": "stdout",
     "output_type": "stream",
     "text": [
      "epoch: 7, [batch: 2268 / 2520], examples_per_second: 3194.9473, train_label_loss: 0.3296, \n"
     ]
    },
    {
     "name": "stdout",
     "output_type": "stream",
     "text": [
      "=============================================================\n",
      "epoch: 7, source_val_acc_label: 0.6129, target_val_acc_label: 0.4991, source_val_label_loss: 1.1955, target_val_label_loss: 1.7053, \n",
      "=============================================================\n"
     ]
    },
    {
     "name": "stdout",
     "output_type": "stream",
     "text": [
      "New best\n"
     ]
    },
    {
     "name": "stdout",
     "output_type": "stream",
     "text": [
      "epoch: 8, [batch: 1 / 2520], examples_per_second: 11.1236, train_label_loss: 0.3002, \n"
     ]
    },
    {
     "name": "stdout",
     "output_type": "stream",
     "text": [
      "epoch: 8, [batch: 252 / 2520], examples_per_second: 3161.1253, train_label_loss: 0.3372, \n"
     ]
    },
    {
     "name": "stdout",
     "output_type": "stream",
     "text": [
      "epoch: 8, [batch: 504 / 2520], examples_per_second: 3189.9898, train_label_loss: 0.3764, \n"
     ]
    },
    {
     "name": "stdout",
     "output_type": "stream",
     "text": [
      "epoch: 8, [batch: 756 / 2520], examples_per_second: 3182.8177, train_label_loss: 0.4247, \n"
     ]
    },
    {
     "name": "stdout",
     "output_type": "stream",
     "text": [
      "epoch: 8, [batch: 1008 / 2520], examples_per_second: 3156.5704, train_label_loss: 0.2367, \n"
     ]
    },
    {
     "name": "stdout",
     "output_type": "stream",
     "text": [
      "epoch: 8, [batch: 1260 / 2520], examples_per_second: 3191.1864, train_label_loss: 0.4669, \n"
     ]
    },
    {
     "name": "stdout",
     "output_type": "stream",
     "text": [
      "epoch: 8, [batch: 1512 / 2520], examples_per_second: 3188.7470, train_label_loss: 0.3215, \n"
     ]
    },
    {
     "name": "stdout",
     "output_type": "stream",
     "text": [
      "epoch: 8, [batch: 1764 / 2520], examples_per_second: 3165.0044, train_label_loss: 0.1852, \n"
     ]
    },
    {
     "name": "stdout",
     "output_type": "stream",
     "text": [
      "epoch: 8, [batch: 2016 / 2520], examples_per_second: 3187.2399, train_label_loss: 0.3262, \n"
     ]
    },
    {
     "name": "stdout",
     "output_type": "stream",
     "text": [
      "epoch: 8, [batch: 2268 / 2520], examples_per_second: 3188.9339, train_label_loss: 0.4296, \n"
     ]
    },
    {
     "name": "stdout",
     "output_type": "stream",
     "text": [
      "=============================================================\n",
      "epoch: 8, source_val_acc_label: 0.6168, target_val_acc_label: 0.4992, source_val_label_loss: 1.2653, target_val_label_loss: 1.7938, \n",
      "=============================================================\n"
     ]
    },
    {
     "name": "stdout",
     "output_type": "stream",
     "text": [
      "New best\n"
     ]
    },
    {
     "name": "stdout",
     "output_type": "stream",
     "text": [
      "epoch: 9, [batch: 1 / 2520], examples_per_second: 11.1293, train_label_loss: 0.2857, \n"
     ]
    },
    {
     "name": "stdout",
     "output_type": "stream",
     "text": [
      "epoch: 9, [batch: 252 / 2520], examples_per_second: 3168.4341, train_label_loss: 0.2032, \n"
     ]
    },
    {
     "name": "stdout",
     "output_type": "stream",
     "text": [
      "epoch: 9, [batch: 504 / 2520], examples_per_second: 3188.8242, train_label_loss: 0.2974, \n"
     ]
    },
    {
     "name": "stdout",
     "output_type": "stream",
     "text": [
      "epoch: 9, [batch: 756 / 2520], examples_per_second: 3197.8090, train_label_loss: 0.3760, \n"
     ]
    },
    {
     "name": "stdout",
     "output_type": "stream",
     "text": [
      "epoch: 9, [batch: 1008 / 2520], examples_per_second: 3173.7156, train_label_loss: 0.0651, \n"
     ]
    },
    {
     "name": "stdout",
     "output_type": "stream",
     "text": [
      "epoch: 9, [batch: 1260 / 2520], examples_per_second: 3174.1345, train_label_loss: 0.1759, \n"
     ]
    },
    {
     "name": "stdout",
     "output_type": "stream",
     "text": [
      "epoch: 9, [batch: 1512 / 2520], examples_per_second: 3174.9188, train_label_loss: 0.9037, \n"
     ]
    },
    {
     "name": "stdout",
     "output_type": "stream",
     "text": [
      "epoch: 9, [batch: 1764 / 2520], examples_per_second: 3161.8083, train_label_loss: 0.4208, \n"
     ]
    },
    {
     "name": "stdout",
     "output_type": "stream",
     "text": [
      "epoch: 9, [batch: 2016 / 2520], examples_per_second: 3186.4795, train_label_loss: 0.2389, \n"
     ]
    },
    {
     "name": "stdout",
     "output_type": "stream",
     "text": [
      "epoch: 9, [batch: 2268 / 2520], examples_per_second: 3191.5079, train_label_loss: 0.1850, \n"
     ]
    },
    {
     "name": "stdout",
     "output_type": "stream",
     "text": [
      "=============================================================\n",
      "epoch: 9, source_val_acc_label: 0.6152, target_val_acc_label: 0.4957, source_val_label_loss: 1.3279, target_val_label_loss: 1.9211, \n",
      "=============================================================\n"
     ]
    },
    {
     "name": "stdout",
     "output_type": "stream",
     "text": [
      "epoch: 10, [batch: 1 / 2520], examples_per_second: 11.1248, train_label_loss: 0.2341, \n"
     ]
    },
    {
     "name": "stdout",
     "output_type": "stream",
     "text": [
      "epoch: 10, [batch: 252 / 2520], examples_per_second: 3156.8245, train_label_loss: 0.1713, \n"
     ]
    },
    {
     "name": "stdout",
     "output_type": "stream",
     "text": [
      "epoch: 10, [batch: 504 / 2520], examples_per_second: 3199.6630, train_label_loss: 0.2163, \n"
     ]
    },
    {
     "name": "stdout",
     "output_type": "stream",
     "text": [
      "epoch: 10, [batch: 756 / 2520], examples_per_second: 3176.0928, train_label_loss: 0.2570, \n"
     ]
    },
    {
     "name": "stdout",
     "output_type": "stream",
     "text": [
      "epoch: 10, [batch: 1008 / 2520], examples_per_second: 3173.1037, train_label_loss: 0.2444, \n"
     ]
    },
    {
     "name": "stdout",
     "output_type": "stream",
     "text": [
      "epoch: 10, [batch: 1260 / 2520], examples_per_second: 3168.0322, train_label_loss: 0.4032, \n"
     ]
    },
    {
     "name": "stdout",
     "output_type": "stream",
     "text": [
      "epoch: 10, [batch: 1512 / 2520], examples_per_second: 3195.3361, train_label_loss: 0.2621, \n"
     ]
    },
    {
     "name": "stdout",
     "output_type": "stream",
     "text": [
      "epoch: 10, [batch: 1764 / 2520], examples_per_second: 3154.5629, train_label_loss: 0.2534, \n"
     ]
    },
    {
     "name": "stdout",
     "output_type": "stream",
     "text": [
      "epoch: 10, [batch: 2016 / 2520], examples_per_second: 3172.9428, train_label_loss: 0.2428, \n"
     ]
    },
    {
     "name": "stdout",
     "output_type": "stream",
     "text": [
      "epoch: 10, [batch: 2268 / 2520], examples_per_second: 3203.7696, train_label_loss: 0.1319, \n"
     ]
    },
    {
     "name": "stdout",
     "output_type": "stream",
     "text": [
      "=============================================================\n",
      "epoch: 10, source_val_acc_label: 0.6148, target_val_acc_label: 0.4943, source_val_label_loss: 1.4396, target_val_label_loss: 2.0755, \n",
      "=============================================================\n"
     ]
    },
    {
     "name": "stdout",
     "output_type": "stream",
     "text": [
      "epoch: 11, [batch: 1 / 2520], examples_per_second: 11.1417, train_label_loss: 0.1690, \n"
     ]
    },
    {
     "name": "stdout",
     "output_type": "stream",
     "text": [
      "epoch: 11, [batch: 252 / 2520], examples_per_second: 3169.8964, train_label_loss: 0.0670, \n"
     ]
    },
    {
     "name": "stdout",
     "output_type": "stream",
     "text": [
      "epoch: 11, [batch: 504 / 2520], examples_per_second: 3190.6421, train_label_loss: 0.1151, \n"
     ]
    },
    {
     "name": "stdout",
     "output_type": "stream",
     "text": [
      "epoch: 11, [batch: 756 / 2520], examples_per_second: 3184.5392, train_label_loss: 0.4113, \n"
     ]
    },
    {
     "name": "stdout",
     "output_type": "stream",
     "text": [
      "epoch: 11, [batch: 1008 / 2520], examples_per_second: 3180.6958, train_label_loss: 0.2460, \n"
     ]
    },
    {
     "name": "stdout",
     "output_type": "stream",
     "text": [
      "epoch: 11, [batch: 1260 / 2520], examples_per_second: 3172.7235, train_label_loss: 0.2231, \n"
     ]
    },
    {
     "name": "stdout",
     "output_type": "stream",
     "text": [
      "epoch: 11, [batch: 1512 / 2520], examples_per_second: 3185.9146, train_label_loss: 0.3297, \n"
     ]
    },
    {
     "name": "stdout",
     "output_type": "stream",
     "text": [
      "epoch: 11, [batch: 1764 / 2520], examples_per_second: 3174.2067, train_label_loss: 0.1752, \n"
     ]
    },
    {
     "name": "stdout",
     "output_type": "stream",
     "text": [
      "epoch: 11, [batch: 2016 / 2520], examples_per_second: 3202.9607, train_label_loss: 0.2072, \n"
     ]
    },
    {
     "name": "stdout",
     "output_type": "stream",
     "text": [
      "epoch: 11, [batch: 2268 / 2520], examples_per_second: 3181.4424, train_label_loss: 0.1790, \n"
     ]
    },
    {
     "name": "stdout",
     "output_type": "stream",
     "text": [
      "=============================================================\n",
      "epoch: 11, source_val_acc_label: 0.6119, target_val_acc_label: 0.4911, source_val_label_loss: 1.4806, target_val_label_loss: 2.1528, \n",
      "=============================================================\n"
     ]
    },
    {
     "name": "stdout",
     "output_type": "stream",
     "text": [
      "epoch: 12, [batch: 1 / 2520], examples_per_second: 11.1472, train_label_loss: 0.1491, \n"
     ]
    },
    {
     "name": "stdout",
     "output_type": "stream",
     "text": [
      "epoch: 12, [batch: 252 / 2520], examples_per_second: 3159.1021, train_label_loss: 0.1759, \n"
     ]
    },
    {
     "name": "stdout",
     "output_type": "stream",
     "text": [
      "epoch: 12, [batch: 504 / 2520], examples_per_second: 3195.6330, train_label_loss: 0.0357, \n"
     ]
    },
    {
     "name": "stdout",
     "output_type": "stream",
     "text": [
      "epoch: 12, [batch: 756 / 2520], examples_per_second: 3186.5784, train_label_loss: 0.2224, \n"
     ]
    },
    {
     "name": "stdout",
     "output_type": "stream",
     "text": [
      "epoch: 12, [batch: 1008 / 2520], examples_per_second: 3202.1205, train_label_loss: 0.3754, \n"
     ]
    },
    {
     "name": "stdout",
     "output_type": "stream",
     "text": [
      "epoch: 12, [batch: 1260 / 2520], examples_per_second: 3184.0610, train_label_loss: 0.0161, \n"
     ]
    },
    {
     "name": "stdout",
     "output_type": "stream",
     "text": [
      "epoch: 12, [batch: 1512 / 2520], examples_per_second: 3180.1493, train_label_loss: 0.3128, \n"
     ]
    },
    {
     "name": "stdout",
     "output_type": "stream",
     "text": [
      "epoch: 12, [batch: 1764 / 2520], examples_per_second: 3158.6918, train_label_loss: 0.5098, \n"
     ]
    },
    {
     "name": "stdout",
     "output_type": "stream",
     "text": [
      "epoch: 12, [batch: 2016 / 2520], examples_per_second: 3176.8855, train_label_loss: 0.1966, \n"
     ]
    },
    {
     "name": "stdout",
     "output_type": "stream",
     "text": [
      "epoch: 12, [batch: 2268 / 2520], examples_per_second: 3170.6644, train_label_loss: 0.0572, \n"
     ]
    },
    {
     "name": "stdout",
     "output_type": "stream",
     "text": [
      "=============================================================\n",
      "epoch: 12, source_val_acc_label: 0.6177, target_val_acc_label: 0.4940, source_val_label_loss: 1.5432, target_val_label_loss: 2.2396, \n",
      "=============================================================\n"
     ]
    },
    {
     "name": "stdout",
     "output_type": "stream",
     "text": [
      "Patience (3) exhausted\n"
     ]
    }
   ],
   "source": [
    "###################################\n",
    "# train\n",
    "###################################\n",
    "jig = PTN_Train_Eval_Test_Jig(model, p.BEST_MODEL_PATH, p.device)\n",
    "\n",
    "jig.train(\n",
    "    train_iterable=datasets.source.processed.train,\n",
    "    source_val_iterable=datasets.source.processed.val,\n",
    "    target_val_iterable=datasets.target.processed.val,\n",
    "    num_epochs=p.n_epoch,\n",
    "    num_logs_per_epoch=p.NUM_LOGS_PER_EPOCH,\n",
    "    patience=p.patience,\n",
    "    optimizer=optimizer,\n",
    "    criteria_for_best=p.criteria_for_best,\n",
    ")"
   ]
  },
  {
   "cell_type": "code",
   "execution_count": 14,
   "id": "31e8fabf",
   "metadata": {
    "execution": {
     "iopub.execute_input": "2022-04-01T18:34:13.702827Z",
     "iopub.status.busy": "2022-04-01T18:34:13.702570Z",
     "iopub.status.idle": "2022-04-01T18:34:13.721598Z",
     "shell.execute_reply": "2022-04-01T18:34:13.721209Z"
    },
    "papermill": {
     "duration": 0.057504,
     "end_time": "2022-04-01T18:34:13.721687",
     "exception": false,
     "start_time": "2022-04-01T18:34:13.664183",
     "status": "completed"
    },
    "tags": []
   },
   "outputs": [],
   "source": [
    "total_experiment_time_secs = time.time() - start_time_secs"
   ]
  },
  {
   "cell_type": "code",
   "execution_count": 15,
   "id": "87b9595b",
   "metadata": {
    "execution": {
     "iopub.execute_input": "2022-04-01T18:34:13.801088Z",
     "iopub.status.busy": "2022-04-01T18:34:13.796510Z",
     "iopub.status.idle": "2022-04-01T18:35:02.629333Z",
     "shell.execute_reply": "2022-04-01T18:35:02.629082Z"
    },
    "papermill": {
     "duration": 48.86953,
     "end_time": "2022-04-01T18:35:02.629399",
     "exception": false,
     "start_time": "2022-04-01T18:34:13.759869",
     "status": "completed"
    },
    "tags": []
   },
   "outputs": [],
   "source": [
    "###################################\n",
    "# Evaluate the model\n",
    "###################################\n",
    "source_test_label_accuracy, source_test_label_loss = jig.test(datasets.source.processed.test)\n",
    "target_test_label_accuracy, target_test_label_loss = jig.test(datasets.target.processed.test)\n",
    "\n",
    "source_val_label_accuracy, source_val_label_loss = jig.test(datasets.source.processed.val)\n",
    "target_val_label_accuracy, target_val_label_loss = jig.test(datasets.target.processed.val)\n",
    "\n",
    "history = jig.get_history()\n",
    "\n",
    "total_epochs_trained = len(history[\"epoch_indices\"])\n",
    "\n",
    "val_dl = Iterable_Aggregator((datasets.source.original.val,datasets.target.original.val))\n",
    "\n",
    "confusion = ptn_confusion_by_domain_over_dataloader(model, p.device, val_dl)\n",
    "per_domain_accuracy = per_domain_accuracy_from_confusion(confusion)\n",
    "\n",
    "# Add a key to per_domain_accuracy for if it was a source domain\n",
    "for domain, accuracy in per_domain_accuracy.items():\n",
    "    per_domain_accuracy[domain] = {\n",
    "        \"accuracy\": accuracy,\n",
    "        \"source?\": domain in p.domains_source\n",
    "    }\n",
    "\n",
    "# Do an independent accuracy assesment JUST TO BE SURE!\n",
    "# _source_test_label_accuracy = independent_accuracy_assesment(model, datasets.source.processed.test, p.device)\n",
    "# _target_test_label_accuracy = independent_accuracy_assesment(model, datasets.target.processed.test, p.device)\n",
    "# _source_val_label_accuracy = independent_accuracy_assesment(model, datasets.source.processed.val, p.device)\n",
    "# _target_val_label_accuracy = independent_accuracy_assesment(model, datasets.target.processed.val, p.device)\n",
    "\n",
    "# assert(_source_test_label_accuracy == source_test_label_accuracy)\n",
    "# assert(_target_test_label_accuracy == target_test_label_accuracy)\n",
    "# assert(_source_val_label_accuracy == source_val_label_accuracy)\n",
    "# assert(_target_val_label_accuracy == target_val_label_accuracy)\n",
    "\n",
    "experiment = {\n",
    "    \"experiment_name\": p.experiment_name,\n",
    "    \"parameters\": dict(p),\n",
    "    \"results\": {\n",
    "        \"source_test_label_accuracy\": source_test_label_accuracy,\n",
    "        \"source_test_label_loss\": source_test_label_loss,\n",
    "        \"target_test_label_accuracy\": target_test_label_accuracy,\n",
    "        \"target_test_label_loss\": target_test_label_loss,\n",
    "        \"source_val_label_accuracy\": source_val_label_accuracy,\n",
    "        \"source_val_label_loss\": source_val_label_loss,\n",
    "        \"target_val_label_accuracy\": target_val_label_accuracy,\n",
    "        \"target_val_label_loss\": target_val_label_loss,\n",
    "        \"total_epochs_trained\": total_epochs_trained,\n",
    "        \"total_experiment_time_secs\": total_experiment_time_secs,\n",
    "        \"confusion\": confusion,\n",
    "        \"per_domain_accuracy\": per_domain_accuracy,\n",
    "    },\n",
    "    \"history\": history,\n",
    "    \"dataset_metrics\": get_dataset_metrics(datasets, \"ptn\"),\n",
    "}"
   ]
  },
  {
   "cell_type": "code",
   "execution_count": 16,
   "id": "54a21829",
   "metadata": {
    "execution": {
     "iopub.execute_input": "2022-04-01T18:35:02.707413Z",
     "iopub.status.busy": "2022-04-01T18:35:02.704746Z",
     "iopub.status.idle": "2022-04-01T18:35:02.831263Z",
     "shell.execute_reply": "2022-04-01T18:35:02.831676Z"
    },
    "papermill": {
     "duration": 0.165822,
     "end_time": "2022-04-01T18:35:02.831808",
     "exception": false,
     "start_time": "2022-04-01T18:35:02.665986",
     "status": "completed"
    },
    "tags": []
   },
   "outputs": [
    {
     "data": {
      "image/png": "[encoded data removed]",
      "text/plain": [
       "<Figure size 1080x504 with 1 Axes>"
      ]
     },
     "metadata": {
      "needs_background": "light"
     },
     "output_type": "display_data"
    }
   ],
   "source": [
    "ax = get_loss_curve(experiment)\n",
    "plt.show()"
   ]
  },
  {
   "cell_type": "code",
   "execution_count": 17,
   "id": "fd8a0f60",
   "metadata": {
    "execution": {
     "iopub.execute_input": "2022-04-01T18:35:02.928161Z",
     "iopub.status.busy": "2022-04-01T18:35:02.925591Z",
     "iopub.status.idle": "2022-04-01T18:35:03.064542Z",
     "shell.execute_reply": "2022-04-01T18:35:03.064755Z"
    },
    "papermill": {
     "duration": 0.183537,
     "end_time": "2022-04-01T18:35:03.064827",
     "exception": false,
     "start_time": "2022-04-01T18:35:02.881290",
     "status": "completed"
    },
    "tags": []
   },
   "outputs": [
    {
     "data": {
      "text/plain": [
       "<AxesSubplot:title={'center':'Results'}>"
      ]
     },
     "execution_count": 17,
     "metadata": {},
     "output_type": "execute_result"
    },
    {
     "data": {
      "image/png": "[encoded data removed]",
      "text/plain": [
       "<Figure size 1080x504 with 1 Axes>"
      ]
     },
     "metadata": {
      "needs_background": "light"
     },
     "output_type": "display_data"
    }
   ],
   "source": [
    "get_results_table(experiment)"
   ]
  },
  {
   "cell_type": "code",
   "execution_count": 18,
   "id": "cf8dc689",
   "metadata": {
    "execution": {
     "iopub.execute_input": "2022-04-01T18:35:03.145100Z",
     "iopub.status.busy": "2022-04-01T18:35:03.144782Z",
     "iopub.status.idle": "2022-04-01T18:35:03.262467Z",
     "shell.execute_reply": "2022-04-01T18:35:03.262048Z"
    },
    "papermill": {
     "duration": 0.158811,
     "end_time": "2022-04-01T18:35:03.262563",
     "exception": false,
     "start_time": "2022-04-01T18:35:03.103752",
     "status": "completed"
    },
    "tags": []
   },
   "outputs": [
    {
     "data": {
      "text/plain": [
       "<AxesSubplot:title={'center':'Per Domain Validation Accuracy'}, xlabel='domain'>"
      ]
     },
     "execution_count": 18,
     "metadata": {},
     "output_type": "execute_result"
    },
    {
     "data": {
      "image/png": "[encoded data removed]",
      "text/plain": [
       "<Figure size 1080x504 with 1 Axes>"
      ]
     },
     "metadata": {
      "needs_background": "light"
     },
     "output_type": "display_data"
    }
   ],
   "source": [
    "get_domain_accuracies(experiment)"
   ]
  },
  {
   "cell_type": "code",
   "execution_count": 19,
   "id": "a74ae082",
   "metadata": {
    "execution": {
     "iopub.execute_input": "2022-04-01T18:35:03.347787Z",
     "iopub.status.busy": "2022-04-01T18:35:03.347527Z",
     "iopub.status.idle": "2022-04-01T18:35:03.363373Z",
     "shell.execute_reply": "2022-04-01T18:35:03.362968Z"
    },
    "papermill": {
     "duration": 0.05763,
     "end_time": "2022-04-01T18:35:03.363466",
     "exception": false,
     "start_time": "2022-04-01T18:35:03.305836",
     "status": "completed"
    },
    "tags": []
   },
   "outputs": [
    {
     "name": "stdout",
     "output_type": "stream",
     "text": [
      "Source Test Label Accuracy: 0.60625 Target Test Label Accuracy: 0.50328125\n",
      "Source Val Label Accuracy: 0.6168402777777777 Target Val Label Accuracy: 0.49921875\n"
     ]
    }
   ],
   "source": [
    "print(\"Source Test Label Accuracy:\", experiment[\"results\"][\"source_test_label_accuracy\"], \"Target Test Label Accuracy:\", experiment[\"results\"][\"target_test_label_accuracy\"])\n",
    "print(\"Source Val Label Accuracy:\", experiment[\"results\"][\"source_val_label_accuracy\"], \"Target Val Label Accuracy:\", experiment[\"results\"][\"target_val_label_accuracy\"])"
   ]
  },
  {
   "cell_type": "code",
   "execution_count": 20,
   "id": "dacca602",
   "metadata": {
    "execution": {
     "iopub.execute_input": "2022-04-01T18:35:03.450364Z",
     "iopub.status.busy": "2022-04-01T18:35:03.450110Z",
     "iopub.status.idle": "2022-04-01T18:35:03.462335Z",
     "shell.execute_reply": "2022-04-01T18:35:03.461930Z"
    },
    "papermill": {
     "duration": 0.053644,
     "end_time": "2022-04-01T18:35:03.462427",
     "exception": false,
     "start_time": "2022-04-01T18:35:03.408783",
     "status": "completed"
    },
    "tags": [
     "experiment_json"
    ]
   },
   "outputs": [
    {
     "data": {
      "text/plain": [
       "'{\"experiment_name\": \"tuned_1v2:oracle.run2_limited\", \"parameters\": {\"experiment_name\": \"tuned_1v2:oracle.run2_limited\", \"device\": \"cuda\", \"lr\": 0.0001, \"labels_source\": [\"3123D52\", \"3123D65\", \"3123D79\", \"3123D80\", \"3123D54\", \"3123D70\", \"3123D7B\", \"3123D89\", \"3123D58\", \"3123D76\", \"3123D7D\", \"3123EFE\", \"3123D64\", \"3123D78\", \"3123D7E\", \"3124E4A\"], \"labels_target\": [\"3123D52\", \"3123D65\", \"3123D79\", \"3123D80\", \"3123D54\", \"3123D70\", \"3123D7B\", \"3123D89\", \"3123D58\", \"3123D76\", \"3123D7D\", \"3123EFE\", \"3123D64\", \"3123D78\", \"3123D7E\", \"3124E4A\"], \"episode_transforms_source\": [], \"episode_transforms_target\": [], \"domains_source\": [8, 32, 50], \"domains_target\": [14, 20, 26, 38, 44], \"num_examples_per_domain_per_label_source\": 2000, \"num_examples_per_domain_per_label_target\": 2000, \"n_shot\": 3, \"n_way\": 16, \"n_query\": 2, \"train_k_factor\": 3, \"val_k_factor\": 2, \"test_k_factor\": 2, \"torch_default_dtype\": \"torch.float32\", \"n_epoch\": 50, \"patience\": 3, \"criteria_for_best\": \"target_accuracy\", \"x_net\": [{\"class\": \"nnReshape\", \"kargs\": {\"shape\": [-1, 1, 2, 256]}}, {\"class\": \"Conv2d\", \"kargs\": {\"in_channels\": 1, \"out_channels\": 256, \"kernel_size\": [1, 7], \"bias\": false, \"padding\": [0, 3]}}, {\"class\": \"ReLU\", \"kargs\": {\"inplace\": true}}, {\"class\": \"BatchNorm2d\", \"kargs\": {\"num_features\": 256}}, {\"class\": \"Conv2d\", \"kargs\": {\"in_channels\": 256, \"out_channels\": 80, \"kernel_size\": [2, 7], \"bias\": true, \"padding\": [0, 3]}}, {\"class\": \"ReLU\", \"kargs\": {\"inplace\": true}}, {\"class\": \"BatchNorm2d\", \"kargs\": {\"num_features\": 80}}, {\"class\": \"Flatten\", \"kargs\": {}}, {\"class\": \"Linear\", \"kargs\": {\"in_features\": 20480, \"out_features\": 256}}, {\"class\": \"ReLU\", \"kargs\": {\"inplace\": true}}, {\"class\": \"BatchNorm1d\", \"kargs\": {\"num_features\": 256}}, {\"class\": \"Linear\", \"kargs\": {\"in_features\": 256, \"out_features\": 256}}], \"NUM_LOGS_PER_EPOCH\": 10, \"BEST_MODEL_PATH\": \"./best_model.pth\", \"pickle_name\": \"oracle.Run2_10kExamples_stratified_ds.2022A.pkl\", \"x_transforms_source\": [\"unit_power\"], \"x_transforms_target\": [\"unit_power\"], \"dataset_seed\": 420, \"seed\": 420}, \"results\": {\"source_test_label_accuracy\": 0.60625, \"source_test_label_loss\": 1.31735360622406, \"target_test_label_accuracy\": 0.50328125, \"target_test_label_loss\": 1.7450460195541382, \"source_val_label_accuracy\": 0.6168402777777777, \"source_val_label_loss\": 1.2653464078903198, \"target_val_label_accuracy\": 0.49921875, \"target_val_label_loss\": 1.793765664100647, \"total_epochs_trained\": 12, \"total_experiment_time_secs\": 877.8177509307861, \"confusion\": {\"8\": {\"15\": {\"15\": 110, \"11\": 55, \"8\": 24, \"12\": 36, \"3\": 6, \"2\": 6, \"7\": 2, \"6\": 1}, \"5\": {\"10\": 35, \"5\": 169, \"1\": 26, \"13\": 3, \"14\": 2, \"9\": 3, \"0\": 2}, \"7\": {\"2\": 46, \"7\": 80, \"4\": 49, \"8\": 17, \"6\": 34, \"11\": 1, \"14\": 5, \"13\": 1, \"15\": 6, \"0\": 1}, \"4\": {\"6\": 66, \"4\": 79, \"7\": 41, \"2\": 33, \"14\": 9, \"8\": 9, \"13\": 2, \"15\": 1}, \"10\": {\"0\": 55, \"5\": 25, \"1\": 27, \"10\": 95, \"13\": 20, \"14\": 18}, \"11\": {\"11\": 85, \"15\": 63, \"8\": 53, \"12\": 27, \"4\": 2, \"3\": 4, \"2\": 1, \"7\": 3, \"13\": 1, \"6\": 1}, \"12\": {\"15\": 30, \"12\": 122, \"11\": 16, \"3\": 71, \"7\": 1}, \"0\": {\"14\": 58, \"0\": 105, \"10\": 40, \"13\": 23, \"1\": 2, \"6\": 8, \"5\": 1, \"4\": 3}, \"14\": {\"14\": 85, \"4\": 7, \"0\": 60, \"13\": 44, \"1\": 4, \"6\": 24, \"10\": 12, \"7\": 2, \"5\": 2}, \"8\": {\"7\": 10, \"4\": 14, \"8\": 140, \"15\": 20, \"11\": 39, \"6\": 11, \"3\": 1, \"2\": 3, \"13\": 1, \"14\": 1}, \"13\": {\"1\": 42, \"13\": 86, \"14\": 34, \"0\": 35, \"6\": 6, \"10\": 25, \"4\": 6, \"5\": 3, \"7\": 2, \"8\": 1}, \"6\": {\"7\": 38, \"14\": 27, \"4\": 56, \"6\": 70, \"2\": 22, \"0\": 9, \"13\": 6, \"8\": 10, \"11\": 1, \"15\": 1}, \"1\": {\"1\": 139, \"13\": 41, \"5\": 30, \"10\": 21, \"14\": 8, \"0\": 1}, \"3\": {\"3\": 168, \"15\": 11, \"12\": 61}, \"9\": {\"9\": 237, \"5\": 3}, \"2\": {\"2\": 137, \"7\": 45, \"14\": 1, \"13\": 1, \"4\": 26, \"15\": 10, \"3\": 5, \"8\": 5, \"6\": 10}}, \"50\": {\"4\": {\"1\": 13, \"5\": 58, \"4\": 109, \"7\": 7, \"6\": 46, \"10\": 1, \"13\": 2, \"0\": 4}, \"10\": {\"13\": 39, \"10\": 129, \"5\": 21, \"7\": 36, \"0\": 11, \"4\": 4}, \"15\": {\"15\": 196, \"11\": 21, \"1\": 17, \"14\": 5, \"6\": 1}, \"0\": {\"0\": 181, \"2\": 44, \"5\": 4, \"10\": 9, \"4\": 2}, \"6\": {\"1\": 71, \"4\": 54, \"6\": 92, \"2\": 2, \"5\": 14, \"0\": 3, \"15\": 4}, \"3\": {\"3\": 227, \"8\": 13}, \"7\": {\"10\": 41, \"7\": 66, \"13\": 97, \"5\": 30, \"4\": 5, \"8\": 1}, \"2\": {\"2\": 208, \"0\": 31, \"6\": 1}, \"8\": {\"8\": 225, \"7\": 1, \"3\": 14}, \"11\": {\"11\": 208, \"12\": 5, \"9\": 4, \"14\": 13, \"15\": 10}, \"14\": {\"14\": 222, \"12\": 10, \"11\": 8}, \"12\": {\"12\": 202, \"14\": 14, \"9\": 21, \"11\": 3}, \"13\": {\"13\": 110, \"7\": 71, \"10\": 46, \"5\": 11, \"0\": 1, \"4\": 1}, \"9\": {\"9\": 208, \"12\": 30, \"11\": 2}, \"5\": {\"7\": 15, \"10\": 15, \"5\": 114, \"13\": 12, \"4\": 69, \"0\": 7, \"6\": 8}, \"1\": {\"1\": 142, \"2\": 4, \"6\": 66, \"15\": 20, \"4\": 8}}, \"32\": {\"7\": {\"7\": 112, \"11\": 58, \"3\": 2, \"4\": 11, \"13\": 45, \"2\": 2, \"8\": 4, \"0\": 6}, \"2\": {\"2\": 141, \"14\": 39, \"5\": 21, \"0\": 17, \"11\": 12, \"4\": 9, \"8\": 1}, \"5\": {\"8\": 26, \"5\": 75, \"4\": 26, \"7\": 7, \"0\": 43, \"14\": 20, \"2\": 25, \"13\": 8, \"15\": 2, \"11\": 6, \"3\": 2}, \"6\": {\"6\": 240}, \"13\": {\"13\": 94, \"0\": 14, \"8\": 41, \"3\": 9, \"4\": 29, \"7\": 27, \"5\": 9, \"11\": 17}, \"4\": {\"13\": 42, \"11\": 25, \"7\": 30, \"0\": 39, \"5\": 28, \"4\": 48, \"8\": 25, \"2\": 3}, \"3\": {\"3\": 218, \"13\": 11, \"8\": 8, \"7\": 3}, \"0\": {\"5\": 42, \"2\": 23, \"0\": 63, \"8\": 11, \"4\": 37, \"11\": 31, \"13\": 19, \"7\": 12, \"14\": 2}, \"9\": {\"9\": 231, \"14\": 8, \"12\": 1}, \"12\": {\"12\": 240}, \"8\": {\"8\": 140, \"13\": 28, \"4\": 25, \"5\": 23, \"3\": 10, \"0\": 7, \"15\": 6, \"7\": 1}, \"14\": {\"14\": 174, \"2\": 53, \"0\": 2, \"5\": 9, \"9\": 1, \"11\": 1}, \"15\": {\"15\": 227, \"8\": 9, \"3\": 1, \"5\": 2, \"0\": 1}, \"11\": {\"7\": 64, \"11\": 84, \"2\": 10, \"4\": 22, \"0\": 17, \"13\": 32, \"5\": 8, \"8\": 3}, \"10\": {\"10\": 237, \"6\": 2, \"1\": 1}, \"1\": {\"1\": 236, \"10\": 4}}, \"20\": {\"15\": {\"12\": 21, \"13\": 46, \"15\": 41, \"0\": 19, \"3\": 6, \"5\": 21, \"2\": 20, \"1\": 24, \"9\": 32, \"4\": 5, \"7\": 2, \"8\": 3}, \"5\": {\"10\": 2, \"0\": 17, \"7\": 15, \"5\": 30, \"9\": 36, \"12\": 18, \"3\": 32, \"2\": 34, \"4\": 12, \"1\": 11, \"13\": 9, \"8\": 3, \"15\": 20, \"14\": 1}, \"7\": {\"7\": 96, \"10\": 17, \"11\": 10, \"9\": 9, \"3\": 25, \"14\": 14, \"6\": 12, \"5\": 7, \"8\": 44, \"2\": 4, \"4\": 1, \"13\": 1}, \"4\": {\"4\": 118, \"12\": 19, \"9\": 7, \"1\": 10, \"7\": 3, \"10\": 16, \"0\": 22, \"8\": 9, \"3\": 7, \"5\": 19, \"2\": 6, \"15\": 3, \"14\": 1}, \"10\": {\"8\": 69, \"14\": 52, \"10\": 68, \"4\": 13, \"7\": 21, \"3\": 5, \"5\": 3, \"6\": 7, \"0\": 1, \"11\": 1}, \"11\": {\"11\": 232, \"7\": 6, \"3\": 1, \"2\": 1}, \"12\": {\"1\": 29, \"0\": 41, \"15\": 27, \"5\": 21, \"12\": 46, \"4\": 23, \"2\": 16, \"13\": 13, \"3\": 7, \"9\": 16, \"7\": 1}, \"0\": {\"15\": 14, \"12\": 44, \"13\": 16, \"0\": 55, \"5\": 7, \"1\": 57, \"4\": 21, \"3\": 6, \"9\": 8, \"2\": 11, \"8\": 1}, \"14\": {\"14\": 93, \"6\": 30, \"10\": 66, \"8\": 37, \"5\": 1, \"7\": 7, \"4\": 3, \"3\": 3}, \"8\": {\"3\": 22, \"7\": 41, \"10\": 46, \"14\": 30, \"8\": 60, \"4\": 12, \"6\": 12, \"9\": 3, \"5\": 5, \"15\": 2, \"12\": 2, \"2\": 4, \"11\": 1}, \"13\": {\"13\": 107, \"15\": 37, \"3\": 9, \"7\": 3, \"5\": 13, \"9\": 17, \"2\": 24, \"12\": 14, \"0\": 3, \"1\": 10, \"11\": 2, \"4\": 1}, \"6\": {\"7\": 15, \"6\": 170, \"8\": 11, \"14\": 35, \"10\": 7, \"11\": 2}, \"1\": {\"1\": 85, \"0\": 65, \"12\": 32, \"15\": 21, \"4\": 8, \"13\": 10, \"5\": 5, \"9\": 9, \"2\": 5}, \"3\": {\"4\": 16, \"10\": 10, \"13\": 13, \"3\": 43, \"9\": 16, \"12\": 8, \"8\": 15, \"2\": 33, \"7\": 47, \"5\": 23, \"0\": 5, \"1\": 3, \"15\": 8}, \"9\": {\"2\": 31, \"15\": 29, \"3\": 24, \"13\": 35, \"5\": 33, \"12\": 14, \"8\": 2, \"10\": 6, \"9\": 28, \"7\": 8, \"1\": 10, \"4\": 9, \"0\": 11}, \"2\": {\"5\": 40, \"3\": 36, \"9\": 37, \"2\": 42, \"10\": 3, \"8\": 6, \"13\": 17, \"12\": 10, \"0\": 4, \"7\": 13, \"1\": 6, \"15\": 21, \"4\": 4, \"11\": 1}}, \"26\": {\"4\": {\"4\": 67, \"0\": 29, \"14\": 15, \"15\": 27, \"8\": 12, \"2\": 25, \"7\": 28, \"3\": 20, \"1\": 10, \"5\": 3, \"10\": 3, \"6\": 1}, \"10\": {\"6\": 36, \"1\": 45, \"10\": 44, \"4\": 12, \"0\": 28, \"2\": 3, \"14\": 29, \"9\": 7, \"8\": 19, \"7\": 6, \"5\": 4, \"13\": 2, \"12\": 4, \"3\": 1}, \"15\": {\"15\": 73, \"7\": 24, \"4\": 22, \"3\": 84, \"2\": 26, \"5\": 3, \"0\": 3, \"1\": 1, \"9\": 2, \"10\": 1, \"8\": 1}, \"0\": {\"14\": 26, \"4\": 45, \"1\": 46, \"0\": 48, \"8\": 23, \"6\": 4, \"10\": 23, \"9\": 5, \"15\": 5, \"2\": 6, \"5\": 3, \"7\": 5, \"3\": 1}, \"6\": {\"6\": 129, \"10\": 19, \"13\": 20, \"5\": 23, \"8\": 7, \"9\": 24, \"14\": 9, \"1\": 7, \"0\": 2}, \"3\": {\"7\": 26, \"4\": 14, \"3\": 84, \"15\": 71, \"2\": 32, \"0\": 3, \"8\": 5, \"9\": 4, \"5\": 1}, \"7\": {\"7\": 45, \"15\": 28, \"4\": 20, \"8\": 22, \"2\": 46, \"9\": 12, \"3\": 28, \"5\": 16, \"14\": 7, \"0\": 7, \"10\": 3, \"13\": 6}, \"2\": {\"2\": 41, \"5\": 8, \"4\": 27, \"15\": 24, \"7\": 52, \"8\": 25, \"3\": 24, \"9\": 15, \"0\": 12, \"14\": 5, \"10\": 6, \"13\": 1}, \"8\": {\"0\": 15, \"8\": 50, \"4\": 16, \"9\": 33, \"5\": 20, \"14\": 28, \"2\": 14, \"1\": 6, \"7\": 26, \"6\": 14, \"13\": 12, \"10\": 5, \"15\": 1}, \"11\": {\"11\": 228, \"12\": 12}, \"14\": {\"8\": 27, \"10\": 23, \"0\": 43, \"14\": 44, \"2\": 3, \"1\": 51, \"4\": 12, \"7\": 4, \"6\": 7, \"9\": 14, \"5\": 7, \"3\": 1, \"15\": 2, \"13\": 2}, \"12\": {\"11\": 24, \"12\": 216}, \"13\": {\"6\": 44, \"13\": 93, \"5\": 49, \"9\": 37, \"8\": 7, \"3\": 2, \"7\": 3, \"10\": 2, \"14\": 1, \"0\": 1, \"15\": 1}, \"9\": {\"9\": 44, \"7\": 12, \"8\": 30, \"5\": 52, \"10\": 7, \"6\": 27, \"15\": 5, \"13\": 34, \"14\": 10, \"2\": 9, \"1\": 4, \"0\": 5, \"4\": 1}, \"5\": {\"5\": 45, \"3\": 8, \"7\": 18, \"9\": 30, \"15\": 12, \"10\": 6, \"13\": 46, \"6\": 38, \"2\": 20, \"8\": 10, \"14\": 5, \"1\": 2}, \"1\": {\"14\": 38, \"1\": 98, \"10\": 47, \"0\": 32, \"6\": 4, \"4\": 4, \"8\": 9, \"5\": 2, \"15\": 1, \"9\": 3, \"7\": 1, \"3\": 1}}, \"38\": {\"7\": {\"7\": 83, \"5\": 36, \"10\": 77, \"13\": 8, \"8\": 21, \"15\": 7, \"12\": 1, \"3\": 6, \"4\": 1}, \"2\": {\"2\": 207, \"14\": 31, \"11\": 2}, \"5\": {\"8\": 52, \"5\": 63, \"13\": 47, \"7\": 27, \"15\": 37, \"12\": 1, \"10\": 8, \"1\": 2, \"3\": 2, \"14\": 1}, \"6\": {\"6\": 143, \"9\": 83, \"3\": 12, \"15\": 1, \"13\": 1}, \"13\": {\"13\": 53, \"15\": 41, \"1\": 40, \"6\": 4, \"8\": 29, \"3\": 16, \"7\": 8, \"5\": 34, \"14\": 5, \"0\": 2, \"2\": 5, \"10\": 3}, \"4\": {\"4\": 223, \"12\": 14, \"10\": 3}, \"3\": {\"6\": 19, \"3\": 57, \"10\": 12, \"9\": 24, \"0\": 65, \"7\": 18, \"5\": 12, \"8\": 9, \"15\": 13, \"13\": 9, \"1\": 2}, \"0\": {\"0\": 161, \"3\": 60, \"9\": 6, \"6\": 5, \"10\": 7, \"7\": 1}, \"9\": {\"9\": 139, \"6\": 83, \"3\": 11, \"0\": 7}, \"12\": {\"12\": 212, \"5\": 1, \"14\": 11, \"4\": 13, \"7\": 1, \"11\": 1, \"13\": 1}, \"8\": {\"15\": 42, \"5\": 57, \"1\": 14, \"10\": 8, \"8\": 64, \"7\": 14, \"13\": 31, \"3\": 10}, \"14\": {\"2\": 63, \"14\": 107, \"12\": 29, \"11\": 32, \"7\": 2, \"5\": 4, \"15\": 2, \"10\": 1}, \"15\": {\"15\": 71, \"8\": 35, \"5\": 26, \"13\": 54, \"10\": 3, \"7\": 8, \"3\": 17, \"1\": 21, \"0\": 1, \"6\": 4}, \"11\": {\"11\": 190, \"12\": 17, \"14\": 24, \"2\": 8, \"4\": 1}, \"10\": {\"3\": 14, \"10\": 105, \"7\": 90, \"5\": 3, \"0\": 9, \"4\": 4, \"8\": 9, \"13\": 3, \"15\": 3}, \"1\": {\"1\": 190, \"13\": 22, \"15\": 24, \"5\": 2, \"8\": 2}}, \"14\": {\"11\": {\"11\": 199, \"10\": 17, \"9\": 9, \"12\": 14, \"0\": 1}, \"7\": {\"7\": 216, \"15\": 23, \"1\": 1}, \"6\": {\"6\": 99, \"14\": 54, \"13\": 50, \"2\": 26, \"3\": 5, \"4\": 5, \"1\": 1}, \"12\": {\"12\": 124, \"10\": 11, \"11\": 71, \"9\": 18, \"0\": 13, \"8\": 2, \"4\": 1}, \"4\": {\"1\": 31, \"5\": 69, \"4\": 48, \"6\": 5, \"3\": 48, \"2\": 20, \"13\": 3, \"14\": 16}, \"13\": {\"6\": 66, \"13\": 130, \"2\": 33, \"5\": 4, \"4\": 1, \"14\": 5, \"3\": 1}, \"8\": {\"8\": 235, \"3\": 2, \"1\": 2, \"5\": 1}, \"5\": {\"5\": 75, \"2\": 22, \"14\": 7, \"3\": 26, \"4\": 57, \"1\": 47, \"13\": 1, \"6\": 5}, \"14\": {\"3\": 29, \"14\": 111, \"6\": 42, \"4\": 9, \"2\": 24, \"0\": 11, \"5\": 8, \"13\": 6}, \"3\": {\"3\": 141, \"4\": 36, \"14\": 24, \"5\": 23, \"8\": 6, \"2\": 7, \"1\": 1, \"6\": 1, \"0\": 1}, \"10\": {\"10\": 170, \"11\": 19, \"0\": 43, \"9\": 4, \"12\": 4}, \"1\": {\"1\": 137, \"4\": 35, \"5\": 54, \"2\": 9, \"3\": 5}, \"2\": {\"14\": 35, \"3\": 21, \"4\": 24, \"2\": 53, \"13\": 34, \"5\": 37, \"6\": 24, \"7\": 1, \"1\": 7, \"15\": 2, \"0\": 2}, \"15\": {\"15\": 190, \"7\": 49, \"13\": 1}, \"9\": {\"9\": 222, \"0\": 8, \"10\": 3, \"11\": 4, \"12\": 3}, \"0\": {\"0\": 202, \"10\": 25, \"8\": 5, \"9\": 4, \"14\": 2, \"3\": 2}}, \"44\": {\"10\": {\"10\": 228, \"12\": 11, \"1\": 1}, \"6\": {\"9\": 26, \"6\": 161, \"11\": 31, \"7\": 12, \"2\": 6, \"13\": 4}, \"13\": {\"13\": 223, \"4\": 10, \"14\": 4, \"6\": 3}, \"3\": {\"3\": 176, \"12\": 21, \"1\": 38, \"2\": 2, \"9\": 1, \"7\": 2}, \"9\": {\"7\": 67, \"9\": 78, \"2\": 80, \"11\": 2, \"6\": 7, \"1\": 2, \"13\": 1, \"3\": 3}, \"1\": {\"3\": 42, \"1\": 110, \"12\": 80, \"7\": 6, \"2\": 1, \"10\": 1}, \"5\": {\"14\": 21, \"5\": 198, \"8\": 16, \"0\": 4, \"15\": 1}, \"11\": {\"11\": 198, \"6\": 37, \"7\": 4, \"9\": 1}, \"4\": {\"4\": 201, \"14\": 17, \"13\": 6, \"15\": 15, \"9\": 1}, \"14\": {\"14\": 153, \"5\": 21, \"15\": 55, \"4\": 9, \"13\": 2}, \"12\": {\"12\": 132, \"1\": 72, \"3\": 32, \"10\": 4}, \"7\": {\"7\": 98, \"2\": 61, \"9\": 63, \"3\": 3, \"12\": 1, \"11\": 2, \"1\": 6, \"6\": 6}, \"0\": {\"8\": 99, \"0\": 138, \"5\": 3}, \"15\": {\"15\": 177, \"14\": 43, \"4\": 17, \"5\": 2, \"8\": 1}, \"2\": {\"2\": 101, \"7\": 54, \"9\": 72, \"3\": 8, \"13\": 1, \"6\": 3, \"1\": 1}, \"8\": {\"8\": 130, \"15\": 4, \"0\": 98, \"5\": 6, \"14\": 2}}}, \"per_domain_accuracy\": {\"8\": {\"accuracy\": 0.49661458333333336, \"source?\": true}, \"50\": {\"accuracy\": 0.6872395833333333, \"source?\": true}, \"32\": {\"accuracy\": 0.6666666666666666, \"source?\": true}, \"20\": {\"accuracy\": 0.3421875, \"source?\": false}, \"26\": {\"accuracy\": 0.35130208333333335, \"source?\": false}, \"38\": {\"accuracy\": 0.5385416666666667, \"source?\": false}, \"14\": {\"accuracy\": 0.6125, \"source?\": false}, \"44\": {\"accuracy\": 0.6515625, \"source?\": false}}}, \"history\": {\"epoch_indices\": [1, 2, 3, 4, 5, 6, 7, 8, 9, 10, 11, 12], \"train_label_loss\": [1.7851797460563599, 1.3304844494849917, 1.1053203299759873, 0.8364452593797256, 0.6753537418468604, 0.5444720132897297, 0.4423143843188882, 0.36373635476366395, 0.2985171943917752, 0.2463050856964574, 0.20974284626565695, 0.18461063228979974], \"source_val_label_loss\": [1.5062339305877686, 1.393267035484314, 1.140869379043579, 1.0875511169433594, 1.1146841049194336, 1.1421748399734497, 1.1954894065856934, 1.2653464078903198, 1.327914834022522, 1.4396206140518188, 1.480565071105957, 1.5432368516921997], \"target_val_label_loss\": [1.8747609853744507, 1.8594731092453003, 1.5635629892349243, 1.51193368434906, 1.5461176633834839, 1.6088489294052124, 1.7052863836288452, 1.793765664100647, 1.921113133430481, 2.0755257606506348, 2.1527647972106934, 2.2396459579467773], \"source_val_acc_label\": [0.4035590277777778, 0.43289930555555556, 0.5610243055555556, 0.5873263888888889, 0.5997395833333333, 0.6067708333333334, 0.6129340277777777, 0.6168402777777777, 0.6151909722222222, 0.6147569444444444, 0.6118923611111111, 0.6177083333333333], \"target_val_acc_label\": [0.29015625, 0.30791666666666667, 0.45328125, 0.4796875, 0.49416666666666664, 0.4977083333333333, 0.4991145833333333, 0.49921875, 0.4956770833333333, 0.49432291666666667, 0.49114583333333334, 0.4940104166666667]}, \"dataset_metrics\": {\"source\": {\"train\": {\"n_unique_x\": 67200, \"n_unique_y\": 16, \"n_batch/episode\": 2520}, \"val\": {\"n_unique_x\": 14400, \"n_unique_y\": 16, \"n_batch/episode\": 360}, \"test\": {\"n_unique_x\": 14400, \"n_unique_y\": 16, \"n_batch/episode\": 360}}, \"target\": {\"train\": {\"n_unique_x\": 112000, \"n_unique_y\": 16, \"n_batch/episode\": 4200}, \"val\": {\"n_unique_x\": 24000, \"n_unique_y\": 16, \"n_batch/episode\": 600}, \"test\": {\"n_unique_x\": 24000, \"n_unique_y\": 16, \"n_batch/episode\": 600}}}}'"
      ]
     },
     "execution_count": 20,
     "metadata": {},
     "output_type": "execute_result"
    }
   ],
   "source": [
    "json.dumps(experiment)"
   ]
  }
 ],
 "metadata": {
  "celltoolbar": "Tags",
  "kernelspec": {
   "display_name": "Python 3 (ipykernel)",
   "language": "python",
   "name": "python3"
  },
  "language_info": {
   "codemirror_mode": {
    "name": "ipython",
    "version": 3
   },
   "file_extension": ".py",
   "mimetype": "text/x-python",
   "name": "python",
   "nbconvert_exporter": "python",
   "pygments_lexer": "ipython3",
   "version": "3.8.10"
  },
  "papermill": {
   "default_parameters": {},
   "duration": 930.638561,
   "end_time": "2022-04-01T18:35:04.412675",
   "environment_variables": {},
   "exception": null,
   "input_path": "/mnt/wd500GB/CSC500/csc500-main/csc500-notebooks/templates/ptn_template.ipynb",
   "output_path": "trial.ipynb",
   "parameters": {
    "parameters": {
     "BEST_MODEL_PATH": "./best_model.pth",
     "NUM_LOGS_PER_EPOCH": 10,
     "criteria_for_best": "target_accuracy",
     "dataset_seed": 420,
     "device": "cuda",
     "domains_source": [
      8,
      32,
      50
     ],
     "domains_target": [
      14,
      20,
      26,
      38,
      44
     ],
     "episode_transforms_source": [],
     "episode_transforms_target": [],
     "experiment_name": "tuned_1v2:oracle.run2_limited",
     "labels_source": [
      "3123D52",
      "3123D65",
      "3123D79",
      "3123D80",
      "3123D54",
      "3123D70",
      "3123D7B",
      "3123D89",
      "3123D58",
      "3123D76",
      "3123D7D",
      "3123EFE",
      "3123D64",
      "3123D78",
      "3123D7E",
      "3124E4A"
     ],
     "labels_target": [
      "3123D52",
      "3123D65",
      "3123D79",
      "3123D80",
      "3123D54",
      "3123D70",
      "3123D7B",
      "3123D89",
      "3123D58",
      "3123D76",
      "3123D7D",
      "3123EFE",
      "3123D64",
      "3123D78",
      "3123D7E",
      "3124E4A"
     ],
     "lr": 0.0001,
     "n_epoch": 50,
     "n_query": 2,
     "n_shot": 3,
     "n_way": 16,
     "num_examples_per_domain_per_label_source": 2000,
     "num_examples_per_domain_per_label_target": 2000,
     "patience": 3,
     "pickle_name": "oracle.Run2_10kExamples_stratified_ds.2022A.pkl",
     "seed": 420,
     "test_k_factor": 2,
     "torch_default_dtype": "torch.float32",
     "train_k_factor": 3,
     "val_k_factor": 2,
     "x_net": [
      {
       "class": "nnReshape",
       "kargs": {
        "shape": [
         -1,
         1,
         2,
         256
        ]
       }
      },
      {
       "class": "Conv2d",
       "kargs": {
        "bias": false,
        "in_channels": 1,
        "kernel_size": [
         1,
         7
        ],
        "out_channels": 256,
        "padding": [
         0,
         3
        ]
       }
      },
      {
       "class": "ReLU",
       "kargs": {
        "inplace": true
       }
      },
      {
       "class": "BatchNorm2d",
       "kargs": {
        "num_features": 256
       }
      },
      {
       "class": "Conv2d",
       "kargs": {
        "bias": true,
        "in_channels": 256,
        "kernel_size": [
         2,
         7
        ],
        "out_channels": 80,
        "padding": [
         0,
         3
        ]
       }
      },
      {
       "class": "ReLU",
       "kargs": {
        "inplace": true
       }
      },
      {
       "class": "BatchNorm2d",
       "kargs": {
        "num_features": 80
       }
      },
      {
       "class": "Flatten",
       "kargs": {}
      },
      {
       "class": "Linear",
       "kargs": {
        "in_features": 20480,
        "out_features": 256
       }
      },
      {
       "class": "ReLU",
       "kargs": {
        "inplace": true
       }
      },
      {
       "class": "BatchNorm1d",
       "kargs": {
        "num_features": 256
       }
      },
      {
       "class": "Linear",
       "kargs": {
        "in_features": 256,
        "out_features": 256
       }
      }
     ],
     "x_transforms_source": [
      "unit_power"
     ],
     "x_transforms_target": [
      "unit_power"
     ]
    }
   },
   "start_time": "2022-04-01T18:19:33.774114",
   "version": "2.3.4"
  }
 },
 "nbformat": 4,
 "nbformat_minor": 5
}