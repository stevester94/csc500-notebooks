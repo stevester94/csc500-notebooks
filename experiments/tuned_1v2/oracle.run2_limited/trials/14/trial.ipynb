{
 "cells": [
  {
   "cell_type": "markdown",
   "id": "9fea5f46",
   "metadata": {
    "papermill": {
     "duration": 0.031896,
     "end_time": "2022-03-26T19:26:43.471289",
     "exception": false,
     "start_time": "2022-03-26T19:26:43.439393",
     "status": "completed"
    },
    "tags": []
   },
   "source": [
    "# PTN Template\n",
    "This notebook serves as a template for single dataset PTN experiments  \n",
    "It can be run on its own by setting STANDALONE to True (do a find for \"STANDALONE\" to see where)  \n",
    "But it is intended to be executed as part of a *papermill.py script. See any of the   \n",
    "experimentes with a papermill script to get started with that workflow.  "
   ]
  },
  {
   "cell_type": "code",
   "execution_count": 1,
   "id": "0902182a",
   "metadata": {
    "execution": {
     "iopub.execute_input": "2022-03-26T19:26:43.525695Z",
     "iopub.status.busy": "2022-03-26T19:26:43.524834Z",
     "iopub.status.idle": "2022-03-26T19:26:45.434249Z",
     "shell.execute_reply": "2022-03-26T19:26:45.433860Z"
    },
    "papermill": {
     "duration": 1.943796,
     "end_time": "2022-03-26T19:26:45.434350",
     "exception": false,
     "start_time": "2022-03-26T19:26:43.490554",
     "status": "completed"
    },
    "tags": []
   },
   "outputs": [],
   "source": [
    "%load_ext autoreload\n",
    "%autoreload 2\n",
    "%matplotlib inline\n",
    "\n",
    "    \n",
    "import os, json, sys, time, random\n",
    "import numpy as np\n",
    "import torch\n",
    "from torch.optim import Adam\n",
    "from  easydict import EasyDict\n",
    "import matplotlib.pyplot as plt\n",
    "\n",
    "from steves_models.steves_ptn import Steves_Prototypical_Network\n",
    "\n",
    "from steves_utils.lazy_iterable_wrapper import Lazy_Iterable_Wrapper\n",
    "from steves_utils.iterable_aggregator import Iterable_Aggregator\n",
    "from steves_utils.ptn_train_eval_test_jig import  PTN_Train_Eval_Test_Jig\n",
    "from steves_utils.torch_sequential_builder import build_sequential\n",
    "from steves_utils.torch_utils import get_dataset_metrics, ptn_confusion_by_domain_over_dataloader\n",
    "from steves_utils.utils_v2 import (per_domain_accuracy_from_confusion, get_datasets_base_path)\n",
    "from steves_utils.PTN.utils import independent_accuracy_assesment\n",
    "\n",
    "from steves_utils.stratified_dataset.episodic_accessor import Episodic_Accessor_Factory\n",
    "\n",
    "from steves_utils.ptn_do_report import (\n",
    "    get_loss_curve,\n",
    "    get_results_table,\n",
    "    get_parameters_table,\n",
    "    get_domain_accuracies,\n",
    ")\n",
    "\n",
    "from steves_utils.transforms import get_chained_transform"
   ]
  },
  {
   "cell_type": "markdown",
   "id": "41c840b4",
   "metadata": {
    "papermill": {
     "duration": 0.015659,
     "end_time": "2022-03-26T19:26:45.470274",
     "exception": false,
     "start_time": "2022-03-26T19:26:45.454615",
     "status": "completed"
    },
    "tags": []
   },
   "source": [
    "# Required Parameters\n",
    "These are allowed parameters, not defaults\n",
    "Each of these values need to be present in the injected parameters (the notebook will raise an exception if they are not present)\n",
    "\n",
    "Papermill uses the cell tag \"parameters\" to inject the real parameters below this cell.\n",
    "Enable tags to see what I mean"
   ]
  },
  {
   "cell_type": "code",
   "execution_count": 2,
   "id": "fd44eb83",
   "metadata": {
    "execution": {
     "iopub.execute_input": "2022-03-26T19:26:45.514612Z",
     "iopub.status.busy": "2022-03-26T19:26:45.514213Z",
     "iopub.status.idle": "2022-03-26T19:26:45.536261Z",
     "shell.execute_reply": "2022-03-26T19:26:45.535481Z"
    },
    "papermill": {
     "duration": 0.042081,
     "end_time": "2022-03-26T19:26:45.536430",
     "exception": false,
     "start_time": "2022-03-26T19:26:45.494349",
     "status": "completed"
    },
    "tags": []
   },
   "outputs": [],
   "source": [
    "required_parameters = {\n",
    "    \"experiment_name\",\n",
    "    \"lr\",\n",
    "    \"device\",\n",
    "    \"seed\",\n",
    "    \"dataset_seed\",\n",
    "    \"labels_source\",\n",
    "    \"labels_target\",\n",
    "    \"domains_source\",\n",
    "    \"domains_target\",\n",
    "    \"num_examples_per_domain_per_label_source\",\n",
    "    \"num_examples_per_domain_per_label_target\",\n",
    "    \"n_shot\",\n",
    "    \"n_way\",\n",
    "    \"n_query\",\n",
    "    \"train_k_factor\",\n",
    "    \"val_k_factor\",\n",
    "    \"test_k_factor\",\n",
    "    \"n_epoch\",\n",
    "    \"patience\",\n",
    "    \"criteria_for_best\",\n",
    "    \"x_transforms_source\",\n",
    "    \"x_transforms_target\",\n",
    "    \"episode_transforms_source\",\n",
    "    \"episode_transforms_target\",\n",
    "    \"pickle_name\",\n",
    "    \"x_net\",\n",
    "    \"NUM_LOGS_PER_EPOCH\",\n",
    "    \"BEST_MODEL_PATH\",\n",
    "    \"torch_default_dtype\"\n",
    "}"
   ]
  },
  {
   "cell_type": "code",
   "execution_count": 3,
   "id": "fa3f0049",
   "metadata": {
    "execution": {
     "iopub.execute_input": "2022-03-26T19:26:45.584905Z",
     "iopub.status.busy": "2022-03-26T19:26:45.583971Z",
     "iopub.status.idle": "2022-03-26T19:26:45.603213Z",
     "shell.execute_reply": "2022-03-26T19:26:45.602407Z"
    },
    "papermill": {
     "duration": 0.047786,
     "end_time": "2022-03-26T19:26:45.603370",
     "exception": false,
     "start_time": "2022-03-26T19:26:45.555584",
     "status": "completed"
    },
    "tags": [
     "parameters"
    ]
   },
   "outputs": [],
   "source": [
    "\n",
    "\n",
    "standalone_parameters = {}\n",
    "standalone_parameters[\"experiment_name\"] = \"STANDALONE PTN\"\n",
    "standalone_parameters[\"lr\"] = 0.0001\n",
    "standalone_parameters[\"device\"] = \"cuda\"\n",
    "\n",
    "standalone_parameters[\"seed\"] = 1337\n",
    "standalone_parameters[\"dataset_seed\"] = 1337\n",
    "\n",
    "\n",
    "standalone_parameters[\"num_examples_per_domain_per_label_source\"]=100\n",
    "standalone_parameters[\"num_examples_per_domain_per_label_target\"]=100\n",
    "\n",
    "standalone_parameters[\"n_shot\"] = 3\n",
    "standalone_parameters[\"n_query\"]  = 2\n",
    "standalone_parameters[\"train_k_factor\"] = 1\n",
    "standalone_parameters[\"val_k_factor\"] = 2\n",
    "standalone_parameters[\"test_k_factor\"] = 2\n",
    "\n",
    "\n",
    "standalone_parameters[\"n_epoch\"] = 100\n",
    "\n",
    "standalone_parameters[\"patience\"] = 10\n",
    "standalone_parameters[\"criteria_for_best\"] = \"target_accuracy\"\n",
    "\n",
    "standalone_parameters[\"x_transforms_source\"] = [\"unit_power\"]\n",
    "standalone_parameters[\"x_transforms_target\"] = [\"unit_power\"]\n",
    "standalone_parameters[\"episode_transforms_source\"] = []\n",
    "standalone_parameters[\"episode_transforms_target\"] = []\n",
    "\n",
    "standalone_parameters[\"torch_default_dtype\"] = \"torch.float32\" \n",
    "\n",
    "\n",
    "\n",
    "standalone_parameters[\"x_net\"] =     [\n",
    "    {\"class\": \"nnReshape\", \"kargs\": {\"shape\":[-1, 1, 2, 256]}},\n",
    "    {\"class\": \"Conv2d\", \"kargs\": { \"in_channels\":1, \"out_channels\":256, \"kernel_size\":(1,7), \"bias\":False, \"padding\":(0,3), },},\n",
    "    {\"class\": \"ReLU\", \"kargs\": {\"inplace\": True}},\n",
    "    {\"class\": \"BatchNorm2d\", \"kargs\": {\"num_features\":256}},\n",
    "\n",
    "    {\"class\": \"Conv2d\", \"kargs\": { \"in_channels\":256, \"out_channels\":80, \"kernel_size\":(2,7), \"bias\":True, \"padding\":(0,3), },},\n",
    "    {\"class\": \"ReLU\", \"kargs\": {\"inplace\": True}},\n",
    "    {\"class\": \"BatchNorm2d\", \"kargs\": {\"num_features\":80}},\n",
    "    {\"class\": \"Flatten\", \"kargs\": {}},\n",
    "\n",
    "    {\"class\": \"Linear\", \"kargs\": {\"in_features\": 80*256, \"out_features\": 256}}, # 80 units per IQ pair\n",
    "    {\"class\": \"ReLU\", \"kargs\": {\"inplace\": True}},\n",
    "    {\"class\": \"BatchNorm1d\", \"kargs\": {\"num_features\":256}},\n",
    "\n",
    "    {\"class\": \"Linear\", \"kargs\": {\"in_features\": 256, \"out_features\": 256}},\n",
    "]\n",
    "\n",
    "# Parameters relevant to results\n",
    "# These parameters will basically never need to change\n",
    "standalone_parameters[\"NUM_LOGS_PER_EPOCH\"] = 10\n",
    "standalone_parameters[\"BEST_MODEL_PATH\"] = \"./best_model.pth\"\n",
    "\n",
    "# uncomment for CORES dataset\n",
    "from steves_utils.CORES.utils import (\n",
    "    ALL_NODES,\n",
    "    ALL_NODES_MINIMUM_1000_EXAMPLES,\n",
    "    ALL_DAYS\n",
    ")\n",
    "\n",
    "\n",
    "standalone_parameters[\"labels_source\"] = ALL_NODES\n",
    "standalone_parameters[\"labels_target\"] = ALL_NODES\n",
    "\n",
    "standalone_parameters[\"domains_source\"] = [1]\n",
    "standalone_parameters[\"domains_target\"] = [2,3,4,5]\n",
    "\n",
    "standalone_parameters[\"pickle_name\"] = \"cores.stratified_ds.2022A.pkl\"\n",
    "\n",
    "\n",
    "# Uncomment these for ORACLE dataset\n",
    "# from steves_utils.ORACLE.utils_v2 import (\n",
    "#     ALL_DISTANCES_FEET,\n",
    "#     ALL_RUNS,\n",
    "#     ALL_SERIAL_NUMBERS,\n",
    "# )\n",
    "# standalone_parameters[\"labels_source\"] = ALL_SERIAL_NUMBERS\n",
    "# standalone_parameters[\"labels_target\"] = ALL_SERIAL_NUMBERS\n",
    "# standalone_parameters[\"domains_source\"] = [8,20, 38,50]\n",
    "# standalone_parameters[\"domains_target\"] = [14, 26, 32, 44, 56]\n",
    "# standalone_parameters[\"pickle_name\"] = \"oracle.frame_indexed.stratified_ds.2022A.pkl\"\n",
    "# standalone_parameters[\"num_examples_per_domain_per_label_source\"]=1000\n",
    "# standalone_parameters[\"num_examples_per_domain_per_label_target\"]=1000\n",
    "\n",
    "# Uncomment these for Metahan dataset\n",
    "# standalone_parameters[\"labels_source\"] = list(range(19))\n",
    "# standalone_parameters[\"labels_target\"] = list(range(19))\n",
    "# standalone_parameters[\"domains_source\"] = [0]\n",
    "# standalone_parameters[\"domains_target\"] = [1]\n",
    "# standalone_parameters[\"pickle_name\"] = \"metehan.stratified_ds.2022A.pkl\"\n",
    "# standalone_parameters[\"n_way\"]  = len(standalone_parameters[\"labels_source\"])\n",
    "# standalone_parameters[\"num_examples_per_domain_per_label_source\"]=200\n",
    "# standalone_parameters[\"num_examples_per_domain_per_label_target\"]=100\n",
    "\n",
    "\n",
    "standalone_parameters[\"n_way\"]  = len(standalone_parameters[\"labels_source\"])"
   ]
  },
  {
   "cell_type": "code",
   "execution_count": 4,
   "id": "6b318c6c",
   "metadata": {
    "execution": {
     "iopub.execute_input": "2022-03-26T19:26:45.654602Z",
     "iopub.status.busy": "2022-03-26T19:26:45.653873Z",
     "iopub.status.idle": "2022-03-26T19:26:45.672194Z",
     "shell.execute_reply": "2022-03-26T19:26:45.671339Z"
    },
    "papermill": {
     "duration": 0.045526,
     "end_time": "2022-03-26T19:26:45.672351",
     "exception": false,
     "start_time": "2022-03-26T19:26:45.626825",
     "status": "completed"
    },
    "tags": [
     "injected-parameters"
    ]
   },
   "outputs": [],
   "source": [
    "# Parameters\n",
    "parameters = {\n",
    "    \"experiment_name\": \"tuned_1v2:oracle.run2_limited\",\n",
    "    \"device\": \"cuda\",\n",
    "    \"lr\": 0.0001,\n",
    "    \"labels_source\": [\n",
    "        \"3123D52\",\n",
    "        \"3123D65\",\n",
    "        \"3123D79\",\n",
    "        \"3123D80\",\n",
    "        \"3123D54\",\n",
    "        \"3123D70\",\n",
    "        \"3123D7B\",\n",
    "        \"3123D89\",\n",
    "        \"3123D58\",\n",
    "        \"3123D76\",\n",
    "        \"3123D7D\",\n",
    "        \"3123EFE\",\n",
    "        \"3123D64\",\n",
    "        \"3123D78\",\n",
    "        \"3123D7E\",\n",
    "        \"3124E4A\",\n",
    "    ],\n",
    "    \"labels_target\": [\n",
    "        \"3123D52\",\n",
    "        \"3123D65\",\n",
    "        \"3123D79\",\n",
    "        \"3123D80\",\n",
    "        \"3123D54\",\n",
    "        \"3123D70\",\n",
    "        \"3123D7B\",\n",
    "        \"3123D89\",\n",
    "        \"3123D58\",\n",
    "        \"3123D76\",\n",
    "        \"3123D7D\",\n",
    "        \"3123EFE\",\n",
    "        \"3123D64\",\n",
    "        \"3123D78\",\n",
    "        \"3123D7E\",\n",
    "        \"3124E4A\",\n",
    "    ],\n",
    "    \"episode_transforms_source\": [],\n",
    "    \"episode_transforms_target\": [],\n",
    "    \"domains_source\": [8, 32, 50],\n",
    "    \"domains_target\": [14, 20, 26, 38, 44],\n",
    "    \"num_examples_per_domain_per_label_source\": -1,\n",
    "    \"num_examples_per_domain_per_label_target\": -1,\n",
    "    \"n_shot\": 3,\n",
    "    \"n_way\": 16,\n",
    "    \"n_query\": 2,\n",
    "    \"train_k_factor\": 3,\n",
    "    \"val_k_factor\": 2,\n",
    "    \"test_k_factor\": 2,\n",
    "    \"torch_default_dtype\": \"torch.float32\",\n",
    "    \"n_epoch\": 50,\n",
    "    \"patience\": 3,\n",
    "    \"criteria_for_best\": \"target_accuracy\",\n",
    "    \"x_net\": [\n",
    "        {\"class\": \"nnReshape\", \"kargs\": {\"shape\": [-1, 1, 2, 256]}},\n",
    "        {\n",
    "            \"class\": \"Conv2d\",\n",
    "            \"kargs\": {\n",
    "                \"in_channels\": 1,\n",
    "                \"out_channels\": 256,\n",
    "                \"kernel_size\": [1, 7],\n",
    "                \"bias\": False,\n",
    "                \"padding\": [0, 3],\n",
    "            },\n",
    "        },\n",
    "        {\"class\": \"ReLU\", \"kargs\": {\"inplace\": True}},\n",
    "        {\"class\": \"BatchNorm2d\", \"kargs\": {\"num_features\": 256}},\n",
    "        {\n",
    "            \"class\": \"Conv2d\",\n",
    "            \"kargs\": {\n",
    "                \"in_channels\": 256,\n",
    "                \"out_channels\": 80,\n",
    "                \"kernel_size\": [2, 7],\n",
    "                \"bias\": True,\n",
    "                \"padding\": [0, 3],\n",
    "            },\n",
    "        },\n",
    "        {\"class\": \"ReLU\", \"kargs\": {\"inplace\": True}},\n",
    "        {\"class\": \"BatchNorm2d\", \"kargs\": {\"num_features\": 80}},\n",
    "        {\"class\": \"Flatten\", \"kargs\": {}},\n",
    "        {\"class\": \"Linear\", \"kargs\": {\"in_features\": 20480, \"out_features\": 256}},\n",
    "        {\"class\": \"ReLU\", \"kargs\": {\"inplace\": True}},\n",
    "        {\"class\": \"BatchNorm1d\", \"kargs\": {\"num_features\": 256}},\n",
    "        {\"class\": \"Linear\", \"kargs\": {\"in_features\": 256, \"out_features\": 256}},\n",
    "    ],\n",
    "    \"NUM_LOGS_PER_EPOCH\": 10,\n",
    "    \"BEST_MODEL_PATH\": \"./best_model.pth\",\n",
    "    \"pickle_name\": \"oracle.Run2_10kExamples_stratified_ds.2022A.pkl\",\n",
    "    \"x_transforms_source\": [],\n",
    "    \"x_transforms_target\": [],\n",
    "    \"dataset_seed\": 7,\n",
    "    \"seed\": 7,\n",
    "}\n"
   ]
  },
  {
   "cell_type": "code",
   "execution_count": 5,
   "id": "8fa1cc33",
   "metadata": {
    "execution": {
     "iopub.execute_input": "2022-03-26T19:26:45.715262Z",
     "iopub.status.busy": "2022-03-26T19:26:45.714693Z",
     "iopub.status.idle": "2022-03-26T19:26:45.735215Z",
     "shell.execute_reply": "2022-03-26T19:26:45.734390Z"
    },
    "papermill": {
     "duration": 0.042147,
     "end_time": "2022-03-26T19:26:45.735373",
     "exception": false,
     "start_time": "2022-03-26T19:26:45.693226",
     "status": "completed"
    },
    "tags": []
   },
   "outputs": [],
   "source": [
    "# Set this to True if you want to run this template directly\n",
    "STANDALONE = False\n",
    "if STANDALONE:\n",
    "    print(\"parameters not injected, running with standalone_parameters\")\n",
    "    parameters = standalone_parameters\n",
    "\n",
    "if not 'parameters' in locals() and not 'parameters' in globals():\n",
    "    raise Exception(\"Parameter injection failed\")\n",
    "\n",
    "#Use an easy dict for all the parameters\n",
    "p = EasyDict(parameters)\n",
    "\n",
    "supplied_keys = set(p.keys())\n",
    "\n",
    "if  supplied_keys != required_parameters:\n",
    "    print(\"Parameters are incorrect\")\n",
    "    if len(supplied_keys - required_parameters)>0: print(\"Shouldn't have:\", str(supplied_keys - required_parameters))\n",
    "    if len(required_parameters - supplied_keys)>0: print(\"Need to have:\", str(required_parameters - supplied_keys))\n",
    "    raise RuntimeError(\"Parameters are incorrect\")\n",
    "\n"
   ]
  },
  {
   "cell_type": "code",
   "execution_count": 6,
   "id": "3a028d58",
   "metadata": {
    "execution": {
     "iopub.execute_input": "2022-03-26T19:26:45.778776Z",
     "iopub.status.busy": "2022-03-26T19:26:45.777151Z",
     "iopub.status.idle": "2022-03-26T19:26:45.798614Z",
     "shell.execute_reply": "2022-03-26T19:26:45.797908Z"
    },
    "papermill": {
     "duration": 0.040197,
     "end_time": "2022-03-26T19:26:45.798773",
     "exception": false,
     "start_time": "2022-03-26T19:26:45.758576",
     "status": "completed"
    },
    "tags": []
   },
   "outputs": [],
   "source": [
    "###################################\n",
    "# Set the RNGs and make it all deterministic\n",
    "###################################\n",
    "np.random.seed(p.seed)\n",
    "random.seed(p.seed)\n",
    "torch.manual_seed(p.seed)\n",
    "\n",
    "torch.use_deterministic_algorithms(True) "
   ]
  },
  {
   "cell_type": "code",
   "execution_count": 7,
   "id": "b691acf6",
   "metadata": {
    "execution": {
     "iopub.execute_input": "2022-03-26T19:26:45.837930Z",
     "iopub.status.busy": "2022-03-26T19:26:45.836970Z",
     "iopub.status.idle": "2022-03-26T19:26:45.857700Z",
     "shell.execute_reply": "2022-03-26T19:26:45.856895Z"
    },
    "papermill": {
     "duration": 0.039497,
     "end_time": "2022-03-26T19:26:45.857861",
     "exception": false,
     "start_time": "2022-03-26T19:26:45.818364",
     "status": "completed"
    },
    "tags": []
   },
   "outputs": [],
   "source": [
    "###########################################\n",
    "# The stratified datasets honor this\n",
    "###########################################\n",
    "torch.set_default_dtype(eval(p.torch_default_dtype))"
   ]
  },
  {
   "cell_type": "code",
   "execution_count": 8,
   "id": "b5fba671",
   "metadata": {
    "execution": {
     "iopub.execute_input": "2022-03-26T19:26:45.896334Z",
     "iopub.status.busy": "2022-03-26T19:26:45.895806Z",
     "iopub.status.idle": "2022-03-26T19:26:45.951391Z",
     "shell.execute_reply": "2022-03-26T19:26:45.950704Z"
    },
    "papermill": {
     "duration": 0.073911,
     "end_time": "2022-03-26T19:26:45.951560",
     "exception": false,
     "start_time": "2022-03-26T19:26:45.877649",
     "status": "completed"
    },
    "tags": []
   },
   "outputs": [],
   "source": [
    "###################################\n",
    "# Build the network(s)\n",
    "# Note: It's critical to do this AFTER setting the RNG\n",
    "# (This is due to the randomized initial weights)\n",
    "###################################\n",
    "x_net = build_sequential(p.x_net)"
   ]
  },
  {
   "cell_type": "code",
   "execution_count": 9,
   "id": "5d7e61cc",
   "metadata": {
    "execution": {
     "iopub.execute_input": "2022-03-26T19:26:45.990019Z",
     "iopub.status.busy": "2022-03-26T19:26:45.989652Z",
     "iopub.status.idle": "2022-03-26T19:26:46.016635Z",
     "shell.execute_reply": "2022-03-26T19:26:46.015933Z"
    },
    "papermill": {
     "duration": 0.045437,
     "end_time": "2022-03-26T19:26:46.016820",
     "exception": false,
     "start_time": "2022-03-26T19:26:45.971383",
     "status": "completed"
    },
    "tags": []
   },
   "outputs": [],
   "source": [
    "start_time_secs = time.time()"
   ]
  },
  {
   "cell_type": "code",
   "execution_count": 10,
   "id": "fd5442bc",
   "metadata": {
    "execution": {
     "iopub.execute_input": "2022-03-26T19:26:46.064190Z",
     "iopub.status.busy": "2022-03-26T19:26:46.063306Z",
     "iopub.status.idle": "2022-03-26T19:26:58.387110Z",
     "shell.execute_reply": "2022-03-26T19:26:58.386330Z"
    },
    "papermill": {
     "duration": 12.351607,
     "end_time": "2022-03-26T19:26:58.387299",
     "exception": false,
     "start_time": "2022-03-26T19:26:46.035692",
     "status": "completed"
    },
    "tags": []
   },
   "outputs": [],
   "source": [
    "###################################\n",
    "# Build the dataset\n",
    "###################################\n",
    "\n",
    "if p.x_transforms_source == []: x_transform_source = None\n",
    "else: x_transform_source = get_chained_transform(p.x_transforms_source) \n",
    "\n",
    "if p.x_transforms_target == []: x_transform_target = None\n",
    "else: x_transform_target = get_chained_transform(p.x_transforms_target)\n",
    "\n",
    "if p.episode_transforms_source == []: episode_transform_source = None\n",
    "else: raise Exception(\"episode_transform_source not implemented\")\n",
    "\n",
    "if p.episode_transforms_target == []: episode_transform_target = None\n",
    "else: raise Exception(\"episode_transform_target not implemented\")\n",
    "\n",
    "\n",
    "eaf_source = Episodic_Accessor_Factory(\n",
    "    labels=p.labels_source,\n",
    "    domains=p.domains_source,\n",
    "    num_examples_per_domain_per_label=p.num_examples_per_domain_per_label_source,\n",
    "    iterator_seed=p.seed,\n",
    "    dataset_seed=p.dataset_seed,\n",
    "    n_shot=p.n_shot,\n",
    "    n_way=p.n_way,\n",
    "    n_query=p.n_query,\n",
    "    train_val_test_k_factors=(p.train_k_factor,p.val_k_factor,p.test_k_factor),\n",
    "    pickle_path=os.path.join(get_datasets_base_path(), p.pickle_name),\n",
    "    x_transform_func=x_transform_source,\n",
    "    example_transform_func=episode_transform_source,\n",
    "    \n",
    ")\n",
    "train_original_source, val_original_source, test_original_source = eaf_source.get_train(), eaf_source.get_val(), eaf_source.get_test()\n",
    "\n",
    "\n",
    "eaf_target = Episodic_Accessor_Factory(\n",
    "    labels=p.labels_target,\n",
    "    domains=p.domains_target,\n",
    "    num_examples_per_domain_per_label=p.num_examples_per_domain_per_label_target,\n",
    "    iterator_seed=p.seed,\n",
    "    dataset_seed=p.dataset_seed,\n",
    "    n_shot=p.n_shot,\n",
    "    n_way=p.n_way,\n",
    "    n_query=p.n_query,\n",
    "    train_val_test_k_factors=(p.train_k_factor,p.val_k_factor,p.test_k_factor),\n",
    "    pickle_path=os.path.join(get_datasets_base_path(), p.pickle_name),\n",
    "    x_transform_func=x_transform_target,\n",
    "    example_transform_func=episode_transform_target,\n",
    ")\n",
    "train_original_target, val_original_target, test_original_target = eaf_target.get_train(), eaf_target.get_val(), eaf_target.get_test()\n",
    "\n",
    "\n",
    "transform_lambda = lambda ex: ex[1] # Original is (<domain>, <episode>) so we strip down to episode only\n",
    "\n",
    "train_processed_source = Lazy_Iterable_Wrapper(train_original_source, transform_lambda)\n",
    "val_processed_source   = Lazy_Iterable_Wrapper(val_original_source, transform_lambda)\n",
    "test_processed_source  = Lazy_Iterable_Wrapper(test_original_source, transform_lambda)\n",
    "\n",
    "train_processed_target = Lazy_Iterable_Wrapper(train_original_target, transform_lambda)\n",
    "val_processed_target   = Lazy_Iterable_Wrapper(val_original_target, transform_lambda)\n",
    "test_processed_target  = Lazy_Iterable_Wrapper(test_original_target, transform_lambda)\n",
    "\n",
    "datasets = EasyDict({\n",
    "    \"source\": {\n",
    "        \"original\": {\"train\":train_original_source, \"val\":val_original_source, \"test\":test_original_source},\n",
    "        \"processed\": {\"train\":train_processed_source, \"val\":val_processed_source, \"test\":test_processed_source}\n",
    "    },\n",
    "    \"target\": {\n",
    "        \"original\": {\"train\":train_original_target, \"val\":val_original_target, \"test\":test_original_target},\n",
    "        \"processed\": {\"train\":train_processed_target, \"val\":val_processed_target, \"test\":test_processed_target}\n",
    "    },\n",
    "})"
   ]
  },
  {
   "cell_type": "code",
   "execution_count": 11,
   "id": "296189d9",
   "metadata": {
    "execution": {
     "iopub.execute_input": "2022-03-26T19:26:58.430084Z",
     "iopub.status.busy": "2022-03-26T19:26:58.429462Z",
     "iopub.status.idle": "2022-03-26T19:27:04.623927Z",
     "shell.execute_reply": "2022-03-26T19:27:04.623035Z"
    },
    "papermill": {
     "duration": 6.214946,
     "end_time": "2022-03-26T19:27:04.624107",
     "exception": false,
     "start_time": "2022-03-26T19:26:58.409161",
     "status": "completed"
    },
    "tags": []
   },
   "outputs": [
    {
     "name": "stdout",
     "output_type": "stream",
     "text": [
      "Visually inspect these to see if they line up with expected values given the transforms\n",
      "x_transforms_source []\n",
      "x_transforms_target []\n",
      "Average magnitude, source: 0.0021990635\n",
      "Average power, source: 6.5443155e-06\n"
     ]
    },
    {
     "name": "stdout",
     "output_type": "stream",
     "text": [
      "Average magnitude, target: 0.0031429906\n",
      "Average power, target: 1.2582772e-05\n"
     ]
    }
   ],
   "source": [
    "# Some quick unit tests on the data\n",
    "from steves_utils.transforms import get_average_power, get_average_magnitude\n",
    "\n",
    "q_x, q_y, s_x, s_y, truth = next(iter(train_processed_source))\n",
    "\n",
    "assert q_x.dtype == eval(p.torch_default_dtype)\n",
    "assert s_x.dtype == eval(p.torch_default_dtype)\n",
    "\n",
    "print(\"Visually inspect these to see if they line up with expected values given the transforms\")\n",
    "print('x_transforms_source', p.x_transforms_source)\n",
    "print('x_transforms_target', p.x_transforms_target)\n",
    "print(\"Average magnitude, source:\", get_average_magnitude(q_x[0].numpy()))\n",
    "print(\"Average power, source:\", get_average_power(q_x[0].numpy()))\n",
    "\n",
    "q_x, q_y, s_x, s_y, truth = next(iter(train_processed_target))\n",
    "print(\"Average magnitude, target:\", get_average_magnitude(q_x[0].numpy()))\n",
    "print(\"Average power, target:\", get_average_power(q_x[0].numpy()))\n"
   ]
  },
  {
   "cell_type": "code",
   "execution_count": 12,
   "id": "bbdacba1",
   "metadata": {
    "execution": {
     "iopub.execute_input": "2022-03-26T19:27:04.667819Z",
     "iopub.status.busy": "2022-03-26T19:27:04.666844Z",
     "iopub.status.idle": "2022-03-26T19:27:04.878366Z",
     "shell.execute_reply": "2022-03-26T19:27:04.877613Z"
    },
    "papermill": {
     "duration": 0.232075,
     "end_time": "2022-03-26T19:27:04.878565",
     "exception": false,
     "start_time": "2022-03-26T19:27:04.646490",
     "status": "completed"
    },
    "tags": []
   },
   "outputs": [
    {
     "name": "stdout",
     "output_type": "stream",
     "text": [
      "(2, 256)\n"
     ]
    }
   ],
   "source": [
    "###################################\n",
    "# Build the model\n",
    "###################################\n",
    "model = Steves_Prototypical_Network(x_net, device=p.device, x_shape=(2,256))\n",
    "optimizer = Adam(params=model.parameters(), lr=p.lr)"
   ]
  },
  {
   "cell_type": "code",
   "execution_count": 13,
   "id": "22b39ac5",
   "metadata": {
    "execution": {
     "iopub.execute_input": "2022-03-26T19:27:04.926365Z",
     "iopub.status.busy": "2022-03-26T19:27:04.925708Z",
     "iopub.status.idle": "2022-03-26T20:54:20.469109Z",
     "shell.execute_reply": "2022-03-26T20:54:20.468749Z"
    },
    "papermill": {
     "duration": 5235.565747,
     "end_time": "2022-03-26T20:54:20.469199",
     "exception": false,
     "start_time": "2022-03-26T19:27:04.903452",
     "status": "completed"
    },
    "tags": []
   },
   "outputs": [
    {
     "name": "stdout",
     "output_type": "stream",
     "text": [
      "epoch: 1, [batch: 1 / 12600], examples_per_second: 17.3158, train_label_loss: 2.7148, \n"
     ]
    },
    {
     "name": "stdout",
     "output_type": "stream",
     "text": [
      "epoch: 1, [batch: 1260 / 12600], examples_per_second: 1898.1642, train_label_loss: 1.2682, \n"
     ]
    },
    {
     "name": "stdout",
     "output_type": "stream",
     "text": [
      "epoch: 1, [batch: 2520 / 12600], examples_per_second: 1955.2674, train_label_loss: 0.9509, \n"
     ]
    },
    {
     "name": "stdout",
     "output_type": "stream",
     "text": [
      "epoch: 1, [batch: 3780 / 12600], examples_per_second: 1909.0452, train_label_loss: 0.3445, \n"
     ]
    },
    {
     "name": "stdout",
     "output_type": "stream",
     "text": [
      "epoch: 1, [batch: 5040 / 12600], examples_per_second: 1942.1986, train_label_loss: 0.4915, \n"
     ]
    },
    {
     "name": "stdout",
     "output_type": "stream",
     "text": [
      "epoch: 1, [batch: 6300 / 12600], examples_per_second: 1824.8631, train_label_loss: 0.1192, \n"
     ]
    },
    {
     "name": "stdout",
     "output_type": "stream",
     "text": [
      "epoch: 1, [batch: 7560 / 12600], examples_per_second: 1781.6736, train_label_loss: 0.4174, \n"
     ]
    },
    {
     "name": "stdout",
     "output_type": "stream",
     "text": [
      "epoch: 1, [batch: 8820 / 12600], examples_per_second: 1765.7475, train_label_loss: 0.1521, \n"
     ]
    },
    {
     "name": "stdout",
     "output_type": "stream",
     "text": [
      "epoch: 1, [batch: 10080 / 12600], examples_per_second: 1778.1029, train_label_loss: 0.1360, \n"
     ]
    },
    {
     "name": "stdout",
     "output_type": "stream",
     "text": [
      "epoch: 1, [batch: 11340 / 12600], examples_per_second: 1860.9043, train_label_loss: 0.4433, \n"
     ]
    },
    {
     "name": "stdout",
     "output_type": "stream",
     "text": [
      "=============================================================\n",
      "epoch: 1, source_val_acc_label: 0.7670, target_val_acc_label: 0.5926, source_val_label_loss: 10.0164, target_val_label_loss: 6.8742, \n",
      "=============================================================\n"
     ]
    },
    {
     "name": "stdout",
     "output_type": "stream",
     "text": [
      "New best\n"
     ]
    },
    {
     "name": "stdout",
     "output_type": "stream",
     "text": [
      "epoch: 2, [batch: 1 / 12600], examples_per_second: 0.8402, train_label_loss: 37.5268, \n"
     ]
    },
    {
     "name": "stdout",
     "output_type": "stream",
     "text": [
      "epoch: 2, [batch: 1260 / 12600], examples_per_second: 1824.6423, train_label_loss: 0.3551, \n"
     ]
    },
    {
     "name": "stdout",
     "output_type": "stream",
     "text": [
      "epoch: 2, [batch: 2520 / 12600], examples_per_second: 1926.7609, train_label_loss: 0.6224, \n"
     ]
    },
    {
     "name": "stdout",
     "output_type": "stream",
     "text": [
      "epoch: 2, [batch: 3780 / 12600], examples_per_second: 2378.1762, train_label_loss: 0.5316, \n"
     ]
    },
    {
     "name": "stdout",
     "output_type": "stream",
     "text": [
      "epoch: 2, [batch: 5040 / 12600], examples_per_second: 4452.3506, train_label_loss: 0.2687, \n"
     ]
    },
    {
     "name": "stdout",
     "output_type": "stream",
     "text": [
      "epoch: 2, [batch: 6300 / 12600], examples_per_second: 2229.6246, train_label_loss: 0.2784, \n"
     ]
    },
    {
     "name": "stdout",
     "output_type": "stream",
     "text": [
      "epoch: 2, [batch: 7560 / 12600], examples_per_second: 1780.9748, train_label_loss: 0.0944, \n"
     ]
    },
    {
     "name": "stdout",
     "output_type": "stream",
     "text": [
      "epoch: 2, [batch: 8820 / 12600], examples_per_second: 1764.9074, train_label_loss: 0.1821, \n"
     ]
    },
    {
     "name": "stdout",
     "output_type": "stream",
     "text": [
      "epoch: 2, [batch: 10080 / 12600], examples_per_second: 1794.5983, train_label_loss: 0.1596, \n"
     ]
    },
    {
     "name": "stdout",
     "output_type": "stream",
     "text": [
      "epoch: 2, [batch: 11340 / 12600], examples_per_second: 1775.7648, train_label_loss: 0.3758, \n"
     ]
    },
    {
     "name": "stdout",
     "output_type": "stream",
     "text": [
      "=============================================================\n",
      "epoch: 2, source_val_acc_label: 0.8670, target_val_acc_label: 0.7063, source_val_label_loss: 0.3625, target_val_label_loss: 0.8626, \n",
      "=============================================================\n"
     ]
    },
    {
     "name": "stdout",
     "output_type": "stream",
     "text": [
      "New best\n"
     ]
    },
    {
     "name": "stdout",
     "output_type": "stream",
     "text": [
      "epoch: 3, [batch: 1 / 12600], examples_per_second: 0.9429, train_label_loss: 0.1140, \n"
     ]
    },
    {
     "name": "stdout",
     "output_type": "stream",
     "text": [
      "epoch: 3, [batch: 1260 / 12600], examples_per_second: 1783.8886, train_label_loss: 0.2048, \n"
     ]
    },
    {
     "name": "stdout",
     "output_type": "stream",
     "text": [
      "epoch: 3, [batch: 2520 / 12600], examples_per_second: 1902.6620, train_label_loss: 0.4991, \n"
     ]
    },
    {
     "name": "stdout",
     "output_type": "stream",
     "text": [
      "epoch: 3, [batch: 3780 / 12600], examples_per_second: 1962.2780, train_label_loss: 0.1154, \n"
     ]
    },
    {
     "name": "stdout",
     "output_type": "stream",
     "text": [
      "epoch: 3, [batch: 5040 / 12600], examples_per_second: 3856.0534, train_label_loss: 0.1895, \n"
     ]
    },
    {
     "name": "stdout",
     "output_type": "stream",
     "text": [
      "epoch: 3, [batch: 6300 / 12600], examples_per_second: 3336.9689, train_label_loss: 0.0596, \n"
     ]
    },
    {
     "name": "stdout",
     "output_type": "stream",
     "text": [
      "epoch: 3, [batch: 7560 / 12600], examples_per_second: 1833.7991, train_label_loss: 0.1158, \n"
     ]
    },
    {
     "name": "stdout",
     "output_type": "stream",
     "text": [
      "epoch: 3, [batch: 8820 / 12600], examples_per_second: 1772.8225, train_label_loss: 0.1393, \n"
     ]
    },
    {
     "name": "stdout",
     "output_type": "stream",
     "text": [
      "epoch: 3, [batch: 10080 / 12600], examples_per_second: 1777.6345, train_label_loss: 0.2127, \n"
     ]
    },
    {
     "name": "stdout",
     "output_type": "stream",
     "text": [
      "epoch: 3, [batch: 11340 / 12600], examples_per_second: 1786.4132, train_label_loss: 0.0710, \n"
     ]
    },
    {
     "name": "stdout",
     "output_type": "stream",
     "text": [
      "=============================================================\n",
      "epoch: 3, source_val_acc_label: 0.8956, target_val_acc_label: 0.7350, source_val_label_loss: 0.2945, target_val_label_loss: 0.8187, \n",
      "=============================================================\n"
     ]
    },
    {
     "name": "stdout",
     "output_type": "stream",
     "text": [
      "New best\n"
     ]
    },
    {
     "name": "stdout",
     "output_type": "stream",
     "text": [
      "epoch: 4, [batch: 1 / 12600], examples_per_second: 0.9827, train_label_loss: 0.4117, \n"
     ]
    },
    {
     "name": "stdout",
     "output_type": "stream",
     "text": [
      "epoch: 4, [batch: 1260 / 12600], examples_per_second: 1806.2641, train_label_loss: 0.4110, \n"
     ]
    },
    {
     "name": "stdout",
     "output_type": "stream",
     "text": [
      "epoch: 4, [batch: 2520 / 12600], examples_per_second: 1805.0795, train_label_loss: 0.1399, \n"
     ]
    },
    {
     "name": "stdout",
     "output_type": "stream",
     "text": [
      "epoch: 4, [batch: 3780 / 12600], examples_per_second: 1940.5760, train_label_loss: 0.2793, \n"
     ]
    },
    {
     "name": "stdout",
     "output_type": "stream",
     "text": [
      "epoch: 4, [batch: 5040 / 12600], examples_per_second: 1930.3182, train_label_loss: 0.3381, \n"
     ]
    },
    {
     "name": "stdout",
     "output_type": "stream",
     "text": [
      "epoch: 4, [batch: 6300 / 12600], examples_per_second: 1922.8723, train_label_loss: 0.0234, \n"
     ]
    },
    {
     "name": "stdout",
     "output_type": "stream",
     "text": [
      "epoch: 4, [batch: 7560 / 12600], examples_per_second: 1932.9310, train_label_loss: 0.2956, \n"
     ]
    },
    {
     "name": "stdout",
     "output_type": "stream",
     "text": [
      "epoch: 4, [batch: 8820 / 12600], examples_per_second: 1760.9696, train_label_loss: 0.1680, \n"
     ]
    },
    {
     "name": "stdout",
     "output_type": "stream",
     "text": [
      "epoch: 4, [batch: 10080 / 12600], examples_per_second: 1771.3867, train_label_loss: 0.1951, \n"
     ]
    },
    {
     "name": "stdout",
     "output_type": "stream",
     "text": [
      "epoch: 4, [batch: 11340 / 12600], examples_per_second: 3366.8091, train_label_loss: 0.1985, \n"
     ]
    },
    {
     "name": "stdout",
     "output_type": "stream",
     "text": [
      "=============================================================\n",
      "epoch: 4, source_val_acc_label: 0.9076, target_val_acc_label: 0.7499, source_val_label_loss: 0.2618, target_val_label_loss: 0.8080, \n",
      "=============================================================\n"
     ]
    },
    {
     "name": "stdout",
     "output_type": "stream",
     "text": [
      "New best\n"
     ]
    },
    {
     "name": "stdout",
     "output_type": "stream",
     "text": [
      "epoch: 5, [batch: 1 / 12600], examples_per_second: 0.7039, train_label_loss: 0.0225, \n"
     ]
    },
    {
     "name": "stdout",
     "output_type": "stream",
     "text": [
      "epoch: 5, [batch: 1260 / 12600], examples_per_second: 1907.7264, train_label_loss: 0.1218, \n"
     ]
    },
    {
     "name": "stdout",
     "output_type": "stream",
     "text": [
      "epoch: 5, [batch: 2520 / 12600], examples_per_second: 3817.2715, train_label_loss: 0.1121, \n"
     ]
    },
    {
     "name": "stdout",
     "output_type": "stream",
     "text": [
      "epoch: 5, [batch: 3780 / 12600], examples_per_second: 2572.7076, train_label_loss: 0.0839, \n"
     ]
    },
    {
     "name": "stdout",
     "output_type": "stream",
     "text": [
      "epoch: 5, [batch: 5040 / 12600], examples_per_second: 1932.4647, train_label_loss: 0.0850, \n"
     ]
    },
    {
     "name": "stdout",
     "output_type": "stream",
     "text": [
      "epoch: 5, [batch: 6300 / 12600], examples_per_second: 1959.0647, train_label_loss: 0.1115, \n"
     ]
    },
    {
     "name": "stdout",
     "output_type": "stream",
     "text": [
      "epoch: 5, [batch: 7560 / 12600], examples_per_second: 1884.1524, train_label_loss: 0.4528, \n"
     ]
    },
    {
     "name": "stdout",
     "output_type": "stream",
     "text": [
      "epoch: 5, [batch: 8820 / 12600], examples_per_second: 1777.9449, train_label_loss: 0.5004, \n"
     ]
    },
    {
     "name": "stdout",
     "output_type": "stream",
     "text": [
      "epoch: 5, [batch: 10080 / 12600], examples_per_second: 1775.5517, train_label_loss: 0.0298, \n"
     ]
    },
    {
     "name": "stdout",
     "output_type": "stream",
     "text": [
      "epoch: 5, [batch: 11340 / 12600], examples_per_second: 1765.0355, train_label_loss: 0.5680, \n"
     ]
    },
    {
     "name": "stdout",
     "output_type": "stream",
     "text": [
      "=============================================================\n",
      "epoch: 5, source_val_acc_label: 0.9083, target_val_acc_label: 0.7495, source_val_label_loss: 0.2602, target_val_label_loss: 0.8476, \n",
      "=============================================================\n"
     ]
    },
    {
     "name": "stdout",
     "output_type": "stream",
     "text": [
      "epoch: 6, [batch: 1 / 12600], examples_per_second: 0.7884, train_label_loss: 0.1236, \n"
     ]
    },
    {
     "name": "stdout",
     "output_type": "stream",
     "text": [
      "epoch: 6, [batch: 1260 / 12600], examples_per_second: 2118.2811, train_label_loss: 0.0276, \n"
     ]
    },
    {
     "name": "stdout",
     "output_type": "stream",
     "text": [
      "epoch: 6, [batch: 2520 / 12600], examples_per_second: 1832.0246, train_label_loss: 0.2394, \n"
     ]
    },
    {
     "name": "stdout",
     "output_type": "stream",
     "text": [
      "epoch: 6, [batch: 3780 / 12600], examples_per_second: 1921.2065, train_label_loss: 0.1352, \n"
     ]
    },
    {
     "name": "stdout",
     "output_type": "stream",
     "text": [
      "epoch: 6, [batch: 5040 / 12600], examples_per_second: 1921.0554, train_label_loss: 0.0933, \n"
     ]
    },
    {
     "name": "stdout",
     "output_type": "stream",
     "text": [
      "epoch: 6, [batch: 6300 / 12600], examples_per_second: 1917.0231, train_label_loss: 0.2032, \n"
     ]
    },
    {
     "name": "stdout",
     "output_type": "stream",
     "text": [
      "epoch: 6, [batch: 7560 / 12600], examples_per_second: 3817.6685, train_label_loss: 0.0376, \n"
     ]
    },
    {
     "name": "stdout",
     "output_type": "stream",
     "text": [
      "epoch: 6, [batch: 8820 / 12600], examples_per_second: 4052.5743, train_label_loss: 0.0948, \n"
     ]
    },
    {
     "name": "stdout",
     "output_type": "stream",
     "text": [
      "epoch: 6, [batch: 10080 / 12600], examples_per_second: 3956.8290, train_label_loss: 0.3265, \n"
     ]
    },
    {
     "name": "stdout",
     "output_type": "stream",
     "text": [
      "epoch: 6, [batch: 11340 / 12600], examples_per_second: 4015.9913, train_label_loss: 0.0199, \n"
     ]
    },
    {
     "name": "stdout",
     "output_type": "stream",
     "text": [
      "=============================================================\n",
      "epoch: 6, source_val_acc_label: 0.9113, target_val_acc_label: 0.7517, source_val_label_loss: 0.2525, target_val_label_loss: 0.8433, \n",
      "=============================================================\n"
     ]
    },
    {
     "name": "stdout",
     "output_type": "stream",
     "text": [
      "New best\n"
     ]
    },
    {
     "name": "stdout",
     "output_type": "stream",
     "text": [
      "epoch: 7, [batch: 1 / 12600], examples_per_second: 1.7964, train_label_loss: 0.1497, \n"
     ]
    },
    {
     "name": "stdout",
     "output_type": "stream",
     "text": [
      "epoch: 7, [batch: 1260 / 12600], examples_per_second: 3945.8802, train_label_loss: 0.0568, \n"
     ]
    },
    {
     "name": "stdout",
     "output_type": "stream",
     "text": [
      "epoch: 7, [batch: 2520 / 12600], examples_per_second: 3938.0126, train_label_loss: 0.1765, \n"
     ]
    },
    {
     "name": "stdout",
     "output_type": "stream",
     "text": [
      "epoch: 7, [batch: 3780 / 12600], examples_per_second: 4005.7192, train_label_loss: 0.2607, \n"
     ]
    },
    {
     "name": "stdout",
     "output_type": "stream",
     "text": [
      "epoch: 7, [batch: 5040 / 12600], examples_per_second: 4215.7886, train_label_loss: 0.0553, \n"
     ]
    },
    {
     "name": "stdout",
     "output_type": "stream",
     "text": [
      "epoch: 7, [batch: 6300 / 12600], examples_per_second: 4275.6743, train_label_loss: 0.0565, \n"
     ]
    },
    {
     "name": "stdout",
     "output_type": "stream",
     "text": [
      "epoch: 7, [batch: 7560 / 12600], examples_per_second: 4546.1842, train_label_loss: 0.1375, \n"
     ]
    },
    {
     "name": "stdout",
     "output_type": "stream",
     "text": [
      "epoch: 7, [batch: 8820 / 12600], examples_per_second: 3854.1581, train_label_loss: 0.0270, \n"
     ]
    },
    {
     "name": "stdout",
     "output_type": "stream",
     "text": [
      "epoch: 7, [batch: 10080 / 12600], examples_per_second: 3906.4334, train_label_loss: 0.1320, \n"
     ]
    },
    {
     "name": "stdout",
     "output_type": "stream",
     "text": [
      "epoch: 7, [batch: 11340 / 12600], examples_per_second: 3880.5106, train_label_loss: 0.0462, \n"
     ]
    },
    {
     "name": "stdout",
     "output_type": "stream",
     "text": [
      "=============================================================\n",
      "epoch: 7, source_val_acc_label: 0.9167, target_val_acc_label: 0.7629, source_val_label_loss: 0.2522, target_val_label_loss: 0.8477, \n",
      "=============================================================\n"
     ]
    },
    {
     "name": "stdout",
     "output_type": "stream",
     "text": [
      "New best\n"
     ]
    },
    {
     "name": "stdout",
     "output_type": "stream",
     "text": [
      "epoch: 8, [batch: 1 / 12600], examples_per_second: 1.7854, train_label_loss: 0.0158, \n"
     ]
    },
    {
     "name": "stdout",
     "output_type": "stream",
     "text": [
      "epoch: 8, [batch: 1260 / 12600], examples_per_second: 3932.5316, train_label_loss: 0.2437, \n"
     ]
    },
    {
     "name": "stdout",
     "output_type": "stream",
     "text": [
      "epoch: 8, [batch: 2520 / 12600], examples_per_second: 3989.4002, train_label_loss: 0.2331, \n"
     ]
    },
    {
     "name": "stdout",
     "output_type": "stream",
     "text": [
      "epoch: 8, [batch: 3780 / 12600], examples_per_second: 3985.5827, train_label_loss: 0.3226, \n"
     ]
    },
    {
     "name": "stdout",
     "output_type": "stream",
     "text": [
      "epoch: 8, [batch: 5040 / 12600], examples_per_second: 4487.7148, train_label_loss: 0.0762, \n"
     ]
    },
    {
     "name": "stdout",
     "output_type": "stream",
     "text": [
      "epoch: 8, [batch: 6300 / 12600], examples_per_second: 4303.4843, train_label_loss: 0.0279, \n"
     ]
    },
    {
     "name": "stdout",
     "output_type": "stream",
     "text": [
      "epoch: 8, [batch: 7560 / 12600], examples_per_second: 4567.6871, train_label_loss: 0.0910, \n"
     ]
    },
    {
     "name": "stdout",
     "output_type": "stream",
     "text": [
      "epoch: 8, [batch: 8820 / 12600], examples_per_second: 3840.2573, train_label_loss: 0.1475, \n"
     ]
    },
    {
     "name": "stdout",
     "output_type": "stream",
     "text": [
      "epoch: 8, [batch: 10080 / 12600], examples_per_second: 3878.4027, train_label_loss: 0.1566, \n"
     ]
    },
    {
     "name": "stdout",
     "output_type": "stream",
     "text": [
      "epoch: 8, [batch: 11340 / 12600], examples_per_second: 3865.7367, train_label_loss: 0.1352, \n"
     ]
    },
    {
     "name": "stdout",
     "output_type": "stream",
     "text": [
      "=============================================================\n",
      "epoch: 8, source_val_acc_label: 0.9203, target_val_acc_label: 0.7626, source_val_label_loss: 0.2557, target_val_label_loss: 0.8856, \n",
      "=============================================================\n"
     ]
    },
    {
     "name": "stdout",
     "output_type": "stream",
     "text": [
      "epoch: 9, [batch: 1 / 12600], examples_per_second: 1.7960, train_label_loss: 0.1272, \n"
     ]
    },
    {
     "name": "stdout",
     "output_type": "stream",
     "text": [
      "epoch: 9, [batch: 1260 / 12600], examples_per_second: 3906.7099, train_label_loss: 0.0200, \n"
     ]
    },
    {
     "name": "stdout",
     "output_type": "stream",
     "text": [
      "epoch: 9, [batch: 2520 / 12600], examples_per_second: 3907.3905, train_label_loss: 0.2738, \n"
     ]
    },
    {
     "name": "stdout",
     "output_type": "stream",
     "text": [
      "epoch: 9, [batch: 3780 / 12600], examples_per_second: 3957.5779, train_label_loss: 0.0219, \n"
     ]
    },
    {
     "name": "stdout",
     "output_type": "stream",
     "text": [
      "epoch: 9, [batch: 5040 / 12600], examples_per_second: 4462.5534, train_label_loss: 0.0319, \n"
     ]
    },
    {
     "name": "stdout",
     "output_type": "stream",
     "text": [
      "epoch: 9, [batch: 6300 / 12600], examples_per_second: 4537.9325, train_label_loss: 0.1875, \n"
     ]
    },
    {
     "name": "stdout",
     "output_type": "stream",
     "text": [
      "epoch: 9, [batch: 7560 / 12600], examples_per_second: 4919.3023, train_label_loss: 0.0209, \n"
     ]
    },
    {
     "name": "stdout",
     "output_type": "stream",
     "text": [
      "epoch: 9, [batch: 8820 / 12600], examples_per_second: 4046.0053, train_label_loss: 0.0330, \n"
     ]
    },
    {
     "name": "stdout",
     "output_type": "stream",
     "text": [
      "epoch: 9, [batch: 10080 / 12600], examples_per_second: 3888.3014, train_label_loss: 0.1468, \n"
     ]
    },
    {
     "name": "stdout",
     "output_type": "stream",
     "text": [
      "epoch: 9, [batch: 11340 / 12600], examples_per_second: 3917.9530, train_label_loss: 0.0675, \n"
     ]
    },
    {
     "name": "stdout",
     "output_type": "stream",
     "text": [
      "=============================================================\n",
      "epoch: 9, source_val_acc_label: 0.9212, target_val_acc_label: 0.7622, source_val_label_loss: 0.2544, target_val_label_loss: 0.8952, \n",
      "=============================================================\n"
     ]
    },
    {
     "name": "stdout",
     "output_type": "stream",
     "text": [
      "epoch: 10, [batch: 1 / 12600], examples_per_second: 1.8038, train_label_loss: 0.0744, \n"
     ]
    },
    {
     "name": "stdout",
     "output_type": "stream",
     "text": [
      "epoch: 10, [batch: 1260 / 12600], examples_per_second: 3933.0547, train_label_loss: 0.0131, \n"
     ]
    },
    {
     "name": "stdout",
     "output_type": "stream",
     "text": [
      "epoch: 10, [batch: 2520 / 12600], examples_per_second: 3874.1033, train_label_loss: 0.0435, \n"
     ]
    },
    {
     "name": "stdout",
     "output_type": "stream",
     "text": [
      "epoch: 10, [batch: 3780 / 12600], examples_per_second: 3909.5595, train_label_loss: 0.0337, \n"
     ]
    },
    {
     "name": "stdout",
     "output_type": "stream",
     "text": [
      "epoch: 10, [batch: 5040 / 12600], examples_per_second: 4110.9391, train_label_loss: 0.0723, \n"
     ]
    },
    {
     "name": "stdout",
     "output_type": "stream",
     "text": [
      "epoch: 10, [batch: 6300 / 12600], examples_per_second: 4539.8481, train_label_loss: 0.0375, \n"
     ]
    },
    {
     "name": "stdout",
     "output_type": "stream",
     "text": [
      "epoch: 10, [batch: 7560 / 12600], examples_per_second: 4492.0371, train_label_loss: 0.0076, \n"
     ]
    },
    {
     "name": "stdout",
     "output_type": "stream",
     "text": [
      "epoch: 10, [batch: 8820 / 12600], examples_per_second: 4058.7912, train_label_loss: 0.0543, \n"
     ]
    },
    {
     "name": "stdout",
     "output_type": "stream",
     "text": [
      "epoch: 10, [batch: 10080 / 12600], examples_per_second: 3814.9830, train_label_loss: 0.2995, \n"
     ]
    },
    {
     "name": "stdout",
     "output_type": "stream",
     "text": [
      "epoch: 10, [batch: 11340 / 12600], examples_per_second: 3935.5646, train_label_loss: 0.0039, \n"
     ]
    },
    {
     "name": "stdout",
     "output_type": "stream",
     "text": [
      "=============================================================\n",
      "epoch: 10, source_val_acc_label: 0.9111, target_val_acc_label: 0.7511, source_val_label_loss: 0.2787, target_val_label_loss: 0.9536, \n",
      "=============================================================\n"
     ]
    },
    {
     "name": "stdout",
     "output_type": "stream",
     "text": [
      "epoch: 11, [batch: 1 / 12600], examples_per_second: 1.7955, train_label_loss: 0.2480, \n"
     ]
    },
    {
     "name": "stdout",
     "output_type": "stream",
     "text": [
      "epoch: 11, [batch: 1260 / 12600], examples_per_second: 3914.1029, train_label_loss: 0.1512, \n"
     ]
    },
    {
     "name": "stdout",
     "output_type": "stream",
     "text": [
      "epoch: 11, [batch: 2520 / 12600], examples_per_second: 3813.3330, train_label_loss: 0.1116, \n"
     ]
    },
    {
     "name": "stdout",
     "output_type": "stream",
     "text": [
      "epoch: 11, [batch: 3780 / 12600], examples_per_second: 3863.2004, train_label_loss: 0.0361, \n"
     ]
    },
    {
     "name": "stdout",
     "output_type": "stream",
     "text": [
      "epoch: 11, [batch: 5040 / 12600], examples_per_second: 3934.9218, train_label_loss: 0.0310, \n"
     ]
    },
    {
     "name": "stdout",
     "output_type": "stream",
     "text": [
      "epoch: 11, [batch: 6300 / 12600], examples_per_second: 4201.5662, train_label_loss: 0.0226, \n"
     ]
    },
    {
     "name": "stdout",
     "output_type": "stream",
     "text": [
      "epoch: 11, [batch: 7560 / 12600], examples_per_second: 4175.6577, train_label_loss: 0.0111, \n"
     ]
    },
    {
     "name": "stdout",
     "output_type": "stream",
     "text": [
      "epoch: 11, [batch: 8820 / 12600], examples_per_second: 4261.1387, train_label_loss: 0.0185, \n"
     ]
    },
    {
     "name": "stdout",
     "output_type": "stream",
     "text": [
      "epoch: 11, [batch: 10080 / 12600], examples_per_second: 4432.7420, train_label_loss: 0.0009, \n"
     ]
    },
    {
     "name": "stdout",
     "output_type": "stream",
     "text": [
      "epoch: 11, [batch: 11340 / 12600], examples_per_second: 4536.6073, train_label_loss: 0.1374, \n"
     ]
    },
    {
     "name": "stdout",
     "output_type": "stream",
     "text": [
      "=============================================================\n",
      "epoch: 11, source_val_acc_label: 0.9190, target_val_acc_label: 0.7522, source_val_label_loss: 0.2572, target_val_label_loss: 0.9793, \n",
      "=============================================================\n"
     ]
    },
    {
     "name": "stdout",
     "output_type": "stream",
     "text": [
      "Patience (3) exhausted\n"
     ]
    }
   ],
   "source": [
    "###################################\n",
    "# train\n",
    "###################################\n",
    "jig = PTN_Train_Eval_Test_Jig(model, p.BEST_MODEL_PATH, p.device)\n",
    "\n",
    "jig.train(\n",
    "    train_iterable=datasets.source.processed.train,\n",
    "    source_val_iterable=datasets.source.processed.val,\n",
    "    target_val_iterable=datasets.target.processed.val,\n",
    "    num_epochs=p.n_epoch,\n",
    "    num_logs_per_epoch=p.NUM_LOGS_PER_EPOCH,\n",
    "    patience=p.patience,\n",
    "    optimizer=optimizer,\n",
    "    criteria_for_best=p.criteria_for_best,\n",
    ")"
   ]
  },
  {
   "cell_type": "code",
   "execution_count": 14,
   "id": "31e8fabf",
   "metadata": {
    "execution": {
     "iopub.execute_input": "2022-03-26T20:54:20.578077Z",
     "iopub.status.busy": "2022-03-26T20:54:20.577692Z",
     "iopub.status.idle": "2022-03-26T20:54:20.608798Z",
     "shell.execute_reply": "2022-03-26T20:54:20.609488Z"
    },
    "papermill": {
     "duration": 0.088687,
     "end_time": "2022-03-26T20:54:20.609691",
     "exception": false,
     "start_time": "2022-03-26T20:54:20.521004",
     "status": "completed"
    },
    "tags": []
   },
   "outputs": [],
   "source": [
    "total_experiment_time_secs = time.time() - start_time_secs"
   ]
  },
  {
   "cell_type": "code",
   "execution_count": 15,
   "id": "87b9595b",
   "metadata": {
    "execution": {
     "iopub.execute_input": "2022-03-26T20:54:20.726929Z",
     "iopub.status.busy": "2022-03-26T20:54:20.726516Z",
     "iopub.status.idle": "2022-03-26T21:00:15.588861Z",
     "shell.execute_reply": "2022-03-26T21:00:15.588098Z"
    },
    "papermill": {
     "duration": 354.921988,
     "end_time": "2022-03-26T21:00:15.589063",
     "exception": false,
     "start_time": "2022-03-26T20:54:20.667075",
     "status": "completed"
    },
    "tags": []
   },
   "outputs": [],
   "source": [
    "###################################\n",
    "# Evaluate the model\n",
    "###################################\n",
    "source_test_label_accuracy, source_test_label_loss = jig.test(datasets.source.processed.test)\n",
    "target_test_label_accuracy, target_test_label_loss = jig.test(datasets.target.processed.test)\n",
    "\n",
    "source_val_label_accuracy, source_val_label_loss = jig.test(datasets.source.processed.val)\n",
    "target_val_label_accuracy, target_val_label_loss = jig.test(datasets.target.processed.val)\n",
    "\n",
    "history = jig.get_history()\n",
    "\n",
    "total_epochs_trained = len(history[\"epoch_indices\"])\n",
    "\n",
    "val_dl = Iterable_Aggregator((datasets.source.original.val,datasets.target.original.val))\n",
    "\n",
    "confusion = ptn_confusion_by_domain_over_dataloader(model, p.device, val_dl)\n",
    "per_domain_accuracy = per_domain_accuracy_from_confusion(confusion)\n",
    "\n",
    "# Add a key to per_domain_accuracy for if it was a source domain\n",
    "for domain, accuracy in per_domain_accuracy.items():\n",
    "    per_domain_accuracy[domain] = {\n",
    "        \"accuracy\": accuracy,\n",
    "        \"source?\": domain in p.domains_source\n",
    "    }\n",
    "\n",
    "# Do an independent accuracy assesment JUST TO BE SURE!\n",
    "# _source_test_label_accuracy = independent_accuracy_assesment(model, datasets.source.processed.test, p.device)\n",
    "# _target_test_label_accuracy = independent_accuracy_assesment(model, datasets.target.processed.test, p.device)\n",
    "# _source_val_label_accuracy = independent_accuracy_assesment(model, datasets.source.processed.val, p.device)\n",
    "# _target_val_label_accuracy = independent_accuracy_assesment(model, datasets.target.processed.val, p.device)\n",
    "\n",
    "# assert(_source_test_label_accuracy == source_test_label_accuracy)\n",
    "# assert(_target_test_label_accuracy == target_test_label_accuracy)\n",
    "# assert(_source_val_label_accuracy == source_val_label_accuracy)\n",
    "# assert(_target_val_label_accuracy == target_val_label_accuracy)\n",
    "\n",
    "experiment = {\n",
    "    \"experiment_name\": p.experiment_name,\n",
    "    \"parameters\": dict(p),\n",
    "    \"results\": {\n",
    "        \"source_test_label_accuracy\": source_test_label_accuracy,\n",
    "        \"source_test_label_loss\": source_test_label_loss,\n",
    "        \"target_test_label_accuracy\": target_test_label_accuracy,\n",
    "        \"target_test_label_loss\": target_test_label_loss,\n",
    "        \"source_val_label_accuracy\": source_val_label_accuracy,\n",
    "        \"source_val_label_loss\": source_val_label_loss,\n",
    "        \"target_val_label_accuracy\": target_val_label_accuracy,\n",
    "        \"target_val_label_loss\": target_val_label_loss,\n",
    "        \"total_epochs_trained\": total_epochs_trained,\n",
    "        \"total_experiment_time_secs\": total_experiment_time_secs,\n",
    "        \"confusion\": confusion,\n",
    "        \"per_domain_accuracy\": per_domain_accuracy,\n",
    "    },\n",
    "    \"history\": history,\n",
    "    \"dataset_metrics\": get_dataset_metrics(datasets, \"ptn\"),\n",
    "}"
   ]
  },
  {
   "cell_type": "code",
   "execution_count": 16,
   "id": "54a21829",
   "metadata": {
    "execution": {
     "iopub.execute_input": "2022-03-26T21:00:15.698555Z",
     "iopub.status.busy": "2022-03-26T21:00:15.698189Z",
     "iopub.status.idle": "2022-03-26T21:00:15.933785Z",
     "shell.execute_reply": "2022-03-26T21:00:15.933003Z"
    },
    "papermill": {
     "duration": 0.288437,
     "end_time": "2022-03-26T21:00:15.933944",
     "exception": false,
     "start_time": "2022-03-26T21:00:15.645507",
     "status": "completed"
    },
    "tags": []
   },
   "outputs": [
    {
     "data": {
      "image/png": "[encoded data removed]",
      "text/plain": [
       "<Figure size 1080x504 with 1 Axes>"
      ]
     },
     "metadata": {
      "needs_background": "light"
     },
     "output_type": "display_data"
    }
   ],
   "source": [
    "ax = get_loss_curve(experiment)\n",
    "plt.show()"
   ]
  },
  {
   "cell_type": "code",
   "execution_count": 17,
   "id": "fd8a0f60",
   "metadata": {
    "execution": {
     "iopub.execute_input": "2022-03-26T21:00:16.044013Z",
     "iopub.status.busy": "2022-03-26T21:00:16.043628Z",
     "iopub.status.idle": "2022-03-26T21:00:16.375310Z",
     "shell.execute_reply": "2022-03-26T21:00:16.375627Z"
    },
    "papermill": {
     "duration": 0.385069,
     "end_time": "2022-03-26T21:00:16.375716",
     "exception": false,
     "start_time": "2022-03-26T21:00:15.990647",
     "status": "completed"
    },
    "tags": []
   },
   "outputs": [
    {
     "data": {
      "text/plain": [
       "<AxesSubplot:title={'center':'Results'}>"
      ]
     },
     "execution_count": 17,
     "metadata": {},
     "output_type": "execute_result"
    },
    {
     "data": {
      "image/png": "[encoded data removed]",
      "text/plain": [
       "<Figure size 1080x504 with 1 Axes>"
      ]
     },
     "metadata": {
      "needs_background": "light"
     },
     "output_type": "display_data"
    }
   ],
   "source": [
    "get_results_table(experiment)"
   ]
  },
  {
   "cell_type": "code",
   "execution_count": 18,
   "id": "cf8dc689",
   "metadata": {
    "execution": {
     "iopub.execute_input": "2022-03-26T21:00:16.490634Z",
     "iopub.status.busy": "2022-03-26T21:00:16.490055Z",
     "iopub.status.idle": "2022-03-26T21:00:16.705760Z",
     "shell.execute_reply": "2022-03-26T21:00:16.705048Z"
    },
    "papermill": {
     "duration": 0.275349,
     "end_time": "2022-03-26T21:00:16.705918",
     "exception": false,
     "start_time": "2022-03-26T21:00:16.430569",
     "status": "completed"
    },
    "tags": []
   },
   "outputs": [
    {
     "data": {
      "text/plain": [
       "<AxesSubplot:title={'center':'Per Domain Validation Accuracy'}, xlabel='domain'>"
      ]
     },
     "execution_count": 18,
     "metadata": {},
     "output_type": "execute_result"
    },
    {
     "data": {
      "image/png": "[encoded data removed]",
      "text/plain": [
       "<Figure size 1080x504 with 1 Axes>"
      ]
     },
     "metadata": {
      "needs_background": "light"
     },
     "output_type": "display_data"
    }
   ],
   "source": [
    "get_domain_accuracies(experiment)"
   ]
  },
  {
   "cell_type": "code",
   "execution_count": 19,
   "id": "a74ae082",
   "metadata": {
    "execution": {
     "iopub.execute_input": "2022-03-26T21:00:16.826419Z",
     "iopub.status.busy": "2022-03-26T21:00:16.826043Z",
     "iopub.status.idle": "2022-03-26T21:00:16.854154Z",
     "shell.execute_reply": "2022-03-26T21:00:16.853334Z"
    },
    "papermill": {
     "duration": 0.088425,
     "end_time": "2022-03-26T21:00:16.854314",
     "exception": false,
     "start_time": "2022-03-26T21:00:16.765889",
     "status": "completed"
    },
    "tags": []
   },
   "outputs": [
    {
     "name": "stdout",
     "output_type": "stream",
     "text": [
      "Source Test Label Accuracy: 0.9173784722222222 Target Test Label Accuracy: 0.76171875\n",
      "Source Val Label Accuracy: 0.9167361111111111 Target Val Label Accuracy: 0.7628854166666666\n"
     ]
    }
   ],
   "source": [
    "print(\"Source Test Label Accuracy:\", experiment[\"results\"][\"source_test_label_accuracy\"], \"Target Test Label Accuracy:\", experiment[\"results\"][\"target_test_label_accuracy\"])\n",
    "print(\"Source Val Label Accuracy:\", experiment[\"results\"][\"source_val_label_accuracy\"], \"Target Val Label Accuracy:\", experiment[\"results\"][\"target_val_label_accuracy\"])"
   ]
  },
  {
   "cell_type": "code",
   "execution_count": 20,
   "id": "dacca602",
   "metadata": {
    "execution": {
     "iopub.execute_input": "2022-03-26T21:00:16.975079Z",
     "iopub.status.busy": "2022-03-26T21:00:16.974709Z",
     "iopub.status.idle": "2022-03-26T21:00:16.999844Z",
     "shell.execute_reply": "2022-03-26T21:00:16.999003Z"
    },
    "papermill": {
     "duration": 0.083877,
     "end_time": "2022-03-26T21:00:17.000004",
     "exception": false,
     "start_time": "2022-03-26T21:00:16.916127",
     "status": "completed"
    },
    "tags": [
     "experiment_json"
    ]
   },
   "outputs": [
    {
     "data": {
      "text/plain": [
       "'{\"experiment_name\": \"tuned_1v2:oracle.run2_limited\", \"parameters\": {\"experiment_name\": \"tuned_1v2:oracle.run2_limited\", \"device\": \"cuda\", \"lr\": 0.0001, \"labels_source\": [\"3123D52\", \"3123D65\", \"3123D79\", \"3123D80\", \"3123D54\", \"3123D70\", \"3123D7B\", \"3123D89\", \"3123D58\", \"3123D76\", \"3123D7D\", \"3123EFE\", \"3123D64\", \"3123D78\", \"3123D7E\", \"3124E4A\"], \"labels_target\": [\"3123D52\", \"3123D65\", \"3123D79\", \"3123D80\", \"3123D54\", \"3123D70\", \"3123D7B\", \"3123D89\", \"3123D58\", \"3123D76\", \"3123D7D\", \"3123EFE\", \"3123D64\", \"3123D78\", \"3123D7E\", \"3124E4A\"], \"episode_transforms_source\": [], \"episode_transforms_target\": [], \"domains_source\": [8, 32, 50], \"domains_target\": [14, 20, 26, 38, 44], \"num_examples_per_domain_per_label_source\": -1, \"num_examples_per_domain_per_label_target\": -1, \"n_shot\": 3, \"n_way\": 16, \"n_query\": 2, \"train_k_factor\": 3, \"val_k_factor\": 2, \"test_k_factor\": 2, \"torch_default_dtype\": \"torch.float32\", \"n_epoch\": 50, \"patience\": 3, \"criteria_for_best\": \"target_accuracy\", \"x_net\": [{\"class\": \"nnReshape\", \"kargs\": {\"shape\": [-1, 1, 2, 256]}}, {\"class\": \"Conv2d\", \"kargs\": {\"in_channels\": 1, \"out_channels\": 256, \"kernel_size\": [1, 7], \"bias\": false, \"padding\": [0, 3]}}, {\"class\": \"ReLU\", \"kargs\": {\"inplace\": true}}, {\"class\": \"BatchNorm2d\", \"kargs\": {\"num_features\": 256}}, {\"class\": \"Conv2d\", \"kargs\": {\"in_channels\": 256, \"out_channels\": 80, \"kernel_size\": [2, 7], \"bias\": true, \"padding\": [0, 3]}}, {\"class\": \"ReLU\", \"kargs\": {\"inplace\": true}}, {\"class\": \"BatchNorm2d\", \"kargs\": {\"num_features\": 80}}, {\"class\": \"Flatten\", \"kargs\": {}}, {\"class\": \"Linear\", \"kargs\": {\"in_features\": 20480, \"out_features\": 256}}, {\"class\": \"ReLU\", \"kargs\": {\"inplace\": true}}, {\"class\": \"BatchNorm1d\", \"kargs\": {\"num_features\": 256}}, {\"class\": \"Linear\", \"kargs\": {\"in_features\": 256, \"out_features\": 256}}], \"NUM_LOGS_PER_EPOCH\": 10, \"BEST_MODEL_PATH\": \"./best_model.pth\", \"pickle_name\": \"oracle.Run2_10kExamples_stratified_ds.2022A.pkl\", \"x_transforms_source\": [], \"x_transforms_target\": [], \"dataset_seed\": 7, \"seed\": 7}, \"results\": {\"source_test_label_accuracy\": 0.9173784722222222, \"source_test_label_loss\": 0.2513893246650696, \"target_test_label_accuracy\": 0.76171875, \"target_test_label_loss\": 0.8511195182800293, \"source_val_label_accuracy\": 0.9167361111111111, \"source_val_label_loss\": 0.2521650493144989, \"target_val_label_accuracy\": 0.7628854166666666, \"target_val_label_loss\": 0.8477416038513184, \"total_epochs_trained\": 11, \"total_experiment_time_secs\": 5254.592241287231, \"confusion\": {\"50\": {\"0\": {\"0\": 1136, \"2\": 49, \"10\": 15}, \"4\": {\"5\": 220, \"7\": 45, \"4\": 927, \"6\": 3, \"15\": 5}, \"14\": {\"14\": 1200}, \"12\": {\"12\": 1184, \"9\": 10, \"11\": 4, \"15\": 2}, \"8\": {\"8\": 1197, \"13\": 3}, \"7\": {\"7\": 1131, \"4\": 51, \"5\": 18}, \"13\": {\"13\": 1192, \"1\": 5, \"10\": 1, \"8\": 2}, \"5\": {\"5\": 908, \"4\": 211, \"6\": 38, \"7\": 43}, \"15\": {\"15\": 1141, \"6\": 46, \"9\": 2, \"4\": 7, \"5\": 1, \"12\": 3}, \"10\": {\"10\": 1185, \"0\": 12, \"13\": 3}, \"3\": {\"3\": 1200}, \"9\": {\"9\": 1190, \"12\": 8, \"15\": 2}, \"6\": {\"6\": 1127, \"15\": 33, \"5\": 36, \"4\": 4}, \"1\": {\"1\": 1196, \"13\": 3, \"10\": 1}, \"11\": {\"11\": 1162, \"12\": 30, \"1\": 8}, \"2\": {\"2\": 1186, \"0\": 14}}, \"8\": {\"1\": {\"1\": 989, \"5\": 40, \"13\": 44, \"14\": 42, \"10\": 66, \"4\": 15, \"7\": 2, \"6\": 2}, \"11\": {\"11\": 804, \"7\": 9, \"12\": 49, \"8\": 324, \"6\": 13, \"4\": 1}, \"3\": {\"3\": 1200}, \"6\": {\"6\": 1084, \"14\": 81, \"8\": 18, \"4\": 16, \"11\": 1}, \"7\": {\"7\": 1007, \"4\": 186, \"13\": 7}, \"5\": {\"10\": 209, \"5\": 946, \"1\": 45}, \"2\": {\"2\": 1196, \"15\": 4}, \"15\": {\"12\": 34, \"15\": 1160, \"2\": 6}, \"10\": {\"10\": 985, \"5\": 139, \"1\": 15, \"13\": 61}, \"13\": {\"13\": 1105, \"10\": 63, \"1\": 8, \"7\": 18, \"4\": 6}, \"8\": {\"8\": 1032, \"6\": 47, \"11\": 110, \"4\": 10, \"7\": 1}, \"4\": {\"7\": 205, \"4\": 942, \"6\": 40, \"1\": 9, \"8\": 1, \"14\": 3}, \"9\": {\"9\": 1200}, \"14\": {\"14\": 1093, \"6\": 98, \"1\": 9}, \"0\": {\"0\": 1200}, \"12\": {\"12\": 1159, \"15\": 41}}, \"32\": {\"15\": {\"15\": 1193, \"5\": 7}, \"11\": {\"11\": 861, \"13\": 119, \"4\": 199, \"7\": 3, \"0\": 18}, \"10\": {\"10\": 1200}, \"14\": {\"2\": 141, \"14\": 1046, \"7\": 2, \"0\": 11}, \"6\": {\"6\": 1200}, \"4\": {\"4\": 978, \"11\": 178, \"13\": 25, \"0\": 18, \"3\": 1}, \"13\": {\"13\": 1059, \"11\": 91, \"3\": 32, \"4\": 18}, \"3\": {\"4\": 7, \"3\": 1142, \"13\": 51}, \"7\": {\"7\": 1027, \"0\": 80, \"8\": 27, \"2\": 63, \"11\": 1, \"4\": 1, \"14\": 1}, \"8\": {\"8\": 1094, \"0\": 72, \"7\": 31, \"2\": 3}, \"1\": {\"1\": 1200}, \"5\": {\"5\": 1114, \"14\": 15, \"2\": 52, \"15\": 5, \"8\": 1, \"7\": 13}, \"0\": {\"0\": 924, \"2\": 64, \"8\": 75, \"7\": 68, \"14\": 13, \"4\": 48, \"11\": 8}, \"2\": {\"2\": 1004, \"7\": 47, \"14\": 110, \"0\": 39}, \"12\": {\"12\": 1199, \"9\": 1}, \"9\": {\"9\": 1199, \"12\": 1}}, \"26\": {\"0\": {\"0\": 541, \"10\": 244, \"14\": 193, \"15\": 166, \"8\": 38, \"5\": 3, \"2\": 11, \"1\": 1, \"9\": 3}, \"4\": {\"4\": 1185, \"3\": 15}, \"14\": {\"14\": 561, \"0\": 185, \"10\": 259, \"15\": 18, \"1\": 95, \"6\": 50, \"5\": 32}, \"12\": {\"12\": 1199, \"11\": 1}, \"8\": {\"8\": 570, \"2\": 246, \"9\": 263, \"15\": 42, \"10\": 25, \"7\": 17, \"0\": 31, \"13\": 5, \"3\": 1}, \"7\": {\"2\": 170, \"7\": 636, \"3\": 219, \"13\": 47, \"9\": 85, \"8\": 36, \"15\": 7}, \"13\": {\"13\": 1029, \"9\": 114, \"2\": 7, \"7\": 41, \"8\": 8, \"3\": 1}, \"5\": {\"5\": 521, \"6\": 458, \"1\": 41, \"10\": 50, \"14\": 91, \"8\": 1, \"15\": 18, \"9\": 3, \"0\": 17}, \"15\": {\"15\": 877, \"0\": 145, \"14\": 12, \"8\": 69, \"2\": 62, \"10\": 29, \"9\": 5, \"5\": 1}, \"10\": {\"15\": 54, \"14\": 193, \"9\": 46, \"6\": 91, \"10\": 347, \"1\": 51, \"2\": 9, \"0\": 241, \"8\": 112, \"5\": 52, \"13\": 2, \"7\": 1, \"12\": 1}, \"3\": {\"3\": 937, \"7\": 242, \"2\": 11, \"9\": 1, \"8\": 1, \"4\": 7, \"13\": 1}, \"9\": {\"8\": 277, \"13\": 128, \"2\": 123, \"9\": 572, \"7\": 85, \"10\": 5, \"5\": 1, \"15\": 8, \"3\": 1}, \"6\": {\"6\": 787, \"5\": 319, \"1\": 25, \"14\": 43, \"10\": 25, \"0\": 1}, \"1\": {\"1\": 1061, \"14\": 55, \"10\": 10, \"6\": 48, \"5\": 26}, \"11\": {\"11\": 1199, \"12\": 1}, \"2\": {\"3\": 19, \"2\": 571, \"15\": 65, \"8\": 232, \"9\": 160, \"7\": 144, \"0\": 3, \"13\": 6}}, \"44\": {\"1\": {\"1\": 1160, \"2\": 39, \"3\": 1}, \"11\": {\"11\": 1200}, \"3\": {\"3\": 1087, \"12\": 113}, \"6\": {\"6\": 1182, \"13\": 11, \"7\": 6, \"9\": 1}, \"7\": {\"7\": 846, \"9\": 341, \"6\": 7, \"10\": 6}, \"5\": {\"5\": 1029, \"14\": 45, \"15\": 17, \"8\": 102, \"0\": 7}, \"2\": {\"2\": 1150, \"1\": 50}, \"15\": {\"15\": 1103, \"5\": 46, \"8\": 32, \"0\": 13, \"14\": 2, \"4\": 4}, \"10\": {\"10\": 1139, \"6\": 7, \"7\": 32, \"9\": 12, \"1\": 6, \"2\": 4}, \"13\": {\"13\": 1135, \"4\": 38, \"6\": 26, \"11\": 1}, \"8\": {\"8\": 997, \"5\": 68, \"0\": 123, \"15\": 12}, \"4\": {\"4\": 1088, \"14\": 109, \"9\": 2, \"13\": 1}, \"9\": {\"7\": 458, \"9\": 716, \"6\": 23, \"4\": 2, \"10\": 1}, \"14\": {\"14\": 1098, \"4\": 95, \"5\": 7}, \"0\": {\"0\": 933, \"8\": 253, \"5\": 6, \"15\": 8}, \"12\": {\"12\": 1105, \"3\": 95}}, \"20\": {\"15\": {\"9\": 291, \"15\": 531, \"13\": 37, \"1\": 43, \"3\": 45, \"2\": 123, \"5\": 51, \"4\": 32, \"12\": 47}, \"4\": {\"4\": 675, \"3\": 190, \"5\": 39, \"7\": 96, \"2\": 62, \"15\": 34, \"9\": 74, \"12\": 20, \"13\": 3, \"10\": 6, \"8\": 1}, \"6\": {\"6\": 1026, \"10\": 155, \"7\": 19}, \"2\": {\"15\": 138, \"2\": 329, \"5\": 217, \"9\": 266, \"3\": 143, \"4\": 53, \"1\": 44, \"7\": 5, \"12\": 2, \"13\": 3}, \"5\": {\"2\": 245, \"3\": 135, \"9\": 128, \"5\": 449, \"1\": 100, \"15\": 40, \"4\": 80, \"14\": 1, \"8\": 10, \"7\": 4, \"11\": 1, \"0\": 7}, \"9\": {\"2\": 260, \"3\": 120, \"15\": 257, \"5\": 139, \"1\": 28, \"9\": 305, \"4\": 72, \"13\": 5, \"12\": 8, \"7\": 6}, \"8\": {\"8\": 919, \"14\": 235, \"0\": 9, \"11\": 35, \"5\": 2}, \"12\": {\"12\": 775, \"13\": 332, \"4\": 35, \"15\": 32, \"3\": 14, \"7\": 4, \"9\": 5, \"2\": 2, \"10\": 1}, \"10\": {\"10\": 891, \"6\": 165, \"7\": 134, \"12\": 2, \"4\": 5, \"13\": 2, \"3\": 1}, \"1\": {\"1\": 1064, \"5\": 60, \"2\": 25, \"15\": 23, \"9\": 20, \"0\": 8}, \"0\": {\"0\": 1123, \"5\": 3, \"8\": 16, \"1\": 43, \"11\": 15}, \"3\": {\"4\": 198, \"3\": 432, \"15\": 53, \"2\": 143, \"5\": 104, \"7\": 141, \"12\": 13, \"9\": 112, \"13\": 4}, \"13\": {\"13\": 775, \"12\": 362, \"3\": 7, \"15\": 35, \"10\": 1, \"9\": 12, \"2\": 7, \"7\": 1}, \"11\": {\"11\": 1150, \"8\": 41, \"0\": 9}, \"7\": {\"7\": 894, \"10\": 101, \"3\": 110, \"4\": 58, \"2\": 3, \"6\": 16, \"12\": 4, \"9\": 4, \"5\": 8, \"15\": 1, \"14\": 1}, \"14\": {\"14\": 961, \"8\": 234, \"3\": 2, \"5\": 1, \"7\": 2}}, \"38\": {\"15\": {\"1\": 330, \"15\": 729, \"6\": 140, \"5\": 1}, \"11\": {\"11\": 1200}, \"10\": {\"10\": 1062, \"13\": 53, \"3\": 61, \"4\": 23, \"7\": 1}, \"14\": {\"2\": 465, \"12\": 49, \"14\": 546, \"4\": 47, \"7\": 73, \"5\": 3, \"13\": 7, \"8\": 5, \"10\": 5}, \"6\": {\"6\": 1187, \"15\": 13}, \"4\": {\"4\": 1116, \"10\": 79, \"13\": 1, \"7\": 3, \"3\": 1}, \"13\": {\"10\": 160, \"13\": 815, \"3\": 225}, \"3\": {\"3\": 634, \"13\": 335, \"10\": 227, \"11\": 3, \"0\": 1}, \"7\": {\"7\": 1156, \"0\": 34, \"8\": 7, \"14\": 2, \"4\": 1}, \"8\": {\"8\": 1122, \"5\": 67, \"7\": 5, \"14\": 2, \"2\": 2, \"9\": 2}, \"1\": {\"1\": 1065, \"15\": 135}, \"5\": {\"5\": 690, \"8\": 391, \"12\": 98, \"1\": 7, \"9\": 10, \"0\": 2, \"15\": 2}, \"0\": {\"0\": 1170, \"7\": 27, \"8\": 3}, \"2\": {\"2\": 1083, \"14\": 117}, \"12\": {\"12\": 1160, \"14\": 3, \"2\": 3, \"5\": 33, \"8\": 1}, \"9\": {\"9\": 1194, \"5\": 5, \"8\": 1}}, \"14\": {\"0\": {\"10\": 74, \"0\": 1098, \"8\": 6, \"4\": 14, \"5\": 4, \"14\": 3, \"12\": 1}, \"12\": {\"15\": 128, \"9\": 260, \"10\": 78, \"3\": 60, \"12\": 478, \"0\": 34, \"8\": 88, \"1\": 22, \"6\": 13, \"4\": 6, \"11\": 29, \"13\": 2, \"14\": 1, \"5\": 1}, \"1\": {\"1\": 1200}, \"4\": {\"4\": 1157, \"0\": 18, \"5\": 14, \"14\": 4, \"2\": 7}, \"5\": {\"5\": 788, \"7\": 27, \"14\": 177, \"2\": 185, \"3\": 3, \"4\": 9, \"0\": 9, \"10\": 2}, \"3\": {\"3\": 1168, \"6\": 12, \"10\": 10, \"2\": 3, \"5\": 1, \"14\": 2, \"7\": 2, \"13\": 2}, \"7\": {\"7\": 1140, \"5\": 16, \"2\": 37, \"14\": 5, \"6\": 1, \"3\": 1}, \"15\": {\"15\": 1200}, \"13\": {\"6\": 392, \"13\": 806, \"3\": 2}, \"10\": {\"10\": 862, \"0\": 233, \"2\": 1, \"12\": 9, \"3\": 90, \"14\": 3, \"8\": 1, \"5\": 1}, \"14\": {\"14\": 629, \"5\": 188, \"2\": 338, \"3\": 20, \"6\": 1, \"10\": 7, \"7\": 9, \"4\": 2, \"0\": 5, \"13\": 1}, \"6\": {\"6\": 859, \"13\": 304, \"3\": 36, \"2\": 1}, \"9\": {\"9\": 1197, \"12\": 3}, \"2\": {\"6\": 24, \"2\": 470, \"14\": 292, \"5\": 231, \"3\": 71, \"7\": 96, \"0\": 2, \"10\": 1, \"4\": 10, \"13\": 3}, \"8\": {\"8\": 1196, \"0\": 2, \"10\": 2}, \"11\": {\"11\": 1200}}}, \"per_domain_accuracy\": {\"50\": {\"accuracy\": 0.9511458333333334, \"source?\": true}, \"8\": {\"accuracy\": 0.8907291666666667, \"source?\": true}, \"32\": {\"accuracy\": 0.9083333333333333, \"source?\": true}, \"26\": {\"accuracy\": 0.6558854166666667, \"source?\": false}, \"44\": {\"accuracy\": 0.88375, \"source?\": false}, \"20\": {\"accuracy\": 0.6405729166666667, \"source?\": false}, \"38\": {\"accuracy\": 0.8296354166666666, \"source?\": false}, \"14\": {\"accuracy\": 0.8045833333333333, \"source?\": false}}}, \"history\": {\"epoch_indices\": [1, 2, 3, 4, 5, 6, 7, 8, 9, 10, 11], \"train_label_loss\": [0.5617055060004904, 0.3658694238869089, 0.26399228144636644, 0.2045746019582397, 0.1668343999894107, 0.1409278553924782, 0.11929012390830192, 0.10302391835500851, 0.08932632917252328, 0.07817743219672318, 0.06943260088924107], \"source_val_label_loss\": [10.016439437866211, 0.36250144243240356, 0.29447677731513977, 0.2618201673030853, 0.2602498531341553, 0.25245147943496704, 0.2521650493144989, 0.25568827986717224, 0.25441819429397583, 0.27872148156166077, 0.2572302520275116], \"target_val_label_loss\": [6.8742499351501465, 0.8625584840774536, 0.8187142610549927, 0.8080328106880188, 0.8475860357284546, 0.8433421850204468, 0.8477416038513184, 0.885572075843811, 0.895167887210846, 0.9536412954330444, 0.9793423414230347], \"source_val_acc_label\": [0.7670138888888889, 0.8669791666666666, 0.8955729166666667, 0.9075694444444444, 0.90828125, 0.91125, 0.9167361111111111, 0.9202604166666667, 0.9211979166666666, 0.9111458333333333, 0.9190277777777778], \"target_val_acc_label\": [0.5926354166666666, 0.7063229166666667, 0.7350208333333333, 0.7499270833333334, 0.7495104166666666, 0.7516666666666667, 0.7628854166666666, 0.7625625, 0.7621979166666667, 0.751125, 0.75221875]}, \"dataset_metrics\": {\"source\": {\"train\": {\"n_unique_x\": 336000, \"n_unique_y\": 16, \"n_batch/episode\": 12600}, \"val\": {\"n_unique_x\": 72000, \"n_unique_y\": 16, \"n_batch/episode\": 1800}, \"test\": {\"n_unique_x\": 72000, \"n_unique_y\": 16, \"n_batch/episode\": 1800}}, \"target\": {\"train\": {\"n_unique_x\": 560000, \"n_unique_y\": 16, \"n_batch/episode\": 21000}, \"val\": {\"n_unique_x\": 120000, \"n_unique_y\": 16, \"n_batch/episode\": 3000}, \"test\": {\"n_unique_x\": 120000, \"n_unique_y\": 16, \"n_batch/episode\": 3000}}}}'"
      ]
     },
     "execution_count": 20,
     "metadata": {},
     "output_type": "execute_result"
    }
   ],
   "source": [
    "json.dumps(experiment)"
   ]
  }
 ],
 "metadata": {
  "celltoolbar": "Tags",
  "kernelspec": {
   "display_name": "Python 3 (ipykernel)",
   "language": "python",
   "name": "python3"
  },
  "language_info": {
   "codemirror_mode": {
    "name": "ipython",
    "version": 3
   },
   "file_extension": ".py",
   "mimetype": "text/x-python",
   "name": "python",
   "nbconvert_exporter": "python",
   "pygments_lexer": "ipython3",
   "version": "3.8.12"
  },
  "papermill": {
   "default_parameters": {},
   "duration": 5618.192931,
   "end_time": "2022-03-26T21:00:20.696654",
   "environment_variables": {},
   "exception": null,
   "input_path": "/root/csc500-main/csc500-notebooks/templates/ptn_template.ipynb",
   "output_path": "trial.ipynb",
   "parameters": {
    "parameters": {
     "BEST_MODEL_PATH": "./best_model.pth",
     "NUM_LOGS_PER_EPOCH": 10,
     "criteria_for_best": "target_accuracy",
     "dataset_seed": 7,
     "device": "cuda",
     "domains_source": [
      8,
      32,
      50
     ],
     "domains_target": [
      14,
      20,
      26,
      38,
      44
     ],
     "episode_transforms_source": [],
     "episode_transforms_target": [],
     "experiment_name": "tuned_1v2:oracle.run2_limited",
     "labels_source": [
      "3123D52",
      "3123D65",
      "3123D79",
      "3123D80",
      "3123D54",
      "3123D70",
      "3123D7B",
      "3123D89",
      "3123D58",
      "3123D76",
      "3123D7D",
      "3123EFE",
      "3123D64",
      "3123D78",
      "3123D7E",
      "3124E4A"
     ],
     "labels_target": [
      "3123D52",
      "3123D65",
      "3123D79",
      "3123D80",
      "3123D54",
      "3123D70",
      "3123D7B",
      "3123D89",
      "3123D58",
      "3123D76",
      "3123D7D",
      "3123EFE",
      "3123D64",
      "3123D78",
      "3123D7E",
      "3124E4A"
     ],
     "lr": 0.0001,
     "n_epoch": 50,
     "n_query": 2,
     "n_shot": 3,
     "n_way": 16,
     "num_examples_per_domain_per_label_source": -1,
     "num_examples_per_domain_per_label_target": -1,
     "patience": 3,
     "pickle_name": "oracle.Run2_10kExamples_stratified_ds.2022A.pkl",
     "seed": 7,
     "test_k_factor": 2,
     "torch_default_dtype": "torch.float32",
     "train_k_factor": 3,
     "val_k_factor": 2,
     "x_net": [
      {
       "class": "nnReshape",
       "kargs": {
        "shape": [
         -1,
         1,
         2,
         256
        ]
       }
      },
      {
       "class": "Conv2d",
       "kargs": {
        "bias": false,
        "in_channels": 1,
        "kernel_size": [
         1,
         7
        ],
        "out_channels": 256,
        "padding": [
         0,
         3
        ]
       }
      },
      {
       "class": "ReLU",
       "kargs": {
        "inplace": true
       }
      },
      {
       "class": "BatchNorm2d",
       "kargs": {
        "num_features": 256
       }
      },
      {
       "class": "Conv2d",
       "kargs": {
        "bias": true,
        "in_channels": 256,
        "kernel_size": [
         2,
         7
        ],
        "out_channels": 80,
        "padding": [
         0,
         3
        ]
       }
      },
      {
       "class": "ReLU",
       "kargs": {
        "inplace": true
       }
      },
      {
       "class": "BatchNorm2d",
       "kargs": {
        "num_features": 80
       }
      },
      {
       "class": "Flatten",
       "kargs": {}
      },
      {
       "class": "Linear",
       "kargs": {
        "in_features": 20480,
        "out_features": 256
       }
      },
      {
       "class": "ReLU",
       "kargs": {
        "inplace": true
       }
      },
      {
       "class": "BatchNorm1d",
       "kargs": {
        "num_features": 256
       }
      },
      {
       "class": "Linear",
       "kargs": {
        "in_features": 256,
        "out_features": 256
       }
      }
     ],
     "x_transforms_source": [],
     "x_transforms_target": []
    }
   },
   "start_time": "2022-03-26T19:26:42.503723",
   "version": "2.3.4"
  }
 },
 "nbformat": 4,
 "nbformat_minor": 5
}