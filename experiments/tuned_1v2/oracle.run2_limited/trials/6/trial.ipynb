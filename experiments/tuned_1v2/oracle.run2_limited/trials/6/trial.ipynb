{
 "cells": [
  {
   "cell_type": "markdown",
   "id": "9fea5f46",
   "metadata": {
    "papermill": {
     "duration": 0.013453,
     "end_time": "2022-04-01T16:53:00.212291",
     "exception": false,
     "start_time": "2022-04-01T16:53:00.198838",
     "status": "completed"
    },
    "tags": []
   },
   "source": [
    "# PTN Template\n",
    "This notebook serves as a template for single dataset PTN experiments  \n",
    "It can be run on its own by setting STANDALONE to True (do a find for \"STANDALONE\" to see where)  \n",
    "But it is intended to be executed as part of a *papermill.py script. See any of the   \n",
    "experimentes with a papermill script to get started with that workflow.  "
   ]
  },
  {
   "cell_type": "code",
   "execution_count": 1,
   "id": "0902182a",
   "metadata": {
    "execution": {
     "iopub.execute_input": "2022-04-01T16:53:00.245016Z",
     "iopub.status.busy": "2022-04-01T16:53:00.238090Z",
     "iopub.status.idle": "2022-04-01T16:53:01.155441Z",
     "shell.execute_reply": "2022-04-01T16:53:01.155144Z"
    },
    "papermill": {
     "duration": 0.933821,
     "end_time": "2022-04-01T16:53:01.155512",
     "exception": false,
     "start_time": "2022-04-01T16:53:00.221691",
     "status": "completed"
    },
    "tags": []
   },
   "outputs": [],
   "source": [
    "%load_ext autoreload\n",
    "%autoreload 2\n",
    "%matplotlib inline\n",
    "\n",
    "    \n",
    "import os, json, sys, time, random\n",
    "import numpy as np\n",
    "import torch\n",
    "from torch.optim import Adam\n",
    "from  easydict import EasyDict\n",
    "import matplotlib.pyplot as plt\n",
    "\n",
    "from steves_models.steves_ptn import Steves_Prototypical_Network\n",
    "\n",
    "from steves_utils.lazy_iterable_wrapper import Lazy_Iterable_Wrapper\n",
    "from steves_utils.iterable_aggregator import Iterable_Aggregator\n",
    "from steves_utils.ptn_train_eval_test_jig import  PTN_Train_Eval_Test_Jig\n",
    "from steves_utils.torch_sequential_builder import build_sequential\n",
    "from steves_utils.torch_utils import get_dataset_metrics, ptn_confusion_by_domain_over_dataloader\n",
    "from steves_utils.utils_v2 import (per_domain_accuracy_from_confusion, get_datasets_base_path)\n",
    "from steves_utils.PTN.utils import independent_accuracy_assesment\n",
    "\n",
    "from steves_utils.stratified_dataset.episodic_accessor import Episodic_Accessor_Factory\n",
    "\n",
    "from steves_utils.ptn_do_report import (\n",
    "    get_loss_curve,\n",
    "    get_results_table,\n",
    "    get_parameters_table,\n",
    "    get_domain_accuracies,\n",
    ")\n",
    "\n",
    "from steves_utils.transforms import get_chained_transform"
   ]
  },
  {
   "cell_type": "markdown",
   "id": "41c840b4",
   "metadata": {
    "papermill": {
     "duration": 0.009364,
     "end_time": "2022-04-01T16:53:01.174669",
     "exception": false,
     "start_time": "2022-04-01T16:53:01.165305",
     "status": "completed"
    },
    "tags": []
   },
   "source": [
    "# Required Parameters\n",
    "These are allowed parameters, not defaults\n",
    "Each of these values need to be present in the injected parameters (the notebook will raise an exception if they are not present)\n",
    "\n",
    "Papermill uses the cell tag \"parameters\" to inject the real parameters below this cell.\n",
    "Enable tags to see what I mean"
   ]
  },
  {
   "cell_type": "code",
   "execution_count": 2,
   "id": "fd44eb83",
   "metadata": {
    "execution": {
     "iopub.execute_input": "2022-04-01T16:53:01.195871Z",
     "iopub.status.busy": "2022-04-01T16:53:01.195593Z",
     "iopub.status.idle": "2022-04-01T16:53:01.210194Z",
     "shell.execute_reply": "2022-04-01T16:53:01.210511Z"
    },
    "papermill": {
     "duration": 0.026445,
     "end_time": "2022-04-01T16:53:01.210609",
     "exception": false,
     "start_time": "2022-04-01T16:53:01.184164",
     "status": "completed"
    },
    "tags": []
   },
   "outputs": [],
   "source": [
    "required_parameters = {\n",
    "    \"experiment_name\",\n",
    "    \"lr\",\n",
    "    \"device\",\n",
    "    \"seed\",\n",
    "    \"dataset_seed\",\n",
    "    \"labels_source\",\n",
    "    \"labels_target\",\n",
    "    \"domains_source\",\n",
    "    \"domains_target\",\n",
    "    \"num_examples_per_domain_per_label_source\",\n",
    "    \"num_examples_per_domain_per_label_target\",\n",
    "    \"n_shot\",\n",
    "    \"n_way\",\n",
    "    \"n_query\",\n",
    "    \"train_k_factor\",\n",
    "    \"val_k_factor\",\n",
    "    \"test_k_factor\",\n",
    "    \"n_epoch\",\n",
    "    \"patience\",\n",
    "    \"criteria_for_best\",\n",
    "    \"x_transforms_source\",\n",
    "    \"x_transforms_target\",\n",
    "    \"episode_transforms_source\",\n",
    "    \"episode_transforms_target\",\n",
    "    \"pickle_name\",\n",
    "    \"x_net\",\n",
    "    \"NUM_LOGS_PER_EPOCH\",\n",
    "    \"BEST_MODEL_PATH\",\n",
    "    \"torch_default_dtype\"\n",
    "}"
   ]
  },
  {
   "cell_type": "code",
   "execution_count": 3,
   "id": "fa3f0049",
   "metadata": {
    "execution": {
     "iopub.execute_input": "2022-04-01T16:53:01.241381Z",
     "iopub.status.busy": "2022-04-01T16:53:01.236753Z",
     "iopub.status.idle": "2022-04-01T16:53:01.253630Z",
     "shell.execute_reply": "2022-04-01T16:53:01.253929Z"
    },
    "papermill": {
     "duration": 0.027689,
     "end_time": "2022-04-01T16:53:01.254034",
     "exception": false,
     "start_time": "2022-04-01T16:53:01.226345",
     "status": "completed"
    },
    "tags": [
     "parameters"
    ]
   },
   "outputs": [],
   "source": [
    "\n",
    "\n",
    "standalone_parameters = {}\n",
    "standalone_parameters[\"experiment_name\"] = \"STANDALONE PTN\"\n",
    "standalone_parameters[\"lr\"] = 0.0001\n",
    "standalone_parameters[\"device\"] = \"cuda\"\n",
    "\n",
    "standalone_parameters[\"seed\"] = 1337\n",
    "standalone_parameters[\"dataset_seed\"] = 1337\n",
    "\n",
    "\n",
    "standalone_parameters[\"num_examples_per_domain_per_label_source\"]=100\n",
    "standalone_parameters[\"num_examples_per_domain_per_label_target\"]=100\n",
    "\n",
    "standalone_parameters[\"n_shot\"] = 3\n",
    "standalone_parameters[\"n_query\"]  = 2\n",
    "standalone_parameters[\"train_k_factor\"] = 1\n",
    "standalone_parameters[\"val_k_factor\"] = 2\n",
    "standalone_parameters[\"test_k_factor\"] = 2\n",
    "\n",
    "\n",
    "standalone_parameters[\"n_epoch\"] = 100\n",
    "\n",
    "standalone_parameters[\"patience\"] = 10\n",
    "standalone_parameters[\"criteria_for_best\"] = \"target_accuracy\"\n",
    "\n",
    "standalone_parameters[\"x_transforms_source\"] = [\"unit_power\"]\n",
    "standalone_parameters[\"x_transforms_target\"] = [\"unit_power\"]\n",
    "standalone_parameters[\"episode_transforms_source\"] = []\n",
    "standalone_parameters[\"episode_transforms_target\"] = []\n",
    "\n",
    "standalone_parameters[\"torch_default_dtype\"] = \"torch.float32\" \n",
    "\n",
    "\n",
    "\n",
    "standalone_parameters[\"x_net\"] =     [\n",
    "    {\"class\": \"nnReshape\", \"kargs\": {\"shape\":[-1, 1, 2, 256]}},\n",
    "    {\"class\": \"Conv2d\", \"kargs\": { \"in_channels\":1, \"out_channels\":256, \"kernel_size\":(1,7), \"bias\":False, \"padding\":(0,3), },},\n",
    "    {\"class\": \"ReLU\", \"kargs\": {\"inplace\": True}},\n",
    "    {\"class\": \"BatchNorm2d\", \"kargs\": {\"num_features\":256}},\n",
    "\n",
    "    {\"class\": \"Conv2d\", \"kargs\": { \"in_channels\":256, \"out_channels\":80, \"kernel_size\":(2,7), \"bias\":True, \"padding\":(0,3), },},\n",
    "    {\"class\": \"ReLU\", \"kargs\": {\"inplace\": True}},\n",
    "    {\"class\": \"BatchNorm2d\", \"kargs\": {\"num_features\":80}},\n",
    "    {\"class\": \"Flatten\", \"kargs\": {}},\n",
    "\n",
    "    {\"class\": \"Linear\", \"kargs\": {\"in_features\": 80*256, \"out_features\": 256}}, # 80 units per IQ pair\n",
    "    {\"class\": \"ReLU\", \"kargs\": {\"inplace\": True}},\n",
    "    {\"class\": \"BatchNorm1d\", \"kargs\": {\"num_features\":256}},\n",
    "\n",
    "    {\"class\": \"Linear\", \"kargs\": {\"in_features\": 256, \"out_features\": 256}},\n",
    "]\n",
    "\n",
    "# Parameters relevant to results\n",
    "# These parameters will basically never need to change\n",
    "standalone_parameters[\"NUM_LOGS_PER_EPOCH\"] = 10\n",
    "standalone_parameters[\"BEST_MODEL_PATH\"] = \"./best_model.pth\"\n",
    "\n",
    "# uncomment for CORES dataset\n",
    "from steves_utils.CORES.utils import (\n",
    "    ALL_NODES,\n",
    "    ALL_NODES_MINIMUM_1000_EXAMPLES,\n",
    "    ALL_DAYS\n",
    ")\n",
    "\n",
    "\n",
    "standalone_parameters[\"labels_source\"] = ALL_NODES\n",
    "standalone_parameters[\"labels_target\"] = ALL_NODES\n",
    "\n",
    "standalone_parameters[\"domains_source\"] = [1]\n",
    "standalone_parameters[\"domains_target\"] = [2,3,4,5]\n",
    "\n",
    "standalone_parameters[\"pickle_name\"] = \"cores.stratified_ds.2022A.pkl\"\n",
    "\n",
    "\n",
    "# Uncomment these for ORACLE dataset\n",
    "# from steves_utils.ORACLE.utils_v2 import (\n",
    "#     ALL_DISTANCES_FEET,\n",
    "#     ALL_RUNS,\n",
    "#     ALL_SERIAL_NUMBERS,\n",
    "# )\n",
    "# standalone_parameters[\"labels_source\"] = ALL_SERIAL_NUMBERS\n",
    "# standalone_parameters[\"labels_target\"] = ALL_SERIAL_NUMBERS\n",
    "# standalone_parameters[\"domains_source\"] = [8,20, 38,50]\n",
    "# standalone_parameters[\"domains_target\"] = [14, 26, 32, 44, 56]\n",
    "# standalone_parameters[\"pickle_name\"] = \"oracle.frame_indexed.stratified_ds.2022A.pkl\"\n",
    "# standalone_parameters[\"num_examples_per_domain_per_label_source\"]=1000\n",
    "# standalone_parameters[\"num_examples_per_domain_per_label_target\"]=1000\n",
    "\n",
    "# Uncomment these for Metahan dataset\n",
    "# standalone_parameters[\"labels_source\"] = list(range(19))\n",
    "# standalone_parameters[\"labels_target\"] = list(range(19))\n",
    "# standalone_parameters[\"domains_source\"] = [0]\n",
    "# standalone_parameters[\"domains_target\"] = [1]\n",
    "# standalone_parameters[\"pickle_name\"] = \"metehan.stratified_ds.2022A.pkl\"\n",
    "# standalone_parameters[\"n_way\"]  = len(standalone_parameters[\"labels_source\"])\n",
    "# standalone_parameters[\"num_examples_per_domain_per_label_source\"]=200\n",
    "# standalone_parameters[\"num_examples_per_domain_per_label_target\"]=100\n",
    "\n",
    "\n",
    "standalone_parameters[\"n_way\"]  = len(standalone_parameters[\"labels_source\"])"
   ]
  },
  {
   "cell_type": "code",
   "execution_count": 4,
   "id": "6a5bd79f",
   "metadata": {
    "execution": {
     "iopub.execute_input": "2022-04-01T16:53:01.287067Z",
     "iopub.status.busy": "2022-04-01T16:53:01.280501Z",
     "iopub.status.idle": "2022-04-01T16:53:01.300886Z",
     "shell.execute_reply": "2022-04-01T16:53:01.300474Z"
    },
    "papermill": {
     "duration": 0.031736,
     "end_time": "2022-04-01T16:53:01.300989",
     "exception": false,
     "start_time": "2022-04-01T16:53:01.269253",
     "status": "completed"
    },
    "tags": [
     "injected-parameters"
    ]
   },
   "outputs": [],
   "source": [
    "# Parameters\n",
    "parameters = {\n",
    "    \"experiment_name\": \"tuned_1v2:oracle.run2_limited\",\n",
    "    \"device\": \"cuda\",\n",
    "    \"lr\": 0.0001,\n",
    "    \"labels_source\": [\n",
    "        \"3123D52\",\n",
    "        \"3123D65\",\n",
    "        \"3123D79\",\n",
    "        \"3123D80\",\n",
    "        \"3123D54\",\n",
    "        \"3123D70\",\n",
    "        \"3123D7B\",\n",
    "        \"3123D89\",\n",
    "        \"3123D58\",\n",
    "        \"3123D76\",\n",
    "        \"3123D7D\",\n",
    "        \"3123EFE\",\n",
    "        \"3123D64\",\n",
    "        \"3123D78\",\n",
    "        \"3123D7E\",\n",
    "        \"3124E4A\",\n",
    "    ],\n",
    "    \"labels_target\": [\n",
    "        \"3123D52\",\n",
    "        \"3123D65\",\n",
    "        \"3123D79\",\n",
    "        \"3123D80\",\n",
    "        \"3123D54\",\n",
    "        \"3123D70\",\n",
    "        \"3123D7B\",\n",
    "        \"3123D89\",\n",
    "        \"3123D58\",\n",
    "        \"3123D76\",\n",
    "        \"3123D7D\",\n",
    "        \"3123EFE\",\n",
    "        \"3123D64\",\n",
    "        \"3123D78\",\n",
    "        \"3123D7E\",\n",
    "        \"3124E4A\",\n",
    "    ],\n",
    "    \"episode_transforms_source\": [],\n",
    "    \"episode_transforms_target\": [],\n",
    "    \"domains_source\": [8, 32, 50],\n",
    "    \"domains_target\": [14, 20, 26, 38, 44],\n",
    "    \"num_examples_per_domain_per_label_source\": 2000,\n",
    "    \"num_examples_per_domain_per_label_target\": 2000,\n",
    "    \"n_shot\": 3,\n",
    "    \"n_way\": 16,\n",
    "    \"n_query\": 2,\n",
    "    \"train_k_factor\": 3,\n",
    "    \"val_k_factor\": 2,\n",
    "    \"test_k_factor\": 2,\n",
    "    \"torch_default_dtype\": \"torch.float32\",\n",
    "    \"n_epoch\": 50,\n",
    "    \"patience\": 3,\n",
    "    \"criteria_for_best\": \"target_accuracy\",\n",
    "    \"x_net\": [\n",
    "        {\"class\": \"nnReshape\", \"kargs\": {\"shape\": [-1, 1, 2, 256]}},\n",
    "        {\n",
    "            \"class\": \"Conv2d\",\n",
    "            \"kargs\": {\n",
    "                \"in_channels\": 1,\n",
    "                \"out_channels\": 256,\n",
    "                \"kernel_size\": [1, 7],\n",
    "                \"bias\": False,\n",
    "                \"padding\": [0, 3],\n",
    "            },\n",
    "        },\n",
    "        {\"class\": \"ReLU\", \"kargs\": {\"inplace\": True}},\n",
    "        {\"class\": \"BatchNorm2d\", \"kargs\": {\"num_features\": 256}},\n",
    "        {\n",
    "            \"class\": \"Conv2d\",\n",
    "            \"kargs\": {\n",
    "                \"in_channels\": 256,\n",
    "                \"out_channels\": 80,\n",
    "                \"kernel_size\": [2, 7],\n",
    "                \"bias\": True,\n",
    "                \"padding\": [0, 3],\n",
    "            },\n",
    "        },\n",
    "        {\"class\": \"ReLU\", \"kargs\": {\"inplace\": True}},\n",
    "        {\"class\": \"BatchNorm2d\", \"kargs\": {\"num_features\": 80}},\n",
    "        {\"class\": \"Flatten\", \"kargs\": {}},\n",
    "        {\"class\": \"Linear\", \"kargs\": {\"in_features\": 20480, \"out_features\": 256}},\n",
    "        {\"class\": \"ReLU\", \"kargs\": {\"inplace\": True}},\n",
    "        {\"class\": \"BatchNorm1d\", \"kargs\": {\"num_features\": 256}},\n",
    "        {\"class\": \"Linear\", \"kargs\": {\"in_features\": 256, \"out_features\": 256}},\n",
    "    ],\n",
    "    \"NUM_LOGS_PER_EPOCH\": 10,\n",
    "    \"BEST_MODEL_PATH\": \"./best_model.pth\",\n",
    "    \"pickle_name\": \"oracle.Run2_10kExamples_stratified_ds.2022A.pkl\",\n",
    "    \"x_transforms_source\": [],\n",
    "    \"x_transforms_target\": [],\n",
    "    \"dataset_seed\": 420,\n",
    "    \"seed\": 420,\n",
    "}\n"
   ]
  },
  {
   "cell_type": "code",
   "execution_count": 5,
   "id": "8fa1cc33",
   "metadata": {
    "execution": {
     "iopub.execute_input": "2022-04-01T16:53:01.329674Z",
     "iopub.status.busy": "2022-04-01T16:53:01.329409Z",
     "iopub.status.idle": "2022-04-01T16:53:01.341715Z",
     "shell.execute_reply": "2022-04-01T16:53:01.341306Z"
    },
    "papermill": {
     "duration": 0.025643,
     "end_time": "2022-04-01T16:53:01.341817",
     "exception": false,
     "start_time": "2022-04-01T16:53:01.316174",
     "status": "completed"
    },
    "tags": []
   },
   "outputs": [],
   "source": [
    "# Set this to True if you want to run this template directly\n",
    "STANDALONE = False\n",
    "if STANDALONE:\n",
    "    print(\"parameters not injected, running with standalone_parameters\")\n",
    "    parameters = standalone_parameters\n",
    "\n",
    "if not 'parameters' in locals() and not 'parameters' in globals():\n",
    "    raise Exception(\"Parameter injection failed\")\n",
    "\n",
    "#Use an easy dict for all the parameters\n",
    "p = EasyDict(parameters)\n",
    "\n",
    "supplied_keys = set(p.keys())\n",
    "\n",
    "if  supplied_keys != required_parameters:\n",
    "    print(\"Parameters are incorrect\")\n",
    "    if len(supplied_keys - required_parameters)>0: print(\"Shouldn't have:\", str(supplied_keys - required_parameters))\n",
    "    if len(required_parameters - supplied_keys)>0: print(\"Need to have:\", str(required_parameters - supplied_keys))\n",
    "    raise RuntimeError(\"Parameters are incorrect\")\n",
    "\n"
   ]
  },
  {
   "cell_type": "code",
   "execution_count": 6,
   "id": "3a028d58",
   "metadata": {
    "execution": {
     "iopub.execute_input": "2022-04-01T16:53:01.368144Z",
     "iopub.status.busy": "2022-04-01T16:53:01.367112Z",
     "iopub.status.idle": "2022-04-01T16:53:01.384405Z",
     "shell.execute_reply": "2022-04-01T16:53:01.383998Z"
    },
    "papermill": {
     "duration": 0.028209,
     "end_time": "2022-04-01T16:53:01.384507",
     "exception": false,
     "start_time": "2022-04-01T16:53:01.356298",
     "status": "completed"
    },
    "tags": []
   },
   "outputs": [],
   "source": [
    "###################################\n",
    "# Set the RNGs and make it all deterministic\n",
    "###################################\n",
    "np.random.seed(p.seed)\n",
    "random.seed(p.seed)\n",
    "torch.manual_seed(p.seed)\n",
    "\n",
    "torch.use_deterministic_algorithms(True) "
   ]
  },
  {
   "cell_type": "code",
   "execution_count": 7,
   "id": "b691acf6",
   "metadata": {
    "execution": {
     "iopub.execute_input": "2022-04-01T16:53:01.411980Z",
     "iopub.status.busy": "2022-04-01T16:53:01.411717Z",
     "iopub.status.idle": "2022-04-01T16:53:01.428035Z",
     "shell.execute_reply": "2022-04-01T16:53:01.428417Z"
    },
    "papermill": {
     "duration": 0.028566,
     "end_time": "2022-04-01T16:53:01.428539",
     "exception": false,
     "start_time": "2022-04-01T16:53:01.399973",
     "status": "completed"
    },
    "tags": []
   },
   "outputs": [],
   "source": [
    "###########################################\n",
    "# The stratified datasets honor this\n",
    "###########################################\n",
    "torch.set_default_dtype(eval(p.torch_default_dtype))"
   ]
  },
  {
   "cell_type": "code",
   "execution_count": 8,
   "id": "b5fba671",
   "metadata": {
    "execution": {
     "iopub.execute_input": "2022-04-01T16:53:01.455919Z",
     "iopub.status.busy": "2022-04-01T16:53:01.455659Z",
     "iopub.status.idle": "2022-04-01T16:53:01.494123Z",
     "shell.execute_reply": "2022-04-01T16:53:01.494520Z"
    },
    "papermill": {
     "duration": 0.050751,
     "end_time": "2022-04-01T16:53:01.494659",
     "exception": false,
     "start_time": "2022-04-01T16:53:01.443908",
     "status": "completed"
    },
    "tags": []
   },
   "outputs": [],
   "source": [
    "###################################\n",
    "# Build the network(s)\n",
    "# Note: It's critical to do this AFTER setting the RNG\n",
    "# (This is due to the randomized initial weights)\n",
    "###################################\n",
    "x_net = build_sequential(p.x_net)"
   ]
  },
  {
   "cell_type": "code",
   "execution_count": 9,
   "id": "5d7e61cc",
   "metadata": {
    "execution": {
     "iopub.execute_input": "2022-04-01T16:53:01.521403Z",
     "iopub.status.busy": "2022-04-01T16:53:01.521145Z",
     "iopub.status.idle": "2022-04-01T16:53:01.536665Z",
     "shell.execute_reply": "2022-04-01T16:53:01.537044Z"
    },
    "papermill": {
     "duration": 0.028015,
     "end_time": "2022-04-01T16:53:01.537166",
     "exception": false,
     "start_time": "2022-04-01T16:53:01.509151",
     "status": "completed"
    },
    "tags": []
   },
   "outputs": [],
   "source": [
    "start_time_secs = time.time()"
   ]
  },
  {
   "cell_type": "code",
   "execution_count": 10,
   "id": "fd5442bc",
   "metadata": {
    "execution": {
     "iopub.execute_input": "2022-04-01T16:53:01.569780Z",
     "iopub.status.busy": "2022-04-01T16:53:01.563657Z",
     "iopub.status.idle": "2022-04-01T16:53:05.283882Z",
     "shell.execute_reply": "2022-04-01T16:53:05.283420Z"
    },
    "papermill": {
     "duration": 3.731781,
     "end_time": "2022-04-01T16:53:05.283990",
     "exception": false,
     "start_time": "2022-04-01T16:53:01.552209",
     "status": "completed"
    },
    "tags": []
   },
   "outputs": [],
   "source": [
    "###################################\n",
    "# Build the dataset\n",
    "###################################\n",
    "\n",
    "if p.x_transforms_source == []: x_transform_source = None\n",
    "else: x_transform_source = get_chained_transform(p.x_transforms_source) \n",
    "\n",
    "if p.x_transforms_target == []: x_transform_target = None\n",
    "else: x_transform_target = get_chained_transform(p.x_transforms_target)\n",
    "\n",
    "if p.episode_transforms_source == []: episode_transform_source = None\n",
    "else: raise Exception(\"episode_transform_source not implemented\")\n",
    "\n",
    "if p.episode_transforms_target == []: episode_transform_target = None\n",
    "else: raise Exception(\"episode_transform_target not implemented\")\n",
    "\n",
    "\n",
    "eaf_source = Episodic_Accessor_Factory(\n",
    "    labels=p.labels_source,\n",
    "    domains=p.domains_source,\n",
    "    num_examples_per_domain_per_label=p.num_examples_per_domain_per_label_source,\n",
    "    iterator_seed=p.seed,\n",
    "    dataset_seed=p.dataset_seed,\n",
    "    n_shot=p.n_shot,\n",
    "    n_way=p.n_way,\n",
    "    n_query=p.n_query,\n",
    "    train_val_test_k_factors=(p.train_k_factor,p.val_k_factor,p.test_k_factor),\n",
    "    pickle_path=os.path.join(get_datasets_base_path(), p.pickle_name),\n",
    "    x_transform_func=x_transform_source,\n",
    "    example_transform_func=episode_transform_source,\n",
    "    \n",
    ")\n",
    "train_original_source, val_original_source, test_original_source = eaf_source.get_train(), eaf_source.get_val(), eaf_source.get_test()\n",
    "\n",
    "\n",
    "eaf_target = Episodic_Accessor_Factory(\n",
    "    labels=p.labels_target,\n",
    "    domains=p.domains_target,\n",
    "    num_examples_per_domain_per_label=p.num_examples_per_domain_per_label_target,\n",
    "    iterator_seed=p.seed,\n",
    "    dataset_seed=p.dataset_seed,\n",
    "    n_shot=p.n_shot,\n",
    "    n_way=p.n_way,\n",
    "    n_query=p.n_query,\n",
    "    train_val_test_k_factors=(p.train_k_factor,p.val_k_factor,p.test_k_factor),\n",
    "    pickle_path=os.path.join(get_datasets_base_path(), p.pickle_name),\n",
    "    x_transform_func=x_transform_target,\n",
    "    example_transform_func=episode_transform_target,\n",
    ")\n",
    "train_original_target, val_original_target, test_original_target = eaf_target.get_train(), eaf_target.get_val(), eaf_target.get_test()\n",
    "\n",
    "\n",
    "transform_lambda = lambda ex: ex[1] # Original is (<domain>, <episode>) so we strip down to episode only\n",
    "\n",
    "train_processed_source = Lazy_Iterable_Wrapper(train_original_source, transform_lambda)\n",
    "val_processed_source   = Lazy_Iterable_Wrapper(val_original_source, transform_lambda)\n",
    "test_processed_source  = Lazy_Iterable_Wrapper(test_original_source, transform_lambda)\n",
    "\n",
    "train_processed_target = Lazy_Iterable_Wrapper(train_original_target, transform_lambda)\n",
    "val_processed_target   = Lazy_Iterable_Wrapper(val_original_target, transform_lambda)\n",
    "test_processed_target  = Lazy_Iterable_Wrapper(test_original_target, transform_lambda)\n",
    "\n",
    "datasets = EasyDict({\n",
    "    \"source\": {\n",
    "        \"original\": {\"train\":train_original_source, \"val\":val_original_source, \"test\":test_original_source},\n",
    "        \"processed\": {\"train\":train_processed_source, \"val\":val_processed_source, \"test\":test_processed_source}\n",
    "    },\n",
    "    \"target\": {\n",
    "        \"original\": {\"train\":train_original_target, \"val\":val_original_target, \"test\":test_original_target},\n",
    "        \"processed\": {\"train\":train_processed_target, \"val\":val_processed_target, \"test\":test_processed_target}\n",
    "    },\n",
    "})"
   ]
  },
  {
   "cell_type": "code",
   "execution_count": 11,
   "id": "296189d9",
   "metadata": {
    "execution": {
     "iopub.execute_input": "2022-04-01T16:53:05.310330Z",
     "iopub.status.busy": "2022-04-01T16:53:05.308804Z",
     "iopub.status.idle": "2022-04-01T16:53:06.935827Z",
     "shell.execute_reply": "2022-04-01T16:53:06.936138Z"
    },
    "papermill": {
     "duration": 1.638398,
     "end_time": "2022-04-01T16:53:06.936225",
     "exception": false,
     "start_time": "2022-04-01T16:53:05.297827",
     "status": "completed"
    },
    "tags": []
   },
   "outputs": [
    {
     "name": "stdout",
     "output_type": "stream",
     "text": [
      "Visually inspect these to see if they line up with expected values given the transforms\n",
      "x_transforms_source []\n",
      "x_transforms_target []\n",
      "Average magnitude, source: 0.004780816\n",
      "Average power, source: 2.8266544e-05\n"
     ]
    },
    {
     "name": "stdout",
     "output_type": "stream",
     "text": [
      "Average magnitude, target: 0.0049883192\n",
      "Average power, target: 3.287618e-05\n"
     ]
    }
   ],
   "source": [
    "# Some quick unit tests on the data\n",
    "from steves_utils.transforms import get_average_power, get_average_magnitude\n",
    "\n",
    "q_x, q_y, s_x, s_y, truth = next(iter(train_processed_source))\n",
    "\n",
    "assert q_x.dtype == eval(p.torch_default_dtype)\n",
    "assert s_x.dtype == eval(p.torch_default_dtype)\n",
    "\n",
    "print(\"Visually inspect these to see if they line up with expected values given the transforms\")\n",
    "print('x_transforms_source', p.x_transforms_source)\n",
    "print('x_transforms_target', p.x_transforms_target)\n",
    "print(\"Average magnitude, source:\", get_average_magnitude(q_x[0].numpy()))\n",
    "print(\"Average power, source:\", get_average_power(q_x[0].numpy()))\n",
    "\n",
    "q_x, q_y, s_x, s_y, truth = next(iter(train_processed_target))\n",
    "print(\"Average magnitude, target:\", get_average_magnitude(q_x[0].numpy()))\n",
    "print(\"Average power, target:\", get_average_power(q_x[0].numpy()))\n"
   ]
  },
  {
   "cell_type": "code",
   "execution_count": 12,
   "id": "bbdacba1",
   "metadata": {
    "execution": {
     "iopub.execute_input": "2022-04-01T16:53:06.965190Z",
     "iopub.status.busy": "2022-04-01T16:53:06.964915Z",
     "iopub.status.idle": "2022-04-01T16:53:07.025141Z",
     "shell.execute_reply": "2022-04-01T16:53:07.024786Z"
    },
    "papermill": {
     "duration": 0.073675,
     "end_time": "2022-04-01T16:53:07.025225",
     "exception": false,
     "start_time": "2022-04-01T16:53:06.951550",
     "status": "completed"
    },
    "tags": []
   },
   "outputs": [
    {
     "name": "stdout",
     "output_type": "stream",
     "text": [
      "(2, 256)\n"
     ]
    }
   ],
   "source": [
    "###################################\n",
    "# Build the model\n",
    "###################################\n",
    "model = Steves_Prototypical_Network(x_net, device=p.device, x_shape=(2,256))\n",
    "optimizer = Adam(params=model.parameters(), lr=p.lr)"
   ]
  },
  {
   "cell_type": "code",
   "execution_count": 13,
   "id": "22b39ac5",
   "metadata": {
    "execution": {
     "iopub.execute_input": "2022-04-01T16:53:07.053705Z",
     "iopub.status.busy": "2022-04-01T16:53:07.053444Z",
     "iopub.status.idle": "2022-04-01T17:02:37.262654Z",
     "shell.execute_reply": "2022-04-01T17:02:37.262422Z"
    },
    "papermill": {
     "duration": 570.222908,
     "end_time": "2022-04-01T17:02:37.262713",
     "exception": false,
     "start_time": "2022-04-01T16:53:07.039805",
     "status": "completed"
    },
    "tags": []
   },
   "outputs": [
    {
     "name": "stdout",
     "output_type": "stream",
     "text": [
      "epoch: 1, [batch: 1 / 2520], examples_per_second: 129.9708, train_label_loss: 2.7072, \n"
     ]
    },
    {
     "name": "stdout",
     "output_type": "stream",
     "text": [
      "epoch: 1, [batch: 252 / 2520], examples_per_second: 3144.1078, train_label_loss: 1.2345, \n"
     ]
    },
    {
     "name": "stdout",
     "output_type": "stream",
     "text": [
      "epoch: 1, [batch: 504 / 2520], examples_per_second: 3157.9389, train_label_loss: 0.8740, \n"
     ]
    },
    {
     "name": "stdout",
     "output_type": "stream",
     "text": [
      "epoch: 1, [batch: 756 / 2520], examples_per_second: 3167.1510, train_label_loss: 1.3190, \n"
     ]
    },
    {
     "name": "stdout",
     "output_type": "stream",
     "text": [
      "epoch: 1, [batch: 1008 / 2520], examples_per_second: 3146.8623, train_label_loss: 1.0665, \n"
     ]
    },
    {
     "name": "stdout",
     "output_type": "stream",
     "text": [
      "epoch: 1, [batch: 1260 / 2520], examples_per_second: 3158.5831, train_label_loss: 1.2062, \n"
     ]
    },
    {
     "name": "stdout",
     "output_type": "stream",
     "text": [
      "epoch: 1, [batch: 1512 / 2520], examples_per_second: 3168.6007, train_label_loss: 1.2757, \n"
     ]
    },
    {
     "name": "stdout",
     "output_type": "stream",
     "text": [
      "epoch: 1, [batch: 1764 / 2520], examples_per_second: 3147.0506, train_label_loss: 1.2173, \n"
     ]
    },
    {
     "name": "stdout",
     "output_type": "stream",
     "text": [
      "epoch: 1, [batch: 2016 / 2520], examples_per_second: 3163.5438, train_label_loss: 0.8268, \n"
     ]
    },
    {
     "name": "stdout",
     "output_type": "stream",
     "text": [
      "epoch: 1, [batch: 2268 / 2520], examples_per_second: 3162.2586, train_label_loss: 0.3467, \n"
     ]
    },
    {
     "name": "stdout",
     "output_type": "stream",
     "text": [
      "=============================================================\n",
      "epoch: 1, source_val_acc_label: 0.6895, target_val_acc_label: 0.5236, source_val_label_loss: 1.6862, target_val_label_loss: 1.9523, \n",
      "=============================================================\n"
     ]
    },
    {
     "name": "stdout",
     "output_type": "stream",
     "text": [
      "New best\n"
     ]
    },
    {
     "name": "stdout",
     "output_type": "stream",
     "text": [
      "epoch: 2, [batch: 1 / 2520], examples_per_second: 11.0664, train_label_loss: 2.3967, \n"
     ]
    },
    {
     "name": "stdout",
     "output_type": "stream",
     "text": [
      "epoch: 2, [batch: 252 / 2520], examples_per_second: 3199.9038, train_label_loss: 0.6295, \n"
     ]
    },
    {
     "name": "stdout",
     "output_type": "stream",
     "text": [
      "epoch: 2, [batch: 504 / 2520], examples_per_second: 3196.4878, train_label_loss: 0.9657, \n"
     ]
    },
    {
     "name": "stdout",
     "output_type": "stream",
     "text": [
      "epoch: 2, [batch: 756 / 2520], examples_per_second: 3221.8187, train_label_loss: 0.3197, \n"
     ]
    },
    {
     "name": "stdout",
     "output_type": "stream",
     "text": [
      "epoch: 2, [batch: 1008 / 2520], examples_per_second: 3195.4028, train_label_loss: 0.4633, \n"
     ]
    },
    {
     "name": "stdout",
     "output_type": "stream",
     "text": [
      "epoch: 2, [batch: 1260 / 2520], examples_per_second: 3189.5175, train_label_loss: 0.5137, \n"
     ]
    },
    {
     "name": "stdout",
     "output_type": "stream",
     "text": [
      "epoch: 2, [batch: 1512 / 2520], examples_per_second: 3206.3045, train_label_loss: 1.0661, \n"
     ]
    },
    {
     "name": "stdout",
     "output_type": "stream",
     "text": [
      "epoch: 2, [batch: 1764 / 2520], examples_per_second: 3165.4515, train_label_loss: 0.5478, \n"
     ]
    },
    {
     "name": "stdout",
     "output_type": "stream",
     "text": [
      "epoch: 2, [batch: 2016 / 2520], examples_per_second: 3178.9157, train_label_loss: 0.2059, \n"
     ]
    },
    {
     "name": "stdout",
     "output_type": "stream",
     "text": [
      "epoch: 2, [batch: 2268 / 2520], examples_per_second: 3215.6728, train_label_loss: 0.5090, \n"
     ]
    },
    {
     "name": "stdout",
     "output_type": "stream",
     "text": [
      "=============================================================\n",
      "epoch: 2, source_val_acc_label: 0.8103, target_val_acc_label: 0.6491, source_val_label_loss: 0.5175, target_val_label_loss: 1.0172, \n",
      "=============================================================\n"
     ]
    },
    {
     "name": "stdout",
     "output_type": "stream",
     "text": [
      "New best\n"
     ]
    },
    {
     "name": "stdout",
     "output_type": "stream",
     "text": [
      "epoch: 3, [batch: 1 / 2520], examples_per_second: 11.0925, train_label_loss: 0.5440, \n"
     ]
    },
    {
     "name": "stdout",
     "output_type": "stream",
     "text": [
      "epoch: 3, [batch: 252 / 2520], examples_per_second: 3186.2259, train_label_loss: 0.3349, \n"
     ]
    },
    {
     "name": "stdout",
     "output_type": "stream",
     "text": [
      "epoch: 3, [batch: 504 / 2520], examples_per_second: 3185.9822, train_label_loss: 0.4736, \n"
     ]
    },
    {
     "name": "stdout",
     "output_type": "stream",
     "text": [
      "epoch: 3, [batch: 756 / 2520], examples_per_second: 3192.9234, train_label_loss: 0.3060, \n"
     ]
    },
    {
     "name": "stdout",
     "output_type": "stream",
     "text": [
      "epoch: 3, [batch: 1008 / 2520], examples_per_second: 3180.9329, train_label_loss: 0.4753, \n"
     ]
    },
    {
     "name": "stdout",
     "output_type": "stream",
     "text": [
      "epoch: 3, [batch: 1260 / 2520], examples_per_second: 3201.4401, train_label_loss: 0.4850, \n"
     ]
    },
    {
     "name": "stdout",
     "output_type": "stream",
     "text": [
      "epoch: 3, [batch: 1512 / 2520], examples_per_second: 3206.5421, train_label_loss: 0.1332, \n"
     ]
    },
    {
     "name": "stdout",
     "output_type": "stream",
     "text": [
      "epoch: 3, [batch: 1764 / 2520], examples_per_second: 3178.1588, train_label_loss: 0.3811, \n"
     ]
    },
    {
     "name": "stdout",
     "output_type": "stream",
     "text": [
      "epoch: 3, [batch: 2016 / 2520], examples_per_second: 3206.2983, train_label_loss: 0.7712, \n"
     ]
    },
    {
     "name": "stdout",
     "output_type": "stream",
     "text": [
      "epoch: 3, [batch: 2268 / 2520], examples_per_second: 3180.7812, train_label_loss: 0.1499, \n"
     ]
    },
    {
     "name": "stdout",
     "output_type": "stream",
     "text": [
      "=============================================================\n",
      "epoch: 3, source_val_acc_label: 0.8200, target_val_acc_label: 0.6652, source_val_label_loss: 0.4807, target_val_label_loss: 1.0105, \n",
      "=============================================================\n"
     ]
    },
    {
     "name": "stdout",
     "output_type": "stream",
     "text": [
      "New best\n"
     ]
    },
    {
     "name": "stdout",
     "output_type": "stream",
     "text": [
      "epoch: 4, [batch: 1 / 2520], examples_per_second: 11.1067, train_label_loss: 0.2833, \n"
     ]
    },
    {
     "name": "stdout",
     "output_type": "stream",
     "text": [
      "epoch: 4, [batch: 252 / 2520], examples_per_second: 3181.0926, train_label_loss: 0.1506, \n"
     ]
    },
    {
     "name": "stdout",
     "output_type": "stream",
     "text": [
      "epoch: 4, [batch: 504 / 2520], examples_per_second: 3198.3324, train_label_loss: 0.5471, \n"
     ]
    },
    {
     "name": "stdout",
     "output_type": "stream",
     "text": [
      "epoch: 4, [batch: 756 / 2520], examples_per_second: 3195.1067, train_label_loss: 0.2714, \n"
     ]
    },
    {
     "name": "stdout",
     "output_type": "stream",
     "text": [
      "epoch: 4, [batch: 1008 / 2520], examples_per_second: 3197.3520, train_label_loss: 0.3373, \n"
     ]
    },
    {
     "name": "stdout",
     "output_type": "stream",
     "text": [
      "epoch: 4, [batch: 1260 / 2520], examples_per_second: 3198.9372, train_label_loss: 0.3247, \n"
     ]
    },
    {
     "name": "stdout",
     "output_type": "stream",
     "text": [
      "epoch: 4, [batch: 1512 / 2520], examples_per_second: 3191.9387, train_label_loss: 0.6016, \n"
     ]
    },
    {
     "name": "stdout",
     "output_type": "stream",
     "text": [
      "epoch: 4, [batch: 1764 / 2520], examples_per_second: 3164.9409, train_label_loss: 0.3627, \n"
     ]
    },
    {
     "name": "stdout",
     "output_type": "stream",
     "text": [
      "epoch: 4, [batch: 2016 / 2520], examples_per_second: 3182.5699, train_label_loss: 0.0225, \n"
     ]
    },
    {
     "name": "stdout",
     "output_type": "stream",
     "text": [
      "epoch: 4, [batch: 2268 / 2520], examples_per_second: 3193.4934, train_label_loss: 0.1783, \n"
     ]
    },
    {
     "name": "stdout",
     "output_type": "stream",
     "text": [
      "=============================================================\n",
      "epoch: 4, source_val_acc_label: 0.8294, target_val_acc_label: 0.6736, source_val_label_loss: 0.4922, target_val_label_loss: 1.0006, \n",
      "=============================================================\n"
     ]
    },
    {
     "name": "stdout",
     "output_type": "stream",
     "text": [
      "New best\n"
     ]
    },
    {
     "name": "stdout",
     "output_type": "stream",
     "text": [
      "epoch: 5, [batch: 1 / 2520], examples_per_second: 11.1434, train_label_loss: 0.3232, \n"
     ]
    },
    {
     "name": "stdout",
     "output_type": "stream",
     "text": [
      "epoch: 5, [batch: 252 / 2520], examples_per_second: 3176.9698, train_label_loss: 0.2110, \n"
     ]
    },
    {
     "name": "stdout",
     "output_type": "stream",
     "text": [
      "epoch: 5, [batch: 504 / 2520], examples_per_second: 3195.1981, train_label_loss: 0.0811, \n"
     ]
    },
    {
     "name": "stdout",
     "output_type": "stream",
     "text": [
      "epoch: 5, [batch: 756 / 2520], examples_per_second: 3188.4658, train_label_loss: 0.1922, \n"
     ]
    },
    {
     "name": "stdout",
     "output_type": "stream",
     "text": [
      "epoch: 5, [batch: 1008 / 2520], examples_per_second: 3176.1287, train_label_loss: 0.3055, \n"
     ]
    },
    {
     "name": "stdout",
     "output_type": "stream",
     "text": [
      "epoch: 5, [batch: 1260 / 2520], examples_per_second: 3209.9201, train_label_loss: 0.4911, \n"
     ]
    },
    {
     "name": "stdout",
     "output_type": "stream",
     "text": [
      "epoch: 5, [batch: 1512 / 2520], examples_per_second: 3193.7987, train_label_loss: 0.1738, \n"
     ]
    },
    {
     "name": "stdout",
     "output_type": "stream",
     "text": [
      "epoch: 5, [batch: 1764 / 2520], examples_per_second: 3188.2029, train_label_loss: 0.3736, \n"
     ]
    },
    {
     "name": "stdout",
     "output_type": "stream",
     "text": [
      "epoch: 5, [batch: 2016 / 2520], examples_per_second: 3179.0976, train_label_loss: 0.1379, \n"
     ]
    },
    {
     "name": "stdout",
     "output_type": "stream",
     "text": [
      "epoch: 5, [batch: 2268 / 2520], examples_per_second: 3191.6554, train_label_loss: 0.4263, \n"
     ]
    },
    {
     "name": "stdout",
     "output_type": "stream",
     "text": [
      "=============================================================\n",
      "epoch: 5, source_val_acc_label: 0.8183, target_val_acc_label: 0.6639, source_val_label_loss: 0.5063, target_val_label_loss: 1.0366, \n",
      "=============================================================\n"
     ]
    },
    {
     "name": "stdout",
     "output_type": "stream",
     "text": [
      "epoch: 6, [batch: 1 / 2520], examples_per_second: 11.1884, train_label_loss: 0.2360, \n"
     ]
    },
    {
     "name": "stdout",
     "output_type": "stream",
     "text": [
      "epoch: 6, [batch: 252 / 2520], examples_per_second: 3190.4723, train_label_loss: 0.1747, \n"
     ]
    },
    {
     "name": "stdout",
     "output_type": "stream",
     "text": [
      "epoch: 6, [batch: 504 / 2520], examples_per_second: 3195.3054, train_label_loss: 0.1284, \n"
     ]
    },
    {
     "name": "stdout",
     "output_type": "stream",
     "text": [
      "epoch: 6, [batch: 756 / 2520], examples_per_second: 3188.7779, train_label_loss: 0.4762, \n"
     ]
    },
    {
     "name": "stdout",
     "output_type": "stream",
     "text": [
      "epoch: 6, [batch: 1008 / 2520], examples_per_second: 3189.6286, train_label_loss: 0.1010, \n"
     ]
    },
    {
     "name": "stdout",
     "output_type": "stream",
     "text": [
      "epoch: 6, [batch: 1260 / 2520], examples_per_second: 3185.7391, train_label_loss: 0.0513, \n"
     ]
    },
    {
     "name": "stdout",
     "output_type": "stream",
     "text": [
      "epoch: 6, [batch: 1512 / 2520], examples_per_second: 3190.8913, train_label_loss: 0.3607, \n"
     ]
    },
    {
     "name": "stdout",
     "output_type": "stream",
     "text": [
      "epoch: 6, [batch: 1764 / 2520], examples_per_second: 3180.3870, train_label_loss: 0.1051, \n"
     ]
    },
    {
     "name": "stdout",
     "output_type": "stream",
     "text": [
      "epoch: 6, [batch: 2016 / 2520], examples_per_second: 3183.1880, train_label_loss: 0.1320, \n"
     ]
    },
    {
     "name": "stdout",
     "output_type": "stream",
     "text": [
      "epoch: 6, [batch: 2268 / 2520], examples_per_second: 3174.5123, train_label_loss: 0.0315, \n"
     ]
    },
    {
     "name": "stdout",
     "output_type": "stream",
     "text": [
      "=============================================================\n",
      "epoch: 6, source_val_acc_label: 0.8217, target_val_acc_label: 0.6659, source_val_label_loss: 0.5165, target_val_label_loss: 1.0814, \n",
      "=============================================================\n"
     ]
    },
    {
     "name": "stdout",
     "output_type": "stream",
     "text": [
      "epoch: 7, [batch: 1 / 2520], examples_per_second: 11.1657, train_label_loss: 0.1742, \n"
     ]
    },
    {
     "name": "stdout",
     "output_type": "stream",
     "text": [
      "epoch: 7, [batch: 252 / 2520], examples_per_second: 3197.0206, train_label_loss: 0.0910, \n"
     ]
    },
    {
     "name": "stdout",
     "output_type": "stream",
     "text": [
      "epoch: 7, [batch: 504 / 2520], examples_per_second: 3215.6617, train_label_loss: 0.2860, \n"
     ]
    },
    {
     "name": "stdout",
     "output_type": "stream",
     "text": [
      "epoch: 7, [batch: 756 / 2520], examples_per_second: 3208.9956, train_label_loss: 0.0227, \n"
     ]
    },
    {
     "name": "stdout",
     "output_type": "stream",
     "text": [
      "epoch: 7, [batch: 1008 / 2520], examples_per_second: 3174.2086, train_label_loss: 0.1496, \n"
     ]
    },
    {
     "name": "stdout",
     "output_type": "stream",
     "text": [
      "epoch: 7, [batch: 1260 / 2520], examples_per_second: 3183.2563, train_label_loss: 0.0073, \n"
     ]
    },
    {
     "name": "stdout",
     "output_type": "stream",
     "text": [
      "epoch: 7, [batch: 1512 / 2520], examples_per_second: 3197.4623, train_label_loss: 0.1514, \n"
     ]
    },
    {
     "name": "stdout",
     "output_type": "stream",
     "text": [
      "epoch: 7, [batch: 1764 / 2520], examples_per_second: 3187.3026, train_label_loss: 0.1575, \n"
     ]
    },
    {
     "name": "stdout",
     "output_type": "stream",
     "text": [
      "epoch: 7, [batch: 2016 / 2520], examples_per_second: 3186.3068, train_label_loss: 0.0904, \n"
     ]
    },
    {
     "name": "stdout",
     "output_type": "stream",
     "text": [
      "epoch: 7, [batch: 2268 / 2520], examples_per_second: 3201.9631, train_label_loss: 0.1642, \n"
     ]
    },
    {
     "name": "stdout",
     "output_type": "stream",
     "text": [
      "=============================================================\n",
      "epoch: 7, source_val_acc_label: 0.8176, target_val_acc_label: 0.6627, source_val_label_loss: 0.5467, target_val_label_loss: 1.1445, \n",
      "=============================================================\n"
     ]
    },
    {
     "name": "stdout",
     "output_type": "stream",
     "text": [
      "epoch: 8, [batch: 1 / 2520], examples_per_second: 11.1402, train_label_loss: 0.0672, \n"
     ]
    },
    {
     "name": "stdout",
     "output_type": "stream",
     "text": [
      "epoch: 8, [batch: 252 / 2520], examples_per_second: 3196.9777, train_label_loss: 0.0818, \n"
     ]
    },
    {
     "name": "stdout",
     "output_type": "stream",
     "text": [
      "epoch: 8, [batch: 504 / 2520], examples_per_second: 3187.5490, train_label_loss: 0.1681, \n"
     ]
    },
    {
     "name": "stdout",
     "output_type": "stream",
     "text": [
      "epoch: 8, [batch: 756 / 2520], examples_per_second: 3188.0220, train_label_loss: 0.0052, \n"
     ]
    },
    {
     "name": "stdout",
     "output_type": "stream",
     "text": [
      "epoch: 8, [batch: 1008 / 2520], examples_per_second: 3211.8797, train_label_loss: 0.0133, \n"
     ]
    },
    {
     "name": "stdout",
     "output_type": "stream",
     "text": [
      "epoch: 8, [batch: 1260 / 2520], examples_per_second: 3188.6875, train_label_loss: 0.1674, \n"
     ]
    },
    {
     "name": "stdout",
     "output_type": "stream",
     "text": [
      "epoch: 8, [batch: 1512 / 2520], examples_per_second: 3185.6019, train_label_loss: 0.1569, \n"
     ]
    },
    {
     "name": "stdout",
     "output_type": "stream",
     "text": [
      "epoch: 8, [batch: 1764 / 2520], examples_per_second: 3172.7864, train_label_loss: 0.0297, \n"
     ]
    },
    {
     "name": "stdout",
     "output_type": "stream",
     "text": [
      "epoch: 8, [batch: 2016 / 2520], examples_per_second: 3209.1896, train_label_loss: 0.3074, \n"
     ]
    },
    {
     "name": "stdout",
     "output_type": "stream",
     "text": [
      "epoch: 8, [batch: 2268 / 2520], examples_per_second: 3193.9674, train_label_loss: 0.1863, \n"
     ]
    },
    {
     "name": "stdout",
     "output_type": "stream",
     "text": [
      "=============================================================\n",
      "epoch: 8, source_val_acc_label: 0.8140, target_val_acc_label: 0.6613, source_val_label_loss: 0.5922, target_val_label_loss: 1.2507, \n",
      "=============================================================\n"
     ]
    },
    {
     "name": "stdout",
     "output_type": "stream",
     "text": [
      "Patience (3) exhausted\n"
     ]
    }
   ],
   "source": [
    "###################################\n",
    "# train\n",
    "###################################\n",
    "jig = PTN_Train_Eval_Test_Jig(model, p.BEST_MODEL_PATH, p.device)\n",
    "\n",
    "jig.train(\n",
    "    train_iterable=datasets.source.processed.train,\n",
    "    source_val_iterable=datasets.source.processed.val,\n",
    "    target_val_iterable=datasets.target.processed.val,\n",
    "    num_epochs=p.n_epoch,\n",
    "    num_logs_per_epoch=p.NUM_LOGS_PER_EPOCH,\n",
    "    patience=p.patience,\n",
    "    optimizer=optimizer,\n",
    "    criteria_for_best=p.criteria_for_best,\n",
    ")"
   ]
  },
  {
   "cell_type": "code",
   "execution_count": 14,
   "id": "31e8fabf",
   "metadata": {
    "execution": {
     "iopub.execute_input": "2022-04-01T17:02:37.320536Z",
     "iopub.status.busy": "2022-04-01T17:02:37.320286Z",
     "iopub.status.idle": "2022-04-01T17:02:37.337947Z",
     "shell.execute_reply": "2022-04-01T17:02:37.337574Z"
    },
    "papermill": {
     "duration": 0.048142,
     "end_time": "2022-04-01T17:02:37.338039",
     "exception": false,
     "start_time": "2022-04-01T17:02:37.289897",
     "status": "completed"
    },
    "tags": []
   },
   "outputs": [],
   "source": [
    "total_experiment_time_secs = time.time() - start_time_secs"
   ]
  },
  {
   "cell_type": "code",
   "execution_count": 15,
   "id": "87b9595b",
   "metadata": {
    "execution": {
     "iopub.execute_input": "2022-04-01T17:02:37.403291Z",
     "iopub.status.busy": "2022-04-01T17:02:37.402930Z",
     "iopub.status.idle": "2022-04-01T17:03:26.101937Z",
     "shell.execute_reply": "2022-04-01T17:03:26.101495Z"
    },
    "papermill": {
     "duration": 48.732496,
     "end_time": "2022-04-01T17:03:26.102043",
     "exception": false,
     "start_time": "2022-04-01T17:02:37.369547",
     "status": "completed"
    },
    "tags": []
   },
   "outputs": [],
   "source": [
    "###################################\n",
    "# Evaluate the model\n",
    "###################################\n",
    "source_test_label_accuracy, source_test_label_loss = jig.test(datasets.source.processed.test)\n",
    "target_test_label_accuracy, target_test_label_loss = jig.test(datasets.target.processed.test)\n",
    "\n",
    "source_val_label_accuracy, source_val_label_loss = jig.test(datasets.source.processed.val)\n",
    "target_val_label_accuracy, target_val_label_loss = jig.test(datasets.target.processed.val)\n",
    "\n",
    "history = jig.get_history()\n",
    "\n",
    "total_epochs_trained = len(history[\"epoch_indices\"])\n",
    "\n",
    "val_dl = Iterable_Aggregator((datasets.source.original.val,datasets.target.original.val))\n",
    "\n",
    "confusion = ptn_confusion_by_domain_over_dataloader(model, p.device, val_dl)\n",
    "per_domain_accuracy = per_domain_accuracy_from_confusion(confusion)\n",
    "\n",
    "# Add a key to per_domain_accuracy for if it was a source domain\n",
    "for domain, accuracy in per_domain_accuracy.items():\n",
    "    per_domain_accuracy[domain] = {\n",
    "        \"accuracy\": accuracy,\n",
    "        \"source?\": domain in p.domains_source\n",
    "    }\n",
    "\n",
    "# Do an independent accuracy assesment JUST TO BE SURE!\n",
    "# _source_test_label_accuracy = independent_accuracy_assesment(model, datasets.source.processed.test, p.device)\n",
    "# _target_test_label_accuracy = independent_accuracy_assesment(model, datasets.target.processed.test, p.device)\n",
    "# _source_val_label_accuracy = independent_accuracy_assesment(model, datasets.source.processed.val, p.device)\n",
    "# _target_val_label_accuracy = independent_accuracy_assesment(model, datasets.target.processed.val, p.device)\n",
    "\n",
    "# assert(_source_test_label_accuracy == source_test_label_accuracy)\n",
    "# assert(_target_test_label_accuracy == target_test_label_accuracy)\n",
    "# assert(_source_val_label_accuracy == source_val_label_accuracy)\n",
    "# assert(_target_val_label_accuracy == target_val_label_accuracy)\n",
    "\n",
    "experiment = {\n",
    "    \"experiment_name\": p.experiment_name,\n",
    "    \"parameters\": dict(p),\n",
    "    \"results\": {\n",
    "        \"source_test_label_accuracy\": source_test_label_accuracy,\n",
    "        \"source_test_label_loss\": source_test_label_loss,\n",
    "        \"target_test_label_accuracy\": target_test_label_accuracy,\n",
    "        \"target_test_label_loss\": target_test_label_loss,\n",
    "        \"source_val_label_accuracy\": source_val_label_accuracy,\n",
    "        \"source_val_label_loss\": source_val_label_loss,\n",
    "        \"target_val_label_accuracy\": target_val_label_accuracy,\n",
    "        \"target_val_label_loss\": target_val_label_loss,\n",
    "        \"total_epochs_trained\": total_epochs_trained,\n",
    "        \"total_experiment_time_secs\": total_experiment_time_secs,\n",
    "        \"confusion\": confusion,\n",
    "        \"per_domain_accuracy\": per_domain_accuracy,\n",
    "    },\n",
    "    \"history\": history,\n",
    "    \"dataset_metrics\": get_dataset_metrics(datasets, \"ptn\"),\n",
    "}"
   ]
  },
  {
   "cell_type": "code",
   "execution_count": 16,
   "id": "54a21829",
   "metadata": {
    "execution": {
     "iopub.execute_input": "2022-04-01T17:03:26.166778Z",
     "iopub.status.busy": "2022-04-01T17:03:26.165687Z",
     "iopub.status.idle": "2022-04-01T17:03:26.298346Z",
     "shell.execute_reply": "2022-04-01T17:03:26.298750Z"
    },
    "papermill": {
     "duration": 0.16281,
     "end_time": "2022-04-01T17:03:26.298903",
     "exception": false,
     "start_time": "2022-04-01T17:03:26.136093",
     "status": "completed"
    },
    "tags": []
   },
   "outputs": [
    {
     "data": {
      "image/png": "[encoded data removed]",
      "text/plain": [
       "<Figure size 1080x504 with 1 Axes>"
      ]
     },
     "metadata": {
      "needs_background": "light"
     },
     "output_type": "display_data"
    }
   ],
   "source": [
    "ax = get_loss_curve(experiment)\n",
    "plt.show()"
   ]
  },
  {
   "cell_type": "code",
   "execution_count": 17,
   "id": "fd8a0f60",
   "metadata": {
    "execution": {
     "iopub.execute_input": "2022-04-01T17:03:26.368315Z",
     "iopub.status.busy": "2022-04-01T17:03:26.364680Z",
     "iopub.status.idle": "2022-04-01T17:03:26.509668Z",
     "shell.execute_reply": "2022-04-01T17:03:26.509898Z"
    },
    "papermill": {
     "duration": 0.17623,
     "end_time": "2022-04-01T17:03:26.509979",
     "exception": false,
     "start_time": "2022-04-01T17:03:26.333749",
     "status": "completed"
    },
    "tags": []
   },
   "outputs": [
    {
     "data": {
      "text/plain": [
       "<AxesSubplot:title={'center':'Results'}>"
      ]
     },
     "execution_count": 17,
     "metadata": {},
     "output_type": "execute_result"
    },
    {
     "data": {
      "image/png": "[encoded data removed]",
      "text/plain": [
       "<Figure size 1080x504 with 1 Axes>"
      ]
     },
     "metadata": {
      "needs_background": "light"
     },
     "output_type": "display_data"
    }
   ],
   "source": [
    "get_results_table(experiment)"
   ]
  },
  {
   "cell_type": "code",
   "execution_count": 18,
   "id": "cf8dc689",
   "metadata": {
    "execution": {
     "iopub.execute_input": "2022-04-01T17:03:26.572955Z",
     "iopub.status.busy": "2022-04-01T17:03:26.572699Z",
     "iopub.status.idle": "2022-04-01T17:03:26.688815Z",
     "shell.execute_reply": "2022-04-01T17:03:26.688315Z"
    },
    "papermill": {
     "duration": 0.148257,
     "end_time": "2022-04-01T17:03:26.688921",
     "exception": false,
     "start_time": "2022-04-01T17:03:26.540664",
     "status": "completed"
    },
    "tags": []
   },
   "outputs": [
    {
     "data": {
      "text/plain": [
       "<AxesSubplot:title={'center':'Per Domain Validation Accuracy'}, xlabel='domain'>"
      ]
     },
     "execution_count": 18,
     "metadata": {},
     "output_type": "execute_result"
    },
    {
     "data": {
      "image/png": "[encoded data removed]",
      "text/plain": [
       "<Figure size 1080x504 with 1 Axes>"
      ]
     },
     "metadata": {
      "needs_background": "light"
     },
     "output_type": "display_data"
    }
   ],
   "source": [
    "get_domain_accuracies(experiment)"
   ]
  },
  {
   "cell_type": "code",
   "execution_count": 19,
   "id": "a74ae082",
   "metadata": {
    "execution": {
     "iopub.execute_input": "2022-04-01T17:03:26.756956Z",
     "iopub.status.busy": "2022-04-01T17:03:26.756539Z",
     "iopub.status.idle": "2022-04-01T17:03:26.774422Z",
     "shell.execute_reply": "2022-04-01T17:03:26.774000Z"
    },
    "papermill": {
     "duration": 0.051437,
     "end_time": "2022-04-01T17:03:26.774522",
     "exception": false,
     "start_time": "2022-04-01T17:03:26.723085",
     "status": "completed"
    },
    "tags": []
   },
   "outputs": [
    {
     "name": "stdout",
     "output_type": "stream",
     "text": [
      "Source Test Label Accuracy: 0.8294270833333334 Target Test Label Accuracy: 0.6715625\n",
      "Source Val Label Accuracy: 0.8294270833333334 Target Val Label Accuracy: 0.67359375\n"
     ]
    }
   ],
   "source": [
    "print(\"Source Test Label Accuracy:\", experiment[\"results\"][\"source_test_label_accuracy\"], \"Target Test Label Accuracy:\", experiment[\"results\"][\"target_test_label_accuracy\"])\n",
    "print(\"Source Val Label Accuracy:\", experiment[\"results\"][\"source_val_label_accuracy\"], \"Target Val Label Accuracy:\", experiment[\"results\"][\"target_val_label_accuracy\"])"
   ]
  },
  {
   "cell_type": "code",
   "execution_count": 20,
   "id": "dacca602",
   "metadata": {
    "execution": {
     "iopub.execute_input": "2022-04-01T17:03:26.849843Z",
     "iopub.status.busy": "2022-04-01T17:03:26.844319Z",
     "iopub.status.idle": "2022-04-01T17:03:26.860002Z",
     "shell.execute_reply": "2022-04-01T17:03:26.859513Z"
    },
    "papermill": {
     "duration": 0.049405,
     "end_time": "2022-04-01T17:03:26.860103",
     "exception": false,
     "start_time": "2022-04-01T17:03:26.810698",
     "status": "completed"
    },
    "tags": [
     "experiment_json"
    ]
   },
   "outputs": [
    {
     "data": {
      "text/plain": [
       "'{\"experiment_name\": \"tuned_1v2:oracle.run2_limited\", \"parameters\": {\"experiment_name\": \"tuned_1v2:oracle.run2_limited\", \"device\": \"cuda\", \"lr\": 0.0001, \"labels_source\": [\"3123D52\", \"3123D65\", \"3123D79\", \"3123D80\", \"3123D54\", \"3123D70\", \"3123D7B\", \"3123D89\", \"3123D58\", \"3123D76\", \"3123D7D\", \"3123EFE\", \"3123D64\", \"3123D78\", \"3123D7E\", \"3124E4A\"], \"labels_target\": [\"3123D52\", \"3123D65\", \"3123D79\", \"3123D80\", \"3123D54\", \"3123D70\", \"3123D7B\", \"3123D89\", \"3123D58\", \"3123D76\", \"3123D7D\", \"3123EFE\", \"3123D64\", \"3123D78\", \"3123D7E\", \"3124E4A\"], \"episode_transforms_source\": [], \"episode_transforms_target\": [], \"domains_source\": [8, 32, 50], \"domains_target\": [14, 20, 26, 38, 44], \"num_examples_per_domain_per_label_source\": 2000, \"num_examples_per_domain_per_label_target\": 2000, \"n_shot\": 3, \"n_way\": 16, \"n_query\": 2, \"train_k_factor\": 3, \"val_k_factor\": 2, \"test_k_factor\": 2, \"torch_default_dtype\": \"torch.float32\", \"n_epoch\": 50, \"patience\": 3, \"criteria_for_best\": \"target_accuracy\", \"x_net\": [{\"class\": \"nnReshape\", \"kargs\": {\"shape\": [-1, 1, 2, 256]}}, {\"class\": \"Conv2d\", \"kargs\": {\"in_channels\": 1, \"out_channels\": 256, \"kernel_size\": [1, 7], \"bias\": false, \"padding\": [0, 3]}}, {\"class\": \"ReLU\", \"kargs\": {\"inplace\": true}}, {\"class\": \"BatchNorm2d\", \"kargs\": {\"num_features\": 256}}, {\"class\": \"Conv2d\", \"kargs\": {\"in_channels\": 256, \"out_channels\": 80, \"kernel_size\": [2, 7], \"bias\": true, \"padding\": [0, 3]}}, {\"class\": \"ReLU\", \"kargs\": {\"inplace\": true}}, {\"class\": \"BatchNorm2d\", \"kargs\": {\"num_features\": 80}}, {\"class\": \"Flatten\", \"kargs\": {}}, {\"class\": \"Linear\", \"kargs\": {\"in_features\": 20480, \"out_features\": 256}}, {\"class\": \"ReLU\", \"kargs\": {\"inplace\": true}}, {\"class\": \"BatchNorm1d\", \"kargs\": {\"num_features\": 256}}, {\"class\": \"Linear\", \"kargs\": {\"in_features\": 256, \"out_features\": 256}}], \"NUM_LOGS_PER_EPOCH\": 10, \"BEST_MODEL_PATH\": \"./best_model.pth\", \"pickle_name\": \"oracle.Run2_10kExamples_stratified_ds.2022A.pkl\", \"x_transforms_source\": [], \"x_transforms_target\": [], \"dataset_seed\": 420, \"seed\": 420}, \"results\": {\"source_test_label_accuracy\": 0.8294270833333334, \"source_test_label_loss\": 0.4860939681529999, \"target_test_label_accuracy\": 0.6715625, \"target_test_label_loss\": 0.9961854219436646, \"source_val_label_accuracy\": 0.8294270833333334, \"source_val_label_loss\": 0.4921903610229492, \"target_val_label_accuracy\": 0.67359375, \"target_val_label_loss\": 1.0005803108215332, \"total_epochs_trained\": 8, \"total_experiment_time_secs\": 575.8006861209869, \"confusion\": {\"8\": {\"15\": {\"15\": 211, \"2\": 8, \"12\": 21}, \"5\": {\"5\": 152, \"10\": 60, \"1\": 23, \"13\": 5}, \"7\": {\"7\": 180, \"4\": 48, \"13\": 3, \"1\": 7, \"10\": 1, \"11\": 1}, \"4\": {\"7\": 58, \"4\": 144, \"1\": 21, \"8\": 9, \"6\": 4, \"14\": 4}, \"10\": {\"10\": 150, \"5\": 48, \"1\": 7, \"13\": 33, \"7\": 2}, \"11\": {\"11\": 126, \"8\": 70, \"12\": 15, \"14\": 1, \"6\": 13, \"7\": 14, \"4\": 1}, \"12\": {\"12\": 220, \"2\": 3, \"15\": 17}, \"0\": {\"0\": 240}, \"14\": {\"14\": 191, \"6\": 41, \"1\": 5, \"4\": 1, \"8\": 2}, \"8\": {\"8\": 182, \"6\": 21, \"11\": 30, \"4\": 6, \"14\": 1}, \"13\": {\"13\": 196, \"10\": 28, \"1\": 1, \"7\": 12, \"5\": 1, \"4\": 2}, \"6\": {\"6\": 163, \"14\": 55, \"8\": 21, \"4\": 1}, \"1\": {\"1\": 142, \"13\": 6, \"4\": 26, \"14\": 16, \"5\": 22, \"10\": 23, \"7\": 5}, \"3\": {\"3\": 240}, \"9\": {\"9\": 240}, \"2\": {\"2\": 231, \"15\": 7, \"12\": 2}}, \"50\": {\"4\": {\"4\": 156, \"5\": 67, \"7\": 14, \"15\": 3}, \"10\": {\"10\": 231, \"0\": 9}, \"15\": {\"6\": 15, \"15\": 200, \"12\": 11, \"9\": 11, \"4\": 2, \"5\": 1}, \"0\": {\"0\": 198, \"10\": 12, \"2\": 30}, \"6\": {\"15\": 14, \"6\": 212, \"12\": 4, \"5\": 8, \"4\": 2}, \"3\": {\"3\": 240}, \"7\": {\"7\": 224, \"5\": 8, \"4\": 8}, \"2\": {\"2\": 230, \"0\": 10}, \"8\": {\"8\": 239, \"13\": 1}, \"11\": {\"11\": 224, \"12\": 14, \"1\": 2}, \"14\": {\"14\": 240}, \"12\": {\"12\": 223, \"9\": 4, \"11\": 8, \"15\": 5}, \"13\": {\"13\": 233, \"1\": 5, \"8\": 1, \"10\": 1}, \"9\": {\"9\": 229, \"12\": 2, \"15\": 9}, \"5\": {\"5\": 168, \"6\": 13, \"4\": 50, \"7\": 8, \"15\": 1}, \"1\": {\"1\": 237, \"13\": 2, \"11\": 1}}, \"32\": {\"7\": {\"7\": 129, \"2\": 17, \"8\": 55, \"0\": 34, \"15\": 4, \"5\": 1}, \"2\": {\"2\": 141, \"14\": 55, \"7\": 24, \"0\": 20}, \"5\": {\"5\": 204, \"15\": 26, \"14\": 5, \"7\": 2, \"2\": 3}, \"6\": {\"6\": 240}, \"13\": {\"13\": 201, \"11\": 23, \"3\": 13, \"4\": 3}, \"4\": {\"4\": 164, \"11\": 58, \"13\": 7, \"3\": 3, \"0\": 7, \"8\": 1}, \"3\": {\"3\": 232, \"4\": 2, \"13\": 6}, \"0\": {\"0\": 154, \"4\": 14, \"7\": 32, \"8\": 22, \"2\": 12, \"11\": 5, \"5\": 1}, \"9\": {\"9\": 238, \"11\": 1, \"12\": 1}, \"12\": {\"12\": 240}, \"8\": {\"7\": 49, \"8\": 178, \"0\": 12, \"2\": 1}, \"14\": {\"14\": 131, \"2\": 96, \"0\": 9, \"5\": 2, \"7\": 2}, \"15\": {\"15\": 226, \"5\": 11, \"7\": 2, \"8\": 1}, \"11\": {\"4\": 77, \"11\": 105, \"7\": 1, \"13\": 50, \"0\": 6, \"8\": 1}, \"10\": {\"10\": 240}, \"1\": {\"1\": 240}}, \"20\": {\"15\": {\"15\": 79, \"5\": 22, \"9\": 46, \"2\": 27, \"4\": 13, \"1\": 17, \"13\": 17, \"12\": 12, \"3\": 6, \"7\": 1}, \"5\": {\"3\": 24, \"1\": 39, \"5\": 72, \"2\": 39, \"15\": 12, \"7\": 12, \"9\": 24, \"4\": 13, \"12\": 1, \"14\": 2, \"0\": 2}, \"7\": {\"10\": 24, \"7\": 126, \"4\": 36, \"6\": 16, \"5\": 6, \"3\": 29, \"2\": 2, \"14\": 1}, \"4\": {\"4\": 76, \"9\": 27, \"12\": 8, \"5\": 12, \"1\": 1, \"7\": 35, \"2\": 12, \"3\": 42, \"15\": 20, \"13\": 6, \"10\": 1}, \"10\": {\"7\": 25, \"6\": 45, \"10\": 156, \"3\": 3, \"4\": 8, \"13\": 1, \"12\": 2}, \"11\": {\"11\": 144, \"8\": 76, \"0\": 15, \"14\": 5}, \"12\": {\"13\": 96, \"12\": 110, \"15\": 9, \"10\": 4, \"9\": 1, \"4\": 15, \"3\": 4, \"7\": 1}, \"0\": {\"0\": 203, \"1\": 12, \"11\": 24, \"8\": 1}, \"14\": {\"14\": 172, \"6\": 2, \"8\": 56, \"5\": 3, \"11\": 6, \"2\": 1}, \"8\": {\"11\": 72, \"8\": 110, \"14\": 44, \"5\": 4, \"2\": 1, \"0\": 7, \"1\": 1, \"3\": 1}, \"13\": {\"9\": 3, \"13\": 103, \"12\": 98, \"15\": 19, \"7\": 2, \"4\": 7, \"10\": 4, \"3\": 4}, \"6\": {\"6\": 200, \"7\": 18, \"10\": 21, \"4\": 1}, \"1\": {\"1\": 168, \"0\": 3, \"2\": 22, \"5\": 20, \"15\": 14, \"9\": 10, \"4\": 1, \"3\": 2}, \"3\": {\"5\": 32, \"3\": 52, \"2\": 29, \"4\": 34, \"7\": 42, \"9\": 31, \"12\": 4, \"15\": 12, \"13\": 2, \"10\": 1, \"6\": 1}, \"9\": {\"5\": 21, \"15\": 50, \"9\": 52, \"2\": 31, \"1\": 9, \"13\": 4, \"3\": 39, \"7\": 4, \"4\": 28, \"12\": 2}, \"2\": {\"5\": 46, \"4\": 18, \"3\": 26, \"2\": 52, \"7\": 10, \"15\": 27, \"9\": 42, \"1\": 18, \"10\": 1}}, \"26\": {\"4\": {\"4\": 236, \"7\": 1, \"3\": 3}, \"10\": {\"10\": 56, \"6\": 13, \"9\": 6, \"15\": 19, \"5\": 20, \"0\": 49, \"14\": 50, \"8\": 21, \"1\": 4, \"2\": 2}, \"15\": {\"15\": 132, \"0\": 69, \"2\": 9, \"10\": 8, \"8\": 16, \"14\": 6}, \"0\": {\"15\": 55, \"0\": 93, \"5\": 2, \"14\": 39, \"10\": 41, \"8\": 6, \"2\": 4}, \"6\": {\"6\": 156, \"5\": 66, \"10\": 3, \"1\": 7, \"14\": 8}, \"3\": {\"7\": 50, \"3\": 184, \"13\": 2, \"2\": 3, \"4\": 1}, \"7\": {\"9\": 22, \"3\": 41, \"7\": 132, \"2\": 28, \"8\": 3, \"13\": 13, \"15\": 1}, \"2\": {\"9\": 33, \"2\": 99, \"7\": 26, \"8\": 62, \"15\": 12, \"13\": 1, \"0\": 3, \"3\": 3, \"10\": 1}, \"8\": {\"8\": 89, \"7\": 3, \"2\": 65, \"0\": 4, \"9\": 54, \"13\": 6, \"10\": 5, \"15\": 12, \"3\": 2}, \"11\": {\"11\": 240}, \"14\": {\"14\": 104, \"6\": 13, \"10\": 42, \"15\": 16, \"5\": 28, \"1\": 13, \"0\": 24}, \"12\": {\"12\": 240}, \"13\": {\"13\": 202, \"7\": 10, \"2\": 4, \"9\": 21, \"8\": 3}, \"9\": {\"9\": 125, \"8\": 48, \"13\": 30, \"7\": 14, \"2\": 22, \"15\": 1}, \"5\": {\"14\": 31, \"6\": 74, \"10\": 21, \"1\": 46, \"5\": 65, \"0\": 3}, \"1\": {\"1\": 211, \"5\": 16, \"14\": 7, \"6\": 5, \"10\": 1}}, \"38\": {\"7\": {\"7\": 219, \"0\": 14, \"4\": 3, \"14\": 4}, \"2\": {\"2\": 208, \"14\": 32}, \"5\": {\"12\": 80, \"8\": 69, \"5\": 76, \"9\": 14, \"14\": 1}, \"6\": {\"6\": 230, \"15\": 9, \"1\": 1}, \"13\": {\"13\": 162, \"3\": 29, \"10\": 42, \"4\": 7}, \"4\": {\"4\": 179, \"3\": 11, \"10\": 45, \"13\": 3, \"7\": 1, \"0\": 1}, \"3\": {\"10\": 48, \"3\": 90, \"13\": 72, \"4\": 27, \"11\": 3}, \"0\": {\"0\": 222, \"7\": 18}, \"9\": {\"9\": 212, \"5\": 22, \"8\": 3, \"12\": 3}, \"12\": {\"12\": 152, \"5\": 77, \"8\": 6, \"9\": 3, \"2\": 2}, \"8\": {\"8\": 208, \"5\": 13, \"9\": 6, \"7\": 4, \"14\": 3, \"12\": 4, \"0\": 2}, \"14\": {\"14\": 117, \"12\": 9, \"7\": 20, \"2\": 73, \"4\": 9, \"8\": 5, \"13\": 4, \"10\": 1, \"5\": 2}, \"15\": {\"15\": 113, \"6\": 70, \"1\": 55, \"5\": 2}, \"11\": {\"11\": 240}, \"10\": {\"4\": 49, \"10\": 135, \"13\": 18, \"3\": 38}, \"1\": {\"1\": 211, \"15\": 28, \"6\": 1}}, \"14\": {\"11\": {\"11\": 240}, \"7\": {\"7\": 207, \"6\": 3, \"3\": 5, \"2\": 19, \"14\": 6}, \"6\": {\"6\": 155, \"13\": 82, \"7\": 2, \"3\": 1}, \"12\": {\"9\": 37, \"12\": 88, \"3\": 15, \"8\": 41, \"15\": 29, \"13\": 1, \"0\": 6, \"1\": 7, \"10\": 8, \"6\": 2, \"11\": 6}, \"4\": {\"4\": 219, \"0\": 16, \"2\": 1, \"10\": 2, \"5\": 2}, \"13\": {\"13\": 167, \"6\": 73}, \"8\": {\"8\": 187, \"10\": 46, \"9\": 1, \"0\": 5, \"12\": 1}, \"5\": {\"5\": 125, \"2\": 39, \"14\": 67, \"4\": 3, \"7\": 3, \"10\": 2, \"0\": 1}, \"14\": {\"14\": 78, \"5\": 70, \"2\": 63, \"7\": 16, \"3\": 11, \"10\": 2}, \"3\": {\"3\": 229, \"2\": 4, \"14\": 2, \"7\": 2, \"6\": 3}, \"10\": {\"8\": 64, \"0\": 53, \"10\": 88, \"3\": 20, \"5\": 10, \"4\": 2, \"9\": 1, \"14\": 2}, \"1\": {\"1\": 240}, \"2\": {\"5\": 64, \"2\": 50, \"7\": 51, \"14\": 51, \"3\": 15, \"4\": 6, \"6\": 2, \"10\": 1}, \"15\": {\"15\": 240}, \"9\": {\"9\": 234, \"12\": 6}, \"0\": {\"10\": 35, \"8\": 16, \"0\": 173, \"4\": 15, \"9\": 1}}, \"44\": {\"10\": {\"10\": 226, \"7\": 8, \"6\": 5, \"1\": 1}, \"6\": {\"6\": 221, \"9\": 2, \"7\": 12, \"13\": 3, \"10\": 2}, \"13\": {\"4\": 12, \"13\": 223, \"6\": 5}, \"3\": {\"3\": 217, \"12\": 23}, \"9\": {\"7\": 83, \"9\": 152, \"6\": 5}, \"1\": {\"1\": 204, \"2\": 35, \"3\": 1}, \"5\": {\"14\": 14, \"8\": 34, \"5\": 172, \"15\": 19, \"4\": 1}, \"11\": {\"11\": 240}, \"4\": {\"4\": 207, \"14\": 33}, \"14\": {\"14\": 207, \"5\": 6, \"4\": 27}, \"12\": {\"12\": 210, \"3\": 30}, \"7\": {\"7\": 158, \"9\": 73, \"6\": 8, \"10\": 1}, \"0\": {\"8\": 55, \"0\": 182, \"15\": 1, \"5\": 2}, \"15\": {\"5\": 37, \"15\": 197, \"0\": 4, \"8\": 2}, \"2\": {\"2\": 189, \"1\": 51}, \"8\": {\"8\": 195, \"5\": 17, \"0\": 27, \"15\": 1}}}, \"per_domain_accuracy\": {\"8\": {\"accuracy\": 0.7833333333333333, \"source?\": true}, \"50\": {\"accuracy\": 0.9072916666666667, \"source?\": true}, \"32\": {\"accuracy\": 0.79765625, \"source?\": true}, \"20\": {\"accuracy\": 0.48828125, \"source?\": false}, \"26\": {\"accuracy\": 0.615625, \"source?\": false}, \"38\": {\"accuracy\": 0.7223958333333333, \"source?\": false}, \"14\": {\"accuracy\": 0.7083333333333334, \"source?\": false}, \"44\": {\"accuracy\": 0.8333333333333334, \"source?\": false}}}, \"history\": {\"epoch_indices\": [1, 2, 3, 4, 5, 6, 7, 8], \"train_label_loss\": [1.054278157710556, 0.5605990429601025, 0.3825277332290416, 0.29704836072208035, 0.24147020814633588, 0.1987827536744243, 0.15770763865891949, 0.13025921298433946], \"source_val_label_loss\": [1.6861612796783447, 0.5175446271896362, 0.4806780517101288, 0.4921903610229492, 0.5062695145606995, 0.5165497064590454, 0.5466503500938416, 0.5921649932861328], \"target_val_label_loss\": [1.952318549156189, 1.017183780670166, 1.0104563236236572, 1.0005803108215332, 1.0366389751434326, 1.0814144611358643, 1.1444792747497559, 1.2506996393203735], \"source_val_acc_label\": [0.6894965277777778, 0.8103298611111112, 0.8199652777777777, 0.8294270833333334, 0.8183159722222222, 0.8217013888888889, 0.8176215277777777, 0.8139756944444444], \"target_val_acc_label\": [0.5236458333333334, 0.6491145833333334, 0.6652083333333333, 0.67359375, 0.6638541666666666, 0.6658854166666667, 0.6627083333333333, 0.66125]}, \"dataset_metrics\": {\"source\": {\"train\": {\"n_unique_x\": 67200, \"n_unique_y\": 16, \"n_batch/episode\": 2520}, \"val\": {\"n_unique_x\": 14400, \"n_unique_y\": 16, \"n_batch/episode\": 360}, \"test\": {\"n_unique_x\": 14400, \"n_unique_y\": 16, \"n_batch/episode\": 360}}, \"target\": {\"train\": {\"n_unique_x\": 112000, \"n_unique_y\": 16, \"n_batch/episode\": 4200}, \"val\": {\"n_unique_x\": 24000, \"n_unique_y\": 16, \"n_batch/episode\": 600}, \"test\": {\"n_unique_x\": 24000, \"n_unique_y\": 16, \"n_batch/episode\": 600}}}}'"
      ]
     },
     "execution_count": 20,
     "metadata": {},
     "output_type": "execute_result"
    }
   ],
   "source": [
    "json.dumps(experiment)"
   ]
  }
 ],
 "metadata": {
  "celltoolbar": "Tags",
  "kernelspec": {
   "display_name": "Python 3 (ipykernel)",
   "language": "python",
   "name": "python3"
  },
  "language_info": {
   "codemirror_mode": {
    "name": "ipython",
    "version": 3
   },
   "file_extension": ".py",
   "mimetype": "text/x-python",
   "name": "python",
   "nbconvert_exporter": "python",
   "pygments_lexer": "ipython3",
   "version": "3.8.10"
  },
  "papermill": {
   "default_parameters": {},
   "duration": 628.14126,
   "end_time": "2022-04-01T17:03:27.602925",
   "environment_variables": {},
   "exception": null,
   "input_path": "/mnt/wd500GB/CSC500/csc500-main/csc500-notebooks/templates/ptn_template.ipynb",
   "output_path": "trial.ipynb",
   "parameters": {
    "parameters": {
     "BEST_MODEL_PATH": "./best_model.pth",
     "NUM_LOGS_PER_EPOCH": 10,
     "criteria_for_best": "target_accuracy",
     "dataset_seed": 420,
     "device": "cuda",
     "domains_source": [
      8,
      32,
      50
     ],
     "domains_target": [
      14,
      20,
      26,
      38,
      44
     ],
     "episode_transforms_source": [],
     "episode_transforms_target": [],
     "experiment_name": "tuned_1v2:oracle.run2_limited",
     "labels_source": [
      "3123D52",
      "3123D65",
      "3123D79",
      "3123D80",
      "3123D54",
      "3123D70",
      "3123D7B",
      "3123D89",
      "3123D58",
      "3123D76",
      "3123D7D",
      "3123EFE",
      "3123D64",
      "3123D78",
      "3123D7E",
      "3124E4A"
     ],
     "labels_target": [
      "3123D52",
      "3123D65",
      "3123D79",
      "3123D80",
      "3123D54",
      "3123D70",
      "3123D7B",
      "3123D89",
      "3123D58",
      "3123D76",
      "3123D7D",
      "3123EFE",
      "3123D64",
      "3123D78",
      "3123D7E",
      "3124E4A"
     ],
     "lr": 0.0001,
     "n_epoch": 50,
     "n_query": 2,
     "n_shot": 3,
     "n_way": 16,
     "num_examples_per_domain_per_label_source": 2000,
     "num_examples_per_domain_per_label_target": 2000,
     "patience": 3,
     "pickle_name": "oracle.Run2_10kExamples_stratified_ds.2022A.pkl",
     "seed": 420,
     "test_k_factor": 2,
     "torch_default_dtype": "torch.float32",
     "train_k_factor": 3,
     "val_k_factor": 2,
     "x_net": [
      {
       "class": "nnReshape",
       "kargs": {
        "shape": [
         -1,
         1,
         2,
         256
        ]
       }
      },
      {
       "class": "Conv2d",
       "kargs": {
        "bias": false,
        "in_channels": 1,
        "kernel_size": [
         1,
         7
        ],
        "out_channels": 256,
        "padding": [
         0,
         3
        ]
       }
      },
      {
       "class": "ReLU",
       "kargs": {
        "inplace": true
       }
      },
      {
       "class": "BatchNorm2d",
       "kargs": {
        "num_features": 256
       }
      },
      {
       "class": "Conv2d",
       "kargs": {
        "bias": true,
        "in_channels": 256,
        "kernel_size": [
         2,
         7
        ],
        "out_channels": 80,
        "padding": [
         0,
         3
        ]
       }
      },
      {
       "class": "ReLU",
       "kargs": {
        "inplace": true
       }
      },
      {
       "class": "BatchNorm2d",
       "kargs": {
        "num_features": 80
       }
      },
      {
       "class": "Flatten",
       "kargs": {}
      },
      {
       "class": "Linear",
       "kargs": {
        "in_features": 20480,
        "out_features": 256
       }
      },
      {
       "class": "ReLU",
       "kargs": {
        "inplace": true
       }
      },
      {
       "class": "BatchNorm1d",
       "kargs": {
        "num_features": 256
       }
      },
      {
       "class": "Linear",
       "kargs": {
        "in_features": 256,
        "out_features": 256
       }
      }
     ],
     "x_transforms_source": [],
     "x_transforms_target": []
    }
   },
   "start_time": "2022-04-01T16:52:59.461665",
   "version": "2.3.4"
  }
 },
 "nbformat": 4,
 "nbformat_minor": 5
}