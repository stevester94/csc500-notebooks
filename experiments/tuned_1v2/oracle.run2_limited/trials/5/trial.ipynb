{
 "cells": [
  {
   "cell_type": "markdown",
   "id": "9fea5f46",
   "metadata": {
    "papermill": {
     "duration": 0.02775,
     "end_time": "2022-03-26T14:25:08.063607",
     "exception": false,
     "start_time": "2022-03-26T14:25:08.035857",
     "status": "completed"
    },
    "tags": []
   },
   "source": [
    "# PTN Template\n",
    "This notebook serves as a template for single dataset PTN experiments  \n",
    "It can be run on its own by setting STANDALONE to True (do a find for \"STANDALONE\" to see where)  \n",
    "But it is intended to be executed as part of a *papermill.py script. See any of the   \n",
    "experimentes with a papermill script to get started with that workflow.  "
   ]
  },
  {
   "cell_type": "code",
   "execution_count": 1,
   "id": "0902182a",
   "metadata": {
    "execution": {
     "iopub.execute_input": "2022-03-26T14:25:08.113303Z",
     "iopub.status.busy": "2022-03-26T14:25:08.102446Z",
     "iopub.status.idle": "2022-03-26T14:25:09.921453Z",
     "shell.execute_reply": "2022-03-26T14:25:09.920992Z"
    },
    "papermill": {
     "duration": 1.839991,
     "end_time": "2022-03-26T14:25:09.921563",
     "exception": false,
     "start_time": "2022-03-26T14:25:08.081572",
     "status": "completed"
    },
    "tags": []
   },
   "outputs": [],
   "source": [
    "%load_ext autoreload\n",
    "%autoreload 2\n",
    "%matplotlib inline\n",
    "\n",
    "    \n",
    "import os, json, sys, time, random\n",
    "import numpy as np\n",
    "import torch\n",
    "from torch.optim import Adam\n",
    "from  easydict import EasyDict\n",
    "import matplotlib.pyplot as plt\n",
    "\n",
    "from steves_models.steves_ptn import Steves_Prototypical_Network\n",
    "\n",
    "from steves_utils.lazy_iterable_wrapper import Lazy_Iterable_Wrapper\n",
    "from steves_utils.iterable_aggregator import Iterable_Aggregator\n",
    "from steves_utils.ptn_train_eval_test_jig import  PTN_Train_Eval_Test_Jig\n",
    "from steves_utils.torch_sequential_builder import build_sequential\n",
    "from steves_utils.torch_utils import get_dataset_metrics, ptn_confusion_by_domain_over_dataloader\n",
    "from steves_utils.utils_v2 import (per_domain_accuracy_from_confusion, get_datasets_base_path)\n",
    "from steves_utils.PTN.utils import independent_accuracy_assesment\n",
    "\n",
    "from steves_utils.stratified_dataset.episodic_accessor import Episodic_Accessor_Factory\n",
    "\n",
    "from steves_utils.ptn_do_report import (\n",
    "    get_loss_curve,\n",
    "    get_results_table,\n",
    "    get_parameters_table,\n",
    "    get_domain_accuracies,\n",
    ")\n",
    "\n",
    "from steves_utils.transforms import get_chained_transform"
   ]
  },
  {
   "cell_type": "markdown",
   "id": "41c840b4",
   "metadata": {
    "papermill": {
     "duration": 0.013819,
     "end_time": "2022-03-26T14:25:09.950229",
     "exception": false,
     "start_time": "2022-03-26T14:25:09.936410",
     "status": "completed"
    },
    "tags": []
   },
   "source": [
    "# Required Parameters\n",
    "These are allowed parameters, not defaults\n",
    "Each of these values need to be present in the injected parameters (the notebook will raise an exception if they are not present)\n",
    "\n",
    "Papermill uses the cell tag \"parameters\" to inject the real parameters below this cell.\n",
    "Enable tags to see what I mean"
   ]
  },
  {
   "cell_type": "code",
   "execution_count": 2,
   "id": "fd44eb83",
   "metadata": {
    "execution": {
     "iopub.execute_input": "2022-03-26T14:25:09.982206Z",
     "iopub.status.busy": "2022-03-26T14:25:09.981813Z",
     "iopub.status.idle": "2022-03-26T14:25:10.001935Z",
     "shell.execute_reply": "2022-03-26T14:25:10.001116Z"
    },
    "papermill": {
     "duration": 0.038055,
     "end_time": "2022-03-26T14:25:10.002094",
     "exception": false,
     "start_time": "2022-03-26T14:25:09.964039",
     "status": "completed"
    },
    "tags": []
   },
   "outputs": [],
   "source": [
    "required_parameters = {\n",
    "    \"experiment_name\",\n",
    "    \"lr\",\n",
    "    \"device\",\n",
    "    \"seed\",\n",
    "    \"dataset_seed\",\n",
    "    \"labels_source\",\n",
    "    \"labels_target\",\n",
    "    \"domains_source\",\n",
    "    \"domains_target\",\n",
    "    \"num_examples_per_domain_per_label_source\",\n",
    "    \"num_examples_per_domain_per_label_target\",\n",
    "    \"n_shot\",\n",
    "    \"n_way\",\n",
    "    \"n_query\",\n",
    "    \"train_k_factor\",\n",
    "    \"val_k_factor\",\n",
    "    \"test_k_factor\",\n",
    "    \"n_epoch\",\n",
    "    \"patience\",\n",
    "    \"criteria_for_best\",\n",
    "    \"x_transforms_source\",\n",
    "    \"x_transforms_target\",\n",
    "    \"episode_transforms_source\",\n",
    "    \"episode_transforms_target\",\n",
    "    \"pickle_name\",\n",
    "    \"x_net\",\n",
    "    \"NUM_LOGS_PER_EPOCH\",\n",
    "    \"BEST_MODEL_PATH\",\n",
    "    \"torch_default_dtype\"\n",
    "}"
   ]
  },
  {
   "cell_type": "code",
   "execution_count": 3,
   "id": "fa3f0049",
   "metadata": {
    "execution": {
     "iopub.execute_input": "2022-03-26T14:25:10.045460Z",
     "iopub.status.busy": "2022-03-26T14:25:10.044743Z",
     "iopub.status.idle": "2022-03-26T14:25:10.067082Z",
     "shell.execute_reply": "2022-03-26T14:25:10.066250Z"
    },
    "papermill": {
     "duration": 0.045785,
     "end_time": "2022-03-26T14:25:10.067232",
     "exception": false,
     "start_time": "2022-03-26T14:25:10.021447",
     "status": "completed"
    },
    "tags": [
     "parameters"
    ]
   },
   "outputs": [],
   "source": [
    "\n",
    "\n",
    "standalone_parameters = {}\n",
    "standalone_parameters[\"experiment_name\"] = \"STANDALONE PTN\"\n",
    "standalone_parameters[\"lr\"] = 0.0001\n",
    "standalone_parameters[\"device\"] = \"cuda\"\n",
    "\n",
    "standalone_parameters[\"seed\"] = 1337\n",
    "standalone_parameters[\"dataset_seed\"] = 1337\n",
    "\n",
    "\n",
    "standalone_parameters[\"num_examples_per_domain_per_label_source\"]=100\n",
    "standalone_parameters[\"num_examples_per_domain_per_label_target\"]=100\n",
    "\n",
    "standalone_parameters[\"n_shot\"] = 3\n",
    "standalone_parameters[\"n_query\"]  = 2\n",
    "standalone_parameters[\"train_k_factor\"] = 1\n",
    "standalone_parameters[\"val_k_factor\"] = 2\n",
    "standalone_parameters[\"test_k_factor\"] = 2\n",
    "\n",
    "\n",
    "standalone_parameters[\"n_epoch\"] = 100\n",
    "\n",
    "standalone_parameters[\"patience\"] = 10\n",
    "standalone_parameters[\"criteria_for_best\"] = \"target_accuracy\"\n",
    "\n",
    "standalone_parameters[\"x_transforms_source\"] = [\"unit_power\"]\n",
    "standalone_parameters[\"x_transforms_target\"] = [\"unit_power\"]\n",
    "standalone_parameters[\"episode_transforms_source\"] = []\n",
    "standalone_parameters[\"episode_transforms_target\"] = []\n",
    "\n",
    "standalone_parameters[\"torch_default_dtype\"] = \"torch.float32\" \n",
    "\n",
    "\n",
    "\n",
    "standalone_parameters[\"x_net\"] =     [\n",
    "    {\"class\": \"nnReshape\", \"kargs\": {\"shape\":[-1, 1, 2, 256]}},\n",
    "    {\"class\": \"Conv2d\", \"kargs\": { \"in_channels\":1, \"out_channels\":256, \"kernel_size\":(1,7), \"bias\":False, \"padding\":(0,3), },},\n",
    "    {\"class\": \"ReLU\", \"kargs\": {\"inplace\": True}},\n",
    "    {\"class\": \"BatchNorm2d\", \"kargs\": {\"num_features\":256}},\n",
    "\n",
    "    {\"class\": \"Conv2d\", \"kargs\": { \"in_channels\":256, \"out_channels\":80, \"kernel_size\":(2,7), \"bias\":True, \"padding\":(0,3), },},\n",
    "    {\"class\": \"ReLU\", \"kargs\": {\"inplace\": True}},\n",
    "    {\"class\": \"BatchNorm2d\", \"kargs\": {\"num_features\":80}},\n",
    "    {\"class\": \"Flatten\", \"kargs\": {}},\n",
    "\n",
    "    {\"class\": \"Linear\", \"kargs\": {\"in_features\": 80*256, \"out_features\": 256}}, # 80 units per IQ pair\n",
    "    {\"class\": \"ReLU\", \"kargs\": {\"inplace\": True}},\n",
    "    {\"class\": \"BatchNorm1d\", \"kargs\": {\"num_features\":256}},\n",
    "\n",
    "    {\"class\": \"Linear\", \"kargs\": {\"in_features\": 256, \"out_features\": 256}},\n",
    "]\n",
    "\n",
    "# Parameters relevant to results\n",
    "# These parameters will basically never need to change\n",
    "standalone_parameters[\"NUM_LOGS_PER_EPOCH\"] = 10\n",
    "standalone_parameters[\"BEST_MODEL_PATH\"] = \"./best_model.pth\"\n",
    "\n",
    "# uncomment for CORES dataset\n",
    "from steves_utils.CORES.utils import (\n",
    "    ALL_NODES,\n",
    "    ALL_NODES_MINIMUM_1000_EXAMPLES,\n",
    "    ALL_DAYS\n",
    ")\n",
    "\n",
    "\n",
    "standalone_parameters[\"labels_source\"] = ALL_NODES\n",
    "standalone_parameters[\"labels_target\"] = ALL_NODES\n",
    "\n",
    "standalone_parameters[\"domains_source\"] = [1]\n",
    "standalone_parameters[\"domains_target\"] = [2,3,4,5]\n",
    "\n",
    "standalone_parameters[\"pickle_name\"] = \"cores.stratified_ds.2022A.pkl\"\n",
    "\n",
    "\n",
    "# Uncomment these for ORACLE dataset\n",
    "# from steves_utils.ORACLE.utils_v2 import (\n",
    "#     ALL_DISTANCES_FEET,\n",
    "#     ALL_RUNS,\n",
    "#     ALL_SERIAL_NUMBERS,\n",
    "# )\n",
    "# standalone_parameters[\"labels_source\"] = ALL_SERIAL_NUMBERS\n",
    "# standalone_parameters[\"labels_target\"] = ALL_SERIAL_NUMBERS\n",
    "# standalone_parameters[\"domains_source\"] = [8,20, 38,50]\n",
    "# standalone_parameters[\"domains_target\"] = [14, 26, 32, 44, 56]\n",
    "# standalone_parameters[\"pickle_name\"] = \"oracle.frame_indexed.stratified_ds.2022A.pkl\"\n",
    "# standalone_parameters[\"num_examples_per_domain_per_label_source\"]=1000\n",
    "# standalone_parameters[\"num_examples_per_domain_per_label_target\"]=1000\n",
    "\n",
    "# Uncomment these for Metahan dataset\n",
    "# standalone_parameters[\"labels_source\"] = list(range(19))\n",
    "# standalone_parameters[\"labels_target\"] = list(range(19))\n",
    "# standalone_parameters[\"domains_source\"] = [0]\n",
    "# standalone_parameters[\"domains_target\"] = [1]\n",
    "# standalone_parameters[\"pickle_name\"] = \"metehan.stratified_ds.2022A.pkl\"\n",
    "# standalone_parameters[\"n_way\"]  = len(standalone_parameters[\"labels_source\"])\n",
    "# standalone_parameters[\"num_examples_per_domain_per_label_source\"]=200\n",
    "# standalone_parameters[\"num_examples_per_domain_per_label_target\"]=100\n",
    "\n",
    "\n",
    "standalone_parameters[\"n_way\"]  = len(standalone_parameters[\"labels_source\"])"
   ]
  },
  {
   "cell_type": "code",
   "execution_count": 4,
   "id": "62cda8b5",
   "metadata": {
    "execution": {
     "iopub.execute_input": "2022-03-26T14:25:10.110137Z",
     "iopub.status.busy": "2022-03-26T14:25:10.109721Z",
     "iopub.status.idle": "2022-03-26T14:25:10.130595Z",
     "shell.execute_reply": "2022-03-26T14:25:10.129806Z"
    },
    "papermill": {
     "duration": 0.042455,
     "end_time": "2022-03-26T14:25:10.130766",
     "exception": false,
     "start_time": "2022-03-26T14:25:10.088311",
     "status": "completed"
    },
    "tags": [
     "injected-parameters"
    ]
   },
   "outputs": [],
   "source": [
    "# Parameters\n",
    "parameters = {\n",
    "    \"experiment_name\": \"tuned_1v2:oracle.run2_limited\",\n",
    "    \"device\": \"cuda\",\n",
    "    \"lr\": 0.0001,\n",
    "    \"labels_source\": [\n",
    "        \"3123D52\",\n",
    "        \"3123D65\",\n",
    "        \"3123D79\",\n",
    "        \"3123D80\",\n",
    "        \"3123D54\",\n",
    "        \"3123D70\",\n",
    "        \"3123D7B\",\n",
    "        \"3123D89\",\n",
    "        \"3123D58\",\n",
    "        \"3123D76\",\n",
    "        \"3123D7D\",\n",
    "        \"3123EFE\",\n",
    "        \"3123D64\",\n",
    "        \"3123D78\",\n",
    "        \"3123D7E\",\n",
    "        \"3124E4A\",\n",
    "    ],\n",
    "    \"labels_target\": [\n",
    "        \"3123D52\",\n",
    "        \"3123D65\",\n",
    "        \"3123D79\",\n",
    "        \"3123D80\",\n",
    "        \"3123D54\",\n",
    "        \"3123D70\",\n",
    "        \"3123D7B\",\n",
    "        \"3123D89\",\n",
    "        \"3123D58\",\n",
    "        \"3123D76\",\n",
    "        \"3123D7D\",\n",
    "        \"3123EFE\",\n",
    "        \"3123D64\",\n",
    "        \"3123D78\",\n",
    "        \"3123D7E\",\n",
    "        \"3124E4A\",\n",
    "    ],\n",
    "    \"episode_transforms_source\": [],\n",
    "    \"episode_transforms_target\": [],\n",
    "    \"domains_source\": [8, 32, 50],\n",
    "    \"domains_target\": [14, 20, 26, 38, 44],\n",
    "    \"num_examples_per_domain_per_label_source\": -1,\n",
    "    \"num_examples_per_domain_per_label_target\": -1,\n",
    "    \"n_shot\": 3,\n",
    "    \"n_way\": 16,\n",
    "    \"n_query\": 2,\n",
    "    \"train_k_factor\": 3,\n",
    "    \"val_k_factor\": 2,\n",
    "    \"test_k_factor\": 2,\n",
    "    \"torch_default_dtype\": \"torch.float32\",\n",
    "    \"n_epoch\": 50,\n",
    "    \"patience\": 3,\n",
    "    \"criteria_for_best\": \"target_accuracy\",\n",
    "    \"x_net\": [\n",
    "        {\"class\": \"nnReshape\", \"kargs\": {\"shape\": [-1, 1, 2, 256]}},\n",
    "        {\n",
    "            \"class\": \"Conv2d\",\n",
    "            \"kargs\": {\n",
    "                \"in_channels\": 1,\n",
    "                \"out_channels\": 256,\n",
    "                \"kernel_size\": [1, 7],\n",
    "                \"bias\": False,\n",
    "                \"padding\": [0, 3],\n",
    "            },\n",
    "        },\n",
    "        {\"class\": \"ReLU\", \"kargs\": {\"inplace\": True}},\n",
    "        {\"class\": \"BatchNorm2d\", \"kargs\": {\"num_features\": 256}},\n",
    "        {\n",
    "            \"class\": \"Conv2d\",\n",
    "            \"kargs\": {\n",
    "                \"in_channels\": 256,\n",
    "                \"out_channels\": 80,\n",
    "                \"kernel_size\": [2, 7],\n",
    "                \"bias\": True,\n",
    "                \"padding\": [0, 3],\n",
    "            },\n",
    "        },\n",
    "        {\"class\": \"ReLU\", \"kargs\": {\"inplace\": True}},\n",
    "        {\"class\": \"BatchNorm2d\", \"kargs\": {\"num_features\": 80}},\n",
    "        {\"class\": \"Flatten\", \"kargs\": {}},\n",
    "        {\"class\": \"Linear\", \"kargs\": {\"in_features\": 20480, \"out_features\": 256}},\n",
    "        {\"class\": \"ReLU\", \"kargs\": {\"inplace\": True}},\n",
    "        {\"class\": \"BatchNorm1d\", \"kargs\": {\"num_features\": 256}},\n",
    "        {\"class\": \"Linear\", \"kargs\": {\"in_features\": 256, \"out_features\": 256}},\n",
    "    ],\n",
    "    \"NUM_LOGS_PER_EPOCH\": 10,\n",
    "    \"BEST_MODEL_PATH\": \"./best_model.pth\",\n",
    "    \"pickle_name\": \"oracle.Run2_10kExamples_stratified_ds.2022A.pkl\",\n",
    "    \"x_transforms_source\": [\"unit_mag\"],\n",
    "    \"x_transforms_target\": [\"unit_mag\"],\n",
    "    \"dataset_seed\": 154325,\n",
    "    \"seed\": 154325,\n",
    "}\n"
   ]
  },
  {
   "cell_type": "code",
   "execution_count": 5,
   "id": "8fa1cc33",
   "metadata": {
    "execution": {
     "iopub.execute_input": "2022-03-26T14:25:10.169011Z",
     "iopub.status.busy": "2022-03-26T14:25:10.168627Z",
     "iopub.status.idle": "2022-03-26T14:25:10.189439Z",
     "shell.execute_reply": "2022-03-26T14:25:10.188720Z"
    },
    "papermill": {
     "duration": 0.039118,
     "end_time": "2022-03-26T14:25:10.189594",
     "exception": false,
     "start_time": "2022-03-26T14:25:10.150476",
     "status": "completed"
    },
    "tags": []
   },
   "outputs": [],
   "source": [
    "# Set this to True if you want to run this template directly\n",
    "STANDALONE = False\n",
    "if STANDALONE:\n",
    "    print(\"parameters not injected, running with standalone_parameters\")\n",
    "    parameters = standalone_parameters\n",
    "\n",
    "if not 'parameters' in locals() and not 'parameters' in globals():\n",
    "    raise Exception(\"Parameter injection failed\")\n",
    "\n",
    "#Use an easy dict for all the parameters\n",
    "p = EasyDict(parameters)\n",
    "\n",
    "supplied_keys = set(p.keys())\n",
    "\n",
    "if  supplied_keys != required_parameters:\n",
    "    print(\"Parameters are incorrect\")\n",
    "    if len(supplied_keys - required_parameters)>0: print(\"Shouldn't have:\", str(supplied_keys - required_parameters))\n",
    "    if len(required_parameters - supplied_keys)>0: print(\"Need to have:\", str(required_parameters - supplied_keys))\n",
    "    raise RuntimeError(\"Parameters are incorrect\")\n",
    "\n"
   ]
  },
  {
   "cell_type": "code",
   "execution_count": 6,
   "id": "3a028d58",
   "metadata": {
    "execution": {
     "iopub.execute_input": "2022-03-26T14:25:10.228104Z",
     "iopub.status.busy": "2022-03-26T14:25:10.227225Z",
     "iopub.status.idle": "2022-03-26T14:25:10.246972Z",
     "shell.execute_reply": "2022-03-26T14:25:10.246223Z"
    },
    "papermill": {
     "duration": 0.03748,
     "end_time": "2022-03-26T14:25:10.247143",
     "exception": false,
     "start_time": "2022-03-26T14:25:10.209663",
     "status": "completed"
    },
    "tags": []
   },
   "outputs": [],
   "source": [
    "###################################\n",
    "# Set the RNGs and make it all deterministic\n",
    "###################################\n",
    "np.random.seed(p.seed)\n",
    "random.seed(p.seed)\n",
    "torch.manual_seed(p.seed)\n",
    "\n",
    "torch.use_deterministic_algorithms(True) "
   ]
  },
  {
   "cell_type": "code",
   "execution_count": 7,
   "id": "b691acf6",
   "metadata": {
    "execution": {
     "iopub.execute_input": "2022-03-26T14:25:10.286295Z",
     "iopub.status.busy": "2022-03-26T14:25:10.285912Z",
     "iopub.status.idle": "2022-03-26T14:25:10.305390Z",
     "shell.execute_reply": "2022-03-26T14:25:10.304561Z"
    },
    "papermill": {
     "duration": 0.036363,
     "end_time": "2022-03-26T14:25:10.305548",
     "exception": false,
     "start_time": "2022-03-26T14:25:10.269185",
     "status": "completed"
    },
    "tags": []
   },
   "outputs": [],
   "source": [
    "###########################################\n",
    "# The stratified datasets honor this\n",
    "###########################################\n",
    "torch.set_default_dtype(eval(p.torch_default_dtype))"
   ]
  },
  {
   "cell_type": "code",
   "execution_count": 8,
   "id": "b5fba671",
   "metadata": {
    "execution": {
     "iopub.execute_input": "2022-03-26T14:25:10.344090Z",
     "iopub.status.busy": "2022-03-26T14:25:10.343712Z",
     "iopub.status.idle": "2022-03-26T14:25:10.396244Z",
     "shell.execute_reply": "2022-03-26T14:25:10.395389Z"
    },
    "papermill": {
     "duration": 0.070487,
     "end_time": "2022-03-26T14:25:10.396400",
     "exception": false,
     "start_time": "2022-03-26T14:25:10.325913",
     "status": "completed"
    },
    "tags": []
   },
   "outputs": [],
   "source": [
    "###################################\n",
    "# Build the network(s)\n",
    "# Note: It's critical to do this AFTER setting the RNG\n",
    "# (This is due to the randomized initial weights)\n",
    "###################################\n",
    "x_net = build_sequential(p.x_net)"
   ]
  },
  {
   "cell_type": "code",
   "execution_count": 9,
   "id": "5d7e61cc",
   "metadata": {
    "execution": {
     "iopub.execute_input": "2022-03-26T14:25:10.437971Z",
     "iopub.status.busy": "2022-03-26T14:25:10.436361Z",
     "iopub.status.idle": "2022-03-26T14:25:10.462124Z",
     "shell.execute_reply": "2022-03-26T14:25:10.461298Z"
    },
    "papermill": {
     "duration": 0.042708,
     "end_time": "2022-03-26T14:25:10.462280",
     "exception": false,
     "start_time": "2022-03-26T14:25:10.419572",
     "status": "completed"
    },
    "tags": []
   },
   "outputs": [],
   "source": [
    "start_time_secs = time.time()"
   ]
  },
  {
   "cell_type": "code",
   "execution_count": 10,
   "id": "fd5442bc",
   "metadata": {
    "execution": {
     "iopub.execute_input": "2022-03-26T14:25:10.512538Z",
     "iopub.status.busy": "2022-03-26T14:25:10.511218Z",
     "iopub.status.idle": "2022-03-26T14:26:58.924225Z",
     "shell.execute_reply": "2022-03-26T14:26:58.923461Z"
    },
    "papermill": {
     "duration": 108.439561,
     "end_time": "2022-03-26T14:26:58.924407",
     "exception": false,
     "start_time": "2022-03-26T14:25:10.484846",
     "status": "completed"
    },
    "tags": []
   },
   "outputs": [],
   "source": [
    "###################################\n",
    "# Build the dataset\n",
    "###################################\n",
    "\n",
    "if p.x_transforms_source == []: x_transform_source = None\n",
    "else: x_transform_source = get_chained_transform(p.x_transforms_source) \n",
    "\n",
    "if p.x_transforms_target == []: x_transform_target = None\n",
    "else: x_transform_target = get_chained_transform(p.x_transforms_target)\n",
    "\n",
    "if p.episode_transforms_source == []: episode_transform_source = None\n",
    "else: raise Exception(\"episode_transform_source not implemented\")\n",
    "\n",
    "if p.episode_transforms_target == []: episode_transform_target = None\n",
    "else: raise Exception(\"episode_transform_target not implemented\")\n",
    "\n",
    "\n",
    "eaf_source = Episodic_Accessor_Factory(\n",
    "    labels=p.labels_source,\n",
    "    domains=p.domains_source,\n",
    "    num_examples_per_domain_per_label=p.num_examples_per_domain_per_label_source,\n",
    "    iterator_seed=p.seed,\n",
    "    dataset_seed=p.dataset_seed,\n",
    "    n_shot=p.n_shot,\n",
    "    n_way=p.n_way,\n",
    "    n_query=p.n_query,\n",
    "    train_val_test_k_factors=(p.train_k_factor,p.val_k_factor,p.test_k_factor),\n",
    "    pickle_path=os.path.join(get_datasets_base_path(), p.pickle_name),\n",
    "    x_transform_func=x_transform_source,\n",
    "    example_transform_func=episode_transform_source,\n",
    "    \n",
    ")\n",
    "train_original_source, val_original_source, test_original_source = eaf_source.get_train(), eaf_source.get_val(), eaf_source.get_test()\n",
    "\n",
    "\n",
    "eaf_target = Episodic_Accessor_Factory(\n",
    "    labels=p.labels_target,\n",
    "    domains=p.domains_target,\n",
    "    num_examples_per_domain_per_label=p.num_examples_per_domain_per_label_target,\n",
    "    iterator_seed=p.seed,\n",
    "    dataset_seed=p.dataset_seed,\n",
    "    n_shot=p.n_shot,\n",
    "    n_way=p.n_way,\n",
    "    n_query=p.n_query,\n",
    "    train_val_test_k_factors=(p.train_k_factor,p.val_k_factor,p.test_k_factor),\n",
    "    pickle_path=os.path.join(get_datasets_base_path(), p.pickle_name),\n",
    "    x_transform_func=x_transform_target,\n",
    "    example_transform_func=episode_transform_target,\n",
    ")\n",
    "train_original_target, val_original_target, test_original_target = eaf_target.get_train(), eaf_target.get_val(), eaf_target.get_test()\n",
    "\n",
    "\n",
    "transform_lambda = lambda ex: ex[1] # Original is (<domain>, <episode>) so we strip down to episode only\n",
    "\n",
    "train_processed_source = Lazy_Iterable_Wrapper(train_original_source, transform_lambda)\n",
    "val_processed_source   = Lazy_Iterable_Wrapper(val_original_source, transform_lambda)\n",
    "test_processed_source  = Lazy_Iterable_Wrapper(test_original_source, transform_lambda)\n",
    "\n",
    "train_processed_target = Lazy_Iterable_Wrapper(train_original_target, transform_lambda)\n",
    "val_processed_target   = Lazy_Iterable_Wrapper(val_original_target, transform_lambda)\n",
    "test_processed_target  = Lazy_Iterable_Wrapper(test_original_target, transform_lambda)\n",
    "\n",
    "datasets = EasyDict({\n",
    "    \"source\": {\n",
    "        \"original\": {\"train\":train_original_source, \"val\":val_original_source, \"test\":test_original_source},\n",
    "        \"processed\": {\"train\":train_processed_source, \"val\":val_processed_source, \"test\":test_processed_source}\n",
    "    },\n",
    "    \"target\": {\n",
    "        \"original\": {\"train\":train_original_target, \"val\":val_original_target, \"test\":test_original_target},\n",
    "        \"processed\": {\"train\":train_processed_target, \"val\":val_processed_target, \"test\":test_processed_target}\n",
    "    },\n",
    "})"
   ]
  },
  {
   "cell_type": "code",
   "execution_count": 11,
   "id": "296189d9",
   "metadata": {
    "execution": {
     "iopub.execute_input": "2022-03-26T14:26:58.965334Z",
     "iopub.status.busy": "2022-03-26T14:26:58.964949Z",
     "iopub.status.idle": "2022-03-26T14:27:05.006021Z",
     "shell.execute_reply": "2022-03-26T14:27:05.005612Z"
    },
    "papermill": {
     "duration": 6.061762,
     "end_time": "2022-03-26T14:27:05.006113",
     "exception": false,
     "start_time": "2022-03-26T14:26:58.944351",
     "status": "completed"
    },
    "tags": []
   },
   "outputs": [
    {
     "name": "stdout",
     "output_type": "stream",
     "text": [
      "Visually inspect these to see if they line up with expected values given the transforms\n",
      "x_transforms_source ['unit_mag']\n",
      "x_transforms_target ['unit_mag']\n",
      "Average magnitude, source: 1.0\n",
      "Average power, source: 1.2865458\n"
     ]
    },
    {
     "name": "stdout",
     "output_type": "stream",
     "text": [
      "Average magnitude, target: 1.0\n",
      "Average power, target: 1.2938029\n"
     ]
    }
   ],
   "source": [
    "# Some quick unit tests on the data\n",
    "from steves_utils.transforms import get_average_power, get_average_magnitude\n",
    "\n",
    "q_x, q_y, s_x, s_y, truth = next(iter(train_processed_source))\n",
    "\n",
    "assert q_x.dtype == eval(p.torch_default_dtype)\n",
    "assert s_x.dtype == eval(p.torch_default_dtype)\n",
    "\n",
    "print(\"Visually inspect these to see if they line up with expected values given the transforms\")\n",
    "print('x_transforms_source', p.x_transforms_source)\n",
    "print('x_transforms_target', p.x_transforms_target)\n",
    "print(\"Average magnitude, source:\", get_average_magnitude(q_x[0].numpy()))\n",
    "print(\"Average power, source:\", get_average_power(q_x[0].numpy()))\n",
    "\n",
    "q_x, q_y, s_x, s_y, truth = next(iter(train_processed_target))\n",
    "print(\"Average magnitude, target:\", get_average_magnitude(q_x[0].numpy()))\n",
    "print(\"Average power, target:\", get_average_power(q_x[0].numpy()))\n"
   ]
  },
  {
   "cell_type": "code",
   "execution_count": 12,
   "id": "bbdacba1",
   "metadata": {
    "execution": {
     "iopub.execute_input": "2022-03-26T14:27:05.043750Z",
     "iopub.status.busy": "2022-03-26T14:27:05.043342Z",
     "iopub.status.idle": "2022-03-26T14:27:05.273468Z",
     "shell.execute_reply": "2022-03-26T14:27:05.273082Z"
    },
    "papermill": {
     "duration": 0.251107,
     "end_time": "2022-03-26T14:27:05.273582",
     "exception": false,
     "start_time": "2022-03-26T14:27:05.022475",
     "status": "completed"
    },
    "tags": []
   },
   "outputs": [
    {
     "name": "stdout",
     "output_type": "stream",
     "text": [
      "(2, 256)\n"
     ]
    }
   ],
   "source": [
    "###################################\n",
    "# Build the model\n",
    "###################################\n",
    "model = Steves_Prototypical_Network(x_net, device=p.device, x_shape=(2,256))\n",
    "optimizer = Adam(params=model.parameters(), lr=p.lr)"
   ]
  },
  {
   "cell_type": "code",
   "execution_count": 13,
   "id": "22b39ac5",
   "metadata": {
    "execution": {
     "iopub.execute_input": "2022-03-26T14:27:05.311684Z",
     "iopub.status.busy": "2022-03-26T14:27:05.311266Z",
     "iopub.status.idle": "2022-03-26T15:39:13.757921Z",
     "shell.execute_reply": "2022-03-26T15:39:13.757569Z"
    },
    "papermill": {
     "duration": 4328.467678,
     "end_time": "2022-03-26T15:39:13.758010",
     "exception": false,
     "start_time": "2022-03-26T14:27:05.290332",
     "status": "completed"
    },
    "tags": []
   },
   "outputs": [
    {
     "name": "stdout",
     "output_type": "stream",
     "text": [
      "epoch: 1, [batch: 1 / 12600], examples_per_second: 17.6718, train_label_loss: 2.7993, \n"
     ]
    },
    {
     "name": "stdout",
     "output_type": "stream",
     "text": [
      "epoch: 1, [batch: 1260 / 12600], examples_per_second: 3860.8429, train_label_loss: 1.4405, \n"
     ]
    },
    {
     "name": "stdout",
     "output_type": "stream",
     "text": [
      "epoch: 1, [batch: 2520 / 12600], examples_per_second: 4442.6559, train_label_loss: 1.1761, \n"
     ]
    },
    {
     "name": "stdout",
     "output_type": "stream",
     "text": [
      "epoch: 1, [batch: 3780 / 12600], examples_per_second: 4023.5015, train_label_loss: 1.1902, \n"
     ]
    },
    {
     "name": "stdout",
     "output_type": "stream",
     "text": [
      "epoch: 1, [batch: 5040 / 12600], examples_per_second: 4010.7538, train_label_loss: 1.1543, \n"
     ]
    },
    {
     "name": "stdout",
     "output_type": "stream",
     "text": [
      "epoch: 1, [batch: 6300 / 12600], examples_per_second: 4207.1905, train_label_loss: 1.4741, \n"
     ]
    },
    {
     "name": "stdout",
     "output_type": "stream",
     "text": [
      "epoch: 1, [batch: 7560 / 12600], examples_per_second: 3861.1411, train_label_loss: 1.2875, \n"
     ]
    },
    {
     "name": "stdout",
     "output_type": "stream",
     "text": [
      "epoch: 1, [batch: 8820 / 12600], examples_per_second: 4030.0506, train_label_loss: 1.0816, \n"
     ]
    },
    {
     "name": "stdout",
     "output_type": "stream",
     "text": [
      "epoch: 1, [batch: 10080 / 12600], examples_per_second: 3872.7736, train_label_loss: 1.2647, \n"
     ]
    },
    {
     "name": "stdout",
     "output_type": "stream",
     "text": [
      "epoch: 1, [batch: 11340 / 12600], examples_per_second: 3931.5356, train_label_loss: 0.8255, \n"
     ]
    },
    {
     "name": "stdout",
     "output_type": "stream",
     "text": [
      "=============================================================\n",
      "epoch: 1, source_val_acc_label: 0.6181, target_val_acc_label: 0.5022, source_val_label_loss: 1.0183, target_val_label_loss: 1.4592, \n",
      "=============================================================\n"
     ]
    },
    {
     "name": "stdout",
     "output_type": "stream",
     "text": [
      "New best\n"
     ]
    },
    {
     "name": "stdout",
     "output_type": "stream",
     "text": [
      "epoch: 2, [batch: 1 / 12600], examples_per_second: 1.8990, train_label_loss: 0.8684, \n"
     ]
    },
    {
     "name": "stdout",
     "output_type": "stream",
     "text": [
      "epoch: 2, [batch: 1260 / 12600], examples_per_second: 3876.0558, train_label_loss: 0.7726, \n"
     ]
    },
    {
     "name": "stdout",
     "output_type": "stream",
     "text": [
      "epoch: 2, [batch: 2520 / 12600], examples_per_second: 4136.0132, train_label_loss: 0.9005, \n"
     ]
    },
    {
     "name": "stdout",
     "output_type": "stream",
     "text": [
      "epoch: 2, [batch: 3780 / 12600], examples_per_second: 4011.2143, train_label_loss: 1.1215, \n"
     ]
    },
    {
     "name": "stdout",
     "output_type": "stream",
     "text": [
      "epoch: 2, [batch: 5040 / 12600], examples_per_second: 3830.1130, train_label_loss: 0.6954, \n"
     ]
    },
    {
     "name": "stdout",
     "output_type": "stream",
     "text": [
      "epoch: 2, [batch: 6300 / 12600], examples_per_second: 4195.5332, train_label_loss: 0.7454, \n"
     ]
    },
    {
     "name": "stdout",
     "output_type": "stream",
     "text": [
      "epoch: 2, [batch: 7560 / 12600], examples_per_second: 3913.5013, train_label_loss: 0.6012, \n"
     ]
    },
    {
     "name": "stdout",
     "output_type": "stream",
     "text": [
      "epoch: 2, [batch: 8820 / 12600], examples_per_second: 4050.6244, train_label_loss: 0.8350, \n"
     ]
    },
    {
     "name": "stdout",
     "output_type": "stream",
     "text": [
      "epoch: 2, [batch: 10080 / 12600], examples_per_second: 4213.3921, train_label_loss: 0.5465, \n"
     ]
    },
    {
     "name": "stdout",
     "output_type": "stream",
     "text": [
      "epoch: 2, [batch: 11340 / 12600], examples_per_second: 3996.1283, train_label_loss: 1.2181, \n"
     ]
    },
    {
     "name": "stdout",
     "output_type": "stream",
     "text": [
      "=============================================================\n",
      "epoch: 2, source_val_acc_label: 0.6824, target_val_acc_label: 0.5613, source_val_label_loss: 0.8321, target_val_label_loss: 1.2489, \n",
      "=============================================================\n"
     ]
    },
    {
     "name": "stdout",
     "output_type": "stream",
     "text": [
      "New best\n"
     ]
    },
    {
     "name": "stdout",
     "output_type": "stream",
     "text": [
      "epoch: 3, [batch: 1 / 12600], examples_per_second: 1.8838, train_label_loss: 0.3276, \n"
     ]
    },
    {
     "name": "stdout",
     "output_type": "stream",
     "text": [
      "epoch: 3, [batch: 1260 / 12600], examples_per_second: 3819.8530, train_label_loss: 0.5943, \n"
     ]
    },
    {
     "name": "stdout",
     "output_type": "stream",
     "text": [
      "epoch: 3, [batch: 2520 / 12600], examples_per_second: 4044.2509, train_label_loss: 0.4300, \n"
     ]
    },
    {
     "name": "stdout",
     "output_type": "stream",
     "text": [
      "epoch: 3, [batch: 3780 / 12600], examples_per_second: 4619.4315, train_label_loss: 0.5091, \n"
     ]
    },
    {
     "name": "stdout",
     "output_type": "stream",
     "text": [
      "epoch: 3, [batch: 5040 / 12600], examples_per_second: 4466.8195, train_label_loss: 0.8729, \n"
     ]
    },
    {
     "name": "stdout",
     "output_type": "stream",
     "text": [
      "epoch: 3, [batch: 6300 / 12600], examples_per_second: 4987.2405, train_label_loss: 0.6362, \n"
     ]
    },
    {
     "name": "stdout",
     "output_type": "stream",
     "text": [
      "epoch: 3, [batch: 7560 / 12600], examples_per_second: 5301.9005, train_label_loss: 0.7563, \n"
     ]
    },
    {
     "name": "stdout",
     "output_type": "stream",
     "text": [
      "epoch: 3, [batch: 8820 / 12600], examples_per_second: 5111.5263, train_label_loss: 0.6013, \n"
     ]
    },
    {
     "name": "stdout",
     "output_type": "stream",
     "text": [
      "epoch: 3, [batch: 10080 / 12600], examples_per_second: 5058.2856, train_label_loss: 0.5949, \n"
     ]
    },
    {
     "name": "stdout",
     "output_type": "stream",
     "text": [
      "epoch: 3, [batch: 11340 / 12600], examples_per_second: 4104.6479, train_label_loss: 0.5415, \n"
     ]
    },
    {
     "name": "stdout",
     "output_type": "stream",
     "text": [
      "=============================================================\n",
      "epoch: 3, source_val_acc_label: 0.6819, target_val_acc_label: 0.5664, source_val_label_loss: 0.8111, target_val_label_loss: 1.2201, \n",
      "=============================================================\n"
     ]
    },
    {
     "name": "stdout",
     "output_type": "stream",
     "text": [
      "New best\n"
     ]
    },
    {
     "name": "stdout",
     "output_type": "stream",
     "text": [
      "epoch: 4, [batch: 1 / 12600], examples_per_second: 1.7762, train_label_loss: 0.7814, \n"
     ]
    },
    {
     "name": "stdout",
     "output_type": "stream",
     "text": [
      "epoch: 4, [batch: 1260 / 12600], examples_per_second: 3908.0232, train_label_loss: 0.7684, \n"
     ]
    },
    {
     "name": "stdout",
     "output_type": "stream",
     "text": [
      "epoch: 4, [batch: 2520 / 12600], examples_per_second: 3968.7172, train_label_loss: 0.5820, \n"
     ]
    },
    {
     "name": "stdout",
     "output_type": "stream",
     "text": [
      "epoch: 4, [batch: 3780 / 12600], examples_per_second: 3916.9399, train_label_loss: 0.7921, \n"
     ]
    },
    {
     "name": "stdout",
     "output_type": "stream",
     "text": [
      "epoch: 4, [batch: 5040 / 12600], examples_per_second: 3894.7533, train_label_loss: 0.7027, \n"
     ]
    },
    {
     "name": "stdout",
     "output_type": "stream",
     "text": [
      "epoch: 4, [batch: 6300 / 12600], examples_per_second: 3939.7426, train_label_loss: 0.8776, \n"
     ]
    },
    {
     "name": "stdout",
     "output_type": "stream",
     "text": [
      "epoch: 4, [batch: 7560 / 12600], examples_per_second: 4263.7017, train_label_loss: 0.5471, \n"
     ]
    },
    {
     "name": "stdout",
     "output_type": "stream",
     "text": [
      "epoch: 4, [batch: 8820 / 12600], examples_per_second: 4421.7188, train_label_loss: 0.6571, \n"
     ]
    },
    {
     "name": "stdout",
     "output_type": "stream",
     "text": [
      "epoch: 4, [batch: 10080 / 12600], examples_per_second: 4723.3676, train_label_loss: 0.9653, \n"
     ]
    },
    {
     "name": "stdout",
     "output_type": "stream",
     "text": [
      "epoch: 4, [batch: 11340 / 12600], examples_per_second: 4167.3688, train_label_loss: 0.5344, \n"
     ]
    },
    {
     "name": "stdout",
     "output_type": "stream",
     "text": [
      "=============================================================\n",
      "epoch: 4, source_val_acc_label: 0.7004, target_val_acc_label: 0.5816, source_val_label_loss: 0.7902, target_val_label_loss: 1.2260, \n",
      "=============================================================\n"
     ]
    },
    {
     "name": "stdout",
     "output_type": "stream",
     "text": [
      "New best\n"
     ]
    },
    {
     "name": "stdout",
     "output_type": "stream",
     "text": [
      "epoch: 5, [batch: 1 / 12600], examples_per_second: 1.7606, train_label_loss: 0.4947, \n"
     ]
    },
    {
     "name": "stdout",
     "output_type": "stream",
     "text": [
      "epoch: 5, [batch: 1260 / 12600], examples_per_second: 3941.0712, train_label_loss: 0.7936, \n"
     ]
    },
    {
     "name": "stdout",
     "output_type": "stream",
     "text": [
      "epoch: 5, [batch: 2520 / 12600], examples_per_second: 3963.8811, train_label_loss: 0.5307, \n"
     ]
    },
    {
     "name": "stdout",
     "output_type": "stream",
     "text": [
      "epoch: 5, [batch: 3780 / 12600], examples_per_second: 4010.9761, train_label_loss: 0.5798, \n"
     ]
    },
    {
     "name": "stdout",
     "output_type": "stream",
     "text": [
      "epoch: 5, [batch: 5040 / 12600], examples_per_second: 3989.5657, train_label_loss: 0.5067, \n"
     ]
    },
    {
     "name": "stdout",
     "output_type": "stream",
     "text": [
      "epoch: 5, [batch: 6300 / 12600], examples_per_second: 3928.6929, train_label_loss: 0.4515, \n"
     ]
    },
    {
     "name": "stdout",
     "output_type": "stream",
     "text": [
      "epoch: 5, [batch: 7560 / 12600], examples_per_second: 4244.2800, train_label_loss: 0.6227, \n"
     ]
    },
    {
     "name": "stdout",
     "output_type": "stream",
     "text": [
      "epoch: 5, [batch: 8820 / 12600], examples_per_second: 4320.7800, train_label_loss: 0.5886, \n"
     ]
    },
    {
     "name": "stdout",
     "output_type": "stream",
     "text": [
      "epoch: 5, [batch: 10080 / 12600], examples_per_second: 4564.4594, train_label_loss: 0.5683, \n"
     ]
    },
    {
     "name": "stdout",
     "output_type": "stream",
     "text": [
      "epoch: 5, [batch: 11340 / 12600], examples_per_second: 3886.0672, train_label_loss: 0.4219, \n"
     ]
    },
    {
     "name": "stdout",
     "output_type": "stream",
     "text": [
      "=============================================================\n",
      "epoch: 5, source_val_acc_label: 0.7032, target_val_acc_label: 0.5872, source_val_label_loss: 0.8054, target_val_label_loss: 1.2515, \n",
      "=============================================================\n"
     ]
    },
    {
     "name": "stdout",
     "output_type": "stream",
     "text": [
      "New best\n"
     ]
    },
    {
     "name": "stdout",
     "output_type": "stream",
     "text": [
      "epoch: 6, [batch: 1 / 12600], examples_per_second: 1.7894, train_label_loss: 0.3694, \n"
     ]
    },
    {
     "name": "stdout",
     "output_type": "stream",
     "text": [
      "epoch: 6, [batch: 1260 / 12600], examples_per_second: 3882.3159, train_label_loss: 0.7954, \n"
     ]
    },
    {
     "name": "stdout",
     "output_type": "stream",
     "text": [
      "epoch: 6, [batch: 2520 / 12600], examples_per_second: 4017.4978, train_label_loss: 0.5567, \n"
     ]
    },
    {
     "name": "stdout",
     "output_type": "stream",
     "text": [
      "epoch: 6, [batch: 3780 / 12600], examples_per_second: 4026.0008, train_label_loss: 0.4245, \n"
     ]
    },
    {
     "name": "stdout",
     "output_type": "stream",
     "text": [
      "epoch: 6, [batch: 5040 / 12600], examples_per_second: 4042.4135, train_label_loss: 0.5782, \n"
     ]
    },
    {
     "name": "stdout",
     "output_type": "stream",
     "text": [
      "epoch: 6, [batch: 6300 / 12600], examples_per_second: 4023.9567, train_label_loss: 1.0094, \n"
     ]
    },
    {
     "name": "stdout",
     "output_type": "stream",
     "text": [
      "epoch: 6, [batch: 7560 / 12600], examples_per_second: 4263.9805, train_label_loss: 0.6059, \n"
     ]
    },
    {
     "name": "stdout",
     "output_type": "stream",
     "text": [
      "epoch: 6, [batch: 8820 / 12600], examples_per_second: 4364.9704, train_label_loss: 0.2103, \n"
     ]
    },
    {
     "name": "stdout",
     "output_type": "stream",
     "text": [
      "epoch: 6, [batch: 10080 / 12600], examples_per_second: 4827.3934, train_label_loss: 0.2430, \n"
     ]
    },
    {
     "name": "stdout",
     "output_type": "stream",
     "text": [
      "epoch: 6, [batch: 11340 / 12600], examples_per_second: 4128.1840, train_label_loss: 0.4209, \n"
     ]
    },
    {
     "name": "stdout",
     "output_type": "stream",
     "text": [
      "=============================================================\n",
      "epoch: 6, source_val_acc_label: 0.7132, target_val_acc_label: 0.5925, source_val_label_loss: 0.8138, target_val_label_loss: 1.2837, \n",
      "=============================================================\n"
     ]
    },
    {
     "name": "stdout",
     "output_type": "stream",
     "text": [
      "New best\n"
     ]
    },
    {
     "name": "stdout",
     "output_type": "stream",
     "text": [
      "epoch: 7, [batch: 1 / 12600], examples_per_second: 1.7648, train_label_loss: 0.5103, \n"
     ]
    },
    {
     "name": "stdout",
     "output_type": "stream",
     "text": [
      "epoch: 7, [batch: 1260 / 12600], examples_per_second: 3901.1148, train_label_loss: 0.3335, \n"
     ]
    },
    {
     "name": "stdout",
     "output_type": "stream",
     "text": [
      "epoch: 7, [batch: 2520 / 12600], examples_per_second: 3875.8204, train_label_loss: 0.5194, \n"
     ]
    },
    {
     "name": "stdout",
     "output_type": "stream",
     "text": [
      "epoch: 7, [batch: 3780 / 12600], examples_per_second: 3900.8005, train_label_loss: 0.3936, \n"
     ]
    },
    {
     "name": "stdout",
     "output_type": "stream",
     "text": [
      "epoch: 7, [batch: 5040 / 12600], examples_per_second: 3873.0089, train_label_loss: 0.3461, \n"
     ]
    },
    {
     "name": "stdout",
     "output_type": "stream",
     "text": [
      "epoch: 7, [batch: 6300 / 12600], examples_per_second: 4028.9855, train_label_loss: 0.4953, \n"
     ]
    },
    {
     "name": "stdout",
     "output_type": "stream",
     "text": [
      "epoch: 7, [batch: 7560 / 12600], examples_per_second: 4377.4819, train_label_loss: 0.5097, \n"
     ]
    },
    {
     "name": "stdout",
     "output_type": "stream",
     "text": [
      "epoch: 7, [batch: 8820 / 12600], examples_per_second: 4213.7953, train_label_loss: 0.3668, \n"
     ]
    },
    {
     "name": "stdout",
     "output_type": "stream",
     "text": [
      "epoch: 7, [batch: 10080 / 12600], examples_per_second: 4569.7158, train_label_loss: 0.1404, \n"
     ]
    },
    {
     "name": "stdout",
     "output_type": "stream",
     "text": [
      "epoch: 7, [batch: 11340 / 12600], examples_per_second: 3996.7394, train_label_loss: 0.4611, \n"
     ]
    },
    {
     "name": "stdout",
     "output_type": "stream",
     "text": [
      "=============================================================\n",
      "epoch: 7, source_val_acc_label: 0.7046, target_val_acc_label: 0.5915, source_val_label_loss: 0.8631, target_val_label_loss: 1.3320, \n",
      "=============================================================\n"
     ]
    },
    {
     "name": "stdout",
     "output_type": "stream",
     "text": [
      "epoch: 8, [batch: 1 / 12600], examples_per_second: 1.8013, train_label_loss: 0.8359, \n"
     ]
    },
    {
     "name": "stdout",
     "output_type": "stream",
     "text": [
      "epoch: 8, [batch: 1260 / 12600], examples_per_second: 3939.0366, train_label_loss: 0.4025, \n"
     ]
    },
    {
     "name": "stdout",
     "output_type": "stream",
     "text": [
      "epoch: 8, [batch: 2520 / 12600], examples_per_second: 3972.7241, train_label_loss: 0.6639, \n"
     ]
    },
    {
     "name": "stdout",
     "output_type": "stream",
     "text": [
      "epoch: 8, [batch: 3780 / 12600], examples_per_second: 4022.1176, train_label_loss: 0.5777, \n"
     ]
    },
    {
     "name": "stdout",
     "output_type": "stream",
     "text": [
      "epoch: 8, [batch: 5040 / 12600], examples_per_second: 4006.8192, train_label_loss: 0.4860, \n"
     ]
    },
    {
     "name": "stdout",
     "output_type": "stream",
     "text": [
      "epoch: 8, [batch: 6300 / 12600], examples_per_second: 3943.1245, train_label_loss: 0.3002, \n"
     ]
    },
    {
     "name": "stdout",
     "output_type": "stream",
     "text": [
      "epoch: 8, [batch: 7560 / 12600], examples_per_second: 4363.0175, train_label_loss: 0.4136, \n"
     ]
    },
    {
     "name": "stdout",
     "output_type": "stream",
     "text": [
      "epoch: 8, [batch: 8820 / 12600], examples_per_second: 4288.0856, train_label_loss: 0.1162, \n"
     ]
    },
    {
     "name": "stdout",
     "output_type": "stream",
     "text": [
      "epoch: 8, [batch: 10080 / 12600], examples_per_second: 4566.1658, train_label_loss: 0.2155, \n"
     ]
    },
    {
     "name": "stdout",
     "output_type": "stream",
     "text": [
      "epoch: 8, [batch: 11340 / 12600], examples_per_second: 3859.5869, train_label_loss: 0.3818, \n"
     ]
    },
    {
     "name": "stdout",
     "output_type": "stream",
     "text": [
      "=============================================================\n",
      "epoch: 8, source_val_acc_label: 0.7050, target_val_acc_label: 0.5891, source_val_label_loss: 0.8728, target_val_label_loss: 1.3588, \n",
      "=============================================================\n"
     ]
    },
    {
     "name": "stdout",
     "output_type": "stream",
     "text": [
      "epoch: 9, [batch: 1 / 12600], examples_per_second: 1.7614, train_label_loss: 0.4987, \n"
     ]
    },
    {
     "name": "stdout",
     "output_type": "stream",
     "text": [
      "epoch: 9, [batch: 1260 / 12600], examples_per_second: 3936.2438, train_label_loss: 0.1566, \n"
     ]
    },
    {
     "name": "stdout",
     "output_type": "stream",
     "text": [
      "epoch: 9, [batch: 2520 / 12600], examples_per_second: 3963.8278, train_label_loss: 0.4467, \n"
     ]
    },
    {
     "name": "stdout",
     "output_type": "stream",
     "text": [
      "epoch: 9, [batch: 3780 / 12600], examples_per_second: 3873.1060, train_label_loss: 0.1432, \n"
     ]
    },
    {
     "name": "stdout",
     "output_type": "stream",
     "text": [
      "epoch: 9, [batch: 5040 / 12600], examples_per_second: 3947.7738, train_label_loss: 0.2854, \n"
     ]
    },
    {
     "name": "stdout",
     "output_type": "stream",
     "text": [
      "epoch: 9, [batch: 6300 / 12600], examples_per_second: 4016.3642, train_label_loss: 0.1914, \n"
     ]
    },
    {
     "name": "stdout",
     "output_type": "stream",
     "text": [
      "epoch: 9, [batch: 7560 / 12600], examples_per_second: 4380.1858, train_label_loss: 0.3246, \n"
     ]
    },
    {
     "name": "stdout",
     "output_type": "stream",
     "text": [
      "epoch: 9, [batch: 8820 / 12600], examples_per_second: 4408.7987, train_label_loss: 0.1572, \n"
     ]
    },
    {
     "name": "stdout",
     "output_type": "stream",
     "text": [
      "epoch: 9, [batch: 10080 / 12600], examples_per_second: 4597.3047, train_label_loss: 0.1272, \n"
     ]
    },
    {
     "name": "stdout",
     "output_type": "stream",
     "text": [
      "epoch: 9, [batch: 11340 / 12600], examples_per_second: 3876.6189, train_label_loss: 0.2395, \n"
     ]
    },
    {
     "name": "stdout",
     "output_type": "stream",
     "text": [
      "=============================================================\n",
      "epoch: 9, source_val_acc_label: 0.7128, target_val_acc_label: 0.5924, source_val_label_loss: 0.8930, target_val_label_loss: 1.4040, \n",
      "=============================================================\n"
     ]
    },
    {
     "name": "stdout",
     "output_type": "stream",
     "text": [
      "epoch: 10, [batch: 1 / 12600], examples_per_second: 1.7823, train_label_loss: 0.2963, \n"
     ]
    },
    {
     "name": "stdout",
     "output_type": "stream",
     "text": [
      "epoch: 10, [batch: 1260 / 12600], examples_per_second: 3893.1696, train_label_loss: 0.2224, \n"
     ]
    },
    {
     "name": "stdout",
     "output_type": "stream",
     "text": [
      "epoch: 10, [batch: 2520 / 12600], examples_per_second: 3960.8277, train_label_loss: 0.3066, \n"
     ]
    },
    {
     "name": "stdout",
     "output_type": "stream",
     "text": [
      "epoch: 10, [batch: 3780 / 12600], examples_per_second: 4025.4772, train_label_loss: 0.2155, \n"
     ]
    },
    {
     "name": "stdout",
     "output_type": "stream",
     "text": [
      "epoch: 10, [batch: 5040 / 12600], examples_per_second: 3951.1010, train_label_loss: 0.3312, \n"
     ]
    },
    {
     "name": "stdout",
     "output_type": "stream",
     "text": [
      "epoch: 10, [batch: 6300 / 12600], examples_per_second: 3918.2883, train_label_loss: 0.2848, \n"
     ]
    },
    {
     "name": "stdout",
     "output_type": "stream",
     "text": [
      "epoch: 10, [batch: 7560 / 12600], examples_per_second: 4364.1823, train_label_loss: 0.2893, \n"
     ]
    },
    {
     "name": "stdout",
     "output_type": "stream",
     "text": [
      "epoch: 10, [batch: 8820 / 12600], examples_per_second: 4413.7745, train_label_loss: 0.1782, \n"
     ]
    },
    {
     "name": "stdout",
     "output_type": "stream",
     "text": [
      "epoch: 10, [batch: 10080 / 12600], examples_per_second: 4919.1361, train_label_loss: 0.1489, \n"
     ]
    },
    {
     "name": "stdout",
     "output_type": "stream",
     "text": [
      "epoch: 10, [batch: 11340 / 12600], examples_per_second: 4018.4201, train_label_loss: 0.3183, \n"
     ]
    },
    {
     "name": "stdout",
     "output_type": "stream",
     "text": [
      "=============================================================\n",
      "epoch: 10, source_val_acc_label: 0.7143, target_val_acc_label: 0.5939, source_val_label_loss: 0.9248, target_val_label_loss: 1.4383, \n",
      "=============================================================\n"
     ]
    },
    {
     "name": "stdout",
     "output_type": "stream",
     "text": [
      "New best\n"
     ]
    },
    {
     "name": "stdout",
     "output_type": "stream",
     "text": [
      "epoch: 11, [batch: 1 / 12600], examples_per_second: 1.8131, train_label_loss: 0.1862, \n"
     ]
    },
    {
     "name": "stdout",
     "output_type": "stream",
     "text": [
      "epoch: 11, [batch: 1260 / 12600], examples_per_second: 3992.3152, train_label_loss: 0.3759, \n"
     ]
    },
    {
     "name": "stdout",
     "output_type": "stream",
     "text": [
      "epoch: 11, [batch: 2520 / 12600], examples_per_second: 4038.7405, train_label_loss: 0.3660, \n"
     ]
    },
    {
     "name": "stdout",
     "output_type": "stream",
     "text": [
      "epoch: 11, [batch: 3780 / 12600], examples_per_second: 4045.4715, train_label_loss: 0.1505, \n"
     ]
    },
    {
     "name": "stdout",
     "output_type": "stream",
     "text": [
      "epoch: 11, [batch: 5040 / 12600], examples_per_second: 4052.8148, train_label_loss: 0.3793, \n"
     ]
    },
    {
     "name": "stdout",
     "output_type": "stream",
     "text": [
      "epoch: 11, [batch: 6300 / 12600], examples_per_second: 4003.8138, train_label_loss: 0.0999, \n"
     ]
    },
    {
     "name": "stdout",
     "output_type": "stream",
     "text": [
      "epoch: 11, [batch: 7560 / 12600], examples_per_second: 4288.6393, train_label_loss: 0.2098, \n"
     ]
    },
    {
     "name": "stdout",
     "output_type": "stream",
     "text": [
      "epoch: 11, [batch: 8820 / 12600], examples_per_second: 4231.1500, train_label_loss: 0.3905, \n"
     ]
    },
    {
     "name": "stdout",
     "output_type": "stream",
     "text": [
      "epoch: 11, [batch: 10080 / 12600], examples_per_second: 4697.7361, train_label_loss: 0.4737, \n"
     ]
    },
    {
     "name": "stdout",
     "output_type": "stream",
     "text": [
      "epoch: 11, [batch: 11340 / 12600], examples_per_second: 3935.9033, train_label_loss: 0.3384, \n"
     ]
    },
    {
     "name": "stdout",
     "output_type": "stream",
     "text": [
      "=============================================================\n",
      "epoch: 11, source_val_acc_label: 0.7079, target_val_acc_label: 0.5875, source_val_label_loss: 0.9785, target_val_label_loss: 1.5133, \n",
      "=============================================================\n"
     ]
    },
    {
     "name": "stdout",
     "output_type": "stream",
     "text": [
      "epoch: 12, [batch: 1 / 12600], examples_per_second: 1.7952, train_label_loss: 0.2265, \n"
     ]
    },
    {
     "name": "stdout",
     "output_type": "stream",
     "text": [
      "epoch: 12, [batch: 1260 / 12600], examples_per_second: 4052.1399, train_label_loss: 0.0874, \n"
     ]
    },
    {
     "name": "stdout",
     "output_type": "stream",
     "text": [
      "epoch: 12, [batch: 2520 / 12600], examples_per_second: 4068.7805, train_label_loss: 0.4608, \n"
     ]
    },
    {
     "name": "stdout",
     "output_type": "stream",
     "text": [
      "epoch: 12, [batch: 3780 / 12600], examples_per_second: 4047.9490, train_label_loss: 0.3092, \n"
     ]
    },
    {
     "name": "stdout",
     "output_type": "stream",
     "text": [
      "epoch: 12, [batch: 5040 / 12600], examples_per_second: 3918.3856, train_label_loss: 0.2038, \n"
     ]
    },
    {
     "name": "stdout",
     "output_type": "stream",
     "text": [
      "epoch: 12, [batch: 6300 / 12600], examples_per_second: 3901.8203, train_label_loss: 0.1359, \n"
     ]
    },
    {
     "name": "stdout",
     "output_type": "stream",
     "text": [
      "epoch: 12, [batch: 7560 / 12600], examples_per_second: 4292.4596, train_label_loss: 0.2681, \n"
     ]
    },
    {
     "name": "stdout",
     "output_type": "stream",
     "text": [
      "epoch: 12, [batch: 8820 / 12600], examples_per_second: 4149.0338, train_label_loss: 0.0651, \n"
     ]
    },
    {
     "name": "stdout",
     "output_type": "stream",
     "text": [
      "epoch: 12, [batch: 10080 / 12600], examples_per_second: 4501.5419, train_label_loss: 0.0653, \n"
     ]
    },
    {
     "name": "stdout",
     "output_type": "stream",
     "text": [
      "epoch: 12, [batch: 11340 / 12600], examples_per_second: 3877.0608, train_label_loss: 0.5123, \n"
     ]
    },
    {
     "name": "stdout",
     "output_type": "stream",
     "text": [
      "=============================================================\n",
      "epoch: 12, source_val_acc_label: 0.7020, target_val_acc_label: 0.5856, source_val_label_loss: 1.0311, target_val_label_loss: 1.5735, \n",
      "=============================================================\n"
     ]
    },
    {
     "name": "stdout",
     "output_type": "stream",
     "text": [
      "epoch: 13, [batch: 1 / 12600], examples_per_second: 1.7964, train_label_loss: 0.1367, \n"
     ]
    },
    {
     "name": "stdout",
     "output_type": "stream",
     "text": [
      "epoch: 13, [batch: 1260 / 12600], examples_per_second: 3992.7720, train_label_loss: 0.3484, \n"
     ]
    },
    {
     "name": "stdout",
     "output_type": "stream",
     "text": [
      "epoch: 13, [batch: 2520 / 12600], examples_per_second: 4014.6173, train_label_loss: 0.2485, \n"
     ]
    },
    {
     "name": "stdout",
     "output_type": "stream",
     "text": [
      "epoch: 13, [batch: 3780 / 12600], examples_per_second: 3998.2862, train_label_loss: 0.0340, \n"
     ]
    },
    {
     "name": "stdout",
     "output_type": "stream",
     "text": [
      "epoch: 13, [batch: 5040 / 12600], examples_per_second: 3941.6742, train_label_loss: 0.0664, \n"
     ]
    },
    {
     "name": "stdout",
     "output_type": "stream",
     "text": [
      "epoch: 13, [batch: 6300 / 12600], examples_per_second: 3958.3675, train_label_loss: 0.2706, \n"
     ]
    },
    {
     "name": "stdout",
     "output_type": "stream",
     "text": [
      "epoch: 13, [batch: 7560 / 12600], examples_per_second: 4338.7541, train_label_loss: 0.1895, \n"
     ]
    },
    {
     "name": "stdout",
     "output_type": "stream",
     "text": [
      "epoch: 13, [batch: 8820 / 12600], examples_per_second: 4189.8902, train_label_loss: 0.1504, \n"
     ]
    },
    {
     "name": "stdout",
     "output_type": "stream",
     "text": [
      "epoch: 13, [batch: 10080 / 12600], examples_per_second: 4473.7283, train_label_loss: 0.3401, \n"
     ]
    },
    {
     "name": "stdout",
     "output_type": "stream",
     "text": [
      "epoch: 13, [batch: 11340 / 12600], examples_per_second: 3925.8809, train_label_loss: 0.0537, \n"
     ]
    },
    {
     "name": "stdout",
     "output_type": "stream",
     "text": [
      "=============================================================\n",
      "epoch: 13, source_val_acc_label: 0.7077, target_val_acc_label: 0.5885, source_val_label_loss: 1.0651, target_val_label_loss: 1.6245, \n",
      "=============================================================\n"
     ]
    },
    {
     "name": "stdout",
     "output_type": "stream",
     "text": [
      "epoch: 14, [batch: 1 / 12600], examples_per_second: 1.7693, train_label_loss: 0.2905, \n"
     ]
    },
    {
     "name": "stdout",
     "output_type": "stream",
     "text": [
      "epoch: 14, [batch: 1260 / 12600], examples_per_second: 3932.6131, train_label_loss: 0.2228, \n"
     ]
    },
    {
     "name": "stdout",
     "output_type": "stream",
     "text": [
      "epoch: 14, [batch: 2520 / 12600], examples_per_second: 3933.5364, train_label_loss: 0.1541, \n"
     ]
    },
    {
     "name": "stdout",
     "output_type": "stream",
     "text": [
      "epoch: 14, [batch: 3780 / 12600], examples_per_second: 3939.7537, train_label_loss: 0.0353, \n"
     ]
    },
    {
     "name": "stdout",
     "output_type": "stream",
     "text": [
      "epoch: 14, [batch: 5040 / 12600], examples_per_second: 3903.5805, train_label_loss: 0.3224, \n"
     ]
    },
    {
     "name": "stdout",
     "output_type": "stream",
     "text": [
      "epoch: 14, [batch: 6300 / 12600], examples_per_second: 4001.3858, train_label_loss: 0.2940, \n"
     ]
    },
    {
     "name": "stdout",
     "output_type": "stream",
     "text": [
      "epoch: 14, [batch: 7560 / 12600], examples_per_second: 4345.7808, train_label_loss: 0.1304, \n"
     ]
    },
    {
     "name": "stdout",
     "output_type": "stream",
     "text": [
      "epoch: 14, [batch: 8820 / 12600], examples_per_second: 4403.3335, train_label_loss: 0.2483, \n"
     ]
    },
    {
     "name": "stdout",
     "output_type": "stream",
     "text": [
      "epoch: 14, [batch: 10080 / 12600], examples_per_second: 4383.0369, train_label_loss: 0.0767, \n"
     ]
    },
    {
     "name": "stdout",
     "output_type": "stream",
     "text": [
      "epoch: 14, [batch: 11340 / 12600], examples_per_second: 3998.3118, train_label_loss: 0.1686, \n"
     ]
    },
    {
     "name": "stdout",
     "output_type": "stream",
     "text": [
      "=============================================================\n",
      "epoch: 14, source_val_acc_label: 0.7001, target_val_acc_label: 0.5815, source_val_label_loss: 1.1362, target_val_label_loss: 1.7126, \n",
      "=============================================================\n"
     ]
    },
    {
     "name": "stdout",
     "output_type": "stream",
     "text": [
      "Patience (3) exhausted\n"
     ]
    }
   ],
   "source": [
    "###################################\n",
    "# train\n",
    "###################################\n",
    "jig = PTN_Train_Eval_Test_Jig(model, p.BEST_MODEL_PATH, p.device)\n",
    "\n",
    "jig.train(\n",
    "    train_iterable=datasets.source.processed.train,\n",
    "    source_val_iterable=datasets.source.processed.val,\n",
    "    target_val_iterable=datasets.target.processed.val,\n",
    "    num_epochs=p.n_epoch,\n",
    "    num_logs_per_epoch=p.NUM_LOGS_PER_EPOCH,\n",
    "    patience=p.patience,\n",
    "    optimizer=optimizer,\n",
    "    criteria_for_best=p.criteria_for_best,\n",
    ")"
   ]
  },
  {
   "cell_type": "code",
   "execution_count": 14,
   "id": "31e8fabf",
   "metadata": {
    "execution": {
     "iopub.execute_input": "2022-03-26T15:39:13.893112Z",
     "iopub.status.busy": "2022-03-26T15:39:13.892729Z",
     "iopub.status.idle": "2022-03-26T15:39:13.924457Z",
     "shell.execute_reply": "2022-03-26T15:39:13.923724Z"
    },
    "papermill": {
     "duration": 0.096979,
     "end_time": "2022-03-26T15:39:13.924624",
     "exception": false,
     "start_time": "2022-03-26T15:39:13.827645",
     "status": "completed"
    },
    "tags": []
   },
   "outputs": [],
   "source": [
    "total_experiment_time_secs = time.time() - start_time_secs"
   ]
  },
  {
   "cell_type": "code",
   "execution_count": 15,
   "id": "87b9595b",
   "metadata": {
    "execution": {
     "iopub.execute_input": "2022-03-26T15:39:14.058154Z",
     "iopub.status.busy": "2022-03-26T15:39:14.057545Z",
     "iopub.status.idle": "2022-03-26T15:45:59.914286Z",
     "shell.execute_reply": "2022-03-26T15:45:59.913532Z"
    },
    "papermill": {
     "duration": 405.92178,
     "end_time": "2022-03-26T15:45:59.914499",
     "exception": false,
     "start_time": "2022-03-26T15:39:13.992719",
     "status": "completed"
    },
    "tags": []
   },
   "outputs": [],
   "source": [
    "###################################\n",
    "# Evaluate the model\n",
    "###################################\n",
    "source_test_label_accuracy, source_test_label_loss = jig.test(datasets.source.processed.test)\n",
    "target_test_label_accuracy, target_test_label_loss = jig.test(datasets.target.processed.test)\n",
    "\n",
    "source_val_label_accuracy, source_val_label_loss = jig.test(datasets.source.processed.val)\n",
    "target_val_label_accuracy, target_val_label_loss = jig.test(datasets.target.processed.val)\n",
    "\n",
    "history = jig.get_history()\n",
    "\n",
    "total_epochs_trained = len(history[\"epoch_indices\"])\n",
    "\n",
    "val_dl = Iterable_Aggregator((datasets.source.original.val,datasets.target.original.val))\n",
    "\n",
    "confusion = ptn_confusion_by_domain_over_dataloader(model, p.device, val_dl)\n",
    "per_domain_accuracy = per_domain_accuracy_from_confusion(confusion)\n",
    "\n",
    "# Add a key to per_domain_accuracy for if it was a source domain\n",
    "for domain, accuracy in per_domain_accuracy.items():\n",
    "    per_domain_accuracy[domain] = {\n",
    "        \"accuracy\": accuracy,\n",
    "        \"source?\": domain in p.domains_source\n",
    "    }\n",
    "\n",
    "# Do an independent accuracy assesment JUST TO BE SURE!\n",
    "# _source_test_label_accuracy = independent_accuracy_assesment(model, datasets.source.processed.test, p.device)\n",
    "# _target_test_label_accuracy = independent_accuracy_assesment(model, datasets.target.processed.test, p.device)\n",
    "# _source_val_label_accuracy = independent_accuracy_assesment(model, datasets.source.processed.val, p.device)\n",
    "# _target_val_label_accuracy = independent_accuracy_assesment(model, datasets.target.processed.val, p.device)\n",
    "\n",
    "# assert(_source_test_label_accuracy == source_test_label_accuracy)\n",
    "# assert(_target_test_label_accuracy == target_test_label_accuracy)\n",
    "# assert(_source_val_label_accuracy == source_val_label_accuracy)\n",
    "# assert(_target_val_label_accuracy == target_val_label_accuracy)\n",
    "\n",
    "experiment = {\n",
    "    \"experiment_name\": p.experiment_name,\n",
    "    \"parameters\": dict(p),\n",
    "    \"results\": {\n",
    "        \"source_test_label_accuracy\": source_test_label_accuracy,\n",
    "        \"source_test_label_loss\": source_test_label_loss,\n",
    "        \"target_test_label_accuracy\": target_test_label_accuracy,\n",
    "        \"target_test_label_loss\": target_test_label_loss,\n",
    "        \"source_val_label_accuracy\": source_val_label_accuracy,\n",
    "        \"source_val_label_loss\": source_val_label_loss,\n",
    "        \"target_val_label_accuracy\": target_val_label_accuracy,\n",
    "        \"target_val_label_loss\": target_val_label_loss,\n",
    "        \"total_epochs_trained\": total_epochs_trained,\n",
    "        \"total_experiment_time_secs\": total_experiment_time_secs,\n",
    "        \"confusion\": confusion,\n",
    "        \"per_domain_accuracy\": per_domain_accuracy,\n",
    "    },\n",
    "    \"history\": history,\n",
    "    \"dataset_metrics\": get_dataset_metrics(datasets, \"ptn\"),\n",
    "}"
   ]
  },
  {
   "cell_type": "code",
   "execution_count": 16,
   "id": "54a21829",
   "metadata": {
    "execution": {
     "iopub.execute_input": "2022-03-26T15:46:00.045426Z",
     "iopub.status.busy": "2022-03-26T15:46:00.045041Z",
     "iopub.status.idle": "2022-03-26T15:46:00.288216Z",
     "shell.execute_reply": "2022-03-26T15:46:00.288951Z"
    },
    "papermill": {
     "duration": 0.309074,
     "end_time": "2022-03-26T15:46:00.289139",
     "exception": false,
     "start_time": "2022-03-26T15:45:59.980065",
     "status": "completed"
    },
    "tags": []
   },
   "outputs": [
    {
     "data": {
      "image/png": "[encoded data removed]",
      "text/plain": [
       "<Figure size 1080x504 with 1 Axes>"
      ]
     },
     "metadata": {
      "needs_background": "light"
     },
     "output_type": "display_data"
    }
   ],
   "source": [
    "ax = get_loss_curve(experiment)\n",
    "plt.show()"
   ]
  },
  {
   "cell_type": "code",
   "execution_count": 17,
   "id": "fd8a0f60",
   "metadata": {
    "execution": {
     "iopub.execute_input": "2022-03-26T15:46:00.420417Z",
     "iopub.status.busy": "2022-03-26T15:46:00.419715Z",
     "iopub.status.idle": "2022-03-26T15:46:00.781001Z",
     "shell.execute_reply": "2022-03-26T15:46:00.780593Z"
    },
    "papermill": {
     "duration": 0.426445,
     "end_time": "2022-03-26T15:46:00.781092",
     "exception": false,
     "start_time": "2022-03-26T15:46:00.354647",
     "status": "completed"
    },
    "tags": []
   },
   "outputs": [
    {
     "data": {
      "text/plain": [
       "<AxesSubplot:title={'center':'Results'}>"
      ]
     },
     "execution_count": 17,
     "metadata": {},
     "output_type": "execute_result"
    },
    {
     "data": {
      "image/png": "[encoded data removed]",
      "text/plain": [
       "<Figure size 1080x504 with 1 Axes>"
      ]
     },
     "metadata": {
      "needs_background": "light"
     },
     "output_type": "display_data"
    }
   ],
   "source": [
    "get_results_table(experiment)"
   ]
  },
  {
   "cell_type": "code",
   "execution_count": 18,
   "id": "cf8dc689",
   "metadata": {
    "execution": {
     "iopub.execute_input": "2022-03-26T15:46:00.913204Z",
     "iopub.status.busy": "2022-03-26T15:46:00.912826Z",
     "iopub.status.idle": "2022-03-26T15:46:01.126652Z",
     "shell.execute_reply": "2022-03-26T15:46:01.125824Z"
    },
    "papermill": {
     "duration": 0.281726,
     "end_time": "2022-03-26T15:46:01.126815",
     "exception": false,
     "start_time": "2022-03-26T15:46:00.845089",
     "status": "completed"
    },
    "tags": []
   },
   "outputs": [
    {
     "data": {
      "text/plain": [
       "<AxesSubplot:title={'center':'Per Domain Validation Accuracy'}, xlabel='domain'>"
      ]
     },
     "execution_count": 18,
     "metadata": {},
     "output_type": "execute_result"
    },
    {
     "data": {
      "image/png": "[encoded data removed]",
      "text/plain": [
       "<Figure size 1080x504 with 1 Axes>"
      ]
     },
     "metadata": {
      "needs_background": "light"
     },
     "output_type": "display_data"
    }
   ],
   "source": [
    "get_domain_accuracies(experiment)"
   ]
  },
  {
   "cell_type": "code",
   "execution_count": 19,
   "id": "a74ae082",
   "metadata": {
    "execution": {
     "iopub.execute_input": "2022-03-26T15:46:01.262279Z",
     "iopub.status.busy": "2022-03-26T15:46:01.261903Z",
     "iopub.status.idle": "2022-03-26T15:46:01.288968Z",
     "shell.execute_reply": "2022-03-26T15:46:01.288148Z"
    },
    "papermill": {
     "duration": 0.095336,
     "end_time": "2022-03-26T15:46:01.289123",
     "exception": false,
     "start_time": "2022-03-26T15:46:01.193787",
     "status": "completed"
    },
    "tags": []
   },
   "outputs": [
    {
     "name": "stdout",
     "output_type": "stream",
     "text": [
      "Source Test Label Accuracy: 0.7138541666666667 Target Test Label Accuracy: 0.5914895833333333\n",
      "Source Val Label Accuracy: 0.7143229166666667 Target Val Label Accuracy: 0.5939270833333333\n"
     ]
    }
   ],
   "source": [
    "print(\"Source Test Label Accuracy:\", experiment[\"results\"][\"source_test_label_accuracy\"], \"Target Test Label Accuracy:\", experiment[\"results\"][\"target_test_label_accuracy\"])\n",
    "print(\"Source Val Label Accuracy:\", experiment[\"results\"][\"source_val_label_accuracy\"], \"Target Val Label Accuracy:\", experiment[\"results\"][\"target_val_label_accuracy\"])"
   ]
  },
  {
   "cell_type": "code",
   "execution_count": 20,
   "id": "dacca602",
   "metadata": {
    "execution": {
     "iopub.execute_input": "2022-03-26T15:46:01.427432Z",
     "iopub.status.busy": "2022-03-26T15:46:01.427056Z",
     "iopub.status.idle": "2022-03-26T15:46:01.453972Z",
     "shell.execute_reply": "2022-03-26T15:46:01.453216Z"
    },
    "papermill": {
     "duration": 0.094463,
     "end_time": "2022-03-26T15:46:01.454127",
     "exception": false,
     "start_time": "2022-03-26T15:46:01.359664",
     "status": "completed"
    },
    "tags": [
     "experiment_json"
    ]
   },
   "outputs": [
    {
     "data": {
      "text/plain": [
       "'{\"experiment_name\": \"tuned_1v2:oracle.run2_limited\", \"parameters\": {\"experiment_name\": \"tuned_1v2:oracle.run2_limited\", \"device\": \"cuda\", \"lr\": 0.0001, \"labels_source\": [\"3123D52\", \"3123D65\", \"3123D79\", \"3123D80\", \"3123D54\", \"3123D70\", \"3123D7B\", \"3123D89\", \"3123D58\", \"3123D76\", \"3123D7D\", \"3123EFE\", \"3123D64\", \"3123D78\", \"3123D7E\", \"3124E4A\"], \"labels_target\": [\"3123D52\", \"3123D65\", \"3123D79\", \"3123D80\", \"3123D54\", \"3123D70\", \"3123D7B\", \"3123D89\", \"3123D58\", \"3123D76\", \"3123D7D\", \"3123EFE\", \"3123D64\", \"3123D78\", \"3123D7E\", \"3124E4A\"], \"episode_transforms_source\": [], \"episode_transforms_target\": [], \"domains_source\": [8, 32, 50], \"domains_target\": [14, 20, 26, 38, 44], \"num_examples_per_domain_per_label_source\": -1, \"num_examples_per_domain_per_label_target\": -1, \"n_shot\": 3, \"n_way\": 16, \"n_query\": 2, \"train_k_factor\": 3, \"val_k_factor\": 2, \"test_k_factor\": 2, \"torch_default_dtype\": \"torch.float32\", \"n_epoch\": 50, \"patience\": 3, \"criteria_for_best\": \"target_accuracy\", \"x_net\": [{\"class\": \"nnReshape\", \"kargs\": {\"shape\": [-1, 1, 2, 256]}}, {\"class\": \"Conv2d\", \"kargs\": {\"in_channels\": 1, \"out_channels\": 256, \"kernel_size\": [1, 7], \"bias\": false, \"padding\": [0, 3]}}, {\"class\": \"ReLU\", \"kargs\": {\"inplace\": true}}, {\"class\": \"BatchNorm2d\", \"kargs\": {\"num_features\": 256}}, {\"class\": \"Conv2d\", \"kargs\": {\"in_channels\": 256, \"out_channels\": 80, \"kernel_size\": [2, 7], \"bias\": true, \"padding\": [0, 3]}}, {\"class\": \"ReLU\", \"kargs\": {\"inplace\": true}}, {\"class\": \"BatchNorm2d\", \"kargs\": {\"num_features\": 80}}, {\"class\": \"Flatten\", \"kargs\": {}}, {\"class\": \"Linear\", \"kargs\": {\"in_features\": 20480, \"out_features\": 256}}, {\"class\": \"ReLU\", \"kargs\": {\"inplace\": true}}, {\"class\": \"BatchNorm1d\", \"kargs\": {\"num_features\": 256}}, {\"class\": \"Linear\", \"kargs\": {\"in_features\": 256, \"out_features\": 256}}], \"NUM_LOGS_PER_EPOCH\": 10, \"BEST_MODEL_PATH\": \"./best_model.pth\", \"pickle_name\": \"oracle.Run2_10kExamples_stratified_ds.2022A.pkl\", \"x_transforms_source\": [\"unit_mag\"], \"x_transforms_target\": [\"unit_mag\"], \"dataset_seed\": 154325, \"seed\": 154325}, \"results\": {\"source_test_label_accuracy\": 0.7138541666666667, \"source_test_label_loss\": 0.9205753803253174, \"target_test_label_accuracy\": 0.5914895833333333, \"target_test_label_loss\": 1.4373365640640259, \"source_val_label_accuracy\": 0.7143229166666667, \"source_val_label_loss\": 0.9248330593109131, \"target_val_label_accuracy\": 0.5939270833333333, \"target_val_label_loss\": 1.4383437633514404, \"total_epochs_trained\": 14, \"total_experiment_time_secs\": 4443.462354660034, \"confusion\": {\"32\": {\"13\": {\"13\": 535, \"8\": 64, \"7\": 187, \"4\": 185, \"11\": 92, \"5\": 37, \"3\": 38, \"0\": 60, \"2\": 2}, \"9\": {\"9\": 1158, \"14\": 41, \"2\": 1}, \"15\": {\"15\": 1188, \"8\": 11, \"14\": 1}, \"2\": {\"11\": 35, \"2\": 892, \"0\": 39, \"4\": 48, \"5\": 71, \"7\": 20, \"14\": 94, \"13\": 1}, \"3\": {\"3\": 1133, \"13\": 51, \"4\": 3, \"7\": 3, \"8\": 10}, \"8\": {\"8\": 835, \"5\": 98, \"0\": 89, \"13\": 87, \"4\": 59, \"3\": 21, \"15\": 6, \"11\": 4, \"7\": 1}, \"5\": {\"0\": 149, \"4\": 152, \"5\": 465, \"8\": 133, \"13\": 42, \"14\": 72, \"2\": 147, \"7\": 12, \"11\": 22, \"15\": 5, \"3\": 1}, \"14\": {\"14\": 1024, \"2\": 111, \"11\": 7, \"0\": 33, \"5\": 24, \"4\": 1}, \"1\": {\"1\": 1190, \"10\": 10}, \"0\": {\"4\": 133, \"0\": 548, \"5\": 170, \"11\": 152, \"13\": 38, \"8\": 71, \"2\": 52, \"7\": 26, \"14\": 10}, \"10\": {\"10\": 1195, \"1\": 5}, \"6\": {\"6\": 1200}, \"11\": {\"11\": 544, \"0\": 153, \"13\": 115, \"7\": 217, \"5\": 16, \"4\": 94, \"8\": 8, \"2\": 48, \"14\": 5}, \"7\": {\"7\": 619, \"13\": 181, \"4\": 82, \"0\": 15, \"11\": 265, \"2\": 23, \"8\": 1, \"3\": 7, \"5\": 7}, \"4\": {\"4\": 455, \"0\": 136, \"11\": 90, \"5\": 136, \"8\": 54, \"13\": 201, \"2\": 40, \"7\": 87, \"14\": 1}, \"12\": {\"12\": 1200}}, \"50\": {\"10\": {\"10\": 836, \"13\": 179, \"7\": 68, \"0\": 30, \"5\": 83, \"4\": 4}, \"12\": {\"12\": 1051, \"9\": 82, \"14\": 56, \"11\": 11}, \"1\": {\"1\": 835, \"15\": 82, \"6\": 244, \"4\": 31, \"14\": 1, \"5\": 5, \"2\": 1, \"11\": 1}, \"0\": {\"0\": 1051, \"2\": 102, \"10\": 31, \"6\": 3, \"5\": 10, \"1\": 1, \"4\": 2}, \"15\": {\"15\": 1044, \"1\": 76, \"11\": 55, \"6\": 24, \"4\": 1}, \"13\": {\"5\": 45, \"13\": 551, \"10\": 172, \"7\": 430, \"0\": 1, \"4\": 1}, \"8\": {\"8\": 1163, \"3\": 37}, \"3\": {\"3\": 1161, \"8\": 39}, \"11\": {\"11\": 1087, \"14\": 28, \"15\": 45, \"12\": 13, \"9\": 27}, \"4\": {\"4\": 584, \"5\": 296, \"6\": 251, \"7\": 7, \"1\": 50, \"10\": 9, \"13\": 2, \"0\": 1}, \"6\": {\"6\": 641, \"1\": 267, \"5\": 51, \"4\": 222, \"15\": 17, \"0\": 1, \"7\": 1}, \"7\": {\"13\": 440, \"5\": 112, \"7\": 546, \"10\": 94, \"4\": 8}, \"14\": {\"14\": 1153, \"12\": 32, \"11\": 14, \"15\": 1}, \"2\": {\"2\": 1137, \"0\": 62, \"1\": 1}, \"5\": {\"4\": 312, \"5\": 635, \"7\": 82, \"0\": 7, \"13\": 45, \"6\": 68, \"10\": 45, \"1\": 6}, \"9\": {\"9\": 1108, \"12\": 77, \"11\": 15}}, \"8\": {\"14\": {\"14\": 665, \"6\": 59, \"10\": 44, \"0\": 244, \"13\": 164, \"4\": 19, \"7\": 1, \"1\": 4}, \"10\": {\"10\": 700, \"14\": 44, \"13\": 87, \"0\": 212, \"5\": 137, \"1\": 20}, \"2\": {\"2\": 889, \"7\": 174, \"4\": 105, \"6\": 20, \"3\": 6, \"15\": 6}, \"8\": {\"8\": 900, \"11\": 160, \"15\": 104, \"6\": 12, \"7\": 13, \"4\": 5, \"13\": 5, \"14\": 1}, \"6\": {\"7\": 200, \"6\": 529, \"4\": 363, \"14\": 60, \"0\": 3, \"8\": 15, \"2\": 27, \"13\": 2, \"11\": 1}, \"7\": {\"6\": 214, \"7\": 525, \"2\": 191, \"4\": 246, \"11\": 1, \"8\": 16, \"15\": 6, \"14\": 1}, \"9\": {\"9\": 1200}, \"11\": {\"12\": 128, \"8\": 278, \"15\": 212, \"11\": 576, \"4\": 1, \"7\": 3, \"6\": 1, \"3\": 1}, \"12\": {\"12\": 896, \"3\": 145, \"11\": 38, \"15\": 120, \"8\": 1}, \"13\": {\"13\": 722, \"1\": 118, \"14\": 211, \"6\": 20, \"10\": 81, \"0\": 33, \"7\": 1, \"8\": 6, \"4\": 4, \"5\": 3, \"11\": 1}, \"0\": {\"0\": 725, \"10\": 183, \"14\": 245, \"5\": 2, \"13\": 31, \"4\": 6, \"6\": 8}, \"3\": {\"3\": 1039, \"12\": 152, \"15\": 7, \"2\": 1, \"11\": 1}, \"4\": {\"7\": 304, \"4\": 439, \"2\": 93, \"6\": 334, \"14\": 21, \"0\": 3, \"8\": 6}, \"15\": {\"8\": 116, \"15\": 623, \"11\": 224, \"12\": 206, \"3\": 21, \"6\": 2, \"7\": 6, \"2\": 1, \"4\": 1}, \"5\": {\"5\": 943, \"10\": 184, \"1\": 63, \"13\": 7, \"0\": 3}, \"1\": {\"5\": 37, \"1\": 1010, \"13\": 129, \"10\": 22, \"14\": 2}}, \"44\": {\"13\": {\"13\": 1107, \"4\": 54, \"6\": 32, \"14\": 4, \"5\": 2, \"9\": 1}, \"9\": {\"9\": 499, \"7\": 283, \"6\": 30, \"2\": 383, \"1\": 2, \"3\": 1, \"4\": 2}, \"15\": {\"14\": 119, \"15\": 997, \"4\": 71, \"8\": 10, \"0\": 1, \"5\": 2}, \"2\": {\"3\": 10, \"2\": 603, \"7\": 252, \"9\": 328, \"6\": 1, \"1\": 6}, \"3\": {\"3\": 985, \"1\": 132, \"12\": 81, \"2\": 1, \"7\": 1}, \"8\": {\"0\": 468, \"8\": 684, \"5\": 26, \"15\": 17, \"14\": 5}, \"5\": {\"5\": 1039, \"14\": 143, \"8\": 13, \"0\": 5}, \"14\": {\"14\": 854, \"5\": 113, \"15\": 148, \"4\": 81, \"8\": 3, \"13\": 1}, \"1\": {\"1\": 685, \"12\": 346, \"3\": 154, \"10\": 9, \"7\": 5, \"2\": 1}, \"0\": {\"8\": 494, \"0\": 689, \"5\": 12, \"15\": 4, \"14\": 1}, \"10\": {\"10\": 1140, \"12\": 41, \"1\": 19}, \"6\": {\"6\": 1076, \"9\": 56, \"11\": 25, \"7\": 18, \"13\": 16, \"2\": 9}, \"11\": {\"11\": 1111, \"6\": 79, \"13\": 1, \"7\": 6, \"9\": 2, \"2\": 1}, \"7\": {\"7\": 591, \"9\": 269, \"2\": 320, \"1\": 8, \"6\": 11, \"3\": 1}, \"4\": {\"4\": 1048, \"13\": 40, \"14\": 70, \"15\": 41, \"5\": 1}, \"12\": {\"1\": 334, \"12\": 757, \"10\": 15, \"3\": 94}}, \"38\": {\"13\": {\"8\": 196, \"5\": 221, \"13\": 234, \"1\": 71, \"14\": 5, \"0\": 13, \"10\": 35, \"15\": 270, \"3\": 74, \"7\": 52, \"6\": 10, \"2\": 17, \"9\": 2}, \"12\": {\"12\": 1126, \"4\": 43, \"14\": 26, \"11\": 5}, \"2\": {\"2\": 1033, \"14\": 161, \"12\": 1, \"11\": 5}, \"9\": {\"6\": 378, \"9\": 806, \"3\": 9, \"0\": 7}, \"15\": {\"15\": 432, \"8\": 205, \"13\": 232, \"1\": 91, \"5\": 121, \"0\": 16, \"3\": 78, \"6\": 15, \"7\": 8, \"9\": 1, \"10\": 1}, \"5\": {\"8\": 307, \"7\": 138, \"5\": 390, \"13\": 175, \"15\": 122, \"3\": 27, \"10\": 36, \"1\": 3, \"0\": 2}, \"14\": {\"14\": 594, \"2\": 245, \"12\": 161, \"7\": 20, \"5\": 19, \"11\": 141, \"13\": 12, \"10\": 5, \"8\": 3}, \"0\": {\"0\": 864, \"10\": 20, \"3\": 281, \"7\": 6, \"9\": 15, \"6\": 7, \"15\": 4, \"13\": 1, \"8\": 2}, \"3\": {\"8\": 71, \"0\": 350, \"3\": 329, \"6\": 70, \"5\": 54, \"9\": 55, \"13\": 56, \"7\": 64, \"15\": 71, \"10\": 69, \"1\": 11}, \"1\": {\"1\": 1065, \"15\": 76, \"8\": 3, \"5\": 8, \"13\": 42, \"6\": 4, \"3\": 2}, \"11\": {\"11\": 951, \"12\": 123, \"14\": 119, \"2\": 6, \"4\": 1}, \"7\": {\"7\": 554, \"5\": 142, \"8\": 88, \"10\": 354, \"0\": 2, \"3\": 24, \"13\": 22, \"15\": 10, \"4\": 3, \"12\": 1}, \"8\": {\"8\": 339, \"5\": 311, \"13\": 182, \"15\": 182, \"3\": 40, \"7\": 89, \"10\": 46, \"1\": 9, \"0\": 2}, \"4\": {\"4\": 1086, \"12\": 104, \"10\": 5, \"7\": 4, \"14\": 1}, \"10\": {\"10\": 610, \"7\": 417, \"0\": 11, \"15\": 9, \"8\": 51, \"3\": 42, \"5\": 46, \"4\": 3, \"13\": 10, \"12\": 1}, \"6\": {\"6\": 790, \"9\": 389, \"0\": 3, \"15\": 1, \"1\": 1, \"3\": 16}}, \"26\": {\"10\": {\"10\": 319, \"8\": 100, \"14\": 181, \"1\": 172, \"6\": 125, \"15\": 5, \"0\": 168, \"7\": 16, \"4\": 74, \"12\": 8, \"9\": 14, \"5\": 2, \"2\": 14, \"3\": 1, \"13\": 1}, \"12\": {\"12\": 1198, \"11\": 2}, \"1\": {\"1\": 538, \"0\": 188, \"10\": 162, \"14\": 257, \"8\": 26, \"4\": 24, \"15\": 1, \"2\": 1, \"5\": 1, \"6\": 2}, \"0\": {\"10\": 163, \"1\": 186, \"14\": 250, \"0\": 301, \"4\": 135, \"8\": 99, \"2\": 20, \"9\": 14, \"6\": 6, \"15\": 7, \"7\": 17, \"5\": 1, \"3\": 1}, \"15\": {\"3\": 355, \"15\": 441, \"2\": 166, \"7\": 116, \"4\": 83, \"5\": 9, \"8\": 17, \"10\": 4, \"0\": 6, \"9\": 3}, \"13\": {\"13\": 754, \"9\": 109, \"5\": 258, \"6\": 56, \"8\": 10, \"7\": 7, \"2\": 5, \"15\": 1}, \"8\": {\"15\": 10, \"4\": 51, \"8\": 382, \"2\": 102, \"7\": 117, \"9\": 151, \"1\": 27, \"10\": 76, \"0\": 90, \"13\": 10, \"5\": 62, \"6\": 27, \"14\": 88, \"3\": 7}, \"3\": {\"3\": 501, \"2\": 141, \"4\": 100, \"15\": 340, \"7\": 106, \"8\": 2, \"5\": 5, \"9\": 3, \"0\": 2}, \"11\": {\"11\": 1191, \"12\": 9}, \"4\": {\"15\": 70, \"4\": 520, \"10\": 24, \"3\": 85, \"8\": 89, \"0\": 122, \"7\": 82, \"14\": 71, \"2\": 113, \"1\": 18, \"5\": 2, \"9\": 4}, \"6\": {\"6\": 782, \"8\": 34, \"9\": 141, \"10\": 79, \"5\": 66, \"7\": 2, \"14\": 17, \"13\": 60, \"1\": 6, \"0\": 9, \"2\": 4}, \"7\": {\"15\": 98, \"7\": 365, \"8\": 89, \"2\": 283, \"3\": 95, \"9\": 53, \"13\": 9, \"5\": 76, \"4\": 88, \"0\": 18, \"14\": 16, \"10\": 7, \"6\": 2, \"1\": 1}, \"14\": {\"1\": 277, \"15\": 1, \"0\": 233, \"14\": 285, \"8\": 107, \"10\": 176, \"9\": 17, \"4\": 69, \"2\": 9, \"5\": 5, \"7\": 9, \"6\": 12}, \"2\": {\"7\": 297, \"3\": 133, \"8\": 102, \"4\": 135, \"2\": 263, \"15\": 122, \"14\": 5, \"0\": 22, \"9\": 47, \"5\": 57, \"10\": 9, \"13\": 5, \"6\": 1, \"1\": 2}, \"5\": {\"5\": 349, \"13\": 268, \"8\": 46, \"9\": 134, \"2\": 67, \"7\": 122, \"10\": 15, \"6\": 147, \"1\": 1, \"3\": 22, \"15\": 22, \"4\": 3, \"0\": 2, \"14\": 2}, \"9\": {\"6\": 145, \"8\": 155, \"5\": 167, \"4\": 6, \"13\": 126, \"9\": 442, \"2\": 35, \"7\": 69, \"14\": 15, \"10\": 17, \"0\": 15, \"15\": 6, \"3\": 2}}, \"20\": {\"5\": {\"1\": 45, \"5\": 263, \"12\": 108, \"3\": 189, \"4\": 48, \"2\": 187, \"9\": 115, \"13\": 22, \"7\": 57, \"15\": 68, \"0\": 70, \"8\": 22, \"10\": 6}, \"15\": {\"1\": 130, \"3\": 15, \"9\": 111, \"15\": 294, \"2\": 141, \"13\": 274, \"0\": 48, \"12\": 109, \"5\": 77, \"4\": 1}, \"9\": {\"15\": 132, \"2\": 234, \"3\": 142, \"9\": 289, \"5\": 131, \"12\": 119, \"13\": 58, \"7\": 13, \"4\": 11, \"0\": 24, \"10\": 3, \"1\": 41, \"8\": 3}, \"7\": {\"7\": 755, \"6\": 29, \"3\": 151, \"8\": 132, \"5\": 30, \"10\": 42, \"4\": 5, \"2\": 35, \"11\": 4, \"14\": 7, \"9\": 9, \"15\": 1}, \"3\": {\"3\": 337, \"5\": 201, \"8\": 43, \"9\": 131, \"2\": 193, \"7\": 180, \"12\": 34, \"15\": 17, \"1\": 3, \"4\": 25, \"10\": 16, \"13\": 12, \"0\": 7, \"14\": 1}, \"8\": {\"14\": 193, \"10\": 198, \"8\": 491, \"7\": 159, \"6\": 40, \"0\": 4, \"3\": 26, \"5\": 18, \"4\": 66, \"2\": 3, \"12\": 2}, \"4\": {\"12\": 53, \"4\": 888, \"5\": 57, \"0\": 83, \"8\": 33, \"10\": 36, \"3\": 19, \"1\": 9, \"9\": 8, \"14\": 5, \"2\": 9}, \"6\": {\"6\": 1002, \"14\": 91, \"8\": 30, \"10\": 41, \"7\": 36}, \"2\": {\"5\": 196, \"3\": 172, \"15\": 106, \"9\": 248, \"12\": 61, \"2\": 270, \"7\": 30, \"13\": 81, \"4\": 8, \"1\": 15, \"8\": 3, \"0\": 8, \"10\": 1, \"14\": 1}, \"12\": {\"15\": 105, \"1\": 231, \"12\": 304, \"4\": 51, \"3\": 36, \"9\": 100, \"0\": 158, \"2\": 79, \"5\": 108, \"13\": 26, \"8\": 2}, \"0\": {\"12\": 174, \"0\": 508, \"4\": 111, \"1\": 204, \"3\": 15, \"13\": 19, \"5\": 72, \"15\": 62, \"9\": 23, \"2\": 11, \"8\": 1}, \"13\": {\"13\": 726, \"15\": 280, \"2\": 55, \"9\": 62, \"5\": 22, \"3\": 9, \"1\": 22, \"0\": 7, \"12\": 17}, \"10\": {\"8\": 183, \"10\": 659, \"14\": 190, \"7\": 50, \"6\": 57, \"4\": 38, \"3\": 19, \"5\": 2, \"12\": 2}, \"11\": {\"11\": 1192, \"7\": 7, \"6\": 1}, \"14\": {\"14\": 677, \"6\": 143, \"10\": 221, \"8\": 143, \"7\": 10, \"4\": 5, \"3\": 1}, \"1\": {\"13\": 41, \"1\": 527, \"4\": 14, \"15\": 140, \"0\": 184, \"12\": 202, \"5\": 33, \"2\": 17, \"3\": 2, \"9\": 40}}, \"14\": {\"13\": {\"13\": 775, \"6\": 323, \"2\": 78, \"14\": 20, \"4\": 2, \"5\": 2}, \"4\": {\"3\": 125, \"5\": 353, \"4\": 548, \"1\": 54, \"2\": 100, \"13\": 1, \"14\": 14, \"6\": 5}, \"6\": {\"6\": 656, \"2\": 69, \"13\": 301, \"14\": 163, \"5\": 2, \"4\": 8, \"3\": 1}, \"0\": {\"0\": 1138, \"10\": 51, \"3\": 6, \"14\": 4, \"11\": 1}, \"10\": {\"10\": 1001, \"0\": 155, \"11\": 40, \"14\": 1, \"9\": 1, \"12\": 1, \"2\": 1}, \"7\": {\"7\": 1160, \"15\": 40}, \"14\": {\"14\": 758, \"6\": 177, \"4\": 19, \"2\": 124, \"3\": 74, \"5\": 14, \"13\": 16, \"0\": 17, \"10\": 1}, \"15\": {\"15\": 1151, \"7\": 49}, \"5\": {\"2\": 120, \"1\": 161, \"5\": 506, \"4\": 327, \"3\": 74, \"14\": 8, \"13\": 3, \"6\": 1}, \"2\": {\"2\": 439, \"14\": 174, \"5\": 143, \"13\": 131, \"4\": 113, \"6\": 80, \"3\": 96, \"1\": 8, \"7\": 5, \"15\": 10, \"0\": 1}, \"9\": {\"9\": 1186, \"12\": 4, \"11\": 6, \"0\": 2, \"10\": 2}, \"12\": {\"11\": 311, \"8\": 45, \"12\": 590, \"9\": 123, \"10\": 39, \"0\": 89, \"2\": 1, \"3\": 1, \"14\": 1}, \"8\": {\"8\": 1197, \"9\": 3}, \"3\": {\"3\": 885, \"5\": 93, \"14\": 49, \"4\": 123, \"1\": 13, \"2\": 32, \"0\": 4, \"6\": 1}, \"1\": {\"1\": 1011, \"4\": 54, \"5\": 123, \"2\": 5, \"3\": 6, \"7\": 1}, \"11\": {\"11\": 1135, \"12\": 38, \"10\": 19, \"9\": 7, \"0\": 1}}}, \"per_domain_accuracy\": {\"32\": {\"accuracy\": 0.73859375, \"source?\": true}, \"50\": {\"accuracy\": 0.75953125, \"source?\": true}, \"8\": {\"accuracy\": 0.64484375, \"source?\": true}, \"44\": {\"accuracy\": 0.7221354166666667, \"source?\": false}, \"38\": {\"accuracy\": 0.5834895833333333, \"source?\": false}, \"26\": {\"accuracy\": 0.44953125, \"source?\": false}, \"20\": {\"accuracy\": 0.47822916666666665, \"source?\": false}, \"14\": {\"accuracy\": 0.73625, \"source?\": false}}}, \"history\": {\"epoch_indices\": [1, 2, 3, 4, 5, 6, 7, 8, 9, 10, 11, 12, 13, 14], \"train_label_loss\": [1.3253441712898868, 0.8180873282939669, 0.6998176784446788, 0.6251107626301902, 0.5532848770644456, 0.486711149222794, 0.4324192802758799, 0.3818464649022217, 0.3388179866385661, 0.2988329451452083, 0.26626841067609985, 0.23756344292412646, 0.21262249425131208, 0.1916762754986144], \"source_val_label_loss\": [1.0182589292526245, 0.8320614695549011, 0.8111065030097961, 0.7902314066886902, 0.8054169416427612, 0.8137692809104919, 0.8630719184875488, 0.8728431463241577, 0.8929790258407593, 0.9248330593109131, 0.9784911870956421, 1.0310906171798706, 1.0651240348815918, 1.1361733675003052], \"target_val_label_loss\": [1.4592260122299194, 1.248899221420288, 1.2201322317123413, 1.226045846939087, 1.2514821290969849, 1.2836540937423706, 1.3319774866104126, 1.3587805032730103, 1.4040260314941406, 1.4383437633514404, 1.5132838487625122, 1.5734574794769287, 1.6245144605636597, 1.7125555276870728], \"source_val_acc_label\": [0.6181076388888889, 0.6824131944444445, 0.6818923611111111, 0.7004166666666667, 0.7031770833333333, 0.7132291666666667, 0.7046180555555556, 0.7049652777777777, 0.7127604166666667, 0.7143229166666667, 0.7078645833333334, 0.7019618055555555, 0.7076736111111112, 0.7000868055555556], \"target_val_acc_label\": [0.5021666666666667, 0.5612916666666666, 0.5664166666666667, 0.5815833333333333, 0.5872291666666667, 0.5925416666666666, 0.59153125, 0.5890625, 0.5924479166666666, 0.5939270833333333, 0.5874791666666667, 0.58559375, 0.5884895833333333, 0.5815]}, \"dataset_metrics\": {\"source\": {\"train\": {\"n_unique_x\": 336000, \"n_unique_y\": 16, \"n_batch/episode\": 12600}, \"val\": {\"n_unique_x\": 72000, \"n_unique_y\": 16, \"n_batch/episode\": 1800}, \"test\": {\"n_unique_x\": 72000, \"n_unique_y\": 16, \"n_batch/episode\": 1800}}, \"target\": {\"train\": {\"n_unique_x\": 560000, \"n_unique_y\": 16, \"n_batch/episode\": 21000}, \"val\": {\"n_unique_x\": 120000, \"n_unique_y\": 16, \"n_batch/episode\": 3000}, \"test\": {\"n_unique_x\": 120000, \"n_unique_y\": 16, \"n_batch/episode\": 3000}}}}'"
      ]
     },
     "execution_count": 20,
     "metadata": {},
     "output_type": "execute_result"
    }
   ],
   "source": [
    "json.dumps(experiment)"
   ]
  }
 ],
 "metadata": {
  "celltoolbar": "Tags",
  "kernelspec": {
   "display_name": "Python 3 (ipykernel)",
   "language": "python",
   "name": "python3"
  },
  "language_info": {
   "codemirror_mode": {
    "name": "ipython",
    "version": 3
   },
   "file_extension": ".py",
   "mimetype": "text/x-python",
   "name": "python",
   "nbconvert_exporter": "python",
   "pygments_lexer": "ipython3",
   "version": "3.8.12"
  },
  "papermill": {
   "default_parameters": {},
   "duration": 4858.302157,
   "end_time": "2022-03-26T15:46:05.049219",
   "environment_variables": {},
   "exception": null,
   "input_path": "/root/csc500-main/csc500-notebooks/templates/ptn_template.ipynb",
   "output_path": "trial.ipynb",
   "parameters": {
    "parameters": {
     "BEST_MODEL_PATH": "./best_model.pth",
     "NUM_LOGS_PER_EPOCH": 10,
     "criteria_for_best": "target_accuracy",
     "dataset_seed": 154325,
     "device": "cuda",
     "domains_source": [
      8,
      32,
      50
     ],
     "domains_target": [
      14,
      20,
      26,
      38,
      44
     ],
     "episode_transforms_source": [],
     "episode_transforms_target": [],
     "experiment_name": "tuned_1v2:oracle.run2_limited",
     "labels_source": [
      "3123D52",
      "3123D65",
      "3123D79",
      "3123D80",
      "3123D54",
      "3123D70",
      "3123D7B",
      "3123D89",
      "3123D58",
      "3123D76",
      "3123D7D",
      "3123EFE",
      "3123D64",
      "3123D78",
      "3123D7E",
      "3124E4A"
     ],
     "labels_target": [
      "3123D52",
      "3123D65",
      "3123D79",
      "3123D80",
      "3123D54",
      "3123D70",
      "3123D7B",
      "3123D89",
      "3123D58",
      "3123D76",
      "3123D7D",
      "3123EFE",
      "3123D64",
      "3123D78",
      "3123D7E",
      "3124E4A"
     ],
     "lr": 0.0001,
     "n_epoch": 50,
     "n_query": 2,
     "n_shot": 3,
     "n_way": 16,
     "num_examples_per_domain_per_label_source": -1,
     "num_examples_per_domain_per_label_target": -1,
     "patience": 3,
     "pickle_name": "oracle.Run2_10kExamples_stratified_ds.2022A.pkl",
     "seed": 154325,
     "test_k_factor": 2,
     "torch_default_dtype": "torch.float32",
     "train_k_factor": 3,
     "val_k_factor": 2,
     "x_net": [
      {
       "class": "nnReshape",
       "kargs": {
        "shape": [
         -1,
         1,
         2,
         256
        ]
       }
      },
      {
       "class": "Conv2d",
       "kargs": {
        "bias": false,
        "in_channels": 1,
        "kernel_size": [
         1,
         7
        ],
        "out_channels": 256,
        "padding": [
         0,
         3
        ]
       }
      },
      {
       "class": "ReLU",
       "kargs": {
        "inplace": true
       }
      },
      {
       "class": "BatchNorm2d",
       "kargs": {
        "num_features": 256
       }
      },
      {
       "class": "Conv2d",
       "kargs": {
        "bias": true,
        "in_channels": 256,
        "kernel_size": [
         2,
         7
        ],
        "out_channels": 80,
        "padding": [
         0,
         3
        ]
       }
      },
      {
       "class": "ReLU",
       "kargs": {
        "inplace": true
       }
      },
      {
       "class": "BatchNorm2d",
       "kargs": {
        "num_features": 80
       }
      },
      {
       "class": "Flatten",
       "kargs": {}
      },
      {
       "class": "Linear",
       "kargs": {
        "in_features": 20480,
        "out_features": 256
       }
      },
      {
       "class": "ReLU",
       "kargs": {
        "inplace": true
       }
      },
      {
       "class": "BatchNorm1d",
       "kargs": {
        "num_features": 256
       }
      },
      {
       "class": "Linear",
       "kargs": {
        "in_features": 256,
        "out_features": 256
       }
      }
     ],
     "x_transforms_source": [
      "unit_mag"
     ],
     "x_transforms_target": [
      "unit_mag"
     ]
    }
   },
   "start_time": "2022-03-26T14:25:06.747062",
   "version": "2.3.4"
  }
 },
 "nbformat": 4,
 "nbformat_minor": 5
}