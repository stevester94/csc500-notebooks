{
 "cells": [
  {
   "cell_type": "markdown",
   "id": "9fea5f46",
   "metadata": {
    "papermill": {
     "duration": 0.014086,
     "end_time": "2022-04-01T16:37:31.756069",
     "exception": false,
     "start_time": "2022-04-01T16:37:31.741983",
     "status": "completed"
    },
    "tags": []
   },
   "source": [
    "# PTN Template\n",
    "This notebook serves as a template for single dataset PTN experiments  \n",
    "It can be run on its own by setting STANDALONE to True (do a find for \"STANDALONE\" to see where)  \n",
    "But it is intended to be executed as part of a *papermill.py script. See any of the   \n",
    "experimentes with a papermill script to get started with that workflow.  "
   ]
  },
  {
   "cell_type": "code",
   "execution_count": 1,
   "id": "0902182a",
   "metadata": {
    "execution": {
     "iopub.execute_input": "2022-04-01T16:37:31.789824Z",
     "iopub.status.busy": "2022-04-01T16:37:31.789561Z",
     "iopub.status.idle": "2022-04-01T16:37:32.700850Z",
     "shell.execute_reply": "2022-04-01T16:37:32.700594Z"
    },
    "papermill": {
     "duration": 0.93451,
     "end_time": "2022-04-01T16:37:32.700907",
     "exception": false,
     "start_time": "2022-04-01T16:37:31.766397",
     "status": "completed"
    },
    "tags": []
   },
   "outputs": [],
   "source": [
    "%load_ext autoreload\n",
    "%autoreload 2\n",
    "%matplotlib inline\n",
    "\n",
    "    \n",
    "import os, json, sys, time, random\n",
    "import numpy as np\n",
    "import torch\n",
    "from torch.optim import Adam\n",
    "from  easydict import EasyDict\n",
    "import matplotlib.pyplot as plt\n",
    "\n",
    "from steves_models.steves_ptn import Steves_Prototypical_Network\n",
    "\n",
    "from steves_utils.lazy_iterable_wrapper import Lazy_Iterable_Wrapper\n",
    "from steves_utils.iterable_aggregator import Iterable_Aggregator\n",
    "from steves_utils.ptn_train_eval_test_jig import  PTN_Train_Eval_Test_Jig\n",
    "from steves_utils.torch_sequential_builder import build_sequential\n",
    "from steves_utils.torch_utils import get_dataset_metrics, ptn_confusion_by_domain_over_dataloader\n",
    "from steves_utils.utils_v2 import (per_domain_accuracy_from_confusion, get_datasets_base_path)\n",
    "from steves_utils.PTN.utils import independent_accuracy_assesment\n",
    "\n",
    "from steves_utils.stratified_dataset.episodic_accessor import Episodic_Accessor_Factory\n",
    "\n",
    "from steves_utils.ptn_do_report import (\n",
    "    get_loss_curve,\n",
    "    get_results_table,\n",
    "    get_parameters_table,\n",
    "    get_domain_accuracies,\n",
    ")\n",
    "\n",
    "from steves_utils.transforms import get_chained_transform"
   ]
  },
  {
   "cell_type": "markdown",
   "id": "41c840b4",
   "metadata": {
    "papermill": {
     "duration": 0.009184,
     "end_time": "2022-04-01T16:37:32.723521",
     "exception": false,
     "start_time": "2022-04-01T16:37:32.714337",
     "status": "completed"
    },
    "tags": []
   },
   "source": [
    "# Required Parameters\n",
    "These are allowed parameters, not defaults\n",
    "Each of these values need to be present in the injected parameters (the notebook will raise an exception if they are not present)\n",
    "\n",
    "Papermill uses the cell tag \"parameters\" to inject the real parameters below this cell.\n",
    "Enable tags to see what I mean"
   ]
  },
  {
   "cell_type": "code",
   "execution_count": 2,
   "id": "fd44eb83",
   "metadata": {
    "execution": {
     "iopub.execute_input": "2022-04-01T16:37:32.745576Z",
     "iopub.status.busy": "2022-04-01T16:37:32.745314Z",
     "iopub.status.idle": "2022-04-01T16:37:32.759844Z",
     "shell.execute_reply": "2022-04-01T16:37:32.759456Z"
    },
    "papermill": {
     "duration": 0.027084,
     "end_time": "2022-04-01T16:37:32.759933",
     "exception": false,
     "start_time": "2022-04-01T16:37:32.732849",
     "status": "completed"
    },
    "tags": []
   },
   "outputs": [],
   "source": [
    "required_parameters = {\n",
    "    \"experiment_name\",\n",
    "    \"lr\",\n",
    "    \"device\",\n",
    "    \"seed\",\n",
    "    \"dataset_seed\",\n",
    "    \"labels_source\",\n",
    "    \"labels_target\",\n",
    "    \"domains_source\",\n",
    "    \"domains_target\",\n",
    "    \"num_examples_per_domain_per_label_source\",\n",
    "    \"num_examples_per_domain_per_label_target\",\n",
    "    \"n_shot\",\n",
    "    \"n_way\",\n",
    "    \"n_query\",\n",
    "    \"train_k_factor\",\n",
    "    \"val_k_factor\",\n",
    "    \"test_k_factor\",\n",
    "    \"n_epoch\",\n",
    "    \"patience\",\n",
    "    \"criteria_for_best\",\n",
    "    \"x_transforms_source\",\n",
    "    \"x_transforms_target\",\n",
    "    \"episode_transforms_source\",\n",
    "    \"episode_transforms_target\",\n",
    "    \"pickle_name\",\n",
    "    \"x_net\",\n",
    "    \"NUM_LOGS_PER_EPOCH\",\n",
    "    \"BEST_MODEL_PATH\",\n",
    "    \"torch_default_dtype\"\n",
    "}"
   ]
  },
  {
   "cell_type": "code",
   "execution_count": 3,
   "id": "fa3f0049",
   "metadata": {
    "execution": {
     "iopub.execute_input": "2022-04-01T16:37:32.794583Z",
     "iopub.status.busy": "2022-04-01T16:37:32.794181Z",
     "iopub.status.idle": "2022-04-01T16:37:32.805190Z",
     "shell.execute_reply": "2022-04-01T16:37:32.805538Z"
    },
    "papermill": {
     "duration": 0.030963,
     "end_time": "2022-04-01T16:37:32.805642",
     "exception": false,
     "start_time": "2022-04-01T16:37:32.774679",
     "status": "completed"
    },
    "tags": [
     "parameters"
    ]
   },
   "outputs": [],
   "source": [
    "\n",
    "\n",
    "standalone_parameters = {}\n",
    "standalone_parameters[\"experiment_name\"] = \"STANDALONE PTN\"\n",
    "standalone_parameters[\"lr\"] = 0.0001\n",
    "standalone_parameters[\"device\"] = \"cuda\"\n",
    "\n",
    "standalone_parameters[\"seed\"] = 1337\n",
    "standalone_parameters[\"dataset_seed\"] = 1337\n",
    "\n",
    "\n",
    "standalone_parameters[\"num_examples_per_domain_per_label_source\"]=100\n",
    "standalone_parameters[\"num_examples_per_domain_per_label_target\"]=100\n",
    "\n",
    "standalone_parameters[\"n_shot\"] = 3\n",
    "standalone_parameters[\"n_query\"]  = 2\n",
    "standalone_parameters[\"train_k_factor\"] = 1\n",
    "standalone_parameters[\"val_k_factor\"] = 2\n",
    "standalone_parameters[\"test_k_factor\"] = 2\n",
    "\n",
    "\n",
    "standalone_parameters[\"n_epoch\"] = 100\n",
    "\n",
    "standalone_parameters[\"patience\"] = 10\n",
    "standalone_parameters[\"criteria_for_best\"] = \"target_accuracy\"\n",
    "\n",
    "standalone_parameters[\"x_transforms_source\"] = [\"unit_power\"]\n",
    "standalone_parameters[\"x_transforms_target\"] = [\"unit_power\"]\n",
    "standalone_parameters[\"episode_transforms_source\"] = []\n",
    "standalone_parameters[\"episode_transforms_target\"] = []\n",
    "\n",
    "standalone_parameters[\"torch_default_dtype\"] = \"torch.float32\" \n",
    "\n",
    "\n",
    "\n",
    "standalone_parameters[\"x_net\"] =     [\n",
    "    {\"class\": \"nnReshape\", \"kargs\": {\"shape\":[-1, 1, 2, 256]}},\n",
    "    {\"class\": \"Conv2d\", \"kargs\": { \"in_channels\":1, \"out_channels\":256, \"kernel_size\":(1,7), \"bias\":False, \"padding\":(0,3), },},\n",
    "    {\"class\": \"ReLU\", \"kargs\": {\"inplace\": True}},\n",
    "    {\"class\": \"BatchNorm2d\", \"kargs\": {\"num_features\":256}},\n",
    "\n",
    "    {\"class\": \"Conv2d\", \"kargs\": { \"in_channels\":256, \"out_channels\":80, \"kernel_size\":(2,7), \"bias\":True, \"padding\":(0,3), },},\n",
    "    {\"class\": \"ReLU\", \"kargs\": {\"inplace\": True}},\n",
    "    {\"class\": \"BatchNorm2d\", \"kargs\": {\"num_features\":80}},\n",
    "    {\"class\": \"Flatten\", \"kargs\": {}},\n",
    "\n",
    "    {\"class\": \"Linear\", \"kargs\": {\"in_features\": 80*256, \"out_features\": 256}}, # 80 units per IQ pair\n",
    "    {\"class\": \"ReLU\", \"kargs\": {\"inplace\": True}},\n",
    "    {\"class\": \"BatchNorm1d\", \"kargs\": {\"num_features\":256}},\n",
    "\n",
    "    {\"class\": \"Linear\", \"kargs\": {\"in_features\": 256, \"out_features\": 256}},\n",
    "]\n",
    "\n",
    "# Parameters relevant to results\n",
    "# These parameters will basically never need to change\n",
    "standalone_parameters[\"NUM_LOGS_PER_EPOCH\"] = 10\n",
    "standalone_parameters[\"BEST_MODEL_PATH\"] = \"./best_model.pth\"\n",
    "\n",
    "# uncomment for CORES dataset\n",
    "from steves_utils.CORES.utils import (\n",
    "    ALL_NODES,\n",
    "    ALL_NODES_MINIMUM_1000_EXAMPLES,\n",
    "    ALL_DAYS\n",
    ")\n",
    "\n",
    "\n",
    "standalone_parameters[\"labels_source\"] = ALL_NODES\n",
    "standalone_parameters[\"labels_target\"] = ALL_NODES\n",
    "\n",
    "standalone_parameters[\"domains_source\"] = [1]\n",
    "standalone_parameters[\"domains_target\"] = [2,3,4,5]\n",
    "\n",
    "standalone_parameters[\"pickle_name\"] = \"cores.stratified_ds.2022A.pkl\"\n",
    "\n",
    "\n",
    "# Uncomment these for ORACLE dataset\n",
    "# from steves_utils.ORACLE.utils_v2 import (\n",
    "#     ALL_DISTANCES_FEET,\n",
    "#     ALL_RUNS,\n",
    "#     ALL_SERIAL_NUMBERS,\n",
    "# )\n",
    "# standalone_parameters[\"labels_source\"] = ALL_SERIAL_NUMBERS\n",
    "# standalone_parameters[\"labels_target\"] = ALL_SERIAL_NUMBERS\n",
    "# standalone_parameters[\"domains_source\"] = [8,20, 38,50]\n",
    "# standalone_parameters[\"domains_target\"] = [14, 26, 32, 44, 56]\n",
    "# standalone_parameters[\"pickle_name\"] = \"oracle.frame_indexed.stratified_ds.2022A.pkl\"\n",
    "# standalone_parameters[\"num_examples_per_domain_per_label_source\"]=1000\n",
    "# standalone_parameters[\"num_examples_per_domain_per_label_target\"]=1000\n",
    "\n",
    "# Uncomment these for Metahan dataset\n",
    "# standalone_parameters[\"labels_source\"] = list(range(19))\n",
    "# standalone_parameters[\"labels_target\"] = list(range(19))\n",
    "# standalone_parameters[\"domains_source\"] = [0]\n",
    "# standalone_parameters[\"domains_target\"] = [1]\n",
    "# standalone_parameters[\"pickle_name\"] = \"metehan.stratified_ds.2022A.pkl\"\n",
    "# standalone_parameters[\"n_way\"]  = len(standalone_parameters[\"labels_source\"])\n",
    "# standalone_parameters[\"num_examples_per_domain_per_label_source\"]=200\n",
    "# standalone_parameters[\"num_examples_per_domain_per_label_target\"]=100\n",
    "\n",
    "\n",
    "standalone_parameters[\"n_way\"]  = len(standalone_parameters[\"labels_source\"])"
   ]
  },
  {
   "cell_type": "code",
   "execution_count": 4,
   "id": "b09a257c",
   "metadata": {
    "execution": {
     "iopub.execute_input": "2022-04-01T16:37:32.834392Z",
     "iopub.status.busy": "2022-04-01T16:37:32.833981Z",
     "iopub.status.idle": "2022-04-01T16:37:32.844775Z",
     "shell.execute_reply": "2022-04-01T16:37:32.844391Z"
    },
    "papermill": {
     "duration": 0.025158,
     "end_time": "2022-04-01T16:37:32.844863",
     "exception": false,
     "start_time": "2022-04-01T16:37:32.819705",
     "status": "completed"
    },
    "tags": [
     "injected-parameters"
    ]
   },
   "outputs": [],
   "source": [
    "# Parameters\n",
    "parameters = {\n",
    "    \"experiment_name\": \"tuned_1v2:oracle.run2_limited\",\n",
    "    \"device\": \"cuda\",\n",
    "    \"lr\": 0.0001,\n",
    "    \"labels_source\": [\n",
    "        \"3123D52\",\n",
    "        \"3123D65\",\n",
    "        \"3123D79\",\n",
    "        \"3123D80\",\n",
    "        \"3123D54\",\n",
    "        \"3123D70\",\n",
    "        \"3123D7B\",\n",
    "        \"3123D89\",\n",
    "        \"3123D58\",\n",
    "        \"3123D76\",\n",
    "        \"3123D7D\",\n",
    "        \"3123EFE\",\n",
    "        \"3123D64\",\n",
    "        \"3123D78\",\n",
    "        \"3123D7E\",\n",
    "        \"3124E4A\",\n",
    "    ],\n",
    "    \"labels_target\": [\n",
    "        \"3123D52\",\n",
    "        \"3123D65\",\n",
    "        \"3123D79\",\n",
    "        \"3123D80\",\n",
    "        \"3123D54\",\n",
    "        \"3123D70\",\n",
    "        \"3123D7B\",\n",
    "        \"3123D89\",\n",
    "        \"3123D58\",\n",
    "        \"3123D76\",\n",
    "        \"3123D7D\",\n",
    "        \"3123EFE\",\n",
    "        \"3123D64\",\n",
    "        \"3123D78\",\n",
    "        \"3123D7E\",\n",
    "        \"3124E4A\",\n",
    "    ],\n",
    "    \"episode_transforms_source\": [],\n",
    "    \"episode_transforms_target\": [],\n",
    "    \"domains_source\": [8, 32, 50],\n",
    "    \"domains_target\": [14, 20, 26, 38, 44],\n",
    "    \"num_examples_per_domain_per_label_source\": 2000,\n",
    "    \"num_examples_per_domain_per_label_target\": 2000,\n",
    "    \"n_shot\": 3,\n",
    "    \"n_way\": 16,\n",
    "    \"n_query\": 2,\n",
    "    \"train_k_factor\": 3,\n",
    "    \"val_k_factor\": 2,\n",
    "    \"test_k_factor\": 2,\n",
    "    \"torch_default_dtype\": \"torch.float32\",\n",
    "    \"n_epoch\": 50,\n",
    "    \"patience\": 3,\n",
    "    \"criteria_for_best\": \"target_accuracy\",\n",
    "    \"x_net\": [\n",
    "        {\"class\": \"nnReshape\", \"kargs\": {\"shape\": [-1, 1, 2, 256]}},\n",
    "        {\n",
    "            \"class\": \"Conv2d\",\n",
    "            \"kargs\": {\n",
    "                \"in_channels\": 1,\n",
    "                \"out_channels\": 256,\n",
    "                \"kernel_size\": [1, 7],\n",
    "                \"bias\": False,\n",
    "                \"padding\": [0, 3],\n",
    "            },\n",
    "        },\n",
    "        {\"class\": \"ReLU\", \"kargs\": {\"inplace\": True}},\n",
    "        {\"class\": \"BatchNorm2d\", \"kargs\": {\"num_features\": 256}},\n",
    "        {\n",
    "            \"class\": \"Conv2d\",\n",
    "            \"kargs\": {\n",
    "                \"in_channels\": 256,\n",
    "                \"out_channels\": 80,\n",
    "                \"kernel_size\": [2, 7],\n",
    "                \"bias\": True,\n",
    "                \"padding\": [0, 3],\n",
    "            },\n",
    "        },\n",
    "        {\"class\": \"ReLU\", \"kargs\": {\"inplace\": True}},\n",
    "        {\"class\": \"BatchNorm2d\", \"kargs\": {\"num_features\": 80}},\n",
    "        {\"class\": \"Flatten\", \"kargs\": {}},\n",
    "        {\"class\": \"Linear\", \"kargs\": {\"in_features\": 20480, \"out_features\": 256}},\n",
    "        {\"class\": \"ReLU\", \"kargs\": {\"inplace\": True}},\n",
    "        {\"class\": \"BatchNorm1d\", \"kargs\": {\"num_features\": 256}},\n",
    "        {\"class\": \"Linear\", \"kargs\": {\"in_features\": 256, \"out_features\": 256}},\n",
    "    ],\n",
    "    \"NUM_LOGS_PER_EPOCH\": 10,\n",
    "    \"BEST_MODEL_PATH\": \"./best_model.pth\",\n",
    "    \"pickle_name\": \"oracle.Run2_10kExamples_stratified_ds.2022A.pkl\",\n",
    "    \"x_transforms_source\": [\"unit_mag\"],\n",
    "    \"x_transforms_target\": [\"unit_mag\"],\n",
    "    \"dataset_seed\": 154325,\n",
    "    \"seed\": 154325,\n",
    "}\n"
   ]
  },
  {
   "cell_type": "code",
   "execution_count": 5,
   "id": "8fa1cc33",
   "metadata": {
    "execution": {
     "iopub.execute_input": "2022-04-01T16:37:32.870988Z",
     "iopub.status.busy": "2022-04-01T16:37:32.870726Z",
     "iopub.status.idle": "2022-04-01T16:37:32.880321Z",
     "shell.execute_reply": "2022-04-01T16:37:32.880684Z"
    },
    "papermill": {
     "duration": 0.021921,
     "end_time": "2022-04-01T16:37:32.880787",
     "exception": false,
     "start_time": "2022-04-01T16:37:32.858866",
     "status": "completed"
    },
    "tags": []
   },
   "outputs": [],
   "source": [
    "# Set this to True if you want to run this template directly\n",
    "STANDALONE = False\n",
    "if STANDALONE:\n",
    "    print(\"parameters not injected, running with standalone_parameters\")\n",
    "    parameters = standalone_parameters\n",
    "\n",
    "if not 'parameters' in locals() and not 'parameters' in globals():\n",
    "    raise Exception(\"Parameter injection failed\")\n",
    "\n",
    "#Use an easy dict for all the parameters\n",
    "p = EasyDict(parameters)\n",
    "\n",
    "supplied_keys = set(p.keys())\n",
    "\n",
    "if  supplied_keys != required_parameters:\n",
    "    print(\"Parameters are incorrect\")\n",
    "    if len(supplied_keys - required_parameters)>0: print(\"Shouldn't have:\", str(supplied_keys - required_parameters))\n",
    "    if len(required_parameters - supplied_keys)>0: print(\"Need to have:\", str(required_parameters - supplied_keys))\n",
    "    raise RuntimeError(\"Parameters are incorrect\")\n",
    "\n"
   ]
  },
  {
   "cell_type": "code",
   "execution_count": 6,
   "id": "3a028d58",
   "metadata": {
    "execution": {
     "iopub.execute_input": "2022-04-01T16:37:32.906259Z",
     "iopub.status.busy": "2022-04-01T16:37:32.906013Z",
     "iopub.status.idle": "2022-04-01T16:37:32.915564Z",
     "shell.execute_reply": "2022-04-01T16:37:32.915849Z"
    },
    "papermill": {
     "duration": 0.02093,
     "end_time": "2022-04-01T16:37:32.915930",
     "exception": false,
     "start_time": "2022-04-01T16:37:32.895000",
     "status": "completed"
    },
    "tags": []
   },
   "outputs": [],
   "source": [
    "###################################\n",
    "# Set the RNGs and make it all deterministic\n",
    "###################################\n",
    "np.random.seed(p.seed)\n",
    "random.seed(p.seed)\n",
    "torch.manual_seed(p.seed)\n",
    "\n",
    "torch.use_deterministic_algorithms(True) "
   ]
  },
  {
   "cell_type": "code",
   "execution_count": 7,
   "id": "b691acf6",
   "metadata": {
    "execution": {
     "iopub.execute_input": "2022-04-01T16:37:32.938881Z",
     "iopub.status.busy": "2022-04-01T16:37:32.938605Z",
     "iopub.status.idle": "2022-04-01T16:37:32.947630Z",
     "shell.execute_reply": "2022-04-01T16:37:32.947918Z"
    },
    "papermill": {
     "duration": 0.020162,
     "end_time": "2022-04-01T16:37:32.947999",
     "exception": false,
     "start_time": "2022-04-01T16:37:32.927837",
     "status": "completed"
    },
    "tags": []
   },
   "outputs": [],
   "source": [
    "###########################################\n",
    "# The stratified datasets honor this\n",
    "###########################################\n",
    "torch.set_default_dtype(eval(p.torch_default_dtype))"
   ]
  },
  {
   "cell_type": "code",
   "execution_count": 8,
   "id": "b5fba671",
   "metadata": {
    "execution": {
     "iopub.execute_input": "2022-04-01T16:37:32.970835Z",
     "iopub.status.busy": "2022-04-01T16:37:32.970581Z",
     "iopub.status.idle": "2022-04-01T16:37:33.005264Z",
     "shell.execute_reply": "2022-04-01T16:37:33.005551Z"
    },
    "papermill": {
     "duration": 0.045875,
     "end_time": "2022-04-01T16:37:33.005631",
     "exception": false,
     "start_time": "2022-04-01T16:37:32.959756",
     "status": "completed"
    },
    "tags": []
   },
   "outputs": [],
   "source": [
    "###################################\n",
    "# Build the network(s)\n",
    "# Note: It's critical to do this AFTER setting the RNG\n",
    "# (This is due to the randomized initial weights)\n",
    "###################################\n",
    "x_net = build_sequential(p.x_net)"
   ]
  },
  {
   "cell_type": "code",
   "execution_count": 9,
   "id": "5d7e61cc",
   "metadata": {
    "execution": {
     "iopub.execute_input": "2022-04-01T16:37:33.030800Z",
     "iopub.status.busy": "2022-04-01T16:37:33.030555Z",
     "iopub.status.idle": "2022-04-01T16:37:33.040899Z",
     "shell.execute_reply": "2022-04-01T16:37:33.041266Z"
    },
    "papermill": {
     "duration": 0.02191,
     "end_time": "2022-04-01T16:37:33.041370",
     "exception": false,
     "start_time": "2022-04-01T16:37:33.019460",
     "status": "completed"
    },
    "tags": []
   },
   "outputs": [],
   "source": [
    "start_time_secs = time.time()"
   ]
  },
  {
   "cell_type": "code",
   "execution_count": 10,
   "id": "fd5442bc",
   "metadata": {
    "execution": {
     "iopub.execute_input": "2022-04-01T16:37:33.070720Z",
     "iopub.status.busy": "2022-04-01T16:37:33.070452Z",
     "iopub.status.idle": "2022-04-01T16:37:50.911393Z",
     "shell.execute_reply": "2022-04-01T16:37:50.911057Z"
    },
    "papermill": {
     "duration": 17.855709,
     "end_time": "2022-04-01T16:37:50.911475",
     "exception": false,
     "start_time": "2022-04-01T16:37:33.055766",
     "status": "completed"
    },
    "tags": []
   },
   "outputs": [],
   "source": [
    "###################################\n",
    "# Build the dataset\n",
    "###################################\n",
    "\n",
    "if p.x_transforms_source == []: x_transform_source = None\n",
    "else: x_transform_source = get_chained_transform(p.x_transforms_source) \n",
    "\n",
    "if p.x_transforms_target == []: x_transform_target = None\n",
    "else: x_transform_target = get_chained_transform(p.x_transforms_target)\n",
    "\n",
    "if p.episode_transforms_source == []: episode_transform_source = None\n",
    "else: raise Exception(\"episode_transform_source not implemented\")\n",
    "\n",
    "if p.episode_transforms_target == []: episode_transform_target = None\n",
    "else: raise Exception(\"episode_transform_target not implemented\")\n",
    "\n",
    "\n",
    "eaf_source = Episodic_Accessor_Factory(\n",
    "    labels=p.labels_source,\n",
    "    domains=p.domains_source,\n",
    "    num_examples_per_domain_per_label=p.num_examples_per_domain_per_label_source,\n",
    "    iterator_seed=p.seed,\n",
    "    dataset_seed=p.dataset_seed,\n",
    "    n_shot=p.n_shot,\n",
    "    n_way=p.n_way,\n",
    "    n_query=p.n_query,\n",
    "    train_val_test_k_factors=(p.train_k_factor,p.val_k_factor,p.test_k_factor),\n",
    "    pickle_path=os.path.join(get_datasets_base_path(), p.pickle_name),\n",
    "    x_transform_func=x_transform_source,\n",
    "    example_transform_func=episode_transform_source,\n",
    "    \n",
    ")\n",
    "train_original_source, val_original_source, test_original_source = eaf_source.get_train(), eaf_source.get_val(), eaf_source.get_test()\n",
    "\n",
    "\n",
    "eaf_target = Episodic_Accessor_Factory(\n",
    "    labels=p.labels_target,\n",
    "    domains=p.domains_target,\n",
    "    num_examples_per_domain_per_label=p.num_examples_per_domain_per_label_target,\n",
    "    iterator_seed=p.seed,\n",
    "    dataset_seed=p.dataset_seed,\n",
    "    n_shot=p.n_shot,\n",
    "    n_way=p.n_way,\n",
    "    n_query=p.n_query,\n",
    "    train_val_test_k_factors=(p.train_k_factor,p.val_k_factor,p.test_k_factor),\n",
    "    pickle_path=os.path.join(get_datasets_base_path(), p.pickle_name),\n",
    "    x_transform_func=x_transform_target,\n",
    "    example_transform_func=episode_transform_target,\n",
    ")\n",
    "train_original_target, val_original_target, test_original_target = eaf_target.get_train(), eaf_target.get_val(), eaf_target.get_test()\n",
    "\n",
    "\n",
    "transform_lambda = lambda ex: ex[1] # Original is (<domain>, <episode>) so we strip down to episode only\n",
    "\n",
    "train_processed_source = Lazy_Iterable_Wrapper(train_original_source, transform_lambda)\n",
    "val_processed_source   = Lazy_Iterable_Wrapper(val_original_source, transform_lambda)\n",
    "test_processed_source  = Lazy_Iterable_Wrapper(test_original_source, transform_lambda)\n",
    "\n",
    "train_processed_target = Lazy_Iterable_Wrapper(train_original_target, transform_lambda)\n",
    "val_processed_target   = Lazy_Iterable_Wrapper(val_original_target, transform_lambda)\n",
    "test_processed_target  = Lazy_Iterable_Wrapper(test_original_target, transform_lambda)\n",
    "\n",
    "datasets = EasyDict({\n",
    "    \"source\": {\n",
    "        \"original\": {\"train\":train_original_source, \"val\":val_original_source, \"test\":test_original_source},\n",
    "        \"processed\": {\"train\":train_processed_source, \"val\":val_processed_source, \"test\":test_processed_source}\n",
    "    },\n",
    "    \"target\": {\n",
    "        \"original\": {\"train\":train_original_target, \"val\":val_original_target, \"test\":test_original_target},\n",
    "        \"processed\": {\"train\":train_processed_target, \"val\":val_processed_target, \"test\":test_processed_target}\n",
    "    },\n",
    "})"
   ]
  },
  {
   "cell_type": "code",
   "execution_count": 11,
   "id": "296189d9",
   "metadata": {
    "execution": {
     "iopub.execute_input": "2022-04-01T16:37:50.939030Z",
     "iopub.status.busy": "2022-04-01T16:37:50.938765Z",
     "iopub.status.idle": "2022-04-01T16:37:52.581539Z",
     "shell.execute_reply": "2022-04-01T16:37:52.581900Z"
    },
    "papermill": {
     "duration": 1.656944,
     "end_time": "2022-04-01T16:37:52.582008",
     "exception": false,
     "start_time": "2022-04-01T16:37:50.925064",
     "status": "completed"
    },
    "tags": []
   },
   "outputs": [
    {
     "name": "stdout",
     "output_type": "stream",
     "text": [
      "Visually inspect these to see if they line up with expected values given the transforms\n",
      "x_transforms_source ['unit_mag']\n",
      "x_transforms_target ['unit_mag']\n",
      "Average magnitude, source: 1.0\n",
      "Average power, source: 1.2736319\n"
     ]
    },
    {
     "name": "stdout",
     "output_type": "stream",
     "text": [
      "Average magnitude, target: 1.0\n",
      "Average power, target: 1.2400986\n"
     ]
    }
   ],
   "source": [
    "# Some quick unit tests on the data\n",
    "from steves_utils.transforms import get_average_power, get_average_magnitude\n",
    "\n",
    "q_x, q_y, s_x, s_y, truth = next(iter(train_processed_source))\n",
    "\n",
    "assert q_x.dtype == eval(p.torch_default_dtype)\n",
    "assert s_x.dtype == eval(p.torch_default_dtype)\n",
    "\n",
    "print(\"Visually inspect these to see if they line up with expected values given the transforms\")\n",
    "print('x_transforms_source', p.x_transforms_source)\n",
    "print('x_transforms_target', p.x_transforms_target)\n",
    "print(\"Average magnitude, source:\", get_average_magnitude(q_x[0].numpy()))\n",
    "print(\"Average power, source:\", get_average_power(q_x[0].numpy()))\n",
    "\n",
    "q_x, q_y, s_x, s_y, truth = next(iter(train_processed_target))\n",
    "print(\"Average magnitude, target:\", get_average_magnitude(q_x[0].numpy()))\n",
    "print(\"Average power, target:\", get_average_power(q_x[0].numpy()))\n"
   ]
  },
  {
   "cell_type": "code",
   "execution_count": 12,
   "id": "bbdacba1",
   "metadata": {
    "execution": {
     "iopub.execute_input": "2022-04-01T16:37:52.610832Z",
     "iopub.status.busy": "2022-04-01T16:37:52.610556Z",
     "iopub.status.idle": "2022-04-01T16:37:52.671558Z",
     "shell.execute_reply": "2022-04-01T16:37:52.671961Z"
    },
    "papermill": {
     "duration": 0.074963,
     "end_time": "2022-04-01T16:37:52.672080",
     "exception": false,
     "start_time": "2022-04-01T16:37:52.597117",
     "status": "completed"
    },
    "tags": []
   },
   "outputs": [
    {
     "name": "stdout",
     "output_type": "stream",
     "text": [
      "(2, 256)\n"
     ]
    }
   ],
   "source": [
    "###################################\n",
    "# Build the model\n",
    "###################################\n",
    "model = Steves_Prototypical_Network(x_net, device=p.device, x_shape=(2,256))\n",
    "optimizer = Adam(params=model.parameters(), lr=p.lr)"
   ]
  },
  {
   "cell_type": "code",
   "execution_count": 13,
   "id": "22b39ac5",
   "metadata": {
    "execution": {
     "iopub.execute_input": "2022-04-01T16:37:52.701869Z",
     "iopub.status.busy": "2022-04-01T16:37:52.701614Z",
     "iopub.status.idle": "2022-04-01T16:52:08.679144Z",
     "shell.execute_reply": "2022-04-01T16:52:08.678912Z"
    },
    "papermill": {
     "duration": 855.990204,
     "end_time": "2022-04-01T16:52:08.679205",
     "exception": false,
     "start_time": "2022-04-01T16:37:52.689001",
     "status": "completed"
    },
    "tags": []
   },
   "outputs": [
    {
     "name": "stdout",
     "output_type": "stream",
     "text": [
      "epoch: 1, [batch: 1 / 2520], examples_per_second: 123.5700, train_label_loss: 2.7747, \n"
     ]
    },
    {
     "name": "stdout",
     "output_type": "stream",
     "text": [
      "epoch: 1, [batch: 252 / 2520], examples_per_second: 3164.5792, train_label_loss: 2.7978, \n"
     ]
    },
    {
     "name": "stdout",
     "output_type": "stream",
     "text": [
      "epoch: 1, [batch: 504 / 2520], examples_per_second: 3188.1605, train_label_loss: 1.9769, \n"
     ]
    },
    {
     "name": "stdout",
     "output_type": "stream",
     "text": [
      "epoch: 1, [batch: 756 / 2520], examples_per_second: 3193.0086, train_label_loss: 1.5742, \n"
     ]
    },
    {
     "name": "stdout",
     "output_type": "stream",
     "text": [
      "epoch: 1, [batch: 1008 / 2520], examples_per_second: 3167.0420, train_label_loss: 1.7226, \n"
     ]
    },
    {
     "name": "stdout",
     "output_type": "stream",
     "text": [
      "epoch: 1, [batch: 1260 / 2520], examples_per_second: 3179.3299, train_label_loss: 1.3751, \n"
     ]
    },
    {
     "name": "stdout",
     "output_type": "stream",
     "text": [
      "epoch: 1, [batch: 1512 / 2520], examples_per_second: 3194.3830, train_label_loss: 2.0169, \n"
     ]
    },
    {
     "name": "stdout",
     "output_type": "stream",
     "text": [
      "epoch: 1, [batch: 1764 / 2520], examples_per_second: 3165.3329, train_label_loss: 1.6234, \n"
     ]
    },
    {
     "name": "stdout",
     "output_type": "stream",
     "text": [
      "epoch: 1, [batch: 2016 / 2520], examples_per_second: 3158.8950, train_label_loss: 1.2645, \n"
     ]
    },
    {
     "name": "stdout",
     "output_type": "stream",
     "text": [
      "epoch: 1, [batch: 2268 / 2520], examples_per_second: 3164.9999, train_label_loss: 1.2167, \n"
     ]
    },
    {
     "name": "stdout",
     "output_type": "stream",
     "text": [
      "=============================================================\n",
      "epoch: 1, source_val_acc_label: 0.3929, target_val_acc_label: 0.2843, source_val_label_loss: 1.4994, target_val_label_loss: 1.9017, \n",
      "=============================================================\n"
     ]
    },
    {
     "name": "stdout",
     "output_type": "stream",
     "text": [
      "New best\n"
     ]
    },
    {
     "name": "stdout",
     "output_type": "stream",
     "text": [
      "epoch: 2, [batch: 1 / 2520], examples_per_second: 11.1083, train_label_loss: 1.6231, \n"
     ]
    },
    {
     "name": "stdout",
     "output_type": "stream",
     "text": [
      "epoch: 2, [batch: 252 / 2520], examples_per_second: 3205.1200, train_label_loss: 1.2679, \n"
     ]
    },
    {
     "name": "stdout",
     "output_type": "stream",
     "text": [
      "epoch: 2, [batch: 504 / 2520], examples_per_second: 3179.7719, train_label_loss: 1.3906, \n"
     ]
    },
    {
     "name": "stdout",
     "output_type": "stream",
     "text": [
      "epoch: 2, [batch: 756 / 2520], examples_per_second: 3173.1900, train_label_loss: 1.4903, \n"
     ]
    },
    {
     "name": "stdout",
     "output_type": "stream",
     "text": [
      "epoch: 2, [batch: 1008 / 2520], examples_per_second: 3188.0162, train_label_loss: 1.7480, \n"
     ]
    },
    {
     "name": "stdout",
     "output_type": "stream",
     "text": [
      "epoch: 2, [batch: 1260 / 2520], examples_per_second: 3197.0163, train_label_loss: 1.5553, \n"
     ]
    },
    {
     "name": "stdout",
     "output_type": "stream",
     "text": [
      "epoch: 2, [batch: 1512 / 2520], examples_per_second: 3196.0950, train_label_loss: 1.3461, \n"
     ]
    },
    {
     "name": "stdout",
     "output_type": "stream",
     "text": [
      "epoch: 2, [batch: 1764 / 2520], examples_per_second: 3183.7083, train_label_loss: 1.2899, \n"
     ]
    },
    {
     "name": "stdout",
     "output_type": "stream",
     "text": [
      "epoch: 2, [batch: 2016 / 2520], examples_per_second: 3196.5905, train_label_loss: 1.5749, \n"
     ]
    },
    {
     "name": "stdout",
     "output_type": "stream",
     "text": [
      "epoch: 2, [batch: 2268 / 2520], examples_per_second: 3197.7053, train_label_loss: 1.4716, \n"
     ]
    },
    {
     "name": "stdout",
     "output_type": "stream",
     "text": [
      "=============================================================\n",
      "epoch: 2, source_val_acc_label: 0.4327, target_val_acc_label: 0.3110, source_val_label_loss: 1.3690, target_val_label_loss: 1.8604, \n",
      "=============================================================\n"
     ]
    },
    {
     "name": "stdout",
     "output_type": "stream",
     "text": [
      "New best\n"
     ]
    },
    {
     "name": "stdout",
     "output_type": "stream",
     "text": [
      "epoch: 3, [batch: 1 / 2520], examples_per_second: 11.0463, train_label_loss: 1.3847, \n"
     ]
    },
    {
     "name": "stdout",
     "output_type": "stream",
     "text": [
      "epoch: 3, [batch: 252 / 2520], examples_per_second: 3191.4621, train_label_loss: 1.4199, \n"
     ]
    },
    {
     "name": "stdout",
     "output_type": "stream",
     "text": [
      "epoch: 3, [batch: 504 / 2520], examples_per_second: 3196.4901, train_label_loss: 1.5183, \n"
     ]
    },
    {
     "name": "stdout",
     "output_type": "stream",
     "text": [
      "epoch: 3, [batch: 756 / 2520], examples_per_second: 3179.7463, train_label_loss: 1.3062, \n"
     ]
    },
    {
     "name": "stdout",
     "output_type": "stream",
     "text": [
      "epoch: 3, [batch: 1008 / 2520], examples_per_second: 3175.6576, train_label_loss: 1.3683, \n"
     ]
    },
    {
     "name": "stdout",
     "output_type": "stream",
     "text": [
      "epoch: 3, [batch: 1260 / 2520], examples_per_second: 3196.1209, train_label_loss: 1.3498, \n"
     ]
    },
    {
     "name": "stdout",
     "output_type": "stream",
     "text": [
      "epoch: 3, [batch: 1512 / 2520], examples_per_second: 3204.4304, train_label_loss: 1.2897, \n"
     ]
    },
    {
     "name": "stdout",
     "output_type": "stream",
     "text": [
      "epoch: 3, [batch: 1764 / 2520], examples_per_second: 3194.5302, train_label_loss: 0.8617, \n"
     ]
    },
    {
     "name": "stdout",
     "output_type": "stream",
     "text": [
      "epoch: 3, [batch: 2016 / 2520], examples_per_second: 3237.0054, train_label_loss: 1.3369, \n"
     ]
    },
    {
     "name": "stdout",
     "output_type": "stream",
     "text": [
      "epoch: 3, [batch: 2268 / 2520], examples_per_second: 3188.2614, train_label_loss: 0.9965, \n"
     ]
    },
    {
     "name": "stdout",
     "output_type": "stream",
     "text": [
      "=============================================================\n",
      "epoch: 3, source_val_acc_label: 0.4450, target_val_acc_label: 0.3309, source_val_label_loss: 1.3913, target_val_label_loss: 1.8600, \n",
      "=============================================================\n"
     ]
    },
    {
     "name": "stdout",
     "output_type": "stream",
     "text": [
      "New best\n"
     ]
    },
    {
     "name": "stdout",
     "output_type": "stream",
     "text": [
      "epoch: 4, [batch: 1 / 2520], examples_per_second: 11.0758, train_label_loss: 1.0770, \n"
     ]
    },
    {
     "name": "stdout",
     "output_type": "stream",
     "text": [
      "epoch: 4, [batch: 252 / 2520], examples_per_second: 3187.0154, train_label_loss: 1.3813, \n"
     ]
    },
    {
     "name": "stdout",
     "output_type": "stream",
     "text": [
      "epoch: 4, [batch: 504 / 2520], examples_per_second: 3186.9665, train_label_loss: 0.9722, \n"
     ]
    },
    {
     "name": "stdout",
     "output_type": "stream",
     "text": [
      "epoch: 4, [batch: 756 / 2520], examples_per_second: 3172.6879, train_label_loss: 1.3020, \n"
     ]
    },
    {
     "name": "stdout",
     "output_type": "stream",
     "text": [
      "epoch: 4, [batch: 1008 / 2520], examples_per_second: 3156.5265, train_label_loss: 0.6043, \n"
     ]
    },
    {
     "name": "stdout",
     "output_type": "stream",
     "text": [
      "epoch: 4, [batch: 1260 / 2520], examples_per_second: 3175.6161, train_label_loss: 0.8218, \n"
     ]
    },
    {
     "name": "stdout",
     "output_type": "stream",
     "text": [
      "epoch: 4, [batch: 1512 / 2520], examples_per_second: 3170.1622, train_label_loss: 1.0454, \n"
     ]
    },
    {
     "name": "stdout",
     "output_type": "stream",
     "text": [
      "epoch: 4, [batch: 1764 / 2520], examples_per_second: 3177.0784, train_label_loss: 0.4760, \n"
     ]
    },
    {
     "name": "stdout",
     "output_type": "stream",
     "text": [
      "epoch: 4, [batch: 2016 / 2520], examples_per_second: 3188.4584, train_label_loss: 0.8601, \n"
     ]
    },
    {
     "name": "stdout",
     "output_type": "stream",
     "text": [
      "epoch: 4, [batch: 2268 / 2520], examples_per_second: 3194.5965, train_label_loss: 1.1607, \n"
     ]
    },
    {
     "name": "stdout",
     "output_type": "stream",
     "text": [
      "=============================================================\n",
      "epoch: 4, source_val_acc_label: 0.5523, target_val_acc_label: 0.4535, source_val_label_loss: 1.1753, target_val_label_loss: 1.6022, \n",
      "=============================================================\n"
     ]
    },
    {
     "name": "stdout",
     "output_type": "stream",
     "text": [
      "New best\n"
     ]
    },
    {
     "name": "stdout",
     "output_type": "stream",
     "text": [
      "epoch: 5, [batch: 1 / 2520], examples_per_second: 11.1227, train_label_loss: 0.4218, \n"
     ]
    },
    {
     "name": "stdout",
     "output_type": "stream",
     "text": [
      "epoch: 5, [batch: 252 / 2520], examples_per_second: 3164.5833, train_label_loss: 0.8550, \n"
     ]
    },
    {
     "name": "stdout",
     "output_type": "stream",
     "text": [
      "epoch: 5, [batch: 504 / 2520], examples_per_second: 3181.4569, train_label_loss: 0.5138, \n"
     ]
    },
    {
     "name": "stdout",
     "output_type": "stream",
     "text": [
      "epoch: 5, [batch: 756 / 2520], examples_per_second: 3205.0725, train_label_loss: 1.0337, \n"
     ]
    },
    {
     "name": "stdout",
     "output_type": "stream",
     "text": [
      "epoch: 5, [batch: 1008 / 2520], examples_per_second: 3187.1791, train_label_loss: 0.8130, \n"
     ]
    },
    {
     "name": "stdout",
     "output_type": "stream",
     "text": [
      "epoch: 5, [batch: 1260 / 2520], examples_per_second: 3210.1706, train_label_loss: 0.5230, \n"
     ]
    },
    {
     "name": "stdout",
     "output_type": "stream",
     "text": [
      "epoch: 5, [batch: 1512 / 2520], examples_per_second: 3189.9407, train_label_loss: 0.4667, \n"
     ]
    },
    {
     "name": "stdout",
     "output_type": "stream",
     "text": [
      "epoch: 5, [batch: 1764 / 2520], examples_per_second: 3200.9846, train_label_loss: 0.8706, \n"
     ]
    },
    {
     "name": "stdout",
     "output_type": "stream",
     "text": [
      "epoch: 5, [batch: 2016 / 2520], examples_per_second: 3193.4156, train_label_loss: 0.6329, \n"
     ]
    },
    {
     "name": "stdout",
     "output_type": "stream",
     "text": [
      "epoch: 5, [batch: 2268 / 2520], examples_per_second: 3202.1498, train_label_loss: 1.0395, \n"
     ]
    },
    {
     "name": "stdout",
     "output_type": "stream",
     "text": [
      "=============================================================\n",
      "epoch: 5, source_val_acc_label: 0.5757, target_val_acc_label: 0.4716, source_val_label_loss: 1.1750, target_val_label_loss: 1.6148, \n",
      "=============================================================\n"
     ]
    },
    {
     "name": "stdout",
     "output_type": "stream",
     "text": [
      "New best\n"
     ]
    },
    {
     "name": "stdout",
     "output_type": "stream",
     "text": [
      "epoch: 6, [batch: 1 / 2520], examples_per_second: 11.0862, train_label_loss: 0.6127, \n"
     ]
    },
    {
     "name": "stdout",
     "output_type": "stream",
     "text": [
      "epoch: 6, [batch: 252 / 2520], examples_per_second: 3191.3299, train_label_loss: 0.5763, \n"
     ]
    },
    {
     "name": "stdout",
     "output_type": "stream",
     "text": [
      "epoch: 6, [batch: 504 / 2520], examples_per_second: 3195.1950, train_label_loss: 0.8859, \n"
     ]
    },
    {
     "name": "stdout",
     "output_type": "stream",
     "text": [
      "epoch: 6, [batch: 756 / 2520], examples_per_second: 3197.5704, train_label_loss: 0.9104, \n"
     ]
    },
    {
     "name": "stdout",
     "output_type": "stream",
     "text": [
      "epoch: 6, [batch: 1008 / 2520], examples_per_second: 3162.3662, train_label_loss: 0.4745, \n"
     ]
    },
    {
     "name": "stdout",
     "output_type": "stream",
     "text": [
      "epoch: 6, [batch: 1260 / 2520], examples_per_second: 3183.9401, train_label_loss: 0.5286, \n"
     ]
    },
    {
     "name": "stdout",
     "output_type": "stream",
     "text": [
      "epoch: 6, [batch: 1512 / 2520], examples_per_second: 3174.1954, train_label_loss: 0.7524, \n"
     ]
    },
    {
     "name": "stdout",
     "output_type": "stream",
     "text": [
      "epoch: 6, [batch: 1764 / 2520], examples_per_second: 3179.5009, train_label_loss: 0.6709, \n"
     ]
    },
    {
     "name": "stdout",
     "output_type": "stream",
     "text": [
      "epoch: 6, [batch: 2016 / 2520], examples_per_second: 3183.6529, train_label_loss: 0.6557, \n"
     ]
    },
    {
     "name": "stdout",
     "output_type": "stream",
     "text": [
      "epoch: 6, [batch: 2268 / 2520], examples_per_second: 3188.6766, train_label_loss: 0.2027, \n"
     ]
    },
    {
     "name": "stdout",
     "output_type": "stream",
     "text": [
      "=============================================================\n",
      "epoch: 6, source_val_acc_label: 0.5929, target_val_acc_label: 0.4867, source_val_label_loss: 1.1807, target_val_label_loss: 1.6471, \n",
      "=============================================================\n"
     ]
    },
    {
     "name": "stdout",
     "output_type": "stream",
     "text": [
      "New best\n"
     ]
    },
    {
     "name": "stdout",
     "output_type": "stream",
     "text": [
      "epoch: 7, [batch: 1 / 2520], examples_per_second: 11.0845, train_label_loss: 0.5423, \n"
     ]
    },
    {
     "name": "stdout",
     "output_type": "stream",
     "text": [
      "epoch: 7, [batch: 252 / 2520], examples_per_second: 3205.3331, train_label_loss: 0.4542, \n"
     ]
    },
    {
     "name": "stdout",
     "output_type": "stream",
     "text": [
      "epoch: 7, [batch: 504 / 2520], examples_per_second: 3199.4945, train_label_loss: 0.5352, \n"
     ]
    },
    {
     "name": "stdout",
     "output_type": "stream",
     "text": [
      "epoch: 7, [batch: 756 / 2520], examples_per_second: 3192.9687, train_label_loss: 0.3891, \n"
     ]
    },
    {
     "name": "stdout",
     "output_type": "stream",
     "text": [
      "epoch: 7, [batch: 1008 / 2520], examples_per_second: 3172.9943, train_label_loss: 0.8465, \n"
     ]
    },
    {
     "name": "stdout",
     "output_type": "stream",
     "text": [
      "epoch: 7, [batch: 1260 / 2520], examples_per_second: 3182.4544, train_label_loss: 0.6596, \n"
     ]
    },
    {
     "name": "stdout",
     "output_type": "stream",
     "text": [
      "epoch: 7, [batch: 1512 / 2520], examples_per_second: 3189.0783, train_label_loss: 0.1908, \n"
     ]
    },
    {
     "name": "stdout",
     "output_type": "stream",
     "text": [
      "epoch: 7, [batch: 1764 / 2520], examples_per_second: 3191.5888, train_label_loss: 0.1812, \n"
     ]
    },
    {
     "name": "stdout",
     "output_type": "stream",
     "text": [
      "epoch: 7, [batch: 2016 / 2520], examples_per_second: 3198.1003, train_label_loss: 0.3578, \n"
     ]
    },
    {
     "name": "stdout",
     "output_type": "stream",
     "text": [
      "epoch: 7, [batch: 2268 / 2520], examples_per_second: 3198.8816, train_label_loss: 0.7033, \n"
     ]
    },
    {
     "name": "stdout",
     "output_type": "stream",
     "text": [
      "=============================================================\n",
      "epoch: 7, source_val_acc_label: 0.5925, target_val_acc_label: 0.4842, source_val_label_loss: 1.2672, target_val_label_loss: 1.7531, \n",
      "=============================================================\n"
     ]
    },
    {
     "name": "stdout",
     "output_type": "stream",
     "text": [
      "epoch: 8, [batch: 1 / 2520], examples_per_second: 11.1514, train_label_loss: 0.2118, \n"
     ]
    },
    {
     "name": "stdout",
     "output_type": "stream",
     "text": [
      "epoch: 8, [batch: 252 / 2520], examples_per_second: 3188.6983, train_label_loss: 0.3639, \n"
     ]
    },
    {
     "name": "stdout",
     "output_type": "stream",
     "text": [
      "epoch: 8, [batch: 504 / 2520], examples_per_second: 3182.2507, train_label_loss: 0.3166, \n"
     ]
    },
    {
     "name": "stdout",
     "output_type": "stream",
     "text": [
      "epoch: 8, [batch: 756 / 2520], examples_per_second: 3183.9704, train_label_loss: 0.3885, \n"
     ]
    },
    {
     "name": "stdout",
     "output_type": "stream",
     "text": [
      "epoch: 8, [batch: 1008 / 2520], examples_per_second: 3189.4283, train_label_loss: 0.2605, \n"
     ]
    },
    {
     "name": "stdout",
     "output_type": "stream",
     "text": [
      "epoch: 8, [batch: 1260 / 2520], examples_per_second: 3186.3720, train_label_loss: 0.3815, \n"
     ]
    },
    {
     "name": "stdout",
     "output_type": "stream",
     "text": [
      "epoch: 8, [batch: 1512 / 2520], examples_per_second: 3199.8009, train_label_loss: 0.7125, \n"
     ]
    },
    {
     "name": "stdout",
     "output_type": "stream",
     "text": [
      "epoch: 8, [batch: 1764 / 2520], examples_per_second: 3167.3341, train_label_loss: 0.3762, \n"
     ]
    },
    {
     "name": "stdout",
     "output_type": "stream",
     "text": [
      "epoch: 8, [batch: 2016 / 2520], examples_per_second: 3173.5112, train_label_loss: 0.3642, \n"
     ]
    },
    {
     "name": "stdout",
     "output_type": "stream",
     "text": [
      "epoch: 8, [batch: 2268 / 2520], examples_per_second: 3189.1444, train_label_loss: 0.3429, \n"
     ]
    },
    {
     "name": "stdout",
     "output_type": "stream",
     "text": [
      "=============================================================\n",
      "epoch: 8, source_val_acc_label: 0.6016, target_val_acc_label: 0.4922, source_val_label_loss: 1.3063, target_val_label_loss: 1.8371, \n",
      "=============================================================\n"
     ]
    },
    {
     "name": "stdout",
     "output_type": "stream",
     "text": [
      "New best\n"
     ]
    },
    {
     "name": "stdout",
     "output_type": "stream",
     "text": [
      "epoch: 9, [batch: 1 / 2520], examples_per_second: 11.0265, train_label_loss: 0.2908, \n"
     ]
    },
    {
     "name": "stdout",
     "output_type": "stream",
     "text": [
      "epoch: 9, [batch: 252 / 2520], examples_per_second: 3179.5828, train_label_loss: 0.3334, \n"
     ]
    },
    {
     "name": "stdout",
     "output_type": "stream",
     "text": [
      "epoch: 9, [batch: 504 / 2520], examples_per_second: 3177.3540, train_label_loss: 0.4680, \n"
     ]
    },
    {
     "name": "stdout",
     "output_type": "stream",
     "text": [
      "epoch: 9, [batch: 756 / 2520], examples_per_second: 3185.2703, train_label_loss: 0.4625, \n"
     ]
    },
    {
     "name": "stdout",
     "output_type": "stream",
     "text": [
      "epoch: 9, [batch: 1008 / 2520], examples_per_second: 3182.5776, train_label_loss: 0.5652, \n"
     ]
    },
    {
     "name": "stdout",
     "output_type": "stream",
     "text": [
      "epoch: 9, [batch: 1260 / 2520], examples_per_second: 3204.6780, train_label_loss: 0.3353, \n"
     ]
    },
    {
     "name": "stdout",
     "output_type": "stream",
     "text": [
      "epoch: 9, [batch: 1512 / 2520], examples_per_second: 3203.4348, train_label_loss: 0.3490, \n"
     ]
    },
    {
     "name": "stdout",
     "output_type": "stream",
     "text": [
      "epoch: 9, [batch: 1764 / 2520], examples_per_second: 3185.8451, train_label_loss: 0.2629, \n"
     ]
    },
    {
     "name": "stdout",
     "output_type": "stream",
     "text": [
      "epoch: 9, [batch: 2016 / 2520], examples_per_second: 3191.4838, train_label_loss: 0.4626, \n"
     ]
    },
    {
     "name": "stdout",
     "output_type": "stream",
     "text": [
      "epoch: 9, [batch: 2268 / 2520], examples_per_second: 3189.8566, train_label_loss: 0.4517, \n"
     ]
    },
    {
     "name": "stdout",
     "output_type": "stream",
     "text": [
      "=============================================================\n",
      "epoch: 9, source_val_acc_label: 0.5905, target_val_acc_label: 0.4859, source_val_label_loss: 1.4324, target_val_label_loss: 1.9725, \n",
      "=============================================================\n"
     ]
    },
    {
     "name": "stdout",
     "output_type": "stream",
     "text": [
      "epoch: 10, [batch: 1 / 2520], examples_per_second: 11.1581, train_label_loss: 0.2413, \n"
     ]
    },
    {
     "name": "stdout",
     "output_type": "stream",
     "text": [
      "epoch: 10, [batch: 252 / 2520], examples_per_second: 3180.5335, train_label_loss: 0.3743, \n"
     ]
    },
    {
     "name": "stdout",
     "output_type": "stream",
     "text": [
      "epoch: 10, [batch: 504 / 2520], examples_per_second: 3172.1216, train_label_loss: 0.3723, \n"
     ]
    },
    {
     "name": "stdout",
     "output_type": "stream",
     "text": [
      "epoch: 10, [batch: 756 / 2520], examples_per_second: 3191.7392, train_label_loss: 0.1982, \n"
     ]
    },
    {
     "name": "stdout",
     "output_type": "stream",
     "text": [
      "epoch: 10, [batch: 1008 / 2520], examples_per_second: 3183.6168, train_label_loss: 0.2913, \n"
     ]
    },
    {
     "name": "stdout",
     "output_type": "stream",
     "text": [
      "epoch: 10, [batch: 1260 / 2520], examples_per_second: 3201.3360, train_label_loss: 0.2476, \n"
     ]
    },
    {
     "name": "stdout",
     "output_type": "stream",
     "text": [
      "epoch: 10, [batch: 1512 / 2520], examples_per_second: 3195.8560, train_label_loss: 0.1823, \n"
     ]
    },
    {
     "name": "stdout",
     "output_type": "stream",
     "text": [
      "epoch: 10, [batch: 1764 / 2520], examples_per_second: 3188.2626, train_label_loss: 0.0744, \n"
     ]
    },
    {
     "name": "stdout",
     "output_type": "stream",
     "text": [
      "epoch: 10, [batch: 2016 / 2520], examples_per_second: 3196.8200, train_label_loss: 0.1976, \n"
     ]
    },
    {
     "name": "stdout",
     "output_type": "stream",
     "text": [
      "epoch: 10, [batch: 2268 / 2520], examples_per_second: 3199.4783, train_label_loss: 0.1166, \n"
     ]
    },
    {
     "name": "stdout",
     "output_type": "stream",
     "text": [
      "=============================================================\n",
      "epoch: 10, source_val_acc_label: 0.5898, target_val_acc_label: 0.4890, source_val_label_loss: 1.4786, target_val_label_loss: 2.0655, \n",
      "=============================================================\n"
     ]
    },
    {
     "name": "stdout",
     "output_type": "stream",
     "text": [
      "epoch: 11, [batch: 1 / 2520], examples_per_second: 11.1262, train_label_loss: 0.0575, \n"
     ]
    },
    {
     "name": "stdout",
     "output_type": "stream",
     "text": [
      "epoch: 11, [batch: 252 / 2520], examples_per_second: 3179.2054, train_label_loss: 0.1375, \n"
     ]
    },
    {
     "name": "stdout",
     "output_type": "stream",
     "text": [
      "epoch: 11, [batch: 504 / 2520], examples_per_second: 3186.9046, train_label_loss: 0.1108, \n"
     ]
    },
    {
     "name": "stdout",
     "output_type": "stream",
     "text": [
      "epoch: 11, [batch: 756 / 2520], examples_per_second: 3208.1228, train_label_loss: 0.2045, \n"
     ]
    },
    {
     "name": "stdout",
     "output_type": "stream",
     "text": [
      "epoch: 11, [batch: 1008 / 2520], examples_per_second: 3186.3425, train_label_loss: 0.1648, \n"
     ]
    },
    {
     "name": "stdout",
     "output_type": "stream",
     "text": [
      "epoch: 11, [batch: 1260 / 2520], examples_per_second: 3201.1467, train_label_loss: 0.1992, \n"
     ]
    },
    {
     "name": "stdout",
     "output_type": "stream",
     "text": [
      "epoch: 11, [batch: 1512 / 2520], examples_per_second: 3202.4407, train_label_loss: 0.2278, \n"
     ]
    },
    {
     "name": "stdout",
     "output_type": "stream",
     "text": [
      "epoch: 11, [batch: 1764 / 2520], examples_per_second: 3187.8438, train_label_loss: 0.2049, \n"
     ]
    },
    {
     "name": "stdout",
     "output_type": "stream",
     "text": [
      "epoch: 11, [batch: 2016 / 2520], examples_per_second: 3197.6965, train_label_loss: 0.0674, \n"
     ]
    },
    {
     "name": "stdout",
     "output_type": "stream",
     "text": [
      "epoch: 11, [batch: 2268 / 2520], examples_per_second: 3192.1626, train_label_loss: 0.4856, \n"
     ]
    },
    {
     "name": "stdout",
     "output_type": "stream",
     "text": [
      "=============================================================\n",
      "epoch: 11, source_val_acc_label: 0.5931, target_val_acc_label: 0.4905, source_val_label_loss: 1.5780, target_val_label_loss: 2.1886, \n",
      "=============================================================\n"
     ]
    },
    {
     "name": "stdout",
     "output_type": "stream",
     "text": [
      "epoch: 12, [batch: 1 / 2520], examples_per_second: 11.1071, train_label_loss: 0.3296, \n"
     ]
    },
    {
     "name": "stdout",
     "output_type": "stream",
     "text": [
      "epoch: 12, [batch: 252 / 2520], examples_per_second: 3151.5799, train_label_loss: 0.0778, \n"
     ]
    },
    {
     "name": "stdout",
     "output_type": "stream",
     "text": [
      "epoch: 12, [batch: 504 / 2520], examples_per_second: 3169.9337, train_label_loss: 0.0809, \n"
     ]
    },
    {
     "name": "stdout",
     "output_type": "stream",
     "text": [
      "epoch: 12, [batch: 756 / 2520], examples_per_second: 3193.4024, train_label_loss: 0.1113, \n"
     ]
    },
    {
     "name": "stdout",
     "output_type": "stream",
     "text": [
      "epoch: 12, [batch: 1008 / 2520], examples_per_second: 3162.5761, train_label_loss: 0.2740, \n"
     ]
    },
    {
     "name": "stdout",
     "output_type": "stream",
     "text": [
      "epoch: 12, [batch: 1260 / 2520], examples_per_second: 3185.9613, train_label_loss: 0.0733, \n"
     ]
    },
    {
     "name": "stdout",
     "output_type": "stream",
     "text": [
      "epoch: 12, [batch: 1512 / 2520], examples_per_second: 3182.1876, train_label_loss: 0.3201, \n"
     ]
    },
    {
     "name": "stdout",
     "output_type": "stream",
     "text": [
      "epoch: 12, [batch: 1764 / 2520], examples_per_second: 3168.9545, train_label_loss: 0.2596, \n"
     ]
    },
    {
     "name": "stdout",
     "output_type": "stream",
     "text": [
      "epoch: 12, [batch: 2016 / 2520], examples_per_second: 3184.3163, train_label_loss: 0.1957, \n"
     ]
    },
    {
     "name": "stdout",
     "output_type": "stream",
     "text": [
      "epoch: 12, [batch: 2268 / 2520], examples_per_second: 3193.2259, train_label_loss: 0.2121, \n"
     ]
    },
    {
     "name": "stdout",
     "output_type": "stream",
     "text": [
      "=============================================================\n",
      "epoch: 12, source_val_acc_label: 0.6004, target_val_acc_label: 0.4854, source_val_label_loss: 1.6473, target_val_label_loss: 2.2970, \n",
      "=============================================================\n"
     ]
    },
    {
     "name": "stdout",
     "output_type": "stream",
     "text": [
      "Patience (3) exhausted\n"
     ]
    }
   ],
   "source": [
    "###################################\n",
    "# train\n",
    "###################################\n",
    "jig = PTN_Train_Eval_Test_Jig(model, p.BEST_MODEL_PATH, p.device)\n",
    "\n",
    "jig.train(\n",
    "    train_iterable=datasets.source.processed.train,\n",
    "    source_val_iterable=datasets.source.processed.val,\n",
    "    target_val_iterable=datasets.target.processed.val,\n",
    "    num_epochs=p.n_epoch,\n",
    "    num_logs_per_epoch=p.NUM_LOGS_PER_EPOCH,\n",
    "    patience=p.patience,\n",
    "    optimizer=optimizer,\n",
    "    criteria_for_best=p.criteria_for_best,\n",
    ")"
   ]
  },
  {
   "cell_type": "code",
   "execution_count": 14,
   "id": "31e8fabf",
   "metadata": {
    "execution": {
     "iopub.execute_input": "2022-04-01T16:52:08.752721Z",
     "iopub.status.busy": "2022-04-01T16:52:08.752464Z",
     "iopub.status.idle": "2022-04-01T16:52:08.772472Z",
     "shell.execute_reply": "2022-04-01T16:52:08.772048Z"
    },
    "papermill": {
     "duration": 0.058201,
     "end_time": "2022-04-01T16:52:08.772580",
     "exception": false,
     "start_time": "2022-04-01T16:52:08.714379",
     "status": "completed"
    },
    "tags": []
   },
   "outputs": [],
   "source": [
    "total_experiment_time_secs = time.time() - start_time_secs"
   ]
  },
  {
   "cell_type": "code",
   "execution_count": 15,
   "id": "87b9595b",
   "metadata": {
    "execution": {
     "iopub.execute_input": "2022-04-01T16:52:08.854154Z",
     "iopub.status.busy": "2022-04-01T16:52:08.853888Z",
     "iopub.status.idle": "2022-04-01T16:52:57.566839Z",
     "shell.execute_reply": "2022-04-01T16:52:57.567242Z"
    },
    "papermill": {
     "duration": 48.754382,
     "end_time": "2022-04-01T16:52:57.567382",
     "exception": false,
     "start_time": "2022-04-01T16:52:08.813000",
     "status": "completed"
    },
    "tags": []
   },
   "outputs": [],
   "source": [
    "###################################\n",
    "# Evaluate the model\n",
    "###################################\n",
    "source_test_label_accuracy, source_test_label_loss = jig.test(datasets.source.processed.test)\n",
    "target_test_label_accuracy, target_test_label_loss = jig.test(datasets.target.processed.test)\n",
    "\n",
    "source_val_label_accuracy, source_val_label_loss = jig.test(datasets.source.processed.val)\n",
    "target_val_label_accuracy, target_val_label_loss = jig.test(datasets.target.processed.val)\n",
    "\n",
    "history = jig.get_history()\n",
    "\n",
    "total_epochs_trained = len(history[\"epoch_indices\"])\n",
    "\n",
    "val_dl = Iterable_Aggregator((datasets.source.original.val,datasets.target.original.val))\n",
    "\n",
    "confusion = ptn_confusion_by_domain_over_dataloader(model, p.device, val_dl)\n",
    "per_domain_accuracy = per_domain_accuracy_from_confusion(confusion)\n",
    "\n",
    "# Add a key to per_domain_accuracy for if it was a source domain\n",
    "for domain, accuracy in per_domain_accuracy.items():\n",
    "    per_domain_accuracy[domain] = {\n",
    "        \"accuracy\": accuracy,\n",
    "        \"source?\": domain in p.domains_source\n",
    "    }\n",
    "\n",
    "# Do an independent accuracy assesment JUST TO BE SURE!\n",
    "# _source_test_label_accuracy = independent_accuracy_assesment(model, datasets.source.processed.test, p.device)\n",
    "# _target_test_label_accuracy = independent_accuracy_assesment(model, datasets.target.processed.test, p.device)\n",
    "# _source_val_label_accuracy = independent_accuracy_assesment(model, datasets.source.processed.val, p.device)\n",
    "# _target_val_label_accuracy = independent_accuracy_assesment(model, datasets.target.processed.val, p.device)\n",
    "\n",
    "# assert(_source_test_label_accuracy == source_test_label_accuracy)\n",
    "# assert(_target_test_label_accuracy == target_test_label_accuracy)\n",
    "# assert(_source_val_label_accuracy == source_val_label_accuracy)\n",
    "# assert(_target_val_label_accuracy == target_val_label_accuracy)\n",
    "\n",
    "experiment = {\n",
    "    \"experiment_name\": p.experiment_name,\n",
    "    \"parameters\": dict(p),\n",
    "    \"results\": {\n",
    "        \"source_test_label_accuracy\": source_test_label_accuracy,\n",
    "        \"source_test_label_loss\": source_test_label_loss,\n",
    "        \"target_test_label_accuracy\": target_test_label_accuracy,\n",
    "        \"target_test_label_loss\": target_test_label_loss,\n",
    "        \"source_val_label_accuracy\": source_val_label_accuracy,\n",
    "        \"source_val_label_loss\": source_val_label_loss,\n",
    "        \"target_val_label_accuracy\": target_val_label_accuracy,\n",
    "        \"target_val_label_loss\": target_val_label_loss,\n",
    "        \"total_epochs_trained\": total_epochs_trained,\n",
    "        \"total_experiment_time_secs\": total_experiment_time_secs,\n",
    "        \"confusion\": confusion,\n",
    "        \"per_domain_accuracy\": per_domain_accuracy,\n",
    "    },\n",
    "    \"history\": history,\n",
    "    \"dataset_metrics\": get_dataset_metrics(datasets, \"ptn\"),\n",
    "}"
   ]
  },
  {
   "cell_type": "code",
   "execution_count": 16,
   "id": "54a21829",
   "metadata": {
    "execution": {
     "iopub.execute_input": "2022-04-01T16:52:57.646680Z",
     "iopub.status.busy": "2022-04-01T16:52:57.646108Z",
     "iopub.status.idle": "2022-04-01T16:52:57.776122Z",
     "shell.execute_reply": "2022-04-01T16:52:57.775732Z"
    },
    "papermill": {
     "duration": 0.168906,
     "end_time": "2022-04-01T16:52:57.776213",
     "exception": false,
     "start_time": "2022-04-01T16:52:57.607307",
     "status": "completed"
    },
    "tags": []
   },
   "outputs": [
    {
     "data": {
      "image/png": "[encoded data removed]",
      "text/plain": [
       "<Figure size 1080x504 with 1 Axes>"
      ]
     },
     "metadata": {
      "needs_background": "light"
     },
     "output_type": "display_data"
    }
   ],
   "source": [
    "ax = get_loss_curve(experiment)\n",
    "plt.show()"
   ]
  },
  {
   "cell_type": "code",
   "execution_count": 17,
   "id": "fd8a0f60",
   "metadata": {
    "execution": {
     "iopub.execute_input": "2022-04-01T16:52:57.856172Z",
     "iopub.status.busy": "2022-04-01T16:52:57.855734Z",
     "iopub.status.idle": "2022-04-01T16:52:57.998903Z",
     "shell.execute_reply": "2022-04-01T16:52:57.998664Z"
    },
    "papermill": {
     "duration": 0.182367,
     "end_time": "2022-04-01T16:52:57.998956",
     "exception": false,
     "start_time": "2022-04-01T16:52:57.816589",
     "status": "completed"
    },
    "tags": []
   },
   "outputs": [
    {
     "data": {
      "text/plain": [
       "<AxesSubplot:title={'center':'Results'}>"
      ]
     },
     "execution_count": 17,
     "metadata": {},
     "output_type": "execute_result"
    },
    {
     "data": {
      "image/png": "[encoded data removed]",
      "text/plain": [
       "<Figure size 1080x504 with 1 Axes>"
      ]
     },
     "metadata": {
      "needs_background": "light"
     },
     "output_type": "display_data"
    }
   ],
   "source": [
    "get_results_table(experiment)"
   ]
  },
  {
   "cell_type": "code",
   "execution_count": 18,
   "id": "cf8dc689",
   "metadata": {
    "execution": {
     "iopub.execute_input": "2022-04-01T16:52:58.079023Z",
     "iopub.status.busy": "2022-04-01T16:52:58.078100Z",
     "iopub.status.idle": "2022-04-01T16:52:58.193943Z",
     "shell.execute_reply": "2022-04-01T16:52:58.193467Z"
    },
    "papermill": {
     "duration": 0.155878,
     "end_time": "2022-04-01T16:52:58.194035",
     "exception": false,
     "start_time": "2022-04-01T16:52:58.038157",
     "status": "completed"
    },
    "tags": []
   },
   "outputs": [
    {
     "data": {
      "text/plain": [
       "<AxesSubplot:title={'center':'Per Domain Validation Accuracy'}, xlabel='domain'>"
      ]
     },
     "execution_count": 18,
     "metadata": {},
     "output_type": "execute_result"
    },
    {
     "data": {
      "image/png": "[encoded data removed]",
      "text/plain": [
       "<Figure size 1080x504 with 1 Axes>"
      ]
     },
     "metadata": {
      "needs_background": "light"
     },
     "output_type": "display_data"
    }
   ],
   "source": [
    "get_domain_accuracies(experiment)"
   ]
  },
  {
   "cell_type": "code",
   "execution_count": 19,
   "id": "a74ae082",
   "metadata": {
    "execution": {
     "iopub.execute_input": "2022-04-01T16:52:58.279317Z",
     "iopub.status.busy": "2022-04-01T16:52:58.279049Z",
     "iopub.status.idle": "2022-04-01T16:52:58.295588Z",
     "shell.execute_reply": "2022-04-01T16:52:58.295119Z"
    },
    "papermill": {
     "duration": 0.058148,
     "end_time": "2022-04-01T16:52:58.295681",
     "exception": false,
     "start_time": "2022-04-01T16:52:58.237533",
     "status": "completed"
    },
    "tags": []
   },
   "outputs": [
    {
     "name": "stdout",
     "output_type": "stream",
     "text": [
      "Source Test Label Accuracy: 0.5996527777777778 Target Test Label Accuracy: 0.4965104166666667\n",
      "Source Val Label Accuracy: 0.6015625 Target Val Label Accuracy: 0.49223958333333334\n"
     ]
    }
   ],
   "source": [
    "print(\"Source Test Label Accuracy:\", experiment[\"results\"][\"source_test_label_accuracy\"], \"Target Test Label Accuracy:\", experiment[\"results\"][\"target_test_label_accuracy\"])\n",
    "print(\"Source Val Label Accuracy:\", experiment[\"results\"][\"source_val_label_accuracy\"], \"Target Val Label Accuracy:\", experiment[\"results\"][\"target_val_label_accuracy\"])"
   ]
  },
  {
   "cell_type": "code",
   "execution_count": 20,
   "id": "dacca602",
   "metadata": {
    "execution": {
     "iopub.execute_input": "2022-04-01T16:52:58.382606Z",
     "iopub.status.busy": "2022-04-01T16:52:58.381795Z",
     "iopub.status.idle": "2022-04-01T16:52:58.398218Z",
     "shell.execute_reply": "2022-04-01T16:52:58.398611Z"
    },
    "papermill": {
     "duration": 0.058184,
     "end_time": "2022-04-01T16:52:58.398721",
     "exception": false,
     "start_time": "2022-04-01T16:52:58.340537",
     "status": "completed"
    },
    "tags": [
     "experiment_json"
    ]
   },
   "outputs": [
    {
     "data": {
      "text/plain": [
       "'{\"experiment_name\": \"tuned_1v2:oracle.run2_limited\", \"parameters\": {\"experiment_name\": \"tuned_1v2:oracle.run2_limited\", \"device\": \"cuda\", \"lr\": 0.0001, \"labels_source\": [\"3123D52\", \"3123D65\", \"3123D79\", \"3123D80\", \"3123D54\", \"3123D70\", \"3123D7B\", \"3123D89\", \"3123D58\", \"3123D76\", \"3123D7D\", \"3123EFE\", \"3123D64\", \"3123D78\", \"3123D7E\", \"3124E4A\"], \"labels_target\": [\"3123D52\", \"3123D65\", \"3123D79\", \"3123D80\", \"3123D54\", \"3123D70\", \"3123D7B\", \"3123D89\", \"3123D58\", \"3123D76\", \"3123D7D\", \"3123EFE\", \"3123D64\", \"3123D78\", \"3123D7E\", \"3124E4A\"], \"episode_transforms_source\": [], \"episode_transforms_target\": [], \"domains_source\": [8, 32, 50], \"domains_target\": [14, 20, 26, 38, 44], \"num_examples_per_domain_per_label_source\": 2000, \"num_examples_per_domain_per_label_target\": 2000, \"n_shot\": 3, \"n_way\": 16, \"n_query\": 2, \"train_k_factor\": 3, \"val_k_factor\": 2, \"test_k_factor\": 2, \"torch_default_dtype\": \"torch.float32\", \"n_epoch\": 50, \"patience\": 3, \"criteria_for_best\": \"target_accuracy\", \"x_net\": [{\"class\": \"nnReshape\", \"kargs\": {\"shape\": [-1, 1, 2, 256]}}, {\"class\": \"Conv2d\", \"kargs\": {\"in_channels\": 1, \"out_channels\": 256, \"kernel_size\": [1, 7], \"bias\": false, \"padding\": [0, 3]}}, {\"class\": \"ReLU\", \"kargs\": {\"inplace\": true}}, {\"class\": \"BatchNorm2d\", \"kargs\": {\"num_features\": 256}}, {\"class\": \"Conv2d\", \"kargs\": {\"in_channels\": 256, \"out_channels\": 80, \"kernel_size\": [2, 7], \"bias\": true, \"padding\": [0, 3]}}, {\"class\": \"ReLU\", \"kargs\": {\"inplace\": true}}, {\"class\": \"BatchNorm2d\", \"kargs\": {\"num_features\": 80}}, {\"class\": \"Flatten\", \"kargs\": {}}, {\"class\": \"Linear\", \"kargs\": {\"in_features\": 20480, \"out_features\": 256}}, {\"class\": \"ReLU\", \"kargs\": {\"inplace\": true}}, {\"class\": \"BatchNorm1d\", \"kargs\": {\"num_features\": 256}}, {\"class\": \"Linear\", \"kargs\": {\"in_features\": 256, \"out_features\": 256}}], \"NUM_LOGS_PER_EPOCH\": 10, \"BEST_MODEL_PATH\": \"./best_model.pth\", \"pickle_name\": \"oracle.Run2_10kExamples_stratified_ds.2022A.pkl\", \"x_transforms_source\": [\"unit_mag\"], \"x_transforms_target\": [\"unit_mag\"], \"dataset_seed\": 154325, \"seed\": 154325}, \"results\": {\"source_test_label_accuracy\": 0.5996527777777778, \"source_test_label_loss\": 1.3119832277297974, \"target_test_label_accuracy\": 0.4965104166666667, \"target_test_label_loss\": 1.8026453256607056, \"source_val_label_accuracy\": 0.6015625, \"source_val_label_loss\": 1.3063302040100098, \"target_val_label_accuracy\": 0.49223958333333334, \"target_val_label_loss\": 1.8370721340179443, \"total_epochs_trained\": 12, \"total_experiment_time_secs\": 875.730437040329, \"confusion\": {\"32\": {\"13\": {\"11\": 30, \"7\": 42, \"13\": 80, \"4\": 38, \"8\": 30, \"0\": 11, \"3\": 6, \"5\": 3}, \"9\": {\"9\": 231, \"14\": 8, \"12\": 1}, \"15\": {\"15\": 224, \"8\": 10, \"3\": 2, \"5\": 4}, \"2\": {\"14\": 35, \"0\": 20, \"2\": 138, \"11\": 15, \"7\": 2, \"5\": 25, \"8\": 1, \"4\": 4}, \"3\": {\"3\": 210, \"8\": 9, \"13\": 19, \"7\": 2}, \"8\": {\"13\": 39, \"8\": 118, \"5\": 17, \"4\": 33, \"3\": 13, \"0\": 10, \"11\": 5, \"15\": 5}, \"5\": {\"13\": 14, \"2\": 36, \"5\": 68, \"4\": 18, \"8\": 24, \"0\": 51, \"14\": 16, \"11\": 7, \"15\": 1, \"3\": 2, \"7\": 3}, \"14\": {\"14\": 188, \"2\": 47, \"5\": 5}, \"1\": {\"1\": 235, \"10\": 5}, \"0\": {\"5\": 50, \"4\": 40, \"13\": 11, \"2\": 28, \"11\": 30, \"0\": 51, \"8\": 15, \"7\": 14, \"14\": 1}, \"10\": {\"10\": 234, \"1\": 3, \"6\": 3}, \"6\": {\"6\": 239, \"10\": 1}, \"11\": {\"11\": 75, \"4\": 21, \"13\": 26, \"7\": 55, \"2\": 19, \"0\": 32, \"5\": 6, \"8\": 5, \"14\": 1}, \"7\": {\"5\": 3, \"13\": 48, \"7\": 98, \"0\": 13, \"11\": 59, \"2\": 3, \"4\": 15, \"8\": 1}, \"4\": {\"4\": 53, \"8\": 25, \"5\": 27, \"0\": 44, \"13\": 35, \"11\": 38, \"2\": 4, \"7\": 13, \"3\": 1}, \"12\": {\"12\": 239, \"6\": 1}}, \"50\": {\"10\": {\"10\": 134, \"7\": 30, \"5\": 14, \"13\": 46, \"0\": 15, \"4\": 1}, \"12\": {\"12\": 201, \"9\": 22, \"14\": 15, \"11\": 2}, \"1\": {\"1\": 130, \"6\": 74, \"4\": 16, \"15\": 15, \"0\": 1, \"2\": 3, \"5\": 1}, \"0\": {\"2\": 34, \"0\": 179, \"10\": 18, \"5\": 4, \"6\": 2, \"4\": 1, \"13\": 2}, \"15\": {\"14\": 4, \"15\": 203, \"11\": 18, \"1\": 15}, \"13\": {\"7\": 80, \"10\": 63, \"13\": 85, \"5\": 12}, \"8\": {\"8\": 223, \"3\": 17}, \"3\": {\"3\": 213, \"8\": 27}, \"11\": {\"11\": 187, \"12\": 14, \"14\": 19, \"15\": 14, \"9\": 6}, \"4\": {\"4\": 103, \"1\": 22, \"6\": 45, \"5\": 55, \"0\": 7, \"7\": 2, \"13\": 1, \"10\": 4, \"15\": 1}, \"6\": {\"1\": 78, \"15\": 4, \"6\": 95, \"4\": 50, \"5\": 8, \"13\": 1, \"0\": 1, \"2\": 3}, \"7\": {\"13\": 76, \"4\": 3, \"10\": 51, \"7\": 88, \"5\": 21, \"0\": 1}, \"14\": {\"14\": 213, \"12\": 12, \"15\": 3, \"9\": 1, \"11\": 9, \"1\": 2}, \"2\": {\"2\": 215, \"0\": 20, \"1\": 3, \"4\": 1, \"6\": 1}, \"5\": {\"4\": 48, \"5\": 122, \"0\": 11, \"10\": 16, \"1\": 2, \"7\": 14, \"6\": 13, \"13\": 13, \"2\": 1}, \"9\": {\"9\": 210, \"12\": 26, \"11\": 4}}, \"8\": {\"14\": {\"6\": 17, \"13\": 44, \"1\": 5, \"14\": 91, \"10\": 13, \"0\": 58, \"7\": 1, \"5\": 1, \"4\": 10}, \"10\": {\"1\": 26, \"13\": 33, \"10\": 91, \"5\": 31, \"14\": 13, \"0\": 46}, \"2\": {\"2\": 137, \"4\": 38, \"7\": 43, \"6\": 14, \"8\": 3, \"3\": 3, \"15\": 2}, \"8\": {\"15\": 17, \"8\": 127, \"11\": 39, \"4\": 9, \"13\": 8, \"7\": 18, \"6\": 17, \"2\": 4, \"14\": 1}, \"6\": {\"6\": 80, \"7\": 39, \"4\": 61, \"8\": 13, \"2\": 25, \"10\": 1, \"0\": 5, \"13\": 3, \"14\": 13}, \"7\": {\"2\": 55, \"7\": 71, \"8\": 13, \"6\": 48, \"11\": 1, \"4\": 50, \"15\": 2}, \"9\": {\"9\": 240}, \"11\": {\"11\": 79, \"15\": 53, \"8\": 52, \"3\": 3, \"12\": 35, \"6\": 7, \"7\": 5, \"4\": 3, \"2\": 3}, \"12\": {\"12\": 117, \"3\": 70, \"15\": 36, \"11\": 17}, \"13\": {\"13\": 84, \"10\": 23, \"1\": 36, \"14\": 58, \"0\": 32, \"5\": 4, \"6\": 1, \"8\": 2}, \"0\": {\"0\": 97, \"4\": 3, \"14\": 70, \"10\": 42, \"5\": 3, \"13\": 18, \"1\": 5, \"6\": 2}, \"3\": {\"3\": 160, \"12\": 68, \"11\": 2, \"15\": 10}, \"4\": {\"8\": 8, \"14\": 14, \"7\": 50, \"2\": 33, \"6\": 57, \"4\": 69, \"13\": 5, \"0\": 3, \"15\": 1}, \"15\": {\"11\": 50, \"7\": 7, \"12\": 35, \"15\": 97, \"8\": 26, \"2\": 6, \"3\": 17, \"6\": 1, \"4\": 1}, \"5\": {\"5\": 167, \"1\": 20, \"10\": 49, \"13\": 1, \"9\": 1, \"0\": 2}, \"1\": {\"1\": 141, \"5\": 25, \"13\": 36, \"10\": 29, \"0\": 6, \"14\": 3}}, \"44\": {\"13\": {\"13\": 198, \"4\": 27, \"6\": 11, \"14\": 1, \"15\": 1, \"11\": 2}, \"9\": {\"7\": 57, \"9\": 81, \"2\": 81, \"3\": 6, \"11\": 1, \"6\": 12, \"1\": 2}, \"15\": {\"15\": 166, \"14\": 48, \"8\": 5, \"4\": 19, \"5\": 2}, \"2\": {\"2\": 99, \"9\": 82, \"7\": 48, \"1\": 1, \"3\": 7, \"6\": 3}, \"3\": {\"12\": 10, \"1\": 28, \"3\": 197, \"2\": 4, \"9\": 1}, \"8\": {\"0\": 90, \"8\": 140, \"14\": 3, \"5\": 5, \"15\": 2}, \"5\": {\"5\": 188, \"14\": 34, \"15\": 3, \"8\": 11, \"0\": 4}, \"14\": {\"14\": 161, \"15\": 51, \"4\": 9, \"5\": 18, \"8\": 1}, \"1\": {\"1\": 97, \"3\": 53, \"12\": 79, \"7\": 5, \"2\": 3, \"9\": 2, \"10\": 1}, \"0\": {\"0\": 137, \"8\": 102, \"15\": 1}, \"10\": {\"10\": 222, \"12\": 12, \"1\": 5, \"11\": 1}, \"6\": {\"9\": 18, \"6\": 171, \"2\": 11, \"11\": 33, \"13\": 4, \"7\": 3}, \"11\": {\"9\": 7, \"6\": 41, \"11\": 184, \"7\": 5, \"2\": 3}, \"7\": {\"2\": 50, \"9\": 59, \"7\": 117, \"1\": 6, \"11\": 1, \"6\": 7}, \"4\": {\"4\": 202, \"15\": 16, \"14\": 11, \"13\": 11}, \"12\": {\"3\": 22, \"12\": 133, \"1\": 78, \"10\": 7}}, \"38\": {\"13\": {\"1\": 40, \"8\": 35, \"15\": 53, \"7\": 5, \"3\": 21, \"9\": 1, \"13\": 39, \"6\": 8, \"2\": 4, \"10\": 5, \"5\": 27, \"0\": 1, \"14\": 1}, \"12\": {\"12\": 204, \"4\": 22, \"14\": 12, \"10\": 1, \"11\": 1}, \"2\": {\"2\": 200, \"14\": 36, \"11\": 3, \"13\": 1}, \"9\": {\"9\": 131, \"6\": 92, \"0\": 4, \"3\": 13}, \"15\": {\"15\": 69, \"13\": 37, \"1\": 25, \"8\": 36, \"5\": 25, \"3\": 35, \"10\": 5, \"0\": 2, \"7\": 5, \"6\": 1}, \"5\": {\"8\": 72, \"5\": 76, \"7\": 28, \"3\": 4, \"1\": 5, \"15\": 22, \"13\": 28, \"10\": 4, \"0\": 1}, \"14\": {\"14\": 101, \"2\": 59, \"11\": 38, \"5\": 3, \"12\": 31, \"8\": 4, \"13\": 3, \"4\": 1}, \"0\": {\"0\": 169, \"3\": 44, \"10\": 2, \"6\": 6, \"9\": 15, \"7\": 2, \"13\": 1, \"15\": 1}, \"3\": {\"8\": 10, \"10\": 9, \"0\": 49, \"9\": 18, \"15\": 29, \"6\": 30, \"7\": 12, \"3\": 54, \"13\": 17, \"5\": 9, \"1\": 3}, \"1\": {\"1\": 182, \"15\": 29, \"13\": 25, \"3\": 1, \"8\": 2, \"5\": 1}, \"11\": {\"11\": 175, \"12\": 14, \"14\": 38, \"2\": 13}, \"7\": {\"10\": 77, \"8\": 23, \"7\": 94, \"5\": 26, \"0\": 2, \"13\": 6, \"3\": 6, \"15\": 4, \"4\": 1, \"14\": 1}, \"8\": {\"7\": 17, \"5\": 67, \"8\": 58, \"15\": 46, \"13\": 28, \"3\": 10, \"10\": 13, \"1\": 1}, \"4\": {\"12\": 22, \"10\": 3, \"4\": 209, \"7\": 6}, \"10\": {\"10\": 103, \"7\": 71, \"5\": 12, \"3\": 12, \"15\": 13, \"8\": 15, \"13\": 8, \"0\": 4, \"4\": 1, \"12\": 1}, \"6\": {\"9\": 73, \"6\": 150, \"3\": 15, \"13\": 1, \"0\": 1}}, \"26\": {\"10\": {\"10\": 36, \"6\": 35, \"0\": 36, \"1\": 44, \"14\": 26, \"5\": 5, \"7\": 7, \"2\": 8, \"4\": 16, \"8\": 17, \"3\": 4, \"15\": 4, \"9\": 2}, \"12\": {\"12\": 230, \"11\": 10}, \"1\": {\"14\": 39, \"7\": 5, \"1\": 70, \"0\": 50, \"10\": 36, \"8\": 11, \"6\": 10, \"4\": 9, \"9\": 4, \"2\": 3, \"5\": 2, \"15\": 1}, \"0\": {\"1\": 28, \"4\": 41, \"14\": 44, \"0\": 47, \"9\": 10, \"10\": 26, \"2\": 7, \"6\": 3, \"5\": 2, \"8\": 21, \"3\": 3, \"7\": 8}, \"15\": {\"3\": 78, \"2\": 30, \"15\": 87, \"0\": 4, \"4\": 15, \"7\": 21, \"13\": 1, \"1\": 1, \"10\": 2, \"5\": 1}, \"13\": {\"13\": 97, \"9\": 38, \"5\": 57, \"6\": 24, \"7\": 7, \"8\": 11, \"2\": 4, \"14\": 2}, \"8\": {\"13\": 10, \"7\": 29, \"5\": 12, \"2\": 13, \"14\": 22, \"9\": 27, \"8\": 47, \"0\": 16, \"1\": 16, \"10\": 24, \"6\": 8, \"3\": 3, \"4\": 12, \"15\": 1}, \"3\": {\"0\": 5, \"3\": 83, \"15\": 88, \"7\": 12, \"2\": 32, \"5\": 3, \"4\": 13, \"8\": 1, \"14\": 1, \"10\": 1, \"13\": 1}, \"11\": {\"11\": 230, \"12\": 10}, \"4\": {\"0\": 33, \"2\": 26, \"14\": 19, \"10\": 7, \"3\": 32, \"15\": 21, \"7\": 23, \"4\": 48, \"1\": 12, \"8\": 14, \"5\": 4, \"9\": 1}, \"6\": {\"9\": 19, \"6\": 124, \"13\": 37, \"5\": 23, \"10\": 16, \"14\": 7, \"1\": 5, \"8\": 6, \"2\": 1, \"0\": 2}, \"7\": {\"9\": 17, \"7\": 56, \"2\": 45, \"8\": 24, \"1\": 2, \"4\": 24, \"13\": 5, \"15\": 18, \"14\": 7, \"3\": 21, \"5\": 13, \"0\": 5, \"6\": 2, \"10\": 1}, \"14\": {\"1\": 56, \"8\": 21, \"0\": 37, \"4\": 22, \"14\": 50, \"10\": 24, \"9\": 8, \"6\": 11, \"2\": 5, \"7\": 4, \"3\": 1, \"13\": 1}, \"2\": {\"2\": 55, \"13\": 3, \"15\": 35, \"0\": 8, \"3\": 30, \"5\": 3, \"7\": 48, \"9\": 4, \"4\": 28, \"8\": 18, \"14\": 4, \"10\": 4}, \"5\": {\"2\": 24, \"6\": 34, \"9\": 30, \"7\": 22, \"4\": 2, \"8\": 12, \"0\": 3, \"13\": 45, \"5\": 43, \"14\": 6, \"15\": 6, \"3\": 7, \"1\": 2, \"10\": 4}, \"9\": {\"13\": 34, \"9\": 55, \"5\": 39, \"7\": 19, \"6\": 27, \"8\": 24, \"15\": 2, \"10\": 13, \"2\": 8, \"1\": 6, \"3\": 2, \"14\": 7, \"0\": 3, \"4\": 1}}, \"20\": {\"5\": {\"5\": 34, \"2\": 30, \"3\": 33, \"15\": 14, \"8\": 7, \"12\": 14, \"7\": 10, \"9\": 33, \"1\": 10, \"13\": 20, \"4\": 19, \"0\": 9, \"10\": 6, \"11\": 1}, \"15\": {\"13\": 49, \"1\": 23, \"5\": 17, \"9\": 25, \"12\": 29, \"15\": 41, \"2\": 21, \"3\": 7, \"0\": 18, \"4\": 9, \"7\": 1}, \"9\": {\"13\": 27, \"2\": 39, \"1\": 11, \"3\": 23, \"9\": 30, \"4\": 18, \"5\": 38, \"8\": 2, \"15\": 22, \"12\": 17, \"0\": 7, \"7\": 6}, \"7\": {\"7\": 87, \"14\": 8, \"3\": 29, \"8\": 47, \"6\": 15, \"10\": 24, \"5\": 2, \"2\": 10, \"9\": 6, \"0\": 1, \"11\": 7, \"13\": 1, \"15\": 1, \"4\": 2}, \"3\": {\"8\": 16, \"13\": 8, \"5\": 24, \"3\": 57, \"2\": 40, \"10\": 12, \"7\": 37, \"9\": 12, \"15\": 6, \"4\": 14, \"14\": 2, \"12\": 4, \"1\": 1, \"0\": 5, \"6\": 1, \"11\": 1}, \"8\": {\"14\": 38, \"4\": 6, \"8\": 53, \"7\": 46, \"5\": 4, \"2\": 4, \"10\": 60, \"6\": 10, \"3\": 17, \"9\": 2}, \"4\": {\"4\": 110, \"12\": 22, \"10\": 11, \"5\": 20, \"1\": 13, \"2\": 9, \"9\": 9, \"8\": 10, \"0\": 20, \"3\": 10, \"15\": 3, \"14\": 1, \"7\": 1, \"13\": 1}, \"6\": {\"6\": 185, \"14\": 26, \"7\": 8, \"11\": 7, \"8\": 7, \"10\": 7}, \"2\": {\"15\": 18, \"0\": 9, \"5\": 36, \"2\": 40, \"9\": 32, \"3\": 31, \"13\": 30, \"4\": 8, \"1\": 3, \"7\": 10, \"12\": 10, \"10\": 2, \"8\": 11}, \"12\": {\"1\": 34, \"13\": 10, \"4\": 22, \"15\": 28, \"12\": 29, \"9\": 25, \"0\": 48, \"3\": 5, \"10\": 1, \"2\": 20, \"5\": 17, \"7\": 1}, \"0\": {\"3\": 5, \"12\": 34, \"9\": 6, \"0\": 41, \"4\": 30, \"1\": 73, \"5\": 7, \"7\": 1, \"2\": 12, \"15\": 18, \"13\": 13}, \"13\": {\"13\": 80, \"15\": 43, \"1\": 17, \"2\": 24, \"0\": 9, \"9\": 33, \"4\": 1, \"12\": 16, \"5\": 10, \"3\": 7}, \"10\": {\"10\": 76, \"4\": 6, \"7\": 24, \"14\": 57, \"8\": 47, \"5\": 1, \"3\": 15, \"6\": 10, \"9\": 3, \"2\": 1}, \"11\": {\"11\": 218, \"6\": 7, \"7\": 12, \"5\": 1, \"8\": 1, \"10\": 1}, \"14\": {\"10\": 56, \"14\": 88, \"7\": 15, \"6\": 42, \"8\": 35, \"4\": 2, \"3\": 2}, \"1\": {\"0\": 65, \"1\": 75, \"12\": 34, \"15\": 27, \"5\": 3, \"13\": 16, \"9\": 8, \"4\": 8, \"2\": 3, \"3\": 1}}, \"14\": {\"13\": {\"13\": 132, \"6\": 55, \"14\": 9, \"2\": 34, \"4\": 3, \"5\": 4, \"15\": 1, \"7\": 1, \"1\": 1}, \"4\": {\"1\": 37, \"5\": 51, \"4\": 64, \"3\": 46, \"2\": 30, \"6\": 3, \"14\": 8, \"13\": 1}, \"6\": {\"6\": 90, \"13\": 53, \"14\": 52, \"2\": 27, \"5\": 8, \"4\": 7, \"3\": 3}, \"0\": {\"0\": 207, \"10\": 21, \"9\": 3, \"8\": 4, \"3\": 1, \"14\": 4}, \"10\": {\"0\": 40, \"12\": 2, \"10\": 174, \"9\": 3, \"11\": 21}, \"7\": {\"7\": 200, \"15\": 37, \"1\": 3}, \"14\": {\"5\": 14, \"3\": 38, \"4\": 19, \"6\": 41, \"13\": 9, \"14\": 86, \"0\": 5, \"2\": 28}, \"15\": {\"15\": 175, \"7\": 65}, \"5\": {\"1\": 57, \"4\": 54, \"7\": 1, \"6\": 5, \"5\": 72, \"2\": 22, \"3\": 18, \"13\": 4, \"14\": 7}, \"2\": {\"4\": 34, \"13\": 44, \"3\": 19, \"2\": 47, \"5\": 25, \"14\": 31, \"6\": 28, \"15\": 1, \"1\": 11}, \"9\": {\"9\": 221, \"11\": 11, \"10\": 3, \"0\": 3, \"12\": 2}, \"12\": {\"11\": 47, \"0\": 15, \"12\": 137, \"10\": 11, \"9\": 20, \"8\": 10}, \"8\": {\"8\": 237, \"5\": 1, \"0\": 1, \"3\": 1}, \"3\": {\"3\": 146, \"4\": 41, \"14\": 24, \"1\": 4, \"0\": 3, \"5\": 9, \"8\": 5, \"6\": 1, \"2\": 7}, \"1\": {\"1\": 163, \"5\": 45, \"3\": 9, \"15\": 1, \"4\": 19, \"2\": 2, \"7\": 1}, \"11\": {\"11\": 191, \"12\": 23, \"9\": 14, \"10\": 12}}}, \"per_domain_accuracy\": {\"32\": {\"accuracy\": 0.64609375, \"source?\": true}, \"50\": {\"accuracy\": 0.67734375, \"source?\": true}, \"8\": {\"accuracy\": 0.48125, \"source?\": true}, \"44\": {\"accuracy\": 0.64921875, \"source?\": false}, \"38\": {\"accuracy\": 0.5244791666666667, \"source?\": false}, \"26\": {\"accuracy\": 0.3536458333333333, \"source?\": false}, \"20\": {\"accuracy\": 0.32395833333333335, \"source?\": false}, \"14\": {\"accuracy\": 0.6098958333333333, \"source?\": false}}}, \"history\": {\"epoch_indices\": [1, 2, 3, 4, 5, 6, 7, 8, 9, 10, 11, 12], \"train_label_loss\": [1.8096811913308644, 1.33811682935745, 1.2086800440436318, 0.975777715598307, 0.7494788186299423, 0.601490589819612, 0.48389378877149686, 0.39528950950101255, 0.32591918254537244, 0.27707967217494217, 0.23138399249171868, 0.20196280417102758], \"source_val_label_loss\": [1.4994372129440308, 1.3690414428710938, 1.3913402557373047, 1.1752901077270508, 1.1750030517578125, 1.1807129383087158, 1.2672239542007446, 1.3063302040100098, 1.4324368238449097, 1.4785560369491577, 1.5780481100082397, 1.6472734212875366], \"target_val_label_loss\": [1.9016889333724976, 1.8603860139846802, 1.8600138425827026, 1.602160096168518, 1.6147980690002441, 1.6470592021942139, 1.7531323432922363, 1.8370721340179443, 1.972517490386963, 2.065511465072632, 2.18855357170105, 2.296992540359497], \"source_val_acc_label\": [0.39288194444444446, 0.4327256944444444, 0.4449652777777778, 0.5522569444444444, 0.5756944444444444, 0.5928819444444444, 0.5925347222222223, 0.6015625, 0.5905381944444444, 0.5897569444444445, 0.5931423611111111, 0.6004340277777778], \"target_val_acc_label\": [0.2842708333333333, 0.3109895833333333, 0.3309375, 0.45348958333333333, 0.4715625, 0.48671875, 0.4841666666666667, 0.49223958333333334, 0.4858854166666667, 0.48895833333333333, 0.49046875, 0.48541666666666666]}, \"dataset_metrics\": {\"source\": {\"train\": {\"n_unique_x\": 67200, \"n_unique_y\": 16, \"n_batch/episode\": 2520}, \"val\": {\"n_unique_x\": 14400, \"n_unique_y\": 16, \"n_batch/episode\": 360}, \"test\": {\"n_unique_x\": 14400, \"n_unique_y\": 16, \"n_batch/episode\": 360}}, \"target\": {\"train\": {\"n_unique_x\": 112000, \"n_unique_y\": 16, \"n_batch/episode\": 4200}, \"val\": {\"n_unique_x\": 24000, \"n_unique_y\": 16, \"n_batch/episode\": 600}, \"test\": {\"n_unique_x\": 24000, \"n_unique_y\": 16, \"n_batch/episode\": 600}}}}'"
      ]
     },
     "execution_count": 20,
     "metadata": {},
     "output_type": "execute_result"
    }
   ],
   "source": [
    "json.dumps(experiment)"
   ]
  }
 ],
 "metadata": {
  "celltoolbar": "Tags",
  "kernelspec": {
   "display_name": "Python 3 (ipykernel)",
   "language": "python",
   "name": "python3"
  },
  "language_info": {
   "codemirror_mode": {
    "name": "ipython",
    "version": 3
   },
   "file_extension": ".py",
   "mimetype": "text/x-python",
   "name": "python",
   "nbconvert_exporter": "python",
   "pygments_lexer": "ipython3",
   "version": "3.8.10"
  },
  "papermill": {
   "default_parameters": {},
   "duration": 928.25135,
   "end_time": "2022-04-01T16:52:59.351072",
   "environment_variables": {},
   "exception": null,
   "input_path": "/mnt/wd500GB/CSC500/csc500-main/csc500-notebooks/templates/ptn_template.ipynb",
   "output_path": "trial.ipynb",
   "parameters": {
    "parameters": {
     "BEST_MODEL_PATH": "./best_model.pth",
     "NUM_LOGS_PER_EPOCH": 10,
     "criteria_for_best": "target_accuracy",
     "dataset_seed": 154325,
     "device": "cuda",
     "domains_source": [
      8,
      32,
      50
     ],
     "domains_target": [
      14,
      20,
      26,
      38,
      44
     ],
     "episode_transforms_source": [],
     "episode_transforms_target": [],
     "experiment_name": "tuned_1v2:oracle.run2_limited",
     "labels_source": [
      "3123D52",
      "3123D65",
      "3123D79",
      "3123D80",
      "3123D54",
      "3123D70",
      "3123D7B",
      "3123D89",
      "3123D58",
      "3123D76",
      "3123D7D",
      "3123EFE",
      "3123D64",
      "3123D78",
      "3123D7E",
      "3124E4A"
     ],
     "labels_target": [
      "3123D52",
      "3123D65",
      "3123D79",
      "3123D80",
      "3123D54",
      "3123D70",
      "3123D7B",
      "3123D89",
      "3123D58",
      "3123D76",
      "3123D7D",
      "3123EFE",
      "3123D64",
      "3123D78",
      "3123D7E",
      "3124E4A"
     ],
     "lr": 0.0001,
     "n_epoch": 50,
     "n_query": 2,
     "n_shot": 3,
     "n_way": 16,
     "num_examples_per_domain_per_label_source": 2000,
     "num_examples_per_domain_per_label_target": 2000,
     "patience": 3,
     "pickle_name": "oracle.Run2_10kExamples_stratified_ds.2022A.pkl",
     "seed": 154325,
     "test_k_factor": 2,
     "torch_default_dtype": "torch.float32",
     "train_k_factor": 3,
     "val_k_factor": 2,
     "x_net": [
      {
       "class": "nnReshape",
       "kargs": {
        "shape": [
         -1,
         1,
         2,
         256
        ]
       }
      },
      {
       "class": "Conv2d",
       "kargs": {
        "bias": false,
        "in_channels": 1,
        "kernel_size": [
         1,
         7
        ],
        "out_channels": 256,
        "padding": [
         0,
         3
        ]
       }
      },
      {
       "class": "ReLU",
       "kargs": {
        "inplace": true
       }
      },
      {
       "class": "BatchNorm2d",
       "kargs": {
        "num_features": 256
       }
      },
      {
       "class": "Conv2d",
       "kargs": {
        "bias": true,
        "in_channels": 256,
        "kernel_size": [
         2,
         7
        ],
        "out_channels": 80,
        "padding": [
         0,
         3
        ]
       }
      },
      {
       "class": "ReLU",
       "kargs": {
        "inplace": true
       }
      },
      {
       "class": "BatchNorm2d",
       "kargs": {
        "num_features": 80
       }
      },
      {
       "class": "Flatten",
       "kargs": {}
      },
      {
       "class": "Linear",
       "kargs": {
        "in_features": 20480,
        "out_features": 256
       }
      },
      {
       "class": "ReLU",
       "kargs": {
        "inplace": true
       }
      },
      {
       "class": "BatchNorm1d",
       "kargs": {
        "num_features": 256
       }
      },
      {
       "class": "Linear",
       "kargs": {
        "in_features": 256,
        "out_features": 256
       }
      }
     ],
     "x_transforms_source": [
      "unit_mag"
     ],
     "x_transforms_target": [
      "unit_mag"
     ]
    }
   },
   "start_time": "2022-04-01T16:37:31.099722",
   "version": "2.3.4"
  }
 },
 "nbformat": 4,
 "nbformat_minor": 5
}