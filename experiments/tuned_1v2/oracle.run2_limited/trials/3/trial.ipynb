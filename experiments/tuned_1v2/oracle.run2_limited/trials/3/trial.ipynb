{
 "cells": [
  {
   "cell_type": "markdown",
   "id": "9fea5f46",
   "metadata": {
    "papermill": {
     "duration": 0.013596,
     "end_time": "2022-04-01T16:00:32.924573",
     "exception": false,
     "start_time": "2022-04-01T16:00:32.910977",
     "status": "completed"
    },
    "tags": []
   },
   "source": [
    "# PTN Template\n",
    "This notebook serves as a template for single dataset PTN experiments  \n",
    "It can be run on its own by setting STANDALONE to True (do a find for \"STANDALONE\" to see where)  \n",
    "But it is intended to be executed as part of a *papermill.py script. See any of the   \n",
    "experimentes with a papermill script to get started with that workflow.  "
   ]
  },
  {
   "cell_type": "code",
   "execution_count": 1,
   "id": "0902182a",
   "metadata": {
    "execution": {
     "iopub.execute_input": "2022-04-01T16:00:32.955843Z",
     "iopub.status.busy": "2022-04-01T16:00:32.955343Z",
     "iopub.status.idle": "2022-04-01T16:00:33.865170Z",
     "shell.execute_reply": "2022-04-01T16:00:33.865396Z"
    },
    "papermill": {
     "duration": 0.931579,
     "end_time": "2022-04-01T16:00:33.865518",
     "exception": false,
     "start_time": "2022-04-01T16:00:32.933939",
     "status": "completed"
    },
    "tags": []
   },
   "outputs": [],
   "source": [
    "%load_ext autoreload\n",
    "%autoreload 2\n",
    "%matplotlib inline\n",
    "\n",
    "    \n",
    "import os, json, sys, time, random\n",
    "import numpy as np\n",
    "import torch\n",
    "from torch.optim import Adam\n",
    "from  easydict import EasyDict\n",
    "import matplotlib.pyplot as plt\n",
    "\n",
    "from steves_models.steves_ptn import Steves_Prototypical_Network\n",
    "\n",
    "from steves_utils.lazy_iterable_wrapper import Lazy_Iterable_Wrapper\n",
    "from steves_utils.iterable_aggregator import Iterable_Aggregator\n",
    "from steves_utils.ptn_train_eval_test_jig import  PTN_Train_Eval_Test_Jig\n",
    "from steves_utils.torch_sequential_builder import build_sequential\n",
    "from steves_utils.torch_utils import get_dataset_metrics, ptn_confusion_by_domain_over_dataloader\n",
    "from steves_utils.utils_v2 import (per_domain_accuracy_from_confusion, get_datasets_base_path)\n",
    "from steves_utils.PTN.utils import independent_accuracy_assesment\n",
    "\n",
    "from steves_utils.stratified_dataset.episodic_accessor import Episodic_Accessor_Factory\n",
    "\n",
    "from steves_utils.ptn_do_report import (\n",
    "    get_loss_curve,\n",
    "    get_results_table,\n",
    "    get_parameters_table,\n",
    "    get_domain_accuracies,\n",
    ")\n",
    "\n",
    "from steves_utils.transforms import get_chained_transform"
   ]
  },
  {
   "cell_type": "markdown",
   "id": "41c840b4",
   "metadata": {
    "papermill": {
     "duration": 0.009366,
     "end_time": "2022-04-01T16:00:33.884770",
     "exception": false,
     "start_time": "2022-04-01T16:00:33.875404",
     "status": "completed"
    },
    "tags": []
   },
   "source": [
    "# Required Parameters\n",
    "These are allowed parameters, not defaults\n",
    "Each of these values need to be present in the injected parameters (the notebook will raise an exception if they are not present)\n",
    "\n",
    "Papermill uses the cell tag \"parameters\" to inject the real parameters below this cell.\n",
    "Enable tags to see what I mean"
   ]
  },
  {
   "cell_type": "code",
   "execution_count": 2,
   "id": "fd44eb83",
   "metadata": {
    "execution": {
     "iopub.execute_input": "2022-04-01T16:00:33.908212Z",
     "iopub.status.busy": "2022-04-01T16:00:33.905968Z",
     "iopub.status.idle": "2022-04-01T16:00:33.917263Z",
     "shell.execute_reply": "2022-04-01T16:00:33.917473Z"
    },
    "papermill": {
     "duration": 0.023418,
     "end_time": "2022-04-01T16:00:33.917541",
     "exception": false,
     "start_time": "2022-04-01T16:00:33.894123",
     "status": "completed"
    },
    "tags": []
   },
   "outputs": [],
   "source": [
    "required_parameters = {\n",
    "    \"experiment_name\",\n",
    "    \"lr\",\n",
    "    \"device\",\n",
    "    \"seed\",\n",
    "    \"dataset_seed\",\n",
    "    \"labels_source\",\n",
    "    \"labels_target\",\n",
    "    \"domains_source\",\n",
    "    \"domains_target\",\n",
    "    \"num_examples_per_domain_per_label_source\",\n",
    "    \"num_examples_per_domain_per_label_target\",\n",
    "    \"n_shot\",\n",
    "    \"n_way\",\n",
    "    \"n_query\",\n",
    "    \"train_k_factor\",\n",
    "    \"val_k_factor\",\n",
    "    \"test_k_factor\",\n",
    "    \"n_epoch\",\n",
    "    \"patience\",\n",
    "    \"criteria_for_best\",\n",
    "    \"x_transforms_source\",\n",
    "    \"x_transforms_target\",\n",
    "    \"episode_transforms_source\",\n",
    "    \"episode_transforms_target\",\n",
    "    \"pickle_name\",\n",
    "    \"x_net\",\n",
    "    \"NUM_LOGS_PER_EPOCH\",\n",
    "    \"BEST_MODEL_PATH\",\n",
    "    \"torch_default_dtype\"\n",
    "}"
   ]
  },
  {
   "cell_type": "code",
   "execution_count": 3,
   "id": "fa3f0049",
   "metadata": {
    "execution": {
     "iopub.execute_input": "2022-04-01T16:00:33.943148Z",
     "iopub.status.busy": "2022-04-01T16:00:33.942162Z",
     "iopub.status.idle": "2022-04-01T16:00:33.954254Z",
     "shell.execute_reply": "2022-04-01T16:00:33.954461Z"
    },
    "papermill": {
     "duration": 0.02744,
     "end_time": "2022-04-01T16:00:33.954536",
     "exception": false,
     "start_time": "2022-04-01T16:00:33.927096",
     "status": "completed"
    },
    "tags": [
     "parameters"
    ]
   },
   "outputs": [],
   "source": [
    "\n",
    "\n",
    "standalone_parameters = {}\n",
    "standalone_parameters[\"experiment_name\"] = \"STANDALONE PTN\"\n",
    "standalone_parameters[\"lr\"] = 0.0001\n",
    "standalone_parameters[\"device\"] = \"cuda\"\n",
    "\n",
    "standalone_parameters[\"seed\"] = 1337\n",
    "standalone_parameters[\"dataset_seed\"] = 1337\n",
    "\n",
    "\n",
    "standalone_parameters[\"num_examples_per_domain_per_label_source\"]=100\n",
    "standalone_parameters[\"num_examples_per_domain_per_label_target\"]=100\n",
    "\n",
    "standalone_parameters[\"n_shot\"] = 3\n",
    "standalone_parameters[\"n_query\"]  = 2\n",
    "standalone_parameters[\"train_k_factor\"] = 1\n",
    "standalone_parameters[\"val_k_factor\"] = 2\n",
    "standalone_parameters[\"test_k_factor\"] = 2\n",
    "\n",
    "\n",
    "standalone_parameters[\"n_epoch\"] = 100\n",
    "\n",
    "standalone_parameters[\"patience\"] = 10\n",
    "standalone_parameters[\"criteria_for_best\"] = \"target_accuracy\"\n",
    "\n",
    "standalone_parameters[\"x_transforms_source\"] = [\"unit_power\"]\n",
    "standalone_parameters[\"x_transforms_target\"] = [\"unit_power\"]\n",
    "standalone_parameters[\"episode_transforms_source\"] = []\n",
    "standalone_parameters[\"episode_transforms_target\"] = []\n",
    "\n",
    "standalone_parameters[\"torch_default_dtype\"] = \"torch.float32\" \n",
    "\n",
    "\n",
    "\n",
    "standalone_parameters[\"x_net\"] =     [\n",
    "    {\"class\": \"nnReshape\", \"kargs\": {\"shape\":[-1, 1, 2, 256]}},\n",
    "    {\"class\": \"Conv2d\", \"kargs\": { \"in_channels\":1, \"out_channels\":256, \"kernel_size\":(1,7), \"bias\":False, \"padding\":(0,3), },},\n",
    "    {\"class\": \"ReLU\", \"kargs\": {\"inplace\": True}},\n",
    "    {\"class\": \"BatchNorm2d\", \"kargs\": {\"num_features\":256}},\n",
    "\n",
    "    {\"class\": \"Conv2d\", \"kargs\": { \"in_channels\":256, \"out_channels\":80, \"kernel_size\":(2,7), \"bias\":True, \"padding\":(0,3), },},\n",
    "    {\"class\": \"ReLU\", \"kargs\": {\"inplace\": True}},\n",
    "    {\"class\": \"BatchNorm2d\", \"kargs\": {\"num_features\":80}},\n",
    "    {\"class\": \"Flatten\", \"kargs\": {}},\n",
    "\n",
    "    {\"class\": \"Linear\", \"kargs\": {\"in_features\": 80*256, \"out_features\": 256}}, # 80 units per IQ pair\n",
    "    {\"class\": \"ReLU\", \"kargs\": {\"inplace\": True}},\n",
    "    {\"class\": \"BatchNorm1d\", \"kargs\": {\"num_features\":256}},\n",
    "\n",
    "    {\"class\": \"Linear\", \"kargs\": {\"in_features\": 256, \"out_features\": 256}},\n",
    "]\n",
    "\n",
    "# Parameters relevant to results\n",
    "# These parameters will basically never need to change\n",
    "standalone_parameters[\"NUM_LOGS_PER_EPOCH\"] = 10\n",
    "standalone_parameters[\"BEST_MODEL_PATH\"] = \"./best_model.pth\"\n",
    "\n",
    "# uncomment for CORES dataset\n",
    "from steves_utils.CORES.utils import (\n",
    "    ALL_NODES,\n",
    "    ALL_NODES_MINIMUM_1000_EXAMPLES,\n",
    "    ALL_DAYS\n",
    ")\n",
    "\n",
    "\n",
    "standalone_parameters[\"labels_source\"] = ALL_NODES\n",
    "standalone_parameters[\"labels_target\"] = ALL_NODES\n",
    "\n",
    "standalone_parameters[\"domains_source\"] = [1]\n",
    "standalone_parameters[\"domains_target\"] = [2,3,4,5]\n",
    "\n",
    "standalone_parameters[\"pickle_name\"] = \"cores.stratified_ds.2022A.pkl\"\n",
    "\n",
    "\n",
    "# Uncomment these for ORACLE dataset\n",
    "# from steves_utils.ORACLE.utils_v2 import (\n",
    "#     ALL_DISTANCES_FEET,\n",
    "#     ALL_RUNS,\n",
    "#     ALL_SERIAL_NUMBERS,\n",
    "# )\n",
    "# standalone_parameters[\"labels_source\"] = ALL_SERIAL_NUMBERS\n",
    "# standalone_parameters[\"labels_target\"] = ALL_SERIAL_NUMBERS\n",
    "# standalone_parameters[\"domains_source\"] = [8,20, 38,50]\n",
    "# standalone_parameters[\"domains_target\"] = [14, 26, 32, 44, 56]\n",
    "# standalone_parameters[\"pickle_name\"] = \"oracle.frame_indexed.stratified_ds.2022A.pkl\"\n",
    "# standalone_parameters[\"num_examples_per_domain_per_label_source\"]=1000\n",
    "# standalone_parameters[\"num_examples_per_domain_per_label_target\"]=1000\n",
    "\n",
    "# Uncomment these for Metahan dataset\n",
    "# standalone_parameters[\"labels_source\"] = list(range(19))\n",
    "# standalone_parameters[\"labels_target\"] = list(range(19))\n",
    "# standalone_parameters[\"domains_source\"] = [0]\n",
    "# standalone_parameters[\"domains_target\"] = [1]\n",
    "# standalone_parameters[\"pickle_name\"] = \"metehan.stratified_ds.2022A.pkl\"\n",
    "# standalone_parameters[\"n_way\"]  = len(standalone_parameters[\"labels_source\"])\n",
    "# standalone_parameters[\"num_examples_per_domain_per_label_source\"]=200\n",
    "# standalone_parameters[\"num_examples_per_domain_per_label_target\"]=100\n",
    "\n",
    "\n",
    "standalone_parameters[\"n_way\"]  = len(standalone_parameters[\"labels_source\"])"
   ]
  },
  {
   "cell_type": "code",
   "execution_count": 4,
   "id": "6d34a551",
   "metadata": {
    "execution": {
     "iopub.execute_input": "2022-04-01T16:00:33.982383Z",
     "iopub.status.busy": "2022-04-01T16:00:33.978914Z",
     "iopub.status.idle": "2022-04-01T16:00:33.991325Z",
     "shell.execute_reply": "2022-04-01T16:00:33.991544Z"
    },
    "papermill": {
     "duration": 0.027339,
     "end_time": "2022-04-01T16:00:33.991613",
     "exception": false,
     "start_time": "2022-04-01T16:00:33.964274",
     "status": "completed"
    },
    "tags": [
     "injected-parameters"
    ]
   },
   "outputs": [],
   "source": [
    "# Parameters\n",
    "parameters = {\n",
    "    \"experiment_name\": \"tuned_1v2:oracle.run2_limited\",\n",
    "    \"device\": \"cuda\",\n",
    "    \"lr\": 0.0001,\n",
    "    \"labels_source\": [\n",
    "        \"3123D52\",\n",
    "        \"3123D65\",\n",
    "        \"3123D79\",\n",
    "        \"3123D80\",\n",
    "        \"3123D54\",\n",
    "        \"3123D70\",\n",
    "        \"3123D7B\",\n",
    "        \"3123D89\",\n",
    "        \"3123D58\",\n",
    "        \"3123D76\",\n",
    "        \"3123D7D\",\n",
    "        \"3123EFE\",\n",
    "        \"3123D64\",\n",
    "        \"3123D78\",\n",
    "        \"3123D7E\",\n",
    "        \"3124E4A\",\n",
    "    ],\n",
    "    \"labels_target\": [\n",
    "        \"3123D52\",\n",
    "        \"3123D65\",\n",
    "        \"3123D79\",\n",
    "        \"3123D80\",\n",
    "        \"3123D54\",\n",
    "        \"3123D70\",\n",
    "        \"3123D7B\",\n",
    "        \"3123D89\",\n",
    "        \"3123D58\",\n",
    "        \"3123D76\",\n",
    "        \"3123D7D\",\n",
    "        \"3123EFE\",\n",
    "        \"3123D64\",\n",
    "        \"3123D78\",\n",
    "        \"3123D7E\",\n",
    "        \"3124E4A\",\n",
    "    ],\n",
    "    \"episode_transforms_source\": [],\n",
    "    \"episode_transforms_target\": [],\n",
    "    \"domains_source\": [8, 32, 50],\n",
    "    \"domains_target\": [14, 20, 26, 38, 44],\n",
    "    \"num_examples_per_domain_per_label_source\": 2000,\n",
    "    \"num_examples_per_domain_per_label_target\": 2000,\n",
    "    \"n_shot\": 3,\n",
    "    \"n_way\": 16,\n",
    "    \"n_query\": 2,\n",
    "    \"train_k_factor\": 3,\n",
    "    \"val_k_factor\": 2,\n",
    "    \"test_k_factor\": 2,\n",
    "    \"torch_default_dtype\": \"torch.float32\",\n",
    "    \"n_epoch\": 50,\n",
    "    \"patience\": 3,\n",
    "    \"criteria_for_best\": \"target_accuracy\",\n",
    "    \"x_net\": [\n",
    "        {\"class\": \"nnReshape\", \"kargs\": {\"shape\": [-1, 1, 2, 256]}},\n",
    "        {\n",
    "            \"class\": \"Conv2d\",\n",
    "            \"kargs\": {\n",
    "                \"in_channels\": 1,\n",
    "                \"out_channels\": 256,\n",
    "                \"kernel_size\": [1, 7],\n",
    "                \"bias\": False,\n",
    "                \"padding\": [0, 3],\n",
    "            },\n",
    "        },\n",
    "        {\"class\": \"ReLU\", \"kargs\": {\"inplace\": True}},\n",
    "        {\"class\": \"BatchNorm2d\", \"kargs\": {\"num_features\": 256}},\n",
    "        {\n",
    "            \"class\": \"Conv2d\",\n",
    "            \"kargs\": {\n",
    "                \"in_channels\": 256,\n",
    "                \"out_channels\": 80,\n",
    "                \"kernel_size\": [2, 7],\n",
    "                \"bias\": True,\n",
    "                \"padding\": [0, 3],\n",
    "            },\n",
    "        },\n",
    "        {\"class\": \"ReLU\", \"kargs\": {\"inplace\": True}},\n",
    "        {\"class\": \"BatchNorm2d\", \"kargs\": {\"num_features\": 80}},\n",
    "        {\"class\": \"Flatten\", \"kargs\": {}},\n",
    "        {\"class\": \"Linear\", \"kargs\": {\"in_features\": 20480, \"out_features\": 256}},\n",
    "        {\"class\": \"ReLU\", \"kargs\": {\"inplace\": True}},\n",
    "        {\"class\": \"BatchNorm1d\", \"kargs\": {\"num_features\": 256}},\n",
    "        {\"class\": \"Linear\", \"kargs\": {\"in_features\": 256, \"out_features\": 256}},\n",
    "    ],\n",
    "    \"NUM_LOGS_PER_EPOCH\": 10,\n",
    "    \"BEST_MODEL_PATH\": \"./best_model.pth\",\n",
    "    \"pickle_name\": \"oracle.Run2_10kExamples_stratified_ds.2022A.pkl\",\n",
    "    \"x_transforms_source\": [\"unit_mag\"],\n",
    "    \"x_transforms_target\": [\"unit_mag\"],\n",
    "    \"dataset_seed\": 420,\n",
    "    \"seed\": 420,\n",
    "}\n"
   ]
  },
  {
   "cell_type": "code",
   "execution_count": 5,
   "id": "8fa1cc33",
   "metadata": {
    "execution": {
     "iopub.execute_input": "2022-04-01T16:00:34.016712Z",
     "iopub.status.busy": "2022-04-01T16:00:34.016460Z",
     "iopub.status.idle": "2022-04-01T16:00:34.031401Z",
     "shell.execute_reply": "2022-04-01T16:00:34.030973Z"
    },
    "papermill": {
     "duration": 0.030004,
     "end_time": "2022-04-01T16:00:34.031500",
     "exception": false,
     "start_time": "2022-04-01T16:00:34.001496",
     "status": "completed"
    },
    "tags": []
   },
   "outputs": [],
   "source": [
    "# Set this to True if you want to run this template directly\n",
    "STANDALONE = False\n",
    "if STANDALONE:\n",
    "    print(\"parameters not injected, running with standalone_parameters\")\n",
    "    parameters = standalone_parameters\n",
    "\n",
    "if not 'parameters' in locals() and not 'parameters' in globals():\n",
    "    raise Exception(\"Parameter injection failed\")\n",
    "\n",
    "#Use an easy dict for all the parameters\n",
    "p = EasyDict(parameters)\n",
    "\n",
    "supplied_keys = set(p.keys())\n",
    "\n",
    "if  supplied_keys != required_parameters:\n",
    "    print(\"Parameters are incorrect\")\n",
    "    if len(supplied_keys - required_parameters)>0: print(\"Shouldn't have:\", str(supplied_keys - required_parameters))\n",
    "    if len(required_parameters - supplied_keys)>0: print(\"Need to have:\", str(required_parameters - supplied_keys))\n",
    "    raise RuntimeError(\"Parameters are incorrect\")\n",
    "\n"
   ]
  },
  {
   "cell_type": "code",
   "execution_count": 6,
   "id": "3a028d58",
   "metadata": {
    "execution": {
     "iopub.execute_input": "2022-04-01T16:00:34.056009Z",
     "iopub.status.busy": "2022-04-01T16:00:34.054688Z",
     "iopub.status.idle": "2022-04-01T16:00:34.068789Z",
     "shell.execute_reply": "2022-04-01T16:00:34.068306Z"
    },
    "papermill": {
     "duration": 0.025432,
     "end_time": "2022-04-01T16:00:34.068889",
     "exception": false,
     "start_time": "2022-04-01T16:00:34.043457",
     "status": "completed"
    },
    "tags": []
   },
   "outputs": [],
   "source": [
    "###################################\n",
    "# Set the RNGs and make it all deterministic\n",
    "###################################\n",
    "np.random.seed(p.seed)\n",
    "random.seed(p.seed)\n",
    "torch.manual_seed(p.seed)\n",
    "\n",
    "torch.use_deterministic_algorithms(True) "
   ]
  },
  {
   "cell_type": "code",
   "execution_count": 7,
   "id": "b691acf6",
   "metadata": {
    "execution": {
     "iopub.execute_input": "2022-04-01T16:00:34.101662Z",
     "iopub.status.busy": "2022-04-01T16:00:34.094890Z",
     "iopub.status.idle": "2022-04-01T16:00:34.110882Z",
     "shell.execute_reply": "2022-04-01T16:00:34.110439Z"
    },
    "papermill": {
     "duration": 0.026918,
     "end_time": "2022-04-01T16:00:34.110982",
     "exception": false,
     "start_time": "2022-04-01T16:00:34.084064",
     "status": "completed"
    },
    "tags": []
   },
   "outputs": [],
   "source": [
    "###########################################\n",
    "# The stratified datasets honor this\n",
    "###########################################\n",
    "torch.set_default_dtype(eval(p.torch_default_dtype))"
   ]
  },
  {
   "cell_type": "code",
   "execution_count": 8,
   "id": "b5fba671",
   "metadata": {
    "execution": {
     "iopub.execute_input": "2022-04-01T16:00:34.141347Z",
     "iopub.status.busy": "2022-04-01T16:00:34.138920Z",
     "iopub.status.idle": "2022-04-01T16:00:34.180065Z",
     "shell.execute_reply": "2022-04-01T16:00:34.179669Z"
    },
    "papermill": {
     "duration": 0.053221,
     "end_time": "2022-04-01T16:00:34.180151",
     "exception": false,
     "start_time": "2022-04-01T16:00:34.126930",
     "status": "completed"
    },
    "tags": []
   },
   "outputs": [],
   "source": [
    "###################################\n",
    "# Build the network(s)\n",
    "# Note: It's critical to do this AFTER setting the RNG\n",
    "# (This is due to the randomized initial weights)\n",
    "###################################\n",
    "x_net = build_sequential(p.x_net)"
   ]
  },
  {
   "cell_type": "code",
   "execution_count": 9,
   "id": "5d7e61cc",
   "metadata": {
    "execution": {
     "iopub.execute_input": "2022-04-01T16:00:34.207261Z",
     "iopub.status.busy": "2022-04-01T16:00:34.207015Z",
     "iopub.status.idle": "2022-04-01T16:00:34.222314Z",
     "shell.execute_reply": "2022-04-01T16:00:34.221890Z"
    },
    "papermill": {
     "duration": 0.027794,
     "end_time": "2022-04-01T16:00:34.222414",
     "exception": false,
     "start_time": "2022-04-01T16:00:34.194620",
     "status": "completed"
    },
    "tags": []
   },
   "outputs": [],
   "source": [
    "start_time_secs = time.time()"
   ]
  },
  {
   "cell_type": "code",
   "execution_count": 10,
   "id": "fd5442bc",
   "metadata": {
    "execution": {
     "iopub.execute_input": "2022-04-01T16:00:34.252978Z",
     "iopub.status.busy": "2022-04-01T16:00:34.252709Z",
     "iopub.status.idle": "2022-04-01T16:00:52.577034Z",
     "shell.execute_reply": "2022-04-01T16:00:52.576547Z"
    },
    "papermill": {
     "duration": 18.339528,
     "end_time": "2022-04-01T16:00:52.577143",
     "exception": false,
     "start_time": "2022-04-01T16:00:34.237615",
     "status": "completed"
    },
    "tags": []
   },
   "outputs": [],
   "source": [
    "###################################\n",
    "# Build the dataset\n",
    "###################################\n",
    "\n",
    "if p.x_transforms_source == []: x_transform_source = None\n",
    "else: x_transform_source = get_chained_transform(p.x_transforms_source) \n",
    "\n",
    "if p.x_transforms_target == []: x_transform_target = None\n",
    "else: x_transform_target = get_chained_transform(p.x_transforms_target)\n",
    "\n",
    "if p.episode_transforms_source == []: episode_transform_source = None\n",
    "else: raise Exception(\"episode_transform_source not implemented\")\n",
    "\n",
    "if p.episode_transforms_target == []: episode_transform_target = None\n",
    "else: raise Exception(\"episode_transform_target not implemented\")\n",
    "\n",
    "\n",
    "eaf_source = Episodic_Accessor_Factory(\n",
    "    labels=p.labels_source,\n",
    "    domains=p.domains_source,\n",
    "    num_examples_per_domain_per_label=p.num_examples_per_domain_per_label_source,\n",
    "    iterator_seed=p.seed,\n",
    "    dataset_seed=p.dataset_seed,\n",
    "    n_shot=p.n_shot,\n",
    "    n_way=p.n_way,\n",
    "    n_query=p.n_query,\n",
    "    train_val_test_k_factors=(p.train_k_factor,p.val_k_factor,p.test_k_factor),\n",
    "    pickle_path=os.path.join(get_datasets_base_path(), p.pickle_name),\n",
    "    x_transform_func=x_transform_source,\n",
    "    example_transform_func=episode_transform_source,\n",
    "    \n",
    ")\n",
    "train_original_source, val_original_source, test_original_source = eaf_source.get_train(), eaf_source.get_val(), eaf_source.get_test()\n",
    "\n",
    "\n",
    "eaf_target = Episodic_Accessor_Factory(\n",
    "    labels=p.labels_target,\n",
    "    domains=p.domains_target,\n",
    "    num_examples_per_domain_per_label=p.num_examples_per_domain_per_label_target,\n",
    "    iterator_seed=p.seed,\n",
    "    dataset_seed=p.dataset_seed,\n",
    "    n_shot=p.n_shot,\n",
    "    n_way=p.n_way,\n",
    "    n_query=p.n_query,\n",
    "    train_val_test_k_factors=(p.train_k_factor,p.val_k_factor,p.test_k_factor),\n",
    "    pickle_path=os.path.join(get_datasets_base_path(), p.pickle_name),\n",
    "    x_transform_func=x_transform_target,\n",
    "    example_transform_func=episode_transform_target,\n",
    ")\n",
    "train_original_target, val_original_target, test_original_target = eaf_target.get_train(), eaf_target.get_val(), eaf_target.get_test()\n",
    "\n",
    "\n",
    "transform_lambda = lambda ex: ex[1] # Original is (<domain>, <episode>) so we strip down to episode only\n",
    "\n",
    "train_processed_source = Lazy_Iterable_Wrapper(train_original_source, transform_lambda)\n",
    "val_processed_source   = Lazy_Iterable_Wrapper(val_original_source, transform_lambda)\n",
    "test_processed_source  = Lazy_Iterable_Wrapper(test_original_source, transform_lambda)\n",
    "\n",
    "train_processed_target = Lazy_Iterable_Wrapper(train_original_target, transform_lambda)\n",
    "val_processed_target   = Lazy_Iterable_Wrapper(val_original_target, transform_lambda)\n",
    "test_processed_target  = Lazy_Iterable_Wrapper(test_original_target, transform_lambda)\n",
    "\n",
    "datasets = EasyDict({\n",
    "    \"source\": {\n",
    "        \"original\": {\"train\":train_original_source, \"val\":val_original_source, \"test\":test_original_source},\n",
    "        \"processed\": {\"train\":train_processed_source, \"val\":val_processed_source, \"test\":test_processed_source}\n",
    "    },\n",
    "    \"target\": {\n",
    "        \"original\": {\"train\":train_original_target, \"val\":val_original_target, \"test\":test_original_target},\n",
    "        \"processed\": {\"train\":train_processed_target, \"val\":val_processed_target, \"test\":test_processed_target}\n",
    "    },\n",
    "})"
   ]
  },
  {
   "cell_type": "code",
   "execution_count": 11,
   "id": "296189d9",
   "metadata": {
    "execution": {
     "iopub.execute_input": "2022-04-01T16:00:52.614728Z",
     "iopub.status.busy": "2022-04-01T16:00:52.608146Z",
     "iopub.status.idle": "2022-04-01T16:00:54.222866Z",
     "shell.execute_reply": "2022-04-01T16:00:54.223173Z"
    },
    "papermill": {
     "duration": 1.630316,
     "end_time": "2022-04-01T16:00:54.223276",
     "exception": false,
     "start_time": "2022-04-01T16:00:52.592960",
     "status": "completed"
    },
    "tags": []
   },
   "outputs": [
    {
     "name": "stdout",
     "output_type": "stream",
     "text": [
      "Visually inspect these to see if they line up with expected values given the transforms\n",
      "x_transforms_source ['unit_mag']\n",
      "x_transforms_target ['unit_mag']\n",
      "Average magnitude, source: 0.99999994\n",
      "Average power, source: 1.2367121\n"
     ]
    },
    {
     "name": "stdout",
     "output_type": "stream",
     "text": [
      "Average magnitude, target: 1.0\n",
      "Average power, target: 1.321213\n"
     ]
    }
   ],
   "source": [
    "# Some quick unit tests on the data\n",
    "from steves_utils.transforms import get_average_power, get_average_magnitude\n",
    "\n",
    "q_x, q_y, s_x, s_y, truth = next(iter(train_processed_source))\n",
    "\n",
    "assert q_x.dtype == eval(p.torch_default_dtype)\n",
    "assert s_x.dtype == eval(p.torch_default_dtype)\n",
    "\n",
    "print(\"Visually inspect these to see if they line up with expected values given the transforms\")\n",
    "print('x_transforms_source', p.x_transforms_source)\n",
    "print('x_transforms_target', p.x_transforms_target)\n",
    "print(\"Average magnitude, source:\", get_average_magnitude(q_x[0].numpy()))\n",
    "print(\"Average power, source:\", get_average_power(q_x[0].numpy()))\n",
    "\n",
    "q_x, q_y, s_x, s_y, truth = next(iter(train_processed_target))\n",
    "print(\"Average magnitude, target:\", get_average_magnitude(q_x[0].numpy()))\n",
    "print(\"Average power, target:\", get_average_power(q_x[0].numpy()))\n"
   ]
  },
  {
   "cell_type": "code",
   "execution_count": 12,
   "id": "bbdacba1",
   "metadata": {
    "execution": {
     "iopub.execute_input": "2022-04-01T16:00:54.247394Z",
     "iopub.status.busy": "2022-04-01T16:00:54.247142Z",
     "iopub.status.idle": "2022-04-01T16:00:54.310794Z",
     "shell.execute_reply": "2022-04-01T16:00:54.311120Z"
    },
    "papermill": {
     "duration": 0.076576,
     "end_time": "2022-04-01T16:00:54.311207",
     "exception": false,
     "start_time": "2022-04-01T16:00:54.234631",
     "status": "completed"
    },
    "tags": []
   },
   "outputs": [
    {
     "name": "stdout",
     "output_type": "stream",
     "text": [
      "(2, 256)\n"
     ]
    }
   ],
   "source": [
    "###################################\n",
    "# Build the model\n",
    "###################################\n",
    "model = Steves_Prototypical_Network(x_net, device=p.device, x_shape=(2,256))\n",
    "optimizer = Adam(params=model.parameters(), lr=p.lr)"
   ]
  },
  {
   "cell_type": "code",
   "execution_count": 13,
   "id": "22b39ac5",
   "metadata": {
    "execution": {
     "iopub.execute_input": "2022-04-01T16:00:54.338755Z",
     "iopub.status.busy": "2022-04-01T16:00:54.338504Z",
     "iopub.status.idle": "2022-04-01T16:15:14.779035Z",
     "shell.execute_reply": "2022-04-01T16:15:14.778793Z"
    },
    "papermill": {
     "duration": 860.452926,
     "end_time": "2022-04-01T16:15:14.779096",
     "exception": false,
     "start_time": "2022-04-01T16:00:54.326170",
     "status": "completed"
    },
    "tags": []
   },
   "outputs": [
    {
     "name": "stdout",
     "output_type": "stream",
     "text": [
      "epoch: 1, [batch: 1 / 2520], examples_per_second: 128.7496, train_label_loss: 2.7624, \n"
     ]
    },
    {
     "name": "stdout",
     "output_type": "stream",
     "text": [
      "epoch: 1, [batch: 252 / 2520], examples_per_second: 3145.1081, train_label_loss: 2.7631, \n"
     ]
    },
    {
     "name": "stdout",
     "output_type": "stream",
     "text": [
      "epoch: 1, [batch: 504 / 2520], examples_per_second: 3156.1264, train_label_loss: 1.8265, \n"
     ]
    },
    {
     "name": "stdout",
     "output_type": "stream",
     "text": [
      "epoch: 1, [batch: 756 / 2520], examples_per_second: 3152.8344, train_label_loss: 1.9602, \n"
     ]
    },
    {
     "name": "stdout",
     "output_type": "stream",
     "text": [
      "epoch: 1, [batch: 1008 / 2520], examples_per_second: 3150.0728, train_label_loss: 1.8011, \n"
     ]
    },
    {
     "name": "stdout",
     "output_type": "stream",
     "text": [
      "epoch: 1, [batch: 1260 / 2520], examples_per_second: 3141.4876, train_label_loss: 1.3465, \n"
     ]
    },
    {
     "name": "stdout",
     "output_type": "stream",
     "text": [
      "epoch: 1, [batch: 1512 / 2520], examples_per_second: 3144.1206, train_label_loss: 1.9038, \n"
     ]
    },
    {
     "name": "stdout",
     "output_type": "stream",
     "text": [
      "epoch: 1, [batch: 1764 / 2520], examples_per_second: 3141.4593, train_label_loss: 1.4830, \n"
     ]
    },
    {
     "name": "stdout",
     "output_type": "stream",
     "text": [
      "epoch: 1, [batch: 2016 / 2520], examples_per_second: 3129.6644, train_label_loss: 1.8165, \n"
     ]
    },
    {
     "name": "stdout",
     "output_type": "stream",
     "text": [
      "epoch: 1, [batch: 2268 / 2520], examples_per_second: 3147.6389, train_label_loss: 1.1720, \n"
     ]
    },
    {
     "name": "stdout",
     "output_type": "stream",
     "text": [
      "=============================================================\n",
      "epoch: 1, source_val_acc_label: 0.3924, target_val_acc_label: 0.2812, source_val_label_loss: 1.5257, target_val_label_loss: 1.8839, \n",
      "=============================================================\n"
     ]
    },
    {
     "name": "stdout",
     "output_type": "stream",
     "text": [
      "New best\n"
     ]
    },
    {
     "name": "stdout",
     "output_type": "stream",
     "text": [
      "epoch: 2, [batch: 1 / 2520], examples_per_second: 11.0187, train_label_loss: 1.7379, \n"
     ]
    },
    {
     "name": "stdout",
     "output_type": "stream",
     "text": [
      "epoch: 2, [batch: 252 / 2520], examples_per_second: 3180.4499, train_label_loss: 1.1646, \n"
     ]
    },
    {
     "name": "stdout",
     "output_type": "stream",
     "text": [
      "epoch: 2, [batch: 504 / 2520], examples_per_second: 3187.5384, train_label_loss: 1.5119, \n"
     ]
    },
    {
     "name": "stdout",
     "output_type": "stream",
     "text": [
      "epoch: 2, [batch: 756 / 2520], examples_per_second: 3180.6569, train_label_loss: 1.3913, \n"
     ]
    },
    {
     "name": "stdout",
     "output_type": "stream",
     "text": [
      "epoch: 2, [batch: 1008 / 2520], examples_per_second: 3178.2799, train_label_loss: 1.2303, \n"
     ]
    },
    {
     "name": "stdout",
     "output_type": "stream",
     "text": [
      "epoch: 2, [batch: 1260 / 2520], examples_per_second: 3177.4546, train_label_loss: 1.4002, \n"
     ]
    },
    {
     "name": "stdout",
     "output_type": "stream",
     "text": [
      "epoch: 2, [batch: 1512 / 2520], examples_per_second: 3178.1258, train_label_loss: 1.8917, \n"
     ]
    },
    {
     "name": "stdout",
     "output_type": "stream",
     "text": [
      "epoch: 2, [batch: 1764 / 2520], examples_per_second: 3173.9983, train_label_loss: 1.4955, \n"
     ]
    },
    {
     "name": "stdout",
     "output_type": "stream",
     "text": [
      "epoch: 2, [batch: 2016 / 2520], examples_per_second: 3184.9928, train_label_loss: 1.2336, \n"
     ]
    },
    {
     "name": "stdout",
     "output_type": "stream",
     "text": [
      "epoch: 2, [batch: 2268 / 2520], examples_per_second: 3177.4667, train_label_loss: 1.2068, \n"
     ]
    },
    {
     "name": "stdout",
     "output_type": "stream",
     "text": [
      "=============================================================\n",
      "epoch: 2, source_val_acc_label: 0.4334, target_val_acc_label: 0.3132, source_val_label_loss: 1.3853, target_val_label_loss: 1.8408, \n",
      "=============================================================\n"
     ]
    },
    {
     "name": "stdout",
     "output_type": "stream",
     "text": [
      "New best\n"
     ]
    },
    {
     "name": "stdout",
     "output_type": "stream",
     "text": [
      "epoch: 3, [batch: 1 / 2520], examples_per_second: 11.0910, train_label_loss: 1.0244, \n"
     ]
    },
    {
     "name": "stdout",
     "output_type": "stream",
     "text": [
      "epoch: 3, [batch: 252 / 2520], examples_per_second: 3157.4176, train_label_loss: 1.4297, \n"
     ]
    },
    {
     "name": "stdout",
     "output_type": "stream",
     "text": [
      "epoch: 3, [batch: 504 / 2520], examples_per_second: 3153.6388, train_label_loss: 1.4643, \n"
     ]
    },
    {
     "name": "stdout",
     "output_type": "stream",
     "text": [
      "epoch: 3, [batch: 756 / 2520], examples_per_second: 3158.6464, train_label_loss: 1.3652, \n"
     ]
    },
    {
     "name": "stdout",
     "output_type": "stream",
     "text": [
      "epoch: 3, [batch: 1008 / 2520], examples_per_second: 3151.9916, train_label_loss: 1.3667, \n"
     ]
    },
    {
     "name": "stdout",
     "output_type": "stream",
     "text": [
      "epoch: 3, [batch: 1260 / 2520], examples_per_second: 3179.5873, train_label_loss: 1.1837, \n"
     ]
    },
    {
     "name": "stdout",
     "output_type": "stream",
     "text": [
      "epoch: 3, [batch: 1512 / 2520], examples_per_second: 3192.3148, train_label_loss: 0.9057, \n"
     ]
    },
    {
     "name": "stdout",
     "output_type": "stream",
     "text": [
      "epoch: 3, [batch: 1764 / 2520], examples_per_second: 3160.6536, train_label_loss: 1.2177, \n"
     ]
    },
    {
     "name": "stdout",
     "output_type": "stream",
     "text": [
      "epoch: 3, [batch: 2016 / 2520], examples_per_second: 3171.7755, train_label_loss: 1.2767, \n"
     ]
    },
    {
     "name": "stdout",
     "output_type": "stream",
     "text": [
      "epoch: 3, [batch: 2268 / 2520], examples_per_second: 3164.7082, train_label_loss: 0.7090, \n"
     ]
    },
    {
     "name": "stdout",
     "output_type": "stream",
     "text": [
      "=============================================================\n",
      "epoch: 3, source_val_acc_label: 0.5448, target_val_acc_label: 0.4380, source_val_label_loss: 1.1730, target_val_label_loss: 1.5993, \n",
      "=============================================================\n"
     ]
    },
    {
     "name": "stdout",
     "output_type": "stream",
     "text": [
      "New best\n"
     ]
    },
    {
     "name": "stdout",
     "output_type": "stream",
     "text": [
      "epoch: 4, [batch: 1 / 2520], examples_per_second: 11.0505, train_label_loss: 0.9990, \n"
     ]
    },
    {
     "name": "stdout",
     "output_type": "stream",
     "text": [
      "epoch: 4, [batch: 252 / 2520], examples_per_second: 3164.9467, train_label_loss: 0.7696, \n"
     ]
    },
    {
     "name": "stdout",
     "output_type": "stream",
     "text": [
      "epoch: 4, [batch: 504 / 2520], examples_per_second: 3168.3162, train_label_loss: 0.8480, \n"
     ]
    },
    {
     "name": "stdout",
     "output_type": "stream",
     "text": [
      "epoch: 4, [batch: 756 / 2520], examples_per_second: 3156.7790, train_label_loss: 1.2840, \n"
     ]
    },
    {
     "name": "stdout",
     "output_type": "stream",
     "text": [
      "epoch: 4, [batch: 1008 / 2520], examples_per_second: 3162.8182, train_label_loss: 1.1311, \n"
     ]
    },
    {
     "name": "stdout",
     "output_type": "stream",
     "text": [
      "epoch: 4, [batch: 1260 / 2520], examples_per_second: 3176.4437, train_label_loss: 0.9231, \n"
     ]
    },
    {
     "name": "stdout",
     "output_type": "stream",
     "text": [
      "epoch: 4, [batch: 1512 / 2520], examples_per_second: 3187.7210, train_label_loss: 0.8772, \n"
     ]
    },
    {
     "name": "stdout",
     "output_type": "stream",
     "text": [
      "epoch: 4, [batch: 1764 / 2520], examples_per_second: 3164.0404, train_label_loss: 0.7292, \n"
     ]
    },
    {
     "name": "stdout",
     "output_type": "stream",
     "text": [
      "epoch: 4, [batch: 2016 / 2520], examples_per_second: 3176.6177, train_label_loss: 0.4910, \n"
     ]
    },
    {
     "name": "stdout",
     "output_type": "stream",
     "text": [
      "epoch: 4, [batch: 2268 / 2520], examples_per_second: 3178.6526, train_label_loss: 0.5946, \n"
     ]
    },
    {
     "name": "stdout",
     "output_type": "stream",
     "text": [
      "=============================================================\n",
      "epoch: 4, source_val_acc_label: 0.5879, target_val_acc_label: 0.4726, source_val_label_loss: 1.1023, target_val_label_loss: 1.5353, \n",
      "=============================================================\n"
     ]
    },
    {
     "name": "stdout",
     "output_type": "stream",
     "text": [
      "New best\n"
     ]
    },
    {
     "name": "stdout",
     "output_type": "stream",
     "text": [
      "epoch: 5, [batch: 1 / 2520], examples_per_second: 11.0476, train_label_loss: 0.5195, \n"
     ]
    },
    {
     "name": "stdout",
     "output_type": "stream",
     "text": [
      "epoch: 5, [batch: 252 / 2520], examples_per_second: 3146.1507, train_label_loss: 0.8313, \n"
     ]
    },
    {
     "name": "stdout",
     "output_type": "stream",
     "text": [
      "epoch: 5, [batch: 504 / 2520], examples_per_second: 3151.6733, train_label_loss: 0.4058, \n"
     ]
    },
    {
     "name": "stdout",
     "output_type": "stream",
     "text": [
      "epoch: 5, [batch: 756 / 2520], examples_per_second: 3179.7120, train_label_loss: 0.8330, \n"
     ]
    },
    {
     "name": "stdout",
     "output_type": "stream",
     "text": [
      "epoch: 5, [batch: 1008 / 2520], examples_per_second: 3173.2015, train_label_loss: 0.6887, \n"
     ]
    },
    {
     "name": "stdout",
     "output_type": "stream",
     "text": [
      "epoch: 5, [batch: 1260 / 2520], examples_per_second: 3174.9148, train_label_loss: 0.6790, \n"
     ]
    },
    {
     "name": "stdout",
     "output_type": "stream",
     "text": [
      "epoch: 5, [batch: 1512 / 2520], examples_per_second: 3164.3667, train_label_loss: 0.4662, \n"
     ]
    },
    {
     "name": "stdout",
     "output_type": "stream",
     "text": [
      "epoch: 5, [batch: 1764 / 2520], examples_per_second: 3154.8683, train_label_loss: 1.0899, \n"
     ]
    },
    {
     "name": "stdout",
     "output_type": "stream",
     "text": [
      "epoch: 5, [batch: 2016 / 2520], examples_per_second: 3180.9713, train_label_loss: 0.3940, \n"
     ]
    },
    {
     "name": "stdout",
     "output_type": "stream",
     "text": [
      "epoch: 5, [batch: 2268 / 2520], examples_per_second: 3185.6873, train_label_loss: 0.6871, \n"
     ]
    },
    {
     "name": "stdout",
     "output_type": "stream",
     "text": [
      "=============================================================\n",
      "epoch: 5, source_val_acc_label: 0.5918, target_val_acc_label: 0.4858, source_val_label_loss: 1.1195, target_val_label_loss: 1.5399, \n",
      "=============================================================\n"
     ]
    },
    {
     "name": "stdout",
     "output_type": "stream",
     "text": [
      "New best\n"
     ]
    },
    {
     "name": "stdout",
     "output_type": "stream",
     "text": [
      "epoch: 6, [batch: 1 / 2520], examples_per_second: 11.0988, train_label_loss: 0.7184, \n"
     ]
    },
    {
     "name": "stdout",
     "output_type": "stream",
     "text": [
      "epoch: 6, [batch: 252 / 2520], examples_per_second: 3164.5463, train_label_loss: 0.6452, \n"
     ]
    },
    {
     "name": "stdout",
     "output_type": "stream",
     "text": [
      "epoch: 6, [batch: 504 / 2520], examples_per_second: 3143.5839, train_label_loss: 0.5132, \n"
     ]
    },
    {
     "name": "stdout",
     "output_type": "stream",
     "text": [
      "epoch: 6, [batch: 756 / 2520], examples_per_second: 3141.2864, train_label_loss: 0.6953, \n"
     ]
    },
    {
     "name": "stdout",
     "output_type": "stream",
     "text": [
      "epoch: 6, [batch: 1008 / 2520], examples_per_second: 3157.1996, train_label_loss: 0.7679, \n"
     ]
    },
    {
     "name": "stdout",
     "output_type": "stream",
     "text": [
      "epoch: 6, [batch: 1260 / 2520], examples_per_second: 3169.3921, train_label_loss: 0.3158, \n"
     ]
    },
    {
     "name": "stdout",
     "output_type": "stream",
     "text": [
      "epoch: 6, [batch: 1512 / 2520], examples_per_second: 3170.8732, train_label_loss: 0.6145, \n"
     ]
    },
    {
     "name": "stdout",
     "output_type": "stream",
     "text": [
      "epoch: 6, [batch: 1764 / 2520], examples_per_second: 3166.3781, train_label_loss: 0.6536, \n"
     ]
    },
    {
     "name": "stdout",
     "output_type": "stream",
     "text": [
      "epoch: 6, [batch: 2016 / 2520], examples_per_second: 3144.8918, train_label_loss: 0.8713, \n"
     ]
    },
    {
     "name": "stdout",
     "output_type": "stream",
     "text": [
      "epoch: 6, [batch: 2268 / 2520], examples_per_second: 3140.6519, train_label_loss: 0.3179, \n"
     ]
    },
    {
     "name": "stdout",
     "output_type": "stream",
     "text": [
      "=============================================================\n",
      "epoch: 6, source_val_acc_label: 0.6036, target_val_acc_label: 0.4976, source_val_label_loss: 1.1499, target_val_label_loss: 1.5911, \n",
      "=============================================================\n"
     ]
    },
    {
     "name": "stdout",
     "output_type": "stream",
     "text": [
      "New best\n"
     ]
    },
    {
     "name": "stdout",
     "output_type": "stream",
     "text": [
      "epoch: 7, [batch: 1 / 2520], examples_per_second: 11.0051, train_label_loss: 0.5079, \n"
     ]
    },
    {
     "name": "stdout",
     "output_type": "stream",
     "text": [
      "epoch: 7, [batch: 252 / 2520], examples_per_second: 3152.3101, train_label_loss: 0.5470, \n"
     ]
    },
    {
     "name": "stdout",
     "output_type": "stream",
     "text": [
      "epoch: 7, [batch: 504 / 2520], examples_per_second: 3164.3499, train_label_loss: 0.4891, \n"
     ]
    },
    {
     "name": "stdout",
     "output_type": "stream",
     "text": [
      "epoch: 7, [batch: 756 / 2520], examples_per_second: 3177.1825, train_label_loss: 0.1965, \n"
     ]
    },
    {
     "name": "stdout",
     "output_type": "stream",
     "text": [
      "epoch: 7, [batch: 1008 / 2520], examples_per_second: 3156.8031, train_label_loss: 0.4411, \n"
     ]
    },
    {
     "name": "stdout",
     "output_type": "stream",
     "text": [
      "epoch: 7, [batch: 1260 / 2520], examples_per_second: 3195.2512, train_label_loss: 0.6077, \n"
     ]
    },
    {
     "name": "stdout",
     "output_type": "stream",
     "text": [
      "epoch: 7, [batch: 1512 / 2520], examples_per_second: 3165.7233, train_label_loss: 0.5256, \n"
     ]
    },
    {
     "name": "stdout",
     "output_type": "stream",
     "text": [
      "epoch: 7, [batch: 1764 / 2520], examples_per_second: 3164.2929, train_label_loss: 0.4791, \n"
     ]
    },
    {
     "name": "stdout",
     "output_type": "stream",
     "text": [
      "epoch: 7, [batch: 2016 / 2520], examples_per_second: 3152.6538, train_label_loss: 0.4551, \n"
     ]
    },
    {
     "name": "stdout",
     "output_type": "stream",
     "text": [
      "epoch: 7, [batch: 2268 / 2520], examples_per_second: 3161.7070, train_label_loss: 0.4276, \n"
     ]
    },
    {
     "name": "stdout",
     "output_type": "stream",
     "text": [
      "=============================================================\n",
      "epoch: 7, source_val_acc_label: 0.6030, target_val_acc_label: 0.4915, source_val_label_loss: 1.2424, target_val_label_loss: 1.7398, \n",
      "=============================================================\n"
     ]
    },
    {
     "name": "stdout",
     "output_type": "stream",
     "text": [
      "epoch: 8, [batch: 1 / 2520], examples_per_second: 11.1353, train_label_loss: 0.4836, \n"
     ]
    },
    {
     "name": "stdout",
     "output_type": "stream",
     "text": [
      "epoch: 8, [batch: 252 / 2520], examples_per_second: 3134.1599, train_label_loss: 0.2667, \n"
     ]
    },
    {
     "name": "stdout",
     "output_type": "stream",
     "text": [
      "epoch: 8, [batch: 504 / 2520], examples_per_second: 3171.7687, train_label_loss: 0.2963, \n"
     ]
    },
    {
     "name": "stdout",
     "output_type": "stream",
     "text": [
      "epoch: 8, [batch: 756 / 2520], examples_per_second: 3162.6790, train_label_loss: 0.2691, \n"
     ]
    },
    {
     "name": "stdout",
     "output_type": "stream",
     "text": [
      "epoch: 8, [batch: 1008 / 2520], examples_per_second: 3163.8700, train_label_loss: 0.2457, \n"
     ]
    },
    {
     "name": "stdout",
     "output_type": "stream",
     "text": [
      "epoch: 8, [batch: 1260 / 2520], examples_per_second: 3184.5578, train_label_loss: 0.4579, \n"
     ]
    },
    {
     "name": "stdout",
     "output_type": "stream",
     "text": [
      "epoch: 8, [batch: 1512 / 2520], examples_per_second: 3163.7449, train_label_loss: 0.2393, \n"
     ]
    },
    {
     "name": "stdout",
     "output_type": "stream",
     "text": [
      "epoch: 8, [batch: 1764 / 2520], examples_per_second: 3155.3870, train_label_loss: 0.2450, \n"
     ]
    },
    {
     "name": "stdout",
     "output_type": "stream",
     "text": [
      "epoch: 8, [batch: 2016 / 2520], examples_per_second: 3172.7601, train_label_loss: 0.2445, \n"
     ]
    },
    {
     "name": "stdout",
     "output_type": "stream",
     "text": [
      "epoch: 8, [batch: 2268 / 2520], examples_per_second: 3170.1280, train_label_loss: 0.2269, \n"
     ]
    },
    {
     "name": "stdout",
     "output_type": "stream",
     "text": [
      "=============================================================\n",
      "epoch: 8, source_val_acc_label: 0.6043, target_val_acc_label: 0.4983, source_val_label_loss: 1.2899, target_val_label_loss: 1.8050, \n",
      "=============================================================\n"
     ]
    },
    {
     "name": "stdout",
     "output_type": "stream",
     "text": [
      "New best\n"
     ]
    },
    {
     "name": "stdout",
     "output_type": "stream",
     "text": [
      "epoch: 9, [batch: 1 / 2520], examples_per_second: 11.0981, train_label_loss: 0.2814, \n"
     ]
    },
    {
     "name": "stdout",
     "output_type": "stream",
     "text": [
      "epoch: 9, [batch: 252 / 2520], examples_per_second: 3185.9864, train_label_loss: 0.1800, \n"
     ]
    },
    {
     "name": "stdout",
     "output_type": "stream",
     "text": [
      "epoch: 9, [batch: 504 / 2520], examples_per_second: 3163.2998, train_label_loss: 0.3560, \n"
     ]
    },
    {
     "name": "stdout",
     "output_type": "stream",
     "text": [
      "epoch: 9, [batch: 756 / 2520], examples_per_second: 3153.2555, train_label_loss: 0.3991, \n"
     ]
    },
    {
     "name": "stdout",
     "output_type": "stream",
     "text": [
      "epoch: 9, [batch: 1008 / 2520], examples_per_second: 3146.1252, train_label_loss: 0.1671, \n"
     ]
    },
    {
     "name": "stdout",
     "output_type": "stream",
     "text": [
      "epoch: 9, [batch: 1260 / 2520], examples_per_second: 3171.9698, train_label_loss: 0.4316, \n"
     ]
    },
    {
     "name": "stdout",
     "output_type": "stream",
     "text": [
      "epoch: 9, [batch: 1512 / 2520], examples_per_second: 3167.0851, train_label_loss: 0.2473, \n"
     ]
    },
    {
     "name": "stdout",
     "output_type": "stream",
     "text": [
      "epoch: 9, [batch: 1764 / 2520], examples_per_second: 3169.9673, train_label_loss: 0.5175, \n"
     ]
    },
    {
     "name": "stdout",
     "output_type": "stream",
     "text": [
      "epoch: 9, [batch: 2016 / 2520], examples_per_second: 3175.6077, train_label_loss: 0.2965, \n"
     ]
    },
    {
     "name": "stdout",
     "output_type": "stream",
     "text": [
      "epoch: 9, [batch: 2268 / 2520], examples_per_second: 3191.8929, train_label_loss: 0.1036, \n"
     ]
    },
    {
     "name": "stdout",
     "output_type": "stream",
     "text": [
      "=============================================================\n",
      "epoch: 9, source_val_acc_label: 0.6092, target_val_acc_label: 0.4948, source_val_label_loss: 1.3461, target_val_label_loss: 1.9131, \n",
      "=============================================================\n"
     ]
    },
    {
     "name": "stdout",
     "output_type": "stream",
     "text": [
      "epoch: 10, [batch: 1 / 2520], examples_per_second: 11.0943, train_label_loss: 0.5520, \n"
     ]
    },
    {
     "name": "stdout",
     "output_type": "stream",
     "text": [
      "epoch: 10, [batch: 252 / 2520], examples_per_second: 3163.6872, train_label_loss: 0.4539, \n"
     ]
    },
    {
     "name": "stdout",
     "output_type": "stream",
     "text": [
      "epoch: 10, [batch: 504 / 2520], examples_per_second: 3170.4811, train_label_loss: 0.1938, \n"
     ]
    },
    {
     "name": "stdout",
     "output_type": "stream",
     "text": [
      "epoch: 10, [batch: 756 / 2520], examples_per_second: 3166.6355, train_label_loss: 0.2490, \n"
     ]
    },
    {
     "name": "stdout",
     "output_type": "stream",
     "text": [
      "epoch: 10, [batch: 1008 / 2520], examples_per_second: 3180.0669, train_label_loss: 0.1803, \n"
     ]
    },
    {
     "name": "stdout",
     "output_type": "stream",
     "text": [
      "epoch: 10, [batch: 1260 / 2520], examples_per_second: 3196.6586, train_label_loss: 0.3411, \n"
     ]
    },
    {
     "name": "stdout",
     "output_type": "stream",
     "text": [
      "epoch: 10, [batch: 1512 / 2520], examples_per_second: 3175.9150, train_label_loss: 0.4118, \n"
     ]
    },
    {
     "name": "stdout",
     "output_type": "stream",
     "text": [
      "epoch: 10, [batch: 1764 / 2520], examples_per_second: 3161.6700, train_label_loss: 0.3371, \n"
     ]
    },
    {
     "name": "stdout",
     "output_type": "stream",
     "text": [
      "epoch: 10, [batch: 2016 / 2520], examples_per_second: 3180.6476, train_label_loss: 0.2237, \n"
     ]
    },
    {
     "name": "stdout",
     "output_type": "stream",
     "text": [
      "epoch: 10, [batch: 2268 / 2520], examples_per_second: 3161.5870, train_label_loss: 0.1846, \n"
     ]
    },
    {
     "name": "stdout",
     "output_type": "stream",
     "text": [
      "=============================================================\n",
      "epoch: 10, source_val_acc_label: 0.6016, target_val_acc_label: 0.4932, source_val_label_loss: 1.5073, target_val_label_loss: 2.1265, \n",
      "=============================================================\n"
     ]
    },
    {
     "name": "stdout",
     "output_type": "stream",
     "text": [
      "epoch: 11, [batch: 1 / 2520], examples_per_second: 11.0994, train_label_loss: 0.2984, \n"
     ]
    },
    {
     "name": "stdout",
     "output_type": "stream",
     "text": [
      "epoch: 11, [batch: 252 / 2520], examples_per_second: 3159.5650, train_label_loss: 0.0737, \n"
     ]
    },
    {
     "name": "stdout",
     "output_type": "stream",
     "text": [
      "epoch: 11, [batch: 504 / 2520], examples_per_second: 3169.9420, train_label_loss: 0.0572, \n"
     ]
    },
    {
     "name": "stdout",
     "output_type": "stream",
     "text": [
      "epoch: 11, [batch: 756 / 2520], examples_per_second: 3165.9120, train_label_loss: 0.4343, \n"
     ]
    },
    {
     "name": "stdout",
     "output_type": "stream",
     "text": [
      "epoch: 11, [batch: 1008 / 2520], examples_per_second: 3159.9328, train_label_loss: 0.2367, \n"
     ]
    },
    {
     "name": "stdout",
     "output_type": "stream",
     "text": [
      "epoch: 11, [batch: 1260 / 2520], examples_per_second: 3172.3079, train_label_loss: 0.0605, \n"
     ]
    },
    {
     "name": "stdout",
     "output_type": "stream",
     "text": [
      "epoch: 11, [batch: 1512 / 2520], examples_per_second: 3180.5384, train_label_loss: 0.1866, \n"
     ]
    },
    {
     "name": "stdout",
     "output_type": "stream",
     "text": [
      "epoch: 11, [batch: 1764 / 2520], examples_per_second: 3184.4196, train_label_loss: 0.3929, \n"
     ]
    },
    {
     "name": "stdout",
     "output_type": "stream",
     "text": [
      "epoch: 11, [batch: 2016 / 2520], examples_per_second: 3186.0025, train_label_loss: 0.1274, \n"
     ]
    },
    {
     "name": "stdout",
     "output_type": "stream",
     "text": [
      "epoch: 11, [batch: 2268 / 2520], examples_per_second: 3196.4829, train_label_loss: 0.2065, \n"
     ]
    },
    {
     "name": "stdout",
     "output_type": "stream",
     "text": [
      "=============================================================\n",
      "epoch: 11, source_val_acc_label: 0.6059, target_val_acc_label: 0.4911, source_val_label_loss: 1.5427, target_val_label_loss: 2.1697, \n",
      "=============================================================\n"
     ]
    },
    {
     "name": "stdout",
     "output_type": "stream",
     "text": [
      "epoch: 12, [batch: 1 / 2520], examples_per_second: 11.0778, train_label_loss: 0.0208, \n"
     ]
    },
    {
     "name": "stdout",
     "output_type": "stream",
     "text": [
      "epoch: 12, [batch: 252 / 2520], examples_per_second: 3169.0728, train_label_loss: 0.1442, \n"
     ]
    },
    {
     "name": "stdout",
     "output_type": "stream",
     "text": [
      "epoch: 12, [batch: 504 / 2520], examples_per_second: 3169.3750, train_label_loss: 0.2360, \n"
     ]
    },
    {
     "name": "stdout",
     "output_type": "stream",
     "text": [
      "epoch: 12, [batch: 756 / 2520], examples_per_second: 3198.1163, train_label_loss: 0.2990, \n"
     ]
    },
    {
     "name": "stdout",
     "output_type": "stream",
     "text": [
      "epoch: 12, [batch: 1008 / 2520], examples_per_second: 3170.6090, train_label_loss: 0.3008, \n"
     ]
    },
    {
     "name": "stdout",
     "output_type": "stream",
     "text": [
      "epoch: 12, [batch: 1260 / 2520], examples_per_second: 3172.9615, train_label_loss: 0.0752, \n"
     ]
    },
    {
     "name": "stdout",
     "output_type": "stream",
     "text": [
      "epoch: 12, [batch: 1512 / 2520], examples_per_second: 3174.1181, train_label_loss: 0.3060, \n"
     ]
    },
    {
     "name": "stdout",
     "output_type": "stream",
     "text": [
      "epoch: 12, [batch: 1764 / 2520], examples_per_second: 3156.3243, train_label_loss: 0.0356, \n"
     ]
    },
    {
     "name": "stdout",
     "output_type": "stream",
     "text": [
      "epoch: 12, [batch: 2016 / 2520], examples_per_second: 3174.9037, train_label_loss: 0.1444, \n"
     ]
    },
    {
     "name": "stdout",
     "output_type": "stream",
     "text": [
      "epoch: 12, [batch: 2268 / 2520], examples_per_second: 3179.9014, train_label_loss: 0.3053, \n"
     ]
    },
    {
     "name": "stdout",
     "output_type": "stream",
     "text": [
      "=============================================================\n",
      "epoch: 12, source_val_acc_label: 0.6012, target_val_acc_label: 0.4902, source_val_label_loss: 1.6232, target_val_label_loss: 2.2810, \n",
      "=============================================================\n"
     ]
    },
    {
     "name": "stdout",
     "output_type": "stream",
     "text": [
      "Patience (3) exhausted\n"
     ]
    }
   ],
   "source": [
    "###################################\n",
    "# train\n",
    "###################################\n",
    "jig = PTN_Train_Eval_Test_Jig(model, p.BEST_MODEL_PATH, p.device)\n",
    "\n",
    "jig.train(\n",
    "    train_iterable=datasets.source.processed.train,\n",
    "    source_val_iterable=datasets.source.processed.val,\n",
    "    target_val_iterable=datasets.target.processed.val,\n",
    "    num_epochs=p.n_epoch,\n",
    "    num_logs_per_epoch=p.NUM_LOGS_PER_EPOCH,\n",
    "    patience=p.patience,\n",
    "    optimizer=optimizer,\n",
    "    criteria_for_best=p.criteria_for_best,\n",
    ")"
   ]
  },
  {
   "cell_type": "code",
   "execution_count": 14,
   "id": "31e8fabf",
   "metadata": {
    "execution": {
     "iopub.execute_input": "2022-04-01T16:15:14.854215Z",
     "iopub.status.busy": "2022-04-01T16:15:14.853955Z",
     "iopub.status.idle": "2022-04-01T16:15:14.873268Z",
     "shell.execute_reply": "2022-04-01T16:15:14.872851Z"
    },
    "papermill": {
     "duration": 0.058263,
     "end_time": "2022-04-01T16:15:14.873379",
     "exception": false,
     "start_time": "2022-04-01T16:15:14.815116",
     "status": "completed"
    },
    "tags": []
   },
   "outputs": [],
   "source": [
    "total_experiment_time_secs = time.time() - start_time_secs"
   ]
  },
  {
   "cell_type": "code",
   "execution_count": 15,
   "id": "87b9595b",
   "metadata": {
    "execution": {
     "iopub.execute_input": "2022-04-01T16:15:14.957082Z",
     "iopub.status.busy": "2022-04-01T16:15:14.956691Z",
     "iopub.status.idle": "2022-04-01T16:16:03.598183Z",
     "shell.execute_reply": "2022-04-01T16:16:03.597727Z"
    },
    "papermill": {
     "duration": 48.683965,
     "end_time": "2022-04-01T16:16:03.598295",
     "exception": false,
     "start_time": "2022-04-01T16:15:14.914330",
     "status": "completed"
    },
    "tags": []
   },
   "outputs": [],
   "source": [
    "###################################\n",
    "# Evaluate the model\n",
    "###################################\n",
    "source_test_label_accuracy, source_test_label_loss = jig.test(datasets.source.processed.test)\n",
    "target_test_label_accuracy, target_test_label_loss = jig.test(datasets.target.processed.test)\n",
    "\n",
    "source_val_label_accuracy, source_val_label_loss = jig.test(datasets.source.processed.val)\n",
    "target_val_label_accuracy, target_val_label_loss = jig.test(datasets.target.processed.val)\n",
    "\n",
    "history = jig.get_history()\n",
    "\n",
    "total_epochs_trained = len(history[\"epoch_indices\"])\n",
    "\n",
    "val_dl = Iterable_Aggregator((datasets.source.original.val,datasets.target.original.val))\n",
    "\n",
    "confusion = ptn_confusion_by_domain_over_dataloader(model, p.device, val_dl)\n",
    "per_domain_accuracy = per_domain_accuracy_from_confusion(confusion)\n",
    "\n",
    "# Add a key to per_domain_accuracy for if it was a source domain\n",
    "for domain, accuracy in per_domain_accuracy.items():\n",
    "    per_domain_accuracy[domain] = {\n",
    "        \"accuracy\": accuracy,\n",
    "        \"source?\": domain in p.domains_source\n",
    "    }\n",
    "\n",
    "# Do an independent accuracy assesment JUST TO BE SURE!\n",
    "# _source_test_label_accuracy = independent_accuracy_assesment(model, datasets.source.processed.test, p.device)\n",
    "# _target_test_label_accuracy = independent_accuracy_assesment(model, datasets.target.processed.test, p.device)\n",
    "# _source_val_label_accuracy = independent_accuracy_assesment(model, datasets.source.processed.val, p.device)\n",
    "# _target_val_label_accuracy = independent_accuracy_assesment(model, datasets.target.processed.val, p.device)\n",
    "\n",
    "# assert(_source_test_label_accuracy == source_test_label_accuracy)\n",
    "# assert(_target_test_label_accuracy == target_test_label_accuracy)\n",
    "# assert(_source_val_label_accuracy == source_val_label_accuracy)\n",
    "# assert(_target_val_label_accuracy == target_val_label_accuracy)\n",
    "\n",
    "experiment = {\n",
    "    \"experiment_name\": p.experiment_name,\n",
    "    \"parameters\": dict(p),\n",
    "    \"results\": {\n",
    "        \"source_test_label_accuracy\": source_test_label_accuracy,\n",
    "        \"source_test_label_loss\": source_test_label_loss,\n",
    "        \"target_test_label_accuracy\": target_test_label_accuracy,\n",
    "        \"target_test_label_loss\": target_test_label_loss,\n",
    "        \"source_val_label_accuracy\": source_val_label_accuracy,\n",
    "        \"source_val_label_loss\": source_val_label_loss,\n",
    "        \"target_val_label_accuracy\": target_val_label_accuracy,\n",
    "        \"target_val_label_loss\": target_val_label_loss,\n",
    "        \"total_epochs_trained\": total_epochs_trained,\n",
    "        \"total_experiment_time_secs\": total_experiment_time_secs,\n",
    "        \"confusion\": confusion,\n",
    "        \"per_domain_accuracy\": per_domain_accuracy,\n",
    "    },\n",
    "    \"history\": history,\n",
    "    \"dataset_metrics\": get_dataset_metrics(datasets, \"ptn\"),\n",
    "}"
   ]
  },
  {
   "cell_type": "code",
   "execution_count": 16,
   "id": "54a21829",
   "metadata": {
    "execution": {
     "iopub.execute_input": "2022-04-01T16:16:03.676827Z",
     "iopub.status.busy": "2022-04-01T16:16:03.676355Z",
     "iopub.status.idle": "2022-04-01T16:16:03.800331Z",
     "shell.execute_reply": "2022-04-01T16:16:03.800735Z"
    },
    "papermill": {
     "duration": 0.16266,
     "end_time": "2022-04-01T16:16:03.800866",
     "exception": false,
     "start_time": "2022-04-01T16:16:03.638206",
     "status": "completed"
    },
    "tags": []
   },
   "outputs": [
    {
     "data": {
      "image/png": "[encoded data removed]",
      "text/plain": [
       "<Figure size 1080x504 with 1 Axes>"
      ]
     },
     "metadata": {
      "needs_background": "light"
     },
     "output_type": "display_data"
    }
   ],
   "source": [
    "ax = get_loss_curve(experiment)\n",
    "plt.show()"
   ]
  },
  {
   "cell_type": "code",
   "execution_count": 17,
   "id": "fd8a0f60",
   "metadata": {
    "execution": {
     "iopub.execute_input": "2022-04-01T16:16:03.882407Z",
     "iopub.status.busy": "2022-04-01T16:16:03.881659Z",
     "iopub.status.idle": "2022-04-01T16:16:04.026152Z",
     "shell.execute_reply": "2022-04-01T16:16:04.026358Z"
    },
    "papermill": {
     "duration": 0.184932,
     "end_time": "2022-04-01T16:16:04.026441",
     "exception": false,
     "start_time": "2022-04-01T16:16:03.841509",
     "status": "completed"
    },
    "tags": []
   },
   "outputs": [
    {
     "data": {
      "text/plain": [
       "<AxesSubplot:title={'center':'Results'}>"
      ]
     },
     "execution_count": 17,
     "metadata": {},
     "output_type": "execute_result"
    },
    {
     "data": {
      "image/png": "[encoded data removed]",
      "text/plain": [
       "<Figure size 1080x504 with 1 Axes>"
      ]
     },
     "metadata": {
      "needs_background": "light"
     },
     "output_type": "display_data"
    }
   ],
   "source": [
    "get_results_table(experiment)"
   ]
  },
  {
   "cell_type": "code",
   "execution_count": 18,
   "id": "cf8dc689",
   "metadata": {
    "execution": {
     "iopub.execute_input": "2022-04-01T16:16:04.107018Z",
     "iopub.status.busy": "2022-04-01T16:16:04.106747Z",
     "iopub.status.idle": "2022-04-01T16:16:04.220000Z",
     "shell.execute_reply": "2022-04-01T16:16:04.220401Z"
    },
    "papermill": {
     "duration": 0.154775,
     "end_time": "2022-04-01T16:16:04.220528",
     "exception": false,
     "start_time": "2022-04-01T16:16:04.065753",
     "status": "completed"
    },
    "tags": []
   },
   "outputs": [
    {
     "data": {
      "text/plain": [
       "<AxesSubplot:title={'center':'Per Domain Validation Accuracy'}, xlabel='domain'>"
      ]
     },
     "execution_count": 18,
     "metadata": {},
     "output_type": "execute_result"
    },
    {
     "data": {
      "image/png": "[encoded data removed]",
      "text/plain": [
       "<Figure size 1080x504 with 1 Axes>"
      ]
     },
     "metadata": {
      "needs_background": "light"
     },
     "output_type": "display_data"
    }
   ],
   "source": [
    "get_domain_accuracies(experiment)"
   ]
  },
  {
   "cell_type": "code",
   "execution_count": 19,
   "id": "a74ae082",
   "metadata": {
    "execution": {
     "iopub.execute_input": "2022-04-01T16:16:04.309937Z",
     "iopub.status.busy": "2022-04-01T16:16:04.309038Z",
     "iopub.status.idle": "2022-04-01T16:16:04.324258Z",
     "shell.execute_reply": "2022-04-01T16:16:04.323998Z"
    },
    "papermill": {
     "duration": 0.057477,
     "end_time": "2022-04-01T16:16:04.324315",
     "exception": false,
     "start_time": "2022-04-01T16:16:04.266838",
     "status": "completed"
    },
    "tags": []
   },
   "outputs": [
    {
     "name": "stdout",
     "output_type": "stream",
     "text": [
      "Source Test Label Accuracy: 0.6013020833333333 Target Test Label Accuracy: 0.5049479166666667\n",
      "Source Val Label Accuracy: 0.6042534722222223 Target Val Label Accuracy: 0.49828125\n"
     ]
    }
   ],
   "source": [
    "print(\"Source Test Label Accuracy:\", experiment[\"results\"][\"source_test_label_accuracy\"], \"Target Test Label Accuracy:\", experiment[\"results\"][\"target_test_label_accuracy\"])\n",
    "print(\"Source Val Label Accuracy:\", experiment[\"results\"][\"source_val_label_accuracy\"], \"Target Val Label Accuracy:\", experiment[\"results\"][\"target_val_label_accuracy\"])"
   ]
  },
  {
   "cell_type": "code",
   "execution_count": 20,
   "id": "dacca602",
   "metadata": {
    "execution": {
     "iopub.execute_input": "2022-04-01T16:16:04.408761Z",
     "iopub.status.busy": "2022-04-01T16:16:04.405801Z",
     "iopub.status.idle": "2022-04-01T16:16:04.422697Z",
     "shell.execute_reply": "2022-04-01T16:16:04.422438Z"
    },
    "papermill": {
     "duration": 0.058994,
     "end_time": "2022-04-01T16:16:04.422755",
     "exception": false,
     "start_time": "2022-04-01T16:16:04.363761",
     "status": "completed"
    },
    "tags": [
     "experiment_json"
    ]
   },
   "outputs": [
    {
     "data": {
      "text/plain": [
       "'{\"experiment_name\": \"tuned_1v2:oracle.run2_limited\", \"parameters\": {\"experiment_name\": \"tuned_1v2:oracle.run2_limited\", \"device\": \"cuda\", \"lr\": 0.0001, \"labels_source\": [\"3123D52\", \"3123D65\", \"3123D79\", \"3123D80\", \"3123D54\", \"3123D70\", \"3123D7B\", \"3123D89\", \"3123D58\", \"3123D76\", \"3123D7D\", \"3123EFE\", \"3123D64\", \"3123D78\", \"3123D7E\", \"3124E4A\"], \"labels_target\": [\"3123D52\", \"3123D65\", \"3123D79\", \"3123D80\", \"3123D54\", \"3123D70\", \"3123D7B\", \"3123D89\", \"3123D58\", \"3123D76\", \"3123D7D\", \"3123EFE\", \"3123D64\", \"3123D78\", \"3123D7E\", \"3124E4A\"], \"episode_transforms_source\": [], \"episode_transforms_target\": [], \"domains_source\": [8, 32, 50], \"domains_target\": [14, 20, 26, 38, 44], \"num_examples_per_domain_per_label_source\": 2000, \"num_examples_per_domain_per_label_target\": 2000, \"n_shot\": 3, \"n_way\": 16, \"n_query\": 2, \"train_k_factor\": 3, \"val_k_factor\": 2, \"test_k_factor\": 2, \"torch_default_dtype\": \"torch.float32\", \"n_epoch\": 50, \"patience\": 3, \"criteria_for_best\": \"target_accuracy\", \"x_net\": [{\"class\": \"nnReshape\", \"kargs\": {\"shape\": [-1, 1, 2, 256]}}, {\"class\": \"Conv2d\", \"kargs\": {\"in_channels\": 1, \"out_channels\": 256, \"kernel_size\": [1, 7], \"bias\": false, \"padding\": [0, 3]}}, {\"class\": \"ReLU\", \"kargs\": {\"inplace\": true}}, {\"class\": \"BatchNorm2d\", \"kargs\": {\"num_features\": 256}}, {\"class\": \"Conv2d\", \"kargs\": {\"in_channels\": 256, \"out_channels\": 80, \"kernel_size\": [2, 7], \"bias\": true, \"padding\": [0, 3]}}, {\"class\": \"ReLU\", \"kargs\": {\"inplace\": true}}, {\"class\": \"BatchNorm2d\", \"kargs\": {\"num_features\": 80}}, {\"class\": \"Flatten\", \"kargs\": {}}, {\"class\": \"Linear\", \"kargs\": {\"in_features\": 20480, \"out_features\": 256}}, {\"class\": \"ReLU\", \"kargs\": {\"inplace\": true}}, {\"class\": \"BatchNorm1d\", \"kargs\": {\"num_features\": 256}}, {\"class\": \"Linear\", \"kargs\": {\"in_features\": 256, \"out_features\": 256}}], \"NUM_LOGS_PER_EPOCH\": 10, \"BEST_MODEL_PATH\": \"./best_model.pth\", \"pickle_name\": \"oracle.Run2_10kExamples_stratified_ds.2022A.pkl\", \"x_transforms_source\": [\"unit_mag\"], \"x_transforms_target\": [\"unit_mag\"], \"dataset_seed\": 420, \"seed\": 420}, \"results\": {\"source_test_label_accuracy\": 0.6013020833333333, \"source_test_label_loss\": 1.3039312362670898, \"target_test_label_accuracy\": 0.5049479166666667, \"target_test_label_loss\": 1.7691476345062256, \"source_val_label_accuracy\": 0.6042534722222223, \"source_val_label_loss\": 1.2899045944213867, \"target_val_label_accuracy\": 0.49828125, \"target_val_label_loss\": 1.8050196170806885, \"total_epochs_trained\": 12, \"total_experiment_time_secs\": 880.6509139537811, \"confusion\": {\"8\": {\"15\": {\"8\": 24, \"15\": 99, \"12\": 35, \"11\": 60, \"2\": 8, \"3\": 10, \"4\": 1, \"7\": 3}, \"5\": {\"1\": 26, \"5\": 165, \"0\": 3, \"10\": 40, \"13\": 4, \"9\": 2}, \"7\": {\"7\": 74, \"2\": 47, \"4\": 53, \"8\": 15, \"6\": 44, \"14\": 3, \"15\": 3, \"0\": 1}, \"4\": {\"7\": 54, \"4\": 77, \"2\": 24, \"14\": 11, \"6\": 66, \"8\": 6, \"13\": 2}, \"10\": {\"0\": 54, \"13\": 22, \"1\": 22, \"10\": 93, \"5\": 31, \"14\": 18}, \"11\": {\"11\": 93, \"15\": 67, \"8\": 46, \"12\": 24, \"6\": 2, \"7\": 4, \"3\": 2, \"13\": 2}, \"12\": {\"3\": 72, \"12\": 123, \"15\": 34, \"11\": 10, \"8\": 1}, \"0\": {\"0\": 110, \"6\": 5, \"14\": 64, \"13\": 21, \"10\": 32, \"7\": 1, \"5\": 2, \"1\": 4, \"4\": 1}, \"14\": {\"0\": 58, \"13\": 36, \"10\": 16, \"14\": 87, \"6\": 24, \"1\": 4, \"4\": 11, \"7\": 3, \"5\": 1}, \"8\": {\"8\": 124, \"15\": 30, \"6\": 16, \"11\": 36, \"1\": 1, \"13\": 6, \"7\": 17, \"12\": 1, \"4\": 4, \"2\": 4, \"14\": 1}, \"13\": {\"10\": 20, \"13\": 95, \"8\": 1, \"1\": 38, \"14\": 41, \"0\": 28, \"7\": 3, \"6\": 8, \"5\": 4, \"4\": 2}, \"6\": {\"2\": 25, \"6\": 66, \"4\": 52, \"8\": 15, \"14\": 20, \"7\": 50, \"0\": 2, \"13\": 9, \"15\": 1}, \"1\": {\"10\": 22, \"5\": 39, \"13\": 40, \"1\": 131, \"0\": 4, \"14\": 4}, \"3\": {\"3\": 163, \"15\": 15, \"12\": 59, \"2\": 2, \"11\": 1}, \"9\": {\"9\": 238, \"5\": 2}, \"2\": {\"2\": 138, \"7\": 51, \"4\": 27, \"6\": 17, \"3\": 2, \"15\": 4, \"8\": 1}}, \"50\": {\"4\": {\"1\": 11, \"5\": 77, \"4\": 90, \"7\": 2, \"6\": 55, \"13\": 3, \"10\": 1, \"0\": 1}, \"10\": {\"10\": 125, \"5\": 21, \"7\": 37, \"13\": 40, \"0\": 14, \"4\": 3}, \"15\": {\"15\": 193, \"11\": 24, \"1\": 16, \"14\": 2, \"6\": 4, \"12\": 1}, \"0\": {\"10\": 6, \"0\": 193, \"2\": 33, \"5\": 6, \"6\": 1, \"4\": 1}, \"6\": {\"1\": 73, \"4\": 44, \"6\": 97, \"5\": 17, \"2\": 6, \"15\": 2, \"0\": 1}, \"3\": {\"3\": 229, \"8\": 11}, \"7\": {\"10\": 57, \"13\": 87, \"7\": 65, \"5\": 21, \"4\": 7, \"0\": 3}, \"2\": {\"2\": 203, \"0\": 34, \"6\": 1, \"1\": 2}, \"8\": {\"8\": 224, \"3\": 16}, \"11\": {\"11\": 198, \"12\": 8, \"15\": 15, \"9\": 4, \"14\": 15}, \"14\": {\"14\": 219, \"12\": 11, \"15\": 2, \"11\": 8}, \"12\": {\"12\": 200, \"9\": 23, \"11\": 4, \"14\": 13}, \"13\": {\"13\": 86, \"7\": 84, \"10\": 55, \"5\": 11, \"4\": 3, \"0\": 1}, \"9\": {\"9\": 194, \"12\": 40, \"11\": 6}, \"5\": {\"7\": 10, \"5\": 125, \"4\": 59, \"10\": 19, \"0\": 7, \"13\": 14, \"6\": 6}, \"1\": {\"4\": 10, \"1\": 136, \"6\": 72, \"15\": 17, \"0\": 1, \"5\": 1, \"2\": 2, \"11\": 1}}, \"32\": {\"7\": {\"7\": 98, \"11\": 76, \"13\": 36, \"5\": 4, \"4\": 17, \"2\": 2, \"3\": 1, \"0\": 4, \"8\": 2}, \"2\": {\"2\": 143, \"14\": 44, \"13\": 1, \"0\": 19, \"11\": 12, \"4\": 3, \"5\": 16, \"7\": 2}, \"5\": {\"0\": 42, \"5\": 65, \"14\": 26, \"2\": 27, \"8\": 25, \"11\": 6, \"13\": 14, \"4\": 27, \"7\": 5, \"3\": 1, \"15\": 2}, \"6\": {\"6\": 240}, \"13\": {\"13\": 83, \"11\": 17, \"4\": 39, \"8\": 41, \"7\": 29, \"3\": 12, \"5\": 10, \"0\": 8, \"14\": 1}, \"4\": {\"4\": 45, \"11\": 33, \"13\": 35, \"7\": 21, \"0\": 48, \"5\": 28, \"8\": 26, \"2\": 3, \"14\": 1}, \"3\": {\"3\": 208, \"11\": 1, \"8\": 10, \"13\": 15, \"7\": 6}, \"0\": {\"0\": 66, \"2\": 17, \"8\": 13, \"4\": 49, \"11\": 29, \"5\": 37, \"7\": 18, \"13\": 10, \"14\": 1}, \"9\": {\"9\": 232, \"14\": 6, \"12\": 2}, \"12\": {\"12\": 240}, \"8\": {\"8\": 141, \"0\": 14, \"5\": 17, \"3\": 11, \"7\": 2, \"4\": 20, \"13\": 26, \"15\": 7, \"2\": 2}, \"14\": {\"14\": 160, \"5\": 14, \"0\": 6, \"2\": 55, \"9\": 2, \"11\": 1, \"4\": 2}, \"15\": {\"15\": 230, \"5\": 2, \"8\": 7, \"3\": 1}, \"11\": {\"7\": 66, \"11\": 85, \"13\": 27, \"2\": 13, \"0\": 19, \"4\": 23, \"8\": 2, \"5\": 3, \"3\": 2}, \"10\": {\"10\": 234, \"1\": 4, \"6\": 2}, \"1\": {\"1\": 238, \"10\": 2}}, \"20\": {\"15\": {\"1\": 19, \"9\": 27, \"5\": 15, \"12\": 28, \"2\": 22, \"15\": 37, \"13\": 56, \"0\": 19, \"7\": 4, \"3\": 9, \"4\": 3, \"11\": 1}, \"5\": {\"3\": 36, \"13\": 17, \"0\": 15, \"2\": 41, \"15\": 24, \"9\": 25, \"4\": 7, \"5\": 23, \"1\": 9, \"12\": 19, \"14\": 2, \"7\": 15, \"8\": 5, \"10\": 2}, \"7\": {\"9\": 11, \"7\": 88, \"11\": 7, \"8\": 41, \"14\": 14, \"3\": 26, \"6\": 16, \"10\": 20, \"2\": 8, \"5\": 9}, \"4\": {\"10\": 11, \"12\": 20, \"4\": 116, \"8\": 7, \"2\": 8, \"9\": 16, \"0\": 20, \"7\": 2, \"3\": 14, \"14\": 3, \"5\": 14, \"1\": 6, \"15\": 3}, \"10\": {\"10\": 69, \"14\": 58, \"8\": 56, \"7\": 20, \"6\": 13, \"3\": 10, \"4\": 8, \"2\": 2, \"9\": 2, \"11\": 1, \"5\": 1}, \"11\": {\"11\": 232, \"7\": 7, \"9\": 1}, \"12\": {\"15\": 25, \"1\": 34, \"2\": 17, \"0\": 33, \"5\": 16, \"12\": 38, \"3\": 10, \"9\": 21, \"13\": 19, \"4\": 27}, \"0\": {\"15\": 25, \"12\": 44, \"0\": 58, \"5\": 14, \"1\": 60, \"9\": 7, \"2\": 7, \"4\": 14, \"13\": 9, \"3\": 2}, \"14\": {\"14\": 104, \"10\": 61, \"8\": 25, \"6\": 37, \"7\": 10, \"4\": 1, \"3\": 1, \"9\": 1}, \"8\": {\"10\": 50, \"2\": 4, \"3\": 16, \"8\": 62, \"14\": 34, \"7\": 35, \"4\": 14, \"9\": 4, \"6\": 10, \"5\": 8, \"12\": 1, \"15\": 1, \"11\": 1}, \"13\": {\"15\": 48, \"5\": 16, \"13\": 94, \"3\": 5, \"7\": 4, \"1\": 7, \"2\": 28, \"12\": 13, \"0\": 12, \"9\": 11, \"11\": 1, \"4\": 1}, \"6\": {\"8\": 5, \"6\": 168, \"14\": 38, \"7\": 12, \"10\": 11, \"11\": 6}, \"1\": {\"13\": 14, \"1\": 71, \"15\": 16, \"0\": 78, \"12\": 34, \"9\": 8, \"4\": 15, \"5\": 2, \"3\": 2}, \"3\": {\"4\": 9, \"3\": 55, \"9\": 23, \"15\": 10, \"7\": 34, \"2\": 33, \"5\": 24, \"11\": 4, \"8\": 20, \"0\": 1, \"14\": 3, \"12\": 10, \"13\": 4, \"10\": 8, \"6\": 1, \"1\": 1}, \"9\": {\"2\": 27, \"5\": 39, \"13\": 21, \"12\": 17, \"0\": 11, \"15\": 31, \"7\": 15, \"8\": 5, \"9\": 40, \"3\": 17, \"1\": 8, \"4\": 7, \"10\": 2}, \"2\": {\"5\": 33, \"12\": 17, \"3\": 39, \"9\": 35, \"2\": 37, \"7\": 17, \"13\": 24, \"4\": 3, \"15\": 18, \"1\": 5, \"8\": 3, \"0\": 6, \"10\": 3}}, \"26\": {\"4\": {\"4\": 75, \"14\": 16, \"15\": 13, \"3\": 23, \"8\": 13, \"1\": 10, \"0\": 28, \"2\": 26, \"5\": 2, \"10\": 7, \"7\": 26, \"9\": 1}, \"10\": {\"6\": 40, \"10\": 50, \"4\": 12, \"14\": 28, \"1\": 42, \"0\": 19, \"8\": 20, \"12\": 4, \"9\": 10, \"5\": 3, \"7\": 4, \"2\": 5, \"3\": 1, \"15\": 1, \"13\": 1}, \"15\": {\"3\": 66, \"15\": 94, \"4\": 19, \"2\": 27, \"9\": 5, \"7\": 23, \"8\": 1, \"5\": 3, \"0\": 1, \"13\": 1}, \"0\": {\"14\": 36, \"4\": 42, \"1\": 43, \"8\": 17, \"0\": 43, \"6\": 3, \"10\": 22, \"15\": 3, \"7\": 14, \"5\": 4, \"9\": 4, \"2\": 6, \"3\": 2, \"13\": 1}, \"6\": {\"13\": 28, \"10\": 19, \"0\": 2, \"6\": 119, \"5\": 21, \"8\": 14, \"14\": 6, \"9\": 24, \"1\": 7}, \"3\": {\"15\": 76, \"7\": 25, \"3\": 71, \"4\": 30, \"2\": 25, \"8\": 6, \"14\": 1, \"5\": 2, \"0\": 3, \"9\": 1}, \"7\": {\"3\": 22, \"15\": 29, \"2\": 46, \"9\": 16, \"7\": 48, \"8\": 18, \"4\": 17, \"5\": 13, \"0\": 10, \"14\": 10, \"1\": 4, \"10\": 4, \"13\": 3}, \"2\": {\"4\": 21, \"2\": 46, \"15\": 23, \"9\": 15, \"3\": 32, \"8\": 22, \"7\": 46, \"5\": 11, \"10\": 7, \"14\": 5, \"0\": 6, \"13\": 5, \"1\": 1}, \"8\": {\"10\": 12, \"14\": 21, \"7\": 36, \"9\": 34, \"8\": 34, \"5\": 20, \"2\": 21, \"1\": 11, \"6\": 8, \"3\": 3, \"4\": 13, \"13\": 10, \"0\": 15, \"15\": 2}, \"11\": {\"11\": 228, \"12\": 12}, \"14\": {\"14\": 54, \"0\": 41, \"1\": 51, \"9\": 12, \"8\": 22, \"6\": 9, \"10\": 27, \"4\": 10, \"2\": 6, \"5\": 3, \"7\": 2, \"13\": 2, \"15\": 1}, \"12\": {\"12\": 224, \"11\": 16}, \"13\": {\"9\": 36, \"5\": 45, \"13\": 104, \"8\": 8, \"6\": 35, \"7\": 3, \"14\": 2, \"10\": 4, \"2\": 2, \"0\": 1}, \"9\": {\"9\": 50, \"5\": 40, \"13\": 44, \"2\": 12, \"7\": 14, \"6\": 26, \"15\": 4, \"14\": 8, \"4\": 1, \"8\": 25, \"10\": 8, \"1\": 3, \"0\": 3, \"3\": 2}, \"5\": {\"8\": 14, \"2\": 15, \"3\": 8, \"7\": 22, \"5\": 37, \"6\": 38, \"13\": 42, \"4\": 4, \"15\": 12, \"9\": 36, \"14\": 3, \"10\": 4, \"0\": 3, \"1\": 2}, \"1\": {\"10\": 49, \"1\": 91, \"14\": 39, \"6\": 5, \"4\": 5, \"0\": 33, \"8\": 7, \"2\": 2, \"5\": 2, \"3\": 1, \"9\": 5, \"7\": 1}}, \"38\": {\"7\": {\"10\": 68, \"7\": 91, \"5\": 39, \"8\": 17, \"13\": 11, \"4\": 2, \"12\": 2, \"3\": 3, \"15\": 7}, \"2\": {\"2\": 202, \"14\": 36, \"11\": 2}, \"5\": {\"8\": 54, \"5\": 64, \"10\": 8, \"15\": 35, \"13\": 46, \"7\": 20, \"1\": 6, \"3\": 6, \"14\": 1}, \"6\": {\"6\": 138, \"9\": 90, \"3\": 9, \"15\": 2, \"0\": 1}, \"13\": {\"13\": 38, \"15\": 42, \"1\": 48, \"3\": 20, \"8\": 30, \"7\": 11, \"6\": 5, \"5\": 30, \"0\": 4, \"14\": 4, \"10\": 2, \"2\": 6}, \"4\": {\"4\": 224, \"12\": 16}, \"3\": {\"9\": 15, \"0\": 72, \"3\": 64, \"6\": 11, \"15\": 20, \"7\": 12, \"5\": 6, \"10\": 19, \"13\": 13, \"8\": 4, \"1\": 4}, \"0\": {\"9\": 5, \"0\": 173, \"3\": 52, \"10\": 4, \"15\": 1, \"6\": 3, \"7\": 2}, \"9\": {\"9\": 144, \"6\": 84, \"3\": 6, \"0\": 5, \"15\": 1}, \"12\": {\"12\": 209, \"14\": 11, \"4\": 15, \"11\": 3, \"7\": 1, \"2\": 1}, \"8\": {\"8\": 65, \"5\": 55, \"1\": 10, \"10\": 8, \"15\": 46, \"13\": 35, \"7\": 15, \"3\": 5, \"14\": 1}, \"14\": {\"2\": 59, \"13\": 2, \"14\": 111, \"12\": 33, \"11\": 29, \"7\": 3, \"5\": 3}, \"15\": {\"15\": 64, \"5\": 35, \"13\": 54, \"8\": 38, \"1\": 19, \"7\": 3, \"10\": 6, \"3\": 16, \"6\": 4, \"0\": 1}, \"11\": {\"11\": 194, \"12\": 19, \"14\": 20, \"2\": 6, \"4\": 1}, \"10\": {\"0\": 11, \"10\": 104, \"7\": 79, \"3\": 16, \"15\": 5, \"8\": 9, \"5\": 10, \"13\": 4, \"4\": 2}, \"1\": {\"1\": 192, \"13\": 24, \"15\": 16, \"8\": 6, \"5\": 2}}, \"14\": {\"11\": {\"10\": 18, \"11\": 202, \"9\": 9, \"12\": 11}, \"7\": {\"7\": 216, \"15\": 22, \"1\": 2}, \"6\": {\"6\": 99, \"14\": 54, \"13\": 57, \"2\": 18, \"5\": 4, \"3\": 5, \"4\": 3}, \"12\": {\"11\": 70, \"12\": 119, \"9\": 26, \"10\": 7, \"0\": 15, \"8\": 2, \"3\": 1}, \"4\": {\"1\": 40, \"4\": 48, \"5\": 56, \"2\": 33, \"3\": 42, \"6\": 5, \"14\": 14, \"13\": 2}, \"13\": {\"13\": 122, \"6\": 68, \"2\": 37, \"5\": 4, \"14\": 6, \"1\": 1, \"4\": 1, \"15\": 1}, \"8\": {\"8\": 235, \"5\": 1, \"3\": 2, \"1\": 1, \"9\": 1}, \"5\": {\"5\": 80, \"4\": 50, \"3\": 25, \"1\": 50, \"2\": 26, \"14\": 6, \"13\": 1, \"7\": 2}, \"14\": {\"3\": 34, \"14\": 114, \"6\": 33, \"2\": 22, \"13\": 6, \"0\": 7, \"5\": 12, \"4\": 10, \"8\": 2}, \"3\": {\"8\": 12, \"3\": 138, \"4\": 32, \"6\": 4, \"14\": 21, \"2\": 9, \"1\": 8, \"5\": 14, \"0\": 2}, \"10\": {\"11\": 27, \"10\": 167, \"0\": 42, \"9\": 3, \"12\": 1}, \"1\": {\"1\": 142, \"5\": 48, \"4\": 33, \"2\": 7, \"3\": 9, \"13\": 1}, \"2\": {\"5\": 30, \"2\": 62, \"6\": 25, \"13\": 38, \"14\": 31, \"4\": 25, \"3\": 17, \"1\": 9, \"15\": 2, \"7\": 1}, \"15\": {\"15\": 193, \"7\": 46, \"5\": 1}, \"9\": {\"9\": 222, \"0\": 4, \"8\": 1, \"12\": 3, \"10\": 2, \"11\": 8}, \"0\": {\"0\": 193, \"10\": 32, \"3\": 6, \"9\": 5, \"14\": 1, \"8\": 3}}, \"44\": {\"10\": {\"10\": 220, \"12\": 13, \"1\": 6, \"7\": 1}, \"6\": {\"9\": 23, \"6\": 171, \"11\": 31, \"2\": 7, \"13\": 4, \"7\": 4}, \"13\": {\"13\": 224, \"4\": 10, \"14\": 1, \"6\": 5}, \"3\": {\"3\": 180, \"1\": 36, \"12\": 21, \"2\": 3}, \"9\": {\"2\": 89, \"9\": 71, \"7\": 61, \"6\": 15, \"1\": 3, \"3\": 1}, \"1\": {\"3\": 46, \"12\": 82, \"1\": 104, \"9\": 2, \"7\": 3, \"10\": 1, \"2\": 2}, \"5\": {\"14\": 24, \"5\": 191, \"8\": 15, \"0\": 9, \"15\": 1}, \"11\": {\"11\": 209, \"6\": 26, \"7\": 4, \"2\": 1}, \"4\": {\"4\": 206, \"14\": 15, \"15\": 14, \"13\": 5}, \"14\": {\"14\": 149, \"15\": 55, \"5\": 20, \"8\": 1, \"4\": 15}, \"12\": {\"12\": 132, \"1\": 74, \"10\": 4, \"3\": 30}, \"7\": {\"12\": 1, \"7\": 73, \"2\": 77, \"9\": 61, \"6\": 14, \"11\": 2, \"3\": 6, \"1\": 6}, \"0\": {\"8\": 95, \"0\": 143, \"14\": 1, \"5\": 1}, \"15\": {\"15\": 173, \"14\": 46, \"4\": 18, \"5\": 2, \"8\": 1}, \"2\": {\"2\": 89, \"7\": 57, \"9\": 82, \"3\": 6, \"6\": 4, \"13\": 1, \"1\": 1}, \"8\": {\"0\": 89, \"8\": 143, \"14\": 2, \"5\": 4, \"15\": 2}}}, \"per_domain_accuracy\": {\"8\": {\"accuracy\": 0.48854166666666665, \"source?\": true}, \"50\": {\"accuracy\": 0.67109375, \"source?\": true}, \"32\": {\"accuracy\": 0.653125, \"source?\": true}, \"20\": {\"accuracy\": 0.33645833333333336, \"source?\": false}, \"26\": {\"accuracy\": 0.35625, \"source?\": false}, \"38\": {\"accuracy\": 0.5408854166666667, \"source?\": false}, \"14\": {\"accuracy\": 0.6125, \"source?\": false}, \"44\": {\"accuracy\": 0.6453125, \"source?\": false}}}, \"history\": {\"epoch_indices\": [1, 2, 3, 4, 5, 6, 7, 8, 9, 10, 11, 12], \"train_label_loss\": [1.814871933985324, 1.3281326476070616, 1.1411882154170483, 0.8590968463037695, 0.6878083194059039, 0.5530810244617954, 0.44879837113003884, 0.37087219597416976, 0.3074270948420264, 0.25355543238997813, 0.21713426030714006, 0.1816786607289465], \"source_val_label_loss\": [1.5257488489151, 1.3853243589401245, 1.172979474067688, 1.1022568941116333, 1.119543194770813, 1.1498973369598389, 1.2424184083938599, 1.2899045944213867, 1.3460826873779297, 1.5073148012161255, 1.5427381992340088, 1.6232361793518066], \"target_val_label_loss\": [1.8839234113693237, 1.8407646417617798, 1.5993006229400635, 1.5352892875671387, 1.5398685932159424, 1.591146469116211, 1.7398053407669067, 1.8050196170806885, 1.9131441116333008, 2.1264631748199463, 2.1697068214416504, 2.280975103378296], \"source_val_acc_label\": [0.3923611111111111, 0.43342013888888886, 0.5447916666666667, 0.5879340277777778, 0.5917534722222222, 0.6036458333333333, 0.6030381944444444, 0.6042534722222223, 0.6092013888888889, 0.6015625, 0.6059027777777778, 0.6012152777777777], \"target_val_acc_label\": [0.28125, 0.31322916666666667, 0.43802083333333336, 0.4725520833333333, 0.48578125, 0.4976041666666667, 0.49145833333333333, 0.49828125, 0.4947916666666667, 0.49322916666666666, 0.49114583333333334, 0.49020833333333336]}, \"dataset_metrics\": {\"source\": {\"train\": {\"n_unique_x\": 67200, \"n_unique_y\": 16, \"n_batch/episode\": 2520}, \"val\": {\"n_unique_x\": 14400, \"n_unique_y\": 16, \"n_batch/episode\": 360}, \"test\": {\"n_unique_x\": 14400, \"n_unique_y\": 16, \"n_batch/episode\": 360}}, \"target\": {\"train\": {\"n_unique_x\": 112000, \"n_unique_y\": 16, \"n_batch/episode\": 4200}, \"val\": {\"n_unique_x\": 24000, \"n_unique_y\": 16, \"n_batch/episode\": 600}, \"test\": {\"n_unique_x\": 24000, \"n_unique_y\": 16, \"n_batch/episode\": 600}}}}'"
      ]
     },
     "execution_count": 20,
     "metadata": {},
     "output_type": "execute_result"
    }
   ],
   "source": [
    "json.dumps(experiment)"
   ]
  }
 ],
 "metadata": {
  "celltoolbar": "Tags",
  "kernelspec": {
   "display_name": "Python 3 (ipykernel)",
   "language": "python",
   "name": "python3"
  },
  "language_info": {
   "codemirror_mode": {
    "name": "ipython",
    "version": 3
   },
   "file_extension": ".py",
   "mimetype": "text/x-python",
   "name": "python",
   "nbconvert_exporter": "python",
   "pygments_lexer": "ipython3",
   "version": "3.8.10"
  },
  "papermill": {
   "default_parameters": {},
   "duration": 933.078419,
   "end_time": "2022-04-01T16:16:05.374725",
   "environment_variables": {},
   "exception": null,
   "input_path": "/mnt/wd500GB/CSC500/csc500-main/csc500-notebooks/templates/ptn_template.ipynb",
   "output_path": "trial.ipynb",
   "parameters": {
    "parameters": {
     "BEST_MODEL_PATH": "./best_model.pth",
     "NUM_LOGS_PER_EPOCH": 10,
     "criteria_for_best": "target_accuracy",
     "dataset_seed": 420,
     "device": "cuda",
     "domains_source": [
      8,
      32,
      50
     ],
     "domains_target": [
      14,
      20,
      26,
      38,
      44
     ],
     "episode_transforms_source": [],
     "episode_transforms_target": [],
     "experiment_name": "tuned_1v2:oracle.run2_limited",
     "labels_source": [
      "3123D52",
      "3123D65",
      "3123D79",
      "3123D80",
      "3123D54",
      "3123D70",
      "3123D7B",
      "3123D89",
      "3123D58",
      "3123D76",
      "3123D7D",
      "3123EFE",
      "3123D64",
      "3123D78",
      "3123D7E",
      "3124E4A"
     ],
     "labels_target": [
      "3123D52",
      "3123D65",
      "3123D79",
      "3123D80",
      "3123D54",
      "3123D70",
      "3123D7B",
      "3123D89",
      "3123D58",
      "3123D76",
      "3123D7D",
      "3123EFE",
      "3123D64",
      "3123D78",
      "3123D7E",
      "3124E4A"
     ],
     "lr": 0.0001,
     "n_epoch": 50,
     "n_query": 2,
     "n_shot": 3,
     "n_way": 16,
     "num_examples_per_domain_per_label_source": 2000,
     "num_examples_per_domain_per_label_target": 2000,
     "patience": 3,
     "pickle_name": "oracle.Run2_10kExamples_stratified_ds.2022A.pkl",
     "seed": 420,
     "test_k_factor": 2,
     "torch_default_dtype": "torch.float32",
     "train_k_factor": 3,
     "val_k_factor": 2,
     "x_net": [
      {
       "class": "nnReshape",
       "kargs": {
        "shape": [
         -1,
         1,
         2,
         256
        ]
       }
      },
      {
       "class": "Conv2d",
       "kargs": {
        "bias": false,
        "in_channels": 1,
        "kernel_size": [
         1,
         7
        ],
        "out_channels": 256,
        "padding": [
         0,
         3
        ]
       }
      },
      {
       "class": "ReLU",
       "kargs": {
        "inplace": true
       }
      },
      {
       "class": "BatchNorm2d",
       "kargs": {
        "num_features": 256
       }
      },
      {
       "class": "Conv2d",
       "kargs": {
        "bias": true,
        "in_channels": 256,
        "kernel_size": [
         2,
         7
        ],
        "out_channels": 80,
        "padding": [
         0,
         3
        ]
       }
      },
      {
       "class": "ReLU",
       "kargs": {
        "inplace": true
       }
      },
      {
       "class": "BatchNorm2d",
       "kargs": {
        "num_features": 80
       }
      },
      {
       "class": "Flatten",
       "kargs": {}
      },
      {
       "class": "Linear",
       "kargs": {
        "in_features": 20480,
        "out_features": 256
       }
      },
      {
       "class": "ReLU",
       "kargs": {
        "inplace": true
       }
      },
      {
       "class": "BatchNorm1d",
       "kargs": {
        "num_features": 256
       }
      },
      {
       "class": "Linear",
       "kargs": {
        "in_features": 256,
        "out_features": 256
       }
      }
     ],
     "x_transforms_source": [
      "unit_mag"
     ],
     "x_transforms_target": [
      "unit_mag"
     ]
    }
   },
   "start_time": "2022-04-01T16:00:32.296306",
   "version": "2.3.4"
  }
 },
 "nbformat": 4,
 "nbformat_minor": 5
}