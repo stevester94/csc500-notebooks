{
 "cells": [
  {
   "cell_type": "markdown",
   "id": "9fea5f46",
   "metadata": {
    "papermill": {
     "duration": 0.015031,
     "end_time": "2022-04-01T15:34:25.755398",
     "exception": false,
     "start_time": "2022-04-01T15:34:25.740367",
     "status": "completed"
    },
    "tags": []
   },
   "source": [
    "# PTN Template\n",
    "This notebook serves as a template for single dataset PTN experiments  \n",
    "It can be run on its own by setting STANDALONE to True (do a find for \"STANDALONE\" to see where)  \n",
    "But it is intended to be executed as part of a *papermill.py script. See any of the   \n",
    "experimentes with a papermill script to get started with that workflow.  "
   ]
  },
  {
   "cell_type": "code",
   "execution_count": 1,
   "id": "0902182a",
   "metadata": {
    "execution": {
     "iopub.execute_input": "2022-04-01T15:34:25.787138Z",
     "iopub.status.busy": "2022-04-01T15:34:25.786200Z",
     "iopub.status.idle": "2022-04-01T15:34:26.686024Z",
     "shell.execute_reply": "2022-04-01T15:34:26.685471Z"
    },
    "papermill": {
     "duration": 0.921546,
     "end_time": "2022-04-01T15:34:26.686133",
     "exception": false,
     "start_time": "2022-04-01T15:34:25.764587",
     "status": "completed"
    },
    "tags": []
   },
   "outputs": [],
   "source": [
    "%load_ext autoreload\n",
    "%autoreload 2\n",
    "%matplotlib inline\n",
    "\n",
    "    \n",
    "import os, json, sys, time, random\n",
    "import numpy as np\n",
    "import torch\n",
    "from torch.optim import Adam\n",
    "from  easydict import EasyDict\n",
    "import matplotlib.pyplot as plt\n",
    "\n",
    "from steves_models.steves_ptn import Steves_Prototypical_Network\n",
    "\n",
    "from steves_utils.lazy_iterable_wrapper import Lazy_Iterable_Wrapper\n",
    "from steves_utils.iterable_aggregator import Iterable_Aggregator\n",
    "from steves_utils.ptn_train_eval_test_jig import  PTN_Train_Eval_Test_Jig\n",
    "from steves_utils.torch_sequential_builder import build_sequential\n",
    "from steves_utils.torch_utils import get_dataset_metrics, ptn_confusion_by_domain_over_dataloader\n",
    "from steves_utils.utils_v2 import (per_domain_accuracy_from_confusion, get_datasets_base_path)\n",
    "from steves_utils.PTN.utils import independent_accuracy_assesment\n",
    "\n",
    "from steves_utils.stratified_dataset.episodic_accessor import Episodic_Accessor_Factory\n",
    "\n",
    "from steves_utils.ptn_do_report import (\n",
    "    get_loss_curve,\n",
    "    get_results_table,\n",
    "    get_parameters_table,\n",
    "    get_domain_accuracies,\n",
    ")\n",
    "\n",
    "from steves_utils.transforms import get_chained_transform"
   ]
  },
  {
   "cell_type": "markdown",
   "id": "41c840b4",
   "metadata": {
    "papermill": {
     "duration": 0.009224,
     "end_time": "2022-04-01T15:34:26.708949",
     "exception": false,
     "start_time": "2022-04-01T15:34:26.699725",
     "status": "completed"
    },
    "tags": []
   },
   "source": [
    "# Required Parameters\n",
    "These are allowed parameters, not defaults\n",
    "Each of these values need to be present in the injected parameters (the notebook will raise an exception if they are not present)\n",
    "\n",
    "Papermill uses the cell tag \"parameters\" to inject the real parameters below this cell.\n",
    "Enable tags to see what I mean"
   ]
  },
  {
   "cell_type": "code",
   "execution_count": 2,
   "id": "fd44eb83",
   "metadata": {
    "execution": {
     "iopub.execute_input": "2022-04-01T15:34:26.730606Z",
     "iopub.status.busy": "2022-04-01T15:34:26.730350Z",
     "iopub.status.idle": "2022-04-01T15:34:26.745335Z",
     "shell.execute_reply": "2022-04-01T15:34:26.744886Z"
    },
    "papermill": {
     "duration": 0.027192,
     "end_time": "2022-04-01T15:34:26.745424",
     "exception": false,
     "start_time": "2022-04-01T15:34:26.718232",
     "status": "completed"
    },
    "tags": []
   },
   "outputs": [],
   "source": [
    "required_parameters = {\n",
    "    \"experiment_name\",\n",
    "    \"lr\",\n",
    "    \"device\",\n",
    "    \"seed\",\n",
    "    \"dataset_seed\",\n",
    "    \"labels_source\",\n",
    "    \"labels_target\",\n",
    "    \"domains_source\",\n",
    "    \"domains_target\",\n",
    "    \"num_examples_per_domain_per_label_source\",\n",
    "    \"num_examples_per_domain_per_label_target\",\n",
    "    \"n_shot\",\n",
    "    \"n_way\",\n",
    "    \"n_query\",\n",
    "    \"train_k_factor\",\n",
    "    \"val_k_factor\",\n",
    "    \"test_k_factor\",\n",
    "    \"n_epoch\",\n",
    "    \"patience\",\n",
    "    \"criteria_for_best\",\n",
    "    \"x_transforms_source\",\n",
    "    \"x_transforms_target\",\n",
    "    \"episode_transforms_source\",\n",
    "    \"episode_transforms_target\",\n",
    "    \"pickle_name\",\n",
    "    \"x_net\",\n",
    "    \"NUM_LOGS_PER_EPOCH\",\n",
    "    \"BEST_MODEL_PATH\",\n",
    "    \"torch_default_dtype\"\n",
    "}"
   ]
  },
  {
   "cell_type": "code",
   "execution_count": 3,
   "id": "fa3f0049",
   "metadata": {
    "execution": {
     "iopub.execute_input": "2022-04-01T15:34:26.776813Z",
     "iopub.status.busy": "2022-04-01T15:34:26.775023Z",
     "iopub.status.idle": "2022-04-01T15:34:26.789690Z",
     "shell.execute_reply": "2022-04-01T15:34:26.789300Z"
    },
    "papermill": {
     "duration": 0.030592,
     "end_time": "2022-04-01T15:34:26.789779",
     "exception": false,
     "start_time": "2022-04-01T15:34:26.759187",
     "status": "completed"
    },
    "tags": [
     "parameters"
    ]
   },
   "outputs": [],
   "source": [
    "\n",
    "\n",
    "standalone_parameters = {}\n",
    "standalone_parameters[\"experiment_name\"] = \"STANDALONE PTN\"\n",
    "standalone_parameters[\"lr\"] = 0.0001\n",
    "standalone_parameters[\"device\"] = \"cuda\"\n",
    "\n",
    "standalone_parameters[\"seed\"] = 1337\n",
    "standalone_parameters[\"dataset_seed\"] = 1337\n",
    "\n",
    "\n",
    "standalone_parameters[\"num_examples_per_domain_per_label_source\"]=100\n",
    "standalone_parameters[\"num_examples_per_domain_per_label_target\"]=100\n",
    "\n",
    "standalone_parameters[\"n_shot\"] = 3\n",
    "standalone_parameters[\"n_query\"]  = 2\n",
    "standalone_parameters[\"train_k_factor\"] = 1\n",
    "standalone_parameters[\"val_k_factor\"] = 2\n",
    "standalone_parameters[\"test_k_factor\"] = 2\n",
    "\n",
    "\n",
    "standalone_parameters[\"n_epoch\"] = 100\n",
    "\n",
    "standalone_parameters[\"patience\"] = 10\n",
    "standalone_parameters[\"criteria_for_best\"] = \"target_accuracy\"\n",
    "\n",
    "standalone_parameters[\"x_transforms_source\"] = [\"unit_power\"]\n",
    "standalone_parameters[\"x_transforms_target\"] = [\"unit_power\"]\n",
    "standalone_parameters[\"episode_transforms_source\"] = []\n",
    "standalone_parameters[\"episode_transforms_target\"] = []\n",
    "\n",
    "standalone_parameters[\"torch_default_dtype\"] = \"torch.float32\" \n",
    "\n",
    "\n",
    "\n",
    "standalone_parameters[\"x_net\"] =     [\n",
    "    {\"class\": \"nnReshape\", \"kargs\": {\"shape\":[-1, 1, 2, 256]}},\n",
    "    {\"class\": \"Conv2d\", \"kargs\": { \"in_channels\":1, \"out_channels\":256, \"kernel_size\":(1,7), \"bias\":False, \"padding\":(0,3), },},\n",
    "    {\"class\": \"ReLU\", \"kargs\": {\"inplace\": True}},\n",
    "    {\"class\": \"BatchNorm2d\", \"kargs\": {\"num_features\":256}},\n",
    "\n",
    "    {\"class\": \"Conv2d\", \"kargs\": { \"in_channels\":256, \"out_channels\":80, \"kernel_size\":(2,7), \"bias\":True, \"padding\":(0,3), },},\n",
    "    {\"class\": \"ReLU\", \"kargs\": {\"inplace\": True}},\n",
    "    {\"class\": \"BatchNorm2d\", \"kargs\": {\"num_features\":80}},\n",
    "    {\"class\": \"Flatten\", \"kargs\": {}},\n",
    "\n",
    "    {\"class\": \"Linear\", \"kargs\": {\"in_features\": 80*256, \"out_features\": 256}}, # 80 units per IQ pair\n",
    "    {\"class\": \"ReLU\", \"kargs\": {\"inplace\": True}},\n",
    "    {\"class\": \"BatchNorm1d\", \"kargs\": {\"num_features\":256}},\n",
    "\n",
    "    {\"class\": \"Linear\", \"kargs\": {\"in_features\": 256, \"out_features\": 256}},\n",
    "]\n",
    "\n",
    "# Parameters relevant to results\n",
    "# These parameters will basically never need to change\n",
    "standalone_parameters[\"NUM_LOGS_PER_EPOCH\"] = 10\n",
    "standalone_parameters[\"BEST_MODEL_PATH\"] = \"./best_model.pth\"\n",
    "\n",
    "# uncomment for CORES dataset\n",
    "from steves_utils.CORES.utils import (\n",
    "    ALL_NODES,\n",
    "    ALL_NODES_MINIMUM_1000_EXAMPLES,\n",
    "    ALL_DAYS\n",
    ")\n",
    "\n",
    "\n",
    "standalone_parameters[\"labels_source\"] = ALL_NODES\n",
    "standalone_parameters[\"labels_target\"] = ALL_NODES\n",
    "\n",
    "standalone_parameters[\"domains_source\"] = [1]\n",
    "standalone_parameters[\"domains_target\"] = [2,3,4,5]\n",
    "\n",
    "standalone_parameters[\"pickle_name\"] = \"cores.stratified_ds.2022A.pkl\"\n",
    "\n",
    "\n",
    "# Uncomment these for ORACLE dataset\n",
    "# from steves_utils.ORACLE.utils_v2 import (\n",
    "#     ALL_DISTANCES_FEET,\n",
    "#     ALL_RUNS,\n",
    "#     ALL_SERIAL_NUMBERS,\n",
    "# )\n",
    "# standalone_parameters[\"labels_source\"] = ALL_SERIAL_NUMBERS\n",
    "# standalone_parameters[\"labels_target\"] = ALL_SERIAL_NUMBERS\n",
    "# standalone_parameters[\"domains_source\"] = [8,20, 38,50]\n",
    "# standalone_parameters[\"domains_target\"] = [14, 26, 32, 44, 56]\n",
    "# standalone_parameters[\"pickle_name\"] = \"oracle.frame_indexed.stratified_ds.2022A.pkl\"\n",
    "# standalone_parameters[\"num_examples_per_domain_per_label_source\"]=1000\n",
    "# standalone_parameters[\"num_examples_per_domain_per_label_target\"]=1000\n",
    "\n",
    "# Uncomment these for Metahan dataset\n",
    "# standalone_parameters[\"labels_source\"] = list(range(19))\n",
    "# standalone_parameters[\"labels_target\"] = list(range(19))\n",
    "# standalone_parameters[\"domains_source\"] = [0]\n",
    "# standalone_parameters[\"domains_target\"] = [1]\n",
    "# standalone_parameters[\"pickle_name\"] = \"metehan.stratified_ds.2022A.pkl\"\n",
    "# standalone_parameters[\"n_way\"]  = len(standalone_parameters[\"labels_source\"])\n",
    "# standalone_parameters[\"num_examples_per_domain_per_label_source\"]=200\n",
    "# standalone_parameters[\"num_examples_per_domain_per_label_target\"]=100\n",
    "\n",
    "\n",
    "standalone_parameters[\"n_way\"]  = len(standalone_parameters[\"labels_source\"])"
   ]
  },
  {
   "cell_type": "code",
   "execution_count": 4,
   "id": "303f2716",
   "metadata": {
    "execution": {
     "iopub.execute_input": "2022-04-01T15:34:26.824221Z",
     "iopub.status.busy": "2022-04-01T15:34:26.821183Z",
     "iopub.status.idle": "2022-04-01T15:34:26.833643Z",
     "shell.execute_reply": "2022-04-01T15:34:26.833268Z"
    },
    "papermill": {
     "duration": 0.030138,
     "end_time": "2022-04-01T15:34:26.833732",
     "exception": false,
     "start_time": "2022-04-01T15:34:26.803594",
     "status": "completed"
    },
    "tags": [
     "injected-parameters"
    ]
   },
   "outputs": [],
   "source": [
    "# Parameters\n",
    "parameters = {\n",
    "    \"experiment_name\": \"tuned_1v2:oracle.run2_limited\",\n",
    "    \"device\": \"cuda\",\n",
    "    \"lr\": 0.0001,\n",
    "    \"labels_source\": [\n",
    "        \"3123D52\",\n",
    "        \"3123D65\",\n",
    "        \"3123D79\",\n",
    "        \"3123D80\",\n",
    "        \"3123D54\",\n",
    "        \"3123D70\",\n",
    "        \"3123D7B\",\n",
    "        \"3123D89\",\n",
    "        \"3123D58\",\n",
    "        \"3123D76\",\n",
    "        \"3123D7D\",\n",
    "        \"3123EFE\",\n",
    "        \"3123D64\",\n",
    "        \"3123D78\",\n",
    "        \"3123D7E\",\n",
    "        \"3124E4A\",\n",
    "    ],\n",
    "    \"labels_target\": [\n",
    "        \"3123D52\",\n",
    "        \"3123D65\",\n",
    "        \"3123D79\",\n",
    "        \"3123D80\",\n",
    "        \"3123D54\",\n",
    "        \"3123D70\",\n",
    "        \"3123D7B\",\n",
    "        \"3123D89\",\n",
    "        \"3123D58\",\n",
    "        \"3123D76\",\n",
    "        \"3123D7D\",\n",
    "        \"3123EFE\",\n",
    "        \"3123D64\",\n",
    "        \"3123D78\",\n",
    "        \"3123D7E\",\n",
    "        \"3124E4A\",\n",
    "    ],\n",
    "    \"episode_transforms_source\": [],\n",
    "    \"episode_transforms_target\": [],\n",
    "    \"domains_source\": [8, 32, 50],\n",
    "    \"domains_target\": [14, 20, 26, 38, 44],\n",
    "    \"num_examples_per_domain_per_label_source\": 2000,\n",
    "    \"num_examples_per_domain_per_label_target\": 2000,\n",
    "    \"n_shot\": 3,\n",
    "    \"n_way\": 16,\n",
    "    \"n_query\": 2,\n",
    "    \"train_k_factor\": 3,\n",
    "    \"val_k_factor\": 2,\n",
    "    \"test_k_factor\": 2,\n",
    "    \"torch_default_dtype\": \"torch.float32\",\n",
    "    \"n_epoch\": 50,\n",
    "    \"patience\": 3,\n",
    "    \"criteria_for_best\": \"target_accuracy\",\n",
    "    \"x_net\": [\n",
    "        {\"class\": \"nnReshape\", \"kargs\": {\"shape\": [-1, 1, 2, 256]}},\n",
    "        {\n",
    "            \"class\": \"Conv2d\",\n",
    "            \"kargs\": {\n",
    "                \"in_channels\": 1,\n",
    "                \"out_channels\": 256,\n",
    "                \"kernel_size\": [1, 7],\n",
    "                \"bias\": False,\n",
    "                \"padding\": [0, 3],\n",
    "            },\n",
    "        },\n",
    "        {\"class\": \"ReLU\", \"kargs\": {\"inplace\": True}},\n",
    "        {\"class\": \"BatchNorm2d\", \"kargs\": {\"num_features\": 256}},\n",
    "        {\n",
    "            \"class\": \"Conv2d\",\n",
    "            \"kargs\": {\n",
    "                \"in_channels\": 256,\n",
    "                \"out_channels\": 80,\n",
    "                \"kernel_size\": [2, 7],\n",
    "                \"bias\": True,\n",
    "                \"padding\": [0, 3],\n",
    "            },\n",
    "        },\n",
    "        {\"class\": \"ReLU\", \"kargs\": {\"inplace\": True}},\n",
    "        {\"class\": \"BatchNorm2d\", \"kargs\": {\"num_features\": 80}},\n",
    "        {\"class\": \"Flatten\", \"kargs\": {}},\n",
    "        {\"class\": \"Linear\", \"kargs\": {\"in_features\": 20480, \"out_features\": 256}},\n",
    "        {\"class\": \"ReLU\", \"kargs\": {\"inplace\": True}},\n",
    "        {\"class\": \"BatchNorm1d\", \"kargs\": {\"num_features\": 256}},\n",
    "        {\"class\": \"Linear\", \"kargs\": {\"in_features\": 256, \"out_features\": 256}},\n",
    "    ],\n",
    "    \"NUM_LOGS_PER_EPOCH\": 10,\n",
    "    \"BEST_MODEL_PATH\": \"./best_model.pth\",\n",
    "    \"pickle_name\": \"oracle.Run2_10kExamples_stratified_ds.2022A.pkl\",\n",
    "    \"x_transforms_source\": [\"unit_mag\"],\n",
    "    \"x_transforms_target\": [\"unit_mag\"],\n",
    "    \"dataset_seed\": 1337,\n",
    "    \"seed\": 1337,\n",
    "}\n"
   ]
  },
  {
   "cell_type": "code",
   "execution_count": 5,
   "id": "8fa1cc33",
   "metadata": {
    "execution": {
     "iopub.execute_input": "2022-04-01T15:34:26.860105Z",
     "iopub.status.busy": "2022-04-01T15:34:26.859157Z",
     "iopub.status.idle": "2022-04-01T15:34:26.872785Z",
     "shell.execute_reply": "2022-04-01T15:34:26.873185Z"
    },
    "papermill": {
     "duration": 0.027551,
     "end_time": "2022-04-01T15:34:26.873306",
     "exception": false,
     "start_time": "2022-04-01T15:34:26.845755",
     "status": "completed"
    },
    "tags": []
   },
   "outputs": [],
   "source": [
    "# Set this to True if you want to run this template directly\n",
    "STANDALONE = False\n",
    "if STANDALONE:\n",
    "    print(\"parameters not injected, running with standalone_parameters\")\n",
    "    parameters = standalone_parameters\n",
    "\n",
    "if not 'parameters' in locals() and not 'parameters' in globals():\n",
    "    raise Exception(\"Parameter injection failed\")\n",
    "\n",
    "#Use an easy dict for all the parameters\n",
    "p = EasyDict(parameters)\n",
    "\n",
    "supplied_keys = set(p.keys())\n",
    "\n",
    "if  supplied_keys != required_parameters:\n",
    "    print(\"Parameters are incorrect\")\n",
    "    if len(supplied_keys - required_parameters)>0: print(\"Shouldn't have:\", str(supplied_keys - required_parameters))\n",
    "    if len(required_parameters - supplied_keys)>0: print(\"Need to have:\", str(required_parameters - supplied_keys))\n",
    "    raise RuntimeError(\"Parameters are incorrect\")\n",
    "\n"
   ]
  },
  {
   "cell_type": "code",
   "execution_count": 6,
   "id": "3a028d58",
   "metadata": {
    "execution": {
     "iopub.execute_input": "2022-04-01T15:34:26.900708Z",
     "iopub.status.busy": "2022-04-01T15:34:26.900184Z",
     "iopub.status.idle": "2022-04-01T15:34:26.913571Z",
     "shell.execute_reply": "2022-04-01T15:34:26.913206Z"
    },
    "papermill": {
     "duration": 0.026004,
     "end_time": "2022-04-01T15:34:26.913660",
     "exception": false,
     "start_time": "2022-04-01T15:34:26.887656",
     "status": "completed"
    },
    "tags": []
   },
   "outputs": [],
   "source": [
    "###################################\n",
    "# Set the RNGs and make it all deterministic\n",
    "###################################\n",
    "np.random.seed(p.seed)\n",
    "random.seed(p.seed)\n",
    "torch.manual_seed(p.seed)\n",
    "\n",
    "torch.use_deterministic_algorithms(True) "
   ]
  },
  {
   "cell_type": "code",
   "execution_count": 7,
   "id": "b691acf6",
   "metadata": {
    "execution": {
     "iopub.execute_input": "2022-04-01T15:34:26.939747Z",
     "iopub.status.busy": "2022-04-01T15:34:26.939400Z",
     "iopub.status.idle": "2022-04-01T15:34:26.953084Z",
     "shell.execute_reply": "2022-04-01T15:34:26.952691Z"
    },
    "papermill": {
     "duration": 0.025303,
     "end_time": "2022-04-01T15:34:26.953172",
     "exception": false,
     "start_time": "2022-04-01T15:34:26.927869",
     "status": "completed"
    },
    "tags": []
   },
   "outputs": [],
   "source": [
    "###########################################\n",
    "# The stratified datasets honor this\n",
    "###########################################\n",
    "torch.set_default_dtype(eval(p.torch_default_dtype))"
   ]
  },
  {
   "cell_type": "code",
   "execution_count": 8,
   "id": "b5fba671",
   "metadata": {
    "execution": {
     "iopub.execute_input": "2022-04-01T15:34:26.987425Z",
     "iopub.status.busy": "2022-04-01T15:34:26.979366Z",
     "iopub.status.idle": "2022-04-01T15:34:27.019898Z",
     "shell.execute_reply": "2022-04-01T15:34:27.019508Z"
    },
    "papermill": {
     "duration": 0.052427,
     "end_time": "2022-04-01T15:34:27.019986",
     "exception": false,
     "start_time": "2022-04-01T15:34:26.967559",
     "status": "completed"
    },
    "tags": []
   },
   "outputs": [],
   "source": [
    "###################################\n",
    "# Build the network(s)\n",
    "# Note: It's critical to do this AFTER setting the RNG\n",
    "# (This is due to the randomized initial weights)\n",
    "###################################\n",
    "x_net = build_sequential(p.x_net)"
   ]
  },
  {
   "cell_type": "code",
   "execution_count": 9,
   "id": "5d7e61cc",
   "metadata": {
    "execution": {
     "iopub.execute_input": "2022-04-01T15:34:27.047370Z",
     "iopub.status.busy": "2022-04-01T15:34:27.047108Z",
     "iopub.status.idle": "2022-04-01T15:34:27.061783Z",
     "shell.execute_reply": "2022-04-01T15:34:27.061432Z"
    },
    "papermill": {
     "duration": 0.026836,
     "end_time": "2022-04-01T15:34:27.061866",
     "exception": false,
     "start_time": "2022-04-01T15:34:27.035030",
     "status": "completed"
    },
    "tags": []
   },
   "outputs": [],
   "source": [
    "start_time_secs = time.time()"
   ]
  },
  {
   "cell_type": "code",
   "execution_count": 10,
   "id": "fd5442bc",
   "metadata": {
    "execution": {
     "iopub.execute_input": "2022-04-01T15:34:27.094827Z",
     "iopub.status.busy": "2022-04-01T15:34:27.094443Z",
     "iopub.status.idle": "2022-04-01T15:34:45.384767Z",
     "shell.execute_reply": "2022-04-01T15:34:45.384278Z"
    },
    "papermill": {
     "duration": 18.308631,
     "end_time": "2022-04-01T15:34:45.384866",
     "exception": false,
     "start_time": "2022-04-01T15:34:27.076235",
     "status": "completed"
    },
    "tags": []
   },
   "outputs": [],
   "source": [
    "###################################\n",
    "# Build the dataset\n",
    "###################################\n",
    "\n",
    "if p.x_transforms_source == []: x_transform_source = None\n",
    "else: x_transform_source = get_chained_transform(p.x_transforms_source) \n",
    "\n",
    "if p.x_transforms_target == []: x_transform_target = None\n",
    "else: x_transform_target = get_chained_transform(p.x_transforms_target)\n",
    "\n",
    "if p.episode_transforms_source == []: episode_transform_source = None\n",
    "else: raise Exception(\"episode_transform_source not implemented\")\n",
    "\n",
    "if p.episode_transforms_target == []: episode_transform_target = None\n",
    "else: raise Exception(\"episode_transform_target not implemented\")\n",
    "\n",
    "\n",
    "eaf_source = Episodic_Accessor_Factory(\n",
    "    labels=p.labels_source,\n",
    "    domains=p.domains_source,\n",
    "    num_examples_per_domain_per_label=p.num_examples_per_domain_per_label_source,\n",
    "    iterator_seed=p.seed,\n",
    "    dataset_seed=p.dataset_seed,\n",
    "    n_shot=p.n_shot,\n",
    "    n_way=p.n_way,\n",
    "    n_query=p.n_query,\n",
    "    train_val_test_k_factors=(p.train_k_factor,p.val_k_factor,p.test_k_factor),\n",
    "    pickle_path=os.path.join(get_datasets_base_path(), p.pickle_name),\n",
    "    x_transform_func=x_transform_source,\n",
    "    example_transform_func=episode_transform_source,\n",
    "    \n",
    ")\n",
    "train_original_source, val_original_source, test_original_source = eaf_source.get_train(), eaf_source.get_val(), eaf_source.get_test()\n",
    "\n",
    "\n",
    "eaf_target = Episodic_Accessor_Factory(\n",
    "    labels=p.labels_target,\n",
    "    domains=p.domains_target,\n",
    "    num_examples_per_domain_per_label=p.num_examples_per_domain_per_label_target,\n",
    "    iterator_seed=p.seed,\n",
    "    dataset_seed=p.dataset_seed,\n",
    "    n_shot=p.n_shot,\n",
    "    n_way=p.n_way,\n",
    "    n_query=p.n_query,\n",
    "    train_val_test_k_factors=(p.train_k_factor,p.val_k_factor,p.test_k_factor),\n",
    "    pickle_path=os.path.join(get_datasets_base_path(), p.pickle_name),\n",
    "    x_transform_func=x_transform_target,\n",
    "    example_transform_func=episode_transform_target,\n",
    ")\n",
    "train_original_target, val_original_target, test_original_target = eaf_target.get_train(), eaf_target.get_val(), eaf_target.get_test()\n",
    "\n",
    "\n",
    "transform_lambda = lambda ex: ex[1] # Original is (<domain>, <episode>) so we strip down to episode only\n",
    "\n",
    "train_processed_source = Lazy_Iterable_Wrapper(train_original_source, transform_lambda)\n",
    "val_processed_source   = Lazy_Iterable_Wrapper(val_original_source, transform_lambda)\n",
    "test_processed_source  = Lazy_Iterable_Wrapper(test_original_source, transform_lambda)\n",
    "\n",
    "train_processed_target = Lazy_Iterable_Wrapper(train_original_target, transform_lambda)\n",
    "val_processed_target   = Lazy_Iterable_Wrapper(val_original_target, transform_lambda)\n",
    "test_processed_target  = Lazy_Iterable_Wrapper(test_original_target, transform_lambda)\n",
    "\n",
    "datasets = EasyDict({\n",
    "    \"source\": {\n",
    "        \"original\": {\"train\":train_original_source, \"val\":val_original_source, \"test\":test_original_source},\n",
    "        \"processed\": {\"train\":train_processed_source, \"val\":val_processed_source, \"test\":test_processed_source}\n",
    "    },\n",
    "    \"target\": {\n",
    "        \"original\": {\"train\":train_original_target, \"val\":val_original_target, \"test\":test_original_target},\n",
    "        \"processed\": {\"train\":train_processed_target, \"val\":val_processed_target, \"test\":test_processed_target}\n",
    "    },\n",
    "})"
   ]
  },
  {
   "cell_type": "code",
   "execution_count": 11,
   "id": "296189d9",
   "metadata": {
    "execution": {
     "iopub.execute_input": "2022-04-01T15:34:45.413593Z",
     "iopub.status.busy": "2022-04-01T15:34:45.413329Z",
     "iopub.status.idle": "2022-04-01T15:34:47.064123Z",
     "shell.execute_reply": "2022-04-01T15:34:47.064510Z"
    },
    "papermill": {
     "duration": 1.664832,
     "end_time": "2022-04-01T15:34:47.064619",
     "exception": false,
     "start_time": "2022-04-01T15:34:45.399787",
     "status": "completed"
    },
    "tags": []
   },
   "outputs": [
    {
     "name": "stdout",
     "output_type": "stream",
     "text": [
      "Visually inspect these to see if they line up with expected values given the transforms\n",
      "x_transforms_source ['unit_mag']\n",
      "x_transforms_target ['unit_mag']\n",
      "Average magnitude, source: 1.0\n",
      "Average power, source: 1.2461352\n"
     ]
    },
    {
     "name": "stdout",
     "output_type": "stream",
     "text": [
      "Average magnitude, target: 1.0\n",
      "Average power, target: 1.2650003\n"
     ]
    }
   ],
   "source": [
    "# Some quick unit tests on the data\n",
    "from steves_utils.transforms import get_average_power, get_average_magnitude\n",
    "\n",
    "q_x, q_y, s_x, s_y, truth = next(iter(train_processed_source))\n",
    "\n",
    "assert q_x.dtype == eval(p.torch_default_dtype)\n",
    "assert s_x.dtype == eval(p.torch_default_dtype)\n",
    "\n",
    "print(\"Visually inspect these to see if they line up with expected values given the transforms\")\n",
    "print('x_transforms_source', p.x_transforms_source)\n",
    "print('x_transforms_target', p.x_transforms_target)\n",
    "print(\"Average magnitude, source:\", get_average_magnitude(q_x[0].numpy()))\n",
    "print(\"Average power, source:\", get_average_power(q_x[0].numpy()))\n",
    "\n",
    "q_x, q_y, s_x, s_y, truth = next(iter(train_processed_target))\n",
    "print(\"Average magnitude, target:\", get_average_magnitude(q_x[0].numpy()))\n",
    "print(\"Average power, target:\", get_average_power(q_x[0].numpy()))\n"
   ]
  },
  {
   "cell_type": "code",
   "execution_count": 12,
   "id": "bbdacba1",
   "metadata": {
    "execution": {
     "iopub.execute_input": "2022-04-01T15:34:47.093178Z",
     "iopub.status.busy": "2022-04-01T15:34:47.092913Z",
     "iopub.status.idle": "2022-04-01T15:34:47.152769Z",
     "shell.execute_reply": "2022-04-01T15:34:47.152536Z"
    },
    "papermill": {
     "duration": 0.073898,
     "end_time": "2022-04-01T15:34:47.152823",
     "exception": false,
     "start_time": "2022-04-01T15:34:47.078925",
     "status": "completed"
    },
    "tags": []
   },
   "outputs": [
    {
     "name": "stdout",
     "output_type": "stream",
     "text": [
      "(2, 256)\n"
     ]
    }
   ],
   "source": [
    "###################################\n",
    "# Build the model\n",
    "###################################\n",
    "model = Steves_Prototypical_Network(x_net, device=p.device, x_shape=(2,256))\n",
    "optimizer = Adam(params=model.parameters(), lr=p.lr)"
   ]
  },
  {
   "cell_type": "code",
   "execution_count": 13,
   "id": "22b39ac5",
   "metadata": {
    "execution": {
     "iopub.execute_input": "2022-04-01T15:34:47.176317Z",
     "iopub.status.busy": "2022-04-01T15:34:47.176066Z",
     "iopub.status.idle": "2022-04-01T15:59:41.490707Z",
     "shell.execute_reply": "2022-04-01T15:59:41.490475Z"
    },
    "papermill": {
     "duration": 1494.327285,
     "end_time": "2022-04-01T15:59:41.490766",
     "exception": false,
     "start_time": "2022-04-01T15:34:47.163481",
     "status": "completed"
    },
    "tags": []
   },
   "outputs": [
    {
     "name": "stdout",
     "output_type": "stream",
     "text": [
      "epoch: 1, [batch: 1 / 2520], examples_per_second: 128.3243, train_label_loss: 2.7755, \n"
     ]
    },
    {
     "name": "stdout",
     "output_type": "stream",
     "text": [
      "epoch: 1, [batch: 252 / 2520], examples_per_second: 3185.7953, train_label_loss: 2.8058, \n"
     ]
    },
    {
     "name": "stdout",
     "output_type": "stream",
     "text": [
      "epoch: 1, [batch: 504 / 2520], examples_per_second: 3185.4389, train_label_loss: 2.3470, \n"
     ]
    },
    {
     "name": "stdout",
     "output_type": "stream",
     "text": [
      "epoch: 1, [batch: 756 / 2520], examples_per_second: 3218.4284, train_label_loss: 1.7428, \n"
     ]
    },
    {
     "name": "stdout",
     "output_type": "stream",
     "text": [
      "epoch: 1, [batch: 1008 / 2520], examples_per_second: 3178.7821, train_label_loss: 1.5853, \n"
     ]
    },
    {
     "name": "stdout",
     "output_type": "stream",
     "text": [
      "epoch: 1, [batch: 1260 / 2520], examples_per_second: 3172.0421, train_label_loss: 1.2542, \n"
     ]
    },
    {
     "name": "stdout",
     "output_type": "stream",
     "text": [
      "epoch: 1, [batch: 1512 / 2520], examples_per_second: 3167.0024, train_label_loss: 1.2742, \n"
     ]
    },
    {
     "name": "stdout",
     "output_type": "stream",
     "text": [
      "epoch: 1, [batch: 1764 / 2520], examples_per_second: 3171.6411, train_label_loss: 1.1782, \n"
     ]
    },
    {
     "name": "stdout",
     "output_type": "stream",
     "text": [
      "epoch: 1, [batch: 2016 / 2520], examples_per_second: 3183.2252, train_label_loss: 1.3107, \n"
     ]
    },
    {
     "name": "stdout",
     "output_type": "stream",
     "text": [
      "epoch: 1, [batch: 2268 / 2520], examples_per_second: 3182.5450, train_label_loss: 1.4738, \n"
     ]
    },
    {
     "name": "stdout",
     "output_type": "stream",
     "text": [
      "=============================================================\n",
      "epoch: 1, source_val_acc_label: 0.4051, target_val_acc_label: 0.2818, source_val_label_loss: 1.5056, target_val_label_loss: 1.9573, \n",
      "=============================================================\n"
     ]
    },
    {
     "name": "stdout",
     "output_type": "stream",
     "text": [
      "New best\n"
     ]
    },
    {
     "name": "stdout",
     "output_type": "stream",
     "text": [
      "epoch: 2, [batch: 1 / 2520], examples_per_second: 11.1592, train_label_loss: 1.2512, \n"
     ]
    },
    {
     "name": "stdout",
     "output_type": "stream",
     "text": [
      "epoch: 2, [batch: 252 / 2520], examples_per_second: 3200.3612, train_label_loss: 1.1579, \n"
     ]
    },
    {
     "name": "stdout",
     "output_type": "stream",
     "text": [
      "epoch: 2, [batch: 504 / 2520], examples_per_second: 3211.5369, train_label_loss: 1.5956, \n"
     ]
    },
    {
     "name": "stdout",
     "output_type": "stream",
     "text": [
      "epoch: 2, [batch: 756 / 2520], examples_per_second: 3191.1047, train_label_loss: 1.6061, \n"
     ]
    },
    {
     "name": "stdout",
     "output_type": "stream",
     "text": [
      "epoch: 2, [batch: 1008 / 2520], examples_per_second: 3175.8446, train_label_loss: 1.5336, \n"
     ]
    },
    {
     "name": "stdout",
     "output_type": "stream",
     "text": [
      "epoch: 2, [batch: 1260 / 2520], examples_per_second: 3191.0887, train_label_loss: 1.4565, \n"
     ]
    },
    {
     "name": "stdout",
     "output_type": "stream",
     "text": [
      "epoch: 2, [batch: 1512 / 2520], examples_per_second: 3184.9866, train_label_loss: 1.2212, \n"
     ]
    },
    {
     "name": "stdout",
     "output_type": "stream",
     "text": [
      "epoch: 2, [batch: 1764 / 2520], examples_per_second: 3185.3975, train_label_loss: 1.3375, \n"
     ]
    },
    {
     "name": "stdout",
     "output_type": "stream",
     "text": [
      "epoch: 2, [batch: 2016 / 2520], examples_per_second: 3176.3226, train_label_loss: 1.7110, \n"
     ]
    },
    {
     "name": "stdout",
     "output_type": "stream",
     "text": [
      "epoch: 2, [batch: 2268 / 2520], examples_per_second: 3189.1487, train_label_loss: 1.0432, \n"
     ]
    },
    {
     "name": "stdout",
     "output_type": "stream",
     "text": [
      "=============================================================\n",
      "epoch: 2, source_val_acc_label: 0.4289, target_val_acc_label: 0.3085, source_val_label_loss: 1.3895, target_val_label_loss: 1.8651, \n",
      "=============================================================\n"
     ]
    },
    {
     "name": "stdout",
     "output_type": "stream",
     "text": [
      "New best\n"
     ]
    },
    {
     "name": "stdout",
     "output_type": "stream",
     "text": [
      "epoch: 3, [batch: 1 / 2520], examples_per_second: 11.1342, train_label_loss: 1.2415, \n"
     ]
    },
    {
     "name": "stdout",
     "output_type": "stream",
     "text": [
      "epoch: 3, [batch: 252 / 2520], examples_per_second: 3201.0133, train_label_loss: 1.2093, \n"
     ]
    },
    {
     "name": "stdout",
     "output_type": "stream",
     "text": [
      "epoch: 3, [batch: 504 / 2520], examples_per_second: 3194.5796, train_label_loss: 1.2996, \n"
     ]
    },
    {
     "name": "stdout",
     "output_type": "stream",
     "text": [
      "epoch: 3, [batch: 756 / 2520], examples_per_second: 3196.7235, train_label_loss: 1.4891, \n"
     ]
    },
    {
     "name": "stdout",
     "output_type": "stream",
     "text": [
      "epoch: 3, [batch: 1008 / 2520], examples_per_second: 3190.9237, train_label_loss: 1.2090, \n"
     ]
    },
    {
     "name": "stdout",
     "output_type": "stream",
     "text": [
      "epoch: 3, [batch: 1260 / 2520], examples_per_second: 3207.2621, train_label_loss: 1.4036, \n"
     ]
    },
    {
     "name": "stdout",
     "output_type": "stream",
     "text": [
      "epoch: 3, [batch: 1512 / 2520], examples_per_second: 3220.8369, train_label_loss: 0.7568, \n"
     ]
    },
    {
     "name": "stdout",
     "output_type": "stream",
     "text": [
      "epoch: 3, [batch: 1764 / 2520], examples_per_second: 3198.4420, train_label_loss: 1.1257, \n"
     ]
    },
    {
     "name": "stdout",
     "output_type": "stream",
     "text": [
      "epoch: 3, [batch: 2016 / 2520], examples_per_second: 3204.1333, train_label_loss: 1.1952, \n"
     ]
    },
    {
     "name": "stdout",
     "output_type": "stream",
     "text": [
      "epoch: 3, [batch: 2268 / 2520], examples_per_second: 3207.6104, train_label_loss: 0.9668, \n"
     ]
    },
    {
     "name": "stdout",
     "output_type": "stream",
     "text": [
      "=============================================================\n",
      "epoch: 3, source_val_acc_label: 0.5212, target_val_acc_label: 0.4117, source_val_label_loss: 1.2417, target_val_label_loss: 1.6614, \n",
      "=============================================================\n"
     ]
    },
    {
     "name": "stdout",
     "output_type": "stream",
     "text": [
      "New best\n"
     ]
    },
    {
     "name": "stdout",
     "output_type": "stream",
     "text": [
      "epoch: 4, [batch: 1 / 2520], examples_per_second: 11.1073, train_label_loss: 0.7027, \n"
     ]
    },
    {
     "name": "stdout",
     "output_type": "stream",
     "text": [
      "epoch: 4, [batch: 252 / 2520], examples_per_second: 3173.6367, train_label_loss: 1.2066, \n"
     ]
    },
    {
     "name": "stdout",
     "output_type": "stream",
     "text": [
      "epoch: 4, [batch: 504 / 2520], examples_per_second: 3193.7657, train_label_loss: 1.3223, \n"
     ]
    },
    {
     "name": "stdout",
     "output_type": "stream",
     "text": [
      "epoch: 4, [batch: 756 / 2520], examples_per_second: 3175.2369, train_label_loss: 1.0447, \n"
     ]
    },
    {
     "name": "stdout",
     "output_type": "stream",
     "text": [
      "epoch: 4, [batch: 1008 / 2520], examples_per_second: 3170.2436, train_label_loss: 0.7287, \n"
     ]
    },
    {
     "name": "stdout",
     "output_type": "stream",
     "text": [
      "epoch: 4, [batch: 1260 / 2520], examples_per_second: 3209.3311, train_label_loss: 1.3948, \n"
     ]
    },
    {
     "name": "stdout",
     "output_type": "stream",
     "text": [
      "epoch: 4, [batch: 1512 / 2520], examples_per_second: 3216.6450, train_label_loss: 1.3718, \n"
     ]
    },
    {
     "name": "stdout",
     "output_type": "stream",
     "text": [
      "epoch: 4, [batch: 1764 / 2520], examples_per_second: 3184.5751, train_label_loss: 0.7282, \n"
     ]
    },
    {
     "name": "stdout",
     "output_type": "stream",
     "text": [
      "epoch: 4, [batch: 2016 / 2520], examples_per_second: 3195.6622, train_label_loss: 0.9338, \n"
     ]
    },
    {
     "name": "stdout",
     "output_type": "stream",
     "text": [
      "epoch: 4, [batch: 2268 / 2520], examples_per_second: 3182.6600, train_label_loss: 1.1204, \n"
     ]
    },
    {
     "name": "stdout",
     "output_type": "stream",
     "text": [
      "=============================================================\n",
      "epoch: 4, source_val_acc_label: 0.5682, target_val_acc_label: 0.4639, source_val_label_loss: 1.1494, target_val_label_loss: 1.5532, \n",
      "=============================================================\n"
     ]
    },
    {
     "name": "stdout",
     "output_type": "stream",
     "text": [
      "New best\n"
     ]
    },
    {
     "name": "stdout",
     "output_type": "stream",
     "text": [
      "epoch: 5, [batch: 1 / 2520], examples_per_second: 11.1179, train_label_loss: 0.8511, \n"
     ]
    },
    {
     "name": "stdout",
     "output_type": "stream",
     "text": [
      "epoch: 5, [batch: 252 / 2520], examples_per_second: 3167.1640, train_label_loss: 0.5771, \n"
     ]
    },
    {
     "name": "stdout",
     "output_type": "stream",
     "text": [
      "epoch: 5, [batch: 504 / 2520], examples_per_second: 3201.1984, train_label_loss: 0.6250, \n"
     ]
    },
    {
     "name": "stdout",
     "output_type": "stream",
     "text": [
      "epoch: 5, [batch: 756 / 2520], examples_per_second: 3202.3515, train_label_loss: 1.0525, \n"
     ]
    },
    {
     "name": "stdout",
     "output_type": "stream",
     "text": [
      "epoch: 5, [batch: 1008 / 2520], examples_per_second: 3192.0736, train_label_loss: 0.3411, \n"
     ]
    },
    {
     "name": "stdout",
     "output_type": "stream",
     "text": [
      "epoch: 5, [batch: 1260 / 2520], examples_per_second: 3207.0299, train_label_loss: 0.9808, \n"
     ]
    },
    {
     "name": "stdout",
     "output_type": "stream",
     "text": [
      "epoch: 5, [batch: 1512 / 2520], examples_per_second: 3209.4020, train_label_loss: 0.9313, \n"
     ]
    },
    {
     "name": "stdout",
     "output_type": "stream",
     "text": [
      "epoch: 5, [batch: 1764 / 2520], examples_per_second: 3177.8288, train_label_loss: 0.5762, \n"
     ]
    },
    {
     "name": "stdout",
     "output_type": "stream",
     "text": [
      "epoch: 5, [batch: 2016 / 2520], examples_per_second: 3178.8321, train_label_loss: 0.5393, \n"
     ]
    },
    {
     "name": "stdout",
     "output_type": "stream",
     "text": [
      "epoch: 5, [batch: 2268 / 2520], examples_per_second: 3175.3106, train_label_loss: 0.7108, \n"
     ]
    },
    {
     "name": "stdout",
     "output_type": "stream",
     "text": [
      "=============================================================\n",
      "epoch: 5, source_val_acc_label: 0.5860, target_val_acc_label: 0.4844, source_val_label_loss: 1.1554, target_val_label_loss: 1.5638, \n",
      "=============================================================\n"
     ]
    },
    {
     "name": "stdout",
     "output_type": "stream",
     "text": [
      "New best\n"
     ]
    },
    {
     "name": "stdout",
     "output_type": "stream",
     "text": [
      "epoch: 6, [batch: 1 / 2520], examples_per_second: 11.1742, train_label_loss: 0.6588, \n"
     ]
    },
    {
     "name": "stdout",
     "output_type": "stream",
     "text": [
      "epoch: 6, [batch: 252 / 2520], examples_per_second: 3190.7474, train_label_loss: 0.7667, \n"
     ]
    },
    {
     "name": "stdout",
     "output_type": "stream",
     "text": [
      "epoch: 6, [batch: 504 / 2520], examples_per_second: 3195.3128, train_label_loss: 0.6239, \n"
     ]
    },
    {
     "name": "stdout",
     "output_type": "stream",
     "text": [
      "epoch: 6, [batch: 756 / 2520], examples_per_second: 3193.8711, train_label_loss: 0.9267, \n"
     ]
    },
    {
     "name": "stdout",
     "output_type": "stream",
     "text": [
      "epoch: 6, [batch: 1008 / 2520], examples_per_second: 3190.4296, train_label_loss: 0.6144, \n"
     ]
    },
    {
     "name": "stdout",
     "output_type": "stream",
     "text": [
      "epoch: 6, [batch: 1260 / 2520], examples_per_second: 3204.6709, train_label_loss: 0.7872, \n"
     ]
    },
    {
     "name": "stdout",
     "output_type": "stream",
     "text": [
      "epoch: 6, [batch: 1512 / 2520], examples_per_second: 3197.4930, train_label_loss: 0.7520, \n"
     ]
    },
    {
     "name": "stdout",
     "output_type": "stream",
     "text": [
      "epoch: 6, [batch: 1764 / 2520], examples_per_second: 3194.0733, train_label_loss: 0.3593, \n"
     ]
    },
    {
     "name": "stdout",
     "output_type": "stream",
     "text": [
      "epoch: 6, [batch: 2016 / 2520], examples_per_second: 3199.5859, train_label_loss: 0.5441, \n"
     ]
    },
    {
     "name": "stdout",
     "output_type": "stream",
     "text": [
      "epoch: 6, [batch: 2268 / 2520], examples_per_second: 3193.9717, train_label_loss: 0.6769, \n"
     ]
    },
    {
     "name": "stdout",
     "output_type": "stream",
     "text": [
      "=============================================================\n",
      "epoch: 6, source_val_acc_label: 0.6003, target_val_acc_label: 0.4895, source_val_label_loss: 1.1715, target_val_label_loss: 1.6153, \n",
      "=============================================================\n"
     ]
    },
    {
     "name": "stdout",
     "output_type": "stream",
     "text": [
      "New best\n"
     ]
    },
    {
     "name": "stdout",
     "output_type": "stream",
     "text": [
      "epoch: 7, [batch: 1 / 2520], examples_per_second: 11.1059, train_label_loss: 0.4346, \n"
     ]
    },
    {
     "name": "stdout",
     "output_type": "stream",
     "text": [
      "epoch: 7, [batch: 252 / 2520], examples_per_second: 3170.1476, train_label_loss: 0.6032, \n"
     ]
    },
    {
     "name": "stdout",
     "output_type": "stream",
     "text": [
      "epoch: 7, [batch: 504 / 2520], examples_per_second: 3181.4674, train_label_loss: 0.2934, \n"
     ]
    },
    {
     "name": "stdout",
     "output_type": "stream",
     "text": [
      "epoch: 7, [batch: 756 / 2520], examples_per_second: 3194.6886, train_label_loss: 0.3154, \n"
     ]
    },
    {
     "name": "stdout",
     "output_type": "stream",
     "text": [
      "epoch: 7, [batch: 1008 / 2520], examples_per_second: 3186.2485, train_label_loss: 0.3385, \n"
     ]
    },
    {
     "name": "stdout",
     "output_type": "stream",
     "text": [
      "epoch: 7, [batch: 1260 / 2520], examples_per_second: 3211.7238, train_label_loss: 0.2327, \n"
     ]
    },
    {
     "name": "stdout",
     "output_type": "stream",
     "text": [
      "epoch: 7, [batch: 1512 / 2520], examples_per_second: 3194.6670, train_label_loss: 0.4122, \n"
     ]
    },
    {
     "name": "stdout",
     "output_type": "stream",
     "text": [
      "epoch: 7, [batch: 1764 / 2520], examples_per_second: 3186.0752, train_label_loss: 0.3956, \n"
     ]
    },
    {
     "name": "stdout",
     "output_type": "stream",
     "text": [
      "epoch: 7, [batch: 2016 / 2520], examples_per_second: 3198.2624, train_label_loss: 0.3082, \n"
     ]
    },
    {
     "name": "stdout",
     "output_type": "stream",
     "text": [
      "epoch: 7, [batch: 2268 / 2520], examples_per_second: 3187.4099, train_label_loss: 0.4810, \n"
     ]
    },
    {
     "name": "stdout",
     "output_type": "stream",
     "text": [
      "=============================================================\n",
      "epoch: 7, source_val_acc_label: 0.5974, target_val_acc_label: 0.4951, source_val_label_loss: 1.2894, target_val_label_loss: 1.7301, \n",
      "=============================================================\n"
     ]
    },
    {
     "name": "stdout",
     "output_type": "stream",
     "text": [
      "New best\n"
     ]
    },
    {
     "name": "stdout",
     "output_type": "stream",
     "text": [
      "epoch: 8, [batch: 1 / 2520], examples_per_second: 11.1577, train_label_loss: 0.2792, \n"
     ]
    },
    {
     "name": "stdout",
     "output_type": "stream",
     "text": [
      "epoch: 8, [batch: 252 / 2520], examples_per_second: 3193.2346, train_label_loss: 0.4321, \n"
     ]
    },
    {
     "name": "stdout",
     "output_type": "stream",
     "text": [
      "epoch: 8, [batch: 504 / 2520], examples_per_second: 3204.0915, train_label_loss: 0.3314, \n"
     ]
    },
    {
     "name": "stdout",
     "output_type": "stream",
     "text": [
      "epoch: 8, [batch: 756 / 2520], examples_per_second: 3187.2077, train_label_loss: 0.3935, \n"
     ]
    },
    {
     "name": "stdout",
     "output_type": "stream",
     "text": [
      "epoch: 8, [batch: 1008 / 2520], examples_per_second: 3178.7330, train_label_loss: 0.2731, \n"
     ]
    },
    {
     "name": "stdout",
     "output_type": "stream",
     "text": [
      "epoch: 8, [batch: 1260 / 2520], examples_per_second: 3200.2134, train_label_loss: 0.2416, \n"
     ]
    },
    {
     "name": "stdout",
     "output_type": "stream",
     "text": [
      "epoch: 8, [batch: 1512 / 2520], examples_per_second: 3211.8163, train_label_loss: 0.3069, \n"
     ]
    },
    {
     "name": "stdout",
     "output_type": "stream",
     "text": [
      "epoch: 8, [batch: 1764 / 2520], examples_per_second: 3210.5568, train_label_loss: 0.3713, \n"
     ]
    },
    {
     "name": "stdout",
     "output_type": "stream",
     "text": [
      "epoch: 8, [batch: 2016 / 2520], examples_per_second: 3211.8524, train_label_loss: 0.2240, \n"
     ]
    },
    {
     "name": "stdout",
     "output_type": "stream",
     "text": [
      "epoch: 8, [batch: 2268 / 2520], examples_per_second: 3217.8064, train_label_loss: 0.5927, \n"
     ]
    },
    {
     "name": "stdout",
     "output_type": "stream",
     "text": [
      "=============================================================\n",
      "epoch: 8, source_val_acc_label: 0.5975, target_val_acc_label: 0.4894, source_val_label_loss: 1.3780, target_val_label_loss: 1.8581, \n",
      "=============================================================\n"
     ]
    },
    {
     "name": "stdout",
     "output_type": "stream",
     "text": [
      "epoch: 9, [batch: 1 / 2520], examples_per_second: 11.1030, train_label_loss: 0.4668, \n"
     ]
    },
    {
     "name": "stdout",
     "output_type": "stream",
     "text": [
      "epoch: 9, [batch: 252 / 2520], examples_per_second: 3170.0216, train_label_loss: 0.2932, \n"
     ]
    },
    {
     "name": "stdout",
     "output_type": "stream",
     "text": [
      "epoch: 9, [batch: 504 / 2520], examples_per_second: 3174.2855, train_label_loss: 0.2903, \n"
     ]
    },
    {
     "name": "stdout",
     "output_type": "stream",
     "text": [
      "epoch: 9, [batch: 756 / 2520], examples_per_second: 3161.4549, train_label_loss: 0.3012, \n"
     ]
    },
    {
     "name": "stdout",
     "output_type": "stream",
     "text": [
      "epoch: 9, [batch: 1008 / 2520], examples_per_second: 3172.3886, train_label_loss: 0.2927, \n"
     ]
    },
    {
     "name": "stdout",
     "output_type": "stream",
     "text": [
      "epoch: 9, [batch: 1260 / 2520], examples_per_second: 3175.2668, train_label_loss: 0.1673, \n"
     ]
    },
    {
     "name": "stdout",
     "output_type": "stream",
     "text": [
      "epoch: 9, [batch: 1512 / 2520], examples_per_second: 3202.3176, train_label_loss: 0.2894, \n"
     ]
    },
    {
     "name": "stdout",
     "output_type": "stream",
     "text": [
      "epoch: 9, [batch: 1764 / 2520], examples_per_second: 3182.3124, train_label_loss: 0.1755, \n"
     ]
    },
    {
     "name": "stdout",
     "output_type": "stream",
     "text": [
      "epoch: 9, [batch: 2016 / 2520], examples_per_second: 3198.7609, train_label_loss: 0.3536, \n"
     ]
    },
    {
     "name": "stdout",
     "output_type": "stream",
     "text": [
      "epoch: 9, [batch: 2268 / 2520], examples_per_second: 3186.4240, train_label_loss: 0.4046, \n"
     ]
    },
    {
     "name": "stdout",
     "output_type": "stream",
     "text": [
      "=============================================================\n",
      "epoch: 9, source_val_acc_label: 0.5996, target_val_acc_label: 0.4939, source_val_label_loss: 1.4301, target_val_label_loss: 1.9520, \n",
      "=============================================================\n"
     ]
    },
    {
     "name": "stdout",
     "output_type": "stream",
     "text": [
      "epoch: 10, [batch: 1 / 2520], examples_per_second: 11.2376, train_label_loss: 0.2718, \n"
     ]
    },
    {
     "name": "stdout",
     "output_type": "stream",
     "text": [
      "epoch: 10, [batch: 252 / 2520], examples_per_second: 3175.3805, train_label_loss: 0.5821, \n"
     ]
    },
    {
     "name": "stdout",
     "output_type": "stream",
     "text": [
      "epoch: 10, [batch: 504 / 2520], examples_per_second: 3203.9412, train_label_loss: 0.2106, \n"
     ]
    },
    {
     "name": "stdout",
     "output_type": "stream",
     "text": [
      "epoch: 10, [batch: 756 / 2520], examples_per_second: 3213.5402, train_label_loss: 0.2738, \n"
     ]
    },
    {
     "name": "stdout",
     "output_type": "stream",
     "text": [
      "epoch: 10, [batch: 1008 / 2520], examples_per_second: 3205.6223, train_label_loss: 0.2679, \n"
     ]
    },
    {
     "name": "stdout",
     "output_type": "stream",
     "text": [
      "epoch: 10, [batch: 1260 / 2520], examples_per_second: 3208.5710, train_label_loss: 0.2784, \n"
     ]
    },
    {
     "name": "stdout",
     "output_type": "stream",
     "text": [
      "epoch: 10, [batch: 1512 / 2520], examples_per_second: 3215.3051, train_label_loss: 0.3523, \n"
     ]
    },
    {
     "name": "stdout",
     "output_type": "stream",
     "text": [
      "epoch: 10, [batch: 1764 / 2520], examples_per_second: 3192.7017, train_label_loss: 0.2820, \n"
     ]
    },
    {
     "name": "stdout",
     "output_type": "stream",
     "text": [
      "epoch: 10, [batch: 2016 / 2520], examples_per_second: 3193.6585, train_label_loss: 0.4968, \n"
     ]
    },
    {
     "name": "stdout",
     "output_type": "stream",
     "text": [
      "epoch: 10, [batch: 2268 / 2520], examples_per_second: 3189.5769, train_label_loss: 0.0663, \n"
     ]
    },
    {
     "name": "stdout",
     "output_type": "stream",
     "text": [
      "=============================================================\n",
      "epoch: 10, source_val_acc_label: 0.5989, target_val_acc_label: 0.4936, source_val_label_loss: 1.5026, target_val_label_loss: 2.0349, \n",
      "=============================================================\n"
     ]
    },
    {
     "name": "stdout",
     "output_type": "stream",
     "text": [
      "epoch: 11, [batch: 1 / 2520], examples_per_second: 11.2110, train_label_loss: 0.1216, \n"
     ]
    },
    {
     "name": "stdout",
     "output_type": "stream",
     "text": [
      "epoch: 11, [batch: 252 / 2520], examples_per_second: 3178.2883, train_label_loss: 0.2763, \n"
     ]
    },
    {
     "name": "stdout",
     "output_type": "stream",
     "text": [
      "epoch: 11, [batch: 504 / 2520], examples_per_second: 3197.9325, train_label_loss: 0.2215, \n"
     ]
    },
    {
     "name": "stdout",
     "output_type": "stream",
     "text": [
      "epoch: 11, [batch: 756 / 2520], examples_per_second: 3184.6967, train_label_loss: 0.1990, \n"
     ]
    },
    {
     "name": "stdout",
     "output_type": "stream",
     "text": [
      "epoch: 11, [batch: 1008 / 2520], examples_per_second: 3172.8609, train_label_loss: 0.2159, \n"
     ]
    },
    {
     "name": "stdout",
     "output_type": "stream",
     "text": [
      "epoch: 11, [batch: 1260 / 2520], examples_per_second: 3200.7110, train_label_loss: 0.0427, \n"
     ]
    },
    {
     "name": "stdout",
     "output_type": "stream",
     "text": [
      "epoch: 11, [batch: 1512 / 2520], examples_per_second: 3183.1575, train_label_loss: 0.1775, \n"
     ]
    },
    {
     "name": "stdout",
     "output_type": "stream",
     "text": [
      "epoch: 11, [batch: 1764 / 2520], examples_per_second: 3186.1713, train_label_loss: 0.1229, \n"
     ]
    },
    {
     "name": "stdout",
     "output_type": "stream",
     "text": [
      "epoch: 11, [batch: 2016 / 2520], examples_per_second: 3218.7168, train_label_loss: 0.1325, \n"
     ]
    },
    {
     "name": "stdout",
     "output_type": "stream",
     "text": [
      "epoch: 11, [batch: 2268 / 2520], examples_per_second: 3218.1304, train_label_loss: 0.0519, \n"
     ]
    },
    {
     "name": "stdout",
     "output_type": "stream",
     "text": [
      "=============================================================\n",
      "epoch: 11, source_val_acc_label: 0.6026, target_val_acc_label: 0.4977, source_val_label_loss: 1.6069, target_val_label_loss: 2.1800, \n",
      "=============================================================\n"
     ]
    },
    {
     "name": "stdout",
     "output_type": "stream",
     "text": [
      "New best\n"
     ]
    },
    {
     "name": "stdout",
     "output_type": "stream",
     "text": [
      "epoch: 12, [batch: 1 / 2520], examples_per_second: 11.1627, train_label_loss: 0.1073, \n"
     ]
    },
    {
     "name": "stdout",
     "output_type": "stream",
     "text": [
      "epoch: 12, [batch: 252 / 2520], examples_per_second: 3180.7437, train_label_loss: 0.2542, \n"
     ]
    },
    {
     "name": "stdout",
     "output_type": "stream",
     "text": [
      "epoch: 12, [batch: 504 / 2520], examples_per_second: 3187.0428, train_label_loss: 0.1005, \n"
     ]
    },
    {
     "name": "stdout",
     "output_type": "stream",
     "text": [
      "epoch: 12, [batch: 756 / 2520], examples_per_second: 3212.7538, train_label_loss: 0.1404, \n"
     ]
    },
    {
     "name": "stdout",
     "output_type": "stream",
     "text": [
      "epoch: 12, [batch: 1008 / 2520], examples_per_second: 3190.7800, train_label_loss: 0.3279, \n"
     ]
    },
    {
     "name": "stdout",
     "output_type": "stream",
     "text": [
      "epoch: 12, [batch: 1260 / 2520], examples_per_second: 3199.0523, train_label_loss: 0.1392, \n"
     ]
    },
    {
     "name": "stdout",
     "output_type": "stream",
     "text": [
      "epoch: 12, [batch: 1512 / 2520], examples_per_second: 3216.6106, train_label_loss: 0.6374, \n"
     ]
    },
    {
     "name": "stdout",
     "output_type": "stream",
     "text": [
      "epoch: 12, [batch: 1764 / 2520], examples_per_second: 3212.9991, train_label_loss: 0.1691, \n"
     ]
    },
    {
     "name": "stdout",
     "output_type": "stream",
     "text": [
      "epoch: 12, [batch: 2016 / 2520], examples_per_second: 3189.3490, train_label_loss: 0.2212, \n"
     ]
    },
    {
     "name": "stdout",
     "output_type": "stream",
     "text": [
      "epoch: 12, [batch: 2268 / 2520], examples_per_second: 3205.0146, train_label_loss: 0.2092, \n"
     ]
    },
    {
     "name": "stdout",
     "output_type": "stream",
     "text": [
      "=============================================================\n",
      "epoch: 12, source_val_acc_label: 0.6007, target_val_acc_label: 0.4941, source_val_label_loss: 1.6383, target_val_label_loss: 2.1984, \n",
      "=============================================================\n"
     ]
    },
    {
     "name": "stdout",
     "output_type": "stream",
     "text": [
      "epoch: 13, [batch: 1 / 2520], examples_per_second: 11.2152, train_label_loss: 0.2721, \n"
     ]
    },
    {
     "name": "stdout",
     "output_type": "stream",
     "text": [
      "epoch: 13, [batch: 252 / 2520], examples_per_second: 3181.9412, train_label_loss: 0.1520, \n"
     ]
    },
    {
     "name": "stdout",
     "output_type": "stream",
     "text": [
      "epoch: 13, [batch: 504 / 2520], examples_per_second: 3193.4688, train_label_loss: 0.2645, \n"
     ]
    },
    {
     "name": "stdout",
     "output_type": "stream",
     "text": [
      "epoch: 13, [batch: 756 / 2520], examples_per_second: 3200.2240, train_label_loss: 0.3043, \n"
     ]
    },
    {
     "name": "stdout",
     "output_type": "stream",
     "text": [
      "epoch: 13, [batch: 1008 / 2520], examples_per_second: 3188.5669, train_label_loss: 0.0400, \n"
     ]
    },
    {
     "name": "stdout",
     "output_type": "stream",
     "text": [
      "epoch: 13, [batch: 1260 / 2520], examples_per_second: 3212.1591, train_label_loss: 0.0913, \n"
     ]
    },
    {
     "name": "stdout",
     "output_type": "stream",
     "text": [
      "epoch: 13, [batch: 1512 / 2520], examples_per_second: 3186.0811, train_label_loss: 0.1302, \n"
     ]
    },
    {
     "name": "stdout",
     "output_type": "stream",
     "text": [
      "epoch: 13, [batch: 1764 / 2520], examples_per_second: 3169.0923, train_label_loss: 0.0568, \n"
     ]
    },
    {
     "name": "stdout",
     "output_type": "stream",
     "text": [
      "epoch: 13, [batch: 2016 / 2520], examples_per_second: 3187.1846, train_label_loss: 0.2962, \n"
     ]
    },
    {
     "name": "stdout",
     "output_type": "stream",
     "text": [
      "epoch: 13, [batch: 2268 / 2520], examples_per_second: 3187.1290, train_label_loss: 0.0618, \n"
     ]
    },
    {
     "name": "stdout",
     "output_type": "stream",
     "text": [
      "=============================================================\n",
      "epoch: 13, source_val_acc_label: 0.5965, target_val_acc_label: 0.4944, source_val_label_loss: 1.7127, target_val_label_loss: 2.3163, \n",
      "=============================================================\n"
     ]
    },
    {
     "name": "stdout",
     "output_type": "stream",
     "text": [
      "epoch: 14, [batch: 1 / 2520], examples_per_second: 11.2361, train_label_loss: 0.3520, \n"
     ]
    },
    {
     "name": "stdout",
     "output_type": "stream",
     "text": [
      "epoch: 14, [batch: 252 / 2520], examples_per_second: 3207.1369, train_label_loss: 0.1682, \n"
     ]
    },
    {
     "name": "stdout",
     "output_type": "stream",
     "text": [
      "epoch: 14, [batch: 504 / 2520], examples_per_second: 3193.3477, train_label_loss: 0.0240, \n"
     ]
    },
    {
     "name": "stdout",
     "output_type": "stream",
     "text": [
      "epoch: 14, [batch: 756 / 2520], examples_per_second: 3188.2767, train_label_loss: 0.3121, \n"
     ]
    },
    {
     "name": "stdout",
     "output_type": "stream",
     "text": [
      "epoch: 14, [batch: 1008 / 2520], examples_per_second: 3194.9871, train_label_loss: 0.1116, \n"
     ]
    },
    {
     "name": "stdout",
     "output_type": "stream",
     "text": [
      "epoch: 14, [batch: 1260 / 2520], examples_per_second: 3187.4098, train_label_loss: 0.2207, \n"
     ]
    },
    {
     "name": "stdout",
     "output_type": "stream",
     "text": [
      "epoch: 14, [batch: 1512 / 2520], examples_per_second: 3194.0912, train_label_loss: 0.2016, \n"
     ]
    },
    {
     "name": "stdout",
     "output_type": "stream",
     "text": [
      "epoch: 14, [batch: 1764 / 2520], examples_per_second: 3177.1587, train_label_loss: 0.0198, \n"
     ]
    },
    {
     "name": "stdout",
     "output_type": "stream",
     "text": [
      "epoch: 14, [batch: 2016 / 2520], examples_per_second: 3201.7661, train_label_loss: 0.0431, \n"
     ]
    },
    {
     "name": "stdout",
     "output_type": "stream",
     "text": [
      "epoch: 14, [batch: 2268 / 2520], examples_per_second: 3200.2121, train_label_loss: 0.2491, \n"
     ]
    },
    {
     "name": "stdout",
     "output_type": "stream",
     "text": [
      "=============================================================\n",
      "epoch: 14, source_val_acc_label: 0.6068, target_val_acc_label: 0.4999, source_val_label_loss: 1.7736, target_val_label_loss: 2.3882, \n",
      "=============================================================\n"
     ]
    },
    {
     "name": "stdout",
     "output_type": "stream",
     "text": [
      "New best\n"
     ]
    },
    {
     "name": "stdout",
     "output_type": "stream",
     "text": [
      "epoch: 15, [batch: 1 / 2520], examples_per_second: 11.1226, train_label_loss: 0.0169, \n"
     ]
    },
    {
     "name": "stdout",
     "output_type": "stream",
     "text": [
      "epoch: 15, [batch: 252 / 2520], examples_per_second: 3188.3089, train_label_loss: 0.2363, \n"
     ]
    },
    {
     "name": "stdout",
     "output_type": "stream",
     "text": [
      "epoch: 15, [batch: 504 / 2520], examples_per_second: 3199.9844, train_label_loss: 0.1400, \n"
     ]
    },
    {
     "name": "stdout",
     "output_type": "stream",
     "text": [
      "epoch: 15, [batch: 756 / 2520], examples_per_second: 3191.5038, train_label_loss: 0.0235, \n"
     ]
    },
    {
     "name": "stdout",
     "output_type": "stream",
     "text": [
      "epoch: 15, [batch: 1008 / 2520], examples_per_second: 3167.4335, train_label_loss: 0.2569, \n"
     ]
    },
    {
     "name": "stdout",
     "output_type": "stream",
     "text": [
      "epoch: 15, [batch: 1260 / 2520], examples_per_second: 3185.7618, train_label_loss: 0.1785, \n"
     ]
    },
    {
     "name": "stdout",
     "output_type": "stream",
     "text": [
      "epoch: 15, [batch: 1512 / 2520], examples_per_second: 3185.3070, train_label_loss: 0.0365, \n"
     ]
    },
    {
     "name": "stdout",
     "output_type": "stream",
     "text": [
      "epoch: 15, [batch: 1764 / 2520], examples_per_second: 3187.6735, train_label_loss: 0.1573, \n"
     ]
    },
    {
     "name": "stdout",
     "output_type": "stream",
     "text": [
      "epoch: 15, [batch: 2016 / 2520], examples_per_second: 3192.6583, train_label_loss: 0.2059, \n"
     ]
    },
    {
     "name": "stdout",
     "output_type": "stream",
     "text": [
      "epoch: 15, [batch: 2268 / 2520], examples_per_second: 3192.1908, train_label_loss: 0.0934, \n"
     ]
    },
    {
     "name": "stdout",
     "output_type": "stream",
     "text": [
      "=============================================================\n",
      "epoch: 15, source_val_acc_label: 0.6016, target_val_acc_label: 0.4987, source_val_label_loss: 1.8458, target_val_label_loss: 2.4620, \n",
      "=============================================================\n"
     ]
    },
    {
     "name": "stdout",
     "output_type": "stream",
     "text": [
      "epoch: 16, [batch: 1 / 2520], examples_per_second: 11.1828, train_label_loss: 0.1424, \n"
     ]
    },
    {
     "name": "stdout",
     "output_type": "stream",
     "text": [
      "epoch: 16, [batch: 252 / 2520], examples_per_second: 3186.3352, train_label_loss: 0.0540, \n"
     ]
    },
    {
     "name": "stdout",
     "output_type": "stream",
     "text": [
      "epoch: 16, [batch: 504 / 2520], examples_per_second: 3195.3194, train_label_loss: 0.0977, \n"
     ]
    },
    {
     "name": "stdout",
     "output_type": "stream",
     "text": [
      "epoch: 16, [batch: 756 / 2520], examples_per_second: 3203.3528, train_label_loss: 0.1413, \n"
     ]
    },
    {
     "name": "stdout",
     "output_type": "stream",
     "text": [
      "epoch: 16, [batch: 1008 / 2520], examples_per_second: 3189.3990, train_label_loss: 0.0833, \n"
     ]
    },
    {
     "name": "stdout",
     "output_type": "stream",
     "text": [
      "epoch: 16, [batch: 1260 / 2520], examples_per_second: 3204.1610, train_label_loss: 0.0420, \n"
     ]
    },
    {
     "name": "stdout",
     "output_type": "stream",
     "text": [
      "epoch: 16, [batch: 1512 / 2520], examples_per_second: 3194.0116, train_label_loss: 0.1178, \n"
     ]
    },
    {
     "name": "stdout",
     "output_type": "stream",
     "text": [
      "epoch: 16, [batch: 1764 / 2520], examples_per_second: 3200.1083, train_label_loss: 0.1500, \n"
     ]
    },
    {
     "name": "stdout",
     "output_type": "stream",
     "text": [
      "epoch: 16, [batch: 2016 / 2520], examples_per_second: 3220.3712, train_label_loss: 0.0958, \n"
     ]
    },
    {
     "name": "stdout",
     "output_type": "stream",
     "text": [
      "epoch: 16, [batch: 2268 / 2520], examples_per_second: 3194.5671, train_label_loss: 0.0506, \n"
     ]
    },
    {
     "name": "stdout",
     "output_type": "stream",
     "text": [
      "=============================================================\n",
      "epoch: 16, source_val_acc_label: 0.5993, target_val_acc_label: 0.5018, source_val_label_loss: 1.9124, target_val_label_loss: 2.5200, \n",
      "=============================================================\n"
     ]
    },
    {
     "name": "stdout",
     "output_type": "stream",
     "text": [
      "New best\n"
     ]
    },
    {
     "name": "stdout",
     "output_type": "stream",
     "text": [
      "epoch: 17, [batch: 1 / 2520], examples_per_second: 11.1765, train_label_loss: 0.1097, \n"
     ]
    },
    {
     "name": "stdout",
     "output_type": "stream",
     "text": [
      "epoch: 17, [batch: 252 / 2520], examples_per_second: 3193.7356, train_label_loss: 0.0076, \n"
     ]
    },
    {
     "name": "stdout",
     "output_type": "stream",
     "text": [
      "epoch: 17, [batch: 504 / 2520], examples_per_second: 3175.7910, train_label_loss: 0.1417, \n"
     ]
    },
    {
     "name": "stdout",
     "output_type": "stream",
     "text": [
      "epoch: 17, [batch: 756 / 2520], examples_per_second: 3183.7029, train_label_loss: 0.1555, \n"
     ]
    },
    {
     "name": "stdout",
     "output_type": "stream",
     "text": [
      "epoch: 17, [batch: 1008 / 2520], examples_per_second: 3167.1147, train_label_loss: 0.0868, \n"
     ]
    },
    {
     "name": "stdout",
     "output_type": "stream",
     "text": [
      "epoch: 17, [batch: 1260 / 2520], examples_per_second: 3180.5120, train_label_loss: 0.0184, \n"
     ]
    },
    {
     "name": "stdout",
     "output_type": "stream",
     "text": [
      "epoch: 17, [batch: 1512 / 2520], examples_per_second: 3177.2845, train_label_loss: 0.1054, \n"
     ]
    },
    {
     "name": "stdout",
     "output_type": "stream",
     "text": [
      "epoch: 17, [batch: 1764 / 2520], examples_per_second: 3199.5750, train_label_loss: 0.0271, \n"
     ]
    },
    {
     "name": "stdout",
     "output_type": "stream",
     "text": [
      "epoch: 17, [batch: 2016 / 2520], examples_per_second: 3205.2147, train_label_loss: 0.0932, \n"
     ]
    },
    {
     "name": "stdout",
     "output_type": "stream",
     "text": [
      "epoch: 17, [batch: 2268 / 2520], examples_per_second: 3206.9125, train_label_loss: 0.0346, \n"
     ]
    },
    {
     "name": "stdout",
     "output_type": "stream",
     "text": [
      "=============================================================\n",
      "epoch: 17, source_val_acc_label: 0.6121, target_val_acc_label: 0.5025, source_val_label_loss: 1.8224, target_val_label_loss: 2.4754, \n",
      "=============================================================\n"
     ]
    },
    {
     "name": "stdout",
     "output_type": "stream",
     "text": [
      "New best\n"
     ]
    },
    {
     "name": "stdout",
     "output_type": "stream",
     "text": [
      "epoch: 18, [batch: 1 / 2520], examples_per_second: 11.1369, train_label_loss: 0.0123, \n"
     ]
    },
    {
     "name": "stdout",
     "output_type": "stream",
     "text": [
      "epoch: 18, [batch: 252 / 2520], examples_per_second: 3184.5991, train_label_loss: 0.0981, \n"
     ]
    },
    {
     "name": "stdout",
     "output_type": "stream",
     "text": [
      "epoch: 18, [batch: 504 / 2520], examples_per_second: 3187.7757, train_label_loss: 0.0633, \n"
     ]
    },
    {
     "name": "stdout",
     "output_type": "stream",
     "text": [
      "epoch: 18, [batch: 756 / 2520], examples_per_second: 3186.2996, train_label_loss: 0.1256, \n"
     ]
    },
    {
     "name": "stdout",
     "output_type": "stream",
     "text": [
      "epoch: 18, [batch: 1008 / 2520], examples_per_second: 3203.5874, train_label_loss: 0.0656, \n"
     ]
    },
    {
     "name": "stdout",
     "output_type": "stream",
     "text": [
      "epoch: 18, [batch: 1260 / 2520], examples_per_second: 3200.4799, train_label_loss: 0.0392, \n"
     ]
    },
    {
     "name": "stdout",
     "output_type": "stream",
     "text": [
      "epoch: 18, [batch: 1512 / 2520], examples_per_second: 3180.1301, train_label_loss: 0.1025, \n"
     ]
    },
    {
     "name": "stdout",
     "output_type": "stream",
     "text": [
      "epoch: 18, [batch: 1764 / 2520], examples_per_second: 3182.5131, train_label_loss: 0.1381, \n"
     ]
    },
    {
     "name": "stdout",
     "output_type": "stream",
     "text": [
      "epoch: 18, [batch: 2016 / 2520], examples_per_second: 3184.2255, train_label_loss: 0.3033, \n"
     ]
    },
    {
     "name": "stdout",
     "output_type": "stream",
     "text": [
      "epoch: 18, [batch: 2268 / 2520], examples_per_second: 3184.9426, train_label_loss: 0.0956, \n"
     ]
    },
    {
     "name": "stdout",
     "output_type": "stream",
     "text": [
      "=============================================================\n",
      "epoch: 18, source_val_acc_label: 0.6021, target_val_acc_label: 0.5021, source_val_label_loss: 1.9411, target_val_label_loss: 2.5581, \n",
      "=============================================================\n"
     ]
    },
    {
     "name": "stdout",
     "output_type": "stream",
     "text": [
      "epoch: 19, [batch: 1 / 2520], examples_per_second: 11.1435, train_label_loss: 0.0061, \n"
     ]
    },
    {
     "name": "stdout",
     "output_type": "stream",
     "text": [
      "epoch: 19, [batch: 252 / 2520], examples_per_second: 3194.8967, train_label_loss: 0.1196, \n"
     ]
    },
    {
     "name": "stdout",
     "output_type": "stream",
     "text": [
      "epoch: 19, [batch: 504 / 2520], examples_per_second: 3190.7960, train_label_loss: 0.0800, \n"
     ]
    },
    {
     "name": "stdout",
     "output_type": "stream",
     "text": [
      "epoch: 19, [batch: 756 / 2520], examples_per_second: 3183.4242, train_label_loss: 0.0440, \n"
     ]
    },
    {
     "name": "stdout",
     "output_type": "stream",
     "text": [
      "epoch: 19, [batch: 1008 / 2520], examples_per_second: 3198.8350, train_label_loss: 0.1615, \n"
     ]
    },
    {
     "name": "stdout",
     "output_type": "stream",
     "text": [
      "epoch: 19, [batch: 1260 / 2520], examples_per_second: 3213.7491, train_label_loss: 0.0133, \n"
     ]
    },
    {
     "name": "stdout",
     "output_type": "stream",
     "text": [
      "epoch: 19, [batch: 1512 / 2520], examples_per_second: 3225.6608, train_label_loss: 0.0766, \n"
     ]
    },
    {
     "name": "stdout",
     "output_type": "stream",
     "text": [
      "epoch: 19, [batch: 1764 / 2520], examples_per_second: 3178.9792, train_label_loss: 0.0609, \n"
     ]
    },
    {
     "name": "stdout",
     "output_type": "stream",
     "text": [
      "epoch: 19, [batch: 2016 / 2520], examples_per_second: 3171.4645, train_label_loss: 0.0009, \n"
     ]
    },
    {
     "name": "stdout",
     "output_type": "stream",
     "text": [
      "epoch: 19, [batch: 2268 / 2520], examples_per_second: 3169.3923, train_label_loss: 0.0347, \n"
     ]
    },
    {
     "name": "stdout",
     "output_type": "stream",
     "text": [
      "=============================================================\n",
      "epoch: 19, source_val_acc_label: 0.6067, target_val_acc_label: 0.5008, source_val_label_loss: 1.9656, target_val_label_loss: 2.5765, \n",
      "=============================================================\n"
     ]
    },
    {
     "name": "stdout",
     "output_type": "stream",
     "text": [
      "epoch: 20, [batch: 1 / 2520], examples_per_second: 11.1585, train_label_loss: 0.2839, \n"
     ]
    },
    {
     "name": "stdout",
     "output_type": "stream",
     "text": [
      "epoch: 20, [batch: 252 / 2520], examples_per_second: 3209.7544, train_label_loss: 0.0293, \n"
     ]
    },
    {
     "name": "stdout",
     "output_type": "stream",
     "text": [
      "epoch: 20, [batch: 504 / 2520], examples_per_second: 3207.7558, train_label_loss: 0.0064, \n"
     ]
    },
    {
     "name": "stdout",
     "output_type": "stream",
     "text": [
      "epoch: 20, [batch: 756 / 2520], examples_per_second: 3189.5222, train_label_loss: 0.0052, \n"
     ]
    },
    {
     "name": "stdout",
     "output_type": "stream",
     "text": [
      "epoch: 20, [batch: 1008 / 2520], examples_per_second: 3177.0258, train_label_loss: 0.0070, \n"
     ]
    },
    {
     "name": "stdout",
     "output_type": "stream",
     "text": [
      "epoch: 20, [batch: 1260 / 2520], examples_per_second: 3196.6607, train_label_loss: 0.0164, \n"
     ]
    },
    {
     "name": "stdout",
     "output_type": "stream",
     "text": [
      "epoch: 20, [batch: 1512 / 2520], examples_per_second: 3207.9819, train_label_loss: 0.0168, \n"
     ]
    },
    {
     "name": "stdout",
     "output_type": "stream",
     "text": [
      "epoch: 20, [batch: 1764 / 2520], examples_per_second: 3182.4983, train_label_loss: 0.1040, \n"
     ]
    },
    {
     "name": "stdout",
     "output_type": "stream",
     "text": [
      "epoch: 20, [batch: 2016 / 2520], examples_per_second: 3191.8549, train_label_loss: 0.2854, \n"
     ]
    },
    {
     "name": "stdout",
     "output_type": "stream",
     "text": [
      "epoch: 20, [batch: 2268 / 2520], examples_per_second: 3204.9725, train_label_loss: 0.0035, \n"
     ]
    },
    {
     "name": "stdout",
     "output_type": "stream",
     "text": [
      "=============================================================\n",
      "epoch: 20, source_val_acc_label: 0.6026, target_val_acc_label: 0.4932, source_val_label_loss: 1.9709, target_val_label_loss: 2.6612, \n",
      "=============================================================\n"
     ]
    },
    {
     "name": "stdout",
     "output_type": "stream",
     "text": [
      "epoch: 21, [batch: 1 / 2520], examples_per_second: 11.1806, train_label_loss: 0.0135, \n"
     ]
    },
    {
     "name": "stdout",
     "output_type": "stream",
     "text": [
      "epoch: 21, [batch: 252 / 2520], examples_per_second: 3177.4500, train_label_loss: 0.1465, \n"
     ]
    },
    {
     "name": "stdout",
     "output_type": "stream",
     "text": [
      "epoch: 21, [batch: 504 / 2520], examples_per_second: 3171.2484, train_label_loss: 0.0019, \n"
     ]
    },
    {
     "name": "stdout",
     "output_type": "stream",
     "text": [
      "epoch: 21, [batch: 756 / 2520], examples_per_second: 3189.2804, train_label_loss: 0.0220, \n"
     ]
    },
    {
     "name": "stdout",
     "output_type": "stream",
     "text": [
      "epoch: 21, [batch: 1008 / 2520], examples_per_second: 3168.7188, train_label_loss: 0.2103, \n"
     ]
    },
    {
     "name": "stdout",
     "output_type": "stream",
     "text": [
      "epoch: 21, [batch: 1260 / 2520], examples_per_second: 3176.3951, train_label_loss: 0.0248, \n"
     ]
    },
    {
     "name": "stdout",
     "output_type": "stream",
     "text": [
      "epoch: 21, [batch: 1512 / 2520], examples_per_second: 3188.5842, train_label_loss: 0.0506, \n"
     ]
    },
    {
     "name": "stdout",
     "output_type": "stream",
     "text": [
      "epoch: 21, [batch: 1764 / 2520], examples_per_second: 3180.3758, train_label_loss: 0.0124, \n"
     ]
    },
    {
     "name": "stdout",
     "output_type": "stream",
     "text": [
      "epoch: 21, [batch: 2016 / 2520], examples_per_second: 3191.2364, train_label_loss: 0.0642, \n"
     ]
    },
    {
     "name": "stdout",
     "output_type": "stream",
     "text": [
      "epoch: 21, [batch: 2268 / 2520], examples_per_second: 3192.6796, train_label_loss: 0.2528, \n"
     ]
    },
    {
     "name": "stdout",
     "output_type": "stream",
     "text": [
      "=============================================================\n",
      "epoch: 21, source_val_acc_label: 0.6084, target_val_acc_label: 0.4994, source_val_label_loss: 1.9686, target_val_label_loss: 2.6493, \n",
      "=============================================================\n"
     ]
    },
    {
     "name": "stdout",
     "output_type": "stream",
     "text": [
      "Patience (3) exhausted\n"
     ]
    }
   ],
   "source": [
    "###################################\n",
    "# train\n",
    "###################################\n",
    "jig = PTN_Train_Eval_Test_Jig(model, p.BEST_MODEL_PATH, p.device)\n",
    "\n",
    "jig.train(\n",
    "    train_iterable=datasets.source.processed.train,\n",
    "    source_val_iterable=datasets.source.processed.val,\n",
    "    target_val_iterable=datasets.target.processed.val,\n",
    "    num_epochs=p.n_epoch,\n",
    "    num_logs_per_epoch=p.NUM_LOGS_PER_EPOCH,\n",
    "    patience=p.patience,\n",
    "    optimizer=optimizer,\n",
    "    criteria_for_best=p.criteria_for_best,\n",
    ")"
   ]
  },
  {
   "cell_type": "code",
   "execution_count": 14,
   "id": "31e8fabf",
   "metadata": {
    "execution": {
     "iopub.execute_input": "2022-04-01T15:59:41.612647Z",
     "iopub.status.busy": "2022-04-01T15:59:41.607799Z",
     "iopub.status.idle": "2022-04-01T15:59:41.620012Z",
     "shell.execute_reply": "2022-04-01T15:59:41.619585Z"
    },
    "papermill": {
     "duration": 0.076123,
     "end_time": "2022-04-01T15:59:41.620116",
     "exception": false,
     "start_time": "2022-04-01T15:59:41.543993",
     "status": "completed"
    },
    "tags": []
   },
   "outputs": [],
   "source": [
    "total_experiment_time_secs = time.time() - start_time_secs"
   ]
  },
  {
   "cell_type": "code",
   "execution_count": 15,
   "id": "87b9595b",
   "metadata": {
    "execution": {
     "iopub.execute_input": "2022-04-01T15:59:41.738601Z",
     "iopub.status.busy": "2022-04-01T15:59:41.738330Z",
     "iopub.status.idle": "2022-04-01T16:00:30.171975Z",
     "shell.execute_reply": "2022-04-01T16:00:30.171537Z"
    },
    "papermill": {
     "duration": 48.493156,
     "end_time": "2022-04-01T16:00:30.172080",
     "exception": false,
     "start_time": "2022-04-01T15:59:41.678924",
     "status": "completed"
    },
    "tags": []
   },
   "outputs": [],
   "source": [
    "###################################\n",
    "# Evaluate the model\n",
    "###################################\n",
    "source_test_label_accuracy, source_test_label_loss = jig.test(datasets.source.processed.test)\n",
    "target_test_label_accuracy, target_test_label_loss = jig.test(datasets.target.processed.test)\n",
    "\n",
    "source_val_label_accuracy, source_val_label_loss = jig.test(datasets.source.processed.val)\n",
    "target_val_label_accuracy, target_val_label_loss = jig.test(datasets.target.processed.val)\n",
    "\n",
    "history = jig.get_history()\n",
    "\n",
    "total_epochs_trained = len(history[\"epoch_indices\"])\n",
    "\n",
    "val_dl = Iterable_Aggregator((datasets.source.original.val,datasets.target.original.val))\n",
    "\n",
    "confusion = ptn_confusion_by_domain_over_dataloader(model, p.device, val_dl)\n",
    "per_domain_accuracy = per_domain_accuracy_from_confusion(confusion)\n",
    "\n",
    "# Add a key to per_domain_accuracy for if it was a source domain\n",
    "for domain, accuracy in per_domain_accuracy.items():\n",
    "    per_domain_accuracy[domain] = {\n",
    "        \"accuracy\": accuracy,\n",
    "        \"source?\": domain in p.domains_source\n",
    "    }\n",
    "\n",
    "# Do an independent accuracy assesment JUST TO BE SURE!\n",
    "# _source_test_label_accuracy = independent_accuracy_assesment(model, datasets.source.processed.test, p.device)\n",
    "# _target_test_label_accuracy = independent_accuracy_assesment(model, datasets.target.processed.test, p.device)\n",
    "# _source_val_label_accuracy = independent_accuracy_assesment(model, datasets.source.processed.val, p.device)\n",
    "# _target_val_label_accuracy = independent_accuracy_assesment(model, datasets.target.processed.val, p.device)\n",
    "\n",
    "# assert(_source_test_label_accuracy == source_test_label_accuracy)\n",
    "# assert(_target_test_label_accuracy == target_test_label_accuracy)\n",
    "# assert(_source_val_label_accuracy == source_val_label_accuracy)\n",
    "# assert(_target_val_label_accuracy == target_val_label_accuracy)\n",
    "\n",
    "experiment = {\n",
    "    \"experiment_name\": p.experiment_name,\n",
    "    \"parameters\": dict(p),\n",
    "    \"results\": {\n",
    "        \"source_test_label_accuracy\": source_test_label_accuracy,\n",
    "        \"source_test_label_loss\": source_test_label_loss,\n",
    "        \"target_test_label_accuracy\": target_test_label_accuracy,\n",
    "        \"target_test_label_loss\": target_test_label_loss,\n",
    "        \"source_val_label_accuracy\": source_val_label_accuracy,\n",
    "        \"source_val_label_loss\": source_val_label_loss,\n",
    "        \"target_val_label_accuracy\": target_val_label_accuracy,\n",
    "        \"target_val_label_loss\": target_val_label_loss,\n",
    "        \"total_epochs_trained\": total_epochs_trained,\n",
    "        \"total_experiment_time_secs\": total_experiment_time_secs,\n",
    "        \"confusion\": confusion,\n",
    "        \"per_domain_accuracy\": per_domain_accuracy,\n",
    "    },\n",
    "    \"history\": history,\n",
    "    \"dataset_metrics\": get_dataset_metrics(datasets, \"ptn\"),\n",
    "}"
   ]
  },
  {
   "cell_type": "code",
   "execution_count": 16,
   "id": "54a21829",
   "metadata": {
    "execution": {
     "iopub.execute_input": "2022-04-01T16:00:30.285255Z",
     "iopub.status.busy": "2022-04-01T16:00:30.284984Z",
     "iopub.status.idle": "2022-04-01T16:00:30.410082Z",
     "shell.execute_reply": "2022-04-01T16:00:30.410461Z"
    },
    "papermill": {
     "duration": 0.18151,
     "end_time": "2022-04-01T16:00:30.410570",
     "exception": false,
     "start_time": "2022-04-01T16:00:30.229060",
     "status": "completed"
    },
    "tags": []
   },
   "outputs": [
    {
     "data": {
      "image/png": "[encoded data removed]",
      "text/plain": [
       "<Figure size 1080x504 with 1 Axes>"
      ]
     },
     "metadata": {
      "needs_background": "light"
     },
     "output_type": "display_data"
    }
   ],
   "source": [
    "ax = get_loss_curve(experiment)\n",
    "plt.show()"
   ]
  },
  {
   "cell_type": "code",
   "execution_count": 17,
   "id": "fd8a0f60",
   "metadata": {
    "execution": {
     "iopub.execute_input": "2022-04-01T16:00:30.529600Z",
     "iopub.status.busy": "2022-04-01T16:00:30.529232Z",
     "iopub.status.idle": "2022-04-01T16:00:30.673229Z",
     "shell.execute_reply": "2022-04-01T16:00:30.672992Z"
    },
    "papermill": {
     "duration": 0.201303,
     "end_time": "2022-04-01T16:00:30.673282",
     "exception": false,
     "start_time": "2022-04-01T16:00:30.471979",
     "status": "completed"
    },
    "tags": []
   },
   "outputs": [
    {
     "data": {
      "text/plain": [
       "<AxesSubplot:title={'center':'Results'}>"
      ]
     },
     "execution_count": 17,
     "metadata": {},
     "output_type": "execute_result"
    },
    {
     "data": {
      "image/png": "[encoded data removed]",
      "text/plain": [
       "<Figure size 1080x504 with 1 Axes>"
      ]
     },
     "metadata": {
      "needs_background": "light"
     },
     "output_type": "display_data"
    }
   ],
   "source": [
    "get_results_table(experiment)"
   ]
  },
  {
   "cell_type": "code",
   "execution_count": 18,
   "id": "cf8dc689",
   "metadata": {
    "execution": {
     "iopub.execute_input": "2022-04-01T16:00:30.791981Z",
     "iopub.status.busy": "2022-04-01T16:00:30.791723Z",
     "iopub.status.idle": "2022-04-01T16:00:30.909304Z",
     "shell.execute_reply": "2022-04-01T16:00:30.909595Z"
    },
    "papermill": {
     "duration": 0.176844,
     "end_time": "2022-04-01T16:00:30.909678",
     "exception": false,
     "start_time": "2022-04-01T16:00:30.732834",
     "status": "completed"
    },
    "tags": []
   },
   "outputs": [
    {
     "data": {
      "text/plain": [
       "<AxesSubplot:title={'center':'Per Domain Validation Accuracy'}, xlabel='domain'>"
      ]
     },
     "execution_count": 18,
     "metadata": {},
     "output_type": "execute_result"
    },
    {
     "data": {
      "image/png": "[encoded data removed]",
      "text/plain": [
       "<Figure size 1080x504 with 1 Axes>"
      ]
     },
     "metadata": {
      "needs_background": "light"
     },
     "output_type": "display_data"
    }
   ],
   "source": [
    "get_domain_accuracies(experiment)"
   ]
  },
  {
   "cell_type": "code",
   "execution_count": 19,
   "id": "a74ae082",
   "metadata": {
    "execution": {
     "iopub.execute_input": "2022-04-01T16:00:31.029662Z",
     "iopub.status.busy": "2022-04-01T16:00:31.029407Z",
     "iopub.status.idle": "2022-04-01T16:00:31.045813Z",
     "shell.execute_reply": "2022-04-01T16:00:31.045506Z"
    },
    "papermill": {
     "duration": 0.07611,
     "end_time": "2022-04-01T16:00:31.045883",
     "exception": false,
     "start_time": "2022-04-01T16:00:30.969773",
     "status": "completed"
    },
    "tags": []
   },
   "outputs": [
    {
     "name": "stdout",
     "output_type": "stream",
     "text": [
      "Source Test Label Accuracy: 0.6025173611111111 Target Test Label Accuracy: 0.4956770833333333\n",
      "Source Val Label Accuracy: 0.6120659722222223 Target Val Label Accuracy: 0.5025\n"
     ]
    }
   ],
   "source": [
    "print(\"Source Test Label Accuracy:\", experiment[\"results\"][\"source_test_label_accuracy\"], \"Target Test Label Accuracy:\", experiment[\"results\"][\"target_test_label_accuracy\"])\n",
    "print(\"Source Val Label Accuracy:\", experiment[\"results\"][\"source_val_label_accuracy\"], \"Target Val Label Accuracy:\", experiment[\"results\"][\"target_val_label_accuracy\"])"
   ]
  },
  {
   "cell_type": "code",
   "execution_count": 20,
   "id": "dacca602",
   "metadata": {
    "execution": {
     "iopub.execute_input": "2022-04-01T16:00:31.165952Z",
     "iopub.status.busy": "2022-04-01T16:00:31.165703Z",
     "iopub.status.idle": "2022-04-01T16:00:31.180839Z",
     "shell.execute_reply": "2022-04-01T16:00:31.180483Z"
    },
    "papermill": {
     "duration": 0.07481,
     "end_time": "2022-04-01T16:00:31.180910",
     "exception": false,
     "start_time": "2022-04-01T16:00:31.106100",
     "status": "completed"
    },
    "tags": [
     "experiment_json"
    ]
   },
   "outputs": [
    {
     "data": {
      "text/plain": [
       "'{\"experiment_name\": \"tuned_1v2:oracle.run2_limited\", \"parameters\": {\"experiment_name\": \"tuned_1v2:oracle.run2_limited\", \"device\": \"cuda\", \"lr\": 0.0001, \"labels_source\": [\"3123D52\", \"3123D65\", \"3123D79\", \"3123D80\", \"3123D54\", \"3123D70\", \"3123D7B\", \"3123D89\", \"3123D58\", \"3123D76\", \"3123D7D\", \"3123EFE\", \"3123D64\", \"3123D78\", \"3123D7E\", \"3124E4A\"], \"labels_target\": [\"3123D52\", \"3123D65\", \"3123D79\", \"3123D80\", \"3123D54\", \"3123D70\", \"3123D7B\", \"3123D89\", \"3123D58\", \"3123D76\", \"3123D7D\", \"3123EFE\", \"3123D64\", \"3123D78\", \"3123D7E\", \"3124E4A\"], \"episode_transforms_source\": [], \"episode_transforms_target\": [], \"domains_source\": [8, 32, 50], \"domains_target\": [14, 20, 26, 38, 44], \"num_examples_per_domain_per_label_source\": 2000, \"num_examples_per_domain_per_label_target\": 2000, \"n_shot\": 3, \"n_way\": 16, \"n_query\": 2, \"train_k_factor\": 3, \"val_k_factor\": 2, \"test_k_factor\": 2, \"torch_default_dtype\": \"torch.float32\", \"n_epoch\": 50, \"patience\": 3, \"criteria_for_best\": \"target_accuracy\", \"x_net\": [{\"class\": \"nnReshape\", \"kargs\": {\"shape\": [-1, 1, 2, 256]}}, {\"class\": \"Conv2d\", \"kargs\": {\"in_channels\": 1, \"out_channels\": 256, \"kernel_size\": [1, 7], \"bias\": false, \"padding\": [0, 3]}}, {\"class\": \"ReLU\", \"kargs\": {\"inplace\": true}}, {\"class\": \"BatchNorm2d\", \"kargs\": {\"num_features\": 256}}, {\"class\": \"Conv2d\", \"kargs\": {\"in_channels\": 256, \"out_channels\": 80, \"kernel_size\": [2, 7], \"bias\": true, \"padding\": [0, 3]}}, {\"class\": \"ReLU\", \"kargs\": {\"inplace\": true}}, {\"class\": \"BatchNorm2d\", \"kargs\": {\"num_features\": 80}}, {\"class\": \"Flatten\", \"kargs\": {}}, {\"class\": \"Linear\", \"kargs\": {\"in_features\": 20480, \"out_features\": 256}}, {\"class\": \"ReLU\", \"kargs\": {\"inplace\": true}}, {\"class\": \"BatchNorm1d\", \"kargs\": {\"num_features\": 256}}, {\"class\": \"Linear\", \"kargs\": {\"in_features\": 256, \"out_features\": 256}}], \"NUM_LOGS_PER_EPOCH\": 10, \"BEST_MODEL_PATH\": \"./best_model.pth\", \"pickle_name\": \"oracle.Run2_10kExamples_stratified_ds.2022A.pkl\", \"x_transforms_source\": [\"unit_mag\"], \"x_transforms_target\": [\"unit_mag\"], \"dataset_seed\": 1337, \"seed\": 1337}, \"results\": {\"source_test_label_accuracy\": 0.6025173611111111, \"source_test_label_loss\": 1.8468538522720337, \"target_test_label_accuracy\": 0.4956770833333333, \"target_test_label_loss\": 2.5081124305725098, \"source_val_label_accuracy\": 0.6120659722222223, \"source_val_label_loss\": 1.8224126100540161, \"target_val_label_accuracy\": 0.5025, \"target_val_label_loss\": 2.4753663539886475, \"total_epochs_trained\": 21, \"total_experiment_time_secs\": 1514.5580122470856, \"confusion\": {\"8\": {\"15\": {\"15\": 106, \"11\": 54, \"8\": 23, \"12\": 30, \"7\": 10, \"3\": 12, \"2\": 4, \"4\": 1}, \"3\": {\"15\": 11, \"3\": 155, \"12\": 69, \"11\": 3, \"2\": 2}, \"6\": {\"7\": 51, \"6\": 74, \"4\": 64, \"14\": 16, \"8\": 10, \"2\": 21, \"13\": 3, \"0\": 1}, \"1\": {\"1\": 139, \"10\": 21, \"5\": 27, \"13\": 46, \"6\": 1, \"0\": 3, \"14\": 3}, \"8\": {\"11\": 34, \"6\": 23, \"8\": 139, \"13\": 3, \"7\": 13, \"4\": 6, \"15\": 19, \"2\": 2, \"14\": 1}, \"10\": {\"10\": 97, \"13\": 26, \"5\": 37, \"0\": 54, \"1\": 18, \"14\": 8}, \"9\": {\"9\": 236, \"5\": 4}, \"13\": {\"0\": 15, \"10\": 25, \"13\": 98, \"1\": 35, \"6\": 9, \"5\": 5, \"14\": 49, \"4\": 2, \"11\": 1, \"8\": 1}, \"12\": {\"15\": 27, \"3\": 57, \"12\": 137, \"11\": 19}, \"5\": {\"5\": 165, \"1\": 25, \"10\": 38, \"13\": 5, \"14\": 1, \"0\": 4, \"9\": 2}, \"0\": {\"0\": 93, \"14\": 66, \"13\": 25, \"10\": 49, \"6\": 5, \"5\": 1, \"4\": 1}, \"2\": {\"4\": 35, \"2\": 140, \"7\": 47, \"6\": 11, \"15\": 3, \"11\": 1, \"3\": 2, \"0\": 1}, \"11\": {\"12\": 25, \"15\": 60, \"11\": 82, \"8\": 54, \"3\": 7, \"7\": 8, \"4\": 2, \"6\": 2}, \"14\": {\"6\": 14, \"0\": 51, \"13\": 43, \"14\": 103, \"4\": 7, \"10\": 16, \"1\": 3, \"7\": 1, \"5\": 2}, \"7\": {\"2\": 53, \"8\": 17, \"6\": 38, \"7\": 71, \"4\": 51, \"15\": 5, \"13\": 1, \"14\": 3, \"11\": 1}, \"4\": {\"0\": 4, \"6\": 60, \"4\": 70, \"7\": 51, \"14\": 15, \"13\": 5, \"2\": 28, \"8\": 7}}, \"50\": {\"3\": {\"3\": 228, \"8\": 12}, \"15\": {\"15\": 202, \"1\": 17, \"14\": 7, \"11\": 12, \"6\": 2}, \"8\": {\"8\": 226, \"3\": 14}, \"4\": {\"6\": 58, \"4\": 106, \"1\": 12, \"5\": 57, \"10\": 2, \"13\": 2, \"7\": 1, \"0\": 1, \"15\": 1}, \"14\": {\"14\": 220, \"11\": 8, \"12\": 10, \"15\": 2}, \"0\": {\"0\": 188, \"5\": 5, \"2\": 28, \"10\": 11, \"7\": 1, \"4\": 3, \"6\": 4}, \"7\": {\"7\": 91, \"13\": 84, \"10\": 42, \"5\": 20, \"4\": 2, \"0\": 1}, \"6\": {\"6\": 112, \"4\": 52, \"2\": 3, \"1\": 56, \"0\": 3, \"5\": 9, \"15\": 5}, \"10\": {\"10\": 137, \"13\": 37, \"7\": 31, \"5\": 13, \"0\": 16, \"4\": 6}, \"5\": {\"7\": 22, \"5\": 113, \"4\": 53, \"6\": 17, \"13\": 12, \"0\": 9, \"10\": 11, \"1\": 3}, \"2\": {\"2\": 218, \"6\": 1, \"0\": 21}, \"12\": {\"12\": 203, \"9\": 22, \"14\": 10, \"11\": 5}, \"9\": {\"9\": 203, \"12\": 29, \"11\": 8}, \"1\": {\"1\": 142, \"6\": 58, \"15\": 24, \"4\": 8, \"5\": 2, \"2\": 3, \"14\": 3}, \"11\": {\"11\": 196, \"14\": 23, \"9\": 3, \"15\": 13, \"12\": 5}, \"13\": {\"13\": 84, \"7\": 95, \"10\": 51, \"5\": 9, \"0\": 1}}, \"32\": {\"5\": {\"2\": 47, \"5\": 72, \"13\": 11, \"8\": 29, \"14\": 18, \"0\": 28, \"4\": 19, \"3\": 2, \"11\": 8, \"15\": 2, \"7\": 4}, \"8\": {\"5\": 25, \"8\": 112, \"13\": 33, \"4\": 31, \"3\": 11, \"0\": 15, \"15\": 4, \"11\": 3, \"2\": 1, \"7\": 4, \"14\": 1}, \"11\": {\"13\": 11, \"0\": 31, \"2\": 18, \"11\": 86, \"7\": 55, \"4\": 27, \"3\": 1, \"8\": 5, \"5\": 6}, \"1\": {\"1\": 237, \"10\": 3}, \"10\": {\"10\": 236, \"1\": 4}, \"15\": {\"15\": 228, \"8\": 9, \"5\": 2, \"3\": 1}, \"3\": {\"3\": 209, \"8\": 6, \"13\": 21, \"7\": 2, \"15\": 1, \"5\": 1}, \"7\": {\"13\": 39, \"4\": 18, \"7\": 92, \"2\": 6, \"11\": 71, \"8\": 2, \"0\": 8, \"5\": 1, \"3\": 3}, \"4\": {\"13\": 36, \"0\": 41, \"7\": 19, \"8\": 31, \"11\": 31, \"4\": 48, \"5\": 25, \"2\": 8, \"3\": 1}, \"14\": {\"14\": 183, \"2\": 50, \"0\": 4, \"5\": 1, \"9\": 1, \"4\": 1}, \"9\": {\"9\": 227, \"14\": 11, \"12\": 2}, \"12\": {\"12\": 240}, \"6\": {\"6\": 240}, \"2\": {\"2\": 137, \"14\": 45, \"5\": 14, \"0\": 28, \"4\": 1, \"11\": 14, \"13\": 1}, \"0\": {\"7\": 11, \"4\": 46, \"0\": 60, \"2\": 23, \"11\": 20, \"5\": 54, \"8\": 13, \"13\": 11, \"14\": 2}, \"13\": {\"13\": 70, \"7\": 57, \"4\": 31, \"8\": 29, \"11\": 21, \"3\": 10, \"0\": 15, \"5\": 5, \"2\": 2}}, \"14\": {\"15\": {\"15\": 181, \"7\": 58, \"2\": 1}, \"3\": {\"4\": 28, \"3\": 156, \"2\": 8, \"5\": 17, \"8\": 6, \"14\": 19, \"1\": 5, \"0\": 1}, \"6\": {\"13\": 51, \"2\": 23, \"6\": 110, \"4\": 11, \"14\": 36, \"5\": 5, \"3\": 4}, \"1\": {\"5\": 51, \"1\": 148, \"4\": 29, \"6\": 2, \"3\": 4, \"7\": 3, \"2\": 2, \"13\": 1}, \"8\": {\"8\": 233, \"1\": 2, \"3\": 4, \"9\": 1}, \"10\": {\"9\": 4, \"10\": 174, \"0\": 45, \"11\": 15, \"12\": 1, \"14\": 1}, \"9\": {\"9\": 228, \"10\": 1, \"0\": 4, \"11\": 1, \"12\": 6}, \"13\": {\"13\": 139, \"4\": 1, \"6\": 60, \"1\": 1, \"2\": 26, \"14\": 7, \"15\": 3, \"5\": 3}, \"12\": {\"9\": 20, \"12\": 125, \"0\": 13, \"11\": 65, \"10\": 13, \"8\": 4}, \"5\": {\"5\": 70, \"13\": 2, \"2\": 27, \"1\": 49, \"3\": 21, \"4\": 61, \"6\": 4, \"14\": 6}, \"0\": {\"0\": 211, \"10\": 20, \"3\": 5, \"9\": 1, \"14\": 3}, \"2\": {\"2\": 54, \"13\": 30, \"14\": 29, \"3\": 33, \"6\": 18, \"1\": 8, \"5\": 32, \"4\": 31, \"0\": 2, \"15\": 2, \"7\": 1}, \"11\": {\"11\": 199, \"9\": 22, \"10\": 7, \"12\": 12}, \"14\": {\"2\": 39, \"14\": 96, \"13\": 9, \"3\": 30, \"6\": 44, \"5\": 8, \"10\": 1, \"4\": 10, \"1\": 2, \"0\": 1}, \"7\": {\"7\": 207, \"15\": 28, \"1\": 4, \"2\": 1}, \"4\": {\"3\": 34, \"4\": 80, \"1\": 38, \"14\": 5, \"5\": 50, \"2\": 23, \"13\": 3, \"6\": 7}}, \"20\": {\"3\": {\"3\": 41, \"7\": 31, \"8\": 13, \"5\": 29, \"2\": 30, \"15\": 14, \"4\": 10, \"11\": 3, \"9\": 29, \"12\": 10, \"13\": 9, \"10\": 14, \"6\": 1, \"0\": 2, \"1\": 3, \"14\": 1}, \"15\": {\"0\": 22, \"12\": 22, \"5\": 14, \"13\": 51, \"15\": 48, \"9\": 30, \"7\": 1, \"3\": 10, \"2\": 22, \"1\": 15, \"4\": 3, \"8\": 1, \"11\": 1}, \"8\": {\"8\": 56, \"14\": 28, \"9\": 2, \"10\": 59, \"7\": 41, \"6\": 13, \"3\": 19, \"5\": 7, \"11\": 1, \"4\": 8, \"12\": 2, \"2\": 3, \"0\": 1}, \"4\": {\"4\": 130, \"9\": 14, \"0\": 27, \"2\": 7, \"10\": 6, \"15\": 2, \"1\": 9, \"8\": 6, \"12\": 19, \"5\": 9, \"13\": 1, \"3\": 8, \"14\": 2}, \"14\": {\"8\": 34, \"6\": 44, \"14\": 97, \"10\": 50, \"7\": 9, \"4\": 3, \"5\": 1, \"3\": 2}, \"0\": {\"13\": 11, \"0\": 65, \"4\": 27, \"1\": 53, \"5\": 13, \"9\": 12, \"15\": 13, \"8\": 1, \"12\": 38, \"3\": 4, \"2\": 3}, \"7\": {\"10\": 17, \"7\": 96, \"3\": 31, \"2\": 14, \"8\": 41, \"9\": 5, \"14\": 6, \"11\": 11, \"15\": 1, \"13\": 3, \"5\": 11, \"6\": 4}, \"6\": {\"14\": 32, \"6\": 167, \"8\": 13, \"7\": 17, \"10\": 4, \"11\": 6, \"5\": 1}, \"10\": {\"10\": 87, \"6\": 11, \"9\": 1, \"14\": 49, \"7\": 15, \"3\": 12, \"4\": 9, \"8\": 46, \"5\": 7, \"2\": 3}, \"5\": {\"12\": 20, \"9\": 27, \"4\": 18, \"7\": 13, \"2\": 28, \"0\": 13, \"3\": 29, \"1\": 15, \"5\": 30, \"8\": 11, \"13\": 13, \"14\": 3, \"15\": 16, \"10\": 4}, \"2\": {\"15\": 30, \"12\": 12, \"2\": 43, \"4\": 7, \"5\": 30, \"7\": 14, \"13\": 20, \"10\": 2, \"9\": 36, \"3\": 32, \"0\": 5, \"11\": 2, \"1\": 4, \"8\": 3}, \"12\": {\"12\": 34, \"4\": 27, \"15\": 34, \"2\": 15, \"1\": 42, \"5\": 12, \"0\": 33, \"13\": 16, \"9\": 18, \"3\": 7, \"8\": 2}, \"9\": {\"3\": 25, \"9\": 39, \"15\": 32, \"4\": 15, \"2\": 31, \"7\": 4, \"5\": 28, \"13\": 22, \"1\": 14, \"12\": 21, \"8\": 2, \"0\": 6, \"6\": 1}, \"1\": {\"1\": 82, \"4\": 18, \"12\": 32, \"15\": 22, \"0\": 46, \"13\": 15, \"9\": 10, \"5\": 7, \"3\": 1, \"2\": 7}, \"11\": {\"11\": 229, \"7\": 7, \"8\": 2, \"6\": 1, \"13\": 1}, \"13\": {\"9\": 32, \"15\": 45, \"5\": 13, \"13\": 97, \"3\": 5, \"1\": 13, \"2\": 17, \"0\": 4, \"12\": 14}}, \"44\": {\"5\": {\"5\": 191, \"14\": 35, \"8\": 9, \"0\": 3, \"15\": 2}, \"8\": {\"8\": 138, \"0\": 98, \"15\": 1, \"5\": 3}, \"11\": {\"11\": 195, \"6\": 40, \"7\": 4, \"9\": 1}, \"1\": {\"12\": 87, \"1\": 108, \"3\": 39, \"10\": 4, \"7\": 2}, \"10\": {\"10\": 218, \"1\": 6, \"12\": 16}, \"15\": {\"15\": 173, \"14\": 42, \"4\": 21, \"5\": 2, \"8\": 2}, \"3\": {\"1\": 37, \"3\": 183, \"12\": 16, \"2\": 4}, \"7\": {\"2\": 51, \"7\": 115, \"1\": 4, \"11\": 1, \"9\": 61, \"6\": 4, \"12\": 2, \"3\": 2}, \"4\": {\"4\": 194, \"15\": 21, \"14\": 15, \"13\": 10}, \"14\": {\"4\": 20, \"5\": 28, \"15\": 46, \"14\": 143, \"8\": 3}, \"9\": {\"9\": 86, \"7\": 61, \"6\": 9, \"2\": 77, \"3\": 4, \"4\": 1, \"1\": 1, \"11\": 1}, \"12\": {\"1\": 87, \"12\": 131, \"3\": 19, \"10\": 3}, \"6\": {\"2\": 2, \"6\": 180, \"11\": 25, \"7\": 11, \"9\": 12, \"13\": 10}, \"2\": {\"7\": 54, \"2\": 99, \"9\": 76, \"3\": 3, \"1\": 2, \"6\": 6}, \"0\": {\"0\": 134, \"8\": 103, \"5\": 3}, \"13\": {\"13\": 209, \"14\": 1, \"6\": 10, \"4\": 19, \"2\": 1}}, \"38\": {\"14\": {\"14\": 117, \"2\": 60, \"12\": 27, \"11\": 28, \"5\": 3, \"15\": 1, \"13\": 3, \"7\": 1}, \"0\": {\"0\": 166, \"3\": 54, \"10\": 6, \"13\": 1, \"9\": 7, \"6\": 5, \"7\": 1}, \"13\": {\"15\": 47, \"8\": 38, \"2\": 7, \"5\": 29, \"1\": 37, \"13\": 48, \"14\": 6, \"10\": 4, \"3\": 14, \"6\": 3, \"7\": 6, \"12\": 1}, \"7\": {\"7\": 85, \"8\": 18, \"10\": 89, \"15\": 6, \"0\": 5, \"5\": 28, \"3\": 6, \"12\": 1, \"13\": 2}, \"9\": {\"6\": 88, \"9\": 147, \"3\": 5}, \"3\": {\"3\": 57, \"8\": 18, \"10\": 17, \"0\": 56, \"9\": 15, \"15\": 16, \"5\": 11, \"6\": 25, \"13\": 8, \"7\": 14, \"1\": 3}, \"11\": {\"11\": 180, \"14\": 33, \"12\": 15, \"2\": 10, \"4\": 2}, \"6\": {\"6\": 147, \"9\": 82, \"15\": 1, \"3\": 8, \"0\": 2}, \"8\": {\"1\": 3, \"15\": 42, \"5\": 63, \"7\": 22, \"8\": 56, \"13\": 30, \"10\": 9, \"3\": 12, \"0\": 2, \"6\": 1}, \"4\": {\"4\": 209, \"12\": 26, \"10\": 4, \"7\": 1}, \"5\": {\"8\": 64, \"5\": 62, \"1\": 1, \"13\": 32, \"7\": 31, \"15\": 32, \"10\": 9, \"3\": 9}, \"10\": {\"7\": 84, \"10\": 107, \"15\": 2, \"0\": 5, \"8\": 13, \"5\": 11, \"3\": 11, \"13\": 3, \"12\": 1, \"4\": 3}, \"1\": {\"1\": 188, \"13\": 20, \"15\": 25, \"8\": 4, \"5\": 2, \"6\": 1}, \"2\": {\"2\": 202, \"14\": 37, \"11\": 1}, \"15\": {\"15\": 75, \"3\": 16, \"5\": 31, \"1\": 24, \"13\": 49, \"8\": 40, \"10\": 3, \"7\": 2}, \"12\": {\"12\": 218, \"7\": 3, \"14\": 5, \"4\": 11, \"11\": 2, \"10\": 1}}, \"26\": {\"13\": {\"13\": 98, \"9\": 38, \"5\": 52, \"6\": 32, \"2\": 5, \"14\": 1, \"7\": 10, \"10\": 1, \"8\": 3}, \"2\": {\"15\": 30, \"2\": 44, \"1\": 5, \"3\": 36, \"0\": 10, \"5\": 18, \"7\": 47, \"8\": 14, \"9\": 12, \"4\": 14, \"10\": 4, \"6\": 1, \"14\": 4, \"13\": 1}, \"8\": {\"4\": 15, \"8\": 49, \"2\": 14, \"7\": 29, \"9\": 28, \"1\": 11, \"0\": 21, \"6\": 12, \"15\": 5, \"13\": 6, \"10\": 15, \"14\": 22, \"5\": 12, \"3\": 1}, \"9\": {\"4\": 4, \"8\": 31, \"5\": 32, \"9\": 40, \"2\": 12, \"10\": 14, \"13\": 29, \"6\": 34, \"7\": 26, \"1\": 4, \"0\": 6, \"15\": 2, \"14\": 5, \"3\": 1}, \"12\": {\"12\": 231, \"11\": 9}, \"4\": {\"4\": 76, \"8\": 18, \"0\": 26, \"7\": 22, \"14\": 17, \"3\": 25, \"15\": 14, \"2\": 26, \"10\": 7, \"9\": 1, \"1\": 7, \"13\": 1}, \"3\": {\"4\": 21, \"3\": 86, \"15\": 75, \"7\": 21, \"2\": 30, \"8\": 2, \"9\": 1, \"0\": 1, \"5\": 3}, \"15\": {\"15\": 73, \"3\": 88, \"7\": 20, \"4\": 18, \"0\": 1, \"2\": 33, \"1\": 2, \"5\": 4, \"8\": 1}, \"14\": {\"4\": 20, \"9\": 13, \"14\": 55, \"0\": 42, \"1\": 39, \"7\": 3, \"10\": 33, \"8\": 24, \"6\": 6, \"2\": 2, \"5\": 1, \"15\": 1, \"3\": 1}, \"10\": {\"6\": 31, \"4\": 13, \"2\": 6, \"10\": 37, \"14\": 32, \"1\": 40, \"0\": 25, \"5\": 5, \"8\": 17, \"7\": 8, \"9\": 16, \"12\": 4, \"13\": 2, \"15\": 4}, \"7\": {\"7\": 44, \"5\": 13, \"15\": 16, \"0\": 11, \"3\": 32, \"8\": 27, \"4\": 21, \"2\": 41, \"9\": 18, \"14\": 6, \"10\": 2, \"1\": 2, \"13\": 7}, \"11\": {\"11\": 230, \"12\": 10}, \"6\": {\"13\": 26, \"5\": 26, \"9\": 19, \"6\": 125, \"10\": 18, \"1\": 5, \"8\": 11, \"14\": 9, \"0\": 1}, \"1\": {\"8\": 16, \"10\": 45, \"14\": 60, \"0\": 32, \"1\": 69, \"6\": 7, \"4\": 5, \"9\": 3, \"7\": 1, \"13\": 1, \"5\": 1}, \"5\": {\"9\": 31, \"8\": 12, \"6\": 39, \"3\": 6, \"10\": 10, \"5\": 42, \"13\": 53, \"7\": 21, \"2\": 17, \"4\": 3, \"15\": 2, \"0\": 1, \"14\": 3}, \"0\": {\"14\": 60, \"0\": 36, \"8\": 19, \"4\": 32, \"7\": 7, \"5\": 4, \"1\": 42, \"6\": 3, \"9\": 3, \"10\": 21, \"2\": 6, \"15\": 3, \"3\": 3, \"13\": 1}}}, \"per_domain_accuracy\": {\"8\": {\"accuracy\": 0.49609375, \"source?\": true}, \"50\": {\"accuracy\": 0.6950520833333333, \"source?\": true}, \"32\": {\"accuracy\": 0.6450520833333333, \"source?\": true}, \"14\": {\"accuracy\": 0.6278645833333333, \"source?\": false}, \"20\": {\"accuracy\": 0.34921875, \"source?\": false}, \"44\": {\"accuracy\": 0.6502604166666667, \"source?\": false}, \"38\": {\"accuracy\": 0.5375, \"source?\": false}, \"26\": {\"accuracy\": 0.34765625, \"source?\": false}}}, \"history\": {\"epoch_indices\": [1, 2, 3, 4, 5, 6, 7, 8, 9, 10, 11, 12, 13, 14, 15, 16, 17, 18, 19, 20, 21], \"train_label_loss\": [1.7796169703441953, 1.3381689688279514, 1.1775288189923951, 0.8933623916572995, 0.708720207941674, 0.5673299862042306, 0.4496902815376719, 0.3655553059475053, 0.304154253371119, 0.25043402041219887, 0.21421450280200038, 0.18822481949233436, 0.16435678119665853, 0.14767524868260057, 0.1346034041054765, 0.12991874410548165, 0.11729411732318575, 0.11136925854042934, 0.10716594463846708, 0.09953126383308758, 0.09567123487187985], \"source_val_label_loss\": [1.5055509805679321, 1.389466643333435, 1.241700530052185, 1.149436593055725, 1.1554099321365356, 1.171528935432434, 1.2894254922866821, 1.3780449628829956, 1.4300885200500488, 1.5026456117630005, 1.6069142818450928, 1.6382838487625122, 1.7126743793487549, 1.7736352682113647, 1.8457889556884766, 1.9124352931976318, 1.8224126100540161, 1.9411102533340454, 1.9656379222869873, 1.9708877801895142, 1.9685947895050049], \"target_val_label_loss\": [1.9573041200637817, 1.8651223182678223, 1.6613637208938599, 1.553157091140747, 1.563822627067566, 1.6153035163879395, 1.7301355600357056, 1.8580800294876099, 1.951953411102295, 2.034937858581543, 2.1800272464752197, 2.1983940601348877, 2.316310167312622, 2.388190507888794, 2.461953639984131, 2.520029067993164, 2.4753663539886475, 2.558070182800293, 2.576470136642456, 2.6612467765808105, 2.6493098735809326], \"source_val_acc_label\": [0.40512152777777777, 0.42890625, 0.5211805555555555, 0.5682291666666667, 0.5860243055555555, 0.6003472222222223, 0.5973958333333333, 0.5974826388888889, 0.5995659722222222, 0.5988715277777777, 0.6026041666666667, 0.6006944444444444, 0.5965277777777778, 0.6067708333333334, 0.6016493055555555, 0.5993055555555555, 0.6120659722222223, 0.6020833333333333, 0.6066840277777777, 0.6026041666666667, 0.6084201388888889], \"target_val_acc_label\": [0.28177083333333336, 0.3084895833333333, 0.4116666666666667, 0.46390625, 0.48442708333333334, 0.4894791666666667, 0.49505208333333334, 0.48942708333333335, 0.49385416666666665, 0.49359375, 0.49765625, 0.4940625, 0.49442708333333335, 0.49994791666666666, 0.4986979166666667, 0.5017708333333334, 0.5025, 0.5021354166666666, 0.50078125, 0.4931770833333333, 0.499375]}, \"dataset_metrics\": {\"source\": {\"train\": {\"n_unique_x\": 67200, \"n_unique_y\": 16, \"n_batch/episode\": 2520}, \"val\": {\"n_unique_x\": 14400, \"n_unique_y\": 16, \"n_batch/episode\": 360}, \"test\": {\"n_unique_x\": 14400, \"n_unique_y\": 16, \"n_batch/episode\": 360}}, \"target\": {\"train\": {\"n_unique_x\": 112000, \"n_unique_y\": 16, \"n_batch/episode\": 4200}, \"val\": {\"n_unique_x\": 24000, \"n_unique_y\": 16, \"n_batch/episode\": 600}, \"test\": {\"n_unique_x\": 24000, \"n_unique_y\": 16, \"n_batch/episode\": 600}}}}'"
      ]
     },
     "execution_count": 20,
     "metadata": {},
     "output_type": "execute_result"
    }
   ],
   "source": [
    "json.dumps(experiment)"
   ]
  }
 ],
 "metadata": {
  "celltoolbar": "Tags",
  "kernelspec": {
   "display_name": "Python 3 (ipykernel)",
   "language": "python",
   "name": "python3"
  },
  "language_info": {
   "codemirror_mode": {
    "name": "ipython",
    "version": 3
   },
   "file_extension": ".py",
   "mimetype": "text/x-python",
   "name": "python",
   "nbconvert_exporter": "python",
   "pygments_lexer": "ipython3",
   "version": "3.8.10"
  },
  "papermill": {
   "default_parameters": {},
   "duration": 1566.977091,
   "end_time": "2022-04-01T16:00:32.150334",
   "environment_variables": {},
   "exception": null,
   "input_path": "/mnt/wd500GB/CSC500/csc500-main/csc500-notebooks/templates/ptn_template.ipynb",
   "output_path": "trial.ipynb",
   "parameters": {
    "parameters": {
     "BEST_MODEL_PATH": "./best_model.pth",
     "NUM_LOGS_PER_EPOCH": 10,
     "criteria_for_best": "target_accuracy",
     "dataset_seed": 1337,
     "device": "cuda",
     "domains_source": [
      8,
      32,
      50
     ],
     "domains_target": [
      14,
      20,
      26,
      38,
      44
     ],
     "episode_transforms_source": [],
     "episode_transforms_target": [],
     "experiment_name": "tuned_1v2:oracle.run2_limited",
     "labels_source": [
      "3123D52",
      "3123D65",
      "3123D79",
      "3123D80",
      "3123D54",
      "3123D70",
      "3123D7B",
      "3123D89",
      "3123D58",
      "3123D76",
      "3123D7D",
      "3123EFE",
      "3123D64",
      "3123D78",
      "3123D7E",
      "3124E4A"
     ],
     "labels_target": [
      "3123D52",
      "3123D65",
      "3123D79",
      "3123D80",
      "3123D54",
      "3123D70",
      "3123D7B",
      "3123D89",
      "3123D58",
      "3123D76",
      "3123D7D",
      "3123EFE",
      "3123D64",
      "3123D78",
      "3123D7E",
      "3124E4A"
     ],
     "lr": 0.0001,
     "n_epoch": 50,
     "n_query": 2,
     "n_shot": 3,
     "n_way": 16,
     "num_examples_per_domain_per_label_source": 2000,
     "num_examples_per_domain_per_label_target": 2000,
     "patience": 3,
     "pickle_name": "oracle.Run2_10kExamples_stratified_ds.2022A.pkl",
     "seed": 1337,
     "test_k_factor": 2,
     "torch_default_dtype": "torch.float32",
     "train_k_factor": 3,
     "val_k_factor": 2,
     "x_net": [
      {
       "class": "nnReshape",
       "kargs": {
        "shape": [
         -1,
         1,
         2,
         256
        ]
       }
      },
      {
       "class": "Conv2d",
       "kargs": {
        "bias": false,
        "in_channels": 1,
        "kernel_size": [
         1,
         7
        ],
        "out_channels": 256,
        "padding": [
         0,
         3
        ]
       }
      },
      {
       "class": "ReLU",
       "kargs": {
        "inplace": true
       }
      },
      {
       "class": "BatchNorm2d",
       "kargs": {
        "num_features": 256
       }
      },
      {
       "class": "Conv2d",
       "kargs": {
        "bias": true,
        "in_channels": 256,
        "kernel_size": [
         2,
         7
        ],
        "out_channels": 80,
        "padding": [
         0,
         3
        ]
       }
      },
      {
       "class": "ReLU",
       "kargs": {
        "inplace": true
       }
      },
      {
       "class": "BatchNorm2d",
       "kargs": {
        "num_features": 80
       }
      },
      {
       "class": "Flatten",
       "kargs": {}
      },
      {
       "class": "Linear",
       "kargs": {
        "in_features": 20480,
        "out_features": 256
       }
      },
      {
       "class": "ReLU",
       "kargs": {
        "inplace": true
       }
      },
      {
       "class": "BatchNorm1d",
       "kargs": {
        "num_features": 256
       }
      },
      {
       "class": "Linear",
       "kargs": {
        "in_features": 256,
        "out_features": 256
       }
      }
     ],
     "x_transforms_source": [
      "unit_mag"
     ],
     "x_transforms_target": [
      "unit_mag"
     ]
    }
   },
   "start_time": "2022-04-01T15:34:25.173243",
   "version": "2.3.4"
  }
 },
 "nbformat": 4,
 "nbformat_minor": 5
}