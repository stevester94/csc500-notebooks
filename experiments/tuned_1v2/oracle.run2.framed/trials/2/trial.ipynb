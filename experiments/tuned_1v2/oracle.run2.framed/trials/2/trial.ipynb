{
 "cells": [
  {
   "cell_type": "markdown",
   "id": "9fea5f46",
   "metadata": {
    "papermill": {
     "duration": 0.022813,
     "end_time": "2022-03-26T12:51:30.853773",
     "exception": false,
     "start_time": "2022-03-26T12:51:30.830960",
     "status": "completed"
    },
    "tags": []
   },
   "source": [
    "# PTN Template\n",
    "This notebook serves as a template for single dataset PTN experiments  \n",
    "It can be run on its own by setting STANDALONE to True (do a find for \"STANDALONE\" to see where)  \n",
    "But it is intended to be executed as part of a *papermill.py script. See any of the   \n",
    "experimentes with a papermill script to get started with that workflow.  "
   ]
  },
  {
   "cell_type": "code",
   "execution_count": 1,
   "id": "0902182a",
   "metadata": {
    "execution": {
     "iopub.execute_input": "2022-03-26T12:51:30.905255Z",
     "iopub.status.busy": "2022-03-26T12:51:30.904402Z",
     "iopub.status.idle": "2022-03-26T12:51:32.733313Z",
     "shell.execute_reply": "2022-03-26T12:51:32.732455Z"
    },
    "papermill": {
     "duration": 1.862857,
     "end_time": "2022-03-26T12:51:32.733518",
     "exception": false,
     "start_time": "2022-03-26T12:51:30.870661",
     "status": "completed"
    },
    "tags": []
   },
   "outputs": [],
   "source": [
    "%load_ext autoreload\n",
    "%autoreload 2\n",
    "%matplotlib inline\n",
    "\n",
    "    \n",
    "import os, json, sys, time, random\n",
    "import numpy as np\n",
    "import torch\n",
    "from torch.optim import Adam\n",
    "from  easydict import EasyDict\n",
    "import matplotlib.pyplot as plt\n",
    "\n",
    "from steves_models.steves_ptn import Steves_Prototypical_Network\n",
    "\n",
    "from steves_utils.lazy_iterable_wrapper import Lazy_Iterable_Wrapper\n",
    "from steves_utils.iterable_aggregator import Iterable_Aggregator\n",
    "from steves_utils.ptn_train_eval_test_jig import  PTN_Train_Eval_Test_Jig\n",
    "from steves_utils.torch_sequential_builder import build_sequential\n",
    "from steves_utils.torch_utils import get_dataset_metrics, ptn_confusion_by_domain_over_dataloader\n",
    "from steves_utils.utils_v2 import (per_domain_accuracy_from_confusion, get_datasets_base_path)\n",
    "from steves_utils.PTN.utils import independent_accuracy_assesment\n",
    "\n",
    "from steves_utils.stratified_dataset.episodic_accessor import Episodic_Accessor_Factory\n",
    "\n",
    "from steves_utils.ptn_do_report import (\n",
    "    get_loss_curve,\n",
    "    get_results_table,\n",
    "    get_parameters_table,\n",
    "    get_domain_accuracies,\n",
    ")\n",
    "\n",
    "from steves_utils.transforms import get_chained_transform"
   ]
  },
  {
   "cell_type": "markdown",
   "id": "41c840b4",
   "metadata": {
    "papermill": {
     "duration": 0.013735,
     "end_time": "2022-03-26T12:51:32.765532",
     "exception": false,
     "start_time": "2022-03-26T12:51:32.751797",
     "status": "completed"
    },
    "tags": []
   },
   "source": [
    "# Required Parameters\n",
    "These are allowed parameters, not defaults\n",
    "Each of these values need to be present in the injected parameters (the notebook will raise an exception if they are not present)\n",
    "\n",
    "Papermill uses the cell tag \"parameters\" to inject the real parameters below this cell.\n",
    "Enable tags to see what I mean"
   ]
  },
  {
   "cell_type": "code",
   "execution_count": 2,
   "id": "fd44eb83",
   "metadata": {
    "execution": {
     "iopub.execute_input": "2022-03-26T12:51:32.799574Z",
     "iopub.status.busy": "2022-03-26T12:51:32.799137Z",
     "iopub.status.idle": "2022-03-26T12:51:32.822551Z",
     "shell.execute_reply": "2022-03-26T12:51:32.823184Z"
    },
    "papermill": {
     "duration": 0.04394,
     "end_time": "2022-03-26T12:51:32.823366",
     "exception": false,
     "start_time": "2022-03-26T12:51:32.779426",
     "status": "completed"
    },
    "tags": []
   },
   "outputs": [],
   "source": [
    "required_parameters = {\n",
    "    \"experiment_name\",\n",
    "    \"lr\",\n",
    "    \"device\",\n",
    "    \"seed\",\n",
    "    \"dataset_seed\",\n",
    "    \"labels_source\",\n",
    "    \"labels_target\",\n",
    "    \"domains_source\",\n",
    "    \"domains_target\",\n",
    "    \"num_examples_per_domain_per_label_source\",\n",
    "    \"num_examples_per_domain_per_label_target\",\n",
    "    \"n_shot\",\n",
    "    \"n_way\",\n",
    "    \"n_query\",\n",
    "    \"train_k_factor\",\n",
    "    \"val_k_factor\",\n",
    "    \"test_k_factor\",\n",
    "    \"n_epoch\",\n",
    "    \"patience\",\n",
    "    \"criteria_for_best\",\n",
    "    \"x_transforms_source\",\n",
    "    \"x_transforms_target\",\n",
    "    \"episode_transforms_source\",\n",
    "    \"episode_transforms_target\",\n",
    "    \"pickle_name\",\n",
    "    \"x_net\",\n",
    "    \"NUM_LOGS_PER_EPOCH\",\n",
    "    \"BEST_MODEL_PATH\",\n",
    "    \"torch_default_dtype\"\n",
    "}"
   ]
  },
  {
   "cell_type": "code",
   "execution_count": 3,
   "id": "fa3f0049",
   "metadata": {
    "execution": {
     "iopub.execute_input": "2022-03-26T12:51:32.873073Z",
     "iopub.status.busy": "2022-03-26T12:51:32.872148Z",
     "iopub.status.idle": "2022-03-26T12:51:32.895225Z",
     "shell.execute_reply": "2022-03-26T12:51:32.895879Z"
    },
    "papermill": {
     "duration": 0.053479,
     "end_time": "2022-03-26T12:51:32.896069",
     "exception": false,
     "start_time": "2022-03-26T12:51:32.842590",
     "status": "completed"
    },
    "tags": [
     "parameters"
    ]
   },
   "outputs": [],
   "source": [
    "\n",
    "\n",
    "standalone_parameters = {}\n",
    "standalone_parameters[\"experiment_name\"] = \"STANDALONE PTN\"\n",
    "standalone_parameters[\"lr\"] = 0.0001\n",
    "standalone_parameters[\"device\"] = \"cuda\"\n",
    "\n",
    "standalone_parameters[\"seed\"] = 1337\n",
    "standalone_parameters[\"dataset_seed\"] = 1337\n",
    "\n",
    "\n",
    "standalone_parameters[\"num_examples_per_domain_per_label_source\"]=100\n",
    "standalone_parameters[\"num_examples_per_domain_per_label_target\"]=100\n",
    "\n",
    "standalone_parameters[\"n_shot\"] = 3\n",
    "standalone_parameters[\"n_query\"]  = 2\n",
    "standalone_parameters[\"train_k_factor\"] = 1\n",
    "standalone_parameters[\"val_k_factor\"] = 2\n",
    "standalone_parameters[\"test_k_factor\"] = 2\n",
    "\n",
    "\n",
    "standalone_parameters[\"n_epoch\"] = 100\n",
    "\n",
    "standalone_parameters[\"patience\"] = 10\n",
    "standalone_parameters[\"criteria_for_best\"] = \"target_accuracy\"\n",
    "\n",
    "standalone_parameters[\"x_transforms_source\"] = [\"unit_power\"]\n",
    "standalone_parameters[\"x_transforms_target\"] = [\"unit_power\"]\n",
    "standalone_parameters[\"episode_transforms_source\"] = []\n",
    "standalone_parameters[\"episode_transforms_target\"] = []\n",
    "\n",
    "standalone_parameters[\"torch_default_dtype\"] = \"torch.float32\" \n",
    "\n",
    "\n",
    "\n",
    "standalone_parameters[\"x_net\"] =     [\n",
    "    {\"class\": \"nnReshape\", \"kargs\": {\"shape\":[-1, 1, 2, 256]}},\n",
    "    {\"class\": \"Conv2d\", \"kargs\": { \"in_channels\":1, \"out_channels\":256, \"kernel_size\":(1,7), \"bias\":False, \"padding\":(0,3), },},\n",
    "    {\"class\": \"ReLU\", \"kargs\": {\"inplace\": True}},\n",
    "    {\"class\": \"BatchNorm2d\", \"kargs\": {\"num_features\":256}},\n",
    "\n",
    "    {\"class\": \"Conv2d\", \"kargs\": { \"in_channels\":256, \"out_channels\":80, \"kernel_size\":(2,7), \"bias\":True, \"padding\":(0,3), },},\n",
    "    {\"class\": \"ReLU\", \"kargs\": {\"inplace\": True}},\n",
    "    {\"class\": \"BatchNorm2d\", \"kargs\": {\"num_features\":80}},\n",
    "    {\"class\": \"Flatten\", \"kargs\": {}},\n",
    "\n",
    "    {\"class\": \"Linear\", \"kargs\": {\"in_features\": 80*256, \"out_features\": 256}}, # 80 units per IQ pair\n",
    "    {\"class\": \"ReLU\", \"kargs\": {\"inplace\": True}},\n",
    "    {\"class\": \"BatchNorm1d\", \"kargs\": {\"num_features\":256}},\n",
    "\n",
    "    {\"class\": \"Linear\", \"kargs\": {\"in_features\": 256, \"out_features\": 256}},\n",
    "]\n",
    "\n",
    "# Parameters relevant to results\n",
    "# These parameters will basically never need to change\n",
    "standalone_parameters[\"NUM_LOGS_PER_EPOCH\"] = 10\n",
    "standalone_parameters[\"BEST_MODEL_PATH\"] = \"./best_model.pth\"\n",
    "\n",
    "# uncomment for CORES dataset\n",
    "from steves_utils.CORES.utils import (\n",
    "    ALL_NODES,\n",
    "    ALL_NODES_MINIMUM_1000_EXAMPLES,\n",
    "    ALL_DAYS\n",
    ")\n",
    "\n",
    "\n",
    "standalone_parameters[\"labels_source\"] = ALL_NODES\n",
    "standalone_parameters[\"labels_target\"] = ALL_NODES\n",
    "\n",
    "standalone_parameters[\"domains_source\"] = [1]\n",
    "standalone_parameters[\"domains_target\"] = [2,3,4,5]\n",
    "\n",
    "standalone_parameters[\"pickle_name\"] = \"cores.stratified_ds.2022A.pkl\"\n",
    "\n",
    "\n",
    "# Uncomment these for ORACLE dataset\n",
    "# from steves_utils.ORACLE.utils_v2 import (\n",
    "#     ALL_DISTANCES_FEET,\n",
    "#     ALL_RUNS,\n",
    "#     ALL_SERIAL_NUMBERS,\n",
    "# )\n",
    "# standalone_parameters[\"labels_source\"] = ALL_SERIAL_NUMBERS\n",
    "# standalone_parameters[\"labels_target\"] = ALL_SERIAL_NUMBERS\n",
    "# standalone_parameters[\"domains_source\"] = [8,20, 38,50]\n",
    "# standalone_parameters[\"domains_target\"] = [14, 26, 32, 44, 56]\n",
    "# standalone_parameters[\"pickle_name\"] = \"oracle.frame_indexed.stratified_ds.2022A.pkl\"\n",
    "# standalone_parameters[\"num_examples_per_domain_per_label_source\"]=1000\n",
    "# standalone_parameters[\"num_examples_per_domain_per_label_target\"]=1000\n",
    "\n",
    "# Uncomment these for Metahan dataset\n",
    "# standalone_parameters[\"labels_source\"] = list(range(19))\n",
    "# standalone_parameters[\"labels_target\"] = list(range(19))\n",
    "# standalone_parameters[\"domains_source\"] = [0]\n",
    "# standalone_parameters[\"domains_target\"] = [1]\n",
    "# standalone_parameters[\"pickle_name\"] = \"metehan.stratified_ds.2022A.pkl\"\n",
    "# standalone_parameters[\"n_way\"]  = len(standalone_parameters[\"labels_source\"])\n",
    "# standalone_parameters[\"num_examples_per_domain_per_label_source\"]=200\n",
    "# standalone_parameters[\"num_examples_per_domain_per_label_target\"]=100\n",
    "\n",
    "\n",
    "standalone_parameters[\"n_way\"]  = len(standalone_parameters[\"labels_source\"])"
   ]
  },
  {
   "cell_type": "code",
   "execution_count": 4,
   "id": "177ba699",
   "metadata": {
    "execution": {
     "iopub.execute_input": "2022-03-26T12:51:32.943687Z",
     "iopub.status.busy": "2022-03-26T12:51:32.937150Z",
     "iopub.status.idle": "2022-03-26T12:51:32.965515Z",
     "shell.execute_reply": "2022-03-26T12:51:32.966187Z"
    },
    "papermill": {
     "duration": 0.051421,
     "end_time": "2022-03-26T12:51:32.966376",
     "exception": false,
     "start_time": "2022-03-26T12:51:32.914955",
     "status": "completed"
    },
    "tags": [
     "injected-parameters"
    ]
   },
   "outputs": [],
   "source": [
    "# Parameters\n",
    "parameters = {\n",
    "    \"experiment_name\": \"tuned_1v2:oracle.run2.framed\",\n",
    "    \"device\": \"cuda\",\n",
    "    \"lr\": 0.0001,\n",
    "    \"labels_source\": [\n",
    "        \"3123D52\",\n",
    "        \"3123D65\",\n",
    "        \"3123D79\",\n",
    "        \"3123D80\",\n",
    "        \"3123D54\",\n",
    "        \"3123D70\",\n",
    "        \"3123D7B\",\n",
    "        \"3123D89\",\n",
    "        \"3123D58\",\n",
    "        \"3123D76\",\n",
    "        \"3123D7D\",\n",
    "        \"3123EFE\",\n",
    "        \"3123D64\",\n",
    "        \"3123D78\",\n",
    "        \"3123D7E\",\n",
    "        \"3124E4A\",\n",
    "    ],\n",
    "    \"labels_target\": [\n",
    "        \"3123D52\",\n",
    "        \"3123D65\",\n",
    "        \"3123D79\",\n",
    "        \"3123D80\",\n",
    "        \"3123D54\",\n",
    "        \"3123D70\",\n",
    "        \"3123D7B\",\n",
    "        \"3123D89\",\n",
    "        \"3123D58\",\n",
    "        \"3123D76\",\n",
    "        \"3123D7D\",\n",
    "        \"3123EFE\",\n",
    "        \"3123D64\",\n",
    "        \"3123D78\",\n",
    "        \"3123D7E\",\n",
    "        \"3124E4A\",\n",
    "    ],\n",
    "    \"episode_transforms_source\": [],\n",
    "    \"episode_transforms_target\": [],\n",
    "    \"domains_source\": [8, 32, 50],\n",
    "    \"domains_target\": [14, 20, 26, 38, 44],\n",
    "    \"num_examples_per_domain_per_label_source\": -1,\n",
    "    \"num_examples_per_domain_per_label_target\": -1,\n",
    "    \"n_shot\": 3,\n",
    "    \"n_way\": 16,\n",
    "    \"n_query\": 2,\n",
    "    \"train_k_factor\": 3,\n",
    "    \"val_k_factor\": 2,\n",
    "    \"test_k_factor\": 2,\n",
    "    \"torch_default_dtype\": \"torch.float32\",\n",
    "    \"n_epoch\": 50,\n",
    "    \"patience\": 3,\n",
    "    \"criteria_for_best\": \"target_accuracy\",\n",
    "    \"x_net\": [\n",
    "        {\"class\": \"nnReshape\", \"kargs\": {\"shape\": [-1, 1, 2, 256]}},\n",
    "        {\n",
    "            \"class\": \"Conv2d\",\n",
    "            \"kargs\": {\n",
    "                \"in_channels\": 1,\n",
    "                \"out_channels\": 256,\n",
    "                \"kernel_size\": [1, 7],\n",
    "                \"bias\": False,\n",
    "                \"padding\": [0, 3],\n",
    "            },\n",
    "        },\n",
    "        {\"class\": \"ReLU\", \"kargs\": {\"inplace\": True}},\n",
    "        {\"class\": \"BatchNorm2d\", \"kargs\": {\"num_features\": 256}},\n",
    "        {\n",
    "            \"class\": \"Conv2d\",\n",
    "            \"kargs\": {\n",
    "                \"in_channels\": 256,\n",
    "                \"out_channels\": 80,\n",
    "                \"kernel_size\": [2, 7],\n",
    "                \"bias\": True,\n",
    "                \"padding\": [0, 3],\n",
    "            },\n",
    "        },\n",
    "        {\"class\": \"ReLU\", \"kargs\": {\"inplace\": True}},\n",
    "        {\"class\": \"BatchNorm2d\", \"kargs\": {\"num_features\": 80}},\n",
    "        {\"class\": \"Flatten\", \"kargs\": {}},\n",
    "        {\"class\": \"Linear\", \"kargs\": {\"in_features\": 20480, \"out_features\": 256}},\n",
    "        {\"class\": \"ReLU\", \"kargs\": {\"inplace\": True}},\n",
    "        {\"class\": \"BatchNorm1d\", \"kargs\": {\"num_features\": 256}},\n",
    "        {\"class\": \"Linear\", \"kargs\": {\"in_features\": 256, \"out_features\": 256}},\n",
    "    ],\n",
    "    \"NUM_LOGS_PER_EPOCH\": 10,\n",
    "    \"BEST_MODEL_PATH\": \"./best_model.pth\",\n",
    "    \"pickle_name\": \"oracle.Run2_framed_2000Examples_stratified_ds.2022A.pkl\",\n",
    "    \"x_transforms_source\": [\"unit_mag\"],\n",
    "    \"x_transforms_target\": [\"unit_mag\"],\n",
    "    \"dataset_seed\": 1337,\n",
    "    \"seed\": 1337,\n",
    "}\n"
   ]
  },
  {
   "cell_type": "code",
   "execution_count": 5,
   "id": "8fa1cc33",
   "metadata": {
    "execution": {
     "iopub.execute_input": "2022-03-26T12:51:33.007729Z",
     "iopub.status.busy": "2022-03-26T12:51:33.007076Z",
     "iopub.status.idle": "2022-03-26T12:51:33.031281Z",
     "shell.execute_reply": "2022-03-26T12:51:33.030588Z"
    },
    "papermill": {
     "duration": 0.045358,
     "end_time": "2022-03-26T12:51:33.031440",
     "exception": false,
     "start_time": "2022-03-26T12:51:32.986082",
     "status": "completed"
    },
    "tags": []
   },
   "outputs": [],
   "source": [
    "# Set this to True if you want to run this template directly\n",
    "STANDALONE = False\n",
    "if STANDALONE:\n",
    "    print(\"parameters not injected, running with standalone_parameters\")\n",
    "    parameters = standalone_parameters\n",
    "\n",
    "if not 'parameters' in locals() and not 'parameters' in globals():\n",
    "    raise Exception(\"Parameter injection failed\")\n",
    "\n",
    "#Use an easy dict for all the parameters\n",
    "p = EasyDict(parameters)\n",
    "\n",
    "supplied_keys = set(p.keys())\n",
    "\n",
    "if  supplied_keys != required_parameters:\n",
    "    print(\"Parameters are incorrect\")\n",
    "    if len(supplied_keys - required_parameters)>0: print(\"Shouldn't have:\", str(supplied_keys - required_parameters))\n",
    "    if len(required_parameters - supplied_keys)>0: print(\"Need to have:\", str(required_parameters - supplied_keys))\n",
    "    raise RuntimeError(\"Parameters are incorrect\")\n",
    "\n"
   ]
  },
  {
   "cell_type": "code",
   "execution_count": 6,
   "id": "3a028d58",
   "metadata": {
    "execution": {
     "iopub.execute_input": "2022-03-26T12:51:33.071070Z",
     "iopub.status.busy": "2022-03-26T12:51:33.070699Z",
     "iopub.status.idle": "2022-03-26T12:51:33.095279Z",
     "shell.execute_reply": "2022-03-26T12:51:33.095970Z"
    },
    "papermill": {
     "duration": 0.043066,
     "end_time": "2022-03-26T12:51:33.096144",
     "exception": false,
     "start_time": "2022-03-26T12:51:33.053078",
     "status": "completed"
    },
    "tags": []
   },
   "outputs": [],
   "source": [
    "###################################\n",
    "# Set the RNGs and make it all deterministic\n",
    "###################################\n",
    "np.random.seed(p.seed)\n",
    "random.seed(p.seed)\n",
    "torch.manual_seed(p.seed)\n",
    "\n",
    "torch.use_deterministic_algorithms(True) "
   ]
  },
  {
   "cell_type": "code",
   "execution_count": 7,
   "id": "b691acf6",
   "metadata": {
    "execution": {
     "iopub.execute_input": "2022-03-26T12:51:33.138058Z",
     "iopub.status.busy": "2022-03-26T12:51:33.137435Z",
     "iopub.status.idle": "2022-03-26T12:51:33.163192Z",
     "shell.execute_reply": "2022-03-26T12:51:33.163907Z"
    },
    "papermill": {
     "duration": 0.044491,
     "end_time": "2022-03-26T12:51:33.164084",
     "exception": false,
     "start_time": "2022-03-26T12:51:33.119593",
     "status": "completed"
    },
    "tags": []
   },
   "outputs": [],
   "source": [
    "###########################################\n",
    "# The stratified datasets honor this\n",
    "###########################################\n",
    "torch.set_default_dtype(eval(p.torch_default_dtype))"
   ]
  },
  {
   "cell_type": "code",
   "execution_count": 8,
   "id": "b5fba671",
   "metadata": {
    "execution": {
     "iopub.execute_input": "2022-03-26T12:51:33.202921Z",
     "iopub.status.busy": "2022-03-26T12:51:33.202553Z",
     "iopub.status.idle": "2022-03-26T12:51:33.257873Z",
     "shell.execute_reply": "2022-03-26T12:51:33.258504Z"
    },
    "papermill": {
     "duration": 0.072937,
     "end_time": "2022-03-26T12:51:33.258681",
     "exception": false,
     "start_time": "2022-03-26T12:51:33.185744",
     "status": "completed"
    },
    "tags": []
   },
   "outputs": [],
   "source": [
    "###################################\n",
    "# Build the network(s)\n",
    "# Note: It's critical to do this AFTER setting the RNG\n",
    "# (This is due to the randomized initial weights)\n",
    "###################################\n",
    "x_net = build_sequential(p.x_net)"
   ]
  },
  {
   "cell_type": "code",
   "execution_count": 9,
   "id": "5d7e61cc",
   "metadata": {
    "execution": {
     "iopub.execute_input": "2022-03-26T12:51:33.296822Z",
     "iopub.status.busy": "2022-03-26T12:51:33.296408Z",
     "iopub.status.idle": "2022-03-26T12:51:33.317989Z",
     "shell.execute_reply": "2022-03-26T12:51:33.318655Z"
    },
    "papermill": {
     "duration": 0.040018,
     "end_time": "2022-03-26T12:51:33.318828",
     "exception": false,
     "start_time": "2022-03-26T12:51:33.278810",
     "status": "completed"
    },
    "tags": []
   },
   "outputs": [],
   "source": [
    "start_time_secs = time.time()"
   ]
  },
  {
   "cell_type": "code",
   "execution_count": 10,
   "id": "fd5442bc",
   "metadata": {
    "execution": {
     "iopub.execute_input": "2022-03-26T12:51:33.371479Z",
     "iopub.status.busy": "2022-03-26T12:51:33.368736Z",
     "iopub.status.idle": "2022-03-26T12:51:55.208200Z",
     "shell.execute_reply": "2022-03-26T12:51:55.207389Z"
    },
    "papermill": {
     "duration": 21.86731,
     "end_time": "2022-03-26T12:51:55.208381",
     "exception": false,
     "start_time": "2022-03-26T12:51:33.341071",
     "status": "completed"
    },
    "tags": []
   },
   "outputs": [],
   "source": [
    "###################################\n",
    "# Build the dataset\n",
    "###################################\n",
    "\n",
    "if p.x_transforms_source == []: x_transform_source = None\n",
    "else: x_transform_source = get_chained_transform(p.x_transforms_source) \n",
    "\n",
    "if p.x_transforms_target == []: x_transform_target = None\n",
    "else: x_transform_target = get_chained_transform(p.x_transforms_target)\n",
    "\n",
    "if p.episode_transforms_source == []: episode_transform_source = None\n",
    "else: raise Exception(\"episode_transform_source not implemented\")\n",
    "\n",
    "if p.episode_transforms_target == []: episode_transform_target = None\n",
    "else: raise Exception(\"episode_transform_target not implemented\")\n",
    "\n",
    "\n",
    "eaf_source = Episodic_Accessor_Factory(\n",
    "    labels=p.labels_source,\n",
    "    domains=p.domains_source,\n",
    "    num_examples_per_domain_per_label=p.num_examples_per_domain_per_label_source,\n",
    "    iterator_seed=p.seed,\n",
    "    dataset_seed=p.dataset_seed,\n",
    "    n_shot=p.n_shot,\n",
    "    n_way=p.n_way,\n",
    "    n_query=p.n_query,\n",
    "    train_val_test_k_factors=(p.train_k_factor,p.val_k_factor,p.test_k_factor),\n",
    "    pickle_path=os.path.join(get_datasets_base_path(), p.pickle_name),\n",
    "    x_transform_func=x_transform_source,\n",
    "    example_transform_func=episode_transform_source,\n",
    "    \n",
    ")\n",
    "train_original_source, val_original_source, test_original_source = eaf_source.get_train(), eaf_source.get_val(), eaf_source.get_test()\n",
    "\n",
    "\n",
    "eaf_target = Episodic_Accessor_Factory(\n",
    "    labels=p.labels_target,\n",
    "    domains=p.domains_target,\n",
    "    num_examples_per_domain_per_label=p.num_examples_per_domain_per_label_target,\n",
    "    iterator_seed=p.seed,\n",
    "    dataset_seed=p.dataset_seed,\n",
    "    n_shot=p.n_shot,\n",
    "    n_way=p.n_way,\n",
    "    n_query=p.n_query,\n",
    "    train_val_test_k_factors=(p.train_k_factor,p.val_k_factor,p.test_k_factor),\n",
    "    pickle_path=os.path.join(get_datasets_base_path(), p.pickle_name),\n",
    "    x_transform_func=x_transform_target,\n",
    "    example_transform_func=episode_transform_target,\n",
    ")\n",
    "train_original_target, val_original_target, test_original_target = eaf_target.get_train(), eaf_target.get_val(), eaf_target.get_test()\n",
    "\n",
    "\n",
    "transform_lambda = lambda ex: ex[1] # Original is (<domain>, <episode>) so we strip down to episode only\n",
    "\n",
    "train_processed_source = Lazy_Iterable_Wrapper(train_original_source, transform_lambda)\n",
    "val_processed_source   = Lazy_Iterable_Wrapper(val_original_source, transform_lambda)\n",
    "test_processed_source  = Lazy_Iterable_Wrapper(test_original_source, transform_lambda)\n",
    "\n",
    "train_processed_target = Lazy_Iterable_Wrapper(train_original_target, transform_lambda)\n",
    "val_processed_target   = Lazy_Iterable_Wrapper(val_original_target, transform_lambda)\n",
    "test_processed_target  = Lazy_Iterable_Wrapper(test_original_target, transform_lambda)\n",
    "\n",
    "datasets = EasyDict({\n",
    "    \"source\": {\n",
    "        \"original\": {\"train\":train_original_source, \"val\":val_original_source, \"test\":test_original_source},\n",
    "        \"processed\": {\"train\":train_processed_source, \"val\":val_processed_source, \"test\":test_processed_source}\n",
    "    },\n",
    "    \"target\": {\n",
    "        \"original\": {\"train\":train_original_target, \"val\":val_original_target, \"test\":test_original_target},\n",
    "        \"processed\": {\"train\":train_processed_target, \"val\":val_processed_target, \"test\":test_processed_target}\n",
    "    },\n",
    "})"
   ]
  },
  {
   "cell_type": "code",
   "execution_count": 11,
   "id": "296189d9",
   "metadata": {
    "execution": {
     "iopub.execute_input": "2022-03-26T12:51:55.251564Z",
     "iopub.status.busy": "2022-03-26T12:51:55.251157Z",
     "iopub.status.idle": "2022-03-26T12:52:00.818957Z",
     "shell.execute_reply": "2022-03-26T12:52:00.818087Z"
    },
    "papermill": {
     "duration": 5.588989,
     "end_time": "2022-03-26T12:52:00.819132",
     "exception": false,
     "start_time": "2022-03-26T12:51:55.230143",
     "status": "completed"
    },
    "tags": []
   },
   "outputs": [
    {
     "name": "stdout",
     "output_type": "stream",
     "text": [
      "Visually inspect these to see if they line up with expected values given the transforms\n",
      "x_transforms_source ['unit_mag']\n",
      "x_transforms_target ['unit_mag']\n",
      "Average magnitude, source: 1.0\n",
      "Average power, source: 1.0890527\n"
     ]
    },
    {
     "name": "stdout",
     "output_type": "stream",
     "text": [
      "Average magnitude, target: 1.0\n",
      "Average power, target: 1.0959702\n"
     ]
    }
   ],
   "source": [
    "# Some quick unit tests on the data\n",
    "from steves_utils.transforms import get_average_power, get_average_magnitude\n",
    "\n",
    "q_x, q_y, s_x, s_y, truth = next(iter(train_processed_source))\n",
    "\n",
    "assert q_x.dtype == eval(p.torch_default_dtype)\n",
    "assert s_x.dtype == eval(p.torch_default_dtype)\n",
    "\n",
    "print(\"Visually inspect these to see if they line up with expected values given the transforms\")\n",
    "print('x_transforms_source', p.x_transforms_source)\n",
    "print('x_transforms_target', p.x_transforms_target)\n",
    "print(\"Average magnitude, source:\", get_average_magnitude(q_x[0].numpy()))\n",
    "print(\"Average power, source:\", get_average_power(q_x[0].numpy()))\n",
    "\n",
    "q_x, q_y, s_x, s_y, truth = next(iter(train_processed_target))\n",
    "print(\"Average magnitude, target:\", get_average_magnitude(q_x[0].numpy()))\n",
    "print(\"Average power, target:\", get_average_power(q_x[0].numpy()))\n"
   ]
  },
  {
   "cell_type": "code",
   "execution_count": 12,
   "id": "bbdacba1",
   "metadata": {
    "execution": {
     "iopub.execute_input": "2022-03-26T12:52:00.858948Z",
     "iopub.status.busy": "2022-03-26T12:52:00.857510Z",
     "iopub.status.idle": "2022-03-26T12:52:00.973565Z",
     "shell.execute_reply": "2022-03-26T12:52:00.974262Z"
    },
    "papermill": {
     "duration": 0.136915,
     "end_time": "2022-03-26T12:52:00.974499",
     "exception": false,
     "start_time": "2022-03-26T12:52:00.837584",
     "status": "completed"
    },
    "tags": []
   },
   "outputs": [
    {
     "name": "stdout",
     "output_type": "stream",
     "text": [
      "(2, 256)\n"
     ]
    }
   ],
   "source": [
    "###################################\n",
    "# Build the model\n",
    "###################################\n",
    "model = Steves_Prototypical_Network(x_net, device=p.device, x_shape=(2,256))\n",
    "optimizer = Adam(params=model.parameters(), lr=p.lr)"
   ]
  },
  {
   "cell_type": "code",
   "execution_count": 13,
   "id": "22b39ac5",
   "metadata": {
    "execution": {
     "iopub.execute_input": "2022-03-26T12:52:01.015394Z",
     "iopub.status.busy": "2022-03-26T12:52:01.014995Z",
     "iopub.status.idle": "2022-03-26T13:01:58.656787Z",
     "shell.execute_reply": "2022-03-26T13:01:58.656436Z"
    },
    "papermill": {
     "duration": 597.663095,
     "end_time": "2022-03-26T13:01:58.656875",
     "exception": false,
     "start_time": "2022-03-26T12:52:00.993780",
     "status": "completed"
    },
    "tags": []
   },
   "outputs": [
    {
     "name": "stdout",
     "output_type": "stream",
     "text": [
      "epoch: 1, [batch: 1 / 2520], examples_per_second: 80.9338, train_label_loss: 2.8047, \n"
     ]
    },
    {
     "name": "stdout",
     "output_type": "stream",
     "text": [
      "epoch: 1, [batch: 252 / 2520], examples_per_second: 3909.6991, train_label_loss: 1.6188, \n"
     ]
    },
    {
     "name": "stdout",
     "output_type": "stream",
     "text": [
      "epoch: 1, [batch: 504 / 2520], examples_per_second: 4303.3561, train_label_loss: 1.8047, \n"
     ]
    },
    {
     "name": "stdout",
     "output_type": "stream",
     "text": [
      "epoch: 1, [batch: 756 / 2520], examples_per_second: 4502.3867, train_label_loss: 0.8942, \n"
     ]
    },
    {
     "name": "stdout",
     "output_type": "stream",
     "text": [
      "epoch: 1, [batch: 1008 / 2520], examples_per_second: 4592.3880, train_label_loss: 0.6678, \n"
     ]
    },
    {
     "name": "stdout",
     "output_type": "stream",
     "text": [
      "epoch: 1, [batch: 1260 / 2520], examples_per_second: 4339.4774, train_label_loss: 0.7616, \n"
     ]
    },
    {
     "name": "stdout",
     "output_type": "stream",
     "text": [
      "epoch: 1, [batch: 1512 / 2520], examples_per_second: 3934.8949, train_label_loss: 0.5553, \n"
     ]
    },
    {
     "name": "stdout",
     "output_type": "stream",
     "text": [
      "epoch: 1, [batch: 1764 / 2520], examples_per_second: 3949.9301, train_label_loss: 0.7394, \n"
     ]
    },
    {
     "name": "stdout",
     "output_type": "stream",
     "text": [
      "epoch: 1, [batch: 2016 / 2520], examples_per_second: 3936.0351, train_label_loss: 0.6256, \n"
     ]
    },
    {
     "name": "stdout",
     "output_type": "stream",
     "text": [
      "epoch: 1, [batch: 2268 / 2520], examples_per_second: 3944.7835, train_label_loss: 0.6220, \n"
     ]
    },
    {
     "name": "stdout",
     "output_type": "stream",
     "text": [
      "=============================================================\n",
      "epoch: 1, source_val_acc_label: 0.6959, target_val_acc_label: 0.5558, source_val_label_loss: 18.6410, target_val_label_loss: 21.5685, \n",
      "=============================================================\n"
     ]
    },
    {
     "name": "stdout",
     "output_type": "stream",
     "text": [
      "New best\n"
     ]
    },
    {
     "name": "stdout",
     "output_type": "stream",
     "text": [
      "epoch: 2, [batch: 1 / 2520], examples_per_second: 8.6602, train_label_loss: 7.7600, \n"
     ]
    },
    {
     "name": "stdout",
     "output_type": "stream",
     "text": [
      "epoch: 2, [batch: 252 / 2520], examples_per_second: 4061.4430, train_label_loss: 1.1029, \n"
     ]
    },
    {
     "name": "stdout",
     "output_type": "stream",
     "text": [
      "epoch: 2, [batch: 504 / 2520], examples_per_second: 4341.5129, train_label_loss: 0.6995, \n"
     ]
    },
    {
     "name": "stdout",
     "output_type": "stream",
     "text": [
      "epoch: 2, [batch: 756 / 2520], examples_per_second: 4554.3743, train_label_loss: 0.9796, \n"
     ]
    },
    {
     "name": "stdout",
     "output_type": "stream",
     "text": [
      "epoch: 2, [batch: 1008 / 2520], examples_per_second: 4640.2846, train_label_loss: 0.5866, \n"
     ]
    },
    {
     "name": "stdout",
     "output_type": "stream",
     "text": [
      "epoch: 2, [batch: 1260 / 2520], examples_per_second: 4531.3001, train_label_loss: 0.5386, \n"
     ]
    },
    {
     "name": "stdout",
     "output_type": "stream",
     "text": [
      "epoch: 2, [batch: 1512 / 2520], examples_per_second: 3911.5087, train_label_loss: 0.3998, \n"
     ]
    },
    {
     "name": "stdout",
     "output_type": "stream",
     "text": [
      "epoch: 2, [batch: 1764 / 2520], examples_per_second: 3853.4083, train_label_loss: 0.6092, \n"
     ]
    },
    {
     "name": "stdout",
     "output_type": "stream",
     "text": [
      "epoch: 2, [batch: 2016 / 2520], examples_per_second: 3870.0419, train_label_loss: 0.6145, \n"
     ]
    },
    {
     "name": "stdout",
     "output_type": "stream",
     "text": [
      "epoch: 2, [batch: 2268 / 2520], examples_per_second: 3951.5922, train_label_loss: 0.4475, \n"
     ]
    },
    {
     "name": "stdout",
     "output_type": "stream",
     "text": [
      "=============================================================\n",
      "epoch: 2, source_val_acc_label: 0.7839, target_val_acc_label: 0.6722, source_val_label_loss: 0.5757, target_val_label_loss: 4.5575, \n",
      "=============================================================\n"
     ]
    },
    {
     "name": "stdout",
     "output_type": "stream",
     "text": [
      "New best\n"
     ]
    },
    {
     "name": "stdout",
     "output_type": "stream",
     "text": [
      "epoch: 3, [batch: 1 / 2520], examples_per_second: 8.5430, train_label_loss: 0.6087, \n"
     ]
    },
    {
     "name": "stdout",
     "output_type": "stream",
     "text": [
      "epoch: 3, [batch: 252 / 2520], examples_per_second: 3977.0802, train_label_loss: 0.4890, \n"
     ]
    },
    {
     "name": "stdout",
     "output_type": "stream",
     "text": [
      "epoch: 3, [batch: 504 / 2520], examples_per_second: 4266.3626, train_label_loss: 0.1873, \n"
     ]
    },
    {
     "name": "stdout",
     "output_type": "stream",
     "text": [
      "epoch: 3, [batch: 756 / 2520], examples_per_second: 4646.1540, train_label_loss: 0.4447, \n"
     ]
    },
    {
     "name": "stdout",
     "output_type": "stream",
     "text": [
      "epoch: 3, [batch: 1008 / 2520], examples_per_second: 4438.2434, train_label_loss: 0.6537, \n"
     ]
    },
    {
     "name": "stdout",
     "output_type": "stream",
     "text": [
      "epoch: 3, [batch: 1260 / 2520], examples_per_second: 4683.0712, train_label_loss: 0.6550, \n"
     ]
    },
    {
     "name": "stdout",
     "output_type": "stream",
     "text": [
      "epoch: 3, [batch: 1512 / 2520], examples_per_second: 3885.0546, train_label_loss: 0.3703, \n"
     ]
    },
    {
     "name": "stdout",
     "output_type": "stream",
     "text": [
      "epoch: 3, [batch: 1764 / 2520], examples_per_second: 3862.4334, train_label_loss: 0.4242, \n"
     ]
    },
    {
     "name": "stdout",
     "output_type": "stream",
     "text": [
      "epoch: 3, [batch: 2016 / 2520], examples_per_second: 3895.4187, train_label_loss: 0.4161, \n"
     ]
    },
    {
     "name": "stdout",
     "output_type": "stream",
     "text": [
      "epoch: 3, [batch: 2268 / 2520], examples_per_second: 3856.3185, train_label_loss: 0.4484, \n"
     ]
    },
    {
     "name": "stdout",
     "output_type": "stream",
     "text": [
      "=============================================================\n",
      "epoch: 3, source_val_acc_label: 0.8286, target_val_acc_label: 0.7197, source_val_label_loss: 0.4646, target_val_label_loss: 6.1575, \n",
      "=============================================================\n"
     ]
    },
    {
     "name": "stdout",
     "output_type": "stream",
     "text": [
      "New best\n"
     ]
    },
    {
     "name": "stdout",
     "output_type": "stream",
     "text": [
      "epoch: 4, [batch: 1 / 2520], examples_per_second: 8.5979, train_label_loss: 0.4822, \n"
     ]
    },
    {
     "name": "stdout",
     "output_type": "stream",
     "text": [
      "epoch: 4, [batch: 252 / 2520], examples_per_second: 3986.2047, train_label_loss: 0.4280, \n"
     ]
    },
    {
     "name": "stdout",
     "output_type": "stream",
     "text": [
      "epoch: 4, [batch: 504 / 2520], examples_per_second: 4146.9437, train_label_loss: 0.4032, \n"
     ]
    },
    {
     "name": "stdout",
     "output_type": "stream",
     "text": [
      "epoch: 4, [batch: 756 / 2520], examples_per_second: 4558.9418, train_label_loss: 0.6193, \n"
     ]
    },
    {
     "name": "stdout",
     "output_type": "stream",
     "text": [
      "epoch: 4, [batch: 1008 / 2520], examples_per_second: 4401.2476, train_label_loss: 0.4332, \n"
     ]
    },
    {
     "name": "stdout",
     "output_type": "stream",
     "text": [
      "epoch: 4, [batch: 1260 / 2520], examples_per_second: 4777.5181, train_label_loss: 0.4067, \n"
     ]
    },
    {
     "name": "stdout",
     "output_type": "stream",
     "text": [
      "epoch: 4, [batch: 1512 / 2520], examples_per_second: 3920.8273, train_label_loss: 0.5989, \n"
     ]
    },
    {
     "name": "stdout",
     "output_type": "stream",
     "text": [
      "epoch: 4, [batch: 1764 / 2520], examples_per_second: 3919.2150, train_label_loss: 0.2536, \n"
     ]
    },
    {
     "name": "stdout",
     "output_type": "stream",
     "text": [
      "epoch: 4, [batch: 2016 / 2520], examples_per_second: 3917.9737, train_label_loss: 0.1715, \n"
     ]
    },
    {
     "name": "stdout",
     "output_type": "stream",
     "text": [
      "epoch: 4, [batch: 2268 / 2520], examples_per_second: 3914.9078, train_label_loss: 0.4264, \n"
     ]
    },
    {
     "name": "stdout",
     "output_type": "stream",
     "text": [
      "=============================================================\n",
      "epoch: 4, source_val_acc_label: 0.8632, target_val_acc_label: 0.7299, source_val_label_loss: 0.3728, target_val_label_loss: 4.6954, \n",
      "=============================================================\n"
     ]
    },
    {
     "name": "stdout",
     "output_type": "stream",
     "text": [
      "New best\n"
     ]
    },
    {
     "name": "stdout",
     "output_type": "stream",
     "text": [
      "epoch: 5, [batch: 1 / 2520], examples_per_second: 8.4411, train_label_loss: 0.3227, \n"
     ]
    },
    {
     "name": "stdout",
     "output_type": "stream",
     "text": [
      "epoch: 5, [batch: 252 / 2520], examples_per_second: 3885.9140, train_label_loss: 0.5757, \n"
     ]
    },
    {
     "name": "stdout",
     "output_type": "stream",
     "text": [
      "epoch: 5, [batch: 504 / 2520], examples_per_second: 4069.7957, train_label_loss: 0.3548, \n"
     ]
    },
    {
     "name": "stdout",
     "output_type": "stream",
     "text": [
      "epoch: 5, [batch: 756 / 2520], examples_per_second: 4391.2243, train_label_loss: 0.3613, \n"
     ]
    },
    {
     "name": "stdout",
     "output_type": "stream",
     "text": [
      "epoch: 5, [batch: 1008 / 2520], examples_per_second: 4229.8903, train_label_loss: 0.3050, \n"
     ]
    },
    {
     "name": "stdout",
     "output_type": "stream",
     "text": [
      "epoch: 5, [batch: 1260 / 2520], examples_per_second: 4503.2802, train_label_loss: 0.3285, \n"
     ]
    },
    {
     "name": "stdout",
     "output_type": "stream",
     "text": [
      "epoch: 5, [batch: 1512 / 2520], examples_per_second: 3925.8880, train_label_loss: 0.3279, \n"
     ]
    },
    {
     "name": "stdout",
     "output_type": "stream",
     "text": [
      "epoch: 5, [batch: 1764 / 2520], examples_per_second: 3970.9389, train_label_loss: 0.1982, \n"
     ]
    },
    {
     "name": "stdout",
     "output_type": "stream",
     "text": [
      "epoch: 5, [batch: 2016 / 2520], examples_per_second: 3951.7510, train_label_loss: 0.0745, \n"
     ]
    },
    {
     "name": "stdout",
     "output_type": "stream",
     "text": [
      "epoch: 5, [batch: 2268 / 2520], examples_per_second: 3941.5013, train_label_loss: 0.1730, \n"
     ]
    },
    {
     "name": "stdout",
     "output_type": "stream",
     "text": [
      "=============================================================\n",
      "epoch: 5, source_val_acc_label: 0.8687, target_val_acc_label: 0.7404, source_val_label_loss: 0.3601, target_val_label_loss: 6.3227, \n",
      "=============================================================\n"
     ]
    },
    {
     "name": "stdout",
     "output_type": "stream",
     "text": [
      "New best\n"
     ]
    },
    {
     "name": "stdout",
     "output_type": "stream",
     "text": [
      "epoch: 6, [batch: 1 / 2520], examples_per_second: 8.7808, train_label_loss: 0.2423, \n"
     ]
    },
    {
     "name": "stdout",
     "output_type": "stream",
     "text": [
      "epoch: 6, [batch: 252 / 2520], examples_per_second: 4031.8089, train_label_loss: 0.5725, \n"
     ]
    },
    {
     "name": "stdout",
     "output_type": "stream",
     "text": [
      "epoch: 6, [batch: 504 / 2520], examples_per_second: 4198.6772, train_label_loss: 0.3243, \n"
     ]
    },
    {
     "name": "stdout",
     "output_type": "stream",
     "text": [
      "epoch: 6, [batch: 756 / 2520], examples_per_second: 4530.2720, train_label_loss: 0.2928, \n"
     ]
    },
    {
     "name": "stdout",
     "output_type": "stream",
     "text": [
      "epoch: 6, [batch: 1008 / 2520], examples_per_second: 4376.7092, train_label_loss: 0.4277, \n"
     ]
    },
    {
     "name": "stdout",
     "output_type": "stream",
     "text": [
      "epoch: 6, [batch: 1260 / 2520], examples_per_second: 4687.5519, train_label_loss: 0.3219, \n"
     ]
    },
    {
     "name": "stdout",
     "output_type": "stream",
     "text": [
      "epoch: 6, [batch: 1512 / 2520], examples_per_second: 4393.1747, train_label_loss: 0.4726, \n"
     ]
    },
    {
     "name": "stdout",
     "output_type": "stream",
     "text": [
      "epoch: 6, [batch: 1764 / 2520], examples_per_second: 4353.1865, train_label_loss: 0.2447, \n"
     ]
    },
    {
     "name": "stdout",
     "output_type": "stream",
     "text": [
      "epoch: 6, [batch: 2016 / 2520], examples_per_second: 4611.6046, train_label_loss: 0.2291, \n"
     ]
    },
    {
     "name": "stdout",
     "output_type": "stream",
     "text": [
      "epoch: 6, [batch: 2268 / 2520], examples_per_second: 4392.8563, train_label_loss: 0.2443, \n"
     ]
    },
    {
     "name": "stdout",
     "output_type": "stream",
     "text": [
      "=============================================================\n",
      "epoch: 6, source_val_acc_label: 0.8960, target_val_acc_label: 0.7738, source_val_label_loss: 0.2757, target_val_label_loss: 6.3598, \n",
      "=============================================================\n"
     ]
    },
    {
     "name": "stdout",
     "output_type": "stream",
     "text": [
      "New best\n"
     ]
    },
    {
     "name": "stdout",
     "output_type": "stream",
     "text": [
      "epoch: 7, [batch: 1 / 2520], examples_per_second: 9.5191, train_label_loss: 0.1807, \n"
     ]
    },
    {
     "name": "stdout",
     "output_type": "stream",
     "text": [
      "epoch: 7, [batch: 252 / 2520], examples_per_second: 4890.2922, train_label_loss: 0.3877, \n"
     ]
    },
    {
     "name": "stdout",
     "output_type": "stream",
     "text": [
      "epoch: 7, [batch: 504 / 2520], examples_per_second: 5338.5199, train_label_loss: 0.2062, \n"
     ]
    },
    {
     "name": "stdout",
     "output_type": "stream",
     "text": [
      "epoch: 7, [batch: 756 / 2520], examples_per_second: 5384.7420, train_label_loss: 0.2403, \n"
     ]
    },
    {
     "name": "stdout",
     "output_type": "stream",
     "text": [
      "epoch: 7, [batch: 1008 / 2520], examples_per_second: 5243.8164, train_label_loss: 0.3442, \n"
     ]
    },
    {
     "name": "stdout",
     "output_type": "stream",
     "text": [
      "epoch: 7, [batch: 1260 / 2520], examples_per_second: 5343.2336, train_label_loss: 0.3942, \n"
     ]
    },
    {
     "name": "stdout",
     "output_type": "stream",
     "text": [
      "epoch: 7, [batch: 1512 / 2520], examples_per_second: 5557.1666, train_label_loss: 0.1602, \n"
     ]
    },
    {
     "name": "stdout",
     "output_type": "stream",
     "text": [
      "epoch: 7, [batch: 1764 / 2520], examples_per_second: 5401.6482, train_label_loss: 0.2090, \n"
     ]
    },
    {
     "name": "stdout",
     "output_type": "stream",
     "text": [
      "epoch: 7, [batch: 2016 / 2520], examples_per_second: 5405.1011, train_label_loss: 0.1585, \n"
     ]
    },
    {
     "name": "stdout",
     "output_type": "stream",
     "text": [
      "epoch: 7, [batch: 2268 / 2520], examples_per_second: 5468.8590, train_label_loss: 0.2002, \n"
     ]
    },
    {
     "name": "stdout",
     "output_type": "stream",
     "text": [
      "=============================================================\n",
      "epoch: 7, source_val_acc_label: 0.8803, target_val_acc_label: 0.7576, source_val_label_loss: 0.3171, target_val_label_loss: 5.8862, \n",
      "=============================================================\n"
     ]
    },
    {
     "name": "stdout",
     "output_type": "stream",
     "text": [
      "epoch: 8, [batch: 1 / 2520], examples_per_second: 11.6442, train_label_loss: 0.1114, \n"
     ]
    },
    {
     "name": "stdout",
     "output_type": "stream",
     "text": [
      "epoch: 8, [batch: 252 / 2520], examples_per_second: 5197.5621, train_label_loss: 0.3681, \n"
     ]
    },
    {
     "name": "stdout",
     "output_type": "stream",
     "text": [
      "epoch: 8, [batch: 504 / 2520], examples_per_second: 5117.0367, train_label_loss: 0.2605, \n"
     ]
    },
    {
     "name": "stdout",
     "output_type": "stream",
     "text": [
      "epoch: 8, [batch: 756 / 2520], examples_per_second: 5042.9460, train_label_loss: 0.2115, \n"
     ]
    },
    {
     "name": "stdout",
     "output_type": "stream",
     "text": [
      "epoch: 8, [batch: 1008 / 2520], examples_per_second: 5197.6979, train_label_loss: 0.1207, \n"
     ]
    },
    {
     "name": "stdout",
     "output_type": "stream",
     "text": [
      "epoch: 8, [batch: 1260 / 2520], examples_per_second: 5434.8036, train_label_loss: 0.2252, \n"
     ]
    },
    {
     "name": "stdout",
     "output_type": "stream",
     "text": [
      "epoch: 8, [batch: 1512 / 2520], examples_per_second: 5450.7363, train_label_loss: 0.3453, \n"
     ]
    },
    {
     "name": "stdout",
     "output_type": "stream",
     "text": [
      "epoch: 8, [batch: 1764 / 2520], examples_per_second: 5306.4541, train_label_loss: 0.0987, \n"
     ]
    },
    {
     "name": "stdout",
     "output_type": "stream",
     "text": [
      "epoch: 8, [batch: 2016 / 2520], examples_per_second: 5257.7211, train_label_loss: 0.1874, \n"
     ]
    },
    {
     "name": "stdout",
     "output_type": "stream",
     "text": [
      "epoch: 8, [batch: 2268 / 2520], examples_per_second: 4936.6584, train_label_loss: 0.1046, \n"
     ]
    },
    {
     "name": "stdout",
     "output_type": "stream",
     "text": [
      "=============================================================\n",
      "epoch: 8, source_val_acc_label: 0.8899, target_val_acc_label: 0.7684, source_val_label_loss: 0.3076, target_val_label_loss: 6.9303, \n",
      "=============================================================\n"
     ]
    },
    {
     "name": "stdout",
     "output_type": "stream",
     "text": [
      "epoch: 9, [batch: 1 / 2520], examples_per_second: 8.5131, train_label_loss: 0.1847, \n"
     ]
    },
    {
     "name": "stdout",
     "output_type": "stream",
     "text": [
      "epoch: 9, [batch: 252 / 2520], examples_per_second: 3814.3183, train_label_loss: 0.2331, \n"
     ]
    },
    {
     "name": "stdout",
     "output_type": "stream",
     "text": [
      "epoch: 9, [batch: 504 / 2520], examples_per_second: 3881.1768, train_label_loss: 0.1314, \n"
     ]
    },
    {
     "name": "stdout",
     "output_type": "stream",
     "text": [
      "epoch: 9, [batch: 756 / 2520], examples_per_second: 3920.7862, train_label_loss: 0.2564, \n"
     ]
    },
    {
     "name": "stdout",
     "output_type": "stream",
     "text": [
      "epoch: 9, [batch: 1008 / 2520], examples_per_second: 3898.3090, train_label_loss: 0.1417, \n"
     ]
    },
    {
     "name": "stdout",
     "output_type": "stream",
     "text": [
      "epoch: 9, [batch: 1260 / 2520], examples_per_second: 3898.9216, train_label_loss: 0.2911, \n"
     ]
    },
    {
     "name": "stdout",
     "output_type": "stream",
     "text": [
      "epoch: 9, [batch: 1512 / 2520], examples_per_second: 3929.2266, train_label_loss: 0.2681, \n"
     ]
    },
    {
     "name": "stdout",
     "output_type": "stream",
     "text": [
      "epoch: 9, [batch: 1764 / 2520], examples_per_second: 4340.3111, train_label_loss: 0.1000, \n"
     ]
    },
    {
     "name": "stdout",
     "output_type": "stream",
     "text": [
      "epoch: 9, [batch: 2016 / 2520], examples_per_second: 4298.3706, train_label_loss: 0.1827, \n"
     ]
    },
    {
     "name": "stdout",
     "output_type": "stream",
     "text": [
      "epoch: 9, [batch: 2268 / 2520], examples_per_second: 4756.8394, train_label_loss: 0.2845, \n"
     ]
    },
    {
     "name": "stdout",
     "output_type": "stream",
     "text": [
      "=============================================================\n",
      "epoch: 9, source_val_acc_label: 0.9037, target_val_acc_label: 0.7621, source_val_label_loss: 0.2614, target_val_label_loss: 8.9465, \n",
      "=============================================================\n"
     ]
    },
    {
     "name": "stdout",
     "output_type": "stream",
     "text": [
      "epoch: 10, [batch: 1 / 2520], examples_per_second: 8.5413, train_label_loss: 0.2752, \n"
     ]
    },
    {
     "name": "stdout",
     "output_type": "stream",
     "text": [
      "epoch: 10, [batch: 252 / 2520], examples_per_second: 3954.1890, train_label_loss: 0.0676, \n"
     ]
    },
    {
     "name": "stdout",
     "output_type": "stream",
     "text": [
      "epoch: 10, [batch: 504 / 2520], examples_per_second: 3973.6596, train_label_loss: 0.1056, \n"
     ]
    },
    {
     "name": "stdout",
     "output_type": "stream",
     "text": [
      "epoch: 10, [batch: 756 / 2520], examples_per_second: 3958.6300, train_label_loss: 0.1654, \n"
     ]
    },
    {
     "name": "stdout",
     "output_type": "stream",
     "text": [
      "epoch: 10, [batch: 1008 / 2520], examples_per_second: 3902.4072, train_label_loss: 0.4300, \n"
     ]
    },
    {
     "name": "stdout",
     "output_type": "stream",
     "text": [
      "epoch: 10, [batch: 1260 / 2520], examples_per_second: 3954.4614, train_label_loss: 0.0558, \n"
     ]
    },
    {
     "name": "stdout",
     "output_type": "stream",
     "text": [
      "epoch: 10, [batch: 1512 / 2520], examples_per_second: 3962.4221, train_label_loss: 0.3023, \n"
     ]
    },
    {
     "name": "stdout",
     "output_type": "stream",
     "text": [
      "epoch: 10, [batch: 1764 / 2520], examples_per_second: 4400.5881, train_label_loss: 0.2656, \n"
     ]
    },
    {
     "name": "stdout",
     "output_type": "stream",
     "text": [
      "epoch: 10, [batch: 2016 / 2520], examples_per_second: 4328.1884, train_label_loss: 0.2799, \n"
     ]
    },
    {
     "name": "stdout",
     "output_type": "stream",
     "text": [
      "epoch: 10, [batch: 2268 / 2520], examples_per_second: 4853.4168, train_label_loss: 0.1314, \n"
     ]
    },
    {
     "name": "stdout",
     "output_type": "stream",
     "text": [
      "=============================================================\n",
      "epoch: 10, source_val_acc_label: 0.8919, target_val_acc_label: 0.7618, source_val_label_loss: 0.2959, target_val_label_loss: 8.5327, \n",
      "=============================================================\n"
     ]
    },
    {
     "name": "stdout",
     "output_type": "stream",
     "text": [
      "Patience (3) exhausted\n"
     ]
    }
   ],
   "source": [
    "###################################\n",
    "# train\n",
    "###################################\n",
    "jig = PTN_Train_Eval_Test_Jig(model, p.BEST_MODEL_PATH, p.device)\n",
    "\n",
    "jig.train(\n",
    "    train_iterable=datasets.source.processed.train,\n",
    "    source_val_iterable=datasets.source.processed.val,\n",
    "    target_val_iterable=datasets.target.processed.val,\n",
    "    num_epochs=p.n_epoch,\n",
    "    num_logs_per_epoch=p.NUM_LOGS_PER_EPOCH,\n",
    "    patience=p.patience,\n",
    "    optimizer=optimizer,\n",
    "    criteria_for_best=p.criteria_for_best,\n",
    ")"
   ]
  },
  {
   "cell_type": "code",
   "execution_count": 14,
   "id": "31e8fabf",
   "metadata": {
    "execution": {
     "iopub.execute_input": "2022-03-26T13:01:58.755172Z",
     "iopub.status.busy": "2022-03-26T13:01:58.754797Z",
     "iopub.status.idle": "2022-03-26T13:01:58.787429Z",
     "shell.execute_reply": "2022-03-26T13:01:58.786738Z"
    },
    "papermill": {
     "duration": 0.083723,
     "end_time": "2022-03-26T13:01:58.787622",
     "exception": false,
     "start_time": "2022-03-26T13:01:58.703899",
     "status": "completed"
    },
    "tags": []
   },
   "outputs": [],
   "source": [
    "total_experiment_time_secs = time.time() - start_time_secs"
   ]
  },
  {
   "cell_type": "code",
   "execution_count": 15,
   "id": "87b9595b",
   "metadata": {
    "execution": {
     "iopub.execute_input": "2022-03-26T13:01:58.894846Z",
     "iopub.status.busy": "2022-03-26T13:01:58.893976Z",
     "iopub.status.idle": "2022-03-26T13:03:23.432673Z",
     "shell.execute_reply": "2022-03-26T13:03:23.433415Z"
    },
    "papermill": {
     "duration": 84.596404,
     "end_time": "2022-03-26T13:03:23.433680",
     "exception": false,
     "start_time": "2022-03-26T13:01:58.837276",
     "status": "completed"
    },
    "tags": []
   },
   "outputs": [],
   "source": [
    "###################################\n",
    "# Evaluate the model\n",
    "###################################\n",
    "source_test_label_accuracy, source_test_label_loss = jig.test(datasets.source.processed.test)\n",
    "target_test_label_accuracy, target_test_label_loss = jig.test(datasets.target.processed.test)\n",
    "\n",
    "source_val_label_accuracy, source_val_label_loss = jig.test(datasets.source.processed.val)\n",
    "target_val_label_accuracy, target_val_label_loss = jig.test(datasets.target.processed.val)\n",
    "\n",
    "history = jig.get_history()\n",
    "\n",
    "total_epochs_trained = len(history[\"epoch_indices\"])\n",
    "\n",
    "val_dl = Iterable_Aggregator((datasets.source.original.val,datasets.target.original.val))\n",
    "\n",
    "confusion = ptn_confusion_by_domain_over_dataloader(model, p.device, val_dl)\n",
    "per_domain_accuracy = per_domain_accuracy_from_confusion(confusion)\n",
    "\n",
    "# Add a key to per_domain_accuracy for if it was a source domain\n",
    "for domain, accuracy in per_domain_accuracy.items():\n",
    "    per_domain_accuracy[domain] = {\n",
    "        \"accuracy\": accuracy,\n",
    "        \"source?\": domain in p.domains_source\n",
    "    }\n",
    "\n",
    "# Do an independent accuracy assesment JUST TO BE SURE!\n",
    "# _source_test_label_accuracy = independent_accuracy_assesment(model, datasets.source.processed.test, p.device)\n",
    "# _target_test_label_accuracy = independent_accuracy_assesment(model, datasets.target.processed.test, p.device)\n",
    "# _source_val_label_accuracy = independent_accuracy_assesment(model, datasets.source.processed.val, p.device)\n",
    "# _target_val_label_accuracy = independent_accuracy_assesment(model, datasets.target.processed.val, p.device)\n",
    "\n",
    "# assert(_source_test_label_accuracy == source_test_label_accuracy)\n",
    "# assert(_target_test_label_accuracy == target_test_label_accuracy)\n",
    "# assert(_source_val_label_accuracy == source_val_label_accuracy)\n",
    "# assert(_target_val_label_accuracy == target_val_label_accuracy)\n",
    "\n",
    "experiment = {\n",
    "    \"experiment_name\": p.experiment_name,\n",
    "    \"parameters\": dict(p),\n",
    "    \"results\": {\n",
    "        \"source_test_label_accuracy\": source_test_label_accuracy,\n",
    "        \"source_test_label_loss\": source_test_label_loss,\n",
    "        \"target_test_label_accuracy\": target_test_label_accuracy,\n",
    "        \"target_test_label_loss\": target_test_label_loss,\n",
    "        \"source_val_label_accuracy\": source_val_label_accuracy,\n",
    "        \"source_val_label_loss\": source_val_label_loss,\n",
    "        \"target_val_label_accuracy\": target_val_label_accuracy,\n",
    "        \"target_val_label_loss\": target_val_label_loss,\n",
    "        \"total_epochs_trained\": total_epochs_trained,\n",
    "        \"total_experiment_time_secs\": total_experiment_time_secs,\n",
    "        \"confusion\": confusion,\n",
    "        \"per_domain_accuracy\": per_domain_accuracy,\n",
    "    },\n",
    "    \"history\": history,\n",
    "    \"dataset_metrics\": get_dataset_metrics(datasets, \"ptn\"),\n",
    "}"
   ]
  },
  {
   "cell_type": "code",
   "execution_count": 16,
   "id": "54a21829",
   "metadata": {
    "execution": {
     "iopub.execute_input": "2022-03-26T13:03:23.544306Z",
     "iopub.status.busy": "2022-03-26T13:03:23.542711Z",
     "iopub.status.idle": "2022-03-26T13:03:23.758776Z",
     "shell.execute_reply": "2022-03-26T13:03:23.759471Z"
    },
    "papermill": {
     "duration": 0.270314,
     "end_time": "2022-03-26T13:03:23.759724",
     "exception": false,
     "start_time": "2022-03-26T13:03:23.489410",
     "status": "completed"
    },
    "tags": []
   },
   "outputs": [
    {
     "data": {
      "image/png": "[encoded data removed]",
      "text/plain": [
       "<Figure size 1080x504 with 1 Axes>"
      ]
     },
     "metadata": {
      "needs_background": "light"
     },
     "output_type": "display_data"
    }
   ],
   "source": [
    "ax = get_loss_curve(experiment)\n",
    "plt.show()"
   ]
  },
  {
   "cell_type": "code",
   "execution_count": 17,
   "id": "fd8a0f60",
   "metadata": {
    "execution": {
     "iopub.execute_input": "2022-03-26T13:03:23.868128Z",
     "iopub.status.busy": "2022-03-26T13:03:23.867750Z",
     "iopub.status.idle": "2022-03-26T13:03:24.175280Z",
     "shell.execute_reply": "2022-03-26T13:03:24.174453Z"
    },
    "papermill": {
     "duration": 0.359956,
     "end_time": "2022-03-26T13:03:24.175448",
     "exception": false,
     "start_time": "2022-03-26T13:03:23.815492",
     "status": "completed"
    },
    "tags": []
   },
   "outputs": [
    {
     "data": {
      "text/plain": [
       "<AxesSubplot:title={'center':'Results'}>"
      ]
     },
     "execution_count": 17,
     "metadata": {},
     "output_type": "execute_result"
    },
    {
     "data": {
      "image/png": "[encoded data removed]",
      "text/plain": [
       "<Figure size 1080x504 with 1 Axes>"
      ]
     },
     "metadata": {
      "needs_background": "light"
     },
     "output_type": "display_data"
    }
   ],
   "source": [
    "get_results_table(experiment)"
   ]
  },
  {
   "cell_type": "code",
   "execution_count": 18,
   "id": "cf8dc689",
   "metadata": {
    "execution": {
     "iopub.execute_input": "2022-03-26T13:03:24.289881Z",
     "iopub.status.busy": "2022-03-26T13:03:24.289506Z",
     "iopub.status.idle": "2022-03-26T13:03:24.505390Z",
     "shell.execute_reply": "2022-03-26T13:03:24.504683Z"
    },
    "papermill": {
     "duration": 0.275037,
     "end_time": "2022-03-26T13:03:24.505545",
     "exception": false,
     "start_time": "2022-03-26T13:03:24.230508",
     "status": "completed"
    },
    "tags": []
   },
   "outputs": [
    {
     "data": {
      "text/plain": [
       "<AxesSubplot:title={'center':'Per Domain Validation Accuracy'}, xlabel='domain'>"
      ]
     },
     "execution_count": 18,
     "metadata": {},
     "output_type": "execute_result"
    },
    {
     "data": {
      "image/png": "[encoded data removed]",
      "text/plain": [
       "<Figure size 1080x504 with 1 Axes>"
      ]
     },
     "metadata": {
      "needs_background": "light"
     },
     "output_type": "display_data"
    }
   ],
   "source": [
    "get_domain_accuracies(experiment)"
   ]
  },
  {
   "cell_type": "code",
   "execution_count": 19,
   "id": "a74ae082",
   "metadata": {
    "execution": {
     "iopub.execute_input": "2022-03-26T13:03:24.615864Z",
     "iopub.status.busy": "2022-03-26T13:03:24.615481Z",
     "iopub.status.idle": "2022-03-26T13:03:24.641699Z",
     "shell.execute_reply": "2022-03-26T13:03:24.640907Z"
    },
    "papermill": {
     "duration": 0.081645,
     "end_time": "2022-03-26T13:03:24.641851",
     "exception": false,
     "start_time": "2022-03-26T13:03:24.560206",
     "status": "completed"
    },
    "tags": []
   },
   "outputs": [
    {
     "name": "stdout",
     "output_type": "stream",
     "text": [
      "Source Test Label Accuracy: 0.8986111111111111 Target Test Label Accuracy: 0.7772395833333333\n",
      "Source Val Label Accuracy: 0.8960069444444444 Target Val Label Accuracy: 0.7738020833333333\n"
     ]
    }
   ],
   "source": [
    "print(\"Source Test Label Accuracy:\", experiment[\"results\"][\"source_test_label_accuracy\"], \"Target Test Label Accuracy:\", experiment[\"results\"][\"target_test_label_accuracy\"])\n",
    "print(\"Source Val Label Accuracy:\", experiment[\"results\"][\"source_val_label_accuracy\"], \"Target Val Label Accuracy:\", experiment[\"results\"][\"target_val_label_accuracy\"])"
   ]
  },
  {
   "cell_type": "code",
   "execution_count": 20,
   "id": "dacca602",
   "metadata": {
    "execution": {
     "iopub.execute_input": "2022-03-26T13:03:24.754355Z",
     "iopub.status.busy": "2022-03-26T13:03:24.752766Z",
     "iopub.status.idle": "2022-03-26T13:03:24.775338Z",
     "shell.execute_reply": "2022-03-26T13:03:24.774540Z"
    },
    "papermill": {
     "duration": 0.076573,
     "end_time": "2022-03-26T13:03:24.775487",
     "exception": false,
     "start_time": "2022-03-26T13:03:24.698914",
     "status": "completed"
    },
    "tags": [
     "experiment_json"
    ]
   },
   "outputs": [
    {
     "data": {
      "text/plain": [
       "'{\"experiment_name\": \"tuned_1v2:oracle.run2.framed\", \"parameters\": {\"experiment_name\": \"tuned_1v2:oracle.run2.framed\", \"device\": \"cuda\", \"lr\": 0.0001, \"labels_source\": [\"3123D52\", \"3123D65\", \"3123D79\", \"3123D80\", \"3123D54\", \"3123D70\", \"3123D7B\", \"3123D89\", \"3123D58\", \"3123D76\", \"3123D7D\", \"3123EFE\", \"3123D64\", \"3123D78\", \"3123D7E\", \"3124E4A\"], \"labels_target\": [\"3123D52\", \"3123D65\", \"3123D79\", \"3123D80\", \"3123D54\", \"3123D70\", \"3123D7B\", \"3123D89\", \"3123D58\", \"3123D76\", \"3123D7D\", \"3123EFE\", \"3123D64\", \"3123D78\", \"3123D7E\", \"3124E4A\"], \"episode_transforms_source\": [], \"episode_transforms_target\": [], \"domains_source\": [8, 32, 50], \"domains_target\": [14, 20, 26, 38, 44], \"num_examples_per_domain_per_label_source\": -1, \"num_examples_per_domain_per_label_target\": -1, \"n_shot\": 3, \"n_way\": 16, \"n_query\": 2, \"train_k_factor\": 3, \"val_k_factor\": 2, \"test_k_factor\": 2, \"torch_default_dtype\": \"torch.float32\", \"n_epoch\": 50, \"patience\": 3, \"criteria_for_best\": \"target_accuracy\", \"x_net\": [{\"class\": \"nnReshape\", \"kargs\": {\"shape\": [-1, 1, 2, 256]}}, {\"class\": \"Conv2d\", \"kargs\": {\"in_channels\": 1, \"out_channels\": 256, \"kernel_size\": [1, 7], \"bias\": false, \"padding\": [0, 3]}}, {\"class\": \"ReLU\", \"kargs\": {\"inplace\": true}}, {\"class\": \"BatchNorm2d\", \"kargs\": {\"num_features\": 256}}, {\"class\": \"Conv2d\", \"kargs\": {\"in_channels\": 256, \"out_channels\": 80, \"kernel_size\": [2, 7], \"bias\": true, \"padding\": [0, 3]}}, {\"class\": \"ReLU\", \"kargs\": {\"inplace\": true}}, {\"class\": \"BatchNorm2d\", \"kargs\": {\"num_features\": 80}}, {\"class\": \"Flatten\", \"kargs\": {}}, {\"class\": \"Linear\", \"kargs\": {\"in_features\": 20480, \"out_features\": 256}}, {\"class\": \"ReLU\", \"kargs\": {\"inplace\": true}}, {\"class\": \"BatchNorm1d\", \"kargs\": {\"num_features\": 256}}, {\"class\": \"Linear\", \"kargs\": {\"in_features\": 256, \"out_features\": 256}}], \"NUM_LOGS_PER_EPOCH\": 10, \"BEST_MODEL_PATH\": \"./best_model.pth\", \"pickle_name\": \"oracle.Run2_framed_2000Examples_stratified_ds.2022A.pkl\", \"x_transforms_source\": [\"unit_mag\"], \"x_transforms_target\": [\"unit_mag\"], \"dataset_seed\": 1337, \"seed\": 1337}, \"results\": {\"source_test_label_accuracy\": 0.8986111111111111, \"source_test_label_loss\": 0.28607457876205444, \"target_test_label_accuracy\": 0.7772395833333333, \"target_test_label_loss\": 3.8329265117645264, \"source_val_label_accuracy\": 0.8960069444444444, \"source_val_label_loss\": 0.2756948173046112, \"target_val_label_accuracy\": 0.7738020833333333, \"target_val_label_loss\": 6.359828948974609, \"total_epochs_trained\": 10, \"total_experiment_time_secs\": 625.4683856964111, \"confusion\": {\"8\": {\"15\": {\"15\": 216, \"12\": 7, \"8\": 16, \"11\": 1}, \"3\": {\"3\": 239, \"12\": 1}, \"6\": {\"6\": 173, \"4\": 54, \"7\": 13}, \"1\": {\"1\": 238, \"13\": 2}, \"8\": {\"8\": 237, \"11\": 1, \"15\": 2}, \"10\": {\"14\": 4, \"10\": 210, \"0\": 19, \"5\": 7}, \"9\": {\"9\": 240}, \"13\": {\"13\": 232, \"1\": 6, \"14\": 2}, \"12\": {\"12\": 227, \"15\": 13}, \"5\": {\"5\": 231, \"10\": 9}, \"0\": {\"0\": 222, \"14\": 8, \"10\": 10}, \"2\": {\"2\": 230, \"6\": 1, \"4\": 5, \"7\": 4}, \"11\": {\"11\": 217, \"8\": 17, \"12\": 4, \"15\": 2}, \"14\": {\"14\": 212, \"13\": 8, \"10\": 2, \"0\": 18}, \"7\": {\"7\": 167, \"4\": 54, \"6\": 15, \"2\": 4}, \"4\": {\"4\": 143, \"7\": 42, \"6\": 55}}, \"50\": {\"3\": {\"3\": 237, \"8\": 3}, \"15\": {\"15\": 228, \"1\": 8, \"6\": 3, \"11\": 1}, \"8\": {\"8\": 238, \"3\": 2}, \"4\": {\"4\": 171, \"6\": 8, \"5\": 53, \"1\": 8}, \"14\": {\"14\": 240}, \"0\": {\"0\": 229, \"2\": 11}, \"7\": {\"13\": 38, \"7\": 195, \"5\": 6, \"10\": 1}, \"6\": {\"6\": 216, \"1\": 6, \"5\": 9, \"4\": 7, \"15\": 1, \"13\": 1}, \"10\": {\"10\": 212, \"5\": 3, \"13\": 23, \"7\": 2}, \"5\": {\"6\": 13, \"5\": 131, \"4\": 68, \"13\": 10, \"10\": 8, \"7\": 9, \"1\": 1}, \"2\": {\"2\": 232, \"0\": 8}, \"12\": {\"12\": 234, \"11\": 3, \"14\": 2, \"9\": 1}, \"9\": {\"9\": 238, \"11\": 1, \"12\": 1}, \"1\": {\"1\": 226, \"6\": 5, \"4\": 7, \"15\": 2}, \"11\": {\"11\": 233, \"15\": 2, \"9\": 1, \"12\": 4}, \"13\": {\"13\": 199, \"10\": 21, \"7\": 18, \"5\": 2}}, \"32\": {\"5\": {\"0\": 7, \"5\": 167, \"2\": 17, \"4\": 23, \"7\": 2, \"14\": 6, \"13\": 3, \"11\": 2, \"8\": 13}, \"8\": {\"8\": 210, \"13\": 3, \"0\": 22, \"3\": 3, \"5\": 1, \"15\": 1}, \"11\": {\"11\": 188, \"13\": 6, \"4\": 5, \"0\": 16, \"7\": 25}, \"1\": {\"1\": 240}, \"10\": {\"10\": 240}, \"15\": {\"15\": 240}, \"3\": {\"3\": 238, \"8\": 2}, \"7\": {\"7\": 185, \"0\": 2, \"11\": 23, \"4\": 19, \"13\": 7, \"5\": 3, \"2\": 1}, \"4\": {\"4\": 172, \"7\": 6, \"13\": 47, \"8\": 1, \"5\": 7, \"2\": 3, \"0\": 3, \"11\": 1}, \"14\": {\"14\": 220, \"5\": 2, \"0\": 13, \"2\": 2, \"11\": 3}, \"9\": {\"9\": 240}, \"12\": {\"12\": 240}, \"6\": {\"6\": 240}, \"2\": {\"2\": 224, \"7\": 5, \"5\": 8, \"4\": 3}, \"0\": {\"0\": 197, \"11\": 16, \"5\": 11, \"8\": 10, \"14\": 4, \"13\": 1, \"7\": 1}, \"13\": {\"4\": 38, \"13\": 188, \"5\": 3, \"8\": 3, \"11\": 5, \"3\": 1, \"7\": 2}}, \"14\": {\"15\": {\"15\": 240}, \"3\": {\"5\": 4, \"3\": 231, \"2\": 2, \"1\": 1, \"14\": 2}, \"6\": {\"6\": 197, \"13\": 42, \"2\": 1}, \"1\": {\"1\": 226, \"5\": 8, \"4\": 6}, \"8\": {\"8\": 240}, \"10\": {\"10\": 236, \"0\": 2, \"14\": 2}, \"9\": {\"9\": 240}, \"13\": {\"13\": 186, \"6\": 52, \"14\": 1, \"2\": 1}, \"12\": {\"12\": 117, \"9\": 46, \"11\": 61, \"0\": 12, \"8\": 4}, \"5\": {\"5\": 184, \"4\": 27, \"3\": 6, \"2\": 16, \"1\": 7}, \"0\": {\"0\": 240}, \"2\": {\"14\": 37, \"13\": 10, \"4\": 8, \"2\": 129, \"3\": 10, \"5\": 43, \"6\": 3}, \"11\": {\"11\": 240}, \"14\": {\"14\": 192, \"2\": 29, \"0\": 3, \"6\": 6, \"5\": 3, \"3\": 7}, \"7\": {\"7\": 240}, \"4\": {\"4\": 203, \"5\": 34, \"1\": 2, \"3\": 1}}, \"20\": {\"3\": {\"2\": 26, \"3\": 166, \"7\": 18, \"5\": 4, \"12\": 5, \"9\": 19, \"10\": 2}, \"15\": {\"15\": 133, \"13\": 65, \"5\": 9, \"0\": 2, \"2\": 9, \"12\": 16, \"1\": 5, \"9\": 1}, \"8\": {\"8\": 204, \"7\": 14, \"14\": 18, \"6\": 2, \"4\": 2}, \"4\": {\"4\": 237, \"12\": 1, \"8\": 1, \"5\": 1}, \"14\": {\"14\": 213, \"8\": 23, \"6\": 4}, \"0\": {\"0\": 228, \"15\": 6, \"12\": 1, \"5\": 4, \"13\": 1}, \"7\": {\"7\": 225, \"8\": 6, \"5\": 2, \"3\": 6, \"2\": 1}, \"6\": {\"6\": 231, \"14\": 8, \"8\": 1}, \"10\": {\"10\": 238, \"4\": 1, \"6\": 1}, \"5\": {\"5\": 166, \"12\": 16, \"0\": 12, \"3\": 5, \"2\": 16, \"4\": 6, \"15\": 10, \"7\": 8, \"1\": 1}, \"2\": {\"2\": 132, \"3\": 17, \"9\": 45, \"13\": 4, \"5\": 14, \"15\": 7, \"12\": 21}, \"12\": {\"2\": 17, \"12\": 165, \"5\": 16, \"9\": 3, \"1\": 34, \"15\": 4, \"3\": 1}, \"9\": {\"9\": 162, \"2\": 43, \"3\": 20, \"12\": 11, \"15\": 1, \"5\": 1, \"1\": 2}, \"1\": {\"1\": 190, \"12\": 35, \"13\": 1, \"5\": 1, \"15\": 9, \"9\": 2, \"2\": 2}, \"11\": {\"11\": 240}, \"13\": {\"13\": 203, \"15\": 37}}, \"44\": {\"5\": {\"5\": 225, \"14\": 15}, \"8\": {\"8\": 150, \"0\": 88, \"5\": 1, \"15\": 1}, \"11\": {\"11\": 182, \"5\": 2, \"6\": 29, \"13\": 4, \"10\": 3, \"7\": 16, \"9\": 4}, \"1\": {\"1\": 160, \"12\": 66, \"3\": 14}, \"10\": {\"10\": 205, \"1\": 24, \"12\": 9, \"7\": 2}, \"15\": {\"15\": 217, \"14\": 11, \"4\": 9, \"8\": 3}, \"3\": {\"3\": 222, \"12\": 12, \"1\": 6}, \"7\": {\"7\": 144, \"9\": 56, \"2\": 40}, \"4\": {\"4\": 219, \"15\": 2, \"14\": 17, \"13\": 2}, \"14\": {\"14\": 192, \"15\": 15, \"5\": 18, \"4\": 15}, \"9\": {\"9\": 140, \"7\": 57, \"2\": 39, \"6\": 4}, \"12\": {\"12\": 171, \"1\": 60, \"3\": 9}, \"6\": {\"6\": 219, \"13\": 2, \"9\": 16, \"7\": 2, \"11\": 1}, \"2\": {\"2\": 169, \"9\": 41, \"7\": 30}, \"0\": {\"0\": 151, \"15\": 1, \"8\": 87, \"5\": 1}, \"13\": {\"13\": 228, \"6\": 4, \"4\": 8}}, \"38\": {\"14\": {\"14\": 144, \"2\": 70, \"4\": 4, \"7\": 7, \"12\": 8, \"8\": 4, \"13\": 1, \"11\": 1, \"10\": 1}, \"0\": {\"0\": 221, \"3\": 13, \"6\": 2, \"10\": 3, \"5\": 1}, \"13\": {\"13\": 136, \"7\": 9, \"3\": 41, \"15\": 6, \"1\": 6, \"8\": 15, \"14\": 3, \"5\": 8, \"0\": 7, \"10\": 9}, \"7\": {\"7\": 132, \"10\": 47, \"8\": 22, \"5\": 34, \"3\": 1, \"13\": 3, \"0\": 1}, \"9\": {\"9\": 215, \"6\": 25}, \"3\": {\"3\": 122, \"13\": 42, \"7\": 1, \"0\": 43, \"8\": 11, \"10\": 13, \"9\": 4, \"6\": 4}, \"11\": {\"11\": 117, \"12\": 24, \"14\": 41, \"4\": 47, \"6\": 1, \"2\": 10}, \"6\": {\"6\": 223, \"9\": 17}, \"8\": {\"8\": 108, \"3\": 4, \"5\": 63, \"15\": 37, \"7\": 19, \"13\": 6, \"10\": 2, \"1\": 1}, \"4\": {\"4\": 239, \"10\": 1}, \"5\": {\"5\": 140, \"8\": 61, \"7\": 20, \"15\": 18, \"10\": 1}, \"10\": {\"10\": 167, \"7\": 58, \"5\": 3, \"13\": 4, \"8\": 4, \"3\": 3, \"15\": 1}, \"1\": {\"1\": 232, \"15\": 8}, \"2\": {\"2\": 223, \"14\": 17}, \"15\": {\"15\": 152, \"5\": 26, \"8\": 43, \"1\": 14, \"0\": 3, \"6\": 1, \"13\": 1}, \"12\": {\"12\": 240}}, \"26\": {\"13\": {\"13\": 198, \"5\": 35, \"9\": 7}, \"2\": {\"2\": 86, \"7\": 91, \"3\": 17, \"15\": 16, \"4\": 17, \"8\": 9, \"5\": 4}, \"8\": {\"8\": 155, \"0\": 20, \"7\": 12, \"10\": 19, \"2\": 11, \"14\": 7, \"4\": 14, \"15\": 2}, \"9\": {\"6\": 17, \"9\": 207, \"8\": 2, \"5\": 4, \"13\": 8, \"15\": 1, \"2\": 1}, \"12\": {\"12\": 240}, \"4\": {\"4\": 175, \"7\": 10, \"14\": 10, \"2\": 11, \"3\": 10, \"1\": 1, \"0\": 7, \"15\": 2, \"10\": 3, \"8\": 11}, \"3\": {\"3\": 192, \"7\": 19, \"2\": 14, \"15\": 11, \"4\": 4}, \"15\": {\"3\": 28, \"15\": 152, \"7\": 13, \"8\": 10, \"2\": 34, \"4\": 1, \"10\": 1, \"0\": 1}, \"14\": {\"0\": 48, \"10\": 29, \"8\": 19, \"14\": 111, \"4\": 12, \"1\": 21}, \"10\": {\"0\": 62, \"8\": 33, \"10\": 94, \"14\": 27, \"4\": 13, \"6\": 9, \"1\": 2}, \"7\": {\"2\": 79, \"7\": 95, \"8\": 17, \"4\": 16, \"3\": 14, \"15\": 9, \"5\": 8, \"0\": 2}, \"11\": {\"11\": 240}, \"6\": {\"6\": 211, \"10\": 7, \"8\": 1, \"9\": 20, \"13\": 1}, \"1\": {\"1\": 199, \"14\": 36, \"8\": 2, \"10\": 1, \"4\": 2}, \"5\": {\"5\": 114, \"13\": 62, \"2\": 19, \"6\": 9, \"3\": 3, \"7\": 14, \"15\": 2, \"9\": 12, \"0\": 1, \"8\": 4}, \"0\": {\"14\": 58, \"10\": 37, \"0\": 109, \"8\": 17, \"4\": 14, \"1\": 5}}}, \"per_domain_accuracy\": {\"8\": {\"accuracy\": 0.8942708333333333, \"source?\": true}, \"50\": {\"accuracy\": 0.90078125, \"source?\": true}, \"32\": {\"accuracy\": 0.89296875, \"source?\": true}, \"14\": {\"accuracy\": 0.8700520833333333, \"source?\": false}, \"20\": {\"accuracy\": 0.8158854166666667, \"source?\": false}, \"44\": {\"accuracy\": 0.7796875, \"source?\": false}, \"38\": {\"accuracy\": 0.73203125, \"source?\": false}, \"26\": {\"accuracy\": 0.6713541666666667, \"source?\": false}}}, \"history\": {\"epoch_indices\": [1, 2, 3, 4, 5, 6, 7, 8, 9, 10], \"train_label_loss\": [0.9068533011253864, 0.8284412857972914, 0.4569493733582989, 0.4408751970230942, 0.3430617672139927, 0.3322914981630646, 0.27913304619298923, 0.2326132333964952, 0.2157718804945785, 0.20076609477955137], \"source_val_label_loss\": [18.640972137451172, 0.5757120251655579, 0.4646296203136444, 0.37275052070617676, 0.36012816429138184, 0.2756948173046112, 0.31709662079811096, 0.30755600333213806, 0.2613769769668579, 0.2958524227142334], \"target_val_label_loss\": [21.56845474243164, 4.557522296905518, 6.157460689544678, 4.695359230041504, 6.322749137878418, 6.359828948974609, 5.886192798614502, 6.930261611938477, 8.946455955505371, 8.53269100189209], \"source_val_acc_label\": [0.6959201388888889, 0.7839409722222223, 0.8285590277777778, 0.8631944444444445, 0.8686631944444444, 0.8960069444444444, 0.8802951388888889, 0.8899305555555556, 0.9037326388888889, 0.8919270833333334], \"target_val_acc_label\": [0.5558333333333333, 0.6722395833333333, 0.7196875, 0.7298958333333333, 0.7403645833333333, 0.7738020833333333, 0.7576041666666666, 0.7684375, 0.7621354166666666, 0.7617708333333333]}, \"dataset_metrics\": {\"source\": {\"train\": {\"n_unique_x\": 67200, \"n_unique_y\": 16, \"n_batch/episode\": 2520}, \"val\": {\"n_unique_x\": 14400, \"n_unique_y\": 16, \"n_batch/episode\": 360}, \"test\": {\"n_unique_x\": 14400, \"n_unique_y\": 16, \"n_batch/episode\": 360}}, \"target\": {\"train\": {\"n_unique_x\": 112000, \"n_unique_y\": 16, \"n_batch/episode\": 4200}, \"val\": {\"n_unique_x\": 24000, \"n_unique_y\": 16, \"n_batch/episode\": 600}, \"test\": {\"n_unique_x\": 24000, \"n_unique_y\": 16, \"n_batch/episode\": 600}}}}'"
      ]
     },
     "execution_count": 20,
     "metadata": {},
     "output_type": "execute_result"
    }
   ],
   "source": [
    "json.dumps(experiment)"
   ]
  }
 ],
 "metadata": {
  "celltoolbar": "Tags",
  "kernelspec": {
   "display_name": "Python 3 (ipykernel)",
   "language": "python",
   "name": "python3"
  },
  "language_info": {
   "codemirror_mode": {
    "name": "ipython",
    "version": 3
   },
   "file_extension": ".py",
   "mimetype": "text/x-python",
   "name": "python",
   "nbconvert_exporter": "python",
   "pygments_lexer": "ipython3",
   "version": "3.8.12"
  },
  "papermill": {
   "default_parameters": {},
   "duration": 716.940915,
   "end_time": "2022-03-26T13:03:26.847088",
   "environment_variables": {},
   "exception": null,
   "input_path": "/root/csc500-main/csc500-notebooks/templates/ptn_template.ipynb",
   "output_path": "trial.ipynb",
   "parameters": {
    "parameters": {
     "BEST_MODEL_PATH": "./best_model.pth",
     "NUM_LOGS_PER_EPOCH": 10,
     "criteria_for_best": "target_accuracy",
     "dataset_seed": 1337,
     "device": "cuda",
     "domains_source": [
      8,
      32,
      50
     ],
     "domains_target": [
      14,
      20,
      26,
      38,
      44
     ],
     "episode_transforms_source": [],
     "episode_transforms_target": [],
     "experiment_name": "tuned_1v2:oracle.run2.framed",
     "labels_source": [
      "3123D52",
      "3123D65",
      "3123D79",
      "3123D80",
      "3123D54",
      "3123D70",
      "3123D7B",
      "3123D89",
      "3123D58",
      "3123D76",
      "3123D7D",
      "3123EFE",
      "3123D64",
      "3123D78",
      "3123D7E",
      "3124E4A"
     ],
     "labels_target": [
      "3123D52",
      "3123D65",
      "3123D79",
      "3123D80",
      "3123D54",
      "3123D70",
      "3123D7B",
      "3123D89",
      "3123D58",
      "3123D76",
      "3123D7D",
      "3123EFE",
      "3123D64",
      "3123D78",
      "3123D7E",
      "3124E4A"
     ],
     "lr": 0.0001,
     "n_epoch": 50,
     "n_query": 2,
     "n_shot": 3,
     "n_way": 16,
     "num_examples_per_domain_per_label_source": -1,
     "num_examples_per_domain_per_label_target": -1,
     "patience": 3,
     "pickle_name": "oracle.Run2_framed_2000Examples_stratified_ds.2022A.pkl",
     "seed": 1337,
     "test_k_factor": 2,
     "torch_default_dtype": "torch.float32",
     "train_k_factor": 3,
     "val_k_factor": 2,
     "x_net": [
      {
       "class": "nnReshape",
       "kargs": {
        "shape": [
         -1,
         1,
         2,
         256
        ]
       }
      },
      {
       "class": "Conv2d",
       "kargs": {
        "bias": false,
        "in_channels": 1,
        "kernel_size": [
         1,
         7
        ],
        "out_channels": 256,
        "padding": [
         0,
         3
        ]
       }
      },
      {
       "class": "ReLU",
       "kargs": {
        "inplace": true
       }
      },
      {
       "class": "BatchNorm2d",
       "kargs": {
        "num_features": 256
       }
      },
      {
       "class": "Conv2d",
       "kargs": {
        "bias": true,
        "in_channels": 256,
        "kernel_size": [
         2,
         7
        ],
        "out_channels": 80,
        "padding": [
         0,
         3
        ]
       }
      },
      {
       "class": "ReLU",
       "kargs": {
        "inplace": true
       }
      },
      {
       "class": "BatchNorm2d",
       "kargs": {
        "num_features": 80
       }
      },
      {
       "class": "Flatten",
       "kargs": {}
      },
      {
       "class": "Linear",
       "kargs": {
        "in_features": 20480,
        "out_features": 256
       }
      },
      {
       "class": "ReLU",
       "kargs": {
        "inplace": true
       }
      },
      {
       "class": "BatchNorm1d",
       "kargs": {
        "num_features": 256
       }
      },
      {
       "class": "Linear",
       "kargs": {
        "in_features": 256,
        "out_features": 256
       }
      }
     ],
     "x_transforms_source": [
      "unit_mag"
     ],
     "x_transforms_target": [
      "unit_mag"
     ]
    }
   },
   "start_time": "2022-03-26T12:51:29.906173",
   "version": "2.3.4"
  }
 },
 "nbformat": 4,
 "nbformat_minor": 5
}