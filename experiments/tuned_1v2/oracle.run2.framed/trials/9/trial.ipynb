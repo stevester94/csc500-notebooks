{
 "cells": [
  {
   "cell_type": "markdown",
   "id": "9fea5f46",
   "metadata": {
    "papermill": {
     "duration": 0.024145,
     "end_time": "2022-03-26T13:40:07.922583",
     "exception": false,
     "start_time": "2022-03-26T13:40:07.898438",
     "status": "completed"
    },
    "tags": []
   },
   "source": [
    "# PTN Template\n",
    "This notebook serves as a template for single dataset PTN experiments  \n",
    "It can be run on its own by setting STANDALONE to True (do a find for \"STANDALONE\" to see where)  \n",
    "But it is intended to be executed as part of a *papermill.py script. See any of the   \n",
    "experimentes with a papermill script to get started with that workflow.  "
   ]
  },
  {
   "cell_type": "code",
   "execution_count": 1,
   "id": "0902182a",
   "metadata": {
    "execution": {
     "iopub.execute_input": "2022-03-26T13:40:07.975227Z",
     "iopub.status.busy": "2022-03-26T13:40:07.968440Z",
     "iopub.status.idle": "2022-03-26T13:40:09.925537Z",
     "shell.execute_reply": "2022-03-26T13:40:09.924626Z"
    },
    "papermill": {
     "duration": 1.985263,
     "end_time": "2022-03-26T13:40:09.925763",
     "exception": false,
     "start_time": "2022-03-26T13:40:07.940500",
     "status": "completed"
    },
    "tags": []
   },
   "outputs": [],
   "source": [
    "%load_ext autoreload\n",
    "%autoreload 2\n",
    "%matplotlib inline\n",
    "\n",
    "    \n",
    "import os, json, sys, time, random\n",
    "import numpy as np\n",
    "import torch\n",
    "from torch.optim import Adam\n",
    "from  easydict import EasyDict\n",
    "import matplotlib.pyplot as plt\n",
    "\n",
    "from steves_models.steves_ptn import Steves_Prototypical_Network\n",
    "\n",
    "from steves_utils.lazy_iterable_wrapper import Lazy_Iterable_Wrapper\n",
    "from steves_utils.iterable_aggregator import Iterable_Aggregator\n",
    "from steves_utils.ptn_train_eval_test_jig import  PTN_Train_Eval_Test_Jig\n",
    "from steves_utils.torch_sequential_builder import build_sequential\n",
    "from steves_utils.torch_utils import get_dataset_metrics, ptn_confusion_by_domain_over_dataloader\n",
    "from steves_utils.utils_v2 import (per_domain_accuracy_from_confusion, get_datasets_base_path)\n",
    "from steves_utils.PTN.utils import independent_accuracy_assesment\n",
    "\n",
    "from steves_utils.stratified_dataset.episodic_accessor import Episodic_Accessor_Factory\n",
    "\n",
    "from steves_utils.ptn_do_report import (\n",
    "    get_loss_curve,\n",
    "    get_results_table,\n",
    "    get_parameters_table,\n",
    "    get_domain_accuracies,\n",
    ")\n",
    "\n",
    "from steves_utils.transforms import get_chained_transform"
   ]
  },
  {
   "cell_type": "markdown",
   "id": "41c840b4",
   "metadata": {
    "papermill": {
     "duration": 0.015302,
     "end_time": "2022-03-26T13:40:09.962517",
     "exception": false,
     "start_time": "2022-03-26T13:40:09.947215",
     "status": "completed"
    },
    "tags": []
   },
   "source": [
    "# Required Parameters\n",
    "These are allowed parameters, not defaults\n",
    "Each of these values need to be present in the injected parameters (the notebook will raise an exception if they are not present)\n",
    "\n",
    "Papermill uses the cell tag \"parameters\" to inject the real parameters below this cell.\n",
    "Enable tags to see what I mean"
   ]
  },
  {
   "cell_type": "code",
   "execution_count": 2,
   "id": "fd44eb83",
   "metadata": {
    "execution": {
     "iopub.execute_input": "2022-03-26T13:40:09.999425Z",
     "iopub.status.busy": "2022-03-26T13:40:09.999008Z",
     "iopub.status.idle": "2022-03-26T13:40:10.023046Z",
     "shell.execute_reply": "2022-03-26T13:40:10.021852Z"
    },
    "papermill": {
     "duration": 0.045497,
     "end_time": "2022-03-26T13:40:10.023291",
     "exception": false,
     "start_time": "2022-03-26T13:40:09.977794",
     "status": "completed"
    },
    "tags": []
   },
   "outputs": [],
   "source": [
    "required_parameters = {\n",
    "    \"experiment_name\",\n",
    "    \"lr\",\n",
    "    \"device\",\n",
    "    \"seed\",\n",
    "    \"dataset_seed\",\n",
    "    \"labels_source\",\n",
    "    \"labels_target\",\n",
    "    \"domains_source\",\n",
    "    \"domains_target\",\n",
    "    \"num_examples_per_domain_per_label_source\",\n",
    "    \"num_examples_per_domain_per_label_target\",\n",
    "    \"n_shot\",\n",
    "    \"n_way\",\n",
    "    \"n_query\",\n",
    "    \"train_k_factor\",\n",
    "    \"val_k_factor\",\n",
    "    \"test_k_factor\",\n",
    "    \"n_epoch\",\n",
    "    \"patience\",\n",
    "    \"criteria_for_best\",\n",
    "    \"x_transforms_source\",\n",
    "    \"x_transforms_target\",\n",
    "    \"episode_transforms_source\",\n",
    "    \"episode_transforms_target\",\n",
    "    \"pickle_name\",\n",
    "    \"x_net\",\n",
    "    \"NUM_LOGS_PER_EPOCH\",\n",
    "    \"BEST_MODEL_PATH\",\n",
    "    \"torch_default_dtype\"\n",
    "}"
   ]
  },
  {
   "cell_type": "code",
   "execution_count": 3,
   "id": "fa3f0049",
   "metadata": {
    "execution": {
     "iopub.execute_input": "2022-03-26T13:40:10.075032Z",
     "iopub.status.busy": "2022-03-26T13:40:10.074031Z",
     "iopub.status.idle": "2022-03-26T13:40:10.098433Z",
     "shell.execute_reply": "2022-03-26T13:40:10.097646Z"
    },
    "papermill": {
     "duration": 0.054813,
     "end_time": "2022-03-26T13:40:10.098616",
     "exception": false,
     "start_time": "2022-03-26T13:40:10.043803",
     "status": "completed"
    },
    "tags": [
     "parameters"
    ]
   },
   "outputs": [],
   "source": [
    "\n",
    "\n",
    "standalone_parameters = {}\n",
    "standalone_parameters[\"experiment_name\"] = \"STANDALONE PTN\"\n",
    "standalone_parameters[\"lr\"] = 0.0001\n",
    "standalone_parameters[\"device\"] = \"cuda\"\n",
    "\n",
    "standalone_parameters[\"seed\"] = 1337\n",
    "standalone_parameters[\"dataset_seed\"] = 1337\n",
    "\n",
    "\n",
    "standalone_parameters[\"num_examples_per_domain_per_label_source\"]=100\n",
    "standalone_parameters[\"num_examples_per_domain_per_label_target\"]=100\n",
    "\n",
    "standalone_parameters[\"n_shot\"] = 3\n",
    "standalone_parameters[\"n_query\"]  = 2\n",
    "standalone_parameters[\"train_k_factor\"] = 1\n",
    "standalone_parameters[\"val_k_factor\"] = 2\n",
    "standalone_parameters[\"test_k_factor\"] = 2\n",
    "\n",
    "\n",
    "standalone_parameters[\"n_epoch\"] = 100\n",
    "\n",
    "standalone_parameters[\"patience\"] = 10\n",
    "standalone_parameters[\"criteria_for_best\"] = \"target_accuracy\"\n",
    "\n",
    "standalone_parameters[\"x_transforms_source\"] = [\"unit_power\"]\n",
    "standalone_parameters[\"x_transforms_target\"] = [\"unit_power\"]\n",
    "standalone_parameters[\"episode_transforms_source\"] = []\n",
    "standalone_parameters[\"episode_transforms_target\"] = []\n",
    "\n",
    "standalone_parameters[\"torch_default_dtype\"] = \"torch.float32\" \n",
    "\n",
    "\n",
    "\n",
    "standalone_parameters[\"x_net\"] =     [\n",
    "    {\"class\": \"nnReshape\", \"kargs\": {\"shape\":[-1, 1, 2, 256]}},\n",
    "    {\"class\": \"Conv2d\", \"kargs\": { \"in_channels\":1, \"out_channels\":256, \"kernel_size\":(1,7), \"bias\":False, \"padding\":(0,3), },},\n",
    "    {\"class\": \"ReLU\", \"kargs\": {\"inplace\": True}},\n",
    "    {\"class\": \"BatchNorm2d\", \"kargs\": {\"num_features\":256}},\n",
    "\n",
    "    {\"class\": \"Conv2d\", \"kargs\": { \"in_channels\":256, \"out_channels\":80, \"kernel_size\":(2,7), \"bias\":True, \"padding\":(0,3), },},\n",
    "    {\"class\": \"ReLU\", \"kargs\": {\"inplace\": True}},\n",
    "    {\"class\": \"BatchNorm2d\", \"kargs\": {\"num_features\":80}},\n",
    "    {\"class\": \"Flatten\", \"kargs\": {}},\n",
    "\n",
    "    {\"class\": \"Linear\", \"kargs\": {\"in_features\": 80*256, \"out_features\": 256}}, # 80 units per IQ pair\n",
    "    {\"class\": \"ReLU\", \"kargs\": {\"inplace\": True}},\n",
    "    {\"class\": \"BatchNorm1d\", \"kargs\": {\"num_features\":256}},\n",
    "\n",
    "    {\"class\": \"Linear\", \"kargs\": {\"in_features\": 256, \"out_features\": 256}},\n",
    "]\n",
    "\n",
    "# Parameters relevant to results\n",
    "# These parameters will basically never need to change\n",
    "standalone_parameters[\"NUM_LOGS_PER_EPOCH\"] = 10\n",
    "standalone_parameters[\"BEST_MODEL_PATH\"] = \"./best_model.pth\"\n",
    "\n",
    "# uncomment for CORES dataset\n",
    "from steves_utils.CORES.utils import (\n",
    "    ALL_NODES,\n",
    "    ALL_NODES_MINIMUM_1000_EXAMPLES,\n",
    "    ALL_DAYS\n",
    ")\n",
    "\n",
    "\n",
    "standalone_parameters[\"labels_source\"] = ALL_NODES\n",
    "standalone_parameters[\"labels_target\"] = ALL_NODES\n",
    "\n",
    "standalone_parameters[\"domains_source\"] = [1]\n",
    "standalone_parameters[\"domains_target\"] = [2,3,4,5]\n",
    "\n",
    "standalone_parameters[\"pickle_name\"] = \"cores.stratified_ds.2022A.pkl\"\n",
    "\n",
    "\n",
    "# Uncomment these for ORACLE dataset\n",
    "# from steves_utils.ORACLE.utils_v2 import (\n",
    "#     ALL_DISTANCES_FEET,\n",
    "#     ALL_RUNS,\n",
    "#     ALL_SERIAL_NUMBERS,\n",
    "# )\n",
    "# standalone_parameters[\"labels_source\"] = ALL_SERIAL_NUMBERS\n",
    "# standalone_parameters[\"labels_target\"] = ALL_SERIAL_NUMBERS\n",
    "# standalone_parameters[\"domains_source\"] = [8,20, 38,50]\n",
    "# standalone_parameters[\"domains_target\"] = [14, 26, 32, 44, 56]\n",
    "# standalone_parameters[\"pickle_name\"] = \"oracle.frame_indexed.stratified_ds.2022A.pkl\"\n",
    "# standalone_parameters[\"num_examples_per_domain_per_label_source\"]=1000\n",
    "# standalone_parameters[\"num_examples_per_domain_per_label_target\"]=1000\n",
    "\n",
    "# Uncomment these for Metahan dataset\n",
    "# standalone_parameters[\"labels_source\"] = list(range(19))\n",
    "# standalone_parameters[\"labels_target\"] = list(range(19))\n",
    "# standalone_parameters[\"domains_source\"] = [0]\n",
    "# standalone_parameters[\"domains_target\"] = [1]\n",
    "# standalone_parameters[\"pickle_name\"] = \"metehan.stratified_ds.2022A.pkl\"\n",
    "# standalone_parameters[\"n_way\"]  = len(standalone_parameters[\"labels_source\"])\n",
    "# standalone_parameters[\"num_examples_per_domain_per_label_source\"]=200\n",
    "# standalone_parameters[\"num_examples_per_domain_per_label_target\"]=100\n",
    "\n",
    "\n",
    "standalone_parameters[\"n_way\"]  = len(standalone_parameters[\"labels_source\"])"
   ]
  },
  {
   "cell_type": "code",
   "execution_count": 4,
   "id": "77c53ab7",
   "metadata": {
    "execution": {
     "iopub.execute_input": "2022-03-26T13:40:10.149568Z",
     "iopub.status.busy": "2022-03-26T13:40:10.148379Z",
     "iopub.status.idle": "2022-03-26T13:40:10.169574Z",
     "shell.execute_reply": "2022-03-26T13:40:10.168770Z"
    },
    "papermill": {
     "duration": 0.050212,
     "end_time": "2022-03-26T13:40:10.169769",
     "exception": false,
     "start_time": "2022-03-26T13:40:10.119557",
     "status": "completed"
    },
    "tags": [
     "injected-parameters"
    ]
   },
   "outputs": [],
   "source": [
    "# Parameters\n",
    "parameters = {\n",
    "    \"experiment_name\": \"tuned_1v2:oracle.run2.framed\",\n",
    "    \"device\": \"cuda\",\n",
    "    \"lr\": 0.0001,\n",
    "    \"labels_source\": [\n",
    "        \"3123D52\",\n",
    "        \"3123D65\",\n",
    "        \"3123D79\",\n",
    "        \"3123D80\",\n",
    "        \"3123D54\",\n",
    "        \"3123D70\",\n",
    "        \"3123D7B\",\n",
    "        \"3123D89\",\n",
    "        \"3123D58\",\n",
    "        \"3123D76\",\n",
    "        \"3123D7D\",\n",
    "        \"3123EFE\",\n",
    "        \"3123D64\",\n",
    "        \"3123D78\",\n",
    "        \"3123D7E\",\n",
    "        \"3124E4A\",\n",
    "    ],\n",
    "    \"labels_target\": [\n",
    "        \"3123D52\",\n",
    "        \"3123D65\",\n",
    "        \"3123D79\",\n",
    "        \"3123D80\",\n",
    "        \"3123D54\",\n",
    "        \"3123D70\",\n",
    "        \"3123D7B\",\n",
    "        \"3123D89\",\n",
    "        \"3123D58\",\n",
    "        \"3123D76\",\n",
    "        \"3123D7D\",\n",
    "        \"3123EFE\",\n",
    "        \"3123D64\",\n",
    "        \"3123D78\",\n",
    "        \"3123D7E\",\n",
    "        \"3124E4A\",\n",
    "    ],\n",
    "    \"episode_transforms_source\": [],\n",
    "    \"episode_transforms_target\": [],\n",
    "    \"domains_source\": [8, 32, 50],\n",
    "    \"domains_target\": [14, 20, 26, 38, 44],\n",
    "    \"num_examples_per_domain_per_label_source\": -1,\n",
    "    \"num_examples_per_domain_per_label_target\": -1,\n",
    "    \"n_shot\": 3,\n",
    "    \"n_way\": 16,\n",
    "    \"n_query\": 2,\n",
    "    \"train_k_factor\": 3,\n",
    "    \"val_k_factor\": 2,\n",
    "    \"test_k_factor\": 2,\n",
    "    \"torch_default_dtype\": \"torch.float32\",\n",
    "    \"n_epoch\": 50,\n",
    "    \"patience\": 3,\n",
    "    \"criteria_for_best\": \"target_accuracy\",\n",
    "    \"x_net\": [\n",
    "        {\"class\": \"nnReshape\", \"kargs\": {\"shape\": [-1, 1, 2, 256]}},\n",
    "        {\n",
    "            \"class\": \"Conv2d\",\n",
    "            \"kargs\": {\n",
    "                \"in_channels\": 1,\n",
    "                \"out_channels\": 256,\n",
    "                \"kernel_size\": [1, 7],\n",
    "                \"bias\": False,\n",
    "                \"padding\": [0, 3],\n",
    "            },\n",
    "        },\n",
    "        {\"class\": \"ReLU\", \"kargs\": {\"inplace\": True}},\n",
    "        {\"class\": \"BatchNorm2d\", \"kargs\": {\"num_features\": 256}},\n",
    "        {\n",
    "            \"class\": \"Conv2d\",\n",
    "            \"kargs\": {\n",
    "                \"in_channels\": 256,\n",
    "                \"out_channels\": 80,\n",
    "                \"kernel_size\": [2, 7],\n",
    "                \"bias\": True,\n",
    "                \"padding\": [0, 3],\n",
    "            },\n",
    "        },\n",
    "        {\"class\": \"ReLU\", \"kargs\": {\"inplace\": True}},\n",
    "        {\"class\": \"BatchNorm2d\", \"kargs\": {\"num_features\": 80}},\n",
    "        {\"class\": \"Flatten\", \"kargs\": {}},\n",
    "        {\"class\": \"Linear\", \"kargs\": {\"in_features\": 20480, \"out_features\": 256}},\n",
    "        {\"class\": \"ReLU\", \"kargs\": {\"inplace\": True}},\n",
    "        {\"class\": \"BatchNorm1d\", \"kargs\": {\"num_features\": 256}},\n",
    "        {\"class\": \"Linear\", \"kargs\": {\"in_features\": 256, \"out_features\": 256}},\n",
    "    ],\n",
    "    \"NUM_LOGS_PER_EPOCH\": 10,\n",
    "    \"BEST_MODEL_PATH\": \"./best_model.pth\",\n",
    "    \"pickle_name\": \"oracle.Run2_framed_2000Examples_stratified_ds.2022A.pkl\",\n",
    "    \"x_transforms_source\": [\"unit_mag\"],\n",
    "    \"x_transforms_target\": [\"unit_mag\"],\n",
    "    \"dataset_seed\": 7,\n",
    "    \"seed\": 7,\n",
    "}\n"
   ]
  },
  {
   "cell_type": "code",
   "execution_count": 5,
   "id": "8fa1cc33",
   "metadata": {
    "execution": {
     "iopub.execute_input": "2022-03-26T13:40:10.213297Z",
     "iopub.status.busy": "2022-03-26T13:40:10.212887Z",
     "iopub.status.idle": "2022-03-26T13:40:10.233358Z",
     "shell.execute_reply": "2022-03-26T13:40:10.232834Z"
    },
    "papermill": {
     "duration": 0.040036,
     "end_time": "2022-03-26T13:40:10.233487",
     "exception": false,
     "start_time": "2022-03-26T13:40:10.193451",
     "status": "completed"
    },
    "tags": []
   },
   "outputs": [],
   "source": [
    "# Set this to True if you want to run this template directly\n",
    "STANDALONE = False\n",
    "if STANDALONE:\n",
    "    print(\"parameters not injected, running with standalone_parameters\")\n",
    "    parameters = standalone_parameters\n",
    "\n",
    "if not 'parameters' in locals() and not 'parameters' in globals():\n",
    "    raise Exception(\"Parameter injection failed\")\n",
    "\n",
    "#Use an easy dict for all the parameters\n",
    "p = EasyDict(parameters)\n",
    "\n",
    "supplied_keys = set(p.keys())\n",
    "\n",
    "if  supplied_keys != required_parameters:\n",
    "    print(\"Parameters are incorrect\")\n",
    "    if len(supplied_keys - required_parameters)>0: print(\"Shouldn't have:\", str(supplied_keys - required_parameters))\n",
    "    if len(required_parameters - supplied_keys)>0: print(\"Need to have:\", str(required_parameters - supplied_keys))\n",
    "    raise RuntimeError(\"Parameters are incorrect\")\n",
    "\n"
   ]
  },
  {
   "cell_type": "code",
   "execution_count": 6,
   "id": "3a028d58",
   "metadata": {
    "execution": {
     "iopub.execute_input": "2022-03-26T13:40:10.280318Z",
     "iopub.status.busy": "2022-03-26T13:40:10.279426Z",
     "iopub.status.idle": "2022-03-26T13:40:10.304456Z",
     "shell.execute_reply": "2022-03-26T13:40:10.303288Z"
    },
    "papermill": {
     "duration": 0.050054,
     "end_time": "2022-03-26T13:40:10.304706",
     "exception": false,
     "start_time": "2022-03-26T13:40:10.254652",
     "status": "completed"
    },
    "tags": []
   },
   "outputs": [],
   "source": [
    "###################################\n",
    "# Set the RNGs and make it all deterministic\n",
    "###################################\n",
    "np.random.seed(p.seed)\n",
    "random.seed(p.seed)\n",
    "torch.manual_seed(p.seed)\n",
    "\n",
    "torch.use_deterministic_algorithms(True) "
   ]
  },
  {
   "cell_type": "code",
   "execution_count": 7,
   "id": "b691acf6",
   "metadata": {
    "execution": {
     "iopub.execute_input": "2022-03-26T13:40:10.342892Z",
     "iopub.status.busy": "2022-03-26T13:40:10.342497Z",
     "iopub.status.idle": "2022-03-26T13:40:10.364717Z",
     "shell.execute_reply": "2022-03-26T13:40:10.363882Z"
    },
    "papermill": {
     "duration": 0.041896,
     "end_time": "2022-03-26T13:40:10.364887",
     "exception": false,
     "start_time": "2022-03-26T13:40:10.322991",
     "status": "completed"
    },
    "tags": []
   },
   "outputs": [],
   "source": [
    "###########################################\n",
    "# The stratified datasets honor this\n",
    "###########################################\n",
    "torch.set_default_dtype(eval(p.torch_default_dtype))"
   ]
  },
  {
   "cell_type": "code",
   "execution_count": 8,
   "id": "b5fba671",
   "metadata": {
    "execution": {
     "iopub.execute_input": "2022-03-26T13:40:10.403787Z",
     "iopub.status.busy": "2022-03-26T13:40:10.402948Z",
     "iopub.status.idle": "2022-03-26T13:40:10.460924Z",
     "shell.execute_reply": "2022-03-26T13:40:10.460149Z"
    },
    "papermill": {
     "duration": 0.076492,
     "end_time": "2022-03-26T13:40:10.461100",
     "exception": false,
     "start_time": "2022-03-26T13:40:10.384608",
     "status": "completed"
    },
    "tags": []
   },
   "outputs": [],
   "source": [
    "###################################\n",
    "# Build the network(s)\n",
    "# Note: It's critical to do this AFTER setting the RNG\n",
    "# (This is due to the randomized initial weights)\n",
    "###################################\n",
    "x_net = build_sequential(p.x_net)"
   ]
  },
  {
   "cell_type": "code",
   "execution_count": 9,
   "id": "5d7e61cc",
   "metadata": {
    "execution": {
     "iopub.execute_input": "2022-03-26T13:40:10.499225Z",
     "iopub.status.busy": "2022-03-26T13:40:10.498645Z",
     "iopub.status.idle": "2022-03-26T13:40:10.519960Z",
     "shell.execute_reply": "2022-03-26T13:40:10.519115Z"
    },
    "papermill": {
     "duration": 0.03961,
     "end_time": "2022-03-26T13:40:10.520130",
     "exception": false,
     "start_time": "2022-03-26T13:40:10.480520",
     "status": "completed"
    },
    "tags": []
   },
   "outputs": [],
   "source": [
    "start_time_secs = time.time()"
   ]
  },
  {
   "cell_type": "code",
   "execution_count": 10,
   "id": "fd5442bc",
   "metadata": {
    "execution": {
     "iopub.execute_input": "2022-03-26T13:40:10.569632Z",
     "iopub.status.busy": "2022-03-26T13:40:10.568062Z",
     "iopub.status.idle": "2022-03-26T13:40:32.328236Z",
     "shell.execute_reply": "2022-03-26T13:40:32.327402Z"
    },
    "papermill": {
     "duration": 21.783695,
     "end_time": "2022-03-26T13:40:32.328428",
     "exception": false,
     "start_time": "2022-03-26T13:40:10.544733",
     "status": "completed"
    },
    "tags": []
   },
   "outputs": [],
   "source": [
    "###################################\n",
    "# Build the dataset\n",
    "###################################\n",
    "\n",
    "if p.x_transforms_source == []: x_transform_source = None\n",
    "else: x_transform_source = get_chained_transform(p.x_transforms_source) \n",
    "\n",
    "if p.x_transforms_target == []: x_transform_target = None\n",
    "else: x_transform_target = get_chained_transform(p.x_transforms_target)\n",
    "\n",
    "if p.episode_transforms_source == []: episode_transform_source = None\n",
    "else: raise Exception(\"episode_transform_source not implemented\")\n",
    "\n",
    "if p.episode_transforms_target == []: episode_transform_target = None\n",
    "else: raise Exception(\"episode_transform_target not implemented\")\n",
    "\n",
    "\n",
    "eaf_source = Episodic_Accessor_Factory(\n",
    "    labels=p.labels_source,\n",
    "    domains=p.domains_source,\n",
    "    num_examples_per_domain_per_label=p.num_examples_per_domain_per_label_source,\n",
    "    iterator_seed=p.seed,\n",
    "    dataset_seed=p.dataset_seed,\n",
    "    n_shot=p.n_shot,\n",
    "    n_way=p.n_way,\n",
    "    n_query=p.n_query,\n",
    "    train_val_test_k_factors=(p.train_k_factor,p.val_k_factor,p.test_k_factor),\n",
    "    pickle_path=os.path.join(get_datasets_base_path(), p.pickle_name),\n",
    "    x_transform_func=x_transform_source,\n",
    "    example_transform_func=episode_transform_source,\n",
    "    \n",
    ")\n",
    "train_original_source, val_original_source, test_original_source = eaf_source.get_train(), eaf_source.get_val(), eaf_source.get_test()\n",
    "\n",
    "\n",
    "eaf_target = Episodic_Accessor_Factory(\n",
    "    labels=p.labels_target,\n",
    "    domains=p.domains_target,\n",
    "    num_examples_per_domain_per_label=p.num_examples_per_domain_per_label_target,\n",
    "    iterator_seed=p.seed,\n",
    "    dataset_seed=p.dataset_seed,\n",
    "    n_shot=p.n_shot,\n",
    "    n_way=p.n_way,\n",
    "    n_query=p.n_query,\n",
    "    train_val_test_k_factors=(p.train_k_factor,p.val_k_factor,p.test_k_factor),\n",
    "    pickle_path=os.path.join(get_datasets_base_path(), p.pickle_name),\n",
    "    x_transform_func=x_transform_target,\n",
    "    example_transform_func=episode_transform_target,\n",
    ")\n",
    "train_original_target, val_original_target, test_original_target = eaf_target.get_train(), eaf_target.get_val(), eaf_target.get_test()\n",
    "\n",
    "\n",
    "transform_lambda = lambda ex: ex[1] # Original is (<domain>, <episode>) so we strip down to episode only\n",
    "\n",
    "train_processed_source = Lazy_Iterable_Wrapper(train_original_source, transform_lambda)\n",
    "val_processed_source   = Lazy_Iterable_Wrapper(val_original_source, transform_lambda)\n",
    "test_processed_source  = Lazy_Iterable_Wrapper(test_original_source, transform_lambda)\n",
    "\n",
    "train_processed_target = Lazy_Iterable_Wrapper(train_original_target, transform_lambda)\n",
    "val_processed_target   = Lazy_Iterable_Wrapper(val_original_target, transform_lambda)\n",
    "test_processed_target  = Lazy_Iterable_Wrapper(test_original_target, transform_lambda)\n",
    "\n",
    "datasets = EasyDict({\n",
    "    \"source\": {\n",
    "        \"original\": {\"train\":train_original_source, \"val\":val_original_source, \"test\":test_original_source},\n",
    "        \"processed\": {\"train\":train_processed_source, \"val\":val_processed_source, \"test\":test_processed_source}\n",
    "    },\n",
    "    \"target\": {\n",
    "        \"original\": {\"train\":train_original_target, \"val\":val_original_target, \"test\":test_original_target},\n",
    "        \"processed\": {\"train\":train_processed_target, \"val\":val_processed_target, \"test\":test_processed_target}\n",
    "    },\n",
    "})"
   ]
  },
  {
   "cell_type": "code",
   "execution_count": 11,
   "id": "296189d9",
   "metadata": {
    "execution": {
     "iopub.execute_input": "2022-03-26T13:40:32.371181Z",
     "iopub.status.busy": "2022-03-26T13:40:32.370232Z",
     "iopub.status.idle": "2022-03-26T13:40:37.881830Z",
     "shell.execute_reply": "2022-03-26T13:40:37.882537Z"
    },
    "papermill": {
     "duration": 5.532895,
     "end_time": "2022-03-26T13:40:37.882744",
     "exception": false,
     "start_time": "2022-03-26T13:40:32.349849",
     "status": "completed"
    },
    "tags": []
   },
   "outputs": [
    {
     "name": "stdout",
     "output_type": "stream",
     "text": [
      "Visually inspect these to see if they line up with expected values given the transforms\n",
      "x_transforms_source ['unit_mag']\n",
      "x_transforms_target ['unit_mag']\n",
      "Average magnitude, source: 0.99999994\n",
      "Average power, source: 1.0923951\n"
     ]
    },
    {
     "name": "stdout",
     "output_type": "stream",
     "text": [
      "Average magnitude, target: 1.0\n",
      "Average power, target: 1.0887917\n"
     ]
    }
   ],
   "source": [
    "# Some quick unit tests on the data\n",
    "from steves_utils.transforms import get_average_power, get_average_magnitude\n",
    "\n",
    "q_x, q_y, s_x, s_y, truth = next(iter(train_processed_source))\n",
    "\n",
    "assert q_x.dtype == eval(p.torch_default_dtype)\n",
    "assert s_x.dtype == eval(p.torch_default_dtype)\n",
    "\n",
    "print(\"Visually inspect these to see if they line up with expected values given the transforms\")\n",
    "print('x_transforms_source', p.x_transforms_source)\n",
    "print('x_transforms_target', p.x_transforms_target)\n",
    "print(\"Average magnitude, source:\", get_average_magnitude(q_x[0].numpy()))\n",
    "print(\"Average power, source:\", get_average_power(q_x[0].numpy()))\n",
    "\n",
    "q_x, q_y, s_x, s_y, truth = next(iter(train_processed_target))\n",
    "print(\"Average magnitude, target:\", get_average_magnitude(q_x[0].numpy()))\n",
    "print(\"Average power, target:\", get_average_power(q_x[0].numpy()))\n"
   ]
  },
  {
   "cell_type": "code",
   "execution_count": 12,
   "id": "bbdacba1",
   "metadata": {
    "execution": {
     "iopub.execute_input": "2022-03-26T13:40:37.927338Z",
     "iopub.status.busy": "2022-03-26T13:40:37.926971Z",
     "iopub.status.idle": "2022-03-26T13:40:38.077861Z",
     "shell.execute_reply": "2022-03-26T13:40:38.077022Z"
    },
    "papermill": {
     "duration": 0.171918,
     "end_time": "2022-03-26T13:40:38.078035",
     "exception": false,
     "start_time": "2022-03-26T13:40:37.906117",
     "status": "completed"
    },
    "tags": []
   },
   "outputs": [
    {
     "name": "stdout",
     "output_type": "stream",
     "text": [
      "(2, 256)\n"
     ]
    }
   ],
   "source": [
    "###################################\n",
    "# Build the model\n",
    "###################################\n",
    "model = Steves_Prototypical_Network(x_net, device=p.device, x_shape=(2,256))\n",
    "optimizer = Adam(params=model.parameters(), lr=p.lr)"
   ]
  },
  {
   "cell_type": "code",
   "execution_count": 13,
   "id": "22b39ac5",
   "metadata": {
    "execution": {
     "iopub.execute_input": "2022-03-26T13:40:38.120176Z",
     "iopub.status.busy": "2022-03-26T13:40:38.119734Z",
     "iopub.status.idle": "2022-03-26T13:52:51.063058Z",
     "shell.execute_reply": "2022-03-26T13:52:51.062232Z"
    },
    "papermill": {
     "duration": 732.963123,
     "end_time": "2022-03-26T13:52:51.063223",
     "exception": false,
     "start_time": "2022-03-26T13:40:38.100100",
     "status": "completed"
    },
    "tags": []
   },
   "outputs": [
    {
     "name": "stdout",
     "output_type": "stream",
     "text": [
      "epoch: 1, [batch: 1 / 2520], examples_per_second: 80.0408, train_label_loss: 2.8644, \n"
     ]
    },
    {
     "name": "stdout",
     "output_type": "stream",
     "text": [
      "epoch: 1, [batch: 252 / 2520], examples_per_second: 3879.3649, train_label_loss: 1.9753, \n"
     ]
    },
    {
     "name": "stdout",
     "output_type": "stream",
     "text": [
      "epoch: 1, [batch: 504 / 2520], examples_per_second: 3921.6399, train_label_loss: 1.3379, \n"
     ]
    },
    {
     "name": "stdout",
     "output_type": "stream",
     "text": [
      "epoch: 1, [batch: 756 / 2520], examples_per_second: 4237.1618, train_label_loss: 0.8898, \n"
     ]
    },
    {
     "name": "stdout",
     "output_type": "stream",
     "text": [
      "epoch: 1, [batch: 1008 / 2520], examples_per_second: 4092.2257, train_label_loss: 0.8056, \n"
     ]
    },
    {
     "name": "stdout",
     "output_type": "stream",
     "text": [
      "epoch: 1, [batch: 1260 / 2520], examples_per_second: 4391.2195, train_label_loss: 0.7417, \n"
     ]
    },
    {
     "name": "stdout",
     "output_type": "stream",
     "text": [
      "epoch: 1, [batch: 1512 / 2520], examples_per_second: 3820.0608, train_label_loss: 0.9431, \n"
     ]
    },
    {
     "name": "stdout",
     "output_type": "stream",
     "text": [
      "epoch: 1, [batch: 1764 / 2520], examples_per_second: 3895.2007, train_label_loss: 0.6782, \n"
     ]
    },
    {
     "name": "stdout",
     "output_type": "stream",
     "text": [
      "epoch: 1, [batch: 2016 / 2520], examples_per_second: 4126.5470, train_label_loss: 0.7075, \n"
     ]
    },
    {
     "name": "stdout",
     "output_type": "stream",
     "text": [
      "epoch: 1, [batch: 2268 / 2520], examples_per_second: 3897.8984, train_label_loss: 0.2856, \n"
     ]
    },
    {
     "name": "stdout",
     "output_type": "stream",
     "text": [
      "=============================================================\n",
      "epoch: 1, source_val_acc_label: 0.7251, target_val_acc_label: 0.5978, source_val_label_loss: 2.3349, target_val_label_loss: 10.2596, \n",
      "=============================================================\n"
     ]
    },
    {
     "name": "stdout",
     "output_type": "stream",
     "text": [
      "New best\n"
     ]
    },
    {
     "name": "stdout",
     "output_type": "stream",
     "text": [
      "epoch: 2, [batch: 1 / 2520], examples_per_second: 8.2320, train_label_loss: 2.5332, \n"
     ]
    },
    {
     "name": "stdout",
     "output_type": "stream",
     "text": [
      "epoch: 2, [batch: 252 / 2520], examples_per_second: 3941.6907, train_label_loss: 0.4997, \n"
     ]
    },
    {
     "name": "stdout",
     "output_type": "stream",
     "text": [
      "epoch: 2, [batch: 504 / 2520], examples_per_second: 4117.3115, train_label_loss: 1.3104, \n"
     ]
    },
    {
     "name": "stdout",
     "output_type": "stream",
     "text": [
      "epoch: 2, [batch: 756 / 2520], examples_per_second: 4282.8806, train_label_loss: 0.8251, \n"
     ]
    },
    {
     "name": "stdout",
     "output_type": "stream",
     "text": [
      "epoch: 2, [batch: 1008 / 2520], examples_per_second: 4383.8469, train_label_loss: 0.4956, \n"
     ]
    },
    {
     "name": "stdout",
     "output_type": "stream",
     "text": [
      "epoch: 2, [batch: 1260 / 2520], examples_per_second: 4038.3122, train_label_loss: 0.5392, \n"
     ]
    },
    {
     "name": "stdout",
     "output_type": "stream",
     "text": [
      "epoch: 2, [batch: 1512 / 2520], examples_per_second: 3971.1545, train_label_loss: 0.4746, \n"
     ]
    },
    {
     "name": "stdout",
     "output_type": "stream",
     "text": [
      "epoch: 2, [batch: 1764 / 2520], examples_per_second: 3927.1479, train_label_loss: 0.4380, \n"
     ]
    },
    {
     "name": "stdout",
     "output_type": "stream",
     "text": [
      "epoch: 2, [batch: 2016 / 2520], examples_per_second: 4067.9961, train_label_loss: 0.3302, \n"
     ]
    },
    {
     "name": "stdout",
     "output_type": "stream",
     "text": [
      "epoch: 2, [batch: 2268 / 2520], examples_per_second: 3942.0553, train_label_loss: 0.5883, \n"
     ]
    },
    {
     "name": "stdout",
     "output_type": "stream",
     "text": [
      "=============================================================\n",
      "epoch: 2, source_val_acc_label: 0.8094, target_val_acc_label: 0.6868, source_val_label_loss: 0.5155, target_val_label_loss: 5.2447, \n",
      "=============================================================\n"
     ]
    },
    {
     "name": "stdout",
     "output_type": "stream",
     "text": [
      "New best\n"
     ]
    },
    {
     "name": "stdout",
     "output_type": "stream",
     "text": [
      "epoch: 3, [batch: 1 / 2520], examples_per_second: 8.5328, train_label_loss: 0.2136, \n"
     ]
    },
    {
     "name": "stdout",
     "output_type": "stream",
     "text": [
      "epoch: 3, [batch: 252 / 2520], examples_per_second: 3918.0211, train_label_loss: 0.6405, \n"
     ]
    },
    {
     "name": "stdout",
     "output_type": "stream",
     "text": [
      "epoch: 3, [batch: 504 / 2520], examples_per_second: 4200.8165, train_label_loss: 0.5117, \n"
     ]
    },
    {
     "name": "stdout",
     "output_type": "stream",
     "text": [
      "epoch: 3, [batch: 756 / 2520], examples_per_second: 4351.2741, train_label_loss: 0.5024, \n"
     ]
    },
    {
     "name": "stdout",
     "output_type": "stream",
     "text": [
      "epoch: 3, [batch: 1008 / 2520], examples_per_second: 4555.5682, train_label_loss: 0.7552, \n"
     ]
    },
    {
     "name": "stdout",
     "output_type": "stream",
     "text": [
      "epoch: 3, [batch: 1260 / 2520], examples_per_second: 4176.9987, train_label_loss: 0.1948, \n"
     ]
    },
    {
     "name": "stdout",
     "output_type": "stream",
     "text": [
      "epoch: 3, [batch: 1512 / 2520], examples_per_second: 3944.2183, train_label_loss: 0.3839, \n"
     ]
    },
    {
     "name": "stdout",
     "output_type": "stream",
     "text": [
      "epoch: 3, [batch: 1764 / 2520], examples_per_second: 3860.7159, train_label_loss: 0.4514, \n"
     ]
    },
    {
     "name": "stdout",
     "output_type": "stream",
     "text": [
      "epoch: 3, [batch: 2016 / 2520], examples_per_second: 3930.5206, train_label_loss: 0.3751, \n"
     ]
    },
    {
     "name": "stdout",
     "output_type": "stream",
     "text": [
      "epoch: 3, [batch: 2268 / 2520], examples_per_second: 3946.8605, train_label_loss: 0.4387, \n"
     ]
    },
    {
     "name": "stdout",
     "output_type": "stream",
     "text": [
      "=============================================================\n",
      "epoch: 3, source_val_acc_label: 0.8149, target_val_acc_label: 0.6886, source_val_label_loss: 0.4887, target_val_label_loss: 7.1312, \n",
      "=============================================================\n"
     ]
    },
    {
     "name": "stdout",
     "output_type": "stream",
     "text": [
      "New best\n"
     ]
    },
    {
     "name": "stdout",
     "output_type": "stream",
     "text": [
      "epoch: 4, [batch: 1 / 2520], examples_per_second: 8.6809, train_label_loss: 0.2705, \n"
     ]
    },
    {
     "name": "stdout",
     "output_type": "stream",
     "text": [
      "epoch: 4, [batch: 252 / 2520], examples_per_second: 3844.5223, train_label_loss: 0.2752, \n"
     ]
    },
    {
     "name": "stdout",
     "output_type": "stream",
     "text": [
      "epoch: 4, [batch: 504 / 2520], examples_per_second: 4011.8350, train_label_loss: 0.4586, \n"
     ]
    },
    {
     "name": "stdout",
     "output_type": "stream",
     "text": [
      "epoch: 4, [batch: 756 / 2520], examples_per_second: 4421.5113, train_label_loss: 0.1381, \n"
     ]
    },
    {
     "name": "stdout",
     "output_type": "stream",
     "text": [
      "epoch: 4, [batch: 1008 / 2520], examples_per_second: 4546.7167, train_label_loss: 0.2860, \n"
     ]
    },
    {
     "name": "stdout",
     "output_type": "stream",
     "text": [
      "epoch: 4, [batch: 1260 / 2520], examples_per_second: 4347.9418, train_label_loss: 0.4058, \n"
     ]
    },
    {
     "name": "stdout",
     "output_type": "stream",
     "text": [
      "epoch: 4, [batch: 1512 / 2520], examples_per_second: 4065.4905, train_label_loss: 0.4694, \n"
     ]
    },
    {
     "name": "stdout",
     "output_type": "stream",
     "text": [
      "epoch: 4, [batch: 1764 / 2520], examples_per_second: 3967.6109, train_label_loss: 0.5509, \n"
     ]
    },
    {
     "name": "stdout",
     "output_type": "stream",
     "text": [
      "epoch: 4, [batch: 2016 / 2520], examples_per_second: 3936.7032, train_label_loss: 0.6071, \n"
     ]
    },
    {
     "name": "stdout",
     "output_type": "stream",
     "text": [
      "epoch: 4, [batch: 2268 / 2520], examples_per_second: 3911.9653, train_label_loss: 0.2023, \n"
     ]
    },
    {
     "name": "stdout",
     "output_type": "stream",
     "text": [
      "=============================================================\n",
      "epoch: 4, source_val_acc_label: 0.8694, target_val_acc_label: 0.7449, source_val_label_loss: 0.3567, target_val_label_loss: 9.7925, \n",
      "=============================================================\n"
     ]
    },
    {
     "name": "stdout",
     "output_type": "stream",
     "text": [
      "New best\n"
     ]
    },
    {
     "name": "stdout",
     "output_type": "stream",
     "text": [
      "epoch: 5, [batch: 1 / 2520], examples_per_second: 8.3882, train_label_loss: 0.3367, \n"
     ]
    },
    {
     "name": "stdout",
     "output_type": "stream",
     "text": [
      "epoch: 5, [batch: 252 / 2520], examples_per_second: 3818.1931, train_label_loss: 0.5684, \n"
     ]
    },
    {
     "name": "stdout",
     "output_type": "stream",
     "text": [
      "epoch: 5, [batch: 504 / 2520], examples_per_second: 4262.9592, train_label_loss: 0.3786, \n"
     ]
    },
    {
     "name": "stdout",
     "output_type": "stream",
     "text": [
      "epoch: 5, [batch: 756 / 2520], examples_per_second: 4358.2555, train_label_loss: 0.4853, \n"
     ]
    },
    {
     "name": "stdout",
     "output_type": "stream",
     "text": [
      "epoch: 5, [batch: 1008 / 2520], examples_per_second: 4564.1392, train_label_loss: 0.6860, \n"
     ]
    },
    {
     "name": "stdout",
     "output_type": "stream",
     "text": [
      "epoch: 5, [batch: 1260 / 2520], examples_per_second: 4029.1802, train_label_loss: 0.5301, \n"
     ]
    },
    {
     "name": "stdout",
     "output_type": "stream",
     "text": [
      "epoch: 5, [batch: 1512 / 2520], examples_per_second: 3922.9028, train_label_loss: 0.4579, \n"
     ]
    },
    {
     "name": "stdout",
     "output_type": "stream",
     "text": [
      "epoch: 5, [batch: 1764 / 2520], examples_per_second: 3943.9212, train_label_loss: 0.6594, \n"
     ]
    },
    {
     "name": "stdout",
     "output_type": "stream",
     "text": [
      "epoch: 5, [batch: 2016 / 2520], examples_per_second: 4026.6643, train_label_loss: 0.5359, \n"
     ]
    },
    {
     "name": "stdout",
     "output_type": "stream",
     "text": [
      "epoch: 5, [batch: 2268 / 2520], examples_per_second: 3939.9207, train_label_loss: 0.7618, \n"
     ]
    },
    {
     "name": "stdout",
     "output_type": "stream",
     "text": [
      "=============================================================\n",
      "epoch: 5, source_val_acc_label: 0.8924, target_val_acc_label: 0.7757, source_val_label_loss: 0.2947, target_val_label_loss: 5.6522, \n",
      "=============================================================\n"
     ]
    },
    {
     "name": "stdout",
     "output_type": "stream",
     "text": [
      "New best\n"
     ]
    },
    {
     "name": "stdout",
     "output_type": "stream",
     "text": [
      "epoch: 6, [batch: 1 / 2520], examples_per_second: 8.4118, train_label_loss: 0.2644, \n"
     ]
    },
    {
     "name": "stdout",
     "output_type": "stream",
     "text": [
      "epoch: 6, [batch: 252 / 2520], examples_per_second: 3934.4840, train_label_loss: 0.1368, \n"
     ]
    },
    {
     "name": "stdout",
     "output_type": "stream",
     "text": [
      "epoch: 6, [batch: 504 / 2520], examples_per_second: 4307.0801, train_label_loss: 0.3178, \n"
     ]
    },
    {
     "name": "stdout",
     "output_type": "stream",
     "text": [
      "epoch: 6, [batch: 756 / 2520], examples_per_second: 4468.3303, train_label_loss: 0.1452, \n"
     ]
    },
    {
     "name": "stdout",
     "output_type": "stream",
     "text": [
      "epoch: 6, [batch: 1008 / 2520], examples_per_second: 4944.8839, train_label_loss: 0.3772, \n"
     ]
    },
    {
     "name": "stdout",
     "output_type": "stream",
     "text": [
      "epoch: 6, [batch: 1260 / 2520], examples_per_second: 4123.7776, train_label_loss: 0.0430, \n"
     ]
    },
    {
     "name": "stdout",
     "output_type": "stream",
     "text": [
      "epoch: 6, [batch: 1512 / 2520], examples_per_second: 3995.9761, train_label_loss: 0.2958, \n"
     ]
    },
    {
     "name": "stdout",
     "output_type": "stream",
     "text": [
      "epoch: 6, [batch: 1764 / 2520], examples_per_second: 3965.1738, train_label_loss: 0.3595, \n"
     ]
    },
    {
     "name": "stdout",
     "output_type": "stream",
     "text": [
      "epoch: 6, [batch: 2016 / 2520], examples_per_second: 4029.2385, train_label_loss: 0.2736, \n"
     ]
    },
    {
     "name": "stdout",
     "output_type": "stream",
     "text": [
      "epoch: 6, [batch: 2268 / 2520], examples_per_second: 4027.4325, train_label_loss: 0.1246, \n"
     ]
    },
    {
     "name": "stdout",
     "output_type": "stream",
     "text": [
      "=============================================================\n",
      "epoch: 6, source_val_acc_label: 0.8816, target_val_acc_label: 0.7672, source_val_label_loss: 0.3315, target_val_label_loss: 9.2116, \n",
      "=============================================================\n"
     ]
    },
    {
     "name": "stdout",
     "output_type": "stream",
     "text": [
      "epoch: 7, [batch: 1 / 2520], examples_per_second: 8.6741, train_label_loss: 0.6622, \n"
     ]
    },
    {
     "name": "stdout",
     "output_type": "stream",
     "text": [
      "epoch: 7, [batch: 252 / 2520], examples_per_second: 4072.6063, train_label_loss: 0.0926, \n"
     ]
    },
    {
     "name": "stdout",
     "output_type": "stream",
     "text": [
      "epoch: 7, [batch: 504 / 2520], examples_per_second: 4339.0581, train_label_loss: 0.9395, \n"
     ]
    },
    {
     "name": "stdout",
     "output_type": "stream",
     "text": [
      "epoch: 7, [batch: 756 / 2520], examples_per_second: 4443.5137, train_label_loss: 0.1697, \n"
     ]
    },
    {
     "name": "stdout",
     "output_type": "stream",
     "text": [
      "epoch: 7, [batch: 1008 / 2520], examples_per_second: 4362.3024, train_label_loss: 0.0897, \n"
     ]
    },
    {
     "name": "stdout",
     "output_type": "stream",
     "text": [
      "epoch: 7, [batch: 1260 / 2520], examples_per_second: 4262.2791, train_label_loss: 0.4641, \n"
     ]
    },
    {
     "name": "stdout",
     "output_type": "stream",
     "text": [
      "epoch: 7, [batch: 1512 / 2520], examples_per_second: 4221.3089, train_label_loss: 0.3496, \n"
     ]
    },
    {
     "name": "stdout",
     "output_type": "stream",
     "text": [
      "epoch: 7, [batch: 1764 / 2520], examples_per_second: 4302.8204, train_label_loss: 0.3789, \n"
     ]
    },
    {
     "name": "stdout",
     "output_type": "stream",
     "text": [
      "epoch: 7, [batch: 2016 / 2520], examples_per_second: 4341.0997, train_label_loss: 0.0961, \n"
     ]
    },
    {
     "name": "stdout",
     "output_type": "stream",
     "text": [
      "epoch: 7, [batch: 2268 / 2520], examples_per_second: 4437.8451, train_label_loss: 0.2827, \n"
     ]
    },
    {
     "name": "stdout",
     "output_type": "stream",
     "text": [
      "=============================================================\n",
      "epoch: 7, source_val_acc_label: 0.8956, target_val_acc_label: 0.7693, source_val_label_loss: 0.2836, target_val_label_loss: 13.5794, \n",
      "=============================================================\n"
     ]
    },
    {
     "name": "stdout",
     "output_type": "stream",
     "text": [
      "epoch: 8, [batch: 1 / 2520], examples_per_second: 9.4256, train_label_loss: 0.0937, \n"
     ]
    },
    {
     "name": "stdout",
     "output_type": "stream",
     "text": [
      "epoch: 8, [batch: 252 / 2520], examples_per_second: 4876.4075, train_label_loss: 0.0656, \n"
     ]
    },
    {
     "name": "stdout",
     "output_type": "stream",
     "text": [
      "epoch: 8, [batch: 504 / 2520], examples_per_second: 5154.2743, train_label_loss: 0.2132, \n"
     ]
    },
    {
     "name": "stdout",
     "output_type": "stream",
     "text": [
      "epoch: 8, [batch: 756 / 2520], examples_per_second: 5192.5147, train_label_loss: 0.2637, \n"
     ]
    },
    {
     "name": "stdout",
     "output_type": "stream",
     "text": [
      "epoch: 8, [batch: 1008 / 2520], examples_per_second: 4997.8236, train_label_loss: 0.4925, \n"
     ]
    },
    {
     "name": "stdout",
     "output_type": "stream",
     "text": [
      "epoch: 8, [batch: 1260 / 2520], examples_per_second: 5096.3882, train_label_loss: 0.1943, \n"
     ]
    },
    {
     "name": "stdout",
     "output_type": "stream",
     "text": [
      "epoch: 8, [batch: 1512 / 2520], examples_per_second: 4893.6112, train_label_loss: 0.2116, \n"
     ]
    },
    {
     "name": "stdout",
     "output_type": "stream",
     "text": [
      "epoch: 8, [batch: 1764 / 2520], examples_per_second: 4997.0442, train_label_loss: 0.3809, \n"
     ]
    },
    {
     "name": "stdout",
     "output_type": "stream",
     "text": [
      "epoch: 8, [batch: 2016 / 2520], examples_per_second: 5129.1227, train_label_loss: 0.0410, \n"
     ]
    },
    {
     "name": "stdout",
     "output_type": "stream",
     "text": [
      "epoch: 8, [batch: 2268 / 2520], examples_per_second: 5078.4424, train_label_loss: 0.1647, \n"
     ]
    },
    {
     "name": "stdout",
     "output_type": "stream",
     "text": [
      "=============================================================\n",
      "epoch: 8, source_val_acc_label: 0.9098, target_val_acc_label: 0.8019, source_val_label_loss: 0.2479, target_val_label_loss: 7.4435, \n",
      "=============================================================\n"
     ]
    },
    {
     "name": "stdout",
     "output_type": "stream",
     "text": [
      "New best\n"
     ]
    },
    {
     "name": "stdout",
     "output_type": "stream",
     "text": [
      "epoch: 9, [batch: 1 / 2520], examples_per_second: 11.2195, train_label_loss: 0.1843, \n"
     ]
    },
    {
     "name": "stdout",
     "output_type": "stream",
     "text": [
      "epoch: 9, [batch: 252 / 2520], examples_per_second: 5620.8185, train_label_loss: 0.1960, \n"
     ]
    },
    {
     "name": "stdout",
     "output_type": "stream",
     "text": [
      "epoch: 9, [batch: 504 / 2520], examples_per_second: 4951.4633, train_label_loss: 0.1871, \n"
     ]
    },
    {
     "name": "stdout",
     "output_type": "stream",
     "text": [
      "epoch: 9, [batch: 756 / 2520], examples_per_second: 4947.3703, train_label_loss: 0.1891, \n"
     ]
    },
    {
     "name": "stdout",
     "output_type": "stream",
     "text": [
      "epoch: 9, [batch: 1008 / 2520], examples_per_second: 4829.1802, train_label_loss: 0.0594, \n"
     ]
    },
    {
     "name": "stdout",
     "output_type": "stream",
     "text": [
      "epoch: 9, [batch: 1260 / 2520], examples_per_second: 4936.4622, train_label_loss: 0.2440, \n"
     ]
    },
    {
     "name": "stdout",
     "output_type": "stream",
     "text": [
      "epoch: 9, [batch: 1512 / 2520], examples_per_second: 4842.1506, train_label_loss: 0.2148, \n"
     ]
    },
    {
     "name": "stdout",
     "output_type": "stream",
     "text": [
      "epoch: 9, [batch: 1764 / 2520], examples_per_second: 5227.3306, train_label_loss: 0.4031, \n"
     ]
    },
    {
     "name": "stdout",
     "output_type": "stream",
     "text": [
      "epoch: 9, [batch: 2016 / 2520], examples_per_second: 4294.7031, train_label_loss: 0.1863, \n"
     ]
    },
    {
     "name": "stdout",
     "output_type": "stream",
     "text": [
      "epoch: 9, [batch: 2268 / 2520], examples_per_second: 3969.4021, train_label_loss: 0.1392, \n"
     ]
    },
    {
     "name": "stdout",
     "output_type": "stream",
     "text": [
      "=============================================================\n",
      "epoch: 9, source_val_acc_label: 0.8955, target_val_acc_label: 0.7767, source_val_label_loss: 0.2827, target_val_label_loss: 10.1322, \n",
      "=============================================================\n"
     ]
    },
    {
     "name": "stdout",
     "output_type": "stream",
     "text": [
      "epoch: 10, [batch: 1 / 2520], examples_per_second: 8.6438, train_label_loss: 0.0351, \n"
     ]
    },
    {
     "name": "stdout",
     "output_type": "stream",
     "text": [
      "epoch: 10, [batch: 252 / 2520], examples_per_second: 3891.0339, train_label_loss: 0.0591, \n"
     ]
    },
    {
     "name": "stdout",
     "output_type": "stream",
     "text": [
      "epoch: 10, [batch: 504 / 2520], examples_per_second: 3861.7301, train_label_loss: 0.0879, \n"
     ]
    },
    {
     "name": "stdout",
     "output_type": "stream",
     "text": [
      "epoch: 10, [batch: 756 / 2520], examples_per_second: 3818.1696, train_label_loss: 0.3364, \n"
     ]
    },
    {
     "name": "stdout",
     "output_type": "stream",
     "text": [
      "epoch: 10, [batch: 1008 / 2520], examples_per_second: 3816.4489, train_label_loss: 0.2303, \n"
     ]
    },
    {
     "name": "stdout",
     "output_type": "stream",
     "text": [
      "epoch: 10, [batch: 1260 / 2520], examples_per_second: 4057.1804, train_label_loss: 0.2372, \n"
     ]
    },
    {
     "name": "stdout",
     "output_type": "stream",
     "text": [
      "epoch: 10, [batch: 1512 / 2520], examples_per_second: 4237.0613, train_label_loss: 0.1223, \n"
     ]
    },
    {
     "name": "stdout",
     "output_type": "stream",
     "text": [
      "epoch: 10, [batch: 1764 / 2520], examples_per_second: 4449.4682, train_label_loss: 0.0448, \n"
     ]
    },
    {
     "name": "stdout",
     "output_type": "stream",
     "text": [
      "epoch: 10, [batch: 2016 / 2520], examples_per_second: 4298.3151, train_label_loss: 0.1014, \n"
     ]
    },
    {
     "name": "stdout",
     "output_type": "stream",
     "text": [
      "epoch: 10, [batch: 2268 / 2520], examples_per_second: 3883.2693, train_label_loss: 0.0132, \n"
     ]
    },
    {
     "name": "stdout",
     "output_type": "stream",
     "text": [
      "=============================================================\n",
      "epoch: 10, source_val_acc_label: 0.9134, target_val_acc_label: 0.7784, source_val_label_loss: 0.2320, target_val_label_loss: 12.5363, \n",
      "=============================================================\n"
     ]
    },
    {
     "name": "stdout",
     "output_type": "stream",
     "text": [
      "epoch: 11, [batch: 1 / 2520], examples_per_second: 8.5009, train_label_loss: 0.2219, \n"
     ]
    },
    {
     "name": "stdout",
     "output_type": "stream",
     "text": [
      "epoch: 11, [batch: 252 / 2520], examples_per_second: 3816.9158, train_label_loss: 0.1935, \n"
     ]
    },
    {
     "name": "stdout",
     "output_type": "stream",
     "text": [
      "epoch: 11, [batch: 504 / 2520], examples_per_second: 3866.6632, train_label_loss: 0.2607, \n"
     ]
    },
    {
     "name": "stdout",
     "output_type": "stream",
     "text": [
      "epoch: 11, [batch: 756 / 2520], examples_per_second: 3999.4703, train_label_loss: 0.2894, \n"
     ]
    },
    {
     "name": "stdout",
     "output_type": "stream",
     "text": [
      "epoch: 11, [batch: 1008 / 2520], examples_per_second: 3894.7742, train_label_loss: 0.0234, \n"
     ]
    },
    {
     "name": "stdout",
     "output_type": "stream",
     "text": [
      "epoch: 11, [batch: 1260 / 2520], examples_per_second: 4233.4782, train_label_loss: 0.1180, \n"
     ]
    },
    {
     "name": "stdout",
     "output_type": "stream",
     "text": [
      "epoch: 11, [batch: 1512 / 2520], examples_per_second: 4595.0655, train_label_loss: 0.0973, \n"
     ]
    },
    {
     "name": "stdout",
     "output_type": "stream",
     "text": [
      "epoch: 11, [batch: 1764 / 2520], examples_per_second: 4403.1131, train_label_loss: 0.4107, \n"
     ]
    },
    {
     "name": "stdout",
     "output_type": "stream",
     "text": [
      "epoch: 11, [batch: 2016 / 2520], examples_per_second: 4784.7197, train_label_loss: 0.1152, \n"
     ]
    },
    {
     "name": "stdout",
     "output_type": "stream",
     "text": [
      "epoch: 11, [batch: 2268 / 2520], examples_per_second: 3966.7960, train_label_loss: 0.1894, \n"
     ]
    },
    {
     "name": "stdout",
     "output_type": "stream",
     "text": [
      "=============================================================\n",
      "epoch: 11, source_val_acc_label: 0.8937, target_val_acc_label: 0.7653, source_val_label_loss: 0.2901, target_val_label_loss: 12.5740, \n",
      "=============================================================\n"
     ]
    },
    {
     "name": "stdout",
     "output_type": "stream",
     "text": [
      "epoch: 12, [batch: 1 / 2520], examples_per_second: 8.7711, train_label_loss: 0.3296, \n"
     ]
    },
    {
     "name": "stdout",
     "output_type": "stream",
     "text": [
      "epoch: 12, [batch: 252 / 2520], examples_per_second: 3821.0233, train_label_loss: 0.5200, \n"
     ]
    },
    {
     "name": "stdout",
     "output_type": "stream",
     "text": [
      "epoch: 12, [batch: 504 / 2520], examples_per_second: 3835.7231, train_label_loss: 0.0353, \n"
     ]
    },
    {
     "name": "stdout",
     "output_type": "stream",
     "text": [
      "epoch: 12, [batch: 756 / 2520], examples_per_second: 3853.9647, train_label_loss: 0.2976, \n"
     ]
    },
    {
     "name": "stdout",
     "output_type": "stream",
     "text": [
      "epoch: 12, [batch: 1008 / 2520], examples_per_second: 4027.0337, train_label_loss: 0.0372, \n"
     ]
    },
    {
     "name": "stdout",
     "output_type": "stream",
     "text": [
      "epoch: 12, [batch: 1260 / 2520], examples_per_second: 4032.6534, train_label_loss: 0.2005, \n"
     ]
    },
    {
     "name": "stdout",
     "output_type": "stream",
     "text": [
      "epoch: 12, [batch: 1512 / 2520], examples_per_second: 4449.1589, train_label_loss: 0.0752, \n"
     ]
    },
    {
     "name": "stdout",
     "output_type": "stream",
     "text": [
      "epoch: 12, [batch: 1764 / 2520], examples_per_second: 4443.4465, train_label_loss: 0.1222, \n"
     ]
    },
    {
     "name": "stdout",
     "output_type": "stream",
     "text": [
      "epoch: 12, [batch: 2016 / 2520], examples_per_second: 5081.2992, train_label_loss: 0.1890, \n"
     ]
    },
    {
     "name": "stdout",
     "output_type": "stream",
     "text": [
      "epoch: 12, [batch: 2268 / 2520], examples_per_second: 4128.3064, train_label_loss: 0.0836, \n"
     ]
    },
    {
     "name": "stdout",
     "output_type": "stream",
     "text": [
      "=============================================================\n",
      "epoch: 12, source_val_acc_label: 0.9176, target_val_acc_label: 0.7824, source_val_label_loss: 0.2298, target_val_label_loss: 13.5575, \n",
      "=============================================================\n"
     ]
    },
    {
     "name": "stdout",
     "output_type": "stream",
     "text": [
      "Patience (3) exhausted\n"
     ]
    }
   ],
   "source": [
    "###################################\n",
    "# train\n",
    "###################################\n",
    "jig = PTN_Train_Eval_Test_Jig(model, p.BEST_MODEL_PATH, p.device)\n",
    "\n",
    "jig.train(\n",
    "    train_iterable=datasets.source.processed.train,\n",
    "    source_val_iterable=datasets.source.processed.val,\n",
    "    target_val_iterable=datasets.target.processed.val,\n",
    "    num_epochs=p.n_epoch,\n",
    "    num_logs_per_epoch=p.NUM_LOGS_PER_EPOCH,\n",
    "    patience=p.patience,\n",
    "    optimizer=optimizer,\n",
    "    criteria_for_best=p.criteria_for_best,\n",
    ")"
   ]
  },
  {
   "cell_type": "code",
   "execution_count": 14,
   "id": "31e8fabf",
   "metadata": {
    "execution": {
     "iopub.execute_input": "2022-03-26T13:52:51.186672Z",
     "iopub.status.busy": "2022-03-26T13:52:51.186299Z",
     "iopub.status.idle": "2022-03-26T13:52:51.219961Z",
     "shell.execute_reply": "2022-03-26T13:52:51.219247Z"
    },
    "papermill": {
     "duration": 0.094182,
     "end_time": "2022-03-26T13:52:51.220124",
     "exception": false,
     "start_time": "2022-03-26T13:52:51.125942",
     "status": "completed"
    },
    "tags": []
   },
   "outputs": [],
   "source": [
    "total_experiment_time_secs = time.time() - start_time_secs"
   ]
  },
  {
   "cell_type": "code",
   "execution_count": 15,
   "id": "87b9595b",
   "metadata": {
    "execution": {
     "iopub.execute_input": "2022-03-26T13:52:51.346348Z",
     "iopub.status.busy": "2022-03-26T13:52:51.345509Z",
     "iopub.status.idle": "2022-03-26T13:54:14.878766Z",
     "shell.execute_reply": "2022-03-26T13:54:14.879498Z"
    },
    "papermill": {
     "duration": 83.59739,
     "end_time": "2022-03-26T13:54:14.879792",
     "exception": false,
     "start_time": "2022-03-26T13:52:51.282402",
     "status": "completed"
    },
    "tags": []
   },
   "outputs": [],
   "source": [
    "###################################\n",
    "# Evaluate the model\n",
    "###################################\n",
    "source_test_label_accuracy, source_test_label_loss = jig.test(datasets.source.processed.test)\n",
    "target_test_label_accuracy, target_test_label_loss = jig.test(datasets.target.processed.test)\n",
    "\n",
    "source_val_label_accuracy, source_val_label_loss = jig.test(datasets.source.processed.val)\n",
    "target_val_label_accuracy, target_val_label_loss = jig.test(datasets.target.processed.val)\n",
    "\n",
    "history = jig.get_history()\n",
    "\n",
    "total_epochs_trained = len(history[\"epoch_indices\"])\n",
    "\n",
    "val_dl = Iterable_Aggregator((datasets.source.original.val,datasets.target.original.val))\n",
    "\n",
    "confusion = ptn_confusion_by_domain_over_dataloader(model, p.device, val_dl)\n",
    "per_domain_accuracy = per_domain_accuracy_from_confusion(confusion)\n",
    "\n",
    "# Add a key to per_domain_accuracy for if it was a source domain\n",
    "for domain, accuracy in per_domain_accuracy.items():\n",
    "    per_domain_accuracy[domain] = {\n",
    "        \"accuracy\": accuracy,\n",
    "        \"source?\": domain in p.domains_source\n",
    "    }\n",
    "\n",
    "# Do an independent accuracy assesment JUST TO BE SURE!\n",
    "# _source_test_label_accuracy = independent_accuracy_assesment(model, datasets.source.processed.test, p.device)\n",
    "# _target_test_label_accuracy = independent_accuracy_assesment(model, datasets.target.processed.test, p.device)\n",
    "# _source_val_label_accuracy = independent_accuracy_assesment(model, datasets.source.processed.val, p.device)\n",
    "# _target_val_label_accuracy = independent_accuracy_assesment(model, datasets.target.processed.val, p.device)\n",
    "\n",
    "# assert(_source_test_label_accuracy == source_test_label_accuracy)\n",
    "# assert(_target_test_label_accuracy == target_test_label_accuracy)\n",
    "# assert(_source_val_label_accuracy == source_val_label_accuracy)\n",
    "# assert(_target_val_label_accuracy == target_val_label_accuracy)\n",
    "\n",
    "experiment = {\n",
    "    \"experiment_name\": p.experiment_name,\n",
    "    \"parameters\": dict(p),\n",
    "    \"results\": {\n",
    "        \"source_test_label_accuracy\": source_test_label_accuracy,\n",
    "        \"source_test_label_loss\": source_test_label_loss,\n",
    "        \"target_test_label_accuracy\": target_test_label_accuracy,\n",
    "        \"target_test_label_loss\": target_test_label_loss,\n",
    "        \"source_val_label_accuracy\": source_val_label_accuracy,\n",
    "        \"source_val_label_loss\": source_val_label_loss,\n",
    "        \"target_val_label_accuracy\": target_val_label_accuracy,\n",
    "        \"target_val_label_loss\": target_val_label_loss,\n",
    "        \"total_epochs_trained\": total_epochs_trained,\n",
    "        \"total_experiment_time_secs\": total_experiment_time_secs,\n",
    "        \"confusion\": confusion,\n",
    "        \"per_domain_accuracy\": per_domain_accuracy,\n",
    "    },\n",
    "    \"history\": history,\n",
    "    \"dataset_metrics\": get_dataset_metrics(datasets, \"ptn\"),\n",
    "}"
   ]
  },
  {
   "cell_type": "code",
   "execution_count": 16,
   "id": "54a21829",
   "metadata": {
    "execution": {
     "iopub.execute_input": "2022-03-26T13:54:15.000539Z",
     "iopub.status.busy": "2022-03-26T13:54:15.000169Z",
     "iopub.status.idle": "2022-03-26T13:54:15.228321Z",
     "shell.execute_reply": "2022-03-26T13:54:15.229025Z"
    },
    "papermill": {
     "duration": 0.287129,
     "end_time": "2022-03-26T13:54:15.229220",
     "exception": false,
     "start_time": "2022-03-26T13:54:14.942091",
     "status": "completed"
    },
    "tags": []
   },
   "outputs": [
    {
     "data": {
      "image/png": "[encoded data removed]",
      "text/plain": [
       "<Figure size 1080x504 with 1 Axes>"
      ]
     },
     "metadata": {
      "needs_background": "light"
     },
     "output_type": "display_data"
    }
   ],
   "source": [
    "ax = get_loss_curve(experiment)\n",
    "plt.show()"
   ]
  },
  {
   "cell_type": "code",
   "execution_count": 17,
   "id": "fd8a0f60",
   "metadata": {
    "execution": {
     "iopub.execute_input": "2022-03-26T13:54:15.351097Z",
     "iopub.status.busy": "2022-03-26T13:54:15.350703Z",
     "iopub.status.idle": "2022-03-26T13:54:15.687759Z",
     "shell.execute_reply": "2022-03-26T13:54:15.688072Z"
    },
    "papermill": {
     "duration": 0.396365,
     "end_time": "2022-03-26T13:54:15.688159",
     "exception": false,
     "start_time": "2022-03-26T13:54:15.291794",
     "status": "completed"
    },
    "tags": []
   },
   "outputs": [
    {
     "data": {
      "text/plain": [
       "<AxesSubplot:title={'center':'Results'}>"
      ]
     },
     "execution_count": 17,
     "metadata": {},
     "output_type": "execute_result"
    },
    {
     "data": {
      "image/png": "[encoded data removed]",
      "text/plain": [
       "<Figure size 1080x504 with 1 Axes>"
      ]
     },
     "metadata": {
      "needs_background": "light"
     },
     "output_type": "display_data"
    }
   ],
   "source": [
    "get_results_table(experiment)"
   ]
  },
  {
   "cell_type": "code",
   "execution_count": 18,
   "id": "cf8dc689",
   "metadata": {
    "execution": {
     "iopub.execute_input": "2022-03-26T13:54:15.810217Z",
     "iopub.status.busy": "2022-03-26T13:54:15.809850Z",
     "iopub.status.idle": "2022-03-26T13:54:16.026367Z",
     "shell.execute_reply": "2022-03-26T13:54:16.027017Z"
    },
    "papermill": {
     "duration": 0.280581,
     "end_time": "2022-03-26T13:54:16.027209",
     "exception": false,
     "start_time": "2022-03-26T13:54:15.746628",
     "status": "completed"
    },
    "tags": []
   },
   "outputs": [
    {
     "data": {
      "text/plain": [
       "<AxesSubplot:title={'center':'Per Domain Validation Accuracy'}, xlabel='domain'>"
      ]
     },
     "execution_count": 18,
     "metadata": {},
     "output_type": "execute_result"
    },
    {
     "data": {
      "image/png": "[encoded data removed]",
      "text/plain": [
       "<Figure size 1080x504 with 1 Axes>"
      ]
     },
     "metadata": {
      "needs_background": "light"
     },
     "output_type": "display_data"
    }
   ],
   "source": [
    "get_domain_accuracies(experiment)"
   ]
  },
  {
   "cell_type": "code",
   "execution_count": 19,
   "id": "a74ae082",
   "metadata": {
    "execution": {
     "iopub.execute_input": "2022-03-26T13:54:16.155918Z",
     "iopub.status.busy": "2022-03-26T13:54:16.155527Z",
     "iopub.status.idle": "2022-03-26T13:54:16.180895Z",
     "shell.execute_reply": "2022-03-26T13:54:16.181565Z"
    },
    "papermill": {
     "duration": 0.089666,
     "end_time": "2022-03-26T13:54:16.181748",
     "exception": false,
     "start_time": "2022-03-26T13:54:16.092082",
     "status": "completed"
    },
    "tags": []
   },
   "outputs": [
    {
     "name": "stdout",
     "output_type": "stream",
     "text": [
      "Source Test Label Accuracy: 0.90625 Target Test Label Accuracy: 0.8093229166666667\n",
      "Source Val Label Accuracy: 0.9098090277777777 Target Val Label Accuracy: 0.8019270833333333\n"
     ]
    }
   ],
   "source": [
    "print(\"Source Test Label Accuracy:\", experiment[\"results\"][\"source_test_label_accuracy\"], \"Target Test Label Accuracy:\", experiment[\"results\"][\"target_test_label_accuracy\"])\n",
    "print(\"Source Val Label Accuracy:\", experiment[\"results\"][\"source_val_label_accuracy\"], \"Target Val Label Accuracy:\", experiment[\"results\"][\"target_val_label_accuracy\"])"
   ]
  },
  {
   "cell_type": "code",
   "execution_count": 20,
   "id": "dacca602",
   "metadata": {
    "execution": {
     "iopub.execute_input": "2022-03-26T13:54:16.305720Z",
     "iopub.status.busy": "2022-03-26T13:54:16.305361Z",
     "iopub.status.idle": "2022-03-26T13:54:16.327753Z",
     "shell.execute_reply": "2022-03-26T13:54:16.328426Z"
    },
    "papermill": {
     "duration": 0.08385,
     "end_time": "2022-03-26T13:54:16.328605",
     "exception": false,
     "start_time": "2022-03-26T13:54:16.244755",
     "status": "completed"
    },
    "tags": [
     "experiment_json"
    ]
   },
   "outputs": [
    {
     "data": {
      "text/plain": [
       "'{\"experiment_name\": \"tuned_1v2:oracle.run2.framed\", \"parameters\": {\"experiment_name\": \"tuned_1v2:oracle.run2.framed\", \"device\": \"cuda\", \"lr\": 0.0001, \"labels_source\": [\"3123D52\", \"3123D65\", \"3123D79\", \"3123D80\", \"3123D54\", \"3123D70\", \"3123D7B\", \"3123D89\", \"3123D58\", \"3123D76\", \"3123D7D\", \"3123EFE\", \"3123D64\", \"3123D78\", \"3123D7E\", \"3124E4A\"], \"labels_target\": [\"3123D52\", \"3123D65\", \"3123D79\", \"3123D80\", \"3123D54\", \"3123D70\", \"3123D7B\", \"3123D89\", \"3123D58\", \"3123D76\", \"3123D7D\", \"3123EFE\", \"3123D64\", \"3123D78\", \"3123D7E\", \"3124E4A\"], \"episode_transforms_source\": [], \"episode_transforms_target\": [], \"domains_source\": [8, 32, 50], \"domains_target\": [14, 20, 26, 38, 44], \"num_examples_per_domain_per_label_source\": -1, \"num_examples_per_domain_per_label_target\": -1, \"n_shot\": 3, \"n_way\": 16, \"n_query\": 2, \"train_k_factor\": 3, \"val_k_factor\": 2, \"test_k_factor\": 2, \"torch_default_dtype\": \"torch.float32\", \"n_epoch\": 50, \"patience\": 3, \"criteria_for_best\": \"target_accuracy\", \"x_net\": [{\"class\": \"nnReshape\", \"kargs\": {\"shape\": [-1, 1, 2, 256]}}, {\"class\": \"Conv2d\", \"kargs\": {\"in_channels\": 1, \"out_channels\": 256, \"kernel_size\": [1, 7], \"bias\": false, \"padding\": [0, 3]}}, {\"class\": \"ReLU\", \"kargs\": {\"inplace\": true}}, {\"class\": \"BatchNorm2d\", \"kargs\": {\"num_features\": 256}}, {\"class\": \"Conv2d\", \"kargs\": {\"in_channels\": 256, \"out_channels\": 80, \"kernel_size\": [2, 7], \"bias\": true, \"padding\": [0, 3]}}, {\"class\": \"ReLU\", \"kargs\": {\"inplace\": true}}, {\"class\": \"BatchNorm2d\", \"kargs\": {\"num_features\": 80}}, {\"class\": \"Flatten\", \"kargs\": {}}, {\"class\": \"Linear\", \"kargs\": {\"in_features\": 20480, \"out_features\": 256}}, {\"class\": \"ReLU\", \"kargs\": {\"inplace\": true}}, {\"class\": \"BatchNorm1d\", \"kargs\": {\"num_features\": 256}}, {\"class\": \"Linear\", \"kargs\": {\"in_features\": 256, \"out_features\": 256}}], \"NUM_LOGS_PER_EPOCH\": 10, \"BEST_MODEL_PATH\": \"./best_model.pth\", \"pickle_name\": \"oracle.Run2_framed_2000Examples_stratified_ds.2022A.pkl\", \"x_transforms_source\": [\"unit_mag\"], \"x_transforms_target\": [\"unit_mag\"], \"dataset_seed\": 7, \"seed\": 7}, \"results\": {\"source_test_label_accuracy\": 0.90625, \"source_test_label_loss\": 0.2571675181388855, \"target_test_label_accuracy\": 0.8093229166666667, \"target_test_label_loss\": 8.351274490356445, \"source_val_label_accuracy\": 0.9098090277777777, \"source_val_label_loss\": 0.2478540539741516, \"target_val_label_accuracy\": 0.8019270833333333, \"target_val_label_loss\": 7.443548202514648, \"total_epochs_trained\": 12, \"total_experiment_time_secs\": 760.6999530792236, \"confusion\": {\"50\": {\"0\": {\"0\": 231, \"2\": 8, \"10\": 1}, \"4\": {\"4\": 180, \"5\": 44, \"1\": 10, \"6\": 4, \"13\": 1, \"15\": 1}, \"14\": {\"14\": 240}, \"12\": {\"11\": 1, \"12\": 237, \"9\": 2}, \"8\": {\"8\": 237, \"3\": 3}, \"7\": {\"7\": 220, \"13\": 14, \"5\": 5, \"10\": 1}, \"13\": {\"10\": 17, \"13\": 208, \"7\": 15}, \"5\": {\"5\": 146, \"4\": 61, \"13\": 8, \"7\": 13, \"6\": 7, \"10\": 4, \"1\": 1}, \"15\": {\"6\": 3, \"15\": 230, \"1\": 6, \"11\": 1}, \"10\": {\"13\": 32, \"10\": 207, \"5\": 1}, \"3\": {\"3\": 240}, \"9\": {\"9\": 238, \"12\": 1, \"11\": 1}, \"6\": {\"6\": 226, \"4\": 5, \"1\": 4, \"5\": 4, \"15\": 1}, \"1\": {\"1\": 228, \"6\": 8, \"15\": 2, \"4\": 2}, \"11\": {\"11\": 237, \"12\": 2, \"15\": 1}, \"2\": {\"2\": 235, \"0\": 5}}, \"8\": {\"1\": {\"1\": 231, \"5\": 1, \"13\": 8}, \"11\": {\"11\": 227, \"8\": 10, \"15\": 2, \"12\": 1}, \"3\": {\"3\": 238, \"12\": 2}, \"6\": {\"4\": 66, \"7\": 22, \"6\": 151, \"14\": 1}, \"7\": {\"7\": 168, \"4\": 51, \"6\": 19, \"2\": 2}, \"5\": {\"5\": 220, \"10\": 18, \"1\": 1, \"13\": 1}, \"2\": {\"2\": 233, \"7\": 4, \"4\": 3}, \"15\": {\"15\": 211, \"8\": 19, \"11\": 4, \"12\": 6}, \"10\": {\"10\": 209, \"5\": 11, \"0\": 18, \"14\": 2}, \"13\": {\"13\": 226, \"1\": 5, \"14\": 7, \"10\": 2}, \"8\": {\"8\": 230, \"11\": 7, \"15\": 3}, \"4\": {\"4\": 149, \"7\": 51, \"6\": 39, \"2\": 1}, \"9\": {\"9\": 240}, \"14\": {\"14\": 220, \"6\": 1, \"13\": 7, \"0\": 10, \"10\": 2}, \"0\": {\"0\": 215, \"14\": 15, \"10\": 10}, \"12\": {\"12\": 227, \"15\": 12, \"3\": 1}}, \"32\": {\"15\": {\"15\": 240}, \"11\": {\"11\": 205, \"7\": 11, \"0\": 13, \"4\": 5, \"5\": 1, \"13\": 5}, \"10\": {\"10\": 240}, \"14\": {\"14\": 228, \"0\": 7, \"5\": 4, \"2\": 1}, \"6\": {\"6\": 240}, \"4\": {\"13\": 32, \"4\": 183, \"5\": 14, \"11\": 1, \"7\": 8, \"2\": 1, \"8\": 1}, \"13\": {\"13\": 197, \"4\": 34, \"7\": 4, \"11\": 3, \"0\": 1, \"8\": 1}, \"3\": {\"3\": 237, \"5\": 1, \"13\": 2}, \"7\": {\"7\": 208, \"4\": 13, \"11\": 12, \"5\": 5, \"2\": 2}, \"8\": {\"8\": 221, \"0\": 10, \"5\": 4, \"4\": 1, \"13\": 2, \"3\": 2}, \"1\": {\"1\": 240}, \"5\": {\"5\": 189, \"8\": 12, \"0\": 4, \"2\": 14, \"14\": 4, \"4\": 14, \"7\": 3}, \"0\": {\"0\": 207, \"11\": 7, \"4\": 6, \"8\": 14, \"5\": 2, \"13\": 3, \"7\": 1}, \"2\": {\"2\": 231, \"7\": 3, \"4\": 3, \"5\": 2, \"14\": 1}, \"12\": {\"12\": 240}, \"9\": {\"9\": 240}}, \"26\": {\"0\": {\"14\": 49, \"10\": 47, \"0\": 103, \"4\": 21, \"8\": 16, \"2\": 1, \"7\": 1, \"1\": 1, \"15\": 1}, \"4\": {\"4\": 193, \"7\": 9, \"8\": 7, \"3\": 9, \"1\": 2, \"2\": 7, \"0\": 5, \"14\": 6, \"15\": 1, \"10\": 1}, \"14\": {\"8\": 8, \"14\": 117, \"0\": 57, \"1\": 27, \"10\": 23, \"4\": 8}, \"12\": {\"12\": 240}, \"8\": {\"8\": 153, \"10\": 14, \"7\": 19, \"14\": 14, \"4\": 10, \"5\": 2, \"0\": 13, \"15\": 1, \"2\": 14}, \"7\": {\"2\": 63, \"7\": 119, \"3\": 15, \"5\": 3, \"4\": 26, \"8\": 11, \"15\": 3}, \"13\": {\"13\": 195, \"5\": 38, \"9\": 7}, \"5\": {\"5\": 125, \"13\": 65, \"9\": 7, \"7\": 15, \"3\": 6, \"8\": 6, \"2\": 13, \"6\": 3}, \"15\": {\"4\": 4, \"15\": 186, \"2\": 25, \"3\": 6, \"7\": 17, \"0\": 1, \"8\": 1}, \"10\": {\"10\": 101, \"14\": 27, \"8\": 21, \"0\": 64, \"4\": 13, \"6\": 10, \"7\": 2, \"1\": 2}, \"3\": {\"3\": 195, \"2\": 23, \"15\": 10, \"7\": 9, \"4\": 3}, \"9\": {\"9\": 218, \"6\": 13, \"13\": 5, \"2\": 3, \"5\": 1}, \"6\": {\"6\": 213, \"9\": 23, \"10\": 3, \"5\": 1}, \"1\": {\"14\": 43, \"1\": 194, \"4\": 3}, \"11\": {\"11\": 240}, \"2\": {\"2\": 99, \"8\": 6, \"7\": 89, \"5\": 6, \"15\": 13, \"3\": 20, \"4\": 7}}, \"44\": {\"1\": {\"1\": 189, \"12\": 41, \"3\": 9, \"2\": 1}, \"11\": {\"11\": 238, \"6\": 2}, \"3\": {\"3\": 228, \"12\": 6, \"1\": 6}, \"6\": {\"6\": 237, \"13\": 2, \"9\": 1}, \"7\": {\"7\": 151, \"9\": 55, \"2\": 32, \"6\": 2}, \"5\": {\"5\": 223, \"14\": 16, \"0\": 1}, \"2\": {\"2\": 199, \"9\": 24, \"7\": 16, \"3\": 1}, \"15\": {\"15\": 204, \"14\": 23, \"4\": 10, \"8\": 3}, \"10\": {\"10\": 226, \"12\": 9, \"1\": 5}, \"13\": {\"13\": 231, \"4\": 8, \"6\": 1}, \"8\": {\"8\": 142, \"0\": 95, \"14\": 2, \"5\": 1}, \"4\": {\"4\": 217, \"14\": 19, \"15\": 2, \"13\": 2}, \"9\": {\"9\": 132, \"7\": 80, \"2\": 22, \"6\": 6}, \"14\": {\"14\": 184, \"5\": 31, \"15\": 17, \"4\": 7, \"8\": 1}, \"0\": {\"8\": 106, \"0\": 131, \"5\": 3}, \"12\": {\"12\": 174, \"1\": 62, \"3\": 4}}, \"20\": {\"15\": {\"15\": 170, \"2\": 6, \"13\": 32, \"1\": 13, \"0\": 6, \"5\": 7, \"9\": 4, \"12\": 2}, \"4\": {\"4\": 240}, \"6\": {\"6\": 235, \"14\": 5}, \"2\": {\"2\": 144, \"3\": 29, \"9\": 45, \"15\": 2, \"5\": 7, \"12\": 9, \"13\": 4}, \"5\": {\"5\": 173, \"12\": 11, \"7\": 3, \"3\": 3, \"0\": 20, \"13\": 2, \"15\": 10, \"2\": 16, \"4\": 2}, \"9\": {\"9\": 172, \"2\": 37, \"1\": 4, \"3\": 20, \"12\": 5, \"15\": 1, \"13\": 1}, \"8\": {\"8\": 195, \"14\": 32, \"7\": 10, \"6\": 1, \"4\": 2}, \"12\": {\"12\": 156, \"1\": 37, \"5\": 6, \"2\": 15, \"15\": 13, \"3\": 3, \"9\": 8, \"13\": 1, \"0\": 1}, \"10\": {\"10\": 240}, \"1\": {\"1\": 182, \"12\": 46, \"15\": 7, \"9\": 4, \"2\": 1}, \"0\": {\"0\": 218, \"5\": 11, \"15\": 10, \"13\": 1}, \"3\": {\"3\": 181, \"9\": 17, \"2\": 23, \"15\": 1, \"5\": 7, \"7\": 10, \"12\": 1}, \"13\": {\"13\": 196, \"15\": 39, \"5\": 2, \"1\": 1, \"2\": 1, \"12\": 1}, \"11\": {\"11\": 240}, \"7\": {\"7\": 221, \"3\": 6, \"8\": 10, \"14\": 2, \"5\": 1}, \"14\": {\"14\": 202, \"8\": 28, \"6\": 9, \"10\": 1}}, \"38\": {\"15\": {\"15\": 186, \"6\": 1, \"5\": 27, \"8\": 17, \"0\": 1, \"1\": 8}, \"11\": {\"11\": 128, \"4\": 82, \"12\": 7, \"14\": 19, \"10\": 4}, \"10\": {\"10\": 182, \"7\": 52, \"3\": 1, \"13\": 2, \"0\": 3}, \"14\": {\"14\": 166, \"2\": 57, \"7\": 4, \"12\": 8, \"4\": 3, \"5\": 2}, \"6\": {\"6\": 234, \"9\": 6}, \"4\": {\"4\": 239, \"12\": 1}, \"13\": {\"13\": 192, \"8\": 9, \"3\": 20, \"1\": 1, \"7\": 4, \"10\": 11, \"5\": 1, \"0\": 2}, \"3\": {\"3\": 132, \"13\": 49, \"8\": 6, \"10\": 7, \"0\": 39, \"9\": 5, \"7\": 2}, \"7\": {\"7\": 157, \"10\": 33, \"8\": 21, \"5\": 29}, \"8\": {\"8\": 146, \"15\": 13, \"5\": 66, \"7\": 13, \"1\": 1, \"12\": 1}, \"1\": {\"1\": 230, \"15\": 10}, \"5\": {\"8\": 67, \"5\": 130, \"10\": 4, \"15\": 17, \"7\": 21, \"13\": 1}, \"0\": {\"3\": 10, \"0\": 222, \"7\": 2, \"8\": 3, \"15\": 1, \"9\": 1, \"10\": 1}, \"2\": {\"2\": 217, \"14\": 23}, \"12\": {\"12\": 238, \"14\": 2}, \"9\": {\"9\": 223, \"6\": 17}}, \"14\": {\"0\": {\"0\": 240}, \"12\": {\"12\": 128, \"11\": 44, \"8\": 9, \"0\": 16, \"9\": 42, \"13\": 1}, \"1\": {\"1\": 229, \"4\": 3, \"5\": 8}, \"4\": {\"5\": 19, \"4\": 215, \"1\": 5, \"2\": 1}, \"5\": {\"5\": 191, \"4\": 19, \"1\": 16, \"3\": 3, \"2\": 11}, \"3\": {\"3\": 230, \"5\": 5, \"14\": 1, \"2\": 2, \"4\": 2}, \"7\": {\"7\": 240}, \"15\": {\"15\": 240}, \"13\": {\"13\": 203, \"6\": 33, \"2\": 4}, \"10\": {\"10\": 238, \"0\": 1, \"14\": 1}, \"14\": {\"14\": 213, \"2\": 24, \"3\": 2, \"6\": 1}, \"6\": {\"6\": 215, \"13\": 25}, \"9\": {\"9\": 240}, \"2\": {\"14\": 49, \"2\": 111, \"13\": 10, \"3\": 22, \"5\": 45, \"4\": 2, \"6\": 1}, \"8\": {\"8\": 240}, \"11\": {\"11\": 240}}}, \"per_domain_accuracy\": {\"50\": {\"accuracy\": 0.921875, \"source?\": true}, \"8\": {\"accuracy\": 0.8841145833333334, \"source?\": true}, \"32\": {\"accuracy\": 0.9234375, \"source?\": true}, \"26\": {\"accuracy\": 0.70078125, \"source?\": false}, \"44\": {\"accuracy\": 0.8088541666666667, \"source?\": false}, \"20\": {\"accuracy\": 0.82421875, \"source?\": false}, \"38\": {\"accuracy\": 0.7869791666666667, \"source?\": false}, \"14\": {\"accuracy\": 0.8888020833333333, \"source?\": false}}}, \"history\": {\"epoch_indices\": [1, 2, 3, 4, 5, 6, 7, 8, 9, 10, 11, 12], \"train_label_loss\": [0.8999202804906028, 0.7315184601538238, 0.4792317034528842, 0.39449220950463937, 0.355141147199486, 0.2956696965458197, 0.25832675256699855, 0.24734718167197167, 0.21577439138865365, 0.19804121592961665, 0.19099528405820906, 0.1746149017348967], \"source_val_label_loss\": [2.3348536491394043, 0.5154594779014587, 0.48873162269592285, 0.3567485511302948, 0.29473093152046204, 0.33152756094932556, 0.2835646867752075, 0.2478540539741516, 0.28265082836151123, 0.23204517364501953, 0.29014548659324646, 0.2298067957162857], \"target_val_label_loss\": [10.259560585021973, 5.2447190284729, 7.131222724914551, 9.79245376586914, 5.652243614196777, 9.211591720581055, 13.579421043395996, 7.443548202514648, 10.132230758666992, 12.536347389221191, 12.574024200439453, 13.55751895904541], \"source_val_acc_label\": [0.7250868055555556, 0.809375, 0.8149305555555556, 0.8694444444444445, 0.8923611111111112, 0.8815972222222223, 0.8955729166666667, 0.9098090277777777, 0.8954861111111111, 0.9133680555555556, 0.8936631944444444, 0.9176215277777777], \"target_val_acc_label\": [0.5977604166666667, 0.6867708333333333, 0.6886458333333333, 0.7449479166666667, 0.7757291666666667, 0.7672395833333333, 0.7693229166666666, 0.8019270833333333, 0.77671875, 0.7783854166666667, 0.7652604166666667, 0.7824479166666667]}, \"dataset_metrics\": {\"source\": {\"train\": {\"n_unique_x\": 67200, \"n_unique_y\": 16, \"n_batch/episode\": 2520}, \"val\": {\"n_unique_x\": 14400, \"n_unique_y\": 16, \"n_batch/episode\": 360}, \"test\": {\"n_unique_x\": 14400, \"n_unique_y\": 16, \"n_batch/episode\": 360}}, \"target\": {\"train\": {\"n_unique_x\": 112000, \"n_unique_y\": 16, \"n_batch/episode\": 4200}, \"val\": {\"n_unique_x\": 24000, \"n_unique_y\": 16, \"n_batch/episode\": 600}, \"test\": {\"n_unique_x\": 24000, \"n_unique_y\": 16, \"n_batch/episode\": 600}}}}'"
      ]
     },
     "execution_count": 20,
     "metadata": {},
     "output_type": "execute_result"
    }
   ],
   "source": [
    "json.dumps(experiment)"
   ]
  }
 ],
 "metadata": {
  "celltoolbar": "Tags",
  "kernelspec": {
   "display_name": "Python 3 (ipykernel)",
   "language": "python",
   "name": "python3"
  },
  "language_info": {
   "codemirror_mode": {
    "name": "ipython",
    "version": 3
   },
   "file_extension": ".py",
   "mimetype": "text/x-python",
   "name": "python",
   "nbconvert_exporter": "python",
   "pygments_lexer": "ipython3",
   "version": "3.8.12"
  },
  "papermill": {
   "default_parameters": {},
   "duration": 851.762018,
   "end_time": "2022-03-26T13:54:18.608066",
   "environment_variables": {},
   "exception": null,
   "input_path": "/root/csc500-main/csc500-notebooks/templates/ptn_template.ipynb",
   "output_path": "trial.ipynb",
   "parameters": {
    "parameters": {
     "BEST_MODEL_PATH": "./best_model.pth",
     "NUM_LOGS_PER_EPOCH": 10,
     "criteria_for_best": "target_accuracy",
     "dataset_seed": 7,
     "device": "cuda",
     "domains_source": [
      8,
      32,
      50
     ],
     "domains_target": [
      14,
      20,
      26,
      38,
      44
     ],
     "episode_transforms_source": [],
     "episode_transforms_target": [],
     "experiment_name": "tuned_1v2:oracle.run2.framed",
     "labels_source": [
      "3123D52",
      "3123D65",
      "3123D79",
      "3123D80",
      "3123D54",
      "3123D70",
      "3123D7B",
      "3123D89",
      "3123D58",
      "3123D76",
      "3123D7D",
      "3123EFE",
      "3123D64",
      "3123D78",
      "3123D7E",
      "3124E4A"
     ],
     "labels_target": [
      "3123D52",
      "3123D65",
      "3123D79",
      "3123D80",
      "3123D54",
      "3123D70",
      "3123D7B",
      "3123D89",
      "3123D58",
      "3123D76",
      "3123D7D",
      "3123EFE",
      "3123D64",
      "3123D78",
      "3123D7E",
      "3124E4A"
     ],
     "lr": 0.0001,
     "n_epoch": 50,
     "n_query": 2,
     "n_shot": 3,
     "n_way": 16,
     "num_examples_per_domain_per_label_source": -1,
     "num_examples_per_domain_per_label_target": -1,
     "patience": 3,
     "pickle_name": "oracle.Run2_framed_2000Examples_stratified_ds.2022A.pkl",
     "seed": 7,
     "test_k_factor": 2,
     "torch_default_dtype": "torch.float32",
     "train_k_factor": 3,
     "val_k_factor": 2,
     "x_net": [
      {
       "class": "nnReshape",
       "kargs": {
        "shape": [
         -1,
         1,
         2,
         256
        ]
       }
      },
      {
       "class": "Conv2d",
       "kargs": {
        "bias": false,
        "in_channels": 1,
        "kernel_size": [
         1,
         7
        ],
        "out_channels": 256,
        "padding": [
         0,
         3
        ]
       }
      },
      {
       "class": "ReLU",
       "kargs": {
        "inplace": true
       }
      },
      {
       "class": "BatchNorm2d",
       "kargs": {
        "num_features": 256
       }
      },
      {
       "class": "Conv2d",
       "kargs": {
        "bias": true,
        "in_channels": 256,
        "kernel_size": [
         2,
         7
        ],
        "out_channels": 80,
        "padding": [
         0,
         3
        ]
       }
      },
      {
       "class": "ReLU",
       "kargs": {
        "inplace": true
       }
      },
      {
       "class": "BatchNorm2d",
       "kargs": {
        "num_features": 80
       }
      },
      {
       "class": "Flatten",
       "kargs": {}
      },
      {
       "class": "Linear",
       "kargs": {
        "in_features": 20480,
        "out_features": 256
       }
      },
      {
       "class": "ReLU",
       "kargs": {
        "inplace": true
       }
      },
      {
       "class": "BatchNorm1d",
       "kargs": {
        "num_features": 256
       }
      },
      {
       "class": "Linear",
       "kargs": {
        "in_features": 256,
        "out_features": 256
       }
      }
     ],
     "x_transforms_source": [
      "unit_mag"
     ],
     "x_transforms_target": [
      "unit_mag"
     ]
    }
   },
   "start_time": "2022-03-26T13:40:06.846048",
   "version": "2.3.4"
  }
 },
 "nbformat": 4,
 "nbformat_minor": 5
}