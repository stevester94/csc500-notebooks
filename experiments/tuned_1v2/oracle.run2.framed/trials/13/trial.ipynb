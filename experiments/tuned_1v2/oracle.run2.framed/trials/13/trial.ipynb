{
 "cells": [
  {
   "cell_type": "markdown",
   "id": "9fea5f46",
   "metadata": {
    "papermill": {
     "duration": 0.02703,
     "end_time": "2022-03-26T14:12:51.943652",
     "exception": false,
     "start_time": "2022-03-26T14:12:51.916622",
     "status": "completed"
    },
    "tags": []
   },
   "source": [
    "# PTN Template\n",
    "This notebook serves as a template for single dataset PTN experiments  \n",
    "It can be run on its own by setting STANDALONE to True (do a find for \"STANDALONE\" to see where)  \n",
    "But it is intended to be executed as part of a *papermill.py script. See any of the   \n",
    "experimentes with a papermill script to get started with that workflow.  "
   ]
  },
  {
   "cell_type": "code",
   "execution_count": 1,
   "id": "0902182a",
   "metadata": {
    "execution": {
     "iopub.execute_input": "2022-03-26T14:12:51.983985Z",
     "iopub.status.busy": "2022-03-26T14:12:51.983597Z",
     "iopub.status.idle": "2022-03-26T14:12:53.810059Z",
     "shell.execute_reply": "2022-03-26T14:12:53.809134Z"
    },
    "papermill": {
     "duration": 1.848003,
     "end_time": "2022-03-26T14:12:53.810236",
     "exception": false,
     "start_time": "2022-03-26T14:12:51.962233",
     "status": "completed"
    },
    "tags": []
   },
   "outputs": [],
   "source": [
    "%load_ext autoreload\n",
    "%autoreload 2\n",
    "%matplotlib inline\n",
    "\n",
    "    \n",
    "import os, json, sys, time, random\n",
    "import numpy as np\n",
    "import torch\n",
    "from torch.optim import Adam\n",
    "from  easydict import EasyDict\n",
    "import matplotlib.pyplot as plt\n",
    "\n",
    "from steves_models.steves_ptn import Steves_Prototypical_Network\n",
    "\n",
    "from steves_utils.lazy_iterable_wrapper import Lazy_Iterable_Wrapper\n",
    "from steves_utils.iterable_aggregator import Iterable_Aggregator\n",
    "from steves_utils.ptn_train_eval_test_jig import  PTN_Train_Eval_Test_Jig\n",
    "from steves_utils.torch_sequential_builder import build_sequential\n",
    "from steves_utils.torch_utils import get_dataset_metrics, ptn_confusion_by_domain_over_dataloader\n",
    "from steves_utils.utils_v2 import (per_domain_accuracy_from_confusion, get_datasets_base_path)\n",
    "from steves_utils.PTN.utils import independent_accuracy_assesment\n",
    "\n",
    "from steves_utils.stratified_dataset.episodic_accessor import Episodic_Accessor_Factory\n",
    "\n",
    "from steves_utils.ptn_do_report import (\n",
    "    get_loss_curve,\n",
    "    get_results_table,\n",
    "    get_parameters_table,\n",
    "    get_domain_accuracies,\n",
    ")\n",
    "\n",
    "from steves_utils.transforms import get_chained_transform"
   ]
  },
  {
   "cell_type": "markdown",
   "id": "41c840b4",
   "metadata": {
    "papermill": {
     "duration": 0.014275,
     "end_time": "2022-03-26T14:12:53.844858",
     "exception": false,
     "start_time": "2022-03-26T14:12:53.830583",
     "status": "completed"
    },
    "tags": []
   },
   "source": [
    "# Required Parameters\n",
    "These are allowed parameters, not defaults\n",
    "Each of these values need to be present in the injected parameters (the notebook will raise an exception if they are not present)\n",
    "\n",
    "Papermill uses the cell tag \"parameters\" to inject the real parameters below this cell.\n",
    "Enable tags to see what I mean"
   ]
  },
  {
   "cell_type": "code",
   "execution_count": 2,
   "id": "fd44eb83",
   "metadata": {
    "execution": {
     "iopub.execute_input": "2022-03-26T14:12:53.878123Z",
     "iopub.status.busy": "2022-03-26T14:12:53.877739Z",
     "iopub.status.idle": "2022-03-26T14:12:53.897580Z",
     "shell.execute_reply": "2022-03-26T14:12:53.896753Z"
    },
    "papermill": {
     "duration": 0.038614,
     "end_time": "2022-03-26T14:12:53.897734",
     "exception": false,
     "start_time": "2022-03-26T14:12:53.859120",
     "status": "completed"
    },
    "tags": []
   },
   "outputs": [],
   "source": [
    "required_parameters = {\n",
    "    \"experiment_name\",\n",
    "    \"lr\",\n",
    "    \"device\",\n",
    "    \"seed\",\n",
    "    \"dataset_seed\",\n",
    "    \"labels_source\",\n",
    "    \"labels_target\",\n",
    "    \"domains_source\",\n",
    "    \"domains_target\",\n",
    "    \"num_examples_per_domain_per_label_source\",\n",
    "    \"num_examples_per_domain_per_label_target\",\n",
    "    \"n_shot\",\n",
    "    \"n_way\",\n",
    "    \"n_query\",\n",
    "    \"train_k_factor\",\n",
    "    \"val_k_factor\",\n",
    "    \"test_k_factor\",\n",
    "    \"n_epoch\",\n",
    "    \"patience\",\n",
    "    \"criteria_for_best\",\n",
    "    \"x_transforms_source\",\n",
    "    \"x_transforms_target\",\n",
    "    \"episode_transforms_source\",\n",
    "    \"episode_transforms_target\",\n",
    "    \"pickle_name\",\n",
    "    \"x_net\",\n",
    "    \"NUM_LOGS_PER_EPOCH\",\n",
    "    \"BEST_MODEL_PATH\",\n",
    "    \"torch_default_dtype\"\n",
    "}"
   ]
  },
  {
   "cell_type": "code",
   "execution_count": 3,
   "id": "fa3f0049",
   "metadata": {
    "execution": {
     "iopub.execute_input": "2022-03-26T14:12:53.946037Z",
     "iopub.status.busy": "2022-03-26T14:12:53.945119Z",
     "iopub.status.idle": "2022-03-26T14:12:53.964855Z",
     "shell.execute_reply": "2022-03-26T14:12:53.964051Z"
    },
    "papermill": {
     "duration": 0.047065,
     "end_time": "2022-03-26T14:12:53.965005",
     "exception": false,
     "start_time": "2022-03-26T14:12:53.917940",
     "status": "completed"
    },
    "tags": [
     "parameters"
    ]
   },
   "outputs": [],
   "source": [
    "\n",
    "\n",
    "standalone_parameters = {}\n",
    "standalone_parameters[\"experiment_name\"] = \"STANDALONE PTN\"\n",
    "standalone_parameters[\"lr\"] = 0.0001\n",
    "standalone_parameters[\"device\"] = \"cuda\"\n",
    "\n",
    "standalone_parameters[\"seed\"] = 1337\n",
    "standalone_parameters[\"dataset_seed\"] = 1337\n",
    "\n",
    "\n",
    "standalone_parameters[\"num_examples_per_domain_per_label_source\"]=100\n",
    "standalone_parameters[\"num_examples_per_domain_per_label_target\"]=100\n",
    "\n",
    "standalone_parameters[\"n_shot\"] = 3\n",
    "standalone_parameters[\"n_query\"]  = 2\n",
    "standalone_parameters[\"train_k_factor\"] = 1\n",
    "standalone_parameters[\"val_k_factor\"] = 2\n",
    "standalone_parameters[\"test_k_factor\"] = 2\n",
    "\n",
    "\n",
    "standalone_parameters[\"n_epoch\"] = 100\n",
    "\n",
    "standalone_parameters[\"patience\"] = 10\n",
    "standalone_parameters[\"criteria_for_best\"] = \"target_accuracy\"\n",
    "\n",
    "standalone_parameters[\"x_transforms_source\"] = [\"unit_power\"]\n",
    "standalone_parameters[\"x_transforms_target\"] = [\"unit_power\"]\n",
    "standalone_parameters[\"episode_transforms_source\"] = []\n",
    "standalone_parameters[\"episode_transforms_target\"] = []\n",
    "\n",
    "standalone_parameters[\"torch_default_dtype\"] = \"torch.float32\" \n",
    "\n",
    "\n",
    "\n",
    "standalone_parameters[\"x_net\"] =     [\n",
    "    {\"class\": \"nnReshape\", \"kargs\": {\"shape\":[-1, 1, 2, 256]}},\n",
    "    {\"class\": \"Conv2d\", \"kargs\": { \"in_channels\":1, \"out_channels\":256, \"kernel_size\":(1,7), \"bias\":False, \"padding\":(0,3), },},\n",
    "    {\"class\": \"ReLU\", \"kargs\": {\"inplace\": True}},\n",
    "    {\"class\": \"BatchNorm2d\", \"kargs\": {\"num_features\":256}},\n",
    "\n",
    "    {\"class\": \"Conv2d\", \"kargs\": { \"in_channels\":256, \"out_channels\":80, \"kernel_size\":(2,7), \"bias\":True, \"padding\":(0,3), },},\n",
    "    {\"class\": \"ReLU\", \"kargs\": {\"inplace\": True}},\n",
    "    {\"class\": \"BatchNorm2d\", \"kargs\": {\"num_features\":80}},\n",
    "    {\"class\": \"Flatten\", \"kargs\": {}},\n",
    "\n",
    "    {\"class\": \"Linear\", \"kargs\": {\"in_features\": 80*256, \"out_features\": 256}}, # 80 units per IQ pair\n",
    "    {\"class\": \"ReLU\", \"kargs\": {\"inplace\": True}},\n",
    "    {\"class\": \"BatchNorm1d\", \"kargs\": {\"num_features\":256}},\n",
    "\n",
    "    {\"class\": \"Linear\", \"kargs\": {\"in_features\": 256, \"out_features\": 256}},\n",
    "]\n",
    "\n",
    "# Parameters relevant to results\n",
    "# These parameters will basically never need to change\n",
    "standalone_parameters[\"NUM_LOGS_PER_EPOCH\"] = 10\n",
    "standalone_parameters[\"BEST_MODEL_PATH\"] = \"./best_model.pth\"\n",
    "\n",
    "# uncomment for CORES dataset\n",
    "from steves_utils.CORES.utils import (\n",
    "    ALL_NODES,\n",
    "    ALL_NODES_MINIMUM_1000_EXAMPLES,\n",
    "    ALL_DAYS\n",
    ")\n",
    "\n",
    "\n",
    "standalone_parameters[\"labels_source\"] = ALL_NODES\n",
    "standalone_parameters[\"labels_target\"] = ALL_NODES\n",
    "\n",
    "standalone_parameters[\"domains_source\"] = [1]\n",
    "standalone_parameters[\"domains_target\"] = [2,3,4,5]\n",
    "\n",
    "standalone_parameters[\"pickle_name\"] = \"cores.stratified_ds.2022A.pkl\"\n",
    "\n",
    "\n",
    "# Uncomment these for ORACLE dataset\n",
    "# from steves_utils.ORACLE.utils_v2 import (\n",
    "#     ALL_DISTANCES_FEET,\n",
    "#     ALL_RUNS,\n",
    "#     ALL_SERIAL_NUMBERS,\n",
    "# )\n",
    "# standalone_parameters[\"labels_source\"] = ALL_SERIAL_NUMBERS\n",
    "# standalone_parameters[\"labels_target\"] = ALL_SERIAL_NUMBERS\n",
    "# standalone_parameters[\"domains_source\"] = [8,20, 38,50]\n",
    "# standalone_parameters[\"domains_target\"] = [14, 26, 32, 44, 56]\n",
    "# standalone_parameters[\"pickle_name\"] = \"oracle.frame_indexed.stratified_ds.2022A.pkl\"\n",
    "# standalone_parameters[\"num_examples_per_domain_per_label_source\"]=1000\n",
    "# standalone_parameters[\"num_examples_per_domain_per_label_target\"]=1000\n",
    "\n",
    "# Uncomment these for Metahan dataset\n",
    "# standalone_parameters[\"labels_source\"] = list(range(19))\n",
    "# standalone_parameters[\"labels_target\"] = list(range(19))\n",
    "# standalone_parameters[\"domains_source\"] = [0]\n",
    "# standalone_parameters[\"domains_target\"] = [1]\n",
    "# standalone_parameters[\"pickle_name\"] = \"metehan.stratified_ds.2022A.pkl\"\n",
    "# standalone_parameters[\"n_way\"]  = len(standalone_parameters[\"labels_source\"])\n",
    "# standalone_parameters[\"num_examples_per_domain_per_label_source\"]=200\n",
    "# standalone_parameters[\"num_examples_per_domain_per_label_target\"]=100\n",
    "\n",
    "\n",
    "standalone_parameters[\"n_way\"]  = len(standalone_parameters[\"labels_source\"])"
   ]
  },
  {
   "cell_type": "code",
   "execution_count": 4,
   "id": "95e5ba09",
   "metadata": {
    "execution": {
     "iopub.execute_input": "2022-03-26T14:12:54.013570Z",
     "iopub.status.busy": "2022-03-26T14:12:54.009715Z",
     "iopub.status.idle": "2022-03-26T14:12:54.033161Z",
     "shell.execute_reply": "2022-03-26T14:12:54.032468Z"
    },
    "papermill": {
     "duration": 0.045454,
     "end_time": "2022-03-26T14:12:54.033320",
     "exception": false,
     "start_time": "2022-03-26T14:12:53.987866",
     "status": "completed"
    },
    "tags": [
     "injected-parameters"
    ]
   },
   "outputs": [],
   "source": [
    "# Parameters\n",
    "parameters = {\n",
    "    \"experiment_name\": \"tuned_1v2:oracle.run2.framed\",\n",
    "    \"device\": \"cuda\",\n",
    "    \"lr\": 0.0001,\n",
    "    \"labels_source\": [\n",
    "        \"3123D52\",\n",
    "        \"3123D65\",\n",
    "        \"3123D79\",\n",
    "        \"3123D80\",\n",
    "        \"3123D54\",\n",
    "        \"3123D70\",\n",
    "        \"3123D7B\",\n",
    "        \"3123D89\",\n",
    "        \"3123D58\",\n",
    "        \"3123D76\",\n",
    "        \"3123D7D\",\n",
    "        \"3123EFE\",\n",
    "        \"3123D64\",\n",
    "        \"3123D78\",\n",
    "        \"3123D7E\",\n",
    "        \"3124E4A\",\n",
    "    ],\n",
    "    \"labels_target\": [\n",
    "        \"3123D52\",\n",
    "        \"3123D65\",\n",
    "        \"3123D79\",\n",
    "        \"3123D80\",\n",
    "        \"3123D54\",\n",
    "        \"3123D70\",\n",
    "        \"3123D7B\",\n",
    "        \"3123D89\",\n",
    "        \"3123D58\",\n",
    "        \"3123D76\",\n",
    "        \"3123D7D\",\n",
    "        \"3123EFE\",\n",
    "        \"3123D64\",\n",
    "        \"3123D78\",\n",
    "        \"3123D7E\",\n",
    "        \"3124E4A\",\n",
    "    ],\n",
    "    \"episode_transforms_source\": [],\n",
    "    \"episode_transforms_target\": [],\n",
    "    \"domains_source\": [8, 32, 50],\n",
    "    \"domains_target\": [14, 20, 26, 38, 44],\n",
    "    \"num_examples_per_domain_per_label_source\": -1,\n",
    "    \"num_examples_per_domain_per_label_target\": -1,\n",
    "    \"n_shot\": 3,\n",
    "    \"n_way\": 16,\n",
    "    \"n_query\": 2,\n",
    "    \"train_k_factor\": 3,\n",
    "    \"val_k_factor\": 2,\n",
    "    \"test_k_factor\": 2,\n",
    "    \"torch_default_dtype\": \"torch.float32\",\n",
    "    \"n_epoch\": 50,\n",
    "    \"patience\": 3,\n",
    "    \"criteria_for_best\": \"target_accuracy\",\n",
    "    \"x_net\": [\n",
    "        {\"class\": \"nnReshape\", \"kargs\": {\"shape\": [-1, 1, 2, 256]}},\n",
    "        {\n",
    "            \"class\": \"Conv2d\",\n",
    "            \"kargs\": {\n",
    "                \"in_channels\": 1,\n",
    "                \"out_channels\": 256,\n",
    "                \"kernel_size\": [1, 7],\n",
    "                \"bias\": False,\n",
    "                \"padding\": [0, 3],\n",
    "            },\n",
    "        },\n",
    "        {\"class\": \"ReLU\", \"kargs\": {\"inplace\": True}},\n",
    "        {\"class\": \"BatchNorm2d\", \"kargs\": {\"num_features\": 256}},\n",
    "        {\n",
    "            \"class\": \"Conv2d\",\n",
    "            \"kargs\": {\n",
    "                \"in_channels\": 256,\n",
    "                \"out_channels\": 80,\n",
    "                \"kernel_size\": [2, 7],\n",
    "                \"bias\": True,\n",
    "                \"padding\": [0, 3],\n",
    "            },\n",
    "        },\n",
    "        {\"class\": \"ReLU\", \"kargs\": {\"inplace\": True}},\n",
    "        {\"class\": \"BatchNorm2d\", \"kargs\": {\"num_features\": 80}},\n",
    "        {\"class\": \"Flatten\", \"kargs\": {}},\n",
    "        {\"class\": \"Linear\", \"kargs\": {\"in_features\": 20480, \"out_features\": 256}},\n",
    "        {\"class\": \"ReLU\", \"kargs\": {\"inplace\": True}},\n",
    "        {\"class\": \"BatchNorm1d\", \"kargs\": {\"num_features\": 256}},\n",
    "        {\"class\": \"Linear\", \"kargs\": {\"in_features\": 256, \"out_features\": 256}},\n",
    "    ],\n",
    "    \"NUM_LOGS_PER_EPOCH\": 10,\n",
    "    \"BEST_MODEL_PATH\": \"./best_model.pth\",\n",
    "    \"pickle_name\": \"oracle.Run2_framed_2000Examples_stratified_ds.2022A.pkl\",\n",
    "    \"x_transforms_source\": [\"unit_power\"],\n",
    "    \"x_transforms_target\": [\"unit_power\"],\n",
    "    \"dataset_seed\": 154325,\n",
    "    \"seed\": 154325,\n",
    "}\n"
   ]
  },
  {
   "cell_type": "code",
   "execution_count": 5,
   "id": "8fa1cc33",
   "metadata": {
    "execution": {
     "iopub.execute_input": "2022-03-26T14:12:54.080585Z",
     "iopub.status.busy": "2022-03-26T14:12:54.079255Z",
     "iopub.status.idle": "2022-03-26T14:12:54.100126Z",
     "shell.execute_reply": "2022-03-26T14:12:54.099323Z"
    },
    "papermill": {
     "duration": 0.043505,
     "end_time": "2022-03-26T14:12:54.100276",
     "exception": false,
     "start_time": "2022-03-26T14:12:54.056771",
     "status": "completed"
    },
    "tags": []
   },
   "outputs": [],
   "source": [
    "# Set this to True if you want to run this template directly\n",
    "STANDALONE = False\n",
    "if STANDALONE:\n",
    "    print(\"parameters not injected, running with standalone_parameters\")\n",
    "    parameters = standalone_parameters\n",
    "\n",
    "if not 'parameters' in locals() and not 'parameters' in globals():\n",
    "    raise Exception(\"Parameter injection failed\")\n",
    "\n",
    "#Use an easy dict for all the parameters\n",
    "p = EasyDict(parameters)\n",
    "\n",
    "supplied_keys = set(p.keys())\n",
    "\n",
    "if  supplied_keys != required_parameters:\n",
    "    print(\"Parameters are incorrect\")\n",
    "    if len(supplied_keys - required_parameters)>0: print(\"Shouldn't have:\", str(supplied_keys - required_parameters))\n",
    "    if len(required_parameters - supplied_keys)>0: print(\"Need to have:\", str(required_parameters - supplied_keys))\n",
    "    raise RuntimeError(\"Parameters are incorrect\")\n",
    "\n"
   ]
  },
  {
   "cell_type": "code",
   "execution_count": 6,
   "id": "3a028d58",
   "metadata": {
    "execution": {
     "iopub.execute_input": "2022-03-26T14:12:54.139704Z",
     "iopub.status.busy": "2022-03-26T14:12:54.139267Z",
     "iopub.status.idle": "2022-03-26T14:12:54.159885Z",
     "shell.execute_reply": "2022-03-26T14:12:54.159075Z"
    },
    "papermill": {
     "duration": 0.040394,
     "end_time": "2022-03-26T14:12:54.160037",
     "exception": false,
     "start_time": "2022-03-26T14:12:54.119643",
     "status": "completed"
    },
    "tags": []
   },
   "outputs": [],
   "source": [
    "###################################\n",
    "# Set the RNGs and make it all deterministic\n",
    "###################################\n",
    "np.random.seed(p.seed)\n",
    "random.seed(p.seed)\n",
    "torch.manual_seed(p.seed)\n",
    "\n",
    "torch.use_deterministic_algorithms(True) "
   ]
  },
  {
   "cell_type": "code",
   "execution_count": 7,
   "id": "b691acf6",
   "metadata": {
    "execution": {
     "iopub.execute_input": "2022-03-26T14:12:54.204505Z",
     "iopub.status.busy": "2022-03-26T14:12:54.203695Z",
     "iopub.status.idle": "2022-03-26T14:12:54.225447Z",
     "shell.execute_reply": "2022-03-26T14:12:54.224756Z"
    },
    "papermill": {
     "duration": 0.039698,
     "end_time": "2022-03-26T14:12:54.225598",
     "exception": false,
     "start_time": "2022-03-26T14:12:54.185900",
     "status": "completed"
    },
    "tags": []
   },
   "outputs": [],
   "source": [
    "###########################################\n",
    "# The stratified datasets honor this\n",
    "###########################################\n",
    "torch.set_default_dtype(eval(p.torch_default_dtype))"
   ]
  },
  {
   "cell_type": "code",
   "execution_count": 8,
   "id": "b5fba671",
   "metadata": {
    "execution": {
     "iopub.execute_input": "2022-03-26T14:12:54.265783Z",
     "iopub.status.busy": "2022-03-26T14:12:54.264336Z",
     "iopub.status.idle": "2022-03-26T14:12:54.319336Z",
     "shell.execute_reply": "2022-03-26T14:12:54.318596Z"
    },
    "papermill": {
     "duration": 0.073431,
     "end_time": "2022-03-26T14:12:54.319488",
     "exception": false,
     "start_time": "2022-03-26T14:12:54.246057",
     "status": "completed"
    },
    "tags": []
   },
   "outputs": [],
   "source": [
    "###################################\n",
    "# Build the network(s)\n",
    "# Note: It's critical to do this AFTER setting the RNG\n",
    "# (This is due to the randomized initial weights)\n",
    "###################################\n",
    "x_net = build_sequential(p.x_net)"
   ]
  },
  {
   "cell_type": "code",
   "execution_count": 9,
   "id": "5d7e61cc",
   "metadata": {
    "execution": {
     "iopub.execute_input": "2022-03-26T14:12:54.357434Z",
     "iopub.status.busy": "2022-03-26T14:12:54.356871Z",
     "iopub.status.idle": "2022-03-26T14:12:54.380489Z",
     "shell.execute_reply": "2022-03-26T14:12:54.379675Z"
    },
    "papermill": {
     "duration": 0.041377,
     "end_time": "2022-03-26T14:12:54.380641",
     "exception": false,
     "start_time": "2022-03-26T14:12:54.339264",
     "status": "completed"
    },
    "tags": []
   },
   "outputs": [],
   "source": [
    "start_time_secs = time.time()"
   ]
  },
  {
   "cell_type": "code",
   "execution_count": 10,
   "id": "fd5442bc",
   "metadata": {
    "execution": {
     "iopub.execute_input": "2022-03-26T14:12:54.431392Z",
     "iopub.status.busy": "2022-03-26T14:12:54.425650Z",
     "iopub.status.idle": "2022-03-26T14:13:16.720498Z",
     "shell.execute_reply": "2022-03-26T14:13:16.719719Z"
    },
    "papermill": {
     "duration": 22.318157,
     "end_time": "2022-03-26T14:13:16.720683",
     "exception": false,
     "start_time": "2022-03-26T14:12:54.402526",
     "status": "completed"
    },
    "tags": []
   },
   "outputs": [],
   "source": [
    "###################################\n",
    "# Build the dataset\n",
    "###################################\n",
    "\n",
    "if p.x_transforms_source == []: x_transform_source = None\n",
    "else: x_transform_source = get_chained_transform(p.x_transforms_source) \n",
    "\n",
    "if p.x_transforms_target == []: x_transform_target = None\n",
    "else: x_transform_target = get_chained_transform(p.x_transforms_target)\n",
    "\n",
    "if p.episode_transforms_source == []: episode_transform_source = None\n",
    "else: raise Exception(\"episode_transform_source not implemented\")\n",
    "\n",
    "if p.episode_transforms_target == []: episode_transform_target = None\n",
    "else: raise Exception(\"episode_transform_target not implemented\")\n",
    "\n",
    "\n",
    "eaf_source = Episodic_Accessor_Factory(\n",
    "    labels=p.labels_source,\n",
    "    domains=p.domains_source,\n",
    "    num_examples_per_domain_per_label=p.num_examples_per_domain_per_label_source,\n",
    "    iterator_seed=p.seed,\n",
    "    dataset_seed=p.dataset_seed,\n",
    "    n_shot=p.n_shot,\n",
    "    n_way=p.n_way,\n",
    "    n_query=p.n_query,\n",
    "    train_val_test_k_factors=(p.train_k_factor,p.val_k_factor,p.test_k_factor),\n",
    "    pickle_path=os.path.join(get_datasets_base_path(), p.pickle_name),\n",
    "    x_transform_func=x_transform_source,\n",
    "    example_transform_func=episode_transform_source,\n",
    "    \n",
    ")\n",
    "train_original_source, val_original_source, test_original_source = eaf_source.get_train(), eaf_source.get_val(), eaf_source.get_test()\n",
    "\n",
    "\n",
    "eaf_target = Episodic_Accessor_Factory(\n",
    "    labels=p.labels_target,\n",
    "    domains=p.domains_target,\n",
    "    num_examples_per_domain_per_label=p.num_examples_per_domain_per_label_target,\n",
    "    iterator_seed=p.seed,\n",
    "    dataset_seed=p.dataset_seed,\n",
    "    n_shot=p.n_shot,\n",
    "    n_way=p.n_way,\n",
    "    n_query=p.n_query,\n",
    "    train_val_test_k_factors=(p.train_k_factor,p.val_k_factor,p.test_k_factor),\n",
    "    pickle_path=os.path.join(get_datasets_base_path(), p.pickle_name),\n",
    "    x_transform_func=x_transform_target,\n",
    "    example_transform_func=episode_transform_target,\n",
    ")\n",
    "train_original_target, val_original_target, test_original_target = eaf_target.get_train(), eaf_target.get_val(), eaf_target.get_test()\n",
    "\n",
    "\n",
    "transform_lambda = lambda ex: ex[1] # Original is (<domain>, <episode>) so we strip down to episode only\n",
    "\n",
    "train_processed_source = Lazy_Iterable_Wrapper(train_original_source, transform_lambda)\n",
    "val_processed_source   = Lazy_Iterable_Wrapper(val_original_source, transform_lambda)\n",
    "test_processed_source  = Lazy_Iterable_Wrapper(test_original_source, transform_lambda)\n",
    "\n",
    "train_processed_target = Lazy_Iterable_Wrapper(train_original_target, transform_lambda)\n",
    "val_processed_target   = Lazy_Iterable_Wrapper(val_original_target, transform_lambda)\n",
    "test_processed_target  = Lazy_Iterable_Wrapper(test_original_target, transform_lambda)\n",
    "\n",
    "datasets = EasyDict({\n",
    "    \"source\": {\n",
    "        \"original\": {\"train\":train_original_source, \"val\":val_original_source, \"test\":test_original_source},\n",
    "        \"processed\": {\"train\":train_processed_source, \"val\":val_processed_source, \"test\":test_processed_source}\n",
    "    },\n",
    "    \"target\": {\n",
    "        \"original\": {\"train\":train_original_target, \"val\":val_original_target, \"test\":test_original_target},\n",
    "        \"processed\": {\"train\":train_processed_target, \"val\":val_processed_target, \"test\":test_processed_target}\n",
    "    },\n",
    "})"
   ]
  },
  {
   "cell_type": "code",
   "execution_count": 11,
   "id": "296189d9",
   "metadata": {
    "execution": {
     "iopub.execute_input": "2022-03-26T14:13:16.762513Z",
     "iopub.status.busy": "2022-03-26T14:13:16.761943Z",
     "iopub.status.idle": "2022-03-26T14:13:22.131091Z",
     "shell.execute_reply": "2022-03-26T14:13:22.131908Z"
    },
    "papermill": {
     "duration": 5.391523,
     "end_time": "2022-03-26T14:13:22.132122",
     "exception": false,
     "start_time": "2022-03-26T14:13:16.740599",
     "status": "completed"
    },
    "tags": []
   },
   "outputs": [
    {
     "name": "stdout",
     "output_type": "stream",
     "text": [
      "Visually inspect these to see if they line up with expected values given the transforms\n",
      "x_transforms_source ['unit_power']\n",
      "x_transforms_target ['unit_power']\n",
      "Average magnitude, source: 0.9635497\n",
      "Average power, source: 1.0\n"
     ]
    },
    {
     "name": "stdout",
     "output_type": "stream",
     "text": [
      "Average magnitude, target: 0.96823895\n",
      "Average power, target: 0.99999994\n"
     ]
    }
   ],
   "source": [
    "# Some quick unit tests on the data\n",
    "from steves_utils.transforms import get_average_power, get_average_magnitude\n",
    "\n",
    "q_x, q_y, s_x, s_y, truth = next(iter(train_processed_source))\n",
    "\n",
    "assert q_x.dtype == eval(p.torch_default_dtype)\n",
    "assert s_x.dtype == eval(p.torch_default_dtype)\n",
    "\n",
    "print(\"Visually inspect these to see if they line up with expected values given the transforms\")\n",
    "print('x_transforms_source', p.x_transforms_source)\n",
    "print('x_transforms_target', p.x_transforms_target)\n",
    "print(\"Average magnitude, source:\", get_average_magnitude(q_x[0].numpy()))\n",
    "print(\"Average power, source:\", get_average_power(q_x[0].numpy()))\n",
    "\n",
    "q_x, q_y, s_x, s_y, truth = next(iter(train_processed_target))\n",
    "print(\"Average magnitude, target:\", get_average_magnitude(q_x[0].numpy()))\n",
    "print(\"Average power, target:\", get_average_power(q_x[0].numpy()))\n"
   ]
  },
  {
   "cell_type": "code",
   "execution_count": 12,
   "id": "bbdacba1",
   "metadata": {
    "execution": {
     "iopub.execute_input": "2022-03-26T14:13:22.174972Z",
     "iopub.status.busy": "2022-03-26T14:13:22.173354Z",
     "iopub.status.idle": "2022-03-26T14:13:22.287508Z",
     "shell.execute_reply": "2022-03-26T14:13:22.288216Z"
    },
    "papermill": {
     "duration": 0.135653,
     "end_time": "2022-03-26T14:13:22.288431",
     "exception": false,
     "start_time": "2022-03-26T14:13:22.152778",
     "status": "completed"
    },
    "tags": []
   },
   "outputs": [
    {
     "name": "stdout",
     "output_type": "stream",
     "text": [
      "(2, 256)\n"
     ]
    }
   ],
   "source": [
    "###################################\n",
    "# Build the model\n",
    "###################################\n",
    "model = Steves_Prototypical_Network(x_net, device=p.device, x_shape=(2,256))\n",
    "optimizer = Adam(params=model.parameters(), lr=p.lr)"
   ]
  },
  {
   "cell_type": "code",
   "execution_count": 13,
   "id": "22b39ac5",
   "metadata": {
    "execution": {
     "iopub.execute_input": "2022-03-26T14:13:22.334087Z",
     "iopub.status.busy": "2022-03-26T14:13:22.333702Z",
     "iopub.status.idle": "2022-03-26T14:23:33.752174Z",
     "shell.execute_reply": "2022-03-26T14:23:33.751828Z"
    },
    "papermill": {
     "duration": 611.441338,
     "end_time": "2022-03-26T14:23:33.752261",
     "exception": false,
     "start_time": "2022-03-26T14:13:22.310923",
     "status": "completed"
    },
    "tags": []
   },
   "outputs": [
    {
     "name": "stdout",
     "output_type": "stream",
     "text": [
      "epoch: 1, [batch: 1 / 2520], examples_per_second: 83.0833, train_label_loss: 2.8534, \n"
     ]
    },
    {
     "name": "stdout",
     "output_type": "stream",
     "text": [
      "epoch: 1, [batch: 252 / 2520], examples_per_second: 4069.4220, train_label_loss: 1.2535, \n"
     ]
    },
    {
     "name": "stdout",
     "output_type": "stream",
     "text": [
      "epoch: 1, [batch: 504 / 2520], examples_per_second: 3781.1052, train_label_loss: 1.1108, \n"
     ]
    },
    {
     "name": "stdout",
     "output_type": "stream",
     "text": [
      "epoch: 1, [batch: 756 / 2520], examples_per_second: 3831.8890, train_label_loss: 0.9118, \n"
     ]
    },
    {
     "name": "stdout",
     "output_type": "stream",
     "text": [
      "epoch: 1, [batch: 1008 / 2520], examples_per_second: 3795.5490, train_label_loss: 0.5915, \n"
     ]
    },
    {
     "name": "stdout",
     "output_type": "stream",
     "text": [
      "epoch: 1, [batch: 1260 / 2520], examples_per_second: 3854.9998, train_label_loss: 0.4851, \n"
     ]
    },
    {
     "name": "stdout",
     "output_type": "stream",
     "text": [
      "epoch: 1, [batch: 1512 / 2520], examples_per_second: 3904.3688, train_label_loss: 0.6507, \n"
     ]
    },
    {
     "name": "stdout",
     "output_type": "stream",
     "text": [
      "epoch: 1, [batch: 1764 / 2520], examples_per_second: 3910.1000, train_label_loss: 0.4768, \n"
     ]
    },
    {
     "name": "stdout",
     "output_type": "stream",
     "text": [
      "epoch: 1, [batch: 2016 / 2520], examples_per_second: 3840.8194, train_label_loss: 0.6843, \n"
     ]
    },
    {
     "name": "stdout",
     "output_type": "stream",
     "text": [
      "epoch: 1, [batch: 2268 / 2520], examples_per_second: 3924.6984, train_label_loss: 0.5819, \n"
     ]
    },
    {
     "name": "stdout",
     "output_type": "stream",
     "text": [
      "=============================================================\n",
      "epoch: 1, source_val_acc_label: 0.6397, target_val_acc_label: 0.5364, source_val_label_loss: 8.6037, target_val_label_loss: 13.1645, \n",
      "=============================================================\n"
     ]
    },
    {
     "name": "stdout",
     "output_type": "stream",
     "text": [
      "New best\n"
     ]
    },
    {
     "name": "stdout",
     "output_type": "stream",
     "text": [
      "epoch: 2, [batch: 1 / 2520], examples_per_second: 9.2682, train_label_loss: 0.9132, \n"
     ]
    },
    {
     "name": "stdout",
     "output_type": "stream",
     "text": [
      "epoch: 2, [batch: 252 / 2520], examples_per_second: 4045.7110, train_label_loss: 0.6225, \n"
     ]
    },
    {
     "name": "stdout",
     "output_type": "stream",
     "text": [
      "epoch: 2, [batch: 504 / 2520], examples_per_second: 4037.2920, train_label_loss: 0.5702, \n"
     ]
    },
    {
     "name": "stdout",
     "output_type": "stream",
     "text": [
      "epoch: 2, [batch: 756 / 2520], examples_per_second: 4106.1212, train_label_loss: 0.6023, \n"
     ]
    },
    {
     "name": "stdout",
     "output_type": "stream",
     "text": [
      "epoch: 2, [batch: 1008 / 2520], examples_per_second: 3975.5569, train_label_loss: 0.4790, \n"
     ]
    },
    {
     "name": "stdout",
     "output_type": "stream",
     "text": [
      "epoch: 2, [batch: 1260 / 2520], examples_per_second: 4021.8718, train_label_loss: 0.5492, \n"
     ]
    },
    {
     "name": "stdout",
     "output_type": "stream",
     "text": [
      "epoch: 2, [batch: 1512 / 2520], examples_per_second: 4000.4393, train_label_loss: 0.6148, \n"
     ]
    },
    {
     "name": "stdout",
     "output_type": "stream",
     "text": [
      "epoch: 2, [batch: 1764 / 2520], examples_per_second: 4015.6084, train_label_loss: 0.5606, \n"
     ]
    },
    {
     "name": "stdout",
     "output_type": "stream",
     "text": [
      "epoch: 2, [batch: 2016 / 2520], examples_per_second: 3947.1459, train_label_loss: 0.6101, \n"
     ]
    },
    {
     "name": "stdout",
     "output_type": "stream",
     "text": [
      "epoch: 2, [batch: 2268 / 2520], examples_per_second: 4079.6095, train_label_loss: 0.4587, \n"
     ]
    },
    {
     "name": "stdout",
     "output_type": "stream",
     "text": [
      "=============================================================\n",
      "epoch: 2, source_val_acc_label: 0.8335, target_val_acc_label: 0.7333, source_val_label_loss: 0.4551, target_val_label_loss: 8.9393, \n",
      "=============================================================\n"
     ]
    },
    {
     "name": "stdout",
     "output_type": "stream",
     "text": [
      "New best\n"
     ]
    },
    {
     "name": "stdout",
     "output_type": "stream",
     "text": [
      "epoch: 3, [batch: 1 / 2520], examples_per_second: 9.1414, train_label_loss: 0.4756, \n"
     ]
    },
    {
     "name": "stdout",
     "output_type": "stream",
     "text": [
      "epoch: 3, [batch: 252 / 2520], examples_per_second: 3942.5605, train_label_loss: 0.5016, \n"
     ]
    },
    {
     "name": "stdout",
     "output_type": "stream",
     "text": [
      "epoch: 3, [batch: 504 / 2520], examples_per_second: 3907.1966, train_label_loss: 0.5475, \n"
     ]
    },
    {
     "name": "stdout",
     "output_type": "stream",
     "text": [
      "epoch: 3, [batch: 756 / 2520], examples_per_second: 3971.9236, train_label_loss: 0.4435, \n"
     ]
    },
    {
     "name": "stdout",
     "output_type": "stream",
     "text": [
      "epoch: 3, [batch: 1008 / 2520], examples_per_second: 3974.5267, train_label_loss: 0.3243, \n"
     ]
    },
    {
     "name": "stdout",
     "output_type": "stream",
     "text": [
      "epoch: 3, [batch: 1260 / 2520], examples_per_second: 4051.1470, train_label_loss: 0.4708, \n"
     ]
    },
    {
     "name": "stdout",
     "output_type": "stream",
     "text": [
      "epoch: 3, [batch: 1512 / 2520], examples_per_second: 4031.6916, train_label_loss: 0.5177, \n"
     ]
    },
    {
     "name": "stdout",
     "output_type": "stream",
     "text": [
      "epoch: 3, [batch: 1764 / 2520], examples_per_second: 4010.1806, train_label_loss: 0.2792, \n"
     ]
    },
    {
     "name": "stdout",
     "output_type": "stream",
     "text": [
      "epoch: 3, [batch: 2016 / 2520], examples_per_second: 4032.7340, train_label_loss: 0.4925, \n"
     ]
    },
    {
     "name": "stdout",
     "output_type": "stream",
     "text": [
      "epoch: 3, [batch: 2268 / 2520], examples_per_second: 4007.0146, train_label_loss: 0.1520, \n"
     ]
    },
    {
     "name": "stdout",
     "output_type": "stream",
     "text": [
      "=============================================================\n",
      "epoch: 3, source_val_acc_label: 0.8474, target_val_acc_label: 0.7282, source_val_label_loss: 0.4210, target_val_label_loss: 10.7041, \n",
      "=============================================================\n"
     ]
    },
    {
     "name": "stdout",
     "output_type": "stream",
     "text": [
      "epoch: 4, [batch: 1 / 2520], examples_per_second: 9.3390, train_label_loss: 0.3631, \n"
     ]
    },
    {
     "name": "stdout",
     "output_type": "stream",
     "text": [
      "epoch: 4, [batch: 252 / 2520], examples_per_second: 3939.7541, train_label_loss: 0.3844, \n"
     ]
    },
    {
     "name": "stdout",
     "output_type": "stream",
     "text": [
      "epoch: 4, [batch: 504 / 2520], examples_per_second: 3930.4536, train_label_loss: 0.4582, \n"
     ]
    },
    {
     "name": "stdout",
     "output_type": "stream",
     "text": [
      "epoch: 4, [batch: 756 / 2520], examples_per_second: 3901.9194, train_label_loss: 0.7020, \n"
     ]
    },
    {
     "name": "stdout",
     "output_type": "stream",
     "text": [
      "epoch: 4, [batch: 1008 / 2520], examples_per_second: 3891.4939, train_label_loss: 0.6808, \n"
     ]
    },
    {
     "name": "stdout",
     "output_type": "stream",
     "text": [
      "epoch: 4, [batch: 1260 / 2520], examples_per_second: 3788.8434, train_label_loss: 0.3718, \n"
     ]
    },
    {
     "name": "stdout",
     "output_type": "stream",
     "text": [
      "epoch: 4, [batch: 1512 / 2520], examples_per_second: 3926.8087, train_label_loss: 0.1801, \n"
     ]
    },
    {
     "name": "stdout",
     "output_type": "stream",
     "text": [
      "epoch: 4, [batch: 1764 / 2520], examples_per_second: 3854.9518, train_label_loss: 0.4819, \n"
     ]
    },
    {
     "name": "stdout",
     "output_type": "stream",
     "text": [
      "epoch: 4, [batch: 2016 / 2520], examples_per_second: 3888.2557, train_label_loss: 0.2834, \n"
     ]
    },
    {
     "name": "stdout",
     "output_type": "stream",
     "text": [
      "epoch: 4, [batch: 2268 / 2520], examples_per_second: 3888.6848, train_label_loss: 0.3481, \n"
     ]
    },
    {
     "name": "stdout",
     "output_type": "stream",
     "text": [
      "=============================================================\n",
      "epoch: 4, source_val_acc_label: 0.8532, target_val_acc_label: 0.7321, source_val_label_loss: 0.3953, target_val_label_loss: 12.5354, \n",
      "=============================================================\n"
     ]
    },
    {
     "name": "stdout",
     "output_type": "stream",
     "text": [
      "epoch: 5, [batch: 1 / 2520], examples_per_second: 9.1989, train_label_loss: 0.4009, \n"
     ]
    },
    {
     "name": "stdout",
     "output_type": "stream",
     "text": [
      "epoch: 5, [batch: 252 / 2520], examples_per_second: 3908.1915, train_label_loss: 0.2755, \n"
     ]
    },
    {
     "name": "stdout",
     "output_type": "stream",
     "text": [
      "epoch: 5, [batch: 504 / 2520], examples_per_second: 3898.3383, train_label_loss: 0.3607, \n"
     ]
    },
    {
     "name": "stdout",
     "output_type": "stream",
     "text": [
      "epoch: 5, [batch: 756 / 2520], examples_per_second: 3923.3174, train_label_loss: 0.3752, \n"
     ]
    },
    {
     "name": "stdout",
     "output_type": "stream",
     "text": [
      "epoch: 5, [batch: 1008 / 2520], examples_per_second: 3937.3365, train_label_loss: 0.2411, \n"
     ]
    },
    {
     "name": "stdout",
     "output_type": "stream",
     "text": [
      "epoch: 5, [batch: 1260 / 2520], examples_per_second: 4027.9936, train_label_loss: 0.3718, \n"
     ]
    },
    {
     "name": "stdout",
     "output_type": "stream",
     "text": [
      "epoch: 5, [batch: 1512 / 2520], examples_per_second: 3837.2556, train_label_loss: 0.0959, \n"
     ]
    },
    {
     "name": "stdout",
     "output_type": "stream",
     "text": [
      "epoch: 5, [batch: 1764 / 2520], examples_per_second: 3965.1420, train_label_loss: 0.3909, \n"
     ]
    },
    {
     "name": "stdout",
     "output_type": "stream",
     "text": [
      "epoch: 5, [batch: 2016 / 2520], examples_per_second: 3960.2603, train_label_loss: 0.2447, \n"
     ]
    },
    {
     "name": "stdout",
     "output_type": "stream",
     "text": [
      "epoch: 5, [batch: 2268 / 2520], examples_per_second: 4060.2485, train_label_loss: 0.4672, \n"
     ]
    },
    {
     "name": "stdout",
     "output_type": "stream",
     "text": [
      "=============================================================\n",
      "epoch: 5, source_val_acc_label: 0.8842, target_val_acc_label: 0.7801, source_val_label_loss: 0.3194, target_val_label_loss: 11.6242, \n",
      "=============================================================\n"
     ]
    },
    {
     "name": "stdout",
     "output_type": "stream",
     "text": [
      "New best\n"
     ]
    },
    {
     "name": "stdout",
     "output_type": "stream",
     "text": [
      "epoch: 6, [batch: 1 / 2520], examples_per_second: 8.9315, train_label_loss: 0.2002, \n"
     ]
    },
    {
     "name": "stdout",
     "output_type": "stream",
     "text": [
      "epoch: 6, [batch: 252 / 2520], examples_per_second: 3933.5116, train_label_loss: 0.1453, \n"
     ]
    },
    {
     "name": "stdout",
     "output_type": "stream",
     "text": [
      "epoch: 6, [batch: 504 / 2520], examples_per_second: 3917.7103, train_label_loss: 0.4594, \n"
     ]
    },
    {
     "name": "stdout",
     "output_type": "stream",
     "text": [
      "epoch: 6, [batch: 756 / 2520], examples_per_second: 3985.2263, train_label_loss: 0.3348, \n"
     ]
    },
    {
     "name": "stdout",
     "output_type": "stream",
     "text": [
      "epoch: 6, [batch: 1008 / 2520], examples_per_second: 3918.0977, train_label_loss: 0.1491, \n"
     ]
    },
    {
     "name": "stdout",
     "output_type": "stream",
     "text": [
      "epoch: 6, [batch: 1260 / 2520], examples_per_second: 4004.6660, train_label_loss: 0.1727, \n"
     ]
    },
    {
     "name": "stdout",
     "output_type": "stream",
     "text": [
      "epoch: 6, [batch: 1512 / 2520], examples_per_second: 4021.2848, train_label_loss: 0.0841, \n"
     ]
    },
    {
     "name": "stdout",
     "output_type": "stream",
     "text": [
      "epoch: 6, [batch: 1764 / 2520], examples_per_second: 3960.4048, train_label_loss: 0.2828, \n"
     ]
    },
    {
     "name": "stdout",
     "output_type": "stream",
     "text": [
      "epoch: 6, [batch: 2016 / 2520], examples_per_second: 3992.6711, train_label_loss: 0.2518, \n"
     ]
    },
    {
     "name": "stdout",
     "output_type": "stream",
     "text": [
      "epoch: 6, [batch: 2268 / 2520], examples_per_second: 4050.9331, train_label_loss: 0.4700, \n"
     ]
    },
    {
     "name": "stdout",
     "output_type": "stream",
     "text": [
      "=============================================================\n",
      "epoch: 6, source_val_acc_label: 0.8973, target_val_acc_label: 0.7961, source_val_label_loss: 0.2756, target_val_label_loss: 13.0880, \n",
      "=============================================================\n"
     ]
    },
    {
     "name": "stdout",
     "output_type": "stream",
     "text": [
      "New best\n"
     ]
    },
    {
     "name": "stdout",
     "output_type": "stream",
     "text": [
      "epoch: 7, [batch: 1 / 2520], examples_per_second: 9.1404, train_label_loss: 0.1470, \n"
     ]
    },
    {
     "name": "stdout",
     "output_type": "stream",
     "text": [
      "epoch: 7, [batch: 252 / 2520], examples_per_second: 3804.2104, train_label_loss: 0.3538, \n"
     ]
    },
    {
     "name": "stdout",
     "output_type": "stream",
     "text": [
      "epoch: 7, [batch: 504 / 2520], examples_per_second: 3875.4619, train_label_loss: 0.3018, \n"
     ]
    },
    {
     "name": "stdout",
     "output_type": "stream",
     "text": [
      "epoch: 7, [batch: 756 / 2520], examples_per_second: 3876.1015, train_label_loss: 0.3322, \n"
     ]
    },
    {
     "name": "stdout",
     "output_type": "stream",
     "text": [
      "epoch: 7, [batch: 1008 / 2520], examples_per_second: 3894.4673, train_label_loss: 0.4604, \n"
     ]
    },
    {
     "name": "stdout",
     "output_type": "stream",
     "text": [
      "epoch: 7, [batch: 1260 / 2520], examples_per_second: 4008.2637, train_label_loss: 0.0580, \n"
     ]
    },
    {
     "name": "stdout",
     "output_type": "stream",
     "text": [
      "epoch: 7, [batch: 1512 / 2520], examples_per_second: 4097.9118, train_label_loss: 0.0544, \n"
     ]
    },
    {
     "name": "stdout",
     "output_type": "stream",
     "text": [
      "epoch: 7, [batch: 1764 / 2520], examples_per_second: 4017.8361, train_label_loss: 0.0438, \n"
     ]
    },
    {
     "name": "stdout",
     "output_type": "stream",
     "text": [
      "epoch: 7, [batch: 2016 / 2520], examples_per_second: 3975.2092, train_label_loss: 0.1279, \n"
     ]
    },
    {
     "name": "stdout",
     "output_type": "stream",
     "text": [
      "epoch: 7, [batch: 2268 / 2520], examples_per_second: 4019.1070, train_label_loss: 0.1786, \n"
     ]
    },
    {
     "name": "stdout",
     "output_type": "stream",
     "text": [
      "=============================================================\n",
      "epoch: 7, source_val_acc_label: 0.8917, target_val_acc_label: 0.7761, source_val_label_loss: 0.3041, target_val_label_loss: 14.0720, \n",
      "=============================================================\n"
     ]
    },
    {
     "name": "stdout",
     "output_type": "stream",
     "text": [
      "epoch: 8, [batch: 1 / 2520], examples_per_second: 9.0662, train_label_loss: 0.1571, \n"
     ]
    },
    {
     "name": "stdout",
     "output_type": "stream",
     "text": [
      "epoch: 8, [batch: 252 / 2520], examples_per_second: 3837.1017, train_label_loss: 0.1798, \n"
     ]
    },
    {
     "name": "stdout",
     "output_type": "stream",
     "text": [
      "epoch: 8, [batch: 504 / 2520], examples_per_second: 3955.0122, train_label_loss: 0.1708, \n"
     ]
    },
    {
     "name": "stdout",
     "output_type": "stream",
     "text": [
      "epoch: 8, [batch: 756 / 2520], examples_per_second: 3970.6079, train_label_loss: 0.3320, \n"
     ]
    },
    {
     "name": "stdout",
     "output_type": "stream",
     "text": [
      "epoch: 8, [batch: 1008 / 2520], examples_per_second: 3954.0747, train_label_loss: 0.1180, \n"
     ]
    },
    {
     "name": "stdout",
     "output_type": "stream",
     "text": [
      "epoch: 8, [batch: 1260 / 2520], examples_per_second: 4001.2099, train_label_loss: 0.1195, \n"
     ]
    },
    {
     "name": "stdout",
     "output_type": "stream",
     "text": [
      "epoch: 8, [batch: 1512 / 2520], examples_per_second: 4138.3839, train_label_loss: 0.1121, \n"
     ]
    },
    {
     "name": "stdout",
     "output_type": "stream",
     "text": [
      "epoch: 8, [batch: 1764 / 2520], examples_per_second: 4153.1434, train_label_loss: 0.2955, \n"
     ]
    },
    {
     "name": "stdout",
     "output_type": "stream",
     "text": [
      "epoch: 8, [batch: 2016 / 2520], examples_per_second: 3998.2709, train_label_loss: 0.2524, \n"
     ]
    },
    {
     "name": "stdout",
     "output_type": "stream",
     "text": [
      "epoch: 8, [batch: 2268 / 2520], examples_per_second: 3943.1434, train_label_loss: 0.3832, \n"
     ]
    },
    {
     "name": "stdout",
     "output_type": "stream",
     "text": [
      "=============================================================\n",
      "epoch: 8, source_val_acc_label: 0.9092, target_val_acc_label: 0.7905, source_val_label_loss: 0.2524, target_val_label_loss: 13.8919, \n",
      "=============================================================\n"
     ]
    },
    {
     "name": "stdout",
     "output_type": "stream",
     "text": [
      "epoch: 9, [batch: 1 / 2520], examples_per_second: 9.2979, train_label_loss: 0.0868, \n"
     ]
    },
    {
     "name": "stdout",
     "output_type": "stream",
     "text": [
      "epoch: 9, [batch: 252 / 2520], examples_per_second: 4456.1190, train_label_loss: 0.1276, \n"
     ]
    },
    {
     "name": "stdout",
     "output_type": "stream",
     "text": [
      "epoch: 9, [batch: 504 / 2520], examples_per_second: 4538.4748, train_label_loss: 0.2786, \n"
     ]
    },
    {
     "name": "stdout",
     "output_type": "stream",
     "text": [
      "epoch: 9, [batch: 756 / 2520], examples_per_second: 4544.8108, train_label_loss: 0.3199, \n"
     ]
    },
    {
     "name": "stdout",
     "output_type": "stream",
     "text": [
      "epoch: 9, [batch: 1008 / 2520], examples_per_second: 4469.6509, train_label_loss: 0.1709, \n"
     ]
    },
    {
     "name": "stdout",
     "output_type": "stream",
     "text": [
      "epoch: 9, [batch: 1260 / 2520], examples_per_second: 4580.0230, train_label_loss: 0.1035, \n"
     ]
    },
    {
     "name": "stdout",
     "output_type": "stream",
     "text": [
      "epoch: 9, [batch: 1512 / 2520], examples_per_second: 4244.0887, train_label_loss: 0.0998, \n"
     ]
    },
    {
     "name": "stdout",
     "output_type": "stream",
     "text": [
      "epoch: 9, [batch: 1764 / 2520], examples_per_second: 4227.0876, train_label_loss: 0.2296, \n"
     ]
    },
    {
     "name": "stdout",
     "output_type": "stream",
     "text": [
      "epoch: 9, [batch: 2016 / 2520], examples_per_second: 4253.2411, train_label_loss: 0.2218, \n"
     ]
    },
    {
     "name": "stdout",
     "output_type": "stream",
     "text": [
      "epoch: 9, [batch: 2268 / 2520], examples_per_second: 4552.2345, train_label_loss: 0.2439, \n"
     ]
    },
    {
     "name": "stdout",
     "output_type": "stream",
     "text": [
      "=============================================================\n",
      "epoch: 9, source_val_acc_label: 0.9001, target_val_acc_label: 0.7766, source_val_label_loss: 0.2858, target_val_label_loss: 14.6340, \n",
      "=============================================================\n"
     ]
    },
    {
     "name": "stdout",
     "output_type": "stream",
     "text": [
      "epoch: 10, [batch: 1 / 2520], examples_per_second: 11.3026, train_label_loss: 0.2871, \n"
     ]
    },
    {
     "name": "stdout",
     "output_type": "stream",
     "text": [
      "epoch: 10, [batch: 252 / 2520], examples_per_second: 4767.0760, train_label_loss: 0.2034, \n"
     ]
    },
    {
     "name": "stdout",
     "output_type": "stream",
     "text": [
      "epoch: 10, [batch: 504 / 2520], examples_per_second: 5043.9074, train_label_loss: 0.2617, \n"
     ]
    },
    {
     "name": "stdout",
     "output_type": "stream",
     "text": [
      "epoch: 10, [batch: 756 / 2520], examples_per_second: 5137.5903, train_label_loss: 0.2537, \n"
     ]
    },
    {
     "name": "stdout",
     "output_type": "stream",
     "text": [
      "epoch: 10, [batch: 1008 / 2520], examples_per_second: 4979.3851, train_label_loss: 0.3680, \n"
     ]
    },
    {
     "name": "stdout",
     "output_type": "stream",
     "text": [
      "epoch: 10, [batch: 1260 / 2520], examples_per_second: 4961.8157, train_label_loss: 0.0679, \n"
     ]
    },
    {
     "name": "stdout",
     "output_type": "stream",
     "text": [
      "epoch: 10, [batch: 1512 / 2520], examples_per_second: 5306.9434, train_label_loss: 0.2972, \n"
     ]
    },
    {
     "name": "stdout",
     "output_type": "stream",
     "text": [
      "epoch: 10, [batch: 1764 / 2520], examples_per_second: 5094.7021, train_label_loss: 0.2327, \n"
     ]
    },
    {
     "name": "stdout",
     "output_type": "stream",
     "text": [
      "epoch: 10, [batch: 2016 / 2520], examples_per_second: 5097.0893, train_label_loss: 0.2818, \n"
     ]
    },
    {
     "name": "stdout",
     "output_type": "stream",
     "text": [
      "epoch: 10, [batch: 2268 / 2520], examples_per_second: 4879.1796, train_label_loss: 0.1265, \n"
     ]
    },
    {
     "name": "stdout",
     "output_type": "stream",
     "text": [
      "=============================================================\n",
      "epoch: 10, source_val_acc_label: 0.9075, target_val_acc_label: 0.7821, source_val_label_loss: 0.2568, target_val_label_loss: 15.7858, \n",
      "=============================================================\n"
     ]
    },
    {
     "name": "stdout",
     "output_type": "stream",
     "text": [
      "Patience (3) exhausted\n"
     ]
    }
   ],
   "source": [
    "###################################\n",
    "# train\n",
    "###################################\n",
    "jig = PTN_Train_Eval_Test_Jig(model, p.BEST_MODEL_PATH, p.device)\n",
    "\n",
    "jig.train(\n",
    "    train_iterable=datasets.source.processed.train,\n",
    "    source_val_iterable=datasets.source.processed.val,\n",
    "    target_val_iterable=datasets.target.processed.val,\n",
    "    num_epochs=p.n_epoch,\n",
    "    num_logs_per_epoch=p.NUM_LOGS_PER_EPOCH,\n",
    "    patience=p.patience,\n",
    "    optimizer=optimizer,\n",
    "    criteria_for_best=p.criteria_for_best,\n",
    ")"
   ]
  },
  {
   "cell_type": "code",
   "execution_count": 14,
   "id": "31e8fabf",
   "metadata": {
    "execution": {
     "iopub.execute_input": "2022-03-26T14:23:33.853839Z",
     "iopub.status.busy": "2022-03-26T14:23:33.853474Z",
     "iopub.status.idle": "2022-03-26T14:23:33.887504Z",
     "shell.execute_reply": "2022-03-26T14:23:33.886614Z"
    },
    "papermill": {
     "duration": 0.087713,
     "end_time": "2022-03-26T14:23:33.887731",
     "exception": false,
     "start_time": "2022-03-26T14:23:33.800018",
     "status": "completed"
    },
    "tags": []
   },
   "outputs": [],
   "source": [
    "total_experiment_time_secs = time.time() - start_time_secs"
   ]
  },
  {
   "cell_type": "code",
   "execution_count": 15,
   "id": "87b9595b",
   "metadata": {
    "execution": {
     "iopub.execute_input": "2022-03-26T14:23:34.009258Z",
     "iopub.status.busy": "2022-03-26T14:23:34.008859Z",
     "iopub.status.idle": "2022-03-26T14:25:01.194684Z",
     "shell.execute_reply": "2022-03-26T14:25:01.193939Z"
    },
    "papermill": {
     "duration": 87.247696,
     "end_time": "2022-03-26T14:25:01.194882",
     "exception": false,
     "start_time": "2022-03-26T14:23:33.947186",
     "status": "completed"
    },
    "tags": []
   },
   "outputs": [],
   "source": [
    "###################################\n",
    "# Evaluate the model\n",
    "###################################\n",
    "source_test_label_accuracy, source_test_label_loss = jig.test(datasets.source.processed.test)\n",
    "target_test_label_accuracy, target_test_label_loss = jig.test(datasets.target.processed.test)\n",
    "\n",
    "source_val_label_accuracy, source_val_label_loss = jig.test(datasets.source.processed.val)\n",
    "target_val_label_accuracy, target_val_label_loss = jig.test(datasets.target.processed.val)\n",
    "\n",
    "history = jig.get_history()\n",
    "\n",
    "total_epochs_trained = len(history[\"epoch_indices\"])\n",
    "\n",
    "val_dl = Iterable_Aggregator((datasets.source.original.val,datasets.target.original.val))\n",
    "\n",
    "confusion = ptn_confusion_by_domain_over_dataloader(model, p.device, val_dl)\n",
    "per_domain_accuracy = per_domain_accuracy_from_confusion(confusion)\n",
    "\n",
    "# Add a key to per_domain_accuracy for if it was a source domain\n",
    "for domain, accuracy in per_domain_accuracy.items():\n",
    "    per_domain_accuracy[domain] = {\n",
    "        \"accuracy\": accuracy,\n",
    "        \"source?\": domain in p.domains_source\n",
    "    }\n",
    "\n",
    "# Do an independent accuracy assesment JUST TO BE SURE!\n",
    "# _source_test_label_accuracy = independent_accuracy_assesment(model, datasets.source.processed.test, p.device)\n",
    "# _target_test_label_accuracy = independent_accuracy_assesment(model, datasets.target.processed.test, p.device)\n",
    "# _source_val_label_accuracy = independent_accuracy_assesment(model, datasets.source.processed.val, p.device)\n",
    "# _target_val_label_accuracy = independent_accuracy_assesment(model, datasets.target.processed.val, p.device)\n",
    "\n",
    "# assert(_source_test_label_accuracy == source_test_label_accuracy)\n",
    "# assert(_target_test_label_accuracy == target_test_label_accuracy)\n",
    "# assert(_source_val_label_accuracy == source_val_label_accuracy)\n",
    "# assert(_target_val_label_accuracy == target_val_label_accuracy)\n",
    "\n",
    "experiment = {\n",
    "    \"experiment_name\": p.experiment_name,\n",
    "    \"parameters\": dict(p),\n",
    "    \"results\": {\n",
    "        \"source_test_label_accuracy\": source_test_label_accuracy,\n",
    "        \"source_test_label_loss\": source_test_label_loss,\n",
    "        \"target_test_label_accuracy\": target_test_label_accuracy,\n",
    "        \"target_test_label_loss\": target_test_label_loss,\n",
    "        \"source_val_label_accuracy\": source_val_label_accuracy,\n",
    "        \"source_val_label_loss\": source_val_label_loss,\n",
    "        \"target_val_label_accuracy\": target_val_label_accuracy,\n",
    "        \"target_val_label_loss\": target_val_label_loss,\n",
    "        \"total_epochs_trained\": total_epochs_trained,\n",
    "        \"total_experiment_time_secs\": total_experiment_time_secs,\n",
    "        \"confusion\": confusion,\n",
    "        \"per_domain_accuracy\": per_domain_accuracy,\n",
    "    },\n",
    "    \"history\": history,\n",
    "    \"dataset_metrics\": get_dataset_metrics(datasets, \"ptn\"),\n",
    "}"
   ]
  },
  {
   "cell_type": "code",
   "execution_count": 16,
   "id": "54a21829",
   "metadata": {
    "execution": {
     "iopub.execute_input": "2022-03-26T14:25:01.302303Z",
     "iopub.status.busy": "2022-03-26T14:25:01.301931Z",
     "iopub.status.idle": "2022-03-26T14:25:01.534970Z",
     "shell.execute_reply": "2022-03-26T14:25:01.535694Z"
    },
    "papermill": {
     "duration": 0.285959,
     "end_time": "2022-03-26T14:25:01.535882",
     "exception": false,
     "start_time": "2022-03-26T14:25:01.249923",
     "status": "completed"
    },
    "tags": []
   },
   "outputs": [
    {
     "data": {
      "image/png": "[encoded data removed]",
      "text/plain": [
       "<Figure size 1080x504 with 1 Axes>"
      ]
     },
     "metadata": {
      "needs_background": "light"
     },
     "output_type": "display_data"
    }
   ],
   "source": [
    "ax = get_loss_curve(experiment)\n",
    "plt.show()"
   ]
  },
  {
   "cell_type": "code",
   "execution_count": 17,
   "id": "fd8a0f60",
   "metadata": {
    "execution": {
     "iopub.execute_input": "2022-03-26T14:25:01.645808Z",
     "iopub.status.busy": "2022-03-26T14:25:01.645442Z",
     "iopub.status.idle": "2022-03-26T14:25:01.979767Z",
     "shell.execute_reply": "2022-03-26T14:25:01.980449Z"
    },
    "papermill": {
     "duration": 0.38836,
     "end_time": "2022-03-26T14:25:01.980652",
     "exception": false,
     "start_time": "2022-03-26T14:25:01.592292",
     "status": "completed"
    },
    "tags": []
   },
   "outputs": [
    {
     "data": {
      "text/plain": [
       "<AxesSubplot:title={'center':'Results'}>"
      ]
     },
     "execution_count": 17,
     "metadata": {},
     "output_type": "execute_result"
    },
    {
     "data": {
      "image/png": "[encoded data removed]",
      "text/plain": [
       "<Figure size 1080x504 with 1 Axes>"
      ]
     },
     "metadata": {
      "needs_background": "light"
     },
     "output_type": "display_data"
    }
   ],
   "source": [
    "get_results_table(experiment)"
   ]
  },
  {
   "cell_type": "code",
   "execution_count": 18,
   "id": "cf8dc689",
   "metadata": {
    "execution": {
     "iopub.execute_input": "2022-03-26T14:25:02.090467Z",
     "iopub.status.busy": "2022-03-26T14:25:02.090100Z",
     "iopub.status.idle": "2022-03-26T14:25:02.303693Z",
     "shell.execute_reply": "2022-03-26T14:25:02.302849Z"
    },
    "papermill": {
     "duration": 0.267759,
     "end_time": "2022-03-26T14:25:02.303852",
     "exception": false,
     "start_time": "2022-03-26T14:25:02.036093",
     "status": "completed"
    },
    "tags": []
   },
   "outputs": [
    {
     "data": {
      "text/plain": [
       "<AxesSubplot:title={'center':'Per Domain Validation Accuracy'}, xlabel='domain'>"
      ]
     },
     "execution_count": 18,
     "metadata": {},
     "output_type": "execute_result"
    },
    {
     "data": {
      "image/png": "[encoded data removed]",
      "text/plain": [
       "<Figure size 1080x504 with 1 Axes>"
      ]
     },
     "metadata": {
      "needs_background": "light"
     },
     "output_type": "display_data"
    }
   ],
   "source": [
    "get_domain_accuracies(experiment)"
   ]
  },
  {
   "cell_type": "code",
   "execution_count": 19,
   "id": "a74ae082",
   "metadata": {
    "execution": {
     "iopub.execute_input": "2022-03-26T14:25:02.417156Z",
     "iopub.status.busy": "2022-03-26T14:25:02.416785Z",
     "iopub.status.idle": "2022-03-26T14:25:02.442374Z",
     "shell.execute_reply": "2022-03-26T14:25:02.441561Z"
    },
    "papermill": {
     "duration": 0.081467,
     "end_time": "2022-03-26T14:25:02.442531",
     "exception": false,
     "start_time": "2022-03-26T14:25:02.361064",
     "status": "completed"
    },
    "tags": []
   },
   "outputs": [
    {
     "name": "stdout",
     "output_type": "stream",
     "text": [
      "Source Test Label Accuracy: 0.8963541666666667 Target Test Label Accuracy: 0.7876041666666667\n",
      "Source Val Label Accuracy: 0.8973090277777778 Target Val Label Accuracy: 0.7961458333333333\n"
     ]
    }
   ],
   "source": [
    "print(\"Source Test Label Accuracy:\", experiment[\"results\"][\"source_test_label_accuracy\"], \"Target Test Label Accuracy:\", experiment[\"results\"][\"target_test_label_accuracy\"])\n",
    "print(\"Source Val Label Accuracy:\", experiment[\"results\"][\"source_val_label_accuracy\"], \"Target Val Label Accuracy:\", experiment[\"results\"][\"target_val_label_accuracy\"])"
   ]
  },
  {
   "cell_type": "code",
   "execution_count": 20,
   "id": "dacca602",
   "metadata": {
    "execution": {
     "iopub.execute_input": "2022-03-26T14:25:02.556975Z",
     "iopub.status.busy": "2022-03-26T14:25:02.556243Z",
     "iopub.status.idle": "2022-03-26T14:25:02.580543Z",
     "shell.execute_reply": "2022-03-26T14:25:02.579822Z"
    },
    "papermill": {
     "duration": 0.079985,
     "end_time": "2022-03-26T14:25:02.580700",
     "exception": false,
     "start_time": "2022-03-26T14:25:02.500715",
     "status": "completed"
    },
    "tags": [
     "experiment_json"
    ]
   },
   "outputs": [
    {
     "data": {
      "text/plain": [
       "'{\"experiment_name\": \"tuned_1v2:oracle.run2.framed\", \"parameters\": {\"experiment_name\": \"tuned_1v2:oracle.run2.framed\", \"device\": \"cuda\", \"lr\": 0.0001, \"labels_source\": [\"3123D52\", \"3123D65\", \"3123D79\", \"3123D80\", \"3123D54\", \"3123D70\", \"3123D7B\", \"3123D89\", \"3123D58\", \"3123D76\", \"3123D7D\", \"3123EFE\", \"3123D64\", \"3123D78\", \"3123D7E\", \"3124E4A\"], \"labels_target\": [\"3123D52\", \"3123D65\", \"3123D79\", \"3123D80\", \"3123D54\", \"3123D70\", \"3123D7B\", \"3123D89\", \"3123D58\", \"3123D76\", \"3123D7D\", \"3123EFE\", \"3123D64\", \"3123D78\", \"3123D7E\", \"3124E4A\"], \"episode_transforms_source\": [], \"episode_transforms_target\": [], \"domains_source\": [8, 32, 50], \"domains_target\": [14, 20, 26, 38, 44], \"num_examples_per_domain_per_label_source\": -1, \"num_examples_per_domain_per_label_target\": -1, \"n_shot\": 3, \"n_way\": 16, \"n_query\": 2, \"train_k_factor\": 3, \"val_k_factor\": 2, \"test_k_factor\": 2, \"torch_default_dtype\": \"torch.float32\", \"n_epoch\": 50, \"patience\": 3, \"criteria_for_best\": \"target_accuracy\", \"x_net\": [{\"class\": \"nnReshape\", \"kargs\": {\"shape\": [-1, 1, 2, 256]}}, {\"class\": \"Conv2d\", \"kargs\": {\"in_channels\": 1, \"out_channels\": 256, \"kernel_size\": [1, 7], \"bias\": false, \"padding\": [0, 3]}}, {\"class\": \"ReLU\", \"kargs\": {\"inplace\": true}}, {\"class\": \"BatchNorm2d\", \"kargs\": {\"num_features\": 256}}, {\"class\": \"Conv2d\", \"kargs\": {\"in_channels\": 256, \"out_channels\": 80, \"kernel_size\": [2, 7], \"bias\": true, \"padding\": [0, 3]}}, {\"class\": \"ReLU\", \"kargs\": {\"inplace\": true}}, {\"class\": \"BatchNorm2d\", \"kargs\": {\"num_features\": 80}}, {\"class\": \"Flatten\", \"kargs\": {}}, {\"class\": \"Linear\", \"kargs\": {\"in_features\": 20480, \"out_features\": 256}}, {\"class\": \"ReLU\", \"kargs\": {\"inplace\": true}}, {\"class\": \"BatchNorm1d\", \"kargs\": {\"num_features\": 256}}, {\"class\": \"Linear\", \"kargs\": {\"in_features\": 256, \"out_features\": 256}}], \"NUM_LOGS_PER_EPOCH\": 10, \"BEST_MODEL_PATH\": \"./best_model.pth\", \"pickle_name\": \"oracle.Run2_framed_2000Examples_stratified_ds.2022A.pkl\", \"x_transforms_source\": [\"unit_power\"], \"x_transforms_target\": [\"unit_power\"], \"dataset_seed\": 154325, \"seed\": 154325}, \"results\": {\"source_test_label_accuracy\": 0.8963541666666667, \"source_test_label_loss\": 1.0788837671279907, \"target_test_label_accuracy\": 0.7876041666666667, \"target_test_label_loss\": 14.503633499145508, \"source_val_label_accuracy\": 0.8973090277777778, \"source_val_label_loss\": 0.27557188272476196, \"target_val_label_accuracy\": 0.7961458333333333, \"target_val_label_loss\": 13.087950706481934, \"total_epochs_trained\": 10, \"total_experiment_time_secs\": 639.5062589645386, \"confusion\": {\"32\": {\"13\": {\"13\": 183, \"7\": 12, \"4\": 43, \"8\": 2}, \"9\": {\"9\": 239, \"2\": 1}, \"15\": {\"15\": 240}, \"2\": {\"5\": 4, \"2\": 228, \"7\": 4, \"11\": 1, \"4\": 2, \"14\": 1}, \"3\": {\"3\": 239, \"8\": 1}, \"8\": {\"8\": 219, \"0\": 14, \"13\": 5, \"11\": 1, \"5\": 1}, \"5\": {\"5\": 163, \"8\": 13, \"0\": 9, \"4\": 27, \"7\": 4, \"14\": 8, \"2\": 13, \"13\": 2, \"11\": 1}, \"14\": {\"14\": 230, \"0\": 4, \"11\": 3, \"5\": 3}, \"1\": {\"1\": 240}, \"0\": {\"0\": 204, \"11\": 16, \"8\": 13, \"14\": 2, \"5\": 2, \"4\": 2, \"13\": 1}, \"10\": {\"10\": 240}, \"6\": {\"6\": 240}, \"11\": {\"11\": 194, \"7\": 17, \"14\": 2, \"0\": 16, \"13\": 7, \"5\": 2, \"4\": 2}, \"7\": {\"7\": 207, \"11\": 14, \"2\": 4, \"4\": 8, \"5\": 3, \"13\": 4}, \"4\": {\"4\": 157, \"13\": 52, \"7\": 7, \"5\": 19, \"8\": 1, \"11\": 3, \"2\": 1}, \"12\": {\"12\": 240}}, \"50\": {\"10\": {\"10\": 201, \"13\": 34, \"4\": 1, \"5\": 2, \"0\": 1, \"7\": 1}, \"12\": {\"12\": 240}, \"1\": {\"1\": 224, \"4\": 6, \"15\": 5, \"6\": 5}, \"0\": {\"0\": 225, \"2\": 13, \"10\": 2}, \"15\": {\"15\": 223, \"11\": 3, \"6\": 6, \"1\": 8}, \"13\": {\"13\": 199, \"7\": 16, \"10\": 24, \"5\": 1}, \"8\": {\"8\": 237, \"3\": 3}, \"3\": {\"3\": 235, \"8\": 5}, \"11\": {\"11\": 236, \"15\": 2, \"12\": 2}, \"4\": {\"4\": 175, \"5\": 49, \"1\": 12, \"6\": 3, \"13\": 1}, \"6\": {\"6\": 213, \"5\": 14, \"1\": 4, \"4\": 8, \"7\": 1}, \"7\": {\"13\": 36, \"5\": 7, \"7\": 193, \"10\": 4}, \"14\": {\"14\": 240}, \"2\": {\"2\": 234, \"0\": 6}, \"5\": {\"5\": 154, \"6\": 8, \"4\": 56, \"7\": 5, \"10\": 7, \"13\": 9, \"0\": 1}, \"9\": {\"9\": 239, \"12\": 1}}, \"8\": {\"14\": {\"14\": 226, \"13\": 2, \"10\": 2, \"0\": 10}, \"10\": {\"10\": 206, \"0\": 18, \"5\": 15, \"13\": 1}, \"2\": {\"2\": 224, \"7\": 11, \"4\": 5}, \"8\": {\"8\": 238, \"11\": 1, \"15\": 1}, \"6\": {\"4\": 58, \"6\": 175, \"7\": 7}, \"7\": {\"7\": 166, \"4\": 53, \"6\": 16, \"2\": 5}, \"9\": {\"9\": 240}, \"11\": {\"11\": 217, \"8\": 18, \"15\": 2, \"12\": 3}, \"12\": {\"12\": 232, \"15\": 8}, \"13\": {\"13\": 225, \"14\": 12, \"1\": 2, \"6\": 1}, \"0\": {\"0\": 224, \"14\": 5, \"10\": 11}, \"3\": {\"3\": 240}, \"4\": {\"7\": 54, \"6\": 55, \"4\": 129, \"2\": 2}, \"15\": {\"8\": 16, \"15\": 213, \"12\": 11}, \"5\": {\"5\": 212, \"10\": 28}, \"1\": {\"1\": 239, \"13\": 1}}, \"44\": {\"13\": {\"13\": 231, \"6\": 3, \"4\": 6}, \"9\": {\"7\": 48, \"9\": 133, \"2\": 44, \"6\": 15}, \"15\": {\"15\": 208, \"14\": 22, \"4\": 6, \"8\": 3, \"5\": 1}, \"2\": {\"2\": 157, \"9\": 45, \"7\": 37, \"3\": 1}, \"3\": {\"3\": 217, \"1\": 12, \"12\": 11}, \"8\": {\"0\": 73, \"8\": 165, \"5\": 1, \"15\": 1}, \"5\": {\"5\": 234, \"14\": 6}, \"14\": {\"14\": 185, \"5\": 25, \"4\": 13, \"15\": 16, \"13\": 1}, \"1\": {\"1\": 162, \"3\": 15, \"12\": 62, \"7\": 1}, \"0\": {\"8\": 98, \"0\": 140, \"5\": 2}, \"10\": {\"10\": 232, \"12\": 5, \"1\": 3}, \"6\": {\"6\": 217, \"13\": 5, \"9\": 15, \"7\": 3}, \"11\": {\"11\": 220, \"6\": 10, \"5\": 2, \"0\": 1, \"7\": 6, \"13\": 1}, \"7\": {\"7\": 141, \"2\": 36, \"9\": 62, \"1\": 1}, \"4\": {\"4\": 226, \"14\": 12, \"5\": 1, \"13\": 1}, \"12\": {\"12\": 178, \"1\": 59, \"3\": 3}}, \"38\": {\"13\": {\"3\": 44, \"13\": 146, \"8\": 14, \"10\": 7, \"7\": 8, \"5\": 5, \"1\": 8, \"0\": 1, \"9\": 1, \"14\": 1, \"15\": 3, \"2\": 2}, \"12\": {\"12\": 240}, \"2\": {\"2\": 222, \"14\": 18}, \"9\": {\"6\": 29, \"9\": 211}, \"15\": {\"0\": 4, \"15\": 168, \"5\": 28, \"1\": 17, \"8\": 20, \"7\": 1, \"13\": 1, \"6\": 1}, \"5\": {\"5\": 126, \"15\": 19, \"7\": 34, \"8\": 58, \"10\": 2, \"13\": 1}, \"14\": {\"14\": 149, \"2\": 62, \"7\": 7, \"12\": 10, \"4\": 8, \"11\": 4}, \"0\": {\"0\": 230, \"3\": 3, \"15\": 1, \"7\": 2, \"8\": 1, \"6\": 1, \"10\": 2}, \"3\": {\"3\": 144, \"0\": 31, \"13\": 45, \"10\": 8, \"7\": 3, \"8\": 3, \"9\": 4, \"5\": 1, \"6\": 1}, \"1\": {\"1\": 228, \"15\": 10, \"5\": 1, \"8\": 1}, \"11\": {\"12\": 29, \"2\": 28, \"11\": 119, \"14\": 46, \"4\": 11, \"6\": 4, \"10\": 1, \"3\": 1, \"0\": 1}, \"7\": {\"10\": 41, \"7\": 140, \"5\": 39, \"8\": 20}, \"8\": {\"5\": 66, \"8\": 119, \"15\": 33, \"7\": 17, \"13\": 2, \"10\": 3}, \"4\": {\"4\": 235, \"12\": 5}, \"10\": {\"0\": 3, \"10\": 172, \"7\": 59, \"5\": 3, \"13\": 1, \"8\": 2}, \"6\": {\"9\": 24, \"6\": 216}}, \"26\": {\"10\": {\"0\": 58, \"10\": 111, \"8\": 19, \"14\": 30, \"6\": 11, \"4\": 8, \"1\": 1, \"7\": 1, \"2\": 1}, \"12\": {\"12\": 240}, \"1\": {\"1\": 204, \"4\": 3, \"14\": 28, \"10\": 2, \"0\": 2, \"8\": 1}, \"0\": {\"14\": 51, \"10\": 39, \"8\": 25, \"0\": 100, \"4\": 22, \"1\": 2, \"7\": 1}, \"15\": {\"15\": 195, \"7\": 4, \"2\": 25, \"3\": 9, \"8\": 2, \"9\": 2, \"4\": 3}, \"13\": {\"13\": 205, \"5\": 30, \"8\": 1, \"7\": 1, \"9\": 3}, \"8\": {\"8\": 177, \"2\": 11, \"14\": 13, \"10\": 4, \"7\": 10, \"0\": 13, \"13\": 1, \"15\": 3, \"4\": 5, \"5\": 2, \"1\": 1}, \"3\": {\"3\": 204, \"15\": 7, \"5\": 1, \"2\": 20, \"7\": 8}, \"11\": {\"11\": 240}, \"4\": {\"4\": 186, \"7\": 9, \"2\": 5, \"8\": 13, \"14\": 6, \"1\": 2, \"15\": 4, \"0\": 9, \"3\": 4, \"10\": 2}, \"6\": {\"6\": 219, \"10\": 6, \"9\": 15}, \"7\": {\"8\": 17, \"2\": 100, \"15\": 9, \"7\": 89, \"4\": 12, \"5\": 1, \"3\": 12}, \"14\": {\"10\": 21, \"14\": 115, \"0\": 43, \"1\": 33, \"8\": 16, \"4\": 11, \"7\": 1}, \"2\": {\"7\": 81, \"2\": 107, \"3\": 16, \"8\": 6, \"15\": 17, \"4\": 11, \"5\": 2}, \"5\": {\"13\": 66, \"5\": 113, \"6\": 15, \"7\": 15, \"2\": 22, \"3\": 1, \"9\": 4, \"8\": 4}, \"9\": {\"9\": 218, \"13\": 6, \"6\": 11, \"8\": 2, \"5\": 3}}, \"20\": {\"5\": {\"5\": 170, \"4\": 5, \"2\": 15, \"12\": 18, \"8\": 1, \"0\": 9, \"7\": 9, \"15\": 10, \"13\": 1, \"3\": 1, \"1\": 1}, \"15\": {\"13\": 51, \"12\": 8, \"15\": 150, \"5\": 10, \"0\": 3, \"2\": 7, \"1\": 11}, \"9\": {\"2\": 36, \"9\": 178, \"1\": 3, \"12\": 7, \"3\": 16}, \"7\": {\"7\": 230, \"8\": 3, \"2\": 1, \"3\": 5, \"5\": 1}, \"3\": {\"3\": 177, \"7\": 8, \"9\": 15, \"2\": 30, \"12\": 7, \"1\": 1, \"5\": 2}, \"8\": {\"8\": 215, \"14\": 20, \"7\": 5}, \"4\": {\"4\": 239, \"7\": 1}, \"6\": {\"6\": 237, \"14\": 3}, \"2\": {\"9\": 37, \"2\": 166, \"5\": 9, \"12\": 6, \"3\": 19, \"13\": 2, \"15\": 1}, \"12\": {\"12\": 175, \"9\": 4, \"1\": 38, \"2\": 9, \"5\": 10, \"15\": 3, \"0\": 1}, \"0\": {\"0\": 218, \"15\": 10, \"5\": 9, \"4\": 1, \"12\": 1, \"13\": 1}, \"13\": {\"13\": 191, \"15\": 46, \"2\": 3}, \"10\": {\"10\": 238, \"14\": 1, \"6\": 1}, \"11\": {\"11\": 240}, \"14\": {\"14\": 201, \"6\": 7, \"8\": 32}, \"1\": {\"12\": 55, \"1\": 171, \"15\": 9, \"2\": 1, \"9\": 3, \"4\": 1}}, \"14\": {\"13\": {\"13\": 196, \"6\": 39, \"2\": 5}, \"4\": {\"4\": 213, \"1\": 8, \"5\": 19}, \"6\": {\"6\": 205, \"13\": 33, \"4\": 1, \"2\": 1}, \"0\": {\"0\": 240}, \"10\": {\"10\": 240}, \"7\": {\"7\": 240}, \"14\": {\"14\": 215, \"2\": 22, \"6\": 3}, \"15\": {\"15\": 240}, \"5\": {\"1\": 12, \"4\": 26, \"5\": 186, \"2\": 10, \"3\": 6}, \"2\": {\"2\": 137, \"14\": 33, \"13\": 19, \"3\": 23, \"5\": 23, \"4\": 3, \"6\": 2}, \"9\": {\"9\": 240}, \"12\": {\"9\": 27, \"11\": 37, \"12\": 153, \"0\": 17, \"8\": 6}, \"8\": {\"8\": 240}, \"3\": {\"3\": 238, \"4\": 1, \"5\": 1}, \"1\": {\"1\": 233, \"4\": 2, \"5\": 5}, \"11\": {\"11\": 240}}}, \"per_domain_accuracy\": {\"32\": {\"accuracy\": 0.9018229166666667, \"source?\": true}, \"50\": {\"accuracy\": 0.903125, \"source?\": true}, \"8\": {\"accuracy\": 0.8869791666666667, \"source?\": true}, \"44\": {\"accuracy\": 0.7932291666666667, \"source?\": false}, \"38\": {\"accuracy\": 0.74609375, \"source?\": false}, \"26\": {\"accuracy\": 0.7091145833333333, \"source?\": false}, \"20\": {\"accuracy\": 0.8322916666666667, \"source?\": false}, \"14\": {\"accuracy\": 0.9, \"source?\": false}}}, \"history\": {\"epoch_indices\": [1, 2, 3, 4, 5, 6, 7, 8, 9, 10], \"train_label_loss\": [0.9237229359173585, 0.6456921315973714, 0.4408217862632776, 0.3815347240291654, 0.3660865772367706, 0.28479445361946193, 0.2560253743211635, 0.2366048855684875, 0.21117660782950384, 0.19335449150623016], \"source_val_label_loss\": [8.603671073913574, 0.4550706446170807, 0.42096754908561707, 0.3953353464603424, 0.31941279768943787, 0.27557188272476196, 0.30409643054008484, 0.25241678953170776, 0.2857944667339325, 0.2568340599536896], \"target_val_label_loss\": [13.16451644897461, 8.939251899719238, 10.704103469848633, 12.535394668579102, 11.624161720275879, 13.087950706481934, 14.072013854980469, 13.891852378845215, 14.634000778198242, 15.785781860351562], \"source_val_acc_label\": [0.6396701388888889, 0.8335069444444444, 0.8473958333333333, 0.8532118055555555, 0.8842013888888889, 0.8973090277777778, 0.8916666666666667, 0.9092013888888889, 0.9000868055555555, 0.9074652777777777], \"target_val_acc_label\": [0.5363541666666667, 0.73328125, 0.7282291666666667, 0.7320833333333333, 0.7801041666666667, 0.7961458333333333, 0.7761458333333333, 0.79046875, 0.7765625, 0.7821354166666666]}, \"dataset_metrics\": {\"source\": {\"train\": {\"n_unique_x\": 67200, \"n_unique_y\": 16, \"n_batch/episode\": 2520}, \"val\": {\"n_unique_x\": 14400, \"n_unique_y\": 16, \"n_batch/episode\": 360}, \"test\": {\"n_unique_x\": 14400, \"n_unique_y\": 16, \"n_batch/episode\": 360}}, \"target\": {\"train\": {\"n_unique_x\": 112000, \"n_unique_y\": 16, \"n_batch/episode\": 4200}, \"val\": {\"n_unique_x\": 24000, \"n_unique_y\": 16, \"n_batch/episode\": 600}, \"test\": {\"n_unique_x\": 24000, \"n_unique_y\": 16, \"n_batch/episode\": 600}}}}'"
      ]
     },
     "execution_count": 20,
     "metadata": {},
     "output_type": "execute_result"
    }
   ],
   "source": [
    "json.dumps(experiment)"
   ]
  }
 ],
 "metadata": {
  "celltoolbar": "Tags",
  "kernelspec": {
   "display_name": "Python 3 (ipykernel)",
   "language": "python",
   "name": "python3"
  },
  "language_info": {
   "codemirror_mode": {
    "name": "ipython",
    "version": 3
   },
   "file_extension": ".py",
   "mimetype": "text/x-python",
   "name": "python",
   "nbconvert_exporter": "python",
   "pygments_lexer": "ipython3",
   "version": "3.8.12"
  },
  "papermill": {
   "default_parameters": {},
   "duration": 734.382674,
   "end_time": "2022-03-26T14:25:05.573104",
   "environment_variables": {},
   "exception": null,
   "input_path": "/root/csc500-main/csc500-notebooks/templates/ptn_template.ipynb",
   "output_path": "trial.ipynb",
   "parameters": {
    "parameters": {
     "BEST_MODEL_PATH": "./best_model.pth",
     "NUM_LOGS_PER_EPOCH": 10,
     "criteria_for_best": "target_accuracy",
     "dataset_seed": 154325,
     "device": "cuda",
     "domains_source": [
      8,
      32,
      50
     ],
     "domains_target": [
      14,
      20,
      26,
      38,
      44
     ],
     "episode_transforms_source": [],
     "episode_transforms_target": [],
     "experiment_name": "tuned_1v2:oracle.run2.framed",
     "labels_source": [
      "3123D52",
      "3123D65",
      "3123D79",
      "3123D80",
      "3123D54",
      "3123D70",
      "3123D7B",
      "3123D89",
      "3123D58",
      "3123D76",
      "3123D7D",
      "3123EFE",
      "3123D64",
      "3123D78",
      "3123D7E",
      "3124E4A"
     ],
     "labels_target": [
      "3123D52",
      "3123D65",
      "3123D79",
      "3123D80",
      "3123D54",
      "3123D70",
      "3123D7B",
      "3123D89",
      "3123D58",
      "3123D76",
      "3123D7D",
      "3123EFE",
      "3123D64",
      "3123D78",
      "3123D7E",
      "3124E4A"
     ],
     "lr": 0.0001,
     "n_epoch": 50,
     "n_query": 2,
     "n_shot": 3,
     "n_way": 16,
     "num_examples_per_domain_per_label_source": -1,
     "num_examples_per_domain_per_label_target": -1,
     "patience": 3,
     "pickle_name": "oracle.Run2_framed_2000Examples_stratified_ds.2022A.pkl",
     "seed": 154325,
     "test_k_factor": 2,
     "torch_default_dtype": "torch.float32",
     "train_k_factor": 3,
     "val_k_factor": 2,
     "x_net": [
      {
       "class": "nnReshape",
       "kargs": {
        "shape": [
         -1,
         1,
         2,
         256
        ]
       }
      },
      {
       "class": "Conv2d",
       "kargs": {
        "bias": false,
        "in_channels": 1,
        "kernel_size": [
         1,
         7
        ],
        "out_channels": 256,
        "padding": [
         0,
         3
        ]
       }
      },
      {
       "class": "ReLU",
       "kargs": {
        "inplace": true
       }
      },
      {
       "class": "BatchNorm2d",
       "kargs": {
        "num_features": 256
       }
      },
      {
       "class": "Conv2d",
       "kargs": {
        "bias": true,
        "in_channels": 256,
        "kernel_size": [
         2,
         7
        ],
        "out_channels": 80,
        "padding": [
         0,
         3
        ]
       }
      },
      {
       "class": "ReLU",
       "kargs": {
        "inplace": true
       }
      },
      {
       "class": "BatchNorm2d",
       "kargs": {
        "num_features": 80
       }
      },
      {
       "class": "Flatten",
       "kargs": {}
      },
      {
       "class": "Linear",
       "kargs": {
        "in_features": 20480,
        "out_features": 256
       }
      },
      {
       "class": "ReLU",
       "kargs": {
        "inplace": true
       }
      },
      {
       "class": "BatchNorm1d",
       "kargs": {
        "num_features": 256
       }
      },
      {
       "class": "Linear",
       "kargs": {
        "in_features": 256,
        "out_features": 256
       }
      }
     ],
     "x_transforms_source": [
      "unit_power"
     ],
     "x_transforms_target": [
      "unit_power"
     ]
    }
   },
   "start_time": "2022-03-26T14:12:51.190430",
   "version": "2.3.4"
  }
 },
 "nbformat": 4,
 "nbformat_minor": 5
}