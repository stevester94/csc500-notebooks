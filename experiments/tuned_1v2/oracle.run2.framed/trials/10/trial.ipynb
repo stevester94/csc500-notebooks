{
 "cells": [
  {
   "cell_type": "markdown",
   "id": "9fea5f46",
   "metadata": {
    "papermill": {
     "duration": 0.024723,
     "end_time": "2022-03-26T13:48:45.903322",
     "exception": false,
     "start_time": "2022-03-26T13:48:45.878599",
     "status": "completed"
    },
    "tags": []
   },
   "source": [
    "# PTN Template\n",
    "This notebook serves as a template for single dataset PTN experiments  \n",
    "It can be run on its own by setting STANDALONE to True (do a find for \"STANDALONE\" to see where)  \n",
    "But it is intended to be executed as part of a *papermill.py script. See any of the   \n",
    "experimentes with a papermill script to get started with that workflow.  "
   ]
  },
  {
   "cell_type": "code",
   "execution_count": 1,
   "id": "0902182a",
   "metadata": {
    "execution": {
     "iopub.execute_input": "2022-03-26T13:48:45.960331Z",
     "iopub.status.busy": "2022-03-26T13:48:45.952927Z",
     "iopub.status.idle": "2022-03-26T13:48:47.818023Z",
     "shell.execute_reply": "2022-03-26T13:48:47.817574Z"
    },
    "papermill": {
     "duration": 1.896829,
     "end_time": "2022-03-26T13:48:47.818137",
     "exception": false,
     "start_time": "2022-03-26T13:48:45.921308",
     "status": "completed"
    },
    "tags": []
   },
   "outputs": [],
   "source": [
    "%load_ext autoreload\n",
    "%autoreload 2\n",
    "%matplotlib inline\n",
    "\n",
    "    \n",
    "import os, json, sys, time, random\n",
    "import numpy as np\n",
    "import torch\n",
    "from torch.optim import Adam\n",
    "from  easydict import EasyDict\n",
    "import matplotlib.pyplot as plt\n",
    "\n",
    "from steves_models.steves_ptn import Steves_Prototypical_Network\n",
    "\n",
    "from steves_utils.lazy_iterable_wrapper import Lazy_Iterable_Wrapper\n",
    "from steves_utils.iterable_aggregator import Iterable_Aggregator\n",
    "from steves_utils.ptn_train_eval_test_jig import  PTN_Train_Eval_Test_Jig\n",
    "from steves_utils.torch_sequential_builder import build_sequential\n",
    "from steves_utils.torch_utils import get_dataset_metrics, ptn_confusion_by_domain_over_dataloader\n",
    "from steves_utils.utils_v2 import (per_domain_accuracy_from_confusion, get_datasets_base_path)\n",
    "from steves_utils.PTN.utils import independent_accuracy_assesment\n",
    "\n",
    "from steves_utils.stratified_dataset.episodic_accessor import Episodic_Accessor_Factory\n",
    "\n",
    "from steves_utils.ptn_do_report import (\n",
    "    get_loss_curve,\n",
    "    get_results_table,\n",
    "    get_parameters_table,\n",
    "    get_domain_accuracies,\n",
    ")\n",
    "\n",
    "from steves_utils.transforms import get_chained_transform"
   ]
  },
  {
   "cell_type": "markdown",
   "id": "41c840b4",
   "metadata": {
    "papermill": {
     "duration": 0.013448,
     "end_time": "2022-03-26T13:48:47.845801",
     "exception": false,
     "start_time": "2022-03-26T13:48:47.832353",
     "status": "completed"
    },
    "tags": []
   },
   "source": [
    "# Required Parameters\n",
    "These are allowed parameters, not defaults\n",
    "Each of these values need to be present in the injected parameters (the notebook will raise an exception if they are not present)\n",
    "\n",
    "Papermill uses the cell tag \"parameters\" to inject the real parameters below this cell.\n",
    "Enable tags to see what I mean"
   ]
  },
  {
   "cell_type": "code",
   "execution_count": 2,
   "id": "fd44eb83",
   "metadata": {
    "execution": {
     "iopub.execute_input": "2022-03-26T13:48:47.877254Z",
     "iopub.status.busy": "2022-03-26T13:48:47.876873Z",
     "iopub.status.idle": "2022-03-26T13:48:47.895650Z",
     "shell.execute_reply": "2022-03-26T13:48:47.895259Z"
    },
    "papermill": {
     "duration": 0.036386,
     "end_time": "2022-03-26T13:48:47.895738",
     "exception": false,
     "start_time": "2022-03-26T13:48:47.859352",
     "status": "completed"
    },
    "tags": []
   },
   "outputs": [],
   "source": [
    "required_parameters = {\n",
    "    \"experiment_name\",\n",
    "    \"lr\",\n",
    "    \"device\",\n",
    "    \"seed\",\n",
    "    \"dataset_seed\",\n",
    "    \"labels_source\",\n",
    "    \"labels_target\",\n",
    "    \"domains_source\",\n",
    "    \"domains_target\",\n",
    "    \"num_examples_per_domain_per_label_source\",\n",
    "    \"num_examples_per_domain_per_label_target\",\n",
    "    \"n_shot\",\n",
    "    \"n_way\",\n",
    "    \"n_query\",\n",
    "    \"train_k_factor\",\n",
    "    \"val_k_factor\",\n",
    "    \"test_k_factor\",\n",
    "    \"n_epoch\",\n",
    "    \"patience\",\n",
    "    \"criteria_for_best\",\n",
    "    \"x_transforms_source\",\n",
    "    \"x_transforms_target\",\n",
    "    \"episode_transforms_source\",\n",
    "    \"episode_transforms_target\",\n",
    "    \"pickle_name\",\n",
    "    \"x_net\",\n",
    "    \"NUM_LOGS_PER_EPOCH\",\n",
    "    \"BEST_MODEL_PATH\",\n",
    "    \"torch_default_dtype\"\n",
    "}"
   ]
  },
  {
   "cell_type": "code",
   "execution_count": 3,
   "id": "fa3f0049",
   "metadata": {
    "execution": {
     "iopub.execute_input": "2022-03-26T13:48:47.933761Z",
     "iopub.status.busy": "2022-03-26T13:48:47.933304Z",
     "iopub.status.idle": "2022-03-26T13:48:47.954465Z",
     "shell.execute_reply": "2022-03-26T13:48:47.954088Z"
    },
    "papermill": {
     "duration": 0.044377,
     "end_time": "2022-03-26T13:48:47.954544",
     "exception": false,
     "start_time": "2022-03-26T13:48:47.910167",
     "status": "completed"
    },
    "tags": [
     "parameters"
    ]
   },
   "outputs": [],
   "source": [
    "\n",
    "\n",
    "standalone_parameters = {}\n",
    "standalone_parameters[\"experiment_name\"] = \"STANDALONE PTN\"\n",
    "standalone_parameters[\"lr\"] = 0.0001\n",
    "standalone_parameters[\"device\"] = \"cuda\"\n",
    "\n",
    "standalone_parameters[\"seed\"] = 1337\n",
    "standalone_parameters[\"dataset_seed\"] = 1337\n",
    "\n",
    "\n",
    "standalone_parameters[\"num_examples_per_domain_per_label_source\"]=100\n",
    "standalone_parameters[\"num_examples_per_domain_per_label_target\"]=100\n",
    "\n",
    "standalone_parameters[\"n_shot\"] = 3\n",
    "standalone_parameters[\"n_query\"]  = 2\n",
    "standalone_parameters[\"train_k_factor\"] = 1\n",
    "standalone_parameters[\"val_k_factor\"] = 2\n",
    "standalone_parameters[\"test_k_factor\"] = 2\n",
    "\n",
    "\n",
    "standalone_parameters[\"n_epoch\"] = 100\n",
    "\n",
    "standalone_parameters[\"patience\"] = 10\n",
    "standalone_parameters[\"criteria_for_best\"] = \"target_accuracy\"\n",
    "\n",
    "standalone_parameters[\"x_transforms_source\"] = [\"unit_power\"]\n",
    "standalone_parameters[\"x_transforms_target\"] = [\"unit_power\"]\n",
    "standalone_parameters[\"episode_transforms_source\"] = []\n",
    "standalone_parameters[\"episode_transforms_target\"] = []\n",
    "\n",
    "standalone_parameters[\"torch_default_dtype\"] = \"torch.float32\" \n",
    "\n",
    "\n",
    "\n",
    "standalone_parameters[\"x_net\"] =     [\n",
    "    {\"class\": \"nnReshape\", \"kargs\": {\"shape\":[-1, 1, 2, 256]}},\n",
    "    {\"class\": \"Conv2d\", \"kargs\": { \"in_channels\":1, \"out_channels\":256, \"kernel_size\":(1,7), \"bias\":False, \"padding\":(0,3), },},\n",
    "    {\"class\": \"ReLU\", \"kargs\": {\"inplace\": True}},\n",
    "    {\"class\": \"BatchNorm2d\", \"kargs\": {\"num_features\":256}},\n",
    "\n",
    "    {\"class\": \"Conv2d\", \"kargs\": { \"in_channels\":256, \"out_channels\":80, \"kernel_size\":(2,7), \"bias\":True, \"padding\":(0,3), },},\n",
    "    {\"class\": \"ReLU\", \"kargs\": {\"inplace\": True}},\n",
    "    {\"class\": \"BatchNorm2d\", \"kargs\": {\"num_features\":80}},\n",
    "    {\"class\": \"Flatten\", \"kargs\": {}},\n",
    "\n",
    "    {\"class\": \"Linear\", \"kargs\": {\"in_features\": 80*256, \"out_features\": 256}}, # 80 units per IQ pair\n",
    "    {\"class\": \"ReLU\", \"kargs\": {\"inplace\": True}},\n",
    "    {\"class\": \"BatchNorm1d\", \"kargs\": {\"num_features\":256}},\n",
    "\n",
    "    {\"class\": \"Linear\", \"kargs\": {\"in_features\": 256, \"out_features\": 256}},\n",
    "]\n",
    "\n",
    "# Parameters relevant to results\n",
    "# These parameters will basically never need to change\n",
    "standalone_parameters[\"NUM_LOGS_PER_EPOCH\"] = 10\n",
    "standalone_parameters[\"BEST_MODEL_PATH\"] = \"./best_model.pth\"\n",
    "\n",
    "# uncomment for CORES dataset\n",
    "from steves_utils.CORES.utils import (\n",
    "    ALL_NODES,\n",
    "    ALL_NODES_MINIMUM_1000_EXAMPLES,\n",
    "    ALL_DAYS\n",
    ")\n",
    "\n",
    "\n",
    "standalone_parameters[\"labels_source\"] = ALL_NODES\n",
    "standalone_parameters[\"labels_target\"] = ALL_NODES\n",
    "\n",
    "standalone_parameters[\"domains_source\"] = [1]\n",
    "standalone_parameters[\"domains_target\"] = [2,3,4,5]\n",
    "\n",
    "standalone_parameters[\"pickle_name\"] = \"cores.stratified_ds.2022A.pkl\"\n",
    "\n",
    "\n",
    "# Uncomment these for ORACLE dataset\n",
    "# from steves_utils.ORACLE.utils_v2 import (\n",
    "#     ALL_DISTANCES_FEET,\n",
    "#     ALL_RUNS,\n",
    "#     ALL_SERIAL_NUMBERS,\n",
    "# )\n",
    "# standalone_parameters[\"labels_source\"] = ALL_SERIAL_NUMBERS\n",
    "# standalone_parameters[\"labels_target\"] = ALL_SERIAL_NUMBERS\n",
    "# standalone_parameters[\"domains_source\"] = [8,20, 38,50]\n",
    "# standalone_parameters[\"domains_target\"] = [14, 26, 32, 44, 56]\n",
    "# standalone_parameters[\"pickle_name\"] = \"oracle.frame_indexed.stratified_ds.2022A.pkl\"\n",
    "# standalone_parameters[\"num_examples_per_domain_per_label_source\"]=1000\n",
    "# standalone_parameters[\"num_examples_per_domain_per_label_target\"]=1000\n",
    "\n",
    "# Uncomment these for Metahan dataset\n",
    "# standalone_parameters[\"labels_source\"] = list(range(19))\n",
    "# standalone_parameters[\"labels_target\"] = list(range(19))\n",
    "# standalone_parameters[\"domains_source\"] = [0]\n",
    "# standalone_parameters[\"domains_target\"] = [1]\n",
    "# standalone_parameters[\"pickle_name\"] = \"metehan.stratified_ds.2022A.pkl\"\n",
    "# standalone_parameters[\"n_way\"]  = len(standalone_parameters[\"labels_source\"])\n",
    "# standalone_parameters[\"num_examples_per_domain_per_label_source\"]=200\n",
    "# standalone_parameters[\"num_examples_per_domain_per_label_target\"]=100\n",
    "\n",
    "\n",
    "standalone_parameters[\"n_way\"]  = len(standalone_parameters[\"labels_source\"])"
   ]
  },
  {
   "cell_type": "code",
   "execution_count": 4,
   "id": "34f04c73",
   "metadata": {
    "execution": {
     "iopub.execute_input": "2022-03-26T13:48:47.991407Z",
     "iopub.status.busy": "2022-03-26T13:48:47.990996Z",
     "iopub.status.idle": "2022-03-26T13:48:48.010278Z",
     "shell.execute_reply": "2022-03-26T13:48:48.009905Z"
    },
    "papermill": {
     "duration": 0.041075,
     "end_time": "2022-03-26T13:48:48.010361",
     "exception": false,
     "start_time": "2022-03-26T13:48:47.969286",
     "status": "completed"
    },
    "tags": [
     "injected-parameters"
    ]
   },
   "outputs": [],
   "source": [
    "# Parameters\n",
    "parameters = {\n",
    "    \"experiment_name\": \"tuned_1v2:oracle.run2.framed\",\n",
    "    \"device\": \"cuda\",\n",
    "    \"lr\": 0.0001,\n",
    "    \"labels_source\": [\n",
    "        \"3123D52\",\n",
    "        \"3123D65\",\n",
    "        \"3123D79\",\n",
    "        \"3123D80\",\n",
    "        \"3123D54\",\n",
    "        \"3123D70\",\n",
    "        \"3123D7B\",\n",
    "        \"3123D89\",\n",
    "        \"3123D58\",\n",
    "        \"3123D76\",\n",
    "        \"3123D7D\",\n",
    "        \"3123EFE\",\n",
    "        \"3123D64\",\n",
    "        \"3123D78\",\n",
    "        \"3123D7E\",\n",
    "        \"3124E4A\",\n",
    "    ],\n",
    "    \"labels_target\": [\n",
    "        \"3123D52\",\n",
    "        \"3123D65\",\n",
    "        \"3123D79\",\n",
    "        \"3123D80\",\n",
    "        \"3123D54\",\n",
    "        \"3123D70\",\n",
    "        \"3123D7B\",\n",
    "        \"3123D89\",\n",
    "        \"3123D58\",\n",
    "        \"3123D76\",\n",
    "        \"3123D7D\",\n",
    "        \"3123EFE\",\n",
    "        \"3123D64\",\n",
    "        \"3123D78\",\n",
    "        \"3123D7E\",\n",
    "        \"3124E4A\",\n",
    "    ],\n",
    "    \"episode_transforms_source\": [],\n",
    "    \"episode_transforms_target\": [],\n",
    "    \"domains_source\": [8, 32, 50],\n",
    "    \"domains_target\": [14, 20, 26, 38, 44],\n",
    "    \"num_examples_per_domain_per_label_source\": -1,\n",
    "    \"num_examples_per_domain_per_label_target\": -1,\n",
    "    \"n_shot\": 3,\n",
    "    \"n_way\": 16,\n",
    "    \"n_query\": 2,\n",
    "    \"train_k_factor\": 3,\n",
    "    \"val_k_factor\": 2,\n",
    "    \"test_k_factor\": 2,\n",
    "    \"torch_default_dtype\": \"torch.float32\",\n",
    "    \"n_epoch\": 50,\n",
    "    \"patience\": 3,\n",
    "    \"criteria_for_best\": \"target_accuracy\",\n",
    "    \"x_net\": [\n",
    "        {\"class\": \"nnReshape\", \"kargs\": {\"shape\": [-1, 1, 2, 256]}},\n",
    "        {\n",
    "            \"class\": \"Conv2d\",\n",
    "            \"kargs\": {\n",
    "                \"in_channels\": 1,\n",
    "                \"out_channels\": 256,\n",
    "                \"kernel_size\": [1, 7],\n",
    "                \"bias\": False,\n",
    "                \"padding\": [0, 3],\n",
    "            },\n",
    "        },\n",
    "        {\"class\": \"ReLU\", \"kargs\": {\"inplace\": True}},\n",
    "        {\"class\": \"BatchNorm2d\", \"kargs\": {\"num_features\": 256}},\n",
    "        {\n",
    "            \"class\": \"Conv2d\",\n",
    "            \"kargs\": {\n",
    "                \"in_channels\": 256,\n",
    "                \"out_channels\": 80,\n",
    "                \"kernel_size\": [2, 7],\n",
    "                \"bias\": True,\n",
    "                \"padding\": [0, 3],\n",
    "            },\n",
    "        },\n",
    "        {\"class\": \"ReLU\", \"kargs\": {\"inplace\": True}},\n",
    "        {\"class\": \"BatchNorm2d\", \"kargs\": {\"num_features\": 80}},\n",
    "        {\"class\": \"Flatten\", \"kargs\": {}},\n",
    "        {\"class\": \"Linear\", \"kargs\": {\"in_features\": 20480, \"out_features\": 256}},\n",
    "        {\"class\": \"ReLU\", \"kargs\": {\"inplace\": True}},\n",
    "        {\"class\": \"BatchNorm1d\", \"kargs\": {\"num_features\": 256}},\n",
    "        {\"class\": \"Linear\", \"kargs\": {\"in_features\": 256, \"out_features\": 256}},\n",
    "    ],\n",
    "    \"NUM_LOGS_PER_EPOCH\": 10,\n",
    "    \"BEST_MODEL_PATH\": \"./best_model.pth\",\n",
    "    \"pickle_name\": \"oracle.Run2_framed_2000Examples_stratified_ds.2022A.pkl\",\n",
    "    \"x_transforms_source\": [\"unit_power\"],\n",
    "    \"x_transforms_target\": [\"unit_power\"],\n",
    "    \"dataset_seed\": 500,\n",
    "    \"seed\": 500,\n",
    "}\n"
   ]
  },
  {
   "cell_type": "code",
   "execution_count": 5,
   "id": "8fa1cc33",
   "metadata": {
    "execution": {
     "iopub.execute_input": "2022-03-26T13:48:48.043400Z",
     "iopub.status.busy": "2022-03-26T13:48:48.043031Z",
     "iopub.status.idle": "2022-03-26T13:48:48.061037Z",
     "shell.execute_reply": "2022-03-26T13:48:48.060672Z"
    },
    "papermill": {
     "duration": 0.036568,
     "end_time": "2022-03-26T13:48:48.061116",
     "exception": false,
     "start_time": "2022-03-26T13:48:48.024548",
     "status": "completed"
    },
    "tags": []
   },
   "outputs": [],
   "source": [
    "# Set this to True if you want to run this template directly\n",
    "STANDALONE = False\n",
    "if STANDALONE:\n",
    "    print(\"parameters not injected, running with standalone_parameters\")\n",
    "    parameters = standalone_parameters\n",
    "\n",
    "if not 'parameters' in locals() and not 'parameters' in globals():\n",
    "    raise Exception(\"Parameter injection failed\")\n",
    "\n",
    "#Use an easy dict for all the parameters\n",
    "p = EasyDict(parameters)\n",
    "\n",
    "supplied_keys = set(p.keys())\n",
    "\n",
    "if  supplied_keys != required_parameters:\n",
    "    print(\"Parameters are incorrect\")\n",
    "    if len(supplied_keys - required_parameters)>0: print(\"Shouldn't have:\", str(supplied_keys - required_parameters))\n",
    "    if len(required_parameters - supplied_keys)>0: print(\"Need to have:\", str(required_parameters - supplied_keys))\n",
    "    raise RuntimeError(\"Parameters are incorrect\")\n",
    "\n"
   ]
  },
  {
   "cell_type": "code",
   "execution_count": 6,
   "id": "3a028d58",
   "metadata": {
    "execution": {
     "iopub.execute_input": "2022-03-26T13:48:48.093133Z",
     "iopub.status.busy": "2022-03-26T13:48:48.092768Z",
     "iopub.status.idle": "2022-03-26T13:48:48.110747Z",
     "shell.execute_reply": "2022-03-26T13:48:48.110379Z"
    },
    "papermill": {
     "duration": 0.035226,
     "end_time": "2022-03-26T13:48:48.110825",
     "exception": false,
     "start_time": "2022-03-26T13:48:48.075599",
     "status": "completed"
    },
    "tags": []
   },
   "outputs": [],
   "source": [
    "###################################\n",
    "# Set the RNGs and make it all deterministic\n",
    "###################################\n",
    "np.random.seed(p.seed)\n",
    "random.seed(p.seed)\n",
    "torch.manual_seed(p.seed)\n",
    "\n",
    "torch.use_deterministic_algorithms(True) "
   ]
  },
  {
   "cell_type": "code",
   "execution_count": 7,
   "id": "b691acf6",
   "metadata": {
    "execution": {
     "iopub.execute_input": "2022-03-26T13:48:48.142055Z",
     "iopub.status.busy": "2022-03-26T13:48:48.141681Z",
     "iopub.status.idle": "2022-03-26T13:48:48.160009Z",
     "shell.execute_reply": "2022-03-26T13:48:48.159235Z"
    },
    "papermill": {
     "duration": 0.03497,
     "end_time": "2022-03-26T13:48:48.160199",
     "exception": false,
     "start_time": "2022-03-26T13:48:48.125229",
     "status": "completed"
    },
    "tags": []
   },
   "outputs": [],
   "source": [
    "###########################################\n",
    "# The stratified datasets honor this\n",
    "###########################################\n",
    "torch.set_default_dtype(eval(p.torch_default_dtype))"
   ]
  },
  {
   "cell_type": "code",
   "execution_count": 8,
   "id": "b5fba671",
   "metadata": {
    "execution": {
     "iopub.execute_input": "2022-03-26T13:48:48.193697Z",
     "iopub.status.busy": "2022-03-26T13:48:48.193316Z",
     "iopub.status.idle": "2022-03-26T13:48:48.275166Z",
     "shell.execute_reply": "2022-03-26T13:48:48.274780Z"
    },
    "papermill": {
     "duration": 0.099446,
     "end_time": "2022-03-26T13:48:48.275269",
     "exception": false,
     "start_time": "2022-03-26T13:48:48.175823",
     "status": "completed"
    },
    "tags": []
   },
   "outputs": [],
   "source": [
    "###################################\n",
    "# Build the network(s)\n",
    "# Note: It's critical to do this AFTER setting the RNG\n",
    "# (This is due to the randomized initial weights)\n",
    "###################################\n",
    "x_net = build_sequential(p.x_net)"
   ]
  },
  {
   "cell_type": "code",
   "execution_count": 9,
   "id": "5d7e61cc",
   "metadata": {
    "execution": {
     "iopub.execute_input": "2022-03-26T13:48:48.308909Z",
     "iopub.status.busy": "2022-03-26T13:48:48.308537Z",
     "iopub.status.idle": "2022-03-26T13:48:48.329206Z",
     "shell.execute_reply": "2022-03-26T13:48:48.328830Z"
    },
    "papermill": {
     "duration": 0.038777,
     "end_time": "2022-03-26T13:48:48.329290",
     "exception": false,
     "start_time": "2022-03-26T13:48:48.290513",
     "status": "completed"
    },
    "tags": []
   },
   "outputs": [],
   "source": [
    "start_time_secs = time.time()"
   ]
  },
  {
   "cell_type": "code",
   "execution_count": 10,
   "id": "fd5442bc",
   "metadata": {
    "execution": {
     "iopub.execute_input": "2022-03-26T13:48:48.367307Z",
     "iopub.status.busy": "2022-03-26T13:48:48.366912Z",
     "iopub.status.idle": "2022-03-26T13:49:10.337583Z",
     "shell.execute_reply": "2022-03-26T13:49:10.336828Z"
    },
    "papermill": {
     "duration": 21.993562,
     "end_time": "2022-03-26T13:49:10.337772",
     "exception": false,
     "start_time": "2022-03-26T13:48:48.344210",
     "status": "completed"
    },
    "tags": []
   },
   "outputs": [],
   "source": [
    "###################################\n",
    "# Build the dataset\n",
    "###################################\n",
    "\n",
    "if p.x_transforms_source == []: x_transform_source = None\n",
    "else: x_transform_source = get_chained_transform(p.x_transforms_source) \n",
    "\n",
    "if p.x_transforms_target == []: x_transform_target = None\n",
    "else: x_transform_target = get_chained_transform(p.x_transforms_target)\n",
    "\n",
    "if p.episode_transforms_source == []: episode_transform_source = None\n",
    "else: raise Exception(\"episode_transform_source not implemented\")\n",
    "\n",
    "if p.episode_transforms_target == []: episode_transform_target = None\n",
    "else: raise Exception(\"episode_transform_target not implemented\")\n",
    "\n",
    "\n",
    "eaf_source = Episodic_Accessor_Factory(\n",
    "    labels=p.labels_source,\n",
    "    domains=p.domains_source,\n",
    "    num_examples_per_domain_per_label=p.num_examples_per_domain_per_label_source,\n",
    "    iterator_seed=p.seed,\n",
    "    dataset_seed=p.dataset_seed,\n",
    "    n_shot=p.n_shot,\n",
    "    n_way=p.n_way,\n",
    "    n_query=p.n_query,\n",
    "    train_val_test_k_factors=(p.train_k_factor,p.val_k_factor,p.test_k_factor),\n",
    "    pickle_path=os.path.join(get_datasets_base_path(), p.pickle_name),\n",
    "    x_transform_func=x_transform_source,\n",
    "    example_transform_func=episode_transform_source,\n",
    "    \n",
    ")\n",
    "train_original_source, val_original_source, test_original_source = eaf_source.get_train(), eaf_source.get_val(), eaf_source.get_test()\n",
    "\n",
    "\n",
    "eaf_target = Episodic_Accessor_Factory(\n",
    "    labels=p.labels_target,\n",
    "    domains=p.domains_target,\n",
    "    num_examples_per_domain_per_label=p.num_examples_per_domain_per_label_target,\n",
    "    iterator_seed=p.seed,\n",
    "    dataset_seed=p.dataset_seed,\n",
    "    n_shot=p.n_shot,\n",
    "    n_way=p.n_way,\n",
    "    n_query=p.n_query,\n",
    "    train_val_test_k_factors=(p.train_k_factor,p.val_k_factor,p.test_k_factor),\n",
    "    pickle_path=os.path.join(get_datasets_base_path(), p.pickle_name),\n",
    "    x_transform_func=x_transform_target,\n",
    "    example_transform_func=episode_transform_target,\n",
    ")\n",
    "train_original_target, val_original_target, test_original_target = eaf_target.get_train(), eaf_target.get_val(), eaf_target.get_test()\n",
    "\n",
    "\n",
    "transform_lambda = lambda ex: ex[1] # Original is (<domain>, <episode>) so we strip down to episode only\n",
    "\n",
    "train_processed_source = Lazy_Iterable_Wrapper(train_original_source, transform_lambda)\n",
    "val_processed_source   = Lazy_Iterable_Wrapper(val_original_source, transform_lambda)\n",
    "test_processed_source  = Lazy_Iterable_Wrapper(test_original_source, transform_lambda)\n",
    "\n",
    "train_processed_target = Lazy_Iterable_Wrapper(train_original_target, transform_lambda)\n",
    "val_processed_target   = Lazy_Iterable_Wrapper(val_original_target, transform_lambda)\n",
    "test_processed_target  = Lazy_Iterable_Wrapper(test_original_target, transform_lambda)\n",
    "\n",
    "datasets = EasyDict({\n",
    "    \"source\": {\n",
    "        \"original\": {\"train\":train_original_source, \"val\":val_original_source, \"test\":test_original_source},\n",
    "        \"processed\": {\"train\":train_processed_source, \"val\":val_processed_source, \"test\":test_processed_source}\n",
    "    },\n",
    "    \"target\": {\n",
    "        \"original\": {\"train\":train_original_target, \"val\":val_original_target, \"test\":test_original_target},\n",
    "        \"processed\": {\"train\":train_processed_target, \"val\":val_processed_target, \"test\":test_processed_target}\n",
    "    },\n",
    "})"
   ]
  },
  {
   "cell_type": "code",
   "execution_count": 11,
   "id": "296189d9",
   "metadata": {
    "execution": {
     "iopub.execute_input": "2022-03-26T13:49:10.381663Z",
     "iopub.status.busy": "2022-03-26T13:49:10.380818Z",
     "iopub.status.idle": "2022-03-26T13:49:15.846174Z",
     "shell.execute_reply": "2022-03-26T13:49:15.845211Z"
    },
    "papermill": {
     "duration": 5.487223,
     "end_time": "2022-03-26T13:49:15.846365",
     "exception": false,
     "start_time": "2022-03-26T13:49:10.359142",
     "status": "completed"
    },
    "tags": []
   },
   "outputs": [
    {
     "name": "stdout",
     "output_type": "stream",
     "text": [
      "Visually inspect these to see if they line up with expected values given the transforms\n",
      "x_transforms_source ['unit_power']\n",
      "x_transforms_target ['unit_power']\n",
      "Average magnitude, source: 0.9664218\n",
      "Average power, source: 1.0\n"
     ]
    },
    {
     "name": "stdout",
     "output_type": "stream",
     "text": [
      "Average magnitude, target: 0.9597547\n",
      "Average power, target: 1.0\n"
     ]
    }
   ],
   "source": [
    "# Some quick unit tests on the data\n",
    "from steves_utils.transforms import get_average_power, get_average_magnitude\n",
    "\n",
    "q_x, q_y, s_x, s_y, truth = next(iter(train_processed_source))\n",
    "\n",
    "assert q_x.dtype == eval(p.torch_default_dtype)\n",
    "assert s_x.dtype == eval(p.torch_default_dtype)\n",
    "\n",
    "print(\"Visually inspect these to see if they line up with expected values given the transforms\")\n",
    "print('x_transforms_source', p.x_transforms_source)\n",
    "print('x_transforms_target', p.x_transforms_target)\n",
    "print(\"Average magnitude, source:\", get_average_magnitude(q_x[0].numpy()))\n",
    "print(\"Average power, source:\", get_average_power(q_x[0].numpy()))\n",
    "\n",
    "q_x, q_y, s_x, s_y, truth = next(iter(train_processed_target))\n",
    "print(\"Average magnitude, target:\", get_average_magnitude(q_x[0].numpy()))\n",
    "print(\"Average power, target:\", get_average_power(q_x[0].numpy()))\n"
   ]
  },
  {
   "cell_type": "code",
   "execution_count": 12,
   "id": "bbdacba1",
   "metadata": {
    "execution": {
     "iopub.execute_input": "2022-03-26T13:49:15.894178Z",
     "iopub.status.busy": "2022-03-26T13:49:15.893418Z",
     "iopub.status.idle": "2022-03-26T13:49:16.000760Z",
     "shell.execute_reply": "2022-03-26T13:49:16.000412Z"
    },
    "papermill": {
     "duration": 0.131519,
     "end_time": "2022-03-26T13:49:16.000865",
     "exception": false,
     "start_time": "2022-03-26T13:49:15.869346",
     "status": "completed"
    },
    "tags": []
   },
   "outputs": [
    {
     "name": "stdout",
     "output_type": "stream",
     "text": [
      "(2, 256)\n"
     ]
    }
   ],
   "source": [
    "###################################\n",
    "# Build the model\n",
    "###################################\n",
    "model = Steves_Prototypical_Network(x_net, device=p.device, x_shape=(2,256))\n",
    "optimizer = Adam(params=model.parameters(), lr=p.lr)"
   ]
  },
  {
   "cell_type": "code",
   "execution_count": 13,
   "id": "22b39ac5",
   "metadata": {
    "execution": {
     "iopub.execute_input": "2022-03-26T13:49:16.038940Z",
     "iopub.status.busy": "2022-03-26T13:49:16.038307Z",
     "iopub.status.idle": "2022-03-26T14:05:31.456767Z",
     "shell.execute_reply": "2022-03-26T14:05:31.456017Z"
    },
    "papermill": {
     "duration": 975.43968,
     "end_time": "2022-03-26T14:05:31.456937",
     "exception": false,
     "start_time": "2022-03-26T13:49:16.017257",
     "status": "completed"
    },
    "tags": []
   },
   "outputs": [
    {
     "name": "stdout",
     "output_type": "stream",
     "text": [
      "epoch: 1, [batch: 1 / 2520], examples_per_second: 81.0198, train_label_loss: 2.9350, \n"
     ]
    },
    {
     "name": "stdout",
     "output_type": "stream",
     "text": [
      "epoch: 1, [batch: 252 / 2520], examples_per_second: 3837.5353, train_label_loss: 1.2687, \n"
     ]
    },
    {
     "name": "stdout",
     "output_type": "stream",
     "text": [
      "epoch: 1, [batch: 504 / 2520], examples_per_second: 3936.2550, train_label_loss: 1.2662, \n"
     ]
    },
    {
     "name": "stdout",
     "output_type": "stream",
     "text": [
      "epoch: 1, [batch: 756 / 2520], examples_per_second: 4153.2066, train_label_loss: 1.0738, \n"
     ]
    },
    {
     "name": "stdout",
     "output_type": "stream",
     "text": [
      "epoch: 1, [batch: 1008 / 2520], examples_per_second: 4391.1463, train_label_loss: 0.6951, \n"
     ]
    },
    {
     "name": "stdout",
     "output_type": "stream",
     "text": [
      "epoch: 1, [batch: 1260 / 2520], examples_per_second: 4109.5522, train_label_loss: 0.5833, \n"
     ]
    },
    {
     "name": "stdout",
     "output_type": "stream",
     "text": [
      "epoch: 1, [batch: 1512 / 2520], examples_per_second: 4528.9838, train_label_loss: 0.6129, \n"
     ]
    },
    {
     "name": "stdout",
     "output_type": "stream",
     "text": [
      "epoch: 1, [batch: 1764 / 2520], examples_per_second: 3834.5886, train_label_loss: 0.5111, \n"
     ]
    },
    {
     "name": "stdout",
     "output_type": "stream",
     "text": [
      "epoch: 1, [batch: 2016 / 2520], examples_per_second: 3804.7394, train_label_loss: 0.6506, \n"
     ]
    },
    {
     "name": "stdout",
     "output_type": "stream",
     "text": [
      "epoch: 1, [batch: 2268 / 2520], examples_per_second: 3843.6981, train_label_loss: 0.7331, \n"
     ]
    },
    {
     "name": "stdout",
     "output_type": "stream",
     "text": [
      "=============================================================\n",
      "epoch: 1, source_val_acc_label: 0.7264, target_val_acc_label: 0.6025, source_val_label_loss: 0.9396, target_val_label_loss: 5.5160, \n",
      "=============================================================\n"
     ]
    },
    {
     "name": "stdout",
     "output_type": "stream",
     "text": [
      "New best\n"
     ]
    },
    {
     "name": "stdout",
     "output_type": "stream",
     "text": [
      "epoch: 2, [batch: 1 / 2520], examples_per_second: 8.4882, train_label_loss: 0.8054, \n"
     ]
    },
    {
     "name": "stdout",
     "output_type": "stream",
     "text": [
      "epoch: 2, [batch: 252 / 2520], examples_per_second: 3827.4202, train_label_loss: 0.5995, \n"
     ]
    },
    {
     "name": "stdout",
     "output_type": "stream",
     "text": [
      "epoch: 2, [batch: 504 / 2520], examples_per_second: 3887.4707, train_label_loss: 0.5165, \n"
     ]
    },
    {
     "name": "stdout",
     "output_type": "stream",
     "text": [
      "epoch: 2, [batch: 756 / 2520], examples_per_second: 4071.5651, train_label_loss: 0.8982, \n"
     ]
    },
    {
     "name": "stdout",
     "output_type": "stream",
     "text": [
      "epoch: 2, [batch: 1008 / 2520], examples_per_second: 4287.3467, train_label_loss: 0.4484, \n"
     ]
    },
    {
     "name": "stdout",
     "output_type": "stream",
     "text": [
      "epoch: 2, [batch: 1260 / 2520], examples_per_second: 4289.2820, train_label_loss: 0.6584, \n"
     ]
    },
    {
     "name": "stdout",
     "output_type": "stream",
     "text": [
      "epoch: 2, [batch: 1512 / 2520], examples_per_second: 4373.1206, train_label_loss: 0.5575, \n"
     ]
    },
    {
     "name": "stdout",
     "output_type": "stream",
     "text": [
      "epoch: 2, [batch: 1764 / 2520], examples_per_second: 3802.1349, train_label_loss: 0.5263, \n"
     ]
    },
    {
     "name": "stdout",
     "output_type": "stream",
     "text": [
      "epoch: 2, [batch: 2016 / 2520], examples_per_second: 3953.2392, train_label_loss: 0.8348, \n"
     ]
    },
    {
     "name": "stdout",
     "output_type": "stream",
     "text": [
      "epoch: 2, [batch: 2268 / 2520], examples_per_second: 3948.5016, train_label_loss: 0.4946, \n"
     ]
    },
    {
     "name": "stdout",
     "output_type": "stream",
     "text": [
      "=============================================================\n",
      "epoch: 2, source_val_acc_label: 0.7970, target_val_acc_label: 0.6849, source_val_label_loss: 0.7190, target_val_label_loss: 5.3416, \n",
      "=============================================================\n"
     ]
    },
    {
     "name": "stdout",
     "output_type": "stream",
     "text": [
      "New best\n"
     ]
    },
    {
     "name": "stdout",
     "output_type": "stream",
     "text": [
      "epoch: 3, [batch: 1 / 2520], examples_per_second: 8.3763, train_label_loss: 0.8814, \n"
     ]
    },
    {
     "name": "stdout",
     "output_type": "stream",
     "text": [
      "epoch: 3, [batch: 252 / 2520], examples_per_second: 3820.1748, train_label_loss: 0.2259, \n"
     ]
    },
    {
     "name": "stdout",
     "output_type": "stream",
     "text": [
      "epoch: 3, [batch: 504 / 2520], examples_per_second: 3924.0661, train_label_loss: 0.4042, \n"
     ]
    },
    {
     "name": "stdout",
     "output_type": "stream",
     "text": [
      "epoch: 3, [batch: 756 / 2520], examples_per_second: 4213.6679, train_label_loss: 0.4580, \n"
     ]
    },
    {
     "name": "stdout",
     "output_type": "stream",
     "text": [
      "epoch: 3, [batch: 1008 / 2520], examples_per_second: 4277.6165, train_label_loss: 0.5380, \n"
     ]
    },
    {
     "name": "stdout",
     "output_type": "stream",
     "text": [
      "epoch: 3, [batch: 1260 / 2520], examples_per_second: 4584.9193, train_label_loss: 0.6622, \n"
     ]
    },
    {
     "name": "stdout",
     "output_type": "stream",
     "text": [
      "epoch: 3, [batch: 1512 / 2520], examples_per_second: 3976.2009, train_label_loss: 0.9172, \n"
     ]
    },
    {
     "name": "stdout",
     "output_type": "stream",
     "text": [
      "epoch: 3, [batch: 1764 / 2520], examples_per_second: 3801.2832, train_label_loss: 0.4351, \n"
     ]
    },
    {
     "name": "stdout",
     "output_type": "stream",
     "text": [
      "epoch: 3, [batch: 2016 / 2520], examples_per_second: 3841.2307, train_label_loss: 0.4818, \n"
     ]
    },
    {
     "name": "stdout",
     "output_type": "stream",
     "text": [
      "epoch: 3, [batch: 2268 / 2520], examples_per_second: 3938.8181, train_label_loss: 0.6329, \n"
     ]
    },
    {
     "name": "stdout",
     "output_type": "stream",
     "text": [
      "=============================================================\n",
      "epoch: 3, source_val_acc_label: 0.8310, target_val_acc_label: 0.7183, source_val_label_loss: 0.6728, target_val_label_loss: 5.2532, \n",
      "=============================================================\n"
     ]
    },
    {
     "name": "stdout",
     "output_type": "stream",
     "text": [
      "New best\n"
     ]
    },
    {
     "name": "stdout",
     "output_type": "stream",
     "text": [
      "epoch: 4, [batch: 1 / 2520], examples_per_second: 8.4172, train_label_loss: 0.3489, \n"
     ]
    },
    {
     "name": "stdout",
     "output_type": "stream",
     "text": [
      "epoch: 4, [batch: 252 / 2520], examples_per_second: 3874.5101, train_label_loss: 0.2689, \n"
     ]
    },
    {
     "name": "stdout",
     "output_type": "stream",
     "text": [
      "epoch: 4, [batch: 504 / 2520], examples_per_second: 4078.6250, train_label_loss: 0.4341, \n"
     ]
    },
    {
     "name": "stdout",
     "output_type": "stream",
     "text": [
      "epoch: 4, [batch: 756 / 2520], examples_per_second: 4425.0036, train_label_loss: 0.2503, \n"
     ]
    },
    {
     "name": "stdout",
     "output_type": "stream",
     "text": [
      "epoch: 4, [batch: 1008 / 2520], examples_per_second: 4344.4958, train_label_loss: 0.4187, \n"
     ]
    },
    {
     "name": "stdout",
     "output_type": "stream",
     "text": [
      "epoch: 4, [batch: 1260 / 2520], examples_per_second: 4634.2134, train_label_loss: 0.3488, \n"
     ]
    },
    {
     "name": "stdout",
     "output_type": "stream",
     "text": [
      "epoch: 4, [batch: 1512 / 2520], examples_per_second: 4563.3687, train_label_loss: 0.1843, \n"
     ]
    },
    {
     "name": "stdout",
     "output_type": "stream",
     "text": [
      "epoch: 4, [batch: 1764 / 2520], examples_per_second: 4361.8254, train_label_loss: 0.3698, \n"
     ]
    },
    {
     "name": "stdout",
     "output_type": "stream",
     "text": [
      "epoch: 4, [batch: 2016 / 2520], examples_per_second: 4591.4249, train_label_loss: 0.5196, \n"
     ]
    },
    {
     "name": "stdout",
     "output_type": "stream",
     "text": [
      "epoch: 4, [batch: 2268 / 2520], examples_per_second: 4572.9477, train_label_loss: 0.2508, \n"
     ]
    },
    {
     "name": "stdout",
     "output_type": "stream",
     "text": [
      "=============================================================\n",
      "epoch: 4, source_val_acc_label: 0.8660, target_val_acc_label: 0.7565, source_val_label_loss: 0.5368, target_val_label_loss: 5.4880, \n",
      "=============================================================\n"
     ]
    },
    {
     "name": "stdout",
     "output_type": "stream",
     "text": [
      "New best\n"
     ]
    },
    {
     "name": "stdout",
     "output_type": "stream",
     "text": [
      "epoch: 5, [batch: 1 / 2520], examples_per_second: 9.5421, train_label_loss: 0.2978, \n"
     ]
    },
    {
     "name": "stdout",
     "output_type": "stream",
     "text": [
      "epoch: 5, [batch: 252 / 2520], examples_per_second: 4826.9736, train_label_loss: 0.2128, \n"
     ]
    },
    {
     "name": "stdout",
     "output_type": "stream",
     "text": [
      "epoch: 5, [batch: 504 / 2520], examples_per_second: 5446.2941, train_label_loss: 0.4930, \n"
     ]
    },
    {
     "name": "stdout",
     "output_type": "stream",
     "text": [
      "epoch: 5, [batch: 756 / 2520], examples_per_second: 5506.4325, train_label_loss: 0.3690, \n"
     ]
    },
    {
     "name": "stdout",
     "output_type": "stream",
     "text": [
      "epoch: 5, [batch: 1008 / 2520], examples_per_second: 5325.2980, train_label_loss: 0.3782, \n"
     ]
    },
    {
     "name": "stdout",
     "output_type": "stream",
     "text": [
      "epoch: 5, [batch: 1260 / 2520], examples_per_second: 5301.6724, train_label_loss: 0.1256, \n"
     ]
    },
    {
     "name": "stdout",
     "output_type": "stream",
     "text": [
      "epoch: 5, [batch: 1512 / 2520], examples_per_second: 5250.4875, train_label_loss: 0.3735, \n"
     ]
    },
    {
     "name": "stdout",
     "output_type": "stream",
     "text": [
      "epoch: 5, [batch: 1764 / 2520], examples_per_second: 5208.2475, train_label_loss: 0.2288, \n"
     ]
    },
    {
     "name": "stdout",
     "output_type": "stream",
     "text": [
      "epoch: 5, [batch: 2016 / 2520], examples_per_second: 5321.4630, train_label_loss: 0.3881, \n"
     ]
    },
    {
     "name": "stdout",
     "output_type": "stream",
     "text": [
      "epoch: 5, [batch: 2268 / 2520], examples_per_second: 5408.2335, train_label_loss: 0.1696, \n"
     ]
    },
    {
     "name": "stdout",
     "output_type": "stream",
     "text": [
      "=============================================================\n",
      "epoch: 5, source_val_acc_label: 0.8756, target_val_acc_label: 0.7606, source_val_label_loss: 0.5424, target_val_label_loss: 6.1581, \n",
      "=============================================================\n"
     ]
    },
    {
     "name": "stdout",
     "output_type": "stream",
     "text": [
      "New best\n"
     ]
    },
    {
     "name": "stdout",
     "output_type": "stream",
     "text": [
      "epoch: 6, [batch: 1 / 2520], examples_per_second: 11.6251, train_label_loss: 0.1936, \n"
     ]
    },
    {
     "name": "stdout",
     "output_type": "stream",
     "text": [
      "epoch: 6, [batch: 252 / 2520], examples_per_second: 4864.8356, train_label_loss: 0.3228, \n"
     ]
    },
    {
     "name": "stdout",
     "output_type": "stream",
     "text": [
      "epoch: 6, [batch: 504 / 2520], examples_per_second: 5176.8251, train_label_loss: 0.2847, \n"
     ]
    },
    {
     "name": "stdout",
     "output_type": "stream",
     "text": [
      "epoch: 6, [batch: 756 / 2520], examples_per_second: 5003.8716, train_label_loss: 0.1004, \n"
     ]
    },
    {
     "name": "stdout",
     "output_type": "stream",
     "text": [
      "epoch: 6, [batch: 1008 / 2520], examples_per_second: 5076.9700, train_label_loss: 0.1428, \n"
     ]
    },
    {
     "name": "stdout",
     "output_type": "stream",
     "text": [
      "epoch: 6, [batch: 1260 / 2520], examples_per_second: 4896.9721, train_label_loss: 0.1792, \n"
     ]
    },
    {
     "name": "stdout",
     "output_type": "stream",
     "text": [
      "epoch: 6, [batch: 1512 / 2520], examples_per_second: 5049.8923, train_label_loss: 0.2231, \n"
     ]
    },
    {
     "name": "stdout",
     "output_type": "stream",
     "text": [
      "epoch: 6, [batch: 1764 / 2520], examples_per_second: 4775.3645, train_label_loss: 0.1294, \n"
     ]
    },
    {
     "name": "stdout",
     "output_type": "stream",
     "text": [
      "epoch: 6, [batch: 2016 / 2520], examples_per_second: 5085.5046, train_label_loss: 0.3326, \n"
     ]
    },
    {
     "name": "stdout",
     "output_type": "stream",
     "text": [
      "epoch: 6, [batch: 2268 / 2520], examples_per_second: 4973.5424, train_label_loss: 0.3692, \n"
     ]
    },
    {
     "name": "stdout",
     "output_type": "stream",
     "text": [
      "=============================================================\n",
      "epoch: 6, source_val_acc_label: 0.8832, target_val_acc_label: 0.7627, source_val_label_loss: 0.5261, target_val_label_loss: 6.4981, \n",
      "=============================================================\n"
     ]
    },
    {
     "name": "stdout",
     "output_type": "stream",
     "text": [
      "New best\n"
     ]
    },
    {
     "name": "stdout",
     "output_type": "stream",
     "text": [
      "epoch: 7, [batch: 1 / 2520], examples_per_second: 8.6753, train_label_loss: 0.3904, \n"
     ]
    },
    {
     "name": "stdout",
     "output_type": "stream",
     "text": [
      "epoch: 7, [batch: 252 / 2520], examples_per_second: 3743.4097, train_label_loss: 0.1624, \n"
     ]
    },
    {
     "name": "stdout",
     "output_type": "stream",
     "text": [
      "epoch: 7, [batch: 504 / 2520], examples_per_second: 3817.5190, train_label_loss: 0.3035, \n"
     ]
    },
    {
     "name": "stdout",
     "output_type": "stream",
     "text": [
      "epoch: 7, [batch: 756 / 2520], examples_per_second: 3841.2438, train_label_loss: 0.1458, \n"
     ]
    },
    {
     "name": "stdout",
     "output_type": "stream",
     "text": [
      "epoch: 7, [batch: 1008 / 2520], examples_per_second: 3898.2783, train_label_loss: 0.2193, \n"
     ]
    },
    {
     "name": "stdout",
     "output_type": "stream",
     "text": [
      "epoch: 7, [batch: 1260 / 2520], examples_per_second: 3945.1089, train_label_loss: 0.1388, \n"
     ]
    },
    {
     "name": "stdout",
     "output_type": "stream",
     "text": [
      "epoch: 7, [batch: 1512 / 2520], examples_per_second: 3926.1187, train_label_loss: 0.1620, \n"
     ]
    },
    {
     "name": "stdout",
     "output_type": "stream",
     "text": [
      "epoch: 7, [batch: 1764 / 2520], examples_per_second: 4185.1430, train_label_loss: 0.4552, \n"
     ]
    },
    {
     "name": "stdout",
     "output_type": "stream",
     "text": [
      "epoch: 7, [batch: 2016 / 2520], examples_per_second: 4587.2614, train_label_loss: 0.0365, \n"
     ]
    },
    {
     "name": "stdout",
     "output_type": "stream",
     "text": [
      "epoch: 7, [batch: 2268 / 2520], examples_per_second: 4752.3205, train_label_loss: 0.3566, \n"
     ]
    },
    {
     "name": "stdout",
     "output_type": "stream",
     "text": [
      "=============================================================\n",
      "epoch: 7, source_val_acc_label: 0.8921, target_val_acc_label: 0.7766, source_val_label_loss: 0.5220, target_val_label_loss: 7.5627, \n",
      "=============================================================\n"
     ]
    },
    {
     "name": "stdout",
     "output_type": "stream",
     "text": [
      "New best\n"
     ]
    },
    {
     "name": "stdout",
     "output_type": "stream",
     "text": [
      "epoch: 8, [batch: 1 / 2520], examples_per_second: 8.8677, train_label_loss: 0.1270, \n"
     ]
    },
    {
     "name": "stdout",
     "output_type": "stream",
     "text": [
      "epoch: 8, [batch: 252 / 2520], examples_per_second: 3819.6025, train_label_loss: 0.0675, \n"
     ]
    },
    {
     "name": "stdout",
     "output_type": "stream",
     "text": [
      "epoch: 8, [batch: 504 / 2520], examples_per_second: 3849.3462, train_label_loss: 0.1723, \n"
     ]
    },
    {
     "name": "stdout",
     "output_type": "stream",
     "text": [
      "epoch: 8, [batch: 756 / 2520], examples_per_second: 3841.7263, train_label_loss: 0.2623, \n"
     ]
    },
    {
     "name": "stdout",
     "output_type": "stream",
     "text": [
      "epoch: 8, [batch: 1008 / 2520], examples_per_second: 3995.4997, train_label_loss: 0.7928, \n"
     ]
    },
    {
     "name": "stdout",
     "output_type": "stream",
     "text": [
      "epoch: 8, [batch: 1260 / 2520], examples_per_second: 3894.0756, train_label_loss: 0.1993, \n"
     ]
    },
    {
     "name": "stdout",
     "output_type": "stream",
     "text": [
      "epoch: 8, [batch: 1512 / 2520], examples_per_second: 4097.0594, train_label_loss: 0.2982, \n"
     ]
    },
    {
     "name": "stdout",
     "output_type": "stream",
     "text": [
      "epoch: 8, [batch: 1764 / 2520], examples_per_second: 4311.1934, train_label_loss: 0.1943, \n"
     ]
    },
    {
     "name": "stdout",
     "output_type": "stream",
     "text": [
      "epoch: 8, [batch: 2016 / 2520], examples_per_second: 4698.2639, train_label_loss: 0.2024, \n"
     ]
    },
    {
     "name": "stdout",
     "output_type": "stream",
     "text": [
      "epoch: 8, [batch: 2268 / 2520], examples_per_second: 4301.8614, train_label_loss: 0.2486, \n"
     ]
    },
    {
     "name": "stdout",
     "output_type": "stream",
     "text": [
      "=============================================================\n",
      "epoch: 8, source_val_acc_label: 0.8928, target_val_acc_label: 0.7734, source_val_label_loss: 0.5324, target_val_label_loss: 7.1983, \n",
      "=============================================================\n"
     ]
    },
    {
     "name": "stdout",
     "output_type": "stream",
     "text": [
      "epoch: 9, [batch: 1 / 2520], examples_per_second: 9.1647, train_label_loss: 0.3067, \n"
     ]
    },
    {
     "name": "stdout",
     "output_type": "stream",
     "text": [
      "epoch: 9, [batch: 252 / 2520], examples_per_second: 3874.6094, train_label_loss: 0.3740, \n"
     ]
    },
    {
     "name": "stdout",
     "output_type": "stream",
     "text": [
      "epoch: 9, [batch: 504 / 2520], examples_per_second: 3896.8177, train_label_loss: 0.1449, \n"
     ]
    },
    {
     "name": "stdout",
     "output_type": "stream",
     "text": [
      "epoch: 9, [batch: 756 / 2520], examples_per_second: 3955.7921, train_label_loss: 0.2383, \n"
     ]
    },
    {
     "name": "stdout",
     "output_type": "stream",
     "text": [
      "epoch: 9, [batch: 1008 / 2520], examples_per_second: 3890.9298, train_label_loss: 0.2752, \n"
     ]
    },
    {
     "name": "stdout",
     "output_type": "stream",
     "text": [
      "epoch: 9, [batch: 1260 / 2520], examples_per_second: 3808.9568, train_label_loss: 0.0545, \n"
     ]
    },
    {
     "name": "stdout",
     "output_type": "stream",
     "text": [
      "epoch: 9, [batch: 1512 / 2520], examples_per_second: 3827.1054, train_label_loss: 0.2312, \n"
     ]
    },
    {
     "name": "stdout",
     "output_type": "stream",
     "text": [
      "epoch: 9, [batch: 1764 / 2520], examples_per_second: 3883.7541, train_label_loss: 0.2452, \n"
     ]
    },
    {
     "name": "stdout",
     "output_type": "stream",
     "text": [
      "epoch: 9, [batch: 2016 / 2520], examples_per_second: 4271.6887, train_label_loss: 0.1374, \n"
     ]
    },
    {
     "name": "stdout",
     "output_type": "stream",
     "text": [
      "epoch: 9, [batch: 2268 / 2520], examples_per_second: 4111.1035, train_label_loss: 0.7165, \n"
     ]
    },
    {
     "name": "stdout",
     "output_type": "stream",
     "text": [
      "=============================================================\n",
      "epoch: 9, source_val_acc_label: 0.8901, target_val_acc_label: 0.7716, source_val_label_loss: 0.4767, target_val_label_loss: 6.2765, \n",
      "=============================================================\n"
     ]
    },
    {
     "name": "stdout",
     "output_type": "stream",
     "text": [
      "epoch: 10, [batch: 1 / 2520], examples_per_second: 8.9193, train_label_loss: 0.3185, \n"
     ]
    },
    {
     "name": "stdout",
     "output_type": "stream",
     "text": [
      "epoch: 10, [batch: 252 / 2520], examples_per_second: 3801.4331, train_label_loss: 0.2164, \n"
     ]
    },
    {
     "name": "stdout",
     "output_type": "stream",
     "text": [
      "epoch: 10, [batch: 504 / 2520], examples_per_second: 3899.1728, train_label_loss: 0.2924, \n"
     ]
    },
    {
     "name": "stdout",
     "output_type": "stream",
     "text": [
      "epoch: 10, [batch: 756 / 2520], examples_per_second: 4003.7147, train_label_loss: 0.0402, \n"
     ]
    },
    {
     "name": "stdout",
     "output_type": "stream",
     "text": [
      "epoch: 10, [batch: 1008 / 2520], examples_per_second: 3969.9802, train_label_loss: 0.0775, \n"
     ]
    },
    {
     "name": "stdout",
     "output_type": "stream",
     "text": [
      "epoch: 10, [batch: 1260 / 2520], examples_per_second: 4061.7704, train_label_loss: 0.0910, \n"
     ]
    },
    {
     "name": "stdout",
     "output_type": "stream",
     "text": [
      "epoch: 10, [batch: 1512 / 2520], examples_per_second: 3949.6740, train_label_loss: 0.1139, \n"
     ]
    },
    {
     "name": "stdout",
     "output_type": "stream",
     "text": [
      "epoch: 10, [batch: 1764 / 2520], examples_per_second: 4162.2174, train_label_loss: 0.2035, \n"
     ]
    },
    {
     "name": "stdout",
     "output_type": "stream",
     "text": [
      "epoch: 10, [batch: 2016 / 2520], examples_per_second: 4680.2562, train_label_loss: 0.1806, \n"
     ]
    },
    {
     "name": "stdout",
     "output_type": "stream",
     "text": [
      "epoch: 10, [batch: 2268 / 2520], examples_per_second: 4507.6015, train_label_loss: 0.0736, \n"
     ]
    },
    {
     "name": "stdout",
     "output_type": "stream",
     "text": [
      "=============================================================\n",
      "epoch: 10, source_val_acc_label: 0.9098, target_val_acc_label: 0.7848, source_val_label_loss: 0.4436, target_val_label_loss: 6.9472, \n",
      "=============================================================\n"
     ]
    },
    {
     "name": "stdout",
     "output_type": "stream",
     "text": [
      "New best\n"
     ]
    },
    {
     "name": "stdout",
     "output_type": "stream",
     "text": [
      "epoch: 11, [batch: 1 / 2520], examples_per_second: 9.2548, train_label_loss: 0.1922, \n"
     ]
    },
    {
     "name": "stdout",
     "output_type": "stream",
     "text": [
      "epoch: 11, [batch: 252 / 2520], examples_per_second: 3922.3551, train_label_loss: 0.1122, \n"
     ]
    },
    {
     "name": "stdout",
     "output_type": "stream",
     "text": [
      "epoch: 11, [batch: 504 / 2520], examples_per_second: 3978.3600, train_label_loss: 0.1793, \n"
     ]
    },
    {
     "name": "stdout",
     "output_type": "stream",
     "text": [
      "epoch: 11, [batch: 756 / 2520], examples_per_second: 3997.2663, train_label_loss: 0.0556, \n"
     ]
    },
    {
     "name": "stdout",
     "output_type": "stream",
     "text": [
      "epoch: 11, [batch: 1008 / 2520], examples_per_second: 3954.1345, train_label_loss: 0.2380, \n"
     ]
    },
    {
     "name": "stdout",
     "output_type": "stream",
     "text": [
      "epoch: 11, [batch: 1260 / 2520], examples_per_second: 4018.5256, train_label_loss: 0.0902, \n"
     ]
    },
    {
     "name": "stdout",
     "output_type": "stream",
     "text": [
      "epoch: 11, [batch: 1512 / 2520], examples_per_second: 3963.2207, train_label_loss: 0.1916, \n"
     ]
    },
    {
     "name": "stdout",
     "output_type": "stream",
     "text": [
      "epoch: 11, [batch: 1764 / 2520], examples_per_second: 3823.7652, train_label_loss: 0.2780, \n"
     ]
    },
    {
     "name": "stdout",
     "output_type": "stream",
     "text": [
      "epoch: 11, [batch: 2016 / 2520], examples_per_second: 4306.8530, train_label_loss: 0.0542, \n"
     ]
    },
    {
     "name": "stdout",
     "output_type": "stream",
     "text": [
      "epoch: 11, [batch: 2268 / 2520], examples_per_second: 4608.0095, train_label_loss: 0.0971, \n"
     ]
    },
    {
     "name": "stdout",
     "output_type": "stream",
     "text": [
      "=============================================================\n",
      "epoch: 11, source_val_acc_label: 0.9049, target_val_acc_label: 0.7726, source_val_label_loss: 0.4963, target_val_label_loss: 7.8303, \n",
      "=============================================================\n"
     ]
    },
    {
     "name": "stdout",
     "output_type": "stream",
     "text": [
      "epoch: 12, [batch: 1 / 2520], examples_per_second: 9.3682, train_label_loss: 0.3122, \n"
     ]
    },
    {
     "name": "stdout",
     "output_type": "stream",
     "text": [
      "epoch: 12, [batch: 252 / 2520], examples_per_second: 3892.6029, train_label_loss: 0.2576, \n"
     ]
    },
    {
     "name": "stdout",
     "output_type": "stream",
     "text": [
      "epoch: 12, [batch: 504 / 2520], examples_per_second: 4095.4370, train_label_loss: 0.2493, \n"
     ]
    },
    {
     "name": "stdout",
     "output_type": "stream",
     "text": [
      "epoch: 12, [batch: 756 / 2520], examples_per_second: 4020.4124, train_label_loss: 0.0410, \n"
     ]
    },
    {
     "name": "stdout",
     "output_type": "stream",
     "text": [
      "epoch: 12, [batch: 1008 / 2520], examples_per_second: 4046.6806, train_label_loss: 0.2511, \n"
     ]
    },
    {
     "name": "stdout",
     "output_type": "stream",
     "text": [
      "epoch: 12, [batch: 1260 / 2520], examples_per_second: 4024.3196, train_label_loss: 0.0882, \n"
     ]
    },
    {
     "name": "stdout",
     "output_type": "stream",
     "text": [
      "epoch: 12, [batch: 1512 / 2520], examples_per_second: 4078.9557, train_label_loss: 0.2935, \n"
     ]
    },
    {
     "name": "stdout",
     "output_type": "stream",
     "text": [
      "epoch: 12, [batch: 1764 / 2520], examples_per_second: 3994.9748, train_label_loss: 0.0837, \n"
     ]
    },
    {
     "name": "stdout",
     "output_type": "stream",
     "text": [
      "epoch: 12, [batch: 2016 / 2520], examples_per_second: 4285.2684, train_label_loss: 0.1289, \n"
     ]
    },
    {
     "name": "stdout",
     "output_type": "stream",
     "text": [
      "epoch: 12, [batch: 2268 / 2520], examples_per_second: 4426.1866, train_label_loss: 0.3080, \n"
     ]
    },
    {
     "name": "stdout",
     "output_type": "stream",
     "text": [
      "=============================================================\n",
      "epoch: 12, source_val_acc_label: 0.9137, target_val_acc_label: 0.7876, source_val_label_loss: 0.5512, target_val_label_loss: 10.9135, \n",
      "=============================================================\n"
     ]
    },
    {
     "name": "stdout",
     "output_type": "stream",
     "text": [
      "New best\n"
     ]
    },
    {
     "name": "stdout",
     "output_type": "stream",
     "text": [
      "epoch: 13, [batch: 1 / 2520], examples_per_second: 9.4848, train_label_loss: 0.0427, \n"
     ]
    },
    {
     "name": "stdout",
     "output_type": "stream",
     "text": [
      "epoch: 13, [batch: 252 / 2520], examples_per_second: 3842.3890, train_label_loss: 0.0473, \n"
     ]
    },
    {
     "name": "stdout",
     "output_type": "stream",
     "text": [
      "epoch: 13, [batch: 504 / 2520], examples_per_second: 3929.4110, train_label_loss: 0.1429, \n"
     ]
    },
    {
     "name": "stdout",
     "output_type": "stream",
     "text": [
      "epoch: 13, [batch: 756 / 2520], examples_per_second: 3959.7618, train_label_loss: 0.0803, \n"
     ]
    },
    {
     "name": "stdout",
     "output_type": "stream",
     "text": [
      "epoch: 13, [batch: 1008 / 2520], examples_per_second: 3842.8937, train_label_loss: 0.0174, \n"
     ]
    },
    {
     "name": "stdout",
     "output_type": "stream",
     "text": [
      "epoch: 13, [batch: 1260 / 2520], examples_per_second: 3836.0439, train_label_loss: 0.0804, \n"
     ]
    },
    {
     "name": "stdout",
     "output_type": "stream",
     "text": [
      "epoch: 13, [batch: 1512 / 2520], examples_per_second: 3814.2362, train_label_loss: 0.0308, \n"
     ]
    },
    {
     "name": "stdout",
     "output_type": "stream",
     "text": [
      "epoch: 13, [batch: 1764 / 2520], examples_per_second: 3815.2528, train_label_loss: 0.3855, \n"
     ]
    },
    {
     "name": "stdout",
     "output_type": "stream",
     "text": [
      "epoch: 13, [batch: 2016 / 2520], examples_per_second: 4037.5339, train_label_loss: 0.0201, \n"
     ]
    },
    {
     "name": "stdout",
     "output_type": "stream",
     "text": [
      "epoch: 13, [batch: 2268 / 2520], examples_per_second: 4381.8952, train_label_loss: 0.1636, \n"
     ]
    },
    {
     "name": "stdout",
     "output_type": "stream",
     "text": [
      "=============================================================\n",
      "epoch: 13, source_val_acc_label: 0.9066, target_val_acc_label: 0.7733, source_val_label_loss: 0.6321, target_val_label_loss: 12.9218, \n",
      "=============================================================\n"
     ]
    },
    {
     "name": "stdout",
     "output_type": "stream",
     "text": [
      "epoch: 14, [batch: 1 / 2520], examples_per_second: 9.5134, train_label_loss: 0.0902, \n"
     ]
    },
    {
     "name": "stdout",
     "output_type": "stream",
     "text": [
      "epoch: 14, [batch: 252 / 2520], examples_per_second: 3845.6216, train_label_loss: 0.0489, \n"
     ]
    },
    {
     "name": "stdout",
     "output_type": "stream",
     "text": [
      "epoch: 14, [batch: 504 / 2520], examples_per_second: 3908.8407, train_label_loss: 0.3734, \n"
     ]
    },
    {
     "name": "stdout",
     "output_type": "stream",
     "text": [
      "epoch: 14, [batch: 756 / 2520], examples_per_second: 3861.5352, train_label_loss: 0.2222, \n"
     ]
    },
    {
     "name": "stdout",
     "output_type": "stream",
     "text": [
      "epoch: 14, [batch: 1008 / 2520], examples_per_second: 4154.2705, train_label_loss: 0.2623, \n"
     ]
    },
    {
     "name": "stdout",
     "output_type": "stream",
     "text": [
      "epoch: 14, [batch: 1260 / 2520], examples_per_second: 3909.1651, train_label_loss: 0.0779, \n"
     ]
    },
    {
     "name": "stdout",
     "output_type": "stream",
     "text": [
      "epoch: 14, [batch: 1512 / 2520], examples_per_second: 3953.9187, train_label_loss: 0.0765, \n"
     ]
    },
    {
     "name": "stdout",
     "output_type": "stream",
     "text": [
      "epoch: 14, [batch: 1764 / 2520], examples_per_second: 3907.4338, train_label_loss: 0.1156, \n"
     ]
    },
    {
     "name": "stdout",
     "output_type": "stream",
     "text": [
      "epoch: 14, [batch: 2016 / 2520], examples_per_second: 3934.4884, train_label_loss: 0.0835, \n"
     ]
    },
    {
     "name": "stdout",
     "output_type": "stream",
     "text": [
      "epoch: 14, [batch: 2268 / 2520], examples_per_second: 4502.0746, train_label_loss: 0.2674, \n"
     ]
    },
    {
     "name": "stdout",
     "output_type": "stream",
     "text": [
      "=============================================================\n",
      "epoch: 14, source_val_acc_label: 0.9069, target_val_acc_label: 0.7717, source_val_label_loss: 0.5361, target_val_label_loss: 11.1760, \n",
      "=============================================================\n"
     ]
    },
    {
     "name": "stdout",
     "output_type": "stream",
     "text": [
      "epoch: 15, [batch: 1 / 2520], examples_per_second: 9.5238, train_label_loss: 0.1809, \n"
     ]
    },
    {
     "name": "stdout",
     "output_type": "stream",
     "text": [
      "epoch: 15, [batch: 252 / 2520], examples_per_second: 3737.7397, train_label_loss: 0.1797, \n"
     ]
    },
    {
     "name": "stdout",
     "output_type": "stream",
     "text": [
      "epoch: 15, [batch: 504 / 2520], examples_per_second: 3800.1487, train_label_loss: 0.1039, \n"
     ]
    },
    {
     "name": "stdout",
     "output_type": "stream",
     "text": [
      "epoch: 15, [batch: 756 / 2520], examples_per_second: 3831.3584, train_label_loss: 0.1492, \n"
     ]
    },
    {
     "name": "stdout",
     "output_type": "stream",
     "text": [
      "epoch: 15, [batch: 1008 / 2520], examples_per_second: 3837.0137, train_label_loss: 0.0527, \n"
     ]
    },
    {
     "name": "stdout",
     "output_type": "stream",
     "text": [
      "epoch: 15, [batch: 1260 / 2520], examples_per_second: 3916.9928, train_label_loss: 0.0303, \n"
     ]
    },
    {
     "name": "stdout",
     "output_type": "stream",
     "text": [
      "epoch: 15, [batch: 1512 / 2520], examples_per_second: 4028.1043, train_label_loss: 0.1069, \n"
     ]
    },
    {
     "name": "stdout",
     "output_type": "stream",
     "text": [
      "epoch: 15, [batch: 1764 / 2520], examples_per_second: 4123.8693, train_label_loss: 0.1124, \n"
     ]
    },
    {
     "name": "stdout",
     "output_type": "stream",
     "text": [
      "epoch: 15, [batch: 2016 / 2520], examples_per_second: 4016.0952, train_label_loss: 0.1403, \n"
     ]
    },
    {
     "name": "stdout",
     "output_type": "stream",
     "text": [
      "epoch: 15, [batch: 2268 / 2520], examples_per_second: 4304.0802, train_label_loss: 0.2078, \n"
     ]
    },
    {
     "name": "stdout",
     "output_type": "stream",
     "text": [
      "=============================================================\n",
      "epoch: 15, source_val_acc_label: 0.9178, target_val_acc_label: 0.7738, source_val_label_loss: 0.5173, target_val_label_loss: 10.7059, \n",
      "=============================================================\n"
     ]
    },
    {
     "name": "stdout",
     "output_type": "stream",
     "text": [
      "epoch: 16, [batch: 1 / 2520], examples_per_second: 9.8222, train_label_loss: 0.1722, \n"
     ]
    },
    {
     "name": "stdout",
     "output_type": "stream",
     "text": [
      "epoch: 16, [batch: 252 / 2520], examples_per_second: 3866.6297, train_label_loss: 0.0722, \n"
     ]
    },
    {
     "name": "stdout",
     "output_type": "stream",
     "text": [
      "epoch: 16, [batch: 504 / 2520], examples_per_second: 3946.7758, train_label_loss: 0.1056, \n"
     ]
    },
    {
     "name": "stdout",
     "output_type": "stream",
     "text": [
      "epoch: 16, [batch: 756 / 2520], examples_per_second: 3946.5632, train_label_loss: 0.3079, \n"
     ]
    },
    {
     "name": "stdout",
     "output_type": "stream",
     "text": [
      "epoch: 16, [batch: 1008 / 2520], examples_per_second: 3972.1769, train_label_loss: 0.0255, \n"
     ]
    },
    {
     "name": "stdout",
     "output_type": "stream",
     "text": [
      "epoch: 16, [batch: 1260 / 2520], examples_per_second: 3965.4449, train_label_loss: 0.2421, \n"
     ]
    },
    {
     "name": "stdout",
     "output_type": "stream",
     "text": [
      "epoch: 16, [batch: 1512 / 2520], examples_per_second: 3993.6172, train_label_loss: 0.0870, \n"
     ]
    },
    {
     "name": "stdout",
     "output_type": "stream",
     "text": [
      "epoch: 16, [batch: 1764 / 2520], examples_per_second: 3975.1207, train_label_loss: 0.0351, \n"
     ]
    },
    {
     "name": "stdout",
     "output_type": "stream",
     "text": [
      "epoch: 16, [batch: 2016 / 2520], examples_per_second: 4005.8770, train_label_loss: 0.1071, \n"
     ]
    },
    {
     "name": "stdout",
     "output_type": "stream",
     "text": [
      "epoch: 16, [batch: 2268 / 2520], examples_per_second: 4185.4067, train_label_loss: 0.0926, \n"
     ]
    },
    {
     "name": "stdout",
     "output_type": "stream",
     "text": [
      "=============================================================\n",
      "epoch: 16, source_val_acc_label: 0.9108, target_val_acc_label: 0.7721, source_val_label_loss: 0.5606, target_val_label_loss: 10.2899, \n",
      "=============================================================\n"
     ]
    },
    {
     "name": "stdout",
     "output_type": "stream",
     "text": [
      "Patience (3) exhausted\n"
     ]
    }
   ],
   "source": [
    "###################################\n",
    "# train\n",
    "###################################\n",
    "jig = PTN_Train_Eval_Test_Jig(model, p.BEST_MODEL_PATH, p.device)\n",
    "\n",
    "jig.train(\n",
    "    train_iterable=datasets.source.processed.train,\n",
    "    source_val_iterable=datasets.source.processed.val,\n",
    "    target_val_iterable=datasets.target.processed.val,\n",
    "    num_epochs=p.n_epoch,\n",
    "    num_logs_per_epoch=p.NUM_LOGS_PER_EPOCH,\n",
    "    patience=p.patience,\n",
    "    optimizer=optimizer,\n",
    "    criteria_for_best=p.criteria_for_best,\n",
    ")"
   ]
  },
  {
   "cell_type": "code",
   "execution_count": 14,
   "id": "31e8fabf",
   "metadata": {
    "execution": {
     "iopub.execute_input": "2022-03-26T14:05:31.595813Z",
     "iopub.status.busy": "2022-03-26T14:05:31.595229Z",
     "iopub.status.idle": "2022-03-26T14:05:31.628238Z",
     "shell.execute_reply": "2022-03-26T14:05:31.627484Z"
    },
    "papermill": {
     "duration": 0.102314,
     "end_time": "2022-03-26T14:05:31.628405",
     "exception": false,
     "start_time": "2022-03-26T14:05:31.526091",
     "status": "completed"
    },
    "tags": []
   },
   "outputs": [],
   "source": [
    "total_experiment_time_secs = time.time() - start_time_secs"
   ]
  },
  {
   "cell_type": "code",
   "execution_count": 15,
   "id": "87b9595b",
   "metadata": {
    "execution": {
     "iopub.execute_input": "2022-03-26T14:05:31.775143Z",
     "iopub.status.busy": "2022-03-26T14:05:31.774441Z",
     "iopub.status.idle": "2022-03-26T14:06:57.895709Z",
     "shell.execute_reply": "2022-03-26T14:06:57.894940Z"
    },
    "papermill": {
     "duration": 86.195729,
     "end_time": "2022-03-26T14:06:57.895899",
     "exception": false,
     "start_time": "2022-03-26T14:05:31.700170",
     "status": "completed"
    },
    "tags": []
   },
   "outputs": [],
   "source": [
    "###################################\n",
    "# Evaluate the model\n",
    "###################################\n",
    "source_test_label_accuracy, source_test_label_loss = jig.test(datasets.source.processed.test)\n",
    "target_test_label_accuracy, target_test_label_loss = jig.test(datasets.target.processed.test)\n",
    "\n",
    "source_val_label_accuracy, source_val_label_loss = jig.test(datasets.source.processed.val)\n",
    "target_val_label_accuracy, target_val_label_loss = jig.test(datasets.target.processed.val)\n",
    "\n",
    "history = jig.get_history()\n",
    "\n",
    "total_epochs_trained = len(history[\"epoch_indices\"])\n",
    "\n",
    "val_dl = Iterable_Aggregator((datasets.source.original.val,datasets.target.original.val))\n",
    "\n",
    "confusion = ptn_confusion_by_domain_over_dataloader(model, p.device, val_dl)\n",
    "per_domain_accuracy = per_domain_accuracy_from_confusion(confusion)\n",
    "\n",
    "# Add a key to per_domain_accuracy for if it was a source domain\n",
    "for domain, accuracy in per_domain_accuracy.items():\n",
    "    per_domain_accuracy[domain] = {\n",
    "        \"accuracy\": accuracy,\n",
    "        \"source?\": domain in p.domains_source\n",
    "    }\n",
    "\n",
    "# Do an independent accuracy assesment JUST TO BE SURE!\n",
    "# _source_test_label_accuracy = independent_accuracy_assesment(model, datasets.source.processed.test, p.device)\n",
    "# _target_test_label_accuracy = independent_accuracy_assesment(model, datasets.target.processed.test, p.device)\n",
    "# _source_val_label_accuracy = independent_accuracy_assesment(model, datasets.source.processed.val, p.device)\n",
    "# _target_val_label_accuracy = independent_accuracy_assesment(model, datasets.target.processed.val, p.device)\n",
    "\n",
    "# assert(_source_test_label_accuracy == source_test_label_accuracy)\n",
    "# assert(_target_test_label_accuracy == target_test_label_accuracy)\n",
    "# assert(_source_val_label_accuracy == source_val_label_accuracy)\n",
    "# assert(_target_val_label_accuracy == target_val_label_accuracy)\n",
    "\n",
    "experiment = {\n",
    "    \"experiment_name\": p.experiment_name,\n",
    "    \"parameters\": dict(p),\n",
    "    \"results\": {\n",
    "        \"source_test_label_accuracy\": source_test_label_accuracy,\n",
    "        \"source_test_label_loss\": source_test_label_loss,\n",
    "        \"target_test_label_accuracy\": target_test_label_accuracy,\n",
    "        \"target_test_label_loss\": target_test_label_loss,\n",
    "        \"source_val_label_accuracy\": source_val_label_accuracy,\n",
    "        \"source_val_label_loss\": source_val_label_loss,\n",
    "        \"target_val_label_accuracy\": target_val_label_accuracy,\n",
    "        \"target_val_label_loss\": target_val_label_loss,\n",
    "        \"total_epochs_trained\": total_epochs_trained,\n",
    "        \"total_experiment_time_secs\": total_experiment_time_secs,\n",
    "        \"confusion\": confusion,\n",
    "        \"per_domain_accuracy\": per_domain_accuracy,\n",
    "    },\n",
    "    \"history\": history,\n",
    "    \"dataset_metrics\": get_dataset_metrics(datasets, \"ptn\"),\n",
    "}"
   ]
  },
  {
   "cell_type": "code",
   "execution_count": 16,
   "id": "54a21829",
   "metadata": {
    "execution": {
     "iopub.execute_input": "2022-03-26T14:06:58.038785Z",
     "iopub.status.busy": "2022-03-26T14:06:58.038371Z",
     "iopub.status.idle": "2022-03-26T14:06:58.267470Z",
     "shell.execute_reply": "2022-03-26T14:06:58.266625Z"
    },
    "papermill": {
     "duration": 0.300392,
     "end_time": "2022-03-26T14:06:58.267649",
     "exception": false,
     "start_time": "2022-03-26T14:06:57.967257",
     "status": "completed"
    },
    "tags": []
   },
   "outputs": [
    {
     "data": {
      "image/png": "[encoded data removed]",
      "text/plain": [
       "<Figure size 1080x504 with 1 Axes>"
      ]
     },
     "metadata": {
      "needs_background": "light"
     },
     "output_type": "display_data"
    }
   ],
   "source": [
    "ax = get_loss_curve(experiment)\n",
    "plt.show()"
   ]
  },
  {
   "cell_type": "code",
   "execution_count": 17,
   "id": "fd8a0f60",
   "metadata": {
    "execution": {
     "iopub.execute_input": "2022-03-26T14:06:58.409500Z",
     "iopub.status.busy": "2022-03-26T14:06:58.408941Z",
     "iopub.status.idle": "2022-03-26T14:06:58.783442Z",
     "shell.execute_reply": "2022-03-26T14:06:58.783110Z"
    },
    "papermill": {
     "duration": 0.444942,
     "end_time": "2022-03-26T14:06:58.783516",
     "exception": false,
     "start_time": "2022-03-26T14:06:58.338574",
     "status": "completed"
    },
    "tags": []
   },
   "outputs": [
    {
     "data": {
      "text/plain": [
       "<AxesSubplot:title={'center':'Results'}>"
      ]
     },
     "execution_count": 17,
     "metadata": {},
     "output_type": "execute_result"
    },
    {
     "data": {
      "image/png": "[encoded data removed]",
      "text/plain": [
       "<Figure size 1080x504 with 1 Axes>"
      ]
     },
     "metadata": {
      "needs_background": "light"
     },
     "output_type": "display_data"
    }
   ],
   "source": [
    "get_results_table(experiment)"
   ]
  },
  {
   "cell_type": "code",
   "execution_count": 18,
   "id": "cf8dc689",
   "metadata": {
    "execution": {
     "iopub.execute_input": "2022-03-26T14:06:58.922962Z",
     "iopub.status.busy": "2022-03-26T14:06:58.922585Z",
     "iopub.status.idle": "2022-03-26T14:06:59.136353Z",
     "shell.execute_reply": "2022-03-26T14:06:59.136033Z"
    },
    "papermill": {
     "duration": 0.285274,
     "end_time": "2022-03-26T14:06:59.136423",
     "exception": false,
     "start_time": "2022-03-26T14:06:58.851149",
     "status": "completed"
    },
    "tags": []
   },
   "outputs": [
    {
     "data": {
      "text/plain": [
       "<AxesSubplot:title={'center':'Per Domain Validation Accuracy'}, xlabel='domain'>"
      ]
     },
     "execution_count": 18,
     "metadata": {},
     "output_type": "execute_result"
    },
    {
     "data": {
      "image/png": "[encoded data removed]",
      "text/plain": [
       "<Figure size 1080x504 with 1 Axes>"
      ]
     },
     "metadata": {
      "needs_background": "light"
     },
     "output_type": "display_data"
    }
   ],
   "source": [
    "get_domain_accuracies(experiment)"
   ]
  },
  {
   "cell_type": "code",
   "execution_count": 19,
   "id": "a74ae082",
   "metadata": {
    "execution": {
     "iopub.execute_input": "2022-03-26T14:06:59.278751Z",
     "iopub.status.busy": "2022-03-26T14:06:59.278378Z",
     "iopub.status.idle": "2022-03-26T14:06:59.302741Z",
     "shell.execute_reply": "2022-03-26T14:06:59.302376Z"
    },
    "papermill": {
     "duration": 0.097464,
     "end_time": "2022-03-26T14:06:59.302810",
     "exception": false,
     "start_time": "2022-03-26T14:06:59.205346",
     "status": "completed"
    },
    "tags": []
   },
   "outputs": [
    {
     "name": "stdout",
     "output_type": "stream",
     "text": [
      "Source Test Label Accuracy: 0.9147569444444444 Target Test Label Accuracy: 0.79078125\n",
      "Source Val Label Accuracy: 0.9137152777777777 Target Val Label Accuracy: 0.7875520833333334\n"
     ]
    }
   ],
   "source": [
    "print(\"Source Test Label Accuracy:\", experiment[\"results\"][\"source_test_label_accuracy\"], \"Target Test Label Accuracy:\", experiment[\"results\"][\"target_test_label_accuracy\"])\n",
    "print(\"Source Val Label Accuracy:\", experiment[\"results\"][\"source_val_label_accuracy\"], \"Target Val Label Accuracy:\", experiment[\"results\"][\"target_val_label_accuracy\"])"
   ]
  },
  {
   "cell_type": "code",
   "execution_count": 20,
   "id": "dacca602",
   "metadata": {
    "execution": {
     "iopub.execute_input": "2022-03-26T14:06:59.444135Z",
     "iopub.status.busy": "2022-03-26T14:06:59.443771Z",
     "iopub.status.idle": "2022-03-26T14:06:59.462821Z",
     "shell.execute_reply": "2022-03-26T14:06:59.462455Z"
    },
    "papermill": {
     "duration": 0.090621,
     "end_time": "2022-03-26T14:06:59.462890",
     "exception": false,
     "start_time": "2022-03-26T14:06:59.372269",
     "status": "completed"
    },
    "tags": [
     "experiment_json"
    ]
   },
   "outputs": [
    {
     "data": {
      "text/plain": [
       "'{\"experiment_name\": \"tuned_1v2:oracle.run2.framed\", \"parameters\": {\"experiment_name\": \"tuned_1v2:oracle.run2.framed\", \"device\": \"cuda\", \"lr\": 0.0001, \"labels_source\": [\"3123D52\", \"3123D65\", \"3123D79\", \"3123D80\", \"3123D54\", \"3123D70\", \"3123D7B\", \"3123D89\", \"3123D58\", \"3123D76\", \"3123D7D\", \"3123EFE\", \"3123D64\", \"3123D78\", \"3123D7E\", \"3124E4A\"], \"labels_target\": [\"3123D52\", \"3123D65\", \"3123D79\", \"3123D80\", \"3123D54\", \"3123D70\", \"3123D7B\", \"3123D89\", \"3123D58\", \"3123D76\", \"3123D7D\", \"3123EFE\", \"3123D64\", \"3123D78\", \"3123D7E\", \"3124E4A\"], \"episode_transforms_source\": [], \"episode_transforms_target\": [], \"domains_source\": [8, 32, 50], \"domains_target\": [14, 20, 26, 38, 44], \"num_examples_per_domain_per_label_source\": -1, \"num_examples_per_domain_per_label_target\": -1, \"n_shot\": 3, \"n_way\": 16, \"n_query\": 2, \"train_k_factor\": 3, \"val_k_factor\": 2, \"test_k_factor\": 2, \"torch_default_dtype\": \"torch.float32\", \"n_epoch\": 50, \"patience\": 3, \"criteria_for_best\": \"target_accuracy\", \"x_net\": [{\"class\": \"nnReshape\", \"kargs\": {\"shape\": [-1, 1, 2, 256]}}, {\"class\": \"Conv2d\", \"kargs\": {\"in_channels\": 1, \"out_channels\": 256, \"kernel_size\": [1, 7], \"bias\": false, \"padding\": [0, 3]}}, {\"class\": \"ReLU\", \"kargs\": {\"inplace\": true}}, {\"class\": \"BatchNorm2d\", \"kargs\": {\"num_features\": 256}}, {\"class\": \"Conv2d\", \"kargs\": {\"in_channels\": 256, \"out_channels\": 80, \"kernel_size\": [2, 7], \"bias\": true, \"padding\": [0, 3]}}, {\"class\": \"ReLU\", \"kargs\": {\"inplace\": true}}, {\"class\": \"BatchNorm2d\", \"kargs\": {\"num_features\": 80}}, {\"class\": \"Flatten\", \"kargs\": {}}, {\"class\": \"Linear\", \"kargs\": {\"in_features\": 20480, \"out_features\": 256}}, {\"class\": \"ReLU\", \"kargs\": {\"inplace\": true}}, {\"class\": \"BatchNorm1d\", \"kargs\": {\"num_features\": 256}}, {\"class\": \"Linear\", \"kargs\": {\"in_features\": 256, \"out_features\": 256}}], \"NUM_LOGS_PER_EPOCH\": 10, \"BEST_MODEL_PATH\": \"./best_model.pth\", \"pickle_name\": \"oracle.Run2_framed_2000Examples_stratified_ds.2022A.pkl\", \"x_transforms_source\": [\"unit_power\"], \"x_transforms_target\": [\"unit_power\"], \"dataset_seed\": 500, \"seed\": 500}, \"results\": {\"source_test_label_accuracy\": 0.9147569444444444, \"source_test_label_loss\": 0.24035601317882538, \"target_test_label_accuracy\": 0.79078125, \"target_test_label_loss\": 8.554593086242676, \"source_val_label_accuracy\": 0.9137152777777777, \"source_val_label_loss\": 0.551154375076294, \"target_val_label_accuracy\": 0.7875520833333334, \"target_val_label_loss\": 10.91353988647461, \"total_epochs_trained\": 16, \"total_experiment_time_secs\": 1003.2979674339294, \"confusion\": {\"8\": {\"7\": {\"7\": 180, \"6\": 15, \"4\": 45}, \"10\": {\"10\": 211, \"5\": 13, \"0\": 11, \"14\": 4, \"13\": 1}, \"0\": {\"0\": 219, \"14\": 15, \"10\": 6}, \"11\": {\"11\": 228, \"8\": 9, \"12\": 3}, \"2\": {\"2\": 231, \"7\": 2, \"4\": 7}, \"14\": {\"14\": 213, \"0\": 19, \"10\": 4, \"13\": 4}, \"9\": {\"9\": 240}, \"13\": {\"13\": 232, \"5\": 4, \"14\": 2, \"10\": 2}, \"8\": {\"8\": 239, \"11\": 1}, \"15\": {\"15\": 220, \"8\": 13, \"12\": 7}, \"4\": {\"4\": 127, \"6\": 56, \"7\": 51, \"2\": 6}, \"5\": {\"5\": 224, \"10\": 15, \"1\": 1}, \"3\": {\"3\": 240}, \"1\": {\"1\": 240}, \"6\": {\"6\": 173, \"4\": 53, \"7\": 13, \"13\": 1}, \"12\": {\"12\": 225, \"15\": 13, \"3\": 2}}, \"50\": {\"11\": {\"11\": 237, \"15\": 1, \"12\": 2}, \"2\": {\"2\": 230, \"0\": 10}, \"12\": {\"12\": 237, \"9\": 1, \"11\": 2}, \"8\": {\"8\": 240}, \"4\": {\"4\": 190, \"5\": 42, \"6\": 6, \"1\": 1, \"7\": 1}, \"10\": {\"13\": 19, \"10\": 221}, \"14\": {\"14\": 240}, \"13\": {\"13\": 216, \"10\": 17, \"5\": 2, \"7\": 5}, \"6\": {\"6\": 227, \"5\": 6, \"4\": 4, \"1\": 3}, \"9\": {\"9\": 240}, \"15\": {\"15\": 225, \"6\": 5, \"1\": 8, \"4\": 1, \"11\": 1}, \"1\": {\"1\": 230, \"6\": 5, \"4\": 4, \"15\": 1}, \"3\": {\"3\": 239, \"8\": 1}, \"7\": {\"7\": 214, \"13\": 17, \"5\": 9}, \"0\": {\"0\": 234, \"2\": 6}, \"5\": {\"7\": 4, \"5\": 149, \"4\": 61, \"13\": 8, \"6\": 13, \"10\": 4, \"1\": 1}}, \"32\": {\"4\": {\"4\": 185, \"13\": 36, \"7\": 7, \"5\": 6, \"8\": 1, \"2\": 3, \"11\": 2}, \"14\": {\"14\": 220, \"0\": 14, \"5\": 6}, \"5\": {\"5\": 172, \"8\": 18, \"2\": 14, \"4\": 19, \"14\": 5, \"0\": 9, \"7\": 2, \"3\": 1}, \"10\": {\"10\": 240}, \"13\": {\"13\": 199, \"11\": 3, \"4\": 34, \"8\": 1, \"7\": 2, \"3\": 1}, \"9\": {\"9\": 239, \"2\": 1}, \"6\": {\"6\": 240}, \"3\": {\"3\": 231, \"8\": 6, \"13\": 3}, \"15\": {\"15\": 239, \"8\": 1}, \"7\": {\"4\": 13, \"7\": 200, \"5\": 8, \"11\": 18, \"13\": 1}, \"12\": {\"12\": 240}, \"8\": {\"8\": 212, \"5\": 4, \"3\": 5, \"0\": 15, \"13\": 4}, \"11\": {\"11\": 213, \"4\": 1, \"13\": 2, \"0\": 9, \"3\": 1, \"7\": 14}, \"2\": {\"2\": 233, \"4\": 2, \"5\": 2, \"7\": 1, \"11\": 1, \"14\": 1}, \"1\": {\"1\": 240}, \"0\": {\"0\": 212, \"8\": 8, \"11\": 11, \"14\": 5, \"5\": 2, \"13\": 2}}, \"20\": {\"7\": {\"7\": 224, \"8\": 7, \"3\": 8, \"5\": 1}, \"10\": {\"10\": 239, \"6\": 1}, \"0\": {\"0\": 220, \"5\": 6, \"15\": 10, \"13\": 2, \"1\": 2}, \"11\": {\"11\": 240}, \"2\": {\"9\": 49, \"3\": 22, \"12\": 33, \"2\": 119, \"5\": 13, \"15\": 3, \"13\": 1}, \"14\": {\"14\": 194, \"6\": 14, \"8\": 31, \"7\": 1}, \"9\": {\"9\": 180, \"3\": 21, \"2\": 30, \"12\": 8, \"1\": 1}, \"13\": {\"13\": 190, \"15\": 46, \"1\": 3, \"5\": 1}, \"8\": {\"8\": 192, \"14\": 33, \"7\": 11, \"4\": 4}, \"15\": {\"15\": 143, \"12\": 10, \"13\": 59, \"5\": 7, \"1\": 14, \"0\": 2, \"2\": 4, \"9\": 1}, \"4\": {\"4\": 236, \"8\": 4}, \"5\": {\"2\": 11, \"5\": 179, \"15\": 12, \"12\": 19, \"0\": 8, \"4\": 3, \"7\": 7, \"3\": 1}, \"3\": {\"2\": 30, \"3\": 174, \"7\": 8, \"12\": 3, \"9\": 25}, \"1\": {\"1\": 163, \"9\": 7, \"12\": 50, \"15\": 10, \"13\": 4, \"5\": 3, \"4\": 1, \"2\": 2}, \"6\": {\"6\": 237, \"8\": 1, \"14\": 2}, \"12\": {\"1\": 41, \"12\": 146, \"15\": 2, \"5\": 20, \"2\": 19, \"9\": 10, \"3\": 1, \"4\": 1}}, \"14\": {\"14\": {\"14\": 204, \"2\": 24, \"3\": 8, \"6\": 3, \"5\": 1}, \"6\": {\"6\": 200, \"13\": 38, \"2\": 2}, \"5\": {\"4\": 23, \"5\": 180, \"2\": 10, \"1\": 17, \"3\": 10}, \"15\": {\"15\": 240}, \"11\": {\"11\": 240}, \"8\": {\"8\": 240}, \"12\": {\"12\": 131, \"9\": 35, \"11\": 50, \"7\": 2, \"8\": 7, \"0\": 13, \"15\": 2}, \"1\": {\"1\": 231, \"5\": 6, \"4\": 3}, \"2\": {\"2\": 120, \"14\": 37, \"5\": 42, \"13\": 12, \"3\": 22, \"6\": 3, \"4\": 3, \"1\": 1}, \"13\": {\"13\": 204, \"6\": 34, \"2\": 2}, \"3\": {\"3\": 226, \"5\": 10, \"2\": 4}, \"0\": {\"0\": 240}, \"9\": {\"9\": 240}, \"4\": {\"4\": 208, \"1\": 6, \"5\": 26}, \"7\": {\"7\": 240}, \"10\": {\"10\": 239, \"14\": 1}}, \"38\": {\"4\": {\"4\": 237, \"7\": 2, \"12\": 1}, \"14\": {\"14\": 141, \"2\": 76, \"5\": 2, \"12\": 10, \"7\": 4, \"4\": 6, \"8\": 1}, \"5\": {\"5\": 126, \"8\": 78, \"7\": 18, \"15\": 15, \"10\": 3}, \"10\": {\"10\": 183, \"7\": 48, \"8\": 2, \"3\": 3, \"13\": 2, \"5\": 1, \"0\": 1}, \"13\": {\"13\": 174, \"0\": 1, \"3\": 27, \"10\": 17, \"2\": 1, \"8\": 9, \"14\": 2, \"7\": 7, \"1\": 1, \"5\": 1}, \"9\": {\"9\": 227, \"6\": 13}, \"6\": {\"9\": 8, \"6\": 232}, \"3\": {\"3\": 113, \"9\": 5, \"13\": 50, \"8\": 5, \"0\": 41, \"10\": 19, \"7\": 4, \"11\": 1, \"15\": 2}, \"15\": {\"15\": 166, \"5\": 25, \"8\": 35, \"1\": 11, \"0\": 3}, \"7\": {\"10\": 42, \"8\": 27, \"7\": 145, \"5\": 22, \"13\": 2, \"0\": 2}, \"12\": {\"12\": 238, \"14\": 2}, \"8\": {\"5\": 71, \"8\": 135, \"7\": 19, \"15\": 11, \"13\": 3, \"10\": 1}, \"11\": {\"11\": 134, \"4\": 69, \"2\": 8, \"12\": 3, \"14\": 7, \"9\": 4, \"15\": 7, \"3\": 4, \"6\": 1, \"0\": 1, \"10\": 1, \"1\": 1}, \"2\": {\"2\": 223, \"14\": 17}, \"1\": {\"1\": 226, \"15\": 11, \"8\": 2, \"13\": 1}, \"0\": {\"0\": 232, \"3\": 4, \"7\": 1, \"10\": 2, \"8\": 1}}, \"44\": {\"8\": {\"8\": 150, \"0\": 84, \"5\": 4, \"15\": 2}, \"11\": {\"11\": 210, \"6\": 18, \"7\": 3, \"0\": 1, \"10\": 4, \"5\": 2, \"8\": 1, \"9\": 1}, \"14\": {\"14\": 207, \"5\": 14, \"4\": 12, \"15\": 7}, \"10\": {\"10\": 239, \"12\": 1}, \"3\": {\"3\": 227, \"12\": 9, \"1\": 4}, \"15\": {\"15\": 193, \"14\": 29, \"4\": 13, \"8\": 3, \"0\": 1, \"5\": 1}, \"2\": {\"2\": 188, \"7\": 28, \"9\": 23, \"1\": 1}, \"12\": {\"12\": 202, \"1\": 34, \"3\": 4}, \"4\": {\"4\": 222, \"14\": 14, \"13\": 2, \"15\": 2}, \"1\": {\"1\": 181, \"12\": 49, \"3\": 6, \"7\": 1, \"2\": 3}, \"0\": {\"8\": 107, \"0\": 132, \"5\": 1}, \"9\": {\"9\": 133, \"2\": 26, \"7\": 76, \"6\": 5}, \"5\": {\"5\": 223, \"14\": 16, \"15\": 1}, \"6\": {\"6\": 218, \"9\": 10, \"13\": 6, \"2\": 1, \"7\": 5}, \"7\": {\"9\": 70, \"7\": 145, \"2\": 19, \"6\": 6}, \"13\": {\"13\": 232, \"6\": 4, \"4\": 4}}, \"26\": {\"6\": {\"6\": 212, \"10\": 7, \"9\": 20, \"8\": 1}, \"11\": {\"11\": 240}, \"5\": {\"5\": 115, \"13\": 61, \"2\": 17, \"9\": 7, \"8\": 10, \"6\": 10, \"7\": 13, \"10\": 2, \"3\": 3, \"15\": 2}, \"14\": {\"14\": 86, \"0\": 58, \"8\": 17, \"1\": 50, \"10\": 21, \"4\": 7, \"7\": 1}, \"2\": {\"7\": 68, \"2\": 95, \"3\": 19, \"15\": 24, \"4\": 7, \"8\": 20, \"5\": 5, \"14\": 1, \"0\": 1}, \"7\": {\"2\": 74, \"7\": 115, \"4\": 14, \"5\": 6, \"15\": 8, \"3\": 15, \"8\": 7, \"10\": 1}, \"3\": {\"7\": 20, \"3\": 187, \"2\": 21, \"15\": 9, \"4\": 3}, \"4\": {\"4\": 187, \"14\": 7, \"7\": 15, \"2\": 8, \"0\": 6, \"8\": 7, \"1\": 1, \"3\": 6, \"15\": 3}, \"9\": {\"13\": 8, \"9\": 210, \"6\": 18, \"8\": 2, \"15\": 1, \"5\": 1}, \"12\": {\"12\": 240}, \"0\": {\"10\": 47, \"4\": 18, \"0\": 101, \"14\": 54, \"8\": 14, \"2\": 1, \"1\": 5}, \"10\": {\"15\": 5, \"4\": 5, \"10\": 119, \"14\": 28, \"0\": 52, \"8\": 18, \"6\": 9, \"1\": 3, \"7\": 1}, \"8\": {\"8\": 150, \"10\": 10, \"14\": 13, \"7\": 17, \"0\": 16, \"2\": 14, \"4\": 11, \"5\": 4, \"15\": 3, \"9\": 1, \"6\": 1}, \"13\": {\"13\": 204, \"5\": 32, \"9\": 4}, \"1\": {\"1\": 203, \"0\": 6, \"14\": 27, \"4\": 2, \"10\": 2}, \"15\": {\"15\": 164, \"2\": 23, \"7\": 25, \"3\": 18, \"0\": 2, \"4\": 6, \"9\": 2}}}, \"per_domain_accuracy\": {\"8\": {\"accuracy\": 0.8963541666666667, \"source?\": true}, \"50\": {\"accuracy\": 0.9294270833333333, \"source?\": true}, \"32\": {\"accuracy\": 0.9153645833333334, \"source?\": true}, \"20\": {\"accuracy\": 0.8010416666666667, \"source?\": false}, \"14\": {\"accuracy\": 0.8809895833333333, \"source?\": false}, \"38\": {\"accuracy\": 0.7635416666666667, \"source?\": false}, \"44\": {\"accuracy\": 0.8078125, \"source?\": false}, \"26\": {\"accuracy\": 0.684375, \"source?\": false}}}, \"history\": {\"epoch_indices\": [1, 2, 3, 4, 5, 6, 7, 8, 9, 10, 11, 12, 13, 14, 15, 16], \"train_label_loss\": [0.9605182976003677, 0.6415707178768657, 0.4491093092051054, 0.3817932862788439, 0.3115321803734534, 0.2837455203231897, 0.2388958094818961, 0.22375330307247443, 0.22323835743184658, 0.18561011711246378, 0.17410184849415802, 0.15935868003815856, 0.14768901445606303, 0.1437218775811036, 0.13248731226434873, 0.12342401876567959], \"source_val_label_loss\": [0.9395554065704346, 0.7190007567405701, 0.6727927327156067, 0.5368191003799438, 0.5423795580863953, 0.52606201171875, 0.5219898819923401, 0.5323871970176697, 0.4767376780509949, 0.4436011016368866, 0.4963225722312927, 0.551154375076294, 0.6321085691452026, 0.5361022353172302, 0.5172690749168396, 0.5605766177177429], \"target_val_label_loss\": [5.515957832336426, 5.341605186462402, 5.2532453536987305, 5.488000392913818, 6.1580810546875, 6.498135566711426, 7.56268310546875, 7.198322772979736, 6.276512622833252, 6.9471964836120605, 7.830342769622803, 10.91353988647461, 12.921830177307129, 11.176004409790039, 10.705936431884766, 10.289918899536133], \"source_val_acc_label\": [0.7263888888888889, 0.7969618055555555, 0.8309895833333333, 0.8659722222222223, 0.8756076388888889, 0.8831597222222223, 0.8921006944444444, 0.8927951388888888, 0.8901041666666667, 0.9098090277777777, 0.9049479166666666, 0.9137152777777777, 0.9065972222222223, 0.9068576388888889, 0.9177951388888889, 0.9107638888888889], \"target_val_acc_label\": [0.6025, 0.6849479166666667, 0.7183333333333334, 0.7564583333333333, 0.760625, 0.7627083333333333, 0.7765625, 0.7733854166666667, 0.7716145833333333, 0.7847916666666667, 0.7725520833333334, 0.7875520833333334, 0.77328125, 0.77171875, 0.77375, 0.7721354166666666]}, \"dataset_metrics\": {\"source\": {\"train\": {\"n_unique_x\": 67200, \"n_unique_y\": 16, \"n_batch/episode\": 2520}, \"val\": {\"n_unique_x\": 14400, \"n_unique_y\": 16, \"n_batch/episode\": 360}, \"test\": {\"n_unique_x\": 14400, \"n_unique_y\": 16, \"n_batch/episode\": 360}}, \"target\": {\"train\": {\"n_unique_x\": 112000, \"n_unique_y\": 16, \"n_batch/episode\": 4200}, \"val\": {\"n_unique_x\": 24000, \"n_unique_y\": 16, \"n_batch/episode\": 600}, \"test\": {\"n_unique_x\": 24000, \"n_unique_y\": 16, \"n_batch/episode\": 600}}}}'"
      ]
     },
     "execution_count": 20,
     "metadata": {},
     "output_type": "execute_result"
    }
   ],
   "source": [
    "json.dumps(experiment)"
   ]
  }
 ],
 "metadata": {
  "celltoolbar": "Tags",
  "kernelspec": {
   "display_name": "Python 3 (ipykernel)",
   "language": "python",
   "name": "python3"
  },
  "language_info": {
   "codemirror_mode": {
    "name": "ipython",
    "version": 3
   },
   "file_extension": ".py",
   "mimetype": "text/x-python",
   "name": "python",
   "nbconvert_exporter": "python",
   "pygments_lexer": "ipython3",
   "version": "3.8.12"
  },
  "papermill": {
   "default_parameters": {},
   "duration": 1097.506571,
   "end_time": "2022-03-26T14:07:02.628426",
   "environment_variables": {},
   "exception": null,
   "input_path": "/root/csc500-main/csc500-notebooks/templates/ptn_template.ipynb",
   "output_path": "trial.ipynb",
   "parameters": {
    "parameters": {
     "BEST_MODEL_PATH": "./best_model.pth",
     "NUM_LOGS_PER_EPOCH": 10,
     "criteria_for_best": "target_accuracy",
     "dataset_seed": 500,
     "device": "cuda",
     "domains_source": [
      8,
      32,
      50
     ],
     "domains_target": [
      14,
      20,
      26,
      38,
      44
     ],
     "episode_transforms_source": [],
     "episode_transforms_target": [],
     "experiment_name": "tuned_1v2:oracle.run2.framed",
     "labels_source": [
      "3123D52",
      "3123D65",
      "3123D79",
      "3123D80",
      "3123D54",
      "3123D70",
      "3123D7B",
      "3123D89",
      "3123D58",
      "3123D76",
      "3123D7D",
      "3123EFE",
      "3123D64",
      "3123D78",
      "3123D7E",
      "3124E4A"
     ],
     "labels_target": [
      "3123D52",
      "3123D65",
      "3123D79",
      "3123D80",
      "3123D54",
      "3123D70",
      "3123D7B",
      "3123D89",
      "3123D58",
      "3123D76",
      "3123D7D",
      "3123EFE",
      "3123D64",
      "3123D78",
      "3123D7E",
      "3124E4A"
     ],
     "lr": 0.0001,
     "n_epoch": 50,
     "n_query": 2,
     "n_shot": 3,
     "n_way": 16,
     "num_examples_per_domain_per_label_source": -1,
     "num_examples_per_domain_per_label_target": -1,
     "patience": 3,
     "pickle_name": "oracle.Run2_framed_2000Examples_stratified_ds.2022A.pkl",
     "seed": 500,
     "test_k_factor": 2,
     "torch_default_dtype": "torch.float32",
     "train_k_factor": 3,
     "val_k_factor": 2,
     "x_net": [
      {
       "class": "nnReshape",
       "kargs": {
        "shape": [
         -1,
         1,
         2,
         256
        ]
       }
      },
      {
       "class": "Conv2d",
       "kargs": {
        "bias": false,
        "in_channels": 1,
        "kernel_size": [
         1,
         7
        ],
        "out_channels": 256,
        "padding": [
         0,
         3
        ]
       }
      },
      {
       "class": "ReLU",
       "kargs": {
        "inplace": true
       }
      },
      {
       "class": "BatchNorm2d",
       "kargs": {
        "num_features": 256
       }
      },
      {
       "class": "Conv2d",
       "kargs": {
        "bias": true,
        "in_channels": 256,
        "kernel_size": [
         2,
         7
        ],
        "out_channels": 80,
        "padding": [
         0,
         3
        ]
       }
      },
      {
       "class": "ReLU",
       "kargs": {
        "inplace": true
       }
      },
      {
       "class": "BatchNorm2d",
       "kargs": {
        "num_features": 80
       }
      },
      {
       "class": "Flatten",
       "kargs": {}
      },
      {
       "class": "Linear",
       "kargs": {
        "in_features": 20480,
        "out_features": 256
       }
      },
      {
       "class": "ReLU",
       "kargs": {
        "inplace": true
       }
      },
      {
       "class": "BatchNorm1d",
       "kargs": {
        "num_features": 256
       }
      },
      {
       "class": "Linear",
       "kargs": {
        "in_features": 256,
        "out_features": 256
       }
      }
     ],
     "x_transforms_source": [
      "unit_power"
     ],
     "x_transforms_target": [
      "unit_power"
     ]
    }
   },
   "start_time": "2022-03-26T13:48:45.121855",
   "version": "2.3.4"
  }
 },
 "nbformat": 4,
 "nbformat_minor": 5
}