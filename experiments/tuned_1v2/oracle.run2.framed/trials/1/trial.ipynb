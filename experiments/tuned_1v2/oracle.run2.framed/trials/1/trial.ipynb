{
 "cells": [
  {
   "cell_type": "markdown",
   "id": "9fea5f46",
   "metadata": {
    "papermill": {
     "duration": 0.025734,
     "end_time": "2022-03-26T12:47:21.859029",
     "exception": false,
     "start_time": "2022-03-26T12:47:21.833295",
     "status": "completed"
    },
    "tags": []
   },
   "source": [
    "# PTN Template\n",
    "This notebook serves as a template for single dataset PTN experiments  \n",
    "It can be run on its own by setting STANDALONE to True (do a find for \"STANDALONE\" to see where)  \n",
    "But it is intended to be executed as part of a *papermill.py script. See any of the   \n",
    "experimentes with a papermill script to get started with that workflow.  "
   ]
  },
  {
   "cell_type": "code",
   "execution_count": 1,
   "id": "0902182a",
   "metadata": {
    "execution": {
     "iopub.execute_input": "2022-03-26T12:47:21.910479Z",
     "iopub.status.busy": "2022-03-26T12:47:21.909607Z",
     "iopub.status.idle": "2022-03-26T12:47:23.735245Z",
     "shell.execute_reply": "2022-03-26T12:47:23.734797Z"
    },
    "papermill": {
     "duration": 1.859217,
     "end_time": "2022-03-26T12:47:23.735364",
     "exception": false,
     "start_time": "2022-03-26T12:47:21.876147",
     "status": "completed"
    },
    "tags": []
   },
   "outputs": [],
   "source": [
    "%load_ext autoreload\n",
    "%autoreload 2\n",
    "%matplotlib inline\n",
    "\n",
    "    \n",
    "import os, json, sys, time, random\n",
    "import numpy as np\n",
    "import torch\n",
    "from torch.optim import Adam\n",
    "from  easydict import EasyDict\n",
    "import matplotlib.pyplot as plt\n",
    "\n",
    "from steves_models.steves_ptn import Steves_Prototypical_Network\n",
    "\n",
    "from steves_utils.lazy_iterable_wrapper import Lazy_Iterable_Wrapper\n",
    "from steves_utils.iterable_aggregator import Iterable_Aggregator\n",
    "from steves_utils.ptn_train_eval_test_jig import  PTN_Train_Eval_Test_Jig\n",
    "from steves_utils.torch_sequential_builder import build_sequential\n",
    "from steves_utils.torch_utils import get_dataset_metrics, ptn_confusion_by_domain_over_dataloader\n",
    "from steves_utils.utils_v2 import (per_domain_accuracy_from_confusion, get_datasets_base_path)\n",
    "from steves_utils.PTN.utils import independent_accuracy_assesment\n",
    "\n",
    "from steves_utils.stratified_dataset.episodic_accessor import Episodic_Accessor_Factory\n",
    "\n",
    "from steves_utils.ptn_do_report import (\n",
    "    get_loss_curve,\n",
    "    get_results_table,\n",
    "    get_parameters_table,\n",
    "    get_domain_accuracies,\n",
    ")\n",
    "\n",
    "from steves_utils.transforms import get_chained_transform"
   ]
  },
  {
   "cell_type": "markdown",
   "id": "41c840b4",
   "metadata": {
    "papermill": {
     "duration": 0.014471,
     "end_time": "2022-03-26T12:47:23.765178",
     "exception": false,
     "start_time": "2022-03-26T12:47:23.750707",
     "status": "completed"
    },
    "tags": []
   },
   "source": [
    "# Required Parameters\n",
    "These are allowed parameters, not defaults\n",
    "Each of these values need to be present in the injected parameters (the notebook will raise an exception if they are not present)\n",
    "\n",
    "Papermill uses the cell tag \"parameters\" to inject the real parameters below this cell.\n",
    "Enable tags to see what I mean"
   ]
  },
  {
   "cell_type": "code",
   "execution_count": 2,
   "id": "fd44eb83",
   "metadata": {
    "execution": {
     "iopub.execute_input": "2022-03-26T12:47:23.801051Z",
     "iopub.status.busy": "2022-03-26T12:47:23.800460Z",
     "iopub.status.idle": "2022-03-26T12:47:23.822470Z",
     "shell.execute_reply": "2022-03-26T12:47:23.821622Z"
    },
    "papermill": {
     "duration": 0.042832,
     "end_time": "2022-03-26T12:47:23.822626",
     "exception": false,
     "start_time": "2022-03-26T12:47:23.779794",
     "status": "completed"
    },
    "tags": []
   },
   "outputs": [],
   "source": [
    "required_parameters = {\n",
    "    \"experiment_name\",\n",
    "    \"lr\",\n",
    "    \"device\",\n",
    "    \"seed\",\n",
    "    \"dataset_seed\",\n",
    "    \"labels_source\",\n",
    "    \"labels_target\",\n",
    "    \"domains_source\",\n",
    "    \"domains_target\",\n",
    "    \"num_examples_per_domain_per_label_source\",\n",
    "    \"num_examples_per_domain_per_label_target\",\n",
    "    \"n_shot\",\n",
    "    \"n_way\",\n",
    "    \"n_query\",\n",
    "    \"train_k_factor\",\n",
    "    \"val_k_factor\",\n",
    "    \"test_k_factor\",\n",
    "    \"n_epoch\",\n",
    "    \"patience\",\n",
    "    \"criteria_for_best\",\n",
    "    \"x_transforms_source\",\n",
    "    \"x_transforms_target\",\n",
    "    \"episode_transforms_source\",\n",
    "    \"episode_transforms_target\",\n",
    "    \"pickle_name\",\n",
    "    \"x_net\",\n",
    "    \"NUM_LOGS_PER_EPOCH\",\n",
    "    \"BEST_MODEL_PATH\",\n",
    "    \"torch_default_dtype\"\n",
    "}"
   ]
  },
  {
   "cell_type": "code",
   "execution_count": 3,
   "id": "fa3f0049",
   "metadata": {
    "execution": {
     "iopub.execute_input": "2022-03-26T12:47:23.872784Z",
     "iopub.status.busy": "2022-03-26T12:47:23.871852Z",
     "iopub.status.idle": "2022-03-26T12:47:23.893471Z",
     "shell.execute_reply": "2022-03-26T12:47:23.892649Z"
    },
    "papermill": {
     "duration": 0.051085,
     "end_time": "2022-03-26T12:47:23.893625",
     "exception": false,
     "start_time": "2022-03-26T12:47:23.842540",
     "status": "completed"
    },
    "tags": [
     "parameters"
    ]
   },
   "outputs": [],
   "source": [
    "\n",
    "\n",
    "standalone_parameters = {}\n",
    "standalone_parameters[\"experiment_name\"] = \"STANDALONE PTN\"\n",
    "standalone_parameters[\"lr\"] = 0.0001\n",
    "standalone_parameters[\"device\"] = \"cuda\"\n",
    "\n",
    "standalone_parameters[\"seed\"] = 1337\n",
    "standalone_parameters[\"dataset_seed\"] = 1337\n",
    "\n",
    "\n",
    "standalone_parameters[\"num_examples_per_domain_per_label_source\"]=100\n",
    "standalone_parameters[\"num_examples_per_domain_per_label_target\"]=100\n",
    "\n",
    "standalone_parameters[\"n_shot\"] = 3\n",
    "standalone_parameters[\"n_query\"]  = 2\n",
    "standalone_parameters[\"train_k_factor\"] = 1\n",
    "standalone_parameters[\"val_k_factor\"] = 2\n",
    "standalone_parameters[\"test_k_factor\"] = 2\n",
    "\n",
    "\n",
    "standalone_parameters[\"n_epoch\"] = 100\n",
    "\n",
    "standalone_parameters[\"patience\"] = 10\n",
    "standalone_parameters[\"criteria_for_best\"] = \"target_accuracy\"\n",
    "\n",
    "standalone_parameters[\"x_transforms_source\"] = [\"unit_power\"]\n",
    "standalone_parameters[\"x_transforms_target\"] = [\"unit_power\"]\n",
    "standalone_parameters[\"episode_transforms_source\"] = []\n",
    "standalone_parameters[\"episode_transforms_target\"] = []\n",
    "\n",
    "standalone_parameters[\"torch_default_dtype\"] = \"torch.float32\" \n",
    "\n",
    "\n",
    "\n",
    "standalone_parameters[\"x_net\"] =     [\n",
    "    {\"class\": \"nnReshape\", \"kargs\": {\"shape\":[-1, 1, 2, 256]}},\n",
    "    {\"class\": \"Conv2d\", \"kargs\": { \"in_channels\":1, \"out_channels\":256, \"kernel_size\":(1,7), \"bias\":False, \"padding\":(0,3), },},\n",
    "    {\"class\": \"ReLU\", \"kargs\": {\"inplace\": True}},\n",
    "    {\"class\": \"BatchNorm2d\", \"kargs\": {\"num_features\":256}},\n",
    "\n",
    "    {\"class\": \"Conv2d\", \"kargs\": { \"in_channels\":256, \"out_channels\":80, \"kernel_size\":(2,7), \"bias\":True, \"padding\":(0,3), },},\n",
    "    {\"class\": \"ReLU\", \"kargs\": {\"inplace\": True}},\n",
    "    {\"class\": \"BatchNorm2d\", \"kargs\": {\"num_features\":80}},\n",
    "    {\"class\": \"Flatten\", \"kargs\": {}},\n",
    "\n",
    "    {\"class\": \"Linear\", \"kargs\": {\"in_features\": 80*256, \"out_features\": 256}}, # 80 units per IQ pair\n",
    "    {\"class\": \"ReLU\", \"kargs\": {\"inplace\": True}},\n",
    "    {\"class\": \"BatchNorm1d\", \"kargs\": {\"num_features\":256}},\n",
    "\n",
    "    {\"class\": \"Linear\", \"kargs\": {\"in_features\": 256, \"out_features\": 256}},\n",
    "]\n",
    "\n",
    "# Parameters relevant to results\n",
    "# These parameters will basically never need to change\n",
    "standalone_parameters[\"NUM_LOGS_PER_EPOCH\"] = 10\n",
    "standalone_parameters[\"BEST_MODEL_PATH\"] = \"./best_model.pth\"\n",
    "\n",
    "# uncomment for CORES dataset\n",
    "from steves_utils.CORES.utils import (\n",
    "    ALL_NODES,\n",
    "    ALL_NODES_MINIMUM_1000_EXAMPLES,\n",
    "    ALL_DAYS\n",
    ")\n",
    "\n",
    "\n",
    "standalone_parameters[\"labels_source\"] = ALL_NODES\n",
    "standalone_parameters[\"labels_target\"] = ALL_NODES\n",
    "\n",
    "standalone_parameters[\"domains_source\"] = [1]\n",
    "standalone_parameters[\"domains_target\"] = [2,3,4,5]\n",
    "\n",
    "standalone_parameters[\"pickle_name\"] = \"cores.stratified_ds.2022A.pkl\"\n",
    "\n",
    "\n",
    "# Uncomment these for ORACLE dataset\n",
    "# from steves_utils.ORACLE.utils_v2 import (\n",
    "#     ALL_DISTANCES_FEET,\n",
    "#     ALL_RUNS,\n",
    "#     ALL_SERIAL_NUMBERS,\n",
    "# )\n",
    "# standalone_parameters[\"labels_source\"] = ALL_SERIAL_NUMBERS\n",
    "# standalone_parameters[\"labels_target\"] = ALL_SERIAL_NUMBERS\n",
    "# standalone_parameters[\"domains_source\"] = [8,20, 38,50]\n",
    "# standalone_parameters[\"domains_target\"] = [14, 26, 32, 44, 56]\n",
    "# standalone_parameters[\"pickle_name\"] = \"oracle.frame_indexed.stratified_ds.2022A.pkl\"\n",
    "# standalone_parameters[\"num_examples_per_domain_per_label_source\"]=1000\n",
    "# standalone_parameters[\"num_examples_per_domain_per_label_target\"]=1000\n",
    "\n",
    "# Uncomment these for Metahan dataset\n",
    "# standalone_parameters[\"labels_source\"] = list(range(19))\n",
    "# standalone_parameters[\"labels_target\"] = list(range(19))\n",
    "# standalone_parameters[\"domains_source\"] = [0]\n",
    "# standalone_parameters[\"domains_target\"] = [1]\n",
    "# standalone_parameters[\"pickle_name\"] = \"metehan.stratified_ds.2022A.pkl\"\n",
    "# standalone_parameters[\"n_way\"]  = len(standalone_parameters[\"labels_source\"])\n",
    "# standalone_parameters[\"num_examples_per_domain_per_label_source\"]=200\n",
    "# standalone_parameters[\"num_examples_per_domain_per_label_target\"]=100\n",
    "\n",
    "\n",
    "standalone_parameters[\"n_way\"]  = len(standalone_parameters[\"labels_source\"])"
   ]
  },
  {
   "cell_type": "code",
   "execution_count": 4,
   "id": "8555b205",
   "metadata": {
    "execution": {
     "iopub.execute_input": "2022-03-26T12:47:23.941229Z",
     "iopub.status.busy": "2022-03-26T12:47:23.940308Z",
     "iopub.status.idle": "2022-03-26T12:47:23.960664Z",
     "shell.execute_reply": "2022-03-26T12:47:23.959943Z"
    },
    "papermill": {
     "duration": 0.046437,
     "end_time": "2022-03-26T12:47:23.960818",
     "exception": false,
     "start_time": "2022-03-26T12:47:23.914381",
     "status": "completed"
    },
    "tags": [
     "injected-parameters"
    ]
   },
   "outputs": [],
   "source": [
    "# Parameters\n",
    "parameters = {\n",
    "    \"experiment_name\": \"tuned_1v2:oracle.run2.framed\",\n",
    "    \"device\": \"cuda\",\n",
    "    \"lr\": 0.0001,\n",
    "    \"labels_source\": [\n",
    "        \"3123D52\",\n",
    "        \"3123D65\",\n",
    "        \"3123D79\",\n",
    "        \"3123D80\",\n",
    "        \"3123D54\",\n",
    "        \"3123D70\",\n",
    "        \"3123D7B\",\n",
    "        \"3123D89\",\n",
    "        \"3123D58\",\n",
    "        \"3123D76\",\n",
    "        \"3123D7D\",\n",
    "        \"3123EFE\",\n",
    "        \"3123D64\",\n",
    "        \"3123D78\",\n",
    "        \"3123D7E\",\n",
    "        \"3124E4A\",\n",
    "    ],\n",
    "    \"labels_target\": [\n",
    "        \"3123D52\",\n",
    "        \"3123D65\",\n",
    "        \"3123D79\",\n",
    "        \"3123D80\",\n",
    "        \"3123D54\",\n",
    "        \"3123D70\",\n",
    "        \"3123D7B\",\n",
    "        \"3123D89\",\n",
    "        \"3123D58\",\n",
    "        \"3123D76\",\n",
    "        \"3123D7D\",\n",
    "        \"3123EFE\",\n",
    "        \"3123D64\",\n",
    "        \"3123D78\",\n",
    "        \"3123D7E\",\n",
    "        \"3124E4A\",\n",
    "    ],\n",
    "    \"episode_transforms_source\": [],\n",
    "    \"episode_transforms_target\": [],\n",
    "    \"domains_source\": [8, 32, 50],\n",
    "    \"domains_target\": [14, 20, 26, 38, 44],\n",
    "    \"num_examples_per_domain_per_label_source\": -1,\n",
    "    \"num_examples_per_domain_per_label_target\": -1,\n",
    "    \"n_shot\": 3,\n",
    "    \"n_way\": 16,\n",
    "    \"n_query\": 2,\n",
    "    \"train_k_factor\": 3,\n",
    "    \"val_k_factor\": 2,\n",
    "    \"test_k_factor\": 2,\n",
    "    \"torch_default_dtype\": \"torch.float32\",\n",
    "    \"n_epoch\": 50,\n",
    "    \"patience\": 3,\n",
    "    \"criteria_for_best\": \"target_accuracy\",\n",
    "    \"x_net\": [\n",
    "        {\"class\": \"nnReshape\", \"kargs\": {\"shape\": [-1, 1, 2, 256]}},\n",
    "        {\n",
    "            \"class\": \"Conv2d\",\n",
    "            \"kargs\": {\n",
    "                \"in_channels\": 1,\n",
    "                \"out_channels\": 256,\n",
    "                \"kernel_size\": [1, 7],\n",
    "                \"bias\": False,\n",
    "                \"padding\": [0, 3],\n",
    "            },\n",
    "        },\n",
    "        {\"class\": \"ReLU\", \"kargs\": {\"inplace\": True}},\n",
    "        {\"class\": \"BatchNorm2d\", \"kargs\": {\"num_features\": 256}},\n",
    "        {\n",
    "            \"class\": \"Conv2d\",\n",
    "            \"kargs\": {\n",
    "                \"in_channels\": 256,\n",
    "                \"out_channels\": 80,\n",
    "                \"kernel_size\": [2, 7],\n",
    "                \"bias\": True,\n",
    "                \"padding\": [0, 3],\n",
    "            },\n",
    "        },\n",
    "        {\"class\": \"ReLU\", \"kargs\": {\"inplace\": True}},\n",
    "        {\"class\": \"BatchNorm2d\", \"kargs\": {\"num_features\": 80}},\n",
    "        {\"class\": \"Flatten\", \"kargs\": {}},\n",
    "        {\"class\": \"Linear\", \"kargs\": {\"in_features\": 20480, \"out_features\": 256}},\n",
    "        {\"class\": \"ReLU\", \"kargs\": {\"inplace\": True}},\n",
    "        {\"class\": \"BatchNorm1d\", \"kargs\": {\"num_features\": 256}},\n",
    "        {\"class\": \"Linear\", \"kargs\": {\"in_features\": 256, \"out_features\": 256}},\n",
    "    ],\n",
    "    \"NUM_LOGS_PER_EPOCH\": 10,\n",
    "    \"BEST_MODEL_PATH\": \"./best_model.pth\",\n",
    "    \"pickle_name\": \"oracle.Run2_framed_2000Examples_stratified_ds.2022A.pkl\",\n",
    "    \"x_transforms_source\": [],\n",
    "    \"x_transforms_target\": [],\n",
    "    \"dataset_seed\": 1337,\n",
    "    \"seed\": 1337,\n",
    "}\n"
   ]
  },
  {
   "cell_type": "code",
   "execution_count": 5,
   "id": "8fa1cc33",
   "metadata": {
    "execution": {
     "iopub.execute_input": "2022-03-26T12:47:24.006268Z",
     "iopub.status.busy": "2022-03-26T12:47:24.005572Z",
     "iopub.status.idle": "2022-03-26T12:47:24.026754Z",
     "shell.execute_reply": "2022-03-26T12:47:24.026029Z"
    },
    "papermill": {
     "duration": 0.042976,
     "end_time": "2022-03-26T12:47:24.026908",
     "exception": false,
     "start_time": "2022-03-26T12:47:23.983932",
     "status": "completed"
    },
    "tags": []
   },
   "outputs": [],
   "source": [
    "# Set this to True if you want to run this template directly\n",
    "STANDALONE = False\n",
    "if STANDALONE:\n",
    "    print(\"parameters not injected, running with standalone_parameters\")\n",
    "    parameters = standalone_parameters\n",
    "\n",
    "if not 'parameters' in locals() and not 'parameters' in globals():\n",
    "    raise Exception(\"Parameter injection failed\")\n",
    "\n",
    "#Use an easy dict for all the parameters\n",
    "p = EasyDict(parameters)\n",
    "\n",
    "supplied_keys = set(p.keys())\n",
    "\n",
    "if  supplied_keys != required_parameters:\n",
    "    print(\"Parameters are incorrect\")\n",
    "    if len(supplied_keys - required_parameters)>0: print(\"Shouldn't have:\", str(supplied_keys - required_parameters))\n",
    "    if len(required_parameters - supplied_keys)>0: print(\"Need to have:\", str(required_parameters - supplied_keys))\n",
    "    raise RuntimeError(\"Parameters are incorrect\")\n",
    "\n"
   ]
  },
  {
   "cell_type": "code",
   "execution_count": 6,
   "id": "3a028d58",
   "metadata": {
    "execution": {
     "iopub.execute_input": "2022-03-26T12:47:24.066270Z",
     "iopub.status.busy": "2022-03-26T12:47:24.065752Z",
     "iopub.status.idle": "2022-03-26T12:47:24.087816Z",
     "shell.execute_reply": "2022-03-26T12:47:24.086977Z"
    },
    "papermill": {
     "duration": 0.040846,
     "end_time": "2022-03-26T12:47:24.087970",
     "exception": false,
     "start_time": "2022-03-26T12:47:24.047124",
     "status": "completed"
    },
    "tags": []
   },
   "outputs": [],
   "source": [
    "###################################\n",
    "# Set the RNGs and make it all deterministic\n",
    "###################################\n",
    "np.random.seed(p.seed)\n",
    "random.seed(p.seed)\n",
    "torch.manual_seed(p.seed)\n",
    "\n",
    "torch.use_deterministic_algorithms(True) "
   ]
  },
  {
   "cell_type": "code",
   "execution_count": 7,
   "id": "b691acf6",
   "metadata": {
    "execution": {
     "iopub.execute_input": "2022-03-26T12:47:24.131568Z",
     "iopub.status.busy": "2022-03-26T12:47:24.130478Z",
     "iopub.status.idle": "2022-03-26T12:47:24.152526Z",
     "shell.execute_reply": "2022-03-26T12:47:24.151781Z"
    },
    "papermill": {
     "duration": 0.040781,
     "end_time": "2022-03-26T12:47:24.152679",
     "exception": false,
     "start_time": "2022-03-26T12:47:24.111898",
     "status": "completed"
    },
    "tags": []
   },
   "outputs": [],
   "source": [
    "###########################################\n",
    "# The stratified datasets honor this\n",
    "###########################################\n",
    "torch.set_default_dtype(eval(p.torch_default_dtype))"
   ]
  },
  {
   "cell_type": "code",
   "execution_count": 8,
   "id": "b5fba671",
   "metadata": {
    "execution": {
     "iopub.execute_input": "2022-03-26T12:47:24.191354Z",
     "iopub.status.busy": "2022-03-26T12:47:24.190977Z",
     "iopub.status.idle": "2022-03-26T12:47:24.246173Z",
     "shell.execute_reply": "2022-03-26T12:47:24.245358Z"
    },
    "papermill": {
     "duration": 0.074305,
     "end_time": "2022-03-26T12:47:24.246327",
     "exception": false,
     "start_time": "2022-03-26T12:47:24.172022",
     "status": "completed"
    },
    "tags": []
   },
   "outputs": [],
   "source": [
    "###################################\n",
    "# Build the network(s)\n",
    "# Note: It's critical to do this AFTER setting the RNG\n",
    "# (This is due to the randomized initial weights)\n",
    "###################################\n",
    "x_net = build_sequential(p.x_net)"
   ]
  },
  {
   "cell_type": "code",
   "execution_count": 9,
   "id": "5d7e61cc",
   "metadata": {
    "execution": {
     "iopub.execute_input": "2022-03-26T12:47:24.286447Z",
     "iopub.status.busy": "2022-03-26T12:47:24.286080Z",
     "iopub.status.idle": "2022-03-26T12:47:24.311239Z",
     "shell.execute_reply": "2022-03-26T12:47:24.310527Z"
    },
    "papermill": {
     "duration": 0.044562,
     "end_time": "2022-03-26T12:47:24.311390",
     "exception": false,
     "start_time": "2022-03-26T12:47:24.266828",
     "status": "completed"
    },
    "tags": []
   },
   "outputs": [],
   "source": [
    "start_time_secs = time.time()"
   ]
  },
  {
   "cell_type": "code",
   "execution_count": 10,
   "id": "fd5442bc",
   "metadata": {
    "execution": {
     "iopub.execute_input": "2022-03-26T12:47:24.360404Z",
     "iopub.status.busy": "2022-03-26T12:47:24.359804Z",
     "iopub.status.idle": "2022-03-26T12:47:27.000357Z",
     "shell.execute_reply": "2022-03-26T12:47:26.999593Z"
    },
    "papermill": {
     "duration": 2.669227,
     "end_time": "2022-03-26T12:47:27.000568",
     "exception": false,
     "start_time": "2022-03-26T12:47:24.331341",
     "status": "completed"
    },
    "tags": []
   },
   "outputs": [],
   "source": [
    "###################################\n",
    "# Build the dataset\n",
    "###################################\n",
    "\n",
    "if p.x_transforms_source == []: x_transform_source = None\n",
    "else: x_transform_source = get_chained_transform(p.x_transforms_source) \n",
    "\n",
    "if p.x_transforms_target == []: x_transform_target = None\n",
    "else: x_transform_target = get_chained_transform(p.x_transforms_target)\n",
    "\n",
    "if p.episode_transforms_source == []: episode_transform_source = None\n",
    "else: raise Exception(\"episode_transform_source not implemented\")\n",
    "\n",
    "if p.episode_transforms_target == []: episode_transform_target = None\n",
    "else: raise Exception(\"episode_transform_target not implemented\")\n",
    "\n",
    "\n",
    "eaf_source = Episodic_Accessor_Factory(\n",
    "    labels=p.labels_source,\n",
    "    domains=p.domains_source,\n",
    "    num_examples_per_domain_per_label=p.num_examples_per_domain_per_label_source,\n",
    "    iterator_seed=p.seed,\n",
    "    dataset_seed=p.dataset_seed,\n",
    "    n_shot=p.n_shot,\n",
    "    n_way=p.n_way,\n",
    "    n_query=p.n_query,\n",
    "    train_val_test_k_factors=(p.train_k_factor,p.val_k_factor,p.test_k_factor),\n",
    "    pickle_path=os.path.join(get_datasets_base_path(), p.pickle_name),\n",
    "    x_transform_func=x_transform_source,\n",
    "    example_transform_func=episode_transform_source,\n",
    "    \n",
    ")\n",
    "train_original_source, val_original_source, test_original_source = eaf_source.get_train(), eaf_source.get_val(), eaf_source.get_test()\n",
    "\n",
    "\n",
    "eaf_target = Episodic_Accessor_Factory(\n",
    "    labels=p.labels_target,\n",
    "    domains=p.domains_target,\n",
    "    num_examples_per_domain_per_label=p.num_examples_per_domain_per_label_target,\n",
    "    iterator_seed=p.seed,\n",
    "    dataset_seed=p.dataset_seed,\n",
    "    n_shot=p.n_shot,\n",
    "    n_way=p.n_way,\n",
    "    n_query=p.n_query,\n",
    "    train_val_test_k_factors=(p.train_k_factor,p.val_k_factor,p.test_k_factor),\n",
    "    pickle_path=os.path.join(get_datasets_base_path(), p.pickle_name),\n",
    "    x_transform_func=x_transform_target,\n",
    "    example_transform_func=episode_transform_target,\n",
    ")\n",
    "train_original_target, val_original_target, test_original_target = eaf_target.get_train(), eaf_target.get_val(), eaf_target.get_test()\n",
    "\n",
    "\n",
    "transform_lambda = lambda ex: ex[1] # Original is (<domain>, <episode>) so we strip down to episode only\n",
    "\n",
    "train_processed_source = Lazy_Iterable_Wrapper(train_original_source, transform_lambda)\n",
    "val_processed_source   = Lazy_Iterable_Wrapper(val_original_source, transform_lambda)\n",
    "test_processed_source  = Lazy_Iterable_Wrapper(test_original_source, transform_lambda)\n",
    "\n",
    "train_processed_target = Lazy_Iterable_Wrapper(train_original_target, transform_lambda)\n",
    "val_processed_target   = Lazy_Iterable_Wrapper(val_original_target, transform_lambda)\n",
    "test_processed_target  = Lazy_Iterable_Wrapper(test_original_target, transform_lambda)\n",
    "\n",
    "datasets = EasyDict({\n",
    "    \"source\": {\n",
    "        \"original\": {\"train\":train_original_source, \"val\":val_original_source, \"test\":test_original_source},\n",
    "        \"processed\": {\"train\":train_processed_source, \"val\":val_processed_source, \"test\":test_processed_source}\n",
    "    },\n",
    "    \"target\": {\n",
    "        \"original\": {\"train\":train_original_target, \"val\":val_original_target, \"test\":test_original_target},\n",
    "        \"processed\": {\"train\":train_processed_target, \"val\":val_processed_target, \"test\":test_processed_target}\n",
    "    },\n",
    "})"
   ]
  },
  {
   "cell_type": "code",
   "execution_count": 11,
   "id": "296189d9",
   "metadata": {
    "execution": {
     "iopub.execute_input": "2022-03-26T12:47:27.056262Z",
     "iopub.status.busy": "2022-03-26T12:47:27.055385Z",
     "iopub.status.idle": "2022-03-26T12:47:32.873852Z",
     "shell.execute_reply": "2022-03-26T12:47:32.873053Z"
    },
    "papermill": {
     "duration": 5.853451,
     "end_time": "2022-03-26T12:47:32.874020",
     "exception": false,
     "start_time": "2022-03-26T12:47:27.020569",
     "status": "completed"
    },
    "tags": []
   },
   "outputs": [
    {
     "name": "stdout",
     "output_type": "stream",
     "text": [
      "Visually inspect these to see if they line up with expected values given the transforms\n",
      "x_transforms_source []\n",
      "x_transforms_target []\n",
      "Average magnitude, source: 0.0052035274\n",
      "Average power, source: 2.948795e-05\n"
     ]
    },
    {
     "name": "stdout",
     "output_type": "stream",
     "text": [
      "Average magnitude, target: 0.0031460458\n",
      "Average power, target: 1.0847478e-05\n"
     ]
    }
   ],
   "source": [
    "# Some quick unit tests on the data\n",
    "from steves_utils.transforms import get_average_power, get_average_magnitude\n",
    "\n",
    "q_x, q_y, s_x, s_y, truth = next(iter(train_processed_source))\n",
    "\n",
    "assert q_x.dtype == eval(p.torch_default_dtype)\n",
    "assert s_x.dtype == eval(p.torch_default_dtype)\n",
    "\n",
    "print(\"Visually inspect these to see if they line up with expected values given the transforms\")\n",
    "print('x_transforms_source', p.x_transforms_source)\n",
    "print('x_transforms_target', p.x_transforms_target)\n",
    "print(\"Average magnitude, source:\", get_average_magnitude(q_x[0].numpy()))\n",
    "print(\"Average power, source:\", get_average_power(q_x[0].numpy()))\n",
    "\n",
    "q_x, q_y, s_x, s_y, truth = next(iter(train_processed_target))\n",
    "print(\"Average magnitude, target:\", get_average_magnitude(q_x[0].numpy()))\n",
    "print(\"Average power, target:\", get_average_power(q_x[0].numpy()))\n"
   ]
  },
  {
   "cell_type": "code",
   "execution_count": 12,
   "id": "bbdacba1",
   "metadata": {
    "execution": {
     "iopub.execute_input": "2022-03-26T12:47:32.921290Z",
     "iopub.status.busy": "2022-03-26T12:47:32.920703Z",
     "iopub.status.idle": "2022-03-26T12:47:33.133394Z",
     "shell.execute_reply": "2022-03-26T12:47:33.133708Z"
    },
    "papermill": {
     "duration": 0.237172,
     "end_time": "2022-03-26T12:47:33.133819",
     "exception": false,
     "start_time": "2022-03-26T12:47:32.896647",
     "status": "completed"
    },
    "tags": []
   },
   "outputs": [
    {
     "name": "stdout",
     "output_type": "stream",
     "text": [
      "(2, 256)\n"
     ]
    }
   ],
   "source": [
    "###################################\n",
    "# Build the model\n",
    "###################################\n",
    "model = Steves_Prototypical_Network(x_net, device=p.device, x_shape=(2,256))\n",
    "optimizer = Adam(params=model.parameters(), lr=p.lr)"
   ]
  },
  {
   "cell_type": "code",
   "execution_count": 13,
   "id": "22b39ac5",
   "metadata": {
    "execution": {
     "iopub.execute_input": "2022-03-26T12:47:33.172033Z",
     "iopub.status.busy": "2022-03-26T12:47:33.171653Z",
     "iopub.status.idle": "2022-03-26T12:57:35.374765Z",
     "shell.execute_reply": "2022-03-26T12:57:35.374369Z"
    },
    "papermill": {
     "duration": 602.224705,
     "end_time": "2022-03-26T12:57:35.374874",
     "exception": false,
     "start_time": "2022-03-26T12:47:33.150169",
     "status": "completed"
    },
    "tags": []
   },
   "outputs": [
    {
     "name": "stdout",
     "output_type": "stream",
     "text": [
      "epoch: 1, [batch: 1 / 2520], examples_per_second: 79.3582, train_label_loss: 2.6427, \n"
     ]
    },
    {
     "name": "stdout",
     "output_type": "stream",
     "text": [
      "epoch: 1, [batch: 252 / 2520], examples_per_second: 3862.7840, train_label_loss: 0.8971, \n"
     ]
    },
    {
     "name": "stdout",
     "output_type": "stream",
     "text": [
      "epoch: 1, [batch: 504 / 2520], examples_per_second: 4005.9497, train_label_loss: 0.9277, \n"
     ]
    },
    {
     "name": "stdout",
     "output_type": "stream",
     "text": [
      "epoch: 1, [batch: 756 / 2520], examples_per_second: 4227.6878, train_label_loss: 0.5732, \n"
     ]
    },
    {
     "name": "stdout",
     "output_type": "stream",
     "text": [
      "epoch: 1, [batch: 1008 / 2520], examples_per_second: 4161.2473, train_label_loss: 0.3419, \n"
     ]
    },
    {
     "name": "stdout",
     "output_type": "stream",
     "text": [
      "epoch: 1, [batch: 1260 / 2520], examples_per_second: 4443.6125, train_label_loss: 0.1037, \n"
     ]
    },
    {
     "name": "stdout",
     "output_type": "stream",
     "text": [
      "epoch: 1, [batch: 1512 / 2520], examples_per_second: 4019.0361, train_label_loss: 0.3059, \n"
     ]
    },
    {
     "name": "stdout",
     "output_type": "stream",
     "text": [
      "epoch: 1, [batch: 1764 / 2520], examples_per_second: 3902.7264, train_label_loss: 0.2922, \n"
     ]
    },
    {
     "name": "stdout",
     "output_type": "stream",
     "text": [
      "epoch: 1, [batch: 2016 / 2520], examples_per_second: 4072.9348, train_label_loss: 0.2483, \n"
     ]
    },
    {
     "name": "stdout",
     "output_type": "stream",
     "text": [
      "epoch: 1, [batch: 2268 / 2520], examples_per_second: 3930.3030, train_label_loss: 0.0391, \n"
     ]
    },
    {
     "name": "stdout",
     "output_type": "stream",
     "text": [
      "=============================================================\n",
      "epoch: 1, source_val_acc_label: 0.7343, target_val_acc_label: 0.5753, source_val_label_loss: 18.8579, target_val_label_loss: 48.6441, \n",
      "=============================================================\n"
     ]
    },
    {
     "name": "stdout",
     "output_type": "stream",
     "text": [
      "New best\n"
     ]
    },
    {
     "name": "stdout",
     "output_type": "stream",
     "text": [
      "epoch: 2, [batch: 1 / 2520], examples_per_second: 8.4258, train_label_loss: 30.7229, \n"
     ]
    },
    {
     "name": "stdout",
     "output_type": "stream",
     "text": [
      "epoch: 2, [batch: 252 / 2520], examples_per_second: 3857.1791, train_label_loss: 1.2419, \n"
     ]
    },
    {
     "name": "stdout",
     "output_type": "stream",
     "text": [
      "epoch: 2, [batch: 504 / 2520], examples_per_second: 4064.4966, train_label_loss: 1.8051, \n"
     ]
    },
    {
     "name": "stdout",
     "output_type": "stream",
     "text": [
      "epoch: 2, [batch: 756 / 2520], examples_per_second: 4293.0800, train_label_loss: 2.0230, \n"
     ]
    },
    {
     "name": "stdout",
     "output_type": "stream",
     "text": [
      "epoch: 2, [batch: 1008 / 2520], examples_per_second: 4326.7504, train_label_loss: 16.4577, \n"
     ]
    },
    {
     "name": "stdout",
     "output_type": "stream",
     "text": [
      "epoch: 2, [batch: 1260 / 2520], examples_per_second: 4524.5131, train_label_loss: 1.6199, \n"
     ]
    },
    {
     "name": "stdout",
     "output_type": "stream",
     "text": [
      "epoch: 2, [batch: 1512 / 2520], examples_per_second: 3941.0938, train_label_loss: 1.2735, \n"
     ]
    },
    {
     "name": "stdout",
     "output_type": "stream",
     "text": [
      "epoch: 2, [batch: 1764 / 2520], examples_per_second: 3887.2925, train_label_loss: 0.1123, \n"
     ]
    },
    {
     "name": "stdout",
     "output_type": "stream",
     "text": [
      "epoch: 2, [batch: 2016 / 2520], examples_per_second: 3912.8981, train_label_loss: 2.7426, \n"
     ]
    },
    {
     "name": "stdout",
     "output_type": "stream",
     "text": [
      "epoch: 2, [batch: 2268 / 2520], examples_per_second: 3908.9071, train_label_loss: 2.0623, \n"
     ]
    },
    {
     "name": "stdout",
     "output_type": "stream",
     "text": [
      "=============================================================\n",
      "epoch: 2, source_val_acc_label: 0.8359, target_val_acc_label: 0.6129, source_val_label_loss: 15.2549, target_val_label_loss: 248.4883, \n",
      "=============================================================\n"
     ]
    },
    {
     "name": "stdout",
     "output_type": "stream",
     "text": [
      "New best\n"
     ]
    },
    {
     "name": "stdout",
     "output_type": "stream",
     "text": [
      "epoch: 3, [batch: 1 / 2520], examples_per_second: 8.5692, train_label_loss: 34.8862, \n"
     ]
    },
    {
     "name": "stdout",
     "output_type": "stream",
     "text": [
      "epoch: 3, [batch: 252 / 2520], examples_per_second: 4036.1170, train_label_loss: 20.9493, \n"
     ]
    },
    {
     "name": "stdout",
     "output_type": "stream",
     "text": [
      "epoch: 3, [batch: 504 / 2520], examples_per_second: 4278.8241, train_label_loss: 1.8401, \n"
     ]
    },
    {
     "name": "stdout",
     "output_type": "stream",
     "text": [
      "epoch: 3, [batch: 756 / 2520], examples_per_second: 4547.1089, train_label_loss: 0.0384, \n"
     ]
    },
    {
     "name": "stdout",
     "output_type": "stream",
     "text": [
      "epoch: 3, [batch: 1008 / 2520], examples_per_second: 4536.4583, train_label_loss: 5.0902, \n"
     ]
    },
    {
     "name": "stdout",
     "output_type": "stream",
     "text": [
      "epoch: 3, [batch: 1260 / 2520], examples_per_second: 4941.6810, train_label_loss: 0.1230, \n"
     ]
    },
    {
     "name": "stdout",
     "output_type": "stream",
     "text": [
      "epoch: 3, [batch: 1512 / 2520], examples_per_second: 4753.8397, train_label_loss: 0.6327, \n"
     ]
    },
    {
     "name": "stdout",
     "output_type": "stream",
     "text": [
      "epoch: 3, [batch: 1764 / 2520], examples_per_second: 4536.2624, train_label_loss: 4.3328, \n"
     ]
    },
    {
     "name": "stdout",
     "output_type": "stream",
     "text": [
      "epoch: 3, [batch: 2016 / 2520], examples_per_second: 4601.5784, train_label_loss: 4.1145, \n"
     ]
    },
    {
     "name": "stdout",
     "output_type": "stream",
     "text": [
      "epoch: 3, [batch: 2268 / 2520], examples_per_second: 4679.3694, train_label_loss: 11.9027, \n"
     ]
    },
    {
     "name": "stdout",
     "output_type": "stream",
     "text": [
      "=============================================================\n",
      "epoch: 3, source_val_acc_label: 0.8640, target_val_acc_label: 0.6932, source_val_label_loss: 10.9774, target_val_label_loss: 419.5118, \n",
      "=============================================================\n"
     ]
    },
    {
     "name": "stdout",
     "output_type": "stream",
     "text": [
      "New best\n"
     ]
    },
    {
     "name": "stdout",
     "output_type": "stream",
     "text": [
      "epoch: 4, [batch: 1 / 2520], examples_per_second: 9.5724, train_label_loss: 14.2648, \n"
     ]
    },
    {
     "name": "stdout",
     "output_type": "stream",
     "text": [
      "epoch: 4, [batch: 252 / 2520], examples_per_second: 4896.1902, train_label_loss: 21.5867, \n"
     ]
    },
    {
     "name": "stdout",
     "output_type": "stream",
     "text": [
      "epoch: 4, [batch: 504 / 2520], examples_per_second: 5064.4429, train_label_loss: 21.6638, \n"
     ]
    },
    {
     "name": "stdout",
     "output_type": "stream",
     "text": [
      "epoch: 4, [batch: 756 / 2520], examples_per_second: 4957.7000, train_label_loss: 9.2512, \n"
     ]
    },
    {
     "name": "stdout",
     "output_type": "stream",
     "text": [
      "epoch: 4, [batch: 1008 / 2520], examples_per_second: 4977.0732, train_label_loss: 0.7873, \n"
     ]
    },
    {
     "name": "stdout",
     "output_type": "stream",
     "text": [
      "epoch: 4, [batch: 1260 / 2520], examples_per_second: 5066.4480, train_label_loss: 0.0284, \n"
     ]
    },
    {
     "name": "stdout",
     "output_type": "stream",
     "text": [
      "epoch: 4, [batch: 1512 / 2520], examples_per_second: 5274.9411, train_label_loss: 0.6946, \n"
     ]
    },
    {
     "name": "stdout",
     "output_type": "stream",
     "text": [
      "epoch: 4, [batch: 1764 / 2520], examples_per_second: 4892.0838, train_label_loss: 15.6295, \n"
     ]
    },
    {
     "name": "stdout",
     "output_type": "stream",
     "text": [
      "epoch: 4, [batch: 2016 / 2520], examples_per_second: 4937.1248, train_label_loss: 7.3339, \n"
     ]
    },
    {
     "name": "stdout",
     "output_type": "stream",
     "text": [
      "epoch: 4, [batch: 2268 / 2520], examples_per_second: 4814.2237, train_label_loss: 80.7921, \n"
     ]
    },
    {
     "name": "stdout",
     "output_type": "stream",
     "text": [
      "=============================================================\n",
      "epoch: 4, source_val_acc_label: 0.9067, target_val_acc_label: 0.6892, source_val_label_loss: 36.7704, target_val_label_loss: 1914.7046, \n",
      "=============================================================\n"
     ]
    },
    {
     "name": "stdout",
     "output_type": "stream",
     "text": [
      "epoch: 5, [batch: 1 / 2520], examples_per_second: 11.4304, train_label_loss: 22.5542, \n"
     ]
    },
    {
     "name": "stdout",
     "output_type": "stream",
     "text": [
      "epoch: 5, [batch: 252 / 2520], examples_per_second: 5230.7572, train_label_loss: 20.6349, \n"
     ]
    },
    {
     "name": "stdout",
     "output_type": "stream",
     "text": [
      "epoch: 5, [batch: 504 / 2520], examples_per_second: 5639.1491, train_label_loss: 4.3970, \n"
     ]
    },
    {
     "name": "stdout",
     "output_type": "stream",
     "text": [
      "epoch: 5, [batch: 756 / 2520], examples_per_second: 5190.8294, train_label_loss: 0.3934, \n"
     ]
    },
    {
     "name": "stdout",
     "output_type": "stream",
     "text": [
      "epoch: 5, [batch: 1008 / 2520], examples_per_second: 5082.7540, train_label_loss: 8.1355, \n"
     ]
    },
    {
     "name": "stdout",
     "output_type": "stream",
     "text": [
      "epoch: 5, [batch: 1260 / 2520], examples_per_second: 5021.0029, train_label_loss: 0.5508, \n"
     ]
    },
    {
     "name": "stdout",
     "output_type": "stream",
     "text": [
      "epoch: 5, [batch: 1512 / 2520], examples_per_second: 5250.4666, train_label_loss: 0.1840, \n"
     ]
    },
    {
     "name": "stdout",
     "output_type": "stream",
     "text": [
      "epoch: 5, [batch: 1764 / 2520], examples_per_second: 4807.8714, train_label_loss: 48.1519, \n"
     ]
    },
    {
     "name": "stdout",
     "output_type": "stream",
     "text": [
      "epoch: 5, [batch: 2016 / 2520], examples_per_second: 5333.0313, train_label_loss: 13.7498, \n"
     ]
    },
    {
     "name": "stdout",
     "output_type": "stream",
     "text": [
      "epoch: 5, [batch: 2268 / 2520], examples_per_second: 5344.6707, train_label_loss: 0.9490, \n"
     ]
    },
    {
     "name": "stdout",
     "output_type": "stream",
     "text": [
      "=============================================================\n",
      "epoch: 5, source_val_acc_label: 0.9322, target_val_acc_label: 0.7312, source_val_label_loss: 27.8536, target_val_label_loss: 2680.4392, \n",
      "=============================================================\n"
     ]
    },
    {
     "name": "stdout",
     "output_type": "stream",
     "text": [
      "New best\n"
     ]
    },
    {
     "name": "stdout",
     "output_type": "stream",
     "text": [
      "epoch: 6, [batch: 1 / 2520], examples_per_second: 8.4680, train_label_loss: 0.2436, \n"
     ]
    },
    {
     "name": "stdout",
     "output_type": "stream",
     "text": [
      "epoch: 6, [batch: 252 / 2520], examples_per_second: 3908.5765, train_label_loss: 1.0317, \n"
     ]
    },
    {
     "name": "stdout",
     "output_type": "stream",
     "text": [
      "epoch: 6, [batch: 504 / 2520], examples_per_second: 3940.4815, train_label_loss: 24.9093, \n"
     ]
    },
    {
     "name": "stdout",
     "output_type": "stream",
     "text": [
      "epoch: 6, [batch: 756 / 2520], examples_per_second: 3912.7279, train_label_loss: 0.0000, \n"
     ]
    },
    {
     "name": "stdout",
     "output_type": "stream",
     "text": [
      "epoch: 6, [batch: 1008 / 2520], examples_per_second: 3904.6271, train_label_loss: 4.0891, \n"
     ]
    },
    {
     "name": "stdout",
     "output_type": "stream",
     "text": [
      "epoch: 6, [batch: 1260 / 2520], examples_per_second: 3949.0727, train_label_loss: 0.3191, \n"
     ]
    },
    {
     "name": "stdout",
     "output_type": "stream",
     "text": [
      "epoch: 6, [batch: 1512 / 2520], examples_per_second: 4118.2656, train_label_loss: 400.1328, \n"
     ]
    },
    {
     "name": "stdout",
     "output_type": "stream",
     "text": [
      "epoch: 6, [batch: 1764 / 2520], examples_per_second: 4418.4586, train_label_loss: 4.7018, \n"
     ]
    },
    {
     "name": "stdout",
     "output_type": "stream",
     "text": [
      "epoch: 6, [batch: 2016 / 2520], examples_per_second: 4428.4312, train_label_loss: 473.1667, \n"
     ]
    },
    {
     "name": "stdout",
     "output_type": "stream",
     "text": [
      "epoch: 6, [batch: 2268 / 2520], examples_per_second: 4842.4021, train_label_loss: 54.8160, \n"
     ]
    },
    {
     "name": "stdout",
     "output_type": "stream",
     "text": [
      "=============================================================\n",
      "epoch: 6, source_val_acc_label: 0.9161, target_val_acc_label: 0.7395, source_val_label_loss: 115.5995, target_val_label_loss: 7154.9209, \n",
      "=============================================================\n"
     ]
    },
    {
     "name": "stdout",
     "output_type": "stream",
     "text": [
      "New best\n"
     ]
    },
    {
     "name": "stdout",
     "output_type": "stream",
     "text": [
      "epoch: 7, [batch: 1 / 2520], examples_per_second: 8.6587, train_label_loss: 0.4091, \n"
     ]
    },
    {
     "name": "stdout",
     "output_type": "stream",
     "text": [
      "epoch: 7, [batch: 252 / 2520], examples_per_second: 3937.2147, train_label_loss: 200.6484, \n"
     ]
    },
    {
     "name": "stdout",
     "output_type": "stream",
     "text": [
      "epoch: 7, [batch: 504 / 2520], examples_per_second: 3881.6922, train_label_loss: 14.5358, \n"
     ]
    },
    {
     "name": "stdout",
     "output_type": "stream",
     "text": [
      "epoch: 7, [batch: 756 / 2520], examples_per_second: 3907.8123, train_label_loss: 139.8573, \n"
     ]
    },
    {
     "name": "stdout",
     "output_type": "stream",
     "text": [
      "epoch: 7, [batch: 1008 / 2520], examples_per_second: 3814.7478, train_label_loss: 286.3236, \n"
     ]
    },
    {
     "name": "stdout",
     "output_type": "stream",
     "text": [
      "epoch: 7, [batch: 1260 / 2520], examples_per_second: 3973.8899, train_label_loss: 69.5189, \n"
     ]
    },
    {
     "name": "stdout",
     "output_type": "stream",
     "text": [
      "epoch: 7, [batch: 1512 / 2520], examples_per_second: 4096.1625, train_label_loss: 0.0217, \n"
     ]
    },
    {
     "name": "stdout",
     "output_type": "stream",
     "text": [
      "epoch: 7, [batch: 1764 / 2520], examples_per_second: 4391.2081, train_label_loss: 157.6326, \n"
     ]
    },
    {
     "name": "stdout",
     "output_type": "stream",
     "text": [
      "epoch: 7, [batch: 2016 / 2520], examples_per_second: 4365.1633, train_label_loss: 0.7170, \n"
     ]
    },
    {
     "name": "stdout",
     "output_type": "stream",
     "text": [
      "epoch: 7, [batch: 2268 / 2520], examples_per_second: 4456.3807, train_label_loss: 458.6473, \n"
     ]
    },
    {
     "name": "stdout",
     "output_type": "stream",
     "text": [
      "=============================================================\n",
      "epoch: 7, source_val_acc_label: 0.9260, target_val_acc_label: 0.7394, source_val_label_loss: 122.5856, target_val_label_loss: 10590.6074, \n",
      "=============================================================\n"
     ]
    },
    {
     "name": "stdout",
     "output_type": "stream",
     "text": [
      "epoch: 8, [batch: 1 / 2520], examples_per_second: 8.4476, train_label_loss: 404.7771, \n"
     ]
    },
    {
     "name": "stdout",
     "output_type": "stream",
     "text": [
      "epoch: 8, [batch: 252 / 2520], examples_per_second: 3908.7023, train_label_loss: 4.4462, \n"
     ]
    },
    {
     "name": "stdout",
     "output_type": "stream",
     "text": [
      "epoch: 8, [batch: 504 / 2520], examples_per_second: 3896.6046, train_label_loss: 40.8462, \n"
     ]
    },
    {
     "name": "stdout",
     "output_type": "stream",
     "text": [
      "epoch: 8, [batch: 756 / 2520], examples_per_second: 3890.6387, train_label_loss: 0.2204, \n"
     ]
    },
    {
     "name": "stdout",
     "output_type": "stream",
     "text": [
      "epoch: 8, [batch: 1008 / 2520], examples_per_second: 3854.7811, train_label_loss: 59.7198, \n"
     ]
    },
    {
     "name": "stdout",
     "output_type": "stream",
     "text": [
      "epoch: 8, [batch: 1260 / 2520], examples_per_second: 3866.0236, train_label_loss: 25.3850, \n"
     ]
    },
    {
     "name": "stdout",
     "output_type": "stream",
     "text": [
      "epoch: 8, [batch: 1512 / 2520], examples_per_second: 4138.0238, train_label_loss: 58.3611, \n"
     ]
    },
    {
     "name": "stdout",
     "output_type": "stream",
     "text": [
      "epoch: 8, [batch: 1764 / 2520], examples_per_second: 4328.9285, train_label_loss: 0.0000, \n"
     ]
    },
    {
     "name": "stdout",
     "output_type": "stream",
     "text": [
      "epoch: 8, [batch: 2016 / 2520], examples_per_second: 4543.7067, train_label_loss: 61.3598, \n"
     ]
    },
    {
     "name": "stdout",
     "output_type": "stream",
     "text": [
      "epoch: 8, [batch: 2268 / 2520], examples_per_second: 4257.1603, train_label_loss: 80.9021, \n"
     ]
    },
    {
     "name": "stdout",
     "output_type": "stream",
     "text": [
      "=============================================================\n",
      "epoch: 8, source_val_acc_label: 0.9207, target_val_acc_label: 0.7136, source_val_label_loss: 242.5769, target_val_label_loss: 12281.9590, \n",
      "=============================================================\n"
     ]
    },
    {
     "name": "stdout",
     "output_type": "stream",
     "text": [
      "epoch: 9, [batch: 1 / 2520], examples_per_second: 8.4744, train_label_loss: 210.0502, \n"
     ]
    },
    {
     "name": "stdout",
     "output_type": "stream",
     "text": [
      "epoch: 9, [batch: 252 / 2520], examples_per_second: 4289.7042, train_label_loss: 466.0557, \n"
     ]
    },
    {
     "name": "stdout",
     "output_type": "stream",
     "text": [
      "epoch: 9, [batch: 504 / 2520], examples_per_second: 3964.1882, train_label_loss: 159.0804, \n"
     ]
    },
    {
     "name": "stdout",
     "output_type": "stream",
     "text": [
      "epoch: 9, [batch: 756 / 2520], examples_per_second: 3942.7286, train_label_loss: 0.9775, \n"
     ]
    },
    {
     "name": "stdout",
     "output_type": "stream",
     "text": [
      "epoch: 9, [batch: 1008 / 2520], examples_per_second: 3868.5049, train_label_loss: 0.2365, \n"
     ]
    },
    {
     "name": "stdout",
     "output_type": "stream",
     "text": [
      "epoch: 9, [batch: 1260 / 2520], examples_per_second: 3927.4465, train_label_loss: 12.6224, \n"
     ]
    },
    {
     "name": "stdout",
     "output_type": "stream",
     "text": [
      "epoch: 9, [batch: 1512 / 2520], examples_per_second: 4492.8274, train_label_loss: 0.0000, \n"
     ]
    },
    {
     "name": "stdout",
     "output_type": "stream",
     "text": [
      "epoch: 9, [batch: 1764 / 2520], examples_per_second: 4506.7969, train_label_loss: 231.6290, \n"
     ]
    },
    {
     "name": "stdout",
     "output_type": "stream",
     "text": [
      "epoch: 9, [batch: 2016 / 2520], examples_per_second: 4665.8504, train_label_loss: 616.9905, \n"
     ]
    },
    {
     "name": "stdout",
     "output_type": "stream",
     "text": [
      "epoch: 9, [batch: 2268 / 2520], examples_per_second: 4371.1000, train_label_loss: 1.8832, \n"
     ]
    },
    {
     "name": "stdout",
     "output_type": "stream",
     "text": [
      "=============================================================\n",
      "epoch: 9, source_val_acc_label: 0.9310, target_val_acc_label: 0.7389, source_val_label_loss: 100.9805, target_val_label_loss: 12244.3525, \n",
      "=============================================================\n"
     ]
    },
    {
     "name": "stdout",
     "output_type": "stream",
     "text": [
      "epoch: 10, [batch: 1 / 2520], examples_per_second: 8.4377, train_label_loss: 3.6798, \n"
     ]
    },
    {
     "name": "stdout",
     "output_type": "stream",
     "text": [
      "epoch: 10, [batch: 252 / 2520], examples_per_second: 3940.2783, train_label_loss: 153.8723, \n"
     ]
    },
    {
     "name": "stdout",
     "output_type": "stream",
     "text": [
      "epoch: 10, [batch: 504 / 2520], examples_per_second: 3988.6319, train_label_loss: 109.5043, \n"
     ]
    },
    {
     "name": "stdout",
     "output_type": "stream",
     "text": [
      "epoch: 10, [batch: 756 / 2520], examples_per_second: 4045.7939, train_label_loss: 0.5609, \n"
     ]
    },
    {
     "name": "stdout",
     "output_type": "stream",
     "text": [
      "epoch: 10, [batch: 1008 / 2520], examples_per_second: 3938.7255, train_label_loss: 91.7093, \n"
     ]
    },
    {
     "name": "stdout",
     "output_type": "stream",
     "text": [
      "epoch: 10, [batch: 1260 / 2520], examples_per_second: 3915.3718, train_label_loss: 33.6371, \n"
     ]
    },
    {
     "name": "stdout",
     "output_type": "stream",
     "text": [
      "epoch: 10, [batch: 1512 / 2520], examples_per_second: 4099.4974, train_label_loss: 155.8947, \n"
     ]
    },
    {
     "name": "stdout",
     "output_type": "stream",
     "text": [
      "epoch: 10, [batch: 1764 / 2520], examples_per_second: 4253.0591, train_label_loss: 0.0003, \n"
     ]
    },
    {
     "name": "stdout",
     "output_type": "stream",
     "text": [
      "epoch: 10, [batch: 2016 / 2520], examples_per_second: 4494.7387, train_label_loss: 1083.4362, \n"
     ]
    },
    {
     "name": "stdout",
     "output_type": "stream",
     "text": [
      "epoch: 10, [batch: 2268 / 2520], examples_per_second: 4236.4300, train_label_loss: 118.7470, \n"
     ]
    },
    {
     "name": "stdout",
     "output_type": "stream",
     "text": [
      "=============================================================\n",
      "epoch: 10, source_val_acc_label: 0.8928, target_val_acc_label: 0.7290, source_val_label_loss: 479.6601, target_val_label_loss: 18313.4629, \n",
      "=============================================================\n"
     ]
    },
    {
     "name": "stdout",
     "output_type": "stream",
     "text": [
      "Patience (3) exhausted\n"
     ]
    }
   ],
   "source": [
    "###################################\n",
    "# train\n",
    "###################################\n",
    "jig = PTN_Train_Eval_Test_Jig(model, p.BEST_MODEL_PATH, p.device)\n",
    "\n",
    "jig.train(\n",
    "    train_iterable=datasets.source.processed.train,\n",
    "    source_val_iterable=datasets.source.processed.val,\n",
    "    target_val_iterable=datasets.target.processed.val,\n",
    "    num_epochs=p.n_epoch,\n",
    "    num_logs_per_epoch=p.NUM_LOGS_PER_EPOCH,\n",
    "    patience=p.patience,\n",
    "    optimizer=optimizer,\n",
    "    criteria_for_best=p.criteria_for_best,\n",
    ")"
   ]
  },
  {
   "cell_type": "code",
   "execution_count": 14,
   "id": "31e8fabf",
   "metadata": {
    "execution": {
     "iopub.execute_input": "2022-03-26T12:57:35.479897Z",
     "iopub.status.busy": "2022-03-26T12:57:35.479360Z",
     "iopub.status.idle": "2022-03-26T12:57:35.510817Z",
     "shell.execute_reply": "2022-03-26T12:57:35.511479Z"
    },
    "papermill": {
     "duration": 0.087013,
     "end_time": "2022-03-26T12:57:35.511716",
     "exception": false,
     "start_time": "2022-03-26T12:57:35.424703",
     "status": "completed"
    },
    "tags": []
   },
   "outputs": [],
   "source": [
    "total_experiment_time_secs = time.time() - start_time_secs"
   ]
  },
  {
   "cell_type": "code",
   "execution_count": 15,
   "id": "87b9595b",
   "metadata": {
    "execution": {
     "iopub.execute_input": "2022-03-26T12:57:35.619954Z",
     "iopub.status.busy": "2022-03-26T12:57:35.619309Z",
     "iopub.status.idle": "2022-03-26T12:58:58.962222Z",
     "shell.execute_reply": "2022-03-26T12:58:58.961284Z"
    },
    "papermill": {
     "duration": 83.398341,
     "end_time": "2022-03-26T12:58:58.962418",
     "exception": false,
     "start_time": "2022-03-26T12:57:35.564077",
     "status": "completed"
    },
    "tags": []
   },
   "outputs": [],
   "source": [
    "###################################\n",
    "# Evaluate the model\n",
    "###################################\n",
    "source_test_label_accuracy, source_test_label_loss = jig.test(datasets.source.processed.test)\n",
    "target_test_label_accuracy, target_test_label_loss = jig.test(datasets.target.processed.test)\n",
    "\n",
    "source_val_label_accuracy, source_val_label_loss = jig.test(datasets.source.processed.val)\n",
    "target_val_label_accuracy, target_val_label_loss = jig.test(datasets.target.processed.val)\n",
    "\n",
    "history = jig.get_history()\n",
    "\n",
    "total_epochs_trained = len(history[\"epoch_indices\"])\n",
    "\n",
    "val_dl = Iterable_Aggregator((datasets.source.original.val,datasets.target.original.val))\n",
    "\n",
    "confusion = ptn_confusion_by_domain_over_dataloader(model, p.device, val_dl)\n",
    "per_domain_accuracy = per_domain_accuracy_from_confusion(confusion)\n",
    "\n",
    "# Add a key to per_domain_accuracy for if it was a source domain\n",
    "for domain, accuracy in per_domain_accuracy.items():\n",
    "    per_domain_accuracy[domain] = {\n",
    "        \"accuracy\": accuracy,\n",
    "        \"source?\": domain in p.domains_source\n",
    "    }\n",
    "\n",
    "# Do an independent accuracy assesment JUST TO BE SURE!\n",
    "# _source_test_label_accuracy = independent_accuracy_assesment(model, datasets.source.processed.test, p.device)\n",
    "# _target_test_label_accuracy = independent_accuracy_assesment(model, datasets.target.processed.test, p.device)\n",
    "# _source_val_label_accuracy = independent_accuracy_assesment(model, datasets.source.processed.val, p.device)\n",
    "# _target_val_label_accuracy = independent_accuracy_assesment(model, datasets.target.processed.val, p.device)\n",
    "\n",
    "# assert(_source_test_label_accuracy == source_test_label_accuracy)\n",
    "# assert(_target_test_label_accuracy == target_test_label_accuracy)\n",
    "# assert(_source_val_label_accuracy == source_val_label_accuracy)\n",
    "# assert(_target_val_label_accuracy == target_val_label_accuracy)\n",
    "\n",
    "experiment = {\n",
    "    \"experiment_name\": p.experiment_name,\n",
    "    \"parameters\": dict(p),\n",
    "    \"results\": {\n",
    "        \"source_test_label_accuracy\": source_test_label_accuracy,\n",
    "        \"source_test_label_loss\": source_test_label_loss,\n",
    "        \"target_test_label_accuracy\": target_test_label_accuracy,\n",
    "        \"target_test_label_loss\": target_test_label_loss,\n",
    "        \"source_val_label_accuracy\": source_val_label_accuracy,\n",
    "        \"source_val_label_loss\": source_val_label_loss,\n",
    "        \"target_val_label_accuracy\": target_val_label_accuracy,\n",
    "        \"target_val_label_loss\": target_val_label_loss,\n",
    "        \"total_epochs_trained\": total_epochs_trained,\n",
    "        \"total_experiment_time_secs\": total_experiment_time_secs,\n",
    "        \"confusion\": confusion,\n",
    "        \"per_domain_accuracy\": per_domain_accuracy,\n",
    "    },\n",
    "    \"history\": history,\n",
    "    \"dataset_metrics\": get_dataset_metrics(datasets, \"ptn\"),\n",
    "}"
   ]
  },
  {
   "cell_type": "code",
   "execution_count": 16,
   "id": "54a21829",
   "metadata": {
    "execution": {
     "iopub.execute_input": "2022-03-26T12:58:59.066913Z",
     "iopub.status.busy": "2022-03-26T12:58:59.066347Z",
     "iopub.status.idle": "2022-03-26T12:58:59.296735Z",
     "shell.execute_reply": "2022-03-26T12:58:59.297424Z"
    },
    "papermill": {
     "duration": 0.282182,
     "end_time": "2022-03-26T12:58:59.297636",
     "exception": false,
     "start_time": "2022-03-26T12:58:59.015454",
     "status": "completed"
    },
    "tags": []
   },
   "outputs": [
    {
     "data": {
      "image/png": "[encoded data removed]",
      "text/plain": [
       "<Figure size 1080x504 with 1 Axes>"
      ]
     },
     "metadata": {
      "needs_background": "light"
     },
     "output_type": "display_data"
    }
   ],
   "source": [
    "ax = get_loss_curve(experiment)\n",
    "plt.show()"
   ]
  },
  {
   "cell_type": "code",
   "execution_count": 17,
   "id": "fd8a0f60",
   "metadata": {
    "execution": {
     "iopub.execute_input": "2022-03-26T12:58:59.404775Z",
     "iopub.status.busy": "2022-03-26T12:58:59.404206Z",
     "iopub.status.idle": "2022-03-26T12:58:59.772666Z",
     "shell.execute_reply": "2022-03-26T12:58:59.772986Z"
    },
    "papermill": {
     "duration": 0.421811,
     "end_time": "2022-03-26T12:58:59.773109",
     "exception": false,
     "start_time": "2022-03-26T12:58:59.351298",
     "status": "completed"
    },
    "tags": []
   },
   "outputs": [
    {
     "data": {
      "text/plain": [
       "<AxesSubplot:title={'center':'Results'}>"
      ]
     },
     "execution_count": 17,
     "metadata": {},
     "output_type": "execute_result"
    },
    {
     "data": {
      "image/png": "[encoded data removed]",
      "text/plain": [
       "<Figure size 1080x504 with 1 Axes>"
      ]
     },
     "metadata": {
      "needs_background": "light"
     },
     "output_type": "display_data"
    }
   ],
   "source": [
    "get_results_table(experiment)"
   ]
  },
  {
   "cell_type": "code",
   "execution_count": 18,
   "id": "cf8dc689",
   "metadata": {
    "execution": {
     "iopub.execute_input": "2022-03-26T12:58:59.880608Z",
     "iopub.status.busy": "2022-03-26T12:58:59.880236Z",
     "iopub.status.idle": "2022-03-26T12:59:00.098188Z",
     "shell.execute_reply": "2022-03-26T12:59:00.097783Z"
    },
    "papermill": {
     "duration": 0.273083,
     "end_time": "2022-03-26T12:59:00.098280",
     "exception": false,
     "start_time": "2022-03-26T12:58:59.825197",
     "status": "completed"
    },
    "tags": []
   },
   "outputs": [
    {
     "data": {
      "text/plain": [
       "<AxesSubplot:title={'center':'Per Domain Validation Accuracy'}, xlabel='domain'>"
      ]
     },
     "execution_count": 18,
     "metadata": {},
     "output_type": "execute_result"
    },
    {
     "data": {
      "image/png": "[encoded data removed]",
      "text/plain": [
       "<Figure size 1080x504 with 1 Axes>"
      ]
     },
     "metadata": {
      "needs_background": "light"
     },
     "output_type": "display_data"
    }
   ],
   "source": [
    "get_domain_accuracies(experiment)"
   ]
  },
  {
   "cell_type": "code",
   "execution_count": 19,
   "id": "a74ae082",
   "metadata": {
    "execution": {
     "iopub.execute_input": "2022-03-26T12:59:00.207996Z",
     "iopub.status.busy": "2022-03-26T12:59:00.207606Z",
     "iopub.status.idle": "2022-03-26T12:59:00.233010Z",
     "shell.execute_reply": "2022-03-26T12:59:00.232627Z"
    },
    "papermill": {
     "duration": 0.081848,
     "end_time": "2022-03-26T12:59:00.233095",
     "exception": false,
     "start_time": "2022-03-26T12:59:00.151247",
     "status": "completed"
    },
    "tags": []
   },
   "outputs": [
    {
     "name": "stdout",
     "output_type": "stream",
     "text": [
      "Source Test Label Accuracy: 0.9197048611111112 Target Test Label Accuracy: 0.7359895833333333\n",
      "Source Val Label Accuracy: 0.9160590277777778 Target Val Label Accuracy: 0.7394791666666667\n"
     ]
    }
   ],
   "source": [
    "print(\"Source Test Label Accuracy:\", experiment[\"results\"][\"source_test_label_accuracy\"], \"Target Test Label Accuracy:\", experiment[\"results\"][\"target_test_label_accuracy\"])\n",
    "print(\"Source Val Label Accuracy:\", experiment[\"results\"][\"source_val_label_accuracy\"], \"Target Val Label Accuracy:\", experiment[\"results\"][\"target_val_label_accuracy\"])"
   ]
  },
  {
   "cell_type": "code",
   "execution_count": 20,
   "id": "dacca602",
   "metadata": {
    "execution": {
     "iopub.execute_input": "2022-03-26T12:59:00.342277Z",
     "iopub.status.busy": "2022-03-26T12:59:00.341902Z",
     "iopub.status.idle": "2022-03-26T12:59:00.367213Z",
     "shell.execute_reply": "2022-03-26T12:59:00.366872Z"
    },
    "papermill": {
     "duration": 0.081442,
     "end_time": "2022-03-26T12:59:00.367297",
     "exception": false,
     "start_time": "2022-03-26T12:59:00.285855",
     "status": "completed"
    },
    "tags": [
     "experiment_json"
    ]
   },
   "outputs": [
    {
     "data": {
      "text/plain": [
       "'{\"experiment_name\": \"tuned_1v2:oracle.run2.framed\", \"parameters\": {\"experiment_name\": \"tuned_1v2:oracle.run2.framed\", \"device\": \"cuda\", \"lr\": 0.0001, \"labels_source\": [\"3123D52\", \"3123D65\", \"3123D79\", \"3123D80\", \"3123D54\", \"3123D70\", \"3123D7B\", \"3123D89\", \"3123D58\", \"3123D76\", \"3123D7D\", \"3123EFE\", \"3123D64\", \"3123D78\", \"3123D7E\", \"3124E4A\"], \"labels_target\": [\"3123D52\", \"3123D65\", \"3123D79\", \"3123D80\", \"3123D54\", \"3123D70\", \"3123D7B\", \"3123D89\", \"3123D58\", \"3123D76\", \"3123D7D\", \"3123EFE\", \"3123D64\", \"3123D78\", \"3123D7E\", \"3124E4A\"], \"episode_transforms_source\": [], \"episode_transforms_target\": [], \"domains_source\": [8, 32, 50], \"domains_target\": [14, 20, 26, 38, 44], \"num_examples_per_domain_per_label_source\": -1, \"num_examples_per_domain_per_label_target\": -1, \"n_shot\": 3, \"n_way\": 16, \"n_query\": 2, \"train_k_factor\": 3, \"val_k_factor\": 2, \"test_k_factor\": 2, \"torch_default_dtype\": \"torch.float32\", \"n_epoch\": 50, \"patience\": 3, \"criteria_for_best\": \"target_accuracy\", \"x_net\": [{\"class\": \"nnReshape\", \"kargs\": {\"shape\": [-1, 1, 2, 256]}}, {\"class\": \"Conv2d\", \"kargs\": {\"in_channels\": 1, \"out_channels\": 256, \"kernel_size\": [1, 7], \"bias\": false, \"padding\": [0, 3]}}, {\"class\": \"ReLU\", \"kargs\": {\"inplace\": true}}, {\"class\": \"BatchNorm2d\", \"kargs\": {\"num_features\": 256}}, {\"class\": \"Conv2d\", \"kargs\": {\"in_channels\": 256, \"out_channels\": 80, \"kernel_size\": [2, 7], \"bias\": true, \"padding\": [0, 3]}}, {\"class\": \"ReLU\", \"kargs\": {\"inplace\": true}}, {\"class\": \"BatchNorm2d\", \"kargs\": {\"num_features\": 80}}, {\"class\": \"Flatten\", \"kargs\": {}}, {\"class\": \"Linear\", \"kargs\": {\"in_features\": 20480, \"out_features\": 256}}, {\"class\": \"ReLU\", \"kargs\": {\"inplace\": true}}, {\"class\": \"BatchNorm1d\", \"kargs\": {\"num_features\": 256}}, {\"class\": \"Linear\", \"kargs\": {\"in_features\": 256, \"out_features\": 256}}], \"NUM_LOGS_PER_EPOCH\": 10, \"BEST_MODEL_PATH\": \"./best_model.pth\", \"pickle_name\": \"oracle.Run2_framed_2000Examples_stratified_ds.2022A.pkl\", \"x_transforms_source\": [], \"x_transforms_target\": [], \"dataset_seed\": 1337, \"seed\": 1337}, \"results\": {\"source_test_label_accuracy\": 0.9197048611111112, \"source_test_label_loss\": 116.36267852783203, \"target_test_label_accuracy\": 0.7359895833333333, \"target_test_label_loss\": 6971.71826171875, \"source_val_label_accuracy\": 0.9160590277777778, \"source_val_label_loss\": 115.59951782226562, \"target_val_label_accuracy\": 0.7394791666666667, \"target_val_label_loss\": 7154.9208984375, \"total_epochs_trained\": 10, \"total_experiment_time_secs\": 611.2003915309906, \"confusion\": {\"8\": {\"15\": {\"15\": 235, \"12\": 3, \"2\": 2}, \"3\": {\"3\": 240}, \"6\": {\"6\": 219, \"14\": 11, \"4\": 10}, \"1\": {\"1\": 228, \"13\": 9, \"5\": 3}, \"8\": {\"8\": 237, \"11\": 3}, \"10\": {\"10\": 228, \"5\": 9, \"13\": 3}, \"9\": {\"9\": 240}, \"13\": {\"13\": 232, \"10\": 8}, \"12\": {\"12\": 236, \"2\": 3, \"15\": 1}, \"5\": {\"5\": 223, \"10\": 16, \"1\": 1}, \"0\": {\"0\": 239, \"6\": 1}, \"2\": {\"2\": 221, \"12\": 17, \"15\": 2}, \"11\": {\"8\": 71, \"11\": 169}, \"14\": {\"14\": 220, \"6\": 19, \"4\": 1}, \"7\": {\"7\": 219, \"4\": 21}, \"4\": {\"4\": 203, \"7\": 36, \"6\": 1}}, \"50\": {\"3\": {\"3\": 239, \"6\": 1}, \"15\": {\"15\": 229, \"6\": 10, \"5\": 1}, \"8\": {\"8\": 240}, \"4\": {\"4\": 203, \"5\": 23, \"7\": 14}, \"14\": {\"14\": 240}, \"0\": {\"0\": 231, \"2\": 9}, \"7\": {\"7\": 229, \"4\": 9, \"5\": 2}, \"6\": {\"6\": 220, \"15\": 9, \"5\": 11}, \"10\": {\"10\": 240}, \"5\": {\"5\": 163, \"4\": 54, \"7\": 8, \"6\": 14, \"15\": 1}, \"2\": {\"2\": 240}, \"12\": {\"12\": 237, \"11\": 2, \"9\": 1}, \"9\": {\"9\": 238, \"12\": 1, \"15\": 1}, \"1\": {\"1\": 240}, \"11\": {\"11\": 225, \"12\": 13, \"1\": 1, \"9\": 1}, \"13\": {\"13\": 238, \"1\": 2}}, \"32\": {\"5\": {\"8\": 3, \"5\": 202, \"15\": 30, \"14\": 3, \"2\": 2}, \"8\": {\"8\": 221, \"7\": 11, \"0\": 7, \"2\": 1}, \"11\": {\"11\": 129, \"4\": 57, \"13\": 50, \"0\": 3, \"3\": 1}, \"1\": {\"1\": 240}, \"10\": {\"10\": 239, \"12\": 1}, \"15\": {\"15\": 240}, \"3\": {\"3\": 239, \"13\": 1}, \"7\": {\"0\": 40, \"7\": 160, \"8\": 15, \"2\": 25}, \"4\": {\"11\": 9, \"4\": 230, \"0\": 1}, \"14\": {\"2\": 88, \"14\": 136, \"7\": 4, \"0\": 11, \"8\": 1}, \"9\": {\"9\": 236, \"11\": 2, \"12\": 2}, \"12\": {\"12\": 240}, \"6\": {\"6\": 240}, \"2\": {\"2\": 184, \"7\": 11, \"14\": 33, \"0\": 12}, \"0\": {\"0\": 185, \"7\": 21, \"8\": 12, \"2\": 18, \"14\": 2, \"4\": 2}, \"13\": {\"4\": 7, \"13\": 191, \"11\": 25, \"3\": 17}}, \"14\": {\"15\": {\"15\": 240}, \"3\": {\"3\": 221, \"7\": 17, \"6\": 1, \"2\": 1}, \"6\": {\"6\": 195, \"13\": 45}, \"1\": {\"1\": 240}, \"8\": {\"8\": 181, \"10\": 33, \"14\": 10, \"5\": 10, \"12\": 4, \"2\": 2}, \"10\": {\"12\": 4, \"4\": 43, \"0\": 38, \"8\": 48, \"2\": 7, \"9\": 9, \"5\": 5, \"10\": 65, \"3\": 12, \"13\": 1, \"6\": 6, \"14\": 2}, \"9\": {\"9\": 240}, \"13\": {\"13\": 190, \"6\": 50}, \"12\": {\"15\": 78, \"8\": 9, \"3\": 29, \"13\": 14, \"1\": 12, \"9\": 29, \"0\": 20, \"11\": 5, \"4\": 6, \"2\": 6, \"10\": 4, \"12\": 11, \"14\": 9, \"6\": 5, \"5\": 3}, \"5\": {\"5\": 108, \"14\": 80, \"2\": 42, \"10\": 5, \"8\": 5}, \"0\": {\"4\": 66, \"0\": 151, \"10\": 18, \"9\": 3, \"12\": 2}, \"2\": {\"7\": 43, \"14\": 66, \"8\": 17, \"5\": 45, \"2\": 56, \"10\": 9, \"12\": 3, \"3\": 1}, \"11\": {\"11\": 240}, \"14\": {\"5\": 86, \"10\": 5, \"14\": 73, \"2\": 51, \"8\": 25}, \"7\": {\"7\": 233, \"3\": 7}, \"4\": {\"4\": 214, \"0\": 22, \"10\": 4}}, \"20\": {\"3\": {\"15\": 19, \"3\": 71, \"4\": 43, \"9\": 28, \"2\": 37, \"7\": 30, \"5\": 12}, \"15\": {\"9\": 67, \"2\": 28, \"3\": 14, \"15\": 90, \"4\": 31, \"5\": 8, \"13\": 2}, \"8\": {\"14\": 33, \"8\": 206, \"0\": 1}, \"4\": {\"4\": 179, \"3\": 25, \"7\": 16, \"10\": 1, \"15\": 18, \"9\": 1}, \"14\": {\"14\": 189, \"8\": 50, \"5\": 1}, \"0\": {\"8\": 59, \"0\": 117, \"11\": 64}, \"7\": {\"7\": 189, \"4\": 23, \"3\": 20, \"6\": 4, \"9\": 3, \"15\": 1}, \"6\": {\"6\": 231, \"7\": 9}, \"10\": {\"12\": 59, \"13\": 12, \"10\": 164, \"6\": 5}, \"5\": {\"5\": 130, \"2\": 46, \"9\": 13, \"1\": 37, \"15\": 10, \"3\": 4}, \"2\": {\"5\": 64, \"9\": 34, \"2\": 113, \"15\": 13, \"3\": 15, \"1\": 1}, \"12\": {\"12\": 169, \"13\": 60, \"10\": 11}, \"9\": {\"9\": 91, \"15\": 51, \"2\": 56, \"3\": 29, \"5\": 10, \"4\": 3}, \"1\": {\"1\": 223, \"5\": 16, \"2\": 1}, \"11\": {\"11\": 216, \"0\": 19, \"8\": 5}, \"13\": {\"13\": 129, \"12\": 98, \"10\": 13}}, \"44\": {\"5\": {\"5\": 219, \"14\": 17, \"15\": 3, \"8\": 1}, \"8\": {\"8\": 206, \"0\": 27, \"5\": 3, \"15\": 4}, \"11\": {\"11\": 239, \"13\": 1}, \"1\": {\"1\": 239, \"2\": 1}, \"10\": {\"10\": 213, \"7\": 10, \"9\": 12, \"6\": 5}, \"15\": {\"15\": 215, \"8\": 7, \"5\": 11, \"0\": 7}, \"3\": {\"3\": 217, \"12\": 23}, \"7\": {\"7\": 177, \"9\": 63}, \"4\": {\"4\": 221, \"14\": 19}, \"14\": {\"14\": 215, \"4\": 22, \"5\": 3}, \"9\": {\"9\": 160, \"7\": 79, \"4\": 1}, \"12\": {\"12\": 223, \"3\": 17}, \"6\": {\"6\": 238, \"7\": 1, \"13\": 1}, \"2\": {\"2\": 240}, \"0\": {\"8\": 48, \"0\": 188, \"15\": 3, \"5\": 1}, \"13\": {\"13\": 215, \"6\": 17, \"4\": 5, \"7\": 3}}, \"38\": {\"14\": {\"14\": 136, \"4\": 1, \"13\": 4, \"2\": 50, \"7\": 30, \"12\": 4, \"10\": 8, \"3\": 1, \"5\": 4, \"8\": 2}, \"0\": {\"0\": 236, \"8\": 1, \"7\": 3}, \"13\": {\"13\": 165, \"10\": 26, \"3\": 49}, \"7\": {\"7\": 236, \"0\": 4}, \"9\": {\"9\": 240}, \"3\": {\"3\": 112, \"13\": 69, \"10\": 53, \"7\": 4, \"11\": 2}, \"11\": {\"11\": 231, \"3\": 6, \"10\": 2, \"13\": 1}, \"6\": {\"6\": 239, \"15\": 1}, \"8\": {\"8\": 220, \"5\": 19, \"0\": 1}, \"4\": {\"4\": 231, \"10\": 8, \"3\": 1}, \"5\": {\"5\": 136, \"8\": 87, \"9\": 17}, \"10\": {\"10\": 207, \"3\": 17, \"13\": 13, \"4\": 3}, \"1\": {\"1\": 228, \"15\": 11, \"6\": 1}, \"2\": {\"2\": 232, \"14\": 8}, \"15\": {\"6\": 26, \"15\": 161, \"1\": 50, \"9\": 3}, \"12\": {\"12\": 238, \"14\": 1, \"5\": 1}}, \"26\": {\"13\": {\"13\": 133, \"7\": 44, \"12\": 22, \"3\": 31, \"9\": 8, \"2\": 2}, \"2\": {\"2\": 147, \"8\": 48, \"7\": 3, \"9\": 41, \"10\": 1}, \"8\": {\"9\": 54, \"8\": 109, \"2\": 72, \"10\": 2, \"15\": 3}, \"9\": {\"9\": 86, \"7\": 8, \"8\": 84, \"2\": 50, \"10\": 2, \"12\": 2, \"13\": 8}, \"12\": {\"12\": 231, \"13\": 6, \"9\": 2, \"2\": 1}, \"4\": {\"4\": 240}, \"3\": {\"3\": 196, \"7\": 36, \"13\": 8}, \"15\": {\"10\": 27, \"15\": 117, \"14\": 11, \"0\": 74, \"9\": 4, \"8\": 6, \"2\": 1}, \"14\": {\"14\": 117, \"10\": 36, \"6\": 31, \"5\": 30, \"0\": 23, \"15\": 3}, \"10\": {\"10\": 51, \"0\": 46, \"8\": 20, \"15\": 49, \"1\": 4, \"14\": 45, \"9\": 4, \"11\": 1, \"5\": 8, \"6\": 10, \"2\": 2}, \"7\": {\"13\": 40, \"7\": 107, \"3\": 62, \"9\": 11, \"2\": 15, \"8\": 4, \"12\": 1}, \"11\": {\"11\": 237, \"6\": 3}, \"6\": {\"6\": 177, \"5\": 55, \"14\": 5, \"1\": 2, \"10\": 1}, \"1\": {\"1\": 235, \"5\": 4, \"6\": 1}, \"5\": {\"5\": 61, \"1\": 67, \"6\": 78, \"14\": 30, \"10\": 4}, \"0\": {\"14\": 12, \"10\": 46, \"0\": 116, \"15\": 64, \"9\": 1, \"8\": 1}}}, \"per_domain_accuracy\": {\"8\": {\"accuracy\": 0.9346354166666667, \"source?\": true}, \"50\": {\"accuracy\": 0.9510416666666667, \"source?\": true}, \"32\": {\"accuracy\": 0.8625, \"source?\": true}, \"14\": {\"accuracy\": 0.6921875, \"source?\": false}, \"20\": {\"accuracy\": 0.6528645833333333, \"source?\": false}, \"44\": {\"accuracy\": 0.8919270833333334, \"source?\": false}, \"38\": {\"accuracy\": 0.8458333333333333, \"source?\": false}, \"26\": {\"accuracy\": 0.6145833333333334, \"source?\": false}}}, \"history\": {\"epoch_indices\": [1, 2, 3, 4, 5, 6, 7, 8, 9, 10], \"train_label_loss\": [0.3621828191836054, 4.351215105639604, 7.381384648266352, 16.239900047490647, 31.719801267688307, 81.32394966947832, 118.10417747562737, 84.95080433638876, 109.24691150990739, 117.2609077348353], \"source_val_label_loss\": [18.857887268066406, 15.254850387573242, 10.977437973022461, 36.77042007446289, 27.853641510009766, 115.59951782226562, 122.58564758300781, 242.57688903808594, 100.98052215576172, 479.6601257324219], \"target_val_label_loss\": [48.644073486328125, 248.48831176757812, 419.51177978515625, 1914.70458984375, 2680.439208984375, 7154.9208984375, 10590.607421875, 12281.958984375, 12244.3525390625, 18313.462890625], \"source_val_acc_label\": [0.7342881944444445, 0.8359375, 0.8639756944444444, 0.9066840277777778, 0.9322048611111111, 0.9160590277777778, 0.9259548611111111, 0.9207465277777778, 0.9309895833333334, 0.8927951388888888], \"target_val_acc_label\": [0.5753125, 0.6128645833333334, 0.6932291666666667, 0.68921875, 0.7311979166666667, 0.7394791666666667, 0.739375, 0.71359375, 0.73890625, 0.7289583333333334]}, \"dataset_metrics\": {\"source\": {\"train\": {\"n_unique_x\": 67200, \"n_unique_y\": 16, \"n_batch/episode\": 2520}, \"val\": {\"n_unique_x\": 14400, \"n_unique_y\": 16, \"n_batch/episode\": 360}, \"test\": {\"n_unique_x\": 14400, \"n_unique_y\": 16, \"n_batch/episode\": 360}}, \"target\": {\"train\": {\"n_unique_x\": 112000, \"n_unique_y\": 16, \"n_batch/episode\": 4200}, \"val\": {\"n_unique_x\": 24000, \"n_unique_y\": 16, \"n_batch/episode\": 600}, \"test\": {\"n_unique_x\": 24000, \"n_unique_y\": 16, \"n_batch/episode\": 600}}}}'"
      ]
     },
     "execution_count": 20,
     "metadata": {},
     "output_type": "execute_result"
    }
   ],
   "source": [
    "json.dumps(experiment)"
   ]
  }
 ],
 "metadata": {
  "celltoolbar": "Tags",
  "kernelspec": {
   "display_name": "Python 3 (ipykernel)",
   "language": "python",
   "name": "python3"
  },
  "language_info": {
   "codemirror_mode": {
    "name": "ipython",
    "version": 3
   },
   "file_extension": ".py",
   "mimetype": "text/x-python",
   "name": "python",
   "nbconvert_exporter": "python",
   "pygments_lexer": "ipython3",
   "version": "3.8.12"
  },
  "papermill": {
   "default_parameters": {},
   "duration": 701.611955,
   "end_time": "2022-03-26T12:59:02.237018",
   "environment_variables": {},
   "exception": null,
   "input_path": "/root/csc500-main/csc500-notebooks/templates/ptn_template.ipynb",
   "output_path": "trial.ipynb",
   "parameters": {
    "parameters": {
     "BEST_MODEL_PATH": "./best_model.pth",
     "NUM_LOGS_PER_EPOCH": 10,
     "criteria_for_best": "target_accuracy",
     "dataset_seed": 1337,
     "device": "cuda",
     "domains_source": [
      8,
      32,
      50
     ],
     "domains_target": [
      14,
      20,
      26,
      38,
      44
     ],
     "episode_transforms_source": [],
     "episode_transforms_target": [],
     "experiment_name": "tuned_1v2:oracle.run2.framed",
     "labels_source": [
      "3123D52",
      "3123D65",
      "3123D79",
      "3123D80",
      "3123D54",
      "3123D70",
      "3123D7B",
      "3123D89",
      "3123D58",
      "3123D76",
      "3123D7D",
      "3123EFE",
      "3123D64",
      "3123D78",
      "3123D7E",
      "3124E4A"
     ],
     "labels_target": [
      "3123D52",
      "3123D65",
      "3123D79",
      "3123D80",
      "3123D54",
      "3123D70",
      "3123D7B",
      "3123D89",
      "3123D58",
      "3123D76",
      "3123D7D",
      "3123EFE",
      "3123D64",
      "3123D78",
      "3123D7E",
      "3124E4A"
     ],
     "lr": 0.0001,
     "n_epoch": 50,
     "n_query": 2,
     "n_shot": 3,
     "n_way": 16,
     "num_examples_per_domain_per_label_source": -1,
     "num_examples_per_domain_per_label_target": -1,
     "patience": 3,
     "pickle_name": "oracle.Run2_framed_2000Examples_stratified_ds.2022A.pkl",
     "seed": 1337,
     "test_k_factor": 2,
     "torch_default_dtype": "torch.float32",
     "train_k_factor": 3,
     "val_k_factor": 2,
     "x_net": [
      {
       "class": "nnReshape",
       "kargs": {
        "shape": [
         -1,
         1,
         2,
         256
        ]
       }
      },
      {
       "class": "Conv2d",
       "kargs": {
        "bias": false,
        "in_channels": 1,
        "kernel_size": [
         1,
         7
        ],
        "out_channels": 256,
        "padding": [
         0,
         3
        ]
       }
      },
      {
       "class": "ReLU",
       "kargs": {
        "inplace": true
       }
      },
      {
       "class": "BatchNorm2d",
       "kargs": {
        "num_features": 256
       }
      },
      {
       "class": "Conv2d",
       "kargs": {
        "bias": true,
        "in_channels": 256,
        "kernel_size": [
         2,
         7
        ],
        "out_channels": 80,
        "padding": [
         0,
         3
        ]
       }
      },
      {
       "class": "ReLU",
       "kargs": {
        "inplace": true
       }
      },
      {
       "class": "BatchNorm2d",
       "kargs": {
        "num_features": 80
       }
      },
      {
       "class": "Flatten",
       "kargs": {}
      },
      {
       "class": "Linear",
       "kargs": {
        "in_features": 20480,
        "out_features": 256
       }
      },
      {
       "class": "ReLU",
       "kargs": {
        "inplace": true
       }
      },
      {
       "class": "BatchNorm1d",
       "kargs": {
        "num_features": 256
       }
      },
      {
       "class": "Linear",
       "kargs": {
        "in_features": 256,
        "out_features": 256
       }
      }
     ],
     "x_transforms_source": [],
     "x_transforms_target": []
    }
   },
   "start_time": "2022-03-26T12:47:20.625063",
   "version": "2.3.4"
  }
 },
 "nbformat": 4,
 "nbformat_minor": 5
}