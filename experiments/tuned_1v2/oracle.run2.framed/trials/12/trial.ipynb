{
 "cells": [
  {
   "cell_type": "markdown",
   "id": "9fea5f46",
   "metadata": {
    "papermill": {
     "duration": 0.024677,
     "end_time": "2022-03-26T14:07:03.638558",
     "exception": false,
     "start_time": "2022-03-26T14:07:03.613881",
     "status": "completed"
    },
    "tags": []
   },
   "source": [
    "# PTN Template\n",
    "This notebook serves as a template for single dataset PTN experiments  \n",
    "It can be run on its own by setting STANDALONE to True (do a find for \"STANDALONE\" to see where)  \n",
    "But it is intended to be executed as part of a *papermill.py script. See any of the   \n",
    "experimentes with a papermill script to get started with that workflow.  "
   ]
  },
  {
   "cell_type": "code",
   "execution_count": 1,
   "id": "0902182a",
   "metadata": {
    "execution": {
     "iopub.execute_input": "2022-03-26T14:07:03.691255Z",
     "iopub.status.busy": "2022-03-26T14:07:03.682097Z",
     "iopub.status.idle": "2022-03-26T14:07:05.508870Z",
     "shell.execute_reply": "2022-03-26T14:07:05.508027Z"
    },
    "papermill": {
     "duration": 1.85378,
     "end_time": "2022-03-26T14:07:05.509067",
     "exception": false,
     "start_time": "2022-03-26T14:07:03.655287",
     "status": "completed"
    },
    "tags": []
   },
   "outputs": [],
   "source": [
    "%load_ext autoreload\n",
    "%autoreload 2\n",
    "%matplotlib inline\n",
    "\n",
    "    \n",
    "import os, json, sys, time, random\n",
    "import numpy as np\n",
    "import torch\n",
    "from torch.optim import Adam\n",
    "from  easydict import EasyDict\n",
    "import matplotlib.pyplot as plt\n",
    "\n",
    "from steves_models.steves_ptn import Steves_Prototypical_Network\n",
    "\n",
    "from steves_utils.lazy_iterable_wrapper import Lazy_Iterable_Wrapper\n",
    "from steves_utils.iterable_aggregator import Iterable_Aggregator\n",
    "from steves_utils.ptn_train_eval_test_jig import  PTN_Train_Eval_Test_Jig\n",
    "from steves_utils.torch_sequential_builder import build_sequential\n",
    "from steves_utils.torch_utils import get_dataset_metrics, ptn_confusion_by_domain_over_dataloader\n",
    "from steves_utils.utils_v2 import (per_domain_accuracy_from_confusion, get_datasets_base_path)\n",
    "from steves_utils.PTN.utils import independent_accuracy_assesment\n",
    "\n",
    "from steves_utils.stratified_dataset.episodic_accessor import Episodic_Accessor_Factory\n",
    "\n",
    "from steves_utils.ptn_do_report import (\n",
    "    get_loss_curve,\n",
    "    get_results_table,\n",
    "    get_parameters_table,\n",
    "    get_domain_accuracies,\n",
    ")\n",
    "\n",
    "from steves_utils.transforms import get_chained_transform"
   ]
  },
  {
   "cell_type": "markdown",
   "id": "41c840b4",
   "metadata": {
    "papermill": {
     "duration": 0.01353,
     "end_time": "2022-03-26T14:07:05.540960",
     "exception": false,
     "start_time": "2022-03-26T14:07:05.527430",
     "status": "completed"
    },
    "tags": []
   },
   "source": [
    "# Required Parameters\n",
    "These are allowed parameters, not defaults\n",
    "Each of these values need to be present in the injected parameters (the notebook will raise an exception if they are not present)\n",
    "\n",
    "Papermill uses the cell tag \"parameters\" to inject the real parameters below this cell.\n",
    "Enable tags to see what I mean"
   ]
  },
  {
   "cell_type": "code",
   "execution_count": 2,
   "id": "fd44eb83",
   "metadata": {
    "execution": {
     "iopub.execute_input": "2022-03-26T14:07:05.573294Z",
     "iopub.status.busy": "2022-03-26T14:07:05.572912Z",
     "iopub.status.idle": "2022-03-26T14:07:05.595864Z",
     "shell.execute_reply": "2022-03-26T14:07:05.595143Z"
    },
    "papermill": {
     "duration": 0.041523,
     "end_time": "2022-03-26T14:07:05.596016",
     "exception": false,
     "start_time": "2022-03-26T14:07:05.554493",
     "status": "completed"
    },
    "tags": []
   },
   "outputs": [],
   "source": [
    "required_parameters = {\n",
    "    \"experiment_name\",\n",
    "    \"lr\",\n",
    "    \"device\",\n",
    "    \"seed\",\n",
    "    \"dataset_seed\",\n",
    "    \"labels_source\",\n",
    "    \"labels_target\",\n",
    "    \"domains_source\",\n",
    "    \"domains_target\",\n",
    "    \"num_examples_per_domain_per_label_source\",\n",
    "    \"num_examples_per_domain_per_label_target\",\n",
    "    \"n_shot\",\n",
    "    \"n_way\",\n",
    "    \"n_query\",\n",
    "    \"train_k_factor\",\n",
    "    \"val_k_factor\",\n",
    "    \"test_k_factor\",\n",
    "    \"n_epoch\",\n",
    "    \"patience\",\n",
    "    \"criteria_for_best\",\n",
    "    \"x_transforms_source\",\n",
    "    \"x_transforms_target\",\n",
    "    \"episode_transforms_source\",\n",
    "    \"episode_transforms_target\",\n",
    "    \"pickle_name\",\n",
    "    \"x_net\",\n",
    "    \"NUM_LOGS_PER_EPOCH\",\n",
    "    \"BEST_MODEL_PATH\",\n",
    "    \"torch_default_dtype\"\n",
    "}"
   ]
  },
  {
   "cell_type": "code",
   "execution_count": 3,
   "id": "fa3f0049",
   "metadata": {
    "execution": {
     "iopub.execute_input": "2022-03-26T14:07:05.642777Z",
     "iopub.status.busy": "2022-03-26T14:07:05.642148Z",
     "iopub.status.idle": "2022-03-26T14:07:05.661495Z",
     "shell.execute_reply": "2022-03-26T14:07:05.660779Z"
    },
    "papermill": {
     "duration": 0.042898,
     "end_time": "2022-03-26T14:07:05.661646",
     "exception": false,
     "start_time": "2022-03-26T14:07:05.618748",
     "status": "completed"
    },
    "tags": [
     "parameters"
    ]
   },
   "outputs": [],
   "source": [
    "\n",
    "\n",
    "standalone_parameters = {}\n",
    "standalone_parameters[\"experiment_name\"] = \"STANDALONE PTN\"\n",
    "standalone_parameters[\"lr\"] = 0.0001\n",
    "standalone_parameters[\"device\"] = \"cuda\"\n",
    "\n",
    "standalone_parameters[\"seed\"] = 1337\n",
    "standalone_parameters[\"dataset_seed\"] = 1337\n",
    "\n",
    "\n",
    "standalone_parameters[\"num_examples_per_domain_per_label_source\"]=100\n",
    "standalone_parameters[\"num_examples_per_domain_per_label_target\"]=100\n",
    "\n",
    "standalone_parameters[\"n_shot\"] = 3\n",
    "standalone_parameters[\"n_query\"]  = 2\n",
    "standalone_parameters[\"train_k_factor\"] = 1\n",
    "standalone_parameters[\"val_k_factor\"] = 2\n",
    "standalone_parameters[\"test_k_factor\"] = 2\n",
    "\n",
    "\n",
    "standalone_parameters[\"n_epoch\"] = 100\n",
    "\n",
    "standalone_parameters[\"patience\"] = 10\n",
    "standalone_parameters[\"criteria_for_best\"] = \"target_accuracy\"\n",
    "\n",
    "standalone_parameters[\"x_transforms_source\"] = [\"unit_power\"]\n",
    "standalone_parameters[\"x_transforms_target\"] = [\"unit_power\"]\n",
    "standalone_parameters[\"episode_transforms_source\"] = []\n",
    "standalone_parameters[\"episode_transforms_target\"] = []\n",
    "\n",
    "standalone_parameters[\"torch_default_dtype\"] = \"torch.float32\" \n",
    "\n",
    "\n",
    "\n",
    "standalone_parameters[\"x_net\"] =     [\n",
    "    {\"class\": \"nnReshape\", \"kargs\": {\"shape\":[-1, 1, 2, 256]}},\n",
    "    {\"class\": \"Conv2d\", \"kargs\": { \"in_channels\":1, \"out_channels\":256, \"kernel_size\":(1,7), \"bias\":False, \"padding\":(0,3), },},\n",
    "    {\"class\": \"ReLU\", \"kargs\": {\"inplace\": True}},\n",
    "    {\"class\": \"BatchNorm2d\", \"kargs\": {\"num_features\":256}},\n",
    "\n",
    "    {\"class\": \"Conv2d\", \"kargs\": { \"in_channels\":256, \"out_channels\":80, \"kernel_size\":(2,7), \"bias\":True, \"padding\":(0,3), },},\n",
    "    {\"class\": \"ReLU\", \"kargs\": {\"inplace\": True}},\n",
    "    {\"class\": \"BatchNorm2d\", \"kargs\": {\"num_features\":80}},\n",
    "    {\"class\": \"Flatten\", \"kargs\": {}},\n",
    "\n",
    "    {\"class\": \"Linear\", \"kargs\": {\"in_features\": 80*256, \"out_features\": 256}}, # 80 units per IQ pair\n",
    "    {\"class\": \"ReLU\", \"kargs\": {\"inplace\": True}},\n",
    "    {\"class\": \"BatchNorm1d\", \"kargs\": {\"num_features\":256}},\n",
    "\n",
    "    {\"class\": \"Linear\", \"kargs\": {\"in_features\": 256, \"out_features\": 256}},\n",
    "]\n",
    "\n",
    "# Parameters relevant to results\n",
    "# These parameters will basically never need to change\n",
    "standalone_parameters[\"NUM_LOGS_PER_EPOCH\"] = 10\n",
    "standalone_parameters[\"BEST_MODEL_PATH\"] = \"./best_model.pth\"\n",
    "\n",
    "# uncomment for CORES dataset\n",
    "from steves_utils.CORES.utils import (\n",
    "    ALL_NODES,\n",
    "    ALL_NODES_MINIMUM_1000_EXAMPLES,\n",
    "    ALL_DAYS\n",
    ")\n",
    "\n",
    "\n",
    "standalone_parameters[\"labels_source\"] = ALL_NODES\n",
    "standalone_parameters[\"labels_target\"] = ALL_NODES\n",
    "\n",
    "standalone_parameters[\"domains_source\"] = [1]\n",
    "standalone_parameters[\"domains_target\"] = [2,3,4,5]\n",
    "\n",
    "standalone_parameters[\"pickle_name\"] = \"cores.stratified_ds.2022A.pkl\"\n",
    "\n",
    "\n",
    "# Uncomment these for ORACLE dataset\n",
    "# from steves_utils.ORACLE.utils_v2 import (\n",
    "#     ALL_DISTANCES_FEET,\n",
    "#     ALL_RUNS,\n",
    "#     ALL_SERIAL_NUMBERS,\n",
    "# )\n",
    "# standalone_parameters[\"labels_source\"] = ALL_SERIAL_NUMBERS\n",
    "# standalone_parameters[\"labels_target\"] = ALL_SERIAL_NUMBERS\n",
    "# standalone_parameters[\"domains_source\"] = [8,20, 38,50]\n",
    "# standalone_parameters[\"domains_target\"] = [14, 26, 32, 44, 56]\n",
    "# standalone_parameters[\"pickle_name\"] = \"oracle.frame_indexed.stratified_ds.2022A.pkl\"\n",
    "# standalone_parameters[\"num_examples_per_domain_per_label_source\"]=1000\n",
    "# standalone_parameters[\"num_examples_per_domain_per_label_target\"]=1000\n",
    "\n",
    "# Uncomment these for Metahan dataset\n",
    "# standalone_parameters[\"labels_source\"] = list(range(19))\n",
    "# standalone_parameters[\"labels_target\"] = list(range(19))\n",
    "# standalone_parameters[\"domains_source\"] = [0]\n",
    "# standalone_parameters[\"domains_target\"] = [1]\n",
    "# standalone_parameters[\"pickle_name\"] = \"metehan.stratified_ds.2022A.pkl\"\n",
    "# standalone_parameters[\"n_way\"]  = len(standalone_parameters[\"labels_source\"])\n",
    "# standalone_parameters[\"num_examples_per_domain_per_label_source\"]=200\n",
    "# standalone_parameters[\"num_examples_per_domain_per_label_target\"]=100\n",
    "\n",
    "\n",
    "standalone_parameters[\"n_way\"]  = len(standalone_parameters[\"labels_source\"])"
   ]
  },
  {
   "cell_type": "code",
   "execution_count": 4,
   "id": "8d955220",
   "metadata": {
    "execution": {
     "iopub.execute_input": "2022-03-26T14:07:05.707601Z",
     "iopub.status.busy": "2022-03-26T14:07:05.703260Z",
     "iopub.status.idle": "2022-03-26T14:07:05.724764Z",
     "shell.execute_reply": "2022-03-26T14:07:05.723961Z"
    },
    "papermill": {
     "duration": 0.043288,
     "end_time": "2022-03-26T14:07:05.724913",
     "exception": false,
     "start_time": "2022-03-26T14:07:05.681625",
     "status": "completed"
    },
    "tags": [
     "injected-parameters"
    ]
   },
   "outputs": [],
   "source": [
    "# Parameters\n",
    "parameters = {\n",
    "    \"experiment_name\": \"tuned_1v2:oracle.run2.framed\",\n",
    "    \"device\": \"cuda\",\n",
    "    \"lr\": 0.0001,\n",
    "    \"labels_source\": [\n",
    "        \"3123D52\",\n",
    "        \"3123D65\",\n",
    "        \"3123D79\",\n",
    "        \"3123D80\",\n",
    "        \"3123D54\",\n",
    "        \"3123D70\",\n",
    "        \"3123D7B\",\n",
    "        \"3123D89\",\n",
    "        \"3123D58\",\n",
    "        \"3123D76\",\n",
    "        \"3123D7D\",\n",
    "        \"3123EFE\",\n",
    "        \"3123D64\",\n",
    "        \"3123D78\",\n",
    "        \"3123D7E\",\n",
    "        \"3124E4A\",\n",
    "    ],\n",
    "    \"labels_target\": [\n",
    "        \"3123D52\",\n",
    "        \"3123D65\",\n",
    "        \"3123D79\",\n",
    "        \"3123D80\",\n",
    "        \"3123D54\",\n",
    "        \"3123D70\",\n",
    "        \"3123D7B\",\n",
    "        \"3123D89\",\n",
    "        \"3123D58\",\n",
    "        \"3123D76\",\n",
    "        \"3123D7D\",\n",
    "        \"3123EFE\",\n",
    "        \"3123D64\",\n",
    "        \"3123D78\",\n",
    "        \"3123D7E\",\n",
    "        \"3124E4A\",\n",
    "    ],\n",
    "    \"episode_transforms_source\": [],\n",
    "    \"episode_transforms_target\": [],\n",
    "    \"domains_source\": [8, 32, 50],\n",
    "    \"domains_target\": [14, 20, 26, 38, 44],\n",
    "    \"num_examples_per_domain_per_label_source\": -1,\n",
    "    \"num_examples_per_domain_per_label_target\": -1,\n",
    "    \"n_shot\": 3,\n",
    "    \"n_way\": 16,\n",
    "    \"n_query\": 2,\n",
    "    \"train_k_factor\": 3,\n",
    "    \"val_k_factor\": 2,\n",
    "    \"test_k_factor\": 2,\n",
    "    \"torch_default_dtype\": \"torch.float32\",\n",
    "    \"n_epoch\": 50,\n",
    "    \"patience\": 3,\n",
    "    \"criteria_for_best\": \"target_accuracy\",\n",
    "    \"x_net\": [\n",
    "        {\"class\": \"nnReshape\", \"kargs\": {\"shape\": [-1, 1, 2, 256]}},\n",
    "        {\n",
    "            \"class\": \"Conv2d\",\n",
    "            \"kargs\": {\n",
    "                \"in_channels\": 1,\n",
    "                \"out_channels\": 256,\n",
    "                \"kernel_size\": [1, 7],\n",
    "                \"bias\": False,\n",
    "                \"padding\": [0, 3],\n",
    "            },\n",
    "        },\n",
    "        {\"class\": \"ReLU\", \"kargs\": {\"inplace\": True}},\n",
    "        {\"class\": \"BatchNorm2d\", \"kargs\": {\"num_features\": 256}},\n",
    "        {\n",
    "            \"class\": \"Conv2d\",\n",
    "            \"kargs\": {\n",
    "                \"in_channels\": 256,\n",
    "                \"out_channels\": 80,\n",
    "                \"kernel_size\": [2, 7],\n",
    "                \"bias\": True,\n",
    "                \"padding\": [0, 3],\n",
    "            },\n",
    "        },\n",
    "        {\"class\": \"ReLU\", \"kargs\": {\"inplace\": True}},\n",
    "        {\"class\": \"BatchNorm2d\", \"kargs\": {\"num_features\": 80}},\n",
    "        {\"class\": \"Flatten\", \"kargs\": {}},\n",
    "        {\"class\": \"Linear\", \"kargs\": {\"in_features\": 20480, \"out_features\": 256}},\n",
    "        {\"class\": \"ReLU\", \"kargs\": {\"inplace\": True}},\n",
    "        {\"class\": \"BatchNorm1d\", \"kargs\": {\"num_features\": 256}},\n",
    "        {\"class\": \"Linear\", \"kargs\": {\"in_features\": 256, \"out_features\": 256}},\n",
    "    ],\n",
    "    \"NUM_LOGS_PER_EPOCH\": 10,\n",
    "    \"BEST_MODEL_PATH\": \"./best_model.pth\",\n",
    "    \"pickle_name\": \"oracle.Run2_framed_2000Examples_stratified_ds.2022A.pkl\",\n",
    "    \"x_transforms_source\": [\"unit_power\"],\n",
    "    \"x_transforms_target\": [\"unit_power\"],\n",
    "    \"dataset_seed\": 7,\n",
    "    \"seed\": 7,\n",
    "}\n"
   ]
  },
  {
   "cell_type": "code",
   "execution_count": 5,
   "id": "8fa1cc33",
   "metadata": {
    "execution": {
     "iopub.execute_input": "2022-03-26T14:07:05.760655Z",
     "iopub.status.busy": "2022-03-26T14:07:05.760291Z",
     "iopub.status.idle": "2022-03-26T14:07:05.777573Z",
     "shell.execute_reply": "2022-03-26T14:07:05.776879Z"
    },
    "papermill": {
     "duration": 0.03497,
     "end_time": "2022-03-26T14:07:05.777724",
     "exception": false,
     "start_time": "2022-03-26T14:07:05.742754",
     "status": "completed"
    },
    "tags": []
   },
   "outputs": [],
   "source": [
    "# Set this to True if you want to run this template directly\n",
    "STANDALONE = False\n",
    "if STANDALONE:\n",
    "    print(\"parameters not injected, running with standalone_parameters\")\n",
    "    parameters = standalone_parameters\n",
    "\n",
    "if not 'parameters' in locals() and not 'parameters' in globals():\n",
    "    raise Exception(\"Parameter injection failed\")\n",
    "\n",
    "#Use an easy dict for all the parameters\n",
    "p = EasyDict(parameters)\n",
    "\n",
    "supplied_keys = set(p.keys())\n",
    "\n",
    "if  supplied_keys != required_parameters:\n",
    "    print(\"Parameters are incorrect\")\n",
    "    if len(supplied_keys - required_parameters)>0: print(\"Shouldn't have:\", str(supplied_keys - required_parameters))\n",
    "    if len(required_parameters - supplied_keys)>0: print(\"Need to have:\", str(required_parameters - supplied_keys))\n",
    "    raise RuntimeError(\"Parameters are incorrect\")\n",
    "\n"
   ]
  },
  {
   "cell_type": "code",
   "execution_count": 6,
   "id": "3a028d58",
   "metadata": {
    "execution": {
     "iopub.execute_input": "2022-03-26T14:07:05.814690Z",
     "iopub.status.busy": "2022-03-26T14:07:05.814333Z",
     "iopub.status.idle": "2022-03-26T14:07:05.832155Z",
     "shell.execute_reply": "2022-03-26T14:07:05.832790Z"
    },
    "papermill": {
     "duration": 0.035535,
     "end_time": "2022-03-26T14:07:05.832975",
     "exception": false,
     "start_time": "2022-03-26T14:07:05.797440",
     "status": "completed"
    },
    "tags": []
   },
   "outputs": [],
   "source": [
    "###################################\n",
    "# Set the RNGs and make it all deterministic\n",
    "###################################\n",
    "np.random.seed(p.seed)\n",
    "random.seed(p.seed)\n",
    "torch.manual_seed(p.seed)\n",
    "\n",
    "torch.use_deterministic_algorithms(True) "
   ]
  },
  {
   "cell_type": "code",
   "execution_count": 7,
   "id": "b691acf6",
   "metadata": {
    "execution": {
     "iopub.execute_input": "2022-03-26T14:07:05.871931Z",
     "iopub.status.busy": "2022-03-26T14:07:05.871563Z",
     "iopub.status.idle": "2022-03-26T14:07:05.894507Z",
     "shell.execute_reply": "2022-03-26T14:07:05.893810Z"
    },
    "papermill": {
     "duration": 0.040902,
     "end_time": "2022-03-26T14:07:05.894658",
     "exception": false,
     "start_time": "2022-03-26T14:07:05.853756",
     "status": "completed"
    },
    "tags": []
   },
   "outputs": [],
   "source": [
    "###########################################\n",
    "# The stratified datasets honor this\n",
    "###########################################\n",
    "torch.set_default_dtype(eval(p.torch_default_dtype))"
   ]
  },
  {
   "cell_type": "code",
   "execution_count": 8,
   "id": "b5fba671",
   "metadata": {
    "execution": {
     "iopub.execute_input": "2022-03-26T14:07:05.932108Z",
     "iopub.status.busy": "2022-03-26T14:07:05.931749Z",
     "iopub.status.idle": "2022-03-26T14:07:05.987056Z",
     "shell.execute_reply": "2022-03-26T14:07:05.986257Z"
    },
    "papermill": {
     "duration": 0.072689,
     "end_time": "2022-03-26T14:07:05.987207",
     "exception": false,
     "start_time": "2022-03-26T14:07:05.914518",
     "status": "completed"
    },
    "tags": []
   },
   "outputs": [],
   "source": [
    "###################################\n",
    "# Build the network(s)\n",
    "# Note: It's critical to do this AFTER setting the RNG\n",
    "# (This is due to the randomized initial weights)\n",
    "###################################\n",
    "x_net = build_sequential(p.x_net)"
   ]
  },
  {
   "cell_type": "code",
   "execution_count": 9,
   "id": "5d7e61cc",
   "metadata": {
    "execution": {
     "iopub.execute_input": "2022-03-26T14:07:06.024512Z",
     "iopub.status.busy": "2022-03-26T14:07:06.024153Z",
     "iopub.status.idle": "2022-03-26T14:07:06.048544Z",
     "shell.execute_reply": "2022-03-26T14:07:06.049190Z"
    },
    "papermill": {
     "duration": 0.042614,
     "end_time": "2022-03-26T14:07:06.049379",
     "exception": false,
     "start_time": "2022-03-26T14:07:06.006765",
     "status": "completed"
    },
    "tags": []
   },
   "outputs": [],
   "source": [
    "start_time_secs = time.time()"
   ]
  },
  {
   "cell_type": "code",
   "execution_count": 10,
   "id": "fd5442bc",
   "metadata": {
    "execution": {
     "iopub.execute_input": "2022-03-26T14:07:06.094492Z",
     "iopub.status.busy": "2022-03-26T14:07:06.093616Z",
     "iopub.status.idle": "2022-03-26T14:07:28.011928Z",
     "shell.execute_reply": "2022-03-26T14:07:28.011138Z"
    },
    "papermill": {
     "duration": 21.941757,
     "end_time": "2022-03-26T14:07:28.012120",
     "exception": false,
     "start_time": "2022-03-26T14:07:06.070363",
     "status": "completed"
    },
    "tags": []
   },
   "outputs": [],
   "source": [
    "###################################\n",
    "# Build the dataset\n",
    "###################################\n",
    "\n",
    "if p.x_transforms_source == []: x_transform_source = None\n",
    "else: x_transform_source = get_chained_transform(p.x_transforms_source) \n",
    "\n",
    "if p.x_transforms_target == []: x_transform_target = None\n",
    "else: x_transform_target = get_chained_transform(p.x_transforms_target)\n",
    "\n",
    "if p.episode_transforms_source == []: episode_transform_source = None\n",
    "else: raise Exception(\"episode_transform_source not implemented\")\n",
    "\n",
    "if p.episode_transforms_target == []: episode_transform_target = None\n",
    "else: raise Exception(\"episode_transform_target not implemented\")\n",
    "\n",
    "\n",
    "eaf_source = Episodic_Accessor_Factory(\n",
    "    labels=p.labels_source,\n",
    "    domains=p.domains_source,\n",
    "    num_examples_per_domain_per_label=p.num_examples_per_domain_per_label_source,\n",
    "    iterator_seed=p.seed,\n",
    "    dataset_seed=p.dataset_seed,\n",
    "    n_shot=p.n_shot,\n",
    "    n_way=p.n_way,\n",
    "    n_query=p.n_query,\n",
    "    train_val_test_k_factors=(p.train_k_factor,p.val_k_factor,p.test_k_factor),\n",
    "    pickle_path=os.path.join(get_datasets_base_path(), p.pickle_name),\n",
    "    x_transform_func=x_transform_source,\n",
    "    example_transform_func=episode_transform_source,\n",
    "    \n",
    ")\n",
    "train_original_source, val_original_source, test_original_source = eaf_source.get_train(), eaf_source.get_val(), eaf_source.get_test()\n",
    "\n",
    "\n",
    "eaf_target = Episodic_Accessor_Factory(\n",
    "    labels=p.labels_target,\n",
    "    domains=p.domains_target,\n",
    "    num_examples_per_domain_per_label=p.num_examples_per_domain_per_label_target,\n",
    "    iterator_seed=p.seed,\n",
    "    dataset_seed=p.dataset_seed,\n",
    "    n_shot=p.n_shot,\n",
    "    n_way=p.n_way,\n",
    "    n_query=p.n_query,\n",
    "    train_val_test_k_factors=(p.train_k_factor,p.val_k_factor,p.test_k_factor),\n",
    "    pickle_path=os.path.join(get_datasets_base_path(), p.pickle_name),\n",
    "    x_transform_func=x_transform_target,\n",
    "    example_transform_func=episode_transform_target,\n",
    ")\n",
    "train_original_target, val_original_target, test_original_target = eaf_target.get_train(), eaf_target.get_val(), eaf_target.get_test()\n",
    "\n",
    "\n",
    "transform_lambda = lambda ex: ex[1] # Original is (<domain>, <episode>) so we strip down to episode only\n",
    "\n",
    "train_processed_source = Lazy_Iterable_Wrapper(train_original_source, transform_lambda)\n",
    "val_processed_source   = Lazy_Iterable_Wrapper(val_original_source, transform_lambda)\n",
    "test_processed_source  = Lazy_Iterable_Wrapper(test_original_source, transform_lambda)\n",
    "\n",
    "train_processed_target = Lazy_Iterable_Wrapper(train_original_target, transform_lambda)\n",
    "val_processed_target   = Lazy_Iterable_Wrapper(val_original_target, transform_lambda)\n",
    "test_processed_target  = Lazy_Iterable_Wrapper(test_original_target, transform_lambda)\n",
    "\n",
    "datasets = EasyDict({\n",
    "    \"source\": {\n",
    "        \"original\": {\"train\":train_original_source, \"val\":val_original_source, \"test\":test_original_source},\n",
    "        \"processed\": {\"train\":train_processed_source, \"val\":val_processed_source, \"test\":test_processed_source}\n",
    "    },\n",
    "    \"target\": {\n",
    "        \"original\": {\"train\":train_original_target, \"val\":val_original_target, \"test\":test_original_target},\n",
    "        \"processed\": {\"train\":train_processed_target, \"val\":val_processed_target, \"test\":test_processed_target}\n",
    "    },\n",
    "})"
   ]
  },
  {
   "cell_type": "code",
   "execution_count": 11,
   "id": "296189d9",
   "metadata": {
    "execution": {
     "iopub.execute_input": "2022-03-26T14:07:28.051623Z",
     "iopub.status.busy": "2022-03-26T14:07:28.051211Z",
     "iopub.status.idle": "2022-03-26T14:07:33.444451Z",
     "shell.execute_reply": "2022-03-26T14:07:33.443593Z"
    },
    "papermill": {
     "duration": 5.412808,
     "end_time": "2022-03-26T14:07:33.444625",
     "exception": false,
     "start_time": "2022-03-26T14:07:28.031817",
     "status": "completed"
    },
    "tags": []
   },
   "outputs": [
    {
     "name": "stdout",
     "output_type": "stream",
     "text": [
      "Visually inspect these to see if they line up with expected values given the transforms\n",
      "x_transforms_source ['unit_power']\n",
      "x_transforms_target ['unit_power']\n",
      "Average magnitude, source: 0.95677567\n",
      "Average power, source: 1.0\n"
     ]
    },
    {
     "name": "stdout",
     "output_type": "stream",
     "text": [
      "Average magnitude, target: 0.9583576\n",
      "Average power, target: 1.0\n"
     ]
    }
   ],
   "source": [
    "# Some quick unit tests on the data\n",
    "from steves_utils.transforms import get_average_power, get_average_magnitude\n",
    "\n",
    "q_x, q_y, s_x, s_y, truth = next(iter(train_processed_source))\n",
    "\n",
    "assert q_x.dtype == eval(p.torch_default_dtype)\n",
    "assert s_x.dtype == eval(p.torch_default_dtype)\n",
    "\n",
    "print(\"Visually inspect these to see if they line up with expected values given the transforms\")\n",
    "print('x_transforms_source', p.x_transforms_source)\n",
    "print('x_transforms_target', p.x_transforms_target)\n",
    "print(\"Average magnitude, source:\", get_average_magnitude(q_x[0].numpy()))\n",
    "print(\"Average power, source:\", get_average_power(q_x[0].numpy()))\n",
    "\n",
    "q_x, q_y, s_x, s_y, truth = next(iter(train_processed_target))\n",
    "print(\"Average magnitude, target:\", get_average_magnitude(q_x[0].numpy()))\n",
    "print(\"Average power, target:\", get_average_power(q_x[0].numpy()))\n"
   ]
  },
  {
   "cell_type": "code",
   "execution_count": 12,
   "id": "bbdacba1",
   "metadata": {
    "execution": {
     "iopub.execute_input": "2022-03-26T14:07:33.483002Z",
     "iopub.status.busy": "2022-03-26T14:07:33.481728Z",
     "iopub.status.idle": "2022-03-26T14:07:33.588458Z",
     "shell.execute_reply": "2022-03-26T14:07:33.588100Z"
    },
    "papermill": {
     "duration": 0.124245,
     "end_time": "2022-03-26T14:07:33.588560",
     "exception": false,
     "start_time": "2022-03-26T14:07:33.464315",
     "status": "completed"
    },
    "tags": []
   },
   "outputs": [
    {
     "name": "stdout",
     "output_type": "stream",
     "text": [
      "(2, 256)\n"
     ]
    }
   ],
   "source": [
    "###################################\n",
    "# Build the model\n",
    "###################################\n",
    "model = Steves_Prototypical_Network(x_net, device=p.device, x_shape=(2,256))\n",
    "optimizer = Adam(params=model.parameters(), lr=p.lr)"
   ]
  },
  {
   "cell_type": "code",
   "execution_count": 13,
   "id": "22b39ac5",
   "metadata": {
    "execution": {
     "iopub.execute_input": "2022-03-26T14:07:33.625698Z",
     "iopub.status.busy": "2022-03-26T14:07:33.622385Z",
     "iopub.status.idle": "2022-03-26T14:21:48.382989Z",
     "shell.execute_reply": "2022-03-26T14:21:48.382639Z"
    },
    "papermill": {
     "duration": 854.778133,
     "end_time": "2022-03-26T14:21:48.383073",
     "exception": false,
     "start_time": "2022-03-26T14:07:33.604940",
     "status": "completed"
    },
    "tags": []
   },
   "outputs": [
    {
     "name": "stdout",
     "output_type": "stream",
     "text": [
      "epoch: 1, [batch: 1 / 2520], examples_per_second: 81.5252, train_label_loss: 2.8630, \n"
     ]
    },
    {
     "name": "stdout",
     "output_type": "stream",
     "text": [
      "epoch: 1, [batch: 252 / 2520], examples_per_second: 3751.5468, train_label_loss: 1.5756, \n"
     ]
    },
    {
     "name": "stdout",
     "output_type": "stream",
     "text": [
      "epoch: 1, [batch: 504 / 2520], examples_per_second: 3808.2006, train_label_loss: 1.3538, \n"
     ]
    },
    {
     "name": "stdout",
     "output_type": "stream",
     "text": [
      "epoch: 1, [batch: 756 / 2520], examples_per_second: 3846.0107, train_label_loss: 0.9041, \n"
     ]
    },
    {
     "name": "stdout",
     "output_type": "stream",
     "text": [
      "epoch: 1, [batch: 1008 / 2520], examples_per_second: 3793.4527, train_label_loss: 0.7661, \n"
     ]
    },
    {
     "name": "stdout",
     "output_type": "stream",
     "text": [
      "epoch: 1, [batch: 1260 / 2520], examples_per_second: 4035.6707, train_label_loss: 0.7379, \n"
     ]
    },
    {
     "name": "stdout",
     "output_type": "stream",
     "text": [
      "epoch: 1, [batch: 1512 / 2520], examples_per_second: 4382.7008, train_label_loss: 0.9454, \n"
     ]
    },
    {
     "name": "stdout",
     "output_type": "stream",
     "text": [
      "epoch: 1, [batch: 1764 / 2520], examples_per_second: 4259.9924, train_label_loss: 0.6816, \n"
     ]
    },
    {
     "name": "stdout",
     "output_type": "stream",
     "text": [
      "epoch: 1, [batch: 2016 / 2520], examples_per_second: 4401.0989, train_label_loss: 0.7320, \n"
     ]
    },
    {
     "name": "stdout",
     "output_type": "stream",
     "text": [
      "epoch: 1, [batch: 2268 / 2520], examples_per_second: 3843.2613, train_label_loss: 0.3215, \n"
     ]
    },
    {
     "name": "stdout",
     "output_type": "stream",
     "text": [
      "=============================================================\n",
      "epoch: 1, source_val_acc_label: 0.7341, target_val_acc_label: 0.6006, source_val_label_loss: 2.5727, target_val_label_loss: 9.5920, \n",
      "=============================================================\n"
     ]
    },
    {
     "name": "stdout",
     "output_type": "stream",
     "text": [
      "New best\n"
     ]
    },
    {
     "name": "stdout",
     "output_type": "stream",
     "text": [
      "epoch: 2, [batch: 1 / 2520], examples_per_second: 8.4699, train_label_loss: 2.8041, \n"
     ]
    },
    {
     "name": "stdout",
     "output_type": "stream",
     "text": [
      "epoch: 2, [batch: 252 / 2520], examples_per_second: 3810.7196, train_label_loss: 0.6163, \n"
     ]
    },
    {
     "name": "stdout",
     "output_type": "stream",
     "text": [
      "epoch: 2, [batch: 504 / 2520], examples_per_second: 4002.3616, train_label_loss: 1.1901, \n"
     ]
    },
    {
     "name": "stdout",
     "output_type": "stream",
     "text": [
      "epoch: 2, [batch: 756 / 2520], examples_per_second: 4055.8603, train_label_loss: 0.8262, \n"
     ]
    },
    {
     "name": "stdout",
     "output_type": "stream",
     "text": [
      "epoch: 2, [batch: 1008 / 2520], examples_per_second: 3974.6455, train_label_loss: 0.4605, \n"
     ]
    },
    {
     "name": "stdout",
     "output_type": "stream",
     "text": [
      "epoch: 2, [batch: 1260 / 2520], examples_per_second: 4365.4103, train_label_loss: 0.4446, \n"
     ]
    },
    {
     "name": "stdout",
     "output_type": "stream",
     "text": [
      "epoch: 2, [batch: 1512 / 2520], examples_per_second: 4551.4903, train_label_loss: 0.4826, \n"
     ]
    },
    {
     "name": "stdout",
     "output_type": "stream",
     "text": [
      "epoch: 2, [batch: 1764 / 2520], examples_per_second: 4520.1366, train_label_loss: 0.3697, \n"
     ]
    },
    {
     "name": "stdout",
     "output_type": "stream",
     "text": [
      "epoch: 2, [batch: 2016 / 2520], examples_per_second: 5016.6287, train_label_loss: 0.3095, \n"
     ]
    },
    {
     "name": "stdout",
     "output_type": "stream",
     "text": [
      "epoch: 2, [batch: 2268 / 2520], examples_per_second: 4047.8699, train_label_loss: 0.5866, \n"
     ]
    },
    {
     "name": "stdout",
     "output_type": "stream",
     "text": [
      "=============================================================\n",
      "epoch: 2, source_val_acc_label: 0.8049, target_val_acc_label: 0.6986, source_val_label_loss: 0.5192, target_val_label_loss: 4.9215, \n",
      "=============================================================\n"
     ]
    },
    {
     "name": "stdout",
     "output_type": "stream",
     "text": [
      "New best\n"
     ]
    },
    {
     "name": "stdout",
     "output_type": "stream",
     "text": [
      "epoch: 3, [batch: 1 / 2520], examples_per_second: 8.7045, train_label_loss: 0.2650, \n"
     ]
    },
    {
     "name": "stdout",
     "output_type": "stream",
     "text": [
      "epoch: 3, [batch: 252 / 2520], examples_per_second: 3958.8941, train_label_loss: 0.5858, \n"
     ]
    },
    {
     "name": "stdout",
     "output_type": "stream",
     "text": [
      "epoch: 3, [batch: 504 / 2520], examples_per_second: 4316.5625, train_label_loss: 0.4938, \n"
     ]
    },
    {
     "name": "stdout",
     "output_type": "stream",
     "text": [
      "epoch: 3, [batch: 756 / 2520], examples_per_second: 3924.3456, train_label_loss: 0.4996, \n"
     ]
    },
    {
     "name": "stdout",
     "output_type": "stream",
     "text": [
      "epoch: 3, [batch: 1008 / 2520], examples_per_second: 3910.3203, train_label_loss: 0.6893, \n"
     ]
    },
    {
     "name": "stdout",
     "output_type": "stream",
     "text": [
      "epoch: 3, [batch: 1260 / 2520], examples_per_second: 3987.3029, train_label_loss: 0.1968, \n"
     ]
    },
    {
     "name": "stdout",
     "output_type": "stream",
     "text": [
      "epoch: 3, [batch: 1512 / 2520], examples_per_second: 4581.1332, train_label_loss: 0.5186, \n"
     ]
    },
    {
     "name": "stdout",
     "output_type": "stream",
     "text": [
      "epoch: 3, [batch: 1764 / 2520], examples_per_second: 4570.8159, train_label_loss: 0.4790, \n"
     ]
    },
    {
     "name": "stdout",
     "output_type": "stream",
     "text": [
      "epoch: 3, [batch: 2016 / 2520], examples_per_second: 4836.6337, train_label_loss: 0.4574, \n"
     ]
    },
    {
     "name": "stdout",
     "output_type": "stream",
     "text": [
      "epoch: 3, [batch: 2268 / 2520], examples_per_second: 4285.6986, train_label_loss: 0.3951, \n"
     ]
    },
    {
     "name": "stdout",
     "output_type": "stream",
     "text": [
      "=============================================================\n",
      "epoch: 3, source_val_acc_label: 0.7976, target_val_acc_label: 0.6749, source_val_label_loss: 0.5537, target_val_label_loss: 4.5204, \n",
      "=============================================================\n"
     ]
    },
    {
     "name": "stdout",
     "output_type": "stream",
     "text": [
      "epoch: 4, [batch: 1 / 2520], examples_per_second: 8.7460, train_label_loss: 0.2916, \n"
     ]
    },
    {
     "name": "stdout",
     "output_type": "stream",
     "text": [
      "epoch: 4, [batch: 252 / 2520], examples_per_second: 3774.3497, train_label_loss: 0.3662, \n"
     ]
    },
    {
     "name": "stdout",
     "output_type": "stream",
     "text": [
      "epoch: 4, [batch: 504 / 2520], examples_per_second: 3924.3939, train_label_loss: 0.4752, \n"
     ]
    },
    {
     "name": "stdout",
     "output_type": "stream",
     "text": [
      "epoch: 4, [batch: 756 / 2520], examples_per_second: 3873.6640, train_label_loss: 0.1253, \n"
     ]
    },
    {
     "name": "stdout",
     "output_type": "stream",
     "text": [
      "epoch: 4, [batch: 1008 / 2520], examples_per_second: 3862.3374, train_label_loss: 0.2827, \n"
     ]
    },
    {
     "name": "stdout",
     "output_type": "stream",
     "text": [
      "epoch: 4, [batch: 1260 / 2520], examples_per_second: 3867.8063, train_label_loss: 0.4425, \n"
     ]
    },
    {
     "name": "stdout",
     "output_type": "stream",
     "text": [
      "epoch: 4, [batch: 1512 / 2520], examples_per_second: 4151.7655, train_label_loss: 0.4419, \n"
     ]
    },
    {
     "name": "stdout",
     "output_type": "stream",
     "text": [
      "epoch: 4, [batch: 1764 / 2520], examples_per_second: 4237.0049, train_label_loss: 0.6560, \n"
     ]
    },
    {
     "name": "stdout",
     "output_type": "stream",
     "text": [
      "epoch: 4, [batch: 2016 / 2520], examples_per_second: 4375.0253, train_label_loss: 0.5637, \n"
     ]
    },
    {
     "name": "stdout",
     "output_type": "stream",
     "text": [
      "epoch: 4, [batch: 2268 / 2520], examples_per_second: 4347.6734, train_label_loss: 0.1731, \n"
     ]
    },
    {
     "name": "stdout",
     "output_type": "stream",
     "text": [
      "=============================================================\n",
      "epoch: 4, source_val_acc_label: 0.8740, target_val_acc_label: 0.7471, source_val_label_loss: 0.3561, target_val_label_loss: 7.7637, \n",
      "=============================================================\n"
     ]
    },
    {
     "name": "stdout",
     "output_type": "stream",
     "text": [
      "New best\n"
     ]
    },
    {
     "name": "stdout",
     "output_type": "stream",
     "text": [
      "epoch: 5, [batch: 1 / 2520], examples_per_second: 9.6170, train_label_loss: 0.3190, \n"
     ]
    },
    {
     "name": "stdout",
     "output_type": "stream",
     "text": [
      "epoch: 5, [batch: 252 / 2520], examples_per_second: 4490.6177, train_label_loss: 0.6095, \n"
     ]
    },
    {
     "name": "stdout",
     "output_type": "stream",
     "text": [
      "epoch: 5, [batch: 504 / 2520], examples_per_second: 4170.6741, train_label_loss: 0.4375, \n"
     ]
    },
    {
     "name": "stdout",
     "output_type": "stream",
     "text": [
      "epoch: 5, [batch: 756 / 2520], examples_per_second: 4189.7533, train_label_loss: 0.3329, \n"
     ]
    },
    {
     "name": "stdout",
     "output_type": "stream",
     "text": [
      "epoch: 5, [batch: 1008 / 2520], examples_per_second: 4240.6650, train_label_loss: 0.5829, \n"
     ]
    },
    {
     "name": "stdout",
     "output_type": "stream",
     "text": [
      "epoch: 5, [batch: 1260 / 2520], examples_per_second: 5049.9571, train_label_loss: 0.4081, \n"
     ]
    },
    {
     "name": "stdout",
     "output_type": "stream",
     "text": [
      "epoch: 5, [batch: 1512 / 2520], examples_per_second: 4935.7545, train_label_loss: 0.3650, \n"
     ]
    },
    {
     "name": "stdout",
     "output_type": "stream",
     "text": [
      "epoch: 5, [batch: 1764 / 2520], examples_per_second: 4739.5646, train_label_loss: 0.6834, \n"
     ]
    },
    {
     "name": "stdout",
     "output_type": "stream",
     "text": [
      "epoch: 5, [batch: 2016 / 2520], examples_per_second: 4816.1823, train_label_loss: 0.4016, \n"
     ]
    },
    {
     "name": "stdout",
     "output_type": "stream",
     "text": [
      "epoch: 5, [batch: 2268 / 2520], examples_per_second: 4873.1298, train_label_loss: 0.6990, \n"
     ]
    },
    {
     "name": "stdout",
     "output_type": "stream",
     "text": [
      "=============================================================\n",
      "epoch: 5, source_val_acc_label: 0.8889, target_val_acc_label: 0.7673, source_val_label_loss: 0.3038, target_val_label_loss: 5.3403, \n",
      "=============================================================\n"
     ]
    },
    {
     "name": "stdout",
     "output_type": "stream",
     "text": [
      "New best\n"
     ]
    },
    {
     "name": "stdout",
     "output_type": "stream",
     "text": [
      "epoch: 6, [batch: 1 / 2520], examples_per_second: 11.3950, train_label_loss: 0.2534, \n"
     ]
    },
    {
     "name": "stdout",
     "output_type": "stream",
     "text": [
      "epoch: 6, [batch: 252 / 2520], examples_per_second: 5031.2256, train_label_loss: 0.1285, \n"
     ]
    },
    {
     "name": "stdout",
     "output_type": "stream",
     "text": [
      "epoch: 6, [batch: 504 / 2520], examples_per_second: 5240.0968, train_label_loss: 0.3495, \n"
     ]
    },
    {
     "name": "stdout",
     "output_type": "stream",
     "text": [
      "epoch: 6, [batch: 756 / 2520], examples_per_second: 5280.4683, train_label_loss: 0.1434, \n"
     ]
    },
    {
     "name": "stdout",
     "output_type": "stream",
     "text": [
      "epoch: 6, [batch: 1008 / 2520], examples_per_second: 5318.0439, train_label_loss: 0.3977, \n"
     ]
    },
    {
     "name": "stdout",
     "output_type": "stream",
     "text": [
      "epoch: 6, [batch: 1260 / 2520], examples_per_second: 5470.0173, train_label_loss: 0.0555, \n"
     ]
    },
    {
     "name": "stdout",
     "output_type": "stream",
     "text": [
      "epoch: 6, [batch: 1512 / 2520], examples_per_second: 5524.5058, train_label_loss: 0.2672, \n"
     ]
    },
    {
     "name": "stdout",
     "output_type": "stream",
     "text": [
      "epoch: 6, [batch: 1764 / 2520], examples_per_second: 5369.6624, train_label_loss: 0.2038, \n"
     ]
    },
    {
     "name": "stdout",
     "output_type": "stream",
     "text": [
      "epoch: 6, [batch: 2016 / 2520], examples_per_second: 5361.7817, train_label_loss: 0.2452, \n"
     ]
    },
    {
     "name": "stdout",
     "output_type": "stream",
     "text": [
      "epoch: 6, [batch: 2268 / 2520], examples_per_second: 4858.3758, train_label_loss: 0.1239, \n"
     ]
    },
    {
     "name": "stdout",
     "output_type": "stream",
     "text": [
      "=============================================================\n",
      "epoch: 6, source_val_acc_label: 0.8843, target_val_acc_label: 0.7647, source_val_label_loss: 0.3207, target_val_label_loss: 6.3844, \n",
      "=============================================================\n"
     ]
    },
    {
     "name": "stdout",
     "output_type": "stream",
     "text": [
      "epoch: 7, [batch: 1 / 2520], examples_per_second: 11.5571, train_label_loss: 0.5720, \n"
     ]
    },
    {
     "name": "stdout",
     "output_type": "stream",
     "text": [
      "epoch: 7, [batch: 252 / 2520], examples_per_second: 3740.6990, train_label_loss: 0.2108, \n"
     ]
    },
    {
     "name": "stdout",
     "output_type": "stream",
     "text": [
      "epoch: 7, [batch: 504 / 2520], examples_per_second: 3809.8401, train_label_loss: 1.0800, \n"
     ]
    },
    {
     "name": "stdout",
     "output_type": "stream",
     "text": [
      "epoch: 7, [batch: 756 / 2520], examples_per_second: 3818.6091, train_label_loss: 0.2128, \n"
     ]
    },
    {
     "name": "stdout",
     "output_type": "stream",
     "text": [
      "epoch: 7, [batch: 1008 / 2520], examples_per_second: 3792.1427, train_label_loss: 0.1078, \n"
     ]
    },
    {
     "name": "stdout",
     "output_type": "stream",
     "text": [
      "epoch: 7, [batch: 1260 / 2520], examples_per_second: 3891.1477, train_label_loss: 0.4693, \n"
     ]
    },
    {
     "name": "stdout",
     "output_type": "stream",
     "text": [
      "epoch: 7, [batch: 1512 / 2520], examples_per_second: 3961.5598, train_label_loss: 0.3271, \n"
     ]
    },
    {
     "name": "stdout",
     "output_type": "stream",
     "text": [
      "epoch: 7, [batch: 1764 / 2520], examples_per_second: 3877.0475, train_label_loss: 0.2108, \n"
     ]
    },
    {
     "name": "stdout",
     "output_type": "stream",
     "text": [
      "epoch: 7, [batch: 2016 / 2520], examples_per_second: 3894.9911, train_label_loss: 0.0915, \n"
     ]
    },
    {
     "name": "stdout",
     "output_type": "stream",
     "text": [
      "epoch: 7, [batch: 2268 / 2520], examples_per_second: 4002.8766, train_label_loss: 0.2587, \n"
     ]
    },
    {
     "name": "stdout",
     "output_type": "stream",
     "text": [
      "=============================================================\n",
      "epoch: 7, source_val_acc_label: 0.8979, target_val_acc_label: 0.7780, source_val_label_loss: 0.2821, target_val_label_loss: 7.6472, \n",
      "=============================================================\n"
     ]
    },
    {
     "name": "stdout",
     "output_type": "stream",
     "text": [
      "New best\n"
     ]
    },
    {
     "name": "stdout",
     "output_type": "stream",
     "text": [
      "epoch: 8, [batch: 1 / 2520], examples_per_second: 9.5675, train_label_loss: 0.1029, \n"
     ]
    },
    {
     "name": "stdout",
     "output_type": "stream",
     "text": [
      "epoch: 8, [batch: 252 / 2520], examples_per_second: 3892.9195, train_label_loss: 0.1326, \n"
     ]
    },
    {
     "name": "stdout",
     "output_type": "stream",
     "text": [
      "epoch: 8, [batch: 504 / 2520], examples_per_second: 4043.6532, train_label_loss: 0.1323, \n"
     ]
    },
    {
     "name": "stdout",
     "output_type": "stream",
     "text": [
      "epoch: 8, [batch: 756 / 2520], examples_per_second: 4226.5417, train_label_loss: 0.2113, \n"
     ]
    },
    {
     "name": "stdout",
     "output_type": "stream",
     "text": [
      "epoch: 8, [batch: 1008 / 2520], examples_per_second: 4015.1443, train_label_loss: 0.5272, \n"
     ]
    },
    {
     "name": "stdout",
     "output_type": "stream",
     "text": [
      "epoch: 8, [batch: 1260 / 2520], examples_per_second: 4030.8489, train_label_loss: 0.0405, \n"
     ]
    },
    {
     "name": "stdout",
     "output_type": "stream",
     "text": [
      "epoch: 8, [batch: 1512 / 2520], examples_per_second: 3997.3387, train_label_loss: 0.2011, \n"
     ]
    },
    {
     "name": "stdout",
     "output_type": "stream",
     "text": [
      "epoch: 8, [batch: 1764 / 2520], examples_per_second: 3966.8150, train_label_loss: 0.3666, \n"
     ]
    },
    {
     "name": "stdout",
     "output_type": "stream",
     "text": [
      "epoch: 8, [batch: 2016 / 2520], examples_per_second: 3984.0783, train_label_loss: 0.0510, \n"
     ]
    },
    {
     "name": "stdout",
     "output_type": "stream",
     "text": [
      "epoch: 8, [batch: 2268 / 2520], examples_per_second: 4024.8809, train_label_loss: 0.1886, \n"
     ]
    },
    {
     "name": "stdout",
     "output_type": "stream",
     "text": [
      "=============================================================\n",
      "epoch: 8, source_val_acc_label: 0.8916, target_val_acc_label: 0.7807, source_val_label_loss: 0.2909, target_val_label_loss: 7.1964, \n",
      "=============================================================\n"
     ]
    },
    {
     "name": "stdout",
     "output_type": "stream",
     "text": [
      "New best\n"
     ]
    },
    {
     "name": "stdout",
     "output_type": "stream",
     "text": [
      "epoch: 9, [batch: 1 / 2520], examples_per_second: 9.3739, train_label_loss: 0.1156, \n"
     ]
    },
    {
     "name": "stdout",
     "output_type": "stream",
     "text": [
      "epoch: 9, [batch: 252 / 2520], examples_per_second: 3871.7078, train_label_loss: 0.1639, \n"
     ]
    },
    {
     "name": "stdout",
     "output_type": "stream",
     "text": [
      "epoch: 9, [batch: 504 / 2520], examples_per_second: 3917.2791, train_label_loss: 0.2875, \n"
     ]
    },
    {
     "name": "stdout",
     "output_type": "stream",
     "text": [
      "epoch: 9, [batch: 756 / 2520], examples_per_second: 3945.2405, train_label_loss: 0.2034, \n"
     ]
    },
    {
     "name": "stdout",
     "output_type": "stream",
     "text": [
      "epoch: 9, [batch: 1008 / 2520], examples_per_second: 3911.1726, train_label_loss: 0.0460, \n"
     ]
    },
    {
     "name": "stdout",
     "output_type": "stream",
     "text": [
      "epoch: 9, [batch: 1260 / 2520], examples_per_second: 3983.4885, train_label_loss: 0.2675, \n"
     ]
    },
    {
     "name": "stdout",
     "output_type": "stream",
     "text": [
      "epoch: 9, [batch: 1512 / 2520], examples_per_second: 3986.6849, train_label_loss: 0.3202, \n"
     ]
    },
    {
     "name": "stdout",
     "output_type": "stream",
     "text": [
      "epoch: 9, [batch: 1764 / 2520], examples_per_second: 3958.0726, train_label_loss: 0.3444, \n"
     ]
    },
    {
     "name": "stdout",
     "output_type": "stream",
     "text": [
      "epoch: 9, [batch: 2016 / 2520], examples_per_second: 3953.8161, train_label_loss: 0.2045, \n"
     ]
    },
    {
     "name": "stdout",
     "output_type": "stream",
     "text": [
      "epoch: 9, [batch: 2268 / 2520], examples_per_second: 3966.5095, train_label_loss: 0.0828, \n"
     ]
    },
    {
     "name": "stdout",
     "output_type": "stream",
     "text": [
      "=============================================================\n",
      "epoch: 9, source_val_acc_label: 0.9009, target_val_acc_label: 0.7710, source_val_label_loss: 0.2699, target_val_label_loss: 8.4365, \n",
      "=============================================================\n"
     ]
    },
    {
     "name": "stdout",
     "output_type": "stream",
     "text": [
      "epoch: 10, [batch: 1 / 2520], examples_per_second: 9.6477, train_label_loss: 0.0254, \n"
     ]
    },
    {
     "name": "stdout",
     "output_type": "stream",
     "text": [
      "epoch: 10, [batch: 252 / 2520], examples_per_second: 3846.6245, train_label_loss: 0.0921, \n"
     ]
    },
    {
     "name": "stdout",
     "output_type": "stream",
     "text": [
      "epoch: 10, [batch: 504 / 2520], examples_per_second: 3862.2411, train_label_loss: 0.1238, \n"
     ]
    },
    {
     "name": "stdout",
     "output_type": "stream",
     "text": [
      "epoch: 10, [batch: 756 / 2520], examples_per_second: 3916.4617, train_label_loss: 0.3264, \n"
     ]
    },
    {
     "name": "stdout",
     "output_type": "stream",
     "text": [
      "epoch: 10, [batch: 1008 / 2520], examples_per_second: 3878.2058, train_label_loss: 0.1908, \n"
     ]
    },
    {
     "name": "stdout",
     "output_type": "stream",
     "text": [
      "epoch: 10, [batch: 1260 / 2520], examples_per_second: 3773.6549, train_label_loss: 0.3701, \n"
     ]
    },
    {
     "name": "stdout",
     "output_type": "stream",
     "text": [
      "epoch: 10, [batch: 1512 / 2520], examples_per_second: 3870.0433, train_label_loss: 0.0697, \n"
     ]
    },
    {
     "name": "stdout",
     "output_type": "stream",
     "text": [
      "epoch: 10, [batch: 1764 / 2520], examples_per_second: 3844.9175, train_label_loss: 0.0879, \n"
     ]
    },
    {
     "name": "stdout",
     "output_type": "stream",
     "text": [
      "epoch: 10, [batch: 2016 / 2520], examples_per_second: 3913.7725, train_label_loss: 0.2389, \n"
     ]
    },
    {
     "name": "stdout",
     "output_type": "stream",
     "text": [
      "epoch: 10, [batch: 2268 / 2520], examples_per_second: 4115.7710, train_label_loss: 0.0480, \n"
     ]
    },
    {
     "name": "stdout",
     "output_type": "stream",
     "text": [
      "=============================================================\n",
      "epoch: 10, source_val_acc_label: 0.9175, target_val_acc_label: 0.7906, source_val_label_loss: 0.2215, target_val_label_loss: 6.8784, \n",
      "=============================================================\n"
     ]
    },
    {
     "name": "stdout",
     "output_type": "stream",
     "text": [
      "New best\n"
     ]
    },
    {
     "name": "stdout",
     "output_type": "stream",
     "text": [
      "epoch: 11, [batch: 1 / 2520], examples_per_second: 9.3411, train_label_loss: 0.2056, \n"
     ]
    },
    {
     "name": "stdout",
     "output_type": "stream",
     "text": [
      "epoch: 11, [batch: 252 / 2520], examples_per_second: 3945.8471, train_label_loss: 0.2945, \n"
     ]
    },
    {
     "name": "stdout",
     "output_type": "stream",
     "text": [
      "epoch: 11, [batch: 504 / 2520], examples_per_second: 4065.6541, train_label_loss: 0.2290, \n"
     ]
    },
    {
     "name": "stdout",
     "output_type": "stream",
     "text": [
      "epoch: 11, [batch: 756 / 2520], examples_per_second: 3933.8688, train_label_loss: 0.4035, \n"
     ]
    },
    {
     "name": "stdout",
     "output_type": "stream",
     "text": [
      "epoch: 11, [batch: 1008 / 2520], examples_per_second: 3972.8139, train_label_loss: 0.0276, \n"
     ]
    },
    {
     "name": "stdout",
     "output_type": "stream",
     "text": [
      "epoch: 11, [batch: 1260 / 2520], examples_per_second: 4001.0227, train_label_loss: 0.0980, \n"
     ]
    },
    {
     "name": "stdout",
     "output_type": "stream",
     "text": [
      "epoch: 11, [batch: 1512 / 2520], examples_per_second: 3804.9951, train_label_loss: 0.0687, \n"
     ]
    },
    {
     "name": "stdout",
     "output_type": "stream",
     "text": [
      "epoch: 11, [batch: 1764 / 2520], examples_per_second: 3867.4321, train_label_loss: 0.4790, \n"
     ]
    },
    {
     "name": "stdout",
     "output_type": "stream",
     "text": [
      "epoch: 11, [batch: 2016 / 2520], examples_per_second: 3940.0057, train_label_loss: 0.0775, \n"
     ]
    },
    {
     "name": "stdout",
     "output_type": "stream",
     "text": [
      "epoch: 11, [batch: 2268 / 2520], examples_per_second: 3963.5685, train_label_loss: 0.1519, \n"
     ]
    },
    {
     "name": "stdout",
     "output_type": "stream",
     "text": [
      "=============================================================\n",
      "epoch: 11, source_val_acc_label: 0.9053, target_val_acc_label: 0.7796, source_val_label_loss: 0.2552, target_val_label_loss: 8.3764, \n",
      "=============================================================\n"
     ]
    },
    {
     "name": "stdout",
     "output_type": "stream",
     "text": [
      "epoch: 12, [batch: 1 / 2520], examples_per_second: 9.1825, train_label_loss: 0.2938, \n"
     ]
    },
    {
     "name": "stdout",
     "output_type": "stream",
     "text": [
      "epoch: 12, [batch: 252 / 2520], examples_per_second: 3778.6555, train_label_loss: 0.3405, \n"
     ]
    },
    {
     "name": "stdout",
     "output_type": "stream",
     "text": [
      "epoch: 12, [batch: 504 / 2520], examples_per_second: 3903.8109, train_label_loss: 0.0885, \n"
     ]
    },
    {
     "name": "stdout",
     "output_type": "stream",
     "text": [
      "epoch: 12, [batch: 756 / 2520], examples_per_second: 3937.5428, train_label_loss: 0.2940, \n"
     ]
    },
    {
     "name": "stdout",
     "output_type": "stream",
     "text": [
      "epoch: 12, [batch: 1008 / 2520], examples_per_second: 3905.7174, train_label_loss: 0.0466, \n"
     ]
    },
    {
     "name": "stdout",
     "output_type": "stream",
     "text": [
      "epoch: 12, [batch: 1260 / 2520], examples_per_second: 3922.2937, train_label_loss: 0.1582, \n"
     ]
    },
    {
     "name": "stdout",
     "output_type": "stream",
     "text": [
      "epoch: 12, [batch: 1512 / 2520], examples_per_second: 3937.7165, train_label_loss: 0.0931, \n"
     ]
    },
    {
     "name": "stdout",
     "output_type": "stream",
     "text": [
      "epoch: 12, [batch: 1764 / 2520], examples_per_second: 3921.5241, train_label_loss: 0.1994, \n"
     ]
    },
    {
     "name": "stdout",
     "output_type": "stream",
     "text": [
      "epoch: 12, [batch: 2016 / 2520], examples_per_second: 3994.5392, train_label_loss: 0.1320, \n"
     ]
    },
    {
     "name": "stdout",
     "output_type": "stream",
     "text": [
      "epoch: 12, [batch: 2268 / 2520], examples_per_second: 4068.8228, train_label_loss: 0.1009, \n"
     ]
    },
    {
     "name": "stdout",
     "output_type": "stream",
     "text": [
      "=============================================================\n",
      "epoch: 12, source_val_acc_label: 0.9175, target_val_acc_label: 0.7830, source_val_label_loss: 0.2290, target_val_label_loss: 9.7753, \n",
      "=============================================================\n"
     ]
    },
    {
     "name": "stdout",
     "output_type": "stream",
     "text": [
      "epoch: 13, [batch: 1 / 2520], examples_per_second: 9.3038, train_label_loss: 0.1482, \n"
     ]
    },
    {
     "name": "stdout",
     "output_type": "stream",
     "text": [
      "epoch: 13, [batch: 252 / 2520], examples_per_second: 3842.3106, train_label_loss: 0.5062, \n"
     ]
    },
    {
     "name": "stdout",
     "output_type": "stream",
     "text": [
      "epoch: 13, [batch: 504 / 2520], examples_per_second: 3888.7122, train_label_loss: 0.0963, \n"
     ]
    },
    {
     "name": "stdout",
     "output_type": "stream",
     "text": [
      "epoch: 13, [batch: 756 / 2520], examples_per_second: 3916.2125, train_label_loss: 0.1687, \n"
     ]
    },
    {
     "name": "stdout",
     "output_type": "stream",
     "text": [
      "epoch: 13, [batch: 1008 / 2520], examples_per_second: 3939.9198, train_label_loss: 0.2302, \n"
     ]
    },
    {
     "name": "stdout",
     "output_type": "stream",
     "text": [
      "epoch: 13, [batch: 1260 / 2520], examples_per_second: 4007.0541, train_label_loss: 0.1206, \n"
     ]
    },
    {
     "name": "stdout",
     "output_type": "stream",
     "text": [
      "epoch: 13, [batch: 1512 / 2520], examples_per_second: 4131.9196, train_label_loss: 0.0964, \n"
     ]
    },
    {
     "name": "stdout",
     "output_type": "stream",
     "text": [
      "epoch: 13, [batch: 1764 / 2520], examples_per_second: 3924.2068, train_label_loss: 0.1547, \n"
     ]
    },
    {
     "name": "stdout",
     "output_type": "stream",
     "text": [
      "epoch: 13, [batch: 2016 / 2520], examples_per_second: 3943.3767, train_label_loss: 0.5119, \n"
     ]
    },
    {
     "name": "stdout",
     "output_type": "stream",
     "text": [
      "epoch: 13, [batch: 2268 / 2520], examples_per_second: 4021.0712, train_label_loss: 0.0596, \n"
     ]
    },
    {
     "name": "stdout",
     "output_type": "stream",
     "text": [
      "=============================================================\n",
      "epoch: 13, source_val_acc_label: 0.9119, target_val_acc_label: 0.7706, source_val_label_loss: 0.2475, target_val_label_loss: 9.7347, \n",
      "=============================================================\n"
     ]
    },
    {
     "name": "stdout",
     "output_type": "stream",
     "text": [
      "epoch: 14, [batch: 1 / 2520], examples_per_second: 9.1560, train_label_loss: 0.0371, \n"
     ]
    },
    {
     "name": "stdout",
     "output_type": "stream",
     "text": [
      "epoch: 14, [batch: 252 / 2520], examples_per_second: 4026.5776, train_label_loss: 0.2194, \n"
     ]
    },
    {
     "name": "stdout",
     "output_type": "stream",
     "text": [
      "epoch: 14, [batch: 504 / 2520], examples_per_second: 3976.7307, train_label_loss: 0.0319, \n"
     ]
    },
    {
     "name": "stdout",
     "output_type": "stream",
     "text": [
      "epoch: 14, [batch: 756 / 2520], examples_per_second: 4039.5017, train_label_loss: 0.0971, \n"
     ]
    },
    {
     "name": "stdout",
     "output_type": "stream",
     "text": [
      "epoch: 14, [batch: 1008 / 2520], examples_per_second: 4027.6843, train_label_loss: 0.1350, \n"
     ]
    },
    {
     "name": "stdout",
     "output_type": "stream",
     "text": [
      "epoch: 14, [batch: 1260 / 2520], examples_per_second: 4056.5616, train_label_loss: 0.1866, \n"
     ]
    },
    {
     "name": "stdout",
     "output_type": "stream",
     "text": [
      "epoch: 14, [batch: 1512 / 2520], examples_per_second: 4120.6747, train_label_loss: 0.0587, \n"
     ]
    },
    {
     "name": "stdout",
     "output_type": "stream",
     "text": [
      "epoch: 14, [batch: 1764 / 2520], examples_per_second: 4084.9697, train_label_loss: 0.2774, \n"
     ]
    },
    {
     "name": "stdout",
     "output_type": "stream",
     "text": [
      "epoch: 14, [batch: 2016 / 2520], examples_per_second: 4016.4200, train_label_loss: 0.3681, \n"
     ]
    },
    {
     "name": "stdout",
     "output_type": "stream",
     "text": [
      "epoch: 14, [batch: 2268 / 2520], examples_per_second: 3970.0319, train_label_loss: 0.1850, \n"
     ]
    },
    {
     "name": "stdout",
     "output_type": "stream",
     "text": [
      "=============================================================\n",
      "epoch: 14, source_val_acc_label: 0.9177, target_val_acc_label: 0.7837, source_val_label_loss: 0.2347, target_val_label_loss: 8.8731, \n",
      "=============================================================\n"
     ]
    },
    {
     "name": "stdout",
     "output_type": "stream",
     "text": [
      "Patience (3) exhausted\n"
     ]
    }
   ],
   "source": [
    "###################################\n",
    "# train\n",
    "###################################\n",
    "jig = PTN_Train_Eval_Test_Jig(model, p.BEST_MODEL_PATH, p.device)\n",
    "\n",
    "jig.train(\n",
    "    train_iterable=datasets.source.processed.train,\n",
    "    source_val_iterable=datasets.source.processed.val,\n",
    "    target_val_iterable=datasets.target.processed.val,\n",
    "    num_epochs=p.n_epoch,\n",
    "    num_logs_per_epoch=p.NUM_LOGS_PER_EPOCH,\n",
    "    patience=p.patience,\n",
    "    optimizer=optimizer,\n",
    "    criteria_for_best=p.criteria_for_best,\n",
    ")"
   ]
  },
  {
   "cell_type": "code",
   "execution_count": 14,
   "id": "31e8fabf",
   "metadata": {
    "execution": {
     "iopub.execute_input": "2022-03-26T14:21:48.504289Z",
     "iopub.status.busy": "2022-03-26T14:21:48.503919Z",
     "iopub.status.idle": "2022-03-26T14:21:48.535921Z",
     "shell.execute_reply": "2022-03-26T14:21:48.535063Z"
    },
    "papermill": {
     "duration": 0.094091,
     "end_time": "2022-03-26T14:21:48.536075",
     "exception": false,
     "start_time": "2022-03-26T14:21:48.441984",
     "status": "completed"
    },
    "tags": []
   },
   "outputs": [],
   "source": [
    "total_experiment_time_secs = time.time() - start_time_secs"
   ]
  },
  {
   "cell_type": "code",
   "execution_count": 15,
   "id": "87b9595b",
   "metadata": {
    "execution": {
     "iopub.execute_input": "2022-03-26T14:21:48.666876Z",
     "iopub.status.busy": "2022-03-26T14:21:48.665999Z",
     "iopub.status.idle": "2022-03-26T14:23:15.631639Z",
     "shell.execute_reply": "2022-03-26T14:23:15.632322Z"
    },
    "papermill": {
     "duration": 87.031987,
     "end_time": "2022-03-26T14:23:15.632558",
     "exception": false,
     "start_time": "2022-03-26T14:21:48.600571",
     "status": "completed"
    },
    "tags": []
   },
   "outputs": [],
   "source": [
    "###################################\n",
    "# Evaluate the model\n",
    "###################################\n",
    "source_test_label_accuracy, source_test_label_loss = jig.test(datasets.source.processed.test)\n",
    "target_test_label_accuracy, target_test_label_loss = jig.test(datasets.target.processed.test)\n",
    "\n",
    "source_val_label_accuracy, source_val_label_loss = jig.test(datasets.source.processed.val)\n",
    "target_val_label_accuracy, target_val_label_loss = jig.test(datasets.target.processed.val)\n",
    "\n",
    "history = jig.get_history()\n",
    "\n",
    "total_epochs_trained = len(history[\"epoch_indices\"])\n",
    "\n",
    "val_dl = Iterable_Aggregator((datasets.source.original.val,datasets.target.original.val))\n",
    "\n",
    "confusion = ptn_confusion_by_domain_over_dataloader(model, p.device, val_dl)\n",
    "per_domain_accuracy = per_domain_accuracy_from_confusion(confusion)\n",
    "\n",
    "# Add a key to per_domain_accuracy for if it was a source domain\n",
    "for domain, accuracy in per_domain_accuracy.items():\n",
    "    per_domain_accuracy[domain] = {\n",
    "        \"accuracy\": accuracy,\n",
    "        \"source?\": domain in p.domains_source\n",
    "    }\n",
    "\n",
    "# Do an independent accuracy assesment JUST TO BE SURE!\n",
    "# _source_test_label_accuracy = independent_accuracy_assesment(model, datasets.source.processed.test, p.device)\n",
    "# _target_test_label_accuracy = independent_accuracy_assesment(model, datasets.target.processed.test, p.device)\n",
    "# _source_val_label_accuracy = independent_accuracy_assesment(model, datasets.source.processed.val, p.device)\n",
    "# _target_val_label_accuracy = independent_accuracy_assesment(model, datasets.target.processed.val, p.device)\n",
    "\n",
    "# assert(_source_test_label_accuracy == source_test_label_accuracy)\n",
    "# assert(_target_test_label_accuracy == target_test_label_accuracy)\n",
    "# assert(_source_val_label_accuracy == source_val_label_accuracy)\n",
    "# assert(_target_val_label_accuracy == target_val_label_accuracy)\n",
    "\n",
    "experiment = {\n",
    "    \"experiment_name\": p.experiment_name,\n",
    "    \"parameters\": dict(p),\n",
    "    \"results\": {\n",
    "        \"source_test_label_accuracy\": source_test_label_accuracy,\n",
    "        \"source_test_label_loss\": source_test_label_loss,\n",
    "        \"target_test_label_accuracy\": target_test_label_accuracy,\n",
    "        \"target_test_label_loss\": target_test_label_loss,\n",
    "        \"source_val_label_accuracy\": source_val_label_accuracy,\n",
    "        \"source_val_label_loss\": source_val_label_loss,\n",
    "        \"target_val_label_accuracy\": target_val_label_accuracy,\n",
    "        \"target_val_label_loss\": target_val_label_loss,\n",
    "        \"total_epochs_trained\": total_epochs_trained,\n",
    "        \"total_experiment_time_secs\": total_experiment_time_secs,\n",
    "        \"confusion\": confusion,\n",
    "        \"per_domain_accuracy\": per_domain_accuracy,\n",
    "    },\n",
    "    \"history\": history,\n",
    "    \"dataset_metrics\": get_dataset_metrics(datasets, \"ptn\"),\n",
    "}"
   ]
  },
  {
   "cell_type": "code",
   "execution_count": 16,
   "id": "54a21829",
   "metadata": {
    "execution": {
     "iopub.execute_input": "2022-03-26T14:23:15.759261Z",
     "iopub.status.busy": "2022-03-26T14:23:15.758889Z",
     "iopub.status.idle": "2022-03-26T14:23:15.989034Z",
     "shell.execute_reply": "2022-03-26T14:23:15.989738Z"
    },
    "papermill": {
     "duration": 0.293666,
     "end_time": "2022-03-26T14:23:15.989927",
     "exception": false,
     "start_time": "2022-03-26T14:23:15.696261",
     "status": "completed"
    },
    "tags": []
   },
   "outputs": [
    {
     "data": {
      "image/png": "[encoded data removed]",
      "text/plain": [
       "<Figure size 1080x504 with 1 Axes>"
      ]
     },
     "metadata": {
      "needs_background": "light"
     },
     "output_type": "display_data"
    }
   ],
   "source": [
    "ax = get_loss_curve(experiment)\n",
    "plt.show()"
   ]
  },
  {
   "cell_type": "code",
   "execution_count": 17,
   "id": "fd8a0f60",
   "metadata": {
    "execution": {
     "iopub.execute_input": "2022-03-26T14:23:16.124991Z",
     "iopub.status.busy": "2022-03-26T14:23:16.124420Z",
     "iopub.status.idle": "2022-03-26T14:23:16.484821Z",
     "shell.execute_reply": "2022-03-26T14:23:16.485482Z"
    },
    "papermill": {
     "duration": 0.4318,
     "end_time": "2022-03-26T14:23:16.485675",
     "exception": false,
     "start_time": "2022-03-26T14:23:16.053875",
     "status": "completed"
    },
    "tags": []
   },
   "outputs": [
    {
     "data": {
      "text/plain": [
       "<AxesSubplot:title={'center':'Results'}>"
      ]
     },
     "execution_count": 17,
     "metadata": {},
     "output_type": "execute_result"
    },
    {
     "data": {
      "image/png": "[encoded data removed]",
      "text/plain": [
       "<Figure size 1080x504 with 1 Axes>"
      ]
     },
     "metadata": {
      "needs_background": "light"
     },
     "output_type": "display_data"
    }
   ],
   "source": [
    "get_results_table(experiment)"
   ]
  },
  {
   "cell_type": "code",
   "execution_count": 18,
   "id": "cf8dc689",
   "metadata": {
    "execution": {
     "iopub.execute_input": "2022-03-26T14:23:16.616375Z",
     "iopub.status.busy": "2022-03-26T14:23:16.615988Z",
     "iopub.status.idle": "2022-03-26T14:23:16.834378Z",
     "shell.execute_reply": "2022-03-26T14:23:16.835058Z"
    },
    "papermill": {
     "duration": 0.284077,
     "end_time": "2022-03-26T14:23:16.835242",
     "exception": false,
     "start_time": "2022-03-26T14:23:16.551165",
     "status": "completed"
    },
    "tags": []
   },
   "outputs": [
    {
     "data": {
      "text/plain": [
       "<AxesSubplot:title={'center':'Per Domain Validation Accuracy'}, xlabel='domain'>"
      ]
     },
     "execution_count": 18,
     "metadata": {},
     "output_type": "execute_result"
    },
    {
     "data": {
      "image/png": "[encoded data removed]",
      "text/plain": [
       "<Figure size 1080x504 with 1 Axes>"
      ]
     },
     "metadata": {
      "needs_background": "light"
     },
     "output_type": "display_data"
    }
   ],
   "source": [
    "get_domain_accuracies(experiment)"
   ]
  },
  {
   "cell_type": "code",
   "execution_count": 19,
   "id": "a74ae082",
   "metadata": {
    "execution": {
     "iopub.execute_input": "2022-03-26T14:23:16.971386Z",
     "iopub.status.busy": "2022-03-26T14:23:16.971017Z",
     "iopub.status.idle": "2022-03-26T14:23:16.993880Z",
     "shell.execute_reply": "2022-03-26T14:23:16.993067Z"
    },
    "papermill": {
     "duration": 0.089744,
     "end_time": "2022-03-26T14:23:16.994032",
     "exception": false,
     "start_time": "2022-03-26T14:23:16.904288",
     "status": "completed"
    },
    "tags": []
   },
   "outputs": [
    {
     "name": "stdout",
     "output_type": "stream",
     "text": [
      "Source Test Label Accuracy: 0.9151909722222222 Target Test Label Accuracy: 0.7946875\n",
      "Source Val Label Accuracy: 0.9175347222222222 Target Val Label Accuracy: 0.790625\n"
     ]
    }
   ],
   "source": [
    "print(\"Source Test Label Accuracy:\", experiment[\"results\"][\"source_test_label_accuracy\"], \"Target Test Label Accuracy:\", experiment[\"results\"][\"target_test_label_accuracy\"])\n",
    "print(\"Source Val Label Accuracy:\", experiment[\"results\"][\"source_val_label_accuracy\"], \"Target Val Label Accuracy:\", experiment[\"results\"][\"target_val_label_accuracy\"])"
   ]
  },
  {
   "cell_type": "code",
   "execution_count": 20,
   "id": "dacca602",
   "metadata": {
    "execution": {
     "iopub.execute_input": "2022-03-26T14:23:17.128788Z",
     "iopub.status.busy": "2022-03-26T14:23:17.128206Z",
     "iopub.status.idle": "2022-03-26T14:23:17.151605Z",
     "shell.execute_reply": "2022-03-26T14:23:17.152290Z"
    },
    "papermill": {
     "duration": 0.090407,
     "end_time": "2022-03-26T14:23:17.152478",
     "exception": false,
     "start_time": "2022-03-26T14:23:17.062071",
     "status": "completed"
    },
    "tags": [
     "experiment_json"
    ]
   },
   "outputs": [
    {
     "data": {
      "text/plain": [
       "'{\"experiment_name\": \"tuned_1v2:oracle.run2.framed\", \"parameters\": {\"experiment_name\": \"tuned_1v2:oracle.run2.framed\", \"device\": \"cuda\", \"lr\": 0.0001, \"labels_source\": [\"3123D52\", \"3123D65\", \"3123D79\", \"3123D80\", \"3123D54\", \"3123D70\", \"3123D7B\", \"3123D89\", \"3123D58\", \"3123D76\", \"3123D7D\", \"3123EFE\", \"3123D64\", \"3123D78\", \"3123D7E\", \"3124E4A\"], \"labels_target\": [\"3123D52\", \"3123D65\", \"3123D79\", \"3123D80\", \"3123D54\", \"3123D70\", \"3123D7B\", \"3123D89\", \"3123D58\", \"3123D76\", \"3123D7D\", \"3123EFE\", \"3123D64\", \"3123D78\", \"3123D7E\", \"3124E4A\"], \"episode_transforms_source\": [], \"episode_transforms_target\": [], \"domains_source\": [8, 32, 50], \"domains_target\": [14, 20, 26, 38, 44], \"num_examples_per_domain_per_label_source\": -1, \"num_examples_per_domain_per_label_target\": -1, \"n_shot\": 3, \"n_way\": 16, \"n_query\": 2, \"train_k_factor\": 3, \"val_k_factor\": 2, \"test_k_factor\": 2, \"torch_default_dtype\": \"torch.float32\", \"n_epoch\": 50, \"patience\": 3, \"criteria_for_best\": \"target_accuracy\", \"x_net\": [{\"class\": \"nnReshape\", \"kargs\": {\"shape\": [-1, 1, 2, 256]}}, {\"class\": \"Conv2d\", \"kargs\": {\"in_channels\": 1, \"out_channels\": 256, \"kernel_size\": [1, 7], \"bias\": false, \"padding\": [0, 3]}}, {\"class\": \"ReLU\", \"kargs\": {\"inplace\": true}}, {\"class\": \"BatchNorm2d\", \"kargs\": {\"num_features\": 256}}, {\"class\": \"Conv2d\", \"kargs\": {\"in_channels\": 256, \"out_channels\": 80, \"kernel_size\": [2, 7], \"bias\": true, \"padding\": [0, 3]}}, {\"class\": \"ReLU\", \"kargs\": {\"inplace\": true}}, {\"class\": \"BatchNorm2d\", \"kargs\": {\"num_features\": 80}}, {\"class\": \"Flatten\", \"kargs\": {}}, {\"class\": \"Linear\", \"kargs\": {\"in_features\": 20480, \"out_features\": 256}}, {\"class\": \"ReLU\", \"kargs\": {\"inplace\": true}}, {\"class\": \"BatchNorm1d\", \"kargs\": {\"num_features\": 256}}, {\"class\": \"Linear\", \"kargs\": {\"in_features\": 256, \"out_features\": 256}}], \"NUM_LOGS_PER_EPOCH\": 10, \"BEST_MODEL_PATH\": \"./best_model.pth\", \"pickle_name\": \"oracle.Run2_framed_2000Examples_stratified_ds.2022A.pkl\", \"x_transforms_source\": [\"unit_power\"], \"x_transforms_target\": [\"unit_power\"], \"dataset_seed\": 7, \"seed\": 7}, \"results\": {\"source_test_label_accuracy\": 0.9151909722222222, \"source_test_label_loss\": 0.23970860242843628, \"target_test_label_accuracy\": 0.7946875, \"target_test_label_loss\": 7.316371440887451, \"source_val_label_accuracy\": 0.9175347222222222, \"source_val_label_loss\": 0.22148030996322632, \"target_val_label_accuracy\": 0.790625, \"target_val_label_loss\": 6.878424644470215, \"total_epochs_trained\": 14, \"total_experiment_time_secs\": 882.4864482879639, \"confusion\": {\"50\": {\"0\": {\"0\": 234, \"2\": 6}, \"4\": {\"4\": 160, \"5\": 61, \"6\": 11, \"1\": 7, \"13\": 1}, \"14\": {\"14\": 240}, \"12\": {\"12\": 236, \"9\": 3, \"11\": 1}, \"8\": {\"8\": 238, \"3\": 2}, \"7\": {\"7\": 220, \"13\": 14, \"5\": 4, \"10\": 2}, \"13\": {\"10\": 18, \"13\": 212, \"7\": 10}, \"5\": {\"5\": 146, \"4\": 60, \"7\": 14, \"6\": 11, \"13\": 4, \"10\": 2, \"1\": 3}, \"15\": {\"6\": 1, \"15\": 236, \"11\": 1, \"1\": 2}, \"10\": {\"13\": 27, \"10\": 211, \"5\": 1, \"1\": 1}, \"3\": {\"3\": 240}, \"9\": {\"9\": 240}, \"6\": {\"6\": 227, \"1\": 4, \"5\": 4, \"4\": 5}, \"1\": {\"1\": 229, \"6\": 3, \"4\": 5, \"15\": 3}, \"11\": {\"11\": 237, \"15\": 2, \"12\": 1}, \"2\": {\"2\": 233, \"0\": 7}}, \"8\": {\"1\": {\"1\": 237, \"13\": 3}, \"11\": {\"11\": 220, \"8\": 17, \"12\": 2, \"15\": 1}, \"3\": {\"3\": 238, \"12\": 2}, \"6\": {\"6\": 177, \"4\": 51, \"7\": 11, \"14\": 1}, \"7\": {\"7\": 178, \"6\": 14, \"4\": 47, \"2\": 1}, \"5\": {\"5\": 225, \"10\": 15}, \"2\": {\"2\": 237, \"7\": 3}, \"15\": {\"15\": 214, \"8\": 13, \"12\": 11, \"11\": 2}, \"10\": {\"10\": 205, \"5\": 14, \"0\": 18, \"13\": 2, \"14\": 1}, \"13\": {\"13\": 226, \"1\": 6, \"14\": 6, \"10\": 2}, \"8\": {\"8\": 237, \"15\": 1, \"11\": 2}, \"4\": {\"4\": 143, \"6\": 38, \"2\": 2, \"7\": 57}, \"9\": {\"9\": 240}, \"14\": {\"14\": 228, \"13\": 5, \"0\": 6, \"6\": 1}, \"0\": {\"0\": 226, \"10\": 9, \"14\": 5}, \"12\": {\"12\": 231, \"15\": 9}}, \"32\": {\"15\": {\"15\": 240}, \"11\": {\"11\": 209, \"7\": 10, \"4\": 2, \"13\": 3, \"0\": 16}, \"10\": {\"10\": 240}, \"14\": {\"14\": 227, \"0\": 9, \"5\": 3, \"8\": 1}, \"6\": {\"6\": 240}, \"4\": {\"4\": 198, \"13\": 26, \"5\": 2, \"7\": 12, \"11\": 2}, \"13\": {\"4\": 38, \"13\": 194, \"7\": 5, \"11\": 1, \"8\": 2}, \"3\": {\"3\": 237, \"7\": 1, \"8\": 1, \"13\": 1}, \"7\": {\"7\": 206, \"4\": 12, \"5\": 6, \"11\": 10, \"2\": 2, \"13\": 4}, \"8\": {\"8\": 219, \"0\": 14, \"5\": 4, \"3\": 3}, \"1\": {\"1\": 240}, \"5\": {\"5\": 201, \"4\": 6, \"0\": 5, \"8\": 6, \"2\": 13, \"7\": 4, \"14\": 3, \"11\": 1, \"13\": 1}, \"0\": {\"0\": 206, \"11\": 13, \"14\": 3, \"8\": 17, \"4\": 1}, \"2\": {\"2\": 232, \"5\": 4, \"14\": 1, \"4\": 3}, \"12\": {\"12\": 240}, \"9\": {\"9\": 240}}, \"26\": {\"0\": {\"10\": 54, \"0\": 105, \"8\": 16, \"14\": 39, \"4\": 25, \"1\": 1}, \"4\": {\"4\": 191, \"14\": 8, \"15\": 2, \"8\": 6, \"7\": 12, \"3\": 8, \"2\": 5, \"0\": 7, \"1\": 1}, \"14\": {\"8\": 12, \"14\": 119, \"0\": 50, \"1\": 28, \"10\": 23, \"4\": 8}, \"12\": {\"12\": 240}, \"8\": {\"8\": 135, \"7\": 19, \"14\": 13, \"4\": 14, \"2\": 20, \"0\": 22, \"10\": 15, \"9\": 1, \"5\": 1}, \"7\": {\"7\": 115, \"2\": 73, \"4\": 16, \"3\": 17, \"8\": 10, \"5\": 6, \"15\": 3}, \"13\": {\"13\": 203, \"5\": 34, \"9\": 3}, \"5\": {\"5\": 133, \"9\": 5, \"13\": 61, \"6\": 3, \"2\": 18, \"3\": 3, \"7\": 14, \"8\": 3}, \"15\": {\"7\": 13, \"15\": 178, \"2\": 19, \"3\": 23, \"8\": 3, \"4\": 3, \"5\": 1}, \"10\": {\"10\": 101, \"6\": 8, \"0\": 71, \"14\": 28, \"4\": 10, \"8\": 18, \"7\": 1, \"1\": 2, \"15\": 1}, \"3\": {\"3\": 188, \"7\": 21, \"2\": 23, \"15\": 4, \"4\": 4}, \"9\": {\"9\": 215, \"8\": 2, \"6\": 18, \"13\": 1, \"15\": 2, \"5\": 2}, \"6\": {\"6\": 209, \"9\": 28, \"8\": 1, \"10\": 2}, \"1\": {\"1\": 200, \"14\": 33, \"8\": 1, \"4\": 3, \"0\": 3}, \"11\": {\"11\": 240}, \"2\": {\"3\": 22, \"2\": 99, \"7\": 86, \"8\": 12, \"5\": 9, \"15\": 8, \"4\": 3, \"0\": 1}}, \"44\": {\"1\": {\"1\": 192, \"12\": 40, \"3\": 8}, \"11\": {\"11\": 222, \"6\": 14, \"10\": 1, \"7\": 3}, \"3\": {\"3\": 228, \"1\": 5, \"12\": 6, \"2\": 1}, \"6\": {\"6\": 230, \"9\": 6, \"7\": 2, \"13\": 2}, \"7\": {\"9\": 71, \"7\": 135, \"2\": 30, \"6\": 4}, \"5\": {\"5\": 226, \"14\": 13, \"0\": 1}, \"2\": {\"2\": 200, \"9\": 20, \"1\": 1, \"7\": 19}, \"15\": {\"15\": 202, \"4\": 7, \"14\": 28, \"8\": 3}, \"10\": {\"10\": 234, \"12\": 1, \"1\": 5}, \"13\": {\"13\": 229, \"4\": 7, \"6\": 4}, \"8\": {\"8\": 145, \"0\": 93, \"15\": 2}, \"4\": {\"4\": 218, \"14\": 16, \"15\": 2, \"13\": 4}, \"9\": {\"2\": 20, \"9\": 134, \"7\": 80, \"6\": 6}, \"14\": {\"14\": 181, \"15\": 18, \"5\": 20, \"4\": 19, \"8\": 2}, \"0\": {\"8\": 112, \"0\": 125, \"5\": 3}, \"12\": {\"12\": 188, \"1\": 47, \"3\": 5}}, \"20\": {\"15\": {\"15\": 159, \"1\": 11, \"12\": 8, \"0\": 2, \"13\": 36, \"2\": 8, \"5\": 13, \"9\": 3}, \"4\": {\"4\": 237, \"1\": 1, \"14\": 1, \"12\": 1}, \"6\": {\"6\": 231, \"14\": 8, \"8\": 1}, \"2\": {\"2\": 129, \"3\": 28, \"9\": 42, \"12\": 26, \"15\": 4, \"5\": 9, \"13\": 1, \"1\": 1}, \"5\": {\"5\": 176, \"15\": 9, \"12\": 13, \"7\": 9, \"2\": 14, \"4\": 3, \"13\": 2, \"0\": 12, \"3\": 2}, \"9\": {\"9\": 173, \"2\": 35, \"12\": 7, \"1\": 3, \"3\": 20, \"15\": 1, \"5\": 1}, \"8\": {\"8\": 201, \"5\": 1, \"14\": 27, \"6\": 3, \"4\": 4, \"7\": 4}, \"12\": {\"12\": 148, \"5\": 13, \"15\": 5, \"2\": 25, \"3\": 4, \"1\": 40, \"9\": 5}, \"10\": {\"10\": 240}, \"1\": {\"12\": 51, \"1\": 170, \"5\": 2, \"15\": 4, \"2\": 5, \"9\": 8}, \"0\": {\"0\": 220, \"5\": 8, \"15\": 11, \"13\": 1}, \"3\": {\"3\": 180, \"9\": 25, \"2\": 17, \"7\": 9, \"12\": 7, \"5\": 2}, \"13\": {\"13\": 192, \"15\": 46, \"5\": 1, \"0\": 1}, \"11\": {\"11\": 240}, \"7\": {\"7\": 224, \"5\": 2, \"8\": 8, \"3\": 6}, \"14\": {\"14\": 208, \"8\": 26, \"6\": 6}}, \"38\": {\"15\": {\"15\": 170, \"5\": 37, \"8\": 22, \"1\": 11}, \"11\": {\"11\": 133, \"4\": 53, \"12\": 8, \"3\": 5, \"14\": 32, \"9\": 2, \"2\": 4, \"10\": 3}, \"10\": {\"8\": 4, \"10\": 184, \"13\": 3, \"7\": 42, \"3\": 4, \"0\": 3}, \"14\": {\"14\": 135, \"2\": 78, \"7\": 5, \"4\": 11, \"12\": 6, \"8\": 2, \"5\": 3}, \"6\": {\"6\": 231, \"9\": 9}, \"4\": {\"4\": 237, \"12\": 3}, \"13\": {\"10\": 33, \"13\": 163, \"8\": 12, \"3\": 22, \"1\": 1, \"0\": 2, \"4\": 3, \"7\": 2, \"5\": 1, \"15\": 1}, \"3\": {\"3\": 141, \"13\": 34, \"7\": 1, \"0\": 41, \"10\": 16, \"9\": 4, \"8\": 3}, \"7\": {\"7\": 137, \"10\": 40, \"8\": 33, \"5\": 29, \"13\": 1}, \"8\": {\"8\": 139, \"5\": 66, \"7\": 25, \"15\": 8, \"13\": 2}, \"1\": {\"1\": 230, \"15\": 10}, \"5\": {\"8\": 79, \"5\": 116, \"7\": 29, \"15\": 12, \"10\": 3, \"13\": 1}, \"0\": {\"0\": 220, \"7\": 2, \"3\": 12, \"8\": 2, \"5\": 1, \"15\": 1, \"9\": 1, \"10\": 1}, \"2\": {\"2\": 209, \"14\": 31}, \"12\": {\"12\": 239, \"14\": 1}, \"9\": {\"9\": 226, \"6\": 14}}, \"14\": {\"0\": {\"0\": 240}, \"12\": {\"12\": 119, \"11\": 57, \"8\": 15, \"0\": 15, \"9\": 33, \"10\": 1}, \"1\": {\"1\": 229, \"5\": 9, \"4\": 2}, \"4\": {\"4\": 225, \"5\": 14, \"1\": 1}, \"5\": {\"5\": 196, \"4\": 18, \"1\": 9, \"3\": 6, \"2\": 11}, \"3\": {\"5\": 18, \"3\": 215, \"14\": 3, \"4\": 2, \"2\": 2}, \"7\": {\"7\": 240}, \"15\": {\"15\": 240}, \"13\": {\"6\": 38, \"13\": 200, \"2\": 1, \"14\": 1}, \"10\": {\"10\": 239, \"0\": 1}, \"14\": {\"14\": 212, \"2\": 25, \"13\": 1, \"6\": 2}, \"6\": {\"6\": 206, \"13\": 33, \"4\": 1}, \"9\": {\"9\": 240}, \"2\": {\"14\": 54, \"5\": 53, \"2\": 101, \"13\": 14, \"3\": 16, \"4\": 1, \"6\": 1}, \"8\": {\"8\": 240}, \"11\": {\"11\": 240}}}, \"per_domain_accuracy\": {\"50\": {\"accuracy\": 0.9216145833333333, \"source?\": true}, \"8\": {\"accuracy\": 0.9015625, \"source?\": true}, \"32\": {\"accuracy\": 0.9294270833333333, \"source?\": true}, \"26\": {\"accuracy\": 0.6955729166666667, \"source?\": false}, \"44\": {\"accuracy\": 0.8044270833333333, \"source?\": false}, \"20\": {\"accuracy\": 0.8145833333333333, \"source?\": false}, \"38\": {\"accuracy\": 0.7578125, \"source?\": false}, \"14\": {\"accuracy\": 0.8807291666666667, \"source?\": false}}}, \"history\": {\"epoch_indices\": [1, 2, 3, 4, 5, 6, 7, 8, 9, 10, 11, 12, 13, 14], \"train_label_loss\": [0.9007852094987082, 0.7885795286427888, 0.47428775184920857, 0.3926824581927605, 0.3644349672846378, 0.30068809795562945, 0.26555105359995707, 0.2502262939203767, 0.2172810545978358, 0.2211202398585599, 0.18371695039520367, 0.17585062981705138, 0.16802284776155527, 0.15770419974966596], \"source_val_label_loss\": [2.5727357864379883, 0.5192113518714905, 0.5537073612213135, 0.3560866117477417, 0.3037854731082916, 0.3206619620323181, 0.2821083962917328, 0.29087579250335693, 0.26985377073287964, 0.22148030996322632, 0.2552209794521332, 0.22896789014339447, 0.24746020138263702, 0.23474803566932678], \"target_val_label_loss\": [9.591983795166016, 4.921457290649414, 4.520387649536133, 7.7636637687683105, 5.340265274047852, 6.384389400482178, 7.647202968597412, 7.19642448425293, 8.436542510986328, 6.878424644470215, 8.376386642456055, 9.775300979614258, 9.734707832336426, 8.873062133789062], \"source_val_acc_label\": [0.7341145833333333, 0.8049479166666667, 0.7975694444444444, 0.8740451388888889, 0.8888888888888888, 0.8842881944444444, 0.8979166666666667, 0.8915798611111111, 0.9008680555555556, 0.9175347222222222, 0.9052951388888889, 0.9175347222222222, 0.9118923611111112, 0.9177083333333333], \"target_val_acc_label\": [0.600625, 0.6986458333333333, 0.6749479166666666, 0.7471354166666667, 0.76734375, 0.7647395833333334, 0.7780208333333334, 0.7807291666666667, 0.7709895833333333, 0.790625, 0.7796354166666667, 0.7830208333333334, 0.7705729166666667, 0.7836979166666667]}, \"dataset_metrics\": {\"source\": {\"train\": {\"n_unique_x\": 67200, \"n_unique_y\": 16, \"n_batch/episode\": 2520}, \"val\": {\"n_unique_x\": 14400, \"n_unique_y\": 16, \"n_batch/episode\": 360}, \"test\": {\"n_unique_x\": 14400, \"n_unique_y\": 16, \"n_batch/episode\": 360}}, \"target\": {\"train\": {\"n_unique_x\": 112000, \"n_unique_y\": 16, \"n_batch/episode\": 4200}, \"val\": {\"n_unique_x\": 24000, \"n_unique_y\": 16, \"n_batch/episode\": 600}, \"test\": {\"n_unique_x\": 24000, \"n_unique_y\": 16, \"n_batch/episode\": 600}}}}'"
      ]
     },
     "execution_count": 20,
     "metadata": {},
     "output_type": "execute_result"
    }
   ],
   "source": [
    "json.dumps(experiment)"
   ]
  }
 ],
 "metadata": {
  "celltoolbar": "Tags",
  "kernelspec": {
   "display_name": "Python 3 (ipykernel)",
   "language": "python",
   "name": "python3"
  },
  "language_info": {
   "codemirror_mode": {
    "name": "ipython",
    "version": 3
   },
   "file_extension": ".py",
   "mimetype": "text/x-python",
   "name": "python",
   "nbconvert_exporter": "python",
   "pygments_lexer": "ipython3",
   "version": "3.8.12"
  },
  "papermill": {
   "default_parameters": {},
   "duration": 977.459212,
   "end_time": "2022-03-26T14:23:20.272363",
   "environment_variables": {},
   "exception": null,
   "input_path": "/root/csc500-main/csc500-notebooks/templates/ptn_template.ipynb",
   "output_path": "trial.ipynb",
   "parameters": {
    "parameters": {
     "BEST_MODEL_PATH": "./best_model.pth",
     "NUM_LOGS_PER_EPOCH": 10,
     "criteria_for_best": "target_accuracy",
     "dataset_seed": 7,
     "device": "cuda",
     "domains_source": [
      8,
      32,
      50
     ],
     "domains_target": [
      14,
      20,
      26,
      38,
      44
     ],
     "episode_transforms_source": [],
     "episode_transforms_target": [],
     "experiment_name": "tuned_1v2:oracle.run2.framed",
     "labels_source": [
      "3123D52",
      "3123D65",
      "3123D79",
      "3123D80",
      "3123D54",
      "3123D70",
      "3123D7B",
      "3123D89",
      "3123D58",
      "3123D76",
      "3123D7D",
      "3123EFE",
      "3123D64",
      "3123D78",
      "3123D7E",
      "3124E4A"
     ],
     "labels_target": [
      "3123D52",
      "3123D65",
      "3123D79",
      "3123D80",
      "3123D54",
      "3123D70",
      "3123D7B",
      "3123D89",
      "3123D58",
      "3123D76",
      "3123D7D",
      "3123EFE",
      "3123D64",
      "3123D78",
      "3123D7E",
      "3124E4A"
     ],
     "lr": 0.0001,
     "n_epoch": 50,
     "n_query": 2,
     "n_shot": 3,
     "n_way": 16,
     "num_examples_per_domain_per_label_source": -1,
     "num_examples_per_domain_per_label_target": -1,
     "patience": 3,
     "pickle_name": "oracle.Run2_framed_2000Examples_stratified_ds.2022A.pkl",
     "seed": 7,
     "test_k_factor": 2,
     "torch_default_dtype": "torch.float32",
     "train_k_factor": 3,
     "val_k_factor": 2,
     "x_net": [
      {
       "class": "nnReshape",
       "kargs": {
        "shape": [
         -1,
         1,
         2,
         256
        ]
       }
      },
      {
       "class": "Conv2d",
       "kargs": {
        "bias": false,
        "in_channels": 1,
        "kernel_size": [
         1,
         7
        ],
        "out_channels": 256,
        "padding": [
         0,
         3
        ]
       }
      },
      {
       "class": "ReLU",
       "kargs": {
        "inplace": true
       }
      },
      {
       "class": "BatchNorm2d",
       "kargs": {
        "num_features": 256
       }
      },
      {
       "class": "Conv2d",
       "kargs": {
        "bias": true,
        "in_channels": 256,
        "kernel_size": [
         2,
         7
        ],
        "out_channels": 80,
        "padding": [
         0,
         3
        ]
       }
      },
      {
       "class": "ReLU",
       "kargs": {
        "inplace": true
       }
      },
      {
       "class": "BatchNorm2d",
       "kargs": {
        "num_features": 80
       }
      },
      {
       "class": "Flatten",
       "kargs": {}
      },
      {
       "class": "Linear",
       "kargs": {
        "in_features": 20480,
        "out_features": 256
       }
      },
      {
       "class": "ReLU",
       "kargs": {
        "inplace": true
       }
      },
      {
       "class": "BatchNorm1d",
       "kargs": {
        "num_features": 256
       }
      },
      {
       "class": "Linear",
       "kargs": {
        "in_features": 256,
        "out_features": 256
       }
      }
     ],
     "x_transforms_source": [
      "unit_power"
     ],
     "x_transforms_target": [
      "unit_power"
     ]
    }
   },
   "start_time": "2022-03-26T14:07:02.813151",
   "version": "2.3.4"
  }
 },
 "nbformat": 4,
 "nbformat_minor": 5
}