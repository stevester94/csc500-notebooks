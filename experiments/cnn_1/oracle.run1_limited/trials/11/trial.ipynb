{
 "cells": [
  {
   "cell_type": "code",
   "execution_count": 1,
   "id": "2324682e",
   "metadata": {
    "execution": {
     "iopub.execute_input": "2022-03-25T23:09:47.692598Z",
     "iopub.status.busy": "2022-03-25T23:09:47.691681Z",
     "iopub.status.idle": "2022-03-25T23:09:49.038949Z",
     "shell.execute_reply": "2022-03-25T23:09:49.039650Z"
    },
    "papermill": {
     "duration": 1.381848,
     "end_time": "2022-03-25T23:09:49.039992",
     "exception": false,
     "start_time": "2022-03-25T23:09:47.658144",
     "status": "completed"
    },
    "tags": []
   },
   "outputs": [],
   "source": [
    "import os, json, sys, time, random\n",
    "import numpy as np\n",
    "import torch\n",
    "from  easydict import EasyDict\n",
    "from math import floor\n",
    "from easydict import EasyDict\n",
    "\n",
    "from steves_utils.vanilla_train_eval_test_jig import  Vanilla_Train_Eval_Test_Jig\n",
    "\n",
    "from steves_utils.torch_utils import get_dataset_metrics, independent_accuracy_assesment\n",
    "from steves_models.configurable_vanilla import Configurable_Vanilla\n",
    "from steves_utils.torch_sequential_builder import build_sequential\n",
    "from steves_utils.lazy_map import Lazy_Map\n",
    "from steves_utils.sequence_aggregator import Sequence_Aggregator\n",
    "\n",
    "from steves_utils.stratified_dataset.traditional_accessor import Traditional_Accessor_Factory\n",
    "\n",
    "from steves_utils.cnn_do_report import (\n",
    "    get_loss_curve,\n",
    "    get_results_table,\n",
    "    get_parameters_table,\n",
    "    get_domain_accuracies,\n",
    ")\n",
    "\n",
    "from steves_utils.torch_utils import (\n",
    "    confusion_by_domain_over_dataloader,\n",
    "    independent_accuracy_assesment\n",
    ")\n",
    "\n",
    "from steves_utils.utils_v2 import (\n",
    "    per_domain_accuracy_from_confusion,\n",
    "    get_datasets_base_path\n",
    ")\n",
    "\n",
    "# from steves_utils.ptn_do_report import TBD"
   ]
  },
  {
   "cell_type": "code",
   "execution_count": 2,
   "id": "1b29e3fe",
   "metadata": {
    "execution": {
     "iopub.execute_input": "2022-03-25T23:09:49.077712Z",
     "iopub.status.busy": "2022-03-25T23:09:49.077327Z",
     "iopub.status.idle": "2022-03-25T23:09:49.079421Z",
     "shell.execute_reply": "2022-03-25T23:09:49.079742Z"
    },
    "papermill": {
     "duration": 0.021503,
     "end_time": "2022-03-25T23:09:49.079838",
     "exception": false,
     "start_time": "2022-03-25T23:09:49.058335",
     "status": "completed"
    },
    "tags": []
   },
   "outputs": [],
   "source": [
    "required_parameters = {\n",
    "    \"experiment_name\",\n",
    "    \"lr\",\n",
    "    \"device\",\n",
    "    \"dataset_seed\",\n",
    "    \"seed\",\n",
    "    \"labels\",\n",
    "    \"domains_target\",\n",
    "    \"domains_source\",\n",
    "    \"num_examples_per_domain_per_label_source\",\n",
    "    \"num_examples_per_domain_per_label_target\",\n",
    "    \"batch_size\",\n",
    "    \"n_epoch\",\n",
    "    \"patience\",\n",
    "    \"criteria_for_best\",\n",
    "    \"normalize_source\",\n",
    "    \"normalize_target\",\n",
    "    \"x_net\",\n",
    "    \"NUM_LOGS_PER_EPOCH\",\n",
    "    \"BEST_MODEL_PATH\",\n",
    "    \"pickle_name_source\",\n",
    "    \"pickle_name_target\",\n",
    "    \"torch_default_dtype\",\n",
    "}"
   ]
  },
  {
   "cell_type": "code",
   "execution_count": 3,
   "id": "670b5fb8",
   "metadata": {
    "execution": {
     "iopub.execute_input": "2022-03-25T23:09:49.126041Z",
     "iopub.status.busy": "2022-03-25T23:09:49.112541Z",
     "iopub.status.idle": "2022-03-25T23:09:49.132826Z",
     "shell.execute_reply": "2022-03-25T23:09:49.132095Z"
    },
    "papermill": {
     "duration": 0.036328,
     "end_time": "2022-03-25T23:09:49.132987",
     "exception": false,
     "start_time": "2022-03-25T23:09:49.096659",
     "status": "completed"
    },
    "tags": [
     "parameters"
    ]
   },
   "outputs": [],
   "source": [
    "from steves_utils.ORACLE.utils_v2 import (\n",
    "    ALL_SERIAL_NUMBERS,\n",
    "    ALL_DISTANCES_FEET_NARROWED,\n",
    ")\n",
    "\n",
    "standalone_parameters = {}\n",
    "standalone_parameters[\"experiment_name\"] = \"MANUAL CORES CNN\"\n",
    "standalone_parameters[\"lr\"] = 0.0001\n",
    "standalone_parameters[\"device\"] = \"cuda\"\n",
    "\n",
    "standalone_parameters[\"dataset_seed\"] = 1337\n",
    "standalone_parameters[\"seed\"] = 1337\n",
    "standalone_parameters[\"labels\"] = ALL_SERIAL_NUMBERS\n",
    "\n",
    "standalone_parameters[\"domains_source\"] = [8,32,50]\n",
    "standalone_parameters[\"domains_target\"] = [14,20,26,38,44,]\n",
    "\n",
    "standalone_parameters[\"num_examples_per_domain_per_label_source\"]=-1\n",
    "standalone_parameters[\"num_examples_per_domain_per_label_target\"]=-1\n",
    "\n",
    "standalone_parameters[\"pickle_name_source\"] = \"oracle.Run1_framed_2000Examples_stratified_ds.2022A.pkl\"\n",
    "standalone_parameters[\"pickle_name_target\"] = \"oracle.Run2_framed_2000Examples_stratified_ds.2022A.pkl\"\n",
    "\n",
    "standalone_parameters[\"torch_default_dtype\"] = \"torch.float32\" \n",
    "\n",
    "standalone_parameters[\"batch_size\"]=128\n",
    "\n",
    "standalone_parameters[\"n_epoch\"] = 3\n",
    "\n",
    "standalone_parameters[\"patience\"] = 10\n",
    "\n",
    "standalone_parameters[\"criteria_for_best\"] = \"target_accuracy\"\n",
    "standalone_parameters[\"normalize_source\"] = False\n",
    "standalone_parameters[\"normalize_target\"] = False\n",
    "\n",
    "standalone_parameters[\"x_net\"] =     [\n",
    "    {\"class\": \"nnReshape\", \"kargs\": {\"shape\":[-1, 1, 2, 256]}},\n",
    "    {\"class\": \"Conv2d\", \"kargs\": { \"in_channels\":1, \"out_channels\":256, \"kernel_size\":(1,7), \"bias\":False, \"padding\":(0,3), },},\n",
    "    {\"class\": \"ReLU\", \"kargs\": {\"inplace\": True}},\n",
    "    {\"class\": \"BatchNorm2d\", \"kargs\": {\"num_features\":256}},\n",
    "\n",
    "    {\"class\": \"Conv2d\", \"kargs\": { \"in_channels\":256, \"out_channels\":80, \"kernel_size\":(2,7), \"bias\":True, \"padding\":(0,3), },},\n",
    "    {\"class\": \"ReLU\", \"kargs\": {\"inplace\": True}},\n",
    "    {\"class\": \"BatchNorm2d\", \"kargs\": {\"num_features\":80}},\n",
    "    {\"class\": \"Flatten\", \"kargs\": {}},\n",
    "\n",
    "    {\"class\": \"Linear\", \"kargs\": {\"in_features\": 80*256, \"out_features\": 256}}, # 80 units per IQ pair\n",
    "    {\"class\": \"ReLU\", \"kargs\": {\"inplace\": True}},\n",
    "    {\"class\": \"BatchNorm1d\", \"kargs\": {\"num_features\":256}},\n",
    "\n",
    "    {\"class\": \"Linear\", \"kargs\": {\"in_features\": 256, \"out_features\": len(standalone_parameters[\"labels\"])}},\n",
    "]\n",
    "\n",
    "standalone_parameters[\"NUM_LOGS_PER_EPOCH\"] = 10\n",
    "standalone_parameters[\"BEST_MODEL_PATH\"] = \"./best_model.pth\""
   ]
  },
  {
   "cell_type": "code",
   "execution_count": 4,
   "id": "27df0ae4",
   "metadata": {
    "execution": {
     "iopub.execute_input": "2022-03-25T23:09:49.179044Z",
     "iopub.status.busy": "2022-03-25T23:09:49.173524Z",
     "iopub.status.idle": "2022-03-25T23:09:49.180725Z",
     "shell.execute_reply": "2022-03-25T23:09:49.181388Z"
    },
    "papermill": {
     "duration": 0.029304,
     "end_time": "2022-03-25T23:09:49.181575",
     "exception": false,
     "start_time": "2022-03-25T23:09:49.152271",
     "status": "completed"
    },
    "tags": [
     "injected-parameters"
    ]
   },
   "outputs": [],
   "source": [
    "# Parameters\n",
    "parameters = {\n",
    "    \"experiment_name\": \"cnn_1:oracle.run1_limited\",\n",
    "    \"labels\": [\n",
    "        \"3123D52\",\n",
    "        \"3123D65\",\n",
    "        \"3123D79\",\n",
    "        \"3123D80\",\n",
    "        \"3123D54\",\n",
    "        \"3123D70\",\n",
    "        \"3123D7B\",\n",
    "        \"3123D89\",\n",
    "        \"3123D58\",\n",
    "        \"3123D76\",\n",
    "        \"3123D7D\",\n",
    "        \"3123EFE\",\n",
    "        \"3123D64\",\n",
    "        \"3123D78\",\n",
    "        \"3123D7E\",\n",
    "        \"3124E4A\",\n",
    "    ],\n",
    "    \"domains_source\": [8, 32, 50],\n",
    "    \"domains_target\": [14, 20, 26, 38, 44],\n",
    "    \"pickle_name_source\": \"oracle.Run1_10kExamples_stratified_ds.2022A.pkl\",\n",
    "    \"pickle_name_target\": \"oracle.Run1_10kExamples_stratified_ds.2022A.pkl\",\n",
    "    \"device\": \"cuda\",\n",
    "    \"lr\": 0.0001,\n",
    "    \"batch_size\": 128,\n",
    "    \"normalize_source\": False,\n",
    "    \"normalize_target\": False,\n",
    "    \"num_examples_per_domain_per_label_source\": 2000,\n",
    "    \"num_examples_per_domain_per_label_target\": 2000,\n",
    "    \"torch_default_dtype\": \"torch.float32\",\n",
    "    \"n_epoch\": 50,\n",
    "    \"patience\": 3,\n",
    "    \"criteria_for_best\": \"target_accuracy\",\n",
    "    \"x_net\": [\n",
    "        {\"class\": \"nnReshape\", \"kargs\": {\"shape\": [-1, 1, 2, 256]}},\n",
    "        {\n",
    "            \"class\": \"Conv2d\",\n",
    "            \"kargs\": {\n",
    "                \"in_channels\": 1,\n",
    "                \"out_channels\": 256,\n",
    "                \"kernel_size\": [1, 7],\n",
    "                \"bias\": False,\n",
    "                \"padding\": [0, 3],\n",
    "            },\n",
    "        },\n",
    "        {\"class\": \"ReLU\", \"kargs\": {\"inplace\": True}},\n",
    "        {\"class\": \"BatchNorm2d\", \"kargs\": {\"num_features\": 256}},\n",
    "        {\n",
    "            \"class\": \"Conv2d\",\n",
    "            \"kargs\": {\n",
    "                \"in_channels\": 256,\n",
    "                \"out_channels\": 80,\n",
    "                \"kernel_size\": [2, 7],\n",
    "                \"bias\": True,\n",
    "                \"padding\": [0, 3],\n",
    "            },\n",
    "        },\n",
    "        {\"class\": \"ReLU\", \"kargs\": {\"inplace\": True}},\n",
    "        {\"class\": \"BatchNorm2d\", \"kargs\": {\"num_features\": 80}},\n",
    "        {\"class\": \"Flatten\", \"kargs\": {}},\n",
    "        {\"class\": \"Linear\", \"kargs\": {\"in_features\": 20480, \"out_features\": 256}},\n",
    "        {\"class\": \"ReLU\", \"kargs\": {\"inplace\": True}},\n",
    "        {\"class\": \"BatchNorm1d\", \"kargs\": {\"num_features\": 256}},\n",
    "        {\"class\": \"Linear\", \"kargs\": {\"in_features\": 256, \"out_features\": 16}},\n",
    "    ],\n",
    "    \"NUM_LOGS_PER_EPOCH\": 10,\n",
    "    \"BEST_MODEL_PATH\": \"./best_model.pth\",\n",
    "    \"dataset_seed\": 420,\n",
    "    \"seed\": 420,\n",
    "}\n"
   ]
  },
  {
   "cell_type": "code",
   "execution_count": 5,
   "id": "759b56ec",
   "metadata": {
    "execution": {
     "iopub.execute_input": "2022-03-25T23:09:49.224608Z",
     "iopub.status.busy": "2022-03-25T23:09:49.220847Z",
     "iopub.status.idle": "2022-03-25T23:09:49.226462Z",
     "shell.execute_reply": "2022-03-25T23:09:49.226926Z"
    },
    "papermill": {
     "duration": 0.021653,
     "end_time": "2022-03-25T23:09:49.227071",
     "exception": false,
     "start_time": "2022-03-25T23:09:49.205418",
     "status": "completed"
    },
    "tags": []
   },
   "outputs": [],
   "source": [
    "# Set this to True if you want to run this template directly\n",
    "STANDALONE = False\n",
    "if STANDALONE:\n",
    "    print(\"parameters not injected, running with standalone_parameters\")\n",
    "    parameters = standalone_parameters\n",
    "\n",
    "if not 'parameters' in locals() and not 'parameters' in globals():\n",
    "    raise Exception(\"Parameter injection failed\")\n",
    "\n",
    "#Use an easy dict for all the parameters\n",
    "p = EasyDict(parameters)\n",
    "\n",
    "supplied_keys = set(p.keys())\n",
    "\n",
    "if  supplied_keys != required_parameters:\n",
    "    print(\"Parameters are incorrect\")\n",
    "    if len(supplied_keys - required_parameters)>0: print(\"Shouldn't have:\", str(supplied_keys - required_parameters))\n",
    "    if len(required_parameters - supplied_keys)>0: print(\"Need to have:\", str(required_parameters - supplied_keys))\n",
    "    raise RuntimeError(\"Parameters are incorrect\")\n",
    "\n"
   ]
  },
  {
   "cell_type": "code",
   "execution_count": 6,
   "id": "d5c66a71",
   "metadata": {
    "execution": {
     "iopub.execute_input": "2022-03-25T23:09:49.260231Z",
     "iopub.status.busy": "2022-03-25T23:09:49.259854Z",
     "iopub.status.idle": "2022-03-25T23:09:49.262534Z",
     "shell.execute_reply": "2022-03-25T23:09:49.262839Z"
    },
    "papermill": {
     "duration": 0.019543,
     "end_time": "2022-03-25T23:09:49.262926",
     "exception": false,
     "start_time": "2022-03-25T23:09:49.243383",
     "status": "completed"
    },
    "tags": []
   },
   "outputs": [],
   "source": [
    "###################################\n",
    "# Set the RNGs and make it all deterministic\n",
    "###################################\n",
    "np.random.seed(p.seed)\n",
    "random.seed(p.seed)\n",
    "torch.manual_seed(p.seed)\n",
    "\n",
    "torch.use_deterministic_algorithms(True) "
   ]
  },
  {
   "cell_type": "code",
   "execution_count": 7,
   "id": "92a65876",
   "metadata": {
    "execution": {
     "iopub.execute_input": "2022-03-25T23:09:49.297396Z",
     "iopub.status.busy": "2022-03-25T23:09:49.297029Z",
     "iopub.status.idle": "2022-03-25T23:09:49.299241Z",
     "shell.execute_reply": "2022-03-25T23:09:49.299558Z"
    },
    "papermill": {
     "duration": 0.020639,
     "end_time": "2022-03-25T23:09:49.299643",
     "exception": false,
     "start_time": "2022-03-25T23:09:49.279004",
     "status": "completed"
    },
    "tags": []
   },
   "outputs": [],
   "source": [
    "torch.set_default_dtype(eval(p.torch_default_dtype))"
   ]
  },
  {
   "cell_type": "code",
   "execution_count": 8,
   "id": "f1a32f01",
   "metadata": {
    "execution": {
     "iopub.execute_input": "2022-03-25T23:09:49.333631Z",
     "iopub.status.busy": "2022-03-25T23:09:49.331400Z",
     "iopub.status.idle": "2022-03-25T23:09:49.384772Z",
     "shell.execute_reply": "2022-03-25T23:09:49.384039Z"
    },
    "papermill": {
     "duration": 0.068975,
     "end_time": "2022-03-25T23:09:49.384929",
     "exception": false,
     "start_time": "2022-03-25T23:09:49.315954",
     "status": "completed"
    },
    "tags": []
   },
   "outputs": [],
   "source": [
    "###################################\n",
    "# Build the network(s)\n",
    "# Note: It's critical to do this AFTER setting the RNG\n",
    "###################################\n",
    "x_net = build_sequential(p.x_net)"
   ]
  },
  {
   "cell_type": "code",
   "execution_count": 9,
   "id": "a276cd83",
   "metadata": {
    "execution": {
     "iopub.execute_input": "2022-03-25T23:09:49.422899Z",
     "iopub.status.busy": "2022-03-25T23:09:49.422526Z",
     "iopub.status.idle": "2022-03-25T23:09:49.424876Z",
     "shell.execute_reply": "2022-03-25T23:09:49.425179Z"
    },
    "papermill": {
     "duration": 0.020221,
     "end_time": "2022-03-25T23:09:49.425265",
     "exception": false,
     "start_time": "2022-03-25T23:09:49.405044",
     "status": "completed"
    },
    "tags": []
   },
   "outputs": [],
   "source": [
    "start_time_secs = time.time()"
   ]
  },
  {
   "cell_type": "code",
   "execution_count": 10,
   "id": "de702e48",
   "metadata": {
    "execution": {
     "iopub.execute_input": "2022-03-25T23:09:49.467762Z",
     "iopub.status.busy": "2022-03-25T23:09:49.457680Z",
     "iopub.status.idle": "2022-03-25T23:09:58.558245Z",
     "shell.execute_reply": "2022-03-25T23:09:58.557449Z"
    },
    "papermill": {
     "duration": 9.11656,
     "end_time": "2022-03-25T23:09:58.558433",
     "exception": false,
     "start_time": "2022-03-25T23:09:49.441873",
     "status": "completed"
    },
    "tags": []
   },
   "outputs": [],
   "source": [
    "def wrap_in_dataloader(p, ds):\n",
    "    return torch.utils.data.DataLoader(\n",
    "        ds,\n",
    "        batch_size=p.batch_size,\n",
    "        shuffle=True,\n",
    "        num_workers=1,\n",
    "        persistent_workers=True,\n",
    "        prefetch_factor=50,\n",
    "        pin_memory=True\n",
    "    )\n",
    "\n",
    "taf_source = Traditional_Accessor_Factory(\n",
    "    labels=p.labels,\n",
    "    domains=p.domains_source,\n",
    "    num_examples_per_domain_per_label=p.num_examples_per_domain_per_label_source,\n",
    "    pickle_path=os.path.join(get_datasets_base_path(), p.pickle_name_source),\n",
    "    seed=p.dataset_seed\n",
    ")\n",
    "train_original_source, val_original_source, test_original_source = \\\n",
    "    taf_source.get_train(), taf_source.get_val(), taf_source.get_test()\n",
    "\n",
    "\n",
    "taf_target = Traditional_Accessor_Factory(\n",
    "    labels=p.labels,\n",
    "    domains=p.domains_target,\n",
    "    num_examples_per_domain_per_label=p.num_examples_per_domain_per_label_source,\n",
    "    pickle_path=os.path.join(get_datasets_base_path(), p.pickle_name_target),\n",
    "    seed=p.dataset_seed\n",
    ")\n",
    "train_original_target, val_original_target, test_original_target = \\\n",
    "    taf_target.get_train(), taf_target.get_val(), taf_target.get_test()\n",
    "\n",
    "\n",
    "# For CNN We only use X and Y. And we only train on the source.\n",
    "# Properly form the data using a transform lambda and Lazy_Map. Finally wrap them in a dataloader\n",
    "\n",
    "transform_lambda = lambda ex: ex[:2] # Strip the tuple to just (x,y)\n",
    "\n",
    "\n",
    "train_processed_source = wrap_in_dataloader(\n",
    "    p,\n",
    "    Lazy_Map(train_original_source, transform_lambda)\n",
    ")\n",
    "val_processed_source = wrap_in_dataloader(\n",
    "    p,\n",
    "    Lazy_Map(val_original_source, transform_lambda)\n",
    ")\n",
    "test_processed_source = wrap_in_dataloader(\n",
    "    p,\n",
    "    Lazy_Map(test_original_source, transform_lambda)\n",
    ")\n",
    "\n",
    "train_processed_target = wrap_in_dataloader(\n",
    "    p,\n",
    "    Lazy_Map(train_original_target, transform_lambda)\n",
    ")\n",
    "val_processed_target = wrap_in_dataloader(\n",
    "    p,\n",
    "    Lazy_Map(val_original_target, transform_lambda)\n",
    ")\n",
    "test_processed_target  = wrap_in_dataloader(\n",
    "    p,\n",
    "    Lazy_Map(test_original_target, transform_lambda)\n",
    ")\n",
    "\n",
    "\n",
    "\n",
    "datasets = EasyDict({\n",
    "    \"source\": {\n",
    "        \"original\": {\"train\":train_original_source, \"val\":val_original_source, \"test\":test_original_source},\n",
    "        \"processed\": {\"train\":train_processed_source, \"val\":val_processed_source, \"test\":test_processed_source}\n",
    "    },\n",
    "    \"target\": {\n",
    "        \"original\": {\"train\":train_original_target, \"val\":val_original_target, \"test\":test_original_target},\n",
    "        \"processed\": {\"train\":train_processed_target, \"val\":val_processed_target, \"test\":test_processed_target}\n",
    "    },\n",
    "})"
   ]
  },
  {
   "cell_type": "code",
   "execution_count": 11,
   "id": "a11b26bd",
   "metadata": {
    "execution": {
     "iopub.execute_input": "2022-03-25T23:09:58.641296Z",
     "iopub.status.busy": "2022-03-25T23:09:58.640431Z",
     "iopub.status.idle": "2022-03-25T23:10:04.196550Z",
     "shell.execute_reply": "2022-03-25T23:10:04.197228Z"
    },
    "papermill": {
     "duration": 5.618637,
     "end_time": "2022-03-25T23:10:04.197464",
     "exception": false,
     "start_time": "2022-03-25T23:09:58.578827",
     "status": "completed"
    },
    "tags": []
   },
   "outputs": [
    {
     "data": {
      "text/plain": [
       "torch.float32"
      ]
     },
     "execution_count": 11,
     "metadata": {},
     "output_type": "execute_result"
    }
   ],
   "source": [
    "ep = next(iter(test_processed_target))\n",
    "ep[0].dtype"
   ]
  },
  {
   "cell_type": "code",
   "execution_count": 12,
   "id": "19425fad",
   "metadata": {
    "execution": {
     "iopub.execute_input": "2022-03-25T23:10:04.258531Z",
     "iopub.status.busy": "2022-03-25T23:10:04.257694Z",
     "iopub.status.idle": "2022-03-25T23:10:04.306964Z",
     "shell.execute_reply": "2022-03-25T23:10:04.306240Z"
    },
    "papermill": {
     "duration": 0.088745,
     "end_time": "2022-03-25T23:10:04.307151",
     "exception": false,
     "start_time": "2022-03-25T23:10:04.218406",
     "status": "completed"
    },
    "tags": []
   },
   "outputs": [],
   "source": [
    "model = Configurable_Vanilla(\n",
    "    x_net=x_net,\n",
    "    label_loss_object=torch.nn.NLLLoss(),\n",
    "    learning_rate=p.lr\n",
    ")"
   ]
  },
  {
   "cell_type": "code",
   "execution_count": 13,
   "id": "7f6d4f2c",
   "metadata": {
    "execution": {
     "iopub.execute_input": "2022-03-25T23:10:04.350289Z",
     "iopub.status.busy": "2022-03-25T23:10:04.349465Z",
     "iopub.status.idle": "2022-03-25T23:10:59.475019Z",
     "shell.execute_reply": "2022-03-25T23:10:59.474310Z"
    },
    "papermill": {
     "duration": 55.148057,
     "end_time": "2022-03-25T23:10:59.475196",
     "exception": false,
     "start_time": "2022-03-25T23:10:04.327139",
     "status": "completed"
    },
    "tags": []
   },
   "outputs": [
    {
     "name": "stdout",
     "output_type": "stream",
     "text": [
      "epoch: 1, [batch: 1 / 525], examples_per_second: 657.9075, train_label_loss: 2.7703, \n"
     ]
    },
    {
     "name": "stdout",
     "output_type": "stream",
     "text": [
      "epoch: 1, [batch: 53 / 525], examples_per_second: 10570.3978, train_label_loss: 2.6699, \n"
     ]
    },
    {
     "name": "stdout",
     "output_type": "stream",
     "text": [
      "epoch: 1, [batch: 105 / 525], examples_per_second: 10770.6415, train_label_loss: 2.5411, \n"
     ]
    },
    {
     "name": "stdout",
     "output_type": "stream",
     "text": [
      "epoch: 1, [batch: 158 / 525], examples_per_second: 10767.9994, train_label_loss: 2.4672, \n"
     ]
    },
    {
     "name": "stdout",
     "output_type": "stream",
     "text": [
      "epoch: 1, [batch: 210 / 525], examples_per_second: 10741.2190, train_label_loss: 2.4100, \n"
     ]
    },
    {
     "name": "stdout",
     "output_type": "stream",
     "text": [
      "epoch: 1, [batch: 263 / 525], examples_per_second: 10678.0483, train_label_loss: 2.3709, \n"
     ]
    },
    {
     "name": "stdout",
     "output_type": "stream",
     "text": [
      "epoch: 1, [batch: 315 / 525], examples_per_second: 10668.9074, train_label_loss: 2.3716, \n"
     ]
    },
    {
     "name": "stdout",
     "output_type": "stream",
     "text": [
      "epoch: 1, [batch: 367 / 525], examples_per_second: 10622.4304, train_label_loss: 2.2639, \n"
     ]
    },
    {
     "name": "stdout",
     "output_type": "stream",
     "text": [
      "epoch: 1, [batch: 420 / 525], examples_per_second: 10793.7494, train_label_loss: 2.2298, \n"
     ]
    },
    {
     "name": "stdout",
     "output_type": "stream",
     "text": [
      "epoch: 1, [batch: 472 / 525], examples_per_second: 10757.2654, train_label_loss: 2.2108, \n"
     ]
    },
    {
     "name": "stdout",
     "output_type": "stream",
     "text": [
      "=============================================================\n",
      "epoch: 1, source_val_acc_label: 0.2973, source_val_label_loss: 2.1318, target_val_acc_label: 0.0854, target_val_label_loss: 3.7944, \n",
      "=============================================================\n"
     ]
    },
    {
     "name": "stdout",
     "output_type": "stream",
     "text": [
      "New best\n",
      "epoch: 2, [batch: 1 / 525], examples_per_second: 96.6638, train_label_loss: 2.0937, \n"
     ]
    },
    {
     "name": "stdout",
     "output_type": "stream",
     "text": [
      "epoch: 2, [batch: 53 / 525], examples_per_second: 10397.7982, train_label_loss: 2.0944, \n"
     ]
    },
    {
     "name": "stdout",
     "output_type": "stream",
     "text": [
      "epoch: 2, [batch: 105 / 525], examples_per_second: 10789.9237, train_label_loss: 1.9999, \n"
     ]
    },
    {
     "name": "stdout",
     "output_type": "stream",
     "text": [
      "epoch: 2, [batch: 158 / 525], examples_per_second: 10598.0558, train_label_loss: 1.9855, \n"
     ]
    },
    {
     "name": "stdout",
     "output_type": "stream",
     "text": [
      "epoch: 2, [batch: 210 / 525], examples_per_second: 10761.5697, train_label_loss: 2.0453, \n"
     ]
    },
    {
     "name": "stdout",
     "output_type": "stream",
     "text": [
      "epoch: 2, [batch: 263 / 525], examples_per_second: 10743.4021, train_label_loss: 1.9730, \n"
     ]
    },
    {
     "name": "stdout",
     "output_type": "stream",
     "text": [
      "epoch: 2, [batch: 315 / 525], examples_per_second: 10647.4392, train_label_loss: 1.8298, \n"
     ]
    },
    {
     "name": "stdout",
     "output_type": "stream",
     "text": [
      "epoch: 2, [batch: 367 / 525], examples_per_second: 10598.6815, train_label_loss: 1.7539, \n"
     ]
    },
    {
     "name": "stdout",
     "output_type": "stream",
     "text": [
      "epoch: 2, [batch: 420 / 525], examples_per_second: 10759.0582, train_label_loss: 1.7160, \n"
     ]
    },
    {
     "name": "stdout",
     "output_type": "stream",
     "text": [
      "epoch: 2, [batch: 472 / 525], examples_per_second: 10733.8926, train_label_loss: 1.8668, \n"
     ]
    },
    {
     "name": "stdout",
     "output_type": "stream",
     "text": [
      "=============================================================\n",
      "epoch: 2, source_val_acc_label: 0.4177, source_val_label_loss: 1.7191, target_val_acc_label: 0.0871, target_val_label_loss: 4.9277, \n",
      "=============================================================\n"
     ]
    },
    {
     "name": "stdout",
     "output_type": "stream",
     "text": [
      "New best\n",
      "epoch: 3, [batch: 1 / 525], examples_per_second: 120.6544, train_label_loss: 1.6718, \n"
     ]
    },
    {
     "name": "stdout",
     "output_type": "stream",
     "text": [
      "epoch: 3, [batch: 53 / 525], examples_per_second: 10528.9690, train_label_loss: 1.6452, \n"
     ]
    },
    {
     "name": "stdout",
     "output_type": "stream",
     "text": [
      "epoch: 3, [batch: 105 / 525], examples_per_second: 10431.0931, train_label_loss: 1.5090, \n"
     ]
    },
    {
     "name": "stdout",
     "output_type": "stream",
     "text": [
      "epoch: 3, [batch: 158 / 525], examples_per_second: 10493.5443, train_label_loss: 1.5975, \n"
     ]
    },
    {
     "name": "stdout",
     "output_type": "stream",
     "text": [
      "epoch: 3, [batch: 210 / 525], examples_per_second: 10709.2365, train_label_loss: 1.4736, \n"
     ]
    },
    {
     "name": "stdout",
     "output_type": "stream",
     "text": [
      "epoch: 3, [batch: 263 / 525], examples_per_second: 10529.9309, train_label_loss: 1.5419, \n"
     ]
    },
    {
     "name": "stdout",
     "output_type": "stream",
     "text": [
      "epoch: 3, [batch: 315 / 525], examples_per_second: 10732.4524, train_label_loss: 1.5158, \n"
     ]
    },
    {
     "name": "stdout",
     "output_type": "stream",
     "text": [
      "epoch: 3, [batch: 367 / 525], examples_per_second: 10647.0291, train_label_loss: 1.5007, \n"
     ]
    },
    {
     "name": "stdout",
     "output_type": "stream",
     "text": [
      "epoch: 3, [batch: 420 / 525], examples_per_second: 10767.0581, train_label_loss: 1.4802, \n"
     ]
    },
    {
     "name": "stdout",
     "output_type": "stream",
     "text": [
      "epoch: 3, [batch: 472 / 525], examples_per_second: 10724.6353, train_label_loss: 1.5472, \n"
     ]
    },
    {
     "name": "stdout",
     "output_type": "stream",
     "text": [
      "=============================================================\n",
      "epoch: 3, source_val_acc_label: 0.5044, source_val_label_loss: 1.4292, target_val_acc_label: 0.0911, target_val_label_loss: 6.1341, \n",
      "=============================================================\n"
     ]
    },
    {
     "name": "stdout",
     "output_type": "stream",
     "text": [
      "New best\n",
      "epoch: 4, [batch: 1 / 525], examples_per_second: 124.3940, train_label_loss: 1.1987, \n"
     ]
    },
    {
     "name": "stdout",
     "output_type": "stream",
     "text": [
      "epoch: 4, [batch: 53 / 525], examples_per_second: 10393.5864, train_label_loss: 1.2956, \n"
     ]
    },
    {
     "name": "stdout",
     "output_type": "stream",
     "text": [
      "epoch: 4, [batch: 105 / 525], examples_per_second: 10425.2657, train_label_loss: 1.2496, \n"
     ]
    },
    {
     "name": "stdout",
     "output_type": "stream",
     "text": [
      "epoch: 4, [batch: 158 / 525], examples_per_second: 10703.7398, train_label_loss: 1.2758, \n"
     ]
    },
    {
     "name": "stdout",
     "output_type": "stream",
     "text": [
      "epoch: 4, [batch: 210 / 525], examples_per_second: 10411.5760, train_label_loss: 1.3564, \n"
     ]
    },
    {
     "name": "stdout",
     "output_type": "stream",
     "text": [
      "epoch: 4, [batch: 263 / 525], examples_per_second: 10802.3095, train_label_loss: 1.2544, \n"
     ]
    },
    {
     "name": "stdout",
     "output_type": "stream",
     "text": [
      "epoch: 4, [batch: 315 / 525], examples_per_second: 10749.4287, train_label_loss: 1.2463, \n"
     ]
    },
    {
     "name": "stdout",
     "output_type": "stream",
     "text": [
      "epoch: 4, [batch: 367 / 525], examples_per_second: 10541.7313, train_label_loss: 1.1760, \n"
     ]
    },
    {
     "name": "stdout",
     "output_type": "stream",
     "text": [
      "epoch: 4, [batch: 420 / 525], examples_per_second: 10706.3657, train_label_loss: 1.2775, \n"
     ]
    },
    {
     "name": "stdout",
     "output_type": "stream",
     "text": [
      "epoch: 4, [batch: 472 / 525], examples_per_second: 10620.6685, train_label_loss: 1.4283, \n"
     ]
    },
    {
     "name": "stdout",
     "output_type": "stream",
     "text": [
      "=============================================================\n",
      "epoch: 4, source_val_acc_label: 0.5291, source_val_label_loss: 1.3052, target_val_acc_label: 0.0813, target_val_label_loss: 6.9902, \n",
      "=============================================================\n"
     ]
    },
    {
     "name": "stdout",
     "output_type": "stream",
     "text": [
      "epoch: 5, [batch: 1 / 525], examples_per_second: 123.1226, train_label_loss: 1.1840, \n"
     ]
    },
    {
     "name": "stdout",
     "output_type": "stream",
     "text": [
      "epoch: 5, [batch: 53 / 525], examples_per_second: 10491.7420, train_label_loss: 0.9866, \n"
     ]
    },
    {
     "name": "stdout",
     "output_type": "stream",
     "text": [
      "epoch: 5, [batch: 105 / 525], examples_per_second: 10656.3968, train_label_loss: 1.0647, \n"
     ]
    },
    {
     "name": "stdout",
     "output_type": "stream",
     "text": [
      "epoch: 5, [batch: 158 / 525], examples_per_second: 10475.4683, train_label_loss: 1.0964, \n"
     ]
    },
    {
     "name": "stdout",
     "output_type": "stream",
     "text": [
      "epoch: 5, [batch: 210 / 525], examples_per_second: 10601.5351, train_label_loss: 1.0351, \n"
     ]
    },
    {
     "name": "stdout",
     "output_type": "stream",
     "text": [
      "epoch: 5, [batch: 263 / 525], examples_per_second: 10421.6616, train_label_loss: 0.9919, \n"
     ]
    },
    {
     "name": "stdout",
     "output_type": "stream",
     "text": [
      "epoch: 5, [batch: 315 / 525], examples_per_second: 10727.7262, train_label_loss: 1.0232, \n"
     ]
    },
    {
     "name": "stdout",
     "output_type": "stream",
     "text": [
      "epoch: 5, [batch: 367 / 525], examples_per_second: 10730.6538, train_label_loss: 1.0345, \n"
     ]
    },
    {
     "name": "stdout",
     "output_type": "stream",
     "text": [
      "epoch: 5, [batch: 420 / 525], examples_per_second: 10705.5037, train_label_loss: 1.1500, \n"
     ]
    },
    {
     "name": "stdout",
     "output_type": "stream",
     "text": [
      "epoch: 5, [batch: 472 / 525], examples_per_second: 10748.7913, train_label_loss: 0.8586, \n"
     ]
    },
    {
     "name": "stdout",
     "output_type": "stream",
     "text": [
      "=============================================================\n",
      "epoch: 5, source_val_acc_label: 0.6026, source_val_label_loss: 1.1351, target_val_acc_label: 0.0814, target_val_label_loss: 7.6847, \n",
      "=============================================================\n"
     ]
    },
    {
     "name": "stdout",
     "output_type": "stream",
     "text": [
      "epoch: 6, [batch: 1 / 525], examples_per_second: 123.4782, train_label_loss: 0.8543, \n"
     ]
    },
    {
     "name": "stdout",
     "output_type": "stream",
     "text": [
      "epoch: 6, [batch: 53 / 525], examples_per_second: 10460.4614, train_label_loss: 0.7450, \n"
     ]
    },
    {
     "name": "stdout",
     "output_type": "stream",
     "text": [
      "epoch: 6, [batch: 105 / 525], examples_per_second: 10693.7425, train_label_loss: 0.7568, \n"
     ]
    },
    {
     "name": "stdout",
     "output_type": "stream",
     "text": [
      "epoch: 6, [batch: 158 / 525], examples_per_second: 10762.5539, train_label_loss: 0.8417, \n"
     ]
    },
    {
     "name": "stdout",
     "output_type": "stream",
     "text": [
      "epoch: 6, [batch: 210 / 525], examples_per_second: 10672.9169, train_label_loss: 0.7649, \n"
     ]
    },
    {
     "name": "stdout",
     "output_type": "stream",
     "text": [
      "epoch: 6, [batch: 263 / 525], examples_per_second: 10571.9179, train_label_loss: 0.7600, \n"
     ]
    },
    {
     "name": "stdout",
     "output_type": "stream",
     "text": [
      "epoch: 6, [batch: 315 / 525], examples_per_second: 10698.4143, train_label_loss: 0.8337, \n"
     ]
    },
    {
     "name": "stdout",
     "output_type": "stream",
     "text": [
      "epoch: 6, [batch: 367 / 525], examples_per_second: 10689.3941, train_label_loss: 0.7335, \n"
     ]
    },
    {
     "name": "stdout",
     "output_type": "stream",
     "text": [
      "epoch: 6, [batch: 420 / 525], examples_per_second: 10687.8950, train_label_loss: 0.8319, \n"
     ]
    },
    {
     "name": "stdout",
     "output_type": "stream",
     "text": [
      "epoch: 6, [batch: 472 / 525], examples_per_second: 10729.8661, train_label_loss: 0.7550, \n"
     ]
    },
    {
     "name": "stdout",
     "output_type": "stream",
     "text": [
      "=============================================================\n",
      "epoch: 6, source_val_acc_label: 0.5690, source_val_label_loss: 1.1387, target_val_acc_label: 0.0803, target_val_label_loss: 8.8727, \n",
      "=============================================================\n"
     ]
    },
    {
     "name": "stdout",
     "output_type": "stream",
     "text": [
      "epoch: 7, [batch: 1 / 525], examples_per_second: 125.5885, train_label_loss: 0.5985, \n"
     ]
    },
    {
     "name": "stdout",
     "output_type": "stream",
     "text": [
      "epoch: 7, [batch: 53 / 525], examples_per_second: 10552.7372, train_label_loss: 0.5985, \n"
     ]
    },
    {
     "name": "stdout",
     "output_type": "stream",
     "text": [
      "epoch: 7, [batch: 105 / 525], examples_per_second: 10683.0252, train_label_loss: 1.0502, \n"
     ]
    },
    {
     "name": "stdout",
     "output_type": "stream",
     "text": [
      "epoch: 7, [batch: 158 / 525], examples_per_second: 10581.7271, train_label_loss: 0.6258, \n"
     ]
    },
    {
     "name": "stdout",
     "output_type": "stream",
     "text": [
      "epoch: 7, [batch: 210 / 525], examples_per_second: 10685.3682, train_label_loss: 0.7244, \n"
     ]
    },
    {
     "name": "stdout",
     "output_type": "stream",
     "text": [
      "epoch: 7, [batch: 263 / 525], examples_per_second: 10728.6653, train_label_loss: 0.7352, \n"
     ]
    },
    {
     "name": "stdout",
     "output_type": "stream",
     "text": [
      "epoch: 7, [batch: 315 / 525], examples_per_second: 10740.9132, train_label_loss: 0.6599, \n"
     ]
    },
    {
     "name": "stdout",
     "output_type": "stream",
     "text": [
      "epoch: 7, [batch: 367 / 525], examples_per_second: 10760.2299, train_label_loss: 0.7442, \n"
     ]
    },
    {
     "name": "stdout",
     "output_type": "stream",
     "text": [
      "epoch: 7, [batch: 420 / 525], examples_per_second: 10713.6904, train_label_loss: 0.4958, \n"
     ]
    },
    {
     "name": "stdout",
     "output_type": "stream",
     "text": [
      "epoch: 7, [batch: 472 / 525], examples_per_second: 10752.5007, train_label_loss: 0.5920, \n"
     ]
    },
    {
     "name": "stdout",
     "output_type": "stream",
     "text": [
      "=============================================================\n",
      "epoch: 7, source_val_acc_label: 0.5758, source_val_label_loss: 1.1791, target_val_acc_label: 0.0760, target_val_label_loss: 9.8402, \n",
      "=============================================================\n"
     ]
    },
    {
     "name": "stdout",
     "output_type": "stream",
     "text": [
      "Patience (3) exhausted\n"
     ]
    }
   ],
   "source": [
    "jig = Vanilla_Train_Eval_Test_Jig(\n",
    "    model=model,\n",
    "    path_to_best_model=p.BEST_MODEL_PATH,\n",
    "    device=p.device,\n",
    "    label_loss_object=torch.nn.NLLLoss(),\n",
    ")\n",
    "\n",
    "jig.train(\n",
    "    train_iterable=datasets.source.processed.train,\n",
    "    source_val_iterable=datasets.source.processed.val,\n",
    "    target_val_iterable=datasets.target.processed.val,\n",
    "    patience=p.patience,\n",
    "    num_epochs=p.n_epoch,\n",
    "    num_logs_per_epoch=p.NUM_LOGS_PER_EPOCH,\n",
    "    criteria_for_best=p.criteria_for_best\n",
    ")"
   ]
  },
  {
   "cell_type": "code",
   "execution_count": 14,
   "id": "4bc2ac17",
   "metadata": {
    "execution": {
     "iopub.execute_input": "2022-03-25T23:10:59.554285Z",
     "iopub.status.busy": "2022-03-25T23:10:59.553915Z",
     "iopub.status.idle": "2022-03-25T23:10:59.556184Z",
     "shell.execute_reply": "2022-03-25T23:10:59.556485Z"
    },
    "papermill": {
     "duration": 0.043654,
     "end_time": "2022-03-25T23:10:59.556571",
     "exception": false,
     "start_time": "2022-03-25T23:10:59.512917",
     "status": "completed"
    },
    "tags": []
   },
   "outputs": [],
   "source": [
    "total_experiment_time_secs = time.time() - start_time_secs"
   ]
  },
  {
   "cell_type": "code",
   "execution_count": 15,
   "id": "cae88f23",
   "metadata": {
    "execution": {
     "iopub.execute_input": "2022-03-25T23:10:59.640906Z",
     "iopub.status.busy": "2022-03-25T23:10:59.639775Z",
     "iopub.status.idle": "2022-03-25T23:11:11.780718Z",
     "shell.execute_reply": "2022-03-25T23:11:11.781442Z"
    },
    "papermill": {
     "duration": 12.186659,
     "end_time": "2022-03-25T23:11:11.781682",
     "exception": false,
     "start_time": "2022-03-25T23:10:59.595023",
     "status": "completed"
    },
    "tags": []
   },
   "outputs": [],
   "source": [
    "source_test_label_accuracy, source_test_label_loss = jig.test(datasets.source.processed.test)\n",
    "target_test_label_accuracy, target_test_label_loss = jig.test(datasets.target.processed.test)\n",
    "\n",
    "source_val_label_accuracy, source_val_label_loss = jig.test(datasets.source.processed.val)\n",
    "target_val_label_accuracy, target_val_label_loss = jig.test(datasets.target.processed.val)\n",
    "\n",
    "history = jig.get_history()\n",
    "\n",
    "total_epochs_trained = len(history[\"epoch_indices\"])\n",
    "\n",
    "val_dl = wrap_in_dataloader(p, Sequence_Aggregator((datasets.source.original.val, datasets.target.original.val)))\n",
    "\n",
    "confusion = confusion_by_domain_over_dataloader(model, p.device, val_dl, forward_uses_domain=False)\n",
    "per_domain_accuracy = per_domain_accuracy_from_confusion(confusion)\n",
    "\n",
    "# Add a key to per_domain_accuracy for if it was a source domain\n",
    "for domain, accuracy in per_domain_accuracy.items():\n",
    "    per_domain_accuracy[domain] = {\n",
    "        \"accuracy\": accuracy,\n",
    "        \"source?\": domain in p.domains_source\n",
    "    }\n",
    "\n",
    "# Do an independent accuracy assesment JUST TO BE SURE!\n",
    "# _source_test_label_accuracy = independent_accuracy_assesment(model, datasets.source.processed.test, p.device)\n",
    "# _target_test_label_accuracy = independent_accuracy_assesment(model, datasets.target.processed.test, p.device)\n",
    "# _source_val_label_accuracy = independent_accuracy_assesment(model, datasets.source.processed.val, p.device)\n",
    "# _target_val_label_accuracy = independent_accuracy_assesment(model, datasets.target.processed.val, p.device)\n",
    "\n",
    "# assert(_source_test_label_accuracy == source_test_label_accuracy)\n",
    "# assert(_target_test_label_accuracy == target_test_label_accuracy)\n",
    "# assert(_source_val_label_accuracy == source_val_label_accuracy)\n",
    "# assert(_target_val_label_accuracy == target_val_label_accuracy)\n",
    "\n",
    "###################################\n",
    "# Write out the results\n",
    "###################################\n",
    "\n",
    "experiment = {\n",
    "    \"experiment_name\": p.experiment_name,\n",
    "    \"parameters\": p,\n",
    "    \"results\": {\n",
    "        \"source_test_label_accuracy\": source_test_label_accuracy,\n",
    "        \"source_test_label_loss\": source_test_label_loss,\n",
    "        \"target_test_label_accuracy\": target_test_label_accuracy,\n",
    "        \"target_test_label_loss\": target_test_label_loss,\n",
    "        \"source_val_label_accuracy\": source_val_label_accuracy,\n",
    "        \"source_val_label_loss\": source_val_label_loss,\n",
    "        \"target_val_label_accuracy\": target_val_label_accuracy,\n",
    "        \"target_val_label_loss\": target_val_label_loss,\n",
    "        \"total_epochs_trained\": total_epochs_trained,\n",
    "        \"total_experiment_time_secs\": total_experiment_time_secs,\n",
    "        \"confusion\": confusion,\n",
    "        \"per_domain_accuracy\": per_domain_accuracy,\n",
    "    },\n",
    "    \"history\": history,\n",
    "    \"dataset_metrics\": get_dataset_metrics(datasets, \"cnn\"),\n",
    "}"
   ]
  },
  {
   "cell_type": "code",
   "execution_count": 16,
   "id": "74c318cf",
   "metadata": {
    "execution": {
     "iopub.execute_input": "2022-03-25T23:11:11.879931Z",
     "iopub.status.busy": "2022-03-25T23:11:11.879073Z",
     "iopub.status.idle": "2022-03-25T23:11:12.074190Z",
     "shell.execute_reply": "2022-03-25T23:11:12.073377Z"
    },
    "papermill": {
     "duration": 0.251925,
     "end_time": "2022-03-25T23:11:12.074349",
     "exception": false,
     "start_time": "2022-03-25T23:11:11.822424",
     "status": "completed"
    },
    "tags": []
   },
   "outputs": [
    {
     "data": {
      "text/plain": [
       "<AxesSubplot:title={'center':'Source Train Label Loss vs Source Val Label Loss'}, xlabel='Epoch'>"
      ]
     },
     "execution_count": 16,
     "metadata": {},
     "output_type": "execute_result"
    },
    {
     "data": {
      "image/png": "[encoded data removed]",
      "text/plain": [
       "<Figure size 1080x504 with 1 Axes>"
      ]
     },
     "metadata": {
      "needs_background": "light"
     },
     "output_type": "display_data"
    }
   ],
   "source": [
    "get_loss_curve(experiment)"
   ]
  },
  {
   "cell_type": "code",
   "execution_count": 17,
   "id": "59376601",
   "metadata": {
    "execution": {
     "iopub.execute_input": "2022-03-25T23:11:12.173978Z",
     "iopub.status.busy": "2022-03-25T23:11:12.166076Z",
     "iopub.status.idle": "2022-03-25T23:11:12.466250Z",
     "shell.execute_reply": "2022-03-25T23:11:12.466931Z"
    },
    "papermill": {
     "duration": 0.352307,
     "end_time": "2022-03-25T23:11:12.467165",
     "exception": false,
     "start_time": "2022-03-25T23:11:12.114858",
     "status": "completed"
    },
    "tags": []
   },
   "outputs": [
    {
     "data": {
      "text/plain": [
       "<AxesSubplot:title={'center':'Results'}>"
      ]
     },
     "execution_count": 17,
     "metadata": {},
     "output_type": "execute_result"
    },
    {
     "data": {
      "image/png": "[encoded data removed]",
      "text/plain": [
       "<Figure size 1080x504 with 1 Axes>"
      ]
     },
     "metadata": {
      "needs_background": "light"
     },
     "output_type": "display_data"
    }
   ],
   "source": [
    "get_results_table(experiment)"
   ]
  },
  {
   "cell_type": "code",
   "execution_count": 18,
   "id": "e80c5c98",
   "metadata": {
    "execution": {
     "iopub.execute_input": "2022-03-25T23:11:12.574261Z",
     "iopub.status.busy": "2022-03-25T23:11:12.565038Z",
     "iopub.status.idle": "2022-03-25T23:11:12.733526Z",
     "shell.execute_reply": "2022-03-25T23:11:12.732710Z"
    },
    "papermill": {
     "duration": 0.222252,
     "end_time": "2022-03-25T23:11:12.733686",
     "exception": false,
     "start_time": "2022-03-25T23:11:12.511434",
     "status": "completed"
    },
    "tags": []
   },
   "outputs": [
    {
     "data": {
      "text/plain": [
       "<AxesSubplot:title={'center':'Per Domain Accuracy'}, xlabel='domain'>"
      ]
     },
     "execution_count": 18,
     "metadata": {},
     "output_type": "execute_result"
    },
    {
     "data": {
      "image/png": "[encoded data removed]",
      "text/plain": [
       "<Figure size 1080x504 with 1 Axes>"
      ]
     },
     "metadata": {
      "needs_background": "light"
     },
     "output_type": "display_data"
    }
   ],
   "source": [
    "get_domain_accuracies(experiment)"
   ]
  },
  {
   "cell_type": "code",
   "execution_count": 19,
   "id": "086fdd10",
   "metadata": {
    "execution": {
     "iopub.execute_input": "2022-03-25T23:11:12.827299Z",
     "iopub.status.busy": "2022-03-25T23:11:12.826879Z",
     "iopub.status.idle": "2022-03-25T23:11:12.831441Z",
     "shell.execute_reply": "2022-03-25T23:11:12.832173Z"
    },
    "papermill": {
     "duration": 0.051403,
     "end_time": "2022-03-25T23:11:12.832367",
     "exception": false,
     "start_time": "2022-03-25T23:11:12.780964",
     "status": "completed"
    },
    "tags": []
   },
   "outputs": [
    {
     "name": "stdout",
     "output_type": "stream",
     "text": [
      "Source Test Label Accuracy: 0.4995833333333333 Target Test Label Accuracy: 0.09208333333333334\n",
      "Source Val Label Accuracy: 0.504375 Target Val Label Accuracy: 0.09108333333333334\n"
     ]
    }
   ],
   "source": [
    "print(\"Source Test Label Accuracy:\", experiment[\"results\"][\"source_test_label_accuracy\"], \"Target Test Label Accuracy:\", experiment[\"results\"][\"target_test_label_accuracy\"])\n",
    "print(\"Source Val Label Accuracy:\", experiment[\"results\"][\"source_val_label_accuracy\"], \"Target Val Label Accuracy:\", experiment[\"results\"][\"target_val_label_accuracy\"])"
   ]
  },
  {
   "cell_type": "code",
   "execution_count": 20,
   "id": "9f450536",
   "metadata": {
    "execution": {
     "iopub.execute_input": "2022-03-25T23:11:12.922873Z",
     "iopub.status.busy": "2022-03-25T23:11:12.922321Z",
     "iopub.status.idle": "2022-03-25T23:11:12.926487Z",
     "shell.execute_reply": "2022-03-25T23:11:12.925931Z"
    },
    "papermill": {
     "duration": 0.048613,
     "end_time": "2022-03-25T23:11:12.926593",
     "exception": false,
     "start_time": "2022-03-25T23:11:12.877980",
     "status": "completed"
    },
    "tags": [
     "experiment_json"
    ]
   },
   "outputs": [
    {
     "data": {
      "text/plain": [
       "'{\"experiment_name\": \"cnn_1:oracle.run1_limited\", \"parameters\": {\"experiment_name\": \"cnn_1:oracle.run1_limited\", \"labels\": [\"3123D52\", \"3123D65\", \"3123D79\", \"3123D80\", \"3123D54\", \"3123D70\", \"3123D7B\", \"3123D89\", \"3123D58\", \"3123D76\", \"3123D7D\", \"3123EFE\", \"3123D64\", \"3123D78\", \"3123D7E\", \"3124E4A\"], \"domains_source\": [8, 32, 50], \"domains_target\": [14, 20, 26, 38, 44], \"pickle_name_source\": \"oracle.Run1_10kExamples_stratified_ds.2022A.pkl\", \"pickle_name_target\": \"oracle.Run1_10kExamples_stratified_ds.2022A.pkl\", \"device\": \"cuda\", \"lr\": 0.0001, \"batch_size\": 128, \"normalize_source\": false, \"normalize_target\": false, \"num_examples_per_domain_per_label_source\": 2000, \"num_examples_per_domain_per_label_target\": 2000, \"torch_default_dtype\": \"torch.float32\", \"n_epoch\": 50, \"patience\": 3, \"criteria_for_best\": \"target_accuracy\", \"x_net\": [{\"class\": \"nnReshape\", \"kargs\": {\"shape\": [-1, 1, 2, 256]}}, {\"class\": \"Conv2d\", \"kargs\": {\"in_channels\": 1, \"out_channels\": 256, \"kernel_size\": [1, 7], \"bias\": false, \"padding\": [0, 3]}}, {\"class\": \"ReLU\", \"kargs\": {\"inplace\": true}}, {\"class\": \"BatchNorm2d\", \"kargs\": {\"num_features\": 256}}, {\"class\": \"Conv2d\", \"kargs\": {\"in_channels\": 256, \"out_channels\": 80, \"kernel_size\": [2, 7], \"bias\": true, \"padding\": [0, 3]}}, {\"class\": \"ReLU\", \"kargs\": {\"inplace\": true}}, {\"class\": \"BatchNorm2d\", \"kargs\": {\"num_features\": 80}}, {\"class\": \"Flatten\", \"kargs\": {}}, {\"class\": \"Linear\", \"kargs\": {\"in_features\": 20480, \"out_features\": 256}}, {\"class\": \"ReLU\", \"kargs\": {\"inplace\": true}}, {\"class\": \"BatchNorm1d\", \"kargs\": {\"num_features\": 256}}, {\"class\": \"Linear\", \"kargs\": {\"in_features\": 256, \"out_features\": 16}}], \"NUM_LOGS_PER_EPOCH\": 10, \"BEST_MODEL_PATH\": \"./best_model.pth\", \"dataset_seed\": 420, \"seed\": 420}, \"results\": {\"source_test_label_accuracy\": 0.4995833333333333, \"source_test_label_loss\": 1.4328907327314393, \"target_test_label_accuracy\": 0.09208333333333334, \"target_test_label_loss\": 6.143222945801755, \"source_val_label_accuracy\": 0.504375, \"source_val_label_loss\": 1.4296881814973543, \"target_val_label_accuracy\": 0.09108333333333334, \"target_val_label_loss\": 6.13530880593239, \"total_epochs_trained\": 7, \"total_experiment_time_secs\": 70.13089895248413, \"confusion\": {\"26\": {\"1\": {\"12\": 112, \"3\": 188}, \"10\": {\"3\": 232, \"12\": 64, \"6\": 3, \"9\": 1}, \"8\": {\"3\": 291, \"6\": 3, \"9\": 2, \"12\": 4}, \"6\": {\"12\": 159, \"3\": 120, \"6\": 18, \"9\": 3}, \"0\": {\"3\": 261, \"12\": 37, \"9\": 1, \"6\": 1}, \"15\": {\"3\": 198, \"6\": 35, \"12\": 51, \"9\": 16}, \"11\": {\"12\": 37, \"6\": 237, \"2\": 6, \"9\": 10, \"10\": 10}, \"5\": {\"3\": 122, \"9\": 31, \"12\": 76, \"6\": 65, \"11\": 5, \"2\": 1}, \"3\": {\"3\": 300}, \"4\": {\"3\": 300}, \"9\": {\"3\": 286, \"9\": 11, \"6\": 2, \"12\": 1}, \"2\": {\"3\": 288, \"11\": 1, \"6\": 5, \"9\": 5, \"12\": 1}, \"14\": {\"3\": 256, \"12\": 43, \"6\": 1}, \"12\": {\"3\": 72, \"9\": 48, \"12\": 152, \"6\": 28}, \"7\": {\"3\": 298, \"9\": 2}, \"13\": {\"3\": 184, \"6\": 32, \"9\": 82, \"2\": 1, \"11\": 1}}, \"20\": {\"10\": {\"12\": 113, \"15\": 60, \"2\": 112, \"13\": 14, \"8\": 1}, \"1\": {\"2\": 283, \"15\": 15, \"12\": 2}, \"0\": {\"3\": 116, \"2\": 176, \"12\": 5, \"15\": 3}, \"14\": {\"3\": 102, \"12\": 84, \"15\": 19, \"2\": 95}, \"11\": {\"3\": 185, \"2\": 115}, \"13\": {\"2\": 298, \"13\": 2}, \"7\": {\"2\": 278, \"3\": 3, \"12\": 9, \"15\": 10}, \"2\": {\"2\": 293, \"12\": 3, \"15\": 3, \"3\": 1}, \"15\": {\"2\": 292, \"13\": 1, \"15\": 4, \"12\": 3}, \"9\": {\"2\": 287, \"12\": 5, \"3\": 3, \"15\": 5}, \"12\": {\"15\": 21, \"2\": 269, \"12\": 10}, \"5\": {\"2\": 276, \"15\": 18, \"12\": 5, \"3\": 1}, \"4\": {\"15\": 68, \"12\": 68, \"2\": 162, \"3\": 2}, \"6\": {\"2\": 217, \"3\": 32, \"12\": 35, \"15\": 16}, \"8\": {\"2\": 150, \"3\": 84, \"15\": 22, \"12\": 44}, \"3\": {\"2\": 253, \"3\": 13, \"15\": 28, \"12\": 6}}, \"50\": {\"3\": {\"3\": 296, \"7\": 4}, \"13\": {\"13\": 133, \"1\": 75, \"8\": 57, \"15\": 13, \"12\": 1, \"3\": 14, \"5\": 3, \"9\": 2, \"0\": 2}, \"12\": {\"12\": 272, \"9\": 27, \"15\": 1}, \"5\": {\"3\": 7, \"7\": 234, \"9\": 9, \"15\": 18, \"13\": 3, \"5\": 13, \"4\": 11, \"8\": 3, \"6\": 1, \"0\": 1}, \"15\": {\"15\": 118, \"7\": 89, \"5\": 15, \"9\": 77, \"4\": 1}, \"11\": {\"9\": 165, \"12\": 39, \"15\": 85, \"5\": 11}, \"4\": {\"7\": 268, \"5\": 2, \"4\": 25, \"9\": 5}, \"7\": {\"7\": 296, \"4\": 4}, \"10\": {\"10\": 32, \"1\": 193, \"8\": 58, \"0\": 17}, \"8\": {\"8\": 70, \"1\": 229, \"0\": 1}, \"6\": {\"15\": 60, \"7\": 107, \"9\": 67, \"5\": 54, \"6\": 7, \"12\": 3, \"4\": 2}, \"14\": {\"2\": 223, \"14\": 48, \"13\": 9, \"0\": 16, \"12\": 3, \"3\": 1}, \"2\": {\"0\": 138, \"2\": 142, \"10\": 13, \"14\": 6, \"12\": 1}, \"0\": {\"0\": 222, \"10\": 49, \"1\": 9, \"2\": 17, \"8\": 3}, \"9\": {\"9\": 209, \"12\": 63, \"15\": 10, \"7\": 18}, \"1\": {\"8\": 195, \"13\": 57, \"1\": 42, \"15\": 3, \"0\": 3}}, \"38\": {\"14\": {\"7\": 258, \"4\": 39, \"3\": 1, \"5\": 2}, \"8\": {\"7\": 109, \"15\": 124, \"9\": 35, \"5\": 21, \"4\": 4, \"13\": 3, \"12\": 2, \"8\": 2}, \"0\": {\"7\": 251, \"4\": 49}, \"6\": {\"2\": 209, \"8\": 45, \"0\": 33, \"13\": 11, \"14\": 2}, \"12\": {\"15\": 299, \"3\": 1}, \"5\": {\"4\": 1, \"15\": 78, \"8\": 10, \"12\": 10, \"7\": 65, \"9\": 118, \"5\": 17, \"0\": 1}, \"11\": {\"7\": 113, \"4\": 187}, \"2\": {\"7\": 299, \"6\": 1}, \"3\": {\"7\": 298, \"4\": 2}, \"15\": {\"8\": 141, \"1\": 47, \"13\": 17, \"5\": 12, \"15\": 9, \"0\": 28, \"9\": 29, \"12\": 11, \"3\": 6}, \"13\": {\"7\": 299, \"4\": 1}, \"7\": {\"7\": 235, \"4\": 57, \"15\": 8}, \"4\": {\"4\": 297, \"7\": 3}, \"10\": {\"7\": 232, \"4\": 68}, \"1\": {\"0\": 143, \"2\": 90, \"8\": 61, \"10\": 1, \"1\": 5}, \"9\": {\"7\": 38, \"9\": 170, \"12\": 92}}, \"44\": {\"2\": {\"15\": 250, \"7\": 7, \"9\": 37, \"5\": 5, \"12\": 1}, \"11\": {\"4\": 273, \"7\": 27}, \"9\": {\"15\": 56, \"7\": 191, \"4\": 40, \"9\": 13}, \"6\": {\"7\": 57, \"4\": 241, \"15\": 2}, \"7\": {\"15\": 68, \"7\": 212, \"9\": 9, \"4\": 11}, \"15\": {\"12\": 172, \"9\": 121, \"7\": 4, \"5\": 1, \"15\": 2}, \"3\": {\"14\": 133, \"2\": 37, \"4\": 5, \"8\": 85, \"13\": 22, \"0\": 17, \"11\": 1}, \"12\": {\"3\": 23, \"8\": 90, \"14\": 46, \"4\": 80, \"13\": 38, \"15\": 15, \"0\": 3, \"11\": 3, \"2\": 2}, \"14\": {\"9\": 128, \"7\": 150, \"15\": 6, \"12\": 15, \"5\": 1}, \"10\": {\"7\": 190, \"15\": 88, \"9\": 21, \"4\": 1}, \"13\": {\"7\": 109, \"4\": 191}, \"5\": {\"5\": 11, \"7\": 177, \"9\": 99, \"12\": 10, \"15\": 2, \"6\": 1}, \"1\": {\"7\": 81, \"9\": 62, \"5\": 53, \"12\": 20, \"15\": 84}, \"8\": {\"12\": 238, \"9\": 42, \"8\": 4, \"0\": 11, \"7\": 3, \"5\": 1, \"3\": 1}, \"0\": {\"0\": 106, \"12\": 129, \"9\": 20, \"8\": 42, \"15\": 1, \"5\": 1, \"3\": 1}, \"4\": {\"9\": 69, \"7\": 193, \"15\": 29, \"5\": 2, \"12\": 7}}, \"8\": {\"4\": {\"10\": 10, \"4\": 117, \"14\": 99, \"8\": 32, \"1\": 4, \"7\": 20, \"11\": 8, \"13\": 3, \"6\": 7}, \"13\": {\"13\": 212, \"10\": 46, \"5\": 12, \"7\": 18, \"8\": 2, \"11\": 2, \"6\": 3, \"1\": 4, \"14\": 1}, \"2\": {\"2\": 212, \"3\": 69, \"12\": 6, \"15\": 13}, \"12\": {\"15\": 90, \"12\": 109, \"2\": 97, \"3\": 4}, \"6\": {\"11\": 7, \"7\": 70, \"13\": 78, \"8\": 37, \"14\": 12, \"10\": 50, \"6\": 8, \"4\": 29, \"1\": 8, \"5\": 1}, \"5\": {\"1\": 30, \"10\": 118, \"13\": 37, \"5\": 100, \"14\": 3, \"4\": 7, \"7\": 1, \"6\": 1, \"11\": 1, \"8\": 1, \"15\": 1}, \"9\": {\"9\": 297, \"6\": 2, \"10\": 1}, \"15\": {\"2\": 97, \"15\": 127, \"12\": 67, \"3\": 9}, \"8\": {\"8\": 228, \"14\": 29, \"7\": 7, \"4\": 14, \"11\": 19, \"13\": 1, \"10\": 1, \"1\": 1}, \"0\": {\"0\": 300}, \"3\": {\"3\": 277, \"12\": 2, \"2\": 21}, \"1\": {\"10\": 61, \"8\": 32, \"13\": 24, \"1\": 112, \"4\": 13, \"11\": 30, \"5\": 14, \"14\": 10, \"7\": 3, \"6\": 1}, \"7\": {\"13\": 137, \"11\": 5, \"7\": 101, \"1\": 3, \"4\": 2, \"10\": 19, \"14\": 2, \"8\": 22, \"6\": 9}, \"10\": {\"1\": 11, \"10\": 130, \"13\": 125, \"7\": 13, \"5\": 15, \"8\": 1, \"11\": 2, \"4\": 1, \"6\": 2}, \"11\": {\"8\": 92, \"11\": 63, \"1\": 60, \"7\": 7, \"10\": 27, \"14\": 24, \"13\": 8, \"4\": 17, \"6\": 1, \"5\": 1}, \"14\": {\"14\": 211, \"4\": 56, \"8\": 13, \"0\": 17, \"11\": 3}}, \"14\": {\"1\": {\"2\": 178, \"3\": 122}, \"11\": {\"7\": 192, \"6\": 12, \"2\": 8, \"8\": 23, \"14\": 11, \"12\": 3, \"13\": 42, \"4\": 7, \"15\": 1, \"11\": 1}, \"3\": {\"3\": 299, \"11\": 1}, \"7\": {\"3\": 234, \"11\": 66}, \"9\": {\"2\": 296, \"3\": 4}, \"5\": {\"3\": 299, \"2\": 1}, \"0\": {\"3\": 293, \"2\": 5, \"9\": 2}, \"14\": {\"3\": 300}, \"13\": {\"3\": 300}, \"8\": {\"2\": 124, \"3\": 112, \"6\": 29, \"9\": 25, \"11\": 10}, \"4\": {\"3\": 287, \"2\": 13}, \"6\": {\"3\": 300}, \"12\": {\"9\": 162, \"2\": 123, \"3\": 15}, \"10\": {\"3\": 214, \"2\": 85, \"12\": 1}, \"2\": {\"3\": 299, \"11\": 1}, \"15\": {\"3\": 152, \"11\": 148}}, \"32\": {\"13\": {\"3\": 75, \"4\": 10, \"13\": 126, \"2\": 43, \"11\": 20, \"14\": 25, \"15\": 1}, \"10\": {\"10\": 300}, \"14\": {\"14\": 122, \"0\": 35, \"7\": 107, \"8\": 7, \"12\": 17, \"2\": 3, \"9\": 2, \"5\": 7}, \"9\": {\"6\": 2, \"2\": 200, \"0\": 51, \"14\": 20, \"10\": 5, \"12\": 17, \"8\": 1, \"9\": 2, \"13\": 1, \"3\": 1}, \"4\": {\"2\": 139, \"8\": 7, \"14\": 80, \"13\": 67, \"4\": 7}, \"0\": {\"12\": 25, \"0\": 154, \"5\": 16, \"7\": 23, \"8\": 35, \"15\": 13, \"9\": 21, \"14\": 13}, \"8\": {\"0\": 63, \"15\": 57, \"8\": 131, \"5\": 36, \"2\": 4, \"7\": 4, \"14\": 2, \"13\": 2, \"9\": 1}, \"15\": {\"15\": 300}, \"5\": {\"15\": 27, \"7\": 76, \"0\": 28, \"5\": 69, \"12\": 42, \"9\": 45, \"8\": 10, \"14\": 3}, \"12\": {\"2\": 11, \"12\": 202, \"10\": 77, \"6\": 7, \"0\": 2, \"9\": 1}, \"7\": {\"7\": 139, \"12\": 86, \"14\": 15, \"5\": 16, \"0\": 31, \"15\": 2, \"9\": 11}, \"6\": {\"6\": 294, \"10\": 3, \"9\": 3}, \"11\": {\"11\": 265, \"3\": 27, \"13\": 7, \"14\": 1}, \"2\": {\"14\": 79, \"2\": 193, \"8\": 19, \"13\": 5, \"0\": 4}, \"1\": {\"1\": 298, \"8\": 2}, \"3\": {\"13\": 117, \"4\": 27, \"3\": 132, \"2\": 5, \"14\": 7, \"11\": 9, \"8\": 3}}}, \"per_domain_accuracy\": {\"26\": {\"accuracy\": 0.10020833333333333, \"source?\": false}, \"20\": {\"accuracy\": 0.06708333333333333, \"source?\": false}, \"50\": {\"accuracy\": 0.4010416666666667, \"source?\": true}, \"38\": {\"accuracy\": 0.153125, \"source?\": false}, \"44\": {\"accuracy\": 0.0725, \"source?\": false}, \"8\": {\"accuracy\": 0.5425, \"source?\": true}, \"14\": {\"accuracy\": 0.0625, \"source?\": false}, \"32\": {\"accuracy\": 0.5695833333333333, \"source?\": true}}}, \"history\": {\"epoch_indices\": [1, 2, 3, 4, 5, 6, 7], \"train_label_loss\": [2.387208982195173, 1.918282492501395, 1.5585343317758469, 1.2720239630199615, 1.0285299051375616, 0.8246017486708505, 0.652489184822355], \"source_val_label_loss\": [2.131835964928686, 1.7190984930612345, 1.4291728133648898, 1.305241995153174, 1.1350597343613615, 1.1387382133872108, 1.1791087352069078], \"target_val_label_loss\": [3.7943858453567993, 4.927742876905076, 6.134120664698012, 6.990222674735049, 7.684727846307958, 8.872676684501323, 9.840163504823725], \"source_val_acc_label\": [0.2972916666666667, 0.41770833333333335, 0.504375, 0.5290972222222222, 0.6026388888888888, 0.5689583333333333, 0.5758333333333333], \"target_val_acc_label\": [0.08541666666666667, 0.087125, 0.09108333333333334, 0.08133333333333333, 0.081375, 0.08033333333333334, 0.076]}, \"dataset_metrics\": {\"source\": {\"train\": {\"n_unique_x\": 67200, \"n_unique_y\": 16, \"n_batch/episode\": 525}, \"val\": {\"n_unique_x\": 14400, \"n_unique_y\": 16, \"n_batch/episode\": 113}, \"test\": {\"n_unique_x\": 14400, \"n_unique_y\": 16, \"n_batch/episode\": 113}}, \"target\": {\"train\": {\"n_unique_x\": 112000, \"n_unique_y\": 16, \"n_batch/episode\": 875}, \"val\": {\"n_unique_x\": 24000, \"n_unique_y\": 16, \"n_batch/episode\": 188}, \"test\": {\"n_unique_x\": 24000, \"n_unique_y\": 16, \"n_batch/episode\": 188}}}}'"
      ]
     },
     "execution_count": 20,
     "metadata": {},
     "output_type": "execute_result"
    }
   ],
   "source": [
    "json.dumps(experiment)"
   ]
  }
 ],
 "metadata": {
  "celltoolbar": "Tags",
  "kernelspec": {
   "display_name": "Python 3 (ipykernel)",
   "language": "python",
   "name": "python3"
  },
  "language_info": {
   "codemirror_mode": {
    "name": "ipython",
    "version": 3
   },
   "file_extension": ".py",
   "mimetype": "text/x-python",
   "name": "python",
   "nbconvert_exporter": "python",
   "pygments_lexer": "ipython3",
   "version": "3.8.12"
  },
  "papermill": {
   "default_parameters": {},
   "duration": 87.978519,
   "end_time": "2022-03-25T23:11:14.883803",
   "environment_variables": {},
   "exception": null,
   "input_path": "/root/csc500-main/csc500-notebooks/templates/cnn_template.ipynb",
   "output_path": "trial.ipynb",
   "parameters": {
    "parameters": {
     "BEST_MODEL_PATH": "./best_model.pth",
     "NUM_LOGS_PER_EPOCH": 10,
     "batch_size": 128,
     "criteria_for_best": "target_accuracy",
     "dataset_seed": 420,
     "device": "cuda",
     "domains_source": [
      8,
      32,
      50
     ],
     "domains_target": [
      14,
      20,
      26,
      38,
      44
     ],
     "experiment_name": "cnn_1:oracle.run1_limited",
     "labels": [
      "3123D52",
      "3123D65",
      "3123D79",
      "3123D80",
      "3123D54",
      "3123D70",
      "3123D7B",
      "3123D89",
      "3123D58",
      "3123D76",
      "3123D7D",
      "3123EFE",
      "3123D64",
      "3123D78",
      "3123D7E",
      "3124E4A"
     ],
     "lr": 0.0001,
     "n_epoch": 50,
     "normalize_source": false,
     "normalize_target": false,
     "num_examples_per_domain_per_label_source": 2000,
     "num_examples_per_domain_per_label_target": 2000,
     "patience": 3,
     "pickle_name_source": "oracle.Run1_10kExamples_stratified_ds.2022A.pkl",
     "pickle_name_target": "oracle.Run1_10kExamples_stratified_ds.2022A.pkl",
     "seed": 420,
     "torch_default_dtype": "torch.float32",
     "x_net": [
      {
       "class": "nnReshape",
       "kargs": {
        "shape": [
         -1,
         1,
         2,
         256
        ]
       }
      },
      {
       "class": "Conv2d",
       "kargs": {
        "bias": false,
        "in_channels": 1,
        "kernel_size": [
         1,
         7
        ],
        "out_channels": 256,
        "padding": [
         0,
         3
        ]
       }
      },
      {
       "class": "ReLU",
       "kargs": {
        "inplace": true
       }
      },
      {
       "class": "BatchNorm2d",
       "kargs": {
        "num_features": 256
       }
      },
      {
       "class": "Conv2d",
       "kargs": {
        "bias": true,
        "in_channels": 256,
        "kernel_size": [
         2,
         7
        ],
        "out_channels": 80,
        "padding": [
         0,
         3
        ]
       }
      },
      {
       "class": "ReLU",
       "kargs": {
        "inplace": true
       }
      },
      {
       "class": "BatchNorm2d",
       "kargs": {
        "num_features": 80
       }
      },
      {
       "class": "Flatten",
       "kargs": {}
      },
      {
       "class": "Linear",
       "kargs": {
        "in_features": 20480,
        "out_features": 256
       }
      },
      {
       "class": "ReLU",
       "kargs": {
        "inplace": true
       }
      },
      {
       "class": "BatchNorm1d",
       "kargs": {
        "num_features": 256
       }
      },
      {
       "class": "Linear",
       "kargs": {
        "in_features": 256,
        "out_features": 16
       }
      }
     ]
    }
   },
   "start_time": "2022-03-25T23:09:46.905284",
   "version": "2.3.4"
  }
 },
 "nbformat": 4,
 "nbformat_minor": 5
}