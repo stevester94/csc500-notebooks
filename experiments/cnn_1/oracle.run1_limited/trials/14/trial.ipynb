{
 "cells": [
  {
   "cell_type": "code",
   "execution_count": 1,
   "id": "2324682e",
   "metadata": {
    "execution": {
     "iopub.execute_input": "2022-03-25T23:13:42.792826Z",
     "iopub.status.busy": "2022-03-25T23:13:42.789743Z",
     "iopub.status.idle": "2022-03-25T23:13:44.097264Z",
     "shell.execute_reply": "2022-03-25T23:13:44.096418Z"
    },
    "papermill": {
     "duration": 1.343926,
     "end_time": "2022-03-25T23:13:44.097463",
     "exception": false,
     "start_time": "2022-03-25T23:13:42.753537",
     "status": "completed"
    },
    "tags": []
   },
   "outputs": [],
   "source": [
    "import os, json, sys, time, random\n",
    "import numpy as np\n",
    "import torch\n",
    "from  easydict import EasyDict\n",
    "from math import floor\n",
    "from easydict import EasyDict\n",
    "\n",
    "from steves_utils.vanilla_train_eval_test_jig import  Vanilla_Train_Eval_Test_Jig\n",
    "\n",
    "from steves_utils.torch_utils import get_dataset_metrics, independent_accuracy_assesment\n",
    "from steves_models.configurable_vanilla import Configurable_Vanilla\n",
    "from steves_utils.torch_sequential_builder import build_sequential\n",
    "from steves_utils.lazy_map import Lazy_Map\n",
    "from steves_utils.sequence_aggregator import Sequence_Aggregator\n",
    "\n",
    "from steves_utils.stratified_dataset.traditional_accessor import Traditional_Accessor_Factory\n",
    "\n",
    "from steves_utils.cnn_do_report import (\n",
    "    get_loss_curve,\n",
    "    get_results_table,\n",
    "    get_parameters_table,\n",
    "    get_domain_accuracies,\n",
    ")\n",
    "\n",
    "from steves_utils.torch_utils import (\n",
    "    confusion_by_domain_over_dataloader,\n",
    "    independent_accuracy_assesment\n",
    ")\n",
    "\n",
    "from steves_utils.utils_v2 import (\n",
    "    per_domain_accuracy_from_confusion,\n",
    "    get_datasets_base_path\n",
    ")\n",
    "\n",
    "# from steves_utils.ptn_do_report import TBD"
   ]
  },
  {
   "cell_type": "code",
   "execution_count": 2,
   "id": "1b29e3fe",
   "metadata": {
    "execution": {
     "iopub.execute_input": "2022-03-25T23:13:44.131874Z",
     "iopub.status.busy": "2022-03-25T23:13:44.131472Z",
     "iopub.status.idle": "2022-03-25T23:13:44.133903Z",
     "shell.execute_reply": "2022-03-25T23:13:44.133533Z"
    },
    "papermill": {
     "duration": 0.019214,
     "end_time": "2022-03-25T23:13:44.133978",
     "exception": false,
     "start_time": "2022-03-25T23:13:44.114764",
     "status": "completed"
    },
    "tags": []
   },
   "outputs": [],
   "source": [
    "required_parameters = {\n",
    "    \"experiment_name\",\n",
    "    \"lr\",\n",
    "    \"device\",\n",
    "    \"dataset_seed\",\n",
    "    \"seed\",\n",
    "    \"labels\",\n",
    "    \"domains_target\",\n",
    "    \"domains_source\",\n",
    "    \"num_examples_per_domain_per_label_source\",\n",
    "    \"num_examples_per_domain_per_label_target\",\n",
    "    \"batch_size\",\n",
    "    \"n_epoch\",\n",
    "    \"patience\",\n",
    "    \"criteria_for_best\",\n",
    "    \"normalize_source\",\n",
    "    \"normalize_target\",\n",
    "    \"x_net\",\n",
    "    \"NUM_LOGS_PER_EPOCH\",\n",
    "    \"BEST_MODEL_PATH\",\n",
    "    \"pickle_name_source\",\n",
    "    \"pickle_name_target\",\n",
    "    \"torch_default_dtype\",\n",
    "}"
   ]
  },
  {
   "cell_type": "code",
   "execution_count": 3,
   "id": "670b5fb8",
   "metadata": {
    "execution": {
     "iopub.execute_input": "2022-03-25T23:13:44.174728Z",
     "iopub.status.busy": "2022-03-25T23:13:44.174033Z",
     "iopub.status.idle": "2022-03-25T23:13:44.181209Z",
     "shell.execute_reply": "2022-03-25T23:13:44.180405Z"
    },
    "papermill": {
     "duration": 0.029167,
     "end_time": "2022-03-25T23:13:44.181364",
     "exception": false,
     "start_time": "2022-03-25T23:13:44.152197",
     "status": "completed"
    },
    "tags": [
     "parameters"
    ]
   },
   "outputs": [],
   "source": [
    "from steves_utils.ORACLE.utils_v2 import (\n",
    "    ALL_SERIAL_NUMBERS,\n",
    "    ALL_DISTANCES_FEET_NARROWED,\n",
    ")\n",
    "\n",
    "standalone_parameters = {}\n",
    "standalone_parameters[\"experiment_name\"] = \"MANUAL CORES CNN\"\n",
    "standalone_parameters[\"lr\"] = 0.0001\n",
    "standalone_parameters[\"device\"] = \"cuda\"\n",
    "\n",
    "standalone_parameters[\"dataset_seed\"] = 1337\n",
    "standalone_parameters[\"seed\"] = 1337\n",
    "standalone_parameters[\"labels\"] = ALL_SERIAL_NUMBERS\n",
    "\n",
    "standalone_parameters[\"domains_source\"] = [8,32,50]\n",
    "standalone_parameters[\"domains_target\"] = [14,20,26,38,44,]\n",
    "\n",
    "standalone_parameters[\"num_examples_per_domain_per_label_source\"]=-1\n",
    "standalone_parameters[\"num_examples_per_domain_per_label_target\"]=-1\n",
    "\n",
    "standalone_parameters[\"pickle_name_source\"] = \"oracle.Run1_framed_2000Examples_stratified_ds.2022A.pkl\"\n",
    "standalone_parameters[\"pickle_name_target\"] = \"oracle.Run2_framed_2000Examples_stratified_ds.2022A.pkl\"\n",
    "\n",
    "standalone_parameters[\"torch_default_dtype\"] = \"torch.float32\" \n",
    "\n",
    "standalone_parameters[\"batch_size\"]=128\n",
    "\n",
    "standalone_parameters[\"n_epoch\"] = 3\n",
    "\n",
    "standalone_parameters[\"patience\"] = 10\n",
    "\n",
    "standalone_parameters[\"criteria_for_best\"] = \"target_accuracy\"\n",
    "standalone_parameters[\"normalize_source\"] = False\n",
    "standalone_parameters[\"normalize_target\"] = False\n",
    "\n",
    "standalone_parameters[\"x_net\"] =     [\n",
    "    {\"class\": \"nnReshape\", \"kargs\": {\"shape\":[-1, 1, 2, 256]}},\n",
    "    {\"class\": \"Conv2d\", \"kargs\": { \"in_channels\":1, \"out_channels\":256, \"kernel_size\":(1,7), \"bias\":False, \"padding\":(0,3), },},\n",
    "    {\"class\": \"ReLU\", \"kargs\": {\"inplace\": True}},\n",
    "    {\"class\": \"BatchNorm2d\", \"kargs\": {\"num_features\":256}},\n",
    "\n",
    "    {\"class\": \"Conv2d\", \"kargs\": { \"in_channels\":256, \"out_channels\":80, \"kernel_size\":(2,7), \"bias\":True, \"padding\":(0,3), },},\n",
    "    {\"class\": \"ReLU\", \"kargs\": {\"inplace\": True}},\n",
    "    {\"class\": \"BatchNorm2d\", \"kargs\": {\"num_features\":80}},\n",
    "    {\"class\": \"Flatten\", \"kargs\": {}},\n",
    "\n",
    "    {\"class\": \"Linear\", \"kargs\": {\"in_features\": 80*256, \"out_features\": 256}}, # 80 units per IQ pair\n",
    "    {\"class\": \"ReLU\", \"kargs\": {\"inplace\": True}},\n",
    "    {\"class\": \"BatchNorm1d\", \"kargs\": {\"num_features\":256}},\n",
    "\n",
    "    {\"class\": \"Linear\", \"kargs\": {\"in_features\": 256, \"out_features\": len(standalone_parameters[\"labels\"])}},\n",
    "]\n",
    "\n",
    "standalone_parameters[\"NUM_LOGS_PER_EPOCH\"] = 10\n",
    "standalone_parameters[\"BEST_MODEL_PATH\"] = \"./best_model.pth\""
   ]
  },
  {
   "cell_type": "code",
   "execution_count": 4,
   "id": "ecb719c9",
   "metadata": {
    "execution": {
     "iopub.execute_input": "2022-03-25T23:13:44.222054Z",
     "iopub.status.busy": "2022-03-25T23:13:44.221641Z",
     "iopub.status.idle": "2022-03-25T23:13:44.224735Z",
     "shell.execute_reply": "2022-03-25T23:13:44.223995Z"
    },
    "papermill": {
     "duration": 0.024438,
     "end_time": "2022-03-25T23:13:44.224889",
     "exception": false,
     "start_time": "2022-03-25T23:13:44.200451",
     "status": "completed"
    },
    "tags": [
     "injected-parameters"
    ]
   },
   "outputs": [],
   "source": [
    "# Parameters\n",
    "parameters = {\n",
    "    \"experiment_name\": \"cnn_1:oracle.run1_limited\",\n",
    "    \"labels\": [\n",
    "        \"3123D52\",\n",
    "        \"3123D65\",\n",
    "        \"3123D79\",\n",
    "        \"3123D80\",\n",
    "        \"3123D54\",\n",
    "        \"3123D70\",\n",
    "        \"3123D7B\",\n",
    "        \"3123D89\",\n",
    "        \"3123D58\",\n",
    "        \"3123D76\",\n",
    "        \"3123D7D\",\n",
    "        \"3123EFE\",\n",
    "        \"3123D64\",\n",
    "        \"3123D78\",\n",
    "        \"3123D7E\",\n",
    "        \"3124E4A\",\n",
    "    ],\n",
    "    \"domains_source\": [8, 32, 50],\n",
    "    \"domains_target\": [14, 20, 26, 38, 44],\n",
    "    \"pickle_name_source\": \"oracle.Run1_10kExamples_stratified_ds.2022A.pkl\",\n",
    "    \"pickle_name_target\": \"oracle.Run1_10kExamples_stratified_ds.2022A.pkl\",\n",
    "    \"device\": \"cuda\",\n",
    "    \"lr\": 0.0001,\n",
    "    \"batch_size\": 128,\n",
    "    \"normalize_source\": False,\n",
    "    \"normalize_target\": False,\n",
    "    \"num_examples_per_domain_per_label_source\": 2000,\n",
    "    \"num_examples_per_domain_per_label_target\": 2000,\n",
    "    \"torch_default_dtype\": \"torch.float32\",\n",
    "    \"n_epoch\": 50,\n",
    "    \"patience\": 3,\n",
    "    \"criteria_for_best\": \"target_accuracy\",\n",
    "    \"x_net\": [\n",
    "        {\"class\": \"nnReshape\", \"kargs\": {\"shape\": [-1, 1, 2, 256]}},\n",
    "        {\n",
    "            \"class\": \"Conv2d\",\n",
    "            \"kargs\": {\n",
    "                \"in_channels\": 1,\n",
    "                \"out_channels\": 256,\n",
    "                \"kernel_size\": [1, 7],\n",
    "                \"bias\": False,\n",
    "                \"padding\": [0, 3],\n",
    "            },\n",
    "        },\n",
    "        {\"class\": \"ReLU\", \"kargs\": {\"inplace\": True}},\n",
    "        {\"class\": \"BatchNorm2d\", \"kargs\": {\"num_features\": 256}},\n",
    "        {\n",
    "            \"class\": \"Conv2d\",\n",
    "            \"kargs\": {\n",
    "                \"in_channels\": 256,\n",
    "                \"out_channels\": 80,\n",
    "                \"kernel_size\": [2, 7],\n",
    "                \"bias\": True,\n",
    "                \"padding\": [0, 3],\n",
    "            },\n",
    "        },\n",
    "        {\"class\": \"ReLU\", \"kargs\": {\"inplace\": True}},\n",
    "        {\"class\": \"BatchNorm2d\", \"kargs\": {\"num_features\": 80}},\n",
    "        {\"class\": \"Flatten\", \"kargs\": {}},\n",
    "        {\"class\": \"Linear\", \"kargs\": {\"in_features\": 20480, \"out_features\": 256}},\n",
    "        {\"class\": \"ReLU\", \"kargs\": {\"inplace\": True}},\n",
    "        {\"class\": \"BatchNorm1d\", \"kargs\": {\"num_features\": 256}},\n",
    "        {\"class\": \"Linear\", \"kargs\": {\"in_features\": 256, \"out_features\": 16}},\n",
    "    ],\n",
    "    \"NUM_LOGS_PER_EPOCH\": 10,\n",
    "    \"BEST_MODEL_PATH\": \"./best_model.pth\",\n",
    "    \"dataset_seed\": 7,\n",
    "    \"seed\": 7,\n",
    "}\n"
   ]
  },
  {
   "cell_type": "code",
   "execution_count": 5,
   "id": "759b56ec",
   "metadata": {
    "execution": {
     "iopub.execute_input": "2022-03-25T23:13:44.260174Z",
     "iopub.status.busy": "2022-03-25T23:13:44.259796Z",
     "iopub.status.idle": "2022-03-25T23:13:44.262186Z",
     "shell.execute_reply": "2022-03-25T23:13:44.261816Z"
    },
    "papermill": {
     "duration": 0.01996,
     "end_time": "2022-03-25T23:13:44.262259",
     "exception": false,
     "start_time": "2022-03-25T23:13:44.242299",
     "status": "completed"
    },
    "tags": []
   },
   "outputs": [],
   "source": [
    "# Set this to True if you want to run this template directly\n",
    "STANDALONE = False\n",
    "if STANDALONE:\n",
    "    print(\"parameters not injected, running with standalone_parameters\")\n",
    "    parameters = standalone_parameters\n",
    "\n",
    "if not 'parameters' in locals() and not 'parameters' in globals():\n",
    "    raise Exception(\"Parameter injection failed\")\n",
    "\n",
    "#Use an easy dict for all the parameters\n",
    "p = EasyDict(parameters)\n",
    "\n",
    "supplied_keys = set(p.keys())\n",
    "\n",
    "if  supplied_keys != required_parameters:\n",
    "    print(\"Parameters are incorrect\")\n",
    "    if len(supplied_keys - required_parameters)>0: print(\"Shouldn't have:\", str(supplied_keys - required_parameters))\n",
    "    if len(required_parameters - supplied_keys)>0: print(\"Need to have:\", str(required_parameters - supplied_keys))\n",
    "    raise RuntimeError(\"Parameters are incorrect\")\n",
    "\n"
   ]
  },
  {
   "cell_type": "code",
   "execution_count": 6,
   "id": "d5c66a71",
   "metadata": {
    "execution": {
     "iopub.execute_input": "2022-03-25T23:13:44.303006Z",
     "iopub.status.busy": "2022-03-25T23:13:44.302633Z",
     "iopub.status.idle": "2022-03-25T23:13:44.305609Z",
     "shell.execute_reply": "2022-03-25T23:13:44.305243Z"
    },
    "papermill": {
     "duration": 0.023829,
     "end_time": "2022-03-25T23:13:44.305686",
     "exception": false,
     "start_time": "2022-03-25T23:13:44.281857",
     "status": "completed"
    },
    "tags": []
   },
   "outputs": [],
   "source": [
    "###################################\n",
    "# Set the RNGs and make it all deterministic\n",
    "###################################\n",
    "np.random.seed(p.seed)\n",
    "random.seed(p.seed)\n",
    "torch.manual_seed(p.seed)\n",
    "\n",
    "torch.use_deterministic_algorithms(True) "
   ]
  },
  {
   "cell_type": "code",
   "execution_count": 7,
   "id": "92a65876",
   "metadata": {
    "execution": {
     "iopub.execute_input": "2022-03-25T23:13:44.348356Z",
     "iopub.status.busy": "2022-03-25T23:13:44.347796Z",
     "iopub.status.idle": "2022-03-25T23:13:44.350487Z",
     "shell.execute_reply": "2022-03-25T23:13:44.349935Z"
    },
    "papermill": {
     "duration": 0.019938,
     "end_time": "2022-03-25T23:13:44.350600",
     "exception": false,
     "start_time": "2022-03-25T23:13:44.330662",
     "status": "completed"
    },
    "tags": []
   },
   "outputs": [],
   "source": [
    "torch.set_default_dtype(eval(p.torch_default_dtype))"
   ]
  },
  {
   "cell_type": "code",
   "execution_count": 8,
   "id": "f1a32f01",
   "metadata": {
    "execution": {
     "iopub.execute_input": "2022-03-25T23:13:44.384202Z",
     "iopub.status.busy": "2022-03-25T23:13:44.383766Z",
     "iopub.status.idle": "2022-03-25T23:13:44.425422Z",
     "shell.execute_reply": "2022-03-25T23:13:44.424723Z"
    },
    "papermill": {
     "duration": 0.058614,
     "end_time": "2022-03-25T23:13:44.425572",
     "exception": false,
     "start_time": "2022-03-25T23:13:44.366958",
     "status": "completed"
    },
    "tags": []
   },
   "outputs": [],
   "source": [
    "###################################\n",
    "# Build the network(s)\n",
    "# Note: It's critical to do this AFTER setting the RNG\n",
    "###################################\n",
    "x_net = build_sequential(p.x_net)"
   ]
  },
  {
   "cell_type": "code",
   "execution_count": 9,
   "id": "a276cd83",
   "metadata": {
    "execution": {
     "iopub.execute_input": "2022-03-25T23:13:44.464128Z",
     "iopub.status.busy": "2022-03-25T23:13:44.463505Z",
     "iopub.status.idle": "2022-03-25T23:13:44.466158Z",
     "shell.execute_reply": "2022-03-25T23:13:44.465612Z"
    },
    "papermill": {
     "duration": 0.019863,
     "end_time": "2022-03-25T23:13:44.466263",
     "exception": false,
     "start_time": "2022-03-25T23:13:44.446400",
     "status": "completed"
    },
    "tags": []
   },
   "outputs": [],
   "source": [
    "start_time_secs = time.time()"
   ]
  },
  {
   "cell_type": "code",
   "execution_count": 10,
   "id": "de702e48",
   "metadata": {
    "execution": {
     "iopub.execute_input": "2022-03-25T23:13:44.508623Z",
     "iopub.status.busy": "2022-03-25T23:13:44.507768Z",
     "iopub.status.idle": "2022-03-25T23:13:53.520573Z",
     "shell.execute_reply": "2022-03-25T23:13:53.519831Z"
    },
    "papermill": {
     "duration": 9.03943,
     "end_time": "2022-03-25T23:13:53.520755",
     "exception": false,
     "start_time": "2022-03-25T23:13:44.481325",
     "status": "completed"
    },
    "tags": []
   },
   "outputs": [],
   "source": [
    "def wrap_in_dataloader(p, ds):\n",
    "    return torch.utils.data.DataLoader(\n",
    "        ds,\n",
    "        batch_size=p.batch_size,\n",
    "        shuffle=True,\n",
    "        num_workers=1,\n",
    "        persistent_workers=True,\n",
    "        prefetch_factor=50,\n",
    "        pin_memory=True\n",
    "    )\n",
    "\n",
    "taf_source = Traditional_Accessor_Factory(\n",
    "    labels=p.labels,\n",
    "    domains=p.domains_source,\n",
    "    num_examples_per_domain_per_label=p.num_examples_per_domain_per_label_source,\n",
    "    pickle_path=os.path.join(get_datasets_base_path(), p.pickle_name_source),\n",
    "    seed=p.dataset_seed\n",
    ")\n",
    "train_original_source, val_original_source, test_original_source = \\\n",
    "    taf_source.get_train(), taf_source.get_val(), taf_source.get_test()\n",
    "\n",
    "\n",
    "taf_target = Traditional_Accessor_Factory(\n",
    "    labels=p.labels,\n",
    "    domains=p.domains_target,\n",
    "    num_examples_per_domain_per_label=p.num_examples_per_domain_per_label_source,\n",
    "    pickle_path=os.path.join(get_datasets_base_path(), p.pickle_name_target),\n",
    "    seed=p.dataset_seed\n",
    ")\n",
    "train_original_target, val_original_target, test_original_target = \\\n",
    "    taf_target.get_train(), taf_target.get_val(), taf_target.get_test()\n",
    "\n",
    "\n",
    "# For CNN We only use X and Y. And we only train on the source.\n",
    "# Properly form the data using a transform lambda and Lazy_Map. Finally wrap them in a dataloader\n",
    "\n",
    "transform_lambda = lambda ex: ex[:2] # Strip the tuple to just (x,y)\n",
    "\n",
    "\n",
    "train_processed_source = wrap_in_dataloader(\n",
    "    p,\n",
    "    Lazy_Map(train_original_source, transform_lambda)\n",
    ")\n",
    "val_processed_source = wrap_in_dataloader(\n",
    "    p,\n",
    "    Lazy_Map(val_original_source, transform_lambda)\n",
    ")\n",
    "test_processed_source = wrap_in_dataloader(\n",
    "    p,\n",
    "    Lazy_Map(test_original_source, transform_lambda)\n",
    ")\n",
    "\n",
    "train_processed_target = wrap_in_dataloader(\n",
    "    p,\n",
    "    Lazy_Map(train_original_target, transform_lambda)\n",
    ")\n",
    "val_processed_target = wrap_in_dataloader(\n",
    "    p,\n",
    "    Lazy_Map(val_original_target, transform_lambda)\n",
    ")\n",
    "test_processed_target  = wrap_in_dataloader(\n",
    "    p,\n",
    "    Lazy_Map(test_original_target, transform_lambda)\n",
    ")\n",
    "\n",
    "\n",
    "\n",
    "datasets = EasyDict({\n",
    "    \"source\": {\n",
    "        \"original\": {\"train\":train_original_source, \"val\":val_original_source, \"test\":test_original_source},\n",
    "        \"processed\": {\"train\":train_processed_source, \"val\":val_processed_source, \"test\":test_processed_source}\n",
    "    },\n",
    "    \"target\": {\n",
    "        \"original\": {\"train\":train_original_target, \"val\":val_original_target, \"test\":test_original_target},\n",
    "        \"processed\": {\"train\":train_processed_target, \"val\":val_processed_target, \"test\":test_processed_target}\n",
    "    },\n",
    "})"
   ]
  },
  {
   "cell_type": "code",
   "execution_count": 11,
   "id": "a11b26bd",
   "metadata": {
    "execution": {
     "iopub.execute_input": "2022-03-25T23:13:53.596927Z",
     "iopub.status.busy": "2022-03-25T23:13:53.596106Z",
     "iopub.status.idle": "2022-03-25T23:13:58.758448Z",
     "shell.execute_reply": "2022-03-25T23:13:58.757182Z"
    },
    "papermill": {
     "duration": 5.219756,
     "end_time": "2022-03-25T23:13:58.758729",
     "exception": false,
     "start_time": "2022-03-25T23:13:53.538973",
     "status": "completed"
    },
    "tags": []
   },
   "outputs": [
    {
     "data": {
      "text/plain": [
       "torch.float32"
      ]
     },
     "execution_count": 11,
     "metadata": {},
     "output_type": "execute_result"
    }
   ],
   "source": [
    "ep = next(iter(test_processed_target))\n",
    "ep[0].dtype"
   ]
  },
  {
   "cell_type": "code",
   "execution_count": 12,
   "id": "19425fad",
   "metadata": {
    "execution": {
     "iopub.execute_input": "2022-03-25T23:13:58.822083Z",
     "iopub.status.busy": "2022-03-25T23:13:58.821398Z",
     "iopub.status.idle": "2022-03-25T23:13:58.869278Z",
     "shell.execute_reply": "2022-03-25T23:13:58.868539Z"
    },
    "papermill": {
     "duration": 0.086171,
     "end_time": "2022-03-25T23:13:58.869471",
     "exception": false,
     "start_time": "2022-03-25T23:13:58.783300",
     "status": "completed"
    },
    "tags": []
   },
   "outputs": [],
   "source": [
    "model = Configurable_Vanilla(\n",
    "    x_net=x_net,\n",
    "    label_loss_object=torch.nn.NLLLoss(),\n",
    "    learning_rate=p.lr\n",
    ")"
   ]
  },
  {
   "cell_type": "code",
   "execution_count": 13,
   "id": "7f6d4f2c",
   "metadata": {
    "execution": {
     "iopub.execute_input": "2022-03-25T23:13:58.910641Z",
     "iopub.status.busy": "2022-03-25T23:13:58.910270Z",
     "iopub.status.idle": "2022-03-25T23:14:54.083210Z",
     "shell.execute_reply": "2022-03-25T23:14:54.082500Z"
    },
    "papermill": {
     "duration": 55.192875,
     "end_time": "2022-03-25T23:14:54.083391",
     "exception": false,
     "start_time": "2022-03-25T23:13:58.890516",
     "status": "completed"
    },
    "tags": []
   },
   "outputs": [
    {
     "name": "stdout",
     "output_type": "stream",
     "text": [
      "epoch: 1, [batch: 1 / 525], examples_per_second: 734.5612, train_label_loss: 2.7689, \n"
     ]
    },
    {
     "name": "stdout",
     "output_type": "stream",
     "text": [
      "epoch: 1, [batch: 53 / 525], examples_per_second: 10475.0190, train_label_loss: 2.6766, \n"
     ]
    },
    {
     "name": "stdout",
     "output_type": "stream",
     "text": [
      "epoch: 1, [batch: 105 / 525], examples_per_second: 10773.8380, train_label_loss: 2.4539, \n"
     ]
    },
    {
     "name": "stdout",
     "output_type": "stream",
     "text": [
      "epoch: 1, [batch: 158 / 525], examples_per_second: 10636.2455, train_label_loss: 2.4964, \n"
     ]
    },
    {
     "name": "stdout",
     "output_type": "stream",
     "text": [
      "epoch: 1, [batch: 210 / 525], examples_per_second: 10583.7503, train_label_loss: 2.4251, \n"
     ]
    },
    {
     "name": "stdout",
     "output_type": "stream",
     "text": [
      "epoch: 1, [batch: 263 / 525], examples_per_second: 10657.0919, train_label_loss: 2.3003, \n"
     ]
    },
    {
     "name": "stdout",
     "output_type": "stream",
     "text": [
      "epoch: 1, [batch: 315 / 525], examples_per_second: 10764.7732, train_label_loss: 2.3054, \n"
     ]
    },
    {
     "name": "stdout",
     "output_type": "stream",
     "text": [
      "epoch: 1, [batch: 367 / 525], examples_per_second: 10730.9632, train_label_loss: 2.2700, \n"
     ]
    },
    {
     "name": "stdout",
     "output_type": "stream",
     "text": [
      "epoch: 1, [batch: 420 / 525], examples_per_second: 10629.5305, train_label_loss: 2.1951, \n"
     ]
    },
    {
     "name": "stdout",
     "output_type": "stream",
     "text": [
      "epoch: 1, [batch: 472 / 525], examples_per_second: 10728.5672, train_label_loss: 2.2983, \n"
     ]
    },
    {
     "name": "stdout",
     "output_type": "stream",
     "text": [
      "=============================================================\n",
      "epoch: 1, source_val_acc_label: 0.2547, source_val_label_loss: 2.0963, target_val_acc_label: 0.0807, target_val_label_loss: 3.8835, \n",
      "=============================================================\n"
     ]
    },
    {
     "name": "stdout",
     "output_type": "stream",
     "text": [
      "New best\n",
      "epoch: 2, [batch: 1 / 525], examples_per_second: 101.4942, train_label_loss: 2.1689, \n"
     ]
    },
    {
     "name": "stdout",
     "output_type": "stream",
     "text": [
      "epoch: 2, [batch: 53 / 525], examples_per_second: 10493.5048, train_label_loss: 1.9889, \n"
     ]
    },
    {
     "name": "stdout",
     "output_type": "stream",
     "text": [
      "epoch: 2, [batch: 105 / 525], examples_per_second: 10749.4825, train_label_loss: 2.0519, \n"
     ]
    },
    {
     "name": "stdout",
     "output_type": "stream",
     "text": [
      "epoch: 2, [batch: 158 / 525], examples_per_second: 10515.9911, train_label_loss: 1.9173, \n"
     ]
    },
    {
     "name": "stdout",
     "output_type": "stream",
     "text": [
      "epoch: 2, [batch: 210 / 525], examples_per_second: 10725.1956, train_label_loss: 1.9297, \n"
     ]
    },
    {
     "name": "stdout",
     "output_type": "stream",
     "text": [
      "epoch: 2, [batch: 263 / 525], examples_per_second: 10310.2883, train_label_loss: 1.8529, \n"
     ]
    },
    {
     "name": "stdout",
     "output_type": "stream",
     "text": [
      "epoch: 2, [batch: 315 / 525], examples_per_second: 10792.2303, train_label_loss: 1.8594, \n"
     ]
    },
    {
     "name": "stdout",
     "output_type": "stream",
     "text": [
      "epoch: 2, [batch: 367 / 525], examples_per_second: 10564.1859, train_label_loss: 1.7123, \n"
     ]
    },
    {
     "name": "stdout",
     "output_type": "stream",
     "text": [
      "epoch: 2, [batch: 420 / 525], examples_per_second: 10708.1224, train_label_loss: 1.6028, \n"
     ]
    },
    {
     "name": "stdout",
     "output_type": "stream",
     "text": [
      "epoch: 2, [batch: 472 / 525], examples_per_second: 10536.5431, train_label_loss: 1.7797, \n"
     ]
    },
    {
     "name": "stdout",
     "output_type": "stream",
     "text": [
      "=============================================================\n",
      "epoch: 2, source_val_acc_label: 0.4094, source_val_label_loss: 1.7213, target_val_acc_label: 0.0815, target_val_label_loss: 4.6912, \n",
      "=============================================================\n"
     ]
    },
    {
     "name": "stdout",
     "output_type": "stream",
     "text": [
      "New best\n",
      "epoch: 3, [batch: 1 / 525], examples_per_second: 118.8123, train_label_loss: 1.6723, \n"
     ]
    },
    {
     "name": "stdout",
     "output_type": "stream",
     "text": [
      "epoch: 3, [batch: 53 / 525], examples_per_second: 10470.1790, train_label_loss: 1.6729, \n"
     ]
    },
    {
     "name": "stdout",
     "output_type": "stream",
     "text": [
      "epoch: 3, [batch: 105 / 525], examples_per_second: 10717.0805, train_label_loss: 1.6510, \n"
     ]
    },
    {
     "name": "stdout",
     "output_type": "stream",
     "text": [
      "epoch: 3, [batch: 158 / 525], examples_per_second: 10631.3336, train_label_loss: 1.4959, \n"
     ]
    },
    {
     "name": "stdout",
     "output_type": "stream",
     "text": [
      "epoch: 3, [batch: 210 / 525], examples_per_second: 10926.5954, train_label_loss: 1.4808, \n"
     ]
    },
    {
     "name": "stdout",
     "output_type": "stream",
     "text": [
      "epoch: 3, [batch: 263 / 525], examples_per_second: 10642.2723, train_label_loss: 1.4680, \n"
     ]
    },
    {
     "name": "stdout",
     "output_type": "stream",
     "text": [
      "epoch: 3, [batch: 315 / 525], examples_per_second: 10776.3124, train_label_loss: 1.4488, \n"
     ]
    },
    {
     "name": "stdout",
     "output_type": "stream",
     "text": [
      "epoch: 3, [batch: 367 / 525], examples_per_second: 10596.0265, train_label_loss: 1.5314, \n"
     ]
    },
    {
     "name": "stdout",
     "output_type": "stream",
     "text": [
      "epoch: 3, [batch: 420 / 525], examples_per_second: 10753.7477, train_label_loss: 1.5829, \n"
     ]
    },
    {
     "name": "stdout",
     "output_type": "stream",
     "text": [
      "epoch: 3, [batch: 472 / 525], examples_per_second: 10775.2560, train_label_loss: 1.4491, \n"
     ]
    },
    {
     "name": "stdout",
     "output_type": "stream",
     "text": [
      "=============================================================\n",
      "epoch: 3, source_val_acc_label: 0.4956, source_val_label_loss: 1.4091, target_val_acc_label: 0.0822, target_val_label_loss: 6.0725, \n",
      "=============================================================\n"
     ]
    },
    {
     "name": "stdout",
     "output_type": "stream",
     "text": [
      "New best\n",
      "epoch: 4, [batch: 1 / 525], examples_per_second: 119.0596, train_label_loss: 1.3630, \n"
     ]
    },
    {
     "name": "stdout",
     "output_type": "stream",
     "text": [
      "epoch: 4, [batch: 53 / 525], examples_per_second: 10397.9879, train_label_loss: 1.1501, \n"
     ]
    },
    {
     "name": "stdout",
     "output_type": "stream",
     "text": [
      "epoch: 4, [batch: 105 / 525], examples_per_second: 10697.1312, train_label_loss: 1.2369, \n"
     ]
    },
    {
     "name": "stdout",
     "output_type": "stream",
     "text": [
      "epoch: 4, [batch: 158 / 525], examples_per_second: 10547.3314, train_label_loss: 1.1956, \n"
     ]
    },
    {
     "name": "stdout",
     "output_type": "stream",
     "text": [
      "epoch: 4, [batch: 210 / 525], examples_per_second: 10592.8583, train_label_loss: 1.2486, \n"
     ]
    },
    {
     "name": "stdout",
     "output_type": "stream",
     "text": [
      "epoch: 4, [batch: 263 / 525], examples_per_second: 10654.3425, train_label_loss: 1.1189, \n"
     ]
    },
    {
     "name": "stdout",
     "output_type": "stream",
     "text": [
      "epoch: 4, [batch: 315 / 525], examples_per_second: 10524.3924, train_label_loss: 1.1992, \n"
     ]
    },
    {
     "name": "stdout",
     "output_type": "stream",
     "text": [
      "epoch: 4, [batch: 367 / 525], examples_per_second: 10747.2230, train_label_loss: 1.1061, \n"
     ]
    },
    {
     "name": "stdout",
     "output_type": "stream",
     "text": [
      "epoch: 4, [batch: 420 / 525], examples_per_second: 10678.2086, train_label_loss: 1.1580, \n"
     ]
    },
    {
     "name": "stdout",
     "output_type": "stream",
     "text": [
      "epoch: 4, [batch: 472 / 525], examples_per_second: 10695.6189, train_label_loss: 1.0770, \n"
     ]
    },
    {
     "name": "stdout",
     "output_type": "stream",
     "text": [
      "=============================================================\n",
      "epoch: 4, source_val_acc_label: 0.5540, source_val_label_loss: 1.2587, target_val_acc_label: 0.0749, target_val_label_loss: 7.3293, \n",
      "=============================================================\n"
     ]
    },
    {
     "name": "stdout",
     "output_type": "stream",
     "text": [
      "epoch: 5, [batch: 1 / 525], examples_per_second: 121.1268, train_label_loss: 1.3096, \n"
     ]
    },
    {
     "name": "stdout",
     "output_type": "stream",
     "text": [
      "epoch: 5, [batch: 53 / 525], examples_per_second: 10110.3656, train_label_loss: 0.8877, \n"
     ]
    },
    {
     "name": "stdout",
     "output_type": "stream",
     "text": [
      "epoch: 5, [batch: 105 / 525], examples_per_second: 10696.6107, train_label_loss: 1.0211, \n"
     ]
    },
    {
     "name": "stdout",
     "output_type": "stream",
     "text": [
      "epoch: 5, [batch: 158 / 525], examples_per_second: 10695.3110, train_label_loss: 1.1293, \n"
     ]
    },
    {
     "name": "stdout",
     "output_type": "stream",
     "text": [
      "epoch: 5, [batch: 210 / 525], examples_per_second: 10610.8431, train_label_loss: 0.9251, \n"
     ]
    },
    {
     "name": "stdout",
     "output_type": "stream",
     "text": [
      "epoch: 5, [batch: 263 / 525], examples_per_second: 10715.6110, train_label_loss: 0.9521, \n"
     ]
    },
    {
     "name": "stdout",
     "output_type": "stream",
     "text": [
      "epoch: 5, [batch: 315 / 525], examples_per_second: 10685.1269, train_label_loss: 1.0662, \n"
     ]
    },
    {
     "name": "stdout",
     "output_type": "stream",
     "text": [
      "epoch: 5, [batch: 367 / 525], examples_per_second: 10733.8348, train_label_loss: 0.9829, \n"
     ]
    },
    {
     "name": "stdout",
     "output_type": "stream",
     "text": [
      "epoch: 5, [batch: 420 / 525], examples_per_second: 10640.8833, train_label_loss: 0.9513, \n"
     ]
    },
    {
     "name": "stdout",
     "output_type": "stream",
     "text": [
      "epoch: 5, [batch: 472 / 525], examples_per_second: 10650.6523, train_label_loss: 0.9358, \n"
     ]
    },
    {
     "name": "stdout",
     "output_type": "stream",
     "text": [
      "=============================================================\n",
      "epoch: 5, source_val_acc_label: 0.5852, source_val_label_loss: 1.1544, target_val_acc_label: 0.0767, target_val_label_loss: 7.2826, \n",
      "=============================================================\n"
     ]
    },
    {
     "name": "stdout",
     "output_type": "stream",
     "text": [
      "epoch: 6, [batch: 1 / 525], examples_per_second: 124.6378, train_label_loss: 0.8310, \n"
     ]
    },
    {
     "name": "stdout",
     "output_type": "stream",
     "text": [
      "epoch: 6, [batch: 53 / 525], examples_per_second: 10444.9672, train_label_loss: 0.7389, \n"
     ]
    },
    {
     "name": "stdout",
     "output_type": "stream",
     "text": [
      "epoch: 6, [batch: 105 / 525], examples_per_second: 10664.3184, train_label_loss: 0.7634, \n"
     ]
    },
    {
     "name": "stdout",
     "output_type": "stream",
     "text": [
      "epoch: 6, [batch: 158 / 525], examples_per_second: 10593.1357, train_label_loss: 0.7361, \n"
     ]
    },
    {
     "name": "stdout",
     "output_type": "stream",
     "text": [
      "epoch: 6, [batch: 210 / 525], examples_per_second: 10725.6530, train_label_loss: 0.6985, \n"
     ]
    },
    {
     "name": "stdout",
     "output_type": "stream",
     "text": [
      "epoch: 6, [batch: 263 / 525], examples_per_second: 10730.3565, train_label_loss: 0.8179, \n"
     ]
    },
    {
     "name": "stdout",
     "output_type": "stream",
     "text": [
      "epoch: 6, [batch: 315 / 525], examples_per_second: 10735.4239, train_label_loss: 0.8178, \n"
     ]
    },
    {
     "name": "stdout",
     "output_type": "stream",
     "text": [
      "epoch: 6, [batch: 367 / 525], examples_per_second: 10602.1189, train_label_loss: 0.7718, \n"
     ]
    },
    {
     "name": "stdout",
     "output_type": "stream",
     "text": [
      "epoch: 6, [batch: 420 / 525], examples_per_second: 10766.2107, train_label_loss: 0.6854, \n"
     ]
    },
    {
     "name": "stdout",
     "output_type": "stream",
     "text": [
      "epoch: 6, [batch: 472 / 525], examples_per_second: 10677.0967, train_label_loss: 0.9776, \n"
     ]
    },
    {
     "name": "stdout",
     "output_type": "stream",
     "text": [
      "=============================================================\n",
      "epoch: 6, source_val_acc_label: 0.6585, source_val_label_loss: 0.9709, target_val_acc_label: 0.0695, target_val_label_loss: 8.9394, \n",
      "=============================================================\n"
     ]
    },
    {
     "name": "stdout",
     "output_type": "stream",
     "text": [
      "epoch: 7, [batch: 1 / 525], examples_per_second: 122.1814, train_label_loss: 0.5797, \n"
     ]
    },
    {
     "name": "stdout",
     "output_type": "stream",
     "text": [
      "epoch: 7, [batch: 53 / 525], examples_per_second: 10628.6058, train_label_loss: 0.5680, \n"
     ]
    },
    {
     "name": "stdout",
     "output_type": "stream",
     "text": [
      "epoch: 7, [batch: 105 / 525], examples_per_second: 10733.0755, train_label_loss: 0.6305, \n"
     ]
    },
    {
     "name": "stdout",
     "output_type": "stream",
     "text": [
      "epoch: 7, [batch: 158 / 525], examples_per_second: 10623.5459, train_label_loss: 0.5819, \n"
     ]
    },
    {
     "name": "stdout",
     "output_type": "stream",
     "text": [
      "epoch: 7, [batch: 210 / 525], examples_per_second: 10731.4210, train_label_loss: 0.6413, \n"
     ]
    },
    {
     "name": "stdout",
     "output_type": "stream",
     "text": [
      "epoch: 7, [batch: 263 / 525], examples_per_second: 10737.4912, train_label_loss: 0.5331, \n"
     ]
    },
    {
     "name": "stdout",
     "output_type": "stream",
     "text": [
      "epoch: 7, [batch: 315 / 525], examples_per_second: 10745.4360, train_label_loss: 0.6016, \n"
     ]
    },
    {
     "name": "stdout",
     "output_type": "stream",
     "text": [
      "epoch: 7, [batch: 367 / 525], examples_per_second: 10790.8662, train_label_loss: 0.5779, \n"
     ]
    },
    {
     "name": "stdout",
     "output_type": "stream",
     "text": [
      "epoch: 7, [batch: 420 / 525], examples_per_second: 10588.8507, train_label_loss: 0.4829, \n"
     ]
    },
    {
     "name": "stdout",
     "output_type": "stream",
     "text": [
      "epoch: 7, [batch: 472 / 525], examples_per_second: 10692.4278, train_label_loss: 0.4842, \n"
     ]
    },
    {
     "name": "stdout",
     "output_type": "stream",
     "text": [
      "=============================================================\n",
      "epoch: 7, source_val_acc_label: 0.6340, source_val_label_loss: 0.9943, target_val_acc_label: 0.0737, target_val_label_loss: 9.7201, \n",
      "=============================================================\n"
     ]
    },
    {
     "name": "stdout",
     "output_type": "stream",
     "text": [
      "Patience (3) exhausted\n"
     ]
    }
   ],
   "source": [
    "jig = Vanilla_Train_Eval_Test_Jig(\n",
    "    model=model,\n",
    "    path_to_best_model=p.BEST_MODEL_PATH,\n",
    "    device=p.device,\n",
    "    label_loss_object=torch.nn.NLLLoss(),\n",
    ")\n",
    "\n",
    "jig.train(\n",
    "    train_iterable=datasets.source.processed.train,\n",
    "    source_val_iterable=datasets.source.processed.val,\n",
    "    target_val_iterable=datasets.target.processed.val,\n",
    "    patience=p.patience,\n",
    "    num_epochs=p.n_epoch,\n",
    "    num_logs_per_epoch=p.NUM_LOGS_PER_EPOCH,\n",
    "    criteria_for_best=p.criteria_for_best\n",
    ")"
   ]
  },
  {
   "cell_type": "code",
   "execution_count": 14,
   "id": "4bc2ac17",
   "metadata": {
    "execution": {
     "iopub.execute_input": "2022-03-25T23:14:54.162587Z",
     "iopub.status.busy": "2022-03-25T23:14:54.162028Z",
     "iopub.status.idle": "2022-03-25T23:14:54.164431Z",
     "shell.execute_reply": "2022-03-25T23:14:54.164894Z"
    },
    "papermill": {
     "duration": 0.043452,
     "end_time": "2022-03-25T23:14:54.165018",
     "exception": false,
     "start_time": "2022-03-25T23:14:54.121566",
     "status": "completed"
    },
    "tags": []
   },
   "outputs": [],
   "source": [
    "total_experiment_time_secs = time.time() - start_time_secs"
   ]
  },
  {
   "cell_type": "code",
   "execution_count": 15,
   "id": "cae88f23",
   "metadata": {
    "execution": {
     "iopub.execute_input": "2022-03-25T23:14:54.251325Z",
     "iopub.status.busy": "2022-03-25T23:14:54.250047Z",
     "iopub.status.idle": "2022-03-25T23:15:06.039806Z",
     "shell.execute_reply": "2022-03-25T23:15:06.040487Z"
    },
    "papermill": {
     "duration": 11.836205,
     "end_time": "2022-03-25T23:15:06.040718",
     "exception": false,
     "start_time": "2022-03-25T23:14:54.204513",
     "status": "completed"
    },
    "tags": []
   },
   "outputs": [],
   "source": [
    "source_test_label_accuracy, source_test_label_loss = jig.test(datasets.source.processed.test)\n",
    "target_test_label_accuracy, target_test_label_loss = jig.test(datasets.target.processed.test)\n",
    "\n",
    "source_val_label_accuracy, source_val_label_loss = jig.test(datasets.source.processed.val)\n",
    "target_val_label_accuracy, target_val_label_loss = jig.test(datasets.target.processed.val)\n",
    "\n",
    "history = jig.get_history()\n",
    "\n",
    "total_epochs_trained = len(history[\"epoch_indices\"])\n",
    "\n",
    "val_dl = wrap_in_dataloader(p, Sequence_Aggregator((datasets.source.original.val, datasets.target.original.val)))\n",
    "\n",
    "confusion = confusion_by_domain_over_dataloader(model, p.device, val_dl, forward_uses_domain=False)\n",
    "per_domain_accuracy = per_domain_accuracy_from_confusion(confusion)\n",
    "\n",
    "# Add a key to per_domain_accuracy for if it was a source domain\n",
    "for domain, accuracy in per_domain_accuracy.items():\n",
    "    per_domain_accuracy[domain] = {\n",
    "        \"accuracy\": accuracy,\n",
    "        \"source?\": domain in p.domains_source\n",
    "    }\n",
    "\n",
    "# Do an independent accuracy assesment JUST TO BE SURE!\n",
    "# _source_test_label_accuracy = independent_accuracy_assesment(model, datasets.source.processed.test, p.device)\n",
    "# _target_test_label_accuracy = independent_accuracy_assesment(model, datasets.target.processed.test, p.device)\n",
    "# _source_val_label_accuracy = independent_accuracy_assesment(model, datasets.source.processed.val, p.device)\n",
    "# _target_val_label_accuracy = independent_accuracy_assesment(model, datasets.target.processed.val, p.device)\n",
    "\n",
    "# assert(_source_test_label_accuracy == source_test_label_accuracy)\n",
    "# assert(_target_test_label_accuracy == target_test_label_accuracy)\n",
    "# assert(_source_val_label_accuracy == source_val_label_accuracy)\n",
    "# assert(_target_val_label_accuracy == target_val_label_accuracy)\n",
    "\n",
    "###################################\n",
    "# Write out the results\n",
    "###################################\n",
    "\n",
    "experiment = {\n",
    "    \"experiment_name\": p.experiment_name,\n",
    "    \"parameters\": p,\n",
    "    \"results\": {\n",
    "        \"source_test_label_accuracy\": source_test_label_accuracy,\n",
    "        \"source_test_label_loss\": source_test_label_loss,\n",
    "        \"target_test_label_accuracy\": target_test_label_accuracy,\n",
    "        \"target_test_label_loss\": target_test_label_loss,\n",
    "        \"source_val_label_accuracy\": source_val_label_accuracy,\n",
    "        \"source_val_label_loss\": source_val_label_loss,\n",
    "        \"target_val_label_accuracy\": target_val_label_accuracy,\n",
    "        \"target_val_label_loss\": target_val_label_loss,\n",
    "        \"total_epochs_trained\": total_epochs_trained,\n",
    "        \"total_experiment_time_secs\": total_experiment_time_secs,\n",
    "        \"confusion\": confusion,\n",
    "        \"per_domain_accuracy\": per_domain_accuracy,\n",
    "    },\n",
    "    \"history\": history,\n",
    "    \"dataset_metrics\": get_dataset_metrics(datasets, \"cnn\"),\n",
    "}"
   ]
  },
  {
   "cell_type": "code",
   "execution_count": 16,
   "id": "74c318cf",
   "metadata": {
    "execution": {
     "iopub.execute_input": "2022-03-25T23:15:06.149086Z",
     "iopub.status.busy": "2022-03-25T23:15:06.139841Z",
     "iopub.status.idle": "2022-03-25T23:15:06.329444Z",
     "shell.execute_reply": "2022-03-25T23:15:06.328732Z"
    },
    "papermill": {
     "duration": 0.247553,
     "end_time": "2022-03-25T23:15:06.329604",
     "exception": false,
     "start_time": "2022-03-25T23:15:06.082051",
     "status": "completed"
    },
    "tags": []
   },
   "outputs": [
    {
     "data": {
      "text/plain": [
       "<AxesSubplot:title={'center':'Source Train Label Loss vs Source Val Label Loss'}, xlabel='Epoch'>"
      ]
     },
     "execution_count": 16,
     "metadata": {},
     "output_type": "execute_result"
    },
    {
     "data": {
      "image/png": "[encoded data removed]",
      "text/plain": [
       "<Figure size 1080x504 with 1 Axes>"
      ]
     },
     "metadata": {
      "needs_background": "light"
     },
     "output_type": "display_data"
    }
   ],
   "source": [
    "get_loss_curve(experiment)"
   ]
  },
  {
   "cell_type": "code",
   "execution_count": 17,
   "id": "59376601",
   "metadata": {
    "execution": {
     "iopub.execute_input": "2022-03-25T23:15:06.435028Z",
     "iopub.status.busy": "2022-03-25T23:15:06.421239Z",
     "iopub.status.idle": "2022-03-25T23:15:06.777176Z",
     "shell.execute_reply": "2022-03-25T23:15:06.777889Z"
    },
    "papermill": {
     "duration": 0.405408,
     "end_time": "2022-03-25T23:15:06.778075",
     "exception": false,
     "start_time": "2022-03-25T23:15:06.372667",
     "status": "completed"
    },
    "tags": []
   },
   "outputs": [
    {
     "data": {
      "text/plain": [
       "<AxesSubplot:title={'center':'Results'}>"
      ]
     },
     "execution_count": 17,
     "metadata": {},
     "output_type": "execute_result"
    },
    {
     "data": {
      "image/png": "[encoded data removed]",
      "text/plain": [
       "<Figure size 1080x504 with 1 Axes>"
      ]
     },
     "metadata": {
      "needs_background": "light"
     },
     "output_type": "display_data"
    }
   ],
   "source": [
    "get_results_table(experiment)"
   ]
  },
  {
   "cell_type": "code",
   "execution_count": 18,
   "id": "e80c5c98",
   "metadata": {
    "execution": {
     "iopub.execute_input": "2022-03-25T23:15:06.870891Z",
     "iopub.status.busy": "2022-03-25T23:15:06.867162Z",
     "iopub.status.idle": "2022-03-25T23:15:07.056850Z",
     "shell.execute_reply": "2022-03-25T23:15:07.056137Z"
    },
    "papermill": {
     "duration": 0.233873,
     "end_time": "2022-03-25T23:15:07.057006",
     "exception": false,
     "start_time": "2022-03-25T23:15:06.823133",
     "status": "completed"
    },
    "tags": []
   },
   "outputs": [
    {
     "data": {
      "text/plain": [
       "<AxesSubplot:title={'center':'Per Domain Accuracy'}, xlabel='domain'>"
      ]
     },
     "execution_count": 18,
     "metadata": {},
     "output_type": "execute_result"
    },
    {
     "data": {
      "image/png": "[encoded data removed]",
      "text/plain": [
       "<Figure size 1080x504 with 1 Axes>"
      ]
     },
     "metadata": {
      "needs_background": "light"
     },
     "output_type": "display_data"
    }
   ],
   "source": [
    "get_domain_accuracies(experiment)"
   ]
  },
  {
   "cell_type": "code",
   "execution_count": 19,
   "id": "086fdd10",
   "metadata": {
    "execution": {
     "iopub.execute_input": "2022-03-25T23:15:07.145405Z",
     "iopub.status.busy": "2022-03-25T23:15:07.145030Z",
     "iopub.status.idle": "2022-03-25T23:15:07.148186Z",
     "shell.execute_reply": "2022-03-25T23:15:07.147863Z"
    },
    "papermill": {
     "duration": 0.046883,
     "end_time": "2022-03-25T23:15:07.148256",
     "exception": false,
     "start_time": "2022-03-25T23:15:07.101373",
     "status": "completed"
    },
    "tags": []
   },
   "outputs": [
    {
     "name": "stdout",
     "output_type": "stream",
     "text": [
      "Source Test Label Accuracy: 0.48659722222222224 Target Test Label Accuracy: 0.08275\n",
      "Source Val Label Accuracy: 0.4955555555555556 Target Val Label Accuracy: 0.08216666666666667\n"
     ]
    }
   ],
   "source": [
    "print(\"Source Test Label Accuracy:\", experiment[\"results\"][\"source_test_label_accuracy\"], \"Target Test Label Accuracy:\", experiment[\"results\"][\"target_test_label_accuracy\"])\n",
    "print(\"Source Val Label Accuracy:\", experiment[\"results\"][\"source_val_label_accuracy\"], \"Target Val Label Accuracy:\", experiment[\"results\"][\"target_val_label_accuracy\"])"
   ]
  },
  {
   "cell_type": "code",
   "execution_count": 20,
   "id": "9f450536",
   "metadata": {
    "execution": {
     "iopub.execute_input": "2022-03-25T23:15:07.237194Z",
     "iopub.status.busy": "2022-03-25T23:15:07.236634Z",
     "iopub.status.idle": "2022-03-25T23:15:07.240544Z",
     "shell.execute_reply": "2022-03-25T23:15:07.240050Z"
    },
    "papermill": {
     "duration": 0.049192,
     "end_time": "2022-03-25T23:15:07.240674",
     "exception": false,
     "start_time": "2022-03-25T23:15:07.191482",
     "status": "completed"
    },
    "tags": [
     "experiment_json"
    ]
   },
   "outputs": [
    {
     "data": {
      "text/plain": [
       "'{\"experiment_name\": \"cnn_1:oracle.run1_limited\", \"parameters\": {\"experiment_name\": \"cnn_1:oracle.run1_limited\", \"labels\": [\"3123D52\", \"3123D65\", \"3123D79\", \"3123D80\", \"3123D54\", \"3123D70\", \"3123D7B\", \"3123D89\", \"3123D58\", \"3123D76\", \"3123D7D\", \"3123EFE\", \"3123D64\", \"3123D78\", \"3123D7E\", \"3124E4A\"], \"domains_source\": [8, 32, 50], \"domains_target\": [14, 20, 26, 38, 44], \"pickle_name_source\": \"oracle.Run1_10kExamples_stratified_ds.2022A.pkl\", \"pickle_name_target\": \"oracle.Run1_10kExamples_stratified_ds.2022A.pkl\", \"device\": \"cuda\", \"lr\": 0.0001, \"batch_size\": 128, \"normalize_source\": false, \"normalize_target\": false, \"num_examples_per_domain_per_label_source\": 2000, \"num_examples_per_domain_per_label_target\": 2000, \"torch_default_dtype\": \"torch.float32\", \"n_epoch\": 50, \"patience\": 3, \"criteria_for_best\": \"target_accuracy\", \"x_net\": [{\"class\": \"nnReshape\", \"kargs\": {\"shape\": [-1, 1, 2, 256]}}, {\"class\": \"Conv2d\", \"kargs\": {\"in_channels\": 1, \"out_channels\": 256, \"kernel_size\": [1, 7], \"bias\": false, \"padding\": [0, 3]}}, {\"class\": \"ReLU\", \"kargs\": {\"inplace\": true}}, {\"class\": \"BatchNorm2d\", \"kargs\": {\"num_features\": 256}}, {\"class\": \"Conv2d\", \"kargs\": {\"in_channels\": 256, \"out_channels\": 80, \"kernel_size\": [2, 7], \"bias\": true, \"padding\": [0, 3]}}, {\"class\": \"ReLU\", \"kargs\": {\"inplace\": true}}, {\"class\": \"BatchNorm2d\", \"kargs\": {\"num_features\": 80}}, {\"class\": \"Flatten\", \"kargs\": {}}, {\"class\": \"Linear\", \"kargs\": {\"in_features\": 20480, \"out_features\": 256}}, {\"class\": \"ReLU\", \"kargs\": {\"inplace\": true}}, {\"class\": \"BatchNorm1d\", \"kargs\": {\"num_features\": 256}}, {\"class\": \"Linear\", \"kargs\": {\"in_features\": 256, \"out_features\": 16}}], \"NUM_LOGS_PER_EPOCH\": 10, \"BEST_MODEL_PATH\": \"./best_model.pth\", \"dataset_seed\": 7, \"seed\": 7}, \"results\": {\"source_test_label_accuracy\": 0.48659722222222224, \"source_test_label_loss\": 1.4177863650617346, \"target_test_label_accuracy\": 0.08275, \"target_test_label_loss\": 6.0657225568243796, \"source_val_label_accuracy\": 0.4955555555555556, \"source_val_label_loss\": 1.4092021600335045, \"target_val_label_accuracy\": 0.08216666666666667, \"target_val_label_loss\": 6.07236371141799, \"total_epochs_trained\": 7, \"total_experiment_time_secs\": 69.69830894470215, \"confusion\": {\"8\": {\"4\": {\"4\": 106, \"14\": 43, \"8\": 53, \"7\": 22, \"11\": 21, \"13\": 8, \"6\": 31, \"1\": 5, \"10\": 11}, \"7\": {\"8\": 20, \"7\": 105, \"13\": 138, \"6\": 21, \"10\": 6, \"14\": 1, \"11\": 4, \"1\": 4, \"5\": 1}, \"5\": {\"5\": 132, \"10\": 49, \"1\": 30, \"13\": 68, \"11\": 10, \"6\": 2, \"15\": 1, \"7\": 2, \"4\": 4, \"14\": 2}, \"14\": {\"14\": 153, \"11\": 13, \"8\": 39, \"4\": 80, \"0\": 6, \"6\": 6, \"13\": 1, \"7\": 1, \"1\": 1}, \"15\": {\"15\": 153, \"12\": 88, \"2\": 58, \"3\": 1}, \"10\": {\"13\": 169, \"1\": 15, \"5\": 30, \"10\": 49, \"8\": 2, \"7\": 16, \"6\": 15, \"14\": 1, \"11\": 2, \"4\": 1}, \"6\": {\"7\": 79, \"11\": 12, \"13\": 97, \"6\": 42, \"10\": 9, \"8\": 38, \"1\": 14, \"4\": 5, \"14\": 2, \"5\": 2}, \"2\": {\"12\": 18, \"2\": 202, \"3\": 57, \"15\": 22, \"9\": 1}, \"11\": {\"8\": 97, \"11\": 99, \"1\": 41, \"14\": 17, \"4\": 8, \"13\": 16, \"6\": 4, \"7\": 12, \"10\": 6}, \"1\": {\"8\": 33, \"1\": 95, \"13\": 35, \"11\": 75, \"6\": 16, \"10\": 18, \"4\": 7, \"7\": 10, \"5\": 11}, \"12\": {\"15\": 126, \"12\": 116, \"2\": 54, \"3\": 4}, \"8\": {\"8\": 245, \"14\": 11, \"11\": 26, \"4\": 7, \"6\": 6, \"1\": 2, \"13\": 1, \"7\": 2}, \"13\": {\"13\": 227, \"7\": 21, \"10\": 21, \"5\": 14, \"1\": 5, \"6\": 7, \"12\": 2, \"11\": 1, \"2\": 1, \"8\": 1}, \"3\": {\"3\": 267, \"2\": 22, \"12\": 6, \"15\": 5}, \"9\": {\"9\": 300}, \"0\": {\"0\": 300}}, \"50\": {\"0\": {\"0\": 227, \"10\": 43, \"2\": 28, \"1\": 2}, \"11\": {\"12\": 148, \"15\": 34, \"5\": 62, \"9\": 56}, \"10\": {\"1\": 186, \"8\": 20, \"10\": 47, \"0\": 47}, \"7\": {\"7\": 237, \"4\": 62, \"5\": 1}, \"8\": {\"1\": 268, \"8\": 31, \"12\": 1}, \"2\": {\"2\": 195, \"0\": 96, \"10\": 8, \"9\": 1}, \"15\": {\"7\": 40, \"5\": 139, \"15\": 60, \"9\": 42, \"12\": 17, \"4\": 1, \"6\": 1}, \"13\": {\"13\": 150, \"1\": 119, \"5\": 3, \"8\": 24, \"3\": 3, \"12\": 1}, \"12\": {\"12\": 298, \"9\": 2}, \"9\": {\"9\": 119, \"12\": 178, \"15\": 1, \"7\": 1, \"5\": 1}, \"3\": {\"3\": 295, \"6\": 5}, \"14\": {\"2\": 237, \"14\": 51, \"0\": 11, \"12\": 1}, \"5\": {\"7\": 164, \"5\": 74, \"4\": 32, \"12\": 5, \"6\": 8, \"8\": 2, \"3\": 8, \"15\": 3, \"13\": 3, \"1\": 1}, \"1\": {\"1\": 100, \"8\": 127, \"13\": 60, \"0\": 8, \"15\": 2, \"5\": 1, \"10\": 2}, \"4\": {\"7\": 231, \"4\": 61, \"6\": 1, \"5\": 6, \"9\": 1}, \"6\": {\"5\": 161, \"15\": 15, \"7\": 59, \"6\": 16, \"12\": 37, \"9\": 12}}, \"38\": {\"14\": {\"4\": 191, \"7\": 77, \"3\": 14, \"5\": 17, \"6\": 1}, \"15\": {\"0\": 18, \"8\": 116, \"1\": 83, \"5\": 16, \"12\": 36, \"13\": 28, \"15\": 2, \"3\": 1}, \"7\": {\"4\": 112, \"7\": 170, \"15\": 16, \"5\": 2}, \"2\": {\"7\": 272, \"6\": 5, \"3\": 6, \"4\": 15, \"5\": 2}, \"9\": {\"12\": 226, \"9\": 54, \"7\": 19, \"5\": 1}, \"13\": {\"7\": 289, \"4\": 11}, \"8\": {\"5\": 88, \"7\": 90, \"4\": 8, \"15\": 63, \"13\": 6, \"0\": 5, \"9\": 14, \"12\": 20, \"8\": 5, \"6\": 1}, \"12\": {\"15\": 298, \"3\": 2}, \"5\": {\"5\": 76, \"9\": 48, \"15\": 27, \"12\": 74, \"0\": 5, \"7\": 48, \"13\": 6, \"1\": 1, \"8\": 15}, \"0\": {\"4\": 94, \"7\": 206}, \"11\": {\"4\": 296, \"7\": 4}, \"6\": {\"0\": 65, \"2\": 221, \"14\": 4, \"8\": 8, \"13\": 2}, \"10\": {\"4\": 178, \"7\": 122}, \"3\": {\"7\": 254, \"4\": 46}, \"4\": {\"4\": 299, \"15\": 1}, \"1\": {\"2\": 114, \"0\": 155, \"1\": 16, \"8\": 14, \"10\": 1}}, \"32\": {\"14\": {\"14\": 192, \"12\": 34, \"7\": 42, \"5\": 11, \"2\": 1, \"8\": 3, \"0\": 17}, \"3\": {\"14\": 17, \"11\": 44, \"3\": 136, \"13\": 91, \"2\": 5, \"8\": 1, \"4\": 6}, \"9\": {\"2\": 212, \"0\": 47, \"12\": 8, \"14\": 24, \"9\": 6, \"10\": 3}, \"1\": {\"1\": 300}, \"13\": {\"3\": 42, \"11\": 60, \"13\": 114, \"14\": 50, \"2\": 32, \"4\": 2}, \"10\": {\"10\": 300}, \"5\": {\"7\": 35, \"12\": 94, \"5\": 125, \"14\": 13, \"0\": 11, \"8\": 4, \"15\": 6, \"9\": 12}, \"15\": {\"15\": 299, \"5\": 1}, \"6\": {\"9\": 26, \"6\": 272, \"10\": 2}, \"8\": {\"0\": 63, \"5\": 81, \"8\": 110, \"14\": 19, \"13\": 5, \"15\": 15, \"12\": 3, \"7\": 3, \"9\": 1}, \"12\": {\"2\": 16, \"10\": 91, \"12\": 158, \"0\": 1, \"6\": 8, \"9\": 26}, \"0\": {\"12\": 63, \"8\": 27, \"0\": 116, \"14\": 32, \"5\": 53, \"7\": 2, \"9\": 3, \"15\": 4}, \"7\": {\"7\": 79, \"5\": 40, \"0\": 19, \"14\": 48, \"12\": 108, \"9\": 6}, \"11\": {\"11\": 281, \"14\": 5, \"3\": 14}, \"2\": {\"8\": 6, \"14\": 189, \"2\": 96, \"13\": 1, \"0\": 8}, \"4\": {\"13\": 57, \"2\": 90, \"14\": 146, \"8\": 4, \"0\": 2, \"11\": 1}}, \"14\": {\"8\": {\"3\": 101, \"2\": 143, \"11\": 46, \"6\": 6, \"9\": 4}, \"7\": {\"3\": 235, \"11\": 65}, \"11\": {\"13\": 33, \"8\": 44, \"7\": 176, \"6\": 20, \"2\": 8, \"0\": 1, \"4\": 7, \"12\": 8, \"11\": 1, \"15\": 2}, \"2\": {\"3\": 300}, \"10\": {\"3\": 203, \"2\": 94, \"15\": 2, \"12\": 1}, \"14\": {\"3\": 300}, \"0\": {\"3\": 290, \"2\": 9, \"9\": 1}, \"4\": {\"3\": 287, \"2\": 13}, \"13\": {\"3\": 298, \"11\": 2}, \"3\": {\"3\": 298, \"11\": 2}, \"6\": {\"3\": 300}, \"12\": {\"2\": 124, \"9\": 157, \"3\": 19}, \"15\": {\"11\": 211, \"3\": 89}, \"9\": {\"2\": 298, \"3\": 2}, \"1\": {\"2\": 152, \"3\": 147, \"11\": 1}, \"5\": {\"3\": 298, \"11\": 2}}, \"44\": {\"6\": {\"4\": 233, \"7\": 47, \"15\": 20}, \"11\": {\"4\": 299, \"7\": 1}, \"1\": {\"5\": 142, \"12\": 44, \"15\": 42, \"7\": 28, \"9\": 44}, \"13\": {\"7\": 54, \"4\": 246}, \"12\": {\"14\": 107, \"4\": 53, \"8\": 63, \"15\": 5, \"13\": 37, \"3\": 23, \"11\": 8, \"5\": 1, \"0\": 2, \"7\": 1}, \"2\": {\"15\": 233, \"9\": 27, \"5\": 33, \"12\": 4, \"7\": 3}, \"8\": {\"12\": 279, \"0\": 10, \"9\": 1, \"8\": 4, \"5\": 4, \"3\": 2}, \"9\": {\"15\": 76, \"4\": 61, \"7\": 134, \"9\": 27, \"5\": 1, \"12\": 1}, \"7\": {\"7\": 115, \"15\": 116, \"9\": 66, \"4\": 3}, \"10\": {\"9\": 92, \"7\": 93, \"15\": 112, \"5\": 3}, \"14\": {\"5\": 51, \"7\": 112, \"12\": 83, \"9\": 54}, \"15\": {\"12\": 282, \"5\": 6, \"7\": 6, \"9\": 5, \"0\": 1}, \"4\": {\"5\": 33, \"7\": 176, \"12\": 31, \"9\": 39, \"15\": 15, \"4\": 6}, \"0\": {\"12\": 207, \"0\": 48, \"1\": 2, \"8\": 38, \"5\": 4, \"9\": 1}, \"3\": {\"14\": 204, \"4\": 2, \"2\": 20, \"8\": 40, \"0\": 16, \"13\": 12, \"5\": 5, \"7\": 1}, \"5\": {\"7\": 155, \"12\": 70, \"5\": 55, \"9\": 12, \"6\": 8}}, \"26\": {\"1\": {\"12\": 92, \"3\": 206, \"9\": 1, \"6\": 1}, \"8\": {\"3\": 289, \"6\": 6, \"9\": 1, \"12\": 3, \"11\": 1}, \"0\": {\"3\": 275, \"12\": 18, \"9\": 1, \"6\": 6}, \"14\": {\"12\": 42, \"3\": 256, \"6\": 1, \"9\": 1}, \"11\": {\"6\": 233, \"12\": 17, \"9\": 39, \"10\": 5, \"2\": 6}, \"13\": {\"6\": 58, \"11\": 4, \"3\": 182, \"9\": 45, \"2\": 11}, \"7\": {\"3\": 300}, \"4\": {\"3\": 299, \"2\": 1}, \"9\": {\"3\": 277, \"2\": 1, \"9\": 7, \"6\": 14, \"12\": 1}, \"3\": {\"3\": 299, \"9\": 1}, \"12\": {\"12\": 124, \"3\": 73, \"9\": 67, \"6\": 35, \"2\": 1}, \"15\": {\"2\": 4, \"3\": 153, \"12\": 56, \"6\": 60, \"11\": 10, \"9\": 17}, \"2\": {\"3\": 286, \"9\": 3, \"2\": 1, \"11\": 6, \"6\": 4}, \"10\": {\"3\": 210, \"12\": 77, \"6\": 11, \"9\": 2}, \"6\": {\"3\": 109, \"9\": 9, \"12\": 139, \"6\": 42, \"11\": 1}, \"5\": {\"11\": 16, \"6\": 117, \"9\": 37, \"2\": 5, \"3\": 79, \"12\": 46}}, \"20\": {\"10\": {\"2\": 51, \"12\": 154, \"15\": 83, \"13\": 8, \"7\": 4}, \"6\": {\"2\": 167, \"12\": 71, \"3\": 19, \"15\": 43}, \"0\": {\"3\": 89, \"12\": 6, \"2\": 194, \"15\": 11}, \"5\": {\"2\": 263, \"15\": 29, \"12\": 8}, \"8\": {\"3\": 64, \"2\": 124, \"12\": 55, \"15\": 57}, \"9\": {\"12\": 7, \"2\": 274, \"15\": 18, \"3\": 1}, \"2\": {\"2\": 278, \"12\": 8, \"15\": 13, \"3\": 1}, \"3\": {\"15\": 31, \"2\": 236, \"12\": 24, \"3\": 9}, \"11\": {\"2\": 122, \"3\": 178}, \"1\": {\"2\": 280, \"12\": 8, \"15\": 12}, \"13\": {\"2\": 289, \"13\": 7, \"15\": 4}, \"7\": {\"2\": 257, \"15\": 16, \"12\": 23, \"3\": 4}, \"12\": {\"15\": 31, \"2\": 251, \"12\": 17, \"13\": 1}, \"4\": {\"2\": 105, \"12\": 110, \"15\": 85}, \"14\": {\"3\": 90, \"2\": 75, \"12\": 77, \"15\": 58}, \"15\": {\"2\": 280, \"15\": 12, \"12\": 5, \"13\": 3}}}, \"per_domain_accuracy\": {\"8\": {\"accuracy\": 0.5397916666666667, \"source?\": true}, \"50\": {\"accuracy\": 0.4085416666666667, \"source?\": true}, \"38\": {\"accuracy\": 0.12958333333333333, \"source?\": false}, \"32\": {\"accuracy\": 0.5383333333333333, \"source?\": true}, \"14\": {\"accuracy\": 0.06229166666666667, \"source?\": false}, \"44\": {\"accuracy\": 0.053125, \"source?\": false}, \"26\": {\"accuracy\": 0.09854166666666667, \"source?\": false}, \"20\": {\"accuracy\": 0.06729166666666667, \"source?\": false}}}, \"history\": {\"epoch_indices\": [1, 2, 3, 4, 5, 6, 7], \"train_label_loss\": [2.3614114211854482, 1.8763848867870512, 1.5365911363420033, 1.2480412385577246, 1.017457512560345, 0.8024544520605178, 0.6178328504448846], \"source_val_label_loss\": [2.0963094909634212, 1.721283562415469, 1.4090514256890896, 1.2587366926986558, 1.1543835443733013, 0.9708604422290769, 0.9942617089347502], \"target_val_label_loss\": [3.8834929567702274, 4.691156379719998, 6.072520753170582, 7.329293578229052, 7.282596329425243, 8.939398902527829, 9.720140533244356], \"source_val_acc_label\": [0.2546527777777778, 0.409375, 0.4955555555555556, 0.5539583333333333, 0.5852083333333333, 0.6585416666666667, 0.6340277777777777], \"target_val_acc_label\": [0.08066666666666666, 0.0815, 0.08216666666666667, 0.07491666666666667, 0.07675, 0.06954166666666667, 0.07370833333333333]}, \"dataset_metrics\": {\"source\": {\"train\": {\"n_unique_x\": 67200, \"n_unique_y\": 16, \"n_batch/episode\": 525}, \"val\": {\"n_unique_x\": 14400, \"n_unique_y\": 16, \"n_batch/episode\": 113}, \"test\": {\"n_unique_x\": 14400, \"n_unique_y\": 16, \"n_batch/episode\": 113}}, \"target\": {\"train\": {\"n_unique_x\": 112000, \"n_unique_y\": 16, \"n_batch/episode\": 875}, \"val\": {\"n_unique_x\": 24000, \"n_unique_y\": 16, \"n_batch/episode\": 188}, \"test\": {\"n_unique_x\": 24000, \"n_unique_y\": 16, \"n_batch/episode\": 188}}}}'"
      ]
     },
     "execution_count": 20,
     "metadata": {},
     "output_type": "execute_result"
    }
   ],
   "source": [
    "json.dumps(experiment)"
   ]
  }
 ],
 "metadata": {
  "celltoolbar": "Tags",
  "kernelspec": {
   "display_name": "Python 3 (ipykernel)",
   "language": "python",
   "name": "python3"
  },
  "language_info": {
   "codemirror_mode": {
    "name": "ipython",
    "version": 3
   },
   "file_extension": ".py",
   "mimetype": "text/x-python",
   "name": "python",
   "nbconvert_exporter": "python",
   "pygments_lexer": "ipython3",
   "version": "3.8.12"
  },
  "papermill": {
   "default_parameters": {},
   "duration": 87.239102,
   "end_time": "2022-03-25T23:15:09.197222",
   "environment_variables": {},
   "exception": null,
   "input_path": "/root/csc500-main/csc500-notebooks/templates/cnn_template.ipynb",
   "output_path": "trial.ipynb",
   "parameters": {
    "parameters": {
     "BEST_MODEL_PATH": "./best_model.pth",
     "NUM_LOGS_PER_EPOCH": 10,
     "batch_size": 128,
     "criteria_for_best": "target_accuracy",
     "dataset_seed": 7,
     "device": "cuda",
     "domains_source": [
      8,
      32,
      50
     ],
     "domains_target": [
      14,
      20,
      26,
      38,
      44
     ],
     "experiment_name": "cnn_1:oracle.run1_limited",
     "labels": [
      "3123D52",
      "3123D65",
      "3123D79",
      "3123D80",
      "3123D54",
      "3123D70",
      "3123D7B",
      "3123D89",
      "3123D58",
      "3123D76",
      "3123D7D",
      "3123EFE",
      "3123D64",
      "3123D78",
      "3123D7E",
      "3124E4A"
     ],
     "lr": 0.0001,
     "n_epoch": 50,
     "normalize_source": false,
     "normalize_target": false,
     "num_examples_per_domain_per_label_source": 2000,
     "num_examples_per_domain_per_label_target": 2000,
     "patience": 3,
     "pickle_name_source": "oracle.Run1_10kExamples_stratified_ds.2022A.pkl",
     "pickle_name_target": "oracle.Run1_10kExamples_stratified_ds.2022A.pkl",
     "seed": 7,
     "torch_default_dtype": "torch.float32",
     "x_net": [
      {
       "class": "nnReshape",
       "kargs": {
        "shape": [
         -1,
         1,
         2,
         256
        ]
       }
      },
      {
       "class": "Conv2d",
       "kargs": {
        "bias": false,
        "in_channels": 1,
        "kernel_size": [
         1,
         7
        ],
        "out_channels": 256,
        "padding": [
         0,
         3
        ]
       }
      },
      {
       "class": "ReLU",
       "kargs": {
        "inplace": true
       }
      },
      {
       "class": "BatchNorm2d",
       "kargs": {
        "num_features": 256
       }
      },
      {
       "class": "Conv2d",
       "kargs": {
        "bias": true,
        "in_channels": 256,
        "kernel_size": [
         2,
         7
        ],
        "out_channels": 80,
        "padding": [
         0,
         3
        ]
       }
      },
      {
       "class": "ReLU",
       "kargs": {
        "inplace": true
       }
      },
      {
       "class": "BatchNorm2d",
       "kargs": {
        "num_features": 80
       }
      },
      {
       "class": "Flatten",
       "kargs": {}
      },
      {
       "class": "Linear",
       "kargs": {
        "in_features": 20480,
        "out_features": 256
       }
      },
      {
       "class": "ReLU",
       "kargs": {
        "inplace": true
       }
      },
      {
       "class": "BatchNorm1d",
       "kargs": {
        "num_features": 256
       }
      },
      {
       "class": "Linear",
       "kargs": {
        "in_features": 256,
        "out_features": 16
       }
      }
     ]
    }
   },
   "start_time": "2022-03-25T23:13:41.958120",
   "version": "2.3.4"
  }
 },
 "nbformat": 4,
 "nbformat_minor": 5
}