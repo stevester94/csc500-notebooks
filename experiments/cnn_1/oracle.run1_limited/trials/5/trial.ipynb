{
 "cells": [
  {
   "cell_type": "code",
   "execution_count": 1,
   "id": "2324682e",
   "metadata": {
    "execution": {
     "iopub.execute_input": "2022-03-25T23:01:45.183344Z",
     "iopub.status.busy": "2022-03-25T23:01:45.182468Z",
     "iopub.status.idle": "2022-03-25T23:01:46.457328Z",
     "shell.execute_reply": "2022-03-25T23:01:46.456453Z"
    },
    "papermill": {
     "duration": 1.314684,
     "end_time": "2022-03-25T23:01:46.457534",
     "exception": false,
     "start_time": "2022-03-25T23:01:45.142850",
     "status": "completed"
    },
    "tags": []
   },
   "outputs": [],
   "source": [
    "import os, json, sys, time, random\n",
    "import numpy as np\n",
    "import torch\n",
    "from  easydict import EasyDict\n",
    "from math import floor\n",
    "from easydict import EasyDict\n",
    "\n",
    "from steves_utils.vanilla_train_eval_test_jig import  Vanilla_Train_Eval_Test_Jig\n",
    "\n",
    "from steves_utils.torch_utils import get_dataset_metrics, independent_accuracy_assesment\n",
    "from steves_models.configurable_vanilla import Configurable_Vanilla\n",
    "from steves_utils.torch_sequential_builder import build_sequential\n",
    "from steves_utils.lazy_map import Lazy_Map\n",
    "from steves_utils.sequence_aggregator import Sequence_Aggregator\n",
    "\n",
    "from steves_utils.stratified_dataset.traditional_accessor import Traditional_Accessor_Factory\n",
    "\n",
    "from steves_utils.cnn_do_report import (\n",
    "    get_loss_curve,\n",
    "    get_results_table,\n",
    "    get_parameters_table,\n",
    "    get_domain_accuracies,\n",
    ")\n",
    "\n",
    "from steves_utils.torch_utils import (\n",
    "    confusion_by_domain_over_dataloader,\n",
    "    independent_accuracy_assesment\n",
    ")\n",
    "\n",
    "from steves_utils.utils_v2 import (\n",
    "    per_domain_accuracy_from_confusion,\n",
    "    get_datasets_base_path\n",
    ")\n",
    "\n",
    "# from steves_utils.ptn_do_report import TBD"
   ]
  },
  {
   "cell_type": "code",
   "execution_count": 2,
   "id": "1b29e3fe",
   "metadata": {
    "execution": {
     "iopub.execute_input": "2022-03-25T23:01:46.494327Z",
     "iopub.status.busy": "2022-03-25T23:01:46.493941Z",
     "iopub.status.idle": "2022-03-25T23:01:46.496315Z",
     "shell.execute_reply": "2022-03-25T23:01:46.496994Z"
    },
    "papermill": {
     "duration": 0.022311,
     "end_time": "2022-03-25T23:01:46.497185",
     "exception": false,
     "start_time": "2022-03-25T23:01:46.474874",
     "status": "completed"
    },
    "tags": []
   },
   "outputs": [],
   "source": [
    "required_parameters = {\n",
    "    \"experiment_name\",\n",
    "    \"lr\",\n",
    "    \"device\",\n",
    "    \"dataset_seed\",\n",
    "    \"seed\",\n",
    "    \"labels\",\n",
    "    \"domains_target\",\n",
    "    \"domains_source\",\n",
    "    \"num_examples_per_domain_per_label_source\",\n",
    "    \"num_examples_per_domain_per_label_target\",\n",
    "    \"batch_size\",\n",
    "    \"n_epoch\",\n",
    "    \"patience\",\n",
    "    \"criteria_for_best\",\n",
    "    \"normalize_source\",\n",
    "    \"normalize_target\",\n",
    "    \"x_net\",\n",
    "    \"NUM_LOGS_PER_EPOCH\",\n",
    "    \"BEST_MODEL_PATH\",\n",
    "    \"pickle_name_source\",\n",
    "    \"pickle_name_target\",\n",
    "    \"torch_default_dtype\",\n",
    "}"
   ]
  },
  {
   "cell_type": "code",
   "execution_count": 3,
   "id": "670b5fb8",
   "metadata": {
    "execution": {
     "iopub.execute_input": "2022-03-25T23:01:46.544499Z",
     "iopub.status.busy": "2022-03-25T23:01:46.543602Z",
     "iopub.status.idle": "2022-03-25T23:01:46.551343Z",
     "shell.execute_reply": "2022-03-25T23:01:46.550527Z"
    },
    "papermill": {
     "duration": 0.035233,
     "end_time": "2022-03-25T23:01:46.551499",
     "exception": false,
     "start_time": "2022-03-25T23:01:46.516266",
     "status": "completed"
    },
    "tags": [
     "parameters"
    ]
   },
   "outputs": [],
   "source": [
    "from steves_utils.ORACLE.utils_v2 import (\n",
    "    ALL_SERIAL_NUMBERS,\n",
    "    ALL_DISTANCES_FEET_NARROWED,\n",
    ")\n",
    "\n",
    "standalone_parameters = {}\n",
    "standalone_parameters[\"experiment_name\"] = \"MANUAL CORES CNN\"\n",
    "standalone_parameters[\"lr\"] = 0.0001\n",
    "standalone_parameters[\"device\"] = \"cuda\"\n",
    "\n",
    "standalone_parameters[\"dataset_seed\"] = 1337\n",
    "standalone_parameters[\"seed\"] = 1337\n",
    "standalone_parameters[\"labels\"] = ALL_SERIAL_NUMBERS\n",
    "\n",
    "standalone_parameters[\"domains_source\"] = [8,32,50]\n",
    "standalone_parameters[\"domains_target\"] = [14,20,26,38,44,]\n",
    "\n",
    "standalone_parameters[\"num_examples_per_domain_per_label_source\"]=-1\n",
    "standalone_parameters[\"num_examples_per_domain_per_label_target\"]=-1\n",
    "\n",
    "standalone_parameters[\"pickle_name_source\"] = \"oracle.Run1_framed_2000Examples_stratified_ds.2022A.pkl\"\n",
    "standalone_parameters[\"pickle_name_target\"] = \"oracle.Run2_framed_2000Examples_stratified_ds.2022A.pkl\"\n",
    "\n",
    "standalone_parameters[\"torch_default_dtype\"] = \"torch.float32\" \n",
    "\n",
    "standalone_parameters[\"batch_size\"]=128\n",
    "\n",
    "standalone_parameters[\"n_epoch\"] = 3\n",
    "\n",
    "standalone_parameters[\"patience\"] = 10\n",
    "\n",
    "standalone_parameters[\"criteria_for_best\"] = \"target_accuracy\"\n",
    "standalone_parameters[\"normalize_source\"] = False\n",
    "standalone_parameters[\"normalize_target\"] = False\n",
    "\n",
    "standalone_parameters[\"x_net\"] =     [\n",
    "    {\"class\": \"nnReshape\", \"kargs\": {\"shape\":[-1, 1, 2, 256]}},\n",
    "    {\"class\": \"Conv2d\", \"kargs\": { \"in_channels\":1, \"out_channels\":256, \"kernel_size\":(1,7), \"bias\":False, \"padding\":(0,3), },},\n",
    "    {\"class\": \"ReLU\", \"kargs\": {\"inplace\": True}},\n",
    "    {\"class\": \"BatchNorm2d\", \"kargs\": {\"num_features\":256}},\n",
    "\n",
    "    {\"class\": \"Conv2d\", \"kargs\": { \"in_channels\":256, \"out_channels\":80, \"kernel_size\":(2,7), \"bias\":True, \"padding\":(0,3), },},\n",
    "    {\"class\": \"ReLU\", \"kargs\": {\"inplace\": True}},\n",
    "    {\"class\": \"BatchNorm2d\", \"kargs\": {\"num_features\":80}},\n",
    "    {\"class\": \"Flatten\", \"kargs\": {}},\n",
    "\n",
    "    {\"class\": \"Linear\", \"kargs\": {\"in_features\": 80*256, \"out_features\": 256}}, # 80 units per IQ pair\n",
    "    {\"class\": \"ReLU\", \"kargs\": {\"inplace\": True}},\n",
    "    {\"class\": \"BatchNorm1d\", \"kargs\": {\"num_features\":256}},\n",
    "\n",
    "    {\"class\": \"Linear\", \"kargs\": {\"in_features\": 256, \"out_features\": len(standalone_parameters[\"labels\"])}},\n",
    "]\n",
    "\n",
    "standalone_parameters[\"NUM_LOGS_PER_EPOCH\"] = 10\n",
    "standalone_parameters[\"BEST_MODEL_PATH\"] = \"./best_model.pth\""
   ]
  },
  {
   "cell_type": "code",
   "execution_count": 4,
   "id": "84060dce",
   "metadata": {
    "execution": {
     "iopub.execute_input": "2022-03-25T23:01:46.599386Z",
     "iopub.status.busy": "2022-03-25T23:01:46.594612Z",
     "iopub.status.idle": "2022-03-25T23:01:46.601815Z",
     "shell.execute_reply": "2022-03-25T23:01:46.601256Z"
    },
    "papermill": {
     "duration": 0.028434,
     "end_time": "2022-03-25T23:01:46.601944",
     "exception": false,
     "start_time": "2022-03-25T23:01:46.573510",
     "status": "completed"
    },
    "tags": [
     "injected-parameters"
    ]
   },
   "outputs": [],
   "source": [
    "# Parameters\n",
    "parameters = {\n",
    "    \"experiment_name\": \"cnn_1:oracle.run1_limited\",\n",
    "    \"labels\": [\n",
    "        \"3123D52\",\n",
    "        \"3123D65\",\n",
    "        \"3123D79\",\n",
    "        \"3123D80\",\n",
    "        \"3123D54\",\n",
    "        \"3123D70\",\n",
    "        \"3123D7B\",\n",
    "        \"3123D89\",\n",
    "        \"3123D58\",\n",
    "        \"3123D76\",\n",
    "        \"3123D7D\",\n",
    "        \"3123EFE\",\n",
    "        \"3123D64\",\n",
    "        \"3123D78\",\n",
    "        \"3123D7E\",\n",
    "        \"3124E4A\",\n",
    "    ],\n",
    "    \"domains_source\": [8, 32, 50],\n",
    "    \"domains_target\": [14, 20, 26, 38, 44],\n",
    "    \"pickle_name_source\": \"oracle.Run1_10kExamples_stratified_ds.2022A.pkl\",\n",
    "    \"pickle_name_target\": \"oracle.Run1_10kExamples_stratified_ds.2022A.pkl\",\n",
    "    \"device\": \"cuda\",\n",
    "    \"lr\": 0.0001,\n",
    "    \"batch_size\": 128,\n",
    "    \"normalize_source\": False,\n",
    "    \"normalize_target\": False,\n",
    "    \"num_examples_per_domain_per_label_source\": 2000,\n",
    "    \"num_examples_per_domain_per_label_target\": 2000,\n",
    "    \"torch_default_dtype\": \"torch.float32\",\n",
    "    \"n_epoch\": 50,\n",
    "    \"patience\": 3,\n",
    "    \"criteria_for_best\": \"target_accuracy\",\n",
    "    \"x_net\": [\n",
    "        {\"class\": \"nnReshape\", \"kargs\": {\"shape\": [-1, 1, 2, 256]}},\n",
    "        {\n",
    "            \"class\": \"Conv2d\",\n",
    "            \"kargs\": {\n",
    "                \"in_channels\": 1,\n",
    "                \"out_channels\": 256,\n",
    "                \"kernel_size\": [1, 7],\n",
    "                \"bias\": False,\n",
    "                \"padding\": [0, 3],\n",
    "            },\n",
    "        },\n",
    "        {\"class\": \"ReLU\", \"kargs\": {\"inplace\": True}},\n",
    "        {\"class\": \"BatchNorm2d\", \"kargs\": {\"num_features\": 256}},\n",
    "        {\n",
    "            \"class\": \"Conv2d\",\n",
    "            \"kargs\": {\n",
    "                \"in_channels\": 256,\n",
    "                \"out_channels\": 80,\n",
    "                \"kernel_size\": [2, 7],\n",
    "                \"bias\": True,\n",
    "                \"padding\": [0, 3],\n",
    "            },\n",
    "        },\n",
    "        {\"class\": \"ReLU\", \"kargs\": {\"inplace\": True}},\n",
    "        {\"class\": \"BatchNorm2d\", \"kargs\": {\"num_features\": 80}},\n",
    "        {\"class\": \"Flatten\", \"kargs\": {}},\n",
    "        {\"class\": \"Linear\", \"kargs\": {\"in_features\": 20480, \"out_features\": 256}},\n",
    "        {\"class\": \"ReLU\", \"kargs\": {\"inplace\": True}},\n",
    "        {\"class\": \"BatchNorm1d\", \"kargs\": {\"num_features\": 256}},\n",
    "        {\"class\": \"Linear\", \"kargs\": {\"in_features\": 256, \"out_features\": 16}},\n",
    "    ],\n",
    "    \"NUM_LOGS_PER_EPOCH\": 10,\n",
    "    \"BEST_MODEL_PATH\": \"./best_model.pth\",\n",
    "    \"dataset_seed\": 154325,\n",
    "    \"seed\": 154325,\n",
    "}\n"
   ]
  },
  {
   "cell_type": "code",
   "execution_count": 5,
   "id": "759b56ec",
   "metadata": {
    "execution": {
     "iopub.execute_input": "2022-03-25T23:01:46.640917Z",
     "iopub.status.busy": "2022-03-25T23:01:46.640343Z",
     "iopub.status.idle": "2022-03-25T23:01:46.643033Z",
     "shell.execute_reply": "2022-03-25T23:01:46.642471Z"
    },
    "papermill": {
     "duration": 0.022142,
     "end_time": "2022-03-25T23:01:46.643142",
     "exception": false,
     "start_time": "2022-03-25T23:01:46.621000",
     "status": "completed"
    },
    "tags": []
   },
   "outputs": [],
   "source": [
    "# Set this to True if you want to run this template directly\n",
    "STANDALONE = False\n",
    "if STANDALONE:\n",
    "    print(\"parameters not injected, running with standalone_parameters\")\n",
    "    parameters = standalone_parameters\n",
    "\n",
    "if not 'parameters' in locals() and not 'parameters' in globals():\n",
    "    raise Exception(\"Parameter injection failed\")\n",
    "\n",
    "#Use an easy dict for all the parameters\n",
    "p = EasyDict(parameters)\n",
    "\n",
    "supplied_keys = set(p.keys())\n",
    "\n",
    "if  supplied_keys != required_parameters:\n",
    "    print(\"Parameters are incorrect\")\n",
    "    if len(supplied_keys - required_parameters)>0: print(\"Shouldn't have:\", str(supplied_keys - required_parameters))\n",
    "    if len(required_parameters - supplied_keys)>0: print(\"Need to have:\", str(required_parameters - supplied_keys))\n",
    "    raise RuntimeError(\"Parameters are incorrect\")\n",
    "\n"
   ]
  },
  {
   "cell_type": "code",
   "execution_count": 6,
   "id": "d5c66a71",
   "metadata": {
    "execution": {
     "iopub.execute_input": "2022-03-25T23:01:46.676987Z",
     "iopub.status.busy": "2022-03-25T23:01:46.676612Z",
     "iopub.status.idle": "2022-03-25T23:01:46.679953Z",
     "shell.execute_reply": "2022-03-25T23:01:46.679584Z"
    },
    "papermill": {
     "duration": 0.020407,
     "end_time": "2022-03-25T23:01:46.680022",
     "exception": false,
     "start_time": "2022-03-25T23:01:46.659615",
     "status": "completed"
    },
    "tags": []
   },
   "outputs": [],
   "source": [
    "###################################\n",
    "# Set the RNGs and make it all deterministic\n",
    "###################################\n",
    "np.random.seed(p.seed)\n",
    "random.seed(p.seed)\n",
    "torch.manual_seed(p.seed)\n",
    "\n",
    "torch.use_deterministic_algorithms(True) "
   ]
  },
  {
   "cell_type": "code",
   "execution_count": 7,
   "id": "92a65876",
   "metadata": {
    "execution": {
     "iopub.execute_input": "2022-03-25T23:01:46.714461Z",
     "iopub.status.busy": "2022-03-25T23:01:46.713908Z",
     "iopub.status.idle": "2022-03-25T23:01:46.717015Z",
     "shell.execute_reply": "2022-03-25T23:01:46.716455Z"
    },
    "papermill": {
     "duration": 0.020797,
     "end_time": "2022-03-25T23:01:46.717120",
     "exception": false,
     "start_time": "2022-03-25T23:01:46.696323",
     "status": "completed"
    },
    "tags": []
   },
   "outputs": [],
   "source": [
    "torch.set_default_dtype(eval(p.torch_default_dtype))"
   ]
  },
  {
   "cell_type": "code",
   "execution_count": 8,
   "id": "f1a32f01",
   "metadata": {
    "execution": {
     "iopub.execute_input": "2022-03-25T23:01:46.754477Z",
     "iopub.status.busy": "2022-03-25T23:01:46.753917Z",
     "iopub.status.idle": "2022-03-25T23:01:46.795383Z",
     "shell.execute_reply": "2022-03-25T23:01:46.794664Z"
    },
    "papermill": {
     "duration": 0.059601,
     "end_time": "2022-03-25T23:01:46.795560",
     "exception": false,
     "start_time": "2022-03-25T23:01:46.735959",
     "status": "completed"
    },
    "tags": []
   },
   "outputs": [],
   "source": [
    "###################################\n",
    "# Build the network(s)\n",
    "# Note: It's critical to do this AFTER setting the RNG\n",
    "###################################\n",
    "x_net = build_sequential(p.x_net)"
   ]
  },
  {
   "cell_type": "code",
   "execution_count": 9,
   "id": "a276cd83",
   "metadata": {
    "execution": {
     "iopub.execute_input": "2022-03-25T23:01:46.831612Z",
     "iopub.status.busy": "2022-03-25T23:01:46.831206Z",
     "iopub.status.idle": "2022-03-25T23:01:46.834101Z",
     "shell.execute_reply": "2022-03-25T23:01:46.833549Z"
    },
    "papermill": {
     "duration": 0.020499,
     "end_time": "2022-03-25T23:01:46.834207",
     "exception": false,
     "start_time": "2022-03-25T23:01:46.813708",
     "status": "completed"
    },
    "tags": []
   },
   "outputs": [],
   "source": [
    "start_time_secs = time.time()"
   ]
  },
  {
   "cell_type": "code",
   "execution_count": 10,
   "id": "de702e48",
   "metadata": {
    "execution": {
     "iopub.execute_input": "2022-03-25T23:01:46.880137Z",
     "iopub.status.busy": "2022-03-25T23:01:46.879190Z",
     "iopub.status.idle": "2022-03-25T23:01:56.004428Z",
     "shell.execute_reply": "2022-03-25T23:01:56.003658Z"
    },
    "papermill": {
     "duration": 9.153159,
     "end_time": "2022-03-25T23:01:56.004604",
     "exception": false,
     "start_time": "2022-03-25T23:01:46.851445",
     "status": "completed"
    },
    "tags": []
   },
   "outputs": [],
   "source": [
    "def wrap_in_dataloader(p, ds):\n",
    "    return torch.utils.data.DataLoader(\n",
    "        ds,\n",
    "        batch_size=p.batch_size,\n",
    "        shuffle=True,\n",
    "        num_workers=1,\n",
    "        persistent_workers=True,\n",
    "        prefetch_factor=50,\n",
    "        pin_memory=True\n",
    "    )\n",
    "\n",
    "taf_source = Traditional_Accessor_Factory(\n",
    "    labels=p.labels,\n",
    "    domains=p.domains_source,\n",
    "    num_examples_per_domain_per_label=p.num_examples_per_domain_per_label_source,\n",
    "    pickle_path=os.path.join(get_datasets_base_path(), p.pickle_name_source),\n",
    "    seed=p.dataset_seed\n",
    ")\n",
    "train_original_source, val_original_source, test_original_source = \\\n",
    "    taf_source.get_train(), taf_source.get_val(), taf_source.get_test()\n",
    "\n",
    "\n",
    "taf_target = Traditional_Accessor_Factory(\n",
    "    labels=p.labels,\n",
    "    domains=p.domains_target,\n",
    "    num_examples_per_domain_per_label=p.num_examples_per_domain_per_label_source,\n",
    "    pickle_path=os.path.join(get_datasets_base_path(), p.pickle_name_target),\n",
    "    seed=p.dataset_seed\n",
    ")\n",
    "train_original_target, val_original_target, test_original_target = \\\n",
    "    taf_target.get_train(), taf_target.get_val(), taf_target.get_test()\n",
    "\n",
    "\n",
    "# For CNN We only use X and Y. And we only train on the source.\n",
    "# Properly form the data using a transform lambda and Lazy_Map. Finally wrap them in a dataloader\n",
    "\n",
    "transform_lambda = lambda ex: ex[:2] # Strip the tuple to just (x,y)\n",
    "\n",
    "\n",
    "train_processed_source = wrap_in_dataloader(\n",
    "    p,\n",
    "    Lazy_Map(train_original_source, transform_lambda)\n",
    ")\n",
    "val_processed_source = wrap_in_dataloader(\n",
    "    p,\n",
    "    Lazy_Map(val_original_source, transform_lambda)\n",
    ")\n",
    "test_processed_source = wrap_in_dataloader(\n",
    "    p,\n",
    "    Lazy_Map(test_original_source, transform_lambda)\n",
    ")\n",
    "\n",
    "train_processed_target = wrap_in_dataloader(\n",
    "    p,\n",
    "    Lazy_Map(train_original_target, transform_lambda)\n",
    ")\n",
    "val_processed_target = wrap_in_dataloader(\n",
    "    p,\n",
    "    Lazy_Map(val_original_target, transform_lambda)\n",
    ")\n",
    "test_processed_target  = wrap_in_dataloader(\n",
    "    p,\n",
    "    Lazy_Map(test_original_target, transform_lambda)\n",
    ")\n",
    "\n",
    "\n",
    "\n",
    "datasets = EasyDict({\n",
    "    \"source\": {\n",
    "        \"original\": {\"train\":train_original_source, \"val\":val_original_source, \"test\":test_original_source},\n",
    "        \"processed\": {\"train\":train_processed_source, \"val\":val_processed_source, \"test\":test_processed_source}\n",
    "    },\n",
    "    \"target\": {\n",
    "        \"original\": {\"train\":train_original_target, \"val\":val_original_target, \"test\":test_original_target},\n",
    "        \"processed\": {\"train\":train_processed_target, \"val\":val_processed_target, \"test\":test_processed_target}\n",
    "    },\n",
    "})"
   ]
  },
  {
   "cell_type": "code",
   "execution_count": 11,
   "id": "a11b26bd",
   "metadata": {
    "execution": {
     "iopub.execute_input": "2022-03-25T23:01:56.105566Z",
     "iopub.status.busy": "2022-03-25T23:01:56.104738Z",
     "iopub.status.idle": "2022-03-25T23:02:01.815956Z",
     "shell.execute_reply": "2022-03-25T23:02:01.815077Z"
    },
    "papermill": {
     "duration": 5.793043,
     "end_time": "2022-03-25T23:02:01.816129",
     "exception": false,
     "start_time": "2022-03-25T23:01:56.023086",
     "status": "completed"
    },
    "tags": []
   },
   "outputs": [
    {
     "data": {
      "text/plain": [
       "torch.float32"
      ]
     },
     "execution_count": 11,
     "metadata": {},
     "output_type": "execute_result"
    }
   ],
   "source": [
    "ep = next(iter(test_processed_target))\n",
    "ep[0].dtype"
   ]
  },
  {
   "cell_type": "code",
   "execution_count": 12,
   "id": "19425fad",
   "metadata": {
    "execution": {
     "iopub.execute_input": "2022-03-25T23:02:01.875130Z",
     "iopub.status.busy": "2022-03-25T23:02:01.874301Z",
     "iopub.status.idle": "2022-03-25T23:02:01.920870Z",
     "shell.execute_reply": "2022-03-25T23:02:01.920155Z"
    },
    "papermill": {
     "duration": 0.082613,
     "end_time": "2022-03-25T23:02:01.921050",
     "exception": false,
     "start_time": "2022-03-25T23:02:01.838437",
     "status": "completed"
    },
    "tags": []
   },
   "outputs": [],
   "source": [
    "model = Configurable_Vanilla(\n",
    "    x_net=x_net,\n",
    "    label_loss_object=torch.nn.NLLLoss(),\n",
    "    learning_rate=p.lr\n",
    ")"
   ]
  },
  {
   "cell_type": "code",
   "execution_count": 13,
   "id": "7f6d4f2c",
   "metadata": {
    "execution": {
     "iopub.execute_input": "2022-03-25T23:02:01.961988Z",
     "iopub.status.busy": "2022-03-25T23:02:01.961605Z",
     "iopub.status.idle": "2022-03-25T23:02:41.575478Z",
     "shell.execute_reply": "2022-03-25T23:02:41.576209Z"
    },
    "papermill": {
     "duration": 39.636243,
     "end_time": "2022-03-25T23:02:41.576433",
     "exception": false,
     "start_time": "2022-03-25T23:02:01.940190",
     "status": "completed"
    },
    "tags": []
   },
   "outputs": [
    {
     "name": "stdout",
     "output_type": "stream",
     "text": [
      "epoch: 1, [batch: 1 / 525], examples_per_second: 740.4539, train_label_loss: 2.7712, \n"
     ]
    },
    {
     "name": "stdout",
     "output_type": "stream",
     "text": [
      "epoch: 1, [batch: 53 / 525], examples_per_second: 10630.2125, train_label_loss: 2.6210, \n"
     ]
    },
    {
     "name": "stdout",
     "output_type": "stream",
     "text": [
      "epoch: 1, [batch: 105 / 525], examples_per_second: 10760.7484, train_label_loss: 2.4647, \n"
     ]
    },
    {
     "name": "stdout",
     "output_type": "stream",
     "text": [
      "epoch: 1, [batch: 158 / 525], examples_per_second: 10650.4662, train_label_loss: 2.4109, \n"
     ]
    },
    {
     "name": "stdout",
     "output_type": "stream",
     "text": [
      "epoch: 1, [batch: 210 / 525], examples_per_second: 10677.2642, train_label_loss: 2.3445, \n"
     ]
    },
    {
     "name": "stdout",
     "output_type": "stream",
     "text": [
      "epoch: 1, [batch: 263 / 525], examples_per_second: 10704.6861, train_label_loss: 2.3782, \n"
     ]
    },
    {
     "name": "stdout",
     "output_type": "stream",
     "text": [
      "epoch: 1, [batch: 315 / 525], examples_per_second: 10761.4452, train_label_loss: 2.2947, \n"
     ]
    },
    {
     "name": "stdout",
     "output_type": "stream",
     "text": [
      "epoch: 1, [batch: 367 / 525], examples_per_second: 10727.2562, train_label_loss: 2.2806, \n"
     ]
    },
    {
     "name": "stdout",
     "output_type": "stream",
     "text": [
      "epoch: 1, [batch: 420 / 525], examples_per_second: 10696.8027, train_label_loss: 2.2572, \n"
     ]
    },
    {
     "name": "stdout",
     "output_type": "stream",
     "text": [
      "epoch: 1, [batch: 472 / 525], examples_per_second: 10680.5035, train_label_loss: 2.1520, \n"
     ]
    },
    {
     "name": "stdout",
     "output_type": "stream",
     "text": [
      "=============================================================\n",
      "epoch: 1, source_val_acc_label: 0.2558, source_val_label_loss: 2.1500, target_val_acc_label: 0.0898, target_val_label_loss: 4.0340, \n",
      "=============================================================\n"
     ]
    },
    {
     "name": "stdout",
     "output_type": "stream",
     "text": [
      "New best\n",
      "epoch: 2, [batch: 1 / 525], examples_per_second: 96.7091, train_label_loss: 2.0765, \n"
     ]
    },
    {
     "name": "stdout",
     "output_type": "stream",
     "text": [
      "epoch: 2, [batch: 53 / 525], examples_per_second: 10716.3606, train_label_loss: 1.9852, \n"
     ]
    },
    {
     "name": "stdout",
     "output_type": "stream",
     "text": [
      "epoch: 2, [batch: 105 / 525], examples_per_second: 10483.2046, train_label_loss: 2.1108, \n"
     ]
    },
    {
     "name": "stdout",
     "output_type": "stream",
     "text": [
      "epoch: 2, [batch: 158 / 525], examples_per_second: 10726.6552, train_label_loss: 2.0699, \n"
     ]
    },
    {
     "name": "stdout",
     "output_type": "stream",
     "text": [
      "epoch: 2, [batch: 210 / 525], examples_per_second: 10722.5345, train_label_loss: 1.9511, \n"
     ]
    },
    {
     "name": "stdout",
     "output_type": "stream",
     "text": [
      "epoch: 2, [batch: 263 / 525], examples_per_second: 10593.8378, train_label_loss: 2.0411, \n"
     ]
    },
    {
     "name": "stdout",
     "output_type": "stream",
     "text": [
      "epoch: 2, [batch: 315 / 525], examples_per_second: 10711.5334, train_label_loss: 1.9164, \n"
     ]
    },
    {
     "name": "stdout",
     "output_type": "stream",
     "text": [
      "epoch: 2, [batch: 367 / 525], examples_per_second: 10480.2530, train_label_loss: 1.9208, \n"
     ]
    },
    {
     "name": "stdout",
     "output_type": "stream",
     "text": [
      "epoch: 2, [batch: 420 / 525], examples_per_second: 10526.5652, train_label_loss: 1.8045, \n"
     ]
    },
    {
     "name": "stdout",
     "output_type": "stream",
     "text": [
      "epoch: 2, [batch: 472 / 525], examples_per_second: 10730.4558, train_label_loss: 1.7720, \n"
     ]
    },
    {
     "name": "stdout",
     "output_type": "stream",
     "text": [
      "=============================================================\n",
      "epoch: 2, source_val_acc_label: 0.3784, source_val_label_loss: 1.7796, target_val_acc_label: 0.0818, target_val_label_loss: 5.0584, \n",
      "=============================================================\n"
     ]
    },
    {
     "name": "stdout",
     "output_type": "stream",
     "text": [
      "epoch: 3, [batch: 1 / 525], examples_per_second: 123.7591, train_label_loss: 1.6612, \n"
     ]
    },
    {
     "name": "stdout",
     "output_type": "stream",
     "text": [
      "epoch: 3, [batch: 53 / 525], examples_per_second: 10476.8116, train_label_loss: 1.6782, \n"
     ]
    },
    {
     "name": "stdout",
     "output_type": "stream",
     "text": [
      "epoch: 3, [batch: 105 / 525], examples_per_second: 10708.3944, train_label_loss: 1.6335, \n"
     ]
    },
    {
     "name": "stdout",
     "output_type": "stream",
     "text": [
      "epoch: 3, [batch: 158 / 525], examples_per_second: 10594.1691, train_label_loss: 1.5794, \n"
     ]
    },
    {
     "name": "stdout",
     "output_type": "stream",
     "text": [
      "epoch: 3, [batch: 210 / 525], examples_per_second: 10782.7722, train_label_loss: 1.4974, \n"
     ]
    },
    {
     "name": "stdout",
     "output_type": "stream",
     "text": [
      "epoch: 3, [batch: 263 / 525], examples_per_second: 10735.7410, train_label_loss: 1.5192, \n"
     ]
    },
    {
     "name": "stdout",
     "output_type": "stream",
     "text": [
      "epoch: 3, [batch: 315 / 525], examples_per_second: 10601.9055, train_label_loss: 1.4663, \n"
     ]
    },
    {
     "name": "stdout",
     "output_type": "stream",
     "text": [
      "epoch: 3, [batch: 367 / 525], examples_per_second: 10631.3622, train_label_loss: 1.5710, \n"
     ]
    },
    {
     "name": "stdout",
     "output_type": "stream",
     "text": [
      "epoch: 3, [batch: 420 / 525], examples_per_second: 10656.0782, train_label_loss: 1.6885, \n"
     ]
    },
    {
     "name": "stdout",
     "output_type": "stream",
     "text": [
      "epoch: 3, [batch: 472 / 525], examples_per_second: 10621.6787, train_label_loss: 1.4479, \n"
     ]
    },
    {
     "name": "stdout",
     "output_type": "stream",
     "text": [
      "=============================================================\n",
      "epoch: 3, source_val_acc_label: 0.4958, source_val_label_loss: 1.4220, target_val_acc_label: 0.0871, target_val_label_loss: 6.0286, \n",
      "=============================================================\n"
     ]
    },
    {
     "name": "stdout",
     "output_type": "stream",
     "text": [
      "epoch: 4, [batch: 1 / 525], examples_per_second: 123.8554, train_label_loss: 1.2669, \n"
     ]
    },
    {
     "name": "stdout",
     "output_type": "stream",
     "text": [
      "epoch: 4, [batch: 53 / 525], examples_per_second: 10397.2405, train_label_loss: 1.4153, \n"
     ]
    },
    {
     "name": "stdout",
     "output_type": "stream",
     "text": [
      "epoch: 4, [batch: 105 / 525], examples_per_second: 10613.3159, train_label_loss: 1.3515, \n"
     ]
    },
    {
     "name": "stdout",
     "output_type": "stream",
     "text": [
      "epoch: 4, [batch: 158 / 525], examples_per_second: 10556.7387, train_label_loss: 1.4907, \n"
     ]
    },
    {
     "name": "stdout",
     "output_type": "stream",
     "text": [
      "epoch: 4, [batch: 210 / 525], examples_per_second: 10670.9709, train_label_loss: 1.2383, \n"
     ]
    },
    {
     "name": "stdout",
     "output_type": "stream",
     "text": [
      "epoch: 4, [batch: 263 / 525], examples_per_second: 10697.9650, train_label_loss: 1.1780, \n"
     ]
    },
    {
     "name": "stdout",
     "output_type": "stream",
     "text": [
      "epoch: 4, [batch: 315 / 525], examples_per_second: 10697.9469, train_label_loss: 1.1401, \n"
     ]
    },
    {
     "name": "stdout",
     "output_type": "stream",
     "text": [
      "epoch: 4, [batch: 367 / 525], examples_per_second: 10657.4057, train_label_loss: 1.2753, \n"
     ]
    },
    {
     "name": "stdout",
     "output_type": "stream",
     "text": [
      "epoch: 4, [batch: 420 / 525], examples_per_second: 10688.4330, train_label_loss: 1.1083, \n"
     ]
    },
    {
     "name": "stdout",
     "output_type": "stream",
     "text": [
      "epoch: 4, [batch: 472 / 525], examples_per_second: 10694.3980, train_label_loss: 1.1582, \n"
     ]
    },
    {
     "name": "stdout",
     "output_type": "stream",
     "text": [
      "=============================================================\n",
      "epoch: 4, source_val_acc_label: 0.5394, source_val_label_loss: 1.2954, target_val_acc_label: 0.0777, target_val_label_loss: 6.6597, \n",
      "=============================================================\n"
     ]
    },
    {
     "name": "stdout",
     "output_type": "stream",
     "text": [
      "epoch: 5, [batch: 1 / 525], examples_per_second: 124.4705, train_label_loss: 1.1072, \n"
     ]
    },
    {
     "name": "stdout",
     "output_type": "stream",
     "text": [
      "epoch: 5, [batch: 53 / 525], examples_per_second: 10388.9567, train_label_loss: 1.0652, \n"
     ]
    },
    {
     "name": "stdout",
     "output_type": "stream",
     "text": [
      "epoch: 5, [batch: 105 / 525], examples_per_second: 10829.4057, train_label_loss: 1.2674, \n"
     ]
    },
    {
     "name": "stdout",
     "output_type": "stream",
     "text": [
      "epoch: 5, [batch: 158 / 525], examples_per_second: 10587.1683, train_label_loss: 1.0066, \n"
     ]
    },
    {
     "name": "stdout",
     "output_type": "stream",
     "text": [
      "epoch: 5, [batch: 210 / 525], examples_per_second: 10491.5173, train_label_loss: 0.9403, \n"
     ]
    },
    {
     "name": "stdout",
     "output_type": "stream",
     "text": [
      "epoch: 5, [batch: 263 / 525], examples_per_second: 10418.5173, train_label_loss: 1.0641, \n"
     ]
    },
    {
     "name": "stdout",
     "output_type": "stream",
     "text": [
      "epoch: 5, [batch: 315 / 525], examples_per_second: 10642.9782, train_label_loss: 1.0540, \n"
     ]
    },
    {
     "name": "stdout",
     "output_type": "stream",
     "text": [
      "epoch: 5, [batch: 367 / 525], examples_per_second: 10484.9448, train_label_loss: 0.8386, \n"
     ]
    },
    {
     "name": "stdout",
     "output_type": "stream",
     "text": [
      "epoch: 5, [batch: 420 / 525], examples_per_second: 10767.6652, train_label_loss: 0.9826, \n"
     ]
    },
    {
     "name": "stdout",
     "output_type": "stream",
     "text": [
      "epoch: 5, [batch: 472 / 525], examples_per_second: 10546.3030, train_label_loss: 0.9429, \n"
     ]
    },
    {
     "name": "stdout",
     "output_type": "stream",
     "text": [
      "=============================================================\n",
      "epoch: 5, source_val_acc_label: 0.6175, source_val_label_loss: 1.1008, target_val_acc_label: 0.0775, target_val_label_loss: 7.6871, \n",
      "=============================================================\n"
     ]
    },
    {
     "name": "stdout",
     "output_type": "stream",
     "text": [
      "Patience (3) exhausted\n"
     ]
    }
   ],
   "source": [
    "jig = Vanilla_Train_Eval_Test_Jig(\n",
    "    model=model,\n",
    "    path_to_best_model=p.BEST_MODEL_PATH,\n",
    "    device=p.device,\n",
    "    label_loss_object=torch.nn.NLLLoss(),\n",
    ")\n",
    "\n",
    "jig.train(\n",
    "    train_iterable=datasets.source.processed.train,\n",
    "    source_val_iterable=datasets.source.processed.val,\n",
    "    target_val_iterable=datasets.target.processed.val,\n",
    "    patience=p.patience,\n",
    "    num_epochs=p.n_epoch,\n",
    "    num_logs_per_epoch=p.NUM_LOGS_PER_EPOCH,\n",
    "    criteria_for_best=p.criteria_for_best\n",
    ")"
   ]
  },
  {
   "cell_type": "code",
   "execution_count": 14,
   "id": "4bc2ac17",
   "metadata": {
    "execution": {
     "iopub.execute_input": "2022-03-25T23:02:41.646123Z",
     "iopub.status.busy": "2022-03-25T23:02:41.645752Z",
     "iopub.status.idle": "2022-03-25T23:02:41.647823Z",
     "shell.execute_reply": "2022-03-25T23:02:41.648128Z"
    },
    "papermill": {
     "duration": 0.037353,
     "end_time": "2022-03-25T23:02:41.648210",
     "exception": false,
     "start_time": "2022-03-25T23:02:41.610857",
     "status": "completed"
    },
    "tags": []
   },
   "outputs": [],
   "source": [
    "total_experiment_time_secs = time.time() - start_time_secs"
   ]
  },
  {
   "cell_type": "code",
   "execution_count": 15,
   "id": "cae88f23",
   "metadata": {
    "execution": {
     "iopub.execute_input": "2022-03-25T23:02:41.720455Z",
     "iopub.status.busy": "2022-03-25T23:02:41.719032Z",
     "iopub.status.idle": "2022-03-25T23:02:53.675856Z",
     "shell.execute_reply": "2022-03-25T23:02:53.674926Z"
    },
    "papermill": {
     "duration": 11.995503,
     "end_time": "2022-03-25T23:02:53.676045",
     "exception": false,
     "start_time": "2022-03-25T23:02:41.680542",
     "status": "completed"
    },
    "tags": []
   },
   "outputs": [],
   "source": [
    "source_test_label_accuracy, source_test_label_loss = jig.test(datasets.source.processed.test)\n",
    "target_test_label_accuracy, target_test_label_loss = jig.test(datasets.target.processed.test)\n",
    "\n",
    "source_val_label_accuracy, source_val_label_loss = jig.test(datasets.source.processed.val)\n",
    "target_val_label_accuracy, target_val_label_loss = jig.test(datasets.target.processed.val)\n",
    "\n",
    "history = jig.get_history()\n",
    "\n",
    "total_epochs_trained = len(history[\"epoch_indices\"])\n",
    "\n",
    "val_dl = wrap_in_dataloader(p, Sequence_Aggregator((datasets.source.original.val, datasets.target.original.val)))\n",
    "\n",
    "confusion = confusion_by_domain_over_dataloader(model, p.device, val_dl, forward_uses_domain=False)\n",
    "per_domain_accuracy = per_domain_accuracy_from_confusion(confusion)\n",
    "\n",
    "# Add a key to per_domain_accuracy for if it was a source domain\n",
    "for domain, accuracy in per_domain_accuracy.items():\n",
    "    per_domain_accuracy[domain] = {\n",
    "        \"accuracy\": accuracy,\n",
    "        \"source?\": domain in p.domains_source\n",
    "    }\n",
    "\n",
    "# Do an independent accuracy assesment JUST TO BE SURE!\n",
    "# _source_test_label_accuracy = independent_accuracy_assesment(model, datasets.source.processed.test, p.device)\n",
    "# _target_test_label_accuracy = independent_accuracy_assesment(model, datasets.target.processed.test, p.device)\n",
    "# _source_val_label_accuracy = independent_accuracy_assesment(model, datasets.source.processed.val, p.device)\n",
    "# _target_val_label_accuracy = independent_accuracy_assesment(model, datasets.target.processed.val, p.device)\n",
    "\n",
    "# assert(_source_test_label_accuracy == source_test_label_accuracy)\n",
    "# assert(_target_test_label_accuracy == target_test_label_accuracy)\n",
    "# assert(_source_val_label_accuracy == source_val_label_accuracy)\n",
    "# assert(_target_val_label_accuracy == target_val_label_accuracy)\n",
    "\n",
    "###################################\n",
    "# Write out the results\n",
    "###################################\n",
    "\n",
    "experiment = {\n",
    "    \"experiment_name\": p.experiment_name,\n",
    "    \"parameters\": p,\n",
    "    \"results\": {\n",
    "        \"source_test_label_accuracy\": source_test_label_accuracy,\n",
    "        \"source_test_label_loss\": source_test_label_loss,\n",
    "        \"target_test_label_accuracy\": target_test_label_accuracy,\n",
    "        \"target_test_label_loss\": target_test_label_loss,\n",
    "        \"source_val_label_accuracy\": source_val_label_accuracy,\n",
    "        \"source_val_label_loss\": source_val_label_loss,\n",
    "        \"target_val_label_accuracy\": target_val_label_accuracy,\n",
    "        \"target_val_label_loss\": target_val_label_loss,\n",
    "        \"total_epochs_trained\": total_epochs_trained,\n",
    "        \"total_experiment_time_secs\": total_experiment_time_secs,\n",
    "        \"confusion\": confusion,\n",
    "        \"per_domain_accuracy\": per_domain_accuracy,\n",
    "    },\n",
    "    \"history\": history,\n",
    "    \"dataset_metrics\": get_dataset_metrics(datasets, \"cnn\"),\n",
    "}"
   ]
  },
  {
   "cell_type": "code",
   "execution_count": 16,
   "id": "74c318cf",
   "metadata": {
    "execution": {
     "iopub.execute_input": "2022-03-25T23:02:53.770790Z",
     "iopub.status.busy": "2022-03-25T23:02:53.765151Z",
     "iopub.status.idle": "2022-03-25T23:02:53.950609Z",
     "shell.execute_reply": "2022-03-25T23:02:53.951301Z"
    },
    "papermill": {
     "duration": 0.241162,
     "end_time": "2022-03-25T23:02:53.951489",
     "exception": false,
     "start_time": "2022-03-25T23:02:53.710327",
     "status": "completed"
    },
    "tags": []
   },
   "outputs": [
    {
     "data": {
      "text/plain": [
       "<AxesSubplot:title={'center':'Source Train Label Loss vs Source Val Label Loss'}, xlabel='Epoch'>"
      ]
     },
     "execution_count": 16,
     "metadata": {},
     "output_type": "execute_result"
    },
    {
     "data": {
      "image/png": "[encoded data removed]",
      "text/plain": [
       "<Figure size 1080x504 with 1 Axes>"
      ]
     },
     "metadata": {
      "needs_background": "light"
     },
     "output_type": "display_data"
    }
   ],
   "source": [
    "get_loss_curve(experiment)"
   ]
  },
  {
   "cell_type": "code",
   "execution_count": 17,
   "id": "59376601",
   "metadata": {
    "execution": {
     "iopub.execute_input": "2022-03-25T23:02:54.045053Z",
     "iopub.status.busy": "2022-03-25T23:02:54.044236Z",
     "iopub.status.idle": "2022-03-25T23:02:54.363517Z",
     "shell.execute_reply": "2022-03-25T23:02:54.363160Z"
    },
    "papermill": {
     "duration": 0.374594,
     "end_time": "2022-03-25T23:02:54.363617",
     "exception": false,
     "start_time": "2022-03-25T23:02:53.989023",
     "status": "completed"
    },
    "tags": []
   },
   "outputs": [
    {
     "data": {
      "text/plain": [
       "<AxesSubplot:title={'center':'Results'}>"
      ]
     },
     "execution_count": 17,
     "metadata": {},
     "output_type": "execute_result"
    },
    {
     "data": {
      "image/png": "[encoded data removed]",
      "text/plain": [
       "<Figure size 1080x504 with 1 Axes>"
      ]
     },
     "metadata": {
      "needs_background": "light"
     },
     "output_type": "display_data"
    }
   ],
   "source": [
    "get_results_table(experiment)"
   ]
  },
  {
   "cell_type": "code",
   "execution_count": 18,
   "id": "e80c5c98",
   "metadata": {
    "execution": {
     "iopub.execute_input": "2022-03-25T23:02:54.451119Z",
     "iopub.status.busy": "2022-03-25T23:02:54.450298Z",
     "iopub.status.idle": "2022-03-25T23:02:54.610518Z",
     "shell.execute_reply": "2022-03-25T23:02:54.609810Z"
    },
    "papermill": {
     "duration": 0.213963,
     "end_time": "2022-03-25T23:02:54.610701",
     "exception": false,
     "start_time": "2022-03-25T23:02:54.396738",
     "status": "completed"
    },
    "tags": []
   },
   "outputs": [
    {
     "data": {
      "text/plain": [
       "<AxesSubplot:title={'center':'Per Domain Accuracy'}, xlabel='domain'>"
      ]
     },
     "execution_count": 18,
     "metadata": {},
     "output_type": "execute_result"
    },
    {
     "data": {
      "image/png": "[encoded data removed]",
      "text/plain": [
       "<Figure size 1080x504 with 1 Axes>"
      ]
     },
     "metadata": {
      "needs_background": "light"
     },
     "output_type": "display_data"
    }
   ],
   "source": [
    "get_domain_accuracies(experiment)"
   ]
  },
  {
   "cell_type": "code",
   "execution_count": 19,
   "id": "086fdd10",
   "metadata": {
    "execution": {
     "iopub.execute_input": "2022-03-25T23:02:54.685636Z",
     "iopub.status.busy": "2022-03-25T23:02:54.685262Z",
     "iopub.status.idle": "2022-03-25T23:02:54.689278Z",
     "shell.execute_reply": "2022-03-25T23:02:54.689613Z"
    },
    "papermill": {
     "duration": 0.042566,
     "end_time": "2022-03-25T23:02:54.689805",
     "exception": false,
     "start_time": "2022-03-25T23:02:54.647239",
     "status": "completed"
    },
    "tags": []
   },
   "outputs": [
    {
     "name": "stdout",
     "output_type": "stream",
     "text": [
      "Source Test Label Accuracy: 0.256875 Target Test Label Accuracy: 0.09166666666666666\n",
      "Source Val Label Accuracy: 0.25583333333333336 Target Val Label Accuracy: 0.08983333333333333\n"
     ]
    }
   ],
   "source": [
    "print(\"Source Test Label Accuracy:\", experiment[\"results\"][\"source_test_label_accuracy\"], \"Target Test Label Accuracy:\", experiment[\"results\"][\"target_test_label_accuracy\"])\n",
    "print(\"Source Val Label Accuracy:\", experiment[\"results\"][\"source_val_label_accuracy\"], \"Target Val Label Accuracy:\", experiment[\"results\"][\"target_val_label_accuracy\"])"
   ]
  },
  {
   "cell_type": "code",
   "execution_count": 20,
   "id": "9f450536",
   "metadata": {
    "execution": {
     "iopub.execute_input": "2022-03-25T23:02:54.766309Z",
     "iopub.status.busy": "2022-03-25T23:02:54.765754Z",
     "iopub.status.idle": "2022-03-25T23:02:54.769964Z",
     "shell.execute_reply": "2022-03-25T23:02:54.769350Z"
    },
    "papermill": {
     "duration": 0.041925,
     "end_time": "2022-03-25T23:02:54.770073",
     "exception": false,
     "start_time": "2022-03-25T23:02:54.728148",
     "status": "completed"
    },
    "tags": [
     "experiment_json"
    ]
   },
   "outputs": [
    {
     "data": {
      "text/plain": [
       "'{\"experiment_name\": \"cnn_1:oracle.run1_limited\", \"parameters\": {\"experiment_name\": \"cnn_1:oracle.run1_limited\", \"labels\": [\"3123D52\", \"3123D65\", \"3123D79\", \"3123D80\", \"3123D54\", \"3123D70\", \"3123D7B\", \"3123D89\", \"3123D58\", \"3123D76\", \"3123D7D\", \"3123EFE\", \"3123D64\", \"3123D78\", \"3123D7E\", \"3124E4A\"], \"domains_source\": [8, 32, 50], \"domains_target\": [14, 20, 26, 38, 44], \"pickle_name_source\": \"oracle.Run1_10kExamples_stratified_ds.2022A.pkl\", \"pickle_name_target\": \"oracle.Run1_10kExamples_stratified_ds.2022A.pkl\", \"device\": \"cuda\", \"lr\": 0.0001, \"batch_size\": 128, \"normalize_source\": false, \"normalize_target\": false, \"num_examples_per_domain_per_label_source\": 2000, \"num_examples_per_domain_per_label_target\": 2000, \"torch_default_dtype\": \"torch.float32\", \"n_epoch\": 50, \"patience\": 3, \"criteria_for_best\": \"target_accuracy\", \"x_net\": [{\"class\": \"nnReshape\", \"kargs\": {\"shape\": [-1, 1, 2, 256]}}, {\"class\": \"Conv2d\", \"kargs\": {\"in_channels\": 1, \"out_channels\": 256, \"kernel_size\": [1, 7], \"bias\": false, \"padding\": [0, 3]}}, {\"class\": \"ReLU\", \"kargs\": {\"inplace\": true}}, {\"class\": \"BatchNorm2d\", \"kargs\": {\"num_features\": 256}}, {\"class\": \"Conv2d\", \"kargs\": {\"in_channels\": 256, \"out_channels\": 80, \"kernel_size\": [2, 7], \"bias\": true, \"padding\": [0, 3]}}, {\"class\": \"ReLU\", \"kargs\": {\"inplace\": true}}, {\"class\": \"BatchNorm2d\", \"kargs\": {\"num_features\": 80}}, {\"class\": \"Flatten\", \"kargs\": {}}, {\"class\": \"Linear\", \"kargs\": {\"in_features\": 20480, \"out_features\": 256}}, {\"class\": \"ReLU\", \"kargs\": {\"inplace\": true}}, {\"class\": \"BatchNorm1d\", \"kargs\": {\"num_features\": 256}}, {\"class\": \"Linear\", \"kargs\": {\"in_features\": 256, \"out_features\": 16}}], \"NUM_LOGS_PER_EPOCH\": 10, \"BEST_MODEL_PATH\": \"./best_model.pth\", \"dataset_seed\": 154325, \"seed\": 154325}, \"results\": {\"source_test_label_accuracy\": 0.256875, \"source_test_label_loss\": 2.14798025852811, \"target_test_label_accuracy\": 0.09166666666666666, \"target_test_label_loss\": 4.032709276422541, \"source_val_label_accuracy\": 0.25583333333333336, \"source_val_label_loss\": 2.1494894692328126, \"target_val_label_accuracy\": 0.08983333333333333, \"target_val_label_loss\": 4.034850835800171, \"total_epochs_trained\": 5, \"total_experiment_time_secs\": 54.814491510391235, \"confusion\": {\"14\": {\"15\": {\"3\": 300}, \"7\": {\"3\": 300}, \"8\": {\"3\": 293, \"9\": 4, \"12\": 3}, \"11\": {\"15\": 30, \"1\": 80, \"8\": 10, \"5\": 64, \"7\": 35, \"6\": 36, \"13\": 39, \"14\": 3, \"10\": 1, \"4\": 2}, \"9\": {\"12\": 147, \"3\": 66, \"15\": 72, \"2\": 15}, \"6\": {\"3\": 300}, \"2\": {\"3\": 300}, \"4\": {\"3\": 299, \"12\": 1}, \"3\": {\"3\": 299, \"9\": 1}, \"14\": {\"3\": 300}, \"1\": {\"3\": 235, \"15\": 56, \"12\": 5, \"2\": 4}, \"0\": {\"3\": 285, \"9\": 14, \"12\": 1}, \"5\": {\"3\": 300}, \"12\": {\"9\": 252, \"3\": 35, \"12\": 13}, \"10\": {\"12\": 35, \"3\": 260, \"15\": 3, \"2\": 2}, \"13\": {\"3\": 298, \"9\": 2}}, \"8\": {\"9\": {\"9\": 295, \"6\": 4, \"10\": 1}, \"5\": {\"1\": 165, \"5\": 63, \"10\": 45, \"15\": 19, \"13\": 8}, \"13\": {\"13\": 43, \"5\": 174, \"1\": 50, \"10\": 12, \"15\": 19, \"7\": 2}, \"4\": {\"14\": 35, \"1\": 160, \"8\": 70, \"6\": 24, \"4\": 5, \"7\": 2, \"5\": 4}, \"14\": {\"8\": 39, \"14\": 197, \"0\": 10, \"1\": 19, \"6\": 12, \"4\": 22, \"7\": 1}, \"15\": {\"15\": 249, \"12\": 47, \"3\": 1, \"2\": 3}, \"1\": {\"1\": 246, \"13\": 7, \"5\": 33, \"10\": 11, \"8\": 1, \"14\": 1, \"6\": 1}, \"3\": {\"3\": 260, \"12\": 37, \"9\": 3}, \"7\": {\"1\": 130, \"10\": 13, \"5\": 120, \"13\": 29, \"6\": 3, \"7\": 5}, \"12\": {\"15\": 282, \"12\": 18}, \"6\": {\"1\": 213, \"13\": 9, \"5\": 51, \"6\": 10, \"7\": 10, \"10\": 6, \"8\": 1}, \"8\": {\"14\": 38, \"8\": 67, \"1\": 150, \"4\": 7, \"6\": 26, \"5\": 6, \"7\": 6}, \"11\": {\"1\": 234, \"8\": 28, \"14\": 14, \"5\": 10, \"6\": 8, \"7\": 2, \"10\": 3, \"13\": 1}, \"0\": {\"0\": 300}, \"10\": {\"1\": 152, \"10\": 26, \"5\": 101, \"13\": 13, \"7\": 3, \"15\": 3, \"6\": 2}, \"2\": {\"12\": 113, \"3\": 77, \"15\": 107, \"2\": 2, \"9\": 1}}, \"20\": {\"9\": {\"15\": 292, \"12\": 8}, \"5\": {\"15\": 274, \"12\": 24, \"2\": 2}, \"14\": {\"15\": 260, \"12\": 25, \"3\": 14, \"2\": 1}, \"11\": {\"3\": 297, \"12\": 3}, \"8\": {\"15\": 207, \"2\": 8, \"12\": 66, \"3\": 19}, \"3\": {\"12\": 40, \"15\": 258, \"2\": 2}, \"15\": {\"15\": 295, \"12\": 4, \"2\": 1}, \"4\": {\"15\": 299, \"12\": 1}, \"2\": {\"15\": 298, \"12\": 2}, \"7\": {\"15\": 298, \"12\": 2}, \"10\": {\"15\": 300}, \"6\": {\"15\": 300}, \"12\": {\"15\": 295, \"12\": 5}, \"13\": {\"15\": 299, \"12\": 1}, \"1\": {\"15\": 279, \"12\": 20, \"2\": 1}, \"0\": {\"12\": 131, \"15\": 26, \"3\": 136, \"9\": 5, \"2\": 2}}, \"38\": {\"8\": {\"15\": 209, \"7\": 91}, \"3\": {\"7\": 300}, \"13\": {\"7\": 300}, \"15\": {\"15\": 203, \"1\": 33, \"8\": 58, \"13\": 6}, \"5\": {\"15\": 234, \"7\": 65, \"8\": 1}, \"0\": {\"7\": 300}, \"9\": {\"7\": 219, \"15\": 81}, \"7\": {\"7\": 299, \"15\": 1}, \"12\": {\"15\": 300}, \"6\": {\"2\": 175, \"13\": 105, \"8\": 4, \"14\": 16}, \"4\": {\"7\": 300}, \"1\": {\"2\": 149, \"14\": 7, \"13\": 57, \"8\": 29, \"1\": 58}, \"10\": {\"7\": 300}, \"11\": {\"7\": 300}, \"2\": {\"7\": 295, \"15\": 5}, \"14\": {\"7\": 300}}, \"50\": {\"10\": {\"1\": 295, \"8\": 4, \"2\": 1}, \"0\": {\"2\": 200, \"1\": 69, \"0\": 13, \"10\": 16, \"14\": 2}, \"15\": {\"7\": 81, \"15\": 219}, \"9\": {\"7\": 116, \"15\": 184}, \"7\": {\"7\": 300}, \"4\": {\"7\": 298, \"15\": 2}, \"14\": {\"2\": 297, \"14\": 3}, \"1\": {\"8\": 82, \"15\": 143, \"1\": 27, \"13\": 47, \"2\": 1}, \"3\": {\"15\": 298, \"7\": 2}, \"13\": {\"15\": 277, \"8\": 15, \"1\": 8}, \"12\": {\"15\": 280, \"7\": 20}, \"5\": {\"7\": 203, \"15\": 97}, \"6\": {\"15\": 257, \"7\": 43}, \"8\": {\"1\": 296, \"8\": 4}, \"2\": {\"2\": 271, \"14\": 2, \"0\": 5, \"1\": 1, \"10\": 21}, \"11\": {\"15\": 300}}, \"26\": {\"15\": {\"3\": 125, \"9\": 174, \"12\": 1}, \"13\": {\"9\": 206, \"3\": 92, \"6\": 1, \"12\": 1}, \"4\": {\"3\": 240, \"9\": 56, \"12\": 4}, \"14\": {\"3\": 152, \"9\": 147, \"12\": 1}, \"5\": {\"9\": 162, \"3\": 134, \"2\": 4}, \"9\": {\"9\": 168, \"3\": 132}, \"1\": {\"3\": 169, \"9\": 121, \"2\": 10}, \"11\": {\"9\": 221, \"10\": 71, \"2\": 6, \"6\": 2}, \"12\": {\"9\": 288, \"6\": 9, \"3\": 3}, \"0\": {\"9\": 158, \"3\": 137, \"6\": 3, \"12\": 2}, \"2\": {\"3\": 205, \"9\": 95}, \"6\": {\"3\": 99, \"2\": 2, \"9\": 199}, \"3\": {\"3\": 244, \"9\": 56}, \"8\": {\"9\": 172, \"3\": 124, \"6\": 2, \"12\": 2}, \"7\": {\"3\": 198, \"9\": 102}, \"10\": {\"9\": 194, \"3\": 105, \"6\": 1}}, \"44\": {\"1\": {\"15\": 299, \"7\": 1}, \"7\": {\"7\": 299, \"15\": 1}, \"5\": {\"7\": 172, \"15\": 128}, \"9\": {\"7\": 270, \"15\": 30}, \"12\": {\"13\": 259, \"3\": 6, \"15\": 14, \"14\": 10, \"2\": 11}, \"3\": {\"13\": 268, \"3\": 3, \"15\": 18, \"2\": 4, \"14\": 7}, \"14\": {\"7\": 170, \"15\": 130}, \"13\": {\"7\": 300}, \"2\": {\"15\": 290, \"7\": 10}, \"6\": {\"7\": 300}, \"11\": {\"7\": 300}, \"0\": {\"15\": 292, \"8\": 8}, \"10\": {\"7\": 281, \"15\": 19}, \"4\": {\"7\": 203, \"15\": 97}, \"15\": {\"15\": 265, \"7\": 35}, \"8\": {\"15\": 287, \"7\": 8, \"8\": 5}}, \"32\": {\"2\": {\"2\": 64, \"13\": 210, \"14\": 23, \"8\": 2, \"15\": 1}, \"14\": {\"15\": 219, \"2\": 2, \"13\": 61, \"14\": 15, \"8\": 1, \"3\": 2}, \"6\": {\"6\": 36, \"9\": 218, \"10\": 46}, \"10\": {\"10\": 300}, \"4\": {\"13\": 162, \"14\": 30, \"2\": 108}, \"1\": {\"1\": 300}, \"0\": {\"15\": 288, \"13\": 9, \"8\": 2, \"3\": 1}, \"7\": {\"15\": 299, \"7\": 1}, \"12\": {\"2\": 170, \"10\": 118, \"9\": 11, \"3\": 1}, \"9\": {\"2\": 296, \"3\": 1, \"14\": 2, \"9\": 1}, \"13\": {\"2\": 246, \"13\": 43, \"14\": 10, \"3\": 1}, \"3\": {\"2\": 201, \"13\": 89, \"14\": 10}, \"8\": {\"15\": 257, \"13\": 42, \"3\": 1}, \"15\": {\"15\": 300}, \"11\": {\"2\": 252, \"3\": 46, \"14\": 1, \"11\": 1}, \"5\": {\"15\": 296, \"13\": 4}}}, \"per_domain_accuracy\": {\"14\": {\"accuracy\": 0.065, \"source?\": false}, \"8\": {\"accuracy\": 0.3720833333333333, \"source?\": true}, \"20\": {\"accuracy\": 0.0625, \"source?\": false}, \"38\": {\"accuracy\": 0.11666666666666667, \"source?\": false}, \"50\": {\"accuracy\": 0.174375, \"source?\": true}, \"26\": {\"accuracy\": 0.08583333333333333, \"source?\": false}, \"44\": {\"accuracy\": 0.11916666666666667, \"source?\": false}, \"32\": {\"accuracy\": 0.22104166666666666, \"source?\": true}}}, \"history\": {\"epoch_indices\": [1, 2, 3, 4, 5], \"train_label_loss\": [2.3725790477934336, 1.9119671628588721, 1.5540914206277756, 1.2767407710211618, 1.0372773515610467], \"source_val_label_loss\": [2.149966845470192, 1.7795760346724925, 1.422042260127785, 1.29535330185848, 1.100773475866402], \"target_val_label_loss\": [4.033965746138958, 5.058358976181517, 6.0285689424961175, 6.6596801001974875, 7.687147873513242], \"source_val_acc_label\": [0.25583333333333336, 0.37840277777777775, 0.4957638888888889, 0.539375, 0.6175], \"target_val_acc_label\": [0.08983333333333333, 0.08175, 0.08708333333333333, 0.07770833333333334, 0.07745833333333334]}, \"dataset_metrics\": {\"source\": {\"train\": {\"n_unique_x\": 67200, \"n_unique_y\": 16, \"n_batch/episode\": 525}, \"val\": {\"n_unique_x\": 14400, \"n_unique_y\": 16, \"n_batch/episode\": 113}, \"test\": {\"n_unique_x\": 14400, \"n_unique_y\": 16, \"n_batch/episode\": 113}}, \"target\": {\"train\": {\"n_unique_x\": 112000, \"n_unique_y\": 16, \"n_batch/episode\": 875}, \"val\": {\"n_unique_x\": 24000, \"n_unique_y\": 16, \"n_batch/episode\": 188}, \"test\": {\"n_unique_x\": 24000, \"n_unique_y\": 16, \"n_batch/episode\": 188}}}}'"
      ]
     },
     "execution_count": 20,
     "metadata": {},
     "output_type": "execute_result"
    }
   ],
   "source": [
    "json.dumps(experiment)"
   ]
  }
 ],
 "metadata": {
  "celltoolbar": "Tags",
  "kernelspec": {
   "display_name": "Python 3 (ipykernel)",
   "language": "python",
   "name": "python3"
  },
  "language_info": {
   "codemirror_mode": {
    "name": "ipython",
    "version": 3
   },
   "file_extension": ".py",
   "mimetype": "text/x-python",
   "name": "python",
   "nbconvert_exporter": "python",
   "pygments_lexer": "ipython3",
   "version": "3.8.12"
  },
  "papermill": {
   "default_parameters": {},
   "duration": 72.502135,
   "end_time": "2022-03-25T23:02:56.822926",
   "environment_variables": {},
   "exception": null,
   "input_path": "/root/csc500-main/csc500-notebooks/templates/cnn_template.ipynb",
   "output_path": "trial.ipynb",
   "parameters": {
    "parameters": {
     "BEST_MODEL_PATH": "./best_model.pth",
     "NUM_LOGS_PER_EPOCH": 10,
     "batch_size": 128,
     "criteria_for_best": "target_accuracy",
     "dataset_seed": 154325,
     "device": "cuda",
     "domains_source": [
      8,
      32,
      50
     ],
     "domains_target": [
      14,
      20,
      26,
      38,
      44
     ],
     "experiment_name": "cnn_1:oracle.run1_limited",
     "labels": [
      "3123D52",
      "3123D65",
      "3123D79",
      "3123D80",
      "3123D54",
      "3123D70",
      "3123D7B",
      "3123D89",
      "3123D58",
      "3123D76",
      "3123D7D",
      "3123EFE",
      "3123D64",
      "3123D78",
      "3123D7E",
      "3124E4A"
     ],
     "lr": 0.0001,
     "n_epoch": 50,
     "normalize_source": false,
     "normalize_target": false,
     "num_examples_per_domain_per_label_source": 2000,
     "num_examples_per_domain_per_label_target": 2000,
     "patience": 3,
     "pickle_name_source": "oracle.Run1_10kExamples_stratified_ds.2022A.pkl",
     "pickle_name_target": "oracle.Run1_10kExamples_stratified_ds.2022A.pkl",
     "seed": 154325,
     "torch_default_dtype": "torch.float32",
     "x_net": [
      {
       "class": "nnReshape",
       "kargs": {
        "shape": [
         -1,
         1,
         2,
         256
        ]
       }
      },
      {
       "class": "Conv2d",
       "kargs": {
        "bias": false,
        "in_channels": 1,
        "kernel_size": [
         1,
         7
        ],
        "out_channels": 256,
        "padding": [
         0,
         3
        ]
       }
      },
      {
       "class": "ReLU",
       "kargs": {
        "inplace": true
       }
      },
      {
       "class": "BatchNorm2d",
       "kargs": {
        "num_features": 256
       }
      },
      {
       "class": "Conv2d",
       "kargs": {
        "bias": true,
        "in_channels": 256,
        "kernel_size": [
         2,
         7
        ],
        "out_channels": 80,
        "padding": [
         0,
         3
        ]
       }
      },
      {
       "class": "ReLU",
       "kargs": {
        "inplace": true
       }
      },
      {
       "class": "BatchNorm2d",
       "kargs": {
        "num_features": 80
       }
      },
      {
       "class": "Flatten",
       "kargs": {}
      },
      {
       "class": "Linear",
       "kargs": {
        "in_features": 20480,
        "out_features": 256
       }
      },
      {
       "class": "ReLU",
       "kargs": {
        "inplace": true
       }
      },
      {
       "class": "BatchNorm1d",
       "kargs": {
        "num_features": 256
       }
      },
      {
       "class": "Linear",
       "kargs": {
        "in_features": 256,
        "out_features": 16
       }
      }
     ]
    }
   },
   "start_time": "2022-03-25T23:01:44.320791",
   "version": "2.3.4"
  }
 },
 "nbformat": 4,
 "nbformat_minor": 5
}