{
 "cells": [
  {
   "cell_type": "code",
   "execution_count": 1,
   "id": "2324682e",
   "metadata": {
    "execution": {
     "iopub.execute_input": "2022-03-25T23:00:16.941309Z",
     "iopub.status.busy": "2022-03-25T23:00:16.940435Z",
     "iopub.status.idle": "2022-03-25T23:00:18.281234Z",
     "shell.execute_reply": "2022-03-25T23:00:18.280359Z"
    },
    "papermill": {
     "duration": 1.384085,
     "end_time": "2022-03-25T23:00:18.281425",
     "exception": false,
     "start_time": "2022-03-25T23:00:16.897340",
     "status": "completed"
    },
    "tags": []
   },
   "outputs": [],
   "source": [
    "import os, json, sys, time, random\n",
    "import numpy as np\n",
    "import torch\n",
    "from  easydict import EasyDict\n",
    "from math import floor\n",
    "from easydict import EasyDict\n",
    "\n",
    "from steves_utils.vanilla_train_eval_test_jig import  Vanilla_Train_Eval_Test_Jig\n",
    "\n",
    "from steves_utils.torch_utils import get_dataset_metrics, independent_accuracy_assesment\n",
    "from steves_models.configurable_vanilla import Configurable_Vanilla\n",
    "from steves_utils.torch_sequential_builder import build_sequential\n",
    "from steves_utils.lazy_map import Lazy_Map\n",
    "from steves_utils.sequence_aggregator import Sequence_Aggregator\n",
    "\n",
    "from steves_utils.stratified_dataset.traditional_accessor import Traditional_Accessor_Factory\n",
    "\n",
    "from steves_utils.cnn_do_report import (\n",
    "    get_loss_curve,\n",
    "    get_results_table,\n",
    "    get_parameters_table,\n",
    "    get_domain_accuracies,\n",
    ")\n",
    "\n",
    "from steves_utils.torch_utils import (\n",
    "    confusion_by_domain_over_dataloader,\n",
    "    independent_accuracy_assesment\n",
    ")\n",
    "\n",
    "from steves_utils.utils_v2 import (\n",
    "    per_domain_accuracy_from_confusion,\n",
    "    get_datasets_base_path\n",
    ")\n",
    "\n",
    "# from steves_utils.ptn_do_report import TBD"
   ]
  },
  {
   "cell_type": "code",
   "execution_count": 2,
   "id": "1b29e3fe",
   "metadata": {
    "execution": {
     "iopub.execute_input": "2022-03-25T23:00:18.318334Z",
     "iopub.status.busy": "2022-03-25T23:00:18.317948Z",
     "iopub.status.idle": "2022-03-25T23:00:18.320044Z",
     "shell.execute_reply": "2022-03-25T23:00:18.320349Z"
    },
    "papermill": {
     "duration": 0.021423,
     "end_time": "2022-03-25T23:00:18.320432",
     "exception": false,
     "start_time": "2022-03-25T23:00:18.299009",
     "status": "completed"
    },
    "tags": []
   },
   "outputs": [],
   "source": [
    "required_parameters = {\n",
    "    \"experiment_name\",\n",
    "    \"lr\",\n",
    "    \"device\",\n",
    "    \"dataset_seed\",\n",
    "    \"seed\",\n",
    "    \"labels\",\n",
    "    \"domains_target\",\n",
    "    \"domains_source\",\n",
    "    \"num_examples_per_domain_per_label_source\",\n",
    "    \"num_examples_per_domain_per_label_target\",\n",
    "    \"batch_size\",\n",
    "    \"n_epoch\",\n",
    "    \"patience\",\n",
    "    \"criteria_for_best\",\n",
    "    \"normalize_source\",\n",
    "    \"normalize_target\",\n",
    "    \"x_net\",\n",
    "    \"NUM_LOGS_PER_EPOCH\",\n",
    "    \"BEST_MODEL_PATH\",\n",
    "    \"pickle_name_source\",\n",
    "    \"pickle_name_target\",\n",
    "    \"torch_default_dtype\",\n",
    "}"
   ]
  },
  {
   "cell_type": "code",
   "execution_count": 3,
   "id": "670b5fb8",
   "metadata": {
    "execution": {
     "iopub.execute_input": "2022-03-25T23:00:18.371039Z",
     "iopub.status.busy": "2022-03-25T23:00:18.370147Z",
     "iopub.status.idle": "2022-03-25T23:00:18.377280Z",
     "shell.execute_reply": "2022-03-25T23:00:18.376461Z"
    },
    "papermill": {
     "duration": 0.037234,
     "end_time": "2022-03-25T23:00:18.377435",
     "exception": false,
     "start_time": "2022-03-25T23:00:18.340201",
     "status": "completed"
    },
    "tags": [
     "parameters"
    ]
   },
   "outputs": [],
   "source": [
    "from steves_utils.ORACLE.utils_v2 import (\n",
    "    ALL_SERIAL_NUMBERS,\n",
    "    ALL_DISTANCES_FEET_NARROWED,\n",
    ")\n",
    "\n",
    "standalone_parameters = {}\n",
    "standalone_parameters[\"experiment_name\"] = \"MANUAL CORES CNN\"\n",
    "standalone_parameters[\"lr\"] = 0.0001\n",
    "standalone_parameters[\"device\"] = \"cuda\"\n",
    "\n",
    "standalone_parameters[\"dataset_seed\"] = 1337\n",
    "standalone_parameters[\"seed\"] = 1337\n",
    "standalone_parameters[\"labels\"] = ALL_SERIAL_NUMBERS\n",
    "\n",
    "standalone_parameters[\"domains_source\"] = [8,32,50]\n",
    "standalone_parameters[\"domains_target\"] = [14,20,26,38,44,]\n",
    "\n",
    "standalone_parameters[\"num_examples_per_domain_per_label_source\"]=-1\n",
    "standalone_parameters[\"num_examples_per_domain_per_label_target\"]=-1\n",
    "\n",
    "standalone_parameters[\"pickle_name_source\"] = \"oracle.Run1_framed_2000Examples_stratified_ds.2022A.pkl\"\n",
    "standalone_parameters[\"pickle_name_target\"] = \"oracle.Run2_framed_2000Examples_stratified_ds.2022A.pkl\"\n",
    "\n",
    "standalone_parameters[\"torch_default_dtype\"] = \"torch.float32\" \n",
    "\n",
    "standalone_parameters[\"batch_size\"]=128\n",
    "\n",
    "standalone_parameters[\"n_epoch\"] = 3\n",
    "\n",
    "standalone_parameters[\"patience\"] = 10\n",
    "\n",
    "standalone_parameters[\"criteria_for_best\"] = \"target_accuracy\"\n",
    "standalone_parameters[\"normalize_source\"] = False\n",
    "standalone_parameters[\"normalize_target\"] = False\n",
    "\n",
    "standalone_parameters[\"x_net\"] =     [\n",
    "    {\"class\": \"nnReshape\", \"kargs\": {\"shape\":[-1, 1, 2, 256]}},\n",
    "    {\"class\": \"Conv2d\", \"kargs\": { \"in_channels\":1, \"out_channels\":256, \"kernel_size\":(1,7), \"bias\":False, \"padding\":(0,3), },},\n",
    "    {\"class\": \"ReLU\", \"kargs\": {\"inplace\": True}},\n",
    "    {\"class\": \"BatchNorm2d\", \"kargs\": {\"num_features\":256}},\n",
    "\n",
    "    {\"class\": \"Conv2d\", \"kargs\": { \"in_channels\":256, \"out_channels\":80, \"kernel_size\":(2,7), \"bias\":True, \"padding\":(0,3), },},\n",
    "    {\"class\": \"ReLU\", \"kargs\": {\"inplace\": True}},\n",
    "    {\"class\": \"BatchNorm2d\", \"kargs\": {\"num_features\":80}},\n",
    "    {\"class\": \"Flatten\", \"kargs\": {}},\n",
    "\n",
    "    {\"class\": \"Linear\", \"kargs\": {\"in_features\": 80*256, \"out_features\": 256}}, # 80 units per IQ pair\n",
    "    {\"class\": \"ReLU\", \"kargs\": {\"inplace\": True}},\n",
    "    {\"class\": \"BatchNorm1d\", \"kargs\": {\"num_features\":256}},\n",
    "\n",
    "    {\"class\": \"Linear\", \"kargs\": {\"in_features\": 256, \"out_features\": len(standalone_parameters[\"labels\"])}},\n",
    "]\n",
    "\n",
    "standalone_parameters[\"NUM_LOGS_PER_EPOCH\"] = 10\n",
    "standalone_parameters[\"BEST_MODEL_PATH\"] = \"./best_model.pth\""
   ]
  },
  {
   "cell_type": "code",
   "execution_count": 4,
   "id": "bc56df45",
   "metadata": {
    "execution": {
     "iopub.execute_input": "2022-03-25T23:00:18.424488Z",
     "iopub.status.busy": "2022-03-25T23:00:18.423590Z",
     "iopub.status.idle": "2022-03-25T23:00:18.426538Z",
     "shell.execute_reply": "2022-03-25T23:00:18.425724Z"
    },
    "papermill": {
     "duration": 0.029972,
     "end_time": "2022-03-25T23:00:18.426694",
     "exception": false,
     "start_time": "2022-03-25T23:00:18.396722",
     "status": "completed"
    },
    "tags": [
     "injected-parameters"
    ]
   },
   "outputs": [],
   "source": [
    "# Parameters\n",
    "parameters = {\n",
    "    \"experiment_name\": \"cnn_1:oracle.run1_limited\",\n",
    "    \"labels\": [\n",
    "        \"3123D52\",\n",
    "        \"3123D65\",\n",
    "        \"3123D79\",\n",
    "        \"3123D80\",\n",
    "        \"3123D54\",\n",
    "        \"3123D70\",\n",
    "        \"3123D7B\",\n",
    "        \"3123D89\",\n",
    "        \"3123D58\",\n",
    "        \"3123D76\",\n",
    "        \"3123D7D\",\n",
    "        \"3123EFE\",\n",
    "        \"3123D64\",\n",
    "        \"3123D78\",\n",
    "        \"3123D7E\",\n",
    "        \"3124E4A\",\n",
    "    ],\n",
    "    \"domains_source\": [8, 32, 50],\n",
    "    \"domains_target\": [14, 20, 26, 38, 44],\n",
    "    \"pickle_name_source\": \"oracle.Run1_10kExamples_stratified_ds.2022A.pkl\",\n",
    "    \"pickle_name_target\": \"oracle.Run1_10kExamples_stratified_ds.2022A.pkl\",\n",
    "    \"device\": \"cuda\",\n",
    "    \"lr\": 0.0001,\n",
    "    \"batch_size\": 128,\n",
    "    \"normalize_source\": False,\n",
    "    \"normalize_target\": False,\n",
    "    \"num_examples_per_domain_per_label_source\": 2000,\n",
    "    \"num_examples_per_domain_per_label_target\": 2000,\n",
    "    \"torch_default_dtype\": \"torch.float32\",\n",
    "    \"n_epoch\": 50,\n",
    "    \"patience\": 3,\n",
    "    \"criteria_for_best\": \"target_accuracy\",\n",
    "    \"x_net\": [\n",
    "        {\"class\": \"nnReshape\", \"kargs\": {\"shape\": [-1, 1, 2, 256]}},\n",
    "        {\n",
    "            \"class\": \"Conv2d\",\n",
    "            \"kargs\": {\n",
    "                \"in_channels\": 1,\n",
    "                \"out_channels\": 256,\n",
    "                \"kernel_size\": [1, 7],\n",
    "                \"bias\": False,\n",
    "                \"padding\": [0, 3],\n",
    "            },\n",
    "        },\n",
    "        {\"class\": \"ReLU\", \"kargs\": {\"inplace\": True}},\n",
    "        {\"class\": \"BatchNorm2d\", \"kargs\": {\"num_features\": 256}},\n",
    "        {\n",
    "            \"class\": \"Conv2d\",\n",
    "            \"kargs\": {\n",
    "                \"in_channels\": 256,\n",
    "                \"out_channels\": 80,\n",
    "                \"kernel_size\": [2, 7],\n",
    "                \"bias\": True,\n",
    "                \"padding\": [0, 3],\n",
    "            },\n",
    "        },\n",
    "        {\"class\": \"ReLU\", \"kargs\": {\"inplace\": True}},\n",
    "        {\"class\": \"BatchNorm2d\", \"kargs\": {\"num_features\": 80}},\n",
    "        {\"class\": \"Flatten\", \"kargs\": {}},\n",
    "        {\"class\": \"Linear\", \"kargs\": {\"in_features\": 20480, \"out_features\": 256}},\n",
    "        {\"class\": \"ReLU\", \"kargs\": {\"inplace\": True}},\n",
    "        {\"class\": \"BatchNorm1d\", \"kargs\": {\"num_features\": 256}},\n",
    "        {\"class\": \"Linear\", \"kargs\": {\"in_features\": 256, \"out_features\": 16}},\n",
    "    ],\n",
    "    \"NUM_LOGS_PER_EPOCH\": 10,\n",
    "    \"BEST_MODEL_PATH\": \"./best_model.pth\",\n",
    "    \"dataset_seed\": 500,\n",
    "    \"seed\": 500,\n",
    "}\n"
   ]
  },
  {
   "cell_type": "code",
   "execution_count": 5,
   "id": "759b56ec",
   "metadata": {
    "execution": {
     "iopub.execute_input": "2022-03-25T23:00:18.462059Z",
     "iopub.status.busy": "2022-03-25T23:00:18.461492Z",
     "iopub.status.idle": "2022-03-25T23:00:18.464016Z",
     "shell.execute_reply": "2022-03-25T23:00:18.463442Z"
    },
    "papermill": {
     "duration": 0.020723,
     "end_time": "2022-03-25T23:00:18.464123",
     "exception": false,
     "start_time": "2022-03-25T23:00:18.443400",
     "status": "completed"
    },
    "tags": []
   },
   "outputs": [],
   "source": [
    "# Set this to True if you want to run this template directly\n",
    "STANDALONE = False\n",
    "if STANDALONE:\n",
    "    print(\"parameters not injected, running with standalone_parameters\")\n",
    "    parameters = standalone_parameters\n",
    "\n",
    "if not 'parameters' in locals() and not 'parameters' in globals():\n",
    "    raise Exception(\"Parameter injection failed\")\n",
    "\n",
    "#Use an easy dict for all the parameters\n",
    "p = EasyDict(parameters)\n",
    "\n",
    "supplied_keys = set(p.keys())\n",
    "\n",
    "if  supplied_keys != required_parameters:\n",
    "    print(\"Parameters are incorrect\")\n",
    "    if len(supplied_keys - required_parameters)>0: print(\"Shouldn't have:\", str(supplied_keys - required_parameters))\n",
    "    if len(required_parameters - supplied_keys)>0: print(\"Need to have:\", str(required_parameters - supplied_keys))\n",
    "    raise RuntimeError(\"Parameters are incorrect\")\n",
    "\n"
   ]
  },
  {
   "cell_type": "code",
   "execution_count": 6,
   "id": "d5c66a71",
   "metadata": {
    "execution": {
     "iopub.execute_input": "2022-03-25T23:00:18.502681Z",
     "iopub.status.busy": "2022-03-25T23:00:18.502309Z",
     "iopub.status.idle": "2022-03-25T23:00:18.505978Z",
     "shell.execute_reply": "2022-03-25T23:00:18.506440Z"
    },
    "papermill": {
     "duration": 0.022105,
     "end_time": "2022-03-25T23:00:18.506563",
     "exception": false,
     "start_time": "2022-03-25T23:00:18.484458",
     "status": "completed"
    },
    "tags": []
   },
   "outputs": [],
   "source": [
    "###################################\n",
    "# Set the RNGs and make it all deterministic\n",
    "###################################\n",
    "np.random.seed(p.seed)\n",
    "random.seed(p.seed)\n",
    "torch.manual_seed(p.seed)\n",
    "\n",
    "torch.use_deterministic_algorithms(True) "
   ]
  },
  {
   "cell_type": "code",
   "execution_count": 7,
   "id": "92a65876",
   "metadata": {
    "execution": {
     "iopub.execute_input": "2022-03-25T23:00:18.545579Z",
     "iopub.status.busy": "2022-03-25T23:00:18.545215Z",
     "iopub.status.idle": "2022-03-25T23:00:18.547452Z",
     "shell.execute_reply": "2022-03-25T23:00:18.547779Z"
    },
    "papermill": {
     "duration": 0.020891,
     "end_time": "2022-03-25T23:00:18.547860",
     "exception": false,
     "start_time": "2022-03-25T23:00:18.526969",
     "status": "completed"
    },
    "tags": []
   },
   "outputs": [],
   "source": [
    "torch.set_default_dtype(eval(p.torch_default_dtype))"
   ]
  },
  {
   "cell_type": "code",
   "execution_count": 8,
   "id": "f1a32f01",
   "metadata": {
    "execution": {
     "iopub.execute_input": "2022-03-25T23:00:18.582534Z",
     "iopub.status.busy": "2022-03-25T23:00:18.582026Z",
     "iopub.status.idle": "2022-03-25T23:00:18.629753Z",
     "shell.execute_reply": "2022-03-25T23:00:18.630405Z"
    },
    "papermill": {
     "duration": 0.064998,
     "end_time": "2022-03-25T23:00:18.630595",
     "exception": false,
     "start_time": "2022-03-25T23:00:18.565597",
     "status": "completed"
    },
    "tags": []
   },
   "outputs": [],
   "source": [
    "###################################\n",
    "# Build the network(s)\n",
    "# Note: It's critical to do this AFTER setting the RNG\n",
    "###################################\n",
    "x_net = build_sequential(p.x_net)"
   ]
  },
  {
   "cell_type": "code",
   "execution_count": 9,
   "id": "a276cd83",
   "metadata": {
    "execution": {
     "iopub.execute_input": "2022-03-25T23:00:18.667247Z",
     "iopub.status.busy": "2022-03-25T23:00:18.666879Z",
     "iopub.status.idle": "2022-03-25T23:00:18.669434Z",
     "shell.execute_reply": "2022-03-25T23:00:18.669060Z"
    },
    "papermill": {
     "duration": 0.019518,
     "end_time": "2022-03-25T23:00:18.669505",
     "exception": false,
     "start_time": "2022-03-25T23:00:18.649987",
     "status": "completed"
    },
    "tags": []
   },
   "outputs": [],
   "source": [
    "start_time_secs = time.time()"
   ]
  },
  {
   "cell_type": "code",
   "execution_count": 10,
   "id": "de702e48",
   "metadata": {
    "execution": {
     "iopub.execute_input": "2022-03-25T23:00:18.717008Z",
     "iopub.status.busy": "2022-03-25T23:00:18.716127Z",
     "iopub.status.idle": "2022-03-25T23:00:27.878279Z",
     "shell.execute_reply": "2022-03-25T23:00:27.877454Z"
    },
    "papermill": {
     "duration": 9.190712,
     "end_time": "2022-03-25T23:00:27.878458",
     "exception": false,
     "start_time": "2022-03-25T23:00:18.687746",
     "status": "completed"
    },
    "tags": []
   },
   "outputs": [],
   "source": [
    "def wrap_in_dataloader(p, ds):\n",
    "    return torch.utils.data.DataLoader(\n",
    "        ds,\n",
    "        batch_size=p.batch_size,\n",
    "        shuffle=True,\n",
    "        num_workers=1,\n",
    "        persistent_workers=True,\n",
    "        prefetch_factor=50,\n",
    "        pin_memory=True\n",
    "    )\n",
    "\n",
    "taf_source = Traditional_Accessor_Factory(\n",
    "    labels=p.labels,\n",
    "    domains=p.domains_source,\n",
    "    num_examples_per_domain_per_label=p.num_examples_per_domain_per_label_source,\n",
    "    pickle_path=os.path.join(get_datasets_base_path(), p.pickle_name_source),\n",
    "    seed=p.dataset_seed\n",
    ")\n",
    "train_original_source, val_original_source, test_original_source = \\\n",
    "    taf_source.get_train(), taf_source.get_val(), taf_source.get_test()\n",
    "\n",
    "\n",
    "taf_target = Traditional_Accessor_Factory(\n",
    "    labels=p.labels,\n",
    "    domains=p.domains_target,\n",
    "    num_examples_per_domain_per_label=p.num_examples_per_domain_per_label_source,\n",
    "    pickle_path=os.path.join(get_datasets_base_path(), p.pickle_name_target),\n",
    "    seed=p.dataset_seed\n",
    ")\n",
    "train_original_target, val_original_target, test_original_target = \\\n",
    "    taf_target.get_train(), taf_target.get_val(), taf_target.get_test()\n",
    "\n",
    "\n",
    "# For CNN We only use X and Y. And we only train on the source.\n",
    "# Properly form the data using a transform lambda and Lazy_Map. Finally wrap them in a dataloader\n",
    "\n",
    "transform_lambda = lambda ex: ex[:2] # Strip the tuple to just (x,y)\n",
    "\n",
    "\n",
    "train_processed_source = wrap_in_dataloader(\n",
    "    p,\n",
    "    Lazy_Map(train_original_source, transform_lambda)\n",
    ")\n",
    "val_processed_source = wrap_in_dataloader(\n",
    "    p,\n",
    "    Lazy_Map(val_original_source, transform_lambda)\n",
    ")\n",
    "test_processed_source = wrap_in_dataloader(\n",
    "    p,\n",
    "    Lazy_Map(test_original_source, transform_lambda)\n",
    ")\n",
    "\n",
    "train_processed_target = wrap_in_dataloader(\n",
    "    p,\n",
    "    Lazy_Map(train_original_target, transform_lambda)\n",
    ")\n",
    "val_processed_target = wrap_in_dataloader(\n",
    "    p,\n",
    "    Lazy_Map(val_original_target, transform_lambda)\n",
    ")\n",
    "test_processed_target  = wrap_in_dataloader(\n",
    "    p,\n",
    "    Lazy_Map(test_original_target, transform_lambda)\n",
    ")\n",
    "\n",
    "\n",
    "\n",
    "datasets = EasyDict({\n",
    "    \"source\": {\n",
    "        \"original\": {\"train\":train_original_source, \"val\":val_original_source, \"test\":test_original_source},\n",
    "        \"processed\": {\"train\":train_processed_source, \"val\":val_processed_source, \"test\":test_processed_source}\n",
    "    },\n",
    "    \"target\": {\n",
    "        \"original\": {\"train\":train_original_target, \"val\":val_original_target, \"test\":test_original_target},\n",
    "        \"processed\": {\"train\":train_processed_target, \"val\":val_processed_target, \"test\":test_processed_target}\n",
    "    },\n",
    "})"
   ]
  },
  {
   "cell_type": "code",
   "execution_count": 11,
   "id": "a11b26bd",
   "metadata": {
    "execution": {
     "iopub.execute_input": "2022-03-25T23:00:27.959009Z",
     "iopub.status.busy": "2022-03-25T23:00:27.958171Z",
     "iopub.status.idle": "2022-03-25T23:00:33.670865Z",
     "shell.execute_reply": "2022-03-25T23:00:33.669990Z"
    },
    "papermill": {
     "duration": 5.77294,
     "end_time": "2022-03-25T23:00:33.671045",
     "exception": false,
     "start_time": "2022-03-25T23:00:27.898105",
     "status": "completed"
    },
    "tags": []
   },
   "outputs": [
    {
     "data": {
      "text/plain": [
       "torch.float32"
      ]
     },
     "execution_count": 11,
     "metadata": {},
     "output_type": "execute_result"
    }
   ],
   "source": [
    "ep = next(iter(test_processed_target))\n",
    "ep[0].dtype"
   ]
  },
  {
   "cell_type": "code",
   "execution_count": 12,
   "id": "19425fad",
   "metadata": {
    "execution": {
     "iopub.execute_input": "2022-03-25T23:00:33.735503Z",
     "iopub.status.busy": "2022-03-25T23:00:33.734676Z",
     "iopub.status.idle": "2022-03-25T23:00:33.790596Z",
     "shell.execute_reply": "2022-03-25T23:00:33.791242Z"
    },
    "papermill": {
     "duration": 0.098667,
     "end_time": "2022-03-25T23:00:33.791429",
     "exception": false,
     "start_time": "2022-03-25T23:00:33.692762",
     "status": "completed"
    },
    "tags": []
   },
   "outputs": [],
   "source": [
    "model = Configurable_Vanilla(\n",
    "    x_net=x_net,\n",
    "    label_loss_object=torch.nn.NLLLoss(),\n",
    "    learning_rate=p.lr\n",
    ")"
   ]
  },
  {
   "cell_type": "code",
   "execution_count": 13,
   "id": "7f6d4f2c",
   "metadata": {
    "execution": {
     "iopub.execute_input": "2022-03-25T23:00:33.830698Z",
     "iopub.status.busy": "2022-03-25T23:00:33.830329Z",
     "iopub.status.idle": "2022-03-25T23:01:28.682142Z",
     "shell.execute_reply": "2022-03-25T23:01:28.681288Z"
    },
    "papermill": {
     "duration": 54.871779,
     "end_time": "2022-03-25T23:01:28.682312",
     "exception": false,
     "start_time": "2022-03-25T23:00:33.810533",
     "status": "completed"
    },
    "tags": []
   },
   "outputs": [
    {
     "name": "stdout",
     "output_type": "stream",
     "text": [
      "epoch: 1, [batch: 1 / 525], examples_per_second: 805.8300, train_label_loss: 2.7823, \n"
     ]
    },
    {
     "name": "stdout",
     "output_type": "stream",
     "text": [
      "epoch: 1, [batch: 53 / 525], examples_per_second: 10498.2756, train_label_loss: 2.5994, \n"
     ]
    },
    {
     "name": "stdout",
     "output_type": "stream",
     "text": [
      "epoch: 1, [batch: 105 / 525], examples_per_second: 10649.4375, train_label_loss: 2.5614, \n"
     ]
    },
    {
     "name": "stdout",
     "output_type": "stream",
     "text": [
      "epoch: 1, [batch: 158 / 525], examples_per_second: 10323.0959, train_label_loss: 2.4494, \n"
     ]
    },
    {
     "name": "stdout",
     "output_type": "stream",
     "text": [
      "epoch: 1, [batch: 210 / 525], examples_per_second: 10774.3577, train_label_loss: 2.4258, \n"
     ]
    },
    {
     "name": "stdout",
     "output_type": "stream",
     "text": [
      "epoch: 1, [batch: 263 / 525], examples_per_second: 10626.0770, train_label_loss: 2.2957, \n"
     ]
    },
    {
     "name": "stdout",
     "output_type": "stream",
     "text": [
      "epoch: 1, [batch: 315 / 525], examples_per_second: 10529.6083, train_label_loss: 2.3058, \n"
     ]
    },
    {
     "name": "stdout",
     "output_type": "stream",
     "text": [
      "epoch: 1, [batch: 367 / 525], examples_per_second: 10695.5288, train_label_loss: 2.2837, \n"
     ]
    },
    {
     "name": "stdout",
     "output_type": "stream",
     "text": [
      "epoch: 1, [batch: 420 / 525], examples_per_second: 10692.4896, train_label_loss: 2.3495, \n"
     ]
    },
    {
     "name": "stdout",
     "output_type": "stream",
     "text": [
      "epoch: 1, [batch: 472 / 525], examples_per_second: 10755.7651, train_label_loss: 2.1423, \n"
     ]
    },
    {
     "name": "stdout",
     "output_type": "stream",
     "text": [
      "=============================================================\n",
      "epoch: 1, source_val_acc_label: 0.2739, source_val_label_loss: 2.1221, target_val_acc_label: 0.0637, target_val_label_loss: 3.8191, \n",
      "=============================================================\n"
     ]
    },
    {
     "name": "stdout",
     "output_type": "stream",
     "text": [
      "New best\n",
      "epoch: 2, [batch: 1 / 525], examples_per_second: 98.6330, train_label_loss: 2.0134, \n"
     ]
    },
    {
     "name": "stdout",
     "output_type": "stream",
     "text": [
      "epoch: 2, [batch: 53 / 525], examples_per_second: 10448.3642, train_label_loss: 2.1110, \n"
     ]
    },
    {
     "name": "stdout",
     "output_type": "stream",
     "text": [
      "epoch: 2, [batch: 105 / 525], examples_per_second: 10679.4698, train_label_loss: 1.9796, \n"
     ]
    },
    {
     "name": "stdout",
     "output_type": "stream",
     "text": [
      "epoch: 2, [batch: 158 / 525], examples_per_second: 10598.5848, train_label_loss: 1.9773, \n"
     ]
    },
    {
     "name": "stdout",
     "output_type": "stream",
     "text": [
      "epoch: 2, [batch: 210 / 525], examples_per_second: 10689.4882, train_label_loss: 1.9396, \n"
     ]
    },
    {
     "name": "stdout",
     "output_type": "stream",
     "text": [
      "epoch: 2, [batch: 263 / 525], examples_per_second: 10720.0881, train_label_loss: 1.9213, \n"
     ]
    },
    {
     "name": "stdout",
     "output_type": "stream",
     "text": [
      "epoch: 2, [batch: 315 / 525], examples_per_second: 10720.0723, train_label_loss: 1.8839, \n"
     ]
    },
    {
     "name": "stdout",
     "output_type": "stream",
     "text": [
      "epoch: 2, [batch: 367 / 525], examples_per_second: 10788.2433, train_label_loss: 1.6753, \n"
     ]
    },
    {
     "name": "stdout",
     "output_type": "stream",
     "text": [
      "epoch: 2, [batch: 420 / 525], examples_per_second: 10653.0461, train_label_loss: 1.8072, \n"
     ]
    },
    {
     "name": "stdout",
     "output_type": "stream",
     "text": [
      "epoch: 2, [batch: 472 / 525], examples_per_second: 10573.0160, train_label_loss: 1.7505, \n"
     ]
    },
    {
     "name": "stdout",
     "output_type": "stream",
     "text": [
      "=============================================================\n",
      "epoch: 2, source_val_acc_label: 0.3828, source_val_label_loss: 1.8132, target_val_acc_label: 0.0650, target_val_label_loss: 4.5379, \n",
      "=============================================================\n"
     ]
    },
    {
     "name": "stdout",
     "output_type": "stream",
     "text": [
      "New best\n",
      "epoch: 3, [batch: 1 / 525], examples_per_second: 120.3225, train_label_loss: 1.6658, \n"
     ]
    },
    {
     "name": "stdout",
     "output_type": "stream",
     "text": [
      "epoch: 3, [batch: 53 / 525], examples_per_second: 10554.6283, train_label_loss: 1.7314, \n"
     ]
    },
    {
     "name": "stdout",
     "output_type": "stream",
     "text": [
      "epoch: 3, [batch: 105 / 525], examples_per_second: 10510.4373, train_label_loss: 1.5776, \n"
     ]
    },
    {
     "name": "stdout",
     "output_type": "stream",
     "text": [
      "epoch: 3, [batch: 158 / 525], examples_per_second: 10760.4822, train_label_loss: 1.4802, \n"
     ]
    },
    {
     "name": "stdout",
     "output_type": "stream",
     "text": [
      "epoch: 3, [batch: 210 / 525], examples_per_second: 10761.1507, train_label_loss: 1.8145, \n"
     ]
    },
    {
     "name": "stdout",
     "output_type": "stream",
     "text": [
      "epoch: 3, [batch: 263 / 525], examples_per_second: 10732.1777, train_label_loss: 1.5088, \n"
     ]
    },
    {
     "name": "stdout",
     "output_type": "stream",
     "text": [
      "epoch: 3, [batch: 315 / 525], examples_per_second: 10704.2474, train_label_loss: 1.6090, \n"
     ]
    },
    {
     "name": "stdout",
     "output_type": "stream",
     "text": [
      "epoch: 3, [batch: 367 / 525], examples_per_second: 10739.5290, train_label_loss: 1.4503, \n"
     ]
    },
    {
     "name": "stdout",
     "output_type": "stream",
     "text": [
      "epoch: 3, [batch: 420 / 525], examples_per_second: 10726.9180, train_label_loss: 1.4309, \n"
     ]
    },
    {
     "name": "stdout",
     "output_type": "stream",
     "text": [
      "epoch: 3, [batch: 472 / 525], examples_per_second: 10737.2696, train_label_loss: 1.4346, \n"
     ]
    },
    {
     "name": "stdout",
     "output_type": "stream",
     "text": [
      "=============================================================\n",
      "epoch: 3, source_val_acc_label: 0.4613, source_val_label_loss: 1.4600, target_val_acc_label: 0.0812, target_val_label_loss: 6.0950, \n",
      "=============================================================\n"
     ]
    },
    {
     "name": "stdout",
     "output_type": "stream",
     "text": [
      "New best\n",
      "epoch: 4, [batch: 1 / 525], examples_per_second: 122.4656, train_label_loss: 1.6522, \n"
     ]
    },
    {
     "name": "stdout",
     "output_type": "stream",
     "text": [
      "epoch: 4, [batch: 53 / 525], examples_per_second: 10438.9174, train_label_loss: 1.2807, \n"
     ]
    },
    {
     "name": "stdout",
     "output_type": "stream",
     "text": [
      "epoch: 4, [batch: 105 / 525], examples_per_second: 10520.4819, train_label_loss: 1.2376, \n"
     ]
    },
    {
     "name": "stdout",
     "output_type": "stream",
     "text": [
      "epoch: 4, [batch: 158 / 525], examples_per_second: 10647.6405, train_label_loss: 1.3301, \n"
     ]
    },
    {
     "name": "stdout",
     "output_type": "stream",
     "text": [
      "epoch: 4, [batch: 210 / 525], examples_per_second: 10760.9392, train_label_loss: 1.1880, \n"
     ]
    },
    {
     "name": "stdout",
     "output_type": "stream",
     "text": [
      "epoch: 4, [batch: 263 / 525], examples_per_second: 10707.1151, train_label_loss: 1.2979, \n"
     ]
    },
    {
     "name": "stdout",
     "output_type": "stream",
     "text": [
      "epoch: 4, [batch: 315 / 525], examples_per_second: 10725.6448, train_label_loss: 1.1566, \n"
     ]
    },
    {
     "name": "stdout",
     "output_type": "stream",
     "text": [
      "epoch: 4, [batch: 367 / 525], examples_per_second: 10710.0992, train_label_loss: 1.2274, \n"
     ]
    },
    {
     "name": "stdout",
     "output_type": "stream",
     "text": [
      "epoch: 4, [batch: 420 / 525], examples_per_second: 10706.4544, train_label_loss: 1.2955, \n"
     ]
    },
    {
     "name": "stdout",
     "output_type": "stream",
     "text": [
      "epoch: 4, [batch: 472 / 525], examples_per_second: 10723.3006, train_label_loss: 1.0813, \n"
     ]
    },
    {
     "name": "stdout",
     "output_type": "stream",
     "text": [
      "=============================================================\n",
      "epoch: 4, source_val_acc_label: 0.4721, source_val_label_loss: 1.5311, target_val_acc_label: 0.0745, target_val_label_loss: 7.0787, \n",
      "=============================================================\n"
     ]
    },
    {
     "name": "stdout",
     "output_type": "stream",
     "text": [
      "epoch: 5, [batch: 1 / 525], examples_per_second: 123.2148, train_label_loss: 1.1023, \n"
     ]
    },
    {
     "name": "stdout",
     "output_type": "stream",
     "text": [
      "epoch: 5, [batch: 53 / 525], examples_per_second: 10465.3709, train_label_loss: 1.0904, \n"
     ]
    },
    {
     "name": "stdout",
     "output_type": "stream",
     "text": [
      "epoch: 5, [batch: 105 / 525], examples_per_second: 10675.5861, train_label_loss: 0.9832, \n"
     ]
    },
    {
     "name": "stdout",
     "output_type": "stream",
     "text": [
      "epoch: 5, [batch: 158 / 525], examples_per_second: 10619.2956, train_label_loss: 1.1837, \n"
     ]
    },
    {
     "name": "stdout",
     "output_type": "stream",
     "text": [
      "epoch: 5, [batch: 210 / 525], examples_per_second: 10694.0661, train_label_loss: 0.8846, \n"
     ]
    },
    {
     "name": "stdout",
     "output_type": "stream",
     "text": [
      "epoch: 5, [batch: 263 / 525], examples_per_second: 10564.7582, train_label_loss: 1.1305, \n"
     ]
    },
    {
     "name": "stdout",
     "output_type": "stream",
     "text": [
      "epoch: 5, [batch: 315 / 525], examples_per_second: 10702.5567, train_label_loss: 0.9972, \n"
     ]
    },
    {
     "name": "stdout",
     "output_type": "stream",
     "text": [
      "epoch: 5, [batch: 367 / 525], examples_per_second: 10682.2240, train_label_loss: 1.0006, \n"
     ]
    },
    {
     "name": "stdout",
     "output_type": "stream",
     "text": [
      "epoch: 5, [batch: 420 / 525], examples_per_second: 10603.7193, train_label_loss: 1.0415, \n"
     ]
    },
    {
     "name": "stdout",
     "output_type": "stream",
     "text": [
      "epoch: 5, [batch: 472 / 525], examples_per_second: 10692.5547, train_label_loss: 0.8578, \n"
     ]
    },
    {
     "name": "stdout",
     "output_type": "stream",
     "text": [
      "=============================================================\n",
      "epoch: 5, source_val_acc_label: 0.5198, source_val_label_loss: 1.3443, target_val_acc_label: 0.0808, target_val_label_loss: 9.0585, \n",
      "=============================================================\n"
     ]
    },
    {
     "name": "stdout",
     "output_type": "stream",
     "text": [
      "epoch: 6, [batch: 1 / 525], examples_per_second: 125.3591, train_label_loss: 0.8601, \n"
     ]
    },
    {
     "name": "stdout",
     "output_type": "stream",
     "text": [
      "epoch: 6, [batch: 53 / 525], examples_per_second: 10712.4870, train_label_loss: 0.7416, \n"
     ]
    },
    {
     "name": "stdout",
     "output_type": "stream",
     "text": [
      "epoch: 6, [batch: 105 / 525], examples_per_second: 10652.8794, train_label_loss: 0.8380, \n"
     ]
    },
    {
     "name": "stdout",
     "output_type": "stream",
     "text": [
      "epoch: 6, [batch: 158 / 525], examples_per_second: 10639.7494, train_label_loss: 0.8719, \n"
     ]
    },
    {
     "name": "stdout",
     "output_type": "stream",
     "text": [
      "epoch: 6, [batch: 210 / 525], examples_per_second: 10653.9324, train_label_loss: 0.7726, \n"
     ]
    },
    {
     "name": "stdout",
     "output_type": "stream",
     "text": [
      "epoch: 6, [batch: 263 / 525], examples_per_second: 10711.7827, train_label_loss: 0.8513, \n"
     ]
    },
    {
     "name": "stdout",
     "output_type": "stream",
     "text": [
      "epoch: 6, [batch: 315 / 525], examples_per_second: 10674.9533, train_label_loss: 1.0203, \n"
     ]
    },
    {
     "name": "stdout",
     "output_type": "stream",
     "text": [
      "epoch: 6, [batch: 367 / 525], examples_per_second: 10667.3746, train_label_loss: 0.7831, \n"
     ]
    },
    {
     "name": "stdout",
     "output_type": "stream",
     "text": [
      "epoch: 6, [batch: 420 / 525], examples_per_second: 10647.4692, train_label_loss: 0.7444, \n"
     ]
    },
    {
     "name": "stdout",
     "output_type": "stream",
     "text": [
      "epoch: 6, [batch: 472 / 525], examples_per_second: 10723.3500, train_label_loss: 0.7950, \n"
     ]
    },
    {
     "name": "stdout",
     "output_type": "stream",
     "text": [
      "=============================================================\n",
      "epoch: 6, source_val_acc_label: 0.6521, source_val_label_loss: 0.9958, target_val_acc_label: 0.0715, target_val_label_loss: 8.3922, \n",
      "=============================================================\n"
     ]
    },
    {
     "name": "stdout",
     "output_type": "stream",
     "text": [
      "epoch: 7, [batch: 1 / 525], examples_per_second: 123.8827, train_label_loss: 0.6181, \n"
     ]
    },
    {
     "name": "stdout",
     "output_type": "stream",
     "text": [
      "epoch: 7, [batch: 53 / 525], examples_per_second: 10466.9012, train_label_loss: 0.6884, \n"
     ]
    },
    {
     "name": "stdout",
     "output_type": "stream",
     "text": [
      "epoch: 7, [batch: 105 / 525], examples_per_second: 10695.8607, train_label_loss: 0.6069, \n"
     ]
    },
    {
     "name": "stdout",
     "output_type": "stream",
     "text": [
      "epoch: 7, [batch: 158 / 525], examples_per_second: 10719.9912, train_label_loss: 0.6848, \n"
     ]
    },
    {
     "name": "stdout",
     "output_type": "stream",
     "text": [
      "epoch: 7, [batch: 210 / 525], examples_per_second: 10696.3730, train_label_loss: 0.5777, \n"
     ]
    },
    {
     "name": "stdout",
     "output_type": "stream",
     "text": [
      "epoch: 7, [batch: 263 / 525], examples_per_second: 10550.7535, train_label_loss: 0.6224, \n"
     ]
    },
    {
     "name": "stdout",
     "output_type": "stream",
     "text": [
      "epoch: 7, [batch: 315 / 525], examples_per_second: 10702.8029, train_label_loss: 0.7193, \n"
     ]
    },
    {
     "name": "stdout",
     "output_type": "stream",
     "text": [
      "epoch: 7, [batch: 367 / 525], examples_per_second: 10697.6969, train_label_loss: 0.6096, \n"
     ]
    },
    {
     "name": "stdout",
     "output_type": "stream",
     "text": [
      "epoch: 7, [batch: 420 / 525], examples_per_second: 10633.7015, train_label_loss: 0.6121, \n"
     ]
    },
    {
     "name": "stdout",
     "output_type": "stream",
     "text": [
      "epoch: 7, [batch: 472 / 525], examples_per_second: 10668.9156, train_label_loss: 0.5470, \n"
     ]
    },
    {
     "name": "stdout",
     "output_type": "stream",
     "text": [
      "=============================================================\n",
      "epoch: 7, source_val_acc_label: 0.6159, source_val_label_loss: 1.0545, target_val_acc_label: 0.0718, target_val_label_loss: 8.8174, \n",
      "=============================================================\n"
     ]
    },
    {
     "name": "stdout",
     "output_type": "stream",
     "text": [
      "Patience (3) exhausted\n"
     ]
    }
   ],
   "source": [
    "jig = Vanilla_Train_Eval_Test_Jig(\n",
    "    model=model,\n",
    "    path_to_best_model=p.BEST_MODEL_PATH,\n",
    "    device=p.device,\n",
    "    label_loss_object=torch.nn.NLLLoss(),\n",
    ")\n",
    "\n",
    "jig.train(\n",
    "    train_iterable=datasets.source.processed.train,\n",
    "    source_val_iterable=datasets.source.processed.val,\n",
    "    target_val_iterable=datasets.target.processed.val,\n",
    "    patience=p.patience,\n",
    "    num_epochs=p.n_epoch,\n",
    "    num_logs_per_epoch=p.NUM_LOGS_PER_EPOCH,\n",
    "    criteria_for_best=p.criteria_for_best\n",
    ")"
   ]
  },
  {
   "cell_type": "code",
   "execution_count": 14,
   "id": "4bc2ac17",
   "metadata": {
    "execution": {
     "iopub.execute_input": "2022-03-25T23:01:28.761383Z",
     "iopub.status.busy": "2022-03-25T23:01:28.761014Z",
     "iopub.status.idle": "2022-03-25T23:01:28.763317Z",
     "shell.execute_reply": "2022-03-25T23:01:28.763638Z"
    },
    "papermill": {
     "duration": 0.043154,
     "end_time": "2022-03-25T23:01:28.763724",
     "exception": false,
     "start_time": "2022-03-25T23:01:28.720570",
     "status": "completed"
    },
    "tags": []
   },
   "outputs": [],
   "source": [
    "total_experiment_time_secs = time.time() - start_time_secs"
   ]
  },
  {
   "cell_type": "code",
   "execution_count": 15,
   "id": "cae88f23",
   "metadata": {
    "execution": {
     "iopub.execute_input": "2022-03-25T23:01:28.850902Z",
     "iopub.status.busy": "2022-03-25T23:01:28.850037Z",
     "iopub.status.idle": "2022-03-25T23:01:40.044928Z",
     "shell.execute_reply": "2022-03-25T23:01:40.045620Z"
    },
    "papermill": {
     "duration": 11.244081,
     "end_time": "2022-03-25T23:01:40.045847",
     "exception": false,
     "start_time": "2022-03-25T23:01:28.801766",
     "status": "completed"
    },
    "tags": []
   },
   "outputs": [],
   "source": [
    "source_test_label_accuracy, source_test_label_loss = jig.test(datasets.source.processed.test)\n",
    "target_test_label_accuracy, target_test_label_loss = jig.test(datasets.target.processed.test)\n",
    "\n",
    "source_val_label_accuracy, source_val_label_loss = jig.test(datasets.source.processed.val)\n",
    "target_val_label_accuracy, target_val_label_loss = jig.test(datasets.target.processed.val)\n",
    "\n",
    "history = jig.get_history()\n",
    "\n",
    "total_epochs_trained = len(history[\"epoch_indices\"])\n",
    "\n",
    "val_dl = wrap_in_dataloader(p, Sequence_Aggregator((datasets.source.original.val, datasets.target.original.val)))\n",
    "\n",
    "confusion = confusion_by_domain_over_dataloader(model, p.device, val_dl, forward_uses_domain=False)\n",
    "per_domain_accuracy = per_domain_accuracy_from_confusion(confusion)\n",
    "\n",
    "# Add a key to per_domain_accuracy for if it was a source domain\n",
    "for domain, accuracy in per_domain_accuracy.items():\n",
    "    per_domain_accuracy[domain] = {\n",
    "        \"accuracy\": accuracy,\n",
    "        \"source?\": domain in p.domains_source\n",
    "    }\n",
    "\n",
    "# Do an independent accuracy assesment JUST TO BE SURE!\n",
    "# _source_test_label_accuracy = independent_accuracy_assesment(model, datasets.source.processed.test, p.device)\n",
    "# _target_test_label_accuracy = independent_accuracy_assesment(model, datasets.target.processed.test, p.device)\n",
    "# _source_val_label_accuracy = independent_accuracy_assesment(model, datasets.source.processed.val, p.device)\n",
    "# _target_val_label_accuracy = independent_accuracy_assesment(model, datasets.target.processed.val, p.device)\n",
    "\n",
    "# assert(_source_test_label_accuracy == source_test_label_accuracy)\n",
    "# assert(_target_test_label_accuracy == target_test_label_accuracy)\n",
    "# assert(_source_val_label_accuracy == source_val_label_accuracy)\n",
    "# assert(_target_val_label_accuracy == target_val_label_accuracy)\n",
    "\n",
    "###################################\n",
    "# Write out the results\n",
    "###################################\n",
    "\n",
    "experiment = {\n",
    "    \"experiment_name\": p.experiment_name,\n",
    "    \"parameters\": p,\n",
    "    \"results\": {\n",
    "        \"source_test_label_accuracy\": source_test_label_accuracy,\n",
    "        \"source_test_label_loss\": source_test_label_loss,\n",
    "        \"target_test_label_accuracy\": target_test_label_accuracy,\n",
    "        \"target_test_label_loss\": target_test_label_loss,\n",
    "        \"source_val_label_accuracy\": source_val_label_accuracy,\n",
    "        \"source_val_label_loss\": source_val_label_loss,\n",
    "        \"target_val_label_accuracy\": target_val_label_accuracy,\n",
    "        \"target_val_label_loss\": target_val_label_loss,\n",
    "        \"total_epochs_trained\": total_epochs_trained,\n",
    "        \"total_experiment_time_secs\": total_experiment_time_secs,\n",
    "        \"confusion\": confusion,\n",
    "        \"per_domain_accuracy\": per_domain_accuracy,\n",
    "    },\n",
    "    \"history\": history,\n",
    "    \"dataset_metrics\": get_dataset_metrics(datasets, \"cnn\"),\n",
    "}"
   ]
  },
  {
   "cell_type": "code",
   "execution_count": 16,
   "id": "74c318cf",
   "metadata": {
    "execution": {
     "iopub.execute_input": "2022-03-25T23:01:40.155824Z",
     "iopub.status.busy": "2022-03-25T23:01:40.145089Z",
     "iopub.status.idle": "2022-03-25T23:01:40.331886Z",
     "shell.execute_reply": "2022-03-25T23:01:40.332556Z"
    },
    "papermill": {
     "duration": 0.245389,
     "end_time": "2022-03-25T23:01:40.332749",
     "exception": false,
     "start_time": "2022-03-25T23:01:40.087360",
     "status": "completed"
    },
    "tags": []
   },
   "outputs": [
    {
     "data": {
      "text/plain": [
       "<AxesSubplot:title={'center':'Source Train Label Loss vs Source Val Label Loss'}, xlabel='Epoch'>"
      ]
     },
     "execution_count": 16,
     "metadata": {},
     "output_type": "execute_result"
    },
    {
     "data": {
      "image/png": "[encoded data removed]",
      "text/plain": [
       "<Figure size 1080x504 with 1 Axes>"
      ]
     },
     "metadata": {
      "needs_background": "light"
     },
     "output_type": "display_data"
    }
   ],
   "source": [
    "get_loss_curve(experiment)"
   ]
  },
  {
   "cell_type": "code",
   "execution_count": 17,
   "id": "59376601",
   "metadata": {
    "execution": {
     "iopub.execute_input": "2022-03-25T23:01:40.435609Z",
     "iopub.status.busy": "2022-03-25T23:01:40.434770Z",
     "iopub.status.idle": "2022-03-25T23:01:40.758674Z",
     "shell.execute_reply": "2022-03-25T23:01:40.759352Z"
    },
    "papermill": {
     "duration": 0.386663,
     "end_time": "2022-03-25T23:01:40.759551",
     "exception": false,
     "start_time": "2022-03-25T23:01:40.372888",
     "status": "completed"
    },
    "tags": []
   },
   "outputs": [
    {
     "data": {
      "text/plain": [
       "<AxesSubplot:title={'center':'Results'}>"
      ]
     },
     "execution_count": 17,
     "metadata": {},
     "output_type": "execute_result"
    },
    {
     "data": {
      "image/png": "[encoded data removed]",
      "text/plain": [
       "<Figure size 1080x504 with 1 Axes>"
      ]
     },
     "metadata": {
      "needs_background": "light"
     },
     "output_type": "display_data"
    }
   ],
   "source": [
    "get_results_table(experiment)"
   ]
  },
  {
   "cell_type": "code",
   "execution_count": 18,
   "id": "e80c5c98",
   "metadata": {
    "execution": {
     "iopub.execute_input": "2022-03-25T23:01:40.856364Z",
     "iopub.status.busy": "2022-03-25T23:01:40.850443Z",
     "iopub.status.idle": "2022-03-25T23:01:41.015318Z",
     "shell.execute_reply": "2022-03-25T23:01:41.014503Z"
    },
    "papermill": {
     "duration": 0.216001,
     "end_time": "2022-03-25T23:01:41.015477",
     "exception": false,
     "start_time": "2022-03-25T23:01:40.799476",
     "status": "completed"
    },
    "tags": []
   },
   "outputs": [
    {
     "data": {
      "text/plain": [
       "<AxesSubplot:title={'center':'Per Domain Accuracy'}, xlabel='domain'>"
      ]
     },
     "execution_count": 18,
     "metadata": {},
     "output_type": "execute_result"
    },
    {
     "data": {
      "image/png": "[encoded data removed]",
      "text/plain": [
       "<Figure size 1080x504 with 1 Axes>"
      ]
     },
     "metadata": {
      "needs_background": "light"
     },
     "output_type": "display_data"
    }
   ],
   "source": [
    "get_domain_accuracies(experiment)"
   ]
  },
  {
   "cell_type": "code",
   "execution_count": 19,
   "id": "086fdd10",
   "metadata": {
    "execution": {
     "iopub.execute_input": "2022-03-25T23:01:41.109719Z",
     "iopub.status.busy": "2022-03-25T23:01:41.109339Z",
     "iopub.status.idle": "2022-03-25T23:01:41.113023Z",
     "shell.execute_reply": "2022-03-25T23:01:41.112653Z"
    },
    "papermill": {
     "duration": 0.055344,
     "end_time": "2022-03-25T23:01:41.113095",
     "exception": false,
     "start_time": "2022-03-25T23:01:41.057751",
     "status": "completed"
    },
    "tags": []
   },
   "outputs": [
    {
     "name": "stdout",
     "output_type": "stream",
     "text": [
      "Source Test Label Accuracy: 0.4560416666666667 Target Test Label Accuracy: 0.07991666666666666\n",
      "Source Val Label Accuracy: 0.46131944444444445 Target Val Label Accuracy: 0.08120833333333333\n"
     ]
    }
   ],
   "source": [
    "print(\"Source Test Label Accuracy:\", experiment[\"results\"][\"source_test_label_accuracy\"], \"Target Test Label Accuracy:\", experiment[\"results\"][\"target_test_label_accuracy\"])\n",
    "print(\"Source Val Label Accuracy:\", experiment[\"results\"][\"source_val_label_accuracy\"], \"Target Val Label Accuracy:\", experiment[\"results\"][\"target_val_label_accuracy\"])"
   ]
  },
  {
   "cell_type": "code",
   "execution_count": 20,
   "id": "9f450536",
   "metadata": {
    "execution": {
     "iopub.execute_input": "2022-03-25T23:01:41.200117Z",
     "iopub.status.busy": "2022-03-25T23:01:41.199749Z",
     "iopub.status.idle": "2022-03-25T23:01:41.202510Z",
     "shell.execute_reply": "2022-03-25T23:01:41.202139Z"
    },
    "papermill": {
     "duration": 0.046494,
     "end_time": "2022-03-25T23:01:41.202581",
     "exception": false,
     "start_time": "2022-03-25T23:01:41.156087",
     "status": "completed"
    },
    "tags": [
     "experiment_json"
    ]
   },
   "outputs": [
    {
     "data": {
      "text/plain": [
       "'{\"experiment_name\": \"cnn_1:oracle.run1_limited\", \"parameters\": {\"experiment_name\": \"cnn_1:oracle.run1_limited\", \"labels\": [\"3123D52\", \"3123D65\", \"3123D79\", \"3123D80\", \"3123D54\", \"3123D70\", \"3123D7B\", \"3123D89\", \"3123D58\", \"3123D76\", \"3123D7D\", \"3123EFE\", \"3123D64\", \"3123D78\", \"3123D7E\", \"3124E4A\"], \"domains_source\": [8, 32, 50], \"domains_target\": [14, 20, 26, 38, 44], \"pickle_name_source\": \"oracle.Run1_10kExamples_stratified_ds.2022A.pkl\", \"pickle_name_target\": \"oracle.Run1_10kExamples_stratified_ds.2022A.pkl\", \"device\": \"cuda\", \"lr\": 0.0001, \"batch_size\": 128, \"normalize_source\": false, \"normalize_target\": false, \"num_examples_per_domain_per_label_source\": 2000, \"num_examples_per_domain_per_label_target\": 2000, \"torch_default_dtype\": \"torch.float32\", \"n_epoch\": 50, \"patience\": 3, \"criteria_for_best\": \"target_accuracy\", \"x_net\": [{\"class\": \"nnReshape\", \"kargs\": {\"shape\": [-1, 1, 2, 256]}}, {\"class\": \"Conv2d\", \"kargs\": {\"in_channels\": 1, \"out_channels\": 256, \"kernel_size\": [1, 7], \"bias\": false, \"padding\": [0, 3]}}, {\"class\": \"ReLU\", \"kargs\": {\"inplace\": true}}, {\"class\": \"BatchNorm2d\", \"kargs\": {\"num_features\": 256}}, {\"class\": \"Conv2d\", \"kargs\": {\"in_channels\": 256, \"out_channels\": 80, \"kernel_size\": [2, 7], \"bias\": true, \"padding\": [0, 3]}}, {\"class\": \"ReLU\", \"kargs\": {\"inplace\": true}}, {\"class\": \"BatchNorm2d\", \"kargs\": {\"num_features\": 80}}, {\"class\": \"Flatten\", \"kargs\": {}}, {\"class\": \"Linear\", \"kargs\": {\"in_features\": 20480, \"out_features\": 256}}, {\"class\": \"ReLU\", \"kargs\": {\"inplace\": true}}, {\"class\": \"BatchNorm1d\", \"kargs\": {\"num_features\": 256}}, {\"class\": \"Linear\", \"kargs\": {\"in_features\": 256, \"out_features\": 16}}], \"NUM_LOGS_PER_EPOCH\": 10, \"BEST_MODEL_PATH\": \"./best_model.pth\", \"dataset_seed\": 500, \"seed\": 500}, \"results\": {\"source_test_label_accuracy\": 0.4560416666666667, \"source_test_label_loss\": 1.4629448757762402, \"target_test_label_accuracy\": 0.07991666666666666, \"target_test_label_loss\": 6.10549138201044, \"source_val_label_accuracy\": 0.46131944444444445, \"source_val_label_loss\": 1.4605428233610844, \"target_val_label_accuracy\": 0.08120833333333333, \"target_val_label_loss\": 6.093714320913274, \"total_epochs_trained\": 7, \"total_experiment_time_secs\": 70.09398102760315, \"confusion\": {\"44\": {\"8\": {\"12\": 224, \"7\": 31, \"3\": 22, \"5\": 3, \"8\": 6, \"1\": 9, \"0\": 1, \"9\": 3, \"6\": 1}, \"10\": {\"7\": 233, \"15\": 52, \"5\": 2, \"9\": 9, \"4\": 4}, \"4\": {\"9\": 14, \"15\": 15, \"7\": 219, \"5\": 37, \"4\": 13, \"12\": 2}, \"14\": {\"7\": 265, \"5\": 20, \"4\": 9, \"15\": 1, \"12\": 5}, \"7\": {\"7\": 198, \"4\": 56, \"15\": 46}, \"3\": {\"14\": 93, \"13\": 12, \"8\": 149, \"2\": 42, \"0\": 2, \"15\": 1, \"7\": 1}, \"2\": {\"15\": 246, \"9\": 23, \"7\": 8, \"5\": 21, \"12\": 2}, \"5\": {\"7\": 261, \"5\": 33, \"12\": 3, \"9\": 1, \"3\": 1, \"4\": 1}, \"0\": {\"12\": 144, \"1\": 60, \"8\": 64, \"3\": 9, \"5\": 6, \"0\": 4, \"13\": 3, \"9\": 10}, \"15\": {\"12\": 172, \"7\": 106, \"9\": 11, \"5\": 10, \"3\": 1}, \"6\": {\"4\": 236, \"7\": 62, \"15\": 2}, \"13\": {\"7\": 172, \"4\": 128}, \"11\": {\"7\": 162, \"4\": 138}, \"9\": {\"4\": 65, \"7\": 197, \"5\": 2, \"15\": 32, \"9\": 4}, \"1\": {\"5\": 122, \"9\": 75, \"12\": 36, \"15\": 60, \"7\": 7}, \"12\": {\"13\": 46, \"8\": 171, \"14\": 51, \"7\": 2, \"2\": 10, \"4\": 8, \"3\": 9, \"15\": 1, \"11\": 2}}, \"8\": {\"2\": {\"2\": 206, \"3\": 83, \"15\": 6, \"12\": 5}, \"0\": {\"0\": 300}, \"11\": {\"1\": 60, \"6\": 7, \"14\": 14, \"10\": 13, \"11\": 31, \"8\": 111, \"7\": 24, \"13\": 17, \"5\": 8, \"4\": 15}, \"6\": {\"7\": 188, \"1\": 6, \"13\": 59, \"6\": 6, \"8\": 17, \"4\": 14, \"11\": 2, \"5\": 1, \"10\": 7}, \"14\": {\"4\": 96, \"14\": 102, \"0\": 68, \"8\": 15, \"7\": 12, \"6\": 5, \"5\": 1, \"10\": 1}, \"4\": {\"6\": 18, \"10\": 12, \"14\": 32, \"4\": 118, \"7\": 90, \"8\": 21, \"1\": 3, \"13\": 4, \"11\": 1, \"5\": 1}, \"15\": {\"2\": 93, \"15\": 109, \"12\": 81, \"3\": 17}, \"1\": {\"1\": 102, \"11\": 14, \"14\": 3, \"5\": 37, \"8\": 26, \"7\": 44, \"4\": 7, \"13\": 36, \"10\": 29, \"6\": 2}, \"10\": {\"5\": 37, \"13\": 150, \"1\": 8, \"7\": 57, \"10\": 39, \"6\": 6, \"4\": 1, \"2\": 1, \"8\": 1}, \"13\": {\"7\": 65, \"13\": 205, \"5\": 10, \"1\": 5, \"10\": 9, \"2\": 3, \"6\": 3}, \"5\": {\"13\": 75, \"5\": 155, \"10\": 35, \"7\": 7, \"4\": 6, \"11\": 1, \"14\": 2, \"1\": 14, \"6\": 3, \"8\": 2}, \"7\": {\"7\": 189, \"5\": 3, \"6\": 3, \"10\": 7, \"13\": 87, \"1\": 4, \"8\": 7}, \"8\": {\"8\": 229, \"7\": 34, \"14\": 7, \"11\": 7, \"0\": 4, \"4\": 15, \"6\": 2, \"10\": 1, \"13\": 1}, \"3\": {\"2\": 31, \"3\": 265, \"15\": 2, \"12\": 2}, \"9\": {\"9\": 299, \"6\": 1}, \"12\": {\"15\": 84, \"12\": 100, \"2\": 106, \"3\": 10}}, \"26\": {\"12\": {\"3\": 70, \"9\": 128, \"12\": 97, \"6\": 5}, \"10\": {\"3\": 240, \"12\": 47, \"9\": 12, \"2\": 1}, \"3\": {\"3\": 299, \"11\": 1}, \"7\": {\"3\": 300}, \"14\": {\"3\": 258, \"12\": 37, \"9\": 5}, \"2\": {\"3\": 290, \"9\": 8, \"6\": 1, \"2\": 1}, \"5\": {\"3\": 115, \"9\": 140, \"6\": 20, \"12\": 20, \"11\": 3, \"2\": 2}, \"1\": {\"3\": 212, \"12\": 85, \"6\": 1, \"9\": 2}, \"9\": {\"3\": 285, \"9\": 14, \"12\": 1}, \"15\": {\"3\": 185, \"9\": 80, \"12\": 23, \"6\": 8, \"2\": 4}, \"11\": {\"6\": 249, \"12\": 11, \"9\": 25, \"2\": 6, \"10\": 9}, \"6\": {\"12\": 88, \"9\": 65, \"3\": 142, \"6\": 4, \"2\": 1}, \"8\": {\"3\": 299, \"9\": 1}, \"13\": {\"9\": 100, \"3\": 194, \"2\": 6}, \"4\": {\"3\": 300}, \"0\": {\"3\": 281, \"12\": 14, \"9\": 5}}, \"14\": {\"1\": {\"2\": 45, \"3\": 255}, \"10\": {\"3\": 246, \"2\": 54}, \"0\": {\"3\": 299, \"2\": 1}, \"3\": {\"3\": 300}, \"4\": {\"3\": 299, \"2\": 1}, \"5\": {\"3\": 298, \"11\": 2}, \"8\": {\"3\": 206, \"2\": 84, \"11\": 8, \"9\": 2}, \"9\": {\"2\": 292, \"3\": 8}, \"2\": {\"3\": 300}, \"11\": {\"7\": 268, \"8\": 8, \"2\": 3, \"15\": 3, \"13\": 9, \"4\": 5, \"12\": 2, \"6\": 1, \"0\": 1}, \"7\": {\"3\": 289, \"11\": 11}, \"15\": {\"11\": 140, \"3\": 160}, \"14\": {\"3\": 300}, \"13\": {\"3\": 300}, \"12\": {\"2\": 171, \"3\": 33, \"9\": 96}, \"6\": {\"3\": 300}}, \"38\": {\"8\": {\"5\": 93, \"7\": 112, \"15\": 53, \"12\": 2, \"13\": 19, \"3\": 2, \"8\": 7, \"4\": 7, \"9\": 3, \"1\": 2}, \"5\": {\"5\": 116, \"9\": 24, \"13\": 8, \"7\": 98, \"3\": 2, \"12\": 21, \"15\": 18, \"8\": 10, \"1\": 3}, \"15\": {\"5\": 22, \"13\": 41, \"1\": 114, \"8\": 80, \"3\": 23, \"12\": 13, \"9\": 4, \"0\": 1, \"15\": 2}, \"1\": {\"0\": 133, \"10\": 10, \"8\": 84, \"2\": 55, \"1\": 17, \"14\": 1}, \"12\": {\"15\": 296, \"3\": 4}, \"14\": {\"3\": 46, \"7\": 227, \"4\": 24, \"5\": 3}, \"3\": {\"7\": 300}, \"4\": {\"4\": 291, \"7\": 9}, \"11\": {\"7\": 298, \"4\": 2}, \"7\": {\"7\": 192, \"4\": 106, \"15\": 2}, \"10\": {\"7\": 292, \"4\": 8}, \"13\": {\"7\": 300}, \"9\": {\"7\": 152, \"12\": 122, \"9\": 24, \"4\": 2}, \"0\": {\"7\": 288, \"4\": 12}, \"2\": {\"7\": 271, \"3\": 29}, \"6\": {\"2\": 193, \"8\": 62, \"0\": 33, \"13\": 10, \"1\": 2}}, \"20\": {\"1\": {\"2\": 289, \"12\": 1, \"15\": 6, \"3\": 4}, \"4\": {\"2\": 160, \"3\": 10, \"15\": 63, \"12\": 67}, \"8\": {\"3\": 145, \"2\": 100, \"12\": 34, \"15\": 21}, \"13\": {\"2\": 295, \"7\": 2, \"3\": 1, \"12\": 1, \"15\": 1}, \"3\": {\"2\": 242, \"3\": 31, \"12\": 12, \"15\": 15}, \"6\": {\"2\": 153, \"3\": 91, \"12\": 31, \"15\": 25}, \"10\": {\"12\": 85, \"2\": 105, \"15\": 89, \"7\": 11, \"13\": 8, \"3\": 2}, \"7\": {\"2\": 263, \"3\": 21, \"12\": 7, \"15\": 9}, \"15\": {\"2\": 295, \"15\": 5}, \"14\": {\"3\": 177, \"15\": 26, \"2\": 54, \"12\": 43}, \"12\": {\"2\": 276, \"15\": 18, \"12\": 3, \"3\": 3}, \"11\": {\"3\": 267, \"2\": 33}, \"9\": {\"3\": 8, \"2\": 284, \"12\": 4, \"15\": 4}, \"5\": {\"2\": 274, \"12\": 8, \"15\": 12, \"3\": 6}, \"0\": {\"3\": 113, \"2\": 173, \"12\": 6, \"15\": 8}, \"2\": {\"2\": 288, \"12\": 4, \"15\": 6, \"3\": 2}}, \"50\": {\"10\": {\"1\": 237, \"0\": 9, \"10\": 26, \"8\": 28}, \"9\": {\"12\": 95, \"9\": 101, \"7\": 80, \"5\": 22, \"15\": 2}, \"5\": {\"7\": 202, \"5\": 34, \"3\": 46, \"4\": 8, \"13\": 5, \"1\": 2, \"15\": 3}, \"3\": {\"3\": 300}, \"13\": {\"3\": 30, \"1\": 163, \"13\": 101, \"8\": 4, \"15\": 1, \"5\": 1}, \"7\": {\"7\": 294, \"4\": 3, \"3\": 3}, \"0\": {\"10\": 77, \"0\": 200, \"1\": 9, \"2\": 11, \"8\": 3}, \"11\": {\"12\": 57, \"5\": 117, \"9\": 70, \"15\": 53, \"7\": 3}, \"14\": {\"2\": 264, \"0\": 12, \"14\": 19, \"12\": 2, \"13\": 3}, \"6\": {\"7\": 133, \"5\": 152, \"15\": 4, \"9\": 1, \"3\": 5, \"4\": 5}, \"1\": {\"8\": 123, \"13\": 100, \"1\": 74, \"15\": 3}, \"12\": {\"12\": 282, \"9\": 15, \"15\": 1, \"7\": 2}, \"8\": {\"1\": 295, \"8\": 5}, \"15\": {\"7\": 97, \"5\": 148, \"15\": 24, \"4\": 25, \"9\": 4, \"12\": 2}, \"2\": {\"0\": 159, \"2\": 128, \"10\": 11, \"14\": 2}, \"4\": {\"7\": 276, \"4\": 21, \"5\": 2, \"3\": 1}}, \"32\": {\"9\": {\"2\": 210, \"9\": 13, \"10\": 10, \"0\": 53, \"12\": 9, \"13\": 2, \"14\": 2, \"3\": 1}, \"12\": {\"12\": 156, \"2\": 13, \"10\": 100, \"0\": 2, \"6\": 14, \"9\": 15}, \"4\": {\"2\": 158, \"13\": 86, \"14\": 37, \"8\": 19}, \"0\": {\"15\": 8, \"12\": 67, \"8\": 109, \"5\": 59, \"9\": 27, \"14\": 9, \"0\": 17, \"2\": 1, \"7\": 3}, \"8\": {\"8\": 201, \"5\": 51, \"15\": 27, \"2\": 2, \"12\": 2, \"13\": 6, \"0\": 5, \"7\": 1, \"14\": 1, \"9\": 4}, \"7\": {\"12\": 155, \"14\": 9, \"5\": 55, \"7\": 46, \"0\": 4, \"9\": 26, \"8\": 3, \"15\": 2}, \"2\": {\"14\": 75, \"2\": 180, \"8\": 35, \"13\": 9, \"0\": 1}, \"11\": {\"11\": 265, \"3\": 26, \"14\": 5, \"2\": 4}, \"6\": {\"6\": 290, \"9\": 8, \"10\": 2}, \"1\": {\"1\": 300}, \"10\": {\"10\": 296, \"6\": 4}, \"14\": {\"14\": 130, \"12\": 51, \"0\": 10, \"5\": 24, \"7\": 44, \"8\": 23, \"9\": 9, \"2\": 9}, \"5\": {\"9\": 48, \"12\": 70, \"5\": 117, \"8\": 26, \"14\": 4, \"7\": 21, \"15\": 11, \"0\": 3}, \"13\": {\"3\": 67, \"2\": 55, \"13\": 133, \"14\": 20, \"11\": 20, \"8\": 4, \"4\": 1}, \"15\": {\"15\": 298, \"8\": 1, \"5\": 1}, \"3\": {\"13\": 130, \"3\": 137, \"8\": 5, \"2\": 9, \"14\": 6, \"11\": 12, \"15\": 1}}}, \"per_domain_accuracy\": {\"44\": {\"accuracy\": 0.05375, \"source?\": false}, \"8\": {\"accuracy\": 0.5114583333333333, \"source?\": true}, \"26\": {\"accuracy\": 0.08645833333333333, \"source?\": false}, \"14\": {\"accuracy\": 0.0625, \"source?\": false}, \"38\": {\"accuracy\": 0.13520833333333335, \"source?\": false}, \"20\": {\"accuracy\": 0.068125, \"source?\": false}, \"50\": {\"accuracy\": 0.33520833333333333, \"source?\": true}, \"32\": {\"accuracy\": 0.5372916666666666, \"source?\": true}}}, \"history\": {\"epoch_indices\": [1, 2, 3, 4, 5, 6, 7], \"train_label_loss\": [2.3710447406768798, 1.9168318707602365, 1.5446336476008098, 1.275965487162272, 1.0465994664600917, 0.8371924543380738, 0.6507825056711832], \"source_val_label_loss\": [2.122101256277709, 1.8131904865788147, 1.4599938308243203, 1.531074502826792, 1.3443492956921064, 0.9958224929539503, 1.0545088363959727], \"target_val_label_loss\": [3.8190564094705786, 4.537901112373839, 6.095024983933631, 7.078691457180267, 9.058489238962213, 8.392203292948134, 8.817382084562423], \"source_val_acc_label\": [0.2738888888888889, 0.3827777777777778, 0.46131944444444445, 0.47208333333333335, 0.5197916666666667, 0.6520833333333333, 0.6159027777777778], \"target_val_acc_label\": [0.06366666666666666, 0.06495833333333334, 0.08120833333333333, 0.0745, 0.08075, 0.07145833333333333, 0.07179166666666667]}, \"dataset_metrics\": {\"source\": {\"train\": {\"n_unique_x\": 67200, \"n_unique_y\": 16, \"n_batch/episode\": 525}, \"val\": {\"n_unique_x\": 14400, \"n_unique_y\": 16, \"n_batch/episode\": 113}, \"test\": {\"n_unique_x\": 14400, \"n_unique_y\": 16, \"n_batch/episode\": 113}}, \"target\": {\"train\": {\"n_unique_x\": 112000, \"n_unique_y\": 16, \"n_batch/episode\": 875}, \"val\": {\"n_unique_x\": 24000, \"n_unique_y\": 16, \"n_batch/episode\": 188}, \"test\": {\"n_unique_x\": 24000, \"n_unique_y\": 16, \"n_batch/episode\": 188}}}}'"
      ]
     },
     "execution_count": 20,
     "metadata": {},
     "output_type": "execute_result"
    }
   ],
   "source": [
    "json.dumps(experiment)"
   ]
  }
 ],
 "metadata": {
  "celltoolbar": "Tags",
  "kernelspec": {
   "display_name": "Python 3 (ipykernel)",
   "language": "python",
   "name": "python3"
  },
  "language_info": {
   "codemirror_mode": {
    "name": "ipython",
    "version": 3
   },
   "file_extension": ".py",
   "mimetype": "text/x-python",
   "name": "python",
   "nbconvert_exporter": "python",
   "pygments_lexer": "ipython3",
   "version": "3.8.12"
  },
  "papermill": {
   "default_parameters": {},
   "duration": 88.08655,
   "end_time": "2022-03-25T23:01:44.194733",
   "environment_variables": {},
   "exception": null,
   "input_path": "/root/csc500-main/csc500-notebooks/templates/cnn_template.ipynb",
   "output_path": "trial.ipynb",
   "parameters": {
    "parameters": {
     "BEST_MODEL_PATH": "./best_model.pth",
     "NUM_LOGS_PER_EPOCH": 10,
     "batch_size": 128,
     "criteria_for_best": "target_accuracy",
     "dataset_seed": 500,
     "device": "cuda",
     "domains_source": [
      8,
      32,
      50
     ],
     "domains_target": [
      14,
      20,
      26,
      38,
      44
     ],
     "experiment_name": "cnn_1:oracle.run1_limited",
     "labels": [
      "3123D52",
      "3123D65",
      "3123D79",
      "3123D80",
      "3123D54",
      "3123D70",
      "3123D7B",
      "3123D89",
      "3123D58",
      "3123D76",
      "3123D7D",
      "3123EFE",
      "3123D64",
      "3123D78",
      "3123D7E",
      "3124E4A"
     ],
     "lr": 0.0001,
     "n_epoch": 50,
     "normalize_source": false,
     "normalize_target": false,
     "num_examples_per_domain_per_label_source": 2000,
     "num_examples_per_domain_per_label_target": 2000,
     "patience": 3,
     "pickle_name_source": "oracle.Run1_10kExamples_stratified_ds.2022A.pkl",
     "pickle_name_target": "oracle.Run1_10kExamples_stratified_ds.2022A.pkl",
     "seed": 500,
     "torch_default_dtype": "torch.float32",
     "x_net": [
      {
       "class": "nnReshape",
       "kargs": {
        "shape": [
         -1,
         1,
         2,
         256
        ]
       }
      },
      {
       "class": "Conv2d",
       "kargs": {
        "bias": false,
        "in_channels": 1,
        "kernel_size": [
         1,
         7
        ],
        "out_channels": 256,
        "padding": [
         0,
         3
        ]
       }
      },
      {
       "class": "ReLU",
       "kargs": {
        "inplace": true
       }
      },
      {
       "class": "BatchNorm2d",
       "kargs": {
        "num_features": 256
       }
      },
      {
       "class": "Conv2d",
       "kargs": {
        "bias": true,
        "in_channels": 256,
        "kernel_size": [
         2,
         7
        ],
        "out_channels": 80,
        "padding": [
         0,
         3
        ]
       }
      },
      {
       "class": "ReLU",
       "kargs": {
        "inplace": true
       }
      },
      {
       "class": "BatchNorm2d",
       "kargs": {
        "num_features": 80
       }
      },
      {
       "class": "Flatten",
       "kargs": {}
      },
      {
       "class": "Linear",
       "kargs": {
        "in_features": 20480,
        "out_features": 256
       }
      },
      {
       "class": "ReLU",
       "kargs": {
        "inplace": true
       }
      },
      {
       "class": "BatchNorm1d",
       "kargs": {
        "num_features": 256
       }
      },
      {
       "class": "Linear",
       "kargs": {
        "in_features": 256,
        "out_features": 16
       }
      }
     ]
    }
   },
   "start_time": "2022-03-25T23:00:16.108183",
   "version": "2.3.4"
  }
 },
 "nbformat": 4,
 "nbformat_minor": 5
}