{
 "cells": [
  {
   "cell_type": "code",
   "execution_count": 1,
   "id": "2324682e",
   "metadata": {
    "execution": {
     "iopub.execute_input": "2022-03-25T23:05:53.266997Z",
     "iopub.status.busy": "2022-03-25T23:05:53.265346Z",
     "iopub.status.idle": "2022-03-25T23:05:54.540562Z",
     "shell.execute_reply": "2022-03-25T23:05:54.539689Z"
    },
    "papermill": {
     "duration": 1.312031,
     "end_time": "2022-03-25T23:05:54.540770",
     "exception": false,
     "start_time": "2022-03-25T23:05:53.228739",
     "status": "completed"
    },
    "tags": []
   },
   "outputs": [],
   "source": [
    "import os, json, sys, time, random\n",
    "import numpy as np\n",
    "import torch\n",
    "from  easydict import EasyDict\n",
    "from math import floor\n",
    "from easydict import EasyDict\n",
    "\n",
    "from steves_utils.vanilla_train_eval_test_jig import  Vanilla_Train_Eval_Test_Jig\n",
    "\n",
    "from steves_utils.torch_utils import get_dataset_metrics, independent_accuracy_assesment\n",
    "from steves_models.configurable_vanilla import Configurable_Vanilla\n",
    "from steves_utils.torch_sequential_builder import build_sequential\n",
    "from steves_utils.lazy_map import Lazy_Map\n",
    "from steves_utils.sequence_aggregator import Sequence_Aggregator\n",
    "\n",
    "from steves_utils.stratified_dataset.traditional_accessor import Traditional_Accessor_Factory\n",
    "\n",
    "from steves_utils.cnn_do_report import (\n",
    "    get_loss_curve,\n",
    "    get_results_table,\n",
    "    get_parameters_table,\n",
    "    get_domain_accuracies,\n",
    ")\n",
    "\n",
    "from steves_utils.torch_utils import (\n",
    "    confusion_by_domain_over_dataloader,\n",
    "    independent_accuracy_assesment\n",
    ")\n",
    "\n",
    "from steves_utils.utils_v2 import (\n",
    "    per_domain_accuracy_from_confusion,\n",
    "    get_datasets_base_path\n",
    ")\n",
    "\n",
    "# from steves_utils.ptn_do_report import TBD"
   ]
  },
  {
   "cell_type": "code",
   "execution_count": 2,
   "id": "1b29e3fe",
   "metadata": {
    "execution": {
     "iopub.execute_input": "2022-03-25T23:05:54.578087Z",
     "iopub.status.busy": "2022-03-25T23:05:54.577512Z",
     "iopub.status.idle": "2022-03-25T23:05:54.580326Z",
     "shell.execute_reply": "2022-03-25T23:05:54.579768Z"
    },
    "papermill": {
     "duration": 0.02184,
     "end_time": "2022-03-25T23:05:54.580433",
     "exception": false,
     "start_time": "2022-03-25T23:05:54.558593",
     "status": "completed"
    },
    "tags": []
   },
   "outputs": [],
   "source": [
    "required_parameters = {\n",
    "    \"experiment_name\",\n",
    "    \"lr\",\n",
    "    \"device\",\n",
    "    \"dataset_seed\",\n",
    "    \"seed\",\n",
    "    \"labels\",\n",
    "    \"domains_target\",\n",
    "    \"domains_source\",\n",
    "    \"num_examples_per_domain_per_label_source\",\n",
    "    \"num_examples_per_domain_per_label_target\",\n",
    "    \"batch_size\",\n",
    "    \"n_epoch\",\n",
    "    \"patience\",\n",
    "    \"criteria_for_best\",\n",
    "    \"normalize_source\",\n",
    "    \"normalize_target\",\n",
    "    \"x_net\",\n",
    "    \"NUM_LOGS_PER_EPOCH\",\n",
    "    \"BEST_MODEL_PATH\",\n",
    "    \"pickle_name_source\",\n",
    "    \"pickle_name_target\",\n",
    "    \"torch_default_dtype\",\n",
    "}"
   ]
  },
  {
   "cell_type": "code",
   "execution_count": 3,
   "id": "670b5fb8",
   "metadata": {
    "execution": {
     "iopub.execute_input": "2022-03-25T23:05:54.627331Z",
     "iopub.status.busy": "2022-03-25T23:05:54.615582Z",
     "iopub.status.idle": "2022-03-25T23:05:54.637107Z",
     "shell.execute_reply": "2022-03-25T23:05:54.636321Z"
    },
    "papermill": {
     "duration": 0.036959,
     "end_time": "2022-03-25T23:05:54.637259",
     "exception": false,
     "start_time": "2022-03-25T23:05:54.600300",
     "status": "completed"
    },
    "tags": [
     "parameters"
    ]
   },
   "outputs": [],
   "source": [
    "from steves_utils.ORACLE.utils_v2 import (\n",
    "    ALL_SERIAL_NUMBERS,\n",
    "    ALL_DISTANCES_FEET_NARROWED,\n",
    ")\n",
    "\n",
    "standalone_parameters = {}\n",
    "standalone_parameters[\"experiment_name\"] = \"MANUAL CORES CNN\"\n",
    "standalone_parameters[\"lr\"] = 0.0001\n",
    "standalone_parameters[\"device\"] = \"cuda\"\n",
    "\n",
    "standalone_parameters[\"dataset_seed\"] = 1337\n",
    "standalone_parameters[\"seed\"] = 1337\n",
    "standalone_parameters[\"labels\"] = ALL_SERIAL_NUMBERS\n",
    "\n",
    "standalone_parameters[\"domains_source\"] = [8,32,50]\n",
    "standalone_parameters[\"domains_target\"] = [14,20,26,38,44,]\n",
    "\n",
    "standalone_parameters[\"num_examples_per_domain_per_label_source\"]=-1\n",
    "standalone_parameters[\"num_examples_per_domain_per_label_target\"]=-1\n",
    "\n",
    "standalone_parameters[\"pickle_name_source\"] = \"oracle.Run1_framed_2000Examples_stratified_ds.2022A.pkl\"\n",
    "standalone_parameters[\"pickle_name_target\"] = \"oracle.Run2_framed_2000Examples_stratified_ds.2022A.pkl\"\n",
    "\n",
    "standalone_parameters[\"torch_default_dtype\"] = \"torch.float32\" \n",
    "\n",
    "standalone_parameters[\"batch_size\"]=128\n",
    "\n",
    "standalone_parameters[\"n_epoch\"] = 3\n",
    "\n",
    "standalone_parameters[\"patience\"] = 10\n",
    "\n",
    "standalone_parameters[\"criteria_for_best\"] = \"target_accuracy\"\n",
    "standalone_parameters[\"normalize_source\"] = False\n",
    "standalone_parameters[\"normalize_target\"] = False\n",
    "\n",
    "standalone_parameters[\"x_net\"] =     [\n",
    "    {\"class\": \"nnReshape\", \"kargs\": {\"shape\":[-1, 1, 2, 256]}},\n",
    "    {\"class\": \"Conv2d\", \"kargs\": { \"in_channels\":1, \"out_channels\":256, \"kernel_size\":(1,7), \"bias\":False, \"padding\":(0,3), },},\n",
    "    {\"class\": \"ReLU\", \"kargs\": {\"inplace\": True}},\n",
    "    {\"class\": \"BatchNorm2d\", \"kargs\": {\"num_features\":256}},\n",
    "\n",
    "    {\"class\": \"Conv2d\", \"kargs\": { \"in_channels\":256, \"out_channels\":80, \"kernel_size\":(2,7), \"bias\":True, \"padding\":(0,3), },},\n",
    "    {\"class\": \"ReLU\", \"kargs\": {\"inplace\": True}},\n",
    "    {\"class\": \"BatchNorm2d\", \"kargs\": {\"num_features\":80}},\n",
    "    {\"class\": \"Flatten\", \"kargs\": {}},\n",
    "\n",
    "    {\"class\": \"Linear\", \"kargs\": {\"in_features\": 80*256, \"out_features\": 256}}, # 80 units per IQ pair\n",
    "    {\"class\": \"ReLU\", \"kargs\": {\"inplace\": True}},\n",
    "    {\"class\": \"BatchNorm1d\", \"kargs\": {\"num_features\":256}},\n",
    "\n",
    "    {\"class\": \"Linear\", \"kargs\": {\"in_features\": 256, \"out_features\": len(standalone_parameters[\"labels\"])}},\n",
    "]\n",
    "\n",
    "standalone_parameters[\"NUM_LOGS_PER_EPOCH\"] = 10\n",
    "standalone_parameters[\"BEST_MODEL_PATH\"] = \"./best_model.pth\""
   ]
  },
  {
   "cell_type": "code",
   "execution_count": 4,
   "id": "2f3ec286",
   "metadata": {
    "execution": {
     "iopub.execute_input": "2022-03-25T23:05:54.683219Z",
     "iopub.status.busy": "2022-03-25T23:05:54.671786Z",
     "iopub.status.idle": "2022-03-25T23:05:54.685273Z",
     "shell.execute_reply": "2022-03-25T23:05:54.685951Z"
    },
    "papermill": {
     "duration": 0.029976,
     "end_time": "2022-03-25T23:05:54.686134",
     "exception": false,
     "start_time": "2022-03-25T23:05:54.656158",
     "status": "completed"
    },
    "tags": [
     "injected-parameters"
    ]
   },
   "outputs": [],
   "source": [
    "# Parameters\n",
    "parameters = {\n",
    "    \"experiment_name\": \"cnn_1:oracle.run1_limited\",\n",
    "    \"labels\": [\n",
    "        \"3123D52\",\n",
    "        \"3123D65\",\n",
    "        \"3123D79\",\n",
    "        \"3123D80\",\n",
    "        \"3123D54\",\n",
    "        \"3123D70\",\n",
    "        \"3123D7B\",\n",
    "        \"3123D89\",\n",
    "        \"3123D58\",\n",
    "        \"3123D76\",\n",
    "        \"3123D7D\",\n",
    "        \"3123EFE\",\n",
    "        \"3123D64\",\n",
    "        \"3123D78\",\n",
    "        \"3123D7E\",\n",
    "        \"3124E4A\",\n",
    "    ],\n",
    "    \"domains_source\": [8, 32, 50],\n",
    "    \"domains_target\": [14, 20, 26, 38, 44],\n",
    "    \"pickle_name_source\": \"oracle.Run1_10kExamples_stratified_ds.2022A.pkl\",\n",
    "    \"pickle_name_target\": \"oracle.Run1_10kExamples_stratified_ds.2022A.pkl\",\n",
    "    \"device\": \"cuda\",\n",
    "    \"lr\": 0.0001,\n",
    "    \"batch_size\": 128,\n",
    "    \"normalize_source\": False,\n",
    "    \"normalize_target\": False,\n",
    "    \"num_examples_per_domain_per_label_source\": 2000,\n",
    "    \"num_examples_per_domain_per_label_target\": 2000,\n",
    "    \"torch_default_dtype\": \"torch.float32\",\n",
    "    \"n_epoch\": 50,\n",
    "    \"patience\": 3,\n",
    "    \"criteria_for_best\": \"target_accuracy\",\n",
    "    \"x_net\": [\n",
    "        {\"class\": \"nnReshape\", \"kargs\": {\"shape\": [-1, 1, 2, 256]}},\n",
    "        {\n",
    "            \"class\": \"Conv2d\",\n",
    "            \"kargs\": {\n",
    "                \"in_channels\": 1,\n",
    "                \"out_channels\": 256,\n",
    "                \"kernel_size\": [1, 7],\n",
    "                \"bias\": False,\n",
    "                \"padding\": [0, 3],\n",
    "            },\n",
    "        },\n",
    "        {\"class\": \"ReLU\", \"kargs\": {\"inplace\": True}},\n",
    "        {\"class\": \"BatchNorm2d\", \"kargs\": {\"num_features\": 256}},\n",
    "        {\n",
    "            \"class\": \"Conv2d\",\n",
    "            \"kargs\": {\n",
    "                \"in_channels\": 256,\n",
    "                \"out_channels\": 80,\n",
    "                \"kernel_size\": [2, 7],\n",
    "                \"bias\": True,\n",
    "                \"padding\": [0, 3],\n",
    "            },\n",
    "        },\n",
    "        {\"class\": \"ReLU\", \"kargs\": {\"inplace\": True}},\n",
    "        {\"class\": \"BatchNorm2d\", \"kargs\": {\"num_features\": 80}},\n",
    "        {\"class\": \"Flatten\", \"kargs\": {}},\n",
    "        {\"class\": \"Linear\", \"kargs\": {\"in_features\": 20480, \"out_features\": 256}},\n",
    "        {\"class\": \"ReLU\", \"kargs\": {\"inplace\": True}},\n",
    "        {\"class\": \"BatchNorm1d\", \"kargs\": {\"num_features\": 256}},\n",
    "        {\"class\": \"Linear\", \"kargs\": {\"in_features\": 256, \"out_features\": 16}},\n",
    "    ],\n",
    "    \"NUM_LOGS_PER_EPOCH\": 10,\n",
    "    \"BEST_MODEL_PATH\": \"./best_model.pth\",\n",
    "    \"dataset_seed\": 1337,\n",
    "    \"seed\": 1337,\n",
    "}\n"
   ]
  },
  {
   "cell_type": "code",
   "execution_count": 5,
   "id": "759b56ec",
   "metadata": {
    "execution": {
     "iopub.execute_input": "2022-03-25T23:05:54.728970Z",
     "iopub.status.busy": "2022-03-25T23:05:54.728406Z",
     "iopub.status.idle": "2022-03-25T23:05:54.731453Z",
     "shell.execute_reply": "2022-03-25T23:05:54.730971Z"
    },
    "papermill": {
     "duration": 0.02447,
     "end_time": "2022-03-25T23:05:54.731582",
     "exception": false,
     "start_time": "2022-03-25T23:05:54.707112",
     "status": "completed"
    },
    "tags": []
   },
   "outputs": [],
   "source": [
    "# Set this to True if you want to run this template directly\n",
    "STANDALONE = False\n",
    "if STANDALONE:\n",
    "    print(\"parameters not injected, running with standalone_parameters\")\n",
    "    parameters = standalone_parameters\n",
    "\n",
    "if not 'parameters' in locals() and not 'parameters' in globals():\n",
    "    raise Exception(\"Parameter injection failed\")\n",
    "\n",
    "#Use an easy dict for all the parameters\n",
    "p = EasyDict(parameters)\n",
    "\n",
    "supplied_keys = set(p.keys())\n",
    "\n",
    "if  supplied_keys != required_parameters:\n",
    "    print(\"Parameters are incorrect\")\n",
    "    if len(supplied_keys - required_parameters)>0: print(\"Shouldn't have:\", str(supplied_keys - required_parameters))\n",
    "    if len(required_parameters - supplied_keys)>0: print(\"Need to have:\", str(required_parameters - supplied_keys))\n",
    "    raise RuntimeError(\"Parameters are incorrect\")\n",
    "\n"
   ]
  },
  {
   "cell_type": "code",
   "execution_count": 6,
   "id": "d5c66a71",
   "metadata": {
    "execution": {
     "iopub.execute_input": "2022-03-25T23:05:54.770121Z",
     "iopub.status.busy": "2022-03-25T23:05:54.769750Z",
     "iopub.status.idle": "2022-03-25T23:05:54.773263Z",
     "shell.execute_reply": "2022-03-25T23:05:54.773554Z"
    },
    "papermill": {
     "duration": 0.022138,
     "end_time": "2022-03-25T23:05:54.773653",
     "exception": false,
     "start_time": "2022-03-25T23:05:54.751515",
     "status": "completed"
    },
    "tags": []
   },
   "outputs": [],
   "source": [
    "###################################\n",
    "# Set the RNGs and make it all deterministic\n",
    "###################################\n",
    "np.random.seed(p.seed)\n",
    "random.seed(p.seed)\n",
    "torch.manual_seed(p.seed)\n",
    "\n",
    "torch.use_deterministic_algorithms(True) "
   ]
  },
  {
   "cell_type": "code",
   "execution_count": 7,
   "id": "92a65876",
   "metadata": {
    "execution": {
     "iopub.execute_input": "2022-03-25T23:05:54.811131Z",
     "iopub.status.busy": "2022-03-25T23:05:54.810761Z",
     "iopub.status.idle": "2022-03-25T23:05:54.813247Z",
     "shell.execute_reply": "2022-03-25T23:05:54.813535Z"
    },
    "papermill": {
     "duration": 0.020901,
     "end_time": "2022-03-25T23:05:54.813635",
     "exception": false,
     "start_time": "2022-03-25T23:05:54.792734",
     "status": "completed"
    },
    "tags": []
   },
   "outputs": [],
   "source": [
    "torch.set_default_dtype(eval(p.torch_default_dtype))"
   ]
  },
  {
   "cell_type": "code",
   "execution_count": 8,
   "id": "f1a32f01",
   "metadata": {
    "execution": {
     "iopub.execute_input": "2022-03-25T23:05:54.850564Z",
     "iopub.status.busy": "2022-03-25T23:05:54.850188Z",
     "iopub.status.idle": "2022-03-25T23:05:54.889533Z",
     "shell.execute_reply": "2022-03-25T23:05:54.888776Z"
    },
    "papermill": {
     "duration": 0.058145,
     "end_time": "2022-03-25T23:05:54.889707",
     "exception": false,
     "start_time": "2022-03-25T23:05:54.831562",
     "status": "completed"
    },
    "tags": []
   },
   "outputs": [],
   "source": [
    "###################################\n",
    "# Build the network(s)\n",
    "# Note: It's critical to do this AFTER setting the RNG\n",
    "###################################\n",
    "x_net = build_sequential(p.x_net)"
   ]
  },
  {
   "cell_type": "code",
   "execution_count": 9,
   "id": "a276cd83",
   "metadata": {
    "execution": {
     "iopub.execute_input": "2022-03-25T23:05:54.929759Z",
     "iopub.status.busy": "2022-03-25T23:05:54.929386Z",
     "iopub.status.idle": "2022-03-25T23:05:54.931863Z",
     "shell.execute_reply": "2022-03-25T23:05:54.932169Z"
    },
    "papermill": {
     "duration": 0.020588,
     "end_time": "2022-03-25T23:05:54.932266",
     "exception": false,
     "start_time": "2022-03-25T23:05:54.911678",
     "status": "completed"
    },
    "tags": []
   },
   "outputs": [],
   "source": [
    "start_time_secs = time.time()"
   ]
  },
  {
   "cell_type": "code",
   "execution_count": 10,
   "id": "de702e48",
   "metadata": {
    "execution": {
     "iopub.execute_input": "2022-03-25T23:05:54.978381Z",
     "iopub.status.busy": "2022-03-25T23:05:54.977469Z",
     "iopub.status.idle": "2022-03-25T23:06:03.974560Z",
     "shell.execute_reply": "2022-03-25T23:06:03.973733Z"
    },
    "papermill": {
     "duration": 9.024847,
     "end_time": "2022-03-25T23:06:03.974739",
     "exception": false,
     "start_time": "2022-03-25T23:05:54.949892",
     "status": "completed"
    },
    "tags": []
   },
   "outputs": [],
   "source": [
    "def wrap_in_dataloader(p, ds):\n",
    "    return torch.utils.data.DataLoader(\n",
    "        ds,\n",
    "        batch_size=p.batch_size,\n",
    "        shuffle=True,\n",
    "        num_workers=1,\n",
    "        persistent_workers=True,\n",
    "        prefetch_factor=50,\n",
    "        pin_memory=True\n",
    "    )\n",
    "\n",
    "taf_source = Traditional_Accessor_Factory(\n",
    "    labels=p.labels,\n",
    "    domains=p.domains_source,\n",
    "    num_examples_per_domain_per_label=p.num_examples_per_domain_per_label_source,\n",
    "    pickle_path=os.path.join(get_datasets_base_path(), p.pickle_name_source),\n",
    "    seed=p.dataset_seed\n",
    ")\n",
    "train_original_source, val_original_source, test_original_source = \\\n",
    "    taf_source.get_train(), taf_source.get_val(), taf_source.get_test()\n",
    "\n",
    "\n",
    "taf_target = Traditional_Accessor_Factory(\n",
    "    labels=p.labels,\n",
    "    domains=p.domains_target,\n",
    "    num_examples_per_domain_per_label=p.num_examples_per_domain_per_label_source,\n",
    "    pickle_path=os.path.join(get_datasets_base_path(), p.pickle_name_target),\n",
    "    seed=p.dataset_seed\n",
    ")\n",
    "train_original_target, val_original_target, test_original_target = \\\n",
    "    taf_target.get_train(), taf_target.get_val(), taf_target.get_test()\n",
    "\n",
    "\n",
    "# For CNN We only use X and Y. And we only train on the source.\n",
    "# Properly form the data using a transform lambda and Lazy_Map. Finally wrap them in a dataloader\n",
    "\n",
    "transform_lambda = lambda ex: ex[:2] # Strip the tuple to just (x,y)\n",
    "\n",
    "\n",
    "train_processed_source = wrap_in_dataloader(\n",
    "    p,\n",
    "    Lazy_Map(train_original_source, transform_lambda)\n",
    ")\n",
    "val_processed_source = wrap_in_dataloader(\n",
    "    p,\n",
    "    Lazy_Map(val_original_source, transform_lambda)\n",
    ")\n",
    "test_processed_source = wrap_in_dataloader(\n",
    "    p,\n",
    "    Lazy_Map(test_original_source, transform_lambda)\n",
    ")\n",
    "\n",
    "train_processed_target = wrap_in_dataloader(\n",
    "    p,\n",
    "    Lazy_Map(train_original_target, transform_lambda)\n",
    ")\n",
    "val_processed_target = wrap_in_dataloader(\n",
    "    p,\n",
    "    Lazy_Map(val_original_target, transform_lambda)\n",
    ")\n",
    "test_processed_target  = wrap_in_dataloader(\n",
    "    p,\n",
    "    Lazy_Map(test_original_target, transform_lambda)\n",
    ")\n",
    "\n",
    "\n",
    "\n",
    "datasets = EasyDict({\n",
    "    \"source\": {\n",
    "        \"original\": {\"train\":train_original_source, \"val\":val_original_source, \"test\":test_original_source},\n",
    "        \"processed\": {\"train\":train_processed_source, \"val\":val_processed_source, \"test\":test_processed_source}\n",
    "    },\n",
    "    \"target\": {\n",
    "        \"original\": {\"train\":train_original_target, \"val\":val_original_target, \"test\":test_original_target},\n",
    "        \"processed\": {\"train\":train_processed_target, \"val\":val_processed_target, \"test\":test_processed_target}\n",
    "    },\n",
    "})"
   ]
  },
  {
   "cell_type": "code",
   "execution_count": 11,
   "id": "a11b26bd",
   "metadata": {
    "execution": {
     "iopub.execute_input": "2022-03-25T23:06:04.057381Z",
     "iopub.status.busy": "2022-03-25T23:06:04.056539Z",
     "iopub.status.idle": "2022-03-25T23:06:09.085435Z",
     "shell.execute_reply": "2022-03-25T23:06:09.084571Z"
    },
    "papermill": {
     "duration": 5.091235,
     "end_time": "2022-03-25T23:06:09.085611",
     "exception": false,
     "start_time": "2022-03-25T23:06:03.994376",
     "status": "completed"
    },
    "tags": []
   },
   "outputs": [
    {
     "data": {
      "text/plain": [
       "torch.float32"
      ]
     },
     "execution_count": 11,
     "metadata": {},
     "output_type": "execute_result"
    }
   ],
   "source": [
    "ep = next(iter(test_processed_target))\n",
    "ep[0].dtype"
   ]
  },
  {
   "cell_type": "code",
   "execution_count": 12,
   "id": "19425fad",
   "metadata": {
    "execution": {
     "iopub.execute_input": "2022-03-25T23:06:09.144493Z",
     "iopub.status.busy": "2022-03-25T23:06:09.143640Z",
     "iopub.status.idle": "2022-03-25T23:06:09.194910Z",
     "shell.execute_reply": "2022-03-25T23:06:09.194224Z"
    },
    "papermill": {
     "duration": 0.090819,
     "end_time": "2022-03-25T23:06:09.195074",
     "exception": false,
     "start_time": "2022-03-25T23:06:09.104255",
     "status": "completed"
    },
    "tags": []
   },
   "outputs": [],
   "source": [
    "model = Configurable_Vanilla(\n",
    "    x_net=x_net,\n",
    "    label_loss_object=torch.nn.NLLLoss(),\n",
    "    learning_rate=p.lr\n",
    ")"
   ]
  },
  {
   "cell_type": "code",
   "execution_count": 13,
   "id": "7f6d4f2c",
   "metadata": {
    "execution": {
     "iopub.execute_input": "2022-03-25T23:06:09.234930Z",
     "iopub.status.busy": "2022-03-25T23:06:09.234560Z",
     "iopub.status.idle": "2022-03-25T23:06:45.395063Z",
     "shell.execute_reply": "2022-03-25T23:06:45.394218Z"
    },
    "papermill": {
     "duration": 36.180351,
     "end_time": "2022-03-25T23:06:45.395236",
     "exception": false,
     "start_time": "2022-03-25T23:06:09.214885",
     "status": "completed"
    },
    "tags": []
   },
   "outputs": [
    {
     "name": "stdout",
     "output_type": "stream",
     "text": [
      "epoch: 1, [batch: 1 / 525], examples_per_second: 736.4121, train_label_loss: 2.8044, \n"
     ]
    },
    {
     "name": "stdout",
     "output_type": "stream",
     "text": [
      "epoch: 1, [batch: 53 / 525], examples_per_second: 12588.1299, train_label_loss: 2.6320, \n"
     ]
    },
    {
     "name": "stdout",
     "output_type": "stream",
     "text": [
      "epoch: 1, [batch: 105 / 525], examples_per_second: 13019.0340, train_label_loss: 2.4628, \n"
     ]
    },
    {
     "name": "stdout",
     "output_type": "stream",
     "text": [
      "epoch: 1, [batch: 158 / 525], examples_per_second: 13115.1565, train_label_loss: 2.4694, \n"
     ]
    },
    {
     "name": "stdout",
     "output_type": "stream",
     "text": [
      "epoch: 1, [batch: 210 / 525], examples_per_second: 13031.9970, train_label_loss: 2.3918, \n"
     ]
    },
    {
     "name": "stdout",
     "output_type": "stream",
     "text": [
      "epoch: 1, [batch: 263 / 525], examples_per_second: 13012.5228, train_label_loss: 2.3234, \n"
     ]
    },
    {
     "name": "stdout",
     "output_type": "stream",
     "text": [
      "epoch: 1, [batch: 315 / 525], examples_per_second: 12970.2582, train_label_loss: 2.3380, \n"
     ]
    },
    {
     "name": "stdout",
     "output_type": "stream",
     "text": [
      "epoch: 1, [batch: 367 / 525], examples_per_second: 13144.7287, train_label_loss: 2.2631, \n"
     ]
    },
    {
     "name": "stdout",
     "output_type": "stream",
     "text": [
      "epoch: 1, [batch: 420 / 525], examples_per_second: 12976.0930, train_label_loss: 2.3367, \n"
     ]
    },
    {
     "name": "stdout",
     "output_type": "stream",
     "text": [
      "epoch: 1, [batch: 472 / 525], examples_per_second: 12819.5969, train_label_loss: 2.2951, \n"
     ]
    },
    {
     "name": "stdout",
     "output_type": "stream",
     "text": [
      "=============================================================\n",
      "epoch: 1, source_val_acc_label: 0.2792, source_val_label_loss: 2.1250, target_val_acc_label: 0.0950, target_val_label_loss: 3.8632, \n",
      "=============================================================\n"
     ]
    },
    {
     "name": "stdout",
     "output_type": "stream",
     "text": [
      "New best\n",
      "epoch: 2, [batch: 1 / 525], examples_per_second: 114.6947, train_label_loss: 2.0778, \n"
     ]
    },
    {
     "name": "stdout",
     "output_type": "stream",
     "text": [
      "epoch: 2, [batch: 53 / 525], examples_per_second: 12817.2485, train_label_loss: 2.0684, \n"
     ]
    },
    {
     "name": "stdout",
     "output_type": "stream",
     "text": [
      "epoch: 2, [batch: 105 / 525], examples_per_second: 12774.9781, train_label_loss: 2.0667, \n"
     ]
    },
    {
     "name": "stdout",
     "output_type": "stream",
     "text": [
      "epoch: 2, [batch: 158 / 525], examples_per_second: 12456.8707, train_label_loss: 2.1894, \n"
     ]
    },
    {
     "name": "stdout",
     "output_type": "stream",
     "text": [
      "epoch: 2, [batch: 210 / 525], examples_per_second: 12973.3140, train_label_loss: 1.9719, \n"
     ]
    },
    {
     "name": "stdout",
     "output_type": "stream",
     "text": [
      "epoch: 2, [batch: 263 / 525], examples_per_second: 12938.7721, train_label_loss: 1.9484, \n"
     ]
    },
    {
     "name": "stdout",
     "output_type": "stream",
     "text": [
      "epoch: 2, [batch: 315 / 525], examples_per_second: 12725.9508, train_label_loss: 1.8807, \n"
     ]
    },
    {
     "name": "stdout",
     "output_type": "stream",
     "text": [
      "epoch: 2, [batch: 367 / 525], examples_per_second: 13420.3404, train_label_loss: 1.8020, \n"
     ]
    },
    {
     "name": "stdout",
     "output_type": "stream",
     "text": [
      "epoch: 2, [batch: 420 / 525], examples_per_second: 14047.6971, train_label_loss: 1.9629, \n"
     ]
    },
    {
     "name": "stdout",
     "output_type": "stream",
     "text": [
      "epoch: 2, [batch: 472 / 525], examples_per_second: 14175.1910, train_label_loss: 1.9043, \n"
     ]
    },
    {
     "name": "stdout",
     "output_type": "stream",
     "text": [
      "=============================================================\n",
      "epoch: 2, source_val_acc_label: 0.3928, source_val_label_loss: 1.7200, target_val_acc_label: 0.0793, target_val_label_loss: 5.1120, \n",
      "=============================================================\n"
     ]
    },
    {
     "name": "stdout",
     "output_type": "stream",
     "text": [
      "epoch: 3, [batch: 1 / 525], examples_per_second: 161.3941, train_label_loss: 1.6012, \n"
     ]
    },
    {
     "name": "stdout",
     "output_type": "stream",
     "text": [
      "epoch: 3, [batch: 53 / 525], examples_per_second: 12425.5817, train_label_loss: 1.8008, \n"
     ]
    },
    {
     "name": "stdout",
     "output_type": "stream",
     "text": [
      "epoch: 3, [batch: 105 / 525], examples_per_second: 12789.8966, train_label_loss: 1.6745, \n"
     ]
    },
    {
     "name": "stdout",
     "output_type": "stream",
     "text": [
      "epoch: 3, [batch: 158 / 525], examples_per_second: 12673.4024, train_label_loss: 1.6251, \n"
     ]
    },
    {
     "name": "stdout",
     "output_type": "stream",
     "text": [
      "epoch: 3, [batch: 210 / 525], examples_per_second: 12737.1626, train_label_loss: 1.5160, \n"
     ]
    },
    {
     "name": "stdout",
     "output_type": "stream",
     "text": [
      "epoch: 3, [batch: 263 / 525], examples_per_second: 12298.7252, train_label_loss: 1.6328, \n"
     ]
    },
    {
     "name": "stdout",
     "output_type": "stream",
     "text": [
      "epoch: 3, [batch: 315 / 525], examples_per_second: 10753.3787, train_label_loss: 1.7498, \n"
     ]
    },
    {
     "name": "stdout",
     "output_type": "stream",
     "text": [
      "epoch: 3, [batch: 367 / 525], examples_per_second: 10720.7763, train_label_loss: 1.4583, \n"
     ]
    },
    {
     "name": "stdout",
     "output_type": "stream",
     "text": [
      "epoch: 3, [batch: 420 / 525], examples_per_second: 10627.1724, train_label_loss: 1.4277, \n"
     ]
    },
    {
     "name": "stdout",
     "output_type": "stream",
     "text": [
      "epoch: 3, [batch: 472 / 525], examples_per_second: 10735.1721, train_label_loss: 1.3555, \n"
     ]
    },
    {
     "name": "stdout",
     "output_type": "stream",
     "text": [
      "=============================================================\n",
      "epoch: 3, source_val_acc_label: 0.4670, source_val_label_loss: 1.4721, target_val_acc_label: 0.0880, target_val_label_loss: 5.8709, \n",
      "=============================================================\n"
     ]
    },
    {
     "name": "stdout",
     "output_type": "stream",
     "text": [
      "epoch: 4, [batch: 1 / 525], examples_per_second: 122.9059, train_label_loss: 1.4394, \n"
     ]
    },
    {
     "name": "stdout",
     "output_type": "stream",
     "text": [
      "epoch: 4, [batch: 53 / 525], examples_per_second: 10617.7804, train_label_loss: 1.3416, \n"
     ]
    },
    {
     "name": "stdout",
     "output_type": "stream",
     "text": [
      "epoch: 4, [batch: 105 / 525], examples_per_second: 10692.2394, train_label_loss: 1.2997, \n"
     ]
    },
    {
     "name": "stdout",
     "output_type": "stream",
     "text": [
      "epoch: 4, [batch: 158 / 525], examples_per_second: 10622.8676, train_label_loss: 1.2398, \n"
     ]
    },
    {
     "name": "stdout",
     "output_type": "stream",
     "text": [
      "epoch: 4, [batch: 210 / 525], examples_per_second: 10728.7651, train_label_loss: 1.3491, \n"
     ]
    },
    {
     "name": "stdout",
     "output_type": "stream",
     "text": [
      "epoch: 4, [batch: 263 / 525], examples_per_second: 10408.2162, train_label_loss: 1.2629, \n"
     ]
    },
    {
     "name": "stdout",
     "output_type": "stream",
     "text": [
      "epoch: 4, [batch: 315 / 525], examples_per_second: 10678.3669, train_label_loss: 1.5454, \n"
     ]
    },
    {
     "name": "stdout",
     "output_type": "stream",
     "text": [
      "epoch: 4, [batch: 367 / 525], examples_per_second: 10423.0821, train_label_loss: 1.1184, \n"
     ]
    },
    {
     "name": "stdout",
     "output_type": "stream",
     "text": [
      "epoch: 4, [batch: 420 / 525], examples_per_second: 10510.3899, train_label_loss: 1.0913, \n"
     ]
    },
    {
     "name": "stdout",
     "output_type": "stream",
     "text": [
      "epoch: 4, [batch: 472 / 525], examples_per_second: 10712.7624, train_label_loss: 1.1726, \n"
     ]
    },
    {
     "name": "stdout",
     "output_type": "stream",
     "text": [
      "=============================================================\n",
      "epoch: 4, source_val_acc_label: 0.5658, source_val_label_loss: 1.2621, target_val_acc_label: 0.0798, target_val_label_loss: 6.4808, \n",
      "=============================================================\n"
     ]
    },
    {
     "name": "stdout",
     "output_type": "stream",
     "text": [
      "epoch: 5, [batch: 1 / 525], examples_per_second: 124.5484, train_label_loss: 0.9919, \n"
     ]
    },
    {
     "name": "stdout",
     "output_type": "stream",
     "text": [
      "epoch: 5, [batch: 53 / 525], examples_per_second: 10607.6822, train_label_loss: 1.0592, \n"
     ]
    },
    {
     "name": "stdout",
     "output_type": "stream",
     "text": [
      "epoch: 5, [batch: 105 / 525], examples_per_second: 10703.0245, train_label_loss: 1.0494, \n"
     ]
    },
    {
     "name": "stdout",
     "output_type": "stream",
     "text": [
      "epoch: 5, [batch: 158 / 525], examples_per_second: 10449.3590, train_label_loss: 1.0581, \n"
     ]
    },
    {
     "name": "stdout",
     "output_type": "stream",
     "text": [
      "epoch: 5, [batch: 210 / 525], examples_per_second: 10673.5943, train_label_loss: 1.0558, \n"
     ]
    },
    {
     "name": "stdout",
     "output_type": "stream",
     "text": [
      "epoch: 5, [batch: 263 / 525], examples_per_second: 10564.2012, train_label_loss: 1.1153, \n"
     ]
    },
    {
     "name": "stdout",
     "output_type": "stream",
     "text": [
      "epoch: 5, [batch: 315 / 525], examples_per_second: 10644.7881, train_label_loss: 1.0530, \n"
     ]
    },
    {
     "name": "stdout",
     "output_type": "stream",
     "text": [
      "epoch: 5, [batch: 367 / 525], examples_per_second: 10531.2289, train_label_loss: 0.9534, \n"
     ]
    },
    {
     "name": "stdout",
     "output_type": "stream",
     "text": [
      "epoch: 5, [batch: 420 / 525], examples_per_second: 10660.8252, train_label_loss: 1.0164, \n"
     ]
    },
    {
     "name": "stdout",
     "output_type": "stream",
     "text": [
      "epoch: 5, [batch: 472 / 525], examples_per_second: 10721.8880, train_label_loss: 0.9551, \n"
     ]
    },
    {
     "name": "stdout",
     "output_type": "stream",
     "text": [
      "=============================================================\n",
      "epoch: 5, source_val_acc_label: 0.6179, source_val_label_loss: 1.0854, target_val_acc_label: 0.0748, target_val_label_loss: 8.1698, \n",
      "=============================================================\n"
     ]
    },
    {
     "name": "stdout",
     "output_type": "stream",
     "text": [
      "Patience (3) exhausted\n"
     ]
    }
   ],
   "source": [
    "jig = Vanilla_Train_Eval_Test_Jig(\n",
    "    model=model,\n",
    "    path_to_best_model=p.BEST_MODEL_PATH,\n",
    "    device=p.device,\n",
    "    label_loss_object=torch.nn.NLLLoss(),\n",
    ")\n",
    "\n",
    "jig.train(\n",
    "    train_iterable=datasets.source.processed.train,\n",
    "    source_val_iterable=datasets.source.processed.val,\n",
    "    target_val_iterable=datasets.target.processed.val,\n",
    "    patience=p.patience,\n",
    "    num_epochs=p.n_epoch,\n",
    "    num_logs_per_epoch=p.NUM_LOGS_PER_EPOCH,\n",
    "    criteria_for_best=p.criteria_for_best\n",
    ")"
   ]
  },
  {
   "cell_type": "code",
   "execution_count": 14,
   "id": "4bc2ac17",
   "metadata": {
    "execution": {
     "iopub.execute_input": "2022-03-25T23:06:45.465323Z",
     "iopub.status.busy": "2022-03-25T23:06:45.464486Z",
     "iopub.status.idle": "2022-03-25T23:06:45.466894Z",
     "shell.execute_reply": "2022-03-25T23:06:45.467600Z"
    },
    "papermill": {
     "duration": 0.038695,
     "end_time": "2022-03-25T23:06:45.467795",
     "exception": false,
     "start_time": "2022-03-25T23:06:45.429100",
     "status": "completed"
    },
    "tags": []
   },
   "outputs": [],
   "source": [
    "total_experiment_time_secs = time.time() - start_time_secs"
   ]
  },
  {
   "cell_type": "code",
   "execution_count": 15,
   "id": "cae88f23",
   "metadata": {
    "execution": {
     "iopub.execute_input": "2022-03-25T23:06:45.541741Z",
     "iopub.status.busy": "2022-03-25T23:06:45.540876Z",
     "iopub.status.idle": "2022-03-25T23:06:57.271928Z",
     "shell.execute_reply": "2022-03-25T23:06:57.272618Z"
    },
    "papermill": {
     "duration": 11.771736,
     "end_time": "2022-03-25T23:06:57.272860",
     "exception": false,
     "start_time": "2022-03-25T23:06:45.501124",
     "status": "completed"
    },
    "tags": []
   },
   "outputs": [],
   "source": [
    "source_test_label_accuracy, source_test_label_loss = jig.test(datasets.source.processed.test)\n",
    "target_test_label_accuracy, target_test_label_loss = jig.test(datasets.target.processed.test)\n",
    "\n",
    "source_val_label_accuracy, source_val_label_loss = jig.test(datasets.source.processed.val)\n",
    "target_val_label_accuracy, target_val_label_loss = jig.test(datasets.target.processed.val)\n",
    "\n",
    "history = jig.get_history()\n",
    "\n",
    "total_epochs_trained = len(history[\"epoch_indices\"])\n",
    "\n",
    "val_dl = wrap_in_dataloader(p, Sequence_Aggregator((datasets.source.original.val, datasets.target.original.val)))\n",
    "\n",
    "confusion = confusion_by_domain_over_dataloader(model, p.device, val_dl, forward_uses_domain=False)\n",
    "per_domain_accuracy = per_domain_accuracy_from_confusion(confusion)\n",
    "\n",
    "# Add a key to per_domain_accuracy for if it was a source domain\n",
    "for domain, accuracy in per_domain_accuracy.items():\n",
    "    per_domain_accuracy[domain] = {\n",
    "        \"accuracy\": accuracy,\n",
    "        \"source?\": domain in p.domains_source\n",
    "    }\n",
    "\n",
    "# Do an independent accuracy assesment JUST TO BE SURE!\n",
    "# _source_test_label_accuracy = independent_accuracy_assesment(model, datasets.source.processed.test, p.device)\n",
    "# _target_test_label_accuracy = independent_accuracy_assesment(model, datasets.target.processed.test, p.device)\n",
    "# _source_val_label_accuracy = independent_accuracy_assesment(model, datasets.source.processed.val, p.device)\n",
    "# _target_val_label_accuracy = independent_accuracy_assesment(model, datasets.target.processed.val, p.device)\n",
    "\n",
    "# assert(_source_test_label_accuracy == source_test_label_accuracy)\n",
    "# assert(_target_test_label_accuracy == target_test_label_accuracy)\n",
    "# assert(_source_val_label_accuracy == source_val_label_accuracy)\n",
    "# assert(_target_val_label_accuracy == target_val_label_accuracy)\n",
    "\n",
    "###################################\n",
    "# Write out the results\n",
    "###################################\n",
    "\n",
    "experiment = {\n",
    "    \"experiment_name\": p.experiment_name,\n",
    "    \"parameters\": p,\n",
    "    \"results\": {\n",
    "        \"source_test_label_accuracy\": source_test_label_accuracy,\n",
    "        \"source_test_label_loss\": source_test_label_loss,\n",
    "        \"target_test_label_accuracy\": target_test_label_accuracy,\n",
    "        \"target_test_label_loss\": target_test_label_loss,\n",
    "        \"source_val_label_accuracy\": source_val_label_accuracy,\n",
    "        \"source_val_label_loss\": source_val_label_loss,\n",
    "        \"target_val_label_accuracy\": target_val_label_accuracy,\n",
    "        \"target_val_label_loss\": target_val_label_loss,\n",
    "        \"total_epochs_trained\": total_epochs_trained,\n",
    "        \"total_experiment_time_secs\": total_experiment_time_secs,\n",
    "        \"confusion\": confusion,\n",
    "        \"per_domain_accuracy\": per_domain_accuracy,\n",
    "    },\n",
    "    \"history\": history,\n",
    "    \"dataset_metrics\": get_dataset_metrics(datasets, \"cnn\"),\n",
    "}"
   ]
  },
  {
   "cell_type": "code",
   "execution_count": 16,
   "id": "74c318cf",
   "metadata": {
    "execution": {
     "iopub.execute_input": "2022-03-25T23:06:57.378499Z",
     "iopub.status.busy": "2022-03-25T23:06:57.370000Z",
     "iopub.status.idle": "2022-03-25T23:06:57.557416Z",
     "shell.execute_reply": "2022-03-25T23:06:57.558092Z"
    },
    "papermill": {
     "duration": 0.248678,
     "end_time": "2022-03-25T23:06:57.558307",
     "exception": false,
     "start_time": "2022-03-25T23:06:57.309629",
     "status": "completed"
    },
    "tags": []
   },
   "outputs": [
    {
     "data": {
      "text/plain": [
       "<AxesSubplot:title={'center':'Source Train Label Loss vs Source Val Label Loss'}, xlabel='Epoch'>"
      ]
     },
     "execution_count": 16,
     "metadata": {},
     "output_type": "execute_result"
    },
    {
     "data": {
      "image/png": "[encoded data removed]",
      "text/plain": [
       "<Figure size 1080x504 with 1 Axes>"
      ]
     },
     "metadata": {
      "needs_background": "light"
     },
     "output_type": "display_data"
    }
   ],
   "source": [
    "get_loss_curve(experiment)"
   ]
  },
  {
   "cell_type": "code",
   "execution_count": 17,
   "id": "59376601",
   "metadata": {
    "execution": {
     "iopub.execute_input": "2022-03-25T23:06:57.656839Z",
     "iopub.status.busy": "2022-03-25T23:06:57.656007Z",
     "iopub.status.idle": "2022-03-25T23:06:57.955253Z",
     "shell.execute_reply": "2022-03-25T23:06:57.955978Z"
    },
    "papermill": {
     "duration": 0.360346,
     "end_time": "2022-03-25T23:06:57.956195",
     "exception": false,
     "start_time": "2022-03-25T23:06:57.595849",
     "status": "completed"
    },
    "tags": []
   },
   "outputs": [
    {
     "data": {
      "text/plain": [
       "<AxesSubplot:title={'center':'Results'}>"
      ]
     },
     "execution_count": 17,
     "metadata": {},
     "output_type": "execute_result"
    },
    {
     "data": {
      "image/png": "[encoded data removed]",
      "text/plain": [
       "<Figure size 1080x504 with 1 Axes>"
      ]
     },
     "metadata": {
      "needs_background": "light"
     },
     "output_type": "display_data"
    }
   ],
   "source": [
    "get_results_table(experiment)"
   ]
  },
  {
   "cell_type": "code",
   "execution_count": 18,
   "id": "e80c5c98",
   "metadata": {
    "execution": {
     "iopub.execute_input": "2022-03-25T23:06:58.039435Z",
     "iopub.status.busy": "2022-03-25T23:06:58.038795Z",
     "iopub.status.idle": "2022-03-25T23:06:58.212039Z",
     "shell.execute_reply": "2022-03-25T23:06:58.211273Z"
    },
    "papermill": {
     "duration": 0.216099,
     "end_time": "2022-03-25T23:06:58.212208",
     "exception": false,
     "start_time": "2022-03-25T23:06:57.996109",
     "status": "completed"
    },
    "tags": []
   },
   "outputs": [
    {
     "data": {
      "text/plain": [
       "<AxesSubplot:title={'center':'Per Domain Accuracy'}, xlabel='domain'>"
      ]
     },
     "execution_count": 18,
     "metadata": {},
     "output_type": "execute_result"
    },
    {
     "data": {
      "image/png": "[encoded data removed]",
      "text/plain": [
       "<Figure size 1080x504 with 1 Axes>"
      ]
     },
     "metadata": {
      "needs_background": "light"
     },
     "output_type": "display_data"
    }
   ],
   "source": [
    "get_domain_accuracies(experiment)"
   ]
  },
  {
   "cell_type": "code",
   "execution_count": 19,
   "id": "086fdd10",
   "metadata": {
    "execution": {
     "iopub.execute_input": "2022-03-25T23:06:58.293728Z",
     "iopub.status.busy": "2022-03-25T23:06:58.293345Z",
     "iopub.status.idle": "2022-03-25T23:06:58.297553Z",
     "shell.execute_reply": "2022-03-25T23:06:58.298216Z"
    },
    "papermill": {
     "duration": 0.044939,
     "end_time": "2022-03-25T23:06:58.298412",
     "exception": false,
     "start_time": "2022-03-25T23:06:58.253473",
     "status": "completed"
    },
    "tags": []
   },
   "outputs": [
    {
     "name": "stdout",
     "output_type": "stream",
     "text": [
      "Source Test Label Accuracy: 0.2836111111111111 Target Test Label Accuracy: 0.09566666666666666\n",
      "Source Val Label Accuracy: 0.27923611111111113 Target Val Label Accuracy: 0.095\n"
     ]
    }
   ],
   "source": [
    "print(\"Source Test Label Accuracy:\", experiment[\"results\"][\"source_test_label_accuracy\"], \"Target Test Label Accuracy:\", experiment[\"results\"][\"target_test_label_accuracy\"])\n",
    "print(\"Source Val Label Accuracy:\", experiment[\"results\"][\"source_val_label_accuracy\"], \"Target Val Label Accuracy:\", experiment[\"results\"][\"target_val_label_accuracy\"])"
   ]
  },
  {
   "cell_type": "code",
   "execution_count": 20,
   "id": "9f450536",
   "metadata": {
    "execution": {
     "iopub.execute_input": "2022-03-25T23:06:58.378099Z",
     "iopub.status.busy": "2022-03-25T23:06:58.377727Z",
     "iopub.status.idle": "2022-03-25T23:06:58.381585Z",
     "shell.execute_reply": "2022-03-25T23:06:58.381206Z"
    },
    "papermill": {
     "duration": 0.043425,
     "end_time": "2022-03-25T23:06:58.381666",
     "exception": false,
     "start_time": "2022-03-25T23:06:58.338241",
     "status": "completed"
    },
    "tags": [
     "experiment_json"
    ]
   },
   "outputs": [
    {
     "data": {
      "text/plain": [
       "'{\"experiment_name\": \"cnn_1:oracle.run1_limited\", \"parameters\": {\"experiment_name\": \"cnn_1:oracle.run1_limited\", \"labels\": [\"3123D52\", \"3123D65\", \"3123D79\", \"3123D80\", \"3123D54\", \"3123D70\", \"3123D7B\", \"3123D89\", \"3123D58\", \"3123D76\", \"3123D7D\", \"3123EFE\", \"3123D64\", \"3123D78\", \"3123D7E\", \"3124E4A\"], \"domains_source\": [8, 32, 50], \"domains_target\": [14, 20, 26, 38, 44], \"pickle_name_source\": \"oracle.Run1_10kExamples_stratified_ds.2022A.pkl\", \"pickle_name_target\": \"oracle.Run1_10kExamples_stratified_ds.2022A.pkl\", \"device\": \"cuda\", \"lr\": 0.0001, \"batch_size\": 128, \"normalize_source\": false, \"normalize_target\": false, \"num_examples_per_domain_per_label_source\": 2000, \"num_examples_per_domain_per_label_target\": 2000, \"torch_default_dtype\": \"torch.float32\", \"n_epoch\": 50, \"patience\": 3, \"criteria_for_best\": \"target_accuracy\", \"x_net\": [{\"class\": \"nnReshape\", \"kargs\": {\"shape\": [-1, 1, 2, 256]}}, {\"class\": \"Conv2d\", \"kargs\": {\"in_channels\": 1, \"out_channels\": 256, \"kernel_size\": [1, 7], \"bias\": false, \"padding\": [0, 3]}}, {\"class\": \"ReLU\", \"kargs\": {\"inplace\": true}}, {\"class\": \"BatchNorm2d\", \"kargs\": {\"num_features\": 256}}, {\"class\": \"Conv2d\", \"kargs\": {\"in_channels\": 256, \"out_channels\": 80, \"kernel_size\": [2, 7], \"bias\": true, \"padding\": [0, 3]}}, {\"class\": \"ReLU\", \"kargs\": {\"inplace\": true}}, {\"class\": \"BatchNorm2d\", \"kargs\": {\"num_features\": 80}}, {\"class\": \"Flatten\", \"kargs\": {}}, {\"class\": \"Linear\", \"kargs\": {\"in_features\": 20480, \"out_features\": 256}}, {\"class\": \"ReLU\", \"kargs\": {\"inplace\": true}}, {\"class\": \"BatchNorm1d\", \"kargs\": {\"num_features\": 256}}, {\"class\": \"Linear\", \"kargs\": {\"in_features\": 256, \"out_features\": 16}}], \"NUM_LOGS_PER_EPOCH\": 10, \"BEST_MODEL_PATH\": \"./best_model.pth\", \"dataset_seed\": 1337, \"seed\": 1337}, \"results\": {\"source_test_label_accuracy\": 0.2836111111111111, \"source_test_label_loss\": 2.124291249081097, \"target_test_label_accuracy\": 0.09566666666666666, \"target_test_label_loss\": 3.863921383593945, \"source_val_label_accuracy\": 0.27923611111111113, \"source_val_label_loss\": 2.124904212698472, \"target_val_label_accuracy\": 0.095, \"target_val_label_loss\": 3.863787169152118, \"total_epochs_trained\": 5, \"total_experiment_time_secs\": 50.53432559967041, \"confusion\": {\"14\": {\"12\": {\"3\": 204, \"9\": 95, \"12\": 1}, \"13\": {\"3\": 284, \"9\": 16}, \"2\": {\"3\": 295, \"9\": 5}, \"11\": {\"5\": 87, \"14\": 17, \"7\": 64, \"13\": 67, \"4\": 3, \"10\": 1, \"8\": 24, \"15\": 29, \"11\": 8}, \"8\": {\"3\": 294, \"9\": 6}, \"4\": {\"3\": 300}, \"14\": {\"3\": 298, \"9\": 2}, \"0\": {\"3\": 265, \"9\": 35}, \"7\": {\"3\": 300}, \"5\": {\"3\": 300}, \"1\": {\"3\": 213, \"15\": 84, \"2\": 3}, \"3\": {\"3\": 280, \"9\": 20}, \"10\": {\"3\": 285, \"15\": 14, \"12\": 1}, \"6\": {\"3\": 291, \"9\": 9}, \"9\": {\"3\": 80, \"15\": 202, \"2\": 15, \"12\": 3}, \"15\": {\"2\": 12, \"3\": 215, \"9\": 73}}, \"50\": {\"0\": {\"1\": 79, \"10\": 217, \"0\": 1, \"2\": 3}, \"8\": {\"1\": 300}, \"1\": {\"1\": 244, \"8\": 51, \"15\": 4, \"5\": 1}, \"12\": {\"7\": 259, \"15\": 25, \"5\": 16}, \"14\": {\"10\": 42, \"2\": 232, \"0\": 19, \"1\": 4, \"14\": 3}, \"15\": {\"15\": 41, \"7\": 256, \"5\": 3}, \"11\": {\"15\": 138, \"7\": 110, \"5\": 51, \"8\": 1}, \"4\": {\"7\": 284, \"4\": 16}, \"6\": {\"7\": 273, \"15\": 15, \"5\": 12}, \"7\": {\"7\": 278, \"4\": 19, \"6\": 3}, \"3\": {\"5\": 133, \"1\": 43, \"7\": 73, \"0\": 17, \"6\": 14, \"9\": 3, \"8\": 17}, \"5\": {\"7\": 247, \"15\": 16, \"8\": 8, \"1\": 3, \"5\": 25, \"4\": 1}, \"13\": {\"8\": 50, \"1\": 231, \"5\": 11, \"15\": 7, \"7\": 1}, \"2\": {\"10\": 256, \"1\": 4, \"0\": 13, \"2\": 27}, \"10\": {\"1\": 296, \"10\": 4}, \"9\": {\"7\": 280, \"15\": 19, \"5\": 1}}, \"26\": {\"13\": {\"9\": 251, \"3\": 49}, \"1\": {\"9\": 247, \"3\": 18, \"6\": 21, \"10\": 14}, \"10\": {\"9\": 261, \"6\": 35, \"3\": 4}, \"9\": {\"6\": 6, \"9\": 258, \"3\": 36}, \"12\": {\"9\": 239, \"6\": 61}, \"7\": {\"9\": 214, \"3\": 84, \"6\": 2}, \"15\": {\"9\": 267, \"6\": 28, \"3\": 4, \"10\": 1}, \"0\": {\"6\": 33, \"9\": 261, \"3\": 6}, \"4\": {\"3\": 229, \"9\": 71}, \"8\": {\"6\": 10, \"9\": 257, \"3\": 33}, \"5\": {\"9\": 277, \"6\": 20, \"10\": 2, \"3\": 1}, \"2\": {\"9\": 235, \"3\": 63, \"6\": 2}, \"6\": {\"6\": 31, \"9\": 265, \"2\": 2, \"3\": 1, \"10\": 1}, \"3\": {\"3\": 150, \"9\": 150}, \"14\": {\"9\": 262, \"6\": 31, \"3\": 6, \"10\": 1}, \"11\": {\"10\": 158, \"9\": 58, \"6\": 84}}, \"20\": {\"10\": {\"15\": 300}, \"11\": {\"3\": 300}, \"2\": {\"15\": 300}, \"0\": {\"15\": 93, \"3\": 195, \"2\": 6, \"12\": 6}, \"3\": {\"15\": 296, \"2\": 1, \"3\": 3}, \"5\": {\"15\": 296, \"12\": 2, \"2\": 2}, \"7\": {\"15\": 300}, \"15\": {\"15\": 300}, \"4\": {\"15\": 300}, \"14\": {\"15\": 284, \"3\": 14, \"2\": 2}, \"8\": {\"15\": 277, \"3\": 23}, \"9\": {\"15\": 298, \"2\": 1, \"12\": 1}, \"1\": {\"15\": 300}, \"13\": {\"15\": 300}, \"12\": {\"15\": 300}, \"6\": {\"15\": 300}}, \"38\": {\"0\": {\"4\": 174, \"7\": 124, \"6\": 2}, \"12\": {\"15\": 252, \"5\": 28, \"8\": 5, \"7\": 15}, \"13\": {\"7\": 169, \"4\": 123, \"6\": 8}, \"6\": {\"2\": 79, \"1\": 200, \"14\": 4, \"0\": 13, \"8\": 3, \"10\": 1}, \"5\": {\"7\": 196, \"15\": 48, \"5\": 30, \"8\": 20, \"1\": 5, \"4\": 1}, \"2\": {\"7\": 289, \"6\": 7, \"4\": 4}, \"14\": {\"7\": 266, \"4\": 24, \"6\": 10}, \"3\": {\"6\": 135, \"4\": 165}, \"15\": {\"15\": 7, \"1\": 184, \"8\": 76, \"5\": 25, \"7\": 8}, \"8\": {\"7\": 174, \"5\": 34, \"15\": 84, \"1\": 1, \"8\": 7}, \"1\": {\"1\": 274, \"0\": 8, \"10\": 11, \"2\": 7}, \"7\": {\"7\": 299, \"4\": 1}, \"9\": {\"7\": 298, \"15\": 2}, \"4\": {\"7\": 65, \"4\": 231, \"6\": 4}, \"10\": {\"4\": 263, \"7\": 8, \"6\": 29}, \"11\": {\"6\": 300}}, \"44\": {\"10\": {\"15\": 26, \"7\": 274}, \"11\": {\"4\": 253, \"6\": 47}, \"3\": {\"2\": 66, \"8\": 210, \"1\": 11, \"13\": 8, \"14\": 5}, \"9\": {\"7\": 268, \"15\": 18, \"4\": 14}, \"6\": {\"7\": 255, \"4\": 45}, \"2\": {\"15\": 261, \"7\": 39}, \"7\": {\"7\": 300}, \"13\": {\"4\": 134, \"7\": 166}, \"4\": {\"7\": 281, \"15\": 17, \"5\": 2}, \"0\": {\"8\": 152, \"1\": 111, \"5\": 29, \"15\": 2, \"7\": 6}, \"12\": {\"13\": 51, \"8\": 159, \"2\": 83, \"1\": 2, \"14\": 5}, \"8\": {\"7\": 123, \"1\": 27, \"5\": 57, \"8\": 79, \"15\": 2, \"0\": 10, \"9\": 2}, \"5\": {\"7\": 288, \"15\": 3, \"5\": 9}, \"14\": {\"7\": 298, \"15\": 2}, \"1\": {\"15\": 258, \"7\": 39, \"5\": 3}, \"15\": {\"7\": 255, \"5\": 30, \"15\": 13, \"8\": 2}}, \"32\": {\"13\": {\"2\": 275, \"13\": 5, \"8\": 5, \"14\": 13, \"1\": 2}, \"14\": {\"15\": 50, \"8\": 191, \"5\": 11, \"2\": 13, \"7\": 29, \"14\": 3, \"13\": 2, \"1\": 1}, \"11\": {\"2\": 297, \"14\": 3}, \"2\": {\"2\": 115, \"14\": 38, \"8\": 93, \"1\": 51, \"13\": 3}, \"5\": {\"15\": 196, \"8\": 36, \"7\": 45, \"5\": 23}, \"10\": {\"10\": 299, \"6\": 1}, \"0\": {\"8\": 198, \"7\": 5, \"15\": 75, \"5\": 20, \"1\": 2}, \"3\": {\"2\": 257, \"13\": 29, \"8\": 8, \"14\": 6}, \"4\": {\"2\": 203, \"8\": 48, \"1\": 24, \"14\": 17, \"13\": 8}, \"15\": {\"15\": 300}, \"1\": {\"1\": 300}, \"9\": {\"10\": 119, \"0\": 17, \"2\": 131, \"1\": 25, \"14\": 1, \"9\": 7}, \"7\": {\"7\": 64, \"5\": 45, \"15\": 108, \"8\": 82, \"0\": 1}, \"6\": {\"10\": 83, \"6\": 190, \"9\": 27}, \"12\": {\"10\": 299, \"2\": 1}, \"8\": {\"15\": 103, \"8\": 180, \"5\": 11, \"7\": 4, \"1\": 1, \"2\": 1}}, \"8\": {\"10\": {\"5\": 211, \"13\": 47, \"1\": 10, \"10\": 12, \"7\": 13, \"15\": 7}, \"1\": {\"8\": 17, \"5\": 187, \"13\": 24, \"1\": 39, \"10\": 8, \"7\": 23, \"14\": 1, \"11\": 1}, \"11\": {\"8\": 73, \"10\": 17, \"1\": 34, \"5\": 101, \"14\": 34, \"7\": 27, \"13\": 12, \"11\": 2}, \"8\": {\"5\": 50, \"8\": 93, \"7\": 32, \"14\": 95, \"1\": 19, \"10\": 3, \"11\": 5, \"13\": 2, \"4\": 1}, \"13\": {\"5\": 208, \"15\": 23, \"13\": 64, \"7\": 4, \"2\": 1}, \"12\": {\"15\": 300}, \"4\": {\"8\": 111, \"14\": 118, \"5\": 28, \"1\": 11, \"7\": 20, \"11\": 3, \"4\": 4, \"10\": 3, \"13\": 1, \"6\": 1}, \"6\": {\"8\": 12, \"7\": 46, \"5\": 179, \"10\": 6, \"13\": 36, \"1\": 20, \"14\": 1}, \"3\": {\"3\": 295, \"15\": 1, \"12\": 2, \"9\": 2}, \"7\": {\"5\": 187, \"13\": 80, \"7\": 23, \"1\": 9, \"10\": 1}, \"2\": {\"15\": 192, \"3\": 98, \"2\": 8, \"12\": 2}, \"15\": {\"15\": 295, \"3\": 2, \"12\": 1, \"2\": 2}, \"9\": {\"10\": 1, \"9\": 293, \"6\": 6}, \"0\": {\"0\": 300}, \"5\": {\"15\": 35, \"5\": 203, \"8\": 10, \"13\": 33, \"1\": 13, \"10\": 2, \"7\": 2, \"14\": 2}, \"14\": {\"14\": 265, \"8\": 19, \"0\": 12, \"11\": 2, \"4\": 1, \"5\": 1}}}, \"per_domain_accuracy\": {\"14\": {\"accuracy\": 0.060208333333333336, \"source?\": false}, \"50\": {\"accuracy\": 0.133125, \"source?\": true}, \"26\": {\"accuracy\": 0.09145833333333334, \"source?\": false}, \"20\": {\"accuracy\": 0.063125, \"source?\": false}, \"38\": {\"accuracy\": 0.17666666666666667, \"source?\": false}, \"44\": {\"accuracy\": 0.08354166666666667, \"source?\": false}, \"32\": {\"accuracy\": 0.3095833333333333, \"source?\": true}, \"8\": {\"accuracy\": 0.395, \"source?\": true}}}, \"history\": {\"epoch_indices\": [1, 2, 3, 4, 5], \"train_label_loss\": [2.383321789786929, 1.9239010329473587, 1.5640561230977377, 1.2746729410262334, 1.0314719130879357], \"source_val_label_loss\": [2.1249805530615613, 1.7200037346477002, 1.4720544720118025, 1.2621369826055207, 1.0853772843833518], \"target_val_label_loss\": [3.8631913738047823, 5.112007265395307, 5.870850144548619, 6.480807162345724, 8.169759141637924], \"source_val_acc_label\": [0.27923611111111113, 0.3927777777777778, 0.4670138888888889, 0.5657638888888888, 0.6179166666666667], \"target_val_acc_label\": [0.095, 0.07933333333333334, 0.088, 0.07983333333333334, 0.07479166666666667]}, \"dataset_metrics\": {\"source\": {\"train\": {\"n_unique_x\": 67200, \"n_unique_y\": 16, \"n_batch/episode\": 525}, \"val\": {\"n_unique_x\": 14400, \"n_unique_y\": 16, \"n_batch/episode\": 113}, \"test\": {\"n_unique_x\": 14400, \"n_unique_y\": 16, \"n_batch/episode\": 113}}, \"target\": {\"train\": {\"n_unique_x\": 112000, \"n_unique_y\": 16, \"n_batch/episode\": 875}, \"val\": {\"n_unique_x\": 24000, \"n_unique_y\": 16, \"n_batch/episode\": 188}, \"test\": {\"n_unique_x\": 24000, \"n_unique_y\": 16, \"n_batch/episode\": 188}}}}'"
      ]
     },
     "execution_count": 20,
     "metadata": {},
     "output_type": "execute_result"
    }
   ],
   "source": [
    "json.dumps(experiment)"
   ]
  }
 ],
 "metadata": {
  "celltoolbar": "Tags",
  "kernelspec": {
   "display_name": "Python 3 (ipykernel)",
   "language": "python",
   "name": "python3"
  },
  "language_info": {
   "codemirror_mode": {
    "name": "ipython",
    "version": 3
   },
   "file_extension": ".py",
   "mimetype": "text/x-python",
   "name": "python",
   "nbconvert_exporter": "python",
   "pygments_lexer": "ipython3",
   "version": "3.8.12"
  },
  "papermill": {
   "default_parameters": {},
   "duration": 67.909474,
   "end_time": "2022-03-25T23:07:00.334815",
   "environment_variables": {},
   "exception": null,
   "input_path": "/root/csc500-main/csc500-notebooks/templates/cnn_template.ipynb",
   "output_path": "trial.ipynb",
   "parameters": {
    "parameters": {
     "BEST_MODEL_PATH": "./best_model.pth",
     "NUM_LOGS_PER_EPOCH": 10,
     "batch_size": 128,
     "criteria_for_best": "target_accuracy",
     "dataset_seed": 1337,
     "device": "cuda",
     "domains_source": [
      8,
      32,
      50
     ],
     "domains_target": [
      14,
      20,
      26,
      38,
      44
     ],
     "experiment_name": "cnn_1:oracle.run1_limited",
     "labels": [
      "3123D52",
      "3123D65",
      "3123D79",
      "3123D80",
      "3123D54",
      "3123D70",
      "3123D7B",
      "3123D89",
      "3123D58",
      "3123D76",
      "3123D7D",
      "3123EFE",
      "3123D64",
      "3123D78",
      "3123D7E",
      "3124E4A"
     ],
     "lr": 0.0001,
     "n_epoch": 50,
     "normalize_source": false,
     "normalize_target": false,
     "num_examples_per_domain_per_label_source": 2000,
     "num_examples_per_domain_per_label_target": 2000,
     "patience": 3,
     "pickle_name_source": "oracle.Run1_10kExamples_stratified_ds.2022A.pkl",
     "pickle_name_target": "oracle.Run1_10kExamples_stratified_ds.2022A.pkl",
     "seed": 1337,
     "torch_default_dtype": "torch.float32",
     "x_net": [
      {
       "class": "nnReshape",
       "kargs": {
        "shape": [
         -1,
         1,
         2,
         256
        ]
       }
      },
      {
       "class": "Conv2d",
       "kargs": {
        "bias": false,
        "in_channels": 1,
        "kernel_size": [
         1,
         7
        ],
        "out_channels": 256,
        "padding": [
         0,
         3
        ]
       }
      },
      {
       "class": "ReLU",
       "kargs": {
        "inplace": true
       }
      },
      {
       "class": "BatchNorm2d",
       "kargs": {
        "num_features": 256
       }
      },
      {
       "class": "Conv2d",
       "kargs": {
        "bias": true,
        "in_channels": 256,
        "kernel_size": [
         2,
         7
        ],
        "out_channels": 80,
        "padding": [
         0,
         3
        ]
       }
      },
      {
       "class": "ReLU",
       "kargs": {
        "inplace": true
       }
      },
      {
       "class": "BatchNorm2d",
       "kargs": {
        "num_features": 80
       }
      },
      {
       "class": "Flatten",
       "kargs": {}
      },
      {
       "class": "Linear",
       "kargs": {
        "in_features": 20480,
        "out_features": 256
       }
      },
      {
       "class": "ReLU",
       "kargs": {
        "inplace": true
       }
      },
      {
       "class": "BatchNorm1d",
       "kargs": {
        "num_features": 256
       }
      },
      {
       "class": "Linear",
       "kargs": {
        "in_features": 256,
        "out_features": 16
       }
      }
     ]
    }
   },
   "start_time": "2022-03-25T23:05:52.425341",
   "version": "2.3.4"
  }
 },
 "nbformat": 4,
 "nbformat_minor": 5
}