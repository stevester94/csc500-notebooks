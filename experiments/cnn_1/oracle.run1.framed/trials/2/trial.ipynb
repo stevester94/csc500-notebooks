{
 "cells": [
  {
   "cell_type": "code",
   "execution_count": 1,
   "id": "2324682e",
   "metadata": {
    "execution": {
     "iopub.execute_input": "2022-03-25T21:13:10.351686Z",
     "iopub.status.busy": "2022-03-25T21:13:10.350801Z",
     "iopub.status.idle": "2022-03-25T21:13:11.748631Z",
     "shell.execute_reply": "2022-03-25T21:13:11.747840Z"
    },
    "papermill": {
     "duration": 1.43354,
     "end_time": "2022-03-25T21:13:11.748812",
     "exception": false,
     "start_time": "2022-03-25T21:13:10.315272",
     "status": "completed"
    },
    "tags": []
   },
   "outputs": [],
   "source": [
    "import os, json, sys, time, random\n",
    "import numpy as np\n",
    "import torch\n",
    "from  easydict import EasyDict\n",
    "from math import floor\n",
    "from easydict import EasyDict\n",
    "\n",
    "from steves_utils.vanilla_train_eval_test_jig import  Vanilla_Train_Eval_Test_Jig\n",
    "\n",
    "from steves_utils.torch_utils import get_dataset_metrics, independent_accuracy_assesment\n",
    "from steves_models.configurable_vanilla import Configurable_Vanilla\n",
    "from steves_utils.torch_sequential_builder import build_sequential\n",
    "from steves_utils.lazy_map import Lazy_Map\n",
    "from steves_utils.sequence_aggregator import Sequence_Aggregator\n",
    "\n",
    "from steves_utils.stratified_dataset.traditional_accessor import Traditional_Accessor_Factory\n",
    "\n",
    "from steves_utils.cnn_do_report import (\n",
    "    get_loss_curve,\n",
    "    get_results_table,\n",
    "    get_parameters_table,\n",
    "    get_domain_accuracies,\n",
    ")\n",
    "\n",
    "from steves_utils.torch_utils import (\n",
    "    confusion_by_domain_over_dataloader,\n",
    "    independent_accuracy_assesment\n",
    ")\n",
    "\n",
    "from steves_utils.utils_v2 import (\n",
    "    per_domain_accuracy_from_confusion,\n",
    "    get_datasets_base_path\n",
    ")\n",
    "\n",
    "# from steves_utils.ptn_do_report import TBD"
   ]
  },
  {
   "cell_type": "code",
   "execution_count": 2,
   "id": "1b29e3fe",
   "metadata": {
    "execution": {
     "iopub.execute_input": "2022-03-25T21:13:11.787424Z",
     "iopub.status.busy": "2022-03-25T21:13:11.787043Z",
     "iopub.status.idle": "2022-03-25T21:13:11.789210Z",
     "shell.execute_reply": "2022-03-25T21:13:11.789512Z"
    },
    "papermill": {
     "duration": 0.021125,
     "end_time": "2022-03-25T21:13:11.789594",
     "exception": false,
     "start_time": "2022-03-25T21:13:11.768469",
     "status": "completed"
    },
    "tags": []
   },
   "outputs": [],
   "source": [
    "required_parameters = {\n",
    "    \"experiment_name\",\n",
    "    \"lr\",\n",
    "    \"device\",\n",
    "    \"dataset_seed\",\n",
    "    \"seed\",\n",
    "    \"labels\",\n",
    "    \"domains_target\",\n",
    "    \"domains_source\",\n",
    "    \"num_examples_per_domain_per_label_source\",\n",
    "    \"num_examples_per_domain_per_label_target\",\n",
    "    \"batch_size\",\n",
    "    \"n_epoch\",\n",
    "    \"patience\",\n",
    "    \"criteria_for_best\",\n",
    "    \"normalize_source\",\n",
    "    \"normalize_target\",\n",
    "    \"x_net\",\n",
    "    \"NUM_LOGS_PER_EPOCH\",\n",
    "    \"BEST_MODEL_PATH\",\n",
    "    \"pickle_name_source\",\n",
    "    \"pickle_name_target\",\n",
    "    \"torch_default_dtype\",\n",
    "}"
   ]
  },
  {
   "cell_type": "code",
   "execution_count": 3,
   "id": "670b5fb8",
   "metadata": {
    "execution": {
     "iopub.execute_input": "2022-03-25T21:13:11.831837Z",
     "iopub.status.busy": "2022-03-25T21:13:11.831209Z",
     "iopub.status.idle": "2022-03-25T21:13:11.837385Z",
     "shell.execute_reply": "2022-03-25T21:13:11.838058Z"
    },
    "papermill": {
     "duration": 0.031524,
     "end_time": "2022-03-25T21:13:11.838238",
     "exception": false,
     "start_time": "2022-03-25T21:13:11.806714",
     "status": "completed"
    },
    "tags": [
     "parameters"
    ]
   },
   "outputs": [],
   "source": [
    "from steves_utils.ORACLE.utils_v2 import (\n",
    "    ALL_SERIAL_NUMBERS,\n",
    "    ALL_DISTANCES_FEET_NARROWED,\n",
    ")\n",
    "\n",
    "standalone_parameters = {}\n",
    "standalone_parameters[\"experiment_name\"] = \"MANUAL CORES CNN\"\n",
    "standalone_parameters[\"lr\"] = 0.0001\n",
    "standalone_parameters[\"device\"] = \"cuda\"\n",
    "\n",
    "standalone_parameters[\"dataset_seed\"] = 1337\n",
    "standalone_parameters[\"seed\"] = 1337\n",
    "standalone_parameters[\"labels\"] = ALL_SERIAL_NUMBERS\n",
    "\n",
    "standalone_parameters[\"domains_source\"] = [8,32,50]\n",
    "standalone_parameters[\"domains_target\"] = [14,20,26,38,44,]\n",
    "\n",
    "standalone_parameters[\"num_examples_per_domain_per_label_source\"]=-1\n",
    "standalone_parameters[\"num_examples_per_domain_per_label_target\"]=-1\n",
    "\n",
    "standalone_parameters[\"pickle_name_source\"] = \"oracle.Run1_framed_2000Examples_stratified_ds.2022A.pkl\"\n",
    "standalone_parameters[\"pickle_name_target\"] = \"oracle.Run2_framed_2000Examples_stratified_ds.2022A.pkl\"\n",
    "\n",
    "standalone_parameters[\"torch_default_dtype\"] = \"torch.float32\" \n",
    "\n",
    "standalone_parameters[\"batch_size\"]=128\n",
    "\n",
    "standalone_parameters[\"n_epoch\"] = 3\n",
    "\n",
    "standalone_parameters[\"patience\"] = 10\n",
    "\n",
    "standalone_parameters[\"criteria_for_best\"] = \"target_accuracy\"\n",
    "standalone_parameters[\"normalize_source\"] = False\n",
    "standalone_parameters[\"normalize_target\"] = False\n",
    "\n",
    "standalone_parameters[\"x_net\"] =     [\n",
    "    {\"class\": \"nnReshape\", \"kargs\": {\"shape\":[-1, 1, 2, 256]}},\n",
    "    {\"class\": \"Conv2d\", \"kargs\": { \"in_channels\":1, \"out_channels\":256, \"kernel_size\":(1,7), \"bias\":False, \"padding\":(0,3), },},\n",
    "    {\"class\": \"ReLU\", \"kargs\": {\"inplace\": True}},\n",
    "    {\"class\": \"BatchNorm2d\", \"kargs\": {\"num_features\":256}},\n",
    "\n",
    "    {\"class\": \"Conv2d\", \"kargs\": { \"in_channels\":256, \"out_channels\":80, \"kernel_size\":(2,7), \"bias\":True, \"padding\":(0,3), },},\n",
    "    {\"class\": \"ReLU\", \"kargs\": {\"inplace\": True}},\n",
    "    {\"class\": \"BatchNorm2d\", \"kargs\": {\"num_features\":80}},\n",
    "    {\"class\": \"Flatten\", \"kargs\": {}},\n",
    "\n",
    "    {\"class\": \"Linear\", \"kargs\": {\"in_features\": 80*256, \"out_features\": 256}}, # 80 units per IQ pair\n",
    "    {\"class\": \"ReLU\", \"kargs\": {\"inplace\": True}},\n",
    "    {\"class\": \"BatchNorm1d\", \"kargs\": {\"num_features\":256}},\n",
    "\n",
    "    {\"class\": \"Linear\", \"kargs\": {\"in_features\": 256, \"out_features\": len(standalone_parameters[\"labels\"])}},\n",
    "]\n",
    "\n",
    "standalone_parameters[\"NUM_LOGS_PER_EPOCH\"] = 10\n",
    "standalone_parameters[\"BEST_MODEL_PATH\"] = \"./best_model.pth\""
   ]
  },
  {
   "cell_type": "code",
   "execution_count": 4,
   "id": "28169040",
   "metadata": {
    "execution": {
     "iopub.execute_input": "2022-03-25T21:13:11.883525Z",
     "iopub.status.busy": "2022-03-25T21:13:11.882619Z",
     "iopub.status.idle": "2022-03-25T21:13:11.884725Z",
     "shell.execute_reply": "2022-03-25T21:13:11.885402Z"
    },
    "papermill": {
     "duration": 0.028894,
     "end_time": "2022-03-25T21:13:11.885582",
     "exception": false,
     "start_time": "2022-03-25T21:13:11.856688",
     "status": "completed"
    },
    "tags": [
     "injected-parameters"
    ]
   },
   "outputs": [],
   "source": [
    "# Parameters\n",
    "parameters = {\n",
    "    \"experiment_name\": \"cnn_1:oracle.run1.framed\",\n",
    "    \"labels\": [\n",
    "        \"3123D52\",\n",
    "        \"3123D65\",\n",
    "        \"3123D79\",\n",
    "        \"3123D80\",\n",
    "        \"3123D54\",\n",
    "        \"3123D70\",\n",
    "        \"3123D7B\",\n",
    "        \"3123D89\",\n",
    "        \"3123D58\",\n",
    "        \"3123D76\",\n",
    "        \"3123D7D\",\n",
    "        \"3123EFE\",\n",
    "        \"3123D64\",\n",
    "        \"3123D78\",\n",
    "        \"3123D7E\",\n",
    "        \"3124E4A\",\n",
    "    ],\n",
    "    \"domains_source\": [8, 32, 50],\n",
    "    \"domains_target\": [14, 20, 26, 38, 44],\n",
    "    \"pickle_name_source\": \"oracle.Run1_framed_2000Examples_stratified_ds.2022A.pkl\",\n",
    "    \"pickle_name_target\": \"oracle.Run1_framed_2000Examples_stratified_ds.2022A.pkl\",\n",
    "    \"device\": \"cuda\",\n",
    "    \"lr\": 0.0001,\n",
    "    \"batch_size\": 128,\n",
    "    \"normalize_source\": False,\n",
    "    \"normalize_target\": False,\n",
    "    \"num_examples_per_domain_per_label_source\": -1,\n",
    "    \"num_examples_per_domain_per_label_target\": -1,\n",
    "    \"torch_default_dtype\": \"torch.float32\",\n",
    "    \"n_epoch\": 50,\n",
    "    \"patience\": 3,\n",
    "    \"criteria_for_best\": \"target_accuracy\",\n",
    "    \"x_net\": [\n",
    "        {\"class\": \"nnReshape\", \"kargs\": {\"shape\": [-1, 1, 2, 256]}},\n",
    "        {\n",
    "            \"class\": \"Conv2d\",\n",
    "            \"kargs\": {\n",
    "                \"in_channels\": 1,\n",
    "                \"out_channels\": 256,\n",
    "                \"kernel_size\": [1, 7],\n",
    "                \"bias\": False,\n",
    "                \"padding\": [0, 3],\n",
    "            },\n",
    "        },\n",
    "        {\"class\": \"ReLU\", \"kargs\": {\"inplace\": True}},\n",
    "        {\"class\": \"BatchNorm2d\", \"kargs\": {\"num_features\": 256}},\n",
    "        {\n",
    "            \"class\": \"Conv2d\",\n",
    "            \"kargs\": {\n",
    "                \"in_channels\": 256,\n",
    "                \"out_channels\": 80,\n",
    "                \"kernel_size\": [2, 7],\n",
    "                \"bias\": True,\n",
    "                \"padding\": [0, 3],\n",
    "            },\n",
    "        },\n",
    "        {\"class\": \"ReLU\", \"kargs\": {\"inplace\": True}},\n",
    "        {\"class\": \"BatchNorm2d\", \"kargs\": {\"num_features\": 80}},\n",
    "        {\"class\": \"Flatten\", \"kargs\": {}},\n",
    "        {\"class\": \"Linear\", \"kargs\": {\"in_features\": 20480, \"out_features\": 256}},\n",
    "        {\"class\": \"ReLU\", \"kargs\": {\"inplace\": True}},\n",
    "        {\"class\": \"BatchNorm1d\", \"kargs\": {\"num_features\": 256}},\n",
    "        {\"class\": \"Linear\", \"kargs\": {\"in_features\": 256, \"out_features\": 16}},\n",
    "    ],\n",
    "    \"NUM_LOGS_PER_EPOCH\": 10,\n",
    "    \"BEST_MODEL_PATH\": \"./best_model.pth\",\n",
    "    \"dataset_seed\": 1337,\n",
    "    \"seed\": 1337,\n",
    "}\n"
   ]
  },
  {
   "cell_type": "code",
   "execution_count": 5,
   "id": "759b56ec",
   "metadata": {
    "execution": {
     "iopub.execute_input": "2022-03-25T21:13:11.924114Z",
     "iopub.status.busy": "2022-03-25T21:13:11.923736Z",
     "iopub.status.idle": "2022-03-25T21:13:11.925838Z",
     "shell.execute_reply": "2022-03-25T21:13:11.926144Z"
    },
    "papermill": {
     "duration": 0.021624,
     "end_time": "2022-03-25T21:13:11.926224",
     "exception": false,
     "start_time": "2022-03-25T21:13:11.904600",
     "status": "completed"
    },
    "tags": []
   },
   "outputs": [],
   "source": [
    "# Set this to True if you want to run this template directly\n",
    "STANDALONE = False\n",
    "if STANDALONE:\n",
    "    print(\"parameters not injected, running with standalone_parameters\")\n",
    "    parameters = standalone_parameters\n",
    "\n",
    "if not 'parameters' in locals() and not 'parameters' in globals():\n",
    "    raise Exception(\"Parameter injection failed\")\n",
    "\n",
    "#Use an easy dict for all the parameters\n",
    "p = EasyDict(parameters)\n",
    "\n",
    "supplied_keys = set(p.keys())\n",
    "\n",
    "if  supplied_keys != required_parameters:\n",
    "    print(\"Parameters are incorrect\")\n",
    "    if len(supplied_keys - required_parameters)>0: print(\"Shouldn't have:\", str(supplied_keys - required_parameters))\n",
    "    if len(required_parameters - supplied_keys)>0: print(\"Need to have:\", str(required_parameters - supplied_keys))\n",
    "    raise RuntimeError(\"Parameters are incorrect\")\n",
    "\n"
   ]
  },
  {
   "cell_type": "code",
   "execution_count": 6,
   "id": "d5c66a71",
   "metadata": {
    "execution": {
     "iopub.execute_input": "2022-03-25T21:13:11.960815Z",
     "iopub.status.busy": "2022-03-25T21:13:11.960445Z",
     "iopub.status.idle": "2022-03-25T21:13:11.962987Z",
     "shell.execute_reply": "2022-03-25T21:13:11.963288Z"
    },
    "papermill": {
     "duration": 0.019535,
     "end_time": "2022-03-25T21:13:11.963369",
     "exception": false,
     "start_time": "2022-03-25T21:13:11.943834",
     "status": "completed"
    },
    "tags": []
   },
   "outputs": [],
   "source": [
    "###################################\n",
    "# Set the RNGs and make it all deterministic\n",
    "###################################\n",
    "np.random.seed(p.seed)\n",
    "random.seed(p.seed)\n",
    "torch.manual_seed(p.seed)\n",
    "\n",
    "torch.use_deterministic_algorithms(True) "
   ]
  },
  {
   "cell_type": "code",
   "execution_count": 7,
   "id": "92a65876",
   "metadata": {
    "execution": {
     "iopub.execute_input": "2022-03-25T21:13:11.996936Z",
     "iopub.status.busy": "2022-03-25T21:13:11.995015Z",
     "iopub.status.idle": "2022-03-25T21:13:11.998915Z",
     "shell.execute_reply": "2022-03-25T21:13:11.999374Z"
    },
    "papermill": {
     "duration": 0.020002,
     "end_time": "2022-03-25T21:13:11.999496",
     "exception": false,
     "start_time": "2022-03-25T21:13:11.979494",
     "status": "completed"
    },
    "tags": []
   },
   "outputs": [],
   "source": [
    "torch.set_default_dtype(eval(p.torch_default_dtype))"
   ]
  },
  {
   "cell_type": "code",
   "execution_count": 8,
   "id": "f1a32f01",
   "metadata": {
    "execution": {
     "iopub.execute_input": "2022-03-25T21:13:12.037681Z",
     "iopub.status.busy": "2022-03-25T21:13:12.037314Z",
     "iopub.status.idle": "2022-03-25T21:13:12.076443Z",
     "shell.execute_reply": "2022-03-25T21:13:12.075730Z"
    },
    "papermill": {
     "duration": 0.056493,
     "end_time": "2022-03-25T21:13:12.076598",
     "exception": false,
     "start_time": "2022-03-25T21:13:12.020105",
     "status": "completed"
    },
    "tags": []
   },
   "outputs": [],
   "source": [
    "###################################\n",
    "# Build the network(s)\n",
    "# Note: It's critical to do this AFTER setting the RNG\n",
    "###################################\n",
    "x_net = build_sequential(p.x_net)"
   ]
  },
  {
   "cell_type": "code",
   "execution_count": 9,
   "id": "a276cd83",
   "metadata": {
    "execution": {
     "iopub.execute_input": "2022-03-25T21:13:12.110462Z",
     "iopub.status.busy": "2022-03-25T21:13:12.110092Z",
     "iopub.status.idle": "2022-03-25T21:13:12.111875Z",
     "shell.execute_reply": "2022-03-25T21:13:12.111501Z"
    },
    "papermill": {
     "duration": 0.01779,
     "end_time": "2022-03-25T21:13:12.111945",
     "exception": false,
     "start_time": "2022-03-25T21:13:12.094155",
     "status": "completed"
    },
    "tags": []
   },
   "outputs": [],
   "source": [
    "start_time_secs = time.time()"
   ]
  },
  {
   "cell_type": "code",
   "execution_count": 10,
   "id": "de702e48",
   "metadata": {
    "execution": {
     "iopub.execute_input": "2022-03-25T21:13:12.155165Z",
     "iopub.status.busy": "2022-03-25T21:13:12.144917Z",
     "iopub.status.idle": "2022-03-25T21:13:16.093270Z",
     "shell.execute_reply": "2022-03-25T21:13:16.092495Z"
    },
    "papermill": {
     "duration": 3.964831,
     "end_time": "2022-03-25T21:13:16.093450",
     "exception": false,
     "start_time": "2022-03-25T21:13:12.128619",
     "status": "completed"
    },
    "tags": []
   },
   "outputs": [],
   "source": [
    "def wrap_in_dataloader(p, ds):\n",
    "    return torch.utils.data.DataLoader(\n",
    "        ds,\n",
    "        batch_size=p.batch_size,\n",
    "        shuffle=True,\n",
    "        num_workers=1,\n",
    "        persistent_workers=True,\n",
    "        prefetch_factor=50,\n",
    "        pin_memory=True\n",
    "    )\n",
    "\n",
    "taf_source = Traditional_Accessor_Factory(\n",
    "    labels=p.labels,\n",
    "    domains=p.domains_source,\n",
    "    num_examples_per_domain_per_label=p.num_examples_per_domain_per_label_source,\n",
    "    pickle_path=os.path.join(get_datasets_base_path(), p.pickle_name_source),\n",
    "    seed=p.dataset_seed\n",
    ")\n",
    "train_original_source, val_original_source, test_original_source = \\\n",
    "    taf_source.get_train(), taf_source.get_val(), taf_source.get_test()\n",
    "\n",
    "\n",
    "taf_target = Traditional_Accessor_Factory(\n",
    "    labels=p.labels,\n",
    "    domains=p.domains_target,\n",
    "    num_examples_per_domain_per_label=p.num_examples_per_domain_per_label_source,\n",
    "    pickle_path=os.path.join(get_datasets_base_path(), p.pickle_name_target),\n",
    "    seed=p.dataset_seed\n",
    ")\n",
    "train_original_target, val_original_target, test_original_target = \\\n",
    "    taf_target.get_train(), taf_target.get_val(), taf_target.get_test()\n",
    "\n",
    "\n",
    "# For CNN We only use X and Y. And we only train on the source.\n",
    "# Properly form the data using a transform lambda and Lazy_Map. Finally wrap them in a dataloader\n",
    "\n",
    "transform_lambda = lambda ex: ex[:2] # Strip the tuple to just (x,y)\n",
    "\n",
    "\n",
    "train_processed_source = wrap_in_dataloader(\n",
    "    p,\n",
    "    Lazy_Map(train_original_source, transform_lambda)\n",
    ")\n",
    "val_processed_source = wrap_in_dataloader(\n",
    "    p,\n",
    "    Lazy_Map(val_original_source, transform_lambda)\n",
    ")\n",
    "test_processed_source = wrap_in_dataloader(\n",
    "    p,\n",
    "    Lazy_Map(test_original_source, transform_lambda)\n",
    ")\n",
    "\n",
    "train_processed_target = wrap_in_dataloader(\n",
    "    p,\n",
    "    Lazy_Map(train_original_target, transform_lambda)\n",
    ")\n",
    "val_processed_target = wrap_in_dataloader(\n",
    "    p,\n",
    "    Lazy_Map(val_original_target, transform_lambda)\n",
    ")\n",
    "test_processed_target  = wrap_in_dataloader(\n",
    "    p,\n",
    "    Lazy_Map(test_original_target, transform_lambda)\n",
    ")\n",
    "\n",
    "\n",
    "\n",
    "datasets = EasyDict({\n",
    "    \"source\": {\n",
    "        \"original\": {\"train\":train_original_source, \"val\":val_original_source, \"test\":test_original_source},\n",
    "        \"processed\": {\"train\":train_processed_source, \"val\":val_processed_source, \"test\":test_processed_source}\n",
    "    },\n",
    "    \"target\": {\n",
    "        \"original\": {\"train\":train_original_target, \"val\":val_original_target, \"test\":test_original_target},\n",
    "        \"processed\": {\"train\":train_processed_target, \"val\":val_processed_target, \"test\":test_processed_target}\n",
    "    },\n",
    "})"
   ]
  },
  {
   "cell_type": "code",
   "execution_count": 11,
   "id": "a11b26bd",
   "metadata": {
    "execution": {
     "iopub.execute_input": "2022-03-25T21:13:16.169909Z",
     "iopub.status.busy": "2022-03-25T21:13:16.169086Z",
     "iopub.status.idle": "2022-03-25T21:13:21.415008Z",
     "shell.execute_reply": "2022-03-25T21:13:21.415744Z"
    },
    "papermill": {
     "duration": 5.304789,
     "end_time": "2022-03-25T21:13:21.415962",
     "exception": false,
     "start_time": "2022-03-25T21:13:16.111173",
     "status": "completed"
    },
    "tags": []
   },
   "outputs": [
    {
     "data": {
      "text/plain": [
       "torch.float32"
      ]
     },
     "execution_count": 11,
     "metadata": {},
     "output_type": "execute_result"
    }
   ],
   "source": [
    "ep = next(iter(test_processed_target))\n",
    "ep[0].dtype"
   ]
  },
  {
   "cell_type": "code",
   "execution_count": 12,
   "id": "19425fad",
   "metadata": {
    "execution": {
     "iopub.execute_input": "2022-03-25T21:13:21.474917Z",
     "iopub.status.busy": "2022-03-25T21:13:21.474082Z",
     "iopub.status.idle": "2022-03-25T21:13:21.524753Z",
     "shell.execute_reply": "2022-03-25T21:13:21.525445Z"
    },
    "papermill": {
     "duration": 0.088736,
     "end_time": "2022-03-25T21:13:21.525664",
     "exception": false,
     "start_time": "2022-03-25T21:13:21.436928",
     "status": "completed"
    },
    "tags": []
   },
   "outputs": [],
   "source": [
    "model = Configurable_Vanilla(\n",
    "    x_net=x_net,\n",
    "    label_loss_object=torch.nn.NLLLoss(),\n",
    "    learning_rate=p.lr\n",
    ")"
   ]
  },
  {
   "cell_type": "code",
   "execution_count": 13,
   "id": "7f6d4f2c",
   "metadata": {
    "execution": {
     "iopub.execute_input": "2022-03-25T21:13:21.567463Z",
     "iopub.status.busy": "2022-03-25T21:13:21.567090Z",
     "iopub.status.idle": "2022-03-25T21:14:12.120835Z",
     "shell.execute_reply": "2022-03-25T21:14:12.121505Z"
    },
    "papermill": {
     "duration": 50.573793,
     "end_time": "2022-03-25T21:14:12.121717",
     "exception": false,
     "start_time": "2022-03-25T21:13:21.547924",
     "status": "completed"
    },
    "tags": []
   },
   "outputs": [
    {
     "name": "stdout",
     "output_type": "stream",
     "text": [
      "epoch: 1, [batch: 1 / 525], examples_per_second: 794.8521, train_label_loss: 2.7947, \n"
     ]
    },
    {
     "name": "stdout",
     "output_type": "stream",
     "text": [
      "epoch: 1, [batch: 53 / 525], examples_per_second: 12833.4693, train_label_loss: 2.6076, \n"
     ]
    },
    {
     "name": "stdout",
     "output_type": "stream",
     "text": [
      "epoch: 1, [batch: 105 / 525], examples_per_second: 12707.9467, train_label_loss: 2.3409, \n"
     ]
    },
    {
     "name": "stdout",
     "output_type": "stream",
     "text": [
      "epoch: 1, [batch: 158 / 525], examples_per_second: 12635.4710, train_label_loss: 2.2264, \n"
     ]
    },
    {
     "name": "stdout",
     "output_type": "stream",
     "text": [
      "epoch: 1, [batch: 210 / 525], examples_per_second: 12890.3615, train_label_loss: 2.0405, \n"
     ]
    },
    {
     "name": "stdout",
     "output_type": "stream",
     "text": [
      "epoch: 1, [batch: 263 / 525], examples_per_second: 12781.0216, train_label_loss: 1.8327, \n"
     ]
    },
    {
     "name": "stdout",
     "output_type": "stream",
     "text": [
      "epoch: 1, [batch: 315 / 525], examples_per_second: 12914.6612, train_label_loss: 1.8575, \n"
     ]
    },
    {
     "name": "stdout",
     "output_type": "stream",
     "text": [
      "epoch: 1, [batch: 367 / 525], examples_per_second: 12833.0504, train_label_loss: 1.7144, \n"
     ]
    },
    {
     "name": "stdout",
     "output_type": "stream",
     "text": [
      "epoch: 1, [batch: 420 / 525], examples_per_second: 12962.5854, train_label_loss: 1.7224, \n"
     ]
    },
    {
     "name": "stdout",
     "output_type": "stream",
     "text": [
      "epoch: 1, [batch: 472 / 525], examples_per_second: 12992.9311, train_label_loss: 1.5789, \n"
     ]
    },
    {
     "name": "stdout",
     "output_type": "stream",
     "text": [
      "=============================================================\n",
      "epoch: 1, source_val_acc_label: 0.6044, source_val_label_loss: 1.4385, target_val_acc_label: 0.0716, target_val_label_loss: 5.6794, \n",
      "=============================================================\n"
     ]
    },
    {
     "name": "stdout",
     "output_type": "stream",
     "text": [
      "New best\n",
      "epoch: 2, [batch: 1 / 525], examples_per_second: 128.4552, train_label_loss: 1.3706, \n"
     ]
    },
    {
     "name": "stdout",
     "output_type": "stream",
     "text": [
      "epoch: 2, [batch: 53 / 525], examples_per_second: 13744.6261, train_label_loss: 1.2588, \n"
     ]
    },
    {
     "name": "stdout",
     "output_type": "stream",
     "text": [
      "epoch: 2, [batch: 105 / 525], examples_per_second: 14164.8629, train_label_loss: 1.1778, \n"
     ]
    },
    {
     "name": "stdout",
     "output_type": "stream",
     "text": [
      "epoch: 2, [batch: 158 / 525], examples_per_second: 14195.4163, train_label_loss: 1.2172, \n"
     ]
    },
    {
     "name": "stdout",
     "output_type": "stream",
     "text": [
      "epoch: 2, [batch: 210 / 525], examples_per_second: 12842.6378, train_label_loss: 1.0220, \n"
     ]
    },
    {
     "name": "stdout",
     "output_type": "stream",
     "text": [
      "epoch: 2, [batch: 263 / 525], examples_per_second: 11744.2991, train_label_loss: 0.9031, \n"
     ]
    },
    {
     "name": "stdout",
     "output_type": "stream",
     "text": [
      "epoch: 2, [batch: 315 / 525], examples_per_second: 11733.0930, train_label_loss: 0.9032, \n"
     ]
    },
    {
     "name": "stdout",
     "output_type": "stream",
     "text": [
      "epoch: 2, [batch: 367 / 525], examples_per_second: 11764.6089, train_label_loss: 0.7754, \n"
     ]
    },
    {
     "name": "stdout",
     "output_type": "stream",
     "text": [
      "epoch: 2, [batch: 420 / 525], examples_per_second: 11632.5352, train_label_loss: 0.8677, \n"
     ]
    },
    {
     "name": "stdout",
     "output_type": "stream",
     "text": [
      "epoch: 2, [batch: 472 / 525], examples_per_second: 11759.9505, train_label_loss: 0.7472, \n"
     ]
    },
    {
     "name": "stdout",
     "output_type": "stream",
     "text": [
      "=============================================================\n",
      "epoch: 2, source_val_acc_label: 0.8616, source_val_label_loss: 0.6555, target_val_acc_label: 0.0688, target_val_label_loss: 7.3385, \n",
      "=============================================================\n"
     ]
    },
    {
     "name": "stdout",
     "output_type": "stream",
     "text": [
      "epoch: 3, [batch: 1 / 525], examples_per_second: 136.3949, train_label_loss: 0.6272, \n"
     ]
    },
    {
     "name": "stdout",
     "output_type": "stream",
     "text": [
      "epoch: 3, [batch: 53 / 525], examples_per_second: 11796.3493, train_label_loss: 0.8235, \n"
     ]
    },
    {
     "name": "stdout",
     "output_type": "stream",
     "text": [
      "epoch: 3, [batch: 105 / 525], examples_per_second: 11662.6670, train_label_loss: 0.5866, \n"
     ]
    },
    {
     "name": "stdout",
     "output_type": "stream",
     "text": [
      "epoch: 3, [batch: 158 / 525], examples_per_second: 11668.9817, train_label_loss: 0.5479, \n"
     ]
    },
    {
     "name": "stdout",
     "output_type": "stream",
     "text": [
      "epoch: 3, [batch: 210 / 525], examples_per_second: 11747.0995, train_label_loss: 0.4929, \n"
     ]
    },
    {
     "name": "stdout",
     "output_type": "stream",
     "text": [
      "epoch: 3, [batch: 263 / 525], examples_per_second: 11630.5715, train_label_loss: 0.5426, \n"
     ]
    },
    {
     "name": "stdout",
     "output_type": "stream",
     "text": [
      "epoch: 3, [batch: 315 / 525], examples_per_second: 11719.0658, train_label_loss: 0.5904, \n"
     ]
    },
    {
     "name": "stdout",
     "output_type": "stream",
     "text": [
      "epoch: 3, [batch: 367 / 525], examples_per_second: 11726.3116, train_label_loss: 0.4259, \n"
     ]
    },
    {
     "name": "stdout",
     "output_type": "stream",
     "text": [
      "epoch: 3, [batch: 420 / 525], examples_per_second: 11661.8079, train_label_loss: 0.3961, \n"
     ]
    },
    {
     "name": "stdout",
     "output_type": "stream",
     "text": [
      "epoch: 3, [batch: 472 / 525], examples_per_second: 11823.3622, train_label_loss: 0.4064, \n"
     ]
    },
    {
     "name": "stdout",
     "output_type": "stream",
     "text": [
      "=============================================================\n",
      "epoch: 3, source_val_acc_label: 0.9145, source_val_label_loss: 0.4422, target_val_acc_label: 0.0837, target_val_label_loss: 8.8419, \n",
      "=============================================================\n"
     ]
    },
    {
     "name": "stdout",
     "output_type": "stream",
     "text": [
      "New best\n",
      "epoch: 4, [batch: 1 / 525], examples_per_second: 136.7506, train_label_loss: 0.5124, \n"
     ]
    },
    {
     "name": "stdout",
     "output_type": "stream",
     "text": [
      "epoch: 4, [batch: 53 / 525], examples_per_second: 11782.4042, train_label_loss: 0.4234, \n"
     ]
    },
    {
     "name": "stdout",
     "output_type": "stream",
     "text": [
      "epoch: 4, [batch: 105 / 525], examples_per_second: 11584.9750, train_label_loss: 0.3756, \n"
     ]
    },
    {
     "name": "stdout",
     "output_type": "stream",
     "text": [
      "epoch: 4, [batch: 158 / 525], examples_per_second: 11608.7869, train_label_loss: 0.3130, \n"
     ]
    },
    {
     "name": "stdout",
     "output_type": "stream",
     "text": [
      "epoch: 4, [batch: 210 / 525], examples_per_second: 11777.1851, train_label_loss: 0.3526, \n"
     ]
    },
    {
     "name": "stdout",
     "output_type": "stream",
     "text": [
      "epoch: 4, [batch: 263 / 525], examples_per_second: 11806.2197, train_label_loss: 0.3683, \n"
     ]
    },
    {
     "name": "stdout",
     "output_type": "stream",
     "text": [
      "epoch: 4, [batch: 315 / 525], examples_per_second: 12350.0934, train_label_loss: 0.5357, \n"
     ]
    },
    {
     "name": "stdout",
     "output_type": "stream",
     "text": [
      "epoch: 4, [batch: 367 / 525], examples_per_second: 12495.3283, train_label_loss: 0.3182, \n"
     ]
    },
    {
     "name": "stdout",
     "output_type": "stream",
     "text": [
      "epoch: 4, [batch: 420 / 525], examples_per_second: 12599.1661, train_label_loss: 0.3396, \n"
     ]
    },
    {
     "name": "stdout",
     "output_type": "stream",
     "text": [
      "epoch: 4, [batch: 472 / 525], examples_per_second: 12813.2188, train_label_loss: 0.4422, \n"
     ]
    },
    {
     "name": "stdout",
     "output_type": "stream",
     "text": [
      "=============================================================\n",
      "epoch: 4, source_val_acc_label: 0.9167, source_val_label_loss: 0.3421, target_val_acc_label: 0.0744, target_val_label_loss: 9.1454, \n",
      "=============================================================\n"
     ]
    },
    {
     "name": "stdout",
     "output_type": "stream",
     "text": [
      "epoch: 5, [batch: 1 / 525], examples_per_second: 134.1809, train_label_loss: 0.3370, \n"
     ]
    },
    {
     "name": "stdout",
     "output_type": "stream",
     "text": [
      "epoch: 5, [batch: 53 / 525], examples_per_second: 10515.7423, train_label_loss: 0.2840, \n"
     ]
    },
    {
     "name": "stdout",
     "output_type": "stream",
     "text": [
      "epoch: 5, [batch: 105 / 525], examples_per_second: 10767.0940, train_label_loss: 0.2735, \n"
     ]
    },
    {
     "name": "stdout",
     "output_type": "stream",
     "text": [
      "epoch: 5, [batch: 158 / 525], examples_per_second: 10751.0335, train_label_loss: 0.3178, \n"
     ]
    },
    {
     "name": "stdout",
     "output_type": "stream",
     "text": [
      "epoch: 5, [batch: 210 / 525], examples_per_second: 10689.6560, train_label_loss: 0.3102, \n"
     ]
    },
    {
     "name": "stdout",
     "output_type": "stream",
     "text": [
      "epoch: 5, [batch: 263 / 525], examples_per_second: 10642.8495, train_label_loss: 0.3085, \n"
     ]
    },
    {
     "name": "stdout",
     "output_type": "stream",
     "text": [
      "epoch: 5, [batch: 315 / 525], examples_per_second: 10766.4255, train_label_loss: 0.3102, \n"
     ]
    },
    {
     "name": "stdout",
     "output_type": "stream",
     "text": [
      "epoch: 5, [batch: 367 / 525], examples_per_second: 10867.2188, train_label_loss: 0.2545, \n"
     ]
    },
    {
     "name": "stdout",
     "output_type": "stream",
     "text": [
      "epoch: 5, [batch: 420 / 525], examples_per_second: 10657.7945, train_label_loss: 0.2347, \n"
     ]
    },
    {
     "name": "stdout",
     "output_type": "stream",
     "text": [
      "epoch: 5, [batch: 472 / 525], examples_per_second: 10778.1181, train_label_loss: 0.2634, \n"
     ]
    },
    {
     "name": "stdout",
     "output_type": "stream",
     "text": [
      "=============================================================\n",
      "epoch: 5, source_val_acc_label: 0.9403, source_val_label_loss: 0.2366, target_val_acc_label: 0.0732, target_val_label_loss: 11.5469, \n",
      "=============================================================\n"
     ]
    },
    {
     "name": "stdout",
     "output_type": "stream",
     "text": [
      "epoch: 6, [batch: 1 / 525], examples_per_second: 123.9224, train_label_loss: 0.2170, \n"
     ]
    },
    {
     "name": "stdout",
     "output_type": "stream",
     "text": [
      "epoch: 6, [batch: 53 / 525], examples_per_second: 10653.4364, train_label_loss: 0.2733, \n"
     ]
    },
    {
     "name": "stdout",
     "output_type": "stream",
     "text": [
      "epoch: 6, [batch: 105 / 525], examples_per_second: 10774.9524, train_label_loss: 0.1867, \n"
     ]
    },
    {
     "name": "stdout",
     "output_type": "stream",
     "text": [
      "epoch: 6, [batch: 158 / 525], examples_per_second: 10722.6453, train_label_loss: 0.1969, \n"
     ]
    },
    {
     "name": "stdout",
     "output_type": "stream",
     "text": [
      "epoch: 6, [batch: 210 / 525], examples_per_second: 10911.6095, train_label_loss: 0.1982, \n"
     ]
    },
    {
     "name": "stdout",
     "output_type": "stream",
     "text": [
      "epoch: 6, [batch: 263 / 525], examples_per_second: 10850.7947, train_label_loss: 0.2412, \n"
     ]
    },
    {
     "name": "stdout",
     "output_type": "stream",
     "text": [
      "epoch: 6, [batch: 315 / 525], examples_per_second: 10839.9896, train_label_loss: 0.1532, \n"
     ]
    },
    {
     "name": "stdout",
     "output_type": "stream",
     "text": [
      "epoch: 6, [batch: 367 / 525], examples_per_second: 10857.1560, train_label_loss: 0.2018, \n"
     ]
    },
    {
     "name": "stdout",
     "output_type": "stream",
     "text": [
      "epoch: 6, [batch: 420 / 525], examples_per_second: 10802.3095, train_label_loss: 0.3753, \n"
     ]
    },
    {
     "name": "stdout",
     "output_type": "stream",
     "text": [
      "epoch: 6, [batch: 472 / 525], examples_per_second: 10710.6293, train_label_loss: 0.1644, \n"
     ]
    },
    {
     "name": "stdout",
     "output_type": "stream",
     "text": [
      "=============================================================\n",
      "epoch: 6, source_val_acc_label: 0.9263, source_val_label_loss: 0.2610, target_val_acc_label: 0.0765, target_val_label_loss: 12.3502, \n",
      "=============================================================\n"
     ]
    },
    {
     "name": "stdout",
     "output_type": "stream",
     "text": [
      "epoch: 7, [batch: 1 / 525], examples_per_second: 127.6774, train_label_loss: 0.2962, \n"
     ]
    },
    {
     "name": "stdout",
     "output_type": "stream",
     "text": [
      "epoch: 7, [batch: 53 / 525], examples_per_second: 10480.2333, train_label_loss: 0.2177, \n"
     ]
    },
    {
     "name": "stdout",
     "output_type": "stream",
     "text": [
      "epoch: 7, [batch: 105 / 525], examples_per_second: 10745.8827, train_label_loss: 0.3348, \n"
     ]
    },
    {
     "name": "stdout",
     "output_type": "stream",
     "text": [
      "epoch: 7, [batch: 158 / 525], examples_per_second: 10777.9923, train_label_loss: 0.2679, \n"
     ]
    },
    {
     "name": "stdout",
     "output_type": "stream",
     "text": [
      "epoch: 7, [batch: 210 / 525], examples_per_second: 10786.0842, train_label_loss: 0.2531, \n"
     ]
    },
    {
     "name": "stdout",
     "output_type": "stream",
     "text": [
      "epoch: 7, [batch: 263 / 525], examples_per_second: 10855.0004, train_label_loss: 0.1883, \n"
     ]
    },
    {
     "name": "stdout",
     "output_type": "stream",
     "text": [
      "epoch: 7, [batch: 315 / 525], examples_per_second: 10791.1290, train_label_loss: 0.2049, \n"
     ]
    },
    {
     "name": "stdout",
     "output_type": "stream",
     "text": [
      "epoch: 7, [batch: 367 / 525], examples_per_second: 10776.5204, train_label_loss: 0.1928, \n"
     ]
    },
    {
     "name": "stdout",
     "output_type": "stream",
     "text": [
      "epoch: 7, [batch: 420 / 525], examples_per_second: 10830.9074, train_label_loss: 0.1643, \n"
     ]
    },
    {
     "name": "stdout",
     "output_type": "stream",
     "text": [
      "epoch: 7, [batch: 472 / 525], examples_per_second: 10806.9192, train_label_loss: 0.2571, \n"
     ]
    },
    {
     "name": "stdout",
     "output_type": "stream",
     "text": [
      "=============================================================\n",
      "epoch: 7, source_val_acc_label: 0.8931, source_val_label_loss: 0.3207, target_val_acc_label: 0.0776, target_val_label_loss: 11.3223, \n",
      "=============================================================\n"
     ]
    },
    {
     "name": "stdout",
     "output_type": "stream",
     "text": [
      "Patience (3) exhausted\n"
     ]
    }
   ],
   "source": [
    "jig = Vanilla_Train_Eval_Test_Jig(\n",
    "    model=model,\n",
    "    path_to_best_model=p.BEST_MODEL_PATH,\n",
    "    device=p.device,\n",
    "    label_loss_object=torch.nn.NLLLoss(),\n",
    ")\n",
    "\n",
    "jig.train(\n",
    "    train_iterable=datasets.source.processed.train,\n",
    "    source_val_iterable=datasets.source.processed.val,\n",
    "    target_val_iterable=datasets.target.processed.val,\n",
    "    patience=p.patience,\n",
    "    num_epochs=p.n_epoch,\n",
    "    num_logs_per_epoch=p.NUM_LOGS_PER_EPOCH,\n",
    "    criteria_for_best=p.criteria_for_best\n",
    ")"
   ]
  },
  {
   "cell_type": "code",
   "execution_count": 14,
   "id": "4bc2ac17",
   "metadata": {
    "execution": {
     "iopub.execute_input": "2022-03-25T21:14:12.203236Z",
     "iopub.status.busy": "2022-03-25T21:14:12.202866Z",
     "iopub.status.idle": "2022-03-25T21:14:12.205459Z",
     "shell.execute_reply": "2022-03-25T21:14:12.205763Z"
    },
    "papermill": {
     "duration": 0.043716,
     "end_time": "2022-03-25T21:14:12.205850",
     "exception": false,
     "start_time": "2022-03-25T21:14:12.162134",
     "status": "completed"
    },
    "tags": []
   },
   "outputs": [],
   "source": [
    "total_experiment_time_secs = time.time() - start_time_secs"
   ]
  },
  {
   "cell_type": "code",
   "execution_count": 15,
   "id": "cae88f23",
   "metadata": {
    "execution": {
     "iopub.execute_input": "2022-03-25T21:14:12.291609Z",
     "iopub.status.busy": "2022-03-25T21:14:12.290674Z",
     "iopub.status.idle": "2022-03-25T21:14:24.313068Z",
     "shell.execute_reply": "2022-03-25T21:14:24.312590Z"
    },
    "papermill": {
     "duration": 12.070027,
     "end_time": "2022-03-25T21:14:24.313164",
     "exception": false,
     "start_time": "2022-03-25T21:14:12.243137",
     "status": "completed"
    },
    "tags": []
   },
   "outputs": [],
   "source": [
    "source_test_label_accuracy, source_test_label_loss = jig.test(datasets.source.processed.test)\n",
    "target_test_label_accuracy, target_test_label_loss = jig.test(datasets.target.processed.test)\n",
    "\n",
    "source_val_label_accuracy, source_val_label_loss = jig.test(datasets.source.processed.val)\n",
    "target_val_label_accuracy, target_val_label_loss = jig.test(datasets.target.processed.val)\n",
    "\n",
    "history = jig.get_history()\n",
    "\n",
    "total_epochs_trained = len(history[\"epoch_indices\"])\n",
    "\n",
    "val_dl = wrap_in_dataloader(p, Sequence_Aggregator((datasets.source.original.val, datasets.target.original.val)))\n",
    "\n",
    "confusion = confusion_by_domain_over_dataloader(model, p.device, val_dl, forward_uses_domain=False)\n",
    "per_domain_accuracy = per_domain_accuracy_from_confusion(confusion)\n",
    "\n",
    "# Add a key to per_domain_accuracy for if it was a source domain\n",
    "for domain, accuracy in per_domain_accuracy.items():\n",
    "    per_domain_accuracy[domain] = {\n",
    "        \"accuracy\": accuracy,\n",
    "        \"source?\": domain in p.domains_source\n",
    "    }\n",
    "\n",
    "# Do an independent accuracy assesment JUST TO BE SURE!\n",
    "# _source_test_label_accuracy = independent_accuracy_assesment(model, datasets.source.processed.test, p.device)\n",
    "# _target_test_label_accuracy = independent_accuracy_assesment(model, datasets.target.processed.test, p.device)\n",
    "# _source_val_label_accuracy = independent_accuracy_assesment(model, datasets.source.processed.val, p.device)\n",
    "# _target_val_label_accuracy = independent_accuracy_assesment(model, datasets.target.processed.val, p.device)\n",
    "\n",
    "# assert(_source_test_label_accuracy == source_test_label_accuracy)\n",
    "# assert(_target_test_label_accuracy == target_test_label_accuracy)\n",
    "# assert(_source_val_label_accuracy == source_val_label_accuracy)\n",
    "# assert(_target_val_label_accuracy == target_val_label_accuracy)\n",
    "\n",
    "###################################\n",
    "# Write out the results\n",
    "###################################\n",
    "\n",
    "experiment = {\n",
    "    \"experiment_name\": p.experiment_name,\n",
    "    \"parameters\": p,\n",
    "    \"results\": {\n",
    "        \"source_test_label_accuracy\": source_test_label_accuracy,\n",
    "        \"source_test_label_loss\": source_test_label_loss,\n",
    "        \"target_test_label_accuracy\": target_test_label_accuracy,\n",
    "        \"target_test_label_loss\": target_test_label_loss,\n",
    "        \"source_val_label_accuracy\": source_val_label_accuracy,\n",
    "        \"source_val_label_loss\": source_val_label_loss,\n",
    "        \"target_val_label_accuracy\": target_val_label_accuracy,\n",
    "        \"target_val_label_loss\": target_val_label_loss,\n",
    "        \"total_epochs_trained\": total_epochs_trained,\n",
    "        \"total_experiment_time_secs\": total_experiment_time_secs,\n",
    "        \"confusion\": confusion,\n",
    "        \"per_domain_accuracy\": per_domain_accuracy,\n",
    "    },\n",
    "    \"history\": history,\n",
    "    \"dataset_metrics\": get_dataset_metrics(datasets, \"cnn\"),\n",
    "}"
   ]
  },
  {
   "cell_type": "code",
   "execution_count": 16,
   "id": "74c318cf",
   "metadata": {
    "execution": {
     "iopub.execute_input": "2022-03-25T21:14:24.410166Z",
     "iopub.status.busy": "2022-03-25T21:14:24.409720Z",
     "iopub.status.idle": "2022-03-25T21:14:24.602707Z",
     "shell.execute_reply": "2022-03-25T21:14:24.603418Z"
    },
    "papermill": {
     "duration": 0.255835,
     "end_time": "2022-03-25T21:14:24.603678",
     "exception": false,
     "start_time": "2022-03-25T21:14:24.347843",
     "status": "completed"
    },
    "tags": []
   },
   "outputs": [
    {
     "data": {
      "text/plain": [
       "<AxesSubplot:title={'center':'Source Train Label Loss vs Source Val Label Loss'}, xlabel='Epoch'>"
      ]
     },
     "execution_count": 16,
     "metadata": {},
     "output_type": "execute_result"
    },
    {
     "data": {
      "image/png": "[encoded data removed]",
      "text/plain": [
       "<Figure size 1080x504 with 1 Axes>"
      ]
     },
     "metadata": {
      "needs_background": "light"
     },
     "output_type": "display_data"
    }
   ],
   "source": [
    "get_loss_curve(experiment)"
   ]
  },
  {
   "cell_type": "code",
   "execution_count": 17,
   "id": "59376601",
   "metadata": {
    "execution": {
     "iopub.execute_input": "2022-03-25T21:14:24.713023Z",
     "iopub.status.busy": "2022-03-25T21:14:24.711782Z",
     "iopub.status.idle": "2022-03-25T21:14:24.975830Z",
     "shell.execute_reply": "2022-03-25T21:14:24.975435Z"
    },
    "papermill": {
     "duration": 0.328036,
     "end_time": "2022-03-25T21:14:24.975921",
     "exception": false,
     "start_time": "2022-03-25T21:14:24.647885",
     "status": "completed"
    },
    "tags": []
   },
   "outputs": [
    {
     "data": {
      "text/plain": [
       "<AxesSubplot:title={'center':'Results'}>"
      ]
     },
     "execution_count": 17,
     "metadata": {},
     "output_type": "execute_result"
    },
    {
     "data": {
      "image/png": "[encoded data removed]",
      "text/plain": [
       "<Figure size 1080x504 with 1 Axes>"
      ]
     },
     "metadata": {
      "needs_background": "light"
     },
     "output_type": "display_data"
    }
   ],
   "source": [
    "get_results_table(experiment)"
   ]
  },
  {
   "cell_type": "code",
   "execution_count": 18,
   "id": "e80c5c98",
   "metadata": {
    "execution": {
     "iopub.execute_input": "2022-03-25T21:14:25.074789Z",
     "iopub.status.busy": "2022-03-25T21:14:25.069314Z",
     "iopub.status.idle": "2022-03-25T21:14:25.237466Z",
     "shell.execute_reply": "2022-03-25T21:14:25.237093Z"
    },
    "papermill": {
     "duration": 0.224388,
     "end_time": "2022-03-25T21:14:25.237542",
     "exception": false,
     "start_time": "2022-03-25T21:14:25.013154",
     "status": "completed"
    },
    "tags": []
   },
   "outputs": [
    {
     "data": {
      "text/plain": [
       "<AxesSubplot:title={'center':'Per Domain Accuracy'}, xlabel='domain'>"
      ]
     },
     "execution_count": 18,
     "metadata": {},
     "output_type": "execute_result"
    },
    {
     "data": {
      "image/png": "[encoded data removed]",
      "text/plain": [
       "<Figure size 1080x504 with 1 Axes>"
      ]
     },
     "metadata": {
      "needs_background": "light"
     },
     "output_type": "display_data"
    }
   ],
   "source": [
    "get_domain_accuracies(experiment)"
   ]
  },
  {
   "cell_type": "code",
   "execution_count": 19,
   "id": "086fdd10",
   "metadata": {
    "execution": {
     "iopub.execute_input": "2022-03-25T21:14:25.320305Z",
     "iopub.status.busy": "2022-03-25T21:14:25.319853Z",
     "iopub.status.idle": "2022-03-25T21:14:25.324032Z",
     "shell.execute_reply": "2022-03-25T21:14:25.323663Z"
    },
    "papermill": {
     "duration": 0.048683,
     "end_time": "2022-03-25T21:14:25.324104",
     "exception": false,
     "start_time": "2022-03-25T21:14:25.275421",
     "status": "completed"
    },
    "tags": []
   },
   "outputs": [
    {
     "name": "stdout",
     "output_type": "stream",
     "text": [
      "Source Test Label Accuracy: 0.9120833333333334 Target Test Label Accuracy: 0.083875\n",
      "Source Val Label Accuracy: 0.9145138888888888 Target Val Label Accuracy: 0.08370833333333333\n"
     ]
    }
   ],
   "source": [
    "print(\"Source Test Label Accuracy:\", experiment[\"results\"][\"source_test_label_accuracy\"], \"Target Test Label Accuracy:\", experiment[\"results\"][\"target_test_label_accuracy\"])\n",
    "print(\"Source Val Label Accuracy:\", experiment[\"results\"][\"source_val_label_accuracy\"], \"Target Val Label Accuracy:\", experiment[\"results\"][\"target_val_label_accuracy\"])"
   ]
  },
  {
   "cell_type": "code",
   "execution_count": 20,
   "id": "9f450536",
   "metadata": {
    "execution": {
     "iopub.execute_input": "2022-03-25T21:14:25.406825Z",
     "iopub.status.busy": "2022-03-25T21:14:25.406462Z",
     "iopub.status.idle": "2022-03-25T21:14:25.410724Z",
     "shell.execute_reply": "2022-03-25T21:14:25.411069Z"
    },
    "papermill": {
     "duration": 0.048955,
     "end_time": "2022-03-25T21:14:25.411154",
     "exception": false,
     "start_time": "2022-03-25T21:14:25.362199",
     "status": "completed"
    },
    "tags": [
     "experiment_json"
    ]
   },
   "outputs": [
    {
     "data": {
      "text/plain": [
       "'{\"experiment_name\": \"cnn_1:oracle.run1.framed\", \"parameters\": {\"experiment_name\": \"cnn_1:oracle.run1.framed\", \"labels\": [\"3123D52\", \"3123D65\", \"3123D79\", \"3123D80\", \"3123D54\", \"3123D70\", \"3123D7B\", \"3123D89\", \"3123D58\", \"3123D76\", \"3123D7D\", \"3123EFE\", \"3123D64\", \"3123D78\", \"3123D7E\", \"3124E4A\"], \"domains_source\": [8, 32, 50], \"domains_target\": [14, 20, 26, 38, 44], \"pickle_name_source\": \"oracle.Run1_framed_2000Examples_stratified_ds.2022A.pkl\", \"pickle_name_target\": \"oracle.Run1_framed_2000Examples_stratified_ds.2022A.pkl\", \"device\": \"cuda\", \"lr\": 0.0001, \"batch_size\": 128, \"normalize_source\": false, \"normalize_target\": false, \"num_examples_per_domain_per_label_source\": -1, \"num_examples_per_domain_per_label_target\": -1, \"torch_default_dtype\": \"torch.float32\", \"n_epoch\": 50, \"patience\": 3, \"criteria_for_best\": \"target_accuracy\", \"x_net\": [{\"class\": \"nnReshape\", \"kargs\": {\"shape\": [-1, 1, 2, 256]}}, {\"class\": \"Conv2d\", \"kargs\": {\"in_channels\": 1, \"out_channels\": 256, \"kernel_size\": [1, 7], \"bias\": false, \"padding\": [0, 3]}}, {\"class\": \"ReLU\", \"kargs\": {\"inplace\": true}}, {\"class\": \"BatchNorm2d\", \"kargs\": {\"num_features\": 256}}, {\"class\": \"Conv2d\", \"kargs\": {\"in_channels\": 256, \"out_channels\": 80, \"kernel_size\": [2, 7], \"bias\": true, \"padding\": [0, 3]}}, {\"class\": \"ReLU\", \"kargs\": {\"inplace\": true}}, {\"class\": \"BatchNorm2d\", \"kargs\": {\"num_features\": 80}}, {\"class\": \"Flatten\", \"kargs\": {}}, {\"class\": \"Linear\", \"kargs\": {\"in_features\": 20480, \"out_features\": 256}}, {\"class\": \"ReLU\", \"kargs\": {\"inplace\": true}}, {\"class\": \"BatchNorm1d\", \"kargs\": {\"num_features\": 256}}, {\"class\": \"Linear\", \"kargs\": {\"in_features\": 256, \"out_features\": 16}}], \"NUM_LOGS_PER_EPOCH\": 10, \"BEST_MODEL_PATH\": \"./best_model.pth\", \"dataset_seed\": 1337, \"seed\": 1337}, \"results\": {\"source_test_label_accuracy\": 0.9120833333333334, \"source_test_label_loss\": 0.4460963596284917, \"target_test_label_accuracy\": 0.083875, \"target_test_label_loss\": 8.868627720690789, \"source_val_label_accuracy\": 0.9145138888888888, \"source_val_label_loss\": 0.4423552888684568, \"target_val_label_accuracy\": 0.08370833333333333, \"target_val_label_loss\": 8.84513230526701, \"total_epochs_trained\": 7, \"total_experiment_time_secs\": 60.09261775016785, \"confusion\": {\"26\": {\"11\": {\"9\": 112, \"2\": 49, \"6\": 87, \"12\": 43, \"0\": 9}, \"8\": {\"3\": 291, \"9\": 4, \"12\": 5}, \"9\": {\"3\": 245, \"9\": 54, \"11\": 1}, \"10\": {\"12\": 277, \"9\": 21, \"3\": 2}, \"12\": {\"12\": 229, \"9\": 71}, \"0\": {\"12\": 229, \"9\": 8, \"3\": 63}, \"6\": {\"12\": 144, \"9\": 156}, \"4\": {\"3\": 300}, \"15\": {\"9\": 298, \"12\": 2}, \"13\": {\"3\": 182, \"2\": 3, \"9\": 113, \"11\": 2}, \"14\": {\"12\": 292, \"9\": 1, \"3\": 7}, \"2\": {\"3\": 265, \"9\": 33, \"11\": 2}, \"7\": {\"3\": 300}, \"1\": {\"12\": 293, \"9\": 6, \"3\": 1}, \"5\": {\"9\": 300}, \"3\": {\"3\": 300}}, \"38\": {\"3\": {\"4\": 286, \"9\": 8, \"11\": 6}, \"5\": {\"9\": 125, \"0\": 51, \"1\": 43, \"15\": 31, \"11\": 21, \"5\": 19, \"4\": 10}, \"7\": {\"4\": 237, \"15\": 38, \"9\": 25}, \"12\": {\"15\": 256, \"13\": 44}, \"14\": {\"5\": 196, \"7\": 102, \"4\": 1, \"3\": 1}, \"6\": {\"9\": 169, \"0\": 123, \"2\": 8}, \"11\": {\"4\": 200, \"11\": 11, \"7\": 89}, \"9\": {\"9\": 299, \"12\": 1}, \"15\": {\"1\": 266, \"0\": 28, \"11\": 3, \"13\": 3}, \"13\": {\"4\": 286, \"7\": 14}, \"0\": {\"4\": 300}, \"10\": {\"4\": 300}, \"1\": {\"0\": 187, \"9\": 86, \"2\": 25, \"1\": 2}, \"4\": {\"4\": 300}, \"2\": {\"5\": 152, \"7\": 148}, \"8\": {\"1\": 84, \"9\": 29, \"15\": 73, \"4\": 72, \"5\": 19, \"11\": 20, \"0\": 3}}, \"8\": {\"1\": {\"1\": 286, \"11\": 12, \"5\": 2}, \"10\": {\"13\": 11, \"10\": 280, \"5\": 9}, \"6\": {\"6\": 240, \"7\": 46, \"13\": 14}, \"4\": {\"4\": 264, \"13\": 4, \"10\": 12, \"6\": 12, \"8\": 3, \"1\": 2, \"14\": 3}, \"5\": {\"5\": 299, \"1\": 1}, \"8\": {\"8\": 300}, \"3\": {\"3\": 300}, \"2\": {\"2\": 292, \"15\": 3, \"3\": 5}, \"14\": {\"14\": 276, \"11\": 9, \"1\": 11, \"4\": 4}, \"7\": {\"7\": 277, \"6\": 22, \"10\": 1}, \"11\": {\"11\": 287, \"1\": 13}, \"15\": {\"15\": 266, \"12\": 34}, \"13\": {\"13\": 260, \"10\": 40}, \"9\": {\"9\": 300}, \"0\": {\"0\": 299, \"14\": 1}, \"12\": {\"12\": 281, \"15\": 19}}, \"44\": {\"8\": {\"6\": 168, \"12\": 78, \"8\": 14, \"2\": 38, \"0\": 1, \"11\": 1}, \"11\": {\"4\": 300}, \"3\": {\"3\": 1, \"13\": 91, \"4\": 105, \"8\": 93, \"14\": 6, \"7\": 3, \"0\": 1}, \"9\": {\"4\": 135, \"15\": 162, \"9\": 3}, \"5\": {\"6\": 278, \"12\": 2, \"7\": 12, \"5\": 6, \"15\": 2}, \"6\": {\"4\": 287, \"15\": 13}, \"7\": {\"15\": 267, \"9\": 17, \"4\": 15, \"5\": 1}, \"12\": {\"3\": 290, \"13\": 7, \"8\": 3}, \"2\": {\"15\": 251, \"5\": 48, \"8\": 1}, \"1\": {\"5\": 291, \"8\": 9}, \"15\": {\"6\": 133, \"12\": 160, \"11\": 5, \"0\": 1, \"9\": 1}, \"13\": {\"4\": 300}, \"4\": {\"15\": 112, \"6\": 18, \"4\": 158, \"11\": 9, \"9\": 1, \"12\": 2}, \"0\": {\"13\": 3, \"2\": 47, \"6\": 208, \"8\": 18, \"1\": 6, \"0\": 13, \"12\": 5}, \"10\": {\"5\": 213, \"15\": 86, \"9\": 1}, \"14\": {\"15\": 118, \"4\": 58, \"6\": 88, \"9\": 10, \"5\": 11, \"12\": 11, \"11\": 4}}, \"14\": {\"13\": {\"3\": 283, \"11\": 17}, \"3\": {\"3\": 300}, \"7\": {\"3\": 161, \"11\": 139}, \"10\": {\"2\": 158, \"3\": 142}, \"11\": {\"7\": 173, \"2\": 89, \"12\": 38}, \"8\": {\"2\": 300}, \"6\": {\"3\": 300}, \"15\": {\"11\": 300}, \"5\": {\"3\": 300}, \"4\": {\"3\": 278, \"2\": 22}, \"9\": {\"2\": 300}, \"1\": {\"2\": 300}, \"14\": {\"3\": 300}, \"12\": {\"2\": 293, \"9\": 7}, \"2\": {\"3\": 300}, \"0\": {\"2\": 15, \"3\": 285}}, \"32\": {\"10\": {\"10\": 300}, \"15\": {\"15\": 295, \"8\": 5}, \"6\": {\"6\": 300}, \"4\": {\"13\": 68, \"4\": 188, \"2\": 41, \"14\": 2, \"8\": 1}, \"3\": {\"3\": 296, \"13\": 4}, \"5\": {\"5\": 213, \"7\": 30, \"8\": 45, \"14\": 10, \"15\": 1, \"12\": 1}, \"11\": {\"11\": 300}, \"0\": {\"0\": 257, \"8\": 37, \"14\": 5, \"7\": 1}, \"13\": {\"13\": 253, \"3\": 35, \"4\": 9, \"8\": 3}, \"9\": {\"9\": 257, \"2\": 23, \"14\": 17, \"1\": 3}, \"12\": {\"12\": 299, \"9\": 1}, \"1\": {\"1\": 300}, \"8\": {\"8\": 295, \"0\": 5}, \"14\": {\"14\": 259, \"0\": 20, \"8\": 6, \"2\": 6, \"7\": 7, \"5\": 2}, \"7\": {\"5\": 41, \"8\": 6, \"7\": 173, \"14\": 70, \"0\": 10}, \"2\": {\"2\": 274, \"4\": 20, \"0\": 2, \"13\": 4}}, \"20\": {\"12\": {\"2\": 300}, \"3\": {\"2\": 278, \"12\": 22}, \"15\": {\"2\": 296, \"7\": 4}, \"9\": {\"2\": 300}, \"13\": {\"2\": 300}, \"4\": {\"12\": 300}, \"2\": {\"2\": 300}, \"7\": {\"2\": 291, \"12\": 9}, \"8\": {\"12\": 268, \"2\": 32}, \"0\": {\"2\": 296, \"15\": 4}, \"1\": {\"2\": 300}, \"14\": {\"12\": 300}, \"10\": {\"12\": 300}, \"5\": {\"2\": 299, \"12\": 1}, \"6\": {\"12\": 299, \"2\": 1}, \"11\": {\"2\": 300}}, \"50\": {\"7\": {\"7\": 272, \"5\": 13, \"4\": 15}, \"12\": {\"12\": 286, \"9\": 13, \"11\": 1}, \"9\": {\"9\": 294, \"12\": 3, \"15\": 2, \"0\": 1}, \"6\": {\"6\": 254, \"5\": 20, \"15\": 25, \"7\": 1}, \"11\": {\"11\": 246, \"9\": 19, \"15\": 18, \"0\": 15, \"8\": 1, \"12\": 1}, \"1\": {\"1\": 300}, \"10\": {\"10\": 292, \"8\": 3, \"0\": 5}, \"8\": {\"8\": 290, \"10\": 10}, \"13\": {\"13\": 300}, \"5\": {\"7\": 17, \"5\": 213, \"4\": 36, \"13\": 8, \"1\": 18, \"15\": 4, \"6\": 4}, \"0\": {\"0\": 289, \"2\": 10, \"10\": 1}, \"15\": {\"15\": 291, \"9\": 2, \"6\": 6, \"5\": 1}, \"14\": {\"14\": 219, \"2\": 66, \"9\": 15}, \"3\": {\"3\": 300}, \"2\": {\"2\": 275, \"0\": 22, \"9\": 3}, \"4\": {\"4\": 282, \"5\": 6, \"7\": 10, \"15\": 2}}}, \"per_domain_accuracy\": {\"26\": {\"accuracy\": 0.12145833333333333, \"source?\": false}, \"38\": {\"accuracy\": 0.13145833333333334, \"source?\": false}, \"8\": {\"accuracy\": 0.9389583333333333, \"source?\": true}, \"44\": {\"accuracy\": 0.040625, \"source?\": false}, \"14\": {\"accuracy\": 0.0625, \"source?\": false}, \"32\": {\"accuracy\": 0.8872916666666667, \"source?\": true}, \"20\": {\"accuracy\": 0.0625, \"source?\": false}, \"50\": {\"accuracy\": 0.9172916666666666, \"source?\": true}}}, \"history\": {\"epoch_indices\": [1, 2, 3, 4, 5, 6, 7], \"train_label_loss\": [1.9818949520020257, 0.9489918580509368, 0.526177559977486, 0.37773479790914627, 0.3058004373028165, 0.24136043565613882, 0.20627591639757156], \"source_val_label_loss\": [1.43846484834114, 0.6555361172794241, 0.44216881705596384, 0.3421030421700098, 0.2366234835533969, 0.26104602758335854, 0.32070627558020365], \"target_val_label_loss\": [5.679405131238572, 7.338528191789668, 8.841864142012088, 9.145405946893895, 11.546948569886228, 12.350233382367072, 11.322268465732007], \"source_val_acc_label\": [0.6044444444444445, 0.8615972222222222, 0.9145138888888888, 0.9167361111111111, 0.9403472222222222, 0.9263194444444445, 0.893125], \"target_val_acc_label\": [0.07158333333333333, 0.06875, 0.08370833333333333, 0.07441666666666667, 0.07320833333333333, 0.0765, 0.07758333333333334]}, \"dataset_metrics\": {\"source\": {\"train\": {\"n_unique_x\": 67200, \"n_unique_y\": 16, \"n_batch/episode\": 525}, \"val\": {\"n_unique_x\": 14400, \"n_unique_y\": 16, \"n_batch/episode\": 113}, \"test\": {\"n_unique_x\": 14400, \"n_unique_y\": 16, \"n_batch/episode\": 113}}, \"target\": {\"train\": {\"n_unique_x\": 112000, \"n_unique_y\": 16, \"n_batch/episode\": 875}, \"val\": {\"n_unique_x\": 24000, \"n_unique_y\": 16, \"n_batch/episode\": 188}, \"test\": {\"n_unique_x\": 24000, \"n_unique_y\": 16, \"n_batch/episode\": 188}}}}'"
      ]
     },
     "execution_count": 20,
     "metadata": {},
     "output_type": "execute_result"
    }
   ],
   "source": [
    "json.dumps(experiment)"
   ]
  }
 ],
 "metadata": {
  "celltoolbar": "Tags",
  "kernelspec": {
   "display_name": "Python 3 (ipykernel)",
   "language": "python",
   "name": "python3"
  },
  "language_info": {
   "codemirror_mode": {
    "name": "ipython",
    "version": 3
   },
   "file_extension": ".py",
   "mimetype": "text/x-python",
   "name": "python",
   "nbconvert_exporter": "python",
   "pygments_lexer": "ipython3",
   "version": "3.8.12"
  },
  "papermill": {
   "default_parameters": {},
   "duration": 77.874839,
   "end_time": "2022-03-25T21:14:27.463176",
   "environment_variables": {},
   "exception": null,
   "input_path": "/root/csc500-main/csc500-notebooks/templates/cnn_template.ipynb",
   "output_path": "trial.ipynb",
   "parameters": {
    "parameters": {
     "BEST_MODEL_PATH": "./best_model.pth",
     "NUM_LOGS_PER_EPOCH": 10,
     "batch_size": 128,
     "criteria_for_best": "target_accuracy",
     "dataset_seed": 1337,
     "device": "cuda",
     "domains_source": [
      8,
      32,
      50
     ],
     "domains_target": [
      14,
      20,
      26,
      38,
      44
     ],
     "experiment_name": "cnn_1:oracle.run1.framed",
     "labels": [
      "3123D52",
      "3123D65",
      "3123D79",
      "3123D80",
      "3123D54",
      "3123D70",
      "3123D7B",
      "3123D89",
      "3123D58",
      "3123D76",
      "3123D7D",
      "3123EFE",
      "3123D64",
      "3123D78",
      "3123D7E",
      "3124E4A"
     ],
     "lr": 0.0001,
     "n_epoch": 50,
     "normalize_source": false,
     "normalize_target": false,
     "num_examples_per_domain_per_label_source": -1,
     "num_examples_per_domain_per_label_target": -1,
     "patience": 3,
     "pickle_name_source": "oracle.Run1_framed_2000Examples_stratified_ds.2022A.pkl",
     "pickle_name_target": "oracle.Run1_framed_2000Examples_stratified_ds.2022A.pkl",
     "seed": 1337,
     "torch_default_dtype": "torch.float32",
     "x_net": [
      {
       "class": "nnReshape",
       "kargs": {
        "shape": [
         -1,
         1,
         2,
         256
        ]
       }
      },
      {
       "class": "Conv2d",
       "kargs": {
        "bias": false,
        "in_channels": 1,
        "kernel_size": [
         1,
         7
        ],
        "out_channels": 256,
        "padding": [
         0,
         3
        ]
       }
      },
      {
       "class": "ReLU",
       "kargs": {
        "inplace": true
       }
      },
      {
       "class": "BatchNorm2d",
       "kargs": {
        "num_features": 256
       }
      },
      {
       "class": "Conv2d",
       "kargs": {
        "bias": true,
        "in_channels": 256,
        "kernel_size": [
         2,
         7
        ],
        "out_channels": 80,
        "padding": [
         0,
         3
        ]
       }
      },
      {
       "class": "ReLU",
       "kargs": {
        "inplace": true
       }
      },
      {
       "class": "BatchNorm2d",
       "kargs": {
        "num_features": 80
       }
      },
      {
       "class": "Flatten",
       "kargs": {}
      },
      {
       "class": "Linear",
       "kargs": {
        "in_features": 20480,
        "out_features": 256
       }
      },
      {
       "class": "ReLU",
       "kargs": {
        "inplace": true
       }
      },
      {
       "class": "BatchNorm1d",
       "kargs": {
        "num_features": 256
       }
      },
      {
       "class": "Linear",
       "kargs": {
        "in_features": 256,
        "out_features": 16
       }
      }
     ]
    }
   },
   "start_time": "2022-03-25T21:13:09.588337",
   "version": "2.3.4"
  }
 },
 "nbformat": 4,
 "nbformat_minor": 5
}