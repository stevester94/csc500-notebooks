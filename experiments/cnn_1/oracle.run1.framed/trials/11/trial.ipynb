{
 "cells": [
  {
   "cell_type": "code",
   "execution_count": 1,
   "id": "2324682e",
   "metadata": {
    "execution": {
     "iopub.execute_input": "2022-03-25T21:28:20.683165Z",
     "iopub.status.busy": "2022-03-25T21:28:20.682296Z",
     "iopub.status.idle": "2022-03-25T21:28:22.001977Z",
     "shell.execute_reply": "2022-03-25T21:28:22.001148Z"
    },
    "papermill": {
     "duration": 1.357159,
     "end_time": "2022-03-25T21:28:22.002163",
     "exception": false,
     "start_time": "2022-03-25T21:28:20.645004",
     "status": "completed"
    },
    "tags": []
   },
   "outputs": [],
   "source": [
    "import os, json, sys, time, random\n",
    "import numpy as np\n",
    "import torch\n",
    "from  easydict import EasyDict\n",
    "from math import floor\n",
    "from easydict import EasyDict\n",
    "\n",
    "from steves_utils.vanilla_train_eval_test_jig import  Vanilla_Train_Eval_Test_Jig\n",
    "\n",
    "from steves_utils.torch_utils import get_dataset_metrics, independent_accuracy_assesment\n",
    "from steves_models.configurable_vanilla import Configurable_Vanilla\n",
    "from steves_utils.torch_sequential_builder import build_sequential\n",
    "from steves_utils.lazy_map import Lazy_Map\n",
    "from steves_utils.sequence_aggregator import Sequence_Aggregator\n",
    "\n",
    "from steves_utils.stratified_dataset.traditional_accessor import Traditional_Accessor_Factory\n",
    "\n",
    "from steves_utils.cnn_do_report import (\n",
    "    get_loss_curve,\n",
    "    get_results_table,\n",
    "    get_parameters_table,\n",
    "    get_domain_accuracies,\n",
    ")\n",
    "\n",
    "from steves_utils.torch_utils import (\n",
    "    confusion_by_domain_over_dataloader,\n",
    "    independent_accuracy_assesment\n",
    ")\n",
    "\n",
    "from steves_utils.utils_v2 import (\n",
    "    per_domain_accuracy_from_confusion,\n",
    "    get_datasets_base_path\n",
    ")\n",
    "\n",
    "# from steves_utils.ptn_do_report import TBD"
   ]
  },
  {
   "cell_type": "code",
   "execution_count": 2,
   "id": "1b29e3fe",
   "metadata": {
    "execution": {
     "iopub.execute_input": "2022-03-25T21:28:22.042665Z",
     "iopub.status.busy": "2022-03-25T21:28:22.042278Z",
     "iopub.status.idle": "2022-03-25T21:28:22.045053Z",
     "shell.execute_reply": "2022-03-25T21:28:22.044726Z"
    },
    "papermill": {
     "duration": 0.022092,
     "end_time": "2022-03-25T21:28:22.045125",
     "exception": false,
     "start_time": "2022-03-25T21:28:22.023033",
     "status": "completed"
    },
    "tags": []
   },
   "outputs": [],
   "source": [
    "required_parameters = {\n",
    "    \"experiment_name\",\n",
    "    \"lr\",\n",
    "    \"device\",\n",
    "    \"dataset_seed\",\n",
    "    \"seed\",\n",
    "    \"labels\",\n",
    "    \"domains_target\",\n",
    "    \"domains_source\",\n",
    "    \"num_examples_per_domain_per_label_source\",\n",
    "    \"num_examples_per_domain_per_label_target\",\n",
    "    \"batch_size\",\n",
    "    \"n_epoch\",\n",
    "    \"patience\",\n",
    "    \"criteria_for_best\",\n",
    "    \"normalize_source\",\n",
    "    \"normalize_target\",\n",
    "    \"x_net\",\n",
    "    \"NUM_LOGS_PER_EPOCH\",\n",
    "    \"BEST_MODEL_PATH\",\n",
    "    \"pickle_name_source\",\n",
    "    \"pickle_name_target\",\n",
    "    \"torch_default_dtype\",\n",
    "}"
   ]
  },
  {
   "cell_type": "code",
   "execution_count": 3,
   "id": "670b5fb8",
   "metadata": {
    "execution": {
     "iopub.execute_input": "2022-03-25T21:28:22.089077Z",
     "iopub.status.busy": "2022-03-25T21:28:22.077778Z",
     "iopub.status.idle": "2022-03-25T21:28:22.097204Z",
     "shell.execute_reply": "2022-03-25T21:28:22.096494Z"
    },
    "papermill": {
     "duration": 0.035012,
     "end_time": "2022-03-25T21:28:22.097360",
     "exception": false,
     "start_time": "2022-03-25T21:28:22.062348",
     "status": "completed"
    },
    "tags": [
     "parameters"
    ]
   },
   "outputs": [],
   "source": [
    "from steves_utils.ORACLE.utils_v2 import (\n",
    "    ALL_SERIAL_NUMBERS,\n",
    "    ALL_DISTANCES_FEET_NARROWED,\n",
    ")\n",
    "\n",
    "standalone_parameters = {}\n",
    "standalone_parameters[\"experiment_name\"] = \"MANUAL CORES CNN\"\n",
    "standalone_parameters[\"lr\"] = 0.0001\n",
    "standalone_parameters[\"device\"] = \"cuda\"\n",
    "\n",
    "standalone_parameters[\"dataset_seed\"] = 1337\n",
    "standalone_parameters[\"seed\"] = 1337\n",
    "standalone_parameters[\"labels\"] = ALL_SERIAL_NUMBERS\n",
    "\n",
    "standalone_parameters[\"domains_source\"] = [8,32,50]\n",
    "standalone_parameters[\"domains_target\"] = [14,20,26,38,44,]\n",
    "\n",
    "standalone_parameters[\"num_examples_per_domain_per_label_source\"]=-1\n",
    "standalone_parameters[\"num_examples_per_domain_per_label_target\"]=-1\n",
    "\n",
    "standalone_parameters[\"pickle_name_source\"] = \"oracle.Run1_framed_2000Examples_stratified_ds.2022A.pkl\"\n",
    "standalone_parameters[\"pickle_name_target\"] = \"oracle.Run2_framed_2000Examples_stratified_ds.2022A.pkl\"\n",
    "\n",
    "standalone_parameters[\"torch_default_dtype\"] = \"torch.float32\" \n",
    "\n",
    "standalone_parameters[\"batch_size\"]=128\n",
    "\n",
    "standalone_parameters[\"n_epoch\"] = 3\n",
    "\n",
    "standalone_parameters[\"patience\"] = 10\n",
    "\n",
    "standalone_parameters[\"criteria_for_best\"] = \"target_accuracy\"\n",
    "standalone_parameters[\"normalize_source\"] = False\n",
    "standalone_parameters[\"normalize_target\"] = False\n",
    "\n",
    "standalone_parameters[\"x_net\"] =     [\n",
    "    {\"class\": \"nnReshape\", \"kargs\": {\"shape\":[-1, 1, 2, 256]}},\n",
    "    {\"class\": \"Conv2d\", \"kargs\": { \"in_channels\":1, \"out_channels\":256, \"kernel_size\":(1,7), \"bias\":False, \"padding\":(0,3), },},\n",
    "    {\"class\": \"ReLU\", \"kargs\": {\"inplace\": True}},\n",
    "    {\"class\": \"BatchNorm2d\", \"kargs\": {\"num_features\":256}},\n",
    "\n",
    "    {\"class\": \"Conv2d\", \"kargs\": { \"in_channels\":256, \"out_channels\":80, \"kernel_size\":(2,7), \"bias\":True, \"padding\":(0,3), },},\n",
    "    {\"class\": \"ReLU\", \"kargs\": {\"inplace\": True}},\n",
    "    {\"class\": \"BatchNorm2d\", \"kargs\": {\"num_features\":80}},\n",
    "    {\"class\": \"Flatten\", \"kargs\": {}},\n",
    "\n",
    "    {\"class\": \"Linear\", \"kargs\": {\"in_features\": 80*256, \"out_features\": 256}}, # 80 units per IQ pair\n",
    "    {\"class\": \"ReLU\", \"kargs\": {\"inplace\": True}},\n",
    "    {\"class\": \"BatchNorm1d\", \"kargs\": {\"num_features\":256}},\n",
    "\n",
    "    {\"class\": \"Linear\", \"kargs\": {\"in_features\": 256, \"out_features\": len(standalone_parameters[\"labels\"])}},\n",
    "]\n",
    "\n",
    "standalone_parameters[\"NUM_LOGS_PER_EPOCH\"] = 10\n",
    "standalone_parameters[\"BEST_MODEL_PATH\"] = \"./best_model.pth\""
   ]
  },
  {
   "cell_type": "code",
   "execution_count": 4,
   "id": "4131fac0",
   "metadata": {
    "execution": {
     "iopub.execute_input": "2022-03-25T21:28:22.144138Z",
     "iopub.status.busy": "2022-03-25T21:28:22.137087Z",
     "iopub.status.idle": "2022-03-25T21:28:22.146916Z",
     "shell.execute_reply": "2022-03-25T21:28:22.146103Z"
    },
    "papermill": {
     "duration": 0.030688,
     "end_time": "2022-03-25T21:28:22.147072",
     "exception": false,
     "start_time": "2022-03-25T21:28:22.116384",
     "status": "completed"
    },
    "tags": [
     "injected-parameters"
    ]
   },
   "outputs": [],
   "source": [
    "# Parameters\n",
    "parameters = {\n",
    "    \"experiment_name\": \"cnn_1:oracle.run1.framed\",\n",
    "    \"labels\": [\n",
    "        \"3123D52\",\n",
    "        \"3123D65\",\n",
    "        \"3123D79\",\n",
    "        \"3123D80\",\n",
    "        \"3123D54\",\n",
    "        \"3123D70\",\n",
    "        \"3123D7B\",\n",
    "        \"3123D89\",\n",
    "        \"3123D58\",\n",
    "        \"3123D76\",\n",
    "        \"3123D7D\",\n",
    "        \"3123EFE\",\n",
    "        \"3123D64\",\n",
    "        \"3123D78\",\n",
    "        \"3123D7E\",\n",
    "        \"3124E4A\",\n",
    "    ],\n",
    "    \"domains_source\": [8, 32, 50],\n",
    "    \"domains_target\": [14, 20, 26, 38, 44],\n",
    "    \"pickle_name_source\": \"oracle.Run1_framed_2000Examples_stratified_ds.2022A.pkl\",\n",
    "    \"pickle_name_target\": \"oracle.Run1_framed_2000Examples_stratified_ds.2022A.pkl\",\n",
    "    \"device\": \"cuda\",\n",
    "    \"lr\": 0.0001,\n",
    "    \"batch_size\": 128,\n",
    "    \"normalize_source\": False,\n",
    "    \"normalize_target\": False,\n",
    "    \"num_examples_per_domain_per_label_source\": -1,\n",
    "    \"num_examples_per_domain_per_label_target\": -1,\n",
    "    \"torch_default_dtype\": \"torch.float32\",\n",
    "    \"n_epoch\": 50,\n",
    "    \"patience\": 3,\n",
    "    \"criteria_for_best\": \"target_accuracy\",\n",
    "    \"x_net\": [\n",
    "        {\"class\": \"nnReshape\", \"kargs\": {\"shape\": [-1, 1, 2, 256]}},\n",
    "        {\n",
    "            \"class\": \"Conv2d\",\n",
    "            \"kargs\": {\n",
    "                \"in_channels\": 1,\n",
    "                \"out_channels\": 256,\n",
    "                \"kernel_size\": [1, 7],\n",
    "                \"bias\": False,\n",
    "                \"padding\": [0, 3],\n",
    "            },\n",
    "        },\n",
    "        {\"class\": \"ReLU\", \"kargs\": {\"inplace\": True}},\n",
    "        {\"class\": \"BatchNorm2d\", \"kargs\": {\"num_features\": 256}},\n",
    "        {\n",
    "            \"class\": \"Conv2d\",\n",
    "            \"kargs\": {\n",
    "                \"in_channels\": 256,\n",
    "                \"out_channels\": 80,\n",
    "                \"kernel_size\": [2, 7],\n",
    "                \"bias\": True,\n",
    "                \"padding\": [0, 3],\n",
    "            },\n",
    "        },\n",
    "        {\"class\": \"ReLU\", \"kargs\": {\"inplace\": True}},\n",
    "        {\"class\": \"BatchNorm2d\", \"kargs\": {\"num_features\": 80}},\n",
    "        {\"class\": \"Flatten\", \"kargs\": {}},\n",
    "        {\"class\": \"Linear\", \"kargs\": {\"in_features\": 20480, \"out_features\": 256}},\n",
    "        {\"class\": \"ReLU\", \"kargs\": {\"inplace\": True}},\n",
    "        {\"class\": \"BatchNorm1d\", \"kargs\": {\"num_features\": 256}},\n",
    "        {\"class\": \"Linear\", \"kargs\": {\"in_features\": 256, \"out_features\": 16}},\n",
    "    ],\n",
    "    \"NUM_LOGS_PER_EPOCH\": 10,\n",
    "    \"BEST_MODEL_PATH\": \"./best_model.pth\",\n",
    "    \"dataset_seed\": 420,\n",
    "    \"seed\": 420,\n",
    "}\n"
   ]
  },
  {
   "cell_type": "code",
   "execution_count": 5,
   "id": "759b56ec",
   "metadata": {
    "execution": {
     "iopub.execute_input": "2022-03-25T21:28:22.187272Z",
     "iopub.status.busy": "2022-03-25T21:28:22.186893Z",
     "iopub.status.idle": "2022-03-25T21:28:22.189714Z",
     "shell.execute_reply": "2022-03-25T21:28:22.188902Z"
    },
    "papermill": {
     "duration": 0.024758,
     "end_time": "2022-03-25T21:28:22.189869",
     "exception": false,
     "start_time": "2022-03-25T21:28:22.165111",
     "status": "completed"
    },
    "tags": []
   },
   "outputs": [],
   "source": [
    "# Set this to True if you want to run this template directly\n",
    "STANDALONE = False\n",
    "if STANDALONE:\n",
    "    print(\"parameters not injected, running with standalone_parameters\")\n",
    "    parameters = standalone_parameters\n",
    "\n",
    "if not 'parameters' in locals() and not 'parameters' in globals():\n",
    "    raise Exception(\"Parameter injection failed\")\n",
    "\n",
    "#Use an easy dict for all the parameters\n",
    "p = EasyDict(parameters)\n",
    "\n",
    "supplied_keys = set(p.keys())\n",
    "\n",
    "if  supplied_keys != required_parameters:\n",
    "    print(\"Parameters are incorrect\")\n",
    "    if len(supplied_keys - required_parameters)>0: print(\"Shouldn't have:\", str(supplied_keys - required_parameters))\n",
    "    if len(required_parameters - supplied_keys)>0: print(\"Need to have:\", str(required_parameters - supplied_keys))\n",
    "    raise RuntimeError(\"Parameters are incorrect\")\n",
    "\n"
   ]
  },
  {
   "cell_type": "code",
   "execution_count": 6,
   "id": "d5c66a71",
   "metadata": {
    "execution": {
     "iopub.execute_input": "2022-03-25T21:28:22.228057Z",
     "iopub.status.busy": "2022-03-25T21:28:22.227620Z",
     "iopub.status.idle": "2022-03-25T21:28:22.231300Z",
     "shell.execute_reply": "2022-03-25T21:28:22.231847Z"
    },
    "papermill": {
     "duration": 0.023085,
     "end_time": "2022-03-25T21:28:22.231976",
     "exception": false,
     "start_time": "2022-03-25T21:28:22.208891",
     "status": "completed"
    },
    "tags": []
   },
   "outputs": [],
   "source": [
    "###################################\n",
    "# Set the RNGs and make it all deterministic\n",
    "###################################\n",
    "np.random.seed(p.seed)\n",
    "random.seed(p.seed)\n",
    "torch.manual_seed(p.seed)\n",
    "\n",
    "torch.use_deterministic_algorithms(True) "
   ]
  },
  {
   "cell_type": "code",
   "execution_count": 7,
   "id": "92a65876",
   "metadata": {
    "execution": {
     "iopub.execute_input": "2022-03-25T21:28:22.271065Z",
     "iopub.status.busy": "2022-03-25T21:28:22.270702Z",
     "iopub.status.idle": "2022-03-25T21:28:22.273260Z",
     "shell.execute_reply": "2022-03-25T21:28:22.273748Z"
    },
    "papermill": {
     "duration": 0.021409,
     "end_time": "2022-03-25T21:28:22.273881",
     "exception": false,
     "start_time": "2022-03-25T21:28:22.252472",
     "status": "completed"
    },
    "tags": []
   },
   "outputs": [],
   "source": [
    "torch.set_default_dtype(eval(p.torch_default_dtype))"
   ]
  },
  {
   "cell_type": "code",
   "execution_count": 8,
   "id": "f1a32f01",
   "metadata": {
    "execution": {
     "iopub.execute_input": "2022-03-25T21:28:22.313396Z",
     "iopub.status.busy": "2022-03-25T21:28:22.313025Z",
     "iopub.status.idle": "2022-03-25T21:28:22.352485Z",
     "shell.execute_reply": "2022-03-25T21:28:22.351644Z"
    },
    "papermill": {
     "duration": 0.059759,
     "end_time": "2022-03-25T21:28:22.352656",
     "exception": false,
     "start_time": "2022-03-25T21:28:22.292897",
     "status": "completed"
    },
    "tags": []
   },
   "outputs": [],
   "source": [
    "###################################\n",
    "# Build the network(s)\n",
    "# Note: It's critical to do this AFTER setting the RNG\n",
    "###################################\n",
    "x_net = build_sequential(p.x_net)"
   ]
  },
  {
   "cell_type": "code",
   "execution_count": 9,
   "id": "a276cd83",
   "metadata": {
    "execution": {
     "iopub.execute_input": "2022-03-25T21:28:22.391207Z",
     "iopub.status.busy": "2022-03-25T21:28:22.390833Z",
     "iopub.status.idle": "2022-03-25T21:28:22.393780Z",
     "shell.execute_reply": "2022-03-25T21:28:22.393461Z"
    },
    "papermill": {
     "duration": 0.02208,
     "end_time": "2022-03-25T21:28:22.393853",
     "exception": false,
     "start_time": "2022-03-25T21:28:22.371773",
     "status": "completed"
    },
    "tags": []
   },
   "outputs": [],
   "source": [
    "start_time_secs = time.time()"
   ]
  },
  {
   "cell_type": "code",
   "execution_count": 10,
   "id": "de702e48",
   "metadata": {
    "execution": {
     "iopub.execute_input": "2022-03-25T21:28:22.440505Z",
     "iopub.status.busy": "2022-03-25T21:28:22.439905Z",
     "iopub.status.idle": "2022-03-25T21:28:26.411945Z",
     "shell.execute_reply": "2022-03-25T21:28:26.411178Z"
    },
    "papermill": {
     "duration": 4.000016,
     "end_time": "2022-03-25T21:28:26.412134",
     "exception": false,
     "start_time": "2022-03-25T21:28:22.412118",
     "status": "completed"
    },
    "tags": []
   },
   "outputs": [],
   "source": [
    "def wrap_in_dataloader(p, ds):\n",
    "    return torch.utils.data.DataLoader(\n",
    "        ds,\n",
    "        batch_size=p.batch_size,\n",
    "        shuffle=True,\n",
    "        num_workers=1,\n",
    "        persistent_workers=True,\n",
    "        prefetch_factor=50,\n",
    "        pin_memory=True\n",
    "    )\n",
    "\n",
    "taf_source = Traditional_Accessor_Factory(\n",
    "    labels=p.labels,\n",
    "    domains=p.domains_source,\n",
    "    num_examples_per_domain_per_label=p.num_examples_per_domain_per_label_source,\n",
    "    pickle_path=os.path.join(get_datasets_base_path(), p.pickle_name_source),\n",
    "    seed=p.dataset_seed\n",
    ")\n",
    "train_original_source, val_original_source, test_original_source = \\\n",
    "    taf_source.get_train(), taf_source.get_val(), taf_source.get_test()\n",
    "\n",
    "\n",
    "taf_target = Traditional_Accessor_Factory(\n",
    "    labels=p.labels,\n",
    "    domains=p.domains_target,\n",
    "    num_examples_per_domain_per_label=p.num_examples_per_domain_per_label_source,\n",
    "    pickle_path=os.path.join(get_datasets_base_path(), p.pickle_name_target),\n",
    "    seed=p.dataset_seed\n",
    ")\n",
    "train_original_target, val_original_target, test_original_target = \\\n",
    "    taf_target.get_train(), taf_target.get_val(), taf_target.get_test()\n",
    "\n",
    "\n",
    "# For CNN We only use X and Y. And we only train on the source.\n",
    "# Properly form the data using a transform lambda and Lazy_Map. Finally wrap them in a dataloader\n",
    "\n",
    "transform_lambda = lambda ex: ex[:2] # Strip the tuple to just (x,y)\n",
    "\n",
    "\n",
    "train_processed_source = wrap_in_dataloader(\n",
    "    p,\n",
    "    Lazy_Map(train_original_source, transform_lambda)\n",
    ")\n",
    "val_processed_source = wrap_in_dataloader(\n",
    "    p,\n",
    "    Lazy_Map(val_original_source, transform_lambda)\n",
    ")\n",
    "test_processed_source = wrap_in_dataloader(\n",
    "    p,\n",
    "    Lazy_Map(test_original_source, transform_lambda)\n",
    ")\n",
    "\n",
    "train_processed_target = wrap_in_dataloader(\n",
    "    p,\n",
    "    Lazy_Map(train_original_target, transform_lambda)\n",
    ")\n",
    "val_processed_target = wrap_in_dataloader(\n",
    "    p,\n",
    "    Lazy_Map(val_original_target, transform_lambda)\n",
    ")\n",
    "test_processed_target  = wrap_in_dataloader(\n",
    "    p,\n",
    "    Lazy_Map(test_original_target, transform_lambda)\n",
    ")\n",
    "\n",
    "\n",
    "\n",
    "datasets = EasyDict({\n",
    "    \"source\": {\n",
    "        \"original\": {\"train\":train_original_source, \"val\":val_original_source, \"test\":test_original_source},\n",
    "        \"processed\": {\"train\":train_processed_source, \"val\":val_processed_source, \"test\":test_processed_source}\n",
    "    },\n",
    "    \"target\": {\n",
    "        \"original\": {\"train\":train_original_target, \"val\":val_original_target, \"test\":test_original_target},\n",
    "        \"processed\": {\"train\":train_processed_target, \"val\":val_processed_target, \"test\":test_processed_target}\n",
    "    },\n",
    "})"
   ]
  },
  {
   "cell_type": "code",
   "execution_count": 11,
   "id": "a11b26bd",
   "metadata": {
    "execution": {
     "iopub.execute_input": "2022-03-25T21:28:26.491203Z",
     "iopub.status.busy": "2022-03-25T21:28:26.490350Z",
     "iopub.status.idle": "2022-03-25T21:28:32.176230Z",
     "shell.execute_reply": "2022-03-25T21:28:32.175326Z"
    },
    "papermill": {
     "duration": 5.745708,
     "end_time": "2022-03-25T21:28:32.176407",
     "exception": false,
     "start_time": "2022-03-25T21:28:26.430699",
     "status": "completed"
    },
    "tags": []
   },
   "outputs": [
    {
     "data": {
      "text/plain": [
       "torch.float32"
      ]
     },
     "execution_count": 11,
     "metadata": {},
     "output_type": "execute_result"
    }
   ],
   "source": [
    "ep = next(iter(test_processed_target))\n",
    "ep[0].dtype"
   ]
  },
  {
   "cell_type": "code",
   "execution_count": 12,
   "id": "19425fad",
   "metadata": {
    "execution": {
     "iopub.execute_input": "2022-03-25T21:28:32.231085Z",
     "iopub.status.busy": "2022-03-25T21:28:32.230249Z",
     "iopub.status.idle": "2022-03-25T21:28:32.276177Z",
     "shell.execute_reply": "2022-03-25T21:28:32.276857Z"
    },
    "papermill": {
     "duration": 0.083518,
     "end_time": "2022-03-25T21:28:32.277043",
     "exception": false,
     "start_time": "2022-03-25T21:28:32.193525",
     "status": "completed"
    },
    "tags": []
   },
   "outputs": [],
   "source": [
    "model = Configurable_Vanilla(\n",
    "    x_net=x_net,\n",
    "    label_loss_object=torch.nn.NLLLoss(),\n",
    "    learning_rate=p.lr\n",
    ")"
   ]
  },
  {
   "cell_type": "code",
   "execution_count": 13,
   "id": "7f6d4f2c",
   "metadata": {
    "execution": {
     "iopub.execute_input": "2022-03-25T21:28:32.318308Z",
     "iopub.status.busy": "2022-03-25T21:28:32.317482Z",
     "iopub.status.idle": "2022-03-25T21:29:27.130589Z",
     "shell.execute_reply": "2022-03-25T21:29:27.131249Z"
    },
    "papermill": {
     "duration": 54.836262,
     "end_time": "2022-03-25T21:29:27.131459",
     "exception": false,
     "start_time": "2022-03-25T21:28:32.295197",
     "status": "completed"
    },
    "tags": []
   },
   "outputs": [
    {
     "name": "stdout",
     "output_type": "stream",
     "text": [
      "epoch: 1, [batch: 1 / 525], examples_per_second: 851.9049, train_label_loss: 2.7656, \n"
     ]
    },
    {
     "name": "stdout",
     "output_type": "stream",
     "text": [
      "epoch: 1, [batch: 53 / 525], examples_per_second: 10491.0165, train_label_loss: 2.6670, \n"
     ]
    },
    {
     "name": "stdout",
     "output_type": "stream",
     "text": [
      "epoch: 1, [batch: 105 / 525], examples_per_second: 10636.8347, train_label_loss: 2.4588, \n"
     ]
    },
    {
     "name": "stdout",
     "output_type": "stream",
     "text": [
      "epoch: 1, [batch: 158 / 525], examples_per_second: 10582.6441, train_label_loss: 2.2909, \n"
     ]
    },
    {
     "name": "stdout",
     "output_type": "stream",
     "text": [
      "epoch: 1, [batch: 210 / 525], examples_per_second: 10659.0293, train_label_loss: 2.1193, \n"
     ]
    },
    {
     "name": "stdout",
     "output_type": "stream",
     "text": [
      "epoch: 1, [batch: 263 / 525], examples_per_second: 10615.3814, train_label_loss: 2.0355, \n"
     ]
    },
    {
     "name": "stdout",
     "output_type": "stream",
     "text": [
      "epoch: 1, [batch: 315 / 525], examples_per_second: 10725.3110, train_label_loss: 1.8253, \n"
     ]
    },
    {
     "name": "stdout",
     "output_type": "stream",
     "text": [
      "epoch: 1, [batch: 367 / 525], examples_per_second: 10590.9575, train_label_loss: 1.5818, \n"
     ]
    },
    {
     "name": "stdout",
     "output_type": "stream",
     "text": [
      "epoch: 1, [batch: 420 / 525], examples_per_second: 10756.2640, train_label_loss: 1.5206, \n"
     ]
    },
    {
     "name": "stdout",
     "output_type": "stream",
     "text": [
      "epoch: 1, [batch: 472 / 525], examples_per_second: 10610.1898, train_label_loss: 1.4421, \n"
     ]
    },
    {
     "name": "stdout",
     "output_type": "stream",
     "text": [
      "=============================================================\n",
      "epoch: 1, source_val_acc_label: 0.6897, source_val_label_loss: 1.2948, target_val_acc_label: 0.0732, target_val_label_loss: 5.2564, \n",
      "=============================================================\n"
     ]
    },
    {
     "name": "stdout",
     "output_type": "stream",
     "text": [
      "New best\n",
      "epoch: 2, [batch: 1 / 525], examples_per_second: 98.5242, train_label_loss: 1.2723, \n"
     ]
    },
    {
     "name": "stdout",
     "output_type": "stream",
     "text": [
      "epoch: 2, [batch: 53 / 525], examples_per_second: 10505.3115, train_label_loss: 1.2678, \n"
     ]
    },
    {
     "name": "stdout",
     "output_type": "stream",
     "text": [
      "epoch: 2, [batch: 105 / 525], examples_per_second: 10748.9527, train_label_loss: 1.1056, \n"
     ]
    },
    {
     "name": "stdout",
     "output_type": "stream",
     "text": [
      "epoch: 2, [batch: 158 / 525], examples_per_second: 10710.4562, train_label_loss: 1.0226, \n"
     ]
    },
    {
     "name": "stdout",
     "output_type": "stream",
     "text": [
      "epoch: 2, [batch: 210 / 525], examples_per_second: 10432.6251, train_label_loss: 1.0466, \n"
     ]
    },
    {
     "name": "stdout",
     "output_type": "stream",
     "text": [
      "epoch: 2, [batch: 263 / 525], examples_per_second: 10504.9341, train_label_loss: 0.8960, \n"
     ]
    },
    {
     "name": "stdout",
     "output_type": "stream",
     "text": [
      "epoch: 2, [batch: 315 / 525], examples_per_second: 10662.1069, train_label_loss: 0.7801, \n"
     ]
    },
    {
     "name": "stdout",
     "output_type": "stream",
     "text": [
      "epoch: 2, [batch: 367 / 525], examples_per_second: 10469.3544, train_label_loss: 0.7046, \n"
     ]
    },
    {
     "name": "stdout",
     "output_type": "stream",
     "text": [
      "epoch: 2, [batch: 420 / 525], examples_per_second: 10537.5078, train_label_loss: 0.7830, \n"
     ]
    },
    {
     "name": "stdout",
     "output_type": "stream",
     "text": [
      "epoch: 2, [batch: 472 / 525], examples_per_second: 11792.3581, train_label_loss: 0.8714, \n"
     ]
    },
    {
     "name": "stdout",
     "output_type": "stream",
     "text": [
      "=============================================================\n",
      "epoch: 2, source_val_acc_label: 0.8993, source_val_label_loss: 0.6455, target_val_acc_label: 0.0709, target_val_label_loss: 7.1532, \n",
      "=============================================================\n"
     ]
    },
    {
     "name": "stdout",
     "output_type": "stream",
     "text": [
      "epoch: 3, [batch: 1 / 525], examples_per_second: 140.0685, train_label_loss: 0.6496, \n"
     ]
    },
    {
     "name": "stdout",
     "output_type": "stream",
     "text": [
      "epoch: 3, [batch: 53 / 525], examples_per_second: 11469.1547, train_label_loss: 0.6795, \n"
     ]
    },
    {
     "name": "stdout",
     "output_type": "stream",
     "text": [
      "epoch: 3, [batch: 105 / 525], examples_per_second: 11752.2276, train_label_loss: 0.5382, \n"
     ]
    },
    {
     "name": "stdout",
     "output_type": "stream",
     "text": [
      "epoch: 3, [batch: 158 / 525], examples_per_second: 11749.0660, train_label_loss: 0.5427, \n"
     ]
    },
    {
     "name": "stdout",
     "output_type": "stream",
     "text": [
      "epoch: 3, [batch: 210 / 525], examples_per_second: 11658.5173, train_label_loss: 0.4652, \n"
     ]
    },
    {
     "name": "stdout",
     "output_type": "stream",
     "text": [
      "epoch: 3, [batch: 263 / 525], examples_per_second: 11846.2890, train_label_loss: 0.5016, \n"
     ]
    },
    {
     "name": "stdout",
     "output_type": "stream",
     "text": [
      "epoch: 3, [batch: 315 / 525], examples_per_second: 11690.1032, train_label_loss: 0.4895, \n"
     ]
    },
    {
     "name": "stdout",
     "output_type": "stream",
     "text": [
      "epoch: 3, [batch: 367 / 525], examples_per_second: 11806.2768, train_label_loss: 0.4284, \n"
     ]
    },
    {
     "name": "stdout",
     "output_type": "stream",
     "text": [
      "epoch: 3, [batch: 420 / 525], examples_per_second: 11613.2691, train_label_loss: 0.4437, \n"
     ]
    },
    {
     "name": "stdout",
     "output_type": "stream",
     "text": [
      "epoch: 3, [batch: 472 / 525], examples_per_second: 11830.4419, train_label_loss: 0.5222, \n"
     ]
    },
    {
     "name": "stdout",
     "output_type": "stream",
     "text": [
      "=============================================================\n",
      "epoch: 3, source_val_acc_label: 0.9036, source_val_label_loss: 0.4382, target_val_acc_label: 0.0796, target_val_label_loss: 15.1890, \n",
      "=============================================================\n"
     ]
    },
    {
     "name": "stdout",
     "output_type": "stream",
     "text": [
      "New best\n",
      "epoch: 4, [batch: 1 / 525], examples_per_second: 141.5568, train_label_loss: 0.3360, \n"
     ]
    },
    {
     "name": "stdout",
     "output_type": "stream",
     "text": [
      "epoch: 4, [batch: 53 / 525], examples_per_second: 12635.4185, train_label_loss: 0.3725, \n"
     ]
    },
    {
     "name": "stdout",
     "output_type": "stream",
     "text": [
      "epoch: 4, [batch: 105 / 525], examples_per_second: 13013.1353, train_label_loss: 0.3827, \n"
     ]
    },
    {
     "name": "stdout",
     "output_type": "stream",
     "text": [
      "epoch: 4, [batch: 158 / 525], examples_per_second: 12931.5276, train_label_loss: 0.3640, \n"
     ]
    },
    {
     "name": "stdout",
     "output_type": "stream",
     "text": [
      "epoch: 4, [batch: 210 / 525], examples_per_second: 12788.5256, train_label_loss: 0.4281, \n"
     ]
    },
    {
     "name": "stdout",
     "output_type": "stream",
     "text": [
      "epoch: 4, [batch: 263 / 525], examples_per_second: 12552.7329, train_label_loss: 0.3538, \n"
     ]
    },
    {
     "name": "stdout",
     "output_type": "stream",
     "text": [
      "epoch: 4, [batch: 315 / 525], examples_per_second: 13445.5611, train_label_loss: 0.3899, \n"
     ]
    },
    {
     "name": "stdout",
     "output_type": "stream",
     "text": [
      "epoch: 4, [batch: 367 / 525], examples_per_second: 14086.2724, train_label_loss: 0.2981, \n"
     ]
    },
    {
     "name": "stdout",
     "output_type": "stream",
     "text": [
      "epoch: 4, [batch: 420 / 525], examples_per_second: 13124.6057, train_label_loss: 0.4531, \n"
     ]
    },
    {
     "name": "stdout",
     "output_type": "stream",
     "text": [
      "epoch: 4, [batch: 472 / 525], examples_per_second: 13034.7717, train_label_loss: 0.3585, \n"
     ]
    },
    {
     "name": "stdout",
     "output_type": "stream",
     "text": [
      "=============================================================\n",
      "epoch: 4, source_val_acc_label: 0.9194, source_val_label_loss: 0.3239, target_val_acc_label: 0.0880, target_val_label_loss: 20.0670, \n",
      "=============================================================\n"
     ]
    },
    {
     "name": "stdout",
     "output_type": "stream",
     "text": [
      "New best\n",
      "epoch: 5, [batch: 1 / 525], examples_per_second: 153.3862, train_label_loss: 0.2928, \n"
     ]
    },
    {
     "name": "stdout",
     "output_type": "stream",
     "text": [
      "epoch: 5, [batch: 53 / 525], examples_per_second: 12905.7715, train_label_loss: 0.2551, \n"
     ]
    },
    {
     "name": "stdout",
     "output_type": "stream",
     "text": [
      "epoch: 5, [batch: 105 / 525], examples_per_second: 12477.1840, train_label_loss: 0.3218, \n"
     ]
    },
    {
     "name": "stdout",
     "output_type": "stream",
     "text": [
      "epoch: 5, [batch: 158 / 525], examples_per_second: 12802.9380, train_label_loss: 0.3079, \n"
     ]
    },
    {
     "name": "stdout",
     "output_type": "stream",
     "text": [
      "epoch: 5, [batch: 210 / 525], examples_per_second: 12660.3329, train_label_loss: 0.2944, \n"
     ]
    },
    {
     "name": "stdout",
     "output_type": "stream",
     "text": [
      "epoch: 5, [batch: 263 / 525], examples_per_second: 12884.4487, train_label_loss: 0.2337, \n"
     ]
    },
    {
     "name": "stdout",
     "output_type": "stream",
     "text": [
      "epoch: 5, [batch: 315 / 525], examples_per_second: 12747.5965, train_label_loss: 0.2818, \n"
     ]
    },
    {
     "name": "stdout",
     "output_type": "stream",
     "text": [
      "epoch: 5, [batch: 367 / 525], examples_per_second: 12534.6960, train_label_loss: 0.2913, \n"
     ]
    },
    {
     "name": "stdout",
     "output_type": "stream",
     "text": [
      "epoch: 5, [batch: 420 / 525], examples_per_second: 12533.7065, train_label_loss: 0.2670, \n"
     ]
    },
    {
     "name": "stdout",
     "output_type": "stream",
     "text": [
      "epoch: 5, [batch: 472 / 525], examples_per_second: 12559.6099, train_label_loss: 0.2519, \n"
     ]
    },
    {
     "name": "stdout",
     "output_type": "stream",
     "text": [
      "=============================================================\n",
      "epoch: 5, source_val_acc_label: 0.9310, source_val_label_loss: 0.2851, target_val_acc_label: 0.0836, target_val_label_loss: 24.9819, \n",
      "=============================================================\n"
     ]
    },
    {
     "name": "stdout",
     "output_type": "stream",
     "text": [
      "epoch: 6, [batch: 1 / 525], examples_per_second: 160.5184, train_label_loss: 0.2212, \n"
     ]
    },
    {
     "name": "stdout",
     "output_type": "stream",
     "text": [
      "epoch: 6, [batch: 53 / 525], examples_per_second: 12739.4352, train_label_loss: 0.2437, \n"
     ]
    },
    {
     "name": "stdout",
     "output_type": "stream",
     "text": [
      "epoch: 6, [batch: 105 / 525], examples_per_second: 12977.7588, train_label_loss: 0.2563, \n"
     ]
    },
    {
     "name": "stdout",
     "output_type": "stream",
     "text": [
      "epoch: 6, [batch: 158 / 525], examples_per_second: 12940.5668, train_label_loss: 0.2494, \n"
     ]
    },
    {
     "name": "stdout",
     "output_type": "stream",
     "text": [
      "epoch: 6, [batch: 210 / 525], examples_per_second: 13195.9133, train_label_loss: 0.2704, \n"
     ]
    },
    {
     "name": "stdout",
     "output_type": "stream",
     "text": [
      "epoch: 6, [batch: 263 / 525], examples_per_second: 13038.4545, train_label_loss: 0.2076, \n"
     ]
    },
    {
     "name": "stdout",
     "output_type": "stream",
     "text": [
      "epoch: 6, [batch: 315 / 525], examples_per_second: 13081.1534, train_label_loss: 0.1960, \n"
     ]
    },
    {
     "name": "stdout",
     "output_type": "stream",
     "text": [
      "epoch: 6, [batch: 367 / 525], examples_per_second: 12882.9318, train_label_loss: 0.2152, \n"
     ]
    },
    {
     "name": "stdout",
     "output_type": "stream",
     "text": [
      "epoch: 6, [batch: 420 / 525], examples_per_second: 12942.6976, train_label_loss: 0.1802, \n"
     ]
    },
    {
     "name": "stdout",
     "output_type": "stream",
     "text": [
      "epoch: 6, [batch: 472 / 525], examples_per_second: 12964.3976, train_label_loss: 0.2122, \n"
     ]
    },
    {
     "name": "stdout",
     "output_type": "stream",
     "text": [
      "=============================================================\n",
      "epoch: 6, source_val_acc_label: 0.9347, source_val_label_loss: 0.2352, target_val_acc_label: 0.0817, target_val_label_loss: 29.2519, \n",
      "=============================================================\n"
     ]
    },
    {
     "name": "stdout",
     "output_type": "stream",
     "text": [
      "epoch: 7, [batch: 1 / 525], examples_per_second: 154.7263, train_label_loss: 0.1975, \n"
     ]
    },
    {
     "name": "stdout",
     "output_type": "stream",
     "text": [
      "epoch: 7, [batch: 53 / 525], examples_per_second: 12732.1958, train_label_loss: 0.1691, \n"
     ]
    },
    {
     "name": "stdout",
     "output_type": "stream",
     "text": [
      "epoch: 7, [batch: 105 / 525], examples_per_second: 13097.4964, train_label_loss: 0.2797, \n"
     ]
    },
    {
     "name": "stdout",
     "output_type": "stream",
     "text": [
      "epoch: 7, [batch: 158 / 525], examples_per_second: 13023.4458, train_label_loss: 0.2284, \n"
     ]
    },
    {
     "name": "stdout",
     "output_type": "stream",
     "text": [
      "epoch: 7, [batch: 210 / 525], examples_per_second: 13097.0417, train_label_loss: 0.1808, \n"
     ]
    },
    {
     "name": "stdout",
     "output_type": "stream",
     "text": [
      "epoch: 7, [batch: 263 / 525], examples_per_second: 12833.3978, train_label_loss: 0.2165, \n"
     ]
    },
    {
     "name": "stdout",
     "output_type": "stream",
     "text": [
      "epoch: 7, [batch: 315 / 525], examples_per_second: 13000.4156, train_label_loss: 0.2199, \n"
     ]
    },
    {
     "name": "stdout",
     "output_type": "stream",
     "text": [
      "epoch: 7, [batch: 367 / 525], examples_per_second: 12989.5396, train_label_loss: 0.2205, \n"
     ]
    },
    {
     "name": "stdout",
     "output_type": "stream",
     "text": [
      "epoch: 7, [batch: 420 / 525], examples_per_second: 13799.7158, train_label_loss: 0.1423, \n"
     ]
    },
    {
     "name": "stdout",
     "output_type": "stream",
     "text": [
      "epoch: 7, [batch: 472 / 525], examples_per_second: 14220.6087, train_label_loss: 0.1313, \n"
     ]
    },
    {
     "name": "stdout",
     "output_type": "stream",
     "text": [
      "=============================================================\n",
      "epoch: 7, source_val_acc_label: 0.9071, source_val_label_loss: 0.3117, target_val_acc_label: 0.0819, target_val_label_loss: 22.5314, \n",
      "=============================================================\n"
     ]
    },
    {
     "name": "stdout",
     "output_type": "stream",
     "text": [
      "epoch: 8, [batch: 1 / 525], examples_per_second: 171.8152, train_label_loss: 0.1593, \n"
     ]
    },
    {
     "name": "stdout",
     "output_type": "stream",
     "text": [
      "epoch: 8, [batch: 53 / 525], examples_per_second: 12042.9895, train_label_loss: 0.3082, \n"
     ]
    },
    {
     "name": "stdout",
     "output_type": "stream",
     "text": [
      "epoch: 8, [batch: 105 / 525], examples_per_second: 11792.0990, train_label_loss: 0.2558, \n"
     ]
    },
    {
     "name": "stdout",
     "output_type": "stream",
     "text": [
      "epoch: 8, [batch: 158 / 525], examples_per_second: 11730.0940, train_label_loss: 0.1900, \n"
     ]
    },
    {
     "name": "stdout",
     "output_type": "stream",
     "text": [
      "epoch: 8, [batch: 210 / 525], examples_per_second: 11730.4259, train_label_loss: 0.1505, \n"
     ]
    },
    {
     "name": "stdout",
     "output_type": "stream",
     "text": [
      "epoch: 8, [batch: 263 / 525], examples_per_second: 11871.8372, train_label_loss: 0.1936, \n"
     ]
    },
    {
     "name": "stdout",
     "output_type": "stream",
     "text": [
      "epoch: 8, [batch: 315 / 525], examples_per_second: 11805.2733, train_label_loss: 0.2379, \n"
     ]
    },
    {
     "name": "stdout",
     "output_type": "stream",
     "text": [
      "epoch: 8, [batch: 367 / 525], examples_per_second: 11729.1050, train_label_loss: 0.1593, \n"
     ]
    },
    {
     "name": "stdout",
     "output_type": "stream",
     "text": [
      "epoch: 8, [batch: 420 / 525], examples_per_second: 11914.3940, train_label_loss: 0.1575, \n"
     ]
    },
    {
     "name": "stdout",
     "output_type": "stream",
     "text": [
      "epoch: 8, [batch: 472 / 525], examples_per_second: 11764.6584, train_label_loss: 0.2129, \n"
     ]
    },
    {
     "name": "stdout",
     "output_type": "stream",
     "text": [
      "=============================================================\n",
      "epoch: 8, source_val_acc_label: 0.9415, source_val_label_loss: 0.2444, target_val_acc_label: 0.0877, target_val_label_loss: 22.2665, \n",
      "=============================================================\n"
     ]
    },
    {
     "name": "stdout",
     "output_type": "stream",
     "text": [
      "Patience (3) exhausted\n"
     ]
    }
   ],
   "source": [
    "jig = Vanilla_Train_Eval_Test_Jig(\n",
    "    model=model,\n",
    "    path_to_best_model=p.BEST_MODEL_PATH,\n",
    "    device=p.device,\n",
    "    label_loss_object=torch.nn.NLLLoss(),\n",
    ")\n",
    "\n",
    "jig.train(\n",
    "    train_iterable=datasets.source.processed.train,\n",
    "    source_val_iterable=datasets.source.processed.val,\n",
    "    target_val_iterable=datasets.target.processed.val,\n",
    "    patience=p.patience,\n",
    "    num_epochs=p.n_epoch,\n",
    "    num_logs_per_epoch=p.NUM_LOGS_PER_EPOCH,\n",
    "    criteria_for_best=p.criteria_for_best\n",
    ")"
   ]
  },
  {
   "cell_type": "code",
   "execution_count": 14,
   "id": "4bc2ac17",
   "metadata": {
    "execution": {
     "iopub.execute_input": "2022-03-25T21:29:27.217188Z",
     "iopub.status.busy": "2022-03-25T21:29:27.216809Z",
     "iopub.status.idle": "2022-03-25T21:29:27.219085Z",
     "shell.execute_reply": "2022-03-25T21:29:27.219393Z"
    },
    "papermill": {
     "duration": 0.04574,
     "end_time": "2022-03-25T21:29:27.219494",
     "exception": false,
     "start_time": "2022-03-25T21:29:27.173754",
     "status": "completed"
    },
    "tags": []
   },
   "outputs": [],
   "source": [
    "total_experiment_time_secs = time.time() - start_time_secs"
   ]
  },
  {
   "cell_type": "code",
   "execution_count": 15,
   "id": "cae88f23",
   "metadata": {
    "execution": {
     "iopub.execute_input": "2022-03-25T21:29:27.312384Z",
     "iopub.status.busy": "2022-03-25T21:29:27.311514Z",
     "iopub.status.idle": "2022-03-25T21:29:38.739101Z",
     "shell.execute_reply": "2022-03-25T21:29:38.739838Z"
    },
    "papermill": {
     "duration": 11.47901,
     "end_time": "2022-03-25T21:29:38.740062",
     "exception": false,
     "start_time": "2022-03-25T21:29:27.261052",
     "status": "completed"
    },
    "tags": []
   },
   "outputs": [],
   "source": [
    "source_test_label_accuracy, source_test_label_loss = jig.test(datasets.source.processed.test)\n",
    "target_test_label_accuracy, target_test_label_loss = jig.test(datasets.target.processed.test)\n",
    "\n",
    "source_val_label_accuracy, source_val_label_loss = jig.test(datasets.source.processed.val)\n",
    "target_val_label_accuracy, target_val_label_loss = jig.test(datasets.target.processed.val)\n",
    "\n",
    "history = jig.get_history()\n",
    "\n",
    "total_epochs_trained = len(history[\"epoch_indices\"])\n",
    "\n",
    "val_dl = wrap_in_dataloader(p, Sequence_Aggregator((datasets.source.original.val, datasets.target.original.val)))\n",
    "\n",
    "confusion = confusion_by_domain_over_dataloader(model, p.device, val_dl, forward_uses_domain=False)\n",
    "per_domain_accuracy = per_domain_accuracy_from_confusion(confusion)\n",
    "\n",
    "# Add a key to per_domain_accuracy for if it was a source domain\n",
    "for domain, accuracy in per_domain_accuracy.items():\n",
    "    per_domain_accuracy[domain] = {\n",
    "        \"accuracy\": accuracy,\n",
    "        \"source?\": domain in p.domains_source\n",
    "    }\n",
    "\n",
    "# Do an independent accuracy assesment JUST TO BE SURE!\n",
    "# _source_test_label_accuracy = independent_accuracy_assesment(model, datasets.source.processed.test, p.device)\n",
    "# _target_test_label_accuracy = independent_accuracy_assesment(model, datasets.target.processed.test, p.device)\n",
    "# _source_val_label_accuracy = independent_accuracy_assesment(model, datasets.source.processed.val, p.device)\n",
    "# _target_val_label_accuracy = independent_accuracy_assesment(model, datasets.target.processed.val, p.device)\n",
    "\n",
    "# assert(_source_test_label_accuracy == source_test_label_accuracy)\n",
    "# assert(_target_test_label_accuracy == target_test_label_accuracy)\n",
    "# assert(_source_val_label_accuracy == source_val_label_accuracy)\n",
    "# assert(_target_val_label_accuracy == target_val_label_accuracy)\n",
    "\n",
    "###################################\n",
    "# Write out the results\n",
    "###################################\n",
    "\n",
    "experiment = {\n",
    "    \"experiment_name\": p.experiment_name,\n",
    "    \"parameters\": p,\n",
    "    \"results\": {\n",
    "        \"source_test_label_accuracy\": source_test_label_accuracy,\n",
    "        \"source_test_label_loss\": source_test_label_loss,\n",
    "        \"target_test_label_accuracy\": target_test_label_accuracy,\n",
    "        \"target_test_label_loss\": target_test_label_loss,\n",
    "        \"source_val_label_accuracy\": source_val_label_accuracy,\n",
    "        \"source_val_label_loss\": source_val_label_loss,\n",
    "        \"target_val_label_accuracy\": target_val_label_accuracy,\n",
    "        \"target_val_label_loss\": target_val_label_loss,\n",
    "        \"total_epochs_trained\": total_epochs_trained,\n",
    "        \"total_experiment_time_secs\": total_experiment_time_secs,\n",
    "        \"confusion\": confusion,\n",
    "        \"per_domain_accuracy\": per_domain_accuracy,\n",
    "    },\n",
    "    \"history\": history,\n",
    "    \"dataset_metrics\": get_dataset_metrics(datasets, \"cnn\"),\n",
    "}"
   ]
  },
  {
   "cell_type": "code",
   "execution_count": 16,
   "id": "74c318cf",
   "metadata": {
    "execution": {
     "iopub.execute_input": "2022-03-25T21:29:38.847044Z",
     "iopub.status.busy": "2022-03-25T21:29:38.843895Z",
     "iopub.status.idle": "2022-03-25T21:29:39.044196Z",
     "shell.execute_reply": "2022-03-25T21:29:39.044877Z"
    },
    "papermill": {
     "duration": 0.261748,
     "end_time": "2022-03-25T21:29:39.045095",
     "exception": false,
     "start_time": "2022-03-25T21:29:38.783347",
     "status": "completed"
    },
    "tags": []
   },
   "outputs": [
    {
     "data": {
      "text/plain": [
       "<AxesSubplot:title={'center':'Source Train Label Loss vs Source Val Label Loss'}, xlabel='Epoch'>"
      ]
     },
     "execution_count": 16,
     "metadata": {},
     "output_type": "execute_result"
    },
    {
     "data": {
      "image/png": "[encoded data removed]",
      "text/plain": [
       "<Figure size 1080x504 with 1 Axes>"
      ]
     },
     "metadata": {
      "needs_background": "light"
     },
     "output_type": "display_data"
    }
   ],
   "source": [
    "get_loss_curve(experiment)"
   ]
  },
  {
   "cell_type": "code",
   "execution_count": 17,
   "id": "59376601",
   "metadata": {
    "execution": {
     "iopub.execute_input": "2022-03-25T21:29:39.156569Z",
     "iopub.status.busy": "2022-03-25T21:29:39.139334Z",
     "iopub.status.idle": "2022-03-25T21:29:39.461432Z",
     "shell.execute_reply": "2022-03-25T21:29:39.462113Z"
    },
    "papermill": {
     "duration": 0.371604,
     "end_time": "2022-03-25T21:29:39.462327",
     "exception": false,
     "start_time": "2022-03-25T21:29:39.090723",
     "status": "completed"
    },
    "tags": []
   },
   "outputs": [
    {
     "data": {
      "text/plain": [
       "<AxesSubplot:title={'center':'Results'}>"
      ]
     },
     "execution_count": 17,
     "metadata": {},
     "output_type": "execute_result"
    },
    {
     "data": {
      "image/png": "[encoded data removed]",
      "text/plain": [
       "<Figure size 1080x504 with 1 Axes>"
      ]
     },
     "metadata": {
      "needs_background": "light"
     },
     "output_type": "display_data"
    }
   ],
   "source": [
    "get_results_table(experiment)"
   ]
  },
  {
   "cell_type": "code",
   "execution_count": 18,
   "id": "e80c5c98",
   "metadata": {
    "execution": {
     "iopub.execute_input": "2022-03-25T21:29:39.574466Z",
     "iopub.status.busy": "2022-03-25T21:29:39.573626Z",
     "iopub.status.idle": "2022-03-25T21:29:39.735392Z",
     "shell.execute_reply": "2022-03-25T21:29:39.734706Z"
    },
    "papermill": {
     "duration": 0.226476,
     "end_time": "2022-03-25T21:29:39.735596",
     "exception": false,
     "start_time": "2022-03-25T21:29:39.509120",
     "status": "completed"
    },
    "tags": []
   },
   "outputs": [
    {
     "data": {
      "text/plain": [
       "<AxesSubplot:title={'center':'Per Domain Accuracy'}, xlabel='domain'>"
      ]
     },
     "execution_count": 18,
     "metadata": {},
     "output_type": "execute_result"
    },
    {
     "data": {
      "image/png": "[encoded data removed]",
      "text/plain": [
       "<Figure size 1080x504 with 1 Axes>"
      ]
     },
     "metadata": {
      "needs_background": "light"
     },
     "output_type": "display_data"
    }
   ],
   "source": [
    "get_domain_accuracies(experiment)"
   ]
  },
  {
   "cell_type": "code",
   "execution_count": 19,
   "id": "086fdd10",
   "metadata": {
    "execution": {
     "iopub.execute_input": "2022-03-25T21:29:39.830786Z",
     "iopub.status.busy": "2022-03-25T21:29:39.830414Z",
     "iopub.status.idle": "2022-03-25T21:29:39.834103Z",
     "shell.execute_reply": "2022-03-25T21:29:39.833619Z"
    },
    "papermill": {
     "duration": 0.049744,
     "end_time": "2022-03-25T21:29:39.834209",
     "exception": false,
     "start_time": "2022-03-25T21:29:39.784465",
     "status": "completed"
    },
    "tags": []
   },
   "outputs": [
    {
     "name": "stdout",
     "output_type": "stream",
     "text": [
      "Source Test Label Accuracy: 0.9165972222222222 Target Test Label Accuracy: 0.0885\n",
      "Source Val Label Accuracy: 0.919375 Target Val Label Accuracy: 0.088\n"
     ]
    }
   ],
   "source": [
    "print(\"Source Test Label Accuracy:\", experiment[\"results\"][\"source_test_label_accuracy\"], \"Target Test Label Accuracy:\", experiment[\"results\"][\"target_test_label_accuracy\"])\n",
    "print(\"Source Val Label Accuracy:\", experiment[\"results\"][\"source_val_label_accuracy\"], \"Target Val Label Accuracy:\", experiment[\"results\"][\"target_val_label_accuracy\"])"
   ]
  },
  {
   "cell_type": "code",
   "execution_count": 20,
   "id": "9f450536",
   "metadata": {
    "execution": {
     "iopub.execute_input": "2022-03-25T21:29:39.926044Z",
     "iopub.status.busy": "2022-03-25T21:29:39.925681Z",
     "iopub.status.idle": "2022-03-25T21:29:39.928459Z",
     "shell.execute_reply": "2022-03-25T21:29:39.928780Z"
    },
    "papermill": {
     "duration": 0.049449,
     "end_time": "2022-03-25T21:29:39.928861",
     "exception": false,
     "start_time": "2022-03-25T21:29:39.879412",
     "status": "completed"
    },
    "tags": [
     "experiment_json"
    ]
   },
   "outputs": [
    {
     "data": {
      "text/plain": [
       "'{\"experiment_name\": \"cnn_1:oracle.run1.framed\", \"parameters\": {\"experiment_name\": \"cnn_1:oracle.run1.framed\", \"labels\": [\"3123D52\", \"3123D65\", \"3123D79\", \"3123D80\", \"3123D54\", \"3123D70\", \"3123D7B\", \"3123D89\", \"3123D58\", \"3123D76\", \"3123D7D\", \"3123EFE\", \"3123D64\", \"3123D78\", \"3123D7E\", \"3124E4A\"], \"domains_source\": [8, 32, 50], \"domains_target\": [14, 20, 26, 38, 44], \"pickle_name_source\": \"oracle.Run1_framed_2000Examples_stratified_ds.2022A.pkl\", \"pickle_name_target\": \"oracle.Run1_framed_2000Examples_stratified_ds.2022A.pkl\", \"device\": \"cuda\", \"lr\": 0.0001, \"batch_size\": 128, \"normalize_source\": false, \"normalize_target\": false, \"num_examples_per_domain_per_label_source\": -1, \"num_examples_per_domain_per_label_target\": -1, \"torch_default_dtype\": \"torch.float32\", \"n_epoch\": 50, \"patience\": 3, \"criteria_for_best\": \"target_accuracy\", \"x_net\": [{\"class\": \"nnReshape\", \"kargs\": {\"shape\": [-1, 1, 2, 256]}}, {\"class\": \"Conv2d\", \"kargs\": {\"in_channels\": 1, \"out_channels\": 256, \"kernel_size\": [1, 7], \"bias\": false, \"padding\": [0, 3]}}, {\"class\": \"ReLU\", \"kargs\": {\"inplace\": true}}, {\"class\": \"BatchNorm2d\", \"kargs\": {\"num_features\": 256}}, {\"class\": \"Conv2d\", \"kargs\": {\"in_channels\": 256, \"out_channels\": 80, \"kernel_size\": [2, 7], \"bias\": true, \"padding\": [0, 3]}}, {\"class\": \"ReLU\", \"kargs\": {\"inplace\": true}}, {\"class\": \"BatchNorm2d\", \"kargs\": {\"num_features\": 80}}, {\"class\": \"Flatten\", \"kargs\": {}}, {\"class\": \"Linear\", \"kargs\": {\"in_features\": 20480, \"out_features\": 256}}, {\"class\": \"ReLU\", \"kargs\": {\"inplace\": true}}, {\"class\": \"BatchNorm1d\", \"kargs\": {\"num_features\": 256}}, {\"class\": \"Linear\", \"kargs\": {\"in_features\": 256, \"out_features\": 16}}], \"NUM_LOGS_PER_EPOCH\": 10, \"BEST_MODEL_PATH\": \"./best_model.pth\", \"dataset_seed\": 420, \"seed\": 420}, \"results\": {\"source_test_label_accuracy\": 0.9165972222222222, \"source_test_label_loss\": 0.32755936352552567, \"target_test_label_accuracy\": 0.0885, \"target_test_label_loss\": 19.867436687997046, \"source_val_label_accuracy\": 0.919375, \"source_val_label_loss\": 0.32412480147538986, \"target_val_label_accuracy\": 0.088, \"target_val_label_loss\": 20.094864865566823, \"total_epochs_trained\": 8, \"total_experiment_time_secs\": 64.82582926750183, \"confusion\": {\"50\": {\"2\": {\"2\": 287, \"0\": 11, \"9\": 2}, \"8\": {\"8\": 297, \"10\": 3}, \"9\": {\"9\": 297, \"15\": 2, \"11\": 1}, \"11\": {\"11\": 287, \"15\": 11, \"9\": 2}, \"10\": {\"10\": 298, \"8\": 2}, \"6\": {\"6\": 277, \"15\": 17, \"5\": 6}, \"0\": {\"0\": 256, \"10\": 21, \"2\": 23}, \"7\": {\"7\": 300}, \"1\": {\"1\": 300}, \"15\": {\"15\": 299, \"6\": 1}, \"14\": {\"14\": 299, \"9\": 1}, \"4\": {\"4\": 274, \"7\": 22, \"15\": 3, \"5\": 1}, \"5\": {\"13\": 20, \"7\": 91, \"5\": 134, \"4\": 41, \"1\": 8, \"6\": 2, \"15\": 4}, \"12\": {\"12\": 192, \"9\": 84, \"11\": 18, \"5\": 5, \"7\": 1}, \"13\": {\"13\": 300}, \"3\": {\"3\": 299, \"7\": 1}}, \"26\": {\"12\": {\"9\": 217, \"12\": 79, \"6\": 4}, \"11\": {\"2\": 73, \"6\": 159, \"12\": 18, \"9\": 47, \"0\": 3}, \"15\": {\"9\": 300}, \"4\": {\"3\": 300}, \"3\": {\"3\": 275, \"11\": 24, \"9\": 1}, \"7\": {\"3\": 276, \"9\": 13, \"11\": 11}, \"5\": {\"9\": 300}, \"1\": {\"12\": 272, \"9\": 28}, \"14\": {\"12\": 296, \"9\": 4}, \"8\": {\"12\": 8, \"3\": 186, \"9\": 105, \"11\": 1}, \"13\": {\"9\": 222, \"3\": 41, \"2\": 32, \"11\": 5}, \"9\": {\"9\": 217, \"3\": 82, \"11\": 1}, \"0\": {\"12\": 251, \"9\": 40, \"3\": 9}, \"10\": {\"12\": 237, \"9\": 63}, \"2\": {\"11\": 109, \"9\": 147, \"3\": 44}, \"6\": {\"9\": 259, \"12\": 41}}, \"8\": {\"6\": {\"6\": 252, \"4\": 46, \"7\": 1, \"8\": 1}, \"13\": {\"13\": 255, \"4\": 1, \"10\": 39, \"5\": 1, \"6\": 4}, \"4\": {\"4\": 285, \"14\": 15}, \"0\": {\"0\": 300}, \"15\": {\"15\": 291, \"12\": 9}, \"10\": {\"10\": 291, \"5\": 3, \"13\": 6}, \"14\": {\"14\": 297, \"4\": 3}, \"2\": {\"2\": 285, \"15\": 2, \"3\": 13}, \"9\": {\"9\": 300}, \"12\": {\"12\": 288, \"15\": 12}, \"7\": {\"6\": 131, \"7\": 169}, \"11\": {\"11\": 297, \"1\": 3}, \"5\": {\"5\": 290, \"14\": 3, \"1\": 6, \"11\": 1}, \"3\": {\"3\": 300}, \"8\": {\"8\": 300}, \"1\": {\"1\": 295, \"5\": 1, \"11\": 3, \"14\": 1}}, \"32\": {\"4\": {\"4\": 251, \"2\": 44, \"13\": 4, \"14\": 1}, \"13\": {\"13\": 267, \"8\": 5, \"3\": 20, \"4\": 8}, \"15\": {\"15\": 298, \"8\": 1, \"9\": 1}, \"14\": {\"5\": 14, \"14\": 236, \"0\": 44, \"8\": 6}, \"2\": {\"2\": 277, \"4\": 23}, \"6\": {\"6\": 300}, \"8\": {\"8\": 287, \"0\": 6, \"5\": 7}, \"7\": {\"5\": 173, \"7\": 98, \"0\": 7, \"14\": 22}, \"12\": {\"12\": 299, \"0\": 1}, \"11\": {\"11\": 299, \"13\": 1}, \"10\": {\"10\": 300}, \"0\": {\"0\": 270, \"8\": 24, \"14\": 6}, \"9\": {\"14\": 21, \"9\": 278, \"2\": 1}, \"3\": {\"3\": 300}, \"5\": {\"5\": 288, \"8\": 8, \"0\": 1, \"7\": 3}, \"1\": {\"1\": 300}}, \"14\": {\"11\": {\"7\": 281, \"12\": 18, \"2\": 1}, \"2\": {\"3\": 295, \"2\": 1, \"11\": 4}, \"6\": {\"3\": 299, \"11\": 1}, \"15\": {\"11\": 300}, \"0\": {\"2\": 85, \"3\": 214, \"11\": 1}, \"8\": {\"2\": 299, \"7\": 1}, \"5\": {\"3\": 293, \"11\": 5, \"2\": 2}, \"3\": {\"3\": 294, \"11\": 6}, \"13\": {\"11\": 34, \"3\": 266}, \"4\": {\"2\": 70, \"3\": 228, \"7\": 2}, \"12\": {\"2\": 300}, \"10\": {\"3\": 160, \"2\": 140}, \"9\": {\"2\": 296, \"7\": 3, \"0\": 1}, \"7\": {\"11\": 289, \"3\": 9, \"7\": 2}, \"14\": {\"3\": 300}, \"1\": {\"7\": 268, \"2\": 32}}, \"20\": {\"15\": {\"7\": 148, \"2\": 144, \"13\": 8}, \"7\": {\"2\": 298, \"12\": 2}, \"1\": {\"2\": 291, \"7\": 8, \"13\": 1}, \"11\": {\"2\": 300}, \"8\": {\"2\": 60, \"12\": 238, \"15\": 1, \"3\": 1}, \"12\": {\"2\": 273, \"7\": 25, \"12\": 2}, \"3\": {\"2\": 298, \"12\": 2}, \"2\": {\"2\": 299, \"7\": 1}, \"13\": {\"2\": 293, \"7\": 7}, \"6\": {\"12\": 299, \"2\": 1}, \"10\": {\"12\": 300}, \"14\": {\"12\": 300}, \"9\": {\"2\": 300}, \"5\": {\"2\": 298, \"13\": 1, \"6\": 1}, \"0\": {\"2\": 297, \"15\": 3}, \"4\": {\"7\": 27, \"12\": 273}}, \"44\": {\"8\": {\"6\": 254, \"7\": 14, \"8\": 6, \"2\": 23, \"0\": 2, \"11\": 1}, \"10\": {\"5\": 84, \"0\": 184, \"9\": 9, \"15\": 23}, \"1\": {\"5\": 299, \"8\": 1}, \"2\": {\"5\": 134, \"15\": 166}, \"9\": {\"4\": 137, \"15\": 94, \"0\": 62, \"9\": 7}, \"6\": {\"4\": 118, \"0\": 147, \"15\": 24, \"9\": 11}, \"14\": {\"15\": 239, \"6\": 27, \"4\": 29, \"9\": 1, \"11\": 4}, \"0\": {\"6\": 284, \"2\": 8, \"8\": 6, \"13\": 2}, \"13\": {\"4\": 141, \"0\": 151, \"9\": 8}, \"3\": {\"13\": 18, \"4\": 81, \"5\": 78, \"8\": 120, \"14\": 1, \"7\": 1, \"2\": 1}, \"5\": {\"6\": 206, \"7\": 88, \"4\": 3, \"15\": 2, \"5\": 1}, \"15\": {\"6\": 264, \"7\": 12, \"11\": 14, \"15\": 3, \"12\": 7}, \"11\": {\"0\": 300}, \"4\": {\"4\": 172, \"6\": 5, \"15\": 119, \"11\": 4}, \"7\": {\"4\": 240, \"15\": 52, \"9\": 8}, \"12\": {\"3\": 278, \"5\": 9, \"8\": 13}}, \"38\": {\"14\": {\"7\": 249, \"5\": 49, \"4\": 2}, \"0\": {\"0\": 118, \"4\": 182}, \"12\": {\"13\": 227, \"15\": 73}, \"13\": {\"4\": 274, \"7\": 13, \"0\": 13}, \"15\": {\"1\": 267, \"5\": 10, \"0\": 6, \"13\": 10, \"11\": 5, \"9\": 2}, \"6\": {\"9\": 297, \"2\": 2, \"0\": 1}, \"7\": {\"4\": 289, \"9\": 11}, \"5\": {\"9\": 165, \"15\": 23, \"11\": 40, \"5\": 18, \"4\": 24, \"1\": 30}, \"9\": {\"9\": 300}, \"1\": {\"9\": 196, \"1\": 18, \"0\": 57, \"2\": 29}, \"11\": {\"0\": 300}, \"8\": {\"15\": 82, \"11\": 29, \"1\": 56, \"4\": 97, \"5\": 13, \"9\": 23}, \"2\": {\"7\": 271, \"5\": 29}, \"4\": {\"4\": 300}, \"10\": {\"4\": 242, \"0\": 58}, \"3\": {\"0\": 300}}}, \"per_domain_accuracy\": {\"50\": {\"accuracy\": 0.9158333333333334, \"source?\": true}, \"26\": {\"accuracy\": 0.11895833333333333, \"source?\": false}, \"8\": {\"accuracy\": 0.9364583333333333, \"source?\": true}, \"32\": {\"accuracy\": 0.9058333333333334, \"source?\": true}, \"14\": {\"accuracy\": 0.061875, \"source?\": false}, \"20\": {\"accuracy\": 0.06270833333333334, \"source?\": false}, \"44\": {\"accuracy\": 0.039375, \"source?\": false}, \"38\": {\"accuracy\": 0.15708333333333332, \"source?\": false}}}, \"history\": {\"epoch_indices\": [1, 2, 3, 4, 5, 6, 7, 8], \"train_label_loss\": [1.9723628495988392, 0.940106676760174, 0.5353706081708273, 0.3730717815671648, 0.2959482461497897, 0.24511373409203122, 0.21431164613791875, 0.18813694909924553], \"source_val_label_loss\": [1.2948096188823734, 0.6454669453401481, 0.4382360656704523, 0.3239442907867178, 0.2850589906483625, 0.23522297563278569, 0.3117355482768169, 0.244384373183799], \"target_val_label_loss\": [5.256378881474759, 7.153238035262899, 15.188977890826287, 20.067003990741487, 24.98185924266247, 29.251923855314864, 22.53141995693775, 22.266453575580677], \"source_val_acc_label\": [0.6897222222222222, 0.8993055555555556, 0.9036111111111111, 0.919375, 0.9309722222222222, 0.9347222222222222, 0.9070833333333334, 0.9415277777777777], \"target_val_acc_label\": [0.07320833333333333, 0.07091666666666667, 0.07958333333333334, 0.088, 0.08358333333333333, 0.08170833333333333, 0.08191666666666667, 0.08770833333333333]}, \"dataset_metrics\": {\"source\": {\"train\": {\"n_unique_x\": 67200, \"n_unique_y\": 16, \"n_batch/episode\": 525}, \"val\": {\"n_unique_x\": 14400, \"n_unique_y\": 16, \"n_batch/episode\": 113}, \"test\": {\"n_unique_x\": 14400, \"n_unique_y\": 16, \"n_batch/episode\": 113}}, \"target\": {\"train\": {\"n_unique_x\": 112000, \"n_unique_y\": 16, \"n_batch/episode\": 875}, \"val\": {\"n_unique_x\": 24000, \"n_unique_y\": 16, \"n_batch/episode\": 188}, \"test\": {\"n_unique_x\": 24000, \"n_unique_y\": 16, \"n_batch/episode\": 188}}}}'"
      ]
     },
     "execution_count": 20,
     "metadata": {},
     "output_type": "execute_result"
    }
   ],
   "source": [
    "json.dumps(experiment)"
   ]
  }
 ],
 "metadata": {
  "celltoolbar": "Tags",
  "kernelspec": {
   "display_name": "Python 3 (ipykernel)",
   "language": "python",
   "name": "python3"
  },
  "language_info": {
   "codemirror_mode": {
    "name": "ipython",
    "version": 3
   },
   "file_extension": ".py",
   "mimetype": "text/x-python",
   "name": "python",
   "nbconvert_exporter": "python",
   "pygments_lexer": "ipython3",
   "version": "3.8.12"
  },
  "papermill": {
   "default_parameters": {},
   "duration": 82.31387,
   "end_time": "2022-03-25T21:29:41.987765",
   "environment_variables": {},
   "exception": null,
   "input_path": "/root/csc500-main/csc500-notebooks/templates/cnn_template.ipynb",
   "output_path": "trial.ipynb",
   "parameters": {
    "parameters": {
     "BEST_MODEL_PATH": "./best_model.pth",
     "NUM_LOGS_PER_EPOCH": 10,
     "batch_size": 128,
     "criteria_for_best": "target_accuracy",
     "dataset_seed": 420,
     "device": "cuda",
     "domains_source": [
      8,
      32,
      50
     ],
     "domains_target": [
      14,
      20,
      26,
      38,
      44
     ],
     "experiment_name": "cnn_1:oracle.run1.framed",
     "labels": [
      "3123D52",
      "3123D65",
      "3123D79",
      "3123D80",
      "3123D54",
      "3123D70",
      "3123D7B",
      "3123D89",
      "3123D58",
      "3123D76",
      "3123D7D",
      "3123EFE",
      "3123D64",
      "3123D78",
      "3123D7E",
      "3124E4A"
     ],
     "lr": 0.0001,
     "n_epoch": 50,
     "normalize_source": false,
     "normalize_target": false,
     "num_examples_per_domain_per_label_source": -1,
     "num_examples_per_domain_per_label_target": -1,
     "patience": 3,
     "pickle_name_source": "oracle.Run1_framed_2000Examples_stratified_ds.2022A.pkl",
     "pickle_name_target": "oracle.Run1_framed_2000Examples_stratified_ds.2022A.pkl",
     "seed": 420,
     "torch_default_dtype": "torch.float32",
     "x_net": [
      {
       "class": "nnReshape",
       "kargs": {
        "shape": [
         -1,
         1,
         2,
         256
        ]
       }
      },
      {
       "class": "Conv2d",
       "kargs": {
        "bias": false,
        "in_channels": 1,
        "kernel_size": [
         1,
         7
        ],
        "out_channels": 256,
        "padding": [
         0,
         3
        ]
       }
      },
      {
       "class": "ReLU",
       "kargs": {
        "inplace": true
       }
      },
      {
       "class": "BatchNorm2d",
       "kargs": {
        "num_features": 256
       }
      },
      {
       "class": "Conv2d",
       "kargs": {
        "bias": true,
        "in_channels": 256,
        "kernel_size": [
         2,
         7
        ],
        "out_channels": 80,
        "padding": [
         0,
         3
        ]
       }
      },
      {
       "class": "ReLU",
       "kargs": {
        "inplace": true
       }
      },
      {
       "class": "BatchNorm2d",
       "kargs": {
        "num_features": 80
       }
      },
      {
       "class": "Flatten",
       "kargs": {}
      },
      {
       "class": "Linear",
       "kargs": {
        "in_features": 20480,
        "out_features": 256
       }
      },
      {
       "class": "ReLU",
       "kargs": {
        "inplace": true
       }
      },
      {
       "class": "BatchNorm1d",
       "kargs": {
        "num_features": 256
       }
      },
      {
       "class": "Linear",
       "kargs": {
        "in_features": 256,
        "out_features": 16
       }
      }
     ]
    }
   },
   "start_time": "2022-03-25T21:28:19.673895",
   "version": "2.3.4"
  }
 },
 "nbformat": 4,
 "nbformat_minor": 5
}