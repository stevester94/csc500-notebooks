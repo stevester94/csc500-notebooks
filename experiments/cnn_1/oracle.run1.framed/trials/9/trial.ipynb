{
 "cells": [
  {
   "cell_type": "code",
   "execution_count": 1,
   "id": "2324682e",
   "metadata": {
    "execution": {
     "iopub.execute_input": "2022-03-25T21:24:20.678929Z",
     "iopub.status.busy": "2022-03-25T21:24:20.678029Z",
     "iopub.status.idle": "2022-03-25T21:24:22.046890Z",
     "shell.execute_reply": "2022-03-25T21:24:22.045996Z"
    },
    "papermill": {
     "duration": 1.403728,
     "end_time": "2022-03-25T21:24:22.047091",
     "exception": false,
     "start_time": "2022-03-25T21:24:20.643363",
     "status": "completed"
    },
    "tags": []
   },
   "outputs": [],
   "source": [
    "import os, json, sys, time, random\n",
    "import numpy as np\n",
    "import torch\n",
    "from  easydict import EasyDict\n",
    "from math import floor\n",
    "from easydict import EasyDict\n",
    "\n",
    "from steves_utils.vanilla_train_eval_test_jig import  Vanilla_Train_Eval_Test_Jig\n",
    "\n",
    "from steves_utils.torch_utils import get_dataset_metrics, independent_accuracy_assesment\n",
    "from steves_models.configurable_vanilla import Configurable_Vanilla\n",
    "from steves_utils.torch_sequential_builder import build_sequential\n",
    "from steves_utils.lazy_map import Lazy_Map\n",
    "from steves_utils.sequence_aggregator import Sequence_Aggregator\n",
    "\n",
    "from steves_utils.stratified_dataset.traditional_accessor import Traditional_Accessor_Factory\n",
    "\n",
    "from steves_utils.cnn_do_report import (\n",
    "    get_loss_curve,\n",
    "    get_results_table,\n",
    "    get_parameters_table,\n",
    "    get_domain_accuracies,\n",
    ")\n",
    "\n",
    "from steves_utils.torch_utils import (\n",
    "    confusion_by_domain_over_dataloader,\n",
    "    independent_accuracy_assesment\n",
    ")\n",
    "\n",
    "from steves_utils.utils_v2 import (\n",
    "    per_domain_accuracy_from_confusion,\n",
    "    get_datasets_base_path\n",
    ")\n",
    "\n",
    "# from steves_utils.ptn_do_report import TBD"
   ]
  },
  {
   "cell_type": "code",
   "execution_count": 2,
   "id": "1b29e3fe",
   "metadata": {
    "execution": {
     "iopub.execute_input": "2022-03-25T21:24:22.085529Z",
     "iopub.status.busy": "2022-03-25T21:24:22.085145Z",
     "iopub.status.idle": "2022-03-25T21:24:22.087376Z",
     "shell.execute_reply": "2022-03-25T21:24:22.087754Z"
    },
    "papermill": {
     "duration": 0.022278,
     "end_time": "2022-03-25T21:24:22.087842",
     "exception": false,
     "start_time": "2022-03-25T21:24:22.065564",
     "status": "completed"
    },
    "tags": []
   },
   "outputs": [],
   "source": [
    "required_parameters = {\n",
    "    \"experiment_name\",\n",
    "    \"lr\",\n",
    "    \"device\",\n",
    "    \"dataset_seed\",\n",
    "    \"seed\",\n",
    "    \"labels\",\n",
    "    \"domains_target\",\n",
    "    \"domains_source\",\n",
    "    \"num_examples_per_domain_per_label_source\",\n",
    "    \"num_examples_per_domain_per_label_target\",\n",
    "    \"batch_size\",\n",
    "    \"n_epoch\",\n",
    "    \"patience\",\n",
    "    \"criteria_for_best\",\n",
    "    \"normalize_source\",\n",
    "    \"normalize_target\",\n",
    "    \"x_net\",\n",
    "    \"NUM_LOGS_PER_EPOCH\",\n",
    "    \"BEST_MODEL_PATH\",\n",
    "    \"pickle_name_source\",\n",
    "    \"pickle_name_target\",\n",
    "    \"torch_default_dtype\",\n",
    "}"
   ]
  },
  {
   "cell_type": "code",
   "execution_count": 3,
   "id": "670b5fb8",
   "metadata": {
    "execution": {
     "iopub.execute_input": "2022-03-25T21:24:22.135922Z",
     "iopub.status.busy": "2022-03-25T21:24:22.134991Z",
     "iopub.status.idle": "2022-03-25T21:24:22.142932Z",
     "shell.execute_reply": "2022-03-25T21:24:22.142129Z"
    },
    "papermill": {
     "duration": 0.03602,
     "end_time": "2022-03-25T21:24:22.143086",
     "exception": false,
     "start_time": "2022-03-25T21:24:22.107066",
     "status": "completed"
    },
    "tags": [
     "parameters"
    ]
   },
   "outputs": [],
   "source": [
    "from steves_utils.ORACLE.utils_v2 import (\n",
    "    ALL_SERIAL_NUMBERS,\n",
    "    ALL_DISTANCES_FEET_NARROWED,\n",
    ")\n",
    "\n",
    "standalone_parameters = {}\n",
    "standalone_parameters[\"experiment_name\"] = \"MANUAL CORES CNN\"\n",
    "standalone_parameters[\"lr\"] = 0.0001\n",
    "standalone_parameters[\"device\"] = \"cuda\"\n",
    "\n",
    "standalone_parameters[\"dataset_seed\"] = 1337\n",
    "standalone_parameters[\"seed\"] = 1337\n",
    "standalone_parameters[\"labels\"] = ALL_SERIAL_NUMBERS\n",
    "\n",
    "standalone_parameters[\"domains_source\"] = [8,32,50]\n",
    "standalone_parameters[\"domains_target\"] = [14,20,26,38,44,]\n",
    "\n",
    "standalone_parameters[\"num_examples_per_domain_per_label_source\"]=-1\n",
    "standalone_parameters[\"num_examples_per_domain_per_label_target\"]=-1\n",
    "\n",
    "standalone_parameters[\"pickle_name_source\"] = \"oracle.Run1_framed_2000Examples_stratified_ds.2022A.pkl\"\n",
    "standalone_parameters[\"pickle_name_target\"] = \"oracle.Run2_framed_2000Examples_stratified_ds.2022A.pkl\"\n",
    "\n",
    "standalone_parameters[\"torch_default_dtype\"] = \"torch.float32\" \n",
    "\n",
    "standalone_parameters[\"batch_size\"]=128\n",
    "\n",
    "standalone_parameters[\"n_epoch\"] = 3\n",
    "\n",
    "standalone_parameters[\"patience\"] = 10\n",
    "\n",
    "standalone_parameters[\"criteria_for_best\"] = \"target_accuracy\"\n",
    "standalone_parameters[\"normalize_source\"] = False\n",
    "standalone_parameters[\"normalize_target\"] = False\n",
    "\n",
    "standalone_parameters[\"x_net\"] =     [\n",
    "    {\"class\": \"nnReshape\", \"kargs\": {\"shape\":[-1, 1, 2, 256]}},\n",
    "    {\"class\": \"Conv2d\", \"kargs\": { \"in_channels\":1, \"out_channels\":256, \"kernel_size\":(1,7), \"bias\":False, \"padding\":(0,3), },},\n",
    "    {\"class\": \"ReLU\", \"kargs\": {\"inplace\": True}},\n",
    "    {\"class\": \"BatchNorm2d\", \"kargs\": {\"num_features\":256}},\n",
    "\n",
    "    {\"class\": \"Conv2d\", \"kargs\": { \"in_channels\":256, \"out_channels\":80, \"kernel_size\":(2,7), \"bias\":True, \"padding\":(0,3), },},\n",
    "    {\"class\": \"ReLU\", \"kargs\": {\"inplace\": True}},\n",
    "    {\"class\": \"BatchNorm2d\", \"kargs\": {\"num_features\":80}},\n",
    "    {\"class\": \"Flatten\", \"kargs\": {}},\n",
    "\n",
    "    {\"class\": \"Linear\", \"kargs\": {\"in_features\": 80*256, \"out_features\": 256}}, # 80 units per IQ pair\n",
    "    {\"class\": \"ReLU\", \"kargs\": {\"inplace\": True}},\n",
    "    {\"class\": \"BatchNorm1d\", \"kargs\": {\"num_features\":256}},\n",
    "\n",
    "    {\"class\": \"Linear\", \"kargs\": {\"in_features\": 256, \"out_features\": len(standalone_parameters[\"labels\"])}},\n",
    "]\n",
    "\n",
    "standalone_parameters[\"NUM_LOGS_PER_EPOCH\"] = 10\n",
    "standalone_parameters[\"BEST_MODEL_PATH\"] = \"./best_model.pth\""
   ]
  },
  {
   "cell_type": "code",
   "execution_count": 4,
   "id": "2e0489b4",
   "metadata": {
    "execution": {
     "iopub.execute_input": "2022-03-25T21:24:22.189956Z",
     "iopub.status.busy": "2022-03-25T21:24:22.189063Z",
     "iopub.status.idle": "2022-03-25T21:24:22.192509Z",
     "shell.execute_reply": "2022-03-25T21:24:22.191704Z"
    },
    "papermill": {
     "duration": 0.029979,
     "end_time": "2022-03-25T21:24:22.192660",
     "exception": false,
     "start_time": "2022-03-25T21:24:22.162681",
     "status": "completed"
    },
    "tags": [
     "injected-parameters"
    ]
   },
   "outputs": [],
   "source": [
    "# Parameters\n",
    "parameters = {\n",
    "    \"experiment_name\": \"cnn_1:oracle.run1.framed\",\n",
    "    \"labels\": [\n",
    "        \"3123D52\",\n",
    "        \"3123D65\",\n",
    "        \"3123D79\",\n",
    "        \"3123D80\",\n",
    "        \"3123D54\",\n",
    "        \"3123D70\",\n",
    "        \"3123D7B\",\n",
    "        \"3123D89\",\n",
    "        \"3123D58\",\n",
    "        \"3123D76\",\n",
    "        \"3123D7D\",\n",
    "        \"3123EFE\",\n",
    "        \"3123D64\",\n",
    "        \"3123D78\",\n",
    "        \"3123D7E\",\n",
    "        \"3124E4A\",\n",
    "    ],\n",
    "    \"domains_source\": [8, 32, 50],\n",
    "    \"domains_target\": [14, 20, 26, 38, 44],\n",
    "    \"pickle_name_source\": \"oracle.Run1_framed_2000Examples_stratified_ds.2022A.pkl\",\n",
    "    \"pickle_name_target\": \"oracle.Run1_framed_2000Examples_stratified_ds.2022A.pkl\",\n",
    "    \"device\": \"cuda\",\n",
    "    \"lr\": 0.0001,\n",
    "    \"batch_size\": 128,\n",
    "    \"normalize_source\": False,\n",
    "    \"normalize_target\": False,\n",
    "    \"num_examples_per_domain_per_label_source\": -1,\n",
    "    \"num_examples_per_domain_per_label_target\": -1,\n",
    "    \"torch_default_dtype\": \"torch.float32\",\n",
    "    \"n_epoch\": 50,\n",
    "    \"patience\": 3,\n",
    "    \"criteria_for_best\": \"target_accuracy\",\n",
    "    \"x_net\": [\n",
    "        {\"class\": \"nnReshape\", \"kargs\": {\"shape\": [-1, 1, 2, 256]}},\n",
    "        {\n",
    "            \"class\": \"Conv2d\",\n",
    "            \"kargs\": {\n",
    "                \"in_channels\": 1,\n",
    "                \"out_channels\": 256,\n",
    "                \"kernel_size\": [1, 7],\n",
    "                \"bias\": False,\n",
    "                \"padding\": [0, 3],\n",
    "            },\n",
    "        },\n",
    "        {\"class\": \"ReLU\", \"kargs\": {\"inplace\": True}},\n",
    "        {\"class\": \"BatchNorm2d\", \"kargs\": {\"num_features\": 256}},\n",
    "        {\n",
    "            \"class\": \"Conv2d\",\n",
    "            \"kargs\": {\n",
    "                \"in_channels\": 256,\n",
    "                \"out_channels\": 80,\n",
    "                \"kernel_size\": [2, 7],\n",
    "                \"bias\": True,\n",
    "                \"padding\": [0, 3],\n",
    "            },\n",
    "        },\n",
    "        {\"class\": \"ReLU\", \"kargs\": {\"inplace\": True}},\n",
    "        {\"class\": \"BatchNorm2d\", \"kargs\": {\"num_features\": 80}},\n",
    "        {\"class\": \"Flatten\", \"kargs\": {}},\n",
    "        {\"class\": \"Linear\", \"kargs\": {\"in_features\": 20480, \"out_features\": 256}},\n",
    "        {\"class\": \"ReLU\", \"kargs\": {\"inplace\": True}},\n",
    "        {\"class\": \"BatchNorm1d\", \"kargs\": {\"num_features\": 256}},\n",
    "        {\"class\": \"Linear\", \"kargs\": {\"in_features\": 256, \"out_features\": 16}},\n",
    "    ],\n",
    "    \"NUM_LOGS_PER_EPOCH\": 10,\n",
    "    \"BEST_MODEL_PATH\": \"./best_model.pth\",\n",
    "    \"dataset_seed\": 7,\n",
    "    \"seed\": 7,\n",
    "}\n"
   ]
  },
  {
   "cell_type": "code",
   "execution_count": 5,
   "id": "759b56ec",
   "metadata": {
    "execution": {
     "iopub.execute_input": "2022-03-25T21:24:22.228024Z",
     "iopub.status.busy": "2022-03-25T21:24:22.227651Z",
     "iopub.status.idle": "2022-03-25T21:24:22.230292Z",
     "shell.execute_reply": "2022-03-25T21:24:22.229932Z"
    },
    "papermill": {
     "duration": 0.020856,
     "end_time": "2022-03-25T21:24:22.230359",
     "exception": false,
     "start_time": "2022-03-25T21:24:22.209503",
     "status": "completed"
    },
    "tags": []
   },
   "outputs": [],
   "source": [
    "# Set this to True if you want to run this template directly\n",
    "STANDALONE = False\n",
    "if STANDALONE:\n",
    "    print(\"parameters not injected, running with standalone_parameters\")\n",
    "    parameters = standalone_parameters\n",
    "\n",
    "if not 'parameters' in locals() and not 'parameters' in globals():\n",
    "    raise Exception(\"Parameter injection failed\")\n",
    "\n",
    "#Use an easy dict for all the parameters\n",
    "p = EasyDict(parameters)\n",
    "\n",
    "supplied_keys = set(p.keys())\n",
    "\n",
    "if  supplied_keys != required_parameters:\n",
    "    print(\"Parameters are incorrect\")\n",
    "    if len(supplied_keys - required_parameters)>0: print(\"Shouldn't have:\", str(supplied_keys - required_parameters))\n",
    "    if len(required_parameters - supplied_keys)>0: print(\"Need to have:\", str(required_parameters - supplied_keys))\n",
    "    raise RuntimeError(\"Parameters are incorrect\")\n",
    "\n"
   ]
  },
  {
   "cell_type": "code",
   "execution_count": 6,
   "id": "d5c66a71",
   "metadata": {
    "execution": {
     "iopub.execute_input": "2022-03-25T21:24:22.264481Z",
     "iopub.status.busy": "2022-03-25T21:24:22.264120Z",
     "iopub.status.idle": "2022-03-25T21:24:22.268221Z",
     "shell.execute_reply": "2022-03-25T21:24:22.268515Z"
    },
    "papermill": {
     "duration": 0.021041,
     "end_time": "2022-03-25T21:24:22.268594",
     "exception": false,
     "start_time": "2022-03-25T21:24:22.247553",
     "status": "completed"
    },
    "tags": []
   },
   "outputs": [],
   "source": [
    "###################################\n",
    "# Set the RNGs and make it all deterministic\n",
    "###################################\n",
    "np.random.seed(p.seed)\n",
    "random.seed(p.seed)\n",
    "torch.manual_seed(p.seed)\n",
    "\n",
    "torch.use_deterministic_algorithms(True) "
   ]
  },
  {
   "cell_type": "code",
   "execution_count": 7,
   "id": "92a65876",
   "metadata": {
    "execution": {
     "iopub.execute_input": "2022-03-25T21:24:22.302763Z",
     "iopub.status.busy": "2022-03-25T21:24:22.302401Z",
     "iopub.status.idle": "2022-03-25T21:24:22.305427Z",
     "shell.execute_reply": "2022-03-25T21:24:22.305871Z"
    },
    "papermill": {
     "duration": 0.02044,
     "end_time": "2022-03-25T21:24:22.305991",
     "exception": false,
     "start_time": "2022-03-25T21:24:22.285551",
     "status": "completed"
    },
    "tags": []
   },
   "outputs": [],
   "source": [
    "torch.set_default_dtype(eval(p.torch_default_dtype))"
   ]
  },
  {
   "cell_type": "code",
   "execution_count": 8,
   "id": "f1a32f01",
   "metadata": {
    "execution": {
     "iopub.execute_input": "2022-03-25T21:24:22.339764Z",
     "iopub.status.busy": "2022-03-25T21:24:22.339357Z",
     "iopub.status.idle": "2022-03-25T21:24:22.382456Z",
     "shell.execute_reply": "2022-03-25T21:24:22.383121Z"
    },
    "papermill": {
     "duration": 0.06083,
     "end_time": "2022-03-25T21:24:22.383300",
     "exception": false,
     "start_time": "2022-03-25T21:24:22.322470",
     "status": "completed"
    },
    "tags": []
   },
   "outputs": [],
   "source": [
    "###################################\n",
    "# Build the network(s)\n",
    "# Note: It's critical to do this AFTER setting the RNG\n",
    "###################################\n",
    "x_net = build_sequential(p.x_net)"
   ]
  },
  {
   "cell_type": "code",
   "execution_count": 9,
   "id": "a276cd83",
   "metadata": {
    "execution": {
     "iopub.execute_input": "2022-03-25T21:24:22.423075Z",
     "iopub.status.busy": "2022-03-25T21:24:22.422720Z",
     "iopub.status.idle": "2022-03-25T21:24:22.425590Z",
     "shell.execute_reply": "2022-03-25T21:24:22.426043Z"
    },
    "papermill": {
     "duration": 0.020772,
     "end_time": "2022-03-25T21:24:22.426163",
     "exception": false,
     "start_time": "2022-03-25T21:24:22.405391",
     "status": "completed"
    },
    "tags": []
   },
   "outputs": [],
   "source": [
    "start_time_secs = time.time()"
   ]
  },
  {
   "cell_type": "code",
   "execution_count": 10,
   "id": "de702e48",
   "metadata": {
    "execution": {
     "iopub.execute_input": "2022-03-25T21:24:22.471915Z",
     "iopub.status.busy": "2022-03-25T21:24:22.471040Z",
     "iopub.status.idle": "2022-03-25T21:24:26.394767Z",
     "shell.execute_reply": "2022-03-25T21:24:26.393972Z"
    },
    "papermill": {
     "duration": 3.952007,
     "end_time": "2022-03-25T21:24:26.394954",
     "exception": false,
     "start_time": "2022-03-25T21:24:22.442947",
     "status": "completed"
    },
    "tags": []
   },
   "outputs": [],
   "source": [
    "def wrap_in_dataloader(p, ds):\n",
    "    return torch.utils.data.DataLoader(\n",
    "        ds,\n",
    "        batch_size=p.batch_size,\n",
    "        shuffle=True,\n",
    "        num_workers=1,\n",
    "        persistent_workers=True,\n",
    "        prefetch_factor=50,\n",
    "        pin_memory=True\n",
    "    )\n",
    "\n",
    "taf_source = Traditional_Accessor_Factory(\n",
    "    labels=p.labels,\n",
    "    domains=p.domains_source,\n",
    "    num_examples_per_domain_per_label=p.num_examples_per_domain_per_label_source,\n",
    "    pickle_path=os.path.join(get_datasets_base_path(), p.pickle_name_source),\n",
    "    seed=p.dataset_seed\n",
    ")\n",
    "train_original_source, val_original_source, test_original_source = \\\n",
    "    taf_source.get_train(), taf_source.get_val(), taf_source.get_test()\n",
    "\n",
    "\n",
    "taf_target = Traditional_Accessor_Factory(\n",
    "    labels=p.labels,\n",
    "    domains=p.domains_target,\n",
    "    num_examples_per_domain_per_label=p.num_examples_per_domain_per_label_source,\n",
    "    pickle_path=os.path.join(get_datasets_base_path(), p.pickle_name_target),\n",
    "    seed=p.dataset_seed\n",
    ")\n",
    "train_original_target, val_original_target, test_original_target = \\\n",
    "    taf_target.get_train(), taf_target.get_val(), taf_target.get_test()\n",
    "\n",
    "\n",
    "# For CNN We only use X and Y. And we only train on the source.\n",
    "# Properly form the data using a transform lambda and Lazy_Map. Finally wrap them in a dataloader\n",
    "\n",
    "transform_lambda = lambda ex: ex[:2] # Strip the tuple to just (x,y)\n",
    "\n",
    "\n",
    "train_processed_source = wrap_in_dataloader(\n",
    "    p,\n",
    "    Lazy_Map(train_original_source, transform_lambda)\n",
    ")\n",
    "val_processed_source = wrap_in_dataloader(\n",
    "    p,\n",
    "    Lazy_Map(val_original_source, transform_lambda)\n",
    ")\n",
    "test_processed_source = wrap_in_dataloader(\n",
    "    p,\n",
    "    Lazy_Map(test_original_source, transform_lambda)\n",
    ")\n",
    "\n",
    "train_processed_target = wrap_in_dataloader(\n",
    "    p,\n",
    "    Lazy_Map(train_original_target, transform_lambda)\n",
    ")\n",
    "val_processed_target = wrap_in_dataloader(\n",
    "    p,\n",
    "    Lazy_Map(val_original_target, transform_lambda)\n",
    ")\n",
    "test_processed_target  = wrap_in_dataloader(\n",
    "    p,\n",
    "    Lazy_Map(test_original_target, transform_lambda)\n",
    ")\n",
    "\n",
    "\n",
    "\n",
    "datasets = EasyDict({\n",
    "    \"source\": {\n",
    "        \"original\": {\"train\":train_original_source, \"val\":val_original_source, \"test\":test_original_source},\n",
    "        \"processed\": {\"train\":train_processed_source, \"val\":val_processed_source, \"test\":test_processed_source}\n",
    "    },\n",
    "    \"target\": {\n",
    "        \"original\": {\"train\":train_original_target, \"val\":val_original_target, \"test\":test_original_target},\n",
    "        \"processed\": {\"train\":train_processed_target, \"val\":val_processed_target, \"test\":test_processed_target}\n",
    "    },\n",
    "})"
   ]
  },
  {
   "cell_type": "code",
   "execution_count": 11,
   "id": "a11b26bd",
   "metadata": {
    "execution": {
     "iopub.execute_input": "2022-03-25T21:24:26.480565Z",
     "iopub.status.busy": "2022-03-25T21:24:26.479720Z",
     "iopub.status.idle": "2022-03-25T21:24:31.765981Z",
     "shell.execute_reply": "2022-03-25T21:24:31.766681Z"
    },
    "papermill": {
     "duration": 5.348857,
     "end_time": "2022-03-25T21:24:31.766901",
     "exception": false,
     "start_time": "2022-03-25T21:24:26.418044",
     "status": "completed"
    },
    "tags": []
   },
   "outputs": [
    {
     "data": {
      "text/plain": [
       "torch.float32"
      ]
     },
     "execution_count": 11,
     "metadata": {},
     "output_type": "execute_result"
    }
   ],
   "source": [
    "ep = next(iter(test_processed_target))\n",
    "ep[0].dtype"
   ]
  },
  {
   "cell_type": "code",
   "execution_count": 12,
   "id": "19425fad",
   "metadata": {
    "execution": {
     "iopub.execute_input": "2022-03-25T21:24:31.808340Z",
     "iopub.status.busy": "2022-03-25T21:24:31.807779Z",
     "iopub.status.idle": "2022-03-25T21:24:31.864652Z",
     "shell.execute_reply": "2022-03-25T21:24:31.863891Z"
    },
    "papermill": {
     "duration": 0.07797,
     "end_time": "2022-03-25T21:24:31.864839",
     "exception": false,
     "start_time": "2022-03-25T21:24:31.786869",
     "status": "completed"
    },
    "tags": []
   },
   "outputs": [],
   "source": [
    "model = Configurable_Vanilla(\n",
    "    x_net=x_net,\n",
    "    label_loss_object=torch.nn.NLLLoss(),\n",
    "    learning_rate=p.lr\n",
    ")"
   ]
  },
  {
   "cell_type": "code",
   "execution_count": 13,
   "id": "7f6d4f2c",
   "metadata": {
    "execution": {
     "iopub.execute_input": "2022-03-25T21:24:31.905639Z",
     "iopub.status.busy": "2022-03-25T21:24:31.905273Z",
     "iopub.status.idle": "2022-03-25T21:25:55.839427Z",
     "shell.execute_reply": "2022-03-25T21:25:55.838564Z"
    },
    "papermill": {
     "duration": 83.953865,
     "end_time": "2022-03-25T21:25:55.839635",
     "exception": false,
     "start_time": "2022-03-25T21:24:31.885770",
     "status": "completed"
    },
    "tags": []
   },
   "outputs": [
    {
     "name": "stdout",
     "output_type": "stream",
     "text": [
      "epoch: 1, [batch: 1 / 525], examples_per_second: 866.9696, train_label_loss: 2.8071, \n"
     ]
    },
    {
     "name": "stdout",
     "output_type": "stream",
     "text": [
      "epoch: 1, [batch: 53 / 525], examples_per_second: 11579.5691, train_label_loss: 2.6309, \n"
     ]
    },
    {
     "name": "stdout",
     "output_type": "stream",
     "text": [
      "epoch: 1, [batch: 105 / 525], examples_per_second: 11762.4180, train_label_loss: 2.3224, \n"
     ]
    },
    {
     "name": "stdout",
     "output_type": "stream",
     "text": [
      "epoch: 1, [batch: 158 / 525], examples_per_second: 11755.6870, train_label_loss: 2.2260, \n"
     ]
    },
    {
     "name": "stdout",
     "output_type": "stream",
     "text": [
      "epoch: 1, [batch: 210 / 525], examples_per_second: 11695.5883, train_label_loss: 2.0465, \n"
     ]
    },
    {
     "name": "stdout",
     "output_type": "stream",
     "text": [
      "epoch: 1, [batch: 263 / 525], examples_per_second: 11777.7880, train_label_loss: 1.9101, \n"
     ]
    },
    {
     "name": "stdout",
     "output_type": "stream",
     "text": [
      "epoch: 1, [batch: 315 / 525], examples_per_second: 11632.8574, train_label_loss: 1.8400, \n"
     ]
    },
    {
     "name": "stdout",
     "output_type": "stream",
     "text": [
      "epoch: 1, [batch: 367 / 525], examples_per_second: 11716.5476, train_label_loss: 1.7513, \n"
     ]
    },
    {
     "name": "stdout",
     "output_type": "stream",
     "text": [
      "epoch: 1, [batch: 420 / 525], examples_per_second: 11776.9057, train_label_loss: 1.6173, \n"
     ]
    },
    {
     "name": "stdout",
     "output_type": "stream",
     "text": [
      "epoch: 1, [batch: 472 / 525], examples_per_second: 12760.8410, train_label_loss: 1.6707, \n"
     ]
    },
    {
     "name": "stdout",
     "output_type": "stream",
     "text": [
      "=============================================================\n",
      "epoch: 1, source_val_acc_label: 0.5722, source_val_label_loss: 1.4450, target_val_acc_label: 0.0596, target_val_label_loss: 5.3630, \n",
      "=============================================================\n"
     ]
    },
    {
     "name": "stdout",
     "output_type": "stream",
     "text": [
      "New best\n",
      "epoch: 2, [batch: 1 / 525], examples_per_second: 111.1980, train_label_loss: 1.4351, \n"
     ]
    },
    {
     "name": "stdout",
     "output_type": "stream",
     "text": [
      "epoch: 2, [batch: 53 / 525], examples_per_second: 11799.4754, train_label_loss: 1.2783, \n"
     ]
    },
    {
     "name": "stdout",
     "output_type": "stream",
     "text": [
      "epoch: 2, [batch: 105 / 525], examples_per_second: 11747.6976, train_label_loss: 1.1978, \n"
     ]
    },
    {
     "name": "stdout",
     "output_type": "stream",
     "text": [
      "epoch: 2, [batch: 158 / 525], examples_per_second: 11600.2823, train_label_loss: 1.0754, \n"
     ]
    },
    {
     "name": "stdout",
     "output_type": "stream",
     "text": [
      "epoch: 2, [batch: 210 / 525], examples_per_second: 11728.2575, train_label_loss: 1.0036, \n"
     ]
    },
    {
     "name": "stdout",
     "output_type": "stream",
     "text": [
      "epoch: 2, [batch: 263 / 525], examples_per_second: 11751.0651, train_label_loss: 0.9967, \n"
     ]
    },
    {
     "name": "stdout",
     "output_type": "stream",
     "text": [
      "epoch: 2, [batch: 315 / 525], examples_per_second: 11711.5144, train_label_loss: 0.8885, \n"
     ]
    },
    {
     "name": "stdout",
     "output_type": "stream",
     "text": [
      "epoch: 2, [batch: 367 / 525], examples_per_second: 11743.9270, train_label_loss: 0.7749, \n"
     ]
    },
    {
     "name": "stdout",
     "output_type": "stream",
     "text": [
      "epoch: 2, [batch: 420 / 525], examples_per_second: 11695.6879, train_label_loss: 0.7322, \n"
     ]
    },
    {
     "name": "stdout",
     "output_type": "stream",
     "text": [
      "epoch: 2, [batch: 472 / 525], examples_per_second: 11702.5991, train_label_loss: 0.7171, \n"
     ]
    },
    {
     "name": "stdout",
     "output_type": "stream",
     "text": [
      "=============================================================\n",
      "epoch: 2, source_val_acc_label: 0.8443, source_val_label_loss: 0.6665, target_val_acc_label: 0.0650, target_val_label_loss: 7.3744, \n",
      "=============================================================\n"
     ]
    },
    {
     "name": "stdout",
     "output_type": "stream",
     "text": [
      "New best\n",
      "epoch: 3, [batch: 1 / 525], examples_per_second: 136.3472, train_label_loss: 0.8409, \n"
     ]
    },
    {
     "name": "stdout",
     "output_type": "stream",
     "text": [
      "epoch: 3, [batch: 53 / 525], examples_per_second: 11622.2564, train_label_loss: 0.6784, \n"
     ]
    },
    {
     "name": "stdout",
     "output_type": "stream",
     "text": [
      "epoch: 3, [batch: 105 / 525], examples_per_second: 11723.5245, train_label_loss: 0.7512, \n"
     ]
    },
    {
     "name": "stdout",
     "output_type": "stream",
     "text": [
      "epoch: 3, [batch: 158 / 525], examples_per_second: 11654.4569, train_label_loss: 0.5367, \n"
     ]
    },
    {
     "name": "stdout",
     "output_type": "stream",
     "text": [
      "epoch: 3, [batch: 210 / 525], examples_per_second: 11704.5469, train_label_loss: 0.5856, \n"
     ]
    },
    {
     "name": "stdout",
     "output_type": "stream",
     "text": [
      "epoch: 3, [batch: 263 / 525], examples_per_second: 12582.7692, train_label_loss: 0.5373, \n"
     ]
    },
    {
     "name": "stdout",
     "output_type": "stream",
     "text": [
      "epoch: 3, [batch: 315 / 525], examples_per_second: 12193.2714, train_label_loss: 0.4891, \n"
     ]
    },
    {
     "name": "stdout",
     "output_type": "stream",
     "text": [
      "epoch: 3, [batch: 367 / 525], examples_per_second: 11754.5780, train_label_loss: 0.5463, \n"
     ]
    },
    {
     "name": "stdout",
     "output_type": "stream",
     "text": [
      "epoch: 3, [batch: 420 / 525], examples_per_second: 11597.4927, train_label_loss: 0.6274, \n"
     ]
    },
    {
     "name": "stdout",
     "output_type": "stream",
     "text": [
      "epoch: 3, [batch: 472 / 525], examples_per_second: 11560.8390, train_label_loss: 0.4308, \n"
     ]
    },
    {
     "name": "stdout",
     "output_type": "stream",
     "text": [
      "=============================================================\n",
      "epoch: 3, source_val_acc_label: 0.9167, source_val_label_loss: 0.4473, target_val_acc_label: 0.0792, target_val_label_loss: 8.5360, \n",
      "=============================================================\n"
     ]
    },
    {
     "name": "stdout",
     "output_type": "stream",
     "text": [
      "New best\n",
      "epoch: 4, [batch: 1 / 525], examples_per_second: 134.2054, train_label_loss: 0.4233, \n"
     ]
    },
    {
     "name": "stdout",
     "output_type": "stream",
     "text": [
      "epoch: 4, [batch: 53 / 525], examples_per_second: 11576.5152, train_label_loss: 0.3409, \n"
     ]
    },
    {
     "name": "stdout",
     "output_type": "stream",
     "text": [
      "epoch: 4, [batch: 105 / 525], examples_per_second: 11622.6386, train_label_loss: 0.4620, \n"
     ]
    },
    {
     "name": "stdout",
     "output_type": "stream",
     "text": [
      "epoch: 4, [batch: 158 / 525], examples_per_second: 11563.5111, train_label_loss: 0.3927, \n"
     ]
    },
    {
     "name": "stdout",
     "output_type": "stream",
     "text": [
      "epoch: 4, [batch: 210 / 525], examples_per_second: 11654.8572, train_label_loss: 0.4266, \n"
     ]
    },
    {
     "name": "stdout",
     "output_type": "stream",
     "text": [
      "epoch: 4, [batch: 263 / 525], examples_per_second: 11736.1321, train_label_loss: 0.3589, \n"
     ]
    },
    {
     "name": "stdout",
     "output_type": "stream",
     "text": [
      "epoch: 4, [batch: 315 / 525], examples_per_second: 11791.6159, train_label_loss: 0.2832, \n"
     ]
    },
    {
     "name": "stdout",
     "output_type": "stream",
     "text": [
      "epoch: 4, [batch: 367 / 525], examples_per_second: 11673.3419, train_label_loss: 0.2990, \n"
     ]
    },
    {
     "name": "stdout",
     "output_type": "stream",
     "text": [
      "epoch: 4, [batch: 420 / 525], examples_per_second: 11630.4669, train_label_loss: 0.3539, \n"
     ]
    },
    {
     "name": "stdout",
     "output_type": "stream",
     "text": [
      "epoch: 4, [batch: 472 / 525], examples_per_second: 11776.0624, train_label_loss: 0.3327, \n"
     ]
    },
    {
     "name": "stdout",
     "output_type": "stream",
     "text": [
      "=============================================================\n",
      "epoch: 4, source_val_acc_label: 0.8637, source_val_label_loss: 0.4285, target_val_acc_label: 0.0767, target_val_label_loss: 10.0507, \n",
      "=============================================================\n"
     ]
    },
    {
     "name": "stdout",
     "output_type": "stream",
     "text": [
      "epoch: 5, [batch: 1 / 525], examples_per_second: 132.1481, train_label_loss: 0.5312, \n"
     ]
    },
    {
     "name": "stdout",
     "output_type": "stream",
     "text": [
      "epoch: 5, [batch: 53 / 525], examples_per_second: 11599.5745, train_label_loss: 0.2527, \n"
     ]
    },
    {
     "name": "stdout",
     "output_type": "stream",
     "text": [
      "epoch: 5, [batch: 105 / 525], examples_per_second: 11715.4069, train_label_loss: 0.3751, \n"
     ]
    },
    {
     "name": "stdout",
     "output_type": "stream",
     "text": [
      "epoch: 5, [batch: 158 / 525], examples_per_second: 11497.7399, train_label_loss: 0.3465, \n"
     ]
    },
    {
     "name": "stdout",
     "output_type": "stream",
     "text": [
      "epoch: 5, [batch: 210 / 525], examples_per_second: 11670.5408, train_label_loss: 0.2553, \n"
     ]
    },
    {
     "name": "stdout",
     "output_type": "stream",
     "text": [
      "epoch: 5, [batch: 263 / 525], examples_per_second: 11664.0213, train_label_loss: 0.2666, \n"
     ]
    },
    {
     "name": "stdout",
     "output_type": "stream",
     "text": [
      "epoch: 5, [batch: 315 / 525], examples_per_second: 11589.4573, train_label_loss: 0.2975, \n"
     ]
    },
    {
     "name": "stdout",
     "output_type": "stream",
     "text": [
      "epoch: 5, [batch: 367 / 525], examples_per_second: 11712.6446, train_label_loss: 0.3553, \n"
     ]
    },
    {
     "name": "stdout",
     "output_type": "stream",
     "text": [
      "epoch: 5, [batch: 420 / 525], examples_per_second: 11625.0405, train_label_loss: 0.2834, \n"
     ]
    },
    {
     "name": "stdout",
     "output_type": "stream",
     "text": [
      "epoch: 5, [batch: 472 / 525], examples_per_second: 11736.2153, train_label_loss: 0.2979, \n"
     ]
    },
    {
     "name": "stdout",
     "output_type": "stream",
     "text": [
      "=============================================================\n",
      "epoch: 5, source_val_acc_label: 0.9235, source_val_label_loss: 0.3168, target_val_acc_label: 0.0771, target_val_label_loss: 10.1441, \n",
      "=============================================================\n"
     ]
    },
    {
     "name": "stdout",
     "output_type": "stream",
     "text": [
      "epoch: 6, [batch: 1 / 525], examples_per_second: 139.0989, train_label_loss: 0.2079, \n"
     ]
    },
    {
     "name": "stdout",
     "output_type": "stream",
     "text": [
      "epoch: 6, [batch: 53 / 525], examples_per_second: 11519.1760, train_label_loss: 0.1754, \n"
     ]
    },
    {
     "name": "stdout",
     "output_type": "stream",
     "text": [
      "epoch: 6, [batch: 105 / 525], examples_per_second: 11528.1329, train_label_loss: 0.3166, \n"
     ]
    },
    {
     "name": "stdout",
     "output_type": "stream",
     "text": [
      "epoch: 6, [batch: 158 / 525], examples_per_second: 11579.9208, train_label_loss: 0.2464, \n"
     ]
    },
    {
     "name": "stdout",
     "output_type": "stream",
     "text": [
      "epoch: 6, [batch: 210 / 525], examples_per_second: 11810.8071, train_label_loss: 0.1789, \n"
     ]
    },
    {
     "name": "stdout",
     "output_type": "stream",
     "text": [
      "epoch: 6, [batch: 263 / 525], examples_per_second: 11793.0668, train_label_loss: 0.2588, \n"
     ]
    },
    {
     "name": "stdout",
     "output_type": "stream",
     "text": [
      "epoch: 6, [batch: 315 / 525], examples_per_second: 11852.3104, train_label_loss: 0.2124, \n"
     ]
    },
    {
     "name": "stdout",
     "output_type": "stream",
     "text": [
      "epoch: 6, [batch: 367 / 525], examples_per_second: 11968.1542, train_label_loss: 0.2185, \n"
     ]
    },
    {
     "name": "stdout",
     "output_type": "stream",
     "text": [
      "epoch: 6, [batch: 420 / 525], examples_per_second: 11834.8382, train_label_loss: 0.1703, \n"
     ]
    },
    {
     "name": "stdout",
     "output_type": "stream",
     "text": [
      "epoch: 6, [batch: 472 / 525], examples_per_second: 11853.0501, train_label_loss: 0.2785, \n"
     ]
    },
    {
     "name": "stdout",
     "output_type": "stream",
     "text": [
      "=============================================================\n",
      "epoch: 6, source_val_acc_label: 0.9392, source_val_label_loss: 0.2560, target_val_acc_label: 0.0832, target_val_label_loss: 12.5917, \n",
      "=============================================================\n"
     ]
    },
    {
     "name": "stdout",
     "output_type": "stream",
     "text": [
      "New best\n",
      "epoch: 7, [batch: 1 / 525], examples_per_second: 137.8819, train_label_loss: 0.2417, \n"
     ]
    },
    {
     "name": "stdout",
     "output_type": "stream",
     "text": [
      "epoch: 7, [batch: 53 / 525], examples_per_second: 11552.4335, train_label_loss: 0.2510, \n"
     ]
    },
    {
     "name": "stdout",
     "output_type": "stream",
     "text": [
      "epoch: 7, [batch: 105 / 525], examples_per_second: 11659.0140, train_label_loss: 0.2363, \n"
     ]
    },
    {
     "name": "stdout",
     "output_type": "stream",
     "text": [
      "epoch: 7, [batch: 158 / 525], examples_per_second: 11743.3346, train_label_loss: 0.2182, \n"
     ]
    },
    {
     "name": "stdout",
     "output_type": "stream",
     "text": [
      "epoch: 7, [batch: 210 / 525], examples_per_second: 11725.7206, train_label_loss: 0.2004, \n"
     ]
    },
    {
     "name": "stdout",
     "output_type": "stream",
     "text": [
      "epoch: 7, [batch: 263 / 525], examples_per_second: 11638.1543, train_label_loss: 0.1998, \n"
     ]
    },
    {
     "name": "stdout",
     "output_type": "stream",
     "text": [
      "epoch: 7, [batch: 315 / 525], examples_per_second: 11693.5259, train_label_loss: 0.2123, \n"
     ]
    },
    {
     "name": "stdout",
     "output_type": "stream",
     "text": [
      "epoch: 7, [batch: 367 / 525], examples_per_second: 11761.5260, train_label_loss: 0.1495, \n"
     ]
    },
    {
     "name": "stdout",
     "output_type": "stream",
     "text": [
      "epoch: 7, [batch: 420 / 525], examples_per_second: 11735.1785, train_label_loss: 0.2208, \n"
     ]
    },
    {
     "name": "stdout",
     "output_type": "stream",
     "text": [
      "epoch: 7, [batch: 472 / 525], examples_per_second: 11691.1900, train_label_loss: 0.1032, \n"
     ]
    },
    {
     "name": "stdout",
     "output_type": "stream",
     "text": [
      "=============================================================\n",
      "epoch: 7, source_val_acc_label: 0.9158, source_val_label_loss: 0.2670, target_val_acc_label: 0.0827, target_val_label_loss: 13.7134, \n",
      "=============================================================\n"
     ]
    },
    {
     "name": "stdout",
     "output_type": "stream",
     "text": [
      "epoch: 8, [batch: 1 / 525], examples_per_second: 141.0397, train_label_loss: 0.2534, \n"
     ]
    },
    {
     "name": "stdout",
     "output_type": "stream",
     "text": [
      "epoch: 8, [batch: 53 / 525], examples_per_second: 11594.1453, train_label_loss: 0.2028, \n"
     ]
    },
    {
     "name": "stdout",
     "output_type": "stream",
     "text": [
      "epoch: 8, [batch: 105 / 525], examples_per_second: 11707.1631, train_label_loss: 0.2423, \n"
     ]
    },
    {
     "name": "stdout",
     "output_type": "stream",
     "text": [
      "epoch: 8, [batch: 158 / 525], examples_per_second: 11747.1258, train_label_loss: 0.2071, \n"
     ]
    },
    {
     "name": "stdout",
     "output_type": "stream",
     "text": [
      "epoch: 8, [batch: 210 / 525], examples_per_second: 11642.4921, train_label_loss: 0.1611, \n"
     ]
    },
    {
     "name": "stdout",
     "output_type": "stream",
     "text": [
      "epoch: 8, [batch: 263 / 525], examples_per_second: 11703.5050, train_label_loss: 0.1326, \n"
     ]
    },
    {
     "name": "stdout",
     "output_type": "stream",
     "text": [
      "epoch: 8, [batch: 315 / 525], examples_per_second: 11698.6073, train_label_loss: 0.2336, \n"
     ]
    },
    {
     "name": "stdout",
     "output_type": "stream",
     "text": [
      "epoch: 8, [batch: 367 / 525], examples_per_second: 11585.0664, train_label_loss: 0.1973, \n"
     ]
    },
    {
     "name": "stdout",
     "output_type": "stream",
     "text": [
      "epoch: 8, [batch: 420 / 525], examples_per_second: 11760.9298, train_label_loss: 0.2041, \n"
     ]
    },
    {
     "name": "stdout",
     "output_type": "stream",
     "text": [
      "epoch: 8, [batch: 472 / 525], examples_per_second: 11657.0228, train_label_loss: 0.1642, \n"
     ]
    },
    {
     "name": "stdout",
     "output_type": "stream",
     "text": [
      "=============================================================\n",
      "epoch: 8, source_val_acc_label: 0.9452, source_val_label_loss: 0.1791, target_val_acc_label: 0.0922, target_val_label_loss: 17.3420, \n",
      "=============================================================\n"
     ]
    },
    {
     "name": "stdout",
     "output_type": "stream",
     "text": [
      "New best\n",
      "epoch: 9, [batch: 1 / 525], examples_per_second: 135.6752, train_label_loss: 0.1639, \n"
     ]
    },
    {
     "name": "stdout",
     "output_type": "stream",
     "text": [
      "epoch: 9, [batch: 53 / 525], examples_per_second: 11468.0052, train_label_loss: 0.1379, \n"
     ]
    },
    {
     "name": "stdout",
     "output_type": "stream",
     "text": [
      "epoch: 9, [batch: 105 / 525], examples_per_second: 11712.6151, train_label_loss: 0.2143, \n"
     ]
    },
    {
     "name": "stdout",
     "output_type": "stream",
     "text": [
      "epoch: 9, [batch: 158 / 525], examples_per_second: 11748.3917, train_label_loss: 0.1511, \n"
     ]
    },
    {
     "name": "stdout",
     "output_type": "stream",
     "text": [
      "epoch: 9, [batch: 210 / 525], examples_per_second: 11575.1713, train_label_loss: 0.1560, \n"
     ]
    },
    {
     "name": "stdout",
     "output_type": "stream",
     "text": [
      "epoch: 9, [batch: 263 / 525], examples_per_second: 11651.6030, train_label_loss: 0.2617, \n"
     ]
    },
    {
     "name": "stdout",
     "output_type": "stream",
     "text": [
      "epoch: 9, [batch: 315 / 525], examples_per_second: 11633.8706, train_label_loss: 0.1704, \n"
     ]
    },
    {
     "name": "stdout",
     "output_type": "stream",
     "text": [
      "epoch: 9, [batch: 367 / 525], examples_per_second: 11547.5643, train_label_loss: 0.2206, \n"
     ]
    },
    {
     "name": "stdout",
     "output_type": "stream",
     "text": [
      "epoch: 9, [batch: 420 / 525], examples_per_second: 11700.2374, train_label_loss: 0.1529, \n"
     ]
    },
    {
     "name": "stdout",
     "output_type": "stream",
     "text": [
      "epoch: 9, [batch: 472 / 525], examples_per_second: 11721.2799, train_label_loss: 0.1149, \n"
     ]
    },
    {
     "name": "stdout",
     "output_type": "stream",
     "text": [
      "=============================================================\n",
      "epoch: 9, source_val_acc_label: 0.9567, source_val_label_loss: 0.1612, target_val_acc_label: 0.0848, target_val_label_loss: 23.7315, \n",
      "=============================================================\n"
     ]
    },
    {
     "name": "stdout",
     "output_type": "stream",
     "text": [
      "epoch: 10, [batch: 1 / 525], examples_per_second: 140.2591, train_label_loss: 0.2020, \n"
     ]
    },
    {
     "name": "stdout",
     "output_type": "stream",
     "text": [
      "epoch: 10, [batch: 53 / 525], examples_per_second: 11661.2250, train_label_loss: 0.1355, \n"
     ]
    },
    {
     "name": "stdout",
     "output_type": "stream",
     "text": [
      "epoch: 10, [batch: 105 / 525], examples_per_second: 11694.0549, train_label_loss: 0.1665, \n"
     ]
    },
    {
     "name": "stdout",
     "output_type": "stream",
     "text": [
      "epoch: 10, [batch: 158 / 525], examples_per_second: 11763.8034, train_label_loss: 0.1506, \n"
     ]
    },
    {
     "name": "stdout",
     "output_type": "stream",
     "text": [
      "epoch: 10, [batch: 210 / 525], examples_per_second: 11731.2343, train_label_loss: 0.1500, \n"
     ]
    },
    {
     "name": "stdout",
     "output_type": "stream",
     "text": [
      "epoch: 10, [batch: 263 / 525], examples_per_second: 11763.3025, train_label_loss: 0.1336, \n"
     ]
    },
    {
     "name": "stdout",
     "output_type": "stream",
     "text": [
      "epoch: 10, [batch: 315 / 525], examples_per_second: 11576.3328, train_label_loss: 0.1062, \n"
     ]
    },
    {
     "name": "stdout",
     "output_type": "stream",
     "text": [
      "epoch: 10, [batch: 367 / 525], examples_per_second: 11755.0581, train_label_loss: 0.1864, \n"
     ]
    },
    {
     "name": "stdout",
     "output_type": "stream",
     "text": [
      "epoch: 10, [batch: 420 / 525], examples_per_second: 11691.8288, train_label_loss: 0.1704, \n"
     ]
    },
    {
     "name": "stdout",
     "output_type": "stream",
     "text": [
      "epoch: 10, [batch: 472 / 525], examples_per_second: 11561.3704, train_label_loss: 0.2756, \n"
     ]
    },
    {
     "name": "stdout",
     "output_type": "stream",
     "text": [
      "=============================================================\n",
      "epoch: 10, source_val_acc_label: 0.9428, source_val_label_loss: 0.1822, target_val_acc_label: 0.0905, target_val_label_loss: 27.6648, \n",
      "=============================================================\n"
     ]
    },
    {
     "name": "stdout",
     "output_type": "stream",
     "text": [
      "epoch: 11, [batch: 1 / 525], examples_per_second: 135.7056, train_label_loss: 0.2147, \n"
     ]
    },
    {
     "name": "stdout",
     "output_type": "stream",
     "text": [
      "epoch: 11, [batch: 53 / 525], examples_per_second: 11685.2933, train_label_loss: 0.1535, \n"
     ]
    },
    {
     "name": "stdout",
     "output_type": "stream",
     "text": [
      "epoch: 11, [batch: 105 / 525], examples_per_second: 11703.5509, train_label_loss: 0.1637, \n"
     ]
    },
    {
     "name": "stdout",
     "output_type": "stream",
     "text": [
      "epoch: 11, [batch: 158 / 525], examples_per_second: 11677.4916, train_label_loss: 0.1253, \n"
     ]
    },
    {
     "name": "stdout",
     "output_type": "stream",
     "text": [
      "epoch: 11, [batch: 210 / 525], examples_per_second: 11723.0371, train_label_loss: 0.1082, \n"
     ]
    },
    {
     "name": "stdout",
     "output_type": "stream",
     "text": [
      "epoch: 11, [batch: 263 / 525], examples_per_second: 11580.0575, train_label_loss: 0.1326, \n"
     ]
    },
    {
     "name": "stdout",
     "output_type": "stream",
     "text": [
      "epoch: 11, [batch: 315 / 525], examples_per_second: 11534.2151, train_label_loss: 0.1483, \n"
     ]
    },
    {
     "name": "stdout",
     "output_type": "stream",
     "text": [
      "epoch: 11, [batch: 367 / 525], examples_per_second: 13157.2922, train_label_loss: 0.1406, \n"
     ]
    },
    {
     "name": "stdout",
     "output_type": "stream",
     "text": [
      "epoch: 11, [batch: 420 / 525], examples_per_second: 12953.7513, train_label_loss: 0.2221, \n"
     ]
    },
    {
     "name": "stdout",
     "output_type": "stream",
     "text": [
      "epoch: 11, [batch: 472 / 525], examples_per_second: 12940.1504, train_label_loss: 0.1957, \n"
     ]
    },
    {
     "name": "stdout",
     "output_type": "stream",
     "text": [
      "=============================================================\n",
      "epoch: 11, source_val_acc_label: 0.9599, source_val_label_loss: 0.1403, target_val_acc_label: 0.0747, target_val_label_loss: 25.8617, \n",
      "=============================================================\n"
     ]
    },
    {
     "name": "stdout",
     "output_type": "stream",
     "text": [
      "epoch: 12, [batch: 1 / 525], examples_per_second: 154.3295, train_label_loss: 0.1632, \n"
     ]
    },
    {
     "name": "stdout",
     "output_type": "stream",
     "text": [
      "epoch: 12, [batch: 53 / 525], examples_per_second: 12668.1575, train_label_loss: 0.1042, \n"
     ]
    },
    {
     "name": "stdout",
     "output_type": "stream",
     "text": [
      "epoch: 12, [batch: 105 / 525], examples_per_second: 12911.2508, train_label_loss: 0.1012, \n"
     ]
    },
    {
     "name": "stdout",
     "output_type": "stream",
     "text": [
      "epoch: 12, [batch: 158 / 525], examples_per_second: 12885.5515, train_label_loss: 0.0898, \n"
     ]
    },
    {
     "name": "stdout",
     "output_type": "stream",
     "text": [
      "epoch: 12, [batch: 210 / 525], examples_per_second: 12625.9381, train_label_loss: 0.1229, \n"
     ]
    },
    {
     "name": "stdout",
     "output_type": "stream",
     "text": [
      "epoch: 12, [batch: 263 / 525], examples_per_second: 12797.8821, train_label_loss: 0.0759, \n"
     ]
    },
    {
     "name": "stdout",
     "output_type": "stream",
     "text": [
      "epoch: 12, [batch: 315 / 525], examples_per_second: 12644.0712, train_label_loss: 0.1297, \n"
     ]
    },
    {
     "name": "stdout",
     "output_type": "stream",
     "text": [
      "epoch: 12, [batch: 367 / 525], examples_per_second: 12908.5225, train_label_loss: 0.1192, \n"
     ]
    },
    {
     "name": "stdout",
     "output_type": "stream",
     "text": [
      "epoch: 12, [batch: 420 / 525], examples_per_second: 12680.9313, train_label_loss: 0.1894, \n"
     ]
    },
    {
     "name": "stdout",
     "output_type": "stream",
     "text": [
      "epoch: 12, [batch: 472 / 525], examples_per_second: 12895.7085, train_label_loss: 0.1143, \n"
     ]
    },
    {
     "name": "stdout",
     "output_type": "stream",
     "text": [
      "=============================================================\n",
      "epoch: 12, source_val_acc_label: 0.9085, source_val_label_loss: 0.2693, target_val_acc_label: 0.0803, target_val_label_loss: 33.3300, \n",
      "=============================================================\n"
     ]
    },
    {
     "name": "stdout",
     "output_type": "stream",
     "text": [
      "Patience (3) exhausted\n"
     ]
    }
   ],
   "source": [
    "jig = Vanilla_Train_Eval_Test_Jig(\n",
    "    model=model,\n",
    "    path_to_best_model=p.BEST_MODEL_PATH,\n",
    "    device=p.device,\n",
    "    label_loss_object=torch.nn.NLLLoss(),\n",
    ")\n",
    "\n",
    "jig.train(\n",
    "    train_iterable=datasets.source.processed.train,\n",
    "    source_val_iterable=datasets.source.processed.val,\n",
    "    target_val_iterable=datasets.target.processed.val,\n",
    "    patience=p.patience,\n",
    "    num_epochs=p.n_epoch,\n",
    "    num_logs_per_epoch=p.NUM_LOGS_PER_EPOCH,\n",
    "    criteria_for_best=p.criteria_for_best\n",
    ")"
   ]
  },
  {
   "cell_type": "code",
   "execution_count": 14,
   "id": "4bc2ac17",
   "metadata": {
    "execution": {
     "iopub.execute_input": "2022-03-25T21:25:55.952272Z",
     "iopub.status.busy": "2022-03-25T21:25:55.951705Z",
     "iopub.status.idle": "2022-03-25T21:25:55.954127Z",
     "shell.execute_reply": "2022-03-25T21:25:55.954594Z"
    },
    "papermill": {
     "duration": 0.060153,
     "end_time": "2022-03-25T21:25:55.954732",
     "exception": false,
     "start_time": "2022-03-25T21:25:55.894579",
     "status": "completed"
    },
    "tags": []
   },
   "outputs": [],
   "source": [
    "total_experiment_time_secs = time.time() - start_time_secs"
   ]
  },
  {
   "cell_type": "code",
   "execution_count": 15,
   "id": "cae88f23",
   "metadata": {
    "execution": {
     "iopub.execute_input": "2022-03-25T21:25:56.074052Z",
     "iopub.status.busy": "2022-03-25T21:25:56.072785Z",
     "iopub.status.idle": "2022-03-25T21:26:06.680193Z",
     "shell.execute_reply": "2022-03-25T21:26:06.680914Z"
    },
    "papermill": {
     "duration": 10.672282,
     "end_time": "2022-03-25T21:26:06.681163",
     "exception": false,
     "start_time": "2022-03-25T21:25:56.008881",
     "status": "completed"
    },
    "tags": []
   },
   "outputs": [],
   "source": [
    "source_test_label_accuracy, source_test_label_loss = jig.test(datasets.source.processed.test)\n",
    "target_test_label_accuracy, target_test_label_loss = jig.test(datasets.target.processed.test)\n",
    "\n",
    "source_val_label_accuracy, source_val_label_loss = jig.test(datasets.source.processed.val)\n",
    "target_val_label_accuracy, target_val_label_loss = jig.test(datasets.target.processed.val)\n",
    "\n",
    "history = jig.get_history()\n",
    "\n",
    "total_epochs_trained = len(history[\"epoch_indices\"])\n",
    "\n",
    "val_dl = wrap_in_dataloader(p, Sequence_Aggregator((datasets.source.original.val, datasets.target.original.val)))\n",
    "\n",
    "confusion = confusion_by_domain_over_dataloader(model, p.device, val_dl, forward_uses_domain=False)\n",
    "per_domain_accuracy = per_domain_accuracy_from_confusion(confusion)\n",
    "\n",
    "# Add a key to per_domain_accuracy for if it was a source domain\n",
    "for domain, accuracy in per_domain_accuracy.items():\n",
    "    per_domain_accuracy[domain] = {\n",
    "        \"accuracy\": accuracy,\n",
    "        \"source?\": domain in p.domains_source\n",
    "    }\n",
    "\n",
    "# Do an independent accuracy assesment JUST TO BE SURE!\n",
    "# _source_test_label_accuracy = independent_accuracy_assesment(model, datasets.source.processed.test, p.device)\n",
    "# _target_test_label_accuracy = independent_accuracy_assesment(model, datasets.target.processed.test, p.device)\n",
    "# _source_val_label_accuracy = independent_accuracy_assesment(model, datasets.source.processed.val, p.device)\n",
    "# _target_val_label_accuracy = independent_accuracy_assesment(model, datasets.target.processed.val, p.device)\n",
    "\n",
    "# assert(_source_test_label_accuracy == source_test_label_accuracy)\n",
    "# assert(_target_test_label_accuracy == target_test_label_accuracy)\n",
    "# assert(_source_val_label_accuracy == source_val_label_accuracy)\n",
    "# assert(_target_val_label_accuracy == target_val_label_accuracy)\n",
    "\n",
    "###################################\n",
    "# Write out the results\n",
    "###################################\n",
    "\n",
    "experiment = {\n",
    "    \"experiment_name\": p.experiment_name,\n",
    "    \"parameters\": p,\n",
    "    \"results\": {\n",
    "        \"source_test_label_accuracy\": source_test_label_accuracy,\n",
    "        \"source_test_label_loss\": source_test_label_loss,\n",
    "        \"target_test_label_accuracy\": target_test_label_accuracy,\n",
    "        \"target_test_label_loss\": target_test_label_loss,\n",
    "        \"source_val_label_accuracy\": source_val_label_accuracy,\n",
    "        \"source_val_label_loss\": source_val_label_loss,\n",
    "        \"target_val_label_accuracy\": target_val_label_accuracy,\n",
    "        \"target_val_label_loss\": target_val_label_loss,\n",
    "        \"total_epochs_trained\": total_epochs_trained,\n",
    "        \"total_experiment_time_secs\": total_experiment_time_secs,\n",
    "        \"confusion\": confusion,\n",
    "        \"per_domain_accuracy\": per_domain_accuracy,\n",
    "    },\n",
    "    \"history\": history,\n",
    "    \"dataset_metrics\": get_dataset_metrics(datasets, \"cnn\"),\n",
    "}"
   ]
  },
  {
   "cell_type": "code",
   "execution_count": 16,
   "id": "74c318cf",
   "metadata": {
    "execution": {
     "iopub.execute_input": "2022-03-25T21:26:06.808276Z",
     "iopub.status.busy": "2022-03-25T21:26:06.804626Z",
     "iopub.status.idle": "2022-03-25T21:26:07.000076Z",
     "shell.execute_reply": "2022-03-25T21:26:07.000752Z"
    },
    "papermill": {
     "duration": 0.264661,
     "end_time": "2022-03-25T21:26:07.000959",
     "exception": false,
     "start_time": "2022-03-25T21:26:06.736298",
     "status": "completed"
    },
    "tags": []
   },
   "outputs": [
    {
     "data": {
      "text/plain": [
       "<AxesSubplot:title={'center':'Source Train Label Loss vs Source Val Label Loss'}, xlabel='Epoch'>"
      ]
     },
     "execution_count": 16,
     "metadata": {},
     "output_type": "execute_result"
    },
    {
     "data": {
      "image/png": "[encoded data removed]",
      "text/plain": [
       "<Figure size 1080x504 with 1 Axes>"
      ]
     },
     "metadata": {
      "needs_background": "light"
     },
     "output_type": "display_data"
    }
   ],
   "source": [
    "get_loss_curve(experiment)"
   ]
  },
  {
   "cell_type": "code",
   "execution_count": 17,
   "id": "59376601",
   "metadata": {
    "execution": {
     "iopub.execute_input": "2022-03-25T21:26:07.123646Z",
     "iopub.status.busy": "2022-03-25T21:26:07.115188Z",
     "iopub.status.idle": "2022-03-25T21:26:07.460740Z",
     "shell.execute_reply": "2022-03-25T21:26:07.461052Z"
    },
    "papermill": {
     "duration": 0.404246,
     "end_time": "2022-03-25T21:26:07.461167",
     "exception": false,
     "start_time": "2022-03-25T21:26:07.056921",
     "status": "completed"
    },
    "tags": []
   },
   "outputs": [
    {
     "data": {
      "text/plain": [
       "<AxesSubplot:title={'center':'Results'}>"
      ]
     },
     "execution_count": 17,
     "metadata": {},
     "output_type": "execute_result"
    },
    {
     "data": {
      "image/png": "[encoded data removed]",
      "text/plain": [
       "<Figure size 1080x504 with 1 Axes>"
      ]
     },
     "metadata": {
      "needs_background": "light"
     },
     "output_type": "display_data"
    }
   ],
   "source": [
    "get_results_table(experiment)"
   ]
  },
  {
   "cell_type": "code",
   "execution_count": 18,
   "id": "e80c5c98",
   "metadata": {
    "execution": {
     "iopub.execute_input": "2022-03-25T21:26:07.579222Z",
     "iopub.status.busy": "2022-03-25T21:26:07.577493Z",
     "iopub.status.idle": "2022-03-25T21:26:07.754800Z",
     "shell.execute_reply": "2022-03-25T21:26:07.755464Z"
    },
    "papermill": {
     "duration": 0.241831,
     "end_time": "2022-03-25T21:26:07.755735",
     "exception": false,
     "start_time": "2022-03-25T21:26:07.513904",
     "status": "completed"
    },
    "tags": []
   },
   "outputs": [
    {
     "data": {
      "text/plain": [
       "<AxesSubplot:title={'center':'Per Domain Accuracy'}, xlabel='domain'>"
      ]
     },
     "execution_count": 18,
     "metadata": {},
     "output_type": "execute_result"
    },
    {
     "data": {
      "image/png": "[encoded data removed]",
      "text/plain": [
       "<Figure size 1080x504 with 1 Axes>"
      ]
     },
     "metadata": {
      "needs_background": "light"
     },
     "output_type": "display_data"
    }
   ],
   "source": [
    "get_domain_accuracies(experiment)"
   ]
  },
  {
   "cell_type": "code",
   "execution_count": 19,
   "id": "086fdd10",
   "metadata": {
    "execution": {
     "iopub.execute_input": "2022-03-25T21:26:07.873658Z",
     "iopub.status.busy": "2022-03-25T21:26:07.873279Z",
     "iopub.status.idle": "2022-03-25T21:26:07.876719Z",
     "shell.execute_reply": "2022-03-25T21:26:07.877486Z"
    },
    "papermill": {
     "duration": 0.062243,
     "end_time": "2022-03-25T21:26:07.877670",
     "exception": false,
     "start_time": "2022-03-25T21:26:07.815427",
     "status": "completed"
    },
    "tags": []
   },
   "outputs": [
    {
     "name": "stdout",
     "output_type": "stream",
     "text": [
      "Source Test Label Accuracy: 0.9497916666666667 Target Test Label Accuracy: 0.09375\n",
      "Source Val Label Accuracy: 0.9452083333333333 Target Val Label Accuracy: 0.09220833333333334\n"
     ]
    }
   ],
   "source": [
    "print(\"Source Test Label Accuracy:\", experiment[\"results\"][\"source_test_label_accuracy\"], \"Target Test Label Accuracy:\", experiment[\"results\"][\"target_test_label_accuracy\"])\n",
    "print(\"Source Val Label Accuracy:\", experiment[\"results\"][\"source_val_label_accuracy\"], \"Target Val Label Accuracy:\", experiment[\"results\"][\"target_val_label_accuracy\"])"
   ]
  },
  {
   "cell_type": "code",
   "execution_count": 20,
   "id": "9f450536",
   "metadata": {
    "execution": {
     "iopub.execute_input": "2022-03-25T21:26:07.993635Z",
     "iopub.status.busy": "2022-03-25T21:26:07.993262Z",
     "iopub.status.idle": "2022-03-25T21:26:07.996174Z",
     "shell.execute_reply": "2022-03-25T21:26:07.996472Z"
    },
    "papermill": {
     "duration": 0.060664,
     "end_time": "2022-03-25T21:26:07.996561",
     "exception": false,
     "start_time": "2022-03-25T21:26:07.935897",
     "status": "completed"
    },
    "tags": [
     "experiment_json"
    ]
   },
   "outputs": [
    {
     "data": {
      "text/plain": [
       "'{\"experiment_name\": \"cnn_1:oracle.run1.framed\", \"parameters\": {\"experiment_name\": \"cnn_1:oracle.run1.framed\", \"labels\": [\"3123D52\", \"3123D65\", \"3123D79\", \"3123D80\", \"3123D54\", \"3123D70\", \"3123D7B\", \"3123D89\", \"3123D58\", \"3123D76\", \"3123D7D\", \"3123EFE\", \"3123D64\", \"3123D78\", \"3123D7E\", \"3124E4A\"], \"domains_source\": [8, 32, 50], \"domains_target\": [14, 20, 26, 38, 44], \"pickle_name_source\": \"oracle.Run1_framed_2000Examples_stratified_ds.2022A.pkl\", \"pickle_name_target\": \"oracle.Run1_framed_2000Examples_stratified_ds.2022A.pkl\", \"device\": \"cuda\", \"lr\": 0.0001, \"batch_size\": 128, \"normalize_source\": false, \"normalize_target\": false, \"num_examples_per_domain_per_label_source\": -1, \"num_examples_per_domain_per_label_target\": -1, \"torch_default_dtype\": \"torch.float32\", \"n_epoch\": 50, \"patience\": 3, \"criteria_for_best\": \"target_accuracy\", \"x_net\": [{\"class\": \"nnReshape\", \"kargs\": {\"shape\": [-1, 1, 2, 256]}}, {\"class\": \"Conv2d\", \"kargs\": {\"in_channels\": 1, \"out_channels\": 256, \"kernel_size\": [1, 7], \"bias\": false, \"padding\": [0, 3]}}, {\"class\": \"ReLU\", \"kargs\": {\"inplace\": true}}, {\"class\": \"BatchNorm2d\", \"kargs\": {\"num_features\": 256}}, {\"class\": \"Conv2d\", \"kargs\": {\"in_channels\": 256, \"out_channels\": 80, \"kernel_size\": [2, 7], \"bias\": true, \"padding\": [0, 3]}}, {\"class\": \"ReLU\", \"kargs\": {\"inplace\": true}}, {\"class\": \"BatchNorm2d\", \"kargs\": {\"num_features\": 80}}, {\"class\": \"Flatten\", \"kargs\": {}}, {\"class\": \"Linear\", \"kargs\": {\"in_features\": 20480, \"out_features\": 256}}, {\"class\": \"ReLU\", \"kargs\": {\"inplace\": true}}, {\"class\": \"BatchNorm1d\", \"kargs\": {\"num_features\": 256}}, {\"class\": \"Linear\", \"kargs\": {\"in_features\": 256, \"out_features\": 16}}], \"NUM_LOGS_PER_EPOCH\": 10, \"BEST_MODEL_PATH\": \"./best_model.pth\", \"dataset_seed\": 7, \"seed\": 7}, \"results\": {\"source_test_label_accuracy\": 0.9497916666666667, \"source_test_label_loss\": 0.2060559205381216, \"target_test_label_accuracy\": 0.09375, \"target_test_label_loss\": 17.22915652457704, \"source_val_label_accuracy\": 0.9452083333333333, \"source_val_label_loss\": 0.1790536601195293, \"target_val_label_accuracy\": 0.09220833333333334, \"target_val_label_loss\": 17.347746453386673, \"total_epochs_trained\": 12, \"total_experiment_time_secs\": 93.5280876159668, \"confusion\": {\"20\": {\"2\": {\"2\": 300}, \"6\": {\"12\": 281, \"2\": 13, \"7\": 5, \"3\": 1}, \"13\": {\"2\": 300}, \"0\": {\"2\": 300}, \"7\": {\"2\": 295, \"7\": 5}, \"12\": {\"2\": 284, \"7\": 16}, \"15\": {\"2\": 270, \"7\": 30}, \"14\": {\"12\": 300}, \"11\": {\"2\": 300}, \"10\": {\"12\": 293, \"7\": 1, \"8\": 6}, \"9\": {\"2\": 300}, \"8\": {\"12\": 168, \"2\": 131, \"15\": 1}, \"5\": {\"2\": 298, \"7\": 1, \"15\": 1}, \"1\": {\"2\": 300}, \"4\": {\"12\": 225, \"7\": 53, \"15\": 22}, \"3\": {\"2\": 298, \"15\": 1, \"12\": 1}}, \"50\": {\"5\": {\"5\": 267, \"7\": 6, \"4\": 25, \"6\": 2}, \"7\": {\"7\": 291, \"4\": 3, \"5\": 6}, \"8\": {\"8\": 300}, \"0\": {\"2\": 7, \"0\": 293}, \"11\": {\"15\": 33, \"11\": 260, \"12\": 5, \"9\": 2}, \"14\": {\"14\": 293, \"9\": 6, \"2\": 1}, \"3\": {\"3\": 300}, \"1\": {\"1\": 300}, \"4\": {\"4\": 282, \"7\": 4, \"5\": 12, \"15\": 2}, \"12\": {\"12\": 299, \"9\": 1}, \"10\": {\"10\": 278, \"8\": 11, \"0\": 11}, \"15\": {\"15\": 297, \"5\": 2, \"4\": 1}, \"13\": {\"13\": 298, \"5\": 2}, \"6\": {\"5\": 12, \"6\": 277, \"15\": 10, \"4\": 1}, \"2\": {\"2\": 288, \"0\": 12}, \"9\": {\"9\": 296, \"12\": 4}}, \"44\": {\"14\": {\"6\": 47, \"15\": 216, \"4\": 11, \"12\": 24, \"5\": 2}, \"0\": {\"6\": 237, \"2\": 36, \"12\": 22, \"8\": 5}, \"13\": {\"4\": 300}, \"8\": {\"6\": 90, \"12\": 78, \"7\": 84, \"2\": 42, \"8\": 5, \"3\": 1}, \"7\": {\"4\": 180, \"9\": 41, \"5\": 26, \"15\": 53}, \"6\": {\"4\": 274, \"15\": 26}, \"2\": {\"5\": 239, \"15\": 61}, \"1\": {\"5\": 296, \"8\": 3, \"4\": 1}, \"4\": {\"15\": 134, \"12\": 12, \"4\": 145, \"6\": 9}, \"11\": {\"7\": 14, \"4\": 285, \"9\": 1}, \"15\": {\"6\": 81, \"12\": 217, \"15\": 1, \"11\": 1}, \"9\": {\"15\": 80, \"4\": 203, \"9\": 16, \"5\": 1}, \"12\": {\"3\": 283, \"8\": 12, \"13\": 5}, \"10\": {\"5\": 297, \"4\": 2, \"9\": 1}, \"3\": {\"4\": 213, \"13\": 47, \"8\": 22, \"7\": 2, \"5\": 15, \"2\": 1}, \"5\": {\"6\": 268, \"7\": 30, \"5\": 2}}, \"38\": {\"7\": {\"4\": 296, \"9\": 3, \"15\": 1}, \"10\": {\"4\": 300}, \"13\": {\"4\": 294, \"5\": 1, \"7\": 4, \"0\": 1}, \"1\": {\"2\": 32, \"9\": 198, \"0\": 62, \"1\": 8}, \"4\": {\"4\": 292, \"15\": 8}, \"9\": {\"9\": 300}, \"6\": {\"9\": 283, \"0\": 11, \"2\": 6}, \"11\": {\"0\": 208, \"4\": 63, \"7\": 29}, \"8\": {\"1\": 22, \"4\": 102, \"15\": 40, \"5\": 102, \"11\": 33, \"9\": 1}, \"0\": {\"4\": 289, \"9\": 6, \"7\": 3, \"0\": 2}, \"12\": {\"15\": 208, \"13\": 55, \"5\": 36, \"6\": 1}, \"2\": {\"5\": 263, \"7\": 33, \"3\": 4}, \"5\": {\"9\": 142, \"5\": 49, \"4\": 35, \"11\": 39, \"0\": 4, \"15\": 13, \"1\": 18}, \"3\": {\"0\": 178, \"7\": 120, \"9\": 2}, \"14\": {\"5\": 279, \"7\": 19, \"4\": 2}, \"15\": {\"5\": 110, \"1\": 182, \"13\": 5, \"0\": 3}}, \"26\": {\"2\": {\"11\": 234, \"3\": 44, \"9\": 22}, \"0\": {\"3\": 111, \"12\": 90, \"9\": 81, \"13\": 17, \"11\": 1}, \"6\": {\"9\": 289, \"12\": 11}, \"7\": {\"11\": 26, \"3\": 271, \"13\": 3}, \"13\": {\"9\": 113, \"11\": 73, \"2\": 79, \"3\": 33, \"14\": 2}, \"14\": {\"13\": 14, \"12\": 217, \"3\": 27, \"9\": 42}, \"3\": {\"3\": 238, \"11\": 53, \"13\": 9}, \"8\": {\"3\": 248, \"11\": 33, \"9\": 19}, \"5\": {\"9\": 300}, \"15\": {\"9\": 300}, \"1\": {\"12\": 224, \"3\": 6, \"9\": 63, \"13\": 6, \"11\": 1}, \"4\": {\"3\": 299, \"13\": 1}, \"12\": {\"12\": 248, \"2\": 28, \"9\": 22, \"6\": 2}, \"9\": {\"11\": 96, \"9\": 145, \"3\": 53, \"14\": 6}, \"10\": {\"12\": 114, \"9\": 177, \"13\": 6, \"3\": 3}, \"11\": {\"12\": 37, \"0\": 37, \"9\": 47, \"6\": 116, \"2\": 63}}, \"8\": {\"14\": {\"14\": 291, \"4\": 7, \"1\": 1, \"11\": 1}, \"11\": {\"11\": 300}, \"10\": {\"10\": 274, \"13\": 17, \"4\": 5, \"5\": 4}, \"5\": {\"5\": 288, \"11\": 2, \"1\": 5, \"10\": 5}, \"7\": {\"7\": 237, \"6\": 63}, \"2\": {\"2\": 298, \"3\": 2}, \"1\": {\"1\": 277, \"11\": 23}, \"6\": {\"6\": 277, \"7\": 19, \"4\": 4}, \"0\": {\"0\": 284, \"14\": 16}, \"3\": {\"3\": 300}, \"15\": {\"15\": 291, \"12\": 9}, \"8\": {\"8\": 300}, \"13\": {\"13\": 251, \"10\": 22, \"6\": 19, \"7\": 7, \"4\": 1}, \"4\": {\"4\": 289, \"14\": 4, \"6\": 7}, \"12\": {\"12\": 253, \"15\": 47}, \"9\": {\"9\": 300}}, \"32\": {\"15\": {\"15\": 299, \"3\": 1}, \"2\": {\"2\": 287, \"4\": 13}, \"5\": {\"5\": 270, \"0\": 4, \"7\": 19, \"8\": 6, \"14\": 1}, \"6\": {\"6\": 300}, \"14\": {\"14\": 281, \"0\": 17, \"8\": 1, \"7\": 1}, \"11\": {\"11\": 300}, \"0\": {\"0\": 274, \"8\": 19, \"11\": 1, \"14\": 4, \"5\": 2}, \"9\": {\"9\": 287, \"2\": 6, \"14\": 7}, \"13\": {\"13\": 275, \"3\": 10, \"4\": 12, \"8\": 3}, \"4\": {\"4\": 248, \"2\": 50, \"13\": 2}, \"10\": {\"10\": 300}, \"12\": {\"12\": 298, \"0\": 2}, \"1\": {\"1\": 300}, \"8\": {\"0\": 16, \"8\": 282, \"5\": 2}, \"3\": {\"3\": 299, \"13\": 1}, \"7\": {\"7\": 182, \"5\": 91, \"14\": 20, \"0\": 5, \"8\": 2}}, \"14\": {\"15\": {\"11\": 300}, \"11\": {\"7\": 253, \"2\": 46, \"12\": 1}, \"9\": {\"2\": 300}, \"5\": {\"3\": 248, \"13\": 37, \"11\": 15}, \"14\": {\"13\": 254, \"3\": 46}, \"3\": {\"3\": 243, \"11\": 41, \"13\": 16}, \"12\": {\"2\": 299, \"6\": 1}, \"0\": {\"3\": 200, \"2\": 84, \"11\": 16}, \"1\": {\"2\": 243, \"3\": 53, \"7\": 4}, \"6\": {\"13\": 297, \"3\": 3}, \"2\": {\"13\": 212, \"3\": 88}, \"13\": {\"13\": 214, \"11\": 25, \"3\": 60, \"1\": 1}, \"8\": {\"2\": 300}, \"7\": {\"11\": 274, \"13\": 26}, \"10\": {\"2\": 81, \"3\": 219}, \"4\": {\"3\": 283, \"2\": 16, \"13\": 1}}}, \"per_domain_accuracy\": {\"20\": {\"accuracy\": 0.06354166666666666, \"source?\": false}, \"50\": {\"accuracy\": 0.9622916666666667, \"source?\": true}, \"44\": {\"accuracy\": 0.035208333333333335, \"source?\": false}, \"38\": {\"accuracy\": 0.135625, \"source?\": false}, \"26\": {\"accuracy\": 0.13145833333333334, \"source?\": false}, \"8\": {\"accuracy\": 0.9395833333333333, \"source?\": true}, \"32\": {\"accuracy\": 0.93375, \"source?\": true}, \"14\": {\"accuracy\": 0.09520833333333334, \"source?\": false}}}, \"history\": {\"epoch_indices\": [1, 2, 3, 4, 5, 6, 7, 8, 9, 10, 11, 12], \"train_label_loss\": [1.9853151307787213, 0.9944747653461637, 0.5619446388312749, 0.38885606246335164, 0.30765797101316, 0.24685092378230322, 0.20575882795311157, 0.18383735194092704, 0.1694887180129687, 0.17101947083359673, 0.14339927514394124, 0.1313837409161386], \"source_val_label_loss\": [1.4449767739371915, 0.6665086809512788, 0.44730975379986043, 0.4285491728677159, 0.31678082668675783, 0.2560372161390507, 0.26696342783691607, 0.17911693803240766, 0.16120777021994634, 0.18215689471865124, 0.14034006863304999, 0.26930770831825457], \"target_val_label_loss\": [5.3629649421002, 7.374408361759592, 8.5360202129851, 10.050740084749586, 10.144064558313248, 12.59169038813165, 13.713407435315721, 17.34197527804273, 23.7314545702427, 27.66480159252248, 25.861684718030563, 33.329999933851525], \"source_val_acc_label\": [0.5721527777777777, 0.8443055555555555, 0.9166666666666666, 0.8636805555555556, 0.9234722222222222, 0.9392361111111112, 0.9157638888888889, 0.9452083333333333, 0.9566666666666667, 0.9428472222222222, 0.9599305555555555, 0.9084722222222222], \"target_val_acc_label\": [0.059583333333333335, 0.06504166666666666, 0.07916666666666666, 0.07666666666666666, 0.077125, 0.08320833333333333, 0.08266666666666667, 0.09220833333333334, 0.08483333333333333, 0.0905, 0.07470833333333333, 0.08033333333333334]}, \"dataset_metrics\": {\"source\": {\"train\": {\"n_unique_x\": 67200, \"n_unique_y\": 16, \"n_batch/episode\": 525}, \"val\": {\"n_unique_x\": 14400, \"n_unique_y\": 16, \"n_batch/episode\": 113}, \"test\": {\"n_unique_x\": 14400, \"n_unique_y\": 16, \"n_batch/episode\": 113}}, \"target\": {\"train\": {\"n_unique_x\": 112000, \"n_unique_y\": 16, \"n_batch/episode\": 875}, \"val\": {\"n_unique_x\": 24000, \"n_unique_y\": 16, \"n_batch/episode\": 188}, \"test\": {\"n_unique_x\": 24000, \"n_unique_y\": 16, \"n_batch/episode\": 188}}}}'"
      ]
     },
     "execution_count": 20,
     "metadata": {},
     "output_type": "execute_result"
    }
   ],
   "source": [
    "json.dumps(experiment)"
   ]
  }
 ],
 "metadata": {
  "celltoolbar": "Tags",
  "kernelspec": {
   "display_name": "Python 3 (ipykernel)",
   "language": "python",
   "name": "python3"
  },
  "language_info": {
   "codemirror_mode": {
    "name": "ipython",
    "version": 3
   },
   "file_extension": ".py",
   "mimetype": "text/x-python",
   "name": "python",
   "nbconvert_exporter": "python",
   "pygments_lexer": "ipython3",
   "version": "3.8.12"
  },
  "papermill": {
   "default_parameters": {},
   "duration": 111.096037,
   "end_time": "2022-03-25T21:26:10.990832",
   "environment_variables": {},
   "exception": null,
   "input_path": "/root/csc500-main/csc500-notebooks/templates/cnn_template.ipynb",
   "output_path": "trial.ipynb",
   "parameters": {
    "parameters": {
     "BEST_MODEL_PATH": "./best_model.pth",
     "NUM_LOGS_PER_EPOCH": 10,
     "batch_size": 128,
     "criteria_for_best": "target_accuracy",
     "dataset_seed": 7,
     "device": "cuda",
     "domains_source": [
      8,
      32,
      50
     ],
     "domains_target": [
      14,
      20,
      26,
      38,
      44
     ],
     "experiment_name": "cnn_1:oracle.run1.framed",
     "labels": [
      "3123D52",
      "3123D65",
      "3123D79",
      "3123D80",
      "3123D54",
      "3123D70",
      "3123D7B",
      "3123D89",
      "3123D58",
      "3123D76",
      "3123D7D",
      "3123EFE",
      "3123D64",
      "3123D78",
      "3123D7E",
      "3124E4A"
     ],
     "lr": 0.0001,
     "n_epoch": 50,
     "normalize_source": false,
     "normalize_target": false,
     "num_examples_per_domain_per_label_source": -1,
     "num_examples_per_domain_per_label_target": -1,
     "patience": 3,
     "pickle_name_source": "oracle.Run1_framed_2000Examples_stratified_ds.2022A.pkl",
     "pickle_name_target": "oracle.Run1_framed_2000Examples_stratified_ds.2022A.pkl",
     "seed": 7,
     "torch_default_dtype": "torch.float32",
     "x_net": [
      {
       "class": "nnReshape",
       "kargs": {
        "shape": [
         -1,
         1,
         2,
         256
        ]
       }
      },
      {
       "class": "Conv2d",
       "kargs": {
        "bias": false,
        "in_channels": 1,
        "kernel_size": [
         1,
         7
        ],
        "out_channels": 256,
        "padding": [
         0,
         3
        ]
       }
      },
      {
       "class": "ReLU",
       "kargs": {
        "inplace": true
       }
      },
      {
       "class": "BatchNorm2d",
       "kargs": {
        "num_features": 256
       }
      },
      {
       "class": "Conv2d",
       "kargs": {
        "bias": true,
        "in_channels": 256,
        "kernel_size": [
         2,
         7
        ],
        "out_channels": 80,
        "padding": [
         0,
         3
        ]
       }
      },
      {
       "class": "ReLU",
       "kargs": {
        "inplace": true
       }
      },
      {
       "class": "BatchNorm2d",
       "kargs": {
        "num_features": 80
       }
      },
      {
       "class": "Flatten",
       "kargs": {}
      },
      {
       "class": "Linear",
       "kargs": {
        "in_features": 20480,
        "out_features": 256
       }
      },
      {
       "class": "ReLU",
       "kargs": {
        "inplace": true
       }
      },
      {
       "class": "BatchNorm1d",
       "kargs": {
        "num_features": 256
       }
      },
      {
       "class": "Linear",
       "kargs": {
        "in_features": 256,
        "out_features": 16
       }
      }
     ]
    }
   },
   "start_time": "2022-03-25T21:24:19.894795",
   "version": "2.3.4"
  }
 },
 "nbformat": 4,
 "nbformat_minor": 5
}