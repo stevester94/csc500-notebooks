{
 "cells": [
  {
   "cell_type": "code",
   "execution_count": 1,
   "id": "2324682e",
   "metadata": {
    "execution": {
     "iopub.execute_input": "2022-03-25T21:31:35.712511Z",
     "iopub.status.busy": "2022-03-25T21:31:35.711646Z",
     "iopub.status.idle": "2022-03-25T21:31:37.041867Z",
     "shell.execute_reply": "2022-03-25T21:31:37.041042Z"
    },
    "papermill": {
     "duration": 1.36803,
     "end_time": "2022-03-25T21:31:37.042066",
     "exception": false,
     "start_time": "2022-03-25T21:31:35.674036",
     "status": "completed"
    },
    "tags": []
   },
   "outputs": [],
   "source": [
    "import os, json, sys, time, random\n",
    "import numpy as np\n",
    "import torch\n",
    "from  easydict import EasyDict\n",
    "from math import floor\n",
    "from easydict import EasyDict\n",
    "\n",
    "from steves_utils.vanilla_train_eval_test_jig import  Vanilla_Train_Eval_Test_Jig\n",
    "\n",
    "from steves_utils.torch_utils import get_dataset_metrics, independent_accuracy_assesment\n",
    "from steves_models.configurable_vanilla import Configurable_Vanilla\n",
    "from steves_utils.torch_sequential_builder import build_sequential\n",
    "from steves_utils.lazy_map import Lazy_Map\n",
    "from steves_utils.sequence_aggregator import Sequence_Aggregator\n",
    "\n",
    "from steves_utils.stratified_dataset.traditional_accessor import Traditional_Accessor_Factory\n",
    "\n",
    "from steves_utils.cnn_do_report import (\n",
    "    get_loss_curve,\n",
    "    get_results_table,\n",
    "    get_parameters_table,\n",
    "    get_domain_accuracies,\n",
    ")\n",
    "\n",
    "from steves_utils.torch_utils import (\n",
    "    confusion_by_domain_over_dataloader,\n",
    "    independent_accuracy_assesment\n",
    ")\n",
    "\n",
    "from steves_utils.utils_v2 import (\n",
    "    per_domain_accuracy_from_confusion,\n",
    "    get_datasets_base_path\n",
    ")\n",
    "\n",
    "# from steves_utils.ptn_do_report import TBD"
   ]
  },
  {
   "cell_type": "code",
   "execution_count": 2,
   "id": "1b29e3fe",
   "metadata": {
    "execution": {
     "iopub.execute_input": "2022-03-25T21:31:37.082755Z",
     "iopub.status.busy": "2022-03-25T21:31:37.082375Z",
     "iopub.status.idle": "2022-03-25T21:31:37.084854Z",
     "shell.execute_reply": "2022-03-25T21:31:37.085154Z"
    },
    "papermill": {
     "duration": 0.021669,
     "end_time": "2022-03-25T21:31:37.085234",
     "exception": false,
     "start_time": "2022-03-25T21:31:37.063565",
     "status": "completed"
    },
    "tags": []
   },
   "outputs": [],
   "source": [
    "required_parameters = {\n",
    "    \"experiment_name\",\n",
    "    \"lr\",\n",
    "    \"device\",\n",
    "    \"dataset_seed\",\n",
    "    \"seed\",\n",
    "    \"labels\",\n",
    "    \"domains_target\",\n",
    "    \"domains_source\",\n",
    "    \"num_examples_per_domain_per_label_source\",\n",
    "    \"num_examples_per_domain_per_label_target\",\n",
    "    \"batch_size\",\n",
    "    \"n_epoch\",\n",
    "    \"patience\",\n",
    "    \"criteria_for_best\",\n",
    "    \"normalize_source\",\n",
    "    \"normalize_target\",\n",
    "    \"x_net\",\n",
    "    \"NUM_LOGS_PER_EPOCH\",\n",
    "    \"BEST_MODEL_PATH\",\n",
    "    \"pickle_name_source\",\n",
    "    \"pickle_name_target\",\n",
    "    \"torch_default_dtype\",\n",
    "}"
   ]
  },
  {
   "cell_type": "code",
   "execution_count": 3,
   "id": "670b5fb8",
   "metadata": {
    "execution": {
     "iopub.execute_input": "2022-03-25T21:31:37.126779Z",
     "iopub.status.busy": "2022-03-25T21:31:37.125885Z",
     "iopub.status.idle": "2022-03-25T21:31:37.133097Z",
     "shell.execute_reply": "2022-03-25T21:31:37.132294Z"
    },
    "papermill": {
     "duration": 0.032441,
     "end_time": "2022-03-25T21:31:37.133249",
     "exception": false,
     "start_time": "2022-03-25T21:31:37.100808",
     "status": "completed"
    },
    "tags": [
     "parameters"
    ]
   },
   "outputs": [],
   "source": [
    "from steves_utils.ORACLE.utils_v2 import (\n",
    "    ALL_SERIAL_NUMBERS,\n",
    "    ALL_DISTANCES_FEET_NARROWED,\n",
    ")\n",
    "\n",
    "standalone_parameters = {}\n",
    "standalone_parameters[\"experiment_name\"] = \"MANUAL CORES CNN\"\n",
    "standalone_parameters[\"lr\"] = 0.0001\n",
    "standalone_parameters[\"device\"] = \"cuda\"\n",
    "\n",
    "standalone_parameters[\"dataset_seed\"] = 1337\n",
    "standalone_parameters[\"seed\"] = 1337\n",
    "standalone_parameters[\"labels\"] = ALL_SERIAL_NUMBERS\n",
    "\n",
    "standalone_parameters[\"domains_source\"] = [8,32,50]\n",
    "standalone_parameters[\"domains_target\"] = [14,20,26,38,44,]\n",
    "\n",
    "standalone_parameters[\"num_examples_per_domain_per_label_source\"]=-1\n",
    "standalone_parameters[\"num_examples_per_domain_per_label_target\"]=-1\n",
    "\n",
    "standalone_parameters[\"pickle_name_source\"] = \"oracle.Run1_framed_2000Examples_stratified_ds.2022A.pkl\"\n",
    "standalone_parameters[\"pickle_name_target\"] = \"oracle.Run2_framed_2000Examples_stratified_ds.2022A.pkl\"\n",
    "\n",
    "standalone_parameters[\"torch_default_dtype\"] = \"torch.float32\" \n",
    "\n",
    "standalone_parameters[\"batch_size\"]=128\n",
    "\n",
    "standalone_parameters[\"n_epoch\"] = 3\n",
    "\n",
    "standalone_parameters[\"patience\"] = 10\n",
    "\n",
    "standalone_parameters[\"criteria_for_best\"] = \"target_accuracy\"\n",
    "standalone_parameters[\"normalize_source\"] = False\n",
    "standalone_parameters[\"normalize_target\"] = False\n",
    "\n",
    "standalone_parameters[\"x_net\"] =     [\n",
    "    {\"class\": \"nnReshape\", \"kargs\": {\"shape\":[-1, 1, 2, 256]}},\n",
    "    {\"class\": \"Conv2d\", \"kargs\": { \"in_channels\":1, \"out_channels\":256, \"kernel_size\":(1,7), \"bias\":False, \"padding\":(0,3), },},\n",
    "    {\"class\": \"ReLU\", \"kargs\": {\"inplace\": True}},\n",
    "    {\"class\": \"BatchNorm2d\", \"kargs\": {\"num_features\":256}},\n",
    "\n",
    "    {\"class\": \"Conv2d\", \"kargs\": { \"in_channels\":256, \"out_channels\":80, \"kernel_size\":(2,7), \"bias\":True, \"padding\":(0,3), },},\n",
    "    {\"class\": \"ReLU\", \"kargs\": {\"inplace\": True}},\n",
    "    {\"class\": \"BatchNorm2d\", \"kargs\": {\"num_features\":80}},\n",
    "    {\"class\": \"Flatten\", \"kargs\": {}},\n",
    "\n",
    "    {\"class\": \"Linear\", \"kargs\": {\"in_features\": 80*256, \"out_features\": 256}}, # 80 units per IQ pair\n",
    "    {\"class\": \"ReLU\", \"kargs\": {\"inplace\": True}},\n",
    "    {\"class\": \"BatchNorm1d\", \"kargs\": {\"num_features\":256}},\n",
    "\n",
    "    {\"class\": \"Linear\", \"kargs\": {\"in_features\": 256, \"out_features\": len(standalone_parameters[\"labels\"])}},\n",
    "]\n",
    "\n",
    "standalone_parameters[\"NUM_LOGS_PER_EPOCH\"] = 10\n",
    "standalone_parameters[\"BEST_MODEL_PATH\"] = \"./best_model.pth\""
   ]
  },
  {
   "cell_type": "code",
   "execution_count": 4,
   "id": "d3e3c7f6",
   "metadata": {
    "execution": {
     "iopub.execute_input": "2022-03-25T21:31:37.179331Z",
     "iopub.status.busy": "2022-03-25T21:31:37.172814Z",
     "iopub.status.idle": "2022-03-25T21:31:37.182012Z",
     "shell.execute_reply": "2022-03-25T21:31:37.181209Z"
    },
    "papermill": {
     "duration": 0.030089,
     "end_time": "2022-03-25T21:31:37.182163",
     "exception": false,
     "start_time": "2022-03-25T21:31:37.152074",
     "status": "completed"
    },
    "tags": [
     "injected-parameters"
    ]
   },
   "outputs": [],
   "source": [
    "# Parameters\n",
    "parameters = {\n",
    "    \"experiment_name\": \"cnn_1:oracle.run1.framed\",\n",
    "    \"labels\": [\n",
    "        \"3123D52\",\n",
    "        \"3123D65\",\n",
    "        \"3123D79\",\n",
    "        \"3123D80\",\n",
    "        \"3123D54\",\n",
    "        \"3123D70\",\n",
    "        \"3123D7B\",\n",
    "        \"3123D89\",\n",
    "        \"3123D58\",\n",
    "        \"3123D76\",\n",
    "        \"3123D7D\",\n",
    "        \"3123EFE\",\n",
    "        \"3123D64\",\n",
    "        \"3123D78\",\n",
    "        \"3123D7E\",\n",
    "        \"3124E4A\",\n",
    "    ],\n",
    "    \"domains_source\": [8, 32, 50],\n",
    "    \"domains_target\": [14, 20, 26, 38, 44],\n",
    "    \"pickle_name_source\": \"oracle.Run1_framed_2000Examples_stratified_ds.2022A.pkl\",\n",
    "    \"pickle_name_target\": \"oracle.Run1_framed_2000Examples_stratified_ds.2022A.pkl\",\n",
    "    \"device\": \"cuda\",\n",
    "    \"lr\": 0.0001,\n",
    "    \"batch_size\": 128,\n",
    "    \"normalize_source\": False,\n",
    "    \"normalize_target\": False,\n",
    "    \"num_examples_per_domain_per_label_source\": -1,\n",
    "    \"num_examples_per_domain_per_label_target\": -1,\n",
    "    \"torch_default_dtype\": \"torch.float32\",\n",
    "    \"n_epoch\": 50,\n",
    "    \"patience\": 3,\n",
    "    \"criteria_for_best\": \"target_accuracy\",\n",
    "    \"x_net\": [\n",
    "        {\"class\": \"nnReshape\", \"kargs\": {\"shape\": [-1, 1, 2, 256]}},\n",
    "        {\n",
    "            \"class\": \"Conv2d\",\n",
    "            \"kargs\": {\n",
    "                \"in_channels\": 1,\n",
    "                \"out_channels\": 256,\n",
    "                \"kernel_size\": [1, 7],\n",
    "                \"bias\": False,\n",
    "                \"padding\": [0, 3],\n",
    "            },\n",
    "        },\n",
    "        {\"class\": \"ReLU\", \"kargs\": {\"inplace\": True}},\n",
    "        {\"class\": \"BatchNorm2d\", \"kargs\": {\"num_features\": 256}},\n",
    "        {\n",
    "            \"class\": \"Conv2d\",\n",
    "            \"kargs\": {\n",
    "                \"in_channels\": 256,\n",
    "                \"out_channels\": 80,\n",
    "                \"kernel_size\": [2, 7],\n",
    "                \"bias\": True,\n",
    "                \"padding\": [0, 3],\n",
    "            },\n",
    "        },\n",
    "        {\"class\": \"ReLU\", \"kargs\": {\"inplace\": True}},\n",
    "        {\"class\": \"BatchNorm2d\", \"kargs\": {\"num_features\": 80}},\n",
    "        {\"class\": \"Flatten\", \"kargs\": {}},\n",
    "        {\"class\": \"Linear\", \"kargs\": {\"in_features\": 20480, \"out_features\": 256}},\n",
    "        {\"class\": \"ReLU\", \"kargs\": {\"inplace\": True}},\n",
    "        {\"class\": \"BatchNorm1d\", \"kargs\": {\"num_features\": 256}},\n",
    "        {\"class\": \"Linear\", \"kargs\": {\"in_features\": 256, \"out_features\": 16}},\n",
    "    ],\n",
    "    \"NUM_LOGS_PER_EPOCH\": 10,\n",
    "    \"BEST_MODEL_PATH\": \"./best_model.pth\",\n",
    "    \"dataset_seed\": 154325,\n",
    "    \"seed\": 154325,\n",
    "}\n"
   ]
  },
  {
   "cell_type": "code",
   "execution_count": 5,
   "id": "759b56ec",
   "metadata": {
    "execution": {
     "iopub.execute_input": "2022-03-25T21:31:37.220395Z",
     "iopub.status.busy": "2022-03-25T21:31:37.220026Z",
     "iopub.status.idle": "2022-03-25T21:31:37.222584Z",
     "shell.execute_reply": "2022-03-25T21:31:37.222224Z"
    },
    "papermill": {
     "duration": 0.021753,
     "end_time": "2022-03-25T21:31:37.222652",
     "exception": false,
     "start_time": "2022-03-25T21:31:37.200899",
     "status": "completed"
    },
    "tags": []
   },
   "outputs": [],
   "source": [
    "# Set this to True if you want to run this template directly\n",
    "STANDALONE = False\n",
    "if STANDALONE:\n",
    "    print(\"parameters not injected, running with standalone_parameters\")\n",
    "    parameters = standalone_parameters\n",
    "\n",
    "if not 'parameters' in locals() and not 'parameters' in globals():\n",
    "    raise Exception(\"Parameter injection failed\")\n",
    "\n",
    "#Use an easy dict for all the parameters\n",
    "p = EasyDict(parameters)\n",
    "\n",
    "supplied_keys = set(p.keys())\n",
    "\n",
    "if  supplied_keys != required_parameters:\n",
    "    print(\"Parameters are incorrect\")\n",
    "    if len(supplied_keys - required_parameters)>0: print(\"Shouldn't have:\", str(supplied_keys - required_parameters))\n",
    "    if len(required_parameters - supplied_keys)>0: print(\"Need to have:\", str(required_parameters - supplied_keys))\n",
    "    raise RuntimeError(\"Parameters are incorrect\")\n",
    "\n"
   ]
  },
  {
   "cell_type": "code",
   "execution_count": 6,
   "id": "d5c66a71",
   "metadata": {
    "execution": {
     "iopub.execute_input": "2022-03-25T21:31:37.259528Z",
     "iopub.status.busy": "2022-03-25T21:31:37.259159Z",
     "iopub.status.idle": "2022-03-25T21:31:37.263010Z",
     "shell.execute_reply": "2022-03-25T21:31:37.262463Z"
    },
    "papermill": {
     "duration": 0.020671,
     "end_time": "2022-03-25T21:31:37.263113",
     "exception": false,
     "start_time": "2022-03-25T21:31:37.242442",
     "status": "completed"
    },
    "tags": []
   },
   "outputs": [],
   "source": [
    "###################################\n",
    "# Set the RNGs and make it all deterministic\n",
    "###################################\n",
    "np.random.seed(p.seed)\n",
    "random.seed(p.seed)\n",
    "torch.manual_seed(p.seed)\n",
    "\n",
    "torch.use_deterministic_algorithms(True) "
   ]
  },
  {
   "cell_type": "code",
   "execution_count": 7,
   "id": "92a65876",
   "metadata": {
    "execution": {
     "iopub.execute_input": "2022-03-25T21:31:37.301438Z",
     "iopub.status.busy": "2022-03-25T21:31:37.301076Z",
     "iopub.status.idle": "2022-03-25T21:31:37.303713Z",
     "shell.execute_reply": "2022-03-25T21:31:37.303336Z"
    },
    "papermill": {
     "duration": 0.020527,
     "end_time": "2022-03-25T21:31:37.303782",
     "exception": false,
     "start_time": "2022-03-25T21:31:37.283255",
     "status": "completed"
    },
    "tags": []
   },
   "outputs": [],
   "source": [
    "torch.set_default_dtype(eval(p.torch_default_dtype))"
   ]
  },
  {
   "cell_type": "code",
   "execution_count": 8,
   "id": "f1a32f01",
   "metadata": {
    "execution": {
     "iopub.execute_input": "2022-03-25T21:31:37.339664Z",
     "iopub.status.busy": "2022-03-25T21:31:37.337748Z",
     "iopub.status.idle": "2022-03-25T21:31:37.378396Z",
     "shell.execute_reply": "2022-03-25T21:31:37.377595Z"
    },
    "papermill": {
     "duration": 0.057042,
     "end_time": "2022-03-25T21:31:37.378546",
     "exception": false,
     "start_time": "2022-03-25T21:31:37.321504",
     "status": "completed"
    },
    "tags": []
   },
   "outputs": [],
   "source": [
    "###################################\n",
    "# Build the network(s)\n",
    "# Note: It's critical to do this AFTER setting the RNG\n",
    "###################################\n",
    "x_net = build_sequential(p.x_net)"
   ]
  },
  {
   "cell_type": "code",
   "execution_count": 9,
   "id": "a276cd83",
   "metadata": {
    "execution": {
     "iopub.execute_input": "2022-03-25T21:31:37.417366Z",
     "iopub.status.busy": "2022-03-25T21:31:37.417006Z",
     "iopub.status.idle": "2022-03-25T21:31:37.419093Z",
     "shell.execute_reply": "2022-03-25T21:31:37.419391Z"
    },
    "papermill": {
     "duration": 0.019712,
     "end_time": "2022-03-25T21:31:37.419469",
     "exception": false,
     "start_time": "2022-03-25T21:31:37.399757",
     "status": "completed"
    },
    "tags": []
   },
   "outputs": [],
   "source": [
    "start_time_secs = time.time()"
   ]
  },
  {
   "cell_type": "code",
   "execution_count": 10,
   "id": "de702e48",
   "metadata": {
    "execution": {
     "iopub.execute_input": "2022-03-25T21:31:37.462074Z",
     "iopub.status.busy": "2022-03-25T21:31:37.461214Z",
     "iopub.status.idle": "2022-03-25T21:31:41.481500Z",
     "shell.execute_reply": "2022-03-25T21:31:41.480729Z"
    },
    "papermill": {
     "duration": 4.045824,
     "end_time": "2022-03-25T21:31:41.481681",
     "exception": false,
     "start_time": "2022-03-25T21:31:37.435857",
     "status": "completed"
    },
    "tags": []
   },
   "outputs": [],
   "source": [
    "def wrap_in_dataloader(p, ds):\n",
    "    return torch.utils.data.DataLoader(\n",
    "        ds,\n",
    "        batch_size=p.batch_size,\n",
    "        shuffle=True,\n",
    "        num_workers=1,\n",
    "        persistent_workers=True,\n",
    "        prefetch_factor=50,\n",
    "        pin_memory=True\n",
    "    )\n",
    "\n",
    "taf_source = Traditional_Accessor_Factory(\n",
    "    labels=p.labels,\n",
    "    domains=p.domains_source,\n",
    "    num_examples_per_domain_per_label=p.num_examples_per_domain_per_label_source,\n",
    "    pickle_path=os.path.join(get_datasets_base_path(), p.pickle_name_source),\n",
    "    seed=p.dataset_seed\n",
    ")\n",
    "train_original_source, val_original_source, test_original_source = \\\n",
    "    taf_source.get_train(), taf_source.get_val(), taf_source.get_test()\n",
    "\n",
    "\n",
    "taf_target = Traditional_Accessor_Factory(\n",
    "    labels=p.labels,\n",
    "    domains=p.domains_target,\n",
    "    num_examples_per_domain_per_label=p.num_examples_per_domain_per_label_source,\n",
    "    pickle_path=os.path.join(get_datasets_base_path(), p.pickle_name_target),\n",
    "    seed=p.dataset_seed\n",
    ")\n",
    "train_original_target, val_original_target, test_original_target = \\\n",
    "    taf_target.get_train(), taf_target.get_val(), taf_target.get_test()\n",
    "\n",
    "\n",
    "# For CNN We only use X and Y. And we only train on the source.\n",
    "# Properly form the data using a transform lambda and Lazy_Map. Finally wrap them in a dataloader\n",
    "\n",
    "transform_lambda = lambda ex: ex[:2] # Strip the tuple to just (x,y)\n",
    "\n",
    "\n",
    "train_processed_source = wrap_in_dataloader(\n",
    "    p,\n",
    "    Lazy_Map(train_original_source, transform_lambda)\n",
    ")\n",
    "val_processed_source = wrap_in_dataloader(\n",
    "    p,\n",
    "    Lazy_Map(val_original_source, transform_lambda)\n",
    ")\n",
    "test_processed_source = wrap_in_dataloader(\n",
    "    p,\n",
    "    Lazy_Map(test_original_source, transform_lambda)\n",
    ")\n",
    "\n",
    "train_processed_target = wrap_in_dataloader(\n",
    "    p,\n",
    "    Lazy_Map(train_original_target, transform_lambda)\n",
    ")\n",
    "val_processed_target = wrap_in_dataloader(\n",
    "    p,\n",
    "    Lazy_Map(val_original_target, transform_lambda)\n",
    ")\n",
    "test_processed_target  = wrap_in_dataloader(\n",
    "    p,\n",
    "    Lazy_Map(test_original_target, transform_lambda)\n",
    ")\n",
    "\n",
    "\n",
    "\n",
    "datasets = EasyDict({\n",
    "    \"source\": {\n",
    "        \"original\": {\"train\":train_original_source, \"val\":val_original_source, \"test\":test_original_source},\n",
    "        \"processed\": {\"train\":train_processed_source, \"val\":val_processed_source, \"test\":test_processed_source}\n",
    "    },\n",
    "    \"target\": {\n",
    "        \"original\": {\"train\":train_original_target, \"val\":val_original_target, \"test\":test_original_target},\n",
    "        \"processed\": {\"train\":train_processed_target, \"val\":val_processed_target, \"test\":test_processed_target}\n",
    "    },\n",
    "})"
   ]
  },
  {
   "cell_type": "code",
   "execution_count": 11,
   "id": "a11b26bd",
   "metadata": {
    "execution": {
     "iopub.execute_input": "2022-03-25T21:31:41.563100Z",
     "iopub.status.busy": "2022-03-25T21:31:41.562269Z",
     "iopub.status.idle": "2022-03-25T21:31:47.202742Z",
     "shell.execute_reply": "2022-03-25T21:31:47.201894Z"
    },
    "papermill": {
     "duration": 5.701566,
     "end_time": "2022-03-25T21:31:47.202916",
     "exception": false,
     "start_time": "2022-03-25T21:31:41.501350",
     "status": "completed"
    },
    "tags": []
   },
   "outputs": [
    {
     "data": {
      "text/plain": [
       "torch.float32"
      ]
     },
     "execution_count": 11,
     "metadata": {},
     "output_type": "execute_result"
    }
   ],
   "source": [
    "ep = next(iter(test_processed_target))\n",
    "ep[0].dtype"
   ]
  },
  {
   "cell_type": "code",
   "execution_count": 12,
   "id": "19425fad",
   "metadata": {
    "execution": {
     "iopub.execute_input": "2022-03-25T21:31:47.257572Z",
     "iopub.status.busy": "2022-03-25T21:31:47.256746Z",
     "iopub.status.idle": "2022-03-25T21:31:47.305037Z",
     "shell.execute_reply": "2022-03-25T21:31:47.304231Z"
    },
    "papermill": {
     "duration": 0.084863,
     "end_time": "2022-03-25T21:31:47.305191",
     "exception": false,
     "start_time": "2022-03-25T21:31:47.220328",
     "status": "completed"
    },
    "tags": []
   },
   "outputs": [],
   "source": [
    "model = Configurable_Vanilla(\n",
    "    x_net=x_net,\n",
    "    label_loss_object=torch.nn.NLLLoss(),\n",
    "    learning_rate=p.lr\n",
    ")"
   ]
  },
  {
   "cell_type": "code",
   "execution_count": 13,
   "id": "7f6d4f2c",
   "metadata": {
    "execution": {
     "iopub.execute_input": "2022-03-25T21:31:47.346782Z",
     "iopub.status.busy": "2022-03-25T21:31:47.346414Z",
     "iopub.status.idle": "2022-03-25T21:32:27.019452Z",
     "shell.execute_reply": "2022-03-25T21:32:27.018604Z"
    },
    "papermill": {
     "duration": 39.694211,
     "end_time": "2022-03-25T21:32:27.019646",
     "exception": false,
     "start_time": "2022-03-25T21:31:47.325435",
     "status": "completed"
    },
    "tags": []
   },
   "outputs": [
    {
     "name": "stdout",
     "output_type": "stream",
     "text": [
      "epoch: 1, [batch: 1 / 525], examples_per_second: 776.4652, train_label_loss: 2.7673, \n"
     ]
    },
    {
     "name": "stdout",
     "output_type": "stream",
     "text": [
      "epoch: 1, [batch: 53 / 525], examples_per_second: 10541.9860, train_label_loss: 2.6013, \n"
     ]
    },
    {
     "name": "stdout",
     "output_type": "stream",
     "text": [
      "epoch: 1, [batch: 105 / 525], examples_per_second: 10753.7101, train_label_loss: 2.3657, \n"
     ]
    },
    {
     "name": "stdout",
     "output_type": "stream",
     "text": [
      "epoch: 1, [batch: 158 / 525], examples_per_second: 10841.8229, train_label_loss: 2.2238, \n"
     ]
    },
    {
     "name": "stdout",
     "output_type": "stream",
     "text": [
      "epoch: 1, [batch: 210 / 525], examples_per_second: 10773.9627, train_label_loss: 2.0875, \n"
     ]
    },
    {
     "name": "stdout",
     "output_type": "stream",
     "text": [
      "epoch: 1, [batch: 263 / 525], examples_per_second: 10720.8475, train_label_loss: 2.0008, \n"
     ]
    },
    {
     "name": "stdout",
     "output_type": "stream",
     "text": [
      "epoch: 1, [batch: 315 / 525], examples_per_second: 10800.1296, train_label_loss: 1.8172, \n"
     ]
    },
    {
     "name": "stdout",
     "output_type": "stream",
     "text": [
      "epoch: 1, [batch: 367 / 525], examples_per_second: 10848.7430, train_label_loss: 1.7301, \n"
     ]
    },
    {
     "name": "stdout",
     "output_type": "stream",
     "text": [
      "epoch: 1, [batch: 420 / 525], examples_per_second: 10622.6297, train_label_loss: 1.7152, \n"
     ]
    },
    {
     "name": "stdout",
     "output_type": "stream",
     "text": [
      "epoch: 1, [batch: 472 / 525], examples_per_second: 10539.9960, train_label_loss: 1.4996, \n"
     ]
    },
    {
     "name": "stdout",
     "output_type": "stream",
     "text": [
      "=============================================================\n",
      "epoch: 1, source_val_acc_label: 0.6601, source_val_label_loss: 1.3707, target_val_acc_label: 0.0856, target_val_label_loss: 5.3080, \n",
      "=============================================================\n"
     ]
    },
    {
     "name": "stdout",
     "output_type": "stream",
     "text": [
      "New best\n",
      "epoch: 2, [batch: 1 / 525], examples_per_second: 96.9645, train_label_loss: 1.3574, \n"
     ]
    },
    {
     "name": "stdout",
     "output_type": "stream",
     "text": [
      "epoch: 2, [batch: 53 / 525], examples_per_second: 10596.8269, train_label_loss: 1.2816, \n"
     ]
    },
    {
     "name": "stdout",
     "output_type": "stream",
     "text": [
      "epoch: 2, [batch: 105 / 525], examples_per_second: 10819.8614, train_label_loss: 1.3174, \n"
     ]
    },
    {
     "name": "stdout",
     "output_type": "stream",
     "text": [
      "epoch: 2, [batch: 158 / 525], examples_per_second: 10563.7620, train_label_loss: 1.2568, \n"
     ]
    },
    {
     "name": "stdout",
     "output_type": "stream",
     "text": [
      "epoch: 2, [batch: 210 / 525], examples_per_second: 10580.0041, train_label_loss: 0.9826, \n"
     ]
    },
    {
     "name": "stdout",
     "output_type": "stream",
     "text": [
      "epoch: 2, [batch: 263 / 525], examples_per_second: 10792.3042, train_label_loss: 1.0500, \n"
     ]
    },
    {
     "name": "stdout",
     "output_type": "stream",
     "text": [
      "epoch: 2, [batch: 315 / 525], examples_per_second: 10544.1481, train_label_loss: 0.8457, \n"
     ]
    },
    {
     "name": "stdout",
     "output_type": "stream",
     "text": [
      "epoch: 2, [batch: 367 / 525], examples_per_second: 10805.7438, train_label_loss: 0.8177, \n"
     ]
    },
    {
     "name": "stdout",
     "output_type": "stream",
     "text": [
      "epoch: 2, [batch: 420 / 525], examples_per_second: 10639.2282, train_label_loss: 0.8179, \n"
     ]
    },
    {
     "name": "stdout",
     "output_type": "stream",
     "text": [
      "epoch: 2, [batch: 472 / 525], examples_per_second: 10442.1933, train_label_loss: 0.6968, \n"
     ]
    },
    {
     "name": "stdout",
     "output_type": "stream",
     "text": [
      "=============================================================\n",
      "epoch: 2, source_val_acc_label: 0.8808, source_val_label_loss: 0.6445, target_val_acc_label: 0.0693, target_val_label_loss: 7.3040, \n",
      "=============================================================\n"
     ]
    },
    {
     "name": "stdout",
     "output_type": "stream",
     "text": [
      "epoch: 3, [batch: 1 / 525], examples_per_second: 122.3017, train_label_loss: 0.6816, \n"
     ]
    },
    {
     "name": "stdout",
     "output_type": "stream",
     "text": [
      "epoch: 3, [batch: 53 / 525], examples_per_second: 10672.0886, train_label_loss: 0.6406, \n"
     ]
    },
    {
     "name": "stdout",
     "output_type": "stream",
     "text": [
      "epoch: 3, [batch: 105 / 525], examples_per_second: 10455.9442, train_label_loss: 0.5467, \n"
     ]
    },
    {
     "name": "stdout",
     "output_type": "stream",
     "text": [
      "epoch: 3, [batch: 158 / 525], examples_per_second: 10685.9804, train_label_loss: 0.5856, \n"
     ]
    },
    {
     "name": "stdout",
     "output_type": "stream",
     "text": [
      "epoch: 3, [batch: 210 / 525], examples_per_second: 10680.1153, train_label_loss: 0.5450, \n"
     ]
    },
    {
     "name": "stdout",
     "output_type": "stream",
     "text": [
      "epoch: 3, [batch: 263 / 525], examples_per_second: 10621.1031, train_label_loss: 0.4674, \n"
     ]
    },
    {
     "name": "stdout",
     "output_type": "stream",
     "text": [
      "epoch: 3, [batch: 315 / 525], examples_per_second: 10755.2347, train_label_loss: 0.4978, \n"
     ]
    },
    {
     "name": "stdout",
     "output_type": "stream",
     "text": [
      "epoch: 3, [batch: 367 / 525], examples_per_second: 10712.2116, train_label_loss: 0.5059, \n"
     ]
    },
    {
     "name": "stdout",
     "output_type": "stream",
     "text": [
      "epoch: 3, [batch: 420 / 525], examples_per_second: 10563.7541, train_label_loss: 0.5615, \n"
     ]
    },
    {
     "name": "stdout",
     "output_type": "stream",
     "text": [
      "epoch: 3, [batch: 472 / 525], examples_per_second: 10642.9051, train_label_loss: 0.3585, \n"
     ]
    },
    {
     "name": "stdout",
     "output_type": "stream",
     "text": [
      "=============================================================\n",
      "epoch: 3, source_val_acc_label: 0.9322, source_val_label_loss: 0.4089, target_val_acc_label: 0.0793, target_val_label_loss: 9.0323, \n",
      "=============================================================\n"
     ]
    },
    {
     "name": "stdout",
     "output_type": "stream",
     "text": [
      "epoch: 4, [batch: 1 / 525], examples_per_second: 121.1709, train_label_loss: 0.3651, \n"
     ]
    },
    {
     "name": "stdout",
     "output_type": "stream",
     "text": [
      "epoch: 4, [batch: 53 / 525], examples_per_second: 10674.9044, train_label_loss: 0.4391, \n"
     ]
    },
    {
     "name": "stdout",
     "output_type": "stream",
     "text": [
      "epoch: 4, [batch: 105 / 525], examples_per_second: 10737.3687, train_label_loss: 0.4398, \n"
     ]
    },
    {
     "name": "stdout",
     "output_type": "stream",
     "text": [
      "epoch: 4, [batch: 158 / 525], examples_per_second: 10608.9261, train_label_loss: 0.4708, \n"
     ]
    },
    {
     "name": "stdout",
     "output_type": "stream",
     "text": [
      "epoch: 4, [batch: 210 / 525], examples_per_second: 10763.1504, train_label_loss: 0.4111, \n"
     ]
    },
    {
     "name": "stdout",
     "output_type": "stream",
     "text": [
      "epoch: 4, [batch: 263 / 525], examples_per_second: 10740.7458, train_label_loss: 0.3374, \n"
     ]
    },
    {
     "name": "stdout",
     "output_type": "stream",
     "text": [
      "epoch: 4, [batch: 315 / 525], examples_per_second: 10703.3035, train_label_loss: 0.3755, \n"
     ]
    },
    {
     "name": "stdout",
     "output_type": "stream",
     "text": [
      "epoch: 4, [batch: 367 / 525], examples_per_second: 10657.6620, train_label_loss: 0.3510, \n"
     ]
    },
    {
     "name": "stdout",
     "output_type": "stream",
     "text": [
      "epoch: 4, [batch: 420 / 525], examples_per_second: 10727.9331, train_label_loss: 0.2929, \n"
     ]
    },
    {
     "name": "stdout",
     "output_type": "stream",
     "text": [
      "epoch: 4, [batch: 472 / 525], examples_per_second: 10733.2735, train_label_loss: 0.3014, \n"
     ]
    },
    {
     "name": "stdout",
     "output_type": "stream",
     "text": [
      "=============================================================\n",
      "epoch: 4, source_val_acc_label: 0.8537, source_val_label_loss: 0.4328, target_val_acc_label: 0.0753, target_val_label_loss: 10.2420, \n",
      "=============================================================\n"
     ]
    },
    {
     "name": "stdout",
     "output_type": "stream",
     "text": [
      "epoch: 5, [batch: 1 / 525], examples_per_second: 124.3972, train_label_loss: 0.3385, \n"
     ]
    },
    {
     "name": "stdout",
     "output_type": "stream",
     "text": [
      "epoch: 5, [batch: 53 / 525], examples_per_second: 10224.9253, train_label_loss: 0.3306, \n"
     ]
    },
    {
     "name": "stdout",
     "output_type": "stream",
     "text": [
      "epoch: 5, [batch: 105 / 525], examples_per_second: 10421.8137, train_label_loss: 0.5107, \n"
     ]
    },
    {
     "name": "stdout",
     "output_type": "stream",
     "text": [
      "epoch: 5, [batch: 158 / 525], examples_per_second: 10435.0920, train_label_loss: 0.2916, \n"
     ]
    },
    {
     "name": "stdout",
     "output_type": "stream",
     "text": [
      "epoch: 5, [batch: 210 / 525], examples_per_second: 10675.4269, train_label_loss: 0.2488, \n"
     ]
    },
    {
     "name": "stdout",
     "output_type": "stream",
     "text": [
      "epoch: 5, [batch: 263 / 525], examples_per_second: 10669.6679, train_label_loss: 0.2892, \n"
     ]
    },
    {
     "name": "stdout",
     "output_type": "stream",
     "text": [
      "epoch: 5, [batch: 315 / 525], examples_per_second: 10533.1083, train_label_loss: 0.3444, \n"
     ]
    },
    {
     "name": "stdout",
     "output_type": "stream",
     "text": [
      "epoch: 5, [batch: 367 / 525], examples_per_second: 10680.0867, train_label_loss: 0.2034, \n"
     ]
    },
    {
     "name": "stdout",
     "output_type": "stream",
     "text": [
      "epoch: 5, [batch: 420 / 525], examples_per_second: 10571.0774, train_label_loss: 0.2649, \n"
     ]
    },
    {
     "name": "stdout",
     "output_type": "stream",
     "text": [
      "epoch: 5, [batch: 472 / 525], examples_per_second: 10645.0235, train_label_loss: 0.3384, \n"
     ]
    },
    {
     "name": "stdout",
     "output_type": "stream",
     "text": [
      "=============================================================\n",
      "epoch: 5, source_val_acc_label: 0.9324, source_val_label_loss: 0.2722, target_val_acc_label: 0.0807, target_val_label_loss: 10.4331, \n",
      "=============================================================\n"
     ]
    },
    {
     "name": "stdout",
     "output_type": "stream",
     "text": [
      "Patience (3) exhausted\n"
     ]
    }
   ],
   "source": [
    "jig = Vanilla_Train_Eval_Test_Jig(\n",
    "    model=model,\n",
    "    path_to_best_model=p.BEST_MODEL_PATH,\n",
    "    device=p.device,\n",
    "    label_loss_object=torch.nn.NLLLoss(),\n",
    ")\n",
    "\n",
    "jig.train(\n",
    "    train_iterable=datasets.source.processed.train,\n",
    "    source_val_iterable=datasets.source.processed.val,\n",
    "    target_val_iterable=datasets.target.processed.val,\n",
    "    patience=p.patience,\n",
    "    num_epochs=p.n_epoch,\n",
    "    num_logs_per_epoch=p.NUM_LOGS_PER_EPOCH,\n",
    "    criteria_for_best=p.criteria_for_best\n",
    ")"
   ]
  },
  {
   "cell_type": "code",
   "execution_count": 14,
   "id": "4bc2ac17",
   "metadata": {
    "execution": {
     "iopub.execute_input": "2022-03-25T21:32:27.089369Z",
     "iopub.status.busy": "2022-03-25T21:32:27.088818Z",
     "iopub.status.idle": "2022-03-25T21:32:27.091187Z",
     "shell.execute_reply": "2022-03-25T21:32:27.091651Z"
    },
    "papermill": {
     "duration": 0.038859,
     "end_time": "2022-03-25T21:32:27.091773",
     "exception": false,
     "start_time": "2022-03-25T21:32:27.052914",
     "status": "completed"
    },
    "tags": []
   },
   "outputs": [],
   "source": [
    "total_experiment_time_secs = time.time() - start_time_secs"
   ]
  },
  {
   "cell_type": "code",
   "execution_count": 15,
   "id": "cae88f23",
   "metadata": {
    "execution": {
     "iopub.execute_input": "2022-03-25T21:32:27.170181Z",
     "iopub.status.busy": "2022-03-25T21:32:27.169330Z",
     "iopub.status.idle": "2022-03-25T21:32:38.909881Z",
     "shell.execute_reply": "2022-03-25T21:32:38.910560Z"
    },
    "papermill": {
     "duration": 11.784022,
     "end_time": "2022-03-25T21:32:38.910791",
     "exception": false,
     "start_time": "2022-03-25T21:32:27.126769",
     "status": "completed"
    },
    "tags": []
   },
   "outputs": [],
   "source": [
    "source_test_label_accuracy, source_test_label_loss = jig.test(datasets.source.processed.test)\n",
    "target_test_label_accuracy, target_test_label_loss = jig.test(datasets.target.processed.test)\n",
    "\n",
    "source_val_label_accuracy, source_val_label_loss = jig.test(datasets.source.processed.val)\n",
    "target_val_label_accuracy, target_val_label_loss = jig.test(datasets.target.processed.val)\n",
    "\n",
    "history = jig.get_history()\n",
    "\n",
    "total_epochs_trained = len(history[\"epoch_indices\"])\n",
    "\n",
    "val_dl = wrap_in_dataloader(p, Sequence_Aggregator((datasets.source.original.val, datasets.target.original.val)))\n",
    "\n",
    "confusion = confusion_by_domain_over_dataloader(model, p.device, val_dl, forward_uses_domain=False)\n",
    "per_domain_accuracy = per_domain_accuracy_from_confusion(confusion)\n",
    "\n",
    "# Add a key to per_domain_accuracy for if it was a source domain\n",
    "for domain, accuracy in per_domain_accuracy.items():\n",
    "    per_domain_accuracy[domain] = {\n",
    "        \"accuracy\": accuracy,\n",
    "        \"source?\": domain in p.domains_source\n",
    "    }\n",
    "\n",
    "# Do an independent accuracy assesment JUST TO BE SURE!\n",
    "# _source_test_label_accuracy = independent_accuracy_assesment(model, datasets.source.processed.test, p.device)\n",
    "# _target_test_label_accuracy = independent_accuracy_assesment(model, datasets.target.processed.test, p.device)\n",
    "# _source_val_label_accuracy = independent_accuracy_assesment(model, datasets.source.processed.val, p.device)\n",
    "# _target_val_label_accuracy = independent_accuracy_assesment(model, datasets.target.processed.val, p.device)\n",
    "\n",
    "# assert(_source_test_label_accuracy == source_test_label_accuracy)\n",
    "# assert(_target_test_label_accuracy == target_test_label_accuracy)\n",
    "# assert(_source_val_label_accuracy == source_val_label_accuracy)\n",
    "# assert(_target_val_label_accuracy == target_val_label_accuracy)\n",
    "\n",
    "###################################\n",
    "# Write out the results\n",
    "###################################\n",
    "\n",
    "experiment = {\n",
    "    \"experiment_name\": p.experiment_name,\n",
    "    \"parameters\": p,\n",
    "    \"results\": {\n",
    "        \"source_test_label_accuracy\": source_test_label_accuracy,\n",
    "        \"source_test_label_loss\": source_test_label_loss,\n",
    "        \"target_test_label_accuracy\": target_test_label_accuracy,\n",
    "        \"target_test_label_loss\": target_test_label_loss,\n",
    "        \"source_val_label_accuracy\": source_val_label_accuracy,\n",
    "        \"source_val_label_loss\": source_val_label_loss,\n",
    "        \"target_val_label_accuracy\": target_val_label_accuracy,\n",
    "        \"target_val_label_loss\": target_val_label_loss,\n",
    "        \"total_epochs_trained\": total_epochs_trained,\n",
    "        \"total_experiment_time_secs\": total_experiment_time_secs,\n",
    "        \"confusion\": confusion,\n",
    "        \"per_domain_accuracy\": per_domain_accuracy,\n",
    "    },\n",
    "    \"history\": history,\n",
    "    \"dataset_metrics\": get_dataset_metrics(datasets, \"cnn\"),\n",
    "}"
   ]
  },
  {
   "cell_type": "code",
   "execution_count": 16,
   "id": "74c318cf",
   "metadata": {
    "execution": {
     "iopub.execute_input": "2022-03-25T21:32:39.007211Z",
     "iopub.status.busy": "2022-03-25T21:32:38.992833Z",
     "iopub.status.idle": "2022-03-25T21:32:39.194384Z",
     "shell.execute_reply": "2022-03-25T21:32:39.195073Z"
    },
    "papermill": {
     "duration": 0.249287,
     "end_time": "2022-03-25T21:32:39.195282",
     "exception": false,
     "start_time": "2022-03-25T21:32:38.945995",
     "status": "completed"
    },
    "tags": []
   },
   "outputs": [
    {
     "data": {
      "text/plain": [
       "<AxesSubplot:title={'center':'Source Train Label Loss vs Source Val Label Loss'}, xlabel='Epoch'>"
      ]
     },
     "execution_count": 16,
     "metadata": {},
     "output_type": "execute_result"
    },
    {
     "data": {
      "image/png": "[encoded data removed]",
      "text/plain": [
       "<Figure size 1080x504 with 1 Axes>"
      ]
     },
     "metadata": {
      "needs_background": "light"
     },
     "output_type": "display_data"
    }
   ],
   "source": [
    "get_loss_curve(experiment)"
   ]
  },
  {
   "cell_type": "code",
   "execution_count": 17,
   "id": "59376601",
   "metadata": {
    "execution": {
     "iopub.execute_input": "2022-03-25T21:32:39.276366Z",
     "iopub.status.busy": "2022-03-25T21:32:39.269997Z",
     "iopub.status.idle": "2022-03-25T21:32:39.545070Z",
     "shell.execute_reply": "2022-03-25T21:32:39.545979Z"
    },
    "papermill": {
     "duration": 0.317313,
     "end_time": "2022-03-25T21:32:39.546292",
     "exception": false,
     "start_time": "2022-03-25T21:32:39.228979",
     "status": "completed"
    },
    "tags": []
   },
   "outputs": [
    {
     "data": {
      "text/plain": [
       "<AxesSubplot:title={'center':'Results'}>"
      ]
     },
     "execution_count": 17,
     "metadata": {},
     "output_type": "execute_result"
    },
    {
     "data": {
      "image/png": "[encoded data removed]",
      "text/plain": [
       "<Figure size 1080x504 with 1 Axes>"
      ]
     },
     "metadata": {
      "needs_background": "light"
     },
     "output_type": "display_data"
    }
   ],
   "source": [
    "get_results_table(experiment)"
   ]
  },
  {
   "cell_type": "code",
   "execution_count": 18,
   "id": "e80c5c98",
   "metadata": {
    "execution": {
     "iopub.execute_input": "2022-03-25T21:32:39.636759Z",
     "iopub.status.busy": "2022-03-25T21:32:39.631729Z",
     "iopub.status.idle": "2022-03-25T21:32:39.807003Z",
     "shell.execute_reply": "2022-03-25T21:32:39.807725Z"
    },
    "papermill": {
     "duration": 0.221026,
     "end_time": "2022-03-25T21:32:39.807944",
     "exception": false,
     "start_time": "2022-03-25T21:32:39.586918",
     "status": "completed"
    },
    "tags": []
   },
   "outputs": [
    {
     "data": {
      "text/plain": [
       "<AxesSubplot:title={'center':'Per Domain Accuracy'}, xlabel='domain'>"
      ]
     },
     "execution_count": 18,
     "metadata": {},
     "output_type": "execute_result"
    },
    {
     "data": {
      "image/png": "[encoded data removed]",
      "text/plain": [
       "<Figure size 1080x504 with 1 Axes>"
      ]
     },
     "metadata": {
      "needs_background": "light"
     },
     "output_type": "display_data"
    }
   ],
   "source": [
    "get_domain_accuracies(experiment)"
   ]
  },
  {
   "cell_type": "code",
   "execution_count": 19,
   "id": "086fdd10",
   "metadata": {
    "execution": {
     "iopub.execute_input": "2022-03-25T21:32:39.887671Z",
     "iopub.status.busy": "2022-03-25T21:32:39.887062Z",
     "iopub.status.idle": "2022-03-25T21:32:39.891242Z",
     "shell.execute_reply": "2022-03-25T21:32:39.891791Z"
    },
    "papermill": {
     "duration": 0.044638,
     "end_time": "2022-03-25T21:32:39.891957",
     "exception": false,
     "start_time": "2022-03-25T21:32:39.847319",
     "status": "completed"
    },
    "tags": []
   },
   "outputs": [
    {
     "name": "stdout",
     "output_type": "stream",
     "text": [
      "Source Test Label Accuracy: 0.6593055555555556 Target Test Label Accuracy: 0.08533333333333333\n",
      "Source Val Label Accuracy: 0.6601388888888889 Target Val Label Accuracy: 0.085625\n"
     ]
    }
   ],
   "source": [
    "print(\"Source Test Label Accuracy:\", experiment[\"results\"][\"source_test_label_accuracy\"], \"Target Test Label Accuracy:\", experiment[\"results\"][\"target_test_label_accuracy\"])\n",
    "print(\"Source Val Label Accuracy:\", experiment[\"results\"][\"source_val_label_accuracy\"], \"Target Val Label Accuracy:\", experiment[\"results\"][\"target_val_label_accuracy\"])"
   ]
  },
  {
   "cell_type": "code",
   "execution_count": 20,
   "id": "9f450536",
   "metadata": {
    "execution": {
     "iopub.execute_input": "2022-03-25T21:32:39.982525Z",
     "iopub.status.busy": "2022-03-25T21:32:39.982134Z",
     "iopub.status.idle": "2022-03-25T21:32:39.985453Z",
     "shell.execute_reply": "2022-03-25T21:32:39.985107Z"
    },
    "papermill": {
     "duration": 0.047184,
     "end_time": "2022-03-25T21:32:39.985541",
     "exception": false,
     "start_time": "2022-03-25T21:32:39.938357",
     "status": "completed"
    },
    "tags": [
     "experiment_json"
    ]
   },
   "outputs": [
    {
     "data": {
      "text/plain": [
       "'{\"experiment_name\": \"cnn_1:oracle.run1.framed\", \"parameters\": {\"experiment_name\": \"cnn_1:oracle.run1.framed\", \"labels\": [\"3123D52\", \"3123D65\", \"3123D79\", \"3123D80\", \"3123D54\", \"3123D70\", \"3123D7B\", \"3123D89\", \"3123D58\", \"3123D76\", \"3123D7D\", \"3123EFE\", \"3123D64\", \"3123D78\", \"3123D7E\", \"3124E4A\"], \"domains_source\": [8, 32, 50], \"domains_target\": [14, 20, 26, 38, 44], \"pickle_name_source\": \"oracle.Run1_framed_2000Examples_stratified_ds.2022A.pkl\", \"pickle_name_target\": \"oracle.Run1_framed_2000Examples_stratified_ds.2022A.pkl\", \"device\": \"cuda\", \"lr\": 0.0001, \"batch_size\": 128, \"normalize_source\": false, \"normalize_target\": false, \"num_examples_per_domain_per_label_source\": -1, \"num_examples_per_domain_per_label_target\": -1, \"torch_default_dtype\": \"torch.float32\", \"n_epoch\": 50, \"patience\": 3, \"criteria_for_best\": \"target_accuracy\", \"x_net\": [{\"class\": \"nnReshape\", \"kargs\": {\"shape\": [-1, 1, 2, 256]}}, {\"class\": \"Conv2d\", \"kargs\": {\"in_channels\": 1, \"out_channels\": 256, \"kernel_size\": [1, 7], \"bias\": false, \"padding\": [0, 3]}}, {\"class\": \"ReLU\", \"kargs\": {\"inplace\": true}}, {\"class\": \"BatchNorm2d\", \"kargs\": {\"num_features\": 256}}, {\"class\": \"Conv2d\", \"kargs\": {\"in_channels\": 256, \"out_channels\": 80, \"kernel_size\": [2, 7], \"bias\": true, \"padding\": [0, 3]}}, {\"class\": \"ReLU\", \"kargs\": {\"inplace\": true}}, {\"class\": \"BatchNorm2d\", \"kargs\": {\"num_features\": 80}}, {\"class\": \"Flatten\", \"kargs\": {}}, {\"class\": \"Linear\", \"kargs\": {\"in_features\": 20480, \"out_features\": 256}}, {\"class\": \"ReLU\", \"kargs\": {\"inplace\": true}}, {\"class\": \"BatchNorm1d\", \"kargs\": {\"num_features\": 256}}, {\"class\": \"Linear\", \"kargs\": {\"in_features\": 256, \"out_features\": 16}}], \"NUM_LOGS_PER_EPOCH\": 10, \"BEST_MODEL_PATH\": \"./best_model.pth\", \"dataset_seed\": 154325, \"seed\": 154325}, \"results\": {\"source_test_label_accuracy\": 0.6593055555555556, \"source_test_label_loss\": 1.3704770328724278, \"target_test_label_accuracy\": 0.08533333333333333, \"target_test_label_loss\": 5.305173678601042, \"source_val_label_accuracy\": 0.6601388888888889, \"source_val_label_loss\": 1.3705071020970303, \"target_val_label_accuracy\": 0.085625, \"target_val_label_loss\": 5.308254066933977, \"total_epochs_trained\": 5, \"total_experiment_time_secs\": 49.67141580581665, \"confusion\": {\"14\": {\"15\": {\"11\": 299, \"3\": 1}, \"7\": {\"3\": 300}, \"8\": {\"3\": 236, \"2\": 64}, \"11\": {\"2\": 108, \"7\": 62, \"12\": 126, \"6\": 4}, \"9\": {\"2\": 300}, \"6\": {\"3\": 300}, \"2\": {\"3\": 300}, \"4\": {\"3\": 300}, \"3\": {\"3\": 300}, \"14\": {\"3\": 300}, \"1\": {\"3\": 112, \"2\": 188}, \"0\": {\"3\": 300}, \"5\": {\"3\": 300}, \"12\": {\"9\": 216, \"2\": 84}, \"10\": {\"3\": 297, \"2\": 3}, \"13\": {\"3\": 300}}, \"8\": {\"9\": {\"9\": 300}, \"5\": {\"5\": 221, \"1\": 73, \"11\": 6}, \"13\": {\"10\": 233, \"5\": 37, \"6\": 19, \"15\": 8, \"13\": 3}, \"4\": {\"11\": 25, \"10\": 83, \"6\": 76, \"1\": 115, \"8\": 1}, \"14\": {\"11\": 77, \"1\": 110, \"14\": 60, \"10\": 44, \"8\": 2, \"6\": 6, \"4\": 1}, \"15\": {\"15\": 211, \"12\": 89}, \"1\": {\"11\": 47, \"1\": 248, \"5\": 5}, \"3\": {\"3\": 300}, \"7\": {\"15\": 44, \"6\": 196, \"7\": 45, \"13\": 6, \"10\": 5, \"1\": 2, \"2\": 1, \"5\": 1}, \"12\": {\"12\": 271, \"15\": 29}, \"6\": {\"6\": 191, \"10\": 64, \"1\": 32, \"7\": 10, \"13\": 2, \"8\": 1}, \"8\": {\"8\": 299, \"11\": 1}, \"11\": {\"1\": 137, \"11\": 162, \"5\": 1}, \"0\": {\"0\": 299, \"14\": 1}, \"10\": {\"5\": 170, \"10\": 93, \"1\": 37}, \"2\": {\"12\": 39, \"2\": 198, \"3\": 60, \"15\": 3}}, \"20\": {\"9\": {\"12\": 75, \"2\": 225}, \"5\": {\"12\": 93, \"2\": 188, \"15\": 19}, \"14\": {\"12\": 287, \"3\": 13}, \"11\": {\"3\": 217, \"2\": 83}, \"8\": {\"12\": 237, \"2\": 35, \"3\": 28}, \"3\": {\"2\": 163, \"12\": 135, \"15\": 2}, \"15\": {\"2\": 239, \"12\": 17, \"15\": 44}, \"4\": {\"12\": 300}, \"2\": {\"12\": 86, \"2\": 214}, \"7\": {\"2\": 136, \"12\": 164}, \"10\": {\"12\": 300}, \"6\": {\"12\": 299, \"2\": 1}, \"12\": {\"2\": 178, \"12\": 119, \"15\": 3}, \"13\": {\"2\": 295, \"12\": 5}, \"1\": {\"2\": 239, \"15\": 19, \"12\": 42}, \"0\": {\"2\": 244, \"15\": 16, \"3\": 40}}, \"38\": {\"8\": {\"15\": 179, \"4\": 74, \"5\": 12, \"9\": 29, \"11\": 5, \"0\": 1}, \"3\": {\"4\": 196, \"7\": 104}, \"13\": {\"4\": 294, \"7\": 6}, \"15\": {\"13\": 44, \"0\": 52, \"1\": 183, \"5\": 6, \"9\": 5, \"12\": 7, \"2\": 3}, \"5\": {\"15\": 114, \"4\": 20, \"9\": 127, \"5\": 14, \"0\": 10, \"11\": 4, \"12\": 5, \"13\": 3, \"1\": 3}, \"0\": {\"4\": 299, \"9\": 1}, \"9\": {\"9\": 300}, \"7\": {\"15\": 79, \"4\": 219, \"9\": 2}, \"12\": {\"15\": 300}, \"6\": {\"2\": 300}, \"4\": {\"4\": 300}, \"1\": {\"2\": 252, \"0\": 48}, \"10\": {\"4\": 300}, \"11\": {\"4\": 300}, \"2\": {\"7\": 300}, \"14\": {\"7\": 296, \"4\": 4}}, \"50\": {\"10\": {\"10\": 275, \"0\": 9, \"1\": 12, \"8\": 4}, \"0\": {\"0\": 265, \"2\": 13, \"10\": 22}, \"15\": {\"15\": 291, \"9\": 4, \"5\": 5}, \"9\": {\"9\": 285, \"15\": 10, \"12\": 5}, \"7\": {\"7\": 287, \"4\": 13}, \"4\": {\"4\": 277, \"15\": 4, \"7\": 16, \"9\": 1, \"5\": 2}, \"14\": {\"14\": 82, \"2\": 218}, \"1\": {\"1\": 161, \"13\": 102, \"0\": 30, \"2\": 7}, \"3\": {\"3\": 299, \"7\": 1}, \"13\": {\"13\": 283, \"1\": 17}, \"12\": {\"12\": 259, \"9\": 41}, \"5\": {\"4\": 19, \"7\": 187, \"15\": 11, \"5\": 71, \"1\": 2, \"13\": 10}, \"6\": {\"5\": 204, \"15\": 89, \"7\": 6, \"12\": 1}, \"8\": {\"8\": 107, \"1\": 193}, \"2\": {\"2\": 293, \"0\": 7}, \"11\": {\"15\": 149, \"12\": 17, \"9\": 126, \"5\": 5, \"11\": 3}}, \"26\": {\"15\": {\"6\": 121, \"3\": 85, \"9\": 90, \"12\": 4}, \"13\": {\"3\": 300}, \"4\": {\"3\": 300}, \"14\": {\"3\": 294, \"12\": 6}, \"5\": {\"9\": 227, \"6\": 66, \"3\": 5, \"11\": 2}, \"9\": {\"3\": 300}, \"1\": {\"3\": 179, \"12\": 121}, \"11\": {\"6\": 216, \"2\": 66, \"9\": 15, \"12\": 2, \"10\": 1}, \"12\": {\"9\": 262, \"3\": 38}, \"0\": {\"3\": 300}, \"2\": {\"3\": 300}, \"6\": {\"6\": 164, \"9\": 49, \"12\": 77, \"3\": 10}, \"3\": {\"3\": 300}, \"8\": {\"3\": 300}, \"7\": {\"3\": 300}, \"10\": {\"3\": 279, \"12\": 17, \"6\": 4}}, \"44\": {\"1\": {\"15\": 113, \"5\": 182, \"7\": 5}, \"7\": {\"15\": 292, \"7\": 4, \"9\": 4}, \"5\": {\"5\": 77, \"7\": 187, \"12\": 18, \"9\": 14, \"4\": 2, \"15\": 2}, \"9\": {\"4\": 81, \"15\": 207, \"9\": 6, \"7\": 6}, \"12\": {\"8\": 131, \"3\": 161, \"14\": 5, \"7\": 1, \"15\": 1, \"5\": 1}, \"3\": {\"14\": 143, \"8\": 133, \"2\": 5, \"13\": 19}, \"14\": {\"15\": 70, \"9\": 166, \"5\": 20, \"4\": 34, \"12\": 1, \"7\": 9}, \"13\": {\"4\": 300}, \"2\": {\"15\": 300}, \"6\": {\"4\": 245, \"15\": 55}, \"11\": {\"4\": 300}, \"0\": {\"2\": 48, \"0\": 51, \"12\": 195, \"13\": 1, \"8\": 1, \"1\": 4}, \"10\": {\"15\": 206, \"7\": 93, \"5\": 1}, \"4\": {\"15\": 73, \"4\": 162, \"9\": 62, \"5\": 3}, \"15\": {\"9\": 58, \"12\": 238, \"5\": 3, \"7\": 1}, \"8\": {\"12\": 267, \"7\": 2, \"3\": 3, \"0\": 7, \"2\": 20, \"6\": 1}}, \"32\": {\"2\": {\"2\": 252, \"14\": 48}, \"14\": {\"14\": 257, \"5\": 14, \"7\": 28, \"2\": 1}, \"6\": {\"6\": 300}, \"10\": {\"10\": 300}, \"4\": {\"14\": 62, \"2\": 195, \"13\": 43}, \"1\": {\"1\": 300}, \"0\": {\"0\": 107, \"14\": 132, \"15\": 6, \"5\": 47, \"7\": 3, \"8\": 4, \"9\": 1}, \"7\": {\"5\": 48, \"14\": 101, \"7\": 151}, \"12\": {\"2\": 4, \"12\": 213, \"10\": 81, \"9\": 2}, \"9\": {\"2\": 219, \"14\": 31, \"9\": 50}, \"13\": {\"13\": 206, \"3\": 67, \"11\": 9, \"14\": 11, \"2\": 6, \"8\": 1}, \"3\": {\"3\": 300}, \"8\": {\"5\": 71, \"15\": 123, \"14\": 9, \"8\": 93, \"0\": 4}, \"15\": {\"15\": 300}, \"11\": {\"11\": 300}, \"5\": {\"14\": 13, \"5\": 238, \"15\": 19, \"7\": 28, \"9\": 2}}}, \"per_domain_accuracy\": {\"14\": {\"accuracy\": 0.0625, \"source?\": false}, \"8\": {\"accuracy\": 0.604375, \"source?\": true}, \"20\": {\"accuracy\": 0.07854166666666666, \"source?\": false}, \"38\": {\"accuracy\": 0.12791666666666668, \"source?\": false}, \"50\": {\"accuracy\": 0.6745833333333333, \"source?\": true}, \"26\": {\"accuracy\": 0.09666666666666666, \"source?\": false}, \"44\": {\"accuracy\": 0.0625, \"source?\": false}, \"32\": {\"accuracy\": 0.7014583333333333, \"source?\": true}}}, \"history\": {\"epoch_indices\": [1, 2, 3, 4, 5], \"train_label_loss\": [2.01650169304439, 0.9849960798308963, 0.5420692859944843, 0.38615734333083745, 0.30342458486557006], \"source_val_label_loss\": [1.37069466472727, 0.6445144298857293, 0.408933761109293, 0.43280848755245716, 0.2722236854312694], \"target_val_label_loss\": [5.308003336825269, 7.304003674933251, 9.03230521019469, 10.242043282123323, 10.433091158562519], \"source_val_acc_label\": [0.6601388888888889, 0.8808333333333334, 0.9321527777777778, 0.8536805555555556, 0.9324305555555555], \"target_val_acc_label\": [0.085625, 0.06933333333333333, 0.07933333333333334, 0.07533333333333334, 0.08066666666666666]}, \"dataset_metrics\": {\"source\": {\"train\": {\"n_unique_x\": 67200, \"n_unique_y\": 16, \"n_batch/episode\": 525}, \"val\": {\"n_unique_x\": 14400, \"n_unique_y\": 16, \"n_batch/episode\": 113}, \"test\": {\"n_unique_x\": 14400, \"n_unique_y\": 16, \"n_batch/episode\": 113}}, \"target\": {\"train\": {\"n_unique_x\": 112000, \"n_unique_y\": 16, \"n_batch/episode\": 875}, \"val\": {\"n_unique_x\": 24000, \"n_unique_y\": 16, \"n_batch/episode\": 188}, \"test\": {\"n_unique_x\": 24000, \"n_unique_y\": 16, \"n_batch/episode\": 188}}}}'"
      ]
     },
     "execution_count": 20,
     "metadata": {},
     "output_type": "execute_result"
    }
   ],
   "source": [
    "json.dumps(experiment)"
   ]
  }
 ],
 "metadata": {
  "celltoolbar": "Tags",
  "kernelspec": {
   "display_name": "Python 3 (ipykernel)",
   "language": "python",
   "name": "python3"
  },
  "language_info": {
   "codemirror_mode": {
    "name": "ipython",
    "version": 3
   },
   "file_extension": ".py",
   "mimetype": "text/x-python",
   "name": "python",
   "nbconvert_exporter": "python",
   "pygments_lexer": "ipython3",
   "version": "3.8.12"
  },
  "papermill": {
   "default_parameters": {},
   "duration": 66.890688,
   "end_time": "2022-03-25T21:32:41.839700",
   "environment_variables": {},
   "exception": null,
   "input_path": "/root/csc500-main/csc500-notebooks/templates/cnn_template.ipynb",
   "output_path": "trial.ipynb",
   "parameters": {
    "parameters": {
     "BEST_MODEL_PATH": "./best_model.pth",
     "NUM_LOGS_PER_EPOCH": 10,
     "batch_size": 128,
     "criteria_for_best": "target_accuracy",
     "dataset_seed": 154325,
     "device": "cuda",
     "domains_source": [
      8,
      32,
      50
     ],
     "domains_target": [
      14,
      20,
      26,
      38,
      44
     ],
     "experiment_name": "cnn_1:oracle.run1.framed",
     "labels": [
      "3123D52",
      "3123D65",
      "3123D79",
      "3123D80",
      "3123D54",
      "3123D70",
      "3123D7B",
      "3123D89",
      "3123D58",
      "3123D76",
      "3123D7D",
      "3123EFE",
      "3123D64",
      "3123D78",
      "3123D7E",
      "3124E4A"
     ],
     "lr": 0.0001,
     "n_epoch": 50,
     "normalize_source": false,
     "normalize_target": false,
     "num_examples_per_domain_per_label_source": -1,
     "num_examples_per_domain_per_label_target": -1,
     "patience": 3,
     "pickle_name_source": "oracle.Run1_framed_2000Examples_stratified_ds.2022A.pkl",
     "pickle_name_target": "oracle.Run1_framed_2000Examples_stratified_ds.2022A.pkl",
     "seed": 154325,
     "torch_default_dtype": "torch.float32",
     "x_net": [
      {
       "class": "nnReshape",
       "kargs": {
        "shape": [
         -1,
         1,
         2,
         256
        ]
       }
      },
      {
       "class": "Conv2d",
       "kargs": {
        "bias": false,
        "in_channels": 1,
        "kernel_size": [
         1,
         7
        ],
        "out_channels": 256,
        "padding": [
         0,
         3
        ]
       }
      },
      {
       "class": "ReLU",
       "kargs": {
        "inplace": true
       }
      },
      {
       "class": "BatchNorm2d",
       "kargs": {
        "num_features": 256
       }
      },
      {
       "class": "Conv2d",
       "kargs": {
        "bias": true,
        "in_channels": 256,
        "kernel_size": [
         2,
         7
        ],
        "out_channels": 80,
        "padding": [
         0,
         3
        ]
       }
      },
      {
       "class": "ReLU",
       "kargs": {
        "inplace": true
       }
      },
      {
       "class": "BatchNorm2d",
       "kargs": {
        "num_features": 80
       }
      },
      {
       "class": "Flatten",
       "kargs": {}
      },
      {
       "class": "Linear",
       "kargs": {
        "in_features": 20480,
        "out_features": 256
       }
      },
      {
       "class": "ReLU",
       "kargs": {
        "inplace": true
       }
      },
      {
       "class": "BatchNorm1d",
       "kargs": {
        "num_features": 256
       }
      },
      {
       "class": "Linear",
       "kargs": {
        "in_features": 256,
        "out_features": 16
       }
      }
     ]
    }
   },
   "start_time": "2022-03-25T21:31:34.949012",
   "version": "2.3.4"
  }
 },
 "nbformat": 4,
 "nbformat_minor": 5
}