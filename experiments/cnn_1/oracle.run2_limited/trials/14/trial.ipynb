{
 "cells": [
  {
   "cell_type": "code",
   "execution_count": 1,
   "id": "2324682e",
   "metadata": {
    "execution": {
     "iopub.execute_input": "2022-03-26T02:03:29.071169Z",
     "iopub.status.busy": "2022-03-26T02:03:29.070303Z",
     "iopub.status.idle": "2022-03-26T02:03:30.394212Z",
     "shell.execute_reply": "2022-03-26T02:03:30.393354Z"
    },
    "papermill": {
     "duration": 1.36166,
     "end_time": "2022-03-26T02:03:30.394416",
     "exception": false,
     "start_time": "2022-03-26T02:03:29.032756",
     "status": "completed"
    },
    "tags": []
   },
   "outputs": [],
   "source": [
    "import os, json, sys, time, random\n",
    "import numpy as np\n",
    "import torch\n",
    "from  easydict import EasyDict\n",
    "from math import floor\n",
    "from easydict import EasyDict\n",
    "\n",
    "from steves_utils.vanilla_train_eval_test_jig import  Vanilla_Train_Eval_Test_Jig\n",
    "\n",
    "from steves_utils.torch_utils import get_dataset_metrics, independent_accuracy_assesment\n",
    "from steves_models.configurable_vanilla import Configurable_Vanilla\n",
    "from steves_utils.torch_sequential_builder import build_sequential\n",
    "from steves_utils.lazy_map import Lazy_Map\n",
    "from steves_utils.sequence_aggregator import Sequence_Aggregator\n",
    "\n",
    "from steves_utils.stratified_dataset.traditional_accessor import Traditional_Accessor_Factory\n",
    "\n",
    "from steves_utils.cnn_do_report import (\n",
    "    get_loss_curve,\n",
    "    get_results_table,\n",
    "    get_parameters_table,\n",
    "    get_domain_accuracies,\n",
    ")\n",
    "\n",
    "from steves_utils.torch_utils import (\n",
    "    confusion_by_domain_over_dataloader,\n",
    "    independent_accuracy_assesment\n",
    ")\n",
    "\n",
    "from steves_utils.utils_v2 import (\n",
    "    per_domain_accuracy_from_confusion,\n",
    "    get_datasets_base_path\n",
    ")\n",
    "\n",
    "# from steves_utils.ptn_do_report import TBD"
   ]
  },
  {
   "cell_type": "code",
   "execution_count": 2,
   "id": "1b29e3fe",
   "metadata": {
    "execution": {
     "iopub.execute_input": "2022-03-26T02:03:30.433904Z",
     "iopub.status.busy": "2022-03-26T02:03:30.433519Z",
     "iopub.status.idle": "2022-03-26T02:03:30.436068Z",
     "shell.execute_reply": "2022-03-26T02:03:30.435699Z"
    },
    "papermill": {
     "duration": 0.022149,
     "end_time": "2022-03-26T02:03:30.436151",
     "exception": false,
     "start_time": "2022-03-26T02:03:30.414002",
     "status": "completed"
    },
    "tags": []
   },
   "outputs": [],
   "source": [
    "required_parameters = {\n",
    "    \"experiment_name\",\n",
    "    \"lr\",\n",
    "    \"device\",\n",
    "    \"dataset_seed\",\n",
    "    \"seed\",\n",
    "    \"labels\",\n",
    "    \"domains_target\",\n",
    "    \"domains_source\",\n",
    "    \"num_examples_per_domain_per_label_source\",\n",
    "    \"num_examples_per_domain_per_label_target\",\n",
    "    \"batch_size\",\n",
    "    \"n_epoch\",\n",
    "    \"patience\",\n",
    "    \"criteria_for_best\",\n",
    "    \"normalize_source\",\n",
    "    \"normalize_target\",\n",
    "    \"x_net\",\n",
    "    \"NUM_LOGS_PER_EPOCH\",\n",
    "    \"BEST_MODEL_PATH\",\n",
    "    \"pickle_name_source\",\n",
    "    \"pickle_name_target\",\n",
    "    \"torch_default_dtype\",\n",
    "}"
   ]
  },
  {
   "cell_type": "code",
   "execution_count": 3,
   "id": "670b5fb8",
   "metadata": {
    "execution": {
     "iopub.execute_input": "2022-03-26T02:03:30.484718Z",
     "iopub.status.busy": "2022-03-26T02:03:30.483830Z",
     "iopub.status.idle": "2022-03-26T02:03:30.491655Z",
     "shell.execute_reply": "2022-03-26T02:03:30.490835Z"
    },
    "papermill": {
     "duration": 0.035436,
     "end_time": "2022-03-26T02:03:30.491810",
     "exception": false,
     "start_time": "2022-03-26T02:03:30.456374",
     "status": "completed"
    },
    "tags": [
     "parameters"
    ]
   },
   "outputs": [],
   "source": [
    "from steves_utils.ORACLE.utils_v2 import (\n",
    "    ALL_SERIAL_NUMBERS,\n",
    "    ALL_DISTANCES_FEET_NARROWED,\n",
    ")\n",
    "\n",
    "standalone_parameters = {}\n",
    "standalone_parameters[\"experiment_name\"] = \"MANUAL CORES CNN\"\n",
    "standalone_parameters[\"lr\"] = 0.0001\n",
    "standalone_parameters[\"device\"] = \"cuda\"\n",
    "\n",
    "standalone_parameters[\"dataset_seed\"] = 1337\n",
    "standalone_parameters[\"seed\"] = 1337\n",
    "standalone_parameters[\"labels\"] = ALL_SERIAL_NUMBERS\n",
    "\n",
    "standalone_parameters[\"domains_source\"] = [8,32,50]\n",
    "standalone_parameters[\"domains_target\"] = [14,20,26,38,44,]\n",
    "\n",
    "standalone_parameters[\"num_examples_per_domain_per_label_source\"]=-1\n",
    "standalone_parameters[\"num_examples_per_domain_per_label_target\"]=-1\n",
    "\n",
    "standalone_parameters[\"pickle_name_source\"] = \"oracle.Run1_framed_2000Examples_stratified_ds.2022A.pkl\"\n",
    "standalone_parameters[\"pickle_name_target\"] = \"oracle.Run2_framed_2000Examples_stratified_ds.2022A.pkl\"\n",
    "\n",
    "standalone_parameters[\"torch_default_dtype\"] = \"torch.float32\" \n",
    "\n",
    "standalone_parameters[\"batch_size\"]=128\n",
    "\n",
    "standalone_parameters[\"n_epoch\"] = 3\n",
    "\n",
    "standalone_parameters[\"patience\"] = 10\n",
    "\n",
    "standalone_parameters[\"criteria_for_best\"] = \"target_accuracy\"\n",
    "standalone_parameters[\"normalize_source\"] = False\n",
    "standalone_parameters[\"normalize_target\"] = False\n",
    "\n",
    "standalone_parameters[\"x_net\"] =     [\n",
    "    {\"class\": \"nnReshape\", \"kargs\": {\"shape\":[-1, 1, 2, 256]}},\n",
    "    {\"class\": \"Conv2d\", \"kargs\": { \"in_channels\":1, \"out_channels\":256, \"kernel_size\":(1,7), \"bias\":False, \"padding\":(0,3), },},\n",
    "    {\"class\": \"ReLU\", \"kargs\": {\"inplace\": True}},\n",
    "    {\"class\": \"BatchNorm2d\", \"kargs\": {\"num_features\":256}},\n",
    "\n",
    "    {\"class\": \"Conv2d\", \"kargs\": { \"in_channels\":256, \"out_channels\":80, \"kernel_size\":(2,7), \"bias\":True, \"padding\":(0,3), },},\n",
    "    {\"class\": \"ReLU\", \"kargs\": {\"inplace\": True}},\n",
    "    {\"class\": \"BatchNorm2d\", \"kargs\": {\"num_features\":80}},\n",
    "    {\"class\": \"Flatten\", \"kargs\": {}},\n",
    "\n",
    "    {\"class\": \"Linear\", \"kargs\": {\"in_features\": 80*256, \"out_features\": 256}}, # 80 units per IQ pair\n",
    "    {\"class\": \"ReLU\", \"kargs\": {\"inplace\": True}},\n",
    "    {\"class\": \"BatchNorm1d\", \"kargs\": {\"num_features\":256}},\n",
    "\n",
    "    {\"class\": \"Linear\", \"kargs\": {\"in_features\": 256, \"out_features\": len(standalone_parameters[\"labels\"])}},\n",
    "]\n",
    "\n",
    "standalone_parameters[\"NUM_LOGS_PER_EPOCH\"] = 10\n",
    "standalone_parameters[\"BEST_MODEL_PATH\"] = \"./best_model.pth\""
   ]
  },
  {
   "cell_type": "code",
   "execution_count": 4,
   "id": "58378258",
   "metadata": {
    "execution": {
     "iopub.execute_input": "2022-03-26T02:03:30.543475Z",
     "iopub.status.busy": "2022-03-26T02:03:30.542581Z",
     "iopub.status.idle": "2022-03-26T02:03:30.545494Z",
     "shell.execute_reply": "2022-03-26T02:03:30.544697Z"
    },
    "papermill": {
     "duration": 0.0312,
     "end_time": "2022-03-26T02:03:30.545646",
     "exception": false,
     "start_time": "2022-03-26T02:03:30.514446",
     "status": "completed"
    },
    "tags": [
     "injected-parameters"
    ]
   },
   "outputs": [],
   "source": [
    "# Parameters\n",
    "parameters = {\n",
    "    \"experiment_name\": \"cnn_1:oracle.run2_limited\",\n",
    "    \"labels\": [\n",
    "        \"3123D52\",\n",
    "        \"3123D65\",\n",
    "        \"3123D79\",\n",
    "        \"3123D80\",\n",
    "        \"3123D54\",\n",
    "        \"3123D70\",\n",
    "        \"3123D7B\",\n",
    "        \"3123D89\",\n",
    "        \"3123D58\",\n",
    "        \"3123D76\",\n",
    "        \"3123D7D\",\n",
    "        \"3123EFE\",\n",
    "        \"3123D64\",\n",
    "        \"3123D78\",\n",
    "        \"3123D7E\",\n",
    "        \"3124E4A\",\n",
    "    ],\n",
    "    \"domains_source\": [8, 32, 50],\n",
    "    \"domains_target\": [14, 20, 26, 38, 44],\n",
    "    \"pickle_name_source\": \"oracle.Run2_10kExamples_stratified_ds.2022A.pkl\",\n",
    "    \"pickle_name_target\": \"oracle.Run2_10kExamples_stratified_ds.2022A.pkl\",\n",
    "    \"device\": \"cuda\",\n",
    "    \"lr\": 0.0001,\n",
    "    \"batch_size\": 128,\n",
    "    \"normalize_source\": False,\n",
    "    \"normalize_target\": False,\n",
    "    \"num_examples_per_domain_per_label_source\": 2000,\n",
    "    \"num_examples_per_domain_per_label_target\": 2000,\n",
    "    \"torch_default_dtype\": \"torch.float32\",\n",
    "    \"n_epoch\": 50,\n",
    "    \"patience\": 3,\n",
    "    \"criteria_for_best\": \"target_accuracy\",\n",
    "    \"x_net\": [\n",
    "        {\"class\": \"nnReshape\", \"kargs\": {\"shape\": [-1, 1, 2, 256]}},\n",
    "        {\n",
    "            \"class\": \"Conv2d\",\n",
    "            \"kargs\": {\n",
    "                \"in_channels\": 1,\n",
    "                \"out_channels\": 256,\n",
    "                \"kernel_size\": [1, 7],\n",
    "                \"bias\": False,\n",
    "                \"padding\": [0, 3],\n",
    "            },\n",
    "        },\n",
    "        {\"class\": \"ReLU\", \"kargs\": {\"inplace\": True}},\n",
    "        {\"class\": \"BatchNorm2d\", \"kargs\": {\"num_features\": 256}},\n",
    "        {\n",
    "            \"class\": \"Conv2d\",\n",
    "            \"kargs\": {\n",
    "                \"in_channels\": 256,\n",
    "                \"out_channels\": 80,\n",
    "                \"kernel_size\": [2, 7],\n",
    "                \"bias\": True,\n",
    "                \"padding\": [0, 3],\n",
    "            },\n",
    "        },\n",
    "        {\"class\": \"ReLU\", \"kargs\": {\"inplace\": True}},\n",
    "        {\"class\": \"BatchNorm2d\", \"kargs\": {\"num_features\": 80}},\n",
    "        {\"class\": \"Flatten\", \"kargs\": {}},\n",
    "        {\"class\": \"Linear\", \"kargs\": {\"in_features\": 20480, \"out_features\": 256}},\n",
    "        {\"class\": \"ReLU\", \"kargs\": {\"inplace\": True}},\n",
    "        {\"class\": \"BatchNorm1d\", \"kargs\": {\"num_features\": 256}},\n",
    "        {\"class\": \"Linear\", \"kargs\": {\"in_features\": 256, \"out_features\": 16}},\n",
    "    ],\n",
    "    \"NUM_LOGS_PER_EPOCH\": 10,\n",
    "    \"BEST_MODEL_PATH\": \"./best_model.pth\",\n",
    "    \"dataset_seed\": 7,\n",
    "    \"seed\": 7,\n",
    "}\n"
   ]
  },
  {
   "cell_type": "code",
   "execution_count": 5,
   "id": "759b56ec",
   "metadata": {
    "execution": {
     "iopub.execute_input": "2022-03-26T02:03:30.583889Z",
     "iopub.status.busy": "2022-03-26T02:03:30.583496Z",
     "iopub.status.idle": "2022-03-26T02:03:30.586842Z",
     "shell.execute_reply": "2022-03-26T02:03:30.586139Z"
    },
    "papermill": {
     "duration": 0.023957,
     "end_time": "2022-03-26T02:03:30.586999",
     "exception": false,
     "start_time": "2022-03-26T02:03:30.563042",
     "status": "completed"
    },
    "tags": []
   },
   "outputs": [],
   "source": [
    "# Set this to True if you want to run this template directly\n",
    "STANDALONE = False\n",
    "if STANDALONE:\n",
    "    print(\"parameters not injected, running with standalone_parameters\")\n",
    "    parameters = standalone_parameters\n",
    "\n",
    "if not 'parameters' in locals() and not 'parameters' in globals():\n",
    "    raise Exception(\"Parameter injection failed\")\n",
    "\n",
    "#Use an easy dict for all the parameters\n",
    "p = EasyDict(parameters)\n",
    "\n",
    "supplied_keys = set(p.keys())\n",
    "\n",
    "if  supplied_keys != required_parameters:\n",
    "    print(\"Parameters are incorrect\")\n",
    "    if len(supplied_keys - required_parameters)>0: print(\"Shouldn't have:\", str(supplied_keys - required_parameters))\n",
    "    if len(required_parameters - supplied_keys)>0: print(\"Need to have:\", str(required_parameters - supplied_keys))\n",
    "    raise RuntimeError(\"Parameters are incorrect\")\n",
    "\n"
   ]
  },
  {
   "cell_type": "code",
   "execution_count": 6,
   "id": "d5c66a71",
   "metadata": {
    "execution": {
     "iopub.execute_input": "2022-03-26T02:03:30.624836Z",
     "iopub.status.busy": "2022-03-26T02:03:30.624470Z",
     "iopub.status.idle": "2022-03-26T02:03:30.628327Z",
     "shell.execute_reply": "2022-03-26T02:03:30.627902Z"
    },
    "papermill": {
     "duration": 0.02255,
     "end_time": "2022-03-26T02:03:30.628479",
     "exception": false,
     "start_time": "2022-03-26T02:03:30.605929",
     "status": "completed"
    },
    "tags": []
   },
   "outputs": [],
   "source": [
    "###################################\n",
    "# Set the RNGs and make it all deterministic\n",
    "###################################\n",
    "np.random.seed(p.seed)\n",
    "random.seed(p.seed)\n",
    "torch.manual_seed(p.seed)\n",
    "\n",
    "torch.use_deterministic_algorithms(True) "
   ]
  },
  {
   "cell_type": "code",
   "execution_count": 7,
   "id": "92a65876",
   "metadata": {
    "execution": {
     "iopub.execute_input": "2022-03-26T02:03:30.667498Z",
     "iopub.status.busy": "2022-03-26T02:03:30.667133Z",
     "iopub.status.idle": "2022-03-26T02:03:30.669189Z",
     "shell.execute_reply": "2022-03-26T02:03:30.669493Z"
    },
    "papermill": {
     "duration": 0.02045,
     "end_time": "2022-03-26T02:03:30.669574",
     "exception": false,
     "start_time": "2022-03-26T02:03:30.649124",
     "status": "completed"
    },
    "tags": []
   },
   "outputs": [],
   "source": [
    "torch.set_default_dtype(eval(p.torch_default_dtype))"
   ]
  },
  {
   "cell_type": "code",
   "execution_count": 8,
   "id": "f1a32f01",
   "metadata": {
    "execution": {
     "iopub.execute_input": "2022-03-26T02:03:30.704501Z",
     "iopub.status.busy": "2022-03-26T02:03:30.703972Z",
     "iopub.status.idle": "2022-03-26T02:03:30.744683Z",
     "shell.execute_reply": "2022-03-26T02:03:30.743893Z"
    },
    "papermill": {
     "duration": 0.058515,
     "end_time": "2022-03-26T02:03:30.744863",
     "exception": false,
     "start_time": "2022-03-26T02:03:30.686348",
     "status": "completed"
    },
    "tags": []
   },
   "outputs": [],
   "source": [
    "###################################\n",
    "# Build the network(s)\n",
    "# Note: It's critical to do this AFTER setting the RNG\n",
    "###################################\n",
    "x_net = build_sequential(p.x_net)"
   ]
  },
  {
   "cell_type": "code",
   "execution_count": 9,
   "id": "a276cd83",
   "metadata": {
    "execution": {
     "iopub.execute_input": "2022-03-26T02:03:30.784743Z",
     "iopub.status.busy": "2022-03-26T02:03:30.784379Z",
     "iopub.status.idle": "2022-03-26T02:03:30.786899Z",
     "shell.execute_reply": "2022-03-26T02:03:30.786583Z"
    },
    "papermill": {
     "duration": 0.02097,
     "end_time": "2022-03-26T02:03:30.786968",
     "exception": false,
     "start_time": "2022-03-26T02:03:30.765998",
     "status": "completed"
    },
    "tags": []
   },
   "outputs": [],
   "source": [
    "start_time_secs = time.time()"
   ]
  },
  {
   "cell_type": "code",
   "execution_count": 10,
   "id": "de702e48",
   "metadata": {
    "execution": {
     "iopub.execute_input": "2022-03-26T02:03:30.834882Z",
     "iopub.status.busy": "2022-03-26T02:03:30.827870Z",
     "iopub.status.idle": "2022-03-26T02:03:39.584767Z",
     "shell.execute_reply": "2022-03-26T02:03:39.583983Z"
    },
    "papermill": {
     "duration": 8.779363,
     "end_time": "2022-03-26T02:03:39.584944",
     "exception": false,
     "start_time": "2022-03-26T02:03:30.805581",
     "status": "completed"
    },
    "tags": []
   },
   "outputs": [],
   "source": [
    "def wrap_in_dataloader(p, ds):\n",
    "    return torch.utils.data.DataLoader(\n",
    "        ds,\n",
    "        batch_size=p.batch_size,\n",
    "        shuffle=True,\n",
    "        num_workers=1,\n",
    "        persistent_workers=True,\n",
    "        prefetch_factor=50,\n",
    "        pin_memory=True\n",
    "    )\n",
    "\n",
    "taf_source = Traditional_Accessor_Factory(\n",
    "    labels=p.labels,\n",
    "    domains=p.domains_source,\n",
    "    num_examples_per_domain_per_label=p.num_examples_per_domain_per_label_source,\n",
    "    pickle_path=os.path.join(get_datasets_base_path(), p.pickle_name_source),\n",
    "    seed=p.dataset_seed\n",
    ")\n",
    "train_original_source, val_original_source, test_original_source = \\\n",
    "    taf_source.get_train(), taf_source.get_val(), taf_source.get_test()\n",
    "\n",
    "\n",
    "taf_target = Traditional_Accessor_Factory(\n",
    "    labels=p.labels,\n",
    "    domains=p.domains_target,\n",
    "    num_examples_per_domain_per_label=p.num_examples_per_domain_per_label_source,\n",
    "    pickle_path=os.path.join(get_datasets_base_path(), p.pickle_name_target),\n",
    "    seed=p.dataset_seed\n",
    ")\n",
    "train_original_target, val_original_target, test_original_target = \\\n",
    "    taf_target.get_train(), taf_target.get_val(), taf_target.get_test()\n",
    "\n",
    "\n",
    "# For CNN We only use X and Y. And we only train on the source.\n",
    "# Properly form the data using a transform lambda and Lazy_Map. Finally wrap them in a dataloader\n",
    "\n",
    "transform_lambda = lambda ex: ex[:2] # Strip the tuple to just (x,y)\n",
    "\n",
    "\n",
    "train_processed_source = wrap_in_dataloader(\n",
    "    p,\n",
    "    Lazy_Map(train_original_source, transform_lambda)\n",
    ")\n",
    "val_processed_source = wrap_in_dataloader(\n",
    "    p,\n",
    "    Lazy_Map(val_original_source, transform_lambda)\n",
    ")\n",
    "test_processed_source = wrap_in_dataloader(\n",
    "    p,\n",
    "    Lazy_Map(test_original_source, transform_lambda)\n",
    ")\n",
    "\n",
    "train_processed_target = wrap_in_dataloader(\n",
    "    p,\n",
    "    Lazy_Map(train_original_target, transform_lambda)\n",
    ")\n",
    "val_processed_target = wrap_in_dataloader(\n",
    "    p,\n",
    "    Lazy_Map(val_original_target, transform_lambda)\n",
    ")\n",
    "test_processed_target  = wrap_in_dataloader(\n",
    "    p,\n",
    "    Lazy_Map(test_original_target, transform_lambda)\n",
    ")\n",
    "\n",
    "\n",
    "\n",
    "datasets = EasyDict({\n",
    "    \"source\": {\n",
    "        \"original\": {\"train\":train_original_source, \"val\":val_original_source, \"test\":test_original_source},\n",
    "        \"processed\": {\"train\":train_processed_source, \"val\":val_processed_source, \"test\":test_processed_source}\n",
    "    },\n",
    "    \"target\": {\n",
    "        \"original\": {\"train\":train_original_target, \"val\":val_original_target, \"test\":test_original_target},\n",
    "        \"processed\": {\"train\":train_processed_target, \"val\":val_processed_target, \"test\":test_processed_target}\n",
    "    },\n",
    "})"
   ]
  },
  {
   "cell_type": "code",
   "execution_count": 11,
   "id": "a11b26bd",
   "metadata": {
    "execution": {
     "iopub.execute_input": "2022-03-26T02:03:39.663209Z",
     "iopub.status.busy": "2022-03-26T02:03:39.662383Z",
     "iopub.status.idle": "2022-03-26T02:03:45.288765Z",
     "shell.execute_reply": "2022-03-26T02:03:45.287900Z"
    },
    "papermill": {
     "duration": 5.684876,
     "end_time": "2022-03-26T02:03:45.288943",
     "exception": false,
     "start_time": "2022-03-26T02:03:39.604067",
     "status": "completed"
    },
    "tags": []
   },
   "outputs": [
    {
     "data": {
      "text/plain": [
       "torch.float32"
      ]
     },
     "execution_count": 11,
     "metadata": {},
     "output_type": "execute_result"
    }
   ],
   "source": [
    "ep = next(iter(test_processed_target))\n",
    "ep[0].dtype"
   ]
  },
  {
   "cell_type": "code",
   "execution_count": 12,
   "id": "19425fad",
   "metadata": {
    "execution": {
     "iopub.execute_input": "2022-03-26T02:03:45.346587Z",
     "iopub.status.busy": "2022-03-26T02:03:45.327679Z",
     "iopub.status.idle": "2022-03-26T02:03:45.394147Z",
     "shell.execute_reply": "2022-03-26T02:03:45.393304Z"
    },
    "papermill": {
     "duration": 0.085349,
     "end_time": "2022-03-26T02:03:45.394319",
     "exception": false,
     "start_time": "2022-03-26T02:03:45.308970",
     "status": "completed"
    },
    "tags": []
   },
   "outputs": [],
   "source": [
    "model = Configurable_Vanilla(\n",
    "    x_net=x_net,\n",
    "    label_loss_object=torch.nn.NLLLoss(),\n",
    "    learning_rate=p.lr\n",
    ")"
   ]
  },
  {
   "cell_type": "code",
   "execution_count": 13,
   "id": "7f6d4f2c",
   "metadata": {
    "execution": {
     "iopub.execute_input": "2022-03-26T02:03:45.438695Z",
     "iopub.status.busy": "2022-03-26T02:03:45.438320Z",
     "iopub.status.idle": "2022-03-26T02:04:45.524984Z",
     "shell.execute_reply": "2022-03-26T02:04:45.524273Z"
    },
    "papermill": {
     "duration": 60.109672,
     "end_time": "2022-03-26T02:04:45.525163",
     "exception": false,
     "start_time": "2022-03-26T02:03:45.415491",
     "status": "completed"
    },
    "tags": []
   },
   "outputs": [
    {
     "name": "stdout",
     "output_type": "stream",
     "text": [
      "epoch: 1, [batch: 1 / 525], examples_per_second: 859.5683, train_label_loss: 2.7876, \n"
     ]
    },
    {
     "name": "stdout",
     "output_type": "stream",
     "text": [
      "epoch: 1, [batch: 53 / 525], examples_per_second: 10607.3517, train_label_loss: 2.6548, \n"
     ]
    },
    {
     "name": "stdout",
     "output_type": "stream",
     "text": [
      "epoch: 1, [batch: 105 / 525], examples_per_second: 10677.6195, train_label_loss: 2.4717, \n"
     ]
    },
    {
     "name": "stdout",
     "output_type": "stream",
     "text": [
      "epoch: 1, [batch: 158 / 525], examples_per_second: 10732.6311, train_label_loss: 2.4839, \n"
     ]
    },
    {
     "name": "stdout",
     "output_type": "stream",
     "text": [
      "epoch: 1, [batch: 210 / 525], examples_per_second: 10630.0952, train_label_loss: 2.4117, \n"
     ]
    },
    {
     "name": "stdout",
     "output_type": "stream",
     "text": [
      "epoch: 1, [batch: 263 / 525], examples_per_second: 10594.6030, train_label_loss: 2.2819, \n"
     ]
    },
    {
     "name": "stdout",
     "output_type": "stream",
     "text": [
      "epoch: 1, [batch: 315 / 525], examples_per_second: 10650.3922, train_label_loss: 2.3017, \n"
     ]
    },
    {
     "name": "stdout",
     "output_type": "stream",
     "text": [
      "epoch: 1, [batch: 367 / 525], examples_per_second: 10648.4911, train_label_loss: 2.2838, \n"
     ]
    },
    {
     "name": "stdout",
     "output_type": "stream",
     "text": [
      "epoch: 1, [batch: 420 / 525], examples_per_second: 10728.6491, train_label_loss: 2.2255, \n"
     ]
    },
    {
     "name": "stdout",
     "output_type": "stream",
     "text": [
      "epoch: 1, [batch: 472 / 525], examples_per_second: 10448.1414, train_label_loss: 2.3464, \n"
     ]
    },
    {
     "name": "stdout",
     "output_type": "stream",
     "text": [
      "=============================================================\n",
      "epoch: 1, source_val_acc_label: 0.2757, source_val_label_loss: 2.0926, target_val_acc_label: 0.0660, target_val_label_loss: 4.1748, \n",
      "=============================================================\n"
     ]
    },
    {
     "name": "stdout",
     "output_type": "stream",
     "text": [
      "New best\n",
      "epoch: 2, [batch: 1 / 525], examples_per_second: 98.7499, train_label_loss: 2.1979, \n"
     ]
    },
    {
     "name": "stdout",
     "output_type": "stream",
     "text": [
      "epoch: 2, [batch: 53 / 525], examples_per_second: 10454.4876, train_label_loss: 1.9964, \n"
     ]
    },
    {
     "name": "stdout",
     "output_type": "stream",
     "text": [
      "epoch: 2, [batch: 105 / 525], examples_per_second: 10679.7639, train_label_loss: 2.0620, \n"
     ]
    },
    {
     "name": "stdout",
     "output_type": "stream",
     "text": [
      "epoch: 2, [batch: 158 / 525], examples_per_second: 10610.4571, train_label_loss: 1.8541, \n"
     ]
    },
    {
     "name": "stdout",
     "output_type": "stream",
     "text": [
      "epoch: 2, [batch: 210 / 525], examples_per_second: 10715.8505, train_label_loss: 1.8869, \n"
     ]
    },
    {
     "name": "stdout",
     "output_type": "stream",
     "text": [
      "epoch: 2, [batch: 263 / 525], examples_per_second: 10691.0674, train_label_loss: 1.7700, \n"
     ]
    },
    {
     "name": "stdout",
     "output_type": "stream",
     "text": [
      "epoch: 2, [batch: 315 / 525], examples_per_second: 10666.3353, train_label_loss: 1.7792, \n"
     ]
    },
    {
     "name": "stdout",
     "output_type": "stream",
     "text": [
      "epoch: 2, [batch: 367 / 525], examples_per_second: 10386.7728, train_label_loss: 1.7141, \n"
     ]
    },
    {
     "name": "stdout",
     "output_type": "stream",
     "text": [
      "epoch: 2, [batch: 420 / 525], examples_per_second: 10590.9750, train_label_loss: 1.5378, \n"
     ]
    },
    {
     "name": "stdout",
     "output_type": "stream",
     "text": [
      "epoch: 2, [batch: 472 / 525], examples_per_second: 10727.8004, train_label_loss: 1.6338, \n"
     ]
    },
    {
     "name": "stdout",
     "output_type": "stream",
     "text": [
      "=============================================================\n",
      "epoch: 2, source_val_acc_label: 0.4102, source_val_label_loss: 1.6725, target_val_acc_label: 0.0676, target_val_label_loss: 5.7951, \n",
      "=============================================================\n"
     ]
    },
    {
     "name": "stdout",
     "output_type": "stream",
     "text": [
      "New best\n",
      "epoch: 3, [batch: 1 / 525], examples_per_second: 118.6795, train_label_loss: 1.5395, \n"
     ]
    },
    {
     "name": "stdout",
     "output_type": "stream",
     "text": [
      "epoch: 3, [batch: 53 / 525], examples_per_second: 10384.4894, train_label_loss: 1.5264, \n"
     ]
    },
    {
     "name": "stdout",
     "output_type": "stream",
     "text": [
      "epoch: 3, [batch: 105 / 525], examples_per_second: 10693.0585, train_label_loss: 1.4866, \n"
     ]
    },
    {
     "name": "stdout",
     "output_type": "stream",
     "text": [
      "epoch: 3, [batch: 158 / 525], examples_per_second: 10569.9739, train_label_loss: 1.3634, \n"
     ]
    },
    {
     "name": "stdout",
     "output_type": "stream",
     "text": [
      "epoch: 3, [batch: 210 / 525], examples_per_second: 10520.5572, train_label_loss: 1.3186, \n"
     ]
    },
    {
     "name": "stdout",
     "output_type": "stream",
     "text": [
      "epoch: 3, [batch: 263 / 525], examples_per_second: 10611.1694, train_label_loss: 1.3890, \n"
     ]
    },
    {
     "name": "stdout",
     "output_type": "stream",
     "text": [
      "epoch: 3, [batch: 315 / 525], examples_per_second: 10683.0089, train_label_loss: 1.3459, \n"
     ]
    },
    {
     "name": "stdout",
     "output_type": "stream",
     "text": [
      "epoch: 3, [batch: 367 / 525], examples_per_second: 10699.3696, train_label_loss: 1.3355, \n"
     ]
    },
    {
     "name": "stdout",
     "output_type": "stream",
     "text": [
      "epoch: 3, [batch: 420 / 525], examples_per_second: 10606.3438, train_label_loss: 1.4213, \n"
     ]
    },
    {
     "name": "stdout",
     "output_type": "stream",
     "text": [
      "epoch: 3, [batch: 472 / 525], examples_per_second: 10421.2301, train_label_loss: 1.3951, \n"
     ]
    },
    {
     "name": "stdout",
     "output_type": "stream",
     "text": [
      "=============================================================\n",
      "epoch: 3, source_val_acc_label: 0.5874, source_val_label_loss: 1.2774, target_val_acc_label: 0.0746, target_val_label_loss: 7.1123, \n",
      "=============================================================\n"
     ]
    },
    {
     "name": "stdout",
     "output_type": "stream",
     "text": [
      "New best\n",
      "epoch: 4, [batch: 1 / 525], examples_per_second: 119.8399, train_label_loss: 1.1707, \n"
     ]
    },
    {
     "name": "stdout",
     "output_type": "stream",
     "text": [
      "epoch: 4, [batch: 53 / 525], examples_per_second: 10402.1955, train_label_loss: 1.0570, \n"
     ]
    },
    {
     "name": "stdout",
     "output_type": "stream",
     "text": [
      "epoch: 4, [batch: 105 / 525], examples_per_second: 10664.5547, train_label_loss: 1.0814, \n"
     ]
    },
    {
     "name": "stdout",
     "output_type": "stream",
     "text": [
      "epoch: 4, [batch: 158 / 525], examples_per_second: 10493.6062, train_label_loss: 1.1016, \n"
     ]
    },
    {
     "name": "stdout",
     "output_type": "stream",
     "text": [
      "epoch: 4, [batch: 210 / 525], examples_per_second: 10512.9624, train_label_loss: 1.2270, \n"
     ]
    },
    {
     "name": "stdout",
     "output_type": "stream",
     "text": [
      "epoch: 4, [batch: 263 / 525], examples_per_second: 10681.8244, train_label_loss: 1.0149, \n"
     ]
    },
    {
     "name": "stdout",
     "output_type": "stream",
     "text": [
      "epoch: 4, [batch: 315 / 525], examples_per_second: 10609.9116, train_label_loss: 1.0235, \n"
     ]
    },
    {
     "name": "stdout",
     "output_type": "stream",
     "text": [
      "epoch: 4, [batch: 367 / 525], examples_per_second: 10467.3368, train_label_loss: 0.9921, \n"
     ]
    },
    {
     "name": "stdout",
     "output_type": "stream",
     "text": [
      "epoch: 4, [batch: 420 / 525], examples_per_second: 10660.6016, train_label_loss: 0.9797, \n"
     ]
    },
    {
     "name": "stdout",
     "output_type": "stream",
     "text": [
      "epoch: 4, [batch: 472 / 525], examples_per_second: 10732.6793, train_label_loss: 1.1694, \n"
     ]
    },
    {
     "name": "stdout",
     "output_type": "stream",
     "text": [
      "=============================================================\n",
      "epoch: 4, source_val_acc_label: 0.6360, source_val_label_loss: 1.1003, target_val_acc_label: 0.0747, target_val_label_loss: 8.3773, \n",
      "=============================================================\n"
     ]
    },
    {
     "name": "stdout",
     "output_type": "stream",
     "text": [
      "New best\n",
      "epoch: 5, [batch: 1 / 525], examples_per_second: 127.4374, train_label_loss: 1.0917, \n"
     ]
    },
    {
     "name": "stdout",
     "output_type": "stream",
     "text": [
      "epoch: 5, [batch: 53 / 525], examples_per_second: 11414.7847, train_label_loss: 0.8178, \n"
     ]
    },
    {
     "name": "stdout",
     "output_type": "stream",
     "text": [
      "epoch: 5, [batch: 105 / 525], examples_per_second: 11614.1286, train_label_loss: 0.9976, \n"
     ]
    },
    {
     "name": "stdout",
     "output_type": "stream",
     "text": [
      "epoch: 5, [batch: 158 / 525], examples_per_second: 11550.7572, train_label_loss: 1.0172, \n"
     ]
    },
    {
     "name": "stdout",
     "output_type": "stream",
     "text": [
      "epoch: 5, [batch: 210 / 525], examples_per_second: 11605.8916, train_label_loss: 0.7763, \n"
     ]
    },
    {
     "name": "stdout",
     "output_type": "stream",
     "text": [
      "epoch: 5, [batch: 263 / 525], examples_per_second: 11489.9399, train_label_loss: 0.9029, \n"
     ]
    },
    {
     "name": "stdout",
     "output_type": "stream",
     "text": [
      "epoch: 5, [batch: 315 / 525], examples_per_second: 11525.5771, train_label_loss: 0.9322, \n"
     ]
    },
    {
     "name": "stdout",
     "output_type": "stream",
     "text": [
      "epoch: 5, [batch: 367 / 525], examples_per_second: 11531.0994, train_label_loss: 0.8248, \n"
     ]
    },
    {
     "name": "stdout",
     "output_type": "stream",
     "text": [
      "epoch: 5, [batch: 420 / 525], examples_per_second: 11559.1424, train_label_loss: 0.7918, \n"
     ]
    },
    {
     "name": "stdout",
     "output_type": "stream",
     "text": [
      "epoch: 5, [batch: 472 / 525], examples_per_second: 11644.8086, train_label_loss: 0.8621, \n"
     ]
    },
    {
     "name": "stdout",
     "output_type": "stream",
     "text": [
      "=============================================================\n",
      "epoch: 5, source_val_acc_label: 0.6369, source_val_label_loss: 1.0506, target_val_acc_label: 0.0624, target_val_label_loss: 8.8157, \n",
      "=============================================================\n"
     ]
    },
    {
     "name": "stdout",
     "output_type": "stream",
     "text": [
      "epoch: 6, [batch: 1 / 525], examples_per_second: 136.9273, train_label_loss: 0.7869, \n"
     ]
    },
    {
     "name": "stdout",
     "output_type": "stream",
     "text": [
      "epoch: 6, [batch: 53 / 525], examples_per_second: 11632.2758, train_label_loss: 0.6126, \n"
     ]
    },
    {
     "name": "stdout",
     "output_type": "stream",
     "text": [
      "epoch: 6, [batch: 105 / 525], examples_per_second: 11731.9787, train_label_loss: 0.7148, \n"
     ]
    },
    {
     "name": "stdout",
     "output_type": "stream",
     "text": [
      "epoch: 6, [batch: 158 / 525], examples_per_second: 11574.9135, train_label_loss: 0.6273, \n"
     ]
    },
    {
     "name": "stdout",
     "output_type": "stream",
     "text": [
      "epoch: 6, [batch: 210 / 525], examples_per_second: 11858.7245, train_label_loss: 0.6144, \n"
     ]
    },
    {
     "name": "stdout",
     "output_type": "stream",
     "text": [
      "epoch: 6, [batch: 263 / 525], examples_per_second: 11759.5883, train_label_loss: 0.6082, \n"
     ]
    },
    {
     "name": "stdout",
     "output_type": "stream",
     "text": [
      "epoch: 6, [batch: 315 / 525], examples_per_second: 11413.1468, train_label_loss: 0.6628, \n"
     ]
    },
    {
     "name": "stdout",
     "output_type": "stream",
     "text": [
      "epoch: 6, [batch: 367 / 525], examples_per_second: 11718.8346, train_label_loss: 0.7278, \n"
     ]
    },
    {
     "name": "stdout",
     "output_type": "stream",
     "text": [
      "epoch: 6, [batch: 420 / 525], examples_per_second: 11792.1431, train_label_loss: 0.6694, \n"
     ]
    },
    {
     "name": "stdout",
     "output_type": "stream",
     "text": [
      "epoch: 6, [batch: 472 / 525], examples_per_second: 11747.6581, train_label_loss: 0.7843, \n"
     ]
    },
    {
     "name": "stdout",
     "output_type": "stream",
     "text": [
      "=============================================================\n",
      "epoch: 6, source_val_acc_label: 0.6101, source_val_label_loss: 1.0535, target_val_acc_label: 0.0551, target_val_label_loss: 10.1903, \n",
      "=============================================================\n"
     ]
    },
    {
     "name": "stdout",
     "output_type": "stream",
     "text": [
      "epoch: 7, [batch: 1 / 525], examples_per_second: 139.8159, train_label_loss: 0.4896, \n"
     ]
    },
    {
     "name": "stdout",
     "output_type": "stream",
     "text": [
      "epoch: 7, [batch: 53 / 525], examples_per_second: 11399.7201, train_label_loss: 0.4765, \n"
     ]
    },
    {
     "name": "stdout",
     "output_type": "stream",
     "text": [
      "epoch: 7, [batch: 105 / 525], examples_per_second: 11528.0139, train_label_loss: 0.5641, \n"
     ]
    },
    {
     "name": "stdout",
     "output_type": "stream",
     "text": [
      "epoch: 7, [batch: 158 / 525], examples_per_second: 11633.9906, train_label_loss: 0.4374, \n"
     ]
    },
    {
     "name": "stdout",
     "output_type": "stream",
     "text": [
      "epoch: 7, [batch: 210 / 525], examples_per_second: 11713.3965, train_label_loss: 0.5453, \n"
     ]
    },
    {
     "name": "stdout",
     "output_type": "stream",
     "text": [
      "epoch: 7, [batch: 263 / 525], examples_per_second: 11775.6044, train_label_loss: 0.4782, \n"
     ]
    },
    {
     "name": "stdout",
     "output_type": "stream",
     "text": [
      "epoch: 7, [batch: 315 / 525], examples_per_second: 11534.7060, train_label_loss: 0.5448, \n"
     ]
    },
    {
     "name": "stdout",
     "output_type": "stream",
     "text": [
      "epoch: 7, [batch: 367 / 525], examples_per_second: 11696.6173, train_label_loss: 0.4526, \n"
     ]
    },
    {
     "name": "stdout",
     "output_type": "stream",
     "text": [
      "epoch: 7, [batch: 420 / 525], examples_per_second: 11746.7863, train_label_loss: 0.5000, \n"
     ]
    },
    {
     "name": "stdout",
     "output_type": "stream",
     "text": [
      "epoch: 7, [batch: 472 / 525], examples_per_second: 11720.2712, train_label_loss: 0.3839, \n"
     ]
    },
    {
     "name": "stdout",
     "output_type": "stream",
     "text": [
      "=============================================================\n",
      "epoch: 7, source_val_acc_label: 0.6239, source_val_label_loss: 1.0459, target_val_acc_label: 0.0580, target_val_label_loss: 11.2601, \n",
      "=============================================================\n"
     ]
    },
    {
     "name": "stdout",
     "output_type": "stream",
     "text": [
      "epoch: 8, [batch: 1 / 525], examples_per_second: 137.5435, train_label_loss: 0.4118, \n"
     ]
    },
    {
     "name": "stdout",
     "output_type": "stream",
     "text": [
      "epoch: 8, [batch: 53 / 525], examples_per_second: 11554.5947, train_label_loss: 0.3495, \n"
     ]
    },
    {
     "name": "stdout",
     "output_type": "stream",
     "text": [
      "epoch: 8, [batch: 105 / 525], examples_per_second: 11733.2656, train_label_loss: 0.3669, \n"
     ]
    },
    {
     "name": "stdout",
     "output_type": "stream",
     "text": [
      "epoch: 8, [batch: 158 / 525], examples_per_second: 11602.1506, train_label_loss: 0.6349, \n"
     ]
    },
    {
     "name": "stdout",
     "output_type": "stream",
     "text": [
      "epoch: 8, [batch: 210 / 525], examples_per_second: 11672.3267, train_label_loss: 0.4418, \n"
     ]
    },
    {
     "name": "stdout",
     "output_type": "stream",
     "text": [
      "epoch: 8, [batch: 263 / 525], examples_per_second: 11637.1405, train_label_loss: 0.3723, \n"
     ]
    },
    {
     "name": "stdout",
     "output_type": "stream",
     "text": [
      "epoch: 8, [batch: 315 / 525], examples_per_second: 11851.3846, train_label_loss: 0.4401, \n"
     ]
    },
    {
     "name": "stdout",
     "output_type": "stream",
     "text": [
      "epoch: 8, [batch: 367 / 525], examples_per_second: 11770.3180, train_label_loss: 0.3296, \n"
     ]
    },
    {
     "name": "stdout",
     "output_type": "stream",
     "text": [
      "epoch: 8, [batch: 420 / 525], examples_per_second: 11664.6620, train_label_loss: 0.3969, \n"
     ]
    },
    {
     "name": "stdout",
     "output_type": "stream",
     "text": [
      "epoch: 8, [batch: 472 / 525], examples_per_second: 12495.9212, train_label_loss: 0.4792, \n"
     ]
    },
    {
     "name": "stdout",
     "output_type": "stream",
     "text": [
      "=============================================================\n",
      "epoch: 8, source_val_acc_label: 0.6729, source_val_label_loss: 0.9165, target_val_acc_label: 0.0650, target_val_label_loss: 12.2393, \n",
      "=============================================================\n"
     ]
    },
    {
     "name": "stdout",
     "output_type": "stream",
     "text": [
      "Patience (3) exhausted\n"
     ]
    }
   ],
   "source": [
    "jig = Vanilla_Train_Eval_Test_Jig(\n",
    "    model=model,\n",
    "    path_to_best_model=p.BEST_MODEL_PATH,\n",
    "    device=p.device,\n",
    "    label_loss_object=torch.nn.NLLLoss(),\n",
    ")\n",
    "\n",
    "jig.train(\n",
    "    train_iterable=datasets.source.processed.train,\n",
    "    source_val_iterable=datasets.source.processed.val,\n",
    "    target_val_iterable=datasets.target.processed.val,\n",
    "    patience=p.patience,\n",
    "    num_epochs=p.n_epoch,\n",
    "    num_logs_per_epoch=p.NUM_LOGS_PER_EPOCH,\n",
    "    criteria_for_best=p.criteria_for_best\n",
    ")"
   ]
  },
  {
   "cell_type": "code",
   "execution_count": 14,
   "id": "4bc2ac17",
   "metadata": {
    "execution": {
     "iopub.execute_input": "2022-03-26T02:04:45.614124Z",
     "iopub.status.busy": "2022-03-26T02:04:45.613742Z",
     "iopub.status.idle": "2022-03-26T02:04:45.616580Z",
     "shell.execute_reply": "2022-03-26T02:04:45.617263Z"
    },
    "papermill": {
     "duration": 0.048324,
     "end_time": "2022-03-26T02:04:45.617445",
     "exception": false,
     "start_time": "2022-03-26T02:04:45.569121",
     "status": "completed"
    },
    "tags": []
   },
   "outputs": [],
   "source": [
    "total_experiment_time_secs = time.time() - start_time_secs"
   ]
  },
  {
   "cell_type": "code",
   "execution_count": 15,
   "id": "cae88f23",
   "metadata": {
    "execution": {
     "iopub.execute_input": "2022-03-26T02:04:45.732047Z",
     "iopub.status.busy": "2022-03-26T02:04:45.731637Z",
     "iopub.status.idle": "2022-03-26T02:04:56.888498Z",
     "shell.execute_reply": "2022-03-26T02:04:56.888113Z"
    },
    "papermill": {
     "duration": 11.225825,
     "end_time": "2022-03-26T02:04:56.888596",
     "exception": false,
     "start_time": "2022-03-26T02:04:45.662771",
     "status": "completed"
    },
    "tags": []
   },
   "outputs": [],
   "source": [
    "source_test_label_accuracy, source_test_label_loss = jig.test(datasets.source.processed.test)\n",
    "target_test_label_accuracy, target_test_label_loss = jig.test(datasets.target.processed.test)\n",
    "\n",
    "source_val_label_accuracy, source_val_label_loss = jig.test(datasets.source.processed.val)\n",
    "target_val_label_accuracy, target_val_label_loss = jig.test(datasets.target.processed.val)\n",
    "\n",
    "history = jig.get_history()\n",
    "\n",
    "total_epochs_trained = len(history[\"epoch_indices\"])\n",
    "\n",
    "val_dl = wrap_in_dataloader(p, Sequence_Aggregator((datasets.source.original.val, datasets.target.original.val)))\n",
    "\n",
    "confusion = confusion_by_domain_over_dataloader(model, p.device, val_dl, forward_uses_domain=False)\n",
    "per_domain_accuracy = per_domain_accuracy_from_confusion(confusion)\n",
    "\n",
    "# Add a key to per_domain_accuracy for if it was a source domain\n",
    "for domain, accuracy in per_domain_accuracy.items():\n",
    "    per_domain_accuracy[domain] = {\n",
    "        \"accuracy\": accuracy,\n",
    "        \"source?\": domain in p.domains_source\n",
    "    }\n",
    "\n",
    "# Do an independent accuracy assesment JUST TO BE SURE!\n",
    "# _source_test_label_accuracy = independent_accuracy_assesment(model, datasets.source.processed.test, p.device)\n",
    "# _target_test_label_accuracy = independent_accuracy_assesment(model, datasets.target.processed.test, p.device)\n",
    "# _source_val_label_accuracy = independent_accuracy_assesment(model, datasets.source.processed.val, p.device)\n",
    "# _target_val_label_accuracy = independent_accuracy_assesment(model, datasets.target.processed.val, p.device)\n",
    "\n",
    "# assert(_source_test_label_accuracy == source_test_label_accuracy)\n",
    "# assert(_target_test_label_accuracy == target_test_label_accuracy)\n",
    "# assert(_source_val_label_accuracy == source_val_label_accuracy)\n",
    "# assert(_target_val_label_accuracy == target_val_label_accuracy)\n",
    "\n",
    "###################################\n",
    "# Write out the results\n",
    "###################################\n",
    "\n",
    "experiment = {\n",
    "    \"experiment_name\": p.experiment_name,\n",
    "    \"parameters\": p,\n",
    "    \"results\": {\n",
    "        \"source_test_label_accuracy\": source_test_label_accuracy,\n",
    "        \"source_test_label_loss\": source_test_label_loss,\n",
    "        \"target_test_label_accuracy\": target_test_label_accuracy,\n",
    "        \"target_test_label_loss\": target_test_label_loss,\n",
    "        \"source_val_label_accuracy\": source_val_label_accuracy,\n",
    "        \"source_val_label_loss\": source_val_label_loss,\n",
    "        \"target_val_label_accuracy\": target_val_label_accuracy,\n",
    "        \"target_val_label_loss\": target_val_label_loss,\n",
    "        \"total_epochs_trained\": total_epochs_trained,\n",
    "        \"total_experiment_time_secs\": total_experiment_time_secs,\n",
    "        \"confusion\": confusion,\n",
    "        \"per_domain_accuracy\": per_domain_accuracy,\n",
    "    },\n",
    "    \"history\": history,\n",
    "    \"dataset_metrics\": get_dataset_metrics(datasets, \"cnn\"),\n",
    "}"
   ]
  },
  {
   "cell_type": "code",
   "execution_count": 16,
   "id": "74c318cf",
   "metadata": {
    "execution": {
     "iopub.execute_input": "2022-03-26T02:04:56.990587Z",
     "iopub.status.busy": "2022-03-26T02:04:56.982430Z",
     "iopub.status.idle": "2022-03-26T02:04:57.201162Z",
     "shell.execute_reply": "2022-03-26T02:04:57.200772Z"
    },
    "papermill": {
     "duration": 0.27122,
     "end_time": "2022-03-26T02:04:57.201252",
     "exception": false,
     "start_time": "2022-03-26T02:04:56.930032",
     "status": "completed"
    },
    "tags": []
   },
   "outputs": [
    {
     "data": {
      "text/plain": [
       "<AxesSubplot:title={'center':'Source Train Label Loss vs Source Val Label Loss'}, xlabel='Epoch'>"
      ]
     },
     "execution_count": 16,
     "metadata": {},
     "output_type": "execute_result"
    },
    {
     "data": {
      "image/png": "[encoded data removed]",
      "text/plain": [
       "<Figure size 1080x504 with 1 Axes>"
      ]
     },
     "metadata": {
      "needs_background": "light"
     },
     "output_type": "display_data"
    }
   ],
   "source": [
    "get_loss_curve(experiment)"
   ]
  },
  {
   "cell_type": "code",
   "execution_count": 17,
   "id": "59376601",
   "metadata": {
    "execution": {
     "iopub.execute_input": "2022-03-26T02:04:57.309342Z",
     "iopub.status.busy": "2022-03-26T02:04:57.301512Z",
     "iopub.status.idle": "2022-03-26T02:04:57.579385Z",
     "shell.execute_reply": "2022-03-26T02:04:57.580049Z"
    },
    "papermill": {
     "duration": 0.336931,
     "end_time": "2022-03-26T02:04:57.580210",
     "exception": false,
     "start_time": "2022-03-26T02:04:57.243279",
     "status": "completed"
    },
    "tags": []
   },
   "outputs": [
    {
     "data": {
      "text/plain": [
       "<AxesSubplot:title={'center':'Results'}>"
      ]
     },
     "execution_count": 17,
     "metadata": {},
     "output_type": "execute_result"
    },
    {
     "data": {
      "image/png": "[encoded data removed]",
      "text/plain": [
       "<Figure size 1080x504 with 1 Axes>"
      ]
     },
     "metadata": {
      "needs_background": "light"
     },
     "output_type": "display_data"
    }
   ],
   "source": [
    "get_results_table(experiment)"
   ]
  },
  {
   "cell_type": "code",
   "execution_count": 18,
   "id": "e80c5c98",
   "metadata": {
    "execution": {
     "iopub.execute_input": "2022-03-26T02:04:57.686658Z",
     "iopub.status.busy": "2022-03-26T02:04:57.678751Z",
     "iopub.status.idle": "2022-03-26T02:04:57.854208Z",
     "shell.execute_reply": "2022-03-26T02:04:57.854895Z"
    },
    "papermill": {
     "duration": 0.228592,
     "end_time": "2022-03-26T02:04:57.855125",
     "exception": false,
     "start_time": "2022-03-26T02:04:57.626533",
     "status": "completed"
    },
    "tags": []
   },
   "outputs": [
    {
     "data": {
      "text/plain": [
       "<AxesSubplot:title={'center':'Per Domain Accuracy'}, xlabel='domain'>"
      ]
     },
     "execution_count": 18,
     "metadata": {},
     "output_type": "execute_result"
    },
    {
     "data": {
      "image/png": "[encoded data removed]",
      "text/plain": [
       "<Figure size 1080x504 with 1 Axes>"
      ]
     },
     "metadata": {
      "needs_background": "light"
     },
     "output_type": "display_data"
    }
   ],
   "source": [
    "get_domain_accuracies(experiment)"
   ]
  },
  {
   "cell_type": "code",
   "execution_count": 19,
   "id": "086fdd10",
   "metadata": {
    "execution": {
     "iopub.execute_input": "2022-03-26T02:04:57.952708Z",
     "iopub.status.busy": "2022-03-26T02:04:57.952293Z",
     "iopub.status.idle": "2022-03-26T02:04:57.956491Z",
     "shell.execute_reply": "2022-03-26T02:04:57.956155Z"
    },
    "papermill": {
     "duration": 0.052892,
     "end_time": "2022-03-26T02:04:57.956581",
     "exception": false,
     "start_time": "2022-03-26T02:04:57.903689",
     "status": "completed"
    },
    "tags": []
   },
   "outputs": [
    {
     "name": "stdout",
     "output_type": "stream",
     "text": [
      "Source Test Label Accuracy: 0.6356944444444445 Target Test Label Accuracy: 0.07395833333333333\n",
      "Source Val Label Accuracy: 0.6359722222222223 Target Val Label Accuracy: 0.07466666666666667\n"
     ]
    }
   ],
   "source": [
    "print(\"Source Test Label Accuracy:\", experiment[\"results\"][\"source_test_label_accuracy\"], \"Target Test Label Accuracy:\", experiment[\"results\"][\"target_test_label_accuracy\"])\n",
    "print(\"Source Val Label Accuracy:\", experiment[\"results\"][\"source_val_label_accuracy\"], \"Target Val Label Accuracy:\", experiment[\"results\"][\"target_val_label_accuracy\"])"
   ]
  },
  {
   "cell_type": "code",
   "execution_count": 20,
   "id": "9f450536",
   "metadata": {
    "execution": {
     "iopub.execute_input": "2022-03-26T02:04:58.052548Z",
     "iopub.status.busy": "2022-03-26T02:04:58.052091Z",
     "iopub.status.idle": "2022-03-26T02:04:58.055110Z",
     "shell.execute_reply": "2022-03-26T02:04:58.055415Z"
    },
    "papermill": {
     "duration": 0.051811,
     "end_time": "2022-03-26T02:04:58.055503",
     "exception": false,
     "start_time": "2022-03-26T02:04:58.003692",
     "status": "completed"
    },
    "tags": [
     "experiment_json"
    ]
   },
   "outputs": [
    {
     "data": {
      "text/plain": [
       "'{\"experiment_name\": \"cnn_1:oracle.run2_limited\", \"parameters\": {\"experiment_name\": \"cnn_1:oracle.run2_limited\", \"labels\": [\"3123D52\", \"3123D65\", \"3123D79\", \"3123D80\", \"3123D54\", \"3123D70\", \"3123D7B\", \"3123D89\", \"3123D58\", \"3123D76\", \"3123D7D\", \"3123EFE\", \"3123D64\", \"3123D78\", \"3123D7E\", \"3124E4A\"], \"domains_source\": [8, 32, 50], \"domains_target\": [14, 20, 26, 38, 44], \"pickle_name_source\": \"oracle.Run2_10kExamples_stratified_ds.2022A.pkl\", \"pickle_name_target\": \"oracle.Run2_10kExamples_stratified_ds.2022A.pkl\", \"device\": \"cuda\", \"lr\": 0.0001, \"batch_size\": 128, \"normalize_source\": false, \"normalize_target\": false, \"num_examples_per_domain_per_label_source\": 2000, \"num_examples_per_domain_per_label_target\": 2000, \"torch_default_dtype\": \"torch.float32\", \"n_epoch\": 50, \"patience\": 3, \"criteria_for_best\": \"target_accuracy\", \"x_net\": [{\"class\": \"nnReshape\", \"kargs\": {\"shape\": [-1, 1, 2, 256]}}, {\"class\": \"Conv2d\", \"kargs\": {\"in_channels\": 1, \"out_channels\": 256, \"kernel_size\": [1, 7], \"bias\": false, \"padding\": [0, 3]}}, {\"class\": \"ReLU\", \"kargs\": {\"inplace\": true}}, {\"class\": \"BatchNorm2d\", \"kargs\": {\"num_features\": 256}}, {\"class\": \"Conv2d\", \"kargs\": {\"in_channels\": 256, \"out_channels\": 80, \"kernel_size\": [2, 7], \"bias\": true, \"padding\": [0, 3]}}, {\"class\": \"ReLU\", \"kargs\": {\"inplace\": true}}, {\"class\": \"BatchNorm2d\", \"kargs\": {\"num_features\": 80}}, {\"class\": \"Flatten\", \"kargs\": {}}, {\"class\": \"Linear\", \"kargs\": {\"in_features\": 20480, \"out_features\": 256}}, {\"class\": \"ReLU\", \"kargs\": {\"inplace\": true}}, {\"class\": \"BatchNorm1d\", \"kargs\": {\"num_features\": 256}}, {\"class\": \"Linear\", \"kargs\": {\"in_features\": 256, \"out_features\": 16}}], \"NUM_LOGS_PER_EPOCH\": 10, \"BEST_MODEL_PATH\": \"./best_model.pth\", \"dataset_seed\": 7, \"seed\": 7}, \"results\": {\"source_test_label_accuracy\": 0.6356944444444445, \"source_test_label_loss\": 1.0983964663691226, \"target_test_label_accuracy\": 0.07395833333333333, \"target_test_label_loss\": 8.370585522753126, \"source_val_label_accuracy\": 0.6359722222222223, \"source_val_label_loss\": 1.099519013303571, \"target_val_label_accuracy\": 0.07466666666666667, \"target_val_label_loss\": 8.377886092409174, \"total_epochs_trained\": 8, \"total_experiment_time_secs\": 74.8291506767273, \"confusion\": {\"50\": {\"10\": {\"10\": 218, \"0\": 24, \"13\": 26, \"2\": 5, \"1\": 25, \"8\": 2}, \"15\": {\"15\": 130, \"9\": 76, \"4\": 44, \"5\": 38, \"7\": 4, \"12\": 3, \"6\": 5}, \"5\": {\"7\": 284, \"4\": 10, \"5\": 4, \"6\": 2}, \"12\": {\"12\": 251, \"9\": 49}, \"9\": {\"12\": 13, \"9\": 283, \"15\": 4}, \"6\": {\"4\": 74, \"15\": 14, \"5\": 117, \"9\": 13, \"7\": 46, \"6\": 30, \"12\": 6}, \"2\": {\"2\": 232, \"14\": 18, \"0\": 43, \"9\": 3, \"10\": 3, \"12\": 1}, \"11\": {\"11\": 177, \"5\": 32, \"12\": 36, \"2\": 10, \"9\": 12, \"15\": 28, \"1\": 3, \"14\": 2}, \"8\": {\"8\": 278, \"1\": 17, \"13\": 5}, \"0\": {\"0\": 146, \"2\": 102, \"10\": 50, \"14\": 2}, \"7\": {\"7\": 300}, \"14\": {\"14\": 281, \"2\": 9, \"9\": 5, \"13\": 4, \"12\": 1}, \"13\": {\"13\": 254, \"1\": 19, \"8\": 27}, \"1\": {\"1\": 166, \"13\": 82, \"11\": 28, \"2\": 15, \"14\": 5, \"8\": 4}, \"4\": {\"7\": 285, \"4\": 12, \"9\": 1, \"5\": 1, \"15\": 1}, \"3\": {\"3\": 300}}, \"38\": {\"2\": {\"7\": 275, \"3\": 25}, \"11\": {\"7\": 300}, \"12\": {\"15\": 254, \"5\": 4, \"6\": 1, \"13\": 33, \"3\": 3, \"4\": 3, \"7\": 2}, \"1\": {\"2\": 184, \"14\": 53, \"0\": 13, \"1\": 43, \"10\": 3, \"8\": 3, \"13\": 1}, \"10\": {\"7\": 289, \"9\": 10, \"15\": 1}, \"6\": {\"14\": 268, \"2\": 26, \"1\": 2, \"13\": 3, \"10\": 1}, \"7\": {\"7\": 209, \"4\": 33, \"15\": 42, \"9\": 14, \"5\": 2}, \"5\": {\"5\": 73, \"15\": 52, \"11\": 66, \"6\": 12, \"4\": 46, \"13\": 14, \"9\": 18, \"7\": 14, \"8\": 1, \"12\": 4}, \"3\": {\"7\": 139, \"9\": 161}, \"4\": {\"7\": 267, \"15\": 33}, \"9\": {\"12\": 137, \"9\": 159, \"5\": 1, \"15\": 2, \"11\": 1}, \"15\": {\"1\": 106, \"13\": 62, \"10\": 37, \"2\": 25, \"0\": 26, \"14\": 36, \"11\": 8}, \"0\": {\"9\": 178, \"15\": 118, \"7\": 3, \"4\": 1}, \"14\": {\"7\": 265, \"3\": 22, \"6\": 1, \"5\": 7, \"13\": 1, \"4\": 4}, \"8\": {\"7\": 46, \"4\": 83, \"15\": 42, \"9\": 70, \"5\": 54, \"6\": 3, \"12\": 2}, \"13\": {\"7\": 253, \"9\": 47}}, \"14\": {\"6\": {\"3\": 300}, \"13\": {\"3\": 300}, \"8\": {\"3\": 274, \"6\": 7, \"2\": 16, \"9\": 3}, \"3\": {\"3\": 300}, \"14\": {\"3\": 300}, \"9\": {\"2\": 265, \"3\": 34, \"15\": 1}, \"12\": {\"12\": 29, \"3\": 52, \"2\": 67, \"7\": 18, \"9\": 74, \"6\": 47, \"15\": 3, \"10\": 6, \"5\": 1, \"0\": 1, \"13\": 1, \"14\": 1}, \"4\": {\"3\": 300}, \"5\": {\"3\": 300}, \"7\": {\"3\": 300}, \"0\": {\"3\": 298, \"12\": 2}, \"2\": {\"3\": 300}, \"1\": {\"3\": 255, \"7\": 42, \"2\": 3}, \"10\": {\"3\": 285, \"15\": 14, \"12\": 1}, \"11\": {\"7\": 225, \"4\": 44, \"13\": 6, \"11\": 20, \"2\": 2, \"6\": 1, \"8\": 2}, \"15\": {\"3\": 300}}, \"26\": {\"0\": {\"3\": 300}, \"14\": {\"3\": 297, \"12\": 3}, \"13\": {\"3\": 300}, \"6\": {\"12\": 82, \"3\": 216, \"9\": 1, \"6\": 1}, \"11\": {\"6\": 234, \"12\": 60, \"9\": 3, \"10\": 3}, \"15\": {\"3\": 300}, \"3\": {\"3\": 300}, \"9\": {\"3\": 300}, \"8\": {\"3\": 300}, \"7\": {\"3\": 300}, \"12\": {\"3\": 150, \"12\": 142, \"9\": 4, \"6\": 4}, \"5\": {\"12\": 57, \"3\": 227, \"9\": 12, \"6\": 4}, \"4\": {\"3\": 300}, \"1\": {\"3\": 277, \"12\": 23}, \"10\": {\"3\": 285, \"12\": 15}, \"2\": {\"3\": 300}}, \"44\": {\"14\": {\"5\": 41, \"9\": 153, \"12\": 8, \"4\": 22, \"7\": 70, \"15\": 5, \"6\": 1}, \"15\": {\"12\": 220, \"9\": 10, \"5\": 28, \"11\": 33, \"2\": 3, \"6\": 6}, \"5\": {\"7\": 42, \"6\": 56, \"5\": 128, \"4\": 40, \"12\": 22, \"9\": 9, \"11\": 2, \"15\": 1}, \"4\": {\"9\": 227, \"5\": 6, \"15\": 53, \"12\": 2, \"7\": 6, \"4\": 6}, \"3\": {\"4\": 35, \"7\": 135, \"8\": 43, \"11\": 52, \"2\": 14, \"14\": 10, \"0\": 11}, \"13\": {\"9\": 102, \"15\": 89, \"7\": 107, \"4\": 2}, \"12\": {\"7\": 84, \"8\": 120, \"4\": 59, \"11\": 19, \"0\": 5, \"3\": 13}, \"10\": {\"15\": 101, \"9\": 199}, \"9\": {\"15\": 205, \"9\": 95}, \"8\": {\"7\": 10, \"12\": 259, \"6\": 11, \"5\": 13, \"9\": 6, \"3\": 1}, \"1\": {\"7\": 85, \"5\": 162, \"15\": 44, \"8\": 5, \"9\": 3, \"11\": 1}, \"7\": {\"15\": 185, \"9\": 115}, \"6\": {\"15\": 277, \"9\": 23}, \"2\": {\"5\": 57, \"15\": 221, \"11\": 20, \"9\": 2}, \"0\": {\"12\": 204, \"8\": 26, \"2\": 43, \"7\": 8, \"5\": 9, \"6\": 8, \"11\": 2}, \"11\": {\"9\": 164, \"7\": 134, \"15\": 2}}, \"32\": {\"3\": {\"3\": 234, \"13\": 19, \"8\": 3, \"4\": 37, \"11\": 6, \"7\": 1}, \"12\": {\"12\": 246, \"10\": 35, \"2\": 4, \"6\": 1, \"9\": 12, \"14\": 2}, \"2\": {\"2\": 204, \"11\": 17, \"14\": 46, \"7\": 19, \"5\": 3, \"12\": 8, \"15\": 1, \"0\": 1, \"8\": 1}, \"15\": {\"15\": 298, \"5\": 2}, \"6\": {\"6\": 294, \"12\": 1, \"10\": 4, \"9\": 1}, \"5\": {\"9\": 168, \"12\": 52, \"5\": 57, \"11\": 2, \"15\": 19, \"7\": 2}, \"11\": {\"11\": 136, \"14\": 78, \"7\": 8, \"4\": 31, \"13\": 31, \"2\": 5, \"3\": 10, \"8\": 1}, \"13\": {\"4\": 25, \"13\": 177, \"11\": 38, \"3\": 57, \"14\": 3}, \"4\": {\"4\": 71, \"13\": 41, \"11\": 110, \"8\": 11, \"2\": 4, \"14\": 48, \"0\": 7, \"7\": 7, \"3\": 1}, \"0\": {\"2\": 64, \"11\": 72, \"8\": 38, \"14\": 77, \"5\": 4, \"7\": 33, \"0\": 7, \"4\": 4, \"13\": 1}, \"10\": {\"10\": 300}, \"1\": {\"1\": 282, \"8\": 18}, \"14\": {\"2\": 86, \"14\": 182, \"11\": 16, \"7\": 1, \"12\": 13, \"9\": 1, \"8\": 1}, \"7\": {\"7\": 227, \"2\": 43, \"11\": 5, \"12\": 11, \"5\": 7, \"0\": 3, \"9\": 3, \"14\": 1}, \"9\": {\"14\": 204, \"2\": 67, \"9\": 11, \"0\": 10, \"12\": 2, \"13\": 5, \"3\": 1}, \"8\": {\"7\": 22, \"8\": 196, \"11\": 53, \"14\": 4, \"5\": 5, \"15\": 11, \"0\": 4, \"2\": 3, \"4\": 2}}, \"8\": {\"6\": {\"6\": 117, \"4\": 60, \"14\": 69, \"8\": 37, \"7\": 5, \"11\": 5, \"1\": 7}, \"15\": {\"15\": 218, \"2\": 11, \"12\": 69, \"3\": 2}, \"2\": {\"2\": 289, \"15\": 9, \"13\": 1, \"12\": 1}, \"9\": {\"9\": 300}, \"13\": {\"5\": 18, \"13\": 179, \"10\": 67, \"1\": 20, \"7\": 9, \"8\": 1, \"4\": 2, \"15\": 1, \"2\": 3}, \"14\": {\"6\": 93, \"14\": 147, \"4\": 16, \"1\": 36, \"8\": 7, \"10\": 1}, \"12\": {\"12\": 215, \"15\": 73, \"2\": 11, \"3\": 1}, \"3\": {\"3\": 292, \"15\": 7, \"12\": 1}, \"10\": {\"10\": 142, \"5\": 68, \"13\": 52, \"1\": 24, \"7\": 7, \"2\": 2, \"4\": 5}, \"1\": {\"14\": 12, \"5\": 16, \"1\": 212, \"6\": 14, \"10\": 9, \"8\": 5, \"13\": 21, \"4\": 7, \"7\": 3, \"11\": 1}, \"8\": {\"8\": 184, \"6\": 19, \"11\": 79, \"1\": 8, \"4\": 7, \"14\": 3}, \"5\": {\"5\": 122, \"10\": 95, \"1\": 64, \"13\": 11, \"14\": 2, \"4\": 3, \"7\": 3}, \"7\": {\"4\": 111, \"10\": 10, \"1\": 23, \"8\": 6, \"13\": 27, \"7\": 99, \"14\": 2, \"11\": 12, \"6\": 7, \"5\": 3}, \"4\": {\"4\": 166, \"6\": 32, \"7\": 46, \"1\": 21, \"8\": 12, \"14\": 10, \"10\": 5, \"11\": 2, \"13\": 4, \"5\": 2}, \"0\": {\"0\": 295, \"6\": 5}, \"11\": {\"8\": 81, \"11\": 197, \"6\": 6, \"7\": 4, \"12\": 6, \"4\": 5, \"13\": 1}}, \"20\": {\"13\": {\"2\": 265, \"7\": 22, \"12\": 10, \"13\": 3}, \"14\": {\"12\": 145, \"15\": 59, \"3\": 96}, \"4\": {\"15\": 34, \"12\": 200, \"2\": 64, \"13\": 1, \"3\": 1}, \"15\": {\"2\": 272, \"12\": 25, \"15\": 3}, \"10\": {\"12\": 256, \"7\": 10, \"11\": 23, \"15\": 6, \"2\": 3, \"3\": 1, \"13\": 1}, \"1\": {\"2\": 249, \"15\": 33, \"12\": 18}, \"9\": {\"2\": 236, \"12\": 50, \"15\": 13, \"3\": 1}, \"0\": {\"15\": 106, \"2\": 93, \"3\": 85, \"12\": 16}, \"8\": {\"3\": 144, \"12\": 97, \"15\": 58, \"2\": 1}, \"11\": {\"2\": 39, \"3\": 260, \"15\": 1}, \"7\": {\"12\": 219, \"2\": 63, \"3\": 5, \"13\": 1, \"15\": 6, \"11\": 1, \"7\": 5}, \"6\": {\"11\": 17, \"12\": 256, \"3\": 11, \"7\": 8, \"2\": 2, \"15\": 6}, \"2\": {\"2\": 220, \"12\": 65, \"15\": 14, \"3\": 1}, \"3\": {\"12\": 121, \"2\": 165, \"15\": 12, \"3\": 2}, \"12\": {\"2\": 210, \"12\": 54, \"7\": 20, \"13\": 12, \"15\": 4}, \"5\": {\"12\": 116, \"2\": 153, \"15\": 26, \"3\": 5}}}, \"per_domain_accuracy\": {\"50\": {\"accuracy\": 0.6379166666666667, \"source?\": true}, \"38\": {\"accuracy\": 0.10083333333333333, \"source?\": false}, \"14\": {\"accuracy\": 0.07270833333333333, \"source?\": false}, \"26\": {\"accuracy\": 0.09229166666666666, \"source?\": false}, \"44\": {\"accuracy\": 0.04770833333333333, \"source?\": false}, \"32\": {\"accuracy\": 0.60875, \"source?\": true}, \"8\": {\"accuracy\": 0.66125, \"source?\": true}, \"20\": {\"accuracy\": 0.05979166666666667, \"source?\": false}}}, \"history\": {\"epoch_indices\": [1, 2, 3, 4, 5, 6, 7, 8], \"train_label_loss\": [2.364154190335955, 1.8320788823990595, 1.417078740029108, 1.1257729355494182, 0.891198433807918, 0.688232251235417, 0.5166670319012233, 0.3859035272825332], \"source_val_label_loss\": [2.0926202746619165, 1.6724947669864756, 1.2774275541305542, 1.100272189199397, 1.0506187687932917, 1.0535038867882922, 1.045902353999889, 0.9165286057818253], \"target_val_label_loss\": [4.174837571509341, 5.795114354884371, 7.112259342315349, 8.377339773989739, 8.815736709757054, 10.19027324940296, 11.260093785346822, 12.239341335093721], \"source_val_acc_label\": [0.27569444444444446, 0.41020833333333334, 0.5874305555555556, 0.6359722222222223, 0.6369444444444444, 0.6101388888888889, 0.6238888888888889, 0.6729166666666667], \"target_val_acc_label\": [0.066, 0.067625, 0.074625, 0.07466666666666667, 0.06241666666666667, 0.05508333333333333, 0.058, 0.06495833333333334]}, \"dataset_metrics\": {\"source\": {\"train\": {\"n_unique_x\": 67200, \"n_unique_y\": 16, \"n_batch/episode\": 525}, \"val\": {\"n_unique_x\": 14400, \"n_unique_y\": 16, \"n_batch/episode\": 113}, \"test\": {\"n_unique_x\": 14400, \"n_unique_y\": 16, \"n_batch/episode\": 113}}, \"target\": {\"train\": {\"n_unique_x\": 112000, \"n_unique_y\": 16, \"n_batch/episode\": 875}, \"val\": {\"n_unique_x\": 24000, \"n_unique_y\": 16, \"n_batch/episode\": 188}, \"test\": {\"n_unique_x\": 24000, \"n_unique_y\": 16, \"n_batch/episode\": 188}}}}'"
      ]
     },
     "execution_count": 20,
     "metadata": {},
     "output_type": "execute_result"
    }
   ],
   "source": [
    "json.dumps(experiment)"
   ]
  }
 ],
 "metadata": {
  "celltoolbar": "Tags",
  "kernelspec": {
   "display_name": "Python 3 (ipykernel)",
   "language": "python",
   "name": "python3"
  },
  "language_info": {
   "codemirror_mode": {
    "name": "ipython",
    "version": 3
   },
   "file_extension": ".py",
   "mimetype": "text/x-python",
   "name": "python",
   "nbconvert_exporter": "python",
   "pygments_lexer": "ipython3",
   "version": "3.8.12"
  },
  "papermill": {
   "default_parameters": {},
   "duration": 91.814129,
   "end_time": "2022-03-26T02:05:00.019442",
   "environment_variables": {},
   "exception": null,
   "input_path": "/root/csc500-main/csc500-notebooks/templates/cnn_template.ipynb",
   "output_path": "trial.ipynb",
   "parameters": {
    "parameters": {
     "BEST_MODEL_PATH": "./best_model.pth",
     "NUM_LOGS_PER_EPOCH": 10,
     "batch_size": 128,
     "criteria_for_best": "target_accuracy",
     "dataset_seed": 7,
     "device": "cuda",
     "domains_source": [
      8,
      32,
      50
     ],
     "domains_target": [
      14,
      20,
      26,
      38,
      44
     ],
     "experiment_name": "cnn_1:oracle.run2_limited",
     "labels": [
      "3123D52",
      "3123D65",
      "3123D79",
      "3123D80",
      "3123D54",
      "3123D70",
      "3123D7B",
      "3123D89",
      "3123D58",
      "3123D76",
      "3123D7D",
      "3123EFE",
      "3123D64",
      "3123D78",
      "3123D7E",
      "3124E4A"
     ],
     "lr": 0.0001,
     "n_epoch": 50,
     "normalize_source": false,
     "normalize_target": false,
     "num_examples_per_domain_per_label_source": 2000,
     "num_examples_per_domain_per_label_target": 2000,
     "patience": 3,
     "pickle_name_source": "oracle.Run2_10kExamples_stratified_ds.2022A.pkl",
     "pickle_name_target": "oracle.Run2_10kExamples_stratified_ds.2022A.pkl",
     "seed": 7,
     "torch_default_dtype": "torch.float32",
     "x_net": [
      {
       "class": "nnReshape",
       "kargs": {
        "shape": [
         -1,
         1,
         2,
         256
        ]
       }
      },
      {
       "class": "Conv2d",
       "kargs": {
        "bias": false,
        "in_channels": 1,
        "kernel_size": [
         1,
         7
        ],
        "out_channels": 256,
        "padding": [
         0,
         3
        ]
       }
      },
      {
       "class": "ReLU",
       "kargs": {
        "inplace": true
       }
      },
      {
       "class": "BatchNorm2d",
       "kargs": {
        "num_features": 256
       }
      },
      {
       "class": "Conv2d",
       "kargs": {
        "bias": true,
        "in_channels": 256,
        "kernel_size": [
         2,
         7
        ],
        "out_channels": 80,
        "padding": [
         0,
         3
        ]
       }
      },
      {
       "class": "ReLU",
       "kargs": {
        "inplace": true
       }
      },
      {
       "class": "BatchNorm2d",
       "kargs": {
        "num_features": 80
       }
      },
      {
       "class": "Flatten",
       "kargs": {}
      },
      {
       "class": "Linear",
       "kargs": {
        "in_features": 20480,
        "out_features": 256
       }
      },
      {
       "class": "ReLU",
       "kargs": {
        "inplace": true
       }
      },
      {
       "class": "BatchNorm1d",
       "kargs": {
        "num_features": 256
       }
      },
      {
       "class": "Linear",
       "kargs": {
        "in_features": 256,
        "out_features": 16
       }
      }
     ]
    }
   },
   "start_time": "2022-03-26T02:03:28.205313",
   "version": "2.3.4"
  }
 },
 "nbformat": 4,
 "nbformat_minor": 5
}