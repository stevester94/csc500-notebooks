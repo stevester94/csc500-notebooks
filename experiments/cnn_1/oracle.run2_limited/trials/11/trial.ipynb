{
 "cells": [
  {
   "cell_type": "code",
   "execution_count": 1,
   "id": "2324682e",
   "metadata": {
    "execution": {
     "iopub.execute_input": "2022-03-26T01:58:57.915656Z",
     "iopub.status.busy": "2022-03-26T01:58:57.904551Z",
     "iopub.status.idle": "2022-03-26T01:58:59.290318Z",
     "shell.execute_reply": "2022-03-26T01:58:59.289429Z"
    },
    "papermill": {
     "duration": 1.411287,
     "end_time": "2022-03-26T01:58:59.290515",
     "exception": false,
     "start_time": "2022-03-26T01:58:57.879228",
     "status": "completed"
    },
    "tags": []
   },
   "outputs": [],
   "source": [
    "import os, json, sys, time, random\n",
    "import numpy as np\n",
    "import torch\n",
    "from  easydict import EasyDict\n",
    "from math import floor\n",
    "from easydict import EasyDict\n",
    "\n",
    "from steves_utils.vanilla_train_eval_test_jig import  Vanilla_Train_Eval_Test_Jig\n",
    "\n",
    "from steves_utils.torch_utils import get_dataset_metrics, independent_accuracy_assesment\n",
    "from steves_models.configurable_vanilla import Configurable_Vanilla\n",
    "from steves_utils.torch_sequential_builder import build_sequential\n",
    "from steves_utils.lazy_map import Lazy_Map\n",
    "from steves_utils.sequence_aggregator import Sequence_Aggregator\n",
    "\n",
    "from steves_utils.stratified_dataset.traditional_accessor import Traditional_Accessor_Factory\n",
    "\n",
    "from steves_utils.cnn_do_report import (\n",
    "    get_loss_curve,\n",
    "    get_results_table,\n",
    "    get_parameters_table,\n",
    "    get_domain_accuracies,\n",
    ")\n",
    "\n",
    "from steves_utils.torch_utils import (\n",
    "    confusion_by_domain_over_dataloader,\n",
    "    independent_accuracy_assesment\n",
    ")\n",
    "\n",
    "from steves_utils.utils_v2 import (\n",
    "    per_domain_accuracy_from_confusion,\n",
    "    get_datasets_base_path\n",
    ")\n",
    "\n",
    "# from steves_utils.ptn_do_report import TBD"
   ]
  },
  {
   "cell_type": "code",
   "execution_count": 2,
   "id": "1b29e3fe",
   "metadata": {
    "execution": {
     "iopub.execute_input": "2022-03-26T01:58:59.330810Z",
     "iopub.status.busy": "2022-03-26T01:58:59.330432Z",
     "iopub.status.idle": "2022-03-26T01:58:59.333955Z",
     "shell.execute_reply": "2022-03-26T01:58:59.333132Z"
    },
    "papermill": {
     "duration": 0.024184,
     "end_time": "2022-03-26T01:58:59.334111",
     "exception": false,
     "start_time": "2022-03-26T01:58:59.309927",
     "status": "completed"
    },
    "tags": []
   },
   "outputs": [],
   "source": [
    "required_parameters = {\n",
    "    \"experiment_name\",\n",
    "    \"lr\",\n",
    "    \"device\",\n",
    "    \"dataset_seed\",\n",
    "    \"seed\",\n",
    "    \"labels\",\n",
    "    \"domains_target\",\n",
    "    \"domains_source\",\n",
    "    \"num_examples_per_domain_per_label_source\",\n",
    "    \"num_examples_per_domain_per_label_target\",\n",
    "    \"batch_size\",\n",
    "    \"n_epoch\",\n",
    "    \"patience\",\n",
    "    \"criteria_for_best\",\n",
    "    \"normalize_source\",\n",
    "    \"normalize_target\",\n",
    "    \"x_net\",\n",
    "    \"NUM_LOGS_PER_EPOCH\",\n",
    "    \"BEST_MODEL_PATH\",\n",
    "    \"pickle_name_source\",\n",
    "    \"pickle_name_target\",\n",
    "    \"torch_default_dtype\",\n",
    "}"
   ]
  },
  {
   "cell_type": "code",
   "execution_count": 3,
   "id": "670b5fb8",
   "metadata": {
    "execution": {
     "iopub.execute_input": "2022-03-26T01:58:59.381330Z",
     "iopub.status.busy": "2022-03-26T01:58:59.380438Z",
     "iopub.status.idle": "2022-03-26T01:58:59.388712Z",
     "shell.execute_reply": "2022-03-26T01:58:59.387999Z"
    },
    "papermill": {
     "duration": 0.035545,
     "end_time": "2022-03-26T01:58:59.388866",
     "exception": false,
     "start_time": "2022-03-26T01:58:59.353321",
     "status": "completed"
    },
    "tags": [
     "parameters"
    ]
   },
   "outputs": [],
   "source": [
    "from steves_utils.ORACLE.utils_v2 import (\n",
    "    ALL_SERIAL_NUMBERS,\n",
    "    ALL_DISTANCES_FEET_NARROWED,\n",
    ")\n",
    "\n",
    "standalone_parameters = {}\n",
    "standalone_parameters[\"experiment_name\"] = \"MANUAL CORES CNN\"\n",
    "standalone_parameters[\"lr\"] = 0.0001\n",
    "standalone_parameters[\"device\"] = \"cuda\"\n",
    "\n",
    "standalone_parameters[\"dataset_seed\"] = 1337\n",
    "standalone_parameters[\"seed\"] = 1337\n",
    "standalone_parameters[\"labels\"] = ALL_SERIAL_NUMBERS\n",
    "\n",
    "standalone_parameters[\"domains_source\"] = [8,32,50]\n",
    "standalone_parameters[\"domains_target\"] = [14,20,26,38,44,]\n",
    "\n",
    "standalone_parameters[\"num_examples_per_domain_per_label_source\"]=-1\n",
    "standalone_parameters[\"num_examples_per_domain_per_label_target\"]=-1\n",
    "\n",
    "standalone_parameters[\"pickle_name_source\"] = \"oracle.Run1_framed_2000Examples_stratified_ds.2022A.pkl\"\n",
    "standalone_parameters[\"pickle_name_target\"] = \"oracle.Run2_framed_2000Examples_stratified_ds.2022A.pkl\"\n",
    "\n",
    "standalone_parameters[\"torch_default_dtype\"] = \"torch.float32\" \n",
    "\n",
    "standalone_parameters[\"batch_size\"]=128\n",
    "\n",
    "standalone_parameters[\"n_epoch\"] = 3\n",
    "\n",
    "standalone_parameters[\"patience\"] = 10\n",
    "\n",
    "standalone_parameters[\"criteria_for_best\"] = \"target_accuracy\"\n",
    "standalone_parameters[\"normalize_source\"] = False\n",
    "standalone_parameters[\"normalize_target\"] = False\n",
    "\n",
    "standalone_parameters[\"x_net\"] =     [\n",
    "    {\"class\": \"nnReshape\", \"kargs\": {\"shape\":[-1, 1, 2, 256]}},\n",
    "    {\"class\": \"Conv2d\", \"kargs\": { \"in_channels\":1, \"out_channels\":256, \"kernel_size\":(1,7), \"bias\":False, \"padding\":(0,3), },},\n",
    "    {\"class\": \"ReLU\", \"kargs\": {\"inplace\": True}},\n",
    "    {\"class\": \"BatchNorm2d\", \"kargs\": {\"num_features\":256}},\n",
    "\n",
    "    {\"class\": \"Conv2d\", \"kargs\": { \"in_channels\":256, \"out_channels\":80, \"kernel_size\":(2,7), \"bias\":True, \"padding\":(0,3), },},\n",
    "    {\"class\": \"ReLU\", \"kargs\": {\"inplace\": True}},\n",
    "    {\"class\": \"BatchNorm2d\", \"kargs\": {\"num_features\":80}},\n",
    "    {\"class\": \"Flatten\", \"kargs\": {}},\n",
    "\n",
    "    {\"class\": \"Linear\", \"kargs\": {\"in_features\": 80*256, \"out_features\": 256}}, # 80 units per IQ pair\n",
    "    {\"class\": \"ReLU\", \"kargs\": {\"inplace\": True}},\n",
    "    {\"class\": \"BatchNorm1d\", \"kargs\": {\"num_features\":256}},\n",
    "\n",
    "    {\"class\": \"Linear\", \"kargs\": {\"in_features\": 256, \"out_features\": len(standalone_parameters[\"labels\"])}},\n",
    "]\n",
    "\n",
    "standalone_parameters[\"NUM_LOGS_PER_EPOCH\"] = 10\n",
    "standalone_parameters[\"BEST_MODEL_PATH\"] = \"./best_model.pth\""
   ]
  },
  {
   "cell_type": "code",
   "execution_count": 4,
   "id": "969792c7",
   "metadata": {
    "execution": {
     "iopub.execute_input": "2022-03-26T01:58:59.440179Z",
     "iopub.status.busy": "2022-03-26T01:58:59.427665Z",
     "iopub.status.idle": "2022-03-26T01:58:59.443145Z",
     "shell.execute_reply": "2022-03-26T01:58:59.442330Z"
    },
    "papermill": {
     "duration": 0.032386,
     "end_time": "2022-03-26T01:58:59.443299",
     "exception": false,
     "start_time": "2022-03-26T01:58:59.410913",
     "status": "completed"
    },
    "tags": [
     "injected-parameters"
    ]
   },
   "outputs": [],
   "source": [
    "# Parameters\n",
    "parameters = {\n",
    "    \"experiment_name\": \"cnn_1:oracle.run2_limited\",\n",
    "    \"labels\": [\n",
    "        \"3123D52\",\n",
    "        \"3123D65\",\n",
    "        \"3123D79\",\n",
    "        \"3123D80\",\n",
    "        \"3123D54\",\n",
    "        \"3123D70\",\n",
    "        \"3123D7B\",\n",
    "        \"3123D89\",\n",
    "        \"3123D58\",\n",
    "        \"3123D76\",\n",
    "        \"3123D7D\",\n",
    "        \"3123EFE\",\n",
    "        \"3123D64\",\n",
    "        \"3123D78\",\n",
    "        \"3123D7E\",\n",
    "        \"3124E4A\",\n",
    "    ],\n",
    "    \"domains_source\": [8, 32, 50],\n",
    "    \"domains_target\": [14, 20, 26, 38, 44],\n",
    "    \"pickle_name_source\": \"oracle.Run2_10kExamples_stratified_ds.2022A.pkl\",\n",
    "    \"pickle_name_target\": \"oracle.Run2_10kExamples_stratified_ds.2022A.pkl\",\n",
    "    \"device\": \"cuda\",\n",
    "    \"lr\": 0.0001,\n",
    "    \"batch_size\": 128,\n",
    "    \"normalize_source\": False,\n",
    "    \"normalize_target\": False,\n",
    "    \"num_examples_per_domain_per_label_source\": 2000,\n",
    "    \"num_examples_per_domain_per_label_target\": 2000,\n",
    "    \"torch_default_dtype\": \"torch.float32\",\n",
    "    \"n_epoch\": 50,\n",
    "    \"patience\": 3,\n",
    "    \"criteria_for_best\": \"target_accuracy\",\n",
    "    \"x_net\": [\n",
    "        {\"class\": \"nnReshape\", \"kargs\": {\"shape\": [-1, 1, 2, 256]}},\n",
    "        {\n",
    "            \"class\": \"Conv2d\",\n",
    "            \"kargs\": {\n",
    "                \"in_channels\": 1,\n",
    "                \"out_channels\": 256,\n",
    "                \"kernel_size\": [1, 7],\n",
    "                \"bias\": False,\n",
    "                \"padding\": [0, 3],\n",
    "            },\n",
    "        },\n",
    "        {\"class\": \"ReLU\", \"kargs\": {\"inplace\": True}},\n",
    "        {\"class\": \"BatchNorm2d\", \"kargs\": {\"num_features\": 256}},\n",
    "        {\n",
    "            \"class\": \"Conv2d\",\n",
    "            \"kargs\": {\n",
    "                \"in_channels\": 256,\n",
    "                \"out_channels\": 80,\n",
    "                \"kernel_size\": [2, 7],\n",
    "                \"bias\": True,\n",
    "                \"padding\": [0, 3],\n",
    "            },\n",
    "        },\n",
    "        {\"class\": \"ReLU\", \"kargs\": {\"inplace\": True}},\n",
    "        {\"class\": \"BatchNorm2d\", \"kargs\": {\"num_features\": 80}},\n",
    "        {\"class\": \"Flatten\", \"kargs\": {}},\n",
    "        {\"class\": \"Linear\", \"kargs\": {\"in_features\": 20480, \"out_features\": 256}},\n",
    "        {\"class\": \"ReLU\", \"kargs\": {\"inplace\": True}},\n",
    "        {\"class\": \"BatchNorm1d\", \"kargs\": {\"num_features\": 256}},\n",
    "        {\"class\": \"Linear\", \"kargs\": {\"in_features\": 256, \"out_features\": 16}},\n",
    "    ],\n",
    "    \"NUM_LOGS_PER_EPOCH\": 10,\n",
    "    \"BEST_MODEL_PATH\": \"./best_model.pth\",\n",
    "    \"dataset_seed\": 420,\n",
    "    \"seed\": 420,\n",
    "}\n"
   ]
  },
  {
   "cell_type": "code",
   "execution_count": 5,
   "id": "759b56ec",
   "metadata": {
    "execution": {
     "iopub.execute_input": "2022-03-26T01:58:59.484309Z",
     "iopub.status.busy": "2022-03-26T01:58:59.483937Z",
     "iopub.status.idle": "2022-03-26T01:58:59.487756Z",
     "shell.execute_reply": "2022-03-26T01:58:59.487033Z"
    },
    "papermill": {
     "duration": 0.025809,
     "end_time": "2022-03-26T01:58:59.487910",
     "exception": false,
     "start_time": "2022-03-26T01:58:59.462101",
     "status": "completed"
    },
    "tags": []
   },
   "outputs": [],
   "source": [
    "# Set this to True if you want to run this template directly\n",
    "STANDALONE = False\n",
    "if STANDALONE:\n",
    "    print(\"parameters not injected, running with standalone_parameters\")\n",
    "    parameters = standalone_parameters\n",
    "\n",
    "if not 'parameters' in locals() and not 'parameters' in globals():\n",
    "    raise Exception(\"Parameter injection failed\")\n",
    "\n",
    "#Use an easy dict for all the parameters\n",
    "p = EasyDict(parameters)\n",
    "\n",
    "supplied_keys = set(p.keys())\n",
    "\n",
    "if  supplied_keys != required_parameters:\n",
    "    print(\"Parameters are incorrect\")\n",
    "    if len(supplied_keys - required_parameters)>0: print(\"Shouldn't have:\", str(supplied_keys - required_parameters))\n",
    "    if len(required_parameters - supplied_keys)>0: print(\"Need to have:\", str(required_parameters - supplied_keys))\n",
    "    raise RuntimeError(\"Parameters are incorrect\")\n",
    "\n"
   ]
  },
  {
   "cell_type": "code",
   "execution_count": 6,
   "id": "d5c66a71",
   "metadata": {
    "execution": {
     "iopub.execute_input": "2022-03-26T01:58:59.530331Z",
     "iopub.status.busy": "2022-03-26T01:58:59.529773Z",
     "iopub.status.idle": "2022-03-26T01:58:59.532918Z",
     "shell.execute_reply": "2022-03-26T01:58:59.533384Z"
    },
    "papermill": {
     "duration": 0.022975,
     "end_time": "2022-03-26T01:58:59.533506",
     "exception": false,
     "start_time": "2022-03-26T01:58:59.510531",
     "status": "completed"
    },
    "tags": []
   },
   "outputs": [],
   "source": [
    "###################################\n",
    "# Set the RNGs and make it all deterministic\n",
    "###################################\n",
    "np.random.seed(p.seed)\n",
    "random.seed(p.seed)\n",
    "torch.manual_seed(p.seed)\n",
    "\n",
    "torch.use_deterministic_algorithms(True) "
   ]
  },
  {
   "cell_type": "code",
   "execution_count": 7,
   "id": "92a65876",
   "metadata": {
    "execution": {
     "iopub.execute_input": "2022-03-26T01:58:59.573293Z",
     "iopub.status.busy": "2022-03-26T01:58:59.572462Z",
     "iopub.status.idle": "2022-03-26T01:58:59.574965Z",
     "shell.execute_reply": "2022-03-26T01:58:59.575646Z"
    },
    "papermill": {
     "duration": 0.021936,
     "end_time": "2022-03-26T01:58:59.575836",
     "exception": false,
     "start_time": "2022-03-26T01:58:59.553900",
     "status": "completed"
    },
    "tags": []
   },
   "outputs": [],
   "source": [
    "torch.set_default_dtype(eval(p.torch_default_dtype))"
   ]
  },
  {
   "cell_type": "code",
   "execution_count": 8,
   "id": "f1a32f01",
   "metadata": {
    "execution": {
     "iopub.execute_input": "2022-03-26T01:58:59.614861Z",
     "iopub.status.busy": "2022-03-26T01:58:59.614491Z",
     "iopub.status.idle": "2022-03-26T01:58:59.654915Z",
     "shell.execute_reply": "2022-03-26T01:58:59.655610Z"
    },
    "papermill": {
     "duration": 0.059408,
     "end_time": "2022-03-26T01:58:59.655791",
     "exception": false,
     "start_time": "2022-03-26T01:58:59.596383",
     "status": "completed"
    },
    "tags": []
   },
   "outputs": [],
   "source": [
    "###################################\n",
    "# Build the network(s)\n",
    "# Note: It's critical to do this AFTER setting the RNG\n",
    "###################################\n",
    "x_net = build_sequential(p.x_net)"
   ]
  },
  {
   "cell_type": "code",
   "execution_count": 9,
   "id": "a276cd83",
   "metadata": {
    "execution": {
     "iopub.execute_input": "2022-03-26T01:58:59.695206Z",
     "iopub.status.busy": "2022-03-26T01:58:59.694842Z",
     "iopub.status.idle": "2022-03-26T01:58:59.697287Z",
     "shell.execute_reply": "2022-03-26T01:58:59.697589Z"
    },
    "papermill": {
     "duration": 0.021104,
     "end_time": "2022-03-26T01:58:59.697670",
     "exception": false,
     "start_time": "2022-03-26T01:58:59.676566",
     "status": "completed"
    },
    "tags": []
   },
   "outputs": [],
   "source": [
    "start_time_secs = time.time()"
   ]
  },
  {
   "cell_type": "code",
   "execution_count": 10,
   "id": "de702e48",
   "metadata": {
    "execution": {
     "iopub.execute_input": "2022-03-26T01:58:59.745174Z",
     "iopub.status.busy": "2022-03-26T01:58:59.744303Z",
     "iopub.status.idle": "2022-03-26T01:59:08.540157Z",
     "shell.execute_reply": "2022-03-26T01:59:08.539316Z"
    },
    "papermill": {
     "duration": 8.824347,
     "end_time": "2022-03-26T01:59:08.540353",
     "exception": false,
     "start_time": "2022-03-26T01:58:59.716006",
     "status": "completed"
    },
    "tags": []
   },
   "outputs": [],
   "source": [
    "def wrap_in_dataloader(p, ds):\n",
    "    return torch.utils.data.DataLoader(\n",
    "        ds,\n",
    "        batch_size=p.batch_size,\n",
    "        shuffle=True,\n",
    "        num_workers=1,\n",
    "        persistent_workers=True,\n",
    "        prefetch_factor=50,\n",
    "        pin_memory=True\n",
    "    )\n",
    "\n",
    "taf_source = Traditional_Accessor_Factory(\n",
    "    labels=p.labels,\n",
    "    domains=p.domains_source,\n",
    "    num_examples_per_domain_per_label=p.num_examples_per_domain_per_label_source,\n",
    "    pickle_path=os.path.join(get_datasets_base_path(), p.pickle_name_source),\n",
    "    seed=p.dataset_seed\n",
    ")\n",
    "train_original_source, val_original_source, test_original_source = \\\n",
    "    taf_source.get_train(), taf_source.get_val(), taf_source.get_test()\n",
    "\n",
    "\n",
    "taf_target = Traditional_Accessor_Factory(\n",
    "    labels=p.labels,\n",
    "    domains=p.domains_target,\n",
    "    num_examples_per_domain_per_label=p.num_examples_per_domain_per_label_source,\n",
    "    pickle_path=os.path.join(get_datasets_base_path(), p.pickle_name_target),\n",
    "    seed=p.dataset_seed\n",
    ")\n",
    "train_original_target, val_original_target, test_original_target = \\\n",
    "    taf_target.get_train(), taf_target.get_val(), taf_target.get_test()\n",
    "\n",
    "\n",
    "# For CNN We only use X and Y. And we only train on the source.\n",
    "# Properly form the data using a transform lambda and Lazy_Map. Finally wrap them in a dataloader\n",
    "\n",
    "transform_lambda = lambda ex: ex[:2] # Strip the tuple to just (x,y)\n",
    "\n",
    "\n",
    "train_processed_source = wrap_in_dataloader(\n",
    "    p,\n",
    "    Lazy_Map(train_original_source, transform_lambda)\n",
    ")\n",
    "val_processed_source = wrap_in_dataloader(\n",
    "    p,\n",
    "    Lazy_Map(val_original_source, transform_lambda)\n",
    ")\n",
    "test_processed_source = wrap_in_dataloader(\n",
    "    p,\n",
    "    Lazy_Map(test_original_source, transform_lambda)\n",
    ")\n",
    "\n",
    "train_processed_target = wrap_in_dataloader(\n",
    "    p,\n",
    "    Lazy_Map(train_original_target, transform_lambda)\n",
    ")\n",
    "val_processed_target = wrap_in_dataloader(\n",
    "    p,\n",
    "    Lazy_Map(val_original_target, transform_lambda)\n",
    ")\n",
    "test_processed_target  = wrap_in_dataloader(\n",
    "    p,\n",
    "    Lazy_Map(test_original_target, transform_lambda)\n",
    ")\n",
    "\n",
    "\n",
    "\n",
    "datasets = EasyDict({\n",
    "    \"source\": {\n",
    "        \"original\": {\"train\":train_original_source, \"val\":val_original_source, \"test\":test_original_source},\n",
    "        \"processed\": {\"train\":train_processed_source, \"val\":val_processed_source, \"test\":test_processed_source}\n",
    "    },\n",
    "    \"target\": {\n",
    "        \"original\": {\"train\":train_original_target, \"val\":val_original_target, \"test\":test_original_target},\n",
    "        \"processed\": {\"train\":train_processed_target, \"val\":val_processed_target, \"test\":test_processed_target}\n",
    "    },\n",
    "})"
   ]
  },
  {
   "cell_type": "code",
   "execution_count": 11,
   "id": "a11b26bd",
   "metadata": {
    "execution": {
     "iopub.execute_input": "2022-03-26T01:59:08.622882Z",
     "iopub.status.busy": "2022-03-26T01:59:08.621933Z",
     "iopub.status.idle": "2022-03-26T01:59:14.244305Z",
     "shell.execute_reply": "2022-03-26T01:59:14.245141Z"
    },
    "papermill": {
     "duration": 5.684801,
     "end_time": "2022-03-26T01:59:14.245360",
     "exception": false,
     "start_time": "2022-03-26T01:59:08.560559",
     "status": "completed"
    },
    "tags": []
   },
   "outputs": [
    {
     "data": {
      "text/plain": [
       "torch.float32"
      ]
     },
     "execution_count": 11,
     "metadata": {},
     "output_type": "execute_result"
    }
   ],
   "source": [
    "ep = next(iter(test_processed_target))\n",
    "ep[0].dtype"
   ]
  },
  {
   "cell_type": "code",
   "execution_count": 12,
   "id": "19425fad",
   "metadata": {
    "execution": {
     "iopub.execute_input": "2022-03-26T01:59:14.302256Z",
     "iopub.status.busy": "2022-03-26T01:59:14.301430Z",
     "iopub.status.idle": "2022-03-26T01:59:14.351391Z",
     "shell.execute_reply": "2022-03-26T01:59:14.350711Z"
    },
    "papermill": {
     "duration": 0.087086,
     "end_time": "2022-03-26T01:59:14.351570",
     "exception": false,
     "start_time": "2022-03-26T01:59:14.264484",
     "status": "completed"
    },
    "tags": []
   },
   "outputs": [],
   "source": [
    "model = Configurable_Vanilla(\n",
    "    x_net=x_net,\n",
    "    label_loss_object=torch.nn.NLLLoss(),\n",
    "    learning_rate=p.lr\n",
    ")"
   ]
  },
  {
   "cell_type": "code",
   "execution_count": 13,
   "id": "7f6d4f2c",
   "metadata": {
    "execution": {
     "iopub.execute_input": "2022-03-26T01:59:14.393983Z",
     "iopub.status.busy": "2022-03-26T01:59:14.393158Z",
     "iopub.status.idle": "2022-03-26T02:00:17.311288Z",
     "shell.execute_reply": "2022-03-26T02:00:17.310947Z"
    },
    "papermill": {
     "duration": 62.940253,
     "end_time": "2022-03-26T02:00:17.311377",
     "exception": false,
     "start_time": "2022-03-26T01:59:14.371124",
     "status": "completed"
    },
    "tags": []
   },
   "outputs": [
    {
     "name": "stdout",
     "output_type": "stream",
     "text": [
      "epoch: 1, [batch: 1 / 525], examples_per_second: 804.5270, train_label_loss: 2.7944, \n"
     ]
    },
    {
     "name": "stdout",
     "output_type": "stream",
     "text": [
      "epoch: 1, [batch: 53 / 525], examples_per_second: 10429.9669, train_label_loss: 2.6984, \n"
     ]
    },
    {
     "name": "stdout",
     "output_type": "stream",
     "text": [
      "epoch: 1, [batch: 105 / 525], examples_per_second: 10453.4737, train_label_loss: 2.5455, \n"
     ]
    },
    {
     "name": "stdout",
     "output_type": "stream",
     "text": [
      "epoch: 1, [batch: 158 / 525], examples_per_second: 10605.5730, train_label_loss: 2.4572, \n"
     ]
    },
    {
     "name": "stdout",
     "output_type": "stream",
     "text": [
      "epoch: 1, [batch: 210 / 525], examples_per_second: 10682.2240, train_label_loss: 2.4412, \n"
     ]
    },
    {
     "name": "stdout",
     "output_type": "stream",
     "text": [
      "epoch: 1, [batch: 263 / 525], examples_per_second: 10688.9108, train_label_loss: 2.3588, \n"
     ]
    },
    {
     "name": "stdout",
     "output_type": "stream",
     "text": [
      "epoch: 1, [batch: 315 / 525], examples_per_second: 10706.8091, train_label_loss: 2.3127, \n"
     ]
    },
    {
     "name": "stdout",
     "output_type": "stream",
     "text": [
      "epoch: 1, [batch: 367 / 525], examples_per_second: 10681.4924, train_label_loss: 2.2628, \n"
     ]
    },
    {
     "name": "stdout",
     "output_type": "stream",
     "text": [
      "epoch: 1, [batch: 420 / 525], examples_per_second: 10741.4797, train_label_loss: 2.1890, \n"
     ]
    },
    {
     "name": "stdout",
     "output_type": "stream",
     "text": [
      "epoch: 1, [batch: 472 / 525], examples_per_second: 10428.7552, train_label_loss: 2.1378, \n"
     ]
    },
    {
     "name": "stdout",
     "output_type": "stream",
     "text": [
      "=============================================================\n",
      "epoch: 1, source_val_acc_label: 0.3098, source_val_label_loss: 2.0736, target_val_acc_label: 0.0550, target_val_label_loss: 4.1852, \n",
      "=============================================================\n"
     ]
    },
    {
     "name": "stdout",
     "output_type": "stream",
     "text": [
      "New best\n",
      "epoch: 2, [batch: 1 / 525], examples_per_second: 98.2215, train_label_loss: 2.0614, \n"
     ]
    },
    {
     "name": "stdout",
     "output_type": "stream",
     "text": [
      "epoch: 2, [batch: 53 / 525], examples_per_second: 10533.2236, train_label_loss: 2.0206, \n"
     ]
    },
    {
     "name": "stdout",
     "output_type": "stream",
     "text": [
      "epoch: 2, [batch: 105 / 525], examples_per_second: 10638.7885, train_label_loss: 1.8724, \n"
     ]
    },
    {
     "name": "stdout",
     "output_type": "stream",
     "text": [
      "epoch: 2, [batch: 158 / 525], examples_per_second: 10558.4192, train_label_loss: 1.8519, \n"
     ]
    },
    {
     "name": "stdout",
     "output_type": "stream",
     "text": [
      "epoch: 2, [batch: 210 / 525], examples_per_second: 10683.6344, train_label_loss: 1.9849, \n"
     ]
    },
    {
     "name": "stdout",
     "output_type": "stream",
     "text": [
      "epoch: 2, [batch: 263 / 525], examples_per_second: 10634.9892, train_label_loss: 1.9307, \n"
     ]
    },
    {
     "name": "stdout",
     "output_type": "stream",
     "text": [
      "epoch: 2, [batch: 315 / 525], examples_per_second: 10558.9277, train_label_loss: 1.7722, \n"
     ]
    },
    {
     "name": "stdout",
     "output_type": "stream",
     "text": [
      "epoch: 2, [batch: 367 / 525], examples_per_second: 10728.3116, train_label_loss: 1.6404, \n"
     ]
    },
    {
     "name": "stdout",
     "output_type": "stream",
     "text": [
      "epoch: 2, [batch: 420 / 525], examples_per_second: 10671.2685, train_label_loss: 1.6301, \n"
     ]
    },
    {
     "name": "stdout",
     "output_type": "stream",
     "text": [
      "epoch: 2, [batch: 472 / 525], examples_per_second: 10687.2948, train_label_loss: 1.7961, \n"
     ]
    },
    {
     "name": "stdout",
     "output_type": "stream",
     "text": [
      "=============================================================\n",
      "epoch: 2, source_val_acc_label: 0.4377, source_val_label_loss: 1.6406, target_val_acc_label: 0.0570, target_val_label_loss: 5.9335, \n",
      "=============================================================\n"
     ]
    },
    {
     "name": "stdout",
     "output_type": "stream",
     "text": [
      "New best\n",
      "epoch: 3, [batch: 1 / 525], examples_per_second: 121.1812, train_label_loss: 1.5553, \n"
     ]
    },
    {
     "name": "stdout",
     "output_type": "stream",
     "text": [
      "epoch: 3, [batch: 53 / 525], examples_per_second: 10249.1074, train_label_loss: 1.5586, \n"
     ]
    },
    {
     "name": "stdout",
     "output_type": "stream",
     "text": [
      "epoch: 3, [batch: 105 / 525], examples_per_second: 10578.7211, train_label_loss: 1.4118, \n"
     ]
    },
    {
     "name": "stdout",
     "output_type": "stream",
     "text": [
      "epoch: 3, [batch: 158 / 525], examples_per_second: 10601.9493, train_label_loss: 1.4622, \n"
     ]
    },
    {
     "name": "stdout",
     "output_type": "stream",
     "text": [
      "epoch: 3, [batch: 210 / 525], examples_per_second: 10683.2133, train_label_loss: 1.3005, \n"
     ]
    },
    {
     "name": "stdout",
     "output_type": "stream",
     "text": [
      "epoch: 3, [batch: 263 / 525], examples_per_second: 10592.6901, train_label_loss: 1.3310, \n"
     ]
    },
    {
     "name": "stdout",
     "output_type": "stream",
     "text": [
      "epoch: 3, [batch: 315 / 525], examples_per_second: 10747.7030, train_label_loss: 1.3189, \n"
     ]
    },
    {
     "name": "stdout",
     "output_type": "stream",
     "text": [
      "epoch: 3, [batch: 367 / 525], examples_per_second: 10519.8476, train_label_loss: 1.4032, \n"
     ]
    },
    {
     "name": "stdout",
     "output_type": "stream",
     "text": [
      "epoch: 3, [batch: 420 / 525], examples_per_second: 10457.5774, train_label_loss: 1.3635, \n"
     ]
    },
    {
     "name": "stdout",
     "output_type": "stream",
     "text": [
      "epoch: 3, [batch: 472 / 525], examples_per_second: 10481.3036, train_label_loss: 1.4819, \n"
     ]
    },
    {
     "name": "stdout",
     "output_type": "stream",
     "text": [
      "=============================================================\n",
      "epoch: 3, source_val_acc_label: 0.5168, source_val_label_loss: 1.4462, target_val_acc_label: 0.0648, target_val_label_loss: 7.4512, \n",
      "=============================================================\n"
     ]
    },
    {
     "name": "stdout",
     "output_type": "stream",
     "text": [
      "New best\n",
      "epoch: 4, [batch: 1 / 525], examples_per_second: 120.1586, train_label_loss: 1.1500, \n"
     ]
    },
    {
     "name": "stdout",
     "output_type": "stream",
     "text": [
      "epoch: 4, [batch: 53 / 525], examples_per_second: 10432.4380, train_label_loss: 1.1453, \n"
     ]
    },
    {
     "name": "stdout",
     "output_type": "stream",
     "text": [
      "epoch: 4, [batch: 105 / 525], examples_per_second: 10238.9845, train_label_loss: 1.2201, \n"
     ]
    },
    {
     "name": "stdout",
     "output_type": "stream",
     "text": [
      "epoch: 4, [batch: 158 / 525], examples_per_second: 10784.9943, train_label_loss: 1.1883, \n"
     ]
    },
    {
     "name": "stdout",
     "output_type": "stream",
     "text": [
      "epoch: 4, [batch: 210 / 525], examples_per_second: 10552.0871, train_label_loss: 1.2450, \n"
     ]
    },
    {
     "name": "stdout",
     "output_type": "stream",
     "text": [
      "epoch: 4, [batch: 263 / 525], examples_per_second: 10702.5441, train_label_loss: 1.0672, \n"
     ]
    },
    {
     "name": "stdout",
     "output_type": "stream",
     "text": [
      "epoch: 4, [batch: 315 / 525], examples_per_second: 10765.0430, train_label_loss: 1.0654, \n"
     ]
    },
    {
     "name": "stdout",
     "output_type": "stream",
     "text": [
      "epoch: 4, [batch: 367 / 525], examples_per_second: 10713.2352, train_label_loss: 1.0335, \n"
     ]
    },
    {
     "name": "stdout",
     "output_type": "stream",
     "text": [
      "epoch: 4, [batch: 420 / 525], examples_per_second: 10652.2724, train_label_loss: 1.1132, \n"
     ]
    },
    {
     "name": "stdout",
     "output_type": "stream",
     "text": [
      "epoch: 4, [batch: 472 / 525], examples_per_second: 10742.3391, train_label_loss: 1.1246, \n"
     ]
    },
    {
     "name": "stdout",
     "output_type": "stream",
     "text": [
      "=============================================================\n",
      "epoch: 4, source_val_acc_label: 0.4999, source_val_label_loss: 1.4063, target_val_acc_label: 0.0731, target_val_label_loss: 9.0668, \n",
      "=============================================================\n"
     ]
    },
    {
     "name": "stdout",
     "output_type": "stream",
     "text": [
      "New best\n",
      "epoch: 5, [batch: 1 / 525], examples_per_second: 118.1828, train_label_loss: 0.9986, \n"
     ]
    },
    {
     "name": "stdout",
     "output_type": "stream",
     "text": [
      "epoch: 5, [batch: 53 / 525], examples_per_second: 10546.6895, train_label_loss: 0.9263, \n"
     ]
    },
    {
     "name": "stdout",
     "output_type": "stream",
     "text": [
      "epoch: 5, [batch: 105 / 525], examples_per_second: 10583.9469, train_label_loss: 0.9700, \n"
     ]
    },
    {
     "name": "stdout",
     "output_type": "stream",
     "text": [
      "epoch: 5, [batch: 158 / 525], examples_per_second: 10708.1023, train_label_loss: 0.9856, \n"
     ]
    },
    {
     "name": "stdout",
     "output_type": "stream",
     "text": [
      "epoch: 5, [batch: 210 / 525], examples_per_second: 10474.5002, train_label_loss: 0.8370, \n"
     ]
    },
    {
     "name": "stdout",
     "output_type": "stream",
     "text": [
      "epoch: 5, [batch: 263 / 525], examples_per_second: 10684.8688, train_label_loss: 0.9262, \n"
     ]
    },
    {
     "name": "stdout",
     "output_type": "stream",
     "text": [
      "epoch: 5, [batch: 315 / 525], examples_per_second: 10517.4379, train_label_loss: 0.8740, \n"
     ]
    },
    {
     "name": "stdout",
     "output_type": "stream",
     "text": [
      "epoch: 5, [batch: 367 / 525], examples_per_second: 10642.2519, train_label_loss: 0.8546, \n"
     ]
    },
    {
     "name": "stdout",
     "output_type": "stream",
     "text": [
      "epoch: 5, [batch: 420 / 525], examples_per_second: 10776.9228, train_label_loss: 0.8901, \n"
     ]
    },
    {
     "name": "stdout",
     "output_type": "stream",
     "text": [
      "epoch: 5, [batch: 472 / 525], examples_per_second: 10720.8586, train_label_loss: 0.8220, \n"
     ]
    },
    {
     "name": "stdout",
     "output_type": "stream",
     "text": [
      "=============================================================\n",
      "epoch: 5, source_val_acc_label: 0.6729, source_val_label_loss: 0.9931, target_val_acc_label: 0.0548, target_val_label_loss: 8.9612, \n",
      "=============================================================\n"
     ]
    },
    {
     "name": "stdout",
     "output_type": "stream",
     "text": [
      "epoch: 6, [batch: 1 / 525], examples_per_second: 123.4037, train_label_loss: 0.7090, \n"
     ]
    },
    {
     "name": "stdout",
     "output_type": "stream",
     "text": [
      "epoch: 6, [batch: 53 / 525], examples_per_second: 10619.6948, train_label_loss: 0.6884, \n"
     ]
    },
    {
     "name": "stdout",
     "output_type": "stream",
     "text": [
      "epoch: 6, [batch: 105 / 525], examples_per_second: 10726.3247, train_label_loss: 0.6300, \n"
     ]
    },
    {
     "name": "stdout",
     "output_type": "stream",
     "text": [
      "epoch: 6, [batch: 158 / 525], examples_per_second: 10691.0192, train_label_loss: 0.7099, \n"
     ]
    },
    {
     "name": "stdout",
     "output_type": "stream",
     "text": [
      "epoch: 6, [batch: 210 / 525], examples_per_second: 10750.1448, train_label_loss: 0.7588, \n"
     ]
    },
    {
     "name": "stdout",
     "output_type": "stream",
     "text": [
      "epoch: 6, [batch: 263 / 525], examples_per_second: 10684.4436, train_label_loss: 0.6298, \n"
     ]
    },
    {
     "name": "stdout",
     "output_type": "stream",
     "text": [
      "epoch: 6, [batch: 315 / 525], examples_per_second: 10748.7375, train_label_loss: 0.6643, \n"
     ]
    },
    {
     "name": "stdout",
     "output_type": "stream",
     "text": [
      "epoch: 6, [batch: 367 / 525], examples_per_second: 10700.9568, train_label_loss: 0.6275, \n"
     ]
    },
    {
     "name": "stdout",
     "output_type": "stream",
     "text": [
      "epoch: 6, [batch: 420 / 525], examples_per_second: 10587.1999, train_label_loss: 0.7156, \n"
     ]
    },
    {
     "name": "stdout",
     "output_type": "stream",
     "text": [
      "epoch: 6, [batch: 472 / 525], examples_per_second: 10677.9584, train_label_loss: 0.8191, \n"
     ]
    },
    {
     "name": "stdout",
     "output_type": "stream",
     "text": [
      "=============================================================\n",
      "epoch: 6, source_val_acc_label: 0.5545, source_val_label_loss: 1.2439, target_val_acc_label: 0.0553, target_val_label_loss: 10.8144, \n",
      "=============================================================\n"
     ]
    },
    {
     "name": "stdout",
     "output_type": "stream",
     "text": [
      "epoch: 7, [batch: 1 / 525], examples_per_second: 123.9315, train_label_loss: 0.4915, \n"
     ]
    },
    {
     "name": "stdout",
     "output_type": "stream",
     "text": [
      "epoch: 7, [batch: 53 / 525], examples_per_second: 10500.7436, train_label_loss: 0.6257, \n"
     ]
    },
    {
     "name": "stdout",
     "output_type": "stream",
     "text": [
      "epoch: 7, [batch: 105 / 525], examples_per_second: 10671.7174, train_label_loss: 0.7694, \n"
     ]
    },
    {
     "name": "stdout",
     "output_type": "stream",
     "text": [
      "epoch: 7, [batch: 158 / 525], examples_per_second: 10714.2915, train_label_loss: 0.4661, \n"
     ]
    },
    {
     "name": "stdout",
     "output_type": "stream",
     "text": [
      "epoch: 7, [batch: 210 / 525], examples_per_second: 10699.0252, train_label_loss: 0.6166, \n"
     ]
    },
    {
     "name": "stdout",
     "output_type": "stream",
     "text": [
      "epoch: 7, [batch: 263 / 525], examples_per_second: 10778.9518, train_label_loss: 0.5903, \n"
     ]
    },
    {
     "name": "stdout",
     "output_type": "stream",
     "text": [
      "epoch: 7, [batch: 315 / 525], examples_per_second: 10626.7246, train_label_loss: 0.5795, \n"
     ]
    },
    {
     "name": "stdout",
     "output_type": "stream",
     "text": [
      "epoch: 7, [batch: 367 / 525], examples_per_second: 10605.0791, train_label_loss: 0.6801, \n"
     ]
    },
    {
     "name": "stdout",
     "output_type": "stream",
     "text": [
      "epoch: 7, [batch: 420 / 525], examples_per_second: 10793.9173, train_label_loss: 0.4657, \n"
     ]
    },
    {
     "name": "stdout",
     "output_type": "stream",
     "text": [
      "epoch: 7, [batch: 472 / 525], examples_per_second: 10717.5825, train_label_loss: 0.5471, \n"
     ]
    },
    {
     "name": "stdout",
     "output_type": "stream",
     "text": [
      "=============================================================\n",
      "epoch: 7, source_val_acc_label: 0.6469, source_val_label_loss: 0.9827, target_val_acc_label: 0.0542, target_val_label_loss: 11.5457, \n",
      "=============================================================\n"
     ]
    },
    {
     "name": "stdout",
     "output_type": "stream",
     "text": [
      "epoch: 8, [batch: 1 / 525], examples_per_second: 127.9612, train_label_loss: 0.4109, \n"
     ]
    },
    {
     "name": "stdout",
     "output_type": "stream",
     "text": [
      "epoch: 8, [batch: 53 / 525], examples_per_second: 10517.8104, train_label_loss: 0.4766, \n"
     ]
    },
    {
     "name": "stdout",
     "output_type": "stream",
     "text": [
      "epoch: 8, [batch: 105 / 525], examples_per_second: 10696.9509, train_label_loss: 0.4256, \n"
     ]
    },
    {
     "name": "stdout",
     "output_type": "stream",
     "text": [
      "epoch: 8, [batch: 158 / 525], examples_per_second: 10553.6259, train_label_loss: 0.3769, \n"
     ]
    },
    {
     "name": "stdout",
     "output_type": "stream",
     "text": [
      "epoch: 8, [batch: 210 / 525], examples_per_second: 10705.6841, train_label_loss: 0.3181, \n"
     ]
    },
    {
     "name": "stdout",
     "output_type": "stream",
     "text": [
      "epoch: 8, [batch: 263 / 525], examples_per_second: 10716.3051, train_label_loss: 0.4335, \n"
     ]
    },
    {
     "name": "stdout",
     "output_type": "stream",
     "text": [
      "epoch: 8, [batch: 315 / 525], examples_per_second: 10620.2523, train_label_loss: 0.5487, \n"
     ]
    },
    {
     "name": "stdout",
     "output_type": "stream",
     "text": [
      "epoch: 8, [batch: 367 / 525], examples_per_second: 10798.6090, train_label_loss: 0.4238, \n"
     ]
    },
    {
     "name": "stdout",
     "output_type": "stream",
     "text": [
      "epoch: 8, [batch: 420 / 525], examples_per_second: 10571.4347, train_label_loss: 0.4531, \n"
     ]
    },
    {
     "name": "stdout",
     "output_type": "stream",
     "text": [
      "epoch: 8, [batch: 472 / 525], examples_per_second: 10721.2127, train_label_loss: 0.4149, \n"
     ]
    },
    {
     "name": "stdout",
     "output_type": "stream",
     "text": [
      "=============================================================\n",
      "epoch: 8, source_val_acc_label: 0.6255, source_val_label_loss: 0.9941, target_val_acc_label: 0.0555, target_val_label_loss: 12.8130, \n",
      "=============================================================\n"
     ]
    },
    {
     "name": "stdout",
     "output_type": "stream",
     "text": [
      "Patience (3) exhausted\n"
     ]
    }
   ],
   "source": [
    "jig = Vanilla_Train_Eval_Test_Jig(\n",
    "    model=model,\n",
    "    path_to_best_model=p.BEST_MODEL_PATH,\n",
    "    device=p.device,\n",
    "    label_loss_object=torch.nn.NLLLoss(),\n",
    ")\n",
    "\n",
    "jig.train(\n",
    "    train_iterable=datasets.source.processed.train,\n",
    "    source_val_iterable=datasets.source.processed.val,\n",
    "    target_val_iterable=datasets.target.processed.val,\n",
    "    patience=p.patience,\n",
    "    num_epochs=p.n_epoch,\n",
    "    num_logs_per_epoch=p.NUM_LOGS_PER_EPOCH,\n",
    "    criteria_for_best=p.criteria_for_best\n",
    ")"
   ]
  },
  {
   "cell_type": "code",
   "execution_count": 14,
   "id": "4bc2ac17",
   "metadata": {
    "execution": {
     "iopub.execute_input": "2022-03-26T02:00:17.391299Z",
     "iopub.status.busy": "2022-03-26T02:00:17.388607Z",
     "iopub.status.idle": "2022-03-26T02:00:17.393410Z",
     "shell.execute_reply": "2022-03-26T02:00:17.393097Z"
    },
    "papermill": {
     "duration": 0.044992,
     "end_time": "2022-03-26T02:00:17.393479",
     "exception": false,
     "start_time": "2022-03-26T02:00:17.348487",
     "status": "completed"
    },
    "tags": []
   },
   "outputs": [],
   "source": [
    "total_experiment_time_secs = time.time() - start_time_secs"
   ]
  },
  {
   "cell_type": "code",
   "execution_count": 15,
   "id": "cae88f23",
   "metadata": {
    "execution": {
     "iopub.execute_input": "2022-03-26T02:00:17.480755Z",
     "iopub.status.busy": "2022-03-26T02:00:17.472385Z",
     "iopub.status.idle": "2022-03-26T02:00:29.352928Z",
     "shell.execute_reply": "2022-03-26T02:00:29.353593Z"
    },
    "papermill": {
     "duration": 11.920414,
     "end_time": "2022-03-26T02:00:29.353832",
     "exception": false,
     "start_time": "2022-03-26T02:00:17.433418",
     "status": "completed"
    },
    "tags": []
   },
   "outputs": [],
   "source": [
    "source_test_label_accuracy, source_test_label_loss = jig.test(datasets.source.processed.test)\n",
    "target_test_label_accuracy, target_test_label_loss = jig.test(datasets.target.processed.test)\n",
    "\n",
    "source_val_label_accuracy, source_val_label_loss = jig.test(datasets.source.processed.val)\n",
    "target_val_label_accuracy, target_val_label_loss = jig.test(datasets.target.processed.val)\n",
    "\n",
    "history = jig.get_history()\n",
    "\n",
    "total_epochs_trained = len(history[\"epoch_indices\"])\n",
    "\n",
    "val_dl = wrap_in_dataloader(p, Sequence_Aggregator((datasets.source.original.val, datasets.target.original.val)))\n",
    "\n",
    "confusion = confusion_by_domain_over_dataloader(model, p.device, val_dl, forward_uses_domain=False)\n",
    "per_domain_accuracy = per_domain_accuracy_from_confusion(confusion)\n",
    "\n",
    "# Add a key to per_domain_accuracy for if it was a source domain\n",
    "for domain, accuracy in per_domain_accuracy.items():\n",
    "    per_domain_accuracy[domain] = {\n",
    "        \"accuracy\": accuracy,\n",
    "        \"source?\": domain in p.domains_source\n",
    "    }\n",
    "\n",
    "# Do an independent accuracy assesment JUST TO BE SURE!\n",
    "# _source_test_label_accuracy = independent_accuracy_assesment(model, datasets.source.processed.test, p.device)\n",
    "# _target_test_label_accuracy = independent_accuracy_assesment(model, datasets.target.processed.test, p.device)\n",
    "# _source_val_label_accuracy = independent_accuracy_assesment(model, datasets.source.processed.val, p.device)\n",
    "# _target_val_label_accuracy = independent_accuracy_assesment(model, datasets.target.processed.val, p.device)\n",
    "\n",
    "# assert(_source_test_label_accuracy == source_test_label_accuracy)\n",
    "# assert(_target_test_label_accuracy == target_test_label_accuracy)\n",
    "# assert(_source_val_label_accuracy == source_val_label_accuracy)\n",
    "# assert(_target_val_label_accuracy == target_val_label_accuracy)\n",
    "\n",
    "###################################\n",
    "# Write out the results\n",
    "###################################\n",
    "\n",
    "experiment = {\n",
    "    \"experiment_name\": p.experiment_name,\n",
    "    \"parameters\": p,\n",
    "    \"results\": {\n",
    "        \"source_test_label_accuracy\": source_test_label_accuracy,\n",
    "        \"source_test_label_loss\": source_test_label_loss,\n",
    "        \"target_test_label_accuracy\": target_test_label_accuracy,\n",
    "        \"target_test_label_loss\": target_test_label_loss,\n",
    "        \"source_val_label_accuracy\": source_val_label_accuracy,\n",
    "        \"source_val_label_loss\": source_val_label_loss,\n",
    "        \"target_val_label_accuracy\": target_val_label_accuracy,\n",
    "        \"target_val_label_loss\": target_val_label_loss,\n",
    "        \"total_epochs_trained\": total_epochs_trained,\n",
    "        \"total_experiment_time_secs\": total_experiment_time_secs,\n",
    "        \"confusion\": confusion,\n",
    "        \"per_domain_accuracy\": per_domain_accuracy,\n",
    "    },\n",
    "    \"history\": history,\n",
    "    \"dataset_metrics\": get_dataset_metrics(datasets, \"cnn\"),\n",
    "}"
   ]
  },
  {
   "cell_type": "code",
   "execution_count": 16,
   "id": "74c318cf",
   "metadata": {
    "execution": {
     "iopub.execute_input": "2022-03-26T02:00:29.466117Z",
     "iopub.status.busy": "2022-03-26T02:00:29.465294Z",
     "iopub.status.idle": "2022-03-26T02:00:29.658842Z",
     "shell.execute_reply": "2022-03-26T02:00:29.659517Z"
    },
    "papermill": {
     "duration": 0.261033,
     "end_time": "2022-03-26T02:00:29.659738",
     "exception": false,
     "start_time": "2022-03-26T02:00:29.398705",
     "status": "completed"
    },
    "tags": []
   },
   "outputs": [
    {
     "data": {
      "text/plain": [
       "<AxesSubplot:title={'center':'Source Train Label Loss vs Source Val Label Loss'}, xlabel='Epoch'>"
      ]
     },
     "execution_count": 16,
     "metadata": {},
     "output_type": "execute_result"
    },
    {
     "data": {
      "image/png": "[encoded data removed]",
      "text/plain": [
       "<Figure size 1080x504 with 1 Axes>"
      ]
     },
     "metadata": {
      "needs_background": "light"
     },
     "output_type": "display_data"
    }
   ],
   "source": [
    "get_loss_curve(experiment)"
   ]
  },
  {
   "cell_type": "code",
   "execution_count": 17,
   "id": "59376601",
   "metadata": {
    "execution": {
     "iopub.execute_input": "2022-03-26T02:00:29.763688Z",
     "iopub.status.busy": "2022-03-26T02:00:29.762857Z",
     "iopub.status.idle": "2022-03-26T02:00:30.054416Z",
     "shell.execute_reply": "2022-03-26T02:00:30.055084Z"
    },
    "papermill": {
     "duration": 0.349448,
     "end_time": "2022-03-26T02:00:30.055266",
     "exception": false,
     "start_time": "2022-03-26T02:00:29.705818",
     "status": "completed"
    },
    "tags": []
   },
   "outputs": [
    {
     "data": {
      "text/plain": [
       "<AxesSubplot:title={'center':'Results'}>"
      ]
     },
     "execution_count": 17,
     "metadata": {},
     "output_type": "execute_result"
    },
    {
     "data": {
      "image/png": "[encoded data removed]",
      "text/plain": [
       "<Figure size 1080x504 with 1 Axes>"
      ]
     },
     "metadata": {
      "needs_background": "light"
     },
     "output_type": "display_data"
    }
   ],
   "source": [
    "get_results_table(experiment)"
   ]
  },
  {
   "cell_type": "code",
   "execution_count": 18,
   "id": "e80c5c98",
   "metadata": {
    "execution": {
     "iopub.execute_input": "2022-03-26T02:00:30.163821Z",
     "iopub.status.busy": "2022-03-26T02:00:30.155431Z",
     "iopub.status.idle": "2022-03-26T02:00:30.319574Z",
     "shell.execute_reply": "2022-03-26T02:00:30.320251Z"
    },
    "papermill": {
     "duration": 0.218131,
     "end_time": "2022-03-26T02:00:30.320431",
     "exception": false,
     "start_time": "2022-03-26T02:00:30.102300",
     "status": "completed"
    },
    "tags": []
   },
   "outputs": [
    {
     "data": {
      "text/plain": [
       "<AxesSubplot:title={'center':'Per Domain Accuracy'}, xlabel='domain'>"
      ]
     },
     "execution_count": 18,
     "metadata": {},
     "output_type": "execute_result"
    },
    {
     "data": {
      "image/png": "[encoded data removed]",
      "text/plain": [
       "<Figure size 1080x504 with 1 Axes>"
      ]
     },
     "metadata": {
      "needs_background": "light"
     },
     "output_type": "display_data"
    }
   ],
   "source": [
    "get_domain_accuracies(experiment)"
   ]
  },
  {
   "cell_type": "code",
   "execution_count": 19,
   "id": "086fdd10",
   "metadata": {
    "execution": {
     "iopub.execute_input": "2022-03-26T02:00:30.415069Z",
     "iopub.status.busy": "2022-03-26T02:00:30.414590Z",
     "iopub.status.idle": "2022-03-26T02:00:30.418986Z",
     "shell.execute_reply": "2022-03-26T02:00:30.418509Z"
    },
    "papermill": {
     "duration": 0.052349,
     "end_time": "2022-03-26T02:00:30.419091",
     "exception": false,
     "start_time": "2022-03-26T02:00:30.366742",
     "status": "completed"
    },
    "tags": []
   },
   "outputs": [
    {
     "name": "stdout",
     "output_type": "stream",
     "text": [
      "Source Test Label Accuracy: 0.5027777777777778 Target Test Label Accuracy: 0.07345833333333333\n",
      "Source Val Label Accuracy: 0.49993055555555554 Target Val Label Accuracy: 0.073125\n"
     ]
    }
   ],
   "source": [
    "print(\"Source Test Label Accuracy:\", experiment[\"results\"][\"source_test_label_accuracy\"], \"Target Test Label Accuracy:\", experiment[\"results\"][\"target_test_label_accuracy\"])\n",
    "print(\"Source Val Label Accuracy:\", experiment[\"results\"][\"source_val_label_accuracy\"], \"Target Val Label Accuracy:\", experiment[\"results\"][\"target_val_label_accuracy\"])"
   ]
  },
  {
   "cell_type": "code",
   "execution_count": 20,
   "id": "9f450536",
   "metadata": {
    "execution": {
     "iopub.execute_input": "2022-03-26T02:00:30.516815Z",
     "iopub.status.busy": "2022-03-26T02:00:30.516450Z",
     "iopub.status.idle": "2022-03-26T02:00:30.520651Z",
     "shell.execute_reply": "2022-03-26T02:00:30.521328Z"
    },
    "papermill": {
     "duration": 0.053917,
     "end_time": "2022-03-26T02:00:30.521509",
     "exception": false,
     "start_time": "2022-03-26T02:00:30.467592",
     "status": "completed"
    },
    "tags": [
     "experiment_json"
    ]
   },
   "outputs": [
    {
     "data": {
      "text/plain": [
       "'{\"experiment_name\": \"cnn_1:oracle.run2_limited\", \"parameters\": {\"experiment_name\": \"cnn_1:oracle.run2_limited\", \"labels\": [\"3123D52\", \"3123D65\", \"3123D79\", \"3123D80\", \"3123D54\", \"3123D70\", \"3123D7B\", \"3123D89\", \"3123D58\", \"3123D76\", \"3123D7D\", \"3123EFE\", \"3123D64\", \"3123D78\", \"3123D7E\", \"3124E4A\"], \"domains_source\": [8, 32, 50], \"domains_target\": [14, 20, 26, 38, 44], \"pickle_name_source\": \"oracle.Run2_10kExamples_stratified_ds.2022A.pkl\", \"pickle_name_target\": \"oracle.Run2_10kExamples_stratified_ds.2022A.pkl\", \"device\": \"cuda\", \"lr\": 0.0001, \"batch_size\": 128, \"normalize_source\": false, \"normalize_target\": false, \"num_examples_per_domain_per_label_source\": 2000, \"num_examples_per_domain_per_label_target\": 2000, \"torch_default_dtype\": \"torch.float32\", \"n_epoch\": 50, \"patience\": 3, \"criteria_for_best\": \"target_accuracy\", \"x_net\": [{\"class\": \"nnReshape\", \"kargs\": {\"shape\": [-1, 1, 2, 256]}}, {\"class\": \"Conv2d\", \"kargs\": {\"in_channels\": 1, \"out_channels\": 256, \"kernel_size\": [1, 7], \"bias\": false, \"padding\": [0, 3]}}, {\"class\": \"ReLU\", \"kargs\": {\"inplace\": true}}, {\"class\": \"BatchNorm2d\", \"kargs\": {\"num_features\": 256}}, {\"class\": \"Conv2d\", \"kargs\": {\"in_channels\": 256, \"out_channels\": 80, \"kernel_size\": [2, 7], \"bias\": true, \"padding\": [0, 3]}}, {\"class\": \"ReLU\", \"kargs\": {\"inplace\": true}}, {\"class\": \"BatchNorm2d\", \"kargs\": {\"num_features\": 80}}, {\"class\": \"Flatten\", \"kargs\": {}}, {\"class\": \"Linear\", \"kargs\": {\"in_features\": 20480, \"out_features\": 256}}, {\"class\": \"ReLU\", \"kargs\": {\"inplace\": true}}, {\"class\": \"BatchNorm1d\", \"kargs\": {\"num_features\": 256}}, {\"class\": \"Linear\", \"kargs\": {\"in_features\": 256, \"out_features\": 16}}], \"NUM_LOGS_PER_EPOCH\": 10, \"BEST_MODEL_PATH\": \"./best_model.pth\", \"dataset_seed\": 420, \"seed\": 420}, \"results\": {\"source_test_label_accuracy\": 0.5027777777777778, \"source_test_label_loss\": 1.3950944548159574, \"target_test_label_accuracy\": 0.07345833333333333, \"target_test_label_loss\": 9.06556659049176, \"source_val_label_accuracy\": 0.49993055555555554, \"source_val_label_loss\": 1.4064051756816627, \"target_val_label_accuracy\": 0.073125, \"target_val_label_loss\": 9.064467222132581, \"total_epochs_trained\": 8, \"total_experiment_time_secs\": 77.69641852378845, \"confusion\": {\"50\": {\"2\": {\"0\": 67, \"2\": 173, \"14\": 16, \"10\": 36, \"12\": 1, \"9\": 7}, \"8\": {\"8\": 45, \"1\": 135, \"13\": 96, \"3\": 24}, \"9\": {\"15\": 169, \"5\": 44, \"7\": 61, \"9\": 25, \"4\": 1}, \"11\": {\"15\": 268, \"11\": 26, \"13\": 1, \"5\": 5}, \"10\": {\"10\": 165, \"13\": 123, \"1\": 10, \"0\": 2}, \"6\": {\"7\": 164, \"4\": 17, \"5\": 56, \"15\": 63}, \"0\": {\"0\": 89, \"10\": 183, \"2\": 19, \"1\": 8, \"14\": 1}, \"7\": {\"7\": 300}, \"1\": {\"13\": 268, \"15\": 27, \"11\": 2, \"1\": 3}, \"15\": {\"7\": 149, \"15\": 138, \"5\": 7, \"4\": 6}, \"14\": {\"14\": 215, \"12\": 9, \"2\": 30, \"13\": 36, \"9\": 5, \"0\": 5}, \"4\": {\"7\": 300}, \"5\": {\"7\": 297, \"4\": 1, \"5\": 2}, \"12\": {\"9\": 138, \"15\": 62, \"5\": 88, \"7\": 1, \"12\": 10, \"11\": 1}, \"13\": {\"13\": 297, \"3\": 3}, \"3\": {\"3\": 251, \"7\": 49}}, \"26\": {\"12\": {\"3\": 145, \"12\": 97, \"6\": 57, \"9\": 1}, \"11\": {\"6\": 269, \"12\": 30, \"9\": 1}, \"15\": {\"3\": 300}, \"4\": {\"3\": 300}, \"3\": {\"3\": 300}, \"7\": {\"3\": 300}, \"5\": {\"3\": 226, \"12\": 56, \"6\": 16, \"9\": 2}, \"1\": {\"3\": 282, \"12\": 18}, \"14\": {\"3\": 298, \"12\": 2}, \"8\": {\"3\": 300}, \"13\": {\"3\": 290, \"6\": 10}, \"9\": {\"3\": 300}, \"0\": {\"3\": 300}, \"10\": {\"3\": 293, \"12\": 7}, \"2\": {\"3\": 300}, \"6\": {\"12\": 58, \"3\": 236, \"6\": 5, \"9\": 1}}, \"8\": {\"6\": {\"4\": 29, \"6\": 132, \"8\": 52, \"14\": 79, \"1\": 3, \"0\": 2, \"7\": 2, \"11\": 1}, \"13\": {\"10\": 43, \"13\": 184, \"4\": 10, \"1\": 25, \"5\": 20, \"2\": 4, \"7\": 11, \"8\": 1, \"6\": 2}, \"4\": {\"1\": 10, \"7\": 19, \"4\": 139, \"6\": 54, \"14\": 54, \"11\": 9, \"8\": 12, \"13\": 2, \"5\": 1}, \"0\": {\"0\": 299, \"6\": 1}, \"15\": {\"15\": 173, \"12\": 93, \"2\": 29, \"3\": 5}, \"10\": {\"13\": 57, \"1\": 18, \"5\": 53, \"10\": 146, \"4\": 8, \"7\": 10, \"14\": 5, \"6\": 2, \"2\": 1}, \"14\": {\"14\": 186, \"6\": 73, \"8\": 16, \"4\": 14, \"1\": 10, \"0\": 1}, \"2\": {\"2\": 292, \"15\": 5, \"12\": 2, \"13\": 1}, \"9\": {\"9\": 300}, \"12\": {\"12\": 225, \"15\": 45, \"2\": 30}, \"7\": {\"7\": 65, \"4\": 130, \"6\": 16, \"11\": 17, \"14\": 19, \"1\": 19, \"10\": 9, \"13\": 20, \"8\": 5}, \"11\": {\"8\": 67, \"11\": 220, \"6\": 7, \"13\": 1, \"7\": 1, \"12\": 2, \"4\": 1, \"14\": 1}, \"5\": {\"1\": 55, \"7\": 5, \"10\": 68, \"13\": 21, \"5\": 135, \"14\": 9, \"4\": 6, \"6\": 1}, \"3\": {\"3\": 299, \"15\": 1}, \"8\": {\"11\": 90, \"8\": 165, \"6\": 33, \"4\": 10, \"14\": 2}, \"1\": {\"14\": 41, \"6\": 9, \"1\": 205, \"5\": 8, \"4\": 4, \"7\": 3, \"13\": 14, \"11\": 1, \"8\": 10, \"10\": 5}}, \"32\": {\"4\": {\"3\": 36, \"13\": 140, \"11\": 19, \"4\": 19, \"8\": 79, \"15\": 2, \"0\": 3, \"14\": 1, \"2\": 1}, \"13\": {\"13\": 160, \"3\": 134, \"4\": 3, \"11\": 3}, \"15\": {\"15\": 300}, \"14\": {\"13\": 20, \"15\": 23, \"14\": 46, \"2\": 29, \"11\": 86, \"8\": 76, \"0\": 9, \"5\": 10, \"7\": 1}, \"2\": {\"11\": 104, \"8\": 69, \"2\": 51, \"15\": 20, \"7\": 9, \"5\": 30, \"14\": 15, \"4\": 2}, \"6\": {\"6\": 298, \"12\": 2}, \"8\": {\"8\": 108, \"15\": 188, \"5\": 1, \"11\": 3}, \"7\": {\"5\": 74, \"15\": 42, \"7\": 96, \"2\": 2, \"8\": 64, \"4\": 2, \"11\": 18, \"14\": 1, \"0\": 1}, \"12\": {\"10\": 84, \"12\": 213, \"9\": 2, \"6\": 1}, \"11\": {\"11\": 80, \"13\": 150, \"4\": 19, \"14\": 19, \"7\": 1, \"8\": 16, \"3\": 13, \"0\": 2}, \"10\": {\"10\": 300}, \"0\": {\"8\": 200, \"2\": 10, \"11\": 28, \"15\": 25, \"7\": 5, \"0\": 4, \"14\": 7, \"5\": 9, \"4\": 2, \"13\": 10}, \"9\": {\"13\": 28, \"14\": 90, \"0\": 73, \"2\": 65, \"9\": 16, \"10\": 18, \"3\": 3, \"12\": 7}, \"3\": {\"3\": 281, \"13\": 14, \"8\": 2, \"4\": 2, \"15\": 1}, \"5\": {\"15\": 263, \"5\": 32, \"9\": 3, \"11\": 2}, \"1\": {\"1\": 291, \"13\": 1, \"8\": 8}}, \"14\": {\"11\": {\"4\": 69, \"11\": 37, \"7\": 183, \"8\": 2, \"6\": 3, \"2\": 3, \"13\": 3}, \"2\": {\"3\": 300}, \"6\": {\"3\": 300}, \"15\": {\"3\": 300}, \"0\": {\"3\": 299, \"12\": 1}, \"8\": {\"6\": 43, \"3\": 257}, \"5\": {\"3\": 300}, \"3\": {\"3\": 300}, \"13\": {\"3\": 300}, \"4\": {\"3\": 300}, \"12\": {\"7\": 41, \"9\": 54, \"2\": 46, \"12\": 15, \"3\": 56, \"6\": 67, \"10\": 5, \"13\": 4, \"14\": 1, \"1\": 2, \"8\": 4, \"15\": 3, \"0\": 2}, \"10\": {\"3\": 297, \"15\": 3}, \"9\": {\"3\": 87, \"2\": 205, \"9\": 6, \"12\": 1, \"6\": 1}, \"7\": {\"3\": 300}, \"14\": {\"3\": 300}, \"1\": {\"3\": 294, \"7\": 3, \"13\": 3}}, \"20\": {\"15\": {\"2\": 282, \"12\": 15, \"15\": 3}, \"7\": {\"12\": 189, \"2\": 100, \"3\": 7, \"15\": 3, \"13\": 1}, \"1\": {\"2\": 274, \"15\": 12, \"3\": 4, \"12\": 10}, \"11\": {\"2\": 9, \"3\": 291}, \"8\": {\"2\": 2, \"12\": 89, \"3\": 182, \"15\": 27}, \"12\": {\"2\": 250, \"12\": 39, \"15\": 3, \"7\": 4, \"13\": 4}, \"3\": {\"2\": 190, \"12\": 96, \"15\": 11, \"3\": 3}, \"2\": {\"2\": 247, \"15\": 4, \"12\": 45, \"3\": 4}, \"13\": {\"2\": 288, \"12\": 6, \"7\": 5, \"4\": 1}, \"6\": {\"11\": 22, \"12\": 263, \"2\": 5, \"3\": 8, \"7\": 2}, \"10\": {\"12\": 251, \"11\": 27, \"7\": 4, \"2\": 16, \"15\": 2}, \"14\": {\"12\": 173, \"3\": 105, \"15\": 22}, \"9\": {\"2\": 263, \"3\": 1, \"12\": 29, \"15\": 6, \"13\": 1}, \"5\": {\"2\": 206, \"12\": 67, \"15\": 20, \"3\": 7}, \"0\": {\"3\": 159, \"2\": 93, \"15\": 33, \"12\": 15}, \"4\": {\"12\": 157, \"2\": 117, \"15\": 25, \"13\": 1}}, \"44\": {\"8\": {\"5\": 163, \"7\": 126, \"4\": 5, \"12\": 4, \"3\": 2}, \"10\": {\"15\": 235, \"7\": 65}, \"1\": {\"15\": 276, \"11\": 1, \"5\": 21, \"7\": 2}, \"2\": {\"15\": 300}, \"9\": {\"15\": 290, \"7\": 10}, \"6\": {\"7\": 146, \"15\": 154}, \"14\": {\"7\": 275, \"5\": 11, \"15\": 5, \"4\": 9}, \"0\": {\"5\": 141, \"2\": 5, \"9\": 2, \"11\": 27, \"7\": 55, \"13\": 9, \"1\": 17, \"8\": 8, \"3\": 11, \"12\": 25}, \"13\": {\"7\": 299, \"15\": 1}, \"3\": {\"7\": 26, \"8\": 211, \"4\": 23, \"15\": 17, \"0\": 1, \"11\": 20, \"13\": 1, \"2\": 1}, \"5\": {\"7\": 115, \"5\": 109, \"15\": 49, \"4\": 24, \"3\": 2, \"13\": 1}, \"15\": {\"5\": 182, \"7\": 15, \"15\": 66, \"9\": 10, \"12\": 4, \"11\": 18, \"4\": 4, \"13\": 1}, \"11\": {\"7\": 300}, \"4\": {\"7\": 230, \"15\": 66, \"4\": 1, \"5\": 3}, \"7\": {\"15\": 288, \"7\": 12}, \"12\": {\"8\": 197, \"15\": 29, \"3\": 41, \"7\": 10, \"11\": 3, \"4\": 19, \"13\": 1}}, \"38\": {\"14\": {\"7\": 273, \"3\": 24, \"15\": 2, \"5\": 1}, \"0\": {\"7\": 242, \"15\": 58}, \"12\": {\"15\": 259, \"3\": 39, \"7\": 1, \"13\": 1}, \"13\": {\"7\": 300}, \"15\": {\"13\": 241, \"10\": 35, \"1\": 11, \"11\": 3, \"15\": 7, \"8\": 2, \"2\": 1}, \"6\": {\"14\": 75, \"13\": 112, \"0\": 65, \"10\": 3, \"8\": 15, \"2\": 24, \"11\": 1, \"1\": 5}, \"7\": {\"7\": 299, \"15\": 1}, \"5\": {\"15\": 164, \"7\": 89, \"5\": 35, \"4\": 8, \"3\": 2, \"13\": 2}, \"9\": {\"15\": 153, \"9\": 27, \"5\": 91, \"4\": 7, \"7\": 22}, \"1\": {\"2\": 16, \"1\": 147, \"13\": 107, \"0\": 4, \"14\": 17, \"10\": 5, \"11\": 3, \"8\": 1}, \"11\": {\"7\": 300}, \"8\": {\"7\": 261, \"15\": 28, \"4\": 6, \"5\": 5}, \"2\": {\"7\": 292, \"3\": 8}, \"4\": {\"7\": 300}, \"10\": {\"7\": 300}, \"3\": {\"7\": 300}}}, \"per_domain_accuracy\": {\"50\": {\"accuracy\": 0.3622916666666667, \"source?\": true}, \"26\": {\"accuracy\": 0.08375, \"source?\": false}, \"8\": {\"accuracy\": 0.659375, \"source?\": true}, \"32\": {\"accuracy\": 0.478125, \"source?\": true}, \"14\": {\"accuracy\": 0.07458333333333333, \"source?\": false}, \"20\": {\"accuracy\": 0.060833333333333336, \"source?\": false}, \"44\": {\"accuracy\": 0.03916666666666667, \"source?\": false}, \"38\": {\"accuracy\": 0.10729166666666666, \"source?\": false}}}, \"history\": {\"epoch_indices\": [1, 2, 3, 4, 5, 6, 7, 8], \"train_label_loss\": [2.375356543858846, 1.8286752532777333, 1.419807004928589, 1.136790631271544, 0.9108530781382607, 0.7212026793616159, 0.5527496456532252, 0.41333712095306036], \"source_val_label_loss\": [2.073568043455613, 1.640566848020638, 1.4462119889470328, 1.4063022105039749, 0.9931494387905154, 1.243855690534136, 0.9827267838790353, 0.9941483118892771], \"target_val_label_loss\": [4.185179633028964, 5.933513752957608, 7.451191524241833, 9.066837290500073, 8.961207088003768, 10.814365574654113, 11.54566460974673, 12.812959838420786], \"source_val_acc_label\": [0.3097916666666667, 0.4377083333333333, 0.5168055555555555, 0.49993055555555554, 0.6729166666666667, 0.5545138888888889, 0.646875, 0.6254861111111111], \"target_val_acc_label\": [0.055, 0.05695833333333333, 0.06483333333333334, 0.073125, 0.05479166666666667, 0.05533333333333333, 0.05420833333333333, 0.0555]}, \"dataset_metrics\": {\"source\": {\"train\": {\"n_unique_x\": 67200, \"n_unique_y\": 16, \"n_batch/episode\": 525}, \"val\": {\"n_unique_x\": 14400, \"n_unique_y\": 16, \"n_batch/episode\": 113}, \"test\": {\"n_unique_x\": 14400, \"n_unique_y\": 16, \"n_batch/episode\": 113}}, \"target\": {\"train\": {\"n_unique_x\": 112000, \"n_unique_y\": 16, \"n_batch/episode\": 875}, \"val\": {\"n_unique_x\": 24000, \"n_unique_y\": 16, \"n_batch/episode\": 188}, \"test\": {\"n_unique_x\": 24000, \"n_unique_y\": 16, \"n_batch/episode\": 188}}}}'"
      ]
     },
     "execution_count": 20,
     "metadata": {},
     "output_type": "execute_result"
    }
   ],
   "source": [
    "json.dumps(experiment)"
   ]
  }
 ],
 "metadata": {
  "celltoolbar": "Tags",
  "kernelspec": {
   "display_name": "Python 3 (ipykernel)",
   "language": "python",
   "name": "python3"
  },
  "language_info": {
   "codemirror_mode": {
    "name": "ipython",
    "version": 3
   },
   "file_extension": ".py",
   "mimetype": "text/x-python",
   "name": "python",
   "nbconvert_exporter": "python",
   "pygments_lexer": "ipython3",
   "version": "3.8.12"
  },
  "papermill": {
   "default_parameters": {},
   "duration": 95.441335,
   "end_time": "2022-03-26T02:00:32.483525",
   "environment_variables": {},
   "exception": null,
   "input_path": "/root/csc500-main/csc500-notebooks/templates/cnn_template.ipynb",
   "output_path": "trial.ipynb",
   "parameters": {
    "parameters": {
     "BEST_MODEL_PATH": "./best_model.pth",
     "NUM_LOGS_PER_EPOCH": 10,
     "batch_size": 128,
     "criteria_for_best": "target_accuracy",
     "dataset_seed": 420,
     "device": "cuda",
     "domains_source": [
      8,
      32,
      50
     ],
     "domains_target": [
      14,
      20,
      26,
      38,
      44
     ],
     "experiment_name": "cnn_1:oracle.run2_limited",
     "labels": [
      "3123D52",
      "3123D65",
      "3123D79",
      "3123D80",
      "3123D54",
      "3123D70",
      "3123D7B",
      "3123D89",
      "3123D58",
      "3123D76",
      "3123D7D",
      "3123EFE",
      "3123D64",
      "3123D78",
      "3123D7E",
      "3124E4A"
     ],
     "lr": 0.0001,
     "n_epoch": 50,
     "normalize_source": false,
     "normalize_target": false,
     "num_examples_per_domain_per_label_source": 2000,
     "num_examples_per_domain_per_label_target": 2000,
     "patience": 3,
     "pickle_name_source": "oracle.Run2_10kExamples_stratified_ds.2022A.pkl",
     "pickle_name_target": "oracle.Run2_10kExamples_stratified_ds.2022A.pkl",
     "seed": 420,
     "torch_default_dtype": "torch.float32",
     "x_net": [
      {
       "class": "nnReshape",
       "kargs": {
        "shape": [
         -1,
         1,
         2,
         256
        ]
       }
      },
      {
       "class": "Conv2d",
       "kargs": {
        "bias": false,
        "in_channels": 1,
        "kernel_size": [
         1,
         7
        ],
        "out_channels": 256,
        "padding": [
         0,
         3
        ]
       }
      },
      {
       "class": "ReLU",
       "kargs": {
        "inplace": true
       }
      },
      {
       "class": "BatchNorm2d",
       "kargs": {
        "num_features": 256
       }
      },
      {
       "class": "Conv2d",
       "kargs": {
        "bias": true,
        "in_channels": 256,
        "kernel_size": [
         2,
         7
        ],
        "out_channels": 80,
        "padding": [
         0,
         3
        ]
       }
      },
      {
       "class": "ReLU",
       "kargs": {
        "inplace": true
       }
      },
      {
       "class": "BatchNorm2d",
       "kargs": {
        "num_features": 80
       }
      },
      {
       "class": "Flatten",
       "kargs": {}
      },
      {
       "class": "Linear",
       "kargs": {
        "in_features": 20480,
        "out_features": 256
       }
      },
      {
       "class": "ReLU",
       "kargs": {
        "inplace": true
       }
      },
      {
       "class": "BatchNorm1d",
       "kargs": {
        "num_features": 256
       }
      },
      {
       "class": "Linear",
       "kargs": {
        "in_features": 256,
        "out_features": 16
       }
      }
     ]
    }
   },
   "start_time": "2022-03-26T01:58:57.042190",
   "version": "2.3.4"
  }
 },
 "nbformat": 4,
 "nbformat_minor": 5
}