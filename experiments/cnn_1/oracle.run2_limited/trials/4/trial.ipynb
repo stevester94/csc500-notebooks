{
 "cells": [
  {
   "cell_type": "code",
   "execution_count": 1,
   "id": "2324682e",
   "metadata": {
    "execution": {
     "iopub.execute_input": "2022-03-26T01:49:44.386770Z",
     "iopub.status.busy": "2022-03-26T01:49:44.385900Z",
     "iopub.status.idle": "2022-03-26T01:49:45.673214Z",
     "shell.execute_reply": "2022-03-26T01:49:45.672300Z"
    },
    "papermill": {
     "duration": 1.321832,
     "end_time": "2022-03-26T01:49:45.673409",
     "exception": false,
     "start_time": "2022-03-26T01:49:44.351577",
     "status": "completed"
    },
    "tags": []
   },
   "outputs": [],
   "source": [
    "import os, json, sys, time, random\n",
    "import numpy as np\n",
    "import torch\n",
    "from  easydict import EasyDict\n",
    "from math import floor\n",
    "from easydict import EasyDict\n",
    "\n",
    "from steves_utils.vanilla_train_eval_test_jig import  Vanilla_Train_Eval_Test_Jig\n",
    "\n",
    "from steves_utils.torch_utils import get_dataset_metrics, independent_accuracy_assesment\n",
    "from steves_models.configurable_vanilla import Configurable_Vanilla\n",
    "from steves_utils.torch_sequential_builder import build_sequential\n",
    "from steves_utils.lazy_map import Lazy_Map\n",
    "from steves_utils.sequence_aggregator import Sequence_Aggregator\n",
    "\n",
    "from steves_utils.stratified_dataset.traditional_accessor import Traditional_Accessor_Factory\n",
    "\n",
    "from steves_utils.cnn_do_report import (\n",
    "    get_loss_curve,\n",
    "    get_results_table,\n",
    "    get_parameters_table,\n",
    "    get_domain_accuracies,\n",
    ")\n",
    "\n",
    "from steves_utils.torch_utils import (\n",
    "    confusion_by_domain_over_dataloader,\n",
    "    independent_accuracy_assesment\n",
    ")\n",
    "\n",
    "from steves_utils.utils_v2 import (\n",
    "    per_domain_accuracy_from_confusion,\n",
    "    get_datasets_base_path\n",
    ")\n",
    "\n",
    "# from steves_utils.ptn_do_report import TBD"
   ]
  },
  {
   "cell_type": "code",
   "execution_count": 2,
   "id": "1b29e3fe",
   "metadata": {
    "execution": {
     "iopub.execute_input": "2022-03-26T01:49:45.713059Z",
     "iopub.status.busy": "2022-03-26T01:49:45.712192Z",
     "iopub.status.idle": "2022-03-26T01:49:45.714624Z",
     "shell.execute_reply": "2022-03-26T01:49:45.715290Z"
    },
    "papermill": {
     "duration": 0.022394,
     "end_time": "2022-03-26T01:49:45.715482",
     "exception": false,
     "start_time": "2022-03-26T01:49:45.693088",
     "status": "completed"
    },
    "tags": []
   },
   "outputs": [],
   "source": [
    "required_parameters = {\n",
    "    \"experiment_name\",\n",
    "    \"lr\",\n",
    "    \"device\",\n",
    "    \"dataset_seed\",\n",
    "    \"seed\",\n",
    "    \"labels\",\n",
    "    \"domains_target\",\n",
    "    \"domains_source\",\n",
    "    \"num_examples_per_domain_per_label_source\",\n",
    "    \"num_examples_per_domain_per_label_target\",\n",
    "    \"batch_size\",\n",
    "    \"n_epoch\",\n",
    "    \"patience\",\n",
    "    \"criteria_for_best\",\n",
    "    \"normalize_source\",\n",
    "    \"normalize_target\",\n",
    "    \"x_net\",\n",
    "    \"NUM_LOGS_PER_EPOCH\",\n",
    "    \"BEST_MODEL_PATH\",\n",
    "    \"pickle_name_source\",\n",
    "    \"pickle_name_target\",\n",
    "    \"torch_default_dtype\",\n",
    "}"
   ]
  },
  {
   "cell_type": "code",
   "execution_count": 3,
   "id": "670b5fb8",
   "metadata": {
    "execution": {
     "iopub.execute_input": "2022-03-26T01:49:45.759242Z",
     "iopub.status.busy": "2022-03-26T01:49:45.758358Z",
     "iopub.status.idle": "2022-03-26T01:49:45.765320Z",
     "shell.execute_reply": "2022-03-26T01:49:45.764524Z"
    },
    "papermill": {
     "duration": 0.032059,
     "end_time": "2022-03-26T01:49:45.765473",
     "exception": false,
     "start_time": "2022-03-26T01:49:45.733414",
     "status": "completed"
    },
    "tags": [
     "parameters"
    ]
   },
   "outputs": [],
   "source": [
    "from steves_utils.ORACLE.utils_v2 import (\n",
    "    ALL_SERIAL_NUMBERS,\n",
    "    ALL_DISTANCES_FEET_NARROWED,\n",
    ")\n",
    "\n",
    "standalone_parameters = {}\n",
    "standalone_parameters[\"experiment_name\"] = \"MANUAL CORES CNN\"\n",
    "standalone_parameters[\"lr\"] = 0.0001\n",
    "standalone_parameters[\"device\"] = \"cuda\"\n",
    "\n",
    "standalone_parameters[\"dataset_seed\"] = 1337\n",
    "standalone_parameters[\"seed\"] = 1337\n",
    "standalone_parameters[\"labels\"] = ALL_SERIAL_NUMBERS\n",
    "\n",
    "standalone_parameters[\"domains_source\"] = [8,32,50]\n",
    "standalone_parameters[\"domains_target\"] = [14,20,26,38,44,]\n",
    "\n",
    "standalone_parameters[\"num_examples_per_domain_per_label_source\"]=-1\n",
    "standalone_parameters[\"num_examples_per_domain_per_label_target\"]=-1\n",
    "\n",
    "standalone_parameters[\"pickle_name_source\"] = \"oracle.Run1_framed_2000Examples_stratified_ds.2022A.pkl\"\n",
    "standalone_parameters[\"pickle_name_target\"] = \"oracle.Run2_framed_2000Examples_stratified_ds.2022A.pkl\"\n",
    "\n",
    "standalone_parameters[\"torch_default_dtype\"] = \"torch.float32\" \n",
    "\n",
    "standalone_parameters[\"batch_size\"]=128\n",
    "\n",
    "standalone_parameters[\"n_epoch\"] = 3\n",
    "\n",
    "standalone_parameters[\"patience\"] = 10\n",
    "\n",
    "standalone_parameters[\"criteria_for_best\"] = \"target_accuracy\"\n",
    "standalone_parameters[\"normalize_source\"] = False\n",
    "standalone_parameters[\"normalize_target\"] = False\n",
    "\n",
    "standalone_parameters[\"x_net\"] =     [\n",
    "    {\"class\": \"nnReshape\", \"kargs\": {\"shape\":[-1, 1, 2, 256]}},\n",
    "    {\"class\": \"Conv2d\", \"kargs\": { \"in_channels\":1, \"out_channels\":256, \"kernel_size\":(1,7), \"bias\":False, \"padding\":(0,3), },},\n",
    "    {\"class\": \"ReLU\", \"kargs\": {\"inplace\": True}},\n",
    "    {\"class\": \"BatchNorm2d\", \"kargs\": {\"num_features\":256}},\n",
    "\n",
    "    {\"class\": \"Conv2d\", \"kargs\": { \"in_channels\":256, \"out_channels\":80, \"kernel_size\":(2,7), \"bias\":True, \"padding\":(0,3), },},\n",
    "    {\"class\": \"ReLU\", \"kargs\": {\"inplace\": True}},\n",
    "    {\"class\": \"BatchNorm2d\", \"kargs\": {\"num_features\":80}},\n",
    "    {\"class\": \"Flatten\", \"kargs\": {}},\n",
    "\n",
    "    {\"class\": \"Linear\", \"kargs\": {\"in_features\": 80*256, \"out_features\": 256}}, # 80 units per IQ pair\n",
    "    {\"class\": \"ReLU\", \"kargs\": {\"inplace\": True}},\n",
    "    {\"class\": \"BatchNorm1d\", \"kargs\": {\"num_features\":256}},\n",
    "\n",
    "    {\"class\": \"Linear\", \"kargs\": {\"in_features\": 256, \"out_features\": len(standalone_parameters[\"labels\"])}},\n",
    "]\n",
    "\n",
    "standalone_parameters[\"NUM_LOGS_PER_EPOCH\"] = 10\n",
    "standalone_parameters[\"BEST_MODEL_PATH\"] = \"./best_model.pth\""
   ]
  },
  {
   "cell_type": "code",
   "execution_count": 4,
   "id": "a7f6fc18",
   "metadata": {
    "execution": {
     "iopub.execute_input": "2022-03-26T01:49:45.813101Z",
     "iopub.status.busy": "2022-03-26T01:49:45.812215Z",
     "iopub.status.idle": "2022-03-26T01:49:45.814744Z",
     "shell.execute_reply": "2022-03-26T01:49:45.813949Z"
    },
    "papermill": {
     "duration": 0.030462,
     "end_time": "2022-03-26T01:49:45.814897",
     "exception": false,
     "start_time": "2022-03-26T01:49:45.784435",
     "status": "completed"
    },
    "tags": [
     "injected-parameters"
    ]
   },
   "outputs": [],
   "source": [
    "# Parameters\n",
    "parameters = {\n",
    "    \"experiment_name\": \"cnn_1:oracle.run2_limited\",\n",
    "    \"labels\": [\n",
    "        \"3123D52\",\n",
    "        \"3123D65\",\n",
    "        \"3123D79\",\n",
    "        \"3123D80\",\n",
    "        \"3123D54\",\n",
    "        \"3123D70\",\n",
    "        \"3123D7B\",\n",
    "        \"3123D89\",\n",
    "        \"3123D58\",\n",
    "        \"3123D76\",\n",
    "        \"3123D7D\",\n",
    "        \"3123EFE\",\n",
    "        \"3123D64\",\n",
    "        \"3123D78\",\n",
    "        \"3123D7E\",\n",
    "        \"3124E4A\",\n",
    "    ],\n",
    "    \"domains_source\": [8, 32, 50],\n",
    "    \"domains_target\": [14, 20, 26, 38, 44],\n",
    "    \"pickle_name_source\": \"oracle.Run2_10kExamples_stratified_ds.2022A.pkl\",\n",
    "    \"pickle_name_target\": \"oracle.Run2_10kExamples_stratified_ds.2022A.pkl\",\n",
    "    \"device\": \"cuda\",\n",
    "    \"lr\": 0.0001,\n",
    "    \"batch_size\": 128,\n",
    "    \"normalize_source\": False,\n",
    "    \"normalize_target\": False,\n",
    "    \"num_examples_per_domain_per_label_source\": 2000,\n",
    "    \"num_examples_per_domain_per_label_target\": 2000,\n",
    "    \"torch_default_dtype\": \"torch.float32\",\n",
    "    \"n_epoch\": 50,\n",
    "    \"patience\": 3,\n",
    "    \"criteria_for_best\": \"target_accuracy\",\n",
    "    \"x_net\": [\n",
    "        {\"class\": \"nnReshape\", \"kargs\": {\"shape\": [-1, 1, 2, 256]}},\n",
    "        {\n",
    "            \"class\": \"Conv2d\",\n",
    "            \"kargs\": {\n",
    "                \"in_channels\": 1,\n",
    "                \"out_channels\": 256,\n",
    "                \"kernel_size\": [1, 7],\n",
    "                \"bias\": False,\n",
    "                \"padding\": [0, 3],\n",
    "            },\n",
    "        },\n",
    "        {\"class\": \"ReLU\", \"kargs\": {\"inplace\": True}},\n",
    "        {\"class\": \"BatchNorm2d\", \"kargs\": {\"num_features\": 256}},\n",
    "        {\n",
    "            \"class\": \"Conv2d\",\n",
    "            \"kargs\": {\n",
    "                \"in_channels\": 256,\n",
    "                \"out_channels\": 80,\n",
    "                \"kernel_size\": [2, 7],\n",
    "                \"bias\": True,\n",
    "                \"padding\": [0, 3],\n",
    "            },\n",
    "        },\n",
    "        {\"class\": \"ReLU\", \"kargs\": {\"inplace\": True}},\n",
    "        {\"class\": \"BatchNorm2d\", \"kargs\": {\"num_features\": 80}},\n",
    "        {\"class\": \"Flatten\", \"kargs\": {}},\n",
    "        {\"class\": \"Linear\", \"kargs\": {\"in_features\": 20480, \"out_features\": 256}},\n",
    "        {\"class\": \"ReLU\", \"kargs\": {\"inplace\": True}},\n",
    "        {\"class\": \"BatchNorm1d\", \"kargs\": {\"num_features\": 256}},\n",
    "        {\"class\": \"Linear\", \"kargs\": {\"in_features\": 256, \"out_features\": 16}},\n",
    "    ],\n",
    "    \"NUM_LOGS_PER_EPOCH\": 10,\n",
    "    \"BEST_MODEL_PATH\": \"./best_model.pth\",\n",
    "    \"dataset_seed\": 500,\n",
    "    \"seed\": 500,\n",
    "}\n"
   ]
  },
  {
   "cell_type": "code",
   "execution_count": 5,
   "id": "759b56ec",
   "metadata": {
    "execution": {
     "iopub.execute_input": "2022-03-26T01:49:45.854731Z",
     "iopub.status.busy": "2022-03-26T01:49:45.854367Z",
     "iopub.status.idle": "2022-03-26T01:49:45.856940Z",
     "shell.execute_reply": "2022-03-26T01:49:45.856578Z"
    },
    "papermill": {
     "duration": 0.023926,
     "end_time": "2022-03-26T01:49:45.857008",
     "exception": false,
     "start_time": "2022-03-26T01:49:45.833082",
     "status": "completed"
    },
    "tags": []
   },
   "outputs": [],
   "source": [
    "# Set this to True if you want to run this template directly\n",
    "STANDALONE = False\n",
    "if STANDALONE:\n",
    "    print(\"parameters not injected, running with standalone_parameters\")\n",
    "    parameters = standalone_parameters\n",
    "\n",
    "if not 'parameters' in locals() and not 'parameters' in globals():\n",
    "    raise Exception(\"Parameter injection failed\")\n",
    "\n",
    "#Use an easy dict for all the parameters\n",
    "p = EasyDict(parameters)\n",
    "\n",
    "supplied_keys = set(p.keys())\n",
    "\n",
    "if  supplied_keys != required_parameters:\n",
    "    print(\"Parameters are incorrect\")\n",
    "    if len(supplied_keys - required_parameters)>0: print(\"Shouldn't have:\", str(supplied_keys - required_parameters))\n",
    "    if len(required_parameters - supplied_keys)>0: print(\"Need to have:\", str(required_parameters - supplied_keys))\n",
    "    raise RuntimeError(\"Parameters are incorrect\")\n",
    "\n"
   ]
  },
  {
   "cell_type": "code",
   "execution_count": 6,
   "id": "d5c66a71",
   "metadata": {
    "execution": {
     "iopub.execute_input": "2022-03-26T01:49:45.892993Z",
     "iopub.status.busy": "2022-03-26T01:49:45.892619Z",
     "iopub.status.idle": "2022-03-26T01:49:45.896739Z",
     "shell.execute_reply": "2022-03-26T01:49:45.896411Z"
    },
    "papermill": {
     "duration": 0.021964,
     "end_time": "2022-03-26T01:49:45.896807",
     "exception": false,
     "start_time": "2022-03-26T01:49:45.874843",
     "status": "completed"
    },
    "tags": []
   },
   "outputs": [],
   "source": [
    "###################################\n",
    "# Set the RNGs and make it all deterministic\n",
    "###################################\n",
    "np.random.seed(p.seed)\n",
    "random.seed(p.seed)\n",
    "torch.manual_seed(p.seed)\n",
    "\n",
    "torch.use_deterministic_algorithms(True) "
   ]
  },
  {
   "cell_type": "code",
   "execution_count": 7,
   "id": "92a65876",
   "metadata": {
    "execution": {
     "iopub.execute_input": "2022-03-26T01:49:45.930931Z",
     "iopub.status.busy": "2022-03-26T01:49:45.930568Z",
     "iopub.status.idle": "2022-03-26T01:49:45.933128Z",
     "shell.execute_reply": "2022-03-26T01:49:45.932742Z"
    },
    "papermill": {
     "duration": 0.020025,
     "end_time": "2022-03-26T01:49:45.933197",
     "exception": false,
     "start_time": "2022-03-26T01:49:45.913172",
     "status": "completed"
    },
    "tags": []
   },
   "outputs": [],
   "source": [
    "torch.set_default_dtype(eval(p.torch_default_dtype))"
   ]
  },
  {
   "cell_type": "code",
   "execution_count": 8,
   "id": "f1a32f01",
   "metadata": {
    "execution": {
     "iopub.execute_input": "2022-03-26T01:49:45.969417Z",
     "iopub.status.busy": "2022-03-26T01:49:45.968873Z",
     "iopub.status.idle": "2022-03-26T01:49:46.010680Z",
     "shell.execute_reply": "2022-03-26T01:49:46.009981Z"
    },
    "papermill": {
     "duration": 0.059838,
     "end_time": "2022-03-26T01:49:46.010831",
     "exception": false,
     "start_time": "2022-03-26T01:49:45.950993",
     "status": "completed"
    },
    "tags": []
   },
   "outputs": [],
   "source": [
    "###################################\n",
    "# Build the network(s)\n",
    "# Note: It's critical to do this AFTER setting the RNG\n",
    "###################################\n",
    "x_net = build_sequential(p.x_net)"
   ]
  },
  {
   "cell_type": "code",
   "execution_count": 9,
   "id": "a276cd83",
   "metadata": {
    "execution": {
     "iopub.execute_input": "2022-03-26T01:49:46.049403Z",
     "iopub.status.busy": "2022-03-26T01:49:46.049046Z",
     "iopub.status.idle": "2022-03-26T01:49:46.051769Z",
     "shell.execute_reply": "2022-03-26T01:49:46.051399Z"
    },
    "papermill": {
     "duration": 0.019929,
     "end_time": "2022-03-26T01:49:46.051837",
     "exception": false,
     "start_time": "2022-03-26T01:49:46.031908",
     "status": "completed"
    },
    "tags": []
   },
   "outputs": [],
   "source": [
    "start_time_secs = time.time()"
   ]
  },
  {
   "cell_type": "code",
   "execution_count": 10,
   "id": "de702e48",
   "metadata": {
    "execution": {
     "iopub.execute_input": "2022-03-26T01:49:46.096007Z",
     "iopub.status.busy": "2022-03-26T01:49:46.084438Z",
     "iopub.status.idle": "2022-03-26T01:49:55.157088Z",
     "shell.execute_reply": "2022-03-26T01:49:55.156284Z"
    },
    "papermill": {
     "duration": 9.088718,
     "end_time": "2022-03-26T01:49:55.157263",
     "exception": false,
     "start_time": "2022-03-26T01:49:46.068545",
     "status": "completed"
    },
    "tags": []
   },
   "outputs": [],
   "source": [
    "def wrap_in_dataloader(p, ds):\n",
    "    return torch.utils.data.DataLoader(\n",
    "        ds,\n",
    "        batch_size=p.batch_size,\n",
    "        shuffle=True,\n",
    "        num_workers=1,\n",
    "        persistent_workers=True,\n",
    "        prefetch_factor=50,\n",
    "        pin_memory=True\n",
    "    )\n",
    "\n",
    "taf_source = Traditional_Accessor_Factory(\n",
    "    labels=p.labels,\n",
    "    domains=p.domains_source,\n",
    "    num_examples_per_domain_per_label=p.num_examples_per_domain_per_label_source,\n",
    "    pickle_path=os.path.join(get_datasets_base_path(), p.pickle_name_source),\n",
    "    seed=p.dataset_seed\n",
    ")\n",
    "train_original_source, val_original_source, test_original_source = \\\n",
    "    taf_source.get_train(), taf_source.get_val(), taf_source.get_test()\n",
    "\n",
    "\n",
    "taf_target = Traditional_Accessor_Factory(\n",
    "    labels=p.labels,\n",
    "    domains=p.domains_target,\n",
    "    num_examples_per_domain_per_label=p.num_examples_per_domain_per_label_source,\n",
    "    pickle_path=os.path.join(get_datasets_base_path(), p.pickle_name_target),\n",
    "    seed=p.dataset_seed\n",
    ")\n",
    "train_original_target, val_original_target, test_original_target = \\\n",
    "    taf_target.get_train(), taf_target.get_val(), taf_target.get_test()\n",
    "\n",
    "\n",
    "# For CNN We only use X and Y. And we only train on the source.\n",
    "# Properly form the data using a transform lambda and Lazy_Map. Finally wrap them in a dataloader\n",
    "\n",
    "transform_lambda = lambda ex: ex[:2] # Strip the tuple to just (x,y)\n",
    "\n",
    "\n",
    "train_processed_source = wrap_in_dataloader(\n",
    "    p,\n",
    "    Lazy_Map(train_original_source, transform_lambda)\n",
    ")\n",
    "val_processed_source = wrap_in_dataloader(\n",
    "    p,\n",
    "    Lazy_Map(val_original_source, transform_lambda)\n",
    ")\n",
    "test_processed_source = wrap_in_dataloader(\n",
    "    p,\n",
    "    Lazy_Map(test_original_source, transform_lambda)\n",
    ")\n",
    "\n",
    "train_processed_target = wrap_in_dataloader(\n",
    "    p,\n",
    "    Lazy_Map(train_original_target, transform_lambda)\n",
    ")\n",
    "val_processed_target = wrap_in_dataloader(\n",
    "    p,\n",
    "    Lazy_Map(val_original_target, transform_lambda)\n",
    ")\n",
    "test_processed_target  = wrap_in_dataloader(\n",
    "    p,\n",
    "    Lazy_Map(test_original_target, transform_lambda)\n",
    ")\n",
    "\n",
    "\n",
    "\n",
    "datasets = EasyDict({\n",
    "    \"source\": {\n",
    "        \"original\": {\"train\":train_original_source, \"val\":val_original_source, \"test\":test_original_source},\n",
    "        \"processed\": {\"train\":train_processed_source, \"val\":val_processed_source, \"test\":test_processed_source}\n",
    "    },\n",
    "    \"target\": {\n",
    "        \"original\": {\"train\":train_original_target, \"val\":val_original_target, \"test\":test_original_target},\n",
    "        \"processed\": {\"train\":train_processed_target, \"val\":val_processed_target, \"test\":test_processed_target}\n",
    "    },\n",
    "})"
   ]
  },
  {
   "cell_type": "code",
   "execution_count": 11,
   "id": "a11b26bd",
   "metadata": {
    "execution": {
     "iopub.execute_input": "2022-03-26T01:49:55.254734Z",
     "iopub.status.busy": "2022-03-26T01:49:55.253913Z",
     "iopub.status.idle": "2022-03-26T01:50:00.926083Z",
     "shell.execute_reply": "2022-03-26T01:50:00.925378Z"
    },
    "papermill": {
     "duration": 5.746027,
     "end_time": "2022-03-26T01:50:00.926266",
     "exception": false,
     "start_time": "2022-03-26T01:49:55.180239",
     "status": "completed"
    },
    "tags": []
   },
   "outputs": [
    {
     "data": {
      "text/plain": [
       "torch.float32"
      ]
     },
     "execution_count": 11,
     "metadata": {},
     "output_type": "execute_result"
    }
   ],
   "source": [
    "ep = next(iter(test_processed_target))\n",
    "ep[0].dtype"
   ]
  },
  {
   "cell_type": "code",
   "execution_count": 12,
   "id": "19425fad",
   "metadata": {
    "execution": {
     "iopub.execute_input": "2022-03-26T01:50:00.984154Z",
     "iopub.status.busy": "2022-03-26T01:50:00.983330Z",
     "iopub.status.idle": "2022-03-26T01:50:01.029120Z",
     "shell.execute_reply": "2022-03-26T01:50:01.028399Z"
    },
    "papermill": {
     "duration": 0.082426,
     "end_time": "2022-03-26T01:50:01.029294",
     "exception": false,
     "start_time": "2022-03-26T01:50:00.946868",
     "status": "completed"
    },
    "tags": []
   },
   "outputs": [],
   "source": [
    "model = Configurable_Vanilla(\n",
    "    x_net=x_net,\n",
    "    label_loss_object=torch.nn.NLLLoss(),\n",
    "    learning_rate=p.lr\n",
    ")"
   ]
  },
  {
   "cell_type": "code",
   "execution_count": 13,
   "id": "7f6d4f2c",
   "metadata": {
    "execution": {
     "iopub.execute_input": "2022-03-26T01:50:01.073430Z",
     "iopub.status.busy": "2022-03-26T01:50:01.072583Z",
     "iopub.status.idle": "2022-03-26T01:50:40.797148Z",
     "shell.execute_reply": "2022-03-26T01:50:40.797807Z"
    },
    "papermill": {
     "duration": 39.747526,
     "end_time": "2022-03-26T01:50:40.798022",
     "exception": false,
     "start_time": "2022-03-26T01:50:01.050496",
     "status": "completed"
    },
    "tags": []
   },
   "outputs": [
    {
     "name": "stdout",
     "output_type": "stream",
     "text": [
      "epoch: 1, [batch: 1 / 525], examples_per_second: 825.0287, train_label_loss: 2.7798, \n"
     ]
    },
    {
     "name": "stdout",
     "output_type": "stream",
     "text": [
      "epoch: 1, [batch: 53 / 525], examples_per_second: 10408.2222, train_label_loss: 2.6328, \n"
     ]
    },
    {
     "name": "stdout",
     "output_type": "stream",
     "text": [
      "epoch: 1, [batch: 105 / 525], examples_per_second: 10674.0064, train_label_loss: 2.5829, \n"
     ]
    },
    {
     "name": "stdout",
     "output_type": "stream",
     "text": [
      "epoch: 1, [batch: 158 / 525], examples_per_second: 10726.1012, train_label_loss: 2.4354, \n"
     ]
    },
    {
     "name": "stdout",
     "output_type": "stream",
     "text": [
      "epoch: 1, [batch: 210 / 525], examples_per_second: 10665.9074, train_label_loss: 2.4131, \n"
     ]
    },
    {
     "name": "stdout",
     "output_type": "stream",
     "text": [
      "epoch: 1, [batch: 263 / 525], examples_per_second: 10706.1200, train_label_loss: 2.3087, \n"
     ]
    },
    {
     "name": "stdout",
     "output_type": "stream",
     "text": [
      "epoch: 1, [batch: 315 / 525], examples_per_second: 10797.1472, train_label_loss: 2.3008, \n"
     ]
    },
    {
     "name": "stdout",
     "output_type": "stream",
     "text": [
      "epoch: 1, [batch: 367 / 525], examples_per_second: 10483.4526, train_label_loss: 2.2969, \n"
     ]
    },
    {
     "name": "stdout",
     "output_type": "stream",
     "text": [
      "epoch: 1, [batch: 420 / 525], examples_per_second: 10629.1176, train_label_loss: 2.3642, \n"
     ]
    },
    {
     "name": "stdout",
     "output_type": "stream",
     "text": [
      "epoch: 1, [batch: 472 / 525], examples_per_second: 10498.3703, train_label_loss: 2.1561, \n"
     ]
    },
    {
     "name": "stdout",
     "output_type": "stream",
     "text": [
      "=============================================================\n",
      "epoch: 1, source_val_acc_label: 0.2810, source_val_label_loss: 2.1286, target_val_acc_label: 0.0782, target_val_label_loss: 4.0447, \n",
      "=============================================================\n"
     ]
    },
    {
     "name": "stdout",
     "output_type": "stream",
     "text": [
      "New best\n",
      "epoch: 2, [batch: 1 / 525], examples_per_second: 98.4175, train_label_loss: 2.0178, \n"
     ]
    },
    {
     "name": "stdout",
     "output_type": "stream",
     "text": [
      "epoch: 2, [batch: 53 / 525], examples_per_second: 10577.4987, train_label_loss: 2.1222, \n"
     ]
    },
    {
     "name": "stdout",
     "output_type": "stream",
     "text": [
      "epoch: 2, [batch: 105 / 525], examples_per_second: 10643.3515, train_label_loss: 1.9816, \n"
     ]
    },
    {
     "name": "stdout",
     "output_type": "stream",
     "text": [
      "epoch: 2, [batch: 158 / 525], examples_per_second: 10497.0787, train_label_loss: 1.9766, \n"
     ]
    },
    {
     "name": "stdout",
     "output_type": "stream",
     "text": [
      "epoch: 2, [batch: 210 / 525], examples_per_second: 10670.9546, train_label_loss: 1.9037, \n"
     ]
    },
    {
     "name": "stdout",
     "output_type": "stream",
     "text": [
      "epoch: 2, [batch: 263 / 525], examples_per_second: 10689.7219, train_label_loss: 1.8262, \n"
     ]
    },
    {
     "name": "stdout",
     "output_type": "stream",
     "text": [
      "epoch: 2, [batch: 315 / 525], examples_per_second: 10715.2212, train_label_loss: 1.8574, \n"
     ]
    },
    {
     "name": "stdout",
     "output_type": "stream",
     "text": [
      "epoch: 2, [batch: 367 / 525], examples_per_second: 10671.5012, train_label_loss: 1.6931, \n"
     ]
    },
    {
     "name": "stdout",
     "output_type": "stream",
     "text": [
      "epoch: 2, [batch: 420 / 525], examples_per_second: 10531.1936, train_label_loss: 1.7193, \n"
     ]
    },
    {
     "name": "stdout",
     "output_type": "stream",
     "text": [
      "epoch: 2, [batch: 472 / 525], examples_per_second: 10587.8767, train_label_loss: 1.6532, \n"
     ]
    },
    {
     "name": "stdout",
     "output_type": "stream",
     "text": [
      "=============================================================\n",
      "epoch: 2, source_val_acc_label: 0.3675, source_val_label_loss: 1.7893, target_val_acc_label: 0.0628, target_val_label_loss: 4.9922, \n",
      "=============================================================\n"
     ]
    },
    {
     "name": "stdout",
     "output_type": "stream",
     "text": [
      "epoch: 3, [batch: 1 / 525], examples_per_second: 119.0315, train_label_loss: 1.5702, \n"
     ]
    },
    {
     "name": "stdout",
     "output_type": "stream",
     "text": [
      "epoch: 3, [batch: 53 / 525], examples_per_second: 10383.1955, train_label_loss: 1.5941, \n"
     ]
    },
    {
     "name": "stdout",
     "output_type": "stream",
     "text": [
      "epoch: 3, [batch: 105 / 525], examples_per_second: 10692.2026, train_label_loss: 1.5538, \n"
     ]
    },
    {
     "name": "stdout",
     "output_type": "stream",
     "text": [
      "epoch: 3, [batch: 158 / 525], examples_per_second: 11242.7213, train_label_loss: 1.4297, \n"
     ]
    },
    {
     "name": "stdout",
     "output_type": "stream",
     "text": [
      "epoch: 3, [batch: 210 / 525], examples_per_second: 10638.6750, train_label_loss: 1.6664, \n"
     ]
    },
    {
     "name": "stdout",
     "output_type": "stream",
     "text": [
      "epoch: 3, [batch: 263 / 525], examples_per_second: 10495.4912, train_label_loss: 1.3670, \n"
     ]
    },
    {
     "name": "stdout",
     "output_type": "stream",
     "text": [
      "epoch: 3, [batch: 315 / 525], examples_per_second: 10583.8667, train_label_loss: 1.4686, \n"
     ]
    },
    {
     "name": "stdout",
     "output_type": "stream",
     "text": [
      "epoch: 3, [batch: 367 / 525], examples_per_second: 10367.7328, train_label_loss: 1.3386, \n"
     ]
    },
    {
     "name": "stdout",
     "output_type": "stream",
     "text": [
      "epoch: 3, [batch: 420 / 525], examples_per_second: 10494.5583, train_label_loss: 1.3926, \n"
     ]
    },
    {
     "name": "stdout",
     "output_type": "stream",
     "text": [
      "epoch: 3, [batch: 472 / 525], examples_per_second: 10641.2257, train_label_loss: 1.4930, \n"
     ]
    },
    {
     "name": "stdout",
     "output_type": "stream",
     "text": [
      "=============================================================\n",
      "epoch: 3, source_val_acc_label: 0.5465, source_val_label_loss: 1.3702, target_val_acc_label: 0.0733, target_val_label_loss: 7.3645, \n",
      "=============================================================\n"
     ]
    },
    {
     "name": "stdout",
     "output_type": "stream",
     "text": [
      "epoch: 4, [batch: 1 / 525], examples_per_second: 122.6346, train_label_loss: 1.6227, \n"
     ]
    },
    {
     "name": "stdout",
     "output_type": "stream",
     "text": [
      "epoch: 4, [batch: 53 / 525], examples_per_second: 10519.9110, train_label_loss: 1.2351, \n"
     ]
    },
    {
     "name": "stdout",
     "output_type": "stream",
     "text": [
      "epoch: 4, [batch: 105 / 525], examples_per_second: 10675.5044, train_label_loss: 1.1678, \n"
     ]
    },
    {
     "name": "stdout",
     "output_type": "stream",
     "text": [
      "epoch: 4, [batch: 158 / 525], examples_per_second: 10760.4415, train_label_loss: 1.2008, \n"
     ]
    },
    {
     "name": "stdout",
     "output_type": "stream",
     "text": [
      "epoch: 4, [batch: 210 / 525], examples_per_second: 10712.8446, train_label_loss: 1.2202, \n"
     ]
    },
    {
     "name": "stdout",
     "output_type": "stream",
     "text": [
      "epoch: 4, [batch: 263 / 525], examples_per_second: 10418.9903, train_label_loss: 1.2377, \n"
     ]
    },
    {
     "name": "stdout",
     "output_type": "stream",
     "text": [
      "epoch: 4, [batch: 315 / 525], examples_per_second: 10652.2616, train_label_loss: 1.0985, \n"
     ]
    },
    {
     "name": "stdout",
     "output_type": "stream",
     "text": [
      "epoch: 4, [batch: 367 / 525], examples_per_second: 10169.6357, train_label_loss: 1.1127, \n"
     ]
    },
    {
     "name": "stdout",
     "output_type": "stream",
     "text": [
      "epoch: 4, [batch: 420 / 525], examples_per_second: 10691.2080, train_label_loss: 1.1428, \n"
     ]
    },
    {
     "name": "stdout",
     "output_type": "stream",
     "text": [
      "epoch: 4, [batch: 472 / 525], examples_per_second: 10481.2445, train_label_loss: 1.0108, \n"
     ]
    },
    {
     "name": "stdout",
     "output_type": "stream",
     "text": [
      "=============================================================\n",
      "epoch: 4, source_val_acc_label: 0.5692, source_val_label_loss: 1.2500, target_val_acc_label: 0.0654, target_val_label_loss: 8.1680, \n",
      "=============================================================\n"
     ]
    },
    {
     "name": "stdout",
     "output_type": "stream",
     "text": [
      "epoch: 5, [batch: 1 / 525], examples_per_second: 124.0941, train_label_loss: 0.9280, \n"
     ]
    },
    {
     "name": "stdout",
     "output_type": "stream",
     "text": [
      "epoch: 5, [batch: 53 / 525], examples_per_second: 10325.4411, train_label_loss: 1.0111, \n"
     ]
    },
    {
     "name": "stdout",
     "output_type": "stream",
     "text": [
      "epoch: 5, [batch: 105 / 525], examples_per_second: 10330.1138, train_label_loss: 0.8269, \n"
     ]
    },
    {
     "name": "stdout",
     "output_type": "stream",
     "text": [
      "epoch: 5, [batch: 158 / 525], examples_per_second: 10504.7131, train_label_loss: 1.0586, \n"
     ]
    },
    {
     "name": "stdout",
     "output_type": "stream",
     "text": [
      "epoch: 5, [batch: 210 / 525], examples_per_second: 10602.7712, train_label_loss: 0.9352, \n"
     ]
    },
    {
     "name": "stdout",
     "output_type": "stream",
     "text": [
      "epoch: 5, [batch: 263 / 525], examples_per_second: 10552.0564, train_label_loss: 0.8790, \n"
     ]
    },
    {
     "name": "stdout",
     "output_type": "stream",
     "text": [
      "epoch: 5, [batch: 315 / 525], examples_per_second: 10635.5299, train_label_loss: 0.9983, \n"
     ]
    },
    {
     "name": "stdout",
     "output_type": "stream",
     "text": [
      "epoch: 5, [batch: 367 / 525], examples_per_second: 10584.2238, train_label_loss: 0.8944, \n"
     ]
    },
    {
     "name": "stdout",
     "output_type": "stream",
     "text": [
      "epoch: 5, [batch: 420 / 525], examples_per_second: 10668.0837, train_label_loss: 0.8937, \n"
     ]
    },
    {
     "name": "stdout",
     "output_type": "stream",
     "text": [
      "epoch: 5, [batch: 472 / 525], examples_per_second: 10692.4360, train_label_loss: 0.7834, \n"
     ]
    },
    {
     "name": "stdout",
     "output_type": "stream",
     "text": [
      "=============================================================\n",
      "epoch: 5, source_val_acc_label: 0.6172, source_val_label_loss: 1.0956, target_val_acc_label: 0.0690, target_val_label_loss: 10.3052, \n",
      "=============================================================\n"
     ]
    },
    {
     "name": "stdout",
     "output_type": "stream",
     "text": [
      "Patience (3) exhausted\n"
     ]
    }
   ],
   "source": [
    "jig = Vanilla_Train_Eval_Test_Jig(\n",
    "    model=model,\n",
    "    path_to_best_model=p.BEST_MODEL_PATH,\n",
    "    device=p.device,\n",
    "    label_loss_object=torch.nn.NLLLoss(),\n",
    ")\n",
    "\n",
    "jig.train(\n",
    "    train_iterable=datasets.source.processed.train,\n",
    "    source_val_iterable=datasets.source.processed.val,\n",
    "    target_val_iterable=datasets.target.processed.val,\n",
    "    patience=p.patience,\n",
    "    num_epochs=p.n_epoch,\n",
    "    num_logs_per_epoch=p.NUM_LOGS_PER_EPOCH,\n",
    "    criteria_for_best=p.criteria_for_best\n",
    ")"
   ]
  },
  {
   "cell_type": "code",
   "execution_count": 14,
   "id": "4bc2ac17",
   "metadata": {
    "execution": {
     "iopub.execute_input": "2022-03-26T01:50:40.872254Z",
     "iopub.status.busy": "2022-03-26T01:50:40.871821Z",
     "iopub.status.idle": "2022-03-26T01:50:40.874136Z",
     "shell.execute_reply": "2022-03-26T01:50:40.874443Z"
    },
    "papermill": {
     "duration": 0.037872,
     "end_time": "2022-03-26T01:50:40.874527",
     "exception": false,
     "start_time": "2022-03-26T01:50:40.836655",
     "status": "completed"
    },
    "tags": []
   },
   "outputs": [],
   "source": [
    "total_experiment_time_secs = time.time() - start_time_secs"
   ]
  },
  {
   "cell_type": "code",
   "execution_count": 15,
   "id": "cae88f23",
   "metadata": {
    "execution": {
     "iopub.execute_input": "2022-03-26T01:50:40.948270Z",
     "iopub.status.busy": "2022-03-26T01:50:40.947882Z",
     "iopub.status.idle": "2022-03-26T01:50:52.759078Z",
     "shell.execute_reply": "2022-03-26T01:50:52.757973Z"
    },
    "papermill": {
     "duration": 11.850386,
     "end_time": "2022-03-26T01:50:52.759261",
     "exception": false,
     "start_time": "2022-03-26T01:50:40.908875",
     "status": "completed"
    },
    "tags": []
   },
   "outputs": [],
   "source": [
    "source_test_label_accuracy, source_test_label_loss = jig.test(datasets.source.processed.test)\n",
    "target_test_label_accuracy, target_test_label_loss = jig.test(datasets.target.processed.test)\n",
    "\n",
    "source_val_label_accuracy, source_val_label_loss = jig.test(datasets.source.processed.val)\n",
    "target_val_label_accuracy, target_val_label_loss = jig.test(datasets.target.processed.val)\n",
    "\n",
    "history = jig.get_history()\n",
    "\n",
    "total_epochs_trained = len(history[\"epoch_indices\"])\n",
    "\n",
    "val_dl = wrap_in_dataloader(p, Sequence_Aggregator((datasets.source.original.val, datasets.target.original.val)))\n",
    "\n",
    "confusion = confusion_by_domain_over_dataloader(model, p.device, val_dl, forward_uses_domain=False)\n",
    "per_domain_accuracy = per_domain_accuracy_from_confusion(confusion)\n",
    "\n",
    "# Add a key to per_domain_accuracy for if it was a source domain\n",
    "for domain, accuracy in per_domain_accuracy.items():\n",
    "    per_domain_accuracy[domain] = {\n",
    "        \"accuracy\": accuracy,\n",
    "        \"source?\": domain in p.domains_source\n",
    "    }\n",
    "\n",
    "# Do an independent accuracy assesment JUST TO BE SURE!\n",
    "# _source_test_label_accuracy = independent_accuracy_assesment(model, datasets.source.processed.test, p.device)\n",
    "# _target_test_label_accuracy = independent_accuracy_assesment(model, datasets.target.processed.test, p.device)\n",
    "# _source_val_label_accuracy = independent_accuracy_assesment(model, datasets.source.processed.val, p.device)\n",
    "# _target_val_label_accuracy = independent_accuracy_assesment(model, datasets.target.processed.val, p.device)\n",
    "\n",
    "# assert(_source_test_label_accuracy == source_test_label_accuracy)\n",
    "# assert(_target_test_label_accuracy == target_test_label_accuracy)\n",
    "# assert(_source_val_label_accuracy == source_val_label_accuracy)\n",
    "# assert(_target_val_label_accuracy == target_val_label_accuracy)\n",
    "\n",
    "###################################\n",
    "# Write out the results\n",
    "###################################\n",
    "\n",
    "experiment = {\n",
    "    \"experiment_name\": p.experiment_name,\n",
    "    \"parameters\": p,\n",
    "    \"results\": {\n",
    "        \"source_test_label_accuracy\": source_test_label_accuracy,\n",
    "        \"source_test_label_loss\": source_test_label_loss,\n",
    "        \"target_test_label_accuracy\": target_test_label_accuracy,\n",
    "        \"target_test_label_loss\": target_test_label_loss,\n",
    "        \"source_val_label_accuracy\": source_val_label_accuracy,\n",
    "        \"source_val_label_loss\": source_val_label_loss,\n",
    "        \"target_val_label_accuracy\": target_val_label_accuracy,\n",
    "        \"target_val_label_loss\": target_val_label_loss,\n",
    "        \"total_epochs_trained\": total_epochs_trained,\n",
    "        \"total_experiment_time_secs\": total_experiment_time_secs,\n",
    "        \"confusion\": confusion,\n",
    "        \"per_domain_accuracy\": per_domain_accuracy,\n",
    "    },\n",
    "    \"history\": history,\n",
    "    \"dataset_metrics\": get_dataset_metrics(datasets, \"cnn\"),\n",
    "}"
   ]
  },
  {
   "cell_type": "code",
   "execution_count": 16,
   "id": "74c318cf",
   "metadata": {
    "execution": {
     "iopub.execute_input": "2022-03-26T01:50:52.855149Z",
     "iopub.status.busy": "2022-03-26T01:50:52.845466Z",
     "iopub.status.idle": "2022-03-26T01:50:53.030784Z",
     "shell.execute_reply": "2022-03-26T01:50:53.030053Z"
    },
    "papermill": {
     "duration": 0.236734,
     "end_time": "2022-03-26T01:50:53.030950",
     "exception": false,
     "start_time": "2022-03-26T01:50:52.794216",
     "status": "completed"
    },
    "tags": []
   },
   "outputs": [
    {
     "data": {
      "text/plain": [
       "<AxesSubplot:title={'center':'Source Train Label Loss vs Source Val Label Loss'}, xlabel='Epoch'>"
      ]
     },
     "execution_count": 16,
     "metadata": {},
     "output_type": "execute_result"
    },
    {
     "data": {
      "image/png": "[encoded data removed]",
      "text/plain": [
       "<Figure size 1080x504 with 1 Axes>"
      ]
     },
     "metadata": {
      "needs_background": "light"
     },
     "output_type": "display_data"
    }
   ],
   "source": [
    "get_loss_curve(experiment)"
   ]
  },
  {
   "cell_type": "code",
   "execution_count": 17,
   "id": "59376601",
   "metadata": {
    "execution": {
     "iopub.execute_input": "2022-03-26T01:50:53.122849Z",
     "iopub.status.busy": "2022-03-26T01:50:53.103605Z",
     "iopub.status.idle": "2022-03-26T01:50:53.464987Z",
     "shell.execute_reply": "2022-03-26T01:50:53.465669Z"
    },
    "papermill": {
     "duration": 0.398997,
     "end_time": "2022-03-26T01:50:53.465880",
     "exception": false,
     "start_time": "2022-03-26T01:50:53.066883",
     "status": "completed"
    },
    "tags": []
   },
   "outputs": [
    {
     "data": {
      "text/plain": [
       "<AxesSubplot:title={'center':'Results'}>"
      ]
     },
     "execution_count": 17,
     "metadata": {},
     "output_type": "execute_result"
    },
    {
     "data": {
      "image/png": "[encoded data removed]",
      "text/plain": [
       "<Figure size 1080x504 with 1 Axes>"
      ]
     },
     "metadata": {
      "needs_background": "light"
     },
     "output_type": "display_data"
    }
   ],
   "source": [
    "get_results_table(experiment)"
   ]
  },
  {
   "cell_type": "code",
   "execution_count": 18,
   "id": "e80c5c98",
   "metadata": {
    "execution": {
     "iopub.execute_input": "2022-03-26T01:50:53.563702Z",
     "iopub.status.busy": "2022-03-26T01:50:53.550214Z",
     "iopub.status.idle": "2022-03-26T01:50:53.731159Z",
     "shell.execute_reply": "2022-03-26T01:50:53.730359Z"
    },
    "papermill": {
     "duration": 0.227225,
     "end_time": "2022-03-26T01:50:53.731312",
     "exception": false,
     "start_time": "2022-03-26T01:50:53.504087",
     "status": "completed"
    },
    "tags": []
   },
   "outputs": [
    {
     "data": {
      "text/plain": [
       "<AxesSubplot:title={'center':'Per Domain Accuracy'}, xlabel='domain'>"
      ]
     },
     "execution_count": 18,
     "metadata": {},
     "output_type": "execute_result"
    },
    {
     "data": {
      "image/png": "[encoded data removed]",
      "text/plain": [
       "<Figure size 1080x504 with 1 Axes>"
      ]
     },
     "metadata": {
      "needs_background": "light"
     },
     "output_type": "display_data"
    }
   ],
   "source": [
    "get_domain_accuracies(experiment)"
   ]
  },
  {
   "cell_type": "code",
   "execution_count": 19,
   "id": "086fdd10",
   "metadata": {
    "execution": {
     "iopub.execute_input": "2022-03-26T01:50:53.808893Z",
     "iopub.status.busy": "2022-03-26T01:50:53.808525Z",
     "iopub.status.idle": "2022-03-26T01:50:53.813171Z",
     "shell.execute_reply": "2022-03-26T01:50:53.812471Z"
    },
    "papermill": {
     "duration": 0.041814,
     "end_time": "2022-03-26T01:50:53.813323",
     "exception": false,
     "start_time": "2022-03-26T01:50:53.771509",
     "status": "completed"
    },
    "tags": []
   },
   "outputs": [
    {
     "name": "stdout",
     "output_type": "stream",
     "text": [
      "Source Test Label Accuracy: 0.2811111111111111 Target Test Label Accuracy: 0.07908333333333334\n",
      "Source Val Label Accuracy: 0.2810416666666667 Target Val Label Accuracy: 0.07820833333333334\n"
     ]
    }
   ],
   "source": [
    "print(\"Source Test Label Accuracy:\", experiment[\"results\"][\"source_test_label_accuracy\"], \"Target Test Label Accuracy:\", experiment[\"results\"][\"target_test_label_accuracy\"])\n",
    "print(\"Source Val Label Accuracy:\", experiment[\"results\"][\"source_val_label_accuracy\"], \"Target Val Label Accuracy:\", experiment[\"results\"][\"target_val_label_accuracy\"])"
   ]
  },
  {
   "cell_type": "code",
   "execution_count": 20,
   "id": "9f450536",
   "metadata": {
    "execution": {
     "iopub.execute_input": "2022-03-26T01:50:53.893186Z",
     "iopub.status.busy": "2022-03-26T01:50:53.892829Z",
     "iopub.status.idle": "2022-03-26T01:50:53.896759Z",
     "shell.execute_reply": "2022-03-26T01:50:53.897429Z"
    },
    "papermill": {
     "duration": 0.044873,
     "end_time": "2022-03-26T01:50:53.897609",
     "exception": false,
     "start_time": "2022-03-26T01:50:53.852736",
     "status": "completed"
    },
    "tags": [
     "experiment_json"
    ]
   },
   "outputs": [
    {
     "data": {
      "text/plain": [
       "'{\"experiment_name\": \"cnn_1:oracle.run2_limited\", \"parameters\": {\"experiment_name\": \"cnn_1:oracle.run2_limited\", \"labels\": [\"3123D52\", \"3123D65\", \"3123D79\", \"3123D80\", \"3123D54\", \"3123D70\", \"3123D7B\", \"3123D89\", \"3123D58\", \"3123D76\", \"3123D7D\", \"3123EFE\", \"3123D64\", \"3123D78\", \"3123D7E\", \"3124E4A\"], \"domains_source\": [8, 32, 50], \"domains_target\": [14, 20, 26, 38, 44], \"pickle_name_source\": \"oracle.Run2_10kExamples_stratified_ds.2022A.pkl\", \"pickle_name_target\": \"oracle.Run2_10kExamples_stratified_ds.2022A.pkl\", \"device\": \"cuda\", \"lr\": 0.0001, \"batch_size\": 128, \"normalize_source\": false, \"normalize_target\": false, \"num_examples_per_domain_per_label_source\": 2000, \"num_examples_per_domain_per_label_target\": 2000, \"torch_default_dtype\": \"torch.float32\", \"n_epoch\": 50, \"patience\": 3, \"criteria_for_best\": \"target_accuracy\", \"x_net\": [{\"class\": \"nnReshape\", \"kargs\": {\"shape\": [-1, 1, 2, 256]}}, {\"class\": \"Conv2d\", \"kargs\": {\"in_channels\": 1, \"out_channels\": 256, \"kernel_size\": [1, 7], \"bias\": false, \"padding\": [0, 3]}}, {\"class\": \"ReLU\", \"kargs\": {\"inplace\": true}}, {\"class\": \"BatchNorm2d\", \"kargs\": {\"num_features\": 256}}, {\"class\": \"Conv2d\", \"kargs\": {\"in_channels\": 256, \"out_channels\": 80, \"kernel_size\": [2, 7], \"bias\": true, \"padding\": [0, 3]}}, {\"class\": \"ReLU\", \"kargs\": {\"inplace\": true}}, {\"class\": \"BatchNorm2d\", \"kargs\": {\"num_features\": 80}}, {\"class\": \"Flatten\", \"kargs\": {}}, {\"class\": \"Linear\", \"kargs\": {\"in_features\": 20480, \"out_features\": 256}}, {\"class\": \"ReLU\", \"kargs\": {\"inplace\": true}}, {\"class\": \"BatchNorm1d\", \"kargs\": {\"num_features\": 256}}, {\"class\": \"Linear\", \"kargs\": {\"in_features\": 256, \"out_features\": 16}}], \"NUM_LOGS_PER_EPOCH\": 10, \"BEST_MODEL_PATH\": \"./best_model.pth\", \"dataset_seed\": 500, \"seed\": 500}, \"results\": {\"source_test_label_accuracy\": 0.2811111111111111, \"source_test_label_loss\": 2.129777585510659, \"target_test_label_accuracy\": 0.07908333333333334, \"target_test_label_loss\": 4.046096073820236, \"source_val_label_accuracy\": 0.2810416666666667, \"source_val_label_loss\": 2.128683530123888, \"target_val_label_accuracy\": 0.07820833333333334, \"target_val_label_loss\": 4.04487711064359, \"total_epochs_trained\": 5, \"total_experiment_time_secs\": 54.82264065742493, \"confusion\": {\"50\": {\"3\": {\"5\": 175, \"1\": 78, \"8\": 47}, \"13\": {\"1\": 268, \"8\": 32}, \"11\": {\"8\": 186, \"5\": 95, \"15\": 17, \"7\": 2}, \"10\": {\"1\": 257, \"10\": 25, \"0\": 18}, \"0\": {\"10\": 226, \"0\": 48, \"2\": 10, \"1\": 16}, \"2\": {\"0\": 3, \"10\": 278, \"2\": 19}, \"8\": {\"1\": 300}, \"14\": {\"10\": 96, \"2\": 190, \"3\": 10, \"14\": 3, \"0\": 1}, \"4\": {\"5\": 300}, \"6\": {\"5\": 289, \"8\": 6, \"15\": 5}, \"1\": {\"1\": 179, \"8\": 121}, \"15\": {\"5\": 293, \"15\": 7}, \"9\": {\"5\": 299, \"15\": 1}, \"7\": {\"5\": 300}, \"12\": {\"5\": 291, \"8\": 4, \"7\": 4, \"15\": 1}, \"5\": {\"5\": 300}}, \"44\": {\"11\": {\"5\": 300}, \"14\": {\"5\": 300}, \"7\": {\"5\": 295, \"15\": 5}, \"6\": {\"5\": 300}, \"2\": {\"8\": 95, \"15\": 131, \"2\": 3, \"5\": 45, \"7\": 26}, \"0\": {\"5\": 50, \"8\": 170, \"1\": 80}, \"3\": {\"2\": 251, \"13\": 16, \"8\": 24, \"11\": 6, \"14\": 2, \"0\": 1}, \"10\": {\"5\": 296, \"15\": 4}, \"8\": {\"5\": 183, \"8\": 117}, \"15\": {\"5\": 164, \"8\": 134, \"7\": 1, \"15\": 1}, \"12\": {\"2\": 255, \"13\": 32, \"3\": 1, \"11\": 5, \"14\": 1, \"8\": 6}, \"4\": {\"5\": 299, \"15\": 1}, \"1\": {\"15\": 99, \"5\": 46, \"8\": 68, \"7\": 74, \"2\": 12, \"11\": 1}, \"5\": {\"8\": 42, \"5\": 251, \"15\": 7}, \"13\": {\"5\": 300}, \"9\": {\"5\": 274, \"15\": 26}}, \"38\": {\"4\": {\"5\": 300}, \"6\": {\"0\": 105, \"1\": 57, \"2\": 112, \"13\": 21, \"14\": 3, \"8\": 2}, \"9\": {\"5\": 297, \"15\": 3}, \"1\": {\"1\": 280, \"2\": 2, \"8\": 18}, \"11\": {\"6\": 161, \"5\": 139}, \"8\": {\"5\": 299, \"15\": 1}, \"13\": {\"5\": 300}, \"7\": {\"5\": 300}, \"14\": {\"5\": 283, \"8\": 15, \"1\": 2}, \"12\": {\"8\": 76, \"5\": 114, \"15\": 109, \"1\": 1}, \"2\": {\"5\": 298, \"8\": 2}, \"0\": {\"5\": 299, \"15\": 1}, \"3\": {\"5\": 300}, \"15\": {\"8\": 53, \"1\": 186, \"13\": 19, \"0\": 17, \"2\": 18, \"10\": 6, \"14\": 1}, \"5\": {\"8\": 105, \"5\": 186, \"15\": 8, \"7\": 1}, \"10\": {\"5\": 300}}, \"14\": {\"0\": {\"3\": 300}, \"15\": {\"3\": 300}, \"7\": {\"3\": 300}, \"6\": {\"3\": 300}, \"13\": {\"3\": 300}, \"5\": {\"3\": 300}, \"12\": {\"6\": 48, \"5\": 31, \"9\": 49, \"10\": 20, \"3\": 101, \"2\": 3, \"7\": 3, \"13\": 5, \"15\": 28, \"1\": 7, \"8\": 4, \"0\": 1}, \"9\": {\"3\": 162, \"15\": 135, \"9\": 3}, \"2\": {\"3\": 300}, \"8\": {\"3\": 300}, \"14\": {\"3\": 300}, \"4\": {\"3\": 300}, \"11\": {\"7\": 254, \"13\": 40, \"11\": 2, \"8\": 3, \"1\": 1}, \"10\": {\"3\": 298, \"9\": 2}, \"1\": {\"15\": 255, \"3\": 45}, \"3\": {\"3\": 300}}, \"26\": {\"11\": {\"6\": 296, \"10\": 4}, \"4\": {\"3\": 300}, \"12\": {\"6\": 223, \"3\": 73, \"9\": 3, \"12\": 1}, \"13\": {\"3\": 280, \"6\": 16, \"12\": 3, \"9\": 1}, \"10\": {\"3\": 267, \"6\": 32, \"12\": 1}, \"5\": {\"3\": 201, \"6\": 89, \"12\": 9, \"10\": 1}, \"3\": {\"3\": 300}, \"6\": {\"6\": 105, \"3\": 189, \"12\": 6}, \"9\": {\"3\": 282, \"6\": 16, \"9\": 2}, \"1\": {\"3\": 245, \"6\": 52, \"12\": 3}, \"2\": {\"3\": 290, \"6\": 10}, \"8\": {\"3\": 282, \"6\": 18}, \"0\": {\"3\": 284, \"6\": 16}, \"15\": {\"3\": 294, \"12\": 1, \"6\": 5}, \"14\": {\"3\": 263, \"6\": 35, \"12\": 2}, \"7\": {\"3\": 297, \"6\": 2, \"12\": 1}}, \"20\": {\"6\": {\"15\": 300}, \"4\": {\"15\": 297, \"2\": 3}, \"5\": {\"15\": 299, \"3\": 1}, \"3\": {\"15\": 299, \"2\": 1}, \"8\": {\"15\": 188, \"3\": 111, \"9\": 1}, \"11\": {\"3\": 243, \"15\": 57}, \"12\": {\"2\": 31, \"15\": 225, \"13\": 44}, \"13\": {\"2\": 33, \"15\": 239, \"13\": 28}, \"9\": {\"15\": 298, \"2\": 2}, \"0\": {\"3\": 164, \"15\": 130, \"9\": 6}, \"10\": {\"15\": 256, \"13\": 36, \"2\": 8}, \"14\": {\"3\": 86, \"15\": 214}, \"7\": {\"15\": 300}, \"15\": {\"15\": 298, \"2\": 2}, \"1\": {\"15\": 299, \"2\": 1}, \"2\": {\"15\": 300}}, \"32\": {\"15\": {\"15\": 220, \"8\": 37, \"5\": 36, \"7\": 7}, \"13\": {\"3\": 146, \"2\": 147, \"13\": 3, \"0\": 3, \"14\": 1}, \"5\": {\"5\": 214, \"8\": 31, \"15\": 29, \"7\": 24, \"2\": 2}, \"12\": {\"3\": 5, \"10\": 293, \"12\": 2}, \"4\": {\"2\": 243, \"0\": 24, \"13\": 29, \"14\": 4}, \"1\": {\"1\": 250, \"10\": 50}, \"2\": {\"8\": 189, \"2\": 107, \"1\": 1, \"13\": 3}, \"3\": {\"3\": 86, \"2\": 186, \"13\": 20, \"0\": 6, \"14\": 2}, \"7\": {\"8\": 138, \"2\": 146, \"11\": 4, \"7\": 11, \"5\": 1}, \"8\": {\"8\": 182, \"2\": 92, \"11\": 3, \"13\": 22, \"15\": 1}, \"14\": {\"8\": 144, \"2\": 110, \"1\": 22, \"14\": 5, \"0\": 14, \"13\": 5}, \"9\": {\"2\": 102, \"10\": 148, \"0\": 35, \"14\": 4, \"12\": 1, \"3\": 10}, \"0\": {\"2\": 191, \"8\": 74, \"13\": 30, \"0\": 2, \"1\": 1, \"14\": 2}, \"11\": {\"2\": 226, \"0\": 21, \"3\": 34, \"13\": 9, \"14\": 9, \"10\": 1}, \"6\": {\"6\": 297, \"10\": 3}, \"10\": {\"6\": 13, \"10\": 287}}, \"8\": {\"6\": {\"14\": 205, \"8\": 12, \"0\": 79, \"6\": 3, \"4\": 1}, \"7\": {\"7\": 197, \"8\": 81, \"4\": 2, \"14\": 13, \"11\": 2, \"13\": 3, \"10\": 1, \"1\": 1}, \"2\": {\"15\": 285, \"2\": 14, \"13\": 1}, \"10\": {\"8\": 34, \"13\": 36, \"7\": 169, \"1\": 31, \"10\": 28, \"14\": 1, \"5\": 1}, \"5\": {\"7\": 92, \"8\": 88, \"10\": 26, \"14\": 18, \"13\": 24, \"1\": 50, \"4\": 1, \"5\": 1}, \"3\": {\"3\": 298, \"9\": 2}, \"8\": {\"14\": 224, \"0\": 36, \"8\": 33, \"4\": 4, \"7\": 2, \"11\": 1}, \"15\": {\"15\": 294, \"3\": 6}, \"11\": {\"0\": 79, \"8\": 42, \"14\": 64, \"13\": 22, \"7\": 81, \"11\": 8, \"1\": 2, \"4\": 2}, \"14\": {\"0\": 100, \"14\": 190, \"8\": 10}, \"4\": {\"8\": 138, \"7\": 64, \"14\": 87, \"1\": 6, \"4\": 5}, \"0\": {\"0\": 300}, \"9\": {\"9\": 295, \"15\": 3, \"3\": 1, \"2\": 1}, \"1\": {\"8\": 128, \"14\": 103, \"7\": 49, \"4\": 2, \"13\": 7, \"1\": 10, \"10\": 1}, \"12\": {\"15\": 300}, \"13\": {\"13\": 124, \"7\": 130, \"10\": 26, \"8\": 8, \"15\": 2, \"2\": 2, \"1\": 8}}}, \"per_domain_accuracy\": {\"50\": {\"accuracy\": 0.12104166666666667, \"source?\": true}, \"44\": {\"accuracy\": 0.0775, \"source?\": false}, \"38\": {\"accuracy\": 0.09708333333333333, \"source?\": false}, \"14\": {\"accuracy\": 0.06354166666666666, \"source?\": false}, \"26\": {\"accuracy\": 0.085, \"source?\": false}, \"20\": {\"accuracy\": 0.06791666666666667, \"source?\": false}, \"32\": {\"accuracy\": 0.34708333333333335, \"source?\": true}, \"8\": {\"accuracy\": 0.375, \"source?\": true}}}, \"history\": {\"epoch_indices\": [1, 2, 3, 4, 5], \"train_label_loss\": [2.3825833211626324, 1.8860983174187795, 1.4663077965236846, 1.1798542139643715, 0.9479379716373625], \"source_val_label_loss\": [2.1285513481207654, 1.7892535228644852, 1.370233631767003, 1.2500043991392693, 1.0955936164982552], \"target_val_label_loss\": [4.044676021058509, 4.992216726566883, 7.364493534920063, 8.167957899418283, 10.305221552544452], \"source_val_acc_label\": [0.2810416666666667, 0.3675, 0.5464583333333334, 0.5692361111111112, 0.6172222222222222], \"target_val_acc_label\": [0.07820833333333334, 0.06275, 0.07333333333333333, 0.065375, 0.06904166666666667]}, \"dataset_metrics\": {\"source\": {\"train\": {\"n_unique_x\": 67200, \"n_unique_y\": 16, \"n_batch/episode\": 525}, \"val\": {\"n_unique_x\": 14400, \"n_unique_y\": 16, \"n_batch/episode\": 113}, \"test\": {\"n_unique_x\": 14400, \"n_unique_y\": 16, \"n_batch/episode\": 113}}, \"target\": {\"train\": {\"n_unique_x\": 112000, \"n_unique_y\": 16, \"n_batch/episode\": 875}, \"val\": {\"n_unique_x\": 24000, \"n_unique_y\": 16, \"n_batch/episode\": 188}, \"test\": {\"n_unique_x\": 24000, \"n_unique_y\": 16, \"n_batch/episode\": 188}}}}'"
      ]
     },
     "execution_count": 20,
     "metadata": {},
     "output_type": "execute_result"
    }
   ],
   "source": [
    "json.dumps(experiment)"
   ]
  }
 ],
 "metadata": {
  "celltoolbar": "Tags",
  "kernelspec": {
   "display_name": "Python 3 (ipykernel)",
   "language": "python",
   "name": "python3"
  },
  "language_info": {
   "codemirror_mode": {
    "name": "ipython",
    "version": 3
   },
   "file_extension": ".py",
   "mimetype": "text/x-python",
   "name": "python",
   "nbconvert_exporter": "python",
   "pygments_lexer": "ipython3",
   "version": "3.8.12"
  },
  "papermill": {
   "default_parameters": {},
   "duration": 72.629179,
   "end_time": "2022-03-26T01:50:56.051766",
   "environment_variables": {},
   "exception": null,
   "input_path": "/root/csc500-main/csc500-notebooks/templates/cnn_template.ipynb",
   "output_path": "trial.ipynb",
   "parameters": {
    "parameters": {
     "BEST_MODEL_PATH": "./best_model.pth",
     "NUM_LOGS_PER_EPOCH": 10,
     "batch_size": 128,
     "criteria_for_best": "target_accuracy",
     "dataset_seed": 500,
     "device": "cuda",
     "domains_source": [
      8,
      32,
      50
     ],
     "domains_target": [
      14,
      20,
      26,
      38,
      44
     ],
     "experiment_name": "cnn_1:oracle.run2_limited",
     "labels": [
      "3123D52",
      "3123D65",
      "3123D79",
      "3123D80",
      "3123D54",
      "3123D70",
      "3123D7B",
      "3123D89",
      "3123D58",
      "3123D76",
      "3123D7D",
      "3123EFE",
      "3123D64",
      "3123D78",
      "3123D7E",
      "3124E4A"
     ],
     "lr": 0.0001,
     "n_epoch": 50,
     "normalize_source": false,
     "normalize_target": false,
     "num_examples_per_domain_per_label_source": 2000,
     "num_examples_per_domain_per_label_target": 2000,
     "patience": 3,
     "pickle_name_source": "oracle.Run2_10kExamples_stratified_ds.2022A.pkl",
     "pickle_name_target": "oracle.Run2_10kExamples_stratified_ds.2022A.pkl",
     "seed": 500,
     "torch_default_dtype": "torch.float32",
     "x_net": [
      {
       "class": "nnReshape",
       "kargs": {
        "shape": [
         -1,
         1,
         2,
         256
        ]
       }
      },
      {
       "class": "Conv2d",
       "kargs": {
        "bias": false,
        "in_channels": 1,
        "kernel_size": [
         1,
         7
        ],
        "out_channels": 256,
        "padding": [
         0,
         3
        ]
       }
      },
      {
       "class": "ReLU",
       "kargs": {
        "inplace": true
       }
      },
      {
       "class": "BatchNorm2d",
       "kargs": {
        "num_features": 256
       }
      },
      {
       "class": "Conv2d",
       "kargs": {
        "bias": true,
        "in_channels": 256,
        "kernel_size": [
         2,
         7
        ],
        "out_channels": 80,
        "padding": [
         0,
         3
        ]
       }
      },
      {
       "class": "ReLU",
       "kargs": {
        "inplace": true
       }
      },
      {
       "class": "BatchNorm2d",
       "kargs": {
        "num_features": 80
       }
      },
      {
       "class": "Flatten",
       "kargs": {}
      },
      {
       "class": "Linear",
       "kargs": {
        "in_features": 20480,
        "out_features": 256
       }
      },
      {
       "class": "ReLU",
       "kargs": {
        "inplace": true
       }
      },
      {
       "class": "BatchNorm1d",
       "kargs": {
        "num_features": 256
       }
      },
      {
       "class": "Linear",
       "kargs": {
        "in_features": 256,
        "out_features": 16
       }
      }
     ]
    }
   },
   "start_time": "2022-03-26T01:49:43.422587",
   "version": "2.3.4"
  }
 },
 "nbformat": 4,
 "nbformat_minor": 5
}