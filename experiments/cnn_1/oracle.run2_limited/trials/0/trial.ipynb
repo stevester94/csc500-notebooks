{
 "cells": [
  {
   "cell_type": "code",
   "execution_count": 1,
   "id": "2324682e",
   "metadata": {
    "execution": {
     "iopub.execute_input": "2022-03-26T01:44:34.204158Z",
     "iopub.status.busy": "2022-03-26T01:44:34.203248Z",
     "iopub.status.idle": "2022-03-26T01:44:35.498971Z",
     "shell.execute_reply": "2022-03-26T01:44:35.498078Z"
    },
    "papermill": {
     "duration": 1.331747,
     "end_time": "2022-03-26T01:44:35.499166",
     "exception": false,
     "start_time": "2022-03-26T01:44:34.167419",
     "status": "completed"
    },
    "tags": []
   },
   "outputs": [],
   "source": [
    "import os, json, sys, time, random\n",
    "import numpy as np\n",
    "import torch\n",
    "from  easydict import EasyDict\n",
    "from math import floor\n",
    "from easydict import EasyDict\n",
    "\n",
    "from steves_utils.vanilla_train_eval_test_jig import  Vanilla_Train_Eval_Test_Jig\n",
    "\n",
    "from steves_utils.torch_utils import get_dataset_metrics, independent_accuracy_assesment\n",
    "from steves_models.configurable_vanilla import Configurable_Vanilla\n",
    "from steves_utils.torch_sequential_builder import build_sequential\n",
    "from steves_utils.lazy_map import Lazy_Map\n",
    "from steves_utils.sequence_aggregator import Sequence_Aggregator\n",
    "\n",
    "from steves_utils.stratified_dataset.traditional_accessor import Traditional_Accessor_Factory\n",
    "\n",
    "from steves_utils.cnn_do_report import (\n",
    "    get_loss_curve,\n",
    "    get_results_table,\n",
    "    get_parameters_table,\n",
    "    get_domain_accuracies,\n",
    ")\n",
    "\n",
    "from steves_utils.torch_utils import (\n",
    "    confusion_by_domain_over_dataloader,\n",
    "    independent_accuracy_assesment\n",
    ")\n",
    "\n",
    "from steves_utils.utils_v2 import (\n",
    "    per_domain_accuracy_from_confusion,\n",
    "    get_datasets_base_path\n",
    ")\n",
    "\n",
    "# from steves_utils.ptn_do_report import TBD"
   ]
  },
  {
   "cell_type": "code",
   "execution_count": 2,
   "id": "1b29e3fe",
   "metadata": {
    "execution": {
     "iopub.execute_input": "2022-03-26T01:44:35.537577Z",
     "iopub.status.busy": "2022-03-26T01:44:35.537188Z",
     "iopub.status.idle": "2022-03-26T01:44:35.539792Z",
     "shell.execute_reply": "2022-03-26T01:44:35.539449Z"
    },
    "papermill": {
     "duration": 0.021856,
     "end_time": "2022-03-26T01:44:35.539864",
     "exception": false,
     "start_time": "2022-03-26T01:44:35.518008",
     "status": "completed"
    },
    "tags": []
   },
   "outputs": [],
   "source": [
    "required_parameters = {\n",
    "    \"experiment_name\",\n",
    "    \"lr\",\n",
    "    \"device\",\n",
    "    \"dataset_seed\",\n",
    "    \"seed\",\n",
    "    \"labels\",\n",
    "    \"domains_target\",\n",
    "    \"domains_source\",\n",
    "    \"num_examples_per_domain_per_label_source\",\n",
    "    \"num_examples_per_domain_per_label_target\",\n",
    "    \"batch_size\",\n",
    "    \"n_epoch\",\n",
    "    \"patience\",\n",
    "    \"criteria_for_best\",\n",
    "    \"normalize_source\",\n",
    "    \"normalize_target\",\n",
    "    \"x_net\",\n",
    "    \"NUM_LOGS_PER_EPOCH\",\n",
    "    \"BEST_MODEL_PATH\",\n",
    "    \"pickle_name_source\",\n",
    "    \"pickle_name_target\",\n",
    "    \"torch_default_dtype\",\n",
    "}"
   ]
  },
  {
   "cell_type": "code",
   "execution_count": 3,
   "id": "670b5fb8",
   "metadata": {
    "execution": {
     "iopub.execute_input": "2022-03-26T01:44:35.585250Z",
     "iopub.status.busy": "2022-03-26T01:44:35.584356Z",
     "iopub.status.idle": "2022-03-26T01:44:35.591227Z",
     "shell.execute_reply": "2022-03-26T01:44:35.591945Z"
    },
    "papermill": {
     "duration": 0.034375,
     "end_time": "2022-03-26T01:44:35.592102",
     "exception": false,
     "start_time": "2022-03-26T01:44:35.557727",
     "status": "completed"
    },
    "tags": [
     "parameters"
    ]
   },
   "outputs": [],
   "source": [
    "from steves_utils.ORACLE.utils_v2 import (\n",
    "    ALL_SERIAL_NUMBERS,\n",
    "    ALL_DISTANCES_FEET_NARROWED,\n",
    ")\n",
    "\n",
    "standalone_parameters = {}\n",
    "standalone_parameters[\"experiment_name\"] = \"MANUAL CORES CNN\"\n",
    "standalone_parameters[\"lr\"] = 0.0001\n",
    "standalone_parameters[\"device\"] = \"cuda\"\n",
    "\n",
    "standalone_parameters[\"dataset_seed\"] = 1337\n",
    "standalone_parameters[\"seed\"] = 1337\n",
    "standalone_parameters[\"labels\"] = ALL_SERIAL_NUMBERS\n",
    "\n",
    "standalone_parameters[\"domains_source\"] = [8,32,50]\n",
    "standalone_parameters[\"domains_target\"] = [14,20,26,38,44,]\n",
    "\n",
    "standalone_parameters[\"num_examples_per_domain_per_label_source\"]=-1\n",
    "standalone_parameters[\"num_examples_per_domain_per_label_target\"]=-1\n",
    "\n",
    "standalone_parameters[\"pickle_name_source\"] = \"oracle.Run1_framed_2000Examples_stratified_ds.2022A.pkl\"\n",
    "standalone_parameters[\"pickle_name_target\"] = \"oracle.Run2_framed_2000Examples_stratified_ds.2022A.pkl\"\n",
    "\n",
    "standalone_parameters[\"torch_default_dtype\"] = \"torch.float32\" \n",
    "\n",
    "standalone_parameters[\"batch_size\"]=128\n",
    "\n",
    "standalone_parameters[\"n_epoch\"] = 3\n",
    "\n",
    "standalone_parameters[\"patience\"] = 10\n",
    "\n",
    "standalone_parameters[\"criteria_for_best\"] = \"target_accuracy\"\n",
    "standalone_parameters[\"normalize_source\"] = False\n",
    "standalone_parameters[\"normalize_target\"] = False\n",
    "\n",
    "standalone_parameters[\"x_net\"] =     [\n",
    "    {\"class\": \"nnReshape\", \"kargs\": {\"shape\":[-1, 1, 2, 256]}},\n",
    "    {\"class\": \"Conv2d\", \"kargs\": { \"in_channels\":1, \"out_channels\":256, \"kernel_size\":(1,7), \"bias\":False, \"padding\":(0,3), },},\n",
    "    {\"class\": \"ReLU\", \"kargs\": {\"inplace\": True}},\n",
    "    {\"class\": \"BatchNorm2d\", \"kargs\": {\"num_features\":256}},\n",
    "\n",
    "    {\"class\": \"Conv2d\", \"kargs\": { \"in_channels\":256, \"out_channels\":80, \"kernel_size\":(2,7), \"bias\":True, \"padding\":(0,3), },},\n",
    "    {\"class\": \"ReLU\", \"kargs\": {\"inplace\": True}},\n",
    "    {\"class\": \"BatchNorm2d\", \"kargs\": {\"num_features\":80}},\n",
    "    {\"class\": \"Flatten\", \"kargs\": {}},\n",
    "\n",
    "    {\"class\": \"Linear\", \"kargs\": {\"in_features\": 80*256, \"out_features\": 256}}, # 80 units per IQ pair\n",
    "    {\"class\": \"ReLU\", \"kargs\": {\"inplace\": True}},\n",
    "    {\"class\": \"BatchNorm1d\", \"kargs\": {\"num_features\":256}},\n",
    "\n",
    "    {\"class\": \"Linear\", \"kargs\": {\"in_features\": 256, \"out_features\": len(standalone_parameters[\"labels\"])}},\n",
    "]\n",
    "\n",
    "standalone_parameters[\"NUM_LOGS_PER_EPOCH\"] = 10\n",
    "standalone_parameters[\"BEST_MODEL_PATH\"] = \"./best_model.pth\""
   ]
  },
  {
   "cell_type": "code",
   "execution_count": 4,
   "id": "1f7a51fd",
   "metadata": {
    "execution": {
     "iopub.execute_input": "2022-03-26T01:44:35.639323Z",
     "iopub.status.busy": "2022-03-26T01:44:35.638426Z",
     "iopub.status.idle": "2022-03-26T01:44:35.641197Z",
     "shell.execute_reply": "2022-03-26T01:44:35.640493Z"
    },
    "papermill": {
     "duration": 0.030909,
     "end_time": "2022-03-26T01:44:35.641348",
     "exception": false,
     "start_time": "2022-03-26T01:44:35.610439",
     "status": "completed"
    },
    "tags": [
     "injected-parameters"
    ]
   },
   "outputs": [],
   "source": [
    "# Parameters\n",
    "parameters = {\n",
    "    \"experiment_name\": \"cnn_1:oracle.run2_limited\",\n",
    "    \"labels\": [\n",
    "        \"3123D52\",\n",
    "        \"3123D65\",\n",
    "        \"3123D79\",\n",
    "        \"3123D80\",\n",
    "        \"3123D54\",\n",
    "        \"3123D70\",\n",
    "        \"3123D7B\",\n",
    "        \"3123D89\",\n",
    "        \"3123D58\",\n",
    "        \"3123D76\",\n",
    "        \"3123D7D\",\n",
    "        \"3123EFE\",\n",
    "        \"3123D64\",\n",
    "        \"3123D78\",\n",
    "        \"3123D7E\",\n",
    "        \"3124E4A\",\n",
    "    ],\n",
    "    \"domains_source\": [8, 32, 50],\n",
    "    \"domains_target\": [14, 20, 26, 38, 44],\n",
    "    \"pickle_name_source\": \"oracle.Run2_10kExamples_stratified_ds.2022A.pkl\",\n",
    "    \"pickle_name_target\": \"oracle.Run2_10kExamples_stratified_ds.2022A.pkl\",\n",
    "    \"device\": \"cuda\",\n",
    "    \"lr\": 0.0001,\n",
    "    \"batch_size\": 128,\n",
    "    \"normalize_source\": False,\n",
    "    \"normalize_target\": False,\n",
    "    \"num_examples_per_domain_per_label_source\": 2000,\n",
    "    \"num_examples_per_domain_per_label_target\": 2000,\n",
    "    \"torch_default_dtype\": \"torch.float32\",\n",
    "    \"n_epoch\": 50,\n",
    "    \"patience\": 3,\n",
    "    \"criteria_for_best\": \"target_accuracy\",\n",
    "    \"x_net\": [\n",
    "        {\"class\": \"nnReshape\", \"kargs\": {\"shape\": [-1, 1, 2, 256]}},\n",
    "        {\n",
    "            \"class\": \"Conv2d\",\n",
    "            \"kargs\": {\n",
    "                \"in_channels\": 1,\n",
    "                \"out_channels\": 256,\n",
    "                \"kernel_size\": [1, 7],\n",
    "                \"bias\": False,\n",
    "                \"padding\": [0, 3],\n",
    "            },\n",
    "        },\n",
    "        {\"class\": \"ReLU\", \"kargs\": {\"inplace\": True}},\n",
    "        {\"class\": \"BatchNorm2d\", \"kargs\": {\"num_features\": 256}},\n",
    "        {\n",
    "            \"class\": \"Conv2d\",\n",
    "            \"kargs\": {\n",
    "                \"in_channels\": 256,\n",
    "                \"out_channels\": 80,\n",
    "                \"kernel_size\": [2, 7],\n",
    "                \"bias\": True,\n",
    "                \"padding\": [0, 3],\n",
    "            },\n",
    "        },\n",
    "        {\"class\": \"ReLU\", \"kargs\": {\"inplace\": True}},\n",
    "        {\"class\": \"BatchNorm2d\", \"kargs\": {\"num_features\": 80}},\n",
    "        {\"class\": \"Flatten\", \"kargs\": {}},\n",
    "        {\"class\": \"Linear\", \"kargs\": {\"in_features\": 20480, \"out_features\": 256}},\n",
    "        {\"class\": \"ReLU\", \"kargs\": {\"inplace\": True}},\n",
    "        {\"class\": \"BatchNorm1d\", \"kargs\": {\"num_features\": 256}},\n",
    "        {\"class\": \"Linear\", \"kargs\": {\"in_features\": 256, \"out_features\": 16}},\n",
    "    ],\n",
    "    \"NUM_LOGS_PER_EPOCH\": 10,\n",
    "    \"BEST_MODEL_PATH\": \"./best_model.pth\",\n",
    "    \"dataset_seed\": 154325,\n",
    "    \"seed\": 154325,\n",
    "}\n"
   ]
  },
  {
   "cell_type": "code",
   "execution_count": 5,
   "id": "759b56ec",
   "metadata": {
    "execution": {
     "iopub.execute_input": "2022-03-26T01:44:35.682713Z",
     "iopub.status.busy": "2022-03-26T01:44:35.682053Z",
     "iopub.status.idle": "2022-03-26T01:44:35.684024Z",
     "shell.execute_reply": "2022-03-26T01:44:35.684700Z"
    },
    "papermill": {
     "duration": 0.026016,
     "end_time": "2022-03-26T01:44:35.684896",
     "exception": false,
     "start_time": "2022-03-26T01:44:35.658880",
     "status": "completed"
    },
    "tags": []
   },
   "outputs": [],
   "source": [
    "# Set this to True if you want to run this template directly\n",
    "STANDALONE = False\n",
    "if STANDALONE:\n",
    "    print(\"parameters not injected, running with standalone_parameters\")\n",
    "    parameters = standalone_parameters\n",
    "\n",
    "if not 'parameters' in locals() and not 'parameters' in globals():\n",
    "    raise Exception(\"Parameter injection failed\")\n",
    "\n",
    "#Use an easy dict for all the parameters\n",
    "p = EasyDict(parameters)\n",
    "\n",
    "supplied_keys = set(p.keys())\n",
    "\n",
    "if  supplied_keys != required_parameters:\n",
    "    print(\"Parameters are incorrect\")\n",
    "    if len(supplied_keys - required_parameters)>0: print(\"Shouldn't have:\", str(supplied_keys - required_parameters))\n",
    "    if len(required_parameters - supplied_keys)>0: print(\"Need to have:\", str(required_parameters - supplied_keys))\n",
    "    raise RuntimeError(\"Parameters are incorrect\")\n",
    "\n"
   ]
  },
  {
   "cell_type": "code",
   "execution_count": 6,
   "id": "d5c66a71",
   "metadata": {
    "execution": {
     "iopub.execute_input": "2022-03-26T01:44:35.724007Z",
     "iopub.status.busy": "2022-03-26T01:44:35.723634Z",
     "iopub.status.idle": "2022-03-26T01:44:35.727482Z",
     "shell.execute_reply": "2022-03-26T01:44:35.727159Z"
    },
    "papermill": {
     "duration": 0.022571,
     "end_time": "2022-03-26T01:44:35.727584",
     "exception": false,
     "start_time": "2022-03-26T01:44:35.705013",
     "status": "completed"
    },
    "tags": []
   },
   "outputs": [],
   "source": [
    "###################################\n",
    "# Set the RNGs and make it all deterministic\n",
    "###################################\n",
    "np.random.seed(p.seed)\n",
    "random.seed(p.seed)\n",
    "torch.manual_seed(p.seed)\n",
    "\n",
    "torch.use_deterministic_algorithms(True) "
   ]
  },
  {
   "cell_type": "code",
   "execution_count": 7,
   "id": "92a65876",
   "metadata": {
    "execution": {
     "iopub.execute_input": "2022-03-26T01:44:35.766280Z",
     "iopub.status.busy": "2022-03-26T01:44:35.765911Z",
     "iopub.status.idle": "2022-03-26T01:44:35.768600Z",
     "shell.execute_reply": "2022-03-26T01:44:35.768228Z"
    },
    "papermill": {
     "duration": 0.020467,
     "end_time": "2022-03-26T01:44:35.768670",
     "exception": false,
     "start_time": "2022-03-26T01:44:35.748203",
     "status": "completed"
    },
    "tags": []
   },
   "outputs": [],
   "source": [
    "torch.set_default_dtype(eval(p.torch_default_dtype))"
   ]
  },
  {
   "cell_type": "code",
   "execution_count": 8,
   "id": "f1a32f01",
   "metadata": {
    "execution": {
     "iopub.execute_input": "2022-03-26T01:44:35.804959Z",
     "iopub.status.busy": "2022-03-26T01:44:35.804467Z",
     "iopub.status.idle": "2022-03-26T01:44:35.845658Z",
     "shell.execute_reply": "2022-03-26T01:44:35.844889Z"
    },
    "papermill": {
     "duration": 0.058828,
     "end_time": "2022-03-26T01:44:35.845834",
     "exception": false,
     "start_time": "2022-03-26T01:44:35.787006",
     "status": "completed"
    },
    "tags": []
   },
   "outputs": [],
   "source": [
    "###################################\n",
    "# Build the network(s)\n",
    "# Note: It's critical to do this AFTER setting the RNG\n",
    "###################################\n",
    "x_net = build_sequential(p.x_net)"
   ]
  },
  {
   "cell_type": "code",
   "execution_count": 9,
   "id": "a276cd83",
   "metadata": {
    "execution": {
     "iopub.execute_input": "2022-03-26T01:44:35.886792Z",
     "iopub.status.busy": "2022-03-26T01:44:35.886422Z",
     "iopub.status.idle": "2022-03-26T01:44:35.889632Z",
     "shell.execute_reply": "2022-03-26T01:44:35.889260Z"
    },
    "papermill": {
     "duration": 0.021539,
     "end_time": "2022-03-26T01:44:35.889702",
     "exception": false,
     "start_time": "2022-03-26T01:44:35.868163",
     "status": "completed"
    },
    "tags": []
   },
   "outputs": [],
   "source": [
    "start_time_secs = time.time()"
   ]
  },
  {
   "cell_type": "code",
   "execution_count": 10,
   "id": "de702e48",
   "metadata": {
    "execution": {
     "iopub.execute_input": "2022-03-26T01:44:35.936029Z",
     "iopub.status.busy": "2022-03-26T01:44:35.935140Z",
     "iopub.status.idle": "2022-03-26T01:44:45.433856Z",
     "shell.execute_reply": "2022-03-26T01:44:45.432982Z"
    },
    "papermill": {
     "duration": 9.525594,
     "end_time": "2022-03-26T01:44:45.434033",
     "exception": false,
     "start_time": "2022-03-26T01:44:35.908439",
     "status": "completed"
    },
    "tags": []
   },
   "outputs": [],
   "source": [
    "def wrap_in_dataloader(p, ds):\n",
    "    return torch.utils.data.DataLoader(\n",
    "        ds,\n",
    "        batch_size=p.batch_size,\n",
    "        shuffle=True,\n",
    "        num_workers=1,\n",
    "        persistent_workers=True,\n",
    "        prefetch_factor=50,\n",
    "        pin_memory=True\n",
    "    )\n",
    "\n",
    "taf_source = Traditional_Accessor_Factory(\n",
    "    labels=p.labels,\n",
    "    domains=p.domains_source,\n",
    "    num_examples_per_domain_per_label=p.num_examples_per_domain_per_label_source,\n",
    "    pickle_path=os.path.join(get_datasets_base_path(), p.pickle_name_source),\n",
    "    seed=p.dataset_seed\n",
    ")\n",
    "train_original_source, val_original_source, test_original_source = \\\n",
    "    taf_source.get_train(), taf_source.get_val(), taf_source.get_test()\n",
    "\n",
    "\n",
    "taf_target = Traditional_Accessor_Factory(\n",
    "    labels=p.labels,\n",
    "    domains=p.domains_target,\n",
    "    num_examples_per_domain_per_label=p.num_examples_per_domain_per_label_source,\n",
    "    pickle_path=os.path.join(get_datasets_base_path(), p.pickle_name_target),\n",
    "    seed=p.dataset_seed\n",
    ")\n",
    "train_original_target, val_original_target, test_original_target = \\\n",
    "    taf_target.get_train(), taf_target.get_val(), taf_target.get_test()\n",
    "\n",
    "\n",
    "# For CNN We only use X and Y. And we only train on the source.\n",
    "# Properly form the data using a transform lambda and Lazy_Map. Finally wrap them in a dataloader\n",
    "\n",
    "transform_lambda = lambda ex: ex[:2] # Strip the tuple to just (x,y)\n",
    "\n",
    "\n",
    "train_processed_source = wrap_in_dataloader(\n",
    "    p,\n",
    "    Lazy_Map(train_original_source, transform_lambda)\n",
    ")\n",
    "val_processed_source = wrap_in_dataloader(\n",
    "    p,\n",
    "    Lazy_Map(val_original_source, transform_lambda)\n",
    ")\n",
    "test_processed_source = wrap_in_dataloader(\n",
    "    p,\n",
    "    Lazy_Map(test_original_source, transform_lambda)\n",
    ")\n",
    "\n",
    "train_processed_target = wrap_in_dataloader(\n",
    "    p,\n",
    "    Lazy_Map(train_original_target, transform_lambda)\n",
    ")\n",
    "val_processed_target = wrap_in_dataloader(\n",
    "    p,\n",
    "    Lazy_Map(val_original_target, transform_lambda)\n",
    ")\n",
    "test_processed_target  = wrap_in_dataloader(\n",
    "    p,\n",
    "    Lazy_Map(test_original_target, transform_lambda)\n",
    ")\n",
    "\n",
    "\n",
    "\n",
    "datasets = EasyDict({\n",
    "    \"source\": {\n",
    "        \"original\": {\"train\":train_original_source, \"val\":val_original_source, \"test\":test_original_source},\n",
    "        \"processed\": {\"train\":train_processed_source, \"val\":val_processed_source, \"test\":test_processed_source}\n",
    "    },\n",
    "    \"target\": {\n",
    "        \"original\": {\"train\":train_original_target, \"val\":val_original_target, \"test\":test_original_target},\n",
    "        \"processed\": {\"train\":train_processed_target, \"val\":val_processed_target, \"test\":test_processed_target}\n",
    "    },\n",
    "})"
   ]
  },
  {
   "cell_type": "code",
   "execution_count": 11,
   "id": "a11b26bd",
   "metadata": {
    "execution": {
     "iopub.execute_input": "2022-03-26T01:44:45.513950Z",
     "iopub.status.busy": "2022-03-26T01:44:45.513095Z",
     "iopub.status.idle": "2022-03-26T01:44:50.575434Z",
     "shell.execute_reply": "2022-03-26T01:44:50.576273Z"
    },
    "papermill": {
     "duration": 5.121987,
     "end_time": "2022-03-26T01:44:50.576493",
     "exception": false,
     "start_time": "2022-03-26T01:44:45.454506",
     "status": "completed"
    },
    "tags": []
   },
   "outputs": [
    {
     "data": {
      "text/plain": [
       "torch.float32"
      ]
     },
     "execution_count": 11,
     "metadata": {},
     "output_type": "execute_result"
    }
   ],
   "source": [
    "ep = next(iter(test_processed_target))\n",
    "ep[0].dtype"
   ]
  },
  {
   "cell_type": "code",
   "execution_count": 12,
   "id": "19425fad",
   "metadata": {
    "execution": {
     "iopub.execute_input": "2022-03-26T01:44:50.633506Z",
     "iopub.status.busy": "2022-03-26T01:44:50.629860Z",
     "iopub.status.idle": "2022-03-26T01:44:50.683450Z",
     "shell.execute_reply": "2022-03-26T01:44:50.682582Z"
    },
    "papermill": {
     "duration": 0.087623,
     "end_time": "2022-03-26T01:44:50.683668",
     "exception": false,
     "start_time": "2022-03-26T01:44:50.596045",
     "status": "completed"
    },
    "tags": []
   },
   "outputs": [],
   "source": [
    "model = Configurable_Vanilla(\n",
    "    x_net=x_net,\n",
    "    label_loss_object=torch.nn.NLLLoss(),\n",
    "    learning_rate=p.lr\n",
    ")"
   ]
  },
  {
   "cell_type": "code",
   "execution_count": 13,
   "id": "7f6d4f2c",
   "metadata": {
    "execution": {
     "iopub.execute_input": "2022-03-26T01:44:50.722146Z",
     "iopub.status.busy": "2022-03-26T01:44:50.721769Z",
     "iopub.status.idle": "2022-03-26T01:45:37.412754Z",
     "shell.execute_reply": "2022-03-26T01:45:37.412040Z"
    },
    "papermill": {
     "duration": 46.70936,
     "end_time": "2022-03-26T01:45:37.412928",
     "exception": false,
     "start_time": "2022-03-26T01:44:50.703568",
     "status": "completed"
    },
    "tags": []
   },
   "outputs": [
    {
     "name": "stdout",
     "output_type": "stream",
     "text": [
      "epoch: 1, [batch: 1 / 525], examples_per_second: 580.2714, train_label_loss: 2.7777, \n"
     ]
    },
    {
     "name": "stdout",
     "output_type": "stream",
     "text": [
      "epoch: 1, [batch: 53 / 525], examples_per_second: 12574.5787, train_label_loss: 2.6530, \n"
     ]
    },
    {
     "name": "stdout",
     "output_type": "stream",
     "text": [
      "epoch: 1, [batch: 105 / 525], examples_per_second: 12612.0945, train_label_loss: 2.5141, \n"
     ]
    },
    {
     "name": "stdout",
     "output_type": "stream",
     "text": [
      "epoch: 1, [batch: 158 / 525], examples_per_second: 12619.4496, train_label_loss: 2.4114, \n"
     ]
    },
    {
     "name": "stdout",
     "output_type": "stream",
     "text": [
      "epoch: 1, [batch: 210 / 525], examples_per_second: 12379.0080, train_label_loss: 2.3457, \n"
     ]
    },
    {
     "name": "stdout",
     "output_type": "stream",
     "text": [
      "epoch: 1, [batch: 263 / 525], examples_per_second: 12545.5601, train_label_loss: 2.3792, \n"
     ]
    },
    {
     "name": "stdout",
     "output_type": "stream",
     "text": [
      "epoch: 1, [batch: 315 / 525], examples_per_second: 12667.1056, train_label_loss: 2.3387, \n"
     ]
    },
    {
     "name": "stdout",
     "output_type": "stream",
     "text": [
      "epoch: 1, [batch: 367 / 525], examples_per_second: 12520.3104, train_label_loss: 2.2707, \n"
     ]
    },
    {
     "name": "stdout",
     "output_type": "stream",
     "text": [
      "epoch: 1, [batch: 420 / 525], examples_per_second: 12535.0814, train_label_loss: 2.2716, \n"
     ]
    },
    {
     "name": "stdout",
     "output_type": "stream",
     "text": [
      "epoch: 1, [batch: 472 / 525], examples_per_second: 12507.9974, train_label_loss: 2.1105, \n"
     ]
    },
    {
     "name": "stdout",
     "output_type": "stream",
     "text": [
      "=============================================================\n",
      "epoch: 1, source_val_acc_label: 0.3111, source_val_label_loss: 2.1439, target_val_acc_label: 0.0495, target_val_label_loss: 4.1847, \n",
      "=============================================================\n"
     ]
    },
    {
     "name": "stdout",
     "output_type": "stream",
     "text": [
      "New best\n",
      "epoch: 2, [batch: 1 / 525], examples_per_second: 112.8412, train_label_loss: 2.0774, \n"
     ]
    },
    {
     "name": "stdout",
     "output_type": "stream",
     "text": [
      "epoch: 2, [batch: 53 / 525], examples_per_second: 12917.0156, train_label_loss: 2.0478, \n"
     ]
    },
    {
     "name": "stdout",
     "output_type": "stream",
     "text": [
      "epoch: 2, [batch: 105 / 525], examples_per_second: 12647.6514, train_label_loss: 2.1152, \n"
     ]
    },
    {
     "name": "stdout",
     "output_type": "stream",
     "text": [
      "epoch: 2, [batch: 158 / 525], examples_per_second: 12487.1618, train_label_loss: 2.0269, \n"
     ]
    },
    {
     "name": "stdout",
     "output_type": "stream",
     "text": [
      "epoch: 2, [batch: 210 / 525], examples_per_second: 12364.2217, train_label_loss: 1.8762, \n"
     ]
    },
    {
     "name": "stdout",
     "output_type": "stream",
     "text": [
      "epoch: 2, [batch: 263 / 525], examples_per_second: 12597.4202, train_label_loss: 1.9861, \n"
     ]
    },
    {
     "name": "stdout",
     "output_type": "stream",
     "text": [
      "epoch: 2, [batch: 315 / 525], examples_per_second: 12416.5404, train_label_loss: 1.7780, \n"
     ]
    },
    {
     "name": "stdout",
     "output_type": "stream",
     "text": [
      "epoch: 2, [batch: 367 / 525], examples_per_second: 12286.8192, train_label_loss: 1.7675, \n"
     ]
    },
    {
     "name": "stdout",
     "output_type": "stream",
     "text": [
      "epoch: 2, [batch: 420 / 525], examples_per_second: 12594.6880, train_label_loss: 1.7290, \n"
     ]
    },
    {
     "name": "stdout",
     "output_type": "stream",
     "text": [
      "epoch: 2, [batch: 472 / 525], examples_per_second: 12674.5415, train_label_loss: 1.6562, \n"
     ]
    },
    {
     "name": "stdout",
     "output_type": "stream",
     "text": [
      "=============================================================\n",
      "epoch: 2, source_val_acc_label: 0.4535, source_val_label_loss: 1.6530, target_val_acc_label: 0.0680, target_val_label_loss: 5.6213, \n",
      "=============================================================\n"
     ]
    },
    {
     "name": "stdout",
     "output_type": "stream",
     "text": [
      "New best\n",
      "epoch: 3, [batch: 1 / 525], examples_per_second: 145.9165, train_label_loss: 1.5904, \n"
     ]
    },
    {
     "name": "stdout",
     "output_type": "stream",
     "text": [
      "epoch: 3, [batch: 53 / 525], examples_per_second: 12624.5621, train_label_loss: 1.5379, \n"
     ]
    },
    {
     "name": "stdout",
     "output_type": "stream",
     "text": [
      "epoch: 3, [batch: 105 / 525], examples_per_second: 12456.6073, train_label_loss: 1.6030, \n"
     ]
    },
    {
     "name": "stdout",
     "output_type": "stream",
     "text": [
      "epoch: 3, [batch: 158 / 525], examples_per_second: 12556.2171, train_label_loss: 1.5232, \n"
     ]
    },
    {
     "name": "stdout",
     "output_type": "stream",
     "text": [
      "epoch: 3, [batch: 210 / 525], examples_per_second: 12695.0946, train_label_loss: 1.4105, \n"
     ]
    },
    {
     "name": "stdout",
     "output_type": "stream",
     "text": [
      "epoch: 3, [batch: 263 / 525], examples_per_second: 12593.9354, train_label_loss: 1.4540, \n"
     ]
    },
    {
     "name": "stdout",
     "output_type": "stream",
     "text": [
      "epoch: 3, [batch: 315 / 525], examples_per_second: 12671.7743, train_label_loss: 1.3791, \n"
     ]
    },
    {
     "name": "stdout",
     "output_type": "stream",
     "text": [
      "epoch: 3, [batch: 367 / 525], examples_per_second: 12670.3653, train_label_loss: 1.4940, \n"
     ]
    },
    {
     "name": "stdout",
     "output_type": "stream",
     "text": [
      "epoch: 3, [batch: 420 / 525], examples_per_second: 12610.1268, train_label_loss: 1.4767, \n"
     ]
    },
    {
     "name": "stdout",
     "output_type": "stream",
     "text": [
      "epoch: 3, [batch: 472 / 525], examples_per_second: 12515.9995, train_label_loss: 1.2646, \n"
     ]
    },
    {
     "name": "stdout",
     "output_type": "stream",
     "text": [
      "=============================================================\n",
      "epoch: 3, source_val_acc_label: 0.5677, source_val_label_loss: 1.3085, target_val_acc_label: 0.0833, target_val_label_loss: 7.4069, \n",
      "=============================================================\n"
     ]
    },
    {
     "name": "stdout",
     "output_type": "stream",
     "text": [
      "New best\n",
      "epoch: 4, [batch: 1 / 525], examples_per_second: 144.4683, train_label_loss: 1.1079, \n"
     ]
    },
    {
     "name": "stdout",
     "output_type": "stream",
     "text": [
      "epoch: 4, [batch: 53 / 525], examples_per_second: 12387.2416, train_label_loss: 1.2383, \n"
     ]
    },
    {
     "name": "stdout",
     "output_type": "stream",
     "text": [
      "epoch: 4, [batch: 105 / 525], examples_per_second: 12623.3347, train_label_loss: 1.2747, \n"
     ]
    },
    {
     "name": "stdout",
     "output_type": "stream",
     "text": [
      "epoch: 4, [batch: 158 / 525], examples_per_second: 12485.2879, train_label_loss: 1.4328, \n"
     ]
    },
    {
     "name": "stdout",
     "output_type": "stream",
     "text": [
      "epoch: 4, [batch: 210 / 525], examples_per_second: 12703.6154, train_label_loss: 1.1384, \n"
     ]
    },
    {
     "name": "stdout",
     "output_type": "stream",
     "text": [
      "epoch: 4, [batch: 263 / 525], examples_per_second: 12494.8550, train_label_loss: 1.1180, \n"
     ]
    },
    {
     "name": "stdout",
     "output_type": "stream",
     "text": [
      "epoch: 4, [batch: 315 / 525], examples_per_second: 12623.3404, train_label_loss: 1.1117, \n"
     ]
    },
    {
     "name": "stdout",
     "output_type": "stream",
     "text": [
      "epoch: 4, [batch: 367 / 525], examples_per_second: 12435.2121, train_label_loss: 1.1523, \n"
     ]
    },
    {
     "name": "stdout",
     "output_type": "stream",
     "text": [
      "epoch: 4, [batch: 420 / 525], examples_per_second: 12618.3024, train_label_loss: 1.0617, \n"
     ]
    },
    {
     "name": "stdout",
     "output_type": "stream",
     "text": [
      "epoch: 4, [batch: 472 / 525], examples_per_second: 12547.9188, train_label_loss: 1.1106, \n"
     ]
    },
    {
     "name": "stdout",
     "output_type": "stream",
     "text": [
      "=============================================================\n",
      "epoch: 4, source_val_acc_label: 0.5323, source_val_label_loss: 1.2935, target_val_acc_label: 0.0691, target_val_label_loss: 8.3394, \n",
      "=============================================================\n"
     ]
    },
    {
     "name": "stdout",
     "output_type": "stream",
     "text": [
      "epoch: 5, [batch: 1 / 525], examples_per_second: 145.2866, train_label_loss: 0.9510, \n"
     ]
    },
    {
     "name": "stdout",
     "output_type": "stream",
     "text": [
      "epoch: 5, [batch: 53 / 525], examples_per_second: 12655.8103, train_label_loss: 0.9434, \n"
     ]
    },
    {
     "name": "stdout",
     "output_type": "stream",
     "text": [
      "epoch: 5, [batch: 105 / 525], examples_per_second: 12662.2738, train_label_loss: 1.1096, \n"
     ]
    },
    {
     "name": "stdout",
     "output_type": "stream",
     "text": [
      "epoch: 5, [batch: 158 / 525], examples_per_second: 12609.3500, train_label_loss: 0.8542, \n"
     ]
    },
    {
     "name": "stdout",
     "output_type": "stream",
     "text": [
      "epoch: 5, [batch: 210 / 525], examples_per_second: 12609.0527, train_label_loss: 0.8274, \n"
     ]
    },
    {
     "name": "stdout",
     "output_type": "stream",
     "text": [
      "epoch: 5, [batch: 263 / 525], examples_per_second: 12507.3608, train_label_loss: 0.9159, \n"
     ]
    },
    {
     "name": "stdout",
     "output_type": "stream",
     "text": [
      "epoch: 5, [batch: 315 / 525], examples_per_second: 12592.1840, train_label_loss: 0.8818, \n"
     ]
    },
    {
     "name": "stdout",
     "output_type": "stream",
     "text": [
      "epoch: 5, [batch: 367 / 525], examples_per_second: 12628.7481, train_label_loss: 0.7415, \n"
     ]
    },
    {
     "name": "stdout",
     "output_type": "stream",
     "text": [
      "epoch: 5, [batch: 420 / 525], examples_per_second: 12550.7673, train_label_loss: 0.7873, \n"
     ]
    },
    {
     "name": "stdout",
     "output_type": "stream",
     "text": [
      "epoch: 5, [batch: 472 / 525], examples_per_second: 12538.6481, train_label_loss: 0.7964, \n"
     ]
    },
    {
     "name": "stdout",
     "output_type": "stream",
     "text": [
      "=============================================================\n",
      "epoch: 5, source_val_acc_label: 0.6399, source_val_label_loss: 1.0506, target_val_acc_label: 0.0584, target_val_label_loss: 9.0952, \n",
      "=============================================================\n"
     ]
    },
    {
     "name": "stdout",
     "output_type": "stream",
     "text": [
      "epoch: 6, [batch: 1 / 525], examples_per_second: 152.3786, train_label_loss: 0.6044, \n"
     ]
    },
    {
     "name": "stdout",
     "output_type": "stream",
     "text": [
      "epoch: 6, [batch: 53 / 525], examples_per_second: 12322.7766, train_label_loss: 0.7349, \n"
     ]
    },
    {
     "name": "stdout",
     "output_type": "stream",
     "text": [
      "epoch: 6, [batch: 105 / 525], examples_per_second: 12459.3036, train_label_loss: 0.7646, \n"
     ]
    },
    {
     "name": "stdout",
     "output_type": "stream",
     "text": [
      "epoch: 6, [batch: 158 / 525], examples_per_second: 12444.4818, train_label_loss: 0.7443, \n"
     ]
    },
    {
     "name": "stdout",
     "output_type": "stream",
     "text": [
      "epoch: 6, [batch: 210 / 525], examples_per_second: 12434.2705, train_label_loss: 0.9424, \n"
     ]
    },
    {
     "name": "stdout",
     "output_type": "stream",
     "text": [
      "epoch: 6, [batch: 263 / 525], examples_per_second: 12550.8836, train_label_loss: 0.8263, \n"
     ]
    },
    {
     "name": "stdout",
     "output_type": "stream",
     "text": [
      "epoch: 6, [batch: 315 / 525], examples_per_second: 12665.1633, train_label_loss: 0.7101, \n"
     ]
    },
    {
     "name": "stdout",
     "output_type": "stream",
     "text": [
      "epoch: 6, [batch: 367 / 525], examples_per_second: 12643.6246, train_label_loss: 0.7801, \n"
     ]
    },
    {
     "name": "stdout",
     "output_type": "stream",
     "text": [
      "epoch: 6, [batch: 420 / 525], examples_per_second: 12355.0645, train_label_loss: 0.6668, \n"
     ]
    },
    {
     "name": "stdout",
     "output_type": "stream",
     "text": [
      "epoch: 6, [batch: 472 / 525], examples_per_second: 12588.2378, train_label_loss: 0.7015, \n"
     ]
    },
    {
     "name": "stdout",
     "output_type": "stream",
     "text": [
      "=============================================================\n",
      "epoch: 6, source_val_acc_label: 0.6678, source_val_label_loss: 0.9291, target_val_acc_label: 0.0741, target_val_label_loss: 10.8100, \n",
      "=============================================================\n"
     ]
    },
    {
     "name": "stdout",
     "output_type": "stream",
     "text": [
      "epoch: 7, [batch: 1 / 525], examples_per_second: 149.0478, train_label_loss: 0.6005, \n"
     ]
    },
    {
     "name": "stdout",
     "output_type": "stream",
     "text": [
      "epoch: 7, [batch: 53 / 525], examples_per_second: 12232.7281, train_label_loss: 0.5151, \n"
     ]
    },
    {
     "name": "stdout",
     "output_type": "stream",
     "text": [
      "epoch: 7, [batch: 105 / 525], examples_per_second: 12481.0999, train_label_loss: 0.6173, \n"
     ]
    },
    {
     "name": "stdout",
     "output_type": "stream",
     "text": [
      "epoch: 7, [batch: 158 / 525], examples_per_second: 12617.8771, train_label_loss: 0.5703, \n"
     ]
    },
    {
     "name": "stdout",
     "output_type": "stream",
     "text": [
      "epoch: 7, [batch: 210 / 525], examples_per_second: 12477.2063, train_label_loss: 0.6021, \n"
     ]
    },
    {
     "name": "stdout",
     "output_type": "stream",
     "text": [
      "epoch: 7, [batch: 263 / 525], examples_per_second: 12479.4233, train_label_loss: 0.5942, \n"
     ]
    },
    {
     "name": "stdout",
     "output_type": "stream",
     "text": [
      "epoch: 7, [batch: 315 / 525], examples_per_second: 12627.0517, train_label_loss: 0.7572, \n"
     ]
    },
    {
     "name": "stdout",
     "output_type": "stream",
     "text": [
      "epoch: 7, [batch: 367 / 525], examples_per_second: 12644.3060, train_label_loss: 0.5734, \n"
     ]
    },
    {
     "name": "stdout",
     "output_type": "stream",
     "text": [
      "epoch: 7, [batch: 420 / 525], examples_per_second: 12668.1381, train_label_loss: 0.5319, \n"
     ]
    },
    {
     "name": "stdout",
     "output_type": "stream",
     "text": [
      "epoch: 7, [batch: 472 / 525], examples_per_second: 12686.7697, train_label_loss: 0.5145, \n"
     ]
    },
    {
     "name": "stdout",
     "output_type": "stream",
     "text": [
      "=============================================================\n",
      "epoch: 7, source_val_acc_label: 0.5611, source_val_label_loss: 1.2155, target_val_acc_label: 0.0573, target_val_label_loss: 12.1583, \n",
      "=============================================================\n"
     ]
    },
    {
     "name": "stdout",
     "output_type": "stream",
     "text": [
      "Patience (3) exhausted\n"
     ]
    }
   ],
   "source": [
    "jig = Vanilla_Train_Eval_Test_Jig(\n",
    "    model=model,\n",
    "    path_to_best_model=p.BEST_MODEL_PATH,\n",
    "    device=p.device,\n",
    "    label_loss_object=torch.nn.NLLLoss(),\n",
    ")\n",
    "\n",
    "jig.train(\n",
    "    train_iterable=datasets.source.processed.train,\n",
    "    source_val_iterable=datasets.source.processed.val,\n",
    "    target_val_iterable=datasets.target.processed.val,\n",
    "    patience=p.patience,\n",
    "    num_epochs=p.n_epoch,\n",
    "    num_logs_per_epoch=p.NUM_LOGS_PER_EPOCH,\n",
    "    criteria_for_best=p.criteria_for_best\n",
    ")"
   ]
  },
  {
   "cell_type": "code",
   "execution_count": 14,
   "id": "4bc2ac17",
   "metadata": {
    "execution": {
     "iopub.execute_input": "2022-03-26T01:45:37.493678Z",
     "iopub.status.busy": "2022-03-26T01:45:37.493115Z",
     "iopub.status.idle": "2022-03-26T01:45:37.495632Z",
     "shell.execute_reply": "2022-03-26T01:45:37.496134Z"
    },
    "papermill": {
     "duration": 0.043841,
     "end_time": "2022-03-26T01:45:37.496274",
     "exception": false,
     "start_time": "2022-03-26T01:45:37.452433",
     "status": "completed"
    },
    "tags": []
   },
   "outputs": [],
   "source": [
    "total_experiment_time_secs = time.time() - start_time_secs"
   ]
  },
  {
   "cell_type": "code",
   "execution_count": 15,
   "id": "cae88f23",
   "metadata": {
    "execution": {
     "iopub.execute_input": "2022-03-26T01:45:37.583993Z",
     "iopub.status.busy": "2022-03-26T01:45:37.580502Z",
     "iopub.status.idle": "2022-03-26T01:45:48.516022Z",
     "shell.execute_reply": "2022-03-26T01:45:48.515220Z"
    },
    "papermill": {
     "duration": 10.978366,
     "end_time": "2022-03-26T01:45:48.516219",
     "exception": false,
     "start_time": "2022-03-26T01:45:37.537853",
     "status": "completed"
    },
    "tags": []
   },
   "outputs": [],
   "source": [
    "source_test_label_accuracy, source_test_label_loss = jig.test(datasets.source.processed.test)\n",
    "target_test_label_accuracy, target_test_label_loss = jig.test(datasets.target.processed.test)\n",
    "\n",
    "source_val_label_accuracy, source_val_label_loss = jig.test(datasets.source.processed.val)\n",
    "target_val_label_accuracy, target_val_label_loss = jig.test(datasets.target.processed.val)\n",
    "\n",
    "history = jig.get_history()\n",
    "\n",
    "total_epochs_trained = len(history[\"epoch_indices\"])\n",
    "\n",
    "val_dl = wrap_in_dataloader(p, Sequence_Aggregator((datasets.source.original.val, datasets.target.original.val)))\n",
    "\n",
    "confusion = confusion_by_domain_over_dataloader(model, p.device, val_dl, forward_uses_domain=False)\n",
    "per_domain_accuracy = per_domain_accuracy_from_confusion(confusion)\n",
    "\n",
    "# Add a key to per_domain_accuracy for if it was a source domain\n",
    "for domain, accuracy in per_domain_accuracy.items():\n",
    "    per_domain_accuracy[domain] = {\n",
    "        \"accuracy\": accuracy,\n",
    "        \"source?\": domain in p.domains_source\n",
    "    }\n",
    "\n",
    "# Do an independent accuracy assesment JUST TO BE SURE!\n",
    "# _source_test_label_accuracy = independent_accuracy_assesment(model, datasets.source.processed.test, p.device)\n",
    "# _target_test_label_accuracy = independent_accuracy_assesment(model, datasets.target.processed.test, p.device)\n",
    "# _source_val_label_accuracy = independent_accuracy_assesment(model, datasets.source.processed.val, p.device)\n",
    "# _target_val_label_accuracy = independent_accuracy_assesment(model, datasets.target.processed.val, p.device)\n",
    "\n",
    "# assert(_source_test_label_accuracy == source_test_label_accuracy)\n",
    "# assert(_target_test_label_accuracy == target_test_label_accuracy)\n",
    "# assert(_source_val_label_accuracy == source_val_label_accuracy)\n",
    "# assert(_target_val_label_accuracy == target_val_label_accuracy)\n",
    "\n",
    "###################################\n",
    "# Write out the results\n",
    "###################################\n",
    "\n",
    "experiment = {\n",
    "    \"experiment_name\": p.experiment_name,\n",
    "    \"parameters\": p,\n",
    "    \"results\": {\n",
    "        \"source_test_label_accuracy\": source_test_label_accuracy,\n",
    "        \"source_test_label_loss\": source_test_label_loss,\n",
    "        \"target_test_label_accuracy\": target_test_label_accuracy,\n",
    "        \"target_test_label_loss\": target_test_label_loss,\n",
    "        \"source_val_label_accuracy\": source_val_label_accuracy,\n",
    "        \"source_val_label_loss\": source_val_label_loss,\n",
    "        \"target_val_label_accuracy\": target_val_label_accuracy,\n",
    "        \"target_val_label_loss\": target_val_label_loss,\n",
    "        \"total_epochs_trained\": total_epochs_trained,\n",
    "        \"total_experiment_time_secs\": total_experiment_time_secs,\n",
    "        \"confusion\": confusion,\n",
    "        \"per_domain_accuracy\": per_domain_accuracy,\n",
    "    },\n",
    "    \"history\": history,\n",
    "    \"dataset_metrics\": get_dataset_metrics(datasets, \"cnn\"),\n",
    "}"
   ]
  },
  {
   "cell_type": "code",
   "execution_count": 16,
   "id": "74c318cf",
   "metadata": {
    "execution": {
     "iopub.execute_input": "2022-03-26T01:45:48.616374Z",
     "iopub.status.busy": "2022-03-26T01:45:48.608023Z",
     "iopub.status.idle": "2022-03-26T01:45:48.806238Z",
     "shell.execute_reply": "2022-03-26T01:45:48.806916Z"
    },
    "papermill": {
     "duration": 0.24815,
     "end_time": "2022-03-26T01:45:48.807103",
     "exception": false,
     "start_time": "2022-03-26T01:45:48.558953",
     "status": "completed"
    },
    "tags": []
   },
   "outputs": [
    {
     "data": {
      "text/plain": [
       "<AxesSubplot:title={'center':'Source Train Label Loss vs Source Val Label Loss'}, xlabel='Epoch'>"
      ]
     },
     "execution_count": 16,
     "metadata": {},
     "output_type": "execute_result"
    },
    {
     "data": {
      "image/png": "[encoded data removed]",
      "text/plain": [
       "<Figure size 1080x504 with 1 Axes>"
      ]
     },
     "metadata": {
      "needs_background": "light"
     },
     "output_type": "display_data"
    }
   ],
   "source": [
    "get_loss_curve(experiment)"
   ]
  },
  {
   "cell_type": "code",
   "execution_count": 17,
   "id": "59376601",
   "metadata": {
    "execution": {
     "iopub.execute_input": "2022-03-26T01:45:48.903991Z",
     "iopub.status.busy": "2022-03-26T01:45:48.889093Z",
     "iopub.status.idle": "2022-03-26T01:45:49.152384Z",
     "shell.execute_reply": "2022-03-26T01:45:49.152691Z"
    },
    "papermill": {
     "duration": 0.304379,
     "end_time": "2022-03-26T01:45:49.152776",
     "exception": false,
     "start_time": "2022-03-26T01:45:48.848397",
     "status": "completed"
    },
    "tags": []
   },
   "outputs": [
    {
     "data": {
      "text/plain": [
       "<AxesSubplot:title={'center':'Results'}>"
      ]
     },
     "execution_count": 17,
     "metadata": {},
     "output_type": "execute_result"
    },
    {
     "data": {
      "image/png": "[encoded data removed]",
      "text/plain": [
       "<Figure size 1080x504 with 1 Axes>"
      ]
     },
     "metadata": {
      "needs_background": "light"
     },
     "output_type": "display_data"
    }
   ],
   "source": [
    "get_results_table(experiment)"
   ]
  },
  {
   "cell_type": "code",
   "execution_count": 18,
   "id": "e80c5c98",
   "metadata": {
    "execution": {
     "iopub.execute_input": "2022-03-26T01:45:49.247027Z",
     "iopub.status.busy": "2022-03-26T01:45:49.246371Z",
     "iopub.status.idle": "2022-03-26T01:45:49.410583Z",
     "shell.execute_reply": "2022-03-26T01:45:49.410884Z"
    },
    "papermill": {
     "duration": 0.220201,
     "end_time": "2022-03-26T01:45:49.410966",
     "exception": false,
     "start_time": "2022-03-26T01:45:49.190765",
     "status": "completed"
    },
    "tags": []
   },
   "outputs": [
    {
     "data": {
      "text/plain": [
       "<AxesSubplot:title={'center':'Per Domain Accuracy'}, xlabel='domain'>"
      ]
     },
     "execution_count": 18,
     "metadata": {},
     "output_type": "execute_result"
    },
    {
     "data": {
      "image/png": "[encoded data removed]",
      "text/plain": [
       "<Figure size 1080x504 with 1 Axes>"
      ]
     },
     "metadata": {
      "needs_background": "light"
     },
     "output_type": "display_data"
    }
   ],
   "source": [
    "get_domain_accuracies(experiment)"
   ]
  },
  {
   "cell_type": "code",
   "execution_count": 19,
   "id": "086fdd10",
   "metadata": {
    "execution": {
     "iopub.execute_input": "2022-03-26T01:45:49.492909Z",
     "iopub.status.busy": "2022-03-26T01:45:49.492541Z",
     "iopub.status.idle": "2022-03-26T01:45:49.496520Z",
     "shell.execute_reply": "2022-03-26T01:45:49.496822Z"
    },
    "papermill": {
     "duration": 0.047932,
     "end_time": "2022-03-26T01:45:49.496904",
     "exception": false,
     "start_time": "2022-03-26T01:45:49.448972",
     "status": "completed"
    },
    "tags": []
   },
   "outputs": [
    {
     "name": "stdout",
     "output_type": "stream",
     "text": [
      "Source Test Label Accuracy: 0.5695138888888889 Target Test Label Accuracy: 0.08495833333333333\n",
      "Source Val Label Accuracy: 0.5677083333333334 Target Val Label Accuracy: 0.08333333333333333\n"
     ]
    }
   ],
   "source": [
    "print(\"Source Test Label Accuracy:\", experiment[\"results\"][\"source_test_label_accuracy\"], \"Target Test Label Accuracy:\", experiment[\"results\"][\"target_test_label_accuracy\"])\n",
    "print(\"Source Val Label Accuracy:\", experiment[\"results\"][\"source_val_label_accuracy\"], \"Target Val Label Accuracy:\", experiment[\"results\"][\"target_val_label_accuracy\"])"
   ]
  },
  {
   "cell_type": "code",
   "execution_count": 20,
   "id": "9f450536",
   "metadata": {
    "execution": {
     "iopub.execute_input": "2022-03-26T01:45:49.580731Z",
     "iopub.status.busy": "2022-03-26T01:45:49.580372Z",
     "iopub.status.idle": "2022-03-26T01:45:49.584263Z",
     "shell.execute_reply": "2022-03-26T01:45:49.584563Z"
    },
    "papermill": {
     "duration": 0.048565,
     "end_time": "2022-03-26T01:45:49.584643",
     "exception": false,
     "start_time": "2022-03-26T01:45:49.536078",
     "status": "completed"
    },
    "tags": [
     "experiment_json"
    ]
   },
   "outputs": [
    {
     "data": {
      "text/plain": [
       "'{\"experiment_name\": \"cnn_1:oracle.run2_limited\", \"parameters\": {\"experiment_name\": \"cnn_1:oracle.run2_limited\", \"labels\": [\"3123D52\", \"3123D65\", \"3123D79\", \"3123D80\", \"3123D54\", \"3123D70\", \"3123D7B\", \"3123D89\", \"3123D58\", \"3123D76\", \"3123D7D\", \"3123EFE\", \"3123D64\", \"3123D78\", \"3123D7E\", \"3124E4A\"], \"domains_source\": [8, 32, 50], \"domains_target\": [14, 20, 26, 38, 44], \"pickle_name_source\": \"oracle.Run2_10kExamples_stratified_ds.2022A.pkl\", \"pickle_name_target\": \"oracle.Run2_10kExamples_stratified_ds.2022A.pkl\", \"device\": \"cuda\", \"lr\": 0.0001, \"batch_size\": 128, \"normalize_source\": false, \"normalize_target\": false, \"num_examples_per_domain_per_label_source\": 2000, \"num_examples_per_domain_per_label_target\": 2000, \"torch_default_dtype\": \"torch.float32\", \"n_epoch\": 50, \"patience\": 3, \"criteria_for_best\": \"target_accuracy\", \"x_net\": [{\"class\": \"nnReshape\", \"kargs\": {\"shape\": [-1, 1, 2, 256]}}, {\"class\": \"Conv2d\", \"kargs\": {\"in_channels\": 1, \"out_channels\": 256, \"kernel_size\": [1, 7], \"bias\": false, \"padding\": [0, 3]}}, {\"class\": \"ReLU\", \"kargs\": {\"inplace\": true}}, {\"class\": \"BatchNorm2d\", \"kargs\": {\"num_features\": 256}}, {\"class\": \"Conv2d\", \"kargs\": {\"in_channels\": 256, \"out_channels\": 80, \"kernel_size\": [2, 7], \"bias\": true, \"padding\": [0, 3]}}, {\"class\": \"ReLU\", \"kargs\": {\"inplace\": true}}, {\"class\": \"BatchNorm2d\", \"kargs\": {\"num_features\": 80}}, {\"class\": \"Flatten\", \"kargs\": {}}, {\"class\": \"Linear\", \"kargs\": {\"in_features\": 20480, \"out_features\": 256}}, {\"class\": \"ReLU\", \"kargs\": {\"inplace\": true}}, {\"class\": \"BatchNorm1d\", \"kargs\": {\"num_features\": 256}}, {\"class\": \"Linear\", \"kargs\": {\"in_features\": 256, \"out_features\": 16}}], \"NUM_LOGS_PER_EPOCH\": 10, \"BEST_MODEL_PATH\": \"./best_model.pth\", \"dataset_seed\": 154325, \"seed\": 154325}, \"results\": {\"source_test_label_accuracy\": 0.5695138888888889, \"source_test_label_loss\": 1.304602750634725, \"target_test_label_accuracy\": 0.08495833333333333, \"target_test_label_loss\": 7.409903574497141, \"source_val_label_accuracy\": 0.5677083333333334, \"source_val_label_loss\": 1.3086212841810378, \"target_val_label_accuracy\": 0.08333333333333333, \"target_val_label_loss\": 7.403921606692862, \"total_epochs_trained\": 7, \"total_experiment_time_secs\": 61.60616898536682, \"confusion\": {\"50\": {\"6\": {\"5\": 197, \"7\": 91, \"4\": 9, \"15\": 1, \"12\": 2}, \"5\": {\"7\": 293, \"5\": 7}, \"3\": {\"3\": 299, \"7\": 1}, \"7\": {\"7\": 300}, \"2\": {\"2\": 233, \"0\": 63, \"10\": 4}, \"10\": {\"10\": 113, \"1\": 138, \"13\": 23, \"0\": 23, \"8\": 3}, \"4\": {\"7\": 298, \"5\": 2}, \"11\": {\"2\": 7, \"5\": 189, \"11\": 37, \"12\": 24, \"15\": 41, \"9\": 2}, \"14\": {\"14\": 205, \"2\": 87, \"13\": 4, \"0\": 3, \"12\": 1}, \"1\": {\"13\": 91, \"11\": 19, \"1\": 146, \"8\": 27, \"2\": 14, \"5\": 3}, \"8\": {\"8\": 244, \"1\": 40, \"13\": 16}, \"12\": {\"9\": 38, \"12\": 252, \"5\": 10}, \"0\": {\"0\": 194, \"10\": 43, \"2\": 61, \"1\": 2}, \"15\": {\"5\": 203, \"15\": 18, \"7\": 72, \"9\": 2, \"12\": 1, \"4\": 4}, \"9\": {\"5\": 73, \"9\": 212, \"12\": 11, \"15\": 3, \"7\": 1}, \"13\": {\"13\": 242, \"1\": 49, \"8\": 8, \"5\": 1}}, \"44\": {\"8\": {\"12\": 195, \"7\": 53, \"5\": 52}, \"4\": {\"7\": 90, \"5\": 188, \"15\": 5, \"9\": 17}, \"7\": {\"15\": 221, \"5\": 57, \"9\": 19, \"7\": 3}, \"15\": {\"12\": 193, \"5\": 104, \"9\": 1, \"2\": 1, \"11\": 1}, \"1\": {\"15\": 105, \"7\": 51, \"5\": 132, \"9\": 6, \"12\": 3, \"8\": 2, \"11\": 1}, \"12\": {\"8\": 112, \"11\": 64, \"4\": 55, \"7\": 56, \"3\": 8, \"15\": 4, \"2\": 1}, \"13\": {\"7\": 293, \"15\": 6, \"5\": 1}, \"9\": {\"15\": 201, \"5\": 78, \"9\": 16, \"7\": 5}, \"10\": {\"15\": 214, \"9\": 80, \"5\": 4, \"7\": 2}, \"14\": {\"7\": 165, \"5\": 124, \"12\": 6, \"9\": 5}, \"5\": {\"7\": 65, \"5\": 230, \"4\": 1, \"12\": 3, \"3\": 1}, \"3\": {\"8\": 63, \"2\": 34, \"7\": 105, \"11\": 89, \"4\": 4, \"14\": 3, \"15\": 2}, \"2\": {\"15\": 254, \"5\": 43, \"7\": 1, \"11\": 1, \"8\": 1}, \"0\": {\"12\": 231, \"7\": 18, \"2\": 8, \"5\": 32, \"8\": 8, \"1\": 3}, \"6\": {\"15\": 209, \"7\": 88, \"5\": 3}, \"11\": {\"7\": 300}}, \"38\": {\"7\": {\"7\": 298, \"15\": 2}, \"15\": {\"13\": 80, \"1\": 105, \"2\": 34, \"11\": 4, \"10\": 35, \"14\": 6, \"15\": 1, \"5\": 1, \"0\": 25, \"8\": 9}, \"1\": {\"1\": 68, \"0\": 23, \"8\": 32, \"2\": 167, \"14\": 9, \"13\": 1}, \"9\": {\"9\": 74, \"5\": 91, \"12\": 134, \"7\": 1}, \"6\": {\"2\": 194, \"14\": 58, \"13\": 11, \"0\": 33, \"8\": 1, \"1\": 3}, \"3\": {\"7\": 300}, \"4\": {\"7\": 299, \"15\": 1}, \"12\": {\"15\": 198, \"3\": 77, \"4\": 12, \"5\": 8, \"13\": 4, \"7\": 1}, \"8\": {\"5\": 127, \"7\": 168, \"12\": 3, \"4\": 1, \"15\": 1}, \"0\": {\"5\": 108, \"7\": 158, \"15\": 30, \"9\": 4}, \"10\": {\"7\": 300}, \"13\": {\"7\": 300}, \"14\": {\"7\": 242, \"3\": 52, \"4\": 3, \"5\": 3}, \"5\": {\"5\": 194, \"7\": 67, \"15\": 13, \"4\": 9, \"12\": 8, \"11\": 3, \"13\": 4, \"1\": 1, \"3\": 1}, \"2\": {\"3\": 71, \"7\": 228, \"5\": 1}, \"11\": {\"7\": 300}}, \"14\": {\"12\": {\"6\": 34, \"2\": 51, \"3\": 75, \"9\": 77, \"12\": 20, \"7\": 27, \"15\": 7, \"11\": 2, \"13\": 3, \"10\": 2, \"0\": 1, \"8\": 1}, \"6\": {\"3\": 300}, \"0\": {\"3\": 298, \"9\": 1, \"12\": 1}, \"1\": {\"2\": 8, \"3\": 292}, \"10\": {\"3\": 298, \"15\": 2}, \"14\": {\"3\": 300}, \"5\": {\"3\": 300}, \"13\": {\"3\": 300}, \"8\": {\"3\": 271, \"9\": 29}, \"9\": {\"2\": 230, \"3\": 65, \"9\": 5}, \"2\": {\"3\": 300}, \"11\": {\"13\": 27, \"7\": 226, \"11\": 35, \"2\": 8, \"4\": 2, \"10\": 1, \"6\": 1}, \"3\": {\"3\": 300}, \"15\": {\"3\": 300}, \"7\": {\"3\": 300}, \"4\": {\"3\": 300}}, \"26\": {\"7\": {\"3\": 300}, \"9\": {\"3\": 300}, \"5\": {\"3\": 240, \"12\": 43, \"6\": 12, \"9\": 5}, \"11\": {\"6\": 271, \"12\": 24, \"9\": 3, \"10\": 2}, \"10\": {\"3\": 298, \"12\": 2}, \"8\": {\"3\": 300}, \"6\": {\"12\": 74, \"3\": 222, \"6\": 3, \"9\": 1}, \"13\": {\"3\": 293, \"9\": 6, \"6\": 1}, \"12\": {\"12\": 164, \"6\": 22, \"3\": 111, \"9\": 3}, \"3\": {\"3\": 300}, \"2\": {\"3\": 300}, \"1\": {\"3\": 287, \"12\": 13}, \"0\": {\"3\": 300}, \"15\": {\"3\": 300}, \"4\": {\"3\": 300}, \"14\": {\"3\": 298, \"12\": 2}}, \"32\": {\"15\": {\"15\": 298, \"5\": 2}, \"8\": {\"8\": 177, \"11\": 26, \"15\": 51, \"5\": 5, \"7\": 22, \"2\": 16, \"4\": 1, \"0\": 2}, \"7\": {\"7\": 199, \"2\": 48, \"12\": 22, \"5\": 13, \"8\": 4, \"11\": 13, \"9\": 1}, \"3\": {\"3\": 208, \"4\": 32, \"13\": 30, \"11\": 28, \"8\": 2}, \"4\": {\"11\": 161, \"13\": 53, \"8\": 19, \"2\": 16, \"7\": 2, \"14\": 32, \"0\": 2, \"4\": 12, \"3\": 3}, \"1\": {\"1\": 297, \"8\": 3}, \"11\": {\"11\": 149, \"3\": 26, \"14\": 71, \"7\": 11, \"2\": 14, \"13\": 23, \"4\": 3, \"8\": 3}, \"6\": {\"6\": 297, \"9\": 2, \"12\": 1}, \"0\": {\"11\": 64, \"2\": 117, \"12\": 3, \"8\": 64, \"14\": 18, \"7\": 27, \"0\": 2, \"4\": 1, \"13\": 1, \"15\": 1, \"5\": 2}, \"10\": {\"10\": 299, \"6\": 1}, \"5\": {\"5\": 160, \"15\": 22, \"9\": 72, \"12\": 42, \"7\": 4}, \"9\": {\"2\": 150, \"14\": 87, \"0\": 52, \"12\": 5, \"9\": 2, \"10\": 3, \"13\": 1}, \"14\": {\"2\": 233, \"12\": 12, \"5\": 7, \"14\": 34, \"8\": 3, \"11\": 8, \"7\": 2, \"0\": 1}, \"12\": {\"2\": 23, \"12\": 183, \"10\": 81, \"9\": 9, \"14\": 1, \"6\": 2, \"0\": 1}, \"2\": {\"2\": 224, \"12\": 12, \"5\": 5, \"8\": 8, \"7\": 32, \"11\": 17, \"14\": 1, \"15\": 1}, \"13\": {\"3\": 96, \"13\": 123, \"11\": 62, \"14\": 13, \"4\": 6}}, \"20\": {\"11\": {\"3\": 274, \"2\": 26}, \"10\": {\"12\": 233, \"2\": 22, \"3\": 5, \"11\": 17, \"15\": 11, \"7\": 7, \"13\": 5}, \"13\": {\"12\": 9, \"2\": 289, \"7\": 2}, \"3\": {\"2\": 176, \"12\": 100, \"15\": 20, \"3\": 4}, \"4\": {\"12\": 163, \"2\": 95, \"15\": 38, \"3\": 3, \"13\": 1}, \"9\": {\"2\": 245, \"12\": 40, \"15\": 12, \"3\": 3}, \"0\": {\"2\": 80, \"3\": 153, \"12\": 15, \"15\": 50, \"9\": 2}, \"5\": {\"12\": 76, \"3\": 28, \"2\": 173, \"15\": 23}, \"2\": {\"2\": 232, \"12\": 43, \"3\": 14, \"15\": 11}, \"12\": {\"12\": 46, \"2\": 235, \"13\": 13, \"15\": 6}, \"14\": {\"12\": 90, \"3\": 177, \"15\": 33}, \"6\": {\"12\": 248, \"3\": 28, \"2\": 14, \"13\": 1, \"11\": 5, \"15\": 3, \"7\": 1}, \"15\": {\"2\": 268, \"12\": 21, \"3\": 4, \"15\": 7}, \"8\": {\"3\": 219, \"12\": 52, \"15\": 22, \"2\": 7}, \"7\": {\"12\": 162, \"2\": 110, \"3\": 21, \"15\": 6, \"13\": 1}, \"1\": {\"15\": 40, \"2\": 232, \"12\": 24, \"3\": 4}}, \"8\": {\"10\": {\"1\": 19, \"13\": 45, \"10\": 103, \"5\": 101, \"2\": 8, \"7\": 23, \"14\": 1}, \"4\": {\"14\": 48, \"8\": 35, \"6\": 46, \"4\": 31, \"7\": 82, \"10\": 10, \"5\": 13, \"1\": 20, \"11\": 12, \"13\": 3}, \"2\": {\"2\": 282, \"15\": 13, \"12\": 5}, \"8\": {\"4\": 1, \"8\": 212, \"11\": 62, \"14\": 11, \"6\": 13, \"1\": 1}, \"13\": {\"10\": 65, \"1\": 25, \"13\": 156, \"2\": 13, \"5\": 29, \"7\": 10, \"11\": 1, \"15\": 1}, \"5\": {\"10\": 75, \"5\": 128, \"1\": 80, \"13\": 9, \"7\": 5, \"2\": 1, \"6\": 1, \"14\": 1}, \"6\": {\"14\": 120, \"8\": 65, \"6\": 93, \"1\": 10, \"7\": 2, \"0\": 3, \"4\": 5, \"11\": 2}, \"7\": {\"7\": 151, \"4\": 28, \"11\": 20, \"10\": 7, \"8\": 18, \"1\": 20, \"6\": 15, \"13\": 27, \"14\": 6, \"5\": 7, \"2\": 1}, \"1\": {\"1\": 196, \"14\": 28, \"8\": 28, \"5\": 10, \"13\": 19, \"7\": 4, \"6\": 13, \"10\": 2}, \"15\": {\"15\": 170, \"12\": 96, \"3\": 19, \"2\": 15}, \"3\": {\"3\": 300}, \"12\": {\"12\": 223, \"15\": 48, \"2\": 24, \"3\": 4, \"13\": 1}, \"0\": {\"0\": 300}, \"14\": {\"6\": 69, \"14\": 177, \"1\": 20, \"8\": 32, \"4\": 1, \"0\": 1}, \"9\": {\"9\": 300}, \"11\": {\"11\": 187, \"8\": 96, \"7\": 1, \"0\": 1, \"6\": 6, \"4\": 1, \"12\": 4, \"13\": 1, \"2\": 1, \"14\": 1, \"15\": 1}}}, \"per_domain_accuracy\": {\"50\": {\"accuracy\": 0.52125, \"source?\": true}, \"44\": {\"accuracy\": 0.051875, \"source?\": false}, \"38\": {\"accuracy\": 0.13229166666666667, \"source?\": false}, \"14\": {\"accuracy\": 0.075, \"source?\": false}, \"26\": {\"accuracy\": 0.09729166666666667, \"source?\": false}, \"32\": {\"accuracy\": 0.555, \"source?\": true}, \"20\": {\"accuracy\": 0.060208333333333336, \"source?\": false}, \"8\": {\"accuracy\": 0.626875, \"source?\": true}}}, \"history\": {\"epoch_indices\": [1, 2, 3, 4, 5, 6, 7], \"train_label_loss\": [2.387823856444586, 1.8637463288080125, 1.4439043730781191, 1.1655784369650342, 0.9336294051579067, 0.738068197795323, 0.5670264120328994], \"source_val_label_loss\": [2.143886671657056, 1.6529860770807856, 1.3084662171591699, 1.2934783665479812, 1.050619833237302, 0.9291430084051284, 1.21547995520904], \"target_val_label_loss\": [4.1846612996243415, 5.621277720370191, 7.406877984391882, 8.33937094313033, 9.095188389433192, 10.809979651836638, 12.158253837139048], \"source_val_acc_label\": [0.3111111111111111, 0.4534722222222222, 0.5677083333333334, 0.5322916666666667, 0.6398611111111111, 0.6677777777777778, 0.5611111111111111], \"target_val_acc_label\": [0.049541666666666664, 0.06795833333333333, 0.08333333333333333, 0.069125, 0.058416666666666665, 0.07408333333333333, 0.057291666666666664]}, \"dataset_metrics\": {\"source\": {\"train\": {\"n_unique_x\": 67200, \"n_unique_y\": 16, \"n_batch/episode\": 525}, \"val\": {\"n_unique_x\": 14400, \"n_unique_y\": 16, \"n_batch/episode\": 113}, \"test\": {\"n_unique_x\": 14400, \"n_unique_y\": 16, \"n_batch/episode\": 113}}, \"target\": {\"train\": {\"n_unique_x\": 112000, \"n_unique_y\": 16, \"n_batch/episode\": 875}, \"val\": {\"n_unique_x\": 24000, \"n_unique_y\": 16, \"n_batch/episode\": 188}, \"test\": {\"n_unique_x\": 24000, \"n_unique_y\": 16, \"n_batch/episode\": 188}}}}'"
      ]
     },
     "execution_count": 20,
     "metadata": {},
     "output_type": "execute_result"
    }
   ],
   "source": [
    "json.dumps(experiment)"
   ]
  }
 ],
 "metadata": {
  "celltoolbar": "Tags",
  "kernelspec": {
   "display_name": "Python 3 (ipykernel)",
   "language": "python",
   "name": "python3"
  },
  "language_info": {
   "codemirror_mode": {
    "name": "ipython",
    "version": 3
   },
   "file_extension": ".py",
   "mimetype": "text/x-python",
   "name": "python",
   "nbconvert_exporter": "python",
   "pygments_lexer": "ipython3",
   "version": "3.8.12"
  },
  "papermill": {
   "default_parameters": {},
   "duration": 78.897633,
   "end_time": "2022-03-26T01:45:51.637207",
   "environment_variables": {},
   "exception": null,
   "input_path": "/root/csc500-main/csc500-notebooks/templates/cnn_template.ipynb",
   "output_path": "trial.ipynb",
   "parameters": {
    "parameters": {
     "BEST_MODEL_PATH": "./best_model.pth",
     "NUM_LOGS_PER_EPOCH": 10,
     "batch_size": 128,
     "criteria_for_best": "target_accuracy",
     "dataset_seed": 154325,
     "device": "cuda",
     "domains_source": [
      8,
      32,
      50
     ],
     "domains_target": [
      14,
      20,
      26,
      38,
      44
     ],
     "experiment_name": "cnn_1:oracle.run2_limited",
     "labels": [
      "3123D52",
      "3123D65",
      "3123D79",
      "3123D80",
      "3123D54",
      "3123D70",
      "3123D7B",
      "3123D89",
      "3123D58",
      "3123D76",
      "3123D7D",
      "3123EFE",
      "3123D64",
      "3123D78",
      "3123D7E",
      "3124E4A"
     ],
     "lr": 0.0001,
     "n_epoch": 50,
     "normalize_source": false,
     "normalize_target": false,
     "num_examples_per_domain_per_label_source": 2000,
     "num_examples_per_domain_per_label_target": 2000,
     "patience": 3,
     "pickle_name_source": "oracle.Run2_10kExamples_stratified_ds.2022A.pkl",
     "pickle_name_target": "oracle.Run2_10kExamples_stratified_ds.2022A.pkl",
     "seed": 154325,
     "torch_default_dtype": "torch.float32",
     "x_net": [
      {
       "class": "nnReshape",
       "kargs": {
        "shape": [
         -1,
         1,
         2,
         256
        ]
       }
      },
      {
       "class": "Conv2d",
       "kargs": {
        "bias": false,
        "in_channels": 1,
        "kernel_size": [
         1,
         7
        ],
        "out_channels": 256,
        "padding": [
         0,
         3
        ]
       }
      },
      {
       "class": "ReLU",
       "kargs": {
        "inplace": true
       }
      },
      {
       "class": "BatchNorm2d",
       "kargs": {
        "num_features": 256
       }
      },
      {
       "class": "Conv2d",
       "kargs": {
        "bias": true,
        "in_channels": 256,
        "kernel_size": [
         2,
         7
        ],
        "out_channels": 80,
        "padding": [
         0,
         3
        ]
       }
      },
      {
       "class": "ReLU",
       "kargs": {
        "inplace": true
       }
      },
      {
       "class": "BatchNorm2d",
       "kargs": {
        "num_features": 80
       }
      },
      {
       "class": "Flatten",
       "kargs": {}
      },
      {
       "class": "Linear",
       "kargs": {
        "in_features": 20480,
        "out_features": 256
       }
      },
      {
       "class": "ReLU",
       "kargs": {
        "inplace": true
       }
      },
      {
       "class": "BatchNorm1d",
       "kargs": {
        "num_features": 256
       }
      },
      {
       "class": "Linear",
       "kargs": {
        "in_features": 256,
        "out_features": 16
       }
      }
     ]
    }
   },
   "start_time": "2022-03-26T01:44:32.739574",
   "version": "2.3.4"
  }
 },
 "nbformat": 4,
 "nbformat_minor": 5
}