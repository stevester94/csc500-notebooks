{
 "cells": [
  {
   "cell_type": "code",
   "execution_count": 1,
   "id": "2324682e",
   "metadata": {
    "execution": {
     "iopub.execute_input": "2022-03-26T01:45:52.768476Z",
     "iopub.status.busy": "2022-03-26T01:45:52.767593Z",
     "iopub.status.idle": "2022-03-26T01:45:54.116488Z",
     "shell.execute_reply": "2022-03-26T01:45:54.115584Z"
    },
    "papermill": {
     "duration": 1.387186,
     "end_time": "2022-03-26T01:45:54.116689",
     "exception": false,
     "start_time": "2022-03-26T01:45:52.729503",
     "status": "completed"
    },
    "tags": []
   },
   "outputs": [],
   "source": [
    "import os, json, sys, time, random\n",
    "import numpy as np\n",
    "import torch\n",
    "from  easydict import EasyDict\n",
    "from math import floor\n",
    "from easydict import EasyDict\n",
    "\n",
    "from steves_utils.vanilla_train_eval_test_jig import  Vanilla_Train_Eval_Test_Jig\n",
    "\n",
    "from steves_utils.torch_utils import get_dataset_metrics, independent_accuracy_assesment\n",
    "from steves_models.configurable_vanilla import Configurable_Vanilla\n",
    "from steves_utils.torch_sequential_builder import build_sequential\n",
    "from steves_utils.lazy_map import Lazy_Map\n",
    "from steves_utils.sequence_aggregator import Sequence_Aggregator\n",
    "\n",
    "from steves_utils.stratified_dataset.traditional_accessor import Traditional_Accessor_Factory\n",
    "\n",
    "from steves_utils.cnn_do_report import (\n",
    "    get_loss_curve,\n",
    "    get_results_table,\n",
    "    get_parameters_table,\n",
    "    get_domain_accuracies,\n",
    ")\n",
    "\n",
    "from steves_utils.torch_utils import (\n",
    "    confusion_by_domain_over_dataloader,\n",
    "    independent_accuracy_assesment\n",
    ")\n",
    "\n",
    "from steves_utils.utils_v2 import (\n",
    "    per_domain_accuracy_from_confusion,\n",
    "    get_datasets_base_path\n",
    ")\n",
    "\n",
    "# from steves_utils.ptn_do_report import TBD"
   ]
  },
  {
   "cell_type": "code",
   "execution_count": 2,
   "id": "1b29e3fe",
   "metadata": {
    "execution": {
     "iopub.execute_input": "2022-03-26T01:45:54.155684Z",
     "iopub.status.busy": "2022-03-26T01:45:54.154983Z",
     "iopub.status.idle": "2022-03-26T01:45:54.157474Z",
     "shell.execute_reply": "2022-03-26T01:45:54.157953Z"
    },
    "papermill": {
     "duration": 0.02314,
     "end_time": "2022-03-26T01:45:54.158091",
     "exception": false,
     "start_time": "2022-03-26T01:45:54.134951",
     "status": "completed"
    },
    "tags": []
   },
   "outputs": [],
   "source": [
    "required_parameters = {\n",
    "    \"experiment_name\",\n",
    "    \"lr\",\n",
    "    \"device\",\n",
    "    \"dataset_seed\",\n",
    "    \"seed\",\n",
    "    \"labels\",\n",
    "    \"domains_target\",\n",
    "    \"domains_source\",\n",
    "    \"num_examples_per_domain_per_label_source\",\n",
    "    \"num_examples_per_domain_per_label_target\",\n",
    "    \"batch_size\",\n",
    "    \"n_epoch\",\n",
    "    \"patience\",\n",
    "    \"criteria_for_best\",\n",
    "    \"normalize_source\",\n",
    "    \"normalize_target\",\n",
    "    \"x_net\",\n",
    "    \"NUM_LOGS_PER_EPOCH\",\n",
    "    \"BEST_MODEL_PATH\",\n",
    "    \"pickle_name_source\",\n",
    "    \"pickle_name_target\",\n",
    "    \"torch_default_dtype\",\n",
    "}"
   ]
  },
  {
   "cell_type": "code",
   "execution_count": 3,
   "id": "670b5fb8",
   "metadata": {
    "execution": {
     "iopub.execute_input": "2022-03-26T01:45:54.205509Z",
     "iopub.status.busy": "2022-03-26T01:45:54.204604Z",
     "iopub.status.idle": "2022-03-26T01:45:54.211786Z",
     "shell.execute_reply": "2022-03-26T01:45:54.210929Z"
    },
    "papermill": {
     "duration": 0.035139,
     "end_time": "2022-03-26T01:45:54.211950",
     "exception": false,
     "start_time": "2022-03-26T01:45:54.176811",
     "status": "completed"
    },
    "tags": [
     "parameters"
    ]
   },
   "outputs": [],
   "source": [
    "from steves_utils.ORACLE.utils_v2 import (\n",
    "    ALL_SERIAL_NUMBERS,\n",
    "    ALL_DISTANCES_FEET_NARROWED,\n",
    ")\n",
    "\n",
    "standalone_parameters = {}\n",
    "standalone_parameters[\"experiment_name\"] = \"MANUAL CORES CNN\"\n",
    "standalone_parameters[\"lr\"] = 0.0001\n",
    "standalone_parameters[\"device\"] = \"cuda\"\n",
    "\n",
    "standalone_parameters[\"dataset_seed\"] = 1337\n",
    "standalone_parameters[\"seed\"] = 1337\n",
    "standalone_parameters[\"labels\"] = ALL_SERIAL_NUMBERS\n",
    "\n",
    "standalone_parameters[\"domains_source\"] = [8,32,50]\n",
    "standalone_parameters[\"domains_target\"] = [14,20,26,38,44,]\n",
    "\n",
    "standalone_parameters[\"num_examples_per_domain_per_label_source\"]=-1\n",
    "standalone_parameters[\"num_examples_per_domain_per_label_target\"]=-1\n",
    "\n",
    "standalone_parameters[\"pickle_name_source\"] = \"oracle.Run1_framed_2000Examples_stratified_ds.2022A.pkl\"\n",
    "standalone_parameters[\"pickle_name_target\"] = \"oracle.Run2_framed_2000Examples_stratified_ds.2022A.pkl\"\n",
    "\n",
    "standalone_parameters[\"torch_default_dtype\"] = \"torch.float32\" \n",
    "\n",
    "standalone_parameters[\"batch_size\"]=128\n",
    "\n",
    "standalone_parameters[\"n_epoch\"] = 3\n",
    "\n",
    "standalone_parameters[\"patience\"] = 10\n",
    "\n",
    "standalone_parameters[\"criteria_for_best\"] = \"target_accuracy\"\n",
    "standalone_parameters[\"normalize_source\"] = False\n",
    "standalone_parameters[\"normalize_target\"] = False\n",
    "\n",
    "standalone_parameters[\"x_net\"] =     [\n",
    "    {\"class\": \"nnReshape\", \"kargs\": {\"shape\":[-1, 1, 2, 256]}},\n",
    "    {\"class\": \"Conv2d\", \"kargs\": { \"in_channels\":1, \"out_channels\":256, \"kernel_size\":(1,7), \"bias\":False, \"padding\":(0,3), },},\n",
    "    {\"class\": \"ReLU\", \"kargs\": {\"inplace\": True}},\n",
    "    {\"class\": \"BatchNorm2d\", \"kargs\": {\"num_features\":256}},\n",
    "\n",
    "    {\"class\": \"Conv2d\", \"kargs\": { \"in_channels\":256, \"out_channels\":80, \"kernel_size\":(2,7), \"bias\":True, \"padding\":(0,3), },},\n",
    "    {\"class\": \"ReLU\", \"kargs\": {\"inplace\": True}},\n",
    "    {\"class\": \"BatchNorm2d\", \"kargs\": {\"num_features\":80}},\n",
    "    {\"class\": \"Flatten\", \"kargs\": {}},\n",
    "\n",
    "    {\"class\": \"Linear\", \"kargs\": {\"in_features\": 80*256, \"out_features\": 256}}, # 80 units per IQ pair\n",
    "    {\"class\": \"ReLU\", \"kargs\": {\"inplace\": True}},\n",
    "    {\"class\": \"BatchNorm1d\", \"kargs\": {\"num_features\":256}},\n",
    "\n",
    "    {\"class\": \"Linear\", \"kargs\": {\"in_features\": 256, \"out_features\": len(standalone_parameters[\"labels\"])}},\n",
    "]\n",
    "\n",
    "standalone_parameters[\"NUM_LOGS_PER_EPOCH\"] = 10\n",
    "standalone_parameters[\"BEST_MODEL_PATH\"] = \"./best_model.pth\""
   ]
  },
  {
   "cell_type": "code",
   "execution_count": 4,
   "id": "3c11c650",
   "metadata": {
    "execution": {
     "iopub.execute_input": "2022-03-26T01:45:54.264189Z",
     "iopub.status.busy": "2022-03-26T01:45:54.263054Z",
     "iopub.status.idle": "2022-03-26T01:45:54.265160Z",
     "shell.execute_reply": "2022-03-26T01:45:54.265855Z"
    },
    "papermill": {
     "duration": 0.0314,
     "end_time": "2022-03-26T01:45:54.266050",
     "exception": false,
     "start_time": "2022-03-26T01:45:54.234650",
     "status": "completed"
    },
    "tags": [
     "injected-parameters"
    ]
   },
   "outputs": [],
   "source": [
    "# Parameters\n",
    "parameters = {\n",
    "    \"experiment_name\": \"cnn_1:oracle.run2_limited\",\n",
    "    \"labels\": [\n",
    "        \"3123D52\",\n",
    "        \"3123D65\",\n",
    "        \"3123D79\",\n",
    "        \"3123D80\",\n",
    "        \"3123D54\",\n",
    "        \"3123D70\",\n",
    "        \"3123D7B\",\n",
    "        \"3123D89\",\n",
    "        \"3123D58\",\n",
    "        \"3123D76\",\n",
    "        \"3123D7D\",\n",
    "        \"3123EFE\",\n",
    "        \"3123D64\",\n",
    "        \"3123D78\",\n",
    "        \"3123D7E\",\n",
    "        \"3124E4A\",\n",
    "    ],\n",
    "    \"domains_source\": [8, 32, 50],\n",
    "    \"domains_target\": [14, 20, 26, 38, 44],\n",
    "    \"pickle_name_source\": \"oracle.Run2_10kExamples_stratified_ds.2022A.pkl\",\n",
    "    \"pickle_name_target\": \"oracle.Run2_10kExamples_stratified_ds.2022A.pkl\",\n",
    "    \"device\": \"cuda\",\n",
    "    \"lr\": 0.0001,\n",
    "    \"batch_size\": 128,\n",
    "    \"normalize_source\": False,\n",
    "    \"normalize_target\": False,\n",
    "    \"num_examples_per_domain_per_label_source\": 2000,\n",
    "    \"num_examples_per_domain_per_label_target\": 2000,\n",
    "    \"torch_default_dtype\": \"torch.float32\",\n",
    "    \"n_epoch\": 50,\n",
    "    \"patience\": 3,\n",
    "    \"criteria_for_best\": \"target_accuracy\",\n",
    "    \"x_net\": [\n",
    "        {\"class\": \"nnReshape\", \"kargs\": {\"shape\": [-1, 1, 2, 256]}},\n",
    "        {\n",
    "            \"class\": \"Conv2d\",\n",
    "            \"kargs\": {\n",
    "                \"in_channels\": 1,\n",
    "                \"out_channels\": 256,\n",
    "                \"kernel_size\": [1, 7],\n",
    "                \"bias\": False,\n",
    "                \"padding\": [0, 3],\n",
    "            },\n",
    "        },\n",
    "        {\"class\": \"ReLU\", \"kargs\": {\"inplace\": True}},\n",
    "        {\"class\": \"BatchNorm2d\", \"kargs\": {\"num_features\": 256}},\n",
    "        {\n",
    "            \"class\": \"Conv2d\",\n",
    "            \"kargs\": {\n",
    "                \"in_channels\": 256,\n",
    "                \"out_channels\": 80,\n",
    "                \"kernel_size\": [2, 7],\n",
    "                \"bias\": True,\n",
    "                \"padding\": [0, 3],\n",
    "            },\n",
    "        },\n",
    "        {\"class\": \"ReLU\", \"kargs\": {\"inplace\": True}},\n",
    "        {\"class\": \"BatchNorm2d\", \"kargs\": {\"num_features\": 80}},\n",
    "        {\"class\": \"Flatten\", \"kargs\": {}},\n",
    "        {\"class\": \"Linear\", \"kargs\": {\"in_features\": 20480, \"out_features\": 256}},\n",
    "        {\"class\": \"ReLU\", \"kargs\": {\"inplace\": True}},\n",
    "        {\"class\": \"BatchNorm1d\", \"kargs\": {\"num_features\": 256}},\n",
    "        {\"class\": \"Linear\", \"kargs\": {\"in_features\": 256, \"out_features\": 16}},\n",
    "    ],\n",
    "    \"NUM_LOGS_PER_EPOCH\": 10,\n",
    "    \"BEST_MODEL_PATH\": \"./best_model.pth\",\n",
    "    \"dataset_seed\": 1337,\n",
    "    \"seed\": 1337,\n",
    "}\n"
   ]
  },
  {
   "cell_type": "code",
   "execution_count": 5,
   "id": "759b56ec",
   "metadata": {
    "execution": {
     "iopub.execute_input": "2022-03-26T01:45:54.309665Z",
     "iopub.status.busy": "2022-03-26T01:45:54.308652Z",
     "iopub.status.idle": "2022-03-26T01:45:54.312414Z",
     "shell.execute_reply": "2022-03-26T01:45:54.311883Z"
    },
    "papermill": {
     "duration": 0.025111,
     "end_time": "2022-03-26T01:45:54.312574",
     "exception": false,
     "start_time": "2022-03-26T01:45:54.287463",
     "status": "completed"
    },
    "tags": []
   },
   "outputs": [],
   "source": [
    "# Set this to True if you want to run this template directly\n",
    "STANDALONE = False\n",
    "if STANDALONE:\n",
    "    print(\"parameters not injected, running with standalone_parameters\")\n",
    "    parameters = standalone_parameters\n",
    "\n",
    "if not 'parameters' in locals() and not 'parameters' in globals():\n",
    "    raise Exception(\"Parameter injection failed\")\n",
    "\n",
    "#Use an easy dict for all the parameters\n",
    "p = EasyDict(parameters)\n",
    "\n",
    "supplied_keys = set(p.keys())\n",
    "\n",
    "if  supplied_keys != required_parameters:\n",
    "    print(\"Parameters are incorrect\")\n",
    "    if len(supplied_keys - required_parameters)>0: print(\"Shouldn't have:\", str(supplied_keys - required_parameters))\n",
    "    if len(required_parameters - supplied_keys)>0: print(\"Need to have:\", str(required_parameters - supplied_keys))\n",
    "    raise RuntimeError(\"Parameters are incorrect\")\n",
    "\n"
   ]
  },
  {
   "cell_type": "code",
   "execution_count": 6,
   "id": "d5c66a71",
   "metadata": {
    "execution": {
     "iopub.execute_input": "2022-03-26T01:45:54.350408Z",
     "iopub.status.busy": "2022-03-26T01:45:54.350019Z",
     "iopub.status.idle": "2022-03-26T01:45:54.352860Z",
     "shell.execute_reply": "2022-03-26T01:45:54.353175Z"
    },
    "papermill": {
     "duration": 0.020413,
     "end_time": "2022-03-26T01:45:54.353268",
     "exception": false,
     "start_time": "2022-03-26T01:45:54.332855",
     "status": "completed"
    },
    "tags": []
   },
   "outputs": [],
   "source": [
    "###################################\n",
    "# Set the RNGs and make it all deterministic\n",
    "###################################\n",
    "np.random.seed(p.seed)\n",
    "random.seed(p.seed)\n",
    "torch.manual_seed(p.seed)\n",
    "\n",
    "torch.use_deterministic_algorithms(True) "
   ]
  },
  {
   "cell_type": "code",
   "execution_count": 7,
   "id": "92a65876",
   "metadata": {
    "execution": {
     "iopub.execute_input": "2022-03-26T01:45:54.390734Z",
     "iopub.status.busy": "2022-03-26T01:45:54.390154Z",
     "iopub.status.idle": "2022-03-26T01:45:54.392968Z",
     "shell.execute_reply": "2022-03-26T01:45:54.392388Z"
    },
    "papermill": {
     "duration": 0.021324,
     "end_time": "2022-03-26T01:45:54.393081",
     "exception": false,
     "start_time": "2022-03-26T01:45:54.371757",
     "status": "completed"
    },
    "tags": []
   },
   "outputs": [],
   "source": [
    "torch.set_default_dtype(eval(p.torch_default_dtype))"
   ]
  },
  {
   "cell_type": "code",
   "execution_count": 8,
   "id": "f1a32f01",
   "metadata": {
    "execution": {
     "iopub.execute_input": "2022-03-26T01:45:54.431468Z",
     "iopub.status.busy": "2022-03-26T01:45:54.430823Z",
     "iopub.status.idle": "2022-03-26T01:45:54.470010Z",
     "shell.execute_reply": "2022-03-26T01:45:54.469283Z"
    },
    "papermill": {
     "duration": 0.057159,
     "end_time": "2022-03-26T01:45:54.470170",
     "exception": false,
     "start_time": "2022-03-26T01:45:54.413011",
     "status": "completed"
    },
    "tags": []
   },
   "outputs": [],
   "source": [
    "###################################\n",
    "# Build the network(s)\n",
    "# Note: It's critical to do this AFTER setting the RNG\n",
    "###################################\n",
    "x_net = build_sequential(p.x_net)"
   ]
  },
  {
   "cell_type": "code",
   "execution_count": 9,
   "id": "a276cd83",
   "metadata": {
    "execution": {
     "iopub.execute_input": "2022-03-26T01:45:54.508363Z",
     "iopub.status.busy": "2022-03-26T01:45:54.507985Z",
     "iopub.status.idle": "2022-03-26T01:45:54.510633Z",
     "shell.execute_reply": "2022-03-26T01:45:54.510257Z"
    },
    "papermill": {
     "duration": 0.020849,
     "end_time": "2022-03-26T01:45:54.510705",
     "exception": false,
     "start_time": "2022-03-26T01:45:54.489856",
     "status": "completed"
    },
    "tags": []
   },
   "outputs": [],
   "source": [
    "start_time_secs = time.time()"
   ]
  },
  {
   "cell_type": "code",
   "execution_count": 10,
   "id": "de702e48",
   "metadata": {
    "execution": {
     "iopub.execute_input": "2022-03-26T01:45:54.556637Z",
     "iopub.status.busy": "2022-03-26T01:45:54.555758Z",
     "iopub.status.idle": "2022-03-26T01:46:03.864709Z",
     "shell.execute_reply": "2022-03-26T01:46:03.863882Z"
    },
    "papermill": {
     "duration": 9.337095,
     "end_time": "2022-03-26T01:46:03.864890",
     "exception": false,
     "start_time": "2022-03-26T01:45:54.527795",
     "status": "completed"
    },
    "tags": []
   },
   "outputs": [],
   "source": [
    "def wrap_in_dataloader(p, ds):\n",
    "    return torch.utils.data.DataLoader(\n",
    "        ds,\n",
    "        batch_size=p.batch_size,\n",
    "        shuffle=True,\n",
    "        num_workers=1,\n",
    "        persistent_workers=True,\n",
    "        prefetch_factor=50,\n",
    "        pin_memory=True\n",
    "    )\n",
    "\n",
    "taf_source = Traditional_Accessor_Factory(\n",
    "    labels=p.labels,\n",
    "    domains=p.domains_source,\n",
    "    num_examples_per_domain_per_label=p.num_examples_per_domain_per_label_source,\n",
    "    pickle_path=os.path.join(get_datasets_base_path(), p.pickle_name_source),\n",
    "    seed=p.dataset_seed\n",
    ")\n",
    "train_original_source, val_original_source, test_original_source = \\\n",
    "    taf_source.get_train(), taf_source.get_val(), taf_source.get_test()\n",
    "\n",
    "\n",
    "taf_target = Traditional_Accessor_Factory(\n",
    "    labels=p.labels,\n",
    "    domains=p.domains_target,\n",
    "    num_examples_per_domain_per_label=p.num_examples_per_domain_per_label_source,\n",
    "    pickle_path=os.path.join(get_datasets_base_path(), p.pickle_name_target),\n",
    "    seed=p.dataset_seed\n",
    ")\n",
    "train_original_target, val_original_target, test_original_target = \\\n",
    "    taf_target.get_train(), taf_target.get_val(), taf_target.get_test()\n",
    "\n",
    "\n",
    "# For CNN We only use X and Y. And we only train on the source.\n",
    "# Properly form the data using a transform lambda and Lazy_Map. Finally wrap them in a dataloader\n",
    "\n",
    "transform_lambda = lambda ex: ex[:2] # Strip the tuple to just (x,y)\n",
    "\n",
    "\n",
    "train_processed_source = wrap_in_dataloader(\n",
    "    p,\n",
    "    Lazy_Map(train_original_source, transform_lambda)\n",
    ")\n",
    "val_processed_source = wrap_in_dataloader(\n",
    "    p,\n",
    "    Lazy_Map(val_original_source, transform_lambda)\n",
    ")\n",
    "test_processed_source = wrap_in_dataloader(\n",
    "    p,\n",
    "    Lazy_Map(test_original_source, transform_lambda)\n",
    ")\n",
    "\n",
    "train_processed_target = wrap_in_dataloader(\n",
    "    p,\n",
    "    Lazy_Map(train_original_target, transform_lambda)\n",
    ")\n",
    "val_processed_target = wrap_in_dataloader(\n",
    "    p,\n",
    "    Lazy_Map(val_original_target, transform_lambda)\n",
    ")\n",
    "test_processed_target  = wrap_in_dataloader(\n",
    "    p,\n",
    "    Lazy_Map(test_original_target, transform_lambda)\n",
    ")\n",
    "\n",
    "\n",
    "\n",
    "datasets = EasyDict({\n",
    "    \"source\": {\n",
    "        \"original\": {\"train\":train_original_source, \"val\":val_original_source, \"test\":test_original_source},\n",
    "        \"processed\": {\"train\":train_processed_source, \"val\":val_processed_source, \"test\":test_processed_source}\n",
    "    },\n",
    "    \"target\": {\n",
    "        \"original\": {\"train\":train_original_target, \"val\":val_original_target, \"test\":test_original_target},\n",
    "        \"processed\": {\"train\":train_processed_target, \"val\":val_processed_target, \"test\":test_processed_target}\n",
    "    },\n",
    "})"
   ]
  },
  {
   "cell_type": "code",
   "execution_count": 11,
   "id": "a11b26bd",
   "metadata": {
    "execution": {
     "iopub.execute_input": "2022-03-26T01:46:03.941046Z",
     "iopub.status.busy": "2022-03-26T01:46:03.940207Z",
     "iopub.status.idle": "2022-03-26T01:46:08.960595Z",
     "shell.execute_reply": "2022-03-26T01:46:08.961422Z"
    },
    "papermill": {
     "duration": 5.077641,
     "end_time": "2022-03-26T01:46:08.961632",
     "exception": false,
     "start_time": "2022-03-26T01:46:03.883991",
     "status": "completed"
    },
    "tags": []
   },
   "outputs": [
    {
     "data": {
      "text/plain": [
       "torch.float32"
      ]
     },
     "execution_count": 11,
     "metadata": {},
     "output_type": "execute_result"
    }
   ],
   "source": [
    "ep = next(iter(test_processed_target))\n",
    "ep[0].dtype"
   ]
  },
  {
   "cell_type": "code",
   "execution_count": 12,
   "id": "19425fad",
   "metadata": {
    "execution": {
     "iopub.execute_input": "2022-03-26T01:46:09.015490Z",
     "iopub.status.busy": "2022-03-26T01:46:09.014648Z",
     "iopub.status.idle": "2022-03-26T01:46:09.060075Z",
     "shell.execute_reply": "2022-03-26T01:46:09.059331Z"
    },
    "papermill": {
     "duration": 0.079852,
     "end_time": "2022-03-26T01:46:09.060233",
     "exception": false,
     "start_time": "2022-03-26T01:46:08.980381",
     "status": "completed"
    },
    "tags": []
   },
   "outputs": [],
   "source": [
    "model = Configurable_Vanilla(\n",
    "    x_net=x_net,\n",
    "    label_loss_object=torch.nn.NLLLoss(),\n",
    "    learning_rate=p.lr\n",
    ")"
   ]
  },
  {
   "cell_type": "code",
   "execution_count": 13,
   "id": "7f6d4f2c",
   "metadata": {
    "execution": {
     "iopub.execute_input": "2022-03-26T01:46:09.102162Z",
     "iopub.status.busy": "2022-03-26T01:46:09.101786Z",
     "iopub.status.idle": "2022-03-26T01:46:47.465520Z",
     "shell.execute_reply": "2022-03-26T01:46:47.464803Z"
    },
    "papermill": {
     "duration": 38.385787,
     "end_time": "2022-03-26T01:46:47.465698",
     "exception": false,
     "start_time": "2022-03-26T01:46:09.079911",
     "status": "completed"
    },
    "tags": []
   },
   "outputs": [
    {
     "name": "stdout",
     "output_type": "stream",
     "text": [
      "epoch: 1, [batch: 1 / 525], examples_per_second: 765.5635, train_label_loss: 2.7999, \n"
     ]
    },
    {
     "name": "stdout",
     "output_type": "stream",
     "text": [
      "epoch: 1, [batch: 53 / 525], examples_per_second: 12840.9424, train_label_loss: 2.7059, \n"
     ]
    },
    {
     "name": "stdout",
     "output_type": "stream",
     "text": [
      "epoch: 1, [batch: 105 / 525], examples_per_second: 12557.3615, train_label_loss: 2.4775, \n"
     ]
    },
    {
     "name": "stdout",
     "output_type": "stream",
     "text": [
      "epoch: 1, [batch: 158 / 525], examples_per_second: 12586.2422, train_label_loss: 2.4787, \n"
     ]
    },
    {
     "name": "stdout",
     "output_type": "stream",
     "text": [
      "epoch: 1, [batch: 210 / 525], examples_per_second: 12512.9814, train_label_loss: 2.3932, \n"
     ]
    },
    {
     "name": "stdout",
     "output_type": "stream",
     "text": [
      "epoch: 1, [batch: 263 / 525], examples_per_second: 12557.0926, train_label_loss: 2.3269, \n"
     ]
    },
    {
     "name": "stdout",
     "output_type": "stream",
     "text": [
      "epoch: 1, [batch: 315 / 525], examples_per_second: 12247.3841, train_label_loss: 2.3259, \n"
     ]
    },
    {
     "name": "stdout",
     "output_type": "stream",
     "text": [
      "epoch: 1, [batch: 367 / 525], examples_per_second: 12023.6169, train_label_loss: 2.2445, \n"
     ]
    },
    {
     "name": "stdout",
     "output_type": "stream",
     "text": [
      "epoch: 1, [batch: 420 / 525], examples_per_second: 12151.4530, train_label_loss: 2.2858, \n"
     ]
    },
    {
     "name": "stdout",
     "output_type": "stream",
     "text": [
      "epoch: 1, [batch: 472 / 525], examples_per_second: 11747.2132, train_label_loss: 2.3458, \n"
     ]
    },
    {
     "name": "stdout",
     "output_type": "stream",
     "text": [
      "=============================================================\n",
      "epoch: 1, source_val_acc_label: 0.2933, source_val_label_loss: 2.1161, target_val_acc_label: 0.0666, target_val_label_loss: 4.1563, \n",
      "=============================================================\n"
     ]
    },
    {
     "name": "stdout",
     "output_type": "stream",
     "text": [
      "New best\n",
      "epoch: 2, [batch: 1 / 525], examples_per_second: 117.7119, train_label_loss: 2.0625, \n"
     ]
    },
    {
     "name": "stdout",
     "output_type": "stream",
     "text": [
      "epoch: 2, [batch: 53 / 525], examples_per_second: 11917.1827, train_label_loss: 2.0967, \n"
     ]
    },
    {
     "name": "stdout",
     "output_type": "stream",
     "text": [
      "epoch: 2, [batch: 105 / 525], examples_per_second: 10638.5047, train_label_loss: 2.0185, \n"
     ]
    },
    {
     "name": "stdout",
     "output_type": "stream",
     "text": [
      "epoch: 2, [batch: 158 / 525], examples_per_second: 10578.9810, train_label_loss: 2.1014, \n"
     ]
    },
    {
     "name": "stdout",
     "output_type": "stream",
     "text": [
      "epoch: 2, [batch: 210 / 525], examples_per_second: 10556.3844, train_label_loss: 1.9671, \n"
     ]
    },
    {
     "name": "stdout",
     "output_type": "stream",
     "text": [
      "epoch: 2, [batch: 263 / 525], examples_per_second: 10497.3537, train_label_loss: 1.9455, \n"
     ]
    },
    {
     "name": "stdout",
     "output_type": "stream",
     "text": [
      "epoch: 2, [batch: 315 / 525], examples_per_second: 10621.4039, train_label_loss: 1.8031, \n"
     ]
    },
    {
     "name": "stdout",
     "output_type": "stream",
     "text": [
      "epoch: 2, [batch: 367 / 525], examples_per_second: 10637.9534, train_label_loss: 1.7485, \n"
     ]
    },
    {
     "name": "stdout",
     "output_type": "stream",
     "text": [
      "epoch: 2, [batch: 420 / 525], examples_per_second: 10646.8955, train_label_loss: 1.8315, \n"
     ]
    },
    {
     "name": "stdout",
     "output_type": "stream",
     "text": [
      "epoch: 2, [batch: 472 / 525], examples_per_second: 10568.6851, train_label_loss: 1.7800, \n"
     ]
    },
    {
     "name": "stdout",
     "output_type": "stream",
     "text": [
      "=============================================================\n",
      "epoch: 2, source_val_acc_label: 0.4281, source_val_label_loss: 1.6269, target_val_acc_label: 0.0613, target_val_label_loss: 5.9181, \n",
      "=============================================================\n"
     ]
    },
    {
     "name": "stdout",
     "output_type": "stream",
     "text": [
      "epoch: 3, [batch: 1 / 525], examples_per_second: 119.5583, train_label_loss: 1.5223, \n"
     ]
    },
    {
     "name": "stdout",
     "output_type": "stream",
     "text": [
      "epoch: 3, [batch: 53 / 525], examples_per_second: 10482.2992, train_label_loss: 1.7117, \n"
     ]
    },
    {
     "name": "stdout",
     "output_type": "stream",
     "text": [
      "epoch: 3, [batch: 105 / 525], examples_per_second: 10661.4798, train_label_loss: 1.5765, \n"
     ]
    },
    {
     "name": "stdout",
     "output_type": "stream",
     "text": [
      "epoch: 3, [batch: 158 / 525], examples_per_second: 10662.7628, train_label_loss: 1.4868, \n"
     ]
    },
    {
     "name": "stdout",
     "output_type": "stream",
     "text": [
      "epoch: 3, [batch: 210 / 525], examples_per_second: 10824.6986, train_label_loss: 1.5132, \n"
     ]
    },
    {
     "name": "stdout",
     "output_type": "stream",
     "text": [
      "epoch: 3, [batch: 263 / 525], examples_per_second: 10307.0391, train_label_loss: 1.4422, \n"
     ]
    },
    {
     "name": "stdout",
     "output_type": "stream",
     "text": [
      "epoch: 3, [batch: 315 / 525], examples_per_second: 10642.5562, train_label_loss: 1.6011, \n"
     ]
    },
    {
     "name": "stdout",
     "output_type": "stream",
     "text": [
      "epoch: 3, [batch: 367 / 525], examples_per_second: 10510.5599, train_label_loss: 1.3251, \n"
     ]
    },
    {
     "name": "stdout",
     "output_type": "stream",
     "text": [
      "epoch: 3, [batch: 420 / 525], examples_per_second: 10636.3131, train_label_loss: 1.3771, \n"
     ]
    },
    {
     "name": "stdout",
     "output_type": "stream",
     "text": [
      "epoch: 3, [batch: 472 / 525], examples_per_second: 10659.4363, train_label_loss: 1.2872, \n"
     ]
    },
    {
     "name": "stdout",
     "output_type": "stream",
     "text": [
      "=============================================================\n",
      "epoch: 3, source_val_acc_label: 0.5024, source_val_label_loss: 1.3994, target_val_acc_label: 0.0582, target_val_label_loss: 7.1952, \n",
      "=============================================================\n"
     ]
    },
    {
     "name": "stdout",
     "output_type": "stream",
     "text": [
      "epoch: 4, [batch: 1 / 525], examples_per_second: 123.4908, train_label_loss: 1.3320, \n"
     ]
    },
    {
     "name": "stdout",
     "output_type": "stream",
     "text": [
      "epoch: 4, [batch: 53 / 525], examples_per_second: 10534.2093, train_label_loss: 1.2556, \n"
     ]
    },
    {
     "name": "stdout",
     "output_type": "stream",
     "text": [
      "epoch: 4, [batch: 105 / 525], examples_per_second: 10622.3496, train_label_loss: 1.1440, \n"
     ]
    },
    {
     "name": "stdout",
     "output_type": "stream",
     "text": [
      "epoch: 4, [batch: 158 / 525], examples_per_second: 10648.0788, train_label_loss: 1.1100, \n"
     ]
    },
    {
     "name": "stdout",
     "output_type": "stream",
     "text": [
      "epoch: 4, [batch: 210 / 525], examples_per_second: 10658.4270, train_label_loss: 1.1067, \n"
     ]
    },
    {
     "name": "stdout",
     "output_type": "stream",
     "text": [
      "epoch: 4, [batch: 263 / 525], examples_per_second: 10623.5935, train_label_loss: 1.1607, \n"
     ]
    },
    {
     "name": "stdout",
     "output_type": "stream",
     "text": [
      "epoch: 4, [batch: 315 / 525], examples_per_second: 10584.0593, train_label_loss: 1.3484, \n"
     ]
    },
    {
     "name": "stdout",
     "output_type": "stream",
     "text": [
      "epoch: 4, [batch: 367 / 525], examples_per_second: 10651.9934, train_label_loss: 0.9905, \n"
     ]
    },
    {
     "name": "stdout",
     "output_type": "stream",
     "text": [
      "epoch: 4, [batch: 420 / 525], examples_per_second: 10615.3854, train_label_loss: 0.9242, \n"
     ]
    },
    {
     "name": "stdout",
     "output_type": "stream",
     "text": [
      "epoch: 4, [batch: 472 / 525], examples_per_second: 10642.6049, train_label_loss: 1.0032, \n"
     ]
    },
    {
     "name": "stdout",
     "output_type": "stream",
     "text": [
      "=============================================================\n",
      "epoch: 4, source_val_acc_label: 0.6417, source_val_label_loss: 1.1373, target_val_acc_label: 0.0616, target_val_label_loss: 7.7189, \n",
      "=============================================================\n"
     ]
    },
    {
     "name": "stdout",
     "output_type": "stream",
     "text": [
      "epoch: 5, [batch: 1 / 525], examples_per_second: 124.4141, train_label_loss: 0.9392, \n"
     ]
    },
    {
     "name": "stdout",
     "output_type": "stream",
     "text": [
      "epoch: 5, [batch: 53 / 525], examples_per_second: 10390.3602, train_label_loss: 0.9712, \n"
     ]
    },
    {
     "name": "stdout",
     "output_type": "stream",
     "text": [
      "epoch: 5, [batch: 105 / 525], examples_per_second: 10700.0914, train_label_loss: 0.9912, \n"
     ]
    },
    {
     "name": "stdout",
     "output_type": "stream",
     "text": [
      "epoch: 5, [batch: 158 / 525], examples_per_second: 10666.7800, train_label_loss: 0.8701, \n"
     ]
    },
    {
     "name": "stdout",
     "output_type": "stream",
     "text": [
      "epoch: 5, [batch: 210 / 525], examples_per_second: 10575.3149, train_label_loss: 0.9048, \n"
     ]
    },
    {
     "name": "stdout",
     "output_type": "stream",
     "text": [
      "epoch: 5, [batch: 263 / 525], examples_per_second: 10648.1506, train_label_loss: 1.0074, \n"
     ]
    },
    {
     "name": "stdout",
     "output_type": "stream",
     "text": [
      "epoch: 5, [batch: 315 / 525], examples_per_second: 10726.4443, train_label_loss: 0.8909, \n"
     ]
    },
    {
     "name": "stdout",
     "output_type": "stream",
     "text": [
      "epoch: 5, [batch: 367 / 525], examples_per_second: 10687.9945, train_label_loss: 0.7812, \n"
     ]
    },
    {
     "name": "stdout",
     "output_type": "stream",
     "text": [
      "epoch: 5, [batch: 420 / 525], examples_per_second: 10552.4399, train_label_loss: 0.8596, \n"
     ]
    },
    {
     "name": "stdout",
     "output_type": "stream",
     "text": [
      "epoch: 5, [batch: 472 / 525], examples_per_second: 10662.7096, train_label_loss: 0.7930, \n"
     ]
    },
    {
     "name": "stdout",
     "output_type": "stream",
     "text": [
      "=============================================================\n",
      "epoch: 5, source_val_acc_label: 0.6656, source_val_label_loss: 0.9976, target_val_acc_label: 0.0613, target_val_label_loss: 9.9478, \n",
      "=============================================================\n"
     ]
    },
    {
     "name": "stdout",
     "output_type": "stream",
     "text": [
      "Patience (3) exhausted\n"
     ]
    }
   ],
   "source": [
    "jig = Vanilla_Train_Eval_Test_Jig(\n",
    "    model=model,\n",
    "    path_to_best_model=p.BEST_MODEL_PATH,\n",
    "    device=p.device,\n",
    "    label_loss_object=torch.nn.NLLLoss(),\n",
    ")\n",
    "\n",
    "jig.train(\n",
    "    train_iterable=datasets.source.processed.train,\n",
    "    source_val_iterable=datasets.source.processed.val,\n",
    "    target_val_iterable=datasets.target.processed.val,\n",
    "    patience=p.patience,\n",
    "    num_epochs=p.n_epoch,\n",
    "    num_logs_per_epoch=p.NUM_LOGS_PER_EPOCH,\n",
    "    criteria_for_best=p.criteria_for_best\n",
    ")"
   ]
  },
  {
   "cell_type": "code",
   "execution_count": 14,
   "id": "4bc2ac17",
   "metadata": {
    "execution": {
     "iopub.execute_input": "2022-03-26T01:46:47.535749Z",
     "iopub.status.busy": "2022-03-26T01:46:47.535268Z",
     "iopub.status.idle": "2022-03-26T01:46:47.538261Z",
     "shell.execute_reply": "2022-03-26T01:46:47.537704Z"
    },
    "papermill": {
     "duration": 0.039087,
     "end_time": "2022-03-26T01:46:47.538368",
     "exception": false,
     "start_time": "2022-03-26T01:46:47.499281",
     "status": "completed"
    },
    "tags": []
   },
   "outputs": [],
   "source": [
    "total_experiment_time_secs = time.time() - start_time_secs"
   ]
  },
  {
   "cell_type": "code",
   "execution_count": 15,
   "id": "cae88f23",
   "metadata": {
    "execution": {
     "iopub.execute_input": "2022-03-26T01:46:47.615680Z",
     "iopub.status.busy": "2022-03-26T01:46:47.615060Z",
     "iopub.status.idle": "2022-03-26T01:46:59.390012Z",
     "shell.execute_reply": "2022-03-26T01:46:59.389220Z"
    },
    "papermill": {
     "duration": 11.817708,
     "end_time": "2022-03-26T01:46:59.390196",
     "exception": false,
     "start_time": "2022-03-26T01:46:47.572488",
     "status": "completed"
    },
    "tags": []
   },
   "outputs": [],
   "source": [
    "source_test_label_accuracy, source_test_label_loss = jig.test(datasets.source.processed.test)\n",
    "target_test_label_accuracy, target_test_label_loss = jig.test(datasets.target.processed.test)\n",
    "\n",
    "source_val_label_accuracy, source_val_label_loss = jig.test(datasets.source.processed.val)\n",
    "target_val_label_accuracy, target_val_label_loss = jig.test(datasets.target.processed.val)\n",
    "\n",
    "history = jig.get_history()\n",
    "\n",
    "total_epochs_trained = len(history[\"epoch_indices\"])\n",
    "\n",
    "val_dl = wrap_in_dataloader(p, Sequence_Aggregator((datasets.source.original.val, datasets.target.original.val)))\n",
    "\n",
    "confusion = confusion_by_domain_over_dataloader(model, p.device, val_dl, forward_uses_domain=False)\n",
    "per_domain_accuracy = per_domain_accuracy_from_confusion(confusion)\n",
    "\n",
    "# Add a key to per_domain_accuracy for if it was a source domain\n",
    "for domain, accuracy in per_domain_accuracy.items():\n",
    "    per_domain_accuracy[domain] = {\n",
    "        \"accuracy\": accuracy,\n",
    "        \"source?\": domain in p.domains_source\n",
    "    }\n",
    "\n",
    "# Do an independent accuracy assesment JUST TO BE SURE!\n",
    "# _source_test_label_accuracy = independent_accuracy_assesment(model, datasets.source.processed.test, p.device)\n",
    "# _target_test_label_accuracy = independent_accuracy_assesment(model, datasets.target.processed.test, p.device)\n",
    "# _source_val_label_accuracy = independent_accuracy_assesment(model, datasets.source.processed.val, p.device)\n",
    "# _target_val_label_accuracy = independent_accuracy_assesment(model, datasets.target.processed.val, p.device)\n",
    "\n",
    "# assert(_source_test_label_accuracy == source_test_label_accuracy)\n",
    "# assert(_target_test_label_accuracy == target_test_label_accuracy)\n",
    "# assert(_source_val_label_accuracy == source_val_label_accuracy)\n",
    "# assert(_target_val_label_accuracy == target_val_label_accuracy)\n",
    "\n",
    "###################################\n",
    "# Write out the results\n",
    "###################################\n",
    "\n",
    "experiment = {\n",
    "    \"experiment_name\": p.experiment_name,\n",
    "    \"parameters\": p,\n",
    "    \"results\": {\n",
    "        \"source_test_label_accuracy\": source_test_label_accuracy,\n",
    "        \"source_test_label_loss\": source_test_label_loss,\n",
    "        \"target_test_label_accuracy\": target_test_label_accuracy,\n",
    "        \"target_test_label_loss\": target_test_label_loss,\n",
    "        \"source_val_label_accuracy\": source_val_label_accuracy,\n",
    "        \"source_val_label_loss\": source_val_label_loss,\n",
    "        \"target_val_label_accuracy\": target_val_label_accuracy,\n",
    "        \"target_val_label_loss\": target_val_label_loss,\n",
    "        \"total_epochs_trained\": total_epochs_trained,\n",
    "        \"total_experiment_time_secs\": total_experiment_time_secs,\n",
    "        \"confusion\": confusion,\n",
    "        \"per_domain_accuracy\": per_domain_accuracy,\n",
    "    },\n",
    "    \"history\": history,\n",
    "    \"dataset_metrics\": get_dataset_metrics(datasets, \"cnn\"),\n",
    "}"
   ]
  },
  {
   "cell_type": "code",
   "execution_count": 16,
   "id": "74c318cf",
   "metadata": {
    "execution": {
     "iopub.execute_input": "2022-03-26T01:46:59.493917Z",
     "iopub.status.busy": "2022-03-26T01:46:59.489236Z",
     "iopub.status.idle": "2022-03-26T01:46:59.667256Z",
     "shell.execute_reply": "2022-03-26T01:46:59.667968Z"
    },
    "papermill": {
     "duration": 0.239145,
     "end_time": "2022-03-26T01:46:59.668181",
     "exception": false,
     "start_time": "2022-03-26T01:46:59.429036",
     "status": "completed"
    },
    "tags": []
   },
   "outputs": [
    {
     "data": {
      "text/plain": [
       "<AxesSubplot:title={'center':'Source Train Label Loss vs Source Val Label Loss'}, xlabel='Epoch'>"
      ]
     },
     "execution_count": 16,
     "metadata": {},
     "output_type": "execute_result"
    },
    {
     "data": {
      "image/png": "[encoded data removed]",
      "text/plain": [
       "<Figure size 1080x504 with 1 Axes>"
      ]
     },
     "metadata": {
      "needs_background": "light"
     },
     "output_type": "display_data"
    }
   ],
   "source": [
    "get_loss_curve(experiment)"
   ]
  },
  {
   "cell_type": "code",
   "execution_count": 17,
   "id": "59376601",
   "metadata": {
    "execution": {
     "iopub.execute_input": "2022-03-26T01:46:59.763329Z",
     "iopub.status.busy": "2022-03-26T01:46:59.751025Z",
     "iopub.status.idle": "2022-03-26T01:47:00.059709Z",
     "shell.execute_reply": "2022-03-26T01:47:00.060241Z"
    },
    "papermill": {
     "duration": 0.355596,
     "end_time": "2022-03-26T01:47:00.060397",
     "exception": false,
     "start_time": "2022-03-26T01:46:59.704801",
     "status": "completed"
    },
    "tags": []
   },
   "outputs": [
    {
     "data": {
      "text/plain": [
       "<AxesSubplot:title={'center':'Results'}>"
      ]
     },
     "execution_count": 17,
     "metadata": {},
     "output_type": "execute_result"
    },
    {
     "data": {
      "image/png": "[encoded data removed]",
      "text/plain": [
       "<Figure size 1080x504 with 1 Axes>"
      ]
     },
     "metadata": {
      "needs_background": "light"
     },
     "output_type": "display_data"
    }
   ],
   "source": [
    "get_results_table(experiment)"
   ]
  },
  {
   "cell_type": "code",
   "execution_count": 18,
   "id": "e80c5c98",
   "metadata": {
    "execution": {
     "iopub.execute_input": "2022-03-26T01:47:00.154128Z",
     "iopub.status.busy": "2022-03-26T01:47:00.148197Z",
     "iopub.status.idle": "2022-03-26T01:47:00.315290Z",
     "shell.execute_reply": "2022-03-26T01:47:00.314800Z"
    },
    "papermill": {
     "duration": 0.217964,
     "end_time": "2022-03-26T01:47:00.315399",
     "exception": false,
     "start_time": "2022-03-26T01:47:00.097435",
     "status": "completed"
    },
    "tags": []
   },
   "outputs": [
    {
     "data": {
      "text/plain": [
       "<AxesSubplot:title={'center':'Per Domain Accuracy'}, xlabel='domain'>"
      ]
     },
     "execution_count": 18,
     "metadata": {},
     "output_type": "execute_result"
    },
    {
     "data": {
      "image/png": "[encoded data removed]",
      "text/plain": [
       "<Figure size 1080x504 with 1 Axes>"
      ]
     },
     "metadata": {
      "needs_background": "light"
     },
     "output_type": "display_data"
    }
   ],
   "source": [
    "get_domain_accuracies(experiment)"
   ]
  },
  {
   "cell_type": "code",
   "execution_count": 19,
   "id": "086fdd10",
   "metadata": {
    "execution": {
     "iopub.execute_input": "2022-03-26T01:47:00.395234Z",
     "iopub.status.busy": "2022-03-26T01:47:00.394859Z",
     "iopub.status.idle": "2022-03-26T01:47:00.398825Z",
     "shell.execute_reply": "2022-03-26T01:47:00.399288Z"
    },
    "papermill": {
     "duration": 0.046067,
     "end_time": "2022-03-26T01:47:00.399412",
     "exception": false,
     "start_time": "2022-03-26T01:47:00.353345",
     "status": "completed"
    },
    "tags": []
   },
   "outputs": [
    {
     "name": "stdout",
     "output_type": "stream",
     "text": [
      "Source Test Label Accuracy: 0.29083333333333333 Target Test Label Accuracy: 0.06775\n",
      "Source Val Label Accuracy: 0.29333333333333333 Target Val Label Accuracy: 0.066625\n"
     ]
    }
   ],
   "source": [
    "print(\"Source Test Label Accuracy:\", experiment[\"results\"][\"source_test_label_accuracy\"], \"Target Test Label Accuracy:\", experiment[\"results\"][\"target_test_label_accuracy\"])\n",
    "print(\"Source Val Label Accuracy:\", experiment[\"results\"][\"source_val_label_accuracy\"], \"Target Val Label Accuracy:\", experiment[\"results\"][\"target_val_label_accuracy\"])"
   ]
  },
  {
   "cell_type": "code",
   "execution_count": 20,
   "id": "9f450536",
   "metadata": {
    "execution": {
     "iopub.execute_input": "2022-03-26T01:47:00.480499Z",
     "iopub.status.busy": "2022-03-26T01:47:00.480028Z",
     "iopub.status.idle": "2022-03-26T01:47:00.483398Z",
     "shell.execute_reply": "2022-03-26T01:47:00.483882Z"
    },
    "papermill": {
     "duration": 0.04385,
     "end_time": "2022-03-26T01:47:00.484006",
     "exception": false,
     "start_time": "2022-03-26T01:47:00.440156",
     "status": "completed"
    },
    "tags": [
     "experiment_json"
    ]
   },
   "outputs": [
    {
     "data": {
      "text/plain": [
       "'{\"experiment_name\": \"cnn_1:oracle.run2_limited\", \"parameters\": {\"experiment_name\": \"cnn_1:oracle.run2_limited\", \"labels\": [\"3123D52\", \"3123D65\", \"3123D79\", \"3123D80\", \"3123D54\", \"3123D70\", \"3123D7B\", \"3123D89\", \"3123D58\", \"3123D76\", \"3123D7D\", \"3123EFE\", \"3123D64\", \"3123D78\", \"3123D7E\", \"3124E4A\"], \"domains_source\": [8, 32, 50], \"domains_target\": [14, 20, 26, 38, 44], \"pickle_name_source\": \"oracle.Run2_10kExamples_stratified_ds.2022A.pkl\", \"pickle_name_target\": \"oracle.Run2_10kExamples_stratified_ds.2022A.pkl\", \"device\": \"cuda\", \"lr\": 0.0001, \"batch_size\": 128, \"normalize_source\": false, \"normalize_target\": false, \"num_examples_per_domain_per_label_source\": 2000, \"num_examples_per_domain_per_label_target\": 2000, \"torch_default_dtype\": \"torch.float32\", \"n_epoch\": 50, \"patience\": 3, \"criteria_for_best\": \"target_accuracy\", \"x_net\": [{\"class\": \"nnReshape\", \"kargs\": {\"shape\": [-1, 1, 2, 256]}}, {\"class\": \"Conv2d\", \"kargs\": {\"in_channels\": 1, \"out_channels\": 256, \"kernel_size\": [1, 7], \"bias\": false, \"padding\": [0, 3]}}, {\"class\": \"ReLU\", \"kargs\": {\"inplace\": true}}, {\"class\": \"BatchNorm2d\", \"kargs\": {\"num_features\": 256}}, {\"class\": \"Conv2d\", \"kargs\": {\"in_channels\": 256, \"out_channels\": 80, \"kernel_size\": [2, 7], \"bias\": true, \"padding\": [0, 3]}}, {\"class\": \"ReLU\", \"kargs\": {\"inplace\": true}}, {\"class\": \"BatchNorm2d\", \"kargs\": {\"num_features\": 80}}, {\"class\": \"Flatten\", \"kargs\": {}}, {\"class\": \"Linear\", \"kargs\": {\"in_features\": 20480, \"out_features\": 256}}, {\"class\": \"ReLU\", \"kargs\": {\"inplace\": true}}, {\"class\": \"BatchNorm1d\", \"kargs\": {\"num_features\": 256}}, {\"class\": \"Linear\", \"kargs\": {\"in_features\": 256, \"out_features\": 16}}], \"NUM_LOGS_PER_EPOCH\": 10, \"BEST_MODEL_PATH\": \"./best_model.pth\", \"dataset_seed\": 1337, \"seed\": 1337}, \"results\": {\"source_test_label_accuracy\": 0.29083333333333333, \"source_test_label_loss\": 2.114616119756108, \"target_test_label_accuracy\": 0.06775, \"target_test_label_loss\": 4.156131120438271, \"source_val_label_accuracy\": 0.29333333333333333, \"source_val_label_loss\": 2.11636146507432, \"target_val_label_accuracy\": 0.066625, \"target_val_label_loss\": 4.156698735470467, \"total_epochs_trained\": 5, \"total_experiment_time_secs\": 53.02700710296631, \"confusion\": {\"14\": {\"12\": {\"9\": 35, \"6\": 93, \"3\": 93, \"1\": 14, \"10\": 17, \"2\": 5, \"13\": 11, \"15\": 20, \"12\": 1, \"5\": 7, \"8\": 3, \"0\": 1}, \"13\": {\"3\": 300}, \"2\": {\"3\": 300}, \"11\": {\"7\": 32, \"5\": 36, \"13\": 222, \"11\": 9, \"10\": 1}, \"8\": {\"3\": 300}, \"4\": {\"3\": 300}, \"14\": {\"3\": 300}, \"0\": {\"3\": 300}, \"7\": {\"3\": 300}, \"5\": {\"3\": 300}, \"1\": {\"15\": 112, \"3\": 188}, \"3\": {\"3\": 300}, \"10\": {\"3\": 299, \"9\": 1}, \"6\": {\"3\": 300}, \"9\": {\"3\": 237, \"15\": 52, \"9\": 9, \"12\": 2}, \"15\": {\"3\": 300}}, \"50\": {\"0\": {\"1\": 148, \"10\": 139, \"0\": 13}, \"8\": {\"1\": 300}, \"1\": {\"15\": 16, \"1\": 118, \"8\": 165, \"5\": 1}, \"12\": {\"15\": 298, \"5\": 2}, \"14\": {\"14\": 78, \"10\": 63, \"0\": 94, \"2\": 53, \"13\": 6, \"3\": 6}, \"15\": {\"15\": 294, \"5\": 6}, \"11\": {\"15\": 285, \"8\": 12, \"5\": 3}, \"4\": {\"5\": 126, \"15\": 174}, \"6\": {\"15\": 268, \"5\": 32}, \"7\": {\"5\": 233, \"15\": 67}, \"3\": {\"5\": 273, \"3\": 10, \"1\": 8, \"15\": 9}, \"5\": {\"5\": 97, \"15\": 203}, \"13\": {\"1\": 273, \"8\": 25, \"15\": 2}, \"2\": {\"10\": 259, \"1\": 4, \"0\": 28, \"14\": 6, \"2\": 3}, \"10\": {\"1\": 300}, \"9\": {\"15\": 297, \"5\": 3}}, \"26\": {\"13\": {\"3\": 276, \"6\": 24}, \"1\": {\"3\": 239, \"6\": 61}, \"10\": {\"3\": 227, \"6\": 73}, \"9\": {\"3\": 282, \"6\": 18}, \"12\": {\"6\": 274, \"3\": 26}, \"7\": {\"3\": 297, \"6\": 3}, \"15\": {\"3\": 293, \"6\": 7}, \"0\": {\"3\": 264, \"6\": 36}, \"4\": {\"3\": 300}, \"8\": {\"3\": 271, \"6\": 29}, \"5\": {\"3\": 220, \"6\": 79, \"10\": 1}, \"2\": {\"3\": 286, \"6\": 14}, \"6\": {\"3\": 190, \"6\": 110}, \"3\": {\"3\": 298, \"6\": 2}, \"14\": {\"3\": 251, \"6\": 49}, \"11\": {\"6\": 297, \"10\": 3}}, \"20\": {\"10\": {\"15\": 280, \"13\": 7, \"2\": 13}, \"11\": {\"3\": 295, \"9\": 1, \"15\": 4}, \"2\": {\"3\": 6, \"15\": 287, \"2\": 6, \"12\": 1}, \"0\": {\"3\": 210, \"15\": 80, \"12\": 3, \"9\": 7}, \"3\": {\"15\": 289, \"3\": 1, \"2\": 7, \"12\": 3}, \"5\": {\"15\": 292, \"3\": 6, \"2\": 2}, \"7\": {\"15\": 299, \"2\": 1}, \"15\": {\"15\": 270, \"2\": 26, \"12\": 2, \"3\": 2}, \"4\": {\"15\": 286, \"12\": 2, \"3\": 1, \"2\": 11}, \"14\": {\"15\": 100, \"3\": 199, \"9\": 1}, \"8\": {\"3\": 220, \"15\": 80}, \"9\": {\"15\": 287, \"2\": 12, \"9\": 1}, \"1\": {\"15\": 282, \"2\": 9, \"3\": 6, \"12\": 3}, \"13\": {\"15\": 206, \"13\": 15, \"2\": 78, \"12\": 1}, \"12\": {\"15\": 205, \"2\": 87, \"13\": 8}, \"6\": {\"15\": 299, \"3\": 1}}, \"38\": {\"0\": {\"15\": 271, \"5\": 29}, \"12\": {\"15\": 286, \"5\": 11, \"1\": 2, \"8\": 1}, \"13\": {\"6\": 137, \"5\": 163}, \"6\": {\"8\": 94, \"14\": 4, \"1\": 170, \"0\": 15, \"13\": 14, \"2\": 3}, \"5\": {\"15\": 282, \"5\": 17, \"8\": 1}, \"2\": {\"5\": 151, \"15\": 149}, \"14\": {\"5\": 171, \"15\": 128, \"1\": 1}, \"3\": {\"5\": 142, \"6\": 157, \"15\": 1}, \"15\": {\"1\": 220, \"8\": 68, \"15\": 3, \"13\": 4, \"10\": 2, \"0\": 3}, \"8\": {\"15\": 278, \"5\": 22}, \"1\": {\"1\": 245, \"8\": 55}, \"7\": {\"15\": 190, \"5\": 110}, \"9\": {\"15\": 299, \"5\": 1}, \"4\": {\"5\": 278, \"6\": 7, \"15\": 15}, \"10\": {\"6\": 25, \"5\": 274, \"15\": 1}, \"11\": {\"6\": 300}}, \"44\": {\"10\": {\"15\": 294, \"5\": 6}, \"11\": {\"6\": 300}, \"3\": {\"8\": 229, \"11\": 25, \"2\": 5, \"13\": 3, \"15\": 35, \"7\": 2, \"0\": 1}, \"9\": {\"15\": 298, \"5\": 2}, \"6\": {\"15\": 266, \"5\": 34}, \"2\": {\"15\": 300}, \"7\": {\"15\": 300}, \"13\": {\"15\": 97, \"5\": 203}, \"4\": {\"15\": 284, \"5\": 16}, \"0\": {\"8\": 77, \"15\": 119, \"1\": 30, \"5\": 72, \"7\": 1, \"0\": 1}, \"12\": {\"11\": 99, \"8\": 160, \"13\": 11, \"15\": 27, \"2\": 2, \"0\": 1}, \"8\": {\"5\": 91, \"15\": 207, \"8\": 2}, \"5\": {\"15\": 269, \"5\": 31}, \"14\": {\"15\": 264, \"5\": 36}, \"1\": {\"15\": 300}, \"15\": {\"15\": 280, \"5\": 20}}, \"32\": {\"13\": {\"3\": 126, \"14\": 52, \"13\": 97, \"2\": 10, \"0\": 13, \"11\": 2}, \"14\": {\"8\": 225, \"1\": 9, \"15\": 64, \"5\": 2}, \"11\": {\"13\": 98, \"2\": 32, \"14\": 60, \"8\": 32, \"0\": 29, \"11\": 5, \"3\": 44}, \"2\": {\"8\": 206, \"15\": 93, \"7\": 1}, \"5\": {\"15\": 300}, \"10\": {\"10\": 300}, \"0\": {\"8\": 256, \"13\": 3, \"15\": 38, \"11\": 1, \"2\": 2}, \"3\": {\"2\": 4, \"13\": 169, \"0\": 9, \"11\": 39, \"3\": 53, \"14\": 24, \"8\": 2}, \"4\": {\"8\": 91, \"0\": 21, \"11\": 13, \"14\": 20, \"13\": 135, \"2\": 20}, \"15\": {\"15\": 300}, \"1\": {\"1\": 299, \"10\": 1}, \"9\": {\"0\": 100, \"2\": 29, \"1\": 18, \"10\": 107, \"3\": 14, \"14\": 23, \"13\": 9}, \"7\": {\"15\": 204, \"11\": 2, \"8\": 92, \"7\": 2}, \"6\": {\"6\": 292, \"10\": 8}, \"12\": {\"10\": 297, \"6\": 3}, \"8\": {\"15\": 143, \"8\": 155, \"5\": 1, \"11\": 1}}, \"8\": {\"10\": {\"10\": 33, \"13\": 140, \"5\": 113, \"7\": 8, \"1\": 5, \"11\": 1}, \"1\": {\"1\": 68, \"5\": 102, \"13\": 20, \"14\": 28, \"10\": 11, \"11\": 32, \"8\": 27, \"7\": 12}, \"11\": {\"11\": 85, \"14\": 82, \"13\": 81, \"5\": 22, \"7\": 19, \"0\": 7, \"8\": 3, \"15\": 1}, \"8\": {\"11\": 129, \"14\": 136, \"5\": 4, \"8\": 24, \"7\": 2, \"1\": 4, \"4\": 1}, \"13\": {\"13\": 216, \"2\": 21, \"5\": 45, \"10\": 11, \"7\": 6, \"15\": 1}, \"12\": {\"15\": 292, \"3\": 2, \"2\": 5, \"12\": 1}, \"4\": {\"13\": 24, \"11\": 84, \"5\": 118, \"1\": 22, \"8\": 11, \"14\": 15, \"7\": 26}, \"6\": {\"14\": 207, \"7\": 1, \"11\": 59, \"8\": 16, \"5\": 9, \"0\": 3, \"1\": 4, \"4\": 1}, \"3\": {\"3\": 299, \"9\": 1}, \"7\": {\"13\": 89, \"5\": 129, \"1\": 5, \"7\": 47, \"10\": 5, \"11\": 23, \"8\": 2}, \"2\": {\"2\": 84, \"15\": 210, \"12\": 6}, \"15\": {\"15\": 261, \"3\": 28, \"9\": 3, \"2\": 5, \"12\": 3}, \"9\": {\"9\": 299, \"2\": 1}, \"0\": {\"0\": 300}, \"5\": {\"1\": 43, \"10\": 49, \"13\": 38, \"5\": 146, \"7\": 7, \"2\": 6, \"14\": 2, \"8\": 7, \"11\": 2}, \"14\": {\"14\": 245, \"1\": 10, \"11\": 18, \"8\": 22, \"0\": 3, \"5\": 2}}}, \"per_domain_accuracy\": {\"14\": {\"accuracy\": 0.06645833333333333, \"source?\": false}, \"50\": {\"accuracy\": 0.12770833333333334, \"source?\": true}, \"26\": {\"accuracy\": 0.085, \"source?\": false}, \"20\": {\"accuracy\": 0.06104166666666667, \"source?\": false}, \"38\": {\"accuracy\": 0.05520833333333333, \"source?\": false}, \"44\": {\"accuracy\": 0.06541666666666666, \"source?\": false}, \"32\": {\"accuracy\": 0.313125, \"source?\": true}, \"8\": {\"accuracy\": 0.43916666666666665, \"source?\": true}}}, \"history\": {\"epoch_indices\": [1, 2, 3, 4, 5], \"train_label_loss\": [2.3848021979559038, 1.876134309087481, 1.4517917760213217, 1.1526553188051496, 0.9107679434049697], \"source_val_label_loss\": [2.116129323444535, 1.6269099416985977, 1.399428381329089, 1.1372761926819792, 0.9976193867953478], \"target_val_label_loss\": [4.156339209130469, 5.918130057923337, 7.195156657949407, 7.718882253829469, 9.94784242548841], \"source_val_acc_label\": [0.29333333333333333, 0.428125, 0.5024305555555556, 0.6417361111111111, 0.665625], \"target_val_acc_label\": [0.066625, 0.06129166666666667, 0.058166666666666665, 0.06158333333333333, 0.06133333333333333]}, \"dataset_metrics\": {\"source\": {\"train\": {\"n_unique_x\": 67200, \"n_unique_y\": 16, \"n_batch/episode\": 525}, \"val\": {\"n_unique_x\": 14400, \"n_unique_y\": 16, \"n_batch/episode\": 113}, \"test\": {\"n_unique_x\": 14400, \"n_unique_y\": 16, \"n_batch/episode\": 113}}, \"target\": {\"train\": {\"n_unique_x\": 112000, \"n_unique_y\": 16, \"n_batch/episode\": 875}, \"val\": {\"n_unique_x\": 24000, \"n_unique_y\": 16, \"n_batch/episode\": 188}, \"test\": {\"n_unique_x\": 24000, \"n_unique_y\": 16, \"n_batch/episode\": 188}}}}'"
      ]
     },
     "execution_count": 20,
     "metadata": {},
     "output_type": "execute_result"
    }
   ],
   "source": [
    "json.dumps(experiment)"
   ]
  }
 ],
 "metadata": {
  "celltoolbar": "Tags",
  "kernelspec": {
   "display_name": "Python 3 (ipykernel)",
   "language": "python",
   "name": "python3"
  },
  "language_info": {
   "codemirror_mode": {
    "name": "ipython",
    "version": 3
   },
   "file_extension": ".py",
   "mimetype": "text/x-python",
   "name": "python",
   "nbconvert_exporter": "python",
   "pygments_lexer": "ipython3",
   "version": "3.8.12"
  },
  "papermill": {
   "default_parameters": {},
   "duration": 70.671374,
   "end_time": "2022-03-26T01:47:02.434973",
   "environment_variables": {},
   "exception": null,
   "input_path": "/root/csc500-main/csc500-notebooks/templates/cnn_template.ipynb",
   "output_path": "trial.ipynb",
   "parameters": {
    "parameters": {
     "BEST_MODEL_PATH": "./best_model.pth",
     "NUM_LOGS_PER_EPOCH": 10,
     "batch_size": 128,
     "criteria_for_best": "target_accuracy",
     "dataset_seed": 1337,
     "device": "cuda",
     "domains_source": [
      8,
      32,
      50
     ],
     "domains_target": [
      14,
      20,
      26,
      38,
      44
     ],
     "experiment_name": "cnn_1:oracle.run2_limited",
     "labels": [
      "3123D52",
      "3123D65",
      "3123D79",
      "3123D80",
      "3123D54",
      "3123D70",
      "3123D7B",
      "3123D89",
      "3123D58",
      "3123D76",
      "3123D7D",
      "3123EFE",
      "3123D64",
      "3123D78",
      "3123D7E",
      "3124E4A"
     ],
     "lr": 0.0001,
     "n_epoch": 50,
     "normalize_source": false,
     "normalize_target": false,
     "num_examples_per_domain_per_label_source": 2000,
     "num_examples_per_domain_per_label_target": 2000,
     "patience": 3,
     "pickle_name_source": "oracle.Run2_10kExamples_stratified_ds.2022A.pkl",
     "pickle_name_target": "oracle.Run2_10kExamples_stratified_ds.2022A.pkl",
     "seed": 1337,
     "torch_default_dtype": "torch.float32",
     "x_net": [
      {
       "class": "nnReshape",
       "kargs": {
        "shape": [
         -1,
         1,
         2,
         256
        ]
       }
      },
      {
       "class": "Conv2d",
       "kargs": {
        "bias": false,
        "in_channels": 1,
        "kernel_size": [
         1,
         7
        ],
        "out_channels": 256,
        "padding": [
         0,
         3
        ]
       }
      },
      {
       "class": "ReLU",
       "kargs": {
        "inplace": true
       }
      },
      {
       "class": "BatchNorm2d",
       "kargs": {
        "num_features": 256
       }
      },
      {
       "class": "Conv2d",
       "kargs": {
        "bias": true,
        "in_channels": 256,
        "kernel_size": [
         2,
         7
        ],
        "out_channels": 80,
        "padding": [
         0,
         3
        ]
       }
      },
      {
       "class": "ReLU",
       "kargs": {
        "inplace": true
       }
      },
      {
       "class": "BatchNorm2d",
       "kargs": {
        "num_features": 80
       }
      },
      {
       "class": "Flatten",
       "kargs": {}
      },
      {
       "class": "Linear",
       "kargs": {
        "in_features": 20480,
        "out_features": 256
       }
      },
      {
       "class": "ReLU",
       "kargs": {
        "inplace": true
       }
      },
      {
       "class": "BatchNorm1d",
       "kargs": {
        "num_features": 256
       }
      },
      {
       "class": "Linear",
       "kargs": {
        "in_features": 256,
        "out_features": 16
       }
      }
     ]
    }
   },
   "start_time": "2022-03-26T01:45:51.763599",
   "version": "2.3.4"
  }
 },
 "nbformat": 4,
 "nbformat_minor": 5
}