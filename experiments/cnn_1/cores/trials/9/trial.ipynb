{
 "cells": [
  {
   "cell_type": "code",
   "execution_count": 1,
   "id": "2324682e",
   "metadata": {
    "execution": {
     "iopub.execute_input": "2022-03-25T21:00:46.627090Z",
     "iopub.status.busy": "2022-03-25T21:00:46.626243Z",
     "iopub.status.idle": "2022-03-25T21:00:48.021670Z",
     "shell.execute_reply": "2022-03-25T21:00:48.020821Z"
    },
    "papermill": {
     "duration": 1.432592,
     "end_time": "2022-03-25T21:00:48.021868",
     "exception": false,
     "start_time": "2022-03-25T21:00:46.589276",
     "status": "completed"
    },
    "tags": []
   },
   "outputs": [],
   "source": [
    "import os, json, sys, time, random\n",
    "import numpy as np\n",
    "import torch\n",
    "from  easydict import EasyDict\n",
    "from math import floor\n",
    "from easydict import EasyDict\n",
    "\n",
    "from steves_utils.vanilla_train_eval_test_jig import  Vanilla_Train_Eval_Test_Jig\n",
    "\n",
    "from steves_utils.torch_utils import get_dataset_metrics, independent_accuracy_assesment\n",
    "from steves_models.configurable_vanilla import Configurable_Vanilla\n",
    "from steves_utils.torch_sequential_builder import build_sequential\n",
    "from steves_utils.lazy_map import Lazy_Map\n",
    "from steves_utils.sequence_aggregator import Sequence_Aggregator\n",
    "\n",
    "from steves_utils.stratified_dataset.traditional_accessor import Traditional_Accessor_Factory\n",
    "\n",
    "from steves_utils.cnn_do_report import (\n",
    "    get_loss_curve,\n",
    "    get_results_table,\n",
    "    get_parameters_table,\n",
    "    get_domain_accuracies,\n",
    ")\n",
    "\n",
    "from steves_utils.torch_utils import (\n",
    "    confusion_by_domain_over_dataloader,\n",
    "    independent_accuracy_assesment\n",
    ")\n",
    "\n",
    "from steves_utils.utils_v2 import (\n",
    "    per_domain_accuracy_from_confusion,\n",
    "    get_datasets_base_path\n",
    ")\n",
    "\n",
    "# from steves_utils.ptn_do_report import TBD"
   ]
  },
  {
   "cell_type": "code",
   "execution_count": 2,
   "id": "1b29e3fe",
   "metadata": {
    "execution": {
     "iopub.execute_input": "2022-03-25T21:00:48.061317Z",
     "iopub.status.busy": "2022-03-25T21:00:48.060933Z",
     "iopub.status.idle": "2022-03-25T21:00:48.063250Z",
     "shell.execute_reply": "2022-03-25T21:00:48.063598Z"
    },
    "papermill": {
     "duration": 0.022192,
     "end_time": "2022-03-25T21:00:48.063682",
     "exception": false,
     "start_time": "2022-03-25T21:00:48.041490",
     "status": "completed"
    },
    "tags": []
   },
   "outputs": [],
   "source": [
    "required_parameters = {\n",
    "    \"experiment_name\",\n",
    "    \"lr\",\n",
    "    \"device\",\n",
    "    \"dataset_seed\",\n",
    "    \"seed\",\n",
    "    \"labels\",\n",
    "    \"domains_target\",\n",
    "    \"domains_source\",\n",
    "    \"num_examples_per_domain_per_label_source\",\n",
    "    \"num_examples_per_domain_per_label_target\",\n",
    "    \"batch_size\",\n",
    "    \"n_epoch\",\n",
    "    \"patience\",\n",
    "    \"criteria_for_best\",\n",
    "    \"normalize_source\",\n",
    "    \"normalize_target\",\n",
    "    \"x_net\",\n",
    "    \"NUM_LOGS_PER_EPOCH\",\n",
    "    \"BEST_MODEL_PATH\",\n",
    "    \"pickle_name_source\",\n",
    "    \"pickle_name_target\",\n",
    "    \"torch_default_dtype\",\n",
    "}"
   ]
  },
  {
   "cell_type": "code",
   "execution_count": 3,
   "id": "670b5fb8",
   "metadata": {
    "execution": {
     "iopub.execute_input": "2022-03-25T21:00:48.110784Z",
     "iopub.status.busy": "2022-03-25T21:00:48.109896Z",
     "iopub.status.idle": "2022-03-25T21:00:48.117349Z",
     "shell.execute_reply": "2022-03-25T21:00:48.116542Z"
    },
    "papermill": {
     "duration": 0.03378,
     "end_time": "2022-03-25T21:00:48.117504",
     "exception": false,
     "start_time": "2022-03-25T21:00:48.083724",
     "status": "completed"
    },
    "tags": [
     "parameters"
    ]
   },
   "outputs": [],
   "source": [
    "from steves_utils.ORACLE.utils_v2 import (\n",
    "    ALL_SERIAL_NUMBERS,\n",
    "    ALL_DISTANCES_FEET_NARROWED,\n",
    ")\n",
    "\n",
    "standalone_parameters = {}\n",
    "standalone_parameters[\"experiment_name\"] = \"MANUAL CORES CNN\"\n",
    "standalone_parameters[\"lr\"] = 0.0001\n",
    "standalone_parameters[\"device\"] = \"cuda\"\n",
    "\n",
    "standalone_parameters[\"dataset_seed\"] = 1337\n",
    "standalone_parameters[\"seed\"] = 1337\n",
    "standalone_parameters[\"labels\"] = ALL_SERIAL_NUMBERS\n",
    "\n",
    "standalone_parameters[\"domains_source\"] = [8,32,50]\n",
    "standalone_parameters[\"domains_target\"] = [14,20,26,38,44,]\n",
    "\n",
    "standalone_parameters[\"num_examples_per_domain_per_label_source\"]=-1\n",
    "standalone_parameters[\"num_examples_per_domain_per_label_target\"]=-1\n",
    "\n",
    "standalone_parameters[\"pickle_name_source\"] = \"oracle.Run1_framed_2000Examples_stratified_ds.2022A.pkl\"\n",
    "standalone_parameters[\"pickle_name_target\"] = \"oracle.Run2_framed_2000Examples_stratified_ds.2022A.pkl\"\n",
    "\n",
    "standalone_parameters[\"torch_default_dtype\"] = \"torch.float32\" \n",
    "\n",
    "standalone_parameters[\"batch_size\"]=128\n",
    "\n",
    "standalone_parameters[\"n_epoch\"] = 3\n",
    "\n",
    "standalone_parameters[\"patience\"] = 10\n",
    "\n",
    "standalone_parameters[\"criteria_for_best\"] = \"target_accuracy\"\n",
    "standalone_parameters[\"normalize_source\"] = False\n",
    "standalone_parameters[\"normalize_target\"] = False\n",
    "\n",
    "standalone_parameters[\"x_net\"] =     [\n",
    "    {\"class\": \"nnReshape\", \"kargs\": {\"shape\":[-1, 1, 2, 256]}},\n",
    "    {\"class\": \"Conv2d\", \"kargs\": { \"in_channels\":1, \"out_channels\":256, \"kernel_size\":(1,7), \"bias\":False, \"padding\":(0,3), },},\n",
    "    {\"class\": \"ReLU\", \"kargs\": {\"inplace\": True}},\n",
    "    {\"class\": \"BatchNorm2d\", \"kargs\": {\"num_features\":256}},\n",
    "\n",
    "    {\"class\": \"Conv2d\", \"kargs\": { \"in_channels\":256, \"out_channels\":80, \"kernel_size\":(2,7), \"bias\":True, \"padding\":(0,3), },},\n",
    "    {\"class\": \"ReLU\", \"kargs\": {\"inplace\": True}},\n",
    "    {\"class\": \"BatchNorm2d\", \"kargs\": {\"num_features\":80}},\n",
    "    {\"class\": \"Flatten\", \"kargs\": {}},\n",
    "\n",
    "    {\"class\": \"Linear\", \"kargs\": {\"in_features\": 80*256, \"out_features\": 256}}, # 80 units per IQ pair\n",
    "    {\"class\": \"ReLU\", \"kargs\": {\"inplace\": True}},\n",
    "    {\"class\": \"BatchNorm1d\", \"kargs\": {\"num_features\":256}},\n",
    "\n",
    "    {\"class\": \"Linear\", \"kargs\": {\"in_features\": 256, \"out_features\": len(standalone_parameters[\"labels\"])}},\n",
    "]\n",
    "\n",
    "standalone_parameters[\"NUM_LOGS_PER_EPOCH\"] = 10\n",
    "standalone_parameters[\"BEST_MODEL_PATH\"] = \"./best_model.pth\""
   ]
  },
  {
   "cell_type": "code",
   "execution_count": 4,
   "id": "c8ee03d1",
   "metadata": {
    "execution": {
     "iopub.execute_input": "2022-03-25T21:00:48.164510Z",
     "iopub.status.busy": "2022-03-25T21:00:48.163823Z",
     "iopub.status.idle": "2022-03-25T21:00:48.166899Z",
     "shell.execute_reply": "2022-03-25T21:00:48.166088Z"
    },
    "papermill": {
     "duration": 0.029937,
     "end_time": "2022-03-25T21:00:48.167055",
     "exception": false,
     "start_time": "2022-03-25T21:00:48.137118",
     "status": "completed"
    },
    "tags": [
     "injected-parameters"
    ]
   },
   "outputs": [],
   "source": [
    "# Parameters\n",
    "parameters = {\n",
    "    \"experiment_name\": \"cnn_1:cores\",\n",
    "    \"device\": \"cuda\",\n",
    "    \"lr\": 0.0001,\n",
    "    \"labels\": [\n",
    "        \"1-10.\",\n",
    "        \"1-11.\",\n",
    "        \"1-15.\",\n",
    "        \"1-16.\",\n",
    "        \"1-17.\",\n",
    "        \"1-18.\",\n",
    "        \"1-19.\",\n",
    "        \"10-4.\",\n",
    "        \"10-7.\",\n",
    "        \"11-1.\",\n",
    "        \"11-14.\",\n",
    "        \"11-17.\",\n",
    "        \"11-20.\",\n",
    "        \"11-7.\",\n",
    "        \"13-20.\",\n",
    "        \"13-8.\",\n",
    "        \"14-10.\",\n",
    "        \"14-11.\",\n",
    "        \"14-14.\",\n",
    "        \"14-7.\",\n",
    "        \"15-1.\",\n",
    "        \"15-20.\",\n",
    "        \"16-1.\",\n",
    "        \"16-16.\",\n",
    "        \"17-10.\",\n",
    "        \"17-11.\",\n",
    "        \"17-2.\",\n",
    "        \"19-1.\",\n",
    "        \"19-16.\",\n",
    "        \"19-19.\",\n",
    "        \"19-20.\",\n",
    "        \"19-3.\",\n",
    "        \"2-10.\",\n",
    "        \"2-11.\",\n",
    "        \"2-17.\",\n",
    "        \"2-18.\",\n",
    "        \"2-20.\",\n",
    "        \"2-3.\",\n",
    "        \"2-4.\",\n",
    "        \"2-5.\",\n",
    "        \"2-6.\",\n",
    "        \"2-7.\",\n",
    "        \"2-8.\",\n",
    "        \"3-13.\",\n",
    "        \"3-18.\",\n",
    "        \"3-3.\",\n",
    "        \"4-1.\",\n",
    "        \"4-10.\",\n",
    "        \"4-11.\",\n",
    "        \"4-19.\",\n",
    "        \"5-5.\",\n",
    "        \"6-15.\",\n",
    "        \"7-10.\",\n",
    "        \"7-14.\",\n",
    "        \"8-18.\",\n",
    "        \"8-20.\",\n",
    "        \"8-3.\",\n",
    "        \"8-8.\",\n",
    "    ],\n",
    "    \"batch_size\": 128,\n",
    "    \"domains_source\": [1, 5],\n",
    "    \"domains_target\": [2, 3, 4],\n",
    "    \"normalize_source\": False,\n",
    "    \"normalize_target\": False,\n",
    "    \"num_examples_per_domain_per_label_source\": -1,\n",
    "    \"num_examples_per_domain_per_label_target\": -1,\n",
    "    \"torch_default_dtype\": \"torch.float32\",\n",
    "    \"n_epoch\": 50,\n",
    "    \"patience\": 3,\n",
    "    \"criteria_for_best\": \"target_accuracy\",\n",
    "    \"x_net\": [\n",
    "        {\"class\": \"nnReshape\", \"kargs\": {\"shape\": [-1, 1, 2, 256]}},\n",
    "        {\n",
    "            \"class\": \"Conv2d\",\n",
    "            \"kargs\": {\n",
    "                \"in_channels\": 1,\n",
    "                \"out_channels\": 256,\n",
    "                \"kernel_size\": [1, 7],\n",
    "                \"bias\": False,\n",
    "                \"padding\": [0, 3],\n",
    "            },\n",
    "        },\n",
    "        {\"class\": \"ReLU\", \"kargs\": {\"inplace\": True}},\n",
    "        {\"class\": \"BatchNorm2d\", \"kargs\": {\"num_features\": 256}},\n",
    "        {\n",
    "            \"class\": \"Conv2d\",\n",
    "            \"kargs\": {\n",
    "                \"in_channels\": 256,\n",
    "                \"out_channels\": 80,\n",
    "                \"kernel_size\": [2, 7],\n",
    "                \"bias\": True,\n",
    "                \"padding\": [0, 3],\n",
    "            },\n",
    "        },\n",
    "        {\"class\": \"ReLU\", \"kargs\": {\"inplace\": True}},\n",
    "        {\"class\": \"BatchNorm2d\", \"kargs\": {\"num_features\": 80}},\n",
    "        {\"class\": \"Flatten\", \"kargs\": {}},\n",
    "        {\"class\": \"Linear\", \"kargs\": {\"in_features\": 20480, \"out_features\": 256}},\n",
    "        {\"class\": \"ReLU\", \"kargs\": {\"inplace\": True}},\n",
    "        {\"class\": \"BatchNorm1d\", \"kargs\": {\"num_features\": 256}},\n",
    "        {\"class\": \"Linear\", \"kargs\": {\"in_features\": 256, \"out_features\": 58}},\n",
    "    ],\n",
    "    \"NUM_LOGS_PER_EPOCH\": 10,\n",
    "    \"BEST_MODEL_PATH\": \"./best_model.pth\",\n",
    "    \"pickle_name_source\": \"cores.stratified_ds.2022A.pkl\",\n",
    "    \"pickle_name_target\": \"cores.stratified_ds.2022A.pkl\",\n",
    "    \"dataset_seed\": 7,\n",
    "    \"seed\": 7,\n",
    "}\n"
   ]
  },
  {
   "cell_type": "code",
   "execution_count": 5,
   "id": "759b56ec",
   "metadata": {
    "execution": {
     "iopub.execute_input": "2022-03-25T21:00:48.208957Z",
     "iopub.status.busy": "2022-03-25T21:00:48.208258Z",
     "iopub.status.idle": "2022-03-25T21:00:48.211723Z",
     "shell.execute_reply": "2022-03-25T21:00:48.210899Z"
    },
    "papermill": {
     "duration": 0.025881,
     "end_time": "2022-03-25T21:00:48.211880",
     "exception": false,
     "start_time": "2022-03-25T21:00:48.185999",
     "status": "completed"
    },
    "tags": []
   },
   "outputs": [],
   "source": [
    "# Set this to True if you want to run this template directly\n",
    "STANDALONE = False\n",
    "if STANDALONE:\n",
    "    print(\"parameters not injected, running with standalone_parameters\")\n",
    "    parameters = standalone_parameters\n",
    "\n",
    "if not 'parameters' in locals() and not 'parameters' in globals():\n",
    "    raise Exception(\"Parameter injection failed\")\n",
    "\n",
    "#Use an easy dict for all the parameters\n",
    "p = EasyDict(parameters)\n",
    "\n",
    "supplied_keys = set(p.keys())\n",
    "\n",
    "if  supplied_keys != required_parameters:\n",
    "    print(\"Parameters are incorrect\")\n",
    "    if len(supplied_keys - required_parameters)>0: print(\"Shouldn't have:\", str(supplied_keys - required_parameters))\n",
    "    if len(required_parameters - supplied_keys)>0: print(\"Need to have:\", str(required_parameters - supplied_keys))\n",
    "    raise RuntimeError(\"Parameters are incorrect\")\n",
    "\n"
   ]
  },
  {
   "cell_type": "code",
   "execution_count": 6,
   "id": "d5c66a71",
   "metadata": {
    "execution": {
     "iopub.execute_input": "2022-03-25T21:00:48.247936Z",
     "iopub.status.busy": "2022-03-25T21:00:48.247562Z",
     "iopub.status.idle": "2022-03-25T21:00:48.250697Z",
     "shell.execute_reply": "2022-03-25T21:00:48.250334Z"
    },
    "papermill": {
     "duration": 0.020571,
     "end_time": "2022-03-25T21:00:48.250766",
     "exception": false,
     "start_time": "2022-03-25T21:00:48.230195",
     "status": "completed"
    },
    "tags": []
   },
   "outputs": [],
   "source": [
    "###################################\n",
    "# Set the RNGs and make it all deterministic\n",
    "###################################\n",
    "np.random.seed(p.seed)\n",
    "random.seed(p.seed)\n",
    "torch.manual_seed(p.seed)\n",
    "\n",
    "torch.use_deterministic_algorithms(True) "
   ]
  },
  {
   "cell_type": "code",
   "execution_count": 7,
   "id": "92a65876",
   "metadata": {
    "execution": {
     "iopub.execute_input": "2022-03-25T21:00:48.285229Z",
     "iopub.status.busy": "2022-03-25T21:00:48.284866Z",
     "iopub.status.idle": "2022-03-25T21:00:48.287496Z",
     "shell.execute_reply": "2022-03-25T21:00:48.287826Z"
    },
    "papermill": {
     "duration": 0.02061,
     "end_time": "2022-03-25T21:00:48.287908",
     "exception": false,
     "start_time": "2022-03-25T21:00:48.267298",
     "status": "completed"
    },
    "tags": []
   },
   "outputs": [],
   "source": [
    "torch.set_default_dtype(eval(p.torch_default_dtype))"
   ]
  },
  {
   "cell_type": "code",
   "execution_count": 8,
   "id": "f1a32f01",
   "metadata": {
    "execution": {
     "iopub.execute_input": "2022-03-25T21:00:48.323971Z",
     "iopub.status.busy": "2022-03-25T21:00:48.323596Z",
     "iopub.status.idle": "2022-03-25T21:00:48.362971Z",
     "shell.execute_reply": "2022-03-25T21:00:48.362157Z"
    },
    "papermill": {
     "duration": 0.057063,
     "end_time": "2022-03-25T21:00:48.363128",
     "exception": false,
     "start_time": "2022-03-25T21:00:48.306065",
     "status": "completed"
    },
    "tags": []
   },
   "outputs": [],
   "source": [
    "###################################\n",
    "# Build the network(s)\n",
    "# Note: It's critical to do this AFTER setting the RNG\n",
    "###################################\n",
    "x_net = build_sequential(p.x_net)"
   ]
  },
  {
   "cell_type": "code",
   "execution_count": 9,
   "id": "a276cd83",
   "metadata": {
    "execution": {
     "iopub.execute_input": "2022-03-25T21:00:48.399398Z",
     "iopub.status.busy": "2022-03-25T21:00:48.399034Z",
     "iopub.status.idle": "2022-03-25T21:00:48.401567Z",
     "shell.execute_reply": "2022-03-25T21:00:48.402029Z"
    },
    "papermill": {
     "duration": 0.019939,
     "end_time": "2022-03-25T21:00:48.402153",
     "exception": false,
     "start_time": "2022-03-25T21:00:48.382214",
     "status": "completed"
    },
    "tags": []
   },
   "outputs": [],
   "source": [
    "start_time_secs = time.time()"
   ]
  },
  {
   "cell_type": "code",
   "execution_count": 10,
   "id": "de702e48",
   "metadata": {
    "execution": {
     "iopub.execute_input": "2022-03-25T21:00:48.448406Z",
     "iopub.status.busy": "2022-03-25T21:00:48.447516Z",
     "iopub.status.idle": "2022-03-25T21:00:52.110783Z",
     "shell.execute_reply": "2022-03-25T21:00:52.110039Z"
    },
    "papermill": {
     "duration": 3.691058,
     "end_time": "2022-03-25T21:00:52.110971",
     "exception": false,
     "start_time": "2022-03-25T21:00:48.419913",
     "status": "completed"
    },
    "tags": []
   },
   "outputs": [],
   "source": [
    "def wrap_in_dataloader(p, ds):\n",
    "    return torch.utils.data.DataLoader(\n",
    "        ds,\n",
    "        batch_size=p.batch_size,\n",
    "        shuffle=True,\n",
    "        num_workers=1,\n",
    "        persistent_workers=True,\n",
    "        prefetch_factor=50,\n",
    "        pin_memory=True\n",
    "    )\n",
    "\n",
    "taf_source = Traditional_Accessor_Factory(\n",
    "    labels=p.labels,\n",
    "    domains=p.domains_source,\n",
    "    num_examples_per_domain_per_label=p.num_examples_per_domain_per_label_source,\n",
    "    pickle_path=os.path.join(get_datasets_base_path(), p.pickle_name_source),\n",
    "    seed=p.dataset_seed\n",
    ")\n",
    "train_original_source, val_original_source, test_original_source = \\\n",
    "    taf_source.get_train(), taf_source.get_val(), taf_source.get_test()\n",
    "\n",
    "\n",
    "taf_target = Traditional_Accessor_Factory(\n",
    "    labels=p.labels,\n",
    "    domains=p.domains_target,\n",
    "    num_examples_per_domain_per_label=p.num_examples_per_domain_per_label_source,\n",
    "    pickle_path=os.path.join(get_datasets_base_path(), p.pickle_name_target),\n",
    "    seed=p.dataset_seed\n",
    ")\n",
    "train_original_target, val_original_target, test_original_target = \\\n",
    "    taf_target.get_train(), taf_target.get_val(), taf_target.get_test()\n",
    "\n",
    "\n",
    "# For CNN We only use X and Y. And we only train on the source.\n",
    "# Properly form the data using a transform lambda and Lazy_Map. Finally wrap them in a dataloader\n",
    "\n",
    "transform_lambda = lambda ex: ex[:2] # Strip the tuple to just (x,y)\n",
    "\n",
    "\n",
    "train_processed_source = wrap_in_dataloader(\n",
    "    p,\n",
    "    Lazy_Map(train_original_source, transform_lambda)\n",
    ")\n",
    "val_processed_source = wrap_in_dataloader(\n",
    "    p,\n",
    "    Lazy_Map(val_original_source, transform_lambda)\n",
    ")\n",
    "test_processed_source = wrap_in_dataloader(\n",
    "    p,\n",
    "    Lazy_Map(test_original_source, transform_lambda)\n",
    ")\n",
    "\n",
    "train_processed_target = wrap_in_dataloader(\n",
    "    p,\n",
    "    Lazy_Map(train_original_target, transform_lambda)\n",
    ")\n",
    "val_processed_target = wrap_in_dataloader(\n",
    "    p,\n",
    "    Lazy_Map(val_original_target, transform_lambda)\n",
    ")\n",
    "test_processed_target  = wrap_in_dataloader(\n",
    "    p,\n",
    "    Lazy_Map(test_original_target, transform_lambda)\n",
    ")\n",
    "\n",
    "\n",
    "\n",
    "datasets = EasyDict({\n",
    "    \"source\": {\n",
    "        \"original\": {\"train\":train_original_source, \"val\":val_original_source, \"test\":test_original_source},\n",
    "        \"processed\": {\"train\":train_processed_source, \"val\":val_processed_source, \"test\":test_processed_source}\n",
    "    },\n",
    "    \"target\": {\n",
    "        \"original\": {\"train\":train_original_target, \"val\":val_original_target, \"test\":test_original_target},\n",
    "        \"processed\": {\"train\":train_processed_target, \"val\":val_processed_target, \"test\":test_processed_target}\n",
    "    },\n",
    "})"
   ]
  },
  {
   "cell_type": "code",
   "execution_count": 11,
   "id": "a11b26bd",
   "metadata": {
    "execution": {
     "iopub.execute_input": "2022-03-25T21:00:52.228514Z",
     "iopub.status.busy": "2022-03-25T21:00:52.227690Z",
     "iopub.status.idle": "2022-03-25T21:00:57.923687Z",
     "shell.execute_reply": "2022-03-25T21:00:57.924398Z"
    },
    "papermill": {
     "duration": 5.793909,
     "end_time": "2022-03-25T21:00:57.924608",
     "exception": false,
     "start_time": "2022-03-25T21:00:52.130699",
     "status": "completed"
    },
    "tags": []
   },
   "outputs": [
    {
     "data": {
      "text/plain": [
       "torch.float32"
      ]
     },
     "execution_count": 11,
     "metadata": {},
     "output_type": "execute_result"
    }
   ],
   "source": [
    "ep = next(iter(test_processed_target))\n",
    "ep[0].dtype"
   ]
  },
  {
   "cell_type": "code",
   "execution_count": 12,
   "id": "19425fad",
   "metadata": {
    "execution": {
     "iopub.execute_input": "2022-03-25T21:00:57.964098Z",
     "iopub.status.busy": "2022-03-25T21:00:57.963724Z",
     "iopub.status.idle": "2022-03-25T21:00:58.009813Z",
     "shell.execute_reply": "2022-03-25T21:00:58.010464Z"
    },
    "papermill": {
     "duration": 0.066389,
     "end_time": "2022-03-25T21:00:58.010653",
     "exception": false,
     "start_time": "2022-03-25T21:00:57.944264",
     "status": "completed"
    },
    "tags": []
   },
   "outputs": [],
   "source": [
    "model = Configurable_Vanilla(\n",
    "    x_net=x_net,\n",
    "    label_loss_object=torch.nn.NLLLoss(),\n",
    "    learning_rate=p.lr\n",
    ")"
   ]
  },
  {
   "cell_type": "code",
   "execution_count": 13,
   "id": "7f6d4f2c",
   "metadata": {
    "execution": {
     "iopub.execute_input": "2022-03-25T21:00:58.054587Z",
     "iopub.status.busy": "2022-03-25T21:00:58.053767Z",
     "iopub.status.idle": "2022-03-25T21:02:04.515247Z",
     "shell.execute_reply": "2022-03-25T21:02:04.514523Z"
    },
    "papermill": {
     "duration": 66.484464,
     "end_time": "2022-03-25T21:02:04.515433",
     "exception": false,
     "start_time": "2022-03-25T21:00:58.030969",
     "status": "completed"
    },
    "tags": []
   },
   "outputs": [
    {
     "name": "stdout",
     "output_type": "stream",
     "text": [
      "epoch: 1, [batch: 1 / 568], examples_per_second: 706.1155, train_label_loss: 4.0031, \n"
     ]
    },
    {
     "name": "stdout",
     "output_type": "stream",
     "text": [
      "epoch: 1, [batch: 57 / 568], examples_per_second: 10390.9936, train_label_loss: 2.7564, \n"
     ]
    },
    {
     "name": "stdout",
     "output_type": "stream",
     "text": [
      "epoch: 1, [batch: 114 / 568], examples_per_second: 10724.2331, train_label_loss: 1.9552, \n"
     ]
    },
    {
     "name": "stdout",
     "output_type": "stream",
     "text": [
      "epoch: 1, [batch: 171 / 568], examples_per_second: 10560.4802, train_label_loss: 1.4388, \n"
     ]
    },
    {
     "name": "stdout",
     "output_type": "stream",
     "text": [
      "epoch: 1, [batch: 227 / 568], examples_per_second: 10622.3854, train_label_loss: 1.0163, \n"
     ]
    },
    {
     "name": "stdout",
     "output_type": "stream",
     "text": [
      "epoch: 1, [batch: 284 / 568], examples_per_second: 10694.4117, train_label_loss: 0.6511, \n"
     ]
    },
    {
     "name": "stdout",
     "output_type": "stream",
     "text": [
      "epoch: 1, [batch: 341 / 568], examples_per_second: 10797.6730, train_label_loss: 0.5175, \n"
     ]
    },
    {
     "name": "stdout",
     "output_type": "stream",
     "text": [
      "epoch: 1, [batch: 397 / 568], examples_per_second: 10473.3952, train_label_loss: 0.3775, \n"
     ]
    },
    {
     "name": "stdout",
     "output_type": "stream",
     "text": [
      "epoch: 1, [batch: 454 / 568], examples_per_second: 10330.7283, train_label_loss: 0.2995, \n"
     ]
    },
    {
     "name": "stdout",
     "output_type": "stream",
     "text": [
      "epoch: 1, [batch: 511 / 568], examples_per_second: 10654.7078, train_label_loss: 0.2441, \n"
     ]
    },
    {
     "name": "stdout",
     "output_type": "stream",
     "text": [
      "=============================================================\n",
      "epoch: 1, source_val_acc_label: 0.9648, source_val_label_loss: 0.2384, target_val_acc_label: 0.8179, target_val_label_loss: 0.8039, \n",
      "=============================================================\n"
     ]
    },
    {
     "name": "stdout",
     "output_type": "stream",
     "text": [
      "New best\n",
      "epoch: 2, [batch: 1 / 568], examples_per_second: 101.1170, train_label_loss: 0.2353, \n"
     ]
    },
    {
     "name": "stdout",
     "output_type": "stream",
     "text": [
      "epoch: 2, [batch: 57 / 568], examples_per_second: 10651.5930, train_label_loss: 0.1790, \n"
     ]
    },
    {
     "name": "stdout",
     "output_type": "stream",
     "text": [
      "epoch: 2, [batch: 114 / 568], examples_per_second: 10560.1048, train_label_loss: 0.1454, \n"
     ]
    },
    {
     "name": "stdout",
     "output_type": "stream",
     "text": [
      "epoch: 2, [batch: 171 / 568], examples_per_second: 10757.1283, train_label_loss: 0.1106, \n"
     ]
    },
    {
     "name": "stdout",
     "output_type": "stream",
     "text": [
      "epoch: 2, [batch: 227 / 568], examples_per_second: 10754.3602, train_label_loss: 0.0990, \n"
     ]
    },
    {
     "name": "stdout",
     "output_type": "stream",
     "text": [
      "epoch: 2, [batch: 284 / 568], examples_per_second: 10589.5876, train_label_loss: 0.1034, \n"
     ]
    },
    {
     "name": "stdout",
     "output_type": "stream",
     "text": [
      "epoch: 2, [batch: 341 / 568], examples_per_second: 10576.7920, train_label_loss: 0.1015, \n"
     ]
    },
    {
     "name": "stdout",
     "output_type": "stream",
     "text": [
      "epoch: 2, [batch: 397 / 568], examples_per_second: 10742.6591, train_label_loss: 0.0547, \n"
     ]
    },
    {
     "name": "stdout",
     "output_type": "stream",
     "text": [
      "epoch: 2, [batch: 454 / 568], examples_per_second: 10694.6434, train_label_loss: 0.0665, \n"
     ]
    },
    {
     "name": "stdout",
     "output_type": "stream",
     "text": [
      "epoch: 2, [batch: 511 / 568], examples_per_second: 10781.2051, train_label_loss: 0.0769, \n"
     ]
    },
    {
     "name": "stdout",
     "output_type": "stream",
     "text": [
      "=============================================================\n",
      "epoch: 2, source_val_acc_label: 0.9890, source_val_label_loss: 0.0855, target_val_acc_label: 0.8406, target_val_label_loss: 0.6002, \n",
      "=============================================================\n"
     ]
    },
    {
     "name": "stdout",
     "output_type": "stream",
     "text": [
      "New best\n",
      "epoch: 3, [batch: 1 / 568], examples_per_second: 117.6993, train_label_loss: 0.1025, \n"
     ]
    },
    {
     "name": "stdout",
     "output_type": "stream",
     "text": [
      "epoch: 3, [batch: 57 / 568], examples_per_second: 10639.7115, train_label_loss: 0.1129, \n"
     ]
    },
    {
     "name": "stdout",
     "output_type": "stream",
     "text": [
      "epoch: 3, [batch: 114 / 568], examples_per_second: 10704.8829, train_label_loss: 0.0484, \n"
     ]
    },
    {
     "name": "stdout",
     "output_type": "stream",
     "text": [
      "epoch: 3, [batch: 171 / 568], examples_per_second: 10843.6672, train_label_loss: 0.0568, \n"
     ]
    },
    {
     "name": "stdout",
     "output_type": "stream",
     "text": [
      "epoch: 3, [batch: 227 / 568], examples_per_second: 10738.7452, train_label_loss: 0.0576, \n"
     ]
    },
    {
     "name": "stdout",
     "output_type": "stream",
     "text": [
      "epoch: 3, [batch: 284 / 568], examples_per_second: 10776.8540, train_label_loss: 0.0421, \n"
     ]
    },
    {
     "name": "stdout",
     "output_type": "stream",
     "text": [
      "epoch: 3, [batch: 341 / 568], examples_per_second: 10683.1590, train_label_loss: 0.0228, \n"
     ]
    },
    {
     "name": "stdout",
     "output_type": "stream",
     "text": [
      "epoch: 3, [batch: 397 / 568], examples_per_second: 10789.4310, train_label_loss: 0.0297, \n"
     ]
    },
    {
     "name": "stdout",
     "output_type": "stream",
     "text": [
      "epoch: 3, [batch: 454 / 568], examples_per_second: 10809.3593, train_label_loss: 0.0164, \n"
     ]
    },
    {
     "name": "stdout",
     "output_type": "stream",
     "text": [
      "epoch: 3, [batch: 511 / 568], examples_per_second: 10731.4388, train_label_loss: 0.0206, \n"
     ]
    },
    {
     "name": "stdout",
     "output_type": "stream",
     "text": [
      "=============================================================\n",
      "epoch: 3, source_val_acc_label: 0.9937, source_val_label_loss: 0.0467, target_val_acc_label: 0.8509, target_val_label_loss: 0.6050, \n",
      "=============================================================\n"
     ]
    },
    {
     "name": "stdout",
     "output_type": "stream",
     "text": [
      "New best\n",
      "epoch: 4, [batch: 1 / 568], examples_per_second: 121.6596, train_label_loss: 0.0314, \n"
     ]
    },
    {
     "name": "stdout",
     "output_type": "stream",
     "text": [
      "epoch: 4, [batch: 57 / 568], examples_per_second: 10734.9875, train_label_loss: 0.0788, \n"
     ]
    },
    {
     "name": "stdout",
     "output_type": "stream",
     "text": [
      "epoch: 4, [batch: 114 / 568], examples_per_second: 10673.0616, train_label_loss: 0.0338, \n"
     ]
    },
    {
     "name": "stdout",
     "output_type": "stream",
     "text": [
      "epoch: 4, [batch: 171 / 568], examples_per_second: 10784.4156, train_label_loss: 0.0193, \n"
     ]
    },
    {
     "name": "stdout",
     "output_type": "stream",
     "text": [
      "epoch: 4, [batch: 227 / 568], examples_per_second: 10533.2795, train_label_loss: 0.0199, \n"
     ]
    },
    {
     "name": "stdout",
     "output_type": "stream",
     "text": [
      "epoch: 4, [batch: 284 / 568], examples_per_second: 10795.8827, train_label_loss: 0.0252, \n"
     ]
    },
    {
     "name": "stdout",
     "output_type": "stream",
     "text": [
      "epoch: 4, [batch: 341 / 568], examples_per_second: 10793.5180, train_label_loss: 0.0159, \n"
     ]
    },
    {
     "name": "stdout",
     "output_type": "stream",
     "text": [
      "epoch: 4, [batch: 397 / 568], examples_per_second: 10756.0608, train_label_loss: 0.0267, \n"
     ]
    },
    {
     "name": "stdout",
     "output_type": "stream",
     "text": [
      "epoch: 4, [batch: 454 / 568], examples_per_second: 10690.5187, train_label_loss: 0.0303, \n"
     ]
    },
    {
     "name": "stdout",
     "output_type": "stream",
     "text": [
      "epoch: 4, [batch: 511 / 568], examples_per_second: 10823.5892, train_label_loss: 0.0221, \n"
     ]
    },
    {
     "name": "stdout",
     "output_type": "stream",
     "text": [
      "=============================================================\n",
      "epoch: 4, source_val_acc_label: 0.9957, source_val_label_loss: 0.0230, target_val_acc_label: 0.8601, target_val_label_loss: 0.5608, \n",
      "=============================================================\n"
     ]
    },
    {
     "name": "stdout",
     "output_type": "stream",
     "text": [
      "New best\n",
      "epoch: 5, [batch: 1 / 568], examples_per_second: 123.7285, train_label_loss: 0.0122, \n"
     ]
    },
    {
     "name": "stdout",
     "output_type": "stream",
     "text": [
      "epoch: 5, [batch: 57 / 568], examples_per_second: 10479.2361, train_label_loss: 0.0140, \n"
     ]
    },
    {
     "name": "stdout",
     "output_type": "stream",
     "text": [
      "epoch: 5, [batch: 114 / 568], examples_per_second: 10396.3275, train_label_loss: 0.0073, \n"
     ]
    },
    {
     "name": "stdout",
     "output_type": "stream",
     "text": [
      "epoch: 5, [batch: 171 / 568], examples_per_second: 10654.0215, train_label_loss: 0.0062, \n"
     ]
    },
    {
     "name": "stdout",
     "output_type": "stream",
     "text": [
      "epoch: 5, [batch: 227 / 568], examples_per_second: 10645.5095, train_label_loss: 0.0077, \n"
     ]
    },
    {
     "name": "stdout",
     "output_type": "stream",
     "text": [
      "epoch: 5, [batch: 284 / 568], examples_per_second: 10723.2710, train_label_loss: 0.0094, \n"
     ]
    },
    {
     "name": "stdout",
     "output_type": "stream",
     "text": [
      "epoch: 5, [batch: 341 / 568], examples_per_second: 10483.0193, train_label_loss: 0.0076, \n"
     ]
    },
    {
     "name": "stdout",
     "output_type": "stream",
     "text": [
      "epoch: 5, [batch: 397 / 568], examples_per_second: 10843.4439, train_label_loss: 0.0083, \n"
     ]
    },
    {
     "name": "stdout",
     "output_type": "stream",
     "text": [
      "epoch: 5, [batch: 454 / 568], examples_per_second: 10692.6031, train_label_loss: 0.0083, \n"
     ]
    },
    {
     "name": "stdout",
     "output_type": "stream",
     "text": [
      "epoch: 5, [batch: 511 / 568], examples_per_second: 10606.8865, train_label_loss: 0.0036, \n"
     ]
    },
    {
     "name": "stdout",
     "output_type": "stream",
     "text": [
      "=============================================================\n",
      "epoch: 5, source_val_acc_label: 0.9889, source_val_label_loss: 0.0461, target_val_acc_label: 0.8504, target_val_label_loss: 0.6190, \n",
      "=============================================================\n"
     ]
    },
    {
     "name": "stdout",
     "output_type": "stream",
     "text": [
      "epoch: 6, [batch: 1 / 568], examples_per_second: 121.7599, train_label_loss: 0.0075, \n"
     ]
    },
    {
     "name": "stdout",
     "output_type": "stream",
     "text": [
      "epoch: 6, [batch: 57 / 568], examples_per_second: 10528.1119, train_label_loss: 0.0110, \n"
     ]
    },
    {
     "name": "stdout",
     "output_type": "stream",
     "text": [
      "epoch: 6, [batch: 114 / 568], examples_per_second: 10843.1830, train_label_loss: 0.0092, \n"
     ]
    },
    {
     "name": "stdout",
     "output_type": "stream",
     "text": [
      "epoch: 6, [batch: 171 / 568], examples_per_second: 10730.7576, train_label_loss: 0.0047, \n"
     ]
    },
    {
     "name": "stdout",
     "output_type": "stream",
     "text": [
      "epoch: 6, [batch: 227 / 568], examples_per_second: 10729.2487, train_label_loss: 0.0035, \n"
     ]
    },
    {
     "name": "stdout",
     "output_type": "stream",
     "text": [
      "epoch: 6, [batch: 284 / 568], examples_per_second: 10730.4416, train_label_loss: 0.0034, \n"
     ]
    },
    {
     "name": "stdout",
     "output_type": "stream",
     "text": [
      "epoch: 6, [batch: 341 / 568], examples_per_second: 10779.9708, train_label_loss: 0.0044, \n"
     ]
    },
    {
     "name": "stdout",
     "output_type": "stream",
     "text": [
      "epoch: 6, [batch: 397 / 568], examples_per_second: 10759.5175, train_label_loss: 0.0069, \n"
     ]
    },
    {
     "name": "stdout",
     "output_type": "stream",
     "text": [
      "epoch: 6, [batch: 454 / 568], examples_per_second: 10648.3421, train_label_loss: 0.0037, \n"
     ]
    },
    {
     "name": "stdout",
     "output_type": "stream",
     "text": [
      "epoch: 6, [batch: 511 / 568], examples_per_second: 10781.5469, train_label_loss: 0.0062, \n"
     ]
    },
    {
     "name": "stdout",
     "output_type": "stream",
     "text": [
      "=============================================================\n",
      "epoch: 6, source_val_acc_label: 0.9897, source_val_label_loss: 0.0348, target_val_acc_label: 0.8450, target_val_label_loss: 0.6116, \n",
      "=============================================================\n"
     ]
    },
    {
     "name": "stdout",
     "output_type": "stream",
     "text": [
      "epoch: 7, [batch: 1 / 568], examples_per_second: 123.2138, train_label_loss: 0.0127, \n"
     ]
    },
    {
     "name": "stdout",
     "output_type": "stream",
     "text": [
      "epoch: 7, [batch: 57 / 568], examples_per_second: 10433.3458, train_label_loss: 0.0024, \n"
     ]
    },
    {
     "name": "stdout",
     "output_type": "stream",
     "text": [
      "epoch: 7, [batch: 114 / 568], examples_per_second: 10712.2651, train_label_loss: 0.0078, \n"
     ]
    },
    {
     "name": "stdout",
     "output_type": "stream",
     "text": [
      "epoch: 7, [batch: 171 / 568], examples_per_second: 10688.5995, train_label_loss: 0.0054, \n"
     ]
    },
    {
     "name": "stdout",
     "output_type": "stream",
     "text": [
      "epoch: 7, [batch: 227 / 568], examples_per_second: 10724.8434, train_label_loss: 0.0052, \n"
     ]
    },
    {
     "name": "stdout",
     "output_type": "stream",
     "text": [
      "epoch: 7, [batch: 284 / 568], examples_per_second: 10818.1826, train_label_loss: 0.0038, \n"
     ]
    },
    {
     "name": "stdout",
     "output_type": "stream",
     "text": [
      "epoch: 7, [batch: 341 / 568], examples_per_second: 10731.6457, train_label_loss: 0.0022, \n"
     ]
    },
    {
     "name": "stdout",
     "output_type": "stream",
     "text": [
      "epoch: 7, [batch: 397 / 568], examples_per_second: 10704.1970, train_label_loss: 0.0029, \n"
     ]
    },
    {
     "name": "stdout",
     "output_type": "stream",
     "text": [
      "epoch: 7, [batch: 454 / 568], examples_per_second: 10838.5092, train_label_loss: 0.0056, \n"
     ]
    },
    {
     "name": "stdout",
     "output_type": "stream",
     "text": [
      "epoch: 7, [batch: 511 / 568], examples_per_second: 10824.2783, train_label_loss: 0.0121, \n"
     ]
    },
    {
     "name": "stdout",
     "output_type": "stream",
     "text": [
      "=============================================================\n",
      "epoch: 7, source_val_acc_label: 0.9611, source_val_label_loss: 0.2177, target_val_acc_label: 0.8245, target_val_label_loss: 0.8021, \n",
      "=============================================================\n"
     ]
    },
    {
     "name": "stdout",
     "output_type": "stream",
     "text": [
      "epoch: 8, [batch: 1 / 568], examples_per_second: 123.6576, train_label_loss: 0.0893, \n"
     ]
    },
    {
     "name": "stdout",
     "output_type": "stream",
     "text": [
      "epoch: 8, [batch: 57 / 568], examples_per_second: 10554.2122, train_label_loss: 0.0165, \n"
     ]
    },
    {
     "name": "stdout",
     "output_type": "stream",
     "text": [
      "epoch: 8, [batch: 114 / 568], examples_per_second: 10741.1192, train_label_loss: 0.0081, \n"
     ]
    },
    {
     "name": "stdout",
     "output_type": "stream",
     "text": [
      "epoch: 8, [batch: 171 / 568], examples_per_second: 10531.9926, train_label_loss: 0.0067, \n"
     ]
    },
    {
     "name": "stdout",
     "output_type": "stream",
     "text": [
      "epoch: 8, [batch: 227 / 568], examples_per_second: 10718.9701, train_label_loss: 0.0025, \n"
     ]
    },
    {
     "name": "stdout",
     "output_type": "stream",
     "text": [
      "epoch: 8, [batch: 284 / 568], examples_per_second: 10793.5523, train_label_loss: 0.0089, \n"
     ]
    },
    {
     "name": "stdout",
     "output_type": "stream",
     "text": [
      "epoch: 8, [batch: 341 / 568], examples_per_second: 10735.7796, train_label_loss: 0.0044, \n"
     ]
    },
    {
     "name": "stdout",
     "output_type": "stream",
     "text": [
      "epoch: 8, [batch: 397 / 568], examples_per_second: 10785.8235, train_label_loss: 0.0061, \n"
     ]
    },
    {
     "name": "stdout",
     "output_type": "stream",
     "text": [
      "epoch: 8, [batch: 454 / 568], examples_per_second: 10824.0984, train_label_loss: 0.0019, \n"
     ]
    },
    {
     "name": "stdout",
     "output_type": "stream",
     "text": [
      "epoch: 8, [batch: 511 / 568], examples_per_second: 10766.0446, train_label_loss: 0.0088, \n"
     ]
    },
    {
     "name": "stdout",
     "output_type": "stream",
     "text": [
      "=============================================================\n",
      "epoch: 8, source_val_acc_label: 0.9959, source_val_label_loss: 0.0142, target_val_acc_label: 0.8513, target_val_label_loss: 0.5674, \n",
      "=============================================================\n"
     ]
    },
    {
     "name": "stdout",
     "output_type": "stream",
     "text": [
      "Patience (3) exhausted\n"
     ]
    }
   ],
   "source": [
    "jig = Vanilla_Train_Eval_Test_Jig(\n",
    "    model=model,\n",
    "    path_to_best_model=p.BEST_MODEL_PATH,\n",
    "    device=p.device,\n",
    "    label_loss_object=torch.nn.NLLLoss(),\n",
    ")\n",
    "\n",
    "jig.train(\n",
    "    train_iterable=datasets.source.processed.train,\n",
    "    source_val_iterable=datasets.source.processed.val,\n",
    "    target_val_iterable=datasets.target.processed.val,\n",
    "    patience=p.patience,\n",
    "    num_epochs=p.n_epoch,\n",
    "    num_logs_per_epoch=p.NUM_LOGS_PER_EPOCH,\n",
    "    criteria_for_best=p.criteria_for_best\n",
    ")"
   ]
  },
  {
   "cell_type": "code",
   "execution_count": 14,
   "id": "4bc2ac17",
   "metadata": {
    "execution": {
     "iopub.execute_input": "2022-03-25T21:02:04.604708Z",
     "iopub.status.busy": "2022-03-25T21:02:04.604056Z",
     "iopub.status.idle": "2022-03-25T21:02:04.606636Z",
     "shell.execute_reply": "2022-03-25T21:02:04.607154Z"
    },
    "papermill": {
     "duration": 0.04782,
     "end_time": "2022-03-25T21:02:04.607309",
     "exception": false,
     "start_time": "2022-03-25T21:02:04.559489",
     "status": "completed"
    },
    "tags": []
   },
   "outputs": [],
   "source": [
    "total_experiment_time_secs = time.time() - start_time_secs"
   ]
  },
  {
   "cell_type": "code",
   "execution_count": 15,
   "id": "cae88f23",
   "metadata": {
    "execution": {
     "iopub.execute_input": "2022-03-25T21:02:04.698161Z",
     "iopub.status.busy": "2022-03-25T21:02:04.697185Z",
     "iopub.status.idle": "2022-03-25T21:02:16.153513Z",
     "shell.execute_reply": "2022-03-25T21:02:16.152949Z"
    },
    "papermill": {
     "duration": 11.504288,
     "end_time": "2022-03-25T21:02:16.153658",
     "exception": false,
     "start_time": "2022-03-25T21:02:04.649370",
     "status": "completed"
    },
    "tags": []
   },
   "outputs": [],
   "source": [
    "source_test_label_accuracy, source_test_label_loss = jig.test(datasets.source.processed.test)\n",
    "target_test_label_accuracy, target_test_label_loss = jig.test(datasets.target.processed.test)\n",
    "\n",
    "source_val_label_accuracy, source_val_label_loss = jig.test(datasets.source.processed.val)\n",
    "target_val_label_accuracy, target_val_label_loss = jig.test(datasets.target.processed.val)\n",
    "\n",
    "history = jig.get_history()\n",
    "\n",
    "total_epochs_trained = len(history[\"epoch_indices\"])\n",
    "\n",
    "val_dl = wrap_in_dataloader(p, Sequence_Aggregator((datasets.source.original.val, datasets.target.original.val)))\n",
    "\n",
    "confusion = confusion_by_domain_over_dataloader(model, p.device, val_dl, forward_uses_domain=False)\n",
    "per_domain_accuracy = per_domain_accuracy_from_confusion(confusion)\n",
    "\n",
    "# Add a key to per_domain_accuracy for if it was a source domain\n",
    "for domain, accuracy in per_domain_accuracy.items():\n",
    "    per_domain_accuracy[domain] = {\n",
    "        \"accuracy\": accuracy,\n",
    "        \"source?\": domain in p.domains_source\n",
    "    }\n",
    "\n",
    "# Do an independent accuracy assesment JUST TO BE SURE!\n",
    "# _source_test_label_accuracy = independent_accuracy_assesment(model, datasets.source.processed.test, p.device)\n",
    "# _target_test_label_accuracy = independent_accuracy_assesment(model, datasets.target.processed.test, p.device)\n",
    "# _source_val_label_accuracy = independent_accuracy_assesment(model, datasets.source.processed.val, p.device)\n",
    "# _target_val_label_accuracy = independent_accuracy_assesment(model, datasets.target.processed.val, p.device)\n",
    "\n",
    "# assert(_source_test_label_accuracy == source_test_label_accuracy)\n",
    "# assert(_target_test_label_accuracy == target_test_label_accuracy)\n",
    "# assert(_source_val_label_accuracy == source_val_label_accuracy)\n",
    "# assert(_target_val_label_accuracy == target_val_label_accuracy)\n",
    "\n",
    "###################################\n",
    "# Write out the results\n",
    "###################################\n",
    "\n",
    "experiment = {\n",
    "    \"experiment_name\": p.experiment_name,\n",
    "    \"parameters\": p,\n",
    "    \"results\": {\n",
    "        \"source_test_label_accuracy\": source_test_label_accuracy,\n",
    "        \"source_test_label_loss\": source_test_label_loss,\n",
    "        \"target_test_label_accuracy\": target_test_label_accuracy,\n",
    "        \"target_test_label_loss\": target_test_label_loss,\n",
    "        \"source_val_label_accuracy\": source_val_label_accuracy,\n",
    "        \"source_val_label_loss\": source_val_label_loss,\n",
    "        \"target_val_label_accuracy\": target_val_label_accuracy,\n",
    "        \"target_val_label_loss\": target_val_label_loss,\n",
    "        \"total_epochs_trained\": total_epochs_trained,\n",
    "        \"total_experiment_time_secs\": total_experiment_time_secs,\n",
    "        \"confusion\": confusion,\n",
    "        \"per_domain_accuracy\": per_domain_accuracy,\n",
    "    },\n",
    "    \"history\": history,\n",
    "    \"dataset_metrics\": get_dataset_metrics(datasets, \"cnn\"),\n",
    "}"
   ]
  },
  {
   "cell_type": "code",
   "execution_count": 16,
   "id": "74c318cf",
   "metadata": {
    "execution": {
     "iopub.execute_input": "2022-03-25T21:02:16.258062Z",
     "iopub.status.busy": "2022-03-25T21:02:16.257539Z",
     "iopub.status.idle": "2022-03-25T21:02:16.467380Z",
     "shell.execute_reply": "2022-03-25T21:02:16.467719Z"
    },
    "papermill": {
     "duration": 0.270366,
     "end_time": "2022-03-25T21:02:16.467857",
     "exception": false,
     "start_time": "2022-03-25T21:02:16.197491",
     "status": "completed"
    },
    "tags": []
   },
   "outputs": [
    {
     "data": {
      "text/plain": [
       "<AxesSubplot:title={'center':'Source Train Label Loss vs Source Val Label Loss'}, xlabel='Epoch'>"
      ]
     },
     "execution_count": 16,
     "metadata": {},
     "output_type": "execute_result"
    },
    {
     "data": {
      "image/png": "[encoded data removed]",
      "text/plain": [
       "<Figure size 1080x504 with 1 Axes>"
      ]
     },
     "metadata": {
      "needs_background": "light"
     },
     "output_type": "display_data"
    }
   ],
   "source": [
    "get_loss_curve(experiment)"
   ]
  },
  {
   "cell_type": "code",
   "execution_count": 17,
   "id": "59376601",
   "metadata": {
    "execution": {
     "iopub.execute_input": "2022-03-25T21:02:16.570633Z",
     "iopub.status.busy": "2022-03-25T21:02:16.570095Z",
     "iopub.status.idle": "2022-03-25T21:02:16.867098Z",
     "shell.execute_reply": "2022-03-25T21:02:16.867417Z"
    },
    "papermill": {
     "duration": 0.359528,
     "end_time": "2022-03-25T21:02:16.867579",
     "exception": false,
     "start_time": "2022-03-25T21:02:16.508051",
     "status": "completed"
    },
    "tags": []
   },
   "outputs": [
    {
     "data": {
      "text/plain": [
       "<AxesSubplot:title={'center':'Results'}>"
      ]
     },
     "execution_count": 17,
     "metadata": {},
     "output_type": "execute_result"
    },
    {
     "data": {
      "image/png": "[encoded data removed]",
      "text/plain": [
       "<Figure size 1080x504 with 1 Axes>"
      ]
     },
     "metadata": {
      "needs_background": "light"
     },
     "output_type": "display_data"
    }
   ],
   "source": [
    "get_results_table(experiment)"
   ]
  },
  {
   "cell_type": "code",
   "execution_count": 18,
   "id": "e80c5c98",
   "metadata": {
    "execution": {
     "iopub.execute_input": "2022-03-25T21:02:16.972379Z",
     "iopub.status.busy": "2022-03-25T21:02:16.965612Z",
     "iopub.status.idle": "2022-03-25T21:02:17.119754Z",
     "shell.execute_reply": "2022-03-25T21:02:17.119368Z"
    },
    "papermill": {
     "duration": 0.210736,
     "end_time": "2022-03-25T21:02:17.119863",
     "exception": false,
     "start_time": "2022-03-25T21:02:16.909127",
     "status": "completed"
    },
    "tags": []
   },
   "outputs": [
    {
     "data": {
      "text/plain": [
       "<AxesSubplot:title={'center':'Per Domain Accuracy'}, xlabel='domain'>"
      ]
     },
     "execution_count": 18,
     "metadata": {},
     "output_type": "execute_result"
    },
    {
     "data": {
      "image/png": "[encoded data removed]",
      "text/plain": [
       "<Figure size 1080x504 with 1 Axes>"
      ]
     },
     "metadata": {
      "needs_background": "light"
     },
     "output_type": "display_data"
    }
   ],
   "source": [
    "get_domain_accuracies(experiment)"
   ]
  },
  {
   "cell_type": "code",
   "execution_count": 19,
   "id": "086fdd10",
   "metadata": {
    "execution": {
     "iopub.execute_input": "2022-03-25T21:02:17.210772Z",
     "iopub.status.busy": "2022-03-25T21:02:17.210324Z",
     "iopub.status.idle": "2022-03-25T21:02:17.213785Z",
     "shell.execute_reply": "2022-03-25T21:02:17.213461Z"
    },
    "papermill": {
     "duration": 0.049156,
     "end_time": "2022-03-25T21:02:17.213862",
     "exception": false,
     "start_time": "2022-03-25T21:02:17.164706",
     "status": "completed"
    },
    "tags": []
   },
   "outputs": [
    {
     "name": "stdout",
     "output_type": "stream",
     "text": [
      "Source Test Label Accuracy: 0.9955328653477984 Target Test Label Accuracy: 0.8570013061298023\n",
      "Source Val Label Accuracy: 0.9956799277838674 Target Val Label Accuracy: 0.8601366742596811\n"
     ]
    }
   ],
   "source": [
    "print(\"Source Test Label Accuracy:\", experiment[\"results\"][\"source_test_label_accuracy\"], \"Target Test Label Accuracy:\", experiment[\"results\"][\"target_test_label_accuracy\"])\n",
    "print(\"Source Val Label Accuracy:\", experiment[\"results\"][\"source_val_label_accuracy\"], \"Target Val Label Accuracy:\", experiment[\"results\"][\"target_val_label_accuracy\"])"
   ]
  },
  {
   "cell_type": "code",
   "execution_count": 20,
   "id": "9f450536",
   "metadata": {
    "execution": {
     "iopub.execute_input": "2022-03-25T21:02:17.304535Z",
     "iopub.status.busy": "2022-03-25T21:02:17.304055Z",
     "iopub.status.idle": "2022-03-25T21:02:17.306702Z",
     "shell.execute_reply": "2022-03-25T21:02:17.307014Z"
    },
    "papermill": {
     "duration": 0.048604,
     "end_time": "2022-03-25T21:02:17.307103",
     "exception": false,
     "start_time": "2022-03-25T21:02:17.258499",
     "status": "completed"
    },
    "tags": [
     "experiment_json"
    ]
   },
   "outputs": [
    {
     "data": {
      "text/plain": [
       "'{\"experiment_name\": \"cnn_1:cores\", \"parameters\": {\"experiment_name\": \"cnn_1:cores\", \"device\": \"cuda\", \"lr\": 0.0001, \"labels\": [\"1-10.\", \"1-11.\", \"1-15.\", \"1-16.\", \"1-17.\", \"1-18.\", \"1-19.\", \"10-4.\", \"10-7.\", \"11-1.\", \"11-14.\", \"11-17.\", \"11-20.\", \"11-7.\", \"13-20.\", \"13-8.\", \"14-10.\", \"14-11.\", \"14-14.\", \"14-7.\", \"15-1.\", \"15-20.\", \"16-1.\", \"16-16.\", \"17-10.\", \"17-11.\", \"17-2.\", \"19-1.\", \"19-16.\", \"19-19.\", \"19-20.\", \"19-3.\", \"2-10.\", \"2-11.\", \"2-17.\", \"2-18.\", \"2-20.\", \"2-3.\", \"2-4.\", \"2-5.\", \"2-6.\", \"2-7.\", \"2-8.\", \"3-13.\", \"3-18.\", \"3-3.\", \"4-1.\", \"4-10.\", \"4-11.\", \"4-19.\", \"5-5.\", \"6-15.\", \"7-10.\", \"7-14.\", \"8-18.\", \"8-20.\", \"8-3.\", \"8-8.\"], \"batch_size\": 128, \"domains_source\": [1, 5], \"domains_target\": [2, 3, 4], \"normalize_source\": false, \"normalize_target\": false, \"num_examples_per_domain_per_label_source\": -1, \"num_examples_per_domain_per_label_target\": -1, \"torch_default_dtype\": \"torch.float32\", \"n_epoch\": 50, \"patience\": 3, \"criteria_for_best\": \"target_accuracy\", \"x_net\": [{\"class\": \"nnReshape\", \"kargs\": {\"shape\": [-1, 1, 2, 256]}}, {\"class\": \"Conv2d\", \"kargs\": {\"in_channels\": 1, \"out_channels\": 256, \"kernel_size\": [1, 7], \"bias\": false, \"padding\": [0, 3]}}, {\"class\": \"ReLU\", \"kargs\": {\"inplace\": true}}, {\"class\": \"BatchNorm2d\", \"kargs\": {\"num_features\": 256}}, {\"class\": \"Conv2d\", \"kargs\": {\"in_channels\": 256, \"out_channels\": 80, \"kernel_size\": [2, 7], \"bias\": true, \"padding\": [0, 3]}}, {\"class\": \"ReLU\", \"kargs\": {\"inplace\": true}}, {\"class\": \"BatchNorm2d\", \"kargs\": {\"num_features\": 80}}, {\"class\": \"Flatten\", \"kargs\": {}}, {\"class\": \"Linear\", \"kargs\": {\"in_features\": 20480, \"out_features\": 256}}, {\"class\": \"ReLU\", \"kargs\": {\"inplace\": true}}, {\"class\": \"BatchNorm1d\", \"kargs\": {\"num_features\": 256}}, {\"class\": \"Linear\", \"kargs\": {\"in_features\": 256, \"out_features\": 58}}], \"NUM_LOGS_PER_EPOCH\": 10, \"BEST_MODEL_PATH\": \"./best_model.pth\", \"pickle_name_source\": \"cores.stratified_ds.2022A.pkl\", \"pickle_name_target\": \"cores.stratified_ds.2022A.pkl\", \"dataset_seed\": 7, \"seed\": 7}, \"results\": {\"source_test_label_accuracy\": 0.9955328653477984, \"source_test_label_loss\": 0.02506261727416782, \"target_test_label_accuracy\": 0.8570013061298023, \"target_test_label_loss\": 0.569069753433096, \"source_val_label_accuracy\": 0.9956799277838674, \"source_val_label_loss\": 0.022969837869196885, \"target_val_label_accuracy\": 0.8601366742596811, \"target_val_label_loss\": 0.5615634405335714, \"total_epochs_trained\": 8, \"total_experiment_time_secs\": 76.20443868637085, \"confusion\": {\"3\": {\"36\": {\"51\": 14, \"8\": 88, \"1\": 24, \"20\": 2}, \"25\": {\"25\": 213}, \"27\": {\"27\": 179, \"30\": 1}, \"9\": {\"9\": 185, \"29\": 5, \"27\": 1}, \"19\": {\"19\": 194}, \"2\": {\"2\": 40, \"7\": 2}, \"48\": {\"48\": 146}, \"22\": {\"22\": 176, \"52\": 1}, \"4\": {\"4\": 185}, \"54\": {\"54\": 123, \"26\": 3}, \"21\": {\"6\": 8, \"12\": 151, \"46\": 1}, \"53\": {\"53\": 184}, \"40\": {\"40\": 173}, \"33\": {\"9\": 36, \"48\": 1, \"32\": 1}, \"39\": {\"14\": 9, \"32\": 15}, \"30\": {\"30\": 150}, \"12\": {\"12\": 90, \"6\": 24, \"46\": 3}, \"51\": {\"51\": 162, \"12\": 1}, \"46\": {\"46\": 167, \"3\": 4, \"6\": 3, \"56\": 2}, \"15\": {\"15\": 199, \"11\": 2}, \"13\": {\"13\": 160}, \"38\": {\"38\": 37}, \"24\": {\"24\": 133}, \"23\": {\"23\": 182}, \"52\": {\"52\": 173, \"1\": 1, \"21\": 1, \"9\": 3}, \"6\": {\"6\": 91, \"3\": 4, \"45\": 8, \"46\": 6, \"50\": 5}, \"10\": {\"10\": 82}, \"57\": {\"57\": 155}, \"55\": {\"55\": 213}, \"8\": {\"8\": 193}, \"42\": {\"2\": 22, \"17\": 5, \"38\": 4, \"23\": 1, \"19\": 6}, \"20\": {\"20\": 166}, \"34\": {\"34\": 43}, \"14\": {\"56\": 20, \"14\": 29, \"29\": 2, \"43\": 1, \"13\": 1}, \"7\": {\"7\": 46}, \"44\": {\"40\": 111, \"45\": 1}, \"29\": {\"29\": 160}, \"1\": {\"1\": 129}, \"16\": {\"16\": 195}, \"17\": {\"17\": 135}, \"50\": {\"6\": 5, \"50\": 176, \"45\": 3, \"46\": 1}, \"45\": {\"45\": 39, \"4\": 34, \"6\": 6}, \"18\": {\"18\": 105}, \"47\": {\"47\": 117, \"57\": 2}, \"11\": {\"11\": 192}, \"43\": {\"43\": 169, \"31\": 1}, \"28\": {\"28\": 34, \"11\": 3}, \"35\": {\"35\": 38}, \"3\": {\"50\": 176, \"46\": 4, \"6\": 5, \"3\": 1}, \"37\": {\"37\": 39}, \"0\": {\"0\": 159}, \"5\": {\"5\": 137, \"45\": 5, \"50\": 5, \"3\": 1}, \"41\": {\"2\": 34, \"38\": 4}, \"56\": {\"56\": 171}, \"31\": {\"31\": 10, \"14\": 23, \"38\": 3}, \"26\": {\"42\": 24, \"39\": 10}, \"49\": {\"49\": 15, \"10\": 9, \"37\": 1}, \"32\": {\"32\": 36}}, \"1\": {\"21\": {\"21\": 157}, \"48\": {\"48\": 186}, \"51\": {\"51\": 199}, \"22\": {\"22\": 174}, \"56\": {\"56\": 209, \"44\": 1}, \"44\": {\"44\": 172}, \"13\": {\"13\": 198}, \"0\": {\"0\": 190, \"3\": 1}, \"30\": {\"30\": 150}, \"33\": {\"33\": 41}, \"4\": {\"4\": 166, \"9\": 1}, \"38\": {\"38\": 32}, \"27\": {\"27\": 204}, \"9\": {\"9\": 198, \"30\": 1}, \"12\": {\"12\": 149}, \"40\": {\"40\": 195}, \"52\": {\"52\": 169}, \"19\": {\"19\": 198, \"17\": 1}, \"29\": {\"29\": 178}, \"53\": {\"53\": 180}, \"47\": {\"47\": 200}, \"11\": {\"11\": 178, \"5\": 1}, \"50\": {\"50\": 196, \"6\": 3}, \"16\": {\"16\": 176, \"10\": 1}, \"46\": {\"46\": 169, \"6\": 2, \"12\": 3, \"50\": 2}, \"2\": {\"2\": 49}, \"10\": {\"10\": 120, \"11\": 1, \"31\": 1}, \"15\": {\"15\": 203}, \"54\": {\"54\": 133}, \"45\": {\"45\": 198}, \"3\": {\"3\": 173, \"50\": 2, \"0\": 3}, \"25\": {\"25\": 181}, \"26\": {\"26\": 30}, \"23\": {\"23\": 172}, \"14\": {\"14\": 32}, \"24\": {\"24\": 135}, \"8\": {\"8\": 178}, \"36\": {\"36\": 81}, \"17\": {\"17\": 81}, \"6\": {\"6\": 121}, \"43\": {\"43\": 184}, \"55\": {\"55\": 286}, \"35\": {\"35\": 48}, \"57\": {\"57\": 181}, \"32\": {\"32\": 42, \"35\": 1}, \"1\": {\"1\": 127, \"57\": 1}, \"5\": {\"5\": 200, \"6\": 5}, \"28\": {\"28\": 36}, \"42\": {\"42\": 50, \"26\": 1}, \"20\": {\"20\": 179}, \"18\": {\"18\": 93}, \"34\": {\"34\": 30}, \"37\": {\"37\": 40}, \"39\": {\"39\": 36}, \"7\": {\"7\": 37}, \"41\": {\"41\": 33}, \"31\": {\"31\": 39}, \"49\": {\"49\": 44}}, \"4\": {\"18\": {\"18\": 137}, \"56\": {\"56\": 193}, \"2\": {\"27\": 33, \"32\": 12}, \"12\": {\"12\": 115}, \"43\": {\"43\": 186}, \"57\": {\"57\": 128, \"27\": 1}, \"21\": {\"12\": 162, \"6\": 7}, \"1\": {\"1\": 53, \"57\": 1}, \"25\": {\"25\": 203}, \"46\": {\"3\": 23, \"46\": 167, \"50\": 1, \"56\": 2, \"6\": 1, \"0\": 1}, \"40\": {\"40\": 188, \"9\": 1}, \"27\": {\"27\": 191, \"9\": 1}, \"6\": {\"6\": 107, \"45\": 6, \"50\": 3, \"46\": 24}, \"44\": {\"44\": 148, \"40\": 17, \"45\": 1}, \"3\": {\"50\": 103, \"6\": 43, \"46\": 12}, \"47\": {\"47\": 152}, \"17\": {\"17\": 99, \"19\": 1}, \"55\": {\"55\": 247}, \"8\": {\"8\": 182}, \"36\": {\"14\": 64, \"1\": 20, \"20\": 28, \"8\": 5, \"38\": 1}, \"52\": {\"52\": 148, \"21\": 1}, \"51\": {\"51\": 183}, \"14\": {\"14\": 19, \"0\": 1}, \"29\": {\"29\": 158, \"27\": 1}, \"35\": {\"35\": 47, \"33\": 3}, \"53\": {\"53\": 176, \"17\": 1}, \"11\": {\"11\": 128, \"15\": 3}, \"50\": {\"50\": 151, \"6\": 15, \"45\": 2}, \"13\": {\"13\": 192}, \"20\": {\"20\": 167, \"46\": 2}, \"7\": {\"39\": 11, \"14\": 5, \"38\": 11, \"31\": 5, \"12\": 1, \"13\": 1}, \"15\": {\"15\": 191, \"11\": 2}, \"38\": {\"38\": 11, \"31\": 30, \"32\": 4, \"43\": 2, \"39\": 1, \"14\": 3}, \"19\": {\"19\": 181, \"27\": 1}, \"0\": {\"0\": 99, \"3\": 1, \"44\": 1, \"56\": 1, \"46\": 1}, \"23\": {\"23\": 183}, \"16\": {\"16\": 124}, \"39\": {\"39\": 27}, \"54\": {\"54\": 139}, \"9\": {\"9\": 190}, \"41\": {\"41\": 44, \"10\": 1}, \"45\": {\"45\": 39, \"4\": 81, \"6\": 2}, \"24\": {\"24\": 70, \"10\": 1}, \"10\": {\"10\": 173}, \"32\": {\"31\": 30, \"32\": 3}, \"48\": {\"48\": 194, \"30\": 1}, \"33\": {\"33\": 46}, \"31\": {\"11\": 30, \"54\": 3, \"14\": 3}, \"5\": {\"5\": 81, \"45\": 21, \"6\": 29, \"50\": 4, \"3\": 1}, \"22\": {\"22\": 129, \"3\": 26, \"52\": 5}, \"4\": {\"4\": 103, \"27\": 62, \"9\": 1}, \"49\": {\"49\": 22, \"42\": 5}, \"26\": {\"32\": 24, \"19\": 3, \"34\": 3, \"23\": 1}, \"34\": {\"34\": 15, \"32\": 10, \"23\": 2, \"18\": 4}, \"30\": {\"30\": 36, \"6\": 22}, \"42\": {\"42\": 43}, \"28\": {\"19\": 33, \"18\": 7, \"23\": 3}, \"37\": {\"37\": 29, \"14\": 1, \"13\": 1}}, \"2\": {\"36\": {\"8\": 73, \"51\": 54, \"1\": 18}, \"48\": {\"48\": 193}, \"52\": {\"52\": 153, \"21\": 2, \"9\": 1}, \"30\": {\"30\": 178, \"9\": 2}, \"40\": {\"40\": 175, \"9\": 1}, \"37\": {\"37\": 46}, \"57\": {\"57\": 181}, \"3\": {\"50\": 112, \"46\": 4, \"6\": 2, \"3\": 1}, \"22\": {\"22\": 174}, \"56\": {\"56\": 170, \"22\": 8, \"28\": 1, \"13\": 1}, \"11\": {\"11\": 197, \"16\": 1}, \"50\": {\"50\": 167, \"6\": 4}, \"9\": {\"9\": 191, \"27\": 3, \"29\": 1}, \"51\": {\"51\": 170}, \"20\": {\"20\": 174, \"8\": 4}, \"6\": {\"6\": 156, \"46\": 2, \"45\": 1}, \"27\": {\"27\": 191, \"8\": 7}, \"12\": {\"46\": 2, \"12\": 115, \"6\": 2}, \"45\": {\"4\": 70, \"45\": 86, \"6\": 6, \"5\": 1}, \"7\": {\"7\": 44, \"38\": 1}, \"1\": {\"1\": 140}, \"53\": {\"53\": 174}, \"10\": {\"10\": 140}, \"24\": {\"24\": 120, \"13\": 1}, \"15\": {\"15\": 192, \"11\": 1, \"16\": 1}, \"19\": {\"19\": 196}, \"17\": {\"17\": 132}, \"23\": {\"23\": 186}, \"43\": {\"43\": 189}, \"16\": {\"16\": 190}, \"25\": {\"25\": 234}, \"54\": {\"54\": 138, \"26\": 1}, \"55\": {\"55\": 211}, \"39\": {\"39\": 34, \"14\": 1}, \"38\": {\"21\": 22, \"49\": 4}, \"13\": {\"13\": 148}, \"46\": {\"46\": 158, \"56\": 1, \"6\": 4, \"3\": 1}, \"42\": {\"19\": 43, \"24\": 1, \"38\": 2, \"31\": 1}, \"49\": {\"37\": 7, \"25\": 25, \"42\": 2}, \"8\": {\"8\": 203}, \"35\": {\"33\": 40, \"40\": 4}, \"29\": {\"29\": 160, \"9\": 1}, \"4\": {\"4\": 199, \"9\": 1}, \"18\": {\"18\": 63}, \"21\": {\"12\": 148, \"46\": 3, \"6\": 3}, \"44\": {\"40\": 124, \"44\": 3, \"45\": 2}, \"47\": {\"47\": 186}, \"2\": {\"36\": 36, \"9\": 2, \"4\": 1, \"27\": 3, \"47\": 2}, \"31\": {\"14\": 26, \"31\": 12}, \"5\": {\"5\": 148, \"45\": 3, \"3\": 1, \"50\": 2}, \"33\": {\"33\": 38}, \"0\": {\"0\": 61}, \"14\": {\"29\": 6, \"14\": 21, \"43\": 3}, \"26\": {\"26\": 34}, \"28\": {\"23\": 21, \"19\": 5, \"34\": 5, \"10\": 1, \"15\": 2, \"18\": 1, \"55\": 1}, \"41\": {\"2\": 13, \"37\": 1, \"30\": 3, \"45\": 1, \"27\": 6, \"32\": 2, \"4\": 1}, \"32\": {\"32\": 36}, \"34\": {\"23\": 11, \"34\": 9, \"32\": 15, \"19\": 1}}, \"5\": {\"52\": {\"52\": 175, \"47\": 1}, \"28\": {\"28\": 41}, \"15\": {\"15\": 209}, \"55\": {\"55\": 249}, \"57\": {\"57\": 168}, \"27\": {\"27\": 203, \"9\": 1}, \"24\": {\"24\": 104}, \"50\": {\"50\": 184, \"45\": 3}, \"9\": {\"9\": 196}, \"7\": {\"7\": 41, \"51\": 1}, \"19\": {\"19\": 194}, \"43\": {\"43\": 192, \"32\": 1}, \"4\": {\"4\": 125}, \"16\": {\"16\": 195}, \"48\": {\"48\": 172, \"9\": 1}, \"0\": {\"0\": 157}, \"29\": {\"29\": 165}, \"10\": {\"10\": 89}, \"11\": {\"11\": 202, \"16\": 1}, \"12\": {\"12\": 122, \"46\": 1}, \"35\": {\"35\": 47}, \"44\": {\"44\": 192}, \"17\": {\"17\": 145}, \"6\": {\"6\": 155, \"45\": 5, \"5\": 1}, \"40\": {\"40\": 158, \"44\": 1}, \"51\": {\"51\": 189, \"12\": 1}, \"3\": {\"3\": 129}, \"36\": {\"36\": 118}, \"25\": {\"25\": 225}, \"13\": {\"13\": 203}, \"45\": {\"45\": 150, \"6\": 7}, \"46\": {\"46\": 187, \"47\": 1}, \"47\": {\"47\": 125}, \"56\": {\"56\": 192, \"21\": 1}, \"31\": {\"31\": 45}, \"53\": {\"53\": 193}, \"21\": {\"21\": 182, \"20\": 1}, \"49\": {\"49\": 46}, \"8\": {\"8\": 191, \"9\": 1}, \"54\": {\"54\": 141}, \"5\": {\"5\": 160, \"45\": 1}, \"20\": {\"20\": 184}, \"14\": {\"14\": 55}, \"42\": {\"42\": 52, \"25\": 1}, \"1\": {\"1\": 187}, \"33\": {\"33\": 44}, \"32\": {\"32\": 44}, \"30\": {\"30\": 160}, \"23\": {\"23\": 157, \"43\": 1}, \"38\": {\"38\": 44}, \"34\": {\"34\": 45}, \"37\": {\"37\": 32}, \"18\": {\"18\": 84}, \"41\": {\"41\": 36}, \"26\": {\"26\": 31, \"17\": 1}, \"2\": {\"2\": 36}, \"22\": {\"22\": 34, \"20\": 1}, \"39\": {\"39\": 25, \"57\": 1}}}, \"per_domain_accuracy\": {\"3\": {\"accuracy\": 0.8678831115379338, \"source?\": false}, \"1\": {\"accuracy\": 0.9959328927300457, \"source?\": true}, \"4\": {\"accuracy\": 0.8453998039490267, \"source?\": false}, \"2\": {\"accuracy\": 0.8666223404255319, \"source?\": false}, \"5\": {\"accuracy\": 0.9954194477162676, \"source?\": true}}}, \"history\": {\"epoch_indices\": [1, 2, 3, 4, 5, 6, 7, 8], \"train_label_loss\": [1.117806716651564, 0.11101815809535098, 0.0610865251944912, 0.031375994436888835, 0.011919190035231123, 0.011050384351901683, 0.008811584197502898, 0.01179573389895844], \"source_val_label_loss\": [0.23843181133270264, 0.08549885784626984, 0.0466805025935173, 0.022959019278832635, 0.04612514685808879, 0.03475991247191292, 0.21770281053804716, 0.014209077402483672], \"target_val_label_loss\": [0.8038996960534606, 0.6001625263760256, 0.6050007994784865, 0.5608005705614423, 0.6189549206647762, 0.6116305172096851, 0.8020710253784823, 0.5673692853644837], \"source_val_acc_label\": [0.9647946353730092, 0.9890386227351861, 0.9936810884002837, 0.9956799277838674, 0.9889096653556, 0.9896834096331163, 0.9610548713650139, 0.9958733638532465], \"target_val_acc_label\": [0.8178587699316628, 0.840637813211845, 0.8509339407744875, 0.8601366742596811, 0.8504328018223235, 0.8450113895216401, 0.8245102505694761, 0.8512528473804101]}, \"dataset_metrics\": {\"source\": {\"train\": {\"n_unique_x\": 72578, \"n_unique_y\": 58, \"n_batch/episode\": 568}, \"val\": {\"n_unique_x\": 15509, \"n_unique_y\": 58, \"n_batch/episode\": 122}, \"test\": {\"n_unique_x\": 15670, \"n_unique_y\": 58, \"n_batch/episode\": 123}}, \"target\": {\"train\": {\"n_unique_x\": 102771, \"n_unique_y\": 58, \"n_batch/episode\": 803}, \"val\": {\"n_unique_x\": 21950, \"n_unique_y\": 58, \"n_batch/episode\": 172}, \"test\": {\"n_unique_x\": 22203, \"n_unique_y\": 58, \"n_batch/episode\": 174}}}}'"
      ]
     },
     "execution_count": 20,
     "metadata": {},
     "output_type": "execute_result"
    }
   ],
   "source": [
    "json.dumps(experiment)"
   ]
  }
 ],
 "metadata": {
  "celltoolbar": "Tags",
  "kernelspec": {
   "display_name": "Python 3 (ipykernel)",
   "language": "python",
   "name": "python3"
  },
  "language_info": {
   "codemirror_mode": {
    "name": "ipython",
    "version": 3
   },
   "file_extension": ".py",
   "mimetype": "text/x-python",
   "name": "python",
   "nbconvert_exporter": "python",
   "pygments_lexer": "ipython3",
   "version": "3.8.12"
  },
  "papermill": {
   "default_parameters": {},
   "duration": 93.29712,
   "end_time": "2022-03-25T21:02:19.165644",
   "environment_variables": {},
   "exception": null,
   "input_path": "/root/csc500-main/csc500-notebooks/templates/cnn_template.ipynb",
   "output_path": "trial.ipynb",
   "parameters": {
    "parameters": {
     "BEST_MODEL_PATH": "./best_model.pth",
     "NUM_LOGS_PER_EPOCH": 10,
     "batch_size": 128,
     "criteria_for_best": "target_accuracy",
     "dataset_seed": 7,
     "device": "cuda",
     "domains_source": [
      1,
      5
     ],
     "domains_target": [
      2,
      3,
      4
     ],
     "experiment_name": "cnn_1:cores",
     "labels": [
      "1-10.",
      "1-11.",
      "1-15.",
      "1-16.",
      "1-17.",
      "1-18.",
      "1-19.",
      "10-4.",
      "10-7.",
      "11-1.",
      "11-14.",
      "11-17.",
      "11-20.",
      "11-7.",
      "13-20.",
      "13-8.",
      "14-10.",
      "14-11.",
      "14-14.",
      "14-7.",
      "15-1.",
      "15-20.",
      "16-1.",
      "16-16.",
      "17-10.",
      "17-11.",
      "17-2.",
      "19-1.",
      "19-16.",
      "19-19.",
      "19-20.",
      "19-3.",
      "2-10.",
      "2-11.",
      "2-17.",
      "2-18.",
      "2-20.",
      "2-3.",
      "2-4.",
      "2-5.",
      "2-6.",
      "2-7.",
      "2-8.",
      "3-13.",
      "3-18.",
      "3-3.",
      "4-1.",
      "4-10.",
      "4-11.",
      "4-19.",
      "5-5.",
      "6-15.",
      "7-10.",
      "7-14.",
      "8-18.",
      "8-20.",
      "8-3.",
      "8-8."
     ],
     "lr": 0.0001,
     "n_epoch": 50,
     "normalize_source": false,
     "normalize_target": false,
     "num_examples_per_domain_per_label_source": -1,
     "num_examples_per_domain_per_label_target": -1,
     "patience": 3,
     "pickle_name_source": "cores.stratified_ds.2022A.pkl",
     "pickle_name_target": "cores.stratified_ds.2022A.pkl",
     "seed": 7,
     "torch_default_dtype": "torch.float32",
     "x_net": [
      {
       "class": "nnReshape",
       "kargs": {
        "shape": [
         -1,
         1,
         2,
         256
        ]
       }
      },
      {
       "class": "Conv2d",
       "kargs": {
        "bias": false,
        "in_channels": 1,
        "kernel_size": [
         1,
         7
        ],
        "out_channels": 256,
        "padding": [
         0,
         3
        ]
       }
      },
      {
       "class": "ReLU",
       "kargs": {
        "inplace": true
       }
      },
      {
       "class": "BatchNorm2d",
       "kargs": {
        "num_features": 256
       }
      },
      {
       "class": "Conv2d",
       "kargs": {
        "bias": true,
        "in_channels": 256,
        "kernel_size": [
         2,
         7
        ],
        "out_channels": 80,
        "padding": [
         0,
         3
        ]
       }
      },
      {
       "class": "ReLU",
       "kargs": {
        "inplace": true
       }
      },
      {
       "class": "BatchNorm2d",
       "kargs": {
        "num_features": 80
       }
      },
      {
       "class": "Flatten",
       "kargs": {}
      },
      {
       "class": "Linear",
       "kargs": {
        "in_features": 20480,
        "out_features": 256
       }
      },
      {
       "class": "ReLU",
       "kargs": {
        "inplace": true
       }
      },
      {
       "class": "BatchNorm1d",
       "kargs": {
        "num_features": 256
       }
      },
      {
       "class": "Linear",
       "kargs": {
        "in_features": 256,
        "out_features": 58
       }
      }
     ]
    }
   },
   "start_time": "2022-03-25T21:00:45.868524",
   "version": "2.3.4"
  }
 },
 "nbformat": 4,
 "nbformat_minor": 5
}