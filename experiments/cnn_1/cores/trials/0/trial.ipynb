{
 "cells": [
  {
   "cell_type": "code",
   "execution_count": 1,
   "id": "2324682e",
   "metadata": {
    "execution": {
     "iopub.execute_input": "2022-03-25T20:37:52.503954Z",
     "iopub.status.busy": "2022-03-25T20:37:52.503064Z",
     "iopub.status.idle": "2022-03-25T20:37:53.818830Z",
     "shell.execute_reply": "2022-03-25T20:37:53.817971Z"
    },
    "papermill": {
     "duration": 1.351261,
     "end_time": "2022-03-25T20:37:53.819042",
     "exception": false,
     "start_time": "2022-03-25T20:37:52.467781",
     "status": "completed"
    },
    "tags": []
   },
   "outputs": [],
   "source": [
    "import os, json, sys, time, random\n",
    "import numpy as np\n",
    "import torch\n",
    "from  easydict import EasyDict\n",
    "from math import floor\n",
    "from easydict import EasyDict\n",
    "\n",
    "from steves_utils.vanilla_train_eval_test_jig import  Vanilla_Train_Eval_Test_Jig\n",
    "\n",
    "from steves_utils.torch_utils import get_dataset_metrics, independent_accuracy_assesment\n",
    "from steves_models.configurable_vanilla import Configurable_Vanilla\n",
    "from steves_utils.torch_sequential_builder import build_sequential\n",
    "from steves_utils.lazy_map import Lazy_Map\n",
    "from steves_utils.sequence_aggregator import Sequence_Aggregator\n",
    "\n",
    "from steves_utils.stratified_dataset.traditional_accessor import Traditional_Accessor_Factory\n",
    "\n",
    "from steves_utils.cnn_do_report import (\n",
    "    get_loss_curve,\n",
    "    get_results_table,\n",
    "    get_parameters_table,\n",
    "    get_domain_accuracies,\n",
    ")\n",
    "\n",
    "from steves_utils.torch_utils import (\n",
    "    confusion_by_domain_over_dataloader,\n",
    "    independent_accuracy_assesment\n",
    ")\n",
    "\n",
    "from steves_utils.utils_v2 import (\n",
    "    per_domain_accuracy_from_confusion,\n",
    "    get_datasets_base_path\n",
    ")\n",
    "\n",
    "# from steves_utils.ptn_do_report import TBD"
   ]
  },
  {
   "cell_type": "code",
   "execution_count": 2,
   "id": "1b29e3fe",
   "metadata": {
    "execution": {
     "iopub.execute_input": "2022-03-25T20:37:53.863056Z",
     "iopub.status.busy": "2022-03-25T20:37:53.862456Z",
     "iopub.status.idle": "2022-03-25T20:37:53.864831Z",
     "shell.execute_reply": "2022-03-25T20:37:53.864340Z"
    },
    "papermill": {
     "duration": 0.026766,
     "end_time": "2022-03-25T20:37:53.864939",
     "exception": false,
     "start_time": "2022-03-25T20:37:53.838173",
     "status": "completed"
    },
    "tags": []
   },
   "outputs": [],
   "source": [
    "required_parameters = {\n",
    "    \"experiment_name\",\n",
    "    \"lr\",\n",
    "    \"device\",\n",
    "    \"dataset_seed\",\n",
    "    \"seed\",\n",
    "    \"labels\",\n",
    "    \"domains_target\",\n",
    "    \"domains_source\",\n",
    "    \"num_examples_per_domain_per_label_source\",\n",
    "    \"num_examples_per_domain_per_label_target\",\n",
    "    \"batch_size\",\n",
    "    \"n_epoch\",\n",
    "    \"patience\",\n",
    "    \"criteria_for_best\",\n",
    "    \"normalize_source\",\n",
    "    \"normalize_target\",\n",
    "    \"x_net\",\n",
    "    \"NUM_LOGS_PER_EPOCH\",\n",
    "    \"BEST_MODEL_PATH\",\n",
    "    \"pickle_name_source\",\n",
    "    \"pickle_name_target\",\n",
    "    \"torch_default_dtype\",\n",
    "}"
   ]
  },
  {
   "cell_type": "code",
   "execution_count": 3,
   "id": "670b5fb8",
   "metadata": {
    "execution": {
     "iopub.execute_input": "2022-03-25T20:37:53.911577Z",
     "iopub.status.busy": "2022-03-25T20:37:53.905295Z",
     "iopub.status.idle": "2022-03-25T20:37:53.920645Z",
     "shell.execute_reply": "2022-03-25T20:37:53.919915Z"
    },
    "papermill": {
     "duration": 0.037142,
     "end_time": "2022-03-25T20:37:53.920805",
     "exception": false,
     "start_time": "2022-03-25T20:37:53.883663",
     "status": "completed"
    },
    "tags": [
     "parameters"
    ]
   },
   "outputs": [],
   "source": [
    "from steves_utils.ORACLE.utils_v2 import (\n",
    "    ALL_SERIAL_NUMBERS,\n",
    "    ALL_DISTANCES_FEET_NARROWED,\n",
    ")\n",
    "\n",
    "standalone_parameters = {}\n",
    "standalone_parameters[\"experiment_name\"] = \"MANUAL CORES CNN\"\n",
    "standalone_parameters[\"lr\"] = 0.0001\n",
    "standalone_parameters[\"device\"] = \"cuda\"\n",
    "\n",
    "standalone_parameters[\"dataset_seed\"] = 1337\n",
    "standalone_parameters[\"seed\"] = 1337\n",
    "standalone_parameters[\"labels\"] = ALL_SERIAL_NUMBERS\n",
    "\n",
    "standalone_parameters[\"domains_source\"] = [8,32,50]\n",
    "standalone_parameters[\"domains_target\"] = [14,20,26,38,44,]\n",
    "\n",
    "standalone_parameters[\"num_examples_per_domain_per_label_source\"]=-1\n",
    "standalone_parameters[\"num_examples_per_domain_per_label_target\"]=-1\n",
    "\n",
    "standalone_parameters[\"pickle_name_source\"] = \"oracle.Run1_framed_2000Examples_stratified_ds.2022A.pkl\"\n",
    "standalone_parameters[\"pickle_name_target\"] = \"oracle.Run2_framed_2000Examples_stratified_ds.2022A.pkl\"\n",
    "\n",
    "standalone_parameters[\"torch_default_dtype\"] = \"torch.float32\" \n",
    "\n",
    "standalone_parameters[\"batch_size\"]=128\n",
    "\n",
    "standalone_parameters[\"n_epoch\"] = 3\n",
    "\n",
    "standalone_parameters[\"patience\"] = 10\n",
    "\n",
    "standalone_parameters[\"criteria_for_best\"] = \"target_accuracy\"\n",
    "standalone_parameters[\"normalize_source\"] = False\n",
    "standalone_parameters[\"normalize_target\"] = False\n",
    "\n",
    "standalone_parameters[\"x_net\"] =     [\n",
    "    {\"class\": \"nnReshape\", \"kargs\": {\"shape\":[-1, 1, 2, 256]}},\n",
    "    {\"class\": \"Conv2d\", \"kargs\": { \"in_channels\":1, \"out_channels\":256, \"kernel_size\":(1,7), \"bias\":False, \"padding\":(0,3), },},\n",
    "    {\"class\": \"ReLU\", \"kargs\": {\"inplace\": True}},\n",
    "    {\"class\": \"BatchNorm2d\", \"kargs\": {\"num_features\":256}},\n",
    "\n",
    "    {\"class\": \"Conv2d\", \"kargs\": { \"in_channels\":256, \"out_channels\":80, \"kernel_size\":(2,7), \"bias\":True, \"padding\":(0,3), },},\n",
    "    {\"class\": \"ReLU\", \"kargs\": {\"inplace\": True}},\n",
    "    {\"class\": \"BatchNorm2d\", \"kargs\": {\"num_features\":80}},\n",
    "    {\"class\": \"Flatten\", \"kargs\": {}},\n",
    "\n",
    "    {\"class\": \"Linear\", \"kargs\": {\"in_features\": 80*256, \"out_features\": 256}}, # 80 units per IQ pair\n",
    "    {\"class\": \"ReLU\", \"kargs\": {\"inplace\": True}},\n",
    "    {\"class\": \"BatchNorm1d\", \"kargs\": {\"num_features\":256}},\n",
    "\n",
    "    {\"class\": \"Linear\", \"kargs\": {\"in_features\": 256, \"out_features\": len(standalone_parameters[\"labels\"])}},\n",
    "]\n",
    "\n",
    "standalone_parameters[\"NUM_LOGS_PER_EPOCH\"] = 10\n",
    "standalone_parameters[\"BEST_MODEL_PATH\"] = \"./best_model.pth\""
   ]
  },
  {
   "cell_type": "code",
   "execution_count": 4,
   "id": "a6ebc419",
   "metadata": {
    "execution": {
     "iopub.execute_input": "2022-03-25T20:37:53.972524Z",
     "iopub.status.busy": "2022-03-25T20:37:53.969901Z",
     "iopub.status.idle": "2022-03-25T20:37:53.974668Z",
     "shell.execute_reply": "2022-03-25T20:37:53.973941Z"
    },
    "papermill": {
     "duration": 0.032012,
     "end_time": "2022-03-25T20:37:53.974826",
     "exception": false,
     "start_time": "2022-03-25T20:37:53.942814",
     "status": "completed"
    },
    "tags": [
     "injected-parameters"
    ]
   },
   "outputs": [],
   "source": [
    "# Parameters\n",
    "parameters = {\n",
    "    \"experiment_name\": \"cnn_1:cores\",\n",
    "    \"device\": \"cuda\",\n",
    "    \"lr\": 0.0001,\n",
    "    \"labels\": [\n",
    "        \"1-10.\",\n",
    "        \"1-11.\",\n",
    "        \"1-15.\",\n",
    "        \"1-16.\",\n",
    "        \"1-17.\",\n",
    "        \"1-18.\",\n",
    "        \"1-19.\",\n",
    "        \"10-4.\",\n",
    "        \"10-7.\",\n",
    "        \"11-1.\",\n",
    "        \"11-14.\",\n",
    "        \"11-17.\",\n",
    "        \"11-20.\",\n",
    "        \"11-7.\",\n",
    "        \"13-20.\",\n",
    "        \"13-8.\",\n",
    "        \"14-10.\",\n",
    "        \"14-11.\",\n",
    "        \"14-14.\",\n",
    "        \"14-7.\",\n",
    "        \"15-1.\",\n",
    "        \"15-20.\",\n",
    "        \"16-1.\",\n",
    "        \"16-16.\",\n",
    "        \"17-10.\",\n",
    "        \"17-11.\",\n",
    "        \"17-2.\",\n",
    "        \"19-1.\",\n",
    "        \"19-16.\",\n",
    "        \"19-19.\",\n",
    "        \"19-20.\",\n",
    "        \"19-3.\",\n",
    "        \"2-10.\",\n",
    "        \"2-11.\",\n",
    "        \"2-17.\",\n",
    "        \"2-18.\",\n",
    "        \"2-20.\",\n",
    "        \"2-3.\",\n",
    "        \"2-4.\",\n",
    "        \"2-5.\",\n",
    "        \"2-6.\",\n",
    "        \"2-7.\",\n",
    "        \"2-8.\",\n",
    "        \"3-13.\",\n",
    "        \"3-18.\",\n",
    "        \"3-3.\",\n",
    "        \"4-1.\",\n",
    "        \"4-10.\",\n",
    "        \"4-11.\",\n",
    "        \"4-19.\",\n",
    "        \"5-5.\",\n",
    "        \"6-15.\",\n",
    "        \"7-10.\",\n",
    "        \"7-14.\",\n",
    "        \"8-18.\",\n",
    "        \"8-20.\",\n",
    "        \"8-3.\",\n",
    "        \"8-8.\",\n",
    "    ],\n",
    "    \"batch_size\": 128,\n",
    "    \"domains_source\": [1, 5],\n",
    "    \"domains_target\": [2, 3, 4],\n",
    "    \"normalize_source\": False,\n",
    "    \"normalize_target\": False,\n",
    "    \"num_examples_per_domain_per_label_source\": -1,\n",
    "    \"num_examples_per_domain_per_label_target\": -1,\n",
    "    \"torch_default_dtype\": \"torch.float32\",\n",
    "    \"n_epoch\": 50,\n",
    "    \"patience\": 3,\n",
    "    \"criteria_for_best\": \"target_accuracy\",\n",
    "    \"x_net\": [\n",
    "        {\"class\": \"nnReshape\", \"kargs\": {\"shape\": [-1, 1, 2, 256]}},\n",
    "        {\n",
    "            \"class\": \"Conv2d\",\n",
    "            \"kargs\": {\n",
    "                \"in_channels\": 1,\n",
    "                \"out_channels\": 256,\n",
    "                \"kernel_size\": [1, 7],\n",
    "                \"bias\": False,\n",
    "                \"padding\": [0, 3],\n",
    "            },\n",
    "        },\n",
    "        {\"class\": \"ReLU\", \"kargs\": {\"inplace\": True}},\n",
    "        {\"class\": \"BatchNorm2d\", \"kargs\": {\"num_features\": 256}},\n",
    "        {\n",
    "            \"class\": \"Conv2d\",\n",
    "            \"kargs\": {\n",
    "                \"in_channels\": 256,\n",
    "                \"out_channels\": 80,\n",
    "                \"kernel_size\": [2, 7],\n",
    "                \"bias\": True,\n",
    "                \"padding\": [0, 3],\n",
    "            },\n",
    "        },\n",
    "        {\"class\": \"ReLU\", \"kargs\": {\"inplace\": True}},\n",
    "        {\"class\": \"BatchNorm2d\", \"kargs\": {\"num_features\": 80}},\n",
    "        {\"class\": \"Flatten\", \"kargs\": {}},\n",
    "        {\"class\": \"Linear\", \"kargs\": {\"in_features\": 20480, \"out_features\": 256}},\n",
    "        {\"class\": \"ReLU\", \"kargs\": {\"inplace\": True}},\n",
    "        {\"class\": \"BatchNorm1d\", \"kargs\": {\"num_features\": 256}},\n",
    "        {\"class\": \"Linear\", \"kargs\": {\"in_features\": 256, \"out_features\": 58}},\n",
    "    ],\n",
    "    \"NUM_LOGS_PER_EPOCH\": 10,\n",
    "    \"BEST_MODEL_PATH\": \"./best_model.pth\",\n",
    "    \"pickle_name_source\": \"cores.stratified_ds.2022A.pkl\",\n",
    "    \"pickle_name_target\": \"cores.stratified_ds.2022A.pkl\",\n",
    "    \"dataset_seed\": 154325,\n",
    "    \"seed\": 154325,\n",
    "}\n"
   ]
  },
  {
   "cell_type": "code",
   "execution_count": 5,
   "id": "759b56ec",
   "metadata": {
    "execution": {
     "iopub.execute_input": "2022-03-25T20:37:54.013852Z",
     "iopub.status.busy": "2022-03-25T20:37:54.013267Z",
     "iopub.status.idle": "2022-03-25T20:37:54.015024Z",
     "shell.execute_reply": "2022-03-25T20:37:54.015492Z"
    },
    "papermill": {
     "duration": 0.022158,
     "end_time": "2022-03-25T20:37:54.015630",
     "exception": false,
     "start_time": "2022-03-25T20:37:53.993472",
     "status": "completed"
    },
    "tags": []
   },
   "outputs": [],
   "source": [
    "# Set this to True if you want to run this template directly\n",
    "STANDALONE = False\n",
    "if STANDALONE:\n",
    "    print(\"parameters not injected, running with standalone_parameters\")\n",
    "    parameters = standalone_parameters\n",
    "\n",
    "if not 'parameters' in locals() and not 'parameters' in globals():\n",
    "    raise Exception(\"Parameter injection failed\")\n",
    "\n",
    "#Use an easy dict for all the parameters\n",
    "p = EasyDict(parameters)\n",
    "\n",
    "supplied_keys = set(p.keys())\n",
    "\n",
    "if  supplied_keys != required_parameters:\n",
    "    print(\"Parameters are incorrect\")\n",
    "    if len(supplied_keys - required_parameters)>0: print(\"Shouldn't have:\", str(supplied_keys - required_parameters))\n",
    "    if len(required_parameters - supplied_keys)>0: print(\"Need to have:\", str(required_parameters - supplied_keys))\n",
    "    raise RuntimeError(\"Parameters are incorrect\")\n",
    "\n"
   ]
  },
  {
   "cell_type": "code",
   "execution_count": 6,
   "id": "d5c66a71",
   "metadata": {
    "execution": {
     "iopub.execute_input": "2022-03-25T20:37:54.050171Z",
     "iopub.status.busy": "2022-03-25T20:37:54.049791Z",
     "iopub.status.idle": "2022-03-25T20:37:54.052452Z",
     "shell.execute_reply": "2022-03-25T20:37:54.052761Z"
    },
    "papermill": {
     "duration": 0.020551,
     "end_time": "2022-03-25T20:37:54.052844",
     "exception": false,
     "start_time": "2022-03-25T20:37:54.032293",
     "status": "completed"
    },
    "tags": []
   },
   "outputs": [],
   "source": [
    "###################################\n",
    "# Set the RNGs and make it all deterministic\n",
    "###################################\n",
    "np.random.seed(p.seed)\n",
    "random.seed(p.seed)\n",
    "torch.manual_seed(p.seed)\n",
    "\n",
    "torch.use_deterministic_algorithms(True) "
   ]
  },
  {
   "cell_type": "code",
   "execution_count": 7,
   "id": "92a65876",
   "metadata": {
    "execution": {
     "iopub.execute_input": "2022-03-25T20:37:54.087964Z",
     "iopub.status.busy": "2022-03-25T20:37:54.087583Z",
     "iopub.status.idle": "2022-03-25T20:37:54.090071Z",
     "shell.execute_reply": "2022-03-25T20:37:54.090386Z"
    },
    "papermill": {
     "duration": 0.020832,
     "end_time": "2022-03-25T20:37:54.090469",
     "exception": false,
     "start_time": "2022-03-25T20:37:54.069637",
     "status": "completed"
    },
    "tags": []
   },
   "outputs": [],
   "source": [
    "torch.set_default_dtype(eval(p.torch_default_dtype))"
   ]
  },
  {
   "cell_type": "code",
   "execution_count": 8,
   "id": "f1a32f01",
   "metadata": {
    "execution": {
     "iopub.execute_input": "2022-03-25T20:37:54.125601Z",
     "iopub.status.busy": "2022-03-25T20:37:54.125214Z",
     "iopub.status.idle": "2022-03-25T20:37:54.165371Z",
     "shell.execute_reply": "2022-03-25T20:37:54.164647Z"
    },
    "papermill": {
     "duration": 0.058348,
     "end_time": "2022-03-25T20:37:54.165528",
     "exception": false,
     "start_time": "2022-03-25T20:37:54.107180",
     "status": "completed"
    },
    "tags": []
   },
   "outputs": [],
   "source": [
    "###################################\n",
    "# Build the network(s)\n",
    "# Note: It's critical to do this AFTER setting the RNG\n",
    "###################################\n",
    "x_net = build_sequential(p.x_net)"
   ]
  },
  {
   "cell_type": "code",
   "execution_count": 9,
   "id": "a276cd83",
   "metadata": {
    "execution": {
     "iopub.execute_input": "2022-03-25T20:37:54.205490Z",
     "iopub.status.busy": "2022-03-25T20:37:54.205117Z",
     "iopub.status.idle": "2022-03-25T20:37:54.206958Z",
     "shell.execute_reply": "2022-03-25T20:37:54.207263Z"
    },
    "papermill": {
     "duration": 0.019395,
     "end_time": "2022-03-25T20:37:54.207345",
     "exception": false,
     "start_time": "2022-03-25T20:37:54.187950",
     "status": "completed"
    },
    "tags": []
   },
   "outputs": [],
   "source": [
    "start_time_secs = time.time()"
   ]
  },
  {
   "cell_type": "code",
   "execution_count": 10,
   "id": "de702e48",
   "metadata": {
    "execution": {
     "iopub.execute_input": "2022-03-25T20:37:54.255115Z",
     "iopub.status.busy": "2022-03-25T20:37:54.254222Z",
     "iopub.status.idle": "2022-03-25T20:37:58.250237Z",
     "shell.execute_reply": "2022-03-25T20:37:58.250946Z"
    },
    "papermill": {
     "duration": 4.025704,
     "end_time": "2022-03-25T20:37:58.251163",
     "exception": false,
     "start_time": "2022-03-25T20:37:54.225459",
     "status": "completed"
    },
    "tags": []
   },
   "outputs": [],
   "source": [
    "def wrap_in_dataloader(p, ds):\n",
    "    return torch.utils.data.DataLoader(\n",
    "        ds,\n",
    "        batch_size=p.batch_size,\n",
    "        shuffle=True,\n",
    "        num_workers=1,\n",
    "        persistent_workers=True,\n",
    "        prefetch_factor=50,\n",
    "        pin_memory=True\n",
    "    )\n",
    "\n",
    "taf_source = Traditional_Accessor_Factory(\n",
    "    labels=p.labels,\n",
    "    domains=p.domains_source,\n",
    "    num_examples_per_domain_per_label=p.num_examples_per_domain_per_label_source,\n",
    "    pickle_path=os.path.join(get_datasets_base_path(), p.pickle_name_source),\n",
    "    seed=p.dataset_seed\n",
    ")\n",
    "train_original_source, val_original_source, test_original_source = \\\n",
    "    taf_source.get_train(), taf_source.get_val(), taf_source.get_test()\n",
    "\n",
    "\n",
    "taf_target = Traditional_Accessor_Factory(\n",
    "    labels=p.labels,\n",
    "    domains=p.domains_target,\n",
    "    num_examples_per_domain_per_label=p.num_examples_per_domain_per_label_source,\n",
    "    pickle_path=os.path.join(get_datasets_base_path(), p.pickle_name_target),\n",
    "    seed=p.dataset_seed\n",
    ")\n",
    "train_original_target, val_original_target, test_original_target = \\\n",
    "    taf_target.get_train(), taf_target.get_val(), taf_target.get_test()\n",
    "\n",
    "\n",
    "# For CNN We only use X and Y. And we only train on the source.\n",
    "# Properly form the data using a transform lambda and Lazy_Map. Finally wrap them in a dataloader\n",
    "\n",
    "transform_lambda = lambda ex: ex[:2] # Strip the tuple to just (x,y)\n",
    "\n",
    "\n",
    "train_processed_source = wrap_in_dataloader(\n",
    "    p,\n",
    "    Lazy_Map(train_original_source, transform_lambda)\n",
    ")\n",
    "val_processed_source = wrap_in_dataloader(\n",
    "    p,\n",
    "    Lazy_Map(val_original_source, transform_lambda)\n",
    ")\n",
    "test_processed_source = wrap_in_dataloader(\n",
    "    p,\n",
    "    Lazy_Map(test_original_source, transform_lambda)\n",
    ")\n",
    "\n",
    "train_processed_target = wrap_in_dataloader(\n",
    "    p,\n",
    "    Lazy_Map(train_original_target, transform_lambda)\n",
    ")\n",
    "val_processed_target = wrap_in_dataloader(\n",
    "    p,\n",
    "    Lazy_Map(val_original_target, transform_lambda)\n",
    ")\n",
    "test_processed_target  = wrap_in_dataloader(\n",
    "    p,\n",
    "    Lazy_Map(test_original_target, transform_lambda)\n",
    ")\n",
    "\n",
    "\n",
    "\n",
    "datasets = EasyDict({\n",
    "    \"source\": {\n",
    "        \"original\": {\"train\":train_original_source, \"val\":val_original_source, \"test\":test_original_source},\n",
    "        \"processed\": {\"train\":train_processed_source, \"val\":val_processed_source, \"test\":test_processed_source}\n",
    "    },\n",
    "    \"target\": {\n",
    "        \"original\": {\"train\":train_original_target, \"val\":val_original_target, \"test\":test_original_target},\n",
    "        \"processed\": {\"train\":train_processed_target, \"val\":val_processed_target, \"test\":test_processed_target}\n",
    "    },\n",
    "})"
   ]
  },
  {
   "cell_type": "code",
   "execution_count": 11,
   "id": "a11b26bd",
   "metadata": {
    "execution": {
     "iopub.execute_input": "2022-03-25T20:37:58.331094Z",
     "iopub.status.busy": "2022-03-25T20:37:58.330256Z",
     "iopub.status.idle": "2022-03-25T20:38:03.921342Z",
     "shell.execute_reply": "2022-03-25T20:38:03.920622Z"
    },
    "papermill": {
     "duration": 5.648525,
     "end_time": "2022-03-25T20:38:03.921525",
     "exception": false,
     "start_time": "2022-03-25T20:37:58.273000",
     "status": "completed"
    },
    "tags": []
   },
   "outputs": [
    {
     "data": {
      "text/plain": [
       "torch.float32"
      ]
     },
     "execution_count": 11,
     "metadata": {},
     "output_type": "execute_result"
    }
   ],
   "source": [
    "ep = next(iter(test_processed_target))\n",
    "ep[0].dtype"
   ]
  },
  {
   "cell_type": "code",
   "execution_count": 12,
   "id": "19425fad",
   "metadata": {
    "execution": {
     "iopub.execute_input": "2022-03-25T20:38:03.961725Z",
     "iopub.status.busy": "2022-03-25T20:38:03.961146Z",
     "iopub.status.idle": "2022-03-25T20:38:04.008118Z",
     "shell.execute_reply": "2022-03-25T20:38:04.007370Z"
    },
    "papermill": {
     "duration": 0.068305,
     "end_time": "2022-03-25T20:38:04.008288",
     "exception": false,
     "start_time": "2022-03-25T20:38:03.939983",
     "status": "completed"
    },
    "tags": []
   },
   "outputs": [],
   "source": [
    "model = Configurable_Vanilla(\n",
    "    x_net=x_net,\n",
    "    label_loss_object=torch.nn.NLLLoss(),\n",
    "    learning_rate=p.lr\n",
    ")"
   ]
  },
  {
   "cell_type": "code",
   "execution_count": 13,
   "id": "7f6d4f2c",
   "metadata": {
    "execution": {
     "iopub.execute_input": "2022-03-25T20:38:04.050441Z",
     "iopub.status.busy": "2022-03-25T20:38:04.049601Z",
     "iopub.status.idle": "2022-03-25T20:39:13.840653Z",
     "shell.execute_reply": "2022-03-25T20:39:13.841336Z"
    },
    "papermill": {
     "duration": 69.814106,
     "end_time": "2022-03-25T20:39:13.841556",
     "exception": false,
     "start_time": "2022-03-25T20:38:04.027450",
     "status": "completed"
    },
    "tags": []
   },
   "outputs": [
    {
     "name": "stdout",
     "output_type": "stream",
     "text": [
      "epoch: 1, [batch: 1 / 568], examples_per_second: 603.8078, train_label_loss: 3.9827, \n"
     ]
    },
    {
     "name": "stdout",
     "output_type": "stream",
     "text": [
      "epoch: 1, [batch: 57 / 568], examples_per_second: 10582.1367, train_label_loss: 2.7299, \n"
     ]
    },
    {
     "name": "stdout",
     "output_type": "stream",
     "text": [
      "epoch: 1, [batch: 114 / 568], examples_per_second: 10721.5015, train_label_loss: 2.0459, \n"
     ]
    },
    {
     "name": "stdout",
     "output_type": "stream",
     "text": [
      "epoch: 1, [batch: 171 / 568], examples_per_second: 10738.8350, train_label_loss: 1.3550, \n"
     ]
    },
    {
     "name": "stdout",
     "output_type": "stream",
     "text": [
      "epoch: 1, [batch: 227 / 568], examples_per_second: 10757.7619, train_label_loss: 0.9260, \n"
     ]
    },
    {
     "name": "stdout",
     "output_type": "stream",
     "text": [
      "epoch: 1, [batch: 284 / 568], examples_per_second: 10742.1976, train_label_loss: 0.6857, \n"
     ]
    },
    {
     "name": "stdout",
     "output_type": "stream",
     "text": [
      "epoch: 1, [batch: 341 / 568], examples_per_second: 10772.0058, train_label_loss: 0.4336, \n"
     ]
    },
    {
     "name": "stdout",
     "output_type": "stream",
     "text": [
      "epoch: 1, [batch: 397 / 568], examples_per_second: 10824.8248, train_label_loss: 0.3898, \n"
     ]
    },
    {
     "name": "stdout",
     "output_type": "stream",
     "text": [
      "epoch: 1, [batch: 454 / 568], examples_per_second: 10686.9085, train_label_loss: 0.2696, \n"
     ]
    },
    {
     "name": "stdout",
     "output_type": "stream",
     "text": [
      "epoch: 1, [batch: 511 / 568], examples_per_second: 10682.1745, train_label_loss: 0.2364, \n"
     ]
    },
    {
     "name": "stdout",
     "output_type": "stream",
     "text": [
      "=============================================================\n",
      "epoch: 1, source_val_acc_label: 0.9741, source_val_label_loss: 0.2667, target_val_acc_label: 0.8307, target_val_label_loss: 0.7798, \n",
      "=============================================================\n"
     ]
    },
    {
     "name": "stdout",
     "output_type": "stream",
     "text": [
      "New best\n",
      "epoch: 2, [batch: 1 / 568], examples_per_second: 98.1247, train_label_loss: 0.2533, \n"
     ]
    },
    {
     "name": "stdout",
     "output_type": "stream",
     "text": [
      "epoch: 2, [batch: 57 / 568], examples_per_second: 10620.9669, train_label_loss: 0.2373, \n"
     ]
    },
    {
     "name": "stdout",
     "output_type": "stream",
     "text": [
      "epoch: 2, [batch: 114 / 568], examples_per_second: 10695.4134, train_label_loss: 0.1396, \n"
     ]
    },
    {
     "name": "stdout",
     "output_type": "stream",
     "text": [
      "epoch: 2, [batch: 171 / 568], examples_per_second: 10725.0938, train_label_loss: 0.1283, \n"
     ]
    },
    {
     "name": "stdout",
     "output_type": "stream",
     "text": [
      "epoch: 2, [batch: 227 / 568], examples_per_second: 10674.5035, train_label_loss: 0.0894, \n"
     ]
    },
    {
     "name": "stdout",
     "output_type": "stream",
     "text": [
      "epoch: 2, [batch: 284 / 568], examples_per_second: 10756.5006, train_label_loss: 0.0802, \n"
     ]
    },
    {
     "name": "stdout",
     "output_type": "stream",
     "text": [
      "epoch: 2, [batch: 341 / 568], examples_per_second: 10792.3646, train_label_loss: 0.0856, \n"
     ]
    },
    {
     "name": "stdout",
     "output_type": "stream",
     "text": [
      "epoch: 2, [batch: 397 / 568], examples_per_second: 10589.9196, train_label_loss: 0.0663, \n"
     ]
    },
    {
     "name": "stdout",
     "output_type": "stream",
     "text": [
      "epoch: 2, [batch: 454 / 568], examples_per_second: 10726.0110, train_label_loss: 0.1080, \n"
     ]
    },
    {
     "name": "stdout",
     "output_type": "stream",
     "text": [
      "epoch: 2, [batch: 511 / 568], examples_per_second: 10651.5184, train_label_loss: 0.0411, \n"
     ]
    },
    {
     "name": "stdout",
     "output_type": "stream",
     "text": [
      "=============================================================\n",
      "epoch: 2, source_val_acc_label: 0.9458, source_val_label_loss: 0.2827, target_val_acc_label: 0.8008, target_val_label_loss: 0.8137, \n",
      "=============================================================\n"
     ]
    },
    {
     "name": "stdout",
     "output_type": "stream",
     "text": [
      "epoch: 3, [batch: 1 / 568], examples_per_second: 118.5638, train_label_loss: 0.3362, \n"
     ]
    },
    {
     "name": "stdout",
     "output_type": "stream",
     "text": [
      "epoch: 3, [batch: 57 / 568], examples_per_second: 10488.8878, train_label_loss: 0.0713, \n"
     ]
    },
    {
     "name": "stdout",
     "output_type": "stream",
     "text": [
      "epoch: 3, [batch: 114 / 568], examples_per_second: 10634.2067, train_label_loss: 0.0539, \n"
     ]
    },
    {
     "name": "stdout",
     "output_type": "stream",
     "text": [
      "epoch: 3, [batch: 171 / 568], examples_per_second: 10952.6082, train_label_loss: 0.0569, \n"
     ]
    },
    {
     "name": "stdout",
     "output_type": "stream",
     "text": [
      "epoch: 3, [batch: 227 / 568], examples_per_second: 11827.5323, train_label_loss: 0.0498, \n"
     ]
    },
    {
     "name": "stdout",
     "output_type": "stream",
     "text": [
      "epoch: 3, [batch: 284 / 568], examples_per_second: 11749.8604, train_label_loss: 0.0426, \n"
     ]
    },
    {
     "name": "stdout",
     "output_type": "stream",
     "text": [
      "epoch: 3, [batch: 341 / 568], examples_per_second: 11827.6860, train_label_loss: 0.0414, \n"
     ]
    },
    {
     "name": "stdout",
     "output_type": "stream",
     "text": [
      "epoch: 3, [batch: 397 / 568], examples_per_second: 11787.0324, train_label_loss: 0.0299, \n"
     ]
    },
    {
     "name": "stdout",
     "output_type": "stream",
     "text": [
      "epoch: 3, [batch: 454 / 568], examples_per_second: 11865.4338, train_label_loss: 0.0445, \n"
     ]
    },
    {
     "name": "stdout",
     "output_type": "stream",
     "text": [
      "epoch: 3, [batch: 511 / 568], examples_per_second: 11825.2180, train_label_loss: 0.0270, \n"
     ]
    },
    {
     "name": "stdout",
     "output_type": "stream",
     "text": [
      "=============================================================\n",
      "epoch: 3, source_val_acc_label: 0.9905, source_val_label_loss: 0.0473, target_val_acc_label: 0.8530, target_val_label_loss: 0.5433, \n",
      "=============================================================\n"
     ]
    },
    {
     "name": "stdout",
     "output_type": "stream",
     "text": [
      "New best\n",
      "epoch: 4, [batch: 1 / 568], examples_per_second: 138.1574, train_label_loss: 0.0198, \n"
     ]
    },
    {
     "name": "stdout",
     "output_type": "stream",
     "text": [
      "epoch: 4, [batch: 57 / 568], examples_per_second: 11723.0413, train_label_loss: 0.0170, \n"
     ]
    },
    {
     "name": "stdout",
     "output_type": "stream",
     "text": [
      "epoch: 4, [batch: 114 / 568], examples_per_second: 11829.8762, train_label_loss: 0.0174, \n"
     ]
    },
    {
     "name": "stdout",
     "output_type": "stream",
     "text": [
      "epoch: 4, [batch: 171 / 568], examples_per_second: 11895.1503, train_label_loss: 0.0245, \n"
     ]
    },
    {
     "name": "stdout",
     "output_type": "stream",
     "text": [
      "epoch: 4, [batch: 227 / 568], examples_per_second: 11624.4645, train_label_loss: 0.0162, \n"
     ]
    },
    {
     "name": "stdout",
     "output_type": "stream",
     "text": [
      "epoch: 4, [batch: 284 / 568], examples_per_second: 11607.9008, train_label_loss: 0.0536, \n"
     ]
    },
    {
     "name": "stdout",
     "output_type": "stream",
     "text": [
      "epoch: 4, [batch: 341 / 568], examples_per_second: 11725.2477, train_label_loss: 0.0160, \n"
     ]
    },
    {
     "name": "stdout",
     "output_type": "stream",
     "text": [
      "epoch: 4, [batch: 397 / 568], examples_per_second: 11799.6432, train_label_loss: 0.0175, \n"
     ]
    },
    {
     "name": "stdout",
     "output_type": "stream",
     "text": [
      "epoch: 4, [batch: 454 / 568], examples_per_second: 11832.4697, train_label_loss: 0.0123, \n"
     ]
    },
    {
     "name": "stdout",
     "output_type": "stream",
     "text": [
      "epoch: 4, [batch: 511 / 568], examples_per_second: 11772.9550, train_label_loss: 0.0256, \n"
     ]
    },
    {
     "name": "stdout",
     "output_type": "stream",
     "text": [
      "=============================================================\n",
      "epoch: 4, source_val_acc_label: 0.9953, source_val_label_loss: 0.0305, target_val_acc_label: 0.8591, target_val_label_loss: 0.5625, \n",
      "=============================================================\n"
     ]
    },
    {
     "name": "stdout",
     "output_type": "stream",
     "text": [
      "New best\n",
      "epoch: 5, [batch: 1 / 568], examples_per_second: 140.7384, train_label_loss: 0.0246, \n"
     ]
    },
    {
     "name": "stdout",
     "output_type": "stream",
     "text": [
      "epoch: 5, [batch: 57 / 568], examples_per_second: 12287.4191, train_label_loss: 0.0788, \n"
     ]
    },
    {
     "name": "stdout",
     "output_type": "stream",
     "text": [
      "epoch: 5, [batch: 114 / 568], examples_per_second: 11597.2111, train_label_loss: 0.0310, \n"
     ]
    },
    {
     "name": "stdout",
     "output_type": "stream",
     "text": [
      "epoch: 5, [batch: 171 / 568], examples_per_second: 11779.1361, train_label_loss: 0.0229, \n"
     ]
    },
    {
     "name": "stdout",
     "output_type": "stream",
     "text": [
      "epoch: 5, [batch: 227 / 568], examples_per_second: 11519.9389, train_label_loss: 0.0192, \n"
     ]
    },
    {
     "name": "stdout",
     "output_type": "stream",
     "text": [
      "epoch: 5, [batch: 284 / 568], examples_per_second: 11712.1664, train_label_loss: 0.0186, \n"
     ]
    },
    {
     "name": "stdout",
     "output_type": "stream",
     "text": [
      "epoch: 5, [batch: 341 / 568], examples_per_second: 11622.6481, train_label_loss: 0.0238, \n"
     ]
    },
    {
     "name": "stdout",
     "output_type": "stream",
     "text": [
      "epoch: 5, [batch: 397 / 568], examples_per_second: 11809.0888, train_label_loss: 0.0177, \n"
     ]
    },
    {
     "name": "stdout",
     "output_type": "stream",
     "text": [
      "epoch: 5, [batch: 454 / 568], examples_per_second: 11840.1793, train_label_loss: 0.0139, \n"
     ]
    },
    {
     "name": "stdout",
     "output_type": "stream",
     "text": [
      "epoch: 5, [batch: 511 / 568], examples_per_second: 11774.9301, train_label_loss: 0.0310, \n"
     ]
    },
    {
     "name": "stdout",
     "output_type": "stream",
     "text": [
      "=============================================================\n",
      "epoch: 5, source_val_acc_label: 0.9916, source_val_label_loss: 0.0372, target_val_acc_label: 0.8592, target_val_label_loss: 0.5458, \n",
      "=============================================================\n"
     ]
    },
    {
     "name": "stdout",
     "output_type": "stream",
     "text": [
      "New best\n",
      "epoch: 6, [batch: 1 / 568], examples_per_second: 139.7555, train_label_loss: 0.0231, \n"
     ]
    },
    {
     "name": "stdout",
     "output_type": "stream",
     "text": [
      "epoch: 6, [batch: 57 / 568], examples_per_second: 11662.1157, train_label_loss: 0.0277, \n"
     ]
    },
    {
     "name": "stdout",
     "output_type": "stream",
     "text": [
      "epoch: 6, [batch: 114 / 568], examples_per_second: 11730.1512, train_label_loss: 0.0132, \n"
     ]
    },
    {
     "name": "stdout",
     "output_type": "stream",
     "text": [
      "epoch: 6, [batch: 171 / 568], examples_per_second: 11829.6064, train_label_loss: 0.0142, \n"
     ]
    },
    {
     "name": "stdout",
     "output_type": "stream",
     "text": [
      "epoch: 6, [batch: 227 / 568], examples_per_second: 11819.5672, train_label_loss: 0.0098, \n"
     ]
    },
    {
     "name": "stdout",
     "output_type": "stream",
     "text": [
      "epoch: 6, [batch: 284 / 568], examples_per_second: 11821.3808, train_label_loss: 0.0176, \n"
     ]
    },
    {
     "name": "stdout",
     "output_type": "stream",
     "text": [
      "epoch: 6, [batch: 341 / 568], examples_per_second: 11793.9583, train_label_loss: 0.0082, \n"
     ]
    },
    {
     "name": "stdout",
     "output_type": "stream",
     "text": [
      "epoch: 6, [batch: 397 / 568], examples_per_second: 11746.8778, train_label_loss: 0.0080, \n"
     ]
    },
    {
     "name": "stdout",
     "output_type": "stream",
     "text": [
      "epoch: 6, [batch: 454 / 568], examples_per_second: 11810.3263, train_label_loss: 0.0221, \n"
     ]
    },
    {
     "name": "stdout",
     "output_type": "stream",
     "text": [
      "epoch: 6, [batch: 511 / 568], examples_per_second: 11801.7497, train_label_loss: 0.0169, \n"
     ]
    },
    {
     "name": "stdout",
     "output_type": "stream",
     "text": [
      "=============================================================\n",
      "epoch: 6, source_val_acc_label: 0.9918, source_val_label_loss: 0.0365, target_val_acc_label: 0.8395, target_val_label_loss: 0.6745, \n",
      "=============================================================\n"
     ]
    },
    {
     "name": "stdout",
     "output_type": "stream",
     "text": [
      "epoch: 7, [batch: 1 / 568], examples_per_second: 141.1747, train_label_loss: 0.0296, \n"
     ]
    },
    {
     "name": "stdout",
     "output_type": "stream",
     "text": [
      "epoch: 7, [batch: 57 / 568], examples_per_second: 11811.6220, train_label_loss: 0.0134, \n"
     ]
    },
    {
     "name": "stdout",
     "output_type": "stream",
     "text": [
      "epoch: 7, [batch: 114 / 568], examples_per_second: 11807.4053, train_label_loss: 0.0102, \n"
     ]
    },
    {
     "name": "stdout",
     "output_type": "stream",
     "text": [
      "epoch: 7, [batch: 171 / 568], examples_per_second: 11751.4938, train_label_loss: 0.0119, \n"
     ]
    },
    {
     "name": "stdout",
     "output_type": "stream",
     "text": [
      "epoch: 7, [batch: 227 / 568], examples_per_second: 11874.1192, train_label_loss: 0.0093, \n"
     ]
    },
    {
     "name": "stdout",
     "output_type": "stream",
     "text": [
      "epoch: 7, [batch: 284 / 568], examples_per_second: 11801.3356, train_label_loss: 0.0071, \n"
     ]
    },
    {
     "name": "stdout",
     "output_type": "stream",
     "text": [
      "epoch: 7, [batch: 341 / 568], examples_per_second: 11840.5412, train_label_loss: 0.0123, \n"
     ]
    },
    {
     "name": "stdout",
     "output_type": "stream",
     "text": [
      "epoch: 7, [batch: 397 / 568], examples_per_second: 11798.7911, train_label_loss: 0.0074, \n"
     ]
    },
    {
     "name": "stdout",
     "output_type": "stream",
     "text": [
      "epoch: 7, [batch: 454 / 568], examples_per_second: 11806.9589, train_label_loss: 0.0060, \n"
     ]
    },
    {
     "name": "stdout",
     "output_type": "stream",
     "text": [
      "epoch: 7, [batch: 511 / 568], examples_per_second: 11827.5489, train_label_loss: 0.0090, \n"
     ]
    },
    {
     "name": "stdout",
     "output_type": "stream",
     "text": [
      "=============================================================\n",
      "epoch: 7, source_val_acc_label: 0.9895, source_val_label_loss: 0.0470, target_val_acc_label: 0.8169, target_val_label_loss: 0.6938, \n",
      "=============================================================\n"
     ]
    },
    {
     "name": "stdout",
     "output_type": "stream",
     "text": [
      "epoch: 8, [batch: 1 / 568], examples_per_second: 138.6843, train_label_loss: 0.0201, \n"
     ]
    },
    {
     "name": "stdout",
     "output_type": "stream",
     "text": [
      "epoch: 8, [batch: 57 / 568], examples_per_second: 12574.4039, train_label_loss: 0.0603, \n"
     ]
    },
    {
     "name": "stdout",
     "output_type": "stream",
     "text": [
      "epoch: 8, [batch: 114 / 568], examples_per_second: 12844.5457, train_label_loss: 0.0302, \n"
     ]
    },
    {
     "name": "stdout",
     "output_type": "stream",
     "text": [
      "epoch: 8, [batch: 171 / 568], examples_per_second: 12660.5673, train_label_loss: 0.0125, \n"
     ]
    },
    {
     "name": "stdout",
     "output_type": "stream",
     "text": [
      "epoch: 8, [batch: 227 / 568], examples_per_second: 12629.4868, train_label_loss: 0.0117, \n"
     ]
    },
    {
     "name": "stdout",
     "output_type": "stream",
     "text": [
      "epoch: 8, [batch: 284 / 568], examples_per_second: 11469.5154, train_label_loss: 0.0144, \n"
     ]
    },
    {
     "name": "stdout",
     "output_type": "stream",
     "text": [
      "epoch: 8, [batch: 341 / 568], examples_per_second: 10785.4380, train_label_loss: 0.0191, \n"
     ]
    },
    {
     "name": "stdout",
     "output_type": "stream",
     "text": [
      "epoch: 8, [batch: 397 / 568], examples_per_second: 10744.4674, train_label_loss: 0.0231, \n"
     ]
    },
    {
     "name": "stdout",
     "output_type": "stream",
     "text": [
      "epoch: 8, [batch: 454 / 568], examples_per_second: 10647.3825, train_label_loss: 0.0052, \n"
     ]
    },
    {
     "name": "stdout",
     "output_type": "stream",
     "text": [
      "epoch: 8, [batch: 511 / 568], examples_per_second: 10822.7892, train_label_loss: 0.0191, \n"
     ]
    },
    {
     "name": "stdout",
     "output_type": "stream",
     "text": [
      "=============================================================\n",
      "epoch: 8, source_val_acc_label: 0.9972, source_val_label_loss: 0.0147, target_val_acc_label: 0.8569, target_val_label_loss: 0.5547, \n",
      "=============================================================\n"
     ]
    },
    {
     "name": "stdout",
     "output_type": "stream",
     "text": [
      "epoch: 9, [batch: 1 / 568], examples_per_second: 126.3801, train_label_loss: 0.0079, \n"
     ]
    },
    {
     "name": "stdout",
     "output_type": "stream",
     "text": [
      "epoch: 9, [batch: 57 / 568], examples_per_second: 10723.4968, train_label_loss: 0.0050, \n"
     ]
    },
    {
     "name": "stdout",
     "output_type": "stream",
     "text": [
      "epoch: 9, [batch: 114 / 568], examples_per_second: 10825.6339, train_label_loss: 0.0035, \n"
     ]
    },
    {
     "name": "stdout",
     "output_type": "stream",
     "text": [
      "epoch: 9, [batch: 171 / 568], examples_per_second: 10645.3861, train_label_loss: 0.0049, \n"
     ]
    },
    {
     "name": "stdout",
     "output_type": "stream",
     "text": [
      "epoch: 9, [batch: 227 / 568], examples_per_second: 10715.3446, train_label_loss: 0.0042, \n"
     ]
    },
    {
     "name": "stdout",
     "output_type": "stream",
     "text": [
      "epoch: 9, [batch: 284 / 568], examples_per_second: 10785.7079, train_label_loss: 0.0021, \n"
     ]
    },
    {
     "name": "stdout",
     "output_type": "stream",
     "text": [
      "epoch: 9, [batch: 341 / 568], examples_per_second: 10606.4197, train_label_loss: 0.0041, \n"
     ]
    },
    {
     "name": "stdout",
     "output_type": "stream",
     "text": [
      "epoch: 9, [batch: 397 / 568], examples_per_second: 12203.1717, train_label_loss: 0.0060, \n"
     ]
    },
    {
     "name": "stdout",
     "output_type": "stream",
     "text": [
      "epoch: 9, [batch: 454 / 568], examples_per_second: 11789.3238, train_label_loss: 0.0026, \n"
     ]
    },
    {
     "name": "stdout",
     "output_type": "stream",
     "text": [
      "epoch: 9, [batch: 511 / 568], examples_per_second: 11717.2922, train_label_loss: 0.0043, \n"
     ]
    },
    {
     "name": "stdout",
     "output_type": "stream",
     "text": [
      "=============================================================\n",
      "epoch: 9, source_val_acc_label: 0.9968, source_val_label_loss: 0.0169, target_val_acc_label: 0.8544, target_val_label_loss: 0.5994, \n",
      "=============================================================\n"
     ]
    },
    {
     "name": "stdout",
     "output_type": "stream",
     "text": [
      "Patience (3) exhausted\n"
     ]
    }
   ],
   "source": [
    "jig = Vanilla_Train_Eval_Test_Jig(\n",
    "    model=model,\n",
    "    path_to_best_model=p.BEST_MODEL_PATH,\n",
    "    device=p.device,\n",
    "    label_loss_object=torch.nn.NLLLoss(),\n",
    ")\n",
    "\n",
    "jig.train(\n",
    "    train_iterable=datasets.source.processed.train,\n",
    "    source_val_iterable=datasets.source.processed.val,\n",
    "    target_val_iterable=datasets.target.processed.val,\n",
    "    patience=p.patience,\n",
    "    num_epochs=p.n_epoch,\n",
    "    num_logs_per_epoch=p.NUM_LOGS_PER_EPOCH,\n",
    "    criteria_for_best=p.criteria_for_best\n",
    ")"
   ]
  },
  {
   "cell_type": "code",
   "execution_count": 14,
   "id": "4bc2ac17",
   "metadata": {
    "execution": {
     "iopub.execute_input": "2022-03-25T20:39:13.933331Z",
     "iopub.status.busy": "2022-03-25T20:39:13.932762Z",
     "iopub.status.idle": "2022-03-25T20:39:13.935244Z",
     "shell.execute_reply": "2022-03-25T20:39:13.935728Z"
    },
    "papermill": {
     "duration": 0.050195,
     "end_time": "2022-03-25T20:39:13.935855",
     "exception": false,
     "start_time": "2022-03-25T20:39:13.885660",
     "status": "completed"
    },
    "tags": []
   },
   "outputs": [],
   "source": [
    "total_experiment_time_secs = time.time() - start_time_secs"
   ]
  },
  {
   "cell_type": "code",
   "execution_count": 15,
   "id": "cae88f23",
   "metadata": {
    "execution": {
     "iopub.execute_input": "2022-03-25T20:39:14.031672Z",
     "iopub.status.busy": "2022-03-25T20:39:14.022377Z",
     "iopub.status.idle": "2022-03-25T20:39:24.790136Z",
     "shell.execute_reply": "2022-03-25T20:39:24.789229Z"
    },
    "papermill": {
     "duration": 10.809365,
     "end_time": "2022-03-25T20:39:24.790321",
     "exception": false,
     "start_time": "2022-03-25T20:39:13.980956",
     "status": "completed"
    },
    "tags": []
   },
   "outputs": [],
   "source": [
    "source_test_label_accuracy, source_test_label_loss = jig.test(datasets.source.processed.test)\n",
    "target_test_label_accuracy, target_test_label_loss = jig.test(datasets.target.processed.test)\n",
    "\n",
    "source_val_label_accuracy, source_val_label_loss = jig.test(datasets.source.processed.val)\n",
    "target_val_label_accuracy, target_val_label_loss = jig.test(datasets.target.processed.val)\n",
    "\n",
    "history = jig.get_history()\n",
    "\n",
    "total_epochs_trained = len(history[\"epoch_indices\"])\n",
    "\n",
    "val_dl = wrap_in_dataloader(p, Sequence_Aggregator((datasets.source.original.val, datasets.target.original.val)))\n",
    "\n",
    "confusion = confusion_by_domain_over_dataloader(model, p.device, val_dl, forward_uses_domain=False)\n",
    "per_domain_accuracy = per_domain_accuracy_from_confusion(confusion)\n",
    "\n",
    "# Add a key to per_domain_accuracy for if it was a source domain\n",
    "for domain, accuracy in per_domain_accuracy.items():\n",
    "    per_domain_accuracy[domain] = {\n",
    "        \"accuracy\": accuracy,\n",
    "        \"source?\": domain in p.domains_source\n",
    "    }\n",
    "\n",
    "# Do an independent accuracy assesment JUST TO BE SURE!\n",
    "# _source_test_label_accuracy = independent_accuracy_assesment(model, datasets.source.processed.test, p.device)\n",
    "# _target_test_label_accuracy = independent_accuracy_assesment(model, datasets.target.processed.test, p.device)\n",
    "# _source_val_label_accuracy = independent_accuracy_assesment(model, datasets.source.processed.val, p.device)\n",
    "# _target_val_label_accuracy = independent_accuracy_assesment(model, datasets.target.processed.val, p.device)\n",
    "\n",
    "# assert(_source_test_label_accuracy == source_test_label_accuracy)\n",
    "# assert(_target_test_label_accuracy == target_test_label_accuracy)\n",
    "# assert(_source_val_label_accuracy == source_val_label_accuracy)\n",
    "# assert(_target_val_label_accuracy == target_val_label_accuracy)\n",
    "\n",
    "###################################\n",
    "# Write out the results\n",
    "###################################\n",
    "\n",
    "experiment = {\n",
    "    \"experiment_name\": p.experiment_name,\n",
    "    \"parameters\": p,\n",
    "    \"results\": {\n",
    "        \"source_test_label_accuracy\": source_test_label_accuracy,\n",
    "        \"source_test_label_loss\": source_test_label_loss,\n",
    "        \"target_test_label_accuracy\": target_test_label_accuracy,\n",
    "        \"target_test_label_loss\": target_test_label_loss,\n",
    "        \"source_val_label_accuracy\": source_val_label_accuracy,\n",
    "        \"source_val_label_loss\": source_val_label_loss,\n",
    "        \"target_val_label_accuracy\": target_val_label_accuracy,\n",
    "        \"target_val_label_loss\": target_val_label_loss,\n",
    "        \"total_epochs_trained\": total_epochs_trained,\n",
    "        \"total_experiment_time_secs\": total_experiment_time_secs,\n",
    "        \"confusion\": confusion,\n",
    "        \"per_domain_accuracy\": per_domain_accuracy,\n",
    "    },\n",
    "    \"history\": history,\n",
    "    \"dataset_metrics\": get_dataset_metrics(datasets, \"cnn\"),\n",
    "}"
   ]
  },
  {
   "cell_type": "code",
   "execution_count": 16,
   "id": "74c318cf",
   "metadata": {
    "execution": {
     "iopub.execute_input": "2022-03-25T20:39:24.905717Z",
     "iopub.status.busy": "2022-03-25T20:39:24.900564Z",
     "iopub.status.idle": "2022-03-25T20:39:25.118906Z",
     "shell.execute_reply": "2022-03-25T20:39:25.119641Z"
    },
    "papermill": {
     "duration": 0.281614,
     "end_time": "2022-03-25T20:39:25.119854",
     "exception": false,
     "start_time": "2022-03-25T20:39:24.838240",
     "status": "completed"
    },
    "tags": []
   },
   "outputs": [
    {
     "data": {
      "text/plain": [
       "<AxesSubplot:title={'center':'Source Train Label Loss vs Source Val Label Loss'}, xlabel='Epoch'>"
      ]
     },
     "execution_count": 16,
     "metadata": {},
     "output_type": "execute_result"
    },
    {
     "data": {
      "image/png": "[encoded data removed]",
      "text/plain": [
       "<Figure size 1080x504 with 1 Axes>"
      ]
     },
     "metadata": {
      "needs_background": "light"
     },
     "output_type": "display_data"
    }
   ],
   "source": [
    "get_loss_curve(experiment)"
   ]
  },
  {
   "cell_type": "code",
   "execution_count": 17,
   "id": "59376601",
   "metadata": {
    "execution": {
     "iopub.execute_input": "2022-03-25T20:39:25.238118Z",
     "iopub.status.busy": "2022-03-25T20:39:25.230308Z",
     "iopub.status.idle": "2022-03-25T20:39:25.553075Z",
     "shell.execute_reply": "2022-03-25T20:39:25.553664Z"
    },
    "papermill": {
     "duration": 0.383572,
     "end_time": "2022-03-25T20:39:25.553846",
     "exception": false,
     "start_time": "2022-03-25T20:39:25.170274",
     "status": "completed"
    },
    "tags": []
   },
   "outputs": [
    {
     "data": {
      "text/plain": [
       "<AxesSubplot:title={'center':'Results'}>"
      ]
     },
     "execution_count": 17,
     "metadata": {},
     "output_type": "execute_result"
    },
    {
     "data": {
      "image/png": "[encoded data removed]",
      "text/plain": [
       "<Figure size 1080x504 with 1 Axes>"
      ]
     },
     "metadata": {
      "needs_background": "light"
     },
     "output_type": "display_data"
    }
   ],
   "source": [
    "get_results_table(experiment)"
   ]
  },
  {
   "cell_type": "code",
   "execution_count": 18,
   "id": "e80c5c98",
   "metadata": {
    "execution": {
     "iopub.execute_input": "2022-03-25T20:39:25.663693Z",
     "iopub.status.busy": "2022-03-25T20:39:25.662960Z",
     "iopub.status.idle": "2022-03-25T20:39:25.815525Z",
     "shell.execute_reply": "2022-03-25T20:39:25.816264Z"
    },
    "papermill": {
     "duration": 0.212999,
     "end_time": "2022-03-25T20:39:25.816484",
     "exception": false,
     "start_time": "2022-03-25T20:39:25.603485",
     "status": "completed"
    },
    "tags": []
   },
   "outputs": [
    {
     "data": {
      "text/plain": [
       "<AxesSubplot:title={'center':'Per Domain Accuracy'}, xlabel='domain'>"
      ]
     },
     "execution_count": 18,
     "metadata": {},
     "output_type": "execute_result"
    },
    {
     "data": {
      "image/png": "[encoded data removed]",
      "text/plain": [
       "<Figure size 1080x504 with 1 Axes>"
      ]
     },
     "metadata": {
      "needs_background": "light"
     },
     "output_type": "display_data"
    }
   ],
   "source": [
    "get_domain_accuracies(experiment)"
   ]
  },
  {
   "cell_type": "code",
   "execution_count": 19,
   "id": "086fdd10",
   "metadata": {
    "execution": {
     "iopub.execute_input": "2022-03-25T20:39:25.923343Z",
     "iopub.status.busy": "2022-03-25T20:39:25.922952Z",
     "iopub.status.idle": "2022-03-25T20:39:25.925543Z",
     "shell.execute_reply": "2022-03-25T20:39:25.925205Z"
    },
    "papermill": {
     "duration": 0.054842,
     "end_time": "2022-03-25T20:39:25.925627",
     "exception": false,
     "start_time": "2022-03-25T20:39:25.870785",
     "status": "completed"
    },
    "tags": []
   },
   "outputs": [
    {
     "name": "stdout",
     "output_type": "stream",
     "text": [
      "Source Test Label Accuracy: 0.9908742820676452 Target Test Label Accuracy: 0.8536233842273566\n",
      "Source Val Label Accuracy: 0.9915532916371139 Target Val Label Accuracy: 0.8592255125284738\n"
     ]
    }
   ],
   "source": [
    "print(\"Source Test Label Accuracy:\", experiment[\"results\"][\"source_test_label_accuracy\"], \"Target Test Label Accuracy:\", experiment[\"results\"][\"target_test_label_accuracy\"])\n",
    "print(\"Source Val Label Accuracy:\", experiment[\"results\"][\"source_val_label_accuracy\"], \"Target Val Label Accuracy:\", experiment[\"results\"][\"target_val_label_accuracy\"])"
   ]
  },
  {
   "cell_type": "code",
   "execution_count": 20,
   "id": "9f450536",
   "metadata": {
    "execution": {
     "iopub.execute_input": "2022-03-25T20:39:26.031796Z",
     "iopub.status.busy": "2022-03-25T20:39:26.031353Z",
     "iopub.status.idle": "2022-03-25T20:39:26.034050Z",
     "shell.execute_reply": "2022-03-25T20:39:26.033641Z"
    },
    "papermill": {
     "duration": 0.055128,
     "end_time": "2022-03-25T20:39:26.034135",
     "exception": false,
     "start_time": "2022-03-25T20:39:25.979007",
     "status": "completed"
    },
    "tags": [
     "experiment_json"
    ]
   },
   "outputs": [
    {
     "data": {
      "text/plain": [
       "'{\"experiment_name\": \"cnn_1:cores\", \"parameters\": {\"experiment_name\": \"cnn_1:cores\", \"device\": \"cuda\", \"lr\": 0.0001, \"labels\": [\"1-10.\", \"1-11.\", \"1-15.\", \"1-16.\", \"1-17.\", \"1-18.\", \"1-19.\", \"10-4.\", \"10-7.\", \"11-1.\", \"11-14.\", \"11-17.\", \"11-20.\", \"11-7.\", \"13-20.\", \"13-8.\", \"14-10.\", \"14-11.\", \"14-14.\", \"14-7.\", \"15-1.\", \"15-20.\", \"16-1.\", \"16-16.\", \"17-10.\", \"17-11.\", \"17-2.\", \"19-1.\", \"19-16.\", \"19-19.\", \"19-20.\", \"19-3.\", \"2-10.\", \"2-11.\", \"2-17.\", \"2-18.\", \"2-20.\", \"2-3.\", \"2-4.\", \"2-5.\", \"2-6.\", \"2-7.\", \"2-8.\", \"3-13.\", \"3-18.\", \"3-3.\", \"4-1.\", \"4-10.\", \"4-11.\", \"4-19.\", \"5-5.\", \"6-15.\", \"7-10.\", \"7-14.\", \"8-18.\", \"8-20.\", \"8-3.\", \"8-8.\"], \"batch_size\": 128, \"domains_source\": [1, 5], \"domains_target\": [2, 3, 4], \"normalize_source\": false, \"normalize_target\": false, \"num_examples_per_domain_per_label_source\": -1, \"num_examples_per_domain_per_label_target\": -1, \"torch_default_dtype\": \"torch.float32\", \"n_epoch\": 50, \"patience\": 3, \"criteria_for_best\": \"target_accuracy\", \"x_net\": [{\"class\": \"nnReshape\", \"kargs\": {\"shape\": [-1, 1, 2, 256]}}, {\"class\": \"Conv2d\", \"kargs\": {\"in_channels\": 1, \"out_channels\": 256, \"kernel_size\": [1, 7], \"bias\": false, \"padding\": [0, 3]}}, {\"class\": \"ReLU\", \"kargs\": {\"inplace\": true}}, {\"class\": \"BatchNorm2d\", \"kargs\": {\"num_features\": 256}}, {\"class\": \"Conv2d\", \"kargs\": {\"in_channels\": 256, \"out_channels\": 80, \"kernel_size\": [2, 7], \"bias\": true, \"padding\": [0, 3]}}, {\"class\": \"ReLU\", \"kargs\": {\"inplace\": true}}, {\"class\": \"BatchNorm2d\", \"kargs\": {\"num_features\": 80}}, {\"class\": \"Flatten\", \"kargs\": {}}, {\"class\": \"Linear\", \"kargs\": {\"in_features\": 20480, \"out_features\": 256}}, {\"class\": \"ReLU\", \"kargs\": {\"inplace\": true}}, {\"class\": \"BatchNorm1d\", \"kargs\": {\"num_features\": 256}}, {\"class\": \"Linear\", \"kargs\": {\"in_features\": 256, \"out_features\": 58}}], \"NUM_LOGS_PER_EPOCH\": 10, \"BEST_MODEL_PATH\": \"./best_model.pth\", \"pickle_name_source\": \"cores.stratified_ds.2022A.pkl\", \"pickle_name_target\": \"cores.stratified_ds.2022A.pkl\", \"dataset_seed\": 154325, \"seed\": 154325}, \"results\": {\"source_test_label_accuracy\": 0.9908742820676452, \"source_test_label_loss\": 0.04327174517651641, \"target_test_label_accuracy\": 0.8536233842273566, \"target_test_label_loss\": 0.5719474336539192, \"source_val_label_accuracy\": 0.9915532916371139, \"source_val_label_loss\": 0.03718737433435487, \"target_val_label_accuracy\": 0.8592255125284738, \"target_val_label_loss\": 0.5449737490609635, \"total_epochs_trained\": 9, \"total_experiment_time_secs\": 79.7269823551178, \"confusion\": {\"1\": {\"36\": {\"36\": 81}, \"15\": {\"15\": 203}, \"56\": {\"56\": 210}, \"20\": {\"20\": 179}, \"44\": {\"44\": 172}, \"0\": {\"0\": 189, \"3\": 2}, \"39\": {\"39\": 36}, \"48\": {\"48\": 186}, \"5\": {\"5\": 201, \"45\": 4}, \"21\": {\"21\": 157}, \"3\": {\"3\": 178}, \"13\": {\"13\": 198}, \"52\": {\"52\": 169}, \"50\": {\"50\": 199}, \"1\": {\"1\": 128}, \"53\": {\"53\": 180}, \"33\": {\"33\": 41}, \"30\": {\"30\": 149, \"57\": 1}, \"11\": {\"11\": 179}, \"7\": {\"7\": 37}, \"45\": {\"45\": 198}, \"37\": {\"37\": 40}, \"9\": {\"9\": 199}, \"54\": {\"54\": 133}, \"43\": {\"43\": 184}, \"10\": {\"10\": 122}, \"8\": {\"8\": 177, \"30\": 1}, \"6\": {\"6\": 113, \"50\": 5, \"46\": 3}, \"40\": {\"40\": 195}, \"22\": {\"22\": 174}, \"32\": {\"32\": 43}, \"27\": {\"27\": 204}, \"19\": {\"19\": 199}, \"14\": {\"14\": 32}, \"26\": {\"26\": 30}, \"31\": {\"31\": 39}, \"16\": {\"16\": 177}, \"57\": {\"57\": 181}, \"55\": {\"55\": 286}, \"46\": {\"46\": 168, \"3\": 2, \"50\": 6}, \"25\": {\"25\": 181}, \"47\": {\"47\": 200}, \"29\": {\"29\": 178}, \"18\": {\"18\": 93}, \"12\": {\"12\": 148, \"46\": 1}, \"41\": {\"41\": 33}, \"49\": {\"49\": 44}, \"51\": {\"51\": 199}, \"23\": {\"23\": 172}, \"24\": {\"24\": 135}, \"4\": {\"4\": 167}, \"42\": {\"42\": 51}, \"38\": {\"38\": 32}, \"17\": {\"17\": 81}, \"2\": {\"2\": 49}, \"35\": {\"35\": 48}, \"34\": {\"34\": 30}, \"28\": {\"28\": 36}}, \"2\": {\"36\": {\"51\": 40, \"36\": 20, \"8\": 67, \"7\": 12, \"1\": 6}, \"5\": {\"3\": 146, \"5\": 8}, \"48\": {\"48\": 193}, \"54\": {\"54\": 139}, \"23\": {\"23\": 186}, \"15\": {\"15\": 193, \"11\": 1}, \"1\": {\"1\": 140}, \"18\": {\"18\": 63}, \"57\": {\"57\": 181}, \"22\": {\"22\": 172, \"52\": 1, \"13\": 1}, \"10\": {\"10\": 140}, \"40\": {\"40\": 176}, \"27\": {\"27\": 197, \"8\": 1}, \"56\": {\"56\": 151, \"27\": 24, \"22\": 5}, \"4\": {\"4\": 151, \"27\": 49}, \"46\": {\"3\": 50, \"46\": 114}, \"30\": {\"30\": 180}, \"8\": {\"8\": 203}, \"0\": {\"0\": 61}, \"37\": {\"37\": 42, \"13\": 3, \"31\": 1}, \"24\": {\"24\": 120, \"41\": 1}, \"55\": {\"55\": 211}, \"53\": {\"53\": 174}, \"51\": {\"51\": 170}, \"21\": {\"21\": 137, \"12\": 7, \"46\": 5, \"45\": 1, \"9\": 1, \"3\": 2, \"44\": 1}, \"42\": {\"19\": 40, \"38\": 1, \"31\": 6}, \"47\": {\"47\": 186}, \"16\": {\"16\": 189, \"11\": 1}, \"14\": {\"14\": 10, \"43\": 4, \"29\": 14, \"56\": 2}, \"52\": {\"52\": 155, \"46\": 1}, \"25\": {\"25\": 234}, \"43\": {\"43\": 189}, \"13\": {\"13\": 148}, \"35\": {\"33\": 42, \"19\": 1, \"32\": 1}, \"3\": {\"3\": 66, \"50\": 50, \"46\": 3}, \"29\": {\"29\": 161}, \"39\": {\"39\": 34, \"41\": 1}, \"6\": {\"3\": 126, \"6\": 19, \"50\": 3, \"46\": 11}, \"9\": {\"9\": 188, \"27\": 6, \"29\": 1}, \"20\": {\"20\": 175, \"51\": 1, \"9\": 1, \"12\": 1}, \"44\": {\"40\": 40, \"44\": 89}, \"12\": {\"6\": 18, \"12\": 72, \"46\": 27, \"3\": 1, \"20\": 1}, \"28\": {\"10\": 28, \"15\": 5, \"11\": 1, \"2\": 2}, \"11\": {\"11\": 198}, \"49\": {\"25\": 32, \"37\": 2}, \"31\": {\"31\": 38}, \"45\": {\"45\": 163}, \"17\": {\"17\": 132}, \"33\": {\"33\": 38}, \"41\": {\"32\": 6, \"27\": 10, \"2\": 5, \"21\": 2, \"37\": 4}, \"50\": {\"50\": 154, \"3\": 15, \"45\": 2}, \"7\": {\"7\": 25, \"47\": 4, \"49\": 9, \"38\": 2, \"11\": 3, \"31\": 2}, \"2\": {\"36\": 42, \"32\": 2}, \"19\": {\"19\": 196}, \"34\": {\"18\": 2, \"19\": 13, \"15\": 1, \"34\": 3, \"32\": 13, \"23\": 3, \"42\": 1}, \"32\": {\"32\": 33, \"14\": 2, \"42\": 1}, \"26\": {\"26\": 34}, \"38\": {\"2\": 2, \"49\": 16, \"21\": 6, \"38\": 2}}, \"3\": {\"36\": {\"8\": 39, \"51\": 23, \"1\": 24, \"36\": 36, \"7\": 6}, \"57\": {\"57\": 154, \"29\": 1}, \"16\": {\"16\": 194, \"11\": 1}, \"24\": {\"24\": 133}, \"53\": {\"53\": 184}, \"43\": {\"43\": 170}, \"1\": {\"1\": 129}, \"56\": {\"56\": 171}, \"8\": {\"8\": 192, \"9\": 1}, \"12\": {\"46\": 31, \"6\": 53, \"12\": 13, \"20\": 19, \"10\": 1}, \"55\": {\"55\": 213}, \"52\": {\"52\": 175, \"6\": 1, \"46\": 1, \"9\": 1}, \"20\": {\"20\": 166}, \"29\": {\"29\": 160}, \"10\": {\"10\": 82}, \"46\": {\"46\": 146, \"3\": 30}, \"17\": {\"17\": 135}, \"25\": {\"25\": 213}, \"9\": {\"9\": 186, \"27\": 4, \"29\": 1}, \"50\": {\"50\": 160, \"3\": 25}, \"48\": {\"48\": 144, \"9\": 1, \"52\": 1}, \"27\": {\"27\": 180}, \"2\": {\"2\": 39, \"7\": 3}, \"41\": {\"52\": 32, \"9\": 2, \"49\": 3, \"47\": 1}, \"37\": {\"37\": 39}, \"13\": {\"13\": 160}, \"51\": {\"51\": 163}, \"4\": {\"4\": 164, \"27\": 21}, \"33\": {\"9\": 20, \"49\": 11, \"52\": 1, \"21\": 3, \"32\": 1, \"42\": 1, \"2\": 1}, \"26\": {\"42\": 25, \"39\": 7, \"11\": 1, \"34\": 1}, \"15\": {\"15\": 200, \"16\": 1}, \"47\": {\"47\": 116, \"52\": 1, \"46\": 1, \"9\": 1}, \"44\": {\"40\": 37, \"44\": 75}, \"3\": {\"3\": 125, \"50\": 61}, \"21\": {\"21\": 137, \"45\": 2, \"3\": 11, \"44\": 6, \"20\": 1, \"6\": 2, \"5\": 1}, \"6\": {\"3\": 102, \"45\": 1, \"6\": 7, \"50\": 1, \"46\": 3}, \"40\": {\"40\": 173}, \"5\": {\"45\": 35, \"3\": 108, \"5\": 5}, \"22\": {\"22\": 177}, \"18\": {\"18\": 105}, \"19\": {\"19\": 194}, \"54\": {\"54\": 126}, \"30\": {\"30\": 150}, \"0\": {\"0\": 159}, \"28\": {\"28\": 35, \"16\": 1, \"43\": 1}, \"11\": {\"11\": 190, \"15\": 2}, \"42\": {\"2\": 28, \"7\": 6, \"15\": 2, \"34\": 1, \"19\": 1}, \"23\": {\"23\": 182}, \"45\": {\"45\": 78, \"3\": 1}, \"38\": {\"38\": 37}, \"31\": {\"31\": 36}, \"32\": {\"32\": 33, \"27\": 3}, \"34\": {\"34\": 43}, \"39\": {\"32\": 21, \"27\": 2, \"30\": 1}, \"7\": {\"7\": 46}, \"35\": {\"35\": 33, \"33\": 5}, \"14\": {\"56\": 3, \"14\": 40, \"1\": 4, \"29\": 2, \"43\": 3, \"27\": 1}, \"49\": {\"49\": 18, \"43\": 4, \"28\": 2, \"10\": 1}}, \"5\": {\"19\": {\"19\": 194}, \"12\": {\"46\": 20, \"12\": 102, \"6\": 1}, \"34\": {\"34\": 44, \"32\": 1}, \"43\": {\"43\": 192, \"27\": 1}, \"15\": {\"15\": 208, \"11\": 1}, \"50\": {\"50\": 176, \"3\": 11}, \"38\": {\"38\": 43, \"17\": 1}, \"57\": {\"57\": 167, \"21\": 1}, \"24\": {\"24\": 103, \"13\": 1}, \"8\": {\"8\": 192}, \"27\": {\"27\": 204}, \"56\": {\"56\": 193}, \"53\": {\"53\": 192, \"17\": 1}, \"18\": {\"18\": 84}, \"29\": {\"29\": 165}, \"17\": {\"17\": 145}, \"23\": {\"23\": 158}, \"20\": {\"20\": 184}, \"5\": {\"5\": 160, \"3\": 1}, \"11\": {\"11\": 203}, \"0\": {\"0\": 157}, \"36\": {\"36\": 117, \"33\": 1}, \"44\": {\"44\": 191, \"3\": 1}, \"46\": {\"46\": 185, \"3\": 3}, \"48\": {\"48\": 172, \"9\": 1}, \"4\": {\"4\": 124, \"45\": 1}, \"1\": {\"1\": 187}, \"6\": {\"6\": 108, \"45\": 43, \"3\": 6, \"50\": 3, \"46\": 1}, \"16\": {\"16\": 192, \"41\": 1, \"25\": 1, \"11\": 1}, \"3\": {\"3\": 129}, \"51\": {\"51\": 189, \"12\": 1}, \"49\": {\"49\": 46}, \"9\": {\"9\": 196}, \"7\": {\"7\": 42}, \"21\": {\"21\": 183}, \"52\": {\"52\": 176}, \"55\": {\"55\": 249}, \"37\": {\"37\": 32}, \"30\": {\"30\": 160}, \"54\": {\"54\": 141}, \"26\": {\"26\": 32}, \"45\": {\"45\": 157}, \"47\": {\"47\": 125}, \"39\": {\"39\": 26}, \"2\": {\"2\": 36}, \"13\": {\"13\": 203}, \"40\": {\"40\": 159}, \"25\": {\"25\": 225}, \"22\": {\"22\": 35}, \"31\": {\"31\": 45}, \"14\": {\"14\": 55}, \"32\": {\"32\": 44}, \"10\": {\"10\": 89}, \"35\": {\"35\": 47}, \"42\": {\"42\": 52, \"41\": 1}, \"33\": {\"33\": 44}, \"41\": {\"41\": 35, \"33\": 1}, \"28\": {\"28\": 41}}, \"4\": {\"23\": {\"23\": 183}, \"33\": {\"33\": 45, \"29\": 1}, \"6\": {\"3\": 121, \"46\": 14, \"50\": 1, \"6\": 3, \"45\": 1}, \"13\": {\"13\": 191, \"22\": 1}, \"4\": {\"4\": 26, \"27\": 128, \"57\": 11, \"40\": 1}, \"48\": {\"48\": 195}, \"36\": {\"14\": 74, \"20\": 12, \"7\": 10, \"32\": 3, \"51\": 13, \"1\": 5, \"36\": 1}, \"40\": {\"40\": 188, \"45\": 1}, \"25\": {\"25\": 203}, \"15\": {\"15\": 193}, \"16\": {\"16\": 123, \"11\": 1}, \"43\": {\"43\": 185, \"10\": 1}, \"46\": {\"46\": 133, \"3\": 61, \"56\": 1}, \"26\": {\"19\": 19, \"32\": 12}, \"56\": {\"56\": 193}, \"42\": {\"42\": 43}, \"29\": {\"29\": 158, \"27\": 1}, \"0\": {\"0\": 93, \"3\": 10}, \"17\": {\"17\": 100}, \"24\": {\"24\": 71}, \"44\": {\"44\": 162, \"45\": 3, \"3\": 1}, \"22\": {\"22\": 122, \"3\": 36, \"52\": 2}, \"27\": {\"27\": 192}, \"8\": {\"8\": 182}, \"49\": {\"49\": 26, \"28\": 1}, \"53\": {\"53\": 177}, \"12\": {\"12\": 105, \"46\": 9, \"6\": 1}, \"52\": {\"52\": 148, \"21\": 1}, \"39\": {\"39\": 27}, \"51\": {\"51\": 183}, \"10\": {\"10\": 173}, \"55\": {\"55\": 247}, \"28\": {\"19\": 35, \"25\": 2, \"15\": 5, \"31\": 1}, \"50\": {\"50\": 156, \"3\": 10, \"46\": 2}, \"9\": {\"9\": 188, \"57\": 2}, \"18\": {\"18\": 137}, \"20\": {\"46\": 2, \"20\": 167}, \"47\": {\"47\": 152}, \"21\": {\"45\": 92, \"21\": 73, \"6\": 4}, \"37\": {\"37\": 24, \"13\": 6, \"31\": 1}, \"19\": {\"19\": 182}, \"11\": {\"11\": 128, \"15\": 1, \"53\": 1, \"16\": 1}, \"34\": {\"32\": 14, \"15\": 6, \"19\": 6, \"34\": 5}, \"3\": {\"3\": 111, \"50\": 46, \"46\": 1}, \"30\": {\"30\": 47, \"6\": 10, \"50\": 1}, \"45\": {\"45\": 122}, \"54\": {\"54\": 139}, \"14\": {\"14\": 18, \"57\": 1, \"0\": 1}, \"7\": {\"31\": 10, \"7\": 3, \"38\": 9, \"39\": 9, \"13\": 1, \"47\": 1, \"49\": 1}, \"5\": {\"3\": 98, \"45\": 28, \"5\": 9, \"50\": 1}, \"57\": {\"57\": 129}, \"31\": {\"11\": 20, \"31\": 13, \"12\": 2, \"51\": 1}, \"38\": {\"35\": 23, \"31\": 13, \"43\": 5, \"32\": 5, \"23\": 1, \"33\": 2, \"27\": 1, \"21\": 1}, \"2\": {\"32\": 11, \"27\": 34}, \"35\": {\"34\": 3, \"33\": 31, \"35\": 15, \"28\": 1}, \"1\": {\"1\": 53, \"22\": 1}, \"32\": {\"31\": 31, \"15\": 2}, \"41\": {\"41\": 44, \"42\": 1}}}, \"per_domain_accuracy\": {\"1\": {\"accuracy\": 0.9968225724453482, \"source?\": true}, \"2\": {\"accuracy\": 0.8581117021276595, \"source?\": false}, \"3\": {\"accuracy\": 0.8809164494443682, \"source?\": false}, \"5\": {\"accuracy\": 0.9861274702264101, \"source?\": true}, \"4\": {\"accuracy\": 0.8382579470662372, \"source?\": false}}}, \"history\": {\"epoch_indices\": [1, 2, 3, 4, 5, 6, 7, 8, 9], \"train_label_loss\": [1.1211296119268093, 0.12987547129077812, 0.06511521214966885, 0.020621739159023364, 0.044037872863913766, 0.02478856752621679, 0.013993783337047691, 0.025940930235124206, 0.0066494800117191475], \"source_val_label_loss\": [0.2667091084552593, 0.28268369116255493, 0.047323282823333, 0.030514624084300192, 0.03717849551715323, 0.03647844151395266, 0.047040764311114786, 0.01470278125622722, 0.01690700874457777], \"target_val_label_loss\": [0.779821801670762, 0.8136916344248971, 0.5433120199067648, 0.5624620294155076, 0.5457830829329269, 0.6745068491544834, 0.6937690146787222, 0.5547039325154105, 0.5993912770997646], \"source_val_acc_label\": [0.9741440453929976, 0.9457734218840673, 0.9905216326004256, 0.9952930556451093, 0.9915532916371139, 0.9918112063962861, 0.9894899735637371, 0.997162937649107, 0.9967760655103488], \"target_val_acc_label\": [0.8307061503416856, 0.8008200455580866, 0.8530296127562642, 0.8590888382687927, 0.8592255125284738, 0.839498861047836, 0.8169476082004555, 0.8569020501138952, 0.8544419134396355]}, \"dataset_metrics\": {\"source\": {\"train\": {\"n_unique_x\": 72578, \"n_unique_y\": 58, \"n_batch/episode\": 568}, \"val\": {\"n_unique_x\": 15509, \"n_unique_y\": 58, \"n_batch/episode\": 122}, \"test\": {\"n_unique_x\": 15670, \"n_unique_y\": 58, \"n_batch/episode\": 123}}, \"target\": {\"train\": {\"n_unique_x\": 102771, \"n_unique_y\": 58, \"n_batch/episode\": 803}, \"val\": {\"n_unique_x\": 21950, \"n_unique_y\": 58, \"n_batch/episode\": 172}, \"test\": {\"n_unique_x\": 22203, \"n_unique_y\": 58, \"n_batch/episode\": 174}}}}'"
      ]
     },
     "execution_count": 20,
     "metadata": {},
     "output_type": "execute_result"
    }
   ],
   "source": [
    "json.dumps(experiment)"
   ]
  }
 ],
 "metadata": {
  "celltoolbar": "Tags",
  "kernelspec": {
   "display_name": "Python 3 (ipykernel)",
   "language": "python",
   "name": "python3"
  },
  "language_info": {
   "codemirror_mode": {
    "name": "ipython",
    "version": 3
   },
   "file_extension": ".py",
   "mimetype": "text/x-python",
   "name": "python",
   "nbconvert_exporter": "python",
   "pygments_lexer": "ipython3",
   "version": "3.8.12"
  },
  "papermill": {
   "default_parameters": {},
   "duration": 96.625536,
   "end_time": "2022-03-25T20:39:27.799350",
   "environment_variables": {},
   "exception": null,
   "input_path": "/root/csc500-main/csc500-notebooks/templates/cnn_template.ipynb",
   "output_path": "trial.ipynb",
   "parameters": {
    "parameters": {
     "BEST_MODEL_PATH": "./best_model.pth",
     "NUM_LOGS_PER_EPOCH": 10,
     "batch_size": 128,
     "criteria_for_best": "target_accuracy",
     "dataset_seed": 154325,
     "device": "cuda",
     "domains_source": [
      1,
      5
     ],
     "domains_target": [
      2,
      3,
      4
     ],
     "experiment_name": "cnn_1:cores",
     "labels": [
      "1-10.",
      "1-11.",
      "1-15.",
      "1-16.",
      "1-17.",
      "1-18.",
      "1-19.",
      "10-4.",
      "10-7.",
      "11-1.",
      "11-14.",
      "11-17.",
      "11-20.",
      "11-7.",
      "13-20.",
      "13-8.",
      "14-10.",
      "14-11.",
      "14-14.",
      "14-7.",
      "15-1.",
      "15-20.",
      "16-1.",
      "16-16.",
      "17-10.",
      "17-11.",
      "17-2.",
      "19-1.",
      "19-16.",
      "19-19.",
      "19-20.",
      "19-3.",
      "2-10.",
      "2-11.",
      "2-17.",
      "2-18.",
      "2-20.",
      "2-3.",
      "2-4.",
      "2-5.",
      "2-6.",
      "2-7.",
      "2-8.",
      "3-13.",
      "3-18.",
      "3-3.",
      "4-1.",
      "4-10.",
      "4-11.",
      "4-19.",
      "5-5.",
      "6-15.",
      "7-10.",
      "7-14.",
      "8-18.",
      "8-20.",
      "8-3.",
      "8-8."
     ],
     "lr": 0.0001,
     "n_epoch": 50,
     "normalize_source": false,
     "normalize_target": false,
     "num_examples_per_domain_per_label_source": -1,
     "num_examples_per_domain_per_label_target": -1,
     "patience": 3,
     "pickle_name_source": "cores.stratified_ds.2022A.pkl",
     "pickle_name_target": "cores.stratified_ds.2022A.pkl",
     "seed": 154325,
     "torch_default_dtype": "torch.float32",
     "x_net": [
      {
       "class": "nnReshape",
       "kargs": {
        "shape": [
         -1,
         1,
         2,
         256
        ]
       }
      },
      {
       "class": "Conv2d",
       "kargs": {
        "bias": false,
        "in_channels": 1,
        "kernel_size": [
         1,
         7
        ],
        "out_channels": 256,
        "padding": [
         0,
         3
        ]
       }
      },
      {
       "class": "ReLU",
       "kargs": {
        "inplace": true
       }
      },
      {
       "class": "BatchNorm2d",
       "kargs": {
        "num_features": 256
       }
      },
      {
       "class": "Conv2d",
       "kargs": {
        "bias": true,
        "in_channels": 256,
        "kernel_size": [
         2,
         7
        ],
        "out_channels": 80,
        "padding": [
         0,
         3
        ]
       }
      },
      {
       "class": "ReLU",
       "kargs": {
        "inplace": true
       }
      },
      {
       "class": "BatchNorm2d",
       "kargs": {
        "num_features": 80
       }
      },
      {
       "class": "Flatten",
       "kargs": {}
      },
      {
       "class": "Linear",
       "kargs": {
        "in_features": 20480,
        "out_features": 256
       }
      },
      {
       "class": "ReLU",
       "kargs": {
        "inplace": true
       }
      },
      {
       "class": "BatchNorm1d",
       "kargs": {
        "num_features": 256
       }
      },
      {
       "class": "Linear",
       "kargs": {
        "in_features": 256,
        "out_features": 58
       }
      }
     ]
    }
   },
   "start_time": "2022-03-25T20:37:51.173814",
   "version": "2.3.4"
  }
 },
 "nbformat": 4,
 "nbformat_minor": 5
}