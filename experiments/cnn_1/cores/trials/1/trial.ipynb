{
 "cells": [
  {
   "cell_type": "code",
   "execution_count": 1,
   "id": "2324682e",
   "metadata": {
    "execution": {
     "iopub.execute_input": "2022-03-25T20:39:28.728357Z",
     "iopub.status.busy": "2022-03-25T20:39:28.727483Z",
     "iopub.status.idle": "2022-03-25T20:39:30.109849Z",
     "shell.execute_reply": "2022-03-25T20:39:30.108955Z"
    },
    "papermill": {
     "duration": 1.422207,
     "end_time": "2022-03-25T20:39:30.110049",
     "exception": false,
     "start_time": "2022-03-25T20:39:28.687842",
     "status": "completed"
    },
    "tags": []
   },
   "outputs": [],
   "source": [
    "import os, json, sys, time, random\n",
    "import numpy as np\n",
    "import torch\n",
    "from  easydict import EasyDict\n",
    "from math import floor\n",
    "from easydict import EasyDict\n",
    "\n",
    "from steves_utils.vanilla_train_eval_test_jig import  Vanilla_Train_Eval_Test_Jig\n",
    "\n",
    "from steves_utils.torch_utils import get_dataset_metrics, independent_accuracy_assesment\n",
    "from steves_models.configurable_vanilla import Configurable_Vanilla\n",
    "from steves_utils.torch_sequential_builder import build_sequential\n",
    "from steves_utils.lazy_map import Lazy_Map\n",
    "from steves_utils.sequence_aggregator import Sequence_Aggregator\n",
    "\n",
    "from steves_utils.stratified_dataset.traditional_accessor import Traditional_Accessor_Factory\n",
    "\n",
    "from steves_utils.cnn_do_report import (\n",
    "    get_loss_curve,\n",
    "    get_results_table,\n",
    "    get_parameters_table,\n",
    "    get_domain_accuracies,\n",
    ")\n",
    "\n",
    "from steves_utils.torch_utils import (\n",
    "    confusion_by_domain_over_dataloader,\n",
    "    independent_accuracy_assesment\n",
    ")\n",
    "\n",
    "from steves_utils.utils_v2 import (\n",
    "    per_domain_accuracy_from_confusion,\n",
    "    get_datasets_base_path\n",
    ")\n",
    "\n",
    "# from steves_utils.ptn_do_report import TBD"
   ]
  },
  {
   "cell_type": "code",
   "execution_count": 2,
   "id": "1b29e3fe",
   "metadata": {
    "execution": {
     "iopub.execute_input": "2022-03-25T20:39:30.152048Z",
     "iopub.status.busy": "2022-03-25T20:39:30.151661Z",
     "iopub.status.idle": "2022-03-25T20:39:30.154044Z",
     "shell.execute_reply": "2022-03-25T20:39:30.154351Z"
    },
    "papermill": {
     "duration": 0.022299,
     "end_time": "2022-03-25T20:39:30.154434",
     "exception": false,
     "start_time": "2022-03-25T20:39:30.132135",
     "status": "completed"
    },
    "tags": []
   },
   "outputs": [],
   "source": [
    "required_parameters = {\n",
    "    \"experiment_name\",\n",
    "    \"lr\",\n",
    "    \"device\",\n",
    "    \"dataset_seed\",\n",
    "    \"seed\",\n",
    "    \"labels\",\n",
    "    \"domains_target\",\n",
    "    \"domains_source\",\n",
    "    \"num_examples_per_domain_per_label_source\",\n",
    "    \"num_examples_per_domain_per_label_target\",\n",
    "    \"batch_size\",\n",
    "    \"n_epoch\",\n",
    "    \"patience\",\n",
    "    \"criteria_for_best\",\n",
    "    \"normalize_source\",\n",
    "    \"normalize_target\",\n",
    "    \"x_net\",\n",
    "    \"NUM_LOGS_PER_EPOCH\",\n",
    "    \"BEST_MODEL_PATH\",\n",
    "    \"pickle_name_source\",\n",
    "    \"pickle_name_target\",\n",
    "    \"torch_default_dtype\",\n",
    "}"
   ]
  },
  {
   "cell_type": "code",
   "execution_count": 3,
   "id": "670b5fb8",
   "metadata": {
    "execution": {
     "iopub.execute_input": "2022-03-25T20:39:30.198971Z",
     "iopub.status.busy": "2022-03-25T20:39:30.198073Z",
     "iopub.status.idle": "2022-03-25T20:39:30.206245Z",
     "shell.execute_reply": "2022-03-25T20:39:30.205429Z"
    },
    "papermill": {
     "duration": 0.034137,
     "end_time": "2022-03-25T20:39:30.206401",
     "exception": false,
     "start_time": "2022-03-25T20:39:30.172264",
     "status": "completed"
    },
    "tags": [
     "parameters"
    ]
   },
   "outputs": [],
   "source": [
    "from steves_utils.ORACLE.utils_v2 import (\n",
    "    ALL_SERIAL_NUMBERS,\n",
    "    ALL_DISTANCES_FEET_NARROWED,\n",
    ")\n",
    "\n",
    "standalone_parameters = {}\n",
    "standalone_parameters[\"experiment_name\"] = \"MANUAL CORES CNN\"\n",
    "standalone_parameters[\"lr\"] = 0.0001\n",
    "standalone_parameters[\"device\"] = \"cuda\"\n",
    "\n",
    "standalone_parameters[\"dataset_seed\"] = 1337\n",
    "standalone_parameters[\"seed\"] = 1337\n",
    "standalone_parameters[\"labels\"] = ALL_SERIAL_NUMBERS\n",
    "\n",
    "standalone_parameters[\"domains_source\"] = [8,32,50]\n",
    "standalone_parameters[\"domains_target\"] = [14,20,26,38,44,]\n",
    "\n",
    "standalone_parameters[\"num_examples_per_domain_per_label_source\"]=-1\n",
    "standalone_parameters[\"num_examples_per_domain_per_label_target\"]=-1\n",
    "\n",
    "standalone_parameters[\"pickle_name_source\"] = \"oracle.Run1_framed_2000Examples_stratified_ds.2022A.pkl\"\n",
    "standalone_parameters[\"pickle_name_target\"] = \"oracle.Run2_framed_2000Examples_stratified_ds.2022A.pkl\"\n",
    "\n",
    "standalone_parameters[\"torch_default_dtype\"] = \"torch.float32\" \n",
    "\n",
    "standalone_parameters[\"batch_size\"]=128\n",
    "\n",
    "standalone_parameters[\"n_epoch\"] = 3\n",
    "\n",
    "standalone_parameters[\"patience\"] = 10\n",
    "\n",
    "standalone_parameters[\"criteria_for_best\"] = \"target_accuracy\"\n",
    "standalone_parameters[\"normalize_source\"] = False\n",
    "standalone_parameters[\"normalize_target\"] = False\n",
    "\n",
    "standalone_parameters[\"x_net\"] =     [\n",
    "    {\"class\": \"nnReshape\", \"kargs\": {\"shape\":[-1, 1, 2, 256]}},\n",
    "    {\"class\": \"Conv2d\", \"kargs\": { \"in_channels\":1, \"out_channels\":256, \"kernel_size\":(1,7), \"bias\":False, \"padding\":(0,3), },},\n",
    "    {\"class\": \"ReLU\", \"kargs\": {\"inplace\": True}},\n",
    "    {\"class\": \"BatchNorm2d\", \"kargs\": {\"num_features\":256}},\n",
    "\n",
    "    {\"class\": \"Conv2d\", \"kargs\": { \"in_channels\":256, \"out_channels\":80, \"kernel_size\":(2,7), \"bias\":True, \"padding\":(0,3), },},\n",
    "    {\"class\": \"ReLU\", \"kargs\": {\"inplace\": True}},\n",
    "    {\"class\": \"BatchNorm2d\", \"kargs\": {\"num_features\":80}},\n",
    "    {\"class\": \"Flatten\", \"kargs\": {}},\n",
    "\n",
    "    {\"class\": \"Linear\", \"kargs\": {\"in_features\": 80*256, \"out_features\": 256}}, # 80 units per IQ pair\n",
    "    {\"class\": \"ReLU\", \"kargs\": {\"inplace\": True}},\n",
    "    {\"class\": \"BatchNorm1d\", \"kargs\": {\"num_features\":256}},\n",
    "\n",
    "    {\"class\": \"Linear\", \"kargs\": {\"in_features\": 256, \"out_features\": len(standalone_parameters[\"labels\"])}},\n",
    "]\n",
    "\n",
    "standalone_parameters[\"NUM_LOGS_PER_EPOCH\"] = 10\n",
    "standalone_parameters[\"BEST_MODEL_PATH\"] = \"./best_model.pth\""
   ]
  },
  {
   "cell_type": "code",
   "execution_count": 4,
   "id": "7aeeccc3",
   "metadata": {
    "execution": {
     "iopub.execute_input": "2022-03-25T20:39:30.254477Z",
     "iopub.status.busy": "2022-03-25T20:39:30.253547Z",
     "iopub.status.idle": "2022-03-25T20:39:30.256406Z",
     "shell.execute_reply": "2022-03-25T20:39:30.255587Z"
    },
    "papermill": {
     "duration": 0.030918,
     "end_time": "2022-03-25T20:39:30.256561",
     "exception": false,
     "start_time": "2022-03-25T20:39:30.225643",
     "status": "completed"
    },
    "tags": [
     "injected-parameters"
    ]
   },
   "outputs": [],
   "source": [
    "# Parameters\n",
    "parameters = {\n",
    "    \"experiment_name\": \"cnn_1:cores\",\n",
    "    \"device\": \"cuda\",\n",
    "    \"lr\": 0.0001,\n",
    "    \"labels\": [\n",
    "        \"1-10.\",\n",
    "        \"1-11.\",\n",
    "        \"1-15.\",\n",
    "        \"1-16.\",\n",
    "        \"1-17.\",\n",
    "        \"1-18.\",\n",
    "        \"1-19.\",\n",
    "        \"10-4.\",\n",
    "        \"10-7.\",\n",
    "        \"11-1.\",\n",
    "        \"11-14.\",\n",
    "        \"11-17.\",\n",
    "        \"11-20.\",\n",
    "        \"11-7.\",\n",
    "        \"13-20.\",\n",
    "        \"13-8.\",\n",
    "        \"14-10.\",\n",
    "        \"14-11.\",\n",
    "        \"14-14.\",\n",
    "        \"14-7.\",\n",
    "        \"15-1.\",\n",
    "        \"15-20.\",\n",
    "        \"16-1.\",\n",
    "        \"16-16.\",\n",
    "        \"17-10.\",\n",
    "        \"17-11.\",\n",
    "        \"17-2.\",\n",
    "        \"19-1.\",\n",
    "        \"19-16.\",\n",
    "        \"19-19.\",\n",
    "        \"19-20.\",\n",
    "        \"19-3.\",\n",
    "        \"2-10.\",\n",
    "        \"2-11.\",\n",
    "        \"2-17.\",\n",
    "        \"2-18.\",\n",
    "        \"2-20.\",\n",
    "        \"2-3.\",\n",
    "        \"2-4.\",\n",
    "        \"2-5.\",\n",
    "        \"2-6.\",\n",
    "        \"2-7.\",\n",
    "        \"2-8.\",\n",
    "        \"3-13.\",\n",
    "        \"3-18.\",\n",
    "        \"3-3.\",\n",
    "        \"4-1.\",\n",
    "        \"4-10.\",\n",
    "        \"4-11.\",\n",
    "        \"4-19.\",\n",
    "        \"5-5.\",\n",
    "        \"6-15.\",\n",
    "        \"7-10.\",\n",
    "        \"7-14.\",\n",
    "        \"8-18.\",\n",
    "        \"8-20.\",\n",
    "        \"8-3.\",\n",
    "        \"8-8.\",\n",
    "    ],\n",
    "    \"batch_size\": 128,\n",
    "    \"domains_source\": [1, 5],\n",
    "    \"domains_target\": [2, 3, 4],\n",
    "    \"normalize_source\": False,\n",
    "    \"normalize_target\": False,\n",
    "    \"num_examples_per_domain_per_label_source\": -1,\n",
    "    \"num_examples_per_domain_per_label_target\": -1,\n",
    "    \"torch_default_dtype\": \"torch.float32\",\n",
    "    \"n_epoch\": 50,\n",
    "    \"patience\": 3,\n",
    "    \"criteria_for_best\": \"target_accuracy\",\n",
    "    \"x_net\": [\n",
    "        {\"class\": \"nnReshape\", \"kargs\": {\"shape\": [-1, 1, 2, 256]}},\n",
    "        {\n",
    "            \"class\": \"Conv2d\",\n",
    "            \"kargs\": {\n",
    "                \"in_channels\": 1,\n",
    "                \"out_channels\": 256,\n",
    "                \"kernel_size\": [1, 7],\n",
    "                \"bias\": False,\n",
    "                \"padding\": [0, 3],\n",
    "            },\n",
    "        },\n",
    "        {\"class\": \"ReLU\", \"kargs\": {\"inplace\": True}},\n",
    "        {\"class\": \"BatchNorm2d\", \"kargs\": {\"num_features\": 256}},\n",
    "        {\n",
    "            \"class\": \"Conv2d\",\n",
    "            \"kargs\": {\n",
    "                \"in_channels\": 256,\n",
    "                \"out_channels\": 80,\n",
    "                \"kernel_size\": [2, 7],\n",
    "                \"bias\": True,\n",
    "                \"padding\": [0, 3],\n",
    "            },\n",
    "        },\n",
    "        {\"class\": \"ReLU\", \"kargs\": {\"inplace\": True}},\n",
    "        {\"class\": \"BatchNorm2d\", \"kargs\": {\"num_features\": 80}},\n",
    "        {\"class\": \"Flatten\", \"kargs\": {}},\n",
    "        {\"class\": \"Linear\", \"kargs\": {\"in_features\": 20480, \"out_features\": 256}},\n",
    "        {\"class\": \"ReLU\", \"kargs\": {\"inplace\": True}},\n",
    "        {\"class\": \"BatchNorm1d\", \"kargs\": {\"num_features\": 256}},\n",
    "        {\"class\": \"Linear\", \"kargs\": {\"in_features\": 256, \"out_features\": 58}},\n",
    "    ],\n",
    "    \"NUM_LOGS_PER_EPOCH\": 10,\n",
    "    \"BEST_MODEL_PATH\": \"./best_model.pth\",\n",
    "    \"pickle_name_source\": \"cores.stratified_ds.2022A.pkl\",\n",
    "    \"pickle_name_target\": \"cores.stratified_ds.2022A.pkl\",\n",
    "    \"dataset_seed\": 1337,\n",
    "    \"seed\": 1337,\n",
    "}\n"
   ]
  },
  {
   "cell_type": "code",
   "execution_count": 5,
   "id": "759b56ec",
   "metadata": {
    "execution": {
     "iopub.execute_input": "2022-03-25T20:39:30.297139Z",
     "iopub.status.busy": "2022-03-25T20:39:30.296762Z",
     "iopub.status.idle": "2022-03-25T20:39:30.299049Z",
     "shell.execute_reply": "2022-03-25T20:39:30.298729Z"
    },
    "papermill": {
     "duration": 0.022192,
     "end_time": "2022-03-25T20:39:30.299119",
     "exception": false,
     "start_time": "2022-03-25T20:39:30.276927",
     "status": "completed"
    },
    "tags": []
   },
   "outputs": [],
   "source": [
    "# Set this to True if you want to run this template directly\n",
    "STANDALONE = False\n",
    "if STANDALONE:\n",
    "    print(\"parameters not injected, running with standalone_parameters\")\n",
    "    parameters = standalone_parameters\n",
    "\n",
    "if not 'parameters' in locals() and not 'parameters' in globals():\n",
    "    raise Exception(\"Parameter injection failed\")\n",
    "\n",
    "#Use an easy dict for all the parameters\n",
    "p = EasyDict(parameters)\n",
    "\n",
    "supplied_keys = set(p.keys())\n",
    "\n",
    "if  supplied_keys != required_parameters:\n",
    "    print(\"Parameters are incorrect\")\n",
    "    if len(supplied_keys - required_parameters)>0: print(\"Shouldn't have:\", str(supplied_keys - required_parameters))\n",
    "    if len(required_parameters - supplied_keys)>0: print(\"Need to have:\", str(required_parameters - supplied_keys))\n",
    "    raise RuntimeError(\"Parameters are incorrect\")\n",
    "\n"
   ]
  },
  {
   "cell_type": "code",
   "execution_count": 6,
   "id": "d5c66a71",
   "metadata": {
    "execution": {
     "iopub.execute_input": "2022-03-25T20:39:30.334733Z",
     "iopub.status.busy": "2022-03-25T20:39:30.334357Z",
     "iopub.status.idle": "2022-03-25T20:39:30.338450Z",
     "shell.execute_reply": "2022-03-25T20:39:30.337896Z"
    },
    "papermill": {
     "duration": 0.021361,
     "end_time": "2022-03-25T20:39:30.338556",
     "exception": false,
     "start_time": "2022-03-25T20:39:30.317195",
     "status": "completed"
    },
    "tags": []
   },
   "outputs": [],
   "source": [
    "###################################\n",
    "# Set the RNGs and make it all deterministic\n",
    "###################################\n",
    "np.random.seed(p.seed)\n",
    "random.seed(p.seed)\n",
    "torch.manual_seed(p.seed)\n",
    "\n",
    "torch.use_deterministic_algorithms(True) "
   ]
  },
  {
   "cell_type": "code",
   "execution_count": 7,
   "id": "92a65876",
   "metadata": {
    "execution": {
     "iopub.execute_input": "2022-03-25T20:39:30.374096Z",
     "iopub.status.busy": "2022-03-25T20:39:30.373729Z",
     "iopub.status.idle": "2022-03-25T20:39:30.376250Z",
     "shell.execute_reply": "2022-03-25T20:39:30.376556Z"
    },
    "papermill": {
     "duration": 0.020793,
     "end_time": "2022-03-25T20:39:30.376636",
     "exception": false,
     "start_time": "2022-03-25T20:39:30.355843",
     "status": "completed"
    },
    "tags": []
   },
   "outputs": [],
   "source": [
    "torch.set_default_dtype(eval(p.torch_default_dtype))"
   ]
  },
  {
   "cell_type": "code",
   "execution_count": 8,
   "id": "f1a32f01",
   "metadata": {
    "execution": {
     "iopub.execute_input": "2022-03-25T20:39:30.410652Z",
     "iopub.status.busy": "2022-03-25T20:39:30.409933Z",
     "iopub.status.idle": "2022-03-25T20:39:30.447713Z",
     "shell.execute_reply": "2022-03-25T20:39:30.446957Z"
    },
    "papermill": {
     "duration": 0.054542,
     "end_time": "2022-03-25T20:39:30.447868",
     "exception": false,
     "start_time": "2022-03-25T20:39:30.393326",
     "status": "completed"
    },
    "tags": []
   },
   "outputs": [],
   "source": [
    "###################################\n",
    "# Build the network(s)\n",
    "# Note: It's critical to do this AFTER setting the RNG\n",
    "###################################\n",
    "x_net = build_sequential(p.x_net)"
   ]
  },
  {
   "cell_type": "code",
   "execution_count": 9,
   "id": "a276cd83",
   "metadata": {
    "execution": {
     "iopub.execute_input": "2022-03-25T20:39:30.487076Z",
     "iopub.status.busy": "2022-03-25T20:39:30.486711Z",
     "iopub.status.idle": "2022-03-25T20:39:30.489438Z",
     "shell.execute_reply": "2022-03-25T20:39:30.489119Z"
    },
    "papermill": {
     "duration": 0.020788,
     "end_time": "2022-03-25T20:39:30.489507",
     "exception": false,
     "start_time": "2022-03-25T20:39:30.468719",
     "status": "completed"
    },
    "tags": []
   },
   "outputs": [],
   "source": [
    "start_time_secs = time.time()"
   ]
  },
  {
   "cell_type": "code",
   "execution_count": 10,
   "id": "de702e48",
   "metadata": {
    "execution": {
     "iopub.execute_input": "2022-03-25T20:39:30.535501Z",
     "iopub.status.busy": "2022-03-25T20:39:30.534621Z",
     "iopub.status.idle": "2022-03-25T20:39:34.282652Z",
     "shell.execute_reply": "2022-03-25T20:39:34.281827Z"
    },
    "papermill": {
     "duration": 3.776189,
     "end_time": "2022-03-25T20:39:34.282838",
     "exception": false,
     "start_time": "2022-03-25T20:39:30.506649",
     "status": "completed"
    },
    "tags": []
   },
   "outputs": [],
   "source": [
    "def wrap_in_dataloader(p, ds):\n",
    "    return torch.utils.data.DataLoader(\n",
    "        ds,\n",
    "        batch_size=p.batch_size,\n",
    "        shuffle=True,\n",
    "        num_workers=1,\n",
    "        persistent_workers=True,\n",
    "        prefetch_factor=50,\n",
    "        pin_memory=True\n",
    "    )\n",
    "\n",
    "taf_source = Traditional_Accessor_Factory(\n",
    "    labels=p.labels,\n",
    "    domains=p.domains_source,\n",
    "    num_examples_per_domain_per_label=p.num_examples_per_domain_per_label_source,\n",
    "    pickle_path=os.path.join(get_datasets_base_path(), p.pickle_name_source),\n",
    "    seed=p.dataset_seed\n",
    ")\n",
    "train_original_source, val_original_source, test_original_source = \\\n",
    "    taf_source.get_train(), taf_source.get_val(), taf_source.get_test()\n",
    "\n",
    "\n",
    "taf_target = Traditional_Accessor_Factory(\n",
    "    labels=p.labels,\n",
    "    domains=p.domains_target,\n",
    "    num_examples_per_domain_per_label=p.num_examples_per_domain_per_label_source,\n",
    "    pickle_path=os.path.join(get_datasets_base_path(), p.pickle_name_target),\n",
    "    seed=p.dataset_seed\n",
    ")\n",
    "train_original_target, val_original_target, test_original_target = \\\n",
    "    taf_target.get_train(), taf_target.get_val(), taf_target.get_test()\n",
    "\n",
    "\n",
    "# For CNN We only use X and Y. And we only train on the source.\n",
    "# Properly form the data using a transform lambda and Lazy_Map. Finally wrap them in a dataloader\n",
    "\n",
    "transform_lambda = lambda ex: ex[:2] # Strip the tuple to just (x,y)\n",
    "\n",
    "\n",
    "train_processed_source = wrap_in_dataloader(\n",
    "    p,\n",
    "    Lazy_Map(train_original_source, transform_lambda)\n",
    ")\n",
    "val_processed_source = wrap_in_dataloader(\n",
    "    p,\n",
    "    Lazy_Map(val_original_source, transform_lambda)\n",
    ")\n",
    "test_processed_source = wrap_in_dataloader(\n",
    "    p,\n",
    "    Lazy_Map(test_original_source, transform_lambda)\n",
    ")\n",
    "\n",
    "train_processed_target = wrap_in_dataloader(\n",
    "    p,\n",
    "    Lazy_Map(train_original_target, transform_lambda)\n",
    ")\n",
    "val_processed_target = wrap_in_dataloader(\n",
    "    p,\n",
    "    Lazy_Map(val_original_target, transform_lambda)\n",
    ")\n",
    "test_processed_target  = wrap_in_dataloader(\n",
    "    p,\n",
    "    Lazy_Map(test_original_target, transform_lambda)\n",
    ")\n",
    "\n",
    "\n",
    "\n",
    "datasets = EasyDict({\n",
    "    \"source\": {\n",
    "        \"original\": {\"train\":train_original_source, \"val\":val_original_source, \"test\":test_original_source},\n",
    "        \"processed\": {\"train\":train_processed_source, \"val\":val_processed_source, \"test\":test_processed_source}\n",
    "    },\n",
    "    \"target\": {\n",
    "        \"original\": {\"train\":train_original_target, \"val\":val_original_target, \"test\":test_original_target},\n",
    "        \"processed\": {\"train\":train_processed_target, \"val\":val_processed_target, \"test\":test_processed_target}\n",
    "    },\n",
    "})"
   ]
  },
  {
   "cell_type": "code",
   "execution_count": 11,
   "id": "a11b26bd",
   "metadata": {
    "execution": {
     "iopub.execute_input": "2022-03-25T20:39:34.367140Z",
     "iopub.status.busy": "2022-03-25T20:39:34.366305Z",
     "iopub.status.idle": "2022-03-25T20:39:39.916391Z",
     "shell.execute_reply": "2022-03-25T20:39:39.915461Z"
    },
    "papermill": {
     "duration": 5.613692,
     "end_time": "2022-03-25T20:39:39.916573",
     "exception": false,
     "start_time": "2022-03-25T20:39:34.302881",
     "status": "completed"
    },
    "tags": []
   },
   "outputs": [
    {
     "data": {
      "text/plain": [
       "torch.float32"
      ]
     },
     "execution_count": 11,
     "metadata": {},
     "output_type": "execute_result"
    }
   ],
   "source": [
    "ep = next(iter(test_processed_target))\n",
    "ep[0].dtype"
   ]
  },
  {
   "cell_type": "code",
   "execution_count": 12,
   "id": "19425fad",
   "metadata": {
    "execution": {
     "iopub.execute_input": "2022-03-25T20:39:39.958594Z",
     "iopub.status.busy": "2022-03-25T20:39:39.957958Z",
     "iopub.status.idle": "2022-03-25T20:39:40.004546Z",
     "shell.execute_reply": "2022-03-25T20:39:40.003850Z"
    },
    "papermill": {
     "duration": 0.068604,
     "end_time": "2022-03-25T20:39:40.004732",
     "exception": false,
     "start_time": "2022-03-25T20:39:39.936128",
     "status": "completed"
    },
    "tags": []
   },
   "outputs": [],
   "source": [
    "model = Configurable_Vanilla(\n",
    "    x_net=x_net,\n",
    "    label_loss_object=torch.nn.NLLLoss(),\n",
    "    learning_rate=p.lr\n",
    ")"
   ]
  },
  {
   "cell_type": "code",
   "execution_count": 13,
   "id": "7f6d4f2c",
   "metadata": {
    "execution": {
     "iopub.execute_input": "2022-03-25T20:39:40.043078Z",
     "iopub.status.busy": "2022-03-25T20:39:40.042709Z",
     "iopub.status.idle": "2022-03-25T20:42:55.781491Z",
     "shell.execute_reply": "2022-03-25T20:42:55.782187Z"
    },
    "papermill": {
     "duration": 195.758675,
     "end_time": "2022-03-25T20:42:55.782402",
     "exception": false,
     "start_time": "2022-03-25T20:39:40.023727",
     "status": "completed"
    },
    "tags": []
   },
   "outputs": [
    {
     "name": "stdout",
     "output_type": "stream",
     "text": [
      "epoch: 1, [batch: 1 / 568], examples_per_second: 621.3683, train_label_loss: 4.0176, \n"
     ]
    },
    {
     "name": "stdout",
     "output_type": "stream",
     "text": [
      "epoch: 1, [batch: 57 / 568], examples_per_second: 10306.9097, train_label_loss: 2.7713, \n"
     ]
    },
    {
     "name": "stdout",
     "output_type": "stream",
     "text": [
      "epoch: 1, [batch: 114 / 568], examples_per_second: 10739.3513, train_label_loss: 1.8883, \n"
     ]
    },
    {
     "name": "stdout",
     "output_type": "stream",
     "text": [
      "epoch: 1, [batch: 171 / 568], examples_per_second: 10773.6745, train_label_loss: 1.3210, \n"
     ]
    },
    {
     "name": "stdout",
     "output_type": "stream",
     "text": [
      "epoch: 1, [batch: 227 / 568], examples_per_second: 10742.7013, train_label_loss: 0.8738, \n"
     ]
    },
    {
     "name": "stdout",
     "output_type": "stream",
     "text": [
      "epoch: 1, [batch: 284 / 568], examples_per_second: 10736.5480, train_label_loss: 0.7364, \n"
     ]
    },
    {
     "name": "stdout",
     "output_type": "stream",
     "text": [
      "epoch: 1, [batch: 341 / 568], examples_per_second: 10763.2993, train_label_loss: 0.5228, \n"
     ]
    },
    {
     "name": "stdout",
     "output_type": "stream",
     "text": [
      "epoch: 1, [batch: 397 / 568], examples_per_second: 10613.8765, train_label_loss: 0.3696, \n"
     ]
    },
    {
     "name": "stdout",
     "output_type": "stream",
     "text": [
      "epoch: 1, [batch: 454 / 568], examples_per_second: 10555.7337, train_label_loss: 0.3168, \n"
     ]
    },
    {
     "name": "stdout",
     "output_type": "stream",
     "text": [
      "epoch: 1, [batch: 511 / 568], examples_per_second: 10721.4339, train_label_loss: 0.2801, \n"
     ]
    },
    {
     "name": "stdout",
     "output_type": "stream",
     "text": [
      "=============================================================\n",
      "epoch: 1, source_val_acc_label: 0.9738, source_val_label_loss: 0.2359, target_val_acc_label: 0.8257, target_val_label_loss: 0.7840, \n",
      "=============================================================\n"
     ]
    },
    {
     "name": "stdout",
     "output_type": "stream",
     "text": [
      "New best\n",
      "epoch: 2, [batch: 1 / 568], examples_per_second: 101.0031, train_label_loss: 0.2564, \n"
     ]
    },
    {
     "name": "stdout",
     "output_type": "stream",
     "text": [
      "epoch: 2, [batch: 57 / 568], examples_per_second: 10335.0738, train_label_loss: 0.1822, \n"
     ]
    },
    {
     "name": "stdout",
     "output_type": "stream",
     "text": [
      "epoch: 2, [batch: 114 / 568], examples_per_second: 10696.5537, train_label_loss: 0.1110, \n"
     ]
    },
    {
     "name": "stdout",
     "output_type": "stream",
     "text": [
      "epoch: 2, [batch: 171 / 568], examples_per_second: 10793.0346, train_label_loss: 0.1425, \n"
     ]
    },
    {
     "name": "stdout",
     "output_type": "stream",
     "text": [
      "epoch: 2, [batch: 227 / 568], examples_per_second: 10833.0860, train_label_loss: 0.0828, \n"
     ]
    },
    {
     "name": "stdout",
     "output_type": "stream",
     "text": [
      "epoch: 2, [batch: 284 / 568], examples_per_second: 10582.5345, train_label_loss: 0.1177, \n"
     ]
    },
    {
     "name": "stdout",
     "output_type": "stream",
     "text": [
      "epoch: 2, [batch: 341 / 568], examples_per_second: 10779.9024, train_label_loss: 0.1178, \n"
     ]
    },
    {
     "name": "stdout",
     "output_type": "stream",
     "text": [
      "epoch: 2, [batch: 397 / 568], examples_per_second: 10745.2508, train_label_loss: 0.0857, \n"
     ]
    },
    {
     "name": "stdout",
     "output_type": "stream",
     "text": [
      "epoch: 2, [batch: 454 / 568], examples_per_second: 10668.6411, train_label_loss: 0.0549, \n"
     ]
    },
    {
     "name": "stdout",
     "output_type": "stream",
     "text": [
      "epoch: 2, [batch: 511 / 568], examples_per_second: 10714.4255, train_label_loss: 0.0638, \n"
     ]
    },
    {
     "name": "stdout",
     "output_type": "stream",
     "text": [
      "=============================================================\n",
      "epoch: 2, source_val_acc_label: 0.9215, source_val_label_loss: 0.3541, target_val_acc_label: 0.7708, target_val_label_loss: 0.8886, \n",
      "=============================================================\n"
     ]
    },
    {
     "name": "stdout",
     "output_type": "stream",
     "text": [
      "epoch: 3, [batch: 1 / 568], examples_per_second: 121.2871, train_label_loss: 0.3716, \n"
     ]
    },
    {
     "name": "stdout",
     "output_type": "stream",
     "text": [
      "epoch: 3, [batch: 57 / 568], examples_per_second: 10540.0816, train_label_loss: 0.2447, \n"
     ]
    },
    {
     "name": "stdout",
     "output_type": "stream",
     "text": [
      "epoch: 3, [batch: 114 / 568], examples_per_second: 10723.4101, train_label_loss: 0.1763, \n"
     ]
    },
    {
     "name": "stdout",
     "output_type": "stream",
     "text": [
      "epoch: 3, [batch: 171 / 568], examples_per_second: 10571.1690, train_label_loss: 0.0753, \n"
     ]
    },
    {
     "name": "stdout",
     "output_type": "stream",
     "text": [
      "epoch: 3, [batch: 227 / 568], examples_per_second: 10784.8330, train_label_loss: 0.0786, \n"
     ]
    },
    {
     "name": "stdout",
     "output_type": "stream",
     "text": [
      "epoch: 3, [batch: 284 / 568], examples_per_second: 10914.8088, train_label_loss: 0.0894, \n"
     ]
    },
    {
     "name": "stdout",
     "output_type": "stream",
     "text": [
      "epoch: 3, [batch: 341 / 568], examples_per_second: 10375.8543, train_label_loss: 0.0448, \n"
     ]
    },
    {
     "name": "stdout",
     "output_type": "stream",
     "text": [
      "epoch: 3, [batch: 397 / 568], examples_per_second: 10736.5248, train_label_loss: 0.0475, \n"
     ]
    },
    {
     "name": "stdout",
     "output_type": "stream",
     "text": [
      "epoch: 3, [batch: 454 / 568], examples_per_second: 10637.2305, train_label_loss: 0.0539, \n"
     ]
    },
    {
     "name": "stdout",
     "output_type": "stream",
     "text": [
      "epoch: 3, [batch: 511 / 568], examples_per_second: 10705.5645, train_label_loss: 0.0326, \n"
     ]
    },
    {
     "name": "stdout",
     "output_type": "stream",
     "text": [
      "=============================================================\n",
      "epoch: 3, source_val_acc_label: 0.9934, source_val_label_loss: 0.0548, target_val_acc_label: 0.8482, target_val_label_loss: 0.5771, \n",
      "=============================================================\n"
     ]
    },
    {
     "name": "stdout",
     "output_type": "stream",
     "text": [
      "New best\n",
      "epoch: 4, [batch: 1 / 568], examples_per_second: 121.9118, train_label_loss: 0.0382, \n"
     ]
    },
    {
     "name": "stdout",
     "output_type": "stream",
     "text": [
      "epoch: 4, [batch: 57 / 568], examples_per_second: 10774.4632, train_label_loss: 0.0406, \n"
     ]
    },
    {
     "name": "stdout",
     "output_type": "stream",
     "text": [
      "epoch: 4, [batch: 114 / 568], examples_per_second: 10645.1972, train_label_loss: 0.0280, \n"
     ]
    },
    {
     "name": "stdout",
     "output_type": "stream",
     "text": [
      "epoch: 4, [batch: 171 / 568], examples_per_second: 10782.3979, train_label_loss: 0.0337, \n"
     ]
    },
    {
     "name": "stdout",
     "output_type": "stream",
     "text": [
      "epoch: 4, [batch: 227 / 568], examples_per_second: 10692.8253, train_label_loss: 0.0284, \n"
     ]
    },
    {
     "name": "stdout",
     "output_type": "stream",
     "text": [
      "epoch: 4, [batch: 284 / 568], examples_per_second: 10411.6399, train_label_loss: 0.0415, \n"
     ]
    },
    {
     "name": "stdout",
     "output_type": "stream",
     "text": [
      "epoch: 4, [batch: 341 / 568], examples_per_second: 10184.3779, train_label_loss: 0.0301, \n"
     ]
    },
    {
     "name": "stdout",
     "output_type": "stream",
     "text": [
      "epoch: 4, [batch: 397 / 568], examples_per_second: 10463.1237, train_label_loss: 0.0203, \n"
     ]
    },
    {
     "name": "stdout",
     "output_type": "stream",
     "text": [
      "epoch: 4, [batch: 454 / 568], examples_per_second: 10668.5183, train_label_loss: 0.0191, \n"
     ]
    },
    {
     "name": "stdout",
     "output_type": "stream",
     "text": [
      "epoch: 4, [batch: 511 / 568], examples_per_second: 10669.4222, train_label_loss: 0.0456, \n"
     ]
    },
    {
     "name": "stdout",
     "output_type": "stream",
     "text": [
      "=============================================================\n",
      "epoch: 4, source_val_acc_label: 0.9954, source_val_label_loss: 0.0290, target_val_acc_label: 0.8509, target_val_label_loss: 0.6077, \n",
      "=============================================================\n"
     ]
    },
    {
     "name": "stdout",
     "output_type": "stream",
     "text": [
      "New best\n",
      "epoch: 5, [batch: 1 / 568], examples_per_second: 121.8764, train_label_loss: 0.0214, \n"
     ]
    },
    {
     "name": "stdout",
     "output_type": "stream",
     "text": [
      "epoch: 5, [batch: 57 / 568], examples_per_second: 10622.4942, train_label_loss: 0.0221, \n"
     ]
    },
    {
     "name": "stdout",
     "output_type": "stream",
     "text": [
      "epoch: 5, [batch: 114 / 568], examples_per_second: 10466.0572, train_label_loss: 0.0079, \n"
     ]
    },
    {
     "name": "stdout",
     "output_type": "stream",
     "text": [
      "epoch: 5, [batch: 171 / 568], examples_per_second: 10623.9323, train_label_loss: 0.0099, \n"
     ]
    },
    {
     "name": "stdout",
     "output_type": "stream",
     "text": [
      "epoch: 5, [batch: 227 / 568], examples_per_second: 10783.7073, train_label_loss: 0.0108, \n"
     ]
    },
    {
     "name": "stdout",
     "output_type": "stream",
     "text": [
      "epoch: 5, [batch: 284 / 568], examples_per_second: 10495.4232, train_label_loss: 0.0140, \n"
     ]
    },
    {
     "name": "stdout",
     "output_type": "stream",
     "text": [
      "epoch: 5, [batch: 341 / 568], examples_per_second: 10777.2145, train_label_loss: 0.0072, \n"
     ]
    },
    {
     "name": "stdout",
     "output_type": "stream",
     "text": [
      "epoch: 5, [batch: 397 / 568], examples_per_second: 11931.2601, train_label_loss: 0.0120, \n"
     ]
    },
    {
     "name": "stdout",
     "output_type": "stream",
     "text": [
      "epoch: 5, [batch: 454 / 568], examples_per_second: 11677.6136, train_label_loss: 0.0173, \n"
     ]
    },
    {
     "name": "stdout",
     "output_type": "stream",
     "text": [
      "epoch: 5, [batch: 511 / 568], examples_per_second: 11765.0884, train_label_loss: 0.0127, \n"
     ]
    },
    {
     "name": "stdout",
     "output_type": "stream",
     "text": [
      "=============================================================\n",
      "epoch: 5, source_val_acc_label: 0.9934, source_val_label_loss: 0.0293, target_val_acc_label: 0.8552, target_val_label_loss: 0.5313, \n",
      "=============================================================\n"
     ]
    },
    {
     "name": "stdout",
     "output_type": "stream",
     "text": [
      "New best\n",
      "epoch: 6, [batch: 1 / 568], examples_per_second: 133.6419, train_label_loss: 0.0628, \n"
     ]
    },
    {
     "name": "stdout",
     "output_type": "stream",
     "text": [
      "epoch: 6, [batch: 57 / 568], examples_per_second: 11606.2093, train_label_loss: 0.0469, \n"
     ]
    },
    {
     "name": "stdout",
     "output_type": "stream",
     "text": [
      "epoch: 6, [batch: 114 / 568], examples_per_second: 11768.1695, train_label_loss: 0.0402, \n"
     ]
    },
    {
     "name": "stdout",
     "output_type": "stream",
     "text": [
      "epoch: 6, [batch: 171 / 568], examples_per_second: 11735.6259, train_label_loss: 0.0201, \n"
     ]
    },
    {
     "name": "stdout",
     "output_type": "stream",
     "text": [
      "epoch: 6, [batch: 227 / 568], examples_per_second: 11738.8375, train_label_loss: 0.0220, \n"
     ]
    },
    {
     "name": "stdout",
     "output_type": "stream",
     "text": [
      "epoch: 6, [batch: 284 / 568], examples_per_second: 11798.4190, train_label_loss: 0.0220, \n"
     ]
    },
    {
     "name": "stdout",
     "output_type": "stream",
     "text": [
      "epoch: 6, [batch: 341 / 568], examples_per_second: 11726.2811, train_label_loss: 0.0340, \n"
     ]
    },
    {
     "name": "stdout",
     "output_type": "stream",
     "text": [
      "epoch: 6, [batch: 397 / 568], examples_per_second: 11730.6389, train_label_loss: 0.0251, \n"
     ]
    },
    {
     "name": "stdout",
     "output_type": "stream",
     "text": [
      "epoch: 6, [batch: 454 / 568], examples_per_second: 11740.4345, train_label_loss: 0.0119, \n"
     ]
    },
    {
     "name": "stdout",
     "output_type": "stream",
     "text": [
      "epoch: 6, [batch: 511 / 568], examples_per_second: 11968.3996, train_label_loss: 0.0165, \n"
     ]
    },
    {
     "name": "stdout",
     "output_type": "stream",
     "text": [
      "=============================================================\n",
      "epoch: 6, source_val_acc_label: 0.9961, source_val_label_loss: 0.0214, target_val_acc_label: 0.8479, target_val_label_loss: 0.5592, \n",
      "=============================================================\n"
     ]
    },
    {
     "name": "stdout",
     "output_type": "stream",
     "text": [
      "epoch: 7, [batch: 1 / 568], examples_per_second: 137.5986, train_label_loss: 0.0095, \n"
     ]
    },
    {
     "name": "stdout",
     "output_type": "stream",
     "text": [
      "epoch: 7, [batch: 57 / 568], examples_per_second: 11718.7963, train_label_loss: 0.0069, \n"
     ]
    },
    {
     "name": "stdout",
     "output_type": "stream",
     "text": [
      "epoch: 7, [batch: 114 / 568], examples_per_second: 11833.9568, train_label_loss: 0.0040, \n"
     ]
    },
    {
     "name": "stdout",
     "output_type": "stream",
     "text": [
      "epoch: 7, [batch: 171 / 568], examples_per_second: 11788.4291, train_label_loss: 0.0103, \n"
     ]
    },
    {
     "name": "stdout",
     "output_type": "stream",
     "text": [
      "epoch: 7, [batch: 227 / 568], examples_per_second: 12603.1372, train_label_loss: 0.0234, \n"
     ]
    },
    {
     "name": "stdout",
     "output_type": "stream",
     "text": [
      "epoch: 7, [batch: 284 / 568], examples_per_second: 11904.9607, train_label_loss: 0.0137, \n"
     ]
    },
    {
     "name": "stdout",
     "output_type": "stream",
     "text": [
      "epoch: 7, [batch: 341 / 568], examples_per_second: 11758.3708, train_label_loss: 0.0104, \n"
     ]
    },
    {
     "name": "stdout",
     "output_type": "stream",
     "text": [
      "epoch: 7, [batch: 397 / 568], examples_per_second: 11759.4073, train_label_loss: 0.0039, \n"
     ]
    },
    {
     "name": "stdout",
     "output_type": "stream",
     "text": [
      "epoch: 7, [batch: 454 / 568], examples_per_second: 11818.7647, train_label_loss: 0.0191, \n"
     ]
    },
    {
     "name": "stdout",
     "output_type": "stream",
     "text": [
      "epoch: 7, [batch: 511 / 568], examples_per_second: 11790.6002, train_label_loss: 0.0055, \n"
     ]
    },
    {
     "name": "stdout",
     "output_type": "stream",
     "text": [
      "=============================================================\n",
      "epoch: 7, source_val_acc_label: 0.9966, source_val_label_loss: 0.0150, target_val_acc_label: 0.8549, target_val_label_loss: 0.5736, \n",
      "=============================================================\n"
     ]
    },
    {
     "name": "stdout",
     "output_type": "stream",
     "text": [
      "epoch: 8, [batch: 1 / 568], examples_per_second: 138.6888, train_label_loss: 0.0048, \n"
     ]
    },
    {
     "name": "stdout",
     "output_type": "stream",
     "text": [
      "epoch: 8, [batch: 57 / 568], examples_per_second: 11750.0823, train_label_loss: 0.0041, \n"
     ]
    },
    {
     "name": "stdout",
     "output_type": "stream",
     "text": [
      "epoch: 8, [batch: 114 / 568], examples_per_second: 11860.6280, train_label_loss: 0.0100, \n"
     ]
    },
    {
     "name": "stdout",
     "output_type": "stream",
     "text": [
      "epoch: 8, [batch: 171 / 568], examples_per_second: 11681.2466, train_label_loss: 0.0041, \n"
     ]
    },
    {
     "name": "stdout",
     "output_type": "stream",
     "text": [
      "epoch: 8, [batch: 227 / 568], examples_per_second: 11797.5503, train_label_loss: 0.0033, \n"
     ]
    },
    {
     "name": "stdout",
     "output_type": "stream",
     "text": [
      "epoch: 8, [batch: 284 / 568], examples_per_second: 11682.2767, train_label_loss: 0.0027, \n"
     ]
    },
    {
     "name": "stdout",
     "output_type": "stream",
     "text": [
      "epoch: 8, [batch: 341 / 568], examples_per_second: 11863.7732, train_label_loss: 0.0034, \n"
     ]
    },
    {
     "name": "stdout",
     "output_type": "stream",
     "text": [
      "epoch: 8, [batch: 397 / 568], examples_per_second: 11834.3622, train_label_loss: 0.0026, \n"
     ]
    },
    {
     "name": "stdout",
     "output_type": "stream",
     "text": [
      "epoch: 8, [batch: 454 / 568], examples_per_second: 11785.0287, train_label_loss: 0.0032, \n"
     ]
    },
    {
     "name": "stdout",
     "output_type": "stream",
     "text": [
      "epoch: 8, [batch: 511 / 568], examples_per_second: 11797.1455, train_label_loss: 0.0038, \n"
     ]
    },
    {
     "name": "stdout",
     "output_type": "stream",
     "text": [
      "=============================================================\n",
      "epoch: 8, source_val_acc_label: 0.9913, source_val_label_loss: 0.0286, target_val_acc_label: 0.8413, target_val_label_loss: 0.6310, \n",
      "=============================================================\n"
     ]
    },
    {
     "name": "stdout",
     "output_type": "stream",
     "text": [
      "epoch: 9, [batch: 1 / 568], examples_per_second: 137.7770, train_label_loss: 0.0036, \n"
     ]
    },
    {
     "name": "stdout",
     "output_type": "stream",
     "text": [
      "epoch: 9, [batch: 57 / 568], examples_per_second: 11750.1328, train_label_loss: 0.0032, \n"
     ]
    },
    {
     "name": "stdout",
     "output_type": "stream",
     "text": [
      "epoch: 9, [batch: 114 / 568], examples_per_second: 11674.7267, train_label_loss: 0.0023, \n"
     ]
    },
    {
     "name": "stdout",
     "output_type": "stream",
     "text": [
      "epoch: 9, [batch: 171 / 568], examples_per_second: 11759.4236, train_label_loss: 0.0044, \n"
     ]
    },
    {
     "name": "stdout",
     "output_type": "stream",
     "text": [
      "epoch: 9, [batch: 227 / 568], examples_per_second: 11900.5952, train_label_loss: 0.0030, \n"
     ]
    },
    {
     "name": "stdout",
     "output_type": "stream",
     "text": [
      "epoch: 9, [batch: 284 / 568], examples_per_second: 11739.1779, train_label_loss: 0.0029, \n"
     ]
    },
    {
     "name": "stdout",
     "output_type": "stream",
     "text": [
      "epoch: 9, [batch: 341 / 568], examples_per_second: 11759.6721, train_label_loss: 0.0025, \n"
     ]
    },
    {
     "name": "stdout",
     "output_type": "stream",
     "text": [
      "epoch: 9, [batch: 397 / 568], examples_per_second: 11884.0744, train_label_loss: 0.0062, \n"
     ]
    },
    {
     "name": "stdout",
     "output_type": "stream",
     "text": [
      "epoch: 9, [batch: 454 / 568], examples_per_second: 11837.0695, train_label_loss: 0.0047, \n"
     ]
    },
    {
     "name": "stdout",
     "output_type": "stream",
     "text": [
      "epoch: 9, [batch: 511 / 568], examples_per_second: 11780.0747, train_label_loss: 0.0034, \n"
     ]
    },
    {
     "name": "stdout",
     "output_type": "stream",
     "text": [
      "=============================================================\n",
      "epoch: 9, source_val_acc_label: 0.9950, source_val_label_loss: 0.0181, target_val_acc_label: 0.8556, target_val_label_loss: 0.5763, \n",
      "=============================================================\n"
     ]
    },
    {
     "name": "stdout",
     "output_type": "stream",
     "text": [
      "New best\n",
      "epoch: 10, [batch: 1 / 568], examples_per_second: 136.7998, train_label_loss: 0.0026, \n"
     ]
    },
    {
     "name": "stdout",
     "output_type": "stream",
     "text": [
      "epoch: 10, [batch: 57 / 568], examples_per_second: 11785.3968, train_label_loss: 0.0027, \n"
     ]
    },
    {
     "name": "stdout",
     "output_type": "stream",
     "text": [
      "epoch: 10, [batch: 114 / 568], examples_per_second: 11772.8825, train_label_loss: 0.0099, \n"
     ]
    },
    {
     "name": "stdout",
     "output_type": "stream",
     "text": [
      "epoch: 10, [batch: 171 / 568], examples_per_second: 11674.7891, train_label_loss: 0.0042, \n"
     ]
    },
    {
     "name": "stdout",
     "output_type": "stream",
     "text": [
      "epoch: 10, [batch: 227 / 568], examples_per_second: 11860.2726, train_label_loss: 0.0029, \n"
     ]
    },
    {
     "name": "stdout",
     "output_type": "stream",
     "text": [
      "epoch: 10, [batch: 284 / 568], examples_per_second: 12858.2001, train_label_loss: 0.0049, \n"
     ]
    },
    {
     "name": "stdout",
     "output_type": "stream",
     "text": [
      "epoch: 10, [batch: 341 / 568], examples_per_second: 12036.5317, train_label_loss: 0.0034, \n"
     ]
    },
    {
     "name": "stdout",
     "output_type": "stream",
     "text": [
      "epoch: 10, [batch: 397 / 568], examples_per_second: 12373.4591, train_label_loss: 0.0011, \n"
     ]
    },
    {
     "name": "stdout",
     "output_type": "stream",
     "text": [
      "epoch: 10, [batch: 454 / 568], examples_per_second: 12463.9357, train_label_loss: 0.0013, \n"
     ]
    },
    {
     "name": "stdout",
     "output_type": "stream",
     "text": [
      "epoch: 10, [batch: 511 / 568], examples_per_second: 10789.6591, train_label_loss: 0.0057, \n"
     ]
    },
    {
     "name": "stdout",
     "output_type": "stream",
     "text": [
      "=============================================================\n",
      "epoch: 10, source_val_acc_label: 0.9944, source_val_label_loss: 0.0214, target_val_acc_label: 0.8467, target_val_label_loss: 0.6483, \n",
      "=============================================================\n"
     ]
    },
    {
     "name": "stdout",
     "output_type": "stream",
     "text": [
      "epoch: 11, [batch: 1 / 568], examples_per_second: 121.3499, train_label_loss: 0.0029, \n"
     ]
    },
    {
     "name": "stdout",
     "output_type": "stream",
     "text": [
      "epoch: 11, [batch: 57 / 568], examples_per_second: 10686.4515, train_label_loss: 0.0071, \n"
     ]
    },
    {
     "name": "stdout",
     "output_type": "stream",
     "text": [
      "epoch: 11, [batch: 114 / 568], examples_per_second: 10620.4074, train_label_loss: 0.0017, \n"
     ]
    },
    {
     "name": "stdout",
     "output_type": "stream",
     "text": [
      "epoch: 11, [batch: 171 / 568], examples_per_second: 11333.3118, train_label_loss: 0.0022, \n"
     ]
    },
    {
     "name": "stdout",
     "output_type": "stream",
     "text": [
      "epoch: 11, [batch: 227 / 568], examples_per_second: 11786.3624, train_label_loss: 0.0018, \n"
     ]
    },
    {
     "name": "stdout",
     "output_type": "stream",
     "text": [
      "epoch: 11, [batch: 284 / 568], examples_per_second: 11741.6687, train_label_loss: 0.0020, \n"
     ]
    },
    {
     "name": "stdout",
     "output_type": "stream",
     "text": [
      "epoch: 11, [batch: 341 / 568], examples_per_second: 11718.0325, train_label_loss: 0.0016, \n"
     ]
    },
    {
     "name": "stdout",
     "output_type": "stream",
     "text": [
      "epoch: 11, [batch: 397 / 568], examples_per_second: 11736.6745, train_label_loss: 0.0010, \n"
     ]
    },
    {
     "name": "stdout",
     "output_type": "stream",
     "text": [
      "epoch: 11, [batch: 454 / 568], examples_per_second: 11816.3597, train_label_loss: 0.0024, \n"
     ]
    },
    {
     "name": "stdout",
     "output_type": "stream",
     "text": [
      "epoch: 11, [batch: 511 / 568], examples_per_second: 11800.7394, train_label_loss: 0.0066, \n"
     ]
    },
    {
     "name": "stdout",
     "output_type": "stream",
     "text": [
      "=============================================================\n",
      "epoch: 11, source_val_acc_label: 0.8520, source_val_label_loss: 1.0767, target_val_acc_label: 0.6952, target_val_label_loss: 1.7980, \n",
      "=============================================================\n"
     ]
    },
    {
     "name": "stdout",
     "output_type": "stream",
     "text": [
      "epoch: 12, [batch: 1 / 568], examples_per_second: 139.9243, train_label_loss: 0.2184, \n"
     ]
    },
    {
     "name": "stdout",
     "output_type": "stream",
     "text": [
      "epoch: 12, [batch: 57 / 568], examples_per_second: 11595.9179, train_label_loss: 0.0965, \n"
     ]
    },
    {
     "name": "stdout",
     "output_type": "stream",
     "text": [
      "epoch: 12, [batch: 114 / 568], examples_per_second: 11722.1307, train_label_loss: 0.0499, \n"
     ]
    },
    {
     "name": "stdout",
     "output_type": "stream",
     "text": [
      "epoch: 12, [batch: 171 / 568], examples_per_second: 11671.1468, train_label_loss: 0.0446, \n"
     ]
    },
    {
     "name": "stdout",
     "output_type": "stream",
     "text": [
      "epoch: 12, [batch: 227 / 568], examples_per_second: 11747.4424, train_label_loss: 0.0271, \n"
     ]
    },
    {
     "name": "stdout",
     "output_type": "stream",
     "text": [
      "epoch: 12, [batch: 284 / 568], examples_per_second: 11712.3367, train_label_loss: 0.0495, \n"
     ]
    },
    {
     "name": "stdout",
     "output_type": "stream",
     "text": [
      "epoch: 12, [batch: 341 / 568], examples_per_second: 11815.5932, train_label_loss: 0.0086, \n"
     ]
    },
    {
     "name": "stdout",
     "output_type": "stream",
     "text": [
      "epoch: 12, [batch: 397 / 568], examples_per_second: 11722.6391, train_label_loss: 0.0164, \n"
     ]
    },
    {
     "name": "stdout",
     "output_type": "stream",
     "text": [
      "epoch: 12, [batch: 454 / 568], examples_per_second: 11720.0970, train_label_loss: 0.0146, \n"
     ]
    },
    {
     "name": "stdout",
     "output_type": "stream",
     "text": [
      "epoch: 12, [batch: 511 / 568], examples_per_second: 11726.0475, train_label_loss: 0.0366, \n"
     ]
    },
    {
     "name": "stdout",
     "output_type": "stream",
     "text": [
      "=============================================================\n",
      "epoch: 12, source_val_acc_label: 0.9968, source_val_label_loss: 0.0215, target_val_acc_label: 0.8525, target_val_label_loss: 0.5949, \n",
      "=============================================================\n"
     ]
    },
    {
     "name": "stdout",
     "output_type": "stream",
     "text": [
      "epoch: 13, [batch: 1 / 568], examples_per_second: 142.1636, train_label_loss: 0.0077, \n"
     ]
    },
    {
     "name": "stdout",
     "output_type": "stream",
     "text": [
      "epoch: 13, [batch: 57 / 568], examples_per_second: 12207.3537, train_label_loss: 0.0051, \n"
     ]
    },
    {
     "name": "stdout",
     "output_type": "stream",
     "text": [
      "epoch: 13, [batch: 114 / 568], examples_per_second: 12308.1844, train_label_loss: 0.0118, \n"
     ]
    },
    {
     "name": "stdout",
     "output_type": "stream",
     "text": [
      "epoch: 13, [batch: 171 / 568], examples_per_second: 11794.5856, train_label_loss: 0.0064, \n"
     ]
    },
    {
     "name": "stdout",
     "output_type": "stream",
     "text": [
      "epoch: 13, [batch: 227 / 568], examples_per_second: 11782.7040, train_label_loss: 0.0082, \n"
     ]
    },
    {
     "name": "stdout",
     "output_type": "stream",
     "text": [
      "epoch: 13, [batch: 284 / 568], examples_per_second: 11760.5172, train_label_loss: 0.0051, \n"
     ]
    },
    {
     "name": "stdout",
     "output_type": "stream",
     "text": [
      "epoch: 13, [batch: 341 / 568], examples_per_second: 11779.8072, train_label_loss: 0.0031, \n"
     ]
    },
    {
     "name": "stdout",
     "output_type": "stream",
     "text": [
      "epoch: 13, [batch: 397 / 568], examples_per_second: 11724.8426, train_label_loss: 0.0071, \n"
     ]
    },
    {
     "name": "stdout",
     "output_type": "stream",
     "text": [
      "epoch: 13, [batch: 454 / 568], examples_per_second: 11812.1589, train_label_loss: 0.0045, \n"
     ]
    },
    {
     "name": "stdout",
     "output_type": "stream",
     "text": [
      "epoch: 13, [batch: 511 / 568], examples_per_second: 11770.5640, train_label_loss: 0.0020, \n"
     ]
    },
    {
     "name": "stdout",
     "output_type": "stream",
     "text": [
      "=============================================================\n",
      "epoch: 13, source_val_acc_label: 0.9961, source_val_label_loss: 0.0179, target_val_acc_label: 0.8560, target_val_label_loss: 0.6097, \n",
      "=============================================================\n"
     ]
    },
    {
     "name": "stdout",
     "output_type": "stream",
     "text": [
      "New best\n",
      "epoch: 14, [batch: 1 / 568], examples_per_second: 135.2306, train_label_loss: 0.0055, \n"
     ]
    },
    {
     "name": "stdout",
     "output_type": "stream",
     "text": [
      "epoch: 14, [batch: 57 / 568], examples_per_second: 11547.5001, train_label_loss: 0.0047, \n"
     ]
    },
    {
     "name": "stdout",
     "output_type": "stream",
     "text": [
      "epoch: 14, [batch: 114 / 568], examples_per_second: 11759.7128, train_label_loss: 0.0017, \n"
     ]
    },
    {
     "name": "stdout",
     "output_type": "stream",
     "text": [
      "epoch: 14, [batch: 171 / 568], examples_per_second: 11802.3460, train_label_loss: 0.0013, \n"
     ]
    },
    {
     "name": "stdout",
     "output_type": "stream",
     "text": [
      "epoch: 14, [batch: 227 / 568], examples_per_second: 11801.7044, train_label_loss: 0.0033, \n"
     ]
    },
    {
     "name": "stdout",
     "output_type": "stream",
     "text": [
      "epoch: 14, [batch: 284 / 568], examples_per_second: 11826.9135, train_label_loss: 0.0016, \n"
     ]
    },
    {
     "name": "stdout",
     "output_type": "stream",
     "text": [
      "epoch: 14, [batch: 341 / 568], examples_per_second: 11657.9105, train_label_loss: 0.0026, \n"
     ]
    },
    {
     "name": "stdout",
     "output_type": "stream",
     "text": [
      "epoch: 14, [batch: 397 / 568], examples_per_second: 11928.5287, train_label_loss: 0.0022, \n"
     ]
    },
    {
     "name": "stdout",
     "output_type": "stream",
     "text": [
      "epoch: 14, [batch: 454 / 568], examples_per_second: 11793.5537, train_label_loss: 0.0015, \n"
     ]
    },
    {
     "name": "stdout",
     "output_type": "stream",
     "text": [
      "epoch: 14, [batch: 511 / 568], examples_per_second: 11854.2417, train_label_loss: 0.0019, \n"
     ]
    },
    {
     "name": "stdout",
     "output_type": "stream",
     "text": [
      "=============================================================\n",
      "epoch: 14, source_val_acc_label: 0.9963, source_val_label_loss: 0.0157, target_val_acc_label: 0.8606, target_val_label_loss: 0.6209, \n",
      "=============================================================\n"
     ]
    },
    {
     "name": "stdout",
     "output_type": "stream",
     "text": [
      "New best\n",
      "epoch: 15, [batch: 1 / 568], examples_per_second: 134.6767, train_label_loss: 0.0013, \n"
     ]
    },
    {
     "name": "stdout",
     "output_type": "stream",
     "text": [
      "epoch: 15, [batch: 57 / 568], examples_per_second: 11701.9106, train_label_loss: 0.0031, \n"
     ]
    },
    {
     "name": "stdout",
     "output_type": "stream",
     "text": [
      "epoch: 15, [batch: 114 / 568], examples_per_second: 11892.9914, train_label_loss: 0.0068, \n"
     ]
    },
    {
     "name": "stdout",
     "output_type": "stream",
     "text": [
      "epoch: 15, [batch: 171 / 568], examples_per_second: 11823.6737, train_label_loss: 0.0065, \n"
     ]
    },
    {
     "name": "stdout",
     "output_type": "stream",
     "text": [
      "epoch: 15, [batch: 227 / 568], examples_per_second: 11711.6155, train_label_loss: 0.0019, \n"
     ]
    },
    {
     "name": "stdout",
     "output_type": "stream",
     "text": [
      "epoch: 15, [batch: 284 / 568], examples_per_second: 11626.6179, train_label_loss: 0.0054, \n"
     ]
    },
    {
     "name": "stdout",
     "output_type": "stream",
     "text": [
      "epoch: 15, [batch: 341 / 568], examples_per_second: 11730.7853, train_label_loss: 0.0035, \n"
     ]
    },
    {
     "name": "stdout",
     "output_type": "stream",
     "text": [
      "epoch: 15, [batch: 397 / 568], examples_per_second: 11797.0272, train_label_loss: 0.0023, \n"
     ]
    },
    {
     "name": "stdout",
     "output_type": "stream",
     "text": [
      "epoch: 15, [batch: 454 / 568], examples_per_second: 11726.3395, train_label_loss: 0.0019, \n"
     ]
    },
    {
     "name": "stdout",
     "output_type": "stream",
     "text": [
      "epoch: 15, [batch: 511 / 568], examples_per_second: 11769.4413, train_label_loss: 0.0008, \n"
     ]
    },
    {
     "name": "stdout",
     "output_type": "stream",
     "text": [
      "=============================================================\n",
      "epoch: 15, source_val_acc_label: 0.9580, source_val_label_loss: 0.1595, target_val_acc_label: 0.8185, target_val_label_loss: 1.1174, \n",
      "=============================================================\n"
     ]
    },
    {
     "name": "stdout",
     "output_type": "stream",
     "text": [
      "epoch: 16, [batch: 1 / 568], examples_per_second: 138.6557, train_label_loss: 0.0917, \n"
     ]
    },
    {
     "name": "stdout",
     "output_type": "stream",
     "text": [
      "epoch: 16, [batch: 57 / 568], examples_per_second: 12045.0118, train_label_loss: 0.0292, \n"
     ]
    },
    {
     "name": "stdout",
     "output_type": "stream",
     "text": [
      "epoch: 16, [batch: 114 / 568], examples_per_second: 12638.2355, train_label_loss: 0.0358, \n"
     ]
    },
    {
     "name": "stdout",
     "output_type": "stream",
     "text": [
      "epoch: 16, [batch: 171 / 568], examples_per_second: 12727.3613, train_label_loss: 0.0032, \n"
     ]
    },
    {
     "name": "stdout",
     "output_type": "stream",
     "text": [
      "epoch: 16, [batch: 227 / 568], examples_per_second: 12609.6071, train_label_loss: 0.0044, \n"
     ]
    },
    {
     "name": "stdout",
     "output_type": "stream",
     "text": [
      "epoch: 16, [batch: 284 / 568], examples_per_second: 12403.4596, train_label_loss: 0.0070, \n"
     ]
    },
    {
     "name": "stdout",
     "output_type": "stream",
     "text": [
      "epoch: 16, [batch: 341 / 568], examples_per_second: 10856.9437, train_label_loss: 0.0083, \n"
     ]
    },
    {
     "name": "stdout",
     "output_type": "stream",
     "text": [
      "epoch: 16, [batch: 397 / 568], examples_per_second: 10824.2948, train_label_loss: 0.0055, \n"
     ]
    },
    {
     "name": "stdout",
     "output_type": "stream",
     "text": [
      "epoch: 16, [batch: 454 / 568], examples_per_second: 10704.9953, train_label_loss: 0.0288, \n"
     ]
    },
    {
     "name": "stdout",
     "output_type": "stream",
     "text": [
      "epoch: 16, [batch: 511 / 568], examples_per_second: 10759.2349, train_label_loss: 0.0073, \n"
     ]
    },
    {
     "name": "stdout",
     "output_type": "stream",
     "text": [
      "=============================================================\n",
      "epoch: 16, source_val_acc_label: 0.9959, source_val_label_loss: 0.0193, target_val_acc_label: 0.8451, target_val_label_loss: 0.6801, \n",
      "=============================================================\n"
     ]
    },
    {
     "name": "stdout",
     "output_type": "stream",
     "text": [
      "epoch: 17, [batch: 1 / 568], examples_per_second: 122.3417, train_label_loss: 0.0037, \n"
     ]
    },
    {
     "name": "stdout",
     "output_type": "stream",
     "text": [
      "epoch: 17, [batch: 57 / 568], examples_per_second: 10699.7818, train_label_loss: 0.0038, \n"
     ]
    },
    {
     "name": "stdout",
     "output_type": "stream",
     "text": [
      "epoch: 17, [batch: 114 / 568], examples_per_second: 10634.1809, train_label_loss: 0.0078, \n"
     ]
    },
    {
     "name": "stdout",
     "output_type": "stream",
     "text": [
      "epoch: 17, [batch: 171 / 568], examples_per_second: 10787.7763, train_label_loss: 0.0110, \n"
     ]
    },
    {
     "name": "stdout",
     "output_type": "stream",
     "text": [
      "epoch: 17, [batch: 227 / 568], examples_per_second: 10858.8983, train_label_loss: 0.0034, \n"
     ]
    },
    {
     "name": "stdout",
     "output_type": "stream",
     "text": [
      "epoch: 17, [batch: 284 / 568], examples_per_second: 10603.1232, train_label_loss: 0.0044, \n"
     ]
    },
    {
     "name": "stdout",
     "output_type": "stream",
     "text": [
      "epoch: 17, [batch: 341 / 568], examples_per_second: 10777.7763, train_label_loss: 0.0042, \n"
     ]
    },
    {
     "name": "stdout",
     "output_type": "stream",
     "text": [
      "epoch: 17, [batch: 397 / 568], examples_per_second: 10737.1613, train_label_loss: 0.0009, \n"
     ]
    },
    {
     "name": "stdout",
     "output_type": "stream",
     "text": [
      "epoch: 17, [batch: 454 / 568], examples_per_second: 10657.6727, train_label_loss: 0.0034, \n"
     ]
    },
    {
     "name": "stdout",
     "output_type": "stream",
     "text": [
      "epoch: 17, [batch: 511 / 568], examples_per_second: 10757.6842, train_label_loss: 0.0011, \n"
     ]
    },
    {
     "name": "stdout",
     "output_type": "stream",
     "text": [
      "=============================================================\n",
      "epoch: 17, source_val_acc_label: 0.9956, source_val_label_loss: 0.0201, target_val_acc_label: 0.8618, target_val_label_loss: 0.6316, \n",
      "=============================================================\n"
     ]
    },
    {
     "name": "stdout",
     "output_type": "stream",
     "text": [
      "New best\n",
      "epoch: 18, [batch: 1 / 568], examples_per_second: 118.7055, train_label_loss: 0.0023, \n"
     ]
    },
    {
     "name": "stdout",
     "output_type": "stream",
     "text": [
      "epoch: 18, [batch: 57 / 568], examples_per_second: 10534.9995, train_label_loss: 0.0037, \n"
     ]
    },
    {
     "name": "stdout",
     "output_type": "stream",
     "text": [
      "epoch: 18, [batch: 114 / 568], examples_per_second: 10802.9066, train_label_loss: 0.0014, \n"
     ]
    },
    {
     "name": "stdout",
     "output_type": "stream",
     "text": [
      "epoch: 18, [batch: 171 / 568], examples_per_second: 10839.6456, train_label_loss: 0.0018, \n"
     ]
    },
    {
     "name": "stdout",
     "output_type": "stream",
     "text": [
      "epoch: 18, [batch: 227 / 568], examples_per_second: 10785.5371, train_label_loss: 0.0007, \n"
     ]
    },
    {
     "name": "stdout",
     "output_type": "stream",
     "text": [
      "epoch: 18, [batch: 284 / 568], examples_per_second: 10783.9291, train_label_loss: 0.0006, \n"
     ]
    },
    {
     "name": "stdout",
     "output_type": "stream",
     "text": [
      "epoch: 18, [batch: 341 / 568], examples_per_second: 10849.4377, train_label_loss: 0.0013, \n"
     ]
    },
    {
     "name": "stdout",
     "output_type": "stream",
     "text": [
      "epoch: 18, [batch: 397 / 568], examples_per_second: 10787.2437, train_label_loss: 0.0016, \n"
     ]
    },
    {
     "name": "stdout",
     "output_type": "stream",
     "text": [
      "epoch: 18, [batch: 454 / 568], examples_per_second: 10737.9759, train_label_loss: 0.0008, \n"
     ]
    },
    {
     "name": "stdout",
     "output_type": "stream",
     "text": [
      "epoch: 18, [batch: 511 / 568], examples_per_second: 10737.7272, train_label_loss: 0.0009, \n"
     ]
    },
    {
     "name": "stdout",
     "output_type": "stream",
     "text": [
      "=============================================================\n",
      "epoch: 18, source_val_acc_label: 0.9500, source_val_label_loss: 0.2051, target_val_acc_label: 0.8050, target_val_label_loss: 1.1869, \n",
      "=============================================================\n"
     ]
    },
    {
     "name": "stdout",
     "output_type": "stream",
     "text": [
      "epoch: 19, [batch: 1 / 568], examples_per_second: 123.6162, train_label_loss: 0.0402, \n"
     ]
    },
    {
     "name": "stdout",
     "output_type": "stream",
     "text": [
      "epoch: 19, [batch: 57 / 568], examples_per_second: 10706.8998, train_label_loss: 0.0342, \n"
     ]
    },
    {
     "name": "stdout",
     "output_type": "stream",
     "text": [
      "epoch: 19, [batch: 114 / 568], examples_per_second: 10638.1956, train_label_loss: 0.0054, \n"
     ]
    },
    {
     "name": "stdout",
     "output_type": "stream",
     "text": [
      "epoch: 19, [batch: 171 / 568], examples_per_second: 10801.7626, train_label_loss: 0.0294, \n"
     ]
    },
    {
     "name": "stdout",
     "output_type": "stream",
     "text": [
      "epoch: 19, [batch: 227 / 568], examples_per_second: 10762.5026, train_label_loss: 0.0044, \n"
     ]
    },
    {
     "name": "stdout",
     "output_type": "stream",
     "text": [
      "epoch: 19, [batch: 284 / 568], examples_per_second: 10593.0187, train_label_loss: 0.0124, \n"
     ]
    },
    {
     "name": "stdout",
     "output_type": "stream",
     "text": [
      "epoch: 19, [batch: 341 / 568], examples_per_second: 10781.3190, train_label_loss: 0.0049, \n"
     ]
    },
    {
     "name": "stdout",
     "output_type": "stream",
     "text": [
      "epoch: 19, [batch: 397 / 568], examples_per_second: 10728.2264, train_label_loss: 0.0013, \n"
     ]
    },
    {
     "name": "stdout",
     "output_type": "stream",
     "text": [
      "epoch: 19, [batch: 454 / 568], examples_per_second: 10891.2718, train_label_loss: 0.0067, \n"
     ]
    },
    {
     "name": "stdout",
     "output_type": "stream",
     "text": [
      "epoch: 19, [batch: 511 / 568], examples_per_second: 10809.0844, train_label_loss: 0.0080, \n"
     ]
    },
    {
     "name": "stdout",
     "output_type": "stream",
     "text": [
      "=============================================================\n",
      "epoch: 19, source_val_acc_label: 0.9876, source_val_label_loss: 0.0450, target_val_acc_label: 0.8364, target_val_label_loss: 0.7157, \n",
      "=============================================================\n"
     ]
    },
    {
     "name": "stdout",
     "output_type": "stream",
     "text": [
      "epoch: 20, [batch: 1 / 568], examples_per_second: 122.7048, train_label_loss: 0.0366, \n"
     ]
    },
    {
     "name": "stdout",
     "output_type": "stream",
     "text": [
      "epoch: 20, [batch: 57 / 568], examples_per_second: 10741.6113, train_label_loss: 0.0057, \n"
     ]
    },
    {
     "name": "stdout",
     "output_type": "stream",
     "text": [
      "epoch: 20, [batch: 114 / 568], examples_per_second: 10808.7102, train_label_loss: 0.0046, \n"
     ]
    },
    {
     "name": "stdout",
     "output_type": "stream",
     "text": [
      "epoch: 20, [batch: 171 / 568], examples_per_second: 10740.5575, train_label_loss: 0.0018, \n"
     ]
    },
    {
     "name": "stdout",
     "output_type": "stream",
     "text": [
      "epoch: 20, [batch: 227 / 568], examples_per_second: 10840.5428, train_label_loss: 0.0010, \n"
     ]
    },
    {
     "name": "stdout",
     "output_type": "stream",
     "text": [
      "epoch: 20, [batch: 284 / 568], examples_per_second: 10607.2983, train_label_loss: 0.0042, \n"
     ]
    },
    {
     "name": "stdout",
     "output_type": "stream",
     "text": [
      "epoch: 20, [batch: 341 / 568], examples_per_second: 10803.8219, train_label_loss: 0.0013, \n"
     ]
    },
    {
     "name": "stdout",
     "output_type": "stream",
     "text": [
      "epoch: 20, [batch: 397 / 568], examples_per_second: 10762.1905, train_label_loss: 0.0030, \n"
     ]
    },
    {
     "name": "stdout",
     "output_type": "stream",
     "text": [
      "epoch: 20, [batch: 454 / 568], examples_per_second: 10766.6847, train_label_loss: 0.0011, \n"
     ]
    },
    {
     "name": "stdout",
     "output_type": "stream",
     "text": [
      "epoch: 20, [batch: 511 / 568], examples_per_second: 10635.8921, train_label_loss: 0.0009, \n"
     ]
    },
    {
     "name": "stdout",
     "output_type": "stream",
     "text": [
      "=============================================================\n",
      "epoch: 20, source_val_acc_label: 0.9411, source_val_label_loss: 0.1963, target_val_acc_label: 0.8010, target_val_label_loss: 1.1006, \n",
      "=============================================================\n"
     ]
    },
    {
     "name": "stdout",
     "output_type": "stream",
     "text": [
      "epoch: 21, [batch: 1 / 568], examples_per_second: 122.9510, train_label_loss: 0.0207, \n"
     ]
    },
    {
     "name": "stdout",
     "output_type": "stream",
     "text": [
      "epoch: 21, [batch: 57 / 568], examples_per_second: 10563.2454, train_label_loss: 0.0046, \n"
     ]
    },
    {
     "name": "stdout",
     "output_type": "stream",
     "text": [
      "epoch: 21, [batch: 114 / 568], examples_per_second: 10796.6559, train_label_loss: 0.0065, \n"
     ]
    },
    {
     "name": "stdout",
     "output_type": "stream",
     "text": [
      "epoch: 21, [batch: 171 / 568], examples_per_second: 10800.9048, train_label_loss: 0.0063, \n"
     ]
    },
    {
     "name": "stdout",
     "output_type": "stream",
     "text": [
      "epoch: 21, [batch: 227 / 568], examples_per_second: 10822.6505, train_label_loss: 0.0013, \n"
     ]
    },
    {
     "name": "stdout",
     "output_type": "stream",
     "text": [
      "epoch: 21, [batch: 284 / 568], examples_per_second: 10797.1778, train_label_loss: 0.0028, \n"
     ]
    },
    {
     "name": "stdout",
     "output_type": "stream",
     "text": [
      "epoch: 21, [batch: 341 / 568], examples_per_second: 10551.0133, train_label_loss: 0.0025, \n"
     ]
    },
    {
     "name": "stdout",
     "output_type": "stream",
     "text": [
      "epoch: 21, [batch: 397 / 568], examples_per_second: 10666.5959, train_label_loss: 0.0015, \n"
     ]
    },
    {
     "name": "stdout",
     "output_type": "stream",
     "text": [
      "epoch: 21, [batch: 454 / 568], examples_per_second: 10692.2146, train_label_loss: 0.0026, \n"
     ]
    },
    {
     "name": "stdout",
     "output_type": "stream",
     "text": [
      "epoch: 21, [batch: 511 / 568], examples_per_second: 10733.3810, train_label_loss: 0.0027, \n"
     ]
    },
    {
     "name": "stdout",
     "output_type": "stream",
     "text": [
      "=============================================================\n",
      "epoch: 21, source_val_acc_label: 0.9972, source_val_label_loss: 0.0140, target_val_acc_label: 0.8644, target_val_label_loss: 0.6178, \n",
      "=============================================================\n"
     ]
    },
    {
     "name": "stdout",
     "output_type": "stream",
     "text": [
      "New best\n",
      "epoch: 22, [batch: 1 / 568], examples_per_second: 119.1941, train_label_loss: 0.0017, \n"
     ]
    },
    {
     "name": "stdout",
     "output_type": "stream",
     "text": [
      "epoch: 22, [batch: 57 / 568], examples_per_second: 10519.8711, train_label_loss: 0.0014, \n"
     ]
    },
    {
     "name": "stdout",
     "output_type": "stream",
     "text": [
      "epoch: 22, [batch: 114 / 568], examples_per_second: 10683.0546, train_label_loss: 0.0012, \n"
     ]
    },
    {
     "name": "stdout",
     "output_type": "stream",
     "text": [
      "epoch: 22, [batch: 171 / 568], examples_per_second: 10746.1811, train_label_loss: 0.0009, \n"
     ]
    },
    {
     "name": "stdout",
     "output_type": "stream",
     "text": [
      "epoch: 22, [batch: 227 / 568], examples_per_second: 10667.9357, train_label_loss: 0.0009, \n"
     ]
    },
    {
     "name": "stdout",
     "output_type": "stream",
     "text": [
      "epoch: 22, [batch: 284 / 568], examples_per_second: 10615.9384, train_label_loss: 0.0007, \n"
     ]
    },
    {
     "name": "stdout",
     "output_type": "stream",
     "text": [
      "epoch: 22, [batch: 341 / 568], examples_per_second: 10768.1623, train_label_loss: 0.0014, \n"
     ]
    },
    {
     "name": "stdout",
     "output_type": "stream",
     "text": [
      "epoch: 22, [batch: 397 / 568], examples_per_second: 10767.8220, train_label_loss: 0.0446, \n"
     ]
    },
    {
     "name": "stdout",
     "output_type": "stream",
     "text": [
      "epoch: 22, [batch: 454 / 568], examples_per_second: 10724.4210, train_label_loss: 0.0006, \n"
     ]
    },
    {
     "name": "stdout",
     "output_type": "stream",
     "text": [
      "epoch: 22, [batch: 511 / 568], examples_per_second: 10737.2675, train_label_loss: 0.0003, \n"
     ]
    },
    {
     "name": "stdout",
     "output_type": "stream",
     "text": [
      "=============================================================\n",
      "epoch: 22, source_val_acc_label: 0.8894, source_val_label_loss: 0.4041, target_val_acc_label: 0.7739, target_val_label_loss: 1.3629, \n",
      "=============================================================\n"
     ]
    },
    {
     "name": "stdout",
     "output_type": "stream",
     "text": [
      "epoch: 23, [batch: 1 / 568], examples_per_second: 125.7324, train_label_loss: 0.0888, \n"
     ]
    },
    {
     "name": "stdout",
     "output_type": "stream",
     "text": [
      "epoch: 23, [batch: 57 / 568], examples_per_second: 10478.4873, train_label_loss: 0.0979, \n"
     ]
    },
    {
     "name": "stdout",
     "output_type": "stream",
     "text": [
      "epoch: 23, [batch: 114 / 568], examples_per_second: 10679.0283, train_label_loss: 0.0252, \n"
     ]
    },
    {
     "name": "stdout",
     "output_type": "stream",
     "text": [
      "epoch: 23, [batch: 171 / 568], examples_per_second: 10790.4429, train_label_loss: 0.0172, \n"
     ]
    },
    {
     "name": "stdout",
     "output_type": "stream",
     "text": [
      "epoch: 23, [batch: 227 / 568], examples_per_second: 10602.5837, train_label_loss: 0.0087, \n"
     ]
    },
    {
     "name": "stdout",
     "output_type": "stream",
     "text": [
      "epoch: 23, [batch: 284 / 568], examples_per_second: 10851.7384, train_label_loss: 0.0115, \n"
     ]
    },
    {
     "name": "stdout",
     "output_type": "stream",
     "text": [
      "epoch: 23, [batch: 341 / 568], examples_per_second: 10787.7459, train_label_loss: 0.0217, \n"
     ]
    },
    {
     "name": "stdout",
     "output_type": "stream",
     "text": [
      "epoch: 23, [batch: 397 / 568], examples_per_second: 10741.5691, train_label_loss: 0.0424, \n"
     ]
    },
    {
     "name": "stdout",
     "output_type": "stream",
     "text": [
      "epoch: 23, [batch: 454 / 568], examples_per_second: 10692.2108, train_label_loss: 0.0104, \n"
     ]
    },
    {
     "name": "stdout",
     "output_type": "stream",
     "text": [
      "epoch: 23, [batch: 511 / 568], examples_per_second: 10862.0806, train_label_loss: 0.0088, \n"
     ]
    },
    {
     "name": "stdout",
     "output_type": "stream",
     "text": [
      "=============================================================\n",
      "epoch: 23, source_val_acc_label: 0.9951, source_val_label_loss: 0.0241, target_val_acc_label: 0.8471, target_val_label_loss: 0.7041, \n",
      "=============================================================\n"
     ]
    },
    {
     "name": "stdout",
     "output_type": "stream",
     "text": [
      "epoch: 24, [batch: 1 / 568], examples_per_second: 123.8994, train_label_loss: 0.0099, \n"
     ]
    },
    {
     "name": "stdout",
     "output_type": "stream",
     "text": [
      "epoch: 24, [batch: 57 / 568], examples_per_second: 10534.6304, train_label_loss: 0.0018, \n"
     ]
    },
    {
     "name": "stdout",
     "output_type": "stream",
     "text": [
      "epoch: 24, [batch: 114 / 568], examples_per_second: 10847.2072, train_label_loss: 0.0071, \n"
     ]
    },
    {
     "name": "stdout",
     "output_type": "stream",
     "text": [
      "epoch: 24, [batch: 171 / 568], examples_per_second: 11874.8727, train_label_loss: 0.0032, \n"
     ]
    },
    {
     "name": "stdout",
     "output_type": "stream",
     "text": [
      "epoch: 24, [batch: 227 / 568], examples_per_second: 11810.2625, train_label_loss: 0.0041, \n"
     ]
    },
    {
     "name": "stdout",
     "output_type": "stream",
     "text": [
      "epoch: 24, [batch: 284 / 568], examples_per_second: 11808.3393, train_label_loss: 0.0027, \n"
     ]
    },
    {
     "name": "stdout",
     "output_type": "stream",
     "text": [
      "epoch: 24, [batch: 341 / 568], examples_per_second: 11557.2882, train_label_loss: 0.0050, \n"
     ]
    },
    {
     "name": "stdout",
     "output_type": "stream",
     "text": [
      "epoch: 24, [batch: 397 / 568], examples_per_second: 11740.6253, train_label_loss: 0.0010, \n"
     ]
    },
    {
     "name": "stdout",
     "output_type": "stream",
     "text": [
      "epoch: 24, [batch: 454 / 568], examples_per_second: 11601.4978, train_label_loss: 0.0016, \n"
     ]
    },
    {
     "name": "stdout",
     "output_type": "stream",
     "text": [
      "epoch: 24, [batch: 511 / 568], examples_per_second: 11620.6355, train_label_loss: 0.0017, \n"
     ]
    },
    {
     "name": "stdout",
     "output_type": "stream",
     "text": [
      "=============================================================\n",
      "epoch: 24, source_val_acc_label: 0.9959, source_val_label_loss: 0.0189, target_val_acc_label: 0.8578, target_val_label_loss: 0.6319, \n",
      "=============================================================\n"
     ]
    },
    {
     "name": "stdout",
     "output_type": "stream",
     "text": [
      "epoch: 25, [batch: 1 / 568], examples_per_second: 139.3902, train_label_loss: 0.0019, \n"
     ]
    },
    {
     "name": "stdout",
     "output_type": "stream",
     "text": [
      "epoch: 25, [batch: 57 / 568], examples_per_second: 11751.3820, train_label_loss: 0.0023, \n"
     ]
    },
    {
     "name": "stdout",
     "output_type": "stream",
     "text": [
      "epoch: 25, [batch: 114 / 568], examples_per_second: 11855.7113, train_label_loss: 0.0033, \n"
     ]
    },
    {
     "name": "stdout",
     "output_type": "stream",
     "text": [
      "epoch: 25, [batch: 171 / 568], examples_per_second: 11806.4304, train_label_loss: 0.0010, \n"
     ]
    },
    {
     "name": "stdout",
     "output_type": "stream",
     "text": [
      "epoch: 25, [batch: 227 / 568], examples_per_second: 11533.9840, train_label_loss: 0.0112, \n"
     ]
    },
    {
     "name": "stdout",
     "output_type": "stream",
     "text": [
      "epoch: 25, [batch: 284 / 568], examples_per_second: 11941.7640, train_label_loss: 0.0028, \n"
     ]
    },
    {
     "name": "stdout",
     "output_type": "stream",
     "text": [
      "epoch: 25, [batch: 341 / 568], examples_per_second: 11747.7088, train_label_loss: 0.0020, \n"
     ]
    },
    {
     "name": "stdout",
     "output_type": "stream",
     "text": [
      "epoch: 25, [batch: 397 / 568], examples_per_second: 11866.7516, train_label_loss: 0.0029, \n"
     ]
    },
    {
     "name": "stdout",
     "output_type": "stream",
     "text": [
      "epoch: 25, [batch: 454 / 568], examples_per_second: 11391.4133, train_label_loss: 0.0033, \n"
     ]
    },
    {
     "name": "stdout",
     "output_type": "stream",
     "text": [
      "epoch: 25, [batch: 511 / 568], examples_per_second: 11740.2408, train_label_loss: 0.0018, \n"
     ]
    },
    {
     "name": "stdout",
     "output_type": "stream",
     "text": [
      "=============================================================\n",
      "epoch: 25, source_val_acc_label: 0.9585, source_val_label_loss: 0.1953, target_val_acc_label: 0.8362, target_val_label_loss: 0.9401, \n",
      "=============================================================\n"
     ]
    },
    {
     "name": "stdout",
     "output_type": "stream",
     "text": [
      "Patience (3) exhausted\n"
     ]
    }
   ],
   "source": [
    "jig = Vanilla_Train_Eval_Test_Jig(\n",
    "    model=model,\n",
    "    path_to_best_model=p.BEST_MODEL_PATH,\n",
    "    device=p.device,\n",
    "    label_loss_object=torch.nn.NLLLoss(),\n",
    ")\n",
    "\n",
    "jig.train(\n",
    "    train_iterable=datasets.source.processed.train,\n",
    "    source_val_iterable=datasets.source.processed.val,\n",
    "    target_val_iterable=datasets.target.processed.val,\n",
    "    patience=p.patience,\n",
    "    num_epochs=p.n_epoch,\n",
    "    num_logs_per_epoch=p.NUM_LOGS_PER_EPOCH,\n",
    "    criteria_for_best=p.criteria_for_best\n",
    ")"
   ]
  },
  {
   "cell_type": "code",
   "execution_count": 14,
   "id": "4bc2ac17",
   "metadata": {
    "execution": {
     "iopub.execute_input": "2022-03-25T20:42:55.968720Z",
     "iopub.status.busy": "2022-03-25T20:42:55.968196Z",
     "iopub.status.idle": "2022-03-25T20:42:55.970765Z",
     "shell.execute_reply": "2022-03-25T20:42:55.970278Z"
    },
    "papermill": {
     "duration": 0.095638,
     "end_time": "2022-03-25T20:42:55.970887",
     "exception": false,
     "start_time": "2022-03-25T20:42:55.875249",
     "status": "completed"
    },
    "tags": []
   },
   "outputs": [],
   "source": [
    "total_experiment_time_secs = time.time() - start_time_secs"
   ]
  },
  {
   "cell_type": "code",
   "execution_count": 15,
   "id": "cae88f23",
   "metadata": {
    "execution": {
     "iopub.execute_input": "2022-03-25T20:42:56.159063Z",
     "iopub.status.busy": "2022-03-25T20:42:56.157984Z",
     "iopub.status.idle": "2022-03-25T20:43:06.950535Z",
     "shell.execute_reply": "2022-03-25T20:43:06.949641Z"
    },
    "papermill": {
     "duration": 10.892897,
     "end_time": "2022-03-25T20:43:06.950722",
     "exception": false,
     "start_time": "2022-03-25T20:42:56.057825",
     "status": "completed"
    },
    "tags": []
   },
   "outputs": [],
   "source": [
    "source_test_label_accuracy, source_test_label_loss = jig.test(datasets.source.processed.test)\n",
    "target_test_label_accuracy, target_test_label_loss = jig.test(datasets.target.processed.test)\n",
    "\n",
    "source_val_label_accuracy, source_val_label_loss = jig.test(datasets.source.processed.val)\n",
    "target_val_label_accuracy, target_val_label_loss = jig.test(datasets.target.processed.val)\n",
    "\n",
    "history = jig.get_history()\n",
    "\n",
    "total_epochs_trained = len(history[\"epoch_indices\"])\n",
    "\n",
    "val_dl = wrap_in_dataloader(p, Sequence_Aggregator((datasets.source.original.val, datasets.target.original.val)))\n",
    "\n",
    "confusion = confusion_by_domain_over_dataloader(model, p.device, val_dl, forward_uses_domain=False)\n",
    "per_domain_accuracy = per_domain_accuracy_from_confusion(confusion)\n",
    "\n",
    "# Add a key to per_domain_accuracy for if it was a source domain\n",
    "for domain, accuracy in per_domain_accuracy.items():\n",
    "    per_domain_accuracy[domain] = {\n",
    "        \"accuracy\": accuracy,\n",
    "        \"source?\": domain in p.domains_source\n",
    "    }\n",
    "\n",
    "# Do an independent accuracy assesment JUST TO BE SURE!\n",
    "# _source_test_label_accuracy = independent_accuracy_assesment(model, datasets.source.processed.test, p.device)\n",
    "# _target_test_label_accuracy = independent_accuracy_assesment(model, datasets.target.processed.test, p.device)\n",
    "# _source_val_label_accuracy = independent_accuracy_assesment(model, datasets.source.processed.val, p.device)\n",
    "# _target_val_label_accuracy = independent_accuracy_assesment(model, datasets.target.processed.val, p.device)\n",
    "\n",
    "# assert(_source_test_label_accuracy == source_test_label_accuracy)\n",
    "# assert(_target_test_label_accuracy == target_test_label_accuracy)\n",
    "# assert(_source_val_label_accuracy == source_val_label_accuracy)\n",
    "# assert(_target_val_label_accuracy == target_val_label_accuracy)\n",
    "\n",
    "###################################\n",
    "# Write out the results\n",
    "###################################\n",
    "\n",
    "experiment = {\n",
    "    \"experiment_name\": p.experiment_name,\n",
    "    \"parameters\": p,\n",
    "    \"results\": {\n",
    "        \"source_test_label_accuracy\": source_test_label_accuracy,\n",
    "        \"source_test_label_loss\": source_test_label_loss,\n",
    "        \"target_test_label_accuracy\": target_test_label_accuracy,\n",
    "        \"target_test_label_loss\": target_test_label_loss,\n",
    "        \"source_val_label_accuracy\": source_val_label_accuracy,\n",
    "        \"source_val_label_loss\": source_val_label_loss,\n",
    "        \"target_val_label_accuracy\": target_val_label_accuracy,\n",
    "        \"target_val_label_loss\": target_val_label_loss,\n",
    "        \"total_epochs_trained\": total_epochs_trained,\n",
    "        \"total_experiment_time_secs\": total_experiment_time_secs,\n",
    "        \"confusion\": confusion,\n",
    "        \"per_domain_accuracy\": per_domain_accuracy,\n",
    "    },\n",
    "    \"history\": history,\n",
    "    \"dataset_metrics\": get_dataset_metrics(datasets, \"cnn\"),\n",
    "}"
   ]
  },
  {
   "cell_type": "code",
   "execution_count": 16,
   "id": "74c318cf",
   "metadata": {
    "execution": {
     "iopub.execute_input": "2022-03-25T20:43:07.171655Z",
     "iopub.status.busy": "2022-03-25T20:43:07.166958Z",
     "iopub.status.idle": "2022-03-25T20:43:07.366159Z",
     "shell.execute_reply": "2022-03-25T20:43:07.366898Z"
    },
    "papermill": {
     "duration": 0.322196,
     "end_time": "2022-03-25T20:43:07.367129",
     "exception": false,
     "start_time": "2022-03-25T20:43:07.044933",
     "status": "completed"
    },
    "tags": []
   },
   "outputs": [
    {
     "data": {
      "text/plain": [
       "<AxesSubplot:title={'center':'Source Train Label Loss vs Source Val Label Loss'}, xlabel='Epoch'>"
      ]
     },
     "execution_count": 16,
     "metadata": {},
     "output_type": "execute_result"
    },
    {
     "data": {
      "image/png": "[encoded data removed]",
      "text/plain": [
       "<Figure size 1080x504 with 1 Axes>"
      ]
     },
     "metadata": {
      "needs_background": "light"
     },
     "output_type": "display_data"
    }
   ],
   "source": [
    "get_loss_curve(experiment)"
   ]
  },
  {
   "cell_type": "code",
   "execution_count": 17,
   "id": "59376601",
   "metadata": {
    "execution": {
     "iopub.execute_input": "2022-03-25T20:43:07.583466Z",
     "iopub.status.busy": "2022-03-25T20:43:07.576859Z",
     "iopub.status.idle": "2022-03-25T20:43:07.863405Z",
     "shell.execute_reply": "2022-03-25T20:43:07.864129Z"
    },
    "papermill": {
     "duration": 0.398172,
     "end_time": "2022-03-25T20:43:07.864342",
     "exception": false,
     "start_time": "2022-03-25T20:43:07.466170",
     "status": "completed"
    },
    "tags": []
   },
   "outputs": [
    {
     "data": {
      "text/plain": [
       "<AxesSubplot:title={'center':'Results'}>"
      ]
     },
     "execution_count": 17,
     "metadata": {},
     "output_type": "execute_result"
    },
    {
     "data": {
      "image/png": "[encoded data removed]",
      "text/plain": [
       "<Figure size 1080x504 with 1 Axes>"
      ]
     },
     "metadata": {
      "needs_background": "light"
     },
     "output_type": "display_data"
    }
   ],
   "source": [
    "get_results_table(experiment)"
   ]
  },
  {
   "cell_type": "code",
   "execution_count": 18,
   "id": "e80c5c98",
   "metadata": {
    "execution": {
     "iopub.execute_input": "2022-03-25T20:43:08.067247Z",
     "iopub.status.busy": "2022-03-25T20:43:08.061593Z",
     "iopub.status.idle": "2022-03-25T20:43:08.224595Z",
     "shell.execute_reply": "2022-03-25T20:43:08.223788Z"
    },
    "papermill": {
     "duration": 0.263165,
     "end_time": "2022-03-25T20:43:08.224765",
     "exception": false,
     "start_time": "2022-03-25T20:43:07.961600",
     "status": "completed"
    },
    "tags": []
   },
   "outputs": [
    {
     "data": {
      "text/plain": [
       "<AxesSubplot:title={'center':'Per Domain Accuracy'}, xlabel='domain'>"
      ]
     },
     "execution_count": 18,
     "metadata": {},
     "output_type": "execute_result"
    },
    {
     "data": {
      "image/png": "[encoded data removed]",
      "text/plain": [
       "<Figure size 1080x504 with 1 Axes>"
      ]
     },
     "metadata": {
      "needs_background": "light"
     },
     "output_type": "display_data"
    }
   ],
   "source": [
    "get_domain_accuracies(experiment)"
   ]
  },
  {
   "cell_type": "code",
   "execution_count": 19,
   "id": "086fdd10",
   "metadata": {
    "execution": {
     "iopub.execute_input": "2022-03-25T20:43:08.423461Z",
     "iopub.status.busy": "2022-03-25T20:43:08.422881Z",
     "iopub.status.idle": "2022-03-25T20:43:08.426580Z",
     "shell.execute_reply": "2022-03-25T20:43:08.426023Z"
    },
    "papermill": {
     "duration": 0.101093,
     "end_time": "2022-03-25T20:43:08.426712",
     "exception": false,
     "start_time": "2022-03-25T20:43:08.325619",
     "status": "completed"
    },
    "tags": []
   },
   "outputs": [
    {
     "name": "stdout",
     "output_type": "stream",
     "text": [
      "Source Test Label Accuracy: 0.9959795788130185 Target Test Label Accuracy: 0.8631266045129037\n",
      "Source Val Label Accuracy: 0.997162937649107 Target Val Label Accuracy: 0.8643735763097949\n"
     ]
    }
   ],
   "source": [
    "print(\"Source Test Label Accuracy:\", experiment[\"results\"][\"source_test_label_accuracy\"], \"Target Test Label Accuracy:\", experiment[\"results\"][\"target_test_label_accuracy\"])\n",
    "print(\"Source Val Label Accuracy:\", experiment[\"results\"][\"source_val_label_accuracy\"], \"Target Val Label Accuracy:\", experiment[\"results\"][\"target_val_label_accuracy\"])"
   ]
  },
  {
   "cell_type": "code",
   "execution_count": 20,
   "id": "9f450536",
   "metadata": {
    "execution": {
     "iopub.execute_input": "2022-03-25T20:43:08.622564Z",
     "iopub.status.busy": "2022-03-25T20:43:08.621700Z",
     "iopub.status.idle": "2022-03-25T20:43:08.624936Z",
     "shell.execute_reply": "2022-03-25T20:43:08.625454Z"
    },
    "papermill": {
     "duration": 0.100989,
     "end_time": "2022-03-25T20:43:08.625604",
     "exception": false,
     "start_time": "2022-03-25T20:43:08.524615",
     "status": "completed"
    },
    "tags": [
     "experiment_json"
    ]
   },
   "outputs": [
    {
     "data": {
      "text/plain": [
       "'{\"experiment_name\": \"cnn_1:cores\", \"parameters\": {\"experiment_name\": \"cnn_1:cores\", \"device\": \"cuda\", \"lr\": 0.0001, \"labels\": [\"1-10.\", \"1-11.\", \"1-15.\", \"1-16.\", \"1-17.\", \"1-18.\", \"1-19.\", \"10-4.\", \"10-7.\", \"11-1.\", \"11-14.\", \"11-17.\", \"11-20.\", \"11-7.\", \"13-20.\", \"13-8.\", \"14-10.\", \"14-11.\", \"14-14.\", \"14-7.\", \"15-1.\", \"15-20.\", \"16-1.\", \"16-16.\", \"17-10.\", \"17-11.\", \"17-2.\", \"19-1.\", \"19-16.\", \"19-19.\", \"19-20.\", \"19-3.\", \"2-10.\", \"2-11.\", \"2-17.\", \"2-18.\", \"2-20.\", \"2-3.\", \"2-4.\", \"2-5.\", \"2-6.\", \"2-7.\", \"2-8.\", \"3-13.\", \"3-18.\", \"3-3.\", \"4-1.\", \"4-10.\", \"4-11.\", \"4-19.\", \"5-5.\", \"6-15.\", \"7-10.\", \"7-14.\", \"8-18.\", \"8-20.\", \"8-3.\", \"8-8.\"], \"batch_size\": 128, \"domains_source\": [1, 5], \"domains_target\": [2, 3, 4], \"normalize_source\": false, \"normalize_target\": false, \"num_examples_per_domain_per_label_source\": -1, \"num_examples_per_domain_per_label_target\": -1, \"torch_default_dtype\": \"torch.float32\", \"n_epoch\": 50, \"patience\": 3, \"criteria_for_best\": \"target_accuracy\", \"x_net\": [{\"class\": \"nnReshape\", \"kargs\": {\"shape\": [-1, 1, 2, 256]}}, {\"class\": \"Conv2d\", \"kargs\": {\"in_channels\": 1, \"out_channels\": 256, \"kernel_size\": [1, 7], \"bias\": false, \"padding\": [0, 3]}}, {\"class\": \"ReLU\", \"kargs\": {\"inplace\": true}}, {\"class\": \"BatchNorm2d\", \"kargs\": {\"num_features\": 256}}, {\"class\": \"Conv2d\", \"kargs\": {\"in_channels\": 256, \"out_channels\": 80, \"kernel_size\": [2, 7], \"bias\": true, \"padding\": [0, 3]}}, {\"class\": \"ReLU\", \"kargs\": {\"inplace\": true}}, {\"class\": \"BatchNorm2d\", \"kargs\": {\"num_features\": 80}}, {\"class\": \"Flatten\", \"kargs\": {}}, {\"class\": \"Linear\", \"kargs\": {\"in_features\": 20480, \"out_features\": 256}}, {\"class\": \"ReLU\", \"kargs\": {\"inplace\": true}}, {\"class\": \"BatchNorm1d\", \"kargs\": {\"num_features\": 256}}, {\"class\": \"Linear\", \"kargs\": {\"in_features\": 256, \"out_features\": 58}}], \"NUM_LOGS_PER_EPOCH\": 10, \"BEST_MODEL_PATH\": \"./best_model.pth\", \"pickle_name_source\": \"cores.stratified_ds.2022A.pkl\", \"pickle_name_target\": \"cores.stratified_ds.2022A.pkl\", \"dataset_seed\": 1337, \"seed\": 1337}, \"results\": {\"source_test_label_accuracy\": 0.9959795788130185, \"source_test_label_loss\": 0.016590214570098353, \"target_test_label_accuracy\": 0.8631266045129037, \"target_test_label_loss\": 0.6227102988752825, \"source_val_label_accuracy\": 0.997162937649107, \"source_val_label_loss\": 0.014018056817833701, \"target_val_label_accuracy\": 0.8643735763097949, \"target_val_label_loss\": 0.6178243686986524, \"total_epochs_trained\": 25, \"total_experiment_time_secs\": 205.48156237602234, \"confusion\": {\"5\": {\"56\": {\"56\": 192, \"47\": 1}, \"11\": {\"11\": 203}, \"54\": {\"54\": 141}, \"17\": {\"17\": 145}, \"51\": {\"51\": 190}, \"32\": {\"32\": 44}, \"48\": {\"48\": 172, \"1\": 1}, \"25\": {\"25\": 225}, \"13\": {\"13\": 203}, \"15\": {\"15\": 209}, \"50\": {\"50\": 186, \"3\": 1}, \"55\": {\"55\": 249}, \"53\": {\"53\": 192, \"25\": 1}, \"30\": {\"30\": 159, \"9\": 1}, \"57\": {\"57\": 168}, \"44\": {\"44\": 192}, \"10\": {\"10\": 89}, \"26\": {\"26\": 32}, \"3\": {\"3\": 128, \"22\": 1}, \"22\": {\"22\": 35}, \"29\": {\"29\": 165}, \"43\": {\"43\": 193}, \"16\": {\"16\": 194, \"46\": 1}, \"24\": {\"24\": 104}, \"19\": {\"19\": 194}, \"45\": {\"45\": 156, \"5\": 1}, \"6\": {\"6\": 155, \"45\": 6}, \"36\": {\"36\": 118}, \"52\": {\"52\": 176}, \"2\": {\"2\": 36}, \"8\": {\"8\": 192}, \"23\": {\"23\": 158}, \"1\": {\"1\": 187}, \"12\": {\"12\": 120, \"46\": 3}, \"28\": {\"45\": 2, \"28\": 39}, \"9\": {\"9\": 196}, \"4\": {\"4\": 125}, \"46\": {\"46\": 185, \"9\": 1, \"3\": 1, \"56\": 1}, \"31\": {\"31\": 45}, \"39\": {\"39\": 25, \"9\": 1}, \"38\": {\"38\": 44}, \"42\": {\"42\": 53}, \"21\": {\"21\": 183}, \"7\": {\"7\": 41, \"51\": 1}, \"40\": {\"40\": 159}, \"5\": {\"5\": 160, \"45\": 1}, \"27\": {\"27\": 200, \"9\": 2, \"4\": 1, \"48\": 1}, \"47\": {\"47\": 125}, \"34\": {\"34\": 45}, \"20\": {\"20\": 184}, \"0\": {\"0\": 157}, \"41\": {\"41\": 36}, \"14\": {\"14\": 55}, \"18\": {\"18\": 84}, \"33\": {\"33\": 44}, \"35\": {\"35\": 47}, \"49\": {\"49\": 46}, \"37\": {\"37\": 32}}, \"3\": {\"21\": {\"21\": 76, \"12\": 64, \"46\": 2, \"9\": 7, \"6\": 9, \"44\": 2}, \"16\": {\"16\": 195}, \"45\": {\"45\": 79}, \"57\": {\"57\": 155}, \"9\": {\"9\": 189, \"29\": 2}, \"22\": {\"22\": 177}, \"4\": {\"4\": 185}, \"15\": {\"15\": 200, \"11\": 1}, \"11\": {\"11\": 192}, \"3\": {\"50\": 145, \"3\": 35, \"46\": 6}, \"27\": {\"27\": 179, \"4\": 1}, \"49\": {\"28\": 19, \"43\": 3, \"13\": 3}, \"52\": {\"52\": 178}, \"30\": {\"30\": 150}, \"6\": {\"6\": 67, \"45\": 14, \"3\": 22, \"46\": 10, \"56\": 1}, \"53\": {\"53\": 184}, \"41\": {\"21\": 11, \"52\": 9, \"2\": 14, \"49\": 3, \"9\": 1}, \"50\": {\"50\": 176, \"45\": 8, \"3\": 1}, \"43\": {\"43\": 170}, \"10\": {\"10\": 82}, \"29\": {\"29\": 160}, \"20\": {\"20\": 166}, \"46\": {\"46\": 175, \"6\": 1}, \"12\": {\"12\": 96, \"46\": 6, \"6\": 14, \"10\": 1}, \"24\": {\"24\": 133}, \"26\": {\"42\": 24, \"39\": 9, \"14\": 1}, \"17\": {\"17\": 135}, \"8\": {\"8\": 193}, \"5\": {\"5\": 140, \"3\": 3, \"50\": 1, \"45\": 2, \"56\": 1, \"44\": 1}, \"55\": {\"55\": 213}, \"13\": {\"13\": 159, \"22\": 1}, \"7\": {\"7\": 45, \"52\": 1}, \"25\": {\"25\": 213}, \"37\": {\"37\": 39}, \"14\": {\"14\": 18, \"56\": 20, \"35\": 4, \"43\": 4, \"1\": 4, \"29\": 3}, \"48\": {\"48\": 146}, \"33\": {\"9\": 28, \"48\": 2, \"49\": 3, \"52\": 4, \"21\": 1}, \"39\": {\"14\": 7, \"32\": 16, \"40\": 1}, \"56\": {\"56\": 171}, \"40\": {\"40\": 173}, \"34\": {\"34\": 42, \"32\": 1}, \"54\": {\"54\": 126}, \"47\": {\"47\": 118, \"52\": 1}, \"1\": {\"1\": 129}, \"19\": {\"19\": 194}, \"23\": {\"23\": 182}, \"2\": {\"2\": 42}, \"51\": {\"51\": 163}, \"0\": {\"0\": 159}, \"28\": {\"28\": 37}, \"18\": {\"18\": 105}, \"44\": {\"40\": 109, \"45\": 1, \"44\": 2}, \"36\": {\"51\": 25, \"1\": 102, \"39\": 1}, \"35\": {\"29\": 12, \"35\": 25, \"34\": 1}, \"32\": {\"1\": 14, \"9\": 16, \"41\": 3, \"14\": 2, \"32\": 1}, \"42\": {\"17\": 4, \"7\": 10, \"2\": 6, \"19\": 15, \"23\": 3}, \"38\": {\"38\": 37}, \"31\": {\"19\": 32, \"25\": 2, \"15\": 1, \"31\": 1}}, \"4\": {\"33\": {\"33\": 46}, \"56\": {\"56\": 193}, \"40\": {\"40\": 189}, \"36\": {\"51\": 34, \"20\": 22, \"1\": 62}, \"47\": {\"47\": 152}, \"12\": {\"12\": 114, \"46\": 1}, \"45\": {\"4\": 30, \"45\": 92}, \"30\": {\"30\": 54, \"6\": 4}, \"20\": {\"20\": 167, \"46\": 1, \"9\": 1}, \"51\": {\"51\": 183}, \"22\": {\"3\": 68, \"22\": 89, \"52\": 3}, \"57\": {\"57\": 128, \"40\": 1}, \"7\": {\"7\": 12, \"43\": 1, \"39\": 18, \"51\": 1, \"38\": 1, \"31\": 1}, \"29\": {\"29\": 158, \"9\": 1}, \"53\": {\"53\": 177}, \"23\": {\"23\": 183}, \"19\": {\"19\": 182}, \"46\": {\"46\": 178, \"3\": 13, \"44\": 3, \"6\": 1}, \"48\": {\"48\": 195}, \"34\": {\"32\": 15, \"18\": 16}, \"5\": {\"45\": 42, \"3\": 9, \"5\": 75, \"44\": 4, \"6\": 3, \"56\": 2, \"46\": 1}, \"24\": {\"24\": 70, \"13\": 1}, \"54\": {\"54\": 139}, \"8\": {\"8\": 182}, \"50\": {\"50\": 162, \"45\": 5, \"3\": 1}, \"10\": {\"10\": 173}, \"52\": {\"52\": 149}, \"13\": {\"13\": 192}, \"49\": {\"28\": 14, \"49\": 11, \"43\": 1, \"41\": 1}, \"55\": {\"55\": 247}, \"9\": {\"9\": 190}, \"44\": {\"44\": 142, \"40\": 24}, \"0\": {\"0\": 102, \"44\": 1}, \"4\": {\"4\": 124, \"27\": 42}, \"1\": {\"1\": 52, \"29\": 2}, \"31\": {\"54\": 7, \"12\": 4, \"11\": 23, \"31\": 2}, \"3\": {\"50\": 106, \"3\": 30, \"46\": 17, \"6\": 4, \"45\": 1}, \"21\": {\"12\": 151, \"6\": 18}, \"43\": {\"43\": 186}, \"15\": {\"15\": 192, \"11\": 1}, \"17\": {\"17\": 99, \"7\": 1}, \"11\": {\"11\": 131}, \"14\": {\"14\": 16, \"57\": 4}, \"2\": {\"32\": 36, \"27\": 9}, \"41\": {\"41\": 44, \"16\": 1}, \"18\": {\"18\": 134, \"11\": 1, \"16\": 1, \"46\": 1}, \"37\": {\"37\": 29, \"13\": 1, \"46\": 1}, \"38\": {\"35\": 41, \"43\": 10}, \"27\": {\"27\": 185, \"9\": 1, \"4\": 4, \"32\": 2}, \"6\": {\"3\": 20, \"6\": 51, \"46\": 62, \"45\": 3, \"5\": 4}, \"25\": {\"25\": 203}, \"28\": {\"18\": 31, \"25\": 1, \"19\": 4, \"42\": 7}, \"16\": {\"16\": 122, \"15\": 1, \"11\": 1}, \"39\": {\"39\": 27}, \"35\": {\"35\": 28, \"29\": 14, \"33\": 1, \"34\": 7}, \"26\": {\"19\": 19, \"32\": 6, \"18\": 1, \"42\": 2, \"26\": 2, \"27\": 1}, \"32\": {\"31\": 30, \"15\": 3}, \"42\": {\"42\": 42, \"26\": 1}}, \"2\": {\"50\": {\"50\": 150, \"45\": 18, \"6\": 1, \"3\": 2}, \"41\": {\"32\": 4, \"27\": 12, \"37\": 3, \"2\": 5, \"21\": 2, \"9\": 1}, \"1\": {\"1\": 140}, \"21\": {\"6\": 3, \"12\": 138, \"21\": 11, \"9\": 1, \"46\": 1}, \"46\": {\"46\": 158, \"3\": 6}, \"4\": {\"4\": 200}, \"22\": {\"22\": 174}, \"3\": {\"50\": 94, \"3\": 20, \"46\": 5}, \"49\": {\"25\": 30, \"41\": 1, \"37\": 3}, \"43\": {\"43\": 189}, \"6\": {\"6\": 137, \"46\": 15, \"3\": 6, \"50\": 1}, \"12\": {\"6\": 4, \"12\": 113, \"46\": 2}, \"8\": {\"8\": 203}, \"20\": {\"20\": 160, \"8\": 16, \"14\": 2}, \"27\": {\"27\": 197, \"8\": 1}, \"57\": {\"57\": 181}, \"16\": {\"16\": 189, \"18\": 1}, \"15\": {\"15\": 193, \"11\": 1}, \"52\": {\"52\": 156}, \"10\": {\"10\": 140}, \"5\": {\"5\": 146, \"45\": 2, \"44\": 1, \"3\": 5}, \"9\": {\"9\": 191, \"29\": 4}, \"39\": {\"39\": 35}, \"33\": {\"33\": 38}, \"0\": {\"0\": 61}, \"55\": {\"55\": 211}, \"48\": {\"48\": 192, \"52\": 1}, \"53\": {\"53\": 174}, \"36\": {\"1\": 87, \"51\": 56, \"39\": 2}, \"25\": {\"25\": 234}, \"11\": {\"11\": 198}, \"32\": {\"1\": 6, \"41\": 9, \"14\": 12, \"32\": 4, \"9\": 4, \"42\": 1}, \"18\": {\"18\": 63}, \"45\": {\"45\": 162, \"4\": 1}, \"44\": {\"40\": 124, \"44\": 5}, \"51\": {\"51\": 170}, \"19\": {\"19\": 196}, \"42\": {\"19\": 45, \"15\": 1, \"54\": 1}, \"23\": {\"23\": 186}, \"56\": {\"56\": 174, \"27\": 5, \"22\": 1}, \"14\": {\"14\": 22, \"0\": 5, \"29\": 1, \"43\": 2}, \"30\": {\"30\": 179, \"14\": 1}, \"54\": {\"54\": 139}, \"47\": {\"47\": 186}, \"40\": {\"40\": 176}, \"29\": {\"29\": 161}, \"13\": {\"13\": 148}, \"24\": {\"24\": 121}, \"37\": {\"37\": 46}, \"35\": {\"41\": 27, \"40\": 15, \"19\": 2}, \"17\": {\"17\": 132}, \"31\": {\"19\": 34, \"23\": 2, \"31\": 2}, \"28\": {\"23\": 8, \"18\": 25, \"15\": 2, \"45\": 1}, \"2\": {\"36\": 40, \"32\": 3, \"9\": 1}, \"26\": {\"26\": 34}, \"34\": {\"18\": 14, \"32\": 19, \"15\": 1, \"19\": 1, \"25\": 1}, \"7\": {\"7\": 43, \"17\": 1, \"11\": 1}, \"38\": {\"21\": 23, \"38\": 1, \"49\": 2}}, \"1\": {\"33\": {\"33\": 41}, \"46\": {\"46\": 175, \"6\": 1}, \"30\": {\"30\": 150}, \"43\": {\"43\": 184}, \"9\": {\"9\": 199}, \"10\": {\"10\": 121, \"11\": 1}, \"11\": {\"11\": 179}, \"15\": {\"15\": 202, \"12\": 1}, \"7\": {\"7\": 37}, \"20\": {\"20\": 179}, \"16\": {\"16\": 176, \"11\": 1}, \"21\": {\"21\": 157}, \"18\": {\"18\": 93}, \"40\": {\"40\": 194, \"45\": 1}, \"52\": {\"52\": 169}, \"27\": {\"27\": 204}, \"45\": {\"45\": 198}, \"22\": {\"22\": 174}, \"5\": {\"5\": 204, \"6\": 1}, \"53\": {\"53\": 180}, \"51\": {\"51\": 199}, \"13\": {\"13\": 197, \"20\": 1}, \"6\": {\"6\": 121}, \"47\": {\"47\": 200}, \"32\": {\"32\": 43}, \"50\": {\"50\": 199}, \"8\": {\"8\": 177, \"30\": 1}, \"56\": {\"56\": 210}, \"1\": {\"1\": 127, \"57\": 1}, \"4\": {\"4\": 167}, \"19\": {\"19\": 199}, \"48\": {\"48\": 186}, \"23\": {\"23\": 172}, \"38\": {\"38\": 32}, \"26\": {\"26\": 30}, \"44\": {\"44\": 172}, \"25\": {\"25\": 181}, \"57\": {\"57\": 181}, \"54\": {\"54\": 132, \"39\": 1}, \"37\": {\"37\": 40}, \"3\": {\"3\": 178}, \"17\": {\"17\": 80, \"7\": 1}, \"14\": {\"14\": 32}, \"42\": {\"42\": 48, \"49\": 1, \"17\": 2}, \"0\": {\"0\": 191}, \"31\": {\"31\": 39}, \"2\": {\"2\": 48, \"1\": 1}, \"24\": {\"24\": 135}, \"29\": {\"29\": 178}, \"55\": {\"55\": 286}, \"49\": {\"49\": 44}, \"36\": {\"36\": 81}, \"12\": {\"12\": 149}, \"34\": {\"34\": 30}, \"35\": {\"35\": 48}, \"41\": {\"41\": 33}, \"28\": {\"28\": 36}, \"39\": {\"39\": 36}}}, \"per_domain_accuracy\": {\"5\": {\"accuracy\": 0.9962046852506217, \"source?\": true}, \"3\": {\"accuracy\": 0.8789957470160515, \"source?\": false}, \"4\": {\"accuracy\": 0.8437193670354292, \"source?\": false}, \"2\": {\"accuracy\": 0.8698138297872341, \"source?\": false}, \"1\": {\"accuracy\": 0.9980935434672089, \"source?\": true}}}, \"history\": {\"epoch_indices\": [1, 2, 3, 4, 5, 6, 7, 8, 9, 10, 11, 12, 13, 14, 15, 16, 17, 18, 19, 20, 21, 22, 23, 24, 25], \"train_label_loss\": [1.1131814737659944, 0.12194055053864566, 0.11273824249092541, 0.03270558139283053, 0.018866074947856734, 0.02937603589478539, 0.010655456154958122, 0.004880809399560028, 0.006758569621499038, 0.005756492789836377, 0.004555434444599497, 0.05572006021934548, 0.00715716139693797, 0.007003959115126504, 0.007079388002572339, 0.020512597552176014, 0.006319753697669153, 0.004187370246500892, 0.014650314690710806, 0.00944027648453722, 0.007091420515100997, 0.004169152120878825, 0.03678736515658002, 0.009607697742979673, 0.006653920746724856], \"source_val_label_loss\": [0.23594085542393511, 0.354103650470249, 0.05477231644765764, 0.029036211025458378, 0.02926612165222158, 0.021431120433157584, 0.014983004455256169, 0.028603054642234546, 0.018136810232717238, 0.02143302740773461, 1.0767365547477221, 0.021487167635627212, 0.017852627436561724, 0.015674960774705423, 0.15953708611062314, 0.019268529359861963, 0.020132701208463825, 0.20508544623363215, 0.0449641695261368, 0.1963083340068821, 0.014008488135839828, 0.40407519885262505, 0.024116707916111976, 0.018859489165822838, 0.1952893675990082], \"target_val_label_loss\": [0.7840206290400306, 0.8885901352000791, 0.5770694687962532, 0.6076821683104648, 0.5312605242049971, 0.5592073876150819, 0.57361861023792, 0.631019135720508, 0.5762624253713807, 0.6483142868030903, 1.797978721732317, 0.5949069285808608, 0.6097276458560035, 0.6209294421728268, 1.1174037723347199, 0.680061303425667, 0.6316474457812864, 1.1868704346030257, 0.7156887742322545, 1.1006447149570597, 0.6177664792468381, 1.3629368782736535, 0.7041299837793029, 0.6318738619948543, 0.9400508970368741], \"source_val_acc_label\": [0.9738216519440325, 0.9214649558320975, 0.9934231736411117, 0.9953575343349023, 0.9934231736411117, 0.9960667999226256, 0.9965826294409698, 0.9912953768779419, 0.9950351408859373, 0.994390353988007, 0.8519569282352183, 0.9968405442001419, 0.9960667999226256, 0.9962602359920046, 0.9579598942549488, 0.9958733638532465, 0.9956154490940744, 0.9499645367206139, 0.9876200915597395, 0.9411309562189696, 0.997162937649107, 0.8893545683151718, 0.9950996195757302, 0.9958733638532465, 0.9585402024630859], \"target_val_acc_label\": [0.8256947608200456, 0.7708428246013668, 0.8481548974943053, 0.8508883826879271, 0.8551708428246013, 0.8479271070615034, 0.8548519362186788, 0.8412756264236902, 0.855626423690205, 0.8466970387243736, 0.6952164009111618, 0.8525284738041002, 0.8560364464692483, 0.8605922551252847, 0.8185421412300683, 0.8451480637813212, 0.8618223234624146, 0.8049658314350797, 0.8363553530751708, 0.8010478359908884, 0.8643735763097949, 0.7738952164009112, 0.8470615034168565, 0.8578132118451025, 0.8361731207289294]}, \"dataset_metrics\": {\"source\": {\"train\": {\"n_unique_x\": 72578, \"n_unique_y\": 58, \"n_batch/episode\": 568}, \"val\": {\"n_unique_x\": 15509, \"n_unique_y\": 58, \"n_batch/episode\": 122}, \"test\": {\"n_unique_x\": 15670, \"n_unique_y\": 58, \"n_batch/episode\": 123}}, \"target\": {\"train\": {\"n_unique_x\": 102771, \"n_unique_y\": 58, \"n_batch/episode\": 803}, \"val\": {\"n_unique_x\": 21950, \"n_unique_y\": 58, \"n_batch/episode\": 172}, \"test\": {\"n_unique_x\": 22203, \"n_unique_y\": 58, \"n_batch/episode\": 174}}}}'"
      ]
     },
     "execution_count": 20,
     "metadata": {},
     "output_type": "execute_result"
    }
   ],
   "source": [
    "json.dumps(experiment)"
   ]
  }
 ],
 "metadata": {
  "celltoolbar": "Tags",
  "kernelspec": {
   "display_name": "Python 3 (ipykernel)",
   "language": "python",
   "name": "python3"
  },
  "language_info": {
   "codemirror_mode": {
    "name": "ipython",
    "version": 3
   },
   "file_extension": ".py",
   "mimetype": "text/x-python",
   "name": "python",
   "nbconvert_exporter": "python",
   "pygments_lexer": "ipython3",
   "version": "3.8.12"
  },
  "papermill": {
   "default_parameters": {},
   "duration": 222.783267,
   "end_time": "2022-03-25T20:43:10.732157",
   "environment_variables": {},
   "exception": null,
   "input_path": "/root/csc500-main/csc500-notebooks/templates/cnn_template.ipynb",
   "output_path": "trial.ipynb",
   "parameters": {
    "parameters": {
     "BEST_MODEL_PATH": "./best_model.pth",
     "NUM_LOGS_PER_EPOCH": 10,
     "batch_size": 128,
     "criteria_for_best": "target_accuracy",
     "dataset_seed": 1337,
     "device": "cuda",
     "domains_source": [
      1,
      5
     ],
     "domains_target": [
      2,
      3,
      4
     ],
     "experiment_name": "cnn_1:cores",
     "labels": [
      "1-10.",
      "1-11.",
      "1-15.",
      "1-16.",
      "1-17.",
      "1-18.",
      "1-19.",
      "10-4.",
      "10-7.",
      "11-1.",
      "11-14.",
      "11-17.",
      "11-20.",
      "11-7.",
      "13-20.",
      "13-8.",
      "14-10.",
      "14-11.",
      "14-14.",
      "14-7.",
      "15-1.",
      "15-20.",
      "16-1.",
      "16-16.",
      "17-10.",
      "17-11.",
      "17-2.",
      "19-1.",
      "19-16.",
      "19-19.",
      "19-20.",
      "19-3.",
      "2-10.",
      "2-11.",
      "2-17.",
      "2-18.",
      "2-20.",
      "2-3.",
      "2-4.",
      "2-5.",
      "2-6.",
      "2-7.",
      "2-8.",
      "3-13.",
      "3-18.",
      "3-3.",
      "4-1.",
      "4-10.",
      "4-11.",
      "4-19.",
      "5-5.",
      "6-15.",
      "7-10.",
      "7-14.",
      "8-18.",
      "8-20.",
      "8-3.",
      "8-8."
     ],
     "lr": 0.0001,
     "n_epoch": 50,
     "normalize_source": false,
     "normalize_target": false,
     "num_examples_per_domain_per_label_source": -1,
     "num_examples_per_domain_per_label_target": -1,
     "patience": 3,
     "pickle_name_source": "cores.stratified_ds.2022A.pkl",
     "pickle_name_target": "cores.stratified_ds.2022A.pkl",
     "seed": 1337,
     "torch_default_dtype": "torch.float32",
     "x_net": [
      {
       "class": "nnReshape",
       "kargs": {
        "shape": [
         -1,
         1,
         2,
         256
        ]
       }
      },
      {
       "class": "Conv2d",
       "kargs": {
        "bias": false,
        "in_channels": 1,
        "kernel_size": [
         1,
         7
        ],
        "out_channels": 256,
        "padding": [
         0,
         3
        ]
       }
      },
      {
       "class": "ReLU",
       "kargs": {
        "inplace": true
       }
      },
      {
       "class": "BatchNorm2d",
       "kargs": {
        "num_features": 256
       }
      },
      {
       "class": "Conv2d",
       "kargs": {
        "bias": true,
        "in_channels": 256,
        "kernel_size": [
         2,
         7
        ],
        "out_channels": 80,
        "padding": [
         0,
         3
        ]
       }
      },
      {
       "class": "ReLU",
       "kargs": {
        "inplace": true
       }
      },
      {
       "class": "BatchNorm2d",
       "kargs": {
        "num_features": 80
       }
      },
      {
       "class": "Flatten",
       "kargs": {}
      },
      {
       "class": "Linear",
       "kargs": {
        "in_features": 20480,
        "out_features": 256
       }
      },
      {
       "class": "ReLU",
       "kargs": {
        "inplace": true
       }
      },
      {
       "class": "BatchNorm1d",
       "kargs": {
        "num_features": 256
       }
      },
      {
       "class": "Linear",
       "kargs": {
        "in_features": 256,
        "out_features": 58
       }
      }
     ]
    }
   },
   "start_time": "2022-03-25T20:39:27.948890",
   "version": "2.3.4"
  }
 },
 "nbformat": 4,
 "nbformat_minor": 5
}