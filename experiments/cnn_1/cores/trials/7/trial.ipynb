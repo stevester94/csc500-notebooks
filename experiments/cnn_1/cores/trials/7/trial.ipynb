{
 "cells": [
  {
   "cell_type": "code",
   "execution_count": 1,
   "id": "2324682e",
   "metadata": {
    "execution": {
     "iopub.execute_input": "2022-03-25T20:55:00.679320Z",
     "iopub.status.busy": "2022-03-25T20:55:00.672765Z",
     "iopub.status.idle": "2022-03-25T20:55:02.077220Z",
     "shell.execute_reply": "2022-03-25T20:55:02.076389Z"
    },
    "papermill": {
     "duration": 1.436273,
     "end_time": "2022-03-25T20:55:02.077419",
     "exception": false,
     "start_time": "2022-03-25T20:55:00.641146",
     "status": "completed"
    },
    "tags": []
   },
   "outputs": [],
   "source": [
    "import os, json, sys, time, random\n",
    "import numpy as np\n",
    "import torch\n",
    "from  easydict import EasyDict\n",
    "from math import floor\n",
    "from easydict import EasyDict\n",
    "\n",
    "from steves_utils.vanilla_train_eval_test_jig import  Vanilla_Train_Eval_Test_Jig\n",
    "\n",
    "from steves_utils.torch_utils import get_dataset_metrics, independent_accuracy_assesment\n",
    "from steves_models.configurable_vanilla import Configurable_Vanilla\n",
    "from steves_utils.torch_sequential_builder import build_sequential\n",
    "from steves_utils.lazy_map import Lazy_Map\n",
    "from steves_utils.sequence_aggregator import Sequence_Aggregator\n",
    "\n",
    "from steves_utils.stratified_dataset.traditional_accessor import Traditional_Accessor_Factory\n",
    "\n",
    "from steves_utils.cnn_do_report import (\n",
    "    get_loss_curve,\n",
    "    get_results_table,\n",
    "    get_parameters_table,\n",
    "    get_domain_accuracies,\n",
    ")\n",
    "\n",
    "from steves_utils.torch_utils import (\n",
    "    confusion_by_domain_over_dataloader,\n",
    "    independent_accuracy_assesment\n",
    ")\n",
    "\n",
    "from steves_utils.utils_v2 import (\n",
    "    per_domain_accuracy_from_confusion,\n",
    "    get_datasets_base_path\n",
    ")\n",
    "\n",
    "# from steves_utils.ptn_do_report import TBD"
   ]
  },
  {
   "cell_type": "code",
   "execution_count": 2,
   "id": "1b29e3fe",
   "metadata": {
    "execution": {
     "iopub.execute_input": "2022-03-25T20:55:02.115293Z",
     "iopub.status.busy": "2022-03-25T20:55:02.114907Z",
     "iopub.status.idle": "2022-03-25T20:55:02.117999Z",
     "shell.execute_reply": "2022-03-25T20:55:02.117227Z"
    },
    "papermill": {
     "duration": 0.02297,
     "end_time": "2022-03-25T20:55:02.118157",
     "exception": false,
     "start_time": "2022-03-25T20:55:02.095187",
     "status": "completed"
    },
    "tags": []
   },
   "outputs": [],
   "source": [
    "required_parameters = {\n",
    "    \"experiment_name\",\n",
    "    \"lr\",\n",
    "    \"device\",\n",
    "    \"dataset_seed\",\n",
    "    \"seed\",\n",
    "    \"labels\",\n",
    "    \"domains_target\",\n",
    "    \"domains_source\",\n",
    "    \"num_examples_per_domain_per_label_source\",\n",
    "    \"num_examples_per_domain_per_label_target\",\n",
    "    \"batch_size\",\n",
    "    \"n_epoch\",\n",
    "    \"patience\",\n",
    "    \"criteria_for_best\",\n",
    "    \"normalize_source\",\n",
    "    \"normalize_target\",\n",
    "    \"x_net\",\n",
    "    \"NUM_LOGS_PER_EPOCH\",\n",
    "    \"BEST_MODEL_PATH\",\n",
    "    \"pickle_name_source\",\n",
    "    \"pickle_name_target\",\n",
    "    \"torch_default_dtype\",\n",
    "}"
   ]
  },
  {
   "cell_type": "code",
   "execution_count": 3,
   "id": "670b5fb8",
   "metadata": {
    "execution": {
     "iopub.execute_input": "2022-03-25T20:55:02.165685Z",
     "iopub.status.busy": "2022-03-25T20:55:02.164806Z",
     "iopub.status.idle": "2022-03-25T20:55:02.173182Z",
     "shell.execute_reply": "2022-03-25T20:55:02.172377Z"
    },
    "papermill": {
     "duration": 0.036044,
     "end_time": "2022-03-25T20:55:02.173342",
     "exception": false,
     "start_time": "2022-03-25T20:55:02.137298",
     "status": "completed"
    },
    "tags": [
     "parameters"
    ]
   },
   "outputs": [],
   "source": [
    "from steves_utils.ORACLE.utils_v2 import (\n",
    "    ALL_SERIAL_NUMBERS,\n",
    "    ALL_DISTANCES_FEET_NARROWED,\n",
    ")\n",
    "\n",
    "standalone_parameters = {}\n",
    "standalone_parameters[\"experiment_name\"] = \"MANUAL CORES CNN\"\n",
    "standalone_parameters[\"lr\"] = 0.0001\n",
    "standalone_parameters[\"device\"] = \"cuda\"\n",
    "\n",
    "standalone_parameters[\"dataset_seed\"] = 1337\n",
    "standalone_parameters[\"seed\"] = 1337\n",
    "standalone_parameters[\"labels\"] = ALL_SERIAL_NUMBERS\n",
    "\n",
    "standalone_parameters[\"domains_source\"] = [8,32,50]\n",
    "standalone_parameters[\"domains_target\"] = [14,20,26,38,44,]\n",
    "\n",
    "standalone_parameters[\"num_examples_per_domain_per_label_source\"]=-1\n",
    "standalone_parameters[\"num_examples_per_domain_per_label_target\"]=-1\n",
    "\n",
    "standalone_parameters[\"pickle_name_source\"] = \"oracle.Run1_framed_2000Examples_stratified_ds.2022A.pkl\"\n",
    "standalone_parameters[\"pickle_name_target\"] = \"oracle.Run2_framed_2000Examples_stratified_ds.2022A.pkl\"\n",
    "\n",
    "standalone_parameters[\"torch_default_dtype\"] = \"torch.float32\" \n",
    "\n",
    "standalone_parameters[\"batch_size\"]=128\n",
    "\n",
    "standalone_parameters[\"n_epoch\"] = 3\n",
    "\n",
    "standalone_parameters[\"patience\"] = 10\n",
    "\n",
    "standalone_parameters[\"criteria_for_best\"] = \"target_accuracy\"\n",
    "standalone_parameters[\"normalize_source\"] = False\n",
    "standalone_parameters[\"normalize_target\"] = False\n",
    "\n",
    "standalone_parameters[\"x_net\"] =     [\n",
    "    {\"class\": \"nnReshape\", \"kargs\": {\"shape\":[-1, 1, 2, 256]}},\n",
    "    {\"class\": \"Conv2d\", \"kargs\": { \"in_channels\":1, \"out_channels\":256, \"kernel_size\":(1,7), \"bias\":False, \"padding\":(0,3), },},\n",
    "    {\"class\": \"ReLU\", \"kargs\": {\"inplace\": True}},\n",
    "    {\"class\": \"BatchNorm2d\", \"kargs\": {\"num_features\":256}},\n",
    "\n",
    "    {\"class\": \"Conv2d\", \"kargs\": { \"in_channels\":256, \"out_channels\":80, \"kernel_size\":(2,7), \"bias\":True, \"padding\":(0,3), },},\n",
    "    {\"class\": \"ReLU\", \"kargs\": {\"inplace\": True}},\n",
    "    {\"class\": \"BatchNorm2d\", \"kargs\": {\"num_features\":80}},\n",
    "    {\"class\": \"Flatten\", \"kargs\": {}},\n",
    "\n",
    "    {\"class\": \"Linear\", \"kargs\": {\"in_features\": 80*256, \"out_features\": 256}}, # 80 units per IQ pair\n",
    "    {\"class\": \"ReLU\", \"kargs\": {\"inplace\": True}},\n",
    "    {\"class\": \"BatchNorm1d\", \"kargs\": {\"num_features\":256}},\n",
    "\n",
    "    {\"class\": \"Linear\", \"kargs\": {\"in_features\": 256, \"out_features\": len(standalone_parameters[\"labels\"])}},\n",
    "]\n",
    "\n",
    "standalone_parameters[\"NUM_LOGS_PER_EPOCH\"] = 10\n",
    "standalone_parameters[\"BEST_MODEL_PATH\"] = \"./best_model.pth\""
   ]
  },
  {
   "cell_type": "code",
   "execution_count": 4,
   "id": "2742df24",
   "metadata": {
    "execution": {
     "iopub.execute_input": "2022-03-25T20:55:02.226170Z",
     "iopub.status.busy": "2022-03-25T20:55:02.213152Z",
     "iopub.status.idle": "2022-03-25T20:55:02.228340Z",
     "shell.execute_reply": "2022-03-25T20:55:02.227621Z"
    },
    "papermill": {
     "duration": 0.032416,
     "end_time": "2022-03-25T20:55:02.228510",
     "exception": false,
     "start_time": "2022-03-25T20:55:02.196094",
     "status": "completed"
    },
    "tags": [
     "injected-parameters"
    ]
   },
   "outputs": [],
   "source": [
    "# Parameters\n",
    "parameters = {\n",
    "    \"experiment_name\": \"cnn_1:cores\",\n",
    "    \"device\": \"cuda\",\n",
    "    \"lr\": 0.0001,\n",
    "    \"labels\": [\n",
    "        \"1-10.\",\n",
    "        \"1-11.\",\n",
    "        \"1-15.\",\n",
    "        \"1-16.\",\n",
    "        \"1-17.\",\n",
    "        \"1-18.\",\n",
    "        \"1-19.\",\n",
    "        \"10-4.\",\n",
    "        \"10-7.\",\n",
    "        \"11-1.\",\n",
    "        \"11-14.\",\n",
    "        \"11-17.\",\n",
    "        \"11-20.\",\n",
    "        \"11-7.\",\n",
    "        \"13-20.\",\n",
    "        \"13-8.\",\n",
    "        \"14-10.\",\n",
    "        \"14-11.\",\n",
    "        \"14-14.\",\n",
    "        \"14-7.\",\n",
    "        \"15-1.\",\n",
    "        \"15-20.\",\n",
    "        \"16-1.\",\n",
    "        \"16-16.\",\n",
    "        \"17-10.\",\n",
    "        \"17-11.\",\n",
    "        \"17-2.\",\n",
    "        \"19-1.\",\n",
    "        \"19-16.\",\n",
    "        \"19-19.\",\n",
    "        \"19-20.\",\n",
    "        \"19-3.\",\n",
    "        \"2-10.\",\n",
    "        \"2-11.\",\n",
    "        \"2-17.\",\n",
    "        \"2-18.\",\n",
    "        \"2-20.\",\n",
    "        \"2-3.\",\n",
    "        \"2-4.\",\n",
    "        \"2-5.\",\n",
    "        \"2-6.\",\n",
    "        \"2-7.\",\n",
    "        \"2-8.\",\n",
    "        \"3-13.\",\n",
    "        \"3-18.\",\n",
    "        \"3-3.\",\n",
    "        \"4-1.\",\n",
    "        \"4-10.\",\n",
    "        \"4-11.\",\n",
    "        \"4-19.\",\n",
    "        \"5-5.\",\n",
    "        \"6-15.\",\n",
    "        \"7-10.\",\n",
    "        \"7-14.\",\n",
    "        \"8-18.\",\n",
    "        \"8-20.\",\n",
    "        \"8-3.\",\n",
    "        \"8-8.\",\n",
    "    ],\n",
    "    \"batch_size\": 128,\n",
    "    \"domains_source\": [1, 5],\n",
    "    \"domains_target\": [2, 3, 4],\n",
    "    \"normalize_source\": False,\n",
    "    \"normalize_target\": False,\n",
    "    \"num_examples_per_domain_per_label_source\": -1,\n",
    "    \"num_examples_per_domain_per_label_target\": -1,\n",
    "    \"torch_default_dtype\": \"torch.float32\",\n",
    "    \"n_epoch\": 50,\n",
    "    \"patience\": 3,\n",
    "    \"criteria_for_best\": \"target_accuracy\",\n",
    "    \"x_net\": [\n",
    "        {\"class\": \"nnReshape\", \"kargs\": {\"shape\": [-1, 1, 2, 256]}},\n",
    "        {\n",
    "            \"class\": \"Conv2d\",\n",
    "            \"kargs\": {\n",
    "                \"in_channels\": 1,\n",
    "                \"out_channels\": 256,\n",
    "                \"kernel_size\": [1, 7],\n",
    "                \"bias\": False,\n",
    "                \"padding\": [0, 3],\n",
    "            },\n",
    "        },\n",
    "        {\"class\": \"ReLU\", \"kargs\": {\"inplace\": True}},\n",
    "        {\"class\": \"BatchNorm2d\", \"kargs\": {\"num_features\": 256}},\n",
    "        {\n",
    "            \"class\": \"Conv2d\",\n",
    "            \"kargs\": {\n",
    "                \"in_channels\": 256,\n",
    "                \"out_channels\": 80,\n",
    "                \"kernel_size\": [2, 7],\n",
    "                \"bias\": True,\n",
    "                \"padding\": [0, 3],\n",
    "            },\n",
    "        },\n",
    "        {\"class\": \"ReLU\", \"kargs\": {\"inplace\": True}},\n",
    "        {\"class\": \"BatchNorm2d\", \"kargs\": {\"num_features\": 80}},\n",
    "        {\"class\": \"Flatten\", \"kargs\": {}},\n",
    "        {\"class\": \"Linear\", \"kargs\": {\"in_features\": 20480, \"out_features\": 256}},\n",
    "        {\"class\": \"ReLU\", \"kargs\": {\"inplace\": True}},\n",
    "        {\"class\": \"BatchNorm1d\", \"kargs\": {\"num_features\": 256}},\n",
    "        {\"class\": \"Linear\", \"kargs\": {\"in_features\": 256, \"out_features\": 58}},\n",
    "    ],\n",
    "    \"NUM_LOGS_PER_EPOCH\": 10,\n",
    "    \"BEST_MODEL_PATH\": \"./best_model.pth\",\n",
    "    \"pickle_name_source\": \"cores.stratified_ds.2022A.pkl\",\n",
    "    \"pickle_name_target\": \"cores.stratified_ds.2022A.pkl\",\n",
    "    \"dataset_seed\": 500,\n",
    "    \"seed\": 500,\n",
    "}\n"
   ]
  },
  {
   "cell_type": "code",
   "execution_count": 5,
   "id": "759b56ec",
   "metadata": {
    "execution": {
     "iopub.execute_input": "2022-03-25T20:55:02.271032Z",
     "iopub.status.busy": "2022-03-25T20:55:02.270396Z",
     "iopub.status.idle": "2022-03-25T20:55:02.272500Z",
     "shell.execute_reply": "2022-03-25T20:55:02.271950Z"
    },
    "papermill": {
     "duration": 0.020936,
     "end_time": "2022-03-25T20:55:02.272624",
     "exception": false,
     "start_time": "2022-03-25T20:55:02.251688",
     "status": "completed"
    },
    "tags": []
   },
   "outputs": [],
   "source": [
    "# Set this to True if you want to run this template directly\n",
    "STANDALONE = False\n",
    "if STANDALONE:\n",
    "    print(\"parameters not injected, running with standalone_parameters\")\n",
    "    parameters = standalone_parameters\n",
    "\n",
    "if not 'parameters' in locals() and not 'parameters' in globals():\n",
    "    raise Exception(\"Parameter injection failed\")\n",
    "\n",
    "#Use an easy dict for all the parameters\n",
    "p = EasyDict(parameters)\n",
    "\n",
    "supplied_keys = set(p.keys())\n",
    "\n",
    "if  supplied_keys != required_parameters:\n",
    "    print(\"Parameters are incorrect\")\n",
    "    if len(supplied_keys - required_parameters)>0: print(\"Shouldn't have:\", str(supplied_keys - required_parameters))\n",
    "    if len(required_parameters - supplied_keys)>0: print(\"Need to have:\", str(required_parameters - supplied_keys))\n",
    "    raise RuntimeError(\"Parameters are incorrect\")\n",
    "\n"
   ]
  },
  {
   "cell_type": "code",
   "execution_count": 6,
   "id": "d5c66a71",
   "metadata": {
    "execution": {
     "iopub.execute_input": "2022-03-25T20:55:02.313783Z",
     "iopub.status.busy": "2022-03-25T20:55:02.313412Z",
     "iopub.status.idle": "2022-03-25T20:55:02.317827Z",
     "shell.execute_reply": "2022-03-25T20:55:02.317505Z"
    },
    "papermill": {
     "duration": 0.023034,
     "end_time": "2022-03-25T20:55:02.317903",
     "exception": false,
     "start_time": "2022-03-25T20:55:02.294869",
     "status": "completed"
    },
    "tags": []
   },
   "outputs": [],
   "source": [
    "###################################\n",
    "# Set the RNGs and make it all deterministic\n",
    "###################################\n",
    "np.random.seed(p.seed)\n",
    "random.seed(p.seed)\n",
    "torch.manual_seed(p.seed)\n",
    "\n",
    "torch.use_deterministic_algorithms(True) "
   ]
  },
  {
   "cell_type": "code",
   "execution_count": 7,
   "id": "92a65876",
   "metadata": {
    "execution": {
     "iopub.execute_input": "2022-03-25T20:55:02.351657Z",
     "iopub.status.busy": "2022-03-25T20:55:02.351258Z",
     "iopub.status.idle": "2022-03-25T20:55:02.353300Z",
     "shell.execute_reply": "2022-03-25T20:55:02.353611Z"
    },
    "papermill": {
     "duration": 0.020401,
     "end_time": "2022-03-25T20:55:02.353712",
     "exception": false,
     "start_time": "2022-03-25T20:55:02.333311",
     "status": "completed"
    },
    "tags": []
   },
   "outputs": [],
   "source": [
    "torch.set_default_dtype(eval(p.torch_default_dtype))"
   ]
  },
  {
   "cell_type": "code",
   "execution_count": 8,
   "id": "f1a32f01",
   "metadata": {
    "execution": {
     "iopub.execute_input": "2022-03-25T20:55:02.431500Z",
     "iopub.status.busy": "2022-03-25T20:55:02.430934Z",
     "iopub.status.idle": "2022-03-25T20:55:02.475347Z",
     "shell.execute_reply": "2022-03-25T20:55:02.476048Z"
    },
    "papermill": {
     "duration": 0.104313,
     "end_time": "2022-03-25T20:55:02.476236",
     "exception": false,
     "start_time": "2022-03-25T20:55:02.371923",
     "status": "completed"
    },
    "tags": []
   },
   "outputs": [],
   "source": [
    "###################################\n",
    "# Build the network(s)\n",
    "# Note: It's critical to do this AFTER setting the RNG\n",
    "###################################\n",
    "x_net = build_sequential(p.x_net)"
   ]
  },
  {
   "cell_type": "code",
   "execution_count": 9,
   "id": "a276cd83",
   "metadata": {
    "execution": {
     "iopub.execute_input": "2022-03-25T20:55:02.512676Z",
     "iopub.status.busy": "2022-03-25T20:55:02.512305Z",
     "iopub.status.idle": "2022-03-25T20:55:02.514081Z",
     "shell.execute_reply": "2022-03-25T20:55:02.514392Z"
    },
    "papermill": {
     "duration": 0.019502,
     "end_time": "2022-03-25T20:55:02.514476",
     "exception": false,
     "start_time": "2022-03-25T20:55:02.494974",
     "status": "completed"
    },
    "tags": []
   },
   "outputs": [],
   "source": [
    "start_time_secs = time.time()"
   ]
  },
  {
   "cell_type": "code",
   "execution_count": 10,
   "id": "de702e48",
   "metadata": {
    "execution": {
     "iopub.execute_input": "2022-03-25T20:55:02.561658Z",
     "iopub.status.busy": "2022-03-25T20:55:02.560766Z",
     "iopub.status.idle": "2022-03-25T20:55:06.289540Z",
     "shell.execute_reply": "2022-03-25T20:55:06.288782Z"
    },
    "papermill": {
     "duration": 3.756695,
     "end_time": "2022-03-25T20:55:06.289736",
     "exception": false,
     "start_time": "2022-03-25T20:55:02.533041",
     "status": "completed"
    },
    "tags": []
   },
   "outputs": [],
   "source": [
    "def wrap_in_dataloader(p, ds):\n",
    "    return torch.utils.data.DataLoader(\n",
    "        ds,\n",
    "        batch_size=p.batch_size,\n",
    "        shuffle=True,\n",
    "        num_workers=1,\n",
    "        persistent_workers=True,\n",
    "        prefetch_factor=50,\n",
    "        pin_memory=True\n",
    "    )\n",
    "\n",
    "taf_source = Traditional_Accessor_Factory(\n",
    "    labels=p.labels,\n",
    "    domains=p.domains_source,\n",
    "    num_examples_per_domain_per_label=p.num_examples_per_domain_per_label_source,\n",
    "    pickle_path=os.path.join(get_datasets_base_path(), p.pickle_name_source),\n",
    "    seed=p.dataset_seed\n",
    ")\n",
    "train_original_source, val_original_source, test_original_source = \\\n",
    "    taf_source.get_train(), taf_source.get_val(), taf_source.get_test()\n",
    "\n",
    "\n",
    "taf_target = Traditional_Accessor_Factory(\n",
    "    labels=p.labels,\n",
    "    domains=p.domains_target,\n",
    "    num_examples_per_domain_per_label=p.num_examples_per_domain_per_label_source,\n",
    "    pickle_path=os.path.join(get_datasets_base_path(), p.pickle_name_target),\n",
    "    seed=p.dataset_seed\n",
    ")\n",
    "train_original_target, val_original_target, test_original_target = \\\n",
    "    taf_target.get_train(), taf_target.get_val(), taf_target.get_test()\n",
    "\n",
    "\n",
    "# For CNN We only use X and Y. And we only train on the source.\n",
    "# Properly form the data using a transform lambda and Lazy_Map. Finally wrap them in a dataloader\n",
    "\n",
    "transform_lambda = lambda ex: ex[:2] # Strip the tuple to just (x,y)\n",
    "\n",
    "\n",
    "train_processed_source = wrap_in_dataloader(\n",
    "    p,\n",
    "    Lazy_Map(train_original_source, transform_lambda)\n",
    ")\n",
    "val_processed_source = wrap_in_dataloader(\n",
    "    p,\n",
    "    Lazy_Map(val_original_source, transform_lambda)\n",
    ")\n",
    "test_processed_source = wrap_in_dataloader(\n",
    "    p,\n",
    "    Lazy_Map(test_original_source, transform_lambda)\n",
    ")\n",
    "\n",
    "train_processed_target = wrap_in_dataloader(\n",
    "    p,\n",
    "    Lazy_Map(train_original_target, transform_lambda)\n",
    ")\n",
    "val_processed_target = wrap_in_dataloader(\n",
    "    p,\n",
    "    Lazy_Map(val_original_target, transform_lambda)\n",
    ")\n",
    "test_processed_target  = wrap_in_dataloader(\n",
    "    p,\n",
    "    Lazy_Map(test_original_target, transform_lambda)\n",
    ")\n",
    "\n",
    "\n",
    "\n",
    "datasets = EasyDict({\n",
    "    \"source\": {\n",
    "        \"original\": {\"train\":train_original_source, \"val\":val_original_source, \"test\":test_original_source},\n",
    "        \"processed\": {\"train\":train_processed_source, \"val\":val_processed_source, \"test\":test_processed_source}\n",
    "    },\n",
    "    \"target\": {\n",
    "        \"original\": {\"train\":train_original_target, \"val\":val_original_target, \"test\":test_original_target},\n",
    "        \"processed\": {\"train\":train_processed_target, \"val\":val_processed_target, \"test\":test_processed_target}\n",
    "    },\n",
    "})"
   ]
  },
  {
   "cell_type": "code",
   "execution_count": 11,
   "id": "a11b26bd",
   "metadata": {
    "execution": {
     "iopub.execute_input": "2022-03-25T20:55:06.367954Z",
     "iopub.status.busy": "2022-03-25T20:55:06.367100Z",
     "iopub.status.idle": "2022-03-25T20:55:12.149375Z",
     "shell.execute_reply": "2022-03-25T20:55:12.148670Z"
    },
    "papermill": {
     "duration": 5.83917,
     "end_time": "2022-03-25T20:55:12.149548",
     "exception": false,
     "start_time": "2022-03-25T20:55:06.310378",
     "status": "completed"
    },
    "tags": []
   },
   "outputs": [
    {
     "data": {
      "text/plain": [
       "torch.float32"
      ]
     },
     "execution_count": 11,
     "metadata": {},
     "output_type": "execute_result"
    }
   ],
   "source": [
    "ep = next(iter(test_processed_target))\n",
    "ep[0].dtype"
   ]
  },
  {
   "cell_type": "code",
   "execution_count": 12,
   "id": "19425fad",
   "metadata": {
    "execution": {
     "iopub.execute_input": "2022-03-25T20:55:12.193473Z",
     "iopub.status.busy": "2022-03-25T20:55:12.190083Z",
     "iopub.status.idle": "2022-03-25T20:55:12.241319Z",
     "shell.execute_reply": "2022-03-25T20:55:12.240904Z"
    },
    "papermill": {
     "duration": 0.072478,
     "end_time": "2022-03-25T20:55:12.241420",
     "exception": false,
     "start_time": "2022-03-25T20:55:12.168942",
     "status": "completed"
    },
    "tags": []
   },
   "outputs": [],
   "source": [
    "model = Configurable_Vanilla(\n",
    "    x_net=x_net,\n",
    "    label_loss_object=torch.nn.NLLLoss(),\n",
    "    learning_rate=p.lr\n",
    ")"
   ]
  },
  {
   "cell_type": "code",
   "execution_count": 13,
   "id": "7f6d4f2c",
   "metadata": {
    "execution": {
     "iopub.execute_input": "2022-03-25T20:55:12.286772Z",
     "iopub.status.busy": "2022-03-25T20:55:12.286389Z",
     "iopub.status.idle": "2022-03-25T20:56:46.365803Z",
     "shell.execute_reply": "2022-03-25T20:56:46.365201Z"
    },
    "papermill": {
     "duration": 94.103033,
     "end_time": "2022-03-25T20:56:46.365953",
     "exception": false,
     "start_time": "2022-03-25T20:55:12.262920",
     "status": "completed"
    },
    "tags": []
   },
   "outputs": [
    {
     "name": "stdout",
     "output_type": "stream",
     "text": [
      "epoch: 1, [batch: 1 / 568], examples_per_second: 741.5518, train_label_loss: 3.9343, \n"
     ]
    },
    {
     "name": "stdout",
     "output_type": "stream",
     "text": [
      "epoch: 1, [batch: 57 / 568], examples_per_second: 10622.0814, train_label_loss: 2.7613, \n"
     ]
    },
    {
     "name": "stdout",
     "output_type": "stream",
     "text": [
      "epoch: 1, [batch: 114 / 568], examples_per_second: 10583.5995, train_label_loss: 1.9293, \n"
     ]
    },
    {
     "name": "stdout",
     "output_type": "stream",
     "text": [
      "epoch: 1, [batch: 171 / 568], examples_per_second: 10721.0019, train_label_loss: 1.4066, \n"
     ]
    },
    {
     "name": "stdout",
     "output_type": "stream",
     "text": [
      "epoch: 1, [batch: 227 / 568], examples_per_second: 10771.0238, train_label_loss: 1.0740, \n"
     ]
    },
    {
     "name": "stdout",
     "output_type": "stream",
     "text": [
      "epoch: 1, [batch: 284 / 568], examples_per_second: 10758.0889, train_label_loss: 0.6326, \n"
     ]
    },
    {
     "name": "stdout",
     "output_type": "stream",
     "text": [
      "epoch: 1, [batch: 341 / 568], examples_per_second: 10834.3687, train_label_loss: 0.5001, \n"
     ]
    },
    {
     "name": "stdout",
     "output_type": "stream",
     "text": [
      "epoch: 1, [batch: 397 / 568], examples_per_second: 10684.9931, train_label_loss: 0.3478, \n"
     ]
    },
    {
     "name": "stdout",
     "output_type": "stream",
     "text": [
      "epoch: 1, [batch: 454 / 568], examples_per_second: 10735.2147, train_label_loss: 0.2938, \n"
     ]
    },
    {
     "name": "stdout",
     "output_type": "stream",
     "text": [
      "epoch: 1, [batch: 511 / 568], examples_per_second: 10676.3085, train_label_loss: 0.2894, \n"
     ]
    },
    {
     "name": "stdout",
     "output_type": "stream",
     "text": [
      "=============================================================\n",
      "epoch: 1, source_val_acc_label: 0.9808, source_val_label_loss: 0.1805, target_val_acc_label: 0.8303, target_val_label_loss: 0.7063, \n",
      "=============================================================\n"
     ]
    },
    {
     "name": "stdout",
     "output_type": "stream",
     "text": [
      "New best\n",
      "epoch: 2, [batch: 1 / 568], examples_per_second: 98.7447, train_label_loss: 0.1907, \n"
     ]
    },
    {
     "name": "stdout",
     "output_type": "stream",
     "text": [
      "epoch: 2, [batch: 57 / 568], examples_per_second: 10217.9105, train_label_loss: 0.1631, \n"
     ]
    },
    {
     "name": "stdout",
     "output_type": "stream",
     "text": [
      "epoch: 2, [batch: 114 / 568], examples_per_second: 10519.5202, train_label_loss: 0.1469, \n"
     ]
    },
    {
     "name": "stdout",
     "output_type": "stream",
     "text": [
      "epoch: 2, [batch: 171 / 568], examples_per_second: 10663.5033, train_label_loss: 0.1054, \n"
     ]
    },
    {
     "name": "stdout",
     "output_type": "stream",
     "text": [
      "epoch: 2, [batch: 227 / 568], examples_per_second: 10732.9487, train_label_loss: 0.0960, \n"
     ]
    },
    {
     "name": "stdout",
     "output_type": "stream",
     "text": [
      "epoch: 2, [batch: 284 / 568], examples_per_second: 10650.5286, train_label_loss: 0.0801, \n"
     ]
    },
    {
     "name": "stdout",
     "output_type": "stream",
     "text": [
      "epoch: 2, [batch: 341 / 568], examples_per_second: 10676.5469, train_label_loss: 0.0736, \n"
     ]
    },
    {
     "name": "stdout",
     "output_type": "stream",
     "text": [
      "epoch: 2, [batch: 397 / 568], examples_per_second: 10480.4306, train_label_loss: 0.0729, \n"
     ]
    },
    {
     "name": "stdout",
     "output_type": "stream",
     "text": [
      "epoch: 2, [batch: 454 / 568], examples_per_second: 10655.3570, train_label_loss: 0.0687, \n"
     ]
    },
    {
     "name": "stdout",
     "output_type": "stream",
     "text": [
      "epoch: 2, [batch: 511 / 568], examples_per_second: 10532.8300, train_label_loss: 0.0747, \n"
     ]
    },
    {
     "name": "stdout",
     "output_type": "stream",
     "text": [
      "=============================================================\n",
      "epoch: 2, source_val_acc_label: 0.9939, source_val_label_loss: 0.0610, target_val_acc_label: 0.8512, target_val_label_loss: 0.5659, \n",
      "=============================================================\n"
     ]
    },
    {
     "name": "stdout",
     "output_type": "stream",
     "text": [
      "New best\n",
      "epoch: 3, [batch: 1 / 568], examples_per_second: 116.0074, train_label_loss: 0.0601, \n"
     ]
    },
    {
     "name": "stdout",
     "output_type": "stream",
     "text": [
      "epoch: 3, [batch: 57 / 568], examples_per_second: 10555.4165, train_label_loss: 0.0859, \n"
     ]
    },
    {
     "name": "stdout",
     "output_type": "stream",
     "text": [
      "epoch: 3, [batch: 114 / 568], examples_per_second: 10661.1443, train_label_loss: 0.0432, \n"
     ]
    },
    {
     "name": "stdout",
     "output_type": "stream",
     "text": [
      "epoch: 3, [batch: 171 / 568], examples_per_second: 10691.2209, train_label_loss: 0.0301, \n"
     ]
    },
    {
     "name": "stdout",
     "output_type": "stream",
     "text": [
      "epoch: 3, [batch: 227 / 568], examples_per_second: 10632.5208, train_label_loss: 0.0329, \n"
     ]
    },
    {
     "name": "stdout",
     "output_type": "stream",
     "text": [
      "epoch: 3, [batch: 284 / 568], examples_per_second: 10511.3829, train_label_loss: 0.0246, \n"
     ]
    },
    {
     "name": "stdout",
     "output_type": "stream",
     "text": [
      "epoch: 3, [batch: 341 / 568], examples_per_second: 10659.5920, train_label_loss: 0.0241, \n"
     ]
    },
    {
     "name": "stdout",
     "output_type": "stream",
     "text": [
      "epoch: 3, [batch: 397 / 568], examples_per_second: 10744.6363, train_label_loss: 0.0332, \n"
     ]
    },
    {
     "name": "stdout",
     "output_type": "stream",
     "text": [
      "epoch: 3, [batch: 454 / 568], examples_per_second: 10731.0587, train_label_loss: 0.0388, \n"
     ]
    },
    {
     "name": "stdout",
     "output_type": "stream",
     "text": [
      "epoch: 3, [batch: 511 / 568], examples_per_second: 10684.4832, train_label_loss: 0.0408, \n"
     ]
    },
    {
     "name": "stdout",
     "output_type": "stream",
     "text": [
      "=============================================================\n",
      "epoch: 3, source_val_acc_label: 0.9868, source_val_label_loss: 0.0834, target_val_acc_label: 0.8448, target_val_label_loss: 0.6509, \n",
      "=============================================================\n"
     ]
    },
    {
     "name": "stdout",
     "output_type": "stream",
     "text": [
      "epoch: 4, [batch: 1 / 568], examples_per_second: 125.1560, train_label_loss: 0.1137, \n"
     ]
    },
    {
     "name": "stdout",
     "output_type": "stream",
     "text": [
      "epoch: 4, [batch: 57 / 568], examples_per_second: 10742.6975, train_label_loss: 0.0954, \n"
     ]
    },
    {
     "name": "stdout",
     "output_type": "stream",
     "text": [
      "epoch: 4, [batch: 114 / 568], examples_per_second: 10617.8169, train_label_loss: 0.0877, \n"
     ]
    },
    {
     "name": "stdout",
     "output_type": "stream",
     "text": [
      "epoch: 4, [batch: 171 / 568], examples_per_second: 10772.1613, train_label_loss: 0.0352, \n"
     ]
    },
    {
     "name": "stdout",
     "output_type": "stream",
     "text": [
      "epoch: 4, [batch: 227 / 568], examples_per_second: 10488.5182, train_label_loss: 0.0904, \n"
     ]
    },
    {
     "name": "stdout",
     "output_type": "stream",
     "text": [
      "epoch: 4, [batch: 284 / 568], examples_per_second: 10654.1922, train_label_loss: 0.0248, \n"
     ]
    },
    {
     "name": "stdout",
     "output_type": "stream",
     "text": [
      "epoch: 4, [batch: 341 / 568], examples_per_second: 10584.1523, train_label_loss: 0.0353, \n"
     ]
    },
    {
     "name": "stdout",
     "output_type": "stream",
     "text": [
      "epoch: 4, [batch: 397 / 568], examples_per_second: 10614.5810, train_label_loss: 0.0175, \n"
     ]
    },
    {
     "name": "stdout",
     "output_type": "stream",
     "text": [
      "epoch: 4, [batch: 454 / 568], examples_per_second: 10511.6176, train_label_loss: 0.0171, \n"
     ]
    },
    {
     "name": "stdout",
     "output_type": "stream",
     "text": [
      "epoch: 4, [batch: 511 / 568], examples_per_second: 10678.3203, train_label_loss: 0.0135, \n"
     ]
    },
    {
     "name": "stdout",
     "output_type": "stream",
     "text": [
      "=============================================================\n",
      "epoch: 4, source_val_acc_label: 0.9908, source_val_label_loss: 0.0476, target_val_acc_label: 0.8480, target_val_label_loss: 0.6657, \n",
      "=============================================================\n"
     ]
    },
    {
     "name": "stdout",
     "output_type": "stream",
     "text": [
      "epoch: 5, [batch: 1 / 568], examples_per_second: 120.6302, train_label_loss: 0.0268, \n"
     ]
    },
    {
     "name": "stdout",
     "output_type": "stream",
     "text": [
      "epoch: 5, [batch: 57 / 568], examples_per_second: 10706.8731, train_label_loss: 0.0576, \n"
     ]
    },
    {
     "name": "stdout",
     "output_type": "stream",
     "text": [
      "epoch: 5, [batch: 114 / 568], examples_per_second: 10664.9787, train_label_loss: 0.0329, \n"
     ]
    },
    {
     "name": "stdout",
     "output_type": "stream",
     "text": [
      "epoch: 5, [batch: 171 / 568], examples_per_second: 10759.4468, train_label_loss: 0.0316, \n"
     ]
    },
    {
     "name": "stdout",
     "output_type": "stream",
     "text": [
      "epoch: 5, [batch: 227 / 568], examples_per_second: 10754.9565, train_label_loss: 0.0184, \n"
     ]
    },
    {
     "name": "stdout",
     "output_type": "stream",
     "text": [
      "epoch: 5, [batch: 284 / 568], examples_per_second: 10742.9744, train_label_loss: 0.0308, \n"
     ]
    },
    {
     "name": "stdout",
     "output_type": "stream",
     "text": [
      "epoch: 5, [batch: 341 / 568], examples_per_second: 10731.7135, train_label_loss: 0.0280, \n"
     ]
    },
    {
     "name": "stdout",
     "output_type": "stream",
     "text": [
      "epoch: 5, [batch: 397 / 568], examples_per_second: 10692.8329, train_label_loss: 0.0328, \n"
     ]
    },
    {
     "name": "stdout",
     "output_type": "stream",
     "text": [
      "epoch: 5, [batch: 454 / 568], examples_per_second: 10688.5061, train_label_loss: 0.0298, \n"
     ]
    },
    {
     "name": "stdout",
     "output_type": "stream",
     "text": [
      "epoch: 5, [batch: 511 / 568], examples_per_second: 10704.7743, train_label_loss: 0.0151, \n"
     ]
    },
    {
     "name": "stdout",
     "output_type": "stream",
     "text": [
      "=============================================================\n",
      "epoch: 5, source_val_acc_label: 0.9930, source_val_label_loss: 0.0351, target_val_acc_label: 0.8517, target_val_label_loss: 0.5558, \n",
      "=============================================================\n"
     ]
    },
    {
     "name": "stdout",
     "output_type": "stream",
     "text": [
      "New best\n",
      "epoch: 6, [batch: 1 / 568], examples_per_second: 123.6073, train_label_loss: 0.0188, \n"
     ]
    },
    {
     "name": "stdout",
     "output_type": "stream",
     "text": [
      "epoch: 6, [batch: 57 / 568], examples_per_second: 10481.1248, train_label_loss: 0.0108, \n"
     ]
    },
    {
     "name": "stdout",
     "output_type": "stream",
     "text": [
      "epoch: 6, [batch: 114 / 568], examples_per_second: 10740.7573, train_label_loss: 0.0115, \n"
     ]
    },
    {
     "name": "stdout",
     "output_type": "stream",
     "text": [
      "epoch: 6, [batch: 171 / 568], examples_per_second: 10575.1692, train_label_loss: 0.0086, \n"
     ]
    },
    {
     "name": "stdout",
     "output_type": "stream",
     "text": [
      "epoch: 6, [batch: 227 / 568], examples_per_second: 10647.7377, train_label_loss: 0.0075, \n"
     ]
    },
    {
     "name": "stdout",
     "output_type": "stream",
     "text": [
      "epoch: 6, [batch: 284 / 568], examples_per_second: 10690.4142, train_label_loss: 0.0730, \n"
     ]
    },
    {
     "name": "stdout",
     "output_type": "stream",
     "text": [
      "epoch: 6, [batch: 341 / 568], examples_per_second: 10717.5363, train_label_loss: 0.0109, \n"
     ]
    },
    {
     "name": "stdout",
     "output_type": "stream",
     "text": [
      "epoch: 6, [batch: 397 / 568], examples_per_second: 10836.6002, train_label_loss: 0.0054, \n"
     ]
    },
    {
     "name": "stdout",
     "output_type": "stream",
     "text": [
      "epoch: 6, [batch: 454 / 568], examples_per_second: 10601.3894, train_label_loss: 0.0043, \n"
     ]
    },
    {
     "name": "stdout",
     "output_type": "stream",
     "text": [
      "epoch: 6, [batch: 511 / 568], examples_per_second: 10647.9790, train_label_loss: 0.0152, \n"
     ]
    },
    {
     "name": "stdout",
     "output_type": "stream",
     "text": [
      "=============================================================\n",
      "epoch: 6, source_val_acc_label: 0.9805, source_val_label_loss: 0.0848, target_val_acc_label: 0.8422, target_val_label_loss: 0.6557, \n",
      "=============================================================\n"
     ]
    },
    {
     "name": "stdout",
     "output_type": "stream",
     "text": [
      "epoch: 7, [batch: 1 / 568], examples_per_second: 123.5073, train_label_loss: 0.1192, \n"
     ]
    },
    {
     "name": "stdout",
     "output_type": "stream",
     "text": [
      "epoch: 7, [batch: 57 / 568], examples_per_second: 10433.8383, train_label_loss: 0.0527, \n"
     ]
    },
    {
     "name": "stdout",
     "output_type": "stream",
     "text": [
      "epoch: 7, [batch: 114 / 568], examples_per_second: 10776.2809, train_label_loss: 0.0092, \n"
     ]
    },
    {
     "name": "stdout",
     "output_type": "stream",
     "text": [
      "epoch: 7, [batch: 171 / 568], examples_per_second: 10866.4391, train_label_loss: 0.0092, \n"
     ]
    },
    {
     "name": "stdout",
     "output_type": "stream",
     "text": [
      "epoch: 7, [batch: 227 / 568], examples_per_second: 10758.2354, train_label_loss: 0.0154, \n"
     ]
    },
    {
     "name": "stdout",
     "output_type": "stream",
     "text": [
      "epoch: 7, [batch: 284 / 568], examples_per_second: 10779.8265, train_label_loss: 0.0080, \n"
     ]
    },
    {
     "name": "stdout",
     "output_type": "stream",
     "text": [
      "epoch: 7, [batch: 341 / 568], examples_per_second: 10801.0116, train_label_loss: 0.0074, \n"
     ]
    },
    {
     "name": "stdout",
     "output_type": "stream",
     "text": [
      "epoch: 7, [batch: 397 / 568], examples_per_second: 10743.6688, train_label_loss: 0.0034, \n"
     ]
    },
    {
     "name": "stdout",
     "output_type": "stream",
     "text": [
      "epoch: 7, [batch: 454 / 568], examples_per_second: 10607.3792, train_label_loss: 0.0073, \n"
     ]
    },
    {
     "name": "stdout",
     "output_type": "stream",
     "text": [
      "epoch: 7, [batch: 511 / 568], examples_per_second: 10614.0090, train_label_loss: 0.0091, \n"
     ]
    },
    {
     "name": "stdout",
     "output_type": "stream",
     "text": [
      "=============================================================\n",
      "epoch: 7, source_val_acc_label: 0.9964, source_val_label_loss: 0.0168, target_val_acc_label: 0.8584, target_val_label_loss: 0.5754, \n",
      "=============================================================\n"
     ]
    },
    {
     "name": "stdout",
     "output_type": "stream",
     "text": [
      "New best\n",
      "epoch: 8, [batch: 1 / 568], examples_per_second: 120.6495, train_label_loss: 0.0058, \n"
     ]
    },
    {
     "name": "stdout",
     "output_type": "stream",
     "text": [
      "epoch: 8, [batch: 57 / 568], examples_per_second: 10612.5165, train_label_loss: 0.0070, \n"
     ]
    },
    {
     "name": "stdout",
     "output_type": "stream",
     "text": [
      "epoch: 8, [batch: 114 / 568], examples_per_second: 10758.0132, train_label_loss: 0.0087, \n"
     ]
    },
    {
     "name": "stdout",
     "output_type": "stream",
     "text": [
      "epoch: 8, [batch: 171 / 568], examples_per_second: 10591.6804, train_label_loss: 0.0057, \n"
     ]
    },
    {
     "name": "stdout",
     "output_type": "stream",
     "text": [
      "epoch: 8, [batch: 227 / 568], examples_per_second: 10659.3461, train_label_loss: 0.0045, \n"
     ]
    },
    {
     "name": "stdout",
     "output_type": "stream",
     "text": [
      "epoch: 8, [batch: 284 / 568], examples_per_second: 10702.3221, train_label_loss: 0.0030, \n"
     ]
    },
    {
     "name": "stdout",
     "output_type": "stream",
     "text": [
      "epoch: 8, [batch: 341 / 568], examples_per_second: 10692.7339, train_label_loss: 0.0033, \n"
     ]
    },
    {
     "name": "stdout",
     "output_type": "stream",
     "text": [
      "epoch: 8, [batch: 397 / 568], examples_per_second: 10864.2702, train_label_loss: 0.0079, \n"
     ]
    },
    {
     "name": "stdout",
     "output_type": "stream",
     "text": [
      "epoch: 8, [batch: 454 / 568], examples_per_second: 11933.3492, train_label_loss: 0.0025, \n"
     ]
    },
    {
     "name": "stdout",
     "output_type": "stream",
     "text": [
      "epoch: 8, [batch: 511 / 568], examples_per_second: 11686.4570, train_label_loss: 0.0031, \n"
     ]
    },
    {
     "name": "stdout",
     "output_type": "stream",
     "text": [
      "=============================================================\n",
      "epoch: 8, source_val_acc_label: 0.9972, source_val_label_loss: 0.0141, target_val_acc_label: 0.8598, target_val_label_loss: 0.5474, \n",
      "=============================================================\n"
     ]
    },
    {
     "name": "stdout",
     "output_type": "stream",
     "text": [
      "New best\n",
      "epoch: 9, [batch: 1 / 568], examples_per_second: 134.0164, train_label_loss: 0.0041, \n"
     ]
    },
    {
     "name": "stdout",
     "output_type": "stream",
     "text": [
      "epoch: 9, [batch: 57 / 568], examples_per_second: 11697.1620, train_label_loss: 0.0066, \n"
     ]
    },
    {
     "name": "stdout",
     "output_type": "stream",
     "text": [
      "epoch: 9, [batch: 114 / 568], examples_per_second: 11662.6823, train_label_loss: 0.0031, \n"
     ]
    },
    {
     "name": "stdout",
     "output_type": "stream",
     "text": [
      "epoch: 9, [batch: 171 / 568], examples_per_second: 11764.3150, train_label_loss: 0.0126, \n"
     ]
    },
    {
     "name": "stdout",
     "output_type": "stream",
     "text": [
      "epoch: 9, [batch: 227 / 568], examples_per_second: 11916.6801, train_label_loss: 0.0288, \n"
     ]
    },
    {
     "name": "stdout",
     "output_type": "stream",
     "text": [
      "epoch: 9, [batch: 284 / 568], examples_per_second: 11714.1077, train_label_loss: 0.0030, \n"
     ]
    },
    {
     "name": "stdout",
     "output_type": "stream",
     "text": [
      "epoch: 9, [batch: 341 / 568], examples_per_second: 11717.4178, train_label_loss: 0.0131, \n"
     ]
    },
    {
     "name": "stdout",
     "output_type": "stream",
     "text": [
      "epoch: 9, [batch: 397 / 568], examples_per_second: 11797.4994, train_label_loss: 0.0057, \n"
     ]
    },
    {
     "name": "stdout",
     "output_type": "stream",
     "text": [
      "epoch: 9, [batch: 454 / 568], examples_per_second: 11791.5088, train_label_loss: 0.0092, \n"
     ]
    },
    {
     "name": "stdout",
     "output_type": "stream",
     "text": [
      "epoch: 9, [batch: 511 / 568], examples_per_second: 11681.7059, train_label_loss: 0.0048, \n"
     ]
    },
    {
     "name": "stdout",
     "output_type": "stream",
     "text": [
      "=============================================================\n",
      "epoch: 9, source_val_acc_label: 0.9389, source_val_label_loss: 0.1996, target_val_acc_label: 0.8178, target_val_label_loss: 0.8787, \n",
      "=============================================================\n"
     ]
    },
    {
     "name": "stdout",
     "output_type": "stream",
     "text": [
      "epoch: 10, [batch: 1 / 568], examples_per_second: 136.8182, train_label_loss: 0.1548, \n"
     ]
    },
    {
     "name": "stdout",
     "output_type": "stream",
     "text": [
      "epoch: 10, [batch: 57 / 568], examples_per_second: 11529.3530, train_label_loss: 0.0755, \n"
     ]
    },
    {
     "name": "stdout",
     "output_type": "stream",
     "text": [
      "epoch: 10, [batch: 114 / 568], examples_per_second: 11656.6360, train_label_loss: 0.0197, \n"
     ]
    },
    {
     "name": "stdout",
     "output_type": "stream",
     "text": [
      "epoch: 10, [batch: 171 / 568], examples_per_second: 11774.0693, train_label_loss: 0.0362, \n"
     ]
    },
    {
     "name": "stdout",
     "output_type": "stream",
     "text": [
      "epoch: 10, [batch: 227 / 568], examples_per_second: 11933.2776, train_label_loss: 0.0297, \n"
     ]
    },
    {
     "name": "stdout",
     "output_type": "stream",
     "text": [
      "epoch: 10, [batch: 284 / 568], examples_per_second: 12369.3525, train_label_loss: 0.0221, \n"
     ]
    },
    {
     "name": "stdout",
     "output_type": "stream",
     "text": [
      "epoch: 10, [batch: 341 / 568], examples_per_second: 11669.8339, train_label_loss: 0.0053, \n"
     ]
    },
    {
     "name": "stdout",
     "output_type": "stream",
     "text": [
      "epoch: 10, [batch: 397 / 568], examples_per_second: 13042.0229, train_label_loss: 0.0074, \n"
     ]
    },
    {
     "name": "stdout",
     "output_type": "stream",
     "text": [
      "epoch: 10, [batch: 454 / 568], examples_per_second: 12949.8255, train_label_loss: 0.0052, \n"
     ]
    },
    {
     "name": "stdout",
     "output_type": "stream",
     "text": [
      "epoch: 10, [batch: 511 / 568], examples_per_second: 13093.1575, train_label_loss: 0.0037, \n"
     ]
    },
    {
     "name": "stdout",
     "output_type": "stream",
     "text": [
      "=============================================================\n",
      "epoch: 10, source_val_acc_label: 0.9832, source_val_label_loss: 0.0578, target_val_acc_label: 0.8377, target_val_label_loss: 0.7034, \n",
      "=============================================================\n"
     ]
    },
    {
     "name": "stdout",
     "output_type": "stream",
     "text": [
      "epoch: 11, [batch: 1 / 568], examples_per_second: 154.9161, train_label_loss: 0.0730, \n"
     ]
    },
    {
     "name": "stdout",
     "output_type": "stream",
     "text": [
      "epoch: 11, [batch: 57 / 568], examples_per_second: 12436.5020, train_label_loss: 0.0750, \n"
     ]
    },
    {
     "name": "stdout",
     "output_type": "stream",
     "text": [
      "epoch: 11, [batch: 114 / 568], examples_per_second: 13064.4487, train_label_loss: 0.0220, \n"
     ]
    },
    {
     "name": "stdout",
     "output_type": "stream",
     "text": [
      "epoch: 11, [batch: 171 / 568], examples_per_second: 12999.5387, train_label_loss: 0.0082, \n"
     ]
    },
    {
     "name": "stdout",
     "output_type": "stream",
     "text": [
      "epoch: 11, [batch: 227 / 568], examples_per_second: 13088.5181, train_label_loss: 0.0149, \n"
     ]
    },
    {
     "name": "stdout",
     "output_type": "stream",
     "text": [
      "epoch: 11, [batch: 284 / 568], examples_per_second: 13108.9237, train_label_loss: 0.0188, \n"
     ]
    },
    {
     "name": "stdout",
     "output_type": "stream",
     "text": [
      "epoch: 11, [batch: 341 / 568], examples_per_second: 12987.4894, train_label_loss: 0.0078, \n"
     ]
    },
    {
     "name": "stdout",
     "output_type": "stream",
     "text": [
      "epoch: 11, [batch: 397 / 568], examples_per_second: 12989.6579, train_label_loss: 0.0054, \n"
     ]
    },
    {
     "name": "stdout",
     "output_type": "stream",
     "text": [
      "epoch: 11, [batch: 454 / 568], examples_per_second: 12935.5001, train_label_loss: 0.0041, \n"
     ]
    },
    {
     "name": "stdout",
     "output_type": "stream",
     "text": [
      "epoch: 11, [batch: 511 / 568], examples_per_second: 12908.4632, train_label_loss: 0.0161, \n"
     ]
    },
    {
     "name": "stdout",
     "output_type": "stream",
     "text": [
      "=============================================================\n",
      "epoch: 11, source_val_acc_label: 0.9962, source_val_label_loss: 0.0185, target_val_acc_label: 0.8555, target_val_label_loss: 0.6308, \n",
      "=============================================================\n"
     ]
    },
    {
     "name": "stdout",
     "output_type": "stream",
     "text": [
      "epoch: 12, [batch: 1 / 568], examples_per_second: 154.1927, train_label_loss: 0.0028, \n"
     ]
    },
    {
     "name": "stdout",
     "output_type": "stream",
     "text": [
      "epoch: 12, [batch: 57 / 568], examples_per_second: 12662.5724, train_label_loss: 0.0117, \n"
     ]
    },
    {
     "name": "stdout",
     "output_type": "stream",
     "text": [
      "epoch: 12, [batch: 114 / 568], examples_per_second: 13004.6045, train_label_loss: 0.0064, \n"
     ]
    },
    {
     "name": "stdout",
     "output_type": "stream",
     "text": [
      "epoch: 12, [batch: 171 / 568], examples_per_second: 13081.0068, train_label_loss: 0.0068, \n"
     ]
    },
    {
     "name": "stdout",
     "output_type": "stream",
     "text": [
      "epoch: 12, [batch: 227 / 568], examples_per_second: 13451.5163, train_label_loss: 0.0077, \n"
     ]
    },
    {
     "name": "stdout",
     "output_type": "stream",
     "text": [
      "epoch: 12, [batch: 284 / 568], examples_per_second: 13889.8548, train_label_loss: 0.0033, \n"
     ]
    },
    {
     "name": "stdout",
     "output_type": "stream",
     "text": [
      "epoch: 12, [batch: 341 / 568], examples_per_second: 13035.3934, train_label_loss: 0.0040, \n"
     ]
    },
    {
     "name": "stdout",
     "output_type": "stream",
     "text": [
      "epoch: 12, [batch: 397 / 568], examples_per_second: 13135.6100, train_label_loss: 0.0043, \n"
     ]
    },
    {
     "name": "stdout",
     "output_type": "stream",
     "text": [
      "epoch: 12, [batch: 454 / 568], examples_per_second: 13090.6539, train_label_loss: 0.0029, \n"
     ]
    },
    {
     "name": "stdout",
     "output_type": "stream",
     "text": [
      "epoch: 12, [batch: 511 / 568], examples_per_second: 12969.6882, train_label_loss: 0.0015, \n"
     ]
    },
    {
     "name": "stdout",
     "output_type": "stream",
     "text": [
      "=============================================================\n",
      "epoch: 12, source_val_acc_label: 0.9963, source_val_label_loss: 0.0174, target_val_acc_label: 0.8569, target_val_label_loss: 0.5988, \n",
      "=============================================================\n"
     ]
    },
    {
     "name": "stdout",
     "output_type": "stream",
     "text": [
      "Patience (3) exhausted\n"
     ]
    }
   ],
   "source": [
    "jig = Vanilla_Train_Eval_Test_Jig(\n",
    "    model=model,\n",
    "    path_to_best_model=p.BEST_MODEL_PATH,\n",
    "    device=p.device,\n",
    "    label_loss_object=torch.nn.NLLLoss(),\n",
    ")\n",
    "\n",
    "jig.train(\n",
    "    train_iterable=datasets.source.processed.train,\n",
    "    source_val_iterable=datasets.source.processed.val,\n",
    "    target_val_iterable=datasets.target.processed.val,\n",
    "    patience=p.patience,\n",
    "    num_epochs=p.n_epoch,\n",
    "    num_logs_per_epoch=p.NUM_LOGS_PER_EPOCH,\n",
    "    criteria_for_best=p.criteria_for_best\n",
    ")"
   ]
  },
  {
   "cell_type": "code",
   "execution_count": 14,
   "id": "4bc2ac17",
   "metadata": {
    "execution": {
     "iopub.execute_input": "2022-03-25T20:56:46.492746Z",
     "iopub.status.busy": "2022-03-25T20:56:46.492378Z",
     "iopub.status.idle": "2022-03-25T20:56:46.494950Z",
     "shell.execute_reply": "2022-03-25T20:56:46.494587Z"
    },
    "papermill": {
     "duration": 0.05687,
     "end_time": "2022-03-25T20:56:46.495034",
     "exception": false,
     "start_time": "2022-03-25T20:56:46.438164",
     "status": "completed"
    },
    "tags": []
   },
   "outputs": [],
   "source": [
    "total_experiment_time_secs = time.time() - start_time_secs"
   ]
  },
  {
   "cell_type": "code",
   "execution_count": 15,
   "id": "cae88f23",
   "metadata": {
    "execution": {
     "iopub.execute_input": "2022-03-25T20:56:46.611340Z",
     "iopub.status.busy": "2022-03-25T20:56:46.607589Z",
     "iopub.status.idle": "2022-03-25T20:56:56.971699Z",
     "shell.execute_reply": "2022-03-25T20:56:56.971220Z"
    },
    "papermill": {
     "duration": 10.420683,
     "end_time": "2022-03-25T20:56:56.971811",
     "exception": false,
     "start_time": "2022-03-25T20:56:46.551128",
     "status": "completed"
    },
    "tags": []
   },
   "outputs": [],
   "source": [
    "source_test_label_accuracy, source_test_label_loss = jig.test(datasets.source.processed.test)\n",
    "target_test_label_accuracy, target_test_label_loss = jig.test(datasets.target.processed.test)\n",
    "\n",
    "source_val_label_accuracy, source_val_label_loss = jig.test(datasets.source.processed.val)\n",
    "target_val_label_accuracy, target_val_label_loss = jig.test(datasets.target.processed.val)\n",
    "\n",
    "history = jig.get_history()\n",
    "\n",
    "total_epochs_trained = len(history[\"epoch_indices\"])\n",
    "\n",
    "val_dl = wrap_in_dataloader(p, Sequence_Aggregator((datasets.source.original.val, datasets.target.original.val)))\n",
    "\n",
    "confusion = confusion_by_domain_over_dataloader(model, p.device, val_dl, forward_uses_domain=False)\n",
    "per_domain_accuracy = per_domain_accuracy_from_confusion(confusion)\n",
    "\n",
    "# Add a key to per_domain_accuracy for if it was a source domain\n",
    "for domain, accuracy in per_domain_accuracy.items():\n",
    "    per_domain_accuracy[domain] = {\n",
    "        \"accuracy\": accuracy,\n",
    "        \"source?\": domain in p.domains_source\n",
    "    }\n",
    "\n",
    "# Do an independent accuracy assesment JUST TO BE SURE!\n",
    "# _source_test_label_accuracy = independent_accuracy_assesment(model, datasets.source.processed.test, p.device)\n",
    "# _target_test_label_accuracy = independent_accuracy_assesment(model, datasets.target.processed.test, p.device)\n",
    "# _source_val_label_accuracy = independent_accuracy_assesment(model, datasets.source.processed.val, p.device)\n",
    "# _target_val_label_accuracy = independent_accuracy_assesment(model, datasets.target.processed.val, p.device)\n",
    "\n",
    "# assert(_source_test_label_accuracy == source_test_label_accuracy)\n",
    "# assert(_target_test_label_accuracy == target_test_label_accuracy)\n",
    "# assert(_source_val_label_accuracy == source_val_label_accuracy)\n",
    "# assert(_target_val_label_accuracy == target_val_label_accuracy)\n",
    "\n",
    "###################################\n",
    "# Write out the results\n",
    "###################################\n",
    "\n",
    "experiment = {\n",
    "    \"experiment_name\": p.experiment_name,\n",
    "    \"parameters\": p,\n",
    "    \"results\": {\n",
    "        \"source_test_label_accuracy\": source_test_label_accuracy,\n",
    "        \"source_test_label_loss\": source_test_label_loss,\n",
    "        \"target_test_label_accuracy\": target_test_label_accuracy,\n",
    "        \"target_test_label_loss\": target_test_label_loss,\n",
    "        \"source_val_label_accuracy\": source_val_label_accuracy,\n",
    "        \"source_val_label_loss\": source_val_label_loss,\n",
    "        \"target_val_label_accuracy\": target_val_label_accuracy,\n",
    "        \"target_val_label_loss\": target_val_label_loss,\n",
    "        \"total_epochs_trained\": total_epochs_trained,\n",
    "        \"total_experiment_time_secs\": total_experiment_time_secs,\n",
    "        \"confusion\": confusion,\n",
    "        \"per_domain_accuracy\": per_domain_accuracy,\n",
    "    },\n",
    "    \"history\": history,\n",
    "    \"dataset_metrics\": get_dataset_metrics(datasets, \"cnn\"),\n",
    "}"
   ]
  },
  {
   "cell_type": "code",
   "execution_count": 16,
   "id": "74c318cf",
   "metadata": {
    "execution": {
     "iopub.execute_input": "2022-03-25T20:56:57.110536Z",
     "iopub.status.busy": "2022-03-25T20:56:57.110151Z",
     "iopub.status.idle": "2022-03-25T20:56:57.300019Z",
     "shell.execute_reply": "2022-03-25T20:56:57.299662Z"
    },
    "papermill": {
     "duration": 0.277729,
     "end_time": "2022-03-25T20:56:57.300120",
     "exception": false,
     "start_time": "2022-03-25T20:56:57.022391",
     "status": "completed"
    },
    "tags": []
   },
   "outputs": [
    {
     "data": {
      "text/plain": [
       "<AxesSubplot:title={'center':'Source Train Label Loss vs Source Val Label Loss'}, xlabel='Epoch'>"
      ]
     },
     "execution_count": 16,
     "metadata": {},
     "output_type": "execute_result"
    },
    {
     "data": {
      "image/png": "[encoded data removed]",
      "text/plain": [
       "<Figure size 1080x504 with 1 Axes>"
      ]
     },
     "metadata": {
      "needs_background": "light"
     },
     "output_type": "display_data"
    }
   ],
   "source": [
    "get_loss_curve(experiment)"
   ]
  },
  {
   "cell_type": "code",
   "execution_count": 17,
   "id": "59376601",
   "metadata": {
    "execution": {
     "iopub.execute_input": "2022-03-25T20:56:57.430462Z",
     "iopub.status.busy": "2022-03-25T20:56:57.430084Z",
     "iopub.status.idle": "2022-03-25T20:56:57.767357Z",
     "shell.execute_reply": "2022-03-25T20:56:57.768050Z"
    },
    "papermill": {
     "duration": 0.416256,
     "end_time": "2022-03-25T20:56:57.768275",
     "exception": false,
     "start_time": "2022-03-25T20:56:57.352019",
     "status": "completed"
    },
    "tags": []
   },
   "outputs": [
    {
     "data": {
      "text/plain": [
       "<AxesSubplot:title={'center':'Results'}>"
      ]
     },
     "execution_count": 17,
     "metadata": {},
     "output_type": "execute_result"
    },
    {
     "data": {
      "image/png": "[encoded data removed]",
      "text/plain": [
       "<Figure size 1080x504 with 1 Axes>"
      ]
     },
     "metadata": {
      "needs_background": "light"
     },
     "output_type": "display_data"
    }
   ],
   "source": [
    "get_results_table(experiment)"
   ]
  },
  {
   "cell_type": "code",
   "execution_count": 18,
   "id": "e80c5c98",
   "metadata": {
    "execution": {
     "iopub.execute_input": "2022-03-25T20:56:57.908535Z",
     "iopub.status.busy": "2022-03-25T20:56:57.907705Z",
     "iopub.status.idle": "2022-03-25T20:56:58.055774Z",
     "shell.execute_reply": "2022-03-25T20:56:58.056446Z"
    },
    "papermill": {
     "duration": 0.231714,
     "end_time": "2022-03-25T20:56:58.056679",
     "exception": false,
     "start_time": "2022-03-25T20:56:57.824965",
     "status": "completed"
    },
    "tags": []
   },
   "outputs": [
    {
     "data": {
      "text/plain": [
       "<AxesSubplot:title={'center':'Per Domain Accuracy'}, xlabel='domain'>"
      ]
     },
     "execution_count": 18,
     "metadata": {},
     "output_type": "execute_result"
    },
    {
     "data": {
      "image/png": "[encoded data removed]",
      "text/plain": [
       "<Figure size 1080x504 with 1 Axes>"
      ]
     },
     "metadata": {
      "needs_background": "light"
     },
     "output_type": "display_data"
    }
   ],
   "source": [
    "get_domain_accuracies(experiment)"
   ]
  },
  {
   "cell_type": "code",
   "execution_count": 19,
   "id": "086fdd10",
   "metadata": {
    "execution": {
     "iopub.execute_input": "2022-03-25T20:56:58.179463Z",
     "iopub.status.busy": "2022-03-25T20:56:58.179079Z",
     "iopub.status.idle": "2022-03-25T20:56:58.183399Z",
     "shell.execute_reply": "2022-03-25T20:56:58.183029Z"
    },
    "papermill": {
     "duration": 0.066443,
     "end_time": "2022-03-25T20:56:58.183484",
     "exception": false,
     "start_time": "2022-03-25T20:56:58.117041",
     "status": "completed"
    },
    "tags": []
   },
   "outputs": [
    {
     "name": "stdout",
     "output_type": "stream",
     "text": [
      "Source Test Label Accuracy: 0.997319719208679 Target Test Label Accuracy: 0.8572715398819979\n",
      "Source Val Label Accuracy: 0.9972274163389 Target Val Label Accuracy: 0.8597722095671981\n"
     ]
    }
   ],
   "source": [
    "print(\"Source Test Label Accuracy:\", experiment[\"results\"][\"source_test_label_accuracy\"], \"Target Test Label Accuracy:\", experiment[\"results\"][\"target_test_label_accuracy\"])\n",
    "print(\"Source Val Label Accuracy:\", experiment[\"results\"][\"source_val_label_accuracy\"], \"Target Val Label Accuracy:\", experiment[\"results\"][\"target_val_label_accuracy\"])"
   ]
  },
  {
   "cell_type": "code",
   "execution_count": 20,
   "id": "9f450536",
   "metadata": {
    "execution": {
     "iopub.execute_input": "2022-03-25T20:56:58.307448Z",
     "iopub.status.busy": "2022-03-25T20:56:58.307081Z",
     "iopub.status.idle": "2022-03-25T20:56:58.311580Z",
     "shell.execute_reply": "2022-03-25T20:56:58.310853Z"
    },
    "papermill": {
     "duration": 0.066422,
     "end_time": "2022-03-25T20:56:58.311752",
     "exception": false,
     "start_time": "2022-03-25T20:56:58.245330",
     "status": "completed"
    },
    "tags": [
     "experiment_json"
    ]
   },
   "outputs": [
    {
     "data": {
      "text/plain": [
       "'{\"experiment_name\": \"cnn_1:cores\", \"parameters\": {\"experiment_name\": \"cnn_1:cores\", \"device\": \"cuda\", \"lr\": 0.0001, \"labels\": [\"1-10.\", \"1-11.\", \"1-15.\", \"1-16.\", \"1-17.\", \"1-18.\", \"1-19.\", \"10-4.\", \"10-7.\", \"11-1.\", \"11-14.\", \"11-17.\", \"11-20.\", \"11-7.\", \"13-20.\", \"13-8.\", \"14-10.\", \"14-11.\", \"14-14.\", \"14-7.\", \"15-1.\", \"15-20.\", \"16-1.\", \"16-16.\", \"17-10.\", \"17-11.\", \"17-2.\", \"19-1.\", \"19-16.\", \"19-19.\", \"19-20.\", \"19-3.\", \"2-10.\", \"2-11.\", \"2-17.\", \"2-18.\", \"2-20.\", \"2-3.\", \"2-4.\", \"2-5.\", \"2-6.\", \"2-7.\", \"2-8.\", \"3-13.\", \"3-18.\", \"3-3.\", \"4-1.\", \"4-10.\", \"4-11.\", \"4-19.\", \"5-5.\", \"6-15.\", \"7-10.\", \"7-14.\", \"8-18.\", \"8-20.\", \"8-3.\", \"8-8.\"], \"batch_size\": 128, \"domains_source\": [1, 5], \"domains_target\": [2, 3, 4], \"normalize_source\": false, \"normalize_target\": false, \"num_examples_per_domain_per_label_source\": -1, \"num_examples_per_domain_per_label_target\": -1, \"torch_default_dtype\": \"torch.float32\", \"n_epoch\": 50, \"patience\": 3, \"criteria_for_best\": \"target_accuracy\", \"x_net\": [{\"class\": \"nnReshape\", \"kargs\": {\"shape\": [-1, 1, 2, 256]}}, {\"class\": \"Conv2d\", \"kargs\": {\"in_channels\": 1, \"out_channels\": 256, \"kernel_size\": [1, 7], \"bias\": false, \"padding\": [0, 3]}}, {\"class\": \"ReLU\", \"kargs\": {\"inplace\": true}}, {\"class\": \"BatchNorm2d\", \"kargs\": {\"num_features\": 256}}, {\"class\": \"Conv2d\", \"kargs\": {\"in_channels\": 256, \"out_channels\": 80, \"kernel_size\": [2, 7], \"bias\": true, \"padding\": [0, 3]}}, {\"class\": \"ReLU\", \"kargs\": {\"inplace\": true}}, {\"class\": \"BatchNorm2d\", \"kargs\": {\"num_features\": 80}}, {\"class\": \"Flatten\", \"kargs\": {}}, {\"class\": \"Linear\", \"kargs\": {\"in_features\": 20480, \"out_features\": 256}}, {\"class\": \"ReLU\", \"kargs\": {\"inplace\": true}}, {\"class\": \"BatchNorm1d\", \"kargs\": {\"num_features\": 256}}, {\"class\": \"Linear\", \"kargs\": {\"in_features\": 256, \"out_features\": 58}}], \"NUM_LOGS_PER_EPOCH\": 10, \"BEST_MODEL_PATH\": \"./best_model.pth\", \"pickle_name_source\": \"cores.stratified_ds.2022A.pkl\", \"pickle_name_target\": \"cores.stratified_ds.2022A.pkl\", \"dataset_seed\": 500, \"seed\": 500}, \"results\": {\"source_test_label_accuracy\": 0.997319719208679, \"source_test_label_loss\": 0.012028384060273326, \"target_test_label_accuracy\": 0.8572715398819979, \"target_test_label_loss\": 0.5641150640687723, \"source_val_label_accuracy\": 0.9972274163389, \"source_val_label_loss\": 0.014086977885005476, \"target_val_label_accuracy\": 0.8597722095671981, \"target_val_label_loss\": 0.5475728351536185, \"total_epochs_trained\": 12, \"total_experiment_time_secs\": 103.9792697429657, \"confusion\": {\"2\": {\"51\": {\"51\": 170}, \"27\": {\"27\": 197, \"29\": 1}, \"6\": {\"6\": 140, \"56\": 1, \"46\": 13, \"50\": 3, \"5\": 1, \"45\": 1}, \"14\": {\"14\": 19, \"29\": 9, \"43\": 2}, \"46\": {\"46\": 161, \"3\": 3}, \"33\": {\"33\": 38}, \"20\": {\"20\": 178}, \"12\": {\"12\": 115, \"6\": 4}, \"54\": {\"54\": 139}, \"25\": {\"25\": 234}, \"24\": {\"24\": 118, \"13\": 2, \"43\": 1}, \"26\": {\"26\": 34}, \"9\": {\"9\": 191, \"27\": 1, \"29\": 3}, \"50\": {\"50\": 168, \"3\": 2, \"6\": 1}, \"36\": {\"1\": 44, \"39\": 25, \"7\": 33, \"51\": 16, \"14\": 21, \"12\": 6}, \"55\": {\"55\": 211}, \"41\": {\"2\": 13, \"37\": 5, \"30\": 2, \"32\": 5, \"52\": 1, \"21\": 1}, \"53\": {\"53\": 173, \"3\": 1}, \"52\": {\"52\": 154, \"21\": 1, \"9\": 1}, \"47\": {\"47\": 186}, \"13\": {\"13\": 148}, \"23\": {\"23\": 186}, \"49\": {\"42\": 1, \"25\": 33}, \"45\": {\"45\": 104, \"4\": 59}, \"44\": {\"40\": 127, \"44\": 1, \"45\": 1}, \"22\": {\"22\": 173, \"52\": 1}, \"35\": {\"33\": 25, \"41\": 18, \"42\": 1}, \"48\": {\"48\": 193}, \"42\": {\"19\": 42, \"11\": 3, \"15\": 2}, \"15\": {\"15\": 193, \"11\": 1}, \"8\": {\"8\": 203}, \"29\": {\"29\": 161}, \"56\": {\"56\": 160, \"22\": 15, \"43\": 4, \"27\": 1}, \"21\": {\"12\": 150, \"46\": 4}, \"10\": {\"10\": 139, \"15\": 1}, \"28\": {\"18\": 25, \"23\": 5, \"15\": 2, \"34\": 1, \"19\": 2, \"6\": 1}, \"3\": {\"50\": 91, \"3\": 16, \"46\": 12}, \"16\": {\"16\": 188, \"11\": 2}, \"4\": {\"4\": 200}, \"40\": {\"40\": 176}, \"17\": {\"17\": 132}, \"34\": {\"32\": 24, \"18\": 8, \"19\": 2, \"15\": 1, \"23\": 1}, \"43\": {\"43\": 189}, \"11\": {\"11\": 198}, \"57\": {\"57\": 181}, \"1\": {\"1\": 140}, \"30\": {\"30\": 179, \"57\": 1}, \"18\": {\"18\": 63}, \"37\": {\"37\": 45, \"13\": 1}, \"19\": {\"19\": 196}, \"2\": {\"36\": 37, \"49\": 4, \"2\": 3}, \"5\": {\"5\": 150, \"56\": 1, \"3\": 1, \"45\": 1, \"50\": 1}, \"31\": {\"31\": 23, \"41\": 3, \"19\": 6, \"39\": 2, \"42\": 1, \"14\": 2, \"43\": 1}, \"0\": {\"0\": 61}, \"32\": {\"32\": 28, \"27\": 6, \"14\": 2}, \"7\": {\"7\": 40, \"12\": 2, \"13\": 1, \"11\": 1, \"38\": 1}, \"39\": {\"39\": 35}, \"38\": {\"49\": 14, \"21\": 7, \"38\": 3, \"2\": 2}}, \"1\": {\"27\": {\"27\": 204}, \"16\": {\"16\": 175, \"18\": 1, \"11\": 1}, \"20\": {\"20\": 179}, \"36\": {\"36\": 81}, \"50\": {\"50\": 198, \"6\": 1}, \"35\": {\"35\": 48}, \"37\": {\"37\": 40}, \"25\": {\"25\": 181}, \"10\": {\"10\": 119, \"15\": 1, \"11\": 1, \"13\": 1}, \"55\": {\"55\": 286}, \"6\": {\"6\": 121}, \"41\": {\"41\": 33}, \"30\": {\"30\": 150}, \"0\": {\"0\": 191}, \"15\": {\"15\": 202, \"16\": 1}, \"19\": {\"19\": 199}, \"13\": {\"13\": 198}, \"7\": {\"7\": 37}, \"8\": {\"8\": 178}, \"17\": {\"17\": 80, \"15\": 1}, \"51\": {\"51\": 199}, \"43\": {\"43\": 184}, \"18\": {\"18\": 93}, \"40\": {\"40\": 194, \"45\": 1}, \"48\": {\"48\": 186}, \"11\": {\"11\": 179}, \"21\": {\"21\": 157}, \"54\": {\"54\": 133}, \"5\": {\"5\": 204, \"6\": 1}, \"2\": {\"2\": 48, \"9\": 1}, \"23\": {\"23\": 172}, \"9\": {\"9\": 199}, \"12\": {\"12\": 149}, \"53\": {\"53\": 180}, \"52\": {\"52\": 169}, \"45\": {\"45\": 198}, \"29\": {\"29\": 178}, \"44\": {\"44\": 172}, \"4\": {\"4\": 167}, \"56\": {\"56\": 209, \"44\": 1}, \"38\": {\"38\": 31, \"39\": 1}, \"14\": {\"14\": 32}, \"47\": {\"47\": 200}, \"46\": {\"46\": 175, \"12\": 1}, \"57\": {\"57\": 181}, \"3\": {\"3\": 178}, \"26\": {\"26\": 30}, \"24\": {\"24\": 135}, \"28\": {\"28\": 35, \"22\": 1}, \"42\": {\"42\": 50, \"49\": 1}, \"1\": {\"1\": 128}, \"39\": {\"39\": 36}, \"22\": {\"22\": 174}, \"33\": {\"33\": 41}, \"31\": {\"31\": 39}, \"32\": {\"32\": 43}, \"49\": {\"49\": 44}, \"34\": {\"34\": 30}}, \"3\": {\"48\": {\"48\": 144, \"1\": 2}, \"19\": {\"19\": 194}, \"9\": {\"9\": 188, \"29\": 3}, \"3\": {\"50\": 146, \"3\": 34, \"46\": 6}, \"16\": {\"16\": 195}, \"55\": {\"55\": 213}, \"51\": {\"51\": 163}, \"30\": {\"30\": 149, \"9\": 1}, \"25\": {\"25\": 213}, \"45\": {\"45\": 54, \"4\": 24, \"6\": 1}, \"24\": {\"24\": 133}, \"21\": {\"12\": 150, \"6\": 4, \"21\": 6}, \"27\": {\"27\": 180}, \"18\": {\"18\": 105}, \"44\": {\"40\": 111, \"44\": 1}, \"0\": {\"0\": 159}, \"52\": {\"52\": 178}, \"32\": {\"32\": 31, \"27\": 5}, \"40\": {\"40\": 173}, \"8\": {\"8\": 193}, \"38\": {\"38\": 36, \"7\": 1}, \"42\": {\"19\": 34, \"15\": 3, \"34\": 1}, \"36\": {\"1\": 42, \"7\": 30, \"39\": 16, \"14\": 28, \"51\": 5, \"8\": 5, \"12\": 2}, \"22\": {\"22\": 175, \"52\": 2}, \"17\": {\"17\": 135}, \"57\": {\"57\": 155}, \"29\": {\"29\": 160}, \"20\": {\"20\": 166}, \"26\": {\"42\": 28, \"43\": 4, \"6\": 1, \"14\": 1}, \"53\": {\"53\": 184}, \"7\": {\"14\": 13, \"7\": 29, \"46\": 1, \"47\": 1, \"38\": 2}, \"50\": {\"50\": 179, \"3\": 5, \"6\": 1}, \"31\": {\"19\": 23, \"31\": 12, \"43\": 1}, \"15\": {\"15\": 198, \"11\": 3}, \"43\": {\"43\": 170}, \"6\": {\"6\": 81, \"46\": 16, \"45\": 6, \"3\": 9, \"50\": 2}, \"2\": {\"2\": 42}, \"4\": {\"4\": 184, \"9\": 1}, \"23\": {\"23\": 181, \"53\": 1}, \"12\": {\"12\": 96, \"6\": 17, \"46\": 4}, \"41\": {\"2\": 36, \"47\": 1, \"9\": 1}, \"5\": {\"5\": 140, \"3\": 5, \"45\": 3}, \"56\": {\"56\": 171}, \"14\": {\"43\": 3, \"14\": 25, \"56\": 10, \"22\": 9, \"38\": 1, \"29\": 3, \"2\": 2}, \"1\": {\"1\": 127, \"57\": 1, \"9\": 1}, \"10\": {\"10\": 82}, \"54\": {\"54\": 126}, \"46\": {\"46\": 173, \"3\": 3}, \"13\": {\"13\": 160}, \"47\": {\"47\": 117, \"13\": 2}, \"28\": {\"28\": 32, \"16\": 5}, \"34\": {\"34\": 43}, \"39\": {\"32\": 22, \"14\": 2}, \"11\": {\"11\": 192}, \"49\": {\"49\": 9, \"28\": 12, \"45\": 2, \"43\": 1, \"56\": 1}, \"37\": {\"37\": 39}, \"35\": {\"35\": 38}, \"33\": {\"9\": 23, \"4\": 6, \"21\": 7, \"49\": 2}}, \"4\": {\"30\": {\"30\": 56, \"6\": 2}, \"11\": {\"11\": 129, \"15\": 2}, \"51\": {\"51\": 183}, \"8\": {\"8\": 182}, \"53\": {\"53\": 176, \"51\": 1}, \"47\": {\"47\": 152}, \"6\": {\"6\": 80, \"46\": 52, \"56\": 1, \"5\": 2, \"3\": 5}, \"46\": {\"46\": 169, \"3\": 23, \"56\": 3}, \"12\": {\"12\": 114, \"46\": 1}, \"49\": {\"49\": 18, \"28\": 9}, \"24\": {\"24\": 71}, \"19\": {\"19\": 181, \"45\": 1}, \"56\": {\"56\": 193}, \"9\": {\"9\": 190}, \"20\": {\"20\": 165, \"9\": 1, \"47\": 1, \"46\": 2}, \"45\": {\"45\": 29, \"4\": 93}, \"29\": {\"29\": 159}, \"15\": {\"15\": 191, \"16\": 1, \"11\": 1}, \"54\": {\"54\": 139}, \"21\": {\"12\": 167, \"21\": 2}, \"36\": {\"1\": 31, \"7\": 24, \"14\": 34, \"39\": 17, \"51\": 8, \"38\": 2, \"12\": 1, \"20\": 1}, \"27\": {\"27\": 188, \"8\": 4}, \"43\": {\"43\": 186}, \"50\": {\"50\": 163, \"6\": 4, \"46\": 1}, \"5\": {\"45\": 17, \"5\": 79, \"6\": 17, \"3\": 18, \"50\": 4, \"44\": 1}, \"18\": {\"18\": 135, \"16\": 1, \"11\": 1}, \"40\": {\"40\": 186, \"9\": 1, \"45\": 2}, \"10\": {\"10\": 173}, \"16\": {\"16\": 123, \"15\": 1}, \"13\": {\"13\": 192}, \"38\": {\"43\": 24, \"35\": 20, \"39\": 6, \"27\": 1}, \"35\": {\"35\": 50}, \"39\": {\"39\": 27}, \"41\": {\"41\": 45}, \"57\": {\"57\": 129}, \"52\": {\"52\": 149}, \"48\": {\"48\": 195}, \"32\": {\"31\": 27, \"32\": 1, \"15\": 5}, \"3\": {\"50\": 130, \"46\": 17, \"3\": 6, \"6\": 5}, \"17\": {\"17\": 100}, \"22\": {\"22\": 102, \"52\": 9, \"3\": 46, \"56\": 3}, \"44\": {\"44\": 114, \"40\": 51, \"45\": 1}, \"7\": {\"31\": 7, \"39\": 7, \"14\": 14, \"9\": 1, \"51\": 1, \"13\": 1, \"7\": 2, \"43\": 1}, \"23\": {\"23\": 183}, \"4\": {\"27\": 41, \"4\": 123, \"40\": 2}, \"37\": {\"37\": 28, \"13\": 2, \"39\": 1}, \"25\": {\"25\": 203}, \"55\": {\"55\": 247}, \"1\": {\"1\": 54}, \"28\": {\"18\": 26, \"19\": 16, \"25\": 1}, \"2\": {\"27\": 20, \"32\": 24, \"15\": 1}, \"0\": {\"0\": 102, \"46\": 1}, \"34\": {\"18\": 18, \"32\": 12, \"34\": 1}, \"33\": {\"33\": 45, \"29\": 1}, \"26\": {\"32\": 26, \"19\": 4, \"18\": 1}, \"42\": {\"42\": 43}, \"31\": {\"11\": 18, \"54\": 11, \"31\": 4, \"12\": 3}, \"14\": {\"14\": 19, \"57\": 1}}, \"5\": {\"14\": {\"14\": 55}, \"38\": {\"38\": 44}, \"50\": {\"50\": 185, \"6\": 1, \"46\": 1}, \"27\": {\"27\": 204}, \"15\": {\"15\": 209}, \"10\": {\"10\": 89}, \"44\": {\"44\": 190, \"3\": 1, \"45\": 1}, \"5\": {\"5\": 160, \"45\": 1}, \"4\": {\"4\": 125}, \"11\": {\"11\": 203}, \"8\": {\"8\": 191, \"9\": 1}, \"9\": {\"9\": 196}, \"16\": {\"16\": 195}, \"43\": {\"43\": 193}, \"23\": {\"23\": 158}, \"56\": {\"56\": 193}, \"34\": {\"34\": 45}, \"55\": {\"55\": 249}, \"30\": {\"30\": 160}, \"51\": {\"51\": 190}, \"6\": {\"6\": 160, \"45\": 1}, \"29\": {\"29\": 165}, \"2\": {\"2\": 36}, \"57\": {\"57\": 167, \"14\": 1}, \"45\": {\"45\": 156, \"6\": 1}, \"40\": {\"40\": 159}, \"49\": {\"49\": 46}, \"13\": {\"13\": 203}, \"25\": {\"25\": 225}, \"53\": {\"53\": 193}, \"17\": {\"17\": 145}, \"19\": {\"19\": 193, \"27\": 1}, \"21\": {\"21\": 181, \"20\": 2}, \"18\": {\"18\": 84}, \"47\": {\"47\": 125}, \"28\": {\"28\": 41}, \"54\": {\"54\": 141}, \"0\": {\"0\": 157}, \"46\": {\"46\": 186, \"3\": 1, \"50\": 1}, \"3\": {\"3\": 126, \"46\": 2, \"50\": 1}, \"26\": {\"26\": 32}, \"35\": {\"35\": 47}, \"22\": {\"22\": 35}, \"12\": {\"12\": 122, \"46\": 1}, \"24\": {\"24\": 104}, \"20\": {\"20\": 183, \"9\": 1}, \"36\": {\"36\": 118}, \"31\": {\"31\": 45}, \"39\": {\"39\": 25, \"31\": 1}, \"48\": {\"48\": 172, \"1\": 1}, \"52\": {\"52\": 175, \"13\": 1}, \"7\": {\"7\": 40, \"38\": 1, \"51\": 1}, \"1\": {\"1\": 186, \"9\": 1}, \"32\": {\"32\": 43, \"9\": 1}, \"37\": {\"37\": 32}, \"33\": {\"33\": 44}, \"42\": {\"42\": 52, \"10\": 1}, \"41\": {\"41\": 36}}}, \"per_domain_accuracy\": {\"2\": {\"accuracy\": 0.86875, \"source?\": false}, \"1\": {\"accuracy\": 0.9979664463650229, \"source?\": true}, \"3\": {\"accuracy\": 0.8729592536699136, \"source?\": false}, \"4\": {\"accuracy\": 0.8368575829715726, \"source?\": false}, \"5\": {\"accuracy\": 0.9964664310954063, \"source?\": true}}}, \"history\": {\"epoch_indices\": [1, 2, 3, 4, 5, 6, 7, 8, 9, 10, 11, 12], \"train_label_loss\": [1.123488359179505, 0.107453766380581, 0.03985582264041869, 0.06958456190867009, 0.03436841523851937, 0.015350854362879264, 0.018650236762535403, 0.007514782135151852, 0.010837943143535957, 0.024486635602161314, 0.02093081686028417, 0.00961285310553085], \"source_val_label_loss\": [0.1805014807547702, 0.06097869813197949, 0.0833931747885024, 0.04764439696140709, 0.035082414593608655, 0.08482764679633203, 0.016794538633042914, 0.014092446245695845, 0.19962412605184268, 0.05778461560744365, 0.018473979631499923, 0.017353658956574796], \"target_val_label_loss\": [0.7063257255873014, 0.565859278274137, 0.6508728177394978, 0.6656903938152069, 0.5558220028530719, 0.6557201730997063, 0.5754023086886073, 0.5473579539116039, 0.8786710691313411, 0.7033663759397906, 0.630758904786997, 0.5988070252676343], \"source_val_acc_label\": [0.980785350441679, 0.9938745244696627, 0.9868463472822232, 0.9907795473595976, 0.9929718228125605, 0.9804629569927139, 0.9963891933715907, 0.9972274163389, 0.9389386807660068, 0.9832355406538139, 0.9961957573022117, 0.9962602359920046], \"target_val_acc_label\": [0.8302961275626424, 0.8512072892938497, 0.8447835990888383, 0.8479726651480638, 0.8516628701594533, 0.8421867881548974, 0.8584054669703872, 0.8597722095671981, 0.8178132118451025, 0.8376765375854214, 0.8554897494305239, 0.8568564920273348]}, \"dataset_metrics\": {\"source\": {\"train\": {\"n_unique_x\": 72578, \"n_unique_y\": 58, \"n_batch/episode\": 568}, \"val\": {\"n_unique_x\": 15509, \"n_unique_y\": 58, \"n_batch/episode\": 122}, \"test\": {\"n_unique_x\": 15670, \"n_unique_y\": 58, \"n_batch/episode\": 123}}, \"target\": {\"train\": {\"n_unique_x\": 102771, \"n_unique_y\": 58, \"n_batch/episode\": 803}, \"val\": {\"n_unique_x\": 21950, \"n_unique_y\": 58, \"n_batch/episode\": 172}, \"test\": {\"n_unique_x\": 22203, \"n_unique_y\": 58, \"n_batch/episode\": 174}}}}'"
      ]
     },
     "execution_count": 20,
     "metadata": {},
     "output_type": "execute_result"
    }
   ],
   "source": [
    "json.dumps(experiment)"
   ]
  }
 ],
 "metadata": {
  "celltoolbar": "Tags",
  "kernelspec": {
   "display_name": "Python 3 (ipykernel)",
   "language": "python",
   "name": "python3"
  },
  "language_info": {
   "codemirror_mode": {
    "name": "ipython",
    "version": 3
   },
   "file_extension": ".py",
   "mimetype": "text/x-python",
   "name": "python",
   "nbconvert_exporter": "python",
   "pygments_lexer": "ipython3",
   "version": "3.8.12"
  },
  "papermill": {
   "default_parameters": {},
   "duration": 120.644415,
   "end_time": "2022-03-25T20:57:00.291082",
   "environment_variables": {},
   "exception": null,
   "input_path": "/root/csc500-main/csc500-notebooks/templates/cnn_template.ipynb",
   "output_path": "trial.ipynb",
   "parameters": {
    "parameters": {
     "BEST_MODEL_PATH": "./best_model.pth",
     "NUM_LOGS_PER_EPOCH": 10,
     "batch_size": 128,
     "criteria_for_best": "target_accuracy",
     "dataset_seed": 500,
     "device": "cuda",
     "domains_source": [
      1,
      5
     ],
     "domains_target": [
      2,
      3,
      4
     ],
     "experiment_name": "cnn_1:cores",
     "labels": [
      "1-10.",
      "1-11.",
      "1-15.",
      "1-16.",
      "1-17.",
      "1-18.",
      "1-19.",
      "10-4.",
      "10-7.",
      "11-1.",
      "11-14.",
      "11-17.",
      "11-20.",
      "11-7.",
      "13-20.",
      "13-8.",
      "14-10.",
      "14-11.",
      "14-14.",
      "14-7.",
      "15-1.",
      "15-20.",
      "16-1.",
      "16-16.",
      "17-10.",
      "17-11.",
      "17-2.",
      "19-1.",
      "19-16.",
      "19-19.",
      "19-20.",
      "19-3.",
      "2-10.",
      "2-11.",
      "2-17.",
      "2-18.",
      "2-20.",
      "2-3.",
      "2-4.",
      "2-5.",
      "2-6.",
      "2-7.",
      "2-8.",
      "3-13.",
      "3-18.",
      "3-3.",
      "4-1.",
      "4-10.",
      "4-11.",
      "4-19.",
      "5-5.",
      "6-15.",
      "7-10.",
      "7-14.",
      "8-18.",
      "8-20.",
      "8-3.",
      "8-8."
     ],
     "lr": 0.0001,
     "n_epoch": 50,
     "normalize_source": false,
     "normalize_target": false,
     "num_examples_per_domain_per_label_source": -1,
     "num_examples_per_domain_per_label_target": -1,
     "patience": 3,
     "pickle_name_source": "cores.stratified_ds.2022A.pkl",
     "pickle_name_target": "cores.stratified_ds.2022A.pkl",
     "seed": 500,
     "torch_default_dtype": "torch.float32",
     "x_net": [
      {
       "class": "nnReshape",
       "kargs": {
        "shape": [
         -1,
         1,
         2,
         256
        ]
       }
      },
      {
       "class": "Conv2d",
       "kargs": {
        "bias": false,
        "in_channels": 1,
        "kernel_size": [
         1,
         7
        ],
        "out_channels": 256,
        "padding": [
         0,
         3
        ]
       }
      },
      {
       "class": "ReLU",
       "kargs": {
        "inplace": true
       }
      },
      {
       "class": "BatchNorm2d",
       "kargs": {
        "num_features": 256
       }
      },
      {
       "class": "Conv2d",
       "kargs": {
        "bias": true,
        "in_channels": 256,
        "kernel_size": [
         2,
         7
        ],
        "out_channels": 80,
        "padding": [
         0,
         3
        ]
       }
      },
      {
       "class": "ReLU",
       "kargs": {
        "inplace": true
       }
      },
      {
       "class": "BatchNorm2d",
       "kargs": {
        "num_features": 80
       }
      },
      {
       "class": "Flatten",
       "kargs": {}
      },
      {
       "class": "Linear",
       "kargs": {
        "in_features": 20480,
        "out_features": 256
       }
      },
      {
       "class": "ReLU",
       "kargs": {
        "inplace": true
       }
      },
      {
       "class": "BatchNorm1d",
       "kargs": {
        "num_features": 256
       }
      },
      {
       "class": "Linear",
       "kargs": {
        "in_features": 256,
        "out_features": 58
       }
      }
     ]
    }
   },
   "start_time": "2022-03-25T20:54:59.646667",
   "version": "2.3.4"
  }
 },
 "nbformat": 4,
 "nbformat_minor": 5
}