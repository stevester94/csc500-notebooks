{
 "cells": [
  {
   "cell_type": "code",
   "execution_count": 1,
   "id": "2324682e",
   "metadata": {
    "execution": {
     "iopub.execute_input": "2022-03-25T20:52:50.491870Z",
     "iopub.status.busy": "2022-03-25T20:52:50.490973Z",
     "iopub.status.idle": "2022-03-25T20:52:51.762007Z",
     "shell.execute_reply": "2022-03-25T20:52:51.761172Z"
    },
    "papermill": {
     "duration": 1.308189,
     "end_time": "2022-03-25T20:52:51.762204",
     "exception": false,
     "start_time": "2022-03-25T20:52:50.454015",
     "status": "completed"
    },
    "tags": []
   },
   "outputs": [],
   "source": [
    "import os, json, sys, time, random\n",
    "import numpy as np\n",
    "import torch\n",
    "from  easydict import EasyDict\n",
    "from math import floor\n",
    "from easydict import EasyDict\n",
    "\n",
    "from steves_utils.vanilla_train_eval_test_jig import  Vanilla_Train_Eval_Test_Jig\n",
    "\n",
    "from steves_utils.torch_utils import get_dataset_metrics, independent_accuracy_assesment\n",
    "from steves_models.configurable_vanilla import Configurable_Vanilla\n",
    "from steves_utils.torch_sequential_builder import build_sequential\n",
    "from steves_utils.lazy_map import Lazy_Map\n",
    "from steves_utils.sequence_aggregator import Sequence_Aggregator\n",
    "\n",
    "from steves_utils.stratified_dataset.traditional_accessor import Traditional_Accessor_Factory\n",
    "\n",
    "from steves_utils.cnn_do_report import (\n",
    "    get_loss_curve,\n",
    "    get_results_table,\n",
    "    get_parameters_table,\n",
    "    get_domain_accuracies,\n",
    ")\n",
    "\n",
    "from steves_utils.torch_utils import (\n",
    "    confusion_by_domain_over_dataloader,\n",
    "    independent_accuracy_assesment\n",
    ")\n",
    "\n",
    "from steves_utils.utils_v2 import (\n",
    "    per_domain_accuracy_from_confusion,\n",
    "    get_datasets_base_path\n",
    ")\n",
    "\n",
    "# from steves_utils.ptn_do_report import TBD"
   ]
  },
  {
   "cell_type": "code",
   "execution_count": 2,
   "id": "1b29e3fe",
   "metadata": {
    "execution": {
     "iopub.execute_input": "2022-03-25T20:52:51.802609Z",
     "iopub.status.busy": "2022-03-25T20:52:51.801673Z",
     "iopub.status.idle": "2022-03-25T20:52:51.803645Z",
     "shell.execute_reply": "2022-03-25T20:52:51.804319Z"
    },
    "papermill": {
     "duration": 0.023036,
     "end_time": "2022-03-25T20:52:51.804545",
     "exception": false,
     "start_time": "2022-03-25T20:52:51.781509",
     "status": "completed"
    },
    "tags": []
   },
   "outputs": [],
   "source": [
    "required_parameters = {\n",
    "    \"experiment_name\",\n",
    "    \"lr\",\n",
    "    \"device\",\n",
    "    \"dataset_seed\",\n",
    "    \"seed\",\n",
    "    \"labels\",\n",
    "    \"domains_target\",\n",
    "    \"domains_source\",\n",
    "    \"num_examples_per_domain_per_label_source\",\n",
    "    \"num_examples_per_domain_per_label_target\",\n",
    "    \"batch_size\",\n",
    "    \"n_epoch\",\n",
    "    \"patience\",\n",
    "    \"criteria_for_best\",\n",
    "    \"normalize_source\",\n",
    "    \"normalize_target\",\n",
    "    \"x_net\",\n",
    "    \"NUM_LOGS_PER_EPOCH\",\n",
    "    \"BEST_MODEL_PATH\",\n",
    "    \"pickle_name_source\",\n",
    "    \"pickle_name_target\",\n",
    "    \"torch_default_dtype\",\n",
    "}"
   ]
  },
  {
   "cell_type": "code",
   "execution_count": 3,
   "id": "670b5fb8",
   "metadata": {
    "execution": {
     "iopub.execute_input": "2022-03-25T20:52:51.855928Z",
     "iopub.status.busy": "2022-03-25T20:52:51.854792Z",
     "iopub.status.idle": "2022-03-25T20:52:51.860615Z",
     "shell.execute_reply": "2022-03-25T20:52:51.860046Z"
    },
    "papermill": {
     "duration": 0.033874,
     "end_time": "2022-03-25T20:52:51.860763",
     "exception": false,
     "start_time": "2022-03-25T20:52:51.826889",
     "status": "completed"
    },
    "tags": [
     "parameters"
    ]
   },
   "outputs": [],
   "source": [
    "from steves_utils.ORACLE.utils_v2 import (\n",
    "    ALL_SERIAL_NUMBERS,\n",
    "    ALL_DISTANCES_FEET_NARROWED,\n",
    ")\n",
    "\n",
    "standalone_parameters = {}\n",
    "standalone_parameters[\"experiment_name\"] = \"MANUAL CORES CNN\"\n",
    "standalone_parameters[\"lr\"] = 0.0001\n",
    "standalone_parameters[\"device\"] = \"cuda\"\n",
    "\n",
    "standalone_parameters[\"dataset_seed\"] = 1337\n",
    "standalone_parameters[\"seed\"] = 1337\n",
    "standalone_parameters[\"labels\"] = ALL_SERIAL_NUMBERS\n",
    "\n",
    "standalone_parameters[\"domains_source\"] = [8,32,50]\n",
    "standalone_parameters[\"domains_target\"] = [14,20,26,38,44,]\n",
    "\n",
    "standalone_parameters[\"num_examples_per_domain_per_label_source\"]=-1\n",
    "standalone_parameters[\"num_examples_per_domain_per_label_target\"]=-1\n",
    "\n",
    "standalone_parameters[\"pickle_name_source\"] = \"oracle.Run1_framed_2000Examples_stratified_ds.2022A.pkl\"\n",
    "standalone_parameters[\"pickle_name_target\"] = \"oracle.Run2_framed_2000Examples_stratified_ds.2022A.pkl\"\n",
    "\n",
    "standalone_parameters[\"torch_default_dtype\"] = \"torch.float32\" \n",
    "\n",
    "standalone_parameters[\"batch_size\"]=128\n",
    "\n",
    "standalone_parameters[\"n_epoch\"] = 3\n",
    "\n",
    "standalone_parameters[\"patience\"] = 10\n",
    "\n",
    "standalone_parameters[\"criteria_for_best\"] = \"target_accuracy\"\n",
    "standalone_parameters[\"normalize_source\"] = False\n",
    "standalone_parameters[\"normalize_target\"] = False\n",
    "\n",
    "standalone_parameters[\"x_net\"] =     [\n",
    "    {\"class\": \"nnReshape\", \"kargs\": {\"shape\":[-1, 1, 2, 256]}},\n",
    "    {\"class\": \"Conv2d\", \"kargs\": { \"in_channels\":1, \"out_channels\":256, \"kernel_size\":(1,7), \"bias\":False, \"padding\":(0,3), },},\n",
    "    {\"class\": \"ReLU\", \"kargs\": {\"inplace\": True}},\n",
    "    {\"class\": \"BatchNorm2d\", \"kargs\": {\"num_features\":256}},\n",
    "\n",
    "    {\"class\": \"Conv2d\", \"kargs\": { \"in_channels\":256, \"out_channels\":80, \"kernel_size\":(2,7), \"bias\":True, \"padding\":(0,3), },},\n",
    "    {\"class\": \"ReLU\", \"kargs\": {\"inplace\": True}},\n",
    "    {\"class\": \"BatchNorm2d\", \"kargs\": {\"num_features\":80}},\n",
    "    {\"class\": \"Flatten\", \"kargs\": {}},\n",
    "\n",
    "    {\"class\": \"Linear\", \"kargs\": {\"in_features\": 80*256, \"out_features\": 256}}, # 80 units per IQ pair\n",
    "    {\"class\": \"ReLU\", \"kargs\": {\"inplace\": True}},\n",
    "    {\"class\": \"BatchNorm1d\", \"kargs\": {\"num_features\":256}},\n",
    "\n",
    "    {\"class\": \"Linear\", \"kargs\": {\"in_features\": 256, \"out_features\": len(standalone_parameters[\"labels\"])}},\n",
    "]\n",
    "\n",
    "standalone_parameters[\"NUM_LOGS_PER_EPOCH\"] = 10\n",
    "standalone_parameters[\"BEST_MODEL_PATH\"] = \"./best_model.pth\""
   ]
  },
  {
   "cell_type": "code",
   "execution_count": 4,
   "id": "04278c7a",
   "metadata": {
    "execution": {
     "iopub.execute_input": "2022-03-25T20:52:51.913642Z",
     "iopub.status.busy": "2022-03-25T20:52:51.900591Z",
     "iopub.status.idle": "2022-03-25T20:52:51.915020Z",
     "shell.execute_reply": "2022-03-25T20:52:51.916058Z"
    },
    "papermill": {
     "duration": 0.033734,
     "end_time": "2022-03-25T20:52:51.916408",
     "exception": false,
     "start_time": "2022-03-25T20:52:51.882674",
     "status": "completed"
    },
    "tags": [
     "injected-parameters"
    ]
   },
   "outputs": [],
   "source": [
    "# Parameters\n",
    "parameters = {\n",
    "    \"experiment_name\": \"cnn_1:cores\",\n",
    "    \"device\": \"cuda\",\n",
    "    \"lr\": 0.0001,\n",
    "    \"labels\": [\n",
    "        \"1-10.\",\n",
    "        \"1-11.\",\n",
    "        \"1-15.\",\n",
    "        \"1-16.\",\n",
    "        \"1-17.\",\n",
    "        \"1-18.\",\n",
    "        \"1-19.\",\n",
    "        \"10-4.\",\n",
    "        \"10-7.\",\n",
    "        \"11-1.\",\n",
    "        \"11-14.\",\n",
    "        \"11-17.\",\n",
    "        \"11-20.\",\n",
    "        \"11-7.\",\n",
    "        \"13-20.\",\n",
    "        \"13-8.\",\n",
    "        \"14-10.\",\n",
    "        \"14-11.\",\n",
    "        \"14-14.\",\n",
    "        \"14-7.\",\n",
    "        \"15-1.\",\n",
    "        \"15-20.\",\n",
    "        \"16-1.\",\n",
    "        \"16-16.\",\n",
    "        \"17-10.\",\n",
    "        \"17-11.\",\n",
    "        \"17-2.\",\n",
    "        \"19-1.\",\n",
    "        \"19-16.\",\n",
    "        \"19-19.\",\n",
    "        \"19-20.\",\n",
    "        \"19-3.\",\n",
    "        \"2-10.\",\n",
    "        \"2-11.\",\n",
    "        \"2-17.\",\n",
    "        \"2-18.\",\n",
    "        \"2-20.\",\n",
    "        \"2-3.\",\n",
    "        \"2-4.\",\n",
    "        \"2-5.\",\n",
    "        \"2-6.\",\n",
    "        \"2-7.\",\n",
    "        \"2-8.\",\n",
    "        \"3-13.\",\n",
    "        \"3-18.\",\n",
    "        \"3-3.\",\n",
    "        \"4-1.\",\n",
    "        \"4-10.\",\n",
    "        \"4-11.\",\n",
    "        \"4-19.\",\n",
    "        \"5-5.\",\n",
    "        \"6-15.\",\n",
    "        \"7-10.\",\n",
    "        \"7-14.\",\n",
    "        \"8-18.\",\n",
    "        \"8-20.\",\n",
    "        \"8-3.\",\n",
    "        \"8-8.\",\n",
    "    ],\n",
    "    \"batch_size\": 128,\n",
    "    \"domains_source\": [1, 5],\n",
    "    \"domains_target\": [2, 3, 4],\n",
    "    \"normalize_source\": False,\n",
    "    \"normalize_target\": False,\n",
    "    \"num_examples_per_domain_per_label_source\": -1,\n",
    "    \"num_examples_per_domain_per_label_target\": -1,\n",
    "    \"torch_default_dtype\": \"torch.float32\",\n",
    "    \"n_epoch\": 50,\n",
    "    \"patience\": 3,\n",
    "    \"criteria_for_best\": \"target_accuracy\",\n",
    "    \"x_net\": [\n",
    "        {\"class\": \"nnReshape\", \"kargs\": {\"shape\": [-1, 1, 2, 256]}},\n",
    "        {\n",
    "            \"class\": \"Conv2d\",\n",
    "            \"kargs\": {\n",
    "                \"in_channels\": 1,\n",
    "                \"out_channels\": 256,\n",
    "                \"kernel_size\": [1, 7],\n",
    "                \"bias\": False,\n",
    "                \"padding\": [0, 3],\n",
    "            },\n",
    "        },\n",
    "        {\"class\": \"ReLU\", \"kargs\": {\"inplace\": True}},\n",
    "        {\"class\": \"BatchNorm2d\", \"kargs\": {\"num_features\": 256}},\n",
    "        {\n",
    "            \"class\": \"Conv2d\",\n",
    "            \"kargs\": {\n",
    "                \"in_channels\": 256,\n",
    "                \"out_channels\": 80,\n",
    "                \"kernel_size\": [2, 7],\n",
    "                \"bias\": True,\n",
    "                \"padding\": [0, 3],\n",
    "            },\n",
    "        },\n",
    "        {\"class\": \"ReLU\", \"kargs\": {\"inplace\": True}},\n",
    "        {\"class\": \"BatchNorm2d\", \"kargs\": {\"num_features\": 80}},\n",
    "        {\"class\": \"Flatten\", \"kargs\": {}},\n",
    "        {\"class\": \"Linear\", \"kargs\": {\"in_features\": 20480, \"out_features\": 256}},\n",
    "        {\"class\": \"ReLU\", \"kargs\": {\"inplace\": True}},\n",
    "        {\"class\": \"BatchNorm1d\", \"kargs\": {\"num_features\": 256}},\n",
    "        {\"class\": \"Linear\", \"kargs\": {\"in_features\": 256, \"out_features\": 58}},\n",
    "    ],\n",
    "    \"NUM_LOGS_PER_EPOCH\": 10,\n",
    "    \"BEST_MODEL_PATH\": \"./best_model.pth\",\n",
    "    \"pickle_name_source\": \"cores.stratified_ds.2022A.pkl\",\n",
    "    \"pickle_name_target\": \"cores.stratified_ds.2022A.pkl\",\n",
    "    \"dataset_seed\": 420,\n",
    "    \"seed\": 420,\n",
    "}\n"
   ]
  },
  {
   "cell_type": "code",
   "execution_count": 5,
   "id": "759b56ec",
   "metadata": {
    "execution": {
     "iopub.execute_input": "2022-03-25T20:52:51.956225Z",
     "iopub.status.busy": "2022-03-25T20:52:51.955570Z",
     "iopub.status.idle": "2022-03-25T20:52:51.957011Z",
     "shell.execute_reply": "2022-03-25T20:52:51.957553Z"
    },
    "papermill": {
     "duration": 0.022158,
     "end_time": "2022-03-25T20:52:51.957744",
     "exception": false,
     "start_time": "2022-03-25T20:52:51.935586",
     "status": "completed"
    },
    "tags": []
   },
   "outputs": [],
   "source": [
    "# Set this to True if you want to run this template directly\n",
    "STANDALONE = False\n",
    "if STANDALONE:\n",
    "    print(\"parameters not injected, running with standalone_parameters\")\n",
    "    parameters = standalone_parameters\n",
    "\n",
    "if not 'parameters' in locals() and not 'parameters' in globals():\n",
    "    raise Exception(\"Parameter injection failed\")\n",
    "\n",
    "#Use an easy dict for all the parameters\n",
    "p = EasyDict(parameters)\n",
    "\n",
    "supplied_keys = set(p.keys())\n",
    "\n",
    "if  supplied_keys != required_parameters:\n",
    "    print(\"Parameters are incorrect\")\n",
    "    if len(supplied_keys - required_parameters)>0: print(\"Shouldn't have:\", str(supplied_keys - required_parameters))\n",
    "    if len(required_parameters - supplied_keys)>0: print(\"Need to have:\", str(required_parameters - supplied_keys))\n",
    "    raise RuntimeError(\"Parameters are incorrect\")\n",
    "\n"
   ]
  },
  {
   "cell_type": "code",
   "execution_count": 6,
   "id": "d5c66a71",
   "metadata": {
    "execution": {
     "iopub.execute_input": "2022-03-25T20:52:51.996781Z",
     "iopub.status.busy": "2022-03-25T20:52:51.996207Z",
     "iopub.status.idle": "2022-03-25T20:52:51.999521Z",
     "shell.execute_reply": "2022-03-25T20:52:51.999027Z"
    },
    "papermill": {
     "duration": 0.020638,
     "end_time": "2022-03-25T20:52:51.999655",
     "exception": false,
     "start_time": "2022-03-25T20:52:51.979017",
     "status": "completed"
    },
    "tags": []
   },
   "outputs": [],
   "source": [
    "###################################\n",
    "# Set the RNGs and make it all deterministic\n",
    "###################################\n",
    "np.random.seed(p.seed)\n",
    "random.seed(p.seed)\n",
    "torch.manual_seed(p.seed)\n",
    "\n",
    "torch.use_deterministic_algorithms(True) "
   ]
  },
  {
   "cell_type": "code",
   "execution_count": 7,
   "id": "92a65876",
   "metadata": {
    "execution": {
     "iopub.execute_input": "2022-03-25T20:52:52.034148Z",
     "iopub.status.busy": "2022-03-25T20:52:52.033781Z",
     "iopub.status.idle": "2022-03-25T20:52:52.035864Z",
     "shell.execute_reply": "2022-03-25T20:52:52.036170Z"
    },
    "papermill": {
     "duration": 0.019913,
     "end_time": "2022-03-25T20:52:52.036253",
     "exception": false,
     "start_time": "2022-03-25T20:52:52.016340",
     "status": "completed"
    },
    "tags": []
   },
   "outputs": [],
   "source": [
    "torch.set_default_dtype(eval(p.torch_default_dtype))"
   ]
  },
  {
   "cell_type": "code",
   "execution_count": 8,
   "id": "f1a32f01",
   "metadata": {
    "execution": {
     "iopub.execute_input": "2022-03-25T20:52:52.070488Z",
     "iopub.status.busy": "2022-03-25T20:52:52.070121Z",
     "iopub.status.idle": "2022-03-25T20:52:52.110432Z",
     "shell.execute_reply": "2022-03-25T20:52:52.109751Z"
    },
    "papermill": {
     "duration": 0.058017,
     "end_time": "2022-03-25T20:52:52.110595",
     "exception": false,
     "start_time": "2022-03-25T20:52:52.052578",
     "status": "completed"
    },
    "tags": []
   },
   "outputs": [],
   "source": [
    "###################################\n",
    "# Build the network(s)\n",
    "# Note: It's critical to do this AFTER setting the RNG\n",
    "###################################\n",
    "x_net = build_sequential(p.x_net)"
   ]
  },
  {
   "cell_type": "code",
   "execution_count": 9,
   "id": "a276cd83",
   "metadata": {
    "execution": {
     "iopub.execute_input": "2022-03-25T20:52:52.147066Z",
     "iopub.status.busy": "2022-03-25T20:52:52.146699Z",
     "iopub.status.idle": "2022-03-25T20:52:52.148729Z",
     "shell.execute_reply": "2022-03-25T20:52:52.148411Z"
    },
    "papermill": {
     "duration": 0.018662,
     "end_time": "2022-03-25T20:52:52.148799",
     "exception": false,
     "start_time": "2022-03-25T20:52:52.130137",
     "status": "completed"
    },
    "tags": []
   },
   "outputs": [],
   "source": [
    "start_time_secs = time.time()"
   ]
  },
  {
   "cell_type": "code",
   "execution_count": 10,
   "id": "de702e48",
   "metadata": {
    "execution": {
     "iopub.execute_input": "2022-03-25T20:52:52.194979Z",
     "iopub.status.busy": "2022-03-25T20:52:52.194150Z",
     "iopub.status.idle": "2022-03-25T20:52:55.870884Z",
     "shell.execute_reply": "2022-03-25T20:52:55.871617Z"
    },
    "papermill": {
     "duration": 3.706131,
     "end_time": "2022-03-25T20:52:55.871845",
     "exception": false,
     "start_time": "2022-03-25T20:52:52.165714",
     "status": "completed"
    },
    "tags": []
   },
   "outputs": [],
   "source": [
    "def wrap_in_dataloader(p, ds):\n",
    "    return torch.utils.data.DataLoader(\n",
    "        ds,\n",
    "        batch_size=p.batch_size,\n",
    "        shuffle=True,\n",
    "        num_workers=1,\n",
    "        persistent_workers=True,\n",
    "        prefetch_factor=50,\n",
    "        pin_memory=True\n",
    "    )\n",
    "\n",
    "taf_source = Traditional_Accessor_Factory(\n",
    "    labels=p.labels,\n",
    "    domains=p.domains_source,\n",
    "    num_examples_per_domain_per_label=p.num_examples_per_domain_per_label_source,\n",
    "    pickle_path=os.path.join(get_datasets_base_path(), p.pickle_name_source),\n",
    "    seed=p.dataset_seed\n",
    ")\n",
    "train_original_source, val_original_source, test_original_source = \\\n",
    "    taf_source.get_train(), taf_source.get_val(), taf_source.get_test()\n",
    "\n",
    "\n",
    "taf_target = Traditional_Accessor_Factory(\n",
    "    labels=p.labels,\n",
    "    domains=p.domains_target,\n",
    "    num_examples_per_domain_per_label=p.num_examples_per_domain_per_label_source,\n",
    "    pickle_path=os.path.join(get_datasets_base_path(), p.pickle_name_target),\n",
    "    seed=p.dataset_seed\n",
    ")\n",
    "train_original_target, val_original_target, test_original_target = \\\n",
    "    taf_target.get_train(), taf_target.get_val(), taf_target.get_test()\n",
    "\n",
    "\n",
    "# For CNN We only use X and Y. And we only train on the source.\n",
    "# Properly form the data using a transform lambda and Lazy_Map. Finally wrap them in a dataloader\n",
    "\n",
    "transform_lambda = lambda ex: ex[:2] # Strip the tuple to just (x,y)\n",
    "\n",
    "\n",
    "train_processed_source = wrap_in_dataloader(\n",
    "    p,\n",
    "    Lazy_Map(train_original_source, transform_lambda)\n",
    ")\n",
    "val_processed_source = wrap_in_dataloader(\n",
    "    p,\n",
    "    Lazy_Map(val_original_source, transform_lambda)\n",
    ")\n",
    "test_processed_source = wrap_in_dataloader(\n",
    "    p,\n",
    "    Lazy_Map(test_original_source, transform_lambda)\n",
    ")\n",
    "\n",
    "train_processed_target = wrap_in_dataloader(\n",
    "    p,\n",
    "    Lazy_Map(train_original_target, transform_lambda)\n",
    ")\n",
    "val_processed_target = wrap_in_dataloader(\n",
    "    p,\n",
    "    Lazy_Map(val_original_target, transform_lambda)\n",
    ")\n",
    "test_processed_target  = wrap_in_dataloader(\n",
    "    p,\n",
    "    Lazy_Map(test_original_target, transform_lambda)\n",
    ")\n",
    "\n",
    "\n",
    "\n",
    "datasets = EasyDict({\n",
    "    \"source\": {\n",
    "        \"original\": {\"train\":train_original_source, \"val\":val_original_source, \"test\":test_original_source},\n",
    "        \"processed\": {\"train\":train_processed_source, \"val\":val_processed_source, \"test\":test_processed_source}\n",
    "    },\n",
    "    \"target\": {\n",
    "        \"original\": {\"train\":train_original_target, \"val\":val_original_target, \"test\":test_original_target},\n",
    "        \"processed\": {\"train\":train_processed_target, \"val\":val_processed_target, \"test\":test_processed_target}\n",
    "    },\n",
    "})"
   ]
  },
  {
   "cell_type": "code",
   "execution_count": 11,
   "id": "a11b26bd",
   "metadata": {
    "execution": {
     "iopub.execute_input": "2022-03-25T20:52:55.977441Z",
     "iopub.status.busy": "2022-03-25T20:52:55.976534Z",
     "iopub.status.idle": "2022-03-25T20:53:01.172207Z",
     "shell.execute_reply": "2022-03-25T20:53:01.171415Z"
    },
    "papermill": {
     "duration": 5.278722,
     "end_time": "2022-03-25T20:53:01.172380",
     "exception": false,
     "start_time": "2022-03-25T20:52:55.893658",
     "status": "completed"
    },
    "tags": []
   },
   "outputs": [
    {
     "data": {
      "text/plain": [
       "torch.float32"
      ]
     },
     "execution_count": 11,
     "metadata": {},
     "output_type": "execute_result"
    }
   ],
   "source": [
    "ep = next(iter(test_processed_target))\n",
    "ep[0].dtype"
   ]
  },
  {
   "cell_type": "code",
   "execution_count": 12,
   "id": "19425fad",
   "metadata": {
    "execution": {
     "iopub.execute_input": "2022-03-25T20:53:01.211969Z",
     "iopub.status.busy": "2022-03-25T20:53:01.211591Z",
     "iopub.status.idle": "2022-03-25T20:53:01.254292Z",
     "shell.execute_reply": "2022-03-25T20:53:01.253547Z"
    },
    "papermill": {
     "duration": 0.063047,
     "end_time": "2022-03-25T20:53:01.254482",
     "exception": false,
     "start_time": "2022-03-25T20:53:01.191435",
     "status": "completed"
    },
    "tags": []
   },
   "outputs": [],
   "source": [
    "model = Configurable_Vanilla(\n",
    "    x_net=x_net,\n",
    "    label_loss_object=torch.nn.NLLLoss(),\n",
    "    learning_rate=p.lr\n",
    ")"
   ]
  },
  {
   "cell_type": "code",
   "execution_count": 13,
   "id": "7f6d4f2c",
   "metadata": {
    "execution": {
     "iopub.execute_input": "2022-03-25T20:53:01.299118Z",
     "iopub.status.busy": "2022-03-25T20:53:01.298746Z",
     "iopub.status.idle": "2022-03-25T20:54:45.487348Z",
     "shell.execute_reply": "2022-03-25T20:54:45.488056Z"
    },
    "papermill": {
     "duration": 104.210108,
     "end_time": "2022-03-25T20:54:45.488267",
     "exception": false,
     "start_time": "2022-03-25T20:53:01.278159",
     "status": "completed"
    },
    "tags": []
   },
   "outputs": [
    {
     "name": "stdout",
     "output_type": "stream",
     "text": [
      "epoch: 1, [batch: 1 / 568], examples_per_second: 719.2424, train_label_loss: 4.0069, \n"
     ]
    },
    {
     "name": "stdout",
     "output_type": "stream",
     "text": [
      "epoch: 1, [batch: 57 / 568], examples_per_second: 10692.2283, train_label_loss: 2.8223, \n"
     ]
    },
    {
     "name": "stdout",
     "output_type": "stream",
     "text": [
      "epoch: 1, [batch: 114 / 568], examples_per_second: 10662.8457, train_label_loss: 2.0938, \n"
     ]
    },
    {
     "name": "stdout",
     "output_type": "stream",
     "text": [
      "epoch: 1, [batch: 171 / 568], examples_per_second: 10780.7873, train_label_loss: 1.4254, \n"
     ]
    },
    {
     "name": "stdout",
     "output_type": "stream",
     "text": [
      "epoch: 1, [batch: 227 / 568], examples_per_second: 10690.3045, train_label_loss: 0.9476, \n"
     ]
    },
    {
     "name": "stdout",
     "output_type": "stream",
     "text": [
      "epoch: 1, [batch: 284 / 568], examples_per_second: 10702.6216, train_label_loss: 0.7217, \n"
     ]
    },
    {
     "name": "stdout",
     "output_type": "stream",
     "text": [
      "epoch: 1, [batch: 341 / 568], examples_per_second: 10790.9223, train_label_loss: 0.4187, \n"
     ]
    },
    {
     "name": "stdout",
     "output_type": "stream",
     "text": [
      "epoch: 1, [batch: 397 / 568], examples_per_second: 10789.2529, train_label_loss: 0.3686, \n"
     ]
    },
    {
     "name": "stdout",
     "output_type": "stream",
     "text": [
      "epoch: 1, [batch: 454 / 568], examples_per_second: 10824.5540, train_label_loss: 0.2812, \n"
     ]
    },
    {
     "name": "stdout",
     "output_type": "stream",
     "text": [
      "epoch: 1, [batch: 511 / 568], examples_per_second: 10598.5769, train_label_loss: 0.2257, \n"
     ]
    },
    {
     "name": "stdout",
     "output_type": "stream",
     "text": [
      "=============================================================\n",
      "epoch: 1, source_val_acc_label: 0.9609, source_val_label_loss: 0.2853, target_val_acc_label: 0.7922, target_val_label_loss: 0.8422, \n",
      "=============================================================\n"
     ]
    },
    {
     "name": "stdout",
     "output_type": "stream",
     "text": [
      "New best\n",
      "epoch: 2, [batch: 1 / 568], examples_per_second: 100.0405, train_label_loss: 0.4494, \n"
     ]
    },
    {
     "name": "stdout",
     "output_type": "stream",
     "text": [
      "epoch: 2, [batch: 57 / 568], examples_per_second: 10559.5353, train_label_loss: 0.3480, \n"
     ]
    },
    {
     "name": "stdout",
     "output_type": "stream",
     "text": [
      "epoch: 2, [batch: 114 / 568], examples_per_second: 10747.2642, train_label_loss: 0.1638, \n"
     ]
    },
    {
     "name": "stdout",
     "output_type": "stream",
     "text": [
      "epoch: 2, [batch: 171 / 568], examples_per_second: 10814.5659, train_label_loss: 0.2376, \n"
     ]
    },
    {
     "name": "stdout",
     "output_type": "stream",
     "text": [
      "epoch: 2, [batch: 227 / 568], examples_per_second: 10855.1579, train_label_loss: 0.1316, \n"
     ]
    },
    {
     "name": "stdout",
     "output_type": "stream",
     "text": [
      "epoch: 2, [batch: 284 / 568], examples_per_second: 10824.3319, train_label_loss: 0.0857, \n"
     ]
    },
    {
     "name": "stdout",
     "output_type": "stream",
     "text": [
      "epoch: 2, [batch: 341 / 568], examples_per_second: 10792.4484, train_label_loss: 0.1212, \n"
     ]
    },
    {
     "name": "stdout",
     "output_type": "stream",
     "text": [
      "epoch: 2, [batch: 397 / 568], examples_per_second: 10786.2685, train_label_loss: 0.0582, \n"
     ]
    },
    {
     "name": "stdout",
     "output_type": "stream",
     "text": [
      "epoch: 2, [batch: 454 / 568], examples_per_second: 10753.5183, train_label_loss: 0.0734, \n"
     ]
    },
    {
     "name": "stdout",
     "output_type": "stream",
     "text": [
      "epoch: 2, [batch: 511 / 568], examples_per_second: 10672.2799, train_label_loss: 0.0681, \n"
     ]
    },
    {
     "name": "stdout",
     "output_type": "stream",
     "text": [
      "=============================================================\n",
      "epoch: 2, source_val_acc_label: 0.9929, source_val_label_loss: 0.0648, target_val_acc_label: 0.8602, target_val_label_loss: 0.5835, \n",
      "=============================================================\n"
     ]
    },
    {
     "name": "stdout",
     "output_type": "stream",
     "text": [
      "New best\n",
      "epoch: 3, [batch: 1 / 568], examples_per_second: 116.7895, train_label_loss: 0.0549, \n"
     ]
    },
    {
     "name": "stdout",
     "output_type": "stream",
     "text": [
      "epoch: 3, [batch: 57 / 568], examples_per_second: 10704.1170, train_label_loss: 0.0824, \n"
     ]
    },
    {
     "name": "stdout",
     "output_type": "stream",
     "text": [
      "epoch: 3, [batch: 114 / 568], examples_per_second: 10744.4078, train_label_loss: 0.0402, \n"
     ]
    },
    {
     "name": "stdout",
     "output_type": "stream",
     "text": [
      "epoch: 3, [batch: 171 / 568], examples_per_second: 10710.3605, train_label_loss: 0.0422, \n"
     ]
    },
    {
     "name": "stdout",
     "output_type": "stream",
     "text": [
      "epoch: 3, [batch: 227 / 568], examples_per_second: 10819.6943, train_label_loss: 0.0435, \n"
     ]
    },
    {
     "name": "stdout",
     "output_type": "stream",
     "text": [
      "epoch: 3, [batch: 284 / 568], examples_per_second: 10853.8477, train_label_loss: 0.0274, \n"
     ]
    },
    {
     "name": "stdout",
     "output_type": "stream",
     "text": [
      "epoch: 3, [batch: 341 / 568], examples_per_second: 10831.5386, train_label_loss: 0.0335, \n"
     ]
    },
    {
     "name": "stdout",
     "output_type": "stream",
     "text": [
      "epoch: 3, [batch: 397 / 568], examples_per_second: 10787.5766, train_label_loss: 0.0351, \n"
     ]
    },
    {
     "name": "stdout",
     "output_type": "stream",
     "text": [
      "epoch: 3, [batch: 454 / 568], examples_per_second: 10686.6548, train_label_loss: 0.0403, \n"
     ]
    },
    {
     "name": "stdout",
     "output_type": "stream",
     "text": [
      "epoch: 3, [batch: 511 / 568], examples_per_second: 10831.6651, train_label_loss: 0.0238, \n"
     ]
    },
    {
     "name": "stdout",
     "output_type": "stream",
     "text": [
      "=============================================================\n",
      "epoch: 3, source_val_acc_label: 0.9957, source_val_label_loss: 0.0329, target_val_acc_label: 0.8700, target_val_label_loss: 0.4966, \n",
      "=============================================================\n"
     ]
    },
    {
     "name": "stdout",
     "output_type": "stream",
     "text": [
      "New best\n",
      "epoch: 4, [batch: 1 / 568], examples_per_second: 118.1112, train_label_loss: 0.0262, \n"
     ]
    },
    {
     "name": "stdout",
     "output_type": "stream",
     "text": [
      "epoch: 4, [batch: 57 / 568], examples_per_second: 10552.1081, train_label_loss: 0.0589, \n"
     ]
    },
    {
     "name": "stdout",
     "output_type": "stream",
     "text": [
      "epoch: 4, [batch: 114 / 568], examples_per_second: 10771.0655, train_label_loss: 0.0449, \n"
     ]
    },
    {
     "name": "stdout",
     "output_type": "stream",
     "text": [
      "epoch: 4, [batch: 171 / 568], examples_per_second: 10808.8324, train_label_loss: 0.0344, \n"
     ]
    },
    {
     "name": "stdout",
     "output_type": "stream",
     "text": [
      "epoch: 4, [batch: 227 / 568], examples_per_second: 10758.5588, train_label_loss: 0.0336, \n"
     ]
    },
    {
     "name": "stdout",
     "output_type": "stream",
     "text": [
      "epoch: 4, [batch: 284 / 568], examples_per_second: 10669.2734, train_label_loss: 0.0194, \n"
     ]
    },
    {
     "name": "stdout",
     "output_type": "stream",
     "text": [
      "epoch: 4, [batch: 341 / 568], examples_per_second: 10734.1415, train_label_loss: 0.0209, \n"
     ]
    },
    {
     "name": "stdout",
     "output_type": "stream",
     "text": [
      "epoch: 4, [batch: 397 / 568], examples_per_second: 10747.6938, train_label_loss: 0.0289, \n"
     ]
    },
    {
     "name": "stdout",
     "output_type": "stream",
     "text": [
      "epoch: 4, [batch: 454 / 568], examples_per_second: 10750.7945, train_label_loss: 0.0162, \n"
     ]
    },
    {
     "name": "stdout",
     "output_type": "stream",
     "text": [
      "epoch: 4, [batch: 511 / 568], examples_per_second: 10731.6119, train_label_loss: 0.0134, \n"
     ]
    },
    {
     "name": "stdout",
     "output_type": "stream",
     "text": [
      "=============================================================\n",
      "epoch: 4, source_val_acc_label: 0.9967, source_val_label_loss: 0.0243, target_val_acc_label: 0.8638, target_val_label_loss: 0.5328, \n",
      "=============================================================\n"
     ]
    },
    {
     "name": "stdout",
     "output_type": "stream",
     "text": [
      "epoch: 5, [batch: 1 / 568], examples_per_second: 122.3218, train_label_loss: 0.0312, \n"
     ]
    },
    {
     "name": "stdout",
     "output_type": "stream",
     "text": [
      "epoch: 5, [batch: 57 / 568], examples_per_second: 10232.3634, train_label_loss: 0.0094, \n"
     ]
    },
    {
     "name": "stdout",
     "output_type": "stream",
     "text": [
      "epoch: 5, [batch: 114 / 568], examples_per_second: 10725.7441, train_label_loss: 0.0114, \n"
     ]
    },
    {
     "name": "stdout",
     "output_type": "stream",
     "text": [
      "epoch: 5, [batch: 171 / 568], examples_per_second: 10590.9803, train_label_loss: 0.0097, \n"
     ]
    },
    {
     "name": "stdout",
     "output_type": "stream",
     "text": [
      "epoch: 5, [batch: 227 / 568], examples_per_second: 10765.0614, train_label_loss: 0.0107, \n"
     ]
    },
    {
     "name": "stdout",
     "output_type": "stream",
     "text": [
      "epoch: 5, [batch: 284 / 568], examples_per_second: 10852.5043, train_label_loss: 0.0148, \n"
     ]
    },
    {
     "name": "stdout",
     "output_type": "stream",
     "text": [
      "epoch: 5, [batch: 341 / 568], examples_per_second: 10655.7355, train_label_loss: 0.0183, \n"
     ]
    },
    {
     "name": "stdout",
     "output_type": "stream",
     "text": [
      "epoch: 5, [batch: 397 / 568], examples_per_second: 10824.8638, train_label_loss: 0.0059, \n"
     ]
    },
    {
     "name": "stdout",
     "output_type": "stream",
     "text": [
      "epoch: 5, [batch: 454 / 568], examples_per_second: 10773.1700, train_label_loss: 0.0120, \n"
     ]
    },
    {
     "name": "stdout",
     "output_type": "stream",
     "text": [
      "epoch: 5, [batch: 511 / 568], examples_per_second: 10648.3161, train_label_loss: 0.0058, \n"
     ]
    },
    {
     "name": "stdout",
     "output_type": "stream",
     "text": [
      "=============================================================\n",
      "epoch: 5, source_val_acc_label: 0.9963, source_val_label_loss: 0.0185, target_val_acc_label: 0.8759, target_val_label_loss: 0.4716, \n",
      "=============================================================\n"
     ]
    },
    {
     "name": "stdout",
     "output_type": "stream",
     "text": [
      "New best\n",
      "epoch: 6, [batch: 1 / 568], examples_per_second: 121.3393, train_label_loss: 0.0086, \n"
     ]
    },
    {
     "name": "stdout",
     "output_type": "stream",
     "text": [
      "epoch: 6, [batch: 57 / 568], examples_per_second: 10696.5308, train_label_loss: 0.0366, \n"
     ]
    },
    {
     "name": "stdout",
     "output_type": "stream",
     "text": [
      "epoch: 6, [batch: 114 / 568], examples_per_second: 10606.0263, train_label_loss: 0.0130, \n"
     ]
    },
    {
     "name": "stdout",
     "output_type": "stream",
     "text": [
      "epoch: 6, [batch: 171 / 568], examples_per_second: 10802.9180, train_label_loss: 0.0099, \n"
     ]
    },
    {
     "name": "stdout",
     "output_type": "stream",
     "text": [
      "epoch: 6, [batch: 227 / 568], examples_per_second: 10874.6800, train_label_loss: 0.0082, \n"
     ]
    },
    {
     "name": "stdout",
     "output_type": "stream",
     "text": [
      "epoch: 6, [batch: 284 / 568], examples_per_second: 10684.9831, train_label_loss: 0.0099, \n"
     ]
    },
    {
     "name": "stdout",
     "output_type": "stream",
     "text": [
      "epoch: 6, [batch: 341 / 568], examples_per_second: 10760.2034, train_label_loss: 0.0047, \n"
     ]
    },
    {
     "name": "stdout",
     "output_type": "stream",
     "text": [
      "epoch: 6, [batch: 397 / 568], examples_per_second: 10622.3741, train_label_loss: 0.0078, \n"
     ]
    },
    {
     "name": "stdout",
     "output_type": "stream",
     "text": [
      "epoch: 6, [batch: 454 / 568], examples_per_second: 10740.6404, train_label_loss: 0.0087, \n"
     ]
    },
    {
     "name": "stdout",
     "output_type": "stream",
     "text": [
      "epoch: 6, [batch: 511 / 568], examples_per_second: 10730.9495, train_label_loss: 0.0047, \n"
     ]
    },
    {
     "name": "stdout",
     "output_type": "stream",
     "text": [
      "=============================================================\n",
      "epoch: 6, source_val_acc_label: 0.9963, source_val_label_loss: 0.0209, target_val_acc_label: 0.8588, target_val_label_loss: 0.5890, \n",
      "=============================================================\n"
     ]
    },
    {
     "name": "stdout",
     "output_type": "stream",
     "text": [
      "epoch: 7, [batch: 1 / 568], examples_per_second: 121.9353, train_label_loss: 0.0048, \n"
     ]
    },
    {
     "name": "stdout",
     "output_type": "stream",
     "text": [
      "epoch: 7, [batch: 57 / 568], examples_per_second: 10711.3552, train_label_loss: 0.0053, \n"
     ]
    },
    {
     "name": "stdout",
     "output_type": "stream",
     "text": [
      "epoch: 7, [batch: 114 / 568], examples_per_second: 10802.2545, train_label_loss: 0.0041, \n"
     ]
    },
    {
     "name": "stdout",
     "output_type": "stream",
     "text": [
      "epoch: 7, [batch: 171 / 568], examples_per_second: 10643.2868, train_label_loss: 0.0055, \n"
     ]
    },
    {
     "name": "stdout",
     "output_type": "stream",
     "text": [
      "epoch: 7, [batch: 227 / 568], examples_per_second: 10743.3194, train_label_loss: 0.0062, \n"
     ]
    },
    {
     "name": "stdout",
     "output_type": "stream",
     "text": [
      "epoch: 7, [batch: 284 / 568], examples_per_second: 10798.9648, train_label_loss: 0.0046, \n"
     ]
    },
    {
     "name": "stdout",
     "output_type": "stream",
     "text": [
      "epoch: 7, [batch: 341 / 568], examples_per_second: 10778.3685, train_label_loss: 0.0052, \n"
     ]
    },
    {
     "name": "stdout",
     "output_type": "stream",
     "text": [
      "epoch: 7, [batch: 397 / 568], examples_per_second: 10726.2132, train_label_loss: 0.0066, \n"
     ]
    },
    {
     "name": "stdout",
     "output_type": "stream",
     "text": [
      "epoch: 7, [batch: 454 / 568], examples_per_second: 10633.4973, train_label_loss: 0.0030, \n"
     ]
    },
    {
     "name": "stdout",
     "output_type": "stream",
     "text": [
      "epoch: 7, [batch: 511 / 568], examples_per_second: 10736.6008, train_label_loss: 0.0035, \n"
     ]
    },
    {
     "name": "stdout",
     "output_type": "stream",
     "text": [
      "=============================================================\n",
      "epoch: 7, source_val_acc_label: 0.9863, source_val_label_loss: 0.0625, target_val_acc_label: 0.8426, target_val_label_loss: 0.7420, \n",
      "=============================================================\n"
     ]
    },
    {
     "name": "stdout",
     "output_type": "stream",
     "text": [
      "epoch: 8, [batch: 1 / 568], examples_per_second: 124.2075, train_label_loss: 0.0097, \n"
     ]
    },
    {
     "name": "stdout",
     "output_type": "stream",
     "text": [
      "epoch: 8, [batch: 57 / 568], examples_per_second: 10578.8786, train_label_loss: 0.0169, \n"
     ]
    },
    {
     "name": "stdout",
     "output_type": "stream",
     "text": [
      "epoch: 8, [batch: 114 / 568], examples_per_second: 10756.3759, train_label_loss: 0.0102, \n"
     ]
    },
    {
     "name": "stdout",
     "output_type": "stream",
     "text": [
      "epoch: 8, [batch: 171 / 568], examples_per_second: 10819.7432, train_label_loss: 0.0075, \n"
     ]
    },
    {
     "name": "stdout",
     "output_type": "stream",
     "text": [
      "epoch: 8, [batch: 227 / 568], examples_per_second: 10851.0912, train_label_loss: 0.0057, \n"
     ]
    },
    {
     "name": "stdout",
     "output_type": "stream",
     "text": [
      "epoch: 8, [batch: 284 / 568], examples_per_second: 10766.2643, train_label_loss: 0.0048, \n"
     ]
    },
    {
     "name": "stdout",
     "output_type": "stream",
     "text": [
      "epoch: 8, [batch: 341 / 568], examples_per_second: 10676.1484, train_label_loss: 0.0044, \n"
     ]
    },
    {
     "name": "stdout",
     "output_type": "stream",
     "text": [
      "epoch: 8, [batch: 397 / 568], examples_per_second: 10824.7001, train_label_loss: 0.0080, \n"
     ]
    },
    {
     "name": "stdout",
     "output_type": "stream",
     "text": [
      "epoch: 8, [batch: 454 / 568], examples_per_second: 10725.7817, train_label_loss: 0.0026, \n"
     ]
    },
    {
     "name": "stdout",
     "output_type": "stream",
     "text": [
      "epoch: 8, [batch: 511 / 568], examples_per_second: 10745.3057, train_label_loss: 0.0024, \n"
     ]
    },
    {
     "name": "stdout",
     "output_type": "stream",
     "text": [
      "=============================================================\n",
      "epoch: 8, source_val_acc_label: 0.9158, source_val_label_loss: 0.3024, target_val_acc_label: 0.7527, target_val_label_loss: 1.2034, \n",
      "=============================================================\n"
     ]
    },
    {
     "name": "stdout",
     "output_type": "stream",
     "text": [
      "epoch: 9, [batch: 1 / 568], examples_per_second: 126.1832, train_label_loss: 0.2034, \n"
     ]
    },
    {
     "name": "stdout",
     "output_type": "stream",
     "text": [
      "epoch: 9, [batch: 57 / 568], examples_per_second: 10581.6712, train_label_loss: 0.0649, \n"
     ]
    },
    {
     "name": "stdout",
     "output_type": "stream",
     "text": [
      "epoch: 9, [batch: 114 / 568], examples_per_second: 10890.8919, train_label_loss: 0.0379, \n"
     ]
    },
    {
     "name": "stdout",
     "output_type": "stream",
     "text": [
      "epoch: 9, [batch: 171 / 568], examples_per_second: 10636.6906, train_label_loss: 0.0165, \n"
     ]
    },
    {
     "name": "stdout",
     "output_type": "stream",
     "text": [
      "epoch: 9, [batch: 227 / 568], examples_per_second: 10750.0918, train_label_loss: 0.0166, \n"
     ]
    },
    {
     "name": "stdout",
     "output_type": "stream",
     "text": [
      "epoch: 9, [batch: 284 / 568], examples_per_second: 10856.7241, train_label_loss: 0.0104, \n"
     ]
    },
    {
     "name": "stdout",
     "output_type": "stream",
     "text": [
      "epoch: 9, [batch: 341 / 568], examples_per_second: 10802.3231, train_label_loss: 0.0096, \n"
     ]
    },
    {
     "name": "stdout",
     "output_type": "stream",
     "text": [
      "epoch: 9, [batch: 397 / 568], examples_per_second: 10697.7677, train_label_loss: 0.0127, \n"
     ]
    },
    {
     "name": "stdout",
     "output_type": "stream",
     "text": [
      "epoch: 9, [batch: 454 / 568], examples_per_second: 10813.4119, train_label_loss: 0.0088, \n"
     ]
    },
    {
     "name": "stdout",
     "output_type": "stream",
     "text": [
      "epoch: 9, [batch: 511 / 568], examples_per_second: 10833.9660, train_label_loss: 0.0057, \n"
     ]
    },
    {
     "name": "stdout",
     "output_type": "stream",
     "text": [
      "=============================================================\n",
      "epoch: 9, source_val_acc_label: 0.9968, source_val_label_loss: 0.0175, target_val_acc_label: 0.8815, target_val_label_loss: 0.5068, \n",
      "=============================================================\n"
     ]
    },
    {
     "name": "stdout",
     "output_type": "stream",
     "text": [
      "New best\n",
      "epoch: 10, [batch: 1 / 568], examples_per_second: 121.1966, train_label_loss: 0.0074, \n"
     ]
    },
    {
     "name": "stdout",
     "output_type": "stream",
     "text": [
      "epoch: 10, [batch: 57 / 568], examples_per_second: 10706.0190, train_label_loss: 0.0067, \n"
     ]
    },
    {
     "name": "stdout",
     "output_type": "stream",
     "text": [
      "epoch: 10, [batch: 114 / 568], examples_per_second: 10624.6552, train_label_loss: 0.0039, \n"
     ]
    },
    {
     "name": "stdout",
     "output_type": "stream",
     "text": [
      "epoch: 10, [batch: 171 / 568], examples_per_second: 10836.1489, train_label_loss: 0.0024, \n"
     ]
    },
    {
     "name": "stdout",
     "output_type": "stream",
     "text": [
      "epoch: 10, [batch: 227 / 568], examples_per_second: 10724.2963, train_label_loss: 0.0019, \n"
     ]
    },
    {
     "name": "stdout",
     "output_type": "stream",
     "text": [
      "epoch: 10, [batch: 284 / 568], examples_per_second: 10696.5537, train_label_loss: 0.0068, \n"
     ]
    },
    {
     "name": "stdout",
     "output_type": "stream",
     "text": [
      "epoch: 10, [batch: 341 / 568], examples_per_second: 10819.4142, train_label_loss: 0.0026, \n"
     ]
    },
    {
     "name": "stdout",
     "output_type": "stream",
     "text": [
      "epoch: 10, [batch: 397 / 568], examples_per_second: 11954.4210, train_label_loss: 0.0021, \n"
     ]
    },
    {
     "name": "stdout",
     "output_type": "stream",
     "text": [
      "epoch: 10, [batch: 454 / 568], examples_per_second: 11832.7488, train_label_loss: 0.0048, \n"
     ]
    },
    {
     "name": "stdout",
     "output_type": "stream",
     "text": [
      "epoch: 10, [batch: 511 / 568], examples_per_second: 11751.5525, train_label_loss: 0.0070, \n"
     ]
    },
    {
     "name": "stdout",
     "output_type": "stream",
     "text": [
      "=============================================================\n",
      "epoch: 10, source_val_acc_label: 0.9925, source_val_label_loss: 0.0296, target_val_acc_label: 0.8611, target_val_label_loss: 0.6454, \n",
      "=============================================================\n"
     ]
    },
    {
     "name": "stdout",
     "output_type": "stream",
     "text": [
      "epoch: 11, [batch: 1 / 568], examples_per_second: 138.6647, train_label_loss: 0.0075, \n"
     ]
    },
    {
     "name": "stdout",
     "output_type": "stream",
     "text": [
      "epoch: 11, [batch: 57 / 568], examples_per_second: 11587.7255, train_label_loss: 0.0482, \n"
     ]
    },
    {
     "name": "stdout",
     "output_type": "stream",
     "text": [
      "epoch: 11, [batch: 114 / 568], examples_per_second: 11852.6485, train_label_loss: 0.0294, \n"
     ]
    },
    {
     "name": "stdout",
     "output_type": "stream",
     "text": [
      "epoch: 11, [batch: 171 / 568], examples_per_second: 11836.9276, train_label_loss: 0.0122, \n"
     ]
    },
    {
     "name": "stdout",
     "output_type": "stream",
     "text": [
      "epoch: 11, [batch: 227 / 568], examples_per_second: 11826.1552, train_label_loss: 0.0171, \n"
     ]
    },
    {
     "name": "stdout",
     "output_type": "stream",
     "text": [
      "epoch: 11, [batch: 284 / 568], examples_per_second: 11788.6380, train_label_loss: 0.0158, \n"
     ]
    },
    {
     "name": "stdout",
     "output_type": "stream",
     "text": [
      "epoch: 11, [batch: 341 / 568], examples_per_second: 11836.4286, train_label_loss: 0.0062, \n"
     ]
    },
    {
     "name": "stdout",
     "output_type": "stream",
     "text": [
      "epoch: 11, [batch: 397 / 568], examples_per_second: 11865.2623, train_label_loss: 0.0137, \n"
     ]
    },
    {
     "name": "stdout",
     "output_type": "stream",
     "text": [
      "epoch: 11, [batch: 454 / 568], examples_per_second: 11859.3824, train_label_loss: 0.0089, \n"
     ]
    },
    {
     "name": "stdout",
     "output_type": "stream",
     "text": [
      "epoch: 11, [batch: 511 / 568], examples_per_second: 11832.6436, train_label_loss: 0.0079, \n"
     ]
    },
    {
     "name": "stdout",
     "output_type": "stream",
     "text": [
      "=============================================================\n",
      "epoch: 11, source_val_acc_label: 0.9961, source_val_label_loss: 0.0245, target_val_acc_label: 0.8526, target_val_label_loss: 0.5801, \n",
      "=============================================================\n"
     ]
    },
    {
     "name": "stdout",
     "output_type": "stream",
     "text": [
      "epoch: 12, [batch: 1 / 568], examples_per_second: 137.9878, train_label_loss: 0.0136, \n"
     ]
    },
    {
     "name": "stdout",
     "output_type": "stream",
     "text": [
      "epoch: 12, [batch: 57 / 568], examples_per_second: 11712.7562, train_label_loss: 0.0171, \n"
     ]
    },
    {
     "name": "stdout",
     "output_type": "stream",
     "text": [
      "epoch: 12, [batch: 114 / 568], examples_per_second: 11750.9613, train_label_loss: 0.0074, \n"
     ]
    },
    {
     "name": "stdout",
     "output_type": "stream",
     "text": [
      "epoch: 12, [batch: 171 / 568], examples_per_second: 11856.9195, train_label_loss: 0.0122, \n"
     ]
    },
    {
     "name": "stdout",
     "output_type": "stream",
     "text": [
      "epoch: 12, [batch: 227 / 568], examples_per_second: 12006.8751, train_label_loss: 0.0073, \n"
     ]
    },
    {
     "name": "stdout",
     "output_type": "stream",
     "text": [
      "epoch: 12, [batch: 284 / 568], examples_per_second: 12391.4107, train_label_loss: 0.0070, \n"
     ]
    },
    {
     "name": "stdout",
     "output_type": "stream",
     "text": [
      "epoch: 12, [batch: 341 / 568], examples_per_second: 11842.1587, train_label_loss: 0.0036, \n"
     ]
    },
    {
     "name": "stdout",
     "output_type": "stream",
     "text": [
      "epoch: 12, [batch: 397 / 568], examples_per_second: 11827.7091, train_label_loss: 0.0078, \n"
     ]
    },
    {
     "name": "stdout",
     "output_type": "stream",
     "text": [
      "epoch: 12, [batch: 454 / 568], examples_per_second: 11857.9946, train_label_loss: 0.0181, \n"
     ]
    },
    {
     "name": "stdout",
     "output_type": "stream",
     "text": [
      "epoch: 12, [batch: 511 / 568], examples_per_second: 11707.2197, train_label_loss: 0.1087, \n"
     ]
    },
    {
     "name": "stdout",
     "output_type": "stream",
     "text": [
      "=============================================================\n",
      "epoch: 12, source_val_acc_label: 0.9411, source_val_label_loss: 0.2540, target_val_acc_label: 0.8056, target_val_label_loss: 0.9510, \n",
      "=============================================================\n"
     ]
    },
    {
     "name": "stdout",
     "output_type": "stream",
     "text": [
      "epoch: 13, [batch: 1 / 568], examples_per_second: 138.5832, train_label_loss: 0.0600, \n"
     ]
    },
    {
     "name": "stdout",
     "output_type": "stream",
     "text": [
      "epoch: 13, [batch: 57 / 568], examples_per_second: 11597.6937, train_label_loss: 0.0633, \n"
     ]
    },
    {
     "name": "stdout",
     "output_type": "stream",
     "text": [
      "epoch: 13, [batch: 114 / 568], examples_per_second: 11733.3085, train_label_loss: 0.0217, \n"
     ]
    },
    {
     "name": "stdout",
     "output_type": "stream",
     "text": [
      "epoch: 13, [batch: 171 / 568], examples_per_second: 11817.3955, train_label_loss: 0.0072, \n"
     ]
    },
    {
     "name": "stdout",
     "output_type": "stream",
     "text": [
      "epoch: 13, [batch: 227 / 568], examples_per_second: 11740.0018, train_label_loss: 0.0068, \n"
     ]
    },
    {
     "name": "stdout",
     "output_type": "stream",
     "text": [
      "epoch: 13, [batch: 284 / 568], examples_per_second: 11760.8788, train_label_loss: 0.0195, \n"
     ]
    },
    {
     "name": "stdout",
     "output_type": "stream",
     "text": [
      "epoch: 13, [batch: 341 / 568], examples_per_second: 11782.8733, train_label_loss: 0.0094, \n"
     ]
    },
    {
     "name": "stdout",
     "output_type": "stream",
     "text": [
      "epoch: 13, [batch: 397 / 568], examples_per_second: 11811.3900, train_label_loss: 0.0051, \n"
     ]
    },
    {
     "name": "stdout",
     "output_type": "stream",
     "text": [
      "epoch: 13, [batch: 454 / 568], examples_per_second: 11790.1686, train_label_loss: 0.0032, \n"
     ]
    },
    {
     "name": "stdout",
     "output_type": "stream",
     "text": [
      "epoch: 13, [batch: 511 / 568], examples_per_second: 11757.2775, train_label_loss: 0.0052, \n"
     ]
    },
    {
     "name": "stdout",
     "output_type": "stream",
     "text": [
      "=============================================================\n",
      "epoch: 13, source_val_acc_label: 0.8669, source_val_label_loss: 0.9320, target_val_acc_label: 0.7572, target_val_label_loss: 1.7002, \n",
      "=============================================================\n"
     ]
    },
    {
     "name": "stdout",
     "output_type": "stream",
     "text": [
      "Patience (3) exhausted\n"
     ]
    }
   ],
   "source": [
    "jig = Vanilla_Train_Eval_Test_Jig(\n",
    "    model=model,\n",
    "    path_to_best_model=p.BEST_MODEL_PATH,\n",
    "    device=p.device,\n",
    "    label_loss_object=torch.nn.NLLLoss(),\n",
    ")\n",
    "\n",
    "jig.train(\n",
    "    train_iterable=datasets.source.processed.train,\n",
    "    source_val_iterable=datasets.source.processed.val,\n",
    "    target_val_iterable=datasets.target.processed.val,\n",
    "    patience=p.patience,\n",
    "    num_epochs=p.n_epoch,\n",
    "    num_logs_per_epoch=p.NUM_LOGS_PER_EPOCH,\n",
    "    criteria_for_best=p.criteria_for_best\n",
    ")"
   ]
  },
  {
   "cell_type": "code",
   "execution_count": 14,
   "id": "4bc2ac17",
   "metadata": {
    "execution": {
     "iopub.execute_input": "2022-03-25T20:54:45.603842Z",
     "iopub.status.busy": "2022-03-25T20:54:45.603463Z",
     "iopub.status.idle": "2022-03-25T20:54:45.605974Z",
     "shell.execute_reply": "2022-03-25T20:54:45.605652Z"
    },
    "papermill": {
     "duration": 0.061187,
     "end_time": "2022-03-25T20:54:45.606059",
     "exception": false,
     "start_time": "2022-03-25T20:54:45.544872",
     "status": "completed"
    },
    "tags": []
   },
   "outputs": [],
   "source": [
    "total_experiment_time_secs = time.time() - start_time_secs"
   ]
  },
  {
   "cell_type": "code",
   "execution_count": 15,
   "id": "cae88f23",
   "metadata": {
    "execution": {
     "iopub.execute_input": "2022-03-25T20:54:45.736987Z",
     "iopub.status.busy": "2022-03-25T20:54:45.736102Z",
     "iopub.status.idle": "2022-03-25T20:54:56.214713Z",
     "shell.execute_reply": "2022-03-25T20:54:56.213961Z"
    },
    "papermill": {
     "duration": 10.55218,
     "end_time": "2022-03-25T20:54:56.214905",
     "exception": false,
     "start_time": "2022-03-25T20:54:45.662725",
     "status": "completed"
    },
    "tags": []
   },
   "outputs": [],
   "source": [
    "source_test_label_accuracy, source_test_label_loss = jig.test(datasets.source.processed.test)\n",
    "target_test_label_accuracy, target_test_label_loss = jig.test(datasets.target.processed.test)\n",
    "\n",
    "source_val_label_accuracy, source_val_label_loss = jig.test(datasets.source.processed.val)\n",
    "target_val_label_accuracy, target_val_label_loss = jig.test(datasets.target.processed.val)\n",
    "\n",
    "history = jig.get_history()\n",
    "\n",
    "total_epochs_trained = len(history[\"epoch_indices\"])\n",
    "\n",
    "val_dl = wrap_in_dataloader(p, Sequence_Aggregator((datasets.source.original.val, datasets.target.original.val)))\n",
    "\n",
    "confusion = confusion_by_domain_over_dataloader(model, p.device, val_dl, forward_uses_domain=False)\n",
    "per_domain_accuracy = per_domain_accuracy_from_confusion(confusion)\n",
    "\n",
    "# Add a key to per_domain_accuracy for if it was a source domain\n",
    "for domain, accuracy in per_domain_accuracy.items():\n",
    "    per_domain_accuracy[domain] = {\n",
    "        \"accuracy\": accuracy,\n",
    "        \"source?\": domain in p.domains_source\n",
    "    }\n",
    "\n",
    "# Do an independent accuracy assesment JUST TO BE SURE!\n",
    "# _source_test_label_accuracy = independent_accuracy_assesment(model, datasets.source.processed.test, p.device)\n",
    "# _target_test_label_accuracy = independent_accuracy_assesment(model, datasets.target.processed.test, p.device)\n",
    "# _source_val_label_accuracy = independent_accuracy_assesment(model, datasets.source.processed.val, p.device)\n",
    "# _target_val_label_accuracy = independent_accuracy_assesment(model, datasets.target.processed.val, p.device)\n",
    "\n",
    "# assert(_source_test_label_accuracy == source_test_label_accuracy)\n",
    "# assert(_target_test_label_accuracy == target_test_label_accuracy)\n",
    "# assert(_source_val_label_accuracy == source_val_label_accuracy)\n",
    "# assert(_target_val_label_accuracy == target_val_label_accuracy)\n",
    "\n",
    "###################################\n",
    "# Write out the results\n",
    "###################################\n",
    "\n",
    "experiment = {\n",
    "    \"experiment_name\": p.experiment_name,\n",
    "    \"parameters\": p,\n",
    "    \"results\": {\n",
    "        \"source_test_label_accuracy\": source_test_label_accuracy,\n",
    "        \"source_test_label_loss\": source_test_label_loss,\n",
    "        \"target_test_label_accuracy\": target_test_label_accuracy,\n",
    "        \"target_test_label_loss\": target_test_label_loss,\n",
    "        \"source_val_label_accuracy\": source_val_label_accuracy,\n",
    "        \"source_val_label_loss\": source_val_label_loss,\n",
    "        \"target_val_label_accuracy\": target_val_label_accuracy,\n",
    "        \"target_val_label_loss\": target_val_label_loss,\n",
    "        \"total_epochs_trained\": total_epochs_trained,\n",
    "        \"total_experiment_time_secs\": total_experiment_time_secs,\n",
    "        \"confusion\": confusion,\n",
    "        \"per_domain_accuracy\": per_domain_accuracy,\n",
    "    },\n",
    "    \"history\": history,\n",
    "    \"dataset_metrics\": get_dataset_metrics(datasets, \"cnn\"),\n",
    "}"
   ]
  },
  {
   "cell_type": "code",
   "execution_count": 16,
   "id": "74c318cf",
   "metadata": {
    "execution": {
     "iopub.execute_input": "2022-03-25T20:54:56.349669Z",
     "iopub.status.busy": "2022-03-25T20:54:56.346438Z",
     "iopub.status.idle": "2022-03-25T20:54:56.555218Z",
     "shell.execute_reply": "2022-03-25T20:54:56.555956Z"
    },
    "papermill": {
     "duration": 0.281527,
     "end_time": "2022-03-25T20:54:56.556173",
     "exception": false,
     "start_time": "2022-03-25T20:54:56.274646",
     "status": "completed"
    },
    "tags": []
   },
   "outputs": [
    {
     "data": {
      "text/plain": [
       "<AxesSubplot:title={'center':'Source Train Label Loss vs Source Val Label Loss'}, xlabel='Epoch'>"
      ]
     },
     "execution_count": 16,
     "metadata": {},
     "output_type": "execute_result"
    },
    {
     "data": {
      "image/png": "[encoded data removed]",
      "text/plain": [
       "<Figure size 1080x504 with 1 Axes>"
      ]
     },
     "metadata": {
      "needs_background": "light"
     },
     "output_type": "display_data"
    }
   ],
   "source": [
    "get_loss_curve(experiment)"
   ]
  },
  {
   "cell_type": "code",
   "execution_count": 17,
   "id": "59376601",
   "metadata": {
    "execution": {
     "iopub.execute_input": "2022-03-25T20:54:56.698557Z",
     "iopub.status.busy": "2022-03-25T20:54:56.697743Z",
     "iopub.status.idle": "2022-03-25T20:54:56.946458Z",
     "shell.execute_reply": "2022-03-25T20:54:56.946750Z"
    },
    "papermill": {
     "duration": 0.330296,
     "end_time": "2022-03-25T20:54:56.946847",
     "exception": false,
     "start_time": "2022-03-25T20:54:56.616551",
     "status": "completed"
    },
    "tags": []
   },
   "outputs": [
    {
     "data": {
      "text/plain": [
       "<AxesSubplot:title={'center':'Results'}>"
      ]
     },
     "execution_count": 17,
     "metadata": {},
     "output_type": "execute_result"
    },
    {
     "data": {
      "image/png": "[encoded data removed]",
      "text/plain": [
       "<Figure size 1080x504 with 1 Axes>"
      ]
     },
     "metadata": {
      "needs_background": "light"
     },
     "output_type": "display_data"
    }
   ],
   "source": [
    "get_results_table(experiment)"
   ]
  },
  {
   "cell_type": "code",
   "execution_count": 18,
   "id": "e80c5c98",
   "metadata": {
    "execution": {
     "iopub.execute_input": "2022-03-25T20:54:57.088073Z",
     "iopub.status.busy": "2022-03-25T20:54:57.086901Z",
     "iopub.status.idle": "2022-03-25T20:54:57.238086Z",
     "shell.execute_reply": "2022-03-25T20:54:57.237242Z"
    },
    "papermill": {
     "duration": 0.234453,
     "end_time": "2022-03-25T20:54:57.238279",
     "exception": false,
     "start_time": "2022-03-25T20:54:57.003826",
     "status": "completed"
    },
    "tags": []
   },
   "outputs": [
    {
     "data": {
      "text/plain": [
       "<AxesSubplot:title={'center':'Per Domain Accuracy'}, xlabel='domain'>"
      ]
     },
     "execution_count": 18,
     "metadata": {},
     "output_type": "execute_result"
    },
    {
     "data": {
      "image/png": "[encoded data removed]",
      "text/plain": [
       "<Figure size 1080x504 with 1 Axes>"
      ]
     },
     "metadata": {
      "needs_background": "light"
     },
     "output_type": "display_data"
    }
   ],
   "source": [
    "get_domain_accuracies(experiment)"
   ]
  },
  {
   "cell_type": "code",
   "execution_count": 19,
   "id": "086fdd10",
   "metadata": {
    "execution": {
     "iopub.execute_input": "2022-03-25T20:54:57.360525Z",
     "iopub.status.busy": "2022-03-25T20:54:57.360152Z",
     "iopub.status.idle": "2022-03-25T20:54:57.364587Z",
     "shell.execute_reply": "2022-03-25T20:54:57.364273Z"
    },
    "papermill": {
     "duration": 0.066202,
     "end_time": "2022-03-25T20:54:57.364659",
     "exception": false,
     "start_time": "2022-03-25T20:54:57.298457",
     "status": "completed"
    },
    "tags": []
   },
   "outputs": [
    {
     "name": "stdout",
     "output_type": "stream",
     "text": [
      "Source Test Label Accuracy: 0.9966815571155073 Target Test Label Accuracy: 0.8766382921226861\n",
      "Source Val Label Accuracy: 0.9968405442001419 Target Val Label Accuracy: 0.881503416856492\n"
     ]
    }
   ],
   "source": [
    "print(\"Source Test Label Accuracy:\", experiment[\"results\"][\"source_test_label_accuracy\"], \"Target Test Label Accuracy:\", experiment[\"results\"][\"target_test_label_accuracy\"])\n",
    "print(\"Source Val Label Accuracy:\", experiment[\"results\"][\"source_val_label_accuracy\"], \"Target Val Label Accuracy:\", experiment[\"results\"][\"target_val_label_accuracy\"])"
   ]
  },
  {
   "cell_type": "code",
   "execution_count": 20,
   "id": "9f450536",
   "metadata": {
    "execution": {
     "iopub.execute_input": "2022-03-25T20:54:57.490417Z",
     "iopub.status.busy": "2022-03-25T20:54:57.490051Z",
     "iopub.status.idle": "2022-03-25T20:54:57.494940Z",
     "shell.execute_reply": "2022-03-25T20:54:57.494227Z"
    },
    "papermill": {
     "duration": 0.068888,
     "end_time": "2022-03-25T20:54:57.495101",
     "exception": false,
     "start_time": "2022-03-25T20:54:57.426213",
     "status": "completed"
    },
    "tags": [
     "experiment_json"
    ]
   },
   "outputs": [
    {
     "data": {
      "text/plain": [
       "'{\"experiment_name\": \"cnn_1:cores\", \"parameters\": {\"experiment_name\": \"cnn_1:cores\", \"device\": \"cuda\", \"lr\": 0.0001, \"labels\": [\"1-10.\", \"1-11.\", \"1-15.\", \"1-16.\", \"1-17.\", \"1-18.\", \"1-19.\", \"10-4.\", \"10-7.\", \"11-1.\", \"11-14.\", \"11-17.\", \"11-20.\", \"11-7.\", \"13-20.\", \"13-8.\", \"14-10.\", \"14-11.\", \"14-14.\", \"14-7.\", \"15-1.\", \"15-20.\", \"16-1.\", \"16-16.\", \"17-10.\", \"17-11.\", \"17-2.\", \"19-1.\", \"19-16.\", \"19-19.\", \"19-20.\", \"19-3.\", \"2-10.\", \"2-11.\", \"2-17.\", \"2-18.\", \"2-20.\", \"2-3.\", \"2-4.\", \"2-5.\", \"2-6.\", \"2-7.\", \"2-8.\", \"3-13.\", \"3-18.\", \"3-3.\", \"4-1.\", \"4-10.\", \"4-11.\", \"4-19.\", \"5-5.\", \"6-15.\", \"7-10.\", \"7-14.\", \"8-18.\", \"8-20.\", \"8-3.\", \"8-8.\"], \"batch_size\": 128, \"domains_source\": [1, 5], \"domains_target\": [2, 3, 4], \"normalize_source\": false, \"normalize_target\": false, \"num_examples_per_domain_per_label_source\": -1, \"num_examples_per_domain_per_label_target\": -1, \"torch_default_dtype\": \"torch.float32\", \"n_epoch\": 50, \"patience\": 3, \"criteria_for_best\": \"target_accuracy\", \"x_net\": [{\"class\": \"nnReshape\", \"kargs\": {\"shape\": [-1, 1, 2, 256]}}, {\"class\": \"Conv2d\", \"kargs\": {\"in_channels\": 1, \"out_channels\": 256, \"kernel_size\": [1, 7], \"bias\": false, \"padding\": [0, 3]}}, {\"class\": \"ReLU\", \"kargs\": {\"inplace\": true}}, {\"class\": \"BatchNorm2d\", \"kargs\": {\"num_features\": 256}}, {\"class\": \"Conv2d\", \"kargs\": {\"in_channels\": 256, \"out_channels\": 80, \"kernel_size\": [2, 7], \"bias\": true, \"padding\": [0, 3]}}, {\"class\": \"ReLU\", \"kargs\": {\"inplace\": true}}, {\"class\": \"BatchNorm2d\", \"kargs\": {\"num_features\": 80}}, {\"class\": \"Flatten\", \"kargs\": {}}, {\"class\": \"Linear\", \"kargs\": {\"in_features\": 20480, \"out_features\": 256}}, {\"class\": \"ReLU\", \"kargs\": {\"inplace\": true}}, {\"class\": \"BatchNorm1d\", \"kargs\": {\"num_features\": 256}}, {\"class\": \"Linear\", \"kargs\": {\"in_features\": 256, \"out_features\": 58}}], \"NUM_LOGS_PER_EPOCH\": 10, \"BEST_MODEL_PATH\": \"./best_model.pth\", \"pickle_name_source\": \"cores.stratified_ds.2022A.pkl\", \"pickle_name_target\": \"cores.stratified_ds.2022A.pkl\", \"dataset_seed\": 420, \"seed\": 420}, \"results\": {\"source_test_label_accuracy\": 0.9966815571155073, \"source_test_label_loss\": 0.018312720958582634, \"target_test_label_accuracy\": 0.8766382921226861, \"target_test_label_loss\": 0.5165060235337279, \"source_val_label_accuracy\": 0.9968405442001419, \"source_val_label_loss\": 0.017493076523246824, \"target_val_label_accuracy\": 0.881503416856492, \"target_val_label_loss\": 0.5074028971410075, \"total_epochs_trained\": 13, \"total_experiment_time_secs\": 113.45618534088135, \"confusion\": {\"1\": {\"15\": {\"15\": 202, \"11\": 1}, \"40\": {\"40\": 195}, \"57\": {\"57\": 180, \"9\": 1}, \"6\": {\"6\": 120, \"5\": 1}, \"28\": {\"28\": 36}, \"45\": {\"45\": 196, \"56\": 2}, \"8\": {\"8\": 178}, \"0\": {\"0\": 190, \"3\": 1}, \"1\": {\"1\": 127, \"9\": 1}, \"23\": {\"23\": 172}, \"13\": {\"13\": 198}, \"44\": {\"44\": 172}, \"50\": {\"50\": 199}, \"19\": {\"19\": 198, \"28\": 1}, \"20\": {\"20\": 179}, \"48\": {\"48\": 186}, \"55\": {\"55\": 286}, \"49\": {\"49\": 44}, \"46\": {\"46\": 176}, \"12\": {\"12\": 149}, \"21\": {\"21\": 157}, \"10\": {\"10\": 121, \"16\": 1}, \"32\": {\"32\": 42, \"9\": 1}, \"53\": {\"53\": 180}, \"31\": {\"31\": 39}, \"41\": {\"41\": 33}, \"56\": {\"56\": 210}, \"36\": {\"36\": 81}, \"52\": {\"52\": 169}, \"11\": {\"11\": 178, \"7\": 1}, \"17\": {\"17\": 81}, \"27\": {\"27\": 204}, \"43\": {\"43\": 184}, \"38\": {\"38\": 32}, \"22\": {\"22\": 174}, \"18\": {\"18\": 93}, \"2\": {\"2\": 49}, \"9\": {\"9\": 199}, \"35\": {\"35\": 48}, \"47\": {\"47\": 200}, \"3\": {\"3\": 178}, \"54\": {\"54\": 133}, \"51\": {\"51\": 199}, \"25\": {\"25\": 181}, \"29\": {\"29\": 178}, \"30\": {\"30\": 149, \"9\": 1}, \"5\": {\"5\": 205}, \"24\": {\"24\": 135}, \"4\": {\"4\": 167}, \"37\": {\"37\": 40}, \"39\": {\"39\": 36}, \"16\": {\"16\": 176, \"11\": 1}, \"42\": {\"23\": 1, \"42\": 50}, \"33\": {\"33\": 41}, \"14\": {\"14\": 31, \"12\": 1}, \"26\": {\"26\": 30}, \"7\": {\"7\": 37}, \"34\": {\"34\": 30}}, \"5\": {\"16\": {\"16\": 194, \"25\": 1}, \"26\": {\"26\": 32}, \"1\": {\"1\": 186, \"9\": 1}, \"9\": {\"9\": 196}, \"50\": {\"50\": 187}, \"25\": {\"25\": 224, \"50\": 1}, \"17\": {\"17\": 144, \"27\": 1}, \"46\": {\"46\": 186, \"3\": 1, \"0\": 1}, \"45\": {\"45\": 157}, \"55\": {\"55\": 249}, \"35\": {\"35\": 45, \"40\": 1, \"27\": 1}, \"8\": {\"8\": 192}, \"51\": {\"51\": 190}, \"13\": {\"13\": 203}, \"31\": {\"31\": 45}, \"27\": {\"27\": 203, \"9\": 1}, \"56\": {\"56\": 193}, \"44\": {\"44\": 190, \"56\": 1, \"6\": 1}, \"5\": {\"5\": 161}, \"43\": {\"43\": 193}, \"20\": {\"20\": 184}, \"36\": {\"36\": 118}, \"6\": {\"6\": 154, \"45\": 5, \"5\": 2}, \"57\": {\"57\": 168}, \"32\": {\"32\": 44}, \"23\": {\"23\": 158}, \"40\": {\"40\": 159}, \"47\": {\"47\": 124, \"57\": 1}, \"39\": {\"39\": 26}, \"54\": {\"54\": 141}, \"21\": {\"21\": 181, \"47\": 1, \"20\": 1}, \"2\": {\"2\": 36}, \"28\": {\"28\": 40, \"42\": 1}, \"38\": {\"38\": 44}, \"24\": {\"24\": 104}, \"10\": {\"10\": 89}, \"29\": {\"29\": 165}, \"15\": {\"15\": 208, \"11\": 1}, \"12\": {\"12\": 119, \"46\": 4}, \"53\": {\"53\": 193}, \"37\": {\"37\": 32}, \"19\": {\"19\": 193, \"27\": 1}, \"14\": {\"14\": 55}, \"11\": {\"11\": 202, \"23\": 1}, \"0\": {\"0\": 157}, \"49\": {\"49\": 46}, \"4\": {\"4\": 125}, \"52\": {\"52\": 175, \"9\": 1}, \"34\": {\"34\": 45}, \"3\": {\"3\": 128, \"56\": 1}, \"48\": {\"48\": 172, \"9\": 1}, \"42\": {\"42\": 53}, \"18\": {\"18\": 84}, \"22\": {\"22\": 34, \"56\": 1}, \"41\": {\"41\": 35, \"33\": 1}, \"30\": {\"30\": 160}, \"7\": {\"7\": 42}, \"33\": {\"33\": 44}}, \"4\": {\"45\": {\"4\": 34, \"45\": 88}, \"55\": {\"55\": 247}, \"57\": {\"57\": 128, \"29\": 1}, \"43\": {\"43\": 185, \"23\": 1}, \"1\": {\"1\": 54}, \"21\": {\"6\": 81, \"21\": 41, \"45\": 8, \"12\": 29, \"9\": 10}, \"51\": {\"51\": 183}, \"30\": {\"30\": 56, \"6\": 2}, \"25\": {\"25\": 203}, \"35\": {\"35\": 34, \"33\": 9, \"34\": 6, \"29\": 1}, \"0\": {\"0\": 101, \"46\": 2}, \"36\": {\"51\": 94, \"1\": 20, \"14\": 4}, \"20\": {\"20\": 169}, \"56\": {\"56\": 193}, \"10\": {\"10\": 173}, \"8\": {\"8\": 182}, \"50\": {\"50\": 163, \"46\": 2, \"6\": 1, \"45\": 2}, \"27\": {\"27\": 192}, \"23\": {\"23\": 183}, \"17\": {\"17\": 99, \"27\": 1}, \"3\": {\"50\": 128, \"46\": 8, \"3\": 18, \"45\": 1, \"6\": 2, \"56\": 1}, \"18\": {\"18\": 136, \"23\": 1}, \"9\": {\"9\": 190}, \"47\": {\"47\": 152}, \"7\": {\"39\": 4, \"43\": 3, \"7\": 16, \"12\": 7, \"14\": 3, \"31\": 1}, \"6\": {\"50\": 5, \"6\": 72, \"46\": 43, \"45\": 5, \"3\": 7, \"5\": 5, \"56\": 3}, \"12\": {\"12\": 114, \"6\": 1}, \"13\": {\"13\": 192}, \"19\": {\"19\": 182}, \"29\": {\"29\": 158, \"9\": 1}, \"46\": {\"46\": 147, \"56\": 4, \"0\": 12, \"44\": 4, \"3\": 22, \"6\": 5, \"22\": 1}, \"26\": {\"32\": 26, \"26\": 4, \"42\": 1}, \"24\": {\"24\": 71}, \"5\": {\"5\": 90, \"56\": 7, \"45\": 19, \"6\": 17, \"0\": 1, \"44\": 2}, \"48\": {\"48\": 195}, \"54\": {\"54\": 139}, \"31\": {\"11\": 31, \"31\": 5}, \"44\": {\"44\": 166}, \"11\": {\"11\": 130, \"28\": 1}, \"15\": {\"15\": 192, \"11\": 1}, \"49\": {\"43\": 5, \"49\": 22}, \"28\": {\"18\": 33, \"25\": 1, \"19\": 7, \"26\": 1, \"15\": 1}, \"22\": {\"22\": 114, \"3\": 34, \"5\": 10, \"56\": 2}, \"34\": {\"32\": 29, \"15\": 2}, \"53\": {\"53\": 177}, \"4\": {\"4\": 138, \"27\": 27, \"9\": 1}, \"52\": {\"52\": 148, \"21\": 1}, \"40\": {\"40\": 189}, \"33\": {\"33\": 46}, \"38\": {\"31\": 5, \"43\": 19, \"35\": 19, \"21\": 3, \"33\": 5}, \"14\": {\"14\": 19, \"57\": 1}, \"2\": {\"27\": 35, \"32\": 10}, \"16\": {\"16\": 123, \"11\": 1}, \"37\": {\"37\": 31}, \"42\": {\"42\": 43}, \"41\": {\"42\": 3, \"41\": 42}, \"32\": {\"31\": 33}, \"39\": {\"39\": 27}}, \"2\": {\"51\": {\"51\": 170}, \"13\": {\"13\": 148}, \"48\": {\"48\": 192, \"9\": 1}, \"54\": {\"54\": 139}, \"30\": {\"30\": 179, \"6\": 1}, \"44\": {\"40\": 43, \"44\": 85, \"45\": 1}, \"43\": {\"43\": 188, \"16\": 1}, \"49\": {\"25\": 30, \"37\": 3, \"42\": 1}, \"6\": {\"6\": 147, \"50\": 1, \"45\": 3, \"56\": 1, \"46\": 5, \"5\": 2}, \"55\": {\"55\": 211}, \"19\": {\"19\": 196}, \"11\": {\"11\": 198}, \"21\": {\"12\": 135, \"21\": 11, \"46\": 4, \"6\": 2, \"44\": 2}, \"23\": {\"23\": 186}, \"53\": {\"53\": 174}, \"5\": {\"3\": 3, \"5\": 147, \"56\": 3, \"0\": 1}, \"34\": {\"32\": 34, \"23\": 1, \"19\": 1}, \"1\": {\"1\": 139, \"45\": 1}, \"8\": {\"8\": 203}, \"35\": {\"40\": 22, \"33\": 14, \"27\": 1, \"19\": 7}, \"40\": {\"40\": 176}, \"29\": {\"29\": 159, \"9\": 2}, \"47\": {\"47\": 186}, \"24\": {\"24\": 121}, \"57\": {\"57\": 181}, \"52\": {\"52\": 154, \"9\": 1, \"21\": 1}, \"56\": {\"27\": 9, \"56\": 167, \"10\": 1, \"3\": 1, \"22\": 2}, \"22\": {\"22\": 174}, \"0\": {\"0\": 61}, \"25\": {\"25\": 234}, \"16\": {\"16\": 189, \"11\": 1}, \"3\": {\"50\": 97, \"3\": 22}, \"42\": {\"19\": 43, \"31\": 4}, \"10\": {\"10\": 138, \"11\": 1, \"31\": 1}, \"4\": {\"4\": 199, \"9\": 1}, \"12\": {\"12\": 108, \"46\": 8, \"6\": 3}, \"17\": {\"17\": 132}, \"9\": {\"9\": 184, \"4\": 2, \"27\": 8, \"29\": 1}, \"20\": {\"20\": 176, \"8\": 1, \"12\": 1}, \"45\": {\"45\": 152, \"4\": 11}, \"27\": {\"27\": 197, \"8\": 1}, \"15\": {\"15\": 194}, \"14\": {\"43\": 9, \"29\": 6, \"14\": 8, \"2\": 6, \"38\": 1}, \"50\": {\"50\": 163, \"45\": 8}, \"26\": {\"26\": 34}, \"33\": {\"33\": 37, \"29\": 1}, \"18\": {\"18\": 63}, \"36\": {\"51\": 111, \"1\": 25, \"8\": 9}, \"46\": {\"46\": 156, \"3\": 6, \"6\": 1, \"56\": 1}, \"39\": {\"39\": 34, \"36\": 1}, \"37\": {\"37\": 45, \"50\": 1}, \"7\": {\"7\": 44, \"12\": 1}, \"28\": {\"15\": 13, \"18\": 12, \"32\": 1, \"26\": 1, \"34\": 9}, \"41\": {\"2\": 18, \"4\": 1, \"37\": 2, \"32\": 1, \"27\": 3, \"30\": 1, \"21\": 1}, \"2\": {\"36\": 42, \"32\": 2}, \"31\": {\"14\": 20, \"42\": 15, \"31\": 2, \"29\": 1}, \"38\": {\"49\": 18, \"21\": 6, \"2\": 2}, \"32\": {\"32\": 36}}, \"3\": {\"16\": {\"16\": 194, \"11\": 1}, \"52\": {\"21\": 10, \"52\": 168}, \"10\": {\"10\": 82}, \"22\": {\"22\": 176, \"52\": 1}, \"1\": {\"1\": 129}, \"30\": {\"30\": 150}, \"29\": {\"29\": 159, \"57\": 1}, \"0\": {\"0\": 159}, \"23\": {\"23\": 182}, \"36\": {\"51\": 78, \"1\": 41, \"8\": 9}, \"53\": {\"53\": 184}, \"3\": {\"50\": 148, \"3\": 37, \"6\": 1}, \"20\": {\"20\": 166}, \"38\": {\"38\": 37}, \"46\": {\"46\": 173, \"6\": 1, \"3\": 1, \"50\": 1}, \"27\": {\"27\": 180}, \"56\": {\"56\": 170, \"3\": 1}, \"19\": {\"19\": 194}, \"54\": {\"54\": 125, \"26\": 1}, \"18\": {\"18\": 105}, \"50\": {\"50\": 179, \"45\": 4, \"3\": 1, \"6\": 1}, \"13\": {\"13\": 160}, \"43\": {\"43\": 170}, \"11\": {\"11\": 192}, \"44\": {\"44\": 65, \"40\": 46, \"45\": 1}, \"12\": {\"6\": 24, \"5\": 2, \"12\": 81, \"46\": 10}, \"55\": {\"55\": 213}, \"26\": {\"42\": 29, \"39\": 5}, \"28\": {\"28\": 37}, \"14\": {\"14\": 19, \"29\": 14, \"56\": 11, \"2\": 4, \"43\": 4, \"27\": 1}, \"33\": {\"9\": 21, \"49\": 6, \"32\": 2, \"2\": 1, \"4\": 6, \"48\": 2}, \"32\": {\"32\": 36}, \"17\": {\"17\": 133, \"7\": 1, \"42\": 1}, \"25\": {\"25\": 213}, \"39\": {\"41\": 2, \"14\": 5, \"36\": 1, \"32\": 14, \"27\": 1, \"30\": 1}, \"51\": {\"51\": 163}, \"47\": {\"47\": 116, \"9\": 1, \"52\": 2}, \"41\": {\"12\": 2, \"2\": 25, \"49\": 6, \"9\": 4, \"21\": 1}, \"21\": {\"21\": 125, \"44\": 8, \"6\": 7, \"12\": 17, \"0\": 2, \"46\": 1}, \"9\": {\"9\": 190, \"57\": 1}, \"6\": {\"50\": 6, \"6\": 74, \"45\": 16, \"46\": 5, \"5\": 2, \"3\": 7, \"56\": 4}, \"15\": {\"15\": 199, \"11\": 1, \"23\": 1}, \"45\": {\"45\": 75, \"4\": 4}, \"40\": {\"40\": 172, \"9\": 1}, \"57\": {\"57\": 153, \"9\": 2}, \"5\": {\"5\": 134, \"3\": 2, \"45\": 7, \"56\": 3, \"0\": 2}, \"48\": {\"48\": 144, \"9\": 2}, \"37\": {\"37\": 39}, \"34\": {\"34\": 43}, \"7\": {\"7\": 46}, \"24\": {\"24\": 133}, \"49\": {\"49\": 14, \"43\": 5, \"28\": 4, \"13\": 2}, \"4\": {\"4\": 185}, \"8\": {\"8\": 193}, \"42\": {\"19\": 35, \"2\": 3}, \"2\": {\"2\": 42}, \"31\": {\"42\": 15, \"19\": 2, \"31\": 7, \"14\": 11, \"29\": 1}, \"35\": {\"35\": 33, \"14\": 3, \"29\": 1, \"33\": 1}}}, \"per_domain_accuracy\": {\"1\": {\"accuracy\": 0.9980935434672089, \"source?\": true}, \"5\": {\"accuracy\": 0.9955503206386599, \"source?\": true}, \"4\": {\"accuracy\": 0.8629043551323344, \"source?\": false}, \"2\": {\"accuracy\": 0.8828457446808511, \"source?\": false}, \"3\": {\"accuracy\": 0.898339964329812, \"source?\": false}}}, \"history\": {\"epoch_indices\": [1, 2, 3, 4, 5, 6, 7, 8, 9, 10, 11, 12, 13], \"train_label_loss\": [1.1143992039519297, 0.17232609206390842, 0.0444436353355856, 0.03282777817336134, 0.018439775637783845, 0.009643857993683974, 0.010430901190003668, 0.008718087152015537, 0.03844291922754385, 0.007709242174365807, 0.02363579836428087, 0.010287702655416429, 0.022178510527378997], \"source_val_label_loss\": [0.28526875132420026, 0.06477875286926989, 0.03288189893527353, 0.024339305801836193, 0.018452333864664324, 0.020872317036980243, 0.06250818460019397, 0.3024163695632434, 0.017524656555310013, 0.029647060087881982, 0.02453718897046857, 0.25397539723542384, 0.9319990094079346], \"target_val_label_loss\": [0.842169288285943, 0.5835271285370339, 0.4966259364818418, 0.5327512694652691, 0.47161134609649347, 0.5890320454572522, 0.7420063786381899, 1.2033713006002957, 0.5068164223501849, 0.645375941641802, 0.5801363687009312, 0.9510128484215847, 1.700236567924189], \"source_val_acc_label\": [0.9608614352956348, 0.9929073441227674, 0.9956799277838674, 0.9967115868205558, 0.9963247146817976, 0.9962602359920046, 0.986266039074086, 0.9157908311303115, 0.9968405442001419, 0.9924559932942163, 0.9961312786124186, 0.9410664775291766, 0.8669159842671997], \"target_val_acc_label\": [0.7922095671981777, 0.8602277904328018, 0.8700227790432802, 0.8638268792710706, 0.8758997722095672, 0.8587699316628702, 0.8425968109339408, 0.7527107061503416, 0.881503416856492, 0.8611389521640092, 0.8525740318906606, 0.8055580865603644, 0.7571753986332574]}, \"dataset_metrics\": {\"source\": {\"train\": {\"n_unique_x\": 72578, \"n_unique_y\": 58, \"n_batch/episode\": 568}, \"val\": {\"n_unique_x\": 15509, \"n_unique_y\": 58, \"n_batch/episode\": 122}, \"test\": {\"n_unique_x\": 15670, \"n_unique_y\": 58, \"n_batch/episode\": 123}}, \"target\": {\"train\": {\"n_unique_x\": 102771, \"n_unique_y\": 58, \"n_batch/episode\": 803}, \"val\": {\"n_unique_x\": 21950, \"n_unique_y\": 58, \"n_batch/episode\": 172}, \"test\": {\"n_unique_x\": 22203, \"n_unique_y\": 58, \"n_batch/episode\": 174}}}}'"
      ]
     },
     "execution_count": 20,
     "metadata": {},
     "output_type": "execute_result"
    }
   ],
   "source": [
    "json.dumps(experiment)"
   ]
  }
 ],
 "metadata": {
  "celltoolbar": "Tags",
  "kernelspec": {
   "display_name": "Python 3 (ipykernel)",
   "language": "python",
   "name": "python3"
  },
  "language_info": {
   "codemirror_mode": {
    "name": "ipython",
    "version": 3
   },
   "file_extension": ".py",
   "mimetype": "text/x-python",
   "name": "python",
   "nbconvert_exporter": "python",
   "pygments_lexer": "ipython3",
   "version": "3.8.12"
  },
  "papermill": {
   "default_parameters": {},
   "duration": 129.959345,
   "end_time": "2022-03-25T20:54:59.474992",
   "environment_variables": {},
   "exception": null,
   "input_path": "/root/csc500-main/csc500-notebooks/templates/cnn_template.ipynb",
   "output_path": "trial.ipynb",
   "parameters": {
    "parameters": {
     "BEST_MODEL_PATH": "./best_model.pth",
     "NUM_LOGS_PER_EPOCH": 10,
     "batch_size": 128,
     "criteria_for_best": "target_accuracy",
     "dataset_seed": 420,
     "device": "cuda",
     "domains_source": [
      1,
      5
     ],
     "domains_target": [
      2,
      3,
      4
     ],
     "experiment_name": "cnn_1:cores",
     "labels": [
      "1-10.",
      "1-11.",
      "1-15.",
      "1-16.",
      "1-17.",
      "1-18.",
      "1-19.",
      "10-4.",
      "10-7.",
      "11-1.",
      "11-14.",
      "11-17.",
      "11-20.",
      "11-7.",
      "13-20.",
      "13-8.",
      "14-10.",
      "14-11.",
      "14-14.",
      "14-7.",
      "15-1.",
      "15-20.",
      "16-1.",
      "16-16.",
      "17-10.",
      "17-11.",
      "17-2.",
      "19-1.",
      "19-16.",
      "19-19.",
      "19-20.",
      "19-3.",
      "2-10.",
      "2-11.",
      "2-17.",
      "2-18.",
      "2-20.",
      "2-3.",
      "2-4.",
      "2-5.",
      "2-6.",
      "2-7.",
      "2-8.",
      "3-13.",
      "3-18.",
      "3-3.",
      "4-1.",
      "4-10.",
      "4-11.",
      "4-19.",
      "5-5.",
      "6-15.",
      "7-10.",
      "7-14.",
      "8-18.",
      "8-20.",
      "8-3.",
      "8-8."
     ],
     "lr": 0.0001,
     "n_epoch": 50,
     "normalize_source": false,
     "normalize_target": false,
     "num_examples_per_domain_per_label_source": -1,
     "num_examples_per_domain_per_label_target": -1,
     "patience": 3,
     "pickle_name_source": "cores.stratified_ds.2022A.pkl",
     "pickle_name_target": "cores.stratified_ds.2022A.pkl",
     "seed": 420,
     "torch_default_dtype": "torch.float32",
     "x_net": [
      {
       "class": "nnReshape",
       "kargs": {
        "shape": [
         -1,
         1,
         2,
         256
        ]
       }
      },
      {
       "class": "Conv2d",
       "kargs": {
        "bias": false,
        "in_channels": 1,
        "kernel_size": [
         1,
         7
        ],
        "out_channels": 256,
        "padding": [
         0,
         3
        ]
       }
      },
      {
       "class": "ReLU",
       "kargs": {
        "inplace": true
       }
      },
      {
       "class": "BatchNorm2d",
       "kargs": {
        "num_features": 256
       }
      },
      {
       "class": "Conv2d",
       "kargs": {
        "bias": true,
        "in_channels": 256,
        "kernel_size": [
         2,
         7
        ],
        "out_channels": 80,
        "padding": [
         0,
         3
        ]
       }
      },
      {
       "class": "ReLU",
       "kargs": {
        "inplace": true
       }
      },
      {
       "class": "BatchNorm2d",
       "kargs": {
        "num_features": 80
       }
      },
      {
       "class": "Flatten",
       "kargs": {}
      },
      {
       "class": "Linear",
       "kargs": {
        "in_features": 20480,
        "out_features": 256
       }
      },
      {
       "class": "ReLU",
       "kargs": {
        "inplace": true
       }
      },
      {
       "class": "BatchNorm1d",
       "kargs": {
        "num_features": 256
       }
      },
      {
       "class": "Linear",
       "kargs": {
        "in_features": 256,
        "out_features": 58
       }
      }
     ]
    }
   },
   "start_time": "2022-03-25T20:52:49.515647",
   "version": "2.3.4"
  }
 },
 "nbformat": 4,
 "nbformat_minor": 5
}