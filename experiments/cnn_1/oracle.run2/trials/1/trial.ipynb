{
 "cells": [
  {
   "cell_type": "code",
   "execution_count": 1,
   "id": "2324682e",
   "metadata": {
    "execution": {
     "iopub.execute_input": "2022-03-25T23:53:33.111418Z",
     "iopub.status.busy": "2022-03-25T23:53:33.110547Z",
     "iopub.status.idle": "2022-03-25T23:53:34.366044Z",
     "shell.execute_reply": "2022-03-25T23:53:34.365190Z"
    },
    "papermill": {
     "duration": 1.294419,
     "end_time": "2022-03-25T23:53:34.366249",
     "exception": false,
     "start_time": "2022-03-25T23:53:33.071830",
     "status": "completed"
    },
    "tags": []
   },
   "outputs": [],
   "source": [
    "import os, json, sys, time, random\n",
    "import numpy as np\n",
    "import torch\n",
    "from  easydict import EasyDict\n",
    "from math import floor\n",
    "from easydict import EasyDict\n",
    "\n",
    "from steves_utils.vanilla_train_eval_test_jig import  Vanilla_Train_Eval_Test_Jig\n",
    "\n",
    "from steves_utils.torch_utils import get_dataset_metrics, independent_accuracy_assesment\n",
    "from steves_models.configurable_vanilla import Configurable_Vanilla\n",
    "from steves_utils.torch_sequential_builder import build_sequential\n",
    "from steves_utils.lazy_map import Lazy_Map\n",
    "from steves_utils.sequence_aggregator import Sequence_Aggregator\n",
    "\n",
    "from steves_utils.stratified_dataset.traditional_accessor import Traditional_Accessor_Factory\n",
    "\n",
    "from steves_utils.cnn_do_report import (\n",
    "    get_loss_curve,\n",
    "    get_results_table,\n",
    "    get_parameters_table,\n",
    "    get_domain_accuracies,\n",
    ")\n",
    "\n",
    "from steves_utils.torch_utils import (\n",
    "    confusion_by_domain_over_dataloader,\n",
    "    independent_accuracy_assesment\n",
    ")\n",
    "\n",
    "from steves_utils.utils_v2 import (\n",
    "    per_domain_accuracy_from_confusion,\n",
    "    get_datasets_base_path\n",
    ")\n",
    "\n",
    "# from steves_utils.ptn_do_report import TBD"
   ]
  },
  {
   "cell_type": "code",
   "execution_count": 2,
   "id": "1b29e3fe",
   "metadata": {
    "execution": {
     "iopub.execute_input": "2022-03-25T23:53:34.404975Z",
     "iopub.status.busy": "2022-03-25T23:53:34.404578Z",
     "iopub.status.idle": "2022-03-25T23:53:34.407301Z",
     "shell.execute_reply": "2022-03-25T23:53:34.406884Z"
    },
    "papermill": {
     "duration": 0.022116,
     "end_time": "2022-03-25T23:53:34.407372",
     "exception": false,
     "start_time": "2022-03-25T23:53:34.385256",
     "status": "completed"
    },
    "tags": []
   },
   "outputs": [],
   "source": [
    "required_parameters = {\n",
    "    \"experiment_name\",\n",
    "    \"lr\",\n",
    "    \"device\",\n",
    "    \"dataset_seed\",\n",
    "    \"seed\",\n",
    "    \"labels\",\n",
    "    \"domains_target\",\n",
    "    \"domains_source\",\n",
    "    \"num_examples_per_domain_per_label_source\",\n",
    "    \"num_examples_per_domain_per_label_target\",\n",
    "    \"batch_size\",\n",
    "    \"n_epoch\",\n",
    "    \"patience\",\n",
    "    \"criteria_for_best\",\n",
    "    \"normalize_source\",\n",
    "    \"normalize_target\",\n",
    "    \"x_net\",\n",
    "    \"NUM_LOGS_PER_EPOCH\",\n",
    "    \"BEST_MODEL_PATH\",\n",
    "    \"pickle_name_source\",\n",
    "    \"pickle_name_target\",\n",
    "    \"torch_default_dtype\",\n",
    "}"
   ]
  },
  {
   "cell_type": "code",
   "execution_count": 3,
   "id": "670b5fb8",
   "metadata": {
    "execution": {
     "iopub.execute_input": "2022-03-25T23:53:34.450208Z",
     "iopub.status.busy": "2022-03-25T23:53:34.444870Z",
     "iopub.status.idle": "2022-03-25T23:53:34.457405Z",
     "shell.execute_reply": "2022-03-25T23:53:34.456699Z"
    },
    "papermill": {
     "duration": 0.032595,
     "end_time": "2022-03-25T23:53:34.457560",
     "exception": false,
     "start_time": "2022-03-25T23:53:34.424965",
     "status": "completed"
    },
    "tags": [
     "parameters"
    ]
   },
   "outputs": [],
   "source": [
    "from steves_utils.ORACLE.utils_v2 import (\n",
    "    ALL_SERIAL_NUMBERS,\n",
    "    ALL_DISTANCES_FEET_NARROWED,\n",
    ")\n",
    "\n",
    "standalone_parameters = {}\n",
    "standalone_parameters[\"experiment_name\"] = \"MANUAL CORES CNN\"\n",
    "standalone_parameters[\"lr\"] = 0.0001\n",
    "standalone_parameters[\"device\"] = \"cuda\"\n",
    "\n",
    "standalone_parameters[\"dataset_seed\"] = 1337\n",
    "standalone_parameters[\"seed\"] = 1337\n",
    "standalone_parameters[\"labels\"] = ALL_SERIAL_NUMBERS\n",
    "\n",
    "standalone_parameters[\"domains_source\"] = [8,32,50]\n",
    "standalone_parameters[\"domains_target\"] = [14,20,26,38,44,]\n",
    "\n",
    "standalone_parameters[\"num_examples_per_domain_per_label_source\"]=-1\n",
    "standalone_parameters[\"num_examples_per_domain_per_label_target\"]=-1\n",
    "\n",
    "standalone_parameters[\"pickle_name_source\"] = \"oracle.Run1_framed_2000Examples_stratified_ds.2022A.pkl\"\n",
    "standalone_parameters[\"pickle_name_target\"] = \"oracle.Run2_framed_2000Examples_stratified_ds.2022A.pkl\"\n",
    "\n",
    "standalone_parameters[\"torch_default_dtype\"] = \"torch.float32\" \n",
    "\n",
    "standalone_parameters[\"batch_size\"]=128\n",
    "\n",
    "standalone_parameters[\"n_epoch\"] = 3\n",
    "\n",
    "standalone_parameters[\"patience\"] = 10\n",
    "\n",
    "standalone_parameters[\"criteria_for_best\"] = \"target_accuracy\"\n",
    "standalone_parameters[\"normalize_source\"] = False\n",
    "standalone_parameters[\"normalize_target\"] = False\n",
    "\n",
    "standalone_parameters[\"x_net\"] =     [\n",
    "    {\"class\": \"nnReshape\", \"kargs\": {\"shape\":[-1, 1, 2, 256]}},\n",
    "    {\"class\": \"Conv2d\", \"kargs\": { \"in_channels\":1, \"out_channels\":256, \"kernel_size\":(1,7), \"bias\":False, \"padding\":(0,3), },},\n",
    "    {\"class\": \"ReLU\", \"kargs\": {\"inplace\": True}},\n",
    "    {\"class\": \"BatchNorm2d\", \"kargs\": {\"num_features\":256}},\n",
    "\n",
    "    {\"class\": \"Conv2d\", \"kargs\": { \"in_channels\":256, \"out_channels\":80, \"kernel_size\":(2,7), \"bias\":True, \"padding\":(0,3), },},\n",
    "    {\"class\": \"ReLU\", \"kargs\": {\"inplace\": True}},\n",
    "    {\"class\": \"BatchNorm2d\", \"kargs\": {\"num_features\":80}},\n",
    "    {\"class\": \"Flatten\", \"kargs\": {}},\n",
    "\n",
    "    {\"class\": \"Linear\", \"kargs\": {\"in_features\": 80*256, \"out_features\": 256}}, # 80 units per IQ pair\n",
    "    {\"class\": \"ReLU\", \"kargs\": {\"inplace\": True}},\n",
    "    {\"class\": \"BatchNorm1d\", \"kargs\": {\"num_features\":256}},\n",
    "\n",
    "    {\"class\": \"Linear\", \"kargs\": {\"in_features\": 256, \"out_features\": len(standalone_parameters[\"labels\"])}},\n",
    "]\n",
    "\n",
    "standalone_parameters[\"NUM_LOGS_PER_EPOCH\"] = 10\n",
    "standalone_parameters[\"BEST_MODEL_PATH\"] = \"./best_model.pth\""
   ]
  },
  {
   "cell_type": "code",
   "execution_count": 4,
   "id": "8404bf33",
   "metadata": {
    "execution": {
     "iopub.execute_input": "2022-03-25T23:53:34.504198Z",
     "iopub.status.busy": "2022-03-25T23:53:34.503254Z",
     "iopub.status.idle": "2022-03-25T23:53:34.506153Z",
     "shell.execute_reply": "2022-03-25T23:53:34.505344Z"
    },
    "papermill": {
     "duration": 0.029811,
     "end_time": "2022-03-25T23:53:34.506307",
     "exception": false,
     "start_time": "2022-03-25T23:53:34.476496",
     "status": "completed"
    },
    "tags": [
     "injected-parameters"
    ]
   },
   "outputs": [],
   "source": [
    "# Parameters\n",
    "parameters = {\n",
    "    \"experiment_name\": \"cnn_1:oracle.run2\",\n",
    "    \"labels\": [\n",
    "        \"3123D52\",\n",
    "        \"3123D65\",\n",
    "        \"3123D79\",\n",
    "        \"3123D80\",\n",
    "        \"3123D54\",\n",
    "        \"3123D70\",\n",
    "        \"3123D7B\",\n",
    "        \"3123D89\",\n",
    "        \"3123D58\",\n",
    "        \"3123D76\",\n",
    "        \"3123D7D\",\n",
    "        \"3123EFE\",\n",
    "        \"3123D64\",\n",
    "        \"3123D78\",\n",
    "        \"3123D7E\",\n",
    "        \"3124E4A\",\n",
    "    ],\n",
    "    \"domains_source\": [8, 32, 50],\n",
    "    \"domains_target\": [14, 20, 26, 38, 44],\n",
    "    \"pickle_name_source\": \"oracle.Run2_10kExamples_stratified_ds.2022A.pkl\",\n",
    "    \"pickle_name_target\": \"oracle.Run2_10kExamples_stratified_ds.2022A.pkl\",\n",
    "    \"device\": \"cuda\",\n",
    "    \"lr\": 0.0001,\n",
    "    \"batch_size\": 128,\n",
    "    \"normalize_source\": False,\n",
    "    \"normalize_target\": False,\n",
    "    \"num_examples_per_domain_per_label_source\": -1,\n",
    "    \"num_examples_per_domain_per_label_target\": -1,\n",
    "    \"torch_default_dtype\": \"torch.float32\",\n",
    "    \"n_epoch\": 50,\n",
    "    \"patience\": 3,\n",
    "    \"criteria_for_best\": \"target_accuracy\",\n",
    "    \"x_net\": [\n",
    "        {\"class\": \"nnReshape\", \"kargs\": {\"shape\": [-1, 1, 2, 256]}},\n",
    "        {\n",
    "            \"class\": \"Conv2d\",\n",
    "            \"kargs\": {\n",
    "                \"in_channels\": 1,\n",
    "                \"out_channels\": 256,\n",
    "                \"kernel_size\": [1, 7],\n",
    "                \"bias\": False,\n",
    "                \"padding\": [0, 3],\n",
    "            },\n",
    "        },\n",
    "        {\"class\": \"ReLU\", \"kargs\": {\"inplace\": True}},\n",
    "        {\"class\": \"BatchNorm2d\", \"kargs\": {\"num_features\": 256}},\n",
    "        {\n",
    "            \"class\": \"Conv2d\",\n",
    "            \"kargs\": {\n",
    "                \"in_channels\": 256,\n",
    "                \"out_channels\": 80,\n",
    "                \"kernel_size\": [2, 7],\n",
    "                \"bias\": True,\n",
    "                \"padding\": [0, 3],\n",
    "            },\n",
    "        },\n",
    "        {\"class\": \"ReLU\", \"kargs\": {\"inplace\": True}},\n",
    "        {\"class\": \"BatchNorm2d\", \"kargs\": {\"num_features\": 80}},\n",
    "        {\"class\": \"Flatten\", \"kargs\": {}},\n",
    "        {\"class\": \"Linear\", \"kargs\": {\"in_features\": 20480, \"out_features\": 256}},\n",
    "        {\"class\": \"ReLU\", \"kargs\": {\"inplace\": True}},\n",
    "        {\"class\": \"BatchNorm1d\", \"kargs\": {\"num_features\": 256}},\n",
    "        {\"class\": \"Linear\", \"kargs\": {\"in_features\": 256, \"out_features\": 16}},\n",
    "    ],\n",
    "    \"NUM_LOGS_PER_EPOCH\": 10,\n",
    "    \"BEST_MODEL_PATH\": \"./best_model.pth\",\n",
    "    \"dataset_seed\": 1337,\n",
    "    \"seed\": 1337,\n",
    "}\n"
   ]
  },
  {
   "cell_type": "code",
   "execution_count": 5,
   "id": "759b56ec",
   "metadata": {
    "execution": {
     "iopub.execute_input": "2022-03-25T23:53:34.546902Z",
     "iopub.status.busy": "2022-03-25T23:53:34.546521Z",
     "iopub.status.idle": "2022-03-25T23:53:34.549444Z",
     "shell.execute_reply": "2022-03-25T23:53:34.550118Z"
    },
    "papermill": {
     "duration": 0.02521,
     "end_time": "2022-03-25T23:53:34.550296",
     "exception": false,
     "start_time": "2022-03-25T23:53:34.525086",
     "status": "completed"
    },
    "tags": []
   },
   "outputs": [],
   "source": [
    "# Set this to True if you want to run this template directly\n",
    "STANDALONE = False\n",
    "if STANDALONE:\n",
    "    print(\"parameters not injected, running with standalone_parameters\")\n",
    "    parameters = standalone_parameters\n",
    "\n",
    "if not 'parameters' in locals() and not 'parameters' in globals():\n",
    "    raise Exception(\"Parameter injection failed\")\n",
    "\n",
    "#Use an easy dict for all the parameters\n",
    "p = EasyDict(parameters)\n",
    "\n",
    "supplied_keys = set(p.keys())\n",
    "\n",
    "if  supplied_keys != required_parameters:\n",
    "    print(\"Parameters are incorrect\")\n",
    "    if len(supplied_keys - required_parameters)>0: print(\"Shouldn't have:\", str(supplied_keys - required_parameters))\n",
    "    if len(required_parameters - supplied_keys)>0: print(\"Need to have:\", str(required_parameters - supplied_keys))\n",
    "    raise RuntimeError(\"Parameters are incorrect\")\n",
    "\n"
   ]
  },
  {
   "cell_type": "code",
   "execution_count": 6,
   "id": "d5c66a71",
   "metadata": {
    "execution": {
     "iopub.execute_input": "2022-03-25T23:53:34.585819Z",
     "iopub.status.busy": "2022-03-25T23:53:34.585449Z",
     "iopub.status.idle": "2022-03-25T23:53:34.589584Z",
     "shell.execute_reply": "2022-03-25T23:53:34.590260Z"
    },
    "papermill": {
     "duration": 0.023269,
     "end_time": "2022-03-25T23:53:34.590444",
     "exception": false,
     "start_time": "2022-03-25T23:53:34.567175",
     "status": "completed"
    },
    "tags": []
   },
   "outputs": [],
   "source": [
    "###################################\n",
    "# Set the RNGs and make it all deterministic\n",
    "###################################\n",
    "np.random.seed(p.seed)\n",
    "random.seed(p.seed)\n",
    "torch.manual_seed(p.seed)\n",
    "\n",
    "torch.use_deterministic_algorithms(True) "
   ]
  },
  {
   "cell_type": "code",
   "execution_count": 7,
   "id": "92a65876",
   "metadata": {
    "execution": {
     "iopub.execute_input": "2022-03-25T23:53:34.627004Z",
     "iopub.status.busy": "2022-03-25T23:53:34.626635Z",
     "iopub.status.idle": "2022-03-25T23:53:34.629028Z",
     "shell.execute_reply": "2022-03-25T23:53:34.629330Z"
    },
    "papermill": {
     "duration": 0.020201,
     "end_time": "2022-03-25T23:53:34.629410",
     "exception": false,
     "start_time": "2022-03-25T23:53:34.609209",
     "status": "completed"
    },
    "tags": []
   },
   "outputs": [],
   "source": [
    "torch.set_default_dtype(eval(p.torch_default_dtype))"
   ]
  },
  {
   "cell_type": "code",
   "execution_count": 8,
   "id": "f1a32f01",
   "metadata": {
    "execution": {
     "iopub.execute_input": "2022-03-25T23:53:34.665286Z",
     "iopub.status.busy": "2022-03-25T23:53:34.664716Z",
     "iopub.status.idle": "2022-03-25T23:53:34.707747Z",
     "shell.execute_reply": "2022-03-25T23:53:34.707022Z"
    },
    "papermill": {
     "duration": 0.060576,
     "end_time": "2022-03-25T23:53:34.707901",
     "exception": false,
     "start_time": "2022-03-25T23:53:34.647325",
     "status": "completed"
    },
    "tags": []
   },
   "outputs": [],
   "source": [
    "###################################\n",
    "# Build the network(s)\n",
    "# Note: It's critical to do this AFTER setting the RNG\n",
    "###################################\n",
    "x_net = build_sequential(p.x_net)"
   ]
  },
  {
   "cell_type": "code",
   "execution_count": 9,
   "id": "a276cd83",
   "metadata": {
    "execution": {
     "iopub.execute_input": "2022-03-25T23:53:34.743669Z",
     "iopub.status.busy": "2022-03-25T23:53:34.743291Z",
     "iopub.status.idle": "2022-03-25T23:53:34.745688Z",
     "shell.execute_reply": "2022-03-25T23:53:34.745997Z"
    },
    "papermill": {
     "duration": 0.019929,
     "end_time": "2022-03-25T23:53:34.746077",
     "exception": false,
     "start_time": "2022-03-25T23:53:34.726148",
     "status": "completed"
    },
    "tags": []
   },
   "outputs": [],
   "source": [
    "start_time_secs = time.time()"
   ]
  },
  {
   "cell_type": "code",
   "execution_count": 10,
   "id": "de702e48",
   "metadata": {
    "execution": {
     "iopub.execute_input": "2022-03-25T23:53:34.791838Z",
     "iopub.status.busy": "2022-03-25T23:53:34.790946Z",
     "iopub.status.idle": "2022-03-25T23:53:55.574432Z",
     "shell.execute_reply": "2022-03-25T23:53:55.573641Z"
    },
    "papermill": {
     "duration": 20.810339,
     "end_time": "2022-03-25T23:53:55.574616",
     "exception": false,
     "start_time": "2022-03-25T23:53:34.764277",
     "status": "completed"
    },
    "tags": []
   },
   "outputs": [],
   "source": [
    "def wrap_in_dataloader(p, ds):\n",
    "    return torch.utils.data.DataLoader(\n",
    "        ds,\n",
    "        batch_size=p.batch_size,\n",
    "        shuffle=True,\n",
    "        num_workers=1,\n",
    "        persistent_workers=True,\n",
    "        prefetch_factor=50,\n",
    "        pin_memory=True\n",
    "    )\n",
    "\n",
    "taf_source = Traditional_Accessor_Factory(\n",
    "    labels=p.labels,\n",
    "    domains=p.domains_source,\n",
    "    num_examples_per_domain_per_label=p.num_examples_per_domain_per_label_source,\n",
    "    pickle_path=os.path.join(get_datasets_base_path(), p.pickle_name_source),\n",
    "    seed=p.dataset_seed\n",
    ")\n",
    "train_original_source, val_original_source, test_original_source = \\\n",
    "    taf_source.get_train(), taf_source.get_val(), taf_source.get_test()\n",
    "\n",
    "\n",
    "taf_target = Traditional_Accessor_Factory(\n",
    "    labels=p.labels,\n",
    "    domains=p.domains_target,\n",
    "    num_examples_per_domain_per_label=p.num_examples_per_domain_per_label_source,\n",
    "    pickle_path=os.path.join(get_datasets_base_path(), p.pickle_name_target),\n",
    "    seed=p.dataset_seed\n",
    ")\n",
    "train_original_target, val_original_target, test_original_target = \\\n",
    "    taf_target.get_train(), taf_target.get_val(), taf_target.get_test()\n",
    "\n",
    "\n",
    "# For CNN We only use X and Y. And we only train on the source.\n",
    "# Properly form the data using a transform lambda and Lazy_Map. Finally wrap them in a dataloader\n",
    "\n",
    "transform_lambda = lambda ex: ex[:2] # Strip the tuple to just (x,y)\n",
    "\n",
    "\n",
    "train_processed_source = wrap_in_dataloader(\n",
    "    p,\n",
    "    Lazy_Map(train_original_source, transform_lambda)\n",
    ")\n",
    "val_processed_source = wrap_in_dataloader(\n",
    "    p,\n",
    "    Lazy_Map(val_original_source, transform_lambda)\n",
    ")\n",
    "test_processed_source = wrap_in_dataloader(\n",
    "    p,\n",
    "    Lazy_Map(test_original_source, transform_lambda)\n",
    ")\n",
    "\n",
    "train_processed_target = wrap_in_dataloader(\n",
    "    p,\n",
    "    Lazy_Map(train_original_target, transform_lambda)\n",
    ")\n",
    "val_processed_target = wrap_in_dataloader(\n",
    "    p,\n",
    "    Lazy_Map(val_original_target, transform_lambda)\n",
    ")\n",
    "test_processed_target  = wrap_in_dataloader(\n",
    "    p,\n",
    "    Lazy_Map(test_original_target, transform_lambda)\n",
    ")\n",
    "\n",
    "\n",
    "\n",
    "datasets = EasyDict({\n",
    "    \"source\": {\n",
    "        \"original\": {\"train\":train_original_source, \"val\":val_original_source, \"test\":test_original_source},\n",
    "        \"processed\": {\"train\":train_processed_source, \"val\":val_processed_source, \"test\":test_processed_source}\n",
    "    },\n",
    "    \"target\": {\n",
    "        \"original\": {\"train\":train_original_target, \"val\":val_original_target, \"test\":test_original_target},\n",
    "        \"processed\": {\"train\":train_processed_target, \"val\":val_processed_target, \"test\":test_processed_target}\n",
    "    },\n",
    "})"
   ]
  },
  {
   "cell_type": "code",
   "execution_count": 11,
   "id": "a11b26bd",
   "metadata": {
    "execution": {
     "iopub.execute_input": "2022-03-25T23:53:55.657210Z",
     "iopub.status.busy": "2022-03-25T23:53:55.656367Z",
     "iopub.status.idle": "2022-03-25T23:54:01.296646Z",
     "shell.execute_reply": "2022-03-25T23:54:01.295773Z"
    },
    "papermill": {
     "duration": 5.702176,
     "end_time": "2022-03-25T23:54:01.296817",
     "exception": false,
     "start_time": "2022-03-25T23:53:55.594641",
     "status": "completed"
    },
    "tags": []
   },
   "outputs": [
    {
     "data": {
      "text/plain": [
       "torch.float32"
      ]
     },
     "execution_count": 11,
     "metadata": {},
     "output_type": "execute_result"
    }
   ],
   "source": [
    "ep = next(iter(test_processed_target))\n",
    "ep[0].dtype"
   ]
  },
  {
   "cell_type": "code",
   "execution_count": 12,
   "id": "19425fad",
   "metadata": {
    "execution": {
     "iopub.execute_input": "2022-03-25T23:54:01.336095Z",
     "iopub.status.busy": "2022-03-25T23:54:01.335715Z",
     "iopub.status.idle": "2022-03-25T23:54:01.383212Z",
     "shell.execute_reply": "2022-03-25T23:54:01.382492Z"
    },
    "papermill": {
     "duration": 0.067153,
     "end_time": "2022-03-25T23:54:01.383375",
     "exception": false,
     "start_time": "2022-03-25T23:54:01.316222",
     "status": "completed"
    },
    "tags": []
   },
   "outputs": [],
   "source": [
    "model = Configurable_Vanilla(\n",
    "    x_net=x_net,\n",
    "    label_loss_object=torch.nn.NLLLoss(),\n",
    "    learning_rate=p.lr\n",
    ")"
   ]
  },
  {
   "cell_type": "code",
   "execution_count": 13,
   "id": "7f6d4f2c",
   "metadata": {
    "execution": {
     "iopub.execute_input": "2022-03-25T23:54:01.424397Z",
     "iopub.status.busy": "2022-03-25T23:54:01.424020Z",
     "iopub.status.idle": "2022-03-25T23:59:59.141163Z",
     "shell.execute_reply": "2022-03-25T23:59:59.140809Z"
    },
    "papermill": {
     "duration": 357.735775,
     "end_time": "2022-03-25T23:59:59.141257",
     "exception": false,
     "start_time": "2022-03-25T23:54:01.405482",
     "status": "completed"
    },
    "tags": []
   },
   "outputs": [
    {
     "name": "stdout",
     "output_type": "stream",
     "text": [
      "epoch: 1, [batch: 1 / 2625], examples_per_second: 642.5959, train_label_loss: 2.7893, \n"
     ]
    },
    {
     "name": "stdout",
     "output_type": "stream",
     "text": [
      "epoch: 1, [batch: 263 / 2625], examples_per_second: 10714.6525, train_label_loss: 2.3547, \n"
     ]
    },
    {
     "name": "stdout",
     "output_type": "stream",
     "text": [
      "epoch: 1, [batch: 525 / 2625], examples_per_second: 10806.0797, train_label_loss: 2.1635, \n"
     ]
    },
    {
     "name": "stdout",
     "output_type": "stream",
     "text": [
      "epoch: 1, [batch: 788 / 2625], examples_per_second: 10785.0084, train_label_loss: 1.9379, \n"
     ]
    },
    {
     "name": "stdout",
     "output_type": "stream",
     "text": [
      "epoch: 1, [batch: 1050 / 2625], examples_per_second: 10691.5555, train_label_loss: 1.7693, \n"
     ]
    },
    {
     "name": "stdout",
     "output_type": "stream",
     "text": [
      "epoch: 1, [batch: 1313 / 2625], examples_per_second: 10639.6828, train_label_loss: 1.4859, \n"
     ]
    },
    {
     "name": "stdout",
     "output_type": "stream",
     "text": [
      "epoch: 1, [batch: 1575 / 2625], examples_per_second: 10649.6771, train_label_loss: 1.3032, \n"
     ]
    },
    {
     "name": "stdout",
     "output_type": "stream",
     "text": [
      "epoch: 1, [batch: 1837 / 2625], examples_per_second: 10750.1609, train_label_loss: 1.1385, \n"
     ]
    },
    {
     "name": "stdout",
     "output_type": "stream",
     "text": [
      "epoch: 1, [batch: 2100 / 2625], examples_per_second: 10726.1749, train_label_loss: 1.0811, \n"
     ]
    },
    {
     "name": "stdout",
     "output_type": "stream",
     "text": [
      "epoch: 1, [batch: 2362 / 2625], examples_per_second: 10712.1988, train_label_loss: 1.0304, \n"
     ]
    },
    {
     "name": "stdout",
     "output_type": "stream",
     "text": [
      "=============================================================\n",
      "epoch: 1, source_val_acc_label: 0.7013, source_val_label_loss: 0.9575, target_val_acc_label: 0.0545, target_val_label_loss: 9.1504, \n",
      "=============================================================\n"
     ]
    },
    {
     "name": "stdout",
     "output_type": "stream",
     "text": [
      "New best\n",
      "epoch: 2, [batch: 1 / 2625], examples_per_second: 23.6964, train_label_loss: 0.9655, \n"
     ]
    },
    {
     "name": "stdout",
     "output_type": "stream",
     "text": [
      "epoch: 2, [batch: 263 / 2625], examples_per_second: 10681.2236, train_label_loss: 0.8973, \n"
     ]
    },
    {
     "name": "stdout",
     "output_type": "stream",
     "text": [
      "epoch: 2, [batch: 525 / 2625], examples_per_second: 10470.3515, train_label_loss: 0.7984, \n"
     ]
    },
    {
     "name": "stdout",
     "output_type": "stream",
     "text": [
      "epoch: 2, [batch: 788 / 2625], examples_per_second: 10644.4016, train_label_loss: 0.7909, \n"
     ]
    },
    {
     "name": "stdout",
     "output_type": "stream",
     "text": [
      "epoch: 2, [batch: 1050 / 2625], examples_per_second: 10624.3500, train_label_loss: 0.7494, \n"
     ]
    },
    {
     "name": "stdout",
     "output_type": "stream",
     "text": [
      "epoch: 2, [batch: 1313 / 2625], examples_per_second: 10629.9282, train_label_loss: 0.7270, \n"
     ]
    },
    {
     "name": "stdout",
     "output_type": "stream",
     "text": [
      "epoch: 2, [batch: 1575 / 2625], examples_per_second: 10679.9925, train_label_loss: 0.6152, \n"
     ]
    },
    {
     "name": "stdout",
     "output_type": "stream",
     "text": [
      "epoch: 2, [batch: 1837 / 2625], examples_per_second: 10729.0463, train_label_loss: 0.5596, \n"
     ]
    },
    {
     "name": "stdout",
     "output_type": "stream",
     "text": [
      "epoch: 2, [batch: 2100 / 2625], examples_per_second: 10760.5030, train_label_loss: 0.6354, \n"
     ]
    },
    {
     "name": "stdout",
     "output_type": "stream",
     "text": [
      "epoch: 2, [batch: 2362 / 2625], examples_per_second: 10647.2434, train_label_loss: 0.7625, \n"
     ]
    },
    {
     "name": "stdout",
     "output_type": "stream",
     "text": [
      "=============================================================\n",
      "epoch: 2, source_val_acc_label: 0.7415, source_val_label_loss: 0.6935, target_val_acc_label: 0.0780, target_val_label_loss: 13.7432, \n",
      "=============================================================\n"
     ]
    },
    {
     "name": "stdout",
     "output_type": "stream",
     "text": [
      "New best\n",
      "epoch: 3, [batch: 1 / 2625], examples_per_second: 24.7785, train_label_loss: 0.5970, \n"
     ]
    },
    {
     "name": "stdout",
     "output_type": "stream",
     "text": [
      "epoch: 3, [batch: 263 / 2625], examples_per_second: 10707.5947, train_label_loss: 0.5865, \n"
     ]
    },
    {
     "name": "stdout",
     "output_type": "stream",
     "text": [
      "epoch: 3, [batch: 525 / 2625], examples_per_second: 10668.9893, train_label_loss: 0.5549, \n"
     ]
    },
    {
     "name": "stdout",
     "output_type": "stream",
     "text": [
      "epoch: 3, [batch: 788 / 2625], examples_per_second: 10725.2151, train_label_loss: 0.6075, \n"
     ]
    },
    {
     "name": "stdout",
     "output_type": "stream",
     "text": [
      "epoch: 3, [batch: 1050 / 2625], examples_per_second: 10734.4421, train_label_loss: 0.5269, \n"
     ]
    },
    {
     "name": "stdout",
     "output_type": "stream",
     "text": [
      "epoch: 3, [batch: 1313 / 2625], examples_per_second: 11408.6346, train_label_loss: 0.3945, \n"
     ]
    },
    {
     "name": "stdout",
     "output_type": "stream",
     "text": [
      "epoch: 3, [batch: 1575 / 2625], examples_per_second: 12040.9834, train_label_loss: 0.5261, \n"
     ]
    },
    {
     "name": "stdout",
     "output_type": "stream",
     "text": [
      "epoch: 3, [batch: 1837 / 2625], examples_per_second: 12995.3192, train_label_loss: 0.3557, \n"
     ]
    },
    {
     "name": "stdout",
     "output_type": "stream",
     "text": [
      "epoch: 3, [batch: 2100 / 2625], examples_per_second: 12998.7691, train_label_loss: 0.3950, \n"
     ]
    },
    {
     "name": "stdout",
     "output_type": "stream",
     "text": [
      "epoch: 3, [batch: 2362 / 2625], examples_per_second: 12816.8808, train_label_loss: 0.3684, \n"
     ]
    },
    {
     "name": "stdout",
     "output_type": "stream",
     "text": [
      "=============================================================\n",
      "epoch: 3, source_val_acc_label: 0.7988, source_val_label_loss: 0.5381, target_val_acc_label: 0.0722, target_val_label_loss: 15.4757, \n",
      "=============================================================\n"
     ]
    },
    {
     "name": "stdout",
     "output_type": "stream",
     "text": [
      "epoch: 4, [batch: 1 / 2625], examples_per_second: 33.3474, train_label_loss: 0.4247, \n"
     ]
    },
    {
     "name": "stdout",
     "output_type": "stream",
     "text": [
      "epoch: 4, [batch: 263 / 2625], examples_per_second: 12577.5650, train_label_loss: 0.3723, \n"
     ]
    },
    {
     "name": "stdout",
     "output_type": "stream",
     "text": [
      "epoch: 4, [batch: 525 / 2625], examples_per_second: 12917.1154, train_label_loss: 0.4344, \n"
     ]
    },
    {
     "name": "stdout",
     "output_type": "stream",
     "text": [
      "epoch: 4, [batch: 788 / 2625], examples_per_second: 12929.0104, train_label_loss: 0.4711, \n"
     ]
    },
    {
     "name": "stdout",
     "output_type": "stream",
     "text": [
      "epoch: 4, [batch: 1050 / 2625], examples_per_second: 12792.2326, train_label_loss: 0.3084, \n"
     ]
    },
    {
     "name": "stdout",
     "output_type": "stream",
     "text": [
      "epoch: 4, [batch: 1313 / 2625], examples_per_second: 13191.6635, train_label_loss: 0.4571, \n"
     ]
    },
    {
     "name": "stdout",
     "output_type": "stream",
     "text": [
      "epoch: 4, [batch: 1575 / 2625], examples_per_second: 13038.8233, train_label_loss: 0.4539, \n"
     ]
    },
    {
     "name": "stdout",
     "output_type": "stream",
     "text": [
      "epoch: 4, [batch: 1837 / 2625], examples_per_second: 12042.4555, train_label_loss: 0.3530, \n"
     ]
    },
    {
     "name": "stdout",
     "output_type": "stream",
     "text": [
      "epoch: 4, [batch: 2100 / 2625], examples_per_second: 10562.1650, train_label_loss: 0.3313, \n"
     ]
    },
    {
     "name": "stdout",
     "output_type": "stream",
     "text": [
      "epoch: 4, [batch: 2362 / 2625], examples_per_second: 10684.3302, train_label_loss: 0.3602, \n"
     ]
    },
    {
     "name": "stdout",
     "output_type": "stream",
     "text": [
      "=============================================================\n",
      "epoch: 4, source_val_acc_label: 0.8934, source_val_label_loss: 0.3270, target_val_acc_label: 0.0722, target_val_label_loss: 16.6430, \n",
      "=============================================================\n"
     ]
    },
    {
     "name": "stdout",
     "output_type": "stream",
     "text": [
      "epoch: 5, [batch: 1 / 2625], examples_per_second: 25.2276, train_label_loss: 0.2920, \n"
     ]
    },
    {
     "name": "stdout",
     "output_type": "stream",
     "text": [
      "epoch: 5, [batch: 263 / 2625], examples_per_second: 10628.9374, train_label_loss: 0.2437, \n"
     ]
    },
    {
     "name": "stdout",
     "output_type": "stream",
     "text": [
      "epoch: 5, [batch: 525 / 2625], examples_per_second: 10663.9057, train_label_loss: 0.4093, \n"
     ]
    },
    {
     "name": "stdout",
     "output_type": "stream",
     "text": [
      "epoch: 5, [batch: 788 / 2625], examples_per_second: 10626.4290, train_label_loss: 0.7322, \n"
     ]
    },
    {
     "name": "stdout",
     "output_type": "stream",
     "text": [
      "epoch: 5, [batch: 1050 / 2625], examples_per_second: 10660.9160, train_label_loss: 0.3306, \n"
     ]
    },
    {
     "name": "stdout",
     "output_type": "stream",
     "text": [
      "epoch: 5, [batch: 1313 / 2625], examples_per_second: 10709.4369, train_label_loss: 0.3389, \n"
     ]
    },
    {
     "name": "stdout",
     "output_type": "stream",
     "text": [
      "epoch: 5, [batch: 1575 / 2625], examples_per_second: 10630.3744, train_label_loss: 0.3255, \n"
     ]
    },
    {
     "name": "stdout",
     "output_type": "stream",
     "text": [
      "epoch: 5, [batch: 1837 / 2625], examples_per_second: 10693.6372, train_label_loss: 0.3289, \n"
     ]
    },
    {
     "name": "stdout",
     "output_type": "stream",
     "text": [
      "epoch: 5, [batch: 2100 / 2625], examples_per_second: 10709.8975, train_label_loss: 0.3471, \n"
     ]
    },
    {
     "name": "stdout",
     "output_type": "stream",
     "text": [
      "epoch: 5, [batch: 2362 / 2625], examples_per_second: 10568.0019, train_label_loss: 0.2523, \n"
     ]
    },
    {
     "name": "stdout",
     "output_type": "stream",
     "text": [
      "=============================================================\n",
      "epoch: 5, source_val_acc_label: 0.8562, source_val_label_loss: 0.3801, target_val_acc_label: 0.0644, target_val_label_loss: 16.8163, \n",
      "=============================================================\n"
     ]
    },
    {
     "name": "stdout",
     "output_type": "stream",
     "text": [
      "epoch: 6, [batch: 1 / 2625], examples_per_second: 25.0287, train_label_loss: 0.3331, \n"
     ]
    },
    {
     "name": "stdout",
     "output_type": "stream",
     "text": [
      "epoch: 6, [batch: 263 / 2625], examples_per_second: 10686.2637, train_label_loss: 0.2580, \n"
     ]
    },
    {
     "name": "stdout",
     "output_type": "stream",
     "text": [
      "epoch: 6, [batch: 525 / 2625], examples_per_second: 10774.1292, train_label_loss: 0.2894, \n"
     ]
    },
    {
     "name": "stdout",
     "output_type": "stream",
     "text": [
      "epoch: 6, [batch: 788 / 2625], examples_per_second: 10748.7228, train_label_loss: 0.3876, \n"
     ]
    },
    {
     "name": "stdout",
     "output_type": "stream",
     "text": [
      "epoch: 6, [batch: 1050 / 2625], examples_per_second: 10731.7689, train_label_loss: 0.1545, \n"
     ]
    },
    {
     "name": "stdout",
     "output_type": "stream",
     "text": [
      "epoch: 6, [batch: 1313 / 2625], examples_per_second: 10733.2253, train_label_loss: 0.2430, \n"
     ]
    },
    {
     "name": "stdout",
     "output_type": "stream",
     "text": [
      "epoch: 6, [batch: 1575 / 2625], examples_per_second: 10747.4725, train_label_loss: 0.2398, \n"
     ]
    },
    {
     "name": "stdout",
     "output_type": "stream",
     "text": [
      "epoch: 6, [batch: 1837 / 2625], examples_per_second: 10802.6298, train_label_loss: 0.1981, \n"
     ]
    },
    {
     "name": "stdout",
     "output_type": "stream",
     "text": [
      "epoch: 6, [batch: 2100 / 2625], examples_per_second: 10747.6633, train_label_loss: 0.2530, \n"
     ]
    },
    {
     "name": "stdout",
     "output_type": "stream",
     "text": [
      "epoch: 6, [batch: 2362 / 2625], examples_per_second: 10747.0389, train_label_loss: 0.2557, \n"
     ]
    },
    {
     "name": "stdout",
     "output_type": "stream",
     "text": [
      "=============================================================\n",
      "epoch: 6, source_val_acc_label: 0.8480, source_val_label_loss: 0.4075, target_val_acc_label: 0.0790, target_val_label_loss: 18.2533, \n",
      "=============================================================\n"
     ]
    },
    {
     "name": "stdout",
     "output_type": "stream",
     "text": [
      "New best\n",
      "epoch: 7, [batch: 1 / 2625], examples_per_second: 25.5059, train_label_loss: 0.1592, \n"
     ]
    },
    {
     "name": "stdout",
     "output_type": "stream",
     "text": [
      "epoch: 7, [batch: 263 / 2625], examples_per_second: 10762.9214, train_label_loss: 0.2322, \n"
     ]
    },
    {
     "name": "stdout",
     "output_type": "stream",
     "text": [
      "epoch: 7, [batch: 525 / 2625], examples_per_second: 10702.8049, train_label_loss: 0.2036, \n"
     ]
    },
    {
     "name": "stdout",
     "output_type": "stream",
     "text": [
      "epoch: 7, [batch: 788 / 2625], examples_per_second: 10729.2558, train_label_loss: 0.1658, \n"
     ]
    },
    {
     "name": "stdout",
     "output_type": "stream",
     "text": [
      "epoch: 7, [batch: 1050 / 2625], examples_per_second: 11009.0217, train_label_loss: 0.1249, \n"
     ]
    },
    {
     "name": "stdout",
     "output_type": "stream",
     "text": [
      "epoch: 7, [batch: 1313 / 2625], examples_per_second: 11785.9147, train_label_loss: 0.2119, \n"
     ]
    },
    {
     "name": "stdout",
     "output_type": "stream",
     "text": [
      "epoch: 7, [batch: 1575 / 2625], examples_per_second: 12741.4314, train_label_loss: 0.2189, \n"
     ]
    },
    {
     "name": "stdout",
     "output_type": "stream",
     "text": [
      "epoch: 7, [batch: 1837 / 2625], examples_per_second: 13072.9642, train_label_loss: 0.1931, \n"
     ]
    },
    {
     "name": "stdout",
     "output_type": "stream",
     "text": [
      "epoch: 7, [batch: 2100 / 2625], examples_per_second: 12999.2287, train_label_loss: 0.4410, \n"
     ]
    },
    {
     "name": "stdout",
     "output_type": "stream",
     "text": [
      "epoch: 7, [batch: 2362 / 2625], examples_per_second: 12986.4828, train_label_loss: 0.1553, \n"
     ]
    },
    {
     "name": "stdout",
     "output_type": "stream",
     "text": [
      "=============================================================\n",
      "epoch: 7, source_val_acc_label: 0.8676, source_val_label_loss: 0.3463, target_val_acc_label: 0.0641, target_val_label_loss: 19.4915, \n",
      "=============================================================\n"
     ]
    },
    {
     "name": "stdout",
     "output_type": "stream",
     "text": [
      "epoch: 8, [batch: 1 / 2625], examples_per_second: 33.4859, train_label_loss: 0.2954, \n"
     ]
    },
    {
     "name": "stdout",
     "output_type": "stream",
     "text": [
      "epoch: 8, [batch: 263 / 2625], examples_per_second: 13060.5865, train_label_loss: 0.3107, \n"
     ]
    },
    {
     "name": "stdout",
     "output_type": "stream",
     "text": [
      "epoch: 8, [batch: 525 / 2625], examples_per_second: 13049.7479, train_label_loss: 0.5223, \n"
     ]
    },
    {
     "name": "stdout",
     "output_type": "stream",
     "text": [
      "epoch: 8, [batch: 788 / 2625], examples_per_second: 13033.0280, train_label_loss: 0.2335, \n"
     ]
    },
    {
     "name": "stdout",
     "output_type": "stream",
     "text": [
      "epoch: 8, [batch: 1050 / 2625], examples_per_second: 13038.6227, train_label_loss: 0.3255, \n"
     ]
    },
    {
     "name": "stdout",
     "output_type": "stream",
     "text": [
      "epoch: 8, [batch: 1313 / 2625], examples_per_second: 13348.3783, train_label_loss: 0.2976, \n"
     ]
    },
    {
     "name": "stdout",
     "output_type": "stream",
     "text": [
      "epoch: 8, [batch: 1575 / 2625], examples_per_second: 13248.7115, train_label_loss: 0.2338, \n"
     ]
    },
    {
     "name": "stdout",
     "output_type": "stream",
     "text": [
      "epoch: 8, [batch: 1837 / 2625], examples_per_second: 13915.5656, train_label_loss: 0.1726, \n"
     ]
    },
    {
     "name": "stdout",
     "output_type": "stream",
     "text": [
      "epoch: 8, [batch: 2100 / 2625], examples_per_second: 12302.9847, train_label_loss: 0.2075, \n"
     ]
    },
    {
     "name": "stdout",
     "output_type": "stream",
     "text": [
      "epoch: 8, [batch: 2362 / 2625], examples_per_second: 11783.5659, train_label_loss: 0.2484, \n"
     ]
    },
    {
     "name": "stdout",
     "output_type": "stream",
     "text": [
      "=============================================================\n",
      "epoch: 8, source_val_acc_label: 0.8244, source_val_label_loss: 0.4777, target_val_acc_label: 0.0706, target_val_label_loss: 22.2516, \n",
      "=============================================================\n"
     ]
    },
    {
     "name": "stdout",
     "output_type": "stream",
     "text": [
      "epoch: 9, [batch: 1 / 2625], examples_per_second: 29.0794, train_label_loss: 0.2221, \n"
     ]
    },
    {
     "name": "stdout",
     "output_type": "stream",
     "text": [
      "epoch: 9, [batch: 263 / 2625], examples_per_second: 11762.5781, train_label_loss: 0.1843, \n"
     ]
    },
    {
     "name": "stdout",
     "output_type": "stream",
     "text": [
      "epoch: 9, [batch: 525 / 2625], examples_per_second: 11792.0437, train_label_loss: 0.0959, \n"
     ]
    },
    {
     "name": "stdout",
     "output_type": "stream",
     "text": [
      "epoch: 9, [batch: 788 / 2625], examples_per_second: 11816.2648, train_label_loss: 0.1131, \n"
     ]
    },
    {
     "name": "stdout",
     "output_type": "stream",
     "text": [
      "epoch: 9, [batch: 1050 / 2625], examples_per_second: 11763.3326, train_label_loss: 0.2147, \n"
     ]
    },
    {
     "name": "stdout",
     "output_type": "stream",
     "text": [
      "epoch: 9, [batch: 1313 / 2625], examples_per_second: 11729.7906, train_label_loss: 0.1197, \n"
     ]
    },
    {
     "name": "stdout",
     "output_type": "stream",
     "text": [
      "epoch: 9, [batch: 1575 / 2625], examples_per_second: 11840.9157, train_label_loss: 0.2029, \n"
     ]
    },
    {
     "name": "stdout",
     "output_type": "stream",
     "text": [
      "epoch: 9, [batch: 1837 / 2625], examples_per_second: 11765.5416, train_label_loss: 0.1703, \n"
     ]
    },
    {
     "name": "stdout",
     "output_type": "stream",
     "text": [
      "epoch: 9, [batch: 2100 / 2625], examples_per_second: 11790.6260, train_label_loss: 0.1543, \n"
     ]
    },
    {
     "name": "stdout",
     "output_type": "stream",
     "text": [
      "epoch: 9, [batch: 2362 / 2625], examples_per_second: 11778.7634, train_label_loss: 0.1560, \n"
     ]
    },
    {
     "name": "stdout",
     "output_type": "stream",
     "text": [
      "=============================================================\n",
      "epoch: 9, source_val_acc_label: 0.8894, source_val_label_loss: 0.2988, target_val_acc_label: 0.0651, target_val_label_loss: 21.0350, \n",
      "=============================================================\n"
     ]
    },
    {
     "name": "stdout",
     "output_type": "stream",
     "text": [
      "epoch: 10, [batch: 1 / 2625], examples_per_second: 29.2468, train_label_loss: 0.0947, \n"
     ]
    },
    {
     "name": "stdout",
     "output_type": "stream",
     "text": [
      "epoch: 10, [batch: 263 / 2625], examples_per_second: 11702.7504, train_label_loss: 0.0923, \n"
     ]
    },
    {
     "name": "stdout",
     "output_type": "stream",
     "text": [
      "epoch: 10, [batch: 525 / 2625], examples_per_second: 11804.6951, train_label_loss: 0.1609, \n"
     ]
    },
    {
     "name": "stdout",
     "output_type": "stream",
     "text": [
      "epoch: 10, [batch: 788 / 2625], examples_per_second: 11779.7673, train_label_loss: 0.1287, \n"
     ]
    },
    {
     "name": "stdout",
     "output_type": "stream",
     "text": [
      "epoch: 10, [batch: 1050 / 2625], examples_per_second: 11732.5900, train_label_loss: 0.1145, \n"
     ]
    },
    {
     "name": "stdout",
     "output_type": "stream",
     "text": [
      "epoch: 10, [batch: 1313 / 2625], examples_per_second: 11817.0708, train_label_loss: 0.2120, \n"
     ]
    },
    {
     "name": "stdout",
     "output_type": "stream",
     "text": [
      "epoch: 10, [batch: 1575 / 2625], examples_per_second: 11803.4896, train_label_loss: 0.2129, \n"
     ]
    },
    {
     "name": "stdout",
     "output_type": "stream",
     "text": [
      "epoch: 10, [batch: 1837 / 2625], examples_per_second: 11963.8081, train_label_loss: 0.1828, \n"
     ]
    },
    {
     "name": "stdout",
     "output_type": "stream",
     "text": [
      "epoch: 10, [batch: 2100 / 2625], examples_per_second: 11845.8005, train_label_loss: 0.1782, \n"
     ]
    },
    {
     "name": "stdout",
     "output_type": "stream",
     "text": [
      "epoch: 10, [batch: 2362 / 2625], examples_per_second: 11714.3972, train_label_loss: 0.2424, \n"
     ]
    },
    {
     "name": "stdout",
     "output_type": "stream",
     "text": [
      "=============================================================\n",
      "epoch: 10, source_val_acc_label: 0.8477, source_val_label_loss: 0.4001, target_val_acc_label: 0.0759, target_val_label_loss: 22.0563, \n",
      "=============================================================\n"
     ]
    },
    {
     "name": "stdout",
     "output_type": "stream",
     "text": [
      "Patience (3) exhausted\n"
     ]
    }
   ],
   "source": [
    "jig = Vanilla_Train_Eval_Test_Jig(\n",
    "    model=model,\n",
    "    path_to_best_model=p.BEST_MODEL_PATH,\n",
    "    device=p.device,\n",
    "    label_loss_object=torch.nn.NLLLoss(),\n",
    ")\n",
    "\n",
    "jig.train(\n",
    "    train_iterable=datasets.source.processed.train,\n",
    "    source_val_iterable=datasets.source.processed.val,\n",
    "    target_val_iterable=datasets.target.processed.val,\n",
    "    patience=p.patience,\n",
    "    num_epochs=p.n_epoch,\n",
    "    num_logs_per_epoch=p.NUM_LOGS_PER_EPOCH,\n",
    "    criteria_for_best=p.criteria_for_best\n",
    ")"
   ]
  },
  {
   "cell_type": "code",
   "execution_count": 14,
   "id": "4bc2ac17",
   "metadata": {
    "execution": {
     "iopub.execute_input": "2022-03-25T23:59:59.233740Z",
     "iopub.status.busy": "2022-03-25T23:59:59.233376Z",
     "iopub.status.idle": "2022-03-25T23:59:59.235452Z",
     "shell.execute_reply": "2022-03-25T23:59:59.235772Z"
    },
    "papermill": {
     "duration": 0.051337,
     "end_time": "2022-03-25T23:59:59.235857",
     "exception": false,
     "start_time": "2022-03-25T23:59:59.184520",
     "status": "completed"
    },
    "tags": []
   },
   "outputs": [],
   "source": [
    "total_experiment_time_secs = time.time() - start_time_secs"
   ]
  },
  {
   "cell_type": "code",
   "execution_count": 15,
   "id": "cae88f23",
   "metadata": {
    "execution": {
     "iopub.execute_input": "2022-03-25T23:59:59.338787Z",
     "iopub.status.busy": "2022-03-25T23:59:59.338201Z",
     "iopub.status.idle": "2022-03-26T00:00:52.456347Z",
     "shell.execute_reply": "2022-03-26T00:00:52.455183Z"
    },
    "papermill": {
     "duration": 53.172677,
     "end_time": "2022-03-26T00:00:52.456595",
     "exception": false,
     "start_time": "2022-03-25T23:59:59.283918",
     "status": "completed"
    },
    "tags": []
   },
   "outputs": [],
   "source": [
    "source_test_label_accuracy, source_test_label_loss = jig.test(datasets.source.processed.test)\n",
    "target_test_label_accuracy, target_test_label_loss = jig.test(datasets.target.processed.test)\n",
    "\n",
    "source_val_label_accuracy, source_val_label_loss = jig.test(datasets.source.processed.val)\n",
    "target_val_label_accuracy, target_val_label_loss = jig.test(datasets.target.processed.val)\n",
    "\n",
    "history = jig.get_history()\n",
    "\n",
    "total_epochs_trained = len(history[\"epoch_indices\"])\n",
    "\n",
    "val_dl = wrap_in_dataloader(p, Sequence_Aggregator((datasets.source.original.val, datasets.target.original.val)))\n",
    "\n",
    "confusion = confusion_by_domain_over_dataloader(model, p.device, val_dl, forward_uses_domain=False)\n",
    "per_domain_accuracy = per_domain_accuracy_from_confusion(confusion)\n",
    "\n",
    "# Add a key to per_domain_accuracy for if it was a source domain\n",
    "for domain, accuracy in per_domain_accuracy.items():\n",
    "    per_domain_accuracy[domain] = {\n",
    "        \"accuracy\": accuracy,\n",
    "        \"source?\": domain in p.domains_source\n",
    "    }\n",
    "\n",
    "# Do an independent accuracy assesment JUST TO BE SURE!\n",
    "# _source_test_label_accuracy = independent_accuracy_assesment(model, datasets.source.processed.test, p.device)\n",
    "# _target_test_label_accuracy = independent_accuracy_assesment(model, datasets.target.processed.test, p.device)\n",
    "# _source_val_label_accuracy = independent_accuracy_assesment(model, datasets.source.processed.val, p.device)\n",
    "# _target_val_label_accuracy = independent_accuracy_assesment(model, datasets.target.processed.val, p.device)\n",
    "\n",
    "# assert(_source_test_label_accuracy == source_test_label_accuracy)\n",
    "# assert(_target_test_label_accuracy == target_test_label_accuracy)\n",
    "# assert(_source_val_label_accuracy == source_val_label_accuracy)\n",
    "# assert(_target_val_label_accuracy == target_val_label_accuracy)\n",
    "\n",
    "###################################\n",
    "# Write out the results\n",
    "###################################\n",
    "\n",
    "experiment = {\n",
    "    \"experiment_name\": p.experiment_name,\n",
    "    \"parameters\": p,\n",
    "    \"results\": {\n",
    "        \"source_test_label_accuracy\": source_test_label_accuracy,\n",
    "        \"source_test_label_loss\": source_test_label_loss,\n",
    "        \"target_test_label_accuracy\": target_test_label_accuracy,\n",
    "        \"target_test_label_loss\": target_test_label_loss,\n",
    "        \"source_val_label_accuracy\": source_val_label_accuracy,\n",
    "        \"source_val_label_loss\": source_val_label_loss,\n",
    "        \"target_val_label_accuracy\": target_val_label_accuracy,\n",
    "        \"target_val_label_loss\": target_val_label_loss,\n",
    "        \"total_epochs_trained\": total_epochs_trained,\n",
    "        \"total_experiment_time_secs\": total_experiment_time_secs,\n",
    "        \"confusion\": confusion,\n",
    "        \"per_domain_accuracy\": per_domain_accuracy,\n",
    "    },\n",
    "    \"history\": history,\n",
    "    \"dataset_metrics\": get_dataset_metrics(datasets, \"cnn\"),\n",
    "}"
   ]
  },
  {
   "cell_type": "code",
   "execution_count": 16,
   "id": "74c318cf",
   "metadata": {
    "execution": {
     "iopub.execute_input": "2022-03-26T00:00:52.661752Z",
     "iopub.status.busy": "2022-03-26T00:00:52.651719Z",
     "iopub.status.idle": "2022-03-26T00:00:52.842599Z",
     "shell.execute_reply": "2022-03-26T00:00:52.841833Z"
    },
    "papermill": {
     "duration": 0.328611,
     "end_time": "2022-03-26T00:00:52.842780",
     "exception": false,
     "start_time": "2022-03-26T00:00:52.514169",
     "status": "completed"
    },
    "tags": []
   },
   "outputs": [
    {
     "data": {
      "text/plain": [
       "<AxesSubplot:title={'center':'Source Train Label Loss vs Source Val Label Loss'}, xlabel='Epoch'>"
      ]
     },
     "execution_count": 16,
     "metadata": {},
     "output_type": "execute_result"
    },
    {
     "data": {
      "image/png": "[encoded data removed]",
      "text/plain": [
       "<Figure size 1080x504 with 1 Axes>"
      ]
     },
     "metadata": {
      "needs_background": "light"
     },
     "output_type": "display_data"
    }
   ],
   "source": [
    "get_loss_curve(experiment)"
   ]
  },
  {
   "cell_type": "code",
   "execution_count": 17,
   "id": "59376601",
   "metadata": {
    "execution": {
     "iopub.execute_input": "2022-03-26T00:00:52.967945Z",
     "iopub.status.busy": "2022-03-26T00:00:52.967112Z",
     "iopub.status.idle": "2022-03-26T00:00:53.247152Z",
     "shell.execute_reply": "2022-03-26T00:00:53.247858Z"
    },
    "papermill": {
     "duration": 0.357364,
     "end_time": "2022-03-26T00:00:53.248088",
     "exception": false,
     "start_time": "2022-03-26T00:00:52.890724",
     "status": "completed"
    },
    "tags": []
   },
   "outputs": [
    {
     "data": {
      "text/plain": [
       "<AxesSubplot:title={'center':'Results'}>"
      ]
     },
     "execution_count": 17,
     "metadata": {},
     "output_type": "execute_result"
    },
    {
     "data": {
      "image/png": "[encoded data removed]",
      "text/plain": [
       "<Figure size 1080x504 with 1 Axes>"
      ]
     },
     "metadata": {
      "needs_background": "light"
     },
     "output_type": "display_data"
    }
   ],
   "source": [
    "get_results_table(experiment)"
   ]
  },
  {
   "cell_type": "code",
   "execution_count": 18,
   "id": "e80c5c98",
   "metadata": {
    "execution": {
     "iopub.execute_input": "2022-03-26T00:00:53.374898Z",
     "iopub.status.busy": "2022-03-26T00:00:53.374055Z",
     "iopub.status.idle": "2022-03-26T00:00:53.531994Z",
     "shell.execute_reply": "2022-03-26T00:00:53.532686Z"
    },
    "papermill": {
     "duration": 0.233063,
     "end_time": "2022-03-26T00:00:53.532913",
     "exception": false,
     "start_time": "2022-03-26T00:00:53.299850",
     "status": "completed"
    },
    "tags": []
   },
   "outputs": [
    {
     "data": {
      "text/plain": [
       "<AxesSubplot:title={'center':'Per Domain Accuracy'}, xlabel='domain'>"
      ]
     },
     "execution_count": 18,
     "metadata": {},
     "output_type": "execute_result"
    },
    {
     "data": {
      "image/png": "[encoded data removed]",
      "text/plain": [
       "<Figure size 1080x504 with 1 Axes>"
      ]
     },
     "metadata": {
      "needs_background": "light"
     },
     "output_type": "display_data"
    }
   ],
   "source": [
    "get_domain_accuracies(experiment)"
   ]
  },
  {
   "cell_type": "code",
   "execution_count": 19,
   "id": "086fdd10",
   "metadata": {
    "execution": {
     "iopub.execute_input": "2022-03-26T00:00:53.641514Z",
     "iopub.status.busy": "2022-03-26T00:00:53.641129Z",
     "iopub.status.idle": "2022-03-26T00:00:53.646155Z",
     "shell.execute_reply": "2022-03-26T00:00:53.645341Z"
    },
    "papermill": {
     "duration": 0.058657,
     "end_time": "2022-03-26T00:00:53.646327",
     "exception": false,
     "start_time": "2022-03-26T00:00:53.587670",
     "status": "completed"
    },
    "tags": []
   },
   "outputs": [
    {
     "name": "stdout",
     "output_type": "stream",
     "text": [
      "Source Test Label Accuracy: 0.8478055555555556 Target Test Label Accuracy: 0.0789\n",
      "Source Val Label Accuracy: 0.8480277777777778 Target Val Label Accuracy: 0.07904166666666666\n"
     ]
    }
   ],
   "source": [
    "print(\"Source Test Label Accuracy:\", experiment[\"results\"][\"source_test_label_accuracy\"], \"Target Test Label Accuracy:\", experiment[\"results\"][\"target_test_label_accuracy\"])\n",
    "print(\"Source Val Label Accuracy:\", experiment[\"results\"][\"source_val_label_accuracy\"], \"Target Val Label Accuracy:\", experiment[\"results\"][\"target_val_label_accuracy\"])"
   ]
  },
  {
   "cell_type": "code",
   "execution_count": 20,
   "id": "9f450536",
   "metadata": {
    "execution": {
     "iopub.execute_input": "2022-03-26T00:00:53.754669Z",
     "iopub.status.busy": "2022-03-26T00:00:53.754301Z",
     "iopub.status.idle": "2022-03-26T00:00:53.757827Z",
     "shell.execute_reply": "2022-03-26T00:00:53.757504Z"
    },
    "papermill": {
     "duration": 0.057675,
     "end_time": "2022-03-26T00:00:53.757906",
     "exception": false,
     "start_time": "2022-03-26T00:00:53.700231",
     "status": "completed"
    },
    "tags": [
     "experiment_json"
    ]
   },
   "outputs": [
    {
     "data": {
      "text/plain": [
       "'{\"experiment_name\": \"cnn_1:oracle.run2\", \"parameters\": {\"experiment_name\": \"cnn_1:oracle.run2\", \"labels\": [\"3123D52\", \"3123D65\", \"3123D79\", \"3123D80\", \"3123D54\", \"3123D70\", \"3123D7B\", \"3123D89\", \"3123D58\", \"3123D76\", \"3123D7D\", \"3123EFE\", \"3123D64\", \"3123D78\", \"3123D7E\", \"3124E4A\"], \"domains_source\": [8, 32, 50], \"domains_target\": [14, 20, 26, 38, 44], \"pickle_name_source\": \"oracle.Run2_10kExamples_stratified_ds.2022A.pkl\", \"pickle_name_target\": \"oracle.Run2_10kExamples_stratified_ds.2022A.pkl\", \"device\": \"cuda\", \"lr\": 0.0001, \"batch_size\": 128, \"normalize_source\": false, \"normalize_target\": false, \"num_examples_per_domain_per_label_source\": -1, \"num_examples_per_domain_per_label_target\": -1, \"torch_default_dtype\": \"torch.float32\", \"n_epoch\": 50, \"patience\": 3, \"criteria_for_best\": \"target_accuracy\", \"x_net\": [{\"class\": \"nnReshape\", \"kargs\": {\"shape\": [-1, 1, 2, 256]}}, {\"class\": \"Conv2d\", \"kargs\": {\"in_channels\": 1, \"out_channels\": 256, \"kernel_size\": [1, 7], \"bias\": false, \"padding\": [0, 3]}}, {\"class\": \"ReLU\", \"kargs\": {\"inplace\": true}}, {\"class\": \"BatchNorm2d\", \"kargs\": {\"num_features\": 256}}, {\"class\": \"Conv2d\", \"kargs\": {\"in_channels\": 256, \"out_channels\": 80, \"kernel_size\": [2, 7], \"bias\": true, \"padding\": [0, 3]}}, {\"class\": \"ReLU\", \"kargs\": {\"inplace\": true}}, {\"class\": \"BatchNorm2d\", \"kargs\": {\"num_features\": 80}}, {\"class\": \"Flatten\", \"kargs\": {}}, {\"class\": \"Linear\", \"kargs\": {\"in_features\": 20480, \"out_features\": 256}}, {\"class\": \"ReLU\", \"kargs\": {\"inplace\": true}}, {\"class\": \"BatchNorm1d\", \"kargs\": {\"num_features\": 256}}, {\"class\": \"Linear\", \"kargs\": {\"in_features\": 256, \"out_features\": 16}}], \"NUM_LOGS_PER_EPOCH\": 10, \"BEST_MODEL_PATH\": \"./best_model.pth\", \"dataset_seed\": 1337, \"seed\": 1337}, \"results\": {\"source_test_label_accuracy\": 0.8478055555555556, \"source_test_label_loss\": 0.40926555487232985, \"target_test_label_accuracy\": 0.0789, \"target_test_label_loss\": 18.246754951314376, \"source_val_label_accuracy\": 0.8480277777777778, \"source_val_label_loss\": 0.40760471278778404, \"target_val_label_accuracy\": 0.07904166666666666, \"target_val_label_loss\": 18.25152678174505, \"total_epochs_trained\": 10, \"total_experiment_time_secs\": 384.48974657058716, \"confusion\": {\"44\": {\"10\": {\"9\": 546, \"7\": 946, \"15\": 7, \"5\": 1}, \"5\": {\"6\": 1349, \"11\": 9, \"4\": 24, \"1\": 54, \"15\": 26, \"13\": 32, \"12\": 2, \"5\": 4}, \"11\": {\"9\": 1490, \"4\": 8, \"7\": 2}, \"0\": {\"6\": 470, \"1\": 313, \"12\": 519, \"8\": 102, \"14\": 45, \"2\": 42, \"5\": 1, \"0\": 6, \"13\": 2}, \"1\": {\"7\": 287, \"8\": 1136, \"5\": 77}, \"12\": {\"3\": 1146, \"7\": 83, \"8\": 147, \"4\": 107, \"13\": 8, \"0\": 5, \"11\": 4}, \"9\": {\"15\": 1271, \"9\": 221, \"5\": 8}, \"7\": {\"15\": 1026, \"9\": 473, \"7\": 1}, \"14\": {\"6\": 76, \"15\": 897, \"9\": 167, \"4\": 346, \"12\": 12, \"5\": 2}, \"2\": {\"8\": 633, \"15\": 827, \"5\": 16, \"11\": 24}, \"3\": {\"11\": 61, \"4\": 688, \"8\": 208, \"0\": 236, \"7\": 252, \"3\": 51, \"13\": 2, \"2\": 2}, \"6\": {\"15\": 1450, \"9\": 50}, \"4\": {\"15\": 1285, \"9\": 208, \"4\": 7}, \"8\": {\"6\": 749, \"12\": 732, \"14\": 4, \"1\": 12, \"5\": 1, \"13\": 2}, \"15\": {\"11\": 653, \"12\": 475, \"6\": 208, \"1\": 119, \"2\": 2, \"14\": 39, \"9\": 3, \"15\": 1}, \"13\": {\"15\": 764, \"9\": 245, \"4\": 491}}, \"14\": {\"12\": {\"3\": 326, \"2\": 366, \"12\": 174, \"15\": 48, \"7\": 82, \"6\": 239, \"9\": 191, \"13\": 19, \"0\": 27, \"14\": 13, \"10\": 13, \"11\": 2}, \"11\": {\"7\": 1411, \"4\": 56, \"12\": 30, \"11\": 3}, \"3\": {\"3\": 1500}, \"0\": {\"3\": 1500}, \"2\": {\"3\": 1500}, \"9\": {\"2\": 1026, \"3\": 473, \"6\": 1}, \"1\": {\"3\": 1438, \"7\": 32, \"11\": 30}, \"13\": {\"3\": 1500}, \"15\": {\"3\": 632, \"13\": 764, \"11\": 104}, \"7\": {\"3\": 1499, \"11\": 1}, \"10\": {\"3\": 1491, \"15\": 8, \"12\": 1}, \"4\": {\"3\": 1500}, \"14\": {\"3\": 1500}, \"5\": {\"3\": 1500}, \"8\": {\"3\": 1497, \"11\": 3}, \"6\": {\"3\": 1500}}, \"20\": {\"14\": {\"12\": 1413, \"3\": 71, \"15\": 16}, \"1\": {\"2\": 1464, \"12\": 29, \"15\": 6, \"3\": 1}, \"11\": {\"3\": 1497, \"2\": 3}, \"6\": {\"12\": 1500}, \"2\": {\"12\": 433, \"2\": 1065, \"3\": 2}, \"0\": {\"3\": 524, \"2\": 732, \"15\": 205, \"12\": 39}, \"5\": {\"2\": 752, \"12\": 737, \"15\": 7, \"3\": 4}, \"12\": {\"12\": 803, \"2\": 602, \"7\": 95}, \"4\": {\"12\": 1465, \"2\": 30, \"15\": 5}, \"10\": {\"12\": 1497, \"11\": 3}, \"7\": {\"12\": 1487, \"7\": 2, \"2\": 11}, \"9\": {\"12\": 368, \"2\": 1131, \"11\": 1}, \"13\": {\"2\": 1329, \"12\": 65, \"7\": 106}, \"8\": {\"12\": 1039, \"3\": 427, \"15\": 33, \"2\": 1}, \"15\": {\"2\": 1398, \"12\": 102}, \"3\": {\"12\": 1139, \"2\": 360, \"7\": 1}}, \"8\": {\"4\": {\"4\": 683, \"6\": 411, \"8\": 69, \"14\": 166, \"7\": 139, \"1\": 17, \"11\": 1, \"13\": 3, \"10\": 11}, \"12\": {\"12\": 1461, \"15\": 39}, \"7\": {\"7\": 802, \"8\": 56, \"4\": 552, \"6\": 32, \"1\": 6, \"14\": 13, \"13\": 19, \"10\": 9, \"11\": 9, \"12\": 2}, \"9\": {\"9\": 1500}, \"8\": {\"11\": 604, \"8\": 875, \"1\": 18, \"6\": 3}, \"11\": {\"11\": 1402, \"8\": 96, \"12\": 1, \"1\": 1}, \"10\": {\"10\": 775, \"5\": 637, \"13\": 35, \"1\": 52, \"14\": 1}, \"1\": {\"1\": 1494, \"5\": 5, \"14\": 1}, \"14\": {\"14\": 1331, \"0\": 74, \"1\": 74, \"6\": 13, \"5\": 3, \"8\": 4, \"2\": 1}, \"6\": {\"14\": 334, \"6\": 934, \"0\": 69, \"8\": 124, \"11\": 22, \"2\": 2, \"1\": 13, \"4\": 1, \"12\": 1}, \"13\": {\"1\": 436, \"13\": 953, \"10\": 78, \"5\": 32, \"8\": 1}, \"2\": {\"2\": 1496, \"15\": 2, \"12\": 2}, \"15\": {\"15\": 1331, \"12\": 165, \"3\": 1, \"2\": 3}, \"0\": {\"0\": 1500}, \"3\": {\"3\": 1495, \"15\": 5}, \"5\": {\"5\": 1337, \"1\": 147, \"10\": 16}}, \"26\": {\"11\": {\"12\": 157, \"6\": 1332, \"9\": 9, \"2\": 2}, \"3\": {\"3\": 1500}, \"7\": {\"3\": 1500}, \"15\": {\"3\": 1471, \"13\": 29}, \"4\": {\"3\": 1500}, \"14\": {\"3\": 952, \"12\": 544, \"13\": 4}, \"13\": {\"3\": 1488, \"6\": 7, \"11\": 3, \"14\": 2}, \"10\": {\"3\": 1128, \"12\": 366, \"13\": 6}, \"5\": {\"12\": 354, \"6\": 44, \"3\": 393, \"14\": 509, \"11\": 123, \"13\": 59, \"9\": 18}, \"1\": {\"12\": 1423, \"13\": 7, \"3\": 70}, \"6\": {\"12\": 979, \"3\": 242, \"14\": 227, \"9\": 7, \"13\": 34, \"6\": 11}, \"8\": {\"3\": 1500}, \"12\": {\"12\": 923, \"3\": 532, \"15\": 27, \"6\": 11, \"9\": 7}, \"9\": {\"3\": 1499, \"14\": 1}, \"0\": {\"3\": 1387, \"12\": 111, \"13\": 2}, \"2\": {\"3\": 1500}}, \"38\": {\"10\": {\"4\": 1328, \"9\": 151, \"7\": 21}, \"15\": {\"1\": 988, \"10\": 356, \"9\": 39, \"14\": 9, \"0\": 105, \"12\": 3}, \"3\": {\"9\": 1242, \"7\": 172, \"4\": 86}, \"13\": {\"9\": 667, \"7\": 591, \"4\": 242}, \"12\": {\"13\": 1476, \"15\": 24}, \"0\": {\"15\": 1250, \"9\": 248, \"4\": 2}, \"11\": {\"7\": 1500}, \"5\": {\"1\": 662, \"15\": 443, \"11\": 99, \"6\": 161, \"4\": 98, \"9\": 15, \"13\": 19, \"5\": 3}, \"7\": {\"4\": 1246, \"15\": 250, \"9\": 4}, \"6\": {\"14\": 958, \"9\": 316, \"0\": 221, \"1\": 2, \"4\": 1, \"2\": 2}, \"1\": {\"0\": 400, \"14\": 206, \"1\": 824, \"2\": 28, \"9\": 37, \"10\": 5}, \"4\": {\"4\": 1364, \"7\": 124, \"15\": 12}, \"9\": {\"9\": 1022, \"12\": 195, \"11\": 182, \"15\": 78, \"14\": 22, \"5\": 1}, \"8\": {\"15\": 995, \"4\": 413, \"6\": 31, \"9\": 53, \"5\": 8}, \"2\": {\"13\": 537, \"5\": 655, \"7\": 254, \"3\": 43, \"6\": 5, \"4\": 6}, \"14\": {\"13\": 348, \"7\": 682, \"5\": 128, \"4\": 289, \"3\": 49, \"6\": 4}}, \"50\": {\"15\": {\"15\": 1458, \"6\": 16, \"12\": 1, \"4\": 15, \"9\": 7, \"11\": 3}, \"1\": {\"1\": 1493, \"13\": 5, \"10\": 2}, \"5\": {\"4\": 689, \"5\": 587, \"13\": 48, \"7\": 102, \"6\": 71, \"15\": 3}, \"12\": {\"12\": 1189, \"9\": 159, \"11\": 85, \"14\": 58, \"5\": 6, \"15\": 2, \"2\": 1}, \"4\": {\"4\": 1416, \"7\": 52, \"5\": 25, \"6\": 4, \"15\": 3}, \"2\": {\"2\": 1216, \"9\": 181, \"0\": 94, \"12\": 5, \"14\": 4}, \"10\": {\"10\": 1493, \"0\": 4, \"13\": 3}, \"7\": {\"7\": 1409, \"4\": 85, \"5\": 5, \"13\": 1}, \"9\": {\"9\": 1465, \"15\": 32, \"5\": 2, \"12\": 1}, \"3\": {\"3\": 1497, \"13\": 1, \"7\": 2}, \"14\": {\"14\": 1362, \"9\": 136, \"12\": 2}, \"6\": {\"6\": 1271, \"5\": 40, \"4\": 36, \"13\": 29, \"15\": 118, \"1\": 6}, \"8\": {\"8\": 1389, \"10\": 8, \"13\": 95, \"1\": 8}, \"11\": {\"15\": 20, \"1\": 210, \"11\": 1260, \"14\": 8, \"12\": 2}, \"0\": {\"0\": 1356, \"10\": 103, \"2\": 33, \"9\": 8}, \"13\": {\"13\": 1477, \"10\": 16, \"1\": 5, \"8\": 2}}, \"32\": {\"4\": {\"4\": 1131, \"11\": 131, \"13\": 222, \"3\": 7, \"0\": 7, \"14\": 2}, \"12\": {\"12\": 1493, \"9\": 3, \"2\": 3, \"0\": 1}, \"9\": {\"14\": 246, \"9\": 1235, \"12\": 2, \"2\": 14, \"0\": 3}, \"5\": {\"5\": 940, \"15\": 98, \"9\": 166, \"11\": 150, \"8\": 59, \"2\": 36, \"0\": 9, \"14\": 25, \"7\": 11, \"12\": 6}, \"0\": {\"4\": 176, \"0\": 1098, \"8\": 140, \"14\": 27, \"7\": 8, \"11\": 43, \"13\": 2, \"2\": 6}, \"8\": {\"8\": 1431, \"0\": 68, \"4\": 1}, \"14\": {\"14\": 1367, \"2\": 34, \"0\": 90, \"8\": 1, \"11\": 8}, \"15\": {\"15\": 1492, \"8\": 8}, \"13\": {\"13\": 1428, \"11\": 34, \"4\": 25, \"3\": 13}, \"3\": {\"3\": 1375, \"13\": 121, \"4\": 4}, \"7\": {\"7\": 1033, \"0\": 325, \"2\": 35, \"8\": 92, \"4\": 4, \"11\": 8, \"5\": 1, \"14\": 2}, \"2\": {\"0\": 472, \"2\": 858, \"14\": 134, \"8\": 13, \"7\": 5, \"4\": 5, \"11\": 13}, \"6\": {\"6\": 1497, \"2\": 3}, \"11\": {\"11\": 999, \"4\": 157, \"13\": 323, \"0\": 19, \"7\": 1, \"14\": 1}, \"10\": {\"10\": 1500}, \"1\": {\"1\": 1474, \"10\": 12, \"8\": 13, \"13\": 1}}}, \"per_domain_accuracy\": {\"44\": {\"accuracy\": 0.012125, \"source?\": false}, \"14\": {\"accuracy\": 0.069875, \"source?\": false}, \"20\": {\"accuracy\": 0.07791666666666666, \"source?\": false}, \"8\": {\"accuracy\": 0.8070416666666667, \"source?\": true}, \"26\": {\"accuracy\": 0.10141666666666667, \"source?\": false}, \"38\": {\"accuracy\": 0.133875, \"source?\": false}, \"50\": {\"accuracy\": 0.8890833333333333, \"source?\": true}, \"32\": {\"accuracy\": 0.8479583333333334, \"source?\": true}}}, \"history\": {\"epoch_indices\": [1, 2, 3, 4, 5, 6, 7, 8, 9, 10], \"train_label_loss\": [1.6248717921801976, 0.7307744885853359, 0.4865868018354688, 0.37927513708954763, 0.3147271595852716, 0.267100456964402, 0.2336166585201309, 0.20752267122268678, 0.18128182121685574, 0.16365170074218796], \"source_val_label_loss\": [0.957539194218854, 0.6934883909475317, 0.5380960829410417, 0.3269542670588722, 0.3801072402121119, 0.4074871634028945, 0.3462850996169061, 0.47774181481894124, 0.29875204128545724, 0.4000759070497635], \"target_val_label_loss\": [9.150448454976845, 13.743213778619827, 15.475747555812031, 16.642966114890093, 16.816314094356382, 18.25326948125225, 19.491452084929705, 22.251642324777045, 21.035009835574673, 22.05628824945706], \"source_val_acc_label\": [0.7012916666666666, 0.7415138888888889, 0.7988333333333333, 0.8934166666666666, 0.8561944444444445, 0.8480277777777778, 0.8675694444444444, 0.8243888888888888, 0.8894027777777778, 0.8476666666666667], \"target_val_acc_label\": [0.054533333333333336, 0.078, 0.072175, 0.0722, 0.06441666666666666, 0.07904166666666666, 0.064125, 0.07056666666666667, 0.06513333333333333, 0.07590833333333333]}, \"dataset_metrics\": {\"source\": {\"train\": {\"n_unique_x\": 336000, \"n_unique_y\": 16, \"n_batch/episode\": 2625}, \"val\": {\"n_unique_x\": 72000, \"n_unique_y\": 16, \"n_batch/episode\": 563}, \"test\": {\"n_unique_x\": 72000, \"n_unique_y\": 16, \"n_batch/episode\": 563}}, \"target\": {\"train\": {\"n_unique_x\": 560000, \"n_unique_y\": 16, \"n_batch/episode\": 4375}, \"val\": {\"n_unique_x\": 120000, \"n_unique_y\": 16, \"n_batch/episode\": 938}, \"test\": {\"n_unique_x\": 120000, \"n_unique_y\": 16, \"n_batch/episode\": 938}}}}'"
      ]
     },
     "execution_count": 20,
     "metadata": {},
     "output_type": "execute_result"
    }
   ],
   "source": [
    "json.dumps(experiment)"
   ]
  }
 ],
 "metadata": {
  "celltoolbar": "Tags",
  "kernelspec": {
   "display_name": "Python 3 (ipykernel)",
   "language": "python",
   "name": "python3"
  },
  "language_info": {
   "codemirror_mode": {
    "name": "ipython",
    "version": 3
   },
   "file_extension": ".py",
   "mimetype": "text/x-python",
   "name": "python",
   "nbconvert_exporter": "python",
   "pygments_lexer": "ipython3",
   "version": "3.8.12"
  },
  "papermill": {
   "default_parameters": {},
   "duration": 444.995704,
   "end_time": "2022-03-26T00:00:57.122974",
   "environment_variables": {},
   "exception": null,
   "input_path": "/root/csc500-main/csc500-notebooks/templates/cnn_template.ipynb",
   "output_path": "trial.ipynb",
   "parameters": {
    "parameters": {
     "BEST_MODEL_PATH": "./best_model.pth",
     "NUM_LOGS_PER_EPOCH": 10,
     "batch_size": 128,
     "criteria_for_best": "target_accuracy",
     "dataset_seed": 1337,
     "device": "cuda",
     "domains_source": [
      8,
      32,
      50
     ],
     "domains_target": [
      14,
      20,
      26,
      38,
      44
     ],
     "experiment_name": "cnn_1:oracle.run2",
     "labels": [
      "3123D52",
      "3123D65",
      "3123D79",
      "3123D80",
      "3123D54",
      "3123D70",
      "3123D7B",
      "3123D89",
      "3123D58",
      "3123D76",
      "3123D7D",
      "3123EFE",
      "3123D64",
      "3123D78",
      "3123D7E",
      "3124E4A"
     ],
     "lr": 0.0001,
     "n_epoch": 50,
     "normalize_source": false,
     "normalize_target": false,
     "num_examples_per_domain_per_label_source": -1,
     "num_examples_per_domain_per_label_target": -1,
     "patience": 3,
     "pickle_name_source": "oracle.Run2_10kExamples_stratified_ds.2022A.pkl",
     "pickle_name_target": "oracle.Run2_10kExamples_stratified_ds.2022A.pkl",
     "seed": 1337,
     "torch_default_dtype": "torch.float32",
     "x_net": [
      {
       "class": "nnReshape",
       "kargs": {
        "shape": [
         -1,
         1,
         2,
         256
        ]
       }
      },
      {
       "class": "Conv2d",
       "kargs": {
        "bias": false,
        "in_channels": 1,
        "kernel_size": [
         1,
         7
        ],
        "out_channels": 256,
        "padding": [
         0,
         3
        ]
       }
      },
      {
       "class": "ReLU",
       "kargs": {
        "inplace": true
       }
      },
      {
       "class": "BatchNorm2d",
       "kargs": {
        "num_features": 256
       }
      },
      {
       "class": "Conv2d",
       "kargs": {
        "bias": true,
        "in_channels": 256,
        "kernel_size": [
         2,
         7
        ],
        "out_channels": 80,
        "padding": [
         0,
         3
        ]
       }
      },
      {
       "class": "ReLU",
       "kargs": {
        "inplace": true
       }
      },
      {
       "class": "BatchNorm2d",
       "kargs": {
        "num_features": 80
       }
      },
      {
       "class": "Flatten",
       "kargs": {}
      },
      {
       "class": "Linear",
       "kargs": {
        "in_features": 20480,
        "out_features": 256
       }
      },
      {
       "class": "ReLU",
       "kargs": {
        "inplace": true
       }
      },
      {
       "class": "BatchNorm1d",
       "kargs": {
        "num_features": 256
       }
      },
      {
       "class": "Linear",
       "kargs": {
        "in_features": 256,
        "out_features": 16
       }
      }
     ]
    }
   },
   "start_time": "2022-03-25T23:53:32.127270",
   "version": "2.3.4"
  }
 },
 "nbformat": 4,
 "nbformat_minor": 5
}