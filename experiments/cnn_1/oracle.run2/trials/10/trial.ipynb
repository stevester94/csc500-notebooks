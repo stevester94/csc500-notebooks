{
 "cells": [
  {
   "cell_type": "code",
   "execution_count": 1,
   "id": "2324682e",
   "metadata": {
    "execution": {
     "iopub.execute_input": "2022-03-26T01:04:13.164141Z",
     "iopub.status.busy": "2022-03-26T01:04:13.163261Z",
     "iopub.status.idle": "2022-03-26T01:04:14.473767Z",
     "shell.execute_reply": "2022-03-26T01:04:14.472878Z"
    },
    "papermill": {
     "duration": 1.35033,
     "end_time": "2022-03-26T01:04:14.473968",
     "exception": false,
     "start_time": "2022-03-26T01:04:13.123638",
     "status": "completed"
    },
    "tags": []
   },
   "outputs": [],
   "source": [
    "import os, json, sys, time, random\n",
    "import numpy as np\n",
    "import torch\n",
    "from  easydict import EasyDict\n",
    "from math import floor\n",
    "from easydict import EasyDict\n",
    "\n",
    "from steves_utils.vanilla_train_eval_test_jig import  Vanilla_Train_Eval_Test_Jig\n",
    "\n",
    "from steves_utils.torch_utils import get_dataset_metrics, independent_accuracy_assesment\n",
    "from steves_models.configurable_vanilla import Configurable_Vanilla\n",
    "from steves_utils.torch_sequential_builder import build_sequential\n",
    "from steves_utils.lazy_map import Lazy_Map\n",
    "from steves_utils.sequence_aggregator import Sequence_Aggregator\n",
    "\n",
    "from steves_utils.stratified_dataset.traditional_accessor import Traditional_Accessor_Factory\n",
    "\n",
    "from steves_utils.cnn_do_report import (\n",
    "    get_loss_curve,\n",
    "    get_results_table,\n",
    "    get_parameters_table,\n",
    "    get_domain_accuracies,\n",
    ")\n",
    "\n",
    "from steves_utils.torch_utils import (\n",
    "    confusion_by_domain_over_dataloader,\n",
    "    independent_accuracy_assesment\n",
    ")\n",
    "\n",
    "from steves_utils.utils_v2 import (\n",
    "    per_domain_accuracy_from_confusion,\n",
    "    get_datasets_base_path\n",
    ")\n",
    "\n",
    "# from steves_utils.ptn_do_report import TBD"
   ]
  },
  {
   "cell_type": "code",
   "execution_count": 2,
   "id": "1b29e3fe",
   "metadata": {
    "execution": {
     "iopub.execute_input": "2022-03-26T01:04:14.516006Z",
     "iopub.status.busy": "2022-03-26T01:04:14.515339Z",
     "iopub.status.idle": "2022-03-26T01:04:14.517602Z",
     "shell.execute_reply": "2022-03-26T01:04:14.518115Z"
    },
    "papermill": {
     "duration": 0.022839,
     "end_time": "2022-03-26T01:04:14.518271",
     "exception": false,
     "start_time": "2022-03-26T01:04:14.495432",
     "status": "completed"
    },
    "tags": []
   },
   "outputs": [],
   "source": [
    "required_parameters = {\n",
    "    \"experiment_name\",\n",
    "    \"lr\",\n",
    "    \"device\",\n",
    "    \"dataset_seed\",\n",
    "    \"seed\",\n",
    "    \"labels\",\n",
    "    \"domains_target\",\n",
    "    \"domains_source\",\n",
    "    \"num_examples_per_domain_per_label_source\",\n",
    "    \"num_examples_per_domain_per_label_target\",\n",
    "    \"batch_size\",\n",
    "    \"n_epoch\",\n",
    "    \"patience\",\n",
    "    \"criteria_for_best\",\n",
    "    \"normalize_source\",\n",
    "    \"normalize_target\",\n",
    "    \"x_net\",\n",
    "    \"NUM_LOGS_PER_EPOCH\",\n",
    "    \"BEST_MODEL_PATH\",\n",
    "    \"pickle_name_source\",\n",
    "    \"pickle_name_target\",\n",
    "    \"torch_default_dtype\",\n",
    "}"
   ]
  },
  {
   "cell_type": "code",
   "execution_count": 3,
   "id": "670b5fb8",
   "metadata": {
    "execution": {
     "iopub.execute_input": "2022-03-26T01:04:14.562782Z",
     "iopub.status.busy": "2022-03-26T01:04:14.561901Z",
     "iopub.status.idle": "2022-03-26T01:04:14.569233Z",
     "shell.execute_reply": "2022-03-26T01:04:14.568409Z"
    },
    "papermill": {
     "duration": 0.032493,
     "end_time": "2022-03-26T01:04:14.569404",
     "exception": false,
     "start_time": "2022-03-26T01:04:14.536911",
     "status": "completed"
    },
    "tags": [
     "parameters"
    ]
   },
   "outputs": [],
   "source": [
    "from steves_utils.ORACLE.utils_v2 import (\n",
    "    ALL_SERIAL_NUMBERS,\n",
    "    ALL_DISTANCES_FEET_NARROWED,\n",
    ")\n",
    "\n",
    "standalone_parameters = {}\n",
    "standalone_parameters[\"experiment_name\"] = \"MANUAL CORES CNN\"\n",
    "standalone_parameters[\"lr\"] = 0.0001\n",
    "standalone_parameters[\"device\"] = \"cuda\"\n",
    "\n",
    "standalone_parameters[\"dataset_seed\"] = 1337\n",
    "standalone_parameters[\"seed\"] = 1337\n",
    "standalone_parameters[\"labels\"] = ALL_SERIAL_NUMBERS\n",
    "\n",
    "standalone_parameters[\"domains_source\"] = [8,32,50]\n",
    "standalone_parameters[\"domains_target\"] = [14,20,26,38,44,]\n",
    "\n",
    "standalone_parameters[\"num_examples_per_domain_per_label_source\"]=-1\n",
    "standalone_parameters[\"num_examples_per_domain_per_label_target\"]=-1\n",
    "\n",
    "standalone_parameters[\"pickle_name_source\"] = \"oracle.Run1_framed_2000Examples_stratified_ds.2022A.pkl\"\n",
    "standalone_parameters[\"pickle_name_target\"] = \"oracle.Run2_framed_2000Examples_stratified_ds.2022A.pkl\"\n",
    "\n",
    "standalone_parameters[\"torch_default_dtype\"] = \"torch.float32\" \n",
    "\n",
    "standalone_parameters[\"batch_size\"]=128\n",
    "\n",
    "standalone_parameters[\"n_epoch\"] = 3\n",
    "\n",
    "standalone_parameters[\"patience\"] = 10\n",
    "\n",
    "standalone_parameters[\"criteria_for_best\"] = \"target_accuracy\"\n",
    "standalone_parameters[\"normalize_source\"] = False\n",
    "standalone_parameters[\"normalize_target\"] = False\n",
    "\n",
    "standalone_parameters[\"x_net\"] =     [\n",
    "    {\"class\": \"nnReshape\", \"kargs\": {\"shape\":[-1, 1, 2, 256]}},\n",
    "    {\"class\": \"Conv2d\", \"kargs\": { \"in_channels\":1, \"out_channels\":256, \"kernel_size\":(1,7), \"bias\":False, \"padding\":(0,3), },},\n",
    "    {\"class\": \"ReLU\", \"kargs\": {\"inplace\": True}},\n",
    "    {\"class\": \"BatchNorm2d\", \"kargs\": {\"num_features\":256}},\n",
    "\n",
    "    {\"class\": \"Conv2d\", \"kargs\": { \"in_channels\":256, \"out_channels\":80, \"kernel_size\":(2,7), \"bias\":True, \"padding\":(0,3), },},\n",
    "    {\"class\": \"ReLU\", \"kargs\": {\"inplace\": True}},\n",
    "    {\"class\": \"BatchNorm2d\", \"kargs\": {\"num_features\":80}},\n",
    "    {\"class\": \"Flatten\", \"kargs\": {}},\n",
    "\n",
    "    {\"class\": \"Linear\", \"kargs\": {\"in_features\": 80*256, \"out_features\": 256}}, # 80 units per IQ pair\n",
    "    {\"class\": \"ReLU\", \"kargs\": {\"inplace\": True}},\n",
    "    {\"class\": \"BatchNorm1d\", \"kargs\": {\"num_features\":256}},\n",
    "\n",
    "    {\"class\": \"Linear\", \"kargs\": {\"in_features\": 256, \"out_features\": len(standalone_parameters[\"labels\"])}},\n",
    "]\n",
    "\n",
    "standalone_parameters[\"NUM_LOGS_PER_EPOCH\"] = 10\n",
    "standalone_parameters[\"BEST_MODEL_PATH\"] = \"./best_model.pth\""
   ]
  },
  {
   "cell_type": "code",
   "execution_count": 4,
   "id": "fa2841bf",
   "metadata": {
    "execution": {
     "iopub.execute_input": "2022-03-26T01:04:14.615451Z",
     "iopub.status.busy": "2022-03-26T01:04:14.610601Z",
     "iopub.status.idle": "2022-03-26T01:04:14.617981Z",
     "shell.execute_reply": "2022-03-26T01:04:14.617186Z"
    },
    "papermill": {
     "duration": 0.028748,
     "end_time": "2022-03-26T01:04:14.618143",
     "exception": false,
     "start_time": "2022-03-26T01:04:14.589395",
     "status": "completed"
    },
    "tags": [
     "injected-parameters"
    ]
   },
   "outputs": [],
   "source": [
    "# Parameters\n",
    "parameters = {\n",
    "    \"experiment_name\": \"cnn_1:oracle.run2\",\n",
    "    \"labels\": [\n",
    "        \"3123D52\",\n",
    "        \"3123D65\",\n",
    "        \"3123D79\",\n",
    "        \"3123D80\",\n",
    "        \"3123D54\",\n",
    "        \"3123D70\",\n",
    "        \"3123D7B\",\n",
    "        \"3123D89\",\n",
    "        \"3123D58\",\n",
    "        \"3123D76\",\n",
    "        \"3123D7D\",\n",
    "        \"3123EFE\",\n",
    "        \"3123D64\",\n",
    "        \"3123D78\",\n",
    "        \"3123D7E\",\n",
    "        \"3124E4A\",\n",
    "    ],\n",
    "    \"domains_source\": [8, 32, 50],\n",
    "    \"domains_target\": [14, 20, 26, 38, 44],\n",
    "    \"pickle_name_source\": \"oracle.Run2_10kExamples_stratified_ds.2022A.pkl\",\n",
    "    \"pickle_name_target\": \"oracle.Run2_10kExamples_stratified_ds.2022A.pkl\",\n",
    "    \"device\": \"cuda\",\n",
    "    \"lr\": 0.0001,\n",
    "    \"batch_size\": 128,\n",
    "    \"normalize_source\": False,\n",
    "    \"normalize_target\": False,\n",
    "    \"num_examples_per_domain_per_label_source\": -1,\n",
    "    \"num_examples_per_domain_per_label_target\": -1,\n",
    "    \"torch_default_dtype\": \"torch.float32\",\n",
    "    \"n_epoch\": 50,\n",
    "    \"patience\": 3,\n",
    "    \"criteria_for_best\": \"target_accuracy\",\n",
    "    \"x_net\": [\n",
    "        {\"class\": \"nnReshape\", \"kargs\": {\"shape\": [-1, 1, 2, 256]}},\n",
    "        {\n",
    "            \"class\": \"Conv2d\",\n",
    "            \"kargs\": {\n",
    "                \"in_channels\": 1,\n",
    "                \"out_channels\": 256,\n",
    "                \"kernel_size\": [1, 7],\n",
    "                \"bias\": False,\n",
    "                \"padding\": [0, 3],\n",
    "            },\n",
    "        },\n",
    "        {\"class\": \"ReLU\", \"kargs\": {\"inplace\": True}},\n",
    "        {\"class\": \"BatchNorm2d\", \"kargs\": {\"num_features\": 256}},\n",
    "        {\n",
    "            \"class\": \"Conv2d\",\n",
    "            \"kargs\": {\n",
    "                \"in_channels\": 256,\n",
    "                \"out_channels\": 80,\n",
    "                \"kernel_size\": [2, 7],\n",
    "                \"bias\": True,\n",
    "                \"padding\": [0, 3],\n",
    "            },\n",
    "        },\n",
    "        {\"class\": \"ReLU\", \"kargs\": {\"inplace\": True}},\n",
    "        {\"class\": \"BatchNorm2d\", \"kargs\": {\"num_features\": 80}},\n",
    "        {\"class\": \"Flatten\", \"kargs\": {}},\n",
    "        {\"class\": \"Linear\", \"kargs\": {\"in_features\": 20480, \"out_features\": 256}},\n",
    "        {\"class\": \"ReLU\", \"kargs\": {\"inplace\": True}},\n",
    "        {\"class\": \"BatchNorm1d\", \"kargs\": {\"num_features\": 256}},\n",
    "        {\"class\": \"Linear\", \"kargs\": {\"in_features\": 256, \"out_features\": 16}},\n",
    "    ],\n",
    "    \"NUM_LOGS_PER_EPOCH\": 10,\n",
    "    \"BEST_MODEL_PATH\": \"./best_model.pth\",\n",
    "    \"dataset_seed\": 500,\n",
    "    \"seed\": 500,\n",
    "}\n"
   ]
  },
  {
   "cell_type": "code",
   "execution_count": 5,
   "id": "759b56ec",
   "metadata": {
    "execution": {
     "iopub.execute_input": "2022-03-26T01:04:14.658188Z",
     "iopub.status.busy": "2022-03-26T01:04:14.657370Z",
     "iopub.status.idle": "2022-03-26T01:04:14.660404Z",
     "shell.execute_reply": "2022-03-26T01:04:14.659601Z"
    },
    "papermill": {
     "duration": 0.025399,
     "end_time": "2022-03-26T01:04:14.660568",
     "exception": false,
     "start_time": "2022-03-26T01:04:14.635169",
     "status": "completed"
    },
    "tags": []
   },
   "outputs": [],
   "source": [
    "# Set this to True if you want to run this template directly\n",
    "STANDALONE = False\n",
    "if STANDALONE:\n",
    "    print(\"parameters not injected, running with standalone_parameters\")\n",
    "    parameters = standalone_parameters\n",
    "\n",
    "if not 'parameters' in locals() and not 'parameters' in globals():\n",
    "    raise Exception(\"Parameter injection failed\")\n",
    "\n",
    "#Use an easy dict for all the parameters\n",
    "p = EasyDict(parameters)\n",
    "\n",
    "supplied_keys = set(p.keys())\n",
    "\n",
    "if  supplied_keys != required_parameters:\n",
    "    print(\"Parameters are incorrect\")\n",
    "    if len(supplied_keys - required_parameters)>0: print(\"Shouldn't have:\", str(supplied_keys - required_parameters))\n",
    "    if len(required_parameters - supplied_keys)>0: print(\"Need to have:\", str(required_parameters - supplied_keys))\n",
    "    raise RuntimeError(\"Parameters are incorrect\")\n",
    "\n"
   ]
  },
  {
   "cell_type": "code",
   "execution_count": 6,
   "id": "d5c66a71",
   "metadata": {
    "execution": {
     "iopub.execute_input": "2022-03-26T01:04:14.696297Z",
     "iopub.status.busy": "2022-03-26T01:04:14.695926Z",
     "iopub.status.idle": "2022-03-26T01:04:14.699378Z",
     "shell.execute_reply": "2022-03-26T01:04:14.699055Z"
    },
    "papermill": {
     "duration": 0.021048,
     "end_time": "2022-03-26T01:04:14.699456",
     "exception": false,
     "start_time": "2022-03-26T01:04:14.678408",
     "status": "completed"
    },
    "tags": []
   },
   "outputs": [],
   "source": [
    "###################################\n",
    "# Set the RNGs and make it all deterministic\n",
    "###################################\n",
    "np.random.seed(p.seed)\n",
    "random.seed(p.seed)\n",
    "torch.manual_seed(p.seed)\n",
    "\n",
    "torch.use_deterministic_algorithms(True) "
   ]
  },
  {
   "cell_type": "code",
   "execution_count": 7,
   "id": "92a65876",
   "metadata": {
    "execution": {
     "iopub.execute_input": "2022-03-26T01:04:14.738438Z",
     "iopub.status.busy": "2022-03-26T01:04:14.738068Z",
     "iopub.status.idle": "2022-03-26T01:04:14.740632Z",
     "shell.execute_reply": "2022-03-26T01:04:14.741145Z"
    },
    "papermill": {
     "duration": 0.021178,
     "end_time": "2022-03-26T01:04:14.741295",
     "exception": false,
     "start_time": "2022-03-26T01:04:14.720117",
     "status": "completed"
    },
    "tags": []
   },
   "outputs": [],
   "source": [
    "torch.set_default_dtype(eval(p.torch_default_dtype))"
   ]
  },
  {
   "cell_type": "code",
   "execution_count": 8,
   "id": "f1a32f01",
   "metadata": {
    "execution": {
     "iopub.execute_input": "2022-03-26T01:04:14.778950Z",
     "iopub.status.busy": "2022-03-26T01:04:14.778577Z",
     "iopub.status.idle": "2022-03-26T01:04:14.820769Z",
     "shell.execute_reply": "2022-03-26T01:04:14.820032Z"
    },
    "papermill": {
     "duration": 0.061617,
     "end_time": "2022-03-26T01:04:14.820949",
     "exception": false,
     "start_time": "2022-03-26T01:04:14.759332",
     "status": "completed"
    },
    "tags": []
   },
   "outputs": [],
   "source": [
    "###################################\n",
    "# Build the network(s)\n",
    "# Note: It's critical to do this AFTER setting the RNG\n",
    "###################################\n",
    "x_net = build_sequential(p.x_net)"
   ]
  },
  {
   "cell_type": "code",
   "execution_count": 9,
   "id": "a276cd83",
   "metadata": {
    "execution": {
     "iopub.execute_input": "2022-03-26T01:04:14.859257Z",
     "iopub.status.busy": "2022-03-26T01:04:14.858874Z",
     "iopub.status.idle": "2022-03-26T01:04:14.860874Z",
     "shell.execute_reply": "2022-03-26T01:04:14.861176Z"
    },
    "papermill": {
     "duration": 0.020238,
     "end_time": "2022-03-26T01:04:14.861278",
     "exception": false,
     "start_time": "2022-03-26T01:04:14.841040",
     "status": "completed"
    },
    "tags": []
   },
   "outputs": [],
   "source": [
    "start_time_secs = time.time()"
   ]
  },
  {
   "cell_type": "code",
   "execution_count": 10,
   "id": "de702e48",
   "metadata": {
    "execution": {
     "iopub.execute_input": "2022-03-26T01:04:14.909695Z",
     "iopub.status.busy": "2022-03-26T01:04:14.908792Z",
     "iopub.status.idle": "2022-03-26T01:04:35.783272Z",
     "shell.execute_reply": "2022-03-26T01:04:35.782546Z"
    },
    "papermill": {
     "duration": 20.904124,
     "end_time": "2022-03-26T01:04:35.783454",
     "exception": false,
     "start_time": "2022-03-26T01:04:14.879330",
     "status": "completed"
    },
    "tags": []
   },
   "outputs": [],
   "source": [
    "def wrap_in_dataloader(p, ds):\n",
    "    return torch.utils.data.DataLoader(\n",
    "        ds,\n",
    "        batch_size=p.batch_size,\n",
    "        shuffle=True,\n",
    "        num_workers=1,\n",
    "        persistent_workers=True,\n",
    "        prefetch_factor=50,\n",
    "        pin_memory=True\n",
    "    )\n",
    "\n",
    "taf_source = Traditional_Accessor_Factory(\n",
    "    labels=p.labels,\n",
    "    domains=p.domains_source,\n",
    "    num_examples_per_domain_per_label=p.num_examples_per_domain_per_label_source,\n",
    "    pickle_path=os.path.join(get_datasets_base_path(), p.pickle_name_source),\n",
    "    seed=p.dataset_seed\n",
    ")\n",
    "train_original_source, val_original_source, test_original_source = \\\n",
    "    taf_source.get_train(), taf_source.get_val(), taf_source.get_test()\n",
    "\n",
    "\n",
    "taf_target = Traditional_Accessor_Factory(\n",
    "    labels=p.labels,\n",
    "    domains=p.domains_target,\n",
    "    num_examples_per_domain_per_label=p.num_examples_per_domain_per_label_source,\n",
    "    pickle_path=os.path.join(get_datasets_base_path(), p.pickle_name_target),\n",
    "    seed=p.dataset_seed\n",
    ")\n",
    "train_original_target, val_original_target, test_original_target = \\\n",
    "    taf_target.get_train(), taf_target.get_val(), taf_target.get_test()\n",
    "\n",
    "\n",
    "# For CNN We only use X and Y. And we only train on the source.\n",
    "# Properly form the data using a transform lambda and Lazy_Map. Finally wrap them in a dataloader\n",
    "\n",
    "transform_lambda = lambda ex: ex[:2] # Strip the tuple to just (x,y)\n",
    "\n",
    "\n",
    "train_processed_source = wrap_in_dataloader(\n",
    "    p,\n",
    "    Lazy_Map(train_original_source, transform_lambda)\n",
    ")\n",
    "val_processed_source = wrap_in_dataloader(\n",
    "    p,\n",
    "    Lazy_Map(val_original_source, transform_lambda)\n",
    ")\n",
    "test_processed_source = wrap_in_dataloader(\n",
    "    p,\n",
    "    Lazy_Map(test_original_source, transform_lambda)\n",
    ")\n",
    "\n",
    "train_processed_target = wrap_in_dataloader(\n",
    "    p,\n",
    "    Lazy_Map(train_original_target, transform_lambda)\n",
    ")\n",
    "val_processed_target = wrap_in_dataloader(\n",
    "    p,\n",
    "    Lazy_Map(val_original_target, transform_lambda)\n",
    ")\n",
    "test_processed_target  = wrap_in_dataloader(\n",
    "    p,\n",
    "    Lazy_Map(test_original_target, transform_lambda)\n",
    ")\n",
    "\n",
    "\n",
    "\n",
    "datasets = EasyDict({\n",
    "    \"source\": {\n",
    "        \"original\": {\"train\":train_original_source, \"val\":val_original_source, \"test\":test_original_source},\n",
    "        \"processed\": {\"train\":train_processed_source, \"val\":val_processed_source, \"test\":test_processed_source}\n",
    "    },\n",
    "    \"target\": {\n",
    "        \"original\": {\"train\":train_original_target, \"val\":val_original_target, \"test\":test_original_target},\n",
    "        \"processed\": {\"train\":train_processed_target, \"val\":val_processed_target, \"test\":test_processed_target}\n",
    "    },\n",
    "})"
   ]
  },
  {
   "cell_type": "code",
   "execution_count": 11,
   "id": "a11b26bd",
   "metadata": {
    "execution": {
     "iopub.execute_input": "2022-03-26T01:04:35.861222Z",
     "iopub.status.busy": "2022-03-26T01:04:35.860390Z",
     "iopub.status.idle": "2022-03-26T01:04:41.564073Z",
     "shell.execute_reply": "2022-03-26T01:04:41.563206Z"
    },
    "papermill": {
     "duration": 5.761159,
     "end_time": "2022-03-26T01:04:41.564245",
     "exception": false,
     "start_time": "2022-03-26T01:04:35.803086",
     "status": "completed"
    },
    "tags": []
   },
   "outputs": [
    {
     "data": {
      "text/plain": [
       "torch.float32"
      ]
     },
     "execution_count": 11,
     "metadata": {},
     "output_type": "execute_result"
    }
   ],
   "source": [
    "ep = next(iter(test_processed_target))\n",
    "ep[0].dtype"
   ]
  },
  {
   "cell_type": "code",
   "execution_count": 12,
   "id": "19425fad",
   "metadata": {
    "execution": {
     "iopub.execute_input": "2022-03-26T01:04:41.602373Z",
     "iopub.status.busy": "2022-03-26T01:04:41.601984Z",
     "iopub.status.idle": "2022-03-26T01:04:41.648389Z",
     "shell.execute_reply": "2022-03-26T01:04:41.647659Z"
    },
    "papermill": {
     "duration": 0.065029,
     "end_time": "2022-03-26T01:04:41.648588",
     "exception": false,
     "start_time": "2022-03-26T01:04:41.583559",
     "status": "completed"
    },
    "tags": []
   },
   "outputs": [],
   "source": [
    "model = Configurable_Vanilla(\n",
    "    x_net=x_net,\n",
    "    label_loss_object=torch.nn.NLLLoss(),\n",
    "    learning_rate=p.lr\n",
    ")"
   ]
  },
  {
   "cell_type": "code",
   "execution_count": 13,
   "id": "7f6d4f2c",
   "metadata": {
    "execution": {
     "iopub.execute_input": "2022-03-26T01:04:41.687643Z",
     "iopub.status.busy": "2022-03-26T01:04:41.687242Z",
     "iopub.status.idle": "2022-03-26T01:09:11.609554Z",
     "shell.execute_reply": "2022-03-26T01:09:11.609162Z"
    },
    "papermill": {
     "duration": 269.941884,
     "end_time": "2022-03-26T01:09:11.609641",
     "exception": false,
     "start_time": "2022-03-26T01:04:41.667757",
     "status": "completed"
    },
    "tags": []
   },
   "outputs": [
    {
     "name": "stdout",
     "output_type": "stream",
     "text": [
      "epoch: 1, [batch: 1 / 2625], examples_per_second: 577.1943, train_label_loss: 2.7800, \n"
     ]
    },
    {
     "name": "stdout",
     "output_type": "stream",
     "text": [
      "epoch: 1, [batch: 263 / 2625], examples_per_second: 10668.4666, train_label_loss: 2.3776, \n"
     ]
    },
    {
     "name": "stdout",
     "output_type": "stream",
     "text": [
      "epoch: 1, [batch: 525 / 2625], examples_per_second: 10730.6055, train_label_loss: 2.1822, \n"
     ]
    },
    {
     "name": "stdout",
     "output_type": "stream",
     "text": [
      "epoch: 1, [batch: 788 / 2625], examples_per_second: 10695.6442, train_label_loss: 1.8820, \n"
     ]
    },
    {
     "name": "stdout",
     "output_type": "stream",
     "text": [
      "epoch: 1, [batch: 1050 / 2625], examples_per_second: 10682.1102, train_label_loss: 1.6258, \n"
     ]
    },
    {
     "name": "stdout",
     "output_type": "stream",
     "text": [
      "epoch: 1, [batch: 1313 / 2625], examples_per_second: 10737.9172, train_label_loss: 1.5495, \n"
     ]
    },
    {
     "name": "stdout",
     "output_type": "stream",
     "text": [
      "epoch: 1, [batch: 1575 / 2625], examples_per_second: 10696.9649, train_label_loss: 1.3558, \n"
     ]
    },
    {
     "name": "stdout",
     "output_type": "stream",
     "text": [
      "epoch: 1, [batch: 1837 / 2625], examples_per_second: 10628.5270, train_label_loss: 1.2970, \n"
     ]
    },
    {
     "name": "stdout",
     "output_type": "stream",
     "text": [
      "epoch: 1, [batch: 2100 / 2625], examples_per_second: 10683.3330, train_label_loss: 1.6960, \n"
     ]
    },
    {
     "name": "stdout",
     "output_type": "stream",
     "text": [
      "epoch: 1, [batch: 2362 / 2625], examples_per_second: 10699.0259, train_label_loss: 1.1528, \n"
     ]
    },
    {
     "name": "stdout",
     "output_type": "stream",
     "text": [
      "=============================================================\n",
      "epoch: 1, source_val_acc_label: 0.6590, source_val_label_loss: 1.0515, target_val_acc_label: 0.0636, target_val_label_loss: 8.5737, \n",
      "=============================================================\n"
     ]
    },
    {
     "name": "stdout",
     "output_type": "stream",
     "text": [
      "New best\n",
      "epoch: 2, [batch: 1 / 2625], examples_per_second: 23.0540, train_label_loss: 1.0578, \n"
     ]
    },
    {
     "name": "stdout",
     "output_type": "stream",
     "text": [
      "epoch: 2, [batch: 263 / 2625], examples_per_second: 10650.4375, train_label_loss: 0.8961, \n"
     ]
    },
    {
     "name": "stdout",
     "output_type": "stream",
     "text": [
      "epoch: 2, [batch: 525 / 2625], examples_per_second: 10600.3572, train_label_loss: 0.8148, \n"
     ]
    },
    {
     "name": "stdout",
     "output_type": "stream",
     "text": [
      "epoch: 2, [batch: 788 / 2625], examples_per_second: 10687.3519, train_label_loss: 0.8341, \n"
     ]
    },
    {
     "name": "stdout",
     "output_type": "stream",
     "text": [
      "epoch: 2, [batch: 1050 / 2625], examples_per_second: 10627.7665, train_label_loss: 0.7383, \n"
     ]
    },
    {
     "name": "stdout",
     "output_type": "stream",
     "text": [
      "epoch: 2, [batch: 1313 / 2625], examples_per_second: 10656.1189, train_label_loss: 0.7306, \n"
     ]
    },
    {
     "name": "stdout",
     "output_type": "stream",
     "text": [
      "epoch: 2, [batch: 1575 / 2625], examples_per_second: 10571.3615, train_label_loss: 0.5778, \n"
     ]
    },
    {
     "name": "stdout",
     "output_type": "stream",
     "text": [
      "epoch: 2, [batch: 1837 / 2625], examples_per_second: 10670.2430, train_label_loss: 0.6463, \n"
     ]
    },
    {
     "name": "stdout",
     "output_type": "stream",
     "text": [
      "epoch: 2, [batch: 2100 / 2625], examples_per_second: 10614.4321, train_label_loss: 0.6674, \n"
     ]
    },
    {
     "name": "stdout",
     "output_type": "stream",
     "text": [
      "epoch: 2, [batch: 2362 / 2625], examples_per_second: 10620.8740, train_label_loss: 0.5637, \n"
     ]
    },
    {
     "name": "stdout",
     "output_type": "stream",
     "text": [
      "=============================================================\n",
      "epoch: 2, source_val_acc_label: 0.7967, source_val_label_loss: 0.6187, target_val_acc_label: 0.0547, target_val_label_loss: 13.4656, \n",
      "=============================================================\n"
     ]
    },
    {
     "name": "stdout",
     "output_type": "stream",
     "text": [
      "epoch: 3, [batch: 1 / 2625], examples_per_second: 25.5720, train_label_loss: 0.5635, \n"
     ]
    },
    {
     "name": "stdout",
     "output_type": "stream",
     "text": [
      "epoch: 3, [batch: 263 / 2625], examples_per_second: 10612.2984, train_label_loss: 0.4797, \n"
     ]
    },
    {
     "name": "stdout",
     "output_type": "stream",
     "text": [
      "epoch: 3, [batch: 525 / 2625], examples_per_second: 10639.9643, train_label_loss: 0.4573, \n"
     ]
    },
    {
     "name": "stdout",
     "output_type": "stream",
     "text": [
      "epoch: 3, [batch: 788 / 2625], examples_per_second: 10655.6501, train_label_loss: 0.4883, \n"
     ]
    },
    {
     "name": "stdout",
     "output_type": "stream",
     "text": [
      "epoch: 3, [batch: 1050 / 2625], examples_per_second: 10649.9448, train_label_loss: 0.4675, \n"
     ]
    },
    {
     "name": "stdout",
     "output_type": "stream",
     "text": [
      "epoch: 3, [batch: 1313 / 2625], examples_per_second: 10516.0063, train_label_loss: 0.5337, \n"
     ]
    },
    {
     "name": "stdout",
     "output_type": "stream",
     "text": [
      "epoch: 3, [batch: 1575 / 2625], examples_per_second: 10557.1219, train_label_loss: 0.4953, \n"
     ]
    },
    {
     "name": "stdout",
     "output_type": "stream",
     "text": [
      "epoch: 3, [batch: 1837 / 2625], examples_per_second: 10768.3349, train_label_loss: 0.4898, \n"
     ]
    },
    {
     "name": "stdout",
     "output_type": "stream",
     "text": [
      "epoch: 3, [batch: 2100 / 2625], examples_per_second: 10651.5305, train_label_loss: 0.4540, \n"
     ]
    },
    {
     "name": "stdout",
     "output_type": "stream",
     "text": [
      "epoch: 3, [batch: 2362 / 2625], examples_per_second: 10813.5863, train_label_loss: 0.4663, \n"
     ]
    },
    {
     "name": "stdout",
     "output_type": "stream",
     "text": [
      "=============================================================\n",
      "epoch: 3, source_val_acc_label: 0.7509, source_val_label_loss: 0.6533, target_val_acc_label: 0.0794, target_val_label_loss: 14.9899, \n",
      "=============================================================\n"
     ]
    },
    {
     "name": "stdout",
     "output_type": "stream",
     "text": [
      "New best\n",
      "epoch: 4, [batch: 1 / 2625], examples_per_second: 25.4609, train_label_loss: 0.4093, \n"
     ]
    },
    {
     "name": "stdout",
     "output_type": "stream",
     "text": [
      "epoch: 4, [batch: 263 / 2625], examples_per_second: 10688.9865, train_label_loss: 0.4325, \n"
     ]
    },
    {
     "name": "stdout",
     "output_type": "stream",
     "text": [
      "epoch: 4, [batch: 525 / 2625], examples_per_second: 10646.6221, train_label_loss: 0.3328, \n"
     ]
    },
    {
     "name": "stdout",
     "output_type": "stream",
     "text": [
      "epoch: 4, [batch: 788 / 2625], examples_per_second: 10721.4005, train_label_loss: 0.4089, \n"
     ]
    },
    {
     "name": "stdout",
     "output_type": "stream",
     "text": [
      "epoch: 4, [batch: 1050 / 2625], examples_per_second: 10637.7490, train_label_loss: 0.4087, \n"
     ]
    },
    {
     "name": "stdout",
     "output_type": "stream",
     "text": [
      "epoch: 4, [batch: 1313 / 2625], examples_per_second: 10710.0664, train_label_loss: 0.5807, \n"
     ]
    },
    {
     "name": "stdout",
     "output_type": "stream",
     "text": [
      "epoch: 4, [batch: 1575 / 2625], examples_per_second: 10699.1650, train_label_loss: 0.4773, \n"
     ]
    },
    {
     "name": "stdout",
     "output_type": "stream",
     "text": [
      "epoch: 4, [batch: 1837 / 2625], examples_per_second: 10611.8613, train_label_loss: 0.4643, \n"
     ]
    },
    {
     "name": "stdout",
     "output_type": "stream",
     "text": [
      "epoch: 4, [batch: 2100 / 2625], examples_per_second: 10706.4136, train_label_loss: 0.2943, \n"
     ]
    },
    {
     "name": "stdout",
     "output_type": "stream",
     "text": [
      "epoch: 4, [batch: 2362 / 2625], examples_per_second: 10698.3594, train_label_loss: 0.4102, \n"
     ]
    },
    {
     "name": "stdout",
     "output_type": "stream",
     "text": [
      "=============================================================\n",
      "epoch: 4, source_val_acc_label: 0.8823, source_val_label_loss: 0.3523, target_val_acc_label: 0.0690, target_val_label_loss: 16.9947, \n",
      "=============================================================\n"
     ]
    },
    {
     "name": "stdout",
     "output_type": "stream",
     "text": [
      "epoch: 5, [batch: 1 / 2625], examples_per_second: 25.1652, train_label_loss: 0.2508, \n"
     ]
    },
    {
     "name": "stdout",
     "output_type": "stream",
     "text": [
      "epoch: 5, [batch: 263 / 2625], examples_per_second: 10631.6528, train_label_loss: 0.2336, \n"
     ]
    },
    {
     "name": "stdout",
     "output_type": "stream",
     "text": [
      "epoch: 5, [batch: 525 / 2625], examples_per_second: 10736.3323, train_label_loss: 0.4082, \n"
     ]
    },
    {
     "name": "stdout",
     "output_type": "stream",
     "text": [
      "epoch: 5, [batch: 788 / 2625], examples_per_second: 10617.4300, train_label_loss: 0.3364, \n"
     ]
    },
    {
     "name": "stdout",
     "output_type": "stream",
     "text": [
      "epoch: 5, [batch: 1050 / 2625], examples_per_second: 10641.2039, train_label_loss: 0.2823, \n"
     ]
    },
    {
     "name": "stdout",
     "output_type": "stream",
     "text": [
      "epoch: 5, [batch: 1313 / 2625], examples_per_second: 10629.5849, train_label_loss: 0.4100, \n"
     ]
    },
    {
     "name": "stdout",
     "output_type": "stream",
     "text": [
      "epoch: 5, [batch: 1575 / 2625], examples_per_second: 10689.2099, train_label_loss: 0.3282, \n"
     ]
    },
    {
     "name": "stdout",
     "output_type": "stream",
     "text": [
      "epoch: 5, [batch: 1837 / 2625], examples_per_second: 10650.9327, train_label_loss: 0.3028, \n"
     ]
    },
    {
     "name": "stdout",
     "output_type": "stream",
     "text": [
      "epoch: 5, [batch: 2100 / 2625], examples_per_second: 10691.2685, train_label_loss: 0.2442, \n"
     ]
    },
    {
     "name": "stdout",
     "output_type": "stream",
     "text": [
      "epoch: 5, [batch: 2362 / 2625], examples_per_second: 10692.7365, train_label_loss: 0.2090, \n"
     ]
    },
    {
     "name": "stdout",
     "output_type": "stream",
     "text": [
      "=============================================================\n",
      "epoch: 5, source_val_acc_label: 0.8885, source_val_label_loss: 0.3171, target_val_acc_label: 0.0563, target_val_label_loss: 18.9881, \n",
      "=============================================================\n"
     ]
    },
    {
     "name": "stdout",
     "output_type": "stream",
     "text": [
      "epoch: 6, [batch: 1 / 2625], examples_per_second: 25.5323, train_label_loss: 0.3303, \n"
     ]
    },
    {
     "name": "stdout",
     "output_type": "stream",
     "text": [
      "epoch: 6, [batch: 263 / 2625], examples_per_second: 10701.0193, train_label_loss: 0.1950, \n"
     ]
    },
    {
     "name": "stdout",
     "output_type": "stream",
     "text": [
      "epoch: 6, [batch: 525 / 2625], examples_per_second: 10699.4344, train_label_loss: 0.3050, \n"
     ]
    },
    {
     "name": "stdout",
     "output_type": "stream",
     "text": [
      "epoch: 6, [batch: 788 / 2625], examples_per_second: 10700.2416, train_label_loss: 0.4309, \n"
     ]
    },
    {
     "name": "stdout",
     "output_type": "stream",
     "text": [
      "epoch: 6, [batch: 1050 / 2625], examples_per_second: 10703.1217, train_label_loss: 0.1980, \n"
     ]
    },
    {
     "name": "stdout",
     "output_type": "stream",
     "text": [
      "epoch: 6, [batch: 1313 / 2625], examples_per_second: 10702.5945, train_label_loss: 0.2854, \n"
     ]
    },
    {
     "name": "stdout",
     "output_type": "stream",
     "text": [
      "epoch: 6, [batch: 1575 / 2625], examples_per_second: 10691.3695, train_label_loss: 0.2181, \n"
     ]
    },
    {
     "name": "stdout",
     "output_type": "stream",
     "text": [
      "epoch: 6, [batch: 1837 / 2625], examples_per_second: 10734.0776, train_label_loss: 0.5701, \n"
     ]
    },
    {
     "name": "stdout",
     "output_type": "stream",
     "text": [
      "epoch: 6, [batch: 2100 / 2625], examples_per_second: 10753.7328, train_label_loss: 0.2411, \n"
     ]
    },
    {
     "name": "stdout",
     "output_type": "stream",
     "text": [
      "epoch: 6, [batch: 2362 / 2625], examples_per_second: 10733.3797, train_label_loss: 0.2694, \n"
     ]
    },
    {
     "name": "stdout",
     "output_type": "stream",
     "text": [
      "=============================================================\n",
      "epoch: 6, source_val_acc_label: 0.8993, source_val_label_loss: 0.2903, target_val_acc_label: 0.0725, target_val_label_loss: 17.6020, \n",
      "=============================================================\n"
     ]
    },
    {
     "name": "stdout",
     "output_type": "stream",
     "text": [
      "epoch: 7, [batch: 1 / 2625], examples_per_second: 25.3947, train_label_loss: 0.2578, \n"
     ]
    },
    {
     "name": "stdout",
     "output_type": "stream",
     "text": [
      "epoch: 7, [batch: 263 / 2625], examples_per_second: 10629.1936, train_label_loss: 0.1390, \n"
     ]
    },
    {
     "name": "stdout",
     "output_type": "stream",
     "text": [
      "epoch: 7, [batch: 525 / 2625], examples_per_second: 10646.1934, train_label_loss: 0.2029, \n"
     ]
    },
    {
     "name": "stdout",
     "output_type": "stream",
     "text": [
      "epoch: 7, [batch: 788 / 2625], examples_per_second: 10711.0560, train_label_loss: 0.3160, \n"
     ]
    },
    {
     "name": "stdout",
     "output_type": "stream",
     "text": [
      "epoch: 7, [batch: 1050 / 2625], examples_per_second: 10694.5511, train_label_loss: 0.3022, \n"
     ]
    },
    {
     "name": "stdout",
     "output_type": "stream",
     "text": [
      "epoch: 7, [batch: 1313 / 2625], examples_per_second: 10729.5942, train_label_loss: 0.2621, \n"
     ]
    },
    {
     "name": "stdout",
     "output_type": "stream",
     "text": [
      "epoch: 7, [batch: 1575 / 2625], examples_per_second: 10737.1428, train_label_loss: 0.2797, \n"
     ]
    },
    {
     "name": "stdout",
     "output_type": "stream",
     "text": [
      "epoch: 7, [batch: 1837 / 2625], examples_per_second: 10723.3608, train_label_loss: 0.2062, \n"
     ]
    },
    {
     "name": "stdout",
     "output_type": "stream",
     "text": [
      "epoch: 7, [batch: 2100 / 2625], examples_per_second: 10720.5824, train_label_loss: 0.1263, \n"
     ]
    },
    {
     "name": "stdout",
     "output_type": "stream",
     "text": [
      "epoch: 7, [batch: 2362 / 2625], examples_per_second: 10648.9071, train_label_loss: 0.3356, \n"
     ]
    },
    {
     "name": "stdout",
     "output_type": "stream",
     "text": [
      "=============================================================\n",
      "epoch: 7, source_val_acc_label: 0.8473, source_val_label_loss: 0.4024, target_val_acc_label: 0.0596, target_val_label_loss: 18.6938, \n",
      "=============================================================\n"
     ]
    },
    {
     "name": "stdout",
     "output_type": "stream",
     "text": [
      "Patience (3) exhausted\n"
     ]
    }
   ],
   "source": [
    "jig = Vanilla_Train_Eval_Test_Jig(\n",
    "    model=model,\n",
    "    path_to_best_model=p.BEST_MODEL_PATH,\n",
    "    device=p.device,\n",
    "    label_loss_object=torch.nn.NLLLoss(),\n",
    ")\n",
    "\n",
    "jig.train(\n",
    "    train_iterable=datasets.source.processed.train,\n",
    "    source_val_iterable=datasets.source.processed.val,\n",
    "    target_val_iterable=datasets.target.processed.val,\n",
    "    patience=p.patience,\n",
    "    num_epochs=p.n_epoch,\n",
    "    num_logs_per_epoch=p.NUM_LOGS_PER_EPOCH,\n",
    "    criteria_for_best=p.criteria_for_best\n",
    ")"
   ]
  },
  {
   "cell_type": "code",
   "execution_count": 14,
   "id": "4bc2ac17",
   "metadata": {
    "execution": {
     "iopub.execute_input": "2022-03-26T01:09:11.686165Z",
     "iopub.status.busy": "2022-03-26T01:09:11.685790Z",
     "iopub.status.idle": "2022-03-26T01:09:11.687306Z",
     "shell.execute_reply": "2022-03-26T01:09:11.687638Z"
    },
    "papermill": {
     "duration": 0.042564,
     "end_time": "2022-03-26T01:09:11.687733",
     "exception": false,
     "start_time": "2022-03-26T01:09:11.645169",
     "status": "completed"
    },
    "tags": []
   },
   "outputs": [],
   "source": [
    "total_experiment_time_secs = time.time() - start_time_secs"
   ]
  },
  {
   "cell_type": "code",
   "execution_count": 15,
   "id": "cae88f23",
   "metadata": {
    "execution": {
     "iopub.execute_input": "2022-03-26T01:09:11.776012Z",
     "iopub.status.busy": "2022-03-26T01:09:11.775597Z",
     "iopub.status.idle": "2022-03-26T01:10:08.406421Z",
     "shell.execute_reply": "2022-03-26T01:10:08.406746Z"
    },
    "papermill": {
     "duration": 56.673761,
     "end_time": "2022-03-26T01:10:08.406881",
     "exception": false,
     "start_time": "2022-03-26T01:09:11.733120",
     "status": "completed"
    },
    "tags": []
   },
   "outputs": [],
   "source": [
    "source_test_label_accuracy, source_test_label_loss = jig.test(datasets.source.processed.test)\n",
    "target_test_label_accuracy, target_test_label_loss = jig.test(datasets.target.processed.test)\n",
    "\n",
    "source_val_label_accuracy, source_val_label_loss = jig.test(datasets.source.processed.val)\n",
    "target_val_label_accuracy, target_val_label_loss = jig.test(datasets.target.processed.val)\n",
    "\n",
    "history = jig.get_history()\n",
    "\n",
    "total_epochs_trained = len(history[\"epoch_indices\"])\n",
    "\n",
    "val_dl = wrap_in_dataloader(p, Sequence_Aggregator((datasets.source.original.val, datasets.target.original.val)))\n",
    "\n",
    "confusion = confusion_by_domain_over_dataloader(model, p.device, val_dl, forward_uses_domain=False)\n",
    "per_domain_accuracy = per_domain_accuracy_from_confusion(confusion)\n",
    "\n",
    "# Add a key to per_domain_accuracy for if it was a source domain\n",
    "for domain, accuracy in per_domain_accuracy.items():\n",
    "    per_domain_accuracy[domain] = {\n",
    "        \"accuracy\": accuracy,\n",
    "        \"source?\": domain in p.domains_source\n",
    "    }\n",
    "\n",
    "# Do an independent accuracy assesment JUST TO BE SURE!\n",
    "# _source_test_label_accuracy = independent_accuracy_assesment(model, datasets.source.processed.test, p.device)\n",
    "# _target_test_label_accuracy = independent_accuracy_assesment(model, datasets.target.processed.test, p.device)\n",
    "# _source_val_label_accuracy = independent_accuracy_assesment(model, datasets.source.processed.val, p.device)\n",
    "# _target_val_label_accuracy = independent_accuracy_assesment(model, datasets.target.processed.val, p.device)\n",
    "\n",
    "# assert(_source_test_label_accuracy == source_test_label_accuracy)\n",
    "# assert(_target_test_label_accuracy == target_test_label_accuracy)\n",
    "# assert(_source_val_label_accuracy == source_val_label_accuracy)\n",
    "# assert(_target_val_label_accuracy == target_val_label_accuracy)\n",
    "\n",
    "###################################\n",
    "# Write out the results\n",
    "###################################\n",
    "\n",
    "experiment = {\n",
    "    \"experiment_name\": p.experiment_name,\n",
    "    \"parameters\": p,\n",
    "    \"results\": {\n",
    "        \"source_test_label_accuracy\": source_test_label_accuracy,\n",
    "        \"source_test_label_loss\": source_test_label_loss,\n",
    "        \"target_test_label_accuracy\": target_test_label_accuracy,\n",
    "        \"target_test_label_loss\": target_test_label_loss,\n",
    "        \"source_val_label_accuracy\": source_val_label_accuracy,\n",
    "        \"source_val_label_loss\": source_val_label_loss,\n",
    "        \"target_val_label_accuracy\": target_val_label_accuracy,\n",
    "        \"target_val_label_loss\": target_val_label_loss,\n",
    "        \"total_epochs_trained\": total_epochs_trained,\n",
    "        \"total_experiment_time_secs\": total_experiment_time_secs,\n",
    "        \"confusion\": confusion,\n",
    "        \"per_domain_accuracy\": per_domain_accuracy,\n",
    "    },\n",
    "    \"history\": history,\n",
    "    \"dataset_metrics\": get_dataset_metrics(datasets, \"cnn\"),\n",
    "}"
   ]
  },
  {
   "cell_type": "code",
   "execution_count": 16,
   "id": "74c318cf",
   "metadata": {
    "execution": {
     "iopub.execute_input": "2022-03-26T01:10:08.576382Z",
     "iopub.status.busy": "2022-03-26T01:10:08.571723Z",
     "iopub.status.idle": "2022-03-26T01:10:08.776326Z",
     "shell.execute_reply": "2022-03-26T01:10:08.777010Z"
    },
    "papermill": {
     "duration": 0.332675,
     "end_time": "2022-03-26T01:10:08.777223",
     "exception": false,
     "start_time": "2022-03-26T01:10:08.444548",
     "status": "completed"
    },
    "tags": []
   },
   "outputs": [
    {
     "data": {
      "text/plain": [
       "<AxesSubplot:title={'center':'Source Train Label Loss vs Source Val Label Loss'}, xlabel='Epoch'>"
      ]
     },
     "execution_count": 16,
     "metadata": {},
     "output_type": "execute_result"
    },
    {
     "data": {
      "image/png": "[encoded data removed]",
      "text/plain": [
       "<Figure size 1080x504 with 1 Axes>"
      ]
     },
     "metadata": {
      "needs_background": "light"
     },
     "output_type": "display_data"
    }
   ],
   "source": [
    "get_loss_curve(experiment)"
   ]
  },
  {
   "cell_type": "code",
   "execution_count": 17,
   "id": "59376601",
   "metadata": {
    "execution": {
     "iopub.execute_input": "2022-03-26T01:10:08.888882Z",
     "iopub.status.busy": "2022-03-26T01:10:08.888047Z",
     "iopub.status.idle": "2022-03-26T01:10:09.170883Z",
     "shell.execute_reply": "2022-03-26T01:10:09.171591Z"
    },
    "papermill": {
     "duration": 0.353568,
     "end_time": "2022-03-26T01:10:09.171813",
     "exception": false,
     "start_time": "2022-03-26T01:10:08.818245",
     "status": "completed"
    },
    "tags": []
   },
   "outputs": [
    {
     "data": {
      "text/plain": [
       "<AxesSubplot:title={'center':'Results'}>"
      ]
     },
     "execution_count": 17,
     "metadata": {},
     "output_type": "execute_result"
    },
    {
     "data": {
      "image/png": "[encoded data removed]",
      "text/plain": [
       "<Figure size 1080x504 with 1 Axes>"
      ]
     },
     "metadata": {
      "needs_background": "light"
     },
     "output_type": "display_data"
    }
   ],
   "source": [
    "get_results_table(experiment)"
   ]
  },
  {
   "cell_type": "code",
   "execution_count": 18,
   "id": "e80c5c98",
   "metadata": {
    "execution": {
     "iopub.execute_input": "2022-03-26T01:10:09.280322Z",
     "iopub.status.busy": "2022-03-26T01:10:09.279471Z",
     "iopub.status.idle": "2022-03-26T01:10:09.436410Z",
     "shell.execute_reply": "2022-03-26T01:10:09.437095Z"
    },
    "papermill": {
     "duration": 0.223044,
     "end_time": "2022-03-26T01:10:09.437304",
     "exception": false,
     "start_time": "2022-03-26T01:10:09.214260",
     "status": "completed"
    },
    "tags": []
   },
   "outputs": [
    {
     "data": {
      "text/plain": [
       "<AxesSubplot:title={'center':'Per Domain Accuracy'}, xlabel='domain'>"
      ]
     },
     "execution_count": 18,
     "metadata": {},
     "output_type": "execute_result"
    },
    {
     "data": {
      "image/png": "[encoded data removed]",
      "text/plain": [
       "<Figure size 1080x504 with 1 Axes>"
      ]
     },
     "metadata": {
      "needs_background": "light"
     },
     "output_type": "display_data"
    }
   ],
   "source": [
    "get_domain_accuracies(experiment)"
   ]
  },
  {
   "cell_type": "code",
   "execution_count": 19,
   "id": "086fdd10",
   "metadata": {
    "execution": {
     "iopub.execute_input": "2022-03-26T01:10:09.528562Z",
     "iopub.status.busy": "2022-03-26T01:10:09.527964Z",
     "iopub.status.idle": "2022-03-26T01:10:09.532156Z",
     "shell.execute_reply": "2022-03-26T01:10:09.531568Z"
    },
    "papermill": {
     "duration": 0.051017,
     "end_time": "2022-03-26T01:10:09.532293",
     "exception": false,
     "start_time": "2022-03-26T01:10:09.481276",
     "status": "completed"
    },
    "tags": []
   },
   "outputs": [
    {
     "name": "stdout",
     "output_type": "stream",
     "text": [
      "Source Test Label Accuracy: 0.7509861111111111 Target Test Label Accuracy: 0.07945833333333334\n",
      "Source Val Label Accuracy: 0.7509305555555555 Target Val Label Accuracy: 0.07935833333333334\n"
     ]
    }
   ],
   "source": [
    "print(\"Source Test Label Accuracy:\", experiment[\"results\"][\"source_test_label_accuracy\"], \"Target Test Label Accuracy:\", experiment[\"results\"][\"target_test_label_accuracy\"])\n",
    "print(\"Source Val Label Accuracy:\", experiment[\"results\"][\"source_val_label_accuracy\"], \"Target Val Label Accuracy:\", experiment[\"results\"][\"target_val_label_accuracy\"])"
   ]
  },
  {
   "cell_type": "code",
   "execution_count": 20,
   "id": "9f450536",
   "metadata": {
    "execution": {
     "iopub.execute_input": "2022-03-26T01:10:09.624176Z",
     "iopub.status.busy": "2022-03-26T01:10:09.623592Z",
     "iopub.status.idle": "2022-03-26T01:10:09.627561Z",
     "shell.execute_reply": "2022-03-26T01:10:09.626969Z"
    },
    "papermill": {
     "duration": 0.050558,
     "end_time": "2022-03-26T01:10:09.627678",
     "exception": false,
     "start_time": "2022-03-26T01:10:09.577120",
     "status": "completed"
    },
    "tags": [
     "experiment_json"
    ]
   },
   "outputs": [
    {
     "data": {
      "text/plain": [
       "'{\"experiment_name\": \"cnn_1:oracle.run2\", \"parameters\": {\"experiment_name\": \"cnn_1:oracle.run2\", \"labels\": [\"3123D52\", \"3123D65\", \"3123D79\", \"3123D80\", \"3123D54\", \"3123D70\", \"3123D7B\", \"3123D89\", \"3123D58\", \"3123D76\", \"3123D7D\", \"3123EFE\", \"3123D64\", \"3123D78\", \"3123D7E\", \"3124E4A\"], \"domains_source\": [8, 32, 50], \"domains_target\": [14, 20, 26, 38, 44], \"pickle_name_source\": \"oracle.Run2_10kExamples_stratified_ds.2022A.pkl\", \"pickle_name_target\": \"oracle.Run2_10kExamples_stratified_ds.2022A.pkl\", \"device\": \"cuda\", \"lr\": 0.0001, \"batch_size\": 128, \"normalize_source\": false, \"normalize_target\": false, \"num_examples_per_domain_per_label_source\": -1, \"num_examples_per_domain_per_label_target\": -1, \"torch_default_dtype\": \"torch.float32\", \"n_epoch\": 50, \"patience\": 3, \"criteria_for_best\": \"target_accuracy\", \"x_net\": [{\"class\": \"nnReshape\", \"kargs\": {\"shape\": [-1, 1, 2, 256]}}, {\"class\": \"Conv2d\", \"kargs\": {\"in_channels\": 1, \"out_channels\": 256, \"kernel_size\": [1, 7], \"bias\": false, \"padding\": [0, 3]}}, {\"class\": \"ReLU\", \"kargs\": {\"inplace\": true}}, {\"class\": \"BatchNorm2d\", \"kargs\": {\"num_features\": 256}}, {\"class\": \"Conv2d\", \"kargs\": {\"in_channels\": 256, \"out_channels\": 80, \"kernel_size\": [2, 7], \"bias\": true, \"padding\": [0, 3]}}, {\"class\": \"ReLU\", \"kargs\": {\"inplace\": true}}, {\"class\": \"BatchNorm2d\", \"kargs\": {\"num_features\": 80}}, {\"class\": \"Flatten\", \"kargs\": {}}, {\"class\": \"Linear\", \"kargs\": {\"in_features\": 20480, \"out_features\": 256}}, {\"class\": \"ReLU\", \"kargs\": {\"inplace\": true}}, {\"class\": \"BatchNorm1d\", \"kargs\": {\"num_features\": 256}}, {\"class\": \"Linear\", \"kargs\": {\"in_features\": 256, \"out_features\": 16}}], \"NUM_LOGS_PER_EPOCH\": 10, \"BEST_MODEL_PATH\": \"./best_model.pth\", \"dataset_seed\": 500, \"seed\": 500}, \"results\": {\"source_test_label_accuracy\": 0.7509861111111111, \"source_test_label_loss\": 0.6510034867861766, \"target_test_label_accuracy\": 0.07945833333333334, \"target_test_label_loss\": 14.985029792988987, \"source_val_label_accuracy\": 0.7509305555555555, \"source_val_label_loss\": 0.6530957600469064, \"target_val_label_accuracy\": 0.07935833333333334, \"target_val_label_loss\": 14.988085423451242, \"total_epochs_trained\": 7, \"total_experiment_time_secs\": 296.8271267414093, \"confusion\": {\"8\": {\"1\": {\"1\": 1293, \"8\": 183, \"13\": 20, \"14\": 3, \"6\": 1}, \"8\": {\"8\": 1071, \"11\": 429}, \"2\": {\"2\": 1428, \"12\": 41, \"15\": 24, \"7\": 7}, \"5\": {\"5\": 431, \"1\": 524, \"6\": 1, \"10\": 206, \"13\": 304, \"14\": 22, \"4\": 12}, \"11\": {\"11\": 1308, \"8\": 191, \"6\": 1}, \"6\": {\"8\": 480, \"6\": 1009, \"4\": 2, \"11\": 7, \"14\": 2}, \"3\": {\"3\": 1493, \"15\": 7}, \"14\": {\"6\": 629, \"8\": 387, \"14\": 482, \"4\": 1, \"1\": 1}, \"12\": {\"12\": 1495, \"15\": 4, \"11\": 1}, \"9\": {\"9\": 1500}, \"13\": {\"13\": 1397, \"8\": 20, \"7\": 39, \"1\": 37, \"4\": 3, \"11\": 3, \"6\": 1}, \"10\": {\"13\": 842, \"10\": 498, \"7\": 59, \"1\": 28, \"5\": 19, \"4\": 52, \"14\": 2}, \"15\": {\"15\": 1093, \"12\": 407}, \"7\": {\"7\": 1231, \"8\": 95, \"4\": 138, \"11\": 32, \"13\": 2, \"6\": 2}, \"4\": {\"7\": 494, \"4\": 567, \"6\": 238, \"8\": 183, \"11\": 16, \"14\": 2}, \"0\": {\"0\": 1499, \"6\": 1}}, \"38\": {\"15\": {\"1\": 728, \"10\": 340, \"0\": 333, \"11\": 1, \"14\": 87, \"9\": 11}, \"8\": {\"4\": 1374, \"15\": 33, \"9\": 41, \"5\": 47, \"6\": 2, \"7\": 2, \"12\": 1}, \"12\": {\"15\": 160, \"13\": 1283, \"5\": 28, \"4\": 23, \"3\": 5, \"7\": 1}, \"14\": {\"7\": 1120, \"4\": 25, \"5\": 112, \"3\": 179, \"13\": 63, \"15\": 1}, \"3\": {\"7\": 1477, \"9\": 23}, \"4\": {\"7\": 1475, \"4\": 25}, \"7\": {\"4\": 1341, \"7\": 159}, \"2\": {\"7\": 897, \"5\": 149, \"3\": 453, \"13\": 1}, \"5\": {\"6\": 526, \"1\": 179, \"4\": 508, \"13\": 43, \"11\": 79, \"9\": 11, \"15\": 59, \"5\": 73, \"12\": 13, \"8\": 4, \"14\": 3, \"0\": 2}, \"10\": {\"7\": 1500}, \"1\": {\"0\": 1078, \"14\": 138, \"1\": 194, \"10\": 9, \"2\": 81}, \"11\": {\"7\": 1500}, \"0\": {\"15\": 157, \"4\": 605, \"9\": 737, \"7\": 1}, \"9\": {\"12\": 580, \"9\": 913, \"15\": 3, \"11\": 4}, \"6\": {\"14\": 1304, \"0\": 85, \"2\": 45, \"9\": 65, \"1\": 1}, \"13\": {\"7\": 1500}}, \"26\": {\"11\": {\"6\": 1440, \"12\": 60}, \"5\": {\"9\": 30, \"14\": 376, \"6\": 403, \"12\": 566, \"3\": 74, \"13\": 25, \"11\": 26}, \"12\": {\"3\": 277, \"6\": 144, \"12\": 1070, \"9\": 9}, \"1\": {\"12\": 1488, \"13\": 5, \"3\": 7}, \"14\": {\"3\": 611, \"12\": 881, \"13\": 7, \"6\": 1}, \"10\": {\"12\": 596, \"3\": 874, \"13\": 28, \"14\": 2}, \"13\": {\"3\": 1199, \"6\": 301}, \"3\": {\"3\": 1500}, \"6\": {\"12\": 1167, \"14\": 156, \"3\": 22, \"6\": 138, \"9\": 8, \"13\": 9}, \"9\": {\"3\": 1398, \"6\": 96, \"14\": 1, \"12\": 1, \"13\": 4}, \"15\": {\"3\": 1335, \"13\": 146, \"6\": 8, \"11\": 8, \"14\": 2, \"12\": 1}, \"2\": {\"3\": 1491, \"13\": 4, \"6\": 5}, \"8\": {\"3\": 1489, \"6\": 7, \"13\": 1, \"12\": 3}, \"0\": {\"3\": 1259, \"12\": 226, \"13\": 13, \"9\": 1, \"6\": 1}, \"7\": {\"3\": 1500}, \"4\": {\"3\": 1500}}, \"44\": {\"5\": {\"5\": 593, \"4\": 132, \"6\": 683, \"8\": 15, \"12\": 57, \"13\": 13, \"9\": 2, \"15\": 4, \"3\": 1}, \"1\": {\"8\": 240, \"5\": 1057, \"7\": 189, \"0\": 12, \"2\": 1, \"15\": 1}, \"14\": {\"4\": 1073, \"5\": 69, \"7\": 31, \"12\": 58, \"9\": 252, \"15\": 15, \"6\": 2}, \"0\": {\"8\": 620, \"2\": 69, \"12\": 758, \"6\": 6, \"0\": 37, \"5\": 6, \"3\": 1, \"14\": 1, \"1\": 1, \"13\": 1}, \"7\": {\"9\": 1260, \"15\": 240}, \"10\": {\"9\": 1453, \"5\": 43, \"15\": 2, \"7\": 2}, \"8\": {\"12\": 1249, \"8\": 198, \"6\": 23, \"5\": 29, \"3\": 1}, \"12\": {\"0\": 266, \"8\": 382, \"7\": 389, \"3\": 361, \"4\": 101, \"11\": 1}, \"11\": {\"7\": 1500}, \"3\": {\"0\": 992, \"4\": 68, \"8\": 63, \"7\": 308, \"3\": 2, \"11\": 17, \"2\": 40, \"14\": 10}, \"13\": {\"7\": 928, \"4\": 547, \"9\": 19, \"15\": 6}, \"15\": {\"12\": 1213, \"11\": 83, \"14\": 76, \"6\": 97, \"9\": 6, \"1\": 10, \"0\": 5, \"5\": 2, \"8\": 4, \"4\": 3, \"15\": 1}, \"6\": {\"15\": 542, \"9\": 367, \"7\": 263, \"4\": 328}, \"4\": {\"9\": 808, \"4\": 497, \"15\": 189, \"12\": 6}, \"9\": {\"9\": 1047, \"5\": 2, \"15\": 451}, \"2\": {\"15\": 829, \"5\": 378, \"8\": 181, \"11\": 95, \"1\": 1, \"0\": 13, \"14\": 2, \"9\": 1}}, \"20\": {\"15\": {\"2\": 869, \"12\": 581, \"7\": 49, \"3\": 1}, \"10\": {\"12\": 1344, \"11\": 156}, \"12\": {\"12\": 1019, \"7\": 415, \"2\": 66}, \"1\": {\"2\": 1163, \"12\": 294, \"15\": 34, \"3\": 9}, \"7\": {\"12\": 1473, \"11\": 14, \"7\": 13}, \"5\": {\"12\": 1268, \"2\": 204, \"15\": 8, \"7\": 5, \"3\": 15}, \"11\": {\"3\": 1499, \"12\": 1}, \"8\": {\"12\": 1183, \"3\": 288, \"15\": 29}, \"0\": {\"3\": 832, \"2\": 289, \"12\": 94, \"15\": 285}, \"2\": {\"12\": 1126, \"2\": 351, \"7\": 12, \"3\": 11}, \"6\": {\"12\": 1297, \"11\": 203}, \"14\": {\"12\": 1430, \"3\": 62, \"11\": 3, \"15\": 5}, \"9\": {\"12\": 1031, \"2\": 458, \"3\": 2, \"7\": 9}, \"3\": {\"12\": 1460, \"2\": 31, \"7\": 5, \"11\": 2, \"3\": 2}, \"13\": {\"12\": 219, \"7\": 963, \"2\": 318}, \"4\": {\"12\": 1493, \"2\": 6, \"15\": 1}}, \"14\": {\"5\": {\"3\": 1500}, \"14\": {\"3\": 1500}, \"15\": {\"13\": 1414, \"3\": 60, \"11\": 26}, \"4\": {\"3\": 1500}, \"8\": {\"3\": 1499, \"11\": 1}, \"13\": {\"3\": 1500}, \"2\": {\"3\": 1500}, \"0\": {\"3\": 1499, \"12\": 1}, \"6\": {\"3\": 1500}, \"11\": {\"7\": 1454, \"11\": 42, \"4\": 3, \"12\": 1}, \"7\": {\"3\": 1491, \"11\": 9}, \"10\": {\"3\": 1456, \"15\": 43, \"12\": 1}, \"12\": {\"6\": 334, \"2\": 344, \"7\": 165, \"3\": 273, \"13\": 18, \"9\": 151, \"12\": 149, \"15\": 30, \"10\": 14, \"0\": 17, \"14\": 2, \"11\": 1, \"5\": 2}, \"9\": {\"3\": 1079, \"2\": 421}, \"1\": {\"3\": 1370, \"11\": 130}, \"3\": {\"3\": 1500}}, \"50\": {\"7\": {\"7\": 1500}, \"12\": {\"12\": 1397, \"9\": 101, \"14\": 2}, \"2\": {\"2\": 1393, \"0\": 97, \"9\": 10}, \"11\": {\"11\": 1176, \"14\": 171, \"12\": 65, \"1\": 47, \"15\": 36, \"6\": 1, \"9\": 3, \"5\": 1}, \"3\": {\"3\": 1500}, \"9\": {\"9\": 1495, \"12\": 5}, \"15\": {\"4\": 845, \"9\": 81, \"15\": 533, \"6\": 9, \"5\": 25, \"12\": 6, \"11\": 1}, \"1\": {\"1\": 1439, \"13\": 39, \"10\": 9, \"0\": 4, \"14\": 4, \"8\": 5}, \"0\": {\"0\": 1419, \"2\": 68, \"10\": 13}, \"4\": {\"7\": 1096, \"4\": 388, \"5\": 16}, \"10\": {\"0\": 145, \"10\": 1336, \"1\": 9, \"8\": 6, \"13\": 4}, \"14\": {\"14\": 1310, \"9\": 176, \"2\": 14}, \"5\": {\"7\": 1001, \"4\": 151, \"5\": 338, \"3\": 10}, \"8\": {\"8\": 1482, \"1\": 13, \"13\": 5}, \"13\": {\"13\": 1328, \"1\": 16, \"8\": 147, \"10\": 9}, \"6\": {\"6\": 359, \"4\": 290, \"5\": 824, \"12\": 14, \"15\": 8, \"7\": 2, \"13\": 1, \"8\": 1, \"9\": 1}}, \"32\": {\"14\": {\"14\": 1472, \"2\": 21, \"0\": 5, \"11\": 1, \"12\": 1}, \"4\": {\"4\": 808, \"11\": 219, \"0\": 280, \"14\": 186, \"13\": 3, \"2\": 3, \"7\": 1}, \"15\": {\"15\": 1497, \"11\": 1, \"8\": 1, \"5\": 1}, \"2\": {\"14\": 785, \"2\": 651, \"0\": 64}, \"12\": {\"12\": 1476, \"9\": 4, \"0\": 10, \"2\": 9, \"10\": 1}, \"9\": {\"9\": 942, \"14\": 225, \"2\": 290, \"0\": 43}, \"11\": {\"11\": 1084, \"14\": 130, \"4\": 141, \"13\": 39, \"0\": 92, \"2\": 8, \"7\": 6}, \"1\": {\"1\": 1495, \"8\": 5}, \"5\": {\"5\": 455, \"9\": 798, \"11\": 18, \"14\": 60, \"12\": 137, \"15\": 8, \"0\": 9, \"2\": 13, \"7\": 2}, \"0\": {\"0\": 1040, \"14\": 363, \"2\": 77, \"11\": 1, \"8\": 15, \"7\": 3, \"4\": 1}, \"7\": {\"7\": 784, \"2\": 369, \"0\": 275, \"5\": 22, \"14\": 37, \"12\": 4, \"8\": 9}, \"6\": {\"6\": 1500}, \"10\": {\"10\": 1498, \"1\": 1, \"6\": 1}, \"8\": {\"8\": 871, \"0\": 612, \"14\": 8, \"15\": 2, \"5\": 1, \"7\": 3, \"2\": 3}, \"3\": {\"13\": 81, \"3\": 1277, \"11\": 10, \"4\": 131, \"8\": 1}, \"13\": {\"13\": 1029, \"11\": 304, \"4\": 150, \"3\": 13, \"0\": 1, \"14\": 3}}}, \"per_domain_accuracy\": {\"8\": {\"accuracy\": 0.7414583333333333, \"source?\": true}, \"38\": {\"accuracy\": 0.05683333333333333, \"source?\": false}, \"26\": {\"accuracy\": 0.11283333333333333, \"source?\": false}, \"44\": {\"accuracy\": 0.09895833333333333, \"source?\": false}, \"20\": {\"accuracy\": 0.057708333333333334, \"source?\": false}, \"14\": {\"accuracy\": 0.07045833333333333, \"source?\": false}, \"50\": {\"accuracy\": 0.766375, \"source?\": true}, \"32\": {\"accuracy\": 0.7449583333333333, \"source?\": true}}}, \"history\": {\"epoch_indices\": [1, 2, 3, 4, 5, 6, 7], \"train_label_loss\": [1.671989858990624, 0.7716105410371508, 0.50756260012445, 0.3837751739876611, 0.3149529812222435, 0.2678944155942826, 0.22849581775494984], \"source_val_label_loss\": [1.0515273528878262, 0.6186774510685122, 0.6532693324249972, 0.3523021455503484, 0.3171426455620974, 0.2902907178626391, 0.40238844829596593], \"target_val_label_loss\": [8.573696449113045, 13.465587624100479, 14.989863623434038, 16.99471542728481, 18.988102211372684, 17.60203799306711, 18.693816892627968], \"source_val_acc_label\": [0.6590277777777778, 0.7966944444444445, 0.7509305555555555, 0.8823472222222222, 0.8885, 0.8993333333333333, 0.8472916666666667], \"target_val_acc_label\": [0.06363333333333333, 0.05471666666666666, 0.07935833333333334, 0.068975, 0.0563, 0.07249166666666666, 0.05959166666666667]}, \"dataset_metrics\": {\"source\": {\"train\": {\"n_unique_x\": 336000, \"n_unique_y\": 16, \"n_batch/episode\": 2625}, \"val\": {\"n_unique_x\": 72000, \"n_unique_y\": 16, \"n_batch/episode\": 563}, \"test\": {\"n_unique_x\": 72000, \"n_unique_y\": 16, \"n_batch/episode\": 563}}, \"target\": {\"train\": {\"n_unique_x\": 560000, \"n_unique_y\": 16, \"n_batch/episode\": 4375}, \"val\": {\"n_unique_x\": 120000, \"n_unique_y\": 16, \"n_batch/episode\": 938}, \"test\": {\"n_unique_x\": 120000, \"n_unique_y\": 16, \"n_batch/episode\": 938}}}}'"
      ]
     },
     "execution_count": 20,
     "metadata": {},
     "output_type": "execute_result"
    }
   ],
   "source": [
    "json.dumps(experiment)"
   ]
  }
 ],
 "metadata": {
  "celltoolbar": "Tags",
  "kernelspec": {
   "display_name": "Python 3 (ipykernel)",
   "language": "python",
   "name": "python3"
  },
  "language_info": {
   "codemirror_mode": {
    "name": "ipython",
    "version": 3
   },
   "file_extension": ".py",
   "mimetype": "text/x-python",
   "name": "python",
   "nbconvert_exporter": "python",
   "pygments_lexer": "ipython3",
   "version": "3.8.12"
  },
  "papermill": {
   "default_parameters": {},
   "duration": 360.8967,
   "end_time": "2022-03-26T01:10:13.087280",
   "environment_variables": {},
   "exception": null,
   "input_path": "/root/csc500-main/csc500-notebooks/templates/cnn_template.ipynb",
   "output_path": "trial.ipynb",
   "parameters": {
    "parameters": {
     "BEST_MODEL_PATH": "./best_model.pth",
     "NUM_LOGS_PER_EPOCH": 10,
     "batch_size": 128,
     "criteria_for_best": "target_accuracy",
     "dataset_seed": 500,
     "device": "cuda",
     "domains_source": [
      8,
      32,
      50
     ],
     "domains_target": [
      14,
      20,
      26,
      38,
      44
     ],
     "experiment_name": "cnn_1:oracle.run2",
     "labels": [
      "3123D52",
      "3123D65",
      "3123D79",
      "3123D80",
      "3123D54",
      "3123D70",
      "3123D7B",
      "3123D89",
      "3123D58",
      "3123D76",
      "3123D7D",
      "3123EFE",
      "3123D64",
      "3123D78",
      "3123D7E",
      "3124E4A"
     ],
     "lr": 0.0001,
     "n_epoch": 50,
     "normalize_source": false,
     "normalize_target": false,
     "num_examples_per_domain_per_label_source": -1,
     "num_examples_per_domain_per_label_target": -1,
     "patience": 3,
     "pickle_name_source": "oracle.Run2_10kExamples_stratified_ds.2022A.pkl",
     "pickle_name_target": "oracle.Run2_10kExamples_stratified_ds.2022A.pkl",
     "seed": 500,
     "torch_default_dtype": "torch.float32",
     "x_net": [
      {
       "class": "nnReshape",
       "kargs": {
        "shape": [
         -1,
         1,
         2,
         256
        ]
       }
      },
      {
       "class": "Conv2d",
       "kargs": {
        "bias": false,
        "in_channels": 1,
        "kernel_size": [
         1,
         7
        ],
        "out_channels": 256,
        "padding": [
         0,
         3
        ]
       }
      },
      {
       "class": "ReLU",
       "kargs": {
        "inplace": true
       }
      },
      {
       "class": "BatchNorm2d",
       "kargs": {
        "num_features": 256
       }
      },
      {
       "class": "Conv2d",
       "kargs": {
        "bias": true,
        "in_channels": 256,
        "kernel_size": [
         2,
         7
        ],
        "out_channels": 80,
        "padding": [
         0,
         3
        ]
       }
      },
      {
       "class": "ReLU",
       "kargs": {
        "inplace": true
       }
      },
      {
       "class": "BatchNorm2d",
       "kargs": {
        "num_features": 80
       }
      },
      {
       "class": "Flatten",
       "kargs": {}
      },
      {
       "class": "Linear",
       "kargs": {
        "in_features": 20480,
        "out_features": 256
       }
      },
      {
       "class": "ReLU",
       "kargs": {
        "inplace": true
       }
      },
      {
       "class": "BatchNorm1d",
       "kargs": {
        "num_features": 256
       }
      },
      {
       "class": "Linear",
       "kargs": {
        "in_features": 256,
        "out_features": 16
       }
      }
     ]
    }
   },
   "start_time": "2022-03-26T01:04:12.190580",
   "version": "2.3.4"
  }
 },
 "nbformat": 4,
 "nbformat_minor": 5
}