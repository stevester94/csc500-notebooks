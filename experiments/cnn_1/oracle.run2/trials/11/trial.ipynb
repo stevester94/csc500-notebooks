{
 "cells": [
  {
   "cell_type": "code",
   "execution_count": 1,
   "id": "2324682e",
   "metadata": {
    "execution": {
     "iopub.execute_input": "2022-03-26T01:10:14.257171Z",
     "iopub.status.busy": "2022-03-26T01:10:14.255744Z",
     "iopub.status.idle": "2022-03-26T01:10:15.541817Z",
     "shell.execute_reply": "2022-03-26T01:10:15.540997Z"
    },
    "papermill": {
     "duration": 1.318578,
     "end_time": "2022-03-26T01:10:15.542011",
     "exception": false,
     "start_time": "2022-03-26T01:10:14.223433",
     "status": "completed"
    },
    "tags": []
   },
   "outputs": [],
   "source": [
    "import os, json, sys, time, random\n",
    "import numpy as np\n",
    "import torch\n",
    "from  easydict import EasyDict\n",
    "from math import floor\n",
    "from easydict import EasyDict\n",
    "\n",
    "from steves_utils.vanilla_train_eval_test_jig import  Vanilla_Train_Eval_Test_Jig\n",
    "\n",
    "from steves_utils.torch_utils import get_dataset_metrics, independent_accuracy_assesment\n",
    "from steves_models.configurable_vanilla import Configurable_Vanilla\n",
    "from steves_utils.torch_sequential_builder import build_sequential\n",
    "from steves_utils.lazy_map import Lazy_Map\n",
    "from steves_utils.sequence_aggregator import Sequence_Aggregator\n",
    "\n",
    "from steves_utils.stratified_dataset.traditional_accessor import Traditional_Accessor_Factory\n",
    "\n",
    "from steves_utils.cnn_do_report import (\n",
    "    get_loss_curve,\n",
    "    get_results_table,\n",
    "    get_parameters_table,\n",
    "    get_domain_accuracies,\n",
    ")\n",
    "\n",
    "from steves_utils.torch_utils import (\n",
    "    confusion_by_domain_over_dataloader,\n",
    "    independent_accuracy_assesment\n",
    ")\n",
    "\n",
    "from steves_utils.utils_v2 import (\n",
    "    per_domain_accuracy_from_confusion,\n",
    "    get_datasets_base_path\n",
    ")\n",
    "\n",
    "# from steves_utils.ptn_do_report import TBD"
   ]
  },
  {
   "cell_type": "code",
   "execution_count": 2,
   "id": "1b29e3fe",
   "metadata": {
    "execution": {
     "iopub.execute_input": "2022-03-26T01:10:15.581875Z",
     "iopub.status.busy": "2022-03-26T01:10:15.581494Z",
     "iopub.status.idle": "2022-03-26T01:10:15.583587Z",
     "shell.execute_reply": "2022-03-26T01:10:15.583888Z"
    },
    "papermill": {
     "duration": 0.022014,
     "end_time": "2022-03-26T01:10:15.583976",
     "exception": false,
     "start_time": "2022-03-26T01:10:15.561962",
     "status": "completed"
    },
    "tags": []
   },
   "outputs": [],
   "source": [
    "required_parameters = {\n",
    "    \"experiment_name\",\n",
    "    \"lr\",\n",
    "    \"device\",\n",
    "    \"dataset_seed\",\n",
    "    \"seed\",\n",
    "    \"labels\",\n",
    "    \"domains_target\",\n",
    "    \"domains_source\",\n",
    "    \"num_examples_per_domain_per_label_source\",\n",
    "    \"num_examples_per_domain_per_label_target\",\n",
    "    \"batch_size\",\n",
    "    \"n_epoch\",\n",
    "    \"patience\",\n",
    "    \"criteria_for_best\",\n",
    "    \"normalize_source\",\n",
    "    \"normalize_target\",\n",
    "    \"x_net\",\n",
    "    \"NUM_LOGS_PER_EPOCH\",\n",
    "    \"BEST_MODEL_PATH\",\n",
    "    \"pickle_name_source\",\n",
    "    \"pickle_name_target\",\n",
    "    \"torch_default_dtype\",\n",
    "}"
   ]
  },
  {
   "cell_type": "code",
   "execution_count": 3,
   "id": "670b5fb8",
   "metadata": {
    "execution": {
     "iopub.execute_input": "2022-03-26T01:10:15.633368Z",
     "iopub.status.busy": "2022-03-26T01:10:15.632497Z",
     "iopub.status.idle": "2022-03-26T01:10:15.642184Z",
     "shell.execute_reply": "2022-03-26T01:10:15.641403Z"
    },
    "papermill": {
     "duration": 0.038455,
     "end_time": "2022-03-26T01:10:15.642337",
     "exception": false,
     "start_time": "2022-03-26T01:10:15.603882",
     "status": "completed"
    },
    "tags": [
     "parameters"
    ]
   },
   "outputs": [],
   "source": [
    "from steves_utils.ORACLE.utils_v2 import (\n",
    "    ALL_SERIAL_NUMBERS,\n",
    "    ALL_DISTANCES_FEET_NARROWED,\n",
    ")\n",
    "\n",
    "standalone_parameters = {}\n",
    "standalone_parameters[\"experiment_name\"] = \"MANUAL CORES CNN\"\n",
    "standalone_parameters[\"lr\"] = 0.0001\n",
    "standalone_parameters[\"device\"] = \"cuda\"\n",
    "\n",
    "standalone_parameters[\"dataset_seed\"] = 1337\n",
    "standalone_parameters[\"seed\"] = 1337\n",
    "standalone_parameters[\"labels\"] = ALL_SERIAL_NUMBERS\n",
    "\n",
    "standalone_parameters[\"domains_source\"] = [8,32,50]\n",
    "standalone_parameters[\"domains_target\"] = [14,20,26,38,44,]\n",
    "\n",
    "standalone_parameters[\"num_examples_per_domain_per_label_source\"]=-1\n",
    "standalone_parameters[\"num_examples_per_domain_per_label_target\"]=-1\n",
    "\n",
    "standalone_parameters[\"pickle_name_source\"] = \"oracle.Run1_framed_2000Examples_stratified_ds.2022A.pkl\"\n",
    "standalone_parameters[\"pickle_name_target\"] = \"oracle.Run2_framed_2000Examples_stratified_ds.2022A.pkl\"\n",
    "\n",
    "standalone_parameters[\"torch_default_dtype\"] = \"torch.float32\" \n",
    "\n",
    "standalone_parameters[\"batch_size\"]=128\n",
    "\n",
    "standalone_parameters[\"n_epoch\"] = 3\n",
    "\n",
    "standalone_parameters[\"patience\"] = 10\n",
    "\n",
    "standalone_parameters[\"criteria_for_best\"] = \"target_accuracy\"\n",
    "standalone_parameters[\"normalize_source\"] = False\n",
    "standalone_parameters[\"normalize_target\"] = False\n",
    "\n",
    "standalone_parameters[\"x_net\"] =     [\n",
    "    {\"class\": \"nnReshape\", \"kargs\": {\"shape\":[-1, 1, 2, 256]}},\n",
    "    {\"class\": \"Conv2d\", \"kargs\": { \"in_channels\":1, \"out_channels\":256, \"kernel_size\":(1,7), \"bias\":False, \"padding\":(0,3), },},\n",
    "    {\"class\": \"ReLU\", \"kargs\": {\"inplace\": True}},\n",
    "    {\"class\": \"BatchNorm2d\", \"kargs\": {\"num_features\":256}},\n",
    "\n",
    "    {\"class\": \"Conv2d\", \"kargs\": { \"in_channels\":256, \"out_channels\":80, \"kernel_size\":(2,7), \"bias\":True, \"padding\":(0,3), },},\n",
    "    {\"class\": \"ReLU\", \"kargs\": {\"inplace\": True}},\n",
    "    {\"class\": \"BatchNorm2d\", \"kargs\": {\"num_features\":80}},\n",
    "    {\"class\": \"Flatten\", \"kargs\": {}},\n",
    "\n",
    "    {\"class\": \"Linear\", \"kargs\": {\"in_features\": 80*256, \"out_features\": 256}}, # 80 units per IQ pair\n",
    "    {\"class\": \"ReLU\", \"kargs\": {\"inplace\": True}},\n",
    "    {\"class\": \"BatchNorm1d\", \"kargs\": {\"num_features\":256}},\n",
    "\n",
    "    {\"class\": \"Linear\", \"kargs\": {\"in_features\": 256, \"out_features\": len(standalone_parameters[\"labels\"])}},\n",
    "]\n",
    "\n",
    "standalone_parameters[\"NUM_LOGS_PER_EPOCH\"] = 10\n",
    "standalone_parameters[\"BEST_MODEL_PATH\"] = \"./best_model.pth\""
   ]
  },
  {
   "cell_type": "code",
   "execution_count": 4,
   "id": "4e4cdac1",
   "metadata": {
    "execution": {
     "iopub.execute_input": "2022-03-26T01:10:15.692140Z",
     "iopub.status.busy": "2022-03-26T01:10:15.680560Z",
     "iopub.status.idle": "2022-03-26T01:10:15.694164Z",
     "shell.execute_reply": "2022-03-26T01:10:15.694818Z"
    },
    "papermill": {
     "duration": 0.030663,
     "end_time": "2022-03-26T01:10:15.694997",
     "exception": false,
     "start_time": "2022-03-26T01:10:15.664334",
     "status": "completed"
    },
    "tags": [
     "injected-parameters"
    ]
   },
   "outputs": [],
   "source": [
    "# Parameters\n",
    "parameters = {\n",
    "    \"experiment_name\": \"cnn_1:oracle.run2\",\n",
    "    \"labels\": [\n",
    "        \"3123D52\",\n",
    "        \"3123D65\",\n",
    "        \"3123D79\",\n",
    "        \"3123D80\",\n",
    "        \"3123D54\",\n",
    "        \"3123D70\",\n",
    "        \"3123D7B\",\n",
    "        \"3123D89\",\n",
    "        \"3123D58\",\n",
    "        \"3123D76\",\n",
    "        \"3123D7D\",\n",
    "        \"3123EFE\",\n",
    "        \"3123D64\",\n",
    "        \"3123D78\",\n",
    "        \"3123D7E\",\n",
    "        \"3124E4A\",\n",
    "    ],\n",
    "    \"domains_source\": [8, 32, 50],\n",
    "    \"domains_target\": [14, 20, 26, 38, 44],\n",
    "    \"pickle_name_source\": \"oracle.Run2_10kExamples_stratified_ds.2022A.pkl\",\n",
    "    \"pickle_name_target\": \"oracle.Run2_10kExamples_stratified_ds.2022A.pkl\",\n",
    "    \"device\": \"cuda\",\n",
    "    \"lr\": 0.0001,\n",
    "    \"batch_size\": 128,\n",
    "    \"normalize_source\": False,\n",
    "    \"normalize_target\": False,\n",
    "    \"num_examples_per_domain_per_label_source\": -1,\n",
    "    \"num_examples_per_domain_per_label_target\": -1,\n",
    "    \"torch_default_dtype\": \"torch.float32\",\n",
    "    \"n_epoch\": 50,\n",
    "    \"patience\": 3,\n",
    "    \"criteria_for_best\": \"target_accuracy\",\n",
    "    \"x_net\": [\n",
    "        {\"class\": \"nnReshape\", \"kargs\": {\"shape\": [-1, 1, 2, 256]}},\n",
    "        {\n",
    "            \"class\": \"Conv2d\",\n",
    "            \"kargs\": {\n",
    "                \"in_channels\": 1,\n",
    "                \"out_channels\": 256,\n",
    "                \"kernel_size\": [1, 7],\n",
    "                \"bias\": False,\n",
    "                \"padding\": [0, 3],\n",
    "            },\n",
    "        },\n",
    "        {\"class\": \"ReLU\", \"kargs\": {\"inplace\": True}},\n",
    "        {\"class\": \"BatchNorm2d\", \"kargs\": {\"num_features\": 256}},\n",
    "        {\n",
    "            \"class\": \"Conv2d\",\n",
    "            \"kargs\": {\n",
    "                \"in_channels\": 256,\n",
    "                \"out_channels\": 80,\n",
    "                \"kernel_size\": [2, 7],\n",
    "                \"bias\": True,\n",
    "                \"padding\": [0, 3],\n",
    "            },\n",
    "        },\n",
    "        {\"class\": \"ReLU\", \"kargs\": {\"inplace\": True}},\n",
    "        {\"class\": \"BatchNorm2d\", \"kargs\": {\"num_features\": 80}},\n",
    "        {\"class\": \"Flatten\", \"kargs\": {}},\n",
    "        {\"class\": \"Linear\", \"kargs\": {\"in_features\": 20480, \"out_features\": 256}},\n",
    "        {\"class\": \"ReLU\", \"kargs\": {\"inplace\": True}},\n",
    "        {\"class\": \"BatchNorm1d\", \"kargs\": {\"num_features\": 256}},\n",
    "        {\"class\": \"Linear\", \"kargs\": {\"in_features\": 256, \"out_features\": 16}},\n",
    "    ],\n",
    "    \"NUM_LOGS_PER_EPOCH\": 10,\n",
    "    \"BEST_MODEL_PATH\": \"./best_model.pth\",\n",
    "    \"dataset_seed\": 420,\n",
    "    \"seed\": 420,\n",
    "}\n"
   ]
  },
  {
   "cell_type": "code",
   "execution_count": 5,
   "id": "759b56ec",
   "metadata": {
    "execution": {
     "iopub.execute_input": "2022-03-26T01:10:15.733003Z",
     "iopub.status.busy": "2022-03-26T01:10:15.732629Z",
     "iopub.status.idle": "2022-03-26T01:10:15.734909Z",
     "shell.execute_reply": "2022-03-26T01:10:15.735229Z"
    },
    "papermill": {
     "duration": 0.021647,
     "end_time": "2022-03-26T01:10:15.735330",
     "exception": false,
     "start_time": "2022-03-26T01:10:15.713683",
     "status": "completed"
    },
    "tags": []
   },
   "outputs": [],
   "source": [
    "# Set this to True if you want to run this template directly\n",
    "STANDALONE = False\n",
    "if STANDALONE:\n",
    "    print(\"parameters not injected, running with standalone_parameters\")\n",
    "    parameters = standalone_parameters\n",
    "\n",
    "if not 'parameters' in locals() and not 'parameters' in globals():\n",
    "    raise Exception(\"Parameter injection failed\")\n",
    "\n",
    "#Use an easy dict for all the parameters\n",
    "p = EasyDict(parameters)\n",
    "\n",
    "supplied_keys = set(p.keys())\n",
    "\n",
    "if  supplied_keys != required_parameters:\n",
    "    print(\"Parameters are incorrect\")\n",
    "    if len(supplied_keys - required_parameters)>0: print(\"Shouldn't have:\", str(supplied_keys - required_parameters))\n",
    "    if len(required_parameters - supplied_keys)>0: print(\"Need to have:\", str(required_parameters - supplied_keys))\n",
    "    raise RuntimeError(\"Parameters are incorrect\")\n",
    "\n"
   ]
  },
  {
   "cell_type": "code",
   "execution_count": 6,
   "id": "d5c66a71",
   "metadata": {
    "execution": {
     "iopub.execute_input": "2022-03-26T01:10:15.772136Z",
     "iopub.status.busy": "2022-03-26T01:10:15.771767Z",
     "iopub.status.idle": "2022-03-26T01:10:15.775719Z",
     "shell.execute_reply": "2022-03-26T01:10:15.775386Z"
    },
    "papermill": {
     "duration": 0.022411,
     "end_time": "2022-03-26T01:10:15.775792",
     "exception": false,
     "start_time": "2022-03-26T01:10:15.753381",
     "status": "completed"
    },
    "tags": []
   },
   "outputs": [],
   "source": [
    "###################################\n",
    "# Set the RNGs and make it all deterministic\n",
    "###################################\n",
    "np.random.seed(p.seed)\n",
    "random.seed(p.seed)\n",
    "torch.manual_seed(p.seed)\n",
    "\n",
    "torch.use_deterministic_algorithms(True) "
   ]
  },
  {
   "cell_type": "code",
   "execution_count": 7,
   "id": "92a65876",
   "metadata": {
    "execution": {
     "iopub.execute_input": "2022-03-26T01:10:15.812838Z",
     "iopub.status.busy": "2022-03-26T01:10:15.812475Z",
     "iopub.status.idle": "2022-03-26T01:10:15.814592Z",
     "shell.execute_reply": "2022-03-26T01:10:15.814889Z"
    },
    "papermill": {
     "duration": 0.020948,
     "end_time": "2022-03-26T01:10:15.814973",
     "exception": false,
     "start_time": "2022-03-26T01:10:15.794025",
     "status": "completed"
    },
    "tags": []
   },
   "outputs": [],
   "source": [
    "torch.set_default_dtype(eval(p.torch_default_dtype))"
   ]
  },
  {
   "cell_type": "code",
   "execution_count": 8,
   "id": "f1a32f01",
   "metadata": {
    "execution": {
     "iopub.execute_input": "2022-03-26T01:10:15.853701Z",
     "iopub.status.busy": "2022-03-26T01:10:15.853338Z",
     "iopub.status.idle": "2022-03-26T01:10:15.895413Z",
     "shell.execute_reply": "2022-03-26T01:10:15.894726Z"
    },
    "papermill": {
     "duration": 0.060142,
     "end_time": "2022-03-26T01:10:15.895592",
     "exception": false,
     "start_time": "2022-03-26T01:10:15.835450",
     "status": "completed"
    },
    "tags": []
   },
   "outputs": [],
   "source": [
    "###################################\n",
    "# Build the network(s)\n",
    "# Note: It's critical to do this AFTER setting the RNG\n",
    "###################################\n",
    "x_net = build_sequential(p.x_net)"
   ]
  },
  {
   "cell_type": "code",
   "execution_count": 9,
   "id": "a276cd83",
   "metadata": {
    "execution": {
     "iopub.execute_input": "2022-03-26T01:10:15.937364Z",
     "iopub.status.busy": "2022-03-26T01:10:15.936995Z",
     "iopub.status.idle": "2022-03-26T01:10:15.938906Z",
     "shell.execute_reply": "2022-03-26T01:10:15.938548Z"
    },
    "papermill": {
     "duration": 0.022424,
     "end_time": "2022-03-26T01:10:15.938978",
     "exception": false,
     "start_time": "2022-03-26T01:10:15.916554",
     "status": "completed"
    },
    "tags": []
   },
   "outputs": [],
   "source": [
    "start_time_secs = time.time()"
   ]
  },
  {
   "cell_type": "code",
   "execution_count": 10,
   "id": "de702e48",
   "metadata": {
    "execution": {
     "iopub.execute_input": "2022-03-26T01:10:15.986416Z",
     "iopub.status.busy": "2022-03-26T01:10:15.985568Z",
     "iopub.status.idle": "2022-03-26T01:10:37.800379Z",
     "shell.execute_reply": "2022-03-26T01:10:37.799628Z"
    },
    "papermill": {
     "duration": 21.843239,
     "end_time": "2022-03-26T01:10:37.800569",
     "exception": false,
     "start_time": "2022-03-26T01:10:15.957330",
     "status": "completed"
    },
    "tags": []
   },
   "outputs": [],
   "source": [
    "def wrap_in_dataloader(p, ds):\n",
    "    return torch.utils.data.DataLoader(\n",
    "        ds,\n",
    "        batch_size=p.batch_size,\n",
    "        shuffle=True,\n",
    "        num_workers=1,\n",
    "        persistent_workers=True,\n",
    "        prefetch_factor=50,\n",
    "        pin_memory=True\n",
    "    )\n",
    "\n",
    "taf_source = Traditional_Accessor_Factory(\n",
    "    labels=p.labels,\n",
    "    domains=p.domains_source,\n",
    "    num_examples_per_domain_per_label=p.num_examples_per_domain_per_label_source,\n",
    "    pickle_path=os.path.join(get_datasets_base_path(), p.pickle_name_source),\n",
    "    seed=p.dataset_seed\n",
    ")\n",
    "train_original_source, val_original_source, test_original_source = \\\n",
    "    taf_source.get_train(), taf_source.get_val(), taf_source.get_test()\n",
    "\n",
    "\n",
    "taf_target = Traditional_Accessor_Factory(\n",
    "    labels=p.labels,\n",
    "    domains=p.domains_target,\n",
    "    num_examples_per_domain_per_label=p.num_examples_per_domain_per_label_source,\n",
    "    pickle_path=os.path.join(get_datasets_base_path(), p.pickle_name_target),\n",
    "    seed=p.dataset_seed\n",
    ")\n",
    "train_original_target, val_original_target, test_original_target = \\\n",
    "    taf_target.get_train(), taf_target.get_val(), taf_target.get_test()\n",
    "\n",
    "\n",
    "# For CNN We only use X and Y. And we only train on the source.\n",
    "# Properly form the data using a transform lambda and Lazy_Map. Finally wrap them in a dataloader\n",
    "\n",
    "transform_lambda = lambda ex: ex[:2] # Strip the tuple to just (x,y)\n",
    "\n",
    "\n",
    "train_processed_source = wrap_in_dataloader(\n",
    "    p,\n",
    "    Lazy_Map(train_original_source, transform_lambda)\n",
    ")\n",
    "val_processed_source = wrap_in_dataloader(\n",
    "    p,\n",
    "    Lazy_Map(val_original_source, transform_lambda)\n",
    ")\n",
    "test_processed_source = wrap_in_dataloader(\n",
    "    p,\n",
    "    Lazy_Map(test_original_source, transform_lambda)\n",
    ")\n",
    "\n",
    "train_processed_target = wrap_in_dataloader(\n",
    "    p,\n",
    "    Lazy_Map(train_original_target, transform_lambda)\n",
    ")\n",
    "val_processed_target = wrap_in_dataloader(\n",
    "    p,\n",
    "    Lazy_Map(val_original_target, transform_lambda)\n",
    ")\n",
    "test_processed_target  = wrap_in_dataloader(\n",
    "    p,\n",
    "    Lazy_Map(test_original_target, transform_lambda)\n",
    ")\n",
    "\n",
    "\n",
    "\n",
    "datasets = EasyDict({\n",
    "    \"source\": {\n",
    "        \"original\": {\"train\":train_original_source, \"val\":val_original_source, \"test\":test_original_source},\n",
    "        \"processed\": {\"train\":train_processed_source, \"val\":val_processed_source, \"test\":test_processed_source}\n",
    "    },\n",
    "    \"target\": {\n",
    "        \"original\": {\"train\":train_original_target, \"val\":val_original_target, \"test\":test_original_target},\n",
    "        \"processed\": {\"train\":train_processed_target, \"val\":val_processed_target, \"test\":test_processed_target}\n",
    "    },\n",
    "})"
   ]
  },
  {
   "cell_type": "code",
   "execution_count": 11,
   "id": "a11b26bd",
   "metadata": {
    "execution": {
     "iopub.execute_input": "2022-03-26T01:10:37.878005Z",
     "iopub.status.busy": "2022-03-26T01:10:37.876560Z",
     "iopub.status.idle": "2022-03-26T01:10:43.631774Z",
     "shell.execute_reply": "2022-03-26T01:10:43.631021Z"
    },
    "papermill": {
     "duration": 5.812866,
     "end_time": "2022-03-26T01:10:43.631960",
     "exception": false,
     "start_time": "2022-03-26T01:10:37.819094",
     "status": "completed"
    },
    "tags": []
   },
   "outputs": [
    {
     "data": {
      "text/plain": [
       "torch.float32"
      ]
     },
     "execution_count": 11,
     "metadata": {},
     "output_type": "execute_result"
    }
   ],
   "source": [
    "ep = next(iter(test_processed_target))\n",
    "ep[0].dtype"
   ]
  },
  {
   "cell_type": "code",
   "execution_count": 12,
   "id": "19425fad",
   "metadata": {
    "execution": {
     "iopub.execute_input": "2022-03-26T01:10:43.673755Z",
     "iopub.status.busy": "2022-03-26T01:10:43.672904Z",
     "iopub.status.idle": "2022-03-26T01:10:43.724553Z",
     "shell.execute_reply": "2022-03-26T01:10:43.725231Z"
    },
    "papermill": {
     "duration": 0.073871,
     "end_time": "2022-03-26T01:10:43.725416",
     "exception": false,
     "start_time": "2022-03-26T01:10:43.651545",
     "status": "completed"
    },
    "tags": []
   },
   "outputs": [],
   "source": [
    "model = Configurable_Vanilla(\n",
    "    x_net=x_net,\n",
    "    label_loss_object=torch.nn.NLLLoss(),\n",
    "    learning_rate=p.lr\n",
    ")"
   ]
  },
  {
   "cell_type": "code",
   "execution_count": 13,
   "id": "7f6d4f2c",
   "metadata": {
    "execution": {
     "iopub.execute_input": "2022-03-26T01:10:43.766892Z",
     "iopub.status.busy": "2022-03-26T01:10:43.766522Z",
     "iopub.status.idle": "2022-03-26T01:19:20.344189Z",
     "shell.execute_reply": "2022-03-26T01:19:20.343838Z"
    },
    "papermill": {
     "duration": 516.598298,
     "end_time": "2022-03-26T01:19:20.344286",
     "exception": false,
     "start_time": "2022-03-26T01:10:43.745988",
     "status": "completed"
    },
    "tags": []
   },
   "outputs": [
    {
     "name": "stdout",
     "output_type": "stream",
     "text": [
      "epoch: 1, [batch: 1 / 2625], examples_per_second: 532.6703, train_label_loss: 2.7963, \n"
     ]
    },
    {
     "name": "stdout",
     "output_type": "stream",
     "text": [
      "epoch: 1, [batch: 263 / 2625], examples_per_second: 11670.0223, train_label_loss: 2.2956, \n"
     ]
    },
    {
     "name": "stdout",
     "output_type": "stream",
     "text": [
      "epoch: 1, [batch: 525 / 2625], examples_per_second: 11782.1722, train_label_loss: 2.1087, \n"
     ]
    },
    {
     "name": "stdout",
     "output_type": "stream",
     "text": [
      "epoch: 1, [batch: 788 / 2625], examples_per_second: 11807.9602, train_label_loss: 1.8713, \n"
     ]
    },
    {
     "name": "stdout",
     "output_type": "stream",
     "text": [
      "epoch: 1, [batch: 1050 / 2625], examples_per_second: 11766.2128, train_label_loss: 1.5814, \n"
     ]
    },
    {
     "name": "stdout",
     "output_type": "stream",
     "text": [
      "epoch: 1, [batch: 1313 / 2625], examples_per_second: 11808.6169, train_label_loss: 1.5327, \n"
     ]
    },
    {
     "name": "stdout",
     "output_type": "stream",
     "text": [
      "epoch: 1, [batch: 1575 / 2625], examples_per_second: 11782.3479, train_label_loss: 1.4550, \n"
     ]
    },
    {
     "name": "stdout",
     "output_type": "stream",
     "text": [
      "epoch: 1, [batch: 1837 / 2625], examples_per_second: 11784.6035, train_label_loss: 1.2230, \n"
     ]
    },
    {
     "name": "stdout",
     "output_type": "stream",
     "text": [
      "epoch: 1, [batch: 2100 / 2625], examples_per_second: 11741.5171, train_label_loss: 1.0466, \n"
     ]
    },
    {
     "name": "stdout",
     "output_type": "stream",
     "text": [
      "epoch: 1, [batch: 2362 / 2625], examples_per_second: 11743.1804, train_label_loss: 1.1153, \n"
     ]
    },
    {
     "name": "stdout",
     "output_type": "stream",
     "text": [
      "=============================================================\n",
      "epoch: 1, source_val_acc_label: 0.6811, source_val_label_loss: 1.0099, target_val_acc_label: 0.0608, target_val_label_loss: 8.4241, \n",
      "=============================================================\n"
     ]
    },
    {
     "name": "stdout",
     "output_type": "stream",
     "text": [
      "New best\n",
      "epoch: 2, [batch: 1 / 2625], examples_per_second: 26.5586, train_label_loss: 1.0313, \n"
     ]
    },
    {
     "name": "stdout",
     "output_type": "stream",
     "text": [
      "epoch: 2, [batch: 263 / 2625], examples_per_second: 11655.8339, train_label_loss: 0.8485, \n"
     ]
    },
    {
     "name": "stdout",
     "output_type": "stream",
     "text": [
      "epoch: 2, [batch: 525 / 2625], examples_per_second: 11804.0502, train_label_loss: 0.9133, \n"
     ]
    },
    {
     "name": "stdout",
     "output_type": "stream",
     "text": [
      "epoch: 2, [batch: 788 / 2625], examples_per_second: 11781.2986, train_label_loss: 0.7129, \n"
     ]
    },
    {
     "name": "stdout",
     "output_type": "stream",
     "text": [
      "epoch: 2, [batch: 1050 / 2625], examples_per_second: 11564.6909, train_label_loss: 0.7075, \n"
     ]
    },
    {
     "name": "stdout",
     "output_type": "stream",
     "text": [
      "epoch: 2, [batch: 1313 / 2625], examples_per_second: 11776.2078, train_label_loss: 0.6796, \n"
     ]
    },
    {
     "name": "stdout",
     "output_type": "stream",
     "text": [
      "epoch: 2, [batch: 1575 / 2625], examples_per_second: 11694.5901, train_label_loss: 0.7390, \n"
     ]
    },
    {
     "name": "stdout",
     "output_type": "stream",
     "text": [
      "epoch: 2, [batch: 1837 / 2625], examples_per_second: 11720.1189, train_label_loss: 0.5612, \n"
     ]
    },
    {
     "name": "stdout",
     "output_type": "stream",
     "text": [
      "epoch: 2, [batch: 2100 / 2625], examples_per_second: 11563.5461, train_label_loss: 0.5800, \n"
     ]
    },
    {
     "name": "stdout",
     "output_type": "stream",
     "text": [
      "epoch: 2, [batch: 2362 / 2625], examples_per_second: 11687.7666, train_label_loss: 0.5862, \n"
     ]
    },
    {
     "name": "stdout",
     "output_type": "stream",
     "text": [
      "=============================================================\n",
      "epoch: 2, source_val_acc_label: 0.8165, source_val_label_loss: 0.5542, target_val_acc_label: 0.0657, target_val_label_loss: 13.0261, \n",
      "=============================================================\n"
     ]
    },
    {
     "name": "stdout",
     "output_type": "stream",
     "text": [
      "New best\n",
      "epoch: 3, [batch: 1 / 2625], examples_per_second: 29.4443, train_label_loss: 0.3917, \n"
     ]
    },
    {
     "name": "stdout",
     "output_type": "stream",
     "text": [
      "epoch: 3, [batch: 263 / 2625], examples_per_second: 11708.1996, train_label_loss: 0.4942, \n"
     ]
    },
    {
     "name": "stdout",
     "output_type": "stream",
     "text": [
      "epoch: 3, [batch: 525 / 2625], examples_per_second: 11540.1928, train_label_loss: 0.5664, \n"
     ]
    },
    {
     "name": "stdout",
     "output_type": "stream",
     "text": [
      "epoch: 3, [batch: 788 / 2625], examples_per_second: 11679.6053, train_label_loss: 0.5095, \n"
     ]
    },
    {
     "name": "stdout",
     "output_type": "stream",
     "text": [
      "epoch: 3, [batch: 1050 / 2625], examples_per_second: 11695.7910, train_label_loss: 0.4526, \n"
     ]
    },
    {
     "name": "stdout",
     "output_type": "stream",
     "text": [
      "epoch: 3, [batch: 1313 / 2625], examples_per_second: 11622.4315, train_label_loss: 0.5753, \n"
     ]
    },
    {
     "name": "stdout",
     "output_type": "stream",
     "text": [
      "epoch: 3, [batch: 1575 / 2625], examples_per_second: 11717.0055, train_label_loss: 0.4457, \n"
     ]
    },
    {
     "name": "stdout",
     "output_type": "stream",
     "text": [
      "epoch: 3, [batch: 1837 / 2625], examples_per_second: 11647.6134, train_label_loss: 0.6184, \n"
     ]
    },
    {
     "name": "stdout",
     "output_type": "stream",
     "text": [
      "epoch: 3, [batch: 2100 / 2625], examples_per_second: 11720.2654, train_label_loss: 0.5110, \n"
     ]
    },
    {
     "name": "stdout",
     "output_type": "stream",
     "text": [
      "epoch: 3, [batch: 2362 / 2625], examples_per_second: 11662.1995, train_label_loss: 0.3271, \n"
     ]
    },
    {
     "name": "stdout",
     "output_type": "stream",
     "text": [
      "=============================================================\n",
      "epoch: 3, source_val_acc_label: 0.8012, source_val_label_loss: 0.5350, target_val_acc_label: 0.0659, target_val_label_loss: 15.5848, \n",
      "=============================================================\n"
     ]
    },
    {
     "name": "stdout",
     "output_type": "stream",
     "text": [
      "New best\n",
      "epoch: 4, [batch: 1 / 2625], examples_per_second: 28.4492, train_label_loss: 0.7588, \n"
     ]
    },
    {
     "name": "stdout",
     "output_type": "stream",
     "text": [
      "epoch: 4, [batch: 263 / 2625], examples_per_second: 11548.6918, train_label_loss: 0.3039, \n"
     ]
    },
    {
     "name": "stdout",
     "output_type": "stream",
     "text": [
      "epoch: 4, [batch: 525 / 2625], examples_per_second: 11597.6572, train_label_loss: 0.3309, \n"
     ]
    },
    {
     "name": "stdout",
     "output_type": "stream",
     "text": [
      "epoch: 4, [batch: 788 / 2625], examples_per_second: 11551.9587, train_label_loss: 0.4246, \n"
     ]
    },
    {
     "name": "stdout",
     "output_type": "stream",
     "text": [
      "epoch: 4, [batch: 1050 / 2625], examples_per_second: 11643.3143, train_label_loss: 0.3372, \n"
     ]
    },
    {
     "name": "stdout",
     "output_type": "stream",
     "text": [
      "epoch: 4, [batch: 1313 / 2625], examples_per_second: 11618.3431, train_label_loss: 0.3137, \n"
     ]
    },
    {
     "name": "stdout",
     "output_type": "stream",
     "text": [
      "epoch: 4, [batch: 1575 / 2625], examples_per_second: 11627.8122, train_label_loss: 0.3469, \n"
     ]
    },
    {
     "name": "stdout",
     "output_type": "stream",
     "text": [
      "epoch: 4, [batch: 1837 / 2625], examples_per_second: 11693.1027, train_label_loss: 0.3219, \n"
     ]
    },
    {
     "name": "stdout",
     "output_type": "stream",
     "text": [
      "epoch: 4, [batch: 2100 / 2625], examples_per_second: 11622.5032, train_label_loss: 0.3567, \n"
     ]
    },
    {
     "name": "stdout",
     "output_type": "stream",
     "text": [
      "epoch: 4, [batch: 2362 / 2625], examples_per_second: 11654.9289, train_label_loss: 0.4138, \n"
     ]
    },
    {
     "name": "stdout",
     "output_type": "stream",
     "text": [
      "=============================================================\n",
      "epoch: 4, source_val_acc_label: 0.8758, source_val_label_loss: 0.3512, target_val_acc_label: 0.0720, target_val_label_loss: 17.9497, \n",
      "=============================================================\n"
     ]
    },
    {
     "name": "stdout",
     "output_type": "stream",
     "text": [
      "New best\n",
      "epoch: 5, [batch: 1 / 2625], examples_per_second: 28.5142, train_label_loss: 0.3128, \n"
     ]
    },
    {
     "name": "stdout",
     "output_type": "stream",
     "text": [
      "epoch: 5, [batch: 263 / 2625], examples_per_second: 11615.5551, train_label_loss: 0.3347, \n"
     ]
    },
    {
     "name": "stdout",
     "output_type": "stream",
     "text": [
      "epoch: 5, [batch: 525 / 2625], examples_per_second: 11632.2817, train_label_loss: 0.2900, \n"
     ]
    },
    {
     "name": "stdout",
     "output_type": "stream",
     "text": [
      "epoch: 5, [batch: 788 / 2625], examples_per_second: 11541.6359, train_label_loss: 0.3930, \n"
     ]
    },
    {
     "name": "stdout",
     "output_type": "stream",
     "text": [
      "epoch: 5, [batch: 1050 / 2625], examples_per_second: 11673.2909, train_label_loss: 0.2443, \n"
     ]
    },
    {
     "name": "stdout",
     "output_type": "stream",
     "text": [
      "epoch: 5, [batch: 1313 / 2625], examples_per_second: 11683.7080, train_label_loss: 0.2143, \n"
     ]
    },
    {
     "name": "stdout",
     "output_type": "stream",
     "text": [
      "epoch: 5, [batch: 1575 / 2625], examples_per_second: 11682.9099, train_label_loss: 0.4232, \n"
     ]
    },
    {
     "name": "stdout",
     "output_type": "stream",
     "text": [
      "epoch: 5, [batch: 1837 / 2625], examples_per_second: 11753.6486, train_label_loss: 0.3314, \n"
     ]
    },
    {
     "name": "stdout",
     "output_type": "stream",
     "text": [
      "epoch: 5, [batch: 2100 / 2625], examples_per_second: 11716.1264, train_label_loss: 0.3374, \n"
     ]
    },
    {
     "name": "stdout",
     "output_type": "stream",
     "text": [
      "epoch: 5, [batch: 2362 / 2625], examples_per_second: 11818.4699, train_label_loss: 0.3119, \n"
     ]
    },
    {
     "name": "stdout",
     "output_type": "stream",
     "text": [
      "=============================================================\n",
      "epoch: 5, source_val_acc_label: 0.8534, source_val_label_loss: 0.3896, target_val_acc_label: 0.0684, target_val_label_loss: 19.9667, \n",
      "=============================================================\n"
     ]
    },
    {
     "name": "stdout",
     "output_type": "stream",
     "text": [
      "epoch: 6, [batch: 1 / 2625], examples_per_second: 29.6183, train_label_loss: 0.4577, \n"
     ]
    },
    {
     "name": "stdout",
     "output_type": "stream",
     "text": [
      "epoch: 6, [batch: 263 / 2625], examples_per_second: 12545.9640, train_label_loss: 0.2667, \n"
     ]
    },
    {
     "name": "stdout",
     "output_type": "stream",
     "text": [
      "epoch: 6, [batch: 525 / 2625], examples_per_second: 12725.4813, train_label_loss: 0.2257, \n"
     ]
    },
    {
     "name": "stdout",
     "output_type": "stream",
     "text": [
      "epoch: 6, [batch: 788 / 2625], examples_per_second: 12759.7734, train_label_loss: 0.2511, \n"
     ]
    },
    {
     "name": "stdout",
     "output_type": "stream",
     "text": [
      "epoch: 6, [batch: 1050 / 2625], examples_per_second: 12013.6719, train_label_loss: 0.1452, \n"
     ]
    },
    {
     "name": "stdout",
     "output_type": "stream",
     "text": [
      "epoch: 6, [batch: 1313 / 2625], examples_per_second: 10759.8790, train_label_loss: 0.2166, \n"
     ]
    },
    {
     "name": "stdout",
     "output_type": "stream",
     "text": [
      "epoch: 6, [batch: 1575 / 2625], examples_per_second: 10703.1339, train_label_loss: 0.2090, \n"
     ]
    },
    {
     "name": "stdout",
     "output_type": "stream",
     "text": [
      "epoch: 6, [batch: 1837 / 2625], examples_per_second: 10722.4404, train_label_loss: 0.2432, \n"
     ]
    },
    {
     "name": "stdout",
     "output_type": "stream",
     "text": [
      "epoch: 6, [batch: 2100 / 2625], examples_per_second: 10710.5360, train_label_loss: 0.2316, \n"
     ]
    },
    {
     "name": "stdout",
     "output_type": "stream",
     "text": [
      "epoch: 6, [batch: 2362 / 2625], examples_per_second: 10704.6563, train_label_loss: 0.2661, \n"
     ]
    },
    {
     "name": "stdout",
     "output_type": "stream",
     "text": [
      "=============================================================\n",
      "epoch: 6, source_val_acc_label: 0.8863, source_val_label_loss: 0.3049, target_val_acc_label: 0.0706, target_val_label_loss: 20.8495, \n",
      "=============================================================\n"
     ]
    },
    {
     "name": "stdout",
     "output_type": "stream",
     "text": [
      "epoch: 7, [batch: 1 / 2625], examples_per_second: 25.3016, train_label_loss: 0.1614, \n"
     ]
    },
    {
     "name": "stdout",
     "output_type": "stream",
     "text": [
      "epoch: 7, [batch: 263 / 2625], examples_per_second: 10710.8700, train_label_loss: 0.2770, \n"
     ]
    },
    {
     "name": "stdout",
     "output_type": "stream",
     "text": [
      "epoch: 7, [batch: 525 / 2625], examples_per_second: 10727.1848, train_label_loss: 0.3116, \n"
     ]
    },
    {
     "name": "stdout",
     "output_type": "stream",
     "text": [
      "epoch: 7, [batch: 788 / 2625], examples_per_second: 10729.3431, train_label_loss: 0.1332, \n"
     ]
    },
    {
     "name": "stdout",
     "output_type": "stream",
     "text": [
      "epoch: 7, [batch: 1050 / 2625], examples_per_second: 10721.3387, train_label_loss: 0.2240, \n"
     ]
    },
    {
     "name": "stdout",
     "output_type": "stream",
     "text": [
      "epoch: 7, [batch: 1313 / 2625], examples_per_second: 10730.9968, train_label_loss: 0.2846, \n"
     ]
    },
    {
     "name": "stdout",
     "output_type": "stream",
     "text": [
      "epoch: 7, [batch: 1575 / 2625], examples_per_second: 10687.3541, train_label_loss: 0.1841, \n"
     ]
    },
    {
     "name": "stdout",
     "output_type": "stream",
     "text": [
      "epoch: 7, [batch: 1837 / 2625], examples_per_second: 10653.0542, train_label_loss: 0.2584, \n"
     ]
    },
    {
     "name": "stdout",
     "output_type": "stream",
     "text": [
      "epoch: 7, [batch: 2100 / 2625], examples_per_second: 10709.3532, train_label_loss: 0.1887, \n"
     ]
    },
    {
     "name": "stdout",
     "output_type": "stream",
     "text": [
      "epoch: 7, [batch: 2362 / 2625], examples_per_second: 10722.2222, train_label_loss: 0.2160, \n"
     ]
    },
    {
     "name": "stdout",
     "output_type": "stream",
     "text": [
      "=============================================================\n",
      "epoch: 7, source_val_acc_label: 0.8213, source_val_label_loss: 0.4669, target_val_acc_label: 0.0648, target_val_label_loss: 20.5693, \n",
      "=============================================================\n"
     ]
    },
    {
     "name": "stdout",
     "output_type": "stream",
     "text": [
      "epoch: 8, [batch: 1 / 2625], examples_per_second: 26.3884, train_label_loss: 0.1570, \n"
     ]
    },
    {
     "name": "stdout",
     "output_type": "stream",
     "text": [
      "epoch: 8, [batch: 263 / 2625], examples_per_second: 10522.9666, train_label_loss: 0.1823, \n"
     ]
    },
    {
     "name": "stdout",
     "output_type": "stream",
     "text": [
      "epoch: 8, [batch: 525 / 2625], examples_per_second: 10646.6462, train_label_loss: 0.3296, \n"
     ]
    },
    {
     "name": "stdout",
     "output_type": "stream",
     "text": [
      "epoch: 8, [batch: 788 / 2625], examples_per_second: 10692.2028, train_label_loss: 0.1388, \n"
     ]
    },
    {
     "name": "stdout",
     "output_type": "stream",
     "text": [
      "epoch: 8, [batch: 1050 / 2625], examples_per_second: 10636.1668, train_label_loss: 0.2108, \n"
     ]
    },
    {
     "name": "stdout",
     "output_type": "stream",
     "text": [
      "epoch: 8, [batch: 1313 / 2625], examples_per_second: 10540.6834, train_label_loss: 0.1169, \n"
     ]
    },
    {
     "name": "stdout",
     "output_type": "stream",
     "text": [
      "epoch: 8, [batch: 1575 / 2625], examples_per_second: 10737.2166, train_label_loss: 0.0877, \n"
     ]
    },
    {
     "name": "stdout",
     "output_type": "stream",
     "text": [
      "epoch: 8, [batch: 1837 / 2625], examples_per_second: 10747.9824, train_label_loss: 0.1447, \n"
     ]
    },
    {
     "name": "stdout",
     "output_type": "stream",
     "text": [
      "epoch: 8, [batch: 2100 / 2625], examples_per_second: 10691.8620, train_label_loss: 0.1805, \n"
     ]
    },
    {
     "name": "stdout",
     "output_type": "stream",
     "text": [
      "epoch: 8, [batch: 2362 / 2625], examples_per_second: 10740.6749, train_label_loss: 0.1441, \n"
     ]
    },
    {
     "name": "stdout",
     "output_type": "stream",
     "text": [
      "=============================================================\n",
      "epoch: 8, source_val_acc_label: 0.8914, source_val_label_loss: 0.2936, target_val_acc_label: 0.0747, target_val_label_loss: 21.7623, \n",
      "=============================================================\n"
     ]
    },
    {
     "name": "stdout",
     "output_type": "stream",
     "text": [
      "New best\n",
      "epoch: 9, [batch: 1 / 2625], examples_per_second: 25.7733, train_label_loss: 0.0664, \n"
     ]
    },
    {
     "name": "stdout",
     "output_type": "stream",
     "text": [
      "epoch: 9, [batch: 263 / 2625], examples_per_second: 10690.8006, train_label_loss: 0.1129, \n"
     ]
    },
    {
     "name": "stdout",
     "output_type": "stream",
     "text": [
      "epoch: 9, [batch: 525 / 2625], examples_per_second: 10665.6773, train_label_loss: 0.1236, \n"
     ]
    },
    {
     "name": "stdout",
     "output_type": "stream",
     "text": [
      "epoch: 9, [batch: 788 / 2625], examples_per_second: 10717.5496, train_label_loss: 0.2886, \n"
     ]
    },
    {
     "name": "stdout",
     "output_type": "stream",
     "text": [
      "epoch: 9, [batch: 1050 / 2625], examples_per_second: 10721.3567, train_label_loss: 0.1551, \n"
     ]
    },
    {
     "name": "stdout",
     "output_type": "stream",
     "text": [
      "epoch: 9, [batch: 1313 / 2625], examples_per_second: 10762.3574, train_label_loss: 0.1271, \n"
     ]
    },
    {
     "name": "stdout",
     "output_type": "stream",
     "text": [
      "epoch: 9, [batch: 1575 / 2625], examples_per_second: 10711.9116, train_label_loss: 0.1709, \n"
     ]
    },
    {
     "name": "stdout",
     "output_type": "stream",
     "text": [
      "epoch: 9, [batch: 1837 / 2625], examples_per_second: 10717.9476, train_label_loss: 0.1619, \n"
     ]
    },
    {
     "name": "stdout",
     "output_type": "stream",
     "text": [
      "epoch: 9, [batch: 2100 / 2625], examples_per_second: 10731.4176, train_label_loss: 0.1199, \n"
     ]
    },
    {
     "name": "stdout",
     "output_type": "stream",
     "text": [
      "epoch: 9, [batch: 2362 / 2625], examples_per_second: 10746.6858, train_label_loss: 0.1189, \n"
     ]
    },
    {
     "name": "stdout",
     "output_type": "stream",
     "text": [
      "=============================================================\n",
      "epoch: 9, source_val_acc_label: 0.8734, source_val_label_loss: 0.3296, target_val_acc_label: 0.0797, target_val_label_loss: 22.3750, \n",
      "=============================================================\n"
     ]
    },
    {
     "name": "stdout",
     "output_type": "stream",
     "text": [
      "New best\n",
      "epoch: 10, [batch: 1 / 2625], examples_per_second: 24.9760, train_label_loss: 0.1125, \n"
     ]
    },
    {
     "name": "stdout",
     "output_type": "stream",
     "text": [
      "epoch: 10, [batch: 263 / 2625], examples_per_second: 10737.1125, train_label_loss: 0.1753, \n"
     ]
    },
    {
     "name": "stdout",
     "output_type": "stream",
     "text": [
      "epoch: 10, [batch: 525 / 2625], examples_per_second: 10695.8498, train_label_loss: 0.1522, \n"
     ]
    },
    {
     "name": "stdout",
     "output_type": "stream",
     "text": [
      "epoch: 10, [batch: 788 / 2625], examples_per_second: 10776.5975, train_label_loss: 0.2187, \n"
     ]
    },
    {
     "name": "stdout",
     "output_type": "stream",
     "text": [
      "epoch: 10, [batch: 1050 / 2625], examples_per_second: 10764.5564, train_label_loss: 0.1200, \n"
     ]
    },
    {
     "name": "stdout",
     "output_type": "stream",
     "text": [
      "epoch: 10, [batch: 1313 / 2625], examples_per_second: 10690.7165, train_label_loss: 0.2082, \n"
     ]
    },
    {
     "name": "stdout",
     "output_type": "stream",
     "text": [
      "epoch: 10, [batch: 1575 / 2625], examples_per_second: 10709.9085, train_label_loss: 0.1862, \n"
     ]
    },
    {
     "name": "stdout",
     "output_type": "stream",
     "text": [
      "epoch: 10, [batch: 1837 / 2625], examples_per_second: 10602.0599, train_label_loss: 0.2372, \n"
     ]
    },
    {
     "name": "stdout",
     "output_type": "stream",
     "text": [
      "epoch: 10, [batch: 2100 / 2625], examples_per_second: 10723.9582, train_label_loss: 0.2278, \n"
     ]
    },
    {
     "name": "stdout",
     "output_type": "stream",
     "text": [
      "epoch: 10, [batch: 2362 / 2625], examples_per_second: 10660.9629, train_label_loss: 0.2533, \n"
     ]
    },
    {
     "name": "stdout",
     "output_type": "stream",
     "text": [
      "=============================================================\n",
      "epoch: 10, source_val_acc_label: 0.7968, source_val_label_loss: 0.5727, target_val_acc_label: 0.0880, target_val_label_loss: 22.8097, \n",
      "=============================================================\n"
     ]
    },
    {
     "name": "stdout",
     "output_type": "stream",
     "text": [
      "New best\n",
      "epoch: 11, [batch: 1 / 2625], examples_per_second: 25.2876, train_label_loss: 0.0772, \n"
     ]
    },
    {
     "name": "stdout",
     "output_type": "stream",
     "text": [
      "epoch: 11, [batch: 263 / 2625], examples_per_second: 10663.0536, train_label_loss: 0.1696, \n"
     ]
    },
    {
     "name": "stdout",
     "output_type": "stream",
     "text": [
      "epoch: 11, [batch: 525 / 2625], examples_per_second: 10765.9670, train_label_loss: 0.1161, \n"
     ]
    },
    {
     "name": "stdout",
     "output_type": "stream",
     "text": [
      "epoch: 11, [batch: 788 / 2625], examples_per_second: 10701.1888, train_label_loss: 0.0967, \n"
     ]
    },
    {
     "name": "stdout",
     "output_type": "stream",
     "text": [
      "epoch: 11, [batch: 1050 / 2625], examples_per_second: 10730.8028, train_label_loss: 0.1194, \n"
     ]
    },
    {
     "name": "stdout",
     "output_type": "stream",
     "text": [
      "epoch: 11, [batch: 1313 / 2625], examples_per_second: 10738.5395, train_label_loss: 0.3438, \n"
     ]
    },
    {
     "name": "stdout",
     "output_type": "stream",
     "text": [
      "epoch: 11, [batch: 1575 / 2625], examples_per_second: 10720.4627, train_label_loss: 0.1910, \n"
     ]
    },
    {
     "name": "stdout",
     "output_type": "stream",
     "text": [
      "epoch: 11, [batch: 1837 / 2625], examples_per_second: 10766.9674, train_label_loss: 0.0657, \n"
     ]
    },
    {
     "name": "stdout",
     "output_type": "stream",
     "text": [
      "epoch: 11, [batch: 2100 / 2625], examples_per_second: 10710.5994, train_label_loss: 0.1625, \n"
     ]
    },
    {
     "name": "stdout",
     "output_type": "stream",
     "text": [
      "epoch: 11, [batch: 2362 / 2625], examples_per_second: 10717.1236, train_label_loss: 0.0950, \n"
     ]
    },
    {
     "name": "stdout",
     "output_type": "stream",
     "text": [
      "=============================================================\n",
      "epoch: 11, source_val_acc_label: 0.8570, source_val_label_loss: 0.4037, target_val_acc_label: 0.0725, target_val_label_loss: 24.0729, \n",
      "=============================================================\n"
     ]
    },
    {
     "name": "stdout",
     "output_type": "stream",
     "text": [
      "epoch: 12, [batch: 1 / 2625], examples_per_second: 25.9203, train_label_loss: 0.1147, \n"
     ]
    },
    {
     "name": "stdout",
     "output_type": "stream",
     "text": [
      "epoch: 12, [batch: 263 / 2625], examples_per_second: 10691.5564, train_label_loss: 0.1481, \n"
     ]
    },
    {
     "name": "stdout",
     "output_type": "stream",
     "text": [
      "epoch: 12, [batch: 525 / 2625], examples_per_second: 10654.0555, train_label_loss: 0.1880, \n"
     ]
    },
    {
     "name": "stdout",
     "output_type": "stream",
     "text": [
      "epoch: 12, [batch: 788 / 2625], examples_per_second: 10656.5556, train_label_loss: 0.1150, \n"
     ]
    },
    {
     "name": "stdout",
     "output_type": "stream",
     "text": [
      "epoch: 12, [batch: 1050 / 2625], examples_per_second: 10750.8593, train_label_loss: 0.1077, \n"
     ]
    },
    {
     "name": "stdout",
     "output_type": "stream",
     "text": [
      "epoch: 12, [batch: 1313 / 2625], examples_per_second: 10690.6193, train_label_loss: 0.1366, \n"
     ]
    },
    {
     "name": "stdout",
     "output_type": "stream",
     "text": [
      "epoch: 12, [batch: 1575 / 2625], examples_per_second: 10731.4619, train_label_loss: 0.1170, \n"
     ]
    },
    {
     "name": "stdout",
     "output_type": "stream",
     "text": [
      "epoch: 12, [batch: 1837 / 2625], examples_per_second: 10716.9970, train_label_loss: 0.1133, \n"
     ]
    },
    {
     "name": "stdout",
     "output_type": "stream",
     "text": [
      "epoch: 12, [batch: 2100 / 2625], examples_per_second: 10712.8317, train_label_loss: 0.1069, \n"
     ]
    },
    {
     "name": "stdout",
     "output_type": "stream",
     "text": [
      "epoch: 12, [batch: 2362 / 2625], examples_per_second: 10689.9548, train_label_loss: 0.0886, \n"
     ]
    },
    {
     "name": "stdout",
     "output_type": "stream",
     "text": [
      "=============================================================\n",
      "epoch: 12, source_val_acc_label: 0.8873, source_val_label_loss: 0.3101, target_val_acc_label: 0.0667, target_val_label_loss: 25.1727, \n",
      "=============================================================\n"
     ]
    },
    {
     "name": "stdout",
     "output_type": "stream",
     "text": [
      "epoch: 13, [batch: 1 / 2625], examples_per_second: 25.5621, train_label_loss: 0.2207, \n"
     ]
    },
    {
     "name": "stdout",
     "output_type": "stream",
     "text": [
      "epoch: 13, [batch: 263 / 2625], examples_per_second: 10689.0718, train_label_loss: 0.0493, \n"
     ]
    },
    {
     "name": "stdout",
     "output_type": "stream",
     "text": [
      "epoch: 13, [batch: 525 / 2625], examples_per_second: 10723.0077, train_label_loss: 0.0681, \n"
     ]
    },
    {
     "name": "stdout",
     "output_type": "stream",
     "text": [
      "epoch: 13, [batch: 788 / 2625], examples_per_second: 10738.6121, train_label_loss: 0.0571, \n"
     ]
    },
    {
     "name": "stdout",
     "output_type": "stream",
     "text": [
      "epoch: 13, [batch: 1050 / 2625], examples_per_second: 10667.1187, train_label_loss: 0.1029, \n"
     ]
    },
    {
     "name": "stdout",
     "output_type": "stream",
     "text": [
      "epoch: 13, [batch: 1313 / 2625], examples_per_second: 10708.0359, train_label_loss: 0.1706, \n"
     ]
    },
    {
     "name": "stdout",
     "output_type": "stream",
     "text": [
      "epoch: 13, [batch: 1575 / 2625], examples_per_second: 10693.2128, train_label_loss: 0.1842, \n"
     ]
    },
    {
     "name": "stdout",
     "output_type": "stream",
     "text": [
      "epoch: 13, [batch: 1837 / 2625], examples_per_second: 10712.9804, train_label_loss: 0.1157, \n"
     ]
    },
    {
     "name": "stdout",
     "output_type": "stream",
     "text": [
      "epoch: 13, [batch: 2100 / 2625], examples_per_second: 10726.5074, train_label_loss: 0.0816, \n"
     ]
    },
    {
     "name": "stdout",
     "output_type": "stream",
     "text": [
      "epoch: 13, [batch: 2362 / 2625], examples_per_second: 10722.0881, train_label_loss: 0.1238, \n"
     ]
    },
    {
     "name": "stdout",
     "output_type": "stream",
     "text": [
      "=============================================================\n",
      "epoch: 13, source_val_acc_label: 0.8609, source_val_label_loss: 0.4129, target_val_acc_label: 0.0668, target_val_label_loss: 26.2495, \n",
      "=============================================================\n"
     ]
    },
    {
     "name": "stdout",
     "output_type": "stream",
     "text": [
      "epoch: 14, [batch: 1 / 2625], examples_per_second: 25.2358, train_label_loss: 0.1099, \n"
     ]
    },
    {
     "name": "stdout",
     "output_type": "stream",
     "text": [
      "epoch: 14, [batch: 263 / 2625], examples_per_second: 10681.2495, train_label_loss: 0.0716, \n"
     ]
    },
    {
     "name": "stdout",
     "output_type": "stream",
     "text": [
      "epoch: 14, [batch: 525 / 2625], examples_per_second: 10724.4188, train_label_loss: 0.0970, \n"
     ]
    },
    {
     "name": "stdout",
     "output_type": "stream",
     "text": [
      "epoch: 14, [batch: 788 / 2625], examples_per_second: 10744.6028, train_label_loss: 0.2044, \n"
     ]
    },
    {
     "name": "stdout",
     "output_type": "stream",
     "text": [
      "epoch: 14, [batch: 1050 / 2625], examples_per_second: 10794.7979, train_label_loss: 0.1314, \n"
     ]
    },
    {
     "name": "stdout",
     "output_type": "stream",
     "text": [
      "epoch: 14, [batch: 1313 / 2625], examples_per_second: 10733.7582, train_label_loss: 0.0630, \n"
     ]
    },
    {
     "name": "stdout",
     "output_type": "stream",
     "text": [
      "epoch: 14, [batch: 1575 / 2625], examples_per_second: 10675.4947, train_label_loss: 0.0513, \n"
     ]
    },
    {
     "name": "stdout",
     "output_type": "stream",
     "text": [
      "epoch: 14, [batch: 1837 / 2625], examples_per_second: 10735.3072, train_label_loss: 0.0754, \n"
     ]
    },
    {
     "name": "stdout",
     "output_type": "stream",
     "text": [
      "epoch: 14, [batch: 2100 / 2625], examples_per_second: 10674.5738, train_label_loss: 0.0647, \n"
     ]
    },
    {
     "name": "stdout",
     "output_type": "stream",
     "text": [
      "epoch: 14, [batch: 2362 / 2625], examples_per_second: 10706.2964, train_label_loss: 0.1168, \n"
     ]
    },
    {
     "name": "stdout",
     "output_type": "stream",
     "text": [
      "=============================================================\n",
      "epoch: 14, source_val_acc_label: 0.8825, source_val_label_loss: 0.3518, target_val_acc_label: 0.0741, target_val_label_loss: 25.7534, \n",
      "=============================================================\n"
     ]
    },
    {
     "name": "stdout",
     "output_type": "stream",
     "text": [
      "Patience (3) exhausted\n"
     ]
    }
   ],
   "source": [
    "jig = Vanilla_Train_Eval_Test_Jig(\n",
    "    model=model,\n",
    "    path_to_best_model=p.BEST_MODEL_PATH,\n",
    "    device=p.device,\n",
    "    label_loss_object=torch.nn.NLLLoss(),\n",
    ")\n",
    "\n",
    "jig.train(\n",
    "    train_iterable=datasets.source.processed.train,\n",
    "    source_val_iterable=datasets.source.processed.val,\n",
    "    target_val_iterable=datasets.target.processed.val,\n",
    "    patience=p.patience,\n",
    "    num_epochs=p.n_epoch,\n",
    "    num_logs_per_epoch=p.NUM_LOGS_PER_EPOCH,\n",
    "    criteria_for_best=p.criteria_for_best\n",
    ")"
   ]
  },
  {
   "cell_type": "code",
   "execution_count": 14,
   "id": "4bc2ac17",
   "metadata": {
    "execution": {
     "iopub.execute_input": "2022-03-26T01:19:20.459880Z",
     "iopub.status.busy": "2022-03-26T01:19:20.459308Z",
     "iopub.status.idle": "2022-03-26T01:19:20.462201Z",
     "shell.execute_reply": "2022-03-26T01:19:20.461712Z"
    },
    "papermill": {
     "duration": 0.064471,
     "end_time": "2022-03-26T01:19:20.462317",
     "exception": false,
     "start_time": "2022-03-26T01:19:20.397846",
     "status": "completed"
    },
    "tags": []
   },
   "outputs": [],
   "source": [
    "total_experiment_time_secs = time.time() - start_time_secs"
   ]
  },
  {
   "cell_type": "code",
   "execution_count": 15,
   "id": "cae88f23",
   "metadata": {
    "execution": {
     "iopub.execute_input": "2022-03-26T01:19:20.592570Z",
     "iopub.status.busy": "2022-03-26T01:19:20.591699Z",
     "iopub.status.idle": "2022-03-26T01:20:15.086431Z",
     "shell.execute_reply": "2022-03-26T01:20:15.085648Z"
    },
    "papermill": {
     "duration": 54.564056,
     "end_time": "2022-03-26T01:20:15.086619",
     "exception": false,
     "start_time": "2022-03-26T01:19:20.522563",
     "status": "completed"
    },
    "tags": []
   },
   "outputs": [],
   "source": [
    "source_test_label_accuracy, source_test_label_loss = jig.test(datasets.source.processed.test)\n",
    "target_test_label_accuracy, target_test_label_loss = jig.test(datasets.target.processed.test)\n",
    "\n",
    "source_val_label_accuracy, source_val_label_loss = jig.test(datasets.source.processed.val)\n",
    "target_val_label_accuracy, target_val_label_loss = jig.test(datasets.target.processed.val)\n",
    "\n",
    "history = jig.get_history()\n",
    "\n",
    "total_epochs_trained = len(history[\"epoch_indices\"])\n",
    "\n",
    "val_dl = wrap_in_dataloader(p, Sequence_Aggregator((datasets.source.original.val, datasets.target.original.val)))\n",
    "\n",
    "confusion = confusion_by_domain_over_dataloader(model, p.device, val_dl, forward_uses_domain=False)\n",
    "per_domain_accuracy = per_domain_accuracy_from_confusion(confusion)\n",
    "\n",
    "# Add a key to per_domain_accuracy for if it was a source domain\n",
    "for domain, accuracy in per_domain_accuracy.items():\n",
    "    per_domain_accuracy[domain] = {\n",
    "        \"accuracy\": accuracy,\n",
    "        \"source?\": domain in p.domains_source\n",
    "    }\n",
    "\n",
    "# Do an independent accuracy assesment JUST TO BE SURE!\n",
    "# _source_test_label_accuracy = independent_accuracy_assesment(model, datasets.source.processed.test, p.device)\n",
    "# _target_test_label_accuracy = independent_accuracy_assesment(model, datasets.target.processed.test, p.device)\n",
    "# _source_val_label_accuracy = independent_accuracy_assesment(model, datasets.source.processed.val, p.device)\n",
    "# _target_val_label_accuracy = independent_accuracy_assesment(model, datasets.target.processed.val, p.device)\n",
    "\n",
    "# assert(_source_test_label_accuracy == source_test_label_accuracy)\n",
    "# assert(_target_test_label_accuracy == target_test_label_accuracy)\n",
    "# assert(_source_val_label_accuracy == source_val_label_accuracy)\n",
    "# assert(_target_val_label_accuracy == target_val_label_accuracy)\n",
    "\n",
    "###################################\n",
    "# Write out the results\n",
    "###################################\n",
    "\n",
    "experiment = {\n",
    "    \"experiment_name\": p.experiment_name,\n",
    "    \"parameters\": p,\n",
    "    \"results\": {\n",
    "        \"source_test_label_accuracy\": source_test_label_accuracy,\n",
    "        \"source_test_label_loss\": source_test_label_loss,\n",
    "        \"target_test_label_accuracy\": target_test_label_accuracy,\n",
    "        \"target_test_label_loss\": target_test_label_loss,\n",
    "        \"source_val_label_accuracy\": source_val_label_accuracy,\n",
    "        \"source_val_label_loss\": source_val_label_loss,\n",
    "        \"target_val_label_accuracy\": target_val_label_accuracy,\n",
    "        \"target_val_label_loss\": target_val_label_loss,\n",
    "        \"total_epochs_trained\": total_epochs_trained,\n",
    "        \"total_experiment_time_secs\": total_experiment_time_secs,\n",
    "        \"confusion\": confusion,\n",
    "        \"per_domain_accuracy\": per_domain_accuracy,\n",
    "    },\n",
    "    \"history\": history,\n",
    "    \"dataset_metrics\": get_dataset_metrics(datasets, \"cnn\"),\n",
    "}"
   ]
  },
  {
   "cell_type": "code",
   "execution_count": 16,
   "id": "74c318cf",
   "metadata": {
    "execution": {
     "iopub.execute_input": "2022-03-26T01:20:15.295205Z",
     "iopub.status.busy": "2022-03-26T01:20:15.294346Z",
     "iopub.status.idle": "2022-03-26T01:20:15.493950Z",
     "shell.execute_reply": "2022-03-26T01:20:15.494619Z"
    },
    "papermill": {
     "duration": 0.344731,
     "end_time": "2022-03-26T01:20:15.494838",
     "exception": false,
     "start_time": "2022-03-26T01:20:15.150107",
     "status": "completed"
    },
    "tags": []
   },
   "outputs": [
    {
     "data": {
      "text/plain": [
       "<AxesSubplot:title={'center':'Source Train Label Loss vs Source Val Label Loss'}, xlabel='Epoch'>"
      ]
     },
     "execution_count": 16,
     "metadata": {},
     "output_type": "execute_result"
    },
    {
     "data": {
      "image/png": "[encoded data removed]",
      "text/plain": [
       "<Figure size 1080x504 with 1 Axes>"
      ]
     },
     "metadata": {
      "needs_background": "light"
     },
     "output_type": "display_data"
    }
   ],
   "source": [
    "get_loss_curve(experiment)"
   ]
  },
  {
   "cell_type": "code",
   "execution_count": 17,
   "id": "59376601",
   "metadata": {
    "execution": {
     "iopub.execute_input": "2022-03-26T01:20:15.632113Z",
     "iopub.status.busy": "2022-03-26T01:20:15.624768Z",
     "iopub.status.idle": "2022-03-26T01:20:15.967062Z",
     "shell.execute_reply": "2022-03-26T01:20:15.967747Z"
    },
    "papermill": {
     "duration": 0.410648,
     "end_time": "2022-03-26T01:20:15.967973",
     "exception": false,
     "start_time": "2022-03-26T01:20:15.557325",
     "status": "completed"
    },
    "tags": []
   },
   "outputs": [
    {
     "data": {
      "text/plain": [
       "<AxesSubplot:title={'center':'Results'}>"
      ]
     },
     "execution_count": 17,
     "metadata": {},
     "output_type": "execute_result"
    },
    {
     "data": {
      "image/png": "[encoded data removed]",
      "text/plain": [
       "<Figure size 1080x504 with 1 Axes>"
      ]
     },
     "metadata": {
      "needs_background": "light"
     },
     "output_type": "display_data"
    }
   ],
   "source": [
    "get_results_table(experiment)"
   ]
  },
  {
   "cell_type": "code",
   "execution_count": 18,
   "id": "e80c5c98",
   "metadata": {
    "execution": {
     "iopub.execute_input": "2022-03-26T01:20:16.123648Z",
     "iopub.status.busy": "2022-03-26T01:20:16.116902Z",
     "iopub.status.idle": "2022-03-26T01:20:16.284757Z",
     "shell.execute_reply": "2022-03-26T01:20:16.284063Z"
    },
    "papermill": {
     "duration": 0.245322,
     "end_time": "2022-03-26T01:20:16.285024",
     "exception": false,
     "start_time": "2022-03-26T01:20:16.039702",
     "status": "completed"
    },
    "tags": []
   },
   "outputs": [
    {
     "data": {
      "text/plain": [
       "<AxesSubplot:title={'center':'Per Domain Accuracy'}, xlabel='domain'>"
      ]
     },
     "execution_count": 18,
     "metadata": {},
     "output_type": "execute_result"
    },
    {
     "data": {
      "image/png": "[encoded data removed]",
      "text/plain": [
       "<Figure size 1080x504 with 1 Axes>"
      ]
     },
     "metadata": {
      "needs_background": "light"
     },
     "output_type": "display_data"
    }
   ],
   "source": [
    "get_domain_accuracies(experiment)"
   ]
  },
  {
   "cell_type": "code",
   "execution_count": 19,
   "id": "086fdd10",
   "metadata": {
    "execution": {
     "iopub.execute_input": "2022-03-26T01:20:16.427583Z",
     "iopub.status.busy": "2022-03-26T01:20:16.427177Z",
     "iopub.status.idle": "2022-03-26T01:20:16.432394Z",
     "shell.execute_reply": "2022-03-26T01:20:16.431570Z"
    },
    "papermill": {
     "duration": 0.071903,
     "end_time": "2022-03-26T01:20:16.432559",
     "exception": false,
     "start_time": "2022-03-26T01:20:16.360656",
     "status": "completed"
    },
    "tags": []
   },
   "outputs": [
    {
     "name": "stdout",
     "output_type": "stream",
     "text": [
      "Source Test Label Accuracy: 0.7978611111111111 Target Test Label Accuracy: 0.08888333333333333\n",
      "Source Val Label Accuracy: 0.7967638888888889 Target Val Label Accuracy: 0.08798333333333333\n"
     ]
    }
   ],
   "source": [
    "print(\"Source Test Label Accuracy:\", experiment[\"results\"][\"source_test_label_accuracy\"], \"Target Test Label Accuracy:\", experiment[\"results\"][\"target_test_label_accuracy\"])\n",
    "print(\"Source Val Label Accuracy:\", experiment[\"results\"][\"source_val_label_accuracy\"], \"Target Val Label Accuracy:\", experiment[\"results\"][\"target_val_label_accuracy\"])"
   ]
  },
  {
   "cell_type": "code",
   "execution_count": 20,
   "id": "9f450536",
   "metadata": {
    "execution": {
     "iopub.execute_input": "2022-03-26T01:20:16.567563Z",
     "iopub.status.busy": "2022-03-26T01:20:16.566991Z",
     "iopub.status.idle": "2022-03-26T01:20:16.570154Z",
     "shell.execute_reply": "2022-03-26T01:20:16.570615Z"
    },
    "papermill": {
     "duration": 0.071469,
     "end_time": "2022-03-26T01:20:16.570752",
     "exception": false,
     "start_time": "2022-03-26T01:20:16.499283",
     "status": "completed"
    },
    "tags": [
     "experiment_json"
    ]
   },
   "outputs": [
    {
     "data": {
      "text/plain": [
       "'{\"experiment_name\": \"cnn_1:oracle.run2\", \"parameters\": {\"experiment_name\": \"cnn_1:oracle.run2\", \"labels\": [\"3123D52\", \"3123D65\", \"3123D79\", \"3123D80\", \"3123D54\", \"3123D70\", \"3123D7B\", \"3123D89\", \"3123D58\", \"3123D76\", \"3123D7D\", \"3123EFE\", \"3123D64\", \"3123D78\", \"3123D7E\", \"3124E4A\"], \"domains_source\": [8, 32, 50], \"domains_target\": [14, 20, 26, 38, 44], \"pickle_name_source\": \"oracle.Run2_10kExamples_stratified_ds.2022A.pkl\", \"pickle_name_target\": \"oracle.Run2_10kExamples_stratified_ds.2022A.pkl\", \"device\": \"cuda\", \"lr\": 0.0001, \"batch_size\": 128, \"normalize_source\": false, \"normalize_target\": false, \"num_examples_per_domain_per_label_source\": -1, \"num_examples_per_domain_per_label_target\": -1, \"torch_default_dtype\": \"torch.float32\", \"n_epoch\": 50, \"patience\": 3, \"criteria_for_best\": \"target_accuracy\", \"x_net\": [{\"class\": \"nnReshape\", \"kargs\": {\"shape\": [-1, 1, 2, 256]}}, {\"class\": \"Conv2d\", \"kargs\": {\"in_channels\": 1, \"out_channels\": 256, \"kernel_size\": [1, 7], \"bias\": false, \"padding\": [0, 3]}}, {\"class\": \"ReLU\", \"kargs\": {\"inplace\": true}}, {\"class\": \"BatchNorm2d\", \"kargs\": {\"num_features\": 256}}, {\"class\": \"Conv2d\", \"kargs\": {\"in_channels\": 256, \"out_channels\": 80, \"kernel_size\": [2, 7], \"bias\": true, \"padding\": [0, 3]}}, {\"class\": \"ReLU\", \"kargs\": {\"inplace\": true}}, {\"class\": \"BatchNorm2d\", \"kargs\": {\"num_features\": 80}}, {\"class\": \"Flatten\", \"kargs\": {}}, {\"class\": \"Linear\", \"kargs\": {\"in_features\": 20480, \"out_features\": 256}}, {\"class\": \"ReLU\", \"kargs\": {\"inplace\": true}}, {\"class\": \"BatchNorm1d\", \"kargs\": {\"num_features\": 256}}, {\"class\": \"Linear\", \"kargs\": {\"in_features\": 256, \"out_features\": 16}}], \"NUM_LOGS_PER_EPOCH\": 10, \"BEST_MODEL_PATH\": \"./best_model.pth\", \"dataset_seed\": 420, \"seed\": 420}, \"results\": {\"source_test_label_accuracy\": 0.7978611111111111, \"source_test_label_loss\": 0.5741015170861307, \"target_test_label_accuracy\": 0.08888333333333333, \"target_test_label_loss\": 22.809940970528608, \"source_val_label_accuracy\": 0.7967638888888889, \"source_val_label_loss\": 0.572655444458577, \"target_val_label_accuracy\": 0.08798333333333333, \"target_val_label_loss\": 22.808877284084556, \"total_epochs_trained\": 14, \"total_experiment_time_secs\": 544.5214157104492, \"confusion\": {\"8\": {\"3\": {\"3\": 1489, \"15\": 11}, \"14\": {\"14\": 1415, \"1\": 36, \"6\": 12, \"5\": 36, \"0\": 1}, \"7\": {\"7\": 773, \"4\": 494, \"10\": 103, \"13\": 89, \"14\": 13, \"6\": 24, \"5\": 1, \"1\": 1, \"8\": 2}, \"4\": {\"6\": 307, \"4\": 647, \"7\": 190, \"14\": 163, \"10\": 160, \"5\": 8, \"13\": 13, \"1\": 8, \"8\": 4}, \"5\": {\"5\": 1485, \"10\": 13, \"1\": 2}, \"10\": {\"10\": 619, \"5\": 873, \"13\": 6, \"1\": 2}, \"1\": {\"5\": 145, \"1\": 1348, \"14\": 4, \"13\": 3}, \"12\": {\"12\": 1114, \"15\": 383, \"2\": 3}, \"6\": {\"6\": 895, \"14\": 575, \"5\": 10, \"1\": 13, \"8\": 4, \"4\": 3}, \"0\": {\"0\": 1500}, \"13\": {\"5\": 251, \"10\": 201, \"13\": 946, \"1\": 102}, \"11\": {\"11\": 1044, \"8\": 422, \"1\": 9, \"14\": 3, \"6\": 14, \"12\": 2, \"0\": 4, \"7\": 2}, \"9\": {\"9\": 1500}, \"15\": {\"15\": 1479, \"12\": 18, \"2\": 3}, \"2\": {\"2\": 1494, \"15\": 5, \"7\": 1}, \"8\": {\"1\": 148, \"8\": 1131, \"11\": 180, \"6\": 39, \"14\": 2}}, \"50\": {\"11\": {\"11\": 1225, \"15\": 116, \"1\": 155, \"9\": 1, \"5\": 2, \"14\": 1}, \"9\": {\"5\": 23, \"9\": 1447, \"15\": 30}, \"0\": {\"0\": 1170, \"10\": 252, \"9\": 59, \"2\": 16, \"12\": 3}, \"7\": {\"4\": 555, \"7\": 912, \"5\": 33}, \"1\": {\"1\": 1500}, \"12\": {\"9\": 594, \"12\": 679, \"11\": 49, \"5\": 150, \"14\": 18, \"15\": 9, \"0\": 1}, \"10\": {\"10\": 1484, \"0\": 1, \"1\": 10, \"13\": 5}, \"3\": {\"3\": 1500}, \"8\": {\"8\": 1308, \"13\": 183, \"1\": 6, \"10\": 3}, \"4\": {\"4\": 1468, \"5\": 17, \"15\": 15}, \"14\": {\"9\": 282, \"14\": 1218}, \"13\": {\"13\": 1328, \"1\": 152, \"10\": 20}, \"2\": {\"9\": 487, \"2\": 869, \"0\": 122, \"14\": 9, \"12\": 13}, \"6\": {\"6\": 842, \"15\": 519, \"11\": 23, \"1\": 39, \"4\": 48, \"5\": 28, \"13\": 1}, \"5\": {\"6\": 28, \"4\": 1050, \"5\": 393, \"15\": 12, \"1\": 7, \"7\": 10}, \"15\": {\"15\": 1485, \"9\": 7, \"4\": 3, \"11\": 5}}, \"38\": {\"0\": {\"9\": 836, \"15\": 663, \"4\": 1}, \"14\": {\"4\": 667, \"7\": 326, \"13\": 141, \"5\": 251, \"3\": 93, \"1\": 14, \"6\": 7, \"15\": 1}, \"13\": {\"9\": 852, \"7\": 645, \"4\": 3}, \"4\": {\"4\": 1458, \"7\": 37, \"15\": 5}, \"15\": {\"10\": 128, \"1\": 1242, \"9\": 118, \"12\": 6, \"14\": 2, \"0\": 4}, \"8\": {\"15\": 1234, \"4\": 217, \"9\": 39, \"11\": 3, \"5\": 6, \"6\": 1}, \"11\": {\"7\": 1500}, \"10\": {\"4\": 430, \"9\": 915, \"7\": 155}, \"3\": {\"9\": 1314, \"7\": 185, \"4\": 1}, \"7\": {\"4\": 1204, \"15\": 209, \"9\": 87}, \"2\": {\"5\": 1171, \"4\": 175, \"13\": 24, \"3\": 26, \"7\": 69, \"1\": 27, \"6\": 8}, \"1\": {\"1\": 1192, \"14\": 152, \"0\": 77, \"9\": 73, \"10\": 3, \"2\": 3}, \"12\": {\"13\": 1038, \"15\": 456, \"6\": 2, \"1\": 2, \"4\": 2}, \"9\": {\"9\": 1219, \"15\": 181, \"11\": 61, \"5\": 16, \"12\": 16, \"14\": 7}, \"6\": {\"14\": 990, \"0\": 219, \"9\": 250, \"1\": 36, \"4\": 2, \"2\": 3}, \"5\": {\"15\": 659, \"11\": 167, \"1\": 605, \"4\": 44, \"9\": 10, \"6\": 14, \"5\": 1}}, \"32\": {\"12\": {\"12\": 1495, \"14\": 1, \"2\": 1, \"9\": 3}, \"10\": {\"10\": 1500}, \"1\": {\"1\": 1430, \"10\": 45, \"8\": 24, \"13\": 1}, \"7\": {\"7\": 950, \"8\": 366, \"0\": 170, \"5\": 8, \"4\": 5, \"2\": 1}, \"11\": {\"11\": 518, \"13\": 444, \"4\": 449, \"0\": 52, \"3\": 26, \"14\": 3, \"7\": 4, \"8\": 4}, \"9\": {\"9\": 1336, \"14\": 159, \"2\": 3, \"13\": 1, \"0\": 1}, \"5\": {\"5\": 1313, \"8\": 67, \"15\": 30, \"9\": 82, \"11\": 3, \"7\": 2, \"14\": 2, \"0\": 1}, \"3\": {\"3\": 1492, \"13\": 8}, \"4\": {\"4\": 1237, \"13\": 109, \"3\": 80, \"8\": 28, \"11\": 20, \"0\": 26}, \"15\": {\"15\": 1496, \"8\": 4}, \"13\": {\"13\": 1341, \"3\": 124, \"4\": 31, \"11\": 4}, \"6\": {\"6\": 1499, \"12\": 1}, \"14\": {\"0\": 317, \"14\": 1129, \"2\": 17, \"7\": 2, \"8\": 21, \"4\": 6, \"11\": 7, \"1\": 1}, \"0\": {\"4\": 95, \"0\": 801, \"8\": 588, \"7\": 9, \"14\": 5, \"3\": 1, \"2\": 1}, \"8\": {\"8\": 1492, \"0\": 4, \"15\": 4}, \"2\": {\"0\": 623, \"14\": 66, \"2\": 631, \"7\": 40, \"8\": 121, \"4\": 13, \"5\": 5, \"11\": 1}}, \"20\": {\"11\": {\"3\": 1423, \"2\": 73, \"12\": 4}, \"10\": {\"12\": 1497, \"7\": 2, \"11\": 1}, \"8\": {\"12\": 769, \"3\": 482, \"15\": 244, \"2\": 5}, \"12\": {\"7\": 309, \"12\": 338, \"2\": 851, \"15\": 1, \"13\": 1}, \"0\": {\"15\": 255, \"3\": 417, \"2\": 827, \"12\": 1}, \"7\": {\"12\": 1460, \"2\": 34, \"7\": 6}, \"14\": {\"3\": 121, \"12\": 1224, \"15\": 155}, \"6\": {\"12\": 1499, \"11\": 1}, \"3\": {\"12\": 966, \"2\": 524, \"7\": 5, \"15\": 5}, \"9\": {\"2\": 1301, \"12\": 198, \"15\": 1}, \"15\": {\"2\": 1453, \"12\": 46, \"7\": 1}, \"5\": {\"2\": 1036, \"12\": 437, \"15\": 26, \"3\": 1}, \"13\": {\"2\": 1328, \"7\": 130, \"12\": 42}, \"4\": {\"12\": 1178, \"15\": 201, \"2\": 120, \"7\": 1}, \"1\": {\"2\": 1484, \"15\": 11, \"12\": 4, \"3\": 1}, \"2\": {\"2\": 1239, \"12\": 255, \"15\": 2, \"7\": 2, \"3\": 2}}, \"14\": {\"11\": {\"7\": 1380, \"4\": 118, \"10\": 1, \"13\": 1}, \"5\": {\"3\": 1500}, \"3\": {\"3\": 1500}, \"6\": {\"3\": 1500}, \"13\": {\"3\": 1500}, \"10\": {\"3\": 1475, \"15\": 25}, \"15\": {\"13\": 1046, \"3\": 395, \"11\": 59}, \"4\": {\"3\": 1500}, \"0\": {\"3\": 1500}, \"8\": {\"3\": 1487, \"11\": 4, \"6\": 9}, \"7\": {\"11\": 44, \"3\": 1456}, \"12\": {\"6\": 333, \"3\": 216, \"12\": 157, \"13\": 14, \"7\": 106, \"2\": 393, \"10\": 16, \"0\": 21, \"9\": 197, \"15\": 46, \"14\": 1}, \"9\": {\"2\": 1383, \"3\": 117}, \"1\": {\"3\": 1049, \"7\": 353, \"11\": 95, \"12\": 3}, \"14\": {\"3\": 1500}, \"2\": {\"3\": 1499, \"11\": 1}}, \"26\": {\"6\": {\"12\": 1283, \"14\": 139, \"13\": 34, \"3\": 34, \"9\": 4, \"6\": 6}, \"7\": {\"3\": 1500}, \"5\": {\"12\": 761, \"13\": 117, \"14\": 295, \"3\": 208, \"6\": 80, \"9\": 21, \"11\": 18}, \"0\": {\"3\": 1080, \"12\": 408, \"13\": 12}, \"1\": {\"12\": 1486, \"3\": 13, \"13\": 1}, \"2\": {\"3\": 1496, \"12\": 1, \"13\": 3}, \"8\": {\"3\": 1480, \"12\": 18, \"13\": 2}, \"10\": {\"12\": 763, \"3\": 715, \"13\": 22}, \"11\": {\"6\": 1384, \"12\": 116}, \"9\": {\"3\": 1478, \"13\": 14, \"12\": 3, \"6\": 4, \"14\": 1}, \"3\": {\"3\": 1500}, \"13\": {\"3\": 1473, \"6\": 22, \"13\": 2, \"14\": 3}, \"15\": {\"3\": 1373, \"13\": 127}, \"4\": {\"3\": 1500}, \"12\": {\"12\": 1094, \"3\": 362, \"6\": 37, \"9\": 6, \"15\": 1}, \"14\": {\"12\": 1045, \"3\": 451, \"13\": 4}}, \"44\": {\"0\": {\"1\": 788, \"6\": 173, \"12\": 511, \"14\": 10, \"0\": 2, \"2\": 7, \"8\": 1, \"11\": 8}, \"13\": {\"15\": 260, \"9\": 1092, \"4\": 142, \"7\": 6}, \"10\": {\"9\": 1139, \"7\": 348, \"15\": 10, \"5\": 3}, \"14\": {\"15\": 1248, \"4\": 120, \"9\": 119, \"12\": 5, \"6\": 6, \"11\": 1, \"5\": 1}, \"12\": {\"3\": 1337, \"4\": 5, \"8\": 138, \"7\": 18, \"0\": 2}, \"9\": {\"15\": 880, \"9\": 573, \"5\": 47}, \"11\": {\"9\": 1490, \"7\": 10}, \"6\": {\"15\": 829, \"9\": 671}, \"3\": {\"8\": 674, \"3\": 238, \"7\": 203, \"4\": 245, \"0\": 139, \"11\": 1}, \"7\": {\"9\": 953, \"15\": 543, \"5\": 4}, \"5\": {\"6\": 1031, \"15\": 182, \"1\": 203, \"11\": 52, \"4\": 26, \"5\": 4, \"13\": 2}, \"1\": {\"8\": 1299, \"7\": 91, \"5\": 110}, \"2\": {\"15\": 902, \"8\": 549, \"5\": 49}, \"8\": {\"12\": 728, \"6\": 509, \"1\": 246, \"11\": 15, \"14\": 1, \"9\": 1}, \"4\": {\"15\": 1217, \"9\": 280, \"4\": 3}, \"15\": {\"1\": 138, \"11\": 1069, \"15\": 26, \"12\": 231, \"6\": 23, \"9\": 12, \"14\": 1}}}, \"per_domain_accuracy\": {\"8\": {\"accuracy\": 0.786625, \"source?\": true}, \"50\": {\"accuracy\": 0.7845, \"source?\": true}, \"38\": {\"accuracy\": 0.16125, \"source?\": false}, \"32\": {\"accuracy\": 0.8191666666666667, \"source?\": true}, \"20\": {\"accuracy\": 0.06595833333333333, \"source?\": false}, \"14\": {\"accuracy\": 0.06904166666666667, \"source?\": false}, \"26\": {\"accuracy\": 0.10841666666666666, \"source?\": false}, \"44\": {\"accuracy\": 0.03525, \"source?\": false}}}, \"history\": {\"epoch_indices\": [1, 2, 3, 4, 5, 6, 7, 8, 9, 10, 11, 12, 13, 14], \"train_label_loss\": [1.60731390946252, 0.7363347383113135, 0.48774694640295846, 0.37616449681917824, 0.3095097433215096, 0.2544990795935903, 0.22093110725141707, 0.19504374170019514, 0.17769179619635855, 0.15619247885403179, 0.13786551204749517, 0.12629630598496824, 0.11335025153841291, 0.10885762787503855], \"source_val_label_loss\": [1.0099300185274698, 0.5542152955942848, 0.5349913488802224, 0.3512054063498868, 0.38956116814808145, 0.30487916696664497, 0.46689325237570606, 0.29357534715803224, 0.32955781469654233, 0.572707805762706, 0.4036842927098486, 0.31012237654274355, 0.4129156302495282, 0.3518119960573384], \"target_val_label_loss\": [8.424054585031863, 13.026097056708101, 15.584812180574007, 17.949693836382966, 19.966736672529535, 20.849469765417105, 20.56934106883718, 21.762279168883367, 22.37500512422021, 22.80967214214268, 24.072852626792404, 25.172685415760032, 26.24953521085955, 25.753360241969258], \"source_val_acc_label\": [0.6811111111111111, 0.8164583333333333, 0.8012083333333333, 0.8758472222222222, 0.8534166666666667, 0.8862916666666667, 0.8212777777777778, 0.891375, 0.8734166666666666, 0.7967638888888889, 0.8569722222222222, 0.8872638888888889, 0.8609305555555555, 0.8825138888888889], \"target_val_acc_label\": [0.060783333333333335, 0.065725, 0.06594166666666666, 0.07199166666666666, 0.06840833333333333, 0.07063333333333334, 0.06483333333333334, 0.07473333333333333, 0.07968333333333333, 0.08798333333333333, 0.07246666666666667, 0.06668333333333333, 0.06675, 0.0741]}, \"dataset_metrics\": {\"source\": {\"train\": {\"n_unique_x\": 336000, \"n_unique_y\": 16, \"n_batch/episode\": 2625}, \"val\": {\"n_unique_x\": 72000, \"n_unique_y\": 16, \"n_batch/episode\": 563}, \"test\": {\"n_unique_x\": 72000, \"n_unique_y\": 16, \"n_batch/episode\": 563}}, \"target\": {\"train\": {\"n_unique_x\": 560000, \"n_unique_y\": 16, \"n_batch/episode\": 4375}, \"val\": {\"n_unique_x\": 120000, \"n_unique_y\": 16, \"n_batch/episode\": 938}, \"test\": {\"n_unique_x\": 120000, \"n_unique_y\": 16, \"n_batch/episode\": 938}}}}'"
      ]
     },
     "execution_count": 20,
     "metadata": {},
     "output_type": "execute_result"
    }
   ],
   "source": [
    "json.dumps(experiment)"
   ]
  }
 ],
 "metadata": {
  "celltoolbar": "Tags",
  "kernelspec": {
   "display_name": "Python 3 (ipykernel)",
   "language": "python",
   "name": "python3"
  },
  "language_info": {
   "codemirror_mode": {
    "name": "ipython",
    "version": 3
   },
   "file_extension": ".py",
   "mimetype": "text/x-python",
   "name": "python",
   "nbconvert_exporter": "python",
   "pygments_lexer": "ipython3",
   "version": "3.8.12"
  },
  "papermill": {
   "default_parameters": {},
   "duration": 606.93165,
   "end_time": "2022-03-26T01:20:20.151777",
   "environment_variables": {},
   "exception": null,
   "input_path": "/root/csc500-main/csc500-notebooks/templates/cnn_template.ipynb",
   "output_path": "trial.ipynb",
   "parameters": {
    "parameters": {
     "BEST_MODEL_PATH": "./best_model.pth",
     "NUM_LOGS_PER_EPOCH": 10,
     "batch_size": 128,
     "criteria_for_best": "target_accuracy",
     "dataset_seed": 420,
     "device": "cuda",
     "domains_source": [
      8,
      32,
      50
     ],
     "domains_target": [
      14,
      20,
      26,
      38,
      44
     ],
     "experiment_name": "cnn_1:oracle.run2",
     "labels": [
      "3123D52",
      "3123D65",
      "3123D79",
      "3123D80",
      "3123D54",
      "3123D70",
      "3123D7B",
      "3123D89",
      "3123D58",
      "3123D76",
      "3123D7D",
      "3123EFE",
      "3123D64",
      "3123D78",
      "3123D7E",
      "3124E4A"
     ],
     "lr": 0.0001,
     "n_epoch": 50,
     "normalize_source": false,
     "normalize_target": false,
     "num_examples_per_domain_per_label_source": -1,
     "num_examples_per_domain_per_label_target": -1,
     "patience": 3,
     "pickle_name_source": "oracle.Run2_10kExamples_stratified_ds.2022A.pkl",
     "pickle_name_target": "oracle.Run2_10kExamples_stratified_ds.2022A.pkl",
     "seed": 420,
     "torch_default_dtype": "torch.float32",
     "x_net": [
      {
       "class": "nnReshape",
       "kargs": {
        "shape": [
         -1,
         1,
         2,
         256
        ]
       }
      },
      {
       "class": "Conv2d",
       "kargs": {
        "bias": false,
        "in_channels": 1,
        "kernel_size": [
         1,
         7
        ],
        "out_channels": 256,
        "padding": [
         0,
         3
        ]
       }
      },
      {
       "class": "ReLU",
       "kargs": {
        "inplace": true
       }
      },
      {
       "class": "BatchNorm2d",
       "kargs": {
        "num_features": 256
       }
      },
      {
       "class": "Conv2d",
       "kargs": {
        "bias": true,
        "in_channels": 256,
        "kernel_size": [
         2,
         7
        ],
        "out_channels": 80,
        "padding": [
         0,
         3
        ]
       }
      },
      {
       "class": "ReLU",
       "kargs": {
        "inplace": true
       }
      },
      {
       "class": "BatchNorm2d",
       "kargs": {
        "num_features": 80
       }
      },
      {
       "class": "Flatten",
       "kargs": {}
      },
      {
       "class": "Linear",
       "kargs": {
        "in_features": 20480,
        "out_features": 256
       }
      },
      {
       "class": "ReLU",
       "kargs": {
        "inplace": true
       }
      },
      {
       "class": "BatchNorm1d",
       "kargs": {
        "num_features": 256
       }
      },
      {
       "class": "Linear",
       "kargs": {
        "in_features": 256,
        "out_features": 16
       }
      }
     ]
    }
   },
   "start_time": "2022-03-26T01:10:13.220127",
   "version": "2.3.4"
  }
 },
 "nbformat": 4,
 "nbformat_minor": 5
}