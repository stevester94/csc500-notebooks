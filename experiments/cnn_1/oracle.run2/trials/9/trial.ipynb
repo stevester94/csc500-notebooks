{
 "cells": [
  {
   "cell_type": "code",
   "execution_count": 1,
   "id": "2324682e",
   "metadata": {
    "execution": {
     "iopub.execute_input": "2022-03-26T00:54:16.150936Z",
     "iopub.status.busy": "2022-03-26T00:54:16.149297Z",
     "iopub.status.idle": "2022-03-26T00:54:17.530891Z",
     "shell.execute_reply": "2022-03-26T00:54:17.530084Z"
    },
    "papermill": {
     "duration": 1.417569,
     "end_time": "2022-03-26T00:54:17.531082",
     "exception": false,
     "start_time": "2022-03-26T00:54:16.113513",
     "status": "completed"
    },
    "tags": []
   },
   "outputs": [],
   "source": [
    "import os, json, sys, time, random\n",
    "import numpy as np\n",
    "import torch\n",
    "from  easydict import EasyDict\n",
    "from math import floor\n",
    "from easydict import EasyDict\n",
    "\n",
    "from steves_utils.vanilla_train_eval_test_jig import  Vanilla_Train_Eval_Test_Jig\n",
    "\n",
    "from steves_utils.torch_utils import get_dataset_metrics, independent_accuracy_assesment\n",
    "from steves_models.configurable_vanilla import Configurable_Vanilla\n",
    "from steves_utils.torch_sequential_builder import build_sequential\n",
    "from steves_utils.lazy_map import Lazy_Map\n",
    "from steves_utils.sequence_aggregator import Sequence_Aggregator\n",
    "\n",
    "from steves_utils.stratified_dataset.traditional_accessor import Traditional_Accessor_Factory\n",
    "\n",
    "from steves_utils.cnn_do_report import (\n",
    "    get_loss_curve,\n",
    "    get_results_table,\n",
    "    get_parameters_table,\n",
    "    get_domain_accuracies,\n",
    ")\n",
    "\n",
    "from steves_utils.torch_utils import (\n",
    "    confusion_by_domain_over_dataloader,\n",
    "    independent_accuracy_assesment\n",
    ")\n",
    "\n",
    "from steves_utils.utils_v2 import (\n",
    "    per_domain_accuracy_from_confusion,\n",
    "    get_datasets_base_path\n",
    ")\n",
    "\n",
    "# from steves_utils.ptn_do_report import TBD"
   ]
  },
  {
   "cell_type": "code",
   "execution_count": 2,
   "id": "1b29e3fe",
   "metadata": {
    "execution": {
     "iopub.execute_input": "2022-03-26T00:54:17.569337Z",
     "iopub.status.busy": "2022-03-26T00:54:17.568963Z",
     "iopub.status.idle": "2022-03-26T00:54:17.571280Z",
     "shell.execute_reply": "2022-03-26T00:54:17.571600Z"
    },
    "papermill": {
     "duration": 0.02179,
     "end_time": "2022-03-26T00:54:17.571684",
     "exception": false,
     "start_time": "2022-03-26T00:54:17.549894",
     "status": "completed"
    },
    "tags": []
   },
   "outputs": [],
   "source": [
    "required_parameters = {\n",
    "    \"experiment_name\",\n",
    "    \"lr\",\n",
    "    \"device\",\n",
    "    \"dataset_seed\",\n",
    "    \"seed\",\n",
    "    \"labels\",\n",
    "    \"domains_target\",\n",
    "    \"domains_source\",\n",
    "    \"num_examples_per_domain_per_label_source\",\n",
    "    \"num_examples_per_domain_per_label_target\",\n",
    "    \"batch_size\",\n",
    "    \"n_epoch\",\n",
    "    \"patience\",\n",
    "    \"criteria_for_best\",\n",
    "    \"normalize_source\",\n",
    "    \"normalize_target\",\n",
    "    \"x_net\",\n",
    "    \"NUM_LOGS_PER_EPOCH\",\n",
    "    \"BEST_MODEL_PATH\",\n",
    "    \"pickle_name_source\",\n",
    "    \"pickle_name_target\",\n",
    "    \"torch_default_dtype\",\n",
    "}"
   ]
  },
  {
   "cell_type": "code",
   "execution_count": 3,
   "id": "670b5fb8",
   "metadata": {
    "execution": {
     "iopub.execute_input": "2022-03-26T00:54:17.618696Z",
     "iopub.status.busy": "2022-03-26T00:54:17.617791Z",
     "iopub.status.idle": "2022-03-26T00:54:17.625723Z",
     "shell.execute_reply": "2022-03-26T00:54:17.624918Z"
    },
    "papermill": {
     "duration": 0.034027,
     "end_time": "2022-03-26T00:54:17.625878",
     "exception": false,
     "start_time": "2022-03-26T00:54:17.591851",
     "status": "completed"
    },
    "tags": [
     "parameters"
    ]
   },
   "outputs": [],
   "source": [
    "from steves_utils.ORACLE.utils_v2 import (\n",
    "    ALL_SERIAL_NUMBERS,\n",
    "    ALL_DISTANCES_FEET_NARROWED,\n",
    ")\n",
    "\n",
    "standalone_parameters = {}\n",
    "standalone_parameters[\"experiment_name\"] = \"MANUAL CORES CNN\"\n",
    "standalone_parameters[\"lr\"] = 0.0001\n",
    "standalone_parameters[\"device\"] = \"cuda\"\n",
    "\n",
    "standalone_parameters[\"dataset_seed\"] = 1337\n",
    "standalone_parameters[\"seed\"] = 1337\n",
    "standalone_parameters[\"labels\"] = ALL_SERIAL_NUMBERS\n",
    "\n",
    "standalone_parameters[\"domains_source\"] = [8,32,50]\n",
    "standalone_parameters[\"domains_target\"] = [14,20,26,38,44,]\n",
    "\n",
    "standalone_parameters[\"num_examples_per_domain_per_label_source\"]=-1\n",
    "standalone_parameters[\"num_examples_per_domain_per_label_target\"]=-1\n",
    "\n",
    "standalone_parameters[\"pickle_name_source\"] = \"oracle.Run1_framed_2000Examples_stratified_ds.2022A.pkl\"\n",
    "standalone_parameters[\"pickle_name_target\"] = \"oracle.Run2_framed_2000Examples_stratified_ds.2022A.pkl\"\n",
    "\n",
    "standalone_parameters[\"torch_default_dtype\"] = \"torch.float32\" \n",
    "\n",
    "standalone_parameters[\"batch_size\"]=128\n",
    "\n",
    "standalone_parameters[\"n_epoch\"] = 3\n",
    "\n",
    "standalone_parameters[\"patience\"] = 10\n",
    "\n",
    "standalone_parameters[\"criteria_for_best\"] = \"target_accuracy\"\n",
    "standalone_parameters[\"normalize_source\"] = False\n",
    "standalone_parameters[\"normalize_target\"] = False\n",
    "\n",
    "standalone_parameters[\"x_net\"] =     [\n",
    "    {\"class\": \"nnReshape\", \"kargs\": {\"shape\":[-1, 1, 2, 256]}},\n",
    "    {\"class\": \"Conv2d\", \"kargs\": { \"in_channels\":1, \"out_channels\":256, \"kernel_size\":(1,7), \"bias\":False, \"padding\":(0,3), },},\n",
    "    {\"class\": \"ReLU\", \"kargs\": {\"inplace\": True}},\n",
    "    {\"class\": \"BatchNorm2d\", \"kargs\": {\"num_features\":256}},\n",
    "\n",
    "    {\"class\": \"Conv2d\", \"kargs\": { \"in_channels\":256, \"out_channels\":80, \"kernel_size\":(2,7), \"bias\":True, \"padding\":(0,3), },},\n",
    "    {\"class\": \"ReLU\", \"kargs\": {\"inplace\": True}},\n",
    "    {\"class\": \"BatchNorm2d\", \"kargs\": {\"num_features\":80}},\n",
    "    {\"class\": \"Flatten\", \"kargs\": {}},\n",
    "\n",
    "    {\"class\": \"Linear\", \"kargs\": {\"in_features\": 80*256, \"out_features\": 256}}, # 80 units per IQ pair\n",
    "    {\"class\": \"ReLU\", \"kargs\": {\"inplace\": True}},\n",
    "    {\"class\": \"BatchNorm1d\", \"kargs\": {\"num_features\":256}},\n",
    "\n",
    "    {\"class\": \"Linear\", \"kargs\": {\"in_features\": 256, \"out_features\": len(standalone_parameters[\"labels\"])}},\n",
    "]\n",
    "\n",
    "standalone_parameters[\"NUM_LOGS_PER_EPOCH\"] = 10\n",
    "standalone_parameters[\"BEST_MODEL_PATH\"] = \"./best_model.pth\""
   ]
  },
  {
   "cell_type": "code",
   "execution_count": 4,
   "id": "1faa863e",
   "metadata": {
    "execution": {
     "iopub.execute_input": "2022-03-26T00:54:17.673688Z",
     "iopub.status.busy": "2022-03-26T00:54:17.666728Z",
     "iopub.status.idle": "2022-03-26T00:54:17.676578Z",
     "shell.execute_reply": "2022-03-26T00:54:17.675772Z"
    },
    "papermill": {
     "duration": 0.031618,
     "end_time": "2022-03-26T00:54:17.676733",
     "exception": false,
     "start_time": "2022-03-26T00:54:17.645115",
     "status": "completed"
    },
    "tags": [
     "injected-parameters"
    ]
   },
   "outputs": [],
   "source": [
    "# Parameters\n",
    "parameters = {\n",
    "    \"experiment_name\": \"cnn_1:oracle.run2\",\n",
    "    \"labels\": [\n",
    "        \"3123D52\",\n",
    "        \"3123D65\",\n",
    "        \"3123D79\",\n",
    "        \"3123D80\",\n",
    "        \"3123D54\",\n",
    "        \"3123D70\",\n",
    "        \"3123D7B\",\n",
    "        \"3123D89\",\n",
    "        \"3123D58\",\n",
    "        \"3123D76\",\n",
    "        \"3123D7D\",\n",
    "        \"3123EFE\",\n",
    "        \"3123D64\",\n",
    "        \"3123D78\",\n",
    "        \"3123D7E\",\n",
    "        \"3124E4A\",\n",
    "    ],\n",
    "    \"domains_source\": [8, 32, 50],\n",
    "    \"domains_target\": [14, 20, 26, 38, 44],\n",
    "    \"pickle_name_source\": \"oracle.Run2_10kExamples_stratified_ds.2022A.pkl\",\n",
    "    \"pickle_name_target\": \"oracle.Run2_10kExamples_stratified_ds.2022A.pkl\",\n",
    "    \"device\": \"cuda\",\n",
    "    \"lr\": 0.0001,\n",
    "    \"batch_size\": 128,\n",
    "    \"normalize_source\": False,\n",
    "    \"normalize_target\": False,\n",
    "    \"num_examples_per_domain_per_label_source\": -1,\n",
    "    \"num_examples_per_domain_per_label_target\": -1,\n",
    "    \"torch_default_dtype\": \"torch.float32\",\n",
    "    \"n_epoch\": 50,\n",
    "    \"patience\": 3,\n",
    "    \"criteria_for_best\": \"target_accuracy\",\n",
    "    \"x_net\": [\n",
    "        {\"class\": \"nnReshape\", \"kargs\": {\"shape\": [-1, 1, 2, 256]}},\n",
    "        {\n",
    "            \"class\": \"Conv2d\",\n",
    "            \"kargs\": {\n",
    "                \"in_channels\": 1,\n",
    "                \"out_channels\": 256,\n",
    "                \"kernel_size\": [1, 7],\n",
    "                \"bias\": False,\n",
    "                \"padding\": [0, 3],\n",
    "            },\n",
    "        },\n",
    "        {\"class\": \"ReLU\", \"kargs\": {\"inplace\": True}},\n",
    "        {\"class\": \"BatchNorm2d\", \"kargs\": {\"num_features\": 256}},\n",
    "        {\n",
    "            \"class\": \"Conv2d\",\n",
    "            \"kargs\": {\n",
    "                \"in_channels\": 256,\n",
    "                \"out_channels\": 80,\n",
    "                \"kernel_size\": [2, 7],\n",
    "                \"bias\": True,\n",
    "                \"padding\": [0, 3],\n",
    "            },\n",
    "        },\n",
    "        {\"class\": \"ReLU\", \"kargs\": {\"inplace\": True}},\n",
    "        {\"class\": \"BatchNorm2d\", \"kargs\": {\"num_features\": 80}},\n",
    "        {\"class\": \"Flatten\", \"kargs\": {}},\n",
    "        {\"class\": \"Linear\", \"kargs\": {\"in_features\": 20480, \"out_features\": 256}},\n",
    "        {\"class\": \"ReLU\", \"kargs\": {\"inplace\": True}},\n",
    "        {\"class\": \"BatchNorm1d\", \"kargs\": {\"num_features\": 256}},\n",
    "        {\"class\": \"Linear\", \"kargs\": {\"in_features\": 256, \"out_features\": 16}},\n",
    "    ],\n",
    "    \"NUM_LOGS_PER_EPOCH\": 10,\n",
    "    \"BEST_MODEL_PATH\": \"./best_model.pth\",\n",
    "    \"dataset_seed\": 7,\n",
    "    \"seed\": 7,\n",
    "}\n"
   ]
  },
  {
   "cell_type": "code",
   "execution_count": 5,
   "id": "759b56ec",
   "metadata": {
    "execution": {
     "iopub.execute_input": "2022-03-26T00:54:17.712710Z",
     "iopub.status.busy": "2022-03-26T00:54:17.712334Z",
     "iopub.status.idle": "2022-03-26T00:54:17.714213Z",
     "shell.execute_reply": "2022-03-26T00:54:17.714514Z"
    },
    "papermill": {
     "duration": 0.020273,
     "end_time": "2022-03-26T00:54:17.714595",
     "exception": false,
     "start_time": "2022-03-26T00:54:17.694322",
     "status": "completed"
    },
    "tags": []
   },
   "outputs": [],
   "source": [
    "# Set this to True if you want to run this template directly\n",
    "STANDALONE = False\n",
    "if STANDALONE:\n",
    "    print(\"parameters not injected, running with standalone_parameters\")\n",
    "    parameters = standalone_parameters\n",
    "\n",
    "if not 'parameters' in locals() and not 'parameters' in globals():\n",
    "    raise Exception(\"Parameter injection failed\")\n",
    "\n",
    "#Use an easy dict for all the parameters\n",
    "p = EasyDict(parameters)\n",
    "\n",
    "supplied_keys = set(p.keys())\n",
    "\n",
    "if  supplied_keys != required_parameters:\n",
    "    print(\"Parameters are incorrect\")\n",
    "    if len(supplied_keys - required_parameters)>0: print(\"Shouldn't have:\", str(supplied_keys - required_parameters))\n",
    "    if len(required_parameters - supplied_keys)>0: print(\"Need to have:\", str(required_parameters - supplied_keys))\n",
    "    raise RuntimeError(\"Parameters are incorrect\")\n",
    "\n"
   ]
  },
  {
   "cell_type": "code",
   "execution_count": 6,
   "id": "d5c66a71",
   "metadata": {
    "execution": {
     "iopub.execute_input": "2022-03-26T00:54:17.751654Z",
     "iopub.status.busy": "2022-03-26T00:54:17.750975Z",
     "iopub.status.idle": "2022-03-26T00:54:17.754861Z",
     "shell.execute_reply": "2022-03-26T00:54:17.754315Z"
    },
    "papermill": {
     "duration": 0.022612,
     "end_time": "2022-03-26T00:54:17.754968",
     "exception": false,
     "start_time": "2022-03-26T00:54:17.732356",
     "status": "completed"
    },
    "tags": []
   },
   "outputs": [],
   "source": [
    "###################################\n",
    "# Set the RNGs and make it all deterministic\n",
    "###################################\n",
    "np.random.seed(p.seed)\n",
    "random.seed(p.seed)\n",
    "torch.manual_seed(p.seed)\n",
    "\n",
    "torch.use_deterministic_algorithms(True) "
   ]
  },
  {
   "cell_type": "code",
   "execution_count": 7,
   "id": "92a65876",
   "metadata": {
    "execution": {
     "iopub.execute_input": "2022-03-26T00:54:17.791608Z",
     "iopub.status.busy": "2022-03-26T00:54:17.791037Z",
     "iopub.status.idle": "2022-03-26T00:54:17.793861Z",
     "shell.execute_reply": "2022-03-26T00:54:17.793383Z"
    },
    "papermill": {
     "duration": 0.020893,
     "end_time": "2022-03-26T00:54:17.793966",
     "exception": false,
     "start_time": "2022-03-26T00:54:17.773073",
     "status": "completed"
    },
    "tags": []
   },
   "outputs": [],
   "source": [
    "torch.set_default_dtype(eval(p.torch_default_dtype))"
   ]
  },
  {
   "cell_type": "code",
   "execution_count": 8,
   "id": "f1a32f01",
   "metadata": {
    "execution": {
     "iopub.execute_input": "2022-03-26T00:54:17.827210Z",
     "iopub.status.busy": "2022-03-26T00:54:17.826841Z",
     "iopub.status.idle": "2022-03-26T00:54:17.865877Z",
     "shell.execute_reply": "2022-03-26T00:54:17.865070Z"
    },
    "papermill": {
     "duration": 0.056195,
     "end_time": "2022-03-26T00:54:17.866032",
     "exception": false,
     "start_time": "2022-03-26T00:54:17.809837",
     "status": "completed"
    },
    "tags": []
   },
   "outputs": [],
   "source": [
    "###################################\n",
    "# Build the network(s)\n",
    "# Note: It's critical to do this AFTER setting the RNG\n",
    "###################################\n",
    "x_net = build_sequential(p.x_net)"
   ]
  },
  {
   "cell_type": "code",
   "execution_count": 9,
   "id": "a276cd83",
   "metadata": {
    "execution": {
     "iopub.execute_input": "2022-03-26T00:54:17.904961Z",
     "iopub.status.busy": "2022-03-26T00:54:17.904597Z",
     "iopub.status.idle": "2022-03-26T00:54:17.906704Z",
     "shell.execute_reply": "2022-03-26T00:54:17.907004Z"
    },
    "papermill": {
     "duration": 0.019562,
     "end_time": "2022-03-26T00:54:17.907084",
     "exception": false,
     "start_time": "2022-03-26T00:54:17.887522",
     "status": "completed"
    },
    "tags": []
   },
   "outputs": [],
   "source": [
    "start_time_secs = time.time()"
   ]
  },
  {
   "cell_type": "code",
   "execution_count": 10,
   "id": "de702e48",
   "metadata": {
    "execution": {
     "iopub.execute_input": "2022-03-26T00:54:17.952027Z",
     "iopub.status.busy": "2022-03-26T00:54:17.951404Z",
     "iopub.status.idle": "2022-03-26T00:54:39.321046Z",
     "shell.execute_reply": "2022-03-26T00:54:39.320647Z"
    },
    "papermill": {
     "duration": 21.397315,
     "end_time": "2022-03-26T00:54:39.321164",
     "exception": false,
     "start_time": "2022-03-26T00:54:17.923849",
     "status": "completed"
    },
    "tags": []
   },
   "outputs": [],
   "source": [
    "def wrap_in_dataloader(p, ds):\n",
    "    return torch.utils.data.DataLoader(\n",
    "        ds,\n",
    "        batch_size=p.batch_size,\n",
    "        shuffle=True,\n",
    "        num_workers=1,\n",
    "        persistent_workers=True,\n",
    "        prefetch_factor=50,\n",
    "        pin_memory=True\n",
    "    )\n",
    "\n",
    "taf_source = Traditional_Accessor_Factory(\n",
    "    labels=p.labels,\n",
    "    domains=p.domains_source,\n",
    "    num_examples_per_domain_per_label=p.num_examples_per_domain_per_label_source,\n",
    "    pickle_path=os.path.join(get_datasets_base_path(), p.pickle_name_source),\n",
    "    seed=p.dataset_seed\n",
    ")\n",
    "train_original_source, val_original_source, test_original_source = \\\n",
    "    taf_source.get_train(), taf_source.get_val(), taf_source.get_test()\n",
    "\n",
    "\n",
    "taf_target = Traditional_Accessor_Factory(\n",
    "    labels=p.labels,\n",
    "    domains=p.domains_target,\n",
    "    num_examples_per_domain_per_label=p.num_examples_per_domain_per_label_source,\n",
    "    pickle_path=os.path.join(get_datasets_base_path(), p.pickle_name_target),\n",
    "    seed=p.dataset_seed\n",
    ")\n",
    "train_original_target, val_original_target, test_original_target = \\\n",
    "    taf_target.get_train(), taf_target.get_val(), taf_target.get_test()\n",
    "\n",
    "\n",
    "# For CNN We only use X and Y. And we only train on the source.\n",
    "# Properly form the data using a transform lambda and Lazy_Map. Finally wrap them in a dataloader\n",
    "\n",
    "transform_lambda = lambda ex: ex[:2] # Strip the tuple to just (x,y)\n",
    "\n",
    "\n",
    "train_processed_source = wrap_in_dataloader(\n",
    "    p,\n",
    "    Lazy_Map(train_original_source, transform_lambda)\n",
    ")\n",
    "val_processed_source = wrap_in_dataloader(\n",
    "    p,\n",
    "    Lazy_Map(val_original_source, transform_lambda)\n",
    ")\n",
    "test_processed_source = wrap_in_dataloader(\n",
    "    p,\n",
    "    Lazy_Map(test_original_source, transform_lambda)\n",
    ")\n",
    "\n",
    "train_processed_target = wrap_in_dataloader(\n",
    "    p,\n",
    "    Lazy_Map(train_original_target, transform_lambda)\n",
    ")\n",
    "val_processed_target = wrap_in_dataloader(\n",
    "    p,\n",
    "    Lazy_Map(val_original_target, transform_lambda)\n",
    ")\n",
    "test_processed_target  = wrap_in_dataloader(\n",
    "    p,\n",
    "    Lazy_Map(test_original_target, transform_lambda)\n",
    ")\n",
    "\n",
    "\n",
    "\n",
    "datasets = EasyDict({\n",
    "    \"source\": {\n",
    "        \"original\": {\"train\":train_original_source, \"val\":val_original_source, \"test\":test_original_source},\n",
    "        \"processed\": {\"train\":train_processed_source, \"val\":val_processed_source, \"test\":test_processed_source}\n",
    "    },\n",
    "    \"target\": {\n",
    "        \"original\": {\"train\":train_original_target, \"val\":val_original_target, \"test\":test_original_target},\n",
    "        \"processed\": {\"train\":train_processed_target, \"val\":val_processed_target, \"test\":test_processed_target}\n",
    "    },\n",
    "})"
   ]
  },
  {
   "cell_type": "code",
   "execution_count": 11,
   "id": "a11b26bd",
   "metadata": {
    "execution": {
     "iopub.execute_input": "2022-03-26T00:54:39.396187Z",
     "iopub.status.busy": "2022-03-26T00:54:39.395245Z",
     "iopub.status.idle": "2022-03-26T00:54:45.437572Z",
     "shell.execute_reply": "2022-03-26T00:54:45.436310Z"
    },
    "papermill": {
     "duration": 6.101791,
     "end_time": "2022-03-26T00:54:45.437838",
     "exception": false,
     "start_time": "2022-03-26T00:54:39.336047",
     "status": "completed"
    },
    "tags": []
   },
   "outputs": [
    {
     "data": {
      "text/plain": [
       "torch.float32"
      ]
     },
     "execution_count": 11,
     "metadata": {},
     "output_type": "execute_result"
    }
   ],
   "source": [
    "ep = next(iter(test_processed_target))\n",
    "ep[0].dtype"
   ]
  },
  {
   "cell_type": "code",
   "execution_count": 12,
   "id": "19425fad",
   "metadata": {
    "execution": {
     "iopub.execute_input": "2022-03-26T00:54:45.480276Z",
     "iopub.status.busy": "2022-03-26T00:54:45.479746Z",
     "iopub.status.idle": "2022-03-26T00:54:45.525182Z",
     "shell.execute_reply": "2022-03-26T00:54:45.525825Z"
    },
    "papermill": {
     "duration": 0.06839,
     "end_time": "2022-03-26T00:54:45.526017",
     "exception": false,
     "start_time": "2022-03-26T00:54:45.457627",
     "status": "completed"
    },
    "tags": []
   },
   "outputs": [],
   "source": [
    "model = Configurable_Vanilla(\n",
    "    x_net=x_net,\n",
    "    label_loss_object=torch.nn.NLLLoss(),\n",
    "    learning_rate=p.lr\n",
    ")"
   ]
  },
  {
   "cell_type": "code",
   "execution_count": 13,
   "id": "7f6d4f2c",
   "metadata": {
    "execution": {
     "iopub.execute_input": "2022-03-26T00:54:45.569230Z",
     "iopub.status.busy": "2022-03-26T00:54:45.568863Z",
     "iopub.status.idle": "2022-03-26T01:03:13.075017Z",
     "shell.execute_reply": "2022-03-26T01:03:13.074675Z"
    },
    "papermill": {
     "duration": 507.525733,
     "end_time": "2022-03-26T01:03:13.075104",
     "exception": false,
     "start_time": "2022-03-26T00:54:45.549371",
     "status": "completed"
    },
    "tags": []
   },
   "outputs": [
    {
     "name": "stdout",
     "output_type": "stream",
     "text": [
      "epoch: 1, [batch: 1 / 2625], examples_per_second: 548.1569, train_label_loss: 2.7749, \n"
     ]
    },
    {
     "name": "stdout",
     "output_type": "stream",
     "text": [
      "epoch: 1, [batch: 263 / 2625], examples_per_second: 10622.4798, train_label_loss: 2.3672, \n"
     ]
    },
    {
     "name": "stdout",
     "output_type": "stream",
     "text": [
      "epoch: 1, [batch: 525 / 2625], examples_per_second: 10684.0526, train_label_loss: 2.0834, \n"
     ]
    },
    {
     "name": "stdout",
     "output_type": "stream",
     "text": [
      "epoch: 1, [batch: 788 / 2625], examples_per_second: 10569.9572, train_label_loss: 1.8500, \n"
     ]
    },
    {
     "name": "stdout",
     "output_type": "stream",
     "text": [
      "epoch: 1, [batch: 1050 / 2625], examples_per_second: 10582.0400, train_label_loss: 1.7251, \n"
     ]
    },
    {
     "name": "stdout",
     "output_type": "stream",
     "text": [
      "epoch: 1, [batch: 1313 / 2625], examples_per_second: 10653.1506, train_label_loss: 1.4155, \n"
     ]
    },
    {
     "name": "stdout",
     "output_type": "stream",
     "text": [
      "epoch: 1, [batch: 1575 / 2625], examples_per_second: 10613.3866, train_label_loss: 1.3236, \n"
     ]
    },
    {
     "name": "stdout",
     "output_type": "stream",
     "text": [
      "epoch: 1, [batch: 1837 / 2625], examples_per_second: 10705.3137, train_label_loss: 1.1829, \n"
     ]
    },
    {
     "name": "stdout",
     "output_type": "stream",
     "text": [
      "epoch: 1, [batch: 2100 / 2625], examples_per_second: 10523.6254, train_label_loss: 1.1251, \n"
     ]
    },
    {
     "name": "stdout",
     "output_type": "stream",
     "text": [
      "epoch: 1, [batch: 2362 / 2625], examples_per_second: 10623.3607, train_label_loss: 1.0667, \n"
     ]
    },
    {
     "name": "stdout",
     "output_type": "stream",
     "text": [
      "=============================================================\n",
      "epoch: 1, source_val_acc_label: 0.6224, source_val_label_loss: 1.1119, target_val_acc_label: 0.0598, target_val_label_loss: 9.1022, \n",
      "=============================================================\n"
     ]
    },
    {
     "name": "stdout",
     "output_type": "stream",
     "text": [
      "New best\n",
      "epoch: 2, [batch: 1 / 2625], examples_per_second: 23.3349, train_label_loss: 0.9244, \n"
     ]
    },
    {
     "name": "stdout",
     "output_type": "stream",
     "text": [
      "epoch: 2, [batch: 263 / 2625], examples_per_second: 10543.6762, train_label_loss: 1.3847, \n"
     ]
    },
    {
     "name": "stdout",
     "output_type": "stream",
     "text": [
      "epoch: 2, [batch: 525 / 2625], examples_per_second: 10467.5052, train_label_loss: 0.9980, \n"
     ]
    },
    {
     "name": "stdout",
     "output_type": "stream",
     "text": [
      "epoch: 2, [batch: 788 / 2625], examples_per_second: 10605.7290, train_label_loss: 0.9235, \n"
     ]
    },
    {
     "name": "stdout",
     "output_type": "stream",
     "text": [
      "epoch: 2, [batch: 1050 / 2625], examples_per_second: 10504.7752, train_label_loss: 0.9506, \n"
     ]
    },
    {
     "name": "stdout",
     "output_type": "stream",
     "text": [
      "epoch: 2, [batch: 1313 / 2625], examples_per_second: 10614.1935, train_label_loss: 0.6509, \n"
     ]
    },
    {
     "name": "stdout",
     "output_type": "stream",
     "text": [
      "epoch: 2, [batch: 1575 / 2625], examples_per_second: 10617.5485, train_label_loss: 0.6025, \n"
     ]
    },
    {
     "name": "stdout",
     "output_type": "stream",
     "text": [
      "epoch: 2, [batch: 1837 / 2625], examples_per_second: 10695.5724, train_label_loss: 0.6732, \n"
     ]
    },
    {
     "name": "stdout",
     "output_type": "stream",
     "text": [
      "epoch: 2, [batch: 2100 / 2625], examples_per_second: 10640.5841, train_label_loss: 0.6362, \n"
     ]
    },
    {
     "name": "stdout",
     "output_type": "stream",
     "text": [
      "epoch: 2, [batch: 2362 / 2625], examples_per_second: 10724.8497, train_label_loss: 0.6447, \n"
     ]
    },
    {
     "name": "stdout",
     "output_type": "stream",
     "text": [
      "=============================================================\n",
      "epoch: 2, source_val_acc_label: 0.7850, source_val_label_loss: 0.6115, target_val_acc_label: 0.0609, target_val_label_loss: 14.4683, \n",
      "=============================================================\n"
     ]
    },
    {
     "name": "stdout",
     "output_type": "stream",
     "text": [
      "New best\n",
      "epoch: 3, [batch: 1 / 2625], examples_per_second: 24.8600, train_label_loss: 0.5145, \n"
     ]
    },
    {
     "name": "stdout",
     "output_type": "stream",
     "text": [
      "epoch: 3, [batch: 263 / 2625], examples_per_second: 10540.1769, train_label_loss: 0.4988, \n"
     ]
    },
    {
     "name": "stdout",
     "output_type": "stream",
     "text": [
      "epoch: 3, [batch: 525 / 2625], examples_per_second: 10467.8051, train_label_loss: 0.5940, \n"
     ]
    },
    {
     "name": "stdout",
     "output_type": "stream",
     "text": [
      "epoch: 3, [batch: 788 / 2625], examples_per_second: 10661.8207, train_label_loss: 0.6581, \n"
     ]
    },
    {
     "name": "stdout",
     "output_type": "stream",
     "text": [
      "epoch: 3, [batch: 1050 / 2625], examples_per_second: 10546.7491, train_label_loss: 0.4786, \n"
     ]
    },
    {
     "name": "stdout",
     "output_type": "stream",
     "text": [
      "epoch: 3, [batch: 1313 / 2625], examples_per_second: 10562.3760, train_label_loss: 0.5419, \n"
     ]
    },
    {
     "name": "stdout",
     "output_type": "stream",
     "text": [
      "epoch: 3, [batch: 1575 / 2625], examples_per_second: 10606.5584, train_label_loss: 0.4718, \n"
     ]
    },
    {
     "name": "stdout",
     "output_type": "stream",
     "text": [
      "epoch: 3, [batch: 1837 / 2625], examples_per_second: 10626.1021, train_label_loss: 0.4125, \n"
     ]
    },
    {
     "name": "stdout",
     "output_type": "stream",
     "text": [
      "epoch: 3, [batch: 2100 / 2625], examples_per_second: 10659.1042, train_label_loss: 0.4168, \n"
     ]
    },
    {
     "name": "stdout",
     "output_type": "stream",
     "text": [
      "epoch: 3, [batch: 2362 / 2625], examples_per_second: 10584.7514, train_label_loss: 0.4091, \n"
     ]
    },
    {
     "name": "stdout",
     "output_type": "stream",
     "text": [
      "=============================================================\n",
      "epoch: 3, source_val_acc_label: 0.8015, source_val_label_loss: 0.5526, target_val_acc_label: 0.0745, target_val_label_loss: 16.0797, \n",
      "=============================================================\n"
     ]
    },
    {
     "name": "stdout",
     "output_type": "stream",
     "text": [
      "New best\n",
      "epoch: 4, [batch: 1 / 2625], examples_per_second: 25.3609, train_label_loss: 0.4469, \n"
     ]
    },
    {
     "name": "stdout",
     "output_type": "stream",
     "text": [
      "epoch: 4, [batch: 263 / 2625], examples_per_second: 10585.7288, train_label_loss: 0.4100, \n"
     ]
    },
    {
     "name": "stdout",
     "output_type": "stream",
     "text": [
      "epoch: 4, [batch: 525 / 2625], examples_per_second: 10562.2692, train_label_loss: 0.3533, \n"
     ]
    },
    {
     "name": "stdout",
     "output_type": "stream",
     "text": [
      "epoch: 4, [batch: 788 / 2625], examples_per_second: 10658.4670, train_label_loss: 0.4356, \n"
     ]
    },
    {
     "name": "stdout",
     "output_type": "stream",
     "text": [
      "epoch: 4, [batch: 1050 / 2625], examples_per_second: 10571.2074, train_label_loss: 0.6123, \n"
     ]
    },
    {
     "name": "stdout",
     "output_type": "stream",
     "text": [
      "epoch: 4, [batch: 1313 / 2625], examples_per_second: 10492.3356, train_label_loss: 0.5813, \n"
     ]
    },
    {
     "name": "stdout",
     "output_type": "stream",
     "text": [
      "epoch: 4, [batch: 1575 / 2625], examples_per_second: 10602.3188, train_label_loss: 0.3498, \n"
     ]
    },
    {
     "name": "stdout",
     "output_type": "stream",
     "text": [
      "epoch: 4, [batch: 1837 / 2625], examples_per_second: 10647.2974, train_label_loss: 0.4356, \n"
     ]
    },
    {
     "name": "stdout",
     "output_type": "stream",
     "text": [
      "epoch: 4, [batch: 2100 / 2625], examples_per_second: 10668.6102, train_label_loss: 0.3702, \n"
     ]
    },
    {
     "name": "stdout",
     "output_type": "stream",
     "text": [
      "epoch: 4, [batch: 2362 / 2625], examples_per_second: 10652.6234, train_label_loss: 0.3339, \n"
     ]
    },
    {
     "name": "stdout",
     "output_type": "stream",
     "text": [
      "=============================================================\n",
      "epoch: 4, source_val_acc_label: 0.8917, source_val_label_loss: 0.3302, target_val_acc_label: 0.0761, target_val_label_loss: 16.9895, \n",
      "=============================================================\n"
     ]
    },
    {
     "name": "stdout",
     "output_type": "stream",
     "text": [
      "New best\n",
      "epoch: 5, [batch: 1 / 2625], examples_per_second: 25.1848, train_label_loss: 0.2669, \n"
     ]
    },
    {
     "name": "stdout",
     "output_type": "stream",
     "text": [
      "epoch: 5, [batch: 263 / 2625], examples_per_second: 10599.5712, train_label_loss: 0.3218, \n"
     ]
    },
    {
     "name": "stdout",
     "output_type": "stream",
     "text": [
      "epoch: 5, [batch: 525 / 2625], examples_per_second: 10671.2135, train_label_loss: 0.2591, \n"
     ]
    },
    {
     "name": "stdout",
     "output_type": "stream",
     "text": [
      "epoch: 5, [batch: 788 / 2625], examples_per_second: 10670.3718, train_label_loss: 0.3107, \n"
     ]
    },
    {
     "name": "stdout",
     "output_type": "stream",
     "text": [
      "epoch: 5, [batch: 1050 / 2625], examples_per_second: 10651.9143, train_label_loss: 0.3500, \n"
     ]
    },
    {
     "name": "stdout",
     "output_type": "stream",
     "text": [
      "epoch: 5, [batch: 1313 / 2625], examples_per_second: 10624.8002, train_label_loss: 0.2534, \n"
     ]
    },
    {
     "name": "stdout",
     "output_type": "stream",
     "text": [
      "epoch: 5, [batch: 1575 / 2625], examples_per_second: 10583.9350, train_label_loss: 0.2971, \n"
     ]
    },
    {
     "name": "stdout",
     "output_type": "stream",
     "text": [
      "epoch: 5, [batch: 1837 / 2625], examples_per_second: 10585.1672, train_label_loss: 0.3062, \n"
     ]
    },
    {
     "name": "stdout",
     "output_type": "stream",
     "text": [
      "epoch: 5, [batch: 2100 / 2625], examples_per_second: 10629.4985, train_label_loss: 0.2456, \n"
     ]
    },
    {
     "name": "stdout",
     "output_type": "stream",
     "text": [
      "epoch: 5, [batch: 2362 / 2625], examples_per_second: 10706.7992, train_label_loss: 0.2336, \n"
     ]
    },
    {
     "name": "stdout",
     "output_type": "stream",
     "text": [
      "=============================================================\n",
      "epoch: 5, source_val_acc_label: 0.8757, source_val_label_loss: 0.3499, target_val_acc_label: 0.0612, target_val_label_loss: 18.6742, \n",
      "=============================================================\n"
     ]
    },
    {
     "name": "stdout",
     "output_type": "stream",
     "text": [
      "epoch: 6, [batch: 1 / 2625], examples_per_second: 25.0515, train_label_loss: 0.2289, \n"
     ]
    },
    {
     "name": "stdout",
     "output_type": "stream",
     "text": [
      "epoch: 6, [batch: 263 / 2625], examples_per_second: 10660.1799, train_label_loss: 0.2142, \n"
     ]
    },
    {
     "name": "stdout",
     "output_type": "stream",
     "text": [
      "epoch: 6, [batch: 525 / 2625], examples_per_second: 10687.4134, train_label_loss: 0.1731, \n"
     ]
    },
    {
     "name": "stdout",
     "output_type": "stream",
     "text": [
      "epoch: 6, [batch: 788 / 2625], examples_per_second: 10695.6175, train_label_loss: 0.2649, \n"
     ]
    },
    {
     "name": "stdout",
     "output_type": "stream",
     "text": [
      "epoch: 6, [batch: 1050 / 2625], examples_per_second: 10683.0602, train_label_loss: 0.3149, \n"
     ]
    },
    {
     "name": "stdout",
     "output_type": "stream",
     "text": [
      "epoch: 6, [batch: 1313 / 2625], examples_per_second: 10676.8872, train_label_loss: 0.3242, \n"
     ]
    },
    {
     "name": "stdout",
     "output_type": "stream",
     "text": [
      "epoch: 6, [batch: 1575 / 2625], examples_per_second: 10709.4600, train_label_loss: 0.2126, \n"
     ]
    },
    {
     "name": "stdout",
     "output_type": "stream",
     "text": [
      "epoch: 6, [batch: 1837 / 2625], examples_per_second: 10691.9570, train_label_loss: 0.2822, \n"
     ]
    },
    {
     "name": "stdout",
     "output_type": "stream",
     "text": [
      "epoch: 6, [batch: 2100 / 2625], examples_per_second: 10675.5084, train_label_loss: 0.4994, \n"
     ]
    },
    {
     "name": "stdout",
     "output_type": "stream",
     "text": [
      "epoch: 6, [batch: 2362 / 2625], examples_per_second: 10714.3921, train_label_loss: 0.2245, \n"
     ]
    },
    {
     "name": "stdout",
     "output_type": "stream",
     "text": [
      "=============================================================\n",
      "epoch: 6, source_val_acc_label: 0.8865, source_val_label_loss: 0.3111, target_val_acc_label: 0.0779, target_val_label_loss: 19.0639, \n",
      "=============================================================\n"
     ]
    },
    {
     "name": "stdout",
     "output_type": "stream",
     "text": [
      "New best\n",
      "epoch: 7, [batch: 1 / 2625], examples_per_second: 25.3168, train_label_loss: 0.2341, \n"
     ]
    },
    {
     "name": "stdout",
     "output_type": "stream",
     "text": [
      "epoch: 7, [batch: 263 / 2625], examples_per_second: 10680.9146, train_label_loss: 0.6642, \n"
     ]
    },
    {
     "name": "stdout",
     "output_type": "stream",
     "text": [
      "epoch: 7, [batch: 525 / 2625], examples_per_second: 10672.7835, train_label_loss: 0.2046, \n"
     ]
    },
    {
     "name": "stdout",
     "output_type": "stream",
     "text": [
      "epoch: 7, [batch: 788 / 2625], examples_per_second: 10603.7210, train_label_loss: 0.2192, \n"
     ]
    },
    {
     "name": "stdout",
     "output_type": "stream",
     "text": [
      "epoch: 7, [batch: 1050 / 2625], examples_per_second: 10717.3482, train_label_loss: 0.1299, \n"
     ]
    },
    {
     "name": "stdout",
     "output_type": "stream",
     "text": [
      "epoch: 7, [batch: 1313 / 2625], examples_per_second: 11053.3300, train_label_loss: 0.3249, \n"
     ]
    },
    {
     "name": "stdout",
     "output_type": "stream",
     "text": [
      "epoch: 7, [batch: 1575 / 2625], examples_per_second: 11830.2438, train_label_loss: 0.2835, \n"
     ]
    },
    {
     "name": "stdout",
     "output_type": "stream",
     "text": [
      "epoch: 7, [batch: 1837 / 2625], examples_per_second: 11729.5120, train_label_loss: 0.2277, \n"
     ]
    },
    {
     "name": "stdout",
     "output_type": "stream",
     "text": [
      "epoch: 7, [batch: 2100 / 2625], examples_per_second: 11702.9431, train_label_loss: 0.2229, \n"
     ]
    },
    {
     "name": "stdout",
     "output_type": "stream",
     "text": [
      "epoch: 7, [batch: 2362 / 2625], examples_per_second: 11699.8759, train_label_loss: 0.1651, \n"
     ]
    },
    {
     "name": "stdout",
     "output_type": "stream",
     "text": [
      "=============================================================\n",
      "epoch: 7, source_val_acc_label: 0.9012, source_val_label_loss: 0.2748, target_val_acc_label: 0.0799, target_val_label_loss: 20.1375, \n",
      "=============================================================\n"
     ]
    },
    {
     "name": "stdout",
     "output_type": "stream",
     "text": [
      "New best\n",
      "epoch: 8, [batch: 1 / 2625], examples_per_second: 28.9244, train_label_loss: 0.1643, \n"
     ]
    },
    {
     "name": "stdout",
     "output_type": "stream",
     "text": [
      "epoch: 8, [batch: 263 / 2625], examples_per_second: 11728.6885, train_label_loss: 0.1804, \n"
     ]
    },
    {
     "name": "stdout",
     "output_type": "stream",
     "text": [
      "epoch: 8, [batch: 525 / 2625], examples_per_second: 11798.3858, train_label_loss: 0.1630, \n"
     ]
    },
    {
     "name": "stdout",
     "output_type": "stream",
     "text": [
      "epoch: 8, [batch: 788 / 2625], examples_per_second: 11769.8772, train_label_loss: 0.1871, \n"
     ]
    },
    {
     "name": "stdout",
     "output_type": "stream",
     "text": [
      "epoch: 8, [batch: 1050 / 2625], examples_per_second: 11754.3233, train_label_loss: 0.2615, \n"
     ]
    },
    {
     "name": "stdout",
     "output_type": "stream",
     "text": [
      "epoch: 8, [batch: 1313 / 2625], examples_per_second: 11720.0991, train_label_loss: 0.1554, \n"
     ]
    },
    {
     "name": "stdout",
     "output_type": "stream",
     "text": [
      "epoch: 8, [batch: 1575 / 2625], examples_per_second: 11755.7704, train_label_loss: 0.1292, \n"
     ]
    },
    {
     "name": "stdout",
     "output_type": "stream",
     "text": [
      "epoch: 8, [batch: 1837 / 2625], examples_per_second: 11748.1148, train_label_loss: 0.2296, \n"
     ]
    },
    {
     "name": "stdout",
     "output_type": "stream",
     "text": [
      "epoch: 8, [batch: 2100 / 2625], examples_per_second: 11765.8335, train_label_loss: 0.2354, \n"
     ]
    },
    {
     "name": "stdout",
     "output_type": "stream",
     "text": [
      "epoch: 8, [batch: 2362 / 2625], examples_per_second: 11776.3779, train_label_loss: 0.2357, \n"
     ]
    },
    {
     "name": "stdout",
     "output_type": "stream",
     "text": [
      "=============================================================\n",
      "epoch: 8, source_val_acc_label: 0.8440, source_val_label_loss: 0.4101, target_val_acc_label: 0.0590, target_val_label_loss: 19.7746, \n",
      "=============================================================\n"
     ]
    },
    {
     "name": "stdout",
     "output_type": "stream",
     "text": [
      "epoch: 9, [batch: 1 / 2625], examples_per_second: 28.8128, train_label_loss: 0.1706, \n"
     ]
    },
    {
     "name": "stdout",
     "output_type": "stream",
     "text": [
      "epoch: 9, [batch: 263 / 2625], examples_per_second: 11706.5509, train_label_loss: 0.1268, \n"
     ]
    },
    {
     "name": "stdout",
     "output_type": "stream",
     "text": [
      "epoch: 9, [batch: 525 / 2625], examples_per_second: 11661.7973, train_label_loss: 0.1664, \n"
     ]
    },
    {
     "name": "stdout",
     "output_type": "stream",
     "text": [
      "epoch: 9, [batch: 788 / 2625], examples_per_second: 11752.4061, train_label_loss: 0.2256, \n"
     ]
    },
    {
     "name": "stdout",
     "output_type": "stream",
     "text": [
      "epoch: 9, [batch: 1050 / 2625], examples_per_second: 11687.2694, train_label_loss: 0.1207, \n"
     ]
    },
    {
     "name": "stdout",
     "output_type": "stream",
     "text": [
      "epoch: 9, [batch: 1313 / 2625], examples_per_second: 12151.4810, train_label_loss: 0.1623, \n"
     ]
    },
    {
     "name": "stdout",
     "output_type": "stream",
     "text": [
      "epoch: 9, [batch: 1575 / 2625], examples_per_second: 11759.1678, train_label_loss: 0.1538, \n"
     ]
    },
    {
     "name": "stdout",
     "output_type": "stream",
     "text": [
      "epoch: 9, [batch: 1837 / 2625], examples_per_second: 11694.4190, train_label_loss: 0.1870, \n"
     ]
    },
    {
     "name": "stdout",
     "output_type": "stream",
     "text": [
      "epoch: 9, [batch: 2100 / 2625], examples_per_second: 11739.1713, train_label_loss: 0.1088, \n"
     ]
    },
    {
     "name": "stdout",
     "output_type": "stream",
     "text": [
      "epoch: 9, [batch: 2362 / 2625], examples_per_second: 11746.0684, train_label_loss: 0.1758, \n"
     ]
    },
    {
     "name": "stdout",
     "output_type": "stream",
     "text": [
      "=============================================================\n",
      "epoch: 9, source_val_acc_label: 0.8693, source_val_label_loss: 0.3483, target_val_acc_label: 0.0721, target_val_label_loss: 21.6777, \n",
      "=============================================================\n"
     ]
    },
    {
     "name": "stdout",
     "output_type": "stream",
     "text": [
      "epoch: 10, [batch: 1 / 2625], examples_per_second: 29.0638, train_label_loss: 0.1832, \n"
     ]
    },
    {
     "name": "stdout",
     "output_type": "stream",
     "text": [
      "epoch: 10, [batch: 263 / 2625], examples_per_second: 11741.4081, train_label_loss: 0.1791, \n"
     ]
    },
    {
     "name": "stdout",
     "output_type": "stream",
     "text": [
      "epoch: 10, [batch: 525 / 2625], examples_per_second: 11778.5425, train_label_loss: 0.1827, \n"
     ]
    },
    {
     "name": "stdout",
     "output_type": "stream",
     "text": [
      "epoch: 10, [batch: 788 / 2625], examples_per_second: 11802.7428, train_label_loss: 0.2158, \n"
     ]
    },
    {
     "name": "stdout",
     "output_type": "stream",
     "text": [
      "epoch: 10, [batch: 1050 / 2625], examples_per_second: 11753.0318, train_label_loss: 0.1202, \n"
     ]
    },
    {
     "name": "stdout",
     "output_type": "stream",
     "text": [
      "epoch: 10, [batch: 1313 / 2625], examples_per_second: 11755.5039, train_label_loss: 0.1937, \n"
     ]
    },
    {
     "name": "stdout",
     "output_type": "stream",
     "text": [
      "epoch: 10, [batch: 1575 / 2625], examples_per_second: 11729.8240, train_label_loss: 0.2322, \n"
     ]
    },
    {
     "name": "stdout",
     "output_type": "stream",
     "text": [
      "epoch: 10, [batch: 1837 / 2625], examples_per_second: 11758.0610, train_label_loss: 0.2042, \n"
     ]
    },
    {
     "name": "stdout",
     "output_type": "stream",
     "text": [
      "epoch: 10, [batch: 2100 / 2625], examples_per_second: 11757.4274, train_label_loss: 0.1755, \n"
     ]
    },
    {
     "name": "stdout",
     "output_type": "stream",
     "text": [
      "epoch: 10, [batch: 2362 / 2625], examples_per_second: 11787.5415, train_label_loss: 0.1521, \n"
     ]
    },
    {
     "name": "stdout",
     "output_type": "stream",
     "text": [
      "=============================================================\n",
      "epoch: 10, source_val_acc_label: 0.8239, source_val_label_loss: 0.4904, target_val_acc_label: 0.0876, target_val_label_loss: 23.3207, \n",
      "=============================================================\n"
     ]
    },
    {
     "name": "stdout",
     "output_type": "stream",
     "text": [
      "New best\n",
      "epoch: 11, [batch: 1 / 2625], examples_per_second: 28.9360, train_label_loss: 0.1316, \n"
     ]
    },
    {
     "name": "stdout",
     "output_type": "stream",
     "text": [
      "epoch: 11, [batch: 263 / 2625], examples_per_second: 11777.5789, train_label_loss: 0.1083, \n"
     ]
    },
    {
     "name": "stdout",
     "output_type": "stream",
     "text": [
      "epoch: 11, [batch: 525 / 2625], examples_per_second: 11754.4353, train_label_loss: 0.2252, \n"
     ]
    },
    {
     "name": "stdout",
     "output_type": "stream",
     "text": [
      "epoch: 11, [batch: 788 / 2625], examples_per_second: 11701.2022, train_label_loss: 0.1407, \n"
     ]
    },
    {
     "name": "stdout",
     "output_type": "stream",
     "text": [
      "epoch: 11, [batch: 1050 / 2625], examples_per_second: 11732.6232, train_label_loss: 0.1499, \n"
     ]
    },
    {
     "name": "stdout",
     "output_type": "stream",
     "text": [
      "epoch: 11, [batch: 1313 / 2625], examples_per_second: 11704.7194, train_label_loss: 0.1223, \n"
     ]
    },
    {
     "name": "stdout",
     "output_type": "stream",
     "text": [
      "epoch: 11, [batch: 1575 / 2625], examples_per_second: 11712.9506, train_label_loss: 0.0838, \n"
     ]
    },
    {
     "name": "stdout",
     "output_type": "stream",
     "text": [
      "epoch: 11, [batch: 1837 / 2625], examples_per_second: 11706.5431, train_label_loss: 0.2946, \n"
     ]
    },
    {
     "name": "stdout",
     "output_type": "stream",
     "text": [
      "epoch: 11, [batch: 2100 / 2625], examples_per_second: 11748.1016, train_label_loss: 0.0869, \n"
     ]
    },
    {
     "name": "stdout",
     "output_type": "stream",
     "text": [
      "epoch: 11, [batch: 2362 / 2625], examples_per_second: 11752.1333, train_label_loss: 0.1237, \n"
     ]
    },
    {
     "name": "stdout",
     "output_type": "stream",
     "text": [
      "=============================================================\n",
      "epoch: 11, source_val_acc_label: 0.8579, source_val_label_loss: 0.3881, target_val_acc_label: 0.0597, target_val_label_loss: 23.2598, \n",
      "=============================================================\n"
     ]
    },
    {
     "name": "stdout",
     "output_type": "stream",
     "text": [
      "epoch: 12, [batch: 1 / 2625], examples_per_second: 28.7112, train_label_loss: 0.1131, \n"
     ]
    },
    {
     "name": "stdout",
     "output_type": "stream",
     "text": [
      "epoch: 12, [batch: 263 / 2625], examples_per_second: 11702.1332, train_label_loss: 0.1108, \n"
     ]
    },
    {
     "name": "stdout",
     "output_type": "stream",
     "text": [
      "epoch: 12, [batch: 525 / 2625], examples_per_second: 11754.1662, train_label_loss: 0.0797, \n"
     ]
    },
    {
     "name": "stdout",
     "output_type": "stream",
     "text": [
      "epoch: 12, [batch: 788 / 2625], examples_per_second: 11721.6694, train_label_loss: 0.0909, \n"
     ]
    },
    {
     "name": "stdout",
     "output_type": "stream",
     "text": [
      "epoch: 12, [batch: 1050 / 2625], examples_per_second: 11722.1251, train_label_loss: 0.1314, \n"
     ]
    },
    {
     "name": "stdout",
     "output_type": "stream",
     "text": [
      "epoch: 12, [batch: 1313 / 2625], examples_per_second: 11648.4559, train_label_loss: 0.1034, \n"
     ]
    },
    {
     "name": "stdout",
     "output_type": "stream",
     "text": [
      "epoch: 12, [batch: 1575 / 2625], examples_per_second: 12623.2703, train_label_loss: 0.0818, \n"
     ]
    },
    {
     "name": "stdout",
     "output_type": "stream",
     "text": [
      "epoch: 12, [batch: 1837 / 2625], examples_per_second: 12980.4104, train_label_loss: 0.2015, \n"
     ]
    },
    {
     "name": "stdout",
     "output_type": "stream",
     "text": [
      "epoch: 12, [batch: 2100 / 2625], examples_per_second: 12891.6232, train_label_loss: 0.2146, \n"
     ]
    },
    {
     "name": "stdout",
     "output_type": "stream",
     "text": [
      "epoch: 12, [batch: 2362 / 2625], examples_per_second: 13283.9016, train_label_loss: 0.1167, \n"
     ]
    },
    {
     "name": "stdout",
     "output_type": "stream",
     "text": [
      "=============================================================\n",
      "epoch: 12, source_val_acc_label: 0.7963, source_val_label_loss: 0.6027, target_val_acc_label: 0.0789, target_val_label_loss: 25.4421, \n",
      "=============================================================\n"
     ]
    },
    {
     "name": "stdout",
     "output_type": "stream",
     "text": [
      "epoch: 13, [batch: 1 / 2625], examples_per_second: 36.6932, train_label_loss: 0.0993, \n"
     ]
    },
    {
     "name": "stdout",
     "output_type": "stream",
     "text": [
      "epoch: 13, [batch: 263 / 2625], examples_per_second: 13735.7997, train_label_loss: 0.0709, \n"
     ]
    },
    {
     "name": "stdout",
     "output_type": "stream",
     "text": [
      "epoch: 13, [batch: 525 / 2625], examples_per_second: 12106.0361, train_label_loss: 0.1810, \n"
     ]
    },
    {
     "name": "stdout",
     "output_type": "stream",
     "text": [
      "epoch: 13, [batch: 788 / 2625], examples_per_second: 11760.0204, train_label_loss: 0.0656, \n"
     ]
    },
    {
     "name": "stdout",
     "output_type": "stream",
     "text": [
      "epoch: 13, [batch: 1050 / 2625], examples_per_second: 11838.4242, train_label_loss: 0.0898, \n"
     ]
    },
    {
     "name": "stdout",
     "output_type": "stream",
     "text": [
      "epoch: 13, [batch: 1313 / 2625], examples_per_second: 11688.0234, train_label_loss: 0.1041, \n"
     ]
    },
    {
     "name": "stdout",
     "output_type": "stream",
     "text": [
      "epoch: 13, [batch: 1575 / 2625], examples_per_second: 11738.6273, train_label_loss: 0.0820, \n"
     ]
    },
    {
     "name": "stdout",
     "output_type": "stream",
     "text": [
      "epoch: 13, [batch: 1837 / 2625], examples_per_second: 11750.8855, train_label_loss: 0.3830, \n"
     ]
    },
    {
     "name": "stdout",
     "output_type": "stream",
     "text": [
      "epoch: 13, [batch: 2100 / 2625], examples_per_second: 11843.6811, train_label_loss: 0.0820, \n"
     ]
    },
    {
     "name": "stdout",
     "output_type": "stream",
     "text": [
      "epoch: 13, [batch: 2362 / 2625], examples_per_second: 11734.9264, train_label_loss: 0.1071, \n"
     ]
    },
    {
     "name": "stdout",
     "output_type": "stream",
     "text": [
      "=============================================================\n",
      "epoch: 13, source_val_acc_label: 0.8627, source_val_label_loss: 0.3811, target_val_acc_label: 0.0697, target_val_label_loss: 25.3538, \n",
      "=============================================================\n"
     ]
    },
    {
     "name": "stdout",
     "output_type": "stream",
     "text": [
      "epoch: 14, [batch: 1 / 2625], examples_per_second: 28.9401, train_label_loss: 0.1020, \n"
     ]
    },
    {
     "name": "stdout",
     "output_type": "stream",
     "text": [
      "epoch: 14, [batch: 263 / 2625], examples_per_second: 11717.5687, train_label_loss: 0.0822, \n"
     ]
    },
    {
     "name": "stdout",
     "output_type": "stream",
     "text": [
      "epoch: 14, [batch: 525 / 2625], examples_per_second: 11764.2151, train_label_loss: 0.1786, \n"
     ]
    },
    {
     "name": "stdout",
     "output_type": "stream",
     "text": [
      "epoch: 14, [batch: 788 / 2625], examples_per_second: 11739.3226, train_label_loss: 0.1117, \n"
     ]
    },
    {
     "name": "stdout",
     "output_type": "stream",
     "text": [
      "epoch: 14, [batch: 1050 / 2625], examples_per_second: 11846.9113, train_label_loss: 0.1988, \n"
     ]
    },
    {
     "name": "stdout",
     "output_type": "stream",
     "text": [
      "epoch: 14, [batch: 1313 / 2625], examples_per_second: 11995.8107, train_label_loss: 0.0936, \n"
     ]
    },
    {
     "name": "stdout",
     "output_type": "stream",
     "text": [
      "epoch: 14, [batch: 1575 / 2625], examples_per_second: 11718.7294, train_label_loss: 0.0376, \n"
     ]
    },
    {
     "name": "stdout",
     "output_type": "stream",
     "text": [
      "epoch: 14, [batch: 1837 / 2625], examples_per_second: 11686.9616, train_label_loss: 0.2111, \n"
     ]
    },
    {
     "name": "stdout",
     "output_type": "stream",
     "text": [
      "epoch: 14, [batch: 2100 / 2625], examples_per_second: 11734.5244, train_label_loss: 0.0712, \n"
     ]
    },
    {
     "name": "stdout",
     "output_type": "stream",
     "text": [
      "epoch: 14, [batch: 2362 / 2625], examples_per_second: 11765.1194, train_label_loss: 0.0474, \n"
     ]
    },
    {
     "name": "stdout",
     "output_type": "stream",
     "text": [
      "=============================================================\n",
      "epoch: 14, source_val_acc_label: 0.8630, source_val_label_loss: 0.3872, target_val_acc_label: 0.0697, target_val_label_loss: 26.6741, \n",
      "=============================================================\n"
     ]
    },
    {
     "name": "stdout",
     "output_type": "stream",
     "text": [
      "Patience (3) exhausted\n"
     ]
    }
   ],
   "source": [
    "jig = Vanilla_Train_Eval_Test_Jig(\n",
    "    model=model,\n",
    "    path_to_best_model=p.BEST_MODEL_PATH,\n",
    "    device=p.device,\n",
    "    label_loss_object=torch.nn.NLLLoss(),\n",
    ")\n",
    "\n",
    "jig.train(\n",
    "    train_iterable=datasets.source.processed.train,\n",
    "    source_val_iterable=datasets.source.processed.val,\n",
    "    target_val_iterable=datasets.target.processed.val,\n",
    "    patience=p.patience,\n",
    "    num_epochs=p.n_epoch,\n",
    "    num_logs_per_epoch=p.NUM_LOGS_PER_EPOCH,\n",
    "    criteria_for_best=p.criteria_for_best\n",
    ")"
   ]
  },
  {
   "cell_type": "code",
   "execution_count": 14,
   "id": "4bc2ac17",
   "metadata": {
    "execution": {
     "iopub.execute_input": "2022-03-26T01:03:13.193521Z",
     "iopub.status.busy": "2022-03-26T01:03:13.191157Z",
     "iopub.status.idle": "2022-03-26T01:03:13.195429Z",
     "shell.execute_reply": "2022-03-26T01:03:13.195108Z"
    },
    "papermill": {
     "duration": 0.064114,
     "end_time": "2022-03-26T01:03:13.195499",
     "exception": false,
     "start_time": "2022-03-26T01:03:13.131385",
     "status": "completed"
    },
    "tags": []
   },
   "outputs": [],
   "source": [
    "total_experiment_time_secs = time.time() - start_time_secs"
   ]
  },
  {
   "cell_type": "code",
   "execution_count": 15,
   "id": "cae88f23",
   "metadata": {
    "execution": {
     "iopub.execute_input": "2022-03-26T01:03:13.317351Z",
     "iopub.status.busy": "2022-03-26T01:03:13.313639Z",
     "iopub.status.idle": "2022-03-26T01:04:07.132321Z",
     "shell.execute_reply": "2022-03-26T01:04:07.131932Z"
    },
    "papermill": {
     "duration": 53.882186,
     "end_time": "2022-03-26T01:04:07.132438",
     "exception": false,
     "start_time": "2022-03-26T01:03:13.250252",
     "status": "completed"
    },
    "tags": []
   },
   "outputs": [],
   "source": [
    "source_test_label_accuracy, source_test_label_loss = jig.test(datasets.source.processed.test)\n",
    "target_test_label_accuracy, target_test_label_loss = jig.test(datasets.target.processed.test)\n",
    "\n",
    "source_val_label_accuracy, source_val_label_loss = jig.test(datasets.source.processed.val)\n",
    "target_val_label_accuracy, target_val_label_loss = jig.test(datasets.target.processed.val)\n",
    "\n",
    "history = jig.get_history()\n",
    "\n",
    "total_epochs_trained = len(history[\"epoch_indices\"])\n",
    "\n",
    "val_dl = wrap_in_dataloader(p, Sequence_Aggregator((datasets.source.original.val, datasets.target.original.val)))\n",
    "\n",
    "confusion = confusion_by_domain_over_dataloader(model, p.device, val_dl, forward_uses_domain=False)\n",
    "per_domain_accuracy = per_domain_accuracy_from_confusion(confusion)\n",
    "\n",
    "# Add a key to per_domain_accuracy for if it was a source domain\n",
    "for domain, accuracy in per_domain_accuracy.items():\n",
    "    per_domain_accuracy[domain] = {\n",
    "        \"accuracy\": accuracy,\n",
    "        \"source?\": domain in p.domains_source\n",
    "    }\n",
    "\n",
    "# Do an independent accuracy assesment JUST TO BE SURE!\n",
    "# _source_test_label_accuracy = independent_accuracy_assesment(model, datasets.source.processed.test, p.device)\n",
    "# _target_test_label_accuracy = independent_accuracy_assesment(model, datasets.target.processed.test, p.device)\n",
    "# _source_val_label_accuracy = independent_accuracy_assesment(model, datasets.source.processed.val, p.device)\n",
    "# _target_val_label_accuracy = independent_accuracy_assesment(model, datasets.target.processed.val, p.device)\n",
    "\n",
    "# assert(_source_test_label_accuracy == source_test_label_accuracy)\n",
    "# assert(_target_test_label_accuracy == target_test_label_accuracy)\n",
    "# assert(_source_val_label_accuracy == source_val_label_accuracy)\n",
    "# assert(_target_val_label_accuracy == target_val_label_accuracy)\n",
    "\n",
    "###################################\n",
    "# Write out the results\n",
    "###################################\n",
    "\n",
    "experiment = {\n",
    "    \"experiment_name\": p.experiment_name,\n",
    "    \"parameters\": p,\n",
    "    \"results\": {\n",
    "        \"source_test_label_accuracy\": source_test_label_accuracy,\n",
    "        \"source_test_label_loss\": source_test_label_loss,\n",
    "        \"target_test_label_accuracy\": target_test_label_accuracy,\n",
    "        \"target_test_label_loss\": target_test_label_loss,\n",
    "        \"source_val_label_accuracy\": source_val_label_accuracy,\n",
    "        \"source_val_label_loss\": source_val_label_loss,\n",
    "        \"target_val_label_accuracy\": target_val_label_accuracy,\n",
    "        \"target_val_label_loss\": target_val_label_loss,\n",
    "        \"total_epochs_trained\": total_epochs_trained,\n",
    "        \"total_experiment_time_secs\": total_experiment_time_secs,\n",
    "        \"confusion\": confusion,\n",
    "        \"per_domain_accuracy\": per_domain_accuracy,\n",
    "    },\n",
    "    \"history\": history,\n",
    "    \"dataset_metrics\": get_dataset_metrics(datasets, \"cnn\"),\n",
    "}"
   ]
  },
  {
   "cell_type": "code",
   "execution_count": 16,
   "id": "74c318cf",
   "metadata": {
    "execution": {
     "iopub.execute_input": "2022-03-26T01:04:07.348440Z",
     "iopub.status.busy": "2022-03-26T01:04:07.336877Z",
     "iopub.status.idle": "2022-03-26T01:04:07.528498Z",
     "shell.execute_reply": "2022-03-26T01:04:07.529185Z"
    },
    "papermill": {
     "duration": 0.341134,
     "end_time": "2022-03-26T01:04:07.529397",
     "exception": false,
     "start_time": "2022-03-26T01:04:07.188263",
     "status": "completed"
    },
    "tags": []
   },
   "outputs": [
    {
     "data": {
      "text/plain": [
       "<AxesSubplot:title={'center':'Source Train Label Loss vs Source Val Label Loss'}, xlabel='Epoch'>"
      ]
     },
     "execution_count": 16,
     "metadata": {},
     "output_type": "execute_result"
    },
    {
     "data": {
      "image/png": "[encoded data removed]",
      "text/plain": [
       "<Figure size 1080x504 with 1 Axes>"
      ]
     },
     "metadata": {
      "needs_background": "light"
     },
     "output_type": "display_data"
    }
   ],
   "source": [
    "get_loss_curve(experiment)"
   ]
  },
  {
   "cell_type": "code",
   "execution_count": 17,
   "id": "59376601",
   "metadata": {
    "execution": {
     "iopub.execute_input": "2022-03-26T01:04:07.676998Z",
     "iopub.status.busy": "2022-03-26T01:04:07.670166Z",
     "iopub.status.idle": "2022-03-26T01:04:07.965826Z",
     "shell.execute_reply": "2022-03-26T01:04:07.966507Z"
    },
    "papermill": {
     "duration": 0.376195,
     "end_time": "2022-03-26T01:04:07.966723",
     "exception": false,
     "start_time": "2022-03-26T01:04:07.590528",
     "status": "completed"
    },
    "tags": []
   },
   "outputs": [
    {
     "data": {
      "text/plain": [
       "<AxesSubplot:title={'center':'Results'}>"
      ]
     },
     "execution_count": 17,
     "metadata": {},
     "output_type": "execute_result"
    },
    {
     "data": {
      "image/png": "[encoded data removed]",
      "text/plain": [
       "<Figure size 1080x504 with 1 Axes>"
      ]
     },
     "metadata": {
      "needs_background": "light"
     },
     "output_type": "display_data"
    }
   ],
   "source": [
    "get_results_table(experiment)"
   ]
  },
  {
   "cell_type": "code",
   "execution_count": 18,
   "id": "e80c5c98",
   "metadata": {
    "execution": {
     "iopub.execute_input": "2022-03-26T01:04:08.116235Z",
     "iopub.status.busy": "2022-03-26T01:04:08.115363Z",
     "iopub.status.idle": "2022-03-26T01:04:08.276696Z",
     "shell.execute_reply": "2022-03-26T01:04:08.275987Z"
    },
    "papermill": {
     "duration": 0.24685,
     "end_time": "2022-03-26T01:04:08.276884",
     "exception": false,
     "start_time": "2022-03-26T01:04:08.030034",
     "status": "completed"
    },
    "tags": []
   },
   "outputs": [
    {
     "data": {
      "text/plain": [
       "<AxesSubplot:title={'center':'Per Domain Accuracy'}, xlabel='domain'>"
      ]
     },
     "execution_count": 18,
     "metadata": {},
     "output_type": "execute_result"
    },
    {
     "data": {
      "image/png": "[encoded data removed]",
      "text/plain": [
       "<Figure size 1080x504 with 1 Axes>"
      ]
     },
     "metadata": {
      "needs_background": "light"
     },
     "output_type": "display_data"
    }
   ],
   "source": [
    "get_domain_accuracies(experiment)"
   ]
  },
  {
   "cell_type": "code",
   "execution_count": 19,
   "id": "086fdd10",
   "metadata": {
    "execution": {
     "iopub.execute_input": "2022-03-26T01:04:08.404516Z",
     "iopub.status.busy": "2022-03-26T01:04:08.403957Z",
     "iopub.status.idle": "2022-03-26T01:04:08.409530Z",
     "shell.execute_reply": "2022-03-26T01:04:08.408725Z"
    },
    "papermill": {
     "duration": 0.068711,
     "end_time": "2022-03-26T01:04:08.409685",
     "exception": false,
     "start_time": "2022-03-26T01:04:08.340974",
     "status": "completed"
    },
    "tags": []
   },
   "outputs": [
    {
     "name": "stdout",
     "output_type": "stream",
     "text": [
      "Source Test Label Accuracy: 0.8225555555555556 Target Test Label Accuracy: 0.087825\n",
      "Source Val Label Accuracy: 0.8238888888888889 Target Val Label Accuracy: 0.08761666666666666\n"
     ]
    }
   ],
   "source": [
    "print(\"Source Test Label Accuracy:\", experiment[\"results\"][\"source_test_label_accuracy\"], \"Target Test Label Accuracy:\", experiment[\"results\"][\"target_test_label_accuracy\"])\n",
    "print(\"Source Val Label Accuracy:\", experiment[\"results\"][\"source_val_label_accuracy\"], \"Target Val Label Accuracy:\", experiment[\"results\"][\"target_val_label_accuracy\"])"
   ]
  },
  {
   "cell_type": "code",
   "execution_count": 20,
   "id": "9f450536",
   "metadata": {
    "execution": {
     "iopub.execute_input": "2022-03-26T01:04:08.538171Z",
     "iopub.status.busy": "2022-03-26T01:04:08.537807Z",
     "iopub.status.idle": "2022-03-26T01:04:08.541058Z",
     "shell.execute_reply": "2022-03-26T01:04:08.541344Z"
    },
    "papermill": {
     "duration": 0.067676,
     "end_time": "2022-03-26T01:04:08.541432",
     "exception": false,
     "start_time": "2022-03-26T01:04:08.473756",
     "status": "completed"
    },
    "tags": [
     "experiment_json"
    ]
   },
   "outputs": [
    {
     "data": {
      "text/plain": [
       "'{\"experiment_name\": \"cnn_1:oracle.run2\", \"parameters\": {\"experiment_name\": \"cnn_1:oracle.run2\", \"labels\": [\"3123D52\", \"3123D65\", \"3123D79\", \"3123D80\", \"3123D54\", \"3123D70\", \"3123D7B\", \"3123D89\", \"3123D58\", \"3123D76\", \"3123D7D\", \"3123EFE\", \"3123D64\", \"3123D78\", \"3123D7E\", \"3124E4A\"], \"domains_source\": [8, 32, 50], \"domains_target\": [14, 20, 26, 38, 44], \"pickle_name_source\": \"oracle.Run2_10kExamples_stratified_ds.2022A.pkl\", \"pickle_name_target\": \"oracle.Run2_10kExamples_stratified_ds.2022A.pkl\", \"device\": \"cuda\", \"lr\": 0.0001, \"batch_size\": 128, \"normalize_source\": false, \"normalize_target\": false, \"num_examples_per_domain_per_label_source\": -1, \"num_examples_per_domain_per_label_target\": -1, \"torch_default_dtype\": \"torch.float32\", \"n_epoch\": 50, \"patience\": 3, \"criteria_for_best\": \"target_accuracy\", \"x_net\": [{\"class\": \"nnReshape\", \"kargs\": {\"shape\": [-1, 1, 2, 256]}}, {\"class\": \"Conv2d\", \"kargs\": {\"in_channels\": 1, \"out_channels\": 256, \"kernel_size\": [1, 7], \"bias\": false, \"padding\": [0, 3]}}, {\"class\": \"ReLU\", \"kargs\": {\"inplace\": true}}, {\"class\": \"BatchNorm2d\", \"kargs\": {\"num_features\": 256}}, {\"class\": \"Conv2d\", \"kargs\": {\"in_channels\": 256, \"out_channels\": 80, \"kernel_size\": [2, 7], \"bias\": true, \"padding\": [0, 3]}}, {\"class\": \"ReLU\", \"kargs\": {\"inplace\": true}}, {\"class\": \"BatchNorm2d\", \"kargs\": {\"num_features\": 80}}, {\"class\": \"Flatten\", \"kargs\": {}}, {\"class\": \"Linear\", \"kargs\": {\"in_features\": 20480, \"out_features\": 256}}, {\"class\": \"ReLU\", \"kargs\": {\"inplace\": true}}, {\"class\": \"BatchNorm1d\", \"kargs\": {\"num_features\": 256}}, {\"class\": \"Linear\", \"kargs\": {\"in_features\": 256, \"out_features\": 16}}], \"NUM_LOGS_PER_EPOCH\": 10, \"BEST_MODEL_PATH\": \"./best_model.pth\", \"dataset_seed\": 7, \"seed\": 7}, \"results\": {\"source_test_label_accuracy\": 0.8225555555555556, \"source_test_label_loss\": 0.4945186660567143, \"target_test_label_accuracy\": 0.087825, \"target_test_label_loss\": 23.311237477544527, \"source_val_label_accuracy\": 0.8238888888888889, \"source_val_label_loss\": 0.49025595563978325, \"target_val_label_accuracy\": 0.08761666666666666, \"target_val_label_loss\": 23.318743557309798, \"total_epochs_trained\": 14, \"total_experiment_time_secs\": 535.2890918254852, \"confusion\": {\"20\": {\"4\": {\"12\": 1499, \"2\": 1}, \"2\": {\"12\": 1137, \"2\": 345, \"3\": 11, \"11\": 5, \"7\": 2}, \"14\": {\"12\": 1449, \"3\": 46, \"11\": 3, \"15\": 2}, \"6\": {\"12\": 1410, \"11\": 90}, \"11\": {\"3\": 1482, \"11\": 17, \"12\": 1}, \"13\": {\"2\": 552, \"12\": 509, \"7\": 436, \"11\": 3}, \"12\": {\"12\": 1273, \"2\": 172, \"7\": 55}, \"1\": {\"2\": 1210, \"12\": 263, \"15\": 23, \"3\": 4}, \"8\": {\"12\": 1255, \"3\": 239, \"15\": 4, \"11\": 2}, \"3\": {\"12\": 1458, \"2\": 35, \"11\": 5, \"7\": 2}, \"5\": {\"12\": 1226, \"2\": 255, \"11\": 4, \"15\": 7, \"3\": 8}, \"15\": {\"12\": 558, \"2\": 918, \"7\": 18, \"3\": 5, \"11\": 1}, \"10\": {\"12\": 1470, \"11\": 30}, \"0\": {\"2\": 510, \"12\": 177, \"3\": 658, \"15\": 155}, \"9\": {\"12\": 1085, \"2\": 405, \"7\": 3, \"11\": 5, \"3\": 2}, \"7\": {\"12\": 1479, \"11\": 19, \"7\": 1, \"2\": 1}}, \"14\": {\"13\": {\"3\": 1500}, \"6\": {\"3\": 1500}, \"9\": {\"3\": 1065, \"2\": 434, \"6\": 1}, \"8\": {\"3\": 1256, \"11\": 244}, \"14\": {\"3\": 1500}, \"10\": {\"3\": 1478, \"15\": 15, \"12\": 7}, \"3\": {\"3\": 1500}, \"5\": {\"3\": 1500}, \"0\": {\"3\": 1499, \"12\": 1}, \"12\": {\"3\": 266, \"7\": 128, \"2\": 344, \"9\": 120, \"6\": 342, \"12\": 202, \"11\": 13, \"15\": 36, \"5\": 2, \"0\": 23, \"14\": 6, \"10\": 8, \"13\": 10}, \"15\": {\"3\": 117, \"13\": 1256, \"11\": 127}, \"2\": {\"3\": 1500}, \"4\": {\"3\": 1489, \"11\": 11}, \"1\": {\"11\": 739, \"3\": 761}, \"7\": {\"3\": 1410, \"11\": 85, \"13\": 5}, \"11\": {\"11\": 43, \"7\": 1255, \"4\": 180, \"12\": 21, \"8\": 1}}, \"26\": {\"2\": {\"3\": 1483, \"13\": 16, \"6\": 1}, \"12\": {\"12\": 1313, \"3\": 113, \"6\": 67, \"15\": 2, \"9\": 5}, \"0\": {\"3\": 920, \"12\": 495, \"13\": 85}, \"7\": {\"3\": 1500}, \"6\": {\"14\": 428, \"12\": 966, \"3\": 20, \"13\": 76, \"9\": 4, \"6\": 6}, \"1\": {\"12\": 1482, \"3\": 7, \"13\": 10, \"14\": 1}, \"11\": {\"6\": 1408, \"12\": 92}, \"14\": {\"12\": 1077, \"3\": 399, \"13\": 23, \"14\": 1}, \"3\": {\"3\": 1500}, \"13\": {\"3\": 1448, \"6\": 35, \"11\": 5, \"14\": 8, \"13\": 3, \"12\": 1}, \"8\": {\"3\": 1456, \"13\": 21, \"12\": 23}, \"5\": {\"14\": 618, \"13\": 105, \"11\": 89, \"12\": 404, \"6\": 116, \"3\": 147, \"9\": 21}, \"10\": {\"12\": 791, \"13\": 98, \"3\": 608, \"14\": 3}, \"4\": {\"3\": 1500}, \"9\": {\"3\": 1462, \"13\": 24, \"12\": 5, \"6\": 4, \"14\": 4, \"11\": 1}, \"15\": {\"3\": 1220, \"13\": 277, \"11\": 3}}, \"44\": {\"6\": {\"15\": 1359, \"9\": 141}, \"2\": {\"15\": 1167, \"5\": 319, \"11\": 11, \"8\": 3}, \"0\": {\"12\": 868, \"6\": 546, \"5\": 76, \"1\": 2, \"8\": 5, \"0\": 1, \"13\": 1, \"14\": 1}, \"11\": {\"9\": 1280, \"7\": 220}, \"5\": {\"6\": 1030, \"15\": 94, \"5\": 175, \"4\": 191, \"12\": 9, \"9\": 1}, \"12\": {\"3\": 822, \"8\": 342, \"7\": 285, \"0\": 39, \"4\": 11, \"11\": 1}, \"9\": {\"15\": 1119, \"9\": 380, \"5\": 1}, \"4\": {\"15\": 901, \"9\": 556, \"4\": 42, \"12\": 1}, \"8\": {\"12\": 989, \"6\": 410, \"5\": 101}, \"15\": {\"12\": 939, \"15\": 69, \"6\": 388, \"11\": 89, \"9\": 13, \"14\": 1, \"5\": 1}, \"7\": {\"15\": 937, \"9\": 563}, \"1\": {\"5\": 1275, \"7\": 110, \"8\": 99, \"15\": 15, \"3\": 1}, \"3\": {\"0\": 501, \"7\": 667, \"8\": 250, \"4\": 51, \"3\": 18, \"2\": 4, \"5\": 1, \"11\": 7, \"14\": 1}, \"14\": {\"4\": 747, \"9\": 293, \"15\": 433, \"12\": 16, \"5\": 10, \"6\": 1}, \"10\": {\"9\": 1300, \"5\": 92, \"7\": 36, \"15\": 72}, \"13\": {\"9\": 573, \"4\": 544, \"15\": 297, \"7\": 86}}, \"38\": {\"2\": {\"5\": 796, \"7\": 585, \"4\": 108, \"3\": 11}, \"4\": {\"4\": 1366, \"7\": 132, \"15\": 2}, \"0\": {\"9\": 592, \"15\": 888, \"4\": 20}, \"1\": {\"14\": 196, \"0\": 254, \"1\": 823, \"11\": 7, \"9\": 183, \"2\": 31, \"10\": 5, \"12\": 1}, \"9\": {\"9\": 1420, \"15\": 42, \"12\": 37, \"11\": 1}, \"11\": {\"7\": 1500}, \"5\": {\"4\": 323, \"6\": 514, \"15\": 584, \"5\": 15, \"11\": 47, \"9\": 12, \"13\": 3, \"1\": 2}, \"15\": {\"1\": 1118, \"11\": 33, \"10\": 165, \"9\": 105, \"0\": 68, \"14\": 10, \"15\": 1}, \"3\": {\"7\": 570, \"9\": 928, \"4\": 2}, \"12\": {\"13\": 785, \"6\": 33, \"15\": 616, \"5\": 8, \"4\": 58}, \"6\": {\"14\": 999, \"9\": 408, \"0\": 76, \"1\": 10, \"2\": 7}, \"7\": {\"4\": 1407, \"15\": 62, \"9\": 31}, \"10\": {\"4\": 628, \"9\": 302, \"7\": 570}, \"13\": {\"9\": 385, \"7\": 1105, \"4\": 10}, \"14\": {\"4\": 512, \"5\": 225, \"7\": 698, \"13\": 31, \"3\": 30, \"6\": 4}, \"8\": {\"4\": 873, \"15\": 545, \"9\": 79, \"5\": 2, \"6\": 1}}, \"50\": {\"14\": {\"9\": 203, \"14\": 1297}, \"2\": {\"2\": 1213, \"0\": 160, \"9\": 125, \"12\": 2}, \"4\": {\"4\": 1454, \"7\": 39, \"5\": 5, \"15\": 1, \"9\": 1}, \"3\": {\"3\": 1492, \"7\": 8}, \"15\": {\"15\": 1369, \"4\": 103, \"9\": 27, \"5\": 1}, \"6\": {\"6\": 578, \"5\": 280, \"4\": 418, \"15\": 223, \"12\": 1}, \"5\": {\"4\": 1088, \"7\": 151, \"5\": 261}, \"12\": {\"12\": 1015, \"9\": 479, \"5\": 4, \"11\": 2}, \"11\": {\"11\": 1233, \"15\": 238, \"9\": 11, \"12\": 12, \"6\": 6}, \"7\": {\"7\": 1367, \"4\": 133}, \"9\": {\"9\": 1495, \"15\": 5}, \"8\": {\"8\": 1412, \"13\": 87, \"1\": 1}, \"10\": {\"10\": 1434, \"13\": 63, \"1\": 1, \"0\": 2}, \"0\": {\"0\": 1360, \"10\": 102, \"2\": 25, \"9\": 13}, \"13\": {\"13\": 1500}, \"1\": {\"1\": 1389, \"13\": 79, \"11\": 22, \"10\": 1, \"6\": 9}}, \"32\": {\"2\": {\"2\": 1049, \"14\": 261, \"5\": 59, \"7\": 24, \"0\": 83, \"9\": 3, \"11\": 20, \"8\": 1}, \"11\": {\"11\": 1046, \"13\": 114, \"4\": 144, \"0\": 142, \"14\": 26, \"3\": 4, \"2\": 7, \"7\": 12, \"8\": 1, \"9\": 4}, \"9\": {\"9\": 1289, \"2\": 23, \"14\": 179, \"0\": 9}, \"5\": {\"9\": 452, \"5\": 983, \"15\": 51, \"12\": 5, \"11\": 9}, \"4\": {\"0\": 360, \"4\": 940, \"11\": 125, \"3\": 17, \"13\": 18, \"14\": 12, \"8\": 18, \"2\": 7, \"7\": 2, \"15\": 1}, \"10\": {\"10\": 1499, \"6\": 1}, \"13\": {\"3\": 82, \"13\": 1175, \"4\": 88, \"11\": 154, \"7\": 1}, \"15\": {\"15\": 1499, \"5\": 1}, \"0\": {\"0\": 1172, \"8\": 107, \"7\": 28, \"14\": 113, \"2\": 30, \"5\": 37, \"4\": 5, \"9\": 3, \"11\": 5}, \"7\": {\"7\": 1232, \"5\": 149, \"0\": 71, \"2\": 23, \"8\": 19, \"14\": 5, \"9\": 1}, \"14\": {\"14\": 1403, \"11\": 33, \"0\": 20, \"5\": 24, \"2\": 15, \"12\": 1, \"7\": 2, \"15\": 1, \"9\": 1}, \"1\": {\"1\": 1495, \"8\": 5}, \"8\": {\"8\": 1326, \"0\": 105, \"15\": 32, \"5\": 31, \"7\": 2, \"14\": 4}, \"3\": {\"3\": 1473, \"11\": 3, \"4\": 6, \"13\": 17, \"8\": 1}, \"6\": {\"6\": 1499, \"2\": 1}, \"12\": {\"12\": 1476, \"0\": 2, \"9\": 11, \"2\": 10, \"10\": 1}}, \"8\": {\"7\": {\"7\": 757, \"8\": 139, \"4\": 534, \"13\": 6, \"11\": 33, \"6\": 30, \"12\": 1}, \"8\": {\"8\": 889, \"11\": 610, \"6\": 1}, \"13\": {\"13\": 1329, \"1\": 132, \"8\": 19, \"10\": 4, \"7\": 10, \"4\": 3, \"11\": 2, \"5\": 1}, \"10\": {\"5\": 303, \"13\": 343, \"10\": 621, \"1\": 184, \"4\": 32, \"14\": 11, \"7\": 4, \"6\": 2}, \"3\": {\"3\": 1488, \"15\": 12}, \"11\": {\"11\": 1420, \"8\": 80}, \"15\": {\"12\": 467, \"15\": 1032, \"2\": 1}, \"2\": {\"2\": 1484, \"12\": 10, \"15\": 5, \"7\": 1}, \"14\": {\"14\": 1133, \"1\": 31, \"6\": 262, \"8\": 70, \"11\": 3, \"0\": 1}, \"0\": {\"0\": 1500}, \"1\": {\"1\": 1485, \"13\": 2, \"8\": 11, \"11\": 1, \"14\": 1}, \"9\": {\"9\": 1500}, \"12\": {\"12\": 1494, \"15\": 5, \"11\": 1}, \"5\": {\"5\": 916, \"1\": 544, \"14\": 8, \"13\": 11, \"10\": 19, \"4\": 2}, \"6\": {\"6\": 1151, \"8\": 282, \"14\": 26, \"1\": 2, \"11\": 36, \"4\": 3}, \"4\": {\"4\": 696, \"6\": 428, \"8\": 204, \"7\": 156, \"14\": 5, \"11\": 11}}}, \"per_domain_accuracy\": {\"20\": {\"accuracy\": 0.06816666666666667, \"source?\": false}, \"14\": {\"accuracy\": 0.07270833333333333, \"source?\": false}, \"26\": {\"accuracy\": 0.117625, \"source?\": false}, \"44\": {\"accuracy\": 0.028541666666666667, \"source?\": false}, \"38\": {\"accuracy\": 0.15104166666666666, \"source?\": false}, \"50\": {\"accuracy\": 0.827875, \"source?\": true}, \"32\": {\"accuracy\": 0.8565, \"source?\": true}, \"8\": {\"accuracy\": 0.7872916666666666, \"source?\": true}}}, \"history\": {\"epoch_indices\": [1, 2, 3, 4, 5, 6, 7, 8, 9, 10, 11, 12, 13, 14], \"train_label_loss\": [1.5962339930307297, 0.7406047554129646, 0.49611739749000183, 0.3791135648318699, 0.3098943772826876, 0.2747540885380336, 0.2327529142527353, 0.20457505035116558, 0.18454913192135947, 0.16525895992347173, 0.14824150743796713, 0.13724766355043366, 0.12407259178800242, 0.11239201200150307], \"source_val_label_loss\": [1.1119192650220746, 0.6114862196504752, 0.5525701757963767, 0.33016013553892104, 0.3499379119906925, 0.311087964165486, 0.2747829788849155, 0.41011217292100455, 0.34831078954001304, 0.4904203785460965, 0.3880781688815112, 0.6027393877294517, 0.3810500175713646, 0.38722081408301634], \"target_val_label_loss\": [9.102178628510758, 14.468271071468589, 16.079686617292065, 16.989464212836488, 18.67420757248966, 19.063882759639196, 20.13748777141449, 19.774569828627207, 21.67772476302027, 23.32072210820245, 23.259814050914382, 25.442065655803884, 25.35384512049303, 26.67413715614693], \"source_val_acc_label\": [0.622375, 0.7849583333333333, 0.8014722222222223, 0.8916805555555556, 0.8757361111111112, 0.8865138888888889, 0.90125, 0.8439722222222222, 0.8693055555555556, 0.8238888888888889, 0.8579305555555555, 0.7962638888888889, 0.8627361111111111, 0.8630277777777777], \"target_val_acc_label\": [0.059775, 0.06089166666666666, 0.07445, 0.07608333333333334, 0.061175, 0.077925, 0.0799, 0.059041666666666666, 0.07210833333333333, 0.08761666666666666, 0.0597, 0.07891666666666666, 0.0697, 0.06971666666666666]}, \"dataset_metrics\": {\"source\": {\"train\": {\"n_unique_x\": 336000, \"n_unique_y\": 16, \"n_batch/episode\": 2625}, \"val\": {\"n_unique_x\": 72000, \"n_unique_y\": 16, \"n_batch/episode\": 563}, \"test\": {\"n_unique_x\": 72000, \"n_unique_y\": 16, \"n_batch/episode\": 563}}, \"target\": {\"train\": {\"n_unique_x\": 560000, \"n_unique_y\": 16, \"n_batch/episode\": 4375}, \"val\": {\"n_unique_x\": 120000, \"n_unique_y\": 16, \"n_batch/episode\": 938}, \"test\": {\"n_unique_x\": 120000, \"n_unique_y\": 16, \"n_batch/episode\": 938}}}}'"
      ]
     },
     "execution_count": 20,
     "metadata": {},
     "output_type": "execute_result"
    }
   ],
   "source": [
    "json.dumps(experiment)"
   ]
  }
 ],
 "metadata": {
  "celltoolbar": "Tags",
  "kernelspec": {
   "display_name": "Python 3 (ipykernel)",
   "language": "python",
   "name": "python3"
  },
  "language_info": {
   "codemirror_mode": {
    "name": "ipython",
    "version": 3
   },
   "file_extension": ".py",
   "mimetype": "text/x-python",
   "name": "python",
   "nbconvert_exporter": "python",
   "pygments_lexer": "ipython3",
   "version": "3.8.12"
  },
  "papermill": {
   "default_parameters": {},
   "duration": 596.7007,
   "end_time": "2022-03-26T01:04:12.021392",
   "environment_variables": {},
   "exception": null,
   "input_path": "/root/csc500-main/csc500-notebooks/templates/cnn_template.ipynb",
   "output_path": "trial.ipynb",
   "parameters": {
    "parameters": {
     "BEST_MODEL_PATH": "./best_model.pth",
     "NUM_LOGS_PER_EPOCH": 10,
     "batch_size": 128,
     "criteria_for_best": "target_accuracy",
     "dataset_seed": 7,
     "device": "cuda",
     "domains_source": [
      8,
      32,
      50
     ],
     "domains_target": [
      14,
      20,
      26,
      38,
      44
     ],
     "experiment_name": "cnn_1:oracle.run2",
     "labels": [
      "3123D52",
      "3123D65",
      "3123D79",
      "3123D80",
      "3123D54",
      "3123D70",
      "3123D7B",
      "3123D89",
      "3123D58",
      "3123D76",
      "3123D7D",
      "3123EFE",
      "3123D64",
      "3123D78",
      "3123D7E",
      "3124E4A"
     ],
     "lr": 0.0001,
     "n_epoch": 50,
     "normalize_source": false,
     "normalize_target": false,
     "num_examples_per_domain_per_label_source": -1,
     "num_examples_per_domain_per_label_target": -1,
     "patience": 3,
     "pickle_name_source": "oracle.Run2_10kExamples_stratified_ds.2022A.pkl",
     "pickle_name_target": "oracle.Run2_10kExamples_stratified_ds.2022A.pkl",
     "seed": 7,
     "torch_default_dtype": "torch.float32",
     "x_net": [
      {
       "class": "nnReshape",
       "kargs": {
        "shape": [
         -1,
         1,
         2,
         256
        ]
       }
      },
      {
       "class": "Conv2d",
       "kargs": {
        "bias": false,
        "in_channels": 1,
        "kernel_size": [
         1,
         7
        ],
        "out_channels": 256,
        "padding": [
         0,
         3
        ]
       }
      },
      {
       "class": "ReLU",
       "kargs": {
        "inplace": true
       }
      },
      {
       "class": "BatchNorm2d",
       "kargs": {
        "num_features": 256
       }
      },
      {
       "class": "Conv2d",
       "kargs": {
        "bias": true,
        "in_channels": 256,
        "kernel_size": [
         2,
         7
        ],
        "out_channels": 80,
        "padding": [
         0,
         3
        ]
       }
      },
      {
       "class": "ReLU",
       "kargs": {
        "inplace": true
       }
      },
      {
       "class": "BatchNorm2d",
       "kargs": {
        "num_features": 80
       }
      },
      {
       "class": "Flatten",
       "kargs": {}
      },
      {
       "class": "Linear",
       "kargs": {
        "in_features": 20480,
        "out_features": 256
       }
      },
      {
       "class": "ReLU",
       "kargs": {
        "inplace": true
       }
      },
      {
       "class": "BatchNorm1d",
       "kargs": {
        "num_features": 256
       }
      },
      {
       "class": "Linear",
       "kargs": {
        "in_features": 256,
        "out_features": 16
       }
      }
     ]
    }
   },
   "start_time": "2022-03-26T00:54:15.320692",
   "version": "2.3.4"
  }
 },
 "nbformat": 4,
 "nbformat_minor": 5
}