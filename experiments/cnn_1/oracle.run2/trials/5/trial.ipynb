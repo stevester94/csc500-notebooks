{
 "cells": [
  {
   "cell_type": "code",
   "execution_count": 1,
   "id": "2324682e",
   "metadata": {
    "execution": {
     "iopub.execute_input": "2022-03-26T00:23:46.724616Z",
     "iopub.status.busy": "2022-03-26T00:23:46.723742Z",
     "iopub.status.idle": "2022-03-26T00:23:47.982815Z",
     "shell.execute_reply": "2022-03-26T00:23:47.981936Z"
    },
    "papermill": {
     "duration": 1.298051,
     "end_time": "2022-03-26T00:23:47.983029",
     "exception": false,
     "start_time": "2022-03-26T00:23:46.684978",
     "status": "completed"
    },
    "tags": []
   },
   "outputs": [],
   "source": [
    "import os, json, sys, time, random\n",
    "import numpy as np\n",
    "import torch\n",
    "from  easydict import EasyDict\n",
    "from math import floor\n",
    "from easydict import EasyDict\n",
    "\n",
    "from steves_utils.vanilla_train_eval_test_jig import  Vanilla_Train_Eval_Test_Jig\n",
    "\n",
    "from steves_utils.torch_utils import get_dataset_metrics, independent_accuracy_assesment\n",
    "from steves_models.configurable_vanilla import Configurable_Vanilla\n",
    "from steves_utils.torch_sequential_builder import build_sequential\n",
    "from steves_utils.lazy_map import Lazy_Map\n",
    "from steves_utils.sequence_aggregator import Sequence_Aggregator\n",
    "\n",
    "from steves_utils.stratified_dataset.traditional_accessor import Traditional_Accessor_Factory\n",
    "\n",
    "from steves_utils.cnn_do_report import (\n",
    "    get_loss_curve,\n",
    "    get_results_table,\n",
    "    get_parameters_table,\n",
    "    get_domain_accuracies,\n",
    ")\n",
    "\n",
    "from steves_utils.torch_utils import (\n",
    "    confusion_by_domain_over_dataloader,\n",
    "    independent_accuracy_assesment\n",
    ")\n",
    "\n",
    "from steves_utils.utils_v2 import (\n",
    "    per_domain_accuracy_from_confusion,\n",
    "    get_datasets_base_path\n",
    ")\n",
    "\n",
    "# from steves_utils.ptn_do_report import TBD"
   ]
  },
  {
   "cell_type": "code",
   "execution_count": 2,
   "id": "1b29e3fe",
   "metadata": {
    "execution": {
     "iopub.execute_input": "2022-03-26T00:23:48.021206Z",
     "iopub.status.busy": "2022-03-26T00:23:48.020819Z",
     "iopub.status.idle": "2022-03-26T00:23:48.023435Z",
     "shell.execute_reply": "2022-03-26T00:23:48.023113Z"
    },
    "papermill": {
     "duration": 0.021735,
     "end_time": "2022-03-26T00:23:48.023505",
     "exception": false,
     "start_time": "2022-03-26T00:23:48.001770",
     "status": "completed"
    },
    "tags": []
   },
   "outputs": [],
   "source": [
    "required_parameters = {\n",
    "    \"experiment_name\",\n",
    "    \"lr\",\n",
    "    \"device\",\n",
    "    \"dataset_seed\",\n",
    "    \"seed\",\n",
    "    \"labels\",\n",
    "    \"domains_target\",\n",
    "    \"domains_source\",\n",
    "    \"num_examples_per_domain_per_label_source\",\n",
    "    \"num_examples_per_domain_per_label_target\",\n",
    "    \"batch_size\",\n",
    "    \"n_epoch\",\n",
    "    \"patience\",\n",
    "    \"criteria_for_best\",\n",
    "    \"normalize_source\",\n",
    "    \"normalize_target\",\n",
    "    \"x_net\",\n",
    "    \"NUM_LOGS_PER_EPOCH\",\n",
    "    \"BEST_MODEL_PATH\",\n",
    "    \"pickle_name_source\",\n",
    "    \"pickle_name_target\",\n",
    "    \"torch_default_dtype\",\n",
    "}"
   ]
  },
  {
   "cell_type": "code",
   "execution_count": 3,
   "id": "670b5fb8",
   "metadata": {
    "execution": {
     "iopub.execute_input": "2022-03-26T00:23:48.068899Z",
     "iopub.status.busy": "2022-03-26T00:23:48.068004Z",
     "iopub.status.idle": "2022-03-26T00:23:48.075401Z",
     "shell.execute_reply": "2022-03-26T00:23:48.074598Z"
    },
    "papermill": {
     "duration": 0.03469,
     "end_time": "2022-03-26T00:23:48.075571",
     "exception": false,
     "start_time": "2022-03-26T00:23:48.040881",
     "status": "completed"
    },
    "tags": [
     "parameters"
    ]
   },
   "outputs": [],
   "source": [
    "from steves_utils.ORACLE.utils_v2 import (\n",
    "    ALL_SERIAL_NUMBERS,\n",
    "    ALL_DISTANCES_FEET_NARROWED,\n",
    ")\n",
    "\n",
    "standalone_parameters = {}\n",
    "standalone_parameters[\"experiment_name\"] = \"MANUAL CORES CNN\"\n",
    "standalone_parameters[\"lr\"] = 0.0001\n",
    "standalone_parameters[\"device\"] = \"cuda\"\n",
    "\n",
    "standalone_parameters[\"dataset_seed\"] = 1337\n",
    "standalone_parameters[\"seed\"] = 1337\n",
    "standalone_parameters[\"labels\"] = ALL_SERIAL_NUMBERS\n",
    "\n",
    "standalone_parameters[\"domains_source\"] = [8,32,50]\n",
    "standalone_parameters[\"domains_target\"] = [14,20,26,38,44,]\n",
    "\n",
    "standalone_parameters[\"num_examples_per_domain_per_label_source\"]=-1\n",
    "standalone_parameters[\"num_examples_per_domain_per_label_target\"]=-1\n",
    "\n",
    "standalone_parameters[\"pickle_name_source\"] = \"oracle.Run1_framed_2000Examples_stratified_ds.2022A.pkl\"\n",
    "standalone_parameters[\"pickle_name_target\"] = \"oracle.Run2_framed_2000Examples_stratified_ds.2022A.pkl\"\n",
    "\n",
    "standalone_parameters[\"torch_default_dtype\"] = \"torch.float32\" \n",
    "\n",
    "standalone_parameters[\"batch_size\"]=128\n",
    "\n",
    "standalone_parameters[\"n_epoch\"] = 3\n",
    "\n",
    "standalone_parameters[\"patience\"] = 10\n",
    "\n",
    "standalone_parameters[\"criteria_for_best\"] = \"target_accuracy\"\n",
    "standalone_parameters[\"normalize_source\"] = False\n",
    "standalone_parameters[\"normalize_target\"] = False\n",
    "\n",
    "standalone_parameters[\"x_net\"] =     [\n",
    "    {\"class\": \"nnReshape\", \"kargs\": {\"shape\":[-1, 1, 2, 256]}},\n",
    "    {\"class\": \"Conv2d\", \"kargs\": { \"in_channels\":1, \"out_channels\":256, \"kernel_size\":(1,7), \"bias\":False, \"padding\":(0,3), },},\n",
    "    {\"class\": \"ReLU\", \"kargs\": {\"inplace\": True}},\n",
    "    {\"class\": \"BatchNorm2d\", \"kargs\": {\"num_features\":256}},\n",
    "\n",
    "    {\"class\": \"Conv2d\", \"kargs\": { \"in_channels\":256, \"out_channels\":80, \"kernel_size\":(2,7), \"bias\":True, \"padding\":(0,3), },},\n",
    "    {\"class\": \"ReLU\", \"kargs\": {\"inplace\": True}},\n",
    "    {\"class\": \"BatchNorm2d\", \"kargs\": {\"num_features\":80}},\n",
    "    {\"class\": \"Flatten\", \"kargs\": {}},\n",
    "\n",
    "    {\"class\": \"Linear\", \"kargs\": {\"in_features\": 80*256, \"out_features\": 256}}, # 80 units per IQ pair\n",
    "    {\"class\": \"ReLU\", \"kargs\": {\"inplace\": True}},\n",
    "    {\"class\": \"BatchNorm1d\", \"kargs\": {\"num_features\":256}},\n",
    "\n",
    "    {\"class\": \"Linear\", \"kargs\": {\"in_features\": 256, \"out_features\": len(standalone_parameters[\"labels\"])}},\n",
    "]\n",
    "\n",
    "standalone_parameters[\"NUM_LOGS_PER_EPOCH\"] = 10\n",
    "standalone_parameters[\"BEST_MODEL_PATH\"] = \"./best_model.pth\""
   ]
  },
  {
   "cell_type": "code",
   "execution_count": 4,
   "id": "b70f73ff",
   "metadata": {
    "execution": {
     "iopub.execute_input": "2022-03-26T00:23:48.123693Z",
     "iopub.status.busy": "2022-03-26T00:23:48.123045Z",
     "iopub.status.idle": "2022-03-26T00:23:48.126194Z",
     "shell.execute_reply": "2022-03-26T00:23:48.125386Z"
    },
    "papermill": {
     "duration": 0.028853,
     "end_time": "2022-03-26T00:23:48.126349",
     "exception": false,
     "start_time": "2022-03-26T00:23:48.097496",
     "status": "completed"
    },
    "tags": [
     "injected-parameters"
    ]
   },
   "outputs": [],
   "source": [
    "# Parameters\n",
    "parameters = {\n",
    "    \"experiment_name\": \"cnn_1:oracle.run2\",\n",
    "    \"labels\": [\n",
    "        \"3123D52\",\n",
    "        \"3123D65\",\n",
    "        \"3123D79\",\n",
    "        \"3123D80\",\n",
    "        \"3123D54\",\n",
    "        \"3123D70\",\n",
    "        \"3123D7B\",\n",
    "        \"3123D89\",\n",
    "        \"3123D58\",\n",
    "        \"3123D76\",\n",
    "        \"3123D7D\",\n",
    "        \"3123EFE\",\n",
    "        \"3123D64\",\n",
    "        \"3123D78\",\n",
    "        \"3123D7E\",\n",
    "        \"3124E4A\",\n",
    "    ],\n",
    "    \"domains_source\": [8, 32, 50],\n",
    "    \"domains_target\": [14, 20, 26, 38, 44],\n",
    "    \"pickle_name_source\": \"oracle.Run2_10kExamples_stratified_ds.2022A.pkl\",\n",
    "    \"pickle_name_target\": \"oracle.Run2_10kExamples_stratified_ds.2022A.pkl\",\n",
    "    \"device\": \"cuda\",\n",
    "    \"lr\": 0.0001,\n",
    "    \"batch_size\": 128,\n",
    "    \"normalize_source\": False,\n",
    "    \"normalize_target\": False,\n",
    "    \"num_examples_per_domain_per_label_source\": -1,\n",
    "    \"num_examples_per_domain_per_label_target\": -1,\n",
    "    \"torch_default_dtype\": \"torch.float32\",\n",
    "    \"n_epoch\": 50,\n",
    "    \"patience\": 3,\n",
    "    \"criteria_for_best\": \"target_accuracy\",\n",
    "    \"x_net\": [\n",
    "        {\"class\": \"nnReshape\", \"kargs\": {\"shape\": [-1, 1, 2, 256]}},\n",
    "        {\n",
    "            \"class\": \"Conv2d\",\n",
    "            \"kargs\": {\n",
    "                \"in_channels\": 1,\n",
    "                \"out_channels\": 256,\n",
    "                \"kernel_size\": [1, 7],\n",
    "                \"bias\": False,\n",
    "                \"padding\": [0, 3],\n",
    "            },\n",
    "        },\n",
    "        {\"class\": \"ReLU\", \"kargs\": {\"inplace\": True}},\n",
    "        {\"class\": \"BatchNorm2d\", \"kargs\": {\"num_features\": 256}},\n",
    "        {\n",
    "            \"class\": \"Conv2d\",\n",
    "            \"kargs\": {\n",
    "                \"in_channels\": 256,\n",
    "                \"out_channels\": 80,\n",
    "                \"kernel_size\": [2, 7],\n",
    "                \"bias\": True,\n",
    "                \"padding\": [0, 3],\n",
    "            },\n",
    "        },\n",
    "        {\"class\": \"ReLU\", \"kargs\": {\"inplace\": True}},\n",
    "        {\"class\": \"BatchNorm2d\", \"kargs\": {\"num_features\": 80}},\n",
    "        {\"class\": \"Flatten\", \"kargs\": {}},\n",
    "        {\"class\": \"Linear\", \"kargs\": {\"in_features\": 20480, \"out_features\": 256}},\n",
    "        {\"class\": \"ReLU\", \"kargs\": {\"inplace\": True}},\n",
    "        {\"class\": \"BatchNorm1d\", \"kargs\": {\"num_features\": 256}},\n",
    "        {\"class\": \"Linear\", \"kargs\": {\"in_features\": 256, \"out_features\": 16}},\n",
    "    ],\n",
    "    \"NUM_LOGS_PER_EPOCH\": 10,\n",
    "    \"BEST_MODEL_PATH\": \"./best_model.pth\",\n",
    "    \"dataset_seed\": 154325,\n",
    "    \"seed\": 154325,\n",
    "}\n"
   ]
  },
  {
   "cell_type": "code",
   "execution_count": 5,
   "id": "759b56ec",
   "metadata": {
    "execution": {
     "iopub.execute_input": "2022-03-26T00:23:48.164341Z",
     "iopub.status.busy": "2022-03-26T00:23:48.163798Z",
     "iopub.status.idle": "2022-03-26T00:23:48.166277Z",
     "shell.execute_reply": "2022-03-26T00:23:48.166730Z"
    },
    "papermill": {
     "duration": 0.022015,
     "end_time": "2022-03-26T00:23:48.166855",
     "exception": false,
     "start_time": "2022-03-26T00:23:48.144840",
     "status": "completed"
    },
    "tags": []
   },
   "outputs": [],
   "source": [
    "# Set this to True if you want to run this template directly\n",
    "STANDALONE = False\n",
    "if STANDALONE:\n",
    "    print(\"parameters not injected, running with standalone_parameters\")\n",
    "    parameters = standalone_parameters\n",
    "\n",
    "if not 'parameters' in locals() and not 'parameters' in globals():\n",
    "    raise Exception(\"Parameter injection failed\")\n",
    "\n",
    "#Use an easy dict for all the parameters\n",
    "p = EasyDict(parameters)\n",
    "\n",
    "supplied_keys = set(p.keys())\n",
    "\n",
    "if  supplied_keys != required_parameters:\n",
    "    print(\"Parameters are incorrect\")\n",
    "    if len(supplied_keys - required_parameters)>0: print(\"Shouldn't have:\", str(supplied_keys - required_parameters))\n",
    "    if len(required_parameters - supplied_keys)>0: print(\"Need to have:\", str(required_parameters - supplied_keys))\n",
    "    raise RuntimeError(\"Parameters are incorrect\")\n",
    "\n"
   ]
  },
  {
   "cell_type": "code",
   "execution_count": 6,
   "id": "d5c66a71",
   "metadata": {
    "execution": {
     "iopub.execute_input": "2022-03-26T00:23:48.201725Z",
     "iopub.status.busy": "2022-03-26T00:23:48.201356Z",
     "iopub.status.idle": "2022-03-26T00:23:48.205474Z",
     "shell.execute_reply": "2022-03-26T00:23:48.205109Z"
    },
    "papermill": {
     "duration": 0.022102,
     "end_time": "2022-03-26T00:23:48.205543",
     "exception": false,
     "start_time": "2022-03-26T00:23:48.183441",
     "status": "completed"
    },
    "tags": []
   },
   "outputs": [],
   "source": [
    "###################################\n",
    "# Set the RNGs and make it all deterministic\n",
    "###################################\n",
    "np.random.seed(p.seed)\n",
    "random.seed(p.seed)\n",
    "torch.manual_seed(p.seed)\n",
    "\n",
    "torch.use_deterministic_algorithms(True) "
   ]
  },
  {
   "cell_type": "code",
   "execution_count": 7,
   "id": "92a65876",
   "metadata": {
    "execution": {
     "iopub.execute_input": "2022-03-26T00:23:48.239714Z",
     "iopub.status.busy": "2022-03-26T00:23:48.239331Z",
     "iopub.status.idle": "2022-03-26T00:23:48.242047Z",
     "shell.execute_reply": "2022-03-26T00:23:48.242526Z"
    },
    "papermill": {
     "duration": 0.020725,
     "end_time": "2022-03-26T00:23:48.242648",
     "exception": false,
     "start_time": "2022-03-26T00:23:48.221923",
     "status": "completed"
    },
    "tags": []
   },
   "outputs": [],
   "source": [
    "torch.set_default_dtype(eval(p.torch_default_dtype))"
   ]
  },
  {
   "cell_type": "code",
   "execution_count": 8,
   "id": "f1a32f01",
   "metadata": {
    "execution": {
     "iopub.execute_input": "2022-03-26T00:23:48.280602Z",
     "iopub.status.busy": "2022-03-26T00:23:48.280045Z",
     "iopub.status.idle": "2022-03-26T00:23:48.317869Z",
     "shell.execute_reply": "2022-03-26T00:23:48.317060Z"
    },
    "papermill": {
     "duration": 0.055567,
     "end_time": "2022-03-26T00:23:48.318023",
     "exception": false,
     "start_time": "2022-03-26T00:23:48.262456",
     "status": "completed"
    },
    "tags": []
   },
   "outputs": [],
   "source": [
    "###################################\n",
    "# Build the network(s)\n",
    "# Note: It's critical to do this AFTER setting the RNG\n",
    "###################################\n",
    "x_net = build_sequential(p.x_net)"
   ]
  },
  {
   "cell_type": "code",
   "execution_count": 9,
   "id": "a276cd83",
   "metadata": {
    "execution": {
     "iopub.execute_input": "2022-03-26T00:23:48.354208Z",
     "iopub.status.busy": "2022-03-26T00:23:48.353845Z",
     "iopub.status.idle": "2022-03-26T00:23:48.355750Z",
     "shell.execute_reply": "2022-03-26T00:23:48.356047Z"
    },
    "papermill": {
     "duration": 0.018877,
     "end_time": "2022-03-26T00:23:48.356127",
     "exception": false,
     "start_time": "2022-03-26T00:23:48.337250",
     "status": "completed"
    },
    "tags": []
   },
   "outputs": [],
   "source": [
    "start_time_secs = time.time()"
   ]
  },
  {
   "cell_type": "code",
   "execution_count": 10,
   "id": "de702e48",
   "metadata": {
    "execution": {
     "iopub.execute_input": "2022-03-26T00:23:48.399505Z",
     "iopub.status.busy": "2022-03-26T00:23:48.388711Z",
     "iopub.status.idle": "2022-03-26T00:24:10.079727Z",
     "shell.execute_reply": "2022-03-26T00:24:10.078945Z"
    },
    "papermill": {
     "duration": 21.707248,
     "end_time": "2022-03-26T00:24:10.079919",
     "exception": false,
     "start_time": "2022-03-26T00:23:48.372671",
     "status": "completed"
    },
    "tags": []
   },
   "outputs": [],
   "source": [
    "def wrap_in_dataloader(p, ds):\n",
    "    return torch.utils.data.DataLoader(\n",
    "        ds,\n",
    "        batch_size=p.batch_size,\n",
    "        shuffle=True,\n",
    "        num_workers=1,\n",
    "        persistent_workers=True,\n",
    "        prefetch_factor=50,\n",
    "        pin_memory=True\n",
    "    )\n",
    "\n",
    "taf_source = Traditional_Accessor_Factory(\n",
    "    labels=p.labels,\n",
    "    domains=p.domains_source,\n",
    "    num_examples_per_domain_per_label=p.num_examples_per_domain_per_label_source,\n",
    "    pickle_path=os.path.join(get_datasets_base_path(), p.pickle_name_source),\n",
    "    seed=p.dataset_seed\n",
    ")\n",
    "train_original_source, val_original_source, test_original_source = \\\n",
    "    taf_source.get_train(), taf_source.get_val(), taf_source.get_test()\n",
    "\n",
    "\n",
    "taf_target = Traditional_Accessor_Factory(\n",
    "    labels=p.labels,\n",
    "    domains=p.domains_target,\n",
    "    num_examples_per_domain_per_label=p.num_examples_per_domain_per_label_source,\n",
    "    pickle_path=os.path.join(get_datasets_base_path(), p.pickle_name_target),\n",
    "    seed=p.dataset_seed\n",
    ")\n",
    "train_original_target, val_original_target, test_original_target = \\\n",
    "    taf_target.get_train(), taf_target.get_val(), taf_target.get_test()\n",
    "\n",
    "\n",
    "# For CNN We only use X and Y. And we only train on the source.\n",
    "# Properly form the data using a transform lambda and Lazy_Map. Finally wrap them in a dataloader\n",
    "\n",
    "transform_lambda = lambda ex: ex[:2] # Strip the tuple to just (x,y)\n",
    "\n",
    "\n",
    "train_processed_source = wrap_in_dataloader(\n",
    "    p,\n",
    "    Lazy_Map(train_original_source, transform_lambda)\n",
    ")\n",
    "val_processed_source = wrap_in_dataloader(\n",
    "    p,\n",
    "    Lazy_Map(val_original_source, transform_lambda)\n",
    ")\n",
    "test_processed_source = wrap_in_dataloader(\n",
    "    p,\n",
    "    Lazy_Map(test_original_source, transform_lambda)\n",
    ")\n",
    "\n",
    "train_processed_target = wrap_in_dataloader(\n",
    "    p,\n",
    "    Lazy_Map(train_original_target, transform_lambda)\n",
    ")\n",
    "val_processed_target = wrap_in_dataloader(\n",
    "    p,\n",
    "    Lazy_Map(val_original_target, transform_lambda)\n",
    ")\n",
    "test_processed_target  = wrap_in_dataloader(\n",
    "    p,\n",
    "    Lazy_Map(test_original_target, transform_lambda)\n",
    ")\n",
    "\n",
    "\n",
    "\n",
    "datasets = EasyDict({\n",
    "    \"source\": {\n",
    "        \"original\": {\"train\":train_original_source, \"val\":val_original_source, \"test\":test_original_source},\n",
    "        \"processed\": {\"train\":train_processed_source, \"val\":val_processed_source, \"test\":test_processed_source}\n",
    "    },\n",
    "    \"target\": {\n",
    "        \"original\": {\"train\":train_original_target, \"val\":val_original_target, \"test\":test_original_target},\n",
    "        \"processed\": {\"train\":train_processed_target, \"val\":val_processed_target, \"test\":test_processed_target}\n",
    "    },\n",
    "})"
   ]
  },
  {
   "cell_type": "code",
   "execution_count": 11,
   "id": "a11b26bd",
   "metadata": {
    "execution": {
     "iopub.execute_input": "2022-03-26T00:24:10.246767Z",
     "iopub.status.busy": "2022-03-26T00:24:10.245948Z",
     "iopub.status.idle": "2022-03-26T00:24:15.993169Z",
     "shell.execute_reply": "2022-03-26T00:24:15.993865Z"
    },
    "papermill": {
     "duration": 5.894652,
     "end_time": "2022-03-26T00:24:15.994086",
     "exception": false,
     "start_time": "2022-03-26T00:24:10.099434",
     "status": "completed"
    },
    "tags": []
   },
   "outputs": [
    {
     "data": {
      "text/plain": [
       "torch.float32"
      ]
     },
     "execution_count": 11,
     "metadata": {},
     "output_type": "execute_result"
    }
   ],
   "source": [
    "ep = next(iter(test_processed_target))\n",
    "ep[0].dtype"
   ]
  },
  {
   "cell_type": "code",
   "execution_count": 12,
   "id": "19425fad",
   "metadata": {
    "execution": {
     "iopub.execute_input": "2022-03-26T00:24:16.033291Z",
     "iopub.status.busy": "2022-03-26T00:24:16.032716Z",
     "iopub.status.idle": "2022-03-26T00:24:16.085114Z",
     "shell.execute_reply": "2022-03-26T00:24:16.085807Z"
    },
    "papermill": {
     "duration": 0.073342,
     "end_time": "2022-03-26T00:24:16.086023",
     "exception": false,
     "start_time": "2022-03-26T00:24:16.012681",
     "status": "completed"
    },
    "tags": []
   },
   "outputs": [],
   "source": [
    "model = Configurable_Vanilla(\n",
    "    x_net=x_net,\n",
    "    label_loss_object=torch.nn.NLLLoss(),\n",
    "    learning_rate=p.lr\n",
    ")"
   ]
  },
  {
   "cell_type": "code",
   "execution_count": 13,
   "id": "7f6d4f2c",
   "metadata": {
    "execution": {
     "iopub.execute_input": "2022-03-26T00:24:16.128948Z",
     "iopub.status.busy": "2022-03-26T00:24:16.128575Z",
     "iopub.status.idle": "2022-03-26T00:30:00.784883Z",
     "shell.execute_reply": "2022-03-26T00:30:00.784523Z"
    },
    "papermill": {
     "duration": 344.675877,
     "end_time": "2022-03-26T00:30:00.784975",
     "exception": false,
     "start_time": "2022-03-26T00:24:16.109098",
     "status": "completed"
    },
    "tags": []
   },
   "outputs": [
    {
     "name": "stdout",
     "output_type": "stream",
     "text": [
      "epoch: 1, [batch: 1 / 2625], examples_per_second: 557.0581, train_label_loss: 2.7741, \n"
     ]
    },
    {
     "name": "stdout",
     "output_type": "stream",
     "text": [
      "epoch: 1, [batch: 263 / 2625], examples_per_second: 10731.2908, train_label_loss: 2.3232, \n"
     ]
    },
    {
     "name": "stdout",
     "output_type": "stream",
     "text": [
      "epoch: 1, [batch: 525 / 2625], examples_per_second: 10737.7174, train_label_loss: 2.1296, \n"
     ]
    },
    {
     "name": "stdout",
     "output_type": "stream",
     "text": [
      "epoch: 1, [batch: 788 / 2625], examples_per_second: 10737.5922, train_label_loss: 1.8327, \n"
     ]
    },
    {
     "name": "stdout",
     "output_type": "stream",
     "text": [
      "epoch: 1, [batch: 1050 / 2625], examples_per_second: 10743.8276, train_label_loss: 1.6824, \n"
     ]
    },
    {
     "name": "stdout",
     "output_type": "stream",
     "text": [
      "epoch: 1, [batch: 1313 / 2625], examples_per_second: 10694.7434, train_label_loss: 1.3845, \n"
     ]
    },
    {
     "name": "stdout",
     "output_type": "stream",
     "text": [
      "epoch: 1, [batch: 1575 / 2625], examples_per_second: 10635.3658, train_label_loss: 1.4195, \n"
     ]
    },
    {
     "name": "stdout",
     "output_type": "stream",
     "text": [
      "epoch: 1, [batch: 1837 / 2625], examples_per_second: 10690.4724, train_label_loss: 1.2143, \n"
     ]
    },
    {
     "name": "stdout",
     "output_type": "stream",
     "text": [
      "epoch: 1, [batch: 2100 / 2625], examples_per_second: 10665.0790, train_label_loss: 1.1542, \n"
     ]
    },
    {
     "name": "stdout",
     "output_type": "stream",
     "text": [
      "epoch: 1, [batch: 2362 / 2625], examples_per_second: 10705.5109, train_label_loss: 1.0014, \n"
     ]
    },
    {
     "name": "stdout",
     "output_type": "stream",
     "text": [
      "=============================================================\n",
      "epoch: 1, source_val_acc_label: 0.6239, source_val_label_loss: 1.1031, target_val_acc_label: 0.0601, target_val_label_loss: 8.9301, \n",
      "=============================================================\n"
     ]
    },
    {
     "name": "stdout",
     "output_type": "stream",
     "text": [
      "New best\n",
      "epoch: 2, [batch: 1 / 2625], examples_per_second: 23.1402, train_label_loss: 0.9074, \n"
     ]
    },
    {
     "name": "stdout",
     "output_type": "stream",
     "text": [
      "epoch: 2, [batch: 263 / 2625], examples_per_second: 10668.7716, train_label_loss: 0.8964, \n"
     ]
    },
    {
     "name": "stdout",
     "output_type": "stream",
     "text": [
      "epoch: 2, [batch: 525 / 2625], examples_per_second: 10651.5811, train_label_loss: 0.8523, \n"
     ]
    },
    {
     "name": "stdout",
     "output_type": "stream",
     "text": [
      "epoch: 2, [batch: 788 / 2625], examples_per_second: 10606.9272, train_label_loss: 0.9087, \n"
     ]
    },
    {
     "name": "stdout",
     "output_type": "stream",
     "text": [
      "epoch: 2, [batch: 1050 / 2625], examples_per_second: 10592.2821, train_label_loss: 0.7418, \n"
     ]
    },
    {
     "name": "stdout",
     "output_type": "stream",
     "text": [
      "epoch: 2, [batch: 1313 / 2625], examples_per_second: 10557.1732, train_label_loss: 0.7397, \n"
     ]
    },
    {
     "name": "stdout",
     "output_type": "stream",
     "text": [
      "epoch: 2, [batch: 1575 / 2625], examples_per_second: 10618.7244, train_label_loss: 0.5931, \n"
     ]
    },
    {
     "name": "stdout",
     "output_type": "stream",
     "text": [
      "epoch: 2, [batch: 1837 / 2625], examples_per_second: 10681.3258, train_label_loss: 0.6579, \n"
     ]
    },
    {
     "name": "stdout",
     "output_type": "stream",
     "text": [
      "epoch: 2, [batch: 2100 / 2625], examples_per_second: 10625.9476, train_label_loss: 0.6033, \n"
     ]
    },
    {
     "name": "stdout",
     "output_type": "stream",
     "text": [
      "epoch: 2, [batch: 2362 / 2625], examples_per_second: 10672.7131, train_label_loss: 0.7592, \n"
     ]
    },
    {
     "name": "stdout",
     "output_type": "stream",
     "text": [
      "=============================================================\n",
      "epoch: 2, source_val_acc_label: 0.8057, source_val_label_loss: 0.5842, target_val_acc_label: 0.0711, target_val_label_loss: 12.4590, \n",
      "=============================================================\n"
     ]
    },
    {
     "name": "stdout",
     "output_type": "stream",
     "text": [
      "New best\n",
      "epoch: 3, [batch: 1 / 2625], examples_per_second: 25.4386, train_label_loss: 0.5289, \n"
     ]
    },
    {
     "name": "stdout",
     "output_type": "stream",
     "text": [
      "epoch: 3, [batch: 263 / 2625], examples_per_second: 10599.5992, train_label_loss: 0.4146, \n"
     ]
    },
    {
     "name": "stdout",
     "output_type": "stream",
     "text": [
      "epoch: 3, [batch: 525 / 2625], examples_per_second: 10569.7053, train_label_loss: 0.4460, \n"
     ]
    },
    {
     "name": "stdout",
     "output_type": "stream",
     "text": [
      "epoch: 3, [batch: 788 / 2625], examples_per_second: 10572.7891, train_label_loss: 0.4327, \n"
     ]
    },
    {
     "name": "stdout",
     "output_type": "stream",
     "text": [
      "epoch: 3, [batch: 1050 / 2625], examples_per_second: 10680.3834, train_label_loss: 0.5369, \n"
     ]
    },
    {
     "name": "stdout",
     "output_type": "stream",
     "text": [
      "epoch: 3, [batch: 1313 / 2625], examples_per_second: 10708.9552, train_label_loss: 0.3842, \n"
     ]
    },
    {
     "name": "stdout",
     "output_type": "stream",
     "text": [
      "epoch: 3, [batch: 1575 / 2625], examples_per_second: 10701.7251, train_label_loss: 0.4622, \n"
     ]
    },
    {
     "name": "stdout",
     "output_type": "stream",
     "text": [
      "epoch: 3, [batch: 1837 / 2625], examples_per_second: 10724.9151, train_label_loss: 0.3747, \n"
     ]
    },
    {
     "name": "stdout",
     "output_type": "stream",
     "text": [
      "epoch: 3, [batch: 2100 / 2625], examples_per_second: 10674.3003, train_label_loss: 0.4258, \n"
     ]
    },
    {
     "name": "stdout",
     "output_type": "stream",
     "text": [
      "epoch: 3, [batch: 2362 / 2625], examples_per_second: 10714.8361, train_label_loss: 0.3976, \n"
     ]
    },
    {
     "name": "stdout",
     "output_type": "stream",
     "text": [
      "=============================================================\n",
      "epoch: 3, source_val_acc_label: 0.8496, source_val_label_loss: 0.4442, target_val_acc_label: 0.0703, target_val_label_loss: 15.6960, \n",
      "=============================================================\n"
     ]
    },
    {
     "name": "stdout",
     "output_type": "stream",
     "text": [
      "epoch: 4, [batch: 1 / 2625], examples_per_second: 25.7774, train_label_loss: 0.2915, \n"
     ]
    },
    {
     "name": "stdout",
     "output_type": "stream",
     "text": [
      "epoch: 4, [batch: 263 / 2625], examples_per_second: 10601.9784, train_label_loss: 0.4683, \n"
     ]
    },
    {
     "name": "stdout",
     "output_type": "stream",
     "text": [
      "epoch: 4, [batch: 525 / 2625], examples_per_second: 10629.5727, train_label_loss: 0.4361, \n"
     ]
    },
    {
     "name": "stdout",
     "output_type": "stream",
     "text": [
      "epoch: 4, [batch: 788 / 2625], examples_per_second: 10797.4050, train_label_loss: 0.3027, \n"
     ]
    },
    {
     "name": "stdout",
     "output_type": "stream",
     "text": [
      "epoch: 4, [batch: 1050 / 2625], examples_per_second: 10769.6243, train_label_loss: 0.4045, \n"
     ]
    },
    {
     "name": "stdout",
     "output_type": "stream",
     "text": [
      "epoch: 4, [batch: 1313 / 2625], examples_per_second: 10672.5115, train_label_loss: 0.7566, \n"
     ]
    },
    {
     "name": "stdout",
     "output_type": "stream",
     "text": [
      "epoch: 4, [batch: 1575 / 2625], examples_per_second: 10686.9952, train_label_loss: 0.3598, \n"
     ]
    },
    {
     "name": "stdout",
     "output_type": "stream",
     "text": [
      "epoch: 4, [batch: 1837 / 2625], examples_per_second: 10654.9610, train_label_loss: 0.4482, \n"
     ]
    },
    {
     "name": "stdout",
     "output_type": "stream",
     "text": [
      "epoch: 4, [batch: 2100 / 2625], examples_per_second: 10736.8785, train_label_loss: 0.3494, \n"
     ]
    },
    {
     "name": "stdout",
     "output_type": "stream",
     "text": [
      "epoch: 4, [batch: 2362 / 2625], examples_per_second: 10749.0403, train_label_loss: 0.4782, \n"
     ]
    },
    {
     "name": "stdout",
     "output_type": "stream",
     "text": [
      "=============================================================\n",
      "epoch: 4, source_val_acc_label: 0.8433, source_val_label_loss: 0.4247, target_val_acc_label: 0.0815, target_val_label_loss: 17.3532, \n",
      "=============================================================\n"
     ]
    },
    {
     "name": "stdout",
     "output_type": "stream",
     "text": [
      "New best\n",
      "epoch: 5, [batch: 1 / 2625], examples_per_second: 25.7742, train_label_loss: 0.4712, \n"
     ]
    },
    {
     "name": "stdout",
     "output_type": "stream",
     "text": [
      "epoch: 5, [batch: 263 / 2625], examples_per_second: 10371.9916, train_label_loss: 0.3219, \n"
     ]
    },
    {
     "name": "stdout",
     "output_type": "stream",
     "text": [
      "epoch: 5, [batch: 525 / 2625], examples_per_second: 10551.4596, train_label_loss: 0.2326, \n"
     ]
    },
    {
     "name": "stdout",
     "output_type": "stream",
     "text": [
      "epoch: 5, [batch: 788 / 2625], examples_per_second: 10679.0231, train_label_loss: 0.3573, \n"
     ]
    },
    {
     "name": "stdout",
     "output_type": "stream",
     "text": [
      "epoch: 5, [batch: 1050 / 2625], examples_per_second: 10596.6526, train_label_loss: 0.2777, \n"
     ]
    },
    {
     "name": "stdout",
     "output_type": "stream",
     "text": [
      "epoch: 5, [batch: 1313 / 2625], examples_per_second: 10656.0240, train_label_loss: 0.3693, \n"
     ]
    },
    {
     "name": "stdout",
     "output_type": "stream",
     "text": [
      "epoch: 5, [batch: 1575 / 2625], examples_per_second: 10650.8964, train_label_loss: 0.2602, \n"
     ]
    },
    {
     "name": "stdout",
     "output_type": "stream",
     "text": [
      "epoch: 5, [batch: 1837 / 2625], examples_per_second: 10707.5931, train_label_loss: 0.2929, \n"
     ]
    },
    {
     "name": "stdout",
     "output_type": "stream",
     "text": [
      "epoch: 5, [batch: 2100 / 2625], examples_per_second: 10634.3339, train_label_loss: 0.3466, \n"
     ]
    },
    {
     "name": "stdout",
     "output_type": "stream",
     "text": [
      "epoch: 5, [batch: 2362 / 2625], examples_per_second: 10813.5099, train_label_loss: 0.2571, \n"
     ]
    },
    {
     "name": "stdout",
     "output_type": "stream",
     "text": [
      "=============================================================\n",
      "epoch: 5, source_val_acc_label: 0.8819, source_val_label_loss: 0.3324, target_val_acc_label: 0.0828, target_val_label_loss: 17.9405, \n",
      "=============================================================\n"
     ]
    },
    {
     "name": "stdout",
     "output_type": "stream",
     "text": [
      "New best\n",
      "epoch: 6, [batch: 1 / 2625], examples_per_second: 25.5254, train_label_loss: 0.2389, \n"
     ]
    },
    {
     "name": "stdout",
     "output_type": "stream",
     "text": [
      "epoch: 6, [batch: 263 / 2625], examples_per_second: 10709.4005, train_label_loss: 0.2738, \n"
     ]
    },
    {
     "name": "stdout",
     "output_type": "stream",
     "text": [
      "epoch: 6, [batch: 525 / 2625], examples_per_second: 10741.8002, train_label_loss: 0.2322, \n"
     ]
    },
    {
     "name": "stdout",
     "output_type": "stream",
     "text": [
      "epoch: 6, [batch: 788 / 2625], examples_per_second: 10693.5487, train_label_loss: 0.1983, \n"
     ]
    },
    {
     "name": "stdout",
     "output_type": "stream",
     "text": [
      "epoch: 6, [batch: 1050 / 2625], examples_per_second: 10725.5816, train_label_loss: 0.2501, \n"
     ]
    },
    {
     "name": "stdout",
     "output_type": "stream",
     "text": [
      "epoch: 6, [batch: 1313 / 2625], examples_per_second: 10733.6553, train_label_loss: 0.2568, \n"
     ]
    },
    {
     "name": "stdout",
     "output_type": "stream",
     "text": [
      "epoch: 6, [batch: 1575 / 2625], examples_per_second: 10763.8044, train_label_loss: 0.3387, \n"
     ]
    },
    {
     "name": "stdout",
     "output_type": "stream",
     "text": [
      "epoch: 6, [batch: 1837 / 2625], examples_per_second: 10767.6408, train_label_loss: 0.3026, \n"
     ]
    },
    {
     "name": "stdout",
     "output_type": "stream",
     "text": [
      "epoch: 6, [batch: 2100 / 2625], examples_per_second: 10712.3107, train_label_loss: 0.1853, \n"
     ]
    },
    {
     "name": "stdout",
     "output_type": "stream",
     "text": [
      "epoch: 6, [batch: 2362 / 2625], examples_per_second: 10784.8097, train_label_loss: 0.2385, \n"
     ]
    },
    {
     "name": "stdout",
     "output_type": "stream",
     "text": [
      "=============================================================\n",
      "epoch: 6, source_val_acc_label: 0.8324, source_val_label_loss: 0.4306, target_val_acc_label: 0.0670, target_val_label_loss: 17.6983, \n",
      "=============================================================\n"
     ]
    },
    {
     "name": "stdout",
     "output_type": "stream",
     "text": [
      "epoch: 7, [batch: 1 / 2625], examples_per_second: 25.8355, train_label_loss: 0.2700, \n"
     ]
    },
    {
     "name": "stdout",
     "output_type": "stream",
     "text": [
      "epoch: 7, [batch: 263 / 2625], examples_per_second: 10744.4563, train_label_loss: 0.1688, \n"
     ]
    },
    {
     "name": "stdout",
     "output_type": "stream",
     "text": [
      "epoch: 7, [batch: 525 / 2625], examples_per_second: 10778.9047, train_label_loss: 0.1666, \n"
     ]
    },
    {
     "name": "stdout",
     "output_type": "stream",
     "text": [
      "epoch: 7, [batch: 788 / 2625], examples_per_second: 10732.2684, train_label_loss: 0.2607, \n"
     ]
    },
    {
     "name": "stdout",
     "output_type": "stream",
     "text": [
      "epoch: 7, [batch: 1050 / 2625], examples_per_second: 10751.7443, train_label_loss: 0.2615, \n"
     ]
    },
    {
     "name": "stdout",
     "output_type": "stream",
     "text": [
      "epoch: 7, [batch: 1313 / 2625], examples_per_second: 10727.9792, train_label_loss: 0.2913, \n"
     ]
    },
    {
     "name": "stdout",
     "output_type": "stream",
     "text": [
      "epoch: 7, [batch: 1575 / 2625], examples_per_second: 10751.5372, train_label_loss: 0.2093, \n"
     ]
    },
    {
     "name": "stdout",
     "output_type": "stream",
     "text": [
      "epoch: 7, [batch: 1837 / 2625], examples_per_second: 10662.9760, train_label_loss: 0.1363, \n"
     ]
    },
    {
     "name": "stdout",
     "output_type": "stream",
     "text": [
      "epoch: 7, [batch: 2100 / 2625], examples_per_second: 10759.6847, train_label_loss: 0.2262, \n"
     ]
    },
    {
     "name": "stdout",
     "output_type": "stream",
     "text": [
      "epoch: 7, [batch: 2362 / 2625], examples_per_second: 10734.3790, train_label_loss: 0.2357, \n"
     ]
    },
    {
     "name": "stdout",
     "output_type": "stream",
     "text": [
      "=============================================================\n",
      "epoch: 7, source_val_acc_label: 0.8205, source_val_label_loss: 0.4947, target_val_acc_label: 0.0798, target_val_label_loss: 22.2792, \n",
      "=============================================================\n"
     ]
    },
    {
     "name": "stdout",
     "output_type": "stream",
     "text": [
      "epoch: 8, [batch: 1 / 2625], examples_per_second: 25.8611, train_label_loss: 0.2003, \n"
     ]
    },
    {
     "name": "stdout",
     "output_type": "stream",
     "text": [
      "epoch: 8, [batch: 263 / 2625], examples_per_second: 10743.7259, train_label_loss: 0.1794, \n"
     ]
    },
    {
     "name": "stdout",
     "output_type": "stream",
     "text": [
      "epoch: 8, [batch: 525 / 2625], examples_per_second: 10753.7270, train_label_loss: 0.3464, \n"
     ]
    },
    {
     "name": "stdout",
     "output_type": "stream",
     "text": [
      "epoch: 8, [batch: 788 / 2625], examples_per_second: 10761.6208, train_label_loss: 0.2671, \n"
     ]
    },
    {
     "name": "stdout",
     "output_type": "stream",
     "text": [
      "epoch: 8, [batch: 1050 / 2625], examples_per_second: 10730.7774, train_label_loss: 0.1300, \n"
     ]
    },
    {
     "name": "stdout",
     "output_type": "stream",
     "text": [
      "epoch: 8, [batch: 1313 / 2625], examples_per_second: 10767.6586, train_label_loss: 0.1433, \n"
     ]
    },
    {
     "name": "stdout",
     "output_type": "stream",
     "text": [
      "epoch: 8, [batch: 1575 / 2625], examples_per_second: 10751.5389, train_label_loss: 0.1381, \n"
     ]
    },
    {
     "name": "stdout",
     "output_type": "stream",
     "text": [
      "epoch: 8, [batch: 1837 / 2625], examples_per_second: 10739.8564, train_label_loss: 0.2357, \n"
     ]
    },
    {
     "name": "stdout",
     "output_type": "stream",
     "text": [
      "epoch: 8, [batch: 2100 / 2625], examples_per_second: 10758.8263, train_label_loss: 0.2495, \n"
     ]
    },
    {
     "name": "stdout",
     "output_type": "stream",
     "text": [
      "epoch: 8, [batch: 2362 / 2625], examples_per_second: 10729.8827, train_label_loss: 0.1768, \n"
     ]
    },
    {
     "name": "stdout",
     "output_type": "stream",
     "text": [
      "=============================================================\n",
      "epoch: 8, source_val_acc_label: 0.8461, source_val_label_loss: 0.4150, target_val_acc_label: 0.0824, target_val_label_loss: 20.8342, \n",
      "=============================================================\n"
     ]
    },
    {
     "name": "stdout",
     "output_type": "stream",
     "text": [
      "epoch: 9, [batch: 1 / 2625], examples_per_second: 26.0302, train_label_loss: 0.3093, \n"
     ]
    },
    {
     "name": "stdout",
     "output_type": "stream",
     "text": [
      "epoch: 9, [batch: 263 / 2625], examples_per_second: 10866.0406, train_label_loss: 0.3668, \n"
     ]
    },
    {
     "name": "stdout",
     "output_type": "stream",
     "text": [
      "epoch: 9, [batch: 525 / 2625], examples_per_second: 10722.4240, train_label_loss: 0.1366, \n"
     ]
    },
    {
     "name": "stdout",
     "output_type": "stream",
     "text": [
      "epoch: 9, [batch: 788 / 2625], examples_per_second: 10738.4496, train_label_loss: 0.1972, \n"
     ]
    },
    {
     "name": "stdout",
     "output_type": "stream",
     "text": [
      "epoch: 9, [batch: 1050 / 2625], examples_per_second: 10689.6478, train_label_loss: 0.1374, \n"
     ]
    },
    {
     "name": "stdout",
     "output_type": "stream",
     "text": [
      "epoch: 9, [batch: 1313 / 2625], examples_per_second: 10713.7689, train_label_loss: 0.2270, \n"
     ]
    },
    {
     "name": "stdout",
     "output_type": "stream",
     "text": [
      "epoch: 9, [batch: 1575 / 2625], examples_per_second: 10804.1582, train_label_loss: 0.1383, \n"
     ]
    },
    {
     "name": "stdout",
     "output_type": "stream",
     "text": [
      "epoch: 9, [batch: 1837 / 2625], examples_per_second: 10763.0104, train_label_loss: 0.1098, \n"
     ]
    },
    {
     "name": "stdout",
     "output_type": "stream",
     "text": [
      "epoch: 9, [batch: 2100 / 2625], examples_per_second: 10812.2298, train_label_loss: 0.3221, \n"
     ]
    },
    {
     "name": "stdout",
     "output_type": "stream",
     "text": [
      "epoch: 9, [batch: 2362 / 2625], examples_per_second: 10829.8714, train_label_loss: 0.1044, \n"
     ]
    },
    {
     "name": "stdout",
     "output_type": "stream",
     "text": [
      "=============================================================\n",
      "epoch: 9, source_val_acc_label: 0.8765, source_val_label_loss: 0.3295, target_val_acc_label: 0.0756, target_val_label_loss: 23.1341, \n",
      "=============================================================\n"
     ]
    },
    {
     "name": "stdout",
     "output_type": "stream",
     "text": [
      "Patience (3) exhausted\n"
     ]
    }
   ],
   "source": [
    "jig = Vanilla_Train_Eval_Test_Jig(\n",
    "    model=model,\n",
    "    path_to_best_model=p.BEST_MODEL_PATH,\n",
    "    device=p.device,\n",
    "    label_loss_object=torch.nn.NLLLoss(),\n",
    ")\n",
    "\n",
    "jig.train(\n",
    "    train_iterable=datasets.source.processed.train,\n",
    "    source_val_iterable=datasets.source.processed.val,\n",
    "    target_val_iterable=datasets.target.processed.val,\n",
    "    patience=p.patience,\n",
    "    num_epochs=p.n_epoch,\n",
    "    num_logs_per_epoch=p.NUM_LOGS_PER_EPOCH,\n",
    "    criteria_for_best=p.criteria_for_best\n",
    ")"
   ]
  },
  {
   "cell_type": "code",
   "execution_count": 14,
   "id": "4bc2ac17",
   "metadata": {
    "execution": {
     "iopub.execute_input": "2022-03-26T00:30:00.879250Z",
     "iopub.status.busy": "2022-03-26T00:30:00.878854Z",
     "iopub.status.idle": "2022-03-26T00:30:00.880819Z",
     "shell.execute_reply": "2022-03-26T00:30:00.881176Z"
    },
    "papermill": {
     "duration": 0.052595,
     "end_time": "2022-03-26T00:30:00.881285",
     "exception": false,
     "start_time": "2022-03-26T00:30:00.828690",
     "status": "completed"
    },
    "tags": []
   },
   "outputs": [],
   "source": [
    "total_experiment_time_secs = time.time() - start_time_secs"
   ]
  },
  {
   "cell_type": "code",
   "execution_count": 15,
   "id": "cae88f23",
   "metadata": {
    "execution": {
     "iopub.execute_input": "2022-03-26T00:30:00.984673Z",
     "iopub.status.busy": "2022-03-26T00:30:00.982910Z",
     "iopub.status.idle": "2022-03-26T00:30:54.740901Z",
     "shell.execute_reply": "2022-03-26T00:30:54.741241Z"
    },
    "papermill": {
     "duration": 53.81405,
     "end_time": "2022-03-26T00:30:54.741371",
     "exception": false,
     "start_time": "2022-03-26T00:30:00.927321",
     "status": "completed"
    },
    "tags": []
   },
   "outputs": [],
   "source": [
    "source_test_label_accuracy, source_test_label_loss = jig.test(datasets.source.processed.test)\n",
    "target_test_label_accuracy, target_test_label_loss = jig.test(datasets.target.processed.test)\n",
    "\n",
    "source_val_label_accuracy, source_val_label_loss = jig.test(datasets.source.processed.val)\n",
    "target_val_label_accuracy, target_val_label_loss = jig.test(datasets.target.processed.val)\n",
    "\n",
    "history = jig.get_history()\n",
    "\n",
    "total_epochs_trained = len(history[\"epoch_indices\"])\n",
    "\n",
    "val_dl = wrap_in_dataloader(p, Sequence_Aggregator((datasets.source.original.val, datasets.target.original.val)))\n",
    "\n",
    "confusion = confusion_by_domain_over_dataloader(model, p.device, val_dl, forward_uses_domain=False)\n",
    "per_domain_accuracy = per_domain_accuracy_from_confusion(confusion)\n",
    "\n",
    "# Add a key to per_domain_accuracy for if it was a source domain\n",
    "for domain, accuracy in per_domain_accuracy.items():\n",
    "    per_domain_accuracy[domain] = {\n",
    "        \"accuracy\": accuracy,\n",
    "        \"source?\": domain in p.domains_source\n",
    "    }\n",
    "\n",
    "# Do an independent accuracy assesment JUST TO BE SURE!\n",
    "# _source_test_label_accuracy = independent_accuracy_assesment(model, datasets.source.processed.test, p.device)\n",
    "# _target_test_label_accuracy = independent_accuracy_assesment(model, datasets.target.processed.test, p.device)\n",
    "# _source_val_label_accuracy = independent_accuracy_assesment(model, datasets.source.processed.val, p.device)\n",
    "# _target_val_label_accuracy = independent_accuracy_assesment(model, datasets.target.processed.val, p.device)\n",
    "\n",
    "# assert(_source_test_label_accuracy == source_test_label_accuracy)\n",
    "# assert(_target_test_label_accuracy == target_test_label_accuracy)\n",
    "# assert(_source_val_label_accuracy == source_val_label_accuracy)\n",
    "# assert(_target_val_label_accuracy == target_val_label_accuracy)\n",
    "\n",
    "###################################\n",
    "# Write out the results\n",
    "###################################\n",
    "\n",
    "experiment = {\n",
    "    \"experiment_name\": p.experiment_name,\n",
    "    \"parameters\": p,\n",
    "    \"results\": {\n",
    "        \"source_test_label_accuracy\": source_test_label_accuracy,\n",
    "        \"source_test_label_loss\": source_test_label_loss,\n",
    "        \"target_test_label_accuracy\": target_test_label_accuracy,\n",
    "        \"target_test_label_loss\": target_test_label_loss,\n",
    "        \"source_val_label_accuracy\": source_val_label_accuracy,\n",
    "        \"source_val_label_loss\": source_val_label_loss,\n",
    "        \"target_val_label_accuracy\": target_val_label_accuracy,\n",
    "        \"target_val_label_loss\": target_val_label_loss,\n",
    "        \"total_epochs_trained\": total_epochs_trained,\n",
    "        \"total_experiment_time_secs\": total_experiment_time_secs,\n",
    "        \"confusion\": confusion,\n",
    "        \"per_domain_accuracy\": per_domain_accuracy,\n",
    "    },\n",
    "    \"history\": history,\n",
    "    \"dataset_metrics\": get_dataset_metrics(datasets, \"cnn\"),\n",
    "}"
   ]
  },
  {
   "cell_type": "code",
   "execution_count": 16,
   "id": "74c318cf",
   "metadata": {
    "execution": {
     "iopub.execute_input": "2022-03-26T00:30:54.921400Z",
     "iopub.status.busy": "2022-03-26T00:30:54.843773Z",
     "iopub.status.idle": "2022-03-26T00:30:55.113827Z",
     "shell.execute_reply": "2022-03-26T00:30:55.114512Z"
    },
    "papermill": {
     "duration": 0.330598,
     "end_time": "2022-03-26T00:30:55.114742",
     "exception": false,
     "start_time": "2022-03-26T00:30:54.784144",
     "status": "completed"
    },
    "tags": []
   },
   "outputs": [
    {
     "data": {
      "text/plain": [
       "<AxesSubplot:title={'center':'Source Train Label Loss vs Source Val Label Loss'}, xlabel='Epoch'>"
      ]
     },
     "execution_count": 16,
     "metadata": {},
     "output_type": "execute_result"
    },
    {
     "data": {
      "image/png": "[encoded data removed]",
      "text/plain": [
       "<Figure size 1080x504 with 1 Axes>"
      ]
     },
     "metadata": {
      "needs_background": "light"
     },
     "output_type": "display_data"
    }
   ],
   "source": [
    "get_loss_curve(experiment)"
   ]
  },
  {
   "cell_type": "code",
   "execution_count": 17,
   "id": "59376601",
   "metadata": {
    "execution": {
     "iopub.execute_input": "2022-03-26T00:30:55.235273Z",
     "iopub.status.busy": "2022-03-26T00:30:55.234031Z",
     "iopub.status.idle": "2022-03-26T00:30:55.565318Z",
     "shell.execute_reply": "2022-03-26T00:30:55.566023Z"
    },
    "papermill": {
     "duration": 0.401902,
     "end_time": "2022-03-26T00:30:55.566241",
     "exception": false,
     "start_time": "2022-03-26T00:30:55.164339",
     "status": "completed"
    },
    "tags": []
   },
   "outputs": [
    {
     "data": {
      "text/plain": [
       "<AxesSubplot:title={'center':'Results'}>"
      ]
     },
     "execution_count": 17,
     "metadata": {},
     "output_type": "execute_result"
    },
    {
     "data": {
      "image/png": "[encoded data removed]",
      "text/plain": [
       "<Figure size 1080x504 with 1 Axes>"
      ]
     },
     "metadata": {
      "needs_background": "light"
     },
     "output_type": "display_data"
    }
   ],
   "source": [
    "get_results_table(experiment)"
   ]
  },
  {
   "cell_type": "code",
   "execution_count": 18,
   "id": "e80c5c98",
   "metadata": {
    "execution": {
     "iopub.execute_input": "2022-03-26T00:30:55.689927Z",
     "iopub.status.busy": "2022-03-26T00:30:55.689272Z",
     "iopub.status.idle": "2022-03-26T00:30:55.849119Z",
     "shell.execute_reply": "2022-03-26T00:30:55.848204Z"
    },
    "papermill": {
     "duration": 0.230957,
     "end_time": "2022-03-26T00:30:55.849309",
     "exception": false,
     "start_time": "2022-03-26T00:30:55.618352",
     "status": "completed"
    },
    "tags": []
   },
   "outputs": [
    {
     "data": {
      "text/plain": [
       "<AxesSubplot:title={'center':'Per Domain Accuracy'}, xlabel='domain'>"
      ]
     },
     "execution_count": 18,
     "metadata": {},
     "output_type": "execute_result"
    },
    {
     "data": {
      "image/png": "[encoded data removed]",
      "text/plain": [
       "<Figure size 1080x504 with 1 Axes>"
      ]
     },
     "metadata": {
      "needs_background": "light"
     },
     "output_type": "display_data"
    }
   ],
   "source": [
    "get_domain_accuracies(experiment)"
   ]
  },
  {
   "cell_type": "code",
   "execution_count": 19,
   "id": "086fdd10",
   "metadata": {
    "execution": {
     "iopub.execute_input": "2022-03-26T00:30:55.955373Z",
     "iopub.status.busy": "2022-03-26T00:30:55.954969Z",
     "iopub.status.idle": "2022-03-26T00:30:55.959386Z",
     "shell.execute_reply": "2022-03-26T00:30:55.958989Z"
    },
    "papermill": {
     "duration": 0.057147,
     "end_time": "2022-03-26T00:30:55.959464",
     "exception": false,
     "start_time": "2022-03-26T00:30:55.902317",
     "status": "completed"
    },
    "tags": []
   },
   "outputs": [
    {
     "name": "stdout",
     "output_type": "stream",
     "text": [
      "Source Test Label Accuracy: 0.8850972222222222 Target Test Label Accuracy: 0.08229166666666667\n",
      "Source Val Label Accuracy: 0.8818888888888889 Target Val Label Accuracy: 0.0828\n"
     ]
    }
   ],
   "source": [
    "print(\"Source Test Label Accuracy:\", experiment[\"results\"][\"source_test_label_accuracy\"], \"Target Test Label Accuracy:\", experiment[\"results\"][\"target_test_label_accuracy\"])\n",
    "print(\"Source Val Label Accuracy:\", experiment[\"results\"][\"source_val_label_accuracy\"], \"Target Val Label Accuracy:\", experiment[\"results\"][\"target_val_label_accuracy\"])"
   ]
  },
  {
   "cell_type": "code",
   "execution_count": 20,
   "id": "9f450536",
   "metadata": {
    "execution": {
     "iopub.execute_input": "2022-03-26T00:30:56.065147Z",
     "iopub.status.busy": "2022-03-26T00:30:56.064745Z",
     "iopub.status.idle": "2022-03-26T00:30:56.068598Z",
     "shell.execute_reply": "2022-03-26T00:30:56.068193Z"
    },
    "papermill": {
     "duration": 0.056169,
     "end_time": "2022-03-26T00:30:56.068675",
     "exception": false,
     "start_time": "2022-03-26T00:30:56.012506",
     "status": "completed"
    },
    "tags": [
     "experiment_json"
    ]
   },
   "outputs": [
    {
     "data": {
      "text/plain": [
       "'{\"experiment_name\": \"cnn_1:oracle.run2\", \"parameters\": {\"experiment_name\": \"cnn_1:oracle.run2\", \"labels\": [\"3123D52\", \"3123D65\", \"3123D79\", \"3123D80\", \"3123D54\", \"3123D70\", \"3123D7B\", \"3123D89\", \"3123D58\", \"3123D76\", \"3123D7D\", \"3123EFE\", \"3123D64\", \"3123D78\", \"3123D7E\", \"3124E4A\"], \"domains_source\": [8, 32, 50], \"domains_target\": [14, 20, 26, 38, 44], \"pickle_name_source\": \"oracle.Run2_10kExamples_stratified_ds.2022A.pkl\", \"pickle_name_target\": \"oracle.Run2_10kExamples_stratified_ds.2022A.pkl\", \"device\": \"cuda\", \"lr\": 0.0001, \"batch_size\": 128, \"normalize_source\": false, \"normalize_target\": false, \"num_examples_per_domain_per_label_source\": -1, \"num_examples_per_domain_per_label_target\": -1, \"torch_default_dtype\": \"torch.float32\", \"n_epoch\": 50, \"patience\": 3, \"criteria_for_best\": \"target_accuracy\", \"x_net\": [{\"class\": \"nnReshape\", \"kargs\": {\"shape\": [-1, 1, 2, 256]}}, {\"class\": \"Conv2d\", \"kargs\": {\"in_channels\": 1, \"out_channels\": 256, \"kernel_size\": [1, 7], \"bias\": false, \"padding\": [0, 3]}}, {\"class\": \"ReLU\", \"kargs\": {\"inplace\": true}}, {\"class\": \"BatchNorm2d\", \"kargs\": {\"num_features\": 256}}, {\"class\": \"Conv2d\", \"kargs\": {\"in_channels\": 256, \"out_channels\": 80, \"kernel_size\": [2, 7], \"bias\": true, \"padding\": [0, 3]}}, {\"class\": \"ReLU\", \"kargs\": {\"inplace\": true}}, {\"class\": \"BatchNorm2d\", \"kargs\": {\"num_features\": 80}}, {\"class\": \"Flatten\", \"kargs\": {}}, {\"class\": \"Linear\", \"kargs\": {\"in_features\": 20480, \"out_features\": 256}}, {\"class\": \"ReLU\", \"kargs\": {\"inplace\": true}}, {\"class\": \"BatchNorm1d\", \"kargs\": {\"num_features\": 256}}, {\"class\": \"Linear\", \"kargs\": {\"in_features\": 256, \"out_features\": 16}}], \"NUM_LOGS_PER_EPOCH\": 10, \"BEST_MODEL_PATH\": \"./best_model.pth\", \"dataset_seed\": 154325, \"seed\": 154325}, \"results\": {\"source_test_label_accuracy\": 0.8850972222222222, \"source_test_label_loss\": 0.3271768189450564, \"target_test_label_accuracy\": 0.08229166666666667, \"target_test_label_loss\": 17.941369033317322, \"source_val_label_accuracy\": 0.8818888888888889, \"source_val_label_loss\": 0.3323948789076949, \"target_val_label_accuracy\": 0.0828, \"target_val_label_loss\": 17.94169056593482, \"total_epochs_trained\": 9, \"total_experiment_time_secs\": 372.5244643688202, \"confusion\": {\"8\": {\"15\": {\"15\": 1309, \"12\": 178, \"2\": 2, \"3\": 11}, \"8\": {\"11\": 423, \"8\": 1070, \"6\": 5, \"14\": 1, \"1\": 1}, \"6\": {\"6\": 1305, \"4\": 20, \"8\": 97, \"14\": 73, \"11\": 5}, \"14\": {\"14\": 1284, \"6\": 182, \"8\": 14, \"1\": 18, \"4\": 1, \"0\": 1}, \"1\": {\"1\": 1473, \"5\": 3, \"14\": 3, \"13\": 17, \"8\": 4}, \"4\": {\"7\": 440, \"4\": 901, \"6\": 130, \"8\": 23, \"14\": 3, \"11\": 2, \"1\": 1}, \"3\": {\"3\": 1500}, \"11\": {\"11\": 1323, \"8\": 172, \"12\": 3, \"6\": 1, \"1\": 1}, \"5\": {\"5\": 1168, \"10\": 130, \"1\": 178, \"13\": 22, \"14\": 2}, \"0\": {\"0\": 1500}, \"13\": {\"13\": 1404, \"10\": 26, \"7\": 28, \"4\": 5, \"1\": 34, \"5\": 3}, \"2\": {\"2\": 1485, \"12\": 10, \"15\": 5}, \"9\": {\"9\": 1500}, \"10\": {\"10\": 1075, \"1\": 24, \"5\": 189, \"13\": 201, \"4\": 4, \"7\": 7}, \"12\": {\"12\": 1459, \"15\": 40, \"11\": 1}, \"7\": {\"7\": 1196, \"4\": 291, \"11\": 5, \"6\": 2, \"8\": 5, \"13\": 1}}, \"14\": {\"2\": {\"3\": 1500}, \"11\": {\"7\": 1483, \"4\": 11, \"12\": 6}, \"1\": {\"3\": 1433, \"11\": 29, \"7\": 38}, \"15\": {\"13\": 983, \"3\": 428, \"11\": 89}, \"14\": {\"3\": 1500}, \"12\": {\"6\": 282, \"2\": 295, \"3\": 472, \"12\": 169, \"15\": 12, \"9\": 61, \"13\": 21, \"7\": 141, \"10\": 12, \"0\": 27, \"14\": 5, \"5\": 3}, \"5\": {\"3\": 1500}, \"7\": {\"3\": 1500}, \"0\": {\"3\": 1500}, \"13\": {\"3\": 1500}, \"6\": {\"3\": 1500}, \"8\": {\"3\": 1500}, \"10\": {\"3\": 1498, \"15\": 2}, \"9\": {\"2\": 393, \"3\": 1107}, \"4\": {\"3\": 1500}, \"3\": {\"3\": 1500}}, \"50\": {\"13\": {\"13\": 1419, \"1\": 35, \"8\": 40, \"10\": 6}, \"2\": {\"2\": 1225, \"9\": 149, \"0\": 124, \"12\": 2}, \"10\": {\"10\": 1444, \"0\": 53, \"13\": 3}, \"8\": {\"8\": 1495, \"13\": 5}, \"7\": {\"7\": 1459, \"4\": 20, \"5\": 21}, \"9\": {\"9\": 1493, \"12\": 3, \"5\": 1, \"15\": 3}, \"5\": {\"5\": 1167, \"4\": 231, \"7\": 85, \"6\": 14, \"13\": 2, \"8\": 1}, \"14\": {\"14\": 1206, \"9\": 294}, \"0\": {\"0\": 1445, \"9\": 6, \"2\": 24, \"10\": 25}, \"15\": {\"15\": 1427, \"6\": 19, \"11\": 4, \"4\": 28, \"9\": 14, \"5\": 7, \"12\": 1}, \"11\": {\"11\": 1402, \"1\": 43, \"14\": 31, \"12\": 16, \"15\": 7, \"5\": 1}, \"4\": {\"4\": 1105, \"5\": 304, \"7\": 90, \"15\": 1}, \"6\": {\"6\": 1142, \"5\": 235, \"4\": 14, \"15\": 99, \"12\": 4, \"11\": 2, \"13\": 4}, \"1\": {\"1\": 1490, \"13\": 7, \"8\": 1, \"0\": 1, \"14\": 1}, \"3\": {\"3\": 1500}, \"12\": {\"12\": 1418, \"9\": 71, \"14\": 2, \"11\": 7, \"5\": 2}}, \"44\": {\"11\": {\"9\": 271, \"7\": 1229}, \"10\": {\"9\": 1186, \"5\": 306, \"7\": 8}, \"2\": {\"8\": 313, \"5\": 415, \"15\": 724, \"11\": 48}, \"1\": {\"5\": 955, \"8\": 254, \"7\": 291}, \"15\": {\"12\": 1041, \"11\": 339, \"6\": 97, \"15\": 4, \"14\": 10, \"1\": 8, \"8\": 1}, \"9\": {\"9\": 978, \"15\": 458, \"5\": 64}, \"5\": {\"6\": 1381, \"15\": 30, \"12\": 13, \"5\": 58, \"1\": 5, \"4\": 7, \"13\": 3, \"11\": 3}, \"8\": {\"12\": 1112, \"6\": 295, \"8\": 89, \"5\": 4}, \"4\": {\"9\": 534, \"15\": 957, \"12\": 4, \"4\": 4, \"6\": 1}, \"0\": {\"12\": 878, \"8\": 539, \"0\": 3, \"6\": 67, \"1\": 8, \"2\": 2, \"11\": 1, \"5\": 2}, \"6\": {\"15\": 1197, \"9\": 303}, \"3\": {\"0\": 563, \"7\": 642, \"8\": 216, \"2\": 13, \"4\": 51, \"3\": 13, \"11\": 2}, \"12\": {\"7\": 366, \"3\": 745, \"8\": 342, \"0\": 39, \"4\": 8}, \"7\": {\"9\": 1236, \"15\": 259, \"5\": 5}, \"14\": {\"15\": 817, \"12\": 95, \"6\": 61, \"9\": 129, \"4\": 228, \"5\": 170}, \"13\": {\"15\": 593, \"9\": 375, \"4\": 375, \"7\": 157}}, \"32\": {\"5\": {\"5\": 1128, \"9\": 264, \"2\": 6, \"11\": 17, \"12\": 41, \"14\": 25, \"15\": 12, \"7\": 2, \"8\": 3, \"0\": 2}, \"8\": {\"8\": 1285, \"0\": 205, \"7\": 3, \"5\": 4, \"14\": 2, \"15\": 1}, \"7\": {\"7\": 1210, \"2\": 103, \"0\": 119, \"8\": 23, \"5\": 35, \"14\": 10}, \"14\": {\"14\": 1456, \"0\": 23, \"11\": 2, \"2\": 17, \"5\": 2}, \"3\": {\"3\": 1473, \"13\": 17, \"4\": 10}, \"6\": {\"6\": 1499, \"12\": 1}, \"15\": {\"15\": 1494, \"8\": 3, \"5\": 3}, \"1\": {\"1\": 1484, \"8\": 14, \"0\": 1, \"10\": 1}, \"9\": {\"9\": 1296, \"14\": 168, \"2\": 27, \"0\": 8, \"12\": 1}, \"2\": {\"2\": 970, \"0\": 129, \"14\": 384, \"7\": 11, \"8\": 3, \"11\": 1, \"5\": 2}, \"0\": {\"0\": 1211, \"14\": 153, \"8\": 74, \"5\": 4, \"2\": 39, \"7\": 16, \"11\": 1, \"4\": 2}, \"10\": {\"10\": 1499, \"12\": 1}, \"12\": {\"12\": 1486, \"2\": 5, \"9\": 7, \"0\": 2}, \"4\": {\"4\": 965, \"0\": 250, \"11\": 177, \"14\": 69, \"3\": 11, \"13\": 23, \"8\": 3, \"2\": 2}, \"11\": {\"11\": 1057, \"4\": 156, \"13\": 89, \"7\": 16, \"14\": 83, \"0\": 92, \"3\": 3, \"2\": 4}, \"13\": {\"13\": 1194, \"11\": 192, \"4\": 65, \"3\": 48, \"14\": 1}}, \"26\": {\"2\": {\"3\": 1500}, \"7\": {\"3\": 1500}, \"9\": {\"3\": 1490, \"12\": 1, \"6\": 9}, \"15\": {\"3\": 1469, \"13\": 27, \"6\": 1, \"14\": 1, \"12\": 2}, \"6\": {\"12\": 1330, \"14\": 133, \"9\": 1, \"6\": 24, \"3\": 11, \"13\": 1}, \"12\": {\"12\": 1327, \"3\": 109, \"6\": 61, \"9\": 3}, \"3\": {\"3\": 1500}, \"11\": {\"6\": 1290, \"12\": 210}, \"4\": {\"3\": 1500}, \"0\": {\"3\": 974, \"12\": 526}, \"5\": {\"12\": 710, \"14\": 496, \"6\": 154, \"3\": 104, \"11\": 9, \"9\": 11, \"13\": 16}, \"14\": {\"3\": 247, \"12\": 1252, \"13\": 1}, \"13\": {\"3\": 1472, \"6\": 28}, \"1\": {\"12\": 1500}, \"10\": {\"3\": 631, \"12\": 869}, \"8\": {\"3\": 1488, \"12\": 11, \"6\": 1}}, \"38\": {\"10\": {\"7\": 922, \"4\": 535, \"9\": 43}, \"0\": {\"9\": 552, \"15\": 945, \"4\": 3}, \"13\": {\"9\": 64, \"7\": 1433, \"4\": 3}, \"5\": {\"15\": 435, \"1\": 395, \"11\": 259, \"13\": 28, \"6\": 240, \"4\": 109, \"5\": 31, \"9\": 3}, \"4\": {\"4\": 1111, \"7\": 387, \"15\": 2}, \"1\": {\"14\": 62, \"1\": 318, \"0\": 1106, \"2\": 9, \"10\": 1, \"9\": 4}, \"11\": {\"7\": 1500}, \"6\": {\"14\": 904, \"9\": 324, \"0\": 264, \"1\": 3, \"2\": 5}, \"15\": {\"1\": 978, \"12\": 3, \"9\": 87, \"0\": 264, \"14\": 18, \"10\": 144, \"11\": 6}, \"2\": {\"3\": 435, \"5\": 955, \"7\": 101, \"8\": 1, \"13\": 8}, \"7\": {\"4\": 1338, \"15\": 156, \"9\": 6}, \"12\": {\"13\": 1345, \"15\": 138, \"6\": 7, \"5\": 5, \"4\": 5}, \"3\": {\"7\": 1029, \"9\": 466, \"4\": 5}, \"9\": {\"9\": 938, \"12\": 457, \"11\": 64, \"15\": 34, \"14\": 6, \"5\": 1}, \"14\": {\"3\": 127, \"7\": 637, \"5\": 398, \"4\": 210, \"13\": 126, \"6\": 2}, \"8\": {\"15\": 988, \"9\": 23, \"4\": 384, \"6\": 15, \"5\": 88, \"12\": 1, \"11\": 1}}, \"20\": {\"10\": {\"12\": 1499, \"11\": 1}, \"15\": {\"2\": 1318, \"12\": 176, \"7\": 6}, \"1\": {\"2\": 1390, \"12\": 73, \"15\": 23, \"3\": 14}, \"9\": {\"2\": 965, \"12\": 533, \"7\": 2}, \"12\": {\"12\": 968, \"7\": 69, \"2\": 463}, \"6\": {\"12\": 1441, \"11\": 56, \"7\": 3}, \"13\": {\"2\": 1069, \"12\": 94, \"7\": 337}, \"0\": {\"3\": 1244, \"15\": 42, \"2\": 199, \"12\": 15}, \"14\": {\"3\": 660, \"12\": 826, \"15\": 14}, \"11\": {\"3\": 1500}, \"3\": {\"12\": 1241, \"2\": 247, \"7\": 10, \"3\": 2}, \"7\": {\"12\": 1465, \"7\": 27, \"2\": 8}, \"4\": {\"12\": 1473, \"2\": 23, \"15\": 4}, \"2\": {\"2\": 872, \"12\": 615, \"3\": 13}, \"8\": {\"3\": 1132, \"12\": 353, \"15\": 15}, \"5\": {\"12\": 873, \"15\": 16, \"2\": 582, \"3\": 26, \"7\": 3}}}, \"per_domain_accuracy\": {\"8\": {\"accuracy\": 0.873, \"source?\": true}, \"14\": {\"accuracy\": 0.06954166666666667, \"source?\": false}, \"50\": {\"accuracy\": 0.909875, \"source?\": true}, \"44\": {\"accuracy\": 0.047875, \"source?\": false}, \"32\": {\"accuracy\": 0.8627916666666666, \"source?\": true}, \"26\": {\"accuracy\": 0.11879166666666667, \"source?\": false}, \"38\": {\"accuracy\": 0.09991666666666667, \"source?\": false}, \"20\": {\"accuracy\": 0.077875, \"source?\": false}}}, \"history\": {\"epoch_indices\": [1, 2, 3, 4, 5, 6, 7, 8, 9], \"train_label_loss\": [1.623089793841044, 0.7406642024857657, 0.4886054793653034, 0.3824384640455246, 0.31186773073673246, 0.26334585084233963, 0.2292797657762255, 0.20175700508696692, 0.18306616246416454], \"source_val_label_loss\": [1.103139306575748, 0.5842440534866089, 0.4442272945365093, 0.4246874296538148, 0.33241003775575445, 0.4306117656705223, 0.4946833088279406, 0.4150469482315582, 0.3295080658068242], \"target_val_label_loss\": [8.930115766362595, 12.458982489002285, 15.695984952231205, 17.35316966083258, 17.94053882220661, 17.698292144580183, 22.279237442179276, 20.834178157960938, 23.134065289487207], \"source_val_acc_label\": [0.6238611111111111, 0.8056944444444445, 0.849625, 0.8433333333333334, 0.8818888888888889, 0.8323611111111111, 0.8204722222222223, 0.846125, 0.8764722222222222], \"target_val_acc_label\": [0.060075, 0.07105833333333333, 0.07028333333333334, 0.08146666666666667, 0.0828, 0.067025, 0.079825, 0.082375, 0.07564166666666666]}, \"dataset_metrics\": {\"source\": {\"train\": {\"n_unique_x\": 336000, \"n_unique_y\": 16, \"n_batch/episode\": 2625}, \"val\": {\"n_unique_x\": 72000, \"n_unique_y\": 16, \"n_batch/episode\": 563}, \"test\": {\"n_unique_x\": 72000, \"n_unique_y\": 16, \"n_batch/episode\": 563}}, \"target\": {\"train\": {\"n_unique_x\": 560000, \"n_unique_y\": 16, \"n_batch/episode\": 4375}, \"val\": {\"n_unique_x\": 120000, \"n_unique_y\": 16, \"n_batch/episode\": 938}, \"test\": {\"n_unique_x\": 120000, \"n_unique_y\": 16, \"n_batch/episode\": 938}}}}'"
      ]
     },
     "execution_count": 20,
     "metadata": {},
     "output_type": "execute_result"
    }
   ],
   "source": [
    "json.dumps(experiment)"
   ]
  }
 ],
 "metadata": {
  "celltoolbar": "Tags",
  "kernelspec": {
   "display_name": "Python 3 (ipykernel)",
   "language": "python",
   "name": "python3"
  },
  "language_info": {
   "codemirror_mode": {
    "name": "ipython",
    "version": 3
   },
   "file_extension": ".py",
   "mimetype": "text/x-python",
   "name": "python",
   "nbconvert_exporter": "python",
   "pygments_lexer": "ipython3",
   "version": "3.8.12"
  },
  "papermill": {
   "default_parameters": {},
   "duration": 433.688515,
   "end_time": "2022-03-26T00:30:59.433777",
   "environment_variables": {},
   "exception": null,
   "input_path": "/root/csc500-main/csc500-notebooks/templates/cnn_template.ipynb",
   "output_path": "trial.ipynb",
   "parameters": {
    "parameters": {
     "BEST_MODEL_PATH": "./best_model.pth",
     "NUM_LOGS_PER_EPOCH": 10,
     "batch_size": 128,
     "criteria_for_best": "target_accuracy",
     "dataset_seed": 154325,
     "device": "cuda",
     "domains_source": [
      8,
      32,
      50
     ],
     "domains_target": [
      14,
      20,
      26,
      38,
      44
     ],
     "experiment_name": "cnn_1:oracle.run2",
     "labels": [
      "3123D52",
      "3123D65",
      "3123D79",
      "3123D80",
      "3123D54",
      "3123D70",
      "3123D7B",
      "3123D89",
      "3123D58",
      "3123D76",
      "3123D7D",
      "3123EFE",
      "3123D64",
      "3123D78",
      "3123D7E",
      "3124E4A"
     ],
     "lr": 0.0001,
     "n_epoch": 50,
     "normalize_source": false,
     "normalize_target": false,
     "num_examples_per_domain_per_label_source": -1,
     "num_examples_per_domain_per_label_target": -1,
     "patience": 3,
     "pickle_name_source": "oracle.Run2_10kExamples_stratified_ds.2022A.pkl",
     "pickle_name_target": "oracle.Run2_10kExamples_stratified_ds.2022A.pkl",
     "seed": 154325,
     "torch_default_dtype": "torch.float32",
     "x_net": [
      {
       "class": "nnReshape",
       "kargs": {
        "shape": [
         -1,
         1,
         2,
         256
        ]
       }
      },
      {
       "class": "Conv2d",
       "kargs": {
        "bias": false,
        "in_channels": 1,
        "kernel_size": [
         1,
         7
        ],
        "out_channels": 256,
        "padding": [
         0,
         3
        ]
       }
      },
      {
       "class": "ReLU",
       "kargs": {
        "inplace": true
       }
      },
      {
       "class": "BatchNorm2d",
       "kargs": {
        "num_features": 256
       }
      },
      {
       "class": "Conv2d",
       "kargs": {
        "bias": true,
        "in_channels": 256,
        "kernel_size": [
         2,
         7
        ],
        "out_channels": 80,
        "padding": [
         0,
         3
        ]
       }
      },
      {
       "class": "ReLU",
       "kargs": {
        "inplace": true
       }
      },
      {
       "class": "BatchNorm2d",
       "kargs": {
        "num_features": 80
       }
      },
      {
       "class": "Flatten",
       "kargs": {}
      },
      {
       "class": "Linear",
       "kargs": {
        "in_features": 20480,
        "out_features": 256
       }
      },
      {
       "class": "ReLU",
       "kargs": {
        "inplace": true
       }
      },
      {
       "class": "BatchNorm1d",
       "kargs": {
        "num_features": 256
       }
      },
      {
       "class": "Linear",
       "kargs": {
        "in_features": 256,
        "out_features": 16
       }
      }
     ]
    }
   },
   "start_time": "2022-03-26T00:23:45.745262",
   "version": "2.3.4"
  }
 },
 "nbformat": 4,
 "nbformat_minor": 5
}