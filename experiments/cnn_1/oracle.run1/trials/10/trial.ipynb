{
 "cells": [
  {
   "cell_type": "code",
   "execution_count": 1,
   "id": "2324682e",
   "metadata": {
    "execution": {
     "iopub.execute_input": "2022-03-25T22:27:37.807860Z",
     "iopub.status.busy": "2022-03-25T22:27:37.806404Z",
     "iopub.status.idle": "2022-03-25T22:27:39.163885Z",
     "shell.execute_reply": "2022-03-25T22:27:39.163153Z"
    },
    "papermill": {
     "duration": 1.392672,
     "end_time": "2022-03-25T22:27:39.164035",
     "exception": false,
     "start_time": "2022-03-25T22:27:37.771363",
     "status": "completed"
    },
    "tags": []
   },
   "outputs": [],
   "source": [
    "import os, json, sys, time, random\n",
    "import numpy as np\n",
    "import torch\n",
    "from  easydict import EasyDict\n",
    "from math import floor\n",
    "from easydict import EasyDict\n",
    "\n",
    "from steves_utils.vanilla_train_eval_test_jig import  Vanilla_Train_Eval_Test_Jig\n",
    "\n",
    "from steves_utils.torch_utils import get_dataset_metrics, independent_accuracy_assesment\n",
    "from steves_models.configurable_vanilla import Configurable_Vanilla\n",
    "from steves_utils.torch_sequential_builder import build_sequential\n",
    "from steves_utils.lazy_map import Lazy_Map\n",
    "from steves_utils.sequence_aggregator import Sequence_Aggregator\n",
    "\n",
    "from steves_utils.stratified_dataset.traditional_accessor import Traditional_Accessor_Factory\n",
    "\n",
    "from steves_utils.cnn_do_report import (\n",
    "    get_loss_curve,\n",
    "    get_results_table,\n",
    "    get_parameters_table,\n",
    "    get_domain_accuracies,\n",
    ")\n",
    "\n",
    "from steves_utils.torch_utils import (\n",
    "    confusion_by_domain_over_dataloader,\n",
    "    independent_accuracy_assesment\n",
    ")\n",
    "\n",
    "from steves_utils.utils_v2 import (\n",
    "    per_domain_accuracy_from_confusion,\n",
    "    get_datasets_base_path\n",
    ")\n",
    "\n",
    "# from steves_utils.ptn_do_report import TBD"
   ]
  },
  {
   "cell_type": "code",
   "execution_count": 2,
   "id": "1b29e3fe",
   "metadata": {
    "execution": {
     "iopub.execute_input": "2022-03-25T22:27:39.205915Z",
     "iopub.status.busy": "2022-03-25T22:27:39.205319Z",
     "iopub.status.idle": "2022-03-25T22:27:39.207755Z",
     "shell.execute_reply": "2022-03-25T22:27:39.208232Z"
    },
    "papermill": {
     "duration": 0.024294,
     "end_time": "2022-03-25T22:27:39.208364",
     "exception": false,
     "start_time": "2022-03-25T22:27:39.184070",
     "status": "completed"
    },
    "tags": []
   },
   "outputs": [],
   "source": [
    "required_parameters = {\n",
    "    \"experiment_name\",\n",
    "    \"lr\",\n",
    "    \"device\",\n",
    "    \"dataset_seed\",\n",
    "    \"seed\",\n",
    "    \"labels\",\n",
    "    \"domains_target\",\n",
    "    \"domains_source\",\n",
    "    \"num_examples_per_domain_per_label_source\",\n",
    "    \"num_examples_per_domain_per_label_target\",\n",
    "    \"batch_size\",\n",
    "    \"n_epoch\",\n",
    "    \"patience\",\n",
    "    \"criteria_for_best\",\n",
    "    \"normalize_source\",\n",
    "    \"normalize_target\",\n",
    "    \"x_net\",\n",
    "    \"NUM_LOGS_PER_EPOCH\",\n",
    "    \"BEST_MODEL_PATH\",\n",
    "    \"pickle_name_source\",\n",
    "    \"pickle_name_target\",\n",
    "    \"torch_default_dtype\",\n",
    "}"
   ]
  },
  {
   "cell_type": "code",
   "execution_count": 3,
   "id": "670b5fb8",
   "metadata": {
    "execution": {
     "iopub.execute_input": "2022-03-25T22:27:39.253221Z",
     "iopub.status.busy": "2022-03-25T22:27:39.252611Z",
     "iopub.status.idle": "2022-03-25T22:27:39.259976Z",
     "shell.execute_reply": "2022-03-25T22:27:39.259145Z"
    },
    "papermill": {
     "duration": 0.032781,
     "end_time": "2022-03-25T22:27:39.260132",
     "exception": false,
     "start_time": "2022-03-25T22:27:39.227351",
     "status": "completed"
    },
    "tags": [
     "parameters"
    ]
   },
   "outputs": [],
   "source": [
    "from steves_utils.ORACLE.utils_v2 import (\n",
    "    ALL_SERIAL_NUMBERS,\n",
    "    ALL_DISTANCES_FEET_NARROWED,\n",
    ")\n",
    "\n",
    "standalone_parameters = {}\n",
    "standalone_parameters[\"experiment_name\"] = \"MANUAL CORES CNN\"\n",
    "standalone_parameters[\"lr\"] = 0.0001\n",
    "standalone_parameters[\"device\"] = \"cuda\"\n",
    "\n",
    "standalone_parameters[\"dataset_seed\"] = 1337\n",
    "standalone_parameters[\"seed\"] = 1337\n",
    "standalone_parameters[\"labels\"] = ALL_SERIAL_NUMBERS\n",
    "\n",
    "standalone_parameters[\"domains_source\"] = [8,32,50]\n",
    "standalone_parameters[\"domains_target\"] = [14,20,26,38,44,]\n",
    "\n",
    "standalone_parameters[\"num_examples_per_domain_per_label_source\"]=-1\n",
    "standalone_parameters[\"num_examples_per_domain_per_label_target\"]=-1\n",
    "\n",
    "standalone_parameters[\"pickle_name_source\"] = \"oracle.Run1_framed_2000Examples_stratified_ds.2022A.pkl\"\n",
    "standalone_parameters[\"pickle_name_target\"] = \"oracle.Run2_framed_2000Examples_stratified_ds.2022A.pkl\"\n",
    "\n",
    "standalone_parameters[\"torch_default_dtype\"] = \"torch.float32\" \n",
    "\n",
    "standalone_parameters[\"batch_size\"]=128\n",
    "\n",
    "standalone_parameters[\"n_epoch\"] = 3\n",
    "\n",
    "standalone_parameters[\"patience\"] = 10\n",
    "\n",
    "standalone_parameters[\"criteria_for_best\"] = \"target_accuracy\"\n",
    "standalone_parameters[\"normalize_source\"] = False\n",
    "standalone_parameters[\"normalize_target\"] = False\n",
    "\n",
    "standalone_parameters[\"x_net\"] =     [\n",
    "    {\"class\": \"nnReshape\", \"kargs\": {\"shape\":[-1, 1, 2, 256]}},\n",
    "    {\"class\": \"Conv2d\", \"kargs\": { \"in_channels\":1, \"out_channels\":256, \"kernel_size\":(1,7), \"bias\":False, \"padding\":(0,3), },},\n",
    "    {\"class\": \"ReLU\", \"kargs\": {\"inplace\": True}},\n",
    "    {\"class\": \"BatchNorm2d\", \"kargs\": {\"num_features\":256}},\n",
    "\n",
    "    {\"class\": \"Conv2d\", \"kargs\": { \"in_channels\":256, \"out_channels\":80, \"kernel_size\":(2,7), \"bias\":True, \"padding\":(0,3), },},\n",
    "    {\"class\": \"ReLU\", \"kargs\": {\"inplace\": True}},\n",
    "    {\"class\": \"BatchNorm2d\", \"kargs\": {\"num_features\":80}},\n",
    "    {\"class\": \"Flatten\", \"kargs\": {}},\n",
    "\n",
    "    {\"class\": \"Linear\", \"kargs\": {\"in_features\": 80*256, \"out_features\": 256}}, # 80 units per IQ pair\n",
    "    {\"class\": \"ReLU\", \"kargs\": {\"inplace\": True}},\n",
    "    {\"class\": \"BatchNorm1d\", \"kargs\": {\"num_features\":256}},\n",
    "\n",
    "    {\"class\": \"Linear\", \"kargs\": {\"in_features\": 256, \"out_features\": len(standalone_parameters[\"labels\"])}},\n",
    "]\n",
    "\n",
    "standalone_parameters[\"NUM_LOGS_PER_EPOCH\"] = 10\n",
    "standalone_parameters[\"BEST_MODEL_PATH\"] = \"./best_model.pth\""
   ]
  },
  {
   "cell_type": "code",
   "execution_count": 4,
   "id": "85bfbb5c",
   "metadata": {
    "execution": {
     "iopub.execute_input": "2022-03-25T22:27:39.307627Z",
     "iopub.status.busy": "2022-03-25T22:27:39.306707Z",
     "iopub.status.idle": "2022-03-25T22:27:39.310140Z",
     "shell.execute_reply": "2022-03-25T22:27:39.309328Z"
    },
    "papermill": {
     "duration": 0.030022,
     "end_time": "2022-03-25T22:27:39.310295",
     "exception": false,
     "start_time": "2022-03-25T22:27:39.280273",
     "status": "completed"
    },
    "tags": [
     "injected-parameters"
    ]
   },
   "outputs": [],
   "source": [
    "# Parameters\n",
    "parameters = {\n",
    "    \"experiment_name\": \"cnn_1:oracle.run1\",\n",
    "    \"domains_source\": [8, 32, 50],\n",
    "    \"domains_target\": [14, 20, 26, 38, 44],\n",
    "    \"labels\": [\n",
    "        \"3123D52\",\n",
    "        \"3123D65\",\n",
    "        \"3123D79\",\n",
    "        \"3123D80\",\n",
    "        \"3123D54\",\n",
    "        \"3123D70\",\n",
    "        \"3123D7B\",\n",
    "        \"3123D89\",\n",
    "        \"3123D58\",\n",
    "        \"3123D76\",\n",
    "        \"3123D7D\",\n",
    "        \"3123EFE\",\n",
    "        \"3123D64\",\n",
    "        \"3123D78\",\n",
    "        \"3123D7E\",\n",
    "        \"3124E4A\",\n",
    "    ],\n",
    "    \"pickle_name_source\": \"oracle.Run1_10kExamples_stratified_ds.2022A.pkl\",\n",
    "    \"pickle_name_target\": \"oracle.Run1_10kExamples_stratified_ds.2022A.pkl\",\n",
    "    \"device\": \"cuda\",\n",
    "    \"lr\": 0.0001,\n",
    "    \"batch_size\": 128,\n",
    "    \"normalize_source\": False,\n",
    "    \"normalize_target\": False,\n",
    "    \"num_examples_per_domain_per_label_source\": -1,\n",
    "    \"num_examples_per_domain_per_label_target\": -1,\n",
    "    \"torch_default_dtype\": \"torch.float32\",\n",
    "    \"n_epoch\": 50,\n",
    "    \"patience\": 3,\n",
    "    \"criteria_for_best\": \"target_accuracy\",\n",
    "    \"x_net\": [\n",
    "        {\"class\": \"nnReshape\", \"kargs\": {\"shape\": [-1, 1, 2, 256]}},\n",
    "        {\n",
    "            \"class\": \"Conv2d\",\n",
    "            \"kargs\": {\n",
    "                \"in_channels\": 1,\n",
    "                \"out_channels\": 256,\n",
    "                \"kernel_size\": [1, 7],\n",
    "                \"bias\": False,\n",
    "                \"padding\": [0, 3],\n",
    "            },\n",
    "        },\n",
    "        {\"class\": \"ReLU\", \"kargs\": {\"inplace\": True}},\n",
    "        {\"class\": \"BatchNorm2d\", \"kargs\": {\"num_features\": 256}},\n",
    "        {\n",
    "            \"class\": \"Conv2d\",\n",
    "            \"kargs\": {\n",
    "                \"in_channels\": 256,\n",
    "                \"out_channels\": 80,\n",
    "                \"kernel_size\": [2, 7],\n",
    "                \"bias\": True,\n",
    "                \"padding\": [0, 3],\n",
    "            },\n",
    "        },\n",
    "        {\"class\": \"ReLU\", \"kargs\": {\"inplace\": True}},\n",
    "        {\"class\": \"BatchNorm2d\", \"kargs\": {\"num_features\": 80}},\n",
    "        {\"class\": \"Flatten\", \"kargs\": {}},\n",
    "        {\"class\": \"Linear\", \"kargs\": {\"in_features\": 20480, \"out_features\": 256}},\n",
    "        {\"class\": \"ReLU\", \"kargs\": {\"inplace\": True}},\n",
    "        {\"class\": \"BatchNorm1d\", \"kargs\": {\"num_features\": 256}},\n",
    "        {\"class\": \"Linear\", \"kargs\": {\"in_features\": 256, \"out_features\": 16}},\n",
    "    ],\n",
    "    \"NUM_LOGS_PER_EPOCH\": 10,\n",
    "    \"BEST_MODEL_PATH\": \"./best_model.pth\",\n",
    "    \"dataset_seed\": 500,\n",
    "    \"seed\": 500,\n",
    "}\n"
   ]
  },
  {
   "cell_type": "code",
   "execution_count": 5,
   "id": "759b56ec",
   "metadata": {
    "execution": {
     "iopub.execute_input": "2022-03-25T22:27:39.347098Z",
     "iopub.status.busy": "2022-03-25T22:27:39.346728Z",
     "iopub.status.idle": "2022-03-25T22:27:39.349019Z",
     "shell.execute_reply": "2022-03-25T22:27:39.349306Z"
    },
    "papermill": {
     "duration": 0.022061,
     "end_time": "2022-03-25T22:27:39.349389",
     "exception": false,
     "start_time": "2022-03-25T22:27:39.327328",
     "status": "completed"
    },
    "tags": []
   },
   "outputs": [],
   "source": [
    "# Set this to True if you want to run this template directly\n",
    "STANDALONE = False\n",
    "if STANDALONE:\n",
    "    print(\"parameters not injected, running with standalone_parameters\")\n",
    "    parameters = standalone_parameters\n",
    "\n",
    "if not 'parameters' in locals() and not 'parameters' in globals():\n",
    "    raise Exception(\"Parameter injection failed\")\n",
    "\n",
    "#Use an easy dict for all the parameters\n",
    "p = EasyDict(parameters)\n",
    "\n",
    "supplied_keys = set(p.keys())\n",
    "\n",
    "if  supplied_keys != required_parameters:\n",
    "    print(\"Parameters are incorrect\")\n",
    "    if len(supplied_keys - required_parameters)>0: print(\"Shouldn't have:\", str(supplied_keys - required_parameters))\n",
    "    if len(required_parameters - supplied_keys)>0: print(\"Need to have:\", str(required_parameters - supplied_keys))\n",
    "    raise RuntimeError(\"Parameters are incorrect\")\n",
    "\n"
   ]
  },
  {
   "cell_type": "code",
   "execution_count": 6,
   "id": "d5c66a71",
   "metadata": {
    "execution": {
     "iopub.execute_input": "2022-03-25T22:27:39.386365Z",
     "iopub.status.busy": "2022-03-25T22:27:39.386000Z",
     "iopub.status.idle": "2022-03-25T22:27:39.389337Z",
     "shell.execute_reply": "2022-03-25T22:27:39.389020Z"
    },
    "papermill": {
     "duration": 0.020528,
     "end_time": "2022-03-25T22:27:39.389406",
     "exception": false,
     "start_time": "2022-03-25T22:27:39.368878",
     "status": "completed"
    },
    "tags": []
   },
   "outputs": [],
   "source": [
    "###################################\n",
    "# Set the RNGs and make it all deterministic\n",
    "###################################\n",
    "np.random.seed(p.seed)\n",
    "random.seed(p.seed)\n",
    "torch.manual_seed(p.seed)\n",
    "\n",
    "torch.use_deterministic_algorithms(True) "
   ]
  },
  {
   "cell_type": "code",
   "execution_count": 7,
   "id": "92a65876",
   "metadata": {
    "execution": {
     "iopub.execute_input": "2022-03-25T22:27:39.425881Z",
     "iopub.status.busy": "2022-03-25T22:27:39.425326Z",
     "iopub.status.idle": "2022-03-25T22:27:39.428086Z",
     "shell.execute_reply": "2022-03-25T22:27:39.427524Z"
    },
    "papermill": {
     "duration": 0.020963,
     "end_time": "2022-03-25T22:27:39.428191",
     "exception": false,
     "start_time": "2022-03-25T22:27:39.407228",
     "status": "completed"
    },
    "tags": []
   },
   "outputs": [],
   "source": [
    "torch.set_default_dtype(eval(p.torch_default_dtype))"
   ]
  },
  {
   "cell_type": "code",
   "execution_count": 8,
   "id": "f1a32f01",
   "metadata": {
    "execution": {
     "iopub.execute_input": "2022-03-25T22:27:39.467183Z",
     "iopub.status.busy": "2022-03-25T22:27:39.466817Z",
     "iopub.status.idle": "2022-03-25T22:27:39.506968Z",
     "shell.execute_reply": "2022-03-25T22:27:39.506257Z"
    },
    "papermill": {
     "duration": 0.057483,
     "end_time": "2022-03-25T22:27:39.507126",
     "exception": false,
     "start_time": "2022-03-25T22:27:39.449643",
     "status": "completed"
    },
    "tags": []
   },
   "outputs": [],
   "source": [
    "###################################\n",
    "# Build the network(s)\n",
    "# Note: It's critical to do this AFTER setting the RNG\n",
    "###################################\n",
    "x_net = build_sequential(p.x_net)"
   ]
  },
  {
   "cell_type": "code",
   "execution_count": 9,
   "id": "a276cd83",
   "metadata": {
    "execution": {
     "iopub.execute_input": "2022-03-25T22:27:39.547765Z",
     "iopub.status.busy": "2022-03-25T22:27:39.547347Z",
     "iopub.status.idle": "2022-03-25T22:27:39.550113Z",
     "shell.execute_reply": "2022-03-25T22:27:39.549560Z"
    },
    "papermill": {
     "duration": 0.019942,
     "end_time": "2022-03-25T22:27:39.550221",
     "exception": false,
     "start_time": "2022-03-25T22:27:39.530279",
     "status": "completed"
    },
    "tags": []
   },
   "outputs": [],
   "source": [
    "start_time_secs = time.time()"
   ]
  },
  {
   "cell_type": "code",
   "execution_count": 10,
   "id": "de702e48",
   "metadata": {
    "execution": {
     "iopub.execute_input": "2022-03-25T22:27:39.596787Z",
     "iopub.status.busy": "2022-03-25T22:27:39.595898Z",
     "iopub.status.idle": "2022-03-25T22:28:01.151425Z",
     "shell.execute_reply": "2022-03-25T22:28:01.150561Z"
    },
    "papermill": {
     "duration": 21.583615,
     "end_time": "2022-03-25T22:28:01.151629",
     "exception": false,
     "start_time": "2022-03-25T22:27:39.568014",
     "status": "completed"
    },
    "tags": []
   },
   "outputs": [],
   "source": [
    "def wrap_in_dataloader(p, ds):\n",
    "    return torch.utils.data.DataLoader(\n",
    "        ds,\n",
    "        batch_size=p.batch_size,\n",
    "        shuffle=True,\n",
    "        num_workers=1,\n",
    "        persistent_workers=True,\n",
    "        prefetch_factor=50,\n",
    "        pin_memory=True\n",
    "    )\n",
    "\n",
    "taf_source = Traditional_Accessor_Factory(\n",
    "    labels=p.labels,\n",
    "    domains=p.domains_source,\n",
    "    num_examples_per_domain_per_label=p.num_examples_per_domain_per_label_source,\n",
    "    pickle_path=os.path.join(get_datasets_base_path(), p.pickle_name_source),\n",
    "    seed=p.dataset_seed\n",
    ")\n",
    "train_original_source, val_original_source, test_original_source = \\\n",
    "    taf_source.get_train(), taf_source.get_val(), taf_source.get_test()\n",
    "\n",
    "\n",
    "taf_target = Traditional_Accessor_Factory(\n",
    "    labels=p.labels,\n",
    "    domains=p.domains_target,\n",
    "    num_examples_per_domain_per_label=p.num_examples_per_domain_per_label_source,\n",
    "    pickle_path=os.path.join(get_datasets_base_path(), p.pickle_name_target),\n",
    "    seed=p.dataset_seed\n",
    ")\n",
    "train_original_target, val_original_target, test_original_target = \\\n",
    "    taf_target.get_train(), taf_target.get_val(), taf_target.get_test()\n",
    "\n",
    "\n",
    "# For CNN We only use X and Y. And we only train on the source.\n",
    "# Properly form the data using a transform lambda and Lazy_Map. Finally wrap them in a dataloader\n",
    "\n",
    "transform_lambda = lambda ex: ex[:2] # Strip the tuple to just (x,y)\n",
    "\n",
    "\n",
    "train_processed_source = wrap_in_dataloader(\n",
    "    p,\n",
    "    Lazy_Map(train_original_source, transform_lambda)\n",
    ")\n",
    "val_processed_source = wrap_in_dataloader(\n",
    "    p,\n",
    "    Lazy_Map(val_original_source, transform_lambda)\n",
    ")\n",
    "test_processed_source = wrap_in_dataloader(\n",
    "    p,\n",
    "    Lazy_Map(test_original_source, transform_lambda)\n",
    ")\n",
    "\n",
    "train_processed_target = wrap_in_dataloader(\n",
    "    p,\n",
    "    Lazy_Map(train_original_target, transform_lambda)\n",
    ")\n",
    "val_processed_target = wrap_in_dataloader(\n",
    "    p,\n",
    "    Lazy_Map(val_original_target, transform_lambda)\n",
    ")\n",
    "test_processed_target  = wrap_in_dataloader(\n",
    "    p,\n",
    "    Lazy_Map(test_original_target, transform_lambda)\n",
    ")\n",
    "\n",
    "\n",
    "\n",
    "datasets = EasyDict({\n",
    "    \"source\": {\n",
    "        \"original\": {\"train\":train_original_source, \"val\":val_original_source, \"test\":test_original_source},\n",
    "        \"processed\": {\"train\":train_processed_source, \"val\":val_processed_source, \"test\":test_processed_source}\n",
    "    },\n",
    "    \"target\": {\n",
    "        \"original\": {\"train\":train_original_target, \"val\":val_original_target, \"test\":test_original_target},\n",
    "        \"processed\": {\"train\":train_processed_target, \"val\":val_processed_target, \"test\":test_processed_target}\n",
    "    },\n",
    "})"
   ]
  },
  {
   "cell_type": "code",
   "execution_count": 11,
   "id": "a11b26bd",
   "metadata": {
    "execution": {
     "iopub.execute_input": "2022-03-25T22:28:01.230018Z",
     "iopub.status.busy": "2022-03-25T22:28:01.229200Z",
     "iopub.status.idle": "2022-03-25T22:28:06.541665Z",
     "shell.execute_reply": "2022-03-25T22:28:06.542491Z"
    },
    "papermill": {
     "duration": 5.371783,
     "end_time": "2022-03-25T22:28:06.542713",
     "exception": false,
     "start_time": "2022-03-25T22:28:01.170930",
     "status": "completed"
    },
    "tags": []
   },
   "outputs": [
    {
     "data": {
      "text/plain": [
       "torch.float32"
      ]
     },
     "execution_count": 11,
     "metadata": {},
     "output_type": "execute_result"
    }
   ],
   "source": [
    "ep = next(iter(test_processed_target))\n",
    "ep[0].dtype"
   ]
  },
  {
   "cell_type": "code",
   "execution_count": 12,
   "id": "19425fad",
   "metadata": {
    "execution": {
     "iopub.execute_input": "2022-03-25T22:28:06.585043Z",
     "iopub.status.busy": "2022-03-25T22:28:06.584478Z",
     "iopub.status.idle": "2022-03-25T22:28:06.635818Z",
     "shell.execute_reply": "2022-03-25T22:28:06.635095Z"
    },
    "papermill": {
     "duration": 0.075254,
     "end_time": "2022-03-25T22:28:06.636002",
     "exception": false,
     "start_time": "2022-03-25T22:28:06.560748",
     "status": "completed"
    },
    "tags": []
   },
   "outputs": [],
   "source": [
    "model = Configurable_Vanilla(\n",
    "    x_net=x_net,\n",
    "    label_loss_object=torch.nn.NLLLoss(),\n",
    "    learning_rate=p.lr\n",
    ")"
   ]
  },
  {
   "cell_type": "code",
   "execution_count": 13,
   "id": "7f6d4f2c",
   "metadata": {
    "execution": {
     "iopub.execute_input": "2022-03-25T22:28:06.674032Z",
     "iopub.status.busy": "2022-03-25T22:28:06.673666Z",
     "iopub.status.idle": "2022-03-25T22:30:53.481088Z",
     "shell.execute_reply": "2022-03-25T22:30:53.480743Z"
    },
    "papermill": {
     "duration": 166.826127,
     "end_time": "2022-03-25T22:30:53.481173",
     "exception": false,
     "start_time": "2022-03-25T22:28:06.655046",
     "status": "completed"
    },
    "tags": []
   },
   "outputs": [
    {
     "name": "stdout",
     "output_type": "stream",
     "text": [
      "epoch: 1, [batch: 1 / 2625], examples_per_second: 584.6108, train_label_loss: 2.7838, \n"
     ]
    },
    {
     "name": "stdout",
     "output_type": "stream",
     "text": [
      "epoch: 1, [batch: 263 / 2625], examples_per_second: 12478.7009, train_label_loss: 2.3486, \n"
     ]
    },
    {
     "name": "stdout",
     "output_type": "stream",
     "text": [
      "epoch: 1, [batch: 525 / 2625], examples_per_second: 13639.5316, train_label_loss: 2.0972, \n"
     ]
    },
    {
     "name": "stdout",
     "output_type": "stream",
     "text": [
      "epoch: 1, [batch: 788 / 2625], examples_per_second: 14264.3858, train_label_loss: 1.8224, \n"
     ]
    },
    {
     "name": "stdout",
     "output_type": "stream",
     "text": [
      "epoch: 1, [batch: 1050 / 2625], examples_per_second: 14190.3194, train_label_loss: 1.6020, \n"
     ]
    },
    {
     "name": "stdout",
     "output_type": "stream",
     "text": [
      "epoch: 1, [batch: 1313 / 2625], examples_per_second: 14185.4303, train_label_loss: 1.5531, \n"
     ]
    },
    {
     "name": "stdout",
     "output_type": "stream",
     "text": [
      "epoch: 1, [batch: 1575 / 2625], examples_per_second: 14147.2614, train_label_loss: 1.3703, \n"
     ]
    },
    {
     "name": "stdout",
     "output_type": "stream",
     "text": [
      "epoch: 1, [batch: 1837 / 2625], examples_per_second: 13922.1023, train_label_loss: 1.3525, \n"
     ]
    },
    {
     "name": "stdout",
     "output_type": "stream",
     "text": [
      "epoch: 1, [batch: 2100 / 2625], examples_per_second: 13776.6700, train_label_loss: 1.5638, \n"
     ]
    },
    {
     "name": "stdout",
     "output_type": "stream",
     "text": [
      "epoch: 1, [batch: 2362 / 2625], examples_per_second: 13960.1317, train_label_loss: 1.1417, \n"
     ]
    },
    {
     "name": "stdout",
     "output_type": "stream",
     "text": [
      "=============================================================\n",
      "epoch: 1, source_val_acc_label: 0.6759, source_val_label_loss: 1.0231, target_val_acc_label: 0.0771, target_val_label_loss: 7.4029, \n",
      "=============================================================\n"
     ]
    },
    {
     "name": "stdout",
     "output_type": "stream",
     "text": [
      "New best\n",
      "epoch: 2, [batch: 1 / 2625], examples_per_second: 26.9608, train_label_loss: 1.1717, \n"
     ]
    },
    {
     "name": "stdout",
     "output_type": "stream",
     "text": [
      "epoch: 2, [batch: 263 / 2625], examples_per_second: 11780.0369, train_label_loss: 0.9661, \n"
     ]
    },
    {
     "name": "stdout",
     "output_type": "stream",
     "text": [
      "epoch: 2, [batch: 525 / 2625], examples_per_second: 11613.2266, train_label_loss: 0.9508, \n"
     ]
    },
    {
     "name": "stdout",
     "output_type": "stream",
     "text": [
      "epoch: 2, [batch: 788 / 2625], examples_per_second: 11629.3601, train_label_loss: 0.9990, \n"
     ]
    },
    {
     "name": "stdout",
     "output_type": "stream",
     "text": [
      "epoch: 2, [batch: 1050 / 2625], examples_per_second: 11646.2421, train_label_loss: 0.8252, \n"
     ]
    },
    {
     "name": "stdout",
     "output_type": "stream",
     "text": [
      "epoch: 2, [batch: 1313 / 2625], examples_per_second: 11703.8229, train_label_loss: 0.8655, \n"
     ]
    },
    {
     "name": "stdout",
     "output_type": "stream",
     "text": [
      "epoch: 2, [batch: 1575 / 2625], examples_per_second: 11934.9441, train_label_loss: 0.7431, \n"
     ]
    },
    {
     "name": "stdout",
     "output_type": "stream",
     "text": [
      "epoch: 2, [batch: 1837 / 2625], examples_per_second: 11645.0060, train_label_loss: 0.8076, \n"
     ]
    },
    {
     "name": "stdout",
     "output_type": "stream",
     "text": [
      "epoch: 2, [batch: 2100 / 2625], examples_per_second: 11728.5435, train_label_loss: 0.7579, \n"
     ]
    },
    {
     "name": "stdout",
     "output_type": "stream",
     "text": [
      "epoch: 2, [batch: 2362 / 2625], examples_per_second: 11733.9670, train_label_loss: 0.6739, \n"
     ]
    },
    {
     "name": "stdout",
     "output_type": "stream",
     "text": [
      "=============================================================\n",
      "epoch: 2, source_val_acc_label: 0.7619, source_val_label_loss: 0.6838, target_val_acc_label: 0.0751, target_val_label_loss: 11.1284, \n",
      "=============================================================\n"
     ]
    },
    {
     "name": "stdout",
     "output_type": "stream",
     "text": [
      "epoch: 3, [batch: 1 / 2625], examples_per_second: 29.0089, train_label_loss: 0.5697, \n"
     ]
    },
    {
     "name": "stdout",
     "output_type": "stream",
     "text": [
      "epoch: 3, [batch: 263 / 2625], examples_per_second: 11904.1494, train_label_loss: 0.5193, \n"
     ]
    },
    {
     "name": "stdout",
     "output_type": "stream",
     "text": [
      "epoch: 3, [batch: 525 / 2625], examples_per_second: 11711.7978, train_label_loss: 0.5486, \n"
     ]
    },
    {
     "name": "stdout",
     "output_type": "stream",
     "text": [
      "epoch: 3, [batch: 788 / 2625], examples_per_second: 11701.3293, train_label_loss: 0.5956, \n"
     ]
    },
    {
     "name": "stdout",
     "output_type": "stream",
     "text": [
      "epoch: 3, [batch: 1050 / 2625], examples_per_second: 11692.9559, train_label_loss: 0.6223, \n"
     ]
    },
    {
     "name": "stdout",
     "output_type": "stream",
     "text": [
      "epoch: 3, [batch: 1313 / 2625], examples_per_second: 11502.4876, train_label_loss: 0.6243, \n"
     ]
    },
    {
     "name": "stdout",
     "output_type": "stream",
     "text": [
      "epoch: 3, [batch: 1575 / 2625], examples_per_second: 11660.7097, train_label_loss: 0.5653, \n"
     ]
    },
    {
     "name": "stdout",
     "output_type": "stream",
     "text": [
      "epoch: 3, [batch: 1837 / 2625], examples_per_second: 11711.7052, train_label_loss: 0.6797, \n"
     ]
    },
    {
     "name": "stdout",
     "output_type": "stream",
     "text": [
      "epoch: 3, [batch: 2100 / 2625], examples_per_second: 11680.5232, train_label_loss: 0.7173, \n"
     ]
    },
    {
     "name": "stdout",
     "output_type": "stream",
     "text": [
      "epoch: 3, [batch: 2362 / 2625], examples_per_second: 11608.8685, train_label_loss: 0.5383, \n"
     ]
    },
    {
     "name": "stdout",
     "output_type": "stream",
     "text": [
      "=============================================================\n",
      "epoch: 3, source_val_acc_label: 0.7208, source_val_label_loss: 0.7196, target_val_acc_label: 0.0722, target_val_label_loss: 12.4658, \n",
      "=============================================================\n"
     ]
    },
    {
     "name": "stdout",
     "output_type": "stream",
     "text": [
      "epoch: 4, [batch: 1 / 2625], examples_per_second: 29.0754, train_label_loss: 0.5128, \n"
     ]
    },
    {
     "name": "stdout",
     "output_type": "stream",
     "text": [
      "epoch: 4, [batch: 263 / 2625], examples_per_second: 11429.0744, train_label_loss: 0.5921, \n"
     ]
    },
    {
     "name": "stdout",
     "output_type": "stream",
     "text": [
      "epoch: 4, [batch: 525 / 2625], examples_per_second: 11819.2723, train_label_loss: 0.4197, \n"
     ]
    },
    {
     "name": "stdout",
     "output_type": "stream",
     "text": [
      "epoch: 4, [batch: 788 / 2625], examples_per_second: 11562.4117, train_label_loss: 0.4379, \n"
     ]
    },
    {
     "name": "stdout",
     "output_type": "stream",
     "text": [
      "epoch: 4, [batch: 1050 / 2625], examples_per_second: 11536.8015, train_label_loss: 0.3831, \n"
     ]
    },
    {
     "name": "stdout",
     "output_type": "stream",
     "text": [
      "epoch: 4, [batch: 1313 / 2625], examples_per_second: 11637.0086, train_label_loss: 0.5418, \n"
     ]
    },
    {
     "name": "stdout",
     "output_type": "stream",
     "text": [
      "epoch: 4, [batch: 1575 / 2625], examples_per_second: 11656.9080, train_label_loss: 0.3789, \n"
     ]
    },
    {
     "name": "stdout",
     "output_type": "stream",
     "text": [
      "epoch: 4, [batch: 1837 / 2625], examples_per_second: 11610.7908, train_label_loss: 0.5480, \n"
     ]
    },
    {
     "name": "stdout",
     "output_type": "stream",
     "text": [
      "epoch: 4, [batch: 2100 / 2625], examples_per_second: 12442.2156, train_label_loss: 0.4316, \n"
     ]
    },
    {
     "name": "stdout",
     "output_type": "stream",
     "text": [
      "epoch: 4, [batch: 2362 / 2625], examples_per_second: 12660.1774, train_label_loss: 0.3698, \n"
     ]
    },
    {
     "name": "stdout",
     "output_type": "stream",
     "text": [
      "=============================================================\n",
      "epoch: 4, source_val_acc_label: 0.8081, source_val_label_loss: 0.5036, target_val_acc_label: 0.0687, target_val_label_loss: 14.7249, \n",
      "=============================================================\n"
     ]
    },
    {
     "name": "stdout",
     "output_type": "stream",
     "text": [
      "epoch: 5, [batch: 1 / 2625], examples_per_second: 32.8317, train_label_loss: 0.3800, \n"
     ]
    },
    {
     "name": "stdout",
     "output_type": "stream",
     "text": [
      "epoch: 5, [batch: 263 / 2625], examples_per_second: 12842.1823, train_label_loss: 0.3866, \n"
     ]
    },
    {
     "name": "stdout",
     "output_type": "stream",
     "text": [
      "epoch: 5, [batch: 525 / 2625], examples_per_second: 12897.8553, train_label_loss: 0.4513, \n"
     ]
    },
    {
     "name": "stdout",
     "output_type": "stream",
     "text": [
      "epoch: 5, [batch: 788 / 2625], examples_per_second: 12815.3218, train_label_loss: 0.4551, \n"
     ]
    },
    {
     "name": "stdout",
     "output_type": "stream",
     "text": [
      "epoch: 5, [batch: 1050 / 2625], examples_per_second: 12786.5137, train_label_loss: 0.3782, \n"
     ]
    },
    {
     "name": "stdout",
     "output_type": "stream",
     "text": [
      "epoch: 5, [batch: 1313 / 2625], examples_per_second: 12804.7424, train_label_loss: 0.4017, \n"
     ]
    },
    {
     "name": "stdout",
     "output_type": "stream",
     "text": [
      "epoch: 5, [batch: 1575 / 2625], examples_per_second: 12730.8370, train_label_loss: 0.3163, \n"
     ]
    },
    {
     "name": "stdout",
     "output_type": "stream",
     "text": [
      "epoch: 5, [batch: 1837 / 2625], examples_per_second: 12802.7233, train_label_loss: 0.3273, \n"
     ]
    },
    {
     "name": "stdout",
     "output_type": "stream",
     "text": [
      "epoch: 5, [batch: 2100 / 2625], examples_per_second: 13551.4051, train_label_loss: 0.3756, \n"
     ]
    },
    {
     "name": "stdout",
     "output_type": "stream",
     "text": [
      "epoch: 5, [batch: 2362 / 2625], examples_per_second: 12578.9068, train_label_loss: 0.3787, \n"
     ]
    },
    {
     "name": "stdout",
     "output_type": "stream",
     "text": [
      "=============================================================\n",
      "epoch: 5, source_val_acc_label: 0.8560, source_val_label_loss: 0.3903, target_val_acc_label: 0.0668, target_val_label_loss: 16.1809, \n",
      "=============================================================\n"
     ]
    },
    {
     "name": "stdout",
     "output_type": "stream",
     "text": [
      "Patience (3) exhausted\n"
     ]
    }
   ],
   "source": [
    "jig = Vanilla_Train_Eval_Test_Jig(\n",
    "    model=model,\n",
    "    path_to_best_model=p.BEST_MODEL_PATH,\n",
    "    device=p.device,\n",
    "    label_loss_object=torch.nn.NLLLoss(),\n",
    ")\n",
    "\n",
    "jig.train(\n",
    "    train_iterable=datasets.source.processed.train,\n",
    "    source_val_iterable=datasets.source.processed.val,\n",
    "    target_val_iterable=datasets.target.processed.val,\n",
    "    patience=p.patience,\n",
    "    num_epochs=p.n_epoch,\n",
    "    num_logs_per_epoch=p.NUM_LOGS_PER_EPOCH,\n",
    "    criteria_for_best=p.criteria_for_best\n",
    ")"
   ]
  },
  {
   "cell_type": "code",
   "execution_count": 14,
   "id": "4bc2ac17",
   "metadata": {
    "execution": {
     "iopub.execute_input": "2022-03-25T22:30:53.546287Z",
     "iopub.status.busy": "2022-03-25T22:30:53.545925Z",
     "iopub.status.idle": "2022-03-25T22:30:53.548611Z",
     "shell.execute_reply": "2022-03-25T22:30:53.548952Z"
    },
    "papermill": {
     "duration": 0.038091,
     "end_time": "2022-03-25T22:30:53.549092",
     "exception": false,
     "start_time": "2022-03-25T22:30:53.511001",
     "status": "completed"
    },
    "tags": []
   },
   "outputs": [],
   "source": [
    "total_experiment_time_secs = time.time() - start_time_secs"
   ]
  },
  {
   "cell_type": "code",
   "execution_count": 15,
   "id": "cae88f23",
   "metadata": {
    "execution": {
     "iopub.execute_input": "2022-03-25T22:30:53.627650Z",
     "iopub.status.busy": "2022-03-25T22:30:53.625764Z",
     "iopub.status.idle": "2022-03-25T22:31:46.646659Z",
     "shell.execute_reply": "2022-03-25T22:31:46.645778Z"
    },
    "papermill": {
     "duration": 53.062356,
     "end_time": "2022-03-25T22:31:46.646864",
     "exception": false,
     "start_time": "2022-03-25T22:30:53.584508",
     "status": "completed"
    },
    "tags": []
   },
   "outputs": [],
   "source": [
    "source_test_label_accuracy, source_test_label_loss = jig.test(datasets.source.processed.test)\n",
    "target_test_label_accuracy, target_test_label_loss = jig.test(datasets.target.processed.test)\n",
    "\n",
    "source_val_label_accuracy, source_val_label_loss = jig.test(datasets.source.processed.val)\n",
    "target_val_label_accuracy, target_val_label_loss = jig.test(datasets.target.processed.val)\n",
    "\n",
    "history = jig.get_history()\n",
    "\n",
    "total_epochs_trained = len(history[\"epoch_indices\"])\n",
    "\n",
    "val_dl = wrap_in_dataloader(p, Sequence_Aggregator((datasets.source.original.val, datasets.target.original.val)))\n",
    "\n",
    "confusion = confusion_by_domain_over_dataloader(model, p.device, val_dl, forward_uses_domain=False)\n",
    "per_domain_accuracy = per_domain_accuracy_from_confusion(confusion)\n",
    "\n",
    "# Add a key to per_domain_accuracy for if it was a source domain\n",
    "for domain, accuracy in per_domain_accuracy.items():\n",
    "    per_domain_accuracy[domain] = {\n",
    "        \"accuracy\": accuracy,\n",
    "        \"source?\": domain in p.domains_source\n",
    "    }\n",
    "\n",
    "# Do an independent accuracy assesment JUST TO BE SURE!\n",
    "# _source_test_label_accuracy = independent_accuracy_assesment(model, datasets.source.processed.test, p.device)\n",
    "# _target_test_label_accuracy = independent_accuracy_assesment(model, datasets.target.processed.test, p.device)\n",
    "# _source_val_label_accuracy = independent_accuracy_assesment(model, datasets.source.processed.val, p.device)\n",
    "# _target_val_label_accuracy = independent_accuracy_assesment(model, datasets.target.processed.val, p.device)\n",
    "\n",
    "# assert(_source_test_label_accuracy == source_test_label_accuracy)\n",
    "# assert(_target_test_label_accuracy == target_test_label_accuracy)\n",
    "# assert(_source_val_label_accuracy == source_val_label_accuracy)\n",
    "# assert(_target_val_label_accuracy == target_val_label_accuracy)\n",
    "\n",
    "###################################\n",
    "# Write out the results\n",
    "###################################\n",
    "\n",
    "experiment = {\n",
    "    \"experiment_name\": p.experiment_name,\n",
    "    \"parameters\": p,\n",
    "    \"results\": {\n",
    "        \"source_test_label_accuracy\": source_test_label_accuracy,\n",
    "        \"source_test_label_loss\": source_test_label_loss,\n",
    "        \"target_test_label_accuracy\": target_test_label_accuracy,\n",
    "        \"target_test_label_loss\": target_test_label_loss,\n",
    "        \"source_val_label_accuracy\": source_val_label_accuracy,\n",
    "        \"source_val_label_loss\": source_val_label_loss,\n",
    "        \"target_val_label_accuracy\": target_val_label_accuracy,\n",
    "        \"target_val_label_loss\": target_val_label_loss,\n",
    "        \"total_epochs_trained\": total_epochs_trained,\n",
    "        \"total_experiment_time_secs\": total_experiment_time_secs,\n",
    "        \"confusion\": confusion,\n",
    "        \"per_domain_accuracy\": per_domain_accuracy,\n",
    "    },\n",
    "    \"history\": history,\n",
    "    \"dataset_metrics\": get_dataset_metrics(datasets, \"cnn\"),\n",
    "}"
   ]
  },
  {
   "cell_type": "code",
   "execution_count": 16,
   "id": "74c318cf",
   "metadata": {
    "execution": {
     "iopub.execute_input": "2022-03-25T22:31:46.815479Z",
     "iopub.status.busy": "2022-03-25T22:31:46.808233Z",
     "iopub.status.idle": "2022-03-25T22:31:46.999367Z",
     "shell.execute_reply": "2022-03-25T22:31:47.000038Z"
    },
    "papermill": {
     "duration": 0.317523,
     "end_time": "2022-03-25T22:31:47.000226",
     "exception": false,
     "start_time": "2022-03-25T22:31:46.682703",
     "status": "completed"
    },
    "tags": []
   },
   "outputs": [
    {
     "data": {
      "text/plain": [
       "<AxesSubplot:title={'center':'Source Train Label Loss vs Source Val Label Loss'}, xlabel='Epoch'>"
      ]
     },
     "execution_count": 16,
     "metadata": {},
     "output_type": "execute_result"
    },
    {
     "data": {
      "image/png": "[encoded data removed]",
      "text/plain": [
       "<Figure size 1080x504 with 1 Axes>"
      ]
     },
     "metadata": {
      "needs_background": "light"
     },
     "output_type": "display_data"
    }
   ],
   "source": [
    "get_loss_curve(experiment)"
   ]
  },
  {
   "cell_type": "code",
   "execution_count": 17,
   "id": "59376601",
   "metadata": {
    "execution": {
     "iopub.execute_input": "2022-03-25T22:31:47.095472Z",
     "iopub.status.busy": "2022-03-25T22:31:47.094651Z",
     "iopub.status.idle": "2022-03-25T22:31:47.353062Z",
     "shell.execute_reply": "2022-03-25T22:31:47.353368Z"
    },
    "papermill": {
     "duration": 0.315125,
     "end_time": "2022-03-25T22:31:47.353457",
     "exception": false,
     "start_time": "2022-03-25T22:31:47.038332",
     "status": "completed"
    },
    "tags": []
   },
   "outputs": [
    {
     "data": {
      "text/plain": [
       "<AxesSubplot:title={'center':'Results'}>"
      ]
     },
     "execution_count": 17,
     "metadata": {},
     "output_type": "execute_result"
    },
    {
     "data": {
      "image/png": "[encoded data removed]",
      "text/plain": [
       "<Figure size 1080x504 with 1 Axes>"
      ]
     },
     "metadata": {
      "needs_background": "light"
     },
     "output_type": "display_data"
    }
   ],
   "source": [
    "get_results_table(experiment)"
   ]
  },
  {
   "cell_type": "code",
   "execution_count": 18,
   "id": "e80c5c98",
   "metadata": {
    "execution": {
     "iopub.execute_input": "2022-03-25T22:31:47.444480Z",
     "iopub.status.busy": "2022-03-25T22:31:47.442533Z",
     "iopub.status.idle": "2022-03-25T22:31:47.603893Z",
     "shell.execute_reply": "2022-03-25T22:31:47.604195Z"
    },
    "papermill": {
     "duration": 0.217083,
     "end_time": "2022-03-25T22:31:47.604282",
     "exception": false,
     "start_time": "2022-03-25T22:31:47.387199",
     "status": "completed"
    },
    "tags": []
   },
   "outputs": [
    {
     "data": {
      "text/plain": [
       "<AxesSubplot:title={'center':'Per Domain Accuracy'}, xlabel='domain'>"
      ]
     },
     "execution_count": 18,
     "metadata": {},
     "output_type": "execute_result"
    },
    {
     "data": {
      "image/png": "[encoded data removed]",
      "text/plain": [
       "<Figure size 1080x504 with 1 Axes>"
      ]
     },
     "metadata": {
      "needs_background": "light"
     },
     "output_type": "display_data"
    }
   ],
   "source": [
    "get_domain_accuracies(experiment)"
   ]
  },
  {
   "cell_type": "code",
   "execution_count": 19,
   "id": "086fdd10",
   "metadata": {
    "execution": {
     "iopub.execute_input": "2022-03-25T22:31:47.677581Z",
     "iopub.status.busy": "2022-03-25T22:31:47.677212Z",
     "iopub.status.idle": "2022-03-25T22:31:47.679444Z",
     "shell.execute_reply": "2022-03-25T22:31:47.679762Z"
    },
    "papermill": {
     "duration": 0.041318,
     "end_time": "2022-03-25T22:31:47.679850",
     "exception": false,
     "start_time": "2022-03-25T22:31:47.638532",
     "status": "completed"
    },
    "tags": []
   },
   "outputs": [
    {
     "name": "stdout",
     "output_type": "stream",
     "text": [
      "Source Test Label Accuracy: 0.6738611111111111 Target Test Label Accuracy: 0.07718333333333334\n",
      "Source Val Label Accuracy: 0.6759444444444445 Target Val Label Accuracy: 0.07711666666666667\n"
     ]
    }
   ],
   "source": [
    "print(\"Source Test Label Accuracy:\", experiment[\"results\"][\"source_test_label_accuracy\"], \"Target Test Label Accuracy:\", experiment[\"results\"][\"target_test_label_accuracy\"])\n",
    "print(\"Source Val Label Accuracy:\", experiment[\"results\"][\"source_val_label_accuracy\"], \"Target Val Label Accuracy:\", experiment[\"results\"][\"target_val_label_accuracy\"])"
   ]
  },
  {
   "cell_type": "code",
   "execution_count": 20,
   "id": "9f450536",
   "metadata": {
    "execution": {
     "iopub.execute_input": "2022-03-25T22:31:47.752180Z",
     "iopub.status.busy": "2022-03-25T22:31:47.751818Z",
     "iopub.status.idle": "2022-03-25T22:31:47.755190Z",
     "shell.execute_reply": "2022-03-25T22:31:47.754870Z"
    },
    "papermill": {
     "duration": 0.042168,
     "end_time": "2022-03-25T22:31:47.755259",
     "exception": false,
     "start_time": "2022-03-25T22:31:47.713091",
     "status": "completed"
    },
    "tags": [
     "experiment_json"
    ]
   },
   "outputs": [
    {
     "data": {
      "text/plain": [
       "'{\"experiment_name\": \"cnn_1:oracle.run1\", \"parameters\": {\"experiment_name\": \"cnn_1:oracle.run1\", \"domains_source\": [8, 32, 50], \"domains_target\": [14, 20, 26, 38, 44], \"labels\": [\"3123D52\", \"3123D65\", \"3123D79\", \"3123D80\", \"3123D54\", \"3123D70\", \"3123D7B\", \"3123D89\", \"3123D58\", \"3123D76\", \"3123D7D\", \"3123EFE\", \"3123D64\", \"3123D78\", \"3123D7E\", \"3124E4A\"], \"pickle_name_source\": \"oracle.Run1_10kExamples_stratified_ds.2022A.pkl\", \"pickle_name_target\": \"oracle.Run1_10kExamples_stratified_ds.2022A.pkl\", \"device\": \"cuda\", \"lr\": 0.0001, \"batch_size\": 128, \"normalize_source\": false, \"normalize_target\": false, \"num_examples_per_domain_per_label_source\": -1, \"num_examples_per_domain_per_label_target\": -1, \"torch_default_dtype\": \"torch.float32\", \"n_epoch\": 50, \"patience\": 3, \"criteria_for_best\": \"target_accuracy\", \"x_net\": [{\"class\": \"nnReshape\", \"kargs\": {\"shape\": [-1, 1, 2, 256]}}, {\"class\": \"Conv2d\", \"kargs\": {\"in_channels\": 1, \"out_channels\": 256, \"kernel_size\": [1, 7], \"bias\": false, \"padding\": [0, 3]}}, {\"class\": \"ReLU\", \"kargs\": {\"inplace\": true}}, {\"class\": \"BatchNorm2d\", \"kargs\": {\"num_features\": 256}}, {\"class\": \"Conv2d\", \"kargs\": {\"in_channels\": 256, \"out_channels\": 80, \"kernel_size\": [2, 7], \"bias\": true, \"padding\": [0, 3]}}, {\"class\": \"ReLU\", \"kargs\": {\"inplace\": true}}, {\"class\": \"BatchNorm2d\", \"kargs\": {\"num_features\": 80}}, {\"class\": \"Flatten\", \"kargs\": {}}, {\"class\": \"Linear\", \"kargs\": {\"in_features\": 20480, \"out_features\": 256}}, {\"class\": \"ReLU\", \"kargs\": {\"inplace\": true}}, {\"class\": \"BatchNorm1d\", \"kargs\": {\"num_features\": 256}}, {\"class\": \"Linear\", \"kargs\": {\"in_features\": 256, \"out_features\": 16}}], \"NUM_LOGS_PER_EPOCH\": 10, \"BEST_MODEL_PATH\": \"./best_model.pth\", \"dataset_seed\": 500, \"seed\": 500}, \"results\": {\"source_test_label_accuracy\": 0.6738611111111111, \"source_test_label_loss\": 1.022825454733935, \"target_test_label_accuracy\": 0.07718333333333334, \"target_test_label_loss\": 7.404368910453975, \"source_val_label_accuracy\": 0.6759444444444445, \"source_val_label_loss\": 1.0230090913510026, \"target_val_label_accuracy\": 0.07711666666666667, \"target_val_label_loss\": 7.403630138206076, \"total_epochs_trained\": 5, \"total_experiment_time_secs\": 193.99881529808044, \"confusion\": {\"44\": {\"15\": {\"6\": 50, \"11\": 334, \"12\": 685, \"9\": 356, \"5\": 11, \"0\": 8, \"15\": 47, \"13\": 6, \"7\": 2, \"8\": 1}, \"6\": {\"15\": 525, \"4\": 975}, \"8\": {\"8\": 167, \"12\": 1006, \"0\": 62, \"6\": 57, \"11\": 83, \"3\": 25, \"5\": 51, \"9\": 9, \"13\": 27, \"15\": 1, \"1\": 7, \"7\": 3, \"2\": 2}, \"13\": {\"4\": 1484, \"15\": 16}, \"7\": {\"15\": 1390, \"9\": 107, \"4\": 2, \"7\": 1}, \"9\": {\"15\": 972, \"4\": 448, \"9\": 78, \"7\": 2}, \"14\": {\"15\": 830, \"9\": 535, \"6\": 78, \"5\": 17, \"11\": 23, \"12\": 15, \"4\": 1, \"7\": 1}, \"12\": {\"14\": 95, \"8\": 124, \"3\": 951, \"13\": 70, \"4\": 252, \"7\": 3, \"2\": 2, \"0\": 1, \"5\": 2}, \"1\": {\"5\": 1165, \"15\": 253, \"7\": 69, \"8\": 11, \"9\": 2}, \"11\": {\"4\": 1500}, \"10\": {\"9\": 146, \"15\": 1166, \"5\": 146, \"7\": 42}, \"0\": {\"8\": 680, \"0\": 287, \"1\": 21, \"11\": 58, \"12\": 242, \"13\": 202, \"2\": 10}, \"4\": {\"9\": 429, \"4\": 327, \"15\": 662, \"11\": 51, \"7\": 26, \"6\": 3, \"12\": 1, \"5\": 1}, \"3\": {\"13\": 288, \"14\": 318, \"4\": 270, \"2\": 288, \"8\": 252, \"0\": 6, \"3\": 74, \"7\": 2, \"5\": 2}, \"5\": {\"6\": 396, \"7\": 107, \"5\": 495, \"9\": 144, \"15\": 257, \"11\": 54, \"12\": 35, \"4\": 5, \"13\": 7}, \"2\": {\"15\": 1390, \"5\": 104, \"9\": 6}}, \"26\": {\"2\": {\"11\": 429, \"3\": 993, \"9\": 35, \"6\": 30, \"12\": 13}, \"6\": {\"9\": 171, \"6\": 124, \"12\": 1074, \"11\": 89, \"3\": 42}, \"14\": {\"12\": 740, \"3\": 739, \"11\": 14, \"9\": 5, \"6\": 2}, \"11\": {\"6\": 1146, \"9\": 156, \"12\": 176, \"2\": 19, \"0\": 1, \"14\": 1, \"10\": 1}, \"7\": {\"3\": 1428, \"9\": 7, \"11\": 59, \"6\": 6}, \"13\": {\"6\": 285, \"3\": 545, \"9\": 520, \"11\": 130, \"2\": 20}, \"9\": {\"3\": 1123, \"6\": 114, \"11\": 139, \"9\": 116, \"12\": 7, \"2\": 1}, \"1\": {\"3\": 286, \"12\": 1201, \"9\": 4, \"11\": 9}, \"12\": {\"12\": 617, \"9\": 384, \"6\": 204, \"3\": 293, \"2\": 2}, \"8\": {\"3\": 1376, \"11\": 42, \"12\": 22, \"9\": 27, \"6\": 33}, \"10\": {\"12\": 939, \"3\": 475, \"6\": 22, \"9\": 32, \"11\": 32}, \"4\": {\"3\": 1500}, \"5\": {\"12\": 330, \"11\": 452, \"6\": 328, \"9\": 373, \"3\": 17}, \"15\": {\"12\": 439, \"11\": 516, \"3\": 87, \"9\": 246, \"6\": 212}, \"0\": {\"3\": 1041, \"12\": 404, \"11\": 37, \"9\": 9, \"6\": 9}, \"3\": {\"11\": 62, \"3\": 1436, \"2\": 1, \"9\": 1}}, \"50\": {\"4\": {\"5\": 184, \"4\": 784, \"7\": 382, \"15\": 141, \"9\": 6, \"6\": 3}, \"14\": {\"2\": 853, \"14\": 584, \"12\": 11, \"9\": 38, \"13\": 13, \"0\": 1}, \"0\": {\"10\": 183, \"0\": 1198, \"2\": 119}, \"1\": {\"1\": 598, \"13\": 738, \"10\": 30, \"0\": 28, \"8\": 99, \"2\": 6, \"15\": 1}, \"11\": {\"11\": 617, \"15\": 710, \"9\": 122, \"8\": 6, \"5\": 6, \"12\": 18, \"13\": 4, \"0\": 17}, \"2\": {\"2\": 1015, \"0\": 468, \"12\": 3, \"9\": 3, \"10\": 5, \"14\": 6}, \"8\": {\"8\": 1128, \"1\": 364, \"13\": 1, \"10\": 7}, \"13\": {\"13\": 1461, \"1\": 32, \"8\": 7}, \"9\": {\"9\": 992, \"15\": 336, \"11\": 49, \"12\": 121, \"5\": 2}, \"10\": {\"0\": 171, \"8\": 140, \"10\": 1166, \"1\": 23}, \"3\": {\"3\": 1499, \"13\": 1}, \"6\": {\"15\": 1066, \"6\": 289, \"11\": 41, \"5\": 81, \"9\": 16, \"12\": 1, \"13\": 6}, \"7\": {\"7\": 1206, \"5\": 256, \"4\": 36, \"15\": 2}, \"12\": {\"9\": 347, \"12\": 1126, \"11\": 17, \"0\": 2, \"5\": 3, \"15\": 4, \"7\": 1}, \"5\": {\"5\": 812, \"7\": 208, \"4\": 16, \"15\": 210, \"6\": 46, \"3\": 27, \"13\": 165, \"11\": 13, \"9\": 2, \"1\": 1}, \"15\": {\"15\": 1412, \"9\": 39, \"11\": 32, \"6\": 16, \"5\": 1}}, \"20\": {\"13\": {\"2\": 1489, \"7\": 4, \"13\": 4, \"12\": 3}, \"11\": {\"3\": 535, \"2\": 965}, \"12\": {\"2\": 1430, \"12\": 67, \"15\": 3}, \"1\": {\"2\": 1478, \"12\": 10, \"15\": 12}, \"14\": {\"12\": 890, \"2\": 444, \"3\": 157, \"15\": 9}, \"6\": {\"12\": 697, \"2\": 795, \"3\": 7, \"15\": 1}, \"9\": {\"2\": 1470, \"12\": 28, \"15\": 2}, \"2\": {\"2\": 1469, \"12\": 31}, \"10\": {\"12\": 1311, \"2\": 153, \"7\": 36}, \"3\": {\"2\": 1431, \"12\": 54, \"15\": 13, \"3\": 2}, \"15\": {\"2\": 1489, \"12\": 9, \"15\": 2}, \"5\": {\"12\": 42, \"2\": 1442, \"15\": 16}, \"8\": {\"12\": 417, \"2\": 942, \"3\": 114, \"15\": 27}, \"4\": {\"2\": 514, \"12\": 983, \"15\": 3}, \"0\": {\"2\": 1337, \"3\": 145, \"12\": 4, \"15\": 14}, \"7\": {\"12\": 96, \"2\": 1403, \"15\": 1}}, \"38\": {\"11\": {\"7\": 1436, \"4\": 64}, \"1\": {\"2\": 628, \"0\": 821, \"8\": 13, \"10\": 34, \"1\": 4}, \"6\": {\"2\": 1281, \"13\": 91, \"0\": 121, \"1\": 4, \"14\": 2, \"8\": 1}, \"10\": {\"4\": 754, \"7\": 746}, \"0\": {\"4\": 1383, \"15\": 24, \"7\": 81, \"9\": 11, \"6\": 1}, \"8\": {\"15\": 956, \"7\": 17, \"13\": 269, \"5\": 66, \"9\": 47, \"11\": 55, \"4\": 55, \"6\": 30, \"8\": 3, \"1\": 1, \"12\": 1}, \"15\": {\"13\": 883, \"8\": 251, \"1\": 271, \"11\": 60, \"10\": 10, \"12\": 6, \"9\": 2, \"6\": 2, \"5\": 5, \"0\": 7, \"15\": 3}, \"7\": {\"15\": 1058, \"4\": 418, \"9\": 17, \"5\": 6, \"7\": 1}, \"12\": {\"15\": 1338, \"13\": 162}, \"4\": {\"4\": 1462, \"7\": 15, \"15\": 23}, \"3\": {\"7\": 1089, \"4\": 411}, \"14\": {\"7\": 646, \"5\": 697, \"3\": 151, \"15\": 2, \"4\": 4}, \"2\": {\"5\": 450, \"7\": 832, \"3\": 217, \"4\": 1}, \"5\": {\"13\": 155, \"15\": 784, \"9\": 141, \"12\": 11, \"11\": 253, \"6\": 47, \"7\": 5, \"5\": 17, \"0\": 13, \"4\": 37, \"1\": 18, \"8\": 19}, \"9\": {\"9\": 1031, \"12\": 404, \"15\": 62, \"11\": 3}, \"13\": {\"7\": 1398, \"4\": 102}}, \"14\": {\"8\": {\"3\": 287, \"2\": 962, \"11\": 192, \"9\": 40, \"6\": 19}, \"9\": {\"2\": 1500}, \"5\": {\"3\": 1460, \"11\": 39, \"2\": 1}, \"14\": {\"3\": 1500}, \"4\": {\"3\": 1394, \"2\": 106}, \"0\": {\"3\": 1450, \"2\": 34, \"11\": 13, \"6\": 2, \"9\": 1}, \"15\": {\"11\": 1466, \"3\": 34}, \"13\": {\"3\": 1422, \"11\": 78}, \"7\": {\"3\": 812, \"11\": 688}, \"6\": {\"3\": 1493, \"11\": 7}, \"2\": {\"3\": 1481, \"11\": 18, \"2\": 1}, \"11\": {\"7\": 1320, \"4\": 22, \"8\": 99, \"6\": 10, \"12\": 43, \"2\": 6}, \"10\": {\"2\": 920, \"3\": 580}, \"3\": {\"3\": 1419, \"11\": 80, \"9\": 1}, \"12\": {\"9\": 97, \"2\": 1395, \"3\": 8}, \"1\": {\"2\": 1166, \"3\": 333, \"11\": 1}}, \"32\": {\"3\": {\"3\": 1262, \"13\": 173, \"4\": 57, \"11\": 8}, \"15\": {\"15\": 1494, \"8\": 6}, \"1\": {\"1\": 1465, \"8\": 35}, \"8\": {\"5\": 65, \"8\": 1212, \"13\": 56, \"0\": 65, \"3\": 5, \"15\": 43, \"14\": 22, \"2\": 16, \"4\": 7, \"7\": 9}, \"7\": {\"8\": 66, \"7\": 752, \"14\": 261, \"5\": 304, \"0\": 111, \"15\": 4, \"12\": 2}, \"13\": {\"11\": 85, \"13\": 776, \"3\": 415, \"14\": 37, \"4\": 156, \"2\": 31}, \"5\": {\"14\": 44, \"5\": 866, \"7\": 252, \"0\": 45, \"8\": 227, \"15\": 49, \"12\": 5, \"2\": 2, \"9\": 8, \"11\": 2}, \"9\": {\"2\": 794, \"14\": 248, \"9\": 239, \"0\": 131, \"12\": 71, \"13\": 11, \"6\": 1, \"10\": 4, \"11\": 1}, \"6\": {\"6\": 1491, \"9\": 7, \"12\": 2}, \"12\": {\"12\": 1367, \"10\": 14, \"9\": 95, \"2\": 16, \"0\": 5, \"6\": 2, \"14\": 1}, \"11\": {\"11\": 1450, \"3\": 29, \"13\": 17, \"14\": 4}, \"2\": {\"2\": 1299, \"13\": 106, \"8\": 6, \"4\": 12, \"14\": 77}, \"0\": {\"0\": 539, \"5\": 95, \"8\": 599, \"14\": 167, \"15\": 13, \"7\": 50, \"2\": 32, \"1\": 1, \"9\": 1, \"11\": 3}, \"4\": {\"2\": 616, \"14\": 83, \"4\": 204, \"13\": 581, \"3\": 16}, \"10\": {\"10\": 1492, \"12\": 3, \"6\": 5}, \"14\": {\"7\": 397, \"0\": 78, \"2\": 77, \"14\": 783, \"8\": 82, \"5\": 76, \"15\": 1, \"13\": 2, \"4\": 4}}, \"8\": {\"8\": {\"8\": 1339, \"4\": 32, \"11\": 60, \"6\": 28, \"7\": 18, \"1\": 3, \"14\": 20}, \"4\": {\"8\": 112, \"6\": 173, \"10\": 39, \"4\": 800, \"7\": 75, \"14\": 245, \"11\": 37, \"1\": 18, \"5\": 1}, \"3\": {\"2\": 278, \"3\": 1220, \"12\": 2}, \"0\": {\"0\": 1500}, \"11\": {\"11\": 784, \"8\": 257, \"1\": 252, \"5\": 14, \"10\": 41, \"14\": 82, \"6\": 41, \"4\": 18, \"7\": 11}, \"15\": {\"15\": 408, \"12\": 678, \"2\": 413, \"3\": 1}, \"7\": {\"7\": 1052, \"6\": 294, \"10\": 39, \"13\": 77, \"8\": 22, \"1\": 9, \"11\": 6, \"4\": 1}, \"13\": {\"13\": 802, \"7\": 244, \"6\": 85, \"10\": 299, \"15\": 3, \"5\": 51, \"11\": 3, \"1\": 12, \"2\": 1}, \"9\": {\"9\": 1500}, \"2\": {\"2\": 1348, \"3\": 123, \"12\": 16, \"15\": 13}, \"12\": {\"2\": 278, \"12\": 1126, \"15\": 96}, \"1\": {\"1\": 768, \"10\": 173, \"7\": 20, \"11\": 312, \"6\": 73, \"13\": 10, \"5\": 102, \"8\": 28, \"14\": 4, \"4\": 10}, \"14\": {\"14\": 1121, \"11\": 29, \"4\": 286, \"6\": 7, \"8\": 38, \"0\": 15, \"10\": 4}, \"10\": {\"13\": 357, \"10\": 765, \"5\": 175, \"6\": 71, \"1\": 39, \"7\": 75, \"4\": 8, \"11\": 6, \"14\": 2, \"8\": 2}, \"6\": {\"6\": 492, \"10\": 83, \"7\": 683, \"4\": 65, \"8\": 80, \"13\": 38, \"11\": 27, \"1\": 24, \"14\": 8}, \"5\": {\"5\": 1065, \"10\": 305, \"1\": 58, \"7\": 1, \"13\": 39, \"11\": 7, \"4\": 8, \"14\": 13, \"6\": 3, \"2\": 1}}}, \"per_domain_accuracy\": {\"44\": {\"accuracy\": 0.0615, \"source?\": false}, \"26\": {\"accuracy\": 0.09554166666666666, \"source?\": false}, \"50\": {\"accuracy\": 0.6619583333333333, \"source?\": true}, \"20\": {\"accuracy\": 0.06433333333333334, \"source?\": false}, \"38\": {\"accuracy\": 0.10504166666666667, \"source?\": false}, \"14\": {\"accuracy\": 0.059166666666666666, \"source?\": false}, \"32\": {\"accuracy\": 0.6954583333333333, \"source?\": true}, \"8\": {\"accuracy\": 0.6704166666666667, \"source?\": true}}}, \"history\": {\"epoch_indices\": [1, 2, 3, 4, 5], \"train_label_loss\": [1.6915221875962756, 0.8529529248419262, 0.5900445702416556, 0.4694272174494607, 0.39421965919789814], \"source_val_label_loss\": [1.0230705411988932, 0.6838421226077139, 0.7195923753995879, 0.5036044585027237, 0.39030490767998127], \"target_val_label_loss\": [7.402932239239658, 11.128434489276618, 12.465820575827983, 14.72493623924662, 16.180944039115012], \"source_val_acc_label\": [0.6759444444444445, 0.7619444444444444, 0.7208055555555556, 0.8081111111111111, 0.8560416666666667], \"target_val_acc_label\": [0.07711666666666667, 0.07511666666666666, 0.07223333333333333, 0.06870833333333333, 0.06675]}, \"dataset_metrics\": {\"source\": {\"train\": {\"n_unique_x\": 336000, \"n_unique_y\": 16, \"n_batch/episode\": 2625}, \"val\": {\"n_unique_x\": 72000, \"n_unique_y\": 16, \"n_batch/episode\": 563}, \"test\": {\"n_unique_x\": 72000, \"n_unique_y\": 16, \"n_batch/episode\": 563}}, \"target\": {\"train\": {\"n_unique_x\": 560000, \"n_unique_y\": 16, \"n_batch/episode\": 4375}, \"val\": {\"n_unique_x\": 120000, \"n_unique_y\": 16, \"n_batch/episode\": 938}, \"test\": {\"n_unique_x\": 120000, \"n_unique_y\": 16, \"n_batch/episode\": 938}}}}'"
      ]
     },
     "execution_count": 20,
     "metadata": {},
     "output_type": "execute_result"
    }
   ],
   "source": [
    "json.dumps(experiment)"
   ]
  }
 ],
 "metadata": {
  "celltoolbar": "Tags",
  "kernelspec": {
   "display_name": "Python 3 (ipykernel)",
   "language": "python",
   "name": "python3"
  },
  "language_info": {
   "codemirror_mode": {
    "name": "ipython",
    "version": 3
   },
   "file_extension": ".py",
   "mimetype": "text/x-python",
   "name": "python",
   "nbconvert_exporter": "python",
   "pygments_lexer": "ipython3",
   "version": "3.8.12"
  },
  "papermill": {
   "default_parameters": {},
   "duration": 254.270352,
   "end_time": "2022-03-25T22:31:51.103160",
   "environment_variables": {},
   "exception": null,
   "input_path": "/root/csc500-main/csc500-notebooks/templates/cnn_template.ipynb",
   "output_path": "trial.ipynb",
   "parameters": {
    "parameters": {
     "BEST_MODEL_PATH": "./best_model.pth",
     "NUM_LOGS_PER_EPOCH": 10,
     "batch_size": 128,
     "criteria_for_best": "target_accuracy",
     "dataset_seed": 500,
     "device": "cuda",
     "domains_source": [
      8,
      32,
      50
     ],
     "domains_target": [
      14,
      20,
      26,
      38,
      44
     ],
     "experiment_name": "cnn_1:oracle.run1",
     "labels": [
      "3123D52",
      "3123D65",
      "3123D79",
      "3123D80",
      "3123D54",
      "3123D70",
      "3123D7B",
      "3123D89",
      "3123D58",
      "3123D76",
      "3123D7D",
      "3123EFE",
      "3123D64",
      "3123D78",
      "3123D7E",
      "3124E4A"
     ],
     "lr": 0.0001,
     "n_epoch": 50,
     "normalize_source": false,
     "normalize_target": false,
     "num_examples_per_domain_per_label_source": -1,
     "num_examples_per_domain_per_label_target": -1,
     "patience": 3,
     "pickle_name_source": "oracle.Run1_10kExamples_stratified_ds.2022A.pkl",
     "pickle_name_target": "oracle.Run1_10kExamples_stratified_ds.2022A.pkl",
     "seed": 500,
     "torch_default_dtype": "torch.float32",
     "x_net": [
      {
       "class": "nnReshape",
       "kargs": {
        "shape": [
         -1,
         1,
         2,
         256
        ]
       }
      },
      {
       "class": "Conv2d",
       "kargs": {
        "bias": false,
        "in_channels": 1,
        "kernel_size": [
         1,
         7
        ],
        "out_channels": 256,
        "padding": [
         0,
         3
        ]
       }
      },
      {
       "class": "ReLU",
       "kargs": {
        "inplace": true
       }
      },
      {
       "class": "BatchNorm2d",
       "kargs": {
        "num_features": 256
       }
      },
      {
       "class": "Conv2d",
       "kargs": {
        "bias": true,
        "in_channels": 256,
        "kernel_size": [
         2,
         7
        ],
        "out_channels": 80,
        "padding": [
         0,
         3
        ]
       }
      },
      {
       "class": "ReLU",
       "kargs": {
        "inplace": true
       }
      },
      {
       "class": "BatchNorm2d",
       "kargs": {
        "num_features": 80
       }
      },
      {
       "class": "Flatten",
       "kargs": {}
      },
      {
       "class": "Linear",
       "kargs": {
        "in_features": 20480,
        "out_features": 256
       }
      },
      {
       "class": "ReLU",
       "kargs": {
        "inplace": true
       }
      },
      {
       "class": "BatchNorm1d",
       "kargs": {
        "num_features": 256
       }
      },
      {
       "class": "Linear",
       "kargs": {
        "in_features": 256,
        "out_features": 16
       }
      }
     ]
    }
   },
   "start_time": "2022-03-25T22:27:36.832808",
   "version": "2.3.4"
  }
 },
 "nbformat": 4,
 "nbformat_minor": 5
}