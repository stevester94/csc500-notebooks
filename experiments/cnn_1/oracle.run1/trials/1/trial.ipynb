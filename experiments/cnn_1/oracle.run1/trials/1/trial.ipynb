{
 "cells": [
  {
   "cell_type": "code",
   "execution_count": 1,
   "id": "2324682e",
   "metadata": {
    "execution": {
     "iopub.execute_input": "2022-03-25T21:39:00.412515Z",
     "iopub.status.busy": "2022-03-25T21:39:00.411658Z",
     "iopub.status.idle": "2022-03-25T21:39:01.680837Z",
     "shell.execute_reply": "2022-03-25T21:39:01.679927Z"
    },
    "papermill": {
     "duration": 1.306863,
     "end_time": "2022-03-25T21:39:01.681031",
     "exception": false,
     "start_time": "2022-03-25T21:39:00.374168",
     "status": "completed"
    },
    "tags": []
   },
   "outputs": [],
   "source": [
    "import os, json, sys, time, random\n",
    "import numpy as np\n",
    "import torch\n",
    "from  easydict import EasyDict\n",
    "from math import floor\n",
    "from easydict import EasyDict\n",
    "\n",
    "from steves_utils.vanilla_train_eval_test_jig import  Vanilla_Train_Eval_Test_Jig\n",
    "\n",
    "from steves_utils.torch_utils import get_dataset_metrics, independent_accuracy_assesment\n",
    "from steves_models.configurable_vanilla import Configurable_Vanilla\n",
    "from steves_utils.torch_sequential_builder import build_sequential\n",
    "from steves_utils.lazy_map import Lazy_Map\n",
    "from steves_utils.sequence_aggregator import Sequence_Aggregator\n",
    "\n",
    "from steves_utils.stratified_dataset.traditional_accessor import Traditional_Accessor_Factory\n",
    "\n",
    "from steves_utils.cnn_do_report import (\n",
    "    get_loss_curve,\n",
    "    get_results_table,\n",
    "    get_parameters_table,\n",
    "    get_domain_accuracies,\n",
    ")\n",
    "\n",
    "from steves_utils.torch_utils import (\n",
    "    confusion_by_domain_over_dataloader,\n",
    "    independent_accuracy_assesment\n",
    ")\n",
    "\n",
    "from steves_utils.utils_v2 import (\n",
    "    per_domain_accuracy_from_confusion,\n",
    "    get_datasets_base_path\n",
    ")\n",
    "\n",
    "# from steves_utils.ptn_do_report import TBD"
   ]
  },
  {
   "cell_type": "code",
   "execution_count": 2,
   "id": "1b29e3fe",
   "metadata": {
    "execution": {
     "iopub.execute_input": "2022-03-25T21:39:01.716768Z",
     "iopub.status.busy": "2022-03-25T21:39:01.716262Z",
     "iopub.status.idle": "2022-03-25T21:39:01.718354Z",
     "shell.execute_reply": "2022-03-25T21:39:01.717985Z"
    },
    "papermill": {
     "duration": 0.019478,
     "end_time": "2022-03-25T21:39:01.718423",
     "exception": false,
     "start_time": "2022-03-25T21:39:01.698945",
     "status": "completed"
    },
    "tags": []
   },
   "outputs": [],
   "source": [
    "required_parameters = {\n",
    "    \"experiment_name\",\n",
    "    \"lr\",\n",
    "    \"device\",\n",
    "    \"dataset_seed\",\n",
    "    \"seed\",\n",
    "    \"labels\",\n",
    "    \"domains_target\",\n",
    "    \"domains_source\",\n",
    "    \"num_examples_per_domain_per_label_source\",\n",
    "    \"num_examples_per_domain_per_label_target\",\n",
    "    \"batch_size\",\n",
    "    \"n_epoch\",\n",
    "    \"patience\",\n",
    "    \"criteria_for_best\",\n",
    "    \"normalize_source\",\n",
    "    \"normalize_target\",\n",
    "    \"x_net\",\n",
    "    \"NUM_LOGS_PER_EPOCH\",\n",
    "    \"BEST_MODEL_PATH\",\n",
    "    \"pickle_name_source\",\n",
    "    \"pickle_name_target\",\n",
    "    \"torch_default_dtype\",\n",
    "}"
   ]
  },
  {
   "cell_type": "code",
   "execution_count": 3,
   "id": "670b5fb8",
   "metadata": {
    "execution": {
     "iopub.execute_input": "2022-03-25T21:39:01.757828Z",
     "iopub.status.busy": "2022-03-25T21:39:01.756941Z",
     "iopub.status.idle": "2022-03-25T21:39:01.764816Z",
     "shell.execute_reply": "2022-03-25T21:39:01.764011Z"
    },
    "papermill": {
     "duration": 0.029996,
     "end_time": "2022-03-25T21:39:01.764969",
     "exception": false,
     "start_time": "2022-03-25T21:39:01.734973",
     "status": "completed"
    },
    "tags": [
     "parameters"
    ]
   },
   "outputs": [],
   "source": [
    "from steves_utils.ORACLE.utils_v2 import (\n",
    "    ALL_SERIAL_NUMBERS,\n",
    "    ALL_DISTANCES_FEET_NARROWED,\n",
    ")\n",
    "\n",
    "standalone_parameters = {}\n",
    "standalone_parameters[\"experiment_name\"] = \"MANUAL CORES CNN\"\n",
    "standalone_parameters[\"lr\"] = 0.0001\n",
    "standalone_parameters[\"device\"] = \"cuda\"\n",
    "\n",
    "standalone_parameters[\"dataset_seed\"] = 1337\n",
    "standalone_parameters[\"seed\"] = 1337\n",
    "standalone_parameters[\"labels\"] = ALL_SERIAL_NUMBERS\n",
    "\n",
    "standalone_parameters[\"domains_source\"] = [8,32,50]\n",
    "standalone_parameters[\"domains_target\"] = [14,20,26,38,44,]\n",
    "\n",
    "standalone_parameters[\"num_examples_per_domain_per_label_source\"]=-1\n",
    "standalone_parameters[\"num_examples_per_domain_per_label_target\"]=-1\n",
    "\n",
    "standalone_parameters[\"pickle_name_source\"] = \"oracle.Run1_framed_2000Examples_stratified_ds.2022A.pkl\"\n",
    "standalone_parameters[\"pickle_name_target\"] = \"oracle.Run2_framed_2000Examples_stratified_ds.2022A.pkl\"\n",
    "\n",
    "standalone_parameters[\"torch_default_dtype\"] = \"torch.float32\" \n",
    "\n",
    "standalone_parameters[\"batch_size\"]=128\n",
    "\n",
    "standalone_parameters[\"n_epoch\"] = 3\n",
    "\n",
    "standalone_parameters[\"patience\"] = 10\n",
    "\n",
    "standalone_parameters[\"criteria_for_best\"] = \"target_accuracy\"\n",
    "standalone_parameters[\"normalize_source\"] = False\n",
    "standalone_parameters[\"normalize_target\"] = False\n",
    "\n",
    "standalone_parameters[\"x_net\"] =     [\n",
    "    {\"class\": \"nnReshape\", \"kargs\": {\"shape\":[-1, 1, 2, 256]}},\n",
    "    {\"class\": \"Conv2d\", \"kargs\": { \"in_channels\":1, \"out_channels\":256, \"kernel_size\":(1,7), \"bias\":False, \"padding\":(0,3), },},\n",
    "    {\"class\": \"ReLU\", \"kargs\": {\"inplace\": True}},\n",
    "    {\"class\": \"BatchNorm2d\", \"kargs\": {\"num_features\":256}},\n",
    "\n",
    "    {\"class\": \"Conv2d\", \"kargs\": { \"in_channels\":256, \"out_channels\":80, \"kernel_size\":(2,7), \"bias\":True, \"padding\":(0,3), },},\n",
    "    {\"class\": \"ReLU\", \"kargs\": {\"inplace\": True}},\n",
    "    {\"class\": \"BatchNorm2d\", \"kargs\": {\"num_features\":80}},\n",
    "    {\"class\": \"Flatten\", \"kargs\": {}},\n",
    "\n",
    "    {\"class\": \"Linear\", \"kargs\": {\"in_features\": 80*256, \"out_features\": 256}}, # 80 units per IQ pair\n",
    "    {\"class\": \"ReLU\", \"kargs\": {\"inplace\": True}},\n",
    "    {\"class\": \"BatchNorm1d\", \"kargs\": {\"num_features\":256}},\n",
    "\n",
    "    {\"class\": \"Linear\", \"kargs\": {\"in_features\": 256, \"out_features\": len(standalone_parameters[\"labels\"])}},\n",
    "]\n",
    "\n",
    "standalone_parameters[\"NUM_LOGS_PER_EPOCH\"] = 10\n",
    "standalone_parameters[\"BEST_MODEL_PATH\"] = \"./best_model.pth\""
   ]
  },
  {
   "cell_type": "code",
   "execution_count": 4,
   "id": "7874a126",
   "metadata": {
    "execution": {
     "iopub.execute_input": "2022-03-25T21:39:01.805957Z",
     "iopub.status.busy": "2022-03-25T21:39:01.805549Z",
     "iopub.status.idle": "2022-03-25T21:39:01.808830Z",
     "shell.execute_reply": "2022-03-25T21:39:01.808030Z"
    },
    "papermill": {
     "duration": 0.0243,
     "end_time": "2022-03-25T21:39:01.808980",
     "exception": false,
     "start_time": "2022-03-25T21:39:01.784680",
     "status": "completed"
    },
    "tags": [
     "injected-parameters"
    ]
   },
   "outputs": [],
   "source": [
    "# Parameters\n",
    "parameters = {\n",
    "    \"experiment_name\": \"cnn_1:oracle.run1\",\n",
    "    \"domains_source\": [8, 32, 50],\n",
    "    \"domains_target\": [14, 20, 26, 38, 44],\n",
    "    \"labels\": [\n",
    "        \"3123D52\",\n",
    "        \"3123D65\",\n",
    "        \"3123D79\",\n",
    "        \"3123D80\",\n",
    "        \"3123D54\",\n",
    "        \"3123D70\",\n",
    "        \"3123D7B\",\n",
    "        \"3123D89\",\n",
    "        \"3123D58\",\n",
    "        \"3123D76\",\n",
    "        \"3123D7D\",\n",
    "        \"3123EFE\",\n",
    "        \"3123D64\",\n",
    "        \"3123D78\",\n",
    "        \"3123D7E\",\n",
    "        \"3124E4A\",\n",
    "    ],\n",
    "    \"pickle_name_source\": \"oracle.Run1_10kExamples_stratified_ds.2022A.pkl\",\n",
    "    \"pickle_name_target\": \"oracle.Run1_10kExamples_stratified_ds.2022A.pkl\",\n",
    "    \"device\": \"cuda\",\n",
    "    \"lr\": 0.0001,\n",
    "    \"batch_size\": 128,\n",
    "    \"normalize_source\": False,\n",
    "    \"normalize_target\": False,\n",
    "    \"num_examples_per_domain_per_label_source\": -1,\n",
    "    \"num_examples_per_domain_per_label_target\": -1,\n",
    "    \"torch_default_dtype\": \"torch.float32\",\n",
    "    \"n_epoch\": 50,\n",
    "    \"patience\": 3,\n",
    "    \"criteria_for_best\": \"target_accuracy\",\n",
    "    \"x_net\": [\n",
    "        {\"class\": \"nnReshape\", \"kargs\": {\"shape\": [-1, 1, 2, 256]}},\n",
    "        {\n",
    "            \"class\": \"Conv2d\",\n",
    "            \"kargs\": {\n",
    "                \"in_channels\": 1,\n",
    "                \"out_channels\": 256,\n",
    "                \"kernel_size\": [1, 7],\n",
    "                \"bias\": False,\n",
    "                \"padding\": [0, 3],\n",
    "            },\n",
    "        },\n",
    "        {\"class\": \"ReLU\", \"kargs\": {\"inplace\": True}},\n",
    "        {\"class\": \"BatchNorm2d\", \"kargs\": {\"num_features\": 256}},\n",
    "        {\n",
    "            \"class\": \"Conv2d\",\n",
    "            \"kargs\": {\n",
    "                \"in_channels\": 256,\n",
    "                \"out_channels\": 80,\n",
    "                \"kernel_size\": [2, 7],\n",
    "                \"bias\": True,\n",
    "                \"padding\": [0, 3],\n",
    "            },\n",
    "        },\n",
    "        {\"class\": \"ReLU\", \"kargs\": {\"inplace\": True}},\n",
    "        {\"class\": \"BatchNorm2d\", \"kargs\": {\"num_features\": 80}},\n",
    "        {\"class\": \"Flatten\", \"kargs\": {}},\n",
    "        {\"class\": \"Linear\", \"kargs\": {\"in_features\": 20480, \"out_features\": 256}},\n",
    "        {\"class\": \"ReLU\", \"kargs\": {\"inplace\": True}},\n",
    "        {\"class\": \"BatchNorm1d\", \"kargs\": {\"num_features\": 256}},\n",
    "        {\"class\": \"Linear\", \"kargs\": {\"in_features\": 256, \"out_features\": 16}},\n",
    "    ],\n",
    "    \"NUM_LOGS_PER_EPOCH\": 10,\n",
    "    \"BEST_MODEL_PATH\": \"./best_model.pth\",\n",
    "    \"dataset_seed\": 1337,\n",
    "    \"seed\": 1337,\n",
    "}\n"
   ]
  },
  {
   "cell_type": "code",
   "execution_count": 5,
   "id": "759b56ec",
   "metadata": {
    "execution": {
     "iopub.execute_input": "2022-03-25T21:39:01.844957Z",
     "iopub.status.busy": "2022-03-25T21:39:01.844584Z",
     "iopub.status.idle": "2022-03-25T21:39:01.846945Z",
     "shell.execute_reply": "2022-03-25T21:39:01.846581Z"
    },
    "papermill": {
     "duration": 0.020299,
     "end_time": "2022-03-25T21:39:01.847014",
     "exception": false,
     "start_time": "2022-03-25T21:39:01.826715",
     "status": "completed"
    },
    "tags": []
   },
   "outputs": [],
   "source": [
    "# Set this to True if you want to run this template directly\n",
    "STANDALONE = False\n",
    "if STANDALONE:\n",
    "    print(\"parameters not injected, running with standalone_parameters\")\n",
    "    parameters = standalone_parameters\n",
    "\n",
    "if not 'parameters' in locals() and not 'parameters' in globals():\n",
    "    raise Exception(\"Parameter injection failed\")\n",
    "\n",
    "#Use an easy dict for all the parameters\n",
    "p = EasyDict(parameters)\n",
    "\n",
    "supplied_keys = set(p.keys())\n",
    "\n",
    "if  supplied_keys != required_parameters:\n",
    "    print(\"Parameters are incorrect\")\n",
    "    if len(supplied_keys - required_parameters)>0: print(\"Shouldn't have:\", str(supplied_keys - required_parameters))\n",
    "    if len(required_parameters - supplied_keys)>0: print(\"Need to have:\", str(required_parameters - supplied_keys))\n",
    "    raise RuntimeError(\"Parameters are incorrect\")\n",
    "\n"
   ]
  },
  {
   "cell_type": "code",
   "execution_count": 6,
   "id": "d5c66a71",
   "metadata": {
    "execution": {
     "iopub.execute_input": "2022-03-25T21:39:01.881860Z",
     "iopub.status.busy": "2022-03-25T21:39:01.881492Z",
     "iopub.status.idle": "2022-03-25T21:39:01.884408Z",
     "shell.execute_reply": "2022-03-25T21:39:01.884090Z"
    },
    "papermill": {
     "duration": 0.019375,
     "end_time": "2022-03-25T21:39:01.884477",
     "exception": false,
     "start_time": "2022-03-25T21:39:01.865102",
     "status": "completed"
    },
    "tags": []
   },
   "outputs": [],
   "source": [
    "###################################\n",
    "# Set the RNGs and make it all deterministic\n",
    "###################################\n",
    "np.random.seed(p.seed)\n",
    "random.seed(p.seed)\n",
    "torch.manual_seed(p.seed)\n",
    "\n",
    "torch.use_deterministic_algorithms(True) "
   ]
  },
  {
   "cell_type": "code",
   "execution_count": 7,
   "id": "92a65876",
   "metadata": {
    "execution": {
     "iopub.execute_input": "2022-03-25T21:39:01.918987Z",
     "iopub.status.busy": "2022-03-25T21:39:01.918623Z",
     "iopub.status.idle": "2022-03-25T21:39:01.921481Z",
     "shell.execute_reply": "2022-03-25T21:39:01.920942Z"
    },
    "papermill": {
     "duration": 0.019004,
     "end_time": "2022-03-25T21:39:01.921601",
     "exception": false,
     "start_time": "2022-03-25T21:39:01.902597",
     "status": "completed"
    },
    "tags": []
   },
   "outputs": [],
   "source": [
    "torch.set_default_dtype(eval(p.torch_default_dtype))"
   ]
  },
  {
   "cell_type": "code",
   "execution_count": 8,
   "id": "f1a32f01",
   "metadata": {
    "execution": {
     "iopub.execute_input": "2022-03-25T21:39:01.956630Z",
     "iopub.status.busy": "2022-03-25T21:39:01.956260Z",
     "iopub.status.idle": "2022-03-25T21:39:02.016058Z",
     "shell.execute_reply": "2022-03-25T21:39:02.016704Z"
    },
    "papermill": {
     "duration": 0.076977,
     "end_time": "2022-03-25T21:39:02.016928",
     "exception": false,
     "start_time": "2022-03-25T21:39:01.939951",
     "status": "completed"
    },
    "tags": []
   },
   "outputs": [],
   "source": [
    "###################################\n",
    "# Build the network(s)\n",
    "# Note: It's critical to do this AFTER setting the RNG\n",
    "###################################\n",
    "x_net = build_sequential(p.x_net)"
   ]
  },
  {
   "cell_type": "code",
   "execution_count": 9,
   "id": "a276cd83",
   "metadata": {
    "execution": {
     "iopub.execute_input": "2022-03-25T21:39:02.054765Z",
     "iopub.status.busy": "2022-03-25T21:39:02.054291Z",
     "iopub.status.idle": "2022-03-25T21:39:02.057034Z",
     "shell.execute_reply": "2022-03-25T21:39:02.056493Z"
    },
    "papermill": {
     "duration": 0.019308,
     "end_time": "2022-03-25T21:39:02.057150",
     "exception": false,
     "start_time": "2022-03-25T21:39:02.037842",
     "status": "completed"
    },
    "tags": []
   },
   "outputs": [],
   "source": [
    "start_time_secs = time.time()"
   ]
  },
  {
   "cell_type": "code",
   "execution_count": 10,
   "id": "de702e48",
   "metadata": {
    "execution": {
     "iopub.execute_input": "2022-03-25T21:39:02.097294Z",
     "iopub.status.busy": "2022-03-25T21:39:02.096620Z",
     "iopub.status.idle": "2022-03-25T21:39:23.021666Z",
     "shell.execute_reply": "2022-03-25T21:39:23.020837Z"
    },
    "papermill": {
     "duration": 20.947958,
     "end_time": "2022-03-25T21:39:23.021869",
     "exception": false,
     "start_time": "2022-03-25T21:39:02.073911",
     "status": "completed"
    },
    "tags": []
   },
   "outputs": [],
   "source": [
    "def wrap_in_dataloader(p, ds):\n",
    "    return torch.utils.data.DataLoader(\n",
    "        ds,\n",
    "        batch_size=p.batch_size,\n",
    "        shuffle=True,\n",
    "        num_workers=1,\n",
    "        persistent_workers=True,\n",
    "        prefetch_factor=50,\n",
    "        pin_memory=True\n",
    "    )\n",
    "\n",
    "taf_source = Traditional_Accessor_Factory(\n",
    "    labels=p.labels,\n",
    "    domains=p.domains_source,\n",
    "    num_examples_per_domain_per_label=p.num_examples_per_domain_per_label_source,\n",
    "    pickle_path=os.path.join(get_datasets_base_path(), p.pickle_name_source),\n",
    "    seed=p.dataset_seed\n",
    ")\n",
    "train_original_source, val_original_source, test_original_source = \\\n",
    "    taf_source.get_train(), taf_source.get_val(), taf_source.get_test()\n",
    "\n",
    "\n",
    "taf_target = Traditional_Accessor_Factory(\n",
    "    labels=p.labels,\n",
    "    domains=p.domains_target,\n",
    "    num_examples_per_domain_per_label=p.num_examples_per_domain_per_label_source,\n",
    "    pickle_path=os.path.join(get_datasets_base_path(), p.pickle_name_target),\n",
    "    seed=p.dataset_seed\n",
    ")\n",
    "train_original_target, val_original_target, test_original_target = \\\n",
    "    taf_target.get_train(), taf_target.get_val(), taf_target.get_test()\n",
    "\n",
    "\n",
    "# For CNN We only use X and Y. And we only train on the source.\n",
    "# Properly form the data using a transform lambda and Lazy_Map. Finally wrap them in a dataloader\n",
    "\n",
    "transform_lambda = lambda ex: ex[:2] # Strip the tuple to just (x,y)\n",
    "\n",
    "\n",
    "train_processed_source = wrap_in_dataloader(\n",
    "    p,\n",
    "    Lazy_Map(train_original_source, transform_lambda)\n",
    ")\n",
    "val_processed_source = wrap_in_dataloader(\n",
    "    p,\n",
    "    Lazy_Map(val_original_source, transform_lambda)\n",
    ")\n",
    "test_processed_source = wrap_in_dataloader(\n",
    "    p,\n",
    "    Lazy_Map(test_original_source, transform_lambda)\n",
    ")\n",
    "\n",
    "train_processed_target = wrap_in_dataloader(\n",
    "    p,\n",
    "    Lazy_Map(train_original_target, transform_lambda)\n",
    ")\n",
    "val_processed_target = wrap_in_dataloader(\n",
    "    p,\n",
    "    Lazy_Map(val_original_target, transform_lambda)\n",
    ")\n",
    "test_processed_target  = wrap_in_dataloader(\n",
    "    p,\n",
    "    Lazy_Map(test_original_target, transform_lambda)\n",
    ")\n",
    "\n",
    "\n",
    "\n",
    "datasets = EasyDict({\n",
    "    \"source\": {\n",
    "        \"original\": {\"train\":train_original_source, \"val\":val_original_source, \"test\":test_original_source},\n",
    "        \"processed\": {\"train\":train_processed_source, \"val\":val_processed_source, \"test\":test_processed_source}\n",
    "    },\n",
    "    \"target\": {\n",
    "        \"original\": {\"train\":train_original_target, \"val\":val_original_target, \"test\":test_original_target},\n",
    "        \"processed\": {\"train\":train_processed_target, \"val\":val_processed_target, \"test\":test_processed_target}\n",
    "    },\n",
    "})"
   ]
  },
  {
   "cell_type": "code",
   "execution_count": 11,
   "id": "a11b26bd",
   "metadata": {
    "execution": {
     "iopub.execute_input": "2022-03-25T21:39:23.108306Z",
     "iopub.status.busy": "2022-03-25T21:39:23.107377Z",
     "iopub.status.idle": "2022-03-25T21:39:28.851155Z",
     "shell.execute_reply": "2022-03-25T21:39:28.850291Z"
    },
    "papermill": {
     "duration": 5.806811,
     "end_time": "2022-03-25T21:39:28.851334",
     "exception": false,
     "start_time": "2022-03-25T21:39:23.044523",
     "status": "completed"
    },
    "tags": []
   },
   "outputs": [
    {
     "data": {
      "text/plain": [
       "torch.float32"
      ]
     },
     "execution_count": 11,
     "metadata": {},
     "output_type": "execute_result"
    }
   ],
   "source": [
    "ep = next(iter(test_processed_target))\n",
    "ep[0].dtype"
   ]
  },
  {
   "cell_type": "code",
   "execution_count": 12,
   "id": "19425fad",
   "metadata": {
    "execution": {
     "iopub.execute_input": "2022-03-25T21:39:28.895664Z",
     "iopub.status.busy": "2022-03-25T21:39:28.895229Z",
     "iopub.status.idle": "2022-03-25T21:39:28.943769Z",
     "shell.execute_reply": "2022-03-25T21:39:28.942970Z"
    },
    "papermill": {
     "duration": 0.070294,
     "end_time": "2022-03-25T21:39:28.943943",
     "exception": false,
     "start_time": "2022-03-25T21:39:28.873649",
     "status": "completed"
    },
    "tags": []
   },
   "outputs": [],
   "source": [
    "model = Configurable_Vanilla(\n",
    "    x_net=x_net,\n",
    "    label_loss_object=torch.nn.NLLLoss(),\n",
    "    learning_rate=p.lr\n",
    ")"
   ]
  },
  {
   "cell_type": "code",
   "execution_count": 13,
   "id": "7f6d4f2c",
   "metadata": {
    "execution": {
     "iopub.execute_input": "2022-03-25T21:39:28.986780Z",
     "iopub.status.busy": "2022-03-25T21:39:28.986209Z",
     "iopub.status.idle": "2022-03-25T21:43:42.184988Z",
     "shell.execute_reply": "2022-03-25T21:43:42.184639Z"
    },
    "papermill": {
     "duration": 253.21952,
     "end_time": "2022-03-25T21:43:42.185075",
     "exception": false,
     "start_time": "2022-03-25T21:39:28.965555",
     "status": "completed"
    },
    "tags": []
   },
   "outputs": [
    {
     "name": "stdout",
     "output_type": "stream",
     "text": [
      "epoch: 1, [batch: 1 / 2625], examples_per_second: 695.6760, train_label_loss: 2.7771, \n"
     ]
    },
    {
     "name": "stdout",
     "output_type": "stream",
     "text": [
      "epoch: 1, [batch: 263 / 2625], examples_per_second: 10760.7123, train_label_loss: 2.3945, \n"
     ]
    },
    {
     "name": "stdout",
     "output_type": "stream",
     "text": [
      "epoch: 1, [batch: 525 / 2625], examples_per_second: 10882.5356, train_label_loss: 2.1466, \n"
     ]
    },
    {
     "name": "stdout",
     "output_type": "stream",
     "text": [
      "epoch: 1, [batch: 788 / 2625], examples_per_second: 11812.1674, train_label_loss: 1.9508, \n"
     ]
    },
    {
     "name": "stdout",
     "output_type": "stream",
     "text": [
      "epoch: 1, [batch: 1050 / 2625], examples_per_second: 11827.1621, train_label_loss: 1.7839, \n"
     ]
    },
    {
     "name": "stdout",
     "output_type": "stream",
     "text": [
      "epoch: 1, [batch: 1313 / 2625], examples_per_second: 11815.2889, train_label_loss: 1.5403, \n"
     ]
    },
    {
     "name": "stdout",
     "output_type": "stream",
     "text": [
      "epoch: 1, [batch: 1575 / 2625], examples_per_second: 11743.6736, train_label_loss: 1.3891, \n"
     ]
    },
    {
     "name": "stdout",
     "output_type": "stream",
     "text": [
      "epoch: 1, [batch: 1837 / 2625], examples_per_second: 11679.5980, train_label_loss: 1.2993, \n"
     ]
    },
    {
     "name": "stdout",
     "output_type": "stream",
     "text": [
      "epoch: 1, [batch: 2100 / 2625], examples_per_second: 11983.6067, train_label_loss: 1.1852, \n"
     ]
    },
    {
     "name": "stdout",
     "output_type": "stream",
     "text": [
      "epoch: 1, [batch: 2362 / 2625], examples_per_second: 11796.1695, train_label_loss: 1.1557, \n"
     ]
    },
    {
     "name": "stdout",
     "output_type": "stream",
     "text": [
      "=============================================================\n",
      "epoch: 1, source_val_acc_label: 0.6274, source_val_label_loss: 1.0749, target_val_acc_label: 0.0685, target_val_label_loss: 8.0502, \n",
      "=============================================================\n"
     ]
    },
    {
     "name": "stdout",
     "output_type": "stream",
     "text": [
      "New best\n",
      "epoch: 2, [batch: 1 / 2625], examples_per_second: 27.2544, train_label_loss: 1.1357, \n"
     ]
    },
    {
     "name": "stdout",
     "output_type": "stream",
     "text": [
      "epoch: 2, [batch: 263 / 2625], examples_per_second: 11722.7513, train_label_loss: 0.9321, \n"
     ]
    },
    {
     "name": "stdout",
     "output_type": "stream",
     "text": [
      "epoch: 2, [batch: 525 / 2625], examples_per_second: 11854.5663, train_label_loss: 0.9984, \n"
     ]
    },
    {
     "name": "stdout",
     "output_type": "stream",
     "text": [
      "epoch: 2, [batch: 788 / 2625], examples_per_second: 11810.5361, train_label_loss: 0.9100, \n"
     ]
    },
    {
     "name": "stdout",
     "output_type": "stream",
     "text": [
      "epoch: 2, [batch: 1050 / 2625], examples_per_second: 10744.3619, train_label_loss: 0.8306, \n"
     ]
    },
    {
     "name": "stdout",
     "output_type": "stream",
     "text": [
      "epoch: 2, [batch: 1313 / 2625], examples_per_second: 10780.9841, train_label_loss: 0.7951, \n"
     ]
    },
    {
     "name": "stdout",
     "output_type": "stream",
     "text": [
      "epoch: 2, [batch: 1575 / 2625], examples_per_second: 10700.1320, train_label_loss: 0.6978, \n"
     ]
    },
    {
     "name": "stdout",
     "output_type": "stream",
     "text": [
      "epoch: 2, [batch: 1837 / 2625], examples_per_second: 10711.9769, train_label_loss: 0.7630, \n"
     ]
    },
    {
     "name": "stdout",
     "output_type": "stream",
     "text": [
      "epoch: 2, [batch: 2100 / 2625], examples_per_second: 10769.9829, train_label_loss: 0.6548, \n"
     ]
    },
    {
     "name": "stdout",
     "output_type": "stream",
     "text": [
      "epoch: 2, [batch: 2362 / 2625], examples_per_second: 10703.5053, train_label_loss: 0.7616, \n"
     ]
    },
    {
     "name": "stdout",
     "output_type": "stream",
     "text": [
      "=============================================================\n",
      "epoch: 2, source_val_acc_label: 0.7162, source_val_label_loss: 0.7674, target_val_acc_label: 0.0703, target_val_label_loss: 11.6496, \n",
      "=============================================================\n"
     ]
    },
    {
     "name": "stdout",
     "output_type": "stream",
     "text": [
      "New best\n",
      "epoch: 3, [batch: 1 / 2625], examples_per_second: 25.3213, train_label_loss: 0.6204, \n"
     ]
    },
    {
     "name": "stdout",
     "output_type": "stream",
     "text": [
      "epoch: 3, [batch: 263 / 2625], examples_per_second: 10757.3703, train_label_loss: 0.7856, \n"
     ]
    },
    {
     "name": "stdout",
     "output_type": "stream",
     "text": [
      "epoch: 3, [batch: 525 / 2625], examples_per_second: 10749.6490, train_label_loss: 0.7048, \n"
     ]
    },
    {
     "name": "stdout",
     "output_type": "stream",
     "text": [
      "epoch: 3, [batch: 788 / 2625], examples_per_second: 10720.4498, train_label_loss: 0.6954, \n"
     ]
    },
    {
     "name": "stdout",
     "output_type": "stream",
     "text": [
      "epoch: 3, [batch: 1050 / 2625], examples_per_second: 11140.7270, train_label_loss: 0.6307, \n"
     ]
    },
    {
     "name": "stdout",
     "output_type": "stream",
     "text": [
      "epoch: 3, [batch: 1313 / 2625], examples_per_second: 11692.9937, train_label_loss: 0.4798, \n"
     ]
    },
    {
     "name": "stdout",
     "output_type": "stream",
     "text": [
      "epoch: 3, [batch: 1575 / 2625], examples_per_second: 11742.6902, train_label_loss: 0.6539, \n"
     ]
    },
    {
     "name": "stdout",
     "output_type": "stream",
     "text": [
      "epoch: 3, [batch: 1837 / 2625], examples_per_second: 11707.5710, train_label_loss: 0.4745, \n"
     ]
    },
    {
     "name": "stdout",
     "output_type": "stream",
     "text": [
      "epoch: 3, [batch: 2100 / 2625], examples_per_second: 11763.1311, train_label_loss: 0.4196, \n"
     ]
    },
    {
     "name": "stdout",
     "output_type": "stream",
     "text": [
      "epoch: 3, [batch: 2362 / 2625], examples_per_second: 11929.9082, train_label_loss: 0.4068, \n"
     ]
    },
    {
     "name": "stdout",
     "output_type": "stream",
     "text": [
      "=============================================================\n",
      "epoch: 3, source_val_acc_label: 0.7522, source_val_label_loss: 0.6761, target_val_acc_label: 0.0714, target_val_label_loss: 12.4709, \n",
      "=============================================================\n"
     ]
    },
    {
     "name": "stdout",
     "output_type": "stream",
     "text": [
      "New best\n",
      "epoch: 4, [batch: 1 / 2625], examples_per_second: 28.8276, train_label_loss: 0.5014, \n"
     ]
    },
    {
     "name": "stdout",
     "output_type": "stream",
     "text": [
      "epoch: 4, [batch: 263 / 2625], examples_per_second: 11636.8153, train_label_loss: 0.5128, \n"
     ]
    },
    {
     "name": "stdout",
     "output_type": "stream",
     "text": [
      "epoch: 4, [batch: 525 / 2625], examples_per_second: 11757.0252, train_label_loss: 0.5151, \n"
     ]
    },
    {
     "name": "stdout",
     "output_type": "stream",
     "text": [
      "epoch: 4, [batch: 788 / 2625], examples_per_second: 11713.7062, train_label_loss: 0.6649, \n"
     ]
    },
    {
     "name": "stdout",
     "output_type": "stream",
     "text": [
      "epoch: 4, [batch: 1050 / 2625], examples_per_second: 11636.4783, train_label_loss: 0.4484, \n"
     ]
    },
    {
     "name": "stdout",
     "output_type": "stream",
     "text": [
      "epoch: 4, [batch: 1313 / 2625], examples_per_second: 12384.4818, train_label_loss: 0.5985, \n"
     ]
    },
    {
     "name": "stdout",
     "output_type": "stream",
     "text": [
      "epoch: 4, [batch: 1575 / 2625], examples_per_second: 10672.0896, train_label_loss: 0.5059, \n"
     ]
    },
    {
     "name": "stdout",
     "output_type": "stream",
     "text": [
      "epoch: 4, [batch: 1837 / 2625], examples_per_second: 10688.9752, train_label_loss: 0.5753, \n"
     ]
    },
    {
     "name": "stdout",
     "output_type": "stream",
     "text": [
      "epoch: 4, [batch: 2100 / 2625], examples_per_second: 10646.5357, train_label_loss: 0.4793, \n"
     ]
    },
    {
     "name": "stdout",
     "output_type": "stream",
     "text": [
      "epoch: 4, [batch: 2362 / 2625], examples_per_second: 10601.7458, train_label_loss: 0.5868, \n"
     ]
    },
    {
     "name": "stdout",
     "output_type": "stream",
     "text": [
      "=============================================================\n",
      "epoch: 4, source_val_acc_label: 0.8484, source_val_label_loss: 0.4275, target_val_acc_label: 0.0585, target_val_label_loss: 14.3774, \n",
      "=============================================================\n"
     ]
    },
    {
     "name": "stdout",
     "output_type": "stream",
     "text": [
      "epoch: 5, [batch: 1 / 2625], examples_per_second: 25.7190, train_label_loss: 0.2778, \n"
     ]
    },
    {
     "name": "stdout",
     "output_type": "stream",
     "text": [
      "epoch: 5, [batch: 263 / 2625], examples_per_second: 10597.1244, train_label_loss: 0.3450, \n"
     ]
    },
    {
     "name": "stdout",
     "output_type": "stream",
     "text": [
      "epoch: 5, [batch: 525 / 2625], examples_per_second: 11355.5548, train_label_loss: 0.5152, \n"
     ]
    },
    {
     "name": "stdout",
     "output_type": "stream",
     "text": [
      "epoch: 5, [batch: 788 / 2625], examples_per_second: 11716.8391, train_label_loss: 0.7750, \n"
     ]
    },
    {
     "name": "stdout",
     "output_type": "stream",
     "text": [
      "epoch: 5, [batch: 1050 / 2625], examples_per_second: 11702.6852, train_label_loss: 0.3709, \n"
     ]
    },
    {
     "name": "stdout",
     "output_type": "stream",
     "text": [
      "epoch: 5, [batch: 1313 / 2625], examples_per_second: 11711.2559, train_label_loss: 0.2775, \n"
     ]
    },
    {
     "name": "stdout",
     "output_type": "stream",
     "text": [
      "epoch: 5, [batch: 1575 / 2625], examples_per_second: 11625.3328, train_label_loss: 0.3991, \n"
     ]
    },
    {
     "name": "stdout",
     "output_type": "stream",
     "text": [
      "epoch: 5, [batch: 1837 / 2625], examples_per_second: 11779.7923, train_label_loss: 0.4721, \n"
     ]
    },
    {
     "name": "stdout",
     "output_type": "stream",
     "text": [
      "epoch: 5, [batch: 2100 / 2625], examples_per_second: 11660.0299, train_label_loss: 0.4439, \n"
     ]
    },
    {
     "name": "stdout",
     "output_type": "stream",
     "text": [
      "epoch: 5, [batch: 2362 / 2625], examples_per_second: 11781.1874, train_label_loss: 0.3793, \n"
     ]
    },
    {
     "name": "stdout",
     "output_type": "stream",
     "text": [
      "=============================================================\n",
      "epoch: 5, source_val_acc_label: 0.8454, source_val_label_loss: 0.4100, target_val_acc_label: 0.0596, target_val_label_loss: 14.9843, \n",
      "=============================================================\n"
     ]
    },
    {
     "name": "stdout",
     "output_type": "stream",
     "text": [
      "epoch: 6, [batch: 1 / 2625], examples_per_second: 29.0323, train_label_loss: 0.3977, \n"
     ]
    },
    {
     "name": "stdout",
     "output_type": "stream",
     "text": [
      "epoch: 6, [batch: 263 / 2625], examples_per_second: 11785.5366, train_label_loss: 0.3536, \n"
     ]
    },
    {
     "name": "stdout",
     "output_type": "stream",
     "text": [
      "epoch: 6, [batch: 525 / 2625], examples_per_second: 11893.0998, train_label_loss: 0.3482, \n"
     ]
    },
    {
     "name": "stdout",
     "output_type": "stream",
     "text": [
      "epoch: 6, [batch: 788 / 2625], examples_per_second: 12226.4714, train_label_loss: 0.4076, \n"
     ]
    },
    {
     "name": "stdout",
     "output_type": "stream",
     "text": [
      "epoch: 6, [batch: 1050 / 2625], examples_per_second: 10795.4964, train_label_loss: 0.2113, \n"
     ]
    },
    {
     "name": "stdout",
     "output_type": "stream",
     "text": [
      "epoch: 6, [batch: 1313 / 2625], examples_per_second: 10783.7259, train_label_loss: 0.3654, \n"
     ]
    },
    {
     "name": "stdout",
     "output_type": "stream",
     "text": [
      "epoch: 6, [batch: 1575 / 2625], examples_per_second: 10790.8643, train_label_loss: 0.2936, \n"
     ]
    },
    {
     "name": "stdout",
     "output_type": "stream",
     "text": [
      "epoch: 6, [batch: 1837 / 2625], examples_per_second: 10795.3431, train_label_loss: 0.3252, \n"
     ]
    },
    {
     "name": "stdout",
     "output_type": "stream",
     "text": [
      "epoch: 6, [batch: 2100 / 2625], examples_per_second: 10728.0322, train_label_loss: 0.3164, \n"
     ]
    },
    {
     "name": "stdout",
     "output_type": "stream",
     "text": [
      "epoch: 6, [batch: 2362 / 2625], examples_per_second: 10708.3121, train_label_loss: 0.2971, \n"
     ]
    },
    {
     "name": "stdout",
     "output_type": "stream",
     "text": [
      "=============================================================\n",
      "epoch: 6, source_val_acc_label: 0.8407, source_val_label_loss: 0.4191, target_val_acc_label: 0.0590, target_val_label_loss: 17.1775, \n",
      "=============================================================\n"
     ]
    },
    {
     "name": "stdout",
     "output_type": "stream",
     "text": [
      "epoch: 7, [batch: 1 / 2625], examples_per_second: 25.3983, train_label_loss: 0.2430, \n"
     ]
    },
    {
     "name": "stdout",
     "output_type": "stream",
     "text": [
      "epoch: 7, [batch: 263 / 2625], examples_per_second: 10712.9037, train_label_loss: 0.4010, \n"
     ]
    },
    {
     "name": "stdout",
     "output_type": "stream",
     "text": [
      "epoch: 7, [batch: 525 / 2625], examples_per_second: 10766.1499, train_label_loss: 0.3623, \n"
     ]
    },
    {
     "name": "stdout",
     "output_type": "stream",
     "text": [
      "epoch: 7, [batch: 788 / 2625], examples_per_second: 10799.1714, train_label_loss: 0.2726, \n"
     ]
    },
    {
     "name": "stdout",
     "output_type": "stream",
     "text": [
      "epoch: 7, [batch: 1050 / 2625], examples_per_second: 10884.6847, train_label_loss: 0.3062, \n"
     ]
    },
    {
     "name": "stdout",
     "output_type": "stream",
     "text": [
      "epoch: 7, [batch: 1313 / 2625], examples_per_second: 11777.5064, train_label_loss: 0.2080, \n"
     ]
    },
    {
     "name": "stdout",
     "output_type": "stream",
     "text": [
      "epoch: 7, [batch: 1575 / 2625], examples_per_second: 11809.9283, train_label_loss: 0.3522, \n"
     ]
    },
    {
     "name": "stdout",
     "output_type": "stream",
     "text": [
      "epoch: 7, [batch: 1837 / 2625], examples_per_second: 11726.7808, train_label_loss: 0.2843, \n"
     ]
    },
    {
     "name": "stdout",
     "output_type": "stream",
     "text": [
      "epoch: 7, [batch: 2100 / 2625], examples_per_second: 11828.0826, train_label_loss: 0.4544, \n"
     ]
    },
    {
     "name": "stdout",
     "output_type": "stream",
     "text": [
      "epoch: 7, [batch: 2362 / 2625], examples_per_second: 11756.1703, train_label_loss: 0.1656, \n"
     ]
    },
    {
     "name": "stdout",
     "output_type": "stream",
     "text": [
      "=============================================================\n",
      "epoch: 7, source_val_acc_label: 0.8533, source_val_label_loss: 0.3803, target_val_acc_label: 0.0609, target_val_label_loss: 17.0311, \n",
      "=============================================================\n"
     ]
    },
    {
     "name": "stdout",
     "output_type": "stream",
     "text": [
      "Patience (3) exhausted\n"
     ]
    }
   ],
   "source": [
    "jig = Vanilla_Train_Eval_Test_Jig(\n",
    "    model=model,\n",
    "    path_to_best_model=p.BEST_MODEL_PATH,\n",
    "    device=p.device,\n",
    "    label_loss_object=torch.nn.NLLLoss(),\n",
    ")\n",
    "\n",
    "jig.train(\n",
    "    train_iterable=datasets.source.processed.train,\n",
    "    source_val_iterable=datasets.source.processed.val,\n",
    "    target_val_iterable=datasets.target.processed.val,\n",
    "    patience=p.patience,\n",
    "    num_epochs=p.n_epoch,\n",
    "    num_logs_per_epoch=p.NUM_LOGS_PER_EPOCH,\n",
    "    criteria_for_best=p.criteria_for_best\n",
    ")"
   ]
  },
  {
   "cell_type": "code",
   "execution_count": 14,
   "id": "4bc2ac17",
   "metadata": {
    "execution": {
     "iopub.execute_input": "2022-03-25T21:43:42.261424Z",
     "iopub.status.busy": "2022-03-25T21:43:42.261050Z",
     "iopub.status.idle": "2022-03-25T21:43:42.263132Z",
     "shell.execute_reply": "2022-03-25T21:43:42.263438Z"
    },
    "papermill": {
     "duration": 0.04308,
     "end_time": "2022-03-25T21:43:42.263525",
     "exception": false,
     "start_time": "2022-03-25T21:43:42.220445",
     "status": "completed"
    },
    "tags": []
   },
   "outputs": [],
   "source": [
    "total_experiment_time_secs = time.time() - start_time_secs"
   ]
  },
  {
   "cell_type": "code",
   "execution_count": 15,
   "id": "cae88f23",
   "metadata": {
    "execution": {
     "iopub.execute_input": "2022-03-25T21:43:42.350569Z",
     "iopub.status.busy": "2022-03-25T21:43:42.349706Z",
     "iopub.status.idle": "2022-03-25T21:44:36.648761Z",
     "shell.execute_reply": "2022-03-25T21:44:36.648301Z"
    },
    "papermill": {
     "duration": 54.347394,
     "end_time": "2022-03-25T21:44:36.648868",
     "exception": false,
     "start_time": "2022-03-25T21:43:42.301474",
     "status": "completed"
    },
    "tags": []
   },
   "outputs": [],
   "source": [
    "source_test_label_accuracy, source_test_label_loss = jig.test(datasets.source.processed.test)\n",
    "target_test_label_accuracy, target_test_label_loss = jig.test(datasets.target.processed.test)\n",
    "\n",
    "source_val_label_accuracy, source_val_label_loss = jig.test(datasets.source.processed.val)\n",
    "target_val_label_accuracy, target_val_label_loss = jig.test(datasets.target.processed.val)\n",
    "\n",
    "history = jig.get_history()\n",
    "\n",
    "total_epochs_trained = len(history[\"epoch_indices\"])\n",
    "\n",
    "val_dl = wrap_in_dataloader(p, Sequence_Aggregator((datasets.source.original.val, datasets.target.original.val)))\n",
    "\n",
    "confusion = confusion_by_domain_over_dataloader(model, p.device, val_dl, forward_uses_domain=False)\n",
    "per_domain_accuracy = per_domain_accuracy_from_confusion(confusion)\n",
    "\n",
    "# Add a key to per_domain_accuracy for if it was a source domain\n",
    "for domain, accuracy in per_domain_accuracy.items():\n",
    "    per_domain_accuracy[domain] = {\n",
    "        \"accuracy\": accuracy,\n",
    "        \"source?\": domain in p.domains_source\n",
    "    }\n",
    "\n",
    "# Do an independent accuracy assesment JUST TO BE SURE!\n",
    "# _source_test_label_accuracy = independent_accuracy_assesment(model, datasets.source.processed.test, p.device)\n",
    "# _target_test_label_accuracy = independent_accuracy_assesment(model, datasets.target.processed.test, p.device)\n",
    "# _source_val_label_accuracy = independent_accuracy_assesment(model, datasets.source.processed.val, p.device)\n",
    "# _target_val_label_accuracy = independent_accuracy_assesment(model, datasets.target.processed.val, p.device)\n",
    "\n",
    "# assert(_source_test_label_accuracy == source_test_label_accuracy)\n",
    "# assert(_target_test_label_accuracy == target_test_label_accuracy)\n",
    "# assert(_source_val_label_accuracy == source_val_label_accuracy)\n",
    "# assert(_target_val_label_accuracy == target_val_label_accuracy)\n",
    "\n",
    "###################################\n",
    "# Write out the results\n",
    "###################################\n",
    "\n",
    "experiment = {\n",
    "    \"experiment_name\": p.experiment_name,\n",
    "    \"parameters\": p,\n",
    "    \"results\": {\n",
    "        \"source_test_label_accuracy\": source_test_label_accuracy,\n",
    "        \"source_test_label_loss\": source_test_label_loss,\n",
    "        \"target_test_label_accuracy\": target_test_label_accuracy,\n",
    "        \"target_test_label_loss\": target_test_label_loss,\n",
    "        \"source_val_label_accuracy\": source_val_label_accuracy,\n",
    "        \"source_val_label_loss\": source_val_label_loss,\n",
    "        \"target_val_label_accuracy\": target_val_label_accuracy,\n",
    "        \"target_val_label_loss\": target_val_label_loss,\n",
    "        \"total_epochs_trained\": total_epochs_trained,\n",
    "        \"total_experiment_time_secs\": total_experiment_time_secs,\n",
    "        \"confusion\": confusion,\n",
    "        \"per_domain_accuracy\": per_domain_accuracy,\n",
    "    },\n",
    "    \"history\": history,\n",
    "    \"dataset_metrics\": get_dataset_metrics(datasets, \"cnn\"),\n",
    "}"
   ]
  },
  {
   "cell_type": "code",
   "execution_count": 16,
   "id": "74c318cf",
   "metadata": {
    "execution": {
     "iopub.execute_input": "2022-03-25T21:44:36.809997Z",
     "iopub.status.busy": "2022-03-25T21:44:36.739476Z",
     "iopub.status.idle": "2022-03-25T21:44:37.007314Z",
     "shell.execute_reply": "2022-03-25T21:44:37.008037Z"
    },
    "papermill": {
     "duration": 0.323253,
     "end_time": "2022-03-25T21:44:37.008254",
     "exception": false,
     "start_time": "2022-03-25T21:44:36.685001",
     "status": "completed"
    },
    "tags": []
   },
   "outputs": [
    {
     "data": {
      "text/plain": [
       "<AxesSubplot:title={'center':'Source Train Label Loss vs Source Val Label Loss'}, xlabel='Epoch'>"
      ]
     },
     "execution_count": 16,
     "metadata": {},
     "output_type": "execute_result"
    },
    {
     "data": {
      "image/png": "[encoded data removed]",
      "text/plain": [
       "<Figure size 1080x504 with 1 Axes>"
      ]
     },
     "metadata": {
      "needs_background": "light"
     },
     "output_type": "display_data"
    }
   ],
   "source": [
    "get_loss_curve(experiment)"
   ]
  },
  {
   "cell_type": "code",
   "execution_count": 17,
   "id": "59376601",
   "metadata": {
    "execution": {
     "iopub.execute_input": "2022-03-25T21:44:37.111111Z",
     "iopub.status.busy": "2022-03-25T21:44:37.110293Z",
     "iopub.status.idle": "2022-03-25T21:44:37.366617Z",
     "shell.execute_reply": "2022-03-25T21:44:37.366928Z"
    },
    "papermill": {
     "duration": 0.31627,
     "end_time": "2022-03-25T21:44:37.367046",
     "exception": false,
     "start_time": "2022-03-25T21:44:37.050776",
     "status": "completed"
    },
    "tags": []
   },
   "outputs": [
    {
     "data": {
      "text/plain": [
       "<AxesSubplot:title={'center':'Results'}>"
      ]
     },
     "execution_count": 17,
     "metadata": {},
     "output_type": "execute_result"
    },
    {
     "data": {
      "image/png": "[encoded data removed]",
      "text/plain": [
       "<Figure size 1080x504 with 1 Axes>"
      ]
     },
     "metadata": {
      "needs_background": "light"
     },
     "output_type": "display_data"
    }
   ],
   "source": [
    "get_results_table(experiment)"
   ]
  },
  {
   "cell_type": "code",
   "execution_count": 18,
   "id": "e80c5c98",
   "metadata": {
    "execution": {
     "iopub.execute_input": "2022-03-25T21:44:37.465633Z",
     "iopub.status.busy": "2022-03-25T21:44:37.464833Z",
     "iopub.status.idle": "2022-03-25T21:44:37.621780Z",
     "shell.execute_reply": "2022-03-25T21:44:37.620978Z"
    },
    "papermill": {
     "duration": 0.216265,
     "end_time": "2022-03-25T21:44:37.621936",
     "exception": false,
     "start_time": "2022-03-25T21:44:37.405671",
     "status": "completed"
    },
    "tags": []
   },
   "outputs": [
    {
     "data": {
      "text/plain": [
       "<AxesSubplot:title={'center':'Per Domain Accuracy'}, xlabel='domain'>"
      ]
     },
     "execution_count": 18,
     "metadata": {},
     "output_type": "execute_result"
    },
    {
     "data": {
      "image/png": "[encoded data removed]",
      "text/plain": [
       "<Figure size 1080x504 with 1 Axes>"
      ]
     },
     "metadata": {
      "needs_background": "light"
     },
     "output_type": "display_data"
    }
   ],
   "source": [
    "get_domain_accuracies(experiment)"
   ]
  },
  {
   "cell_type": "code",
   "execution_count": 19,
   "id": "086fdd10",
   "metadata": {
    "execution": {
     "iopub.execute_input": "2022-03-25T21:44:37.707866Z",
     "iopub.status.busy": "2022-03-25T21:44:37.707480Z",
     "iopub.status.idle": "2022-03-25T21:44:37.711602Z",
     "shell.execute_reply": "2022-03-25T21:44:37.711265Z"
    },
    "papermill": {
     "duration": 0.047079,
     "end_time": "2022-03-25T21:44:37.711674",
     "exception": false,
     "start_time": "2022-03-25T21:44:37.664595",
     "status": "completed"
    },
    "tags": []
   },
   "outputs": [
    {
     "name": "stdout",
     "output_type": "stream",
     "text": [
      "Source Test Label Accuracy: 0.7532361111111111 Target Test Label Accuracy: 0.071525\n",
      "Source Val Label Accuracy: 0.7521666666666667 Target Val Label Accuracy: 0.071375\n"
     ]
    }
   ],
   "source": [
    "print(\"Source Test Label Accuracy:\", experiment[\"results\"][\"source_test_label_accuracy\"], \"Target Test Label Accuracy:\", experiment[\"results\"][\"target_test_label_accuracy\"])\n",
    "print(\"Source Val Label Accuracy:\", experiment[\"results\"][\"source_val_label_accuracy\"], \"Target Val Label Accuracy:\", experiment[\"results\"][\"target_val_label_accuracy\"])"
   ]
  },
  {
   "cell_type": "code",
   "execution_count": 20,
   "id": "9f450536",
   "metadata": {
    "execution": {
     "iopub.execute_input": "2022-03-25T21:44:37.797736Z",
     "iopub.status.busy": "2022-03-25T21:44:37.797188Z",
     "iopub.status.idle": "2022-03-25T21:44:37.800587Z",
     "shell.execute_reply": "2022-03-25T21:44:37.800034Z"
    },
    "papermill": {
     "duration": 0.045726,
     "end_time": "2022-03-25T21:44:37.800692",
     "exception": false,
     "start_time": "2022-03-25T21:44:37.754966",
     "status": "completed"
    },
    "tags": [
     "experiment_json"
    ]
   },
   "outputs": [
    {
     "data": {
      "text/plain": [
       "'{\"experiment_name\": \"cnn_1:oracle.run1\", \"parameters\": {\"experiment_name\": \"cnn_1:oracle.run1\", \"domains_source\": [8, 32, 50], \"domains_target\": [14, 20, 26, 38, 44], \"labels\": [\"3123D52\", \"3123D65\", \"3123D79\", \"3123D80\", \"3123D54\", \"3123D70\", \"3123D7B\", \"3123D89\", \"3123D58\", \"3123D76\", \"3123D7D\", \"3123EFE\", \"3123D64\", \"3123D78\", \"3123D7E\", \"3124E4A\"], \"pickle_name_source\": \"oracle.Run1_10kExamples_stratified_ds.2022A.pkl\", \"pickle_name_target\": \"oracle.Run1_10kExamples_stratified_ds.2022A.pkl\", \"device\": \"cuda\", \"lr\": 0.0001, \"batch_size\": 128, \"normalize_source\": false, \"normalize_target\": false, \"num_examples_per_domain_per_label_source\": -1, \"num_examples_per_domain_per_label_target\": -1, \"torch_default_dtype\": \"torch.float32\", \"n_epoch\": 50, \"patience\": 3, \"criteria_for_best\": \"target_accuracy\", \"x_net\": [{\"class\": \"nnReshape\", \"kargs\": {\"shape\": [-1, 1, 2, 256]}}, {\"class\": \"Conv2d\", \"kargs\": {\"in_channels\": 1, \"out_channels\": 256, \"kernel_size\": [1, 7], \"bias\": false, \"padding\": [0, 3]}}, {\"class\": \"ReLU\", \"kargs\": {\"inplace\": true}}, {\"class\": \"BatchNorm2d\", \"kargs\": {\"num_features\": 256}}, {\"class\": \"Conv2d\", \"kargs\": {\"in_channels\": 256, \"out_channels\": 80, \"kernel_size\": [2, 7], \"bias\": true, \"padding\": [0, 3]}}, {\"class\": \"ReLU\", \"kargs\": {\"inplace\": true}}, {\"class\": \"BatchNorm2d\", \"kargs\": {\"num_features\": 80}}, {\"class\": \"Flatten\", \"kargs\": {}}, {\"class\": \"Linear\", \"kargs\": {\"in_features\": 20480, \"out_features\": 256}}, {\"class\": \"ReLU\", \"kargs\": {\"inplace\": true}}, {\"class\": \"BatchNorm1d\", \"kargs\": {\"num_features\": 256}}, {\"class\": \"Linear\", \"kargs\": {\"in_features\": 256, \"out_features\": 16}}], \"NUM_LOGS_PER_EPOCH\": 10, \"BEST_MODEL_PATH\": \"./best_model.pth\", \"dataset_seed\": 1337, \"seed\": 1337}, \"results\": {\"source_test_label_accuracy\": 0.7532361111111111, \"source_test_label_loss\": 0.6718486113404296, \"target_test_label_accuracy\": 0.071525, \"target_test_label_loss\": 12.471443461965142, \"source_val_label_accuracy\": 0.7521666666666667, \"source_val_label_loss\": 0.6764024042426798, \"target_val_label_accuracy\": 0.071375, \"target_val_label_loss\": 12.47097828037449, \"total_epochs_trained\": 7, \"total_experiment_time_secs\": 280.2062907218933, \"confusion\": {\"32\": {\"9\": {\"14\": 171, \"2\": 270, \"9\": 982, \"0\": 60, \"1\": 5, \"12\": 11, \"13\": 1}, \"1\": {\"1\": 1498, \"8\": 2}, \"13\": {\"4\": 147, \"13\": 1272, \"11\": 17, \"3\": 57, \"2\": 4, \"14\": 2, \"8\": 1}, \"4\": {\"4\": 921, \"2\": 410, \"13\": 166, \"14\": 2, \"8\": 1}, \"5\": {\"5\": 798, \"7\": 173, \"8\": 312, \"0\": 158, \"14\": 31, \"2\": 1, \"11\": 12, \"12\": 6, \"9\": 8, \"4\": 1}, \"8\": {\"8\": 1344, \"0\": 129, \"4\": 10, \"5\": 8, \"1\": 1, \"2\": 4, \"14\": 1, \"13\": 3}, \"6\": {\"6\": 1495, \"12\": 2, \"10\": 1, \"2\": 2}, \"15\": {\"15\": 1448, \"8\": 49, \"5\": 1, \"9\": 1, \"11\": 1}, \"11\": {\"11\": 1428, \"13\": 72}, \"3\": {\"3\": 1319, \"13\": 177, \"4\": 4}, \"0\": {\"0\": 1227, \"8\": 213, \"2\": 9, \"1\": 16, \"14\": 16, \"7\": 8, \"5\": 3, \"11\": 7, \"4\": 1}, \"14\": {\"7\": 111, \"14\": 1026, \"0\": 166, \"2\": 115, \"5\": 31, \"8\": 45, \"4\": 5, \"3\": 1}, \"10\": {\"10\": 1500}, \"7\": {\"7\": 676, \"5\": 182, \"14\": 298, \"0\": 279, \"8\": 63, \"2\": 2}, \"2\": {\"2\": 1389, \"4\": 101, \"13\": 8, \"8\": 1, \"14\": 1}, \"12\": {\"12\": 1469, \"2\": 1, \"9\": 14, \"10\": 10, \"0\": 6}}, \"44\": {\"1\": {\"5\": 1379, \"8\": 62, \"7\": 21, \"14\": 12, \"9\": 15, \"15\": 10, \"11\": 1}, \"12\": {\"14\": 36, \"3\": 1319, \"8\": 106, \"4\": 27, \"13\": 12}, \"13\": {\"4\": 1500}, \"5\": {\"6\": 965, \"7\": 411, \"5\": 116, \"3\": 5, \"13\": 3}, \"8\": {\"6\": 1012, \"7\": 28, \"2\": 54, \"12\": 245, \"1\": 4, \"3\": 10, \"8\": 126, \"0\": 13, \"13\": 8}, \"6\": {\"4\": 1498, \"15\": 2}, \"14\": {\"6\": 1150, \"7\": 48, \"9\": 37, \"4\": 135, \"5\": 15, \"12\": 36, \"15\": 76, \"11\": 3}, \"0\": {\"8\": 695, \"6\": 440, \"12\": 104, \"0\": 27, \"13\": 135, \"2\": 54, \"1\": 43, \"11\": 2}, \"9\": {\"9\": 411, \"4\": 796, \"15\": 293}, \"10\": {\"9\": 1120, \"5\": 302, \"15\": 70, \"8\": 4, \"4\": 2, \"7\": 2}, \"2\": {\"15\": 1016, \"5\": 418, \"9\": 63, \"11\": 1, \"8\": 2}, \"4\": {\"6\": 338, \"11\": 118, \"4\": 869, \"15\": 116, \"7\": 32, \"9\": 23, \"12\": 4}, \"7\": {\"9\": 1230, \"15\": 141, \"4\": 129}, \"15\": {\"6\": 1074, \"12\": 382, \"11\": 30, \"7\": 10, \"0\": 1, \"8\": 2, \"9\": 1}, \"11\": {\"4\": 1500}, \"3\": {\"14\": 148, \"4\": 510, \"2\": 269, \"8\": 434, \"13\": 93, \"3\": 44, \"0\": 2}}, \"14\": {\"3\": {\"11\": 617, \"3\": 883}, \"8\": {\"6\": 742, \"2\": 684, \"11\": 72, \"3\": 2}, \"12\": {\"2\": 1494, \"9\": 6}, \"2\": {\"3\": 1347, \"11\": 149, \"2\": 4}, \"14\": {\"3\": 1486, \"11\": 14}, \"11\": {\"7\": 1137, \"8\": 278, \"12\": 83, \"6\": 2}, \"9\": {\"2\": 1500}, \"6\": {\"3\": 1410, \"11\": 90}, \"0\": {\"3\": 1278, \"2\": 101, \"11\": 120, \"6\": 1}, \"10\": {\"2\": 1203, \"3\": 288, \"12\": 9}, \"5\": {\"3\": 1218, \"11\": 251, \"2\": 31}, \"7\": {\"11\": 1439, \"3\": 61}, \"4\": {\"2\": 828, \"3\": 670, \"6\": 1, \"11\": 1}, \"15\": {\"11\": 1500}, \"1\": {\"2\": 1498, \"7\": 1, \"3\": 1}, \"13\": {\"3\": 1259, \"11\": 241}}, \"20\": {\"9\": {\"2\": 1329, \"12\": 171}, \"0\": {\"2\": 1314, \"15\": 92, \"3\": 73, \"12\": 21}, \"5\": {\"2\": 1196, \"15\": 32, \"12\": 272}, \"15\": {\"2\": 1407, \"7\": 51, \"12\": 37, \"15\": 2, \"13\": 3}, \"3\": {\"2\": 1061, \"12\": 434, \"15\": 4, \"3\": 1}, \"14\": {\"12\": 1493, \"2\": 7}, \"4\": {\"12\": 1490, \"2\": 2, \"7\": 8}, \"8\": {\"12\": 1356, \"2\": 142, \"15\": 2}, \"13\": {\"2\": 1128, \"7\": 370, \"12\": 2}, \"1\": {\"2\": 1426, \"12\": 66, \"15\": 8}, \"11\": {\"2\": 1478, \"3\": 22}, \"10\": {\"12\": 1493, \"7\": 5, \"8\": 2}, \"7\": {\"12\": 652, \"2\": 821, \"7\": 27}, \"12\": {\"7\": 137, \"2\": 878, \"12\": 484, \"6\": 1}, \"2\": {\"2\": 1181, \"7\": 119, \"12\": 200}, \"6\": {\"12\": 1432, \"2\": 49, \"7\": 19}}, \"50\": {\"11\": {\"11\": 1462, \"6\": 10, \"15\": 18, \"1\": 1, \"9\": 2, \"12\": 5, \"0\": 2}, \"0\": {\"0\": 1336, \"10\": 138, \"2\": 26}, \"5\": {\"13\": 171, \"5\": 452, \"6\": 99, \"7\": 715, \"3\": 52, \"4\": 1, \"1\": 6, \"8\": 4}, \"7\": {\"7\": 1499, \"5\": 1}, \"12\": {\"11\": 81, \"12\": 1340, \"9\": 76, \"0\": 3}, \"6\": {\"6\": 1275, \"13\": 7, \"5\": 205, \"7\": 9, \"15\": 3, \"3\": 1}, \"9\": {\"9\": 1134, \"11\": 219, \"12\": 118, \"15\": 24, \"6\": 5}, \"3\": {\"3\": 1500}, \"8\": {\"8\": 1416, \"1\": 83, \"13\": 1}, \"1\": {\"1\": 1404, \"10\": 14, \"13\": 76, \"0\": 5, \"8\": 1}, \"10\": {\"10\": 1393, \"8\": 91, \"0\": 16}, \"4\": {\"4\": 482, \"7\": 959, \"6\": 18, \"5\": 41}, \"13\": {\"13\": 1457, \"8\": 23, \"1\": 20}, \"2\": {\"2\": 1106, \"0\": 385, \"9\": 9}, \"14\": {\"14\": 969, \"9\": 427, \"2\": 103, \"12\": 1}, \"15\": {\"6\": 891, \"15\": 494, \"4\": 16, \"5\": 56, \"11\": 40, \"7\": 2, \"9\": 1}}, \"8\": {\"7\": {\"7\": 782, \"6\": 615, \"8\": 93, \"4\": 10}, \"0\": {\"0\": 1500}, \"5\": {\"5\": 786, \"11\": 62, \"1\": 597, \"4\": 7, \"13\": 3, \"14\": 21, \"10\": 24}, \"8\": {\"8\": 1495, \"11\": 5}, \"13\": {\"6\": 462, \"7\": 448, \"13\": 378, \"1\": 63, \"10\": 77, \"4\": 64, \"11\": 5, \"5\": 3}, \"4\": {\"4\": 954, \"14\": 192, \"6\": 48, \"8\": 229, \"11\": 76, \"1\": 1}, \"15\": {\"12\": 1234, \"15\": 263, \"2\": 3}, \"12\": {\"12\": 1482, \"15\": 17, \"2\": 1}, \"9\": {\"9\": 1500}, \"2\": {\"3\": 73, \"2\": 1208, \"12\": 148, \"15\": 60, \"7\": 11}, \"1\": {\"11\": 1309, \"1\": 186, \"4\": 4, \"8\": 1}, \"14\": {\"14\": 1226, \"8\": 39, \"4\": 60, \"11\": 165, \"0\": 10}, \"6\": {\"6\": 794, \"4\": 214, \"8\": 353, \"11\": 12, \"7\": 123, \"1\": 4}, \"11\": {\"11\": 1423, \"8\": 61, \"1\": 11, \"14\": 5}, \"10\": {\"10\": 348, \"13\": 133, \"6\": 160, \"4\": 367, \"1\": 386, \"5\": 57, \"11\": 22, \"14\": 16, \"7\": 10, \"8\": 1}, \"3\": {\"3\": 1320, \"15\": 26, \"2\": 147, \"12\": 7}}, \"38\": {\"0\": {\"4\": 1446, \"7\": 53, \"15\": 1}, \"6\": {\"9\": 86, \"2\": 1118, \"0\": 259, \"1\": 31, \"13\": 6}, \"12\": {\"13\": 1231, \"15\": 267, \"5\": 2}, \"3\": {\"7\": 611, \"4\": 889}, \"8\": {\"5\": 145, \"6\": 390, \"4\": 218, \"1\": 234, \"11\": 133, \"15\": 121, \"7\": 113, \"13\": 133, \"8\": 12, \"9\": 1}, \"1\": {\"0\": 1217, \"2\": 257, \"1\": 20, \"10\": 6}, \"10\": {\"4\": 252, \"7\": 1248}, \"5\": {\"6\": 400, \"4\": 123, \"11\": 423, \"15\": 125, \"1\": 208, \"9\": 59, \"5\": 73, \"13\": 40, \"7\": 34, \"0\": 7, \"8\": 4, \"12\": 4}, \"9\": {\"12\": 294, \"9\": 1149, \"4\": 28, \"6\": 13, \"11\": 12, \"7\": 4}, \"11\": {\"7\": 1500}, \"13\": {\"7\": 1481, \"4\": 19}, \"7\": {\"4\": 1419, \"5\": 5, \"9\": 1, \"15\": 71, \"7\": 2, \"6\": 2}, \"14\": {\"7\": 1319, \"3\": 108, \"5\": 73}, \"2\": {\"7\": 1292, \"3\": 198, \"5\": 10}, \"4\": {\"4\": 1309, \"7\": 191}, \"15\": {\"1\": 941, \"8\": 124, \"13\": 304, \"6\": 81, \"0\": 6, \"10\": 36, \"11\": 8}}, \"26\": {\"1\": {\"12\": 1426, \"11\": 50, \"3\": 22, \"13\": 2}, \"15\": {\"9\": 161, \"11\": 1274, \"12\": 63, \"3\": 2}, \"5\": {\"11\": 1019, \"9\": 459, \"12\": 20, \"6\": 1, \"14\": 1}, \"9\": {\"11\": 939, \"3\": 516, \"9\": 41, \"6\": 4}, \"8\": {\"11\": 589, \"3\": 901, \"12\": 7, \"9\": 3}, \"6\": {\"11\": 421, \"12\": 755, \"9\": 321, \"13\": 1, \"6\": 2}, \"13\": {\"3\": 144, \"9\": 414, \"11\": 672, \"6\": 253, \"2\": 17}, \"3\": {\"3\": 878, \"11\": 622}, \"0\": {\"3\": 560, \"12\": 540, \"11\": 398, \"9\": 2}, \"14\": {\"12\": 1116, \"11\": 163, \"3\": 220, \"13\": 1}, \"10\": {\"12\": 1014, \"3\": 91, \"11\": 371, \"9\": 23, \"13\": 1}, \"11\": {\"6\": 1177, \"12\": 178, \"9\": 50, \"2\": 91, \"0\": 4}, \"4\": {\"3\": 1500}, \"2\": {\"11\": 1347, \"3\": 151, \"12\": 1, \"9\": 1}, \"7\": {\"3\": 937, \"11\": 563}, \"12\": {\"12\": 904, \"3\": 135, \"9\": 350, \"6\": 103, \"2\": 8}}}, \"per_domain_accuracy\": {\"32\": {\"accuracy\": 0.8246666666666667, \"source?\": true}, \"44\": {\"accuracy\": 0.066375, \"source?\": false}, \"14\": {\"accuracy\": 0.036958333333333336, \"source?\": false}, \"20\": {\"accuracy\": 0.070625, \"source?\": false}, \"50\": {\"accuracy\": 0.7799583333333333, \"source?\": true}, \"8\": {\"accuracy\": 0.651875, \"source?\": true}, \"38\": {\"accuracy\": 0.106875, \"source?\": false}, \"26\": {\"accuracy\": 0.07604166666666666, \"source?\": false}}}, \"history\": {\"epoch_indices\": [1, 2, 3, 4, 5, 6, 7], \"train_label_loss\": [1.6872956613813128, 0.8414314985502334, 0.581863480522519, 0.45931608665557133, 0.38742981441815694, 0.33616957592396507, 0.29302234607083455], \"source_val_label_loss\": [1.074889126298271, 0.7674151281056989, 0.6761305043688888, 0.42748596835517544, 0.4100386723214314, 0.4190725946722827, 0.3803286790636039], \"target_val_label_loss\": [8.050169485718456, 11.649550415559618, 12.47085258243943, 14.377387834764493, 14.98428388851792, 17.177494255464467, 17.03111032331422], \"source_val_acc_label\": [0.6274166666666666, 0.7161805555555556, 0.7521666666666667, 0.8483611111111111, 0.8453888888888889, 0.8406527777777778, 0.8532777777777778], \"target_val_acc_label\": [0.068525, 0.070325, 0.071375, 0.058458333333333334, 0.05963333333333334, 0.05895, 0.06095]}, \"dataset_metrics\": {\"source\": {\"train\": {\"n_unique_x\": 336000, \"n_unique_y\": 16, \"n_batch/episode\": 2625}, \"val\": {\"n_unique_x\": 72000, \"n_unique_y\": 16, \"n_batch/episode\": 563}, \"test\": {\"n_unique_x\": 72000, \"n_unique_y\": 16, \"n_batch/episode\": 563}}, \"target\": {\"train\": {\"n_unique_x\": 560000, \"n_unique_y\": 16, \"n_batch/episode\": 4375}, \"val\": {\"n_unique_x\": 120000, \"n_unique_y\": 16, \"n_batch/episode\": 938}, \"test\": {\"n_unique_x\": 120000, \"n_unique_y\": 16, \"n_batch/episode\": 938}}}}'"
      ]
     },
     "execution_count": 20,
     "metadata": {},
     "output_type": "execute_result"
    }
   ],
   "source": [
    "json.dumps(experiment)"
   ]
  }
 ],
 "metadata": {
  "celltoolbar": "Tags",
  "kernelspec": {
   "display_name": "Python 3 (ipykernel)",
   "language": "python",
   "name": "python3"
  },
  "language_info": {
   "codemirror_mode": {
    "name": "ipython",
    "version": 3
   },
   "file_extension": ".py",
   "mimetype": "text/x-python",
   "name": "python",
   "nbconvert_exporter": "python",
   "pygments_lexer": "ipython3",
   "version": "3.8.12"
  },
  "papermill": {
   "default_parameters": {},
   "duration": 341.726008,
   "end_time": "2022-03-25T21:44:41.154933",
   "environment_variables": {},
   "exception": null,
   "input_path": "/root/csc500-main/csc500-notebooks/templates/cnn_template.ipynb",
   "output_path": "trial.ipynb",
   "parameters": {
    "parameters": {
     "BEST_MODEL_PATH": "./best_model.pth",
     "NUM_LOGS_PER_EPOCH": 10,
     "batch_size": 128,
     "criteria_for_best": "target_accuracy",
     "dataset_seed": 1337,
     "device": "cuda",
     "domains_source": [
      8,
      32,
      50
     ],
     "domains_target": [
      14,
      20,
      26,
      38,
      44
     ],
     "experiment_name": "cnn_1:oracle.run1",
     "labels": [
      "3123D52",
      "3123D65",
      "3123D79",
      "3123D80",
      "3123D54",
      "3123D70",
      "3123D7B",
      "3123D89",
      "3123D58",
      "3123D76",
      "3123D7D",
      "3123EFE",
      "3123D64",
      "3123D78",
      "3123D7E",
      "3124E4A"
     ],
     "lr": 0.0001,
     "n_epoch": 50,
     "normalize_source": false,
     "normalize_target": false,
     "num_examples_per_domain_per_label_source": -1,
     "num_examples_per_domain_per_label_target": -1,
     "patience": 3,
     "pickle_name_source": "oracle.Run1_10kExamples_stratified_ds.2022A.pkl",
     "pickle_name_target": "oracle.Run1_10kExamples_stratified_ds.2022A.pkl",
     "seed": 1337,
     "torch_default_dtype": "torch.float32",
     "x_net": [
      {
       "class": "nnReshape",
       "kargs": {
        "shape": [
         -1,
         1,
         2,
         256
        ]
       }
      },
      {
       "class": "Conv2d",
       "kargs": {
        "bias": false,
        "in_channels": 1,
        "kernel_size": [
         1,
         7
        ],
        "out_channels": 256,
        "padding": [
         0,
         3
        ]
       }
      },
      {
       "class": "ReLU",
       "kargs": {
        "inplace": true
       }
      },
      {
       "class": "BatchNorm2d",
       "kargs": {
        "num_features": 256
       }
      },
      {
       "class": "Conv2d",
       "kargs": {
        "bias": true,
        "in_channels": 256,
        "kernel_size": [
         2,
         7
        ],
        "out_channels": 80,
        "padding": [
         0,
         3
        ]
       }
      },
      {
       "class": "ReLU",
       "kargs": {
        "inplace": true
       }
      },
      {
       "class": "BatchNorm2d",
       "kargs": {
        "num_features": 80
       }
      },
      {
       "class": "Flatten",
       "kargs": {}
      },
      {
       "class": "Linear",
       "kargs": {
        "in_features": 20480,
        "out_features": 256
       }
      },
      {
       "class": "ReLU",
       "kargs": {
        "inplace": true
       }
      },
      {
       "class": "BatchNorm1d",
       "kargs": {
        "num_features": 256
       }
      },
      {
       "class": "Linear",
       "kargs": {
        "in_features": 256,
        "out_features": 16
       }
      }
     ]
    }
   },
   "start_time": "2022-03-25T21:38:59.428925",
   "version": "2.3.4"
  }
 },
 "nbformat": 4,
 "nbformat_minor": 5
}