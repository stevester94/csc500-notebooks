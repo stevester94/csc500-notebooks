{
 "cells": [
  {
   "cell_type": "code",
   "execution_count": 1,
   "id": "2324682e",
   "metadata": {
    "execution": {
     "iopub.execute_input": "2022-03-25T21:34:43.252200Z",
     "iopub.status.busy": "2022-03-25T21:34:43.251288Z",
     "iopub.status.idle": "2022-03-25T21:34:44.545743Z",
     "shell.execute_reply": "2022-03-25T21:34:44.544873Z"
    },
    "papermill": {
     "duration": 1.332111,
     "end_time": "2022-03-25T21:34:44.545945",
     "exception": false,
     "start_time": "2022-03-25T21:34:43.213834",
     "status": "completed"
    },
    "tags": []
   },
   "outputs": [],
   "source": [
    "import os, json, sys, time, random\n",
    "import numpy as np\n",
    "import torch\n",
    "from  easydict import EasyDict\n",
    "from math import floor\n",
    "from easydict import EasyDict\n",
    "\n",
    "from steves_utils.vanilla_train_eval_test_jig import  Vanilla_Train_Eval_Test_Jig\n",
    "\n",
    "from steves_utils.torch_utils import get_dataset_metrics, independent_accuracy_assesment\n",
    "from steves_models.configurable_vanilla import Configurable_Vanilla\n",
    "from steves_utils.torch_sequential_builder import build_sequential\n",
    "from steves_utils.lazy_map import Lazy_Map\n",
    "from steves_utils.sequence_aggregator import Sequence_Aggregator\n",
    "\n",
    "from steves_utils.stratified_dataset.traditional_accessor import Traditional_Accessor_Factory\n",
    "\n",
    "from steves_utils.cnn_do_report import (\n",
    "    get_loss_curve,\n",
    "    get_results_table,\n",
    "    get_parameters_table,\n",
    "    get_domain_accuracies,\n",
    ")\n",
    "\n",
    "from steves_utils.torch_utils import (\n",
    "    confusion_by_domain_over_dataloader,\n",
    "    independent_accuracy_assesment\n",
    ")\n",
    "\n",
    "from steves_utils.utils_v2 import (\n",
    "    per_domain_accuracy_from_confusion,\n",
    "    get_datasets_base_path\n",
    ")\n",
    "\n",
    "# from steves_utils.ptn_do_report import TBD"
   ]
  },
  {
   "cell_type": "code",
   "execution_count": 2,
   "id": "1b29e3fe",
   "metadata": {
    "execution": {
     "iopub.execute_input": "2022-03-25T21:34:44.583180Z",
     "iopub.status.busy": "2022-03-25T21:34:44.582791Z",
     "iopub.status.idle": "2022-03-25T21:34:44.585282Z",
     "shell.execute_reply": "2022-03-25T21:34:44.584912Z"
    },
    "papermill": {
     "duration": 0.019729,
     "end_time": "2022-03-25T21:34:44.585356",
     "exception": false,
     "start_time": "2022-03-25T21:34:44.565627",
     "status": "completed"
    },
    "tags": []
   },
   "outputs": [],
   "source": [
    "required_parameters = {\n",
    "    \"experiment_name\",\n",
    "    \"lr\",\n",
    "    \"device\",\n",
    "    \"dataset_seed\",\n",
    "    \"seed\",\n",
    "    \"labels\",\n",
    "    \"domains_target\",\n",
    "    \"domains_source\",\n",
    "    \"num_examples_per_domain_per_label_source\",\n",
    "    \"num_examples_per_domain_per_label_target\",\n",
    "    \"batch_size\",\n",
    "    \"n_epoch\",\n",
    "    \"patience\",\n",
    "    \"criteria_for_best\",\n",
    "    \"normalize_source\",\n",
    "    \"normalize_target\",\n",
    "    \"x_net\",\n",
    "    \"NUM_LOGS_PER_EPOCH\",\n",
    "    \"BEST_MODEL_PATH\",\n",
    "    \"pickle_name_source\",\n",
    "    \"pickle_name_target\",\n",
    "    \"torch_default_dtype\",\n",
    "}"
   ]
  },
  {
   "cell_type": "code",
   "execution_count": 3,
   "id": "670b5fb8",
   "metadata": {
    "execution": {
     "iopub.execute_input": "2022-03-25T21:34:44.623703Z",
     "iopub.status.busy": "2022-03-25T21:34:44.623281Z",
     "iopub.status.idle": "2022-03-25T21:34:44.631494Z",
     "shell.execute_reply": "2022-03-25T21:34:44.630787Z"
    },
    "papermill": {
     "duration": 0.029806,
     "end_time": "2022-03-25T21:34:44.631674",
     "exception": false,
     "start_time": "2022-03-25T21:34:44.601868",
     "status": "completed"
    },
    "tags": [
     "parameters"
    ]
   },
   "outputs": [],
   "source": [
    "from steves_utils.ORACLE.utils_v2 import (\n",
    "    ALL_SERIAL_NUMBERS,\n",
    "    ALL_DISTANCES_FEET_NARROWED,\n",
    ")\n",
    "\n",
    "standalone_parameters = {}\n",
    "standalone_parameters[\"experiment_name\"] = \"MANUAL CORES CNN\"\n",
    "standalone_parameters[\"lr\"] = 0.0001\n",
    "standalone_parameters[\"device\"] = \"cuda\"\n",
    "\n",
    "standalone_parameters[\"dataset_seed\"] = 1337\n",
    "standalone_parameters[\"seed\"] = 1337\n",
    "standalone_parameters[\"labels\"] = ALL_SERIAL_NUMBERS\n",
    "\n",
    "standalone_parameters[\"domains_source\"] = [8,32,50]\n",
    "standalone_parameters[\"domains_target\"] = [14,20,26,38,44,]\n",
    "\n",
    "standalone_parameters[\"num_examples_per_domain_per_label_source\"]=-1\n",
    "standalone_parameters[\"num_examples_per_domain_per_label_target\"]=-1\n",
    "\n",
    "standalone_parameters[\"pickle_name_source\"] = \"oracle.Run1_framed_2000Examples_stratified_ds.2022A.pkl\"\n",
    "standalone_parameters[\"pickle_name_target\"] = \"oracle.Run2_framed_2000Examples_stratified_ds.2022A.pkl\"\n",
    "\n",
    "standalone_parameters[\"torch_default_dtype\"] = \"torch.float32\" \n",
    "\n",
    "standalone_parameters[\"batch_size\"]=128\n",
    "\n",
    "standalone_parameters[\"n_epoch\"] = 3\n",
    "\n",
    "standalone_parameters[\"patience\"] = 10\n",
    "\n",
    "standalone_parameters[\"criteria_for_best\"] = \"target_accuracy\"\n",
    "standalone_parameters[\"normalize_source\"] = False\n",
    "standalone_parameters[\"normalize_target\"] = False\n",
    "\n",
    "standalone_parameters[\"x_net\"] =     [\n",
    "    {\"class\": \"nnReshape\", \"kargs\": {\"shape\":[-1, 1, 2, 256]}},\n",
    "    {\"class\": \"Conv2d\", \"kargs\": { \"in_channels\":1, \"out_channels\":256, \"kernel_size\":(1,7), \"bias\":False, \"padding\":(0,3), },},\n",
    "    {\"class\": \"ReLU\", \"kargs\": {\"inplace\": True}},\n",
    "    {\"class\": \"BatchNorm2d\", \"kargs\": {\"num_features\":256}},\n",
    "\n",
    "    {\"class\": \"Conv2d\", \"kargs\": { \"in_channels\":256, \"out_channels\":80, \"kernel_size\":(2,7), \"bias\":True, \"padding\":(0,3), },},\n",
    "    {\"class\": \"ReLU\", \"kargs\": {\"inplace\": True}},\n",
    "    {\"class\": \"BatchNorm2d\", \"kargs\": {\"num_features\":80}},\n",
    "    {\"class\": \"Flatten\", \"kargs\": {}},\n",
    "\n",
    "    {\"class\": \"Linear\", \"kargs\": {\"in_features\": 80*256, \"out_features\": 256}}, # 80 units per IQ pair\n",
    "    {\"class\": \"ReLU\", \"kargs\": {\"inplace\": True}},\n",
    "    {\"class\": \"BatchNorm1d\", \"kargs\": {\"num_features\":256}},\n",
    "\n",
    "    {\"class\": \"Linear\", \"kargs\": {\"in_features\": 256, \"out_features\": len(standalone_parameters[\"labels\"])}},\n",
    "]\n",
    "\n",
    "standalone_parameters[\"NUM_LOGS_PER_EPOCH\"] = 10\n",
    "standalone_parameters[\"BEST_MODEL_PATH\"] = \"./best_model.pth\""
   ]
  },
  {
   "cell_type": "code",
   "execution_count": 4,
   "id": "03cebd64",
   "metadata": {
    "execution": {
     "iopub.execute_input": "2022-03-25T21:34:44.674626Z",
     "iopub.status.busy": "2022-03-25T21:34:44.673733Z",
     "iopub.status.idle": "2022-03-25T21:34:44.676453Z",
     "shell.execute_reply": "2022-03-25T21:34:44.675642Z"
    },
    "papermill": {
     "duration": 0.024485,
     "end_time": "2022-03-25T21:34:44.676602",
     "exception": false,
     "start_time": "2022-03-25T21:34:44.652117",
     "status": "completed"
    },
    "tags": [
     "injected-parameters"
    ]
   },
   "outputs": [],
   "source": [
    "# Parameters\n",
    "parameters = {\n",
    "    \"experiment_name\": \"cnn_1:oracle.run1\",\n",
    "    \"domains_source\": [8, 32, 50],\n",
    "    \"domains_target\": [14, 20, 26, 38, 44],\n",
    "    \"labels\": [\n",
    "        \"3123D52\",\n",
    "        \"3123D65\",\n",
    "        \"3123D79\",\n",
    "        \"3123D80\",\n",
    "        \"3123D54\",\n",
    "        \"3123D70\",\n",
    "        \"3123D7B\",\n",
    "        \"3123D89\",\n",
    "        \"3123D58\",\n",
    "        \"3123D76\",\n",
    "        \"3123D7D\",\n",
    "        \"3123EFE\",\n",
    "        \"3123D64\",\n",
    "        \"3123D78\",\n",
    "        \"3123D7E\",\n",
    "        \"3124E4A\",\n",
    "    ],\n",
    "    \"pickle_name_source\": \"oracle.Run1_10kExamples_stratified_ds.2022A.pkl\",\n",
    "    \"pickle_name_target\": \"oracle.Run1_10kExamples_stratified_ds.2022A.pkl\",\n",
    "    \"device\": \"cuda\",\n",
    "    \"lr\": 0.0001,\n",
    "    \"batch_size\": 128,\n",
    "    \"normalize_source\": False,\n",
    "    \"normalize_target\": False,\n",
    "    \"num_examples_per_domain_per_label_source\": -1,\n",
    "    \"num_examples_per_domain_per_label_target\": -1,\n",
    "    \"torch_default_dtype\": \"torch.float32\",\n",
    "    \"n_epoch\": 50,\n",
    "    \"patience\": 3,\n",
    "    \"criteria_for_best\": \"target_accuracy\",\n",
    "    \"x_net\": [\n",
    "        {\"class\": \"nnReshape\", \"kargs\": {\"shape\": [-1, 1, 2, 256]}},\n",
    "        {\n",
    "            \"class\": \"Conv2d\",\n",
    "            \"kargs\": {\n",
    "                \"in_channels\": 1,\n",
    "                \"out_channels\": 256,\n",
    "                \"kernel_size\": [1, 7],\n",
    "                \"bias\": False,\n",
    "                \"padding\": [0, 3],\n",
    "            },\n",
    "        },\n",
    "        {\"class\": \"ReLU\", \"kargs\": {\"inplace\": True}},\n",
    "        {\"class\": \"BatchNorm2d\", \"kargs\": {\"num_features\": 256}},\n",
    "        {\n",
    "            \"class\": \"Conv2d\",\n",
    "            \"kargs\": {\n",
    "                \"in_channels\": 256,\n",
    "                \"out_channels\": 80,\n",
    "                \"kernel_size\": [2, 7],\n",
    "                \"bias\": True,\n",
    "                \"padding\": [0, 3],\n",
    "            },\n",
    "        },\n",
    "        {\"class\": \"ReLU\", \"kargs\": {\"inplace\": True}},\n",
    "        {\"class\": \"BatchNorm2d\", \"kargs\": {\"num_features\": 80}},\n",
    "        {\"class\": \"Flatten\", \"kargs\": {}},\n",
    "        {\"class\": \"Linear\", \"kargs\": {\"in_features\": 20480, \"out_features\": 256}},\n",
    "        {\"class\": \"ReLU\", \"kargs\": {\"inplace\": True}},\n",
    "        {\"class\": \"BatchNorm1d\", \"kargs\": {\"num_features\": 256}},\n",
    "        {\"class\": \"Linear\", \"kargs\": {\"in_features\": 256, \"out_features\": 16}},\n",
    "    ],\n",
    "    \"NUM_LOGS_PER_EPOCH\": 10,\n",
    "    \"BEST_MODEL_PATH\": \"./best_model.pth\",\n",
    "    \"dataset_seed\": 154325,\n",
    "    \"seed\": 154325,\n",
    "}\n"
   ]
  },
  {
   "cell_type": "code",
   "execution_count": 5,
   "id": "759b56ec",
   "metadata": {
    "execution": {
     "iopub.execute_input": "2022-03-25T21:34:44.712746Z",
     "iopub.status.busy": "2022-03-25T21:34:44.712370Z",
     "iopub.status.idle": "2022-03-25T21:34:44.714799Z",
     "shell.execute_reply": "2022-03-25T21:34:44.714433Z"
    },
    "papermill": {
     "duration": 0.020266,
     "end_time": "2022-03-25T21:34:44.714868",
     "exception": false,
     "start_time": "2022-03-25T21:34:44.694602",
     "status": "completed"
    },
    "tags": []
   },
   "outputs": [],
   "source": [
    "# Set this to True if you want to run this template directly\n",
    "STANDALONE = False\n",
    "if STANDALONE:\n",
    "    print(\"parameters not injected, running with standalone_parameters\")\n",
    "    parameters = standalone_parameters\n",
    "\n",
    "if not 'parameters' in locals() and not 'parameters' in globals():\n",
    "    raise Exception(\"Parameter injection failed\")\n",
    "\n",
    "#Use an easy dict for all the parameters\n",
    "p = EasyDict(parameters)\n",
    "\n",
    "supplied_keys = set(p.keys())\n",
    "\n",
    "if  supplied_keys != required_parameters:\n",
    "    print(\"Parameters are incorrect\")\n",
    "    if len(supplied_keys - required_parameters)>0: print(\"Shouldn't have:\", str(supplied_keys - required_parameters))\n",
    "    if len(required_parameters - supplied_keys)>0: print(\"Need to have:\", str(required_parameters - supplied_keys))\n",
    "    raise RuntimeError(\"Parameters are incorrect\")\n",
    "\n"
   ]
  },
  {
   "cell_type": "code",
   "execution_count": 6,
   "id": "d5c66a71",
   "metadata": {
    "execution": {
     "iopub.execute_input": "2022-03-25T21:34:44.748914Z",
     "iopub.status.busy": "2022-03-25T21:34:44.748543Z",
     "iopub.status.idle": "2022-03-25T21:34:44.751470Z",
     "shell.execute_reply": "2022-03-25T21:34:44.751097Z"
    },
    "papermill": {
     "duration": 0.019819,
     "end_time": "2022-03-25T21:34:44.751548",
     "exception": false,
     "start_time": "2022-03-25T21:34:44.731729",
     "status": "completed"
    },
    "tags": []
   },
   "outputs": [],
   "source": [
    "###################################\n",
    "# Set the RNGs and make it all deterministic\n",
    "###################################\n",
    "np.random.seed(p.seed)\n",
    "random.seed(p.seed)\n",
    "torch.manual_seed(p.seed)\n",
    "\n",
    "torch.use_deterministic_algorithms(True) "
   ]
  },
  {
   "cell_type": "code",
   "execution_count": 7,
   "id": "92a65876",
   "metadata": {
    "execution": {
     "iopub.execute_input": "2022-03-25T21:34:44.785649Z",
     "iopub.status.busy": "2022-03-25T21:34:44.785281Z",
     "iopub.status.idle": "2022-03-25T21:34:44.787595Z",
     "shell.execute_reply": "2022-03-25T21:34:44.787219Z"
    },
    "papermill": {
     "duration": 0.019171,
     "end_time": "2022-03-25T21:34:44.787669",
     "exception": false,
     "start_time": "2022-03-25T21:34:44.768498",
     "status": "completed"
    },
    "tags": []
   },
   "outputs": [],
   "source": [
    "torch.set_default_dtype(eval(p.torch_default_dtype))"
   ]
  },
  {
   "cell_type": "code",
   "execution_count": 8,
   "id": "f1a32f01",
   "metadata": {
    "execution": {
     "iopub.execute_input": "2022-03-25T21:34:44.821880Z",
     "iopub.status.busy": "2022-03-25T21:34:44.821508Z",
     "iopub.status.idle": "2022-03-25T21:34:44.858057Z",
     "shell.execute_reply": "2022-03-25T21:34:44.857303Z"
    },
    "papermill": {
     "duration": 0.053477,
     "end_time": "2022-03-25T21:34:44.858231",
     "exception": false,
     "start_time": "2022-03-25T21:34:44.804754",
     "status": "completed"
    },
    "tags": []
   },
   "outputs": [],
   "source": [
    "###################################\n",
    "# Build the network(s)\n",
    "# Note: It's critical to do this AFTER setting the RNG\n",
    "###################################\n",
    "x_net = build_sequential(p.x_net)"
   ]
  },
  {
   "cell_type": "code",
   "execution_count": 9,
   "id": "a276cd83",
   "metadata": {
    "execution": {
     "iopub.execute_input": "2022-03-25T21:34:44.897466Z",
     "iopub.status.busy": "2022-03-25T21:34:44.897091Z",
     "iopub.status.idle": "2022-03-25T21:34:44.899641Z",
     "shell.execute_reply": "2022-03-25T21:34:44.899263Z"
    },
    "papermill": {
     "duration": 0.019486,
     "end_time": "2022-03-25T21:34:44.899711",
     "exception": false,
     "start_time": "2022-03-25T21:34:44.880225",
     "status": "completed"
    },
    "tags": []
   },
   "outputs": [],
   "source": [
    "start_time_secs = time.time()"
   ]
  },
  {
   "cell_type": "code",
   "execution_count": 10,
   "id": "de702e48",
   "metadata": {
    "execution": {
     "iopub.execute_input": "2022-03-25T21:34:44.940003Z",
     "iopub.status.busy": "2022-03-25T21:34:44.939609Z",
     "iopub.status.idle": "2022-03-25T21:35:06.826068Z",
     "shell.execute_reply": "2022-03-25T21:35:06.826798Z"
    },
    "papermill": {
     "duration": 21.909991,
     "end_time": "2022-03-25T21:35:06.827041",
     "exception": false,
     "start_time": "2022-03-25T21:34:44.917050",
     "status": "completed"
    },
    "tags": []
   },
   "outputs": [],
   "source": [
    "def wrap_in_dataloader(p, ds):\n",
    "    return torch.utils.data.DataLoader(\n",
    "        ds,\n",
    "        batch_size=p.batch_size,\n",
    "        shuffle=True,\n",
    "        num_workers=1,\n",
    "        persistent_workers=True,\n",
    "        prefetch_factor=50,\n",
    "        pin_memory=True\n",
    "    )\n",
    "\n",
    "taf_source = Traditional_Accessor_Factory(\n",
    "    labels=p.labels,\n",
    "    domains=p.domains_source,\n",
    "    num_examples_per_domain_per_label=p.num_examples_per_domain_per_label_source,\n",
    "    pickle_path=os.path.join(get_datasets_base_path(), p.pickle_name_source),\n",
    "    seed=p.dataset_seed\n",
    ")\n",
    "train_original_source, val_original_source, test_original_source = \\\n",
    "    taf_source.get_train(), taf_source.get_val(), taf_source.get_test()\n",
    "\n",
    "\n",
    "taf_target = Traditional_Accessor_Factory(\n",
    "    labels=p.labels,\n",
    "    domains=p.domains_target,\n",
    "    num_examples_per_domain_per_label=p.num_examples_per_domain_per_label_source,\n",
    "    pickle_path=os.path.join(get_datasets_base_path(), p.pickle_name_target),\n",
    "    seed=p.dataset_seed\n",
    ")\n",
    "train_original_target, val_original_target, test_original_target = \\\n",
    "    taf_target.get_train(), taf_target.get_val(), taf_target.get_test()\n",
    "\n",
    "\n",
    "# For CNN We only use X and Y. And we only train on the source.\n",
    "# Properly form the data using a transform lambda and Lazy_Map. Finally wrap them in a dataloader\n",
    "\n",
    "transform_lambda = lambda ex: ex[:2] # Strip the tuple to just (x,y)\n",
    "\n",
    "\n",
    "train_processed_source = wrap_in_dataloader(\n",
    "    p,\n",
    "    Lazy_Map(train_original_source, transform_lambda)\n",
    ")\n",
    "val_processed_source = wrap_in_dataloader(\n",
    "    p,\n",
    "    Lazy_Map(val_original_source, transform_lambda)\n",
    ")\n",
    "test_processed_source = wrap_in_dataloader(\n",
    "    p,\n",
    "    Lazy_Map(test_original_source, transform_lambda)\n",
    ")\n",
    "\n",
    "train_processed_target = wrap_in_dataloader(\n",
    "    p,\n",
    "    Lazy_Map(train_original_target, transform_lambda)\n",
    ")\n",
    "val_processed_target = wrap_in_dataloader(\n",
    "    p,\n",
    "    Lazy_Map(val_original_target, transform_lambda)\n",
    ")\n",
    "test_processed_target  = wrap_in_dataloader(\n",
    "    p,\n",
    "    Lazy_Map(test_original_target, transform_lambda)\n",
    ")\n",
    "\n",
    "\n",
    "\n",
    "datasets = EasyDict({\n",
    "    \"source\": {\n",
    "        \"original\": {\"train\":train_original_source, \"val\":val_original_source, \"test\":test_original_source},\n",
    "        \"processed\": {\"train\":train_processed_source, \"val\":val_processed_source, \"test\":test_processed_source}\n",
    "    },\n",
    "    \"target\": {\n",
    "        \"original\": {\"train\":train_original_target, \"val\":val_original_target, \"test\":test_original_target},\n",
    "        \"processed\": {\"train\":train_processed_target, \"val\":val_processed_target, \"test\":test_processed_target}\n",
    "    },\n",
    "})"
   ]
  },
  {
   "cell_type": "code",
   "execution_count": 11,
   "id": "a11b26bd",
   "metadata": {
    "execution": {
     "iopub.execute_input": "2022-03-25T21:35:06.909331Z",
     "iopub.status.busy": "2022-03-25T21:35:06.908464Z",
     "iopub.status.idle": "2022-03-25T21:35:12.321471Z",
     "shell.execute_reply": "2022-03-25T21:35:12.320714Z"
    },
    "papermill": {
     "duration": 5.474307,
     "end_time": "2022-03-25T21:35:12.321645",
     "exception": false,
     "start_time": "2022-03-25T21:35:06.847338",
     "status": "completed"
    },
    "tags": []
   },
   "outputs": [
    {
     "data": {
      "text/plain": [
       "torch.float32"
      ]
     },
     "execution_count": 11,
     "metadata": {},
     "output_type": "execute_result"
    }
   ],
   "source": [
    "ep = next(iter(test_processed_target))\n",
    "ep[0].dtype"
   ]
  },
  {
   "cell_type": "code",
   "execution_count": 12,
   "id": "19425fad",
   "metadata": {
    "execution": {
     "iopub.execute_input": "2022-03-25T21:35:12.362077Z",
     "iopub.status.busy": "2022-03-25T21:35:12.361506Z",
     "iopub.status.idle": "2022-03-25T21:35:12.408361Z",
     "shell.execute_reply": "2022-03-25T21:35:12.407632Z"
    },
    "papermill": {
     "duration": 0.068234,
     "end_time": "2022-03-25T21:35:12.408516",
     "exception": false,
     "start_time": "2022-03-25T21:35:12.340282",
     "status": "completed"
    },
    "tags": []
   },
   "outputs": [],
   "source": [
    "model = Configurable_Vanilla(\n",
    "    x_net=x_net,\n",
    "    label_loss_object=torch.nn.NLLLoss(),\n",
    "    learning_rate=p.lr\n",
    ")"
   ]
  },
  {
   "cell_type": "code",
   "execution_count": 13,
   "id": "7f6d4f2c",
   "metadata": {
    "execution": {
     "iopub.execute_input": "2022-03-25T21:35:12.451459Z",
     "iopub.status.busy": "2022-03-25T21:35:12.451085Z",
     "iopub.status.idle": "2022-03-25T21:37:59.994865Z",
     "shell.execute_reply": "2022-03-25T21:37:59.994523Z"
    },
    "papermill": {
     "duration": 167.565636,
     "end_time": "2022-03-25T21:37:59.994948",
     "exception": false,
     "start_time": "2022-03-25T21:35:12.429312",
     "status": "completed"
    },
    "tags": []
   },
   "outputs": [
    {
     "name": "stdout",
     "output_type": "stream",
     "text": [
      "epoch: 1, [batch: 1 / 2625], examples_per_second: 691.9403, train_label_loss: 2.7873, \n"
     ]
    },
    {
     "name": "stdout",
     "output_type": "stream",
     "text": [
      "epoch: 1, [batch: 263 / 2625], examples_per_second: 11798.6154, train_label_loss: 2.3120, \n"
     ]
    },
    {
     "name": "stdout",
     "output_type": "stream",
     "text": [
      "epoch: 1, [batch: 525 / 2625], examples_per_second: 11686.5188, train_label_loss: 2.0777, \n"
     ]
    },
    {
     "name": "stdout",
     "output_type": "stream",
     "text": [
      "epoch: 1, [batch: 788 / 2625], examples_per_second: 11785.8163, train_label_loss: 1.8383, \n"
     ]
    },
    {
     "name": "stdout",
     "output_type": "stream",
     "text": [
      "epoch: 1, [batch: 1050 / 2625], examples_per_second: 11764.3096, train_label_loss: 1.7102, \n"
     ]
    },
    {
     "name": "stdout",
     "output_type": "stream",
     "text": [
      "epoch: 1, [batch: 1313 / 2625], examples_per_second: 11786.4155, train_label_loss: 1.3849, \n"
     ]
    },
    {
     "name": "stdout",
     "output_type": "stream",
     "text": [
      "epoch: 1, [batch: 1575 / 2625], examples_per_second: 11761.0133, train_label_loss: 1.5795, \n"
     ]
    },
    {
     "name": "stdout",
     "output_type": "stream",
     "text": [
      "epoch: 1, [batch: 1837 / 2625], examples_per_second: 11771.5537, train_label_loss: 1.3091, \n"
     ]
    },
    {
     "name": "stdout",
     "output_type": "stream",
     "text": [
      "epoch: 1, [batch: 2100 / 2625], examples_per_second: 11716.8780, train_label_loss: 1.2414, \n"
     ]
    },
    {
     "name": "stdout",
     "output_type": "stream",
     "text": [
      "epoch: 1, [batch: 2362 / 2625], examples_per_second: 11789.0254, train_label_loss: 1.0314, \n"
     ]
    },
    {
     "name": "stdout",
     "output_type": "stream",
     "text": [
      "=============================================================\n",
      "epoch: 1, source_val_acc_label: 0.4818, source_val_label_loss: 1.4036, target_val_acc_label: 0.0790, target_val_label_loss: 7.6629, \n",
      "=============================================================\n"
     ]
    },
    {
     "name": "stdout",
     "output_type": "stream",
     "text": [
      "New best\n",
      "epoch: 2, [batch: 1 / 2625], examples_per_second: 30.7113, train_label_loss: 0.9694, \n"
     ]
    },
    {
     "name": "stdout",
     "output_type": "stream",
     "text": [
      "epoch: 2, [batch: 263 / 2625], examples_per_second: 13884.3632, train_label_loss: 0.8852, \n"
     ]
    },
    {
     "name": "stdout",
     "output_type": "stream",
     "text": [
      "epoch: 2, [batch: 525 / 2625], examples_per_second: 14780.5527, train_label_loss: 0.9143, \n"
     ]
    },
    {
     "name": "stdout",
     "output_type": "stream",
     "text": [
      "epoch: 2, [batch: 788 / 2625], examples_per_second: 14214.5330, train_label_loss: 0.9746, \n"
     ]
    },
    {
     "name": "stdout",
     "output_type": "stream",
     "text": [
      "epoch: 2, [batch: 1050 / 2625], examples_per_second: 14196.7873, train_label_loss: 0.8046, \n"
     ]
    },
    {
     "name": "stdout",
     "output_type": "stream",
     "text": [
      "epoch: 2, [batch: 1313 / 2625], examples_per_second: 14116.8125, train_label_loss: 0.7679, \n"
     ]
    },
    {
     "name": "stdout",
     "output_type": "stream",
     "text": [
      "epoch: 2, [batch: 1575 / 2625], examples_per_second: 14094.3927, train_label_loss: 0.6918, \n"
     ]
    },
    {
     "name": "stdout",
     "output_type": "stream",
     "text": [
      "epoch: 2, [batch: 1837 / 2625], examples_per_second: 13975.3806, train_label_loss: 0.8465, \n"
     ]
    },
    {
     "name": "stdout",
     "output_type": "stream",
     "text": [
      "epoch: 2, [batch: 2100 / 2625], examples_per_second: 14164.4718, train_label_loss: 0.7096, \n"
     ]
    },
    {
     "name": "stdout",
     "output_type": "stream",
     "text": [
      "epoch: 2, [batch: 2362 / 2625], examples_per_second: 15444.1928, train_label_loss: 0.7326, \n"
     ]
    },
    {
     "name": "stdout",
     "output_type": "stream",
     "text": [
      "=============================================================\n",
      "epoch: 2, source_val_acc_label: 0.7223, source_val_label_loss: 0.7446, target_val_acc_label: 0.0682, target_val_label_loss: 10.5221, \n",
      "=============================================================\n"
     ]
    },
    {
     "name": "stdout",
     "output_type": "stream",
     "text": [
      "epoch: 3, [batch: 1 / 2625], examples_per_second: 33.7246, train_label_loss: 0.5467, \n"
     ]
    },
    {
     "name": "stdout",
     "output_type": "stream",
     "text": [
      "epoch: 3, [batch: 263 / 2625], examples_per_second: 12582.3578, train_label_loss: 0.6539, \n"
     ]
    },
    {
     "name": "stdout",
     "output_type": "stream",
     "text": [
      "epoch: 3, [batch: 525 / 2625], examples_per_second: 12433.5379, train_label_loss: 0.5377, \n"
     ]
    },
    {
     "name": "stdout",
     "output_type": "stream",
     "text": [
      "epoch: 3, [batch: 788 / 2625], examples_per_second: 12433.4823, train_label_loss: 0.4862, \n"
     ]
    },
    {
     "name": "stdout",
     "output_type": "stream",
     "text": [
      "epoch: 3, [batch: 1050 / 2625], examples_per_second: 12349.2943, train_label_loss: 0.5420, \n"
     ]
    },
    {
     "name": "stdout",
     "output_type": "stream",
     "text": [
      "epoch: 3, [batch: 1313 / 2625], examples_per_second: 12044.2403, train_label_loss: 0.4308, \n"
     ]
    },
    {
     "name": "stdout",
     "output_type": "stream",
     "text": [
      "epoch: 3, [batch: 1575 / 2625], examples_per_second: 12621.4897, train_label_loss: 0.3932, \n"
     ]
    },
    {
     "name": "stdout",
     "output_type": "stream",
     "text": [
      "epoch: 3, [batch: 1837 / 2625], examples_per_second: 11624.3567, train_label_loss: 0.5080, \n"
     ]
    },
    {
     "name": "stdout",
     "output_type": "stream",
     "text": [
      "epoch: 3, [batch: 2100 / 2625], examples_per_second: 12587.1693, train_label_loss: 0.5941, \n"
     ]
    },
    {
     "name": "stdout",
     "output_type": "stream",
     "text": [
      "epoch: 3, [batch: 2362 / 2625], examples_per_second: 12359.7495, train_label_loss: 0.5815, \n"
     ]
    },
    {
     "name": "stdout",
     "output_type": "stream",
     "text": [
      "=============================================================\n",
      "epoch: 3, source_val_acc_label: 0.7575, source_val_label_loss: 0.6079, target_val_acc_label: 0.0703, target_val_label_loss: 13.2955, \n",
      "=============================================================\n"
     ]
    },
    {
     "name": "stdout",
     "output_type": "stream",
     "text": [
      "epoch: 4, [batch: 1 / 2625], examples_per_second: 31.0141, train_label_loss: 0.4627, \n"
     ]
    },
    {
     "name": "stdout",
     "output_type": "stream",
     "text": [
      "epoch: 4, [batch: 263 / 2625], examples_per_second: 12769.4814, train_label_loss: 0.5016, \n"
     ]
    },
    {
     "name": "stdout",
     "output_type": "stream",
     "text": [
      "epoch: 4, [batch: 525 / 2625], examples_per_second: 12539.8370, train_label_loss: 0.5341, \n"
     ]
    },
    {
     "name": "stdout",
     "output_type": "stream",
     "text": [
      "epoch: 4, [batch: 788 / 2625], examples_per_second: 11914.2267, train_label_loss: 0.3492, \n"
     ]
    },
    {
     "name": "stdout",
     "output_type": "stream",
     "text": [
      "epoch: 4, [batch: 1050 / 2625], examples_per_second: 12532.4284, train_label_loss: 0.5069, \n"
     ]
    },
    {
     "name": "stdout",
     "output_type": "stream",
     "text": [
      "epoch: 4, [batch: 1313 / 2625], examples_per_second: 12361.1541, train_label_loss: 0.6992, \n"
     ]
    },
    {
     "name": "stdout",
     "output_type": "stream",
     "text": [
      "epoch: 4, [batch: 1575 / 2625], examples_per_second: 12457.7211, train_label_loss: 0.4571, \n"
     ]
    },
    {
     "name": "stdout",
     "output_type": "stream",
     "text": [
      "epoch: 4, [batch: 1837 / 2625], examples_per_second: 11079.7050, train_label_loss: 0.6740, \n"
     ]
    },
    {
     "name": "stdout",
     "output_type": "stream",
     "text": [
      "epoch: 4, [batch: 2100 / 2625], examples_per_second: 10728.4170, train_label_loss: 0.3537, \n"
     ]
    },
    {
     "name": "stdout",
     "output_type": "stream",
     "text": [
      "epoch: 4, [batch: 2362 / 2625], examples_per_second: 10693.0145, train_label_loss: 0.5639, \n"
     ]
    },
    {
     "name": "stdout",
     "output_type": "stream",
     "text": [
      "=============================================================\n",
      "epoch: 4, source_val_acc_label: 0.8340, source_val_label_loss: 0.4455, target_val_acc_label: 0.0670, target_val_label_loss: 14.6471, \n",
      "=============================================================\n"
     ]
    },
    {
     "name": "stdout",
     "output_type": "stream",
     "text": [
      "epoch: 5, [batch: 1 / 2625], examples_per_second: 25.3528, train_label_loss: 0.4566, \n"
     ]
    },
    {
     "name": "stdout",
     "output_type": "stream",
     "text": [
      "epoch: 5, [batch: 263 / 2625], examples_per_second: 10672.2620, train_label_loss: 0.4708, \n"
     ]
    },
    {
     "name": "stdout",
     "output_type": "stream",
     "text": [
      "epoch: 5, [batch: 525 / 2625], examples_per_second: 10607.9206, train_label_loss: 0.2642, \n"
     ]
    },
    {
     "name": "stdout",
     "output_type": "stream",
     "text": [
      "epoch: 5, [batch: 788 / 2625], examples_per_second: 10669.5397, train_label_loss: 0.4005, \n"
     ]
    },
    {
     "name": "stdout",
     "output_type": "stream",
     "text": [
      "epoch: 5, [batch: 1050 / 2625], examples_per_second: 10661.9463, train_label_loss: 0.3488, \n"
     ]
    },
    {
     "name": "stdout",
     "output_type": "stream",
     "text": [
      "epoch: 5, [batch: 1313 / 2625], examples_per_second: 10684.6086, train_label_loss: 0.4513, \n"
     ]
    },
    {
     "name": "stdout",
     "output_type": "stream",
     "text": [
      "epoch: 5, [batch: 1575 / 2625], examples_per_second: 11364.4689, train_label_loss: 0.3061, \n"
     ]
    },
    {
     "name": "stdout",
     "output_type": "stream",
     "text": [
      "epoch: 5, [batch: 1837 / 2625], examples_per_second: 11609.7625, train_label_loss: 0.4723, \n"
     ]
    },
    {
     "name": "stdout",
     "output_type": "stream",
     "text": [
      "epoch: 5, [batch: 2100 / 2625], examples_per_second: 11708.7212, train_label_loss: 0.3819, \n"
     ]
    },
    {
     "name": "stdout",
     "output_type": "stream",
     "text": [
      "epoch: 5, [batch: 2362 / 2625], examples_per_second: 11691.7196, train_label_loss: 0.4153, \n"
     ]
    },
    {
     "name": "stdout",
     "output_type": "stream",
     "text": [
      "=============================================================\n",
      "epoch: 5, source_val_acc_label: 0.8008, source_val_label_loss: 0.5211, target_val_acc_label: 0.0718, target_val_label_loss: 15.4484, \n",
      "=============================================================\n"
     ]
    },
    {
     "name": "stdout",
     "output_type": "stream",
     "text": [
      "Patience (3) exhausted\n"
     ]
    }
   ],
   "source": [
    "jig = Vanilla_Train_Eval_Test_Jig(\n",
    "    model=model,\n",
    "    path_to_best_model=p.BEST_MODEL_PATH,\n",
    "    device=p.device,\n",
    "    label_loss_object=torch.nn.NLLLoss(),\n",
    ")\n",
    "\n",
    "jig.train(\n",
    "    train_iterable=datasets.source.processed.train,\n",
    "    source_val_iterable=datasets.source.processed.val,\n",
    "    target_val_iterable=datasets.target.processed.val,\n",
    "    patience=p.patience,\n",
    "    num_epochs=p.n_epoch,\n",
    "    num_logs_per_epoch=p.NUM_LOGS_PER_EPOCH,\n",
    "    criteria_for_best=p.criteria_for_best\n",
    ")"
   ]
  },
  {
   "cell_type": "code",
   "execution_count": 14,
   "id": "4bc2ac17",
   "metadata": {
    "execution": {
     "iopub.execute_input": "2022-03-25T21:38:00.059181Z",
     "iopub.status.busy": "2022-03-25T21:38:00.058623Z",
     "iopub.status.idle": "2022-03-25T21:38:00.061439Z",
     "shell.execute_reply": "2022-03-25T21:38:00.060884Z"
    },
    "papermill": {
     "duration": 0.037451,
     "end_time": "2022-03-25T21:38:00.061543",
     "exception": false,
     "start_time": "2022-03-25T21:38:00.024092",
     "status": "completed"
    },
    "tags": []
   },
   "outputs": [],
   "source": [
    "total_experiment_time_secs = time.time() - start_time_secs"
   ]
  },
  {
   "cell_type": "code",
   "execution_count": 15,
   "id": "cae88f23",
   "metadata": {
    "execution": {
     "iopub.execute_input": "2022-03-25T21:38:00.137688Z",
     "iopub.status.busy": "2022-03-25T21:38:00.136705Z",
     "iopub.status.idle": "2022-03-25T21:38:54.782875Z",
     "shell.execute_reply": "2022-03-25T21:38:54.783570Z"
    },
    "papermill": {
     "duration": 54.688202,
     "end_time": "2022-03-25T21:38:54.783805",
     "exception": false,
     "start_time": "2022-03-25T21:38:00.095603",
     "status": "completed"
    },
    "tags": []
   },
   "outputs": [],
   "source": [
    "source_test_label_accuracy, source_test_label_loss = jig.test(datasets.source.processed.test)\n",
    "target_test_label_accuracy, target_test_label_loss = jig.test(datasets.target.processed.test)\n",
    "\n",
    "source_val_label_accuracy, source_val_label_loss = jig.test(datasets.source.processed.val)\n",
    "target_val_label_accuracy, target_val_label_loss = jig.test(datasets.target.processed.val)\n",
    "\n",
    "history = jig.get_history()\n",
    "\n",
    "total_epochs_trained = len(history[\"epoch_indices\"])\n",
    "\n",
    "val_dl = wrap_in_dataloader(p, Sequence_Aggregator((datasets.source.original.val, datasets.target.original.val)))\n",
    "\n",
    "confusion = confusion_by_domain_over_dataloader(model, p.device, val_dl, forward_uses_domain=False)\n",
    "per_domain_accuracy = per_domain_accuracy_from_confusion(confusion)\n",
    "\n",
    "# Add a key to per_domain_accuracy for if it was a source domain\n",
    "for domain, accuracy in per_domain_accuracy.items():\n",
    "    per_domain_accuracy[domain] = {\n",
    "        \"accuracy\": accuracy,\n",
    "        \"source?\": domain in p.domains_source\n",
    "    }\n",
    "\n",
    "# Do an independent accuracy assesment JUST TO BE SURE!\n",
    "# _source_test_label_accuracy = independent_accuracy_assesment(model, datasets.source.processed.test, p.device)\n",
    "# _target_test_label_accuracy = independent_accuracy_assesment(model, datasets.target.processed.test, p.device)\n",
    "# _source_val_label_accuracy = independent_accuracy_assesment(model, datasets.source.processed.val, p.device)\n",
    "# _target_val_label_accuracy = independent_accuracy_assesment(model, datasets.target.processed.val, p.device)\n",
    "\n",
    "# assert(_source_test_label_accuracy == source_test_label_accuracy)\n",
    "# assert(_target_test_label_accuracy == target_test_label_accuracy)\n",
    "# assert(_source_val_label_accuracy == source_val_label_accuracy)\n",
    "# assert(_target_val_label_accuracy == target_val_label_accuracy)\n",
    "\n",
    "###################################\n",
    "# Write out the results\n",
    "###################################\n",
    "\n",
    "experiment = {\n",
    "    \"experiment_name\": p.experiment_name,\n",
    "    \"parameters\": p,\n",
    "    \"results\": {\n",
    "        \"source_test_label_accuracy\": source_test_label_accuracy,\n",
    "        \"source_test_label_loss\": source_test_label_loss,\n",
    "        \"target_test_label_accuracy\": target_test_label_accuracy,\n",
    "        \"target_test_label_loss\": target_test_label_loss,\n",
    "        \"source_val_label_accuracy\": source_val_label_accuracy,\n",
    "        \"source_val_label_loss\": source_val_label_loss,\n",
    "        \"target_val_label_accuracy\": target_val_label_accuracy,\n",
    "        \"target_val_label_loss\": target_val_label_loss,\n",
    "        \"total_epochs_trained\": total_epochs_trained,\n",
    "        \"total_experiment_time_secs\": total_experiment_time_secs,\n",
    "        \"confusion\": confusion,\n",
    "        \"per_domain_accuracy\": per_domain_accuracy,\n",
    "    },\n",
    "    \"history\": history,\n",
    "    \"dataset_metrics\": get_dataset_metrics(datasets, \"cnn\"),\n",
    "}"
   ]
  },
  {
   "cell_type": "code",
   "execution_count": 16,
   "id": "74c318cf",
   "metadata": {
    "execution": {
     "iopub.execute_input": "2022-03-25T21:38:54.939950Z",
     "iopub.status.busy": "2022-03-25T21:38:54.869232Z",
     "iopub.status.idle": "2022-03-25T21:38:55.131385Z",
     "shell.execute_reply": "2022-03-25T21:38:55.132103Z"
    },
    "papermill": {
     "duration": 0.313228,
     "end_time": "2022-03-25T21:38:55.132312",
     "exception": false,
     "start_time": "2022-03-25T21:38:54.819084",
     "status": "completed"
    },
    "tags": []
   },
   "outputs": [
    {
     "data": {
      "text/plain": [
       "<AxesSubplot:title={'center':'Source Train Label Loss vs Source Val Label Loss'}, xlabel='Epoch'>"
      ]
     },
     "execution_count": 16,
     "metadata": {},
     "output_type": "execute_result"
    },
    {
     "data": {
      "image/png": "[encoded data removed]",
      "text/plain": [
       "<Figure size 1080x504 with 1 Axes>"
      ]
     },
     "metadata": {
      "needs_background": "light"
     },
     "output_type": "display_data"
    }
   ],
   "source": [
    "get_loss_curve(experiment)"
   ]
  },
  {
   "cell_type": "code",
   "execution_count": 17,
   "id": "59376601",
   "metadata": {
    "execution": {
     "iopub.execute_input": "2022-03-25T21:38:55.219750Z",
     "iopub.status.busy": "2022-03-25T21:38:55.218903Z",
     "iopub.status.idle": "2022-03-25T21:38:55.549108Z",
     "shell.execute_reply": "2022-03-25T21:38:55.549429Z"
    },
    "papermill": {
     "duration": 0.380905,
     "end_time": "2022-03-25T21:38:55.549549",
     "exception": false,
     "start_time": "2022-03-25T21:38:55.168644",
     "status": "completed"
    },
    "tags": []
   },
   "outputs": [
    {
     "data": {
      "text/plain": [
       "<AxesSubplot:title={'center':'Results'}>"
      ]
     },
     "execution_count": 17,
     "metadata": {},
     "output_type": "execute_result"
    },
    {
     "data": {
      "image/png": "[encoded data removed]",
      "text/plain": [
       "<Figure size 1080x504 with 1 Axes>"
      ]
     },
     "metadata": {
      "needs_background": "light"
     },
     "output_type": "display_data"
    }
   ],
   "source": [
    "get_results_table(experiment)"
   ]
  },
  {
   "cell_type": "code",
   "execution_count": 18,
   "id": "e80c5c98",
   "metadata": {
    "execution": {
     "iopub.execute_input": "2022-03-25T21:38:55.638781Z",
     "iopub.status.busy": "2022-03-25T21:38:55.631480Z",
     "iopub.status.idle": "2022-03-25T21:38:55.795588Z",
     "shell.execute_reply": "2022-03-25T21:38:55.796309Z"
    },
    "papermill": {
     "duration": 0.212653,
     "end_time": "2022-03-25T21:38:55.796522",
     "exception": false,
     "start_time": "2022-03-25T21:38:55.583869",
     "status": "completed"
    },
    "tags": []
   },
   "outputs": [
    {
     "data": {
      "text/plain": [
       "<AxesSubplot:title={'center':'Per Domain Accuracy'}, xlabel='domain'>"
      ]
     },
     "execution_count": 18,
     "metadata": {},
     "output_type": "execute_result"
    },
    {
     "data": {
      "image/png": "[encoded data removed]",
      "text/plain": [
       "<Figure size 1080x504 with 1 Axes>"
      ]
     },
     "metadata": {
      "needs_background": "light"
     },
     "output_type": "display_data"
    }
   ],
   "source": [
    "get_domain_accuracies(experiment)"
   ]
  },
  {
   "cell_type": "code",
   "execution_count": 19,
   "id": "086fdd10",
   "metadata": {
    "execution": {
     "iopub.execute_input": "2022-03-25T21:38:55.879977Z",
     "iopub.status.busy": "2022-03-25T21:38:55.879580Z",
     "iopub.status.idle": "2022-03-25T21:38:55.882446Z",
     "shell.execute_reply": "2022-03-25T21:38:55.882921Z"
    },
    "papermill": {
     "duration": 0.044418,
     "end_time": "2022-03-25T21:38:55.883056",
     "exception": false,
     "start_time": "2022-03-25T21:38:55.838638",
     "status": "completed"
    },
    "tags": []
   },
   "outputs": [
    {
     "name": "stdout",
     "output_type": "stream",
     "text": [
      "Source Test Label Accuracy: 0.4826388888888889 Target Test Label Accuracy: 0.07821666666666667\n",
      "Source Val Label Accuracy: 0.4817638888888889 Target Val Label Accuracy: 0.079025\n"
     ]
    }
   ],
   "source": [
    "print(\"Source Test Label Accuracy:\", experiment[\"results\"][\"source_test_label_accuracy\"], \"Target Test Label Accuracy:\", experiment[\"results\"][\"target_test_label_accuracy\"])\n",
    "print(\"Source Val Label Accuracy:\", experiment[\"results\"][\"source_val_label_accuracy\"], \"Target Val Label Accuracy:\", experiment[\"results\"][\"target_val_label_accuracy\"])"
   ]
  },
  {
   "cell_type": "code",
   "execution_count": 20,
   "id": "9f450536",
   "metadata": {
    "execution": {
     "iopub.execute_input": "2022-03-25T21:38:55.961560Z",
     "iopub.status.busy": "2022-03-25T21:38:55.961183Z",
     "iopub.status.idle": "2022-03-25T21:38:55.963797Z",
     "shell.execute_reply": "2022-03-25T21:38:55.964111Z"
    },
    "papermill": {
     "duration": 0.042334,
     "end_time": "2022-03-25T21:38:55.964200",
     "exception": false,
     "start_time": "2022-03-25T21:38:55.921866",
     "status": "completed"
    },
    "tags": [
     "experiment_json"
    ]
   },
   "outputs": [
    {
     "data": {
      "text/plain": [
       "'{\"experiment_name\": \"cnn_1:oracle.run1\", \"parameters\": {\"experiment_name\": \"cnn_1:oracle.run1\", \"domains_source\": [8, 32, 50], \"domains_target\": [14, 20, 26, 38, 44], \"labels\": [\"3123D52\", \"3123D65\", \"3123D79\", \"3123D80\", \"3123D54\", \"3123D70\", \"3123D7B\", \"3123D89\", \"3123D58\", \"3123D76\", \"3123D7D\", \"3123EFE\", \"3123D64\", \"3123D78\", \"3123D7E\", \"3124E4A\"], \"pickle_name_source\": \"oracle.Run1_10kExamples_stratified_ds.2022A.pkl\", \"pickle_name_target\": \"oracle.Run1_10kExamples_stratified_ds.2022A.pkl\", \"device\": \"cuda\", \"lr\": 0.0001, \"batch_size\": 128, \"normalize_source\": false, \"normalize_target\": false, \"num_examples_per_domain_per_label_source\": -1, \"num_examples_per_domain_per_label_target\": -1, \"torch_default_dtype\": \"torch.float32\", \"n_epoch\": 50, \"patience\": 3, \"criteria_for_best\": \"target_accuracy\", \"x_net\": [{\"class\": \"nnReshape\", \"kargs\": {\"shape\": [-1, 1, 2, 256]}}, {\"class\": \"Conv2d\", \"kargs\": {\"in_channels\": 1, \"out_channels\": 256, \"kernel_size\": [1, 7], \"bias\": false, \"padding\": [0, 3]}}, {\"class\": \"ReLU\", \"kargs\": {\"inplace\": true}}, {\"class\": \"BatchNorm2d\", \"kargs\": {\"num_features\": 256}}, {\"class\": \"Conv2d\", \"kargs\": {\"in_channels\": 256, \"out_channels\": 80, \"kernel_size\": [2, 7], \"bias\": true, \"padding\": [0, 3]}}, {\"class\": \"ReLU\", \"kargs\": {\"inplace\": true}}, {\"class\": \"BatchNorm2d\", \"kargs\": {\"num_features\": 80}}, {\"class\": \"Flatten\", \"kargs\": {}}, {\"class\": \"Linear\", \"kargs\": {\"in_features\": 20480, \"out_features\": 256}}, {\"class\": \"ReLU\", \"kargs\": {\"inplace\": true}}, {\"class\": \"BatchNorm1d\", \"kargs\": {\"num_features\": 256}}, {\"class\": \"Linear\", \"kargs\": {\"in_features\": 256, \"out_features\": 16}}], \"NUM_LOGS_PER_EPOCH\": 10, \"BEST_MODEL_PATH\": \"./best_model.pth\", \"dataset_seed\": 154325, \"seed\": 154325}, \"results\": {\"source_test_label_accuracy\": 0.4826388888888889, \"source_test_label_loss\": 1.3988704302382935, \"target_test_label_accuracy\": 0.07821666666666667, \"target_test_label_loss\": 7.663916845057311, \"source_val_label_accuracy\": 0.4817638888888889, \"source_val_label_loss\": 1.4036847414385998, \"target_val_label_accuracy\": 0.079025, \"target_val_label_loss\": 7.662622832540256, \"total_epochs_trained\": 5, \"total_experiment_time_secs\": 195.161235332489, \"confusion\": {\"38\": {\"4\": {\"4\": 1425, \"7\": 72, \"15\": 3}, \"12\": {\"15\": 1334, \"13\": 165, \"3\": 1}, \"15\": {\"1\": 428, \"13\": 1012, \"8\": 32, \"6\": 10, \"3\": 7, \"15\": 4, \"5\": 2, \"10\": 5}, \"11\": {\"7\": 1412, \"4\": 88}, \"14\": {\"5\": 28, \"7\": 1153, \"3\": 319}, \"1\": {\"0\": 1090, \"10\": 286, \"8\": 33, \"1\": 90, \"2\": 1}, \"8\": {\"7\": 173, \"5\": 254, \"15\": 735, \"13\": 288, \"4\": 34, \"6\": 13, \"3\": 3}, \"6\": {\"0\": 988, \"1\": 180, \"13\": 161, \"14\": 51, \"2\": 100, \"10\": 13, \"8\": 3, \"12\": 4}, \"5\": {\"4\": 32, \"3\": 11, \"13\": 284, \"15\": 785, \"5\": 234, \"6\": 76, \"7\": 53, \"11\": 20, \"1\": 4, \"12\": 1}, \"7\": {\"15\": 696, \"7\": 147, \"4\": 640, \"5\": 17}, \"2\": {\"7\": 1027, \"3\": 452, \"5\": 21}, \"13\": {\"7\": 1495, \"4\": 5}, \"3\": {\"4\": 1500}, \"0\": {\"4\": 1184, \"7\": 310, \"15\": 6}, \"9\": {\"15\": 275, \"9\": 679, \"5\": 296, \"6\": 41, \"4\": 66, \"11\": 16, \"7\": 110, \"12\": 17}, \"10\": {\"7\": 1344, \"4\": 156}}, \"32\": {\"7\": {\"5\": 992, \"7\": 111, \"8\": 245, \"15\": 40, \"0\": 83, \"14\": 25, \"12\": 4}, \"15\": {\"15\": 1500}, \"8\": {\"8\": 961, \"15\": 403, \"13\": 97, \"1\": 9, \"3\": 18, \"0\": 6, \"5\": 6}, \"9\": {\"9\": 217, \"14\": 207, \"12\": 567, \"0\": 418, \"2\": 37, \"10\": 41, \"1\": 5, \"13\": 8}, \"0\": {\"8\": 959, \"0\": 114, \"1\": 56, \"5\": 215, \"15\": 145, \"11\": 2, \"13\": 7, \"7\": 1, \"14\": 1}, \"4\": {\"13\": 1261, \"14\": 113, \"2\": 92, \"3\": 24, \"4\": 8, \"8\": 2}, \"13\": {\"3\": 636, \"13\": 812, \"11\": 28, \"14\": 19, \"2\": 3, \"4\": 2}, \"3\": {\"3\": 1413, \"13\": 85, \"4\": 2}, \"12\": {\"12\": 1467, \"10\": 29, \"9\": 2, \"0\": 1, \"6\": 1}, \"2\": {\"13\": 667, \"2\": 548, \"14\": 219, \"8\": 49, \"0\": 13, \"4\": 2, \"1\": 2}, \"11\": {\"11\": 1287, \"3\": 125, \"13\": 85, \"14\": 3}, \"14\": {\"5\": 362, \"14\": 386, \"7\": 77, \"8\": 454, \"0\": 142, \"4\": 10, \"13\": 25, \"2\": 33, \"15\": 10, \"3\": 1}, \"6\": {\"6\": 1494, \"9\": 2, \"12\": 2, \"10\": 2}, \"1\": {\"1\": 1500}, \"5\": {\"15\": 468, \"5\": 665, \"9\": 8, \"8\": 334, \"7\": 5, \"0\": 9, \"12\": 3, \"14\": 5, \"11\": 3}, \"10\": {\"10\": 1498, \"12\": 2}}, \"50\": {\"13\": {\"13\": 1465, \"1\": 34, \"8\": 1}, \"6\": {\"5\": 500, \"15\": 689, \"3\": 181, \"6\": 99, \"13\": 28, \"7\": 3}, \"8\": {\"1\": 1288, \"8\": 211, \"10\": 1}, \"15\": {\"15\": 1366, \"6\": 31, \"5\": 98, \"7\": 3, \"13\": 1, \"3\": 1}, \"5\": {\"3\": 386, \"13\": 189, \"7\": 532, \"5\": 306, \"15\": 80, \"6\": 5, \"1\": 1, \"4\": 1}, \"12\": {\"9\": 647, \"12\": 509, \"11\": 254, \"5\": 37, \"15\": 53}, \"3\": {\"3\": 1500}, \"1\": {\"13\": 815, \"1\": 649, \"0\": 2, \"15\": 1, \"10\": 24, \"8\": 9}, \"4\": {\"7\": 1231, \"5\": 62, \"4\": 176, \"15\": 29, \"6\": 1, \"3\": 1}, \"11\": {\"15\": 1324, \"11\": 138, \"5\": 16, \"12\": 2, \"6\": 6, \"13\": 12, \"9\": 2}, \"9\": {\"15\": 976, \"9\": 382, \"5\": 46, \"11\": 76, \"6\": 12, \"7\": 1, \"12\": 6, \"4\": 1}, \"7\": {\"7\": 1489, \"3\": 6, \"5\": 5}, \"14\": {\"0\": 75, \"14\": 904, \"2\": 17, \"12\": 273, \"9\": 219, \"13\": 12}, \"0\": {\"10\": 755, \"0\": 744, \"12\": 1}, \"2\": {\"0\": 1282, \"2\": 65, \"10\": 58, \"12\": 68, \"14\": 19, \"9\": 8}, \"10\": {\"10\": 1217, \"1\": 239, \"8\": 40, \"0\": 4}}, \"44\": {\"8\": {\"6\": 501, \"3\": 375, \"8\": 243, \"12\": 233, \"7\": 20, \"13\": 71, \"5\": 42, \"1\": 12, \"11\": 3}, \"3\": {\"8\": 464, \"13\": 740, \"4\": 20, \"3\": 146, \"2\": 43, \"14\": 77, \"0\": 7, \"15\": 3}, \"14\": {\"5\": 649, \"6\": 191, \"15\": 582, \"4\": 15, \"7\": 62, \"3\": 1}, \"4\": {\"15\": 566, \"7\": 281, \"5\": 77, \"4\": 538, \"6\": 31, \"11\": 5, \"12\": 1, \"9\": 1}, \"12\": {\"8\": 220, \"3\": 1130, \"13\": 116, \"4\": 30, \"14\": 3, \"15\": 1}, \"1\": {\"15\": 1140, \"5\": 355, \"9\": 3, \"8\": 2}, \"10\": {\"15\": 1452, \"9\": 33, \"5\": 4, \"4\": 11}, \"7\": {\"15\": 1452, \"4\": 46, \"9\": 2}, \"11\": {\"4\": 1500}, \"13\": {\"4\": 1498, \"15\": 2}, \"6\": {\"4\": 1206, \"15\": 294}, \"5\": {\"5\": 826, \"7\": 308, \"6\": 153, \"3\": 146, \"15\": 51, \"13\": 14, \"11\": 1, \"4\": 1}, \"15\": {\"5\": 440, \"6\": 692, \"11\": 86, \"12\": 121, \"7\": 52, \"9\": 21, \"13\": 36, \"15\": 42, \"3\": 10}, \"2\": {\"15\": 1500}, \"9\": {\"15\": 915, \"4\": 584, \"9\": 1}, \"0\": {\"8\": 716, \"13\": 561, \"12\": 34, \"5\": 10, \"1\": 69, \"3\": 14, \"6\": 83, \"11\": 13}}, \"8\": {\"1\": {\"6\": 556, \"13\": 131, \"4\": 204, \"7\": 460, \"10\": 132, \"5\": 12, \"14\": 1, \"1\": 4}, \"10\": {\"13\": 681, \"6\": 215, \"7\": 490, \"4\": 54, \"10\": 59, \"5\": 1}, \"14\": {\"4\": 1340, \"0\": 61, \"14\": 56, \"6\": 21, \"7\": 21, \"8\": 1}, \"0\": {\"0\": 1500}, \"12\": {\"2\": 1012, \"12\": 388, \"15\": 98, \"7\": 2}, \"5\": {\"10\": 331, \"13\": 780, \"5\": 209, \"4\": 104, \"7\": 45, \"6\": 31}, \"8\": {\"4\": 219, \"7\": 744, \"6\": 410, \"14\": 5, \"8\": 122}, \"7\": {\"7\": 1401, \"6\": 89, \"13\": 10}, \"11\": {\"6\": 587, \"4\": 474, \"10\": 23, \"7\": 327, \"8\": 31, \"13\": 19, \"14\": 26, \"11\": 11, \"1\": 2}, \"4\": {\"4\": 1020, \"7\": 362, \"6\": 117, \"14\": 1}, \"9\": {\"9\": 1500}, \"2\": {\"2\": 1458, \"3\": 33, \"12\": 1, \"15\": 3, \"7\": 5}, \"3\": {\"2\": 665, \"3\": 835}, \"6\": {\"7\": 1252, \"4\": 33, \"6\": 211, \"13\": 3, \"10\": 1}, \"13\": {\"13\": 578, \"7\": 743, \"6\": 173, \"10\": 6}, \"15\": {\"2\": 1243, \"15\": 134, \"12\": 123}}, \"20\": {\"12\": {\"2\": 1467, \"7\": 29, \"12\": 2, \"6\": 2}, \"13\": {\"2\": 1204, \"7\": 289, \"6\": 7}, \"9\": {\"2\": 1499, \"12\": 1}, \"14\": {\"12\": 342, \"2\": 1022, \"3\": 133, \"15\": 2, \"7\": 1}, \"5\": {\"2\": 1499, \"12\": 1}, \"6\": {\"2\": 1117, \"12\": 94, \"7\": 287, \"3\": 2}, \"4\": {\"2\": 967, \"12\": 191, \"7\": 338, \"15\": 3, \"6\": 1}, \"3\": {\"2\": 1495, \"15\": 1, \"12\": 4}, \"2\": {\"2\": 1470, \"7\": 28, \"12\": 2}, \"7\": {\"2\": 1482, \"12\": 4, \"7\": 14}, \"11\": {\"2\": 1363, \"3\": 137}, \"15\": {\"2\": 1494, \"7\": 2, \"12\": 1, \"13\": 3}, \"8\": {\"2\": 1409, \"12\": 67, \"3\": 20, \"15\": 4}, \"10\": {\"7\": 1243, \"12\": 222, \"2\": 33, \"6\": 2}, \"0\": {\"2\": 1480, \"3\": 20}, \"1\": {\"2\": 1500}}, \"26\": {\"15\": {\"11\": 203, \"12\": 748, \"3\": 177, \"9\": 372}, \"6\": {\"12\": 1349, \"9\": 112, \"3\": 33, \"11\": 6}, \"7\": {\"3\": 1481, \"11\": 16, \"9\": 3}, \"2\": {\"3\": 1190, \"11\": 214, \"9\": 89, \"12\": 7}, \"14\": {\"12\": 670, \"3\": 830}, \"1\": {\"12\": 1091, \"3\": 409}, \"8\": {\"3\": 1435, \"12\": 14, \"9\": 39, \"11\": 12}, \"4\": {\"3\": 1500}, \"5\": {\"12\": 648, \"9\": 653, \"11\": 167, \"3\": 31, \"6\": 1}, \"11\": {\"12\": 424, \"6\": 1029, \"9\": 35, \"10\": 9, \"0\": 2, \"2\": 1}, \"0\": {\"3\": 1096, \"12\": 394, \"9\": 4, \"11\": 6}, \"10\": {\"12\": 1007, \"3\": 470, \"9\": 22, \"11\": 1}, \"9\": {\"3\": 1204, \"11\": 61, \"9\": 223, \"12\": 12}, \"12\": {\"9\": 748, \"3\": 221, \"12\": 511, \"6\": 20}, \"13\": {\"9\": 915, \"3\": 411, \"11\": 122, \"2\": 51, \"6\": 1}, \"3\": {\"3\": 1474, \"11\": 25, \"9\": 1}}, \"14\": {\"5\": {\"3\": 1407, \"11\": 76, \"2\": 17}, \"12\": {\"2\": 1000, \"9\": 500}, \"15\": {\"11\": 1380, \"3\": 120}, \"1\": {\"2\": 1432, \"3\": 64, \"7\": 4}, \"11\": {\"7\": 1496, \"4\": 2, \"6\": 1, \"12\": 1}, \"0\": {\"3\": 1320, \"2\": 168, \"11\": 3, \"9\": 9}, \"7\": {\"11\": 1106, \"3\": 394}, \"8\": {\"2\": 1332, \"11\": 114, \"3\": 52, \"9\": 1, \"6\": 1}, \"4\": {\"2\": 432, \"3\": 1067, \"11\": 1}, \"3\": {\"3\": 1411, \"11\": 87, \"2\": 2}, \"10\": {\"2\": 1273, \"3\": 227}, \"14\": {\"3\": 1500}, \"2\": {\"3\": 1476, \"2\": 3, \"11\": 21}, \"13\": {\"3\": 1452, \"11\": 48}, \"9\": {\"2\": 1500}, \"6\": {\"3\": 1495, \"11\": 5}}}, \"per_domain_accuracy\": {\"38\": {\"accuracy\": 0.10745833333333334, \"source?\": false}, \"32\": {\"accuracy\": 0.5825416666666666, \"source?\": true}, \"50\": {\"accuracy\": 0.4675, \"source?\": true}, \"44\": {\"accuracy\": 0.07483333333333334, \"source?\": false}, \"8\": {\"accuracy\": 0.39525, \"source?\": true}, \"20\": {\"accuracy\": 0.06191666666666667, \"source?\": false}, \"26\": {\"accuracy\": 0.092, \"source?\": false}, \"14\": {\"accuracy\": 0.058916666666666666, \"source?\": false}}}, \"history\": {\"epoch_indices\": [1, 2, 3, 4, 5], \"train_label_loss\": [1.6625741264933631, 0.8224803460666111, 0.5659350568226406, 0.44960068433625355, 0.3828720542362758], \"source_val_label_loss\": [1.403612004503687, 0.7446170515954812, 0.6079131335708219, 0.44548922777175903, 0.5210619225277571], \"target_val_label_loss\": [7.662866919279607, 10.52207904888877, 13.295481236504594, 14.647095367090026, 15.448446161965572], \"source_val_acc_label\": [0.4817638888888889, 0.7222638888888889, 0.7574722222222222, 0.834, 0.8008333333333333], \"target_val_acc_label\": [0.079025, 0.06819166666666666, 0.07029166666666667, 0.06699166666666667, 0.07181666666666667]}, \"dataset_metrics\": {\"source\": {\"train\": {\"n_unique_x\": 336000, \"n_unique_y\": 16, \"n_batch/episode\": 2625}, \"val\": {\"n_unique_x\": 72000, \"n_unique_y\": 16, \"n_batch/episode\": 563}, \"test\": {\"n_unique_x\": 72000, \"n_unique_y\": 16, \"n_batch/episode\": 563}}, \"target\": {\"train\": {\"n_unique_x\": 560000, \"n_unique_y\": 16, \"n_batch/episode\": 4375}, \"val\": {\"n_unique_x\": 120000, \"n_unique_y\": 16, \"n_batch/episode\": 938}, \"test\": {\"n_unique_x\": 120000, \"n_unique_y\": 16, \"n_batch/episode\": 938}}}}'"
      ]
     },
     "execution_count": 20,
     "metadata": {},
     "output_type": "execute_result"
    }
   ],
   "source": [
    "json.dumps(experiment)"
   ]
  }
 ],
 "metadata": {
  "celltoolbar": "Tags",
  "kernelspec": {
   "display_name": "Python 3 (ipykernel)",
   "language": "python",
   "name": "python3"
  },
  "language_info": {
   "codemirror_mode": {
    "name": "ipython",
    "version": 3
   },
   "file_extension": ".py",
   "mimetype": "text/x-python",
   "name": "python",
   "nbconvert_exporter": "python",
   "pygments_lexer": "ipython3",
   "version": "3.8.12"
  },
  "papermill": {
   "default_parameters": {},
   "duration": 257.388115,
   "end_time": "2022-03-25T21:38:59.316407",
   "environment_variables": {},
   "exception": null,
   "input_path": "/root/csc500-main/csc500-notebooks/templates/cnn_template.ipynb",
   "output_path": "trial.ipynb",
   "parameters": {
    "parameters": {
     "BEST_MODEL_PATH": "./best_model.pth",
     "NUM_LOGS_PER_EPOCH": 10,
     "batch_size": 128,
     "criteria_for_best": "target_accuracy",
     "dataset_seed": 154325,
     "device": "cuda",
     "domains_source": [
      8,
      32,
      50
     ],
     "domains_target": [
      14,
      20,
      26,
      38,
      44
     ],
     "experiment_name": "cnn_1:oracle.run1",
     "labels": [
      "3123D52",
      "3123D65",
      "3123D79",
      "3123D80",
      "3123D54",
      "3123D70",
      "3123D7B",
      "3123D89",
      "3123D58",
      "3123D76",
      "3123D7D",
      "3123EFE",
      "3123D64",
      "3123D78",
      "3123D7E",
      "3124E4A"
     ],
     "lr": 0.0001,
     "n_epoch": 50,
     "normalize_source": false,
     "normalize_target": false,
     "num_examples_per_domain_per_label_source": -1,
     "num_examples_per_domain_per_label_target": -1,
     "patience": 3,
     "pickle_name_source": "oracle.Run1_10kExamples_stratified_ds.2022A.pkl",
     "pickle_name_target": "oracle.Run1_10kExamples_stratified_ds.2022A.pkl",
     "seed": 154325,
     "torch_default_dtype": "torch.float32",
     "x_net": [
      {
       "class": "nnReshape",
       "kargs": {
        "shape": [
         -1,
         1,
         2,
         256
        ]
       }
      },
      {
       "class": "Conv2d",
       "kargs": {
        "bias": false,
        "in_channels": 1,
        "kernel_size": [
         1,
         7
        ],
        "out_channels": 256,
        "padding": [
         0,
         3
        ]
       }
      },
      {
       "class": "ReLU",
       "kargs": {
        "inplace": true
       }
      },
      {
       "class": "BatchNorm2d",
       "kargs": {
        "num_features": 256
       }
      },
      {
       "class": "Conv2d",
       "kargs": {
        "bias": true,
        "in_channels": 256,
        "kernel_size": [
         2,
         7
        ],
        "out_channels": 80,
        "padding": [
         0,
         3
        ]
       }
      },
      {
       "class": "ReLU",
       "kargs": {
        "inplace": true
       }
      },
      {
       "class": "BatchNorm2d",
       "kargs": {
        "num_features": 80
       }
      },
      {
       "class": "Flatten",
       "kargs": {}
      },
      {
       "class": "Linear",
       "kargs": {
        "in_features": 20480,
        "out_features": 256
       }
      },
      {
       "class": "ReLU",
       "kargs": {
        "inplace": true
       }
      },
      {
       "class": "BatchNorm1d",
       "kargs": {
        "num_features": 256
       }
      },
      {
       "class": "Linear",
       "kargs": {
        "in_features": 256,
        "out_features": 16
       }
      }
     ]
    }
   },
   "start_time": "2022-03-25T21:34:41.928292",
   "version": "2.3.4"
  }
 },
 "nbformat": 4,
 "nbformat_minor": 5
}