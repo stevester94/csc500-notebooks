{
 "cells": [
  {
   "cell_type": "code",
   "execution_count": 1,
   "id": "2324682e",
   "metadata": {
    "execution": {
     "iopub.execute_input": "2022-03-25T21:50:24.967502Z",
     "iopub.status.busy": "2022-03-25T21:50:24.966649Z",
     "iopub.status.idle": "2022-03-25T21:50:26.284400Z",
     "shell.execute_reply": "2022-03-25T21:50:26.283358Z"
    },
    "papermill": {
     "duration": 1.355699,
     "end_time": "2022-03-25T21:50:26.284602",
     "exception": false,
     "start_time": "2022-03-25T21:50:24.928903",
     "status": "completed"
    },
    "tags": []
   },
   "outputs": [],
   "source": [
    "import os, json, sys, time, random\n",
    "import numpy as np\n",
    "import torch\n",
    "from  easydict import EasyDict\n",
    "from math import floor\n",
    "from easydict import EasyDict\n",
    "\n",
    "from steves_utils.vanilla_train_eval_test_jig import  Vanilla_Train_Eval_Test_Jig\n",
    "\n",
    "from steves_utils.torch_utils import get_dataset_metrics, independent_accuracy_assesment\n",
    "from steves_models.configurable_vanilla import Configurable_Vanilla\n",
    "from steves_utils.torch_sequential_builder import build_sequential\n",
    "from steves_utils.lazy_map import Lazy_Map\n",
    "from steves_utils.sequence_aggregator import Sequence_Aggregator\n",
    "\n",
    "from steves_utils.stratified_dataset.traditional_accessor import Traditional_Accessor_Factory\n",
    "\n",
    "from steves_utils.cnn_do_report import (\n",
    "    get_loss_curve,\n",
    "    get_results_table,\n",
    "    get_parameters_table,\n",
    "    get_domain_accuracies,\n",
    ")\n",
    "\n",
    "from steves_utils.torch_utils import (\n",
    "    confusion_by_domain_over_dataloader,\n",
    "    independent_accuracy_assesment\n",
    ")\n",
    "\n",
    "from steves_utils.utils_v2 import (\n",
    "    per_domain_accuracy_from_confusion,\n",
    "    get_datasets_base_path\n",
    ")\n",
    "\n",
    "# from steves_utils.ptn_do_report import TBD"
   ]
  },
  {
   "cell_type": "code",
   "execution_count": 2,
   "id": "1b29e3fe",
   "metadata": {
    "execution": {
     "iopub.execute_input": "2022-03-25T21:50:26.322366Z",
     "iopub.status.busy": "2022-03-25T21:50:26.321792Z",
     "iopub.status.idle": "2022-03-25T21:50:26.324158Z",
     "shell.execute_reply": "2022-03-25T21:50:26.324611Z"
    },
    "papermill": {
     "duration": 0.022383,
     "end_time": "2022-03-25T21:50:26.324734",
     "exception": false,
     "start_time": "2022-03-25T21:50:26.302351",
     "status": "completed"
    },
    "tags": []
   },
   "outputs": [],
   "source": [
    "required_parameters = {\n",
    "    \"experiment_name\",\n",
    "    \"lr\",\n",
    "    \"device\",\n",
    "    \"dataset_seed\",\n",
    "    \"seed\",\n",
    "    \"labels\",\n",
    "    \"domains_target\",\n",
    "    \"domains_source\",\n",
    "    \"num_examples_per_domain_per_label_source\",\n",
    "    \"num_examples_per_domain_per_label_target\",\n",
    "    \"batch_size\",\n",
    "    \"n_epoch\",\n",
    "    \"patience\",\n",
    "    \"criteria_for_best\",\n",
    "    \"normalize_source\",\n",
    "    \"normalize_target\",\n",
    "    \"x_net\",\n",
    "    \"NUM_LOGS_PER_EPOCH\",\n",
    "    \"BEST_MODEL_PATH\",\n",
    "    \"pickle_name_source\",\n",
    "    \"pickle_name_target\",\n",
    "    \"torch_default_dtype\",\n",
    "}"
   ]
  },
  {
   "cell_type": "code",
   "execution_count": 3,
   "id": "670b5fb8",
   "metadata": {
    "execution": {
     "iopub.execute_input": "2022-03-25T21:50:26.372280Z",
     "iopub.status.busy": "2022-03-25T21:50:26.369791Z",
     "iopub.status.idle": "2022-03-25T21:50:26.380294Z",
     "shell.execute_reply": "2022-03-25T21:50:26.379595Z"
    },
    "papermill": {
     "duration": 0.037564,
     "end_time": "2022-03-25T21:50:26.380446",
     "exception": false,
     "start_time": "2022-03-25T21:50:26.342882",
     "status": "completed"
    },
    "tags": [
     "parameters"
    ]
   },
   "outputs": [],
   "source": [
    "from steves_utils.ORACLE.utils_v2 import (\n",
    "    ALL_SERIAL_NUMBERS,\n",
    "    ALL_DISTANCES_FEET_NARROWED,\n",
    ")\n",
    "\n",
    "standalone_parameters = {}\n",
    "standalone_parameters[\"experiment_name\"] = \"MANUAL CORES CNN\"\n",
    "standalone_parameters[\"lr\"] = 0.0001\n",
    "standalone_parameters[\"device\"] = \"cuda\"\n",
    "\n",
    "standalone_parameters[\"dataset_seed\"] = 1337\n",
    "standalone_parameters[\"seed\"] = 1337\n",
    "standalone_parameters[\"labels\"] = ALL_SERIAL_NUMBERS\n",
    "\n",
    "standalone_parameters[\"domains_source\"] = [8,32,50]\n",
    "standalone_parameters[\"domains_target\"] = [14,20,26,38,44,]\n",
    "\n",
    "standalone_parameters[\"num_examples_per_domain_per_label_source\"]=-1\n",
    "standalone_parameters[\"num_examples_per_domain_per_label_target\"]=-1\n",
    "\n",
    "standalone_parameters[\"pickle_name_source\"] = \"oracle.Run1_framed_2000Examples_stratified_ds.2022A.pkl\"\n",
    "standalone_parameters[\"pickle_name_target\"] = \"oracle.Run2_framed_2000Examples_stratified_ds.2022A.pkl\"\n",
    "\n",
    "standalone_parameters[\"torch_default_dtype\"] = \"torch.float32\" \n",
    "\n",
    "standalone_parameters[\"batch_size\"]=128\n",
    "\n",
    "standalone_parameters[\"n_epoch\"] = 3\n",
    "\n",
    "standalone_parameters[\"patience\"] = 10\n",
    "\n",
    "standalone_parameters[\"criteria_for_best\"] = \"target_accuracy\"\n",
    "standalone_parameters[\"normalize_source\"] = False\n",
    "standalone_parameters[\"normalize_target\"] = False\n",
    "\n",
    "standalone_parameters[\"x_net\"] =     [\n",
    "    {\"class\": \"nnReshape\", \"kargs\": {\"shape\":[-1, 1, 2, 256]}},\n",
    "    {\"class\": \"Conv2d\", \"kargs\": { \"in_channels\":1, \"out_channels\":256, \"kernel_size\":(1,7), \"bias\":False, \"padding\":(0,3), },},\n",
    "    {\"class\": \"ReLU\", \"kargs\": {\"inplace\": True}},\n",
    "    {\"class\": \"BatchNorm2d\", \"kargs\": {\"num_features\":256}},\n",
    "\n",
    "    {\"class\": \"Conv2d\", \"kargs\": { \"in_channels\":256, \"out_channels\":80, \"kernel_size\":(2,7), \"bias\":True, \"padding\":(0,3), },},\n",
    "    {\"class\": \"ReLU\", \"kargs\": {\"inplace\": True}},\n",
    "    {\"class\": \"BatchNorm2d\", \"kargs\": {\"num_features\":80}},\n",
    "    {\"class\": \"Flatten\", \"kargs\": {}},\n",
    "\n",
    "    {\"class\": \"Linear\", \"kargs\": {\"in_features\": 80*256, \"out_features\": 256}}, # 80 units per IQ pair\n",
    "    {\"class\": \"ReLU\", \"kargs\": {\"inplace\": True}},\n",
    "    {\"class\": \"BatchNorm1d\", \"kargs\": {\"num_features\":256}},\n",
    "\n",
    "    {\"class\": \"Linear\", \"kargs\": {\"in_features\": 256, \"out_features\": len(standalone_parameters[\"labels\"])}},\n",
    "]\n",
    "\n",
    "standalone_parameters[\"NUM_LOGS_PER_EPOCH\"] = 10\n",
    "standalone_parameters[\"BEST_MODEL_PATH\"] = \"./best_model.pth\""
   ]
  },
  {
   "cell_type": "code",
   "execution_count": 4,
   "id": "49351fb1",
   "metadata": {
    "execution": {
     "iopub.execute_input": "2022-03-25T21:50:26.428472Z",
     "iopub.status.busy": "2022-03-25T21:50:26.427578Z",
     "iopub.status.idle": "2022-03-25T21:50:26.430406Z",
     "shell.execute_reply": "2022-03-25T21:50:26.429611Z"
    },
    "papermill": {
     "duration": 0.030115,
     "end_time": "2022-03-25T21:50:26.430558",
     "exception": false,
     "start_time": "2022-03-25T21:50:26.400443",
     "status": "completed"
    },
    "tags": [
     "injected-parameters"
    ]
   },
   "outputs": [],
   "source": [
    "# Parameters\n",
    "parameters = {\n",
    "    \"experiment_name\": \"cnn_1:oracle.run1\",\n",
    "    \"domains_source\": [8, 32, 50],\n",
    "    \"domains_target\": [14, 20, 26, 38, 44],\n",
    "    \"labels\": [\n",
    "        \"3123D52\",\n",
    "        \"3123D65\",\n",
    "        \"3123D79\",\n",
    "        \"3123D80\",\n",
    "        \"3123D54\",\n",
    "        \"3123D70\",\n",
    "        \"3123D7B\",\n",
    "        \"3123D89\",\n",
    "        \"3123D58\",\n",
    "        \"3123D76\",\n",
    "        \"3123D7D\",\n",
    "        \"3123EFE\",\n",
    "        \"3123D64\",\n",
    "        \"3123D78\",\n",
    "        \"3123D7E\",\n",
    "        \"3124E4A\",\n",
    "    ],\n",
    "    \"pickle_name_source\": \"oracle.Run1_10kExamples_stratified_ds.2022A.pkl\",\n",
    "    \"pickle_name_target\": \"oracle.Run1_10kExamples_stratified_ds.2022A.pkl\",\n",
    "    \"device\": \"cuda\",\n",
    "    \"lr\": 0.0001,\n",
    "    \"batch_size\": 128,\n",
    "    \"normalize_source\": False,\n",
    "    \"normalize_target\": False,\n",
    "    \"num_examples_per_domain_per_label_source\": -1,\n",
    "    \"num_examples_per_domain_per_label_target\": -1,\n",
    "    \"torch_default_dtype\": \"torch.float32\",\n",
    "    \"n_epoch\": 50,\n",
    "    \"patience\": 3,\n",
    "    \"criteria_for_best\": \"target_accuracy\",\n",
    "    \"x_net\": [\n",
    "        {\"class\": \"nnReshape\", \"kargs\": {\"shape\": [-1, 1, 2, 256]}},\n",
    "        {\n",
    "            \"class\": \"Conv2d\",\n",
    "            \"kargs\": {\n",
    "                \"in_channels\": 1,\n",
    "                \"out_channels\": 256,\n",
    "                \"kernel_size\": [1, 7],\n",
    "                \"bias\": False,\n",
    "                \"padding\": [0, 3],\n",
    "            },\n",
    "        },\n",
    "        {\"class\": \"ReLU\", \"kargs\": {\"inplace\": True}},\n",
    "        {\"class\": \"BatchNorm2d\", \"kargs\": {\"num_features\": 256}},\n",
    "        {\n",
    "            \"class\": \"Conv2d\",\n",
    "            \"kargs\": {\n",
    "                \"in_channels\": 256,\n",
    "                \"out_channels\": 80,\n",
    "                \"kernel_size\": [2, 7],\n",
    "                \"bias\": True,\n",
    "                \"padding\": [0, 3],\n",
    "            },\n",
    "        },\n",
    "        {\"class\": \"ReLU\", \"kargs\": {\"inplace\": True}},\n",
    "        {\"class\": \"BatchNorm2d\", \"kargs\": {\"num_features\": 80}},\n",
    "        {\"class\": \"Flatten\", \"kargs\": {}},\n",
    "        {\"class\": \"Linear\", \"kargs\": {\"in_features\": 20480, \"out_features\": 256}},\n",
    "        {\"class\": \"ReLU\", \"kargs\": {\"inplace\": True}},\n",
    "        {\"class\": \"BatchNorm1d\", \"kargs\": {\"num_features\": 256}},\n",
    "        {\"class\": \"Linear\", \"kargs\": {\"in_features\": 256, \"out_features\": 16}},\n",
    "    ],\n",
    "    \"NUM_LOGS_PER_EPOCH\": 10,\n",
    "    \"BEST_MODEL_PATH\": \"./best_model.pth\",\n",
    "    \"dataset_seed\": 420,\n",
    "    \"seed\": 420,\n",
    "}\n"
   ]
  },
  {
   "cell_type": "code",
   "execution_count": 5,
   "id": "759b56ec",
   "metadata": {
    "execution": {
     "iopub.execute_input": "2022-03-25T21:50:26.468684Z",
     "iopub.status.busy": "2022-03-25T21:50:26.468123Z",
     "iopub.status.idle": "2022-03-25T21:50:26.470529Z",
     "shell.execute_reply": "2022-03-25T21:50:26.470980Z"
    },
    "papermill": {
     "duration": 0.022224,
     "end_time": "2022-03-25T21:50:26.471101",
     "exception": false,
     "start_time": "2022-03-25T21:50:26.448877",
     "status": "completed"
    },
    "tags": []
   },
   "outputs": [],
   "source": [
    "# Set this to True if you want to run this template directly\n",
    "STANDALONE = False\n",
    "if STANDALONE:\n",
    "    print(\"parameters not injected, running with standalone_parameters\")\n",
    "    parameters = standalone_parameters\n",
    "\n",
    "if not 'parameters' in locals() and not 'parameters' in globals():\n",
    "    raise Exception(\"Parameter injection failed\")\n",
    "\n",
    "#Use an easy dict for all the parameters\n",
    "p = EasyDict(parameters)\n",
    "\n",
    "supplied_keys = set(p.keys())\n",
    "\n",
    "if  supplied_keys != required_parameters:\n",
    "    print(\"Parameters are incorrect\")\n",
    "    if len(supplied_keys - required_parameters)>0: print(\"Shouldn't have:\", str(supplied_keys - required_parameters))\n",
    "    if len(required_parameters - supplied_keys)>0: print(\"Need to have:\", str(required_parameters - supplied_keys))\n",
    "    raise RuntimeError(\"Parameters are incorrect\")\n",
    "\n"
   ]
  },
  {
   "cell_type": "code",
   "execution_count": 6,
   "id": "d5c66a71",
   "metadata": {
    "execution": {
     "iopub.execute_input": "2022-03-25T21:50:26.507294Z",
     "iopub.status.busy": "2022-03-25T21:50:26.506749Z",
     "iopub.status.idle": "2022-03-25T21:50:26.510724Z",
     "shell.execute_reply": "2022-03-25T21:50:26.510252Z"
    },
    "papermill": {
     "duration": 0.022066,
     "end_time": "2022-03-25T21:50:26.510826",
     "exception": false,
     "start_time": "2022-03-25T21:50:26.488760",
     "status": "completed"
    },
    "tags": []
   },
   "outputs": [],
   "source": [
    "###################################\n",
    "# Set the RNGs and make it all deterministic\n",
    "###################################\n",
    "np.random.seed(p.seed)\n",
    "random.seed(p.seed)\n",
    "torch.manual_seed(p.seed)\n",
    "\n",
    "torch.use_deterministic_algorithms(True) "
   ]
  },
  {
   "cell_type": "code",
   "execution_count": 7,
   "id": "92a65876",
   "metadata": {
    "execution": {
     "iopub.execute_input": "2022-03-25T21:50:26.547629Z",
     "iopub.status.busy": "2022-03-25T21:50:26.547258Z",
     "iopub.status.idle": "2022-03-25T21:50:26.550333Z",
     "shell.execute_reply": "2022-03-25T21:50:26.549979Z"
    },
    "papermill": {
     "duration": 0.021773,
     "end_time": "2022-03-25T21:50:26.550400",
     "exception": false,
     "start_time": "2022-03-25T21:50:26.528627",
     "status": "completed"
    },
    "tags": []
   },
   "outputs": [],
   "source": [
    "torch.set_default_dtype(eval(p.torch_default_dtype))"
   ]
  },
  {
   "cell_type": "code",
   "execution_count": 8,
   "id": "f1a32f01",
   "metadata": {
    "execution": {
     "iopub.execute_input": "2022-03-25T21:50:26.583782Z",
     "iopub.status.busy": "2022-03-25T21:50:26.583395Z",
     "iopub.status.idle": "2022-03-25T21:50:26.622914Z",
     "shell.execute_reply": "2022-03-25T21:50:26.622217Z"
    },
    "papermill": {
     "duration": 0.056516,
     "end_time": "2022-03-25T21:50:26.623065",
     "exception": false,
     "start_time": "2022-03-25T21:50:26.566549",
     "status": "completed"
    },
    "tags": []
   },
   "outputs": [],
   "source": [
    "###################################\n",
    "# Build the network(s)\n",
    "# Note: It's critical to do this AFTER setting the RNG\n",
    "###################################\n",
    "x_net = build_sequential(p.x_net)"
   ]
  },
  {
   "cell_type": "code",
   "execution_count": 9,
   "id": "a276cd83",
   "metadata": {
    "execution": {
     "iopub.execute_input": "2022-03-25T21:50:26.663335Z",
     "iopub.status.busy": "2022-03-25T21:50:26.662978Z",
     "iopub.status.idle": "2022-03-25T21:50:26.665662Z",
     "shell.execute_reply": "2022-03-25T21:50:26.665959Z"
    },
    "papermill": {
     "duration": 0.020262,
     "end_time": "2022-03-25T21:50:26.666038",
     "exception": false,
     "start_time": "2022-03-25T21:50:26.645776",
     "status": "completed"
    },
    "tags": []
   },
   "outputs": [],
   "source": [
    "start_time_secs = time.time()"
   ]
  },
  {
   "cell_type": "code",
   "execution_count": 10,
   "id": "de702e48",
   "metadata": {
    "execution": {
     "iopub.execute_input": "2022-03-25T21:50:26.711572Z",
     "iopub.status.busy": "2022-03-25T21:50:26.705744Z",
     "iopub.status.idle": "2022-03-25T21:50:47.947644Z",
     "shell.execute_reply": "2022-03-25T21:50:47.946887Z"
    },
    "papermill": {
     "duration": 21.263974,
     "end_time": "2022-03-25T21:50:47.947839",
     "exception": false,
     "start_time": "2022-03-25T21:50:26.683865",
     "status": "completed"
    },
    "tags": []
   },
   "outputs": [],
   "source": [
    "def wrap_in_dataloader(p, ds):\n",
    "    return torch.utils.data.DataLoader(\n",
    "        ds,\n",
    "        batch_size=p.batch_size,\n",
    "        shuffle=True,\n",
    "        num_workers=1,\n",
    "        persistent_workers=True,\n",
    "        prefetch_factor=50,\n",
    "        pin_memory=True\n",
    "    )\n",
    "\n",
    "taf_source = Traditional_Accessor_Factory(\n",
    "    labels=p.labels,\n",
    "    domains=p.domains_source,\n",
    "    num_examples_per_domain_per_label=p.num_examples_per_domain_per_label_source,\n",
    "    pickle_path=os.path.join(get_datasets_base_path(), p.pickle_name_source),\n",
    "    seed=p.dataset_seed\n",
    ")\n",
    "train_original_source, val_original_source, test_original_source = \\\n",
    "    taf_source.get_train(), taf_source.get_val(), taf_source.get_test()\n",
    "\n",
    "\n",
    "taf_target = Traditional_Accessor_Factory(\n",
    "    labels=p.labels,\n",
    "    domains=p.domains_target,\n",
    "    num_examples_per_domain_per_label=p.num_examples_per_domain_per_label_source,\n",
    "    pickle_path=os.path.join(get_datasets_base_path(), p.pickle_name_target),\n",
    "    seed=p.dataset_seed\n",
    ")\n",
    "train_original_target, val_original_target, test_original_target = \\\n",
    "    taf_target.get_train(), taf_target.get_val(), taf_target.get_test()\n",
    "\n",
    "\n",
    "# For CNN We only use X and Y. And we only train on the source.\n",
    "# Properly form the data using a transform lambda and Lazy_Map. Finally wrap them in a dataloader\n",
    "\n",
    "transform_lambda = lambda ex: ex[:2] # Strip the tuple to just (x,y)\n",
    "\n",
    "\n",
    "train_processed_source = wrap_in_dataloader(\n",
    "    p,\n",
    "    Lazy_Map(train_original_source, transform_lambda)\n",
    ")\n",
    "val_processed_source = wrap_in_dataloader(\n",
    "    p,\n",
    "    Lazy_Map(val_original_source, transform_lambda)\n",
    ")\n",
    "test_processed_source = wrap_in_dataloader(\n",
    "    p,\n",
    "    Lazy_Map(test_original_source, transform_lambda)\n",
    ")\n",
    "\n",
    "train_processed_target = wrap_in_dataloader(\n",
    "    p,\n",
    "    Lazy_Map(train_original_target, transform_lambda)\n",
    ")\n",
    "val_processed_target = wrap_in_dataloader(\n",
    "    p,\n",
    "    Lazy_Map(val_original_target, transform_lambda)\n",
    ")\n",
    "test_processed_target  = wrap_in_dataloader(\n",
    "    p,\n",
    "    Lazy_Map(test_original_target, transform_lambda)\n",
    ")\n",
    "\n",
    "\n",
    "\n",
    "datasets = EasyDict({\n",
    "    \"source\": {\n",
    "        \"original\": {\"train\":train_original_source, \"val\":val_original_source, \"test\":test_original_source},\n",
    "        \"processed\": {\"train\":train_processed_source, \"val\":val_processed_source, \"test\":test_processed_source}\n",
    "    },\n",
    "    \"target\": {\n",
    "        \"original\": {\"train\":train_original_target, \"val\":val_original_target, \"test\":test_original_target},\n",
    "        \"processed\": {\"train\":train_processed_target, \"val\":val_processed_target, \"test\":test_processed_target}\n",
    "    },\n",
    "})"
   ]
  },
  {
   "cell_type": "code",
   "execution_count": 11,
   "id": "a11b26bd",
   "metadata": {
    "execution": {
     "iopub.execute_input": "2022-03-25T21:50:48.027959Z",
     "iopub.status.busy": "2022-03-25T21:50:48.026507Z",
     "iopub.status.idle": "2022-03-25T21:50:53.679030Z",
     "shell.execute_reply": "2022-03-25T21:50:53.679880Z"
    },
    "papermill": {
     "duration": 5.713367,
     "end_time": "2022-03-25T21:50:53.680058",
     "exception": false,
     "start_time": "2022-03-25T21:50:47.966691",
     "status": "completed"
    },
    "tags": []
   },
   "outputs": [
    {
     "data": {
      "text/plain": [
       "torch.float32"
      ]
     },
     "execution_count": 11,
     "metadata": {},
     "output_type": "execute_result"
    }
   ],
   "source": [
    "ep = next(iter(test_processed_target))\n",
    "ep[0].dtype"
   ]
  },
  {
   "cell_type": "code",
   "execution_count": 12,
   "id": "19425fad",
   "metadata": {
    "execution": {
     "iopub.execute_input": "2022-03-25T21:50:53.720204Z",
     "iopub.status.busy": "2022-03-25T21:50:53.719712Z",
     "iopub.status.idle": "2022-03-25T21:50:53.768015Z",
     "shell.execute_reply": "2022-03-25T21:50:53.767282Z"
    },
    "papermill": {
     "duration": 0.069035,
     "end_time": "2022-03-25T21:50:53.768175",
     "exception": false,
     "start_time": "2022-03-25T21:50:53.699140",
     "status": "completed"
    },
    "tags": []
   },
   "outputs": [],
   "source": [
    "model = Configurable_Vanilla(\n",
    "    x_net=x_net,\n",
    "    label_loss_object=torch.nn.NLLLoss(),\n",
    "    learning_rate=p.lr\n",
    ")"
   ]
  },
  {
   "cell_type": "code",
   "execution_count": 13,
   "id": "7f6d4f2c",
   "metadata": {
    "execution": {
     "iopub.execute_input": "2022-03-25T21:50:53.805808Z",
     "iopub.status.busy": "2022-03-25T21:50:53.805251Z",
     "iopub.status.idle": "2022-03-25T21:54:56.740902Z",
     "shell.execute_reply": "2022-03-25T21:54:56.740556Z"
    },
    "papermill": {
     "duration": 242.954288,
     "end_time": "2022-03-25T21:54:56.740991",
     "exception": false,
     "start_time": "2022-03-25T21:50:53.786703",
     "status": "completed"
    },
    "tags": []
   },
   "outputs": [
    {
     "name": "stdout",
     "output_type": "stream",
     "text": [
      "epoch: 1, [batch: 1 / 2625], examples_per_second: 659.8473, train_label_loss: 2.7728, \n"
     ]
    },
    {
     "name": "stdout",
     "output_type": "stream",
     "text": [
      "epoch: 1, [batch: 263 / 2625], examples_per_second: 11950.3079, train_label_loss: 2.2749, \n"
     ]
    },
    {
     "name": "stdout",
     "output_type": "stream",
     "text": [
      "epoch: 1, [batch: 525 / 2625], examples_per_second: 11794.8598, train_label_loss: 2.0799, \n"
     ]
    },
    {
     "name": "stdout",
     "output_type": "stream",
     "text": [
      "epoch: 1, [batch: 788 / 2625], examples_per_second: 11714.6518, train_label_loss: 1.9250, \n"
     ]
    },
    {
     "name": "stdout",
     "output_type": "stream",
     "text": [
      "epoch: 1, [batch: 1050 / 2625], examples_per_second: 11695.1715, train_label_loss: 1.6562, \n"
     ]
    },
    {
     "name": "stdout",
     "output_type": "stream",
     "text": [
      "epoch: 1, [batch: 1313 / 2625], examples_per_second: 11740.6550, train_label_loss: 1.6432, \n"
     ]
    },
    {
     "name": "stdout",
     "output_type": "stream",
     "text": [
      "epoch: 1, [batch: 1575 / 2625], examples_per_second: 11647.7948, train_label_loss: 1.6343, \n"
     ]
    },
    {
     "name": "stdout",
     "output_type": "stream",
     "text": [
      "epoch: 1, [batch: 1837 / 2625], examples_per_second: 11679.9258, train_label_loss: 1.3334, \n"
     ]
    },
    {
     "name": "stdout",
     "output_type": "stream",
     "text": [
      "epoch: 1, [batch: 2100 / 2625], examples_per_second: 11641.7628, train_label_loss: 1.1439, \n"
     ]
    },
    {
     "name": "stdout",
     "output_type": "stream",
     "text": [
      "epoch: 1, [batch: 2362 / 2625], examples_per_second: 12009.9114, train_label_loss: 1.1322, \n"
     ]
    },
    {
     "name": "stdout",
     "output_type": "stream",
     "text": [
      "=============================================================\n",
      "epoch: 1, source_val_acc_label: 0.6162, source_val_label_loss: 1.1402, target_val_acc_label: 0.0609, target_val_label_loss: 6.8715, \n",
      "=============================================================\n"
     ]
    },
    {
     "name": "stdout",
     "output_type": "stream",
     "text": [
      "New best\n",
      "epoch: 2, [batch: 1 / 2625], examples_per_second: 24.9501, train_label_loss: 1.2298, \n"
     ]
    },
    {
     "name": "stdout",
     "output_type": "stream",
     "text": [
      "epoch: 2, [batch: 263 / 2625], examples_per_second: 10679.9990, train_label_loss: 0.8865, \n"
     ]
    },
    {
     "name": "stdout",
     "output_type": "stream",
     "text": [
      "epoch: 2, [batch: 525 / 2625], examples_per_second: 10738.9135, train_label_loss: 0.9789, \n"
     ]
    },
    {
     "name": "stdout",
     "output_type": "stream",
     "text": [
      "epoch: 2, [batch: 788 / 2625], examples_per_second: 10766.9089, train_label_loss: 0.9103, \n"
     ]
    },
    {
     "name": "stdout",
     "output_type": "stream",
     "text": [
      "epoch: 2, [batch: 1050 / 2625], examples_per_second: 10760.8835, train_label_loss: 0.8406, \n"
     ]
    },
    {
     "name": "stdout",
     "output_type": "stream",
     "text": [
      "epoch: 2, [batch: 1313 / 2625], examples_per_second: 10662.5501, train_label_loss: 0.8324, \n"
     ]
    },
    {
     "name": "stdout",
     "output_type": "stream",
     "text": [
      "epoch: 2, [batch: 1575 / 2625], examples_per_second: 10690.0775, train_label_loss: 0.7856, \n"
     ]
    },
    {
     "name": "stdout",
     "output_type": "stream",
     "text": [
      "epoch: 2, [batch: 1837 / 2625], examples_per_second: 10749.0633, train_label_loss: 0.6752, \n"
     ]
    },
    {
     "name": "stdout",
     "output_type": "stream",
     "text": [
      "epoch: 2, [batch: 2100 / 2625], examples_per_second: 10700.5352, train_label_loss: 0.6894, \n"
     ]
    },
    {
     "name": "stdout",
     "output_type": "stream",
     "text": [
      "epoch: 2, [batch: 2362 / 2625], examples_per_second: 10720.2887, train_label_loss: 0.6968, \n"
     ]
    },
    {
     "name": "stdout",
     "output_type": "stream",
     "text": [
      "=============================================================\n",
      "epoch: 2, source_val_acc_label: 0.7992, source_val_label_loss: 0.6138, target_val_acc_label: 0.0786, target_val_label_loss: 10.5387, \n",
      "=============================================================\n"
     ]
    },
    {
     "name": "stdout",
     "output_type": "stream",
     "text": [
      "New best\n",
      "epoch: 3, [batch: 1 / 2625], examples_per_second: 26.2248, train_label_loss: 0.5057, \n"
     ]
    },
    {
     "name": "stdout",
     "output_type": "stream",
     "text": [
      "epoch: 3, [batch: 263 / 2625], examples_per_second: 11732.3296, train_label_loss: 0.5451, \n"
     ]
    },
    {
     "name": "stdout",
     "output_type": "stream",
     "text": [
      "epoch: 3, [batch: 525 / 2625], examples_per_second: 11757.1686, train_label_loss: 0.7163, \n"
     ]
    },
    {
     "name": "stdout",
     "output_type": "stream",
     "text": [
      "epoch: 3, [batch: 788 / 2625], examples_per_second: 11567.9865, train_label_loss: 0.8332, \n"
     ]
    },
    {
     "name": "stdout",
     "output_type": "stream",
     "text": [
      "epoch: 3, [batch: 1050 / 2625], examples_per_second: 11749.3523, train_label_loss: 0.6134, \n"
     ]
    },
    {
     "name": "stdout",
     "output_type": "stream",
     "text": [
      "epoch: 3, [batch: 1313 / 2625], examples_per_second: 11810.2951, train_label_loss: 0.7050, \n"
     ]
    },
    {
     "name": "stdout",
     "output_type": "stream",
     "text": [
      "epoch: 3, [batch: 1575 / 2625], examples_per_second: 11683.2253, train_label_loss: 0.5740, \n"
     ]
    },
    {
     "name": "stdout",
     "output_type": "stream",
     "text": [
      "epoch: 3, [batch: 1837 / 2625], examples_per_second: 11751.3351, train_label_loss: 0.5408, \n"
     ]
    },
    {
     "name": "stdout",
     "output_type": "stream",
     "text": [
      "epoch: 3, [batch: 2100 / 2625], examples_per_second: 11795.3322, train_label_loss: 0.4346, \n"
     ]
    },
    {
     "name": "stdout",
     "output_type": "stream",
     "text": [
      "epoch: 3, [batch: 2362 / 2625], examples_per_second: 11788.1283, train_label_loss: 0.4517, \n"
     ]
    },
    {
     "name": "stdout",
     "output_type": "stream",
     "text": [
      "=============================================================\n",
      "epoch: 3, source_val_acc_label: 0.7585, source_val_label_loss: 0.6373, target_val_acc_label: 0.0821, target_val_label_loss: 12.4615, \n",
      "=============================================================\n"
     ]
    },
    {
     "name": "stdout",
     "output_type": "stream",
     "text": [
      "New best\n",
      "epoch: 4, [batch: 1 / 2625], examples_per_second: 29.2076, train_label_loss: 0.7260, \n"
     ]
    },
    {
     "name": "stdout",
     "output_type": "stream",
     "text": [
      "epoch: 4, [batch: 263 / 2625], examples_per_second: 11950.0551, train_label_loss: 0.4298, \n"
     ]
    },
    {
     "name": "stdout",
     "output_type": "stream",
     "text": [
      "epoch: 4, [batch: 525 / 2625], examples_per_second: 11767.7947, train_label_loss: 0.4514, \n"
     ]
    },
    {
     "name": "stdout",
     "output_type": "stream",
     "text": [
      "epoch: 4, [batch: 788 / 2625], examples_per_second: 11687.5358, train_label_loss: 0.5820, \n"
     ]
    },
    {
     "name": "stdout",
     "output_type": "stream",
     "text": [
      "epoch: 4, [batch: 1050 / 2625], examples_per_second: 11640.8350, train_label_loss: 0.3577, \n"
     ]
    },
    {
     "name": "stdout",
     "output_type": "stream",
     "text": [
      "epoch: 4, [batch: 1313 / 2625], examples_per_second: 11682.6794, train_label_loss: 0.3398, \n"
     ]
    },
    {
     "name": "stdout",
     "output_type": "stream",
     "text": [
      "epoch: 4, [batch: 1575 / 2625], examples_per_second: 11883.4620, train_label_loss: 0.4816, \n"
     ]
    },
    {
     "name": "stdout",
     "output_type": "stream",
     "text": [
      "epoch: 4, [batch: 1837 / 2625], examples_per_second: 11657.3486, train_label_loss: 0.4277, \n"
     ]
    },
    {
     "name": "stdout",
     "output_type": "stream",
     "text": [
      "epoch: 4, [batch: 2100 / 2625], examples_per_second: 11704.1353, train_label_loss: 0.4229, \n"
     ]
    },
    {
     "name": "stdout",
     "output_type": "stream",
     "text": [
      "epoch: 4, [batch: 2362 / 2625], examples_per_second: 12776.2828, train_label_loss: 0.4854, \n"
     ]
    },
    {
     "name": "stdout",
     "output_type": "stream",
     "text": [
      "=============================================================\n",
      "epoch: 4, source_val_acc_label: 0.8393, source_val_label_loss: 0.4374, target_val_acc_label: 0.0666, target_val_label_loss: 14.6153, \n",
      "=============================================================\n"
     ]
    },
    {
     "name": "stdout",
     "output_type": "stream",
     "text": [
      "epoch: 5, [batch: 1 / 2625], examples_per_second: 32.8555, train_label_loss: 0.3433, \n"
     ]
    },
    {
     "name": "stdout",
     "output_type": "stream",
     "text": [
      "epoch: 5, [batch: 263 / 2625], examples_per_second: 13268.6390, train_label_loss: 0.3661, \n"
     ]
    },
    {
     "name": "stdout",
     "output_type": "stream",
     "text": [
      "epoch: 5, [batch: 525 / 2625], examples_per_second: 12886.9721, train_label_loss: 0.3632, \n"
     ]
    },
    {
     "name": "stdout",
     "output_type": "stream",
     "text": [
      "epoch: 5, [batch: 788 / 2625], examples_per_second: 12890.7146, train_label_loss: 0.4399, \n"
     ]
    },
    {
     "name": "stdout",
     "output_type": "stream",
     "text": [
      "epoch: 5, [batch: 1050 / 2625], examples_per_second: 12889.5181, train_label_loss: 0.3420, \n"
     ]
    },
    {
     "name": "stdout",
     "output_type": "stream",
     "text": [
      "epoch: 5, [batch: 1313 / 2625], examples_per_second: 12942.7436, train_label_loss: 0.3411, \n"
     ]
    },
    {
     "name": "stdout",
     "output_type": "stream",
     "text": [
      "epoch: 5, [batch: 1575 / 2625], examples_per_second: 12807.9529, train_label_loss: 0.5956, \n"
     ]
    },
    {
     "name": "stdout",
     "output_type": "stream",
     "text": [
      "epoch: 5, [batch: 1837 / 2625], examples_per_second: 12974.4226, train_label_loss: 0.5175, \n"
     ]
    },
    {
     "name": "stdout",
     "output_type": "stream",
     "text": [
      "epoch: 5, [batch: 2100 / 2625], examples_per_second: 12732.3304, train_label_loss: 0.4071, \n"
     ]
    },
    {
     "name": "stdout",
     "output_type": "stream",
     "text": [
      "epoch: 5, [batch: 2362 / 2625], examples_per_second: 13874.3315, train_label_loss: 0.3586, \n"
     ]
    },
    {
     "name": "stdout",
     "output_type": "stream",
     "text": [
      "=============================================================\n",
      "epoch: 5, source_val_acc_label: 0.8423, source_val_label_loss: 0.4157, target_val_acc_label: 0.0712, target_val_label_loss: 15.5941, \n",
      "=============================================================\n"
     ]
    },
    {
     "name": "stdout",
     "output_type": "stream",
     "text": [
      "epoch: 6, [batch: 1 / 2625], examples_per_second: 29.2862, train_label_loss: 0.4280, \n"
     ]
    },
    {
     "name": "stdout",
     "output_type": "stream",
     "text": [
      "epoch: 6, [batch: 263 / 2625], examples_per_second: 11765.5947, train_label_loss: 0.2588, \n"
     ]
    },
    {
     "name": "stdout",
     "output_type": "stream",
     "text": [
      "epoch: 6, [batch: 525 / 2625], examples_per_second: 12069.8339, train_label_loss: 0.3488, \n"
     ]
    },
    {
     "name": "stdout",
     "output_type": "stream",
     "text": [
      "epoch: 6, [batch: 788 / 2625], examples_per_second: 11726.4532, train_label_loss: 0.3845, \n"
     ]
    },
    {
     "name": "stdout",
     "output_type": "stream",
     "text": [
      "epoch: 6, [batch: 1050 / 2625], examples_per_second: 11719.8894, train_label_loss: 0.2750, \n"
     ]
    },
    {
     "name": "stdout",
     "output_type": "stream",
     "text": [
      "epoch: 6, [batch: 1313 / 2625], examples_per_second: 11788.6070, train_label_loss: 0.2777, \n"
     ]
    },
    {
     "name": "stdout",
     "output_type": "stream",
     "text": [
      "epoch: 6, [batch: 1575 / 2625], examples_per_second: 11797.9910, train_label_loss: 0.2948, \n"
     ]
    },
    {
     "name": "stdout",
     "output_type": "stream",
     "text": [
      "epoch: 6, [batch: 1837 / 2625], examples_per_second: 11814.5270, train_label_loss: 0.2628, \n"
     ]
    },
    {
     "name": "stdout",
     "output_type": "stream",
     "text": [
      "epoch: 6, [batch: 2100 / 2625], examples_per_second: 11712.0311, train_label_loss: 0.3703, \n"
     ]
    },
    {
     "name": "stdout",
     "output_type": "stream",
     "text": [
      "epoch: 6, [batch: 2362 / 2625], examples_per_second: 11760.4283, train_label_loss: 0.2524, \n"
     ]
    },
    {
     "name": "stdout",
     "output_type": "stream",
     "text": [
      "=============================================================\n",
      "epoch: 6, source_val_acc_label: 0.8355, source_val_label_loss: 0.4240, target_val_acc_label: 0.0714, target_val_label_loss: 17.1680, \n",
      "=============================================================\n"
     ]
    },
    {
     "name": "stdout",
     "output_type": "stream",
     "text": [
      "epoch: 7, [batch: 1 / 2625], examples_per_second: 29.1801, train_label_loss: 0.1863, \n"
     ]
    },
    {
     "name": "stdout",
     "output_type": "stream",
     "text": [
      "epoch: 7, [batch: 263 / 2625], examples_per_second: 11775.0451, train_label_loss: 0.1942, \n"
     ]
    },
    {
     "name": "stdout",
     "output_type": "stream",
     "text": [
      "epoch: 7, [batch: 525 / 2625], examples_per_second: 11751.5246, train_label_loss: 0.3360, \n"
     ]
    },
    {
     "name": "stdout",
     "output_type": "stream",
     "text": [
      "epoch: 7, [batch: 788 / 2625], examples_per_second: 11757.1621, train_label_loss: 0.1707, \n"
     ]
    },
    {
     "name": "stdout",
     "output_type": "stream",
     "text": [
      "epoch: 7, [batch: 1050 / 2625], examples_per_second: 11751.8358, train_label_loss: 0.2393, \n"
     ]
    },
    {
     "name": "stdout",
     "output_type": "stream",
     "text": [
      "epoch: 7, [batch: 1313 / 2625], examples_per_second: 11718.8978, train_label_loss: 0.4023, \n"
     ]
    },
    {
     "name": "stdout",
     "output_type": "stream",
     "text": [
      "epoch: 7, [batch: 1575 / 2625], examples_per_second: 11774.8765, train_label_loss: 0.3901, \n"
     ]
    },
    {
     "name": "stdout",
     "output_type": "stream",
     "text": [
      "epoch: 7, [batch: 1837 / 2625], examples_per_second: 11767.8596, train_label_loss: 0.3162, \n"
     ]
    },
    {
     "name": "stdout",
     "output_type": "stream",
     "text": [
      "epoch: 7, [batch: 2100 / 2625], examples_per_second: 11798.6331, train_label_loss: 0.2783, \n"
     ]
    },
    {
     "name": "stdout",
     "output_type": "stream",
     "text": [
      "epoch: 7, [batch: 2362 / 2625], examples_per_second: 11793.9223, train_label_loss: 0.2552, \n"
     ]
    },
    {
     "name": "stdout",
     "output_type": "stream",
     "text": [
      "=============================================================\n",
      "epoch: 7, source_val_acc_label: 0.8115, source_val_label_loss: 0.4958, target_val_acc_label: 0.0576, target_val_label_loss: 18.7400, \n",
      "=============================================================\n"
     ]
    },
    {
     "name": "stdout",
     "output_type": "stream",
     "text": [
      "Patience (3) exhausted\n"
     ]
    }
   ],
   "source": [
    "jig = Vanilla_Train_Eval_Test_Jig(\n",
    "    model=model,\n",
    "    path_to_best_model=p.BEST_MODEL_PATH,\n",
    "    device=p.device,\n",
    "    label_loss_object=torch.nn.NLLLoss(),\n",
    ")\n",
    "\n",
    "jig.train(\n",
    "    train_iterable=datasets.source.processed.train,\n",
    "    source_val_iterable=datasets.source.processed.val,\n",
    "    target_val_iterable=datasets.target.processed.val,\n",
    "    patience=p.patience,\n",
    "    num_epochs=p.n_epoch,\n",
    "    num_logs_per_epoch=p.NUM_LOGS_PER_EPOCH,\n",
    "    criteria_for_best=p.criteria_for_best\n",
    ")"
   ]
  },
  {
   "cell_type": "code",
   "execution_count": 14,
   "id": "4bc2ac17",
   "metadata": {
    "execution": {
     "iopub.execute_input": "2022-03-25T21:54:56.817077Z",
     "iopub.status.busy": "2022-03-25T21:54:56.816472Z",
     "iopub.status.idle": "2022-03-25T21:54:56.818639Z",
     "shell.execute_reply": "2022-03-25T21:54:56.819103Z"
    },
    "papermill": {
     "duration": 0.043163,
     "end_time": "2022-03-25T21:54:56.819234",
     "exception": false,
     "start_time": "2022-03-25T21:54:56.776071",
     "status": "completed"
    },
    "tags": []
   },
   "outputs": [],
   "source": [
    "total_experiment_time_secs = time.time() - start_time_secs"
   ]
  },
  {
   "cell_type": "code",
   "execution_count": 15,
   "id": "cae88f23",
   "metadata": {
    "execution": {
     "iopub.execute_input": "2022-03-25T21:54:56.906306Z",
     "iopub.status.busy": "2022-03-25T21:54:56.905421Z",
     "iopub.status.idle": "2022-03-25T21:55:49.659416Z",
     "shell.execute_reply": "2022-03-25T21:55:49.658939Z"
    },
    "papermill": {
     "duration": 52.802061,
     "end_time": "2022-03-25T21:55:49.659518",
     "exception": false,
     "start_time": "2022-03-25T21:54:56.857457",
     "status": "completed"
    },
    "tags": []
   },
   "outputs": [],
   "source": [
    "source_test_label_accuracy, source_test_label_loss = jig.test(datasets.source.processed.test)\n",
    "target_test_label_accuracy, target_test_label_loss = jig.test(datasets.target.processed.test)\n",
    "\n",
    "source_val_label_accuracy, source_val_label_loss = jig.test(datasets.source.processed.val)\n",
    "target_val_label_accuracy, target_val_label_loss = jig.test(datasets.target.processed.val)\n",
    "\n",
    "history = jig.get_history()\n",
    "\n",
    "total_epochs_trained = len(history[\"epoch_indices\"])\n",
    "\n",
    "val_dl = wrap_in_dataloader(p, Sequence_Aggregator((datasets.source.original.val, datasets.target.original.val)))\n",
    "\n",
    "confusion = confusion_by_domain_over_dataloader(model, p.device, val_dl, forward_uses_domain=False)\n",
    "per_domain_accuracy = per_domain_accuracy_from_confusion(confusion)\n",
    "\n",
    "# Add a key to per_domain_accuracy for if it was a source domain\n",
    "for domain, accuracy in per_domain_accuracy.items():\n",
    "    per_domain_accuracy[domain] = {\n",
    "        \"accuracy\": accuracy,\n",
    "        \"source?\": domain in p.domains_source\n",
    "    }\n",
    "\n",
    "# Do an independent accuracy assesment JUST TO BE SURE!\n",
    "# _source_test_label_accuracy = independent_accuracy_assesment(model, datasets.source.processed.test, p.device)\n",
    "# _target_test_label_accuracy = independent_accuracy_assesment(model, datasets.target.processed.test, p.device)\n",
    "# _source_val_label_accuracy = independent_accuracy_assesment(model, datasets.source.processed.val, p.device)\n",
    "# _target_val_label_accuracy = independent_accuracy_assesment(model, datasets.target.processed.val, p.device)\n",
    "\n",
    "# assert(_source_test_label_accuracy == source_test_label_accuracy)\n",
    "# assert(_target_test_label_accuracy == target_test_label_accuracy)\n",
    "# assert(_source_val_label_accuracy == source_val_label_accuracy)\n",
    "# assert(_target_val_label_accuracy == target_val_label_accuracy)\n",
    "\n",
    "###################################\n",
    "# Write out the results\n",
    "###################################\n",
    "\n",
    "experiment = {\n",
    "    \"experiment_name\": p.experiment_name,\n",
    "    \"parameters\": p,\n",
    "    \"results\": {\n",
    "        \"source_test_label_accuracy\": source_test_label_accuracy,\n",
    "        \"source_test_label_loss\": source_test_label_loss,\n",
    "        \"target_test_label_accuracy\": target_test_label_accuracy,\n",
    "        \"target_test_label_loss\": target_test_label_loss,\n",
    "        \"source_val_label_accuracy\": source_val_label_accuracy,\n",
    "        \"source_val_label_loss\": source_val_label_loss,\n",
    "        \"target_val_label_accuracy\": target_val_label_accuracy,\n",
    "        \"target_val_label_loss\": target_val_label_loss,\n",
    "        \"total_epochs_trained\": total_epochs_trained,\n",
    "        \"total_experiment_time_secs\": total_experiment_time_secs,\n",
    "        \"confusion\": confusion,\n",
    "        \"per_domain_accuracy\": per_domain_accuracy,\n",
    "    },\n",
    "    \"history\": history,\n",
    "    \"dataset_metrics\": get_dataset_metrics(datasets, \"cnn\"),\n",
    "}"
   ]
  },
  {
   "cell_type": "code",
   "execution_count": 16,
   "id": "74c318cf",
   "metadata": {
    "execution": {
     "iopub.execute_input": "2022-03-25T21:55:49.817931Z",
     "iopub.status.busy": "2022-03-25T21:55:49.815731Z",
     "iopub.status.idle": "2022-03-25T21:55:50.009639Z",
     "shell.execute_reply": "2022-03-25T21:55:50.010288Z"
    },
    "papermill": {
     "duration": 0.315383,
     "end_time": "2022-03-25T21:55:50.010503",
     "exception": false,
     "start_time": "2022-03-25T21:55:49.695120",
     "status": "completed"
    },
    "tags": []
   },
   "outputs": [
    {
     "data": {
      "text/plain": [
       "<AxesSubplot:title={'center':'Source Train Label Loss vs Source Val Label Loss'}, xlabel='Epoch'>"
      ]
     },
     "execution_count": 16,
     "metadata": {},
     "output_type": "execute_result"
    },
    {
     "data": {
      "image/png": "[encoded data removed]",
      "text/plain": [
       "<Figure size 1080x504 with 1 Axes>"
      ]
     },
     "metadata": {
      "needs_background": "light"
     },
     "output_type": "display_data"
    }
   ],
   "source": [
    "get_loss_curve(experiment)"
   ]
  },
  {
   "cell_type": "code",
   "execution_count": 17,
   "id": "59376601",
   "metadata": {
    "execution": {
     "iopub.execute_input": "2022-03-25T21:55:50.118590Z",
     "iopub.status.busy": "2022-03-25T21:55:50.117783Z",
     "iopub.status.idle": "2022-03-25T21:55:50.419948Z",
     "shell.execute_reply": "2022-03-25T21:55:50.420622Z"
    },
    "papermill": {
     "duration": 0.365493,
     "end_time": "2022-03-25T21:55:50.420807",
     "exception": false,
     "start_time": "2022-03-25T21:55:50.055314",
     "status": "completed"
    },
    "tags": []
   },
   "outputs": [
    {
     "data": {
      "text/plain": [
       "<AxesSubplot:title={'center':'Results'}>"
      ]
     },
     "execution_count": 17,
     "metadata": {},
     "output_type": "execute_result"
    },
    {
     "data": {
      "image/png": "[encoded data removed]",
      "text/plain": [
       "<Figure size 1080x504 with 1 Axes>"
      ]
     },
     "metadata": {
      "needs_background": "light"
     },
     "output_type": "display_data"
    }
   ],
   "source": [
    "get_results_table(experiment)"
   ]
  },
  {
   "cell_type": "code",
   "execution_count": 18,
   "id": "e80c5c98",
   "metadata": {
    "execution": {
     "iopub.execute_input": "2022-03-25T21:55:50.525845Z",
     "iopub.status.busy": "2022-03-25T21:55:50.515131Z",
     "iopub.status.idle": "2022-03-25T21:55:50.684809Z",
     "shell.execute_reply": "2022-03-25T21:55:50.684095Z"
    },
    "papermill": {
     "duration": 0.218782,
     "end_time": "2022-03-25T21:55:50.684968",
     "exception": false,
     "start_time": "2022-03-25T21:55:50.466186",
     "status": "completed"
    },
    "tags": []
   },
   "outputs": [
    {
     "data": {
      "text/plain": [
       "<AxesSubplot:title={'center':'Per Domain Accuracy'}, xlabel='domain'>"
      ]
     },
     "execution_count": 18,
     "metadata": {},
     "output_type": "execute_result"
    },
    {
     "data": {
      "image/png": "[encoded data removed]",
      "text/plain": [
       "<Figure size 1080x504 with 1 Axes>"
      ]
     },
     "metadata": {
      "needs_background": "light"
     },
     "output_type": "display_data"
    }
   ],
   "source": [
    "get_domain_accuracies(experiment)"
   ]
  },
  {
   "cell_type": "code",
   "execution_count": 19,
   "id": "086fdd10",
   "metadata": {
    "execution": {
     "iopub.execute_input": "2022-03-25T21:55:50.772661Z",
     "iopub.status.busy": "2022-03-25T21:55:50.772097Z",
     "iopub.status.idle": "2022-03-25T21:55:50.776507Z",
     "shell.execute_reply": "2022-03-25T21:55:50.775957Z"
    },
    "papermill": {
     "duration": 0.04776,
     "end_time": "2022-03-25T21:55:50.776613",
     "exception": false,
     "start_time": "2022-03-25T21:55:50.728853",
     "status": "completed"
    },
    "tags": []
   },
   "outputs": [
    {
     "name": "stdout",
     "output_type": "stream",
     "text": [
      "Source Test Label Accuracy: 0.7573194444444444 Target Test Label Accuracy: 0.08258333333333333\n",
      "Source Val Label Accuracy: 0.7584861111111111 Target Val Label Accuracy: 0.08210833333333334\n"
     ]
    }
   ],
   "source": [
    "print(\"Source Test Label Accuracy:\", experiment[\"results\"][\"source_test_label_accuracy\"], \"Target Test Label Accuracy:\", experiment[\"results\"][\"target_test_label_accuracy\"])\n",
    "print(\"Source Val Label Accuracy:\", experiment[\"results\"][\"source_val_label_accuracy\"], \"Target Val Label Accuracy:\", experiment[\"results\"][\"target_val_label_accuracy\"])"
   ]
  },
  {
   "cell_type": "code",
   "execution_count": 20,
   "id": "9f450536",
   "metadata": {
    "execution": {
     "iopub.execute_input": "2022-03-25T21:55:50.867345Z",
     "iopub.status.busy": "2022-03-25T21:55:50.866979Z",
     "iopub.status.idle": "2022-03-25T21:55:50.870618Z",
     "shell.execute_reply": "2022-03-25T21:55:50.870054Z"
    },
    "papermill": {
     "duration": 0.046797,
     "end_time": "2022-03-25T21:55:50.870726",
     "exception": false,
     "start_time": "2022-03-25T21:55:50.823929",
     "status": "completed"
    },
    "tags": [
     "experiment_json"
    ]
   },
   "outputs": [
    {
     "data": {
      "text/plain": [
       "'{\"experiment_name\": \"cnn_1:oracle.run1\", \"parameters\": {\"experiment_name\": \"cnn_1:oracle.run1\", \"domains_source\": [8, 32, 50], \"domains_target\": [14, 20, 26, 38, 44], \"labels\": [\"3123D52\", \"3123D65\", \"3123D79\", \"3123D80\", \"3123D54\", \"3123D70\", \"3123D7B\", \"3123D89\", \"3123D58\", \"3123D76\", \"3123D7D\", \"3123EFE\", \"3123D64\", \"3123D78\", \"3123D7E\", \"3124E4A\"], \"pickle_name_source\": \"oracle.Run1_10kExamples_stratified_ds.2022A.pkl\", \"pickle_name_target\": \"oracle.Run1_10kExamples_stratified_ds.2022A.pkl\", \"device\": \"cuda\", \"lr\": 0.0001, \"batch_size\": 128, \"normalize_source\": false, \"normalize_target\": false, \"num_examples_per_domain_per_label_source\": -1, \"num_examples_per_domain_per_label_target\": -1, \"torch_default_dtype\": \"torch.float32\", \"n_epoch\": 50, \"patience\": 3, \"criteria_for_best\": \"target_accuracy\", \"x_net\": [{\"class\": \"nnReshape\", \"kargs\": {\"shape\": [-1, 1, 2, 256]}}, {\"class\": \"Conv2d\", \"kargs\": {\"in_channels\": 1, \"out_channels\": 256, \"kernel_size\": [1, 7], \"bias\": false, \"padding\": [0, 3]}}, {\"class\": \"ReLU\", \"kargs\": {\"inplace\": true}}, {\"class\": \"BatchNorm2d\", \"kargs\": {\"num_features\": 256}}, {\"class\": \"Conv2d\", \"kargs\": {\"in_channels\": 256, \"out_channels\": 80, \"kernel_size\": [2, 7], \"bias\": true, \"padding\": [0, 3]}}, {\"class\": \"ReLU\", \"kargs\": {\"inplace\": true}}, {\"class\": \"BatchNorm2d\", \"kargs\": {\"num_features\": 80}}, {\"class\": \"Flatten\", \"kargs\": {}}, {\"class\": \"Linear\", \"kargs\": {\"in_features\": 20480, \"out_features\": 256}}, {\"class\": \"ReLU\", \"kargs\": {\"inplace\": true}}, {\"class\": \"BatchNorm1d\", \"kargs\": {\"num_features\": 256}}, {\"class\": \"Linear\", \"kargs\": {\"in_features\": 256, \"out_features\": 16}}], \"NUM_LOGS_PER_EPOCH\": 10, \"BEST_MODEL_PATH\": \"./best_model.pth\", \"dataset_seed\": 420, \"seed\": 420}, \"results\": {\"source_test_label_accuracy\": 0.7573194444444444, \"source_test_label_loss\": 0.6395002007484436, \"target_test_label_accuracy\": 0.08258333333333333, \"target_test_label_loss\": 12.466494688347204, \"source_val_label_accuracy\": 0.7584861111111111, \"source_val_label_loss\": 0.6375793663265439, \"target_val_label_accuracy\": 0.08210833333333334, \"target_val_label_loss\": 12.46161654051433, \"total_epochs_trained\": 7, \"total_experiment_time_secs\": 270.1527488231659, \"confusion\": {\"14\": {\"7\": {\"11\": 1471, \"3\": 29}, \"8\": {\"2\": 994, \"9\": 364, \"11\": 137, \"6\": 3, \"3\": 2}, \"3\": {\"3\": 1063, \"11\": 436, \"9\": 1}, \"6\": {\"3\": 1470, \"11\": 30}, \"15\": {\"11\": 1500}, \"12\": {\"2\": 1440, \"9\": 60}, \"2\": {\"3\": 1403, \"11\": 77, \"2\": 20}, \"10\": {\"2\": 1363, \"3\": 137}, \"0\": {\"3\": 1206, \"2\": 200, \"11\": 57, \"9\": 37}, \"14\": {\"3\": 1498, \"11\": 2}, \"4\": {\"2\": 1100, \"3\": 399, \"11\": 1}, \"11\": {\"7\": 1480, \"12\": 6, \"4\": 7, \"6\": 2, \"8\": 5}, \"13\": {\"3\": 1340, \"11\": 160}, \"5\": {\"3\": 1218, \"11\": 200, \"2\": 82}, \"9\": {\"2\": 1500}, \"1\": {\"2\": 1472, \"7\": 28}}, \"44\": {\"4\": {\"4\": 867, \"9\": 116, \"11\": 212, \"15\": 292, \"6\": 12, \"5\": 1}, \"6\": {\"4\": 1453, \"15\": 47}, \"12\": {\"3\": 1438, \"8\": 60, \"14\": 1, \"4\": 1}, \"0\": {\"13\": 294, \"11\": 294, \"2\": 4, \"1\": 205, \"8\": 275, \"0\": 88, \"6\": 321, \"12\": 19}, \"13\": {\"4\": 1499, \"15\": 1}, \"1\": {\"15\": 109, \"5\": 1323, \"8\": 64, \"9\": 4}, \"15\": {\"11\": 566, \"9\": 162, \"6\": 579, \"12\": 180, \"15\": 4, \"4\": 3, \"5\": 6}, \"11\": {\"4\": 1500}, \"10\": {\"15\": 978, \"5\": 138, \"9\": 383, \"8\": 1}, \"3\": {\"4\": 344, \"8\": 763, \"0\": 4, \"14\": 35, \"3\": 286, \"13\": 57, \"2\": 11}, \"14\": {\"6\": 235, \"15\": 598, \"9\": 292, \"4\": 236, \"11\": 99, \"5\": 40}, \"9\": {\"4\": 672, \"9\": 229, \"15\": 599}, \"5\": {\"6\": 868, \"5\": 480, \"4\": 99, \"11\": 8, \"7\": 36, \"15\": 9}, \"8\": {\"6\": 1041, \"12\": 226, \"0\": 60, \"11\": 76, \"8\": 49, \"2\": 4, \"1\": 22, \"13\": 18, \"7\": 3, \"5\": 1}, \"7\": {\"9\": 438, \"15\": 1033, \"4\": 29}, \"2\": {\"15\": 1436, \"5\": 62, \"9\": 2}}, \"20\": {\"5\": {\"2\": 1496, \"15\": 4}, \"4\": {\"12\": 998, \"2\": 392, \"15\": 23, \"7\": 87}, \"0\": {\"2\": 1462, \"3\": 34, \"15\": 4}, \"8\": {\"12\": 319, \"2\": 1145, \"15\": 33, \"3\": 3}, \"7\": {\"2\": 1483, \"7\": 11, \"12\": 6}, \"15\": {\"2\": 1483, \"13\": 17}, \"11\": {\"2\": 1497, \"3\": 3}, \"14\": {\"12\": 1132, \"2\": 361, \"3\": 4, \"15\": 2, \"7\": 1}, \"10\": {\"12\": 1311, \"7\": 187, \"2\": 2}, \"2\": {\"2\": 1485, \"7\": 14, \"12\": 1}, \"3\": {\"2\": 1491, \"12\": 2, \"15\": 7}, \"13\": {\"2\": 1422, \"7\": 76, \"13\": 2}, \"6\": {\"2\": 801, \"7\": 253, \"12\": 446}, \"1\": {\"2\": 1499, \"15\": 1}, \"9\": {\"2\": 1500}, \"12\": {\"2\": 1489, \"7\": 7, \"15\": 2, \"12\": 2}}, \"38\": {\"4\": {\"4\": 1500}, \"2\": {\"5\": 399, \"7\": 1099, \"3\": 1, \"4\": 1}, \"9\": {\"9\": 1473, \"11\": 9, \"4\": 15, \"12\": 2, \"15\": 1}, \"14\": {\"5\": 534, \"7\": 947, \"4\": 19}, \"8\": {\"11\": 290, \"4\": 360, \"15\": 583, \"6\": 52, \"1\": 91, \"5\": 92, \"13\": 24, \"9\": 8}, \"6\": {\"9\": 639, \"13\": 84, \"0\": 191, \"2\": 254, \"1\": 273, \"14\": 34, \"4\": 25}, \"3\": {\"4\": 1500}, \"5\": {\"11\": 639, \"4\": 136, \"1\": 108, \"15\": 390, \"5\": 50, \"9\": 88, \"13\": 16, \"6\": 73}, \"13\": {\"4\": 1162, \"7\": 338}, \"7\": {\"4\": 1349, \"15\": 146, \"9\": 5}, \"10\": {\"4\": 1472, \"7\": 28}, \"0\": {\"4\": 1498, \"9\": 1, \"15\": 1}, \"15\": {\"13\": 482, \"1\": 828, \"11\": 141, \"10\": 6, \"6\": 33, \"8\": 8, \"5\": 2}, \"1\": {\"2\": 43, \"1\": 190, \"0\": 1248, \"9\": 13, \"10\": 6}, \"11\": {\"4\": 905, \"7\": 595}, \"12\": {\"13\": 171, \"15\": 1329}}, \"8\": {\"14\": {\"14\": 1480, \"4\": 15, \"5\": 4, \"0\": 1}, \"12\": {\"2\": 142, \"12\": 724, \"15\": 634}, \"10\": {\"10\": 1270, \"5\": 208, \"13\": 21, \"1\": 1}, \"6\": {\"7\": 48, \"4\": 565, \"10\": 295, \"13\": 161, \"6\": 412, \"14\": 16, \"1\": 3}, \"0\": {\"0\": 1500}, \"9\": {\"9\": 1500}, \"11\": {\"1\": 372, \"11\": 882, \"5\": 109, \"14\": 120, \"10\": 8, \"4\": 9}, \"15\": {\"15\": 1308, \"2\": 113, \"12\": 79}, \"5\": {\"5\": 1451, \"10\": 41, \"1\": 3, \"14\": 4, \"11\": 1}, \"2\": {\"2\": 1451, \"3\": 38, \"15\": 7, \"12\": 2, \"7\": 2}, \"13\": {\"10\": 680, \"13\": 803, \"5\": 12, \"7\": 1, \"6\": 3, \"4\": 1}, \"7\": {\"13\": 479, \"7\": 465, \"6\": 410, \"10\": 59, \"4\": 87}, \"1\": {\"1\": 853, \"5\": 469, \"11\": 99, \"10\": 49, \"14\": 28, \"13\": 1, \"4\": 1}, \"4\": {\"14\": 578, \"10\": 121, \"4\": 795, \"5\": 3, \"11\": 1, \"1\": 2}, \"8\": {\"8\": 972, \"14\": 136, \"11\": 243, \"6\": 16, \"4\": 130, \"1\": 3}, \"3\": {\"3\": 1211, \"2\": 289}}, \"32\": {\"7\": {\"14\": 150, \"5\": 824, \"0\": 256, \"7\": 112, \"8\": 158}, \"5\": {\"5\": 1000, \"8\": 430, \"15\": 7, \"0\": 50, \"14\": 6, \"11\": 4, \"9\": 1, \"7\": 2}, \"1\": {\"1\": 1478, \"8\": 22}, \"10\": {\"10\": 1500}, \"13\": {\"13\": 1144, \"3\": 319, \"4\": 26, \"11\": 10, \"8\": 1}, \"2\": {\"4\": 748, \"2\": 643, \"8\": 25, \"13\": 68, \"0\": 13, \"14\": 1, \"1\": 1, \"9\": 1}, \"8\": {\"8\": 1469, \"0\": 16, \"15\": 6, \"5\": 6, \"13\": 1, \"3\": 2}, \"6\": {\"6\": 1500}, \"4\": {\"13\": 723, \"4\": 705, \"2\": 31, \"8\": 20, \"3\": 21}, \"3\": {\"3\": 1475, \"13\": 25}, \"12\": {\"12\": 1497, \"9\": 2, \"10\": 1}, \"11\": {\"11\": 1422, \"13\": 71, \"3\": 7}, \"0\": {\"0\": 742, \"8\": 718, \"15\": 3, \"5\": 22, \"14\": 3, \"11\": 7, \"1\": 5}, \"14\": {\"0\": 220, \"14\": 756, \"5\": 211, \"8\": 223, \"2\": 22, \"7\": 38, \"4\": 21, \"3\": 9}, \"15\": {\"15\": 1498, \"8\": 2}, \"9\": {\"9\": 1165, \"12\": 58, \"14\": 187, \"0\": 24, \"2\": 35, \"1\": 26, \"4\": 1, \"11\": 1, \"13\": 3}}, \"26\": {\"6\": {\"12\": 968, \"9\": 501, \"11\": 30, \"13\": 1}, \"11\": {\"6\": 1109, \"9\": 84, \"12\": 272, \"2\": 32, \"0\": 3}, \"15\": {\"9\": 798, \"12\": 190, \"11\": 511, \"13\": 1}, \"3\": {\"3\": 1157, \"11\": 341, \"9\": 2}, \"10\": {\"12\": 1388, \"9\": 78, \"3\": 19, \"11\": 15}, \"0\": {\"12\": 1241, \"3\": 184, \"9\": 47, \"11\": 28}, \"14\": {\"12\": 1470, \"3\": 16, \"9\": 8, \"11\": 6}, \"13\": {\"9\": 1101, \"3\": 109, \"11\": 266, \"2\": 23, \"6\": 1}, \"9\": {\"3\": 587, \"9\": 436, \"12\": 20, \"11\": 457}, \"4\": {\"3\": 1500}, \"2\": {\"3\": 341, \"11\": 1029, \"9\": 103, \"12\": 26, \"13\": 1}, \"12\": {\"3\": 365, \"9\": 659, \"12\": 461, \"2\": 3, \"6\": 12}, \"8\": {\"11\": 171, \"3\": 996, \"9\": 169, \"12\": 164}, \"1\": {\"12\": 1497, \"9\": 3}, \"7\": {\"12\": 19, \"3\": 1215, \"11\": 254, \"9\": 11, \"13\": 1}, \"5\": {\"9\": 1037, \"11\": 404, \"12\": 59}}, \"50\": {\"3\": {\"3\": 1499, \"13\": 1}, \"13\": {\"13\": 1499, \"1\": 1}, \"10\": {\"10\": 1481, \"8\": 6, \"1\": 10, \"0\": 1, \"13\": 2}, \"1\": {\"1\": 1450, \"13\": 49, \"10\": 1}, \"8\": {\"8\": 1408, \"13\": 42, \"10\": 47, \"1\": 3}, \"5\": {\"5\": 962, \"7\": 190, \"13\": 140, \"15\": 22, \"6\": 77, \"4\": 88, \"11\": 20, \"1\": 1}, \"12\": {\"12\": 558, \"9\": 742, \"11\": 186, \"5\": 11, \"0\": 3}, \"6\": {\"5\": 294, \"6\": 1006, \"15\": 185, \"11\": 9, \"4\": 5, \"13\": 1}, \"7\": {\"5\": 90, \"7\": 1279, \"4\": 131}, \"15\": {\"15\": 1252, \"11\": 116, \"6\": 72, \"5\": 26, \"4\": 20, \"9\": 14}, \"2\": {\"2\": 851, \"0\": 448, \"9\": 141, \"12\": 48, \"14\": 12}, \"11\": {\"11\": 1427, \"15\": 58, \"9\": 15}, \"14\": {\"9\": 584, \"14\": 907, \"13\": 6, \"12\": 2, \"2\": 1}, \"4\": {\"4\": 1341, \"15\": 16, \"7\": 80, \"5\": 59, \"6\": 4}, \"0\": {\"0\": 1226, \"10\": 263, \"2\": 10, \"1\": 1}, \"9\": {\"15\": 72, \"9\": 1282, \"11\": 142, \"12\": 3, \"0\": 1}}}, \"per_domain_accuracy\": {\"14\": {\"accuracy\": 0.045125, \"source?\": false}, \"44\": {\"accuracy\": 0.08345833333333333, \"source?\": false}, \"20\": {\"accuracy\": 0.0625, \"source?\": false}, \"38\": {\"accuracy\": 0.133875, \"source?\": false}, \"8\": {\"accuracy\": 0.7115416666666666, \"source?\": true}, \"32\": {\"accuracy\": 0.7544166666666666, \"source?\": true}, \"26\": {\"accuracy\": 0.08558333333333333, \"source?\": false}, \"50\": {\"accuracy\": 0.8095, \"source?\": true}}}, \"history\": {\"epoch_indices\": [1, 2, 3, 4, 5, 6, 7], \"train_label_loss\": [1.680351715110597, 0.8415593957673936, 0.5790646883078984, 0.4572197762103308, 0.38390741561708, 0.32728175934155784, 0.2877025260187331], \"source_val_label_loss\": [1.1402049219206003, 0.6137724011130697, 0.6372985041586163, 0.43735080660977543, 0.41572644380227286, 0.42395263518575665, 0.49582263213279615], \"target_val_label_loss\": [6.871477927226247, 10.538744640757026, 12.461505679433534, 14.615270731545715, 15.594109553518072, 17.167992555256337, 18.73998394703814], \"source_val_acc_label\": [0.6161805555555555, 0.7991805555555556, 0.7584861111111111, 0.83925, 0.84225, 0.8354722222222222, 0.8114861111111111], \"target_val_acc_label\": [0.060908333333333335, 0.078625, 0.08210833333333334, 0.06661666666666667, 0.07115, 0.0714, 0.0576]}, \"dataset_metrics\": {\"source\": {\"train\": {\"n_unique_x\": 336000, \"n_unique_y\": 16, \"n_batch/episode\": 2625}, \"val\": {\"n_unique_x\": 72000, \"n_unique_y\": 16, \"n_batch/episode\": 563}, \"test\": {\"n_unique_x\": 72000, \"n_unique_y\": 16, \"n_batch/episode\": 563}}, \"target\": {\"train\": {\"n_unique_x\": 560000, \"n_unique_y\": 16, \"n_batch/episode\": 4375}, \"val\": {\"n_unique_x\": 120000, \"n_unique_y\": 16, \"n_batch/episode\": 938}, \"test\": {\"n_unique_x\": 120000, \"n_unique_y\": 16, \"n_batch/episode\": 938}}}}'"
      ]
     },
     "execution_count": 20,
     "metadata": {},
     "output_type": "execute_result"
    }
   ],
   "source": [
    "json.dumps(experiment)"
   ]
  }
 ],
 "metadata": {
  "celltoolbar": "Tags",
  "kernelspec": {
   "display_name": "Python 3 (ipykernel)",
   "language": "python",
   "name": "python3"
  },
  "language_info": {
   "codemirror_mode": {
    "name": "ipython",
    "version": 3
   },
   "file_extension": ".py",
   "mimetype": "text/x-python",
   "name": "python",
   "nbconvert_exporter": "python",
   "pygments_lexer": "ipython3",
   "version": "3.8.12"
  },
  "papermill": {
   "default_parameters": {},
   "duration": 330.194454,
   "end_time": "2022-03-25T21:55:54.325885",
   "environment_variables": {},
   "exception": null,
   "input_path": "/root/csc500-main/csc500-notebooks/templates/cnn_template.ipynb",
   "output_path": "trial.ipynb",
   "parameters": {
    "parameters": {
     "BEST_MODEL_PATH": "./best_model.pth",
     "NUM_LOGS_PER_EPOCH": 10,
     "batch_size": 128,
     "criteria_for_best": "target_accuracy",
     "dataset_seed": 420,
     "device": "cuda",
     "domains_source": [
      8,
      32,
      50
     ],
     "domains_target": [
      14,
      20,
      26,
      38,
      44
     ],
     "experiment_name": "cnn_1:oracle.run1",
     "labels": [
      "3123D52",
      "3123D65",
      "3123D79",
      "3123D80",
      "3123D54",
      "3123D70",
      "3123D7B",
      "3123D89",
      "3123D58",
      "3123D76",
      "3123D7D",
      "3123EFE",
      "3123D64",
      "3123D78",
      "3123D7E",
      "3124E4A"
     ],
     "lr": 0.0001,
     "n_epoch": 50,
     "normalize_source": false,
     "normalize_target": false,
     "num_examples_per_domain_per_label_source": -1,
     "num_examples_per_domain_per_label_target": -1,
     "patience": 3,
     "pickle_name_source": "oracle.Run1_10kExamples_stratified_ds.2022A.pkl",
     "pickle_name_target": "oracle.Run1_10kExamples_stratified_ds.2022A.pkl",
     "seed": 420,
     "torch_default_dtype": "torch.float32",
     "x_net": [
      {
       "class": "nnReshape",
       "kargs": {
        "shape": [
         -1,
         1,
         2,
         256
        ]
       }
      },
      {
       "class": "Conv2d",
       "kargs": {
        "bias": false,
        "in_channels": 1,
        "kernel_size": [
         1,
         7
        ],
        "out_channels": 256,
        "padding": [
         0,
         3
        ]
       }
      },
      {
       "class": "ReLU",
       "kargs": {
        "inplace": true
       }
      },
      {
       "class": "BatchNorm2d",
       "kargs": {
        "num_features": 256
       }
      },
      {
       "class": "Conv2d",
       "kargs": {
        "bias": true,
        "in_channels": 256,
        "kernel_size": [
         2,
         7
        ],
        "out_channels": 80,
        "padding": [
         0,
         3
        ]
       }
      },
      {
       "class": "ReLU",
       "kargs": {
        "inplace": true
       }
      },
      {
       "class": "BatchNorm2d",
       "kargs": {
        "num_features": 80
       }
      },
      {
       "class": "Flatten",
       "kargs": {}
      },
      {
       "class": "Linear",
       "kargs": {
        "in_features": 20480,
        "out_features": 256
       }
      },
      {
       "class": "ReLU",
       "kargs": {
        "inplace": true
       }
      },
      {
       "class": "BatchNorm1d",
       "kargs": {
        "num_features": 256
       }
      },
      {
       "class": "Linear",
       "kargs": {
        "in_features": 256,
        "out_features": 16
       }
      }
     ]
    }
   },
   "start_time": "2022-03-25T21:50:24.131431",
   "version": "2.3.4"
  }
 },
 "nbformat": 4,
 "nbformat_minor": 5
}