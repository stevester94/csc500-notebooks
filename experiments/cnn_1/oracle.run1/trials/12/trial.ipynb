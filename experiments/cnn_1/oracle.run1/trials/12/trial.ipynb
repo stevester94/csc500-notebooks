{
 "cells": [
  {
   "cell_type": "code",
   "execution_count": 1,
   "id": "2324682e",
   "metadata": {
    "execution": {
     "iopub.execute_input": "2022-03-25T22:37:36.224142Z",
     "iopub.status.busy": "2022-03-25T22:37:36.223260Z",
     "iopub.status.idle": "2022-03-25T22:37:37.547171Z",
     "shell.execute_reply": "2022-03-25T22:37:37.546305Z"
    },
    "papermill": {
     "duration": 1.360428,
     "end_time": "2022-03-25T22:37:37.547361",
     "exception": false,
     "start_time": "2022-03-25T22:37:36.186933",
     "status": "completed"
    },
    "tags": []
   },
   "outputs": [],
   "source": [
    "import os, json, sys, time, random\n",
    "import numpy as np\n",
    "import torch\n",
    "from  easydict import EasyDict\n",
    "from math import floor\n",
    "from easydict import EasyDict\n",
    "\n",
    "from steves_utils.vanilla_train_eval_test_jig import  Vanilla_Train_Eval_Test_Jig\n",
    "\n",
    "from steves_utils.torch_utils import get_dataset_metrics, independent_accuracy_assesment\n",
    "from steves_models.configurable_vanilla import Configurable_Vanilla\n",
    "from steves_utils.torch_sequential_builder import build_sequential\n",
    "from steves_utils.lazy_map import Lazy_Map\n",
    "from steves_utils.sequence_aggregator import Sequence_Aggregator\n",
    "\n",
    "from steves_utils.stratified_dataset.traditional_accessor import Traditional_Accessor_Factory\n",
    "\n",
    "from steves_utils.cnn_do_report import (\n",
    "    get_loss_curve,\n",
    "    get_results_table,\n",
    "    get_parameters_table,\n",
    "    get_domain_accuracies,\n",
    ")\n",
    "\n",
    "from steves_utils.torch_utils import (\n",
    "    confusion_by_domain_over_dataloader,\n",
    "    independent_accuracy_assesment\n",
    ")\n",
    "\n",
    "from steves_utils.utils_v2 import (\n",
    "    per_domain_accuracy_from_confusion,\n",
    "    get_datasets_base_path\n",
    ")\n",
    "\n",
    "# from steves_utils.ptn_do_report import TBD"
   ]
  },
  {
   "cell_type": "code",
   "execution_count": 2,
   "id": "1b29e3fe",
   "metadata": {
    "execution": {
     "iopub.execute_input": "2022-03-25T22:37:37.587996Z",
     "iopub.status.busy": "2022-03-25T22:37:37.587594Z",
     "iopub.status.idle": "2022-03-25T22:37:37.589854Z",
     "shell.execute_reply": "2022-03-25T22:37:37.589526Z"
    },
    "papermill": {
     "duration": 0.021466,
     "end_time": "2022-03-25T22:37:37.589932",
     "exception": false,
     "start_time": "2022-03-25T22:37:37.568466",
     "status": "completed"
    },
    "tags": []
   },
   "outputs": [],
   "source": [
    "required_parameters = {\n",
    "    \"experiment_name\",\n",
    "    \"lr\",\n",
    "    \"device\",\n",
    "    \"dataset_seed\",\n",
    "    \"seed\",\n",
    "    \"labels\",\n",
    "    \"domains_target\",\n",
    "    \"domains_source\",\n",
    "    \"num_examples_per_domain_per_label_source\",\n",
    "    \"num_examples_per_domain_per_label_target\",\n",
    "    \"batch_size\",\n",
    "    \"n_epoch\",\n",
    "    \"patience\",\n",
    "    \"criteria_for_best\",\n",
    "    \"normalize_source\",\n",
    "    \"normalize_target\",\n",
    "    \"x_net\",\n",
    "    \"NUM_LOGS_PER_EPOCH\",\n",
    "    \"BEST_MODEL_PATH\",\n",
    "    \"pickle_name_source\",\n",
    "    \"pickle_name_target\",\n",
    "    \"torch_default_dtype\",\n",
    "}"
   ]
  },
  {
   "cell_type": "code",
   "execution_count": 3,
   "id": "670b5fb8",
   "metadata": {
    "execution": {
     "iopub.execute_input": "2022-03-25T22:37:37.635992Z",
     "iopub.status.busy": "2022-03-25T22:37:37.624368Z",
     "iopub.status.idle": "2022-03-25T22:37:37.644992Z",
     "shell.execute_reply": "2022-03-25T22:37:37.644272Z"
    },
    "papermill": {
     "duration": 0.036549,
     "end_time": "2022-03-25T22:37:37.645159",
     "exception": false,
     "start_time": "2022-03-25T22:37:37.608610",
     "status": "completed"
    },
    "tags": [
     "parameters"
    ]
   },
   "outputs": [],
   "source": [
    "from steves_utils.ORACLE.utils_v2 import (\n",
    "    ALL_SERIAL_NUMBERS,\n",
    "    ALL_DISTANCES_FEET_NARROWED,\n",
    ")\n",
    "\n",
    "standalone_parameters = {}\n",
    "standalone_parameters[\"experiment_name\"] = \"MANUAL CORES CNN\"\n",
    "standalone_parameters[\"lr\"] = 0.0001\n",
    "standalone_parameters[\"device\"] = \"cuda\"\n",
    "\n",
    "standalone_parameters[\"dataset_seed\"] = 1337\n",
    "standalone_parameters[\"seed\"] = 1337\n",
    "standalone_parameters[\"labels\"] = ALL_SERIAL_NUMBERS\n",
    "\n",
    "standalone_parameters[\"domains_source\"] = [8,32,50]\n",
    "standalone_parameters[\"domains_target\"] = [14,20,26,38,44,]\n",
    "\n",
    "standalone_parameters[\"num_examples_per_domain_per_label_source\"]=-1\n",
    "standalone_parameters[\"num_examples_per_domain_per_label_target\"]=-1\n",
    "\n",
    "standalone_parameters[\"pickle_name_source\"] = \"oracle.Run1_framed_2000Examples_stratified_ds.2022A.pkl\"\n",
    "standalone_parameters[\"pickle_name_target\"] = \"oracle.Run2_framed_2000Examples_stratified_ds.2022A.pkl\"\n",
    "\n",
    "standalone_parameters[\"torch_default_dtype\"] = \"torch.float32\" \n",
    "\n",
    "standalone_parameters[\"batch_size\"]=128\n",
    "\n",
    "standalone_parameters[\"n_epoch\"] = 3\n",
    "\n",
    "standalone_parameters[\"patience\"] = 10\n",
    "\n",
    "standalone_parameters[\"criteria_for_best\"] = \"target_accuracy\"\n",
    "standalone_parameters[\"normalize_source\"] = False\n",
    "standalone_parameters[\"normalize_target\"] = False\n",
    "\n",
    "standalone_parameters[\"x_net\"] =     [\n",
    "    {\"class\": \"nnReshape\", \"kargs\": {\"shape\":[-1, 1, 2, 256]}},\n",
    "    {\"class\": \"Conv2d\", \"kargs\": { \"in_channels\":1, \"out_channels\":256, \"kernel_size\":(1,7), \"bias\":False, \"padding\":(0,3), },},\n",
    "    {\"class\": \"ReLU\", \"kargs\": {\"inplace\": True}},\n",
    "    {\"class\": \"BatchNorm2d\", \"kargs\": {\"num_features\":256}},\n",
    "\n",
    "    {\"class\": \"Conv2d\", \"kargs\": { \"in_channels\":256, \"out_channels\":80, \"kernel_size\":(2,7), \"bias\":True, \"padding\":(0,3), },},\n",
    "    {\"class\": \"ReLU\", \"kargs\": {\"inplace\": True}},\n",
    "    {\"class\": \"BatchNorm2d\", \"kargs\": {\"num_features\":80}},\n",
    "    {\"class\": \"Flatten\", \"kargs\": {}},\n",
    "\n",
    "    {\"class\": \"Linear\", \"kargs\": {\"in_features\": 80*256, \"out_features\": 256}}, # 80 units per IQ pair\n",
    "    {\"class\": \"ReLU\", \"kargs\": {\"inplace\": True}},\n",
    "    {\"class\": \"BatchNorm1d\", \"kargs\": {\"num_features\":256}},\n",
    "\n",
    "    {\"class\": \"Linear\", \"kargs\": {\"in_features\": 256, \"out_features\": len(standalone_parameters[\"labels\"])}},\n",
    "]\n",
    "\n",
    "standalone_parameters[\"NUM_LOGS_PER_EPOCH\"] = 10\n",
    "standalone_parameters[\"BEST_MODEL_PATH\"] = \"./best_model.pth\""
   ]
  },
  {
   "cell_type": "code",
   "execution_count": 4,
   "id": "6147a8a2",
   "metadata": {
    "execution": {
     "iopub.execute_input": "2022-03-25T22:37:37.693243Z",
     "iopub.status.busy": "2022-03-25T22:37:37.692073Z",
     "iopub.status.idle": "2022-03-25T22:37:37.694917Z",
     "shell.execute_reply": "2022-03-25T22:37:37.694211Z"
    },
    "papermill": {
     "duration": 0.02996,
     "end_time": "2022-03-25T22:37:37.695079",
     "exception": false,
     "start_time": "2022-03-25T22:37:37.665119",
     "status": "completed"
    },
    "tags": [
     "injected-parameters"
    ]
   },
   "outputs": [],
   "source": [
    "# Parameters\n",
    "parameters = {\n",
    "    \"experiment_name\": \"cnn_1:oracle.run1\",\n",
    "    \"domains_source\": [8, 32, 50],\n",
    "    \"domains_target\": [14, 20, 26, 38, 44],\n",
    "    \"labels\": [\n",
    "        \"3123D52\",\n",
    "        \"3123D65\",\n",
    "        \"3123D79\",\n",
    "        \"3123D80\",\n",
    "        \"3123D54\",\n",
    "        \"3123D70\",\n",
    "        \"3123D7B\",\n",
    "        \"3123D89\",\n",
    "        \"3123D58\",\n",
    "        \"3123D76\",\n",
    "        \"3123D7D\",\n",
    "        \"3123EFE\",\n",
    "        \"3123D64\",\n",
    "        \"3123D78\",\n",
    "        \"3123D7E\",\n",
    "        \"3124E4A\",\n",
    "    ],\n",
    "    \"pickle_name_source\": \"oracle.Run1_10kExamples_stratified_ds.2022A.pkl\",\n",
    "    \"pickle_name_target\": \"oracle.Run1_10kExamples_stratified_ds.2022A.pkl\",\n",
    "    \"device\": \"cuda\",\n",
    "    \"lr\": 0.0001,\n",
    "    \"batch_size\": 128,\n",
    "    \"normalize_source\": False,\n",
    "    \"normalize_target\": False,\n",
    "    \"num_examples_per_domain_per_label_source\": -1,\n",
    "    \"num_examples_per_domain_per_label_target\": -1,\n",
    "    \"torch_default_dtype\": \"torch.float32\",\n",
    "    \"n_epoch\": 50,\n",
    "    \"patience\": 3,\n",
    "    \"criteria_for_best\": \"target_accuracy\",\n",
    "    \"x_net\": [\n",
    "        {\"class\": \"nnReshape\", \"kargs\": {\"shape\": [-1, 1, 2, 256]}},\n",
    "        {\n",
    "            \"class\": \"Conv2d\",\n",
    "            \"kargs\": {\n",
    "                \"in_channels\": 1,\n",
    "                \"out_channels\": 256,\n",
    "                \"kernel_size\": [1, 7],\n",
    "                \"bias\": False,\n",
    "                \"padding\": [0, 3],\n",
    "            },\n",
    "        },\n",
    "        {\"class\": \"ReLU\", \"kargs\": {\"inplace\": True}},\n",
    "        {\"class\": \"BatchNorm2d\", \"kargs\": {\"num_features\": 256}},\n",
    "        {\n",
    "            \"class\": \"Conv2d\",\n",
    "            \"kargs\": {\n",
    "                \"in_channels\": 256,\n",
    "                \"out_channels\": 80,\n",
    "                \"kernel_size\": [2, 7],\n",
    "                \"bias\": True,\n",
    "                \"padding\": [0, 3],\n",
    "            },\n",
    "        },\n",
    "        {\"class\": \"ReLU\", \"kargs\": {\"inplace\": True}},\n",
    "        {\"class\": \"BatchNorm2d\", \"kargs\": {\"num_features\": 80}},\n",
    "        {\"class\": \"Flatten\", \"kargs\": {}},\n",
    "        {\"class\": \"Linear\", \"kargs\": {\"in_features\": 20480, \"out_features\": 256}},\n",
    "        {\"class\": \"ReLU\", \"kargs\": {\"inplace\": True}},\n",
    "        {\"class\": \"BatchNorm1d\", \"kargs\": {\"num_features\": 256}},\n",
    "        {\"class\": \"Linear\", \"kargs\": {\"in_features\": 256, \"out_features\": 16}},\n",
    "    ],\n",
    "    \"NUM_LOGS_PER_EPOCH\": 10,\n",
    "    \"BEST_MODEL_PATH\": \"./best_model.pth\",\n",
    "    \"dataset_seed\": 7,\n",
    "    \"seed\": 7,\n",
    "}\n"
   ]
  },
  {
   "cell_type": "code",
   "execution_count": 5,
   "id": "759b56ec",
   "metadata": {
    "execution": {
     "iopub.execute_input": "2022-03-25T22:37:37.735286Z",
     "iopub.status.busy": "2022-03-25T22:37:37.734899Z",
     "iopub.status.idle": "2022-03-25T22:37:37.736461Z",
     "shell.execute_reply": "2022-03-25T22:37:37.736774Z"
    },
    "papermill": {
     "duration": 0.020038,
     "end_time": "2022-03-25T22:37:37.736875",
     "exception": false,
     "start_time": "2022-03-25T22:37:37.716837",
     "status": "completed"
    },
    "tags": []
   },
   "outputs": [],
   "source": [
    "# Set this to True if you want to run this template directly\n",
    "STANDALONE = False\n",
    "if STANDALONE:\n",
    "    print(\"parameters not injected, running with standalone_parameters\")\n",
    "    parameters = standalone_parameters\n",
    "\n",
    "if not 'parameters' in locals() and not 'parameters' in globals():\n",
    "    raise Exception(\"Parameter injection failed\")\n",
    "\n",
    "#Use an easy dict for all the parameters\n",
    "p = EasyDict(parameters)\n",
    "\n",
    "supplied_keys = set(p.keys())\n",
    "\n",
    "if  supplied_keys != required_parameters:\n",
    "    print(\"Parameters are incorrect\")\n",
    "    if len(supplied_keys - required_parameters)>0: print(\"Shouldn't have:\", str(supplied_keys - required_parameters))\n",
    "    if len(required_parameters - supplied_keys)>0: print(\"Need to have:\", str(required_parameters - supplied_keys))\n",
    "    raise RuntimeError(\"Parameters are incorrect\")\n",
    "\n"
   ]
  },
  {
   "cell_type": "code",
   "execution_count": 6,
   "id": "d5c66a71",
   "metadata": {
    "execution": {
     "iopub.execute_input": "2022-03-25T22:37:37.782281Z",
     "iopub.status.busy": "2022-03-25T22:37:37.781715Z",
     "iopub.status.idle": "2022-03-25T22:37:37.785209Z",
     "shell.execute_reply": "2022-03-25T22:37:37.784720Z"
    },
    "papermill": {
     "duration": 0.024974,
     "end_time": "2022-03-25T22:37:37.785323",
     "exception": false,
     "start_time": "2022-03-25T22:37:37.760349",
     "status": "completed"
    },
    "tags": []
   },
   "outputs": [],
   "source": [
    "###################################\n",
    "# Set the RNGs and make it all deterministic\n",
    "###################################\n",
    "np.random.seed(p.seed)\n",
    "random.seed(p.seed)\n",
    "torch.manual_seed(p.seed)\n",
    "\n",
    "torch.use_deterministic_algorithms(True) "
   ]
  },
  {
   "cell_type": "code",
   "execution_count": 7,
   "id": "92a65876",
   "metadata": {
    "execution": {
     "iopub.execute_input": "2022-03-25T22:37:37.821492Z",
     "iopub.status.busy": "2022-03-25T22:37:37.821128Z",
     "iopub.status.idle": "2022-03-25T22:37:37.823399Z",
     "shell.execute_reply": "2022-03-25T22:37:37.823713Z"
    },
    "papermill": {
     "duration": 0.019957,
     "end_time": "2022-03-25T22:37:37.823795",
     "exception": false,
     "start_time": "2022-03-25T22:37:37.803838",
     "status": "completed"
    },
    "tags": []
   },
   "outputs": [],
   "source": [
    "torch.set_default_dtype(eval(p.torch_default_dtype))"
   ]
  },
  {
   "cell_type": "code",
   "execution_count": 8,
   "id": "f1a32f01",
   "metadata": {
    "execution": {
     "iopub.execute_input": "2022-03-25T22:37:37.857604Z",
     "iopub.status.busy": "2022-03-25T22:37:37.857239Z",
     "iopub.status.idle": "2022-03-25T22:37:37.897487Z",
     "shell.execute_reply": "2022-03-25T22:37:37.896785Z"
    },
    "papermill": {
     "duration": 0.05748,
     "end_time": "2022-03-25T22:37:37.897639",
     "exception": false,
     "start_time": "2022-03-25T22:37:37.840159",
     "status": "completed"
    },
    "tags": []
   },
   "outputs": [],
   "source": [
    "###################################\n",
    "# Build the network(s)\n",
    "# Note: It's critical to do this AFTER setting the RNG\n",
    "###################################\n",
    "x_net = build_sequential(p.x_net)"
   ]
  },
  {
   "cell_type": "code",
   "execution_count": 9,
   "id": "a276cd83",
   "metadata": {
    "execution": {
     "iopub.execute_input": "2022-03-25T22:37:37.934536Z",
     "iopub.status.busy": "2022-03-25T22:37:37.934174Z",
     "iopub.status.idle": "2022-03-25T22:37:37.936820Z",
     "shell.execute_reply": "2022-03-25T22:37:37.937118Z"
    },
    "papermill": {
     "duration": 0.020359,
     "end_time": "2022-03-25T22:37:37.937199",
     "exception": false,
     "start_time": "2022-03-25T22:37:37.916840",
     "status": "completed"
    },
    "tags": []
   },
   "outputs": [],
   "source": [
    "start_time_secs = time.time()"
   ]
  },
  {
   "cell_type": "code",
   "execution_count": 10,
   "id": "de702e48",
   "metadata": {
    "execution": {
     "iopub.execute_input": "2022-03-25T22:37:37.983861Z",
     "iopub.status.busy": "2022-03-25T22:37:37.982980Z",
     "iopub.status.idle": "2022-03-25T22:37:58.848852Z",
     "shell.execute_reply": "2022-03-25T22:37:58.848064Z"
    },
    "papermill": {
     "duration": 20.893991,
     "end_time": "2022-03-25T22:37:58.849035",
     "exception": false,
     "start_time": "2022-03-25T22:37:37.955044",
     "status": "completed"
    },
    "tags": []
   },
   "outputs": [],
   "source": [
    "def wrap_in_dataloader(p, ds):\n",
    "    return torch.utils.data.DataLoader(\n",
    "        ds,\n",
    "        batch_size=p.batch_size,\n",
    "        shuffle=True,\n",
    "        num_workers=1,\n",
    "        persistent_workers=True,\n",
    "        prefetch_factor=50,\n",
    "        pin_memory=True\n",
    "    )\n",
    "\n",
    "taf_source = Traditional_Accessor_Factory(\n",
    "    labels=p.labels,\n",
    "    domains=p.domains_source,\n",
    "    num_examples_per_domain_per_label=p.num_examples_per_domain_per_label_source,\n",
    "    pickle_path=os.path.join(get_datasets_base_path(), p.pickle_name_source),\n",
    "    seed=p.dataset_seed\n",
    ")\n",
    "train_original_source, val_original_source, test_original_source = \\\n",
    "    taf_source.get_train(), taf_source.get_val(), taf_source.get_test()\n",
    "\n",
    "\n",
    "taf_target = Traditional_Accessor_Factory(\n",
    "    labels=p.labels,\n",
    "    domains=p.domains_target,\n",
    "    num_examples_per_domain_per_label=p.num_examples_per_domain_per_label_source,\n",
    "    pickle_path=os.path.join(get_datasets_base_path(), p.pickle_name_target),\n",
    "    seed=p.dataset_seed\n",
    ")\n",
    "train_original_target, val_original_target, test_original_target = \\\n",
    "    taf_target.get_train(), taf_target.get_val(), taf_target.get_test()\n",
    "\n",
    "\n",
    "# For CNN We only use X and Y. And we only train on the source.\n",
    "# Properly form the data using a transform lambda and Lazy_Map. Finally wrap them in a dataloader\n",
    "\n",
    "transform_lambda = lambda ex: ex[:2] # Strip the tuple to just (x,y)\n",
    "\n",
    "\n",
    "train_processed_source = wrap_in_dataloader(\n",
    "    p,\n",
    "    Lazy_Map(train_original_source, transform_lambda)\n",
    ")\n",
    "val_processed_source = wrap_in_dataloader(\n",
    "    p,\n",
    "    Lazy_Map(val_original_source, transform_lambda)\n",
    ")\n",
    "test_processed_source = wrap_in_dataloader(\n",
    "    p,\n",
    "    Lazy_Map(test_original_source, transform_lambda)\n",
    ")\n",
    "\n",
    "train_processed_target = wrap_in_dataloader(\n",
    "    p,\n",
    "    Lazy_Map(train_original_target, transform_lambda)\n",
    ")\n",
    "val_processed_target = wrap_in_dataloader(\n",
    "    p,\n",
    "    Lazy_Map(val_original_target, transform_lambda)\n",
    ")\n",
    "test_processed_target  = wrap_in_dataloader(\n",
    "    p,\n",
    "    Lazy_Map(test_original_target, transform_lambda)\n",
    ")\n",
    "\n",
    "\n",
    "\n",
    "datasets = EasyDict({\n",
    "    \"source\": {\n",
    "        \"original\": {\"train\":train_original_source, \"val\":val_original_source, \"test\":test_original_source},\n",
    "        \"processed\": {\"train\":train_processed_source, \"val\":val_processed_source, \"test\":test_processed_source}\n",
    "    },\n",
    "    \"target\": {\n",
    "        \"original\": {\"train\":train_original_target, \"val\":val_original_target, \"test\":test_original_target},\n",
    "        \"processed\": {\"train\":train_processed_target, \"val\":val_processed_target, \"test\":test_processed_target}\n",
    "    },\n",
    "})"
   ]
  },
  {
   "cell_type": "code",
   "execution_count": 11,
   "id": "a11b26bd",
   "metadata": {
    "execution": {
     "iopub.execute_input": "2022-03-25T22:37:58.964407Z",
     "iopub.status.busy": "2022-03-25T22:37:58.963492Z",
     "iopub.status.idle": "2022-03-25T22:38:04.631732Z",
     "shell.execute_reply": "2022-03-25T22:38:04.630999Z"
    },
    "papermill": {
     "duration": 5.761989,
     "end_time": "2022-03-25T22:38:04.631913",
     "exception": false,
     "start_time": "2022-03-25T22:37:58.869924",
     "status": "completed"
    },
    "tags": []
   },
   "outputs": [
    {
     "data": {
      "text/plain": [
       "torch.float32"
      ]
     },
     "execution_count": 11,
     "metadata": {},
     "output_type": "execute_result"
    }
   ],
   "source": [
    "ep = next(iter(test_processed_target))\n",
    "ep[0].dtype"
   ]
  },
  {
   "cell_type": "code",
   "execution_count": 12,
   "id": "19425fad",
   "metadata": {
    "execution": {
     "iopub.execute_input": "2022-03-25T22:38:04.674916Z",
     "iopub.status.busy": "2022-03-25T22:38:04.674375Z",
     "iopub.status.idle": "2022-03-25T22:38:04.726228Z",
     "shell.execute_reply": "2022-03-25T22:38:04.725518Z"
    },
    "papermill": {
     "duration": 0.072767,
     "end_time": "2022-03-25T22:38:04.726386",
     "exception": false,
     "start_time": "2022-03-25T22:38:04.653619",
     "status": "completed"
    },
    "tags": []
   },
   "outputs": [],
   "source": [
    "model = Configurable_Vanilla(\n",
    "    x_net=x_net,\n",
    "    label_loss_object=torch.nn.NLLLoss(),\n",
    "    learning_rate=p.lr\n",
    ")"
   ]
  },
  {
   "cell_type": "code",
   "execution_count": 13,
   "id": "7f6d4f2c",
   "metadata": {
    "execution": {
     "iopub.execute_input": "2022-03-25T22:38:04.769257Z",
     "iopub.status.busy": "2022-03-25T22:38:04.768439Z",
     "iopub.status.idle": "2022-03-25T22:43:30.368121Z",
     "shell.execute_reply": "2022-03-25T22:43:30.367776Z"
    },
    "papermill": {
     "duration": 325.62184,
     "end_time": "2022-03-25T22:43:30.368210",
     "exception": false,
     "start_time": "2022-03-25T22:38:04.746370",
     "status": "completed"
    },
    "tags": []
   },
   "outputs": [
    {
     "name": "stdout",
     "output_type": "stream",
     "text": [
      "epoch: 1, [batch: 1 / 2625], examples_per_second: 675.7734, train_label_loss: 2.7604, \n"
     ]
    },
    {
     "name": "stdout",
     "output_type": "stream",
     "text": [
      "epoch: 1, [batch: 263 / 2625], examples_per_second: 10650.6407, train_label_loss: 2.3522, \n"
     ]
    },
    {
     "name": "stdout",
     "output_type": "stream",
     "text": [
      "epoch: 1, [batch: 525 / 2625], examples_per_second: 11283.9499, train_label_loss: 2.0512, \n"
     ]
    },
    {
     "name": "stdout",
     "output_type": "stream",
     "text": [
      "epoch: 1, [batch: 788 / 2625], examples_per_second: 11736.8167, train_label_loss: 1.9368, \n"
     ]
    },
    {
     "name": "stdout",
     "output_type": "stream",
     "text": [
      "epoch: 1, [batch: 1050 / 2625], examples_per_second: 11734.1002, train_label_loss: 1.7770, \n"
     ]
    },
    {
     "name": "stdout",
     "output_type": "stream",
     "text": [
      "epoch: 1, [batch: 1313 / 2625], examples_per_second: 11774.0386, train_label_loss: 1.4867, \n"
     ]
    },
    {
     "name": "stdout",
     "output_type": "stream",
     "text": [
      "epoch: 1, [batch: 1575 / 2625], examples_per_second: 11720.7351, train_label_loss: 1.3685, \n"
     ]
    },
    {
     "name": "stdout",
     "output_type": "stream",
     "text": [
      "epoch: 1, [batch: 1837 / 2625], examples_per_second: 11955.8620, train_label_loss: 1.2365, \n"
     ]
    },
    {
     "name": "stdout",
     "output_type": "stream",
     "text": [
      "epoch: 1, [batch: 2100 / 2625], examples_per_second: 11763.0928, train_label_loss: 1.2265, \n"
     ]
    },
    {
     "name": "stdout",
     "output_type": "stream",
     "text": [
      "epoch: 1, [batch: 2362 / 2625], examples_per_second: 11753.4119, train_label_loss: 1.0159, \n"
     ]
    },
    {
     "name": "stdout",
     "output_type": "stream",
     "text": [
      "=============================================================\n",
      "epoch: 1, source_val_acc_label: 0.6707, source_val_label_loss: 1.0120, target_val_acc_label: 0.0767, target_val_label_loss: 7.5298, \n",
      "=============================================================\n"
     ]
    },
    {
     "name": "stdout",
     "output_type": "stream",
     "text": [
      "New best\n",
      "epoch: 2, [batch: 1 / 2625], examples_per_second: 26.6791, train_label_loss: 0.9295, \n"
     ]
    },
    {
     "name": "stdout",
     "output_type": "stream",
     "text": [
      "epoch: 2, [batch: 263 / 2625], examples_per_second: 11665.3438, train_label_loss: 1.4978, \n"
     ]
    },
    {
     "name": "stdout",
     "output_type": "stream",
     "text": [
      "epoch: 2, [batch: 525 / 2625], examples_per_second: 12043.3855, train_label_loss: 1.1696, \n"
     ]
    },
    {
     "name": "stdout",
     "output_type": "stream",
     "text": [
      "epoch: 2, [batch: 788 / 2625], examples_per_second: 10621.6320, train_label_loss: 0.7932, \n"
     ]
    },
    {
     "name": "stdout",
     "output_type": "stream",
     "text": [
      "epoch: 2, [batch: 1050 / 2625], examples_per_second: 10529.5938, train_label_loss: 1.0950, \n"
     ]
    },
    {
     "name": "stdout",
     "output_type": "stream",
     "text": [
      "epoch: 2, [batch: 1313 / 2625], examples_per_second: 10582.2955, train_label_loss: 0.6654, \n"
     ]
    },
    {
     "name": "stdout",
     "output_type": "stream",
     "text": [
      "epoch: 2, [batch: 1575 / 2625], examples_per_second: 10678.6157, train_label_loss: 0.6509, \n"
     ]
    },
    {
     "name": "stdout",
     "output_type": "stream",
     "text": [
      "epoch: 2, [batch: 1837 / 2625], examples_per_second: 10735.9046, train_label_loss: 0.7890, \n"
     ]
    },
    {
     "name": "stdout",
     "output_type": "stream",
     "text": [
      "epoch: 2, [batch: 2100 / 2625], examples_per_second: 10562.9631, train_label_loss: 0.6982, \n"
     ]
    },
    {
     "name": "stdout",
     "output_type": "stream",
     "text": [
      "epoch: 2, [batch: 2362 / 2625], examples_per_second: 10659.7106, train_label_loss: 0.7863, \n"
     ]
    },
    {
     "name": "stdout",
     "output_type": "stream",
     "text": [
      "=============================================================\n",
      "epoch: 2, source_val_acc_label: 0.7500, source_val_label_loss: 0.6935, target_val_acc_label: 0.0717, target_val_label_loss: 11.3141, \n",
      "=============================================================\n"
     ]
    },
    {
     "name": "stdout",
     "output_type": "stream",
     "text": [
      "epoch: 3, [batch: 1 / 2625], examples_per_second: 25.5615, train_label_loss: 0.5820, \n"
     ]
    },
    {
     "name": "stdout",
     "output_type": "stream",
     "text": [
      "epoch: 3, [batch: 263 / 2625], examples_per_second: 10677.9486, train_label_loss: 0.5848, \n"
     ]
    },
    {
     "name": "stdout",
     "output_type": "stream",
     "text": [
      "epoch: 3, [batch: 525 / 2625], examples_per_second: 10607.6950, train_label_loss: 0.5373, \n"
     ]
    },
    {
     "name": "stdout",
     "output_type": "stream",
     "text": [
      "epoch: 3, [batch: 788 / 2625], examples_per_second: 10647.7295, train_label_loss: 0.7144, \n"
     ]
    },
    {
     "name": "stdout",
     "output_type": "stream",
     "text": [
      "epoch: 3, [batch: 1050 / 2625], examples_per_second: 10700.6871, train_label_loss: 0.5070, \n"
     ]
    },
    {
     "name": "stdout",
     "output_type": "stream",
     "text": [
      "epoch: 3, [batch: 1313 / 2625], examples_per_second: 10742.9122, train_label_loss: 0.5774, \n"
     ]
    },
    {
     "name": "stdout",
     "output_type": "stream",
     "text": [
      "epoch: 3, [batch: 1575 / 2625], examples_per_second: 11756.4336, train_label_loss: 0.4432, \n"
     ]
    },
    {
     "name": "stdout",
     "output_type": "stream",
     "text": [
      "epoch: 3, [batch: 1837 / 2625], examples_per_second: 11774.4882, train_label_loss: 0.4629, \n"
     ]
    },
    {
     "name": "stdout",
     "output_type": "stream",
     "text": [
      "epoch: 3, [batch: 2100 / 2625], examples_per_second: 11670.0341, train_label_loss: 0.4377, \n"
     ]
    },
    {
     "name": "stdout",
     "output_type": "stream",
     "text": [
      "epoch: 3, [batch: 2362 / 2625], examples_per_second: 11635.1789, train_label_loss: 0.3580, \n"
     ]
    },
    {
     "name": "stdout",
     "output_type": "stream",
     "text": [
      "=============================================================\n",
      "epoch: 3, source_val_acc_label: 0.8163, source_val_label_loss: 0.4952, target_val_acc_label: 0.0643, target_val_label_loss: 13.6947, \n",
      "=============================================================\n"
     ]
    },
    {
     "name": "stdout",
     "output_type": "stream",
     "text": [
      "epoch: 4, [batch: 1 / 2625], examples_per_second: 29.1100, train_label_loss: 0.5097, \n"
     ]
    },
    {
     "name": "stdout",
     "output_type": "stream",
     "text": [
      "epoch: 4, [batch: 263 / 2625], examples_per_second: 11648.9803, train_label_loss: 0.4034, \n"
     ]
    },
    {
     "name": "stdout",
     "output_type": "stream",
     "text": [
      "epoch: 4, [batch: 525 / 2625], examples_per_second: 11625.9967, train_label_loss: 0.4494, \n"
     ]
    },
    {
     "name": "stdout",
     "output_type": "stream",
     "text": [
      "epoch: 4, [batch: 788 / 2625], examples_per_second: 11611.8583, train_label_loss: 0.5319, \n"
     ]
    },
    {
     "name": "stdout",
     "output_type": "stream",
     "text": [
      "epoch: 4, [batch: 1050 / 2625], examples_per_second: 11613.6198, train_label_loss: 0.6381, \n"
     ]
    },
    {
     "name": "stdout",
     "output_type": "stream",
     "text": [
      "epoch: 4, [batch: 1313 / 2625], examples_per_second: 11621.1506, train_label_loss: 0.5465, \n"
     ]
    },
    {
     "name": "stdout",
     "output_type": "stream",
     "text": [
      "epoch: 4, [batch: 1575 / 2625], examples_per_second: 12113.2578, train_label_loss: 0.3699, \n"
     ]
    },
    {
     "name": "stdout",
     "output_type": "stream",
     "text": [
      "epoch: 4, [batch: 1837 / 2625], examples_per_second: 11263.2964, train_label_loss: 0.5562, \n"
     ]
    },
    {
     "name": "stdout",
     "output_type": "stream",
     "text": [
      "epoch: 4, [batch: 2100 / 2625], examples_per_second: 10614.3323, train_label_loss: 0.4917, \n"
     ]
    },
    {
     "name": "stdout",
     "output_type": "stream",
     "text": [
      "epoch: 4, [batch: 2362 / 2625], examples_per_second: 10610.4044, train_label_loss: 0.3773, \n"
     ]
    },
    {
     "name": "stdout",
     "output_type": "stream",
     "text": [
      "=============================================================\n",
      "epoch: 4, source_val_acc_label: 0.8556, source_val_label_loss: 0.4084, target_val_acc_label: 0.0686, target_val_label_loss: 14.1297, \n",
      "=============================================================\n"
     ]
    },
    {
     "name": "stdout",
     "output_type": "stream",
     "text": [
      "epoch: 5, [batch: 1 / 2625], examples_per_second: 25.7941, train_label_loss: 0.2421, \n"
     ]
    },
    {
     "name": "stdout",
     "output_type": "stream",
     "text": [
      "epoch: 5, [batch: 263 / 2625], examples_per_second: 11167.8963, train_label_loss: 0.3541, \n"
     ]
    },
    {
     "name": "stdout",
     "output_type": "stream",
     "text": [
      "epoch: 5, [batch: 525 / 2625], examples_per_second: 11670.3902, train_label_loss: 0.3783, \n"
     ]
    },
    {
     "name": "stdout",
     "output_type": "stream",
     "text": [
      "epoch: 5, [batch: 788 / 2625], examples_per_second: 11667.6609, train_label_loss: 0.3518, \n"
     ]
    },
    {
     "name": "stdout",
     "output_type": "stream",
     "text": [
      "epoch: 5, [batch: 1050 / 2625], examples_per_second: 11621.4735, train_label_loss: 0.3810, \n"
     ]
    },
    {
     "name": "stdout",
     "output_type": "stream",
     "text": [
      "epoch: 5, [batch: 1313 / 2625], examples_per_second: 11708.8834, train_label_loss: 0.4905, \n"
     ]
    },
    {
     "name": "stdout",
     "output_type": "stream",
     "text": [
      "epoch: 5, [batch: 1575 / 2625], examples_per_second: 11882.7392, train_label_loss: 0.4349, \n"
     ]
    },
    {
     "name": "stdout",
     "output_type": "stream",
     "text": [
      "epoch: 5, [batch: 1837 / 2625], examples_per_second: 11636.4196, train_label_loss: 0.4931, \n"
     ]
    },
    {
     "name": "stdout",
     "output_type": "stream",
     "text": [
      "epoch: 5, [batch: 2100 / 2625], examples_per_second: 11644.1735, train_label_loss: 0.2341, \n"
     ]
    },
    {
     "name": "stdout",
     "output_type": "stream",
     "text": [
      "epoch: 5, [batch: 2362 / 2625], examples_per_second: 11679.2809, train_label_loss: 0.3847, \n"
     ]
    },
    {
     "name": "stdout",
     "output_type": "stream",
     "text": [
      "=============================================================\n",
      "epoch: 5, source_val_acc_label: 0.8373, source_val_label_loss: 0.4358, target_val_acc_label: 0.0817, target_val_label_loss: 15.3923, \n",
      "=============================================================\n"
     ]
    },
    {
     "name": "stdout",
     "output_type": "stream",
     "text": [
      "New best\n",
      "epoch: 6, [batch: 1 / 2625], examples_per_second: 28.8296, train_label_loss: 0.2357, \n"
     ]
    },
    {
     "name": "stdout",
     "output_type": "stream",
     "text": [
      "epoch: 6, [batch: 263 / 2625], examples_per_second: 11703.0571, train_label_loss: 0.2766, \n"
     ]
    },
    {
     "name": "stdout",
     "output_type": "stream",
     "text": [
      "epoch: 6, [batch: 525 / 2625], examples_per_second: 12054.4528, train_label_loss: 0.2346, \n"
     ]
    },
    {
     "name": "stdout",
     "output_type": "stream",
     "text": [
      "epoch: 6, [batch: 788 / 2625], examples_per_second: 10781.9275, train_label_loss: 0.2659, \n"
     ]
    },
    {
     "name": "stdout",
     "output_type": "stream",
     "text": [
      "epoch: 6, [batch: 1050 / 2625], examples_per_second: 10720.2813, train_label_loss: 0.3027, \n"
     ]
    },
    {
     "name": "stdout",
     "output_type": "stream",
     "text": [
      "epoch: 6, [batch: 1313 / 2625], examples_per_second: 10709.8333, train_label_loss: 0.3875, \n"
     ]
    },
    {
     "name": "stdout",
     "output_type": "stream",
     "text": [
      "epoch: 6, [batch: 1575 / 2625], examples_per_second: 10719.0249, train_label_loss: 0.2273, \n"
     ]
    },
    {
     "name": "stdout",
     "output_type": "stream",
     "text": [
      "epoch: 6, [batch: 1837 / 2625], examples_per_second: 10726.0241, train_label_loss: 0.2506, \n"
     ]
    },
    {
     "name": "stdout",
     "output_type": "stream",
     "text": [
      "epoch: 6, [batch: 2100 / 2625], examples_per_second: 10691.2977, train_label_loss: 0.4715, \n"
     ]
    },
    {
     "name": "stdout",
     "output_type": "stream",
     "text": [
      "epoch: 6, [batch: 2362 / 2625], examples_per_second: 10671.1569, train_label_loss: 0.3206, \n"
     ]
    },
    {
     "name": "stdout",
     "output_type": "stream",
     "text": [
      "=============================================================\n",
      "epoch: 6, source_val_acc_label: 0.8432, source_val_label_loss: 0.4090, target_val_acc_label: 0.0551, target_val_label_loss: 16.5899, \n",
      "=============================================================\n"
     ]
    },
    {
     "name": "stdout",
     "output_type": "stream",
     "text": [
      "epoch: 7, [batch: 1 / 2625], examples_per_second: 25.4575, train_label_loss: 0.3313, \n"
     ]
    },
    {
     "name": "stdout",
     "output_type": "stream",
     "text": [
      "epoch: 7, [batch: 263 / 2625], examples_per_second: 10617.2184, train_label_loss: 0.6326, \n"
     ]
    },
    {
     "name": "stdout",
     "output_type": "stream",
     "text": [
      "epoch: 7, [batch: 525 / 2625], examples_per_second: 10745.8065, train_label_loss: 0.1802, \n"
     ]
    },
    {
     "name": "stdout",
     "output_type": "stream",
     "text": [
      "epoch: 7, [batch: 788 / 2625], examples_per_second: 10721.0855, train_label_loss: 0.2249, \n"
     ]
    },
    {
     "name": "stdout",
     "output_type": "stream",
     "text": [
      "epoch: 7, [batch: 1050 / 2625], examples_per_second: 10699.9073, train_label_loss: 0.3672, \n"
     ]
    },
    {
     "name": "stdout",
     "output_type": "stream",
     "text": [
      "epoch: 7, [batch: 1313 / 2625], examples_per_second: 10726.6304, train_label_loss: 0.3699, \n"
     ]
    },
    {
     "name": "stdout",
     "output_type": "stream",
     "text": [
      "epoch: 7, [batch: 1575 / 2625], examples_per_second: 11548.3969, train_label_loss: 0.2565, \n"
     ]
    },
    {
     "name": "stdout",
     "output_type": "stream",
     "text": [
      "epoch: 7, [batch: 1837 / 2625], examples_per_second: 11759.1266, train_label_loss: 0.2713, \n"
     ]
    },
    {
     "name": "stdout",
     "output_type": "stream",
     "text": [
      "epoch: 7, [batch: 2100 / 2625], examples_per_second: 11782.1107, train_label_loss: 0.2839, \n"
     ]
    },
    {
     "name": "stdout",
     "output_type": "stream",
     "text": [
      "epoch: 7, [batch: 2362 / 2625], examples_per_second: 11779.5565, train_label_loss: 0.3101, \n"
     ]
    },
    {
     "name": "stdout",
     "output_type": "stream",
     "text": [
      "=============================================================\n",
      "epoch: 7, source_val_acc_label: 0.8508, source_val_label_loss: 0.3883, target_val_acc_label: 0.0705, target_val_label_loss: 16.0539, \n",
      "=============================================================\n"
     ]
    },
    {
     "name": "stdout",
     "output_type": "stream",
     "text": [
      "epoch: 8, [batch: 1 / 2625], examples_per_second: 29.0710, train_label_loss: 0.2534, \n"
     ]
    },
    {
     "name": "stdout",
     "output_type": "stream",
     "text": [
      "epoch: 8, [batch: 263 / 2625], examples_per_second: 11745.4426, train_label_loss: 0.2273, \n"
     ]
    },
    {
     "name": "stdout",
     "output_type": "stream",
     "text": [
      "epoch: 8, [batch: 525 / 2625], examples_per_second: 11809.7984, train_label_loss: 0.2131, \n"
     ]
    },
    {
     "name": "stdout",
     "output_type": "stream",
     "text": [
      "epoch: 8, [batch: 788 / 2625], examples_per_second: 11787.3955, train_label_loss: 0.2119, \n"
     ]
    },
    {
     "name": "stdout",
     "output_type": "stream",
     "text": [
      "epoch: 8, [batch: 1050 / 2625], examples_per_second: 11762.8958, train_label_loss: 0.2975, \n"
     ]
    },
    {
     "name": "stdout",
     "output_type": "stream",
     "text": [
      "epoch: 8, [batch: 1313 / 2625], examples_per_second: 11744.2907, train_label_loss: 0.1444, \n"
     ]
    },
    {
     "name": "stdout",
     "output_type": "stream",
     "text": [
      "epoch: 8, [batch: 1575 / 2625], examples_per_second: 11720.8572, train_label_loss: 0.2189, \n"
     ]
    },
    {
     "name": "stdout",
     "output_type": "stream",
     "text": [
      "epoch: 8, [batch: 1837 / 2625], examples_per_second: 12435.7826, train_label_loss: 0.2084, \n"
     ]
    },
    {
     "name": "stdout",
     "output_type": "stream",
     "text": [
      "epoch: 8, [batch: 2100 / 2625], examples_per_second: 11096.2647, train_label_loss: 0.3220, \n"
     ]
    },
    {
     "name": "stdout",
     "output_type": "stream",
     "text": [
      "epoch: 8, [batch: 2362 / 2625], examples_per_second: 10722.5614, train_label_loss: 0.1921, \n"
     ]
    },
    {
     "name": "stdout",
     "output_type": "stream",
     "text": [
      "=============================================================\n",
      "epoch: 8, source_val_acc_label: 0.8190, source_val_label_loss: 0.4729, target_val_acc_label: 0.0579, target_val_label_loss: 17.6759, \n",
      "=============================================================\n"
     ]
    },
    {
     "name": "stdout",
     "output_type": "stream",
     "text": [
      "epoch: 9, [batch: 1 / 2625], examples_per_second: 25.6948, train_label_loss: 0.3106, \n"
     ]
    },
    {
     "name": "stdout",
     "output_type": "stream",
     "text": [
      "epoch: 9, [batch: 263 / 2625], examples_per_second: 10702.5532, train_label_loss: 0.1171, \n"
     ]
    },
    {
     "name": "stdout",
     "output_type": "stream",
     "text": [
      "epoch: 9, [batch: 525 / 2625], examples_per_second: 11781.9798, train_label_loss: 0.2317, \n"
     ]
    },
    {
     "name": "stdout",
     "output_type": "stream",
     "text": [
      "epoch: 9, [batch: 788 / 2625], examples_per_second: 11767.8948, train_label_loss: 0.2640, \n"
     ]
    },
    {
     "name": "stdout",
     "output_type": "stream",
     "text": [
      "epoch: 9, [batch: 1050 / 2625], examples_per_second: 11739.4120, train_label_loss: 0.1841, \n"
     ]
    },
    {
     "name": "stdout",
     "output_type": "stream",
     "text": [
      "epoch: 9, [batch: 1313 / 2625], examples_per_second: 11746.9796, train_label_loss: 0.2396, \n"
     ]
    },
    {
     "name": "stdout",
     "output_type": "stream",
     "text": [
      "epoch: 9, [batch: 1575 / 2625], examples_per_second: 11726.9216, train_label_loss: 0.2616, \n"
     ]
    },
    {
     "name": "stdout",
     "output_type": "stream",
     "text": [
      "epoch: 9, [batch: 1837 / 2625], examples_per_second: 11971.1178, train_label_loss: 0.1679, \n"
     ]
    },
    {
     "name": "stdout",
     "output_type": "stream",
     "text": [
      "epoch: 9, [batch: 2100 / 2625], examples_per_second: 11754.8717, train_label_loss: 0.2674, \n"
     ]
    },
    {
     "name": "stdout",
     "output_type": "stream",
     "text": [
      "epoch: 9, [batch: 2362 / 2625], examples_per_second: 11750.7039, train_label_loss: 0.1382, \n"
     ]
    },
    {
     "name": "stdout",
     "output_type": "stream",
     "text": [
      "=============================================================\n",
      "epoch: 9, source_val_acc_label: 0.8210, source_val_label_loss: 0.4752, target_val_acc_label: 0.0735, target_val_label_loss: 19.3514, \n",
      "=============================================================\n"
     ]
    },
    {
     "name": "stdout",
     "output_type": "stream",
     "text": [
      "Patience (3) exhausted\n"
     ]
    }
   ],
   "source": [
    "jig = Vanilla_Train_Eval_Test_Jig(\n",
    "    model=model,\n",
    "    path_to_best_model=p.BEST_MODEL_PATH,\n",
    "    device=p.device,\n",
    "    label_loss_object=torch.nn.NLLLoss(),\n",
    ")\n",
    "\n",
    "jig.train(\n",
    "    train_iterable=datasets.source.processed.train,\n",
    "    source_val_iterable=datasets.source.processed.val,\n",
    "    target_val_iterable=datasets.target.processed.val,\n",
    "    patience=p.patience,\n",
    "    num_epochs=p.n_epoch,\n",
    "    num_logs_per_epoch=p.NUM_LOGS_PER_EPOCH,\n",
    "    criteria_for_best=p.criteria_for_best\n",
    ")"
   ]
  },
  {
   "cell_type": "code",
   "execution_count": 14,
   "id": "4bc2ac17",
   "metadata": {
    "execution": {
     "iopub.execute_input": "2022-03-25T22:43:30.455120Z",
     "iopub.status.busy": "2022-03-25T22:43:30.454761Z",
     "iopub.status.idle": "2022-03-25T22:43:30.457239Z",
     "shell.execute_reply": "2022-03-25T22:43:30.457541Z"
    },
    "papermill": {
     "duration": 0.049084,
     "end_time": "2022-03-25T22:43:30.457622",
     "exception": false,
     "start_time": "2022-03-25T22:43:30.408538",
     "status": "completed"
    },
    "tags": []
   },
   "outputs": [],
   "source": [
    "total_experiment_time_secs = time.time() - start_time_secs"
   ]
  },
  {
   "cell_type": "code",
   "execution_count": 15,
   "id": "cae88f23",
   "metadata": {
    "execution": {
     "iopub.execute_input": "2022-03-25T22:43:30.554344Z",
     "iopub.status.busy": "2022-03-25T22:43:30.553102Z",
     "iopub.status.idle": "2022-03-25T22:44:27.702728Z",
     "shell.execute_reply": "2022-03-25T22:44:27.701790Z"
    },
    "papermill": {
     "duration": 57.202074,
     "end_time": "2022-03-25T22:44:27.702978",
     "exception": false,
     "start_time": "2022-03-25T22:43:30.500904",
     "status": "completed"
    },
    "tags": []
   },
   "outputs": [],
   "source": [
    "source_test_label_accuracy, source_test_label_loss = jig.test(datasets.source.processed.test)\n",
    "target_test_label_accuracy, target_test_label_loss = jig.test(datasets.target.processed.test)\n",
    "\n",
    "source_val_label_accuracy, source_val_label_loss = jig.test(datasets.source.processed.val)\n",
    "target_val_label_accuracy, target_val_label_loss = jig.test(datasets.target.processed.val)\n",
    "\n",
    "history = jig.get_history()\n",
    "\n",
    "total_epochs_trained = len(history[\"epoch_indices\"])\n",
    "\n",
    "val_dl = wrap_in_dataloader(p, Sequence_Aggregator((datasets.source.original.val, datasets.target.original.val)))\n",
    "\n",
    "confusion = confusion_by_domain_over_dataloader(model, p.device, val_dl, forward_uses_domain=False)\n",
    "per_domain_accuracy = per_domain_accuracy_from_confusion(confusion)\n",
    "\n",
    "# Add a key to per_domain_accuracy for if it was a source domain\n",
    "for domain, accuracy in per_domain_accuracy.items():\n",
    "    per_domain_accuracy[domain] = {\n",
    "        \"accuracy\": accuracy,\n",
    "        \"source?\": domain in p.domains_source\n",
    "    }\n",
    "\n",
    "# Do an independent accuracy assesment JUST TO BE SURE!\n",
    "# _source_test_label_accuracy = independent_accuracy_assesment(model, datasets.source.processed.test, p.device)\n",
    "# _target_test_label_accuracy = independent_accuracy_assesment(model, datasets.target.processed.test, p.device)\n",
    "# _source_val_label_accuracy = independent_accuracy_assesment(model, datasets.source.processed.val, p.device)\n",
    "# _target_val_label_accuracy = independent_accuracy_assesment(model, datasets.target.processed.val, p.device)\n",
    "\n",
    "# assert(_source_test_label_accuracy == source_test_label_accuracy)\n",
    "# assert(_target_test_label_accuracy == target_test_label_accuracy)\n",
    "# assert(_source_val_label_accuracy == source_val_label_accuracy)\n",
    "# assert(_target_val_label_accuracy == target_val_label_accuracy)\n",
    "\n",
    "###################################\n",
    "# Write out the results\n",
    "###################################\n",
    "\n",
    "experiment = {\n",
    "    \"experiment_name\": p.experiment_name,\n",
    "    \"parameters\": p,\n",
    "    \"results\": {\n",
    "        \"source_test_label_accuracy\": source_test_label_accuracy,\n",
    "        \"source_test_label_loss\": source_test_label_loss,\n",
    "        \"target_test_label_accuracy\": target_test_label_accuracy,\n",
    "        \"target_test_label_loss\": target_test_label_loss,\n",
    "        \"source_val_label_accuracy\": source_val_label_accuracy,\n",
    "        \"source_val_label_loss\": source_val_label_loss,\n",
    "        \"target_val_label_accuracy\": target_val_label_accuracy,\n",
    "        \"target_val_label_loss\": target_val_label_loss,\n",
    "        \"total_epochs_trained\": total_epochs_trained,\n",
    "        \"total_experiment_time_secs\": total_experiment_time_secs,\n",
    "        \"confusion\": confusion,\n",
    "        \"per_domain_accuracy\": per_domain_accuracy,\n",
    "    },\n",
    "    \"history\": history,\n",
    "    \"dataset_metrics\": get_dataset_metrics(datasets, \"cnn\"),\n",
    "}"
   ]
  },
  {
   "cell_type": "code",
   "execution_count": 16,
   "id": "74c318cf",
   "metadata": {
    "execution": {
     "iopub.execute_input": "2022-03-25T22:44:27.904805Z",
     "iopub.status.busy": "2022-03-25T22:44:27.896778Z",
     "iopub.status.idle": "2022-03-25T22:44:28.096498Z",
     "shell.execute_reply": "2022-03-25T22:44:28.097176Z"
    },
    "papermill": {
     "duration": 0.345621,
     "end_time": "2022-03-25T22:44:28.097402",
     "exception": false,
     "start_time": "2022-03-25T22:44:27.751781",
     "status": "completed"
    },
    "tags": []
   },
   "outputs": [
    {
     "data": {
      "text/plain": [
       "<AxesSubplot:title={'center':'Source Train Label Loss vs Source Val Label Loss'}, xlabel='Epoch'>"
      ]
     },
     "execution_count": 16,
     "metadata": {},
     "output_type": "execute_result"
    },
    {
     "data": {
      "image/png": "[encoded data removed]",
      "text/plain": [
       "<Figure size 1080x504 with 1 Axes>"
      ]
     },
     "metadata": {
      "needs_background": "light"
     },
     "output_type": "display_data"
    }
   ],
   "source": [
    "get_loss_curve(experiment)"
   ]
  },
  {
   "cell_type": "code",
   "execution_count": 17,
   "id": "59376601",
   "metadata": {
    "execution": {
     "iopub.execute_input": "2022-03-25T22:44:28.215306Z",
     "iopub.status.busy": "2022-03-25T22:44:28.214465Z",
     "iopub.status.idle": "2022-03-25T22:44:28.498076Z",
     "shell.execute_reply": "2022-03-25T22:44:28.498769Z"
    },
    "papermill": {
     "duration": 0.353203,
     "end_time": "2022-03-25T22:44:28.498998",
     "exception": false,
     "start_time": "2022-03-25T22:44:28.145795",
     "status": "completed"
    },
    "tags": []
   },
   "outputs": [
    {
     "data": {
      "text/plain": [
       "<AxesSubplot:title={'center':'Results'}>"
      ]
     },
     "execution_count": 17,
     "metadata": {},
     "output_type": "execute_result"
    },
    {
     "data": {
      "image/png": "[encoded data removed]",
      "text/plain": [
       "<Figure size 1080x504 with 1 Axes>"
      ]
     },
     "metadata": {
      "needs_background": "light"
     },
     "output_type": "display_data"
    }
   ],
   "source": [
    "get_results_table(experiment)"
   ]
  },
  {
   "cell_type": "code",
   "execution_count": 18,
   "id": "e80c5c98",
   "metadata": {
    "execution": {
     "iopub.execute_input": "2022-03-25T22:44:28.619800Z",
     "iopub.status.busy": "2022-03-25T22:44:28.618926Z",
     "iopub.status.idle": "2022-03-25T22:44:28.777633Z",
     "shell.execute_reply": "2022-03-25T22:44:28.777053Z"
    },
    "papermill": {
     "duration": 0.225024,
     "end_time": "2022-03-25T22:44:28.777779",
     "exception": false,
     "start_time": "2022-03-25T22:44:28.552755",
     "status": "completed"
    },
    "tags": []
   },
   "outputs": [
    {
     "data": {
      "text/plain": [
       "<AxesSubplot:title={'center':'Per Domain Accuracy'}, xlabel='domain'>"
      ]
     },
     "execution_count": 18,
     "metadata": {},
     "output_type": "execute_result"
    },
    {
     "data": {
      "image/png": "[encoded data removed]",
      "text/plain": [
       "<Figure size 1080x504 with 1 Axes>"
      ]
     },
     "metadata": {
      "needs_background": "light"
     },
     "output_type": "display_data"
    }
   ],
   "source": [
    "get_domain_accuracies(experiment)"
   ]
  },
  {
   "cell_type": "code",
   "execution_count": 19,
   "id": "086fdd10",
   "metadata": {
    "execution": {
     "iopub.execute_input": "2022-03-25T22:44:28.880151Z",
     "iopub.status.busy": "2022-03-25T22:44:28.879549Z",
     "iopub.status.idle": "2022-03-25T22:44:28.884404Z",
     "shell.execute_reply": "2022-03-25T22:44:28.883800Z"
    },
    "papermill": {
     "duration": 0.05592,
     "end_time": "2022-03-25T22:44:28.884524",
     "exception": false,
     "start_time": "2022-03-25T22:44:28.828604",
     "status": "completed"
    },
    "tags": []
   },
   "outputs": [
    {
     "name": "stdout",
     "output_type": "stream",
     "text": [
      "Source Test Label Accuracy: 0.8390694444444444 Target Test Label Accuracy: 0.08236666666666667\n",
      "Source Val Label Accuracy: 0.8373472222222222 Target Val Label Accuracy: 0.08169166666666666\n"
     ]
    }
   ],
   "source": [
    "print(\"Source Test Label Accuracy:\", experiment[\"results\"][\"source_test_label_accuracy\"], \"Target Test Label Accuracy:\", experiment[\"results\"][\"target_test_label_accuracy\"])\n",
    "print(\"Source Val Label Accuracy:\", experiment[\"results\"][\"source_val_label_accuracy\"], \"Target Val Label Accuracy:\", experiment[\"results\"][\"target_val_label_accuracy\"])"
   ]
  },
  {
   "cell_type": "code",
   "execution_count": 20,
   "id": "9f450536",
   "metadata": {
    "execution": {
     "iopub.execute_input": "2022-03-25T22:44:28.989981Z",
     "iopub.status.busy": "2022-03-25T22:44:28.989267Z",
     "iopub.status.idle": "2022-03-25T22:44:28.992732Z",
     "shell.execute_reply": "2022-03-25T22:44:28.993203Z"
    },
    "papermill": {
     "duration": 0.055398,
     "end_time": "2022-03-25T22:44:28.993360",
     "exception": false,
     "start_time": "2022-03-25T22:44:28.937962",
     "status": "completed"
    },
    "tags": [
     "experiment_json"
    ]
   },
   "outputs": [
    {
     "data": {
      "text/plain": [
       "'{\"experiment_name\": \"cnn_1:oracle.run1\", \"parameters\": {\"experiment_name\": \"cnn_1:oracle.run1\", \"domains_source\": [8, 32, 50], \"domains_target\": [14, 20, 26, 38, 44], \"labels\": [\"3123D52\", \"3123D65\", \"3123D79\", \"3123D80\", \"3123D54\", \"3123D70\", \"3123D7B\", \"3123D89\", \"3123D58\", \"3123D76\", \"3123D7D\", \"3123EFE\", \"3123D64\", \"3123D78\", \"3123D7E\", \"3124E4A\"], \"pickle_name_source\": \"oracle.Run1_10kExamples_stratified_ds.2022A.pkl\", \"pickle_name_target\": \"oracle.Run1_10kExamples_stratified_ds.2022A.pkl\", \"device\": \"cuda\", \"lr\": 0.0001, \"batch_size\": 128, \"normalize_source\": false, \"normalize_target\": false, \"num_examples_per_domain_per_label_source\": -1, \"num_examples_per_domain_per_label_target\": -1, \"torch_default_dtype\": \"torch.float32\", \"n_epoch\": 50, \"patience\": 3, \"criteria_for_best\": \"target_accuracy\", \"x_net\": [{\"class\": \"nnReshape\", \"kargs\": {\"shape\": [-1, 1, 2, 256]}}, {\"class\": \"Conv2d\", \"kargs\": {\"in_channels\": 1, \"out_channels\": 256, \"kernel_size\": [1, 7], \"bias\": false, \"padding\": [0, 3]}}, {\"class\": \"ReLU\", \"kargs\": {\"inplace\": true}}, {\"class\": \"BatchNorm2d\", \"kargs\": {\"num_features\": 256}}, {\"class\": \"Conv2d\", \"kargs\": {\"in_channels\": 256, \"out_channels\": 80, \"kernel_size\": [2, 7], \"bias\": true, \"padding\": [0, 3]}}, {\"class\": \"ReLU\", \"kargs\": {\"inplace\": true}}, {\"class\": \"BatchNorm2d\", \"kargs\": {\"num_features\": 80}}, {\"class\": \"Flatten\", \"kargs\": {}}, {\"class\": \"Linear\", \"kargs\": {\"in_features\": 20480, \"out_features\": 256}}, {\"class\": \"ReLU\", \"kargs\": {\"inplace\": true}}, {\"class\": \"BatchNorm1d\", \"kargs\": {\"num_features\": 256}}, {\"class\": \"Linear\", \"kargs\": {\"in_features\": 256, \"out_features\": 16}}], \"NUM_LOGS_PER_EPOCH\": 10, \"BEST_MODEL_PATH\": \"./best_model.pth\", \"dataset_seed\": 7, \"seed\": 7}, \"results\": {\"source_test_label_accuracy\": 0.8390694444444444, \"source_test_label_loss\": 0.43641452917408985, \"target_test_label_accuracy\": 0.08236666666666667, \"target_test_label_loss\": 15.375581764717346, \"source_val_label_accuracy\": 0.8373472222222222, \"source_val_label_loss\": 0.4358658885341766, \"target_val_label_accuracy\": 0.08169166666666666, \"target_val_label_loss\": 15.390992304917846, \"total_epochs_trained\": 9, \"total_experiment_time_secs\": 352.52022337913513, \"confusion\": {\"44\": {\"4\": {\"11\": 212, \"4\": 845, \"9\": 153, \"15\": 267, \"6\": 19, \"12\": 4}, \"6\": {\"4\": 1494, \"9\": 6}, \"14\": {\"6\": 261, \"15\": 613, \"4\": 252, \"9\": 187, \"5\": 32, \"12\": 94, \"11\": 61}, \"13\": {\"4\": 1500}, \"12\": {\"3\": 1355, \"14\": 40, \"8\": 49, \"4\": 32, \"13\": 19, \"5\": 5}, \"3\": {\"4\": 810, \"8\": 200, \"14\": 215, \"13\": 113, \"2\": 98, \"3\": 49, \"7\": 9, \"5\": 4, \"0\": 2}, \"15\": {\"6\": 307, \"12\": 930, \"11\": 243, \"9\": 11, \"5\": 4, \"15\": 2, \"0\": 1, \"4\": 1, \"7\": 1}, \"8\": {\"6\": 767, \"0\": 96, \"12\": 509, \"2\": 32, \"13\": 5, \"11\": 31, \"7\": 31, \"5\": 9, \"1\": 16, \"8\": 4}, \"9\": {\"9\": 665, \"4\": 576, \"15\": 259}, \"5\": {\"5\": 484, \"7\": 185, \"6\": 768, \"4\": 44, \"11\": 4, \"12\": 12, \"15\": 3}, \"2\": {\"15\": 878, \"5\": 603, \"9\": 19}, \"11\": {\"4\": 1500}, \"0\": {\"0\": 274, \"2\": 93, \"12\": 81, \"6\": 538, \"1\": 124, \"11\": 187, \"13\": 182, \"8\": 20, \"5\": 1}, \"10\": {\"5\": 519, \"15\": 111, \"9\": 870}, \"7\": {\"9\": 1295, \"15\": 192, \"4\": 13}, \"1\": {\"5\": 1479, \"15\": 6, \"7\": 7, \"9\": 2, \"14\": 4, \"8\": 2}}, \"20\": {\"15\": {\"2\": 1488, \"12\": 6, \"15\": 5, \"7\": 1}, \"0\": {\"3\": 154, \"2\": 1286, \"15\": 60}, \"4\": {\"12\": 1494, \"7\": 5, \"2\": 1}, \"11\": {\"2\": 1494, \"3\": 6}, \"10\": {\"12\": 1494, \"8\": 5, \"7\": 1}, \"9\": {\"2\": 1396, \"12\": 101, \"15\": 3}, \"1\": {\"2\": 1450, \"12\": 21, \"15\": 29}, \"13\": {\"2\": 1274, \"7\": 226}, \"5\": {\"2\": 1317, \"12\": 86, \"15\": 97}, \"7\": {\"2\": 985, \"12\": 462, \"7\": 53}, \"3\": {\"2\": 1200, \"12\": 248, \"15\": 50, \"3\": 2}, \"6\": {\"7\": 152, \"2\": 34, \"12\": 1314}, \"2\": {\"2\": 1335, \"7\": 58, \"12\": 107}, \"12\": {\"2\": 1135, \"7\": 32, \"12\": 315, \"15\": 18}, \"8\": {\"12\": 1203, \"2\": 266, \"3\": 18, \"15\": 13}, \"14\": {\"12\": 1491, \"2\": 8, \"3\": 1}}, \"50\": {\"2\": {\"0\": 136, \"2\": 1322, \"9\": 33, \"12\": 6, \"14\": 3}, \"3\": {\"3\": 1500}, \"11\": {\"11\": 1448, \"9\": 41, \"12\": 4, \"0\": 2, \"15\": 5}, \"1\": {\"1\": 1470, \"13\": 14, \"10\": 5, \"0\": 10, \"2\": 1}, \"10\": {\"10\": 1447, \"0\": 41, \"8\": 12}, \"9\": {\"9\": 1378, \"11\": 76, \"12\": 38, \"15\": 7, \"5\": 1}, \"0\": {\"0\": 1342, \"2\": 91, \"10\": 67}, \"15\": {\"15\": 1198, \"11\": 102, \"6\": 128, \"4\": 36, \"5\": 21, \"9\": 14, \"12\": 1}, \"14\": {\"14\": 1302, \"9\": 193, \"2\": 5}, \"12\": {\"12\": 1344, \"9\": 112, \"11\": 42, \"5\": 2}, \"13\": {\"13\": 1481, \"1\": 17, \"8\": 2}, \"7\": {\"7\": 1465, \"4\": 22, \"5\": 13}, \"4\": {\"4\": 1313, \"7\": 129, \"5\": 49, \"15\": 6, \"6\": 2, \"9\": 1}, \"8\": {\"8\": 1476, \"10\": 19, \"1\": 5}, \"5\": {\"13\": 113, \"6\": 74, \"5\": 858, \"7\": 321, \"4\": 96, \"1\": 16, \"11\": 17, \"15\": 5}, \"6\": {\"15\": 61, \"6\": 1200, \"5\": 225, \"13\": 1, \"4\": 9, \"11\": 3, \"12\": 1}}, \"14\": {\"3\": {\"11\": 516, \"3\": 984}, \"13\": {\"3\": 1276, \"11\": 224}, \"12\": {\"2\": 1492, \"9\": 8}, \"10\": {\"2\": 824, \"3\": 675, \"12\": 1}, \"4\": {\"3\": 631, \"2\": 867, \"11\": 2}, \"8\": {\"2\": 1253, \"13\": 16, \"11\": 199, \"14\": 6, \"6\": 26}, \"5\": {\"3\": 1214, \"2\": 59, \"11\": 225, \"13\": 2}, \"0\": {\"3\": 1291, \"11\": 99, \"2\": 107, \"9\": 2, \"13\": 1}, \"9\": {\"2\": 1500}, \"6\": {\"3\": 1457, \"11\": 43}, \"7\": {\"3\": 135, \"11\": 1365}, \"14\": {\"3\": 1482, \"11\": 18}, \"1\": {\"2\": 546, \"7\": 936, \"3\": 18}, \"15\": {\"11\": 1500}, \"2\": {\"3\": 1328, \"11\": 165, \"2\": 7}, \"11\": {\"7\": 1413, \"8\": 35, \"12\": 51, \"6\": 1}}, \"26\": {\"3\": {\"11\": 383, \"3\": 1116, \"13\": 1}, \"1\": {\"12\": 1484, \"3\": 3, \"11\": 5, \"9\": 8}, \"9\": {\"11\": 796, \"9\": 109, \"3\": 590, \"12\": 4, \"14\": 1}, \"6\": {\"12\": 787, \"9\": 553, \"11\": 158, \"14\": 2}, \"11\": {\"6\": 1273, \"12\": 171, \"2\": 28, \"9\": 28}, \"10\": {\"12\": 1248, \"11\": 96, \"9\": 111, \"3\": 45}, \"13\": {\"11\": 643, \"9\": 537, \"3\": 214, \"14\": 20, \"2\": 80, \"6\": 4, \"13\": 2}, \"5\": {\"11\": 664, \"9\": 805, \"12\": 26, \"14\": 4, \"6\": 1}, \"7\": {\"11\": 342, \"3\": 1154, \"9\": 2, \"12\": 1, \"13\": 1}, \"4\": {\"3\": 1500}, \"0\": {\"3\": 393, \"11\": 158, \"12\": 915, \"9\": 29, \"13\": 5}, \"14\": {\"12\": 1354, \"11\": 39, \"3\": 93, \"9\": 11, \"13\": 3}, \"15\": {\"11\": 862, \"9\": 530, \"12\": 102, \"13\": 1, \"14\": 5}, \"2\": {\"11\": 1183, \"3\": 293, \"9\": 18, \"13\": 3, \"12\": 2, \"14\": 1}, \"12\": {\"6\": 18, \"12\": 584, \"9\": 687, \"3\": 194, \"2\": 14, \"15\": 3}, \"8\": {\"11\": 393, \"3\": 1010, \"12\": 55, \"9\": 41, \"13\": 1}}, \"38\": {\"10\": {\"4\": 1424, \"7\": 76}, \"3\": {\"4\": 674, \"7\": 826}, \"2\": {\"7\": 1299, \"5\": 200, \"3\": 1}, \"9\": {\"9\": 1381, \"12\": 110, \"4\": 6, \"11\": 3}, \"11\": {\"7\": 1498, \"4\": 2}, \"8\": {\"5\": 73, \"1\": 133, \"11\": 452, \"4\": 381, \"9\": 23, \"15\": 383, \"13\": 9, \"6\": 46}, \"12\": {\"15\": 1182, \"13\": 305, \"5\": 13}, \"4\": {\"4\": 1500}, \"6\": {\"9\": 716, \"2\": 556, \"14\": 134, \"1\": 38, \"4\": 10, \"0\": 41, \"13\": 5}, \"13\": {\"7\": 608, \"4\": 892}, \"1\": {\"2\": 353, \"1\": 30, \"0\": 1007, \"9\": 105, \"14\": 4, \"10\": 1}, \"14\": {\"5\": 222, \"7\": 1273, \"4\": 4, \"3\": 1}, \"15\": {\"1\": 1048, \"13\": 198, \"11\": 146, \"10\": 43, \"6\": 39, \"0\": 18, \"8\": 4, \"5\": 4}, \"0\": {\"4\": 1499, \"9\": 1}, \"5\": {\"11\": 710, \"4\": 141, \"5\": 57, \"9\": 202, \"15\": 223, \"6\": 56, \"1\": 104, \"12\": 4, \"0\": 2, \"13\": 1}, \"7\": {\"4\": 1409, \"15\": 55, \"9\": 36}}, \"8\": {\"11\": {\"11\": 1311, \"8\": 106, \"1\": 80, \"6\": 1, \"14\": 2}, \"10\": {\"6\": 169, \"4\": 57, \"10\": 868, \"13\": 72, \"1\": 276, \"5\": 49, \"7\": 2, \"11\": 5, \"15\": 1, \"14\": 1}, \"5\": {\"5\": 1084, \"1\": 360, \"10\": 36, \"4\": 4, \"11\": 15, \"14\": 1}, \"13\": {\"13\": 523, \"10\": 207, \"7\": 339, \"6\": 391, \"1\": 34, \"4\": 4, \"15\": 2}, \"12\": {\"12\": 1331, \"15\": 167, \"2\": 2}, \"8\": {\"8\": 1500}, \"4\": {\"6\": 341, \"4\": 801, \"1\": 10, \"8\": 184, \"14\": 103, \"11\": 53, \"7\": 8}, \"3\": {\"3\": 1467, \"2\": 30, \"15\": 3}, \"9\": {\"9\": 1500}, \"7\": {\"6\": 484, \"7\": 982, \"4\": 1, \"8\": 29, \"12\": 4}, \"15\": {\"12\": 587, \"15\": 912, \"2\": 1}, \"6\": {\"6\": 1056, \"8\": 145, \"7\": 285, \"4\": 8, \"1\": 3, \"11\": 1, \"13\": 1, \"12\": 1}, \"0\": {\"0\": 1500}, \"1\": {\"11\": 703, \"1\": 793, \"8\": 3, \"14\": 1}, \"14\": {\"14\": 1304, \"11\": 108, \"4\": 64, \"8\": 22, \"0\": 2}, \"2\": {\"2\": 1177, \"15\": 76, \"3\": 189, \"12\": 52, \"7\": 6}}, \"32\": {\"0\": {\"0\": 1246, \"7\": 66, \"5\": 54, \"8\": 92, \"14\": 30, \"2\": 3, \"11\": 7, \"4\": 2}, \"2\": {\"2\": 1292, \"4\": 206, \"13\": 1, \"14\": 1}, \"7\": {\"7\": 969, \"0\": 52, \"14\": 186, \"5\": 288, \"8\": 5}, \"5\": {\"0\": 60, \"5\": 1128, \"7\": 207, \"8\": 80, \"14\": 22, \"12\": 1, \"9\": 2}, \"11\": {\"11\": 1481, \"13\": 19}, \"15\": {\"15\": 1487, \"8\": 13}, \"13\": {\"13\": 1293, \"4\": 140, \"3\": 38, \"11\": 26, \"14\": 2, \"8\": 1}, \"1\": {\"1\": 1493, \"8\": 7}, \"12\": {\"12\": 1495, \"9\": 3, \"6\": 1, \"2\": 1}, \"10\": {\"10\": 1500}, \"6\": {\"6\": 1500}, \"8\": {\"0\": 161, \"5\": 97, \"8\": 1207, \"4\": 20, \"7\": 2, \"14\": 4, \"13\": 8, \"2\": 1}, \"3\": {\"13\": 212, \"3\": 1284, \"4\": 4}, \"14\": {\"2\": 60, \"14\": 1123, \"7\": 182, \"8\": 15, \"0\": 73, \"5\": 45, \"4\": 2}, \"9\": {\"9\": 1050, \"14\": 331, \"2\": 105, \"12\": 11, \"0\": 3}, \"4\": {\"4\": 1088, \"2\": 214, \"13\": 194, \"14\": 4}}}, \"per_domain_accuracy\": {\"44\": {\"accuracy\": 0.09679166666666666, \"source?\": false}, \"20\": {\"accuracy\": 0.07125, \"source?\": false}, \"50\": {\"accuracy\": 0.8976666666666666, \"source?\": true}, \"14\": {\"accuracy\": 0.041291666666666664, \"source?\": false}, \"26\": {\"accuracy\": 0.07545833333333334, \"source?\": false}, \"38\": {\"accuracy\": 0.12366666666666666, \"source?\": false}, \"8\": {\"accuracy\": 0.7545416666666667, \"source?\": true}, \"32\": {\"accuracy\": 0.8598333333333333, \"source?\": true}}}, \"history\": {\"epoch_indices\": [1, 2, 3, 4, 5, 6, 7, 8, 9], \"train_label_loss\": [1.6384138901801337, 0.7874247993287586, 0.5490700778734117, 0.4388906004145032, 0.3690900455315908, 0.31598381660098124, 0.27757272204898653, 0.23905832267091387, 0.21321394513050715], \"source_val_label_loss\": [1.0120352406061353, 0.6935106177101339, 0.49518869756381845, 0.4083758227355103, 0.43576509183931095, 0.408987009742332, 0.38828310227521146, 0.4729032298917245, 0.4751882359359023], \"target_val_label_loss\": [7.529843591169508, 11.31409924574244, 13.694662603488101, 14.129676759878455, 15.39232460217181, 16.58990591777159, 16.053919844027522, 17.67592625221464, 19.35142597308291], \"source_val_acc_label\": [0.67075, 0.7500138888888889, 0.81625, 0.8555555555555555, 0.8373472222222222, 0.8431527777777778, 0.8507638888888889, 0.8189861111111111, 0.8209861111111111], \"target_val_acc_label\": [0.07665833333333333, 0.0717, 0.06425, 0.0686, 0.08169166666666666, 0.055075, 0.07050833333333334, 0.057916666666666665, 0.07350833333333333]}, \"dataset_metrics\": {\"source\": {\"train\": {\"n_unique_x\": 336000, \"n_unique_y\": 16, \"n_batch/episode\": 2625}, \"val\": {\"n_unique_x\": 72000, \"n_unique_y\": 16, \"n_batch/episode\": 563}, \"test\": {\"n_unique_x\": 72000, \"n_unique_y\": 16, \"n_batch/episode\": 563}}, \"target\": {\"train\": {\"n_unique_x\": 560000, \"n_unique_y\": 16, \"n_batch/episode\": 4375}, \"val\": {\"n_unique_x\": 120000, \"n_unique_y\": 16, \"n_batch/episode\": 938}, \"test\": {\"n_unique_x\": 120000, \"n_unique_y\": 16, \"n_batch/episode\": 938}}}}'"
      ]
     },
     "execution_count": 20,
     "metadata": {},
     "output_type": "execute_result"
    }
   ],
   "source": [
    "json.dumps(experiment)"
   ]
  }
 ],
 "metadata": {
  "celltoolbar": "Tags",
  "kernelspec": {
   "display_name": "Python 3 (ipykernel)",
   "language": "python",
   "name": "python3"
  },
  "language_info": {
   "codemirror_mode": {
    "name": "ipython",
    "version": 3
   },
   "file_extension": ".py",
   "mimetype": "text/x-python",
   "name": "python",
   "nbconvert_exporter": "python",
   "pygments_lexer": "ipython3",
   "version": "3.8.12"
  },
  "papermill": {
   "default_parameters": {},
   "duration": 416.957935,
   "end_time": "2022-03-25T22:44:32.357194",
   "environment_variables": {},
   "exception": null,
   "input_path": "/root/csc500-main/csc500-notebooks/templates/cnn_template.ipynb",
   "output_path": "trial.ipynb",
   "parameters": {
    "parameters": {
     "BEST_MODEL_PATH": "./best_model.pth",
     "NUM_LOGS_PER_EPOCH": 10,
     "batch_size": 128,
     "criteria_for_best": "target_accuracy",
     "dataset_seed": 7,
     "device": "cuda",
     "domains_source": [
      8,
      32,
      50
     ],
     "domains_target": [
      14,
      20,
      26,
      38,
      44
     ],
     "experiment_name": "cnn_1:oracle.run1",
     "labels": [
      "3123D52",
      "3123D65",
      "3123D79",
      "3123D80",
      "3123D54",
      "3123D70",
      "3123D7B",
      "3123D89",
      "3123D58",
      "3123D76",
      "3123D7D",
      "3123EFE",
      "3123D64",
      "3123D78",
      "3123D7E",
      "3124E4A"
     ],
     "lr": 0.0001,
     "n_epoch": 50,
     "normalize_source": false,
     "normalize_target": false,
     "num_examples_per_domain_per_label_source": -1,
     "num_examples_per_domain_per_label_target": -1,
     "patience": 3,
     "pickle_name_source": "oracle.Run1_10kExamples_stratified_ds.2022A.pkl",
     "pickle_name_target": "oracle.Run1_10kExamples_stratified_ds.2022A.pkl",
     "seed": 7,
     "torch_default_dtype": "torch.float32",
     "x_net": [
      {
       "class": "nnReshape",
       "kargs": {
        "shape": [
         -1,
         1,
         2,
         256
        ]
       }
      },
      {
       "class": "Conv2d",
       "kargs": {
        "bias": false,
        "in_channels": 1,
        "kernel_size": [
         1,
         7
        ],
        "out_channels": 256,
        "padding": [
         0,
         3
        ]
       }
      },
      {
       "class": "ReLU",
       "kargs": {
        "inplace": true
       }
      },
      {
       "class": "BatchNorm2d",
       "kargs": {
        "num_features": 256
       }
      },
      {
       "class": "Conv2d",
       "kargs": {
        "bias": true,
        "in_channels": 256,
        "kernel_size": [
         2,
         7
        ],
        "out_channels": 80,
        "padding": [
         0,
         3
        ]
       }
      },
      {
       "class": "ReLU",
       "kargs": {
        "inplace": true
       }
      },
      {
       "class": "BatchNorm2d",
       "kargs": {
        "num_features": 80
       }
      },
      {
       "class": "Flatten",
       "kargs": {}
      },
      {
       "class": "Linear",
       "kargs": {
        "in_features": 20480,
        "out_features": 256
       }
      },
      {
       "class": "ReLU",
       "kargs": {
        "inplace": true
       }
      },
      {
       "class": "BatchNorm1d",
       "kargs": {
        "num_features": 256
       }
      },
      {
       "class": "Linear",
       "kargs": {
        "in_features": 256,
        "out_features": 16
       }
      }
     ]
    }
   },
   "start_time": "2022-03-25T22:37:35.399259",
   "version": "2.3.4"
  }
 },
 "nbformat": 4,
 "nbformat_minor": 5
}