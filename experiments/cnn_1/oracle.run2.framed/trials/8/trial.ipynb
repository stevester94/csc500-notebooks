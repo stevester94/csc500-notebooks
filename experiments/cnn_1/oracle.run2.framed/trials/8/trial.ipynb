{
 "cells": [
  {
   "cell_type": "code",
   "execution_count": 1,
   "id": "2324682e",
   "metadata": {
    "execution": {
     "iopub.execute_input": "2022-03-25T23:31:30.523480Z",
     "iopub.status.busy": "2022-03-25T23:31:30.522630Z",
     "iopub.status.idle": "2022-03-25T23:31:31.844240Z",
     "shell.execute_reply": "2022-03-25T23:31:31.843318Z"
    },
    "papermill": {
     "duration": 1.359121,
     "end_time": "2022-03-25T23:31:31.844434",
     "exception": false,
     "start_time": "2022-03-25T23:31:30.485313",
     "status": "completed"
    },
    "tags": []
   },
   "outputs": [],
   "source": [
    "import os, json, sys, time, random\n",
    "import numpy as np\n",
    "import torch\n",
    "from  easydict import EasyDict\n",
    "from math import floor\n",
    "from easydict import EasyDict\n",
    "\n",
    "from steves_utils.vanilla_train_eval_test_jig import  Vanilla_Train_Eval_Test_Jig\n",
    "\n",
    "from steves_utils.torch_utils import get_dataset_metrics, independent_accuracy_assesment\n",
    "from steves_models.configurable_vanilla import Configurable_Vanilla\n",
    "from steves_utils.torch_sequential_builder import build_sequential\n",
    "from steves_utils.lazy_map import Lazy_Map\n",
    "from steves_utils.sequence_aggregator import Sequence_Aggregator\n",
    "\n",
    "from steves_utils.stratified_dataset.traditional_accessor import Traditional_Accessor_Factory\n",
    "\n",
    "from steves_utils.cnn_do_report import (\n",
    "    get_loss_curve,\n",
    "    get_results_table,\n",
    "    get_parameters_table,\n",
    "    get_domain_accuracies,\n",
    ")\n",
    "\n",
    "from steves_utils.torch_utils import (\n",
    "    confusion_by_domain_over_dataloader,\n",
    "    independent_accuracy_assesment\n",
    ")\n",
    "\n",
    "from steves_utils.utils_v2 import (\n",
    "    per_domain_accuracy_from_confusion,\n",
    "    get_datasets_base_path\n",
    ")\n",
    "\n",
    "# from steves_utils.ptn_do_report import TBD"
   ]
  },
  {
   "cell_type": "code",
   "execution_count": 2,
   "id": "1b29e3fe",
   "metadata": {
    "execution": {
     "iopub.execute_input": "2022-03-25T23:31:31.880946Z",
     "iopub.status.busy": "2022-03-25T23:31:31.880561Z",
     "iopub.status.idle": "2022-03-25T23:31:31.882770Z",
     "shell.execute_reply": "2022-03-25T23:31:31.882400Z"
    },
    "papermill": {
     "duration": 0.02156,
     "end_time": "2022-03-25T23:31:31.882849",
     "exception": false,
     "start_time": "2022-03-25T23:31:31.861289",
     "status": "completed"
    },
    "tags": []
   },
   "outputs": [],
   "source": [
    "required_parameters = {\n",
    "    \"experiment_name\",\n",
    "    \"lr\",\n",
    "    \"device\",\n",
    "    \"dataset_seed\",\n",
    "    \"seed\",\n",
    "    \"labels\",\n",
    "    \"domains_target\",\n",
    "    \"domains_source\",\n",
    "    \"num_examples_per_domain_per_label_source\",\n",
    "    \"num_examples_per_domain_per_label_target\",\n",
    "    \"batch_size\",\n",
    "    \"n_epoch\",\n",
    "    \"patience\",\n",
    "    \"criteria_for_best\",\n",
    "    \"normalize_source\",\n",
    "    \"normalize_target\",\n",
    "    \"x_net\",\n",
    "    \"NUM_LOGS_PER_EPOCH\",\n",
    "    \"BEST_MODEL_PATH\",\n",
    "    \"pickle_name_source\",\n",
    "    \"pickle_name_target\",\n",
    "    \"torch_default_dtype\",\n",
    "}"
   ]
  },
  {
   "cell_type": "code",
   "execution_count": 3,
   "id": "670b5fb8",
   "metadata": {
    "execution": {
     "iopub.execute_input": "2022-03-25T23:31:31.928004Z",
     "iopub.status.busy": "2022-03-25T23:31:31.927345Z",
     "iopub.status.idle": "2022-03-25T23:31:31.935302Z",
     "shell.execute_reply": "2022-03-25T23:31:31.934594Z"
    },
    "papermill": {
     "duration": 0.035271,
     "end_time": "2022-03-25T23:31:31.935463",
     "exception": false,
     "start_time": "2022-03-25T23:31:31.900192",
     "status": "completed"
    },
    "tags": [
     "parameters"
    ]
   },
   "outputs": [],
   "source": [
    "from steves_utils.ORACLE.utils_v2 import (\n",
    "    ALL_SERIAL_NUMBERS,\n",
    "    ALL_DISTANCES_FEET_NARROWED,\n",
    ")\n",
    "\n",
    "standalone_parameters = {}\n",
    "standalone_parameters[\"experiment_name\"] = \"MANUAL CORES CNN\"\n",
    "standalone_parameters[\"lr\"] = 0.0001\n",
    "standalone_parameters[\"device\"] = \"cuda\"\n",
    "\n",
    "standalone_parameters[\"dataset_seed\"] = 1337\n",
    "standalone_parameters[\"seed\"] = 1337\n",
    "standalone_parameters[\"labels\"] = ALL_SERIAL_NUMBERS\n",
    "\n",
    "standalone_parameters[\"domains_source\"] = [8,32,50]\n",
    "standalone_parameters[\"domains_target\"] = [14,20,26,38,44,]\n",
    "\n",
    "standalone_parameters[\"num_examples_per_domain_per_label_source\"]=-1\n",
    "standalone_parameters[\"num_examples_per_domain_per_label_target\"]=-1\n",
    "\n",
    "standalone_parameters[\"pickle_name_source\"] = \"oracle.Run1_framed_2000Examples_stratified_ds.2022A.pkl\"\n",
    "standalone_parameters[\"pickle_name_target\"] = \"oracle.Run2_framed_2000Examples_stratified_ds.2022A.pkl\"\n",
    "\n",
    "standalone_parameters[\"torch_default_dtype\"] = \"torch.float32\" \n",
    "\n",
    "standalone_parameters[\"batch_size\"]=128\n",
    "\n",
    "standalone_parameters[\"n_epoch\"] = 3\n",
    "\n",
    "standalone_parameters[\"patience\"] = 10\n",
    "\n",
    "standalone_parameters[\"criteria_for_best\"] = \"target_accuracy\"\n",
    "standalone_parameters[\"normalize_source\"] = False\n",
    "standalone_parameters[\"normalize_target\"] = False\n",
    "\n",
    "standalone_parameters[\"x_net\"] =     [\n",
    "    {\"class\": \"nnReshape\", \"kargs\": {\"shape\":[-1, 1, 2, 256]}},\n",
    "    {\"class\": \"Conv2d\", \"kargs\": { \"in_channels\":1, \"out_channels\":256, \"kernel_size\":(1,7), \"bias\":False, \"padding\":(0,3), },},\n",
    "    {\"class\": \"ReLU\", \"kargs\": {\"inplace\": True}},\n",
    "    {\"class\": \"BatchNorm2d\", \"kargs\": {\"num_features\":256}},\n",
    "\n",
    "    {\"class\": \"Conv2d\", \"kargs\": { \"in_channels\":256, \"out_channels\":80, \"kernel_size\":(2,7), \"bias\":True, \"padding\":(0,3), },},\n",
    "    {\"class\": \"ReLU\", \"kargs\": {\"inplace\": True}},\n",
    "    {\"class\": \"BatchNorm2d\", \"kargs\": {\"num_features\":80}},\n",
    "    {\"class\": \"Flatten\", \"kargs\": {}},\n",
    "\n",
    "    {\"class\": \"Linear\", \"kargs\": {\"in_features\": 80*256, \"out_features\": 256}}, # 80 units per IQ pair\n",
    "    {\"class\": \"ReLU\", \"kargs\": {\"inplace\": True}},\n",
    "    {\"class\": \"BatchNorm1d\", \"kargs\": {\"num_features\":256}},\n",
    "\n",
    "    {\"class\": \"Linear\", \"kargs\": {\"in_features\": 256, \"out_features\": len(standalone_parameters[\"labels\"])}},\n",
    "]\n",
    "\n",
    "standalone_parameters[\"NUM_LOGS_PER_EPOCH\"] = 10\n",
    "standalone_parameters[\"BEST_MODEL_PATH\"] = \"./best_model.pth\""
   ]
  },
  {
   "cell_type": "code",
   "execution_count": 4,
   "id": "97b02425",
   "metadata": {
    "execution": {
     "iopub.execute_input": "2022-03-25T23:31:31.983662Z",
     "iopub.status.busy": "2022-03-25T23:31:31.982752Z",
     "iopub.status.idle": "2022-03-25T23:31:31.985333Z",
     "shell.execute_reply": "2022-03-25T23:31:31.984503Z"
    },
    "papermill": {
     "duration": 0.030047,
     "end_time": "2022-03-25T23:31:31.985491",
     "exception": false,
     "start_time": "2022-03-25T23:31:31.955444",
     "status": "completed"
    },
    "tags": [
     "injected-parameters"
    ]
   },
   "outputs": [],
   "source": [
    "# Parameters\n",
    "parameters = {\n",
    "    \"experiment_name\": \"cnn_1:oracle.run2.framed\",\n",
    "    \"labels\": [\n",
    "        \"3123D52\",\n",
    "        \"3123D65\",\n",
    "        \"3123D79\",\n",
    "        \"3123D80\",\n",
    "        \"3123D54\",\n",
    "        \"3123D70\",\n",
    "        \"3123D7B\",\n",
    "        \"3123D89\",\n",
    "        \"3123D58\",\n",
    "        \"3123D76\",\n",
    "        \"3123D7D\",\n",
    "        \"3123EFE\",\n",
    "        \"3123D64\",\n",
    "        \"3123D78\",\n",
    "        \"3123D7E\",\n",
    "        \"3124E4A\",\n",
    "    ],\n",
    "    \"domains_source\": [8, 32, 50],\n",
    "    \"domains_target\": [14, 20, 26, 38, 44],\n",
    "    \"pickle_name_source\": \"oracle.Run2_framed_2000Examples_stratified_ds.2022A.pkl\",\n",
    "    \"pickle_name_target\": \"oracle.Run2_framed_2000Examples_stratified_ds.2022A.pkl\",\n",
    "    \"device\": \"cuda\",\n",
    "    \"lr\": 0.0001,\n",
    "    \"batch_size\": 128,\n",
    "    \"normalize_source\": False,\n",
    "    \"normalize_target\": False,\n",
    "    \"num_examples_per_domain_per_label_source\": -1,\n",
    "    \"num_examples_per_domain_per_label_target\": -1,\n",
    "    \"torch_default_dtype\": \"torch.float32\",\n",
    "    \"n_epoch\": 50,\n",
    "    \"patience\": 3,\n",
    "    \"criteria_for_best\": \"target_accuracy\",\n",
    "    \"x_net\": [\n",
    "        {\"class\": \"nnReshape\", \"kargs\": {\"shape\": [-1, 1, 2, 256]}},\n",
    "        {\n",
    "            \"class\": \"Conv2d\",\n",
    "            \"kargs\": {\n",
    "                \"in_channels\": 1,\n",
    "                \"out_channels\": 256,\n",
    "                \"kernel_size\": [1, 7],\n",
    "                \"bias\": False,\n",
    "                \"padding\": [0, 3],\n",
    "            },\n",
    "        },\n",
    "        {\"class\": \"ReLU\", \"kargs\": {\"inplace\": True}},\n",
    "        {\"class\": \"BatchNorm2d\", \"kargs\": {\"num_features\": 256}},\n",
    "        {\n",
    "            \"class\": \"Conv2d\",\n",
    "            \"kargs\": {\n",
    "                \"in_channels\": 256,\n",
    "                \"out_channels\": 80,\n",
    "                \"kernel_size\": [2, 7],\n",
    "                \"bias\": True,\n",
    "                \"padding\": [0, 3],\n",
    "            },\n",
    "        },\n",
    "        {\"class\": \"ReLU\", \"kargs\": {\"inplace\": True}},\n",
    "        {\"class\": \"BatchNorm2d\", \"kargs\": {\"num_features\": 80}},\n",
    "        {\"class\": \"Flatten\", \"kargs\": {}},\n",
    "        {\"class\": \"Linear\", \"kargs\": {\"in_features\": 20480, \"out_features\": 256}},\n",
    "        {\"class\": \"ReLU\", \"kargs\": {\"inplace\": True}},\n",
    "        {\"class\": \"BatchNorm1d\", \"kargs\": {\"num_features\": 256}},\n",
    "        {\"class\": \"Linear\", \"kargs\": {\"in_features\": 256, \"out_features\": 16}},\n",
    "    ],\n",
    "    \"NUM_LOGS_PER_EPOCH\": 10,\n",
    "    \"BEST_MODEL_PATH\": \"./best_model.pth\",\n",
    "    \"dataset_seed\": 1337,\n",
    "    \"seed\": 1337,\n",
    "}\n"
   ]
  },
  {
   "cell_type": "code",
   "execution_count": 5,
   "id": "759b56ec",
   "metadata": {
    "execution": {
     "iopub.execute_input": "2022-03-25T23:31:32.028313Z",
     "iopub.status.busy": "2022-03-25T23:31:32.027701Z",
     "iopub.status.idle": "2022-03-25T23:31:32.030523Z",
     "shell.execute_reply": "2022-03-25T23:31:32.030050Z"
    },
    "papermill": {
     "duration": 0.024184,
     "end_time": "2022-03-25T23:31:32.030629",
     "exception": false,
     "start_time": "2022-03-25T23:31:32.006445",
     "status": "completed"
    },
    "tags": []
   },
   "outputs": [],
   "source": [
    "# Set this to True if you want to run this template directly\n",
    "STANDALONE = False\n",
    "if STANDALONE:\n",
    "    print(\"parameters not injected, running with standalone_parameters\")\n",
    "    parameters = standalone_parameters\n",
    "\n",
    "if not 'parameters' in locals() and not 'parameters' in globals():\n",
    "    raise Exception(\"Parameter injection failed\")\n",
    "\n",
    "#Use an easy dict for all the parameters\n",
    "p = EasyDict(parameters)\n",
    "\n",
    "supplied_keys = set(p.keys())\n",
    "\n",
    "if  supplied_keys != required_parameters:\n",
    "    print(\"Parameters are incorrect\")\n",
    "    if len(supplied_keys - required_parameters)>0: print(\"Shouldn't have:\", str(supplied_keys - required_parameters))\n",
    "    if len(required_parameters - supplied_keys)>0: print(\"Need to have:\", str(required_parameters - supplied_keys))\n",
    "    raise RuntimeError(\"Parameters are incorrect\")\n",
    "\n"
   ]
  },
  {
   "cell_type": "code",
   "execution_count": 6,
   "id": "d5c66a71",
   "metadata": {
    "execution": {
     "iopub.execute_input": "2022-03-25T23:31:32.065977Z",
     "iopub.status.busy": "2022-03-25T23:31:32.065421Z",
     "iopub.status.idle": "2022-03-25T23:31:32.068784Z",
     "shell.execute_reply": "2022-03-25T23:31:32.068238Z"
    },
    "papermill": {
     "duration": 0.020583,
     "end_time": "2022-03-25T23:31:32.068890",
     "exception": false,
     "start_time": "2022-03-25T23:31:32.048307",
     "status": "completed"
    },
    "tags": []
   },
   "outputs": [],
   "source": [
    "###################################\n",
    "# Set the RNGs and make it all deterministic\n",
    "###################################\n",
    "np.random.seed(p.seed)\n",
    "random.seed(p.seed)\n",
    "torch.manual_seed(p.seed)\n",
    "\n",
    "torch.use_deterministic_algorithms(True) "
   ]
  },
  {
   "cell_type": "code",
   "execution_count": 7,
   "id": "92a65876",
   "metadata": {
    "execution": {
     "iopub.execute_input": "2022-03-25T23:31:32.105354Z",
     "iopub.status.busy": "2022-03-25T23:31:32.104805Z",
     "iopub.status.idle": "2022-03-25T23:31:32.107618Z",
     "shell.execute_reply": "2022-03-25T23:31:32.107130Z"
    },
    "papermill": {
     "duration": 0.020413,
     "end_time": "2022-03-25T23:31:32.107724",
     "exception": false,
     "start_time": "2022-03-25T23:31:32.087311",
     "status": "completed"
    },
    "tags": []
   },
   "outputs": [],
   "source": [
    "torch.set_default_dtype(eval(p.torch_default_dtype))"
   ]
  },
  {
   "cell_type": "code",
   "execution_count": 8,
   "id": "f1a32f01",
   "metadata": {
    "execution": {
     "iopub.execute_input": "2022-03-25T23:31:32.146779Z",
     "iopub.status.busy": "2022-03-25T23:31:32.146414Z",
     "iopub.status.idle": "2022-03-25T23:31:32.185236Z",
     "shell.execute_reply": "2022-03-25T23:31:32.184437Z"
    },
    "papermill": {
     "duration": 0.056121,
     "end_time": "2022-03-25T23:31:32.185391",
     "exception": false,
     "start_time": "2022-03-25T23:31:32.129270",
     "status": "completed"
    },
    "tags": []
   },
   "outputs": [],
   "source": [
    "###################################\n",
    "# Build the network(s)\n",
    "# Note: It's critical to do this AFTER setting the RNG\n",
    "###################################\n",
    "x_net = build_sequential(p.x_net)"
   ]
  },
  {
   "cell_type": "code",
   "execution_count": 9,
   "id": "a276cd83",
   "metadata": {
    "execution": {
     "iopub.execute_input": "2022-03-25T23:31:32.223253Z",
     "iopub.status.busy": "2022-03-25T23:31:32.222888Z",
     "iopub.status.idle": "2022-03-25T23:31:32.225442Z",
     "shell.execute_reply": "2022-03-25T23:31:32.225066Z"
    },
    "papermill": {
     "duration": 0.018549,
     "end_time": "2022-03-25T23:31:32.225511",
     "exception": false,
     "start_time": "2022-03-25T23:31:32.206962",
     "status": "completed"
    },
    "tags": []
   },
   "outputs": [],
   "source": [
    "start_time_secs = time.time()"
   ]
  },
  {
   "cell_type": "code",
   "execution_count": 10,
   "id": "de702e48",
   "metadata": {
    "execution": {
     "iopub.execute_input": "2022-03-25T23:31:32.275728Z",
     "iopub.status.busy": "2022-03-25T23:31:32.274818Z",
     "iopub.status.idle": "2022-03-25T23:31:36.148277Z",
     "shell.execute_reply": "2022-03-25T23:31:36.147449Z"
    },
    "papermill": {
     "duration": 3.900961,
     "end_time": "2022-03-25T23:31:36.148459",
     "exception": false,
     "start_time": "2022-03-25T23:31:32.247498",
     "status": "completed"
    },
    "tags": []
   },
   "outputs": [],
   "source": [
    "def wrap_in_dataloader(p, ds):\n",
    "    return torch.utils.data.DataLoader(\n",
    "        ds,\n",
    "        batch_size=p.batch_size,\n",
    "        shuffle=True,\n",
    "        num_workers=1,\n",
    "        persistent_workers=True,\n",
    "        prefetch_factor=50,\n",
    "        pin_memory=True\n",
    "    )\n",
    "\n",
    "taf_source = Traditional_Accessor_Factory(\n",
    "    labels=p.labels,\n",
    "    domains=p.domains_source,\n",
    "    num_examples_per_domain_per_label=p.num_examples_per_domain_per_label_source,\n",
    "    pickle_path=os.path.join(get_datasets_base_path(), p.pickle_name_source),\n",
    "    seed=p.dataset_seed\n",
    ")\n",
    "train_original_source, val_original_source, test_original_source = \\\n",
    "    taf_source.get_train(), taf_source.get_val(), taf_source.get_test()\n",
    "\n",
    "\n",
    "taf_target = Traditional_Accessor_Factory(\n",
    "    labels=p.labels,\n",
    "    domains=p.domains_target,\n",
    "    num_examples_per_domain_per_label=p.num_examples_per_domain_per_label_source,\n",
    "    pickle_path=os.path.join(get_datasets_base_path(), p.pickle_name_target),\n",
    "    seed=p.dataset_seed\n",
    ")\n",
    "train_original_target, val_original_target, test_original_target = \\\n",
    "    taf_target.get_train(), taf_target.get_val(), taf_target.get_test()\n",
    "\n",
    "\n",
    "# For CNN We only use X and Y. And we only train on the source.\n",
    "# Properly form the data using a transform lambda and Lazy_Map. Finally wrap them in a dataloader\n",
    "\n",
    "transform_lambda = lambda ex: ex[:2] # Strip the tuple to just (x,y)\n",
    "\n",
    "\n",
    "train_processed_source = wrap_in_dataloader(\n",
    "    p,\n",
    "    Lazy_Map(train_original_source, transform_lambda)\n",
    ")\n",
    "val_processed_source = wrap_in_dataloader(\n",
    "    p,\n",
    "    Lazy_Map(val_original_source, transform_lambda)\n",
    ")\n",
    "test_processed_source = wrap_in_dataloader(\n",
    "    p,\n",
    "    Lazy_Map(test_original_source, transform_lambda)\n",
    ")\n",
    "\n",
    "train_processed_target = wrap_in_dataloader(\n",
    "    p,\n",
    "    Lazy_Map(train_original_target, transform_lambda)\n",
    ")\n",
    "val_processed_target = wrap_in_dataloader(\n",
    "    p,\n",
    "    Lazy_Map(val_original_target, transform_lambda)\n",
    ")\n",
    "test_processed_target  = wrap_in_dataloader(\n",
    "    p,\n",
    "    Lazy_Map(test_original_target, transform_lambda)\n",
    ")\n",
    "\n",
    "\n",
    "\n",
    "datasets = EasyDict({\n",
    "    \"source\": {\n",
    "        \"original\": {\"train\":train_original_source, \"val\":val_original_source, \"test\":test_original_source},\n",
    "        \"processed\": {\"train\":train_processed_source, \"val\":val_processed_source, \"test\":test_processed_source}\n",
    "    },\n",
    "    \"target\": {\n",
    "        \"original\": {\"train\":train_original_target, \"val\":val_original_target, \"test\":test_original_target},\n",
    "        \"processed\": {\"train\":train_processed_target, \"val\":val_processed_target, \"test\":test_processed_target}\n",
    "    },\n",
    "})"
   ]
  },
  {
   "cell_type": "code",
   "execution_count": 11,
   "id": "a11b26bd",
   "metadata": {
    "execution": {
     "iopub.execute_input": "2022-03-25T23:31:36.229208Z",
     "iopub.status.busy": "2022-03-25T23:31:36.228391Z",
     "iopub.status.idle": "2022-03-25T23:31:41.782462Z",
     "shell.execute_reply": "2022-03-25T23:31:41.781613Z"
    },
    "papermill": {
     "duration": 5.613525,
     "end_time": "2022-03-25T23:31:41.782637",
     "exception": false,
     "start_time": "2022-03-25T23:31:36.169112",
     "status": "completed"
    },
    "tags": []
   },
   "outputs": [
    {
     "data": {
      "text/plain": [
       "torch.float32"
      ]
     },
     "execution_count": 11,
     "metadata": {},
     "output_type": "execute_result"
    }
   ],
   "source": [
    "ep = next(iter(test_processed_target))\n",
    "ep[0].dtype"
   ]
  },
  {
   "cell_type": "code",
   "execution_count": 12,
   "id": "19425fad",
   "metadata": {
    "execution": {
     "iopub.execute_input": "2022-03-25T23:31:41.839735Z",
     "iopub.status.busy": "2022-03-25T23:31:41.838874Z",
     "iopub.status.idle": "2022-03-25T23:31:41.884763Z",
     "shell.execute_reply": "2022-03-25T23:31:41.885453Z"
    },
    "papermill": {
     "duration": 0.083136,
     "end_time": "2022-03-25T23:31:41.885665",
     "exception": false,
     "start_time": "2022-03-25T23:31:41.802529",
     "status": "completed"
    },
    "tags": []
   },
   "outputs": [],
   "source": [
    "model = Configurable_Vanilla(\n",
    "    x_net=x_net,\n",
    "    label_loss_object=torch.nn.NLLLoss(),\n",
    "    learning_rate=p.lr\n",
    ")"
   ]
  },
  {
   "cell_type": "code",
   "execution_count": 13,
   "id": "7f6d4f2c",
   "metadata": {
    "execution": {
     "iopub.execute_input": "2022-03-25T23:31:41.929418Z",
     "iopub.status.busy": "2022-03-25T23:31:41.929036Z",
     "iopub.status.idle": "2022-03-25T23:34:00.273066Z",
     "shell.execute_reply": "2022-03-25T23:34:00.273776Z"
    },
    "papermill": {
     "duration": 138.365434,
     "end_time": "2022-03-25T23:34:00.273987",
     "exception": false,
     "start_time": "2022-03-25T23:31:41.908553",
     "status": "completed"
    },
    "tags": []
   },
   "outputs": [
    {
     "name": "stdout",
     "output_type": "stream",
     "text": [
      "epoch: 1, [batch: 1 / 525], examples_per_second: 731.9109, train_label_loss: 2.7979, \n"
     ]
    },
    {
     "name": "stdout",
     "output_type": "stream",
     "text": [
      "epoch: 1, [batch: 53 / 525], examples_per_second: 10614.1068, train_label_loss: 2.6464, \n"
     ]
    },
    {
     "name": "stdout",
     "output_type": "stream",
     "text": [
      "epoch: 1, [batch: 105 / 525], examples_per_second: 10808.5008, train_label_loss: 2.3375, \n"
     ]
    },
    {
     "name": "stdout",
     "output_type": "stream",
     "text": [
      "epoch: 1, [batch: 158 / 525], examples_per_second: 10675.6085, train_label_loss: 2.2389, \n"
     ]
    },
    {
     "name": "stdout",
     "output_type": "stream",
     "text": [
      "epoch: 1, [batch: 210 / 525], examples_per_second: 10716.9941, train_label_loss: 2.0481, \n"
     ]
    },
    {
     "name": "stdout",
     "output_type": "stream",
     "text": [
      "epoch: 1, [batch: 263 / 525], examples_per_second: 10585.0022, train_label_loss: 1.8372, \n"
     ]
    },
    {
     "name": "stdout",
     "output_type": "stream",
     "text": [
      "epoch: 1, [batch: 315 / 525], examples_per_second: 10718.0310, train_label_loss: 1.8146, \n"
     ]
    },
    {
     "name": "stdout",
     "output_type": "stream",
     "text": [
      "epoch: 1, [batch: 367 / 525], examples_per_second: 10749.4121, train_label_loss: 1.6465, \n"
     ]
    },
    {
     "name": "stdout",
     "output_type": "stream",
     "text": [
      "epoch: 1, [batch: 420 / 525], examples_per_second: 10771.0728, train_label_loss: 1.6328, \n"
     ]
    },
    {
     "name": "stdout",
     "output_type": "stream",
     "text": [
      "epoch: 1, [batch: 472 / 525], examples_per_second: 10600.8507, train_label_loss: 1.6009, \n"
     ]
    },
    {
     "name": "stdout",
     "output_type": "stream",
     "text": [
      "=============================================================\n",
      "epoch: 1, source_val_acc_label: 0.5138, source_val_label_loss: 1.4567, target_val_acc_label: 0.0667, target_val_label_loss: 6.2069, \n",
      "=============================================================\n"
     ]
    },
    {
     "name": "stdout",
     "output_type": "stream",
     "text": [
      "New best\n",
      "epoch: 2, [batch: 1 / 525], examples_per_second: 104.5498, train_label_loss: 1.3046, \n"
     ]
    },
    {
     "name": "stdout",
     "output_type": "stream",
     "text": [
      "epoch: 2, [batch: 53 / 525], examples_per_second: 11814.1659, train_label_loss: 1.2228, \n"
     ]
    },
    {
     "name": "stdout",
     "output_type": "stream",
     "text": [
      "epoch: 2, [batch: 105 / 525], examples_per_second: 11655.0227, train_label_loss: 1.1509, \n"
     ]
    },
    {
     "name": "stdout",
     "output_type": "stream",
     "text": [
      "epoch: 2, [batch: 158 / 525], examples_per_second: 11671.3509, train_label_loss: 1.1304, \n"
     ]
    },
    {
     "name": "stdout",
     "output_type": "stream",
     "text": [
      "epoch: 2, [batch: 210 / 525], examples_per_second: 11484.8194, train_label_loss: 0.9795, \n"
     ]
    },
    {
     "name": "stdout",
     "output_type": "stream",
     "text": [
      "epoch: 2, [batch: 263 / 525], examples_per_second: 11726.1640, train_label_loss: 0.8238, \n"
     ]
    },
    {
     "name": "stdout",
     "output_type": "stream",
     "text": [
      "epoch: 2, [batch: 315 / 525], examples_per_second: 11899.5107, train_label_loss: 0.7660, \n"
     ]
    },
    {
     "name": "stdout",
     "output_type": "stream",
     "text": [
      "epoch: 2, [batch: 367 / 525], examples_per_second: 11635.5871, train_label_loss: 0.6930, \n"
     ]
    },
    {
     "name": "stdout",
     "output_type": "stream",
     "text": [
      "epoch: 2, [batch: 420 / 525], examples_per_second: 11621.4273, train_label_loss: 0.8772, \n"
     ]
    },
    {
     "name": "stdout",
     "output_type": "stream",
     "text": [
      "epoch: 2, [batch: 472 / 525], examples_per_second: 11724.7505, train_label_loss: 0.7346, \n"
     ]
    },
    {
     "name": "stdout",
     "output_type": "stream",
     "text": [
      "=============================================================\n",
      "epoch: 2, source_val_acc_label: 0.8590, source_val_label_loss: 0.6315, target_val_acc_label: 0.0684, target_val_label_loss: 11.0671, \n",
      "=============================================================\n"
     ]
    },
    {
     "name": "stdout",
     "output_type": "stream",
     "text": [
      "New best\n",
      "epoch: 3, [batch: 1 / 525], examples_per_second: 138.1315, train_label_loss: 0.5583, \n"
     ]
    },
    {
     "name": "stdout",
     "output_type": "stream",
     "text": [
      "epoch: 3, [batch: 53 / 525], examples_per_second: 11634.9519, train_label_loss: 0.7111, \n"
     ]
    },
    {
     "name": "stdout",
     "output_type": "stream",
     "text": [
      "epoch: 3, [batch: 105 / 525], examples_per_second: 11722.3381, train_label_loss: 0.5805, \n"
     ]
    },
    {
     "name": "stdout",
     "output_type": "stream",
     "text": [
      "epoch: 3, [batch: 158 / 525], examples_per_second: 11779.2020, train_label_loss: 0.4759, \n"
     ]
    },
    {
     "name": "stdout",
     "output_type": "stream",
     "text": [
      "epoch: 3, [batch: 210 / 525], examples_per_second: 11840.9542, train_label_loss: 0.5033, \n"
     ]
    },
    {
     "name": "stdout",
     "output_type": "stream",
     "text": [
      "epoch: 3, [batch: 263 / 525], examples_per_second: 11776.1502, train_label_loss: 0.4979, \n"
     ]
    },
    {
     "name": "stdout",
     "output_type": "stream",
     "text": [
      "epoch: 3, [batch: 315 / 525], examples_per_second: 11809.5131, train_label_loss: 0.5764, \n"
     ]
    },
    {
     "name": "stdout",
     "output_type": "stream",
     "text": [
      "epoch: 3, [batch: 367 / 525], examples_per_second: 11792.2734, train_label_loss: 0.4045, \n"
     ]
    },
    {
     "name": "stdout",
     "output_type": "stream",
     "text": [
      "epoch: 3, [batch: 420 / 525], examples_per_second: 11838.3736, train_label_loss: 0.4161, \n"
     ]
    },
    {
     "name": "stdout",
     "output_type": "stream",
     "text": [
      "epoch: 3, [batch: 472 / 525], examples_per_second: 11876.8918, train_label_loss: 0.3653, \n"
     ]
    },
    {
     "name": "stdout",
     "output_type": "stream",
     "text": [
      "=============================================================\n",
      "epoch: 3, source_val_acc_label: 0.9361, source_val_label_loss: 0.3672, target_val_acc_label: 0.0746, target_val_label_loss: 29.1528, \n",
      "=============================================================\n"
     ]
    },
    {
     "name": "stdout",
     "output_type": "stream",
     "text": [
      "New best\n",
      "epoch: 4, [batch: 1 / 525], examples_per_second: 143.7565, train_label_loss: 0.3767, \n"
     ]
    },
    {
     "name": "stdout",
     "output_type": "stream",
     "text": [
      "epoch: 4, [batch: 53 / 525], examples_per_second: 11403.0540, train_label_loss: 0.3829, \n"
     ]
    },
    {
     "name": "stdout",
     "output_type": "stream",
     "text": [
      "epoch: 4, [batch: 105 / 525], examples_per_second: 11669.9213, train_label_loss: 0.3224, \n"
     ]
    },
    {
     "name": "stdout",
     "output_type": "stream",
     "text": [
      "epoch: 4, [batch: 158 / 525], examples_per_second: 11679.2602, train_label_loss: 0.3150, \n"
     ]
    },
    {
     "name": "stdout",
     "output_type": "stream",
     "text": [
      "epoch: 4, [batch: 210 / 525], examples_per_second: 11805.7725, train_label_loss: 0.3337, \n"
     ]
    },
    {
     "name": "stdout",
     "output_type": "stream",
     "text": [
      "epoch: 4, [batch: 263 / 525], examples_per_second: 11830.7786, train_label_loss: 0.3717, \n"
     ]
    },
    {
     "name": "stdout",
     "output_type": "stream",
     "text": [
      "epoch: 4, [batch: 315 / 525], examples_per_second: 11703.6686, train_label_loss: 0.4358, \n"
     ]
    },
    {
     "name": "stdout",
     "output_type": "stream",
     "text": [
      "epoch: 4, [batch: 367 / 525], examples_per_second: 11734.7995, train_label_loss: 0.2562, \n"
     ]
    },
    {
     "name": "stdout",
     "output_type": "stream",
     "text": [
      "epoch: 4, [batch: 420 / 525], examples_per_second: 11802.2629, train_label_loss: 0.2446, \n"
     ]
    },
    {
     "name": "stdout",
     "output_type": "stream",
     "text": [
      "epoch: 4, [batch: 472 / 525], examples_per_second: 11800.5028, train_label_loss: 0.3472, \n"
     ]
    },
    {
     "name": "stdout",
     "output_type": "stream",
     "text": [
      "=============================================================\n",
      "epoch: 4, source_val_acc_label: 0.9122, source_val_label_loss: 0.3644, target_val_acc_label: 0.0713, target_val_label_loss: 15.3340, \n",
      "=============================================================\n"
     ]
    },
    {
     "name": "stdout",
     "output_type": "stream",
     "text": [
      "epoch: 5, [batch: 1 / 525], examples_per_second: 143.0274, train_label_loss: 0.2589, \n"
     ]
    },
    {
     "name": "stdout",
     "output_type": "stream",
     "text": [
      "epoch: 5, [batch: 53 / 525], examples_per_second: 11766.8849, train_label_loss: 0.2735, \n"
     ]
    },
    {
     "name": "stdout",
     "output_type": "stream",
     "text": [
      "epoch: 5, [batch: 105 / 525], examples_per_second: 11840.6679, train_label_loss: 0.2904, \n"
     ]
    },
    {
     "name": "stdout",
     "output_type": "stream",
     "text": [
      "epoch: 5, [batch: 158 / 525], examples_per_second: 11817.3207, train_label_loss: 0.2107, \n"
     ]
    },
    {
     "name": "stdout",
     "output_type": "stream",
     "text": [
      "epoch: 5, [batch: 210 / 525], examples_per_second: 11769.3603, train_label_loss: 0.2484, \n"
     ]
    },
    {
     "name": "stdout",
     "output_type": "stream",
     "text": [
      "epoch: 5, [batch: 263 / 525], examples_per_second: 11896.4613, train_label_loss: 0.2781, \n"
     ]
    },
    {
     "name": "stdout",
     "output_type": "stream",
     "text": [
      "epoch: 5, [batch: 315 / 525], examples_per_second: 11443.8281, train_label_loss: 0.3676, \n"
     ]
    },
    {
     "name": "stdout",
     "output_type": "stream",
     "text": [
      "epoch: 5, [batch: 367 / 525], examples_per_second: 11664.1385, train_label_loss: 0.2330, \n"
     ]
    },
    {
     "name": "stdout",
     "output_type": "stream",
     "text": [
      "epoch: 5, [batch: 420 / 525], examples_per_second: 11861.5780, train_label_loss: 0.2325, \n"
     ]
    },
    {
     "name": "stdout",
     "output_type": "stream",
     "text": [
      "epoch: 5, [batch: 472 / 525], examples_per_second: 11691.0285, train_label_loss: 0.1820, \n"
     ]
    },
    {
     "name": "stdout",
     "output_type": "stream",
     "text": [
      "=============================================================\n",
      "epoch: 5, source_val_acc_label: 0.9457, source_val_label_loss: 0.2383, target_val_acc_label: 0.0713, target_val_label_loss: 22.0369, \n",
      "=============================================================\n"
     ]
    },
    {
     "name": "stdout",
     "output_type": "stream",
     "text": [
      "epoch: 6, [batch: 1 / 525], examples_per_second: 142.2735, train_label_loss: 0.1860, \n"
     ]
    },
    {
     "name": "stdout",
     "output_type": "stream",
     "text": [
      "epoch: 6, [batch: 53 / 525], examples_per_second: 11727.4889, train_label_loss: 0.2041, \n"
     ]
    },
    {
     "name": "stdout",
     "output_type": "stream",
     "text": [
      "epoch: 6, [batch: 105 / 525], examples_per_second: 11810.6672, train_label_loss: 0.1644, \n"
     ]
    },
    {
     "name": "stdout",
     "output_type": "stream",
     "text": [
      "epoch: 6, [batch: 158 / 525], examples_per_second: 11948.6708, train_label_loss: 0.1787, \n"
     ]
    },
    {
     "name": "stdout",
     "output_type": "stream",
     "text": [
      "epoch: 6, [batch: 210 / 525], examples_per_second: 11752.5541, train_label_loss: 0.2010, \n"
     ]
    },
    {
     "name": "stdout",
     "output_type": "stream",
     "text": [
      "epoch: 6, [batch: 263 / 525], examples_per_second: 11889.8846, train_label_loss: 0.2258, \n"
     ]
    },
    {
     "name": "stdout",
     "output_type": "stream",
     "text": [
      "epoch: 6, [batch: 315 / 525], examples_per_second: 11865.5641, train_label_loss: 0.2345, \n"
     ]
    },
    {
     "name": "stdout",
     "output_type": "stream",
     "text": [
      "epoch: 6, [batch: 367 / 525], examples_per_second: 11779.3120, train_label_loss: 0.2532, \n"
     ]
    },
    {
     "name": "stdout",
     "output_type": "stream",
     "text": [
      "epoch: 6, [batch: 420 / 525], examples_per_second: 11865.6341, train_label_loss: 0.4273, \n"
     ]
    },
    {
     "name": "stdout",
     "output_type": "stream",
     "text": [
      "epoch: 6, [batch: 472 / 525], examples_per_second: 11762.6261, train_label_loss: 0.2218, \n"
     ]
    },
    {
     "name": "stdout",
     "output_type": "stream",
     "text": [
      "=============================================================\n",
      "epoch: 6, source_val_acc_label: 0.9493, source_val_label_loss: 0.2637, target_val_acc_label: 0.0723, target_val_label_loss: 69.1165, \n",
      "=============================================================\n"
     ]
    },
    {
     "name": "stdout",
     "output_type": "stream",
     "text": [
      "epoch: 7, [batch: 1 / 525], examples_per_second: 144.7286, train_label_loss: 0.1913, \n"
     ]
    },
    {
     "name": "stdout",
     "output_type": "stream",
     "text": [
      "epoch: 7, [batch: 53 / 525], examples_per_second: 12646.4998, train_label_loss: 0.2151, \n"
     ]
    },
    {
     "name": "stdout",
     "output_type": "stream",
     "text": [
      "epoch: 7, [batch: 105 / 525], examples_per_second: 12479.9673, train_label_loss: 0.1949, \n"
     ]
    },
    {
     "name": "stdout",
     "output_type": "stream",
     "text": [
      "epoch: 7, [batch: 158 / 525], examples_per_second: 12747.7534, train_label_loss: 0.1762, \n"
     ]
    },
    {
     "name": "stdout",
     "output_type": "stream",
     "text": [
      "epoch: 7, [batch: 210 / 525], examples_per_second: 12796.7441, train_label_loss: 0.1962, \n"
     ]
    },
    {
     "name": "stdout",
     "output_type": "stream",
     "text": [
      "epoch: 7, [batch: 263 / 525], examples_per_second: 12168.5291, train_label_loss: 0.1995, \n"
     ]
    },
    {
     "name": "stdout",
     "output_type": "stream",
     "text": [
      "epoch: 7, [batch: 315 / 525], examples_per_second: 10796.6545, train_label_loss: 0.1461, \n"
     ]
    },
    {
     "name": "stdout",
     "output_type": "stream",
     "text": [
      "epoch: 7, [batch: 367 / 525], examples_per_second: 10773.6800, train_label_loss: 0.1293, \n"
     ]
    },
    {
     "name": "stdout",
     "output_type": "stream",
     "text": [
      "epoch: 7, [batch: 420 / 525], examples_per_second: 10930.5886, train_label_loss: 0.2137, \n"
     ]
    },
    {
     "name": "stdout",
     "output_type": "stream",
     "text": [
      "epoch: 7, [batch: 472 / 525], examples_per_second: 10809.2624, train_label_loss: 0.2407, \n"
     ]
    },
    {
     "name": "stdout",
     "output_type": "stream",
     "text": [
      "=============================================================\n",
      "epoch: 7, source_val_acc_label: 0.9300, source_val_label_loss: 0.2441, target_val_acc_label: 0.0811, target_val_label_loss: 42.9925, \n",
      "=============================================================\n"
     ]
    },
    {
     "name": "stdout",
     "output_type": "stream",
     "text": [
      "New best\n",
      "epoch: 8, [batch: 1 / 525], examples_per_second: 118.4135, train_label_loss: 0.1809, \n"
     ]
    },
    {
     "name": "stdout",
     "output_type": "stream",
     "text": [
      "epoch: 8, [batch: 53 / 525], examples_per_second: 10740.4132, train_label_loss: 0.1532, \n"
     ]
    },
    {
     "name": "stdout",
     "output_type": "stream",
     "text": [
      "epoch: 8, [batch: 105 / 525], examples_per_second: 10744.3070, train_label_loss: 0.1234, \n"
     ]
    },
    {
     "name": "stdout",
     "output_type": "stream",
     "text": [
      "epoch: 8, [batch: 158 / 525], examples_per_second: 10719.9952, train_label_loss: 0.1300, \n"
     ]
    },
    {
     "name": "stdout",
     "output_type": "stream",
     "text": [
      "epoch: 8, [batch: 210 / 525], examples_per_second: 10728.3734, train_label_loss: 0.1252, \n"
     ]
    },
    {
     "name": "stdout",
     "output_type": "stream",
     "text": [
      "epoch: 8, [batch: 263 / 525], examples_per_second: 10815.2349, train_label_loss: 0.0992, \n"
     ]
    },
    {
     "name": "stdout",
     "output_type": "stream",
     "text": [
      "epoch: 8, [batch: 315 / 525], examples_per_second: 10716.5663, train_label_loss: 0.1224, \n"
     ]
    },
    {
     "name": "stdout",
     "output_type": "stream",
     "text": [
      "epoch: 8, [batch: 367 / 525], examples_per_second: 10774.8151, train_label_loss: 0.1634, \n"
     ]
    },
    {
     "name": "stdout",
     "output_type": "stream",
     "text": [
      "epoch: 8, [batch: 420 / 525], examples_per_second: 10670.5361, train_label_loss: 0.1711, \n"
     ]
    },
    {
     "name": "stdout",
     "output_type": "stream",
     "text": [
      "epoch: 8, [batch: 472 / 525], examples_per_second: 10782.9472, train_label_loss: 0.2270, \n"
     ]
    },
    {
     "name": "stdout",
     "output_type": "stream",
     "text": [
      "=============================================================\n",
      "epoch: 8, source_val_acc_label: 0.9593, source_val_label_loss: 0.1729, target_val_acc_label: 0.0757, target_val_label_loss: 45.8578, \n",
      "=============================================================\n"
     ]
    },
    {
     "name": "stdout",
     "output_type": "stream",
     "text": [
      "epoch: 9, [batch: 1 / 525], examples_per_second: 122.9527, train_label_loss: 0.1219, \n"
     ]
    },
    {
     "name": "stdout",
     "output_type": "stream",
     "text": [
      "epoch: 9, [batch: 53 / 525], examples_per_second: 10798.6466, train_label_loss: 0.1866, \n"
     ]
    },
    {
     "name": "stdout",
     "output_type": "stream",
     "text": [
      "epoch: 9, [batch: 105 / 525], examples_per_second: 10766.4961, train_label_loss: 0.0982, \n"
     ]
    },
    {
     "name": "stdout",
     "output_type": "stream",
     "text": [
      "epoch: 9, [batch: 158 / 525], examples_per_second: 10757.1464, train_label_loss: 0.1857, \n"
     ]
    },
    {
     "name": "stdout",
     "output_type": "stream",
     "text": [
      "epoch: 9, [batch: 210 / 525], examples_per_second: 10792.4640, train_label_loss: 0.0895, \n"
     ]
    },
    {
     "name": "stdout",
     "output_type": "stream",
     "text": [
      "epoch: 9, [batch: 263 / 525], examples_per_second: 10745.3049, train_label_loss: 0.1380, \n"
     ]
    },
    {
     "name": "stdout",
     "output_type": "stream",
     "text": [
      "epoch: 9, [batch: 315 / 525], examples_per_second: 10732.0110, train_label_loss: 0.1390, \n"
     ]
    },
    {
     "name": "stdout",
     "output_type": "stream",
     "text": [
      "epoch: 9, [batch: 367 / 525], examples_per_second: 10837.0735, train_label_loss: 0.2035, \n"
     ]
    },
    {
     "name": "stdout",
     "output_type": "stream",
     "text": [
      "epoch: 9, [batch: 420 / 525], examples_per_second: 10703.9210, train_label_loss: 0.1731, \n"
     ]
    },
    {
     "name": "stdout",
     "output_type": "stream",
     "text": [
      "epoch: 9, [batch: 472 / 525], examples_per_second: 10601.3298, train_label_loss: 0.1277, \n"
     ]
    },
    {
     "name": "stdout",
     "output_type": "stream",
     "text": [
      "=============================================================\n",
      "epoch: 9, source_val_acc_label: 0.9289, source_val_label_loss: 0.2570, target_val_acc_label: 0.0841, target_val_label_loss: 49.2576, \n",
      "=============================================================\n"
     ]
    },
    {
     "name": "stdout",
     "output_type": "stream",
     "text": [
      "New best\n",
      "epoch: 10, [batch: 1 / 525], examples_per_second: 117.8861, train_label_loss: 0.1463, \n"
     ]
    },
    {
     "name": "stdout",
     "output_type": "stream",
     "text": [
      "epoch: 10, [batch: 53 / 525], examples_per_second: 10749.5570, train_label_loss: 0.1356, \n"
     ]
    },
    {
     "name": "stdout",
     "output_type": "stream",
     "text": [
      "epoch: 10, [batch: 105 / 525], examples_per_second: 10777.4565, train_label_loss: 0.1726, \n"
     ]
    },
    {
     "name": "stdout",
     "output_type": "stream",
     "text": [
      "epoch: 10, [batch: 158 / 525], examples_per_second: 10613.2077, train_label_loss: 0.1132, \n"
     ]
    },
    {
     "name": "stdout",
     "output_type": "stream",
     "text": [
      "epoch: 10, [batch: 210 / 525], examples_per_second: 10735.1473, train_label_loss: 0.1218, \n"
     ]
    },
    {
     "name": "stdout",
     "output_type": "stream",
     "text": [
      "epoch: 10, [batch: 263 / 525], examples_per_second: 10647.1983, train_label_loss: 0.2243, \n"
     ]
    },
    {
     "name": "stdout",
     "output_type": "stream",
     "text": [
      "epoch: 10, [batch: 315 / 525], examples_per_second: 10818.0082, train_label_loss: 0.1570, \n"
     ]
    },
    {
     "name": "stdout",
     "output_type": "stream",
     "text": [
      "epoch: 10, [batch: 367 / 525], examples_per_second: 10792.4640, train_label_loss: 0.0987, \n"
     ]
    },
    {
     "name": "stdout",
     "output_type": "stream",
     "text": [
      "epoch: 10, [batch: 420 / 525], examples_per_second: 10803.2406, train_label_loss: 0.1323, \n"
     ]
    },
    {
     "name": "stdout",
     "output_type": "stream",
     "text": [
      "epoch: 10, [batch: 472 / 525], examples_per_second: 10768.2444, train_label_loss: 0.1295, \n"
     ]
    },
    {
     "name": "stdout",
     "output_type": "stream",
     "text": [
      "=============================================================\n",
      "epoch: 10, source_val_acc_label: 0.9513, source_val_label_loss: 0.2593, target_val_acc_label: 0.0763, target_val_label_loss: 60.4612, \n",
      "=============================================================\n"
     ]
    },
    {
     "name": "stdout",
     "output_type": "stream",
     "text": [
      "epoch: 11, [batch: 1 / 525], examples_per_second: 122.2520, train_label_loss: 0.1075, \n"
     ]
    },
    {
     "name": "stdout",
     "output_type": "stream",
     "text": [
      "epoch: 11, [batch: 53 / 525], examples_per_second: 10665.1332, train_label_loss: 0.1977, \n"
     ]
    },
    {
     "name": "stdout",
     "output_type": "stream",
     "text": [
      "epoch: 11, [batch: 105 / 525], examples_per_second: 10816.4029, train_label_loss: 0.1073, \n"
     ]
    },
    {
     "name": "stdout",
     "output_type": "stream",
     "text": [
      "epoch: 11, [batch: 158 / 525], examples_per_second: 10739.7526, train_label_loss: 0.1357, \n"
     ]
    },
    {
     "name": "stdout",
     "output_type": "stream",
     "text": [
      "epoch: 11, [batch: 210 / 525], examples_per_second: 10825.3450, train_label_loss: 0.1512, \n"
     ]
    },
    {
     "name": "stdout",
     "output_type": "stream",
     "text": [
      "epoch: 11, [batch: 263 / 525], examples_per_second: 10855.2075, train_label_loss: 0.0999, \n"
     ]
    },
    {
     "name": "stdout",
     "output_type": "stream",
     "text": [
      "epoch: 11, [batch: 315 / 525], examples_per_second: 10765.6408, train_label_loss: 0.1412, \n"
     ]
    },
    {
     "name": "stdout",
     "output_type": "stream",
     "text": [
      "epoch: 11, [batch: 367 / 525], examples_per_second: 10805.1165, train_label_loss: 0.0990, \n"
     ]
    },
    {
     "name": "stdout",
     "output_type": "stream",
     "text": [
      "epoch: 11, [batch: 420 / 525], examples_per_second: 10758.0290, train_label_loss: 0.1093, \n"
     ]
    },
    {
     "name": "stdout",
     "output_type": "stream",
     "text": [
      "epoch: 11, [batch: 472 / 525], examples_per_second: 11323.6662, train_label_loss: 0.1308, \n"
     ]
    },
    {
     "name": "stdout",
     "output_type": "stream",
     "text": [
      "=============================================================\n",
      "epoch: 11, source_val_acc_label: 0.9385, source_val_label_loss: 0.2632, target_val_acc_label: 0.0857, target_val_label_loss: 21.3961, \n",
      "=============================================================\n"
     ]
    },
    {
     "name": "stdout",
     "output_type": "stream",
     "text": [
      "New best\n",
      "epoch: 12, [batch: 1 / 525], examples_per_second: 136.6419, train_label_loss: 0.1393, \n"
     ]
    },
    {
     "name": "stdout",
     "output_type": "stream",
     "text": [
      "epoch: 12, [batch: 53 / 525], examples_per_second: 11550.4117, train_label_loss: 0.0880, \n"
     ]
    },
    {
     "name": "stdout",
     "output_type": "stream",
     "text": [
      "epoch: 12, [batch: 105 / 525], examples_per_second: 11752.6086, train_label_loss: 0.0867, \n"
     ]
    },
    {
     "name": "stdout",
     "output_type": "stream",
     "text": [
      "epoch: 12, [batch: 158 / 525], examples_per_second: 11734.4284, train_label_loss: 0.1678, \n"
     ]
    },
    {
     "name": "stdout",
     "output_type": "stream",
     "text": [
      "epoch: 12, [batch: 210 / 525], examples_per_second: 11778.4572, train_label_loss: 0.0933, \n"
     ]
    },
    {
     "name": "stdout",
     "output_type": "stream",
     "text": [
      "epoch: 12, [batch: 263 / 525], examples_per_second: 11748.3141, train_label_loss: 0.1246, \n"
     ]
    },
    {
     "name": "stdout",
     "output_type": "stream",
     "text": [
      "epoch: 12, [batch: 315 / 525], examples_per_second: 11649.4102, train_label_loss: 0.1731, \n"
     ]
    },
    {
     "name": "stdout",
     "output_type": "stream",
     "text": [
      "epoch: 12, [batch: 367 / 525], examples_per_second: 11917.4523, train_label_loss: 0.1481, \n"
     ]
    },
    {
     "name": "stdout",
     "output_type": "stream",
     "text": [
      "epoch: 12, [batch: 420 / 525], examples_per_second: 11873.7941, train_label_loss: 0.1579, \n"
     ]
    },
    {
     "name": "stdout",
     "output_type": "stream",
     "text": [
      "epoch: 12, [batch: 472 / 525], examples_per_second: 11795.9655, train_label_loss: 0.0986, \n"
     ]
    },
    {
     "name": "stdout",
     "output_type": "stream",
     "text": [
      "=============================================================\n",
      "epoch: 12, source_val_acc_label: 0.9550, source_val_label_loss: 0.2716, target_val_acc_label: 0.0613, target_val_label_loss: 115.5339, \n",
      "=============================================================\n"
     ]
    },
    {
     "name": "stdout",
     "output_type": "stream",
     "text": [
      "epoch: 13, [batch: 1 / 525], examples_per_second: 140.5534, train_label_loss: 0.0828, \n"
     ]
    },
    {
     "name": "stdout",
     "output_type": "stream",
     "text": [
      "epoch: 13, [batch: 53 / 525], examples_per_second: 11618.2322, train_label_loss: 0.1166, \n"
     ]
    },
    {
     "name": "stdout",
     "output_type": "stream",
     "text": [
      "epoch: 13, [batch: 105 / 525], examples_per_second: 11874.8660, train_label_loss: 0.0956, \n"
     ]
    },
    {
     "name": "stdout",
     "output_type": "stream",
     "text": [
      "epoch: 13, [batch: 158 / 525], examples_per_second: 11717.0619, train_label_loss: 0.1807, \n"
     ]
    },
    {
     "name": "stdout",
     "output_type": "stream",
     "text": [
      "epoch: 13, [batch: 210 / 525], examples_per_second: 11884.3949, train_label_loss: 0.0893, \n"
     ]
    },
    {
     "name": "stdout",
     "output_type": "stream",
     "text": [
      "epoch: 13, [batch: 263 / 525], examples_per_second: 11824.6871, train_label_loss: 0.1750, \n"
     ]
    },
    {
     "name": "stdout",
     "output_type": "stream",
     "text": [
      "epoch: 13, [batch: 315 / 525], examples_per_second: 11806.5364, train_label_loss: 0.0857, \n"
     ]
    },
    {
     "name": "stdout",
     "output_type": "stream",
     "text": [
      "epoch: 13, [batch: 367 / 525], examples_per_second: 11691.6258, train_label_loss: 0.1466, \n"
     ]
    },
    {
     "name": "stdout",
     "output_type": "stream",
     "text": [
      "epoch: 13, [batch: 420 / 525], examples_per_second: 12449.4965, train_label_loss: 0.1707, \n"
     ]
    },
    {
     "name": "stdout",
     "output_type": "stream",
     "text": [
      "epoch: 13, [batch: 472 / 525], examples_per_second: 11832.9340, train_label_loss: 0.1077, \n"
     ]
    },
    {
     "name": "stdout",
     "output_type": "stream",
     "text": [
      "=============================================================\n",
      "epoch: 13, source_val_acc_label: 0.9485, source_val_label_loss: 0.2946, target_val_acc_label: 0.0665, target_val_label_loss: 82.8833, \n",
      "=============================================================\n"
     ]
    },
    {
     "name": "stdout",
     "output_type": "stream",
     "text": [
      "epoch: 14, [batch: 1 / 525], examples_per_second: 141.4237, train_label_loss: 0.1594, \n"
     ]
    },
    {
     "name": "stdout",
     "output_type": "stream",
     "text": [
      "epoch: 14, [batch: 53 / 525], examples_per_second: 11676.0857, train_label_loss: 0.0918, \n"
     ]
    },
    {
     "name": "stdout",
     "output_type": "stream",
     "text": [
      "epoch: 14, [batch: 105 / 525], examples_per_second: 11585.1817, train_label_loss: 0.0844, \n"
     ]
    },
    {
     "name": "stdout",
     "output_type": "stream",
     "text": [
      "epoch: 14, [batch: 158 / 525], examples_per_second: 11767.2381, train_label_loss: 0.0949, \n"
     ]
    },
    {
     "name": "stdout",
     "output_type": "stream",
     "text": [
      "epoch: 14, [batch: 210 / 525], examples_per_second: 11621.7677, train_label_loss: 0.1126, \n"
     ]
    },
    {
     "name": "stdout",
     "output_type": "stream",
     "text": [
      "epoch: 14, [batch: 263 / 525], examples_per_second: 11762.9913, train_label_loss: 0.1115, \n"
     ]
    },
    {
     "name": "stdout",
     "output_type": "stream",
     "text": [
      "epoch: 14, [batch: 315 / 525], examples_per_second: 11702.7561, train_label_loss: 0.1231, \n"
     ]
    },
    {
     "name": "stdout",
     "output_type": "stream",
     "text": [
      "epoch: 14, [batch: 367 / 525], examples_per_second: 11751.2729, train_label_loss: 0.0970, \n"
     ]
    },
    {
     "name": "stdout",
     "output_type": "stream",
     "text": [
      "epoch: 14, [batch: 420 / 525], examples_per_second: 11661.6024, train_label_loss: 0.0929, \n"
     ]
    },
    {
     "name": "stdout",
     "output_type": "stream",
     "text": [
      "epoch: 14, [batch: 472 / 525], examples_per_second: 11815.1109, train_label_loss: 0.0819, \n"
     ]
    },
    {
     "name": "stdout",
     "output_type": "stream",
     "text": [
      "=============================================================\n",
      "epoch: 14, source_val_acc_label: 0.9646, source_val_label_loss: 0.2305, target_val_acc_label: 0.0718, target_val_label_loss: 119.0528, \n",
      "=============================================================\n"
     ]
    },
    {
     "name": "stdout",
     "output_type": "stream",
     "text": [
      "epoch: 15, [batch: 1 / 525], examples_per_second: 142.0206, train_label_loss: 0.0778, \n"
     ]
    },
    {
     "name": "stdout",
     "output_type": "stream",
     "text": [
      "epoch: 15, [batch: 53 / 525], examples_per_second: 11583.6627, train_label_loss: 0.0678, \n"
     ]
    },
    {
     "name": "stdout",
     "output_type": "stream",
     "text": [
      "epoch: 15, [batch: 105 / 525], examples_per_second: 11704.1838, train_label_loss: 0.0628, \n"
     ]
    },
    {
     "name": "stdout",
     "output_type": "stream",
     "text": [
      "epoch: 15, [batch: 158 / 525], examples_per_second: 11723.4729, train_label_loss: 0.0798, \n"
     ]
    },
    {
     "name": "stdout",
     "output_type": "stream",
     "text": [
      "epoch: 15, [batch: 210 / 525], examples_per_second: 11741.5314, train_label_loss: 0.0854, \n"
     ]
    },
    {
     "name": "stdout",
     "output_type": "stream",
     "text": [
      "epoch: 15, [batch: 263 / 525], examples_per_second: 11675.4120, train_label_loss: 0.0851, \n"
     ]
    },
    {
     "name": "stdout",
     "output_type": "stream",
     "text": [
      "epoch: 15, [batch: 315 / 525], examples_per_second: 11778.5367, train_label_loss: 0.1025, \n"
     ]
    },
    {
     "name": "stdout",
     "output_type": "stream",
     "text": [
      "epoch: 15, [batch: 367 / 525], examples_per_second: 11897.1882, train_label_loss: 0.1357, \n"
     ]
    },
    {
     "name": "stdout",
     "output_type": "stream",
     "text": [
      "epoch: 15, [batch: 420 / 525], examples_per_second: 11708.5810, train_label_loss: 0.0737, \n"
     ]
    },
    {
     "name": "stdout",
     "output_type": "stream",
     "text": [
      "epoch: 15, [batch: 472 / 525], examples_per_second: 11812.3413, train_label_loss: 0.0896, \n"
     ]
    },
    {
     "name": "stdout",
     "output_type": "stream",
     "text": [
      "=============================================================\n",
      "epoch: 15, source_val_acc_label: 0.9331, source_val_label_loss: 0.3657, target_val_acc_label: 0.0980, target_val_label_loss: 39.3141, \n",
      "=============================================================\n"
     ]
    },
    {
     "name": "stdout",
     "output_type": "stream",
     "text": [
      "New best\n",
      "epoch: 16, [batch: 1 / 525], examples_per_second: 141.1838, train_label_loss: 0.1151, \n"
     ]
    },
    {
     "name": "stdout",
     "output_type": "stream",
     "text": [
      "epoch: 16, [batch: 53 / 525], examples_per_second: 11637.9639, train_label_loss: 0.0564, \n"
     ]
    },
    {
     "name": "stdout",
     "output_type": "stream",
     "text": [
      "epoch: 16, [batch: 105 / 525], examples_per_second: 11788.0460, train_label_loss: 0.0699, \n"
     ]
    },
    {
     "name": "stdout",
     "output_type": "stream",
     "text": [
      "epoch: 16, [batch: 158 / 525], examples_per_second: 11801.0441, train_label_loss: 0.0958, \n"
     ]
    },
    {
     "name": "stdout",
     "output_type": "stream",
     "text": [
      "epoch: 16, [batch: 210 / 525], examples_per_second: 11781.5788, train_label_loss: 0.1141, \n"
     ]
    },
    {
     "name": "stdout",
     "output_type": "stream",
     "text": [
      "epoch: 16, [batch: 263 / 525], examples_per_second: 11803.5212, train_label_loss: 0.1168, \n"
     ]
    },
    {
     "name": "stdout",
     "output_type": "stream",
     "text": [
      "epoch: 16, [batch: 315 / 525], examples_per_second: 11734.6219, train_label_loss: 0.0821, \n"
     ]
    },
    {
     "name": "stdout",
     "output_type": "stream",
     "text": [
      "epoch: 16, [batch: 367 / 525], examples_per_second: 11758.4199, train_label_loss: 0.0564, \n"
     ]
    },
    {
     "name": "stdout",
     "output_type": "stream",
     "text": [
      "epoch: 16, [batch: 420 / 525], examples_per_second: 11704.8434, train_label_loss: 0.0937, \n"
     ]
    },
    {
     "name": "stdout",
     "output_type": "stream",
     "text": [
      "epoch: 16, [batch: 472 / 525], examples_per_second: 11777.6919, train_label_loss: 0.0972, \n"
     ]
    },
    {
     "name": "stdout",
     "output_type": "stream",
     "text": [
      "=============================================================\n",
      "epoch: 16, source_val_acc_label: 0.9632, source_val_label_loss: 0.2646, target_val_acc_label: 0.0871, target_val_label_loss: 107.9399, \n",
      "=============================================================\n"
     ]
    },
    {
     "name": "stdout",
     "output_type": "stream",
     "text": [
      "epoch: 17, [batch: 1 / 525], examples_per_second: 152.0241, train_label_loss: 0.0760, \n"
     ]
    },
    {
     "name": "stdout",
     "output_type": "stream",
     "text": [
      "epoch: 17, [batch: 53 / 525], examples_per_second: 12774.3176, train_label_loss: 0.0857, \n"
     ]
    },
    {
     "name": "stdout",
     "output_type": "stream",
     "text": [
      "epoch: 17, [batch: 105 / 525], examples_per_second: 12624.9845, train_label_loss: 0.0838, \n"
     ]
    },
    {
     "name": "stdout",
     "output_type": "stream",
     "text": [
      "epoch: 17, [batch: 158 / 525], examples_per_second: 11772.1016, train_label_loss: 0.0599, \n"
     ]
    },
    {
     "name": "stdout",
     "output_type": "stream",
     "text": [
      "epoch: 17, [batch: 210 / 525], examples_per_second: 10898.2385, train_label_loss: 0.0429, \n"
     ]
    },
    {
     "name": "stdout",
     "output_type": "stream",
     "text": [
      "epoch: 17, [batch: 263 / 525], examples_per_second: 10633.0260, train_label_loss: 0.1004, \n"
     ]
    },
    {
     "name": "stdout",
     "output_type": "stream",
     "text": [
      "epoch: 17, [batch: 315 / 525], examples_per_second: 10776.1419, train_label_loss: 0.0811, \n"
     ]
    },
    {
     "name": "stdout",
     "output_type": "stream",
     "text": [
      "epoch: 17, [batch: 367 / 525], examples_per_second: 10810.2502, train_label_loss: 0.0814, \n"
     ]
    },
    {
     "name": "stdout",
     "output_type": "stream",
     "text": [
      "epoch: 17, [batch: 420 / 525], examples_per_second: 10795.8134, train_label_loss: 0.0788, \n"
     ]
    },
    {
     "name": "stdout",
     "output_type": "stream",
     "text": [
      "epoch: 17, [batch: 472 / 525], examples_per_second: 10712.0842, train_label_loss: 0.1047, \n"
     ]
    },
    {
     "name": "stdout",
     "output_type": "stream",
     "text": [
      "=============================================================\n",
      "epoch: 17, source_val_acc_label: 0.9437, source_val_label_loss: 0.3693, target_val_acc_label: 0.0880, target_val_label_loss: 121.9177, \n",
      "=============================================================\n"
     ]
    },
    {
     "name": "stdout",
     "output_type": "stream",
     "text": [
      "epoch: 18, [batch: 1 / 525], examples_per_second: 125.2619, train_label_loss: 0.1035, \n"
     ]
    },
    {
     "name": "stdout",
     "output_type": "stream",
     "text": [
      "epoch: 18, [batch: 53 / 525], examples_per_second: 10657.3081, train_label_loss: 0.0978, \n"
     ]
    },
    {
     "name": "stdout",
     "output_type": "stream",
     "text": [
      "epoch: 18, [batch: 105 / 525], examples_per_second: 10716.6486, train_label_loss: 0.0972, \n"
     ]
    },
    {
     "name": "stdout",
     "output_type": "stream",
     "text": [
      "epoch: 18, [batch: 158 / 525], examples_per_second: 10812.1444, train_label_loss: 0.1050, \n"
     ]
    },
    {
     "name": "stdout",
     "output_type": "stream",
     "text": [
      "epoch: 18, [batch: 210 / 525], examples_per_second: 10795.5606, train_label_loss: 0.0854, \n"
     ]
    },
    {
     "name": "stdout",
     "output_type": "stream",
     "text": [
      "epoch: 18, [batch: 263 / 525], examples_per_second: 10648.8719, train_label_loss: 0.0418, \n"
     ]
    },
    {
     "name": "stdout",
     "output_type": "stream",
     "text": [
      "epoch: 18, [batch: 315 / 525], examples_per_second: 10764.9517, train_label_loss: 0.0851, \n"
     ]
    },
    {
     "name": "stdout",
     "output_type": "stream",
     "text": [
      "epoch: 18, [batch: 367 / 525], examples_per_second: 10756.8053, train_label_loss: 0.0800, \n"
     ]
    },
    {
     "name": "stdout",
     "output_type": "stream",
     "text": [
      "epoch: 18, [batch: 420 / 525], examples_per_second: 10679.0462, train_label_loss: 0.1288, \n"
     ]
    },
    {
     "name": "stdout",
     "output_type": "stream",
     "text": [
      "epoch: 18, [batch: 472 / 525], examples_per_second: 10860.8434, train_label_loss: 0.1434, \n"
     ]
    },
    {
     "name": "stdout",
     "output_type": "stream",
     "text": [
      "=============================================================\n",
      "epoch: 18, source_val_acc_label: 0.9701, source_val_label_loss: 0.4118, target_val_acc_label: 0.0771, target_val_label_loss: 60.5992, \n",
      "=============================================================\n"
     ]
    },
    {
     "name": "stdout",
     "output_type": "stream",
     "text": [
      "epoch: 19, [batch: 1 / 525], examples_per_second: 122.2956, train_label_loss: 0.0571, \n"
     ]
    },
    {
     "name": "stdout",
     "output_type": "stream",
     "text": [
      "epoch: 19, [batch: 53 / 525], examples_per_second: 10488.0921, train_label_loss: 0.0723, \n"
     ]
    },
    {
     "name": "stdout",
     "output_type": "stream",
     "text": [
      "epoch: 19, [batch: 105 / 525], examples_per_second: 10829.7670, train_label_loss: 0.0849, \n"
     ]
    },
    {
     "name": "stdout",
     "output_type": "stream",
     "text": [
      "epoch: 19, [batch: 158 / 525], examples_per_second: 10696.9032, train_label_loss: 0.0794, \n"
     ]
    },
    {
     "name": "stdout",
     "output_type": "stream",
     "text": [
      "epoch: 19, [batch: 210 / 525], examples_per_second: 10763.7646, train_label_loss: 0.0703, \n"
     ]
    },
    {
     "name": "stdout",
     "output_type": "stream",
     "text": [
      "epoch: 19, [batch: 263 / 525], examples_per_second: 10623.8552, train_label_loss: 0.0815, \n"
     ]
    },
    {
     "name": "stdout",
     "output_type": "stream",
     "text": [
      "epoch: 19, [batch: 315 / 525], examples_per_second: 10681.8562, train_label_loss: 0.0683, \n"
     ]
    },
    {
     "name": "stdout",
     "output_type": "stream",
     "text": [
      "epoch: 19, [batch: 367 / 525], examples_per_second: 10592.0183, train_label_loss: 0.1669, \n"
     ]
    },
    {
     "name": "stdout",
     "output_type": "stream",
     "text": [
      "epoch: 19, [batch: 420 / 525], examples_per_second: 10875.8369, train_label_loss: 0.0949, \n"
     ]
    },
    {
     "name": "stdout",
     "output_type": "stream",
     "text": [
      "epoch: 19, [batch: 472 / 525], examples_per_second: 10784.0301, train_label_loss: 0.0755, \n"
     ]
    },
    {
     "name": "stdout",
     "output_type": "stream",
     "text": [
      "=============================================================\n",
      "epoch: 19, source_val_acc_label: 0.9601, source_val_label_loss: 0.2449, target_val_acc_label: 0.0826, target_val_label_loss: 303.0603, \n",
      "=============================================================\n"
     ]
    },
    {
     "name": "stdout",
     "output_type": "stream",
     "text": [
      "Patience (3) exhausted\n"
     ]
    }
   ],
   "source": [
    "jig = Vanilla_Train_Eval_Test_Jig(\n",
    "    model=model,\n",
    "    path_to_best_model=p.BEST_MODEL_PATH,\n",
    "    device=p.device,\n",
    "    label_loss_object=torch.nn.NLLLoss(),\n",
    ")\n",
    "\n",
    "jig.train(\n",
    "    train_iterable=datasets.source.processed.train,\n",
    "    source_val_iterable=datasets.source.processed.val,\n",
    "    target_val_iterable=datasets.target.processed.val,\n",
    "    patience=p.patience,\n",
    "    num_epochs=p.n_epoch,\n",
    "    num_logs_per_epoch=p.NUM_LOGS_PER_EPOCH,\n",
    "    criteria_for_best=p.criteria_for_best\n",
    ")"
   ]
  },
  {
   "cell_type": "code",
   "execution_count": 14,
   "id": "4bc2ac17",
   "metadata": {
    "execution": {
     "iopub.execute_input": "2022-03-25T23:34:00.424359Z",
     "iopub.status.busy": "2022-03-25T23:34:00.423991Z",
     "iopub.status.idle": "2022-03-25T23:34:00.426449Z",
     "shell.execute_reply": "2022-03-25T23:34:00.426128Z"
    },
    "papermill": {
     "duration": 0.077965,
     "end_time": "2022-03-25T23:34:00.426521",
     "exception": false,
     "start_time": "2022-03-25T23:34:00.348556",
     "status": "completed"
    },
    "tags": []
   },
   "outputs": [],
   "source": [
    "total_experiment_time_secs = time.time() - start_time_secs"
   ]
  },
  {
   "cell_type": "code",
   "execution_count": 15,
   "id": "cae88f23",
   "metadata": {
    "execution": {
     "iopub.execute_input": "2022-03-25T23:34:00.583227Z",
     "iopub.status.busy": "2022-03-25T23:34:00.582185Z",
     "iopub.status.idle": "2022-03-25T23:34:12.322340Z",
     "shell.execute_reply": "2022-03-25T23:34:12.321607Z"
    },
    "papermill": {
     "duration": 11.822806,
     "end_time": "2022-03-25T23:34:12.322521",
     "exception": false,
     "start_time": "2022-03-25T23:34:00.499715",
     "status": "completed"
    },
    "tags": []
   },
   "outputs": [],
   "source": [
    "source_test_label_accuracy, source_test_label_loss = jig.test(datasets.source.processed.test)\n",
    "target_test_label_accuracy, target_test_label_loss = jig.test(datasets.target.processed.test)\n",
    "\n",
    "source_val_label_accuracy, source_val_label_loss = jig.test(datasets.source.processed.val)\n",
    "target_val_label_accuracy, target_val_label_loss = jig.test(datasets.target.processed.val)\n",
    "\n",
    "history = jig.get_history()\n",
    "\n",
    "total_epochs_trained = len(history[\"epoch_indices\"])\n",
    "\n",
    "val_dl = wrap_in_dataloader(p, Sequence_Aggregator((datasets.source.original.val, datasets.target.original.val)))\n",
    "\n",
    "confusion = confusion_by_domain_over_dataloader(model, p.device, val_dl, forward_uses_domain=False)\n",
    "per_domain_accuracy = per_domain_accuracy_from_confusion(confusion)\n",
    "\n",
    "# Add a key to per_domain_accuracy for if it was a source domain\n",
    "for domain, accuracy in per_domain_accuracy.items():\n",
    "    per_domain_accuracy[domain] = {\n",
    "        \"accuracy\": accuracy,\n",
    "        \"source?\": domain in p.domains_source\n",
    "    }\n",
    "\n",
    "# Do an independent accuracy assesment JUST TO BE SURE!\n",
    "# _source_test_label_accuracy = independent_accuracy_assesment(model, datasets.source.processed.test, p.device)\n",
    "# _target_test_label_accuracy = independent_accuracy_assesment(model, datasets.target.processed.test, p.device)\n",
    "# _source_val_label_accuracy = independent_accuracy_assesment(model, datasets.source.processed.val, p.device)\n",
    "# _target_val_label_accuracy = independent_accuracy_assesment(model, datasets.target.processed.val, p.device)\n",
    "\n",
    "# assert(_source_test_label_accuracy == source_test_label_accuracy)\n",
    "# assert(_target_test_label_accuracy == target_test_label_accuracy)\n",
    "# assert(_source_val_label_accuracy == source_val_label_accuracy)\n",
    "# assert(_target_val_label_accuracy == target_val_label_accuracy)\n",
    "\n",
    "###################################\n",
    "# Write out the results\n",
    "###################################\n",
    "\n",
    "experiment = {\n",
    "    \"experiment_name\": p.experiment_name,\n",
    "    \"parameters\": p,\n",
    "    \"results\": {\n",
    "        \"source_test_label_accuracy\": source_test_label_accuracy,\n",
    "        \"source_test_label_loss\": source_test_label_loss,\n",
    "        \"target_test_label_accuracy\": target_test_label_accuracy,\n",
    "        \"target_test_label_loss\": target_test_label_loss,\n",
    "        \"source_val_label_accuracy\": source_val_label_accuracy,\n",
    "        \"source_val_label_loss\": source_val_label_loss,\n",
    "        \"target_val_label_accuracy\": target_val_label_accuracy,\n",
    "        \"target_val_label_loss\": target_val_label_loss,\n",
    "        \"total_epochs_trained\": total_epochs_trained,\n",
    "        \"total_experiment_time_secs\": total_experiment_time_secs,\n",
    "        \"confusion\": confusion,\n",
    "        \"per_domain_accuracy\": per_domain_accuracy,\n",
    "    },\n",
    "    \"history\": history,\n",
    "    \"dataset_metrics\": get_dataset_metrics(datasets, \"cnn\"),\n",
    "}"
   ]
  },
  {
   "cell_type": "code",
   "execution_count": 16,
   "id": "74c318cf",
   "metadata": {
    "execution": {
     "iopub.execute_input": "2022-03-25T23:34:12.507214Z",
     "iopub.status.busy": "2022-03-25T23:34:12.502055Z",
     "iopub.status.idle": "2022-03-25T23:34:12.679049Z",
     "shell.execute_reply": "2022-03-25T23:34:12.678329Z"
    },
    "papermill": {
     "duration": 0.280392,
     "end_time": "2022-03-25T23:34:12.679230",
     "exception": false,
     "start_time": "2022-03-25T23:34:12.398838",
     "status": "completed"
    },
    "tags": []
   },
   "outputs": [
    {
     "data": {
      "text/plain": [
       "<AxesSubplot:title={'center':'Source Train Label Loss vs Source Val Label Loss'}, xlabel='Epoch'>"
      ]
     },
     "execution_count": 16,
     "metadata": {},
     "output_type": "execute_result"
    },
    {
     "data": {
      "image/png": "[encoded data removed]",
      "text/plain": [
       "<Figure size 1080x504 with 1 Axes>"
      ]
     },
     "metadata": {
      "needs_background": "light"
     },
     "output_type": "display_data"
    }
   ],
   "source": [
    "get_loss_curve(experiment)"
   ]
  },
  {
   "cell_type": "code",
   "execution_count": 17,
   "id": "59376601",
   "metadata": {
    "execution": {
     "iopub.execute_input": "2022-03-25T23:34:12.854716Z",
     "iopub.status.busy": "2022-03-25T23:34:12.853932Z",
     "iopub.status.idle": "2022-03-25T23:34:13.158705Z",
     "shell.execute_reply": "2022-03-25T23:34:13.158302Z"
    },
    "papermill": {
     "duration": 0.403318,
     "end_time": "2022-03-25T23:34:13.158803",
     "exception": false,
     "start_time": "2022-03-25T23:34:12.755485",
     "status": "completed"
    },
    "tags": []
   },
   "outputs": [
    {
     "data": {
      "text/plain": [
       "<AxesSubplot:title={'center':'Results'}>"
      ]
     },
     "execution_count": 17,
     "metadata": {},
     "output_type": "execute_result"
    },
    {
     "data": {
      "image/png": "[encoded data removed]",
      "text/plain": [
       "<Figure size 1080x504 with 1 Axes>"
      ]
     },
     "metadata": {
      "needs_background": "light"
     },
     "output_type": "display_data"
    }
   ],
   "source": [
    "get_results_table(experiment)"
   ]
  },
  {
   "cell_type": "code",
   "execution_count": 18,
   "id": "e80c5c98",
   "metadata": {
    "execution": {
     "iopub.execute_input": "2022-03-25T23:34:13.327690Z",
     "iopub.status.busy": "2022-03-25T23:34:13.324516Z",
     "iopub.status.idle": "2022-03-25T23:34:13.491789Z",
     "shell.execute_reply": "2022-03-25T23:34:13.490947Z"
    },
    "papermill": {
     "duration": 0.261018,
     "end_time": "2022-03-25T23:34:13.491954",
     "exception": false,
     "start_time": "2022-03-25T23:34:13.230936",
     "status": "completed"
    },
    "tags": []
   },
   "outputs": [
    {
     "data": {
      "text/plain": [
       "<AxesSubplot:title={'center':'Per Domain Accuracy'}, xlabel='domain'>"
      ]
     },
     "execution_count": 18,
     "metadata": {},
     "output_type": "execute_result"
    },
    {
     "data": {
      "image/png": "[encoded data removed]",
      "text/plain": [
       "<Figure size 1080x504 with 1 Axes>"
      ]
     },
     "metadata": {
      "needs_background": "light"
     },
     "output_type": "display_data"
    }
   ],
   "source": [
    "get_domain_accuracies(experiment)"
   ]
  },
  {
   "cell_type": "code",
   "execution_count": 19,
   "id": "086fdd10",
   "metadata": {
    "execution": {
     "iopub.execute_input": "2022-03-25T23:34:13.649083Z",
     "iopub.status.busy": "2022-03-25T23:34:13.648705Z",
     "iopub.status.idle": "2022-03-25T23:34:13.652409Z",
     "shell.execute_reply": "2022-03-25T23:34:13.652047Z"
    },
    "papermill": {
     "duration": 0.082212,
     "end_time": "2022-03-25T23:34:13.652480",
     "exception": false,
     "start_time": "2022-03-25T23:34:13.570268",
     "status": "completed"
    },
    "tags": []
   },
   "outputs": [
    {
     "name": "stdout",
     "output_type": "stream",
     "text": [
      "Source Test Label Accuracy: 0.9372916666666666 Target Test Label Accuracy: 0.09608333333333334\n",
      "Source Val Label Accuracy: 0.933125 Target Val Label Accuracy: 0.098\n"
     ]
    }
   ],
   "source": [
    "print(\"Source Test Label Accuracy:\", experiment[\"results\"][\"source_test_label_accuracy\"], \"Target Test Label Accuracy:\", experiment[\"results\"][\"target_test_label_accuracy\"])\n",
    "print(\"Source Val Label Accuracy:\", experiment[\"results\"][\"source_val_label_accuracy\"], \"Target Val Label Accuracy:\", experiment[\"results\"][\"target_val_label_accuracy\"])"
   ]
  },
  {
   "cell_type": "code",
   "execution_count": 20,
   "id": "9f450536",
   "metadata": {
    "execution": {
     "iopub.execute_input": "2022-03-25T23:34:13.811876Z",
     "iopub.status.busy": "2022-03-25T23:34:13.811297Z",
     "iopub.status.idle": "2022-03-25T23:34:13.815630Z",
     "shell.execute_reply": "2022-03-25T23:34:13.815130Z"
    },
    "papermill": {
     "duration": 0.084913,
     "end_time": "2022-03-25T23:34:13.815749",
     "exception": false,
     "start_time": "2022-03-25T23:34:13.730836",
     "status": "completed"
    },
    "tags": [
     "experiment_json"
    ]
   },
   "outputs": [
    {
     "data": {
      "text/plain": [
       "'{\"experiment_name\": \"cnn_1:oracle.run2.framed\", \"parameters\": {\"experiment_name\": \"cnn_1:oracle.run2.framed\", \"labels\": [\"3123D52\", \"3123D65\", \"3123D79\", \"3123D80\", \"3123D54\", \"3123D70\", \"3123D7B\", \"3123D89\", \"3123D58\", \"3123D76\", \"3123D7D\", \"3123EFE\", \"3123D64\", \"3123D78\", \"3123D7E\", \"3124E4A\"], \"domains_source\": [8, 32, 50], \"domains_target\": [14, 20, 26, 38, 44], \"pickle_name_source\": \"oracle.Run2_framed_2000Examples_stratified_ds.2022A.pkl\", \"pickle_name_target\": \"oracle.Run2_framed_2000Examples_stratified_ds.2022A.pkl\", \"device\": \"cuda\", \"lr\": 0.0001, \"batch_size\": 128, \"normalize_source\": false, \"normalize_target\": false, \"num_examples_per_domain_per_label_source\": -1, \"num_examples_per_domain_per_label_target\": -1, \"torch_default_dtype\": \"torch.float32\", \"n_epoch\": 50, \"patience\": 3, \"criteria_for_best\": \"target_accuracy\", \"x_net\": [{\"class\": \"nnReshape\", \"kargs\": {\"shape\": [-1, 1, 2, 256]}}, {\"class\": \"Conv2d\", \"kargs\": {\"in_channels\": 1, \"out_channels\": 256, \"kernel_size\": [1, 7], \"bias\": false, \"padding\": [0, 3]}}, {\"class\": \"ReLU\", \"kargs\": {\"inplace\": true}}, {\"class\": \"BatchNorm2d\", \"kargs\": {\"num_features\": 256}}, {\"class\": \"Conv2d\", \"kargs\": {\"in_channels\": 256, \"out_channels\": 80, \"kernel_size\": [2, 7], \"bias\": true, \"padding\": [0, 3]}}, {\"class\": \"ReLU\", \"kargs\": {\"inplace\": true}}, {\"class\": \"BatchNorm2d\", \"kargs\": {\"num_features\": 80}}, {\"class\": \"Flatten\", \"kargs\": {}}, {\"class\": \"Linear\", \"kargs\": {\"in_features\": 20480, \"out_features\": 256}}, {\"class\": \"ReLU\", \"kargs\": {\"inplace\": true}}, {\"class\": \"BatchNorm1d\", \"kargs\": {\"num_features\": 256}}, {\"class\": \"Linear\", \"kargs\": {\"in_features\": 256, \"out_features\": 16}}], \"NUM_LOGS_PER_EPOCH\": 10, \"BEST_MODEL_PATH\": \"./best_model.pth\", \"dataset_seed\": 1337, \"seed\": 1337}, \"results\": {\"source_test_label_accuracy\": 0.9372916666666666, \"source_test_label_loss\": 0.18177011991496636, \"target_test_label_accuracy\": 0.09608333333333334, \"target_test_label_loss\": 40.021667713814594, \"source_val_label_accuracy\": 0.933125, \"source_val_label_loss\": 0.3655971959233284, \"target_val_label_accuracy\": 0.098, \"target_val_label_loss\": 39.31349233870811, \"total_epochs_trained\": 19, \"total_experiment_time_secs\": 148.20110511779785, \"confusion\": {\"50\": {\"7\": {\"7\": 295, \"5\": 3, \"4\": 2}, \"13\": {\"13\": 283, \"8\": 15, \"10\": 2}, \"12\": {\"12\": 300}, \"6\": {\"15\": 2, \"6\": 292, \"5\": 5, \"12\": 1}, \"5\": {\"5\": 227, \"4\": 63, \"7\": 6, \"6\": 3, \"12\": 1}, \"11\": {\"11\": 285, \"12\": 10, \"14\": 4, \"2\": 1}, \"10\": {\"10\": 243, \"0\": 55, \"8\": 2}, \"15\": {\"15\": 296, \"6\": 1, \"12\": 2, \"9\": 1}, \"1\": {\"1\": 298, \"11\": 1, \"0\": 1}, \"8\": {\"8\": 300}, \"3\": {\"3\": 299, \"5\": 1}, \"4\": {\"4\": 283, \"5\": 12, \"15\": 3, \"7\": 2}, \"9\": {\"9\": 300}, \"2\": {\"2\": 300}, \"0\": {\"0\": 224, \"2\": 76}, \"14\": {\"14\": 296, \"9\": 4}}, \"8\": {\"8\": {\"8\": 285, \"11\": 15}, \"2\": {\"2\": 300}, \"7\": {\"7\": 286, \"8\": 13, \"4\": 1}, \"14\": {\"14\": 267, \"6\": 2, \"8\": 23, \"1\": 8}, \"15\": {\"15\": 299, \"12\": 1}, \"9\": {\"9\": 300}, \"1\": {\"1\": 300}, \"6\": {\"6\": 188, \"8\": 111, \"14\": 1}, \"0\": {\"0\": 300}, \"11\": {\"11\": 296, \"8\": 4}, \"13\": {\"13\": 299, \"10\": 1}, \"10\": {\"10\": 250, \"5\": 29, \"13\": 21}, \"5\": {\"5\": 281, \"1\": 19}, \"4\": {\"4\": 133, \"7\": 115, \"8\": 36, \"6\": 15, \"13\": 1}, \"3\": {\"3\": 299, \"6\": 1}, \"12\": {\"12\": 299, \"15\": 1}}, \"32\": {\"3\": {\"13\": 14, \"3\": 285, \"11\": 1}, \"13\": {\"13\": 240, \"11\": 13, \"4\": 47}, \"14\": {\"14\": 294, \"9\": 1, \"2\": 4, \"0\": 1}, \"4\": {\"4\": 298, \"2\": 1, \"0\": 1}, \"0\": {\"0\": 277, \"14\": 21, \"7\": 1, \"11\": 1}, \"10\": {\"10\": 300}, \"5\": {\"5\": 276, \"2\": 7, \"14\": 7, \"12\": 4, \"9\": 4, \"7\": 2}, \"15\": {\"15\": 292, \"8\": 8}, \"7\": {\"7\": 286, \"2\": 12, \"11\": 1, \"0\": 1}, \"2\": {\"2\": 299, \"14\": 1}, \"11\": {\"11\": 296, \"0\": 1, \"7\": 1, \"4\": 1, \"13\": 1}, \"12\": {\"12\": 299, \"2\": 1}, \"8\": {\"0\": 66, \"8\": 232, \"7\": 2}, \"6\": {\"6\": 300}, \"9\": {\"9\": 264, \"14\": 26, \"2\": 10}, \"1\": {\"1\": 296, \"8\": 4}}, \"44\": {\"1\": {\"8\": 83, \"7\": 193, \"5\": 24}, \"2\": {\"8\": 13, \"5\": 280, \"11\": 4, \"2\": 3}, \"7\": {\"9\": 233, \"5\": 46, \"15\": 21}, \"14\": {\"15\": 113, \"6\": 29, \"12\": 153, \"4\": 5}, \"13\": {\"9\": 165, \"15\": 110, \"4\": 25}, \"5\": {\"6\": 298, \"12\": 1, \"5\": 1}, \"3\": {\"7\": 109, \"4\": 181, \"2\": 10}, \"10\": {\"7\": 11, \"5\": 213, \"9\": 75, \"3\": 1}, \"9\": {\"5\": 115, \"9\": 137, \"15\": 48}, \"4\": {\"15\": 233, \"12\": 66, \"9\": 1}, \"12\": {\"3\": 126, \"7\": 154, \"13\": 2, \"8\": 10, \"4\": 8}, \"6\": {\"15\": 171, \"9\": 128, \"4\": 1}, \"15\": {\"12\": 208, \"6\": 91, \"11\": 1}, \"8\": {\"2\": 15, \"6\": 216, \"12\": 66, \"8\": 2, \"5\": 1}, \"0\": {\"6\": 88, \"2\": 152, \"12\": 10, \"8\": 37, \"0\": 13}, \"11\": {\"7\": 271, \"4\": 25, \"10\": 4}}, \"38\": {\"0\": {\"15\": 136, \"9\": 164}, \"5\": {\"1\": 92, \"4\": 25, \"11\": 96, \"15\": 36, \"9\": 49, \"5\": 2}, \"4\": {\"4\": 300}, \"13\": {\"4\": 270, \"7\": 29, \"9\": 1}, \"10\": {\"4\": 299, \"7\": 1}, \"9\": {\"9\": 272, \"12\": 3, \"14\": 25}, \"1\": {\"9\": 297, \"14\": 1, \"1\": 1, \"0\": 1}, \"7\": {\"15\": 71, \"4\": 199, \"9\": 30}, \"11\": {\"7\": 285, \"10\": 9, \"9\": 1, \"5\": 5}, \"2\": {\"5\": 290, \"7\": 6, \"3\": 3, \"8\": 1}, \"14\": {\"5\": 96, \"7\": 70, \"13\": 27, \"4\": 97, \"3\": 9, \"1\": 1}, \"15\": {\"9\": 148, \"1\": 133, \"11\": 16, \"14\": 3}, \"3\": {\"4\": 235, \"9\": 41, \"7\": 24}, \"6\": {\"9\": 156, \"14\": 143, \"0\": 1}, \"8\": {\"4\": 52, \"9\": 148, \"15\": 100}, \"12\": {\"6\": 114, \"13\": 184, \"1\": 2}}, \"20\": {\"2\": {\"2\": 203, \"12\": 97}, \"10\": {\"12\": 300}, \"1\": {\"2\": 300}, \"7\": {\"12\": 300}, \"12\": {\"12\": 217, \"2\": 80, \"7\": 3}, \"14\": {\"12\": 300}, \"4\": {\"12\": 294, \"15\": 6}, \"0\": {\"2\": 295, \"15\": 3, \"3\": 2}, \"15\": {\"2\": 299, \"12\": 1}, \"8\": {\"12\": 298, \"3\": 2}, \"11\": {\"3\": 290, \"2\": 10}, \"9\": {\"2\": 248, \"12\": 48, \"3\": 4}, \"13\": {\"2\": 300}, \"6\": {\"12\": 298, \"11\": 2}, \"3\": {\"12\": 293, \"2\": 7}, \"5\": {\"12\": 163, \"2\": 137}}, \"26\": {\"4\": {\"3\": 299, \"13\": 1}, \"13\": {\"3\": 299, \"12\": 1}, \"12\": {\"12\": 297, \"15\": 2, \"10\": 1}, \"15\": {\"12\": 30, \"3\": 195, \"9\": 18, \"13\": 57}, \"11\": {\"6\": 290, \"12\": 8, \"9\": 1, \"2\": 1}, \"3\": {\"3\": 284, \"9\": 5, \"13\": 11}, \"1\": {\"12\": 275, \"9\": 22, \"11\": 1, \"13\": 1, \"3\": 1}, \"5\": {\"9\": 143, \"3\": 96, \"11\": 29, \"12\": 32}, \"8\": {\"12\": 59, \"3\": 241}, \"0\": {\"12\": 172, \"13\": 27, \"3\": 100, \"9\": 1}, \"9\": {\"3\": 275, \"12\": 25}, \"7\": {\"3\": 292, \"12\": 7, \"9\": 1}, \"14\": {\"12\": 166, \"9\": 9, \"3\": 107, \"13\": 18}, \"6\": {\"12\": 289, \"9\": 6, \"3\": 5}, \"2\": {\"3\": 289, \"13\": 2, \"12\": 9}, \"10\": {\"3\": 97, \"12\": 192, \"13\": 8, \"9\": 3}}, \"14\": {\"12\": {\"12\": 46, \"2\": 166, \"7\": 31, \"3\": 6, \"15\": 9, \"13\": 4, \"6\": 32, \"5\": 1, \"11\": 2, \"8\": 1, \"10\": 2}, \"8\": {\"11\": 148, \"3\": 149, \"2\": 3}, \"4\": {\"3\": 300}, \"13\": {\"13\": 288, \"9\": 10, \"3\": 2}, \"3\": {\"3\": 286, \"13\": 14}, \"10\": {\"3\": 300}, \"9\": {\"2\": 300}, \"2\": {\"13\": 195, \"3\": 104, \"9\": 1}, \"6\": {\"9\": 51, \"13\": 248, \"3\": 1}, \"0\": {\"3\": 300}, \"1\": {\"3\": 197, \"11\": 102, \"0\": 1}, \"14\": {\"3\": 161, \"13\": 128, \"9\": 11}, \"5\": {\"13\": 66, \"3\": 234}, \"15\": {\"11\": 186, \"13\": 112, \"3\": 2}, \"11\": {\"2\": 156, \"7\": 131, \"4\": 3, \"12\": 10}, \"7\": {\"13\": 219, \"11\": 77, \"3\": 4}}}, \"per_domain_accuracy\": {\"50\": {\"accuracy\": 0.941875, \"source?\": true}, \"8\": {\"accuracy\": 0.9129166666666667, \"source?\": true}, \"32\": {\"accuracy\": 0.9445833333333333, \"source?\": true}, \"44\": {\"accuracy\": 0.0325, \"source?\": false}, \"38\": {\"accuracy\": 0.11979166666666667, \"source?\": false}, \"20\": {\"accuracy\": 0.0875, \"source?\": false}, \"26\": {\"accuracy\": 0.12104166666666667, \"source?\": false}, \"14\": {\"accuracy\": 0.12916666666666668, \"source?\": false}}}, \"history\": {\"epoch_indices\": [1, 2, 3, 4, 5, 6, 7, 8, 9, 10, 11, 12, 13, 14, 15, 16, 17, 18, 19], \"train_label_loss\": [1.954926328204927, 0.8955777612186614, 0.4849330984978449, 0.33520795719964164, 0.258022531469663, 0.21827186927908943, 0.1824395158461162, 0.1621669929651987, 0.15392306962183544, 0.13778256475925446, 0.12484617407123248, 0.1196236474670115, 0.10835348745896703, 0.11477360736756098, 0.0955162746210893, 0.0978346840540568, 0.08688913120400338, 0.09132831012209257, 0.0882922823656173], \"source_val_label_loss\": [1.456692821156662, 0.6315155583145344, 0.36718241013256847, 0.36437963226200204, 0.23833152242993885, 0.26367606473180044, 0.2441342263358884, 0.17286616227531856, 0.2570448950328658, 0.2592720316179031, 0.2632197933518781, 0.2715938507983115, 0.29461635701951727, 0.23049818543074405, 0.36565098647786454, 0.2646066908254824, 0.36926035810492736, 0.41183788355736606, 0.24491898768243536], \"target_val_label_loss\": [6.206881632196143, 11.067144330511702, 29.152775358646473, 15.333970328594775, 22.036895183806724, 69.11650716497543, 42.99249059088687, 45.857805084674915, 49.25764585048594, 60.46116377444977, 21.396119467755582, 115.53390233060146, 82.88331076439391, 119.05283656018845, 39.31410382656341, 107.93992576193303, 121.91771012164176, 60.59917168921613, 303.0602969717472], \"source_val_acc_label\": [0.51375, 0.8590277777777777, 0.9361111111111111, 0.9121527777777778, 0.9456944444444444, 0.9493055555555555, 0.93, 0.9593055555555555, 0.9288888888888889, 0.95125, 0.9384722222222223, 0.955, 0.9484722222222223, 0.9645833333333333, 0.933125, 0.9631944444444445, 0.9436805555555555, 0.9701388888888889, 0.9601388888888889], \"target_val_acc_label\": [0.06666666666666667, 0.06841666666666667, 0.074625, 0.07129166666666667, 0.07129166666666667, 0.07233333333333333, 0.081125, 0.07566666666666666, 0.08408333333333333, 0.07633333333333334, 0.08570833333333333, 0.06133333333333333, 0.06645833333333333, 0.07179166666666667, 0.098, 0.087125, 0.088, 0.077125, 0.082625]}, \"dataset_metrics\": {\"source\": {\"train\": {\"n_unique_x\": 67200, \"n_unique_y\": 16, \"n_batch/episode\": 525}, \"val\": {\"n_unique_x\": 14400, \"n_unique_y\": 16, \"n_batch/episode\": 113}, \"test\": {\"n_unique_x\": 14400, \"n_unique_y\": 16, \"n_batch/episode\": 113}}, \"target\": {\"train\": {\"n_unique_x\": 112000, \"n_unique_y\": 16, \"n_batch/episode\": 875}, \"val\": {\"n_unique_x\": 24000, \"n_unique_y\": 16, \"n_batch/episode\": 188}, \"test\": {\"n_unique_x\": 24000, \"n_unique_y\": 16, \"n_batch/episode\": 188}}}}'"
      ]
     },
     "execution_count": 20,
     "metadata": {},
     "output_type": "execute_result"
    }
   ],
   "source": [
    "json.dumps(experiment)"
   ]
  }
 ],
 "metadata": {
  "celltoolbar": "Tags",
  "kernelspec": {
   "display_name": "Python 3 (ipykernel)",
   "language": "python",
   "name": "python3"
  },
  "language_info": {
   "codemirror_mode": {
    "name": "ipython",
    "version": 3
   },
   "file_extension": ".py",
   "mimetype": "text/x-python",
   "name": "python",
   "nbconvert_exporter": "python",
   "pygments_lexer": "ipython3",
   "version": "3.8.12"
  },
  "papermill": {
   "default_parameters": {},
   "duration": 166.346395,
   "end_time": "2022-03-25T23:34:15.909111",
   "environment_variables": {},
   "exception": null,
   "input_path": "/root/csc500-main/csc500-notebooks/templates/cnn_template.ipynb",
   "output_path": "trial.ipynb",
   "parameters": {
    "parameters": {
     "BEST_MODEL_PATH": "./best_model.pth",
     "NUM_LOGS_PER_EPOCH": 10,
     "batch_size": 128,
     "criteria_for_best": "target_accuracy",
     "dataset_seed": 1337,
     "device": "cuda",
     "domains_source": [
      8,
      32,
      50
     ],
     "domains_target": [
      14,
      20,
      26,
      38,
      44
     ],
     "experiment_name": "cnn_1:oracle.run2.framed",
     "labels": [
      "3123D52",
      "3123D65",
      "3123D79",
      "3123D80",
      "3123D54",
      "3123D70",
      "3123D7B",
      "3123D89",
      "3123D58",
      "3123D76",
      "3123D7D",
      "3123EFE",
      "3123D64",
      "3123D78",
      "3123D7E",
      "3124E4A"
     ],
     "lr": 0.0001,
     "n_epoch": 50,
     "normalize_source": false,
     "normalize_target": false,
     "num_examples_per_domain_per_label_source": -1,
     "num_examples_per_domain_per_label_target": -1,
     "patience": 3,
     "pickle_name_source": "oracle.Run2_framed_2000Examples_stratified_ds.2022A.pkl",
     "pickle_name_target": "oracle.Run2_framed_2000Examples_stratified_ds.2022A.pkl",
     "seed": 1337,
     "torch_default_dtype": "torch.float32",
     "x_net": [
      {
       "class": "nnReshape",
       "kargs": {
        "shape": [
         -1,
         1,
         2,
         256
        ]
       }
      },
      {
       "class": "Conv2d",
       "kargs": {
        "bias": false,
        "in_channels": 1,
        "kernel_size": [
         1,
         7
        ],
        "out_channels": 256,
        "padding": [
         0,
         3
        ]
       }
      },
      {
       "class": "ReLU",
       "kargs": {
        "inplace": true
       }
      },
      {
       "class": "BatchNorm2d",
       "kargs": {
        "num_features": 256
       }
      },
      {
       "class": "Conv2d",
       "kargs": {
        "bias": true,
        "in_channels": 256,
        "kernel_size": [
         2,
         7
        ],
        "out_channels": 80,
        "padding": [
         0,
         3
        ]
       }
      },
      {
       "class": "ReLU",
       "kargs": {
        "inplace": true
       }
      },
      {
       "class": "BatchNorm2d",
       "kargs": {
        "num_features": 80
       }
      },
      {
       "class": "Flatten",
       "kargs": {}
      },
      {
       "class": "Linear",
       "kargs": {
        "in_features": 20480,
        "out_features": 256
       }
      },
      {
       "class": "ReLU",
       "kargs": {
        "inplace": true
       }
      },
      {
       "class": "BatchNorm1d",
       "kargs": {
        "num_features": 256
       }
      },
      {
       "class": "Linear",
       "kargs": {
        "in_features": 256,
        "out_features": 16
       }
      }
     ]
    }
   },
   "start_time": "2022-03-25T23:31:29.562716",
   "version": "2.3.4"
  }
 },
 "nbformat": 4,
 "nbformat_minor": 5
}