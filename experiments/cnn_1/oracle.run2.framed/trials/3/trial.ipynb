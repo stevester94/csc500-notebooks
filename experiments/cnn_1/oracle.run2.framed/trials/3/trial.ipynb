{
 "cells": [
  {
   "cell_type": "code",
   "execution_count": 1,
   "id": "2324682e",
   "metadata": {
    "execution": {
     "iopub.execute_input": "2022-03-25T23:22:36.459879Z",
     "iopub.status.busy": "2022-03-25T23:22:36.454576Z",
     "iopub.status.idle": "2022-03-25T23:22:37.782141Z",
     "shell.execute_reply": "2022-03-25T23:22:37.781290Z"
    },
    "papermill": {
     "duration": 1.361766,
     "end_time": "2022-03-25T23:22:37.782340",
     "exception": false,
     "start_time": "2022-03-25T23:22:36.420574",
     "status": "completed"
    },
    "tags": []
   },
   "outputs": [],
   "source": [
    "import os, json, sys, time, random\n",
    "import numpy as np\n",
    "import torch\n",
    "from  easydict import EasyDict\n",
    "from math import floor\n",
    "from easydict import EasyDict\n",
    "\n",
    "from steves_utils.vanilla_train_eval_test_jig import  Vanilla_Train_Eval_Test_Jig\n",
    "\n",
    "from steves_utils.torch_utils import get_dataset_metrics, independent_accuracy_assesment\n",
    "from steves_models.configurable_vanilla import Configurable_Vanilla\n",
    "from steves_utils.torch_sequential_builder import build_sequential\n",
    "from steves_utils.lazy_map import Lazy_Map\n",
    "from steves_utils.sequence_aggregator import Sequence_Aggregator\n",
    "\n",
    "from steves_utils.stratified_dataset.traditional_accessor import Traditional_Accessor_Factory\n",
    "\n",
    "from steves_utils.cnn_do_report import (\n",
    "    get_loss_curve,\n",
    "    get_results_table,\n",
    "    get_parameters_table,\n",
    "    get_domain_accuracies,\n",
    ")\n",
    "\n",
    "from steves_utils.torch_utils import (\n",
    "    confusion_by_domain_over_dataloader,\n",
    "    independent_accuracy_assesment\n",
    ")\n",
    "\n",
    "from steves_utils.utils_v2 import (\n",
    "    per_domain_accuracy_from_confusion,\n",
    "    get_datasets_base_path\n",
    ")\n",
    "\n",
    "# from steves_utils.ptn_do_report import TBD"
   ]
  },
  {
   "cell_type": "code",
   "execution_count": 2,
   "id": "1b29e3fe",
   "metadata": {
    "execution": {
     "iopub.execute_input": "2022-03-25T23:22:37.823694Z",
     "iopub.status.busy": "2022-03-25T23:22:37.823097Z",
     "iopub.status.idle": "2022-03-25T23:22:37.826055Z",
     "shell.execute_reply": "2022-03-25T23:22:37.825499Z"
    },
    "papermill": {
     "duration": 0.022531,
     "end_time": "2022-03-25T23:22:37.826161",
     "exception": false,
     "start_time": "2022-03-25T23:22:37.803630",
     "status": "completed"
    },
    "tags": []
   },
   "outputs": [],
   "source": [
    "required_parameters = {\n",
    "    \"experiment_name\",\n",
    "    \"lr\",\n",
    "    \"device\",\n",
    "    \"dataset_seed\",\n",
    "    \"seed\",\n",
    "    \"labels\",\n",
    "    \"domains_target\",\n",
    "    \"domains_source\",\n",
    "    \"num_examples_per_domain_per_label_source\",\n",
    "    \"num_examples_per_domain_per_label_target\",\n",
    "    \"batch_size\",\n",
    "    \"n_epoch\",\n",
    "    \"patience\",\n",
    "    \"criteria_for_best\",\n",
    "    \"normalize_source\",\n",
    "    \"normalize_target\",\n",
    "    \"x_net\",\n",
    "    \"NUM_LOGS_PER_EPOCH\",\n",
    "    \"BEST_MODEL_PATH\",\n",
    "    \"pickle_name_source\",\n",
    "    \"pickle_name_target\",\n",
    "    \"torch_default_dtype\",\n",
    "}"
   ]
  },
  {
   "cell_type": "code",
   "execution_count": 3,
   "id": "670b5fb8",
   "metadata": {
    "execution": {
     "iopub.execute_input": "2022-03-25T23:22:37.872293Z",
     "iopub.status.busy": "2022-03-25T23:22:37.871684Z",
     "iopub.status.idle": "2022-03-25T23:22:37.878983Z",
     "shell.execute_reply": "2022-03-25T23:22:37.878175Z"
    },
    "papermill": {
     "duration": 0.034853,
     "end_time": "2022-03-25T23:22:37.879135",
     "exception": false,
     "start_time": "2022-03-25T23:22:37.844282",
     "status": "completed"
    },
    "tags": [
     "parameters"
    ]
   },
   "outputs": [],
   "source": [
    "from steves_utils.ORACLE.utils_v2 import (\n",
    "    ALL_SERIAL_NUMBERS,\n",
    "    ALL_DISTANCES_FEET_NARROWED,\n",
    ")\n",
    "\n",
    "standalone_parameters = {}\n",
    "standalone_parameters[\"experiment_name\"] = \"MANUAL CORES CNN\"\n",
    "standalone_parameters[\"lr\"] = 0.0001\n",
    "standalone_parameters[\"device\"] = \"cuda\"\n",
    "\n",
    "standalone_parameters[\"dataset_seed\"] = 1337\n",
    "standalone_parameters[\"seed\"] = 1337\n",
    "standalone_parameters[\"labels\"] = ALL_SERIAL_NUMBERS\n",
    "\n",
    "standalone_parameters[\"domains_source\"] = [8,32,50]\n",
    "standalone_parameters[\"domains_target\"] = [14,20,26,38,44,]\n",
    "\n",
    "standalone_parameters[\"num_examples_per_domain_per_label_source\"]=-1\n",
    "standalone_parameters[\"num_examples_per_domain_per_label_target\"]=-1\n",
    "\n",
    "standalone_parameters[\"pickle_name_source\"] = \"oracle.Run1_framed_2000Examples_stratified_ds.2022A.pkl\"\n",
    "standalone_parameters[\"pickle_name_target\"] = \"oracle.Run2_framed_2000Examples_stratified_ds.2022A.pkl\"\n",
    "\n",
    "standalone_parameters[\"torch_default_dtype\"] = \"torch.float32\" \n",
    "\n",
    "standalone_parameters[\"batch_size\"]=128\n",
    "\n",
    "standalone_parameters[\"n_epoch\"] = 3\n",
    "\n",
    "standalone_parameters[\"patience\"] = 10\n",
    "\n",
    "standalone_parameters[\"criteria_for_best\"] = \"target_accuracy\"\n",
    "standalone_parameters[\"normalize_source\"] = False\n",
    "standalone_parameters[\"normalize_target\"] = False\n",
    "\n",
    "standalone_parameters[\"x_net\"] =     [\n",
    "    {\"class\": \"nnReshape\", \"kargs\": {\"shape\":[-1, 1, 2, 256]}},\n",
    "    {\"class\": \"Conv2d\", \"kargs\": { \"in_channels\":1, \"out_channels\":256, \"kernel_size\":(1,7), \"bias\":False, \"padding\":(0,3), },},\n",
    "    {\"class\": \"ReLU\", \"kargs\": {\"inplace\": True}},\n",
    "    {\"class\": \"BatchNorm2d\", \"kargs\": {\"num_features\":256}},\n",
    "\n",
    "    {\"class\": \"Conv2d\", \"kargs\": { \"in_channels\":256, \"out_channels\":80, \"kernel_size\":(2,7), \"bias\":True, \"padding\":(0,3), },},\n",
    "    {\"class\": \"ReLU\", \"kargs\": {\"inplace\": True}},\n",
    "    {\"class\": \"BatchNorm2d\", \"kargs\": {\"num_features\":80}},\n",
    "    {\"class\": \"Flatten\", \"kargs\": {}},\n",
    "\n",
    "    {\"class\": \"Linear\", \"kargs\": {\"in_features\": 80*256, \"out_features\": 256}}, # 80 units per IQ pair\n",
    "    {\"class\": \"ReLU\", \"kargs\": {\"inplace\": True}},\n",
    "    {\"class\": \"BatchNorm1d\", \"kargs\": {\"num_features\":256}},\n",
    "\n",
    "    {\"class\": \"Linear\", \"kargs\": {\"in_features\": 256, \"out_features\": len(standalone_parameters[\"labels\"])}},\n",
    "]\n",
    "\n",
    "standalone_parameters[\"NUM_LOGS_PER_EPOCH\"] = 10\n",
    "standalone_parameters[\"BEST_MODEL_PATH\"] = \"./best_model.pth\""
   ]
  },
  {
   "cell_type": "code",
   "execution_count": 4,
   "id": "6a49d397",
   "metadata": {
    "execution": {
     "iopub.execute_input": "2022-03-25T23:22:37.926777Z",
     "iopub.status.busy": "2022-03-25T23:22:37.925882Z",
     "iopub.status.idle": "2022-03-25T23:22:37.928490Z",
     "shell.execute_reply": "2022-03-25T23:22:37.927680Z"
    },
    "papermill": {
     "duration": 0.031483,
     "end_time": "2022-03-25T23:22:37.928642",
     "exception": false,
     "start_time": "2022-03-25T23:22:37.897159",
     "status": "completed"
    },
    "tags": [
     "injected-parameters"
    ]
   },
   "outputs": [],
   "source": [
    "# Parameters\n",
    "parameters = {\n",
    "    \"experiment_name\": \"cnn_1:oracle.run2.framed\",\n",
    "    \"labels\": [\n",
    "        \"3123D52\",\n",
    "        \"3123D65\",\n",
    "        \"3123D79\",\n",
    "        \"3123D80\",\n",
    "        \"3123D54\",\n",
    "        \"3123D70\",\n",
    "        \"3123D7B\",\n",
    "        \"3123D89\",\n",
    "        \"3123D58\",\n",
    "        \"3123D76\",\n",
    "        \"3123D7D\",\n",
    "        \"3123EFE\",\n",
    "        \"3123D64\",\n",
    "        \"3123D78\",\n",
    "        \"3123D7E\",\n",
    "        \"3124E4A\",\n",
    "    ],\n",
    "    \"domains_source\": [8, 32, 50],\n",
    "    \"domains_target\": [14, 20, 26, 38, 44],\n",
    "    \"pickle_name_source\": \"oracle.Run2_framed_2000Examples_stratified_ds.2022A.pkl\",\n",
    "    \"pickle_name_target\": \"oracle.Run2_framed_2000Examples_stratified_ds.2022A.pkl\",\n",
    "    \"device\": \"cuda\",\n",
    "    \"lr\": 0.0001,\n",
    "    \"batch_size\": 128,\n",
    "    \"normalize_source\": False,\n",
    "    \"normalize_target\": False,\n",
    "    \"num_examples_per_domain_per_label_source\": -1,\n",
    "    \"num_examples_per_domain_per_label_target\": -1,\n",
    "    \"torch_default_dtype\": \"torch.float32\",\n",
    "    \"n_epoch\": 50,\n",
    "    \"patience\": 3,\n",
    "    \"criteria_for_best\": \"target_accuracy\",\n",
    "    \"x_net\": [\n",
    "        {\"class\": \"nnReshape\", \"kargs\": {\"shape\": [-1, 1, 2, 256]}},\n",
    "        {\n",
    "            \"class\": \"Conv2d\",\n",
    "            \"kargs\": {\n",
    "                \"in_channels\": 1,\n",
    "                \"out_channels\": 256,\n",
    "                \"kernel_size\": [1, 7],\n",
    "                \"bias\": False,\n",
    "                \"padding\": [0, 3],\n",
    "            },\n",
    "        },\n",
    "        {\"class\": \"ReLU\", \"kargs\": {\"inplace\": True}},\n",
    "        {\"class\": \"BatchNorm2d\", \"kargs\": {\"num_features\": 256}},\n",
    "        {\n",
    "            \"class\": \"Conv2d\",\n",
    "            \"kargs\": {\n",
    "                \"in_channels\": 256,\n",
    "                \"out_channels\": 80,\n",
    "                \"kernel_size\": [2, 7],\n",
    "                \"bias\": True,\n",
    "                \"padding\": [0, 3],\n",
    "            },\n",
    "        },\n",
    "        {\"class\": \"ReLU\", \"kargs\": {\"inplace\": True}},\n",
    "        {\"class\": \"BatchNorm2d\", \"kargs\": {\"num_features\": 80}},\n",
    "        {\"class\": \"Flatten\", \"kargs\": {}},\n",
    "        {\"class\": \"Linear\", \"kargs\": {\"in_features\": 20480, \"out_features\": 256}},\n",
    "        {\"class\": \"ReLU\", \"kargs\": {\"inplace\": True}},\n",
    "        {\"class\": \"BatchNorm1d\", \"kargs\": {\"num_features\": 256}},\n",
    "        {\"class\": \"Linear\", \"kargs\": {\"in_features\": 256, \"out_features\": 16}},\n",
    "    ],\n",
    "    \"NUM_LOGS_PER_EPOCH\": 10,\n",
    "    \"BEST_MODEL_PATH\": \"./best_model.pth\",\n",
    "    \"dataset_seed\": 420,\n",
    "    \"seed\": 420,\n",
    "}\n"
   ]
  },
  {
   "cell_type": "code",
   "execution_count": 5,
   "id": "759b56ec",
   "metadata": {
    "execution": {
     "iopub.execute_input": "2022-03-25T23:22:37.967027Z",
     "iopub.status.busy": "2022-03-25T23:22:37.966656Z",
     "iopub.status.idle": "2022-03-25T23:22:37.968673Z",
     "shell.execute_reply": "2022-03-25T23:22:37.968311Z"
    },
    "papermill": {
     "duration": 0.020146,
     "end_time": "2022-03-25T23:22:37.968741",
     "exception": false,
     "start_time": "2022-03-25T23:22:37.948595",
     "status": "completed"
    },
    "tags": []
   },
   "outputs": [],
   "source": [
    "# Set this to True if you want to run this template directly\n",
    "STANDALONE = False\n",
    "if STANDALONE:\n",
    "    print(\"parameters not injected, running with standalone_parameters\")\n",
    "    parameters = standalone_parameters\n",
    "\n",
    "if not 'parameters' in locals() and not 'parameters' in globals():\n",
    "    raise Exception(\"Parameter injection failed\")\n",
    "\n",
    "#Use an easy dict for all the parameters\n",
    "p = EasyDict(parameters)\n",
    "\n",
    "supplied_keys = set(p.keys())\n",
    "\n",
    "if  supplied_keys != required_parameters:\n",
    "    print(\"Parameters are incorrect\")\n",
    "    if len(supplied_keys - required_parameters)>0: print(\"Shouldn't have:\", str(supplied_keys - required_parameters))\n",
    "    if len(required_parameters - supplied_keys)>0: print(\"Need to have:\", str(required_parameters - supplied_keys))\n",
    "    raise RuntimeError(\"Parameters are incorrect\")\n",
    "\n"
   ]
  },
  {
   "cell_type": "code",
   "execution_count": 6,
   "id": "d5c66a71",
   "metadata": {
    "execution": {
     "iopub.execute_input": "2022-03-25T23:22:38.002130Z",
     "iopub.status.busy": "2022-03-25T23:22:38.001766Z",
     "iopub.status.idle": "2022-03-25T23:22:38.005298Z",
     "shell.execute_reply": "2022-03-25T23:22:38.004935Z"
    },
    "papermill": {
     "duration": 0.02052,
     "end_time": "2022-03-25T23:22:38.005366",
     "exception": false,
     "start_time": "2022-03-25T23:22:37.984846",
     "status": "completed"
    },
    "tags": []
   },
   "outputs": [],
   "source": [
    "###################################\n",
    "# Set the RNGs and make it all deterministic\n",
    "###################################\n",
    "np.random.seed(p.seed)\n",
    "random.seed(p.seed)\n",
    "torch.manual_seed(p.seed)\n",
    "\n",
    "torch.use_deterministic_algorithms(True) "
   ]
  },
  {
   "cell_type": "code",
   "execution_count": 7,
   "id": "92a65876",
   "metadata": {
    "execution": {
     "iopub.execute_input": "2022-03-25T23:22:38.041172Z",
     "iopub.status.busy": "2022-03-25T23:22:38.040619Z",
     "iopub.status.idle": "2022-03-25T23:22:38.043735Z",
     "shell.execute_reply": "2022-03-25T23:22:38.043241Z"
    },
    "papermill": {
     "duration": 0.020985,
     "end_time": "2022-03-25T23:22:38.043838",
     "exception": false,
     "start_time": "2022-03-25T23:22:38.022853",
     "status": "completed"
    },
    "tags": []
   },
   "outputs": [],
   "source": [
    "torch.set_default_dtype(eval(p.torch_default_dtype))"
   ]
  },
  {
   "cell_type": "code",
   "execution_count": 8,
   "id": "f1a32f01",
   "metadata": {
    "execution": {
     "iopub.execute_input": "2022-03-25T23:22:38.083102Z",
     "iopub.status.busy": "2022-03-25T23:22:38.082738Z",
     "iopub.status.idle": "2022-03-25T23:22:38.122525Z",
     "shell.execute_reply": "2022-03-25T23:22:38.121777Z"
    },
    "papermill": {
     "duration": 0.056971,
     "end_time": "2022-03-25T23:22:38.122686",
     "exception": false,
     "start_time": "2022-03-25T23:22:38.065715",
     "status": "completed"
    },
    "tags": []
   },
   "outputs": [],
   "source": [
    "###################################\n",
    "# Build the network(s)\n",
    "# Note: It's critical to do this AFTER setting the RNG\n",
    "###################################\n",
    "x_net = build_sequential(p.x_net)"
   ]
  },
  {
   "cell_type": "code",
   "execution_count": 9,
   "id": "a276cd83",
   "metadata": {
    "execution": {
     "iopub.execute_input": "2022-03-25T23:22:38.158472Z",
     "iopub.status.busy": "2022-03-25T23:22:38.158108Z",
     "iopub.status.idle": "2022-03-25T23:22:38.160208Z",
     "shell.execute_reply": "2022-03-25T23:22:38.160505Z"
    },
    "papermill": {
     "duration": 0.018619,
     "end_time": "2022-03-25T23:22:38.160588",
     "exception": false,
     "start_time": "2022-03-25T23:22:38.141969",
     "status": "completed"
    },
    "tags": []
   },
   "outputs": [],
   "source": [
    "start_time_secs = time.time()"
   ]
  },
  {
   "cell_type": "code",
   "execution_count": 10,
   "id": "de702e48",
   "metadata": {
    "execution": {
     "iopub.execute_input": "2022-03-25T23:22:38.205025Z",
     "iopub.status.busy": "2022-03-25T23:22:38.199412Z",
     "iopub.status.idle": "2022-03-25T23:22:42.176847Z",
     "shell.execute_reply": "2022-03-25T23:22:42.176030Z"
    },
    "papermill": {
     "duration": 3.998758,
     "end_time": "2022-03-25T23:22:42.177027",
     "exception": false,
     "start_time": "2022-03-25T23:22:38.178269",
     "status": "completed"
    },
    "tags": []
   },
   "outputs": [],
   "source": [
    "def wrap_in_dataloader(p, ds):\n",
    "    return torch.utils.data.DataLoader(\n",
    "        ds,\n",
    "        batch_size=p.batch_size,\n",
    "        shuffle=True,\n",
    "        num_workers=1,\n",
    "        persistent_workers=True,\n",
    "        prefetch_factor=50,\n",
    "        pin_memory=True\n",
    "    )\n",
    "\n",
    "taf_source = Traditional_Accessor_Factory(\n",
    "    labels=p.labels,\n",
    "    domains=p.domains_source,\n",
    "    num_examples_per_domain_per_label=p.num_examples_per_domain_per_label_source,\n",
    "    pickle_path=os.path.join(get_datasets_base_path(), p.pickle_name_source),\n",
    "    seed=p.dataset_seed\n",
    ")\n",
    "train_original_source, val_original_source, test_original_source = \\\n",
    "    taf_source.get_train(), taf_source.get_val(), taf_source.get_test()\n",
    "\n",
    "\n",
    "taf_target = Traditional_Accessor_Factory(\n",
    "    labels=p.labels,\n",
    "    domains=p.domains_target,\n",
    "    num_examples_per_domain_per_label=p.num_examples_per_domain_per_label_source,\n",
    "    pickle_path=os.path.join(get_datasets_base_path(), p.pickle_name_target),\n",
    "    seed=p.dataset_seed\n",
    ")\n",
    "train_original_target, val_original_target, test_original_target = \\\n",
    "    taf_target.get_train(), taf_target.get_val(), taf_target.get_test()\n",
    "\n",
    "\n",
    "# For CNN We only use X and Y. And we only train on the source.\n",
    "# Properly form the data using a transform lambda and Lazy_Map. Finally wrap them in a dataloader\n",
    "\n",
    "transform_lambda = lambda ex: ex[:2] # Strip the tuple to just (x,y)\n",
    "\n",
    "\n",
    "train_processed_source = wrap_in_dataloader(\n",
    "    p,\n",
    "    Lazy_Map(train_original_source, transform_lambda)\n",
    ")\n",
    "val_processed_source = wrap_in_dataloader(\n",
    "    p,\n",
    "    Lazy_Map(val_original_source, transform_lambda)\n",
    ")\n",
    "test_processed_source = wrap_in_dataloader(\n",
    "    p,\n",
    "    Lazy_Map(test_original_source, transform_lambda)\n",
    ")\n",
    "\n",
    "train_processed_target = wrap_in_dataloader(\n",
    "    p,\n",
    "    Lazy_Map(train_original_target, transform_lambda)\n",
    ")\n",
    "val_processed_target = wrap_in_dataloader(\n",
    "    p,\n",
    "    Lazy_Map(val_original_target, transform_lambda)\n",
    ")\n",
    "test_processed_target  = wrap_in_dataloader(\n",
    "    p,\n",
    "    Lazy_Map(test_original_target, transform_lambda)\n",
    ")\n",
    "\n",
    "\n",
    "\n",
    "datasets = EasyDict({\n",
    "    \"source\": {\n",
    "        \"original\": {\"train\":train_original_source, \"val\":val_original_source, \"test\":test_original_source},\n",
    "        \"processed\": {\"train\":train_processed_source, \"val\":val_processed_source, \"test\":test_processed_source}\n",
    "    },\n",
    "    \"target\": {\n",
    "        \"original\": {\"train\":train_original_target, \"val\":val_original_target, \"test\":test_original_target},\n",
    "        \"processed\": {\"train\":train_processed_target, \"val\":val_processed_target, \"test\":test_processed_target}\n",
    "    },\n",
    "})"
   ]
  },
  {
   "cell_type": "code",
   "execution_count": 11,
   "id": "a11b26bd",
   "metadata": {
    "execution": {
     "iopub.execute_input": "2022-03-25T23:22:42.253913Z",
     "iopub.status.busy": "2022-03-25T23:22:42.253046Z",
     "iopub.status.idle": "2022-03-25T23:22:47.518425Z",
     "shell.execute_reply": "2022-03-25T23:22:47.519120Z"
    },
    "papermill": {
     "duration": 5.323831,
     "end_time": "2022-03-25T23:22:47.519335",
     "exception": false,
     "start_time": "2022-03-25T23:22:42.195504",
     "status": "completed"
    },
    "tags": []
   },
   "outputs": [
    {
     "data": {
      "text/plain": [
       "torch.float32"
      ]
     },
     "execution_count": 11,
     "metadata": {},
     "output_type": "execute_result"
    }
   ],
   "source": [
    "ep = next(iter(test_processed_target))\n",
    "ep[0].dtype"
   ]
  },
  {
   "cell_type": "code",
   "execution_count": 12,
   "id": "19425fad",
   "metadata": {
    "execution": {
     "iopub.execute_input": "2022-03-25T23:22:47.578521Z",
     "iopub.status.busy": "2022-03-25T23:22:47.577660Z",
     "iopub.status.idle": "2022-03-25T23:22:47.631776Z",
     "shell.execute_reply": "2022-03-25T23:22:47.630997Z"
    },
    "papermill": {
     "duration": 0.092552,
     "end_time": "2022-03-25T23:22:47.631962",
     "exception": false,
     "start_time": "2022-03-25T23:22:47.539410",
     "status": "completed"
    },
    "tags": []
   },
   "outputs": [],
   "source": [
    "model = Configurable_Vanilla(\n",
    "    x_net=x_net,\n",
    "    label_loss_object=torch.nn.NLLLoss(),\n",
    "    learning_rate=p.lr\n",
    ")"
   ]
  },
  {
   "cell_type": "code",
   "execution_count": 13,
   "id": "7f6d4f2c",
   "metadata": {
    "execution": {
     "iopub.execute_input": "2022-03-25T23:22:47.672335Z",
     "iopub.status.busy": "2022-03-25T23:22:47.671969Z",
     "iopub.status.idle": "2022-03-25T23:24:09.509789Z",
     "shell.execute_reply": "2022-03-25T23:24:09.508950Z"
    },
    "papermill": {
     "duration": 81.856338,
     "end_time": "2022-03-25T23:24:09.509961",
     "exception": false,
     "start_time": "2022-03-25T23:22:47.653623",
     "status": "completed"
    },
    "tags": []
   },
   "outputs": [
    {
     "name": "stdout",
     "output_type": "stream",
     "text": [
      "epoch: 1, [batch: 1 / 525], examples_per_second: 744.2147, train_label_loss: 2.7863, \n"
     ]
    },
    {
     "name": "stdout",
     "output_type": "stream",
     "text": [
      "epoch: 1, [batch: 53 / 525], examples_per_second: 12480.5252, train_label_loss: 2.6625, \n"
     ]
    },
    {
     "name": "stdout",
     "output_type": "stream",
     "text": [
      "epoch: 1, [batch: 105 / 525], examples_per_second: 12421.5126, train_label_loss: 2.4221, \n"
     ]
    },
    {
     "name": "stdout",
     "output_type": "stream",
     "text": [
      "epoch: 1, [batch: 158 / 525], examples_per_second: 12640.4892, train_label_loss: 2.2648, \n"
     ]
    },
    {
     "name": "stdout",
     "output_type": "stream",
     "text": [
      "epoch: 1, [batch: 210 / 525], examples_per_second: 12310.5286, train_label_loss: 2.0916, \n"
     ]
    },
    {
     "name": "stdout",
     "output_type": "stream",
     "text": [
      "epoch: 1, [batch: 263 / 525], examples_per_second: 12230.5780, train_label_loss: 2.0273, \n"
     ]
    },
    {
     "name": "stdout",
     "output_type": "stream",
     "text": [
      "epoch: 1, [batch: 315 / 525], examples_per_second: 12522.5232, train_label_loss: 1.7802, \n"
     ]
    },
    {
     "name": "stdout",
     "output_type": "stream",
     "text": [
      "epoch: 1, [batch: 367 / 525], examples_per_second: 12093.5939, train_label_loss: 1.5246, \n"
     ]
    },
    {
     "name": "stdout",
     "output_type": "stream",
     "text": [
      "epoch: 1, [batch: 420 / 525], examples_per_second: 15076.5445, train_label_loss: 1.4469, \n"
     ]
    },
    {
     "name": "stdout",
     "output_type": "stream",
     "text": [
      "epoch: 1, [batch: 472 / 525], examples_per_second: 13862.3489, train_label_loss: 1.4051, \n"
     ]
    },
    {
     "name": "stdout",
     "output_type": "stream",
     "text": [
      "=============================================================\n",
      "epoch: 1, source_val_acc_label: 0.7297, source_val_label_loss: 1.2477, target_val_acc_label: 0.0626, target_val_label_loss: 5.9402, \n",
      "=============================================================\n"
     ]
    },
    {
     "name": "stdout",
     "output_type": "stream",
     "text": [
      "New best\n",
      "epoch: 2, [batch: 1 / 525], examples_per_second: 130.8629, train_label_loss: 1.2325, \n"
     ]
    },
    {
     "name": "stdout",
     "output_type": "stream",
     "text": [
      "epoch: 2, [batch: 53 / 525], examples_per_second: 14004.3750, train_label_loss: 1.1436, \n"
     ]
    },
    {
     "name": "stdout",
     "output_type": "stream",
     "text": [
      "epoch: 2, [batch: 105 / 525], examples_per_second: 14193.4315, train_label_loss: 0.9922, \n"
     ]
    },
    {
     "name": "stdout",
     "output_type": "stream",
     "text": [
      "epoch: 2, [batch: 158 / 525], examples_per_second: 14097.7884, train_label_loss: 0.9467, \n"
     ]
    },
    {
     "name": "stdout",
     "output_type": "stream",
     "text": [
      "epoch: 2, [batch: 210 / 525], examples_per_second: 14128.5465, train_label_loss: 0.9715, \n"
     ]
    },
    {
     "name": "stdout",
     "output_type": "stream",
     "text": [
      "epoch: 2, [batch: 263 / 525], examples_per_second: 13926.7556, train_label_loss: 0.9280, \n"
     ]
    },
    {
     "name": "stdout",
     "output_type": "stream",
     "text": [
      "epoch: 2, [batch: 315 / 525], examples_per_second: 13918.0378, train_label_loss: 0.7887, \n"
     ]
    },
    {
     "name": "stdout",
     "output_type": "stream",
     "text": [
      "epoch: 2, [batch: 367 / 525], examples_per_second: 14151.0556, train_label_loss: 0.6821, \n"
     ]
    },
    {
     "name": "stdout",
     "output_type": "stream",
     "text": [
      "epoch: 2, [batch: 420 / 525], examples_per_second: 13926.1967, train_label_loss: 0.6668, \n"
     ]
    },
    {
     "name": "stdout",
     "output_type": "stream",
     "text": [
      "epoch: 2, [batch: 472 / 525], examples_per_second: 14068.3983, train_label_loss: 0.8169, \n"
     ]
    },
    {
     "name": "stdout",
     "output_type": "stream",
     "text": [
      "=============================================================\n",
      "epoch: 2, source_val_acc_label: 0.8782, source_val_label_loss: 0.6432, target_val_acc_label: 0.0575, target_val_label_loss: 13.8250, \n",
      "=============================================================\n"
     ]
    },
    {
     "name": "stdout",
     "output_type": "stream",
     "text": [
      "epoch: 3, [batch: 1 / 525], examples_per_second: 181.5682, train_label_loss: 0.6187, \n"
     ]
    },
    {
     "name": "stdout",
     "output_type": "stream",
     "text": [
      "epoch: 3, [batch: 53 / 525], examples_per_second: 13926.6333, train_label_loss: 0.6932, \n"
     ]
    },
    {
     "name": "stdout",
     "output_type": "stream",
     "text": [
      "epoch: 3, [batch: 105 / 525], examples_per_second: 14172.1543, train_label_loss: 0.4817, \n"
     ]
    },
    {
     "name": "stdout",
     "output_type": "stream",
     "text": [
      "epoch: 3, [batch: 158 / 525], examples_per_second: 14186.2936, train_label_loss: 0.4858, \n"
     ]
    },
    {
     "name": "stdout",
     "output_type": "stream",
     "text": [
      "epoch: 3, [batch: 210 / 525], examples_per_second: 14149.6642, train_label_loss: 0.4608, \n"
     ]
    },
    {
     "name": "stdout",
     "output_type": "stream",
     "text": [
      "epoch: 3, [batch: 263 / 525], examples_per_second: 14089.4115, train_label_loss: 0.4754, \n"
     ]
    },
    {
     "name": "stdout",
     "output_type": "stream",
     "text": [
      "epoch: 3, [batch: 315 / 525], examples_per_second: 14070.4617, train_label_loss: 0.4789, \n"
     ]
    },
    {
     "name": "stdout",
     "output_type": "stream",
     "text": [
      "epoch: 3, [batch: 367 / 525], examples_per_second: 14181.1099, train_label_loss: 0.4203, \n"
     ]
    },
    {
     "name": "stdout",
     "output_type": "stream",
     "text": [
      "epoch: 3, [batch: 420 / 525], examples_per_second: 14105.9584, train_label_loss: 0.3693, \n"
     ]
    },
    {
     "name": "stdout",
     "output_type": "stream",
     "text": [
      "epoch: 3, [batch: 472 / 525], examples_per_second: 14112.4910, train_label_loss: 0.5988, \n"
     ]
    },
    {
     "name": "stdout",
     "output_type": "stream",
     "text": [
      "=============================================================\n",
      "epoch: 3, source_val_acc_label: 0.9279, source_val_label_loss: 0.3912, target_val_acc_label: 0.0720, target_val_label_loss: 10.1310, \n",
      "=============================================================\n"
     ]
    },
    {
     "name": "stdout",
     "output_type": "stream",
     "text": [
      "New best\n",
      "epoch: 4, [batch: 1 / 525], examples_per_second: 164.6270, train_label_loss: 0.3781, \n"
     ]
    },
    {
     "name": "stdout",
     "output_type": "stream",
     "text": [
      "epoch: 4, [batch: 53 / 525], examples_per_second: 13946.0504, train_label_loss: 0.3265, \n"
     ]
    },
    {
     "name": "stdout",
     "output_type": "stream",
     "text": [
      "epoch: 4, [batch: 105 / 525], examples_per_second: 14392.0309, train_label_loss: 0.3769, \n"
     ]
    },
    {
     "name": "stdout",
     "output_type": "stream",
     "text": [
      "epoch: 4, [batch: 158 / 525], examples_per_second: 13978.7467, train_label_loss: 0.3605, \n"
     ]
    },
    {
     "name": "stdout",
     "output_type": "stream",
     "text": [
      "epoch: 4, [batch: 210 / 525], examples_per_second: 14148.9184, train_label_loss: 0.3929, \n"
     ]
    },
    {
     "name": "stdout",
     "output_type": "stream",
     "text": [
      "epoch: 4, [batch: 263 / 525], examples_per_second: 14151.9676, train_label_loss: 0.4245, \n"
     ]
    },
    {
     "name": "stdout",
     "output_type": "stream",
     "text": [
      "epoch: 4, [batch: 315 / 525], examples_per_second: 14163.0017, train_label_loss: 0.3456, \n"
     ]
    },
    {
     "name": "stdout",
     "output_type": "stream",
     "text": [
      "epoch: 4, [batch: 367 / 525], examples_per_second: 14223.7821, train_label_loss: 0.2868, \n"
     ]
    },
    {
     "name": "stdout",
     "output_type": "stream",
     "text": [
      "epoch: 4, [batch: 420 / 525], examples_per_second: 14252.6556, train_label_loss: 0.3399, \n"
     ]
    },
    {
     "name": "stdout",
     "output_type": "stream",
     "text": [
      "epoch: 4, [batch: 472 / 525], examples_per_second: 14125.3583, train_label_loss: 0.3537, \n"
     ]
    },
    {
     "name": "stdout",
     "output_type": "stream",
     "text": [
      "=============================================================\n",
      "epoch: 4, source_val_acc_label: 0.9170, source_val_label_loss: 0.3311, target_val_acc_label: 0.0679, target_val_label_loss: 16.2222, \n",
      "=============================================================\n"
     ]
    },
    {
     "name": "stdout",
     "output_type": "stream",
     "text": [
      "epoch: 5, [batch: 1 / 525], examples_per_second: 175.4725, train_label_loss: 0.2953, \n"
     ]
    },
    {
     "name": "stdout",
     "output_type": "stream",
     "text": [
      "epoch: 5, [batch: 53 / 525], examples_per_second: 13587.0316, train_label_loss: 0.2242, \n"
     ]
    },
    {
     "name": "stdout",
     "output_type": "stream",
     "text": [
      "epoch: 5, [batch: 105 / 525], examples_per_second: 13456.5398, train_label_loss: 0.2936, \n"
     ]
    },
    {
     "name": "stdout",
     "output_type": "stream",
     "text": [
      "epoch: 5, [batch: 158 / 525], examples_per_second: 13794.2701, train_label_loss: 0.3435, \n"
     ]
    },
    {
     "name": "stdout",
     "output_type": "stream",
     "text": [
      "epoch: 5, [batch: 210 / 525], examples_per_second: 13270.9182, train_label_loss: 0.2317, \n"
     ]
    },
    {
     "name": "stdout",
     "output_type": "stream",
     "text": [
      "epoch: 5, [batch: 263 / 525], examples_per_second: 14755.6257, train_label_loss: 0.2563, \n"
     ]
    },
    {
     "name": "stdout",
     "output_type": "stream",
     "text": [
      "epoch: 5, [batch: 315 / 525], examples_per_second: 16680.4214, train_label_loss: 0.2472, \n"
     ]
    },
    {
     "name": "stdout",
     "output_type": "stream",
     "text": [
      "epoch: 5, [batch: 367 / 525], examples_per_second: 16510.3809, train_label_loss: 0.2462, \n"
     ]
    },
    {
     "name": "stdout",
     "output_type": "stream",
     "text": [
      "epoch: 5, [batch: 420 / 525], examples_per_second: 16562.2775, train_label_loss: 0.2664, \n"
     ]
    },
    {
     "name": "stdout",
     "output_type": "stream",
     "text": [
      "epoch: 5, [batch: 472 / 525], examples_per_second: 16566.2649, train_label_loss: 0.2470, \n"
     ]
    },
    {
     "name": "stdout",
     "output_type": "stream",
     "text": [
      "=============================================================\n",
      "epoch: 5, source_val_acc_label: 0.9533, source_val_label_loss: 0.2302, target_val_acc_label: 0.0717, target_val_label_loss: 16.4655, \n",
      "=============================================================\n"
     ]
    },
    {
     "name": "stdout",
     "output_type": "stream",
     "text": [
      "epoch: 6, [batch: 1 / 525], examples_per_second: 175.6689, train_label_loss: 0.2578, \n"
     ]
    },
    {
     "name": "stdout",
     "output_type": "stream",
     "text": [
      "epoch: 6, [batch: 53 / 525], examples_per_second: 12639.4344, train_label_loss: 0.1616, \n"
     ]
    },
    {
     "name": "stdout",
     "output_type": "stream",
     "text": [
      "epoch: 6, [batch: 105 / 525], examples_per_second: 12807.0880, train_label_loss: 0.2087, \n"
     ]
    },
    {
     "name": "stdout",
     "output_type": "stream",
     "text": [
      "epoch: 6, [batch: 158 / 525], examples_per_second: 12813.3098, train_label_loss: 0.1910, \n"
     ]
    },
    {
     "name": "stdout",
     "output_type": "stream",
     "text": [
      "epoch: 6, [batch: 210 / 525], examples_per_second: 12774.3293, train_label_loss: 0.2204, \n"
     ]
    },
    {
     "name": "stdout",
     "output_type": "stream",
     "text": [
      "epoch: 6, [batch: 263 / 525], examples_per_second: 12723.0209, train_label_loss: 0.1589, \n"
     ]
    },
    {
     "name": "stdout",
     "output_type": "stream",
     "text": [
      "epoch: 6, [batch: 315 / 525], examples_per_second: 12709.6534, train_label_loss: 0.3094, \n"
     ]
    },
    {
     "name": "stdout",
     "output_type": "stream",
     "text": [
      "epoch: 6, [batch: 367 / 525], examples_per_second: 12630.7994, train_label_loss: 0.1928, \n"
     ]
    },
    {
     "name": "stdout",
     "output_type": "stream",
     "text": [
      "epoch: 6, [batch: 420 / 525], examples_per_second: 12691.0723, train_label_loss: 0.1616, \n"
     ]
    },
    {
     "name": "stdout",
     "output_type": "stream",
     "text": [
      "epoch: 6, [batch: 472 / 525], examples_per_second: 12633.3029, train_label_loss: 0.2357, \n"
     ]
    },
    {
     "name": "stdout",
     "output_type": "stream",
     "text": [
      "=============================================================\n",
      "epoch: 6, source_val_acc_label: 0.9363, source_val_label_loss: 0.2653, target_val_acc_label: 0.0809, target_val_label_loss: 26.6323, \n",
      "=============================================================\n"
     ]
    },
    {
     "name": "stdout",
     "output_type": "stream",
     "text": [
      "New best\n",
      "epoch: 7, [batch: 1 / 525], examples_per_second: 150.3787, train_label_loss: 0.1564, \n"
     ]
    },
    {
     "name": "stdout",
     "output_type": "stream",
     "text": [
      "epoch: 7, [batch: 53 / 525], examples_per_second: 12815.5540, train_label_loss: 0.2026, \n"
     ]
    },
    {
     "name": "stdout",
     "output_type": "stream",
     "text": [
      "epoch: 7, [batch: 105 / 525], examples_per_second: 12772.2136, train_label_loss: 0.3106, \n"
     ]
    },
    {
     "name": "stdout",
     "output_type": "stream",
     "text": [
      "epoch: 7, [batch: 158 / 525], examples_per_second: 12840.0344, train_label_loss: 0.1738, \n"
     ]
    },
    {
     "name": "stdout",
     "output_type": "stream",
     "text": [
      "epoch: 7, [batch: 210 / 525], examples_per_second: 12622.0963, train_label_loss: 0.1794, \n"
     ]
    },
    {
     "name": "stdout",
     "output_type": "stream",
     "text": [
      "epoch: 7, [batch: 263 / 525], examples_per_second: 12740.3675, train_label_loss: 0.1721, \n"
     ]
    },
    {
     "name": "stdout",
     "output_type": "stream",
     "text": [
      "epoch: 7, [batch: 315 / 525], examples_per_second: 12636.2535, train_label_loss: 0.1718, \n"
     ]
    },
    {
     "name": "stdout",
     "output_type": "stream",
     "text": [
      "epoch: 7, [batch: 367 / 525], examples_per_second: 12773.4116, train_label_loss: 0.2041, \n"
     ]
    },
    {
     "name": "stdout",
     "output_type": "stream",
     "text": [
      "epoch: 7, [batch: 420 / 525], examples_per_second: 12763.1749, train_label_loss: 0.1761, \n"
     ]
    },
    {
     "name": "stdout",
     "output_type": "stream",
     "text": [
      "epoch: 7, [batch: 472 / 525], examples_per_second: 12708.7103, train_label_loss: 0.1603, \n"
     ]
    },
    {
     "name": "stdout",
     "output_type": "stream",
     "text": [
      "=============================================================\n",
      "epoch: 7, source_val_acc_label: 0.9134, source_val_label_loss: 0.2907, target_val_acc_label: 0.0703, target_val_label_loss: 47.5823, \n",
      "=============================================================\n"
     ]
    },
    {
     "name": "stdout",
     "output_type": "stream",
     "text": [
      "epoch: 8, [batch: 1 / 525], examples_per_second: 142.6612, train_label_loss: 0.1821, \n"
     ]
    },
    {
     "name": "stdout",
     "output_type": "stream",
     "text": [
      "epoch: 8, [batch: 53 / 525], examples_per_second: 12730.3960, train_label_loss: 0.2604, \n"
     ]
    },
    {
     "name": "stdout",
     "output_type": "stream",
     "text": [
      "epoch: 8, [batch: 105 / 525], examples_per_second: 12812.1016, train_label_loss: 0.1956, \n"
     ]
    },
    {
     "name": "stdout",
     "output_type": "stream",
     "text": [
      "epoch: 8, [batch: 158 / 525], examples_per_second: 12828.6360, train_label_loss: 0.1415, \n"
     ]
    },
    {
     "name": "stdout",
     "output_type": "stream",
     "text": [
      "epoch: 8, [batch: 210 / 525], examples_per_second: 12766.2446, train_label_loss: 0.1478, \n"
     ]
    },
    {
     "name": "stdout",
     "output_type": "stream",
     "text": [
      "epoch: 8, [batch: 263 / 525], examples_per_second: 12774.6007, train_label_loss: 0.1828, \n"
     ]
    },
    {
     "name": "stdout",
     "output_type": "stream",
     "text": [
      "epoch: 8, [batch: 315 / 525], examples_per_second: 12412.3283, train_label_loss: 0.2436, \n"
     ]
    },
    {
     "name": "stdout",
     "output_type": "stream",
     "text": [
      "epoch: 8, [batch: 367 / 525], examples_per_second: 12572.4098, train_label_loss: 0.1567, \n"
     ]
    },
    {
     "name": "stdout",
     "output_type": "stream",
     "text": [
      "epoch: 8, [batch: 420 / 525], examples_per_second: 12597.6154, train_label_loss: 0.1897, \n"
     ]
    },
    {
     "name": "stdout",
     "output_type": "stream",
     "text": [
      "epoch: 8, [batch: 472 / 525], examples_per_second: 10924.4704, train_label_loss: 0.2973, \n"
     ]
    },
    {
     "name": "stdout",
     "output_type": "stream",
     "text": [
      "=============================================================\n",
      "epoch: 8, source_val_acc_label: 0.9527, source_val_label_loss: 0.2419, target_val_acc_label: 0.0788, target_val_label_loss: 19.0203, \n",
      "=============================================================\n"
     ]
    },
    {
     "name": "stdout",
     "output_type": "stream",
     "text": [
      "epoch: 9, [batch: 1 / 525], examples_per_second: 142.0655, train_label_loss: 0.1686, \n"
     ]
    },
    {
     "name": "stdout",
     "output_type": "stream",
     "text": [
      "epoch: 9, [batch: 53 / 525], examples_per_second: 12213.1576, train_label_loss: 0.1583, \n"
     ]
    },
    {
     "name": "stdout",
     "output_type": "stream",
     "text": [
      "epoch: 9, [batch: 105 / 525], examples_per_second: 12593.6779, train_label_loss: 0.1165, \n"
     ]
    },
    {
     "name": "stdout",
     "output_type": "stream",
     "text": [
      "epoch: 9, [batch: 158 / 525], examples_per_second: 12555.5356, train_label_loss: 0.1427, \n"
     ]
    },
    {
     "name": "stdout",
     "output_type": "stream",
     "text": [
      "epoch: 9, [batch: 210 / 525], examples_per_second: 12761.7860, train_label_loss: 0.1774, \n"
     ]
    },
    {
     "name": "stdout",
     "output_type": "stream",
     "text": [
      "epoch: 9, [batch: 263 / 525], examples_per_second: 12660.7089, train_label_loss: 0.1211, \n"
     ]
    },
    {
     "name": "stdout",
     "output_type": "stream",
     "text": [
      "epoch: 9, [batch: 315 / 525], examples_per_second: 12629.9765, train_label_loss: 0.1046, \n"
     ]
    },
    {
     "name": "stdout",
     "output_type": "stream",
     "text": [
      "epoch: 9, [batch: 367 / 525], examples_per_second: 12564.0527, train_label_loss: 0.1187, \n"
     ]
    },
    {
     "name": "stdout",
     "output_type": "stream",
     "text": [
      "epoch: 9, [batch: 420 / 525], examples_per_second: 12618.5654, train_label_loss: 0.1035, \n"
     ]
    },
    {
     "name": "stdout",
     "output_type": "stream",
     "text": [
      "epoch: 9, [batch: 472 / 525], examples_per_second: 12677.2063, train_label_loss: 0.1650, \n"
     ]
    },
    {
     "name": "stdout",
     "output_type": "stream",
     "text": [
      "=============================================================\n",
      "epoch: 9, source_val_acc_label: 0.9408, source_val_label_loss: 0.2061, target_val_acc_label: 0.0822, target_val_label_loss: 60.0768, \n",
      "=============================================================\n"
     ]
    },
    {
     "name": "stdout",
     "output_type": "stream",
     "text": [
      "New best\n",
      "epoch: 10, [batch: 1 / 525], examples_per_second: 151.8819, train_label_loss: 0.2531, \n"
     ]
    },
    {
     "name": "stdout",
     "output_type": "stream",
     "text": [
      "epoch: 10, [batch: 53 / 525], examples_per_second: 12279.1668, train_label_loss: 0.1764, \n"
     ]
    },
    {
     "name": "stdout",
     "output_type": "stream",
     "text": [
      "epoch: 10, [batch: 105 / 525], examples_per_second: 12872.4236, train_label_loss: 0.1643, \n"
     ]
    },
    {
     "name": "stdout",
     "output_type": "stream",
     "text": [
      "epoch: 10, [batch: 158 / 525], examples_per_second: 13146.5510, train_label_loss: 0.1186, \n"
     ]
    },
    {
     "name": "stdout",
     "output_type": "stream",
     "text": [
      "epoch: 10, [batch: 210 / 525], examples_per_second: 12726.4382, train_label_loss: 0.1299, \n"
     ]
    },
    {
     "name": "stdout",
     "output_type": "stream",
     "text": [
      "epoch: 10, [batch: 263 / 525], examples_per_second: 12963.8729, train_label_loss: 0.1868, \n"
     ]
    },
    {
     "name": "stdout",
     "output_type": "stream",
     "text": [
      "epoch: 10, [batch: 315 / 525], examples_per_second: 12782.7929, train_label_loss: 0.0924, \n"
     ]
    },
    {
     "name": "stdout",
     "output_type": "stream",
     "text": [
      "epoch: 10, [batch: 367 / 525], examples_per_second: 12384.8731, train_label_loss: 0.0864, \n"
     ]
    },
    {
     "name": "stdout",
     "output_type": "stream",
     "text": [
      "epoch: 10, [batch: 420 / 525], examples_per_second: 12569.8567, train_label_loss: 0.1335, \n"
     ]
    },
    {
     "name": "stdout",
     "output_type": "stream",
     "text": [
      "epoch: 10, [batch: 472 / 525], examples_per_second: 12567.1238, train_label_loss: 0.1469, \n"
     ]
    },
    {
     "name": "stdout",
     "output_type": "stream",
     "text": [
      "=============================================================\n",
      "epoch: 10, source_val_acc_label: 0.9566, source_val_label_loss: 0.1719, target_val_acc_label: 0.0670, target_val_label_loss: 45.5581, \n",
      "=============================================================\n"
     ]
    },
    {
     "name": "stdout",
     "output_type": "stream",
     "text": [
      "epoch: 11, [batch: 1 / 525], examples_per_second: 153.3287, train_label_loss: 0.1030, \n"
     ]
    },
    {
     "name": "stdout",
     "output_type": "stream",
     "text": [
      "epoch: 11, [batch: 53 / 525], examples_per_second: 12623.7286, train_label_loss: 0.1272, \n"
     ]
    },
    {
     "name": "stdout",
     "output_type": "stream",
     "text": [
      "epoch: 11, [batch: 105 / 525], examples_per_second: 12576.2668, train_label_loss: 0.1313, \n"
     ]
    },
    {
     "name": "stdout",
     "output_type": "stream",
     "text": [
      "epoch: 11, [batch: 158 / 525], examples_per_second: 12792.5656, train_label_loss: 0.1542, \n"
     ]
    },
    {
     "name": "stdout",
     "output_type": "stream",
     "text": [
      "epoch: 11, [batch: 210 / 525], examples_per_second: 12768.7203, train_label_loss: 0.1050, \n"
     ]
    },
    {
     "name": "stdout",
     "output_type": "stream",
     "text": [
      "epoch: 11, [batch: 263 / 525], examples_per_second: 12621.5320, train_label_loss: 0.1587, \n"
     ]
    },
    {
     "name": "stdout",
     "output_type": "stream",
     "text": [
      "epoch: 11, [batch: 315 / 525], examples_per_second: 12680.5173, train_label_loss: 0.1153, \n"
     ]
    },
    {
     "name": "stdout",
     "output_type": "stream",
     "text": [
      "epoch: 11, [batch: 367 / 525], examples_per_second: 12686.5045, train_label_loss: 0.0916, \n"
     ]
    },
    {
     "name": "stdout",
     "output_type": "stream",
     "text": [
      "epoch: 11, [batch: 420 / 525], examples_per_second: 12765.8834, train_label_loss: 0.1525, \n"
     ]
    },
    {
     "name": "stdout",
     "output_type": "stream",
     "text": [
      "epoch: 11, [batch: 472 / 525], examples_per_second: 12748.6386, train_label_loss: 0.2207, \n"
     ]
    },
    {
     "name": "stdout",
     "output_type": "stream",
     "text": [
      "=============================================================\n",
      "epoch: 11, source_val_acc_label: 0.9524, source_val_label_loss: 0.2343, target_val_acc_label: 0.0662, target_val_label_loss: 43.8728, \n",
      "=============================================================\n"
     ]
    },
    {
     "name": "stdout",
     "output_type": "stream",
     "text": [
      "epoch: 12, [batch: 1 / 525], examples_per_second: 155.1669, train_label_loss: 0.0798, \n"
     ]
    },
    {
     "name": "stdout",
     "output_type": "stream",
     "text": [
      "epoch: 12, [batch: 53 / 525], examples_per_second: 12719.0977, train_label_loss: 0.0900, \n"
     ]
    },
    {
     "name": "stdout",
     "output_type": "stream",
     "text": [
      "epoch: 12, [batch: 105 / 525], examples_per_second: 12755.4187, train_label_loss: 0.1405, \n"
     ]
    },
    {
     "name": "stdout",
     "output_type": "stream",
     "text": [
      "epoch: 12, [batch: 158 / 525], examples_per_second: 12788.7019, train_label_loss: 0.1420, \n"
     ]
    },
    {
     "name": "stdout",
     "output_type": "stream",
     "text": [
      "epoch: 12, [batch: 210 / 525], examples_per_second: 12731.0462, train_label_loss: 0.1258, \n"
     ]
    },
    {
     "name": "stdout",
     "output_type": "stream",
     "text": [
      "epoch: 12, [batch: 263 / 525], examples_per_second: 12813.8464, train_label_loss: 0.1008, \n"
     ]
    },
    {
     "name": "stdout",
     "output_type": "stream",
     "text": [
      "epoch: 12, [batch: 315 / 525], examples_per_second: 12717.3421, train_label_loss: 0.1116, \n"
     ]
    },
    {
     "name": "stdout",
     "output_type": "stream",
     "text": [
      "epoch: 12, [batch: 367 / 525], examples_per_second: 10784.8883, train_label_loss: 0.1875, \n"
     ]
    },
    {
     "name": "stdout",
     "output_type": "stream",
     "text": [
      "epoch: 12, [batch: 420 / 525], examples_per_second: 12517.6446, train_label_loss: 0.1279, \n"
     ]
    },
    {
     "name": "stdout",
     "output_type": "stream",
     "text": [
      "epoch: 12, [batch: 472 / 525], examples_per_second: 12399.0370, train_label_loss: 0.1228, \n"
     ]
    },
    {
     "name": "stdout",
     "output_type": "stream",
     "text": [
      "=============================================================\n",
      "epoch: 12, source_val_acc_label: 0.9526, source_val_label_loss: 0.2342, target_val_acc_label: 0.0795, target_val_label_loss: 40.6934, \n",
      "=============================================================\n"
     ]
    },
    {
     "name": "stdout",
     "output_type": "stream",
     "text": [
      "epoch: 13, [batch: 1 / 525], examples_per_second: 151.8401, train_label_loss: 0.1284, \n"
     ]
    },
    {
     "name": "stdout",
     "output_type": "stream",
     "text": [
      "epoch: 13, [batch: 53 / 525], examples_per_second: 12248.4158, train_label_loss: 0.0994, \n"
     ]
    },
    {
     "name": "stdout",
     "output_type": "stream",
     "text": [
      "epoch: 13, [batch: 105 / 525], examples_per_second: 12571.1586, train_label_loss: 0.1066, \n"
     ]
    },
    {
     "name": "stdout",
     "output_type": "stream",
     "text": [
      "epoch: 13, [batch: 158 / 525], examples_per_second: 12435.7634, train_label_loss: 0.2456, \n"
     ]
    },
    {
     "name": "stdout",
     "output_type": "stream",
     "text": [
      "epoch: 13, [batch: 210 / 525], examples_per_second: 12559.2088, train_label_loss: 0.0901, \n"
     ]
    },
    {
     "name": "stdout",
     "output_type": "stream",
     "text": [
      "epoch: 13, [batch: 263 / 525], examples_per_second: 12477.7104, train_label_loss: 0.1939, \n"
     ]
    },
    {
     "name": "stdout",
     "output_type": "stream",
     "text": [
      "epoch: 13, [batch: 315 / 525], examples_per_second: 12491.1072, train_label_loss: 0.1507, \n"
     ]
    },
    {
     "name": "stdout",
     "output_type": "stream",
     "text": [
      "epoch: 13, [batch: 367 / 525], examples_per_second: 12327.8590, train_label_loss: 0.1530, \n"
     ]
    },
    {
     "name": "stdout",
     "output_type": "stream",
     "text": [
      "epoch: 13, [batch: 420 / 525], examples_per_second: 11986.0630, train_label_loss: 0.1561, \n"
     ]
    },
    {
     "name": "stdout",
     "output_type": "stream",
     "text": [
      "epoch: 13, [batch: 472 / 525], examples_per_second: 12971.1018, train_label_loss: 0.1006, \n"
     ]
    },
    {
     "name": "stdout",
     "output_type": "stream",
     "text": [
      "=============================================================\n",
      "epoch: 13, source_val_acc_label: 0.9617, source_val_label_loss: 0.1726, target_val_acc_label: 0.0780, target_val_label_loss: 25.2539, \n",
      "=============================================================\n"
     ]
    },
    {
     "name": "stdout",
     "output_type": "stream",
     "text": [
      "Patience (3) exhausted\n"
     ]
    }
   ],
   "source": [
    "jig = Vanilla_Train_Eval_Test_Jig(\n",
    "    model=model,\n",
    "    path_to_best_model=p.BEST_MODEL_PATH,\n",
    "    device=p.device,\n",
    "    label_loss_object=torch.nn.NLLLoss(),\n",
    ")\n",
    "\n",
    "jig.train(\n",
    "    train_iterable=datasets.source.processed.train,\n",
    "    source_val_iterable=datasets.source.processed.val,\n",
    "    target_val_iterable=datasets.target.processed.val,\n",
    "    patience=p.patience,\n",
    "    num_epochs=p.n_epoch,\n",
    "    num_logs_per_epoch=p.NUM_LOGS_PER_EPOCH,\n",
    "    criteria_for_best=p.criteria_for_best\n",
    ")"
   ]
  },
  {
   "cell_type": "code",
   "execution_count": 14,
   "id": "4bc2ac17",
   "metadata": {
    "execution": {
     "iopub.execute_input": "2022-03-25T23:24:09.624853Z",
     "iopub.status.busy": "2022-03-25T23:24:09.624487Z",
     "iopub.status.idle": "2022-03-25T23:24:09.626766Z",
     "shell.execute_reply": "2022-03-25T23:24:09.627119Z"
    },
    "papermill": {
     "duration": 0.060482,
     "end_time": "2022-03-25T23:24:09.627227",
     "exception": false,
     "start_time": "2022-03-25T23:24:09.566745",
     "status": "completed"
    },
    "tags": []
   },
   "outputs": [],
   "source": [
    "total_experiment_time_secs = time.time() - start_time_secs"
   ]
  },
  {
   "cell_type": "code",
   "execution_count": 15,
   "id": "cae88f23",
   "metadata": {
    "execution": {
     "iopub.execute_input": "2022-03-25T23:24:09.746845Z",
     "iopub.status.busy": "2022-03-25T23:24:09.745973Z",
     "iopub.status.idle": "2022-03-25T23:24:21.240701Z",
     "shell.execute_reply": "2022-03-25T23:24:21.241376Z"
    },
    "papermill": {
     "duration": 11.557911,
     "end_time": "2022-03-25T23:24:21.241618",
     "exception": false,
     "start_time": "2022-03-25T23:24:09.683707",
     "status": "completed"
    },
    "tags": []
   },
   "outputs": [],
   "source": [
    "source_test_label_accuracy, source_test_label_loss = jig.test(datasets.source.processed.test)\n",
    "target_test_label_accuracy, target_test_label_loss = jig.test(datasets.target.processed.test)\n",
    "\n",
    "source_val_label_accuracy, source_val_label_loss = jig.test(datasets.source.processed.val)\n",
    "target_val_label_accuracy, target_val_label_loss = jig.test(datasets.target.processed.val)\n",
    "\n",
    "history = jig.get_history()\n",
    "\n",
    "total_epochs_trained = len(history[\"epoch_indices\"])\n",
    "\n",
    "val_dl = wrap_in_dataloader(p, Sequence_Aggregator((datasets.source.original.val, datasets.target.original.val)))\n",
    "\n",
    "confusion = confusion_by_domain_over_dataloader(model, p.device, val_dl, forward_uses_domain=False)\n",
    "per_domain_accuracy = per_domain_accuracy_from_confusion(confusion)\n",
    "\n",
    "# Add a key to per_domain_accuracy for if it was a source domain\n",
    "for domain, accuracy in per_domain_accuracy.items():\n",
    "    per_domain_accuracy[domain] = {\n",
    "        \"accuracy\": accuracy,\n",
    "        \"source?\": domain in p.domains_source\n",
    "    }\n",
    "\n",
    "# Do an independent accuracy assesment JUST TO BE SURE!\n",
    "# _source_test_label_accuracy = independent_accuracy_assesment(model, datasets.source.processed.test, p.device)\n",
    "# _target_test_label_accuracy = independent_accuracy_assesment(model, datasets.target.processed.test, p.device)\n",
    "# _source_val_label_accuracy = independent_accuracy_assesment(model, datasets.source.processed.val, p.device)\n",
    "# _target_val_label_accuracy = independent_accuracy_assesment(model, datasets.target.processed.val, p.device)\n",
    "\n",
    "# assert(_source_test_label_accuracy == source_test_label_accuracy)\n",
    "# assert(_target_test_label_accuracy == target_test_label_accuracy)\n",
    "# assert(_source_val_label_accuracy == source_val_label_accuracy)\n",
    "# assert(_target_val_label_accuracy == target_val_label_accuracy)\n",
    "\n",
    "###################################\n",
    "# Write out the results\n",
    "###################################\n",
    "\n",
    "experiment = {\n",
    "    \"experiment_name\": p.experiment_name,\n",
    "    \"parameters\": p,\n",
    "    \"results\": {\n",
    "        \"source_test_label_accuracy\": source_test_label_accuracy,\n",
    "        \"source_test_label_loss\": source_test_label_loss,\n",
    "        \"target_test_label_accuracy\": target_test_label_accuracy,\n",
    "        \"target_test_label_loss\": target_test_label_loss,\n",
    "        \"source_val_label_accuracy\": source_val_label_accuracy,\n",
    "        \"source_val_label_loss\": source_val_label_loss,\n",
    "        \"target_val_label_accuracy\": target_val_label_accuracy,\n",
    "        \"target_val_label_loss\": target_val_label_loss,\n",
    "        \"total_epochs_trained\": total_epochs_trained,\n",
    "        \"total_experiment_time_secs\": total_experiment_time_secs,\n",
    "        \"confusion\": confusion,\n",
    "        \"per_domain_accuracy\": per_domain_accuracy,\n",
    "    },\n",
    "    \"history\": history,\n",
    "    \"dataset_metrics\": get_dataset_metrics(datasets, \"cnn\"),\n",
    "}"
   ]
  },
  {
   "cell_type": "code",
   "execution_count": 16,
   "id": "74c318cf",
   "metadata": {
    "execution": {
     "iopub.execute_input": "2022-03-25T23:24:21.382065Z",
     "iopub.status.busy": "2022-03-25T23:24:21.379675Z",
     "iopub.status.idle": "2022-03-25T23:24:21.568362Z",
     "shell.execute_reply": "2022-03-25T23:24:21.567626Z"
    },
    "papermill": {
     "duration": 0.268631,
     "end_time": "2022-03-25T23:24:21.568519",
     "exception": false,
     "start_time": "2022-03-25T23:24:21.299888",
     "status": "completed"
    },
    "tags": []
   },
   "outputs": [
    {
     "data": {
      "text/plain": [
       "<AxesSubplot:title={'center':'Source Train Label Loss vs Source Val Label Loss'}, xlabel='Epoch'>"
      ]
     },
     "execution_count": 16,
     "metadata": {},
     "output_type": "execute_result"
    },
    {
     "data": {
      "image/png": "[encoded data removed]",
      "text/plain": [
       "<Figure size 1080x504 with 1 Axes>"
      ]
     },
     "metadata": {
      "needs_background": "light"
     },
     "output_type": "display_data"
    }
   ],
   "source": [
    "get_loss_curve(experiment)"
   ]
  },
  {
   "cell_type": "code",
   "execution_count": 17,
   "id": "59376601",
   "metadata": {
    "execution": {
     "iopub.execute_input": "2022-03-25T23:24:21.704881Z",
     "iopub.status.busy": "2022-03-25T23:24:21.699420Z",
     "iopub.status.idle": "2022-03-25T23:24:21.965622Z",
     "shell.execute_reply": "2022-03-25T23:24:21.966289Z"
    },
    "papermill": {
     "duration": 0.338067,
     "end_time": "2022-03-25T23:24:21.966469",
     "exception": false,
     "start_time": "2022-03-25T23:24:21.628402",
     "status": "completed"
    },
    "tags": []
   },
   "outputs": [
    {
     "data": {
      "text/plain": [
       "<AxesSubplot:title={'center':'Results'}>"
      ]
     },
     "execution_count": 17,
     "metadata": {},
     "output_type": "execute_result"
    },
    {
     "data": {
      "image/png": "[encoded data removed]",
      "text/plain": [
       "<Figure size 1080x504 with 1 Axes>"
      ]
     },
     "metadata": {
      "needs_background": "light"
     },
     "output_type": "display_data"
    }
   ],
   "source": [
    "get_results_table(experiment)"
   ]
  },
  {
   "cell_type": "code",
   "execution_count": 18,
   "id": "e80c5c98",
   "metadata": {
    "execution": {
     "iopub.execute_input": "2022-03-25T23:24:22.106919Z",
     "iopub.status.busy": "2022-03-25T23:24:22.106114Z",
     "iopub.status.idle": "2022-03-25T23:24:22.264717Z",
     "shell.execute_reply": "2022-03-25T23:24:22.265394Z"
    },
    "papermill": {
     "duration": 0.23935,
     "end_time": "2022-03-25T23:24:22.265604",
     "exception": false,
     "start_time": "2022-03-25T23:24:22.026254",
     "status": "completed"
    },
    "tags": []
   },
   "outputs": [
    {
     "data": {
      "text/plain": [
       "<AxesSubplot:title={'center':'Per Domain Accuracy'}, xlabel='domain'>"
      ]
     },
     "execution_count": 18,
     "metadata": {},
     "output_type": "execute_result"
    },
    {
     "data": {
      "image/png": "[encoded data removed]",
      "text/plain": [
       "<Figure size 1080x504 with 1 Axes>"
      ]
     },
     "metadata": {
      "needs_background": "light"
     },
     "output_type": "display_data"
    }
   ],
   "source": [
    "get_domain_accuracies(experiment)"
   ]
  },
  {
   "cell_type": "code",
   "execution_count": 19,
   "id": "086fdd10",
   "metadata": {
    "execution": {
     "iopub.execute_input": "2022-03-25T23:24:22.433078Z",
     "iopub.status.busy": "2022-03-25T23:24:22.432684Z",
     "iopub.status.idle": "2022-03-25T23:24:22.435489Z",
     "shell.execute_reply": "2022-03-25T23:24:22.435813Z"
    },
    "papermill": {
     "duration": 0.064926,
     "end_time": "2022-03-25T23:24:22.435909",
     "exception": false,
     "start_time": "2022-03-25T23:24:22.370983",
     "status": "completed"
    },
    "tags": []
   },
   "outputs": [
    {
     "name": "stdout",
     "output_type": "stream",
     "text": [
      "Source Test Label Accuracy: 0.9391666666666667 Target Test Label Accuracy: 0.08383333333333333\n",
      "Source Val Label Accuracy: 0.9407638888888888 Target Val Label Accuracy: 0.08216666666666667\n"
     ]
    }
   ],
   "source": [
    "print(\"Source Test Label Accuracy:\", experiment[\"results\"][\"source_test_label_accuracy\"], \"Target Test Label Accuracy:\", experiment[\"results\"][\"target_test_label_accuracy\"])\n",
    "print(\"Source Val Label Accuracy:\", experiment[\"results\"][\"source_val_label_accuracy\"], \"Target Val Label Accuracy:\", experiment[\"results\"][\"target_val_label_accuracy\"])"
   ]
  },
  {
   "cell_type": "code",
   "execution_count": 20,
   "id": "9f450536",
   "metadata": {
    "execution": {
     "iopub.execute_input": "2022-03-25T23:24:22.556235Z",
     "iopub.status.busy": "2022-03-25T23:24:22.555755Z",
     "iopub.status.idle": "2022-03-25T23:24:22.559965Z",
     "shell.execute_reply": "2022-03-25T23:24:22.559467Z"
    },
    "papermill": {
     "duration": 0.065033,
     "end_time": "2022-03-25T23:24:22.560071",
     "exception": false,
     "start_time": "2022-03-25T23:24:22.495038",
     "status": "completed"
    },
    "tags": [
     "experiment_json"
    ]
   },
   "outputs": [
    {
     "data": {
      "text/plain": [
       "'{\"experiment_name\": \"cnn_1:oracle.run2.framed\", \"parameters\": {\"experiment_name\": \"cnn_1:oracle.run2.framed\", \"labels\": [\"3123D52\", \"3123D65\", \"3123D79\", \"3123D80\", \"3123D54\", \"3123D70\", \"3123D7B\", \"3123D89\", \"3123D58\", \"3123D76\", \"3123D7D\", \"3123EFE\", \"3123D64\", \"3123D78\", \"3123D7E\", \"3124E4A\"], \"domains_source\": [8, 32, 50], \"domains_target\": [14, 20, 26, 38, 44], \"pickle_name_source\": \"oracle.Run2_framed_2000Examples_stratified_ds.2022A.pkl\", \"pickle_name_target\": \"oracle.Run2_framed_2000Examples_stratified_ds.2022A.pkl\", \"device\": \"cuda\", \"lr\": 0.0001, \"batch_size\": 128, \"normalize_source\": false, \"normalize_target\": false, \"num_examples_per_domain_per_label_source\": -1, \"num_examples_per_domain_per_label_target\": -1, \"torch_default_dtype\": \"torch.float32\", \"n_epoch\": 50, \"patience\": 3, \"criteria_for_best\": \"target_accuracy\", \"x_net\": [{\"class\": \"nnReshape\", \"kargs\": {\"shape\": [-1, 1, 2, 256]}}, {\"class\": \"Conv2d\", \"kargs\": {\"in_channels\": 1, \"out_channels\": 256, \"kernel_size\": [1, 7], \"bias\": false, \"padding\": [0, 3]}}, {\"class\": \"ReLU\", \"kargs\": {\"inplace\": true}}, {\"class\": \"BatchNorm2d\", \"kargs\": {\"num_features\": 256}}, {\"class\": \"Conv2d\", \"kargs\": {\"in_channels\": 256, \"out_channels\": 80, \"kernel_size\": [2, 7], \"bias\": true, \"padding\": [0, 3]}}, {\"class\": \"ReLU\", \"kargs\": {\"inplace\": true}}, {\"class\": \"BatchNorm2d\", \"kargs\": {\"num_features\": 80}}, {\"class\": \"Flatten\", \"kargs\": {}}, {\"class\": \"Linear\", \"kargs\": {\"in_features\": 20480, \"out_features\": 256}}, {\"class\": \"ReLU\", \"kargs\": {\"inplace\": true}}, {\"class\": \"BatchNorm1d\", \"kargs\": {\"num_features\": 256}}, {\"class\": \"Linear\", \"kargs\": {\"in_features\": 256, \"out_features\": 16}}], \"NUM_LOGS_PER_EPOCH\": 10, \"BEST_MODEL_PATH\": \"./best_model.pth\", \"dataset_seed\": 420, \"seed\": 420}, \"results\": {\"source_test_label_accuracy\": 0.9391666666666667, \"source_test_label_loss\": 0.1786807513078757, \"target_test_label_accuracy\": 0.08383333333333333, \"target_test_label_loss\": 60.40666368159842, \"source_val_label_accuracy\": 0.9407638888888888, \"source_val_label_loss\": 0.20559620131961012, \"target_val_label_accuracy\": 0.08216666666666667, \"target_val_label_loss\": 60.06844788409294, \"total_epochs_trained\": 13, \"total_experiment_time_secs\": 91.46583390235901, \"confusion\": {\"50\": {\"2\": {\"2\": 281, \"0\": 18, \"4\": 1}, \"12\": {\"12\": 298, \"5\": 1, \"9\": 1}, \"15\": {\"15\": 298, \"4\": 2}, \"9\": {\"9\": 298, \"5\": 2}, \"0\": {\"0\": 295, \"2\": 4, \"10\": 1}, \"13\": {\"13\": 300}, \"10\": {\"10\": 294, \"13\": 3, \"0\": 3}, \"1\": {\"1\": 300}, \"4\": {\"4\": 218, \"5\": 78, \"7\": 4}, \"7\": {\"7\": 300}, \"14\": {\"14\": 276, \"9\": 24}, \"3\": {\"3\": 300}, \"11\": {\"11\": 296, \"5\": 2, \"15\": 1, \"2\": 1}, \"8\": {\"8\": 298, \"13\": 2}, \"6\": {\"6\": 265, \"5\": 34, \"13\": 1}, \"5\": {\"4\": 15, \"5\": 279, \"7\": 5, \"6\": 1}}, \"38\": {\"4\": {\"4\": 289, \"15\": 11}, \"12\": {\"13\": 300}, \"8\": {\"4\": 147, \"15\": 139, \"9\": 10, \"5\": 4}, \"13\": {\"4\": 273, \"15\": 27}, \"1\": {\"1\": 63, \"9\": 209, \"0\": 25, \"14\": 2, \"2\": 1}, \"15\": {\"1\": 233, \"11\": 9, \"9\": 56, \"0\": 2}, \"3\": {\"4\": 268, \"9\": 1, \"15\": 31}, \"11\": {\"4\": 280, \"7\": 20}, \"14\": {\"7\": 74, \"5\": 104, \"4\": 61, \"13\": 56, \"3\": 5}, \"5\": {\"15\": 64, \"4\": 51, \"1\": 127, \"5\": 31, \"11\": 25, \"9\": 2}, \"6\": {\"9\": 224, \"14\": 76}, \"9\": {\"9\": 295, \"0\": 5}, \"10\": {\"4\": 256, \"15\": 44}, \"0\": {\"15\": 285, \"9\": 15}, \"2\": {\"5\": 273, \"7\": 23, \"13\": 4}, \"7\": {\"15\": 223, \"4\": 76, \"9\": 1}}, \"32\": {\"12\": {\"12\": 300}, \"14\": {\"14\": 287, \"0\": 9, \"5\": 1, \"2\": 3}, \"2\": {\"7\": 3, \"2\": 297}, \"10\": {\"10\": 300}, \"7\": {\"7\": 295, \"0\": 1, \"5\": 3, \"4\": 1}, \"3\": {\"3\": 300}, \"6\": {\"6\": 300}, \"1\": {\"1\": 300}, \"4\": {\"4\": 297, \"2\": 1, \"0\": 1, \"11\": 1}, \"15\": {\"15\": 300}, \"13\": {\"13\": 273, \"4\": 26, \"3\": 1}, \"8\": {\"8\": 280, \"0\": 20}, \"9\": {\"9\": 291, \"2\": 3, \"14\": 6}, \"5\": {\"5\": 299, \"11\": 1}, \"0\": {\"0\": 293, \"8\": 7}, \"11\": {\"4\": 15, \"11\": 259, \"7\": 10, \"0\": 11, \"13\": 5}}, \"26\": {\"1\": {\"12\": 288, \"9\": 12}, \"15\": {\"3\": 299, \"13\": 1}, \"8\": {\"3\": 300}, \"6\": {\"12\": 190, \"9\": 108, \"3\": 2}, \"11\": {\"6\": 283, \"12\": 13, \"9\": 4}, \"10\": {\"12\": 180, \"3\": 120}, \"9\": {\"3\": 300}, \"7\": {\"3\": 300}, \"4\": {\"3\": 300}, \"3\": {\"3\": 300}, \"2\": {\"3\": 300}, \"5\": {\"9\": 271, \"3\": 25, \"12\": 4}, \"13\": {\"3\": 300}, \"12\": {\"12\": 295, \"10\": 3, \"6\": 2}, \"0\": {\"12\": 112, \"3\": 188}, \"14\": {\"12\": 242, \"3\": 58}}, \"14\": {\"15\": {\"11\": 164, \"3\": 111, \"13\": 25}, \"8\": {\"3\": 300}, \"7\": {\"3\": 300}, \"6\": {\"3\": 300}, \"10\": {\"3\": 298, \"12\": 2}, \"5\": {\"3\": 300}, \"11\": {\"4\": 103, \"7\": 194, \"6\": 1, \"2\": 2}, \"12\": {\"2\": 128, \"7\": 36, \"8\": 1, \"12\": 38, \"6\": 54, \"3\": 23, \"15\": 11, \"13\": 5, \"9\": 1, \"10\": 3}, \"14\": {\"3\": 300}, \"1\": {\"3\": 237, \"2\": 63}, \"13\": {\"3\": 300}, \"9\": {\"2\": 300}, \"2\": {\"3\": 300}, \"0\": {\"3\": 300}, \"4\": {\"3\": 300}, \"3\": {\"3\": 300}}, \"44\": {\"13\": {\"4\": 70, \"15\": 229, \"9\": 1}, \"3\": {\"7\": 191, \"4\": 97, \"3\": 3, \"8\": 9}, \"9\": {\"15\": 251, \"5\": 48, \"9\": 1}, \"6\": {\"15\": 241, \"4\": 55, \"9\": 4}, \"11\": {\"4\": 300}, \"7\": {\"15\": 258, \"9\": 19, \"5\": 21, \"4\": 2}, \"1\": {\"5\": 113, \"7\": 65, \"8\": 122}, \"5\": {\"6\": 283, \"5\": 17}, \"0\": {\"6\": 201, \"2\": 56, \"12\": 19, \"5\": 10, \"0\": 6, \"8\": 4, \"7\": 4}, \"2\": {\"5\": 144, \"15\": 147, \"11\": 2, \"8\": 6, \"4\": 1}, \"8\": {\"12\": 112, \"6\": 166, \"5\": 21, \"7\": 1}, \"15\": {\"12\": 129, \"6\": 163, \"1\": 2, \"15\": 2, \"11\": 3, \"5\": 1}, \"14\": {\"6\": 69, \"15\": 196, \"12\": 13, \"5\": 16, \"4\": 6}, \"10\": {\"7\": 232, \"5\": 36, \"4\": 8, \"10\": 24}, \"4\": {\"15\": 296, \"9\": 1, \"12\": 3}, \"12\": {\"3\": 222, \"7\": 45, \"8\": 32, \"4\": 1}}, \"8\": {\"9\": {\"9\": 300}, \"4\": {\"4\": 151, \"6\": 147, \"7\": 2}, \"8\": {\"8\": 250, \"11\": 50}, \"12\": {\"12\": 300}, \"5\": {\"5\": 289, \"1\": 9, \"14\": 1, \"10\": 1}, \"14\": {\"14\": 279, \"6\": 21}, \"6\": {\"6\": 299, \"8\": 1}, \"15\": {\"15\": 282, \"12\": 18}, \"2\": {\"2\": 300}, \"13\": {\"13\": 298, \"1\": 2}, \"10\": {\"10\": 258, \"5\": 28, \"13\": 13, \"14\": 1}, \"0\": {\"0\": 300}, \"3\": {\"3\": 300}, \"11\": {\"11\": 300}, \"1\": {\"1\": 300}, \"7\": {\"4\": 186, \"7\": 74, \"6\": 38, \"8\": 2}}, \"20\": {\"1\": {\"2\": 300}, \"13\": {\"2\": 295, \"7\": 4, \"12\": 1}, \"10\": {\"12\": 300}, \"15\": {\"2\": 290, \"7\": 8, \"12\": 2}, \"2\": {\"2\": 164, \"12\": 130, \"3\": 6}, \"6\": {\"12\": 300}, \"14\": {\"12\": 300}, \"9\": {\"2\": 212, \"12\": 71, \"7\": 7, \"3\": 10}, \"11\": {\"3\": 300}, \"0\": {\"2\": 269, \"3\": 22, \"15\": 7, \"12\": 2}, \"5\": {\"2\": 103, \"12\": 197}, \"7\": {\"12\": 300}, \"3\": {\"12\": 288, \"7\": 2, \"2\": 10}, \"4\": {\"12\": 300}, \"8\": {\"12\": 297, \"3\": 3}, \"12\": {\"12\": 144, \"2\": 67, \"7\": 89}}}, \"per_domain_accuracy\": {\"50\": {\"accuracy\": 0.9575, \"source?\": true}, \"38\": {\"accuracy\": 0.14125, \"source?\": false}, \"32\": {\"accuracy\": 0.973125, \"source?\": true}, \"26\": {\"accuracy\": 0.12395833333333334, \"source?\": false}, \"14\": {\"accuracy\": 0.07041666666666667, \"source?\": false}, \"44\": {\"accuracy\": 0.011041666666666667, \"source?\": false}, \"8\": {\"accuracy\": 0.8916666666666667, \"source?\": true}, \"20\": {\"accuracy\": 0.06416666666666666, \"source?\": false}}}, \"history\": {\"epoch_indices\": [1, 2, 3, 4, 5, 6, 7, 8, 9, 10, 11, 12, 13], \"train_label_loss\": [1.9413349991752988, 0.8942849605424064, 0.5124710886819022, 0.3454295389425187, 0.2749239337444305, 0.23023828063692364, 0.20064474284648895, 0.18785796375501723, 0.15534808134748823, 0.14741448425111317, 0.1376047734277589, 0.12845581825290409, 0.11639944821596146], \"source_val_label_loss\": [1.2476575469548723, 0.6431962161992504, 0.3911922239096819, 0.3310692256267092, 0.23022628199737682, 0.26529522174227554, 0.2906637169354785, 0.24186099821751098, 0.20608213873563613, 0.17188753490954373, 0.2343329591429339, 0.23415483270598725, 0.17258561936627448], \"target_val_label_loss\": [5.940179370819254, 13.824976682662964, 10.131006529990662, 16.22221236533307, 16.465462999140964, 26.63228235853479, 47.582297801971436, 19.020292840105423, 60.07681125275632, 45.55811674036878, 43.87280707663678, 40.69336897261599, 25.253918074546977], \"source_val_acc_label\": [0.7297222222222223, 0.8781944444444445, 0.9279166666666666, 0.9170138888888889, 0.9532638888888889, 0.93625, 0.9134027777777778, 0.9527083333333334, 0.9407638888888888, 0.9565972222222222, 0.9524305555555556, 0.9526388888888889, 0.9616666666666667], \"target_val_acc_label\": [0.06258333333333334, 0.057541666666666665, 0.07195833333333333, 0.067875, 0.07166666666666667, 0.080875, 0.07033333333333333, 0.07875, 0.08216666666666667, 0.06704166666666667, 0.06620833333333333, 0.07945833333333334, 0.078]}, \"dataset_metrics\": {\"source\": {\"train\": {\"n_unique_x\": 67200, \"n_unique_y\": 16, \"n_batch/episode\": 525}, \"val\": {\"n_unique_x\": 14400, \"n_unique_y\": 16, \"n_batch/episode\": 113}, \"test\": {\"n_unique_x\": 14400, \"n_unique_y\": 16, \"n_batch/episode\": 113}}, \"target\": {\"train\": {\"n_unique_x\": 112000, \"n_unique_y\": 16, \"n_batch/episode\": 875}, \"val\": {\"n_unique_x\": 24000, \"n_unique_y\": 16, \"n_batch/episode\": 188}, \"test\": {\"n_unique_x\": 24000, \"n_unique_y\": 16, \"n_batch/episode\": 188}}}}'"
      ]
     },
     "execution_count": 20,
     "metadata": {},
     "output_type": "execute_result"
    }
   ],
   "source": [
    "json.dumps(experiment)"
   ]
  }
 ],
 "metadata": {
  "celltoolbar": "Tags",
  "kernelspec": {
   "display_name": "Python 3 (ipykernel)",
   "language": "python",
   "name": "python3"
  },
  "language_info": {
   "codemirror_mode": {
    "name": "ipython",
    "version": 3
   },
   "file_extension": ".py",
   "mimetype": "text/x-python",
   "name": "python",
   "nbconvert_exporter": "python",
   "pygments_lexer": "ipython3",
   "version": "3.8.12"
  },
  "papermill": {
   "default_parameters": {},
   "duration": 108.973998,
   "end_time": "2022-03-25T23:24:24.432034",
   "environment_variables": {},
   "exception": null,
   "input_path": "/root/csc500-main/csc500-notebooks/templates/cnn_template.ipynb",
   "output_path": "trial.ipynb",
   "parameters": {
    "parameters": {
     "BEST_MODEL_PATH": "./best_model.pth",
     "NUM_LOGS_PER_EPOCH": 10,
     "batch_size": 128,
     "criteria_for_best": "target_accuracy",
     "dataset_seed": 420,
     "device": "cuda",
     "domains_source": [
      8,
      32,
      50
     ],
     "domains_target": [
      14,
      20,
      26,
      38,
      44
     ],
     "experiment_name": "cnn_1:oracle.run2.framed",
     "labels": [
      "3123D52",
      "3123D65",
      "3123D79",
      "3123D80",
      "3123D54",
      "3123D70",
      "3123D7B",
      "3123D89",
      "3123D58",
      "3123D76",
      "3123D7D",
      "3123EFE",
      "3123D64",
      "3123D78",
      "3123D7E",
      "3124E4A"
     ],
     "lr": 0.0001,
     "n_epoch": 50,
     "normalize_source": false,
     "normalize_target": false,
     "num_examples_per_domain_per_label_source": -1,
     "num_examples_per_domain_per_label_target": -1,
     "patience": 3,
     "pickle_name_source": "oracle.Run2_framed_2000Examples_stratified_ds.2022A.pkl",
     "pickle_name_target": "oracle.Run2_framed_2000Examples_stratified_ds.2022A.pkl",
     "seed": 420,
     "torch_default_dtype": "torch.float32",
     "x_net": [
      {
       "class": "nnReshape",
       "kargs": {
        "shape": [
         -1,
         1,
         2,
         256
        ]
       }
      },
      {
       "class": "Conv2d",
       "kargs": {
        "bias": false,
        "in_channels": 1,
        "kernel_size": [
         1,
         7
        ],
        "out_channels": 256,
        "padding": [
         0,
         3
        ]
       }
      },
      {
       "class": "ReLU",
       "kargs": {
        "inplace": true
       }
      },
      {
       "class": "BatchNorm2d",
       "kargs": {
        "num_features": 256
       }
      },
      {
       "class": "Conv2d",
       "kargs": {
        "bias": true,
        "in_channels": 256,
        "kernel_size": [
         2,
         7
        ],
        "out_channels": 80,
        "padding": [
         0,
         3
        ]
       }
      },
      {
       "class": "ReLU",
       "kargs": {
        "inplace": true
       }
      },
      {
       "class": "BatchNorm2d",
       "kargs": {
        "num_features": 80
       }
      },
      {
       "class": "Flatten",
       "kargs": {}
      },
      {
       "class": "Linear",
       "kargs": {
        "in_features": 20480,
        "out_features": 256
       }
      },
      {
       "class": "ReLU",
       "kargs": {
        "inplace": true
       }
      },
      {
       "class": "BatchNorm1d",
       "kargs": {
        "num_features": 256
       }
      },
      {
       "class": "Linear",
       "kargs": {
        "in_features": 256,
        "out_features": 16
       }
      }
     ]
    }
   },
   "start_time": "2022-03-25T23:22:35.458036",
   "version": "2.3.4"
  }
 },
 "nbformat": 4,
 "nbformat_minor": 5
}