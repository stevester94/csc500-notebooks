{
 "cells": [
  {
   "cell_type": "code",
   "execution_count": 1,
   "id": "2324682e",
   "metadata": {
    "execution": {
     "iopub.execute_input": "2022-03-25T23:34:16.876001Z",
     "iopub.status.busy": "2022-03-25T23:34:16.875115Z",
     "iopub.status.idle": "2022-03-25T23:34:18.233572Z",
     "shell.execute_reply": "2022-03-25T23:34:18.232709Z"
    },
    "papermill": {
     "duration": 1.399962,
     "end_time": "2022-03-25T23:34:18.233782",
     "exception": false,
     "start_time": "2022-03-25T23:34:16.833820",
     "status": "completed"
    },
    "tags": []
   },
   "outputs": [],
   "source": [
    "import os, json, sys, time, random\n",
    "import numpy as np\n",
    "import torch\n",
    "from  easydict import EasyDict\n",
    "from math import floor\n",
    "from easydict import EasyDict\n",
    "\n",
    "from steves_utils.vanilla_train_eval_test_jig import  Vanilla_Train_Eval_Test_Jig\n",
    "\n",
    "from steves_utils.torch_utils import get_dataset_metrics, independent_accuracy_assesment\n",
    "from steves_models.configurable_vanilla import Configurable_Vanilla\n",
    "from steves_utils.torch_sequential_builder import build_sequential\n",
    "from steves_utils.lazy_map import Lazy_Map\n",
    "from steves_utils.sequence_aggregator import Sequence_Aggregator\n",
    "\n",
    "from steves_utils.stratified_dataset.traditional_accessor import Traditional_Accessor_Factory\n",
    "\n",
    "from steves_utils.cnn_do_report import (\n",
    "    get_loss_curve,\n",
    "    get_results_table,\n",
    "    get_parameters_table,\n",
    "    get_domain_accuracies,\n",
    ")\n",
    "\n",
    "from steves_utils.torch_utils import (\n",
    "    confusion_by_domain_over_dataloader,\n",
    "    independent_accuracy_assesment\n",
    ")\n",
    "\n",
    "from steves_utils.utils_v2 import (\n",
    "    per_domain_accuracy_from_confusion,\n",
    "    get_datasets_base_path\n",
    ")\n",
    "\n",
    "# from steves_utils.ptn_do_report import TBD"
   ]
  },
  {
   "cell_type": "code",
   "execution_count": 2,
   "id": "1b29e3fe",
   "metadata": {
    "execution": {
     "iopub.execute_input": "2022-03-25T23:34:18.270563Z",
     "iopub.status.busy": "2022-03-25T23:34:18.269989Z",
     "iopub.status.idle": "2022-03-25T23:34:18.272924Z",
     "shell.execute_reply": "2022-03-25T23:34:18.273381Z"
    },
    "papermill": {
     "duration": 0.022687,
     "end_time": "2022-03-25T23:34:18.273505",
     "exception": false,
     "start_time": "2022-03-25T23:34:18.250818",
     "status": "completed"
    },
    "tags": []
   },
   "outputs": [],
   "source": [
    "required_parameters = {\n",
    "    \"experiment_name\",\n",
    "    \"lr\",\n",
    "    \"device\",\n",
    "    \"dataset_seed\",\n",
    "    \"seed\",\n",
    "    \"labels\",\n",
    "    \"domains_target\",\n",
    "    \"domains_source\",\n",
    "    \"num_examples_per_domain_per_label_source\",\n",
    "    \"num_examples_per_domain_per_label_target\",\n",
    "    \"batch_size\",\n",
    "    \"n_epoch\",\n",
    "    \"patience\",\n",
    "    \"criteria_for_best\",\n",
    "    \"normalize_source\",\n",
    "    \"normalize_target\",\n",
    "    \"x_net\",\n",
    "    \"NUM_LOGS_PER_EPOCH\",\n",
    "    \"BEST_MODEL_PATH\",\n",
    "    \"pickle_name_source\",\n",
    "    \"pickle_name_target\",\n",
    "    \"torch_default_dtype\",\n",
    "}"
   ]
  },
  {
   "cell_type": "code",
   "execution_count": 3,
   "id": "670b5fb8",
   "metadata": {
    "execution": {
     "iopub.execute_input": "2022-03-25T23:34:18.321076Z",
     "iopub.status.busy": "2022-03-25T23:34:18.320193Z",
     "iopub.status.idle": "2022-03-25T23:34:18.328465Z",
     "shell.execute_reply": "2022-03-25T23:34:18.329135Z"
    },
    "papermill": {
     "duration": 0.037575,
     "end_time": "2022-03-25T23:34:18.329314",
     "exception": false,
     "start_time": "2022-03-25T23:34:18.291739",
     "status": "completed"
    },
    "tags": [
     "parameters"
    ]
   },
   "outputs": [],
   "source": [
    "from steves_utils.ORACLE.utils_v2 import (\n",
    "    ALL_SERIAL_NUMBERS,\n",
    "    ALL_DISTANCES_FEET_NARROWED,\n",
    ")\n",
    "\n",
    "standalone_parameters = {}\n",
    "standalone_parameters[\"experiment_name\"] = \"MANUAL CORES CNN\"\n",
    "standalone_parameters[\"lr\"] = 0.0001\n",
    "standalone_parameters[\"device\"] = \"cuda\"\n",
    "\n",
    "standalone_parameters[\"dataset_seed\"] = 1337\n",
    "standalone_parameters[\"seed\"] = 1337\n",
    "standalone_parameters[\"labels\"] = ALL_SERIAL_NUMBERS\n",
    "\n",
    "standalone_parameters[\"domains_source\"] = [8,32,50]\n",
    "standalone_parameters[\"domains_target\"] = [14,20,26,38,44,]\n",
    "\n",
    "standalone_parameters[\"num_examples_per_domain_per_label_source\"]=-1\n",
    "standalone_parameters[\"num_examples_per_domain_per_label_target\"]=-1\n",
    "\n",
    "standalone_parameters[\"pickle_name_source\"] = \"oracle.Run1_framed_2000Examples_stratified_ds.2022A.pkl\"\n",
    "standalone_parameters[\"pickle_name_target\"] = \"oracle.Run2_framed_2000Examples_stratified_ds.2022A.pkl\"\n",
    "\n",
    "standalone_parameters[\"torch_default_dtype\"] = \"torch.float32\" \n",
    "\n",
    "standalone_parameters[\"batch_size\"]=128\n",
    "\n",
    "standalone_parameters[\"n_epoch\"] = 3\n",
    "\n",
    "standalone_parameters[\"patience\"] = 10\n",
    "\n",
    "standalone_parameters[\"criteria_for_best\"] = \"target_accuracy\"\n",
    "standalone_parameters[\"normalize_source\"] = False\n",
    "standalone_parameters[\"normalize_target\"] = False\n",
    "\n",
    "standalone_parameters[\"x_net\"] =     [\n",
    "    {\"class\": \"nnReshape\", \"kargs\": {\"shape\":[-1, 1, 2, 256]}},\n",
    "    {\"class\": \"Conv2d\", \"kargs\": { \"in_channels\":1, \"out_channels\":256, \"kernel_size\":(1,7), \"bias\":False, \"padding\":(0,3), },},\n",
    "    {\"class\": \"ReLU\", \"kargs\": {\"inplace\": True}},\n",
    "    {\"class\": \"BatchNorm2d\", \"kargs\": {\"num_features\":256}},\n",
    "\n",
    "    {\"class\": \"Conv2d\", \"kargs\": { \"in_channels\":256, \"out_channels\":80, \"kernel_size\":(2,7), \"bias\":True, \"padding\":(0,3), },},\n",
    "    {\"class\": \"ReLU\", \"kargs\": {\"inplace\": True}},\n",
    "    {\"class\": \"BatchNorm2d\", \"kargs\": {\"num_features\":80}},\n",
    "    {\"class\": \"Flatten\", \"kargs\": {}},\n",
    "\n",
    "    {\"class\": \"Linear\", \"kargs\": {\"in_features\": 80*256, \"out_features\": 256}}, # 80 units per IQ pair\n",
    "    {\"class\": \"ReLU\", \"kargs\": {\"inplace\": True}},\n",
    "    {\"class\": \"BatchNorm1d\", \"kargs\": {\"num_features\":256}},\n",
    "\n",
    "    {\"class\": \"Linear\", \"kargs\": {\"in_features\": 256, \"out_features\": len(standalone_parameters[\"labels\"])}},\n",
    "]\n",
    "\n",
    "standalone_parameters[\"NUM_LOGS_PER_EPOCH\"] = 10\n",
    "standalone_parameters[\"BEST_MODEL_PATH\"] = \"./best_model.pth\""
   ]
  },
  {
   "cell_type": "code",
   "execution_count": 4,
   "id": "ccad7818",
   "metadata": {
    "execution": {
     "iopub.execute_input": "2022-03-25T23:34:18.376233Z",
     "iopub.status.busy": "2022-03-25T23:34:18.375443Z",
     "iopub.status.idle": "2022-03-25T23:34:18.377526Z",
     "shell.execute_reply": "2022-03-25T23:34:18.378190Z"
    },
    "papermill": {
     "duration": 0.030214,
     "end_time": "2022-03-25T23:34:18.378369",
     "exception": false,
     "start_time": "2022-03-25T23:34:18.348155",
     "status": "completed"
    },
    "tags": [
     "injected-parameters"
    ]
   },
   "outputs": [],
   "source": [
    "# Parameters\n",
    "parameters = {\n",
    "    \"experiment_name\": \"cnn_1:oracle.run2.framed\",\n",
    "    \"labels\": [\n",
    "        \"3123D52\",\n",
    "        \"3123D65\",\n",
    "        \"3123D79\",\n",
    "        \"3123D80\",\n",
    "        \"3123D54\",\n",
    "        \"3123D70\",\n",
    "        \"3123D7B\",\n",
    "        \"3123D89\",\n",
    "        \"3123D58\",\n",
    "        \"3123D76\",\n",
    "        \"3123D7D\",\n",
    "        \"3123EFE\",\n",
    "        \"3123D64\",\n",
    "        \"3123D78\",\n",
    "        \"3123D7E\",\n",
    "        \"3124E4A\",\n",
    "    ],\n",
    "    \"domains_source\": [8, 32, 50],\n",
    "    \"domains_target\": [14, 20, 26, 38, 44],\n",
    "    \"pickle_name_source\": \"oracle.Run2_framed_2000Examples_stratified_ds.2022A.pkl\",\n",
    "    \"pickle_name_target\": \"oracle.Run2_framed_2000Examples_stratified_ds.2022A.pkl\",\n",
    "    \"device\": \"cuda\",\n",
    "    \"lr\": 0.0001,\n",
    "    \"batch_size\": 128,\n",
    "    \"normalize_source\": False,\n",
    "    \"normalize_target\": False,\n",
    "    \"num_examples_per_domain_per_label_source\": -1,\n",
    "    \"num_examples_per_domain_per_label_target\": -1,\n",
    "    \"torch_default_dtype\": \"torch.float32\",\n",
    "    \"n_epoch\": 50,\n",
    "    \"patience\": 3,\n",
    "    \"criteria_for_best\": \"target_accuracy\",\n",
    "    \"x_net\": [\n",
    "        {\"class\": \"nnReshape\", \"kargs\": {\"shape\": [-1, 1, 2, 256]}},\n",
    "        {\n",
    "            \"class\": \"Conv2d\",\n",
    "            \"kargs\": {\n",
    "                \"in_channels\": 1,\n",
    "                \"out_channels\": 256,\n",
    "                \"kernel_size\": [1, 7],\n",
    "                \"bias\": False,\n",
    "                \"padding\": [0, 3],\n",
    "            },\n",
    "        },\n",
    "        {\"class\": \"ReLU\", \"kargs\": {\"inplace\": True}},\n",
    "        {\"class\": \"BatchNorm2d\", \"kargs\": {\"num_features\": 256}},\n",
    "        {\n",
    "            \"class\": \"Conv2d\",\n",
    "            \"kargs\": {\n",
    "                \"in_channels\": 256,\n",
    "                \"out_channels\": 80,\n",
    "                \"kernel_size\": [2, 7],\n",
    "                \"bias\": True,\n",
    "                \"padding\": [0, 3],\n",
    "            },\n",
    "        },\n",
    "        {\"class\": \"ReLU\", \"kargs\": {\"inplace\": True}},\n",
    "        {\"class\": \"BatchNorm2d\", \"kargs\": {\"num_features\": 80}},\n",
    "        {\"class\": \"Flatten\", \"kargs\": {}},\n",
    "        {\"class\": \"Linear\", \"kargs\": {\"in_features\": 20480, \"out_features\": 256}},\n",
    "        {\"class\": \"ReLU\", \"kargs\": {\"inplace\": True}},\n",
    "        {\"class\": \"BatchNorm1d\", \"kargs\": {\"num_features\": 256}},\n",
    "        {\"class\": \"Linear\", \"kargs\": {\"in_features\": 256, \"out_features\": 16}},\n",
    "    ],\n",
    "    \"NUM_LOGS_PER_EPOCH\": 10,\n",
    "    \"BEST_MODEL_PATH\": \"./best_model.pth\",\n",
    "    \"dataset_seed\": 7,\n",
    "    \"seed\": 7,\n",
    "}\n"
   ]
  },
  {
   "cell_type": "code",
   "execution_count": 5,
   "id": "759b56ec",
   "metadata": {
    "execution": {
     "iopub.execute_input": "2022-03-25T23:34:18.414387Z",
     "iopub.status.busy": "2022-03-25T23:34:18.414019Z",
     "iopub.status.idle": "2022-03-25T23:34:18.416837Z",
     "shell.execute_reply": "2022-03-25T23:34:18.417505Z"
    },
    "papermill": {
     "duration": 0.022796,
     "end_time": "2022-03-25T23:34:18.417684",
     "exception": false,
     "start_time": "2022-03-25T23:34:18.394888",
     "status": "completed"
    },
    "tags": []
   },
   "outputs": [],
   "source": [
    "# Set this to True if you want to run this template directly\n",
    "STANDALONE = False\n",
    "if STANDALONE:\n",
    "    print(\"parameters not injected, running with standalone_parameters\")\n",
    "    parameters = standalone_parameters\n",
    "\n",
    "if not 'parameters' in locals() and not 'parameters' in globals():\n",
    "    raise Exception(\"Parameter injection failed\")\n",
    "\n",
    "#Use an easy dict for all the parameters\n",
    "p = EasyDict(parameters)\n",
    "\n",
    "supplied_keys = set(p.keys())\n",
    "\n",
    "if  supplied_keys != required_parameters:\n",
    "    print(\"Parameters are incorrect\")\n",
    "    if len(supplied_keys - required_parameters)>0: print(\"Shouldn't have:\", str(supplied_keys - required_parameters))\n",
    "    if len(required_parameters - supplied_keys)>0: print(\"Need to have:\", str(required_parameters - supplied_keys))\n",
    "    raise RuntimeError(\"Parameters are incorrect\")\n",
    "\n"
   ]
  },
  {
   "cell_type": "code",
   "execution_count": 6,
   "id": "d5c66a71",
   "metadata": {
    "execution": {
     "iopub.execute_input": "2022-03-25T23:34:18.453098Z",
     "iopub.status.busy": "2022-03-25T23:34:18.452549Z",
     "iopub.status.idle": "2022-03-25T23:34:18.456217Z",
     "shell.execute_reply": "2022-03-25T23:34:18.456670Z"
    },
    "papermill": {
     "duration": 0.022288,
     "end_time": "2022-03-25T23:34:18.456790",
     "exception": false,
     "start_time": "2022-03-25T23:34:18.434502",
     "status": "completed"
    },
    "tags": []
   },
   "outputs": [],
   "source": [
    "###################################\n",
    "# Set the RNGs and make it all deterministic\n",
    "###################################\n",
    "np.random.seed(p.seed)\n",
    "random.seed(p.seed)\n",
    "torch.manual_seed(p.seed)\n",
    "\n",
    "torch.use_deterministic_algorithms(True) "
   ]
  },
  {
   "cell_type": "code",
   "execution_count": 7,
   "id": "92a65876",
   "metadata": {
    "execution": {
     "iopub.execute_input": "2022-03-25T23:34:18.493904Z",
     "iopub.status.busy": "2022-03-25T23:34:18.493359Z",
     "iopub.status.idle": "2022-03-25T23:34:18.496151Z",
     "shell.execute_reply": "2022-03-25T23:34:18.496604Z"
    },
    "papermill": {
     "duration": 0.021256,
     "end_time": "2022-03-25T23:34:18.496724",
     "exception": false,
     "start_time": "2022-03-25T23:34:18.475468",
     "status": "completed"
    },
    "tags": []
   },
   "outputs": [],
   "source": [
    "torch.set_default_dtype(eval(p.torch_default_dtype))"
   ]
  },
  {
   "cell_type": "code",
   "execution_count": 8,
   "id": "f1a32f01",
   "metadata": {
    "execution": {
     "iopub.execute_input": "2022-03-25T23:34:18.533989Z",
     "iopub.status.busy": "2022-03-25T23:34:18.533437Z",
     "iopub.status.idle": "2022-03-25T23:34:18.576721Z",
     "shell.execute_reply": "2022-03-25T23:34:18.576016Z"
    },
    "papermill": {
     "duration": 0.061157,
     "end_time": "2022-03-25T23:34:18.576871",
     "exception": false,
     "start_time": "2022-03-25T23:34:18.515714",
     "status": "completed"
    },
    "tags": []
   },
   "outputs": [],
   "source": [
    "###################################\n",
    "# Build the network(s)\n",
    "# Note: It's critical to do this AFTER setting the RNG\n",
    "###################################\n",
    "x_net = build_sequential(p.x_net)"
   ]
  },
  {
   "cell_type": "code",
   "execution_count": 9,
   "id": "a276cd83",
   "metadata": {
    "execution": {
     "iopub.execute_input": "2022-03-25T23:34:18.611838Z",
     "iopub.status.busy": "2022-03-25T23:34:18.611431Z",
     "iopub.status.idle": "2022-03-25T23:34:18.613713Z",
     "shell.execute_reply": "2022-03-25T23:34:18.614166Z"
    },
    "papermill": {
     "duration": 0.019891,
     "end_time": "2022-03-25T23:34:18.614287",
     "exception": false,
     "start_time": "2022-03-25T23:34:18.594396",
     "status": "completed"
    },
    "tags": []
   },
   "outputs": [],
   "source": [
    "start_time_secs = time.time()"
   ]
  },
  {
   "cell_type": "code",
   "execution_count": 10,
   "id": "de702e48",
   "metadata": {
    "execution": {
     "iopub.execute_input": "2022-03-25T23:34:18.660348Z",
     "iopub.status.busy": "2022-03-25T23:34:18.659427Z",
     "iopub.status.idle": "2022-03-25T23:34:22.719139Z",
     "shell.execute_reply": "2022-03-25T23:34:22.719882Z"
    },
    "papermill": {
     "duration": 4.088638,
     "end_time": "2022-03-25T23:34:22.720095",
     "exception": false,
     "start_time": "2022-03-25T23:34:18.631457",
     "status": "completed"
    },
    "tags": []
   },
   "outputs": [],
   "source": [
    "def wrap_in_dataloader(p, ds):\n",
    "    return torch.utils.data.DataLoader(\n",
    "        ds,\n",
    "        batch_size=p.batch_size,\n",
    "        shuffle=True,\n",
    "        num_workers=1,\n",
    "        persistent_workers=True,\n",
    "        prefetch_factor=50,\n",
    "        pin_memory=True\n",
    "    )\n",
    "\n",
    "taf_source = Traditional_Accessor_Factory(\n",
    "    labels=p.labels,\n",
    "    domains=p.domains_source,\n",
    "    num_examples_per_domain_per_label=p.num_examples_per_domain_per_label_source,\n",
    "    pickle_path=os.path.join(get_datasets_base_path(), p.pickle_name_source),\n",
    "    seed=p.dataset_seed\n",
    ")\n",
    "train_original_source, val_original_source, test_original_source = \\\n",
    "    taf_source.get_train(), taf_source.get_val(), taf_source.get_test()\n",
    "\n",
    "\n",
    "taf_target = Traditional_Accessor_Factory(\n",
    "    labels=p.labels,\n",
    "    domains=p.domains_target,\n",
    "    num_examples_per_domain_per_label=p.num_examples_per_domain_per_label_source,\n",
    "    pickle_path=os.path.join(get_datasets_base_path(), p.pickle_name_target),\n",
    "    seed=p.dataset_seed\n",
    ")\n",
    "train_original_target, val_original_target, test_original_target = \\\n",
    "    taf_target.get_train(), taf_target.get_val(), taf_target.get_test()\n",
    "\n",
    "\n",
    "# For CNN We only use X and Y. And we only train on the source.\n",
    "# Properly form the data using a transform lambda and Lazy_Map. Finally wrap them in a dataloader\n",
    "\n",
    "transform_lambda = lambda ex: ex[:2] # Strip the tuple to just (x,y)\n",
    "\n",
    "\n",
    "train_processed_source = wrap_in_dataloader(\n",
    "    p,\n",
    "    Lazy_Map(train_original_source, transform_lambda)\n",
    ")\n",
    "val_processed_source = wrap_in_dataloader(\n",
    "    p,\n",
    "    Lazy_Map(val_original_source, transform_lambda)\n",
    ")\n",
    "test_processed_source = wrap_in_dataloader(\n",
    "    p,\n",
    "    Lazy_Map(test_original_source, transform_lambda)\n",
    ")\n",
    "\n",
    "train_processed_target = wrap_in_dataloader(\n",
    "    p,\n",
    "    Lazy_Map(train_original_target, transform_lambda)\n",
    ")\n",
    "val_processed_target = wrap_in_dataloader(\n",
    "    p,\n",
    "    Lazy_Map(val_original_target, transform_lambda)\n",
    ")\n",
    "test_processed_target  = wrap_in_dataloader(\n",
    "    p,\n",
    "    Lazy_Map(test_original_target, transform_lambda)\n",
    ")\n",
    "\n",
    "\n",
    "\n",
    "datasets = EasyDict({\n",
    "    \"source\": {\n",
    "        \"original\": {\"train\":train_original_source, \"val\":val_original_source, \"test\":test_original_source},\n",
    "        \"processed\": {\"train\":train_processed_source, \"val\":val_processed_source, \"test\":test_processed_source}\n",
    "    },\n",
    "    \"target\": {\n",
    "        \"original\": {\"train\":train_original_target, \"val\":val_original_target, \"test\":test_original_target},\n",
    "        \"processed\": {\"train\":train_processed_target, \"val\":val_processed_target, \"test\":test_processed_target}\n",
    "    },\n",
    "})"
   ]
  },
  {
   "cell_type": "code",
   "execution_count": 11,
   "id": "a11b26bd",
   "metadata": {
    "execution": {
     "iopub.execute_input": "2022-03-25T23:34:22.802783Z",
     "iopub.status.busy": "2022-03-25T23:34:22.801970Z",
     "iopub.status.idle": "2022-03-25T23:34:28.255337Z",
     "shell.execute_reply": "2022-03-25T23:34:28.256220Z"
    },
    "papermill": {
     "duration": 5.513663,
     "end_time": "2022-03-25T23:34:28.256426",
     "exception": false,
     "start_time": "2022-03-25T23:34:22.742763",
     "status": "completed"
    },
    "tags": []
   },
   "outputs": [
    {
     "data": {
      "text/plain": [
       "torch.float32"
      ]
     },
     "execution_count": 11,
     "metadata": {},
     "output_type": "execute_result"
    }
   ],
   "source": [
    "ep = next(iter(test_processed_target))\n",
    "ep[0].dtype"
   ]
  },
  {
   "cell_type": "code",
   "execution_count": 12,
   "id": "19425fad",
   "metadata": {
    "execution": {
     "iopub.execute_input": "2022-03-25T23:34:28.309540Z",
     "iopub.status.busy": "2022-03-25T23:34:28.308735Z",
     "iopub.status.idle": "2022-03-25T23:34:28.354977Z",
     "shell.execute_reply": "2022-03-25T23:34:28.354282Z"
    },
    "papermill": {
     "duration": 0.079733,
     "end_time": "2022-03-25T23:34:28.355127",
     "exception": false,
     "start_time": "2022-03-25T23:34:28.275394",
     "status": "completed"
    },
    "tags": []
   },
   "outputs": [],
   "source": [
    "model = Configurable_Vanilla(\n",
    "    x_net=x_net,\n",
    "    label_loss_object=torch.nn.NLLLoss(),\n",
    "    learning_rate=p.lr\n",
    ")"
   ]
  },
  {
   "cell_type": "code",
   "execution_count": 13,
   "id": "7f6d4f2c",
   "metadata": {
    "execution": {
     "iopub.execute_input": "2022-03-25T23:34:28.395512Z",
     "iopub.status.busy": "2022-03-25T23:34:28.395154Z",
     "iopub.status.idle": "2022-03-25T23:36:18.346498Z",
     "shell.execute_reply": "2022-03-25T23:36:18.347162Z"
    },
    "papermill": {
     "duration": 109.971239,
     "end_time": "2022-03-25T23:36:18.347374",
     "exception": false,
     "start_time": "2022-03-25T23:34:28.376135",
     "status": "completed"
    },
    "tags": []
   },
   "outputs": [
    {
     "name": "stdout",
     "output_type": "stream",
     "text": [
      "epoch: 1, [batch: 1 / 525], examples_per_second: 686.8875, train_label_loss: 2.7887, \n"
     ]
    },
    {
     "name": "stdout",
     "output_type": "stream",
     "text": [
      "epoch: 1, [batch: 53 / 525], examples_per_second: 10586.9131, train_label_loss: 2.6553, \n"
     ]
    },
    {
     "name": "stdout",
     "output_type": "stream",
     "text": [
      "epoch: 1, [batch: 105 / 525], examples_per_second: 10723.2347, train_label_loss: 2.3746, \n"
     ]
    },
    {
     "name": "stdout",
     "output_type": "stream",
     "text": [
      "epoch: 1, [batch: 158 / 525], examples_per_second: 10675.8328, train_label_loss: 2.2561, \n"
     ]
    },
    {
     "name": "stdout",
     "output_type": "stream",
     "text": [
      "epoch: 1, [batch: 210 / 525], examples_per_second: 10809.2959, train_label_loss: 2.0313, \n"
     ]
    },
    {
     "name": "stdout",
     "output_type": "stream",
     "text": [
      "epoch: 1, [batch: 263 / 525], examples_per_second: 10782.1377, train_label_loss: 1.9094, \n"
     ]
    },
    {
     "name": "stdout",
     "output_type": "stream",
     "text": [
      "epoch: 1, [batch: 315 / 525], examples_per_second: 10613.1061, train_label_loss: 1.8190, \n"
     ]
    },
    {
     "name": "stdout",
     "output_type": "stream",
     "text": [
      "epoch: 1, [batch: 367 / 525], examples_per_second: 10716.4511, train_label_loss: 1.6660, \n"
     ]
    },
    {
     "name": "stdout",
     "output_type": "stream",
     "text": [
      "epoch: 1, [batch: 420 / 525], examples_per_second: 10507.7001, train_label_loss: 1.5170, \n"
     ]
    },
    {
     "name": "stdout",
     "output_type": "stream",
     "text": [
      "epoch: 1, [batch: 472 / 525], examples_per_second: 10551.7720, train_label_loss: 1.5814, \n"
     ]
    },
    {
     "name": "stdout",
     "output_type": "stream",
     "text": [
      "=============================================================\n",
      "epoch: 1, source_val_acc_label: 0.7160, source_val_label_loss: 1.2572, target_val_acc_label: 0.0573, target_val_label_loss: 7.6713, \n",
      "=============================================================\n"
     ]
    },
    {
     "name": "stdout",
     "output_type": "stream",
     "text": [
      "New best\n",
      "epoch: 2, [batch: 1 / 525], examples_per_second: 99.9062, train_label_loss: 1.3128, \n"
     ]
    },
    {
     "name": "stdout",
     "output_type": "stream",
     "text": [
      "epoch: 2, [batch: 53 / 525], examples_per_second: 10624.4638, train_label_loss: 1.1402, \n"
     ]
    },
    {
     "name": "stdout",
     "output_type": "stream",
     "text": [
      "epoch: 2, [batch: 105 / 525], examples_per_second: 10647.3133, train_label_loss: 1.0717, \n"
     ]
    },
    {
     "name": "stdout",
     "output_type": "stream",
     "text": [
      "epoch: 2, [batch: 158 / 525], examples_per_second: 10805.1933, train_label_loss: 0.9590, \n"
     ]
    },
    {
     "name": "stdout",
     "output_type": "stream",
     "text": [
      "epoch: 2, [batch: 210 / 525], examples_per_second: 10679.5924, train_label_loss: 0.8698, \n"
     ]
    },
    {
     "name": "stdout",
     "output_type": "stream",
     "text": [
      "epoch: 2, [batch: 263 / 525], examples_per_second: 10527.2039, train_label_loss: 0.8934, \n"
     ]
    },
    {
     "name": "stdout",
     "output_type": "stream",
     "text": [
      "epoch: 2, [batch: 315 / 525], examples_per_second: 10724.2192, train_label_loss: 0.8459, \n"
     ]
    },
    {
     "name": "stdout",
     "output_type": "stream",
     "text": [
      "epoch: 2, [batch: 367 / 525], examples_per_second: 10566.2371, train_label_loss: 0.6865, \n"
     ]
    },
    {
     "name": "stdout",
     "output_type": "stream",
     "text": [
      "epoch: 2, [batch: 420 / 525], examples_per_second: 10762.4480, train_label_loss: 0.6423, \n"
     ]
    },
    {
     "name": "stdout",
     "output_type": "stream",
     "text": [
      "epoch: 2, [batch: 472 / 525], examples_per_second: 10744.9769, train_label_loss: 0.6342, \n"
     ]
    },
    {
     "name": "stdout",
     "output_type": "stream",
     "text": [
      "=============================================================\n",
      "epoch: 2, source_val_acc_label: 0.8032, source_val_label_loss: 0.6584, target_val_acc_label: 0.0621, target_val_label_loss: 13.4372, \n",
      "=============================================================\n"
     ]
    },
    {
     "name": "stdout",
     "output_type": "stream",
     "text": [
      "New best\n",
      "epoch: 3, [batch: 1 / 525], examples_per_second: 121.9729, train_label_loss: 0.6656, \n"
     ]
    },
    {
     "name": "stdout",
     "output_type": "stream",
     "text": [
      "epoch: 3, [batch: 53 / 525], examples_per_second: 10464.9943, train_label_loss: 0.5761, \n"
     ]
    },
    {
     "name": "stdout",
     "output_type": "stream",
     "text": [
      "epoch: 3, [batch: 105 / 525], examples_per_second: 10583.5979, train_label_loss: 0.7076, \n"
     ]
    },
    {
     "name": "stdout",
     "output_type": "stream",
     "text": [
      "epoch: 3, [batch: 158 / 525], examples_per_second: 10577.4670, train_label_loss: 0.4942, \n"
     ]
    },
    {
     "name": "stdout",
     "output_type": "stream",
     "text": [
      "epoch: 3, [batch: 210 / 525], examples_per_second: 10444.9985, train_label_loss: 0.5708, \n"
     ]
    },
    {
     "name": "stdout",
     "output_type": "stream",
     "text": [
      "epoch: 3, [batch: 263 / 525], examples_per_second: 10746.7213, train_label_loss: 0.5033, \n"
     ]
    },
    {
     "name": "stdout",
     "output_type": "stream",
     "text": [
      "epoch: 3, [batch: 315 / 525], examples_per_second: 10642.8808, train_label_loss: 0.4658, \n"
     ]
    },
    {
     "name": "stdout",
     "output_type": "stream",
     "text": [
      "epoch: 3, [batch: 367 / 525], examples_per_second: 10742.2151, train_label_loss: 0.4575, \n"
     ]
    },
    {
     "name": "stdout",
     "output_type": "stream",
     "text": [
      "epoch: 3, [batch: 420 / 525], examples_per_second: 10889.8932, train_label_loss: 0.6129, \n"
     ]
    },
    {
     "name": "stdout",
     "output_type": "stream",
     "text": [
      "epoch: 3, [batch: 472 / 525], examples_per_second: 10794.6715, train_label_loss: 0.3630, \n"
     ]
    },
    {
     "name": "stdout",
     "output_type": "stream",
     "text": [
      "=============================================================\n",
      "epoch: 3, source_val_acc_label: 0.9369, source_val_label_loss: 0.3868, target_val_acc_label: 0.0689, target_val_label_loss: 17.8423, \n",
      "=============================================================\n"
     ]
    },
    {
     "name": "stdout",
     "output_type": "stream",
     "text": [
      "New best\n",
      "epoch: 4, [batch: 1 / 525], examples_per_second: 125.2906, train_label_loss: 0.4146, \n"
     ]
    },
    {
     "name": "stdout",
     "output_type": "stream",
     "text": [
      "epoch: 4, [batch: 53 / 525], examples_per_second: 10603.9472, train_label_loss: 0.2802, \n"
     ]
    },
    {
     "name": "stdout",
     "output_type": "stream",
     "text": [
      "epoch: 4, [batch: 105 / 525], examples_per_second: 10683.9655, train_label_loss: 0.3663, \n"
     ]
    },
    {
     "name": "stdout",
     "output_type": "stream",
     "text": [
      "epoch: 4, [batch: 158 / 525], examples_per_second: 10634.5123, train_label_loss: 0.3240, \n"
     ]
    },
    {
     "name": "stdout",
     "output_type": "stream",
     "text": [
      "epoch: 4, [batch: 210 / 525], examples_per_second: 10653.0258, train_label_loss: 0.3620, \n"
     ]
    },
    {
     "name": "stdout",
     "output_type": "stream",
     "text": [
      "epoch: 4, [batch: 263 / 525], examples_per_second: 10635.8240, train_label_loss: 0.3032, \n"
     ]
    },
    {
     "name": "stdout",
     "output_type": "stream",
     "text": [
      "epoch: 4, [batch: 315 / 525], examples_per_second: 11510.6791, train_label_loss: 0.2535, \n"
     ]
    },
    {
     "name": "stdout",
     "output_type": "stream",
     "text": [
      "epoch: 4, [batch: 367 / 525], examples_per_second: 11798.0493, train_label_loss: 0.2907, \n"
     ]
    },
    {
     "name": "stdout",
     "output_type": "stream",
     "text": [
      "epoch: 4, [batch: 420 / 525], examples_per_second: 11532.9900, train_label_loss: 0.2287, \n"
     ]
    },
    {
     "name": "stdout",
     "output_type": "stream",
     "text": [
      "epoch: 4, [batch: 472 / 525], examples_per_second: 11782.9313, train_label_loss: 0.3001, \n"
     ]
    },
    {
     "name": "stdout",
     "output_type": "stream",
     "text": [
      "=============================================================\n",
      "epoch: 4, source_val_acc_label: 0.9081, source_val_label_loss: 0.3080, target_val_acc_label: 0.0642, target_val_label_loss: 25.9619, \n",
      "=============================================================\n"
     ]
    },
    {
     "name": "stdout",
     "output_type": "stream",
     "text": [
      "epoch: 5, [batch: 1 / 525], examples_per_second: 142.9377, train_label_loss: 0.4006, \n"
     ]
    },
    {
     "name": "stdout",
     "output_type": "stream",
     "text": [
      "epoch: 5, [batch: 53 / 525], examples_per_second: 11556.8333, train_label_loss: 0.2708, \n"
     ]
    },
    {
     "name": "stdout",
     "output_type": "stream",
     "text": [
      "epoch: 5, [batch: 105 / 525], examples_per_second: 11778.0348, train_label_loss: 0.3333, \n"
     ]
    },
    {
     "name": "stdout",
     "output_type": "stream",
     "text": [
      "epoch: 5, [batch: 158 / 525], examples_per_second: 11667.7328, train_label_loss: 0.3438, \n"
     ]
    },
    {
     "name": "stdout",
     "output_type": "stream",
     "text": [
      "epoch: 5, [batch: 210 / 525], examples_per_second: 11769.5637, train_label_loss: 0.2260, \n"
     ]
    },
    {
     "name": "stdout",
     "output_type": "stream",
     "text": [
      "epoch: 5, [batch: 263 / 525], examples_per_second: 11710.4362, train_label_loss: 0.2662, \n"
     ]
    },
    {
     "name": "stdout",
     "output_type": "stream",
     "text": [
      "epoch: 5, [batch: 315 / 525], examples_per_second: 11689.6333, train_label_loss: 0.4239, \n"
     ]
    },
    {
     "name": "stdout",
     "output_type": "stream",
     "text": [
      "epoch: 5, [batch: 367 / 525], examples_per_second: 11771.2609, train_label_loss: 0.1890, \n"
     ]
    },
    {
     "name": "stdout",
     "output_type": "stream",
     "text": [
      "epoch: 5, [batch: 420 / 525], examples_per_second: 11662.8022, train_label_loss: 0.2848, \n"
     ]
    },
    {
     "name": "stdout",
     "output_type": "stream",
     "text": [
      "epoch: 5, [batch: 472 / 525], examples_per_second: 11763.4836, train_label_loss: 0.3028, \n"
     ]
    },
    {
     "name": "stdout",
     "output_type": "stream",
     "text": [
      "=============================================================\n",
      "epoch: 5, source_val_acc_label: 0.9316, source_val_label_loss: 0.2495, target_val_acc_label: 0.0713, target_val_label_loss: 23.2951, \n",
      "=============================================================\n"
     ]
    },
    {
     "name": "stdout",
     "output_type": "stream",
     "text": [
      "New best\n",
      "epoch: 6, [batch: 1 / 525], examples_per_second: 139.3453, train_label_loss: 0.2045, \n"
     ]
    },
    {
     "name": "stdout",
     "output_type": "stream",
     "text": [
      "epoch: 6, [batch: 53 / 525], examples_per_second: 11656.2782, train_label_loss: 0.1904, \n"
     ]
    },
    {
     "name": "stdout",
     "output_type": "stream",
     "text": [
      "epoch: 6, [batch: 105 / 525], examples_per_second: 11711.0870, train_label_loss: 0.2700, \n"
     ]
    },
    {
     "name": "stdout",
     "output_type": "stream",
     "text": [
      "epoch: 6, [batch: 158 / 525], examples_per_second: 11750.7157, train_label_loss: 0.2504, \n"
     ]
    },
    {
     "name": "stdout",
     "output_type": "stream",
     "text": [
      "epoch: 6, [batch: 210 / 525], examples_per_second: 11873.0125, train_label_loss: 0.2620, \n"
     ]
    },
    {
     "name": "stdout",
     "output_type": "stream",
     "text": [
      "epoch: 6, [batch: 263 / 525], examples_per_second: 12673.3911, train_label_loss: 0.1871, \n"
     ]
    },
    {
     "name": "stdout",
     "output_type": "stream",
     "text": [
      "epoch: 6, [batch: 315 / 525], examples_per_second: 11831.2090, train_label_loss: 0.2184, \n"
     ]
    },
    {
     "name": "stdout",
     "output_type": "stream",
     "text": [
      "epoch: 6, [batch: 367 / 525], examples_per_second: 11784.0305, train_label_loss: 0.1644, \n"
     ]
    },
    {
     "name": "stdout",
     "output_type": "stream",
     "text": [
      "epoch: 6, [batch: 420 / 525], examples_per_second: 11855.8005, train_label_loss: 0.1622, \n"
     ]
    },
    {
     "name": "stdout",
     "output_type": "stream",
     "text": [
      "epoch: 6, [batch: 472 / 525], examples_per_second: 11780.5845, train_label_loss: 0.2183, \n"
     ]
    },
    {
     "name": "stdout",
     "output_type": "stream",
     "text": [
      "=============================================================\n",
      "epoch: 6, source_val_acc_label: 0.8844, source_val_label_loss: 0.3037, target_val_acc_label: 0.0740, target_val_label_loss: 20.3650, \n",
      "=============================================================\n"
     ]
    },
    {
     "name": "stdout",
     "output_type": "stream",
     "text": [
      "New best\n",
      "epoch: 7, [batch: 1 / 525], examples_per_second: 137.0238, train_label_loss: 0.2454, \n"
     ]
    },
    {
     "name": "stdout",
     "output_type": "stream",
     "text": [
      "epoch: 7, [batch: 53 / 525], examples_per_second: 11882.8419, train_label_loss: 0.1437, \n"
     ]
    },
    {
     "name": "stdout",
     "output_type": "stream",
     "text": [
      "epoch: 7, [batch: 105 / 525], examples_per_second: 11728.7453, train_label_loss: 0.1938, \n"
     ]
    },
    {
     "name": "stdout",
     "output_type": "stream",
     "text": [
      "epoch: 7, [batch: 158 / 525], examples_per_second: 11626.4703, train_label_loss: 0.1552, \n"
     ]
    },
    {
     "name": "stdout",
     "output_type": "stream",
     "text": [
      "epoch: 7, [batch: 210 / 525], examples_per_second: 11584.5135, train_label_loss: 0.1618, \n"
     ]
    },
    {
     "name": "stdout",
     "output_type": "stream",
     "text": [
      "epoch: 7, [batch: 263 / 525], examples_per_second: 11768.4158, train_label_loss: 0.1486, \n"
     ]
    },
    {
     "name": "stdout",
     "output_type": "stream",
     "text": [
      "epoch: 7, [batch: 315 / 525], examples_per_second: 11722.5448, train_label_loss: 0.1608, \n"
     ]
    },
    {
     "name": "stdout",
     "output_type": "stream",
     "text": [
      "epoch: 7, [batch: 367 / 525], examples_per_second: 11769.2809, train_label_loss: 0.1823, \n"
     ]
    },
    {
     "name": "stdout",
     "output_type": "stream",
     "text": [
      "epoch: 7, [batch: 420 / 525], examples_per_second: 11791.4297, train_label_loss: 0.1778, \n"
     ]
    },
    {
     "name": "stdout",
     "output_type": "stream",
     "text": [
      "epoch: 7, [batch: 472 / 525], examples_per_second: 11763.0821, train_label_loss: 0.1106, \n"
     ]
    },
    {
     "name": "stdout",
     "output_type": "stream",
     "text": [
      "=============================================================\n",
      "epoch: 7, source_val_acc_label: 0.9645, source_val_label_loss: 0.1636, target_val_acc_label: 0.0801, target_val_label_loss: 24.3234, \n",
      "=============================================================\n"
     ]
    },
    {
     "name": "stdout",
     "output_type": "stream",
     "text": [
      "New best\n",
      "epoch: 8, [batch: 1 / 525], examples_per_second: 139.1225, train_label_loss: 0.1526, \n"
     ]
    },
    {
     "name": "stdout",
     "output_type": "stream",
     "text": [
      "epoch: 8, [batch: 53 / 525], examples_per_second: 11715.2889, train_label_loss: 0.1748, \n"
     ]
    },
    {
     "name": "stdout",
     "output_type": "stream",
     "text": [
      "epoch: 8, [batch: 105 / 525], examples_per_second: 11811.3718, train_label_loss: 0.1836, \n"
     ]
    },
    {
     "name": "stdout",
     "output_type": "stream",
     "text": [
      "epoch: 8, [batch: 158 / 525], examples_per_second: 11699.7082, train_label_loss: 0.1568, \n"
     ]
    },
    {
     "name": "stdout",
     "output_type": "stream",
     "text": [
      "epoch: 8, [batch: 210 / 525], examples_per_second: 11778.9044, train_label_loss: 0.1886, \n"
     ]
    },
    {
     "name": "stdout",
     "output_type": "stream",
     "text": [
      "epoch: 8, [batch: 263 / 525], examples_per_second: 11804.2116, train_label_loss: 0.1808, \n"
     ]
    },
    {
     "name": "stdout",
     "output_type": "stream",
     "text": [
      "epoch: 8, [batch: 315 / 525], examples_per_second: 12116.2945, train_label_loss: 0.1945, \n"
     ]
    },
    {
     "name": "stdout",
     "output_type": "stream",
     "text": [
      "epoch: 8, [batch: 367 / 525], examples_per_second: 11835.8186, train_label_loss: 0.1687, \n"
     ]
    },
    {
     "name": "stdout",
     "output_type": "stream",
     "text": [
      "epoch: 8, [batch: 420 / 525], examples_per_second: 11621.4368, train_label_loss: 0.1243, \n"
     ]
    },
    {
     "name": "stdout",
     "output_type": "stream",
     "text": [
      "epoch: 8, [batch: 472 / 525], examples_per_second: 11692.9529, train_label_loss: 0.1770, \n"
     ]
    },
    {
     "name": "stdout",
     "output_type": "stream",
     "text": [
      "=============================================================\n",
      "epoch: 8, source_val_acc_label: 0.9556, source_val_label_loss: 0.1500, target_val_acc_label: 0.0719, target_val_label_loss: 44.7543, \n",
      "=============================================================\n"
     ]
    },
    {
     "name": "stdout",
     "output_type": "stream",
     "text": [
      "epoch: 9, [batch: 1 / 525], examples_per_second: 137.9833, train_label_loss: 0.1364, \n"
     ]
    },
    {
     "name": "stdout",
     "output_type": "stream",
     "text": [
      "epoch: 9, [batch: 53 / 525], examples_per_second: 11695.2600, train_label_loss: 0.1260, \n"
     ]
    },
    {
     "name": "stdout",
     "output_type": "stream",
     "text": [
      "epoch: 9, [batch: 105 / 525], examples_per_second: 11774.2496, train_label_loss: 0.1308, \n"
     ]
    },
    {
     "name": "stdout",
     "output_type": "stream",
     "text": [
      "epoch: 9, [batch: 158 / 525], examples_per_second: 11828.9589, train_label_loss: 0.1730, \n"
     ]
    },
    {
     "name": "stdout",
     "output_type": "stream",
     "text": [
      "epoch: 9, [batch: 210 / 525], examples_per_second: 11779.8339, train_label_loss: 0.1580, \n"
     ]
    },
    {
     "name": "stdout",
     "output_type": "stream",
     "text": [
      "epoch: 9, [batch: 263 / 525], examples_per_second: 11845.5739, train_label_loss: 0.1403, \n"
     ]
    },
    {
     "name": "stdout",
     "output_type": "stream",
     "text": [
      "epoch: 9, [batch: 315 / 525], examples_per_second: 11773.6041, train_label_loss: 0.1460, \n"
     ]
    },
    {
     "name": "stdout",
     "output_type": "stream",
     "text": [
      "epoch: 9, [batch: 367 / 525], examples_per_second: 12248.8618, train_label_loss: 0.2044, \n"
     ]
    },
    {
     "name": "stdout",
     "output_type": "stream",
     "text": [
      "epoch: 9, [batch: 420 / 525], examples_per_second: 12585.1623, train_label_loss: 0.1346, \n"
     ]
    },
    {
     "name": "stdout",
     "output_type": "stream",
     "text": [
      "epoch: 9, [batch: 472 / 525], examples_per_second: 12775.6387, train_label_loss: 0.0890, \n"
     ]
    },
    {
     "name": "stdout",
     "output_type": "stream",
     "text": [
      "=============================================================\n",
      "epoch: 9, source_val_acc_label: 0.9642, source_val_label_loss: 0.1397, target_val_acc_label: 0.0779, target_val_label_loss: 63.1351, \n",
      "=============================================================\n"
     ]
    },
    {
     "name": "stdout",
     "output_type": "stream",
     "text": [
      "epoch: 10, [batch: 1 / 525], examples_per_second: 136.8284, train_label_loss: 0.1859, \n"
     ]
    },
    {
     "name": "stdout",
     "output_type": "stream",
     "text": [
      "epoch: 10, [batch: 53 / 525], examples_per_second: 10659.6398, train_label_loss: 0.1595, \n"
     ]
    },
    {
     "name": "stdout",
     "output_type": "stream",
     "text": [
      "epoch: 10, [batch: 105 / 525], examples_per_second: 10895.0997, train_label_loss: 0.1529, \n"
     ]
    },
    {
     "name": "stdout",
     "output_type": "stream",
     "text": [
      "epoch: 10, [batch: 158 / 525], examples_per_second: 10787.8197, train_label_loss: 0.1504, \n"
     ]
    },
    {
     "name": "stdout",
     "output_type": "stream",
     "text": [
      "epoch: 10, [batch: 210 / 525], examples_per_second: 10757.6716, train_label_loss: 0.1328, \n"
     ]
    },
    {
     "name": "stdout",
     "output_type": "stream",
     "text": [
      "epoch: 10, [batch: 263 / 525], examples_per_second: 10811.5323, train_label_loss: 0.1356, \n"
     ]
    },
    {
     "name": "stdout",
     "output_type": "stream",
     "text": [
      "epoch: 10, [batch: 315 / 525], examples_per_second: 10734.8378, train_label_loss: 0.1113, \n"
     ]
    },
    {
     "name": "stdout",
     "output_type": "stream",
     "text": [
      "epoch: 10, [batch: 367 / 525], examples_per_second: 10703.8657, train_label_loss: 0.1312, \n"
     ]
    },
    {
     "name": "stdout",
     "output_type": "stream",
     "text": [
      "epoch: 10, [batch: 420 / 525], examples_per_second: 10621.8406, train_label_loss: 0.1369, \n"
     ]
    },
    {
     "name": "stdout",
     "output_type": "stream",
     "text": [
      "epoch: 10, [batch: 472 / 525], examples_per_second: 10946.2560, train_label_loss: 0.3080, \n"
     ]
    },
    {
     "name": "stdout",
     "output_type": "stream",
     "text": [
      "=============================================================\n",
      "epoch: 10, source_val_acc_label: 0.9280, source_val_label_loss: 0.1970, target_val_acc_label: 0.0729, target_val_label_loss: 96.8281, \n",
      "=============================================================\n"
     ]
    },
    {
     "name": "stdout",
     "output_type": "stream",
     "text": [
      "epoch: 11, [batch: 1 / 525], examples_per_second: 123.8337, train_label_loss: 0.1453, \n"
     ]
    },
    {
     "name": "stdout",
     "output_type": "stream",
     "text": [
      "epoch: 11, [batch: 53 / 525], examples_per_second: 10436.6344, train_label_loss: 0.2311, \n"
     ]
    },
    {
     "name": "stdout",
     "output_type": "stream",
     "text": [
      "epoch: 11, [batch: 105 / 525], examples_per_second: 10749.1141, train_label_loss: 0.1537, \n"
     ]
    },
    {
     "name": "stdout",
     "output_type": "stream",
     "text": [
      "epoch: 11, [batch: 158 / 525], examples_per_second: 10809.1297, train_label_loss: 0.1289, \n"
     ]
    },
    {
     "name": "stdout",
     "output_type": "stream",
     "text": [
      "epoch: 11, [batch: 210 / 525], examples_per_second: 10758.2271, train_label_loss: 0.1589, \n"
     ]
    },
    {
     "name": "stdout",
     "output_type": "stream",
     "text": [
      "epoch: 11, [batch: 263 / 525], examples_per_second: 10696.9877, train_label_loss: 0.1815, \n"
     ]
    },
    {
     "name": "stdout",
     "output_type": "stream",
     "text": [
      "epoch: 11, [batch: 315 / 525], examples_per_second: 10786.2968, train_label_loss: 0.1315, \n"
     ]
    },
    {
     "name": "stdout",
     "output_type": "stream",
     "text": [
      "epoch: 11, [batch: 367 / 525], examples_per_second: 10771.1153, train_label_loss: 0.0799, \n"
     ]
    },
    {
     "name": "stdout",
     "output_type": "stream",
     "text": [
      "epoch: 11, [batch: 420 / 525], examples_per_second: 10945.9320, train_label_loss: 0.1684, \n"
     ]
    },
    {
     "name": "stdout",
     "output_type": "stream",
     "text": [
      "epoch: 11, [batch: 472 / 525], examples_per_second: 10795.1975, train_label_loss: 0.0990, \n"
     ]
    },
    {
     "name": "stdout",
     "output_type": "stream",
     "text": [
      "=============================================================\n",
      "epoch: 11, source_val_acc_label: 0.9652, source_val_label_loss: 0.1410, target_val_acc_label: 0.0892, target_val_label_loss: 86.1576, \n",
      "=============================================================\n"
     ]
    },
    {
     "name": "stdout",
     "output_type": "stream",
     "text": [
      "New best\n",
      "epoch: 12, [batch: 1 / 525], examples_per_second: 126.6548, train_label_loss: 0.1038, \n"
     ]
    },
    {
     "name": "stdout",
     "output_type": "stream",
     "text": [
      "epoch: 12, [batch: 53 / 525], examples_per_second: 10738.1864, train_label_loss: 0.1320, \n"
     ]
    },
    {
     "name": "stdout",
     "output_type": "stream",
     "text": [
      "epoch: 12, [batch: 105 / 525], examples_per_second: 10776.9115, train_label_loss: 0.1771, \n"
     ]
    },
    {
     "name": "stdout",
     "output_type": "stream",
     "text": [
      "epoch: 12, [batch: 158 / 525], examples_per_second: 10731.0242, train_label_loss: 0.1403, \n"
     ]
    },
    {
     "name": "stdout",
     "output_type": "stream",
     "text": [
      "epoch: 12, [batch: 210 / 525], examples_per_second: 10784.2468, train_label_loss: 0.0739, \n"
     ]
    },
    {
     "name": "stdout",
     "output_type": "stream",
     "text": [
      "epoch: 12, [batch: 263 / 525], examples_per_second: 10833.7487, train_label_loss: 0.1395, \n"
     ]
    },
    {
     "name": "stdout",
     "output_type": "stream",
     "text": [
      "epoch: 12, [batch: 315 / 525], examples_per_second: 10757.3234, train_label_loss: 0.1065, \n"
     ]
    },
    {
     "name": "stdout",
     "output_type": "stream",
     "text": [
      "epoch: 12, [batch: 367 / 525], examples_per_second: 10624.9127, train_label_loss: 0.1123, \n"
     ]
    },
    {
     "name": "stdout",
     "output_type": "stream",
     "text": [
      "epoch: 12, [batch: 420 / 525], examples_per_second: 10772.9038, train_label_loss: 0.1207, \n"
     ]
    },
    {
     "name": "stdout",
     "output_type": "stream",
     "text": [
      "epoch: 12, [batch: 472 / 525], examples_per_second: 10763.6069, train_label_loss: 0.0887, \n"
     ]
    },
    {
     "name": "stdout",
     "output_type": "stream",
     "text": [
      "=============================================================\n",
      "epoch: 12, source_val_acc_label: 0.9643, source_val_label_loss: 0.1405, target_val_acc_label: 0.0797, target_val_label_loss: 90.2361, \n",
      "=============================================================\n"
     ]
    },
    {
     "name": "stdout",
     "output_type": "stream",
     "text": [
      "epoch: 13, [batch: 1 / 525], examples_per_second: 125.2798, train_label_loss: 0.1038, \n"
     ]
    },
    {
     "name": "stdout",
     "output_type": "stream",
     "text": [
      "epoch: 13, [batch: 53 / 525], examples_per_second: 10739.8306, train_label_loss: 0.0667, \n"
     ]
    },
    {
     "name": "stdout",
     "output_type": "stream",
     "text": [
      "epoch: 13, [batch: 105 / 525], examples_per_second: 10737.1705, train_label_loss: 0.1410, \n"
     ]
    },
    {
     "name": "stdout",
     "output_type": "stream",
     "text": [
      "epoch: 13, [batch: 158 / 525], examples_per_second: 10669.8639, train_label_loss: 0.1169, \n"
     ]
    },
    {
     "name": "stdout",
     "output_type": "stream",
     "text": [
      "epoch: 13, [batch: 210 / 525], examples_per_second: 11415.7930, train_label_loss: 0.1055, \n"
     ]
    },
    {
     "name": "stdout",
     "output_type": "stream",
     "text": [
      "epoch: 13, [batch: 263 / 525], examples_per_second: 11888.9407, train_label_loss: 0.0932, \n"
     ]
    },
    {
     "name": "stdout",
     "output_type": "stream",
     "text": [
      "epoch: 13, [batch: 315 / 525], examples_per_second: 11806.5564, train_label_loss: 0.1062, \n"
     ]
    },
    {
     "name": "stdout",
     "output_type": "stream",
     "text": [
      "epoch: 13, [batch: 367 / 525], examples_per_second: 11770.6008, train_label_loss: 0.0858, \n"
     ]
    },
    {
     "name": "stdout",
     "output_type": "stream",
     "text": [
      "epoch: 13, [batch: 420 / 525], examples_per_second: 11865.6539, train_label_loss: 0.1082, \n"
     ]
    },
    {
     "name": "stdout",
     "output_type": "stream",
     "text": [
      "epoch: 13, [batch: 472 / 525], examples_per_second: 11845.0689, train_label_loss: 0.1126, \n"
     ]
    },
    {
     "name": "stdout",
     "output_type": "stream",
     "text": [
      "=============================================================\n",
      "epoch: 13, source_val_acc_label: 0.9662, source_val_label_loss: 0.1455, target_val_acc_label: 0.0744, target_val_label_loss: 79.6969, \n",
      "=============================================================\n"
     ]
    },
    {
     "name": "stdout",
     "output_type": "stream",
     "text": [
      "epoch: 14, [batch: 1 / 525], examples_per_second: 140.2839, train_label_loss: 0.0991, \n"
     ]
    },
    {
     "name": "stdout",
     "output_type": "stream",
     "text": [
      "epoch: 14, [batch: 53 / 525], examples_per_second: 11249.7854, train_label_loss: 0.0628, \n"
     ]
    },
    {
     "name": "stdout",
     "output_type": "stream",
     "text": [
      "epoch: 14, [batch: 105 / 525], examples_per_second: 11559.9630, train_label_loss: 0.1062, \n"
     ]
    },
    {
     "name": "stdout",
     "output_type": "stream",
     "text": [
      "epoch: 14, [batch: 158 / 525], examples_per_second: 11804.3928, train_label_loss: 0.0845, \n"
     ]
    },
    {
     "name": "stdout",
     "output_type": "stream",
     "text": [
      "epoch: 14, [batch: 210 / 525], examples_per_second: 11812.8611, train_label_loss: 0.1457, \n"
     ]
    },
    {
     "name": "stdout",
     "output_type": "stream",
     "text": [
      "epoch: 14, [batch: 263 / 525], examples_per_second: 11824.9131, train_label_loss: 0.0560, \n"
     ]
    },
    {
     "name": "stdout",
     "output_type": "stream",
     "text": [
      "epoch: 14, [batch: 315 / 525], examples_per_second: 11702.6285, train_label_loss: 0.0934, \n"
     ]
    },
    {
     "name": "stdout",
     "output_type": "stream",
     "text": [
      "epoch: 14, [batch: 367 / 525], examples_per_second: 11748.3700, train_label_loss: 0.1902, \n"
     ]
    },
    {
     "name": "stdout",
     "output_type": "stream",
     "text": [
      "epoch: 14, [batch: 420 / 525], examples_per_second: 11570.7761, train_label_loss: 0.1006, \n"
     ]
    },
    {
     "name": "stdout",
     "output_type": "stream",
     "text": [
      "epoch: 14, [batch: 472 / 525], examples_per_second: 11938.9802, train_label_loss: 0.0734, \n"
     ]
    },
    {
     "name": "stdout",
     "output_type": "stream",
     "text": [
      "=============================================================\n",
      "epoch: 14, source_val_acc_label: 0.9690, source_val_label_loss: 0.1096, target_val_acc_label: 0.0875, target_val_label_loss: 103.4298, \n",
      "=============================================================\n"
     ]
    },
    {
     "name": "stdout",
     "output_type": "stream",
     "text": [
      "epoch: 15, [batch: 1 / 525], examples_per_second: 142.9379, train_label_loss: 0.0789, \n"
     ]
    },
    {
     "name": "stdout",
     "output_type": "stream",
     "text": [
      "epoch: 15, [batch: 53 / 525], examples_per_second: 11653.1399, train_label_loss: 0.0724, \n"
     ]
    },
    {
     "name": "stdout",
     "output_type": "stream",
     "text": [
      "epoch: 15, [batch: 105 / 525], examples_per_second: 11735.2533, train_label_loss: 0.0817, \n"
     ]
    },
    {
     "name": "stdout",
     "output_type": "stream",
     "text": [
      "epoch: 15, [batch: 158 / 525], examples_per_second: 11894.6411, train_label_loss: 0.0748, \n"
     ]
    },
    {
     "name": "stdout",
     "output_type": "stream",
     "text": [
      "epoch: 15, [batch: 210 / 525], examples_per_second: 12726.0089, train_label_loss: 0.1077, \n"
     ]
    },
    {
     "name": "stdout",
     "output_type": "stream",
     "text": [
      "epoch: 15, [batch: 263 / 525], examples_per_second: 11810.4243, train_label_loss: 0.1287, \n"
     ]
    },
    {
     "name": "stdout",
     "output_type": "stream",
     "text": [
      "epoch: 15, [batch: 315 / 525], examples_per_second: 11939.8278, train_label_loss: 0.0565, \n"
     ]
    },
    {
     "name": "stdout",
     "output_type": "stream",
     "text": [
      "epoch: 15, [batch: 367 / 525], examples_per_second: 11807.3304, train_label_loss: 0.0486, \n"
     ]
    },
    {
     "name": "stdout",
     "output_type": "stream",
     "text": [
      "epoch: 15, [batch: 420 / 525], examples_per_second: 11782.2309, train_label_loss: 0.1406, \n"
     ]
    },
    {
     "name": "stdout",
     "output_type": "stream",
     "text": [
      "epoch: 15, [batch: 472 / 525], examples_per_second: 11785.7319, train_label_loss: 0.0793, \n"
     ]
    },
    {
     "name": "stdout",
     "output_type": "stream",
     "text": [
      "=============================================================\n",
      "epoch: 15, source_val_acc_label: 0.9585, source_val_label_loss: 0.1211, target_val_acc_label: 0.0853, target_val_label_loss: 112.3045, \n",
      "=============================================================\n"
     ]
    },
    {
     "name": "stdout",
     "output_type": "stream",
     "text": [
      "Patience (3) exhausted\n"
     ]
    }
   ],
   "source": [
    "jig = Vanilla_Train_Eval_Test_Jig(\n",
    "    model=model,\n",
    "    path_to_best_model=p.BEST_MODEL_PATH,\n",
    "    device=p.device,\n",
    "    label_loss_object=torch.nn.NLLLoss(),\n",
    ")\n",
    "\n",
    "jig.train(\n",
    "    train_iterable=datasets.source.processed.train,\n",
    "    source_val_iterable=datasets.source.processed.val,\n",
    "    target_val_iterable=datasets.target.processed.val,\n",
    "    patience=p.patience,\n",
    "    num_epochs=p.n_epoch,\n",
    "    num_logs_per_epoch=p.NUM_LOGS_PER_EPOCH,\n",
    "    criteria_for_best=p.criteria_for_best\n",
    ")"
   ]
  },
  {
   "cell_type": "code",
   "execution_count": 14,
   "id": "4bc2ac17",
   "metadata": {
    "execution": {
     "iopub.execute_input": "2022-03-25T23:36:18.479057Z",
     "iopub.status.busy": "2022-03-25T23:36:18.478505Z",
     "iopub.status.idle": "2022-03-25T23:36:18.480679Z",
     "shell.execute_reply": "2022-03-25T23:36:18.481133Z"
    },
    "papermill": {
     "duration": 0.067103,
     "end_time": "2022-03-25T23:36:18.481262",
     "exception": false,
     "start_time": "2022-03-25T23:36:18.414159",
     "status": "completed"
    },
    "tags": []
   },
   "outputs": [],
   "source": [
    "total_experiment_time_secs = time.time() - start_time_secs"
   ]
  },
  {
   "cell_type": "code",
   "execution_count": 15,
   "id": "cae88f23",
   "metadata": {
    "execution": {
     "iopub.execute_input": "2022-03-25T23:36:18.611614Z",
     "iopub.status.busy": "2022-03-25T23:36:18.610930Z",
     "iopub.status.idle": "2022-03-25T23:36:29.642594Z",
     "shell.execute_reply": "2022-03-25T23:36:29.643278Z"
    },
    "papermill": {
     "duration": 11.100093,
     "end_time": "2022-03-25T23:36:29.643555",
     "exception": false,
     "start_time": "2022-03-25T23:36:18.543462",
     "status": "completed"
    },
    "tags": []
   },
   "outputs": [],
   "source": [
    "source_test_label_accuracy, source_test_label_loss = jig.test(datasets.source.processed.test)\n",
    "target_test_label_accuracy, target_test_label_loss = jig.test(datasets.target.processed.test)\n",
    "\n",
    "source_val_label_accuracy, source_val_label_loss = jig.test(datasets.source.processed.val)\n",
    "target_val_label_accuracy, target_val_label_loss = jig.test(datasets.target.processed.val)\n",
    "\n",
    "history = jig.get_history()\n",
    "\n",
    "total_epochs_trained = len(history[\"epoch_indices\"])\n",
    "\n",
    "val_dl = wrap_in_dataloader(p, Sequence_Aggregator((datasets.source.original.val, datasets.target.original.val)))\n",
    "\n",
    "confusion = confusion_by_domain_over_dataloader(model, p.device, val_dl, forward_uses_domain=False)\n",
    "per_domain_accuracy = per_domain_accuracy_from_confusion(confusion)\n",
    "\n",
    "# Add a key to per_domain_accuracy for if it was a source domain\n",
    "for domain, accuracy in per_domain_accuracy.items():\n",
    "    per_domain_accuracy[domain] = {\n",
    "        \"accuracy\": accuracy,\n",
    "        \"source?\": domain in p.domains_source\n",
    "    }\n",
    "\n",
    "# Do an independent accuracy assesment JUST TO BE SURE!\n",
    "# _source_test_label_accuracy = independent_accuracy_assesment(model, datasets.source.processed.test, p.device)\n",
    "# _target_test_label_accuracy = independent_accuracy_assesment(model, datasets.target.processed.test, p.device)\n",
    "# _source_val_label_accuracy = independent_accuracy_assesment(model, datasets.source.processed.val, p.device)\n",
    "# _target_val_label_accuracy = independent_accuracy_assesment(model, datasets.target.processed.val, p.device)\n",
    "\n",
    "# assert(_source_test_label_accuracy == source_test_label_accuracy)\n",
    "# assert(_target_test_label_accuracy == target_test_label_accuracy)\n",
    "# assert(_source_val_label_accuracy == source_val_label_accuracy)\n",
    "# assert(_target_val_label_accuracy == target_val_label_accuracy)\n",
    "\n",
    "###################################\n",
    "# Write out the results\n",
    "###################################\n",
    "\n",
    "experiment = {\n",
    "    \"experiment_name\": p.experiment_name,\n",
    "    \"parameters\": p,\n",
    "    \"results\": {\n",
    "        \"source_test_label_accuracy\": source_test_label_accuracy,\n",
    "        \"source_test_label_loss\": source_test_label_loss,\n",
    "        \"target_test_label_accuracy\": target_test_label_accuracy,\n",
    "        \"target_test_label_loss\": target_test_label_loss,\n",
    "        \"source_val_label_accuracy\": source_val_label_accuracy,\n",
    "        \"source_val_label_loss\": source_val_label_loss,\n",
    "        \"target_val_label_accuracy\": target_val_label_accuracy,\n",
    "        \"target_val_label_loss\": target_val_label_loss,\n",
    "        \"total_epochs_trained\": total_epochs_trained,\n",
    "        \"total_experiment_time_secs\": total_experiment_time_secs,\n",
    "        \"confusion\": confusion,\n",
    "        \"per_domain_accuracy\": per_domain_accuracy,\n",
    "    },\n",
    "    \"history\": history,\n",
    "    \"dataset_metrics\": get_dataset_metrics(datasets, \"cnn\"),\n",
    "}"
   ]
  },
  {
   "cell_type": "code",
   "execution_count": 16,
   "id": "74c318cf",
   "metadata": {
    "execution": {
     "iopub.execute_input": "2022-03-25T23:36:29.790473Z",
     "iopub.status.busy": "2022-03-25T23:36:29.789217Z",
     "iopub.status.idle": "2022-03-25T23:36:29.989843Z",
     "shell.execute_reply": "2022-03-25T23:36:29.990169Z"
    },
    "papermill": {
     "duration": 0.279476,
     "end_time": "2022-03-25T23:36:29.990320",
     "exception": false,
     "start_time": "2022-03-25T23:36:29.710844",
     "status": "completed"
    },
    "tags": []
   },
   "outputs": [
    {
     "data": {
      "text/plain": [
       "<AxesSubplot:title={'center':'Source Train Label Loss vs Source Val Label Loss'}, xlabel='Epoch'>"
      ]
     },
     "execution_count": 16,
     "metadata": {},
     "output_type": "execute_result"
    },
    {
     "data": {
      "image/png": "[encoded data removed]",
      "text/plain": [
       "<Figure size 1080x504 with 1 Axes>"
      ]
     },
     "metadata": {
      "needs_background": "light"
     },
     "output_type": "display_data"
    }
   ],
   "source": [
    "get_loss_curve(experiment)"
   ]
  },
  {
   "cell_type": "code",
   "execution_count": 17,
   "id": "59376601",
   "metadata": {
    "execution": {
     "iopub.execute_input": "2022-03-25T23:36:30.114825Z",
     "iopub.status.busy": "2022-03-25T23:36:30.114285Z",
     "iopub.status.idle": "2022-03-25T23:36:30.433154Z",
     "shell.execute_reply": "2022-03-25T23:36:30.433698Z"
    },
    "papermill": {
     "duration": 0.384317,
     "end_time": "2022-03-25T23:36:30.433905",
     "exception": false,
     "start_time": "2022-03-25T23:36:30.049588",
     "status": "completed"
    },
    "tags": []
   },
   "outputs": [
    {
     "data": {
      "text/plain": [
       "<AxesSubplot:title={'center':'Results'}>"
      ]
     },
     "execution_count": 17,
     "metadata": {},
     "output_type": "execute_result"
    },
    {
     "data": {
      "image/png": "[encoded data removed]",
      "text/plain": [
       "<Figure size 1080x504 with 1 Axes>"
      ]
     },
     "metadata": {
      "needs_background": "light"
     },
     "output_type": "display_data"
    }
   ],
   "source": [
    "get_results_table(experiment)"
   ]
  },
  {
   "cell_type": "code",
   "execution_count": 18,
   "id": "e80c5c98",
   "metadata": {
    "execution": {
     "iopub.execute_input": "2022-03-25T23:36:30.576715Z",
     "iopub.status.busy": "2022-03-25T23:36:30.575431Z",
     "iopub.status.idle": "2022-03-25T23:36:30.744696Z",
     "shell.execute_reply": "2022-03-25T23:36:30.744106Z"
    },
    "papermill": {
     "duration": 0.245153,
     "end_time": "2022-03-25T23:36:30.744851",
     "exception": false,
     "start_time": "2022-03-25T23:36:30.499698",
     "status": "completed"
    },
    "tags": []
   },
   "outputs": [
    {
     "data": {
      "text/plain": [
       "<AxesSubplot:title={'center':'Per Domain Accuracy'}, xlabel='domain'>"
      ]
     },
     "execution_count": 18,
     "metadata": {},
     "output_type": "execute_result"
    },
    {
     "data": {
      "image/png": "[encoded data removed]",
      "text/plain": [
       "<Figure size 1080x504 with 1 Axes>"
      ]
     },
     "metadata": {
      "needs_background": "light"
     },
     "output_type": "display_data"
    }
   ],
   "source": [
    "get_domain_accuracies(experiment)"
   ]
  },
  {
   "cell_type": "code",
   "execution_count": 19,
   "id": "086fdd10",
   "metadata": {
    "execution": {
     "iopub.execute_input": "2022-03-25T23:36:30.871603Z",
     "iopub.status.busy": "2022-03-25T23:36:30.871134Z",
     "iopub.status.idle": "2022-03-25T23:36:30.874653Z",
     "shell.execute_reply": "2022-03-25T23:36:30.875119Z"
    },
    "papermill": {
     "duration": 0.067017,
     "end_time": "2022-03-25T23:36:30.875247",
     "exception": false,
     "start_time": "2022-03-25T23:36:30.808230",
     "status": "completed"
    },
    "tags": []
   },
   "outputs": [
    {
     "name": "stdout",
     "output_type": "stream",
     "text": [
      "Source Test Label Accuracy: 0.9626388888888889 Target Test Label Accuracy: 0.08925\n",
      "Source Val Label Accuracy: 0.9652083333333333 Target Val Label Accuracy: 0.08920833333333333\n"
     ]
    }
   ],
   "source": [
    "print(\"Source Test Label Accuracy:\", experiment[\"results\"][\"source_test_label_accuracy\"], \"Target Test Label Accuracy:\", experiment[\"results\"][\"target_test_label_accuracy\"])\n",
    "print(\"Source Val Label Accuracy:\", experiment[\"results\"][\"source_val_label_accuracy\"], \"Target Val Label Accuracy:\", experiment[\"results\"][\"target_val_label_accuracy\"])"
   ]
  },
  {
   "cell_type": "code",
   "execution_count": 20,
   "id": "9f450536",
   "metadata": {
    "execution": {
     "iopub.execute_input": "2022-03-25T23:36:31.003040Z",
     "iopub.status.busy": "2022-03-25T23:36:31.002549Z",
     "iopub.status.idle": "2022-03-25T23:36:31.005757Z",
     "shell.execute_reply": "2022-03-25T23:36:31.005198Z"
    },
    "papermill": {
     "duration": 0.066426,
     "end_time": "2022-03-25T23:36:31.005864",
     "exception": false,
     "start_time": "2022-03-25T23:36:30.939438",
     "status": "completed"
    },
    "tags": [
     "experiment_json"
    ]
   },
   "outputs": [
    {
     "data": {
      "text/plain": [
       "'{\"experiment_name\": \"cnn_1:oracle.run2.framed\", \"parameters\": {\"experiment_name\": \"cnn_1:oracle.run2.framed\", \"labels\": [\"3123D52\", \"3123D65\", \"3123D79\", \"3123D80\", \"3123D54\", \"3123D70\", \"3123D7B\", \"3123D89\", \"3123D58\", \"3123D76\", \"3123D7D\", \"3123EFE\", \"3123D64\", \"3123D78\", \"3123D7E\", \"3124E4A\"], \"domains_source\": [8, 32, 50], \"domains_target\": [14, 20, 26, 38, 44], \"pickle_name_source\": \"oracle.Run2_framed_2000Examples_stratified_ds.2022A.pkl\", \"pickle_name_target\": \"oracle.Run2_framed_2000Examples_stratified_ds.2022A.pkl\", \"device\": \"cuda\", \"lr\": 0.0001, \"batch_size\": 128, \"normalize_source\": false, \"normalize_target\": false, \"num_examples_per_domain_per_label_source\": -1, \"num_examples_per_domain_per_label_target\": -1, \"torch_default_dtype\": \"torch.float32\", \"n_epoch\": 50, \"patience\": 3, \"criteria_for_best\": \"target_accuracy\", \"x_net\": [{\"class\": \"nnReshape\", \"kargs\": {\"shape\": [-1, 1, 2, 256]}}, {\"class\": \"Conv2d\", \"kargs\": {\"in_channels\": 1, \"out_channels\": 256, \"kernel_size\": [1, 7], \"bias\": false, \"padding\": [0, 3]}}, {\"class\": \"ReLU\", \"kargs\": {\"inplace\": true}}, {\"class\": \"BatchNorm2d\", \"kargs\": {\"num_features\": 256}}, {\"class\": \"Conv2d\", \"kargs\": {\"in_channels\": 256, \"out_channels\": 80, \"kernel_size\": [2, 7], \"bias\": true, \"padding\": [0, 3]}}, {\"class\": \"ReLU\", \"kargs\": {\"inplace\": true}}, {\"class\": \"BatchNorm2d\", \"kargs\": {\"num_features\": 80}}, {\"class\": \"Flatten\", \"kargs\": {}}, {\"class\": \"Linear\", \"kargs\": {\"in_features\": 20480, \"out_features\": 256}}, {\"class\": \"ReLU\", \"kargs\": {\"inplace\": true}}, {\"class\": \"BatchNorm1d\", \"kargs\": {\"num_features\": 256}}, {\"class\": \"Linear\", \"kargs\": {\"in_features\": 256, \"out_features\": 16}}], \"NUM_LOGS_PER_EPOCH\": 10, \"BEST_MODEL_PATH\": \"./best_model.pth\", \"dataset_seed\": 7, \"seed\": 7}, \"results\": {\"source_test_label_accuracy\": 0.9626388888888889, \"source_test_label_loss\": 0.12539921031720871, \"target_test_label_accuracy\": 0.08925, \"target_test_label_loss\": 86.12547846043364, \"source_val_label_accuracy\": 0.9652083333333333, \"source_val_label_loss\": 0.1411478339438945, \"target_val_label_accuracy\": 0.08920833333333333, \"target_val_label_loss\": 86.20039895240296, \"total_epochs_trained\": 15, \"total_experiment_time_secs\": 119.86681151390076, \"confusion\": {\"38\": {\"14\": {\"13\": 76, \"4\": 89, \"5\": 76, \"3\": 18, \"7\": 41}, \"10\": {\"9\": 298, \"4\": 2}, \"5\": {\"1\": 111, \"11\": 34, \"15\": 66, \"5\": 5, \"9\": 58, \"4\": 26}, \"1\": {\"9\": 277, \"1\": 12, \"0\": 10, \"2\": 1}, \"13\": {\"9\": 300}, \"15\": {\"1\": 99, \"11\": 8, \"9\": 193}, \"6\": {\"9\": 233, \"14\": 67}, \"7\": {\"4\": 221, \"15\": 49, \"9\": 30}, \"9\": {\"9\": 300}, \"4\": {\"4\": 255, \"7\": 33, \"9\": 9, \"15\": 3}, \"0\": {\"9\": 155, \"15\": 145}, \"11\": {\"7\": 294, \"9\": 6}, \"2\": {\"7\": 9, \"5\": 284, \"3\": 1, \"13\": 6}, \"3\": {\"9\": 300}, \"12\": {\"1\": 188, \"13\": 105, \"6\": 7}, \"8\": {\"4\": 95, \"15\": 112, \"9\": 93}}, \"50\": {\"6\": {\"6\": 300}, \"2\": {\"2\": 299, \"0\": 1}, \"3\": {\"3\": 300}, \"7\": {\"7\": 300}, \"10\": {\"10\": 294, \"0\": 6}, \"1\": {\"1\": 299, \"9\": 1}, \"5\": {\"5\": 198, \"4\": 91, \"6\": 10, \"7\": 1}, \"9\": {\"9\": 299, \"5\": 1}, \"8\": {\"8\": 299, \"13\": 1}, \"15\": {\"15\": 298, \"6\": 2}, \"0\": {\"2\": 29, \"0\": 264, \"12\": 6, \"10\": 1}, \"13\": {\"13\": 291, \"10\": 9}, \"12\": {\"12\": 297, \"9\": 3}, \"11\": {\"11\": 299, \"12\": 1}, \"4\": {\"4\": 291, \"5\": 9}, \"14\": {\"14\": 250, \"9\": 50}}, \"26\": {\"8\": {\"3\": 298, \"2\": 1, \"11\": 1}, \"10\": {\"3\": 56, \"12\": 243, \"13\": 1}, \"1\": {\"12\": 299, \"9\": 1}, \"9\": {\"3\": 243, \"11\": 56, \"2\": 1}, \"14\": {\"12\": 284, \"3\": 16}, \"7\": {\"3\": 300}, \"0\": {\"3\": 117, \"12\": 182, \"13\": 1}, \"12\": {\"12\": 299, \"6\": 1}, \"11\": {\"6\": 239, \"12\": 61}, \"13\": {\"3\": 257, \"11\": 15, \"2\": 28}, \"4\": {\"3\": 300}, \"5\": {\"2\": 96, \"11\": 81, \"12\": 65, \"9\": 56, \"3\": 2}, \"3\": {\"3\": 300}, \"2\": {\"3\": 292, \"2\": 5, \"11\": 3}, \"6\": {\"12\": 289, \"11\": 7, \"9\": 1, \"2\": 2, \"13\": 1}, \"15\": {\"3\": 238, \"13\": 12, \"2\": 2, \"11\": 43, \"9\": 3, \"12\": 2}}, \"32\": {\"10\": {\"10\": 298, \"1\": 1, \"12\": 1}, \"7\": {\"7\": 296, \"0\": 3, \"2\": 1}, \"3\": {\"3\": 298, \"13\": 2}, \"4\": {\"4\": 298, \"0\": 2}, \"8\": {\"8\": 289, \"0\": 11}, \"0\": {\"0\": 293, \"8\": 7}, \"15\": {\"15\": 299, \"1\": 1}, \"12\": {\"12\": 300}, \"9\": {\"14\": 10, \"9\": 290}, \"5\": {\"5\": 293, \"9\": 3, \"7\": 3, \"12\": 1}, \"11\": {\"11\": 267, \"4\": 9, \"0\": 16, \"7\": 5, \"13\": 3}, \"2\": {\"2\": 292, \"14\": 5, \"4\": 1, \"7\": 2}, \"1\": {\"1\": 299, \"8\": 1}, \"14\": {\"14\": 287, \"0\": 11, \"9\": 1, \"5\": 1}, \"13\": {\"13\": 284, \"4\": 16}, \"6\": {\"6\": 300}}, \"44\": {\"3\": {\"4\": 115, \"7\": 175, \"8\": 8, \"3\": 2}, \"11\": {\"9\": 285, \"7\": 15}, \"13\": {\"9\": 179, \"4\": 27, \"15\": 94}, \"8\": {\"6\": 226, \"12\": 73, \"5\": 1}, \"10\": {\"0\": 167, \"5\": 20, \"7\": 86, \"9\": 27}, \"15\": {\"6\": 202, \"12\": 95, \"11\": 3}, \"6\": {\"15\": 211, \"9\": 39, \"4\": 43, \"7\": 7}, \"4\": {\"15\": 283, \"12\": 14, \"9\": 2, \"6\": 1}, \"12\": {\"3\": 267, \"7\": 23, \"8\": 10}, \"14\": {\"6\": 126, \"15\": 135, \"12\": 34, \"4\": 5}, \"5\": {\"6\": 300}, \"1\": {\"8\": 146, \"7\": 113, \"5\": 41}, \"2\": {\"8\": 30, \"5\": 235, \"15\": 34, \"11\": 1}, \"7\": {\"9\": 204, \"15\": 46, \"5\": 50}, \"0\": {\"6\": 237, \"2\": 50, \"7\": 1, \"12\": 7, \"8\": 3, \"0\": 1, \"5\": 1}, \"9\": {\"9\": 99, \"5\": 132, \"15\": 69}}, \"20\": {\"15\": {\"2\": 291, \"12\": 3, \"7\": 5, \"4\": 1}, \"1\": {\"2\": 300}, \"14\": {\"12\": 300}, \"6\": {\"12\": 275, \"7\": 25}, \"13\": {\"2\": 248, \"12\": 15, \"4\": 16, \"7\": 21}, \"0\": {\"2\": 296, \"12\": 1, \"15\": 3}, \"9\": {\"2\": 196, \"12\": 99, \"7\": 5}, \"3\": {\"12\": 292, \"2\": 8}, \"10\": {\"12\": 284, \"7\": 16}, \"8\": {\"12\": 300}, \"7\": {\"12\": 291, \"7\": 9}, \"4\": {\"12\": 288, \"15\": 12}, \"11\": {\"3\": 281, \"11\": 3, \"2\": 3, \"12\": 4, \"7\": 9}, \"5\": {\"12\": 211, \"2\": 89}, \"12\": {\"12\": 229, \"2\": 68, \"7\": 3}, \"2\": {\"2\": 120, \"12\": 179, \"7\": 1}}, \"14\": {\"15\": {\"11\": 273, \"3\": 23, \"9\": 3, \"13\": 1}, \"9\": {\"2\": 298, \"3\": 2}, \"11\": {\"7\": 176, \"2\": 50, \"12\": 69, \"4\": 5}, \"4\": {\"7\": 187, \"12\": 8, \"11\": 27, \"3\": 78}, \"6\": {\"3\": 242, \"9\": 2, \"12\": 51, \"11\": 5}, \"2\": {\"3\": 238, \"7\": 3, \"12\": 23, \"11\": 36}, \"12\": {\"7\": 21, \"2\": 131, \"12\": 37, \"3\": 14, \"6\": 46, \"9\": 17, \"1\": 15, \"15\": 14, \"11\": 2, \"13\": 2, \"0\": 1}, \"5\": {\"7\": 21, \"11\": 110, \"3\": 164, \"12\": 5}, \"3\": {\"3\": 270, \"11\": 30}, \"14\": {\"3\": 274, \"12\": 23, \"11\": 3}, \"7\": {\"11\": 105, \"7\": 195}, \"8\": {\"3\": 82, \"11\": 195, \"2\": 22, \"7\": 1}, \"10\": {\"3\": 297, \"15\": 2, \"12\": 1}, \"13\": {\"3\": 241, \"12\": 53, \"9\": 2, \"11\": 4}, \"0\": {\"3\": 300}, \"1\": {\"7\": 249, \"12\": 21, \"11\": 30}}, \"8\": {\"13\": {\"13\": 300}, \"1\": {\"1\": 300}, \"9\": {\"9\": 300}, \"7\": {\"7\": 299, \"4\": 1}, \"4\": {\"7\": 111, \"4\": 186, \"6\": 3}, \"3\": {\"3\": 300}, \"15\": {\"15\": 297, \"12\": 3}, \"8\": {\"8\": 297, \"11\": 3}, \"10\": {\"10\": 281, \"13\": 17, \"5\": 2}, \"2\": {\"2\": 300}, \"6\": {\"6\": 298, \"4\": 1, \"8\": 1}, \"14\": {\"14\": 297, \"6\": 3}, \"11\": {\"8\": 4, \"11\": 295, \"12\": 1}, \"5\": {\"5\": 292, \"10\": 4, \"1\": 4}, \"0\": {\"0\": 299, \"9\": 1}, \"12\": {\"12\": 297, \"15\": 3}}}, \"per_domain_accuracy\": {\"38\": {\"accuracy\": 0.11916666666666667, \"source?\": false}, \"50\": {\"accuracy\": 0.95375, \"source?\": true}, \"26\": {\"accuracy\": 0.12583333333333332, \"source?\": false}, \"32\": {\"accuracy\": 0.975625, \"source?\": true}, \"44\": {\"accuracy\": 0.02125, \"source?\": false}, \"20\": {\"accuracy\": 0.07520833333333334, \"source?\": false}, \"14\": {\"accuracy\": 0.10458333333333333, \"source?\": false}, \"8\": {\"accuracy\": 0.96625, \"source?\": true}}}, \"history\": {\"epoch_indices\": [1, 2, 3, 4, 5, 6, 7, 8, 9, 10, 11, 12, 13, 14, 15], \"train_label_loss\": [1.950491786230178, 0.8882165014176142, 0.505023577497119, 0.34039632927803765, 0.27356700638930004, 0.22279337956791834, 0.18421920208703904, 0.15613944695109414, 0.14888525616554987, 0.14863365159857841, 0.1275066829650175, 0.12121815406850406, 0.12396923964931851, 0.10454539318879445, 0.09770825604597727], \"source_val_label_loss\": [1.2571569944904968, 0.6583706383156566, 0.38684628653315317, 0.30799260168476444, 0.24946256562144356, 0.3036600506938664, 0.1636293236397009, 0.14995018188404827, 0.13969362058998208, 0.19699800344167556, 0.14099534495478183, 0.14049895351703187, 0.14551892243655382, 0.10962344785179712, 0.12111980494408481], \"target_val_label_loss\": [7.671308707683645, 13.437193596616705, 17.842291771097386, 25.961922270186403, 23.295115298413215, 20.365014319724224, 24.32344792244282, 44.75432048959935, 63.135078237411825, 96.82813954860606, 86.15757286802251, 90.23612471844288, 79.69691642801813, 103.42984551571786, 112.30451188188918], \"source_val_acc_label\": [0.7160416666666667, 0.8031944444444444, 0.9369444444444445, 0.908125, 0.9315972222222222, 0.8844444444444445, 0.9645138888888889, 0.955625, 0.9642361111111111, 0.9279861111111111, 0.9652083333333333, 0.9643055555555555, 0.9661805555555556, 0.9689583333333334, 0.9585416666666666], \"target_val_acc_label\": [0.05725, 0.062125, 0.068875, 0.06420833333333334, 0.07129166666666667, 0.074, 0.08008333333333334, 0.07191666666666667, 0.07791666666666666, 0.07291666666666667, 0.08920833333333333, 0.07966666666666666, 0.074375, 0.0875, 0.08529166666666667]}, \"dataset_metrics\": {\"source\": {\"train\": {\"n_unique_x\": 67200, \"n_unique_y\": 16, \"n_batch/episode\": 525}, \"val\": {\"n_unique_x\": 14400, \"n_unique_y\": 16, \"n_batch/episode\": 113}, \"test\": {\"n_unique_x\": 14400, \"n_unique_y\": 16, \"n_batch/episode\": 113}}, \"target\": {\"train\": {\"n_unique_x\": 112000, \"n_unique_y\": 16, \"n_batch/episode\": 875}, \"val\": {\"n_unique_x\": 24000, \"n_unique_y\": 16, \"n_batch/episode\": 188}, \"test\": {\"n_unique_x\": 24000, \"n_unique_y\": 16, \"n_batch/episode\": 188}}}}'"
      ]
     },
     "execution_count": 20,
     "metadata": {},
     "output_type": "execute_result"
    }
   ],
   "source": [
    "json.dumps(experiment)"
   ]
  }
 ],
 "metadata": {
  "celltoolbar": "Tags",
  "kernelspec": {
   "display_name": "Python 3 (ipykernel)",
   "language": "python",
   "name": "python3"
  },
  "language_info": {
   "codemirror_mode": {
    "name": "ipython",
    "version": 3
   },
   "file_extension": ".py",
   "mimetype": "text/x-python",
   "name": "python",
   "nbconvert_exporter": "python",
   "pygments_lexer": "ipython3",
   "version": "3.8.12"
  },
  "papermill": {
   "default_parameters": {},
   "duration": 136.879951,
   "end_time": "2022-03-25T23:36:32.983793",
   "environment_variables": {},
   "exception": null,
   "input_path": "/root/csc500-main/csc500-notebooks/templates/cnn_template.ipynb",
   "output_path": "trial.ipynb",
   "parameters": {
    "parameters": {
     "BEST_MODEL_PATH": "./best_model.pth",
     "NUM_LOGS_PER_EPOCH": 10,
     "batch_size": 128,
     "criteria_for_best": "target_accuracy",
     "dataset_seed": 7,
     "device": "cuda",
     "domains_source": [
      8,
      32,
      50
     ],
     "domains_target": [
      14,
      20,
      26,
      38,
      44
     ],
     "experiment_name": "cnn_1:oracle.run2.framed",
     "labels": [
      "3123D52",
      "3123D65",
      "3123D79",
      "3123D80",
      "3123D54",
      "3123D70",
      "3123D7B",
      "3123D89",
      "3123D58",
      "3123D76",
      "3123D7D",
      "3123EFE",
      "3123D64",
      "3123D78",
      "3123D7E",
      "3124E4A"
     ],
     "lr": 0.0001,
     "n_epoch": 50,
     "normalize_source": false,
     "normalize_target": false,
     "num_examples_per_domain_per_label_source": -1,
     "num_examples_per_domain_per_label_target": -1,
     "patience": 3,
     "pickle_name_source": "oracle.Run2_framed_2000Examples_stratified_ds.2022A.pkl",
     "pickle_name_target": "oracle.Run2_framed_2000Examples_stratified_ds.2022A.pkl",
     "seed": 7,
     "torch_default_dtype": "torch.float32",
     "x_net": [
      {
       "class": "nnReshape",
       "kargs": {
        "shape": [
         -1,
         1,
         2,
         256
        ]
       }
      },
      {
       "class": "Conv2d",
       "kargs": {
        "bias": false,
        "in_channels": 1,
        "kernel_size": [
         1,
         7
        ],
        "out_channels": 256,
        "padding": [
         0,
         3
        ]
       }
      },
      {
       "class": "ReLU",
       "kargs": {
        "inplace": true
       }
      },
      {
       "class": "BatchNorm2d",
       "kargs": {
        "num_features": 256
       }
      },
      {
       "class": "Conv2d",
       "kargs": {
        "bias": true,
        "in_channels": 256,
        "kernel_size": [
         2,
         7
        ],
        "out_channels": 80,
        "padding": [
         0,
         3
        ]
       }
      },
      {
       "class": "ReLU",
       "kargs": {
        "inplace": true
       }
      },
      {
       "class": "BatchNorm2d",
       "kargs": {
        "num_features": 80
       }
      },
      {
       "class": "Flatten",
       "kargs": {}
      },
      {
       "class": "Linear",
       "kargs": {
        "in_features": 20480,
        "out_features": 256
       }
      },
      {
       "class": "ReLU",
       "kargs": {
        "inplace": true
       }
      },
      {
       "class": "BatchNorm1d",
       "kargs": {
        "num_features": 256
       }
      },
      {
       "class": "Linear",
       "kargs": {
        "in_features": 256,
        "out_features": 16
       }
      }
     ]
    }
   },
   "start_time": "2022-03-25T23:34:16.103842",
   "version": "2.3.4"
  }
 },
 "nbformat": 4,
 "nbformat_minor": 5
}