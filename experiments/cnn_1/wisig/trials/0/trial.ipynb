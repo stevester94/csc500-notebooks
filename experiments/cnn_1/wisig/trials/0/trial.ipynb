{
 "cells": [
  {
   "cell_type": "code",
   "execution_count": 1,
   "id": "2324682e",
   "metadata": {
    "execution": {
     "iopub.execute_input": "2022-03-26T02:05:02.107454Z",
     "iopub.status.busy": "2022-03-26T02:05:02.106852Z",
     "iopub.status.idle": "2022-03-26T02:05:03.396558Z",
     "shell.execute_reply": "2022-03-26T02:05:03.395683Z"
    },
    "papermill": {
     "duration": 1.324811,
     "end_time": "2022-03-26T02:05:03.396766",
     "exception": false,
     "start_time": "2022-03-26T02:05:02.071955",
     "status": "completed"
    },
    "tags": []
   },
   "outputs": [],
   "source": [
    "import os, json, sys, time, random\n",
    "import numpy as np\n",
    "import torch\n",
    "from  easydict import EasyDict\n",
    "from math import floor\n",
    "from easydict import EasyDict\n",
    "\n",
    "from steves_utils.vanilla_train_eval_test_jig import  Vanilla_Train_Eval_Test_Jig\n",
    "\n",
    "from steves_utils.torch_utils import get_dataset_metrics, independent_accuracy_assesment\n",
    "from steves_models.configurable_vanilla import Configurable_Vanilla\n",
    "from steves_utils.torch_sequential_builder import build_sequential\n",
    "from steves_utils.lazy_map import Lazy_Map\n",
    "from steves_utils.sequence_aggregator import Sequence_Aggregator\n",
    "\n",
    "from steves_utils.stratified_dataset.traditional_accessor import Traditional_Accessor_Factory\n",
    "\n",
    "from steves_utils.cnn_do_report import (\n",
    "    get_loss_curve,\n",
    "    get_results_table,\n",
    "    get_parameters_table,\n",
    "    get_domain_accuracies,\n",
    ")\n",
    "\n",
    "from steves_utils.torch_utils import (\n",
    "    confusion_by_domain_over_dataloader,\n",
    "    independent_accuracy_assesment\n",
    ")\n",
    "\n",
    "from steves_utils.utils_v2 import (\n",
    "    per_domain_accuracy_from_confusion,\n",
    "    get_datasets_base_path\n",
    ")\n",
    "\n",
    "# from steves_utils.ptn_do_report import TBD"
   ]
  },
  {
   "cell_type": "code",
   "execution_count": 2,
   "id": "1b29e3fe",
   "metadata": {
    "execution": {
     "iopub.execute_input": "2022-03-26T02:05:03.434354Z",
     "iopub.status.busy": "2022-03-26T02:05:03.433958Z",
     "iopub.status.idle": "2022-03-26T02:05:03.437388Z",
     "shell.execute_reply": "2022-03-26T02:05:03.436667Z"
    },
    "papermill": {
     "duration": 0.022772,
     "end_time": "2022-03-26T02:05:03.437544",
     "exception": false,
     "start_time": "2022-03-26T02:05:03.414772",
     "status": "completed"
    },
    "tags": []
   },
   "outputs": [],
   "source": [
    "required_parameters = {\n",
    "    \"experiment_name\",\n",
    "    \"lr\",\n",
    "    \"device\",\n",
    "    \"dataset_seed\",\n",
    "    \"seed\",\n",
    "    \"labels\",\n",
    "    \"domains_target\",\n",
    "    \"domains_source\",\n",
    "    \"num_examples_per_domain_per_label_source\",\n",
    "    \"num_examples_per_domain_per_label_target\",\n",
    "    \"batch_size\",\n",
    "    \"n_epoch\",\n",
    "    \"patience\",\n",
    "    \"criteria_for_best\",\n",
    "    \"normalize_source\",\n",
    "    \"normalize_target\",\n",
    "    \"x_net\",\n",
    "    \"NUM_LOGS_PER_EPOCH\",\n",
    "    \"BEST_MODEL_PATH\",\n",
    "    \"pickle_name_source\",\n",
    "    \"pickle_name_target\",\n",
    "    \"torch_default_dtype\",\n",
    "}"
   ]
  },
  {
   "cell_type": "code",
   "execution_count": 3,
   "id": "670b5fb8",
   "metadata": {
    "execution": {
     "iopub.execute_input": "2022-03-26T02:05:03.484972Z",
     "iopub.status.busy": "2022-03-26T02:05:03.484062Z",
     "iopub.status.idle": "2022-03-26T02:05:03.491141Z",
     "shell.execute_reply": "2022-03-26T02:05:03.490315Z"
    },
    "papermill": {
     "duration": 0.034514,
     "end_time": "2022-03-26T02:05:03.491297",
     "exception": false,
     "start_time": "2022-03-26T02:05:03.456783",
     "status": "completed"
    },
    "tags": [
     "parameters"
    ]
   },
   "outputs": [],
   "source": [
    "from steves_utils.ORACLE.utils_v2 import (\n",
    "    ALL_SERIAL_NUMBERS,\n",
    "    ALL_DISTANCES_FEET_NARROWED,\n",
    ")\n",
    "\n",
    "standalone_parameters = {}\n",
    "standalone_parameters[\"experiment_name\"] = \"MANUAL CORES CNN\"\n",
    "standalone_parameters[\"lr\"] = 0.0001\n",
    "standalone_parameters[\"device\"] = \"cuda\"\n",
    "\n",
    "standalone_parameters[\"dataset_seed\"] = 1337\n",
    "standalone_parameters[\"seed\"] = 1337\n",
    "standalone_parameters[\"labels\"] = ALL_SERIAL_NUMBERS\n",
    "\n",
    "standalone_parameters[\"domains_source\"] = [8,32,50]\n",
    "standalone_parameters[\"domains_target\"] = [14,20,26,38,44,]\n",
    "\n",
    "standalone_parameters[\"num_examples_per_domain_per_label_source\"]=-1\n",
    "standalone_parameters[\"num_examples_per_domain_per_label_target\"]=-1\n",
    "\n",
    "standalone_parameters[\"pickle_name_source\"] = \"oracle.Run1_framed_2000Examples_stratified_ds.2022A.pkl\"\n",
    "standalone_parameters[\"pickle_name_target\"] = \"oracle.Run2_framed_2000Examples_stratified_ds.2022A.pkl\"\n",
    "\n",
    "standalone_parameters[\"torch_default_dtype\"] = \"torch.float32\" \n",
    "\n",
    "standalone_parameters[\"batch_size\"]=128\n",
    "\n",
    "standalone_parameters[\"n_epoch\"] = 3\n",
    "\n",
    "standalone_parameters[\"patience\"] = 10\n",
    "\n",
    "standalone_parameters[\"criteria_for_best\"] = \"target_accuracy\"\n",
    "standalone_parameters[\"normalize_source\"] = False\n",
    "standalone_parameters[\"normalize_target\"] = False\n",
    "\n",
    "standalone_parameters[\"x_net\"] =     [\n",
    "    {\"class\": \"nnReshape\", \"kargs\": {\"shape\":[-1, 1, 2, 256]}},\n",
    "    {\"class\": \"Conv2d\", \"kargs\": { \"in_channels\":1, \"out_channels\":256, \"kernel_size\":(1,7), \"bias\":False, \"padding\":(0,3), },},\n",
    "    {\"class\": \"ReLU\", \"kargs\": {\"inplace\": True}},\n",
    "    {\"class\": \"BatchNorm2d\", \"kargs\": {\"num_features\":256}},\n",
    "\n",
    "    {\"class\": \"Conv2d\", \"kargs\": { \"in_channels\":256, \"out_channels\":80, \"kernel_size\":(2,7), \"bias\":True, \"padding\":(0,3), },},\n",
    "    {\"class\": \"ReLU\", \"kargs\": {\"inplace\": True}},\n",
    "    {\"class\": \"BatchNorm2d\", \"kargs\": {\"num_features\":80}},\n",
    "    {\"class\": \"Flatten\", \"kargs\": {}},\n",
    "\n",
    "    {\"class\": \"Linear\", \"kargs\": {\"in_features\": 80*256, \"out_features\": 256}}, # 80 units per IQ pair\n",
    "    {\"class\": \"ReLU\", \"kargs\": {\"inplace\": True}},\n",
    "    {\"class\": \"BatchNorm1d\", \"kargs\": {\"num_features\":256}},\n",
    "\n",
    "    {\"class\": \"Linear\", \"kargs\": {\"in_features\": 256, \"out_features\": len(standalone_parameters[\"labels\"])}},\n",
    "]\n",
    "\n",
    "standalone_parameters[\"NUM_LOGS_PER_EPOCH\"] = 10\n",
    "standalone_parameters[\"BEST_MODEL_PATH\"] = \"./best_model.pth\""
   ]
  },
  {
   "cell_type": "code",
   "execution_count": 4,
   "id": "2a35d3aa",
   "metadata": {
    "execution": {
     "iopub.execute_input": "2022-03-26T02:05:03.543843Z",
     "iopub.status.busy": "2022-03-26T02:05:03.535027Z",
     "iopub.status.idle": "2022-03-26T02:05:03.546682Z",
     "shell.execute_reply": "2022-03-26T02:05:03.545856Z"
    },
    "papermill": {
     "duration": 0.033133,
     "end_time": "2022-03-26T02:05:03.546839",
     "exception": false,
     "start_time": "2022-03-26T02:05:03.513706",
     "status": "completed"
    },
    "tags": [
     "injected-parameters"
    ]
   },
   "outputs": [],
   "source": [
    "# Parameters\n",
    "parameters = {\n",
    "    \"experiment_name\": \"cnn_1:wisig\",\n",
    "    \"labels\": [\n",
    "        \"1-10\",\n",
    "        \"1-12\",\n",
    "        \"1-14\",\n",
    "        \"1-16\",\n",
    "        \"1-18\",\n",
    "        \"1-19\",\n",
    "        \"1-8\",\n",
    "        \"10-11\",\n",
    "        \"10-17\",\n",
    "        \"10-4\",\n",
    "        \"10-7\",\n",
    "        \"11-1\",\n",
    "        \"11-10\",\n",
    "        \"11-19\",\n",
    "        \"11-20\",\n",
    "        \"11-4\",\n",
    "        \"11-7\",\n",
    "        \"12-19\",\n",
    "        \"12-20\",\n",
    "        \"12-7\",\n",
    "        \"13-14\",\n",
    "        \"13-18\",\n",
    "        \"13-19\",\n",
    "        \"13-20\",\n",
    "        \"13-3\",\n",
    "        \"13-7\",\n",
    "        \"14-10\",\n",
    "        \"14-11\",\n",
    "        \"14-12\",\n",
    "        \"14-13\",\n",
    "        \"14-14\",\n",
    "        \"14-19\",\n",
    "        \"14-20\",\n",
    "        \"14-7\",\n",
    "        \"14-8\",\n",
    "        \"14-9\",\n",
    "        \"15-1\",\n",
    "        \"15-19\",\n",
    "        \"15-6\",\n",
    "        \"16-1\",\n",
    "        \"16-16\",\n",
    "        \"16-19\",\n",
    "        \"16-20\",\n",
    "        \"17-10\",\n",
    "        \"17-11\",\n",
    "        \"18-1\",\n",
    "        \"18-10\",\n",
    "        \"18-11\",\n",
    "        \"18-12\",\n",
    "        \"18-13\",\n",
    "        \"18-14\",\n",
    "        \"18-15\",\n",
    "        \"18-16\",\n",
    "        \"18-17\",\n",
    "        \"18-19\",\n",
    "        \"18-2\",\n",
    "        \"18-20\",\n",
    "        \"18-4\",\n",
    "        \"18-5\",\n",
    "        \"18-7\",\n",
    "        \"18-8\",\n",
    "        \"18-9\",\n",
    "        \"19-1\",\n",
    "        \"19-10\",\n",
    "        \"19-11\",\n",
    "        \"19-12\",\n",
    "        \"19-13\",\n",
    "        \"19-14\",\n",
    "        \"19-15\",\n",
    "        \"19-19\",\n",
    "        \"19-2\",\n",
    "        \"19-20\",\n",
    "        \"19-3\",\n",
    "        \"19-4\",\n",
    "        \"19-6\",\n",
    "        \"19-7\",\n",
    "        \"19-8\",\n",
    "        \"19-9\",\n",
    "        \"2-1\",\n",
    "        \"2-13\",\n",
    "        \"2-15\",\n",
    "        \"2-3\",\n",
    "        \"2-4\",\n",
    "        \"2-5\",\n",
    "        \"2-6\",\n",
    "        \"2-7\",\n",
    "        \"2-8\",\n",
    "        \"20-1\",\n",
    "        \"20-12\",\n",
    "        \"20-14\",\n",
    "        \"20-15\",\n",
    "        \"20-16\",\n",
    "        \"20-18\",\n",
    "        \"20-19\",\n",
    "        \"20-20\",\n",
    "        \"20-3\",\n",
    "        \"20-4\",\n",
    "        \"20-5\",\n",
    "        \"20-7\",\n",
    "        \"20-8\",\n",
    "        \"3-1\",\n",
    "        \"3-13\",\n",
    "        \"3-18\",\n",
    "        \"3-2\",\n",
    "        \"3-8\",\n",
    "        \"4-1\",\n",
    "        \"4-10\",\n",
    "        \"4-11\",\n",
    "        \"5-1\",\n",
    "        \"5-5\",\n",
    "        \"6-1\",\n",
    "        \"6-15\",\n",
    "        \"6-6\",\n",
    "        \"7-10\",\n",
    "        \"7-11\",\n",
    "        \"7-12\",\n",
    "        \"7-13\",\n",
    "        \"7-14\",\n",
    "        \"7-7\",\n",
    "        \"7-8\",\n",
    "        \"7-9\",\n",
    "        \"8-1\",\n",
    "        \"8-13\",\n",
    "        \"8-14\",\n",
    "        \"8-18\",\n",
    "        \"8-20\",\n",
    "        \"8-3\",\n",
    "        \"8-8\",\n",
    "        \"9-1\",\n",
    "        \"9-7\",\n",
    "    ],\n",
    "    \"domains_source\": [3],\n",
    "    \"domains_target\": [1, 2, 4],\n",
    "    \"pickle_name_target\": \"wisig.node3-19.stratified_ds.2022A.pkl\",\n",
    "    \"pickle_name_source\": \"wisig.node3-19.stratified_ds.2022A.pkl\",\n",
    "    \"device\": \"cuda\",\n",
    "    \"lr\": 0.0001,\n",
    "    \"batch_size\": 128,\n",
    "    \"normalize_source\": False,\n",
    "    \"normalize_target\": False,\n",
    "    \"num_examples_per_domain_per_label_source\": -1,\n",
    "    \"num_examples_per_domain_per_label_target\": -1,\n",
    "    \"torch_default_dtype\": \"torch.float32\",\n",
    "    \"n_epoch\": 50,\n",
    "    \"patience\": 3,\n",
    "    \"criteria_for_best\": \"target_accuracy\",\n",
    "    \"x_net\": [\n",
    "        {\"class\": \"nnReshape\", \"kargs\": {\"shape\": [-1, 1, 2, 256]}},\n",
    "        {\n",
    "            \"class\": \"Conv2d\",\n",
    "            \"kargs\": {\n",
    "                \"in_channels\": 1,\n",
    "                \"out_channels\": 256,\n",
    "                \"kernel_size\": [1, 7],\n",
    "                \"bias\": False,\n",
    "                \"padding\": [0, 3],\n",
    "            },\n",
    "        },\n",
    "        {\"class\": \"ReLU\", \"kargs\": {\"inplace\": True}},\n",
    "        {\"class\": \"BatchNorm2d\", \"kargs\": {\"num_features\": 256}},\n",
    "        {\n",
    "            \"class\": \"Conv2d\",\n",
    "            \"kargs\": {\n",
    "                \"in_channels\": 256,\n",
    "                \"out_channels\": 80,\n",
    "                \"kernel_size\": [2, 7],\n",
    "                \"bias\": True,\n",
    "                \"padding\": [0, 3],\n",
    "            },\n",
    "        },\n",
    "        {\"class\": \"ReLU\", \"kargs\": {\"inplace\": True}},\n",
    "        {\"class\": \"BatchNorm2d\", \"kargs\": {\"num_features\": 80}},\n",
    "        {\"class\": \"Flatten\", \"kargs\": {}},\n",
    "        {\"class\": \"Linear\", \"kargs\": {\"in_features\": 20480, \"out_features\": 256}},\n",
    "        {\"class\": \"ReLU\", \"kargs\": {\"inplace\": True}},\n",
    "        {\"class\": \"BatchNorm1d\", \"kargs\": {\"num_features\": 256}},\n",
    "        {\"class\": \"Linear\", \"kargs\": {\"in_features\": 256, \"out_features\": 130}},\n",
    "    ],\n",
    "    \"NUM_LOGS_PER_EPOCH\": 10,\n",
    "    \"BEST_MODEL_PATH\": \"./best_model.pth\",\n",
    "    \"dataset_seed\": 154325,\n",
    "    \"seed\": 154325,\n",
    "}\n"
   ]
  },
  {
   "cell_type": "code",
   "execution_count": 5,
   "id": "759b56ec",
   "metadata": {
    "execution": {
     "iopub.execute_input": "2022-03-26T02:05:03.584711Z",
     "iopub.status.busy": "2022-03-26T02:05:03.584133Z",
     "iopub.status.idle": "2022-03-26T02:05:03.586335Z",
     "shell.execute_reply": "2022-03-26T02:05:03.586800Z"
    },
    "papermill": {
     "duration": 0.023399,
     "end_time": "2022-03-26T02:05:03.586926",
     "exception": false,
     "start_time": "2022-03-26T02:05:03.563527",
     "status": "completed"
    },
    "tags": []
   },
   "outputs": [],
   "source": [
    "# Set this to True if you want to run this template directly\n",
    "STANDALONE = False\n",
    "if STANDALONE:\n",
    "    print(\"parameters not injected, running with standalone_parameters\")\n",
    "    parameters = standalone_parameters\n",
    "\n",
    "if not 'parameters' in locals() and not 'parameters' in globals():\n",
    "    raise Exception(\"Parameter injection failed\")\n",
    "\n",
    "#Use an easy dict for all the parameters\n",
    "p = EasyDict(parameters)\n",
    "\n",
    "supplied_keys = set(p.keys())\n",
    "\n",
    "if  supplied_keys != required_parameters:\n",
    "    print(\"Parameters are incorrect\")\n",
    "    if len(supplied_keys - required_parameters)>0: print(\"Shouldn't have:\", str(supplied_keys - required_parameters))\n",
    "    if len(required_parameters - supplied_keys)>0: print(\"Need to have:\", str(required_parameters - supplied_keys))\n",
    "    raise RuntimeError(\"Parameters are incorrect\")\n",
    "\n"
   ]
  },
  {
   "cell_type": "code",
   "execution_count": 6,
   "id": "d5c66a71",
   "metadata": {
    "execution": {
     "iopub.execute_input": "2022-03-26T02:05:03.622634Z",
     "iopub.status.busy": "2022-03-26T02:05:03.620770Z",
     "iopub.status.idle": "2022-03-26T02:05:03.625530Z",
     "shell.execute_reply": "2022-03-26T02:05:03.625834Z"
    },
    "papermill": {
     "duration": 0.020708,
     "end_time": "2022-03-26T02:05:03.625917",
     "exception": false,
     "start_time": "2022-03-26T02:05:03.605209",
     "status": "completed"
    },
    "tags": []
   },
   "outputs": [],
   "source": [
    "###################################\n",
    "# Set the RNGs and make it all deterministic\n",
    "###################################\n",
    "np.random.seed(p.seed)\n",
    "random.seed(p.seed)\n",
    "torch.manual_seed(p.seed)\n",
    "\n",
    "torch.use_deterministic_algorithms(True) "
   ]
  },
  {
   "cell_type": "code",
   "execution_count": 7,
   "id": "92a65876",
   "metadata": {
    "execution": {
     "iopub.execute_input": "2022-03-26T02:05:03.661284Z",
     "iopub.status.busy": "2022-03-26T02:05:03.660903Z",
     "iopub.status.idle": "2022-03-26T02:05:03.663811Z",
     "shell.execute_reply": "2022-03-26T02:05:03.663417Z"
    },
    "papermill": {
     "duration": 0.021371,
     "end_time": "2022-03-26T02:05:03.663884",
     "exception": false,
     "start_time": "2022-03-26T02:05:03.642513",
     "status": "completed"
    },
    "tags": []
   },
   "outputs": [],
   "source": [
    "torch.set_default_dtype(eval(p.torch_default_dtype))"
   ]
  },
  {
   "cell_type": "code",
   "execution_count": 8,
   "id": "f1a32f01",
   "metadata": {
    "execution": {
     "iopub.execute_input": "2022-03-26T02:05:03.703947Z",
     "iopub.status.busy": "2022-03-26T02:05:03.703553Z",
     "iopub.status.idle": "2022-03-26T02:05:03.745601Z",
     "shell.execute_reply": "2022-03-26T02:05:03.744743Z"
    },
    "papermill": {
     "duration": 0.060864,
     "end_time": "2022-03-26T02:05:03.745779",
     "exception": false,
     "start_time": "2022-03-26T02:05:03.684915",
     "status": "completed"
    },
    "tags": []
   },
   "outputs": [],
   "source": [
    "###################################\n",
    "# Build the network(s)\n",
    "# Note: It's critical to do this AFTER setting the RNG\n",
    "###################################\n",
    "x_net = build_sequential(p.x_net)"
   ]
  },
  {
   "cell_type": "code",
   "execution_count": 9,
   "id": "a276cd83",
   "metadata": {
    "execution": {
     "iopub.execute_input": "2022-03-26T02:05:03.785382Z",
     "iopub.status.busy": "2022-03-26T02:05:03.784812Z",
     "iopub.status.idle": "2022-03-26T02:05:03.787032Z",
     "shell.execute_reply": "2022-03-26T02:05:03.787494Z"
    },
    "papermill": {
     "duration": 0.019945,
     "end_time": "2022-03-26T02:05:03.787636",
     "exception": false,
     "start_time": "2022-03-26T02:05:03.767691",
     "status": "completed"
    },
    "tags": []
   },
   "outputs": [],
   "source": [
    "start_time_secs = time.time()"
   ]
  },
  {
   "cell_type": "code",
   "execution_count": 10,
   "id": "de702e48",
   "metadata": {
    "execution": {
     "iopub.execute_input": "2022-03-26T02:05:03.831816Z",
     "iopub.status.busy": "2022-03-26T02:05:03.821046Z",
     "iopub.status.idle": "2022-03-26T02:05:08.195078Z",
     "shell.execute_reply": "2022-03-26T02:05:08.194292Z"
    },
    "papermill": {
     "duration": 4.390494,
     "end_time": "2022-03-26T02:05:08.195259",
     "exception": false,
     "start_time": "2022-03-26T02:05:03.804765",
     "status": "completed"
    },
    "tags": []
   },
   "outputs": [],
   "source": [
    "def wrap_in_dataloader(p, ds):\n",
    "    return torch.utils.data.DataLoader(\n",
    "        ds,\n",
    "        batch_size=p.batch_size,\n",
    "        shuffle=True,\n",
    "        num_workers=1,\n",
    "        persistent_workers=True,\n",
    "        prefetch_factor=50,\n",
    "        pin_memory=True\n",
    "    )\n",
    "\n",
    "taf_source = Traditional_Accessor_Factory(\n",
    "    labels=p.labels,\n",
    "    domains=p.domains_source,\n",
    "    num_examples_per_domain_per_label=p.num_examples_per_domain_per_label_source,\n",
    "    pickle_path=os.path.join(get_datasets_base_path(), p.pickle_name_source),\n",
    "    seed=p.dataset_seed\n",
    ")\n",
    "train_original_source, val_original_source, test_original_source = \\\n",
    "    taf_source.get_train(), taf_source.get_val(), taf_source.get_test()\n",
    "\n",
    "\n",
    "taf_target = Traditional_Accessor_Factory(\n",
    "    labels=p.labels,\n",
    "    domains=p.domains_target,\n",
    "    num_examples_per_domain_per_label=p.num_examples_per_domain_per_label_source,\n",
    "    pickle_path=os.path.join(get_datasets_base_path(), p.pickle_name_target),\n",
    "    seed=p.dataset_seed\n",
    ")\n",
    "train_original_target, val_original_target, test_original_target = \\\n",
    "    taf_target.get_train(), taf_target.get_val(), taf_target.get_test()\n",
    "\n",
    "\n",
    "# For CNN We only use X and Y. And we only train on the source.\n",
    "# Properly form the data using a transform lambda and Lazy_Map. Finally wrap them in a dataloader\n",
    "\n",
    "transform_lambda = lambda ex: ex[:2] # Strip the tuple to just (x,y)\n",
    "\n",
    "\n",
    "train_processed_source = wrap_in_dataloader(\n",
    "    p,\n",
    "    Lazy_Map(train_original_source, transform_lambda)\n",
    ")\n",
    "val_processed_source = wrap_in_dataloader(\n",
    "    p,\n",
    "    Lazy_Map(val_original_source, transform_lambda)\n",
    ")\n",
    "test_processed_source = wrap_in_dataloader(\n",
    "    p,\n",
    "    Lazy_Map(test_original_source, transform_lambda)\n",
    ")\n",
    "\n",
    "train_processed_target = wrap_in_dataloader(\n",
    "    p,\n",
    "    Lazy_Map(train_original_target, transform_lambda)\n",
    ")\n",
    "val_processed_target = wrap_in_dataloader(\n",
    "    p,\n",
    "    Lazy_Map(val_original_target, transform_lambda)\n",
    ")\n",
    "test_processed_target  = wrap_in_dataloader(\n",
    "    p,\n",
    "    Lazy_Map(test_original_target, transform_lambda)\n",
    ")\n",
    "\n",
    "\n",
    "\n",
    "datasets = EasyDict({\n",
    "    \"source\": {\n",
    "        \"original\": {\"train\":train_original_source, \"val\":val_original_source, \"test\":test_original_source},\n",
    "        \"processed\": {\"train\":train_processed_source, \"val\":val_processed_source, \"test\":test_processed_source}\n",
    "    },\n",
    "    \"target\": {\n",
    "        \"original\": {\"train\":train_original_target, \"val\":val_original_target, \"test\":test_original_target},\n",
    "        \"processed\": {\"train\":train_processed_target, \"val\":val_processed_target, \"test\":test_processed_target}\n",
    "    },\n",
    "})"
   ]
  },
  {
   "cell_type": "code",
   "execution_count": 11,
   "id": "a11b26bd",
   "metadata": {
    "execution": {
     "iopub.execute_input": "2022-03-26T02:05:08.274330Z",
     "iopub.status.busy": "2022-03-26T02:05:08.273468Z",
     "iopub.status.idle": "2022-03-26T02:05:13.506885Z",
     "shell.execute_reply": "2022-03-26T02:05:13.505701Z"
    },
    "papermill": {
     "duration": 5.290248,
     "end_time": "2022-03-26T02:05:13.507140",
     "exception": false,
     "start_time": "2022-03-26T02:05:08.216892",
     "status": "completed"
    },
    "tags": []
   },
   "outputs": [
    {
     "data": {
      "text/plain": [
       "torch.float32"
      ]
     },
     "execution_count": 11,
     "metadata": {},
     "output_type": "execute_result"
    }
   ],
   "source": [
    "ep = next(iter(test_processed_target))\n",
    "ep[0].dtype"
   ]
  },
  {
   "cell_type": "code",
   "execution_count": 12,
   "id": "19425fad",
   "metadata": {
    "execution": {
     "iopub.execute_input": "2022-03-26T02:05:13.548507Z",
     "iopub.status.busy": "2022-03-26T02:05:13.548000Z",
     "iopub.status.idle": "2022-03-26T02:05:13.594387Z",
     "shell.execute_reply": "2022-03-26T02:05:13.593500Z"
    },
    "papermill": {
     "duration": 0.067934,
     "end_time": "2022-03-26T02:05:13.594642",
     "exception": false,
     "start_time": "2022-03-26T02:05:13.526708",
     "status": "completed"
    },
    "tags": []
   },
   "outputs": [],
   "source": [
    "model = Configurable_Vanilla(\n",
    "    x_net=x_net,\n",
    "    label_loss_object=torch.nn.NLLLoss(),\n",
    "    learning_rate=p.lr\n",
    ")"
   ]
  },
  {
   "cell_type": "code",
   "execution_count": 13,
   "id": "7f6d4f2c",
   "metadata": {
    "execution": {
     "iopub.execute_input": "2022-03-26T02:05:13.641999Z",
     "iopub.status.busy": "2022-03-26T02:05:13.641605Z",
     "iopub.status.idle": "2022-03-26T02:06:17.189184Z",
     "shell.execute_reply": "2022-03-26T02:06:17.188427Z"
    },
    "papermill": {
     "duration": 63.57306,
     "end_time": "2022-03-26T02:06:17.189361",
     "exception": false,
     "start_time": "2022-03-26T02:05:13.616301",
     "status": "completed"
    },
    "tags": []
   },
   "outputs": [
    {
     "name": "stdout",
     "output_type": "stream",
     "text": [
      "epoch: 1, [batch: 1 / 359], examples_per_second: 830.5694, train_label_loss: 4.8407, \n"
     ]
    },
    {
     "name": "stdout",
     "output_type": "stream",
     "text": [
      "epoch: 1, [batch: 36 / 359], examples_per_second: 11554.6275, train_label_loss: 4.1763, \n"
     ]
    },
    {
     "name": "stdout",
     "output_type": "stream",
     "text": [
      "epoch: 1, [batch: 72 / 359], examples_per_second: 11445.1209, train_label_loss: 3.5201, \n"
     ]
    },
    {
     "name": "stdout",
     "output_type": "stream",
     "text": [
      "epoch: 1, [batch: 108 / 359], examples_per_second: 11510.4882, train_label_loss: 3.1247, \n"
     ]
    },
    {
     "name": "stdout",
     "output_type": "stream",
     "text": [
      "epoch: 1, [batch: 144 / 359], examples_per_second: 11657.4501, train_label_loss: 2.8128, \n"
     ]
    },
    {
     "name": "stdout",
     "output_type": "stream",
     "text": [
      "epoch: 1, [batch: 180 / 359], examples_per_second: 11730.0759, train_label_loss: 2.5466, \n"
     ]
    },
    {
     "name": "stdout",
     "output_type": "stream",
     "text": [
      "epoch: 1, [batch: 215 / 359], examples_per_second: 11657.2701, train_label_loss: 2.0811, \n"
     ]
    },
    {
     "name": "stdout",
     "output_type": "stream",
     "text": [
      "epoch: 1, [batch: 251 / 359], examples_per_second: 11694.9204, train_label_loss: 1.9743, \n"
     ]
    },
    {
     "name": "stdout",
     "output_type": "stream",
     "text": [
      "epoch: 1, [batch: 287 / 359], examples_per_second: 11787.2065, train_label_loss: 1.6965, \n"
     ]
    },
    {
     "name": "stdout",
     "output_type": "stream",
     "text": [
      "epoch: 1, [batch: 323 / 359], examples_per_second: 11566.2492, train_label_loss: 1.5640, \n"
     ]
    },
    {
     "name": "stdout",
     "output_type": "stream",
     "text": [
      "=============================================================\n",
      "epoch: 1, source_val_acc_label: 0.8478, source_val_label_loss: 1.2798, target_val_acc_label: 0.5907, target_val_label_loss: 2.1112, \n",
      "=============================================================\n"
     ]
    },
    {
     "name": "stdout",
     "output_type": "stream",
     "text": [
      "New best\n",
      "epoch: 2, [batch: 1 / 359], examples_per_second: 118.3250, train_label_loss: 1.1784, \n"
     ]
    },
    {
     "name": "stdout",
     "output_type": "stream",
     "text": [
      "epoch: 2, [batch: 36 / 359], examples_per_second: 11518.8434, train_label_loss: 1.3047, \n"
     ]
    },
    {
     "name": "stdout",
     "output_type": "stream",
     "text": [
      "epoch: 2, [batch: 72 / 359], examples_per_second: 11944.8871, train_label_loss: 0.9598, \n"
     ]
    },
    {
     "name": "stdout",
     "output_type": "stream",
     "text": [
      "epoch: 2, [batch: 108 / 359], examples_per_second: 11630.0365, train_label_loss: 1.0124, \n"
     ]
    },
    {
     "name": "stdout",
     "output_type": "stream",
     "text": [
      "epoch: 2, [batch: 144 / 359], examples_per_second: 11552.3050, train_label_loss: 0.8524, \n"
     ]
    },
    {
     "name": "stdout",
     "output_type": "stream",
     "text": [
      "epoch: 2, [batch: 180 / 359], examples_per_second: 11660.2914, train_label_loss: 0.7759, \n"
     ]
    },
    {
     "name": "stdout",
     "output_type": "stream",
     "text": [
      "epoch: 2, [batch: 215 / 359], examples_per_second: 11613.8239, train_label_loss: 0.7139, \n"
     ]
    },
    {
     "name": "stdout",
     "output_type": "stream",
     "text": [
      "epoch: 2, [batch: 251 / 359], examples_per_second: 11677.7637, train_label_loss: 0.6077, \n"
     ]
    },
    {
     "name": "stdout",
     "output_type": "stream",
     "text": [
      "epoch: 2, [batch: 287 / 359], examples_per_second: 11692.5785, train_label_loss: 0.6321, \n"
     ]
    },
    {
     "name": "stdout",
     "output_type": "stream",
     "text": [
      "epoch: 2, [batch: 323 / 359], examples_per_second: 11621.6167, train_label_loss: 0.3940, \n"
     ]
    },
    {
     "name": "stdout",
     "output_type": "stream",
     "text": [
      "=============================================================\n",
      "epoch: 2, source_val_acc_label: 0.9345, source_val_label_loss: 0.5228, target_val_acc_label: 0.6666, target_val_label_loss: 1.6364, \n",
      "=============================================================\n"
     ]
    },
    {
     "name": "stdout",
     "output_type": "stream",
     "text": [
      "New best\n",
      "epoch: 3, [batch: 1 / 359], examples_per_second: 147.8258, train_label_loss: 0.6879, \n"
     ]
    },
    {
     "name": "stdout",
     "output_type": "stream",
     "text": [
      "epoch: 3, [batch: 36 / 359], examples_per_second: 11397.8832, train_label_loss: 0.5531, \n"
     ]
    },
    {
     "name": "stdout",
     "output_type": "stream",
     "text": [
      "epoch: 3, [batch: 72 / 359], examples_per_second: 11684.0962, train_label_loss: 0.4860, \n"
     ]
    },
    {
     "name": "stdout",
     "output_type": "stream",
     "text": [
      "epoch: 3, [batch: 108 / 359], examples_per_second: 11272.3541, train_label_loss: 0.5167, \n"
     ]
    },
    {
     "name": "stdout",
     "output_type": "stream",
     "text": [
      "epoch: 3, [batch: 144 / 359], examples_per_second: 11614.8701, train_label_loss: 0.3235, \n"
     ]
    },
    {
     "name": "stdout",
     "output_type": "stream",
     "text": [
      "epoch: 3, [batch: 180 / 359], examples_per_second: 11660.7628, train_label_loss: 0.3493, \n"
     ]
    },
    {
     "name": "stdout",
     "output_type": "stream",
     "text": [
      "epoch: 3, [batch: 215 / 359], examples_per_second: 11697.8010, train_label_loss: 0.3356, \n"
     ]
    },
    {
     "name": "stdout",
     "output_type": "stream",
     "text": [
      "epoch: 3, [batch: 251 / 359], examples_per_second: 11703.4964, train_label_loss: 0.3315, \n"
     ]
    },
    {
     "name": "stdout",
     "output_type": "stream",
     "text": [
      "epoch: 3, [batch: 287 / 359], examples_per_second: 11751.5938, train_label_loss: 0.3347, \n"
     ]
    },
    {
     "name": "stdout",
     "output_type": "stream",
     "text": [
      "epoch: 3, [batch: 323 / 359], examples_per_second: 11572.4752, train_label_loss: 0.2387, \n"
     ]
    },
    {
     "name": "stdout",
     "output_type": "stream",
     "text": [
      "=============================================================\n",
      "epoch: 3, source_val_acc_label: 0.9534, source_val_label_loss: 0.3140, target_val_acc_label: 0.6870, target_val_label_loss: 1.4841, \n",
      "=============================================================\n"
     ]
    },
    {
     "name": "stdout",
     "output_type": "stream",
     "text": [
      "New best\n",
      "epoch: 4, [batch: 1 / 359], examples_per_second: 143.5167, train_label_loss: 0.3634, \n"
     ]
    },
    {
     "name": "stdout",
     "output_type": "stream",
     "text": [
      "epoch: 4, [batch: 36 / 359], examples_per_second: 11577.5230, train_label_loss: 0.3582, \n"
     ]
    },
    {
     "name": "stdout",
     "output_type": "stream",
     "text": [
      "epoch: 4, [batch: 72 / 359], examples_per_second: 11642.7382, train_label_loss: 0.2307, \n"
     ]
    },
    {
     "name": "stdout",
     "output_type": "stream",
     "text": [
      "epoch: 4, [batch: 108 / 359], examples_per_second: 11655.5098, train_label_loss: 0.1806, \n"
     ]
    },
    {
     "name": "stdout",
     "output_type": "stream",
     "text": [
      "epoch: 4, [batch: 144 / 359], examples_per_second: 11782.6722, train_label_loss: 0.2611, \n"
     ]
    },
    {
     "name": "stdout",
     "output_type": "stream",
     "text": [
      "epoch: 4, [batch: 180 / 359], examples_per_second: 11646.6250, train_label_loss: 0.2793, \n"
     ]
    },
    {
     "name": "stdout",
     "output_type": "stream",
     "text": [
      "epoch: 4, [batch: 215 / 359], examples_per_second: 11607.5321, train_label_loss: 0.2758, \n"
     ]
    },
    {
     "name": "stdout",
     "output_type": "stream",
     "text": [
      "epoch: 4, [batch: 251 / 359], examples_per_second: 11670.9940, train_label_loss: 0.1334, \n"
     ]
    },
    {
     "name": "stdout",
     "output_type": "stream",
     "text": [
      "epoch: 4, [batch: 287 / 359], examples_per_second: 11516.1808, train_label_loss: 0.2294, \n"
     ]
    },
    {
     "name": "stdout",
     "output_type": "stream",
     "text": [
      "epoch: 4, [batch: 323 / 359], examples_per_second: 11600.4951, train_label_loss: 0.2287, \n"
     ]
    },
    {
     "name": "stdout",
     "output_type": "stream",
     "text": [
      "=============================================================\n",
      "epoch: 4, source_val_acc_label: 0.9592, source_val_label_loss: 0.2370, target_val_acc_label: 0.7121, target_val_label_loss: 1.4122, \n",
      "=============================================================\n"
     ]
    },
    {
     "name": "stdout",
     "output_type": "stream",
     "text": [
      "New best\n",
      "epoch: 5, [batch: 1 / 359], examples_per_second: 144.4235, train_label_loss: 0.1877, \n"
     ]
    },
    {
     "name": "stdout",
     "output_type": "stream",
     "text": [
      "epoch: 5, [batch: 36 / 359], examples_per_second: 11583.8323, train_label_loss: 0.2279, \n"
     ]
    },
    {
     "name": "stdout",
     "output_type": "stream",
     "text": [
      "epoch: 5, [batch: 72 / 359], examples_per_second: 11678.6951, train_label_loss: 0.1761, \n"
     ]
    },
    {
     "name": "stdout",
     "output_type": "stream",
     "text": [
      "epoch: 5, [batch: 108 / 359], examples_per_second: 11637.3683, train_label_loss: 0.3127, \n"
     ]
    },
    {
     "name": "stdout",
     "output_type": "stream",
     "text": [
      "epoch: 5, [batch: 144 / 359], examples_per_second: 11509.6382, train_label_loss: 0.1819, \n"
     ]
    },
    {
     "name": "stdout",
     "output_type": "stream",
     "text": [
      "epoch: 5, [batch: 180 / 359], examples_per_second: 11563.5435, train_label_loss: 0.1463, \n"
     ]
    },
    {
     "name": "stdout",
     "output_type": "stream",
     "text": [
      "epoch: 5, [batch: 215 / 359], examples_per_second: 11602.8876, train_label_loss: 0.1952, \n"
     ]
    },
    {
     "name": "stdout",
     "output_type": "stream",
     "text": [
      "epoch: 5, [batch: 251 / 359], examples_per_second: 11562.8517, train_label_loss: 0.1746, \n"
     ]
    },
    {
     "name": "stdout",
     "output_type": "stream",
     "text": [
      "epoch: 5, [batch: 287 / 359], examples_per_second: 11773.2482, train_label_loss: 0.1505, \n"
     ]
    },
    {
     "name": "stdout",
     "output_type": "stream",
     "text": [
      "epoch: 5, [batch: 323 / 359], examples_per_second: 11667.1966, train_label_loss: 0.2409, \n"
     ]
    },
    {
     "name": "stdout",
     "output_type": "stream",
     "text": [
      "=============================================================\n",
      "epoch: 5, source_val_acc_label: 0.9531, source_val_label_loss: 0.2674, target_val_acc_label: 0.6671, target_val_label_loss: 1.6291, \n",
      "=============================================================\n"
     ]
    },
    {
     "name": "stdout",
     "output_type": "stream",
     "text": [
      "epoch: 6, [batch: 1 / 359], examples_per_second: 146.8507, train_label_loss: 0.0850, \n"
     ]
    },
    {
     "name": "stdout",
     "output_type": "stream",
     "text": [
      "epoch: 6, [batch: 36 / 359], examples_per_second: 11236.1895, train_label_loss: 0.1774, \n"
     ]
    },
    {
     "name": "stdout",
     "output_type": "stream",
     "text": [
      "epoch: 6, [batch: 72 / 359], examples_per_second: 11545.4938, train_label_loss: 0.2229, \n"
     ]
    },
    {
     "name": "stdout",
     "output_type": "stream",
     "text": [
      "epoch: 6, [batch: 108 / 359], examples_per_second: 11543.1631, train_label_loss: 0.0792, \n"
     ]
    },
    {
     "name": "stdout",
     "output_type": "stream",
     "text": [
      "epoch: 6, [batch: 144 / 359], examples_per_second: 11616.6572, train_label_loss: 0.0844, \n"
     ]
    },
    {
     "name": "stdout",
     "output_type": "stream",
     "text": [
      "epoch: 6, [batch: 180 / 359], examples_per_second: 11682.0552, train_label_loss: 0.1375, \n"
     ]
    },
    {
     "name": "stdout",
     "output_type": "stream",
     "text": [
      "epoch: 6, [batch: 215 / 359], examples_per_second: 11668.2296, train_label_loss: 0.0754, \n"
     ]
    },
    {
     "name": "stdout",
     "output_type": "stream",
     "text": [
      "epoch: 6, [batch: 251 / 359], examples_per_second: 11552.2912, train_label_loss: 0.1437, \n"
     ]
    },
    {
     "name": "stdout",
     "output_type": "stream",
     "text": [
      "epoch: 6, [batch: 287 / 359], examples_per_second: 11434.3346, train_label_loss: 0.0849, \n"
     ]
    },
    {
     "name": "stdout",
     "output_type": "stream",
     "text": [
      "epoch: 6, [batch: 323 / 359], examples_per_second: 11384.0513, train_label_loss: 0.1530, \n"
     ]
    },
    {
     "name": "stdout",
     "output_type": "stream",
     "text": [
      "=============================================================\n",
      "epoch: 6, source_val_acc_label: 0.9704, source_val_label_loss: 0.1781, target_val_acc_label: 0.7053, target_val_label_loss: 1.4124, \n",
      "=============================================================\n"
     ]
    },
    {
     "name": "stdout",
     "output_type": "stream",
     "text": [
      "epoch: 7, [batch: 1 / 359], examples_per_second: 149.4362, train_label_loss: 0.1419, \n"
     ]
    },
    {
     "name": "stdout",
     "output_type": "stream",
     "text": [
      "epoch: 7, [batch: 36 / 359], examples_per_second: 11371.5890, train_label_loss: 0.1802, \n"
     ]
    },
    {
     "name": "stdout",
     "output_type": "stream",
     "text": [
      "epoch: 7, [batch: 72 / 359], examples_per_second: 11913.4696, train_label_loss: 0.1296, \n"
     ]
    },
    {
     "name": "stdout",
     "output_type": "stream",
     "text": [
      "epoch: 7, [batch: 108 / 359], examples_per_second: 11590.6581, train_label_loss: 0.2605, \n"
     ]
    },
    {
     "name": "stdout",
     "output_type": "stream",
     "text": [
      "epoch: 7, [batch: 144 / 359], examples_per_second: 11637.0529, train_label_loss: 0.1625, \n"
     ]
    },
    {
     "name": "stdout",
     "output_type": "stream",
     "text": [
      "epoch: 7, [batch: 180 / 359], examples_per_second: 11369.1180, train_label_loss: 0.0786, \n"
     ]
    },
    {
     "name": "stdout",
     "output_type": "stream",
     "text": [
      "epoch: 7, [batch: 215 / 359], examples_per_second: 11738.8934, train_label_loss: 0.1794, \n"
     ]
    },
    {
     "name": "stdout",
     "output_type": "stream",
     "text": [
      "epoch: 7, [batch: 251 / 359], examples_per_second: 11830.0481, train_label_loss: 0.0333, \n"
     ]
    },
    {
     "name": "stdout",
     "output_type": "stream",
     "text": [
      "epoch: 7, [batch: 287 / 359], examples_per_second: 11769.9574, train_label_loss: 0.1696, \n"
     ]
    },
    {
     "name": "stdout",
     "output_type": "stream",
     "text": [
      "epoch: 7, [batch: 323 / 359], examples_per_second: 11647.7480, train_label_loss: 0.1207, \n"
     ]
    },
    {
     "name": "stdout",
     "output_type": "stream",
     "text": [
      "=============================================================\n",
      "epoch: 7, source_val_acc_label: 0.9673, source_val_label_loss: 0.1765, target_val_acc_label: 0.7133, target_val_label_loss: 1.4952, \n",
      "=============================================================\n"
     ]
    },
    {
     "name": "stdout",
     "output_type": "stream",
     "text": [
      "New best\n",
      "epoch: 8, [batch: 1 / 359], examples_per_second: 150.6506, train_label_loss: 0.1505, \n"
     ]
    },
    {
     "name": "stdout",
     "output_type": "stream",
     "text": [
      "epoch: 8, [batch: 36 / 359], examples_per_second: 11549.6348, train_label_loss: 0.2480, \n"
     ]
    },
    {
     "name": "stdout",
     "output_type": "stream",
     "text": [
      "epoch: 8, [batch: 72 / 359], examples_per_second: 11735.6101, train_label_loss: 0.1701, \n"
     ]
    },
    {
     "name": "stdout",
     "output_type": "stream",
     "text": [
      "epoch: 8, [batch: 108 / 359], examples_per_second: 11535.6878, train_label_loss: 0.1117, \n"
     ]
    },
    {
     "name": "stdout",
     "output_type": "stream",
     "text": [
      "epoch: 8, [batch: 144 / 359], examples_per_second: 11743.1113, train_label_loss: 0.0583, \n"
     ]
    },
    {
     "name": "stdout",
     "output_type": "stream",
     "text": [
      "epoch: 8, [batch: 180 / 359], examples_per_second: 11645.0882, train_label_loss: 0.0994, \n"
     ]
    },
    {
     "name": "stdout",
     "output_type": "stream",
     "text": [
      "epoch: 8, [batch: 215 / 359], examples_per_second: 11833.8628, train_label_loss: 0.0790, \n"
     ]
    },
    {
     "name": "stdout",
     "output_type": "stream",
     "text": [
      "epoch: 8, [batch: 251 / 359], examples_per_second: 11675.4428, train_label_loss: 0.1942, \n"
     ]
    },
    {
     "name": "stdout",
     "output_type": "stream",
     "text": [
      "epoch: 8, [batch: 287 / 359], examples_per_second: 11622.6720, train_label_loss: 0.0422, \n"
     ]
    },
    {
     "name": "stdout",
     "output_type": "stream",
     "text": [
      "epoch: 8, [batch: 323 / 359], examples_per_second: 11839.9113, train_label_loss: 0.0820, \n"
     ]
    },
    {
     "name": "stdout",
     "output_type": "stream",
     "text": [
      "=============================================================\n",
      "epoch: 8, source_val_acc_label: 0.9704, source_val_label_loss: 0.1643, target_val_acc_label: 0.7177, target_val_label_loss: 1.5139, \n",
      "=============================================================\n"
     ]
    },
    {
     "name": "stdout",
     "output_type": "stream",
     "text": [
      "New best\n",
      "epoch: 9, [batch: 1 / 359], examples_per_second: 147.9115, train_label_loss: 0.1197, \n"
     ]
    },
    {
     "name": "stdout",
     "output_type": "stream",
     "text": [
      "epoch: 9, [batch: 36 / 359], examples_per_second: 11510.2916, train_label_loss: 0.1487, \n"
     ]
    },
    {
     "name": "stdout",
     "output_type": "stream",
     "text": [
      "epoch: 9, [batch: 72 / 359], examples_per_second: 11748.2508, train_label_loss: 0.0273, \n"
     ]
    },
    {
     "name": "stdout",
     "output_type": "stream",
     "text": [
      "epoch: 9, [batch: 108 / 359], examples_per_second: 11770.4806, train_label_loss: 0.1032, \n"
     ]
    },
    {
     "name": "stdout",
     "output_type": "stream",
     "text": [
      "epoch: 9, [batch: 144 / 359], examples_per_second: 11717.1902, train_label_loss: 0.0674, \n"
     ]
    },
    {
     "name": "stdout",
     "output_type": "stream",
     "text": [
      "epoch: 9, [batch: 180 / 359], examples_per_second: 11662.9160, train_label_loss: 0.1871, \n"
     ]
    },
    {
     "name": "stdout",
     "output_type": "stream",
     "text": [
      "epoch: 9, [batch: 215 / 359], examples_per_second: 11684.8020, train_label_loss: 0.0641, \n"
     ]
    },
    {
     "name": "stdout",
     "output_type": "stream",
     "text": [
      "epoch: 9, [batch: 251 / 359], examples_per_second: 11668.8660, train_label_loss: 0.1764, \n"
     ]
    },
    {
     "name": "stdout",
     "output_type": "stream",
     "text": [
      "epoch: 9, [batch: 287 / 359], examples_per_second: 11666.8867, train_label_loss: 0.0700, \n"
     ]
    },
    {
     "name": "stdout",
     "output_type": "stream",
     "text": [
      "epoch: 9, [batch: 323 / 359], examples_per_second: 11621.2044, train_label_loss: 0.0912, \n"
     ]
    },
    {
     "name": "stdout",
     "output_type": "stream",
     "text": [
      "=============================================================\n",
      "epoch: 9, source_val_acc_label: 0.9704, source_val_label_loss: 0.1663, target_val_acc_label: 0.7039, target_val_label_loss: 1.5446, \n",
      "=============================================================\n"
     ]
    },
    {
     "name": "stdout",
     "output_type": "stream",
     "text": [
      "epoch: 10, [batch: 1 / 359], examples_per_second: 149.2482, train_label_loss: 0.0365, \n"
     ]
    },
    {
     "name": "stdout",
     "output_type": "stream",
     "text": [
      "epoch: 10, [batch: 36 / 359], examples_per_second: 11345.2446, train_label_loss: 0.0989, \n"
     ]
    },
    {
     "name": "stdout",
     "output_type": "stream",
     "text": [
      "epoch: 10, [batch: 72 / 359], examples_per_second: 11740.1368, train_label_loss: 0.1000, \n"
     ]
    },
    {
     "name": "stdout",
     "output_type": "stream",
     "text": [
      "epoch: 10, [batch: 108 / 359], examples_per_second: 11661.0442, train_label_loss: 0.0786, \n"
     ]
    },
    {
     "name": "stdout",
     "output_type": "stream",
     "text": [
      "epoch: 10, [batch: 144 / 359], examples_per_second: 11750.6007, train_label_loss: 0.1353, \n"
     ]
    },
    {
     "name": "stdout",
     "output_type": "stream",
     "text": [
      "epoch: 10, [batch: 180 / 359], examples_per_second: 11685.0922, train_label_loss: 0.1344, \n"
     ]
    },
    {
     "name": "stdout",
     "output_type": "stream",
     "text": [
      "epoch: 10, [batch: 215 / 359], examples_per_second: 11689.1051, train_label_loss: 0.0860, \n"
     ]
    },
    {
     "name": "stdout",
     "output_type": "stream",
     "text": [
      "epoch: 10, [batch: 251 / 359], examples_per_second: 11792.7156, train_label_loss: 0.0958, \n"
     ]
    },
    {
     "name": "stdout",
     "output_type": "stream",
     "text": [
      "epoch: 10, [batch: 287 / 359], examples_per_second: 11750.7150, train_label_loss: 0.0830, \n"
     ]
    },
    {
     "name": "stdout",
     "output_type": "stream",
     "text": [
      "epoch: 10, [batch: 323 / 359], examples_per_second: 11597.0913, train_label_loss: 0.0928, \n"
     ]
    },
    {
     "name": "stdout",
     "output_type": "stream",
     "text": [
      "=============================================================\n",
      "epoch: 10, source_val_acc_label: 0.9711, source_val_label_loss: 0.1662, target_val_acc_label: 0.6943, target_val_label_loss: 1.6685, \n",
      "=============================================================\n"
     ]
    },
    {
     "name": "stdout",
     "output_type": "stream",
     "text": [
      "epoch: 11, [batch: 1 / 359], examples_per_second: 150.6973, train_label_loss: 0.0240, \n"
     ]
    },
    {
     "name": "stdout",
     "output_type": "stream",
     "text": [
      "epoch: 11, [batch: 36 / 359], examples_per_second: 11337.8309, train_label_loss: 0.0565, \n"
     ]
    },
    {
     "name": "stdout",
     "output_type": "stream",
     "text": [
      "epoch: 11, [batch: 72 / 359], examples_per_second: 11666.6191, train_label_loss: 0.0322, \n"
     ]
    },
    {
     "name": "stdout",
     "output_type": "stream",
     "text": [
      "epoch: 11, [batch: 108 / 359], examples_per_second: 11699.0333, train_label_loss: 0.0247, \n"
     ]
    },
    {
     "name": "stdout",
     "output_type": "stream",
     "text": [
      "epoch: 11, [batch: 144 / 359], examples_per_second: 11543.7284, train_label_loss: 0.1128, \n"
     ]
    },
    {
     "name": "stdout",
     "output_type": "stream",
     "text": [
      "epoch: 11, [batch: 180 / 359], examples_per_second: 11688.3499, train_label_loss: 0.0470, \n"
     ]
    },
    {
     "name": "stdout",
     "output_type": "stream",
     "text": [
      "epoch: 11, [batch: 215 / 359], examples_per_second: 11869.8194, train_label_loss: 0.0710, \n"
     ]
    },
    {
     "name": "stdout",
     "output_type": "stream",
     "text": [
      "epoch: 11, [batch: 251 / 359], examples_per_second: 11707.6508, train_label_loss: 0.0370, \n"
     ]
    },
    {
     "name": "stdout",
     "output_type": "stream",
     "text": [
      "epoch: 11, [batch: 287 / 359], examples_per_second: 11759.4160, train_label_loss: 0.0141, \n"
     ]
    },
    {
     "name": "stdout",
     "output_type": "stream",
     "text": [
      "epoch: 11, [batch: 323 / 359], examples_per_second: 11598.4066, train_label_loss: 0.0420, \n"
     ]
    },
    {
     "name": "stdout",
     "output_type": "stream",
     "text": [
      "=============================================================\n",
      "epoch: 11, source_val_acc_label: 0.9656, source_val_label_loss: 0.1917, target_val_acc_label: 0.6849, target_val_label_loss: 1.6636, \n",
      "=============================================================\n"
     ]
    },
    {
     "name": "stdout",
     "output_type": "stream",
     "text": [
      "epoch: 12, [batch: 1 / 359], examples_per_second: 154.9961, train_label_loss: 0.0473, \n"
     ]
    },
    {
     "name": "stdout",
     "output_type": "stream",
     "text": [
      "epoch: 12, [batch: 36 / 359], examples_per_second: 12199.3777, train_label_loss: 0.0213, \n"
     ]
    },
    {
     "name": "stdout",
     "output_type": "stream",
     "text": [
      "epoch: 12, [batch: 72 / 359], examples_per_second: 12514.7571, train_label_loss: 0.0497, \n"
     ]
    },
    {
     "name": "stdout",
     "output_type": "stream",
     "text": [
      "epoch: 12, [batch: 108 / 359], examples_per_second: 12549.8379, train_label_loss: 0.0345, \n"
     ]
    },
    {
     "name": "stdout",
     "output_type": "stream",
     "text": [
      "epoch: 12, [batch: 144 / 359], examples_per_second: 12548.6157, train_label_loss: 0.0290, \n"
     ]
    },
    {
     "name": "stdout",
     "output_type": "stream",
     "text": [
      "epoch: 12, [batch: 180 / 359], examples_per_second: 12319.7302, train_label_loss: 0.1117, \n"
     ]
    },
    {
     "name": "stdout",
     "output_type": "stream",
     "text": [
      "epoch: 12, [batch: 215 / 359], examples_per_second: 12459.7716, train_label_loss: 0.0657, \n"
     ]
    },
    {
     "name": "stdout",
     "output_type": "stream",
     "text": [
      "epoch: 12, [batch: 251 / 359], examples_per_second: 12360.8433, train_label_loss: 0.0224, \n"
     ]
    },
    {
     "name": "stdout",
     "output_type": "stream",
     "text": [
      "epoch: 12, [batch: 287 / 359], examples_per_second: 12794.2250, train_label_loss: 0.0646, \n"
     ]
    },
    {
     "name": "stdout",
     "output_type": "stream",
     "text": [
      "epoch: 12, [batch: 323 / 359], examples_per_second: 12247.2450, train_label_loss: 0.0768, \n"
     ]
    },
    {
     "name": "stdout",
     "output_type": "stream",
     "text": [
      "=============================================================\n",
      "epoch: 12, source_val_acc_label: 0.9133, source_val_label_loss: 0.3707, target_val_acc_label: 0.6556, target_val_label_loss: 1.9484, \n",
      "=============================================================\n"
     ]
    },
    {
     "name": "stdout",
     "output_type": "stream",
     "text": [
      "Patience (3) exhausted\n"
     ]
    }
   ],
   "source": [
    "jig = Vanilla_Train_Eval_Test_Jig(\n",
    "    model=model,\n",
    "    path_to_best_model=p.BEST_MODEL_PATH,\n",
    "    device=p.device,\n",
    "    label_loss_object=torch.nn.NLLLoss(),\n",
    ")\n",
    "\n",
    "jig.train(\n",
    "    train_iterable=datasets.source.processed.train,\n",
    "    source_val_iterable=datasets.source.processed.val,\n",
    "    target_val_iterable=datasets.target.processed.val,\n",
    "    patience=p.patience,\n",
    "    num_epochs=p.n_epoch,\n",
    "    num_logs_per_epoch=p.NUM_LOGS_PER_EPOCH,\n",
    "    criteria_for_best=p.criteria_for_best\n",
    ")"
   ]
  },
  {
   "cell_type": "code",
   "execution_count": 14,
   "id": "4bc2ac17",
   "metadata": {
    "execution": {
     "iopub.execute_input": "2022-03-26T02:06:17.299352Z",
     "iopub.status.busy": "2022-03-26T02:06:17.298981Z",
     "iopub.status.idle": "2022-03-26T02:06:17.301530Z",
     "shell.execute_reply": "2022-03-26T02:06:17.301836Z"
    },
    "papermill": {
     "duration": 0.059751,
     "end_time": "2022-03-26T02:06:17.301919",
     "exception": false,
     "start_time": "2022-03-26T02:06:17.242168",
     "status": "completed"
    },
    "tags": []
   },
   "outputs": [],
   "source": [
    "total_experiment_time_secs = time.time() - start_time_secs"
   ]
  },
  {
   "cell_type": "code",
   "execution_count": 15,
   "id": "cae88f23",
   "metadata": {
    "execution": {
     "iopub.execute_input": "2022-03-26T02:06:17.416428Z",
     "iopub.status.busy": "2022-03-26T02:06:17.414854Z",
     "iopub.status.idle": "2022-03-26T02:06:29.022656Z",
     "shell.execute_reply": "2022-03-26T02:06:29.021738Z"
    },
    "papermill": {
     "duration": 11.66727,
     "end_time": "2022-03-26T02:06:29.022838",
     "exception": false,
     "start_time": "2022-03-26T02:06:17.355568",
     "status": "completed"
    },
    "tags": []
   },
   "outputs": [],
   "source": [
    "source_test_label_accuracy, source_test_label_loss = jig.test(datasets.source.processed.test)\n",
    "target_test_label_accuracy, target_test_label_loss = jig.test(datasets.target.processed.test)\n",
    "\n",
    "source_val_label_accuracy, source_val_label_loss = jig.test(datasets.source.processed.val)\n",
    "target_val_label_accuracy, target_val_label_loss = jig.test(datasets.target.processed.val)\n",
    "\n",
    "history = jig.get_history()\n",
    "\n",
    "total_epochs_trained = len(history[\"epoch_indices\"])\n",
    "\n",
    "val_dl = wrap_in_dataloader(p, Sequence_Aggregator((datasets.source.original.val, datasets.target.original.val)))\n",
    "\n",
    "confusion = confusion_by_domain_over_dataloader(model, p.device, val_dl, forward_uses_domain=False)\n",
    "per_domain_accuracy = per_domain_accuracy_from_confusion(confusion)\n",
    "\n",
    "# Add a key to per_domain_accuracy for if it was a source domain\n",
    "for domain, accuracy in per_domain_accuracy.items():\n",
    "    per_domain_accuracy[domain] = {\n",
    "        \"accuracy\": accuracy,\n",
    "        \"source?\": domain in p.domains_source\n",
    "    }\n",
    "\n",
    "# Do an independent accuracy assesment JUST TO BE SURE!\n",
    "# _source_test_label_accuracy = independent_accuracy_assesment(model, datasets.source.processed.test, p.device)\n",
    "# _target_test_label_accuracy = independent_accuracy_assesment(model, datasets.target.processed.test, p.device)\n",
    "# _source_val_label_accuracy = independent_accuracy_assesment(model, datasets.source.processed.val, p.device)\n",
    "# _target_val_label_accuracy = independent_accuracy_assesment(model, datasets.target.processed.val, p.device)\n",
    "\n",
    "# assert(_source_test_label_accuracy == source_test_label_accuracy)\n",
    "# assert(_target_test_label_accuracy == target_test_label_accuracy)\n",
    "# assert(_source_val_label_accuracy == source_val_label_accuracy)\n",
    "# assert(_target_val_label_accuracy == target_val_label_accuracy)\n",
    "\n",
    "###################################\n",
    "# Write out the results\n",
    "###################################\n",
    "\n",
    "experiment = {\n",
    "    \"experiment_name\": p.experiment_name,\n",
    "    \"parameters\": p,\n",
    "    \"results\": {\n",
    "        \"source_test_label_accuracy\": source_test_label_accuracy,\n",
    "        \"source_test_label_loss\": source_test_label_loss,\n",
    "        \"target_test_label_accuracy\": target_test_label_accuracy,\n",
    "        \"target_test_label_loss\": target_test_label_loss,\n",
    "        \"source_val_label_accuracy\": source_val_label_accuracy,\n",
    "        \"source_val_label_loss\": source_val_label_loss,\n",
    "        \"target_val_label_accuracy\": target_val_label_accuracy,\n",
    "        \"target_val_label_loss\": target_val_label_loss,\n",
    "        \"total_epochs_trained\": total_epochs_trained,\n",
    "        \"total_experiment_time_secs\": total_experiment_time_secs,\n",
    "        \"confusion\": confusion,\n",
    "        \"per_domain_accuracy\": per_domain_accuracy,\n",
    "    },\n",
    "    \"history\": history,\n",
    "    \"dataset_metrics\": get_dataset_metrics(datasets, \"cnn\"),\n",
    "}"
   ]
  },
  {
   "cell_type": "code",
   "execution_count": 16,
   "id": "74c318cf",
   "metadata": {
    "execution": {
     "iopub.execute_input": "2022-03-26T02:06:29.435684Z",
     "iopub.status.busy": "2022-03-26T02:06:29.154812Z",
     "iopub.status.idle": "2022-03-26T02:06:29.611792Z",
     "shell.execute_reply": "2022-03-26T02:06:29.612497Z"
    },
    "papermill": {
     "duration": 0.532518,
     "end_time": "2022-03-26T02:06:29.612723",
     "exception": false,
     "start_time": "2022-03-26T02:06:29.080205",
     "status": "completed"
    },
    "tags": []
   },
   "outputs": [
    {
     "data": {
      "text/plain": [
       "<AxesSubplot:title={'center':'Source Train Label Loss vs Source Val Label Loss'}, xlabel='Epoch'>"
      ]
     },
     "execution_count": 16,
     "metadata": {},
     "output_type": "execute_result"
    },
    {
     "data": {
      "image/png": "[encoded data removed]",
      "text/plain": [
       "<Figure size 1080x504 with 1 Axes>"
      ]
     },
     "metadata": {
      "needs_background": "light"
     },
     "output_type": "display_data"
    }
   ],
   "source": [
    "get_loss_curve(experiment)"
   ]
  },
  {
   "cell_type": "code",
   "execution_count": 17,
   "id": "59376601",
   "metadata": {
    "execution": {
     "iopub.execute_input": "2022-03-26T02:06:29.747025Z",
     "iopub.status.busy": "2022-03-26T02:06:29.746189Z",
     "iopub.status.idle": "2022-03-26T02:06:30.048374Z",
     "shell.execute_reply": "2022-03-26T02:06:30.049084Z"
    },
    "papermill": {
     "duration": 0.380885,
     "end_time": "2022-03-26T02:06:30.049296",
     "exception": false,
     "start_time": "2022-03-26T02:06:29.668411",
     "status": "completed"
    },
    "tags": []
   },
   "outputs": [
    {
     "data": {
      "text/plain": [
       "<AxesSubplot:title={'center':'Results'}>"
      ]
     },
     "execution_count": 17,
     "metadata": {},
     "output_type": "execute_result"
    },
    {
     "data": {
      "image/png": "[encoded data removed]",
      "text/plain": [
       "<Figure size 1080x504 with 1 Axes>"
      ]
     },
     "metadata": {
      "needs_background": "light"
     },
     "output_type": "display_data"
    }
   ],
   "source": [
    "get_results_table(experiment)"
   ]
  },
  {
   "cell_type": "code",
   "execution_count": 18,
   "id": "e80c5c98",
   "metadata": {
    "execution": {
     "iopub.execute_input": "2022-03-26T02:06:30.184672Z",
     "iopub.status.busy": "2022-03-26T02:06:30.183838Z",
     "iopub.status.idle": "2022-03-26T02:06:30.326130Z",
     "shell.execute_reply": "2022-03-26T02:06:30.325277Z"
    },
    "papermill": {
     "duration": 0.218334,
     "end_time": "2022-03-26T02:06:30.326317",
     "exception": false,
     "start_time": "2022-03-26T02:06:30.107983",
     "status": "completed"
    },
    "tags": []
   },
   "outputs": [
    {
     "data": {
      "text/plain": [
       "<AxesSubplot:title={'center':'Per Domain Accuracy'}, xlabel='domain'>"
      ]
     },
     "execution_count": 18,
     "metadata": {},
     "output_type": "execute_result"
    },
    {
     "data": {
      "image/png": "[encoded data removed]",
      "text/plain": [
       "<Figure size 1080x504 with 1 Axes>"
      ]
     },
     "metadata": {
      "needs_background": "light"
     },
     "output_type": "display_data"
    }
   ],
   "source": [
    "get_domain_accuracies(experiment)"
   ]
  },
  {
   "cell_type": "code",
   "execution_count": 19,
   "id": "086fdd10",
   "metadata": {
    "execution": {
     "iopub.execute_input": "2022-03-26T02:06:30.442762Z",
     "iopub.status.busy": "2022-03-26T02:06:30.442158Z",
     "iopub.status.idle": "2022-03-26T02:06:30.446279Z",
     "shell.execute_reply": "2022-03-26T02:06:30.445719Z"
    },
    "papermill": {
     "duration": 0.0623,
     "end_time": "2022-03-26T02:06:30.446386",
     "exception": false,
     "start_time": "2022-03-26T02:06:30.384086",
     "status": "completed"
    },
    "tags": []
   },
   "outputs": [
    {
     "name": "stdout",
     "output_type": "stream",
     "text": [
      "Source Test Label Accuracy: 0.9693990167552925 Target Test Label Accuracy: 0.7199395576131687\n",
      "Source Val Label Accuracy: 0.9704498977505113 Target Val Label Accuracy: 0.717687074829932\n"
     ]
    }
   ],
   "source": [
    "print(\"Source Test Label Accuracy:\", experiment[\"results\"][\"source_test_label_accuracy\"], \"Target Test Label Accuracy:\", experiment[\"results\"][\"target_test_label_accuracy\"])\n",
    "print(\"Source Val Label Accuracy:\", experiment[\"results\"][\"source_val_label_accuracy\"], \"Target Val Label Accuracy:\", experiment[\"results\"][\"target_val_label_accuracy\"])"
   ]
  },
  {
   "cell_type": "code",
   "execution_count": 20,
   "id": "9f450536",
   "metadata": {
    "execution": {
     "iopub.execute_input": "2022-03-26T02:06:30.563622Z",
     "iopub.status.busy": "2022-03-26T02:06:30.563221Z",
     "iopub.status.idle": "2022-03-26T02:06:30.567273Z",
     "shell.execute_reply": "2022-03-26T02:06:30.566709Z"
    },
    "papermill": {
     "duration": 0.062839,
     "end_time": "2022-03-26T02:06:30.567379",
     "exception": false,
     "start_time": "2022-03-26T02:06:30.504540",
     "status": "completed"
    },
    "tags": [
     "experiment_json"
    ]
   },
   "outputs": [
    {
     "data": {
      "text/plain": [
       "'{\"experiment_name\": \"cnn_1:wisig\", \"parameters\": {\"experiment_name\": \"cnn_1:wisig\", \"labels\": [\"1-10\", \"1-12\", \"1-14\", \"1-16\", \"1-18\", \"1-19\", \"1-8\", \"10-11\", \"10-17\", \"10-4\", \"10-7\", \"11-1\", \"11-10\", \"11-19\", \"11-20\", \"11-4\", \"11-7\", \"12-19\", \"12-20\", \"12-7\", \"13-14\", \"13-18\", \"13-19\", \"13-20\", \"13-3\", \"13-7\", \"14-10\", \"14-11\", \"14-12\", \"14-13\", \"14-14\", \"14-19\", \"14-20\", \"14-7\", \"14-8\", \"14-9\", \"15-1\", \"15-19\", \"15-6\", \"16-1\", \"16-16\", \"16-19\", \"16-20\", \"17-10\", \"17-11\", \"18-1\", \"18-10\", \"18-11\", \"18-12\", \"18-13\", \"18-14\", \"18-15\", \"18-16\", \"18-17\", \"18-19\", \"18-2\", \"18-20\", \"18-4\", \"18-5\", \"18-7\", \"18-8\", \"18-9\", \"19-1\", \"19-10\", \"19-11\", \"19-12\", \"19-13\", \"19-14\", \"19-15\", \"19-19\", \"19-2\", \"19-20\", \"19-3\", \"19-4\", \"19-6\", \"19-7\", \"19-8\", \"19-9\", \"2-1\", \"2-13\", \"2-15\", \"2-3\", \"2-4\", \"2-5\", \"2-6\", \"2-7\", \"2-8\", \"20-1\", \"20-12\", \"20-14\", \"20-15\", \"20-16\", \"20-18\", \"20-19\", \"20-20\", \"20-3\", \"20-4\", \"20-5\", \"20-7\", \"20-8\", \"3-1\", \"3-13\", \"3-18\", \"3-2\", \"3-8\", \"4-1\", \"4-10\", \"4-11\", \"5-1\", \"5-5\", \"6-1\", \"6-15\", \"6-6\", \"7-10\", \"7-11\", \"7-12\", \"7-13\", \"7-14\", \"7-7\", \"7-8\", \"7-9\", \"8-1\", \"8-13\", \"8-14\", \"8-18\", \"8-20\", \"8-3\", \"8-8\", \"9-1\", \"9-7\"], \"domains_source\": [3], \"domains_target\": [1, 2, 4], \"pickle_name_target\": \"wisig.node3-19.stratified_ds.2022A.pkl\", \"pickle_name_source\": \"wisig.node3-19.stratified_ds.2022A.pkl\", \"device\": \"cuda\", \"lr\": 0.0001, \"batch_size\": 128, \"normalize_source\": false, \"normalize_target\": false, \"num_examples_per_domain_per_label_source\": -1, \"num_examples_per_domain_per_label_target\": -1, \"torch_default_dtype\": \"torch.float32\", \"n_epoch\": 50, \"patience\": 3, \"criteria_for_best\": \"target_accuracy\", \"x_net\": [{\"class\": \"nnReshape\", \"kargs\": {\"shape\": [-1, 1, 2, 256]}}, {\"class\": \"Conv2d\", \"kargs\": {\"in_channels\": 1, \"out_channels\": 256, \"kernel_size\": [1, 7], \"bias\": false, \"padding\": [0, 3]}}, {\"class\": \"ReLU\", \"kargs\": {\"inplace\": true}}, {\"class\": \"BatchNorm2d\", \"kargs\": {\"num_features\": 256}}, {\"class\": \"Conv2d\", \"kargs\": {\"in_channels\": 256, \"out_channels\": 80, \"kernel_size\": [2, 7], \"bias\": true, \"padding\": [0, 3]}}, {\"class\": \"ReLU\", \"kargs\": {\"inplace\": true}}, {\"class\": \"BatchNorm2d\", \"kargs\": {\"num_features\": 80}}, {\"class\": \"Flatten\", \"kargs\": {}}, {\"class\": \"Linear\", \"kargs\": {\"in_features\": 20480, \"out_features\": 256}}, {\"class\": \"ReLU\", \"kargs\": {\"inplace\": true}}, {\"class\": \"BatchNorm1d\", \"kargs\": {\"num_features\": 256}}, {\"class\": \"Linear\", \"kargs\": {\"in_features\": 256, \"out_features\": 130}}], \"NUM_LOGS_PER_EPOCH\": 10, \"BEST_MODEL_PATH\": \"./best_model.pth\", \"dataset_seed\": 154325, \"seed\": 154325}, \"results\": {\"source_test_label_accuracy\": 0.9693990167552925, \"source_test_label_loss\": 0.1697919043019796, \"target_test_label_accuracy\": 0.7199395576131687, \"target_test_label_loss\": 1.510251056264948, \"source_val_label_accuracy\": 0.9704498977505113, \"source_val_label_loss\": 0.16369624866487145, \"target_val_label_accuracy\": 0.717687074829932, \"target_val_label_loss\": 1.5140502148592323, \"total_epochs_trained\": 12, \"total_experiment_time_secs\": 73.51377272605896, \"confusion\": {\"3\": {\"111\": {\"111\": 166, \"71\": 1}, \"88\": {\"88\": 131, \"70\": 8, \"24\": 1, \"21\": 1}, \"128\": {\"128\": 39, \"18\": 1}, \"90\": {\"90\": 231, \"124\": 1, \"8\": 1, \"125\": 1}, \"12\": {\"12\": 129, \"122\": 1, \"1\": 1}, \"110\": {\"110\": 110, \"2\": 2, \"113\": 2, \"11\": 2, \"43\": 1, \"70\": 1}, \"52\": {\"52\": 24}, \"39\": {\"39\": 132, \"43\": 1, \"21\": 2, \"126\": 1}, \"126\": {\"126\": 156, \"39\": 1, \"43\": 1, \"1\": 1}, \"121\": {\"70\": 1, \"121\": 39}, \"84\": {\"84\": 131, \"126\": 2, \"21\": 2}, \"14\": {\"14\": 103}, \"67\": {\"67\": 20, \"121\": 1, \"123\": 1}, \"125\": {\"125\": 158, \"6\": 1, \"121\": 1}, \"33\": {\"33\": 195, \"102\": 1}, \"16\": {\"16\": 144, \"110\": 1, \"21\": 1, \"88\": 1, \"70\": 1, \"113\": 1}, \"108\": {\"108\": 176, \"1\": 2, \"16\": 1}, \"18\": {\"18\": 163, \"8\": 1, \"126\": 1}, \"105\": {\"105\": 156, \"122\": 1}, \"3\": {\"3\": 142, \"113\": 1, \"21\": 3, \"70\": 1, \"32\": 1, \"98\": 1}, \"72\": {\"72\": 38}, \"113\": {\"113\": 147, \"1\": 1, \"34\": 1, \"43\": 1}, \"40\": {\"40\": 158, \"21\": 3, \"43\": 1}, \"93\": {\"93\": 206, \"89\": 1}, \"127\": {\"127\": 160, \"88\": 1}, \"0\": {\"0\": 143, \"87\": 1, \"113\": 1}, \"1\": {\"1\": 137, \"7\": 1}, \"71\": {\"71\": 82, \"21\": 2, \"88\": 1, \"114\": 1}, \"7\": {\"7\": 141, \"88\": 1, \"21\": 1}, \"31\": {\"31\": 25}, \"100\": {\"100\": 24}, \"11\": {\"11\": 191}, \"21\": {\"21\": 57, \"16\": 1, \"88\": 1, \"69\": 1, \"24\": 1, \"70\": 2, \"37\": 1}, \"109\": {\"109\": 160, \"68\": 1}, \"27\": {\"27\": 91, \"36\": 26, \"108\": 3, \"21\": 2}, \"15\": {\"15\": 129, \"113\": 1, \"69\": 1}, \"85\": {\"85\": 46}, \"81\": {\"81\": 42, \"6\": 1}, \"124\": {\"124\": 154, \"33\": 1, \"125\": 1}, \"117\": {\"117\": 143}, \"91\": {\"91\": 30, \"58\": 1, \"82\": 1, \"96\": 1}, \"36\": {\"36\": 161, \"1\": 1, \"27\": 2}, \"87\": {\"87\": 150, \"71\": 1, \"16\": 1, \"21\": 1}, \"70\": {\"70\": 86, \"113\": 3, \"21\": 1, \"88\": 2, \"71\": 2}, \"94\": {\"94\": 105, \"113\": 1}, \"98\": {\"98\": 160, \"88\": 1, \"121\": 1, \"90\": 1, \"105\": 1}, \"59\": {\"59\": 17}, \"30\": {\"30\": 102, \"51\": 1, \"21\": 3, \"108\": 1, \"124\": 1}, \"56\": {\"56\": 17}, \"34\": {\"34\": 40}, \"106\": {\"106\": 128, \"21\": 1}, \"6\": {\"6\": 42, \"128\": 1}, \"26\": {\"26\": 166, \"122\": 1}, \"5\": {\"5\": 139, \"21\": 2, \"71\": 1}, \"97\": {\"97\": 25, \"15\": 1, \"21\": 1, \"73\": 1}, \"24\": {\"24\": 40, \"27\": 11, \"86\": 1, \"36\": 10, \"108\": 1}, \"107\": {\"107\": 183}, \"22\": {\"37\": 1, \"22\": 22, \"51\": 1}, \"122\": {\"122\": 70, \"113\": 3, \"71\": 2, \"87\": 1, \"110\": 1}, \"120\": {\"120\": 24, \"37\": 1, \"33\": 1}, \"42\": {\"42\": 36, \"36\": 1}, \"123\": {\"123\": 20, \"2\": 1}, \"102\": {\"102\": 158, \"116\": 1}, \"114\": {\"114\": 162, \"71\": 1, \"127\": 1}, \"64\": {\"64\": 25}, \"69\": {\"69\": 101, \"16\": 1, \"21\": 4, \"6\": 1, \"111\": 1, \"105\": 1}, \"104\": {\"104\": 21, \"3\": 1}, \"95\": {\"95\": 38, \"113\": 1, \"25\": 1}, \"92\": {\"92\": 42}, \"82\": {\"82\": 37}, \"89\": {\"89\": 38, \"82\": 1}, \"10\": {\"10\": 161, \"70\": 1}, \"57\": {\"57\": 26}, \"96\": {\"96\": 27}, \"49\": {\"49\": 32}, \"48\": {\"48\": 22}, \"2\": {\"2\": 37}, \"43\": {\"43\": 62, \"87\": 1, \"39\": 1, \"24\": 1, \"113\": 1, \"11\": 2, \"16\": 1, \"21\": 1}, \"8\": {\"8\": 168, \"16\": 2, \"21\": 1, \"43\": 1}, \"76\": {\"76\": 20, \"33\": 1, \"40\": 1}, \"79\": {\"79\": 19}, \"62\": {\"62\": 157, \"82\": 1, \"21\": 1}, \"86\": {\"86\": 37, \"116\": 1, \"122\": 1}, \"83\": {\"83\": 34}, \"74\": {\"74\": 19, \"33\": 1, \"65\": 1, \"57\": 1}, \"77\": {\"77\": 24}, \"116\": {\"116\": 38}, \"101\": {\"101\": 63, \"87\": 1, \"21\": 4}, \"29\": {\"29\": 41, \"112\": 1}, \"4\": {\"4\": 119, \"16\": 1, \"125\": 1, \"122\": 1, \"126\": 1}, \"118\": {\"118\": 125, \"113\": 1, \"39\": 1}, \"73\": {\"73\": 50, \"21\": 1, \"76\": 1}, \"99\": {\"99\": 49}, \"9\": {\"9\": 40}, \"20\": {\"20\": 23}, \"44\": {\"44\": 88, \"90\": 1, \"60\": 1, \"92\": 1}, \"55\": {\"55\": 24}, \"47\": {\"47\": 15, \"90\": 1}, \"68\": {\"68\": 19, \"124\": 1}, \"41\": {\"41\": 21, \"37\": 1}, \"103\": {\"103\": 24}, \"112\": {\"112\": 22, \"30\": 1, \"96\": 1}, \"35\": {\"35\": 16, \"126\": 1}, \"38\": {\"38\": 22}, \"63\": {\"32\": 1, \"63\": 20}, \"50\": {\"50\": 23, \"94\": 1}, \"32\": {\"32\": 41}, \"45\": {\"45\": 21, \"32\": 1}, \"78\": {\"78\": 14, \"21\": 5, \"70\": 1, \"71\": 2, \"113\": 1, \"1\": 1}, \"54\": {\"54\": 24}, \"25\": {\"25\": 21, \"18\": 1}, \"23\": {\"23\": 42, \"60\": 1}, \"65\": {\"65\": 18}, \"17\": {\"17\": 17, \"2\": 1, \"39\": 1, \"21\": 1, \"113\": 1}, \"115\": {\"115\": 20, \"21\": 1}, \"80\": {\"80\": 20}, \"28\": {\"28\": 24}, \"66\": {\"66\": 23, \"51\": 1}, \"129\": {\"129\": 42}, \"37\": {\"37\": 24}, \"75\": {\"75\": 22}, \"13\": {\"13\": 14, \"23\": 1, \"21\": 1, \"69\": 1, \"70\": 1, \"1\": 1, \"16\": 1}, \"46\": {\"46\": 22, \"98\": 1}, \"61\": {\"61\": 24}, \"51\": {\"51\": 24}, \"58\": {\"58\": 23}, \"19\": {\"19\": 39, \"66\": 1}, \"53\": {\"53\": 25}, \"60\": {\"60\": 33, \"110\": 1, \"12\": 2, \"108\": 1}, \"119\": {\"119\": 23, \"6\": 1}}, \"4\": {\"0\": {\"0\": 139, \"43\": 1, \"88\": 4, \"30\": 1, \"21\": 1, \"87\": 2, \"10\": 1}, \"69\": {\"69\": 157, \"21\": 3, \"71\": 1, \"62\": 2, \"70\": 1}, \"43\": {\"87\": 73, \"43\": 68, \"21\": 1, \"11\": 3, \"113\": 1, \"70\": 4, \"122\": 2, \"106\": 1}, \"90\": {\"90\": 223, \"33\": 2}, \"126\": {\"126\": 105, \"39\": 48, \"88\": 3, \"21\": 1, \"43\": 1, \"70\": 1}, \"88\": {\"70\": 53, \"88\": 109, \"108\": 2, \"21\": 1, \"81\": 1, \"127\": 1}, \"15\": {\"15\": 124, \"94\": 29, \"30\": 3, \"21\": 3, \"88\": 3, \"106\": 1, \"97\": 1}, \"113\": {\"113\": 156, \"88\": 5, \"89\": 1}, \"71\": {\"71\": 125, \"12\": 1, \"114\": 1, \"60\": 1, \"3\": 1, \"11\": 1}, \"93\": {\"93\": 196, \"60\": 2, \"23\": 1, \"110\": 5, \"49\": 1, \"96\": 2, \"17\": 1, \"16\": 1}, \"11\": {\"108\": 133, \"8\": 54, \"11\": 2, \"49\": 2, \"88\": 1, \"21\": 1, \"23\": 2, \"60\": 1}, \"1\": {\"1\": 125, \"70\": 1, \"25\": 1, \"118\": 1, \"34\": 1, \"81\": 1, \"42\": 1, \"86\": 1, \"28\": 1, \"88\": 1, \"107\": 1}, \"86\": {\"86\": 34, \"102\": 1, \"103\": 1}, \"109\": {\"109\": 128, \"43\": 4, \"21\": 3, \"39\": 7, \"10\": 1, \"121\": 1, \"110\": 1, \"78\": 1, \"81\": 1, \"16\": 1}, \"105\": {\"105\": 101, \"40\": 12, \"21\": 6, \"88\": 5, \"71\": 1, \"1\": 1, \"121\": 1}, \"118\": {\"118\": 130, \"88\": 4, \"109\": 4, \"126\": 1, \"21\": 1}, \"18\": {\"18\": 147, \"88\": 3, \"122\": 1, \"21\": 1, \"1\": 2}, \"53\": {\"114\": 19, \"128\": 1, \"47\": 2, \"21\": 1, \"72\": 1}, \"106\": {\"106\": 141, \"69\": 1, \"71\": 1, \"113\": 2, \"21\": 1, \"122\": 1, \"12\": 1}, \"21\": {\"21\": 45, \"74\": 1, \"1\": 1, \"113\": 2, \"126\": 1, \"88\": 3}, \"38\": {\"44\": 7, \"92\": 5, \"113\": 2, \"84\": 1, \"33\": 1, \"90\": 5}, \"27\": {\"108\": 84, \"27\": 30, \"21\": 4, \"24\": 1, \"88\": 2, \"36\": 1, \"70\": 1, \"8\": 1, \"113\": 1, \"126\": 1, \"43\": 1}, \"3\": {\"3\": 131, \"114\": 31, \"88\": 3, \"117\": 1, \"49\": 1, \"71\": 1, \"21\": 3}, \"76\": {\"76\": 22}, \"75\": {\"75\": 20}, \"94\": {\"94\": 107, \"88\": 2, \"36\": 1}, \"111\": {\"111\": 174, \"88\": 1, \"21\": 3, \"16\": 1}, \"12\": {\"12\": 123, \"88\": 1, \"21\": 2, \"71\": 1, \"45\": 1}, \"63\": {\"63\": 24}, \"95\": {\"128\": 5, \"105\": 15, \"127\": 16, \"72\": 1, \"88\": 1, \"56\": 3, \"71\": 2}, \"52\": {\"52\": 23, \"51\": 1, \"114\": 2}, \"30\": {\"30\": 90, \"1\": 1, \"71\": 3, \"113\": 1, \"16\": 1}, \"33\": {\"33\": 193, \"88\": 1, \"128\": 1}, \"70\": {\"70\": 126, \"108\": 23, \"21\": 1, \"88\": 4, \"126\": 1}, \"96\": {\"60\": 4, \"14\": 2, \"110\": 2, \"16\": 13, \"118\": 3, \"93\": 3, \"43\": 1, \"99\": 1}, \"124\": {\"7\": 1, \"124\": 149, \"111\": 1, \"32\": 1}, \"4\": {\"4\": 122, \"88\": 3, \"71\": 1, \"94\": 1, \"16\": 1, \"21\": 2}, \"7\": {\"7\": 129, \"87\": 21, \"21\": 3, \"88\": 3, \"0\": 1, \"33\": 1}, \"8\": {\"8\": 180, \"88\": 2, \"110\": 2}, \"14\": {\"14\": 137, \"21\": 2, \"113\": 1, \"94\": 1}, \"24\": {\"24\": 102, \"108\": 4, \"70\": 9, \"27\": 23, \"122\": 1, \"88\": 7, \"21\": 1, \"1\": 1, \"126\": 1, \"71\": 2}, \"123\": {\"123\": 21, \"2\": 1}, \"127\": {\"127\": 129, \"102\": 1, \"21\": 3, \"39\": 1, \"7\": 1}, \"16\": {\"118\": 148, \"21\": 4, \"36\": 1, \"16\": 2, \"18\": 2, \"88\": 1, \"62\": 1}, \"84\": {\"84\": 160, \"16\": 1, \"78\": 1, \"21\": 1, \"88\": 5}, \"87\": {\"87\": 163, \"0\": 1, \"43\": 2, \"88\": 1, \"122\": 2}, \"122\": {\"122\": 91, \"88\": 3, \"21\": 1, \"87\": 2, \"43\": 6, \"1\": 1, \"118\": 1, \"11\": 1}, \"85\": {\"98\": 10, \"90\": 16, \"3\": 1, \"88\": 1, \"91\": 3, \"34\": 6, \"103\": 1}, \"22\": {\"22\": 21, \"76\": 1, \"81\": 1}, \"36\": {\"36\": 127, \"27\": 7, \"21\": 2, \"94\": 24, \"24\": 1, \"113\": 2, \"126\": 1}, \"97\": {\"37\": 1, \"108\": 8, \"70\": 5, \"24\": 9, \"27\": 4, \"82\": 1}, \"67\": {\"64\": 1, \"67\": 10, \"115\": 12}, \"102\": {\"102\": 166, \"21\": 4}, \"81\": {\"81\": 47, \"88\": 1}, \"39\": {\"39\": 117, \"21\": 6, \"122\": 1, \"109\": 1, \"1\": 1, \"126\": 1, \"113\": 1}, \"121\": {\"121\": 40, \"33\": 1}, \"5\": {\"114\": 150, \"1\": 12, \"53\": 7, \"81\": 1, \"88\": 1, \"21\": 1}, \"114\": {\"114\": 159, \"126\": 1, \"21\": 1, \"71\": 1}, \"107\": {\"107\": 178, \"21\": 1, \"33\": 1, \"102\": 1}, \"92\": {\"89\": 35, \"19\": 1}, \"66\": {\"90\": 22, \"116\": 1}, \"10\": {\"70\": 141, \"88\": 6, \"21\": 3, \"108\": 3, \"128\": 1, \"1\": 1}, \"28\": {\"79\": 7, \"66\": 5, \"32\": 11, \"20\": 2, \"124\": 1}, \"100\": {\"100\": 22, \"20\": 1, \"16\": 2}, \"116\": {\"116\": 37}, \"13\": {\"13\": 21, \"112\": 1}, \"58\": {\"58\": 23}, \"40\": {\"40\": 169, \"21\": 2, \"16\": 1}, \"117\": {\"117\": 157, \"21\": 1}, \"98\": {\"98\": 146, \"44\": 3, \"88\": 1, \"128\": 1, \"81\": 1}, \"80\": {\"80\": 19, \"123\": 1}, \"9\": {\"73\": 1, \"42\": 13, \"83\": 17, \"49\": 3, \"36\": 2}, \"115\": {\"86\": 9, \"70\": 1, \"115\": 10}, \"125\": {\"125\": 187, \"6\": 1, \"124\": 1, \"33\": 1}, \"119\": {\"65\": 5, \"5\": 10, \"90\": 4, \"121\": 2, \"98\": 1}, \"20\": {\"20\": 24}, \"41\": {\"31\": 10, \"5\": 1, \"73\": 3, \"52\": 6, \"34\": 2, \"6\": 1, \"59\": 1}, \"32\": {\"32\": 35, \"88\": 1}, \"110\": {\"110\": 143, \"122\": 3, \"21\": 4, \"60\": 3, \"1\": 1, \"88\": 1, \"43\": 5, \"113\": 1, \"11\": 2, \"118\": 1}, \"108\": {\"108\": 73, \"88\": 14, \"70\": 13, \"11\": 7, \"21\": 3, \"126\": 2, \"39\": 3, \"1\": 1, \"94\": 1, \"10\": 1}, \"19\": {\"19\": 36, \"113\": 1}, \"74\": {\"90\": 5, \"20\": 13, \"33\": 1, \"23\": 1, \"116\": 1, \"114\": 1}, \"34\": {\"34\": 38, \"106\": 1, \"60\": 1, \"73\": 1}, \"49\": {\"49\": 28, \"25\": 2, \"97\": 9, \"88\": 1}, \"101\": {\"0\": 156, \"88\": 4, \"106\": 1, \"107\": 1, \"101\": 2, \"21\": 1, \"122\": 1, \"121\": 1}, \"73\": {\"46\": 7, \"129\": 20, \"21\": 2, \"82\": 1}, \"82\": {\"95\": 30, \"55\": 10, \"88\": 1, \"126\": 1, \"21\": 1}, \"26\": {\"26\": 159, \"71\": 1, \"16\": 1}, \"2\": {\"2\": 38}, \"44\": {\"44\": 80, \"33\": 2, \"18\": 1, \"92\": 1}, \"57\": {\"32\": 13, \"103\": 9, \"90\": 1}, \"83\": {\"42\": 1, \"53\": 32, \"83\": 1, \"88\": 1, \"20\": 1, \"81\": 1}, \"89\": {\"35\": 38, \"88\": 1, \"95\": 2}, \"42\": {\"42\": 36, \"128\": 1, \"96\": 1}, \"103\": {\"58\": 21, \"88\": 1, \"128\": 1, \"107\": 1}, \"62\": {\"62\": 70, \"122\": 1, \"71\": 1, \"16\": 1, \"88\": 1, \"70\": 1, \"109\": 1, \"21\": 2}, \"60\": {\"60\": 37, \"23\": 1, \"110\": 2}, \"25\": {\"25\": 24}, \"91\": {\"91\": 31, \"68\": 1}, \"17\": {\"17\": 26}, \"31\": {\"50\": 20, \"89\": 4}, \"77\": {\"98\": 18}, \"104\": {\"104\": 23}, \"79\": {\"79\": 21, \"42\": 1}, \"29\": {\"72\": 38, \"65\": 1, \"48\": 1}, \"129\": {\"129\": 36, \"82\": 1}, \"112\": {\"112\": 21, \"21\": 1, \"85\": 1, \"88\": 1}, \"51\": {\"51\": 11, \"88\": 2, \"39\": 1, \"98\": 4, \"126\": 1, \"21\": 1}, \"45\": {\"45\": 22}, \"120\": {\"32\": 9, \"45\": 7, \"91\": 8, \"66\": 2}, \"6\": {\"6\": 30, \"73\": 2, \"124\": 1}, \"128\": {\"88\": 1, \"128\": 29, \"44\": 2, \"96\": 1}, \"78\": {\"21\": 21, \"78\": 18, \"70\": 4, \"16\": 1, \"88\": 1, \"126\": 2, \"43\": 1}, \"99\": {\"99\": 46, \"11\": 3, \"16\": 1, \"88\": 1}, \"59\": {\"59\": 18, \"6\": 1}, \"37\": {\"91\": 8, \"77\": 13, \"41\": 2, \"58\": 1}, \"23\": {\"23\": 10, \"96\": 3, \"88\": 2, \"121\": 1, \"113\": 1, \"71\": 1, \"43\": 1, \"110\": 1}, \"68\": {\"128\": 2, \"68\": 17, \"59\": 1, \"73\": 2, \"86\": 1}, \"47\": {\"56\": 14, \"21\": 1, \"41\": 2, \"6\": 2}, \"61\": {\"61\": 21, \"76\": 1, \"88\": 1}, \"64\": {\"104\": 10, \"91\": 7, \"38\": 5, \"115\": 1}, \"56\": {\"41\": 1, \"56\": 16}, \"65\": {\"65\": 19}, \"48\": {\"48\": 23}, \"72\": {\"127\": 17, \"31\": 15, \"60\": 1, \"23\": 1, \"87\": 3, \"113\": 2, \"45\": 1}, \"55\": {\"55\": 22}, \"54\": {\"54\": 23}, \"50\": {\"82\": 10, \"5\": 12, \"4\": 1, \"110\": 1}, \"46\": {\"46\": 21, \"20\": 1, \"114\": 2, \"23\": 1}, \"35\": {\"61\": 17}}, \"2\": {\"12\": {\"21\": 6, \"12\": 103, \"1\": 1, \"88\": 1}, \"124\": {\"124\": 153, \"118\": 1, \"121\": 1, \"21\": 1, \"102\": 1}, \"74\": {\"88\": 2, \"74\": 20, \"62\": 1, \"57\": 1}, \"127\": {\"127\": 151, \"106\": 1, \"72\": 1, \"88\": 1, \"70\": 1, \"21\": 1}, \"62\": {\"62\": 170, \"88\": 3, \"21\": 1, \"109\": 1}, \"21\": {\"21\": 57, \"71\": 1, \"88\": 2, \"1\": 1, \"16\": 1}, \"69\": {\"69\": 169, \"88\": 5, \"21\": 3, \"26\": 1}, \"2\": {\"2\": 39, \"7\": 1}, \"70\": {\"70\": 128, \"88\": 4, \"39\": 9, \"21\": 9, \"78\": 5, \"36\": 1}, \"18\": {\"18\": 155, \"88\": 3, \"70\": 1, \"113\": 1, \"21\": 1}, \"30\": {\"30\": 100, \"0\": 29, \"88\": 7, \"87\": 1, \"21\": 1, \"11\": 1, \"70\": 1, \"4\": 1}, \"105\": {\"40\": 151, \"7\": 9, \"87\": 3, \"21\": 2}, \"59\": {\"91\": 15, \"68\": 3, \"21\": 1, \"88\": 1}, \"3\": {\"3\": 168, \"6\": 1, \"21\": 3, \"88\": 1}, \"39\": {\"21\": 9, \"39\": 115, \"78\": 4, \"43\": 11, \"88\": 5}, \"83\": {\"28\": 1, \"114\": 5, \"53\": 36, \"64\": 5, \"20\": 1, \"96\": 1, \"19\": 1}, \"93\": {\"93\": 133, \"16\": 66, \"98\": 1, \"96\": 1, \"21\": 1, \"110\": 1, \"113\": 5, \"60\": 1}, \"26\": {\"26\": 169, \"88\": 4, \"69\": 1, \"21\": 5}, \"8\": {\"8\": 154, \"11\": 3, \"88\": 1, \"21\": 1, \"94\": 1, \"32\": 1}, \"111\": {\"111\": 177, \"88\": 3}, \"52\": {\"25\": 22, \"42\": 1, \"99\": 2, \"92\": 1}, \"109\": {\"78\": 33, \"21\": 16, \"39\": 56, \"70\": 6, \"43\": 10, \"61\": 1, \"88\": 1, \"71\": 1, \"109\": 1}, \"90\": {\"90\": 235, \"33\": 1, \"121\": 1, \"125\": 1}, \"24\": {\"108\": 10, \"21\": 4, \"70\": 51, \"88\": 39, \"24\": 31, \"27\": 4, \"113\": 1}, \"108\": {\"108\": 174, \"27\": 1, \"21\": 1}, \"13\": {\"13\": 20, \"32\": 1, \"18\": 1, \"86\": 1}, \"42\": {\"42\": 34, \"88\": 2}, \"36\": {\"36\": 137, \"94\": 18, \"88\": 3, \"21\": 3, \"71\": 1}, \"81\": {\"117\": 28, \"18\": 2, \"81\": 1, \"8\": 1, \"70\": 1}, \"117\": {\"117\": 147, \"21\": 3, \"88\": 1}, \"113\": {\"113\": 93, \"21\": 1}, \"4\": {\"4\": 112, \"21\": 1, \"113\": 1}, \"101\": {\"101\": 198, \"0\": 2}, \"1\": {\"1\": 154, \"21\": 1, \"32\": 1, \"36\": 1}, \"33\": {\"71\": 1, \"33\": 180, \"21\": 2, \"114\": 1, \"88\": 1}, \"106\": {\"106\": 147, \"21\": 1, \"88\": 2, \"94\": 1, \"12\": 1}, \"31\": {\"50\": 18, \"62\": 2, \"107\": 2, \"18\": 1, \"14\": 2, \"84\": 1}, \"43\": {\"87\": 79, \"43\": 67, \"21\": 3, \"88\": 2, \"110\": 1, \"70\": 1, \"127\": 1, \"4\": 1, \"122\": 1}, \"102\": {\"102\": 154, \"88\": 1, \"51\": 1, \"90\": 1}, \"94\": {\"94\": 74, \"88\": 2, \"21\": 5}, \"84\": {\"84\": 116, \"3\": 1, \"21\": 1}, \"104\": {\"104\": 27, \"70\": 1}, \"34\": {\"34\": 40, \"125\": 1, \"90\": 1}, \"65\": {\"65\": 23, \"2\": 1, \"121\": 2, \"102\": 1}, \"128\": {\"128\": 31, \"114\": 1}, \"7\": {\"7\": 166, \"21\": 1, \"87\": 1}, \"88\": {\"88\": 118, \"70\": 23, \"21\": 3, \"39\": 12}, \"78\": {\"78\": 49, \"21\": 11, \"70\": 2, \"113\": 1}, \"98\": {\"98\": 147, \"44\": 2, \"21\": 3, \"33\": 1}, \"126\": {\"24\": 10, \"108\": 102, \"70\": 31, \"88\": 2, \"6\": 1, \"39\": 4}, \"76\": {\"76\": 24}, \"53\": {\"85\": 21, \"19\": 1, \"114\": 1, \"31\": 1}, \"75\": {\"75\": 22, \"88\": 1, \"113\": 1}, \"58\": {\"58\": 24, \"88\": 1, \"97\": 1, \"51\": 1}, \"0\": {\"30\": 39, \"0\": 101, \"101\": 4, \"81\": 1, \"88\": 1, \"21\": 2}, \"50\": {\"50\": 22}, \"23\": {\"96\": 1, \"23\": 50, \"98\": 1, \"70\": 1, \"110\": 2, \"87\": 2, \"88\": 2}, \"91\": {\"91\": 34, \"37\": 1}, \"87\": {\"87\": 113, \"43\": 13, \"88\": 7, \"21\": 4, \"70\": 4, \"113\": 1, \"39\": 1}, \"125\": {\"125\": 205, \"121\": 1}, \"116\": {\"116\": 37}, \"10\": {\"10\": 73, \"88\": 2, \"21\": 2, \"78\": 1}, \"71\": {\"71\": 114, \"21\": 4, \"3\": 4, \"12\": 2, \"98\": 2, \"88\": 3}, \"15\": {\"15\": 128, \"94\": 18, \"88\": 3, \"21\": 2}, \"16\": {\"16\": 143, \"21\": 6, \"88\": 2, \"99\": 1, \"118\": 1, \"11\": 1, \"110\": 1}, \"85\": {\"85\": 43}, \"121\": {\"121\": 41, \"88\": 3, \"21\": 1}, \"64\": {\"121\": 1, \"38\": 14, \"104\": 7, \"88\": 1, \"91\": 1}, \"114\": {\"114\": 143, \"21\": 4}, \"40\": {\"40\": 172, \"122\": 1, \"69\": 1, \"88\": 3, \"21\": 1}, \"110\": {\"127\": 5, \"110\": 44, \"122\": 1, \"60\": 1, \"97\": 1, \"95\": 1, \"118\": 1}, \"46\": {\"112\": 14, \"53\": 2, \"5\": 8}, \"48\": {\"48\": 24, \"79\": 1}, \"115\": {\"103\": 19}, \"44\": {\"44\": 117, \"1\": 2, \"98\": 1, \"31\": 2, \"49\": 7}, \"103\": {\"58\": 24}, \"73\": {\"46\": 23, \"129\": 11, \"105\": 1, \"21\": 1, \"72\": 1}, \"89\": {\"89\": 48, \"27\": 1}, \"11\": {\"108\": 52, \"94\": 48, \"21\": 3}, \"27\": {\"36\": 66, \"21\": 3, \"27\": 15, \"88\": 3, \"24\": 1, \"71\": 1}, \"5\": {\"5\": 138, \"21\": 2, \"88\": 2}, \"95\": {\"40\": 38, \"7\": 5, \"9\": 2, \"21\": 1}, \"19\": {\"19\": 39}, \"28\": {\"91\": 19, \"66\": 6, \"106\": 1, \"88\": 1}, \"51\": {\"98\": 12, \"51\": 10, \"75\": 1, \"88\": 1, \"25\": 1}, \"25\": {\"25\": 21}, \"122\": {\"122\": 154, \"30\": 9, \"110\": 3, \"70\": 1, \"21\": 3, \"87\": 3, \"0\": 1, \"88\": 3}, \"63\": {\"111\": 14, \"74\": 9, \"18\": 1, \"21\": 1, \"121\": 1}, \"120\": {\"120\": 24, \"121\": 1}, \"22\": {\"22\": 25}, \"9\": {\"54\": 28, \"73\": 8, \"25\": 6, \"35\": 1, \"75\": 1}, \"118\": {\"118\": 80, \"21\": 3, \"37\": 1, \"87\": 1, \"109\": 1}, \"82\": {\"82\": 41, \"88\": 1, \"21\": 2, \"124\": 1}, \"67\": {\"115\": 21, \"21\": 1, \"2\": 1, \"88\": 1}, \"6\": {\"6\": 42}, \"57\": {\"67\": 8, \"116\": 3, \"20\": 7, \"121\": 6, \"76\": 1}, \"107\": {\"107\": 75, \"21\": 5, \"68\": 1, \"36\": 2, \"128\": 1}, \"29\": {\"72\": 27, \"91\": 13, \"125\": 1, \"51\": 1, \"28\": 2}, \"97\": {\"97\": 24, \"86\": 1, \"12\": 1, \"0\": 2}, \"92\": {\"89\": 27, \"76\": 3, \"98\": 1, \"94\": 1, \"21\": 4}, \"45\": {\"45\": 23, \"35\": 1}, \"14\": {\"14\": 54, \"21\": 4, \"88\": 2, \"71\": 1, \"1\": 1}, \"60\": {\"60\": 37, \"86\": 1, \"88\": 1}, \"72\": {\"93\": 28, \"16\": 8, \"88\": 1, \"21\": 1, \"14\": 1}, \"80\": {\"115\": 19, \"45\": 1}, \"96\": {\"93\": 20, \"60\": 2, \"23\": 3, \"125\": 1, \"33\": 1, \"110\": 1}, \"38\": {\"95\": 17, \"7\": 1, \"33\": 3, \"90\": 1}, \"119\": {\"64\": 7, \"121\": 8, \"102\": 6, \"13\": 4, \"100\": 2}, \"49\": {\"49\": 23, \"98\": 1, \"88\": 2, \"19\": 3, \"89\": 1, \"112\": 1}, \"61\": {\"33\": 5, \"40\": 9, \"7\": 1, \"57\": 3, \"88\": 2, \"32\": 2, \"9\": 2, \"48\": 1}, \"54\": {\"40\": 1, \"9\": 25, \"88\": 1}, \"41\": {\"29\": 3, \"6\": 14, \"92\": 1, \"73\": 5, \"3\": 1, \"88\": 1}, \"112\": {\"129\": 9, \"112\": 9, \"98\": 1, \"73\": 1, \"19\": 4}, \"35\": {\"35\": 17, \"62\": 1}, \"123\": {\"77\": 6, \"116\": 2, \"121\": 11, \"129\": 3, \"5\": 1}, \"32\": {\"32\": 43, \"72\": 1, \"74\": 1, \"65\": 1}, \"86\": {\"45\": 25, \"77\": 5, \"115\": 1, \"104\": 6, \"58\": 5, \"124\": 1}, \"37\": {\"41\": 1, \"77\": 22, \"82\": 1}, \"68\": {\"68\": 21, \"21\": 1, \"94\": 1}, \"17\": {\"17\": 22, \"41\": 1, \"104\": 1}, \"99\": {\"119\": 32, \"23\": 7, \"53\": 2}, \"20\": {\"96\": 14, \"23\": 5, \"64\": 1, \"81\": 3, \"49\": 1}, \"79\": {\"77\": 6, \"58\": 6, \"6\": 2, \"57\": 4, \"65\": 1, \"115\": 1}, \"55\": {\"55\": 24}, \"100\": {\"46\": 16, \"20\": 6, \"88\": 1, \"53\": 1}, \"66\": {\"66\": 25}, \"47\": {\"47\": 16, \"88\": 1, \"102\": 1, \"6\": 1}, \"56\": {\"56\": 17}, \"77\": {\"77\": 22, \"21\": 1, \"88\": 1}, \"129\": {\"129\": 38, \"42\": 1, \"124\": 1}}, \"1\": {\"32\": {\"72\": 20, \"58\": 5, \"9\": 3, \"128\": 11, \"111\": 1, \"32\": 1}, \"15\": {\"15\": 125, \"21\": 4, \"24\": 1, \"8\": 1, \"36\": 2}, \"108\": {\"108\": 148, \"27\": 1, \"70\": 5, \"29\": 1, \"117\": 1}, \"84\": {\"84\": 158, \"21\": 2, \"12\": 1, \"127\": 9}, \"57\": {\"57\": 19}, \"102\": {\"102\": 150, \"21\": 4}, \"101\": {\"101\": 155, \"14\": 2, \"21\": 1}, \"88\": {\"108\": 154, \"27\": 11, \"70\": 2, \"24\": 4, \"88\": 1, \"36\": 2, \"21\": 1}, \"40\": {\"40\": 179, \"21\": 1}, \"49\": {\"98\": 8, \"25\": 5, \"3\": 1, \"19\": 2, \"54\": 2, \"88\": 1, \"97\": 1, \"49\": 1, \"58\": 3, \"34\": 1}, \"69\": {\"62\": 110, \"118\": 26, \"71\": 1, \"42\": 1}, \"1\": {\"1\": 167, \"21\": 2, \"36\": 1, \"114\": 1}, \"93\": {\"87\": 195, \"21\": 1, \"30\": 2, \"11\": 1, \"0\": 2}, \"77\": {\"99\": 10, \"41\": 7, \"98\": 2, \"88\": 1}, \"62\": {\"62\": 149, \"66\": 1, \"21\": 1}, \"2\": {\"2\": 33, \"121\": 2, \"129\": 1, \"33\": 2, \"123\": 3}, \"89\": {\"52\": 39, \"8\": 2, \"53\": 3, \"106\": 2}, \"107\": {\"107\": 140, \"127\": 14, \"21\": 1}, \"3\": {\"3\": 95, \"114\": 12, \"25\": 1, \"33\": 1, \"36\": 1, \"0\": 1}, \"11\": {\"11\": 161, \"87\": 6, \"108\": 3, \"21\": 2, \"105\": 1}, \"123\": {\"123\": 22, \"74\": 1}, \"4\": {\"4\": 124, \"21\": 3}, \"117\": {\"117\": 179, \"6\": 1}, \"33\": {\"33\": 194, \"21\": 1, \"60\": 1, \"105\": 1}, \"114\": {\"114\": 178, \"21\": 2}, \"16\": {\"16\": 123, \"118\": 10, \"26\": 3, \"18\": 2}, \"126\": {\"108\": 163, \"27\": 3, \"21\": 3, \"24\": 1}, \"127\": {\"127\": 132, \"0\": 1, \"12\": 1, \"21\": 1, \"89\": 1}, \"7\": {\"7\": 165, \"87\": 17, \"21\": 1}, \"39\": {\"39\": 120, \"43\": 8, \"70\": 3, \"11\": 1}, \"90\": {\"90\": 231, \"33\": 1}, \"98\": {\"98\": 136}, \"125\": {\"125\": 219}, \"52\": {\"25\": 22, \"6\": 1, \"128\": 4}, \"72\": {\"72\": 31, \"8\": 2, \"46\": 6, \"16\": 1}, \"82\": {\"82\": 48}, \"113\": {\"26\": 150, \"16\": 1, \"126\": 3, \"21\": 1}, \"106\": {\"12\": 171, \"21\": 1, \"70\": 1, \"106\": 1}, \"124\": {\"124\": 162, \"121\": 1}, \"118\": {\"118\": 101, \"21\": 1, \"109\": 1, \"89\": 1, \"88\": 1}, \"53\": {\"98\": 2, \"73\": 17, \"75\": 5, \"59\": 1}, \"36\": {\"36\": 170, \"21\": 1}, \"41\": {\"90\": 2, \"103\": 14, \"37\": 8}, \"10\": {\"10\": 141, \"78\": 9, \"21\": 1, \"113\": 1}, \"12\": {\"12\": 130, \"94\": 2}, \"23\": {\"49\": 11, \"0\": 9, \"21\": 1, \"113\": 3, \"122\": 1, \"23\": 2, \"30\": 2, \"87\": 1}, \"64\": {\"64\": 21, \"90\": 2}, \"70\": {\"70\": 154, \"88\": 5, \"21\": 1, \"11\": 1}, \"97\": {\"36\": 9, \"27\": 5, \"108\": 12, \"33\": 1}, \"31\": {\"85\": 11, \"60\": 10, \"49\": 1, \"31\": 1}, \"24\": {\"108\": 97, \"21\": 3, \"27\": 13, \"36\": 3}, \"30\": {\"30\": 66, \"121\": 1, \"21\": 1}, \"14\": {\"14\": 120, \"21\": 2}, \"26\": {\"26\": 168, \"126\": 1, \"21\": 1, \"19\": 1, \"62\": 1}, \"48\": {\"48\": 18}, \"95\": {\"61\": 38, \"121\": 1, \"89\": 6, \"93\": 2}, \"105\": {\"105\": 105, \"94\": 1, \"21\": 1, \"101\": 1}, \"122\": {\"122\": 103, \"87\": 7, \"10\": 2}, \"111\": {\"111\": 151, \"21\": 1}, \"25\": {\"79\": 12, \"52\": 3, \"21\": 3, \"20\": 3}, \"85\": {\"95\": 42}, \"18\": {\"113\": 77, \"18\": 80}, \"43\": {\"43\": 57, \"87\": 76, \"70\": 1, \"122\": 4, \"21\": 2, \"10\": 19, \"78\": 1, \"0\": 1, \"11\": 1}, \"60\": {\"23\": 10, \"60\": 10, \"94\": 1, \"110\": 2}, \"8\": {\"8\": 87, \"11\": 91, \"110\": 5}, \"120\": {\"45\": 15, \"32\": 10}, \"86\": {\"59\": 12, \"91\": 27, \"70\": 1, \"29\": 5, \"21\": 1, \"86\": 2}, \"21\": {\"21\": 40, \"70\": 7, \"39\": 1, \"78\": 3}, \"19\": {\"19\": 38}, \"0\": {\"0\": 98, \"70\": 1, \"7\": 2, \"10\": 3, \"125\": 1, \"39\": 1}, \"59\": {\"59\": 17, \"61\": 1, \"90\": 1}, \"51\": {\"75\": 4, \"98\": 15, \"25\": 1, \"34\": 2}, \"44\": {\"60\": 77, \"44\": 8, \"49\": 9, \"12\": 1}, \"58\": {\"58\": 19}, \"9\": {\"36\": 14, \"53\": 14, \"124\": 6, \"49\": 5, \"20\": 1}, \"68\": {\"128\": 3, \"73\": 19, \"68\": 1}, \"71\": {\"94\": 10, \"3\": 111, \"12\": 13, \"127\": 2}, \"92\": {\"95\": 39}, \"61\": {\"124\": 3, \"128\": 6, \"33\": 6, \"48\": 2, \"50\": 1, \"13\": 1}, \"110\": {\"127\": 126, \"122\": 33, \"101\": 4, \"21\": 1}, \"109\": {\"70\": 141, \"108\": 10, \"88\": 5, \"21\": 1, \"2\": 1}, \"47\": {\"85\": 4, \"83\": 8, \"53\": 4, \"73\": 1}, \"100\": {\"85\": 15, \"53\": 4, \"114\": 1, \"82\": 1, \"26\": 1, \"49\": 1}, \"37\": {\"37\": 22}, \"6\": {\"6\": 39, \"25\": 1}, \"94\": {\"94\": 117, \"88\": 1}, \"87\": {\"87\": 129, \"21\": 2, \"122\": 5}, \"115\": {\"80\": 18}, \"79\": {\"79\": 18}, \"56\": {\"18\": 1, \"56\": 17}, \"50\": {\"50\": 4, \"62\": 12, \"106\": 1, \"32\": 2, \"108\": 1, \"127\": 1}, \"75\": {\"127\": 22}, \"5\": {\"5\": 110, \"21\": 2, \"88\": 1, \"20\": 1}, \"38\": {\"38\": 8, \"66\": 2, \"91\": 10}, \"27\": {\"27\": 67, \"36\": 37, \"94\": 3, \"108\": 7, \"21\": 5}, \"99\": {\"52\": 19, \"119\": 5, \"49\": 5, \"42\": 2, \"53\": 1}, \"74\": {\"74\": 22}, \"81\": {\"107\": 32, \"14\": 6}, \"116\": {\"116\": 44}, \"28\": {\"28\": 21, \"108\": 1, \"82\": 1, \"89\": 1, \"27\": 1}, \"35\": {\"35\": 15, \"0\": 2}, \"46\": {\"5\": 2, \"46\": 4, \"115\": 7, \"73\": 1, \"124\": 1, \"6\": 2, \"119\": 1}, \"119\": {\"119\": 24}, \"129\": {\"31\": 1, \"129\": 38}, \"104\": {\"112\": 20, \"42\": 3}, \"66\": {\"28\": 23, \"90\": 1}, \"112\": {\"56\": 1, \"6\": 2, \"19\": 11, \"68\": 1, \"111\": 3, \"98\": 3, \"33\": 1, \"86\": 1}, \"54\": {\"30\": 1, \"53\": 12, \"91\": 6, \"66\": 1, \"125\": 1, \"98\": 2}, \"80\": {\"115\": 21, \"61\": 1}, \"42\": {\"91\": 17, \"42\": 11, \"90\": 4, \"121\": 2, \"116\": 1, \"64\": 1}, \"128\": {\"128\": 34}, \"76\": {\"118\": 14, \"76\": 1, \"62\": 5, \"40\": 2, \"109\": 1, \"84\": 1}, \"73\": {\"129\": 14, \"46\": 9, \"78\": 1, \"70\": 1, \"114\": 3, \"113\": 1}, \"96\": {\"36\": 13, \"96\": 11, \"49\": 3, \"88\": 1}, \"121\": {\"121\": 40, \"27\": 1}, \"67\": {\"115\": 21, \"33\": 1}, \"13\": {\"13\": 22, \"2\": 1}, \"103\": {\"124\": 21, \"21\": 1}, \"65\": {\"74\": 5, \"45\": 1, \"65\": 2, \"57\": 5, \"32\": 1, \"116\": 5}, \"83\": {\"91\": 23, \"19\": 8, \"125\": 1, \"56\": 1, \"73\": 4, \"108\": 1, \"121\": 1}, \"29\": {\"128\": 3, \"8\": 9, \"85\": 21, \"45\": 2, \"20\": 1, \"97\": 1}, \"78\": {\"78\": 17, \"87\": 2, \"21\": 3, \"10\": 2}, \"34\": {\"34\": 36, \"71\": 2, \"114\": 1, \"30\": 1}, \"22\": {\"116\": 13, \"90\": 8, \"89\": 1, \"78\": 2}, \"63\": {\"63\": 17, \"121\": 4, \"116\": 1}, \"20\": {\"20\": 24}, \"45\": {\"45\": 4, \"80\": 6, \"129\": 2, \"21\": 1, \"42\": 1, \"70\": 1}, \"91\": {\"91\": 37, \"19\": 1, \"2\": 1}, \"17\": {\"4\": 3, \"46\": 13, \"125\": 1, \"5\": 3, \"41\": 1, \"17\": 1}, \"55\": {\"55\": 8, \"5\": 3, \"4\": 4, \"19\": 2}}}, \"per_domain_accuracy\": {\"3\": {\"accuracy\": 0.9704498977505113, \"source?\": true}, \"4\": {\"accuracy\": 0.7439272234588212, \"source?\": false}, \"2\": {\"accuracy\": 0.7542958720126407, \"source?\": false}, \"1\": {\"accuracy\": 0.6542453296431748, \"source?\": false}}}, \"history\": {\"epoch_indices\": [1, 2, 3, 4, 5, 6, 7, 8, 9, 10, 11, 12], \"train_label_loss\": [2.6560486551778895, 0.8252717214208459, 0.3883592058855179, 0.2516768160885755, 0.18940050281522003, 0.1526523212951538, 0.12827457300799802, 0.11588425189775511, 0.09593287813360478, 0.08657651805269602, 0.07496404661057636, 0.06848262826079363], \"source_val_label_loss\": [1.279830449587339, 0.5228208473750523, 0.3140139721043698, 0.23698851398446344, 0.26736875981479497, 0.17807257243178107, 0.17647334173708767, 0.16430808802123192, 0.16625639612411525, 0.16616454643088502, 0.19167343319042937, 0.37069781202000457], \"target_val_label_loss\": [2.111216776041805, 1.6364292310371558, 1.4841432167396387, 1.4122024724673028, 1.6291357313738708, 1.4124212793725306, 1.4951576682812997, 1.513907817617121, 1.5445805653368578, 1.6685033752329679, 1.663632192372278, 1.9484000889327238], \"source_val_acc_label\": [0.8477505112474437, 0.9344580777096114, 0.9533742331288344, 0.9592024539877301, 0.9530674846625767, 0.9704498977505113, 0.967280163599182, 0.9704498977505113, 0.9704498977505113, 0.9710633946830266, 0.9656441717791411, 0.9132924335378323], \"target_val_acc_label\": [0.5907247514390371, 0.6666339612768184, 0.6870094191522763, 0.7120617477760335, 0.6671245421245421, 0.7053244374672946, 0.7133045525902669, 0.717687074829932, 0.70391810570382, 0.6943354264782836, 0.6848835688121402, 0.6556449502878074]}, \"dataset_metrics\": {\"source\": {\"train\": {\"n_unique_x\": 45862, \"n_unique_y\": 130, \"n_batch/episode\": 359}, \"val\": {\"n_unique_x\": 9780, \"n_unique_y\": 130, \"n_batch/episode\": 77}, \"test\": {\"n_unique_x\": 9967, \"n_unique_y\": 130, \"n_batch/episode\": 78}}, \"target\": {\"train\": {\"n_unique_x\": 143327, \"n_unique_y\": 130, \"n_batch/episode\": 1120}, \"val\": {\"n_unique_x\": 30576, \"n_unique_y\": 130, \"n_batch/episode\": 239}, \"test\": {\"n_unique_x\": 31104, \"n_unique_y\": 130, \"n_batch/episode\": 243}}}}'"
      ]
     },
     "execution_count": 20,
     "metadata": {},
     "output_type": "execute_result"
    }
   ],
   "source": [
    "json.dumps(experiment)"
   ]
  }
 ],
 "metadata": {
  "celltoolbar": "Tags",
  "kernelspec": {
   "display_name": "Python 3 (ipykernel)",
   "language": "python",
   "name": "python3"
  },
  "language_info": {
   "codemirror_mode": {
    "name": "ipython",
    "version": 3
   },
   "file_extension": ".py",
   "mimetype": "text/x-python",
   "name": "python",
   "nbconvert_exporter": "python",
   "pygments_lexer": "ipython3",
   "version": "3.8.12"
  },
  "papermill": {
   "default_parameters": {},
   "duration": 91.866994,
   "end_time": "2022-03-26T02:06:32.636460",
   "environment_variables": {},
   "exception": null,
   "input_path": "/root/csc500-main/csc500-notebooks/templates/cnn_template.ipynb",
   "output_path": "trial.ipynb",
   "parameters": {
    "parameters": {
     "BEST_MODEL_PATH": "./best_model.pth",
     "NUM_LOGS_PER_EPOCH": 10,
     "batch_size": 128,
     "criteria_for_best": "target_accuracy",
     "dataset_seed": 154325,
     "device": "cuda",
     "domains_source": [
      3
     ],
     "domains_target": [
      1,
      2,
      4
     ],
     "experiment_name": "cnn_1:wisig",
     "labels": [
      "1-10",
      "1-12",
      "1-14",
      "1-16",
      "1-18",
      "1-19",
      "1-8",
      "10-11",
      "10-17",
      "10-4",
      "10-7",
      "11-1",
      "11-10",
      "11-19",
      "11-20",
      "11-4",
      "11-7",
      "12-19",
      "12-20",
      "12-7",
      "13-14",
      "13-18",
      "13-19",
      "13-20",
      "13-3",
      "13-7",
      "14-10",
      "14-11",
      "14-12",
      "14-13",
      "14-14",
      "14-19",
      "14-20",
      "14-7",
      "14-8",
      "14-9",
      "15-1",
      "15-19",
      "15-6",
      "16-1",
      "16-16",
      "16-19",
      "16-20",
      "17-10",
      "17-11",
      "18-1",
      "18-10",
      "18-11",
      "18-12",
      "18-13",
      "18-14",
      "18-15",
      "18-16",
      "18-17",
      "18-19",
      "18-2",
      "18-20",
      "18-4",
      "18-5",
      "18-7",
      "18-8",
      "18-9",
      "19-1",
      "19-10",
      "19-11",
      "19-12",
      "19-13",
      "19-14",
      "19-15",
      "19-19",
      "19-2",
      "19-20",
      "19-3",
      "19-4",
      "19-6",
      "19-7",
      "19-8",
      "19-9",
      "2-1",
      "2-13",
      "2-15",
      "2-3",
      "2-4",
      "2-5",
      "2-6",
      "2-7",
      "2-8",
      "20-1",
      "20-12",
      "20-14",
      "20-15",
      "20-16",
      "20-18",
      "20-19",
      "20-20",
      "20-3",
      "20-4",
      "20-5",
      "20-7",
      "20-8",
      "3-1",
      "3-13",
      "3-18",
      "3-2",
      "3-8",
      "4-1",
      "4-10",
      "4-11",
      "5-1",
      "5-5",
      "6-1",
      "6-15",
      "6-6",
      "7-10",
      "7-11",
      "7-12",
      "7-13",
      "7-14",
      "7-7",
      "7-8",
      "7-9",
      "8-1",
      "8-13",
      "8-14",
      "8-18",
      "8-20",
      "8-3",
      "8-8",
      "9-1",
      "9-7"
     ],
     "lr": 0.0001,
     "n_epoch": 50,
     "normalize_source": false,
     "normalize_target": false,
     "num_examples_per_domain_per_label_source": -1,
     "num_examples_per_domain_per_label_target": -1,
     "patience": 3,
     "pickle_name_source": "wisig.node3-19.stratified_ds.2022A.pkl",
     "pickle_name_target": "wisig.node3-19.stratified_ds.2022A.pkl",
     "seed": 154325,
     "torch_default_dtype": "torch.float32",
     "x_net": [
      {
       "class": "nnReshape",
       "kargs": {
        "shape": [
         -1,
         1,
         2,
         256
        ]
       }
      },
      {
       "class": "Conv2d",
       "kargs": {
        "bias": false,
        "in_channels": 1,
        "kernel_size": [
         1,
         7
        ],
        "out_channels": 256,
        "padding": [
         0,
         3
        ]
       }
      },
      {
       "class": "ReLU",
       "kargs": {
        "inplace": true
       }
      },
      {
       "class": "BatchNorm2d",
       "kargs": {
        "num_features": 256
       }
      },
      {
       "class": "Conv2d",
       "kargs": {
        "bias": true,
        "in_channels": 256,
        "kernel_size": [
         2,
         7
        ],
        "out_channels": 80,
        "padding": [
         0,
         3
        ]
       }
      },
      {
       "class": "ReLU",
       "kargs": {
        "inplace": true
       }
      },
      {
       "class": "BatchNorm2d",
       "kargs": {
        "num_features": 80
       }
      },
      {
       "class": "Flatten",
       "kargs": {}
      },
      {
       "class": "Linear",
       "kargs": {
        "in_features": 20480,
        "out_features": 256
       }
      },
      {
       "class": "ReLU",
       "kargs": {
        "inplace": true
       }
      },
      {
       "class": "BatchNorm1d",
       "kargs": {
        "num_features": 256
       }
      },
      {
       "class": "Linear",
       "kargs": {
        "in_features": 256,
        "out_features": 130
       }
      }
     ]
    }
   },
   "start_time": "2022-03-26T02:05:00.769466",
   "version": "2.3.4"
  }
 },
 "nbformat": 4,
 "nbformat_minor": 5
}