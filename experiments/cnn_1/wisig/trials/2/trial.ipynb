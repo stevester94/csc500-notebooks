{
 "cells": [
  {
   "cell_type": "code",
   "execution_count": 1,
   "id": "2324682e",
   "metadata": {
    "execution": {
     "iopub.execute_input": "2022-03-26T02:08:02.095822Z",
     "iopub.status.busy": "2022-03-26T02:08:02.094922Z",
     "iopub.status.idle": "2022-03-26T02:08:03.370850Z",
     "shell.execute_reply": "2022-03-26T02:08:03.371575Z"
    },
    "papermill": {
     "duration": 1.314747,
     "end_time": "2022-03-26T02:08:03.371902",
     "exception": false,
     "start_time": "2022-03-26T02:08:02.057155",
     "status": "completed"
    },
    "tags": []
   },
   "outputs": [],
   "source": [
    "import os, json, sys, time, random\n",
    "import numpy as np\n",
    "import torch\n",
    "from  easydict import EasyDict\n",
    "from math import floor\n",
    "from easydict import EasyDict\n",
    "\n",
    "from steves_utils.vanilla_train_eval_test_jig import  Vanilla_Train_Eval_Test_Jig\n",
    "\n",
    "from steves_utils.torch_utils import get_dataset_metrics, independent_accuracy_assesment\n",
    "from steves_models.configurable_vanilla import Configurable_Vanilla\n",
    "from steves_utils.torch_sequential_builder import build_sequential\n",
    "from steves_utils.lazy_map import Lazy_Map\n",
    "from steves_utils.sequence_aggregator import Sequence_Aggregator\n",
    "\n",
    "from steves_utils.stratified_dataset.traditional_accessor import Traditional_Accessor_Factory\n",
    "\n",
    "from steves_utils.cnn_do_report import (\n",
    "    get_loss_curve,\n",
    "    get_results_table,\n",
    "    get_parameters_table,\n",
    "    get_domain_accuracies,\n",
    ")\n",
    "\n",
    "from steves_utils.torch_utils import (\n",
    "    confusion_by_domain_over_dataloader,\n",
    "    independent_accuracy_assesment\n",
    ")\n",
    "\n",
    "from steves_utils.utils_v2 import (\n",
    "    per_domain_accuracy_from_confusion,\n",
    "    get_datasets_base_path\n",
    ")\n",
    "\n",
    "# from steves_utils.ptn_do_report import TBD"
   ]
  },
  {
   "cell_type": "code",
   "execution_count": 2,
   "id": "1b29e3fe",
   "metadata": {
    "execution": {
     "iopub.execute_input": "2022-03-26T02:08:03.410124Z",
     "iopub.status.busy": "2022-03-26T02:08:03.409740Z",
     "iopub.status.idle": "2022-03-26T02:08:03.413519Z",
     "shell.execute_reply": "2022-03-26T02:08:03.412701Z"
    },
    "papermill": {
     "duration": 0.023306,
     "end_time": "2022-03-26T02:08:03.413676",
     "exception": false,
     "start_time": "2022-03-26T02:08:03.390370",
     "status": "completed"
    },
    "tags": []
   },
   "outputs": [],
   "source": [
    "required_parameters = {\n",
    "    \"experiment_name\",\n",
    "    \"lr\",\n",
    "    \"device\",\n",
    "    \"dataset_seed\",\n",
    "    \"seed\",\n",
    "    \"labels\",\n",
    "    \"domains_target\",\n",
    "    \"domains_source\",\n",
    "    \"num_examples_per_domain_per_label_source\",\n",
    "    \"num_examples_per_domain_per_label_target\",\n",
    "    \"batch_size\",\n",
    "    \"n_epoch\",\n",
    "    \"patience\",\n",
    "    \"criteria_for_best\",\n",
    "    \"normalize_source\",\n",
    "    \"normalize_target\",\n",
    "    \"x_net\",\n",
    "    \"NUM_LOGS_PER_EPOCH\",\n",
    "    \"BEST_MODEL_PATH\",\n",
    "    \"pickle_name_source\",\n",
    "    \"pickle_name_target\",\n",
    "    \"torch_default_dtype\",\n",
    "}"
   ]
  },
  {
   "cell_type": "code",
   "execution_count": 3,
   "id": "670b5fb8",
   "metadata": {
    "execution": {
     "iopub.execute_input": "2022-03-26T02:08:03.460792Z",
     "iopub.status.busy": "2022-03-26T02:08:03.459889Z",
     "iopub.status.idle": "2022-03-26T02:08:03.466088Z",
     "shell.execute_reply": "2022-03-26T02:08:03.466778Z"
    },
    "papermill": {
     "duration": 0.03435,
     "end_time": "2022-03-26T02:08:03.466959",
     "exception": false,
     "start_time": "2022-03-26T02:08:03.432609",
     "status": "completed"
    },
    "tags": [
     "parameters"
    ]
   },
   "outputs": [],
   "source": [
    "from steves_utils.ORACLE.utils_v2 import (\n",
    "    ALL_SERIAL_NUMBERS,\n",
    "    ALL_DISTANCES_FEET_NARROWED,\n",
    ")\n",
    "\n",
    "standalone_parameters = {}\n",
    "standalone_parameters[\"experiment_name\"] = \"MANUAL CORES CNN\"\n",
    "standalone_parameters[\"lr\"] = 0.0001\n",
    "standalone_parameters[\"device\"] = \"cuda\"\n",
    "\n",
    "standalone_parameters[\"dataset_seed\"] = 1337\n",
    "standalone_parameters[\"seed\"] = 1337\n",
    "standalone_parameters[\"labels\"] = ALL_SERIAL_NUMBERS\n",
    "\n",
    "standalone_parameters[\"domains_source\"] = [8,32,50]\n",
    "standalone_parameters[\"domains_target\"] = [14,20,26,38,44,]\n",
    "\n",
    "standalone_parameters[\"num_examples_per_domain_per_label_source\"]=-1\n",
    "standalone_parameters[\"num_examples_per_domain_per_label_target\"]=-1\n",
    "\n",
    "standalone_parameters[\"pickle_name_source\"] = \"oracle.Run1_framed_2000Examples_stratified_ds.2022A.pkl\"\n",
    "standalone_parameters[\"pickle_name_target\"] = \"oracle.Run2_framed_2000Examples_stratified_ds.2022A.pkl\"\n",
    "\n",
    "standalone_parameters[\"torch_default_dtype\"] = \"torch.float32\" \n",
    "\n",
    "standalone_parameters[\"batch_size\"]=128\n",
    "\n",
    "standalone_parameters[\"n_epoch\"] = 3\n",
    "\n",
    "standalone_parameters[\"patience\"] = 10\n",
    "\n",
    "standalone_parameters[\"criteria_for_best\"] = \"target_accuracy\"\n",
    "standalone_parameters[\"normalize_source\"] = False\n",
    "standalone_parameters[\"normalize_target\"] = False\n",
    "\n",
    "standalone_parameters[\"x_net\"] =     [\n",
    "    {\"class\": \"nnReshape\", \"kargs\": {\"shape\":[-1, 1, 2, 256]}},\n",
    "    {\"class\": \"Conv2d\", \"kargs\": { \"in_channels\":1, \"out_channels\":256, \"kernel_size\":(1,7), \"bias\":False, \"padding\":(0,3), },},\n",
    "    {\"class\": \"ReLU\", \"kargs\": {\"inplace\": True}},\n",
    "    {\"class\": \"BatchNorm2d\", \"kargs\": {\"num_features\":256}},\n",
    "\n",
    "    {\"class\": \"Conv2d\", \"kargs\": { \"in_channels\":256, \"out_channels\":80, \"kernel_size\":(2,7), \"bias\":True, \"padding\":(0,3), },},\n",
    "    {\"class\": \"ReLU\", \"kargs\": {\"inplace\": True}},\n",
    "    {\"class\": \"BatchNorm2d\", \"kargs\": {\"num_features\":80}},\n",
    "    {\"class\": \"Flatten\", \"kargs\": {}},\n",
    "\n",
    "    {\"class\": \"Linear\", \"kargs\": {\"in_features\": 80*256, \"out_features\": 256}}, # 80 units per IQ pair\n",
    "    {\"class\": \"ReLU\", \"kargs\": {\"inplace\": True}},\n",
    "    {\"class\": \"BatchNorm1d\", \"kargs\": {\"num_features\":256}},\n",
    "\n",
    "    {\"class\": \"Linear\", \"kargs\": {\"in_features\": 256, \"out_features\": len(standalone_parameters[\"labels\"])}},\n",
    "]\n",
    "\n",
    "standalone_parameters[\"NUM_LOGS_PER_EPOCH\"] = 10\n",
    "standalone_parameters[\"BEST_MODEL_PATH\"] = \"./best_model.pth\""
   ]
  },
  {
   "cell_type": "code",
   "execution_count": 4,
   "id": "10989266",
   "metadata": {
    "execution": {
     "iopub.execute_input": "2022-03-26T02:08:03.518503Z",
     "iopub.status.busy": "2022-03-26T02:08:03.506640Z",
     "iopub.status.idle": "2022-03-26T02:08:03.521090Z",
     "shell.execute_reply": "2022-03-26T02:08:03.520270Z"
    },
    "papermill": {
     "duration": 0.035662,
     "end_time": "2022-03-26T02:08:03.521246",
     "exception": false,
     "start_time": "2022-03-26T02:08:03.485584",
     "status": "completed"
    },
    "tags": [
     "injected-parameters"
    ]
   },
   "outputs": [],
   "source": [
    "# Parameters\n",
    "parameters = {\n",
    "    \"experiment_name\": \"cnn_1:wisig\",\n",
    "    \"labels\": [\n",
    "        \"1-10\",\n",
    "        \"1-12\",\n",
    "        \"1-14\",\n",
    "        \"1-16\",\n",
    "        \"1-18\",\n",
    "        \"1-19\",\n",
    "        \"1-8\",\n",
    "        \"10-11\",\n",
    "        \"10-17\",\n",
    "        \"10-4\",\n",
    "        \"10-7\",\n",
    "        \"11-1\",\n",
    "        \"11-10\",\n",
    "        \"11-19\",\n",
    "        \"11-20\",\n",
    "        \"11-4\",\n",
    "        \"11-7\",\n",
    "        \"12-19\",\n",
    "        \"12-20\",\n",
    "        \"12-7\",\n",
    "        \"13-14\",\n",
    "        \"13-18\",\n",
    "        \"13-19\",\n",
    "        \"13-20\",\n",
    "        \"13-3\",\n",
    "        \"13-7\",\n",
    "        \"14-10\",\n",
    "        \"14-11\",\n",
    "        \"14-12\",\n",
    "        \"14-13\",\n",
    "        \"14-14\",\n",
    "        \"14-19\",\n",
    "        \"14-20\",\n",
    "        \"14-7\",\n",
    "        \"14-8\",\n",
    "        \"14-9\",\n",
    "        \"15-1\",\n",
    "        \"15-19\",\n",
    "        \"15-6\",\n",
    "        \"16-1\",\n",
    "        \"16-16\",\n",
    "        \"16-19\",\n",
    "        \"16-20\",\n",
    "        \"17-10\",\n",
    "        \"17-11\",\n",
    "        \"18-1\",\n",
    "        \"18-10\",\n",
    "        \"18-11\",\n",
    "        \"18-12\",\n",
    "        \"18-13\",\n",
    "        \"18-14\",\n",
    "        \"18-15\",\n",
    "        \"18-16\",\n",
    "        \"18-17\",\n",
    "        \"18-19\",\n",
    "        \"18-2\",\n",
    "        \"18-20\",\n",
    "        \"18-4\",\n",
    "        \"18-5\",\n",
    "        \"18-7\",\n",
    "        \"18-8\",\n",
    "        \"18-9\",\n",
    "        \"19-1\",\n",
    "        \"19-10\",\n",
    "        \"19-11\",\n",
    "        \"19-12\",\n",
    "        \"19-13\",\n",
    "        \"19-14\",\n",
    "        \"19-15\",\n",
    "        \"19-19\",\n",
    "        \"19-2\",\n",
    "        \"19-20\",\n",
    "        \"19-3\",\n",
    "        \"19-4\",\n",
    "        \"19-6\",\n",
    "        \"19-7\",\n",
    "        \"19-8\",\n",
    "        \"19-9\",\n",
    "        \"2-1\",\n",
    "        \"2-13\",\n",
    "        \"2-15\",\n",
    "        \"2-3\",\n",
    "        \"2-4\",\n",
    "        \"2-5\",\n",
    "        \"2-6\",\n",
    "        \"2-7\",\n",
    "        \"2-8\",\n",
    "        \"20-1\",\n",
    "        \"20-12\",\n",
    "        \"20-14\",\n",
    "        \"20-15\",\n",
    "        \"20-16\",\n",
    "        \"20-18\",\n",
    "        \"20-19\",\n",
    "        \"20-20\",\n",
    "        \"20-3\",\n",
    "        \"20-4\",\n",
    "        \"20-5\",\n",
    "        \"20-7\",\n",
    "        \"20-8\",\n",
    "        \"3-1\",\n",
    "        \"3-13\",\n",
    "        \"3-18\",\n",
    "        \"3-2\",\n",
    "        \"3-8\",\n",
    "        \"4-1\",\n",
    "        \"4-10\",\n",
    "        \"4-11\",\n",
    "        \"5-1\",\n",
    "        \"5-5\",\n",
    "        \"6-1\",\n",
    "        \"6-15\",\n",
    "        \"6-6\",\n",
    "        \"7-10\",\n",
    "        \"7-11\",\n",
    "        \"7-12\",\n",
    "        \"7-13\",\n",
    "        \"7-14\",\n",
    "        \"7-7\",\n",
    "        \"7-8\",\n",
    "        \"7-9\",\n",
    "        \"8-1\",\n",
    "        \"8-13\",\n",
    "        \"8-14\",\n",
    "        \"8-18\",\n",
    "        \"8-20\",\n",
    "        \"8-3\",\n",
    "        \"8-8\",\n",
    "        \"9-1\",\n",
    "        \"9-7\",\n",
    "    ],\n",
    "    \"domains_source\": [3],\n",
    "    \"domains_target\": [1, 2, 4],\n",
    "    \"pickle_name_target\": \"wisig.node3-19.stratified_ds.2022A.pkl\",\n",
    "    \"pickle_name_source\": \"wisig.node3-19.stratified_ds.2022A.pkl\",\n",
    "    \"device\": \"cuda\",\n",
    "    \"lr\": 0.0001,\n",
    "    \"batch_size\": 128,\n",
    "    \"normalize_source\": False,\n",
    "    \"normalize_target\": False,\n",
    "    \"num_examples_per_domain_per_label_source\": -1,\n",
    "    \"num_examples_per_domain_per_label_target\": -1,\n",
    "    \"torch_default_dtype\": \"torch.float32\",\n",
    "    \"n_epoch\": 50,\n",
    "    \"patience\": 3,\n",
    "    \"criteria_for_best\": \"target_accuracy\",\n",
    "    \"x_net\": [\n",
    "        {\"class\": \"nnReshape\", \"kargs\": {\"shape\": [-1, 1, 2, 256]}},\n",
    "        {\n",
    "            \"class\": \"Conv2d\",\n",
    "            \"kargs\": {\n",
    "                \"in_channels\": 1,\n",
    "                \"out_channels\": 256,\n",
    "                \"kernel_size\": [1, 7],\n",
    "                \"bias\": False,\n",
    "                \"padding\": [0, 3],\n",
    "            },\n",
    "        },\n",
    "        {\"class\": \"ReLU\", \"kargs\": {\"inplace\": True}},\n",
    "        {\"class\": \"BatchNorm2d\", \"kargs\": {\"num_features\": 256}},\n",
    "        {\n",
    "            \"class\": \"Conv2d\",\n",
    "            \"kargs\": {\n",
    "                \"in_channels\": 256,\n",
    "                \"out_channels\": 80,\n",
    "                \"kernel_size\": [2, 7],\n",
    "                \"bias\": True,\n",
    "                \"padding\": [0, 3],\n",
    "            },\n",
    "        },\n",
    "        {\"class\": \"ReLU\", \"kargs\": {\"inplace\": True}},\n",
    "        {\"class\": \"BatchNorm2d\", \"kargs\": {\"num_features\": 80}},\n",
    "        {\"class\": \"Flatten\", \"kargs\": {}},\n",
    "        {\"class\": \"Linear\", \"kargs\": {\"in_features\": 20480, \"out_features\": 256}},\n",
    "        {\"class\": \"ReLU\", \"kargs\": {\"inplace\": True}},\n",
    "        {\"class\": \"BatchNorm1d\", \"kargs\": {\"num_features\": 256}},\n",
    "        {\"class\": \"Linear\", \"kargs\": {\"in_features\": 256, \"out_features\": 130}},\n",
    "    ],\n",
    "    \"NUM_LOGS_PER_EPOCH\": 10,\n",
    "    \"BEST_MODEL_PATH\": \"./best_model.pth\",\n",
    "    \"dataset_seed\": 1337,\n",
    "    \"seed\": 1337,\n",
    "}\n"
   ]
  },
  {
   "cell_type": "code",
   "execution_count": 5,
   "id": "759b56ec",
   "metadata": {
    "execution": {
     "iopub.execute_input": "2022-03-26T02:08:03.565597Z",
     "iopub.status.busy": "2022-03-26T02:08:03.565028Z",
     "iopub.status.idle": "2022-03-26T02:08:03.567229Z",
     "shell.execute_reply": "2022-03-26T02:08:03.567726Z"
    },
    "papermill": {
     "duration": 0.024767,
     "end_time": "2022-03-26T02:08:03.567850",
     "exception": false,
     "start_time": "2022-03-26T02:08:03.543083",
     "status": "completed"
    },
    "tags": []
   },
   "outputs": [],
   "source": [
    "# Set this to True if you want to run this template directly\n",
    "STANDALONE = False\n",
    "if STANDALONE:\n",
    "    print(\"parameters not injected, running with standalone_parameters\")\n",
    "    parameters = standalone_parameters\n",
    "\n",
    "if not 'parameters' in locals() and not 'parameters' in globals():\n",
    "    raise Exception(\"Parameter injection failed\")\n",
    "\n",
    "#Use an easy dict for all the parameters\n",
    "p = EasyDict(parameters)\n",
    "\n",
    "supplied_keys = set(p.keys())\n",
    "\n",
    "if  supplied_keys != required_parameters:\n",
    "    print(\"Parameters are incorrect\")\n",
    "    if len(supplied_keys - required_parameters)>0: print(\"Shouldn't have:\", str(supplied_keys - required_parameters))\n",
    "    if len(required_parameters - supplied_keys)>0: print(\"Need to have:\", str(required_parameters - supplied_keys))\n",
    "    raise RuntimeError(\"Parameters are incorrect\")\n",
    "\n"
   ]
  },
  {
   "cell_type": "code",
   "execution_count": 6,
   "id": "d5c66a71",
   "metadata": {
    "execution": {
     "iopub.execute_input": "2022-03-26T02:08:03.605829Z",
     "iopub.status.busy": "2022-03-26T02:08:03.605457Z",
     "iopub.status.idle": "2022-03-26T02:08:03.608989Z",
     "shell.execute_reply": "2022-03-26T02:08:03.608670Z"
    },
    "papermill": {
     "duration": 0.02067,
     "end_time": "2022-03-26T02:08:03.609059",
     "exception": false,
     "start_time": "2022-03-26T02:08:03.588389",
     "status": "completed"
    },
    "tags": []
   },
   "outputs": [],
   "source": [
    "###################################\n",
    "# Set the RNGs and make it all deterministic\n",
    "###################################\n",
    "np.random.seed(p.seed)\n",
    "random.seed(p.seed)\n",
    "torch.manual_seed(p.seed)\n",
    "\n",
    "torch.use_deterministic_algorithms(True) "
   ]
  },
  {
   "cell_type": "code",
   "execution_count": 7,
   "id": "92a65876",
   "metadata": {
    "execution": {
     "iopub.execute_input": "2022-03-26T02:08:03.643619Z",
     "iopub.status.busy": "2022-03-26T02:08:03.643242Z",
     "iopub.status.idle": "2022-03-26T02:08:03.645738Z",
     "shell.execute_reply": "2022-03-26T02:08:03.646042Z"
    },
    "papermill": {
     "duration": 0.020555,
     "end_time": "2022-03-26T02:08:03.646124",
     "exception": false,
     "start_time": "2022-03-26T02:08:03.625569",
     "status": "completed"
    },
    "tags": []
   },
   "outputs": [],
   "source": [
    "torch.set_default_dtype(eval(p.torch_default_dtype))"
   ]
  },
  {
   "cell_type": "code",
   "execution_count": 8,
   "id": "f1a32f01",
   "metadata": {
    "execution": {
     "iopub.execute_input": "2022-03-26T02:08:03.680732Z",
     "iopub.status.busy": "2022-03-26T02:08:03.680359Z",
     "iopub.status.idle": "2022-03-26T02:08:03.721231Z",
     "shell.execute_reply": "2022-03-26T02:08:03.720520Z"
    },
    "papermill": {
     "duration": 0.058439,
     "end_time": "2022-03-26T02:08:03.721386",
     "exception": false,
     "start_time": "2022-03-26T02:08:03.662947",
     "status": "completed"
    },
    "tags": []
   },
   "outputs": [],
   "source": [
    "###################################\n",
    "# Build the network(s)\n",
    "# Note: It's critical to do this AFTER setting the RNG\n",
    "###################################\n",
    "x_net = build_sequential(p.x_net)"
   ]
  },
  {
   "cell_type": "code",
   "execution_count": 9,
   "id": "a276cd83",
   "metadata": {
    "execution": {
     "iopub.execute_input": "2022-03-26T02:08:03.761954Z",
     "iopub.status.busy": "2022-03-26T02:08:03.761590Z",
     "iopub.status.idle": "2022-03-26T02:08:03.764015Z",
     "shell.execute_reply": "2022-03-26T02:08:03.764363Z"
    },
    "papermill": {
     "duration": 0.020792,
     "end_time": "2022-03-26T02:08:03.764445",
     "exception": false,
     "start_time": "2022-03-26T02:08:03.743653",
     "status": "completed"
    },
    "tags": []
   },
   "outputs": [],
   "source": [
    "start_time_secs = time.time()"
   ]
  },
  {
   "cell_type": "code",
   "execution_count": 10,
   "id": "de702e48",
   "metadata": {
    "execution": {
     "iopub.execute_input": "2022-03-26T02:08:03.808960Z",
     "iopub.status.busy": "2022-03-26T02:08:03.808333Z",
     "iopub.status.idle": "2022-03-26T02:08:07.904421Z",
     "shell.execute_reply": "2022-03-26T02:08:07.903672Z"
    },
    "papermill": {
     "duration": 4.121832,
     "end_time": "2022-03-26T02:08:07.904609",
     "exception": false,
     "start_time": "2022-03-26T02:08:03.782777",
     "status": "completed"
    },
    "tags": []
   },
   "outputs": [],
   "source": [
    "def wrap_in_dataloader(p, ds):\n",
    "    return torch.utils.data.DataLoader(\n",
    "        ds,\n",
    "        batch_size=p.batch_size,\n",
    "        shuffle=True,\n",
    "        num_workers=1,\n",
    "        persistent_workers=True,\n",
    "        prefetch_factor=50,\n",
    "        pin_memory=True\n",
    "    )\n",
    "\n",
    "taf_source = Traditional_Accessor_Factory(\n",
    "    labels=p.labels,\n",
    "    domains=p.domains_source,\n",
    "    num_examples_per_domain_per_label=p.num_examples_per_domain_per_label_source,\n",
    "    pickle_path=os.path.join(get_datasets_base_path(), p.pickle_name_source),\n",
    "    seed=p.dataset_seed\n",
    ")\n",
    "train_original_source, val_original_source, test_original_source = \\\n",
    "    taf_source.get_train(), taf_source.get_val(), taf_source.get_test()\n",
    "\n",
    "\n",
    "taf_target = Traditional_Accessor_Factory(\n",
    "    labels=p.labels,\n",
    "    domains=p.domains_target,\n",
    "    num_examples_per_domain_per_label=p.num_examples_per_domain_per_label_source,\n",
    "    pickle_path=os.path.join(get_datasets_base_path(), p.pickle_name_target),\n",
    "    seed=p.dataset_seed\n",
    ")\n",
    "train_original_target, val_original_target, test_original_target = \\\n",
    "    taf_target.get_train(), taf_target.get_val(), taf_target.get_test()\n",
    "\n",
    "\n",
    "# For CNN We only use X and Y. And we only train on the source.\n",
    "# Properly form the data using a transform lambda and Lazy_Map. Finally wrap them in a dataloader\n",
    "\n",
    "transform_lambda = lambda ex: ex[:2] # Strip the tuple to just (x,y)\n",
    "\n",
    "\n",
    "train_processed_source = wrap_in_dataloader(\n",
    "    p,\n",
    "    Lazy_Map(train_original_source, transform_lambda)\n",
    ")\n",
    "val_processed_source = wrap_in_dataloader(\n",
    "    p,\n",
    "    Lazy_Map(val_original_source, transform_lambda)\n",
    ")\n",
    "test_processed_source = wrap_in_dataloader(\n",
    "    p,\n",
    "    Lazy_Map(test_original_source, transform_lambda)\n",
    ")\n",
    "\n",
    "train_processed_target = wrap_in_dataloader(\n",
    "    p,\n",
    "    Lazy_Map(train_original_target, transform_lambda)\n",
    ")\n",
    "val_processed_target = wrap_in_dataloader(\n",
    "    p,\n",
    "    Lazy_Map(val_original_target, transform_lambda)\n",
    ")\n",
    "test_processed_target  = wrap_in_dataloader(\n",
    "    p,\n",
    "    Lazy_Map(test_original_target, transform_lambda)\n",
    ")\n",
    "\n",
    "\n",
    "\n",
    "datasets = EasyDict({\n",
    "    \"source\": {\n",
    "        \"original\": {\"train\":train_original_source, \"val\":val_original_source, \"test\":test_original_source},\n",
    "        \"processed\": {\"train\":train_processed_source, \"val\":val_processed_source, \"test\":test_processed_source}\n",
    "    },\n",
    "    \"target\": {\n",
    "        \"original\": {\"train\":train_original_target, \"val\":val_original_target, \"test\":test_original_target},\n",
    "        \"processed\": {\"train\":train_processed_target, \"val\":val_processed_target, \"test\":test_processed_target}\n",
    "    },\n",
    "})"
   ]
  },
  {
   "cell_type": "code",
   "execution_count": 11,
   "id": "a11b26bd",
   "metadata": {
    "execution": {
     "iopub.execute_input": "2022-03-26T02:08:07.984055Z",
     "iopub.status.busy": "2022-03-26T02:08:07.983194Z",
     "iopub.status.idle": "2022-03-26T02:08:13.481041Z",
     "shell.execute_reply": "2022-03-26T02:08:13.479857Z"
    },
    "papermill": {
     "duration": 5.557887,
     "end_time": "2022-03-26T02:08:13.481314",
     "exception": false,
     "start_time": "2022-03-26T02:08:07.923427",
     "status": "completed"
    },
    "tags": []
   },
   "outputs": [
    {
     "data": {
      "text/plain": [
       "torch.float32"
      ]
     },
     "execution_count": 11,
     "metadata": {},
     "output_type": "execute_result"
    }
   ],
   "source": [
    "ep = next(iter(test_processed_target))\n",
    "ep[0].dtype"
   ]
  },
  {
   "cell_type": "code",
   "execution_count": 12,
   "id": "19425fad",
   "metadata": {
    "execution": {
     "iopub.execute_input": "2022-03-26T02:08:13.518824Z",
     "iopub.status.busy": "2022-03-26T02:08:13.518164Z",
     "iopub.status.idle": "2022-03-26T02:08:13.570471Z",
     "shell.execute_reply": "2022-03-26T02:08:13.569699Z"
    },
    "papermill": {
     "duration": 0.072399,
     "end_time": "2022-03-26T02:08:13.570659",
     "exception": false,
     "start_time": "2022-03-26T02:08:13.498260",
     "status": "completed"
    },
    "tags": []
   },
   "outputs": [],
   "source": [
    "model = Configurable_Vanilla(\n",
    "    x_net=x_net,\n",
    "    label_loss_object=torch.nn.NLLLoss(),\n",
    "    learning_rate=p.lr\n",
    ")"
   ]
  },
  {
   "cell_type": "code",
   "execution_count": 13,
   "id": "7f6d4f2c",
   "metadata": {
    "execution": {
     "iopub.execute_input": "2022-03-26T02:08:13.612863Z",
     "iopub.status.busy": "2022-03-26T02:08:13.612284Z",
     "iopub.status.idle": "2022-03-26T02:09:11.115044Z",
     "shell.execute_reply": "2022-03-26T02:09:11.114199Z"
    },
    "papermill": {
     "duration": 57.52449,
     "end_time": "2022-03-26T02:09:11.115222",
     "exception": false,
     "start_time": "2022-03-26T02:08:13.590732",
     "status": "completed"
    },
    "tags": []
   },
   "outputs": [
    {
     "name": "stdout",
     "output_type": "stream",
     "text": [
      "epoch: 1, [batch: 1 / 359], examples_per_second: 774.3697, train_label_loss: 4.8245, \n"
     ]
    },
    {
     "name": "stdout",
     "output_type": "stream",
     "text": [
      "epoch: 1, [batch: 36 / 359], examples_per_second: 10199.1425, train_label_loss: 4.2050, \n"
     ]
    },
    {
     "name": "stdout",
     "output_type": "stream",
     "text": [
      "epoch: 1, [batch: 72 / 359], examples_per_second: 10692.3027, train_label_loss: 3.6471, \n"
     ]
    },
    {
     "name": "stdout",
     "output_type": "stream",
     "text": [
      "epoch: 1, [batch: 108 / 359], examples_per_second: 10591.5491, train_label_loss: 3.1975, \n"
     ]
    },
    {
     "name": "stdout",
     "output_type": "stream",
     "text": [
      "epoch: 1, [batch: 144 / 359], examples_per_second: 10443.4525, train_label_loss: 2.7683, \n"
     ]
    },
    {
     "name": "stdout",
     "output_type": "stream",
     "text": [
      "epoch: 1, [batch: 180 / 359], examples_per_second: 10492.7221, train_label_loss: 2.4989, \n"
     ]
    },
    {
     "name": "stdout",
     "output_type": "stream",
     "text": [
      "epoch: 1, [batch: 215 / 359], examples_per_second: 10576.3257, train_label_loss: 2.2217, \n"
     ]
    },
    {
     "name": "stdout",
     "output_type": "stream",
     "text": [
      "epoch: 1, [batch: 251 / 359], examples_per_second: 10654.5202, train_label_loss: 2.1156, \n"
     ]
    },
    {
     "name": "stdout",
     "output_type": "stream",
     "text": [
      "epoch: 1, [batch: 287 / 359], examples_per_second: 10682.1323, train_label_loss: 1.5578, \n"
     ]
    },
    {
     "name": "stdout",
     "output_type": "stream",
     "text": [
      "epoch: 1, [batch: 323 / 359], examples_per_second: 10571.9033, train_label_loss: 1.4360, \n"
     ]
    },
    {
     "name": "stdout",
     "output_type": "stream",
     "text": [
      "=============================================================\n",
      "epoch: 1, source_val_acc_label: 0.8454, source_val_label_loss: 1.3750, target_val_acc_label: 0.5814, target_val_label_loss: 2.1723, \n",
      "=============================================================\n"
     ]
    },
    {
     "name": "stdout",
     "output_type": "stream",
     "text": [
      "New best\n",
      "epoch: 2, [batch: 1 / 359], examples_per_second: 105.7902, train_label_loss: 1.3286, \n"
     ]
    },
    {
     "name": "stdout",
     "output_type": "stream",
     "text": [
      "epoch: 2, [batch: 36 / 359], examples_per_second: 10504.5709, train_label_loss: 1.2275, \n"
     ]
    },
    {
     "name": "stdout",
     "output_type": "stream",
     "text": [
      "epoch: 2, [batch: 72 / 359], examples_per_second: 10398.1106, train_label_loss: 1.0864, \n"
     ]
    },
    {
     "name": "stdout",
     "output_type": "stream",
     "text": [
      "epoch: 2, [batch: 108 / 359], examples_per_second: 10505.7832, train_label_loss: 0.9292, \n"
     ]
    },
    {
     "name": "stdout",
     "output_type": "stream",
     "text": [
      "epoch: 2, [batch: 144 / 359], examples_per_second: 10638.4569, train_label_loss: 0.8750, \n"
     ]
    },
    {
     "name": "stdout",
     "output_type": "stream",
     "text": [
      "epoch: 2, [batch: 180 / 359], examples_per_second: 10647.6702, train_label_loss: 0.9592, \n"
     ]
    },
    {
     "name": "stdout",
     "output_type": "stream",
     "text": [
      "epoch: 2, [batch: 215 / 359], examples_per_second: 10594.8061, train_label_loss: 0.6652, \n"
     ]
    },
    {
     "name": "stdout",
     "output_type": "stream",
     "text": [
      "epoch: 2, [batch: 251 / 359], examples_per_second: 10688.1163, train_label_loss: 0.9060, \n"
     ]
    },
    {
     "name": "stdout",
     "output_type": "stream",
     "text": [
      "epoch: 2, [batch: 287 / 359], examples_per_second: 10443.1703, train_label_loss: 0.7517, \n"
     ]
    },
    {
     "name": "stdout",
     "output_type": "stream",
     "text": [
      "epoch: 2, [batch: 323 / 359], examples_per_second: 10522.1640, train_label_loss: 0.5590, \n"
     ]
    },
    {
     "name": "stdout",
     "output_type": "stream",
     "text": [
      "=============================================================\n",
      "epoch: 2, source_val_acc_label: 0.9306, source_val_label_loss: 0.4993, target_val_acc_label: 0.6723, target_val_label_loss: 1.6333, \n",
      "=============================================================\n"
     ]
    },
    {
     "name": "stdout",
     "output_type": "stream",
     "text": [
      "New best\n",
      "epoch: 3, [batch: 1 / 359], examples_per_second: 131.4356, train_label_loss: 0.4727, \n"
     ]
    },
    {
     "name": "stdout",
     "output_type": "stream",
     "text": [
      "epoch: 3, [batch: 36 / 359], examples_per_second: 10615.1859, train_label_loss: 0.4800, \n"
     ]
    },
    {
     "name": "stdout",
     "output_type": "stream",
     "text": [
      "epoch: 3, [batch: 72 / 359], examples_per_second: 10656.9582, train_label_loss: 0.3997, \n"
     ]
    },
    {
     "name": "stdout",
     "output_type": "stream",
     "text": [
      "epoch: 3, [batch: 108 / 359], examples_per_second: 10634.0786, train_label_loss: 0.3500, \n"
     ]
    },
    {
     "name": "stdout",
     "output_type": "stream",
     "text": [
      "epoch: 3, [batch: 144 / 359], examples_per_second: 10754.7094, train_label_loss: 0.3233, \n"
     ]
    },
    {
     "name": "stdout",
     "output_type": "stream",
     "text": [
      "epoch: 3, [batch: 180 / 359], examples_per_second: 10671.7632, train_label_loss: 0.4026, \n"
     ]
    },
    {
     "name": "stdout",
     "output_type": "stream",
     "text": [
      "epoch: 3, [batch: 215 / 359], examples_per_second: 10614.2685, train_label_loss: 0.3907, \n"
     ]
    },
    {
     "name": "stdout",
     "output_type": "stream",
     "text": [
      "epoch: 3, [batch: 251 / 359], examples_per_second: 10668.5292, train_label_loss: 0.3453, \n"
     ]
    },
    {
     "name": "stdout",
     "output_type": "stream",
     "text": [
      "epoch: 3, [batch: 287 / 359], examples_per_second: 10714.2279, train_label_loss: 0.3696, \n"
     ]
    },
    {
     "name": "stdout",
     "output_type": "stream",
     "text": [
      "epoch: 3, [batch: 323 / 359], examples_per_second: 10674.2268, train_label_loss: 0.4940, \n"
     ]
    },
    {
     "name": "stdout",
     "output_type": "stream",
     "text": [
      "=============================================================\n",
      "epoch: 3, source_val_acc_label: 0.9579, source_val_label_loss: 0.3037, target_val_acc_label: 0.6624, target_val_label_loss: 1.5594, \n",
      "=============================================================\n"
     ]
    },
    {
     "name": "stdout",
     "output_type": "stream",
     "text": [
      "epoch: 4, [batch: 1 / 359], examples_per_second: 126.0949, train_label_loss: 0.2275, \n"
     ]
    },
    {
     "name": "stdout",
     "output_type": "stream",
     "text": [
      "epoch: 4, [batch: 36 / 359], examples_per_second: 10581.7516, train_label_loss: 0.2072, \n"
     ]
    },
    {
     "name": "stdout",
     "output_type": "stream",
     "text": [
      "epoch: 4, [batch: 72 / 359], examples_per_second: 10564.4604, train_label_loss: 0.2283, \n"
     ]
    },
    {
     "name": "stdout",
     "output_type": "stream",
     "text": [
      "epoch: 4, [batch: 108 / 359], examples_per_second: 10603.1587, train_label_loss: 0.2722, \n"
     ]
    },
    {
     "name": "stdout",
     "output_type": "stream",
     "text": [
      "epoch: 4, [batch: 144 / 359], examples_per_second: 10668.0110, train_label_loss: 0.2281, \n"
     ]
    },
    {
     "name": "stdout",
     "output_type": "stream",
     "text": [
      "epoch: 4, [batch: 180 / 359], examples_per_second: 10528.4347, train_label_loss: 0.3167, \n"
     ]
    },
    {
     "name": "stdout",
     "output_type": "stream",
     "text": [
      "epoch: 4, [batch: 215 / 359], examples_per_second: 10512.1048, train_label_loss: 0.1974, \n"
     ]
    },
    {
     "name": "stdout",
     "output_type": "stream",
     "text": [
      "epoch: 4, [batch: 251 / 359], examples_per_second: 10474.7068, train_label_loss: 0.2143, \n"
     ]
    },
    {
     "name": "stdout",
     "output_type": "stream",
     "text": [
      "epoch: 4, [batch: 287 / 359], examples_per_second: 10647.9225, train_label_loss: 0.1926, \n"
     ]
    },
    {
     "name": "stdout",
     "output_type": "stream",
     "text": [
      "epoch: 4, [batch: 323 / 359], examples_per_second: 10413.1134, train_label_loss: 0.2137, \n"
     ]
    },
    {
     "name": "stdout",
     "output_type": "stream",
     "text": [
      "=============================================================\n",
      "epoch: 4, source_val_acc_label: 0.9453, source_val_label_loss: 0.2779, target_val_acc_label: 0.6873, target_val_label_loss: 1.5817, \n",
      "=============================================================\n"
     ]
    },
    {
     "name": "stdout",
     "output_type": "stream",
     "text": [
      "New best\n",
      "epoch: 5, [batch: 1 / 359], examples_per_second: 127.6776, train_label_loss: 0.1347, \n"
     ]
    },
    {
     "name": "stdout",
     "output_type": "stream",
     "text": [
      "epoch: 5, [batch: 36 / 359], examples_per_second: 10484.3734, train_label_loss: 0.2754, \n"
     ]
    },
    {
     "name": "stdout",
     "output_type": "stream",
     "text": [
      "epoch: 5, [batch: 72 / 359], examples_per_second: 10704.1462, train_label_loss: 0.3668, \n"
     ]
    },
    {
     "name": "stdout",
     "output_type": "stream",
     "text": [
      "epoch: 5, [batch: 108 / 359], examples_per_second: 10689.7597, train_label_loss: 0.2330, \n"
     ]
    },
    {
     "name": "stdout",
     "output_type": "stream",
     "text": [
      "epoch: 5, [batch: 144 / 359], examples_per_second: 10601.7279, train_label_loss: 0.2143, \n"
     ]
    },
    {
     "name": "stdout",
     "output_type": "stream",
     "text": [
      "epoch: 5, [batch: 180 / 359], examples_per_second: 10684.4530, train_label_loss: 0.2297, \n"
     ]
    },
    {
     "name": "stdout",
     "output_type": "stream",
     "text": [
      "epoch: 5, [batch: 215 / 359], examples_per_second: 10571.9878, train_label_loss: 0.1894, \n"
     ]
    },
    {
     "name": "stdout",
     "output_type": "stream",
     "text": [
      "epoch: 5, [batch: 251 / 359], examples_per_second: 10380.7361, train_label_loss: 0.1927, \n"
     ]
    },
    {
     "name": "stdout",
     "output_type": "stream",
     "text": [
      "epoch: 5, [batch: 287 / 359], examples_per_second: 10622.4713, train_label_loss: 0.1248, \n"
     ]
    },
    {
     "name": "stdout",
     "output_type": "stream",
     "text": [
      "epoch: 5, [batch: 323 / 359], examples_per_second: 10525.2697, train_label_loss: 0.1888, \n"
     ]
    },
    {
     "name": "stdout",
     "output_type": "stream",
     "text": [
      "=============================================================\n",
      "epoch: 5, source_val_acc_label: 0.9672, source_val_label_loss: 0.2041, target_val_acc_label: 0.7116, target_val_label_loss: 1.4843, \n",
      "=============================================================\n"
     ]
    },
    {
     "name": "stdout",
     "output_type": "stream",
     "text": [
      "New best\n",
      "epoch: 6, [batch: 1 / 359], examples_per_second: 126.0812, train_label_loss: 0.0815, \n"
     ]
    },
    {
     "name": "stdout",
     "output_type": "stream",
     "text": [
      "epoch: 6, [batch: 36 / 359], examples_per_second: 10724.3162, train_label_loss: 0.2952, \n"
     ]
    },
    {
     "name": "stdout",
     "output_type": "stream",
     "text": [
      "epoch: 6, [batch: 72 / 359], examples_per_second: 10721.6158, train_label_loss: 0.1217, \n"
     ]
    },
    {
     "name": "stdout",
     "output_type": "stream",
     "text": [
      "epoch: 6, [batch: 108 / 359], examples_per_second: 10470.9614, train_label_loss: 0.1891, \n"
     ]
    },
    {
     "name": "stdout",
     "output_type": "stream",
     "text": [
      "epoch: 6, [batch: 144 / 359], examples_per_second: 10642.9209, train_label_loss: 0.1986, \n"
     ]
    },
    {
     "name": "stdout",
     "output_type": "stream",
     "text": [
      "epoch: 6, [batch: 180 / 359], examples_per_second: 10622.3195, train_label_loss: 0.1071, \n"
     ]
    },
    {
     "name": "stdout",
     "output_type": "stream",
     "text": [
      "epoch: 6, [batch: 215 / 359], examples_per_second: 10538.6650, train_label_loss: 0.1206, \n"
     ]
    },
    {
     "name": "stdout",
     "output_type": "stream",
     "text": [
      "epoch: 6, [batch: 251 / 359], examples_per_second: 10498.2620, train_label_loss: 0.1146, \n"
     ]
    },
    {
     "name": "stdout",
     "output_type": "stream",
     "text": [
      "epoch: 6, [batch: 287 / 359], examples_per_second: 10666.9983, train_label_loss: 0.1740, \n"
     ]
    },
    {
     "name": "stdout",
     "output_type": "stream",
     "text": [
      "epoch: 6, [batch: 323 / 359], examples_per_second: 10676.6857, train_label_loss: 0.0655, \n"
     ]
    },
    {
     "name": "stdout",
     "output_type": "stream",
     "text": [
      "=============================================================\n",
      "epoch: 6, source_val_acc_label: 0.9698, source_val_label_loss: 0.1836, target_val_acc_label: 0.7182, target_val_label_loss: 1.3917, \n",
      "=============================================================\n"
     ]
    },
    {
     "name": "stdout",
     "output_type": "stream",
     "text": [
      "New best\n",
      "epoch: 7, [batch: 1 / 359], examples_per_second: 126.2637, train_label_loss: 0.1981, \n"
     ]
    },
    {
     "name": "stdout",
     "output_type": "stream",
     "text": [
      "epoch: 7, [batch: 36 / 359], examples_per_second: 10567.9387, train_label_loss: 0.2188, \n"
     ]
    },
    {
     "name": "stdout",
     "output_type": "stream",
     "text": [
      "epoch: 7, [batch: 72 / 359], examples_per_second: 10695.8766, train_label_loss: 0.2066, \n"
     ]
    },
    {
     "name": "stdout",
     "output_type": "stream",
     "text": [
      "epoch: 7, [batch: 108 / 359], examples_per_second: 10689.2395, train_label_loss: 0.1291, \n"
     ]
    },
    {
     "name": "stdout",
     "output_type": "stream",
     "text": [
      "epoch: 7, [batch: 144 / 359], examples_per_second: 10680.0486, train_label_loss: 0.1166, \n"
     ]
    },
    {
     "name": "stdout",
     "output_type": "stream",
     "text": [
      "epoch: 7, [batch: 180 / 359], examples_per_second: 10469.3619, train_label_loss: 0.0944, \n"
     ]
    },
    {
     "name": "stdout",
     "output_type": "stream",
     "text": [
      "epoch: 7, [batch: 215 / 359], examples_per_second: 10868.3351, train_label_loss: 0.1162, \n"
     ]
    },
    {
     "name": "stdout",
     "output_type": "stream",
     "text": [
      "epoch: 7, [batch: 251 / 359], examples_per_second: 10694.3379, train_label_loss: 0.1401, \n"
     ]
    },
    {
     "name": "stdout",
     "output_type": "stream",
     "text": [
      "epoch: 7, [batch: 287 / 359], examples_per_second: 10700.8274, train_label_loss: 0.0995, \n"
     ]
    },
    {
     "name": "stdout",
     "output_type": "stream",
     "text": [
      "epoch: 7, [batch: 323 / 359], examples_per_second: 10669.1122, train_label_loss: 0.1402, \n"
     ]
    },
    {
     "name": "stdout",
     "output_type": "stream",
     "text": [
      "=============================================================\n",
      "epoch: 7, source_val_acc_label: 0.9564, source_val_label_loss: 0.2171, target_val_acc_label: 0.6629, target_val_label_loss: 1.6692, \n",
      "=============================================================\n"
     ]
    },
    {
     "name": "stdout",
     "output_type": "stream",
     "text": [
      "epoch: 8, [batch: 1 / 359], examples_per_second: 141.9828, train_label_loss: 0.0555, \n"
     ]
    },
    {
     "name": "stdout",
     "output_type": "stream",
     "text": [
      "epoch: 8, [batch: 36 / 359], examples_per_second: 11623.5513, train_label_loss: 0.0859, \n"
     ]
    },
    {
     "name": "stdout",
     "output_type": "stream",
     "text": [
      "epoch: 8, [batch: 72 / 359], examples_per_second: 11765.3074, train_label_loss: 0.1888, \n"
     ]
    },
    {
     "name": "stdout",
     "output_type": "stream",
     "text": [
      "epoch: 8, [batch: 108 / 359], examples_per_second: 11763.8322, train_label_loss: 0.1027, \n"
     ]
    },
    {
     "name": "stdout",
     "output_type": "stream",
     "text": [
      "epoch: 8, [batch: 144 / 359], examples_per_second: 11681.5115, train_label_loss: 0.0618, \n"
     ]
    },
    {
     "name": "stdout",
     "output_type": "stream",
     "text": [
      "epoch: 8, [batch: 180 / 359], examples_per_second: 11785.8480, train_label_loss: 0.0943, \n"
     ]
    },
    {
     "name": "stdout",
     "output_type": "stream",
     "text": [
      "epoch: 8, [batch: 215 / 359], examples_per_second: 11641.2445, train_label_loss: 0.0488, \n"
     ]
    },
    {
     "name": "stdout",
     "output_type": "stream",
     "text": [
      "epoch: 8, [batch: 251 / 359], examples_per_second: 11670.4443, train_label_loss: 0.1563, \n"
     ]
    },
    {
     "name": "stdout",
     "output_type": "stream",
     "text": [
      "epoch: 8, [batch: 287 / 359], examples_per_second: 11663.3453, train_label_loss: 0.0866, \n"
     ]
    },
    {
     "name": "stdout",
     "output_type": "stream",
     "text": [
      "epoch: 8, [batch: 323 / 359], examples_per_second: 11565.9239, train_label_loss: 0.0750, \n"
     ]
    },
    {
     "name": "stdout",
     "output_type": "stream",
     "text": [
      "=============================================================\n",
      "epoch: 8, source_val_acc_label: 0.9536, source_val_label_loss: 0.2135, target_val_acc_label: 0.6807, target_val_label_loss: 1.5394, \n",
      "=============================================================\n"
     ]
    },
    {
     "name": "stdout",
     "output_type": "stream",
     "text": [
      "epoch: 9, [batch: 1 / 359], examples_per_second: 149.5396, train_label_loss: 0.0861, \n"
     ]
    },
    {
     "name": "stdout",
     "output_type": "stream",
     "text": [
      "epoch: 9, [batch: 36 / 359], examples_per_second: 11662.5374, train_label_loss: 0.1495, \n"
     ]
    },
    {
     "name": "stdout",
     "output_type": "stream",
     "text": [
      "epoch: 9, [batch: 72 / 359], examples_per_second: 11705.3038, train_label_loss: 0.0846, \n"
     ]
    },
    {
     "name": "stdout",
     "output_type": "stream",
     "text": [
      "epoch: 9, [batch: 108 / 359], examples_per_second: 11745.6662, train_label_loss: 0.1168, \n"
     ]
    },
    {
     "name": "stdout",
     "output_type": "stream",
     "text": [
      "epoch: 9, [batch: 144 / 359], examples_per_second: 11732.8032, train_label_loss: 0.0561, \n"
     ]
    },
    {
     "name": "stdout",
     "output_type": "stream",
     "text": [
      "epoch: 9, [batch: 180 / 359], examples_per_second: 11672.4108, train_label_loss: 0.0580, \n"
     ]
    },
    {
     "name": "stdout",
     "output_type": "stream",
     "text": [
      "epoch: 9, [batch: 215 / 359], examples_per_second: 11678.4838, train_label_loss: 0.0880, \n"
     ]
    },
    {
     "name": "stdout",
     "output_type": "stream",
     "text": [
      "epoch: 9, [batch: 251 / 359], examples_per_second: 11769.4557, train_label_loss: 0.0710, \n"
     ]
    },
    {
     "name": "stdout",
     "output_type": "stream",
     "text": [
      "epoch: 9, [batch: 287 / 359], examples_per_second: 11729.0864, train_label_loss: 0.0812, \n"
     ]
    },
    {
     "name": "stdout",
     "output_type": "stream",
     "text": [
      "epoch: 9, [batch: 323 / 359], examples_per_second: 11649.6014, train_label_loss: 0.1065, \n"
     ]
    },
    {
     "name": "stdout",
     "output_type": "stream",
     "text": [
      "=============================================================\n",
      "epoch: 9, source_val_acc_label: 0.9670, source_val_label_loss: 0.1668, target_val_acc_label: 0.7132, target_val_label_loss: 1.5606, \n",
      "=============================================================\n"
     ]
    },
    {
     "name": "stdout",
     "output_type": "stream",
     "text": [
      "epoch: 10, [batch: 1 / 359], examples_per_second: 151.9252, train_label_loss: 0.1308, \n"
     ]
    },
    {
     "name": "stdout",
     "output_type": "stream",
     "text": [
      "epoch: 10, [batch: 36 / 359], examples_per_second: 11654.8624, train_label_loss: 0.0850, \n"
     ]
    },
    {
     "name": "stdout",
     "output_type": "stream",
     "text": [
      "epoch: 10, [batch: 72 / 359], examples_per_second: 11697.1357, train_label_loss: 0.0547, \n"
     ]
    },
    {
     "name": "stdout",
     "output_type": "stream",
     "text": [
      "epoch: 10, [batch: 108 / 359], examples_per_second: 11590.7693, train_label_loss: 0.1905, \n"
     ]
    },
    {
     "name": "stdout",
     "output_type": "stream",
     "text": [
      "epoch: 10, [batch: 144 / 359], examples_per_second: 11728.1398, train_label_loss: 0.0508, \n"
     ]
    },
    {
     "name": "stdout",
     "output_type": "stream",
     "text": [
      "epoch: 10, [batch: 180 / 359], examples_per_second: 11644.5760, train_label_loss: 0.0289, \n"
     ]
    },
    {
     "name": "stdout",
     "output_type": "stream",
     "text": [
      "epoch: 10, [batch: 215 / 359], examples_per_second: 11815.7655, train_label_loss: 0.1099, \n"
     ]
    },
    {
     "name": "stdout",
     "output_type": "stream",
     "text": [
      "epoch: 10, [batch: 251 / 359], examples_per_second: 11748.4936, train_label_loss: 0.0614, \n"
     ]
    },
    {
     "name": "stdout",
     "output_type": "stream",
     "text": [
      "epoch: 10, [batch: 287 / 359], examples_per_second: 11663.2045, train_label_loss: 0.1684, \n"
     ]
    },
    {
     "name": "stdout",
     "output_type": "stream",
     "text": [
      "epoch: 10, [batch: 323 / 359], examples_per_second: 11805.4652, train_label_loss: 0.1267, \n"
     ]
    },
    {
     "name": "stdout",
     "output_type": "stream",
     "text": [
      "=============================================================\n",
      "epoch: 10, source_val_acc_label: 0.9526, source_val_label_loss: 0.2581, target_val_acc_label: 0.6633, target_val_label_loss: 1.8209, \n",
      "=============================================================\n"
     ]
    },
    {
     "name": "stdout",
     "output_type": "stream",
     "text": [
      "Patience (3) exhausted\n"
     ]
    }
   ],
   "source": [
    "jig = Vanilla_Train_Eval_Test_Jig(\n",
    "    model=model,\n",
    "    path_to_best_model=p.BEST_MODEL_PATH,\n",
    "    device=p.device,\n",
    "    label_loss_object=torch.nn.NLLLoss(),\n",
    ")\n",
    "\n",
    "jig.train(\n",
    "    train_iterable=datasets.source.processed.train,\n",
    "    source_val_iterable=datasets.source.processed.val,\n",
    "    target_val_iterable=datasets.target.processed.val,\n",
    "    patience=p.patience,\n",
    "    num_epochs=p.n_epoch,\n",
    "    num_logs_per_epoch=p.NUM_LOGS_PER_EPOCH,\n",
    "    criteria_for_best=p.criteria_for_best\n",
    ")"
   ]
  },
  {
   "cell_type": "code",
   "execution_count": 14,
   "id": "4bc2ac17",
   "metadata": {
    "execution": {
     "iopub.execute_input": "2022-03-26T02:09:11.213198Z",
     "iopub.status.busy": "2022-03-26T02:09:11.212822Z",
     "iopub.status.idle": "2022-03-26T02:09:11.215461Z",
     "shell.execute_reply": "2022-03-26T02:09:11.215781Z"
    },
    "papermill": {
     "duration": 0.052852,
     "end_time": "2022-03-26T02:09:11.215864",
     "exception": false,
     "start_time": "2022-03-26T02:09:11.163012",
     "status": "completed"
    },
    "tags": []
   },
   "outputs": [],
   "source": [
    "total_experiment_time_secs = time.time() - start_time_secs"
   ]
  },
  {
   "cell_type": "code",
   "execution_count": 15,
   "id": "cae88f23",
   "metadata": {
    "execution": {
     "iopub.execute_input": "2022-03-26T02:09:11.319068Z",
     "iopub.status.busy": "2022-03-26T02:09:11.317990Z",
     "iopub.status.idle": "2022-03-26T02:09:23.199320Z",
     "shell.execute_reply": "2022-03-26T02:09:23.198425Z"
    },
    "papermill": {
     "duration": 11.937565,
     "end_time": "2022-03-26T02:09:23.199502",
     "exception": false,
     "start_time": "2022-03-26T02:09:11.261937",
     "status": "completed"
    },
    "tags": []
   },
   "outputs": [],
   "source": [
    "source_test_label_accuracy, source_test_label_loss = jig.test(datasets.source.processed.test)\n",
    "target_test_label_accuracy, target_test_label_loss = jig.test(datasets.target.processed.test)\n",
    "\n",
    "source_val_label_accuracy, source_val_label_loss = jig.test(datasets.source.processed.val)\n",
    "target_val_label_accuracy, target_val_label_loss = jig.test(datasets.target.processed.val)\n",
    "\n",
    "history = jig.get_history()\n",
    "\n",
    "total_epochs_trained = len(history[\"epoch_indices\"])\n",
    "\n",
    "val_dl = wrap_in_dataloader(p, Sequence_Aggregator((datasets.source.original.val, datasets.target.original.val)))\n",
    "\n",
    "confusion = confusion_by_domain_over_dataloader(model, p.device, val_dl, forward_uses_domain=False)\n",
    "per_domain_accuracy = per_domain_accuracy_from_confusion(confusion)\n",
    "\n",
    "# Add a key to per_domain_accuracy for if it was a source domain\n",
    "for domain, accuracy in per_domain_accuracy.items():\n",
    "    per_domain_accuracy[domain] = {\n",
    "        \"accuracy\": accuracy,\n",
    "        \"source?\": domain in p.domains_source\n",
    "    }\n",
    "\n",
    "# Do an independent accuracy assesment JUST TO BE SURE!\n",
    "# _source_test_label_accuracy = independent_accuracy_assesment(model, datasets.source.processed.test, p.device)\n",
    "# _target_test_label_accuracy = independent_accuracy_assesment(model, datasets.target.processed.test, p.device)\n",
    "# _source_val_label_accuracy = independent_accuracy_assesment(model, datasets.source.processed.val, p.device)\n",
    "# _target_val_label_accuracy = independent_accuracy_assesment(model, datasets.target.processed.val, p.device)\n",
    "\n",
    "# assert(_source_test_label_accuracy == source_test_label_accuracy)\n",
    "# assert(_target_test_label_accuracy == target_test_label_accuracy)\n",
    "# assert(_source_val_label_accuracy == source_val_label_accuracy)\n",
    "# assert(_target_val_label_accuracy == target_val_label_accuracy)\n",
    "\n",
    "###################################\n",
    "# Write out the results\n",
    "###################################\n",
    "\n",
    "experiment = {\n",
    "    \"experiment_name\": p.experiment_name,\n",
    "    \"parameters\": p,\n",
    "    \"results\": {\n",
    "        \"source_test_label_accuracy\": source_test_label_accuracy,\n",
    "        \"source_test_label_loss\": source_test_label_loss,\n",
    "        \"target_test_label_accuracy\": target_test_label_accuracy,\n",
    "        \"target_test_label_loss\": target_test_label_loss,\n",
    "        \"source_val_label_accuracy\": source_val_label_accuracy,\n",
    "        \"source_val_label_loss\": source_val_label_loss,\n",
    "        \"target_val_label_accuracy\": target_val_label_accuracy,\n",
    "        \"target_val_label_loss\": target_val_label_loss,\n",
    "        \"total_epochs_trained\": total_epochs_trained,\n",
    "        \"total_experiment_time_secs\": total_experiment_time_secs,\n",
    "        \"confusion\": confusion,\n",
    "        \"per_domain_accuracy\": per_domain_accuracy,\n",
    "    },\n",
    "    \"history\": history,\n",
    "    \"dataset_metrics\": get_dataset_metrics(datasets, \"cnn\"),\n",
    "}"
   ]
  },
  {
   "cell_type": "code",
   "execution_count": 16,
   "id": "74c318cf",
   "metadata": {
    "execution": {
     "iopub.execute_input": "2022-03-26T02:09:23.316963Z",
     "iopub.status.busy": "2022-03-26T02:09:23.316146Z",
     "iopub.status.idle": "2022-03-26T02:09:23.784212Z",
     "shell.execute_reply": "2022-03-26T02:09:23.784903Z"
    },
    "papermill": {
     "duration": 0.534474,
     "end_time": "2022-03-26T02:09:23.785097",
     "exception": false,
     "start_time": "2022-03-26T02:09:23.250623",
     "status": "completed"
    },
    "tags": []
   },
   "outputs": [
    {
     "data": {
      "text/plain": [
       "<AxesSubplot:title={'center':'Source Train Label Loss vs Source Val Label Loss'}, xlabel='Epoch'>"
      ]
     },
     "execution_count": 16,
     "metadata": {},
     "output_type": "execute_result"
    },
    {
     "data": {
      "image/png": "[encoded data removed]",
      "text/plain": [
       "<Figure size 1080x504 with 1 Axes>"
      ]
     },
     "metadata": {
      "needs_background": "light"
     },
     "output_type": "display_data"
    }
   ],
   "source": [
    "get_loss_curve(experiment)"
   ]
  },
  {
   "cell_type": "code",
   "execution_count": 17,
   "id": "59376601",
   "metadata": {
    "execution": {
     "iopub.execute_input": "2022-03-26T02:09:23.908140Z",
     "iopub.status.busy": "2022-03-26T02:09:23.895309Z",
     "iopub.status.idle": "2022-03-26T02:09:24.176768Z",
     "shell.execute_reply": "2022-03-26T02:09:24.177443Z"
    },
    "papermill": {
     "duration": 0.339639,
     "end_time": "2022-03-26T02:09:24.177629",
     "exception": false,
     "start_time": "2022-03-26T02:09:23.837990",
     "status": "completed"
    },
    "tags": []
   },
   "outputs": [
    {
     "data": {
      "text/plain": [
       "<AxesSubplot:title={'center':'Results'}>"
      ]
     },
     "execution_count": 17,
     "metadata": {},
     "output_type": "execute_result"
    },
    {
     "data": {
      "image/png": "[encoded data removed]",
      "text/plain": [
       "<Figure size 1080x504 with 1 Axes>"
      ]
     },
     "metadata": {
      "needs_background": "light"
     },
     "output_type": "display_data"
    }
   ],
   "source": [
    "get_results_table(experiment)"
   ]
  },
  {
   "cell_type": "code",
   "execution_count": 18,
   "id": "e80c5c98",
   "metadata": {
    "execution": {
     "iopub.execute_input": "2022-03-26T02:09:24.300008Z",
     "iopub.status.busy": "2022-03-26T02:09:24.299076Z",
     "iopub.status.idle": "2022-03-26T02:09:24.441144Z",
     "shell.execute_reply": "2022-03-26T02:09:24.440328Z"
    },
    "papermill": {
     "duration": 0.210047,
     "end_time": "2022-03-26T02:09:24.441305",
     "exception": false,
     "start_time": "2022-03-26T02:09:24.231258",
     "status": "completed"
    },
    "tags": []
   },
   "outputs": [
    {
     "data": {
      "text/plain": [
       "<AxesSubplot:title={'center':'Per Domain Accuracy'}, xlabel='domain'>"
      ]
     },
     "execution_count": 18,
     "metadata": {},
     "output_type": "execute_result"
    },
    {
     "data": {
      "image/png": "[encoded data removed]",
      "text/plain": [
       "<Figure size 1080x504 with 1 Axes>"
      ]
     },
     "metadata": {
      "needs_background": "light"
     },
     "output_type": "display_data"
    }
   ],
   "source": [
    "get_domain_accuracies(experiment)"
   ]
  },
  {
   "cell_type": "code",
   "execution_count": 19,
   "id": "086fdd10",
   "metadata": {
    "execution": {
     "iopub.execute_input": "2022-03-26T02:09:24.547983Z",
     "iopub.status.busy": "2022-03-26T02:09:24.547480Z",
     "iopub.status.idle": "2022-03-26T02:09:24.551700Z",
     "shell.execute_reply": "2022-03-26T02:09:24.551112Z"
    },
    "papermill": {
     "duration": 0.056937,
     "end_time": "2022-03-26T02:09:24.551815",
     "exception": false,
     "start_time": "2022-03-26T02:09:24.494878",
     "status": "completed"
    },
    "tags": []
   },
   "outputs": [
    {
     "name": "stdout",
     "output_type": "stream",
     "text": [
      "Source Test Label Accuracy: 0.968496036921842 Target Test Label Accuracy: 0.7152456275720165\n",
      "Source Val Label Accuracy: 0.9698364008179959 Target Val Label Accuracy: 0.7181776556776557\n"
     ]
    }
   ],
   "source": [
    "print(\"Source Test Label Accuracy:\", experiment[\"results\"][\"source_test_label_accuracy\"], \"Target Test Label Accuracy:\", experiment[\"results\"][\"target_test_label_accuracy\"])\n",
    "print(\"Source Val Label Accuracy:\", experiment[\"results\"][\"source_val_label_accuracy\"], \"Target Val Label Accuracy:\", experiment[\"results\"][\"target_val_label_accuracy\"])"
   ]
  },
  {
   "cell_type": "code",
   "execution_count": 20,
   "id": "9f450536",
   "metadata": {
    "execution": {
     "iopub.execute_input": "2022-03-26T02:09:24.662115Z",
     "iopub.status.busy": "2022-03-26T02:09:24.661501Z",
     "iopub.status.idle": "2022-03-26T02:09:24.665222Z",
     "shell.execute_reply": "2022-03-26T02:09:24.664655Z"
    },
    "papermill": {
     "duration": 0.05819,
     "end_time": "2022-03-26T02:09:24.665333",
     "exception": false,
     "start_time": "2022-03-26T02:09:24.607143",
     "status": "completed"
    },
    "tags": [
     "experiment_json"
    ]
   },
   "outputs": [
    {
     "data": {
      "text/plain": [
       "'{\"experiment_name\": \"cnn_1:wisig\", \"parameters\": {\"experiment_name\": \"cnn_1:wisig\", \"labels\": [\"1-10\", \"1-12\", \"1-14\", \"1-16\", \"1-18\", \"1-19\", \"1-8\", \"10-11\", \"10-17\", \"10-4\", \"10-7\", \"11-1\", \"11-10\", \"11-19\", \"11-20\", \"11-4\", \"11-7\", \"12-19\", \"12-20\", \"12-7\", \"13-14\", \"13-18\", \"13-19\", \"13-20\", \"13-3\", \"13-7\", \"14-10\", \"14-11\", \"14-12\", \"14-13\", \"14-14\", \"14-19\", \"14-20\", \"14-7\", \"14-8\", \"14-9\", \"15-1\", \"15-19\", \"15-6\", \"16-1\", \"16-16\", \"16-19\", \"16-20\", \"17-10\", \"17-11\", \"18-1\", \"18-10\", \"18-11\", \"18-12\", \"18-13\", \"18-14\", \"18-15\", \"18-16\", \"18-17\", \"18-19\", \"18-2\", \"18-20\", \"18-4\", \"18-5\", \"18-7\", \"18-8\", \"18-9\", \"19-1\", \"19-10\", \"19-11\", \"19-12\", \"19-13\", \"19-14\", \"19-15\", \"19-19\", \"19-2\", \"19-20\", \"19-3\", \"19-4\", \"19-6\", \"19-7\", \"19-8\", \"19-9\", \"2-1\", \"2-13\", \"2-15\", \"2-3\", \"2-4\", \"2-5\", \"2-6\", \"2-7\", \"2-8\", \"20-1\", \"20-12\", \"20-14\", \"20-15\", \"20-16\", \"20-18\", \"20-19\", \"20-20\", \"20-3\", \"20-4\", \"20-5\", \"20-7\", \"20-8\", \"3-1\", \"3-13\", \"3-18\", \"3-2\", \"3-8\", \"4-1\", \"4-10\", \"4-11\", \"5-1\", \"5-5\", \"6-1\", \"6-15\", \"6-6\", \"7-10\", \"7-11\", \"7-12\", \"7-13\", \"7-14\", \"7-7\", \"7-8\", \"7-9\", \"8-1\", \"8-13\", \"8-14\", \"8-18\", \"8-20\", \"8-3\", \"8-8\", \"9-1\", \"9-7\"], \"domains_source\": [3], \"domains_target\": [1, 2, 4], \"pickle_name_target\": \"wisig.node3-19.stratified_ds.2022A.pkl\", \"pickle_name_source\": \"wisig.node3-19.stratified_ds.2022A.pkl\", \"device\": \"cuda\", \"lr\": 0.0001, \"batch_size\": 128, \"normalize_source\": false, \"normalize_target\": false, \"num_examples_per_domain_per_label_source\": -1, \"num_examples_per_domain_per_label_target\": -1, \"torch_default_dtype\": \"torch.float32\", \"n_epoch\": 50, \"patience\": 3, \"criteria_for_best\": \"target_accuracy\", \"x_net\": [{\"class\": \"nnReshape\", \"kargs\": {\"shape\": [-1, 1, 2, 256]}}, {\"class\": \"Conv2d\", \"kargs\": {\"in_channels\": 1, \"out_channels\": 256, \"kernel_size\": [1, 7], \"bias\": false, \"padding\": [0, 3]}}, {\"class\": \"ReLU\", \"kargs\": {\"inplace\": true}}, {\"class\": \"BatchNorm2d\", \"kargs\": {\"num_features\": 256}}, {\"class\": \"Conv2d\", \"kargs\": {\"in_channels\": 256, \"out_channels\": 80, \"kernel_size\": [2, 7], \"bias\": true, \"padding\": [0, 3]}}, {\"class\": \"ReLU\", \"kargs\": {\"inplace\": true}}, {\"class\": \"BatchNorm2d\", \"kargs\": {\"num_features\": 80}}, {\"class\": \"Flatten\", \"kargs\": {}}, {\"class\": \"Linear\", \"kargs\": {\"in_features\": 20480, \"out_features\": 256}}, {\"class\": \"ReLU\", \"kargs\": {\"inplace\": true}}, {\"class\": \"BatchNorm1d\", \"kargs\": {\"num_features\": 256}}, {\"class\": \"Linear\", \"kargs\": {\"in_features\": 256, \"out_features\": 130}}], \"NUM_LOGS_PER_EPOCH\": 10, \"BEST_MODEL_PATH\": \"./best_model.pth\", \"dataset_seed\": 1337, \"seed\": 1337}, \"results\": {\"source_test_label_accuracy\": 0.968496036921842, \"source_test_label_loss\": 0.19462999663291833, \"target_test_label_accuracy\": 0.7152456275720165, \"target_test_label_loss\": 1.4030408243583554, \"source_val_label_accuracy\": 0.9698364008179959, \"source_val_label_loss\": 0.18291308875981863, \"target_val_label_accuracy\": 0.7181776556776557, \"target_val_label_loss\": 1.3920148229499243, \"total_epochs_trained\": 10, \"total_experiment_time_secs\": 67.45080351829529, \"confusion\": {\"1\": {\"63\": {\"70\": 1, \"63\": 21}, \"26\": {\"26\": 169, \"21\": 2, \"101\": 1}, \"109\": {\"70\": 133, \"108\": 8, \"39\": 7, \"88\": 10}, \"40\": {\"40\": 178, \"69\": 2}, \"7\": {\"7\": 182, \"87\": 1}, \"114\": {\"114\": 177, \"69\": 1, \"88\": 1, \"21\": 1}, \"90\": {\"90\": 232}, \"36\": {\"36\": 168, \"69\": 1, \"21\": 2}, \"81\": {\"107\": 14, \"14\": 23, \"117\": 1}, \"12\": {\"12\": 128, \"88\": 2, \"21\": 1, \"106\": 1}, \"127\": {\"127\": 135, \"21\": 1}, \"14\": {\"14\": 121, \"127\": 1}, \"57\": {\"57\": 17, \"40\": 1, \"119\": 1}, \"92\": {\"95\": 39}, \"18\": {\"113\": 154, \"21\": 2, \"18\": 1}, \"43\": {\"109\": 37, \"122\": 29, \"10\": 30, \"87\": 34, \"43\": 28, \"11\": 1, \"121\": 1, \"127\": 1, \"78\": 1}, \"4\": {\"4\": 126, \"69\": 1}, \"97\": {\"36\": 13, \"108\": 12, \"8\": 1, \"27\": 1}, \"10\": {\"10\": 146, \"6\": 1, \"69\": 2, \"21\": 2, \"58\": 1}, \"93\": {\"10\": 6, \"87\": 186, \"122\": 6, \"108\": 1, \"30\": 1, \"11\": 1}, \"115\": {\"80\": 16, \"103\": 2}, \"5\": {\"5\": 109, \"66\": 1, \"94\": 2, \"88\": 1, \"123\": 1}, \"102\": {\"102\": 153, \"69\": 1}, \"82\": {\"82\": 47, \"114\": 1}, \"33\": {\"33\": 195, \"34\": 1, \"129\": 1}, \"117\": {\"117\": 179, \"21\": 1}, \"70\": {\"70\": 138, \"88\": 15, \"11\": 4, \"69\": 2, \"108\": 1, \"39\": 1}, \"124\": {\"124\": 163}, \"113\": {\"26\": 131, \"126\": 16, \"93\": 7, \"11\": 1}, \"128\": {\"128\": 32, \"29\": 1, \"16\": 1}, \"68\": {\"73\": 12, \"68\": 6, \"128\": 2, \"111\": 2, \"117\": 1}, \"126\": {\"108\": 161, \"36\": 4, \"27\": 3, \"24\": 1, \"21\": 1}, \"107\": {\"107\": 67, \"127\": 72, \"40\": 1, \"105\": 14, \"126\": 1}, \"110\": {\"127\": 149, \"122\": 13, \"69\": 1, \"101\": 1}, \"0\": {\"0\": 64, \"7\": 5, \"62\": 31, \"70\": 1, \"10\": 2, \"21\": 2, \"88\": 1}, \"42\": {\"91\": 13, \"90\": 14, \"42\": 8, \"21\": 1}, \"2\": {\"2\": 33, \"98\": 2, \"123\": 3, \"44\": 1, \"21\": 1, \"26\": 1}, \"47\": {\"53\": 7, \"42\": 5, \"85\": 1, \"83\": 3, \"112\": 1}, \"44\": {\"3\": 71, \"60\": 19, \"49\": 3, \"114\": 2}, \"108\": {\"108\": 142, \"27\": 10, \"11\": 2, \"70\": 1, \"21\": 1}, \"89\": {\"52\": 43, \"1\": 3}, \"16\": {\"16\": 115, \"18\": 6, \"21\": 3, \"118\": 8, \"26\": 6}, \"59\": {\"59\": 16, \"121\": 1, \"26\": 1, \"61\": 1}, \"24\": {\"27\": 28, \"36\": 43, \"11\": 1, \"108\": 43, \"21\": 1}, \"101\": {\"101\": 152, \"21\": 1, \"12\": 1, \"14\": 2, \"106\": 1, \"81\": 1}, \"3\": {\"3\": 73, \"114\": 20, \"44\": 14, \"75\": 1, \"39\": 1, \"11\": 1, \"21\": 1}, \"9\": {\"49\": 9, \"20\": 6, \"36\": 19, \"53\": 2, \"8\": 2, \"52\": 1, \"124\": 1}, \"105\": {\"105\": 106, \"78\": 1, \"40\": 1}, \"41\": {\"37\": 5, \"103\": 17, \"40\": 1, \"6\": 1}, \"52\": {\"25\": 27}, \"116\": {\"116\": 42, \"89\": 1, \"129\": 1}, \"106\": {\"12\": 169, \"69\": 2, \"21\": 2, \"106\": 1}, \"80\": {\"115\": 22}, \"87\": {\"87\": 51, \"122\": 78, \"69\": 1, \"21\": 4, \"11\": 2}, \"95\": {\"61\": 14, \"26\": 16, \"49\": 5, \"48\": 8, \"23\": 2, \"90\": 2}, \"20\": {\"19\": 19, \"20\": 4, \"54\": 1}, \"38\": {\"38\": 13, \"91\": 6, \"66\": 1}, \"62\": {\"62\": 150, \"66\": 1}, \"37\": {\"37\": 22}, \"111\": {\"111\": 148, \"10\": 1, \"69\": 1, \"70\": 1, \"109\": 1}, \"98\": {\"98\": 136}, \"129\": {\"129\": 38, \"38\": 1}, \"39\": {\"39\": 118, \"11\": 8, \"21\": 2, \"72\": 1, \"109\": 1, \"110\": 1, \"70\": 1}, \"118\": {\"118\": 103, \"109\": 2}, \"88\": {\"27\": 83, \"108\": 80, \"24\": 2, \"36\": 10}, \"69\": {\"62\": 137, \"21\": 1}, \"27\": {\"8\": 5, \"27\": 61, \"36\": 50, \"101\": 1, \"69\": 2}, \"84\": {\"84\": 159, \"127\": 8, \"11\": 1, \"66\": 1, \"69\": 1}, \"21\": {\"69\": 2, \"21\": 39, \"70\": 6, \"78\": 3, \"66\": 1}, \"29\": {\"53\": 3, \"20\": 17, \"8\": 12, \"85\": 4, \"42\": 1}, \"91\": {\"91\": 38, \"61\": 1}, \"50\": {\"62\": 12, \"9\": 1, \"55\": 1, \"32\": 4, \"14\": 3}, \"99\": {\"53\": 27, \"23\": 4, \"29\": 1}, \"8\": {\"11\": 99, \"8\": 83, \"110\": 1}, \"30\": {\"30\": 67, \"21\": 1}, \"94\": {\"94\": 114, \"8\": 2, \"36\": 1, \"30\": 1}, \"54\": {\"1\": 1, \"91\": 8, \"19\": 3, \"98\": 1, \"111\": 1, \"53\": 2, \"46\": 4, \"52\": 1, \"73\": 1, \"79\": 1}, \"11\": {\"11\": 171, \"69\": 1, \"109\": 1}, \"71\": {\"3\": 112, \"127\": 9, \"71\": 5, \"12\": 4, \"70\": 1, \"21\": 2, \"69\": 1, \"45\": 1, \"88\": 1}, \"6\": {\"6\": 38, \"11\": 1, \"21\": 1}, \"83\": {\"19\": 16, \"73\": 11, \"34\": 2, \"3\": 1, \"108\": 1, \"21\": 1, \"40\": 1, \"91\": 1, \"28\": 4, \"88\": 1}, \"73\": {\"114\": 10, \"129\": 15, \"46\": 2, \"75\": 1, \"78\": 1}, \"125\": {\"125\": 219}, \"119\": {\"119\": 24}, \"1\": {\"1\": 166, \"21\": 3, \"69\": 1, \"114\": 1}, \"122\": {\"122\": 104, \"87\": 1, \"127\": 1, \"109\": 5, \"11\": 1}, \"66\": {\"28\": 17, \"90\": 7}, \"96\": {\"49\": 8, \"96\": 14, \"93\": 1, \"36\": 2, \"108\": 1, \"101\": 1, \"123\": 1}, \"61\": {\"30\": 1, \"29\": 13, \"72\": 1, \"125\": 1, \"40\": 2, \"18\": 1}, \"23\": {\"15\": 1, \"0\": 3, \"49\": 13, \"110\": 5, \"122\": 3, \"113\": 1, \"69\": 1, \"23\": 1, \"30\": 1, \"96\": 1}, \"46\": {\"115\": 5, \"119\": 4, \"91\": 2, \"46\": 4, \"38\": 1, \"5\": 1, \"125\": 1}, \"17\": {\"46\": 10, \"5\": 8, \"4\": 3, \"17\": 1}, \"49\": {\"128\": 4, \"54\": 2, \"111\": 1, \"98\": 7, \"114\": 4, \"127\": 1, \"49\": 1, \"73\": 4, \"107\": 1}, \"19\": {\"19\": 38}, \"72\": {\"72\": 32, \"47\": 3, \"46\": 5}, \"22\": {\"90\": 10, \"121\": 1, \"116\": 10, \"26\": 1, \"78\": 1, \"27\": 1}, \"32\": {\"128\": 29, \"32\": 2, \"75\": 3, \"72\": 3, \"61\": 1, \"120\": 1, \"9\": 2}, \"85\": {\"95\": 42}, \"28\": {\"28\": 24, \"33\": 1}, \"60\": {\"23\": 11, \"60\": 8, \"110\": 3, \"101\": 1}, \"74\": {\"74\": 21, \"6\": 1}, \"58\": {\"58\": 14, \"73\": 4, \"52\": 1}, \"77\": {\"99\": 18, \"88\": 1, \"103\": 1}, \"56\": {\"56\": 18}, \"48\": {\"48\": 18}, \"53\": {\"75\": 7, \"71\": 2, \"73\": 9, \"127\": 1, \"114\": 2, \"59\": 2, \"72\": 1, \"98\": 1}, \"100\": {\"119\": 11, \"93\": 7, \"53\": 4, \"21\": 1}, \"15\": {\"15\": 131, \"21\": 1, \"69\": 1}, \"34\": {\"34\": 37, \"71\": 3}, \"64\": {\"64\": 21, \"116\": 1, \"90\": 1}, \"121\": {\"121\": 41}, \"123\": {\"123\": 22, \"63\": 1}, \"55\": {\"4\": 11, \"5\": 4, \"55\": 2}, \"78\": {\"78\": 14, \"10\": 3, \"109\": 5, \"21\": 1, \"69\": 1}, \"65\": {\"57\": 8, \"116\": 10, \"69\": 1}, \"120\": {\"32\": 19, \"88\": 1, \"45\": 5}, \"67\": {\"115\": 20, \"33\": 2}, \"51\": {\"34\": 14, \"75\": 8}, \"45\": {\"45\": 10, \"29\": 5}, \"25\": {\"20\": 6, \"79\": 13, \"69\": 1, \"42\": 1}, \"79\": {\"79\": 16, \"42\": 2}, \"75\": {\"127\": 7, \"91\": 9, \"19\": 3, \"3\": 2, \"56\": 1}, \"76\": {\"107\": 2, \"84\": 14, \"40\": 3, \"76\": 2, \"18\": 1, \"62\": 1, \"89\": 1}, \"13\": {\"13\": 19, \"2\": 4}, \"86\": {\"103\": 28, \"91\": 6, \"29\": 6, \"59\": 4, \"4\": 1, \"125\": 1, \"27\": 1, \"86\": 1}, \"31\": {\"49\": 18, \"60\": 1, \"52\": 1, \"114\": 1, \"85\": 2}, \"104\": {\"112\": 19, \"42\": 1, \"2\": 1, \"19\": 1, \"21\": 1}, \"35\": {\"35\": 16, \"14\": 1}, \"103\": {\"124\": 7, \"42\": 6, \"53\": 8, \"8\": 1}, \"112\": {\"91\": 2, \"4\": 4, \"68\": 2, \"56\": 9, \"70\": 1, \"6\": 1, \"98\": 2, \"26\": 1, \"72\": 1}}, \"4\": {\"29\": {\"72\": 35, \"56\": 1, \"77\": 2, \"73\": 1, \"98\": 1}, \"127\": {\"127\": 131, \"69\": 1, \"21\": 2, \"101\": 1}, \"71\": {\"71\": 124, \"127\": 1, \"11\": 1, \"114\": 1, \"121\": 1, \"94\": 1, \"70\": 1}, \"3\": {\"3\": 136, \"114\": 25, \"21\": 1, \"101\": 2, \"88\": 1, \"27\": 3, \"71\": 1, \"5\": 1, \"26\": 1}, \"113\": {\"113\": 152, \"11\": 2, \"93\": 1, \"5\": 1, \"126\": 3, \"101\": 1, \"127\": 1, \"88\": 1}, \"110\": {\"118\": 1, \"110\": 155, \"126\": 1, \"11\": 5, \"24\": 1, \"69\": 1}, \"117\": {\"117\": 155, \"101\": 2, \"81\": 1}, \"33\": {\"33\": 191, \"117\": 1, \"126\": 1, \"128\": 1, \"102\": 1}, \"84\": {\"84\": 160, \"118\": 1, \"26\": 1, \"71\": 1, \"101\": 1, \"127\": 1, \"88\": 1, \"39\": 1, \"69\": 1}, \"129\": {\"129\": 35, \"124\": 1, \"58\": 1}, \"27\": {\"27\": 80, \"108\": 15, \"21\": 1, \"36\": 6, \"8\": 18, \"11\": 2, \"69\": 1, \"101\": 2, \"30\": 1, \"94\": 1}, \"89\": {\"90\": 29, \"89\": 7, \"35\": 4, \"98\": 1}, \"94\": {\"94\": 99, \"101\": 2, \"36\": 7, \"21\": 2}, \"38\": {\"90\": 21}, \"64\": {\"115\": 2, \"38\": 20, \"91\": 1}, \"30\": {\"30\": 89, \"88\": 2, \"126\": 1, \"101\": 1, \"70\": 1, \"5\": 1, \"27\": 1}, \"107\": {\"107\": 179, \"40\": 1, \"88\": 1}, \"11\": {\"108\": 42, \"8\": 140, \"11\": 11, \"39\": 1, \"21\": 1, \"107\": 1}, \"93\": {\"93\": 205, \"128\": 1, \"69\": 2, \"110\": 1}, \"105\": {\"105\": 117, \"40\": 5, \"88\": 1, \"29\": 1, \"18\": 1, \"27\": 1, \"69\": 1}, \"54\": {\"54\": 23}, \"18\": {\"18\": 154}, \"34\": {\"34\": 39, \"117\": 1, \"75\": 1}, \"36\": {\"36\": 155, \"88\": 1, \"27\": 7, \"21\": 1}, \"101\": {\"0\": 152, \"101\": 13, \"117\": 1, \"10\": 1}, \"87\": {\"87\": 163, \"11\": 4, \"21\": 1, \"122\": 1}, \"70\": {\"70\": 113, \"108\": 20, \"21\": 1, \"40\": 1, \"11\": 6, \"88\": 8, \"27\": 1, \"69\": 2, \"101\": 1, \"110\": 1, \"30\": 1}, \"10\": {\"70\": 98, \"27\": 22, \"30\": 2, \"10\": 10, \"88\": 11, \"24\": 5, \"108\": 2, \"127\": 1, \"126\": 1, \"101\": 3}, \"8\": {\"8\": 181, \"127\": 1, \"101\": 2}, \"28\": {\"79\": 13, \"53\": 4, \"20\": 1, \"85\": 1, \"32\": 6, \"114\": 1}, \"102\": {\"102\": 168, \"126\": 2}, \"111\": {\"111\": 165, \"5\": 9, \"101\": 2, \"21\": 2, \"98\": 1}, \"62\": {\"36\": 1, \"62\": 69, \"110\": 2, \"21\": 1, \"101\": 5}, \"108\": {\"11\": 95, \"88\": 8, \"94\": 1, \"108\": 3, \"18\": 1, \"27\": 2, \"101\": 2, \"69\": 1, \"126\": 2, \"39\": 1, \"8\": 1, \"36\": 1}, \"16\": {\"118\": 132, \"18\": 23, \"27\": 1, \"39\": 1, \"101\": 2}, \"39\": {\"39\": 111, \"109\": 4, \"126\": 6, \"101\": 3, \"21\": 1, \"11\": 1, \"27\": 1, \"127\": 1}, \"98\": {\"98\": 146, \"128\": 1, \"78\": 1, \"44\": 1, \"14\": 1, \"101\": 1, \"29\": 1}, \"114\": {\"114\": 159, \"12\": 1, \"126\": 2}, \"24\": {\"88\": 7, \"24\": 100, \"27\": 37, \"101\": 2, \"36\": 2, \"108\": 2, \"71\": 1}, \"1\": {\"1\": 126, \"88\": 2, \"75\": 1, \"27\": 2, \"114\": 1, \"70\": 1, \"94\": 1, \"107\": 1}, \"96\": {\"60\": 8, \"114\": 1, \"110\": 1, \"118\": 2, \"93\": 10, \"98\": 1, \"21\": 2, \"14\": 3, \"109\": 1}, \"46\": {\"46\": 23, \"20\": 1, \"128\": 1}, \"69\": {\"69\": 157, \"62\": 2, \"21\": 2, \"126\": 1, \"101\": 1, \"70\": 1}, \"5\": {\"114\": 28, \"53\": 125, \"1\": 11, \"88\": 2, \"27\": 2, \"44\": 1, \"5\": 2, \"128\": 1}, \"32\": {\"32\": 35, \"21\": 1}, \"4\": {\"4\": 127, \"39\": 1, \"21\": 1, \"88\": 1}, \"122\": {\"122\": 86, \"110\": 2, \"43\": 2, \"109\": 2, \"11\": 3, \"39\": 2, \"21\": 2, \"81\": 1, \"27\": 1, \"101\": 1, \"88\": 1, \"126\": 1, \"69\": 2}, \"126\": {\"126\": 145, \"39\": 10, \"11\": 1, \"21\": 1, \"27\": 1, \"69\": 1}, \"14\": {\"14\": 140, \"88\": 1}, \"17\": {\"17\": 25, \"41\": 1}, \"53\": {\"72\": 8, \"114\": 13, \"34\": 1, \"47\": 1, \"73\": 1}, \"90\": {\"90\": 222, \"101\": 1, \"98\": 1, \"81\": 1}, \"85\": {\"98\": 10, \"34\": 16, \"75\": 8, \"90\": 4}, \"125\": {\"125\": 189, \"101\": 1}, \"118\": {\"118\": 127, \"128\": 1, \"109\": 6, \"21\": 1, \"62\": 1, \"36\": 1, \"12\": 1, \"88\": 1, \"126\": 1}, \"26\": {\"26\": 158, \"101\": 1, \"21\": 1, \"11\": 1}, \"124\": {\"124\": 151, \"98\": 1}, \"15\": {\"15\": 131, \"36\": 9, \"8\": 8, \"97\": 9, \"88\": 1, \"69\": 1, \"30\": 3, \"11\": 1, \"21\": 1}, \"0\": {\"0\": 137, \"27\": 1, \"88\": 5, \"11\": 1, \"10\": 1, \"122\": 1, \"101\": 3}, \"88\": {\"21\": 1, \"88\": 127, \"39\": 3, \"70\": 25, \"98\": 1, \"101\": 3, \"108\": 1, \"11\": 5, \"69\": 1}, \"99\": {\"99\": 45, \"63\": 1, \"118\": 1, \"32\": 1, \"11\": 3}, \"100\": {\"100\": 21, \"91\": 1, \"111\": 1, \"88\": 1, \"63\": 1}, \"97\": {\"27\": 14, \"24\": 7, \"36\": 2, \"108\": 3, \"70\": 2}, \"6\": {\"6\": 31, \"73\": 1, \"25\": 1}, \"104\": {\"104\": 23}, \"22\": {\"22\": 23}, \"50\": {\"82\": 21, \"102\": 1, \"4\": 1, \"69\": 1}, \"119\": {\"129\": 7, \"80\": 7, \"100\": 6, \"21\": 1, \"90\": 1}, \"12\": {\"12\": 119, \"8\": 1, \"127\": 1, \"106\": 3, \"109\": 1, \"111\": 1, \"25\": 1, \"101\": 1}, \"41\": {\"34\": 4, \"3\": 7, \"52\": 9, \"56\": 1, \"128\": 1, \"6\": 1, \"31\": 1}, \"79\": {\"79\": 20, \"42\": 2}, \"7\": {\"7\": 150, \"103\": 1, \"87\": 4, \"69\": 1, \"21\": 1, \"88\": 1}, \"40\": {\"40\": 169, \"101\": 2, \"105\": 1}, \"49\": {\"49\": 36, \"93\": 2, \"88\": 1, \"114\": 1}, \"55\": {\"55\": 22}, \"106\": {\"106\": 138, \"127\": 2, \"101\": 3, \"69\": 1, \"88\": 3, \"27\": 1}, \"31\": {\"50\": 18, \"89\": 6}, \"109\": {\"109\": 135, \"39\": 6, \"21\": 2, \"102\": 1, \"27\": 1, \"126\": 1, \"11\": 2}, \"60\": {\"60\": 36, \"110\": 4}, \"77\": {\"128\": 2, \"91\": 1, \"6\": 14, \"98\": 1}, \"115\": {\"86\": 6, \"115\": 7, \"103\": 7}, \"95\": {\"105\": 26, \"126\": 1, \"127\": 7, \"128\": 6, \"56\": 3}, \"20\": {\"20\": 24}, \"128\": {\"128\": 32, \"91\": 1}, \"9\": {\"52\": 2, \"54\": 3, \"42\": 7, \"83\": 12, \"8\": 6, \"36\": 1, \"49\": 1, \"53\": 1, \"124\": 1, \"20\": 1, \"117\": 1}, \"44\": {\"44\": 83, \"114\": 1}, \"81\": {\"81\": 47, \"39\": 1}, \"61\": {\"61\": 21, \"93\": 1, \"86\": 1}, \"42\": {\"42\": 37, \"128\": 1}, \"43\": {\"43\": 92, \"87\": 44, \"11\": 10, \"27\": 1, \"10\": 1, \"71\": 1, \"101\": 1, \"70\": 1, \"39\": 1, \"113\": 1}, \"51\": {\"36\": 1, \"49\": 1, \"106\": 1, \"54\": 2, \"98\": 2, \"101\": 2, \"103\": 1, \"51\": 6, \"21\": 1, \"82\": 1, \"117\": 1, \"88\": 1}, \"23\": {\"23\": 11, \"88\": 1, \"21\": 2, \"69\": 1, \"17\": 1, \"27\": 1, \"11\": 1, \"110\": 1, \"101\": 1}, \"91\": {\"91\": 32}, \"19\": {\"19\": 36, \"53\": 1}, \"37\": {\"77\": 22, \"115\": 1, \"41\": 1}, \"52\": {\"52\": 25, \"54\": 1}, \"123\": {\"123\": 22}, \"68\": {\"68\": 20, \"111\": 3}, \"72\": {\"34\": 15, \"110\": 9, \"31\": 9, \"60\": 4, \"33\": 1, \"23\": 2}, \"80\": {\"80\": 20}, \"83\": {\"53\": 32, \"49\": 1, \"81\": 1, \"42\": 1, \"72\": 1, \"20\": 1}, \"25\": {\"25\": 23, \"27\": 1}, \"73\": {\"27\": 1, \"129\": 23, \"53\": 6}, \"78\": {\"101\": 6, \"21\": 12, \"78\": 17, \"109\": 1, \"11\": 3, \"39\": 5, \"88\": 2, \"70\": 1, \"27\": 1}, \"56\": {\"56\": 15, \"22\": 1, \"111\": 1}, \"47\": {\"41\": 9, \"56\": 7, \"128\": 1, \"52\": 1, \"85\": 1}, \"63\": {\"63\": 24}, \"67\": {\"67\": 8, \"115\": 13, \"33\": 2}, \"21\": {\"21\": 48, \"1\": 1, \"69\": 1, \"88\": 1, \"101\": 2}, \"2\": {\"2\": 38}, \"112\": {\"112\": 24}, \"59\": {\"59\": 19}, \"103\": {\"128\": 7, \"58\": 12, \"88\": 1, \"124\": 3, \"111\": 1}, \"120\": {\"45\": 23, \"4\": 1, \"32\": 2}, \"92\": {\"89\": 36}, \"76\": {\"76\": 22}, \"116\": {\"116\": 37}, \"66\": {\"91\": 1, \"90\": 22}, \"57\": {\"103\": 22, \"32\": 1}, \"45\": {\"45\": 22}, \"121\": {\"121\": 40, \"128\": 1}, \"58\": {\"58\": 23}, \"82\": {\"55\": 38, \"50\": 3, \"88\": 1, \"95\": 1}, \"75\": {\"75\": 20}, \"86\": {\"86\": 36}, \"48\": {\"48\": 22, \"121\": 1}, \"35\": {\"88\": 1, \"61\": 15, \"93\": 1}, \"65\": {\"65\": 18, \"121\": 1}, \"13\": {\"13\": 22}, \"74\": {\"32\": 14, \"20\": 4, \"121\": 1, \"116\": 3}}, \"2\": {\"96\": {\"93\": 28}, \"124\": {\"124\": 154, \"61\": 1, \"90\": 1, \"21\": 1}, \"102\": {\"102\": 156, \"27\": 1}, \"26\": {\"26\": 170, \"21\": 6, \"88\": 2, \"110\": 1}, \"72\": {\"93\": 36, \"88\": 1, \"21\": 1, \"14\": 1}, \"118\": {\"118\": 82, \"21\": 1, \"88\": 2, \"69\": 1}, \"24\": {\"24\": 83, \"88\": 26, \"127\": 2, \"21\": 2, \"27\": 22, \"101\": 1, \"93\": 1, \"70\": 3}, \"41\": {\"103\": 14, \"3\": 5, \"29\": 2, \"34\": 1, \"88\": 2, \"6\": 1}, \"125\": {\"125\": 206}, \"111\": {\"111\": 177, \"88\": 2, \"73\": 1}, \"39\": {\"39\": 116, \"118\": 1, \"109\": 17, \"11\": 1, \"88\": 5, \"126\": 1, \"21\": 2, \"78\": 1}, \"91\": {\"91\": 33, \"88\": 1, \"13\": 1}, \"60\": {\"60\": 35, \"88\": 2, \"110\": 2}, \"1\": {\"1\": 155, \"93\": 1, \"69\": 1}, \"109\": {\"21\": 4, \"109\": 102, \"39\": 15, \"69\": 1, \"70\": 1, \"78\": 1, \"75\": 1}, \"70\": {\"70\": 81, \"11\": 14, \"78\": 12, \"88\": 4, \"109\": 3, \"39\": 33, \"21\": 2, \"10\": 4, \"18\": 1, \"27\": 1, \"110\": 1}, \"48\": {\"48\": 23, \"79\": 1, \"21\": 1}, \"33\": {\"33\": 182, \"88\": 3}, \"66\": {\"66\": 24, \"99\": 1}, \"113\": {\"113\": 87, \"126\": 6, \"93\": 1}, \"127\": {\"127\": 153, \"71\": 1, \"88\": 1, \"101\": 1}, \"7\": {\"7\": 163, \"69\": 2, \"21\": 1, \"10\": 1, \"88\": 1}, \"103\": {\"68\": 1, \"58\": 22, \"4\": 1}, \"4\": {\"101\": 1, \"4\": 109, \"21\": 1, \"88\": 2, \"12\": 1}, \"49\": {\"49\": 23, \"88\": 1, \"19\": 3, \"47\": 1, \"34\": 1, \"61\": 1, \"126\": 1}, \"3\": {\"3\": 171, \"88\": 2}, \"99\": {\"119\": 28, \"23\": 10, \"53\": 2, \"21\": 1}, \"62\": {\"62\": 166, \"61\": 1, \"88\": 5, \"7\": 1, \"21\": 2}, \"101\": {\"101\": 200}, \"86\": {\"115\": 22, \"124\": 20, \"4\": 1}, \"104\": {\"104\": 27, \"88\": 1}, \"64\": {\"38\": 23, \"88\": 1}, \"94\": {\"94\": 63, \"88\": 6, \"21\": 5, \"11\": 1, \"101\": 3, \"69\": 1, \"36\": 2}, \"30\": {\"30\": 124, \"0\": 11, \"88\": 2, \"21\": 1, \"114\": 1, \"101\": 1, \"4\": 1}, \"34\": {\"98\": 1, \"34\": 39, \"56\": 1, \"88\": 1}, \"108\": {\"108\": 175, \"88\": 1}, \"18\": {\"18\": 153, \"21\": 3, \"33\": 3, \"88\": 1, \"69\": 1}, \"12\": {\"12\": 104, \"88\": 1, \"101\": 1, \"21\": 3, \"69\": 2}, \"90\": {\"90\": 235, \"98\": 1, \"44\": 1, \"125\": 1}, \"51\": {\"51\": 11, \"98\": 7, \"75\": 3, \"118\": 1, \"15\": 1, \"21\": 1, \"42\": 1}, \"105\": {\"62\": 149, \"105\": 6, \"69\": 1, \"7\": 1, \"21\": 2, \"40\": 4, \"122\": 1, \"11\": 1}, \"8\": {\"8\": 154, \"11\": 2, \"21\": 3, \"45\": 1, \"27\": 1}, \"15\": {\"15\": 142, \"97\": 2, \"128\": 1, \"36\": 2, \"12\": 1, \"94\": 1, \"69\": 1, \"88\": 1}, \"69\": {\"69\": 165, \"21\": 3, \"88\": 6, \"26\": 4}, \"46\": {\"53\": 19, \"112\": 2, \"88\": 1, \"5\": 2}, \"117\": {\"117\": 148, \"88\": 1, \"21\": 1, \"121\": 1}, \"65\": {\"65\": 24, \"121\": 1, \"21\": 1, \"90\": 1}, \"87\": {\"87\": 90, \"43\": 31, \"88\": 4, \"108\": 3, \"69\": 2, \"39\": 2, \"11\": 7, \"113\": 1, \"21\": 1, \"126\": 1, \"101\": 1}, \"122\": {\"122\": 162, \"12\": 2, \"30\": 3, \"110\": 3, \"8\": 2, \"61\": 1, \"21\": 1, \"88\": 2, \"27\": 1}, \"71\": {\"71\": 120, \"88\": 3, \"101\": 1, \"114\": 2, \"21\": 3}, \"5\": {\"5\": 139, \"21\": 2, \"88\": 1}, \"93\": {\"93\": 205, \"124\": 1, \"21\": 2, \"88\": 1}, \"40\": {\"40\": 169, \"88\": 4, \"21\": 4, \"93\": 1}, \"114\": {\"114\": 145, \"69\": 1, \"52\": 1}, \"10\": {\"10\": 73, \"94\": 1, \"88\": 1, \"21\": 2, \"101\": 1}, \"57\": {\"20\": 4, \"32\": 7, \"128\": 1, \"116\": 4, \"88\": 1, \"75\": 1, \"67\": 6, \"13\": 1}, \"126\": {\"88\": 54, \"70\": 7, \"108\": 52, \"27\": 18, \"39\": 11, \"24\": 6, \"93\": 1, \"11\": 1}, \"77\": {\"77\": 23, \"21\": 1}, \"98\": {\"98\": 151, \"21\": 2}, \"13\": {\"13\": 19, \"126\": 1, \"70\": 1, \"21\": 1, \"75\": 1}, \"52\": {\"85\": 2, \"25\": 22, \"124\": 1, \"21\": 1}, \"16\": {\"16\": 151, \"88\": 2, \"27\": 1, \"110\": 1}, \"55\": {\"50\": 1, \"55\": 22, \"88\": 1}, \"73\": {\"46\": 30, \"88\": 1, \"129\": 5, \"17\": 1}, \"44\": {\"44\": 117, \"98\": 10, \"3\": 2}, \"0\": {\"30\": 24, \"101\": 83, \"0\": 35, \"88\": 2, \"125\": 1, \"21\": 1, \"110\": 1, \"93\": 1}, \"11\": {\"94\": 62, \"108\": 38, \"11\": 1, \"21\": 2}, \"36\": {\"36\": 156, \"21\": 3, \"127\": 1, \"101\": 1, \"88\": 1}, \"107\": {\"21\": 2, \"107\": 77, \"88\": 3, \"97\": 1, \"8\": 1}, \"14\": {\"14\": 53, \"88\": 3, \"21\": 5, \"11\": 1}, \"95\": {\"40\": 28, \"9\": 7, \"7\": 10, \"121\": 1}, \"81\": {\"117\": 27, \"18\": 5, \"81\": 1}, \"43\": {\"43\": 114, \"11\": 1, \"87\": 33, \"70\": 1, \"69\": 1, \"122\": 1, \"39\": 1, \"108\": 1, \"88\": 2, \"21\": 1}, \"2\": {\"2\": 39, \"75\": 1}, \"88\": {\"11\": 10, \"88\": 92, \"109\": 2, \"39\": 50, \"70\": 1, \"21\": 1}, \"35\": {\"35\": 18}, \"82\": {\"82\": 44, \"99\": 1}, \"54\": {\"9\": 25, \"98\": 1, \"56\": 1}, \"29\": {\"72\": 40, \"91\": 3, \"56\": 1}, \"50\": {\"50\": 21, \"88\": 1}, \"67\": {\"115\": 19, \"33\": 4, \"76\": 1}, \"68\": {\"68\": 19, \"50\": 1, \"21\": 2, \"78\": 1}, \"31\": {\"117\": 1, \"102\": 1, \"50\": 3, \"84\": 14, \"89\": 2, \"107\": 2, \"14\": 1, \"88\": 1, \"18\": 1}, \"112\": {\"112\": 13, \"72\": 4, \"46\": 3, \"114\": 1, \"98\": 2, \"19\": 1}, \"37\": {\"77\": 19, \"50\": 1, \"111\": 1, \"48\": 2, \"115\": 1}, \"79\": {\"58\": 8, \"125\": 1, \"6\": 8, \"4\": 3}, \"115\": {\"103\": 16, \"36\": 1, \"13\": 1, \"88\": 1}, \"121\": {\"121\": 41, \"88\": 3, \"75\": 1}, \"53\": {\"47\": 4, \"114\": 12, \"85\": 4, \"70\": 1, \"88\": 1, \"99\": 1, \"27\": 1}, \"47\": {\"47\": 17, \"52\": 1, \"61\": 1}, \"119\": {\"90\": 5, \"64\": 2, \"100\": 6, \"102\": 9, \"2\": 1, \"13\": 4}, \"128\": {\"128\": 31, \"1\": 1}, \"58\": {\"58\": 26, \"88\": 1}, \"32\": {\"32\": 44, \"74\": 1, \"35\": 1}, \"20\": {\"121\": 4, \"81\": 1, \"88\": 1, \"23\": 8, \"64\": 1, \"96\": 7, \"53\": 1, \"123\": 1}, \"84\": {\"84\": 108, \"21\": 2, \"33\": 1, \"101\": 1, \"69\": 1, \"37\": 1, \"88\": 3, \"71\": 1}, \"110\": {\"110\": 45, \"98\": 1, \"70\": 1, \"25\": 1, \"127\": 5, \"21\": 1}, \"19\": {\"19\": 39}, \"21\": {\"88\": 3, \"21\": 57, \"101\": 1, \"69\": 1}, \"100\": {\"53\": 16, \"100\": 6, \"20\": 1, \"27\": 1}, \"75\": {\"75\": 24}, \"22\": {\"22\": 23, \"42\": 1, \"69\": 1}, \"45\": {\"45\": 21, \"88\": 2, \"35\": 1}, \"6\": {\"6\": 42}, \"106\": {\"106\": 150, \"8\": 1, \"88\": 1}, \"17\": {\"17\": 20, \"21\": 2, \"4\": 1, \"88\": 1}, \"38\": {\"103\": 5, \"44\": 15, \"90\": 2}, \"85\": {\"85\": 42, \"103\": 1}, \"116\": {\"116\": 36, \"121\": 1}, \"27\": {\"27\": 10, \"36\": 64, \"21\": 5, \"62\": 1, \"127\": 1, \"98\": 1, \"88\": 3, \"101\": 1, \"69\": 2, \"113\": 1}, \"129\": {\"129\": 37, \"5\": 1, \"42\": 1, \"121\": 1}, \"23\": {\"11\": 2, \"8\": 2, \"23\": 51, \"113\": 1, \"88\": 2, \"96\": 1}, \"123\": {\"90\": 8, \"20\": 7, \"6\": 1, \"116\": 6, \"129\": 1}, \"78\": {\"78\": 52, \"109\": 1, \"21\": 5, \"10\": 2, \"39\": 1, \"12\": 1, \"101\": 1}, \"63\": {\"18\": 19, \"57\": 5, \"98\": 1, \"89\": 1}, \"89\": {\"89\": 48, \"88\": 1}, \"120\": {\"120\": 24, \"88\": 1}, \"83\": {\"64\": 16, \"53\": 25, \"19\": 6, \"114\": 1, \"5\": 1, \"88\": 1}, \"76\": {\"76\": 23, \"88\": 1}, \"92\": {\"40\": 2, \"89\": 32, \"21\": 1, \"27\": 1}, \"28\": {\"66\": 2, \"91\": 10, \"46\": 2, \"79\": 6, \"32\": 2, \"38\": 1, \"4\": 1, \"19\": 2, \"88\": 1}, \"56\": {\"56\": 16, \"73\": 1}, \"61\": {\"88\": 2, \"40\": 21, \"29\": 1, \"63\": 1}, \"74\": {\"74\": 22, \"21\": 1, \"88\": 1}, \"42\": {\"42\": 34, \"88\": 1, \"21\": 1}, \"80\": {\"115\": 20}, \"97\": {\"8\": 1, \"97\": 24, \"127\": 1, \"15\": 1, \"12\": 1}, \"59\": {\"91\": 9, \"68\": 6, \"111\": 1, \"21\": 1, \"88\": 1, \"125\": 1, \"128\": 1}, \"9\": {\"25\": 34, \"47\": 4, \"73\": 6}, \"25\": {\"25\": 20, \"99\": 1}}, \"3\": {\"90\": {\"90\": 230, \"48\": 1, \"8\": 1, \"98\": 1, \"29\": 1}, \"12\": {\"12\": 131}, \"40\": {\"40\": 160, \"11\": 1, \"101\": 1}, \"127\": {\"127\": 158, \"101\": 1, \"69\": 1, \"11\": 1}, \"26\": {\"26\": 164, \"101\": 2, \"90\": 1}, \"108\": {\"108\": 175, \"93\": 1, \"101\": 2, \"12\": 1}, \"105\": {\"105\": 155, \"27\": 1, \"127\": 1}, \"62\": {\"62\": 155, \"63\": 1, \"110\": 1, \"98\": 1, \"101\": 1}, \"43\": {\"101\": 1, \"43\": 60, \"11\": 3, \"109\": 1, \"39\": 3, \"54\": 1, \"127\": 1}, \"14\": {\"14\": 103}, \"31\": {\"31\": 25}, \"30\": {\"30\": 103, \"48\": 1, \"1\": 1, \"101\": 1, \"8\": 2}, \"41\": {\"41\": 22}, \"42\": {\"42\": 37}, \"88\": {\"88\": 129, \"108\": 2, \"70\": 2, \"21\": 1, \"98\": 1, \"101\": 1, \"27\": 1, \"11\": 2, \"36\": 1, \"17\": 1}, \"110\": {\"110\": 114, \"11\": 1, \"101\": 2, \"111\": 1}, \"16\": {\"16\": 147, \"101\": 1, \"93\": 1}, \"99\": {\"99\": 49}, \"84\": {\"84\": 132, \"21\": 1, \"127\": 1, \"121\": 1}, \"82\": {\"82\": 37}, \"102\": {\"102\": 159}, \"113\": {\"113\": 147, \"114\": 1, \"101\": 1, \"21\": 1}, \"8\": {\"8\": 171, \"21\": 1}, \"109\": {\"109\": 160, \"27\": 1}, \"33\": {\"33\": 196}, \"44\": {\"44\": 88, \"98\": 1, \"33\": 1, \"92\": 1}, \"94\": {\"94\": 102, \"21\": 1, \"101\": 2, \"49\": 1}, \"20\": {\"20\": 23}, \"0\": {\"0\": 143, \"88\": 1, \"5\": 1}, \"124\": {\"124\": 155, \"18\": 1}, \"126\": {\"126\": 155, \"21\": 2, \"70\": 2}, \"10\": {\"10\": 161, \"21\": 1}, \"81\": {\"81\": 42, \"103\": 1}, \"89\": {\"89\": 39}, \"27\": {\"27\": 92, \"36\": 24, \"101\": 1, \"21\": 2, \"69\": 2, \"39\": 1}, \"1\": {\"1\": 136, \"101\": 1, \"127\": 1}, \"87\": {\"87\": 147, \"43\": 3, \"21\": 2, \"127\": 1}, \"125\": {\"125\": 157, \"90\": 1, \"61\": 1, \"98\": 1}, \"7\": {\"7\": 141, \"101\": 1, \"27\": 1}, \"86\": {\"86\": 39}, \"63\": {\"63\": 21}, \"107\": {\"107\": 183}, \"118\": {\"118\": 122, \"11\": 1, \"101\": 3, \"109\": 1}, \"93\": {\"93\": 207}, \"114\": {\"114\": 163, \"3\": 1}, \"17\": {\"17\": 16, \"92\": 1, \"126\": 1, \"21\": 1, \"110\": 1, \"101\": 1}, \"34\": {\"34\": 40}, \"101\": {\"101\": 66, \"21\": 1, \"126\": 1}, \"11\": {\"11\": 191}, \"117\": {\"117\": 141, \"98\": 1, \"90\": 1}, \"5\": {\"5\": 141, \"101\": 1}, \"106\": {\"106\": 128, \"21\": 1}, \"54\": {\"54\": 24}, \"116\": {\"116\": 37, \"98\": 1}, \"18\": {\"18\": 164, \"126\": 1}, \"38\": {\"38\": 21, \"99\": 1}, \"80\": {\"80\": 20}, \"36\": {\"36\": 163, \"101\": 1}, \"100\": {\"100\": 24}, \"104\": {\"104\": 22}, \"98\": {\"98\": 162, \"44\": 2}, \"83\": {\"83\": 33, \"126\": 1}, \"47\": {\"47\": 16}, \"13\": {\"13\": 18, \"88\": 1, \"75\": 1}, \"25\": {\"25\": 22}, \"129\": {\"129\": 42}, \"39\": {\"39\": 124, \"126\": 8, \"101\": 2, \"109\": 1, \"11\": 1}, \"66\": {\"66\": 24}, \"2\": {\"2\": 36, \"39\": 1}, \"111\": {\"111\": 163, \"11\": 1, \"69\": 1, \"70\": 2}, \"24\": {\"24\": 29, \"27\": 18, \"36\": 10, \"40\": 1, \"110\": 1, \"101\": 2, \"127\": 1, \"21\": 1}, \"6\": {\"6\": 43}, \"29\": {\"29\": 42}, \"71\": {\"71\": 82, \"114\": 2, \"17\": 1, \"63\": 1}, \"32\": {\"32\": 40, \"14\": 1}, \"23\": {\"23\": 41, \"110\": 2}, \"69\": {\"69\": 105, \"26\": 1, \"127\": 2, \"101\": 1}, \"3\": {\"3\": 144, \"21\": 3, \"101\": 1, \"27\": 1}, \"95\": {\"95\": 38, \"7\": 2}, \"4\": {\"4\": 121, \"101\": 1, \"69\": 1}, \"91\": {\"91\": 33}, \"55\": {\"55\": 24}, \"120\": {\"120\": 26}, \"122\": {\"122\": 71, \"5\": 1, \"11\": 2, \"101\": 1, \"110\": 1, \"127\": 1}, \"77\": {\"77\": 23, \"11\": 1}, \"53\": {\"53\": 24, \"88\": 1}, \"45\": {\"45\": 22}, \"121\": {\"121\": 39, \"21\": 1}, \"56\": {\"56\": 17}, \"46\": {\"46\": 23}, \"57\": {\"57\": 26}, \"64\": {\"64\": 25}, \"92\": {\"92\": 39, \"112\": 2, \"88\": 1}, \"72\": {\"72\": 38}, \"15\": {\"15\": 130, \"5\": 1}, \"70\": {\"70\": 75, \"21\": 1, \"88\": 11, \"69\": 1, \"101\": 2, \"108\": 3, \"121\": 1}, \"19\": {\"19\": 39, \"90\": 1}, \"48\": {\"48\": 22}, \"51\": {\"51\": 24}, \"73\": {\"73\": 51, \"120\": 1}, \"21\": {\"21\": 54, \"17\": 1, \"24\": 1, \"101\": 4, \"71\": 1, \"70\": 2, \"18\": 1}, \"128\": {\"128\": 40}, \"76\": {\"76\": 21, \"29\": 1}, \"50\": {\"50\": 24}, \"61\": {\"61\": 23, \"75\": 1}, \"115\": {\"115\": 21}, \"68\": {\"68\": 20}, \"112\": {\"101\": 1, \"112\": 21, \"70\": 1, \"78\": 1}, \"78\": {\"101\": 2, \"78\": 14, \"94\": 1, \"21\": 4, \"75\": 1, \"109\": 1, \"127\": 1}, \"37\": {\"37\": 24}, \"75\": {\"75\": 22}, \"28\": {\"28\": 22, \"21\": 1, \"128\": 1}, \"35\": {\"35\": 16, \"36\": 1}, \"49\": {\"49\": 31, \"8\": 1}, \"9\": {\"9\": 40}, \"103\": {\"103\": 24}, \"59\": {\"59\": 16, \"42\": 1}, \"96\": {\"96\": 27}, \"22\": {\"22\": 23, \"21\": 1}, \"58\": {\"58\": 22, \"94\": 1}, \"52\": {\"52\": 23, \"70\": 1}, \"97\": {\"97\": 26, \"17\": 1, \"8\": 1}, \"85\": {\"85\": 45, \"52\": 1}, \"123\": {\"123\": 21}, \"60\": {\"60\": 34, \"110\": 3}, \"119\": {\"119\": 23, \"17\": 1}, \"65\": {\"65\": 18}, \"79\": {\"79\": 18, \"102\": 1}, \"74\": {\"74\": 21, \"65\": 1}, \"67\": {\"67\": 22}}}, \"per_domain_accuracy\": {\"1\": {\"accuracy\": 0.6196500939013542, \"source?\": false}, \"4\": {\"accuracy\": 0.76134714023033, \"source?\": false}, \"2\": {\"accuracy\": 0.7725656725261703, \"source?\": false}, \"3\": {\"accuracy\": 0.9698364008179959, \"source?\": true}}}, \"history\": {\"epoch_indices\": [1, 2, 3, 4, 5, 6, 7, 8, 9, 10], \"train_label_loss\": [2.6705945929444934, 0.8342337002329175, 0.3865376030585228, 0.2444469113950942, 0.18512457094484716, 0.14758177582060394, 0.12375566864536665, 0.11006009824636255, 0.09403824760036382, 0.08815722452336533], \"source_val_label_loss\": [1.3749592861571869, 0.4993436862896015, 0.303662453765993, 0.27786155761062326, 0.20414655191170705, 0.18359402891296844, 0.21706286769408684, 0.21350631543568202, 0.16678709928672036, 0.2580671195279468], \"target_val_label_loss\": [2.1723212128403797, 1.6332849388840807, 1.5594134919314204, 1.5816759609278277, 1.4842534090185764, 1.3916504163622356, 1.6692294246482051, 1.539433058834475, 1.5605695389803484, 1.8208614852139142], \"source_val_acc_label\": [0.845398773006135, 0.9305725971370143, 0.9578732106339468, 0.9452965235173824, 0.9671779141104294, 0.9698364008179959, 0.9564417177914111, 0.9535787321063395, 0.9669734151329243, 0.9525562372188139], \"target_val_acc_label\": [0.581436420722135, 0.6723246991104134, 0.6624149659863946, 0.6873037676609105, 0.711603872318158, 0.7181776556776557, 0.6629382522239665, 0.6806645735217164, 0.7132391418105704, 0.6633307169021455]}, \"dataset_metrics\": {\"source\": {\"train\": {\"n_unique_x\": 45862, \"n_unique_y\": 130, \"n_batch/episode\": 359}, \"val\": {\"n_unique_x\": 9780, \"n_unique_y\": 130, \"n_batch/episode\": 77}, \"test\": {\"n_unique_x\": 9967, \"n_unique_y\": 130, \"n_batch/episode\": 78}}, \"target\": {\"train\": {\"n_unique_x\": 143327, \"n_unique_y\": 130, \"n_batch/episode\": 1120}, \"val\": {\"n_unique_x\": 30576, \"n_unique_y\": 130, \"n_batch/episode\": 239}, \"test\": {\"n_unique_x\": 31104, \"n_unique_y\": 130, \"n_batch/episode\": 243}}}}'"
      ]
     },
     "execution_count": 20,
     "metadata": {},
     "output_type": "execute_result"
    }
   ],
   "source": [
    "json.dumps(experiment)"
   ]
  }
 ],
 "metadata": {
  "celltoolbar": "Tags",
  "kernelspec": {
   "display_name": "Python 3 (ipykernel)",
   "language": "python",
   "name": "python3"
  },
  "language_info": {
   "codemirror_mode": {
    "name": "ipython",
    "version": 3
   },
   "file_extension": ".py",
   "mimetype": "text/x-python",
   "name": "python",
   "nbconvert_exporter": "python",
   "pygments_lexer": "ipython3",
   "version": "3.8.12"
  },
  "papermill": {
   "default_parameters": {},
   "duration": 85.467873,
   "end_time": "2022-03-26T02:09:26.732566",
   "environment_variables": {},
   "exception": null,
   "input_path": "/root/csc500-main/csc500-notebooks/templates/cnn_template.ipynb",
   "output_path": "trial.ipynb",
   "parameters": {
    "parameters": {
     "BEST_MODEL_PATH": "./best_model.pth",
     "NUM_LOGS_PER_EPOCH": 10,
     "batch_size": 128,
     "criteria_for_best": "target_accuracy",
     "dataset_seed": 1337,
     "device": "cuda",
     "domains_source": [
      3
     ],
     "domains_target": [
      1,
      2,
      4
     ],
     "experiment_name": "cnn_1:wisig",
     "labels": [
      "1-10",
      "1-12",
      "1-14",
      "1-16",
      "1-18",
      "1-19",
      "1-8",
      "10-11",
      "10-17",
      "10-4",
      "10-7",
      "11-1",
      "11-10",
      "11-19",
      "11-20",
      "11-4",
      "11-7",
      "12-19",
      "12-20",
      "12-7",
      "13-14",
      "13-18",
      "13-19",
      "13-20",
      "13-3",
      "13-7",
      "14-10",
      "14-11",
      "14-12",
      "14-13",
      "14-14",
      "14-19",
      "14-20",
      "14-7",
      "14-8",
      "14-9",
      "15-1",
      "15-19",
      "15-6",
      "16-1",
      "16-16",
      "16-19",
      "16-20",
      "17-10",
      "17-11",
      "18-1",
      "18-10",
      "18-11",
      "18-12",
      "18-13",
      "18-14",
      "18-15",
      "18-16",
      "18-17",
      "18-19",
      "18-2",
      "18-20",
      "18-4",
      "18-5",
      "18-7",
      "18-8",
      "18-9",
      "19-1",
      "19-10",
      "19-11",
      "19-12",
      "19-13",
      "19-14",
      "19-15",
      "19-19",
      "19-2",
      "19-20",
      "19-3",
      "19-4",
      "19-6",
      "19-7",
      "19-8",
      "19-9",
      "2-1",
      "2-13",
      "2-15",
      "2-3",
      "2-4",
      "2-5",
      "2-6",
      "2-7",
      "2-8",
      "20-1",
      "20-12",
      "20-14",
      "20-15",
      "20-16",
      "20-18",
      "20-19",
      "20-20",
      "20-3",
      "20-4",
      "20-5",
      "20-7",
      "20-8",
      "3-1",
      "3-13",
      "3-18",
      "3-2",
      "3-8",
      "4-1",
      "4-10",
      "4-11",
      "5-1",
      "5-5",
      "6-1",
      "6-15",
      "6-6",
      "7-10",
      "7-11",
      "7-12",
      "7-13",
      "7-14",
      "7-7",
      "7-8",
      "7-9",
      "8-1",
      "8-13",
      "8-14",
      "8-18",
      "8-20",
      "8-3",
      "8-8",
      "9-1",
      "9-7"
     ],
     "lr": 0.0001,
     "n_epoch": 50,
     "normalize_source": false,
     "normalize_target": false,
     "num_examples_per_domain_per_label_source": -1,
     "num_examples_per_domain_per_label_target": -1,
     "patience": 3,
     "pickle_name_source": "wisig.node3-19.stratified_ds.2022A.pkl",
     "pickle_name_target": "wisig.node3-19.stratified_ds.2022A.pkl",
     "seed": 1337,
     "torch_default_dtype": "torch.float32",
     "x_net": [
      {
       "class": "nnReshape",
       "kargs": {
        "shape": [
         -1,
         1,
         2,
         256
        ]
       }
      },
      {
       "class": "Conv2d",
       "kargs": {
        "bias": false,
        "in_channels": 1,
        "kernel_size": [
         1,
         7
        ],
        "out_channels": 256,
        "padding": [
         0,
         3
        ]
       }
      },
      {
       "class": "ReLU",
       "kargs": {
        "inplace": true
       }
      },
      {
       "class": "BatchNorm2d",
       "kargs": {
        "num_features": 256
       }
      },
      {
       "class": "Conv2d",
       "kargs": {
        "bias": true,
        "in_channels": 256,
        "kernel_size": [
         2,
         7
        ],
        "out_channels": 80,
        "padding": [
         0,
         3
        ]
       }
      },
      {
       "class": "ReLU",
       "kargs": {
        "inplace": true
       }
      },
      {
       "class": "BatchNorm2d",
       "kargs": {
        "num_features": 80
       }
      },
      {
       "class": "Flatten",
       "kargs": {}
      },
      {
       "class": "Linear",
       "kargs": {
        "in_features": 20480,
        "out_features": 256
       }
      },
      {
       "class": "ReLU",
       "kargs": {
        "inplace": true
       }
      },
      {
       "class": "BatchNorm1d",
       "kargs": {
        "num_features": 256
       }
      },
      {
       "class": "Linear",
       "kargs": {
        "in_features": 256,
        "out_features": 130
       }
      }
     ]
    }
   },
   "start_time": "2022-03-26T02:08:01.264693",
   "version": "2.3.4"
  }
 },
 "nbformat": 4,
 "nbformat_minor": 5
}