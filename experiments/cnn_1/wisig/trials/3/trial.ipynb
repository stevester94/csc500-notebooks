{
 "cells": [
  {
   "cell_type": "code",
   "execution_count": 1,
   "id": "2324682e",
   "metadata": {
    "execution": {
     "iopub.execute_input": "2022-03-26T02:09:27.893988Z",
     "iopub.status.busy": "2022-03-26T02:09:27.888204Z",
     "iopub.status.idle": "2022-03-26T02:09:29.182516Z",
     "shell.execute_reply": "2022-03-26T02:09:29.181566Z"
    },
    "papermill": {
     "duration": 1.326272,
     "end_time": "2022-03-26T02:09:29.182716",
     "exception": false,
     "start_time": "2022-03-26T02:09:27.856444",
     "status": "completed"
    },
    "tags": []
   },
   "outputs": [],
   "source": [
    "import os, json, sys, time, random\n",
    "import numpy as np\n",
    "import torch\n",
    "from  easydict import EasyDict\n",
    "from math import floor\n",
    "from easydict import EasyDict\n",
    "\n",
    "from steves_utils.vanilla_train_eval_test_jig import  Vanilla_Train_Eval_Test_Jig\n",
    "\n",
    "from steves_utils.torch_utils import get_dataset_metrics, independent_accuracy_assesment\n",
    "from steves_models.configurable_vanilla import Configurable_Vanilla\n",
    "from steves_utils.torch_sequential_builder import build_sequential\n",
    "from steves_utils.lazy_map import Lazy_Map\n",
    "from steves_utils.sequence_aggregator import Sequence_Aggregator\n",
    "\n",
    "from steves_utils.stratified_dataset.traditional_accessor import Traditional_Accessor_Factory\n",
    "\n",
    "from steves_utils.cnn_do_report import (\n",
    "    get_loss_curve,\n",
    "    get_results_table,\n",
    "    get_parameters_table,\n",
    "    get_domain_accuracies,\n",
    ")\n",
    "\n",
    "from steves_utils.torch_utils import (\n",
    "    confusion_by_domain_over_dataloader,\n",
    "    independent_accuracy_assesment\n",
    ")\n",
    "\n",
    "from steves_utils.utils_v2 import (\n",
    "    per_domain_accuracy_from_confusion,\n",
    "    get_datasets_base_path\n",
    ")\n",
    "\n",
    "# from steves_utils.ptn_do_report import TBD"
   ]
  },
  {
   "cell_type": "code",
   "execution_count": 2,
   "id": "1b29e3fe",
   "metadata": {
    "execution": {
     "iopub.execute_input": "2022-03-26T02:09:29.221469Z",
     "iopub.status.busy": "2022-03-26T02:09:29.221088Z",
     "iopub.status.idle": "2022-03-26T02:09:29.223439Z",
     "shell.execute_reply": "2022-03-26T02:09:29.223071Z"
    },
    "papermill": {
     "duration": 0.021735,
     "end_time": "2022-03-26T02:09:29.223510",
     "exception": false,
     "start_time": "2022-03-26T02:09:29.201775",
     "status": "completed"
    },
    "tags": []
   },
   "outputs": [],
   "source": [
    "required_parameters = {\n",
    "    \"experiment_name\",\n",
    "    \"lr\",\n",
    "    \"device\",\n",
    "    \"dataset_seed\",\n",
    "    \"seed\",\n",
    "    \"labels\",\n",
    "    \"domains_target\",\n",
    "    \"domains_source\",\n",
    "    \"num_examples_per_domain_per_label_source\",\n",
    "    \"num_examples_per_domain_per_label_target\",\n",
    "    \"batch_size\",\n",
    "    \"n_epoch\",\n",
    "    \"patience\",\n",
    "    \"criteria_for_best\",\n",
    "    \"normalize_source\",\n",
    "    \"normalize_target\",\n",
    "    \"x_net\",\n",
    "    \"NUM_LOGS_PER_EPOCH\",\n",
    "    \"BEST_MODEL_PATH\",\n",
    "    \"pickle_name_source\",\n",
    "    \"pickle_name_target\",\n",
    "    \"torch_default_dtype\",\n",
    "}"
   ]
  },
  {
   "cell_type": "code",
   "execution_count": 3,
   "id": "670b5fb8",
   "metadata": {
    "execution": {
     "iopub.execute_input": "2022-03-26T02:09:29.266809Z",
     "iopub.status.busy": "2022-03-26T02:09:29.265912Z",
     "iopub.status.idle": "2022-03-26T02:09:29.273500Z",
     "shell.execute_reply": "2022-03-26T02:09:29.272688Z"
    },
    "papermill": {
     "duration": 0.032392,
     "end_time": "2022-03-26T02:09:29.273658",
     "exception": false,
     "start_time": "2022-03-26T02:09:29.241266",
     "status": "completed"
    },
    "tags": [
     "parameters"
    ]
   },
   "outputs": [],
   "source": [
    "from steves_utils.ORACLE.utils_v2 import (\n",
    "    ALL_SERIAL_NUMBERS,\n",
    "    ALL_DISTANCES_FEET_NARROWED,\n",
    ")\n",
    "\n",
    "standalone_parameters = {}\n",
    "standalone_parameters[\"experiment_name\"] = \"MANUAL CORES CNN\"\n",
    "standalone_parameters[\"lr\"] = 0.0001\n",
    "standalone_parameters[\"device\"] = \"cuda\"\n",
    "\n",
    "standalone_parameters[\"dataset_seed\"] = 1337\n",
    "standalone_parameters[\"seed\"] = 1337\n",
    "standalone_parameters[\"labels\"] = ALL_SERIAL_NUMBERS\n",
    "\n",
    "standalone_parameters[\"domains_source\"] = [8,32,50]\n",
    "standalone_parameters[\"domains_target\"] = [14,20,26,38,44,]\n",
    "\n",
    "standalone_parameters[\"num_examples_per_domain_per_label_source\"]=-1\n",
    "standalone_parameters[\"num_examples_per_domain_per_label_target\"]=-1\n",
    "\n",
    "standalone_parameters[\"pickle_name_source\"] = \"oracle.Run1_framed_2000Examples_stratified_ds.2022A.pkl\"\n",
    "standalone_parameters[\"pickle_name_target\"] = \"oracle.Run2_framed_2000Examples_stratified_ds.2022A.pkl\"\n",
    "\n",
    "standalone_parameters[\"torch_default_dtype\"] = \"torch.float32\" \n",
    "\n",
    "standalone_parameters[\"batch_size\"]=128\n",
    "\n",
    "standalone_parameters[\"n_epoch\"] = 3\n",
    "\n",
    "standalone_parameters[\"patience\"] = 10\n",
    "\n",
    "standalone_parameters[\"criteria_for_best\"] = \"target_accuracy\"\n",
    "standalone_parameters[\"normalize_source\"] = False\n",
    "standalone_parameters[\"normalize_target\"] = False\n",
    "\n",
    "standalone_parameters[\"x_net\"] =     [\n",
    "    {\"class\": \"nnReshape\", \"kargs\": {\"shape\":[-1, 1, 2, 256]}},\n",
    "    {\"class\": \"Conv2d\", \"kargs\": { \"in_channels\":1, \"out_channels\":256, \"kernel_size\":(1,7), \"bias\":False, \"padding\":(0,3), },},\n",
    "    {\"class\": \"ReLU\", \"kargs\": {\"inplace\": True}},\n",
    "    {\"class\": \"BatchNorm2d\", \"kargs\": {\"num_features\":256}},\n",
    "\n",
    "    {\"class\": \"Conv2d\", \"kargs\": { \"in_channels\":256, \"out_channels\":80, \"kernel_size\":(2,7), \"bias\":True, \"padding\":(0,3), },},\n",
    "    {\"class\": \"ReLU\", \"kargs\": {\"inplace\": True}},\n",
    "    {\"class\": \"BatchNorm2d\", \"kargs\": {\"num_features\":80}},\n",
    "    {\"class\": \"Flatten\", \"kargs\": {}},\n",
    "\n",
    "    {\"class\": \"Linear\", \"kargs\": {\"in_features\": 80*256, \"out_features\": 256}}, # 80 units per IQ pair\n",
    "    {\"class\": \"ReLU\", \"kargs\": {\"inplace\": True}},\n",
    "    {\"class\": \"BatchNorm1d\", \"kargs\": {\"num_features\":256}},\n",
    "\n",
    "    {\"class\": \"Linear\", \"kargs\": {\"in_features\": 256, \"out_features\": len(standalone_parameters[\"labels\"])}},\n",
    "]\n",
    "\n",
    "standalone_parameters[\"NUM_LOGS_PER_EPOCH\"] = 10\n",
    "standalone_parameters[\"BEST_MODEL_PATH\"] = \"./best_model.pth\""
   ]
  },
  {
   "cell_type": "code",
   "execution_count": 4,
   "id": "720ad571",
   "metadata": {
    "execution": {
     "iopub.execute_input": "2022-03-26T02:09:29.326492Z",
     "iopub.status.busy": "2022-03-26T02:09:29.325524Z",
     "iopub.status.idle": "2022-03-26T02:09:29.328338Z",
     "shell.execute_reply": "2022-03-26T02:09:29.327516Z"
    },
    "papermill": {
     "duration": 0.035784,
     "end_time": "2022-03-26T02:09:29.328495",
     "exception": false,
     "start_time": "2022-03-26T02:09:29.292711",
     "status": "completed"
    },
    "tags": [
     "injected-parameters"
    ]
   },
   "outputs": [],
   "source": [
    "# Parameters\n",
    "parameters = {\n",
    "    \"experiment_name\": \"cnn_1:wisig\",\n",
    "    \"labels\": [\n",
    "        \"1-10\",\n",
    "        \"1-12\",\n",
    "        \"1-14\",\n",
    "        \"1-16\",\n",
    "        \"1-18\",\n",
    "        \"1-19\",\n",
    "        \"1-8\",\n",
    "        \"10-11\",\n",
    "        \"10-17\",\n",
    "        \"10-4\",\n",
    "        \"10-7\",\n",
    "        \"11-1\",\n",
    "        \"11-10\",\n",
    "        \"11-19\",\n",
    "        \"11-20\",\n",
    "        \"11-4\",\n",
    "        \"11-7\",\n",
    "        \"12-19\",\n",
    "        \"12-20\",\n",
    "        \"12-7\",\n",
    "        \"13-14\",\n",
    "        \"13-18\",\n",
    "        \"13-19\",\n",
    "        \"13-20\",\n",
    "        \"13-3\",\n",
    "        \"13-7\",\n",
    "        \"14-10\",\n",
    "        \"14-11\",\n",
    "        \"14-12\",\n",
    "        \"14-13\",\n",
    "        \"14-14\",\n",
    "        \"14-19\",\n",
    "        \"14-20\",\n",
    "        \"14-7\",\n",
    "        \"14-8\",\n",
    "        \"14-9\",\n",
    "        \"15-1\",\n",
    "        \"15-19\",\n",
    "        \"15-6\",\n",
    "        \"16-1\",\n",
    "        \"16-16\",\n",
    "        \"16-19\",\n",
    "        \"16-20\",\n",
    "        \"17-10\",\n",
    "        \"17-11\",\n",
    "        \"18-1\",\n",
    "        \"18-10\",\n",
    "        \"18-11\",\n",
    "        \"18-12\",\n",
    "        \"18-13\",\n",
    "        \"18-14\",\n",
    "        \"18-15\",\n",
    "        \"18-16\",\n",
    "        \"18-17\",\n",
    "        \"18-19\",\n",
    "        \"18-2\",\n",
    "        \"18-20\",\n",
    "        \"18-4\",\n",
    "        \"18-5\",\n",
    "        \"18-7\",\n",
    "        \"18-8\",\n",
    "        \"18-9\",\n",
    "        \"19-1\",\n",
    "        \"19-10\",\n",
    "        \"19-11\",\n",
    "        \"19-12\",\n",
    "        \"19-13\",\n",
    "        \"19-14\",\n",
    "        \"19-15\",\n",
    "        \"19-19\",\n",
    "        \"19-2\",\n",
    "        \"19-20\",\n",
    "        \"19-3\",\n",
    "        \"19-4\",\n",
    "        \"19-6\",\n",
    "        \"19-7\",\n",
    "        \"19-8\",\n",
    "        \"19-9\",\n",
    "        \"2-1\",\n",
    "        \"2-13\",\n",
    "        \"2-15\",\n",
    "        \"2-3\",\n",
    "        \"2-4\",\n",
    "        \"2-5\",\n",
    "        \"2-6\",\n",
    "        \"2-7\",\n",
    "        \"2-8\",\n",
    "        \"20-1\",\n",
    "        \"20-12\",\n",
    "        \"20-14\",\n",
    "        \"20-15\",\n",
    "        \"20-16\",\n",
    "        \"20-18\",\n",
    "        \"20-19\",\n",
    "        \"20-20\",\n",
    "        \"20-3\",\n",
    "        \"20-4\",\n",
    "        \"20-5\",\n",
    "        \"20-7\",\n",
    "        \"20-8\",\n",
    "        \"3-1\",\n",
    "        \"3-13\",\n",
    "        \"3-18\",\n",
    "        \"3-2\",\n",
    "        \"3-8\",\n",
    "        \"4-1\",\n",
    "        \"4-10\",\n",
    "        \"4-11\",\n",
    "        \"5-1\",\n",
    "        \"5-5\",\n",
    "        \"6-1\",\n",
    "        \"6-15\",\n",
    "        \"6-6\",\n",
    "        \"7-10\",\n",
    "        \"7-11\",\n",
    "        \"7-12\",\n",
    "        \"7-13\",\n",
    "        \"7-14\",\n",
    "        \"7-7\",\n",
    "        \"7-8\",\n",
    "        \"7-9\",\n",
    "        \"8-1\",\n",
    "        \"8-13\",\n",
    "        \"8-14\",\n",
    "        \"8-18\",\n",
    "        \"8-20\",\n",
    "        \"8-3\",\n",
    "        \"8-8\",\n",
    "        \"9-1\",\n",
    "        \"9-7\",\n",
    "    ],\n",
    "    \"domains_source\": [3],\n",
    "    \"domains_target\": [1, 2, 4],\n",
    "    \"pickle_name_target\": \"wisig.node3-19.stratified_ds.2022A.pkl\",\n",
    "    \"pickle_name_source\": \"wisig.node3-19.stratified_ds.2022A.pkl\",\n",
    "    \"device\": \"cuda\",\n",
    "    \"lr\": 0.0001,\n",
    "    \"batch_size\": 128,\n",
    "    \"normalize_source\": False,\n",
    "    \"normalize_target\": False,\n",
    "    \"num_examples_per_domain_per_label_source\": -1,\n",
    "    \"num_examples_per_domain_per_label_target\": -1,\n",
    "    \"torch_default_dtype\": \"torch.float32\",\n",
    "    \"n_epoch\": 50,\n",
    "    \"patience\": 3,\n",
    "    \"criteria_for_best\": \"target_accuracy\",\n",
    "    \"x_net\": [\n",
    "        {\"class\": \"nnReshape\", \"kargs\": {\"shape\": [-1, 1, 2, 256]}},\n",
    "        {\n",
    "            \"class\": \"Conv2d\",\n",
    "            \"kargs\": {\n",
    "                \"in_channels\": 1,\n",
    "                \"out_channels\": 256,\n",
    "                \"kernel_size\": [1, 7],\n",
    "                \"bias\": False,\n",
    "                \"padding\": [0, 3],\n",
    "            },\n",
    "        },\n",
    "        {\"class\": \"ReLU\", \"kargs\": {\"inplace\": True}},\n",
    "        {\"class\": \"BatchNorm2d\", \"kargs\": {\"num_features\": 256}},\n",
    "        {\n",
    "            \"class\": \"Conv2d\",\n",
    "            \"kargs\": {\n",
    "                \"in_channels\": 256,\n",
    "                \"out_channels\": 80,\n",
    "                \"kernel_size\": [2, 7],\n",
    "                \"bias\": True,\n",
    "                \"padding\": [0, 3],\n",
    "            },\n",
    "        },\n",
    "        {\"class\": \"ReLU\", \"kargs\": {\"inplace\": True}},\n",
    "        {\"class\": \"BatchNorm2d\", \"kargs\": {\"num_features\": 80}},\n",
    "        {\"class\": \"Flatten\", \"kargs\": {}},\n",
    "        {\"class\": \"Linear\", \"kargs\": {\"in_features\": 20480, \"out_features\": 256}},\n",
    "        {\"class\": \"ReLU\", \"kargs\": {\"inplace\": True}},\n",
    "        {\"class\": \"BatchNorm1d\", \"kargs\": {\"num_features\": 256}},\n",
    "        {\"class\": \"Linear\", \"kargs\": {\"in_features\": 256, \"out_features\": 130}},\n",
    "    ],\n",
    "    \"NUM_LOGS_PER_EPOCH\": 10,\n",
    "    \"BEST_MODEL_PATH\": \"./best_model.pth\",\n",
    "    \"dataset_seed\": 420,\n",
    "    \"seed\": 420,\n",
    "}\n"
   ]
  },
  {
   "cell_type": "code",
   "execution_count": 5,
   "id": "759b56ec",
   "metadata": {
    "execution": {
     "iopub.execute_input": "2022-03-26T02:09:29.368596Z",
     "iopub.status.busy": "2022-03-26T02:09:29.367821Z",
     "iopub.status.idle": "2022-03-26T02:09:29.371492Z",
     "shell.execute_reply": "2022-03-26T02:09:29.370683Z"
    },
    "papermill": {
     "duration": 0.025363,
     "end_time": "2022-03-26T02:09:29.371665",
     "exception": false,
     "start_time": "2022-03-26T02:09:29.346302",
     "status": "completed"
    },
    "tags": []
   },
   "outputs": [],
   "source": [
    "# Set this to True if you want to run this template directly\n",
    "STANDALONE = False\n",
    "if STANDALONE:\n",
    "    print(\"parameters not injected, running with standalone_parameters\")\n",
    "    parameters = standalone_parameters\n",
    "\n",
    "if not 'parameters' in locals() and not 'parameters' in globals():\n",
    "    raise Exception(\"Parameter injection failed\")\n",
    "\n",
    "#Use an easy dict for all the parameters\n",
    "p = EasyDict(parameters)\n",
    "\n",
    "supplied_keys = set(p.keys())\n",
    "\n",
    "if  supplied_keys != required_parameters:\n",
    "    print(\"Parameters are incorrect\")\n",
    "    if len(supplied_keys - required_parameters)>0: print(\"Shouldn't have:\", str(supplied_keys - required_parameters))\n",
    "    if len(required_parameters - supplied_keys)>0: print(\"Need to have:\", str(required_parameters - supplied_keys))\n",
    "    raise RuntimeError(\"Parameters are incorrect\")\n",
    "\n"
   ]
  },
  {
   "cell_type": "code",
   "execution_count": 6,
   "id": "d5c66a71",
   "metadata": {
    "execution": {
     "iopub.execute_input": "2022-03-26T02:09:29.407251Z",
     "iopub.status.busy": "2022-03-26T02:09:29.406884Z",
     "iopub.status.idle": "2022-03-26T02:09:29.410708Z",
     "shell.execute_reply": "2022-03-26T02:09:29.410344Z"
    },
    "papermill": {
     "duration": 0.020933,
     "end_time": "2022-03-26T02:09:29.410778",
     "exception": false,
     "start_time": "2022-03-26T02:09:29.389845",
     "status": "completed"
    },
    "tags": []
   },
   "outputs": [],
   "source": [
    "###################################\n",
    "# Set the RNGs and make it all deterministic\n",
    "###################################\n",
    "np.random.seed(p.seed)\n",
    "random.seed(p.seed)\n",
    "torch.manual_seed(p.seed)\n",
    "\n",
    "torch.use_deterministic_algorithms(True) "
   ]
  },
  {
   "cell_type": "code",
   "execution_count": 7,
   "id": "92a65876",
   "metadata": {
    "execution": {
     "iopub.execute_input": "2022-03-26T02:09:29.447256Z",
     "iopub.status.busy": "2022-03-26T02:09:29.446866Z",
     "iopub.status.idle": "2022-03-26T02:09:29.449080Z",
     "shell.execute_reply": "2022-03-26T02:09:29.449380Z"
    },
    "papermill": {
     "duration": 0.020544,
     "end_time": "2022-03-26T02:09:29.449460",
     "exception": false,
     "start_time": "2022-03-26T02:09:29.428916",
     "status": "completed"
    },
    "tags": []
   },
   "outputs": [],
   "source": [
    "torch.set_default_dtype(eval(p.torch_default_dtype))"
   ]
  },
  {
   "cell_type": "code",
   "execution_count": 8,
   "id": "f1a32f01",
   "metadata": {
    "execution": {
     "iopub.execute_input": "2022-03-26T02:09:29.484461Z",
     "iopub.status.busy": "2022-03-26T02:09:29.484093Z",
     "iopub.status.idle": "2022-03-26T02:09:29.526184Z",
     "shell.execute_reply": "2022-03-26T02:09:29.525473Z"
    },
    "papermill": {
     "duration": 0.060067,
     "end_time": "2022-03-26T02:09:29.526340",
     "exception": false,
     "start_time": "2022-03-26T02:09:29.466273",
     "status": "completed"
    },
    "tags": []
   },
   "outputs": [],
   "source": [
    "###################################\n",
    "# Build the network(s)\n",
    "# Note: It's critical to do this AFTER setting the RNG\n",
    "###################################\n",
    "x_net = build_sequential(p.x_net)"
   ]
  },
  {
   "cell_type": "code",
   "execution_count": 9,
   "id": "a276cd83",
   "metadata": {
    "execution": {
     "iopub.execute_input": "2022-03-26T02:09:29.562457Z",
     "iopub.status.busy": "2022-03-26T02:09:29.562095Z",
     "iopub.status.idle": "2022-03-26T02:09:29.564652Z",
     "shell.execute_reply": "2022-03-26T02:09:29.564105Z"
    },
    "papermill": {
     "duration": 0.019425,
     "end_time": "2022-03-26T02:09:29.564760",
     "exception": false,
     "start_time": "2022-03-26T02:09:29.545335",
     "status": "completed"
    },
    "tags": []
   },
   "outputs": [],
   "source": [
    "start_time_secs = time.time()"
   ]
  },
  {
   "cell_type": "code",
   "execution_count": 10,
   "id": "de702e48",
   "metadata": {
    "execution": {
     "iopub.execute_input": "2022-03-26T02:09:29.608754Z",
     "iopub.status.busy": "2022-03-26T02:09:29.607897Z",
     "iopub.status.idle": "2022-03-26T02:09:33.765814Z",
     "shell.execute_reply": "2022-03-26T02:09:33.765073Z"
    },
    "papermill": {
     "duration": 4.184938,
     "end_time": "2022-03-26T02:09:33.766004",
     "exception": false,
     "start_time": "2022-03-26T02:09:29.581066",
     "status": "completed"
    },
    "tags": []
   },
   "outputs": [],
   "source": [
    "def wrap_in_dataloader(p, ds):\n",
    "    return torch.utils.data.DataLoader(\n",
    "        ds,\n",
    "        batch_size=p.batch_size,\n",
    "        shuffle=True,\n",
    "        num_workers=1,\n",
    "        persistent_workers=True,\n",
    "        prefetch_factor=50,\n",
    "        pin_memory=True\n",
    "    )\n",
    "\n",
    "taf_source = Traditional_Accessor_Factory(\n",
    "    labels=p.labels,\n",
    "    domains=p.domains_source,\n",
    "    num_examples_per_domain_per_label=p.num_examples_per_domain_per_label_source,\n",
    "    pickle_path=os.path.join(get_datasets_base_path(), p.pickle_name_source),\n",
    "    seed=p.dataset_seed\n",
    ")\n",
    "train_original_source, val_original_source, test_original_source = \\\n",
    "    taf_source.get_train(), taf_source.get_val(), taf_source.get_test()\n",
    "\n",
    "\n",
    "taf_target = Traditional_Accessor_Factory(\n",
    "    labels=p.labels,\n",
    "    domains=p.domains_target,\n",
    "    num_examples_per_domain_per_label=p.num_examples_per_domain_per_label_source,\n",
    "    pickle_path=os.path.join(get_datasets_base_path(), p.pickle_name_target),\n",
    "    seed=p.dataset_seed\n",
    ")\n",
    "train_original_target, val_original_target, test_original_target = \\\n",
    "    taf_target.get_train(), taf_target.get_val(), taf_target.get_test()\n",
    "\n",
    "\n",
    "# For CNN We only use X and Y. And we only train on the source.\n",
    "# Properly form the data using a transform lambda and Lazy_Map. Finally wrap them in a dataloader\n",
    "\n",
    "transform_lambda = lambda ex: ex[:2] # Strip the tuple to just (x,y)\n",
    "\n",
    "\n",
    "train_processed_source = wrap_in_dataloader(\n",
    "    p,\n",
    "    Lazy_Map(train_original_source, transform_lambda)\n",
    ")\n",
    "val_processed_source = wrap_in_dataloader(\n",
    "    p,\n",
    "    Lazy_Map(val_original_source, transform_lambda)\n",
    ")\n",
    "test_processed_source = wrap_in_dataloader(\n",
    "    p,\n",
    "    Lazy_Map(test_original_source, transform_lambda)\n",
    ")\n",
    "\n",
    "train_processed_target = wrap_in_dataloader(\n",
    "    p,\n",
    "    Lazy_Map(train_original_target, transform_lambda)\n",
    ")\n",
    "val_processed_target = wrap_in_dataloader(\n",
    "    p,\n",
    "    Lazy_Map(val_original_target, transform_lambda)\n",
    ")\n",
    "test_processed_target  = wrap_in_dataloader(\n",
    "    p,\n",
    "    Lazy_Map(test_original_target, transform_lambda)\n",
    ")\n",
    "\n",
    "\n",
    "\n",
    "datasets = EasyDict({\n",
    "    \"source\": {\n",
    "        \"original\": {\"train\":train_original_source, \"val\":val_original_source, \"test\":test_original_source},\n",
    "        \"processed\": {\"train\":train_processed_source, \"val\":val_processed_source, \"test\":test_processed_source}\n",
    "    },\n",
    "    \"target\": {\n",
    "        \"original\": {\"train\":train_original_target, \"val\":val_original_target, \"test\":test_original_target},\n",
    "        \"processed\": {\"train\":train_processed_target, \"val\":val_processed_target, \"test\":test_processed_target}\n",
    "    },\n",
    "})"
   ]
  },
  {
   "cell_type": "code",
   "execution_count": 11,
   "id": "a11b26bd",
   "metadata": {
    "execution": {
     "iopub.execute_input": "2022-03-26T02:09:33.846324Z",
     "iopub.status.busy": "2022-03-26T02:09:33.845507Z",
     "iopub.status.idle": "2022-03-26T02:09:39.117528Z",
     "shell.execute_reply": "2022-03-26T02:09:39.117901Z"
    },
    "papermill": {
     "duration": 5.331936,
     "end_time": "2022-03-26T02:09:39.118018",
     "exception": false,
     "start_time": "2022-03-26T02:09:33.786082",
     "status": "completed"
    },
    "tags": []
   },
   "outputs": [
    {
     "data": {
      "text/plain": [
       "torch.float32"
      ]
     },
     "execution_count": 11,
     "metadata": {},
     "output_type": "execute_result"
    }
   ],
   "source": [
    "ep = next(iter(test_processed_target))\n",
    "ep[0].dtype"
   ]
  },
  {
   "cell_type": "code",
   "execution_count": 12,
   "id": "19425fad",
   "metadata": {
    "execution": {
     "iopub.execute_input": "2022-03-26T02:09:39.161103Z",
     "iopub.status.busy": "2022-03-26T02:09:39.160261Z",
     "iopub.status.idle": "2022-03-26T02:09:39.206462Z",
     "shell.execute_reply": "2022-03-26T02:09:39.205663Z"
    },
    "papermill": {
     "duration": 0.06823,
     "end_time": "2022-03-26T02:09:39.206649",
     "exception": false,
     "start_time": "2022-03-26T02:09:39.138419",
     "status": "completed"
    },
    "tags": []
   },
   "outputs": [],
   "source": [
    "model = Configurable_Vanilla(\n",
    "    x_net=x_net,\n",
    "    label_loss_object=torch.nn.NLLLoss(),\n",
    "    learning_rate=p.lr\n",
    ")"
   ]
  },
  {
   "cell_type": "code",
   "execution_count": 13,
   "id": "7f6d4f2c",
   "metadata": {
    "execution": {
     "iopub.execute_input": "2022-03-26T02:09:39.250035Z",
     "iopub.status.busy": "2022-03-26T02:09:39.249659Z",
     "iopub.status.idle": "2022-03-26T02:10:38.087829Z",
     "shell.execute_reply": "2022-03-26T02:10:38.087092Z"
    },
    "papermill": {
     "duration": 58.858867,
     "end_time": "2022-03-26T02:10:38.088015",
     "exception": false,
     "start_time": "2022-03-26T02:09:39.229148",
     "status": "completed"
    },
    "tags": []
   },
   "outputs": [
    {
     "name": "stdout",
     "output_type": "stream",
     "text": [
      "epoch: 1, [batch: 1 / 359], examples_per_second: 816.7579, train_label_loss: 4.8461, \n"
     ]
    },
    {
     "name": "stdout",
     "output_type": "stream",
     "text": [
      "epoch: 1, [batch: 36 / 359], examples_per_second: 11468.9120, train_label_loss: 4.1771, \n"
     ]
    },
    {
     "name": "stdout",
     "output_type": "stream",
     "text": [
      "epoch: 1, [batch: 72 / 359], examples_per_second: 11732.8317, train_label_loss: 3.6057, \n"
     ]
    },
    {
     "name": "stdout",
     "output_type": "stream",
     "text": [
      "epoch: 1, [batch: 108 / 359], examples_per_second: 11285.8807, train_label_loss: 3.1089, \n"
     ]
    },
    {
     "name": "stdout",
     "output_type": "stream",
     "text": [
      "epoch: 1, [batch: 144 / 359], examples_per_second: 11532.4734, train_label_loss: 2.7936, \n"
     ]
    },
    {
     "name": "stdout",
     "output_type": "stream",
     "text": [
      "epoch: 1, [batch: 180 / 359], examples_per_second: 11498.0186, train_label_loss: 2.3772, \n"
     ]
    },
    {
     "name": "stdout",
     "output_type": "stream",
     "text": [
      "epoch: 1, [batch: 215 / 359], examples_per_second: 11571.4557, train_label_loss: 2.1631, \n"
     ]
    },
    {
     "name": "stdout",
     "output_type": "stream",
     "text": [
      "epoch: 1, [batch: 251 / 359], examples_per_second: 11595.7902, train_label_loss: 1.9292, \n"
     ]
    },
    {
     "name": "stdout",
     "output_type": "stream",
     "text": [
      "epoch: 1, [batch: 287 / 359], examples_per_second: 11631.6253, train_label_loss: 1.7453, \n"
     ]
    },
    {
     "name": "stdout",
     "output_type": "stream",
     "text": [
      "epoch: 1, [batch: 323 / 359], examples_per_second: 11492.6104, train_label_loss: 1.5795, \n"
     ]
    },
    {
     "name": "stdout",
     "output_type": "stream",
     "text": [
      "=============================================================\n",
      "epoch: 1, source_val_acc_label: 0.8535, source_val_label_loss: 1.2905, target_val_acc_label: 0.6052, target_val_label_loss: 2.1053, \n",
      "=============================================================\n"
     ]
    },
    {
     "name": "stdout",
     "output_type": "stream",
     "text": [
      "New best\n",
      "epoch: 2, [batch: 1 / 359], examples_per_second: 115.4732, train_label_loss: 1.4331, \n"
     ]
    },
    {
     "name": "stdout",
     "output_type": "stream",
     "text": [
      "epoch: 2, [batch: 36 / 359], examples_per_second: 11670.3964, train_label_loss: 1.2666, \n"
     ]
    },
    {
     "name": "stdout",
     "output_type": "stream",
     "text": [
      "epoch: 2, [batch: 72 / 359], examples_per_second: 11453.7688, train_label_loss: 1.1274, \n"
     ]
    },
    {
     "name": "stdout",
     "output_type": "stream",
     "text": [
      "epoch: 2, [batch: 108 / 359], examples_per_second: 11544.2456, train_label_loss: 0.8228, \n"
     ]
    },
    {
     "name": "stdout",
     "output_type": "stream",
     "text": [
      "epoch: 2, [batch: 144 / 359], examples_per_second: 11419.4513, train_label_loss: 0.8595, \n"
     ]
    },
    {
     "name": "stdout",
     "output_type": "stream",
     "text": [
      "epoch: 2, [batch: 180 / 359], examples_per_second: 11717.1902, train_label_loss: 0.7238, \n"
     ]
    },
    {
     "name": "stdout",
     "output_type": "stream",
     "text": [
      "epoch: 2, [batch: 215 / 359], examples_per_second: 11604.7148, train_label_loss: 0.6108, \n"
     ]
    },
    {
     "name": "stdout",
     "output_type": "stream",
     "text": [
      "epoch: 2, [batch: 251 / 359], examples_per_second: 11692.3521, train_label_loss: 0.6982, \n"
     ]
    },
    {
     "name": "stdout",
     "output_type": "stream",
     "text": [
      "epoch: 2, [batch: 287 / 359], examples_per_second: 11651.4766, train_label_loss: 0.5908, \n"
     ]
    },
    {
     "name": "stdout",
     "output_type": "stream",
     "text": [
      "epoch: 2, [batch: 323 / 359], examples_per_second: 11610.5162, train_label_loss: 0.5102, \n"
     ]
    },
    {
     "name": "stdout",
     "output_type": "stream",
     "text": [
      "=============================================================\n",
      "epoch: 2, source_val_acc_label: 0.9339, source_val_label_loss: 0.5152, target_val_acc_label: 0.6731, target_val_label_loss: 1.6106, \n",
      "=============================================================\n"
     ]
    },
    {
     "name": "stdout",
     "output_type": "stream",
     "text": [
      "New best\n",
      "epoch: 3, [batch: 1 / 359], examples_per_second: 142.4059, train_label_loss: 0.5787, \n"
     ]
    },
    {
     "name": "stdout",
     "output_type": "stream",
     "text": [
      "epoch: 3, [batch: 36 / 359], examples_per_second: 11361.5985, train_label_loss: 0.4340, \n"
     ]
    },
    {
     "name": "stdout",
     "output_type": "stream",
     "text": [
      "epoch: 3, [batch: 72 / 359], examples_per_second: 11650.2826, train_label_loss: 0.3666, \n"
     ]
    },
    {
     "name": "stdout",
     "output_type": "stream",
     "text": [
      "epoch: 3, [batch: 108 / 359], examples_per_second: 11586.9127, train_label_loss: 0.3280, \n"
     ]
    },
    {
     "name": "stdout",
     "output_type": "stream",
     "text": [
      "epoch: 3, [batch: 144 / 359], examples_per_second: 11674.5189, train_label_loss: 0.3424, \n"
     ]
    },
    {
     "name": "stdout",
     "output_type": "stream",
     "text": [
      "epoch: 3, [batch: 180 / 359], examples_per_second: 11556.0211, train_label_loss: 0.3076, \n"
     ]
    },
    {
     "name": "stdout",
     "output_type": "stream",
     "text": [
      "epoch: 3, [batch: 215 / 359], examples_per_second: 11431.0129, train_label_loss: 0.3255, \n"
     ]
    },
    {
     "name": "stdout",
     "output_type": "stream",
     "text": [
      "epoch: 3, [batch: 251 / 359], examples_per_second: 11696.6190, train_label_loss: 0.4235, \n"
     ]
    },
    {
     "name": "stdout",
     "output_type": "stream",
     "text": [
      "epoch: 3, [batch: 287 / 359], examples_per_second: 11538.3255, train_label_loss: 0.3509, \n"
     ]
    },
    {
     "name": "stdout",
     "output_type": "stream",
     "text": [
      "epoch: 3, [batch: 323 / 359], examples_per_second: 11559.7603, train_label_loss: 0.1843, \n"
     ]
    },
    {
     "name": "stdout",
     "output_type": "stream",
     "text": [
      "=============================================================\n",
      "epoch: 3, source_val_acc_label: 0.9572, source_val_label_loss: 0.3093, target_val_acc_label: 0.6968, target_val_label_loss: 1.5094, \n",
      "=============================================================\n"
     ]
    },
    {
     "name": "stdout",
     "output_type": "stream",
     "text": [
      "New best\n",
      "epoch: 4, [batch: 1 / 359], examples_per_second: 144.3075, train_label_loss: 0.3160, \n"
     ]
    },
    {
     "name": "stdout",
     "output_type": "stream",
     "text": [
      "epoch: 4, [batch: 36 / 359], examples_per_second: 11329.5593, train_label_loss: 0.2108, \n"
     ]
    },
    {
     "name": "stdout",
     "output_type": "stream",
     "text": [
      "epoch: 4, [batch: 72 / 359], examples_per_second: 11327.1008, train_label_loss: 0.2596, \n"
     ]
    },
    {
     "name": "stdout",
     "output_type": "stream",
     "text": [
      "epoch: 4, [batch: 108 / 359], examples_per_second: 11640.9991, train_label_loss: 0.2387, \n"
     ]
    },
    {
     "name": "stdout",
     "output_type": "stream",
     "text": [
      "epoch: 4, [batch: 144 / 359], examples_per_second: 11712.7521, train_label_loss: 0.2287, \n"
     ]
    },
    {
     "name": "stdout",
     "output_type": "stream",
     "text": [
      "epoch: 4, [batch: 180 / 359], examples_per_second: 11318.2189, train_label_loss: 0.3278, \n"
     ]
    },
    {
     "name": "stdout",
     "output_type": "stream",
     "text": [
      "epoch: 4, [batch: 215 / 359], examples_per_second: 11830.1376, train_label_loss: 0.2421, \n"
     ]
    },
    {
     "name": "stdout",
     "output_type": "stream",
     "text": [
      "epoch: 4, [batch: 251 / 359], examples_per_second: 11736.5366, train_label_loss: 0.2416, \n"
     ]
    },
    {
     "name": "stdout",
     "output_type": "stream",
     "text": [
      "epoch: 4, [batch: 287 / 359], examples_per_second: 11667.3234, train_label_loss: 0.2967, \n"
     ]
    },
    {
     "name": "stdout",
     "output_type": "stream",
     "text": [
      "epoch: 4, [batch: 323 / 359], examples_per_second: 11677.2416, train_label_loss: 0.1870, \n"
     ]
    },
    {
     "name": "stdout",
     "output_type": "stream",
     "text": [
      "=============================================================\n",
      "epoch: 4, source_val_acc_label: 0.9549, source_val_label_loss: 0.2377, target_val_acc_label: 0.6918, target_val_label_loss: 1.4793, \n",
      "=============================================================\n"
     ]
    },
    {
     "name": "stdout",
     "output_type": "stream",
     "text": [
      "epoch: 5, [batch: 1 / 359], examples_per_second: 147.7355, train_label_loss: 0.1710, \n"
     ]
    },
    {
     "name": "stdout",
     "output_type": "stream",
     "text": [
      "epoch: 5, [batch: 36 / 359], examples_per_second: 11325.5850, train_label_loss: 0.2209, \n"
     ]
    },
    {
     "name": "stdout",
     "output_type": "stream",
     "text": [
      "epoch: 5, [batch: 72 / 359], examples_per_second: 11644.6391, train_label_loss: 0.1559, \n"
     ]
    },
    {
     "name": "stdout",
     "output_type": "stream",
     "text": [
      "epoch: 5, [batch: 108 / 359], examples_per_second: 11637.5084, train_label_loss: 0.1300, \n"
     ]
    },
    {
     "name": "stdout",
     "output_type": "stream",
     "text": [
      "epoch: 5, [batch: 144 / 359], examples_per_second: 11399.4408, train_label_loss: 0.2439, \n"
     ]
    },
    {
     "name": "stdout",
     "output_type": "stream",
     "text": [
      "epoch: 5, [batch: 180 / 359], examples_per_second: 11437.2983, train_label_loss: 0.1728, \n"
     ]
    },
    {
     "name": "stdout",
     "output_type": "stream",
     "text": [
      "epoch: 5, [batch: 215 / 359], examples_per_second: 11452.7156, train_label_loss: 0.1288, \n"
     ]
    },
    {
     "name": "stdout",
     "output_type": "stream",
     "text": [
      "epoch: 5, [batch: 251 / 359], examples_per_second: 11649.0748, train_label_loss: 0.1297, \n"
     ]
    },
    {
     "name": "stdout",
     "output_type": "stream",
     "text": [
      "epoch: 5, [batch: 287 / 359], examples_per_second: 11674.2086, train_label_loss: 0.1396, \n"
     ]
    },
    {
     "name": "stdout",
     "output_type": "stream",
     "text": [
      "epoch: 5, [batch: 323 / 359], examples_per_second: 11559.1243, train_label_loss: 0.1335, \n"
     ]
    },
    {
     "name": "stdout",
     "output_type": "stream",
     "text": [
      "=============================================================\n",
      "epoch: 5, source_val_acc_label: 0.9670, source_val_label_loss: 0.1914, target_val_acc_label: 0.7038, target_val_label_loss: 1.4266, \n",
      "=============================================================\n"
     ]
    },
    {
     "name": "stdout",
     "output_type": "stream",
     "text": [
      "New best\n",
      "epoch: 6, [batch: 1 / 359], examples_per_second: 145.4971, train_label_loss: 0.1678, \n"
     ]
    },
    {
     "name": "stdout",
     "output_type": "stream",
     "text": [
      "epoch: 6, [batch: 36 / 359], examples_per_second: 11102.2443, train_label_loss: 0.2078, \n"
     ]
    },
    {
     "name": "stdout",
     "output_type": "stream",
     "text": [
      "epoch: 6, [batch: 72 / 359], examples_per_second: 11521.0754, train_label_loss: 0.1162, \n"
     ]
    },
    {
     "name": "stdout",
     "output_type": "stream",
     "text": [
      "epoch: 6, [batch: 108 / 359], examples_per_second: 11504.5616, train_label_loss: 0.1209, \n"
     ]
    },
    {
     "name": "stdout",
     "output_type": "stream",
     "text": [
      "epoch: 6, [batch: 144 / 359], examples_per_second: 11758.0782, train_label_loss: 0.0707, \n"
     ]
    },
    {
     "name": "stdout",
     "output_type": "stream",
     "text": [
      "epoch: 6, [batch: 180 / 359], examples_per_second: 11792.4350, train_label_loss: 0.1516, \n"
     ]
    },
    {
     "name": "stdout",
     "output_type": "stream",
     "text": [
      "epoch: 6, [batch: 215 / 359], examples_per_second: 11281.2452, train_label_loss: 0.1794, \n"
     ]
    },
    {
     "name": "stdout",
     "output_type": "stream",
     "text": [
      "epoch: 6, [batch: 251 / 359], examples_per_second: 11622.0989, train_label_loss: 0.1052, \n"
     ]
    },
    {
     "name": "stdout",
     "output_type": "stream",
     "text": [
      "epoch: 6, [batch: 287 / 359], examples_per_second: 11687.6502, train_label_loss: 0.2002, \n"
     ]
    },
    {
     "name": "stdout",
     "output_type": "stream",
     "text": [
      "epoch: 6, [batch: 323 / 359], examples_per_second: 11520.2651, train_label_loss: 0.2263, \n"
     ]
    },
    {
     "name": "stdout",
     "output_type": "stream",
     "text": [
      "=============================================================\n",
      "epoch: 6, source_val_acc_label: 0.9633, source_val_label_loss: 0.1863, target_val_acc_label: 0.7054, target_val_label_loss: 1.4474, \n",
      "=============================================================\n"
     ]
    },
    {
     "name": "stdout",
     "output_type": "stream",
     "text": [
      "New best\n",
      "epoch: 7, [batch: 1 / 359], examples_per_second: 148.2293, train_label_loss: 0.0712, \n"
     ]
    },
    {
     "name": "stdout",
     "output_type": "stream",
     "text": [
      "epoch: 7, [batch: 36 / 359], examples_per_second: 11302.0424, train_label_loss: 0.1467, \n"
     ]
    },
    {
     "name": "stdout",
     "output_type": "stream",
     "text": [
      "epoch: 7, [batch: 72 / 359], examples_per_second: 11808.9780, train_label_loss: 0.0979, \n"
     ]
    },
    {
     "name": "stdout",
     "output_type": "stream",
     "text": [
      "epoch: 7, [batch: 108 / 359], examples_per_second: 11638.2582, train_label_loss: 0.1606, \n"
     ]
    },
    {
     "name": "stdout",
     "output_type": "stream",
     "text": [
      "epoch: 7, [batch: 144 / 359], examples_per_second: 11742.8973, train_label_loss: 0.0831, \n"
     ]
    },
    {
     "name": "stdout",
     "output_type": "stream",
     "text": [
      "epoch: 7, [batch: 180 / 359], examples_per_second: 11742.5548, train_label_loss: 0.1035, \n"
     ]
    },
    {
     "name": "stdout",
     "output_type": "stream",
     "text": [
      "epoch: 7, [batch: 215 / 359], examples_per_second: 11874.3874, train_label_loss: 0.1350, \n"
     ]
    },
    {
     "name": "stdout",
     "output_type": "stream",
     "text": [
      "epoch: 7, [batch: 251 / 359], examples_per_second: 11741.0140, train_label_loss: 0.1048, \n"
     ]
    },
    {
     "name": "stdout",
     "output_type": "stream",
     "text": [
      "epoch: 7, [batch: 287 / 359], examples_per_second: 11753.4233, train_label_loss: 0.0407, \n"
     ]
    },
    {
     "name": "stdout",
     "output_type": "stream",
     "text": [
      "epoch: 7, [batch: 323 / 359], examples_per_second: 11282.4351, train_label_loss: 0.0616, \n"
     ]
    },
    {
     "name": "stdout",
     "output_type": "stream",
     "text": [
      "=============================================================\n",
      "epoch: 7, source_val_acc_label: 0.9742, source_val_label_loss: 0.1493, target_val_acc_label: 0.7218, target_val_label_loss: 1.4286, \n",
      "=============================================================\n"
     ]
    },
    {
     "name": "stdout",
     "output_type": "stream",
     "text": [
      "New best\n",
      "epoch: 8, [batch: 1 / 359], examples_per_second: 148.5169, train_label_loss: 0.1082, \n"
     ]
    },
    {
     "name": "stdout",
     "output_type": "stream",
     "text": [
      "epoch: 8, [batch: 36 / 359], examples_per_second: 11634.5843, train_label_loss: 0.1012, \n"
     ]
    },
    {
     "name": "stdout",
     "output_type": "stream",
     "text": [
      "epoch: 8, [batch: 72 / 359], examples_per_second: 11747.2154, train_label_loss: 0.0805, \n"
     ]
    },
    {
     "name": "stdout",
     "output_type": "stream",
     "text": [
      "epoch: 8, [batch: 108 / 359], examples_per_second: 11841.5217, train_label_loss: 0.0418, \n"
     ]
    },
    {
     "name": "stdout",
     "output_type": "stream",
     "text": [
      "epoch: 8, [batch: 144 / 359], examples_per_second: 11630.0994, train_label_loss: 0.0691, \n"
     ]
    },
    {
     "name": "stdout",
     "output_type": "stream",
     "text": [
      "epoch: 8, [batch: 180 / 359], examples_per_second: 11774.7832, train_label_loss: 0.1200, \n"
     ]
    },
    {
     "name": "stdout",
     "output_type": "stream",
     "text": [
      "epoch: 8, [batch: 215 / 359], examples_per_second: 11895.6463, train_label_loss: 0.0823, \n"
     ]
    },
    {
     "name": "stdout",
     "output_type": "stream",
     "text": [
      "epoch: 8, [batch: 251 / 359], examples_per_second: 11687.8410, train_label_loss: 0.0936, \n"
     ]
    },
    {
     "name": "stdout",
     "output_type": "stream",
     "text": [
      "epoch: 8, [batch: 287 / 359], examples_per_second: 11951.8526, train_label_loss: 0.0925, \n"
     ]
    },
    {
     "name": "stdout",
     "output_type": "stream",
     "text": [
      "epoch: 8, [batch: 323 / 359], examples_per_second: 11649.1450, train_label_loss: 0.1036, \n"
     ]
    },
    {
     "name": "stdout",
     "output_type": "stream",
     "text": [
      "=============================================================\n",
      "epoch: 8, source_val_acc_label: 0.9662, source_val_label_loss: 0.1717, target_val_acc_label: 0.6971, target_val_label_loss: 1.5625, \n",
      "=============================================================\n"
     ]
    },
    {
     "name": "stdout",
     "output_type": "stream",
     "text": [
      "epoch: 9, [batch: 1 / 359], examples_per_second: 149.8884, train_label_loss: 0.0691, \n"
     ]
    },
    {
     "name": "stdout",
     "output_type": "stream",
     "text": [
      "epoch: 9, [batch: 36 / 359], examples_per_second: 11399.9785, train_label_loss: 0.0333, \n"
     ]
    },
    {
     "name": "stdout",
     "output_type": "stream",
     "text": [
      "epoch: 9, [batch: 72 / 359], examples_per_second: 11800.9097, train_label_loss: 0.0597, \n"
     ]
    },
    {
     "name": "stdout",
     "output_type": "stream",
     "text": [
      "epoch: 9, [batch: 108 / 359], examples_per_second: 11575.6981, train_label_loss: 0.1014, \n"
     ]
    },
    {
     "name": "stdout",
     "output_type": "stream",
     "text": [
      "epoch: 9, [batch: 144 / 359], examples_per_second: 11703.9287, train_label_loss: 0.0540, \n"
     ]
    },
    {
     "name": "stdout",
     "output_type": "stream",
     "text": [
      "epoch: 9, [batch: 180 / 359], examples_per_second: 11392.6205, train_label_loss: 0.0778, \n"
     ]
    },
    {
     "name": "stdout",
     "output_type": "stream",
     "text": [
      "epoch: 9, [batch: 215 / 359], examples_per_second: 11699.8914, train_label_loss: 0.0833, \n"
     ]
    },
    {
     "name": "stdout",
     "output_type": "stream",
     "text": [
      "epoch: 9, [batch: 251 / 359], examples_per_second: 11827.2681, train_label_loss: 0.0786, \n"
     ]
    },
    {
     "name": "stdout",
     "output_type": "stream",
     "text": [
      "epoch: 9, [batch: 287 / 359], examples_per_second: 11730.0973, train_label_loss: 0.0896, \n"
     ]
    },
    {
     "name": "stdout",
     "output_type": "stream",
     "text": [
      "epoch: 9, [batch: 323 / 359], examples_per_second: 11670.4866, train_label_loss: 0.0174, \n"
     ]
    },
    {
     "name": "stdout",
     "output_type": "stream",
     "text": [
      "=============================================================\n",
      "epoch: 9, source_val_acc_label: 0.9546, source_val_label_loss: 0.2000, target_val_acc_label: 0.6830, target_val_label_loss: 1.5355, \n",
      "=============================================================\n"
     ]
    },
    {
     "name": "stdout",
     "output_type": "stream",
     "text": [
      "epoch: 10, [batch: 1 / 359], examples_per_second: 150.6867, train_label_loss: 0.0664, \n"
     ]
    },
    {
     "name": "stdout",
     "output_type": "stream",
     "text": [
      "epoch: 10, [batch: 36 / 359], examples_per_second: 11510.1999, train_label_loss: 0.1001, \n"
     ]
    },
    {
     "name": "stdout",
     "output_type": "stream",
     "text": [
      "epoch: 10, [batch: 72 / 359], examples_per_second: 11968.7722, train_label_loss: 0.0983, \n"
     ]
    },
    {
     "name": "stdout",
     "output_type": "stream",
     "text": [
      "epoch: 10, [batch: 108 / 359], examples_per_second: 11633.5857, train_label_loss: 0.0179, \n"
     ]
    },
    {
     "name": "stdout",
     "output_type": "stream",
     "text": [
      "epoch: 10, [batch: 144 / 359], examples_per_second: 11717.5240, train_label_loss: 0.1096, \n"
     ]
    },
    {
     "name": "stdout",
     "output_type": "stream",
     "text": [
      "epoch: 10, [batch: 180 / 359], examples_per_second: 11631.0583, train_label_loss: 0.1423, \n"
     ]
    },
    {
     "name": "stdout",
     "output_type": "stream",
     "text": [
      "epoch: 10, [batch: 215 / 359], examples_per_second: 11700.7074, train_label_loss: 0.0940, \n"
     ]
    },
    {
     "name": "stdout",
     "output_type": "stream",
     "text": [
      "epoch: 10, [batch: 251 / 359], examples_per_second: 11725.7277, train_label_loss: 0.0523, \n"
     ]
    },
    {
     "name": "stdout",
     "output_type": "stream",
     "text": [
      "epoch: 10, [batch: 287 / 359], examples_per_second: 11722.1150, train_label_loss: 0.1404, \n"
     ]
    },
    {
     "name": "stdout",
     "output_type": "stream",
     "text": [
      "epoch: 10, [batch: 323 / 359], examples_per_second: 11593.9329, train_label_loss: 0.0806, \n"
     ]
    },
    {
     "name": "stdout",
     "output_type": "stream",
     "text": [
      "=============================================================\n",
      "epoch: 10, source_val_acc_label: 0.9638, source_val_label_loss: 0.1829, target_val_acc_label: 0.6903, target_val_label_loss: 1.6061, \n",
      "=============================================================\n"
     ]
    },
    {
     "name": "stdout",
     "output_type": "stream",
     "text": [
      "epoch: 11, [batch: 1 / 359], examples_per_second: 152.4946, train_label_loss: 0.0345, \n"
     ]
    },
    {
     "name": "stdout",
     "output_type": "stream",
     "text": [
      "epoch: 11, [batch: 36 / 359], examples_per_second: 11810.7079, train_label_loss: 0.0218, \n"
     ]
    },
    {
     "name": "stdout",
     "output_type": "stream",
     "text": [
      "epoch: 11, [batch: 72 / 359], examples_per_second: 11662.5852, train_label_loss: 0.0589, \n"
     ]
    },
    {
     "name": "stdout",
     "output_type": "stream",
     "text": [
      "epoch: 11, [batch: 108 / 359], examples_per_second: 11668.4081, train_label_loss: 0.0871, \n"
     ]
    },
    {
     "name": "stdout",
     "output_type": "stream",
     "text": [
      "epoch: 11, [batch: 144 / 359], examples_per_second: 11701.8666, train_label_loss: 0.0753, \n"
     ]
    },
    {
     "name": "stdout",
     "output_type": "stream",
     "text": [
      "epoch: 11, [batch: 180 / 359], examples_per_second: 11715.8619, train_label_loss: 0.0736, \n"
     ]
    },
    {
     "name": "stdout",
     "output_type": "stream",
     "text": [
      "epoch: 11, [batch: 215 / 359], examples_per_second: 11736.4812, train_label_loss: 0.1644, \n"
     ]
    },
    {
     "name": "stdout",
     "output_type": "stream",
     "text": [
      "epoch: 11, [batch: 251 / 359], examples_per_second: 11633.8798, train_label_loss: 0.0697, \n"
     ]
    },
    {
     "name": "stdout",
     "output_type": "stream",
     "text": [
      "epoch: 11, [batch: 287 / 359], examples_per_second: 11920.2442, train_label_loss: 0.1267, \n"
     ]
    },
    {
     "name": "stdout",
     "output_type": "stream",
     "text": [
      "epoch: 11, [batch: 323 / 359], examples_per_second: 11571.9278, train_label_loss: 0.1339, \n"
     ]
    },
    {
     "name": "stdout",
     "output_type": "stream",
     "text": [
      "=============================================================\n",
      "epoch: 11, source_val_acc_label: 0.9569, source_val_label_loss: 0.2044, target_val_acc_label: 0.6826, target_val_label_loss: 1.6132, \n",
      "=============================================================\n"
     ]
    },
    {
     "name": "stdout",
     "output_type": "stream",
     "text": [
      "Patience (3) exhausted\n"
     ]
    }
   ],
   "source": [
    "jig = Vanilla_Train_Eval_Test_Jig(\n",
    "    model=model,\n",
    "    path_to_best_model=p.BEST_MODEL_PATH,\n",
    "    device=p.device,\n",
    "    label_loss_object=torch.nn.NLLLoss(),\n",
    ")\n",
    "\n",
    "jig.train(\n",
    "    train_iterable=datasets.source.processed.train,\n",
    "    source_val_iterable=datasets.source.processed.val,\n",
    "    target_val_iterable=datasets.target.processed.val,\n",
    "    patience=p.patience,\n",
    "    num_epochs=p.n_epoch,\n",
    "    num_logs_per_epoch=p.NUM_LOGS_PER_EPOCH,\n",
    "    criteria_for_best=p.criteria_for_best\n",
    ")"
   ]
  },
  {
   "cell_type": "code",
   "execution_count": 14,
   "id": "4bc2ac17",
   "metadata": {
    "execution": {
     "iopub.execute_input": "2022-03-26T02:10:38.195316Z",
     "iopub.status.busy": "2022-03-26T02:10:38.194681Z",
     "iopub.status.idle": "2022-03-26T02:10:38.197010Z",
     "shell.execute_reply": "2022-03-26T02:10:38.197535Z"
    },
    "papermill": {
     "duration": 0.058046,
     "end_time": "2022-03-26T02:10:38.197686",
     "exception": false,
     "start_time": "2022-03-26T02:10:38.139640",
     "status": "completed"
    },
    "tags": []
   },
   "outputs": [],
   "source": [
    "total_experiment_time_secs = time.time() - start_time_secs"
   ]
  },
  {
   "cell_type": "code",
   "execution_count": 15,
   "id": "cae88f23",
   "metadata": {
    "execution": {
     "iopub.execute_input": "2022-03-26T02:10:38.312249Z",
     "iopub.status.busy": "2022-03-26T02:10:38.309996Z",
     "iopub.status.idle": "2022-03-26T02:10:49.913974Z",
     "shell.execute_reply": "2022-03-26T02:10:49.914659Z"
    },
    "papermill": {
     "duration": 11.664601,
     "end_time": "2022-03-26T02:10:49.914905",
     "exception": false,
     "start_time": "2022-03-26T02:10:38.250304",
     "status": "completed"
    },
    "tags": []
   },
   "outputs": [],
   "source": [
    "source_test_label_accuracy, source_test_label_loss = jig.test(datasets.source.processed.test)\n",
    "target_test_label_accuracy, target_test_label_loss = jig.test(datasets.target.processed.test)\n",
    "\n",
    "source_val_label_accuracy, source_val_label_loss = jig.test(datasets.source.processed.val)\n",
    "target_val_label_accuracy, target_val_label_loss = jig.test(datasets.target.processed.val)\n",
    "\n",
    "history = jig.get_history()\n",
    "\n",
    "total_epochs_trained = len(history[\"epoch_indices\"])\n",
    "\n",
    "val_dl = wrap_in_dataloader(p, Sequence_Aggregator((datasets.source.original.val, datasets.target.original.val)))\n",
    "\n",
    "confusion = confusion_by_domain_over_dataloader(model, p.device, val_dl, forward_uses_domain=False)\n",
    "per_domain_accuracy = per_domain_accuracy_from_confusion(confusion)\n",
    "\n",
    "# Add a key to per_domain_accuracy for if it was a source domain\n",
    "for domain, accuracy in per_domain_accuracy.items():\n",
    "    per_domain_accuracy[domain] = {\n",
    "        \"accuracy\": accuracy,\n",
    "        \"source?\": domain in p.domains_source\n",
    "    }\n",
    "\n",
    "# Do an independent accuracy assesment JUST TO BE SURE!\n",
    "# _source_test_label_accuracy = independent_accuracy_assesment(model, datasets.source.processed.test, p.device)\n",
    "# _target_test_label_accuracy = independent_accuracy_assesment(model, datasets.target.processed.test, p.device)\n",
    "# _source_val_label_accuracy = independent_accuracy_assesment(model, datasets.source.processed.val, p.device)\n",
    "# _target_val_label_accuracy = independent_accuracy_assesment(model, datasets.target.processed.val, p.device)\n",
    "\n",
    "# assert(_source_test_label_accuracy == source_test_label_accuracy)\n",
    "# assert(_target_test_label_accuracy == target_test_label_accuracy)\n",
    "# assert(_source_val_label_accuracy == source_val_label_accuracy)\n",
    "# assert(_target_val_label_accuracy == target_val_label_accuracy)\n",
    "\n",
    "###################################\n",
    "# Write out the results\n",
    "###################################\n",
    "\n",
    "experiment = {\n",
    "    \"experiment_name\": p.experiment_name,\n",
    "    \"parameters\": p,\n",
    "    \"results\": {\n",
    "        \"source_test_label_accuracy\": source_test_label_accuracy,\n",
    "        \"source_test_label_loss\": source_test_label_loss,\n",
    "        \"target_test_label_accuracy\": target_test_label_accuracy,\n",
    "        \"target_test_label_loss\": target_test_label_loss,\n",
    "        \"source_val_label_accuracy\": source_val_label_accuracy,\n",
    "        \"source_val_label_loss\": source_val_label_loss,\n",
    "        \"target_val_label_accuracy\": target_val_label_accuracy,\n",
    "        \"target_val_label_loss\": target_val_label_loss,\n",
    "        \"total_epochs_trained\": total_epochs_trained,\n",
    "        \"total_experiment_time_secs\": total_experiment_time_secs,\n",
    "        \"confusion\": confusion,\n",
    "        \"per_domain_accuracy\": per_domain_accuracy,\n",
    "    },\n",
    "    \"history\": history,\n",
    "    \"dataset_metrics\": get_dataset_metrics(datasets, \"cnn\"),\n",
    "}"
   ]
  },
  {
   "cell_type": "code",
   "execution_count": 16,
   "id": "74c318cf",
   "metadata": {
    "execution": {
     "iopub.execute_input": "2022-03-26T02:10:50.045097Z",
     "iopub.status.busy": "2022-03-26T02:10:50.043571Z",
     "iopub.status.idle": "2022-03-26T02:10:50.518883Z",
     "shell.execute_reply": "2022-03-26T02:10:50.519595Z"
    },
    "papermill": {
     "duration": 0.551027,
     "end_time": "2022-03-26T02:10:50.519809",
     "exception": false,
     "start_time": "2022-03-26T02:10:49.968782",
     "status": "completed"
    },
    "tags": []
   },
   "outputs": [
    {
     "data": {
      "text/plain": [
       "<AxesSubplot:title={'center':'Source Train Label Loss vs Source Val Label Loss'}, xlabel='Epoch'>"
      ]
     },
     "execution_count": 16,
     "metadata": {},
     "output_type": "execute_result"
    },
    {
     "data": {
      "image/png": "[encoded data removed]",
      "text/plain": [
       "<Figure size 1080x504 with 1 Axes>"
      ]
     },
     "metadata": {
      "needs_background": "light"
     },
     "output_type": "display_data"
    }
   ],
   "source": [
    "get_loss_curve(experiment)"
   ]
  },
  {
   "cell_type": "code",
   "execution_count": 17,
   "id": "59376601",
   "metadata": {
    "execution": {
     "iopub.execute_input": "2022-03-26T02:10:50.651690Z",
     "iopub.status.busy": "2022-03-26T02:10:50.650872Z",
     "iopub.status.idle": "2022-03-26T02:10:50.955176Z",
     "shell.execute_reply": "2022-03-26T02:10:50.954778Z"
    },
    "papermill": {
     "duration": 0.378988,
     "end_time": "2022-03-26T02:10:50.955269",
     "exception": false,
     "start_time": "2022-03-26T02:10:50.576281",
     "status": "completed"
    },
    "tags": []
   },
   "outputs": [
    {
     "data": {
      "text/plain": [
       "<AxesSubplot:title={'center':'Results'}>"
      ]
     },
     "execution_count": 17,
     "metadata": {},
     "output_type": "execute_result"
    },
    {
     "data": {
      "image/png": "[encoded data removed]",
      "text/plain": [
       "<Figure size 1080x504 with 1 Axes>"
      ]
     },
     "metadata": {
      "needs_background": "light"
     },
     "output_type": "display_data"
    }
   ],
   "source": [
    "get_results_table(experiment)"
   ]
  },
  {
   "cell_type": "code",
   "execution_count": 18,
   "id": "e80c5c98",
   "metadata": {
    "execution": {
     "iopub.execute_input": "2022-03-26T02:10:51.078788Z",
     "iopub.status.busy": "2022-03-26T02:10:51.078409Z",
     "iopub.status.idle": "2022-03-26T02:10:51.221159Z",
     "shell.execute_reply": "2022-03-26T02:10:51.220771Z"
    },
    "papermill": {
     "duration": 0.214282,
     "end_time": "2022-03-26T02:10:51.221248",
     "exception": false,
     "start_time": "2022-03-26T02:10:51.006966",
     "status": "completed"
    },
    "tags": []
   },
   "outputs": [
    {
     "data": {
      "text/plain": [
       "<AxesSubplot:title={'center':'Per Domain Accuracy'}, xlabel='domain'>"
      ]
     },
     "execution_count": 18,
     "metadata": {},
     "output_type": "execute_result"
    },
    {
     "data": {
      "image/png": "[encoded data removed]",
      "text/plain": [
       "<Figure size 1080x504 with 1 Axes>"
      ]
     },
     "metadata": {
      "needs_background": "light"
     },
     "output_type": "display_data"
    }
   ],
   "source": [
    "get_domain_accuracies(experiment)"
   ]
  },
  {
   "cell_type": "code",
   "execution_count": 19,
   "id": "086fdd10",
   "metadata": {
    "execution": {
     "iopub.execute_input": "2022-03-26T02:10:51.329900Z",
     "iopub.status.busy": "2022-03-26T02:10:51.329527Z",
     "iopub.status.idle": "2022-03-26T02:10:51.333508Z",
     "shell.execute_reply": "2022-03-26T02:10:51.333137Z"
    },
    "papermill": {
     "duration": 0.059988,
     "end_time": "2022-03-26T02:10:51.333580",
     "exception": false,
     "start_time": "2022-03-26T02:10:51.273592",
     "status": "completed"
    },
    "tags": []
   },
   "outputs": [
    {
     "name": "stdout",
     "output_type": "stream",
     "text": [
      "Source Test Label Accuracy: 0.9711046453295876 Target Test Label Accuracy: 0.7209040637860082\n",
      "Source Val Label Accuracy: 0.9742331288343559 Target Val Label Accuracy: 0.7217752485609629\n"
     ]
    }
   ],
   "source": [
    "print(\"Source Test Label Accuracy:\", experiment[\"results\"][\"source_test_label_accuracy\"], \"Target Test Label Accuracy:\", experiment[\"results\"][\"target_test_label_accuracy\"])\n",
    "print(\"Source Val Label Accuracy:\", experiment[\"results\"][\"source_val_label_accuracy\"], \"Target Val Label Accuracy:\", experiment[\"results\"][\"target_val_label_accuracy\"])"
   ]
  },
  {
   "cell_type": "code",
   "execution_count": 20,
   "id": "9f450536",
   "metadata": {
    "execution": {
     "iopub.execute_input": "2022-03-26T02:10:51.443086Z",
     "iopub.status.busy": "2022-03-26T02:10:51.442720Z",
     "iopub.status.idle": "2022-03-26T02:10:51.446032Z",
     "shell.execute_reply": "2022-03-26T02:10:51.445665Z"
    },
    "papermill": {
     "duration": 0.06008,
     "end_time": "2022-03-26T02:10:51.446103",
     "exception": false,
     "start_time": "2022-03-26T02:10:51.386023",
     "status": "completed"
    },
    "tags": [
     "experiment_json"
    ]
   },
   "outputs": [
    {
     "data": {
      "text/plain": [
       "'{\"experiment_name\": \"cnn_1:wisig\", \"parameters\": {\"experiment_name\": \"cnn_1:wisig\", \"labels\": [\"1-10\", \"1-12\", \"1-14\", \"1-16\", \"1-18\", \"1-19\", \"1-8\", \"10-11\", \"10-17\", \"10-4\", \"10-7\", \"11-1\", \"11-10\", \"11-19\", \"11-20\", \"11-4\", \"11-7\", \"12-19\", \"12-20\", \"12-7\", \"13-14\", \"13-18\", \"13-19\", \"13-20\", \"13-3\", \"13-7\", \"14-10\", \"14-11\", \"14-12\", \"14-13\", \"14-14\", \"14-19\", \"14-20\", \"14-7\", \"14-8\", \"14-9\", \"15-1\", \"15-19\", \"15-6\", \"16-1\", \"16-16\", \"16-19\", \"16-20\", \"17-10\", \"17-11\", \"18-1\", \"18-10\", \"18-11\", \"18-12\", \"18-13\", \"18-14\", \"18-15\", \"18-16\", \"18-17\", \"18-19\", \"18-2\", \"18-20\", \"18-4\", \"18-5\", \"18-7\", \"18-8\", \"18-9\", \"19-1\", \"19-10\", \"19-11\", \"19-12\", \"19-13\", \"19-14\", \"19-15\", \"19-19\", \"19-2\", \"19-20\", \"19-3\", \"19-4\", \"19-6\", \"19-7\", \"19-8\", \"19-9\", \"2-1\", \"2-13\", \"2-15\", \"2-3\", \"2-4\", \"2-5\", \"2-6\", \"2-7\", \"2-8\", \"20-1\", \"20-12\", \"20-14\", \"20-15\", \"20-16\", \"20-18\", \"20-19\", \"20-20\", \"20-3\", \"20-4\", \"20-5\", \"20-7\", \"20-8\", \"3-1\", \"3-13\", \"3-18\", \"3-2\", \"3-8\", \"4-1\", \"4-10\", \"4-11\", \"5-1\", \"5-5\", \"6-1\", \"6-15\", \"6-6\", \"7-10\", \"7-11\", \"7-12\", \"7-13\", \"7-14\", \"7-7\", \"7-8\", \"7-9\", \"8-1\", \"8-13\", \"8-14\", \"8-18\", \"8-20\", \"8-3\", \"8-8\", \"9-1\", \"9-7\"], \"domains_source\": [3], \"domains_target\": [1, 2, 4], \"pickle_name_target\": \"wisig.node3-19.stratified_ds.2022A.pkl\", \"pickle_name_source\": \"wisig.node3-19.stratified_ds.2022A.pkl\", \"device\": \"cuda\", \"lr\": 0.0001, \"batch_size\": 128, \"normalize_source\": false, \"normalize_target\": false, \"num_examples_per_domain_per_label_source\": -1, \"num_examples_per_domain_per_label_target\": -1, \"torch_default_dtype\": \"torch.float32\", \"n_epoch\": 50, \"patience\": 3, \"criteria_for_best\": \"target_accuracy\", \"x_net\": [{\"class\": \"nnReshape\", \"kargs\": {\"shape\": [-1, 1, 2, 256]}}, {\"class\": \"Conv2d\", \"kargs\": {\"in_channels\": 1, \"out_channels\": 256, \"kernel_size\": [1, 7], \"bias\": false, \"padding\": [0, 3]}}, {\"class\": \"ReLU\", \"kargs\": {\"inplace\": true}}, {\"class\": \"BatchNorm2d\", \"kargs\": {\"num_features\": 256}}, {\"class\": \"Conv2d\", \"kargs\": {\"in_channels\": 256, \"out_channels\": 80, \"kernel_size\": [2, 7], \"bias\": true, \"padding\": [0, 3]}}, {\"class\": \"ReLU\", \"kargs\": {\"inplace\": true}}, {\"class\": \"BatchNorm2d\", \"kargs\": {\"num_features\": 80}}, {\"class\": \"Flatten\", \"kargs\": {}}, {\"class\": \"Linear\", \"kargs\": {\"in_features\": 20480, \"out_features\": 256}}, {\"class\": \"ReLU\", \"kargs\": {\"inplace\": true}}, {\"class\": \"BatchNorm1d\", \"kargs\": {\"num_features\": 256}}, {\"class\": \"Linear\", \"kargs\": {\"in_features\": 256, \"out_features\": 130}}], \"NUM_LOGS_PER_EPOCH\": 10, \"BEST_MODEL_PATH\": \"./best_model.pth\", \"dataset_seed\": 420, \"seed\": 420}, \"results\": {\"source_test_label_accuracy\": 0.9711046453295876, \"source_test_label_loss\": 0.1633125502998248, \"target_test_label_accuracy\": 0.7209040637860082, \"target_test_label_loss\": 1.4337773291171823, \"source_val_label_accuracy\": 0.9742331288343559, \"source_val_label_loss\": 0.14830074623807685, \"target_val_label_accuracy\": 0.7217752485609629, \"target_val_label_loss\": 1.4285063212386733, \"total_epochs_trained\": 11, \"total_experiment_time_secs\": 68.63166666030884, \"confusion\": {\"2\": {\"95\": {\"40\": 44, \"6\": 1, \"88\": 1}, \"105\": {\"40\": 76, \"7\": 27, \"62\": 25, \"87\": 29, \"105\": 2, \"88\": 4, \"21\": 1, \"122\": 1}, \"100\": {\"100\": 13, \"93\": 11}, \"81\": {\"117\": 25, \"18\": 6, \"93\": 1, \"32\": 1}, \"40\": {\"40\": 168, \"21\": 4, \"88\": 4, \"70\": 2}, \"8\": {\"8\": 151, \"21\": 2, \"6\": 1, \"11\": 2, \"30\": 2, \"110\": 2, \"126\": 1}, \"109\": {\"109\": 39, \"21\": 14, \"39\": 59, \"88\": 3, \"10\": 2, \"70\": 3, \"43\": 2, \"6\": 1, \"128\": 1, \"126\": 1}, \"33\": {\"33\": 181, \"126\": 1, \"88\": 2, \"114\": 1}, \"62\": {\"62\": 163, \"88\": 9, \"21\": 2, \"108\": 1}, \"43\": {\"43\": 145, \"11\": 1, \"39\": 1, \"88\": 7, \"87\": 2}, \"26\": {\"26\": 172, \"122\": 1, \"88\": 4, \"21\": 2}, \"51\": {\"75\": 3, \"51\": 14, \"98\": 6, \"88\": 1, \"15\": 1}, \"36\": {\"36\": 152, \"21\": 5, \"94\": 1, \"88\": 4}, \"11\": {\"108\": 38, \"94\": 58, \"88\": 2, \"21\": 3, \"30\": 1, \"70\": 1}, \"39\": {\"39\": 122, \"21\": 5, \"43\": 13, \"88\": 3, \"7\": 1}, \"30\": {\"30\": 123, \"81\": 1, \"0\": 13, \"21\": 1, \"88\": 1, \"36\": 1, \"70\": 1}, \"4\": {\"4\": 109, \"88\": 2, \"43\": 2, \"81\": 1}, \"122\": {\"122\": 162, \"88\": 2, \"110\": 6, \"23\": 2, \"30\": 2, \"43\": 1, \"60\": 1, \"108\": 1}, \"5\": {\"5\": 138, \"70\": 2, \"88\": 1, \"21\": 1}, \"106\": {\"106\": 146, \"36\": 1, \"88\": 2, \"21\": 2, \"97\": 1}, \"65\": {\"65\": 25, \"90\": 2}, \"68\": {\"68\": 23}, \"117\": {\"117\": 148, \"21\": 2, \"88\": 1}, \"101\": {\"101\": 198, \"125\": 1, \"88\": 1}, \"69\": {\"70\": 1, \"69\": 165, \"26\": 4, \"21\": 2, \"88\": 5, \"43\": 1}, \"70\": {\"39\": 15, \"88\": 12, \"70\": 119, \"21\": 4, \"93\": 1, \"43\": 3, \"11\": 1, \"10\": 1}, \"125\": {\"125\": 205, \"124\": 1}, \"49\": {\"49\": 23, \"88\": 3, \"54\": 2, \"19\": 2, \"6\": 1}, \"38\": {\"95\": 8, \"44\": 10, \"7\": 2, \"103\": 1, \"37\": 1}, \"102\": {\"102\": 154, \"21\": 2, \"90\": 1}, \"12\": {\"12\": 105, \"88\": 5, \"21\": 1}, \"91\": {\"91\": 32, \"21\": 1, \"88\": 1, \"29\": 1}, \"44\": {\"44\": 123, \"31\": 1, \"49\": 1, \"98\": 1, \"20\": 1, \"93\": 1, \"3\": 1}, \"83\": {\"19\": 10, \"91\": 13, \"96\": 3, \"64\": 20, \"114\": 3, \"93\": 1}, \"78\": {\"78\": 45, \"70\": 5, \"39\": 2, \"21\": 6, \"10\": 2, \"7\": 1, \"88\": 2}, \"21\": {\"21\": 52, \"88\": 4, \"43\": 2, \"39\": 1, \"70\": 3}, \"107\": {\"107\": 79, \"21\": 1, \"54\": 1, \"36\": 1, \"70\": 1, \"88\": 1}, \"114\": {\"114\": 139, \"88\": 5, \"21\": 2, \"7\": 1}, \"58\": {\"58\": 27}, \"72\": {\"93\": 35, \"21\": 2, \"88\": 1, \"110\": 1}, \"15\": {\"15\": 140, \"88\": 6, \"94\": 1, \"70\": 1, \"21\": 3}, \"127\": {\"127\": 153, \"88\": 1, \"21\": 1, \"70\": 1}, \"113\": {\"113\": 87, \"126\": 4, \"88\": 2, \"70\": 1}, \"118\": {\"118\": 78, \"88\": 4, \"39\": 1, \"87\": 2, \"6\": 1}, \"18\": {\"18\": 155, \"88\": 4, \"21\": 2}, \"16\": {\"16\": 146, \"110\": 4, \"11\": 1, \"88\": 2, \"21\": 2}, \"23\": {\"23\": 56, \"21\": 1, \"88\": 2}, \"3\": {\"3\": 168, \"88\": 2, \"70\": 1, \"69\": 1, \"21\": 1}, \"87\": {\"87\": 35, \"43\": 95, \"21\": 3, \"88\": 5, \"70\": 3, \"113\": 1, \"11\": 1}, \"71\": {\"71\": 116, \"114\": 2, \"21\": 4, \"88\": 3, \"70\": 1, \"3\": 2, \"94\": 1}, \"29\": {\"98\": 18, \"72\": 18, \"77\": 5, \"91\": 3}, \"0\": {\"101\": 81, \"88\": 2, \"0\": 59, \"36\": 1, \"21\": 1, \"30\": 3, \"62\": 1}, \"108\": {\"108\": 170, \"36\": 3, \"24\": 2, \"88\": 1}, \"24\": {\"24\": 96, \"88\": 36, \"21\": 8}, \"93\": {\"93\": 199, \"113\": 3, \"88\": 4, \"11\": 1, \"54\": 1, \"60\": 1}, \"84\": {\"84\": 111, \"21\": 2, \"88\": 3, \"70\": 2}, \"128\": {\"128\": 30, \"114\": 2}, \"98\": {\"98\": 150, \"93\": 1, \"21\": 1, \"44\": 1}, \"92\": {\"89\": 29, \"21\": 2, \"76\": 4, \"88\": 1}, \"48\": {\"48\": 25}, \"111\": {\"111\": 177, \"88\": 2, \"18\": 1}, \"97\": {\"97\": 24, \"15\": 2, \"127\": 2}, \"116\": {\"116\": 36, \"93\": 1}, \"77\": {\"77\": 21, \"58\": 3}, \"94\": {\"70\": 2, \"94\": 68, \"21\": 7, \"36\": 1, \"111\": 1, \"88\": 1, \"64\": 1}, \"7\": {\"7\": 164, \"21\": 2, \"70\": 1, \"87\": 1}, \"35\": {\"35\": 17, \"89\": 1}, \"86\": {\"68\": 25, \"124\": 1, \"104\": 10, \"82\": 4, \"45\": 3}, \"6\": {\"6\": 42}, \"124\": {\"124\": 157}, \"34\": {\"34\": 42}, \"52\": {\"25\": 13, \"128\": 5, \"47\": 3, \"6\": 3, \"99\": 1, \"105\": 1}, \"10\": {\"10\": 75, \"88\": 3}, \"129\": {\"129\": 38, \"124\": 2}, \"90\": {\"90\": 237, \"124\": 1}, \"1\": {\"1\": 156, \"21\": 1}, \"121\": {\"121\": 44, \"88\": 1}, \"74\": {\"74\": 24}, \"20\": {\"121\": 5, \"96\": 10, \"44\": 1, \"2\": 1, \"93\": 2, \"23\": 3, \"36\": 1, \"81\": 1}, \"17\": {\"17\": 15, \"68\": 3, \"70\": 1, \"88\": 3, \"81\": 1, \"21\": 1}, \"85\": {\"85\": 40, \"88\": 3}, \"27\": {\"36\": 72, \"21\": 4, \"70\": 3, \"27\": 4, \"88\": 5, \"24\": 1}, \"99\": {\"119\": 29, \"23\": 8, \"121\": 3, \"88\": 1}, \"53\": {\"114\": 10, \"60\": 1, \"31\": 4, \"85\": 4, \"46\": 3, \"28\": 1, \"34\": 1}, \"119\": {\"64\": 21, \"98\": 1, \"117\": 4, \"102\": 1}, \"57\": {\"67\": 10, \"81\": 1, \"113\": 1, \"90\": 11, \"20\": 2}, \"60\": {\"60\": 36, \"110\": 2, \"88\": 1}, \"32\": {\"32\": 44, \"57\": 1, \"73\": 1}, \"126\": {\"24\": 19, \"88\": 88, \"70\": 36, \"39\": 7}, \"88\": {\"88\": 144, \"21\": 4, \"39\": 8}, \"110\": {\"110\": 51, \"88\": 1, \"122\": 1, \"127\": 1}, \"55\": {\"55\": 24}, \"96\": {\"93\": 26, \"124\": 1, \"60\": 1}, \"103\": {\"58\": 20, \"68\": 4}, \"112\": {\"19\": 4, \"72\": 3, \"46\": 4, \"112\": 10, \"111\": 1, \"129\": 1, \"83\": 1}, \"37\": {\"77\": 20, \"45\": 1, \"115\": 2, \"88\": 1}, \"42\": {\"42\": 35, \"88\": 1}, \"46\": {\"53\": 3, \"5\": 18, \"112\": 2, \"21\": 1}, \"50\": {\"88\": 2, \"50\": 19, \"64\": 1}, \"19\": {\"19\": 38, \"101\": 1}, \"63\": {\"50\": 4, \"2\": 14, \"74\": 5, \"57\": 3}, \"89\": {\"89\": 46, \"34\": 1, \"117\": 1, \"26\": 1}, \"56\": {\"56\": 17}, \"82\": {\"82\": 43, \"21\": 1, \"107\": 1}, \"80\": {\"115\": 14, \"4\": 4, \"89\": 1, \"93\": 1}, \"76\": {\"76\": 23, \"88\": 1}, \"75\": {\"75\": 23, \"88\": 1}, \"14\": {\"14\": 57, \"88\": 2, \"21\": 2, \"43\": 1}, \"28\": {\"91\": 24, \"88\": 2, \"111\": 1}, \"79\": {\"68\": 12, \"65\": 4, \"124\": 4}, \"9\": {\"25\": 42, \"68\": 1, \"75\": 1}, \"59\": {\"91\": 15, \"88\": 2, \"128\": 1, \"42\": 1, \"52\": 1}, \"61\": {\"9\": 16, \"40\": 5, \"88\": 1, \"32\": 2, \"102\": 1}, \"31\": {\"54\": 1, \"50\": 17, \"18\": 1, \"117\": 1, \"107\": 3, \"98\": 2, \"89\": 1}, \"2\": {\"7\": 1, \"2\": 39}, \"45\": {\"45\": 23, \"93\": 1}, \"73\": {\"46\": 25, \"129\": 10, \"19\": 1, \"6\": 1}, \"67\": {\"115\": 10, \"102\": 13, \"33\": 1}, \"13\": {\"13\": 21, \"36\": 1, \"88\": 1}, \"41\": {\"6\": 5, \"56\": 13, \"3\": 3, \"71\": 1, \"87\": 2, \"70\": 1}, \"104\": {\"104\": 28}, \"25\": {\"25\": 21}, \"115\": {\"103\": 19}, \"123\": {\"20\": 13, \"129\": 4, \"116\": 5, \"128\": 1}, \"66\": {\"66\": 24, \"19\": 1}, \"120\": {\"120\": 24, \"128\": 1}, \"64\": {\"104\": 1, \"38\": 21, \"88\": 2}, \"54\": {\"9\": 22, \"98\": 2, \"125\": 1, \"111\": 2}, \"47\": {\"47\": 14, \"21\": 1, \"73\": 1, \"54\": 1, \"52\": 1, \"93\": 1}, \"22\": {\"22\": 25}}, \"1\": {\"15\": {\"15\": 128, \"88\": 1, \"21\": 1, \"24\": 3}, \"27\": {\"27\": 66, \"36\": 52, \"24\": 1}, \"125\": {\"125\": 219}, \"113\": {\"126\": 150, \"88\": 2, \"26\": 1, \"21\": 1, \"101\": 1}, \"111\": {\"111\": 148, \"88\": 2, \"70\": 2}, \"7\": {\"7\": 176, \"87\": 6, \"70\": 1}, \"14\": {\"14\": 122}, \"110\": {\"127\": 104, \"122\": 21, \"101\": 10, \"12\": 18, \"10\": 8, \"88\": 3}, \"8\": {\"110\": 133, \"11\": 35, \"8\": 15}, \"108\": {\"108\": 117, \"70\": 19, \"27\": 1, \"88\": 7, \"24\": 11, \"124\": 1}, \"16\": {\"16\": 89, \"118\": 40, \"18\": 6, \"88\": 3}, \"44\": {\"44\": 59, \"49\": 18, \"60\": 18}, \"68\": {\"128\": 12, \"73\": 8, \"68\": 2, \"111\": 1}, \"117\": {\"117\": 180}, \"50\": {\"62\": 9, \"32\": 10, \"55\": 2}, \"127\": {\"127\": 135, \"70\": 1}, \"84\": {\"84\": 156, \"127\": 10, \"12\": 2, \"21\": 1, \"88\": 1}, \"73\": {\"129\": 18, \"46\": 9, \"114\": 2}, \"2\": {\"29\": 6, \"2\": 32, \"83\": 1, \"123\": 2}, \"70\": {\"70\": 128, \"88\": 32, \"30\": 1}, \"98\": {\"98\": 136}, \"62\": {\"62\": 146, \"88\": 2, \"4\": 1, \"26\": 1, \"118\": 1}, \"90\": {\"90\": 231, \"121\": 1}, \"120\": {\"45\": 20, \"88\": 2, \"32\": 3}, \"43\": {\"43\": 109, \"87\": 20, \"10\": 19, \"122\": 13, \"88\": 1}, \"126\": {\"108\": 142, \"24\": 26, \"88\": 1, \"36\": 1}, \"13\": {\"13\": 23}, \"116\": {\"116\": 41, \"89\": 1, \"88\": 1, \"36\": 1}, \"55\": {\"4\": 17}, \"34\": {\"34\": 38, \"71\": 2}, \"74\": {\"74\": 21, \"62\": 1}, \"0\": {\"10\": 3, \"70\": 1, \"0\": 86, \"7\": 15, \"88\": 1}, \"12\": {\"12\": 129, \"88\": 1, \"21\": 2}, \"71\": {\"3\": 89, \"94\": 18, \"127\": 26, \"121\": 1, \"88\": 1, \"12\": 1}, \"10\": {\"10\": 150, \"21\": 2}, \"11\": {\"11\": 173}, \"1\": {\"1\": 167, \"114\": 2, \"88\": 2}, \"121\": {\"121\": 41}, \"124\": {\"124\": 163}, \"33\": {\"33\": 196, \"34\": 1}, \"87\": {\"43\": 28, \"87\": 66, \"122\": 40, \"88\": 1, \"10\": 1}, \"31\": {\"60\": 13, \"31\": 6, \"1\": 1, \"49\": 3}, \"93\": {\"87\": 189, \"122\": 2, \"10\": 10}, \"40\": {\"40\": 180}, \"72\": {\"72\": 38, \"47\": 1, \"46\": 1}, \"122\": {\"122\": 105, \"88\": 2, \"87\": 4, \"118\": 1}, \"106\": {\"12\": 172, \"88\": 2}, \"105\": {\"105\": 106, \"70\": 1, \"127\": 1}, \"61\": {\"29\": 10, \"125\": 1, \"73\": 4, \"124\": 1, \"93\": 1, \"32\": 1, \"121\": 1}, \"4\": {\"4\": 124, \"11\": 1, \"88\": 1, \"21\": 1}, \"6\": {\"6\": 39, \"71\": 1}, \"36\": {\"36\": 169, \"88\": 2}, \"118\": {\"118\": 102, \"88\": 2, \"109\": 1}, \"99\": {\"20\": 18, \"52\": 6, \"29\": 1, \"53\": 3, \"49\": 3, \"119\": 1}, \"24\": {\"36\": 54, \"24\": 20, \"27\": 10, \"108\": 29, \"70\": 1, \"88\": 2}, \"54\": {\"114\": 1, \"91\": 15, \"19\": 3, \"53\": 3, \"128\": 1}, \"88\": {\"24\": 110, \"108\": 35, \"27\": 10, \"70\": 12, \"88\": 2, \"36\": 4, \"30\": 2}, \"75\": {\"19\": 5, \"3\": 6, \"127\": 11}, \"32\": {\"128\": 24, \"72\": 7, \"58\": 8, \"81\": 1, \"64\": 1}, \"18\": {\"113\": 143, \"88\": 1, \"18\": 13}, \"103\": {\"42\": 16, \"88\": 1, \"53\": 2, \"124\": 2, \"30\": 1}, \"3\": {\"114\": 45, \"3\": 64, \"75\": 1, \"44\": 1}, \"85\": {\"95\": 40, \"40\": 2}, \"107\": {\"127\": 99, \"107\": 55, \"21\": 1}, \"109\": {\"70\": 132, \"88\": 24, \"39\": 2}, \"69\": {\"62\": 132, \"118\": 5, \"21\": 1}, \"35\": {\"35\": 15, \"101\": 1, \"0\": 1}, \"97\": {\"108\": 9, \"24\": 4, \"36\": 10, \"27\": 3, \"93\": 1}, \"89\": {\"52\": 39, \"53\": 5, \"1\": 1, \"91\": 1}, \"114\": {\"114\": 180}, \"30\": {\"30\": 63, \"88\": 1, \"70\": 4}, \"19\": {\"19\": 37, \"128\": 1}, \"21\": {\"21\": 28, \"70\": 3, \"88\": 18, \"54\": 1, \"11\": 1}, \"94\": {\"94\": 114, \"36\": 1, \"88\": 2, \"30\": 1}, \"29\": {\"8\": 19, \"97\": 3, \"42\": 1, \"128\": 14}, \"86\": {\"125\": 12, \"91\": 2, \"86\": 11, \"29\": 18, \"98\": 1, \"103\": 3, \"70\": 1}, \"91\": {\"91\": 38, \"19\": 1}, \"92\": {\"95\": 39}, \"102\": {\"102\": 153, \"88\": 1}, \"39\": {\"39\": 112, \"43\": 10, \"11\": 6, \"88\": 2, \"109\": 2}, \"26\": {\"26\": 167, \"70\": 2, \"88\": 3}, \"95\": {\"61\": 9, \"121\": 19, \"18\": 4, \"93\": 6, \"89\": 3, \"26\": 2, \"48\": 1, \"126\": 1, \"117\": 2}, \"59\": {\"59\": 19}, \"101\": {\"101\": 146, \"14\": 9, \"8\": 1, \"21\": 2}, \"64\": {\"64\": 22, \"90\": 1}, \"5\": {\"5\": 113, \"7\": 1}, \"83\": {\"19\": 10, \"41\": 3, \"36\": 1, \"91\": 21, \"28\": 1, \"88\": 1, \"34\": 1, \"6\": 1}, \"82\": {\"82\": 47, \"46\": 1}, \"79\": {\"79\": 18}, \"96\": {\"96\": 10, \"49\": 11, \"36\": 4, \"24\": 1, \"93\": 2}, \"56\": {\"56\": 18}, \"41\": {\"103\": 19, \"37\": 4, \"43\": 1}, \"119\": {\"119\": 24}, \"60\": {\"23\": 9, \"110\": 3, \"60\": 9, \"88\": 1, \"94\": 1}, \"80\": {\"115\": 22}, \"38\": {\"66\": 19, \"38\": 1}, \"37\": {\"37\": 22}, \"58\": {\"58\": 18, \"98\": 1}, \"52\": {\"25\": 12, \"128\": 13, \"6\": 1, \"35\": 1}, \"77\": {\"128\": 1, \"41\": 5, \"91\": 7, \"99\": 6, \"93\": 1}, \"104\": {\"112\": 18, \"88\": 1, \"106\": 1, \"129\": 2, \"42\": 1}, \"46\": {\"46\": 2, \"125\": 6, \"52\": 1, \"115\": 3, \"89\": 1, \"124\": 1, \"5\": 2, \"6\": 1, \"114\": 1}, \"9\": {\"83\": 4, \"53\": 14, \"49\": 14, \"124\": 5, \"34\": 2, \"20\": 1}, \"47\": {\"53\": 6, \"83\": 8, \"42\": 2, \"93\": 1}, \"23\": {\"49\": 11, \"88\": 1, \"110\": 2, \"60\": 1, \"23\": 9, \"0\": 3, \"10\": 2, \"113\": 1}, \"123\": {\"123\": 23}, \"76\": {\"118\": 12, \"74\": 7, \"62\": 4, \"88\": 1}, \"100\": {\"119\": 16, \"93\": 6, \"88\": 1}, \"17\": {\"46\": 12, \"5\": 9, \"17\": 1}, \"28\": {\"28\": 25}, \"25\": {\"21\": 1, \"20\": 11, \"79\": 7, \"29\": 2}, \"48\": {\"48\": 18}, \"129\": {\"129\": 39}, \"42\": {\"90\": 7, \"91\": 13, \"20\": 5, \"42\": 10, \"124\": 1}, \"112\": {\"98\": 14, \"111\": 6, \"72\": 1, \"56\": 1, \"6\": 1}, \"20\": {\"32\": 13, \"93\": 3, \"20\": 5, \"128\": 1, \"8\": 2}, \"66\": {\"28\": 24}, \"128\": {\"128\": 34}, \"115\": {\"121\": 1, \"80\": 15, \"103\": 2}, \"78\": {\"78\": 15, \"88\": 2, \"70\": 3, \"10\": 2, \"21\": 1, \"87\": 1}, \"49\": {\"19\": 2, \"114\": 2, \"1\": 1, \"25\": 3, \"98\": 8, \"107\": 1, \"111\": 1, \"88\": 1, \"3\": 1, \"97\": 1, \"127\": 4}, \"63\": {\"63\": 22}, \"67\": {\"115\": 16, \"102\": 3, \"33\": 2, \"82\": 1}, \"81\": {\"107\": 23, \"14\": 12, \"50\": 3}, \"45\": {\"29\": 4, \"88\": 2, \"45\": 9}, \"53\": {\"71\": 16, \"75\": 8, \"114\": 1}, \"51\": {\"98\": 9, \"75\": 12, \"34\": 1}, \"22\": {\"90\": 18, \"30\": 1, \"116\": 3, \"98\": 1, \"121\": 1}, \"57\": {\"57\": 19}, \"65\": {\"116\": 2, \"57\": 8, \"90\": 7, \"6\": 1, \"65\": 1}}, \"3\": {\"16\": {\"16\": 147, \"88\": 1, \"70\": 1}, \"42\": {\"42\": 37}, \"41\": {\"41\": 21, \"81\": 1}, \"88\": {\"88\": 141}, \"124\": {\"124\": 156}, \"93\": {\"93\": 207}, \"106\": {\"106\": 125, \"21\": 1, \"70\": 3}, \"12\": {\"12\": 130, \"10\": 1}, \"4\": {\"4\": 121, \"21\": 1, \"125\": 1}, \"75\": {\"75\": 22}, \"111\": {\"111\": 164, \"21\": 1, \"124\": 1, \"29\": 1}, \"15\": {\"15\": 128, \"43\": 2, \"97\": 1}, \"86\": {\"86\": 39}, \"21\": {\"88\": 3, \"21\": 57, \"43\": 1, \"70\": 1, \"49\": 1, \"39\": 1}, \"94\": {\"94\": 100, \"39\": 2, \"70\": 1, \"30\": 1, \"96\": 1, \"88\": 1}, \"36\": {\"36\": 159, \"88\": 1, \"27\": 3, \"24\": 1}, \"118\": {\"118\": 125, \"43\": 1, \"70\": 1}, \"123\": {\"123\": 21}, \"26\": {\"26\": 167}, \"49\": {\"49\": 30, \"97\": 1, \"105\": 1}, \"1\": {\"1\": 137, \"88\": 1}, \"27\": {\"27\": 81, \"24\": 14, \"36\": 23, \"88\": 1, \"70\": 1, \"110\": 1, \"30\": 1}, \"72\": {\"72\": 38}, \"40\": {\"40\": 161, \"43\": 1}, \"90\": {\"90\": 232, \"70\": 1, \"93\": 1}, \"101\": {\"101\": 64, \"94\": 1, \"122\": 1, \"70\": 1, \"43\": 1}, \"23\": {\"23\": 42, \"60\": 1}, \"62\": {\"62\": 157, \"98\": 1, \"121\": 1}, \"85\": {\"53\": 1, \"85\": 45}, \"10\": {\"10\": 161, \"43\": 1}, \"8\": {\"8\": 170, \"125\": 1, \"88\": 1}, \"81\": {\"81\": 42, \"93\": 1}, \"103\": {\"103\": 22, \"49\": 1, \"86\": 1}, \"126\": {\"126\": 153, \"70\": 2, \"7\": 1, \"88\": 2, \"21\": 1}, \"33\": {\"33\": 196}, \"3\": {\"3\": 148, \"70\": 1}, \"122\": {\"122\": 70, \"21\": 1, \"110\": 1, \"43\": 3, \"70\": 1, \"39\": 1}, \"18\": {\"18\": 165}, \"71\": {\"71\": 83, \"60\": 1, \"114\": 1, \"110\": 1}, \"83\": {\"83\": 33, \"21\": 1}, \"5\": {\"5\": 139, \"21\": 1, \"43\": 2}, \"87\": {\"87\": 147, \"43\": 2, \"70\": 1, \"39\": 1, \"27\": 1, \"11\": 1}, \"102\": {\"102\": 158, \"98\": 1}, \"125\": {\"125\": 157, \"98\": 1, \"124\": 1, \"4\": 1}, \"70\": {\"70\": 81, \"98\": 1, \"88\": 11, \"43\": 1}, \"113\": {\"113\": 145, \"70\": 2, \"43\": 3}, \"7\": {\"7\": 142, \"88\": 1}, \"84\": {\"84\": 132, \"10\": 1, \"88\": 1, \"43\": 1}, \"44\": {\"44\": 89, \"3\": 2}, \"107\": {\"107\": 183}, \"96\": {\"96\": 26, \"91\": 1}, \"0\": {\"0\": 144, \"110\": 1}, \"39\": {\"39\": 132, \"126\": 1, \"43\": 1, \"88\": 1, \"81\": 1}, \"25\": {\"25\": 21, \"88\": 1}, \"78\": {\"21\": 4, \"78\": 16, \"70\": 3, \"27\": 1}, \"29\": {\"29\": 40, \"91\": 1, \"90\": 1}, \"61\": {\"61\": 24}, \"110\": {\"110\": 115, \"107\": 1, \"54\": 1, \"39\": 1}, \"32\": {\"32\": 41}, \"92\": {\"92\": 41, \"88\": 1}, \"95\": {\"95\": 40}, \"120\": {\"120\": 25, \"81\": 1}, \"105\": {\"105\": 155, \"7\": 1, \"88\": 1}, \"24\": {\"24\": 62, \"70\": 1}, \"11\": {\"11\": 191}, \"54\": {\"54\": 23, \"70\": 1}, \"127\": {\"127\": 160, \"113\": 1}, \"104\": {\"104\": 22}, \"22\": {\"22\": 23, \"88\": 1}, \"45\": {\"45\": 20, \"72\": 1, \"32\": 1}, \"48\": {\"48\": 22}, \"57\": {\"57\": 25, \"37\": 1}, \"98\": {\"98\": 163, \"44\": 1}, \"129\": {\"129\": 42}, \"31\": {\"31\": 24, \"68\": 1}, \"43\": {\"43\": 69, \"56\": 1}, \"51\": {\"51\": 21, \"97\": 3}, \"37\": {\"37\": 24}, \"73\": {\"73\": 50, \"64\": 1, \"97\": 1}, \"14\": {\"14\": 101, \"93\": 1, \"88\": 1}, \"114\": {\"114\": 160, \"70\": 1, \"88\": 1, \"21\": 1, \"73\": 1}, \"109\": {\"109\": 158, \"110\": 1, \"118\": 1, \"68\": 1}, \"38\": {\"38\": 22}, \"9\": {\"9\": 40}, \"2\": {\"2\": 37}, \"66\": {\"66\": 23, \"58\": 1}, \"69\": {\"21\": 3, \"69\": 102, \"88\": 1, \"7\": 1, \"54\": 1, \"70\": 1}, \"35\": {\"35\": 16, \"111\": 1}, \"68\": {\"68\": 18, \"82\": 1, \"110\": 1}, \"117\": {\"117\": 143}, \"116\": {\"116\": 37, \"98\": 1}, \"108\": {\"108\": 176, \"24\": 1, \"30\": 1, \"70\": 1}, \"97\": {\"97\": 26, \"15\": 2}, \"28\": {\"28\": 22, \"88\": 1, \"90\": 1}, \"89\": {\"89\": 39}, \"30\": {\"30\": 106, \"88\": 1, \"98\": 1}, \"46\": {\"46\": 23}, \"34\": {\"34\": 40}, \"53\": {\"53\": 24, \"83\": 1}, \"91\": {\"91\": 30, \"111\": 1, \"88\": 1, \"82\": 1}, \"74\": {\"74\": 22}, \"82\": {\"82\": 37}, \"47\": {\"47\": 16}, \"77\": {\"77\": 23, \"41\": 1}, \"128\": {\"128\": 40}, \"76\": {\"76\": 22}, \"19\": {\"19\": 39, \"46\": 1}, \"65\": {\"65\": 18}, \"6\": {\"6\": 43}, \"112\": {\"112\": 22, \"88\": 1, \"70\": 1}, \"121\": {\"121\": 38, \"88\": 1, \"90\": 1}, \"60\": {\"60\": 36, \"110\": 1}, \"50\": {\"50\": 24}, \"99\": {\"99\": 47, \"88\": 1, \"64\": 1}, \"52\": {\"88\": 1, \"52\": 22, \"21\": 1}, \"100\": {\"100\": 24}, \"80\": {\"80\": 20}, \"20\": {\"20\": 22, \"110\": 1}, \"63\": {\"63\": 21}, \"67\": {\"67\": 22}, \"115\": {\"115\": 20, \"70\": 1}, \"64\": {\"64\": 25}, \"79\": {\"79\": 19}, \"119\": {\"119\": 24}, \"59\": {\"59\": 16, \"73\": 1}, \"13\": {\"13\": 15, \"70\": 1, \"88\": 2, \"126\": 1, \"108\": 1}, \"58\": {\"58\": 23}, \"17\": {\"17\": 15, \"70\": 2, \"2\": 1, \"21\": 2, \"126\": 1}, \"56\": {\"25\": 1, \"56\": 15, \"124\": 1}, \"55\": {\"55\": 24}}, \"4\": {\"20\": {\"20\": 24}, \"117\": {\"117\": 154, \"43\": 1, \"70\": 1, \"121\": 1, \"88\": 1}, \"85\": {\"44\": 7, \"91\": 23, \"88\": 1, \"34\": 4, \"81\": 1, \"98\": 1, \"125\": 1}, \"14\": {\"14\": 141}, \"120\": {\"32\": 6, \"45\": 19, \"70\": 1}, \"106\": {\"106\": 142, \"43\": 2, \"88\": 2, \"21\": 1, \"97\": 1}, \"27\": {\"24\": 30, \"27\": 55, \"94\": 1, \"108\": 25, \"36\": 5, \"88\": 5, \"43\": 2, \"70\": 1, \"30\": 2, \"126\": 1}, \"3\": {\"3\": 128, \"114\": 32, \"21\": 2, \"71\": 1, \"88\": 5, \"91\": 1, \"43\": 1, \"122\": 1}, \"46\": {\"46\": 23, \"113\": 1, \"129\": 1}, \"30\": {\"30\": 90, \"0\": 1, \"88\": 1, \"21\": 1, \"70\": 1, \"43\": 2}, \"93\": {\"93\": 199, \"96\": 1, \"110\": 7, \"60\": 1, \"49\": 1}, \"109\": {\"109\": 136, \"39\": 7, \"88\": 1, \"11\": 2, \"43\": 2}, \"0\": {\"0\": 140, \"70\": 1, \"10\": 2, \"88\": 1, \"11\": 1, \"87\": 1, \"30\": 1, \"118\": 1, \"122\": 1}, \"101\": {\"0\": 162, \"10\": 3, \"107\": 1, \"88\": 1}, \"102\": {\"102\": 167, \"126\": 1, \"11\": 1, \"21\": 1}, \"60\": {\"60\": 37, \"23\": 1, \"110\": 2}, \"107\": {\"107\": 178, \"128\": 1, \"88\": 2}, \"11\": {\"49\": 4, \"23\": 81, \"108\": 91, \"8\": 4, \"60\": 12, \"88\": 2, \"128\": 1, \"11\": 1}, \"36\": {\"36\": 135, \"24\": 23, \"27\": 1, \"88\": 3, \"21\": 1, \"70\": 1}, \"29\": {\"72\": 32, \"128\": 1, \"65\": 4, \"98\": 2, \"77\": 1}, \"111\": {\"111\": 172, \"88\": 3, \"70\": 4}, \"127\": {\"127\": 130, \"88\": 2, \"21\": 2, \"90\": 1}, \"71\": {\"71\": 123, \"70\": 1, \"21\": 2, \"114\": 2, \"11\": 1, \"88\": 1}, \"16\": {\"118\": 144, \"21\": 1, \"88\": 4, \"18\": 10}, \"12\": {\"12\": 119, \"82\": 1, \"43\": 4, \"70\": 1, \"88\": 2, \"106\": 1}, \"28\": {\"32\": 10, \"91\": 12, \"79\": 1, \"53\": 2, \"46\": 1}, \"118\": {\"118\": 129, \"109\": 6, \"21\": 2, \"70\": 1, \"88\": 2}, \"15\": {\"15\": 149, \"94\": 1, \"36\": 3, \"97\": 6, \"30\": 1, \"88\": 3, \"54\": 1}, \"84\": {\"84\": 156, \"43\": 4, \"18\": 1, \"27\": 1, \"11\": 1, \"64\": 1, \"88\": 1, \"70\": 1, \"62\": 1, \"39\": 1}, \"125\": {\"125\": 189, \"61\": 1}, \"50\": {\"82\": 11, \"4\": 11, \"19\": 1, \"110\": 1}, \"39\": {\"39\": 124, \"70\": 1, \"88\": 1, \"126\": 1, \"98\": 1}, \"24\": {\"24\": 132, \"88\": 12, \"98\": 1, \"126\": 2, \"43\": 1, \"122\": 2, \"21\": 1}, \"51\": {\"21\": 1, \"70\": 1, \"51\": 12, \"98\": 3, \"43\": 2, \"81\": 1}, \"4\": {\"4\": 125, \"88\": 3, \"21\": 1, \"86\": 1}, \"5\": {\"114\": 88, \"53\": 18, \"1\": 56, \"5\": 1, \"43\": 1, \"70\": 2, \"108\": 1, \"88\": 3, \"126\": 1, \"128\": 1}, \"100\": {\"16\": 2, \"100\": 22, \"47\": 1}, \"110\": {\"110\": 157, \"43\": 1, \"21\": 1, \"81\": 1, \"11\": 2, \"88\": 1, \"122\": 1}, \"40\": {\"40\": 164, \"21\": 2, \"10\": 1, \"70\": 2, \"43\": 2, \"88\": 1}, \"43\": {\"43\": 134, \"87\": 5, \"11\": 4, \"122\": 2, \"10\": 2, \"21\": 1, \"88\": 2, \"98\": 1, \"70\": 2}, \"98\": {\"98\": 147, \"43\": 1, \"81\": 1, \"128\": 1, \"74\": 1, \"44\": 1}, \"124\": {\"124\": 151, \"81\": 1}, \"42\": {\"42\": 38}, \"114\": {\"114\": 159, \"70\": 1, \"88\": 1, \"73\": 1}, \"8\": {\"8\": 171, \"110\": 4, \"70\": 2, \"15\": 1, \"88\": 2, \"30\": 1, \"43\": 1, \"10\": 1, \"126\": 1}, \"70\": {\"70\": 124, \"21\": 1, \"88\": 23, \"24\": 2, \"110\": 1, \"22\": 1, \"125\": 1, \"11\": 2}, \"49\": {\"49\": 35, \"127\": 3, \"88\": 1, \"97\": 1}, \"105\": {\"105\": 117, \"88\": 3, \"70\": 2, \"40\": 3, \"21\": 1, \"43\": 1}, \"88\": {\"88\": 157, \"70\": 6, \"21\": 1, \"108\": 1, \"122\": 1, \"43\": 1}, \"122\": {\"122\": 89, \"70\": 1, \"43\": 9, \"11\": 4, \"118\": 1, \"88\": 1, \"24\": 1}, \"108\": {\"88\": 92, \"11\": 5, \"39\": 5, \"70\": 9, \"108\": 3, \"62\": 1, \"14\": 1, \"126\": 1, \"110\": 1}, \"25\": {\"25\": 24}, \"81\": {\"81\": 46, \"88\": 2}, \"62\": {\"62\": 72, \"70\": 2, \"39\": 1, \"128\": 1, \"109\": 1, \"21\": 1}, \"129\": {\"129\": 36, \"111\": 1}, \"87\": {\"87\": 150, \"43\": 11, \"10\": 1, \"122\": 4, \"70\": 1, \"113\": 1, \"11\": 1}, \"10\": {\"88\": 66, \"70\": 69, \"24\": 20}, \"83\": {\"53\": 29, \"81\": 1, \"49\": 5, \"112\": 1, \"37\": 1}, \"18\": {\"18\": 152, \"39\": 1, \"70\": 1}, \"126\": {\"39\": 20, \"126\": 136, \"88\": 2, \"93\": 1}, \"128\": {\"128\": 33}, \"6\": {\"6\": 33}, \"65\": {\"65\": 19}, \"77\": {\"128\": 4, \"6\": 8, \"98\": 6}, \"104\": {\"104\": 23}, \"33\": {\"33\": 194, \"81\": 1}, \"73\": {\"129\": 25, \"53\": 4, \"101\": 1}, \"90\": {\"90\": 222, \"98\": 2, \"32\": 1}, \"99\": {\"99\": 45, \"60\": 1, \"11\": 3, \"32\": 1, \"88\": 1}, \"26\": {\"21\": 1, \"26\": 157, \"70\": 1, \"88\": 2}, \"116\": {\"116\": 36, \"121\": 1}, \"35\": {\"61\": 16, \"93\": 1}, \"41\": {\"71\": 9, \"34\": 3, \"88\": 1, \"31\": 3, \"52\": 7, \"56\": 1}, \"63\": {\"63\": 24}, \"7\": {\"7\": 130, \"87\": 20, \"43\": 1, \"88\": 4, \"81\": 1, \"10\": 1, \"70\": 1}, \"2\": {\"2\": 37, \"117\": 1}, \"113\": {\"113\": 156, \"70\": 1, \"43\": 5}, \"1\": {\"1\": 124, \"127\": 1, \"88\": 4, \"108\": 1, \"6\": 2, \"107\": 1, \"112\": 1, \"32\": 1}, \"21\": {\"21\": 42, \"126\": 1, \"39\": 2, \"70\": 4, \"43\": 4}, \"103\": {\"98\": 1, \"124\": 14, \"54\": 1, \"58\": 1, \"128\": 6, \"68\": 1}, \"22\": {\"22\": 23}, \"67\": {\"67\": 13, \"102\": 8, \"115\": 1, \"104\": 1}, \"66\": {\"90\": 23}, \"56\": {\"56\": 17}, \"31\": {\"89\": 7, \"50\": 17}, \"94\": {\"94\": 106, \"43\": 1, \"36\": 2, \"88\": 1}, \"74\": {\"21\": 1, \"20\": 7, \"98\": 2, \"32\": 10, \"116\": 1, \"90\": 1}, \"55\": {\"55\": 22}, \"59\": {\"59\": 19}, \"115\": {\"115\": 11, \"86\": 9}, \"17\": {\"17\": 26}, \"34\": {\"34\": 38, \"81\": 1, \"106\": 1, \"56\": 1}, \"38\": {\"90\": 19, \"44\": 2}, \"82\": {\"55\": 35, \"88\": 1, \"95\": 1, \"40\": 1, \"128\": 1, \"21\": 1, \"45\": 1, \"3\": 1, \"29\": 1}, \"121\": {\"121\": 40, \"20\": 1}, \"68\": {\"68\": 20, \"128\": 2, \"19\": 1}, \"112\": {\"112\": 21, \"42\": 1, \"6\": 1, \"88\": 1}, \"19\": {\"19\": 35, \"32\": 1, \"113\": 1}, \"91\": {\"91\": 32}, \"72\": {\"34\": 6, \"31\": 25, \"127\": 1, \"113\": 2, \"92\": 1, \"60\": 2, \"12\": 1, \"99\": 1, \"91\": 1}, \"119\": {\"64\": 11, \"116\": 2, \"19\": 1, \"129\": 5, \"42\": 1, \"93\": 1, \"121\": 1}, \"69\": {\"69\": 156, \"62\": 2, \"88\": 2, \"43\": 1, \"126\": 1, \"122\": 1, \"70\": 1}, \"80\": {\"80\": 18, \"54\": 1, \"90\": 1}, \"75\": {\"75\": 20}, \"95\": {\"127\": 22, \"105\": 11, \"88\": 1, \"71\": 7, \"56\": 2}, \"78\": {\"21\": 15, \"88\": 15, \"43\": 1, \"70\": 7, \"78\": 7, \"126\": 1, \"122\": 1, \"39\": 1}, \"44\": {\"44\": 81, \"92\": 1, \"98\": 1, \"33\": 1}, \"23\": {\"23\": 10, \"126\": 2, \"70\": 2, \"43\": 1, \"33\": 1, \"108\": 1, \"94\": 1, \"61\": 1, \"88\": 1}, \"92\": {\"89\": 36}, \"58\": {\"58\": 22, \"29\": 1}, \"97\": {\"24\": 23, \"70\": 1, \"88\": 1, \"112\": 1, \"81\": 1, \"108\": 1}, \"37\": {\"41\": 14, \"91\": 8, \"88\": 1, \"94\": 1}, \"9\": {\"83\": 23, \"53\": 1, \"112\": 3, \"49\": 2, \"42\": 4, \"54\": 3}, \"32\": {\"32\": 34, \"98\": 1, \"95\": 1}, \"48\": {\"48\": 22, \"88\": 1}, \"54\": {\"54\": 23}, \"79\": {\"79\": 22}, \"86\": {\"86\": 35, \"88\": 1}, \"45\": {\"45\": 22}, \"96\": {\"93\": 10, \"110\": 8, \"60\": 4, \"91\": 1, \"106\": 1, \"118\": 1, \"11\": 1, \"16\": 2, \"113\": 1}, \"89\": {\"95\": 18, \"89\": 18, \"99\": 1, \"22\": 4}, \"64\": {\"38\": 17, \"91\": 1, \"32\": 1, \"128\": 2, \"45\": 1, \"126\": 1}, \"13\": {\"13\": 22}, \"57\": {\"32\": 22, \"92\": 1}, \"76\": {\"76\": 22}, \"61\": {\"61\": 22, \"88\": 1}, \"47\": {\"56\": 13, \"72\": 3, \"52\": 3}, \"123\": {\"123\": 22}, \"53\": {\"72\": 18, \"114\": 1, \"49\": 1, \"25\": 2, \"31\": 1, \"128\": 1}, \"52\": {\"1\": 1, \"52\": 24, \"81\": 1}}}, \"per_domain_accuracy\": {\"2\": {\"accuracy\": 0.774837053130555, \"source?\": false}, \"1\": {\"accuracy\": 0.6254818622121182, \"source?\": false}, \"3\": {\"accuracy\": 0.9742331288343559, \"source?\": true}, \"4\": {\"accuracy\": 0.7640569050614536, \"source?\": false}}}, \"history\": {\"epoch_indices\": [1, 2, 3, 4, 5, 6, 7, 8, 9, 10, 11], \"train_label_loss\": [2.6556979142191683, 0.8149443377525362, 0.3781209018984213, 0.24709093761643328, 0.181738376804215, 0.14669775891229303, 0.12740139626900465, 0.10667941301106411, 0.09512033449449579, 0.0862268656621944, 0.07457077461826643], \"source_val_label_loss\": [1.2904648842749658, 0.5152316821085943, 0.30932529580283474, 0.23765454421956816, 0.19140869388719658, 0.18627485110388173, 0.1493469418159553, 0.17166801822649969, 0.20000475262860198, 0.1828614469472464, 0.20441118710033304], \"target_val_label_loss\": [2.105265088659949, 1.610598305279241, 1.5093561131585094, 1.479302236724598, 1.4265523949427585, 1.447402236351907, 1.4285564881488368, 1.5625198316374582, 1.5355043229198855, 1.6060706591506384, 1.6131690787969772], \"source_val_acc_label\": [0.8534764826175869, 0.9339468302658487, 0.9571574642126789, 0.9549079754601227, 0.9669734151329243, 0.9632924335378323, 0.9742331288343559, 0.9661554192229039, 0.9546012269938651, 0.9638036809815951, 0.9568507157464212], \"target_val_acc_label\": [0.6052459445316588, 0.6731423338566196, 0.6967883307169022, 0.6917844060701204, 0.7038199895342753, 0.7053571428571429, 0.7217752485609629, 0.6971153846153846, 0.6830193615907901, 0.6903453689167975, 0.6826268969126112]}, \"dataset_metrics\": {\"source\": {\"train\": {\"n_unique_x\": 45862, \"n_unique_y\": 130, \"n_batch/episode\": 359}, \"val\": {\"n_unique_x\": 9780, \"n_unique_y\": 130, \"n_batch/episode\": 77}, \"test\": {\"n_unique_x\": 9967, \"n_unique_y\": 130, \"n_batch/episode\": 78}}, \"target\": {\"train\": {\"n_unique_x\": 143327, \"n_unique_y\": 130, \"n_batch/episode\": 1120}, \"val\": {\"n_unique_x\": 30576, \"n_unique_y\": 130, \"n_batch/episode\": 239}, \"test\": {\"n_unique_x\": 31104, \"n_unique_y\": 130, \"n_batch/episode\": 243}}}}'"
      ]
     },
     "execution_count": 20,
     "metadata": {},
     "output_type": "execute_result"
    }
   ],
   "source": [
    "json.dumps(experiment)"
   ]
  }
 ],
 "metadata": {
  "celltoolbar": "Tags",
  "kernelspec": {
   "display_name": "Python 3 (ipykernel)",
   "language": "python",
   "name": "python3"
  },
  "language_info": {
   "codemirror_mode": {
    "name": "ipython",
    "version": 3
   },
   "file_extension": ".py",
   "mimetype": "text/x-python",
   "name": "python",
   "nbconvert_exporter": "python",
   "pygments_lexer": "ipython3",
   "version": "3.8.12"
  },
  "papermill": {
   "default_parameters": {},
   "duration": 86.622044,
   "end_time": "2022-03-26T02:10:53.513915",
   "environment_variables": {},
   "exception": null,
   "input_path": "/root/csc500-main/csc500-notebooks/templates/cnn_template.ipynb",
   "output_path": "trial.ipynb",
   "parameters": {
    "parameters": {
     "BEST_MODEL_PATH": "./best_model.pth",
     "NUM_LOGS_PER_EPOCH": 10,
     "batch_size": 128,
     "criteria_for_best": "target_accuracy",
     "dataset_seed": 420,
     "device": "cuda",
     "domains_source": [
      3
     ],
     "domains_target": [
      1,
      2,
      4
     ],
     "experiment_name": "cnn_1:wisig",
     "labels": [
      "1-10",
      "1-12",
      "1-14",
      "1-16",
      "1-18",
      "1-19",
      "1-8",
      "10-11",
      "10-17",
      "10-4",
      "10-7",
      "11-1",
      "11-10",
      "11-19",
      "11-20",
      "11-4",
      "11-7",
      "12-19",
      "12-20",
      "12-7",
      "13-14",
      "13-18",
      "13-19",
      "13-20",
      "13-3",
      "13-7",
      "14-10",
      "14-11",
      "14-12",
      "14-13",
      "14-14",
      "14-19",
      "14-20",
      "14-7",
      "14-8",
      "14-9",
      "15-1",
      "15-19",
      "15-6",
      "16-1",
      "16-16",
      "16-19",
      "16-20",
      "17-10",
      "17-11",
      "18-1",
      "18-10",
      "18-11",
      "18-12",
      "18-13",
      "18-14",
      "18-15",
      "18-16",
      "18-17",
      "18-19",
      "18-2",
      "18-20",
      "18-4",
      "18-5",
      "18-7",
      "18-8",
      "18-9",
      "19-1",
      "19-10",
      "19-11",
      "19-12",
      "19-13",
      "19-14",
      "19-15",
      "19-19",
      "19-2",
      "19-20",
      "19-3",
      "19-4",
      "19-6",
      "19-7",
      "19-8",
      "19-9",
      "2-1",
      "2-13",
      "2-15",
      "2-3",
      "2-4",
      "2-5",
      "2-6",
      "2-7",
      "2-8",
      "20-1",
      "20-12",
      "20-14",
      "20-15",
      "20-16",
      "20-18",
      "20-19",
      "20-20",
      "20-3",
      "20-4",
      "20-5",
      "20-7",
      "20-8",
      "3-1",
      "3-13",
      "3-18",
      "3-2",
      "3-8",
      "4-1",
      "4-10",
      "4-11",
      "5-1",
      "5-5",
      "6-1",
      "6-15",
      "6-6",
      "7-10",
      "7-11",
      "7-12",
      "7-13",
      "7-14",
      "7-7",
      "7-8",
      "7-9",
      "8-1",
      "8-13",
      "8-14",
      "8-18",
      "8-20",
      "8-3",
      "8-8",
      "9-1",
      "9-7"
     ],
     "lr": 0.0001,
     "n_epoch": 50,
     "normalize_source": false,
     "normalize_target": false,
     "num_examples_per_domain_per_label_source": -1,
     "num_examples_per_domain_per_label_target": -1,
     "patience": 3,
     "pickle_name_source": "wisig.node3-19.stratified_ds.2022A.pkl",
     "pickle_name_target": "wisig.node3-19.stratified_ds.2022A.pkl",
     "seed": 420,
     "torch_default_dtype": "torch.float32",
     "x_net": [
      {
       "class": "nnReshape",
       "kargs": {
        "shape": [
         -1,
         1,
         2,
         256
        ]
       }
      },
      {
       "class": "Conv2d",
       "kargs": {
        "bias": false,
        "in_channels": 1,
        "kernel_size": [
         1,
         7
        ],
        "out_channels": 256,
        "padding": [
         0,
         3
        ]
       }
      },
      {
       "class": "ReLU",
       "kargs": {
        "inplace": true
       }
      },
      {
       "class": "BatchNorm2d",
       "kargs": {
        "num_features": 256
       }
      },
      {
       "class": "Conv2d",
       "kargs": {
        "bias": true,
        "in_channels": 256,
        "kernel_size": [
         2,
         7
        ],
        "out_channels": 80,
        "padding": [
         0,
         3
        ]
       }
      },
      {
       "class": "ReLU",
       "kargs": {
        "inplace": true
       }
      },
      {
       "class": "BatchNorm2d",
       "kargs": {
        "num_features": 80
       }
      },
      {
       "class": "Flatten",
       "kargs": {}
      },
      {
       "class": "Linear",
       "kargs": {
        "in_features": 20480,
        "out_features": 256
       }
      },
      {
       "class": "ReLU",
       "kargs": {
        "inplace": true
       }
      },
      {
       "class": "BatchNorm1d",
       "kargs": {
        "num_features": 256
       }
      },
      {
       "class": "Linear",
       "kargs": {
        "in_features": 256,
        "out_features": 130
       }
      }
     ]
    }
   },
   "start_time": "2022-03-26T02:09:26.891871",
   "version": "2.3.4"
  }
 },
 "nbformat": 4,
 "nbformat_minor": 5
}