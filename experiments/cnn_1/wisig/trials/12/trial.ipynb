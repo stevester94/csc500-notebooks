{
 "cells": [
  {
   "cell_type": "code",
   "execution_count": 1,
   "id": "2324682e",
   "metadata": {
    "execution": {
     "iopub.execute_input": "2022-03-26T02:21:54.077612Z",
     "iopub.status.busy": "2022-03-26T02:21:54.076766Z",
     "iopub.status.idle": "2022-03-26T02:21:55.382467Z",
     "shell.execute_reply": "2022-03-26T02:21:55.381594Z"
    },
    "papermill": {
     "duration": 1.341049,
     "end_time": "2022-03-26T02:21:55.382659",
     "exception": false,
     "start_time": "2022-03-26T02:21:54.041610",
     "status": "completed"
    },
    "tags": []
   },
   "outputs": [],
   "source": [
    "import os, json, sys, time, random\n",
    "import numpy as np\n",
    "import torch\n",
    "from  easydict import EasyDict\n",
    "from math import floor\n",
    "from easydict import EasyDict\n",
    "\n",
    "from steves_utils.vanilla_train_eval_test_jig import  Vanilla_Train_Eval_Test_Jig\n",
    "\n",
    "from steves_utils.torch_utils import get_dataset_metrics, independent_accuracy_assesment\n",
    "from steves_models.configurable_vanilla import Configurable_Vanilla\n",
    "from steves_utils.torch_sequential_builder import build_sequential\n",
    "from steves_utils.lazy_map import Lazy_Map\n",
    "from steves_utils.sequence_aggregator import Sequence_Aggregator\n",
    "\n",
    "from steves_utils.stratified_dataset.traditional_accessor import Traditional_Accessor_Factory\n",
    "\n",
    "from steves_utils.cnn_do_report import (\n",
    "    get_loss_curve,\n",
    "    get_results_table,\n",
    "    get_parameters_table,\n",
    "    get_domain_accuracies,\n",
    ")\n",
    "\n",
    "from steves_utils.torch_utils import (\n",
    "    confusion_by_domain_over_dataloader,\n",
    "    independent_accuracy_assesment\n",
    ")\n",
    "\n",
    "from steves_utils.utils_v2 import (\n",
    "    per_domain_accuracy_from_confusion,\n",
    "    get_datasets_base_path\n",
    ")\n",
    "\n",
    "# from steves_utils.ptn_do_report import TBD"
   ]
  },
  {
   "cell_type": "code",
   "execution_count": 2,
   "id": "1b29e3fe",
   "metadata": {
    "execution": {
     "iopub.execute_input": "2022-03-26T02:21:55.420993Z",
     "iopub.status.busy": "2022-03-26T02:21:55.420420Z",
     "iopub.status.idle": "2022-03-26T02:21:55.422563Z",
     "shell.execute_reply": "2022-03-26T02:21:55.423021Z"
    },
    "papermill": {
     "duration": 0.02139,
     "end_time": "2022-03-26T02:21:55.423143",
     "exception": false,
     "start_time": "2022-03-26T02:21:55.401753",
     "status": "completed"
    },
    "tags": []
   },
   "outputs": [],
   "source": [
    "required_parameters = {\n",
    "    \"experiment_name\",\n",
    "    \"lr\",\n",
    "    \"device\",\n",
    "    \"dataset_seed\",\n",
    "    \"seed\",\n",
    "    \"labels\",\n",
    "    \"domains_target\",\n",
    "    \"domains_source\",\n",
    "    \"num_examples_per_domain_per_label_source\",\n",
    "    \"num_examples_per_domain_per_label_target\",\n",
    "    \"batch_size\",\n",
    "    \"n_epoch\",\n",
    "    \"patience\",\n",
    "    \"criteria_for_best\",\n",
    "    \"normalize_source\",\n",
    "    \"normalize_target\",\n",
    "    \"x_net\",\n",
    "    \"NUM_LOGS_PER_EPOCH\",\n",
    "    \"BEST_MODEL_PATH\",\n",
    "    \"pickle_name_source\",\n",
    "    \"pickle_name_target\",\n",
    "    \"torch_default_dtype\",\n",
    "}"
   ]
  },
  {
   "cell_type": "code",
   "execution_count": 3,
   "id": "670b5fb8",
   "metadata": {
    "execution": {
     "iopub.execute_input": "2022-03-26T02:21:55.469165Z",
     "iopub.status.busy": "2022-03-26T02:21:55.468280Z",
     "iopub.status.idle": "2022-03-26T02:21:55.474951Z",
     "shell.execute_reply": "2022-03-26T02:21:55.474249Z"
    },
    "papermill": {
     "duration": 0.035857,
     "end_time": "2022-03-26T02:21:55.475104",
     "exception": false,
     "start_time": "2022-03-26T02:21:55.439247",
     "status": "completed"
    },
    "tags": [
     "parameters"
    ]
   },
   "outputs": [],
   "source": [
    "from steves_utils.ORACLE.utils_v2 import (\n",
    "    ALL_SERIAL_NUMBERS,\n",
    "    ALL_DISTANCES_FEET_NARROWED,\n",
    ")\n",
    "\n",
    "standalone_parameters = {}\n",
    "standalone_parameters[\"experiment_name\"] = \"MANUAL CORES CNN\"\n",
    "standalone_parameters[\"lr\"] = 0.0001\n",
    "standalone_parameters[\"device\"] = \"cuda\"\n",
    "\n",
    "standalone_parameters[\"dataset_seed\"] = 1337\n",
    "standalone_parameters[\"seed\"] = 1337\n",
    "standalone_parameters[\"labels\"] = ALL_SERIAL_NUMBERS\n",
    "\n",
    "standalone_parameters[\"domains_source\"] = [8,32,50]\n",
    "standalone_parameters[\"domains_target\"] = [14,20,26,38,44,]\n",
    "\n",
    "standalone_parameters[\"num_examples_per_domain_per_label_source\"]=-1\n",
    "standalone_parameters[\"num_examples_per_domain_per_label_target\"]=-1\n",
    "\n",
    "standalone_parameters[\"pickle_name_source\"] = \"oracle.Run1_framed_2000Examples_stratified_ds.2022A.pkl\"\n",
    "standalone_parameters[\"pickle_name_target\"] = \"oracle.Run2_framed_2000Examples_stratified_ds.2022A.pkl\"\n",
    "\n",
    "standalone_parameters[\"torch_default_dtype\"] = \"torch.float32\" \n",
    "\n",
    "standalone_parameters[\"batch_size\"]=128\n",
    "\n",
    "standalone_parameters[\"n_epoch\"] = 3\n",
    "\n",
    "standalone_parameters[\"patience\"] = 10\n",
    "\n",
    "standalone_parameters[\"criteria_for_best\"] = \"target_accuracy\"\n",
    "standalone_parameters[\"normalize_source\"] = False\n",
    "standalone_parameters[\"normalize_target\"] = False\n",
    "\n",
    "standalone_parameters[\"x_net\"] =     [\n",
    "    {\"class\": \"nnReshape\", \"kargs\": {\"shape\":[-1, 1, 2, 256]}},\n",
    "    {\"class\": \"Conv2d\", \"kargs\": { \"in_channels\":1, \"out_channels\":256, \"kernel_size\":(1,7), \"bias\":False, \"padding\":(0,3), },},\n",
    "    {\"class\": \"ReLU\", \"kargs\": {\"inplace\": True}},\n",
    "    {\"class\": \"BatchNorm2d\", \"kargs\": {\"num_features\":256}},\n",
    "\n",
    "    {\"class\": \"Conv2d\", \"kargs\": { \"in_channels\":256, \"out_channels\":80, \"kernel_size\":(2,7), \"bias\":True, \"padding\":(0,3), },},\n",
    "    {\"class\": \"ReLU\", \"kargs\": {\"inplace\": True}},\n",
    "    {\"class\": \"BatchNorm2d\", \"kargs\": {\"num_features\":80}},\n",
    "    {\"class\": \"Flatten\", \"kargs\": {}},\n",
    "\n",
    "    {\"class\": \"Linear\", \"kargs\": {\"in_features\": 80*256, \"out_features\": 256}}, # 80 units per IQ pair\n",
    "    {\"class\": \"ReLU\", \"kargs\": {\"inplace\": True}},\n",
    "    {\"class\": \"BatchNorm1d\", \"kargs\": {\"num_features\":256}},\n",
    "\n",
    "    {\"class\": \"Linear\", \"kargs\": {\"in_features\": 256, \"out_features\": len(standalone_parameters[\"labels\"])}},\n",
    "]\n",
    "\n",
    "standalone_parameters[\"NUM_LOGS_PER_EPOCH\"] = 10\n",
    "standalone_parameters[\"BEST_MODEL_PATH\"] = \"./best_model.pth\""
   ]
  },
  {
   "cell_type": "code",
   "execution_count": 4,
   "id": "15501375",
   "metadata": {
    "execution": {
     "iopub.execute_input": "2022-03-26T02:21:55.528054Z",
     "iopub.status.busy": "2022-03-26T02:21:55.527075Z",
     "iopub.status.idle": "2022-03-26T02:21:55.529655Z",
     "shell.execute_reply": "2022-03-26T02:21:55.528956Z"
    },
    "papermill": {
     "duration": 0.032518,
     "end_time": "2022-03-26T02:21:55.529809",
     "exception": false,
     "start_time": "2022-03-26T02:21:55.497291",
     "status": "completed"
    },
    "tags": [
     "injected-parameters"
    ]
   },
   "outputs": [],
   "source": [
    "# Parameters\n",
    "parameters = {\n",
    "    \"experiment_name\": \"cnn_1:wisig\",\n",
    "    \"labels\": [\n",
    "        \"1-10\",\n",
    "        \"1-12\",\n",
    "        \"1-14\",\n",
    "        \"1-16\",\n",
    "        \"1-18\",\n",
    "        \"1-19\",\n",
    "        \"1-8\",\n",
    "        \"10-11\",\n",
    "        \"10-17\",\n",
    "        \"10-4\",\n",
    "        \"10-7\",\n",
    "        \"11-1\",\n",
    "        \"11-10\",\n",
    "        \"11-19\",\n",
    "        \"11-20\",\n",
    "        \"11-4\",\n",
    "        \"11-7\",\n",
    "        \"12-19\",\n",
    "        \"12-20\",\n",
    "        \"12-7\",\n",
    "        \"13-14\",\n",
    "        \"13-18\",\n",
    "        \"13-19\",\n",
    "        \"13-20\",\n",
    "        \"13-3\",\n",
    "        \"13-7\",\n",
    "        \"14-10\",\n",
    "        \"14-11\",\n",
    "        \"14-12\",\n",
    "        \"14-13\",\n",
    "        \"14-14\",\n",
    "        \"14-19\",\n",
    "        \"14-20\",\n",
    "        \"14-7\",\n",
    "        \"14-8\",\n",
    "        \"14-9\",\n",
    "        \"15-1\",\n",
    "        \"15-19\",\n",
    "        \"15-6\",\n",
    "        \"16-1\",\n",
    "        \"16-16\",\n",
    "        \"16-19\",\n",
    "        \"16-20\",\n",
    "        \"17-10\",\n",
    "        \"17-11\",\n",
    "        \"18-1\",\n",
    "        \"18-10\",\n",
    "        \"18-11\",\n",
    "        \"18-12\",\n",
    "        \"18-13\",\n",
    "        \"18-14\",\n",
    "        \"18-15\",\n",
    "        \"18-16\",\n",
    "        \"18-17\",\n",
    "        \"18-19\",\n",
    "        \"18-2\",\n",
    "        \"18-20\",\n",
    "        \"18-4\",\n",
    "        \"18-5\",\n",
    "        \"18-7\",\n",
    "        \"18-8\",\n",
    "        \"18-9\",\n",
    "        \"19-1\",\n",
    "        \"19-10\",\n",
    "        \"19-11\",\n",
    "        \"19-12\",\n",
    "        \"19-13\",\n",
    "        \"19-14\",\n",
    "        \"19-15\",\n",
    "        \"19-19\",\n",
    "        \"19-2\",\n",
    "        \"19-20\",\n",
    "        \"19-3\",\n",
    "        \"19-4\",\n",
    "        \"19-6\",\n",
    "        \"19-7\",\n",
    "        \"19-8\",\n",
    "        \"19-9\",\n",
    "        \"2-1\",\n",
    "        \"2-13\",\n",
    "        \"2-15\",\n",
    "        \"2-3\",\n",
    "        \"2-4\",\n",
    "        \"2-5\",\n",
    "        \"2-6\",\n",
    "        \"2-7\",\n",
    "        \"2-8\",\n",
    "        \"20-1\",\n",
    "        \"20-12\",\n",
    "        \"20-14\",\n",
    "        \"20-15\",\n",
    "        \"20-16\",\n",
    "        \"20-18\",\n",
    "        \"20-19\",\n",
    "        \"20-20\",\n",
    "        \"20-3\",\n",
    "        \"20-4\",\n",
    "        \"20-5\",\n",
    "        \"20-7\",\n",
    "        \"20-8\",\n",
    "        \"3-1\",\n",
    "        \"3-13\",\n",
    "        \"3-18\",\n",
    "        \"3-2\",\n",
    "        \"3-8\",\n",
    "        \"4-1\",\n",
    "        \"4-10\",\n",
    "        \"4-11\",\n",
    "        \"5-1\",\n",
    "        \"5-5\",\n",
    "        \"6-1\",\n",
    "        \"6-15\",\n",
    "        \"6-6\",\n",
    "        \"7-10\",\n",
    "        \"7-11\",\n",
    "        \"7-12\",\n",
    "        \"7-13\",\n",
    "        \"7-14\",\n",
    "        \"7-7\",\n",
    "        \"7-8\",\n",
    "        \"7-9\",\n",
    "        \"8-1\",\n",
    "        \"8-13\",\n",
    "        \"8-14\",\n",
    "        \"8-18\",\n",
    "        \"8-20\",\n",
    "        \"8-3\",\n",
    "        \"8-8\",\n",
    "        \"9-1\",\n",
    "        \"9-7\",\n",
    "    ],\n",
    "    \"domains_source\": [3],\n",
    "    \"domains_target\": [1, 2, 4],\n",
    "    \"pickle_name_target\": \"wisig.node3-19.stratified_ds.2022A.pkl\",\n",
    "    \"pickle_name_source\": \"wisig.node3-19.stratified_ds.2022A.pkl\",\n",
    "    \"device\": \"cuda\",\n",
    "    \"lr\": 0.0001,\n",
    "    \"batch_size\": 128,\n",
    "    \"normalize_source\": False,\n",
    "    \"normalize_target\": False,\n",
    "    \"num_examples_per_domain_per_label_source\": -1,\n",
    "    \"num_examples_per_domain_per_label_target\": -1,\n",
    "    \"torch_default_dtype\": \"torch.float32\",\n",
    "    \"n_epoch\": 50,\n",
    "    \"patience\": 3,\n",
    "    \"criteria_for_best\": \"target_accuracy\",\n",
    "    \"x_net\": [\n",
    "        {\"class\": \"nnReshape\", \"kargs\": {\"shape\": [-1, 1, 2, 256]}},\n",
    "        {\n",
    "            \"class\": \"Conv2d\",\n",
    "            \"kargs\": {\n",
    "                \"in_channels\": 1,\n",
    "                \"out_channels\": 256,\n",
    "                \"kernel_size\": [1, 7],\n",
    "                \"bias\": False,\n",
    "                \"padding\": [0, 3],\n",
    "            },\n",
    "        },\n",
    "        {\"class\": \"ReLU\", \"kargs\": {\"inplace\": True}},\n",
    "        {\"class\": \"BatchNorm2d\", \"kargs\": {\"num_features\": 256}},\n",
    "        {\n",
    "            \"class\": \"Conv2d\",\n",
    "            \"kargs\": {\n",
    "                \"in_channels\": 256,\n",
    "                \"out_channels\": 80,\n",
    "                \"kernel_size\": [2, 7],\n",
    "                \"bias\": True,\n",
    "                \"padding\": [0, 3],\n",
    "            },\n",
    "        },\n",
    "        {\"class\": \"ReLU\", \"kargs\": {\"inplace\": True}},\n",
    "        {\"class\": \"BatchNorm2d\", \"kargs\": {\"num_features\": 80}},\n",
    "        {\"class\": \"Flatten\", \"kargs\": {}},\n",
    "        {\"class\": \"Linear\", \"kargs\": {\"in_features\": 20480, \"out_features\": 256}},\n",
    "        {\"class\": \"ReLU\", \"kargs\": {\"inplace\": True}},\n",
    "        {\"class\": \"BatchNorm1d\", \"kargs\": {\"num_features\": 256}},\n",
    "        {\"class\": \"Linear\", \"kargs\": {\"in_features\": 256, \"out_features\": 130}},\n",
    "    ],\n",
    "    \"NUM_LOGS_PER_EPOCH\": 10,\n",
    "    \"BEST_MODEL_PATH\": \"./best_model.pth\",\n",
    "    \"dataset_seed\": 7,\n",
    "    \"seed\": 7,\n",
    "}\n"
   ]
  },
  {
   "cell_type": "code",
   "execution_count": 5,
   "id": "759b56ec",
   "metadata": {
    "execution": {
     "iopub.execute_input": "2022-03-26T02:21:55.568717Z",
     "iopub.status.busy": "2022-03-26T02:21:55.568125Z",
     "iopub.status.idle": "2022-03-26T02:21:55.570491Z",
     "shell.execute_reply": "2022-03-26T02:21:55.570012Z"
    },
    "papermill": {
     "duration": 0.019804,
     "end_time": "2022-03-26T02:21:55.570596",
     "exception": false,
     "start_time": "2022-03-26T02:21:55.550792",
     "status": "completed"
    },
    "tags": []
   },
   "outputs": [],
   "source": [
    "# Set this to True if you want to run this template directly\n",
    "STANDALONE = False\n",
    "if STANDALONE:\n",
    "    print(\"parameters not injected, running with standalone_parameters\")\n",
    "    parameters = standalone_parameters\n",
    "\n",
    "if not 'parameters' in locals() and not 'parameters' in globals():\n",
    "    raise Exception(\"Parameter injection failed\")\n",
    "\n",
    "#Use an easy dict for all the parameters\n",
    "p = EasyDict(parameters)\n",
    "\n",
    "supplied_keys = set(p.keys())\n",
    "\n",
    "if  supplied_keys != required_parameters:\n",
    "    print(\"Parameters are incorrect\")\n",
    "    if len(supplied_keys - required_parameters)>0: print(\"Shouldn't have:\", str(supplied_keys - required_parameters))\n",
    "    if len(required_parameters - supplied_keys)>0: print(\"Need to have:\", str(required_parameters - supplied_keys))\n",
    "    raise RuntimeError(\"Parameters are incorrect\")\n",
    "\n"
   ]
  },
  {
   "cell_type": "code",
   "execution_count": 6,
   "id": "d5c66a71",
   "metadata": {
    "execution": {
     "iopub.execute_input": "2022-03-26T02:21:55.605245Z",
     "iopub.status.busy": "2022-03-26T02:21:55.604878Z",
     "iopub.status.idle": "2022-03-26T02:21:55.608158Z",
     "shell.execute_reply": "2022-03-26T02:21:55.608844Z"
    },
    "papermill": {
     "duration": 0.0219,
     "end_time": "2022-03-26T02:21:55.609020",
     "exception": false,
     "start_time": "2022-03-26T02:21:55.587120",
     "status": "completed"
    },
    "tags": []
   },
   "outputs": [],
   "source": [
    "###################################\n",
    "# Set the RNGs and make it all deterministic\n",
    "###################################\n",
    "np.random.seed(p.seed)\n",
    "random.seed(p.seed)\n",
    "torch.manual_seed(p.seed)\n",
    "\n",
    "torch.use_deterministic_algorithms(True) "
   ]
  },
  {
   "cell_type": "code",
   "execution_count": 7,
   "id": "92a65876",
   "metadata": {
    "execution": {
     "iopub.execute_input": "2022-03-26T02:21:55.646161Z",
     "iopub.status.busy": "2022-03-26T02:21:55.645799Z",
     "iopub.status.idle": "2022-03-26T02:21:55.647863Z",
     "shell.execute_reply": "2022-03-26T02:21:55.648164Z"
    },
    "papermill": {
     "duration": 0.019698,
     "end_time": "2022-03-26T02:21:55.648243",
     "exception": false,
     "start_time": "2022-03-26T02:21:55.628545",
     "status": "completed"
    },
    "tags": []
   },
   "outputs": [],
   "source": [
    "torch.set_default_dtype(eval(p.torch_default_dtype))"
   ]
  },
  {
   "cell_type": "code",
   "execution_count": 8,
   "id": "f1a32f01",
   "metadata": {
    "execution": {
     "iopub.execute_input": "2022-03-26T02:21:55.681733Z",
     "iopub.status.busy": "2022-03-26T02:21:55.681322Z",
     "iopub.status.idle": "2022-03-26T02:21:55.719378Z",
     "shell.execute_reply": "2022-03-26T02:21:55.718675Z"
    },
    "papermill": {
     "duration": 0.054837,
     "end_time": "2022-03-26T02:21:55.719550",
     "exception": false,
     "start_time": "2022-03-26T02:21:55.664713",
     "status": "completed"
    },
    "tags": []
   },
   "outputs": [],
   "source": [
    "###################################\n",
    "# Build the network(s)\n",
    "# Note: It's critical to do this AFTER setting the RNG\n",
    "###################################\n",
    "x_net = build_sequential(p.x_net)"
   ]
  },
  {
   "cell_type": "code",
   "execution_count": 9,
   "id": "a276cd83",
   "metadata": {
    "execution": {
     "iopub.execute_input": "2022-03-26T02:21:55.755519Z",
     "iopub.status.busy": "2022-03-26T02:21:55.755161Z",
     "iopub.status.idle": "2022-03-26T02:21:55.757286Z",
     "shell.execute_reply": "2022-03-26T02:21:55.757585Z"
    },
    "papermill": {
     "duration": 0.019849,
     "end_time": "2022-03-26T02:21:55.757663",
     "exception": false,
     "start_time": "2022-03-26T02:21:55.737814",
     "status": "completed"
    },
    "tags": []
   },
   "outputs": [],
   "source": [
    "start_time_secs = time.time()"
   ]
  },
  {
   "cell_type": "code",
   "execution_count": 10,
   "id": "de702e48",
   "metadata": {
    "execution": {
     "iopub.execute_input": "2022-03-26T02:21:55.803699Z",
     "iopub.status.busy": "2022-03-26T02:21:55.802934Z",
     "iopub.status.idle": "2022-03-26T02:21:59.843250Z",
     "shell.execute_reply": "2022-03-26T02:21:59.842496Z"
    },
    "papermill": {
     "duration": 4.067754,
     "end_time": "2022-03-26T02:21:59.843421",
     "exception": false,
     "start_time": "2022-03-26T02:21:55.775667",
     "status": "completed"
    },
    "tags": []
   },
   "outputs": [],
   "source": [
    "def wrap_in_dataloader(p, ds):\n",
    "    return torch.utils.data.DataLoader(\n",
    "        ds,\n",
    "        batch_size=p.batch_size,\n",
    "        shuffle=True,\n",
    "        num_workers=1,\n",
    "        persistent_workers=True,\n",
    "        prefetch_factor=50,\n",
    "        pin_memory=True\n",
    "    )\n",
    "\n",
    "taf_source = Traditional_Accessor_Factory(\n",
    "    labels=p.labels,\n",
    "    domains=p.domains_source,\n",
    "    num_examples_per_domain_per_label=p.num_examples_per_domain_per_label_source,\n",
    "    pickle_path=os.path.join(get_datasets_base_path(), p.pickle_name_source),\n",
    "    seed=p.dataset_seed\n",
    ")\n",
    "train_original_source, val_original_source, test_original_source = \\\n",
    "    taf_source.get_train(), taf_source.get_val(), taf_source.get_test()\n",
    "\n",
    "\n",
    "taf_target = Traditional_Accessor_Factory(\n",
    "    labels=p.labels,\n",
    "    domains=p.domains_target,\n",
    "    num_examples_per_domain_per_label=p.num_examples_per_domain_per_label_source,\n",
    "    pickle_path=os.path.join(get_datasets_base_path(), p.pickle_name_target),\n",
    "    seed=p.dataset_seed\n",
    ")\n",
    "train_original_target, val_original_target, test_original_target = \\\n",
    "    taf_target.get_train(), taf_target.get_val(), taf_target.get_test()\n",
    "\n",
    "\n",
    "# For CNN We only use X and Y. And we only train on the source.\n",
    "# Properly form the data using a transform lambda and Lazy_Map. Finally wrap them in a dataloader\n",
    "\n",
    "transform_lambda = lambda ex: ex[:2] # Strip the tuple to just (x,y)\n",
    "\n",
    "\n",
    "train_processed_source = wrap_in_dataloader(\n",
    "    p,\n",
    "    Lazy_Map(train_original_source, transform_lambda)\n",
    ")\n",
    "val_processed_source = wrap_in_dataloader(\n",
    "    p,\n",
    "    Lazy_Map(val_original_source, transform_lambda)\n",
    ")\n",
    "test_processed_source = wrap_in_dataloader(\n",
    "    p,\n",
    "    Lazy_Map(test_original_source, transform_lambda)\n",
    ")\n",
    "\n",
    "train_processed_target = wrap_in_dataloader(\n",
    "    p,\n",
    "    Lazy_Map(train_original_target, transform_lambda)\n",
    ")\n",
    "val_processed_target = wrap_in_dataloader(\n",
    "    p,\n",
    "    Lazy_Map(val_original_target, transform_lambda)\n",
    ")\n",
    "test_processed_target  = wrap_in_dataloader(\n",
    "    p,\n",
    "    Lazy_Map(test_original_target, transform_lambda)\n",
    ")\n",
    "\n",
    "\n",
    "\n",
    "datasets = EasyDict({\n",
    "    \"source\": {\n",
    "        \"original\": {\"train\":train_original_source, \"val\":val_original_source, \"test\":test_original_source},\n",
    "        \"processed\": {\"train\":train_processed_source, \"val\":val_processed_source, \"test\":test_processed_source}\n",
    "    },\n",
    "    \"target\": {\n",
    "        \"original\": {\"train\":train_original_target, \"val\":val_original_target, \"test\":test_original_target},\n",
    "        \"processed\": {\"train\":train_processed_target, \"val\":val_processed_target, \"test\":test_processed_target}\n",
    "    },\n",
    "})"
   ]
  },
  {
   "cell_type": "code",
   "execution_count": 11,
   "id": "a11b26bd",
   "metadata": {
    "execution": {
     "iopub.execute_input": "2022-03-26T02:21:59.922599Z",
     "iopub.status.busy": "2022-03-26T02:21:59.921769Z",
     "iopub.status.idle": "2022-03-26T02:22:05.247104Z",
     "shell.execute_reply": "2022-03-26T02:22:05.247854Z"
    },
    "papermill": {
     "duration": 5.385295,
     "end_time": "2022-03-26T02:22:05.248094",
     "exception": false,
     "start_time": "2022-03-26T02:21:59.862799",
     "status": "completed"
    },
    "tags": []
   },
   "outputs": [
    {
     "data": {
      "text/plain": [
       "torch.float32"
      ]
     },
     "execution_count": 11,
     "metadata": {},
     "output_type": "execute_result"
    }
   ],
   "source": [
    "ep = next(iter(test_processed_target))\n",
    "ep[0].dtype"
   ]
  },
  {
   "cell_type": "code",
   "execution_count": 12,
   "id": "19425fad",
   "metadata": {
    "execution": {
     "iopub.execute_input": "2022-03-26T02:22:05.287131Z",
     "iopub.status.busy": "2022-03-26T02:22:05.286564Z",
     "iopub.status.idle": "2022-03-26T02:22:05.337852Z",
     "shell.execute_reply": "2022-03-26T02:22:05.337129Z"
    },
    "papermill": {
     "duration": 0.072237,
     "end_time": "2022-03-26T02:22:05.338011",
     "exception": false,
     "start_time": "2022-03-26T02:22:05.265774",
     "status": "completed"
    },
    "tags": []
   },
   "outputs": [],
   "source": [
    "model = Configurable_Vanilla(\n",
    "    x_net=x_net,\n",
    "    label_loss_object=torch.nn.NLLLoss(),\n",
    "    learning_rate=p.lr\n",
    ")"
   ]
  },
  {
   "cell_type": "code",
   "execution_count": 13,
   "id": "7f6d4f2c",
   "metadata": {
    "execution": {
     "iopub.execute_input": "2022-03-26T02:22:05.379032Z",
     "iopub.status.busy": "2022-03-26T02:22:05.378663Z",
     "iopub.status.idle": "2022-03-26T02:23:05.734685Z",
     "shell.execute_reply": "2022-03-26T02:23:05.735018Z"
    },
    "papermill": {
     "duration": 60.377014,
     "end_time": "2022-03-26T02:23:05.735136",
     "exception": false,
     "start_time": "2022-03-26T02:22:05.358122",
     "status": "completed"
    },
    "tags": []
   },
   "outputs": [
    {
     "name": "stdout",
     "output_type": "stream",
     "text": [
      "epoch: 1, [batch: 1 / 359], examples_per_second: 688.7473, train_label_loss: 4.8138, \n"
     ]
    },
    {
     "name": "stdout",
     "output_type": "stream",
     "text": [
      "epoch: 1, [batch: 36 / 359], examples_per_second: 11590.6704, train_label_loss: 4.1070, \n"
     ]
    },
    {
     "name": "stdout",
     "output_type": "stream",
     "text": [
      "epoch: 1, [batch: 72 / 359], examples_per_second: 11671.8962, train_label_loss: 3.6773, \n"
     ]
    },
    {
     "name": "stdout",
     "output_type": "stream",
     "text": [
      "epoch: 1, [batch: 108 / 359], examples_per_second: 11691.7933, train_label_loss: 3.1955, \n"
     ]
    },
    {
     "name": "stdout",
     "output_type": "stream",
     "text": [
      "epoch: 1, [batch: 144 / 359], examples_per_second: 11678.3282, train_label_loss: 2.7970, \n"
     ]
    },
    {
     "name": "stdout",
     "output_type": "stream",
     "text": [
      "epoch: 1, [batch: 180 / 359], examples_per_second: 11727.4068, train_label_loss: 2.5242, \n"
     ]
    },
    {
     "name": "stdout",
     "output_type": "stream",
     "text": [
      "epoch: 1, [batch: 215 / 359], examples_per_second: 11605.4746, train_label_loss: 2.1502, \n"
     ]
    },
    {
     "name": "stdout",
     "output_type": "stream",
     "text": [
      "epoch: 1, [batch: 251 / 359], examples_per_second: 11631.9403, train_label_loss: 1.9407, \n"
     ]
    },
    {
     "name": "stdout",
     "output_type": "stream",
     "text": [
      "epoch: 1, [batch: 287 / 359], examples_per_second: 11604.7648, train_label_loss: 1.8577, \n"
     ]
    },
    {
     "name": "stdout",
     "output_type": "stream",
     "text": [
      "epoch: 1, [batch: 323 / 359], examples_per_second: 11410.2961, train_label_loss: 1.4593, \n"
     ]
    },
    {
     "name": "stdout",
     "output_type": "stream",
     "text": [
      "=============================================================\n",
      "epoch: 1, source_val_acc_label: 0.8647, source_val_label_loss: 1.2925, target_val_acc_label: 0.6102, target_val_label_loss: 2.1075, \n",
      "=============================================================\n"
     ]
    },
    {
     "name": "stdout",
     "output_type": "stream",
     "text": [
      "New best\n",
      "epoch: 2, [batch: 1 / 359], examples_per_second: 116.8564, train_label_loss: 1.3196, \n"
     ]
    },
    {
     "name": "stdout",
     "output_type": "stream",
     "text": [
      "epoch: 2, [batch: 36 / 359], examples_per_second: 11235.3161, train_label_loss: 1.1203, \n"
     ]
    },
    {
     "name": "stdout",
     "output_type": "stream",
     "text": [
      "epoch: 2, [batch: 72 / 359], examples_per_second: 11563.1422, train_label_loss: 1.0473, \n"
     ]
    },
    {
     "name": "stdout",
     "output_type": "stream",
     "text": [
      "epoch: 2, [batch: 108 / 359], examples_per_second: 11588.1980, train_label_loss: 1.1506, \n"
     ]
    },
    {
     "name": "stdout",
     "output_type": "stream",
     "text": [
      "epoch: 2, [batch: 144 / 359], examples_per_second: 11467.4624, train_label_loss: 0.9151, \n"
     ]
    },
    {
     "name": "stdout",
     "output_type": "stream",
     "text": [
      "epoch: 2, [batch: 180 / 359], examples_per_second: 11641.8265, train_label_loss: 0.9187, \n"
     ]
    },
    {
     "name": "stdout",
     "output_type": "stream",
     "text": [
      "epoch: 2, [batch: 215 / 359], examples_per_second: 11749.8821, train_label_loss: 0.8289, \n"
     ]
    },
    {
     "name": "stdout",
     "output_type": "stream",
     "text": [
      "epoch: 2, [batch: 251 / 359], examples_per_second: 11476.1917, train_label_loss: 0.6319, \n"
     ]
    },
    {
     "name": "stdout",
     "output_type": "stream",
     "text": [
      "epoch: 2, [batch: 287 / 359], examples_per_second: 11569.4133, train_label_loss: 0.5966, \n"
     ]
    },
    {
     "name": "stdout",
     "output_type": "stream",
     "text": [
      "epoch: 2, [batch: 323 / 359], examples_per_second: 11560.3411, train_label_loss: 0.5343, \n"
     ]
    },
    {
     "name": "stdout",
     "output_type": "stream",
     "text": [
      "=============================================================\n",
      "epoch: 2, source_val_acc_label: 0.9311, source_val_label_loss: 0.4993, target_val_acc_label: 0.6668, target_val_label_loss: 1.6198, \n",
      "=============================================================\n"
     ]
    },
    {
     "name": "stdout",
     "output_type": "stream",
     "text": [
      "New best\n",
      "epoch: 3, [batch: 1 / 359], examples_per_second: 143.2250, train_label_loss: 0.4871, \n"
     ]
    },
    {
     "name": "stdout",
     "output_type": "stream",
     "text": [
      "epoch: 3, [batch: 36 / 359], examples_per_second: 11406.7881, train_label_loss: 0.4734, \n"
     ]
    },
    {
     "name": "stdout",
     "output_type": "stream",
     "text": [
      "epoch: 3, [batch: 72 / 359], examples_per_second: 11682.6272, train_label_loss: 0.3716, \n"
     ]
    },
    {
     "name": "stdout",
     "output_type": "stream",
     "text": [
      "epoch: 3, [batch: 108 / 359], examples_per_second: 11604.5349, train_label_loss: 0.3651, \n"
     ]
    },
    {
     "name": "stdout",
     "output_type": "stream",
     "text": [
      "epoch: 3, [batch: 144 / 359], examples_per_second: 11515.2202, train_label_loss: 0.4078, \n"
     ]
    },
    {
     "name": "stdout",
     "output_type": "stream",
     "text": [
      "epoch: 3, [batch: 180 / 359], examples_per_second: 11609.7838, train_label_loss: 0.3233, \n"
     ]
    },
    {
     "name": "stdout",
     "output_type": "stream",
     "text": [
      "epoch: 3, [batch: 215 / 359], examples_per_second: 11810.3590, train_label_loss: 0.3591, \n"
     ]
    },
    {
     "name": "stdout",
     "output_type": "stream",
     "text": [
      "epoch: 3, [batch: 251 / 359], examples_per_second: 11714.5411, train_label_loss: 0.4142, \n"
     ]
    },
    {
     "name": "stdout",
     "output_type": "stream",
     "text": [
      "epoch: 3, [batch: 287 / 359], examples_per_second: 11500.6390, train_label_loss: 0.4011, \n"
     ]
    },
    {
     "name": "stdout",
     "output_type": "stream",
     "text": [
      "epoch: 3, [batch: 323 / 359], examples_per_second: 11506.0478, train_label_loss: 0.2242, \n"
     ]
    },
    {
     "name": "stdout",
     "output_type": "stream",
     "text": [
      "=============================================================\n",
      "epoch: 3, source_val_acc_label: 0.9560, source_val_label_loss: 0.3325, target_val_acc_label: 0.6816, target_val_label_loss: 1.5675, \n",
      "=============================================================\n"
     ]
    },
    {
     "name": "stdout",
     "output_type": "stream",
     "text": [
      "New best\n",
      "epoch: 4, [batch: 1 / 359], examples_per_second: 144.7333, train_label_loss: 0.2987, \n"
     ]
    },
    {
     "name": "stdout",
     "output_type": "stream",
     "text": [
      "epoch: 4, [batch: 36 / 359], examples_per_second: 11113.8211, train_label_loss: 0.2556, \n"
     ]
    },
    {
     "name": "stdout",
     "output_type": "stream",
     "text": [
      "epoch: 4, [batch: 72 / 359], examples_per_second: 11595.0180, train_label_loss: 0.1502, \n"
     ]
    },
    {
     "name": "stdout",
     "output_type": "stream",
     "text": [
      "epoch: 4, [batch: 108 / 359], examples_per_second: 11573.9652, train_label_loss: 0.2463, \n"
     ]
    },
    {
     "name": "stdout",
     "output_type": "stream",
     "text": [
      "epoch: 4, [batch: 144 / 359], examples_per_second: 11568.9286, train_label_loss: 0.1378, \n"
     ]
    },
    {
     "name": "stdout",
     "output_type": "stream",
     "text": [
      "epoch: 4, [batch: 180 / 359], examples_per_second: 11384.0782, train_label_loss: 0.1955, \n"
     ]
    },
    {
     "name": "stdout",
     "output_type": "stream",
     "text": [
      "epoch: 4, [batch: 215 / 359], examples_per_second: 11730.5391, train_label_loss: 0.3453, \n"
     ]
    },
    {
     "name": "stdout",
     "output_type": "stream",
     "text": [
      "epoch: 4, [batch: 251 / 359], examples_per_second: 11368.9642, train_label_loss: 0.4766, \n"
     ]
    },
    {
     "name": "stdout",
     "output_type": "stream",
     "text": [
      "epoch: 4, [batch: 287 / 359], examples_per_second: 11486.6271, train_label_loss: 0.2514, \n"
     ]
    },
    {
     "name": "stdout",
     "output_type": "stream",
     "text": [
      "epoch: 4, [batch: 323 / 359], examples_per_second: 11543.0597, train_label_loss: 0.3098, \n"
     ]
    },
    {
     "name": "stdout",
     "output_type": "stream",
     "text": [
      "=============================================================\n",
      "epoch: 4, source_val_acc_label: 0.9531, source_val_label_loss: 0.2855, target_val_acc_label: 0.6749, target_val_label_loss: 1.5394, \n",
      "=============================================================\n"
     ]
    },
    {
     "name": "stdout",
     "output_type": "stream",
     "text": [
      "epoch: 5, [batch: 1 / 359], examples_per_second: 149.3436, train_label_loss: 0.1735, \n"
     ]
    },
    {
     "name": "stdout",
     "output_type": "stream",
     "text": [
      "epoch: 5, [batch: 36 / 359], examples_per_second: 11459.3508, train_label_loss: 0.2539, \n"
     ]
    },
    {
     "name": "stdout",
     "output_type": "stream",
     "text": [
      "epoch: 5, [batch: 72 / 359], examples_per_second: 11374.4841, train_label_loss: 0.2820, \n"
     ]
    },
    {
     "name": "stdout",
     "output_type": "stream",
     "text": [
      "epoch: 5, [batch: 108 / 359], examples_per_second: 11443.1152, train_label_loss: 0.1786, \n"
     ]
    },
    {
     "name": "stdout",
     "output_type": "stream",
     "text": [
      "epoch: 5, [batch: 144 / 359], examples_per_second: 11431.0952, train_label_loss: 0.1775, \n"
     ]
    },
    {
     "name": "stdout",
     "output_type": "stream",
     "text": [
      "epoch: 5, [batch: 180 / 359], examples_per_second: 11362.3006, train_label_loss: 0.1625, \n"
     ]
    },
    {
     "name": "stdout",
     "output_type": "stream",
     "text": [
      "epoch: 5, [batch: 215 / 359], examples_per_second: 11645.7393, train_label_loss: 0.1889, \n"
     ]
    },
    {
     "name": "stdout",
     "output_type": "stream",
     "text": [
      "epoch: 5, [batch: 251 / 359], examples_per_second: 11383.4479, train_label_loss: 0.0985, \n"
     ]
    },
    {
     "name": "stdout",
     "output_type": "stream",
     "text": [
      "epoch: 5, [batch: 287 / 359], examples_per_second: 11509.6519, train_label_loss: 0.1594, \n"
     ]
    },
    {
     "name": "stdout",
     "output_type": "stream",
     "text": [
      "epoch: 5, [batch: 323 / 359], examples_per_second: 11516.9356, train_label_loss: 0.3714, \n"
     ]
    },
    {
     "name": "stdout",
     "output_type": "stream",
     "text": [
      "=============================================================\n",
      "epoch: 5, source_val_acc_label: 0.9417, source_val_label_loss: 0.2612, target_val_acc_label: 0.6665, target_val_label_loss: 1.5412, \n",
      "=============================================================\n"
     ]
    },
    {
     "name": "stdout",
     "output_type": "stream",
     "text": [
      "epoch: 6, [batch: 1 / 359], examples_per_second: 146.6324, train_label_loss: 0.2293, \n"
     ]
    },
    {
     "name": "stdout",
     "output_type": "stream",
     "text": [
      "epoch: 6, [batch: 36 / 359], examples_per_second: 11224.1419, train_label_loss: 0.2152, \n"
     ]
    },
    {
     "name": "stdout",
     "output_type": "stream",
     "text": [
      "epoch: 6, [batch: 72 / 359], examples_per_second: 11260.9984, train_label_loss: 0.1237, \n"
     ]
    },
    {
     "name": "stdout",
     "output_type": "stream",
     "text": [
      "epoch: 6, [batch: 108 / 359], examples_per_second: 11554.2456, train_label_loss: 0.1734, \n"
     ]
    },
    {
     "name": "stdout",
     "output_type": "stream",
     "text": [
      "epoch: 6, [batch: 144 / 359], examples_per_second: 11563.7580, train_label_loss: 0.1091, \n"
     ]
    },
    {
     "name": "stdout",
     "output_type": "stream",
     "text": [
      "epoch: 6, [batch: 180 / 359], examples_per_second: 11605.5940, train_label_loss: 0.1205, \n"
     ]
    },
    {
     "name": "stdout",
     "output_type": "stream",
     "text": [
      "epoch: 6, [batch: 215 / 359], examples_per_second: 11546.4978, train_label_loss: 0.1077, \n"
     ]
    },
    {
     "name": "stdout",
     "output_type": "stream",
     "text": [
      "epoch: 6, [batch: 251 / 359], examples_per_second: 11527.3697, train_label_loss: 0.1567, \n"
     ]
    },
    {
     "name": "stdout",
     "output_type": "stream",
     "text": [
      "epoch: 6, [batch: 287 / 359], examples_per_second: 11670.6064, train_label_loss: 0.0578, \n"
     ]
    },
    {
     "name": "stdout",
     "output_type": "stream",
     "text": [
      "epoch: 6, [batch: 323 / 359], examples_per_second: 11551.8217, train_label_loss: 0.0953, \n"
     ]
    },
    {
     "name": "stdout",
     "output_type": "stream",
     "text": [
      "=============================================================\n",
      "epoch: 6, source_val_acc_label: 0.9547, source_val_label_loss: 0.2104, target_val_acc_label: 0.6652, target_val_label_loss: 1.6437, \n",
      "=============================================================\n"
     ]
    },
    {
     "name": "stdout",
     "output_type": "stream",
     "text": [
      "epoch: 7, [batch: 1 / 359], examples_per_second: 155.2194, train_label_loss: 0.1011, \n"
     ]
    },
    {
     "name": "stdout",
     "output_type": "stream",
     "text": [
      "epoch: 7, [batch: 36 / 359], examples_per_second: 11927.9882, train_label_loss: 0.1862, \n"
     ]
    },
    {
     "name": "stdout",
     "output_type": "stream",
     "text": [
      "epoch: 7, [batch: 72 / 359], examples_per_second: 12222.0048, train_label_loss: 0.1211, \n"
     ]
    },
    {
     "name": "stdout",
     "output_type": "stream",
     "text": [
      "epoch: 7, [batch: 108 / 359], examples_per_second: 12310.5413, train_label_loss: 0.0320, \n"
     ]
    },
    {
     "name": "stdout",
     "output_type": "stream",
     "text": [
      "epoch: 7, [batch: 144 / 359], examples_per_second: 12178.3083, train_label_loss: 0.0733, \n"
     ]
    },
    {
     "name": "stdout",
     "output_type": "stream",
     "text": [
      "epoch: 7, [batch: 180 / 359], examples_per_second: 12488.1291, train_label_loss: 0.1799, \n"
     ]
    },
    {
     "name": "stdout",
     "output_type": "stream",
     "text": [
      "epoch: 7, [batch: 215 / 359], examples_per_second: 12420.5685, train_label_loss: 0.1297, \n"
     ]
    },
    {
     "name": "stdout",
     "output_type": "stream",
     "text": [
      "epoch: 7, [batch: 251 / 359], examples_per_second: 12252.9984, train_label_loss: 0.1866, \n"
     ]
    },
    {
     "name": "stdout",
     "output_type": "stream",
     "text": [
      "epoch: 7, [batch: 287 / 359], examples_per_second: 12375.0023, train_label_loss: 0.0782, \n"
     ]
    },
    {
     "name": "stdout",
     "output_type": "stream",
     "text": [
      "epoch: 7, [batch: 323 / 359], examples_per_second: 12463.7999, train_label_loss: 0.1227, \n"
     ]
    },
    {
     "name": "stdout",
     "output_type": "stream",
     "text": [
      "=============================================================\n",
      "epoch: 7, source_val_acc_label: 0.9658, source_val_label_loss: 0.1743, target_val_acc_label: 0.7184, target_val_label_loss: 1.4678, \n",
      "=============================================================\n"
     ]
    },
    {
     "name": "stdout",
     "output_type": "stream",
     "text": [
      "New best\n",
      "epoch: 8, [batch: 1 / 359], examples_per_second: 157.5747, train_label_loss: 0.1285, \n"
     ]
    },
    {
     "name": "stdout",
     "output_type": "stream",
     "text": [
      "epoch: 8, [batch: 36 / 359], examples_per_second: 11977.7521, train_label_loss: 0.0610, \n"
     ]
    },
    {
     "name": "stdout",
     "output_type": "stream",
     "text": [
      "epoch: 8, [batch: 72 / 359], examples_per_second: 12148.3247, train_label_loss: 0.1316, \n"
     ]
    },
    {
     "name": "stdout",
     "output_type": "stream",
     "text": [
      "epoch: 8, [batch: 108 / 359], examples_per_second: 12301.3583, train_label_loss: 0.0444, \n"
     ]
    },
    {
     "name": "stdout",
     "output_type": "stream",
     "text": [
      "epoch: 8, [batch: 144 / 359], examples_per_second: 12017.9285, train_label_loss: 0.0772, \n"
     ]
    },
    {
     "name": "stdout",
     "output_type": "stream",
     "text": [
      "epoch: 8, [batch: 180 / 359], examples_per_second: 12427.9030, train_label_loss: 0.1010, \n"
     ]
    },
    {
     "name": "stdout",
     "output_type": "stream",
     "text": [
      "epoch: 8, [batch: 215 / 359], examples_per_second: 12354.3645, train_label_loss: 0.1358, \n"
     ]
    },
    {
     "name": "stdout",
     "output_type": "stream",
     "text": [
      "epoch: 8, [batch: 251 / 359], examples_per_second: 12222.5304, train_label_loss: 0.0251, \n"
     ]
    },
    {
     "name": "stdout",
     "output_type": "stream",
     "text": [
      "epoch: 8, [batch: 287 / 359], examples_per_second: 12302.7912, train_label_loss: 0.0701, \n"
     ]
    },
    {
     "name": "stdout",
     "output_type": "stream",
     "text": [
      "epoch: 8, [batch: 323 / 359], examples_per_second: 12500.6082, train_label_loss: 0.1826, \n"
     ]
    },
    {
     "name": "stdout",
     "output_type": "stream",
     "text": [
      "=============================================================\n",
      "epoch: 8, source_val_acc_label: 0.9691, source_val_label_loss: 0.1685, target_val_acc_label: 0.7150, target_val_label_loss: 1.4831, \n",
      "=============================================================\n"
     ]
    },
    {
     "name": "stdout",
     "output_type": "stream",
     "text": [
      "epoch: 9, [batch: 1 / 359], examples_per_second: 157.1768, train_label_loss: 0.1371, \n"
     ]
    },
    {
     "name": "stdout",
     "output_type": "stream",
     "text": [
      "epoch: 9, [batch: 36 / 359], examples_per_second: 10519.3256, train_label_loss: 0.0997, \n"
     ]
    },
    {
     "name": "stdout",
     "output_type": "stream",
     "text": [
      "epoch: 9, [batch: 72 / 359], examples_per_second: 10627.6114, train_label_loss: 0.0278, \n"
     ]
    },
    {
     "name": "stdout",
     "output_type": "stream",
     "text": [
      "epoch: 9, [batch: 108 / 359], examples_per_second: 10677.7238, train_label_loss: 0.1818, \n"
     ]
    },
    {
     "name": "stdout",
     "output_type": "stream",
     "text": [
      "epoch: 9, [batch: 144 / 359], examples_per_second: 10674.2268, train_label_loss: 0.0418, \n"
     ]
    },
    {
     "name": "stdout",
     "output_type": "stream",
     "text": [
      "epoch: 9, [batch: 180 / 359], examples_per_second: 10548.9035, train_label_loss: 0.0415, \n"
     ]
    },
    {
     "name": "stdout",
     "output_type": "stream",
     "text": [
      "epoch: 9, [batch: 215 / 359], examples_per_second: 10685.9486, train_label_loss: 0.0708, \n"
     ]
    },
    {
     "name": "stdout",
     "output_type": "stream",
     "text": [
      "epoch: 9, [batch: 251 / 359], examples_per_second: 10697.3034, train_label_loss: 0.0799, \n"
     ]
    },
    {
     "name": "stdout",
     "output_type": "stream",
     "text": [
      "epoch: 9, [batch: 287 / 359], examples_per_second: 10664.0025, train_label_loss: 0.0562, \n"
     ]
    },
    {
     "name": "stdout",
     "output_type": "stream",
     "text": [
      "epoch: 9, [batch: 323 / 359], examples_per_second: 10642.4228, train_label_loss: 0.1323, \n"
     ]
    },
    {
     "name": "stdout",
     "output_type": "stream",
     "text": [
      "=============================================================\n",
      "epoch: 9, source_val_acc_label: 0.9371, source_val_label_loss: 0.2770, target_val_acc_label: 0.6789, target_val_label_loss: 1.7328, \n",
      "=============================================================\n"
     ]
    },
    {
     "name": "stdout",
     "output_type": "stream",
     "text": [
      "epoch: 10, [batch: 1 / 359], examples_per_second: 126.6499, train_label_loss: 0.0505, \n"
     ]
    },
    {
     "name": "stdout",
     "output_type": "stream",
     "text": [
      "epoch: 10, [batch: 36 / 359], examples_per_second: 10231.1182, train_label_loss: 0.0583, \n"
     ]
    },
    {
     "name": "stdout",
     "output_type": "stream",
     "text": [
      "epoch: 10, [batch: 72 / 359], examples_per_second: 10548.0226, train_label_loss: 0.1101, \n"
     ]
    },
    {
     "name": "stdout",
     "output_type": "stream",
     "text": [
      "epoch: 10, [batch: 108 / 359], examples_per_second: 10645.9694, train_label_loss: 0.1287, \n"
     ]
    },
    {
     "name": "stdout",
     "output_type": "stream",
     "text": [
      "epoch: 10, [batch: 144 / 359], examples_per_second: 10682.8644, train_label_loss: 0.0583, \n"
     ]
    },
    {
     "name": "stdout",
     "output_type": "stream",
     "text": [
      "epoch: 10, [batch: 180 / 359], examples_per_second: 10634.9271, train_label_loss: 0.2525, \n"
     ]
    },
    {
     "name": "stdout",
     "output_type": "stream",
     "text": [
      "epoch: 10, [batch: 215 / 359], examples_per_second: 10571.0302, train_label_loss: 0.1053, \n"
     ]
    },
    {
     "name": "stdout",
     "output_type": "stream",
     "text": [
      "epoch: 10, [batch: 251 / 359], examples_per_second: 10661.8965, train_label_loss: 0.0420, \n"
     ]
    },
    {
     "name": "stdout",
     "output_type": "stream",
     "text": [
      "epoch: 10, [batch: 287 / 359], examples_per_second: 10418.4291, train_label_loss: 0.1086, \n"
     ]
    },
    {
     "name": "stdout",
     "output_type": "stream",
     "text": [
      "epoch: 10, [batch: 323 / 359], examples_per_second: 10743.5182, train_label_loss: 0.0881, \n"
     ]
    },
    {
     "name": "stdout",
     "output_type": "stream",
     "text": [
      "=============================================================\n",
      "epoch: 10, source_val_acc_label: 0.9538, source_val_label_loss: 0.2153, target_val_acc_label: 0.6865, target_val_label_loss: 1.5984, \n",
      "=============================================================\n"
     ]
    },
    {
     "name": "stdout",
     "output_type": "stream",
     "text": [
      "epoch: 11, [batch: 1 / 359], examples_per_second: 131.9816, train_label_loss: 0.1849, \n"
     ]
    },
    {
     "name": "stdout",
     "output_type": "stream",
     "text": [
      "epoch: 11, [batch: 36 / 359], examples_per_second: 10117.9401, train_label_loss: 0.0797, \n"
     ]
    },
    {
     "name": "stdout",
     "output_type": "stream",
     "text": [
      "epoch: 11, [batch: 72 / 359], examples_per_second: 10631.0604, train_label_loss: 0.0488, \n"
     ]
    },
    {
     "name": "stdout",
     "output_type": "stream",
     "text": [
      "epoch: 11, [batch: 108 / 359], examples_per_second: 10672.8593, train_label_loss: 0.0863, \n"
     ]
    },
    {
     "name": "stdout",
     "output_type": "stream",
     "text": [
      "epoch: 11, [batch: 144 / 359], examples_per_second: 10653.0461, train_label_loss: 0.1211, \n"
     ]
    },
    {
     "name": "stdout",
     "output_type": "stream",
     "text": [
      "epoch: 11, [batch: 180 / 359], examples_per_second: 10648.1982, train_label_loss: 0.0885, \n"
     ]
    },
    {
     "name": "stdout",
     "output_type": "stream",
     "text": [
      "epoch: 11, [batch: 215 / 359], examples_per_second: 10568.7411, train_label_loss: 0.0620, \n"
     ]
    },
    {
     "name": "stdout",
     "output_type": "stream",
     "text": [
      "epoch: 11, [batch: 251 / 359], examples_per_second: 10402.2967, train_label_loss: 0.0271, \n"
     ]
    },
    {
     "name": "stdout",
     "output_type": "stream",
     "text": [
      "epoch: 11, [batch: 287 / 359], examples_per_second: 10636.8176, train_label_loss: 0.1147, \n"
     ]
    },
    {
     "name": "stdout",
     "output_type": "stream",
     "text": [
      "epoch: 11, [batch: 323 / 359], examples_per_second: 10531.9286, train_label_loss: 0.0777, \n"
     ]
    },
    {
     "name": "stdout",
     "output_type": "stream",
     "text": [
      "=============================================================\n",
      "epoch: 11, source_val_acc_label: 0.9668, source_val_label_loss: 0.1808, target_val_acc_label: 0.6880, target_val_label_loss: 1.5657, \n",
      "=============================================================\n"
     ]
    },
    {
     "name": "stdout",
     "output_type": "stream",
     "text": [
      "Patience (3) exhausted\n"
     ]
    }
   ],
   "source": [
    "jig = Vanilla_Train_Eval_Test_Jig(\n",
    "    model=model,\n",
    "    path_to_best_model=p.BEST_MODEL_PATH,\n",
    "    device=p.device,\n",
    "    label_loss_object=torch.nn.NLLLoss(),\n",
    ")\n",
    "\n",
    "jig.train(\n",
    "    train_iterable=datasets.source.processed.train,\n",
    "    source_val_iterable=datasets.source.processed.val,\n",
    "    target_val_iterable=datasets.target.processed.val,\n",
    "    patience=p.patience,\n",
    "    num_epochs=p.n_epoch,\n",
    "    num_logs_per_epoch=p.NUM_LOGS_PER_EPOCH,\n",
    "    criteria_for_best=p.criteria_for_best\n",
    ")"
   ]
  },
  {
   "cell_type": "code",
   "execution_count": 14,
   "id": "4bc2ac17",
   "metadata": {
    "execution": {
     "iopub.execute_input": "2022-03-26T02:23:05.837885Z",
     "iopub.status.busy": "2022-03-26T02:23:05.837500Z",
     "iopub.status.idle": "2022-03-26T02:23:05.840137Z",
     "shell.execute_reply": "2022-03-26T02:23:05.839804Z"
    },
    "papermill": {
     "duration": 0.056702,
     "end_time": "2022-03-26T02:23:05.840218",
     "exception": false,
     "start_time": "2022-03-26T02:23:05.783516",
     "status": "completed"
    },
    "tags": []
   },
   "outputs": [],
   "source": [
    "total_experiment_time_secs = time.time() - start_time_secs"
   ]
  },
  {
   "cell_type": "code",
   "execution_count": 15,
   "id": "cae88f23",
   "metadata": {
    "execution": {
     "iopub.execute_input": "2022-03-26T02:23:05.954043Z",
     "iopub.status.busy": "2022-03-26T02:23:05.952525Z",
     "iopub.status.idle": "2022-03-26T02:23:18.624361Z",
     "shell.execute_reply": "2022-03-26T02:23:18.623446Z"
    },
    "papermill": {
     "duration": 12.731272,
     "end_time": "2022-03-26T02:23:18.624544",
     "exception": false,
     "start_time": "2022-03-26T02:23:05.893272",
     "status": "completed"
    },
    "tags": []
   },
   "outputs": [],
   "source": [
    "source_test_label_accuracy, source_test_label_loss = jig.test(datasets.source.processed.test)\n",
    "target_test_label_accuracy, target_test_label_loss = jig.test(datasets.target.processed.test)\n",
    "\n",
    "source_val_label_accuracy, source_val_label_loss = jig.test(datasets.source.processed.val)\n",
    "target_val_label_accuracy, target_val_label_loss = jig.test(datasets.target.processed.val)\n",
    "\n",
    "history = jig.get_history()\n",
    "\n",
    "total_epochs_trained = len(history[\"epoch_indices\"])\n",
    "\n",
    "val_dl = wrap_in_dataloader(p, Sequence_Aggregator((datasets.source.original.val, datasets.target.original.val)))\n",
    "\n",
    "confusion = confusion_by_domain_over_dataloader(model, p.device, val_dl, forward_uses_domain=False)\n",
    "per_domain_accuracy = per_domain_accuracy_from_confusion(confusion)\n",
    "\n",
    "# Add a key to per_domain_accuracy for if it was a source domain\n",
    "for domain, accuracy in per_domain_accuracy.items():\n",
    "    per_domain_accuracy[domain] = {\n",
    "        \"accuracy\": accuracy,\n",
    "        \"source?\": domain in p.domains_source\n",
    "    }\n",
    "\n",
    "# Do an independent accuracy assesment JUST TO BE SURE!\n",
    "# _source_test_label_accuracy = independent_accuracy_assesment(model, datasets.source.processed.test, p.device)\n",
    "# _target_test_label_accuracy = independent_accuracy_assesment(model, datasets.target.processed.test, p.device)\n",
    "# _source_val_label_accuracy = independent_accuracy_assesment(model, datasets.source.processed.val, p.device)\n",
    "# _target_val_label_accuracy = independent_accuracy_assesment(model, datasets.target.processed.val, p.device)\n",
    "\n",
    "# assert(_source_test_label_accuracy == source_test_label_accuracy)\n",
    "# assert(_target_test_label_accuracy == target_test_label_accuracy)\n",
    "# assert(_source_val_label_accuracy == source_val_label_accuracy)\n",
    "# assert(_target_val_label_accuracy == target_val_label_accuracy)\n",
    "\n",
    "###################################\n",
    "# Write out the results\n",
    "###################################\n",
    "\n",
    "experiment = {\n",
    "    \"experiment_name\": p.experiment_name,\n",
    "    \"parameters\": p,\n",
    "    \"results\": {\n",
    "        \"source_test_label_accuracy\": source_test_label_accuracy,\n",
    "        \"source_test_label_loss\": source_test_label_loss,\n",
    "        \"target_test_label_accuracy\": target_test_label_accuracy,\n",
    "        \"target_test_label_loss\": target_test_label_loss,\n",
    "        \"source_val_label_accuracy\": source_val_label_accuracy,\n",
    "        \"source_val_label_loss\": source_val_label_loss,\n",
    "        \"target_val_label_accuracy\": target_val_label_accuracy,\n",
    "        \"target_val_label_loss\": target_val_label_loss,\n",
    "        \"total_epochs_trained\": total_epochs_trained,\n",
    "        \"total_experiment_time_secs\": total_experiment_time_secs,\n",
    "        \"confusion\": confusion,\n",
    "        \"per_domain_accuracy\": per_domain_accuracy,\n",
    "    },\n",
    "    \"history\": history,\n",
    "    \"dataset_metrics\": get_dataset_metrics(datasets, \"cnn\"),\n",
    "}"
   ]
  },
  {
   "cell_type": "code",
   "execution_count": 16,
   "id": "74c318cf",
   "metadata": {
    "execution": {
     "iopub.execute_input": "2022-03-26T02:23:18.746834Z",
     "iopub.status.busy": "2022-03-26T02:23:18.746005Z",
     "iopub.status.idle": "2022-03-26T02:23:19.206916Z",
     "shell.execute_reply": "2022-03-26T02:23:19.207643Z"
    },
    "papermill": {
     "duration": 0.531078,
     "end_time": "2022-03-26T02:23:19.207858",
     "exception": false,
     "start_time": "2022-03-26T02:23:18.676780",
     "status": "completed"
    },
    "tags": []
   },
   "outputs": [
    {
     "data": {
      "text/plain": [
       "<AxesSubplot:title={'center':'Source Train Label Loss vs Source Val Label Loss'}, xlabel='Epoch'>"
      ]
     },
     "execution_count": 16,
     "metadata": {},
     "output_type": "execute_result"
    },
    {
     "data": {
      "image/png": "[encoded data removed]",
      "text/plain": [
       "<Figure size 1080x504 with 1 Axes>"
      ]
     },
     "metadata": {
      "needs_background": "light"
     },
     "output_type": "display_data"
    }
   ],
   "source": [
    "get_loss_curve(experiment)"
   ]
  },
  {
   "cell_type": "code",
   "execution_count": 17,
   "id": "59376601",
   "metadata": {
    "execution": {
     "iopub.execute_input": "2022-03-26T02:23:19.341213Z",
     "iopub.status.busy": "2022-03-26T02:23:19.340404Z",
     "iopub.status.idle": "2022-03-26T02:23:19.655603Z",
     "shell.execute_reply": "2022-03-26T02:23:19.655228Z"
    },
    "papermill": {
     "duration": 0.391067,
     "end_time": "2022-03-26T02:23:19.655697",
     "exception": false,
     "start_time": "2022-03-26T02:23:19.264630",
     "status": "completed"
    },
    "tags": []
   },
   "outputs": [
    {
     "data": {
      "text/plain": [
       "<AxesSubplot:title={'center':'Results'}>"
      ]
     },
     "execution_count": 17,
     "metadata": {},
     "output_type": "execute_result"
    },
    {
     "data": {
      "image/png": "[encoded data removed]",
      "text/plain": [
       "<Figure size 1080x504 with 1 Axes>"
      ]
     },
     "metadata": {
      "needs_background": "light"
     },
     "output_type": "display_data"
    }
   ],
   "source": [
    "get_results_table(experiment)"
   ]
  },
  {
   "cell_type": "code",
   "execution_count": 18,
   "id": "e80c5c98",
   "metadata": {
    "execution": {
     "iopub.execute_input": "2022-03-26T02:23:19.782968Z",
     "iopub.status.busy": "2022-03-26T02:23:19.778353Z",
     "iopub.status.idle": "2022-03-26T02:23:19.927085Z",
     "shell.execute_reply": "2022-03-26T02:23:19.926257Z"
    },
    "papermill": {
     "duration": 0.220309,
     "end_time": "2022-03-26T02:23:19.927258",
     "exception": false,
     "start_time": "2022-03-26T02:23:19.706949",
     "status": "completed"
    },
    "tags": []
   },
   "outputs": [
    {
     "data": {
      "text/plain": [
       "<AxesSubplot:title={'center':'Per Domain Accuracy'}, xlabel='domain'>"
      ]
     },
     "execution_count": 18,
     "metadata": {},
     "output_type": "execute_result"
    },
    {
     "data": {
      "image/png": "[encoded data removed]",
      "text/plain": [
       "<Figure size 1080x504 with 1 Axes>"
      ]
     },
     "metadata": {
      "needs_background": "light"
     },
     "output_type": "display_data"
    }
   ],
   "source": [
    "get_domain_accuracies(experiment)"
   ]
  },
  {
   "cell_type": "code",
   "execution_count": 19,
   "id": "086fdd10",
   "metadata": {
    "execution": {
     "iopub.execute_input": "2022-03-26T02:23:20.038684Z",
     "iopub.status.busy": "2022-03-26T02:23:20.038307Z",
     "iopub.status.idle": "2022-03-26T02:23:20.042600Z",
     "shell.execute_reply": "2022-03-26T02:23:20.042053Z"
    },
    "papermill": {
     "duration": 0.060339,
     "end_time": "2022-03-26T02:23:20.042721",
     "exception": false,
     "start_time": "2022-03-26T02:23:19.982382",
     "status": "completed"
    },
    "tags": []
   },
   "outputs": [
    {
     "name": "stdout",
     "output_type": "stream",
     "text": [
      "Source Test Label Accuracy: 0.9666900772549413 Target Test Label Accuracy: 0.715502829218107\n",
      "Source Val Label Accuracy: 0.9658486707566463 Target Val Label Accuracy: 0.7183738880167452\n"
     ]
    }
   ],
   "source": [
    "print(\"Source Test Label Accuracy:\", experiment[\"results\"][\"source_test_label_accuracy\"], \"Target Test Label Accuracy:\", experiment[\"results\"][\"target_test_label_accuracy\"])\n",
    "print(\"Source Val Label Accuracy:\", experiment[\"results\"][\"source_val_label_accuracy\"], \"Target Val Label Accuracy:\", experiment[\"results\"][\"target_val_label_accuracy\"])"
   ]
  },
  {
   "cell_type": "code",
   "execution_count": 20,
   "id": "9f450536",
   "metadata": {
    "execution": {
     "iopub.execute_input": "2022-03-26T02:23:20.161974Z",
     "iopub.status.busy": "2022-03-26T02:23:20.161407Z",
     "iopub.status.idle": "2022-03-26T02:23:20.164497Z",
     "shell.execute_reply": "2022-03-26T02:23:20.164965Z"
    },
    "papermill": {
     "duration": 0.062068,
     "end_time": "2022-03-26T02:23:20.165093",
     "exception": false,
     "start_time": "2022-03-26T02:23:20.103025",
     "status": "completed"
    },
    "tags": [
     "experiment_json"
    ]
   },
   "outputs": [
    {
     "data": {
      "text/plain": [
       "'{\"experiment_name\": \"cnn_1:wisig\", \"parameters\": {\"experiment_name\": \"cnn_1:wisig\", \"labels\": [\"1-10\", \"1-12\", \"1-14\", \"1-16\", \"1-18\", \"1-19\", \"1-8\", \"10-11\", \"10-17\", \"10-4\", \"10-7\", \"11-1\", \"11-10\", \"11-19\", \"11-20\", \"11-4\", \"11-7\", \"12-19\", \"12-20\", \"12-7\", \"13-14\", \"13-18\", \"13-19\", \"13-20\", \"13-3\", \"13-7\", \"14-10\", \"14-11\", \"14-12\", \"14-13\", \"14-14\", \"14-19\", \"14-20\", \"14-7\", \"14-8\", \"14-9\", \"15-1\", \"15-19\", \"15-6\", \"16-1\", \"16-16\", \"16-19\", \"16-20\", \"17-10\", \"17-11\", \"18-1\", \"18-10\", \"18-11\", \"18-12\", \"18-13\", \"18-14\", \"18-15\", \"18-16\", \"18-17\", \"18-19\", \"18-2\", \"18-20\", \"18-4\", \"18-5\", \"18-7\", \"18-8\", \"18-9\", \"19-1\", \"19-10\", \"19-11\", \"19-12\", \"19-13\", \"19-14\", \"19-15\", \"19-19\", \"19-2\", \"19-20\", \"19-3\", \"19-4\", \"19-6\", \"19-7\", \"19-8\", \"19-9\", \"2-1\", \"2-13\", \"2-15\", \"2-3\", \"2-4\", \"2-5\", \"2-6\", \"2-7\", \"2-8\", \"20-1\", \"20-12\", \"20-14\", \"20-15\", \"20-16\", \"20-18\", \"20-19\", \"20-20\", \"20-3\", \"20-4\", \"20-5\", \"20-7\", \"20-8\", \"3-1\", \"3-13\", \"3-18\", \"3-2\", \"3-8\", \"4-1\", \"4-10\", \"4-11\", \"5-1\", \"5-5\", \"6-1\", \"6-15\", \"6-6\", \"7-10\", \"7-11\", \"7-12\", \"7-13\", \"7-14\", \"7-7\", \"7-8\", \"7-9\", \"8-1\", \"8-13\", \"8-14\", \"8-18\", \"8-20\", \"8-3\", \"8-8\", \"9-1\", \"9-7\"], \"domains_source\": [3], \"domains_target\": [1, 2, 4], \"pickle_name_target\": \"wisig.node3-19.stratified_ds.2022A.pkl\", \"pickle_name_source\": \"wisig.node3-19.stratified_ds.2022A.pkl\", \"device\": \"cuda\", \"lr\": 0.0001, \"batch_size\": 128, \"normalize_source\": false, \"normalize_target\": false, \"num_examples_per_domain_per_label_source\": -1, \"num_examples_per_domain_per_label_target\": -1, \"torch_default_dtype\": \"torch.float32\", \"n_epoch\": 50, \"patience\": 3, \"criteria_for_best\": \"target_accuracy\", \"x_net\": [{\"class\": \"nnReshape\", \"kargs\": {\"shape\": [-1, 1, 2, 256]}}, {\"class\": \"Conv2d\", \"kargs\": {\"in_channels\": 1, \"out_channels\": 256, \"kernel_size\": [1, 7], \"bias\": false, \"padding\": [0, 3]}}, {\"class\": \"ReLU\", \"kargs\": {\"inplace\": true}}, {\"class\": \"BatchNorm2d\", \"kargs\": {\"num_features\": 256}}, {\"class\": \"Conv2d\", \"kargs\": {\"in_channels\": 256, \"out_channels\": 80, \"kernel_size\": [2, 7], \"bias\": true, \"padding\": [0, 3]}}, {\"class\": \"ReLU\", \"kargs\": {\"inplace\": true}}, {\"class\": \"BatchNorm2d\", \"kargs\": {\"num_features\": 80}}, {\"class\": \"Flatten\", \"kargs\": {}}, {\"class\": \"Linear\", \"kargs\": {\"in_features\": 20480, \"out_features\": 256}}, {\"class\": \"ReLU\", \"kargs\": {\"inplace\": true}}, {\"class\": \"BatchNorm1d\", \"kargs\": {\"num_features\": 256}}, {\"class\": \"Linear\", \"kargs\": {\"in_features\": 256, \"out_features\": 130}}], \"NUM_LOGS_PER_EPOCH\": 10, \"BEST_MODEL_PATH\": \"./best_model.pth\", \"dataset_seed\": 7, \"seed\": 7}, \"results\": {\"source_test_label_accuracy\": 0.9666900772549413, \"source_test_label_loss\": 0.17839117720723152, \"target_test_label_accuracy\": 0.715502829218107, \"target_test_label_loss\": 1.4874116439878204, \"source_val_label_accuracy\": 0.9658486707566463, \"source_val_label_loss\": 0.17713506819752903, \"target_val_label_accuracy\": 0.7183738880167452, \"target_val_label_loss\": 1.4678127947711546, \"total_epochs_trained\": 11, \"total_experiment_time_secs\": 70.08170104026794, \"confusion\": {\"4\": {\"90\": {\"90\": 223, \"81\": 1, \"19\": 1}, \"31\": {\"89\": 11, \"50\": 12, \"33\": 1}, \"101\": {\"0\": 165, \"101\": 2}, \"87\": {\"87\": 159, \"43\": 3, \"122\": 2, \"11\": 2, \"118\": 1, \"16\": 1, \"88\": 1}, \"126\": {\"126\": 150, \"39\": 3, \"88\": 3, \"127\": 1, \"69\": 1, \"18\": 1}, \"104\": {\"104\": 23}, \"33\": {\"33\": 189, \"114\": 2, \"90\": 1, \"88\": 2, \"107\": 1}, \"4\": {\"4\": 124, \"125\": 1, \"88\": 4, \"21\": 1}, \"94\": {\"36\": 5, \"94\": 99, \"8\": 1, \"21\": 2, \"88\": 2, \"90\": 1}, \"114\": {\"114\": 157, \"126\": 1, \"21\": 2, \"88\": 1, \"3\": 1}, \"119\": {\"80\": 1, \"90\": 13, \"2\": 5, \"42\": 3}, \"107\": {\"107\": 180, \"88\": 1}, \"127\": {\"127\": 131, \"88\": 3, \"12\": 1}, \"86\": {\"86\": 35, \"107\": 1}, \"98\": {\"98\": 149, \"69\": 1, \"107\": 1, \"82\": 1}, \"39\": {\"39\": 107, \"126\": 18, \"27\": 1, \"21\": 2}, \"42\": {\"42\": 37, \"124\": 1}, \"88\": {\"88\": 153, \"21\": 1, \"70\": 11, \"126\": 1, \"108\": 1}, \"71\": {\"71\": 123, \"12\": 2, \"88\": 1, \"21\": 2, \"114\": 1, \"3\": 1}, \"118\": {\"118\": 128, \"36\": 1, \"109\": 7, \"71\": 1, \"16\": 1, \"21\": 1, \"88\": 1}, \"95\": {\"105\": 18, \"128\": 16, \"56\": 1, \"127\": 7, \"76\": 1}, \"46\": {\"46\": 22, \"114\": 1, \"53\": 1, \"66\": 1}, \"12\": {\"12\": 121, \"106\": 1, \"88\": 2, \"27\": 1, \"63\": 1, \"21\": 1, \"78\": 1}, \"110\": {\"110\": 154, \"30\": 1, \"11\": 3, \"122\": 1, \"98\": 1, \"43\": 1, \"21\": 1, \"27\": 1, \"16\": 1}, \"18\": {\"18\": 151, \"113\": 1, \"70\": 1, \"88\": 1}, \"36\": {\"36\": 141, \"27\": 16, \"24\": 1, \"21\": 3, \"88\": 3}, \"70\": {\"70\": 90, \"108\": 51, \"88\": 11, \"27\": 1, \"90\": 1, \"105\": 1}, \"93\": {\"93\": 201, \"110\": 3, \"32\": 1, \"11\": 2, \"96\": 2}, \"11\": {\"108\": 179, \"8\": 14, \"88\": 1, \"60\": 1, \"96\": 1}, \"30\": {\"30\": 88, \"16\": 1, \"21\": 1, \"69\": 2, \"18\": 1, \"70\": 2, \"27\": 1}, \"111\": {\"111\": 171, \"70\": 2, \"129\": 1, \"81\": 1, \"127\": 1, \"21\": 2, \"18\": 1}, \"27\": {\"27\": 62, \"108\": 54, \"88\": 4, \"21\": 2, \"96\": 1, \"16\": 1, \"69\": 1, \"36\": 2}, \"26\": {\"26\": 160, \"126\": 1}, \"10\": {\"70\": 63, \"88\": 72, \"24\": 3, \"108\": 10, \"27\": 7}, \"23\": {\"23\": 10, \"96\": 4, \"88\": 1, \"21\": 2, \"18\": 2, \"112\": 1}, \"7\": {\"7\": 133, \"88\": 4, \"87\": 17, \"21\": 2, \"70\": 2}, \"40\": {\"40\": 169, \"88\": 2, \"21\": 1}, \"102\": {\"102\": 167, \"88\": 1, \"21\": 1, \"105\": 1}, \"108\": {\"108\": 82, \"11\": 11, \"88\": 23, \"27\": 1, \"36\": 1}, \"14\": {\"14\": 137, \"27\": 1, \"88\": 2, \"90\": 1}, \"2\": {\"2\": 38}, \"0\": {\"0\": 132, \"88\": 4, \"70\": 1, \"21\": 3, \"30\": 2, \"94\": 1, \"10\": 2, \"87\": 2, \"122\": 1, \"16\": 1}, \"34\": {\"34\": 39, \"68\": 1, \"88\": 1}, \"84\": {\"84\": 163, \"62\": 1, \"69\": 1, \"113\": 1, \"88\": 1, \"21\": 1}, \"5\": {\"53\": 9, \"1\": 108, \"114\": 49, \"88\": 4, \"20\": 1, \"44\": 1}, \"16\": {\"18\": 18, \"118\": 137, \"70\": 2, \"88\": 1, \"21\": 1}, \"117\": {\"117\": 154, \"21\": 2, \"88\": 2}, \"15\": {\"15\": 147, \"88\": 2, \"94\": 2, \"36\": 6, \"8\": 4, \"97\": 2, \"30\": 1}, \"61\": {\"61\": 21, \"88\": 1, \"18\": 1}, \"6\": {\"6\": 32, \"88\": 1}, \"64\": {\"38\": 7, \"104\": 11, \"91\": 2, \"82\": 1, \"88\": 1, \"45\": 1}, \"82\": {\"66\": 1, \"55\": 28, \"95\": 7, \"88\": 1, \"50\": 2, \"62\": 3, \"40\": 1}, \"105\": {\"105\": 108, \"88\": 6, \"40\": 8, \"21\": 1, \"124\": 1, \"27\": 1, \"81\": 1, \"126\": 1}, \"113\": {\"113\": 158, \"126\": 2, \"88\": 1, \"66\": 1}, \"57\": {\"103\": 10, \"32\": 11, \"70\": 2}, \"89\": {\"90\": 28, \"35\": 11, \"89\": 1, \"88\": 1}, \"69\": {\"69\": 158, \"62\": 1, \"18\": 1, \"94\": 1, \"21\": 1, \"88\": 2}, \"44\": {\"44\": 83, \"64\": 1}, \"49\": {\"49\": 35, \"127\": 1, \"97\": 3, \"34\": 1}, \"35\": {\"61\": 16, \"93\": 1}, \"9\": {\"83\": 19, \"106\": 1, \"49\": 7, \"42\": 6, \"54\": 1, \"8\": 2}, \"125\": {\"125\": 189, \"63\": 1}, \"67\": {\"33\": 13, \"67\": 9, \"88\": 1}, \"92\": {\"89\": 33, \"70\": 1, \"40\": 1, \"76\": 1}, \"124\": {\"124\": 152}, \"66\": {\"90\": 22, \"116\": 1}, \"8\": {\"8\": 175, \"21\": 1, \"70\": 2, \"105\": 1, \"27\": 1, \"110\": 1, \"88\": 3}, \"3\": {\"114\": 17, \"3\": 141, \"31\": 1, \"71\": 3, \"21\": 1, \"88\": 5, \"84\": 1, \"69\": 1, \"126\": 1}, \"32\": {\"32\": 35, \"29\": 1}, \"103\": {\"58\": 16, \"124\": 3, \"91\": 1, \"128\": 3, \"88\": 1}, \"122\": {\"122\": 78, \"109\": 3, \"43\": 11, \"118\": 5, \"88\": 2, \"87\": 1, \"110\": 1, \"11\": 2, \"69\": 2, \"127\": 1}, \"109\": {\"109\": 133, \"39\": 6, \"88\": 1, \"11\": 1, \"128\": 1, \"32\": 1, \"122\": 1, \"21\": 2, \"18\": 1, \"16\": 1}, \"1\": {\"1\": 123, \"88\": 4, \"126\": 1, \"108\": 1, \"92\": 1, \"36\": 1, \"106\": 1, \"27\": 1, \"114\": 1, \"6\": 1}, \"106\": {\"106\": 143, \"93\": 1, \"88\": 2, \"12\": 1, \"8\": 1}, \"83\": {\"53\": 30, \"128\": 1, \"49\": 4, \"88\": 1, \"20\": 1}, \"96\": {\"16\": 3, \"118\": 4, \"93\": 11, \"60\": 5, \"110\": 3, \"14\": 3}, \"62\": {\"21\": 5, \"62\": 70, \"18\": 1, \"107\": 1, \"88\": 1}, \"54\": {\"54\": 21, \"106\": 1, \"73\": 1}, \"24\": {\"24\": 89, \"27\": 43, \"88\": 8, \"108\": 7, \"127\": 1, \"18\": 1, \"21\": 2}, \"123\": {\"123\": 22}, \"51\": {\"18\": 1, \"51\": 11, \"69\": 1, \"106\": 2, \"21\": 2, \"70\": 1, \"98\": 1, \"88\": 1}, \"28\": {\"79\": 12, \"53\": 11, \"32\": 3}, \"58\": {\"58\": 23}, \"72\": {\"31\": 8, \"34\": 26, \"71\": 3, \"23\": 1, \"88\": 1, \"97\": 1}, \"68\": {\"68\": 22, \"128\": 1}, \"112\": {\"112\": 23, \"85\": 1}, \"60\": {\"60\": 38, \"68\": 1, \"36\": 1}, \"53\": {\"47\": 12, \"49\": 3, \"114\": 6, \"71\": 1, \"85\": 1, \"34\": 1}, \"121\": {\"88\": 2, \"121\": 37, \"20\": 1, \"18\": 1}, \"78\": {\"21\": 39, \"70\": 3, \"127\": 1, \"88\": 4, \"69\": 1}, \"22\": {\"22\": 23}, \"19\": {\"18\": 1, \"19\": 34, \"90\": 1, \"46\": 1}, \"43\": {\"87\": 35, \"43\": 91, \"108\": 1, \"70\": 9, \"39\": 2, \"11\": 12, \"113\": 2, \"57\": 1}, \"81\": {\"81\": 47, \"88\": 1}, \"48\": {\"48\": 22, \"91\": 1}, \"13\": {\"13\": 21, \"106\": 1}, \"25\": {\"25\": 23, \"54\": 1}, \"29\": {\"72\": 28, \"65\": 6, \"91\": 1, \"88\": 1, \"56\": 1, \"98\": 3}, \"52\": {\"52\": 25, \"1\": 1}, \"38\": {\"90\": 18, \"44\": 2, \"103\": 1}, \"37\": {\"91\": 18, \"104\": 4, \"77\": 1, \"41\": 1}, \"97\": {\"27\": 15, \"24\": 5, \"66\": 2, \"88\": 1, \"108\": 3, \"117\": 1, \"36\": 1}, \"17\": {\"17\": 26}, \"120\": {\"45\": 20, \"32\": 5, \"66\": 1}, \"21\": {\"21\": 44, \"88\": 6, \"18\": 1, \"78\": 1, \"16\": 1}, \"99\": {\"99\": 51}, \"76\": {\"76\": 22}, \"80\": {\"80\": 18, \"81\": 1, \"29\": 1}, \"74\": {\"20\": 3, \"32\": 11, \"116\": 5, \"31\": 1, \"69\": 1, \"114\": 1}, \"65\": {\"65\": 18, \"37\": 1}, \"115\": {\"115\": 8, \"70\": 1, \"81\": 1, \"103\": 10}, \"56\": {\"41\": 1, \"56\": 16}, \"50\": {\"82\": 6, \"128\": 10, \"4\": 8}, \"129\": {\"129\": 37}, \"45\": {\"45\": 22}, \"79\": {\"79\": 22}, \"85\": {\"98\": 17, \"34\": 9, \"112\": 1, \"90\": 9, \"75\": 1, \"102\": 1}, \"91\": {\"91\": 31, \"88\": 1}, \"75\": {\"75\": 20}, \"128\": {\"128\": 32, \"44\": 1}, \"59\": {\"59\": 15, \"88\": 1, \"27\": 1, \"76\": 1, \"62\": 1}, \"47\": {\"56\": 16, \"72\": 2, \"124\": 1}, \"41\": {\"125\": 2, \"52\": 16, \"71\": 3, \"56\": 3}, \"77\": {\"99\": 2, \"6\": 7, \"98\": 8, \"128\": 1}, \"20\": {\"20\": 23, \"93\": 1}, \"100\": {\"100\": 24, \"16\": 1}, \"55\": {\"55\": 22}, \"116\": {\"116\": 36, \"90\": 1}, \"73\": {\"129\": 23, \"53\": 4, \"20\": 1, \"46\": 1, \"124\": 1}, \"63\": {\"63\": 24}}, \"3\": {\"10\": {\"10\": 152, \"16\": 1, \"70\": 7, \"109\": 1, \"21\": 1}, \"3\": {\"3\": 145, \"21\": 3, \"98\": 1}, \"90\": {\"90\": 231, \"105\": 1, \"48\": 1, \"111\": 1}, \"7\": {\"7\": 141, \"21\": 2}, \"88\": {\"88\": 136, \"21\": 2, \"70\": 1, \"108\": 1, \"68\": 1}, \"107\": {\"107\": 183}, \"126\": {\"126\": 155, \"127\": 1, \"21\": 1, \"84\": 1, \"27\": 1}, \"61\": {\"61\": 24}, \"16\": {\"16\": 147, \"70\": 2}, \"33\": {\"33\": 196}, \"56\": {\"56\": 15, \"98\": 1, \"128\": 1}, \"52\": {\"52\": 23, \"33\": 1}, \"98\": {\"98\": 162, \"44\": 1, \"121\": 1}, \"22\": {\"22\": 23, \"21\": 1}, \"40\": {\"40\": 160, \"70\": 1, \"21\": 1}, \"4\": {\"4\": 121, \"21\": 2}, \"96\": {\"96\": 27}, \"108\": {\"108\": 174, \"70\": 1, \"88\": 1, \"16\": 1, \"27\": 2}, \"117\": {\"117\": 142, \"81\": 1}, \"18\": {\"18\": 162, \"21\": 1, \"105\": 1, \"127\": 1}, \"36\": {\"36\": 156, \"27\": 8}, \"119\": {\"119\": 24}, \"106\": {\"106\": 125, \"8\": 1, \"88\": 1, \"27\": 1, \"21\": 1}, \"102\": {\"102\": 157, \"33\": 1, \"9\": 1}, \"116\": {\"116\": 38}, \"125\": {\"125\": 159, \"118\": 1}, \"5\": {\"5\": 139, \"127\": 1, \"16\": 1, \"84\": 1}, \"84\": {\"84\": 133, \"21\": 1, \"102\": 1}, \"111\": {\"111\": 160, \"70\": 1, \"69\": 1, \"74\": 1, \"126\": 1, \"112\": 1, \"90\": 1, \"125\": 1}, \"11\": {\"11\": 188, \"108\": 2, \"16\": 1}, \"78\": {\"21\": 20, \"18\": 1, \"94\": 1, \"16\": 1, \"84\": 1}, \"95\": {\"95\": 40}, \"122\": {\"122\": 71, \"21\": 1, \"69\": 1, \"110\": 1, \"16\": 1, \"108\": 1, \"11\": 1}, \"25\": {\"25\": 20, \"126\": 1, \"91\": 1}, \"14\": {\"14\": 103}, \"113\": {\"113\": 148, \"34\": 1, \"106\": 1}, \"114\": {\"114\": 162, \"29\": 1, \"18\": 1}, \"72\": {\"72\": 38}, \"1\": {\"1\": 135, \"88\": 1, \"21\": 2}, \"93\": {\"93\": 207}, \"42\": {\"42\": 37}, \"44\": {\"44\": 91}, \"15\": {\"15\": 129, \"70\": 1, \"88\": 1}, \"62\": {\"62\": 155, \"21\": 1, \"63\": 1, \"27\": 1, \"88\": 1}, \"12\": {\"12\": 128, \"21\": 2, \"84\": 1}, \"86\": {\"86\": 37, \"106\": 1, \"10\": 1}, \"2\": {\"2\": 37}, \"43\": {\"43\": 57, \"27\": 1, \"39\": 2, \"94\": 1, \"69\": 1, \"11\": 1, \"70\": 1, \"16\": 1, \"126\": 1, \"88\": 1, \"113\": 1, \"42\": 1, \"109\": 1}, \"71\": {\"71\": 80, \"127\": 1, \"27\": 1, \"3\": 2, \"111\": 1, \"60\": 1}, \"127\": {\"127\": 160, \"21\": 1}, \"94\": {\"94\": 104, \"70\": 1, \"21\": 1}, \"74\": {\"74\": 21, \"82\": 1}, \"27\": {\"27\": 109, \"36\": 9, \"88\": 1, \"70\": 2, \"21\": 1}, \"50\": {\"50\": 24}, \"39\": {\"39\": 123, \"21\": 3, \"126\": 10}, \"89\": {\"89\": 38, \"126\": 1}, \"65\": {\"65\": 17, \"88\": 1}, \"112\": {\"112\": 23, \"70\": 1}, \"110\": {\"110\": 113, \"124\": 1, \"21\": 2, \"54\": 1, \"88\": 1}, \"105\": {\"105\": 155, \"127\": 1, \"69\": 1}, \"58\": {\"58\": 22, \"97\": 1}, \"46\": {\"46\": 23}, \"101\": {\"101\": 67, \"88\": 1}, \"121\": {\"121\": 38, \"117\": 1, \"21\": 1}, \"124\": {\"124\": 155, \"129\": 1}, \"23\": {\"23\": 41, \"8\": 2}, \"8\": {\"8\": 170, \"2\": 1, \"21\": 1}, \"118\": {\"118\": 122, \"21\": 1, \"70\": 1, \"109\": 1, \"39\": 1, \"27\": 1}, \"69\": {\"69\": 106, \"21\": 1, \"127\": 1, \"70\": 1}, \"87\": {\"87\": 146, \"21\": 3, \"113\": 1, \"43\": 2, \"106\": 1}, \"100\": {\"100\": 24}, \"21\": {\"21\": 57, \"128\": 1, \"16\": 2, \"73\": 1, \"68\": 1, \"82\": 1, \"88\": 1}, \"34\": {\"34\": 39, \"88\": 1}, \"109\": {\"109\": 156, \"118\": 2, \"113\": 1, \"21\": 1, \"68\": 1}, \"31\": {\"31\": 25}, \"57\": {\"57\": 26}, \"0\": {\"0\": 142, \"16\": 1, \"30\": 2}, \"26\": {\"26\": 166, \"90\": 1}, \"24\": {\"88\": 1, \"27\": 29, \"36\": 1, \"24\": 30, \"70\": 2}, \"35\": {\"35\": 17}, \"97\": {\"97\": 25, \"21\": 1, \"8\": 2}, \"73\": {\"73\": 50, \"38\": 1, \"88\": 1}, \"99\": {\"99\": 49}, \"92\": {\"92\": 42}, \"19\": {\"19\": 40}, \"17\": {\"17\": 15, \"110\": 1, \"21\": 3, \"18\": 1, \"2\": 1}, \"37\": {\"37\": 23, \"21\": 1}, \"53\": {\"53\": 25}, \"70\": {\"70\": 67, \"108\": 10, \"88\": 14, \"27\": 1, \"21\": 2}, \"91\": {\"91\": 33}, \"104\": {\"104\": 21, \"89\": 1}, \"38\": {\"38\": 21, \"68\": 1}, \"55\": {\"55\": 24}, \"77\": {\"77\": 24}, \"6\": {\"6\": 41, \"44\": 1, \"125\": 1}, \"64\": {\"64\": 24, \"76\": 1}, \"81\": {\"81\": 43}, \"60\": {\"60\": 33, \"12\": 1, \"110\": 2, \"69\": 1}, \"123\": {\"123\": 21}, \"49\": {\"49\": 29, \"95\": 1, \"8\": 2}, \"120\": {\"120\": 25, \"2\": 1}, \"28\": {\"28\": 24}, \"76\": {\"76\": 21, \"40\": 1}, \"103\": {\"103\": 23, \"29\": 1}, \"68\": {\"68\": 20}, \"67\": {\"67\": 21, \"88\": 1}, \"129\": {\"129\": 42}, \"30\": {\"108\": 4, \"30\": 100, \"127\": 1, \"21\": 1, \"33\": 1, \"70\": 1}, \"66\": {\"66\": 24}, \"63\": {\"63\": 21}, \"29\": {\"29\": 42}, \"128\": {\"128\": 40}, \"20\": {\"20\": 21, \"69\": 1, \"85\": 1}, \"13\": {\"13\": 18, \"76\": 1, \"127\": 1}, \"41\": {\"41\": 21, \"117\": 1}, \"115\": {\"115\": 21}, \"9\": {\"9\": 39, \"21\": 1}, \"82\": {\"82\": 37}, \"51\": {\"51\": 24}, \"48\": {\"48\": 22}, \"59\": {\"59\": 17}, \"83\": {\"83\": 32, \"49\": 2}, \"32\": {\"32\": 41}, \"79\": {\"79\": 19}, \"45\": {\"45\": 21, \"127\": 1}, \"47\": {\"47\": 16}, \"54\": {\"54\": 24}, \"85\": {\"85\": 46}, \"75\": {\"75\": 22}, \"80\": {\"80\": 20}}, \"1\": {\"13\": {\"13\": 21, \"54\": 1, \"117\": 1}, \"102\": {\"102\": 151, \"92\": 1, \"21\": 2}, \"82\": {\"82\": 45, \"114\": 1, \"102\": 1, \"85\": 1}, \"98\": {\"98\": 133, \"121\": 2, \"21\": 1}, \"43\": {\"87\": 84, \"43\": 56, \"122\": 10, \"11\": 3, \"10\": 7, \"21\": 1, \"118\": 1}, \"62\": {\"62\": 151}, \"90\": {\"90\": 230, \"121\": 2}, \"52\": {\"128\": 21, \"6\": 3, \"99\": 2, \"25\": 1}, \"11\": {\"11\": 168, \"108\": 3, \"94\": 1, \"104\": 1}, \"3\": {\"114\": 102, \"6\": 1, \"3\": 4, \"69\": 1, \"21\": 1, \"51\": 1, \"88\": 1}, \"71\": {\"3\": 77, \"71\": 30, \"127\": 19, \"45\": 1, \"94\": 1, \"12\": 5, \"21\": 2, \"88\": 1}, \"70\": {\"88\": 42, \"70\": 113, \"21\": 1, \"108\": 4, \"69\": 1}, \"115\": {\"80\": 15, \"103\": 3}, \"109\": {\"88\": 68, \"108\": 24, \"70\": 66}, \"18\": {\"113\": 155, \"18\": 2}, \"84\": {\"84\": 169, \"127\": 1}, \"66\": {\"90\": 11, \"28\": 9, \"116\": 3, \"36\": 1}, \"108\": {\"108\": 149, \"27\": 4, \"21\": 1, \"76\": 1, \"16\": 1}, \"8\": {\"8\": 89, \"11\": 40, \"110\": 52, \"21\": 1, \"84\": 1}, \"64\": {\"64\": 23}, \"39\": {\"39\": 125, \"88\": 2, \"126\": 3, \"43\": 1, \"11\": 1}, \"93\": {\"87\": 191, \"10\": 3, \"11\": 3, \"70\": 2, \"21\": 1, \"122\": 1}, \"44\": {\"60\": 63, \"49\": 11, \"3\": 17, \"114\": 1, \"44\": 3}, \"15\": {\"15\": 129, \"8\": 1, \"69\": 1, \"21\": 2}, \"1\": {\"1\": 170, \"21\": 1}, \"87\": {\"87\": 94, \"43\": 18, \"122\": 21, \"8\": 1, \"88\": 1, \"21\": 1}, \"116\": {\"116\": 44}, \"40\": {\"40\": 180}, \"110\": {\"127\": 121, \"21\": 4, \"122\": 32, \"10\": 6, \"101\": 1}, \"111\": {\"111\": 152}, \"94\": {\"94\": 113, \"30\": 1, \"108\": 3, \"8\": 1}, \"38\": {\"38\": 19, \"91\": 1}, \"26\": {\"26\": 165, \"21\": 4, \"69\": 1, \"88\": 1, \"94\": 1}, \"12\": {\"12\": 129, \"88\": 2, \"21\": 1}, \"92\": {\"95\": 39}, \"30\": {\"30\": 66, \"70\": 1, \"108\": 1}, \"5\": {\"5\": 112, \"111\": 1, \"94\": 1}, \"7\": {\"7\": 157, \"3\": 8, \"87\": 18}, \"125\": {\"90\": 1, \"125\": 218}, \"27\": {\"27\": 81, \"36\": 34, \"8\": 1, \"21\": 2, \"18\": 1}, \"96\": {\"36\": 8, \"96\": 11, \"108\": 2, \"49\": 4, \"106\": 1, \"66\": 1, \"93\": 1}, \"120\": {\"89\": 16, \"45\": 3, \"32\": 4, \"88\": 1, \"61\": 1}, \"89\": {\"52\": 34, \"1\": 12}, \"101\": {\"101\": 155, \"8\": 1, \"81\": 1, \"97\": 1}, \"107\": {\"107\": 62, \"40\": 1, \"127\": 91, \"105\": 1}, \"88\": {\"108\": 129, \"27\": 42, \"36\": 2, \"59\": 1, \"21\": 1}, \"10\": {\"10\": 146, \"21\": 3, \"78\": 3}, \"4\": {\"4\": 125, \"21\": 2}, \"114\": {\"114\": 179, \"21\": 1}, \"33\": {\"33\": 195, \"21\": 1, \"90\": 1}, \"113\": {\"26\": 78, \"126\": 72, \"93\": 2, \"118\": 1, \"21\": 1, \"40\": 1}, \"24\": {\"36\": 4, \"108\": 92, \"27\": 19, \"21\": 1}, \"106\": {\"12\": 171, \"21\": 1, \"69\": 1, \"70\": 1}, \"16\": {\"16\": 113, \"18\": 21, \"21\": 2, \"26\": 1, \"118\": 1}, \"9\": {\"49\": 26, \"36\": 4, \"27\": 1, \"53\": 4, \"20\": 2, \"34\": 3}, \"81\": {\"14\": 11, \"107\": 27}, \"36\": {\"36\": 169, \"21\": 1, \"27\": 1}, \"51\": {\"75\": 8, \"34\": 12, \"98\": 1, \"6\": 1}, \"126\": {\"108\": 165, \"27\": 3, \"21\": 2}, \"17\": {\"46\": 19, \"4\": 1, \"38\": 1, \"17\": 1}, \"117\": {\"117\": 179, \"21\": 1}, \"100\": {\"93\": 7, \"119\": 4, \"85\": 2, \"2\": 6, \"36\": 2, \"49\": 1, \"53\": 1}, \"124\": {\"124\": 163}, \"121\": {\"121\": 41}, \"48\": {\"48\": 18}, \"19\": {\"19\": 37, \"47\": 1}, \"69\": {\"62\": 134, \"69\": 1, \"118\": 2, \"42\": 1}, \"119\": {\"119\": 23, \"21\": 1}, \"0\": {\"0\": 98, \"10\": 5, \"70\": 1, \"21\": 1, \"7\": 1}, \"31\": {\"49\": 10, \"31\": 7, \"51\": 1, \"60\": 4, \"85\": 1}, \"97\": {\"27\": 8, \"36\": 8, \"108\": 11}, \"21\": {\"88\": 12, \"30\": 1, \"21\": 36, \"70\": 2}, \"127\": {\"127\": 131, \"69\": 1, \"21\": 2, \"52\": 1, \"71\": 1}, \"50\": {\"62\": 8, \"126\": 1, \"50\": 5, \"14\": 5, \"32\": 2}, \"118\": {\"118\": 103, \"109\": 1, \"88\": 1}, \"91\": {\"91\": 39}, \"6\": {\"6\": 39, \"21\": 1}, \"32\": {\"128\": 34, \"61\": 1, \"32\": 1, \"72\": 5}, \"95\": {\"26\": 7, \"61\": 32, \"126\": 1, \"125\": 1, \"48\": 2, \"93\": 3, \"81\": 1}, \"28\": {\"28\": 24, \"57\": 1}, \"58\": {\"58\": 17, \"128\": 1, \"59\": 1}, \"99\": {\"49\": 9, \"119\": 21, \"53\": 1, \"29\": 1}, \"34\": {\"34\": 39, \"71\": 1}, \"129\": {\"129\": 36, \"61\": 1, \"21\": 1, \"2\": 1}, \"54\": {\"128\": 20, \"53\": 3}, \"80\": {\"115\": 19, \"93\": 1, \"106\": 1, \"50\": 1}, \"14\": {\"14\": 122}, \"60\": {\"23\": 8, \"110\": 7, \"60\": 6, \"96\": 1, \"21\": 1}, \"41\": {\"103\": 9, \"40\": 4, \"37\": 4, \"48\": 2, \"9\": 3, \"90\": 2}, \"122\": {\"122\": 101, \"21\": 3, \"87\": 5, \"118\": 2, \"88\": 1}, \"42\": {\"90\": 14, \"91\": 14, \"27\": 1, \"42\": 3, \"64\": 1, \"116\": 2, \"124\": 1}, \"76\": {\"109\": 9, \"118\": 9, \"62\": 2, \"74\": 3, \"89\": 1}, \"29\": {\"85\": 17, \"42\": 9, \"128\": 4, \"8\": 6, \"106\": 1}, \"112\": {\"56\": 4, \"98\": 10, \"91\": 8, \"111\": 1}, \"49\": {\"127\": 5, \"97\": 1, \"54\": 3, \"58\": 1, \"1\": 1, \"98\": 5, \"49\": 1, \"71\": 3, \"112\": 1, \"19\": 1, \"114\": 1, \"34\": 1, \"91\": 1}, \"61\": {\"90\": 6, \"116\": 1, \"29\": 3, \"9\": 7, \"48\": 1, \"128\": 1}, \"67\": {\"33\": 22}, \"22\": {\"116\": 8, \"90\": 14, \"21\": 1, \"30\": 1}, \"37\": {\"37\": 20, \"91\": 1, \"21\": 1}, \"83\": {\"91\": 15, \"56\": 7, \"19\": 11, \"21\": 1, \"34\": 1, \"88\": 1, \"41\": 1, \"28\": 1, \"124\": 1}, \"56\": {\"56\": 18}, \"53\": {\"75\": 21, \"98\": 1, \"59\": 1, \"71\": 2}, \"128\": {\"128\": 34}, \"123\": {\"123\": 23}, \"78\": {\"78\": 16, \"21\": 2, \"70\": 3, \"87\": 2, \"10\": 1}, \"86\": {\"59\": 20, \"125\": 9, \"103\": 2, \"21\": 1, \"4\": 3, \"91\": 3, \"29\": 10}, \"73\": {\"129\": 23, \"46\": 1, \"114\": 4, \"61\": 1}, \"85\": {\"95\": 42}, \"59\": {\"59\": 17, \"121\": 2}, \"57\": {\"57\": 18, \"106\": 1}, \"105\": {\"105\": 105, \"94\": 1, \"21\": 2}, \"46\": {\"79\": 3, \"88\": 1, \"59\": 1, \"124\": 1, \"5\": 7, \"98\": 1, \"91\": 1, \"119\": 1, \"6\": 1, \"48\": 1}, \"55\": {\"55\": 11, \"4\": 6}, \"65\": {\"57\": 9, \"5\": 1, \"116\": 7, \"121\": 1, \"126\": 1}, \"104\": {\"129\": 2, \"112\": 20, \"19\": 1}, \"20\": {\"20\": 19, \"32\": 2, \"16\": 2, \"106\": 1}, \"79\": {\"79\": 16, \"119\": 2}, \"77\": {\"98\": 13, \"99\": 6, \"46\": 1}, \"35\": {\"0\": 3, \"35\": 14}, \"63\": {\"63\": 20, \"123\": 1, \"121\": 1}, \"2\": {\"90\": 7, \"2\": 28, \"123\": 4, \"91\": 1, \"29\": 1}, \"74\": {\"74\": 22}, \"47\": {\"53\": 9, \"47\": 2, \"83\": 6}, \"68\": {\"128\": 16, \"68\": 7}, \"23\": {\"44\": 1, \"110\": 9, \"49\": 10, \"87\": 2, \"0\": 4, \"30\": 1, \"122\": 2, \"21\": 1}, \"25\": {\"79\": 12, \"20\": 7, \"119\": 1, \"21\": 1}, \"72\": {\"72\": 38, \"8\": 2}, \"45\": {\"45\": 6, \"29\": 7, \"21\": 1, \"110\": 1}, \"103\": {\"124\": 14, \"53\": 4, \"42\": 1, \"8\": 1, \"21\": 1, \"85\": 1}, \"75\": {\"127\": 19, \"128\": 1, \"19\": 1, \"91\": 1}}, \"2\": {\"98\": {\"98\": 150, \"44\": 1, \"33\": 1, \"90\": 1}, \"29\": {\"28\": 17, \"91\": 11, \"72\": 14, \"98\": 2}, \"7\": {\"7\": 166, \"10\": 2}, \"108\": {\"108\": 176}, \"35\": {\"35\": 17, \"62\": 1}, \"0\": {\"101\": 54, \"0\": 24, \"30\": 62, \"81\": 1, \"105\": 1, \"88\": 1, \"21\": 2, \"16\": 1, \"63\": 1, \"110\": 1}, \"26\": {\"26\": 172, \"21\": 4, \"88\": 2, \"127\": 1}, \"87\": {\"87\": 88, \"43\": 21, \"113\": 14, \"108\": 3, \"70\": 3, \"88\": 9, \"11\": 4, \"39\": 1}, \"70\": {\"70\": 130, \"21\": 7, \"108\": 1, \"11\": 2, \"39\": 4, \"88\": 9, \"16\": 1, \"82\": 1, \"121\": 1}, \"124\": {\"124\": 156, \"29\": 1}, \"118\": {\"118\": 82, \"109\": 1, \"21\": 1, \"88\": 2}, \"127\": {\"127\": 151, \"21\": 2, \"3\": 1, \"90\": 1, \"13\": 1}, \"102\": {\"102\": 156, \"88\": 1}, \"16\": {\"16\": 145, \"93\": 1, \"21\": 4, \"88\": 2, \"27\": 2, \"110\": 1}, \"28\": {\"128\": 3, \"91\": 19, \"88\": 3, \"69\": 1, \"79\": 1}, \"126\": {\"108\": 114, \"88\": 26, \"27\": 6, \"70\": 3, \"112\": 1}, \"4\": {\"4\": 107, \"88\": 5, \"84\": 1, \"21\": 1}, \"100\": {\"20\": 1, \"100\": 15, \"93\": 5, \"53\": 3}, \"93\": {\"93\": 201, \"113\": 1, \"16\": 6, \"88\": 1}, \"32\": {\"32\": 45, \"106\": 1}, \"39\": {\"39\": 121, \"21\": 17, \"126\": 2, \"84\": 1, \"88\": 3}, \"40\": {\"40\": 167, \"88\": 8, \"16\": 1, \"21\": 2}, \"111\": {\"111\": 179, \"7\": 1}, \"62\": {\"62\": 166, \"88\": 7, \"21\": 2}, \"75\": {\"75\": 22, \"98\": 1, \"88\": 1}, \"37\": {\"77\": 22, \"115\": 1, \"21\": 1}, \"43\": {\"43\": 109, \"87\": 39, \"18\": 1, \"88\": 1, \"21\": 1, \"11\": 2, \"70\": 3}, \"84\": {\"84\": 115, \"88\": 2, \"21\": 1}, \"88\": {\"88\": 150, \"70\": 1, \"21\": 3, \"39\": 2}, \"95\": {\"40\": 44, \"9\": 1, \"106\": 1}, \"19\": {\"19\": 36, \"101\": 1, \"90\": 1, \"46\": 1}, \"33\": {\"33\": 184, \"21\": 1}, \"14\": {\"14\": 54, \"21\": 4, \"88\": 4}, \"25\": {\"25\": 20, \"88\": 1}, \"69\": {\"69\": 169, \"26\": 1, \"21\": 4, \"14\": 1, \"88\": 3}, \"21\": {\"21\": 58, \"88\": 4}, \"101\": {\"101\": 196, \"0\": 2, \"81\": 1, \"12\": 1}, \"71\": {\"71\": 121, \"94\": 1, \"21\": 2, \"88\": 3, \"12\": 1, \"50\": 1}, \"125\": {\"125\": 205, \"121\": 1}, \"36\": {\"36\": 150, \"88\": 6, \"21\": 3, \"94\": 2, \"27\": 1}, \"8\": {\"8\": 157, \"11\": 1, \"110\": 1, \"21\": 1, \"36\": 1}, \"15\": {\"15\": 136, \"36\": 2, \"94\": 9, \"21\": 4}, \"56\": {\"56\": 17}, \"106\": {\"106\": 148, \"94\": 1, \"88\": 2, \"36\": 1}, \"121\": {\"121\": 44, \"88\": 1}, \"86\": {\"104\": 29, \"45\": 11, \"4\": 2, \"124\": 1}, \"5\": {\"5\": 139, \"21\": 2, \"88\": 1}, \"90\": {\"90\": 237, \"107\": 1}, \"122\": {\"122\": 162, \"110\": 6, \"70\": 1, \"30\": 5, \"18\": 1, \"87\": 1, \"21\": 1}, \"78\": {\"21\": 56, \"88\": 1, \"78\": 1, \"70\": 2, \"18\": 1, \"84\": 1, \"127\": 1}, \"83\": {\"90\": 13, \"53\": 21, \"64\": 14, \"93\": 1, \"33\": 1}, \"27\": {\"36\": 56, \"27\": 24, \"21\": 3, \"88\": 4, \"30\": 1, \"48\": 1}, \"51\": {\"88\": 3, \"15\": 2, \"98\": 5, \"75\": 4, \"51\": 10, \"25\": 1}, \"44\": {\"44\": 118, \"53\": 1, \"49\": 2, \"1\": 1, \"88\": 1, \"31\": 1, \"98\": 4, \"3\": 1}, \"114\": {\"114\": 142, \"21\": 3, \"7\": 1, \"8\": 1}, \"18\": {\"18\": 155, \"21\": 5, \"88\": 1}, \"54\": {\"72\": 3, \"9\": 19, \"99\": 1, \"125\": 2, \"56\": 1, \"98\": 1}, \"61\": {\"9\": 21, \"128\": 2, \"88\": 1, \"57\": 1}, \"12\": {\"12\": 107, \"21\": 4}, \"6\": {\"6\": 42}, \"109\": {\"21\": 81, \"88\": 2, \"39\": 37, \"109\": 3, \"61\": 1, \"127\": 1}, \"11\": {\"108\": 99, \"88\": 1, \"21\": 2, \"13\": 1}, \"105\": {\"40\": 109, \"62\": 47, \"21\": 1, \"88\": 2, \"105\": 2, \"7\": 2, \"127\": 1, \"122\": 1}, \"107\": {\"107\": 78, \"88\": 1, \"21\": 1, \"63\": 1, \"58\": 1, \"106\": 1, \"36\": 1}, \"3\": {\"3\": 165, \"88\": 3, \"18\": 1, \"21\": 2, \"44\": 1, \"111\": 1}, \"81\": {\"117\": 29, \"18\": 2, \"45\": 1, \"90\": 1}, \"13\": {\"13\": 20, \"70\": 1, \"21\": 1, \"2\": 1}, \"117\": {\"117\": 149, \"112\": 1, \"21\": 1}, \"123\": {\"116\": 18, \"57\": 3, \"124\": 1, \"90\": 1}, \"53\": {\"85\": 19, \"49\": 3, \"114\": 1, \"31\": 1}, \"34\": {\"34\": 42}, \"119\": {\"2\": 13, \"64\": 7, \"80\": 2, \"98\": 1, \"100\": 1, \"102\": 2, \"90\": 1}, \"38\": {\"103\": 17, \"95\": 5}, \"57\": {\"32\": 15, \"29\": 2, \"67\": 4, \"20\": 2, \"88\": 1, \"90\": 1}, \"89\": {\"89\": 47, \"88\": 1, \"21\": 1}, \"129\": {\"129\": 37, \"106\": 1, \"124\": 1, \"42\": 1}, \"49\": {\"49\": 29, \"47\": 1, \"90\": 1}, \"116\": {\"116\": 36, \"90\": 1}, \"1\": {\"1\": 156, \"84\": 1}, \"31\": {\"14\": 8, \"89\": 4, \"50\": 14}, \"59\": {\"91\": 17, \"88\": 2, \"128\": 1}, \"30\": {\"30\": 134, \"108\": 1, \"21\": 2, \"88\": 3, \"54\": 1}, \"24\": {\"24\": 56, \"88\": 38, \"70\": 4, \"27\": 23, \"108\": 10, \"21\": 9}, \"20\": {\"93\": 12, \"64\": 6, \"88\": 1, \"96\": 2, \"83\": 1, \"81\": 1, \"53\": 1}, \"96\": {\"92\": 1, \"93\": 26, \"124\": 1}, \"23\": {\"23\": 51, \"110\": 1, \"8\": 1, \"113\": 3, \"88\": 1, \"96\": 1, \"108\": 1}, \"85\": {\"85\": 42, \"114\": 1}, \"67\": {\"33\": 17, \"102\": 1, \"104\": 1, \"115\": 4, \"69\": 1}, \"120\": {\"120\": 24, \"88\": 1}, \"115\": {\"103\": 19}, \"110\": {\"110\": 49, \"21\": 1, \"58\": 1, \"88\": 1, \"127\": 1, \"60\": 1}, \"50\": {\"50\": 22}, \"72\": {\"93\": 36, \"21\": 1, \"88\": 1, \"108\": 1}, \"113\": {\"113\": 92, \"21\": 1, \"126\": 1}, \"94\": {\"88\": 2, \"94\": 70, \"21\": 6, \"84\": 1, \"36\": 2}, \"48\": {\"48\": 23, \"79\": 1, \"123\": 1}, \"128\": {\"128\": 31, \"44\": 1}, \"60\": {\"60\": 39}, \"10\": {\"10\": 69, \"78\": 4, \"62\": 1, \"21\": 3, \"88\": 1}, \"9\": {\"101\": 39, \"72\": 2, \"35\": 3}, \"2\": {\"2\": 39, \"117\": 1}, \"52\": {\"128\": 18, \"47\": 1, \"85\": 3, \"25\": 2, \"99\": 1, \"35\": 1}, \"47\": {\"47\": 18, \"124\": 1}, \"65\": {\"65\": 23, \"63\": 1, \"21\": 2, \"64\": 1}, \"66\": {\"66\": 22, \"84\": 1, \"32\": 1, \"88\": 1}, \"80\": {\"115\": 16, \"22\": 1, \"117\": 1, \"45\": 1, \"50\": 1}, \"82\": {\"82\": 44, \"45\": 1}, \"63\": {\"74\": 10, \"57\": 14, \"62\": 1, \"90\": 1}, \"45\": {\"45\": 18, \"118\": 1, \"88\": 1, \"124\": 2, \"110\": 1, \"36\": 1}, \"77\": {\"77\": 22, \"21\": 1, \"91\": 1}, \"99\": {\"119\": 34, \"20\": 2, \"23\": 3, \"53\": 1, \"96\": 1}, \"64\": {\"38\": 17, \"104\": 6, \"88\": 1}, \"73\": {\"129\": 12, \"46\": 22, \"66\": 1, \"21\": 1, \"106\": 1}, \"22\": {\"22\": 25}, \"17\": {\"17\": 17, \"91\": 1, \"126\": 1, \"88\": 1, \"104\": 3, \"21\": 1}, \"97\": {\"97\": 24, \"127\": 3, \"15\": 1}, \"55\": {\"55\": 22, \"62\": 1, \"50\": 1}, \"42\": {\"42\": 36}, \"46\": {\"112\": 18, \"90\": 1, \"5\": 4, \"21\": 1}, \"68\": {\"68\": 22, \"21\": 1}, \"92\": {\"69\": 1, \"89\": 31, \"92\": 1, \"76\": 2, \"21\": 1}, \"104\": {\"104\": 28}, \"91\": {\"91\": 34, \"37\": 1}, \"112\": {\"19\": 7, \"73\": 1, \"112\": 9, \"98\": 2, \"46\": 3, \"72\": 1, \"129\": 1}, \"76\": {\"76\": 24}, \"74\": {\"74\": 24}, \"103\": {\"58\": 23, \"7\": 1}, \"58\": {\"58\": 26, \"21\": 1}, \"41\": {\"125\": 21, \"29\": 4}, \"79\": {\"65\": 16, \"6\": 2, \"45\": 1, \"104\": 1}}}, \"per_domain_accuracy\": {\"4\": {\"accuracy\": 0.7575728249298365, \"source?\": false}, \"3\": {\"accuracy\": 0.9658486707566463, \"source?\": true}, \"1\": {\"accuracy\": 0.6277552634180092, \"source?\": false}, \"2\": {\"accuracy\": 0.7689117124234643, \"source?\": false}}}, \"history\": {\"epoch_indices\": [1, 2, 3, 4, 5, 6, 7, 8, 9, 10, 11], \"train_label_loss\": [2.6650989922308326, 0.847539528332713, 0.39386928347159894, 0.25185662867049985, 0.19150772869254884, 0.1532133407164417, 0.13228506067752174, 0.10888639607137292, 0.09683179996990726, 0.0869010187592098, 0.07920388220277587], \"source_val_label_loss\": [1.2925033430000403, 0.4993338298487973, 0.33245728174587347, 0.28546527840874414, 0.261150538534313, 0.21039308452761019, 0.17434833513258338, 0.1685240077604721, 0.2770279926526082, 0.21530275162938353, 0.18076196317742396], \"target_val_label_loss\": [2.107519507408142, 1.61978819180732, 1.5675113884474943, 1.5394355592368536, 1.5412107017748526, 1.6437278447290844, 1.4678303382386721, 1.4830638736361739, 1.7327580437001824, 1.5984008985583253, 1.5657315194357388], \"source_val_acc_label\": [0.8647239263803681, 0.9310838445807771, 0.9560327198364008, 0.9530674846625767, 0.941717791411043, 0.9547034764826176, 0.9658486707566463, 0.969120654396728, 0.9371165644171779, 0.9537832310838446, 0.9667689161554193], \"target_val_acc_label\": [0.6102171637885924, 0.6667974882260597, 0.6816130298273155, 0.6749411302982732, 0.6665358451072737, 0.6652276295133438, 0.7183738880167452, 0.7150052328623757, 0.6788657770800628, 0.6864861329147044, 0.6879578754578755]}, \"dataset_metrics\": {\"source\": {\"train\": {\"n_unique_x\": 45862, \"n_unique_y\": 130, \"n_batch/episode\": 359}, \"val\": {\"n_unique_x\": 9780, \"n_unique_y\": 130, \"n_batch/episode\": 77}, \"test\": {\"n_unique_x\": 9967, \"n_unique_y\": 130, \"n_batch/episode\": 78}}, \"target\": {\"train\": {\"n_unique_x\": 143327, \"n_unique_y\": 130, \"n_batch/episode\": 1120}, \"val\": {\"n_unique_x\": 30576, \"n_unique_y\": 130, \"n_batch/episode\": 239}, \"test\": {\"n_unique_x\": 31104, \"n_unique_y\": 130, \"n_batch/episode\": 243}}}}'"
      ]
     },
     "execution_count": 20,
     "metadata": {},
     "output_type": "execute_result"
    }
   ],
   "source": [
    "json.dumps(experiment)"
   ]
  }
 ],
 "metadata": {
  "celltoolbar": "Tags",
  "kernelspec": {
   "display_name": "Python 3 (ipykernel)",
   "language": "python",
   "name": "python3"
  },
  "language_info": {
   "codemirror_mode": {
    "name": "ipython",
    "version": 3
   },
   "file_extension": ".py",
   "mimetype": "text/x-python",
   "name": "python",
   "nbconvert_exporter": "python",
   "pygments_lexer": "ipython3",
   "version": "3.8.12"
  },
  "papermill": {
   "default_parameters": {},
   "duration": 89.316094,
   "end_time": "2022-03-26T02:23:22.337726",
   "environment_variables": {},
   "exception": null,
   "input_path": "/root/csc500-main/csc500-notebooks/templates/cnn_template.ipynb",
   "output_path": "trial.ipynb",
   "parameters": {
    "parameters": {
     "BEST_MODEL_PATH": "./best_model.pth",
     "NUM_LOGS_PER_EPOCH": 10,
     "batch_size": 128,
     "criteria_for_best": "target_accuracy",
     "dataset_seed": 7,
     "device": "cuda",
     "domains_source": [
      3
     ],
     "domains_target": [
      1,
      2,
      4
     ],
     "experiment_name": "cnn_1:wisig",
     "labels": [
      "1-10",
      "1-12",
      "1-14",
      "1-16",
      "1-18",
      "1-19",
      "1-8",
      "10-11",
      "10-17",
      "10-4",
      "10-7",
      "11-1",
      "11-10",
      "11-19",
      "11-20",
      "11-4",
      "11-7",
      "12-19",
      "12-20",
      "12-7",
      "13-14",
      "13-18",
      "13-19",
      "13-20",
      "13-3",
      "13-7",
      "14-10",
      "14-11",
      "14-12",
      "14-13",
      "14-14",
      "14-19",
      "14-20",
      "14-7",
      "14-8",
      "14-9",
      "15-1",
      "15-19",
      "15-6",
      "16-1",
      "16-16",
      "16-19",
      "16-20",
      "17-10",
      "17-11",
      "18-1",
      "18-10",
      "18-11",
      "18-12",
      "18-13",
      "18-14",
      "18-15",
      "18-16",
      "18-17",
      "18-19",
      "18-2",
      "18-20",
      "18-4",
      "18-5",
      "18-7",
      "18-8",
      "18-9",
      "19-1",
      "19-10",
      "19-11",
      "19-12",
      "19-13",
      "19-14",
      "19-15",
      "19-19",
      "19-2",
      "19-20",
      "19-3",
      "19-4",
      "19-6",
      "19-7",
      "19-8",
      "19-9",
      "2-1",
      "2-13",
      "2-15",
      "2-3",
      "2-4",
      "2-5",
      "2-6",
      "2-7",
      "2-8",
      "20-1",
      "20-12",
      "20-14",
      "20-15",
      "20-16",
      "20-18",
      "20-19",
      "20-20",
      "20-3",
      "20-4",
      "20-5",
      "20-7",
      "20-8",
      "3-1",
      "3-13",
      "3-18",
      "3-2",
      "3-8",
      "4-1",
      "4-10",
      "4-11",
      "5-1",
      "5-5",
      "6-1",
      "6-15",
      "6-6",
      "7-10",
      "7-11",
      "7-12",
      "7-13",
      "7-14",
      "7-7",
      "7-8",
      "7-9",
      "8-1",
      "8-13",
      "8-14",
      "8-18",
      "8-20",
      "8-3",
      "8-8",
      "9-1",
      "9-7"
     ],
     "lr": 0.0001,
     "n_epoch": 50,
     "normalize_source": false,
     "normalize_target": false,
     "num_examples_per_domain_per_label_source": -1,
     "num_examples_per_domain_per_label_target": -1,
     "patience": 3,
     "pickle_name_source": "wisig.node3-19.stratified_ds.2022A.pkl",
     "pickle_name_target": "wisig.node3-19.stratified_ds.2022A.pkl",
     "seed": 7,
     "torch_default_dtype": "torch.float32",
     "x_net": [
      {
       "class": "nnReshape",
       "kargs": {
        "shape": [
         -1,
         1,
         2,
         256
        ]
       }
      },
      {
       "class": "Conv2d",
       "kargs": {
        "bias": false,
        "in_channels": 1,
        "kernel_size": [
         1,
         7
        ],
        "out_channels": 256,
        "padding": [
         0,
         3
        ]
       }
      },
      {
       "class": "ReLU",
       "kargs": {
        "inplace": true
       }
      },
      {
       "class": "BatchNorm2d",
       "kargs": {
        "num_features": 256
       }
      },
      {
       "class": "Conv2d",
       "kargs": {
        "bias": true,
        "in_channels": 256,
        "kernel_size": [
         2,
         7
        ],
        "out_channels": 80,
        "padding": [
         0,
         3
        ]
       }
      },
      {
       "class": "ReLU",
       "kargs": {
        "inplace": true
       }
      },
      {
       "class": "BatchNorm2d",
       "kargs": {
        "num_features": 80
       }
      },
      {
       "class": "Flatten",
       "kargs": {}
      },
      {
       "class": "Linear",
       "kargs": {
        "in_features": 20480,
        "out_features": 256
       }
      },
      {
       "class": "ReLU",
       "kargs": {
        "inplace": true
       }
      },
      {
       "class": "BatchNorm1d",
       "kargs": {
        "num_features": 256
       }
      },
      {
       "class": "Linear",
       "kargs": {
        "in_features": 256,
        "out_features": 130
       }
      }
     ]
    }
   },
   "start_time": "2022-03-26T02:21:53.021632",
   "version": "2.3.4"
  }
 },
 "nbformat": 4,
 "nbformat_minor": 5
}