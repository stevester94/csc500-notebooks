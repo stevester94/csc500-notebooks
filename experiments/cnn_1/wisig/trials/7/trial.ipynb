{
 "cells": [
  {
   "cell_type": "code",
   "execution_count": 1,
   "id": "2324682e",
   "metadata": {
    "execution": {
     "iopub.execute_input": "2022-03-26T02:15:07.360061Z",
     "iopub.status.busy": "2022-03-26T02:15:07.354448Z",
     "iopub.status.idle": "2022-03-26T02:15:08.665554Z",
     "shell.execute_reply": "2022-03-26T02:15:08.664638Z"
    },
    "papermill": {
     "duration": 1.34475,
     "end_time": "2022-03-26T02:15:08.665750",
     "exception": false,
     "start_time": "2022-03-26T02:15:07.321000",
     "status": "completed"
    },
    "tags": []
   },
   "outputs": [],
   "source": [
    "import os, json, sys, time, random\n",
    "import numpy as np\n",
    "import torch\n",
    "from  easydict import EasyDict\n",
    "from math import floor\n",
    "from easydict import EasyDict\n",
    "\n",
    "from steves_utils.vanilla_train_eval_test_jig import  Vanilla_Train_Eval_Test_Jig\n",
    "\n",
    "from steves_utils.torch_utils import get_dataset_metrics, independent_accuracy_assesment\n",
    "from steves_models.configurable_vanilla import Configurable_Vanilla\n",
    "from steves_utils.torch_sequential_builder import build_sequential\n",
    "from steves_utils.lazy_map import Lazy_Map\n",
    "from steves_utils.sequence_aggregator import Sequence_Aggregator\n",
    "\n",
    "from steves_utils.stratified_dataset.traditional_accessor import Traditional_Accessor_Factory\n",
    "\n",
    "from steves_utils.cnn_do_report import (\n",
    "    get_loss_curve,\n",
    "    get_results_table,\n",
    "    get_parameters_table,\n",
    "    get_domain_accuracies,\n",
    ")\n",
    "\n",
    "from steves_utils.torch_utils import (\n",
    "    confusion_by_domain_over_dataloader,\n",
    "    independent_accuracy_assesment\n",
    ")\n",
    "\n",
    "from steves_utils.utils_v2 import (\n",
    "    per_domain_accuracy_from_confusion,\n",
    "    get_datasets_base_path\n",
    ")\n",
    "\n",
    "# from steves_utils.ptn_do_report import TBD"
   ]
  },
  {
   "cell_type": "code",
   "execution_count": 2,
   "id": "1b29e3fe",
   "metadata": {
    "execution": {
     "iopub.execute_input": "2022-03-26T02:15:08.702424Z",
     "iopub.status.busy": "2022-03-26T02:15:08.702037Z",
     "iopub.status.idle": "2022-03-26T02:15:08.705088Z",
     "shell.execute_reply": "2022-03-26T02:15:08.705766Z"
    },
    "papermill": {
     "duration": 0.022539,
     "end_time": "2022-03-26T02:15:08.705955",
     "exception": false,
     "start_time": "2022-03-26T02:15:08.683416",
     "status": "completed"
    },
    "tags": []
   },
   "outputs": [],
   "source": [
    "required_parameters = {\n",
    "    \"experiment_name\",\n",
    "    \"lr\",\n",
    "    \"device\",\n",
    "    \"dataset_seed\",\n",
    "    \"seed\",\n",
    "    \"labels\",\n",
    "    \"domains_target\",\n",
    "    \"domains_source\",\n",
    "    \"num_examples_per_domain_per_label_source\",\n",
    "    \"num_examples_per_domain_per_label_target\",\n",
    "    \"batch_size\",\n",
    "    \"n_epoch\",\n",
    "    \"patience\",\n",
    "    \"criteria_for_best\",\n",
    "    \"normalize_source\",\n",
    "    \"normalize_target\",\n",
    "    \"x_net\",\n",
    "    \"NUM_LOGS_PER_EPOCH\",\n",
    "    \"BEST_MODEL_PATH\",\n",
    "    \"pickle_name_source\",\n",
    "    \"pickle_name_target\",\n",
    "    \"torch_default_dtype\",\n",
    "}"
   ]
  },
  {
   "cell_type": "code",
   "execution_count": 3,
   "id": "670b5fb8",
   "metadata": {
    "execution": {
     "iopub.execute_input": "2022-03-26T02:15:08.752621Z",
     "iopub.status.busy": "2022-03-26T02:15:08.741243Z",
     "iopub.status.idle": "2022-03-26T02:15:08.759958Z",
     "shell.execute_reply": "2022-03-26T02:15:08.759126Z"
    },
    "papermill": {
     "duration": 0.034796,
     "end_time": "2022-03-26T02:15:08.760120",
     "exception": false,
     "start_time": "2022-03-26T02:15:08.725324",
     "status": "completed"
    },
    "tags": [
     "parameters"
    ]
   },
   "outputs": [],
   "source": [
    "from steves_utils.ORACLE.utils_v2 import (\n",
    "    ALL_SERIAL_NUMBERS,\n",
    "    ALL_DISTANCES_FEET_NARROWED,\n",
    ")\n",
    "\n",
    "standalone_parameters = {}\n",
    "standalone_parameters[\"experiment_name\"] = \"MANUAL CORES CNN\"\n",
    "standalone_parameters[\"lr\"] = 0.0001\n",
    "standalone_parameters[\"device\"] = \"cuda\"\n",
    "\n",
    "standalone_parameters[\"dataset_seed\"] = 1337\n",
    "standalone_parameters[\"seed\"] = 1337\n",
    "standalone_parameters[\"labels\"] = ALL_SERIAL_NUMBERS\n",
    "\n",
    "standalone_parameters[\"domains_source\"] = [8,32,50]\n",
    "standalone_parameters[\"domains_target\"] = [14,20,26,38,44,]\n",
    "\n",
    "standalone_parameters[\"num_examples_per_domain_per_label_source\"]=-1\n",
    "standalone_parameters[\"num_examples_per_domain_per_label_target\"]=-1\n",
    "\n",
    "standalone_parameters[\"pickle_name_source\"] = \"oracle.Run1_framed_2000Examples_stratified_ds.2022A.pkl\"\n",
    "standalone_parameters[\"pickle_name_target\"] = \"oracle.Run2_framed_2000Examples_stratified_ds.2022A.pkl\"\n",
    "\n",
    "standalone_parameters[\"torch_default_dtype\"] = \"torch.float32\" \n",
    "\n",
    "standalone_parameters[\"batch_size\"]=128\n",
    "\n",
    "standalone_parameters[\"n_epoch\"] = 3\n",
    "\n",
    "standalone_parameters[\"patience\"] = 10\n",
    "\n",
    "standalone_parameters[\"criteria_for_best\"] = \"target_accuracy\"\n",
    "standalone_parameters[\"normalize_source\"] = False\n",
    "standalone_parameters[\"normalize_target\"] = False\n",
    "\n",
    "standalone_parameters[\"x_net\"] =     [\n",
    "    {\"class\": \"nnReshape\", \"kargs\": {\"shape\":[-1, 1, 2, 256]}},\n",
    "    {\"class\": \"Conv2d\", \"kargs\": { \"in_channels\":1, \"out_channels\":256, \"kernel_size\":(1,7), \"bias\":False, \"padding\":(0,3), },},\n",
    "    {\"class\": \"ReLU\", \"kargs\": {\"inplace\": True}},\n",
    "    {\"class\": \"BatchNorm2d\", \"kargs\": {\"num_features\":256}},\n",
    "\n",
    "    {\"class\": \"Conv2d\", \"kargs\": { \"in_channels\":256, \"out_channels\":80, \"kernel_size\":(2,7), \"bias\":True, \"padding\":(0,3), },},\n",
    "    {\"class\": \"ReLU\", \"kargs\": {\"inplace\": True}},\n",
    "    {\"class\": \"BatchNorm2d\", \"kargs\": {\"num_features\":80}},\n",
    "    {\"class\": \"Flatten\", \"kargs\": {}},\n",
    "\n",
    "    {\"class\": \"Linear\", \"kargs\": {\"in_features\": 80*256, \"out_features\": 256}}, # 80 units per IQ pair\n",
    "    {\"class\": \"ReLU\", \"kargs\": {\"inplace\": True}},\n",
    "    {\"class\": \"BatchNorm1d\", \"kargs\": {\"num_features\":256}},\n",
    "\n",
    "    {\"class\": \"Linear\", \"kargs\": {\"in_features\": 256, \"out_features\": len(standalone_parameters[\"labels\"])}},\n",
    "]\n",
    "\n",
    "standalone_parameters[\"NUM_LOGS_PER_EPOCH\"] = 10\n",
    "standalone_parameters[\"BEST_MODEL_PATH\"] = \"./best_model.pth\""
   ]
  },
  {
   "cell_type": "code",
   "execution_count": 4,
   "id": "80403cd6",
   "metadata": {
    "execution": {
     "iopub.execute_input": "2022-03-26T02:15:08.815822Z",
     "iopub.status.busy": "2022-03-26T02:15:08.814810Z",
     "iopub.status.idle": "2022-03-26T02:15:08.817655Z",
     "shell.execute_reply": "2022-03-26T02:15:08.816846Z"
    },
    "papermill": {
     "duration": 0.035582,
     "end_time": "2022-03-26T02:15:08.817817",
     "exception": false,
     "start_time": "2022-03-26T02:15:08.782235",
     "status": "completed"
    },
    "tags": [
     "injected-parameters"
    ]
   },
   "outputs": [],
   "source": [
    "# Parameters\n",
    "parameters = {\n",
    "    \"experiment_name\": \"cnn_1:wisig\",\n",
    "    \"labels\": [\n",
    "        \"1-10\",\n",
    "        \"1-12\",\n",
    "        \"1-14\",\n",
    "        \"1-16\",\n",
    "        \"1-18\",\n",
    "        \"1-19\",\n",
    "        \"1-8\",\n",
    "        \"10-11\",\n",
    "        \"10-17\",\n",
    "        \"10-4\",\n",
    "        \"10-7\",\n",
    "        \"11-1\",\n",
    "        \"11-10\",\n",
    "        \"11-19\",\n",
    "        \"11-20\",\n",
    "        \"11-4\",\n",
    "        \"11-7\",\n",
    "        \"12-19\",\n",
    "        \"12-20\",\n",
    "        \"12-7\",\n",
    "        \"13-14\",\n",
    "        \"13-18\",\n",
    "        \"13-19\",\n",
    "        \"13-20\",\n",
    "        \"13-3\",\n",
    "        \"13-7\",\n",
    "        \"14-10\",\n",
    "        \"14-11\",\n",
    "        \"14-12\",\n",
    "        \"14-13\",\n",
    "        \"14-14\",\n",
    "        \"14-19\",\n",
    "        \"14-20\",\n",
    "        \"14-7\",\n",
    "        \"14-8\",\n",
    "        \"14-9\",\n",
    "        \"15-1\",\n",
    "        \"15-19\",\n",
    "        \"15-6\",\n",
    "        \"16-1\",\n",
    "        \"16-16\",\n",
    "        \"16-19\",\n",
    "        \"16-20\",\n",
    "        \"17-10\",\n",
    "        \"17-11\",\n",
    "        \"18-1\",\n",
    "        \"18-10\",\n",
    "        \"18-11\",\n",
    "        \"18-12\",\n",
    "        \"18-13\",\n",
    "        \"18-14\",\n",
    "        \"18-15\",\n",
    "        \"18-16\",\n",
    "        \"18-17\",\n",
    "        \"18-19\",\n",
    "        \"18-2\",\n",
    "        \"18-20\",\n",
    "        \"18-4\",\n",
    "        \"18-5\",\n",
    "        \"18-7\",\n",
    "        \"18-8\",\n",
    "        \"18-9\",\n",
    "        \"19-1\",\n",
    "        \"19-10\",\n",
    "        \"19-11\",\n",
    "        \"19-12\",\n",
    "        \"19-13\",\n",
    "        \"19-14\",\n",
    "        \"19-15\",\n",
    "        \"19-19\",\n",
    "        \"19-2\",\n",
    "        \"19-20\",\n",
    "        \"19-3\",\n",
    "        \"19-4\",\n",
    "        \"19-6\",\n",
    "        \"19-7\",\n",
    "        \"19-8\",\n",
    "        \"19-9\",\n",
    "        \"2-1\",\n",
    "        \"2-13\",\n",
    "        \"2-15\",\n",
    "        \"2-3\",\n",
    "        \"2-4\",\n",
    "        \"2-5\",\n",
    "        \"2-6\",\n",
    "        \"2-7\",\n",
    "        \"2-8\",\n",
    "        \"20-1\",\n",
    "        \"20-12\",\n",
    "        \"20-14\",\n",
    "        \"20-15\",\n",
    "        \"20-16\",\n",
    "        \"20-18\",\n",
    "        \"20-19\",\n",
    "        \"20-20\",\n",
    "        \"20-3\",\n",
    "        \"20-4\",\n",
    "        \"20-5\",\n",
    "        \"20-7\",\n",
    "        \"20-8\",\n",
    "        \"3-1\",\n",
    "        \"3-13\",\n",
    "        \"3-18\",\n",
    "        \"3-2\",\n",
    "        \"3-8\",\n",
    "        \"4-1\",\n",
    "        \"4-10\",\n",
    "        \"4-11\",\n",
    "        \"5-1\",\n",
    "        \"5-5\",\n",
    "        \"6-1\",\n",
    "        \"6-15\",\n",
    "        \"6-6\",\n",
    "        \"7-10\",\n",
    "        \"7-11\",\n",
    "        \"7-12\",\n",
    "        \"7-13\",\n",
    "        \"7-14\",\n",
    "        \"7-7\",\n",
    "        \"7-8\",\n",
    "        \"7-9\",\n",
    "        \"8-1\",\n",
    "        \"8-13\",\n",
    "        \"8-14\",\n",
    "        \"8-18\",\n",
    "        \"8-20\",\n",
    "        \"8-3\",\n",
    "        \"8-8\",\n",
    "        \"9-1\",\n",
    "        \"9-7\",\n",
    "    ],\n",
    "    \"domains_source\": [3],\n",
    "    \"domains_target\": [1, 2, 4],\n",
    "    \"pickle_name_target\": \"wisig.node3-19.stratified_ds.2022A.pkl\",\n",
    "    \"pickle_name_source\": \"wisig.node3-19.stratified_ds.2022A.pkl\",\n",
    "    \"device\": \"cuda\",\n",
    "    \"lr\": 0.0001,\n",
    "    \"batch_size\": 128,\n",
    "    \"normalize_source\": False,\n",
    "    \"normalize_target\": False,\n",
    "    \"num_examples_per_domain_per_label_source\": -1,\n",
    "    \"num_examples_per_domain_per_label_target\": -1,\n",
    "    \"torch_default_dtype\": \"torch.float32\",\n",
    "    \"n_epoch\": 50,\n",
    "    \"patience\": 3,\n",
    "    \"criteria_for_best\": \"target_accuracy\",\n",
    "    \"x_net\": [\n",
    "        {\"class\": \"nnReshape\", \"kargs\": {\"shape\": [-1, 1, 2, 256]}},\n",
    "        {\n",
    "            \"class\": \"Conv2d\",\n",
    "            \"kargs\": {\n",
    "                \"in_channels\": 1,\n",
    "                \"out_channels\": 256,\n",
    "                \"kernel_size\": [1, 7],\n",
    "                \"bias\": False,\n",
    "                \"padding\": [0, 3],\n",
    "            },\n",
    "        },\n",
    "        {\"class\": \"ReLU\", \"kargs\": {\"inplace\": True}},\n",
    "        {\"class\": \"BatchNorm2d\", \"kargs\": {\"num_features\": 256}},\n",
    "        {\n",
    "            \"class\": \"Conv2d\",\n",
    "            \"kargs\": {\n",
    "                \"in_channels\": 256,\n",
    "                \"out_channels\": 80,\n",
    "                \"kernel_size\": [2, 7],\n",
    "                \"bias\": True,\n",
    "                \"padding\": [0, 3],\n",
    "            },\n",
    "        },\n",
    "        {\"class\": \"ReLU\", \"kargs\": {\"inplace\": True}},\n",
    "        {\"class\": \"BatchNorm2d\", \"kargs\": {\"num_features\": 80}},\n",
    "        {\"class\": \"Flatten\", \"kargs\": {}},\n",
    "        {\"class\": \"Linear\", \"kargs\": {\"in_features\": 20480, \"out_features\": 256}},\n",
    "        {\"class\": \"ReLU\", \"kargs\": {\"inplace\": True}},\n",
    "        {\"class\": \"BatchNorm1d\", \"kargs\": {\"num_features\": 256}},\n",
    "        {\"class\": \"Linear\", \"kargs\": {\"in_features\": 256, \"out_features\": 130}},\n",
    "    ],\n",
    "    \"NUM_LOGS_PER_EPOCH\": 10,\n",
    "    \"BEST_MODEL_PATH\": \"./best_model.pth\",\n",
    "    \"dataset_seed\": 500,\n",
    "    \"seed\": 500,\n",
    "}\n"
   ]
  },
  {
   "cell_type": "code",
   "execution_count": 5,
   "id": "759b56ec",
   "metadata": {
    "execution": {
     "iopub.execute_input": "2022-03-26T02:15:08.857230Z",
     "iopub.status.busy": "2022-03-26T02:15:08.856858Z",
     "iopub.status.idle": "2022-03-26T02:15:08.859233Z",
     "shell.execute_reply": "2022-03-26T02:15:08.858867Z"
    },
    "papermill": {
     "duration": 0.021947,
     "end_time": "2022-03-26T02:15:08.859308",
     "exception": false,
     "start_time": "2022-03-26T02:15:08.837361",
     "status": "completed"
    },
    "tags": []
   },
   "outputs": [],
   "source": [
    "# Set this to True if you want to run this template directly\n",
    "STANDALONE = False\n",
    "if STANDALONE:\n",
    "    print(\"parameters not injected, running with standalone_parameters\")\n",
    "    parameters = standalone_parameters\n",
    "\n",
    "if not 'parameters' in locals() and not 'parameters' in globals():\n",
    "    raise Exception(\"Parameter injection failed\")\n",
    "\n",
    "#Use an easy dict for all the parameters\n",
    "p = EasyDict(parameters)\n",
    "\n",
    "supplied_keys = set(p.keys())\n",
    "\n",
    "if  supplied_keys != required_parameters:\n",
    "    print(\"Parameters are incorrect\")\n",
    "    if len(supplied_keys - required_parameters)>0: print(\"Shouldn't have:\", str(supplied_keys - required_parameters))\n",
    "    if len(required_parameters - supplied_keys)>0: print(\"Need to have:\", str(required_parameters - supplied_keys))\n",
    "    raise RuntimeError(\"Parameters are incorrect\")\n",
    "\n"
   ]
  },
  {
   "cell_type": "code",
   "execution_count": 6,
   "id": "d5c66a71",
   "metadata": {
    "execution": {
     "iopub.execute_input": "2022-03-26T02:15:08.895550Z",
     "iopub.status.busy": "2022-03-26T02:15:08.895171Z",
     "iopub.status.idle": "2022-03-26T02:15:08.898851Z",
     "shell.execute_reply": "2022-03-26T02:15:08.899152Z"
    },
    "papermill": {
     "duration": 0.022066,
     "end_time": "2022-03-26T02:15:08.899239",
     "exception": false,
     "start_time": "2022-03-26T02:15:08.877173",
     "status": "completed"
    },
    "tags": []
   },
   "outputs": [],
   "source": [
    "###################################\n",
    "# Set the RNGs and make it all deterministic\n",
    "###################################\n",
    "np.random.seed(p.seed)\n",
    "random.seed(p.seed)\n",
    "torch.manual_seed(p.seed)\n",
    "\n",
    "torch.use_deterministic_algorithms(True) "
   ]
  },
  {
   "cell_type": "code",
   "execution_count": 7,
   "id": "92a65876",
   "metadata": {
    "execution": {
     "iopub.execute_input": "2022-03-26T02:15:08.935307Z",
     "iopub.status.busy": "2022-03-26T02:15:08.934936Z",
     "iopub.status.idle": "2022-03-26T02:15:08.937397Z",
     "shell.execute_reply": "2022-03-26T02:15:08.937725Z"
    },
    "papermill": {
     "duration": 0.020632,
     "end_time": "2022-03-26T02:15:08.937856",
     "exception": false,
     "start_time": "2022-03-26T02:15:08.917224",
     "status": "completed"
    },
    "tags": []
   },
   "outputs": [],
   "source": [
    "torch.set_default_dtype(eval(p.torch_default_dtype))"
   ]
  },
  {
   "cell_type": "code",
   "execution_count": 8,
   "id": "f1a32f01",
   "metadata": {
    "execution": {
     "iopub.execute_input": "2022-03-26T02:15:08.973645Z",
     "iopub.status.busy": "2022-03-26T02:15:08.973282Z",
     "iopub.status.idle": "2022-03-26T02:15:09.013997Z",
     "shell.execute_reply": "2022-03-26T02:15:09.013281Z"
    },
    "papermill": {
     "duration": 0.058781,
     "end_time": "2022-03-26T02:15:09.014162",
     "exception": false,
     "start_time": "2022-03-26T02:15:08.955381",
     "status": "completed"
    },
    "tags": []
   },
   "outputs": [],
   "source": [
    "###################################\n",
    "# Build the network(s)\n",
    "# Note: It's critical to do this AFTER setting the RNG\n",
    "###################################\n",
    "x_net = build_sequential(p.x_net)"
   ]
  },
  {
   "cell_type": "code",
   "execution_count": 9,
   "id": "a276cd83",
   "metadata": {
    "execution": {
     "iopub.execute_input": "2022-03-26T02:15:09.052007Z",
     "iopub.status.busy": "2022-03-26T02:15:09.051609Z",
     "iopub.status.idle": "2022-03-26T02:15:09.053620Z",
     "shell.execute_reply": "2022-03-26T02:15:09.053928Z"
    },
    "papermill": {
     "duration": 0.020324,
     "end_time": "2022-03-26T02:15:09.054016",
     "exception": false,
     "start_time": "2022-03-26T02:15:09.033692",
     "status": "completed"
    },
    "tags": []
   },
   "outputs": [],
   "source": [
    "start_time_secs = time.time()"
   ]
  },
  {
   "cell_type": "code",
   "execution_count": 10,
   "id": "de702e48",
   "metadata": {
    "execution": {
     "iopub.execute_input": "2022-03-26T02:15:09.099851Z",
     "iopub.status.busy": "2022-03-26T02:15:09.088033Z",
     "iopub.status.idle": "2022-03-26T02:15:13.345689Z",
     "shell.execute_reply": "2022-03-26T02:15:13.345144Z"
    },
    "papermill": {
     "duration": 4.273699,
     "end_time": "2022-03-26T02:15:13.345835",
     "exception": false,
     "start_time": "2022-03-26T02:15:09.072136",
     "status": "completed"
    },
    "tags": []
   },
   "outputs": [],
   "source": [
    "def wrap_in_dataloader(p, ds):\n",
    "    return torch.utils.data.DataLoader(\n",
    "        ds,\n",
    "        batch_size=p.batch_size,\n",
    "        shuffle=True,\n",
    "        num_workers=1,\n",
    "        persistent_workers=True,\n",
    "        prefetch_factor=50,\n",
    "        pin_memory=True\n",
    "    )\n",
    "\n",
    "taf_source = Traditional_Accessor_Factory(\n",
    "    labels=p.labels,\n",
    "    domains=p.domains_source,\n",
    "    num_examples_per_domain_per_label=p.num_examples_per_domain_per_label_source,\n",
    "    pickle_path=os.path.join(get_datasets_base_path(), p.pickle_name_source),\n",
    "    seed=p.dataset_seed\n",
    ")\n",
    "train_original_source, val_original_source, test_original_source = \\\n",
    "    taf_source.get_train(), taf_source.get_val(), taf_source.get_test()\n",
    "\n",
    "\n",
    "taf_target = Traditional_Accessor_Factory(\n",
    "    labels=p.labels,\n",
    "    domains=p.domains_target,\n",
    "    num_examples_per_domain_per_label=p.num_examples_per_domain_per_label_source,\n",
    "    pickle_path=os.path.join(get_datasets_base_path(), p.pickle_name_target),\n",
    "    seed=p.dataset_seed\n",
    ")\n",
    "train_original_target, val_original_target, test_original_target = \\\n",
    "    taf_target.get_train(), taf_target.get_val(), taf_target.get_test()\n",
    "\n",
    "\n",
    "# For CNN We only use X and Y. And we only train on the source.\n",
    "# Properly form the data using a transform lambda and Lazy_Map. Finally wrap them in a dataloader\n",
    "\n",
    "transform_lambda = lambda ex: ex[:2] # Strip the tuple to just (x,y)\n",
    "\n",
    "\n",
    "train_processed_source = wrap_in_dataloader(\n",
    "    p,\n",
    "    Lazy_Map(train_original_source, transform_lambda)\n",
    ")\n",
    "val_processed_source = wrap_in_dataloader(\n",
    "    p,\n",
    "    Lazy_Map(val_original_source, transform_lambda)\n",
    ")\n",
    "test_processed_source = wrap_in_dataloader(\n",
    "    p,\n",
    "    Lazy_Map(test_original_source, transform_lambda)\n",
    ")\n",
    "\n",
    "train_processed_target = wrap_in_dataloader(\n",
    "    p,\n",
    "    Lazy_Map(train_original_target, transform_lambda)\n",
    ")\n",
    "val_processed_target = wrap_in_dataloader(\n",
    "    p,\n",
    "    Lazy_Map(val_original_target, transform_lambda)\n",
    ")\n",
    "test_processed_target  = wrap_in_dataloader(\n",
    "    p,\n",
    "    Lazy_Map(test_original_target, transform_lambda)\n",
    ")\n",
    "\n",
    "\n",
    "\n",
    "datasets = EasyDict({\n",
    "    \"source\": {\n",
    "        \"original\": {\"train\":train_original_source, \"val\":val_original_source, \"test\":test_original_source},\n",
    "        \"processed\": {\"train\":train_processed_source, \"val\":val_processed_source, \"test\":test_processed_source}\n",
    "    },\n",
    "    \"target\": {\n",
    "        \"original\": {\"train\":train_original_target, \"val\":val_original_target, \"test\":test_original_target},\n",
    "        \"processed\": {\"train\":train_processed_target, \"val\":val_processed_target, \"test\":test_processed_target}\n",
    "    },\n",
    "})"
   ]
  },
  {
   "cell_type": "code",
   "execution_count": 11,
   "id": "a11b26bd",
   "metadata": {
    "execution": {
     "iopub.execute_input": "2022-03-26T02:15:13.435346Z",
     "iopub.status.busy": "2022-03-26T02:15:13.434423Z",
     "iopub.status.idle": "2022-03-26T02:15:19.127373Z",
     "shell.execute_reply": "2022-03-26T02:15:19.126504Z"
    },
    "papermill": {
     "duration": 5.759251,
     "end_time": "2022-03-26T02:15:19.127581",
     "exception": false,
     "start_time": "2022-03-26T02:15:13.368330",
     "status": "completed"
    },
    "tags": []
   },
   "outputs": [
    {
     "data": {
      "text/plain": [
       "torch.float32"
      ]
     },
     "execution_count": 11,
     "metadata": {},
     "output_type": "execute_result"
    }
   ],
   "source": [
    "ep = next(iter(test_processed_target))\n",
    "ep[0].dtype"
   ]
  },
  {
   "cell_type": "code",
   "execution_count": 12,
   "id": "19425fad",
   "metadata": {
    "execution": {
     "iopub.execute_input": "2022-03-26T02:15:19.167197Z",
     "iopub.status.busy": "2022-03-26T02:15:19.166541Z",
     "iopub.status.idle": "2022-03-26T02:15:19.214458Z",
     "shell.execute_reply": "2022-03-26T02:15:19.213844Z"
    },
    "papermill": {
     "duration": 0.069043,
     "end_time": "2022-03-26T02:15:19.214604",
     "exception": false,
     "start_time": "2022-03-26T02:15:19.145561",
     "status": "completed"
    },
    "tags": []
   },
   "outputs": [],
   "source": [
    "model = Configurable_Vanilla(\n",
    "    x_net=x_net,\n",
    "    label_loss_object=torch.nn.NLLLoss(),\n",
    "    learning_rate=p.lr\n",
    ")"
   ]
  },
  {
   "cell_type": "code",
   "execution_count": 13,
   "id": "7f6d4f2c",
   "metadata": {
    "execution": {
     "iopub.execute_input": "2022-03-26T02:15:19.253041Z",
     "iopub.status.busy": "2022-03-26T02:15:19.252656Z",
     "iopub.status.idle": "2022-03-26T02:16:01.091901Z",
     "shell.execute_reply": "2022-03-26T02:16:01.091035Z"
    },
    "papermill": {
     "duration": 41.859225,
     "end_time": "2022-03-26T02:16:01.092079",
     "exception": false,
     "start_time": "2022-03-26T02:15:19.232854",
     "status": "completed"
    },
    "tags": []
   },
   "outputs": [
    {
     "name": "stdout",
     "output_type": "stream",
     "text": [
      "epoch: 1, [batch: 1 / 359], examples_per_second: 643.2115, train_label_loss: 4.8051, \n"
     ]
    },
    {
     "name": "stdout",
     "output_type": "stream",
     "text": [
      "epoch: 1, [batch: 36 / 359], examples_per_second: 10753.4439, train_label_loss: 4.1906, \n"
     ]
    },
    {
     "name": "stdout",
     "output_type": "stream",
     "text": [
      "epoch: 1, [batch: 72 / 359], examples_per_second: 10731.5815, train_label_loss: 3.6779, \n"
     ]
    },
    {
     "name": "stdout",
     "output_type": "stream",
     "text": [
      "epoch: 1, [batch: 108 / 359], examples_per_second: 10695.6695, train_label_loss: 3.1907, \n"
     ]
    },
    {
     "name": "stdout",
     "output_type": "stream",
     "text": [
      "epoch: 1, [batch: 144 / 359], examples_per_second: 10680.4558, train_label_loss: 2.8263, \n"
     ]
    },
    {
     "name": "stdout",
     "output_type": "stream",
     "text": [
      "epoch: 1, [batch: 180 / 359], examples_per_second: 10488.4800, train_label_loss: 2.4873, \n"
     ]
    },
    {
     "name": "stdout",
     "output_type": "stream",
     "text": [
      "epoch: 1, [batch: 215 / 359], examples_per_second: 10735.8968, train_label_loss: 2.0267, \n"
     ]
    },
    {
     "name": "stdout",
     "output_type": "stream",
     "text": [
      "epoch: 1, [batch: 251 / 359], examples_per_second: 10786.1717, train_label_loss: 1.9703, \n"
     ]
    },
    {
     "name": "stdout",
     "output_type": "stream",
     "text": [
      "epoch: 1, [batch: 287 / 359], examples_per_second: 10709.7454, train_label_loss: 1.5270, \n"
     ]
    },
    {
     "name": "stdout",
     "output_type": "stream",
     "text": [
      "epoch: 1, [batch: 323 / 359], examples_per_second: 10637.7543, train_label_loss: 1.4517, \n"
     ]
    },
    {
     "name": "stdout",
     "output_type": "stream",
     "text": [
      "=============================================================\n",
      "epoch: 1, source_val_acc_label: 0.8408, source_val_label_loss: 1.3172, target_val_acc_label: 0.5757, target_val_label_loss: 2.1122, \n",
      "=============================================================\n"
     ]
    },
    {
     "name": "stdout",
     "output_type": "stream",
     "text": [
      "New best\n",
      "epoch: 2, [batch: 1 / 359], examples_per_second: 102.4800, train_label_loss: 1.3288, \n"
     ]
    },
    {
     "name": "stdout",
     "output_type": "stream",
     "text": [
      "epoch: 2, [batch: 36 / 359], examples_per_second: 10622.3208, train_label_loss: 1.2042, \n"
     ]
    },
    {
     "name": "stdout",
     "output_type": "stream",
     "text": [
      "epoch: 2, [batch: 72 / 359], examples_per_second: 10697.0547, train_label_loss: 1.1769, \n"
     ]
    },
    {
     "name": "stdout",
     "output_type": "stream",
     "text": [
      "epoch: 2, [batch: 108 / 359], examples_per_second: 10639.7629, train_label_loss: 0.9310, \n"
     ]
    },
    {
     "name": "stdout",
     "output_type": "stream",
     "text": [
      "epoch: 2, [batch: 144 / 359], examples_per_second: 10362.1807, train_label_loss: 0.7928, \n"
     ]
    },
    {
     "name": "stdout",
     "output_type": "stream",
     "text": [
      "epoch: 2, [batch: 180 / 359], examples_per_second: 10634.5175, train_label_loss: 0.8360, \n"
     ]
    },
    {
     "name": "stdout",
     "output_type": "stream",
     "text": [
      "epoch: 2, [batch: 215 / 359], examples_per_second: 10521.2104, train_label_loss: 0.7412, \n"
     ]
    },
    {
     "name": "stdout",
     "output_type": "stream",
     "text": [
      "epoch: 2, [batch: 251 / 359], examples_per_second: 10649.5418, train_label_loss: 0.5610, \n"
     ]
    },
    {
     "name": "stdout",
     "output_type": "stream",
     "text": [
      "epoch: 2, [batch: 287 / 359], examples_per_second: 10247.1871, train_label_loss: 0.5723, \n"
     ]
    },
    {
     "name": "stdout",
     "output_type": "stream",
     "text": [
      "epoch: 2, [batch: 323 / 359], examples_per_second: 10643.1143, train_label_loss: 0.5227, \n"
     ]
    },
    {
     "name": "stdout",
     "output_type": "stream",
     "text": [
      "=============================================================\n",
      "epoch: 2, source_val_acc_label: 0.9237, source_val_label_loss: 0.5825, target_val_acc_label: 0.6645, target_val_label_loss: 1.6681, \n",
      "=============================================================\n"
     ]
    },
    {
     "name": "stdout",
     "output_type": "stream",
     "text": [
      "New best\n",
      "epoch: 3, [batch: 1 / 359], examples_per_second: 128.9782, train_label_loss: 0.5591, \n"
     ]
    },
    {
     "name": "stdout",
     "output_type": "stream",
     "text": [
      "epoch: 3, [batch: 36 / 359], examples_per_second: 10467.3487, train_label_loss: 0.4822, \n"
     ]
    },
    {
     "name": "stdout",
     "output_type": "stream",
     "text": [
      "epoch: 3, [batch: 72 / 359], examples_per_second: 10749.9778, train_label_loss: 0.4513, \n"
     ]
    },
    {
     "name": "stdout",
     "output_type": "stream",
     "text": [
      "epoch: 3, [batch: 108 / 359], examples_per_second: 10634.4414, train_label_loss: 0.2968, \n"
     ]
    },
    {
     "name": "stdout",
     "output_type": "stream",
     "text": [
      "epoch: 3, [batch: 144 / 359], examples_per_second: 10598.1178, train_label_loss: 0.3679, \n"
     ]
    },
    {
     "name": "stdout",
     "output_type": "stream",
     "text": [
      "epoch: 3, [batch: 180 / 359], examples_per_second: 10649.9584, train_label_loss: 0.4362, \n"
     ]
    },
    {
     "name": "stdout",
     "output_type": "stream",
     "text": [
      "epoch: 3, [batch: 215 / 359], examples_per_second: 10579.2434, train_label_loss: 0.3530, \n"
     ]
    },
    {
     "name": "stdout",
     "output_type": "stream",
     "text": [
      "epoch: 3, [batch: 251 / 359], examples_per_second: 10683.9215, train_label_loss: 0.2732, \n"
     ]
    },
    {
     "name": "stdout",
     "output_type": "stream",
     "text": [
      "epoch: 3, [batch: 287 / 359], examples_per_second: 10171.4344, train_label_loss: 0.3800, \n"
     ]
    },
    {
     "name": "stdout",
     "output_type": "stream",
     "text": [
      "epoch: 3, [batch: 323 / 359], examples_per_second: 10564.5355, train_label_loss: 0.2716, \n"
     ]
    },
    {
     "name": "stdout",
     "output_type": "stream",
     "text": [
      "=============================================================\n",
      "epoch: 3, source_val_acc_label: 0.9606, source_val_label_loss: 0.2842, target_val_acc_label: 0.6932, target_val_label_loss: 1.4737, \n",
      "=============================================================\n"
     ]
    },
    {
     "name": "stdout",
     "output_type": "stream",
     "text": [
      "New best\n",
      "epoch: 4, [batch: 1 / 359], examples_per_second: 131.3767, train_label_loss: 0.3485, \n"
     ]
    },
    {
     "name": "stdout",
     "output_type": "stream",
     "text": [
      "epoch: 4, [batch: 36 / 359], examples_per_second: 10327.1302, train_label_loss: 0.1922, \n"
     ]
    },
    {
     "name": "stdout",
     "output_type": "stream",
     "text": [
      "epoch: 4, [batch: 72 / 359], examples_per_second: 10683.9746, train_label_loss: 0.2409, \n"
     ]
    },
    {
     "name": "stdout",
     "output_type": "stream",
     "text": [
      "epoch: 4, [batch: 108 / 359], examples_per_second: 10529.0197, train_label_loss: 0.1561, \n"
     ]
    },
    {
     "name": "stdout",
     "output_type": "stream",
     "text": [
      "epoch: 4, [batch: 144 / 359], examples_per_second: 10593.2732, train_label_loss: 0.1572, \n"
     ]
    },
    {
     "name": "stdout",
     "output_type": "stream",
     "text": [
      "epoch: 4, [batch: 180 / 359], examples_per_second: 10611.1165, train_label_loss: 0.2742, \n"
     ]
    },
    {
     "name": "stdout",
     "output_type": "stream",
     "text": [
      "epoch: 4, [batch: 215 / 359], examples_per_second: 10493.8939, train_label_loss: 0.3477, \n"
     ]
    },
    {
     "name": "stdout",
     "output_type": "stream",
     "text": [
      "epoch: 4, [batch: 251 / 359], examples_per_second: 10299.3305, train_label_loss: 0.2042, \n"
     ]
    },
    {
     "name": "stdout",
     "output_type": "stream",
     "text": [
      "epoch: 4, [batch: 287 / 359], examples_per_second: 10614.0943, train_label_loss: 0.2275, \n"
     ]
    },
    {
     "name": "stdout",
     "output_type": "stream",
     "text": [
      "epoch: 4, [batch: 323 / 359], examples_per_second: 10474.4570, train_label_loss: 0.2931, \n"
     ]
    },
    {
     "name": "stdout",
     "output_type": "stream",
     "text": [
      "=============================================================\n",
      "epoch: 4, source_val_acc_label: 0.9462, source_val_label_loss: 0.2674, target_val_acc_label: 0.6659, target_val_label_loss: 1.5576, \n",
      "=============================================================\n"
     ]
    },
    {
     "name": "stdout",
     "output_type": "stream",
     "text": [
      "epoch: 5, [batch: 1 / 359], examples_per_second: 133.4228, train_label_loss: 0.2620, \n"
     ]
    },
    {
     "name": "stdout",
     "output_type": "stream",
     "text": [
      "epoch: 5, [batch: 36 / 359], examples_per_second: 10538.7478, train_label_loss: 0.2522, \n"
     ]
    },
    {
     "name": "stdout",
     "output_type": "stream",
     "text": [
      "epoch: 5, [batch: 72 / 359], examples_per_second: 10303.9703, train_label_loss: 0.0995, \n"
     ]
    },
    {
     "name": "stdout",
     "output_type": "stream",
     "text": [
      "epoch: 5, [batch: 108 / 359], examples_per_second: 10272.9879, train_label_loss: 0.1624, \n"
     ]
    },
    {
     "name": "stdout",
     "output_type": "stream",
     "text": [
      "epoch: 5, [batch: 144 / 359], examples_per_second: 10671.9046, train_label_loss: 0.2183, \n"
     ]
    },
    {
     "name": "stdout",
     "output_type": "stream",
     "text": [
      "epoch: 5, [batch: 180 / 359], examples_per_second: 10528.9050, train_label_loss: 0.2326, \n"
     ]
    },
    {
     "name": "stdout",
     "output_type": "stream",
     "text": [
      "epoch: 5, [batch: 215 / 359], examples_per_second: 10703.3327, train_label_loss: 0.2467, \n"
     ]
    },
    {
     "name": "stdout",
     "output_type": "stream",
     "text": [
      "epoch: 5, [batch: 251 / 359], examples_per_second: 10383.5581, train_label_loss: 0.2662, \n"
     ]
    },
    {
     "name": "stdout",
     "output_type": "stream",
     "text": [
      "epoch: 5, [batch: 287 / 359], examples_per_second: 10597.4262, train_label_loss: 0.1221, \n"
     ]
    },
    {
     "name": "stdout",
     "output_type": "stream",
     "text": [
      "epoch: 5, [batch: 323 / 359], examples_per_second: 10457.5453, train_label_loss: 0.1232, \n"
     ]
    },
    {
     "name": "stdout",
     "output_type": "stream",
     "text": [
      "=============================================================\n",
      "epoch: 5, source_val_acc_label: 0.9511, source_val_label_loss: 0.2386, target_val_acc_label: 0.6811, target_val_label_loss: 1.5405, \n",
      "=============================================================\n"
     ]
    },
    {
     "name": "stdout",
     "output_type": "stream",
     "text": [
      "epoch: 6, [batch: 1 / 359], examples_per_second: 135.4286, train_label_loss: 0.1573, \n"
     ]
    },
    {
     "name": "stdout",
     "output_type": "stream",
     "text": [
      "epoch: 6, [batch: 36 / 359], examples_per_second: 10272.7046, train_label_loss: 0.1576, \n"
     ]
    },
    {
     "name": "stdout",
     "output_type": "stream",
     "text": [
      "epoch: 6, [batch: 72 / 359], examples_per_second: 10632.9261, train_label_loss: 0.1438, \n"
     ]
    },
    {
     "name": "stdout",
     "output_type": "stream",
     "text": [
      "epoch: 6, [batch: 108 / 359], examples_per_second: 10622.7515, train_label_loss: 0.1633, \n"
     ]
    },
    {
     "name": "stdout",
     "output_type": "stream",
     "text": [
      "epoch: 6, [batch: 144 / 359], examples_per_second: 10497.2984, train_label_loss: 0.0861, \n"
     ]
    },
    {
     "name": "stdout",
     "output_type": "stream",
     "text": [
      "epoch: 6, [batch: 180 / 359], examples_per_second: 10614.1001, train_label_loss: 0.1515, \n"
     ]
    },
    {
     "name": "stdout",
     "output_type": "stream",
     "text": [
      "epoch: 6, [batch: 215 / 359], examples_per_second: 10636.0958, train_label_loss: 0.2453, \n"
     ]
    },
    {
     "name": "stdout",
     "output_type": "stream",
     "text": [
      "epoch: 6, [batch: 251 / 359], examples_per_second: 10381.0874, train_label_loss: 0.1086, \n"
     ]
    },
    {
     "name": "stdout",
     "output_type": "stream",
     "text": [
      "epoch: 6, [batch: 287 / 359], examples_per_second: 10586.1945, train_label_loss: 0.1896, \n"
     ]
    },
    {
     "name": "stdout",
     "output_type": "stream",
     "text": [
      "epoch: 6, [batch: 323 / 359], examples_per_second: 10504.1160, train_label_loss: 0.1034, \n"
     ]
    },
    {
     "name": "stdout",
     "output_type": "stream",
     "text": [
      "=============================================================\n",
      "epoch: 6, source_val_acc_label: 0.9519, source_val_label_loss: 0.2168, target_val_acc_label: 0.6806, target_val_label_loss: 1.4534, \n",
      "=============================================================\n"
     ]
    },
    {
     "name": "stdout",
     "output_type": "stream",
     "text": [
      "epoch: 7, [batch: 1 / 359], examples_per_second: 129.7404, train_label_loss: 0.1979, \n"
     ]
    },
    {
     "name": "stdout",
     "output_type": "stream",
     "text": [
      "epoch: 7, [batch: 36 / 359], examples_per_second: 10566.5362, train_label_loss: 0.0658, \n"
     ]
    },
    {
     "name": "stdout",
     "output_type": "stream",
     "text": [
      "epoch: 7, [batch: 72 / 359], examples_per_second: 10680.1784, train_label_loss: 0.1806, \n"
     ]
    },
    {
     "name": "stdout",
     "output_type": "stream",
     "text": [
      "epoch: 7, [batch: 108 / 359], examples_per_second: 10517.5088, train_label_loss: 0.1006, \n"
     ]
    },
    {
     "name": "stdout",
     "output_type": "stream",
     "text": [
      "epoch: 7, [batch: 144 / 359], examples_per_second: 10642.6103, train_label_loss: 0.1318, \n"
     ]
    },
    {
     "name": "stdout",
     "output_type": "stream",
     "text": [
      "epoch: 7, [batch: 180 / 359], examples_per_second: 10437.6151, train_label_loss: 0.0579, \n"
     ]
    },
    {
     "name": "stdout",
     "output_type": "stream",
     "text": [
      "epoch: 7, [batch: 215 / 359], examples_per_second: 10636.1620, train_label_loss: 0.1385, \n"
     ]
    },
    {
     "name": "stdout",
     "output_type": "stream",
     "text": [
      "epoch: 7, [batch: 251 / 359], examples_per_second: 10698.9377, train_label_loss: 0.1229, \n"
     ]
    },
    {
     "name": "stdout",
     "output_type": "stream",
     "text": [
      "epoch: 7, [batch: 287 / 359], examples_per_second: 10721.5682, train_label_loss: 0.1712, \n"
     ]
    },
    {
     "name": "stdout",
     "output_type": "stream",
     "text": [
      "epoch: 7, [batch: 323 / 359], examples_per_second: 10694.5687, train_label_loss: 0.1373, \n"
     ]
    },
    {
     "name": "stdout",
     "output_type": "stream",
     "text": [
      "=============================================================\n",
      "epoch: 7, source_val_acc_label: 0.9677, source_val_label_loss: 0.2014, target_val_acc_label: 0.6928, target_val_label_loss: 1.4980, \n",
      "=============================================================\n"
     ]
    },
    {
     "name": "stdout",
     "output_type": "stream",
     "text": [
      "Patience (3) exhausted\n"
     ]
    }
   ],
   "source": [
    "jig = Vanilla_Train_Eval_Test_Jig(\n",
    "    model=model,\n",
    "    path_to_best_model=p.BEST_MODEL_PATH,\n",
    "    device=p.device,\n",
    "    label_loss_object=torch.nn.NLLLoss(),\n",
    ")\n",
    "\n",
    "jig.train(\n",
    "    train_iterable=datasets.source.processed.train,\n",
    "    source_val_iterable=datasets.source.processed.val,\n",
    "    target_val_iterable=datasets.target.processed.val,\n",
    "    patience=p.patience,\n",
    "    num_epochs=p.n_epoch,\n",
    "    num_logs_per_epoch=p.NUM_LOGS_PER_EPOCH,\n",
    "    criteria_for_best=p.criteria_for_best\n",
    ")"
   ]
  },
  {
   "cell_type": "code",
   "execution_count": 14,
   "id": "4bc2ac17",
   "metadata": {
    "execution": {
     "iopub.execute_input": "2022-03-26T02:16:01.172764Z",
     "iopub.status.busy": "2022-03-26T02:16:01.172398Z",
     "iopub.status.idle": "2022-03-26T02:16:01.175515Z",
     "shell.execute_reply": "2022-03-26T02:16:01.175140Z"
    },
    "papermill": {
     "duration": 0.043129,
     "end_time": "2022-03-26T02:16:01.175609",
     "exception": false,
     "start_time": "2022-03-26T02:16:01.132480",
     "status": "completed"
    },
    "tags": []
   },
   "outputs": [],
   "source": [
    "total_experiment_time_secs = time.time() - start_time_secs"
   ]
  },
  {
   "cell_type": "code",
   "execution_count": 15,
   "id": "cae88f23",
   "metadata": {
    "execution": {
     "iopub.execute_input": "2022-03-26T02:16:01.264766Z",
     "iopub.status.busy": "2022-03-26T02:16:01.263945Z",
     "iopub.status.idle": "2022-03-26T02:16:13.876668Z",
     "shell.execute_reply": "2022-03-26T02:16:13.875877Z"
    },
    "papermill": {
     "duration": 12.658585,
     "end_time": "2022-03-26T02:16:13.876863",
     "exception": false,
     "start_time": "2022-03-26T02:16:01.218278",
     "status": "completed"
    },
    "tags": []
   },
   "outputs": [],
   "source": [
    "source_test_label_accuracy, source_test_label_loss = jig.test(datasets.source.processed.test)\n",
    "target_test_label_accuracy, target_test_label_loss = jig.test(datasets.target.processed.test)\n",
    "\n",
    "source_val_label_accuracy, source_val_label_loss = jig.test(datasets.source.processed.val)\n",
    "target_val_label_accuracy, target_val_label_loss = jig.test(datasets.target.processed.val)\n",
    "\n",
    "history = jig.get_history()\n",
    "\n",
    "total_epochs_trained = len(history[\"epoch_indices\"])\n",
    "\n",
    "val_dl = wrap_in_dataloader(p, Sequence_Aggregator((datasets.source.original.val, datasets.target.original.val)))\n",
    "\n",
    "confusion = confusion_by_domain_over_dataloader(model, p.device, val_dl, forward_uses_domain=False)\n",
    "per_domain_accuracy = per_domain_accuracy_from_confusion(confusion)\n",
    "\n",
    "# Add a key to per_domain_accuracy for if it was a source domain\n",
    "for domain, accuracy in per_domain_accuracy.items():\n",
    "    per_domain_accuracy[domain] = {\n",
    "        \"accuracy\": accuracy,\n",
    "        \"source?\": domain in p.domains_source\n",
    "    }\n",
    "\n",
    "# Do an independent accuracy assesment JUST TO BE SURE!\n",
    "# _source_test_label_accuracy = independent_accuracy_assesment(model, datasets.source.processed.test, p.device)\n",
    "# _target_test_label_accuracy = independent_accuracy_assesment(model, datasets.target.processed.test, p.device)\n",
    "# _source_val_label_accuracy = independent_accuracy_assesment(model, datasets.source.processed.val, p.device)\n",
    "# _target_val_label_accuracy = independent_accuracy_assesment(model, datasets.target.processed.val, p.device)\n",
    "\n",
    "# assert(_source_test_label_accuracy == source_test_label_accuracy)\n",
    "# assert(_target_test_label_accuracy == target_test_label_accuracy)\n",
    "# assert(_source_val_label_accuracy == source_val_label_accuracy)\n",
    "# assert(_target_val_label_accuracy == target_val_label_accuracy)\n",
    "\n",
    "###################################\n",
    "# Write out the results\n",
    "###################################\n",
    "\n",
    "experiment = {\n",
    "    \"experiment_name\": p.experiment_name,\n",
    "    \"parameters\": p,\n",
    "    \"results\": {\n",
    "        \"source_test_label_accuracy\": source_test_label_accuracy,\n",
    "        \"source_test_label_loss\": source_test_label_loss,\n",
    "        \"target_test_label_accuracy\": target_test_label_accuracy,\n",
    "        \"target_test_label_loss\": target_test_label_loss,\n",
    "        \"source_val_label_accuracy\": source_val_label_accuracy,\n",
    "        \"source_val_label_loss\": source_val_label_loss,\n",
    "        \"target_val_label_accuracy\": target_val_label_accuracy,\n",
    "        \"target_val_label_loss\": target_val_label_loss,\n",
    "        \"total_epochs_trained\": total_epochs_trained,\n",
    "        \"total_experiment_time_secs\": total_experiment_time_secs,\n",
    "        \"confusion\": confusion,\n",
    "        \"per_domain_accuracy\": per_domain_accuracy,\n",
    "    },\n",
    "    \"history\": history,\n",
    "    \"dataset_metrics\": get_dataset_metrics(datasets, \"cnn\"),\n",
    "}"
   ]
  },
  {
   "cell_type": "code",
   "execution_count": 16,
   "id": "74c318cf",
   "metadata": {
    "execution": {
     "iopub.execute_input": "2022-03-26T02:16:14.256981Z",
     "iopub.status.busy": "2022-03-26T02:16:14.256135Z",
     "iopub.status.idle": "2022-03-26T02:16:14.431303Z",
     "shell.execute_reply": "2022-03-26T02:16:14.432082Z"
    },
    "papermill": {
     "duration": 0.512399,
     "end_time": "2022-03-26T02:16:14.432288",
     "exception": false,
     "start_time": "2022-03-26T02:16:13.919889",
     "status": "completed"
    },
    "tags": []
   },
   "outputs": [
    {
     "data": {
      "text/plain": [
       "<AxesSubplot:title={'center':'Source Train Label Loss vs Source Val Label Loss'}, xlabel='Epoch'>"
      ]
     },
     "execution_count": 16,
     "metadata": {},
     "output_type": "execute_result"
    },
    {
     "data": {
      "image/png": "[encoded data removed]",
      "text/plain": [
       "<Figure size 1080x504 with 1 Axes>"
      ]
     },
     "metadata": {
      "needs_background": "light"
     },
     "output_type": "display_data"
    }
   ],
   "source": [
    "get_loss_curve(experiment)"
   ]
  },
  {
   "cell_type": "code",
   "execution_count": 17,
   "id": "59376601",
   "metadata": {
    "execution": {
     "iopub.execute_input": "2022-03-26T02:16:14.538921Z",
     "iopub.status.busy": "2022-03-26T02:16:14.538099Z",
     "iopub.status.idle": "2022-03-26T02:16:14.865678Z",
     "shell.execute_reply": "2022-03-26T02:16:14.866373Z"
    },
    "papermill": {
     "duration": 0.389881,
     "end_time": "2022-03-26T02:16:14.866595",
     "exception": false,
     "start_time": "2022-03-26T02:16:14.476714",
     "status": "completed"
    },
    "tags": []
   },
   "outputs": [
    {
     "data": {
      "text/plain": [
       "<AxesSubplot:title={'center':'Results'}>"
      ]
     },
     "execution_count": 17,
     "metadata": {},
     "output_type": "execute_result"
    },
    {
     "data": {
      "image/png": "[encoded data removed]",
      "text/plain": [
       "<Figure size 1080x504 with 1 Axes>"
      ]
     },
     "metadata": {
      "needs_background": "light"
     },
     "output_type": "display_data"
    }
   ],
   "source": [
    "get_results_table(experiment)"
   ]
  },
  {
   "cell_type": "code",
   "execution_count": 18,
   "id": "e80c5c98",
   "metadata": {
    "execution": {
     "iopub.execute_input": "2022-03-26T02:16:14.978177Z",
     "iopub.status.busy": "2022-03-26T02:16:14.977362Z",
     "iopub.status.idle": "2022-03-26T02:16:15.118164Z",
     "shell.execute_reply": "2022-03-26T02:16:15.117457Z"
    },
    "papermill": {
     "duration": 0.205159,
     "end_time": "2022-03-26T02:16:15.118320",
     "exception": false,
     "start_time": "2022-03-26T02:16:14.913161",
     "status": "completed"
    },
    "tags": []
   },
   "outputs": [
    {
     "data": {
      "text/plain": [
       "<AxesSubplot:title={'center':'Per Domain Accuracy'}, xlabel='domain'>"
      ]
     },
     "execution_count": 18,
     "metadata": {},
     "output_type": "execute_result"
    },
    {
     "data": {
      "image/png": "[encoded data removed]",
      "text/plain": [
       "<Figure size 1080x504 with 1 Axes>"
      ]
     },
     "metadata": {
      "needs_background": "light"
     },
     "output_type": "display_data"
    }
   ],
   "source": [
    "get_domain_accuracies(experiment)"
   ]
  },
  {
   "cell_type": "code",
   "execution_count": 19,
   "id": "086fdd10",
   "metadata": {
    "execution": {
     "iopub.execute_input": "2022-03-26T02:16:15.208275Z",
     "iopub.status.busy": "2022-03-26T02:16:15.207898Z",
     "iopub.status.idle": "2022-03-26T02:16:15.211624Z",
     "shell.execute_reply": "2022-03-26T02:16:15.211239Z"
    },
    "papermill": {
     "duration": 0.048084,
     "end_time": "2022-03-26T02:16:15.211697",
     "exception": false,
     "start_time": "2022-03-26T02:16:15.163613",
     "status": "completed"
    },
    "tags": []
   },
   "outputs": [
    {
     "name": "stdout",
     "output_type": "stream",
     "text": [
      "Source Test Label Accuracy: 0.960770542791211 Target Test Label Accuracy: 0.6908757716049383\n",
      "Source Val Label Accuracy: 0.9606339468302658 Target Val Label Accuracy: 0.6931580324437467\n"
     ]
    }
   ],
   "source": [
    "print(\"Source Test Label Accuracy:\", experiment[\"results\"][\"source_test_label_accuracy\"], \"Target Test Label Accuracy:\", experiment[\"results\"][\"target_test_label_accuracy\"])\n",
    "print(\"Source Val Label Accuracy:\", experiment[\"results\"][\"source_val_label_accuracy\"], \"Target Val Label Accuracy:\", experiment[\"results\"][\"target_val_label_accuracy\"])"
   ]
  },
  {
   "cell_type": "code",
   "execution_count": 20,
   "id": "9f450536",
   "metadata": {
    "execution": {
     "iopub.execute_input": "2022-03-26T02:16:15.305107Z",
     "iopub.status.busy": "2022-03-26T02:16:15.304744Z",
     "iopub.status.idle": "2022-03-26T02:16:15.309565Z",
     "shell.execute_reply": "2022-03-26T02:16:15.308756Z"
    },
    "papermill": {
     "duration": 0.051204,
     "end_time": "2022-03-26T02:16:15.309721",
     "exception": false,
     "start_time": "2022-03-26T02:16:15.258517",
     "status": "completed"
    },
    "tags": [
     "experiment_json"
    ]
   },
   "outputs": [
    {
     "data": {
      "text/plain": [
       "'{\"experiment_name\": \"cnn_1:wisig\", \"parameters\": {\"experiment_name\": \"cnn_1:wisig\", \"labels\": [\"1-10\", \"1-12\", \"1-14\", \"1-16\", \"1-18\", \"1-19\", \"1-8\", \"10-11\", \"10-17\", \"10-4\", \"10-7\", \"11-1\", \"11-10\", \"11-19\", \"11-20\", \"11-4\", \"11-7\", \"12-19\", \"12-20\", \"12-7\", \"13-14\", \"13-18\", \"13-19\", \"13-20\", \"13-3\", \"13-7\", \"14-10\", \"14-11\", \"14-12\", \"14-13\", \"14-14\", \"14-19\", \"14-20\", \"14-7\", \"14-8\", \"14-9\", \"15-1\", \"15-19\", \"15-6\", \"16-1\", \"16-16\", \"16-19\", \"16-20\", \"17-10\", \"17-11\", \"18-1\", \"18-10\", \"18-11\", \"18-12\", \"18-13\", \"18-14\", \"18-15\", \"18-16\", \"18-17\", \"18-19\", \"18-2\", \"18-20\", \"18-4\", \"18-5\", \"18-7\", \"18-8\", \"18-9\", \"19-1\", \"19-10\", \"19-11\", \"19-12\", \"19-13\", \"19-14\", \"19-15\", \"19-19\", \"19-2\", \"19-20\", \"19-3\", \"19-4\", \"19-6\", \"19-7\", \"19-8\", \"19-9\", \"2-1\", \"2-13\", \"2-15\", \"2-3\", \"2-4\", \"2-5\", \"2-6\", \"2-7\", \"2-8\", \"20-1\", \"20-12\", \"20-14\", \"20-15\", \"20-16\", \"20-18\", \"20-19\", \"20-20\", \"20-3\", \"20-4\", \"20-5\", \"20-7\", \"20-8\", \"3-1\", \"3-13\", \"3-18\", \"3-2\", \"3-8\", \"4-1\", \"4-10\", \"4-11\", \"5-1\", \"5-5\", \"6-1\", \"6-15\", \"6-6\", \"7-10\", \"7-11\", \"7-12\", \"7-13\", \"7-14\", \"7-7\", \"7-8\", \"7-9\", \"8-1\", \"8-13\", \"8-14\", \"8-18\", \"8-20\", \"8-3\", \"8-8\", \"9-1\", \"9-7\"], \"domains_source\": [3], \"domains_target\": [1, 2, 4], \"pickle_name_target\": \"wisig.node3-19.stratified_ds.2022A.pkl\", \"pickle_name_source\": \"wisig.node3-19.stratified_ds.2022A.pkl\", \"device\": \"cuda\", \"lr\": 0.0001, \"batch_size\": 128, \"normalize_source\": false, \"normalize_target\": false, \"num_examples_per_domain_per_label_source\": -1, \"num_examples_per_domain_per_label_target\": -1, \"torch_default_dtype\": \"torch.float32\", \"n_epoch\": 50, \"patience\": 3, \"criteria_for_best\": \"target_accuracy\", \"x_net\": [{\"class\": \"nnReshape\", \"kargs\": {\"shape\": [-1, 1, 2, 256]}}, {\"class\": \"Conv2d\", \"kargs\": {\"in_channels\": 1, \"out_channels\": 256, \"kernel_size\": [1, 7], \"bias\": false, \"padding\": [0, 3]}}, {\"class\": \"ReLU\", \"kargs\": {\"inplace\": true}}, {\"class\": \"BatchNorm2d\", \"kargs\": {\"num_features\": 256}}, {\"class\": \"Conv2d\", \"kargs\": {\"in_channels\": 256, \"out_channels\": 80, \"kernel_size\": [2, 7], \"bias\": true, \"padding\": [0, 3]}}, {\"class\": \"ReLU\", \"kargs\": {\"inplace\": true}}, {\"class\": \"BatchNorm2d\", \"kargs\": {\"num_features\": 80}}, {\"class\": \"Flatten\", \"kargs\": {}}, {\"class\": \"Linear\", \"kargs\": {\"in_features\": 20480, \"out_features\": 256}}, {\"class\": \"ReLU\", \"kargs\": {\"inplace\": true}}, {\"class\": \"BatchNorm1d\", \"kargs\": {\"num_features\": 256}}, {\"class\": \"Linear\", \"kargs\": {\"in_features\": 256, \"out_features\": 130}}], \"NUM_LOGS_PER_EPOCH\": 10, \"BEST_MODEL_PATH\": \"./best_model.pth\", \"dataset_seed\": 500, \"seed\": 500}, \"results\": {\"source_test_label_accuracy\": 0.960770542791211, \"source_test_label_loss\": 0.2899266785153976, \"target_test_label_accuracy\": 0.6908757716049383, \"target_test_label_loss\": 1.4845702319478793, \"source_val_label_accuracy\": 0.9606339468302658, \"source_val_label_loss\": 0.28324002066215914, \"target_val_label_accuracy\": 0.6931580324437467, \"target_val_label_loss\": 1.4737335181635294, \"total_epochs_trained\": 7, \"total_experiment_time_secs\": 52.12088489532471, \"confusion\": {\"4\": {\"109\": {\"109\": 140, \"32\": 1, \"87\": 1, \"39\": 6}, \"14\": {\"14\": 139, \"62\": 2}, \"113\": {\"113\": 156, \"87\": 3, \"88\": 2, \"126\": 1}, \"98\": {\"98\": 145, \"81\": 1, \"44\": 3, \"29\": 2, \"87\": 1}, \"37\": {\"66\": 13, \"77\": 4, \"41\": 3, \"91\": 2, \"4\": 2}, \"27\": {\"27\": 50, \"108\": 49, \"126\": 2, \"88\": 2, \"87\": 2, \"30\": 16, \"93\": 1, \"36\": 1, \"81\": 1, \"24\": 1, \"21\": 1, \"94\": 1}, \"44\": {\"44\": 75, \"84\": 1, \"81\": 2, \"92\": 6}, \"17\": {\"104\": 6, \"17\": 18, \"4\": 1, \"88\": 1}, \"83\": {\"20\": 3, \"53\": 26, \"42\": 4, \"88\": 2, \"49\": 2}, \"40\": {\"40\": 169, \"21\": 1, \"39\": 1, \"87\": 1}, \"122\": {\"122\": 77, \"118\": 10, \"43\": 1, \"87\": 10, \"11\": 5, \"88\": 1, \"21\": 1, \"109\": 1}, \"92\": {\"70\": 1, \"89\": 34, \"88\": 1}, \"110\": {\"110\": 146, \"11\": 8, \"32\": 1, \"113\": 1, \"118\": 2, \"122\": 4, \"126\": 1, \"117\": 1}, \"33\": {\"33\": 191, \"88\": 1, \"128\": 1, \"32\": 1, \"40\": 1}, \"129\": {\"129\": 37}, \"106\": {\"88\": 6, \"106\": 138, \"87\": 2, \"39\": 2}, \"97\": {\"27\": 7, \"30\": 4, \"91\": 1, \"88\": 3, \"108\": 3, \"70\": 8, \"37\": 1, \"24\": 1}, \"88\": {\"88\": 149, \"70\": 15, \"87\": 2, \"81\": 1}, \"1\": {\"114\": 2, \"1\": 119, \"87\": 1, \"21\": 2, \"88\": 4, \"4\": 1, \"124\": 1, \"81\": 1, \"6\": 1, \"70\": 2, \"94\": 1}, \"36\": {\"94\": 3, \"36\": 131, \"108\": 8, \"27\": 17, \"126\": 1, \"88\": 1, \"30\": 2, \"87\": 1}, \"78\": {\"21\": 16, \"88\": 2, \"70\": 23, \"87\": 4, \"10\": 3}, \"126\": {\"126\": 146, \"32\": 1, \"39\": 7, \"88\": 3, \"87\": 2}, \"105\": {\"105\": 106, \"88\": 7, \"40\": 10, \"39\": 1, \"87\": 1, \"125\": 1, \"37\": 1}, \"45\": {\"45\": 22}, \"30\": {\"30\": 91, \"108\": 1, \"0\": 1, \"88\": 2, \"8\": 1}, \"99\": {\"99\": 51}, \"18\": {\"18\": 150, \"21\": 2, \"35\": 1, \"87\": 1}, \"11\": {\"8\": 145, \"108\": 49, \"60\": 1, \"88\": 1}, \"104\": {\"104\": 23}, \"5\": {\"1\": 163, \"88\": 3, \"20\": 1, \"113\": 1, \"53\": 2, \"87\": 1, \"126\": 1}, \"12\": {\"12\": 119, \"87\": 1, \"39\": 1, \"21\": 1, \"22\": 1, \"106\": 3, \"91\": 1, \"88\": 1}, \"114\": {\"114\": 157, \"88\": 2, \"21\": 1, \"39\": 1, \"126\": 1}, \"87\": {\"87\": 163, \"10\": 1, \"11\": 1, \"43\": 1, \"88\": 1, \"122\": 1, \"118\": 1}, \"8\": {\"8\": 174, \"21\": 1, \"87\": 6, \"29\": 1, \"110\": 1, \"30\": 1}, \"102\": {\"102\": 166, \"21\": 2, \"39\": 2}, \"57\": {\"105\": 6, \"116\": 3, \"90\": 12, \"88\": 1, \"70\": 1}, \"26\": {\"26\": 158, \"87\": 2, \"126\": 1}, \"111\": {\"111\": 176, \"87\": 2, \"98\": 1}, \"39\": {\"39\": 115, \"43\": 2, \"126\": 4, \"11\": 1, \"87\": 5, \"21\": 1}, \"62\": {\"62\": 70, \"109\": 1, \"88\": 1, \"87\": 3, \"36\": 1, \"106\": 1, \"126\": 1}, \"128\": {\"128\": 31, \"85\": 1, \"91\": 1}, \"4\": {\"4\": 124, \"88\": 4, \"41\": 1, \"87\": 1}, \"124\": {\"81\": 1, \"124\": 150, \"18\": 1}, \"80\": {\"80\": 20}, \"101\": {\"0\": 160, \"88\": 2, \"101\": 1, \"21\": 1, \"36\": 1, \"10\": 2}, \"53\": {\"83\": 5, \"12\": 1, \"47\": 12, \"20\": 1, \"72\": 2, \"98\": 1, \"88\": 1, \"85\": 1}, \"108\": {\"88\": 55, \"70\": 8, \"11\": 20, \"39\": 2, \"21\": 2, \"108\": 28, \"36\": 1, \"126\": 1, \"87\": 1}, \"15\": {\"30\": 14, \"15\": 137, \"94\": 8, \"39\": 1, \"87\": 1, \"11\": 1, \"88\": 2}, \"94\": {\"94\": 106, \"39\": 1, \"30\": 1, \"88\": 1, \"21\": 1}, \"118\": {\"118\": 131, \"109\": 2, \"36\": 1, \"87\": 2, \"39\": 2, \"88\": 1, \"21\": 1}, \"125\": {\"125\": 190}, \"121\": {\"121\": 39, \"81\": 1, \"33\": 1}, \"90\": {\"90\": 224, \"117\": 1}, \"71\": {\"71\": 122, \"12\": 1, \"106\": 1, \"114\": 2, \"21\": 2, \"121\": 2}, \"77\": {\"98\": 8, \"91\": 4, \"6\": 6}, \"85\": {\"98\": 34, \"88\": 1, \"37\": 1, \"75\": 2}, \"69\": {\"69\": 158, \"62\": 2, \"87\": 3, \"88\": 1}, \"93\": {\"93\": 201, \"87\": 2, \"113\": 2, \"32\": 1, \"81\": 1, \"108\": 2}, \"107\": {\"107\": 179, \"32\": 1, \"40\": 1}, \"127\": {\"127\": 133, \"21\": 1, \"87\": 1}, \"49\": {\"49\": 36, \"1\": 2, \"97\": 2}, \"100\": {\"100\": 20, \"99\": 2, \"16\": 3}, \"16\": {\"118\": 153, \"88\": 2, \"87\": 1, \"21\": 1, \"84\": 1, \"61\": 1}, \"82\": {\"88\": 2, \"55\": 23, \"50\": 12, \"117\": 1, \"92\": 1, \"9\": 1, \"95\": 1, \"27\": 1, \"124\": 1}, \"117\": {\"117\": 156, \"88\": 1, \"87\": 1}, \"7\": {\"7\": 129, \"87\": 21, \"81\": 1, \"0\": 6, \"72\": 1}, \"52\": {\"52\": 21, \"106\": 1, \"88\": 1, \"70\": 2, \"56\": 1}, \"66\": {\"90\": 23}, \"65\": {\"90\": 5, \"121\": 3, \"63\": 5, \"2\": 3, \"65\": 1, \"37\": 1, \"64\": 1}, \"6\": {\"6\": 33}, \"41\": {\"52\": 15, \"81\": 1, \"73\": 1, \"34\": 1, \"56\": 1, \"125\": 1, \"91\": 2, \"31\": 1, \"6\": 1}, \"75\": {\"75\": 20}, \"95\": {\"56\": 4, \"105\": 33, \"21\": 1, \"127\": 5}, \"84\": {\"84\": 157, \"88\": 3, \"87\": 4, \"21\": 1, \"81\": 1, \"113\": 1, \"128\": 1}, \"21\": {\"21\": 46, \"126\": 1, \"18\": 1, \"87\": 2, \"88\": 1, \"39\": 1, \"70\": 1}, \"24\": {\"27\": 50, \"24\": 51, \"88\": 38, \"30\": 2, \"108\": 6, \"87\": 1, \"36\": 1, \"126\": 2}, \"0\": {\"87\": 9, \"0\": 138, \"30\": 1, \"88\": 1}, \"64\": {\"82\": 3, \"38\": 17, \"88\": 1, \"124\": 1, \"45\": 1}, \"72\": {\"31\": 23, \"34\": 1, \"110\": 6, \"87\": 1, \"33\": 1, \"12\": 2, \"60\": 2, \"16\": 1, \"84\": 2, \"88\": 1}, \"79\": {\"79\": 21, \"85\": 1}, \"43\": {\"87\": 142, \"43\": 5, \"106\": 1, \"81\": 1, \"10\": 2, \"11\": 2}, \"28\": {\"46\": 6, \"91\": 5, \"66\": 7, \"19\": 3, \"124\": 1, \"32\": 1, \"79\": 2, \"20\": 1}, \"70\": {\"70\": 110, \"108\": 22, \"88\": 19, \"57\": 1, \"87\": 1, \"30\": 1, \"121\": 1}, \"112\": {\"112\": 20, \"63\": 1, \"88\": 1, \"85\": 1, \"117\": 1}, \"42\": {\"42\": 36, \"32\": 1, \"85\": 1}, \"89\": {\"34\": 10, \"35\": 21, \"9\": 7, \"88\": 3}, \"116\": {\"116\": 36, \"98\": 1}, \"3\": {\"3\": 159, \"114\": 4, \"20\": 1, \"87\": 1, \"44\": 1, \"88\": 4, \"39\": 1}, \"123\": {\"123\": 21, \"117\": 1}, \"51\": {\"51\": 11, \"98\": 6, \"87\": 1, \"70\": 1, \"113\": 1}, \"10\": {\"88\": 33, \"70\": 104, \"30\": 7, \"87\": 5, \"21\": 3, \"108\": 2, \"32\": 1}, \"61\": {\"61\": 22, \"21\": 1}, \"59\": {\"59\": 19}, \"86\": {\"86\": 36}, \"73\": {\"46\": 2, \"85\": 2, \"129\": 16, \"39\": 1, \"53\": 7, \"18\": 1, \"87\": 1}, \"55\": {\"55\": 22}, \"76\": {\"76\": 22}, \"23\": {\"23\": 8, \"12\": 1, \"21\": 1, \"126\": 1, \"96\": 1, \"25\": 1, \"113\": 2, \"94\": 1, \"39\": 1, \"87\": 2, \"30\": 1}, \"60\": {\"60\": 36, \"23\": 1, \"110\": 3}, \"58\": {\"58\": 23}, \"19\": {\"19\": 35, \"32\": 1, \"34\": 1}, \"31\": {\"50\": 11, \"89\": 11, \"21\": 1, \"61\": 1}, \"34\": {\"34\": 39, \"88\": 1, \"106\": 1}, \"120\": {\"45\": 19, \"32\": 2, \"124\": 1, \"4\": 2, \"66\": 1, \"81\": 1}, \"81\": {\"81\": 45, \"95\": 1, \"88\": 2}, \"29\": {\"98\": 6, \"91\": 33, \"72\": 1}, \"32\": {\"32\": 34, \"6\": 1, \"21\": 1}, \"9\": {\"83\": 31, \"53\": 1, \"49\": 1, \"21\": 1, \"42\": 2}, \"2\": {\"2\": 38}, \"67\": {\"50\": 12, \"67\": 11}, \"63\": {\"63\": 24}, \"47\": {\"56\": 3, \"72\": 1, \"34\": 2, \"6\": 9, \"5\": 1, \"25\": 2, \"129\": 1}, \"115\": {\"115\": 10, \"98\": 1, \"86\": 9}, \"38\": {\"90\": 17, \"88\": 1, \"44\": 3}, \"50\": {\"82\": 20, \"4\": 2, \"3\": 1, \"128\": 1}, \"91\": {\"91\": 32}, \"25\": {\"25\": 24}, \"22\": {\"22\": 23}, \"13\": {\"13\": 22}, \"54\": {\"54\": 22, \"106\": 1}, \"68\": {\"111\": 16, \"68\": 7}, \"20\": {\"20\": 24}, \"35\": {\"61\": 16, \"121\": 1}, \"96\": {\"118\": 7, \"16\": 3, \"95\": 1, \"60\": 9, \"93\": 1, \"21\": 1, \"84\": 2, \"14\": 2, \"43\": 2, \"110\": 1}, \"119\": {\"98\": 1, \"129\": 19, \"100\": 1, \"5\": 1}, \"48\": {\"48\": 16, \"116\": 6, \"54\": 1}, \"103\": {\"128\": 6, \"124\": 7, \"91\": 3, \"58\": 7, \"88\": 1}, \"46\": {\"46\": 25}, \"74\": {\"31\": 2, \"90\": 12, \"20\": 4, \"116\": 4}, \"56\": {\"56\": 17}}, \"3\": {\"7\": {\"7\": 141, \"21\": 2}, \"16\": {\"16\": 146, \"87\": 2, \"21\": 1}, \"12\": {\"12\": 130, \"87\": 1}, \"93\": {\"93\": 205, \"29\": 1, \"110\": 1}, \"114\": {\"114\": 160, \"1\": 1, \"33\": 1, \"29\": 1, \"90\": 1}, \"86\": {\"86\": 38, \"81\": 1}, \"8\": {\"8\": 168, \"30\": 2, \"87\": 1, \"21\": 1}, \"40\": {\"40\": 159, \"87\": 1, \"54\": 1, \"21\": 1}, \"90\": {\"90\": 232, \"105\": 1, \"29\": 1}, \"106\": {\"106\": 128, \"87\": 1}, \"101\": {\"101\": 63, \"39\": 1, \"0\": 1, \"118\": 1, \"21\": 2}, \"10\": {\"10\": 159, \"39\": 1, \"87\": 1, \"61\": 1}, \"3\": {\"3\": 145, \"98\": 1, \"114\": 1, \"21\": 2}, \"113\": {\"113\": 147, \"21\": 1, \"87\": 1, \"118\": 1}, \"107\": {\"107\": 182, \"19\": 1}, \"11\": {\"11\": 191}, \"109\": {\"109\": 160, \"118\": 1}, \"26\": {\"26\": 166, \"87\": 1}, \"61\": {\"61\": 24}, \"62\": {\"62\": 157, \"98\": 1, \"87\": 1}, \"64\": {\"64\": 25}, \"87\": {\"87\": 150, \"27\": 1, \"21\": 2}, \"105\": {\"105\": 156, \"21\": 1}, \"53\": {\"25\": 1, \"53\": 24}, \"102\": {\"102\": 159}, \"18\": {\"18\": 164, \"29\": 1}, \"76\": {\"76\": 20, \"40\": 1, \"81\": 1}, \"111\": {\"111\": 162, \"70\": 2, \"90\": 1, \"21\": 1, \"106\": 1}, \"51\": {\"51\": 24}, \"46\": {\"46\": 23}, \"88\": {\"88\": 135, \"39\": 1, \"70\": 2, \"98\": 1, \"21\": 1, \"121\": 1}, \"117\": {\"117\": 143}, \"126\": {\"126\": 157, \"70\": 1, \"87\": 1}, \"71\": {\"71\": 83, \"87\": 1, \"39\": 1, \"21\": 1}, \"23\": {\"23\": 36, \"122\": 2, \"8\": 4, \"110\": 1}, \"39\": {\"39\": 127, \"126\": 5, \"87\": 2, \"21\": 2}, \"94\": {\"94\": 105, \"39\": 1}, \"0\": {\"0\": 143, \"87\": 2}, \"60\": {\"60\": 30, \"110\": 6, \"117\": 1}, \"37\": {\"37\": 24}, \"99\": {\"99\": 47, \"21\": 1, \"6\": 1}, \"52\": {\"52\": 22, \"33\": 1, \"91\": 1}, \"69\": {\"87\": 4, \"69\": 100, \"40\": 1, \"124\": 1, \"80\": 1, \"17\": 1, \"39\": 1}, \"98\": {\"98\": 163, \"44\": 1}, \"36\": {\"36\": 149, \"27\": 13, \"87\": 1, \"108\": 1}, \"70\": {\"70\": 73, \"21\": 3, \"108\": 2, \"88\": 14, \"87\": 1, \"39\": 1}, \"56\": {\"56\": 17}, \"30\": {\"30\": 105, \"108\": 1, \"82\": 1, \"21\": 1}, \"82\": {\"82\": 36, \"109\": 1}, \"20\": {\"20\": 23}, \"4\": {\"4\": 120, \"89\": 1, \"87\": 1, \"21\": 1}, \"35\": {\"35\": 17}, \"110\": {\"110\": 110, \"39\": 1, \"11\": 2, \"30\": 1, \"8\": 1, \"125\": 1, \"87\": 2}, \"5\": {\"5\": 139, \"87\": 2, \"21\": 1}, \"84\": {\"84\": 132, \"43\": 1, \"61\": 1, \"87\": 1}, \"108\": {\"108\": 177, \"21\": 2}, \"43\": {\"87\": 14, \"43\": 48, \"56\": 1, \"113\": 1, \"11\": 3, \"21\": 1, \"39\": 1, \"109\": 1}, \"73\": {\"73\": 49, \"21\": 1, \"37\": 1, \"88\": 1}, \"123\": {\"123\": 19, \"90\": 2}, \"125\": {\"125\": 159, \"90\": 1}, \"118\": {\"118\": 125, \"87\": 1, \"39\": 1}, \"15\": {\"15\": 129, \"113\": 1, \"39\": 1}, \"74\": {\"74\": 22}, \"95\": {\"95\": 40}, \"14\": {\"14\": 103}, \"124\": {\"124\": 155, \"90\": 1}, \"45\": {\"21\": 1, \"45\": 21}, \"81\": {\"81\": 42, \"117\": 1}, \"92\": {\"92\": 41, \"21\": 1}, \"24\": {\"27\": 32, \"24\": 19, \"36\": 7, \"108\": 2, \"87\": 1, \"117\": 1, \"88\": 1}, \"33\": {\"33\": 196}, \"122\": {\"122\": 69, \"10\": 1, \"11\": 3, \"87\": 4}, \"54\": {\"54\": 24}, \"85\": {\"85\": 46}, \"91\": {\"95\": 1, \"91\": 31, \"111\": 1}, \"121\": {\"121\": 37, \"70\": 2, \"98\": 1}, \"1\": {\"1\": 134, \"21\": 3, \"87\": 1}, \"127\": {\"127\": 158, \"113\": 2, \"3\": 1}, \"44\": {\"44\": 87, \"33\": 2, \"3\": 1, \"92\": 1}, \"72\": {\"72\": 37, \"89\": 1}, \"96\": {\"96\": 26, \"91\": 1}, \"42\": {\"42\": 37}, \"21\": {\"21\": 56, \"29\": 2, \"87\": 4, \"94\": 1, \"88\": 1}, \"112\": {\"112\": 21, \"10\": 1, \"124\": 1, \"92\": 1}, \"129\": {\"129\": 42}, \"38\": {\"38\": 22}, \"128\": {\"128\": 40}, \"29\": {\"29\": 42}, \"27\": {\"36\": 28, \"27\": 87, \"108\": 4, \"87\": 2, \"39\": 1}, \"119\": {\"113\": 1, \"119\": 23}, \"47\": {\"47\": 16}, \"66\": {\"66\": 24}, \"83\": {\"83\": 34}, \"50\": {\"50\": 23, \"18\": 1}, \"22\": {\"22\": 24}, \"59\": {\"59\": 16, \"125\": 1}, \"97\": {\"97\": 18, \"8\": 2, \"15\": 8}, \"57\": {\"95\": 1, \"57\": 23, \"39\": 1, \"104\": 1}, \"2\": {\"2\": 35, \"117\": 1, \"39\": 1}, \"19\": {\"19\": 39, \"98\": 1}, \"34\": {\"34\": 39, \"88\": 1}, \"103\": {\"103\": 23, \"22\": 1}, \"9\": {\"9\": 39, \"39\": 1}, \"104\": {\"104\": 21, \"54\": 1}, \"89\": {\"89\": 39}, \"41\": {\"41\": 21, \"89\": 1}, \"13\": {\"13\": 16, \"21\": 1, \"87\": 1, \"27\": 1, \"70\": 1}, \"100\": {\"100\": 24}, \"28\": {\"28\": 24}, \"77\": {\"77\": 24}, \"31\": {\"31\": 24, \"116\": 1}, \"48\": {\"48\": 22}, \"32\": {\"32\": 39, \"29\": 1, \"20\": 1}, \"6\": {\"6\": 42, \"39\": 1}, \"65\": {\"65\": 17, \"64\": 1}, \"78\": {\"10\": 9, \"70\": 7, \"37\": 1, \"87\": 6, \"21\": 1}, \"79\": {\"79\": 19}, \"75\": {\"75\": 22}, \"49\": {\"49\": 31, \"39\": 1}, \"115\": {\"115\": 21}, \"120\": {\"120\": 26}, \"68\": {\"68\": 19, \"27\": 1}, \"67\": {\"67\": 22}, \"25\": {\"25\": 22}, \"116\": {\"116\": 38}, \"17\": {\"12\": 1, \"17\": 15, \"4\": 2, \"39\": 1, \"21\": 1, \"87\": 1}, \"80\": {\"80\": 19, \"95\": 1}, \"55\": {\"55\": 24}, \"63\": {\"63\": 21}, \"58\": {\"58\": 22, \"88\": 1}}, \"2\": {\"124\": {\"124\": 155, \"90\": 1, \"21\": 1}, \"24\": {\"88\": 117, \"27\": 11, \"21\": 6, \"70\": 3, \"126\": 1, \"108\": 2}, \"17\": {\"21\": 2, \"4\": 9, \"104\": 8, \"17\": 3, \"2\": 1, \"88\": 1}, \"4\": {\"4\": 110, \"21\": 2, \"88\": 2}, \"3\": {\"3\": 168, \"12\": 1, \"21\": 2, \"88\": 2}, \"83\": {\"28\": 20, \"90\": 14, \"128\": 2, \"53\": 3, \"64\": 6, \"31\": 3, \"88\": 1, \"114\": 1}, \"1\": {\"1\": 155, \"21\": 2}, \"101\": {\"101\": 195, \"106\": 2, \"60\": 1, \"0\": 1, \"21\": 1}, \"109\": {\"21\": 42, \"109\": 39, \"10\": 11, \"39\": 29, \"30\": 1, \"70\": 1, \"88\": 2}, \"69\": {\"69\": 167, \"88\": 5, \"21\": 5, \"14\": 1}, \"23\": {\"88\": 2, \"23\": 46, \"110\": 3, \"113\": 6, \"87\": 1, \"8\": 1}, \"18\": {\"18\": 153, \"88\": 5, \"21\": 3}, \"111\": {\"111\": 177, \"13\": 1, \"88\": 1, \"21\": 1}, \"65\": {\"64\": 15, \"2\": 5, \"90\": 7}, \"98\": {\"98\": 148, \"21\": 2, \"44\": 1, \"121\": 2}, \"126\": {\"88\": 102, \"108\": 42, \"39\": 2, \"11\": 1, \"2\": 1, \"27\": 1, \"21\": 1}, \"125\": {\"125\": 205, \"90\": 1}, \"100\": {\"100\": 14, \"88\": 1, \"20\": 4, \"53\": 3, \"27\": 1, \"16\": 1}, \"106\": {\"106\": 147, \"21\": 1, \"88\": 1, \"125\": 1, \"94\": 1, \"70\": 1}, \"14\": {\"88\": 6, \"14\": 53, \"21\": 1, \"126\": 1, \"39\": 1}, \"36\": {\"36\": 103, \"94\": 44, \"21\": 9, \"27\": 1, \"81\": 1, \"88\": 2, \"70\": 1, \"30\": 1}, \"93\": {\"93\": 203, \"113\": 2, \"11\": 2, \"16\": 1, \"21\": 1}, \"114\": {\"114\": 141, \"88\": 1, \"3\": 2, \"21\": 2, \"81\": 1}, \"15\": {\"15\": 140, \"21\": 4, \"94\": 4, \"88\": 2, \"117\": 1}, \"8\": {\"8\": 157, \"70\": 1, \"88\": 1, \"21\": 1, \"30\": 1}, \"112\": {\"112\": 11, \"46\": 4, \"83\": 1, \"42\": 2, \"98\": 1, \"19\": 1, \"129\": 4}, \"62\": {\"62\": 169, \"88\": 5, \"30\": 1}, \"127\": {\"127\": 153, \"21\": 1, \"12\": 1, \"4\": 1}, \"90\": {\"90\": 237, \"98\": 1}, \"77\": {\"77\": 19, \"124\": 5}, \"85\": {\"85\": 41, \"88\": 1, \"117\": 1}, \"118\": {\"118\": 82, \"87\": 3, \"88\": 1}, \"12\": {\"12\": 103, \"88\": 4, \"21\": 4}, \"96\": {\"23\": 5, \"93\": 19, \"60\": 3, \"4\": 1}, \"2\": {\"2\": 39, \"117\": 1}, \"73\": {\"129\": 6, \"46\": 27, \"85\": 2, \"18\": 1, \"6\": 1}, \"39\": {\"39\": 112, \"21\": 20, \"88\": 3, \"43\": 7, \"87\": 2}, \"11\": {\"94\": 71, \"87\": 3, \"108\": 25, \"21\": 1, \"39\": 1, \"116\": 1, \"88\": 1}, \"88\": {\"88\": 128, \"39\": 16, \"70\": 6, \"21\": 5, \"11\": 1}, \"33\": {\"33\": 178, \"114\": 4, \"21\": 2, \"1\": 1}, \"44\": {\"44\": 116, \"31\": 5, \"1\": 5, \"49\": 1, \"83\": 1, \"53\": 1}, \"113\": {\"113\": 92, \"126\": 1, \"21\": 1}, \"110\": {\"127\": 6, \"110\": 40, \"88\": 1, \"21\": 2, \"122\": 3, \"125\": 1, \"8\": 1}, \"13\": {\"13\": 21, \"2\": 2}, \"42\": {\"88\": 1, \"42\": 35}, \"108\": {\"108\": 176}, \"58\": {\"58\": 26, \"88\": 1}, \"71\": {\"71\": 122, \"88\": 2, \"114\": 1, \"12\": 2, \"3\": 1, \"21\": 1}, \"5\": {\"5\": 138, \"88\": 3, \"21\": 1}, \"10\": {\"21\": 1, \"10\": 76, \"109\": 1}, \"34\": {\"34\": 40, \"124\": 1, \"88\": 1}, \"26\": {\"26\": 174, \"84\": 1, \"88\": 3, \"21\": 1}, \"105\": {\"62\": 143, \"105\": 1, \"118\": 4, \"7\": 9, \"84\": 2, \"87\": 2, \"40\": 1, \"21\": 3}, \"70\": {\"70\": 122, \"88\": 4, \"87\": 3, \"21\": 9, \"10\": 7, \"39\": 8, \"36\": 1, \"43\": 1, \"11\": 1}, \"122\": {\"122\": 159, \"18\": 1, \"121\": 1, \"87\": 2, \"30\": 5, \"0\": 1, \"110\": 4, \"11\": 1, \"126\": 1, \"88\": 1, \"8\": 1}, \"78\": {\"21\": 16, \"10\": 29, \"70\": 13, \"87\": 3, \"39\": 2}, \"0\": {\"0\": 139, \"88\": 2, \"101\": 5, \"81\": 1, \"30\": 1}, \"54\": {\"9\": 23, \"86\": 1, \"72\": 3}, \"87\": {\"87\": 127, \"88\": 5, \"11\": 1, \"21\": 7, \"43\": 2, \"113\": 1}, \"21\": {\"21\": 59, \"88\": 3}, \"7\": {\"7\": 165, \"21\": 3}, \"43\": {\"87\": 141, \"21\": 3, \"43\": 4, \"88\": 5, \"94\": 1, \"11\": 1, \"48\": 1}, \"32\": {\"32\": 45, \"9\": 1}, \"102\": {\"102\": 156, \"88\": 1}, \"40\": {\"40\": 162, \"21\": 6, \"88\": 8, \"39\": 1, \"36\": 1}, \"97\": {\"97\": 21, \"12\": 4, \"125\": 1, \"0\": 1, \"8\": 1}, \"38\": {\"103\": 12, \"44\": 8, \"88\": 1, \"92\": 1}, \"64\": {\"38\": 23, \"88\": 1}, \"117\": {\"117\": 149, \"88\": 2}, \"60\": {\"60\": 33, \"110\": 3, \"88\": 1, \"113\": 1, \"122\": 1}, \"68\": {\"21\": 1, \"68\": 20, \"70\": 1, \"18\": 1}, \"47\": {\"88\": 2, \"73\": 1, \"124\": 2, \"47\": 13, \"21\": 1}, \"27\": {\"70\": 2, \"27\": 28, \"36\": 45, \"88\": 7, \"21\": 5, \"125\": 1, \"22\": 1}, \"120\": {\"120\": 24, \"33\": 1}, \"30\": {\"0\": 37, \"30\": 97, \"88\": 3, \"18\": 1, \"4\": 1, \"70\": 2}, \"80\": {\"115\": 19, \"125\": 1}, \"103\": {\"124\": 2, \"58\": 19, \"88\": 1, \"21\": 1, \"68\": 1}, \"61\": {\"9\": 18, \"40\": 4, \"57\": 2, \"32\": 1}, \"9\": {\"54\": 21, \"25\": 15, \"75\": 7, \"106\": 1}, \"95\": {\"40\": 36, \"7\": 4, \"9\": 6}, \"99\": {\"119\": 21, \"23\": 9, \"18\": 1, \"20\": 5, \"121\": 4, \"6\": 1}, \"49\": {\"98\": 12, \"49\": 16, \"125\": 2, \"19\": 1}, \"116\": {\"116\": 37}, \"66\": {\"66\": 23, \"9\": 1, \"2\": 1}, \"25\": {\"25\": 21}, \"92\": {\"76\": 8, \"89\": 24, \"21\": 2, \"106\": 1, \"90\": 1}, \"128\": {\"128\": 31, \"33\": 1}, \"29\": {\"6\": 1, \"91\": 42, \"128\": 1}, \"76\": {\"76\": 24}, \"46\": {\"112\": 20, \"42\": 1, \"85\": 1, \"5\": 2}, \"50\": {\"50\": 22}, \"104\": {\"104\": 27, \"88\": 1}, \"89\": {\"89\": 48, \"117\": 1}, \"6\": {\"6\": 42}, \"74\": {\"74\": 21, \"88\": 3}, \"81\": {\"117\": 27, \"18\": 4, \"72\": 1, \"45\": 1}, \"115\": {\"103\": 18, \"88\": 1}, \"107\": {\"107\": 77, \"54\": 1, \"21\": 1, \"66\": 1, \"22\": 1, \"15\": 1, \"36\": 1, \"39\": 1}, \"16\": {\"16\": 145, \"21\": 6, \"96\": 1, \"88\": 2, \"110\": 1}, \"86\": {\"104\": 36, \"115\": 5, \"4\": 2}, \"20\": {\"96\": 7, \"93\": 9, \"64\": 5, \"23\": 2, \"44\": 1}, \"35\": {\"35\": 17, \"62\": 1}, \"31\": {\"50\": 15, \"89\": 6, \"14\": 2, \"40\": 1, \"117\": 1, \"62\": 1}, \"53\": {\"20\": 10, \"85\": 12, \"2\": 1, \"47\": 1}, \"79\": {\"6\": 1, \"104\": 7, \"124\": 6, \"48\": 4, \"58\": 1, \"68\": 1}, \"84\": {\"84\": 115, \"21\": 2, \"88\": 1}, \"59\": {\"21\": 2, \"91\": 14, \"25\": 1, \"125\": 2, \"88\": 1}, \"121\": {\"121\": 44, \"88\": 1}, \"72\": {\"93\": 17, \"16\": 5, \"14\": 8, \"26\": 7, \"88\": 2}, \"37\": {\"77\": 20, \"115\": 3, \"88\": 1}, \"57\": {\"116\": 17, \"121\": 3, \"90\": 5}, \"91\": {\"91\": 34, \"18\": 1}, \"22\": {\"22\": 24, \"6\": 1}, \"94\": {\"94\": 70, \"88\": 5, \"21\": 6}, \"63\": {\"74\": 8, \"57\": 17, \"21\": 1}, \"41\": {\"125\": 21, \"6\": 1, \"29\": 1, \"91\": 1, \"56\": 1}, \"129\": {\"129\": 37, \"88\": 1, \"124\": 1, \"19\": 1}, \"123\": {\"57\": 4, \"124\": 6, \"77\": 2, \"116\": 8, \"129\": 2, \"19\": 1}, \"48\": {\"48\": 24, \"117\": 1}, \"82\": {\"82\": 41, \"88\": 2, \"1\": 1, \"107\": 1}, \"119\": {\"100\": 12, \"102\": 5, \"129\": 3, \"29\": 1, \"80\": 3, \"117\": 1, \"64\": 1, \"90\": 1}, \"56\": {\"56\": 16, \"37\": 1}, \"55\": {\"55\": 18, \"18\": 1, \"14\": 1, \"50\": 3, \"69\": 1}, \"52\": {\"25\": 19, \"85\": 4, \"6\": 1, \"99\": 1, \"35\": 1}, \"67\": {\"45\": 9, \"76\": 1, \"39\": 1, \"115\": 10, \"88\": 1, \"50\": 1, \"89\": 1}, \"28\": {\"19\": 4, \"91\": 14, \"117\": 1, \"66\": 7, \"4\": 1}, \"19\": {\"19\": 38, \"7\": 1}, \"75\": {\"75\": 24}, \"45\": {\"45\": 20, \"88\": 1, \"124\": 1, \"86\": 1, \"18\": 1}, \"51\": {\"98\": 17, \"51\": 5, \"6\": 1, \"58\": 1, \"113\": 1}}, \"1\": {\"11\": {\"11\": 126, \"87\": 46, \"39\": 1}, \"7\": {\"7\": 139, \"87\": 44}, \"64\": {\"64\": 21, \"90\": 2}, \"38\": {\"66\": 18, \"38\": 2}, \"85\": {\"95\": 41, \"39\": 1}, \"110\": {\"127\": 145, \"122\": 16, \"21\": 1, \"101\": 1, \"0\": 1}, \"57\": {\"57\": 19}, \"91\": {\"91\": 39}, \"43\": {\"87\": 145, \"10\": 11, \"21\": 2, \"122\": 1, \"118\": 1, \"94\": 1, \"70\": 1}, \"94\": {\"94\": 114, \"30\": 1, \"21\": 2, \"88\": 1}, \"76\": {\"109\": 3, \"62\": 4, \"89\": 2, \"118\": 11, \"84\": 2, \"76\": 2}, \"117\": {\"117\": 180}, \"111\": {\"111\": 150, \"2\": 1, \"70\": 1}, \"68\": {\"111\": 19, \"73\": 1, \"68\": 1, \"128\": 2}, \"88\": {\"108\": 124, \"27\": 34, \"36\": 3, \"30\": 9, \"88\": 4, \"70\": 1}, \"113\": {\"126\": 57, \"26\": 96, \"18\": 1, \"93\": 1}, \"102\": {\"102\": 152, \"92\": 1, \"21\": 1}, \"81\": {\"107\": 26, \"14\": 9, \"117\": 3}, \"127\": {\"127\": 133, \"12\": 2, \"21\": 1}, \"123\": {\"91\": 1, \"123\": 20, \"90\": 2}, \"126\": {\"108\": 169, \"27\": 1}, \"109\": {\"88\": 70, \"70\": 87, \"108\": 1}, \"26\": {\"26\": 165, \"90\": 1, \"21\": 5, \"88\": 1}, \"105\": {\"105\": 105, \"40\": 2, \"21\": 1}, \"118\": {\"118\": 105}, \"93\": {\"87\": 195, \"11\": 1, \"0\": 4, \"30\": 1}, \"87\": {\"87\": 134, \"21\": 1, \"126\": 1}, \"36\": {\"36\": 168, \"94\": 1, \"21\": 2}, \"112\": {\"6\": 7, \"111\": 14, \"56\": 1, \"46\": 1}, \"103\": {\"42\": 12, \"124\": 9, \"88\": 1}, \"15\": {\"15\": 131, \"36\": 1, \"21\": 1}, \"14\": {\"14\": 122}, \"77\": {\"41\": 13, \"99\": 5, \"46\": 2}, \"119\": {\"119\": 22, \"90\": 1, \"125\": 1}, \"33\": {\"33\": 193, \"34\": 1, \"121\": 1, \"21\": 1, \"117\": 1}, \"27\": {\"36\": 27, \"27\": 73, \"21\": 1, \"30\": 11, \"108\": 7}, \"100\": {\"26\": 1, \"93\": 10, \"82\": 8, \"119\": 1, \"85\": 2, \"1\": 1}, \"52\": {\"25\": 26, \"128\": 1}, \"98\": {\"98\": 135, \"70\": 1}, \"19\": {\"19\": 37, \"20\": 1}, \"92\": {\"95\": 39}, \"125\": {\"125\": 218, \"81\": 1}, \"83\": {\"91\": 31, \"19\": 7, \"44\": 1}, \"70\": {\"70\": 151, \"88\": 9, \"30\": 1}, \"44\": {\"49\": 27, \"44\": 14, \"3\": 51, \"31\": 2, \"60\": 1}, \"89\": {\"52\": 36, \"1\": 9, \"53\": 1}, \"106\": {\"12\": 172, \"21\": 2}, \"3\": {\"114\": 32, \"44\": 70, \"3\": 4, \"60\": 1, \"6\": 1, \"113\": 1, \"21\": 2}, \"37\": {\"37\": 22}, \"108\": {\"108\": 136, \"30\": 9, \"88\": 5, \"124\": 1, \"70\": 5}, \"1\": {\"1\": 170, \"94\": 1}, \"21\": {\"70\": 17, \"21\": 32, \"88\": 1, \"124\": 1}, \"16\": {\"118\": 49, \"16\": 73, \"18\": 13, \"26\": 3}, \"18\": {\"113\": 150, \"18\": 3, \"21\": 4}, \"49\": {\"98\": 7, \"25\": 3, \"3\": 10, \"54\": 1, \"19\": 2, \"114\": 1, \"94\": 1}, \"29\": {\"42\": 33, \"1\": 2, \"53\": 1, \"128\": 1}, \"79\": {\"79\": 17, \"42\": 1}, \"10\": {\"10\": 151, \"18\": 1}, \"31\": {\"106\": 18, \"49\": 1, \"20\": 1, \"31\": 1, \"54\": 1, \"1\": 1}, \"86\": {\"91\": 20, \"125\": 12, \"103\": 10, \"29\": 2, \"4\": 3, \"88\": 1}, \"115\": {\"80\": 12, \"103\": 6}, \"24\": {\"108\": 91, \"27\": 14, \"36\": 8, \"21\": 1, \"88\": 1, \"30\": 1}, \"69\": {\"62\": 124, \"118\": 13, \"21\": 1}, \"107\": {\"127\": 143, \"114\": 1, \"107\": 8, \"105\": 2, \"9\": 1}, \"39\": {\"39\": 103, \"109\": 11, \"11\": 13, \"21\": 2, \"43\": 2, \"34\": 1}, \"30\": {\"30\": 65, \"108\": 1, \"2\": 1, \"21\": 1}, \"99\": {\"20\": 21, \"42\": 7, \"49\": 4}, \"8\": {\"11\": 125, \"8\": 53, \"110\": 5}, \"66\": {\"28\": 12, \"64\": 8, \"116\": 2, \"90\": 2}, \"114\": {\"114\": 180}, \"90\": {\"90\": 231, \"106\": 1}, \"4\": {\"4\": 124, \"21\": 3}, \"71\": {\"3\": 59, \"94\": 69, \"88\": 1, \"2\": 1, \"71\": 1, \"12\": 4, \"36\": 1}, \"45\": {\"43\": 1, \"45\": 4, \"29\": 5, \"39\": 1, \"21\": 3, \"58\": 1}, \"60\": {\"60\": 10, \"23\": 8, \"110\": 5}, \"61\": {\"93\": 1, \"29\": 16, \"30\": 1, \"82\": 1}, \"40\": {\"40\": 179, \"21\": 1}, \"104\": {\"112\": 15, \"19\": 5, \"91\": 3}, \"6\": {\"6\": 39, \"73\": 1}, \"84\": {\"84\": 161, \"127\": 5, \"12\": 3, \"87\": 1}, \"96\": {\"49\": 6, \"36\": 3, \"108\": 18, \"96\": 1}, \"5\": {\"5\": 113, \"124\": 1}, \"129\": {\"39\": 1, \"129\": 36, \"124\": 2}, \"124\": {\"124\": 163}, \"53\": {\"59\": 1, \"75\": 19, \"18\": 1, \"34\": 1, \"98\": 2, \"73\": 1}, \"12\": {\"12\": 126, \"88\": 3, \"30\": 1, \"21\": 2}, \"32\": {\"128\": 17, \"72\": 22, \"58\": 1, \"9\": 1}, \"0\": {\"0\": 103, \"88\": 1, \"21\": 1, \"10\": 1}, \"20\": {\"20\": 9, \"32\": 14, \"16\": 1}, \"101\": {\"101\": 156, \"106\": 2}, \"58\": {\"91\": 2, \"58\": 16, \"125\": 1}, \"97\": {\"36\": 8, \"108\": 13, \"27\": 6}, \"116\": {\"116\": 43, \"2\": 1}, \"72\": {\"72\": 26, \"46\": 3, \"16\": 10, \"47\": 1}, \"122\": {\"122\": 74, \"87\": 33, \"118\": 2, \"21\": 2, \"10\": 1}, \"55\": {\"4\": 17}, \"120\": {\"45\": 18, \"124\": 1, \"88\": 1, \"66\": 3, \"32\": 2}, \"73\": {\"129\": 20, \"114\": 6, \"70\": 2, \"46\": 1}, \"56\": {\"56\": 18}, \"42\": {\"91\": 15, \"90\": 16, \"64\": 2, \"42\": 2, \"34\": 1}, \"41\": {\"125\": 2, \"37\": 12, \"29\": 1, \"103\": 7, \"48\": 1, \"65\": 1}, \"51\": {\"98\": 18, \"75\": 1, \"72\": 2, \"12\": 1}, \"62\": {\"62\": 151}, \"13\": {\"13\": 14, \"2\": 8, \"54\": 1}, \"63\": {\"63\": 18, \"123\": 2, \"116\": 2}, \"80\": {\"115\": 21, \"121\": 1}, \"9\": {\"83\": 3, \"20\": 5, \"49\": 19, \"53\": 11, \"106\": 1, \"36\": 1}, \"28\": {\"28\": 24, \"92\": 1}, \"22\": {\"90\": 14, \"116\": 9, \"2\": 1}, \"128\": {\"128\": 33, \"25\": 1}, \"75\": {\"128\": 8, \"91\": 4, \"12\": 3, \"114\": 3, \"127\": 3, \"34\": 1}, \"59\": {\"6\": 2, \"59\": 13, \"111\": 2, \"26\": 1, \"121\": 1}, \"48\": {\"48\": 18}, \"74\": {\"74\": 21, \"27\": 1}, \"78\": {\"87\": 15, \"21\": 1, \"10\": 7, \"70\": 1}, \"95\": {\"26\": 9, \"61\": 11, \"121\": 18, \"81\": 8, \"126\": 1}, \"54\": {\"91\": 19, \"46\": 4}, \"82\": {\"82\": 44, \"114\": 2, \"85\": 1, \"128\": 1}, \"67\": {\"50\": 16, \"115\": 6}, \"50\": {\"32\": 4, \"50\": 9, \"62\": 3, \"9\": 4, \"21\": 1}, \"23\": {\"21\": 3, \"0\": 9, \"49\": 14, \"122\": 2, \"110\": 1, \"30\": 1}, \"121\": {\"121\": 40, \"81\": 1}, \"65\": {\"57\": 9, \"116\": 8, \"21\": 1, \"2\": 1}, \"34\": {\"34\": 38, \"106\": 1, \"14\": 1}, \"35\": {\"0\": 3, \"35\": 12, \"101\": 1, \"121\": 1}, \"2\": {\"2\": 26, \"29\": 13, \"21\": 1, \"123\": 1}, \"17\": {\"41\": 1, \"46\": 10, \"30\": 1, \"4\": 6, \"5\": 3, \"21\": 1}, \"46\": {\"5\": 1, \"46\": 3, \"125\": 1, \"6\": 3, \"88\": 1, \"124\": 7, \"119\": 1, \"90\": 1}, \"25\": {\"79\": 5, \"20\": 14, \"42\": 1, \"21\": 1}, \"47\": {\"18\": 1, \"53\": 7, \"42\": 3, \"47\": 6}}}, \"per_domain_accuracy\": {\"4\": {\"accuracy\": 0.7358947062808477, \"source?\": false}, \"3\": {\"accuracy\": 0.9606339468302658, \"source?\": true}, \"2\": {\"accuracy\": 0.7497531108038712, \"source?\": false}, \"1\": {\"accuracy\": 0.5928634970841159, \"source?\": false}}}, \"history\": {\"epoch_indices\": [1, 2, 3, 4, 5, 6, 7], \"train_label_loss\": [2.658045597395193, 0.8220690548585982, 0.3847907511387695, 0.24687011145615645, 0.18605694965482755, 0.15516342696912774, 0.12928146748572672], \"source_val_label_loss\": [1.3171975024334797, 0.582473151869588, 0.28420709596051796, 0.2674400396161265, 0.23864860881071587, 0.2167835467821592, 0.20143838981529336], \"target_val_label_loss\": [2.112178737149578, 1.6681495899934649, 1.4737495617886467, 1.557623210811216, 1.5405305224981267, 1.4534380351150384, 1.4979595270116957], \"source_val_acc_label\": [0.84079754601227, 0.9237218813905931, 0.9606339468302658, 0.9462167689161555, 0.9511247443762781, 0.9519427402862985, 0.9676891615541923], \"target_val_acc_label\": [0.5756802721088435, 0.6645408163265306, 0.6931580324437467, 0.665914442700157, 0.6810897435897436, 0.6805991627420199, 0.6928309785452642]}, \"dataset_metrics\": {\"source\": {\"train\": {\"n_unique_x\": 45862, \"n_unique_y\": 130, \"n_batch/episode\": 359}, \"val\": {\"n_unique_x\": 9780, \"n_unique_y\": 130, \"n_batch/episode\": 77}, \"test\": {\"n_unique_x\": 9967, \"n_unique_y\": 130, \"n_batch/episode\": 78}}, \"target\": {\"train\": {\"n_unique_x\": 143327, \"n_unique_y\": 130, \"n_batch/episode\": 1120}, \"val\": {\"n_unique_x\": 30576, \"n_unique_y\": 130, \"n_batch/episode\": 239}, \"test\": {\"n_unique_x\": 31104, \"n_unique_y\": 130, \"n_batch/episode\": 243}}}}'"
      ]
     },
     "execution_count": 20,
     "metadata": {},
     "output_type": "execute_result"
    }
   ],
   "source": [
    "json.dumps(experiment)"
   ]
  }
 ],
 "metadata": {
  "celltoolbar": "Tags",
  "kernelspec": {
   "display_name": "Python 3 (ipykernel)",
   "language": "python",
   "name": "python3"
  },
  "language_info": {
   "codemirror_mode": {
    "name": "ipython",
    "version": 3
   },
   "file_extension": ".py",
   "mimetype": "text/x-python",
   "name": "python",
   "nbconvert_exporter": "python",
   "pygments_lexer": "ipython3",
   "version": "3.8.12"
  },
  "papermill": {
   "default_parameters": {},
   "duration": 71.072891,
   "end_time": "2022-03-26T02:16:17.467548",
   "environment_variables": {},
   "exception": null,
   "input_path": "/root/csc500-main/csc500-notebooks/templates/cnn_template.ipynb",
   "output_path": "trial.ipynb",
   "parameters": {
    "parameters": {
     "BEST_MODEL_PATH": "./best_model.pth",
     "NUM_LOGS_PER_EPOCH": 10,
     "batch_size": 128,
     "criteria_for_best": "target_accuracy",
     "dataset_seed": 500,
     "device": "cuda",
     "domains_source": [
      3
     ],
     "domains_target": [
      1,
      2,
      4
     ],
     "experiment_name": "cnn_1:wisig",
     "labels": [
      "1-10",
      "1-12",
      "1-14",
      "1-16",
      "1-18",
      "1-19",
      "1-8",
      "10-11",
      "10-17",
      "10-4",
      "10-7",
      "11-1",
      "11-10",
      "11-19",
      "11-20",
      "11-4",
      "11-7",
      "12-19",
      "12-20",
      "12-7",
      "13-14",
      "13-18",
      "13-19",
      "13-20",
      "13-3",
      "13-7",
      "14-10",
      "14-11",
      "14-12",
      "14-13",
      "14-14",
      "14-19",
      "14-20",
      "14-7",
      "14-8",
      "14-9",
      "15-1",
      "15-19",
      "15-6",
      "16-1",
      "16-16",
      "16-19",
      "16-20",
      "17-10",
      "17-11",
      "18-1",
      "18-10",
      "18-11",
      "18-12",
      "18-13",
      "18-14",
      "18-15",
      "18-16",
      "18-17",
      "18-19",
      "18-2",
      "18-20",
      "18-4",
      "18-5",
      "18-7",
      "18-8",
      "18-9",
      "19-1",
      "19-10",
      "19-11",
      "19-12",
      "19-13",
      "19-14",
      "19-15",
      "19-19",
      "19-2",
      "19-20",
      "19-3",
      "19-4",
      "19-6",
      "19-7",
      "19-8",
      "19-9",
      "2-1",
      "2-13",
      "2-15",
      "2-3",
      "2-4",
      "2-5",
      "2-6",
      "2-7",
      "2-8",
      "20-1",
      "20-12",
      "20-14",
      "20-15",
      "20-16",
      "20-18",
      "20-19",
      "20-20",
      "20-3",
      "20-4",
      "20-5",
      "20-7",
      "20-8",
      "3-1",
      "3-13",
      "3-18",
      "3-2",
      "3-8",
      "4-1",
      "4-10",
      "4-11",
      "5-1",
      "5-5",
      "6-1",
      "6-15",
      "6-6",
      "7-10",
      "7-11",
      "7-12",
      "7-13",
      "7-14",
      "7-7",
      "7-8",
      "7-9",
      "8-1",
      "8-13",
      "8-14",
      "8-18",
      "8-20",
      "8-3",
      "8-8",
      "9-1",
      "9-7"
     ],
     "lr": 0.0001,
     "n_epoch": 50,
     "normalize_source": false,
     "normalize_target": false,
     "num_examples_per_domain_per_label_source": -1,
     "num_examples_per_domain_per_label_target": -1,
     "patience": 3,
     "pickle_name_source": "wisig.node3-19.stratified_ds.2022A.pkl",
     "pickle_name_target": "wisig.node3-19.stratified_ds.2022A.pkl",
     "seed": 500,
     "torch_default_dtype": "torch.float32",
     "x_net": [
      {
       "class": "nnReshape",
       "kargs": {
        "shape": [
         -1,
         1,
         2,
         256
        ]
       }
      },
      {
       "class": "Conv2d",
       "kargs": {
        "bias": false,
        "in_channels": 1,
        "kernel_size": [
         1,
         7
        ],
        "out_channels": 256,
        "padding": [
         0,
         3
        ]
       }
      },
      {
       "class": "ReLU",
       "kargs": {
        "inplace": true
       }
      },
      {
       "class": "BatchNorm2d",
       "kargs": {
        "num_features": 256
       }
      },
      {
       "class": "Conv2d",
       "kargs": {
        "bias": true,
        "in_channels": 256,
        "kernel_size": [
         2,
         7
        ],
        "out_channels": 80,
        "padding": [
         0,
         3
        ]
       }
      },
      {
       "class": "ReLU",
       "kargs": {
        "inplace": true
       }
      },
      {
       "class": "BatchNorm2d",
       "kargs": {
        "num_features": 80
       }
      },
      {
       "class": "Flatten",
       "kargs": {}
      },
      {
       "class": "Linear",
       "kargs": {
        "in_features": 20480,
        "out_features": 256
       }
      },
      {
       "class": "ReLU",
       "kargs": {
        "inplace": true
       }
      },
      {
       "class": "BatchNorm1d",
       "kargs": {
        "num_features": 256
       }
      },
      {
       "class": "Linear",
       "kargs": {
        "in_features": 256,
        "out_features": 130
       }
      }
     ]
    }
   },
   "start_time": "2022-03-26T02:15:06.394657",
   "version": "2.3.4"
  }
 },
 "nbformat": 4,
 "nbformat_minor": 5
}