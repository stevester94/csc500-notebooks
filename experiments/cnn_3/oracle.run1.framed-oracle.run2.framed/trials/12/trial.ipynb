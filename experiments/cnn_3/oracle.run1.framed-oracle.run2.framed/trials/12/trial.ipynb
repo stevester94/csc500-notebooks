{
 "cells": [
  {
   "cell_type": "code",
   "execution_count": 1,
   "id": "2324682e",
   "metadata": {
    "execution": {
     "iopub.execute_input": "2022-03-28T03:58:01.372860Z",
     "iopub.status.busy": "2022-03-28T03:58:01.371983Z",
     "iopub.status.idle": "2022-03-28T03:58:02.702116Z",
     "shell.execute_reply": "2022-03-28T03:58:02.700962Z"
    },
    "papermill": {
     "duration": 1.370462,
     "end_time": "2022-03-28T03:58:02.702325",
     "exception": false,
     "start_time": "2022-03-28T03:58:01.331863",
     "status": "completed"
    },
    "tags": []
   },
   "outputs": [],
   "source": [
    "import os, json, sys, time, random\n",
    "import numpy as np\n",
    "import torch\n",
    "from  easydict import EasyDict\n",
    "from math import floor\n",
    "from easydict import EasyDict\n",
    "\n",
    "from steves_utils.vanilla_train_eval_test_jig import  Vanilla_Train_Eval_Test_Jig\n",
    "\n",
    "from steves_utils.torch_utils import get_dataset_metrics, independent_accuracy_assesment\n",
    "from steves_models.configurable_vanilla import Configurable_Vanilla\n",
    "from steves_utils.torch_sequential_builder import build_sequential\n",
    "from steves_utils.lazy_map import Lazy_Map\n",
    "from steves_utils.sequence_aggregator import Sequence_Aggregator\n",
    "\n",
    "from steves_utils.stratified_dataset.traditional_accessor import Traditional_Accessor_Factory\n",
    "\n",
    "from steves_utils.cnn_do_report import (\n",
    "    get_loss_curve,\n",
    "    get_results_table,\n",
    "    get_parameters_table,\n",
    "    get_domain_accuracies,\n",
    ")\n",
    "\n",
    "from steves_utils.torch_utils import (\n",
    "    confusion_by_domain_over_dataloader,\n",
    "    independent_accuracy_assesment\n",
    ")\n",
    "\n",
    "from steves_utils.utils_v2 import (\n",
    "    per_domain_accuracy_from_confusion,\n",
    "    get_datasets_base_path\n",
    ")\n",
    "\n",
    "# from steves_utils.ptn_do_report import TBD"
   ]
  },
  {
   "cell_type": "code",
   "execution_count": 2,
   "id": "1b29e3fe",
   "metadata": {
    "execution": {
     "iopub.execute_input": "2022-03-28T03:58:02.739917Z",
     "iopub.status.busy": "2022-03-28T03:58:02.739498Z",
     "iopub.status.idle": "2022-03-28T03:58:02.742604Z",
     "shell.execute_reply": "2022-03-28T03:58:02.743297Z"
    },
    "papermill": {
     "duration": 0.023274,
     "end_time": "2022-03-28T03:58:02.743488",
     "exception": false,
     "start_time": "2022-03-28T03:58:02.720214",
     "status": "completed"
    },
    "tags": []
   },
   "outputs": [],
   "source": [
    "required_parameters = {\n",
    "    \"experiment_name\",\n",
    "    \"lr\",\n",
    "    \"device\",\n",
    "    \"dataset_seed\",\n",
    "    \"seed\",\n",
    "    \"labels\",\n",
    "    \"domains_target\",\n",
    "    \"domains_source\",\n",
    "    \"num_examples_per_domain_per_label_source\",\n",
    "    \"num_examples_per_domain_per_label_target\",\n",
    "    \"batch_size\",\n",
    "    \"n_epoch\",\n",
    "    \"patience\",\n",
    "    \"criteria_for_best\",\n",
    "    \"normalize_source\",\n",
    "    \"normalize_target\",\n",
    "    \"x_net\",\n",
    "    \"NUM_LOGS_PER_EPOCH\",\n",
    "    \"BEST_MODEL_PATH\",\n",
    "    \"pickle_name_source\",\n",
    "    \"pickle_name_target\",\n",
    "    \"torch_default_dtype\",\n",
    "}"
   ]
  },
  {
   "cell_type": "code",
   "execution_count": 3,
   "id": "670b5fb8",
   "metadata": {
    "execution": {
     "iopub.execute_input": "2022-03-28T03:58:02.788664Z",
     "iopub.status.busy": "2022-03-28T03:58:02.787827Z",
     "iopub.status.idle": "2022-03-28T03:58:02.797263Z",
     "shell.execute_reply": "2022-03-28T03:58:02.796536Z"
    },
    "papermill": {
     "duration": 0.035866,
     "end_time": "2022-03-28T03:58:02.797424",
     "exception": false,
     "start_time": "2022-03-28T03:58:02.761558",
     "status": "completed"
    },
    "tags": [
     "parameters"
    ]
   },
   "outputs": [],
   "source": [
    "from steves_utils.ORACLE.utils_v2 import (\n",
    "    ALL_SERIAL_NUMBERS,\n",
    "    ALL_DISTANCES_FEET_NARROWED,\n",
    ")\n",
    "\n",
    "standalone_parameters = {}\n",
    "standalone_parameters[\"experiment_name\"] = \"MANUAL CORES CNN\"\n",
    "standalone_parameters[\"lr\"] = 0.0001\n",
    "standalone_parameters[\"device\"] = \"cuda\"\n",
    "\n",
    "standalone_parameters[\"dataset_seed\"] = 1337\n",
    "standalone_parameters[\"seed\"] = 1337\n",
    "standalone_parameters[\"labels\"] = ALL_SERIAL_NUMBERS\n",
    "\n",
    "standalone_parameters[\"domains_source\"] = [8,32,50]\n",
    "standalone_parameters[\"domains_target\"] = [14,20,26,38,44,]\n",
    "\n",
    "standalone_parameters[\"num_examples_per_domain_per_label_source\"]=-1\n",
    "standalone_parameters[\"num_examples_per_domain_per_label_target\"]=-1\n",
    "\n",
    "standalone_parameters[\"pickle_name_source\"] = \"oracle.Run1_framed_2000Examples_stratified_ds.2022A.pkl\"\n",
    "standalone_parameters[\"pickle_name_target\"] = \"oracle.Run2_framed_2000Examples_stratified_ds.2022A.pkl\"\n",
    "\n",
    "standalone_parameters[\"torch_default_dtype\"] = \"torch.float32\" \n",
    "\n",
    "standalone_parameters[\"batch_size\"]=128\n",
    "\n",
    "standalone_parameters[\"n_epoch\"] = 3\n",
    "\n",
    "standalone_parameters[\"patience\"] = 10\n",
    "\n",
    "standalone_parameters[\"criteria_for_best\"] = \"target_accuracy\"\n",
    "standalone_parameters[\"normalize_source\"] = False\n",
    "standalone_parameters[\"normalize_target\"] = False\n",
    "\n",
    "standalone_parameters[\"x_net\"] =     [\n",
    "    {\"class\": \"nnReshape\", \"kargs\": {\"shape\":[-1, 1, 2, 256]}},\n",
    "    {\"class\": \"Conv2d\", \"kargs\": { \"in_channels\":1, \"out_channels\":256, \"kernel_size\":(1,7), \"bias\":False, \"padding\":(0,3), },},\n",
    "    {\"class\": \"ReLU\", \"kargs\": {\"inplace\": True}},\n",
    "    {\"class\": \"BatchNorm2d\", \"kargs\": {\"num_features\":256}},\n",
    "\n",
    "    {\"class\": \"Conv2d\", \"kargs\": { \"in_channels\":256, \"out_channels\":80, \"kernel_size\":(2,7), \"bias\":True, \"padding\":(0,3), },},\n",
    "    {\"class\": \"ReLU\", \"kargs\": {\"inplace\": True}},\n",
    "    {\"class\": \"BatchNorm2d\", \"kargs\": {\"num_features\":80}},\n",
    "    {\"class\": \"Flatten\", \"kargs\": {}},\n",
    "\n",
    "    {\"class\": \"Linear\", \"kargs\": {\"in_features\": 80*256, \"out_features\": 256}}, # 80 units per IQ pair\n",
    "    {\"class\": \"ReLU\", \"kargs\": {\"inplace\": True}},\n",
    "    {\"class\": \"BatchNorm1d\", \"kargs\": {\"num_features\":256}},\n",
    "\n",
    "    {\"class\": \"Linear\", \"kargs\": {\"in_features\": 256, \"out_features\": len(standalone_parameters[\"labels\"])}},\n",
    "]\n",
    "\n",
    "standalone_parameters[\"NUM_LOGS_PER_EPOCH\"] = 10\n",
    "standalone_parameters[\"BEST_MODEL_PATH\"] = \"./best_model.pth\""
   ]
  },
  {
   "cell_type": "code",
   "execution_count": 4,
   "id": "2b970093",
   "metadata": {
    "execution": {
     "iopub.execute_input": "2022-03-28T03:58:02.842781Z",
     "iopub.status.busy": "2022-03-28T03:58:02.841850Z",
     "iopub.status.idle": "2022-03-28T03:58:02.844109Z",
     "shell.execute_reply": "2022-03-28T03:58:02.844566Z"
    },
    "papermill": {
     "duration": 0.030501,
     "end_time": "2022-03-28T03:58:02.844702",
     "exception": false,
     "start_time": "2022-03-28T03:58:02.814201",
     "status": "completed"
    },
    "tags": [
     "injected-parameters"
    ]
   },
   "outputs": [],
   "source": [
    "# Parameters\n",
    "parameters = {\n",
    "    \"experiment_name\": \"cnn_3:oracle.run1.framed-oracle.run2.framed\",\n",
    "    \"labels\": [\n",
    "        \"3123D52\",\n",
    "        \"3123D65\",\n",
    "        \"3123D79\",\n",
    "        \"3123D80\",\n",
    "        \"3123D54\",\n",
    "        \"3123D70\",\n",
    "        \"3123D7B\",\n",
    "        \"3123D89\",\n",
    "        \"3123D58\",\n",
    "        \"3123D76\",\n",
    "        \"3123D7D\",\n",
    "        \"3123EFE\",\n",
    "        \"3123D64\",\n",
    "        \"3123D78\",\n",
    "        \"3123D7E\",\n",
    "        \"3124E4A\",\n",
    "    ],\n",
    "    \"domains_source\": [8, 32, 50, 14, 20, 26, 38, 44],\n",
    "    \"domains_target\": [8, 32, 50, 14, 20, 26, 38, 44],\n",
    "    \"pickle_name_source\": \"oracle.Run1_framed_2000Examples_stratified_ds.2022A.pkl\",\n",
    "    \"pickle_name_target\": \"oracle.Run2_framed_2000Examples_stratified_ds.2022A.pkl\",\n",
    "    \"device\": \"cuda\",\n",
    "    \"lr\": 0.0001,\n",
    "    \"batch_size\": 128,\n",
    "    \"normalize_source\": False,\n",
    "    \"normalize_target\": False,\n",
    "    \"num_examples_per_domain_per_label_source\": -1,\n",
    "    \"num_examples_per_domain_per_label_target\": -1,\n",
    "    \"torch_default_dtype\": \"torch.float32\",\n",
    "    \"n_epoch\": 50,\n",
    "    \"patience\": 3,\n",
    "    \"criteria_for_best\": \"target_accuracy\",\n",
    "    \"x_net\": [\n",
    "        {\"class\": \"nnReshape\", \"kargs\": {\"shape\": [-1, 1, 2, 256]}},\n",
    "        {\n",
    "            \"class\": \"Conv2d\",\n",
    "            \"kargs\": {\n",
    "                \"in_channels\": 1,\n",
    "                \"out_channels\": 256,\n",
    "                \"kernel_size\": [1, 7],\n",
    "                \"bias\": False,\n",
    "                \"padding\": [0, 3],\n",
    "            },\n",
    "        },\n",
    "        {\"class\": \"ReLU\", \"kargs\": {\"inplace\": True}},\n",
    "        {\"class\": \"BatchNorm2d\", \"kargs\": {\"num_features\": 256}},\n",
    "        {\n",
    "            \"class\": \"Conv2d\",\n",
    "            \"kargs\": {\n",
    "                \"in_channels\": 256,\n",
    "                \"out_channels\": 80,\n",
    "                \"kernel_size\": [2, 7],\n",
    "                \"bias\": True,\n",
    "                \"padding\": [0, 3],\n",
    "            },\n",
    "        },\n",
    "        {\"class\": \"ReLU\", \"kargs\": {\"inplace\": True}},\n",
    "        {\"class\": \"BatchNorm2d\", \"kargs\": {\"num_features\": 80}},\n",
    "        {\"class\": \"Flatten\", \"kargs\": {}},\n",
    "        {\"class\": \"Linear\", \"kargs\": {\"in_features\": 20480, \"out_features\": 256}},\n",
    "        {\"class\": \"ReLU\", \"kargs\": {\"inplace\": True}},\n",
    "        {\"class\": \"BatchNorm1d\", \"kargs\": {\"num_features\": 256}},\n",
    "        {\"class\": \"Linear\", \"kargs\": {\"in_features\": 256, \"out_features\": 16}},\n",
    "    ],\n",
    "    \"NUM_LOGS_PER_EPOCH\": 10,\n",
    "    \"BEST_MODEL_PATH\": \"./best_model.pth\",\n",
    "    \"dataset_seed\": 7,\n",
    "    \"seed\": 7,\n",
    "}\n"
   ]
  },
  {
   "cell_type": "code",
   "execution_count": 5,
   "id": "759b56ec",
   "metadata": {
    "execution": {
     "iopub.execute_input": "2022-03-28T03:58:02.883250Z",
     "iopub.status.busy": "2022-03-28T03:58:02.882879Z",
     "iopub.status.idle": "2022-03-28T03:58:02.885593Z",
     "shell.execute_reply": "2022-03-28T03:58:02.885288Z"
    },
    "papermill": {
     "duration": 0.023818,
     "end_time": "2022-03-28T03:58:02.885666",
     "exception": false,
     "start_time": "2022-03-28T03:58:02.861848",
     "status": "completed"
    },
    "tags": []
   },
   "outputs": [],
   "source": [
    "# Set this to True if you want to run this template directly\n",
    "STANDALONE = False\n",
    "if STANDALONE:\n",
    "    print(\"parameters not injected, running with standalone_parameters\")\n",
    "    parameters = standalone_parameters\n",
    "\n",
    "if not 'parameters' in locals() and not 'parameters' in globals():\n",
    "    raise Exception(\"Parameter injection failed\")\n",
    "\n",
    "#Use an easy dict for all the parameters\n",
    "p = EasyDict(parameters)\n",
    "\n",
    "supplied_keys = set(p.keys())\n",
    "\n",
    "if  supplied_keys != required_parameters:\n",
    "    print(\"Parameters are incorrect\")\n",
    "    if len(supplied_keys - required_parameters)>0: print(\"Shouldn't have:\", str(supplied_keys - required_parameters))\n",
    "    if len(required_parameters - supplied_keys)>0: print(\"Need to have:\", str(required_parameters - supplied_keys))\n",
    "    raise RuntimeError(\"Parameters are incorrect\")\n",
    "\n"
   ]
  },
  {
   "cell_type": "code",
   "execution_count": 6,
   "id": "d5c66a71",
   "metadata": {
    "execution": {
     "iopub.execute_input": "2022-03-28T03:58:02.922372Z",
     "iopub.status.busy": "2022-03-28T03:58:02.922002Z",
     "iopub.status.idle": "2022-03-28T03:58:02.926386Z",
     "shell.execute_reply": "2022-03-28T03:58:02.925906Z"
    },
    "papermill": {
     "duration": 0.022112,
     "end_time": "2022-03-28T03:58:02.926493",
     "exception": false,
     "start_time": "2022-03-28T03:58:02.904381",
     "status": "completed"
    },
    "tags": []
   },
   "outputs": [],
   "source": [
    "###################################\n",
    "# Set the RNGs and make it all deterministic\n",
    "###################################\n",
    "np.random.seed(p.seed)\n",
    "random.seed(p.seed)\n",
    "torch.manual_seed(p.seed)\n",
    "\n",
    "torch.use_deterministic_algorithms(True) "
   ]
  },
  {
   "cell_type": "code",
   "execution_count": 7,
   "id": "92a65876",
   "metadata": {
    "execution": {
     "iopub.execute_input": "2022-03-28T03:58:02.960132Z",
     "iopub.status.busy": "2022-03-28T03:58:02.959765Z",
     "iopub.status.idle": "2022-03-28T03:58:02.962449Z",
     "shell.execute_reply": "2022-03-28T03:58:02.962132Z"
    },
    "papermill": {
     "duration": 0.019441,
     "end_time": "2022-03-28T03:58:02.962521",
     "exception": false,
     "start_time": "2022-03-28T03:58:02.943080",
     "status": "completed"
    },
    "tags": []
   },
   "outputs": [],
   "source": [
    "torch.set_default_dtype(eval(p.torch_default_dtype))"
   ]
  },
  {
   "cell_type": "code",
   "execution_count": 8,
   "id": "f1a32f01",
   "metadata": {
    "execution": {
     "iopub.execute_input": "2022-03-28T03:58:02.997148Z",
     "iopub.status.busy": "2022-03-28T03:58:02.996518Z",
     "iopub.status.idle": "2022-03-28T03:58:03.037254Z",
     "shell.execute_reply": "2022-03-28T03:58:03.036474Z"
    },
    "papermill": {
     "duration": 0.058316,
     "end_time": "2022-03-28T03:58:03.037444",
     "exception": false,
     "start_time": "2022-03-28T03:58:02.979128",
     "status": "completed"
    },
    "tags": []
   },
   "outputs": [],
   "source": [
    "###################################\n",
    "# Build the network(s)\n",
    "# Note: It's critical to do this AFTER setting the RNG\n",
    "###################################\n",
    "x_net = build_sequential(p.x_net)"
   ]
  },
  {
   "cell_type": "code",
   "execution_count": 9,
   "id": "a276cd83",
   "metadata": {
    "execution": {
     "iopub.execute_input": "2022-03-28T03:58:03.073210Z",
     "iopub.status.busy": "2022-03-28T03:58:03.072846Z",
     "iopub.status.idle": "2022-03-28T03:58:03.075285Z",
     "shell.execute_reply": "2022-03-28T03:58:03.075608Z"
    },
    "papermill": {
     "duration": 0.020388,
     "end_time": "2022-03-28T03:58:03.075693",
     "exception": false,
     "start_time": "2022-03-28T03:58:03.055305",
     "status": "completed"
    },
    "tags": []
   },
   "outputs": [],
   "source": [
    "start_time_secs = time.time()"
   ]
  },
  {
   "cell_type": "code",
   "execution_count": 10,
   "id": "de702e48",
   "metadata": {
    "execution": {
     "iopub.execute_input": "2022-03-28T03:58:03.119108Z",
     "iopub.status.busy": "2022-03-28T03:58:03.118255Z",
     "iopub.status.idle": "2022-03-28T03:58:10.008110Z",
     "shell.execute_reply": "2022-03-28T03:58:10.008782Z"
    },
    "papermill": {
     "duration": 6.916841,
     "end_time": "2022-03-28T03:58:10.009009",
     "exception": false,
     "start_time": "2022-03-28T03:58:03.092168",
     "status": "completed"
    },
    "tags": []
   },
   "outputs": [],
   "source": [
    "def wrap_in_dataloader(p, ds):\n",
    "    return torch.utils.data.DataLoader(\n",
    "        ds,\n",
    "        batch_size=p.batch_size,\n",
    "        shuffle=True,\n",
    "        num_workers=1,\n",
    "        persistent_workers=True,\n",
    "        prefetch_factor=50,\n",
    "        pin_memory=True\n",
    "    )\n",
    "\n",
    "taf_source = Traditional_Accessor_Factory(\n",
    "    labels=p.labels,\n",
    "    domains=p.domains_source,\n",
    "    num_examples_per_domain_per_label=p.num_examples_per_domain_per_label_source,\n",
    "    pickle_path=os.path.join(get_datasets_base_path(), p.pickle_name_source),\n",
    "    seed=p.dataset_seed\n",
    ")\n",
    "train_original_source, val_original_source, test_original_source = \\\n",
    "    taf_source.get_train(), taf_source.get_val(), taf_source.get_test()\n",
    "\n",
    "\n",
    "taf_target = Traditional_Accessor_Factory(\n",
    "    labels=p.labels,\n",
    "    domains=p.domains_target,\n",
    "    num_examples_per_domain_per_label=p.num_examples_per_domain_per_label_source,\n",
    "    pickle_path=os.path.join(get_datasets_base_path(), p.pickle_name_target),\n",
    "    seed=p.dataset_seed\n",
    ")\n",
    "train_original_target, val_original_target, test_original_target = \\\n",
    "    taf_target.get_train(), taf_target.get_val(), taf_target.get_test()\n",
    "\n",
    "\n",
    "# For CNN We only use X and Y. And we only train on the source.\n",
    "# Properly form the data using a transform lambda and Lazy_Map. Finally wrap them in a dataloader\n",
    "\n",
    "transform_lambda = lambda ex: ex[:2] # Strip the tuple to just (x,y)\n",
    "\n",
    "\n",
    "train_processed_source = wrap_in_dataloader(\n",
    "    p,\n",
    "    Lazy_Map(train_original_source, transform_lambda)\n",
    ")\n",
    "val_processed_source = wrap_in_dataloader(\n",
    "    p,\n",
    "    Lazy_Map(val_original_source, transform_lambda)\n",
    ")\n",
    "test_processed_source = wrap_in_dataloader(\n",
    "    p,\n",
    "    Lazy_Map(test_original_source, transform_lambda)\n",
    ")\n",
    "\n",
    "train_processed_target = wrap_in_dataloader(\n",
    "    p,\n",
    "    Lazy_Map(train_original_target, transform_lambda)\n",
    ")\n",
    "val_processed_target = wrap_in_dataloader(\n",
    "    p,\n",
    "    Lazy_Map(val_original_target, transform_lambda)\n",
    ")\n",
    "test_processed_target  = wrap_in_dataloader(\n",
    "    p,\n",
    "    Lazy_Map(test_original_target, transform_lambda)\n",
    ")\n",
    "\n",
    "\n",
    "\n",
    "datasets = EasyDict({\n",
    "    \"source\": {\n",
    "        \"original\": {\"train\":train_original_source, \"val\":val_original_source, \"test\":test_original_source},\n",
    "        \"processed\": {\"train\":train_processed_source, \"val\":val_processed_source, \"test\":test_processed_source}\n",
    "    },\n",
    "    \"target\": {\n",
    "        \"original\": {\"train\":train_original_target, \"val\":val_original_target, \"test\":test_original_target},\n",
    "        \"processed\": {\"train\":train_processed_target, \"val\":val_processed_target, \"test\":test_processed_target}\n",
    "    },\n",
    "})"
   ]
  },
  {
   "cell_type": "code",
   "execution_count": 11,
   "id": "a11b26bd",
   "metadata": {
    "execution": {
     "iopub.execute_input": "2022-03-28T03:58:10.086356Z",
     "iopub.status.busy": "2022-03-28T03:58:10.085530Z",
     "iopub.status.idle": "2022-03-28T03:58:15.393017Z",
     "shell.execute_reply": "2022-03-28T03:58:15.392172Z"
    },
    "papermill": {
     "duration": 5.365682,
     "end_time": "2022-03-28T03:58:15.393186",
     "exception": false,
     "start_time": "2022-03-28T03:58:10.027504",
     "status": "completed"
    },
    "tags": []
   },
   "outputs": [
    {
     "data": {
      "text/plain": [
       "torch.float32"
      ]
     },
     "execution_count": 11,
     "metadata": {},
     "output_type": "execute_result"
    }
   ],
   "source": [
    "ep = next(iter(test_processed_target))\n",
    "ep[0].dtype"
   ]
  },
  {
   "cell_type": "code",
   "execution_count": 12,
   "id": "19425fad",
   "metadata": {
    "execution": {
     "iopub.execute_input": "2022-03-28T03:58:15.454144Z",
     "iopub.status.busy": "2022-03-28T03:58:15.453572Z",
     "iopub.status.idle": "2022-03-28T03:58:15.505865Z",
     "shell.execute_reply": "2022-03-28T03:58:15.505108Z"
    },
    "papermill": {
     "duration": 0.090445,
     "end_time": "2022-03-28T03:58:15.506047",
     "exception": false,
     "start_time": "2022-03-28T03:58:15.415602",
     "status": "completed"
    },
    "tags": []
   },
   "outputs": [],
   "source": [
    "model = Configurable_Vanilla(\n",
    "    x_net=x_net,\n",
    "    label_loss_object=torch.nn.NLLLoss(),\n",
    "    learning_rate=p.lr\n",
    ")"
   ]
  },
  {
   "cell_type": "code",
   "execution_count": 13,
   "id": "7f6d4f2c",
   "metadata": {
    "execution": {
     "iopub.execute_input": "2022-03-28T03:58:15.550995Z",
     "iopub.status.busy": "2022-03-28T03:58:15.550434Z",
     "iopub.status.idle": "2022-03-28T04:02:13.342294Z",
     "shell.execute_reply": "2022-03-28T04:02:13.341593Z"
    },
    "papermill": {
     "duration": 237.813378,
     "end_time": "2022-03-28T04:02:13.342515",
     "exception": false,
     "start_time": "2022-03-28T03:58:15.529137",
     "status": "completed"
    },
    "tags": []
   },
   "outputs": [
    {
     "name": "stdout",
     "output_type": "stream",
     "text": [
      "epoch: 1, [batch: 1 / 1400], examples_per_second: 614.9263, train_label_loss: 2.8052, \n"
     ]
    },
    {
     "name": "stdout",
     "output_type": "stream",
     "text": [
      "epoch: 1, [batch: 140 / 1400], examples_per_second: 11543.0768, train_label_loss: 2.7054, \n"
     ]
    },
    {
     "name": "stdout",
     "output_type": "stream",
     "text": [
      "epoch: 1, [batch: 280 / 1400], examples_per_second: 11653.3373, train_label_loss: 2.5594, \n"
     ]
    },
    {
     "name": "stdout",
     "output_type": "stream",
     "text": [
      "epoch: 1, [batch: 420 / 1400], examples_per_second: 11718.7387, train_label_loss: 2.4400, \n"
     ]
    },
    {
     "name": "stdout",
     "output_type": "stream",
     "text": [
      "epoch: 1, [batch: 560 / 1400], examples_per_second: 11580.0024, train_label_loss: 2.3068, \n"
     ]
    },
    {
     "name": "stdout",
     "output_type": "stream",
     "text": [
      "epoch: 1, [batch: 700 / 1400], examples_per_second: 11585.5679, train_label_loss: 2.1522, \n"
     ]
    },
    {
     "name": "stdout",
     "output_type": "stream",
     "text": [
      "epoch: 1, [batch: 840 / 1400], examples_per_second: 11222.3253, train_label_loss: 1.9630, \n"
     ]
    },
    {
     "name": "stdout",
     "output_type": "stream",
     "text": [
      "epoch: 1, [batch: 980 / 1400], examples_per_second: 11581.3442, train_label_loss: 1.8902, \n"
     ]
    },
    {
     "name": "stdout",
     "output_type": "stream",
     "text": [
      "epoch: 1, [batch: 1120 / 1400], examples_per_second: 11490.0879, train_label_loss: 1.7401, \n"
     ]
    },
    {
     "name": "stdout",
     "output_type": "stream",
     "text": [
      "epoch: 1, [batch: 1260 / 1400], examples_per_second: 11645.1241, train_label_loss: 1.5568, \n"
     ]
    },
    {
     "name": "stdout",
     "output_type": "stream",
     "text": [
      "=============================================================\n",
      "epoch: 1, source_val_acc_label: 0.6175, source_val_label_loss: 1.4692, target_val_acc_label: 0.5604, target_val_label_loss: 1.5372, \n",
      "=============================================================\n"
     ]
    },
    {
     "name": "stdout",
     "output_type": "stream",
     "text": [
      "New best\n",
      "epoch: 2, [batch: 1 / 1400], examples_per_second: 53.0248, train_label_loss: 1.4490, \n"
     ]
    },
    {
     "name": "stdout",
     "output_type": "stream",
     "text": [
      "epoch: 2, [batch: 140 / 1400], examples_per_second: 11394.4240, train_label_loss: 1.4525, \n"
     ]
    },
    {
     "name": "stdout",
     "output_type": "stream",
     "text": [
      "epoch: 2, [batch: 280 / 1400], examples_per_second: 11581.1711, train_label_loss: 1.2651, \n"
     ]
    },
    {
     "name": "stdout",
     "output_type": "stream",
     "text": [
      "epoch: 2, [batch: 420 / 1400], examples_per_second: 11596.7149, train_label_loss: 1.3906, \n"
     ]
    },
    {
     "name": "stdout",
     "output_type": "stream",
     "text": [
      "epoch: 2, [batch: 560 / 1400], examples_per_second: 11247.5088, train_label_loss: 1.1440, \n"
     ]
    },
    {
     "name": "stdout",
     "output_type": "stream",
     "text": [
      "epoch: 2, [batch: 700 / 1400], examples_per_second: 11705.8262, train_label_loss: 0.9473, \n"
     ]
    },
    {
     "name": "stdout",
     "output_type": "stream",
     "text": [
      "epoch: 2, [batch: 840 / 1400], examples_per_second: 11625.0021, train_label_loss: 1.1333, \n"
     ]
    },
    {
     "name": "stdout",
     "output_type": "stream",
     "text": [
      "epoch: 2, [batch: 980 / 1400], examples_per_second: 11592.0469, train_label_loss: 0.8480, \n"
     ]
    },
    {
     "name": "stdout",
     "output_type": "stream",
     "text": [
      "epoch: 2, [batch: 1120 / 1400], examples_per_second: 11598.1823, train_label_loss: 0.7341, \n"
     ]
    },
    {
     "name": "stdout",
     "output_type": "stream",
     "text": [
      "epoch: 2, [batch: 1260 / 1400], examples_per_second: 11512.0669, train_label_loss: 0.8711, \n"
     ]
    },
    {
     "name": "stdout",
     "output_type": "stream",
     "text": [
      "=============================================================\n",
      "epoch: 2, source_val_acc_label: 0.8385, source_val_label_loss: 0.7015, target_val_acc_label: 0.7699, target_val_label_loss: 0.8545, \n",
      "=============================================================\n"
     ]
    },
    {
     "name": "stdout",
     "output_type": "stream",
     "text": [
      "New best\n",
      "epoch: 3, [batch: 1 / 1400], examples_per_second: 62.8833, train_label_loss: 0.7662, \n"
     ]
    },
    {
     "name": "stdout",
     "output_type": "stream",
     "text": [
      "epoch: 3, [batch: 140 / 1400], examples_per_second: 11555.4189, train_label_loss: 0.7662, \n"
     ]
    },
    {
     "name": "stdout",
     "output_type": "stream",
     "text": [
      "epoch: 3, [batch: 280 / 1400], examples_per_second: 11592.2292, train_label_loss: 0.8644, \n"
     ]
    },
    {
     "name": "stdout",
     "output_type": "stream",
     "text": [
      "epoch: 3, [batch: 420 / 1400], examples_per_second: 11635.1138, train_label_loss: 0.5309, \n"
     ]
    },
    {
     "name": "stdout",
     "output_type": "stream",
     "text": [
      "epoch: 3, [batch: 560 / 1400], examples_per_second: 11558.5029, train_label_loss: 0.5222, \n"
     ]
    },
    {
     "name": "stdout",
     "output_type": "stream",
     "text": [
      "epoch: 3, [batch: 700 / 1400], examples_per_second: 11460.3310, train_label_loss: 0.5421, \n"
     ]
    },
    {
     "name": "stdout",
     "output_type": "stream",
     "text": [
      "epoch: 3, [batch: 840 / 1400], examples_per_second: 11632.3533, train_label_loss: 0.5236, \n"
     ]
    },
    {
     "name": "stdout",
     "output_type": "stream",
     "text": [
      "epoch: 3, [batch: 980 / 1400], examples_per_second: 11525.1879, train_label_loss: 0.4401, \n"
     ]
    },
    {
     "name": "stdout",
     "output_type": "stream",
     "text": [
      "epoch: 3, [batch: 1120 / 1400], examples_per_second: 11630.7207, train_label_loss: 0.4452, \n"
     ]
    },
    {
     "name": "stdout",
     "output_type": "stream",
     "text": [
      "epoch: 3, [batch: 1260 / 1400], examples_per_second: 11661.0356, train_label_loss: 0.4968, \n"
     ]
    },
    {
     "name": "stdout",
     "output_type": "stream",
     "text": [
      "=============================================================\n",
      "epoch: 3, source_val_acc_label: 0.9119, source_val_label_loss: 0.3840, target_val_acc_label: 0.8218, target_val_label_loss: 0.6084, \n",
      "=============================================================\n"
     ]
    },
    {
     "name": "stdout",
     "output_type": "stream",
     "text": [
      "New best\n",
      "epoch: 4, [batch: 1 / 1400], examples_per_second: 62.7315, train_label_loss: 0.3476, \n"
     ]
    },
    {
     "name": "stdout",
     "output_type": "stream",
     "text": [
      "epoch: 4, [batch: 140 / 1400], examples_per_second: 11466.6334, train_label_loss: 0.3561, \n"
     ]
    },
    {
     "name": "stdout",
     "output_type": "stream",
     "text": [
      "epoch: 4, [batch: 280 / 1400], examples_per_second: 11588.7582, train_label_loss: 0.4926, \n"
     ]
    },
    {
     "name": "stdout",
     "output_type": "stream",
     "text": [
      "epoch: 4, [batch: 420 / 1400], examples_per_second: 11615.0067, train_label_loss: 0.4261, \n"
     ]
    },
    {
     "name": "stdout",
     "output_type": "stream",
     "text": [
      "epoch: 4, [batch: 560 / 1400], examples_per_second: 11528.7129, train_label_loss: 0.2987, \n"
     ]
    },
    {
     "name": "stdout",
     "output_type": "stream",
     "text": [
      "epoch: 4, [batch: 700 / 1400], examples_per_second: 11535.7073, train_label_loss: 0.3537, \n"
     ]
    },
    {
     "name": "stdout",
     "output_type": "stream",
     "text": [
      "epoch: 4, [batch: 840 / 1400], examples_per_second: 11485.1420, train_label_loss: 0.3087, \n"
     ]
    },
    {
     "name": "stdout",
     "output_type": "stream",
     "text": [
      "epoch: 4, [batch: 980 / 1400], examples_per_second: 11671.0977, train_label_loss: 0.2723, \n"
     ]
    },
    {
     "name": "stdout",
     "output_type": "stream",
     "text": [
      "epoch: 4, [batch: 1120 / 1400], examples_per_second: 11680.4965, train_label_loss: 0.3937, \n"
     ]
    },
    {
     "name": "stdout",
     "output_type": "stream",
     "text": [
      "epoch: 4, [batch: 1260 / 1400], examples_per_second: 11762.1116, train_label_loss: 0.2934, \n"
     ]
    },
    {
     "name": "stdout",
     "output_type": "stream",
     "text": [
      "=============================================================\n",
      "epoch: 4, source_val_acc_label: 0.9296, source_val_label_loss: 0.4052, target_val_acc_label: 0.8382, target_val_label_loss: 0.5352, \n",
      "=============================================================\n"
     ]
    },
    {
     "name": "stdout",
     "output_type": "stream",
     "text": [
      "New best\n",
      "epoch: 5, [batch: 1 / 1400], examples_per_second: 69.2043, train_label_loss: 0.3980, \n"
     ]
    },
    {
     "name": "stdout",
     "output_type": "stream",
     "text": [
      "epoch: 5, [batch: 140 / 1400], examples_per_second: 12361.9389, train_label_loss: 0.3565, \n"
     ]
    },
    {
     "name": "stdout",
     "output_type": "stream",
     "text": [
      "epoch: 5, [batch: 280 / 1400], examples_per_second: 12579.9622, train_label_loss: 0.2834, \n"
     ]
    },
    {
     "name": "stdout",
     "output_type": "stream",
     "text": [
      "epoch: 5, [batch: 420 / 1400], examples_per_second: 12865.1175, train_label_loss: 0.3434, \n"
     ]
    },
    {
     "name": "stdout",
     "output_type": "stream",
     "text": [
      "epoch: 5, [batch: 560 / 1400], examples_per_second: 12403.5294, train_label_loss: 0.1842, \n"
     ]
    },
    {
     "name": "stdout",
     "output_type": "stream",
     "text": [
      "epoch: 5, [batch: 700 / 1400], examples_per_second: 12494.0349, train_label_loss: 0.2911, \n"
     ]
    },
    {
     "name": "stdout",
     "output_type": "stream",
     "text": [
      "epoch: 5, [batch: 840 / 1400], examples_per_second: 12439.1839, train_label_loss: 0.2774, \n"
     ]
    },
    {
     "name": "stdout",
     "output_type": "stream",
     "text": [
      "epoch: 5, [batch: 980 / 1400], examples_per_second: 12737.0430, train_label_loss: 0.1501, \n"
     ]
    },
    {
     "name": "stdout",
     "output_type": "stream",
     "text": [
      "epoch: 5, [batch: 1120 / 1400], examples_per_second: 12647.5337, train_label_loss: 0.2652, \n"
     ]
    },
    {
     "name": "stdout",
     "output_type": "stream",
     "text": [
      "epoch: 5, [batch: 1260 / 1400], examples_per_second: 12599.6058, train_label_loss: 0.2333, \n"
     ]
    },
    {
     "name": "stdout",
     "output_type": "stream",
     "text": [
      "=============================================================\n",
      "epoch: 5, source_val_acc_label: 0.9361, source_val_label_loss: 0.3642, target_val_acc_label: 0.8417, target_val_label_loss: 0.5419, \n",
      "=============================================================\n"
     ]
    },
    {
     "name": "stdout",
     "output_type": "stream",
     "text": [
      "New best\n",
      "epoch: 6, [batch: 1 / 1400], examples_per_second: 69.8146, train_label_loss: 0.2470, \n"
     ]
    },
    {
     "name": "stdout",
     "output_type": "stream",
     "text": [
      "epoch: 6, [batch: 140 / 1400], examples_per_second: 12411.1193, train_label_loss: 0.1830, \n"
     ]
    },
    {
     "name": "stdout",
     "output_type": "stream",
     "text": [
      "epoch: 6, [batch: 280 / 1400], examples_per_second: 12581.5731, train_label_loss: 0.2387, \n"
     ]
    },
    {
     "name": "stdout",
     "output_type": "stream",
     "text": [
      "epoch: 6, [batch: 420 / 1400], examples_per_second: 12422.3072, train_label_loss: 0.2315, \n"
     ]
    },
    {
     "name": "stdout",
     "output_type": "stream",
     "text": [
      "epoch: 6, [batch: 560 / 1400], examples_per_second: 12412.6775, train_label_loss: 0.1472, \n"
     ]
    },
    {
     "name": "stdout",
     "output_type": "stream",
     "text": [
      "epoch: 6, [batch: 700 / 1400], examples_per_second: 12515.3945, train_label_loss: 0.1959, \n"
     ]
    },
    {
     "name": "stdout",
     "output_type": "stream",
     "text": [
      "epoch: 6, [batch: 840 / 1400], examples_per_second: 12423.5166, train_label_loss: 0.2359, \n"
     ]
    },
    {
     "name": "stdout",
     "output_type": "stream",
     "text": [
      "epoch: 6, [batch: 980 / 1400], examples_per_second: 12368.5876, train_label_loss: 0.1785, \n"
     ]
    },
    {
     "name": "stdout",
     "output_type": "stream",
     "text": [
      "epoch: 6, [batch: 1120 / 1400], examples_per_second: 12488.9383, train_label_loss: 0.2763, \n"
     ]
    },
    {
     "name": "stdout",
     "output_type": "stream",
     "text": [
      "epoch: 6, [batch: 1260 / 1400], examples_per_second: 12527.1195, train_label_loss: 0.2109, \n"
     ]
    },
    {
     "name": "stdout",
     "output_type": "stream",
     "text": [
      "=============================================================\n",
      "epoch: 6, source_val_acc_label: 0.9466, source_val_label_loss: 0.3238, target_val_acc_label: 0.8491, target_val_label_loss: 0.5081, \n",
      "=============================================================\n"
     ]
    },
    {
     "name": "stdout",
     "output_type": "stream",
     "text": [
      "New best\n",
      "epoch: 7, [batch: 1 / 1400], examples_per_second: 69.4626, train_label_loss: 0.1594, \n"
     ]
    },
    {
     "name": "stdout",
     "output_type": "stream",
     "text": [
      "epoch: 7, [batch: 140 / 1400], examples_per_second: 12656.6466, train_label_loss: 0.1948, \n"
     ]
    },
    {
     "name": "stdout",
     "output_type": "stream",
     "text": [
      "epoch: 7, [batch: 280 / 1400], examples_per_second: 12588.3351, train_label_loss: 0.1753, \n"
     ]
    },
    {
     "name": "stdout",
     "output_type": "stream",
     "text": [
      "epoch: 7, [batch: 420 / 1400], examples_per_second: 11640.7216, train_label_loss: 0.1587, \n"
     ]
    },
    {
     "name": "stdout",
     "output_type": "stream",
     "text": [
      "epoch: 7, [batch: 560 / 1400], examples_per_second: 12582.2197, train_label_loss: 0.1605, \n"
     ]
    },
    {
     "name": "stdout",
     "output_type": "stream",
     "text": [
      "epoch: 7, [batch: 700 / 1400], examples_per_second: 12516.4679, train_label_loss: 0.1299, \n"
     ]
    },
    {
     "name": "stdout",
     "output_type": "stream",
     "text": [
      "epoch: 7, [batch: 840 / 1400], examples_per_second: 12505.7240, train_label_loss: 0.2625, \n"
     ]
    },
    {
     "name": "stdout",
     "output_type": "stream",
     "text": [
      "epoch: 7, [batch: 980 / 1400], examples_per_second: 12568.3336, train_label_loss: 0.2406, \n"
     ]
    },
    {
     "name": "stdout",
     "output_type": "stream",
     "text": [
      "epoch: 7, [batch: 1120 / 1400], examples_per_second: 12640.3041, train_label_loss: 0.3340, \n"
     ]
    },
    {
     "name": "stdout",
     "output_type": "stream",
     "text": [
      "epoch: 7, [batch: 1260 / 1400], examples_per_second: 12523.3165, train_label_loss: 0.1269, \n"
     ]
    },
    {
     "name": "stdout",
     "output_type": "stream",
     "text": [
      "=============================================================\n",
      "epoch: 7, source_val_acc_label: 0.9431, source_val_label_loss: 0.3092, target_val_acc_label: 0.8436, target_val_label_loss: 0.5253, \n",
      "=============================================================\n"
     ]
    },
    {
     "name": "stdout",
     "output_type": "stream",
     "text": [
      "epoch: 8, [batch: 1 / 1400], examples_per_second: 70.0601, train_label_loss: 0.1584, \n"
     ]
    },
    {
     "name": "stdout",
     "output_type": "stream",
     "text": [
      "epoch: 8, [batch: 140 / 1400], examples_per_second: 12449.6853, train_label_loss: 0.1418, \n"
     ]
    },
    {
     "name": "stdout",
     "output_type": "stream",
     "text": [
      "epoch: 8, [batch: 280 / 1400], examples_per_second: 12509.8765, train_label_loss: 0.1733, \n"
     ]
    },
    {
     "name": "stdout",
     "output_type": "stream",
     "text": [
      "epoch: 8, [batch: 420 / 1400], examples_per_second: 12441.5909, train_label_loss: 0.2120, \n"
     ]
    },
    {
     "name": "stdout",
     "output_type": "stream",
     "text": [
      "epoch: 8, [batch: 560 / 1400], examples_per_second: 12551.2810, train_label_loss: 0.2540, \n"
     ]
    },
    {
     "name": "stdout",
     "output_type": "stream",
     "text": [
      "epoch: 8, [batch: 700 / 1400], examples_per_second: 12519.3699, train_label_loss: 0.2578, \n"
     ]
    },
    {
     "name": "stdout",
     "output_type": "stream",
     "text": [
      "epoch: 8, [batch: 840 / 1400], examples_per_second: 12347.7136, train_label_loss: 0.1708, \n"
     ]
    },
    {
     "name": "stdout",
     "output_type": "stream",
     "text": [
      "epoch: 8, [batch: 980 / 1400], examples_per_second: 12520.6087, train_label_loss: 0.1484, \n"
     ]
    },
    {
     "name": "stdout",
     "output_type": "stream",
     "text": [
      "epoch: 8, [batch: 1120 / 1400], examples_per_second: 12540.3288, train_label_loss: 0.1489, \n"
     ]
    },
    {
     "name": "stdout",
     "output_type": "stream",
     "text": [
      "epoch: 8, [batch: 1260 / 1400], examples_per_second: 12415.0415, train_label_loss: 0.1627, \n"
     ]
    },
    {
     "name": "stdout",
     "output_type": "stream",
     "text": [
      "=============================================================\n",
      "epoch: 8, source_val_acc_label: 0.9520, source_val_label_loss: 0.2758, target_val_acc_label: 0.8481, target_val_label_loss: 0.5027, \n",
      "=============================================================\n"
     ]
    },
    {
     "name": "stdout",
     "output_type": "stream",
     "text": [
      "epoch: 9, [batch: 1 / 1400], examples_per_second: 70.0571, train_label_loss: 0.2187, \n"
     ]
    },
    {
     "name": "stdout",
     "output_type": "stream",
     "text": [
      "epoch: 9, [batch: 140 / 1400], examples_per_second: 12489.3716, train_label_loss: 0.2574, \n"
     ]
    },
    {
     "name": "stdout",
     "output_type": "stream",
     "text": [
      "epoch: 9, [batch: 280 / 1400], examples_per_second: 12512.8443, train_label_loss: 0.0727, \n"
     ]
    },
    {
     "name": "stdout",
     "output_type": "stream",
     "text": [
      "epoch: 9, [batch: 420 / 1400], examples_per_second: 12535.0919, train_label_loss: 0.1128, \n"
     ]
    },
    {
     "name": "stdout",
     "output_type": "stream",
     "text": [
      "epoch: 9, [batch: 560 / 1400], examples_per_second: 12537.3856, train_label_loss: 0.1053, \n"
     ]
    },
    {
     "name": "stdout",
     "output_type": "stream",
     "text": [
      "epoch: 9, [batch: 700 / 1400], examples_per_second: 12580.7076, train_label_loss: 0.1786, \n"
     ]
    },
    {
     "name": "stdout",
     "output_type": "stream",
     "text": [
      "epoch: 9, [batch: 840 / 1400], examples_per_second: 12567.9805, train_label_loss: 0.1104, \n"
     ]
    },
    {
     "name": "stdout",
     "output_type": "stream",
     "text": [
      "epoch: 9, [batch: 980 / 1400], examples_per_second: 12451.8638, train_label_loss: 0.1492, \n"
     ]
    },
    {
     "name": "stdout",
     "output_type": "stream",
     "text": [
      "epoch: 9, [batch: 1120 / 1400], examples_per_second: 12391.5463, train_label_loss: 0.1002, \n"
     ]
    },
    {
     "name": "stdout",
     "output_type": "stream",
     "text": [
      "epoch: 9, [batch: 1260 / 1400], examples_per_second: 12404.6185, train_label_loss: 0.1497, \n"
     ]
    },
    {
     "name": "stdout",
     "output_type": "stream",
     "text": [
      "=============================================================\n",
      "epoch: 9, source_val_acc_label: 0.9562, source_val_label_loss: 0.1750, target_val_acc_label: 0.8557, target_val_label_loss: 0.5066, \n",
      "=============================================================\n"
     ]
    },
    {
     "name": "stdout",
     "output_type": "stream",
     "text": [
      "New best\n",
      "epoch: 10, [batch: 1 / 1400], examples_per_second: 70.2707, train_label_loss: 0.1069, \n"
     ]
    },
    {
     "name": "stdout",
     "output_type": "stream",
     "text": [
      "epoch: 10, [batch: 140 / 1400], examples_per_second: 11843.3127, train_label_loss: 0.1698, \n"
     ]
    },
    {
     "name": "stdout",
     "output_type": "stream",
     "text": [
      "epoch: 10, [batch: 280 / 1400], examples_per_second: 12272.1386, train_label_loss: 0.2227, \n"
     ]
    },
    {
     "name": "stdout",
     "output_type": "stream",
     "text": [
      "epoch: 10, [batch: 420 / 1400], examples_per_second: 12376.9606, train_label_loss: 0.0981, \n"
     ]
    },
    {
     "name": "stdout",
     "output_type": "stream",
     "text": [
      "epoch: 10, [batch: 560 / 1400], examples_per_second: 11715.9567, train_label_loss: 0.1643, \n"
     ]
    },
    {
     "name": "stdout",
     "output_type": "stream",
     "text": [
      "epoch: 10, [batch: 700 / 1400], examples_per_second: 12046.9723, train_label_loss: 0.0908, \n"
     ]
    },
    {
     "name": "stdout",
     "output_type": "stream",
     "text": [
      "epoch: 10, [batch: 840 / 1400], examples_per_second: 12609.9594, train_label_loss: 0.2002, \n"
     ]
    },
    {
     "name": "stdout",
     "output_type": "stream",
     "text": [
      "epoch: 10, [batch: 980 / 1400], examples_per_second: 12640.8695, train_label_loss: 0.1131, \n"
     ]
    },
    {
     "name": "stdout",
     "output_type": "stream",
     "text": [
      "epoch: 10, [batch: 1120 / 1400], examples_per_second: 12634.6350, train_label_loss: 0.0928, \n"
     ]
    },
    {
     "name": "stdout",
     "output_type": "stream",
     "text": [
      "epoch: 10, [batch: 1260 / 1400], examples_per_second: 12546.3093, train_label_loss: 0.1329, \n"
     ]
    },
    {
     "name": "stdout",
     "output_type": "stream",
     "text": [
      "=============================================================\n",
      "epoch: 10, source_val_acc_label: 0.9593, source_val_label_loss: 0.2211, target_val_acc_label: 0.8647, target_val_label_loss: 0.4852, \n",
      "=============================================================\n"
     ]
    },
    {
     "name": "stdout",
     "output_type": "stream",
     "text": [
      "New best\n",
      "epoch: 11, [batch: 1 / 1400], examples_per_second: 68.5556, train_label_loss: 0.1417, \n"
     ]
    },
    {
     "name": "stdout",
     "output_type": "stream",
     "text": [
      "epoch: 11, [batch: 140 / 1400], examples_per_second: 12518.6890, train_label_loss: 0.1178, \n"
     ]
    },
    {
     "name": "stdout",
     "output_type": "stream",
     "text": [
      "epoch: 11, [batch: 280 / 1400], examples_per_second: 12587.1482, train_label_loss: 0.1182, \n"
     ]
    },
    {
     "name": "stdout",
     "output_type": "stream",
     "text": [
      "epoch: 11, [batch: 420 / 1400], examples_per_second: 12621.8920, train_label_loss: 0.1231, \n"
     ]
    },
    {
     "name": "stdout",
     "output_type": "stream",
     "text": [
      "epoch: 11, [batch: 560 / 1400], examples_per_second: 12702.7689, train_label_loss: 0.1395, \n"
     ]
    },
    {
     "name": "stdout",
     "output_type": "stream",
     "text": [
      "epoch: 11, [batch: 700 / 1400], examples_per_second: 12539.0903, train_label_loss: 0.1048, \n"
     ]
    },
    {
     "name": "stdout",
     "output_type": "stream",
     "text": [
      "epoch: 11, [batch: 840 / 1400], examples_per_second: 12577.6549, train_label_loss: 0.2031, \n"
     ]
    },
    {
     "name": "stdout",
     "output_type": "stream",
     "text": [
      "epoch: 11, [batch: 980 / 1400], examples_per_second: 12439.1489, train_label_loss: 0.1563, \n"
     ]
    },
    {
     "name": "stdout",
     "output_type": "stream",
     "text": [
      "epoch: 11, [batch: 1120 / 1400], examples_per_second: 12401.0839, train_label_loss: 0.1823, \n"
     ]
    },
    {
     "name": "stdout",
     "output_type": "stream",
     "text": [
      "epoch: 11, [batch: 1260 / 1400], examples_per_second: 12512.8922, train_label_loss: 0.1196, \n"
     ]
    },
    {
     "name": "stdout",
     "output_type": "stream",
     "text": [
      "=============================================================\n",
      "epoch: 11, source_val_acc_label: 0.9609, source_val_label_loss: 0.1459, target_val_acc_label: 0.8624, target_val_label_loss: 0.4642, \n",
      "=============================================================\n"
     ]
    },
    {
     "name": "stdout",
     "output_type": "stream",
     "text": [
      "epoch: 12, [batch: 1 / 1400], examples_per_second: 70.8519, train_label_loss: 0.1133, \n"
     ]
    },
    {
     "name": "stdout",
     "output_type": "stream",
     "text": [
      "epoch: 12, [batch: 140 / 1400], examples_per_second: 12447.9616, train_label_loss: 0.1918, \n"
     ]
    },
    {
     "name": "stdout",
     "output_type": "stream",
     "text": [
      "epoch: 12, [batch: 280 / 1400], examples_per_second: 12541.2683, train_label_loss: 0.1091, \n"
     ]
    },
    {
     "name": "stdout",
     "output_type": "stream",
     "text": [
      "epoch: 12, [batch: 420 / 1400], examples_per_second: 12601.5154, train_label_loss: 0.1377, \n"
     ]
    },
    {
     "name": "stdout",
     "output_type": "stream",
     "text": [
      "epoch: 12, [batch: 560 / 1400], examples_per_second: 12710.0981, train_label_loss: 0.1448, \n"
     ]
    },
    {
     "name": "stdout",
     "output_type": "stream",
     "text": [
      "epoch: 12, [batch: 700 / 1400], examples_per_second: 12378.9175, train_label_loss: 0.0952, \n"
     ]
    },
    {
     "name": "stdout",
     "output_type": "stream",
     "text": [
      "epoch: 12, [batch: 840 / 1400], examples_per_second: 12459.1252, train_label_loss: 0.1141, \n"
     ]
    },
    {
     "name": "stdout",
     "output_type": "stream",
     "text": [
      "epoch: 12, [batch: 980 / 1400], examples_per_second: 12535.4431, train_label_loss: 0.1175, \n"
     ]
    },
    {
     "name": "stdout",
     "output_type": "stream",
     "text": [
      "epoch: 12, [batch: 1120 / 1400], examples_per_second: 12654.9144, train_label_loss: 0.0896, \n"
     ]
    },
    {
     "name": "stdout",
     "output_type": "stream",
     "text": [
      "epoch: 12, [batch: 1260 / 1400], examples_per_second: 12516.0093, train_label_loss: 0.0677, \n"
     ]
    },
    {
     "name": "stdout",
     "output_type": "stream",
     "text": [
      "=============================================================\n",
      "epoch: 12, source_val_acc_label: 0.9579, source_val_label_loss: 0.2914, target_val_acc_label: 0.8628, target_val_label_loss: 0.6300, \n",
      "=============================================================\n"
     ]
    },
    {
     "name": "stdout",
     "output_type": "stream",
     "text": [
      "epoch: 13, [batch: 1 / 1400], examples_per_second: 70.6990, train_label_loss: 0.1310, \n"
     ]
    },
    {
     "name": "stdout",
     "output_type": "stream",
     "text": [
      "epoch: 13, [batch: 140 / 1400], examples_per_second: 12438.0609, train_label_loss: 0.1163, \n"
     ]
    },
    {
     "name": "stdout",
     "output_type": "stream",
     "text": [
      "epoch: 13, [batch: 280 / 1400], examples_per_second: 12407.8949, train_label_loss: 0.1188, \n"
     ]
    },
    {
     "name": "stdout",
     "output_type": "stream",
     "text": [
      "epoch: 13, [batch: 420 / 1400], examples_per_second: 12519.0384, train_label_loss: 0.1211, \n"
     ]
    },
    {
     "name": "stdout",
     "output_type": "stream",
     "text": [
      "epoch: 13, [batch: 560 / 1400], examples_per_second: 12467.8302, train_label_loss: 0.1164, \n"
     ]
    },
    {
     "name": "stdout",
     "output_type": "stream",
     "text": [
      "epoch: 13, [batch: 700 / 1400], examples_per_second: 12524.8733, train_label_loss: 0.0912, \n"
     ]
    },
    {
     "name": "stdout",
     "output_type": "stream",
     "text": [
      "epoch: 13, [batch: 840 / 1400], examples_per_second: 12520.7234, train_label_loss: 0.1108, \n"
     ]
    },
    {
     "name": "stdout",
     "output_type": "stream",
     "text": [
      "epoch: 13, [batch: 980 / 1400], examples_per_second: 12444.2915, train_label_loss: 0.1292, \n"
     ]
    },
    {
     "name": "stdout",
     "output_type": "stream",
     "text": [
      "epoch: 13, [batch: 1120 / 1400], examples_per_second: 12532.5085, train_label_loss: 0.0610, \n"
     ]
    },
    {
     "name": "stdout",
     "output_type": "stream",
     "text": [
      "epoch: 13, [batch: 1260 / 1400], examples_per_second: 12510.6782, train_label_loss: 0.0701, \n"
     ]
    },
    {
     "name": "stdout",
     "output_type": "stream",
     "text": [
      "=============================================================\n",
      "epoch: 13, source_val_acc_label: 0.9481, source_val_label_loss: 0.6644, target_val_acc_label: 0.8440, target_val_label_loss: 0.7419, \n",
      "=============================================================\n"
     ]
    },
    {
     "name": "stdout",
     "output_type": "stream",
     "text": [
      "epoch: 14, [batch: 1 / 1400], examples_per_second: 70.7993, train_label_loss: 0.1493, \n"
     ]
    },
    {
     "name": "stdout",
     "output_type": "stream",
     "text": [
      "epoch: 14, [batch: 140 / 1400], examples_per_second: 12304.2747, train_label_loss: 0.0798, \n"
     ]
    },
    {
     "name": "stdout",
     "output_type": "stream",
     "text": [
      "epoch: 14, [batch: 280 / 1400], examples_per_second: 12391.3032, train_label_loss: 0.1154, \n"
     ]
    },
    {
     "name": "stdout",
     "output_type": "stream",
     "text": [
      "epoch: 14, [batch: 420 / 1400], examples_per_second: 12342.8086, train_label_loss: 0.0842, \n"
     ]
    },
    {
     "name": "stdout",
     "output_type": "stream",
     "text": [
      "epoch: 14, [batch: 560 / 1400], examples_per_second: 12357.6429, train_label_loss: 0.2062, \n"
     ]
    },
    {
     "name": "stdout",
     "output_type": "stream",
     "text": [
      "epoch: 14, [batch: 700 / 1400], examples_per_second: 12508.0299, train_label_loss: 0.0935, \n"
     ]
    },
    {
     "name": "stdout",
     "output_type": "stream",
     "text": [
      "epoch: 14, [batch: 840 / 1400], examples_per_second: 11464.5333, train_label_loss: 0.0754, \n"
     ]
    },
    {
     "name": "stdout",
     "output_type": "stream",
     "text": [
      "epoch: 14, [batch: 980 / 1400], examples_per_second: 13613.2036, train_label_loss: 0.0694, \n"
     ]
    },
    {
     "name": "stdout",
     "output_type": "stream",
     "text": [
      "epoch: 14, [batch: 1120 / 1400], examples_per_second: 13787.8652, train_label_loss: 0.1240, \n"
     ]
    },
    {
     "name": "stdout",
     "output_type": "stream",
     "text": [
      "epoch: 14, [batch: 1260 / 1400], examples_per_second: 13688.6576, train_label_loss: 0.1397, \n"
     ]
    },
    {
     "name": "stdout",
     "output_type": "stream",
     "text": [
      "=============================================================\n",
      "epoch: 14, source_val_acc_label: 0.9628, source_val_label_loss: 0.2421, target_val_acc_label: 0.8625, target_val_label_loss: 0.6325, \n",
      "=============================================================\n"
     ]
    },
    {
     "name": "stdout",
     "output_type": "stream",
     "text": [
      "Patience (3) exhausted\n"
     ]
    }
   ],
   "source": [
    "jig = Vanilla_Train_Eval_Test_Jig(\n",
    "    model=model,\n",
    "    path_to_best_model=p.BEST_MODEL_PATH,\n",
    "    device=p.device,\n",
    "    label_loss_object=torch.nn.NLLLoss(),\n",
    ")\n",
    "\n",
    "jig.train(\n",
    "    train_iterable=datasets.source.processed.train,\n",
    "    source_val_iterable=datasets.source.processed.val,\n",
    "    target_val_iterable=datasets.target.processed.val,\n",
    "    patience=p.patience,\n",
    "    num_epochs=p.n_epoch,\n",
    "    num_logs_per_epoch=p.NUM_LOGS_PER_EPOCH,\n",
    "    criteria_for_best=p.criteria_for_best\n",
    ")"
   ]
  },
  {
   "cell_type": "code",
   "execution_count": 14,
   "id": "4bc2ac17",
   "metadata": {
    "execution": {
     "iopub.execute_input": "2022-03-28T04:02:13.467927Z",
     "iopub.status.busy": "2022-03-28T04:02:13.467548Z",
     "iopub.status.idle": "2022-03-28T04:02:13.469331Z",
     "shell.execute_reply": "2022-03-28T04:02:13.469633Z"
    },
    "papermill": {
     "duration": 0.065266,
     "end_time": "2022-03-28T04:02:13.469737",
     "exception": false,
     "start_time": "2022-03-28T04:02:13.404471",
     "status": "completed"
    },
    "tags": []
   },
   "outputs": [],
   "source": [
    "total_experiment_time_secs = time.time() - start_time_secs"
   ]
  },
  {
   "cell_type": "code",
   "execution_count": 15,
   "id": "cae88f23",
   "metadata": {
    "execution": {
     "iopub.execute_input": "2022-03-28T04:02:13.631245Z",
     "iopub.status.busy": "2022-03-28T04:02:13.630355Z",
     "iopub.status.idle": "2022-03-28T04:02:34.198828Z",
     "shell.execute_reply": "2022-03-28T04:02:34.198425Z"
    },
    "papermill": {
     "duration": 20.661221,
     "end_time": "2022-03-28T04:02:34.198938",
     "exception": false,
     "start_time": "2022-03-28T04:02:13.537717",
     "status": "completed"
    },
    "tags": []
   },
   "outputs": [],
   "source": [
    "source_test_label_accuracy, source_test_label_loss = jig.test(datasets.source.processed.test)\n",
    "target_test_label_accuracy, target_test_label_loss = jig.test(datasets.target.processed.test)\n",
    "\n",
    "source_val_label_accuracy, source_val_label_loss = jig.test(datasets.source.processed.val)\n",
    "target_val_label_accuracy, target_val_label_loss = jig.test(datasets.target.processed.val)\n",
    "\n",
    "history = jig.get_history()\n",
    "\n",
    "total_epochs_trained = len(history[\"epoch_indices\"])\n",
    "\n",
    "val_dl = wrap_in_dataloader(p, Sequence_Aggregator((datasets.source.original.val, datasets.target.original.val)))\n",
    "\n",
    "confusion = confusion_by_domain_over_dataloader(model, p.device, val_dl, forward_uses_domain=False)\n",
    "per_domain_accuracy = per_domain_accuracy_from_confusion(confusion)\n",
    "\n",
    "# Add a key to per_domain_accuracy for if it was a source domain\n",
    "for domain, accuracy in per_domain_accuracy.items():\n",
    "    per_domain_accuracy[domain] = {\n",
    "        \"accuracy\": accuracy,\n",
    "        \"source?\": domain in p.domains_source\n",
    "    }\n",
    "\n",
    "# Do an independent accuracy assesment JUST TO BE SURE!\n",
    "# _source_test_label_accuracy = independent_accuracy_assesment(model, datasets.source.processed.test, p.device)\n",
    "# _target_test_label_accuracy = independent_accuracy_assesment(model, datasets.target.processed.test, p.device)\n",
    "# _source_val_label_accuracy = independent_accuracy_assesment(model, datasets.source.processed.val, p.device)\n",
    "# _target_val_label_accuracy = independent_accuracy_assesment(model, datasets.target.processed.val, p.device)\n",
    "\n",
    "# assert(_source_test_label_accuracy == source_test_label_accuracy)\n",
    "# assert(_target_test_label_accuracy == target_test_label_accuracy)\n",
    "# assert(_source_val_label_accuracy == source_val_label_accuracy)\n",
    "# assert(_target_val_label_accuracy == target_val_label_accuracy)\n",
    "\n",
    "###################################\n",
    "# Write out the results\n",
    "###################################\n",
    "\n",
    "experiment = {\n",
    "    \"experiment_name\": p.experiment_name,\n",
    "    \"parameters\": p,\n",
    "    \"results\": {\n",
    "        \"source_test_label_accuracy\": source_test_label_accuracy,\n",
    "        \"source_test_label_loss\": source_test_label_loss,\n",
    "        \"target_test_label_accuracy\": target_test_label_accuracy,\n",
    "        \"target_test_label_loss\": target_test_label_loss,\n",
    "        \"source_val_label_accuracy\": source_val_label_accuracy,\n",
    "        \"source_val_label_loss\": source_val_label_loss,\n",
    "        \"target_val_label_accuracy\": target_val_label_accuracy,\n",
    "        \"target_val_label_loss\": target_val_label_loss,\n",
    "        \"total_epochs_trained\": total_epochs_trained,\n",
    "        \"total_experiment_time_secs\": total_experiment_time_secs,\n",
    "        \"confusion\": confusion,\n",
    "        \"per_domain_accuracy\": per_domain_accuracy,\n",
    "    },\n",
    "    \"history\": history,\n",
    "    \"dataset_metrics\": get_dataset_metrics(datasets, \"cnn\"),\n",
    "}"
   ]
  },
  {
   "cell_type": "code",
   "execution_count": 16,
   "id": "74c318cf",
   "metadata": {
    "execution": {
     "iopub.execute_input": "2022-03-28T04:02:34.345027Z",
     "iopub.status.busy": "2022-03-28T04:02:34.342535Z",
     "iopub.status.idle": "2022-03-28T04:02:34.519435Z",
     "shell.execute_reply": "2022-03-28T04:02:34.520187Z"
    },
    "papermill": {
     "duration": 0.265783,
     "end_time": "2022-03-28T04:02:34.520370",
     "exception": false,
     "start_time": "2022-03-28T04:02:34.254587",
     "status": "completed"
    },
    "tags": []
   },
   "outputs": [
    {
     "data": {
      "text/plain": [
       "<AxesSubplot:title={'center':'Source Train Label Loss vs Source Val Label Loss'}, xlabel='Epoch'>"
      ]
     },
     "execution_count": 16,
     "metadata": {},
     "output_type": "execute_result"
    },
    {
     "data": {
      "image/png": "[encoded data removed]",
      "text/plain": [
       "<Figure size 1080x504 with 1 Axes>"
      ]
     },
     "metadata": {
      "needs_background": "light"
     },
     "output_type": "display_data"
    }
   ],
   "source": [
    "get_loss_curve(experiment)"
   ]
  },
  {
   "cell_type": "code",
   "execution_count": 17,
   "id": "59376601",
   "metadata": {
    "execution": {
     "iopub.execute_input": "2022-03-28T04:02:34.668197Z",
     "iopub.status.busy": "2022-03-28T04:02:34.660164Z",
     "iopub.status.idle": "2022-03-28T04:02:34.948423Z",
     "shell.execute_reply": "2022-03-28T04:02:34.948044Z"
    },
    "papermill": {
     "duration": 0.364128,
     "end_time": "2022-03-28T04:02:34.948498",
     "exception": false,
     "start_time": "2022-03-28T04:02:34.584370",
     "status": "completed"
    },
    "tags": []
   },
   "outputs": [
    {
     "data": {
      "text/plain": [
       "<AxesSubplot:title={'center':'Results'}>"
      ]
     },
     "execution_count": 17,
     "metadata": {},
     "output_type": "execute_result"
    },
    {
     "data": {
      "image/png": "[encoded data removed]",
      "text/plain": [
       "<Figure size 1080x504 with 1 Axes>"
      ]
     },
     "metadata": {
      "needs_background": "light"
     },
     "output_type": "display_data"
    }
   ],
   "source": [
    "get_results_table(experiment)"
   ]
  },
  {
   "cell_type": "code",
   "execution_count": 18,
   "id": "e80c5c98",
   "metadata": {
    "execution": {
     "iopub.execute_input": "2022-03-28T04:02:35.089168Z",
     "iopub.status.busy": "2022-03-28T04:02:35.088361Z",
     "iopub.status.idle": "2022-03-28T04:02:35.252749Z",
     "shell.execute_reply": "2022-03-28T04:02:35.251941Z"
    },
    "papermill": {
     "duration": 0.244643,
     "end_time": "2022-03-28T04:02:35.252903",
     "exception": false,
     "start_time": "2022-03-28T04:02:35.008260",
     "status": "completed"
    },
    "tags": []
   },
   "outputs": [
    {
     "data": {
      "text/plain": [
       "<AxesSubplot:title={'center':'Per Domain Accuracy'}, xlabel='domain'>"
      ]
     },
     "execution_count": 18,
     "metadata": {},
     "output_type": "execute_result"
    },
    {
     "data": {
      "image/png": "[encoded data removed]",
      "text/plain": [
       "<Figure size 1080x504 with 1 Axes>"
      ]
     },
     "metadata": {
      "needs_background": "light"
     },
     "output_type": "display_data"
    }
   ],
   "source": [
    "get_domain_accuracies(experiment)"
   ]
  },
  {
   "cell_type": "code",
   "execution_count": 19,
   "id": "086fdd10",
   "metadata": {
    "execution": {
     "iopub.execute_input": "2022-03-28T04:02:35.379317Z",
     "iopub.status.busy": "2022-03-28T04:02:35.378946Z",
     "iopub.status.idle": "2022-03-28T04:02:35.384532Z",
     "shell.execute_reply": "2022-03-28T04:02:35.383730Z"
    },
    "papermill": {
     "duration": 0.068643,
     "end_time": "2022-03-28T04:02:35.384684",
     "exception": false,
     "start_time": "2022-03-28T04:02:35.316041",
     "status": "completed"
    },
    "tags": []
   },
   "outputs": [
    {
     "name": "stdout",
     "output_type": "stream",
     "text": [
      "Source Test Label Accuracy: 0.95828125 Target Test Label Accuracy: 0.8655208333333333\n",
      "Source Val Label Accuracy: 0.9593229166666667 Target Val Label Accuracy: 0.8646875\n"
     ]
    }
   ],
   "source": [
    "print(\"Source Test Label Accuracy:\", experiment[\"results\"][\"source_test_label_accuracy\"], \"Target Test Label Accuracy:\", experiment[\"results\"][\"target_test_label_accuracy\"])\n",
    "print(\"Source Val Label Accuracy:\", experiment[\"results\"][\"source_val_label_accuracy\"], \"Target Val Label Accuracy:\", experiment[\"results\"][\"target_val_label_accuracy\"])"
   ]
  },
  {
   "cell_type": "code",
   "execution_count": 20,
   "id": "9f450536",
   "metadata": {
    "execution": {
     "iopub.execute_input": "2022-03-28T04:02:35.515861Z",
     "iopub.status.busy": "2022-03-28T04:02:35.515381Z",
     "iopub.status.idle": "2022-03-28T04:02:35.519666Z",
     "shell.execute_reply": "2022-03-28T04:02:35.519166Z"
    },
    "papermill": {
     "duration": 0.067379,
     "end_time": "2022-03-28T04:02:35.519769",
     "exception": false,
     "start_time": "2022-03-28T04:02:35.452390",
     "status": "completed"
    },
    "tags": [
     "experiment_json"
    ]
   },
   "outputs": [
    {
     "data": {
      "text/plain": [
       "'{\"experiment_name\": \"cnn_3:oracle.run1.framed-oracle.run2.framed\", \"parameters\": {\"experiment_name\": \"cnn_3:oracle.run1.framed-oracle.run2.framed\", \"labels\": [\"3123D52\", \"3123D65\", \"3123D79\", \"3123D80\", \"3123D54\", \"3123D70\", \"3123D7B\", \"3123D89\", \"3123D58\", \"3123D76\", \"3123D7D\", \"3123EFE\", \"3123D64\", \"3123D78\", \"3123D7E\", \"3124E4A\"], \"domains_source\": [8, 32, 50, 14, 20, 26, 38, 44], \"domains_target\": [8, 32, 50, 14, 20, 26, 38, 44], \"pickle_name_source\": \"oracle.Run1_framed_2000Examples_stratified_ds.2022A.pkl\", \"pickle_name_target\": \"oracle.Run2_framed_2000Examples_stratified_ds.2022A.pkl\", \"device\": \"cuda\", \"lr\": 0.0001, \"batch_size\": 128, \"normalize_source\": false, \"normalize_target\": false, \"num_examples_per_domain_per_label_source\": -1, \"num_examples_per_domain_per_label_target\": -1, \"torch_default_dtype\": \"torch.float32\", \"n_epoch\": 50, \"patience\": 3, \"criteria_for_best\": \"target_accuracy\", \"x_net\": [{\"class\": \"nnReshape\", \"kargs\": {\"shape\": [-1, 1, 2, 256]}}, {\"class\": \"Conv2d\", \"kargs\": {\"in_channels\": 1, \"out_channels\": 256, \"kernel_size\": [1, 7], \"bias\": false, \"padding\": [0, 3]}}, {\"class\": \"ReLU\", \"kargs\": {\"inplace\": true}}, {\"class\": \"BatchNorm2d\", \"kargs\": {\"num_features\": 256}}, {\"class\": \"Conv2d\", \"kargs\": {\"in_channels\": 256, \"out_channels\": 80, \"kernel_size\": [2, 7], \"bias\": true, \"padding\": [0, 3]}}, {\"class\": \"ReLU\", \"kargs\": {\"inplace\": true}}, {\"class\": \"BatchNorm2d\", \"kargs\": {\"num_features\": 80}}, {\"class\": \"Flatten\", \"kargs\": {}}, {\"class\": \"Linear\", \"kargs\": {\"in_features\": 20480, \"out_features\": 256}}, {\"class\": \"ReLU\", \"kargs\": {\"inplace\": true}}, {\"class\": \"BatchNorm1d\", \"kargs\": {\"num_features\": 256}}, {\"class\": \"Linear\", \"kargs\": {\"in_features\": 256, \"out_features\": 16}}], \"NUM_LOGS_PER_EPOCH\": 10, \"BEST_MODEL_PATH\": \"./best_model.pth\", \"dataset_seed\": 7, \"seed\": 7}, \"results\": {\"source_test_label_accuracy\": 0.95828125, \"source_test_label_loss\": 0.23377914453546206, \"target_test_label_accuracy\": 0.8655208333333333, \"target_test_label_loss\": 0.4874395480751991, \"source_val_label_accuracy\": 0.9593229166666667, \"source_val_label_loss\": 0.2210708849132061, \"target_val_label_accuracy\": 0.8646875, \"target_val_label_loss\": 0.48521337737639747, \"total_epochs_trained\": 14, \"total_experiment_time_secs\": 250.39414048194885, \"confusion\": {\"50\": {\"7\": {\"7\": 557, \"2\": 35, \"4\": 6, \"13\": 1, \"6\": 1}, \"15\": {\"15\": 530, \"4\": 58, \"11\": 9, \"6\": 2, \"0\": 1}, \"4\": {\"4\": 514, \"8\": 11, \"13\": 16, \"7\": 10, \"15\": 18, \"6\": 13, \"0\": 17, \"2\": 1}, \"12\": {\"12\": 596, \"9\": 4}, \"10\": {\"10\": 553, \"13\": 13, \"0\": 30, \"8\": 4}, \"2\": {\"2\": 594, \"0\": 6}, \"9\": {\"9\": 593, \"11\": 5, \"12\": 2}, \"11\": {\"11\": 594, \"4\": 1, \"9\": 5}, \"13\": {\"13\": 585, \"10\": 4, \"6\": 3, \"1\": 1, \"15\": 6, \"0\": 1}, \"3\": {\"3\": 598, \"1\": 1, \"8\": 1}, \"6\": {\"6\": 559, \"15\": 37, \"8\": 2, \"4\": 2}, \"5\": {\"5\": 600}, \"14\": {\"14\": 600}, \"0\": {\"0\": 580, \"2\": 17, \"12\": 3}, \"8\": {\"8\": 594, \"10\": 4, \"1\": 2}, \"1\": {\"1\": 543, \"15\": 55, \"8\": 1, \"13\": 1}}, \"38\": {\"1\": {\"1\": 564, \"15\": 33, \"6\": 2, \"9\": 1}, \"11\": {\"11\": 592, \"3\": 6, \"4\": 2}, \"8\": {\"8\": 568, \"7\": 21, \"11\": 7, \"4\": 1, \"9\": 1, \"15\": 2}, \"14\": {\"14\": 582, \"2\": 4, \"5\": 10, \"8\": 3, \"13\": 1}, \"6\": {\"6\": 600}, \"15\": {\"1\": 191, \"6\": 8, \"15\": 383, \"8\": 11, \"11\": 5, \"9\": 2}, \"9\": {\"9\": 599, \"12\": 1}, \"10\": {\"0\": 121, \"13\": 16, \"10\": 445, \"7\": 17, \"4\": 1}, \"4\": {\"4\": 599, \"7\": 1}, \"3\": {\"3\": 389, \"0\": 140, \"13\": 42, \"9\": 27, \"11\": 1, \"10\": 1}, \"7\": {\"7\": 557, \"8\": 30, \"4\": 10, \"10\": 2, \"0\": 1}, \"2\": {\"2\": 579, \"13\": 14, \"7\": 5, \"14\": 1, \"8\": 1}, \"5\": {\"5\": 600}, \"13\": {\"13\": 530, \"9\": 1, \"0\": 60, \"10\": 3, \"4\": 4, \"3\": 2}, \"0\": {\"0\": 272, \"9\": 129, \"7\": 158, \"13\": 16, \"10\": 6, \"11\": 10, \"4\": 7, \"3\": 1, \"8\": 1}, \"12\": {\"12\": 600}}, \"20\": {\"9\": {\"9\": 522, \"2\": 52, \"3\": 22, \"12\": 3, \"1\": 1}, \"10\": {\"10\": 600}, \"13\": {\"13\": 582, \"15\": 9, \"2\": 2, \"7\": 7}, \"5\": {\"5\": 600}, \"3\": {\"9\": 48, \"3\": 414, \"2\": 87, \"7\": 42, \"10\": 7, \"1\": 2}, \"1\": {\"1\": 547, \"15\": 10, \"12\": 8, \"2\": 32, \"3\": 2, \"9\": 1}, \"2\": {\"2\": 541, \"3\": 16, \"1\": 1, \"13\": 3, \"9\": 25, \"7\": 14}, \"0\": {\"0\": 598, \"2\": 2}, \"7\": {\"7\": 578, \"8\": 10, \"3\": 2, \"2\": 5, \"9\": 1, \"6\": 4}, \"6\": {\"6\": 600}, \"11\": {\"11\": 598, \"0\": 1, \"8\": 1}, \"14\": {\"14\": 600}, \"12\": {\"12\": 542, \"1\": 28, \"3\": 11, \"4\": 2, \"7\": 2, \"2\": 3, \"9\": 6, \"15\": 6}, \"4\": {\"4\": 434, \"12\": 110, \"15\": 56}, \"15\": {\"15\": 565, \"13\": 15, \"9\": 5, \"7\": 11, \"1\": 4}, \"8\": {\"8\": 599, \"3\": 1}}, \"14\": {\"11\": {\"7\": 37, \"11\": 557, \"15\": 1, \"13\": 2, \"8\": 1, \"2\": 1, \"6\": 1}, \"3\": {\"3\": 599, \"2\": 1}, \"14\": {\"14\": 600}, \"4\": {\"4\": 600}, \"6\": {\"6\": 553, \"13\": 45, \"2\": 2}, \"10\": {\"10\": 355, \"3\": 235, \"7\": 1, \"8\": 4, \"2\": 4, \"9\": 1}, \"0\": {\"0\": 594, \"3\": 3, \"13\": 1, \"4\": 2}, \"1\": {\"1\": 600}, \"8\": {\"8\": 600}, \"2\": {\"2\": 571, \"3\": 25, \"13\": 4}, \"5\": {\"5\": 593, \"4\": 6, \"12\": 1}, \"15\": {\"15\": 600}, \"7\": {\"7\": 600}, \"13\": {\"13\": 488, \"6\": 99, \"2\": 13}, \"12\": {\"12\": 450, \"6\": 33, \"8\": 7, \"13\": 7, \"0\": 37, \"7\": 5, \"2\": 18, \"9\": 12, \"11\": 7, \"3\": 19, \"15\": 3, \"4\": 1, \"10\": 1}, \"9\": {\"9\": 599, \"0\": 1}}, \"44\": {\"14\": {\"14\": 600}, \"11\": {\"11\": 591, \"13\": 5, \"0\": 1, \"4\": 1, \"3\": 1, \"12\": 1}, \"9\": {\"9\": 427, \"7\": 165, \"13\": 6, \"6\": 2}, \"3\": {\"3\": 592, \"13\": 3, \"12\": 2, \"4\": 1, \"7\": 1, \"2\": 1}, \"6\": {\"6\": 353, \"9\": 136, \"13\": 106, \"7\": 5}, \"7\": {\"9\": 136, \"7\": 463, \"10\": 1}, \"15\": {\"15\": 585, \"4\": 12, \"6\": 1, \"11\": 1, \"0\": 1}, \"4\": {\"4\": 563, \"11\": 6, \"9\": 2, \"15\": 26, \"0\": 2, \"12\": 1}, \"13\": {\"13\": 511, \"7\": 2, \"6\": 8, \"0\": 29, \"9\": 28, \"4\": 20, \"15\": 2}, \"2\": {\"2\": 575, \"9\": 12, \"7\": 8, \"11\": 4, \"3\": 1}, \"5\": {\"5\": 600}, \"0\": {\"0\": 369, \"15\": 24, \"8\": 206, \"6\": 1}, \"12\": {\"12\": 567, \"3\": 32, \"13\": 1}, \"1\": {\"1\": 571, \"0\": 1, \"7\": 9, \"10\": 1, \"2\": 10, \"3\": 6, \"8\": 2}, \"10\": {\"10\": 582, \"1\": 13, \"7\": 2, \"2\": 3}, \"8\": {\"0\": 23, \"8\": 540, \"15\": 34, \"6\": 2, \"1\": 1}}, \"32\": {\"3\": {\"3\": 543, \"13\": 49, \"12\": 8}, \"9\": {\"9\": 584, \"1\": 9, \"2\": 1, \"14\": 3, \"6\": 2, \"15\": 1}, \"1\": {\"1\": 599, \"4\": 1}, \"0\": {\"0\": 571, \"8\": 23, \"13\": 1, \"3\": 1, \"7\": 1, \"9\": 2, \"11\": 1}, \"5\": {\"5\": 600}, \"14\": {\"14\": 579, \"0\": 4, \"6\": 4, \"8\": 1, \"2\": 3, \"9\": 9}, \"6\": {\"6\": 598, \"11\": 2}, \"4\": {\"4\": 516, \"13\": 60, \"2\": 2, \"3\": 21, \"12\": 1}, \"8\": {\"8\": 567, \"0\": 27, \"3\": 4, \"13\": 2}, \"11\": {\"11\": 421, \"2\": 47, \"13\": 81, \"6\": 6, \"0\": 13, \"14\": 11, \"7\": 15, \"4\": 3, \"3\": 2, \"8\": 1}, \"7\": {\"7\": 588, \"3\": 6, \"0\": 4, \"2\": 1, \"1\": 1}, \"10\": {\"10\": 599, \"12\": 1}, \"13\": {\"13\": 594, \"3\": 6}, \"15\": {\"15\": 568, \"7\": 29, \"0\": 2, \"8\": 1}, \"2\": {\"2\": 590, \"11\": 2, \"7\": 2, \"4\": 3, \"12\": 2, \"3\": 1}, \"12\": {\"12\": 600}}, \"26\": {\"14\": {\"14\": 600}, \"7\": {\"7\": 473, \"2\": 56, \"3\": 52, \"8\": 16, \"0\": 2, \"13\": 1}, \"0\": {\"0\": 484, \"7\": 10, \"10\": 92, \"15\": 1, \"1\": 8, \"8\": 3, \"12\": 1, \"4\": 1}, \"4\": {\"4\": 594, \"7\": 2, \"3\": 4}, \"1\": {\"1\": 596, \"10\": 3, \"0\": 1}, \"11\": {\"11\": 600}, \"8\": {\"8\": 510, \"10\": 32, \"7\": 48, \"2\": 7, \"0\": 3}, \"12\": {\"12\": 600}, \"13\": {\"13\": 565, \"9\": 23, \"2\": 10, \"8\": 2}, \"2\": {\"2\": 466, \"3\": 25, \"7\": 82, \"8\": 24, \"13\": 1, \"9\": 1, \"15\": 1}, \"6\": {\"6\": 567, \"10\": 23, \"15\": 10}, \"9\": {\"9\": 591, \"2\": 2, \"15\": 4, \"0\": 3}, \"3\": {\"3\": 558, \"7\": 17, \"2\": 25}, \"10\": {\"10\": 486, \"7\": 8, \"14\": 4, \"0\": 71, \"8\": 16, \"12\": 3, \"1\": 9, \"6\": 2, \"2\": 1}, \"5\": {\"5\": 600}, \"15\": {\"15\": 387, \"0\": 18, \"7\": 136, \"2\": 45, \"6\": 13, \"9\": 1}}, \"8\": {\"4\": {\"6\": 198, \"4\": 382, \"15\": 1, \"7\": 16, \"13\": 3}, \"2\": {\"2\": 305, \"1\": 228, \"13\": 30, \"3\": 27, \"15\": 6, \"9\": 3, \"0\": 1}, \"5\": {\"5\": 600}, \"13\": {\"13\": 326, \"1\": 159, \"6\": 13, \"10\": 101, \"7\": 1}, \"1\": {\"1\": 593, \"11\": 6, \"10\": 1}, \"8\": {\"8\": 600}, \"15\": {\"15\": 586, \"12\": 13, \"3\": 1}, \"11\": {\"8\": 295, \"11\": 304, \"1\": 1}, \"6\": {\"6\": 506, \"7\": 28, \"4\": 58, \"8\": 3, \"13\": 5}, \"9\": {\"9\": 598, \"10\": 2}, \"0\": {\"0\": 595, \"4\": 5}, \"12\": {\"12\": 574, \"15\": 23, \"3\": 2, \"4\": 1}, \"7\": {\"6\": 123, \"7\": 476, \"4\": 1}, \"10\": {\"10\": 588, \"13\": 11, \"1\": 1}, \"14\": {\"14\": 599, \"11\": 1}, \"3\": {\"3\": 599, \"4\": 1}}}, \"per_domain_accuracy\": {\"50\": {\"accuracy\": 0.9572916666666667, \"source?\": true}, \"38\": {\"accuracy\": 0.8811458333333333, \"source?\": true}, \"20\": {\"accuracy\": 0.9291666666666667, \"source?\": true}, \"14\": {\"accuracy\": 0.9332291666666667, \"source?\": true}, \"44\": {\"accuracy\": 0.8842708333333333, \"source?\": true}, \"32\": {\"accuracy\": 0.9496875, \"source?\": true}, \"26\": {\"accuracy\": 0.9038541666666666, \"source?\": true}, \"8\": {\"accuracy\": 0.8573958333333334, \"source?\": true}}}, \"history\": {\"epoch_indices\": [1, 2, 3, 4, 5, 6, 7, 8, 9, 10, 11, 12, 13, 14], \"train_label_loss\": [2.1707271007980617, 1.0593593677452633, 0.561253237937178, 0.3750776319205761, 0.2839891609230212, 0.23425909978470633, 0.20127728827829872, 0.1770170227384993, 0.16101319710324918, 0.15796146075640405, 0.13109382639239942, 0.1288116790008332, 0.11549360897924218, 0.10734687503161175], \"source_val_label_loss\": [1.4692313766479492, 0.7014911744991938, 0.3840153000752131, 0.4051643278201421, 0.36421793202559155, 0.32375790757437545, 0.3091539611419042, 0.2758160912493865, 0.1750401554380854, 0.22107088861366114, 0.1459079160168767, 0.29137710962444546, 0.6644467613101006, 0.24207775944223006], \"target_val_label_loss\": [1.537175914843877, 0.8544748262564341, 0.6083791982134183, 0.5352050467332204, 0.5419169146815935, 0.5080563257137934, 0.5252936188379923, 0.5026694130400816, 0.5066057709356149, 0.4852133817970753, 0.4642132533589999, 0.6300311974684397, 0.7419165758788586, 0.6324713165561359], \"source_val_acc_label\": [0.6175260416666667, 0.8384895833333333, 0.911875, 0.9296354166666667, 0.93609375, 0.946640625, 0.943125, 0.95203125, 0.9562239583333333, 0.9593229166666667, 0.9608854166666667, 0.9579166666666666, 0.948125, 0.9627604166666667], \"target_val_acc_label\": [0.5603645833333334, 0.7698958333333333, 0.8218229166666666, 0.8382291666666667, 0.8416927083333333, 0.8491145833333333, 0.84359375, 0.8480729166666666, 0.8557291666666667, 0.8646875, 0.8623697916666667, 0.8627864583333333, 0.8439583333333334, 0.8625260416666667]}, \"dataset_metrics\": {\"source\": {\"train\": {\"n_unique_x\": 179200, \"n_unique_y\": 16, \"n_batch/episode\": 1400}, \"val\": {\"n_unique_x\": 38400, \"n_unique_y\": 16, \"n_batch/episode\": 300}, \"test\": {\"n_unique_x\": 38400, \"n_unique_y\": 16, \"n_batch/episode\": 300}}, \"target\": {\"train\": {\"n_unique_x\": 179200, \"n_unique_y\": 16, \"n_batch/episode\": 1400}, \"val\": {\"n_unique_x\": 38400, \"n_unique_y\": 16, \"n_batch/episode\": 300}, \"test\": {\"n_unique_x\": 38400, \"n_unique_y\": 16, \"n_batch/episode\": 300}}}}'"
      ]
     },
     "execution_count": 20,
     "metadata": {},
     "output_type": "execute_result"
    }
   ],
   "source": [
    "json.dumps(experiment)"
   ]
  }
 ],
 "metadata": {
  "celltoolbar": "Tags",
  "kernelspec": {
   "display_name": "Python 3 (ipykernel)",
   "language": "python",
   "name": "python3"
  },
  "language_info": {
   "codemirror_mode": {
    "name": "ipython",
    "version": 3
   },
   "file_extension": ".py",
   "mimetype": "text/x-python",
   "name": "python",
   "nbconvert_exporter": "python",
   "pygments_lexer": "ipython3",
   "version": "3.8.12"
  },
  "papermill": {
   "default_parameters": {},
   "duration": 277.788255,
   "end_time": "2022-03-28T04:02:38.394103",
   "environment_variables": {},
   "exception": null,
   "input_path": "/root/csc500-main/csc500-notebooks/templates/cnn_template.ipynb",
   "output_path": "trial.ipynb",
   "parameters": {
    "parameters": {
     "BEST_MODEL_PATH": "./best_model.pth",
     "NUM_LOGS_PER_EPOCH": 10,
     "batch_size": 128,
     "criteria_for_best": "target_accuracy",
     "dataset_seed": 7,
     "device": "cuda",
     "domains_source": [
      8,
      32,
      50,
      14,
      20,
      26,
      38,
      44
     ],
     "domains_target": [
      8,
      32,
      50,
      14,
      20,
      26,
      38,
      44
     ],
     "experiment_name": "cnn_3:oracle.run1.framed-oracle.run2.framed",
     "labels": [
      "3123D52",
      "3123D65",
      "3123D79",
      "3123D80",
      "3123D54",
      "3123D70",
      "3123D7B",
      "3123D89",
      "3123D58",
      "3123D76",
      "3123D7D",
      "3123EFE",
      "3123D64",
      "3123D78",
      "3123D7E",
      "3124E4A"
     ],
     "lr": 0.0001,
     "n_epoch": 50,
     "normalize_source": false,
     "normalize_target": false,
     "num_examples_per_domain_per_label_source": -1,
     "num_examples_per_domain_per_label_target": -1,
     "patience": 3,
     "pickle_name_source": "oracle.Run1_framed_2000Examples_stratified_ds.2022A.pkl",
     "pickle_name_target": "oracle.Run2_framed_2000Examples_stratified_ds.2022A.pkl",
     "seed": 7,
     "torch_default_dtype": "torch.float32",
     "x_net": [
      {
       "class": "nnReshape",
       "kargs": {
        "shape": [
         -1,
         1,
         2,
         256
        ]
       }
      },
      {
       "class": "Conv2d",
       "kargs": {
        "bias": false,
        "in_channels": 1,
        "kernel_size": [
         1,
         7
        ],
        "out_channels": 256,
        "padding": [
         0,
         3
        ]
       }
      },
      {
       "class": "ReLU",
       "kargs": {
        "inplace": true
       }
      },
      {
       "class": "BatchNorm2d",
       "kargs": {
        "num_features": 256
       }
      },
      {
       "class": "Conv2d",
       "kargs": {
        "bias": true,
        "in_channels": 256,
        "kernel_size": [
         2,
         7
        ],
        "out_channels": 80,
        "padding": [
         0,
         3
        ]
       }
      },
      {
       "class": "ReLU",
       "kargs": {
        "inplace": true
       }
      },
      {
       "class": "BatchNorm2d",
       "kargs": {
        "num_features": 80
       }
      },
      {
       "class": "Flatten",
       "kargs": {}
      },
      {
       "class": "Linear",
       "kargs": {
        "in_features": 20480,
        "out_features": 256
       }
      },
      {
       "class": "ReLU",
       "kargs": {
        "inplace": true
       }
      },
      {
       "class": "BatchNorm1d",
       "kargs": {
        "num_features": 256
       }
      },
      {
       "class": "Linear",
       "kargs": {
        "in_features": 256,
        "out_features": 16
       }
      }
     ]
    }
   },
   "start_time": "2022-03-28T03:58:00.605848",
   "version": "2.3.4"
  }
 },
 "nbformat": 4,
 "nbformat_minor": 5
}