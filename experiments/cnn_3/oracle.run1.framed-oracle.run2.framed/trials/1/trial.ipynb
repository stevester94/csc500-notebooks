{
 "cells": [
  {
   "cell_type": "code",
   "execution_count": 1,
   "id": "2324682e",
   "metadata": {
    "execution": {
     "iopub.execute_input": "2022-03-28T02:45:37.063125Z",
     "iopub.status.busy": "2022-03-28T02:45:37.057971Z",
     "iopub.status.idle": "2022-03-28T02:45:38.369465Z",
     "shell.execute_reply": "2022-03-28T02:45:38.368592Z"
    },
    "papermill": {
     "duration": 1.343839,
     "end_time": "2022-03-28T02:45:38.369658",
     "exception": false,
     "start_time": "2022-03-28T02:45:37.025819",
     "status": "completed"
    },
    "tags": []
   },
   "outputs": [],
   "source": [
    "import os, json, sys, time, random\n",
    "import numpy as np\n",
    "import torch\n",
    "from  easydict import EasyDict\n",
    "from math import floor\n",
    "from easydict import EasyDict\n",
    "\n",
    "from steves_utils.vanilla_train_eval_test_jig import  Vanilla_Train_Eval_Test_Jig\n",
    "\n",
    "from steves_utils.torch_utils import get_dataset_metrics, independent_accuracy_assesment\n",
    "from steves_models.configurable_vanilla import Configurable_Vanilla\n",
    "from steves_utils.torch_sequential_builder import build_sequential\n",
    "from steves_utils.lazy_map import Lazy_Map\n",
    "from steves_utils.sequence_aggregator import Sequence_Aggregator\n",
    "\n",
    "from steves_utils.stratified_dataset.traditional_accessor import Traditional_Accessor_Factory\n",
    "\n",
    "from steves_utils.cnn_do_report import (\n",
    "    get_loss_curve,\n",
    "    get_results_table,\n",
    "    get_parameters_table,\n",
    "    get_domain_accuracies,\n",
    ")\n",
    "\n",
    "from steves_utils.torch_utils import (\n",
    "    confusion_by_domain_over_dataloader,\n",
    "    independent_accuracy_assesment\n",
    ")\n",
    "\n",
    "from steves_utils.utils_v2 import (\n",
    "    per_domain_accuracy_from_confusion,\n",
    "    get_datasets_base_path\n",
    ")\n",
    "\n",
    "# from steves_utils.ptn_do_report import TBD"
   ]
  },
  {
   "cell_type": "code",
   "execution_count": 2,
   "id": "1b29e3fe",
   "metadata": {
    "execution": {
     "iopub.execute_input": "2022-03-28T02:45:38.405991Z",
     "iopub.status.busy": "2022-03-28T02:45:38.405606Z",
     "iopub.status.idle": "2022-03-28T02:45:38.409573Z",
     "shell.execute_reply": "2022-03-28T02:45:38.408857Z"
    },
    "papermill": {
     "duration": 0.022975,
     "end_time": "2022-03-28T02:45:38.409730",
     "exception": false,
     "start_time": "2022-03-28T02:45:38.386755",
     "status": "completed"
    },
    "tags": []
   },
   "outputs": [],
   "source": [
    "required_parameters = {\n",
    "    \"experiment_name\",\n",
    "    \"lr\",\n",
    "    \"device\",\n",
    "    \"dataset_seed\",\n",
    "    \"seed\",\n",
    "    \"labels\",\n",
    "    \"domains_target\",\n",
    "    \"domains_source\",\n",
    "    \"num_examples_per_domain_per_label_source\",\n",
    "    \"num_examples_per_domain_per_label_target\",\n",
    "    \"batch_size\",\n",
    "    \"n_epoch\",\n",
    "    \"patience\",\n",
    "    \"criteria_for_best\",\n",
    "    \"normalize_source\",\n",
    "    \"normalize_target\",\n",
    "    \"x_net\",\n",
    "    \"NUM_LOGS_PER_EPOCH\",\n",
    "    \"BEST_MODEL_PATH\",\n",
    "    \"pickle_name_source\",\n",
    "    \"pickle_name_target\",\n",
    "    \"torch_default_dtype\",\n",
    "}"
   ]
  },
  {
   "cell_type": "code",
   "execution_count": 3,
   "id": "670b5fb8",
   "metadata": {
    "execution": {
     "iopub.execute_input": "2022-03-28T02:45:38.456916Z",
     "iopub.status.busy": "2022-03-28T02:45:38.456017Z",
     "iopub.status.idle": "2022-03-28T02:45:38.464195Z",
     "shell.execute_reply": "2022-03-28T02:45:38.463361Z"
    },
    "papermill": {
     "duration": 0.035746,
     "end_time": "2022-03-28T02:45:38.464353",
     "exception": false,
     "start_time": "2022-03-28T02:45:38.428607",
     "status": "completed"
    },
    "tags": [
     "parameters"
    ]
   },
   "outputs": [],
   "source": [
    "from steves_utils.ORACLE.utils_v2 import (\n",
    "    ALL_SERIAL_NUMBERS,\n",
    "    ALL_DISTANCES_FEET_NARROWED,\n",
    ")\n",
    "\n",
    "standalone_parameters = {}\n",
    "standalone_parameters[\"experiment_name\"] = \"MANUAL CORES CNN\"\n",
    "standalone_parameters[\"lr\"] = 0.0001\n",
    "standalone_parameters[\"device\"] = \"cuda\"\n",
    "\n",
    "standalone_parameters[\"dataset_seed\"] = 1337\n",
    "standalone_parameters[\"seed\"] = 1337\n",
    "standalone_parameters[\"labels\"] = ALL_SERIAL_NUMBERS\n",
    "\n",
    "standalone_parameters[\"domains_source\"] = [8,32,50]\n",
    "standalone_parameters[\"domains_target\"] = [14,20,26,38,44,]\n",
    "\n",
    "standalone_parameters[\"num_examples_per_domain_per_label_source\"]=-1\n",
    "standalone_parameters[\"num_examples_per_domain_per_label_target\"]=-1\n",
    "\n",
    "standalone_parameters[\"pickle_name_source\"] = \"oracle.Run1_framed_2000Examples_stratified_ds.2022A.pkl\"\n",
    "standalone_parameters[\"pickle_name_target\"] = \"oracle.Run2_framed_2000Examples_stratified_ds.2022A.pkl\"\n",
    "\n",
    "standalone_parameters[\"torch_default_dtype\"] = \"torch.float32\" \n",
    "\n",
    "standalone_parameters[\"batch_size\"]=128\n",
    "\n",
    "standalone_parameters[\"n_epoch\"] = 3\n",
    "\n",
    "standalone_parameters[\"patience\"] = 10\n",
    "\n",
    "standalone_parameters[\"criteria_for_best\"] = \"target_accuracy\"\n",
    "standalone_parameters[\"normalize_source\"] = False\n",
    "standalone_parameters[\"normalize_target\"] = False\n",
    "\n",
    "standalone_parameters[\"x_net\"] =     [\n",
    "    {\"class\": \"nnReshape\", \"kargs\": {\"shape\":[-1, 1, 2, 256]}},\n",
    "    {\"class\": \"Conv2d\", \"kargs\": { \"in_channels\":1, \"out_channels\":256, \"kernel_size\":(1,7), \"bias\":False, \"padding\":(0,3), },},\n",
    "    {\"class\": \"ReLU\", \"kargs\": {\"inplace\": True}},\n",
    "    {\"class\": \"BatchNorm2d\", \"kargs\": {\"num_features\":256}},\n",
    "\n",
    "    {\"class\": \"Conv2d\", \"kargs\": { \"in_channels\":256, \"out_channels\":80, \"kernel_size\":(2,7), \"bias\":True, \"padding\":(0,3), },},\n",
    "    {\"class\": \"ReLU\", \"kargs\": {\"inplace\": True}},\n",
    "    {\"class\": \"BatchNorm2d\", \"kargs\": {\"num_features\":80}},\n",
    "    {\"class\": \"Flatten\", \"kargs\": {}},\n",
    "\n",
    "    {\"class\": \"Linear\", \"kargs\": {\"in_features\": 80*256, \"out_features\": 256}}, # 80 units per IQ pair\n",
    "    {\"class\": \"ReLU\", \"kargs\": {\"inplace\": True}},\n",
    "    {\"class\": \"BatchNorm1d\", \"kargs\": {\"num_features\":256}},\n",
    "\n",
    "    {\"class\": \"Linear\", \"kargs\": {\"in_features\": 256, \"out_features\": len(standalone_parameters[\"labels\"])}},\n",
    "]\n",
    "\n",
    "standalone_parameters[\"NUM_LOGS_PER_EPOCH\"] = 10\n",
    "standalone_parameters[\"BEST_MODEL_PATH\"] = \"./best_model.pth\""
   ]
  },
  {
   "cell_type": "code",
   "execution_count": 4,
   "id": "77c32c8e",
   "metadata": {
    "execution": {
     "iopub.execute_input": "2022-03-28T02:45:38.513646Z",
     "iopub.status.busy": "2022-03-28T02:45:38.512288Z",
     "iopub.status.idle": "2022-03-28T02:45:38.515799Z",
     "shell.execute_reply": "2022-03-28T02:45:38.515062Z"
    },
    "papermill": {
     "duration": 0.031074,
     "end_time": "2022-03-28T02:45:38.515979",
     "exception": false,
     "start_time": "2022-03-28T02:45:38.484905",
     "status": "completed"
    },
    "tags": [
     "injected-parameters"
    ]
   },
   "outputs": [],
   "source": [
    "# Parameters\n",
    "parameters = {\n",
    "    \"experiment_name\": \"cnn_3:oracle.run1.framed-oracle.run2.framed\",\n",
    "    \"labels\": [\n",
    "        \"3123D52\",\n",
    "        \"3123D65\",\n",
    "        \"3123D79\",\n",
    "        \"3123D80\",\n",
    "        \"3123D54\",\n",
    "        \"3123D70\",\n",
    "        \"3123D7B\",\n",
    "        \"3123D89\",\n",
    "        \"3123D58\",\n",
    "        \"3123D76\",\n",
    "        \"3123D7D\",\n",
    "        \"3123EFE\",\n",
    "        \"3123D64\",\n",
    "        \"3123D78\",\n",
    "        \"3123D7E\",\n",
    "        \"3124E4A\",\n",
    "    ],\n",
    "    \"domains_source\": [8, 32, 50, 14, 20, 26, 38, 44],\n",
    "    \"domains_target\": [8, 32, 50, 14, 20, 26, 38, 44],\n",
    "    \"pickle_name_source\": \"oracle.Run1_framed_2000Examples_stratified_ds.2022A.pkl\",\n",
    "    \"pickle_name_target\": \"oracle.Run2_framed_2000Examples_stratified_ds.2022A.pkl\",\n",
    "    \"device\": \"cuda\",\n",
    "    \"lr\": 0.0001,\n",
    "    \"batch_size\": 128,\n",
    "    \"normalize_source\": False,\n",
    "    \"normalize_target\": False,\n",
    "    \"num_examples_per_domain_per_label_source\": -1,\n",
    "    \"num_examples_per_domain_per_label_target\": -1,\n",
    "    \"torch_default_dtype\": \"torch.float32\",\n",
    "    \"n_epoch\": 50,\n",
    "    \"patience\": 3,\n",
    "    \"criteria_for_best\": \"target_accuracy\",\n",
    "    \"x_net\": [\n",
    "        {\"class\": \"nnReshape\", \"kargs\": {\"shape\": [-1, 1, 2, 256]}},\n",
    "        {\n",
    "            \"class\": \"Conv2d\",\n",
    "            \"kargs\": {\n",
    "                \"in_channels\": 1,\n",
    "                \"out_channels\": 256,\n",
    "                \"kernel_size\": [1, 7],\n",
    "                \"bias\": False,\n",
    "                \"padding\": [0, 3],\n",
    "            },\n",
    "        },\n",
    "        {\"class\": \"ReLU\", \"kargs\": {\"inplace\": True}},\n",
    "        {\"class\": \"BatchNorm2d\", \"kargs\": {\"num_features\": 256}},\n",
    "        {\n",
    "            \"class\": \"Conv2d\",\n",
    "            \"kargs\": {\n",
    "                \"in_channels\": 256,\n",
    "                \"out_channels\": 80,\n",
    "                \"kernel_size\": [2, 7],\n",
    "                \"bias\": True,\n",
    "                \"padding\": [0, 3],\n",
    "            },\n",
    "        },\n",
    "        {\"class\": \"ReLU\", \"kargs\": {\"inplace\": True}},\n",
    "        {\"class\": \"BatchNorm2d\", \"kargs\": {\"num_features\": 80}},\n",
    "        {\"class\": \"Flatten\", \"kargs\": {}},\n",
    "        {\"class\": \"Linear\", \"kargs\": {\"in_features\": 20480, \"out_features\": 256}},\n",
    "        {\"class\": \"ReLU\", \"kargs\": {\"inplace\": True}},\n",
    "        {\"class\": \"BatchNorm1d\", \"kargs\": {\"num_features\": 256}},\n",
    "        {\"class\": \"Linear\", \"kargs\": {\"in_features\": 256, \"out_features\": 16}},\n",
    "    ],\n",
    "    \"NUM_LOGS_PER_EPOCH\": 10,\n",
    "    \"BEST_MODEL_PATH\": \"./best_model.pth\",\n",
    "    \"dataset_seed\": 1337,\n",
    "    \"seed\": 1337,\n",
    "}\n"
   ]
  },
  {
   "cell_type": "code",
   "execution_count": 5,
   "id": "759b56ec",
   "metadata": {
    "execution": {
     "iopub.execute_input": "2022-03-28T02:45:38.558215Z",
     "iopub.status.busy": "2022-03-28T02:45:38.557538Z",
     "iopub.status.idle": "2022-03-28T02:45:38.560366Z",
     "shell.execute_reply": "2022-03-28T02:45:38.559793Z"
    },
    "papermill": {
     "duration": 0.025542,
     "end_time": "2022-03-28T02:45:38.560493",
     "exception": false,
     "start_time": "2022-03-28T02:45:38.534951",
     "status": "completed"
    },
    "tags": []
   },
   "outputs": [],
   "source": [
    "# Set this to True if you want to run this template directly\n",
    "STANDALONE = False\n",
    "if STANDALONE:\n",
    "    print(\"parameters not injected, running with standalone_parameters\")\n",
    "    parameters = standalone_parameters\n",
    "\n",
    "if not 'parameters' in locals() and not 'parameters' in globals():\n",
    "    raise Exception(\"Parameter injection failed\")\n",
    "\n",
    "#Use an easy dict for all the parameters\n",
    "p = EasyDict(parameters)\n",
    "\n",
    "supplied_keys = set(p.keys())\n",
    "\n",
    "if  supplied_keys != required_parameters:\n",
    "    print(\"Parameters are incorrect\")\n",
    "    if len(supplied_keys - required_parameters)>0: print(\"Shouldn't have:\", str(supplied_keys - required_parameters))\n",
    "    if len(required_parameters - supplied_keys)>0: print(\"Need to have:\", str(required_parameters - supplied_keys))\n",
    "    raise RuntimeError(\"Parameters are incorrect\")\n",
    "\n"
   ]
  },
  {
   "cell_type": "code",
   "execution_count": 6,
   "id": "d5c66a71",
   "metadata": {
    "execution": {
     "iopub.execute_input": "2022-03-28T02:45:38.604419Z",
     "iopub.status.busy": "2022-03-28T02:45:38.603757Z",
     "iopub.status.idle": "2022-03-28T02:45:38.607707Z",
     "shell.execute_reply": "2022-03-28T02:45:38.608234Z"
    },
    "papermill": {
     "duration": 0.022583,
     "end_time": "2022-03-28T02:45:38.608375",
     "exception": false,
     "start_time": "2022-03-28T02:45:38.585792",
     "status": "completed"
    },
    "tags": []
   },
   "outputs": [],
   "source": [
    "###################################\n",
    "# Set the RNGs and make it all deterministic\n",
    "###################################\n",
    "np.random.seed(p.seed)\n",
    "random.seed(p.seed)\n",
    "torch.manual_seed(p.seed)\n",
    "\n",
    "torch.use_deterministic_algorithms(True) "
   ]
  },
  {
   "cell_type": "code",
   "execution_count": 7,
   "id": "92a65876",
   "metadata": {
    "execution": {
     "iopub.execute_input": "2022-03-28T02:45:38.648946Z",
     "iopub.status.busy": "2022-03-28T02:45:38.648305Z",
     "iopub.status.idle": "2022-03-28T02:45:38.651200Z",
     "shell.execute_reply": "2022-03-28T02:45:38.651738Z"
    },
    "papermill": {
     "duration": 0.021554,
     "end_time": "2022-03-28T02:45:38.651880",
     "exception": false,
     "start_time": "2022-03-28T02:45:38.630326",
     "status": "completed"
    },
    "tags": []
   },
   "outputs": [],
   "source": [
    "torch.set_default_dtype(eval(p.torch_default_dtype))"
   ]
  },
  {
   "cell_type": "code",
   "execution_count": 8,
   "id": "f1a32f01",
   "metadata": {
    "execution": {
     "iopub.execute_input": "2022-03-28T02:45:38.687423Z",
     "iopub.status.busy": "2022-03-28T02:45:38.686825Z",
     "iopub.status.idle": "2022-03-28T02:45:38.726762Z",
     "shell.execute_reply": "2022-03-28T02:45:38.725910Z"
    },
    "papermill": {
     "duration": 0.057589,
     "end_time": "2022-03-28T02:45:38.726941",
     "exception": false,
     "start_time": "2022-03-28T02:45:38.669352",
     "status": "completed"
    },
    "tags": []
   },
   "outputs": [],
   "source": [
    "###################################\n",
    "# Build the network(s)\n",
    "# Note: It's critical to do this AFTER setting the RNG\n",
    "###################################\n",
    "x_net = build_sequential(p.x_net)"
   ]
  },
  {
   "cell_type": "code",
   "execution_count": 9,
   "id": "a276cd83",
   "metadata": {
    "execution": {
     "iopub.execute_input": "2022-03-28T02:45:38.764938Z",
     "iopub.status.busy": "2022-03-28T02:45:38.764560Z",
     "iopub.status.idle": "2022-03-28T02:45:38.767098Z",
     "shell.execute_reply": "2022-03-28T02:45:38.767409Z"
    },
    "papermill": {
     "duration": 0.021223,
     "end_time": "2022-03-28T02:45:38.767493",
     "exception": false,
     "start_time": "2022-03-28T02:45:38.746270",
     "status": "completed"
    },
    "tags": []
   },
   "outputs": [],
   "source": [
    "start_time_secs = time.time()"
   ]
  },
  {
   "cell_type": "code",
   "execution_count": 10,
   "id": "de702e48",
   "metadata": {
    "execution": {
     "iopub.execute_input": "2022-03-28T02:45:38.816722Z",
     "iopub.status.busy": "2022-03-28T02:45:38.815836Z",
     "iopub.status.idle": "2022-03-28T02:45:46.020561Z",
     "shell.execute_reply": "2022-03-28T02:45:46.021293Z"
    },
    "papermill": {
     "duration": 7.232995,
     "end_time": "2022-03-28T02:45:46.021517",
     "exception": false,
     "start_time": "2022-03-28T02:45:38.788522",
     "status": "completed"
    },
    "tags": []
   },
   "outputs": [],
   "source": [
    "def wrap_in_dataloader(p, ds):\n",
    "    return torch.utils.data.DataLoader(\n",
    "        ds,\n",
    "        batch_size=p.batch_size,\n",
    "        shuffle=True,\n",
    "        num_workers=1,\n",
    "        persistent_workers=True,\n",
    "        prefetch_factor=50,\n",
    "        pin_memory=True\n",
    "    )\n",
    "\n",
    "taf_source = Traditional_Accessor_Factory(\n",
    "    labels=p.labels,\n",
    "    domains=p.domains_source,\n",
    "    num_examples_per_domain_per_label=p.num_examples_per_domain_per_label_source,\n",
    "    pickle_path=os.path.join(get_datasets_base_path(), p.pickle_name_source),\n",
    "    seed=p.dataset_seed\n",
    ")\n",
    "train_original_source, val_original_source, test_original_source = \\\n",
    "    taf_source.get_train(), taf_source.get_val(), taf_source.get_test()\n",
    "\n",
    "\n",
    "taf_target = Traditional_Accessor_Factory(\n",
    "    labels=p.labels,\n",
    "    domains=p.domains_target,\n",
    "    num_examples_per_domain_per_label=p.num_examples_per_domain_per_label_source,\n",
    "    pickle_path=os.path.join(get_datasets_base_path(), p.pickle_name_target),\n",
    "    seed=p.dataset_seed\n",
    ")\n",
    "train_original_target, val_original_target, test_original_target = \\\n",
    "    taf_target.get_train(), taf_target.get_val(), taf_target.get_test()\n",
    "\n",
    "\n",
    "# For CNN We only use X and Y. And we only train on the source.\n",
    "# Properly form the data using a transform lambda and Lazy_Map. Finally wrap them in a dataloader\n",
    "\n",
    "transform_lambda = lambda ex: ex[:2] # Strip the tuple to just (x,y)\n",
    "\n",
    "\n",
    "train_processed_source = wrap_in_dataloader(\n",
    "    p,\n",
    "    Lazy_Map(train_original_source, transform_lambda)\n",
    ")\n",
    "val_processed_source = wrap_in_dataloader(\n",
    "    p,\n",
    "    Lazy_Map(val_original_source, transform_lambda)\n",
    ")\n",
    "test_processed_source = wrap_in_dataloader(\n",
    "    p,\n",
    "    Lazy_Map(test_original_source, transform_lambda)\n",
    ")\n",
    "\n",
    "train_processed_target = wrap_in_dataloader(\n",
    "    p,\n",
    "    Lazy_Map(train_original_target, transform_lambda)\n",
    ")\n",
    "val_processed_target = wrap_in_dataloader(\n",
    "    p,\n",
    "    Lazy_Map(val_original_target, transform_lambda)\n",
    ")\n",
    "test_processed_target  = wrap_in_dataloader(\n",
    "    p,\n",
    "    Lazy_Map(test_original_target, transform_lambda)\n",
    ")\n",
    "\n",
    "\n",
    "\n",
    "datasets = EasyDict({\n",
    "    \"source\": {\n",
    "        \"original\": {\"train\":train_original_source, \"val\":val_original_source, \"test\":test_original_source},\n",
    "        \"processed\": {\"train\":train_processed_source, \"val\":val_processed_source, \"test\":test_processed_source}\n",
    "    },\n",
    "    \"target\": {\n",
    "        \"original\": {\"train\":train_original_target, \"val\":val_original_target, \"test\":test_original_target},\n",
    "        \"processed\": {\"train\":train_processed_target, \"val\":val_processed_target, \"test\":test_processed_target}\n",
    "    },\n",
    "})"
   ]
  },
  {
   "cell_type": "code",
   "execution_count": 11,
   "id": "a11b26bd",
   "metadata": {
    "execution": {
     "iopub.execute_input": "2022-03-28T02:45:46.127331Z",
     "iopub.status.busy": "2022-03-28T02:45:46.126467Z",
     "iopub.status.idle": "2022-03-28T02:45:51.759437Z",
     "shell.execute_reply": "2022-03-28T02:45:51.760173Z"
    },
    "papermill": {
     "duration": 5.718363,
     "end_time": "2022-03-28T02:45:51.760391",
     "exception": false,
     "start_time": "2022-03-28T02:45:46.042028",
     "status": "completed"
    },
    "tags": []
   },
   "outputs": [
    {
     "data": {
      "text/plain": [
       "torch.float32"
      ]
     },
     "execution_count": 11,
     "metadata": {},
     "output_type": "execute_result"
    }
   ],
   "source": [
    "ep = next(iter(test_processed_target))\n",
    "ep[0].dtype"
   ]
  },
  {
   "cell_type": "code",
   "execution_count": 12,
   "id": "19425fad",
   "metadata": {
    "execution": {
     "iopub.execute_input": "2022-03-28T02:45:51.801545Z",
     "iopub.status.busy": "2022-03-28T02:45:51.800770Z",
     "iopub.status.idle": "2022-03-28T02:45:51.844652Z",
     "shell.execute_reply": "2022-03-28T02:45:51.843935Z"
    },
    "papermill": {
     "duration": 0.064965,
     "end_time": "2022-03-28T02:45:51.844809",
     "exception": false,
     "start_time": "2022-03-28T02:45:51.779844",
     "status": "completed"
    },
    "tags": []
   },
   "outputs": [],
   "source": [
    "model = Configurable_Vanilla(\n",
    "    x_net=x_net,\n",
    "    label_loss_object=torch.nn.NLLLoss(),\n",
    "    learning_rate=p.lr\n",
    ")"
   ]
  },
  {
   "cell_type": "code",
   "execution_count": 13,
   "id": "7f6d4f2c",
   "metadata": {
    "execution": {
     "iopub.execute_input": "2022-03-28T02:45:51.888400Z",
     "iopub.status.busy": "2022-03-28T02:45:51.887986Z",
     "iopub.status.idle": "2022-03-28T02:50:28.650156Z",
     "shell.execute_reply": "2022-03-28T02:50:28.650460Z"
    },
    "papermill": {
     "duration": 276.782775,
     "end_time": "2022-03-28T02:50:28.650580",
     "exception": false,
     "start_time": "2022-03-28T02:45:51.867805",
     "status": "completed"
    },
    "tags": []
   },
   "outputs": [
    {
     "name": "stdout",
     "output_type": "stream",
     "text": [
      "epoch: 1, [batch: 1 / 1400], examples_per_second: 620.0461, train_label_loss: 2.8071, \n"
     ]
    },
    {
     "name": "stdout",
     "output_type": "stream",
     "text": [
      "epoch: 1, [batch: 140 / 1400], examples_per_second: 10669.7963, train_label_loss: 2.6686, \n"
     ]
    },
    {
     "name": "stdout",
     "output_type": "stream",
     "text": [
      "epoch: 1, [batch: 280 / 1400], examples_per_second: 10708.3786, train_label_loss: 2.6543, \n"
     ]
    },
    {
     "name": "stdout",
     "output_type": "stream",
     "text": [
      "epoch: 1, [batch: 420 / 1400], examples_per_second: 10763.4643, train_label_loss: 2.3586, \n"
     ]
    },
    {
     "name": "stdout",
     "output_type": "stream",
     "text": [
      "epoch: 1, [batch: 560 / 1400], examples_per_second: 10738.5166, train_label_loss: 2.3414, \n"
     ]
    },
    {
     "name": "stdout",
     "output_type": "stream",
     "text": [
      "epoch: 1, [batch: 700 / 1400], examples_per_second: 10651.9259, train_label_loss: 2.1506, \n"
     ]
    },
    {
     "name": "stdout",
     "output_type": "stream",
     "text": [
      "epoch: 1, [batch: 840 / 1400], examples_per_second: 10616.8308, train_label_loss: 2.0807, \n"
     ]
    },
    {
     "name": "stdout",
     "output_type": "stream",
     "text": [
      "epoch: 1, [batch: 980 / 1400], examples_per_second: 10771.6984, train_label_loss: 2.0326, \n"
     ]
    },
    {
     "name": "stdout",
     "output_type": "stream",
     "text": [
      "epoch: 1, [batch: 1120 / 1400], examples_per_second: 10755.6860, train_label_loss: 1.8375, \n"
     ]
    },
    {
     "name": "stdout",
     "output_type": "stream",
     "text": [
      "epoch: 1, [batch: 1260 / 1400], examples_per_second: 10641.9704, train_label_loss: 1.7466, \n"
     ]
    },
    {
     "name": "stdout",
     "output_type": "stream",
     "text": [
      "=============================================================\n",
      "epoch: 1, source_val_acc_label: 0.5363, source_val_label_loss: 1.6287, target_val_acc_label: 0.5024, target_val_label_loss: 1.6917, \n",
      "=============================================================\n"
     ]
    },
    {
     "name": "stdout",
     "output_type": "stream",
     "text": [
      "New best\n",
      "epoch: 2, [batch: 1 / 1400], examples_per_second: 49.3328, train_label_loss: 1.4859, \n"
     ]
    },
    {
     "name": "stdout",
     "output_type": "stream",
     "text": [
      "epoch: 2, [batch: 140 / 1400], examples_per_second: 10687.0308, train_label_loss: 1.4072, \n"
     ]
    },
    {
     "name": "stdout",
     "output_type": "stream",
     "text": [
      "epoch: 2, [batch: 280 / 1400], examples_per_second: 10535.9232, train_label_loss: 1.3189, \n"
     ]
    },
    {
     "name": "stdout",
     "output_type": "stream",
     "text": [
      "epoch: 2, [batch: 420 / 1400], examples_per_second: 10743.6649, train_label_loss: 1.2831, \n"
     ]
    },
    {
     "name": "stdout",
     "output_type": "stream",
     "text": [
      "epoch: 2, [batch: 560 / 1400], examples_per_second: 10683.6672, train_label_loss: 1.3837, \n"
     ]
    },
    {
     "name": "stdout",
     "output_type": "stream",
     "text": [
      "epoch: 2, [batch: 700 / 1400], examples_per_second: 10721.3974, train_label_loss: 0.9988, \n"
     ]
    },
    {
     "name": "stdout",
     "output_type": "stream",
     "text": [
      "epoch: 2, [batch: 840 / 1400], examples_per_second: 10695.8922, train_label_loss: 1.0475, \n"
     ]
    },
    {
     "name": "stdout",
     "output_type": "stream",
     "text": [
      "epoch: 2, [batch: 980 / 1400], examples_per_second: 10673.4204, train_label_loss: 0.9300, \n"
     ]
    },
    {
     "name": "stdout",
     "output_type": "stream",
     "text": [
      "epoch: 2, [batch: 1120 / 1400], examples_per_second: 10670.7762, train_label_loss: 0.9556, \n"
     ]
    },
    {
     "name": "stdout",
     "output_type": "stream",
     "text": [
      "epoch: 2, [batch: 1260 / 1400], examples_per_second: 10746.9293, train_label_loss: 0.7619, \n"
     ]
    },
    {
     "name": "stdout",
     "output_type": "stream",
     "text": [
      "=============================================================\n",
      "epoch: 2, source_val_acc_label: 0.8281, source_val_label_loss: 0.7250, target_val_acc_label: 0.7512, target_val_label_loss: 0.8789, \n",
      "=============================================================\n"
     ]
    },
    {
     "name": "stdout",
     "output_type": "stream",
     "text": [
      "New best\n",
      "epoch: 3, [batch: 1 / 1400], examples_per_second: 57.0717, train_label_loss: 0.8217, \n"
     ]
    },
    {
     "name": "stdout",
     "output_type": "stream",
     "text": [
      "epoch: 3, [batch: 140 / 1400], examples_per_second: 10735.4442, train_label_loss: 0.7972, \n"
     ]
    },
    {
     "name": "stdout",
     "output_type": "stream",
     "text": [
      "epoch: 3, [batch: 280 / 1400], examples_per_second: 10768.2940, train_label_loss: 0.6595, \n"
     ]
    },
    {
     "name": "stdout",
     "output_type": "stream",
     "text": [
      "epoch: 3, [batch: 420 / 1400], examples_per_second: 10694.3612, train_label_loss: 0.7801, \n"
     ]
    },
    {
     "name": "stdout",
     "output_type": "stream",
     "text": [
      "epoch: 3, [batch: 560 / 1400], examples_per_second: 11060.2479, train_label_loss: 0.5922, \n"
     ]
    },
    {
     "name": "stdout",
     "output_type": "stream",
     "text": [
      "epoch: 3, [batch: 700 / 1400], examples_per_second: 11798.1179, train_label_loss: 0.6400, \n"
     ]
    },
    {
     "name": "stdout",
     "output_type": "stream",
     "text": [
      "epoch: 3, [batch: 840 / 1400], examples_per_second: 11703.8066, train_label_loss: 0.5769, \n"
     ]
    },
    {
     "name": "stdout",
     "output_type": "stream",
     "text": [
      "epoch: 3, [batch: 980 / 1400], examples_per_second: 11556.4201, train_label_loss: 0.5364, \n"
     ]
    },
    {
     "name": "stdout",
     "output_type": "stream",
     "text": [
      "epoch: 3, [batch: 1120 / 1400], examples_per_second: 11629.7040, train_label_loss: 0.5597, \n"
     ]
    },
    {
     "name": "stdout",
     "output_type": "stream",
     "text": [
      "epoch: 3, [batch: 1260 / 1400], examples_per_second: 11683.7503, train_label_loss: 0.4795, \n"
     ]
    },
    {
     "name": "stdout",
     "output_type": "stream",
     "text": [
      "=============================================================\n",
      "epoch: 3, source_val_acc_label: 0.9024, source_val_label_loss: 0.4804, target_val_acc_label: 0.8179, target_val_label_loss: 0.6551, \n",
      "=============================================================\n"
     ]
    },
    {
     "name": "stdout",
     "output_type": "stream",
     "text": [
      "New best\n",
      "epoch: 4, [batch: 1 / 1400], examples_per_second: 64.4142, train_label_loss: 0.3784, \n"
     ]
    },
    {
     "name": "stdout",
     "output_type": "stream",
     "text": [
      "epoch: 4, [batch: 140 / 1400], examples_per_second: 11482.5003, train_label_loss: 0.5744, \n"
     ]
    },
    {
     "name": "stdout",
     "output_type": "stream",
     "text": [
      "epoch: 4, [batch: 280 / 1400], examples_per_second: 11682.1214, train_label_loss: 0.5427, \n"
     ]
    },
    {
     "name": "stdout",
     "output_type": "stream",
     "text": [
      "epoch: 4, [batch: 420 / 1400], examples_per_second: 11661.3522, train_label_loss: 0.4739, \n"
     ]
    },
    {
     "name": "stdout",
     "output_type": "stream",
     "text": [
      "epoch: 4, [batch: 560 / 1400], examples_per_second: 11700.3176, train_label_loss: 0.3700, \n"
     ]
    },
    {
     "name": "stdout",
     "output_type": "stream",
     "text": [
      "epoch: 4, [batch: 700 / 1400], examples_per_second: 11596.6094, train_label_loss: 0.3285, \n"
     ]
    },
    {
     "name": "stdout",
     "output_type": "stream",
     "text": [
      "epoch: 4, [batch: 840 / 1400], examples_per_second: 11627.8040, train_label_loss: 0.4279, \n"
     ]
    },
    {
     "name": "stdout",
     "output_type": "stream",
     "text": [
      "epoch: 4, [batch: 980 / 1400], examples_per_second: 11721.3484, train_label_loss: 0.4635, \n"
     ]
    },
    {
     "name": "stdout",
     "output_type": "stream",
     "text": [
      "epoch: 4, [batch: 1120 / 1400], examples_per_second: 10607.2476, train_label_loss: 0.3826, \n"
     ]
    },
    {
     "name": "stdout",
     "output_type": "stream",
     "text": [
      "epoch: 4, [batch: 1260 / 1400], examples_per_second: 11698.6185, train_label_loss: 0.2992, \n"
     ]
    },
    {
     "name": "stdout",
     "output_type": "stream",
     "text": [
      "=============================================================\n",
      "epoch: 4, source_val_acc_label: 0.9138, source_val_label_loss: 0.3753, target_val_acc_label: 0.8290, target_val_label_loss: 0.6848, \n",
      "=============================================================\n"
     ]
    },
    {
     "name": "stdout",
     "output_type": "stream",
     "text": [
      "New best\n",
      "epoch: 5, [batch: 1 / 1400], examples_per_second: 64.6792, train_label_loss: 0.3597, \n"
     ]
    },
    {
     "name": "stdout",
     "output_type": "stream",
     "text": [
      "epoch: 5, [batch: 140 / 1400], examples_per_second: 11739.1273, train_label_loss: 0.3018, \n"
     ]
    },
    {
     "name": "stdout",
     "output_type": "stream",
     "text": [
      "epoch: 5, [batch: 280 / 1400], examples_per_second: 11745.4607, train_label_loss: 0.3129, \n"
     ]
    },
    {
     "name": "stdout",
     "output_type": "stream",
     "text": [
      "epoch: 5, [batch: 420 / 1400], examples_per_second: 11579.7187, train_label_loss: 0.2830, \n"
     ]
    },
    {
     "name": "stdout",
     "output_type": "stream",
     "text": [
      "epoch: 5, [batch: 560 / 1400], examples_per_second: 11879.7195, train_label_loss: 0.2190, \n"
     ]
    },
    {
     "name": "stdout",
     "output_type": "stream",
     "text": [
      "epoch: 5, [batch: 700 / 1400], examples_per_second: 12263.4985, train_label_loss: 0.3281, \n"
     ]
    },
    {
     "name": "stdout",
     "output_type": "stream",
     "text": [
      "epoch: 5, [batch: 840 / 1400], examples_per_second: 11816.0330, train_label_loss: 0.2635, \n"
     ]
    },
    {
     "name": "stdout",
     "output_type": "stream",
     "text": [
      "epoch: 5, [batch: 980 / 1400], examples_per_second: 11865.7156, train_label_loss: 0.2802, \n"
     ]
    },
    {
     "name": "stdout",
     "output_type": "stream",
     "text": [
      "epoch: 5, [batch: 1120 / 1400], examples_per_second: 11753.8951, train_label_loss: 0.3023, \n"
     ]
    },
    {
     "name": "stdout",
     "output_type": "stream",
     "text": [
      "epoch: 5, [batch: 1260 / 1400], examples_per_second: 11774.3997, train_label_loss: 0.5163, \n"
     ]
    },
    {
     "name": "stdout",
     "output_type": "stream",
     "text": [
      "=============================================================\n",
      "epoch: 5, source_val_acc_label: 0.9277, source_val_label_loss: 0.3004, target_val_acc_label: 0.8377, target_val_label_loss: 0.5657, \n",
      "=============================================================\n"
     ]
    },
    {
     "name": "stdout",
     "output_type": "stream",
     "text": [
      "New best\n",
      "epoch: 6, [batch: 1 / 1400], examples_per_second: 64.7212, train_label_loss: 0.2224, \n"
     ]
    },
    {
     "name": "stdout",
     "output_type": "stream",
     "text": [
      "epoch: 6, [batch: 140 / 1400], examples_per_second: 11759.2200, train_label_loss: 0.2514, \n"
     ]
    },
    {
     "name": "stdout",
     "output_type": "stream",
     "text": [
      "epoch: 6, [batch: 280 / 1400], examples_per_second: 11396.0998, train_label_loss: 0.2385, \n"
     ]
    },
    {
     "name": "stdout",
     "output_type": "stream",
     "text": [
      "epoch: 6, [batch: 420 / 1400], examples_per_second: 11804.9555, train_label_loss: 0.2340, \n"
     ]
    },
    {
     "name": "stdout",
     "output_type": "stream",
     "text": [
      "epoch: 6, [batch: 560 / 1400], examples_per_second: 11865.0825, train_label_loss: 0.2708, \n"
     ]
    },
    {
     "name": "stdout",
     "output_type": "stream",
     "text": [
      "epoch: 6, [batch: 700 / 1400], examples_per_second: 11807.3367, train_label_loss: 0.1937, \n"
     ]
    },
    {
     "name": "stdout",
     "output_type": "stream",
     "text": [
      "epoch: 6, [batch: 840 / 1400], examples_per_second: 11828.2647, train_label_loss: 0.2055, \n"
     ]
    },
    {
     "name": "stdout",
     "output_type": "stream",
     "text": [
      "epoch: 6, [batch: 980 / 1400], examples_per_second: 11796.7810, train_label_loss: 0.1807, \n"
     ]
    },
    {
     "name": "stdout",
     "output_type": "stream",
     "text": [
      "epoch: 6, [batch: 1120 / 1400], examples_per_second: 11780.6984, train_label_loss: 0.2265, \n"
     ]
    },
    {
     "name": "stdout",
     "output_type": "stream",
     "text": [
      "epoch: 6, [batch: 1260 / 1400], examples_per_second: 11730.7771, train_label_loss: 0.2868, \n"
     ]
    },
    {
     "name": "stdout",
     "output_type": "stream",
     "text": [
      "=============================================================\n",
      "epoch: 6, source_val_acc_label: 0.9370, source_val_label_loss: 0.2705, target_val_acc_label: 0.8477, target_val_label_loss: 0.5797, \n",
      "=============================================================\n"
     ]
    },
    {
     "name": "stdout",
     "output_type": "stream",
     "text": [
      "New best\n",
      "epoch: 7, [batch: 1 / 1400], examples_per_second: 65.0249, train_label_loss: 0.1634, \n"
     ]
    },
    {
     "name": "stdout",
     "output_type": "stream",
     "text": [
      "epoch: 7, [batch: 140 / 1400], examples_per_second: 11764.6648, train_label_loss: 0.2054, \n"
     ]
    },
    {
     "name": "stdout",
     "output_type": "stream",
     "text": [
      "epoch: 7, [batch: 280 / 1400], examples_per_second: 11801.4783, train_label_loss: 0.2268, \n"
     ]
    },
    {
     "name": "stdout",
     "output_type": "stream",
     "text": [
      "epoch: 7, [batch: 420 / 1400], examples_per_second: 11580.9587, train_label_loss: 0.1492, \n"
     ]
    },
    {
     "name": "stdout",
     "output_type": "stream",
     "text": [
      "epoch: 7, [batch: 560 / 1400], examples_per_second: 12349.4806, train_label_loss: 0.3960, \n"
     ]
    },
    {
     "name": "stdout",
     "output_type": "stream",
     "text": [
      "epoch: 7, [batch: 700 / 1400], examples_per_second: 12730.7457, train_label_loss: 0.1622, \n"
     ]
    },
    {
     "name": "stdout",
     "output_type": "stream",
     "text": [
      "epoch: 7, [batch: 840 / 1400], examples_per_second: 12624.7498, train_label_loss: 0.1254, \n"
     ]
    },
    {
     "name": "stdout",
     "output_type": "stream",
     "text": [
      "epoch: 7, [batch: 980 / 1400], examples_per_second: 12774.9866, train_label_loss: 0.2772, \n"
     ]
    },
    {
     "name": "stdout",
     "output_type": "stream",
     "text": [
      "epoch: 7, [batch: 1120 / 1400], examples_per_second: 11359.7216, train_label_loss: 0.2056, \n"
     ]
    },
    {
     "name": "stdout",
     "output_type": "stream",
     "text": [
      "epoch: 7, [batch: 1260 / 1400], examples_per_second: 10847.5096, train_label_loss: 0.1775, \n"
     ]
    },
    {
     "name": "stdout",
     "output_type": "stream",
     "text": [
      "=============================================================\n",
      "epoch: 7, source_val_acc_label: 0.9320, source_val_label_loss: 0.2552, target_val_acc_label: 0.8410, target_val_label_loss: 0.5345, \n",
      "=============================================================\n"
     ]
    },
    {
     "name": "stdout",
     "output_type": "stream",
     "text": [
      "epoch: 8, [batch: 1 / 1400], examples_per_second: 58.4773, train_label_loss: 0.1689, \n"
     ]
    },
    {
     "name": "stdout",
     "output_type": "stream",
     "text": [
      "epoch: 8, [batch: 140 / 1400], examples_per_second: 10351.3013, train_label_loss: 0.1789, \n"
     ]
    },
    {
     "name": "stdout",
     "output_type": "stream",
     "text": [
      "epoch: 8, [batch: 280 / 1400], examples_per_second: 10837.0541, train_label_loss: 0.1833, \n"
     ]
    },
    {
     "name": "stdout",
     "output_type": "stream",
     "text": [
      "epoch: 8, [batch: 420 / 1400], examples_per_second: 10757.5210, train_label_loss: 0.2125, \n"
     ]
    },
    {
     "name": "stdout",
     "output_type": "stream",
     "text": [
      "epoch: 8, [batch: 560 / 1400], examples_per_second: 10823.3011, train_label_loss: 0.1239, \n"
     ]
    },
    {
     "name": "stdout",
     "output_type": "stream",
     "text": [
      "epoch: 8, [batch: 700 / 1400], examples_per_second: 10811.6946, train_label_loss: 0.2427, \n"
     ]
    },
    {
     "name": "stdout",
     "output_type": "stream",
     "text": [
      "epoch: 8, [batch: 840 / 1400], examples_per_second: 10853.4807, train_label_loss: 0.1409, \n"
     ]
    },
    {
     "name": "stdout",
     "output_type": "stream",
     "text": [
      "epoch: 8, [batch: 980 / 1400], examples_per_second: 10695.7400, train_label_loss: 0.2362, \n"
     ]
    },
    {
     "name": "stdout",
     "output_type": "stream",
     "text": [
      "epoch: 8, [batch: 1120 / 1400], examples_per_second: 10835.5668, train_label_loss: 0.1107, \n"
     ]
    },
    {
     "name": "stdout",
     "output_type": "stream",
     "text": [
      "epoch: 8, [batch: 1260 / 1400], examples_per_second: 10821.8207, train_label_loss: 0.1706, \n"
     ]
    },
    {
     "name": "stdout",
     "output_type": "stream",
     "text": [
      "=============================================================\n",
      "epoch: 8, source_val_acc_label: 0.9407, source_val_label_loss: 0.3856, target_val_acc_label: 0.8462, target_val_label_loss: 0.5520, \n",
      "=============================================================\n"
     ]
    },
    {
     "name": "stdout",
     "output_type": "stream",
     "text": [
      "epoch: 9, [batch: 1 / 1400], examples_per_second: 58.7391, train_label_loss: 0.1791, \n"
     ]
    },
    {
     "name": "stdout",
     "output_type": "stream",
     "text": [
      "epoch: 9, [batch: 140 / 1400], examples_per_second: 10587.0021, train_label_loss: 0.4597, \n"
     ]
    },
    {
     "name": "stdout",
     "output_type": "stream",
     "text": [
      "epoch: 9, [batch: 280 / 1400], examples_per_second: 10846.8662, train_label_loss: 0.1916, \n"
     ]
    },
    {
     "name": "stdout",
     "output_type": "stream",
     "text": [
      "epoch: 9, [batch: 420 / 1400], examples_per_second: 10711.7422, train_label_loss: 0.1370, \n"
     ]
    },
    {
     "name": "stdout",
     "output_type": "stream",
     "text": [
      "epoch: 9, [batch: 560 / 1400], examples_per_second: 10762.6428, train_label_loss: 0.2212, \n"
     ]
    },
    {
     "name": "stdout",
     "output_type": "stream",
     "text": [
      "epoch: 9, [batch: 700 / 1400], examples_per_second: 10621.6754, train_label_loss: 0.1310, \n"
     ]
    },
    {
     "name": "stdout",
     "output_type": "stream",
     "text": [
      "epoch: 9, [batch: 840 / 1400], examples_per_second: 10718.2586, train_label_loss: 0.1516, \n"
     ]
    },
    {
     "name": "stdout",
     "output_type": "stream",
     "text": [
      "epoch: 9, [batch: 980 / 1400], examples_per_second: 10742.1709, train_label_loss: 0.1431, \n"
     ]
    },
    {
     "name": "stdout",
     "output_type": "stream",
     "text": [
      "epoch: 9, [batch: 1120 / 1400], examples_per_second: 10758.3894, train_label_loss: 0.1655, \n"
     ]
    },
    {
     "name": "stdout",
     "output_type": "stream",
     "text": [
      "epoch: 9, [batch: 1260 / 1400], examples_per_second: 10718.7141, train_label_loss: 0.2678, \n"
     ]
    },
    {
     "name": "stdout",
     "output_type": "stream",
     "text": [
      "=============================================================\n",
      "epoch: 9, source_val_acc_label: 0.9473, source_val_label_loss: 0.2884, target_val_acc_label: 0.8534, target_val_label_loss: 0.5154, \n",
      "=============================================================\n"
     ]
    },
    {
     "name": "stdout",
     "output_type": "stream",
     "text": [
      "New best\n",
      "epoch: 10, [batch: 1 / 1400], examples_per_second: 57.3478, train_label_loss: 0.1354, \n"
     ]
    },
    {
     "name": "stdout",
     "output_type": "stream",
     "text": [
      "epoch: 10, [batch: 140 / 1400], examples_per_second: 10946.2972, train_label_loss: 0.1211, \n"
     ]
    },
    {
     "name": "stdout",
     "output_type": "stream",
     "text": [
      "epoch: 10, [batch: 280 / 1400], examples_per_second: 11817.6809, train_label_loss: 0.1363, \n"
     ]
    },
    {
     "name": "stdout",
     "output_type": "stream",
     "text": [
      "epoch: 10, [batch: 420 / 1400], examples_per_second: 11797.7642, train_label_loss: 0.1341, \n"
     ]
    },
    {
     "name": "stdout",
     "output_type": "stream",
     "text": [
      "epoch: 10, [batch: 560 / 1400], examples_per_second: 11840.8613, train_label_loss: 0.0936, \n"
     ]
    },
    {
     "name": "stdout",
     "output_type": "stream",
     "text": [
      "epoch: 10, [batch: 700 / 1400], examples_per_second: 11902.4166, train_label_loss: 0.1000, \n"
     ]
    },
    {
     "name": "stdout",
     "output_type": "stream",
     "text": [
      "epoch: 10, [batch: 840 / 1400], examples_per_second: 11861.3020, train_label_loss: 0.1108, \n"
     ]
    },
    {
     "name": "stdout",
     "output_type": "stream",
     "text": [
      "epoch: 10, [batch: 980 / 1400], examples_per_second: 11841.8519, train_label_loss: 0.2823, \n"
     ]
    },
    {
     "name": "stdout",
     "output_type": "stream",
     "text": [
      "epoch: 10, [batch: 1120 / 1400], examples_per_second: 11779.6091, train_label_loss: 0.1814, \n"
     ]
    },
    {
     "name": "stdout",
     "output_type": "stream",
     "text": [
      "epoch: 10, [batch: 1260 / 1400], examples_per_second: 11728.0205, train_label_loss: 0.1694, \n"
     ]
    },
    {
     "name": "stdout",
     "output_type": "stream",
     "text": [
      "=============================================================\n",
      "epoch: 10, source_val_acc_label: 0.9503, source_val_label_loss: 0.2828, target_val_acc_label: 0.8579, target_val_label_loss: 0.4935, \n",
      "=============================================================\n"
     ]
    },
    {
     "name": "stdout",
     "output_type": "stream",
     "text": [
      "New best\n",
      "epoch: 11, [batch: 1 / 1400], examples_per_second: 64.6883, train_label_loss: 0.1566, \n"
     ]
    },
    {
     "name": "stdout",
     "output_type": "stream",
     "text": [
      "epoch: 11, [batch: 140 / 1400], examples_per_second: 11806.8337, train_label_loss: 0.1515, \n"
     ]
    },
    {
     "name": "stdout",
     "output_type": "stream",
     "text": [
      "epoch: 11, [batch: 280 / 1400], examples_per_second: 11509.9655, train_label_loss: 0.1635, \n"
     ]
    },
    {
     "name": "stdout",
     "output_type": "stream",
     "text": [
      "epoch: 11, [batch: 420 / 1400], examples_per_second: 11784.9708, train_label_loss: 0.0898, \n"
     ]
    },
    {
     "name": "stdout",
     "output_type": "stream",
     "text": [
      "epoch: 11, [batch: 560 / 1400], examples_per_second: 11718.3532, train_label_loss: 0.1438, \n"
     ]
    },
    {
     "name": "stdout",
     "output_type": "stream",
     "text": [
      "epoch: 11, [batch: 700 / 1400], examples_per_second: 11748.1245, train_label_loss: 0.1160, \n"
     ]
    },
    {
     "name": "stdout",
     "output_type": "stream",
     "text": [
      "epoch: 11, [batch: 840 / 1400], examples_per_second: 11713.7328, train_label_loss: 0.1374, \n"
     ]
    },
    {
     "name": "stdout",
     "output_type": "stream",
     "text": [
      "epoch: 11, [batch: 980 / 1400], examples_per_second: 11755.2683, train_label_loss: 0.1327, \n"
     ]
    },
    {
     "name": "stdout",
     "output_type": "stream",
     "text": [
      "epoch: 11, [batch: 1120 / 1400], examples_per_second: 11716.3421, train_label_loss: 0.1487, \n"
     ]
    },
    {
     "name": "stdout",
     "output_type": "stream",
     "text": [
      "epoch: 11, [batch: 1260 / 1400], examples_per_second: 11776.0951, train_label_loss: 0.1072, \n"
     ]
    },
    {
     "name": "stdout",
     "output_type": "stream",
     "text": [
      "=============================================================\n",
      "epoch: 11, source_val_acc_label: 0.9608, source_val_label_loss: 0.2395, target_val_acc_label: 0.8719, target_val_label_loss: 0.4604, \n",
      "=============================================================\n"
     ]
    },
    {
     "name": "stdout",
     "output_type": "stream",
     "text": [
      "New best\n",
      "epoch: 12, [batch: 1 / 1400], examples_per_second: 65.1986, train_label_loss: 0.1102, \n"
     ]
    },
    {
     "name": "stdout",
     "output_type": "stream",
     "text": [
      "epoch: 12, [batch: 140 / 1400], examples_per_second: 11747.3710, train_label_loss: 0.0785, \n"
     ]
    },
    {
     "name": "stdout",
     "output_type": "stream",
     "text": [
      "epoch: 12, [batch: 280 / 1400], examples_per_second: 12124.1802, train_label_loss: 0.1271, \n"
     ]
    },
    {
     "name": "stdout",
     "output_type": "stream",
     "text": [
      "epoch: 12, [batch: 420 / 1400], examples_per_second: 12097.8685, train_label_loss: 0.1069, \n"
     ]
    },
    {
     "name": "stdout",
     "output_type": "stream",
     "text": [
      "epoch: 12, [batch: 560 / 1400], examples_per_second: 11757.6680, train_label_loss: 0.1426, \n"
     ]
    },
    {
     "name": "stdout",
     "output_type": "stream",
     "text": [
      "epoch: 12, [batch: 700 / 1400], examples_per_second: 11800.0128, train_label_loss: 0.1291, \n"
     ]
    },
    {
     "name": "stdout",
     "output_type": "stream",
     "text": [
      "epoch: 12, [batch: 840 / 1400], examples_per_second: 11734.2348, train_label_loss: 0.1325, \n"
     ]
    },
    {
     "name": "stdout",
     "output_type": "stream",
     "text": [
      "epoch: 12, [batch: 980 / 1400], examples_per_second: 11833.8945, train_label_loss: 0.1743, \n"
     ]
    },
    {
     "name": "stdout",
     "output_type": "stream",
     "text": [
      "epoch: 12, [batch: 1120 / 1400], examples_per_second: 11812.2522, train_label_loss: 0.1295, \n"
     ]
    },
    {
     "name": "stdout",
     "output_type": "stream",
     "text": [
      "epoch: 12, [batch: 1260 / 1400], examples_per_second: 11764.6006, train_label_loss: 0.1345, \n"
     ]
    },
    {
     "name": "stdout",
     "output_type": "stream",
     "text": [
      "=============================================================\n",
      "epoch: 12, source_val_acc_label: 0.9376, source_val_label_loss: 0.3144, target_val_acc_label: 0.8405, target_val_label_loss: 0.5705, \n",
      "=============================================================\n"
     ]
    },
    {
     "name": "stdout",
     "output_type": "stream",
     "text": [
      "epoch: 13, [batch: 1 / 1400], examples_per_second: 64.4033, train_label_loss: 0.1745, \n"
     ]
    },
    {
     "name": "stdout",
     "output_type": "stream",
     "text": [
      "epoch: 13, [batch: 140 / 1400], examples_per_second: 11800.6948, train_label_loss: 0.1310, \n"
     ]
    },
    {
     "name": "stdout",
     "output_type": "stream",
     "text": [
      "epoch: 13, [batch: 280 / 1400], examples_per_second: 11704.0836, train_label_loss: 0.1477, \n"
     ]
    },
    {
     "name": "stdout",
     "output_type": "stream",
     "text": [
      "epoch: 13, [batch: 420 / 1400], examples_per_second: 11745.9562, train_label_loss: 0.1030, \n"
     ]
    },
    {
     "name": "stdout",
     "output_type": "stream",
     "text": [
      "epoch: 13, [batch: 560 / 1400], examples_per_second: 11784.2964, train_label_loss: 0.0963, \n"
     ]
    },
    {
     "name": "stdout",
     "output_type": "stream",
     "text": [
      "epoch: 13, [batch: 700 / 1400], examples_per_second: 11791.8136, train_label_loss: 0.1170, \n"
     ]
    },
    {
     "name": "stdout",
     "output_type": "stream",
     "text": [
      "epoch: 13, [batch: 840 / 1400], examples_per_second: 11740.3750, train_label_loss: 0.1663, \n"
     ]
    },
    {
     "name": "stdout",
     "output_type": "stream",
     "text": [
      "epoch: 13, [batch: 980 / 1400], examples_per_second: 11769.3479, train_label_loss: 0.1336, \n"
     ]
    },
    {
     "name": "stdout",
     "output_type": "stream",
     "text": [
      "epoch: 13, [batch: 1120 / 1400], examples_per_second: 11748.6148, train_label_loss: 0.1777, \n"
     ]
    },
    {
     "name": "stdout",
     "output_type": "stream",
     "text": [
      "epoch: 13, [batch: 1260 / 1400], examples_per_second: 11884.3553, train_label_loss: 0.1802, \n"
     ]
    },
    {
     "name": "stdout",
     "output_type": "stream",
     "text": [
      "=============================================================\n",
      "epoch: 13, source_val_acc_label: 0.9534, source_val_label_loss: 0.2689, target_val_acc_label: 0.8545, target_val_label_loss: 0.5481, \n",
      "=============================================================\n"
     ]
    },
    {
     "name": "stdout",
     "output_type": "stream",
     "text": [
      "epoch: 14, [batch: 1 / 1400], examples_per_second: 65.4315, train_label_loss: 0.1436, \n"
     ]
    },
    {
     "name": "stdout",
     "output_type": "stream",
     "text": [
      "epoch: 14, [batch: 140 / 1400], examples_per_second: 11894.3614, train_label_loss: 0.1103, \n"
     ]
    },
    {
     "name": "stdout",
     "output_type": "stream",
     "text": [
      "epoch: 14, [batch: 280 / 1400], examples_per_second: 12801.0826, train_label_loss: 0.0828, \n"
     ]
    },
    {
     "name": "stdout",
     "output_type": "stream",
     "text": [
      "epoch: 14, [batch: 420 / 1400], examples_per_second: 12616.3856, train_label_loss: 0.0737, \n"
     ]
    },
    {
     "name": "stdout",
     "output_type": "stream",
     "text": [
      "epoch: 14, [batch: 560 / 1400], examples_per_second: 12783.8822, train_label_loss: 0.1169, \n"
     ]
    },
    {
     "name": "stdout",
     "output_type": "stream",
     "text": [
      "epoch: 14, [batch: 700 / 1400], examples_per_second: 12089.5653, train_label_loss: 0.1161, \n"
     ]
    },
    {
     "name": "stdout",
     "output_type": "stream",
     "text": [
      "epoch: 14, [batch: 840 / 1400], examples_per_second: 10768.7044, train_label_loss: 0.1606, \n"
     ]
    },
    {
     "name": "stdout",
     "output_type": "stream",
     "text": [
      "epoch: 14, [batch: 980 / 1400], examples_per_second: 10670.8186, train_label_loss: 0.1465, \n"
     ]
    },
    {
     "name": "stdout",
     "output_type": "stream",
     "text": [
      "epoch: 14, [batch: 1120 / 1400], examples_per_second: 10766.6358, train_label_loss: 0.0853, \n"
     ]
    },
    {
     "name": "stdout",
     "output_type": "stream",
     "text": [
      "epoch: 14, [batch: 1260 / 1400], examples_per_second: 10786.9968, train_label_loss: 0.1277, \n"
     ]
    },
    {
     "name": "stdout",
     "output_type": "stream",
     "text": [
      "=============================================================\n",
      "epoch: 14, source_val_acc_label: 0.9480, source_val_label_loss: 0.3495, target_val_acc_label: 0.8481, target_val_label_loss: 0.5355, \n",
      "=============================================================\n"
     ]
    },
    {
     "name": "stdout",
     "output_type": "stream",
     "text": [
      "epoch: 15, [batch: 1 / 1400], examples_per_second: 57.4228, train_label_loss: 0.1067, \n"
     ]
    },
    {
     "name": "stdout",
     "output_type": "stream",
     "text": [
      "epoch: 15, [batch: 140 / 1400], examples_per_second: 10652.9594, train_label_loss: 0.1111, \n"
     ]
    },
    {
     "name": "stdout",
     "output_type": "stream",
     "text": [
      "epoch: 15, [batch: 280 / 1400], examples_per_second: 10730.4955, train_label_loss: 0.0686, \n"
     ]
    },
    {
     "name": "stdout",
     "output_type": "stream",
     "text": [
      "epoch: 15, [batch: 420 / 1400], examples_per_second: 10831.7754, train_label_loss: 0.1211, \n"
     ]
    },
    {
     "name": "stdout",
     "output_type": "stream",
     "text": [
      "epoch: 15, [batch: 560 / 1400], examples_per_second: 10738.5642, train_label_loss: 0.1372, \n"
     ]
    },
    {
     "name": "stdout",
     "output_type": "stream",
     "text": [
      "epoch: 15, [batch: 700 / 1400], examples_per_second: 10745.7185, train_label_loss: 0.1018, \n"
     ]
    },
    {
     "name": "stdout",
     "output_type": "stream",
     "text": [
      "epoch: 15, [batch: 840 / 1400], examples_per_second: 10784.5034, train_label_loss: 0.0474, \n"
     ]
    },
    {
     "name": "stdout",
     "output_type": "stream",
     "text": [
      "epoch: 15, [batch: 980 / 1400], examples_per_second: 10768.0395, train_label_loss: 0.2392, \n"
     ]
    },
    {
     "name": "stdout",
     "output_type": "stream",
     "text": [
      "epoch: 15, [batch: 1120 / 1400], examples_per_second: 10743.7632, train_label_loss: 0.1018, \n"
     ]
    },
    {
     "name": "stdout",
     "output_type": "stream",
     "text": [
      "epoch: 15, [batch: 1260 / 1400], examples_per_second: 10759.5599, train_label_loss: 0.0903, \n"
     ]
    },
    {
     "name": "stdout",
     "output_type": "stream",
     "text": [
      "=============================================================\n",
      "epoch: 15, source_val_acc_label: 0.9602, source_val_label_loss: 0.1456, target_val_acc_label: 0.8583, target_val_label_loss: 0.4954, \n",
      "=============================================================\n"
     ]
    },
    {
     "name": "stdout",
     "output_type": "stream",
     "text": [
      "Patience (3) exhausted\n"
     ]
    }
   ],
   "source": [
    "jig = Vanilla_Train_Eval_Test_Jig(\n",
    "    model=model,\n",
    "    path_to_best_model=p.BEST_MODEL_PATH,\n",
    "    device=p.device,\n",
    "    label_loss_object=torch.nn.NLLLoss(),\n",
    ")\n",
    "\n",
    "jig.train(\n",
    "    train_iterable=datasets.source.processed.train,\n",
    "    source_val_iterable=datasets.source.processed.val,\n",
    "    target_val_iterable=datasets.target.processed.val,\n",
    "    patience=p.patience,\n",
    "    num_epochs=p.n_epoch,\n",
    "    num_logs_per_epoch=p.NUM_LOGS_PER_EPOCH,\n",
    "    criteria_for_best=p.criteria_for_best\n",
    ")"
   ]
  },
  {
   "cell_type": "code",
   "execution_count": 14,
   "id": "4bc2ac17",
   "metadata": {
    "execution": {
     "iopub.execute_input": "2022-03-28T02:50:28.771039Z",
     "iopub.status.busy": "2022-03-28T02:50:28.770673Z",
     "iopub.status.idle": "2022-03-28T02:50:28.774003Z",
     "shell.execute_reply": "2022-03-28T02:50:28.773670Z"
    },
    "papermill": {
     "duration": 0.06586,
     "end_time": "2022-03-28T02:50:28.774070",
     "exception": false,
     "start_time": "2022-03-28T02:50:28.708210",
     "status": "completed"
    },
    "tags": []
   },
   "outputs": [],
   "source": [
    "total_experiment_time_secs = time.time() - start_time_secs"
   ]
  },
  {
   "cell_type": "code",
   "execution_count": 15,
   "id": "cae88f23",
   "metadata": {
    "execution": {
     "iopub.execute_input": "2022-03-28T02:50:28.900354Z",
     "iopub.status.busy": "2022-03-28T02:50:28.899963Z",
     "iopub.status.idle": "2022-03-28T02:50:52.176472Z",
     "shell.execute_reply": "2022-03-28T02:50:52.176793Z"
    },
    "papermill": {
     "duration": 23.345172,
     "end_time": "2022-03-28T02:50:52.176925",
     "exception": false,
     "start_time": "2022-03-28T02:50:28.831753",
     "status": "completed"
    },
    "tags": []
   },
   "outputs": [],
   "source": [
    "source_test_label_accuracy, source_test_label_loss = jig.test(datasets.source.processed.test)\n",
    "target_test_label_accuracy, target_test_label_loss = jig.test(datasets.target.processed.test)\n",
    "\n",
    "source_val_label_accuracy, source_val_label_loss = jig.test(datasets.source.processed.val)\n",
    "target_val_label_accuracy, target_val_label_loss = jig.test(datasets.target.processed.val)\n",
    "\n",
    "history = jig.get_history()\n",
    "\n",
    "total_epochs_trained = len(history[\"epoch_indices\"])\n",
    "\n",
    "val_dl = wrap_in_dataloader(p, Sequence_Aggregator((datasets.source.original.val, datasets.target.original.val)))\n",
    "\n",
    "confusion = confusion_by_domain_over_dataloader(model, p.device, val_dl, forward_uses_domain=False)\n",
    "per_domain_accuracy = per_domain_accuracy_from_confusion(confusion)\n",
    "\n",
    "# Add a key to per_domain_accuracy for if it was a source domain\n",
    "for domain, accuracy in per_domain_accuracy.items():\n",
    "    per_domain_accuracy[domain] = {\n",
    "        \"accuracy\": accuracy,\n",
    "        \"source?\": domain in p.domains_source\n",
    "    }\n",
    "\n",
    "# Do an independent accuracy assesment JUST TO BE SURE!\n",
    "# _source_test_label_accuracy = independent_accuracy_assesment(model, datasets.source.processed.test, p.device)\n",
    "# _target_test_label_accuracy = independent_accuracy_assesment(model, datasets.target.processed.test, p.device)\n",
    "# _source_val_label_accuracy = independent_accuracy_assesment(model, datasets.source.processed.val, p.device)\n",
    "# _target_val_label_accuracy = independent_accuracy_assesment(model, datasets.target.processed.val, p.device)\n",
    "\n",
    "# assert(_source_test_label_accuracy == source_test_label_accuracy)\n",
    "# assert(_target_test_label_accuracy == target_test_label_accuracy)\n",
    "# assert(_source_val_label_accuracy == source_val_label_accuracy)\n",
    "# assert(_target_val_label_accuracy == target_val_label_accuracy)\n",
    "\n",
    "###################################\n",
    "# Write out the results\n",
    "###################################\n",
    "\n",
    "experiment = {\n",
    "    \"experiment_name\": p.experiment_name,\n",
    "    \"parameters\": p,\n",
    "    \"results\": {\n",
    "        \"source_test_label_accuracy\": source_test_label_accuracy,\n",
    "        \"source_test_label_loss\": source_test_label_loss,\n",
    "        \"target_test_label_accuracy\": target_test_label_accuracy,\n",
    "        \"target_test_label_loss\": target_test_label_loss,\n",
    "        \"source_val_label_accuracy\": source_val_label_accuracy,\n",
    "        \"source_val_label_loss\": source_val_label_loss,\n",
    "        \"target_val_label_accuracy\": target_val_label_accuracy,\n",
    "        \"target_val_label_loss\": target_val_label_loss,\n",
    "        \"total_epochs_trained\": total_epochs_trained,\n",
    "        \"total_experiment_time_secs\": total_experiment_time_secs,\n",
    "        \"confusion\": confusion,\n",
    "        \"per_domain_accuracy\": per_domain_accuracy,\n",
    "    },\n",
    "    \"history\": history,\n",
    "    \"dataset_metrics\": get_dataset_metrics(datasets, \"cnn\"),\n",
    "}"
   ]
  },
  {
   "cell_type": "code",
   "execution_count": 16,
   "id": "74c318cf",
   "metadata": {
    "execution": {
     "iopub.execute_input": "2022-03-28T02:50:52.347878Z",
     "iopub.status.busy": "2022-03-28T02:50:52.346973Z",
     "iopub.status.idle": "2022-03-28T02:50:52.525578Z",
     "shell.execute_reply": "2022-03-28T02:50:52.526265Z"
    },
    "papermill": {
     "duration": 0.285056,
     "end_time": "2022-03-28T02:50:52.526484",
     "exception": false,
     "start_time": "2022-03-28T02:50:52.241428",
     "status": "completed"
    },
    "tags": []
   },
   "outputs": [
    {
     "data": {
      "text/plain": [
       "<AxesSubplot:title={'center':'Source Train Label Loss vs Source Val Label Loss'}, xlabel='Epoch'>"
      ]
     },
     "execution_count": 16,
     "metadata": {},
     "output_type": "execute_result"
    },
    {
     "data": {
      "image/png": "[encoded data removed]",
      "text/plain": [
       "<Figure size 1080x504 with 1 Axes>"
      ]
     },
     "metadata": {
      "needs_background": "light"
     },
     "output_type": "display_data"
    }
   ],
   "source": [
    "get_loss_curve(experiment)"
   ]
  },
  {
   "cell_type": "code",
   "execution_count": 17,
   "id": "59376601",
   "metadata": {
    "execution": {
     "iopub.execute_input": "2022-03-28T02:50:52.678999Z",
     "iopub.status.busy": "2022-03-28T02:50:52.673265Z",
     "iopub.status.idle": "2022-03-28T02:50:52.953158Z",
     "shell.execute_reply": "2022-03-28T02:50:52.953472Z"
    },
    "papermill": {
     "duration": 0.362208,
     "end_time": "2022-03-28T02:50:52.953590",
     "exception": false,
     "start_time": "2022-03-28T02:50:52.591382",
     "status": "completed"
    },
    "tags": []
   },
   "outputs": [
    {
     "data": {
      "text/plain": [
       "<AxesSubplot:title={'center':'Results'}>"
      ]
     },
     "execution_count": 17,
     "metadata": {},
     "output_type": "execute_result"
    },
    {
     "data": {
      "image/png": "[encoded data removed]",
      "text/plain": [
       "<Figure size 1080x504 with 1 Axes>"
      ]
     },
     "metadata": {
      "needs_background": "light"
     },
     "output_type": "display_data"
    }
   ],
   "source": [
    "get_results_table(experiment)"
   ]
  },
  {
   "cell_type": "code",
   "execution_count": 18,
   "id": "e80c5c98",
   "metadata": {
    "execution": {
     "iopub.execute_input": "2022-03-28T02:50:53.098984Z",
     "iopub.status.busy": "2022-03-28T02:50:53.091179Z",
     "iopub.status.idle": "2022-03-28T02:50:53.262120Z",
     "shell.execute_reply": "2022-03-28T02:50:53.261293Z"
    },
    "papermill": {
     "duration": 0.247609,
     "end_time": "2022-03-28T02:50:53.262291",
     "exception": false,
     "start_time": "2022-03-28T02:50:53.014682",
     "status": "completed"
    },
    "tags": []
   },
   "outputs": [
    {
     "data": {
      "text/plain": [
       "<AxesSubplot:title={'center':'Per Domain Accuracy'}, xlabel='domain'>"
      ]
     },
     "execution_count": 18,
     "metadata": {},
     "output_type": "execute_result"
    },
    {
     "data": {
      "image/png": "[encoded data removed]",
      "text/plain": [
       "<Figure size 1080x504 with 1 Axes>"
      ]
     },
     "metadata": {
      "needs_background": "light"
     },
     "output_type": "display_data"
    }
   ],
   "source": [
    "get_domain_accuracies(experiment)"
   ]
  },
  {
   "cell_type": "code",
   "execution_count": 19,
   "id": "086fdd10",
   "metadata": {
    "execution": {
     "iopub.execute_input": "2022-03-28T02:50:53.398285Z",
     "iopub.status.busy": "2022-03-28T02:50:53.397908Z",
     "iopub.status.idle": "2022-03-28T02:50:53.401779Z",
     "shell.execute_reply": "2022-03-28T02:50:53.401407Z"
    },
    "papermill": {
     "duration": 0.072251,
     "end_time": "2022-03-28T02:50:53.401853",
     "exception": false,
     "start_time": "2022-03-28T02:50:53.329602",
     "status": "completed"
    },
    "tags": []
   },
   "outputs": [
    {
     "name": "stdout",
     "output_type": "stream",
     "text": [
      "Source Test Label Accuracy: 0.96203125 Target Test Label Accuracy: 0.869296875\n",
      "Source Val Label Accuracy: 0.9608072916666667 Target Val Label Accuracy: 0.871875\n"
     ]
    }
   ],
   "source": [
    "print(\"Source Test Label Accuracy:\", experiment[\"results\"][\"source_test_label_accuracy\"], \"Target Test Label Accuracy:\", experiment[\"results\"][\"target_test_label_accuracy\"])\n",
    "print(\"Source Val Label Accuracy:\", experiment[\"results\"][\"source_val_label_accuracy\"], \"Target Val Label Accuracy:\", experiment[\"results\"][\"target_val_label_accuracy\"])"
   ]
  },
  {
   "cell_type": "code",
   "execution_count": 20,
   "id": "9f450536",
   "metadata": {
    "execution": {
     "iopub.execute_input": "2022-03-28T02:50:53.538006Z",
     "iopub.status.busy": "2022-03-28T02:50:53.537637Z",
     "iopub.status.idle": "2022-03-28T02:50:53.541574Z",
     "shell.execute_reply": "2022-03-28T02:50:53.542371Z"
    },
    "papermill": {
     "duration": 0.073425,
     "end_time": "2022-03-28T02:50:53.542558",
     "exception": false,
     "start_time": "2022-03-28T02:50:53.469133",
     "status": "completed"
    },
    "tags": [
     "experiment_json"
    ]
   },
   "outputs": [
    {
     "data": {
      "text/plain": [
       "'{\"experiment_name\": \"cnn_3:oracle.run1.framed-oracle.run2.framed\", \"parameters\": {\"experiment_name\": \"cnn_3:oracle.run1.framed-oracle.run2.framed\", \"labels\": [\"3123D52\", \"3123D65\", \"3123D79\", \"3123D80\", \"3123D54\", \"3123D70\", \"3123D7B\", \"3123D89\", \"3123D58\", \"3123D76\", \"3123D7D\", \"3123EFE\", \"3123D64\", \"3123D78\", \"3123D7E\", \"3124E4A\"], \"domains_source\": [8, 32, 50, 14, 20, 26, 38, 44], \"domains_target\": [8, 32, 50, 14, 20, 26, 38, 44], \"pickle_name_source\": \"oracle.Run1_framed_2000Examples_stratified_ds.2022A.pkl\", \"pickle_name_target\": \"oracle.Run2_framed_2000Examples_stratified_ds.2022A.pkl\", \"device\": \"cuda\", \"lr\": 0.0001, \"batch_size\": 128, \"normalize_source\": false, \"normalize_target\": false, \"num_examples_per_domain_per_label_source\": -1, \"num_examples_per_domain_per_label_target\": -1, \"torch_default_dtype\": \"torch.float32\", \"n_epoch\": 50, \"patience\": 3, \"criteria_for_best\": \"target_accuracy\", \"x_net\": [{\"class\": \"nnReshape\", \"kargs\": {\"shape\": [-1, 1, 2, 256]}}, {\"class\": \"Conv2d\", \"kargs\": {\"in_channels\": 1, \"out_channels\": 256, \"kernel_size\": [1, 7], \"bias\": false, \"padding\": [0, 3]}}, {\"class\": \"ReLU\", \"kargs\": {\"inplace\": true}}, {\"class\": \"BatchNorm2d\", \"kargs\": {\"num_features\": 256}}, {\"class\": \"Conv2d\", \"kargs\": {\"in_channels\": 256, \"out_channels\": 80, \"kernel_size\": [2, 7], \"bias\": true, \"padding\": [0, 3]}}, {\"class\": \"ReLU\", \"kargs\": {\"inplace\": true}}, {\"class\": \"BatchNorm2d\", \"kargs\": {\"num_features\": 80}}, {\"class\": \"Flatten\", \"kargs\": {}}, {\"class\": \"Linear\", \"kargs\": {\"in_features\": 20480, \"out_features\": 256}}, {\"class\": \"ReLU\", \"kargs\": {\"inplace\": true}}, {\"class\": \"BatchNorm1d\", \"kargs\": {\"num_features\": 256}}, {\"class\": \"Linear\", \"kargs\": {\"in_features\": 256, \"out_features\": 16}}], \"NUM_LOGS_PER_EPOCH\": 10, \"BEST_MODEL_PATH\": \"./best_model.pth\", \"dataset_seed\": 1337, \"seed\": 1337}, \"results\": {\"source_test_label_accuracy\": 0.96203125, \"source_test_label_loss\": 0.1326352179174622, \"target_test_label_accuracy\": 0.869296875, \"target_test_label_loss\": 0.6668139615654946, \"source_val_label_accuracy\": 0.9608072916666667, \"source_val_label_loss\": 0.23947906433294217, \"target_val_label_accuracy\": 0.871875, \"target_val_label_loss\": 0.4604223129649957, \"total_epochs_trained\": 15, \"total_experiment_time_secs\": 290.00657176971436, \"confusion\": {\"44\": {\"3\": {\"3\": 569, \"4\": 9, \"7\": 10, \"2\": 3, \"12\": 7, \"13\": 1, \"1\": 1}, \"15\": {\"15\": 574, \"4\": 12, \"6\": 3, \"13\": 1, \"11\": 6, \"12\": 3, \"0\": 1}, \"11\": {\"11\": 599, \"4\": 1}, \"5\": {\"5\": 600}, \"4\": {\"4\": 575, \"15\": 22, \"11\": 3}, \"10\": {\"10\": 582, \"1\": 14, \"2\": 3, \"7\": 1}, \"7\": {\"7\": 517, \"2\": 12, \"9\": 65, \"10\": 3, \"6\": 3}, \"12\": {\"12\": 579, \"3\": 20, \"13\": 1}, \"2\": {\"2\": 569, \"7\": 10, \"1\": 4, \"9\": 15, \"8\": 1, \"11\": 1}, \"1\": {\"1\": 588, \"2\": 4, \"7\": 4, \"8\": 2, \"10\": 2}, \"14\": {\"14\": 598, \"6\": 1, \"11\": 1}, \"13\": {\"13\": 512, \"6\": 11, \"9\": 19, \"0\": 30, \"7\": 2, \"4\": 24, \"15\": 2}, \"6\": {\"6\": 413, \"9\": 77, \"13\": 101, \"7\": 9}, \"8\": {\"8\": 523, \"0\": 65, \"15\": 11, \"14\": 1}, \"9\": {\"7\": 206, \"9\": 368, \"13\": 19, \"6\": 6, \"2\": 1}, \"0\": {\"0\": 460, \"8\": 136, \"15\": 4}}, \"32\": {\"11\": {\"13\": 75, \"11\": 389, \"0\": 24, \"7\": 45, \"14\": 30, \"2\": 27, \"8\": 9, \"3\": 1}, \"1\": {\"1\": 597, \"8\": 2, \"9\": 1}, \"2\": {\"2\": 575, \"12\": 9, \"9\": 3, \"7\": 9, \"3\": 1, \"4\": 3}, \"10\": {\"10\": 600}, \"9\": {\"9\": 584, \"2\": 5, \"1\": 11}, \"4\": {\"13\": 38, \"4\": 549, \"3\": 8, \"2\": 4, \"0\": 1}, \"15\": {\"15\": 566, \"8\": 28, \"7\": 5, \"0\": 1}, \"13\": {\"13\": 588, \"4\": 2, \"3\": 8, \"12\": 2}, \"5\": {\"5\": 600}, \"6\": {\"6\": 600}, \"0\": {\"0\": 553, \"8\": 45, \"1\": 1, \"9\": 1}, \"12\": {\"12\": 600}, \"14\": {\"14\": 586, \"9\": 6, \"11\": 4, \"0\": 1, \"5\": 1, \"6\": 1, \"7\": 1}, \"3\": {\"3\": 554, \"13\": 34, \"12\": 12}, \"8\": {\"8\": 581, \"0\": 14, \"1\": 3, \"7\": 1, \"3\": 1}, \"7\": {\"7\": 591, \"3\": 2, \"14\": 2, \"0\": 2, \"1\": 1, \"2\": 2}}, \"8\": {\"3\": {\"3\": 599, \"4\": 1}, \"5\": {\"5\": 600}, \"7\": {\"7\": 505, \"6\": 95}, \"10\": {\"10\": 593, \"13\": 6, \"4\": 1}, \"0\": {\"0\": 599, \"9\": 1}, \"2\": {\"1\": 255, \"3\": 64, \"2\": 237, \"9\": 11, \"13\": 29, \"15\": 3, \"7\": 1}, \"9\": {\"9\": 591, \"10\": 9}, \"6\": {\"6\": 465, \"4\": 121, \"7\": 12, \"0\": 2}, \"13\": {\"13\": 333, \"1\": 155, \"4\": 8, \"10\": 74, \"6\": 29, \"7\": 1}, \"15\": {\"15\": 570, \"12\": 30}, \"4\": {\"6\": 110, \"4\": 487, \"7\": 3}, \"1\": {\"1\": 588, \"4\": 9, \"11\": 3}, \"12\": {\"12\": 561, \"4\": 29, \"15\": 10}, \"8\": {\"8\": 600}, \"14\": {\"14\": 600}, \"11\": {\"8\": 300, \"11\": 298, \"1\": 2}}, \"20\": {\"15\": {\"15\": 552, \"13\": 18, \"12\": 4, \"7\": 14, \"1\": 6, \"0\": 4, \"9\": 1, \"4\": 1}, \"8\": {\"8\": 588, \"4\": 5, \"3\": 3, \"0\": 2, \"7\": 2}, \"13\": {\"13\": 583, \"9\": 1, \"12\": 2, \"7\": 4, \"15\": 8, \"1\": 1, \"2\": 1}, \"2\": {\"2\": 481, \"9\": 80, \"7\": 14, \"3\": 21, \"12\": 1, \"13\": 3}, \"10\": {\"10\": 596, \"12\": 4}, \"3\": {\"9\": 104, \"2\": 62, \"3\": 378, \"7\": 41, \"4\": 1, \"10\": 12, \"1\": 1, \"15\": 1}, \"4\": {\"4\": 588, \"12\": 10, \"15\": 2}, \"14\": {\"14\": 600}, \"5\": {\"5\": 600}, \"11\": {\"11\": 600}, \"6\": {\"6\": 600}, \"7\": {\"7\": 548, \"6\": 35, \"8\": 9, \"2\": 4, \"4\": 2, \"10\": 1, \"3\": 1}, \"1\": {\"1\": 548, \"12\": 18, \"2\": 9, \"9\": 4, \"3\": 10, \"15\": 11}, \"0\": {\"0\": 597, \"1\": 1, \"15\": 2}, \"9\": {\"3\": 21, \"9\": 550, \"2\": 28, \"13\": 1}, \"12\": {\"12\": 580, \"4\": 12, \"3\": 2, \"1\": 2, \"15\": 1, \"7\": 3}}, \"26\": {\"2\": {\"2\": 405, \"7\": 96, \"3\": 54, \"8\": 41, \"9\": 1, \"15\": 1, \"13\": 1, \"10\": 1}, \"4\": {\"4\": 600}, \"9\": {\"9\": 592, \"13\": 5, \"8\": 2, \"15\": 1}, \"1\": {\"1\": 592, \"10\": 5, \"0\": 3}, \"7\": {\"7\": 457, \"2\": 45, \"3\": 65, \"8\": 31, \"4\": 1, \"13\": 1}, \"8\": {\"8\": 514, \"10\": 12, \"7\": 46, \"2\": 9, \"0\": 17, \"9\": 1, \"15\": 1}, \"10\": {\"10\": 435, \"0\": 111, \"8\": 30, \"6\": 11, \"1\": 5, \"7\": 4, \"12\": 2, \"2\": 1, \"15\": 1}, \"14\": {\"14\": 600}, \"12\": {\"12\": 600}, \"11\": {\"11\": 600}, \"13\": {\"13\": 557, \"9\": 26, \"2\": 6, \"8\": 11}, \"3\": {\"3\": 583, \"7\": 12, \"2\": 5}, \"6\": {\"6\": 581, \"10\": 4, \"15\": 11, \"0\": 2, \"9\": 1, \"12\": 1}, \"15\": {\"2\": 28, \"7\": 97, \"15\": 440, \"0\": 15, \"6\": 11, \"3\": 5, \"9\": 3, \"10\": 1}, \"5\": {\"5\": 600}, \"0\": {\"0\": 561, \"6\": 4, \"15\": 2, \"10\": 16, \"8\": 12, \"7\": 5}}, \"14\": {\"5\": {\"5\": 600}, \"2\": {\"2\": 568, \"3\": 22, \"4\": 1, \"13\": 5, \"6\": 4}, \"4\": {\"4\": 600}, \"8\": {\"8\": 600}, \"13\": {\"13\": 468, \"6\": 117, \"2\": 12, \"5\": 1, \"3\": 1, \"15\": 1}, \"6\": {\"6\": 554, \"13\": 44, \"2\": 2}, \"3\": {\"3\": 599, \"2\": 1}, \"7\": {\"7\": 600}, \"14\": {\"14\": 595, \"2\": 5}, \"12\": {\"12\": 469, \"0\": 39, \"3\": 17, \"6\": 20, \"9\": 8, \"8\": 14, \"4\": 2, \"2\": 11, \"10\": 1, \"7\": 9, \"11\": 7, \"14\": 1, \"15\": 2}, \"11\": {\"11\": 580, \"7\": 16, \"8\": 3, \"13\": 1}, \"10\": {\"10\": 360, \"3\": 216, \"4\": 12, \"8\": 10, \"2\": 1, \"7\": 1}, \"9\": {\"9\": 600}, \"15\": {\"15\": 600}, \"0\": {\"0\": 594, \"4\": 3, \"13\": 1, \"7\": 1, \"3\": 1}, \"1\": {\"1\": 600}}, \"50\": {\"9\": {\"9\": 591, \"11\": 3, \"12\": 2, \"7\": 4}, \"6\": {\"6\": 574, \"15\": 19, \"7\": 3, \"4\": 3, \"8\": 1}, \"4\": {\"4\": 497, \"15\": 24, \"7\": 31, \"6\": 10, \"13\": 23, \"0\": 10, \"2\": 3, \"8\": 2}, \"10\": {\"10\": 560, \"0\": 13, \"8\": 3, \"13\": 23, \"12\": 1}, \"8\": {\"8\": 595, \"3\": 1, \"10\": 4}, \"14\": {\"14\": 594, \"9\": 6}, \"13\": {\"13\": 590, \"6\": 2, \"10\": 4, \"0\": 1, \"8\": 1, \"15\": 1, \"3\": 1}, \"7\": {\"7\": 581, \"6\": 2, \"4\": 1, \"2\": 14, \"13\": 1, \"14\": 1}, \"0\": {\"0\": 589, \"2\": 5, \"10\": 3, \"1\": 3}, \"12\": {\"12\": 597, \"9\": 3}, \"11\": {\"11\": 596, \"8\": 4}, \"15\": {\"4\": 84, \"15\": 501, \"11\": 6, \"6\": 3, \"8\": 4, \"0\": 1, \"14\": 1}, \"1\": {\"1\": 584, \"8\": 1, \"15\": 14, \"6\": 1}, \"5\": {\"5\": 599, \"14\": 1}, \"2\": {\"2\": 592, \"0\": 8}, \"3\": {\"3\": 599, \"8\": 1}}, \"38\": {\"12\": {\"12\": 600}, \"15\": {\"15\": 354, \"1\": 223, \"8\": 19, \"6\": 2, \"9\": 2}, \"10\": {\"10\": 535, \"0\": 38, \"7\": 14, \"13\": 10, \"11\": 3}, \"9\": {\"9\": 600}, \"8\": {\"8\": 570, \"15\": 5, \"7\": 18, \"4\": 3, \"11\": 4}, \"6\": {\"6\": 600}, \"0\": {\"0\": 278, \"15\": 2, \"9\": 93, \"7\": 164, \"10\": 14, \"3\": 6, \"13\": 14, \"4\": 20, \"11\": 7, \"8\": 1, \"14\": 1}, \"3\": {\"3\": 452, \"0\": 119, \"9\": 12, \"13\": 6, \"4\": 1, \"10\": 7, \"11\": 3}, \"11\": {\"11\": 576, \"4\": 6, \"6\": 10, \"3\": 3, \"12\": 5}, \"2\": {\"2\": 555, \"7\": 25, \"14\": 9, \"13\": 11}, \"4\": {\"4\": 600}, \"14\": {\"14\": 588, \"7\": 4, \"4\": 1, \"2\": 5, \"5\": 1, \"8\": 1}, \"13\": {\"13\": 442, \"0\": 69, \"3\": 55, \"10\": 29, \"8\": 1, \"4\": 2, \"9\": 2}, \"1\": {\"1\": 585, \"15\": 12, \"9\": 3}, \"5\": {\"5\": 600}, \"7\": {\"8\": 50, \"7\": 543, \"10\": 4, \"4\": 3}}}, \"per_domain_accuracy\": {\"44\": {\"accuracy\": 0.8985416666666667, \"source?\": true}, \"32\": {\"accuracy\": 0.9492708333333333, \"source?\": true}, \"8\": {\"accuracy\": 0.856875, \"source?\": true}, \"20\": {\"accuracy\": 0.9363541666666667, \"source?\": true}, \"26\": {\"accuracy\": 0.9080208333333334, \"source?\": true}, \"14\": {\"accuracy\": 0.9361458333333333, \"source?\": true}, \"50\": {\"accuracy\": 0.9623958333333333, \"source?\": true}, \"38\": {\"accuracy\": 0.883125, \"source?\": true}}}, \"history\": {\"epoch_indices\": [1, 2, 3, 4, 5, 6, 7, 8, 9, 10, 11, 12, 13, 14, 15], \"train_label_loss\": [2.2298289196831838, 1.1435979098933085, 0.6039343068429402, 0.38607704961938516, 0.2943615405687264, 0.2454808826691338, 0.21278199348066534, 0.18957505670509167, 0.17890024845621416, 0.15652435423008032, 0.14648004974105527, 0.13909445300964374, 0.12588962588725344, 0.11981452331479106, 0.10926914703367012], \"source_val_label_loss\": [1.6286560535430907, 0.7250311466058096, 0.48041515201330187, 0.37526715978980063, 0.3004078076283137, 0.27053359312315783, 0.25524956864615284, 0.3855922946333885, 0.28838753782212734, 0.2827698934574922, 0.2394790792092681, 0.3144111367315054, 0.26891168576975666, 0.349548774920404, 0.14559788670390844], \"target_val_label_loss\": [1.6916891495386759, 0.8788632784287135, 0.6550933416684469, 0.684818425277869, 0.5656563119093577, 0.5796757990121841, 0.5345191132028898, 0.5519719793895881, 0.5154190636674563, 0.4934545509517193, 0.4604223145047824, 0.5704570106665293, 0.5481464686493079, 0.5355226543049018, 0.49542603130141893], \"source_val_acc_label\": [0.5363020833333333, 0.828125, 0.902421875, 0.913828125, 0.9277083333333334, 0.9370052083333333, 0.931953125, 0.9407291666666666, 0.9473177083333333, 0.9503385416666666, 0.9608072916666667, 0.9376041666666667, 0.953359375, 0.9480208333333333, 0.9602083333333333], \"target_val_acc_label\": [0.502421875, 0.7511979166666667, 0.817890625, 0.828984375, 0.8376822916666666, 0.84765625, 0.8410416666666667, 0.8462239583333333, 0.8534375, 0.857890625, 0.871875, 0.84046875, 0.854453125, 0.8480989583333334, 0.8583333333333333]}, \"dataset_metrics\": {\"source\": {\"train\": {\"n_unique_x\": 179200, \"n_unique_y\": 16, \"n_batch/episode\": 1400}, \"val\": {\"n_unique_x\": 38400, \"n_unique_y\": 16, \"n_batch/episode\": 300}, \"test\": {\"n_unique_x\": 38400, \"n_unique_y\": 16, \"n_batch/episode\": 300}}, \"target\": {\"train\": {\"n_unique_x\": 179200, \"n_unique_y\": 16, \"n_batch/episode\": 1400}, \"val\": {\"n_unique_x\": 38400, \"n_unique_y\": 16, \"n_batch/episode\": 300}, \"test\": {\"n_unique_x\": 38400, \"n_unique_y\": 16, \"n_batch/episode\": 300}}}}'"
      ]
     },
     "execution_count": 20,
     "metadata": {},
     "output_type": "execute_result"
    }
   ],
   "source": [
    "json.dumps(experiment)"
   ]
  }
 ],
 "metadata": {
  "celltoolbar": "Tags",
  "kernelspec": {
   "display_name": "Python 3 (ipykernel)",
   "language": "python",
   "name": "python3"
  },
  "language_info": {
   "codemirror_mode": {
    "name": "ipython",
    "version": 3
   },
   "file_extension": ".py",
   "mimetype": "text/x-python",
   "name": "python",
   "nbconvert_exporter": "python",
   "pygments_lexer": "ipython3",
   "version": "3.8.12"
  },
  "papermill": {
   "default_parameters": {},
   "duration": 320.121291,
   "end_time": "2022-03-28T02:50:56.422167",
   "environment_variables": {},
   "exception": null,
   "input_path": "/root/csc500-main/csc500-notebooks/templates/cnn_template.ipynb",
   "output_path": "trial.ipynb",
   "parameters": {
    "parameters": {
     "BEST_MODEL_PATH": "./best_model.pth",
     "NUM_LOGS_PER_EPOCH": 10,
     "batch_size": 128,
     "criteria_for_best": "target_accuracy",
     "dataset_seed": 1337,
     "device": "cuda",
     "domains_source": [
      8,
      32,
      50,
      14,
      20,
      26,
      38,
      44
     ],
     "domains_target": [
      8,
      32,
      50,
      14,
      20,
      26,
      38,
      44
     ],
     "experiment_name": "cnn_3:oracle.run1.framed-oracle.run2.framed",
     "labels": [
      "3123D52",
      "3123D65",
      "3123D79",
      "3123D80",
      "3123D54",
      "3123D70",
      "3123D7B",
      "3123D89",
      "3123D58",
      "3123D76",
      "3123D7D",
      "3123EFE",
      "3123D64",
      "3123D78",
      "3123D7E",
      "3124E4A"
     ],
     "lr": 0.0001,
     "n_epoch": 50,
     "normalize_source": false,
     "normalize_target": false,
     "num_examples_per_domain_per_label_source": -1,
     "num_examples_per_domain_per_label_target": -1,
     "patience": 3,
     "pickle_name_source": "oracle.Run1_framed_2000Examples_stratified_ds.2022A.pkl",
     "pickle_name_target": "oracle.Run2_framed_2000Examples_stratified_ds.2022A.pkl",
     "seed": 1337,
     "torch_default_dtype": "torch.float32",
     "x_net": [
      {
       "class": "nnReshape",
       "kargs": {
        "shape": [
         -1,
         1,
         2,
         256
        ]
       }
      },
      {
       "class": "Conv2d",
       "kargs": {
        "bias": false,
        "in_channels": 1,
        "kernel_size": [
         1,
         7
        ],
        "out_channels": 256,
        "padding": [
         0,
         3
        ]
       }
      },
      {
       "class": "ReLU",
       "kargs": {
        "inplace": true
       }
      },
      {
       "class": "BatchNorm2d",
       "kargs": {
        "num_features": 256
       }
      },
      {
       "class": "Conv2d",
       "kargs": {
        "bias": true,
        "in_channels": 256,
        "kernel_size": [
         2,
         7
        ],
        "out_channels": 80,
        "padding": [
         0,
         3
        ]
       }
      },
      {
       "class": "ReLU",
       "kargs": {
        "inplace": true
       }
      },
      {
       "class": "BatchNorm2d",
       "kargs": {
        "num_features": 80
       }
      },
      {
       "class": "Flatten",
       "kargs": {}
      },
      {
       "class": "Linear",
       "kargs": {
        "in_features": 20480,
        "out_features": 256
       }
      },
      {
       "class": "ReLU",
       "kargs": {
        "inplace": true
       }
      },
      {
       "class": "BatchNorm1d",
       "kargs": {
        "num_features": 256
       }
      },
      {
       "class": "Linear",
       "kargs": {
        "in_features": 256,
        "out_features": 16
       }
      }
     ]
    }
   },
   "start_time": "2022-03-28T02:45:36.300876",
   "version": "2.3.4"
  }
 },
 "nbformat": 4,
 "nbformat_minor": 5
}