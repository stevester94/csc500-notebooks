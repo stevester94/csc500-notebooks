{
 "cells": [
  {
   "cell_type": "code",
   "execution_count": 1,
   "id": "2324682e",
   "metadata": {
    "execution": {
     "iopub.execute_input": "2022-03-28T03:44:05.519248Z",
     "iopub.status.busy": "2022-03-28T03:44:05.518385Z",
     "iopub.status.idle": "2022-03-28T03:44:06.792685Z",
     "shell.execute_reply": "2022-03-28T03:44:06.791808Z"
    },
    "papermill": {
     "duration": 1.313029,
     "end_time": "2022-03-28T03:44:06.792877",
     "exception": false,
     "start_time": "2022-03-28T03:44:05.479848",
     "status": "completed"
    },
    "tags": []
   },
   "outputs": [],
   "source": [
    "import os, json, sys, time, random\n",
    "import numpy as np\n",
    "import torch\n",
    "from  easydict import EasyDict\n",
    "from math import floor\n",
    "from easydict import EasyDict\n",
    "\n",
    "from steves_utils.vanilla_train_eval_test_jig import  Vanilla_Train_Eval_Test_Jig\n",
    "\n",
    "from steves_utils.torch_utils import get_dataset_metrics, independent_accuracy_assesment\n",
    "from steves_models.configurable_vanilla import Configurable_Vanilla\n",
    "from steves_utils.torch_sequential_builder import build_sequential\n",
    "from steves_utils.lazy_map import Lazy_Map\n",
    "from steves_utils.sequence_aggregator import Sequence_Aggregator\n",
    "\n",
    "from steves_utils.stratified_dataset.traditional_accessor import Traditional_Accessor_Factory\n",
    "\n",
    "from steves_utils.cnn_do_report import (\n",
    "    get_loss_curve,\n",
    "    get_results_table,\n",
    "    get_parameters_table,\n",
    "    get_domain_accuracies,\n",
    ")\n",
    "\n",
    "from steves_utils.torch_utils import (\n",
    "    confusion_by_domain_over_dataloader,\n",
    "    independent_accuracy_assesment\n",
    ")\n",
    "\n",
    "from steves_utils.utils_v2 import (\n",
    "    per_domain_accuracy_from_confusion,\n",
    "    get_datasets_base_path\n",
    ")\n",
    "\n",
    "# from steves_utils.ptn_do_report import TBD"
   ]
  },
  {
   "cell_type": "code",
   "execution_count": 2,
   "id": "1b29e3fe",
   "metadata": {
    "execution": {
     "iopub.execute_input": "2022-03-28T03:44:06.830073Z",
     "iopub.status.busy": "2022-03-28T03:44:06.829686Z",
     "iopub.status.idle": "2022-03-28T03:44:06.832249Z",
     "shell.execute_reply": "2022-03-28T03:44:06.831852Z"
    },
    "papermill": {
     "duration": 0.021698,
     "end_time": "2022-03-28T03:44:06.832407",
     "exception": false,
     "start_time": "2022-03-28T03:44:06.810709",
     "status": "completed"
    },
    "tags": []
   },
   "outputs": [],
   "source": [
    "required_parameters = {\n",
    "    \"experiment_name\",\n",
    "    \"lr\",\n",
    "    \"device\",\n",
    "    \"dataset_seed\",\n",
    "    \"seed\",\n",
    "    \"labels\",\n",
    "    \"domains_target\",\n",
    "    \"domains_source\",\n",
    "    \"num_examples_per_domain_per_label_source\",\n",
    "    \"num_examples_per_domain_per_label_target\",\n",
    "    \"batch_size\",\n",
    "    \"n_epoch\",\n",
    "    \"patience\",\n",
    "    \"criteria_for_best\",\n",
    "    \"normalize_source\",\n",
    "    \"normalize_target\",\n",
    "    \"x_net\",\n",
    "    \"NUM_LOGS_PER_EPOCH\",\n",
    "    \"BEST_MODEL_PATH\",\n",
    "    \"pickle_name_source\",\n",
    "    \"pickle_name_target\",\n",
    "    \"torch_default_dtype\",\n",
    "}"
   ]
  },
  {
   "cell_type": "code",
   "execution_count": 3,
   "id": "670b5fb8",
   "metadata": {
    "execution": {
     "iopub.execute_input": "2022-03-28T03:44:06.880540Z",
     "iopub.status.busy": "2022-03-28T03:44:06.879658Z",
     "iopub.status.idle": "2022-03-28T03:44:06.887487Z",
     "shell.execute_reply": "2022-03-28T03:44:06.886683Z"
    },
    "papermill": {
     "duration": 0.035442,
     "end_time": "2022-03-28T03:44:06.887657",
     "exception": false,
     "start_time": "2022-03-28T03:44:06.852215",
     "status": "completed"
    },
    "tags": [
     "parameters"
    ]
   },
   "outputs": [],
   "source": [
    "from steves_utils.ORACLE.utils_v2 import (\n",
    "    ALL_SERIAL_NUMBERS,\n",
    "    ALL_DISTANCES_FEET_NARROWED,\n",
    ")\n",
    "\n",
    "standalone_parameters = {}\n",
    "standalone_parameters[\"experiment_name\"] = \"MANUAL CORES CNN\"\n",
    "standalone_parameters[\"lr\"] = 0.0001\n",
    "standalone_parameters[\"device\"] = \"cuda\"\n",
    "\n",
    "standalone_parameters[\"dataset_seed\"] = 1337\n",
    "standalone_parameters[\"seed\"] = 1337\n",
    "standalone_parameters[\"labels\"] = ALL_SERIAL_NUMBERS\n",
    "\n",
    "standalone_parameters[\"domains_source\"] = [8,32,50]\n",
    "standalone_parameters[\"domains_target\"] = [14,20,26,38,44,]\n",
    "\n",
    "standalone_parameters[\"num_examples_per_domain_per_label_source\"]=-1\n",
    "standalone_parameters[\"num_examples_per_domain_per_label_target\"]=-1\n",
    "\n",
    "standalone_parameters[\"pickle_name_source\"] = \"oracle.Run1_framed_2000Examples_stratified_ds.2022A.pkl\"\n",
    "standalone_parameters[\"pickle_name_target\"] = \"oracle.Run2_framed_2000Examples_stratified_ds.2022A.pkl\"\n",
    "\n",
    "standalone_parameters[\"torch_default_dtype\"] = \"torch.float32\" \n",
    "\n",
    "standalone_parameters[\"batch_size\"]=128\n",
    "\n",
    "standalone_parameters[\"n_epoch\"] = 3\n",
    "\n",
    "standalone_parameters[\"patience\"] = 10\n",
    "\n",
    "standalone_parameters[\"criteria_for_best\"] = \"target_accuracy\"\n",
    "standalone_parameters[\"normalize_source\"] = False\n",
    "standalone_parameters[\"normalize_target\"] = False\n",
    "\n",
    "standalone_parameters[\"x_net\"] =     [\n",
    "    {\"class\": \"nnReshape\", \"kargs\": {\"shape\":[-1, 1, 2, 256]}},\n",
    "    {\"class\": \"Conv2d\", \"kargs\": { \"in_channels\":1, \"out_channels\":256, \"kernel_size\":(1,7), \"bias\":False, \"padding\":(0,3), },},\n",
    "    {\"class\": \"ReLU\", \"kargs\": {\"inplace\": True}},\n",
    "    {\"class\": \"BatchNorm2d\", \"kargs\": {\"num_features\":256}},\n",
    "\n",
    "    {\"class\": \"Conv2d\", \"kargs\": { \"in_channels\":256, \"out_channels\":80, \"kernel_size\":(2,7), \"bias\":True, \"padding\":(0,3), },},\n",
    "    {\"class\": \"ReLU\", \"kargs\": {\"inplace\": True}},\n",
    "    {\"class\": \"BatchNorm2d\", \"kargs\": {\"num_features\":80}},\n",
    "    {\"class\": \"Flatten\", \"kargs\": {}},\n",
    "\n",
    "    {\"class\": \"Linear\", \"kargs\": {\"in_features\": 80*256, \"out_features\": 256}}, # 80 units per IQ pair\n",
    "    {\"class\": \"ReLU\", \"kargs\": {\"inplace\": True}},\n",
    "    {\"class\": \"BatchNorm1d\", \"kargs\": {\"num_features\":256}},\n",
    "\n",
    "    {\"class\": \"Linear\", \"kargs\": {\"in_features\": 256, \"out_features\": len(standalone_parameters[\"labels\"])}},\n",
    "]\n",
    "\n",
    "standalone_parameters[\"NUM_LOGS_PER_EPOCH\"] = 10\n",
    "standalone_parameters[\"BEST_MODEL_PATH\"] = \"./best_model.pth\""
   ]
  },
  {
   "cell_type": "code",
   "execution_count": 4,
   "id": "2c8351b6",
   "metadata": {
    "execution": {
     "iopub.execute_input": "2022-03-28T03:44:06.936822Z",
     "iopub.status.busy": "2022-03-28T03:44:06.935962Z",
     "iopub.status.idle": "2022-03-28T03:44:06.938947Z",
     "shell.execute_reply": "2022-03-28T03:44:06.938148Z"
    },
    "papermill": {
     "duration": 0.029204,
     "end_time": "2022-03-28T03:44:06.939097",
     "exception": false,
     "start_time": "2022-03-28T03:44:06.909893",
     "status": "completed"
    },
    "tags": [
     "injected-parameters"
    ]
   },
   "outputs": [],
   "source": [
    "# Parameters\n",
    "parameters = {\n",
    "    \"experiment_name\": \"cnn_3:oracle.run1.framed-oracle.run2.framed\",\n",
    "    \"labels\": [\n",
    "        \"3123D52\",\n",
    "        \"3123D65\",\n",
    "        \"3123D79\",\n",
    "        \"3123D80\",\n",
    "        \"3123D54\",\n",
    "        \"3123D70\",\n",
    "        \"3123D7B\",\n",
    "        \"3123D89\",\n",
    "        \"3123D58\",\n",
    "        \"3123D76\",\n",
    "        \"3123D7D\",\n",
    "        \"3123EFE\",\n",
    "        \"3123D64\",\n",
    "        \"3123D78\",\n",
    "        \"3123D7E\",\n",
    "        \"3124E4A\",\n",
    "    ],\n",
    "    \"domains_source\": [8, 32, 50, 14, 20, 26, 38, 44],\n",
    "    \"domains_target\": [8, 32, 50, 14, 20, 26, 38, 44],\n",
    "    \"pickle_name_source\": \"oracle.Run1_framed_2000Examples_stratified_ds.2022A.pkl\",\n",
    "    \"pickle_name_target\": \"oracle.Run2_framed_2000Examples_stratified_ds.2022A.pkl\",\n",
    "    \"device\": \"cuda\",\n",
    "    \"lr\": 0.0001,\n",
    "    \"batch_size\": 128,\n",
    "    \"normalize_source\": False,\n",
    "    \"normalize_target\": False,\n",
    "    \"num_examples_per_domain_per_label_source\": -1,\n",
    "    \"num_examples_per_domain_per_label_target\": -1,\n",
    "    \"torch_default_dtype\": \"torch.float32\",\n",
    "    \"n_epoch\": 50,\n",
    "    \"patience\": 3,\n",
    "    \"criteria_for_best\": \"target_accuracy\",\n",
    "    \"x_net\": [\n",
    "        {\"class\": \"nnReshape\", \"kargs\": {\"shape\": [-1, 1, 2, 256]}},\n",
    "        {\n",
    "            \"class\": \"Conv2d\",\n",
    "            \"kargs\": {\n",
    "                \"in_channels\": 1,\n",
    "                \"out_channels\": 256,\n",
    "                \"kernel_size\": [1, 7],\n",
    "                \"bias\": False,\n",
    "                \"padding\": [0, 3],\n",
    "            },\n",
    "        },\n",
    "        {\"class\": \"ReLU\", \"kargs\": {\"inplace\": True}},\n",
    "        {\"class\": \"BatchNorm2d\", \"kargs\": {\"num_features\": 256}},\n",
    "        {\n",
    "            \"class\": \"Conv2d\",\n",
    "            \"kargs\": {\n",
    "                \"in_channels\": 256,\n",
    "                \"out_channels\": 80,\n",
    "                \"kernel_size\": [2, 7],\n",
    "                \"bias\": True,\n",
    "                \"padding\": [0, 3],\n",
    "            },\n",
    "        },\n",
    "        {\"class\": \"ReLU\", \"kargs\": {\"inplace\": True}},\n",
    "        {\"class\": \"BatchNorm2d\", \"kargs\": {\"num_features\": 80}},\n",
    "        {\"class\": \"Flatten\", \"kargs\": {}},\n",
    "        {\"class\": \"Linear\", \"kargs\": {\"in_features\": 20480, \"out_features\": 256}},\n",
    "        {\"class\": \"ReLU\", \"kargs\": {\"inplace\": True}},\n",
    "        {\"class\": \"BatchNorm1d\", \"kargs\": {\"num_features\": 256}},\n",
    "        {\"class\": \"Linear\", \"kargs\": {\"in_features\": 256, \"out_features\": 16}},\n",
    "    ],\n",
    "    \"NUM_LOGS_PER_EPOCH\": 10,\n",
    "    \"BEST_MODEL_PATH\": \"./best_model.pth\",\n",
    "    \"dataset_seed\": 500,\n",
    "    \"seed\": 500,\n",
    "}\n"
   ]
  },
  {
   "cell_type": "code",
   "execution_count": 5,
   "id": "759b56ec",
   "metadata": {
    "execution": {
     "iopub.execute_input": "2022-03-28T03:44:06.978052Z",
     "iopub.status.busy": "2022-03-28T03:44:06.977674Z",
     "iopub.status.idle": "2022-03-28T03:44:06.980362Z",
     "shell.execute_reply": "2022-03-28T03:44:06.979864Z"
    },
    "papermill": {
     "duration": 0.022729,
     "end_time": "2022-03-28T03:44:06.980515",
     "exception": false,
     "start_time": "2022-03-28T03:44:06.957786",
     "status": "completed"
    },
    "tags": []
   },
   "outputs": [],
   "source": [
    "# Set this to True if you want to run this template directly\n",
    "STANDALONE = False\n",
    "if STANDALONE:\n",
    "    print(\"parameters not injected, running with standalone_parameters\")\n",
    "    parameters = standalone_parameters\n",
    "\n",
    "if not 'parameters' in locals() and not 'parameters' in globals():\n",
    "    raise Exception(\"Parameter injection failed\")\n",
    "\n",
    "#Use an easy dict for all the parameters\n",
    "p = EasyDict(parameters)\n",
    "\n",
    "supplied_keys = set(p.keys())\n",
    "\n",
    "if  supplied_keys != required_parameters:\n",
    "    print(\"Parameters are incorrect\")\n",
    "    if len(supplied_keys - required_parameters)>0: print(\"Shouldn't have:\", str(supplied_keys - required_parameters))\n",
    "    if len(required_parameters - supplied_keys)>0: print(\"Need to have:\", str(required_parameters - supplied_keys))\n",
    "    raise RuntimeError(\"Parameters are incorrect\")\n",
    "\n"
   ]
  },
  {
   "cell_type": "code",
   "execution_count": 6,
   "id": "d5c66a71",
   "metadata": {
    "execution": {
     "iopub.execute_input": "2022-03-28T03:44:07.016679Z",
     "iopub.status.busy": "2022-03-28T03:44:07.016296Z",
     "iopub.status.idle": "2022-03-28T03:44:07.020315Z",
     "shell.execute_reply": "2022-03-28T03:44:07.019821Z"
    },
    "papermill": {
     "duration": 0.022098,
     "end_time": "2022-03-28T03:44:07.020471",
     "exception": false,
     "start_time": "2022-03-28T03:44:06.998373",
     "status": "completed"
    },
    "tags": []
   },
   "outputs": [],
   "source": [
    "###################################\n",
    "# Set the RNGs and make it all deterministic\n",
    "###################################\n",
    "np.random.seed(p.seed)\n",
    "random.seed(p.seed)\n",
    "torch.manual_seed(p.seed)\n",
    "\n",
    "torch.use_deterministic_algorithms(True) "
   ]
  },
  {
   "cell_type": "code",
   "execution_count": 7,
   "id": "92a65876",
   "metadata": {
    "execution": {
     "iopub.execute_input": "2022-03-28T03:44:07.058659Z",
     "iopub.status.busy": "2022-03-28T03:44:07.058292Z",
     "iopub.status.idle": "2022-03-28T03:44:07.060639Z",
     "shell.execute_reply": "2022-03-28T03:44:07.060944Z"
    },
    "papermill": {
     "duration": 0.020333,
     "end_time": "2022-03-28T03:44:07.061027",
     "exception": false,
     "start_time": "2022-03-28T03:44:07.040694",
     "status": "completed"
    },
    "tags": []
   },
   "outputs": [],
   "source": [
    "torch.set_default_dtype(eval(p.torch_default_dtype))"
   ]
  },
  {
   "cell_type": "code",
   "execution_count": 8,
   "id": "f1a32f01",
   "metadata": {
    "execution": {
     "iopub.execute_input": "2022-03-28T03:44:07.095739Z",
     "iopub.status.busy": "2022-03-28T03:44:07.095357Z",
     "iopub.status.idle": "2022-03-28T03:44:07.136592Z",
     "shell.execute_reply": "2022-03-28T03:44:07.135841Z"
    },
    "papermill": {
     "duration": 0.058888,
     "end_time": "2022-03-28T03:44:07.136767",
     "exception": false,
     "start_time": "2022-03-28T03:44:07.077879",
     "status": "completed"
    },
    "tags": []
   },
   "outputs": [],
   "source": [
    "###################################\n",
    "# Build the network(s)\n",
    "# Note: It's critical to do this AFTER setting the RNG\n",
    "###################################\n",
    "x_net = build_sequential(p.x_net)"
   ]
  },
  {
   "cell_type": "code",
   "execution_count": 9,
   "id": "a276cd83",
   "metadata": {
    "execution": {
     "iopub.execute_input": "2022-03-28T03:44:07.177594Z",
     "iopub.status.busy": "2022-03-28T03:44:07.177033Z",
     "iopub.status.idle": "2022-03-28T03:44:07.179939Z",
     "shell.execute_reply": "2022-03-28T03:44:07.179440Z"
    },
    "papermill": {
     "duration": 0.020952,
     "end_time": "2022-03-28T03:44:07.180044",
     "exception": false,
     "start_time": "2022-03-28T03:44:07.159092",
     "status": "completed"
    },
    "tags": []
   },
   "outputs": [],
   "source": [
    "start_time_secs = time.time()"
   ]
  },
  {
   "cell_type": "code",
   "execution_count": 10,
   "id": "de702e48",
   "metadata": {
    "execution": {
     "iopub.execute_input": "2022-03-28T03:44:07.228857Z",
     "iopub.status.busy": "2022-03-28T03:44:07.228254Z",
     "iopub.status.idle": "2022-03-28T03:44:14.173512Z",
     "shell.execute_reply": "2022-03-28T03:44:14.172741Z"
    },
    "papermill": {
     "duration": 6.972543,
     "end_time": "2022-03-28T03:44:14.173698",
     "exception": false,
     "start_time": "2022-03-28T03:44:07.201155",
     "status": "completed"
    },
    "tags": []
   },
   "outputs": [],
   "source": [
    "def wrap_in_dataloader(p, ds):\n",
    "    return torch.utils.data.DataLoader(\n",
    "        ds,\n",
    "        batch_size=p.batch_size,\n",
    "        shuffle=True,\n",
    "        num_workers=1,\n",
    "        persistent_workers=True,\n",
    "        prefetch_factor=50,\n",
    "        pin_memory=True\n",
    "    )\n",
    "\n",
    "taf_source = Traditional_Accessor_Factory(\n",
    "    labels=p.labels,\n",
    "    domains=p.domains_source,\n",
    "    num_examples_per_domain_per_label=p.num_examples_per_domain_per_label_source,\n",
    "    pickle_path=os.path.join(get_datasets_base_path(), p.pickle_name_source),\n",
    "    seed=p.dataset_seed\n",
    ")\n",
    "train_original_source, val_original_source, test_original_source = \\\n",
    "    taf_source.get_train(), taf_source.get_val(), taf_source.get_test()\n",
    "\n",
    "\n",
    "taf_target = Traditional_Accessor_Factory(\n",
    "    labels=p.labels,\n",
    "    domains=p.domains_target,\n",
    "    num_examples_per_domain_per_label=p.num_examples_per_domain_per_label_source,\n",
    "    pickle_path=os.path.join(get_datasets_base_path(), p.pickle_name_target),\n",
    "    seed=p.dataset_seed\n",
    ")\n",
    "train_original_target, val_original_target, test_original_target = \\\n",
    "    taf_target.get_train(), taf_target.get_val(), taf_target.get_test()\n",
    "\n",
    "\n",
    "# For CNN We only use X and Y. And we only train on the source.\n",
    "# Properly form the data using a transform lambda and Lazy_Map. Finally wrap them in a dataloader\n",
    "\n",
    "transform_lambda = lambda ex: ex[:2] # Strip the tuple to just (x,y)\n",
    "\n",
    "\n",
    "train_processed_source = wrap_in_dataloader(\n",
    "    p,\n",
    "    Lazy_Map(train_original_source, transform_lambda)\n",
    ")\n",
    "val_processed_source = wrap_in_dataloader(\n",
    "    p,\n",
    "    Lazy_Map(val_original_source, transform_lambda)\n",
    ")\n",
    "test_processed_source = wrap_in_dataloader(\n",
    "    p,\n",
    "    Lazy_Map(test_original_source, transform_lambda)\n",
    ")\n",
    "\n",
    "train_processed_target = wrap_in_dataloader(\n",
    "    p,\n",
    "    Lazy_Map(train_original_target, transform_lambda)\n",
    ")\n",
    "val_processed_target = wrap_in_dataloader(\n",
    "    p,\n",
    "    Lazy_Map(val_original_target, transform_lambda)\n",
    ")\n",
    "test_processed_target  = wrap_in_dataloader(\n",
    "    p,\n",
    "    Lazy_Map(test_original_target, transform_lambda)\n",
    ")\n",
    "\n",
    "\n",
    "\n",
    "datasets = EasyDict({\n",
    "    \"source\": {\n",
    "        \"original\": {\"train\":train_original_source, \"val\":val_original_source, \"test\":test_original_source},\n",
    "        \"processed\": {\"train\":train_processed_source, \"val\":val_processed_source, \"test\":test_processed_source}\n",
    "    },\n",
    "    \"target\": {\n",
    "        \"original\": {\"train\":train_original_target, \"val\":val_original_target, \"test\":test_original_target},\n",
    "        \"processed\": {\"train\":train_processed_target, \"val\":val_processed_target, \"test\":test_processed_target}\n",
    "    },\n",
    "})"
   ]
  },
  {
   "cell_type": "code",
   "execution_count": 11,
   "id": "a11b26bd",
   "metadata": {
    "execution": {
     "iopub.execute_input": "2022-03-28T03:44:14.254534Z",
     "iopub.status.busy": "2022-03-28T03:44:14.253695Z",
     "iopub.status.idle": "2022-03-28T03:44:19.492725Z",
     "shell.execute_reply": "2022-03-28T03:44:19.493773Z"
    },
    "papermill": {
     "duration": 5.30448,
     "end_time": "2022-03-28T03:44:19.494081",
     "exception": false,
     "start_time": "2022-03-28T03:44:14.189601",
     "status": "completed"
    },
    "tags": []
   },
   "outputs": [
    {
     "data": {
      "text/plain": [
       "torch.float32"
      ]
     },
     "execution_count": 11,
     "metadata": {},
     "output_type": "execute_result"
    }
   ],
   "source": [
    "ep = next(iter(test_processed_target))\n",
    "ep[0].dtype"
   ]
  },
  {
   "cell_type": "code",
   "execution_count": 12,
   "id": "19425fad",
   "metadata": {
    "execution": {
     "iopub.execute_input": "2022-03-28T03:44:19.532099Z",
     "iopub.status.busy": "2022-03-28T03:44:19.531707Z",
     "iopub.status.idle": "2022-03-28T03:44:19.585302Z",
     "shell.execute_reply": "2022-03-28T03:44:19.584533Z"
    },
    "papermill": {
     "duration": 0.073209,
     "end_time": "2022-03-28T03:44:19.585488",
     "exception": false,
     "start_time": "2022-03-28T03:44:19.512279",
     "status": "completed"
    },
    "tags": []
   },
   "outputs": [],
   "source": [
    "model = Configurable_Vanilla(\n",
    "    x_net=x_net,\n",
    "    label_loss_object=torch.nn.NLLLoss(),\n",
    "    learning_rate=p.lr\n",
    ")"
   ]
  },
  {
   "cell_type": "code",
   "execution_count": 13,
   "id": "7f6d4f2c",
   "metadata": {
    "execution": {
     "iopub.execute_input": "2022-03-28T03:44:19.626518Z",
     "iopub.status.busy": "2022-03-28T03:44:19.625954Z",
     "iopub.status.idle": "2022-03-28T03:48:47.133970Z",
     "shell.execute_reply": "2022-03-28T03:48:47.133568Z"
    },
    "papermill": {
     "duration": 267.526201,
     "end_time": "2022-03-28T03:48:47.134063",
     "exception": false,
     "start_time": "2022-03-28T03:44:19.607862",
     "status": "completed"
    },
    "tags": []
   },
   "outputs": [
    {
     "name": "stdout",
     "output_type": "stream",
     "text": [
      "epoch: 1, [batch: 1 / 1400], examples_per_second: 581.0260, train_label_loss: 2.8238, \n"
     ]
    },
    {
     "name": "stdout",
     "output_type": "stream",
     "text": [
      "epoch: 1, [batch: 140 / 1400], examples_per_second: 12619.6168, train_label_loss: 2.7253, \n"
     ]
    },
    {
     "name": "stdout",
     "output_type": "stream",
     "text": [
      "epoch: 1, [batch: 280 / 1400], examples_per_second: 12846.7544, train_label_loss: 2.5891, \n"
     ]
    },
    {
     "name": "stdout",
     "output_type": "stream",
     "text": [
      "epoch: 1, [batch: 420 / 1400], examples_per_second: 12808.5236, train_label_loss: 2.5074, \n"
     ]
    },
    {
     "name": "stdout",
     "output_type": "stream",
     "text": [
      "epoch: 1, [batch: 560 / 1400], examples_per_second: 12725.8010, train_label_loss: 2.3486, \n"
     ]
    },
    {
     "name": "stdout",
     "output_type": "stream",
     "text": [
      "epoch: 1, [batch: 700 / 1400], examples_per_second: 12836.7472, train_label_loss: 2.2373, \n"
     ]
    },
    {
     "name": "stdout",
     "output_type": "stream",
     "text": [
      "epoch: 1, [batch: 840 / 1400], examples_per_second: 12584.1915, train_label_loss: 2.0611, \n"
     ]
    },
    {
     "name": "stdout",
     "output_type": "stream",
     "text": [
      "epoch: 1, [batch: 980 / 1400], examples_per_second: 12467.7826, train_label_loss: 1.8504, \n"
     ]
    },
    {
     "name": "stdout",
     "output_type": "stream",
     "text": [
      "epoch: 1, [batch: 1120 / 1400], examples_per_second: 12602.1767, train_label_loss: 1.8777, \n"
     ]
    },
    {
     "name": "stdout",
     "output_type": "stream",
     "text": [
      "epoch: 1, [batch: 1260 / 1400], examples_per_second: 12601.7436, train_label_loss: 1.5474, \n"
     ]
    },
    {
     "name": "stdout",
     "output_type": "stream",
     "text": [
      "=============================================================\n",
      "epoch: 1, source_val_acc_label: 0.5688, source_val_label_loss: 1.5241, target_val_acc_label: 0.5262, target_val_label_loss: 1.5864, \n",
      "=============================================================\n"
     ]
    },
    {
     "name": "stdout",
     "output_type": "stream",
     "text": [
      "New best\n",
      "epoch: 2, [batch: 1 / 1400], examples_per_second: 58.4337, train_label_loss: 1.5158, \n"
     ]
    },
    {
     "name": "stdout",
     "output_type": "stream",
     "text": [
      "epoch: 2, [batch: 140 / 1400], examples_per_second: 12589.5747, train_label_loss: 1.4071, \n"
     ]
    },
    {
     "name": "stdout",
     "output_type": "stream",
     "text": [
      "epoch: 2, [batch: 280 / 1400], examples_per_second: 12138.8738, train_label_loss: 1.2934, \n"
     ]
    },
    {
     "name": "stdout",
     "output_type": "stream",
     "text": [
      "epoch: 2, [batch: 420 / 1400], examples_per_second: 12251.6425, train_label_loss: 1.3142, \n"
     ]
    },
    {
     "name": "stdout",
     "output_type": "stream",
     "text": [
      "epoch: 2, [batch: 560 / 1400], examples_per_second: 12560.4469, train_label_loss: 1.1657, \n"
     ]
    },
    {
     "name": "stdout",
     "output_type": "stream",
     "text": [
      "epoch: 2, [batch: 700 / 1400], examples_per_second: 12675.3850, train_label_loss: 1.1772, \n"
     ]
    },
    {
     "name": "stdout",
     "output_type": "stream",
     "text": [
      "epoch: 2, [batch: 840 / 1400], examples_per_second: 12530.8976, train_label_loss: 0.9354, \n"
     ]
    },
    {
     "name": "stdout",
     "output_type": "stream",
     "text": [
      "epoch: 2, [batch: 980 / 1400], examples_per_second: 12643.9359, train_label_loss: 0.9201, \n"
     ]
    },
    {
     "name": "stdout",
     "output_type": "stream",
     "text": [
      "epoch: 2, [batch: 1120 / 1400], examples_per_second: 12256.9870, train_label_loss: 0.8622, \n"
     ]
    },
    {
     "name": "stdout",
     "output_type": "stream",
     "text": [
      "epoch: 2, [batch: 1260 / 1400], examples_per_second: 12529.1346, train_label_loss: 0.8427, \n"
     ]
    },
    {
     "name": "stdout",
     "output_type": "stream",
     "text": [
      "=============================================================\n",
      "epoch: 2, source_val_acc_label: 0.8201, source_val_label_loss: 0.7253, target_val_acc_label: 0.7448, target_val_label_loss: 0.8876, \n",
      "=============================================================\n"
     ]
    },
    {
     "name": "stdout",
     "output_type": "stream",
     "text": [
      "New best\n",
      "epoch: 3, [batch: 1 / 1400], examples_per_second: 79.4937, train_label_loss: 0.6666, \n"
     ]
    },
    {
     "name": "stdout",
     "output_type": "stream",
     "text": [
      "epoch: 3, [batch: 140 / 1400], examples_per_second: 13718.5626, train_label_loss: 0.6982, \n"
     ]
    },
    {
     "name": "stdout",
     "output_type": "stream",
     "text": [
      "epoch: 3, [batch: 280 / 1400], examples_per_second: 14071.2752, train_label_loss: 0.6388, \n"
     ]
    },
    {
     "name": "stdout",
     "output_type": "stream",
     "text": [
      "epoch: 3, [batch: 420 / 1400], examples_per_second: 14001.5469, train_label_loss: 0.5685, \n"
     ]
    },
    {
     "name": "stdout",
     "output_type": "stream",
     "text": [
      "epoch: 3, [batch: 560 / 1400], examples_per_second: 14057.9818, train_label_loss: 0.6146, \n"
     ]
    },
    {
     "name": "stdout",
     "output_type": "stream",
     "text": [
      "epoch: 3, [batch: 700 / 1400], examples_per_second: 14520.1860, train_label_loss: 0.5173, \n"
     ]
    },
    {
     "name": "stdout",
     "output_type": "stream",
     "text": [
      "epoch: 3, [batch: 840 / 1400], examples_per_second: 13950.2040, train_label_loss: 0.7165, \n"
     ]
    },
    {
     "name": "stdout",
     "output_type": "stream",
     "text": [
      "epoch: 3, [batch: 980 / 1400], examples_per_second: 14027.6260, train_label_loss: 0.6045, \n"
     ]
    },
    {
     "name": "stdout",
     "output_type": "stream",
     "text": [
      "epoch: 3, [batch: 1120 / 1400], examples_per_second: 13838.0638, train_label_loss: 0.4305, \n"
     ]
    },
    {
     "name": "stdout",
     "output_type": "stream",
     "text": [
      "epoch: 3, [batch: 1260 / 1400], examples_per_second: 13842.7659, train_label_loss: 0.4352, \n"
     ]
    },
    {
     "name": "stdout",
     "output_type": "stream",
     "text": [
      "=============================================================\n",
      "epoch: 3, source_val_acc_label: 0.8893, source_val_label_loss: 0.4449, target_val_acc_label: 0.8117, target_val_label_loss: 0.6584, \n",
      "=============================================================\n"
     ]
    },
    {
     "name": "stdout",
     "output_type": "stream",
     "text": [
      "New best\n",
      "epoch: 4, [batch: 1 / 1400], examples_per_second: 78.9197, train_label_loss: 0.4867, \n"
     ]
    },
    {
     "name": "stdout",
     "output_type": "stream",
     "text": [
      "epoch: 4, [batch: 140 / 1400], examples_per_second: 13883.2614, train_label_loss: 0.4713, \n"
     ]
    },
    {
     "name": "stdout",
     "output_type": "stream",
     "text": [
      "epoch: 4, [batch: 280 / 1400], examples_per_second: 14016.9631, train_label_loss: 0.4915, \n"
     ]
    },
    {
     "name": "stdout",
     "output_type": "stream",
     "text": [
      "epoch: 4, [batch: 420 / 1400], examples_per_second: 14087.1808, train_label_loss: 0.5104, \n"
     ]
    },
    {
     "name": "stdout",
     "output_type": "stream",
     "text": [
      "epoch: 4, [batch: 560 / 1400], examples_per_second: 14153.1201, train_label_loss: 0.4135, \n"
     ]
    },
    {
     "name": "stdout",
     "output_type": "stream",
     "text": [
      "epoch: 4, [batch: 700 / 1400], examples_per_second: 16501.0119, train_label_loss: 0.5086, \n"
     ]
    },
    {
     "name": "stdout",
     "output_type": "stream",
     "text": [
      "epoch: 4, [batch: 840 / 1400], examples_per_second: 14049.8776, train_label_loss: 0.8058, \n"
     ]
    },
    {
     "name": "stdout",
     "output_type": "stream",
     "text": [
      "epoch: 4, [batch: 980 / 1400], examples_per_second: 14173.2753, train_label_loss: 0.3214, \n"
     ]
    },
    {
     "name": "stdout",
     "output_type": "stream",
     "text": [
      "epoch: 4, [batch: 1120 / 1400], examples_per_second: 14099.5376, train_label_loss: 0.3317, \n"
     ]
    },
    {
     "name": "stdout",
     "output_type": "stream",
     "text": [
      "epoch: 4, [batch: 1260 / 1400], examples_per_second: 14102.4291, train_label_loss: 0.3505, \n"
     ]
    },
    {
     "name": "stdout",
     "output_type": "stream",
     "text": [
      "=============================================================\n",
      "epoch: 4, source_val_acc_label: 0.8949, source_val_label_loss: 0.3442, target_val_acc_label: 0.7988, target_val_label_loss: 0.6044, \n",
      "=============================================================\n"
     ]
    },
    {
     "name": "stdout",
     "output_type": "stream",
     "text": [
      "epoch: 5, [batch: 1 / 1400], examples_per_second: 79.3180, train_label_loss: 0.2976, \n"
     ]
    },
    {
     "name": "stdout",
     "output_type": "stream",
     "text": [
      "epoch: 5, [batch: 140 / 1400], examples_per_second: 13848.7014, train_label_loss: 0.2726, \n"
     ]
    },
    {
     "name": "stdout",
     "output_type": "stream",
     "text": [
      "epoch: 5, [batch: 280 / 1400], examples_per_second: 13119.1927, train_label_loss: 0.3128, \n"
     ]
    },
    {
     "name": "stdout",
     "output_type": "stream",
     "text": [
      "epoch: 5, [batch: 420 / 1400], examples_per_second: 13123.3227, train_label_loss: 0.2488, \n"
     ]
    },
    {
     "name": "stdout",
     "output_type": "stream",
     "text": [
      "epoch: 5, [batch: 560 / 1400], examples_per_second: 14161.1945, train_label_loss: 0.2420, \n"
     ]
    },
    {
     "name": "stdout",
     "output_type": "stream",
     "text": [
      "epoch: 5, [batch: 700 / 1400], examples_per_second: 14255.5818, train_label_loss: 0.2944, \n"
     ]
    },
    {
     "name": "stdout",
     "output_type": "stream",
     "text": [
      "epoch: 5, [batch: 840 / 1400], examples_per_second: 14151.0763, train_label_loss: 0.2982, \n"
     ]
    },
    {
     "name": "stdout",
     "output_type": "stream",
     "text": [
      "epoch: 5, [batch: 980 / 1400], examples_per_second: 14095.1378, train_label_loss: 0.2654, \n"
     ]
    },
    {
     "name": "stdout",
     "output_type": "stream",
     "text": [
      "epoch: 5, [batch: 1120 / 1400], examples_per_second: 14297.3420, train_label_loss: 0.2235, \n"
     ]
    },
    {
     "name": "stdout",
     "output_type": "stream",
     "text": [
      "epoch: 5, [batch: 1260 / 1400], examples_per_second: 14121.3813, train_label_loss: 0.2879, \n"
     ]
    },
    {
     "name": "stdout",
     "output_type": "stream",
     "text": [
      "=============================================================\n",
      "epoch: 5, source_val_acc_label: 0.9278, source_val_label_loss: 0.2641, target_val_acc_label: 0.8369, target_val_label_loss: 0.5947, \n",
      "=============================================================\n"
     ]
    },
    {
     "name": "stdout",
     "output_type": "stream",
     "text": [
      "New best\n",
      "epoch: 6, [batch: 1 / 1400], examples_per_second: 85.1141, train_label_loss: 0.1826, \n"
     ]
    },
    {
     "name": "stdout",
     "output_type": "stream",
     "text": [
      "epoch: 6, [batch: 140 / 1400], examples_per_second: 16685.1439, train_label_loss: 0.1344, \n"
     ]
    },
    {
     "name": "stdout",
     "output_type": "stream",
     "text": [
      "epoch: 6, [batch: 280 / 1400], examples_per_second: 17106.8552, train_label_loss: 0.1758, \n"
     ]
    },
    {
     "name": "stdout",
     "output_type": "stream",
     "text": [
      "epoch: 6, [batch: 420 / 1400], examples_per_second: 17044.0776, train_label_loss: 0.2343, \n"
     ]
    },
    {
     "name": "stdout",
     "output_type": "stream",
     "text": [
      "epoch: 6, [batch: 560 / 1400], examples_per_second: 17010.3720, train_label_loss: 0.1690, \n"
     ]
    },
    {
     "name": "stdout",
     "output_type": "stream",
     "text": [
      "epoch: 6, [batch: 700 / 1400], examples_per_second: 14229.5379, train_label_loss: 0.3861, \n"
     ]
    },
    {
     "name": "stdout",
     "output_type": "stream",
     "text": [
      "epoch: 6, [batch: 840 / 1400], examples_per_second: 12800.0275, train_label_loss: 0.3042, \n"
     ]
    },
    {
     "name": "stdout",
     "output_type": "stream",
     "text": [
      "epoch: 6, [batch: 980 / 1400], examples_per_second: 12710.3689, train_label_loss: 0.2725, \n"
     ]
    },
    {
     "name": "stdout",
     "output_type": "stream",
     "text": [
      "epoch: 6, [batch: 1120 / 1400], examples_per_second: 12807.4563, train_label_loss: 0.1968, \n"
     ]
    },
    {
     "name": "stdout",
     "output_type": "stream",
     "text": [
      "epoch: 6, [batch: 1260 / 1400], examples_per_second: 12806.0837, train_label_loss: 0.1990, \n"
     ]
    },
    {
     "name": "stdout",
     "output_type": "stream",
     "text": [
      "=============================================================\n",
      "epoch: 6, source_val_acc_label: 0.9369, source_val_label_loss: 0.2105, target_val_acc_label: 0.8484, target_val_label_loss: 0.5166, \n",
      "=============================================================\n"
     ]
    },
    {
     "name": "stdout",
     "output_type": "stream",
     "text": [
      "New best\n",
      "epoch: 7, [batch: 1 / 1400], examples_per_second: 70.3796, train_label_loss: 0.1671, \n"
     ]
    },
    {
     "name": "stdout",
     "output_type": "stream",
     "text": [
      "epoch: 7, [batch: 140 / 1400], examples_per_second: 12734.0038, train_label_loss: 0.1758, \n"
     ]
    },
    {
     "name": "stdout",
     "output_type": "stream",
     "text": [
      "epoch: 7, [batch: 280 / 1400], examples_per_second: 12800.7469, train_label_loss: 0.2493, \n"
     ]
    },
    {
     "name": "stdout",
     "output_type": "stream",
     "text": [
      "epoch: 7, [batch: 420 / 1400], examples_per_second: 12819.1164, train_label_loss: 0.2120, \n"
     ]
    },
    {
     "name": "stdout",
     "output_type": "stream",
     "text": [
      "epoch: 7, [batch: 560 / 1400], examples_per_second: 12716.7731, train_label_loss: 0.2340, \n"
     ]
    },
    {
     "name": "stdout",
     "output_type": "stream",
     "text": [
      "epoch: 7, [batch: 700 / 1400], examples_per_second: 12775.0778, train_label_loss: 0.3020, \n"
     ]
    },
    {
     "name": "stdout",
     "output_type": "stream",
     "text": [
      "epoch: 7, [batch: 840 / 1400], examples_per_second: 12724.6075, train_label_loss: 0.2544, \n"
     ]
    },
    {
     "name": "stdout",
     "output_type": "stream",
     "text": [
      "epoch: 7, [batch: 980 / 1400], examples_per_second: 12558.5035, train_label_loss: 0.1597, \n"
     ]
    },
    {
     "name": "stdout",
     "output_type": "stream",
     "text": [
      "epoch: 7, [batch: 1120 / 1400], examples_per_second: 12701.3671, train_label_loss: 0.1689, \n"
     ]
    },
    {
     "name": "stdout",
     "output_type": "stream",
     "text": [
      "epoch: 7, [batch: 1260 / 1400], examples_per_second: 12796.2422, train_label_loss: 0.1506, \n"
     ]
    },
    {
     "name": "stdout",
     "output_type": "stream",
     "text": [
      "=============================================================\n",
      "epoch: 7, source_val_acc_label: 0.9466, source_val_label_loss: 0.1826, target_val_acc_label: 0.8494, target_val_label_loss: 0.4988, \n",
      "=============================================================\n"
     ]
    },
    {
     "name": "stdout",
     "output_type": "stream",
     "text": [
      "New best\n",
      "epoch: 8, [batch: 1 / 1400], examples_per_second: 69.6908, train_label_loss: 0.1751, \n"
     ]
    },
    {
     "name": "stdout",
     "output_type": "stream",
     "text": [
      "epoch: 8, [batch: 140 / 1400], examples_per_second: 12638.6429, train_label_loss: 0.2673, \n"
     ]
    },
    {
     "name": "stdout",
     "output_type": "stream",
     "text": [
      "epoch: 8, [batch: 280 / 1400], examples_per_second: 12642.4366, train_label_loss: 0.2602, \n"
     ]
    },
    {
     "name": "stdout",
     "output_type": "stream",
     "text": [
      "epoch: 8, [batch: 420 / 1400], examples_per_second: 12697.1402, train_label_loss: 0.1994, \n"
     ]
    },
    {
     "name": "stdout",
     "output_type": "stream",
     "text": [
      "epoch: 8, [batch: 560 / 1400], examples_per_second: 12674.0769, train_label_loss: 0.2031, \n"
     ]
    },
    {
     "name": "stdout",
     "output_type": "stream",
     "text": [
      "epoch: 8, [batch: 700 / 1400], examples_per_second: 12695.0021, train_label_loss: 0.1664, \n"
     ]
    },
    {
     "name": "stdout",
     "output_type": "stream",
     "text": [
      "epoch: 8, [batch: 840 / 1400], examples_per_second: 12743.3250, train_label_loss: 0.4065, \n"
     ]
    },
    {
     "name": "stdout",
     "output_type": "stream",
     "text": [
      "epoch: 8, [batch: 980 / 1400], examples_per_second: 12574.0589, train_label_loss: 0.1463, \n"
     ]
    },
    {
     "name": "stdout",
     "output_type": "stream",
     "text": [
      "epoch: 8, [batch: 1120 / 1400], examples_per_second: 12537.4442, train_label_loss: 0.1686, \n"
     ]
    },
    {
     "name": "stdout",
     "output_type": "stream",
     "text": [
      "epoch: 8, [batch: 1260 / 1400], examples_per_second: 12695.5682, train_label_loss: 0.1536, \n"
     ]
    },
    {
     "name": "stdout",
     "output_type": "stream",
     "text": [
      "=============================================================\n",
      "epoch: 8, source_val_acc_label: 0.9464, source_val_label_loss: 0.2182, target_val_acc_label: 0.8479, target_val_label_loss: 0.5446, \n",
      "=============================================================\n"
     ]
    },
    {
     "name": "stdout",
     "output_type": "stream",
     "text": [
      "epoch: 9, [batch: 1 / 1400], examples_per_second: 70.2949, train_label_loss: 0.1710, \n"
     ]
    },
    {
     "name": "stdout",
     "output_type": "stream",
     "text": [
      "epoch: 9, [batch: 140 / 1400], examples_per_second: 12627.7636, train_label_loss: 0.1457, \n"
     ]
    },
    {
     "name": "stdout",
     "output_type": "stream",
     "text": [
      "epoch: 9, [batch: 280 / 1400], examples_per_second: 12601.0443, train_label_loss: 0.1656, \n"
     ]
    },
    {
     "name": "stdout",
     "output_type": "stream",
     "text": [
      "epoch: 9, [batch: 420 / 1400], examples_per_second: 12796.9764, train_label_loss: 0.1863, \n"
     ]
    },
    {
     "name": "stdout",
     "output_type": "stream",
     "text": [
      "epoch: 9, [batch: 560 / 1400], examples_per_second: 12753.1913, train_label_loss: 0.1508, \n"
     ]
    },
    {
     "name": "stdout",
     "output_type": "stream",
     "text": [
      "epoch: 9, [batch: 700 / 1400], examples_per_second: 12690.3808, train_label_loss: 0.1484, \n"
     ]
    },
    {
     "name": "stdout",
     "output_type": "stream",
     "text": [
      "epoch: 9, [batch: 840 / 1400], examples_per_second: 12564.6526, train_label_loss: 0.2449, \n"
     ]
    },
    {
     "name": "stdout",
     "output_type": "stream",
     "text": [
      "epoch: 9, [batch: 980 / 1400], examples_per_second: 12738.3598, train_label_loss: 0.1368, \n"
     ]
    },
    {
     "name": "stdout",
     "output_type": "stream",
     "text": [
      "epoch: 9, [batch: 1120 / 1400], examples_per_second: 12822.7030, train_label_loss: 0.1692, \n"
     ]
    },
    {
     "name": "stdout",
     "output_type": "stream",
     "text": [
      "epoch: 9, [batch: 1260 / 1400], examples_per_second: 12390.5882, train_label_loss: 0.1695, \n"
     ]
    },
    {
     "name": "stdout",
     "output_type": "stream",
     "text": [
      "=============================================================\n",
      "epoch: 9, source_val_acc_label: 0.9416, source_val_label_loss: 0.1914, target_val_acc_label: 0.8425, target_val_label_loss: 0.7790, \n",
      "=============================================================\n"
     ]
    },
    {
     "name": "stdout",
     "output_type": "stream",
     "text": [
      "epoch: 10, [batch: 1 / 1400], examples_per_second: 71.7828, train_label_loss: 0.1079, \n"
     ]
    },
    {
     "name": "stdout",
     "output_type": "stream",
     "text": [
      "epoch: 10, [batch: 140 / 1400], examples_per_second: 12588.0181, train_label_loss: 0.1169, \n"
     ]
    },
    {
     "name": "stdout",
     "output_type": "stream",
     "text": [
      "epoch: 10, [batch: 280 / 1400], examples_per_second: 12536.9235, train_label_loss: 0.1365, \n"
     ]
    },
    {
     "name": "stdout",
     "output_type": "stream",
     "text": [
      "epoch: 10, [batch: 420 / 1400], examples_per_second: 12773.2129, train_label_loss: 0.1430, \n"
     ]
    },
    {
     "name": "stdout",
     "output_type": "stream",
     "text": [
      "epoch: 10, [batch: 560 / 1400], examples_per_second: 12835.1097, train_label_loss: 0.1717, \n"
     ]
    },
    {
     "name": "stdout",
     "output_type": "stream",
     "text": [
      "epoch: 10, [batch: 700 / 1400], examples_per_second: 12573.0094, train_label_loss: 0.1716, \n"
     ]
    },
    {
     "name": "stdout",
     "output_type": "stream",
     "text": [
      "epoch: 10, [batch: 840 / 1400], examples_per_second: 12776.3352, train_label_loss: 0.1258, \n"
     ]
    },
    {
     "name": "stdout",
     "output_type": "stream",
     "text": [
      "epoch: 10, [batch: 980 / 1400], examples_per_second: 12576.9583, train_label_loss: 0.1043, \n"
     ]
    },
    {
     "name": "stdout",
     "output_type": "stream",
     "text": [
      "epoch: 10, [batch: 1120 / 1400], examples_per_second: 12788.4129, train_label_loss: 0.1415, \n"
     ]
    },
    {
     "name": "stdout",
     "output_type": "stream",
     "text": [
      "epoch: 10, [batch: 1260 / 1400], examples_per_second: 12691.2958, train_label_loss: 0.1608, \n"
     ]
    },
    {
     "name": "stdout",
     "output_type": "stream",
     "text": [
      "=============================================================\n",
      "epoch: 10, source_val_acc_label: 0.9422, source_val_label_loss: 0.1740, target_val_acc_label: 0.8414, target_val_label_loss: 0.6380, \n",
      "=============================================================\n"
     ]
    },
    {
     "name": "stdout",
     "output_type": "stream",
     "text": [
      "epoch: 11, [batch: 1 / 1400], examples_per_second: 71.4787, train_label_loss: 0.2203, \n"
     ]
    },
    {
     "name": "stdout",
     "output_type": "stream",
     "text": [
      "epoch: 11, [batch: 140 / 1400], examples_per_second: 12787.6130, train_label_loss: 0.1942, \n"
     ]
    },
    {
     "name": "stdout",
     "output_type": "stream",
     "text": [
      "epoch: 11, [batch: 280 / 1400], examples_per_second: 12930.5615, train_label_loss: 0.1114, \n"
     ]
    },
    {
     "name": "stdout",
     "output_type": "stream",
     "text": [
      "epoch: 11, [batch: 420 / 1400], examples_per_second: 12710.1260, train_label_loss: 0.1668, \n"
     ]
    },
    {
     "name": "stdout",
     "output_type": "stream",
     "text": [
      "epoch: 11, [batch: 560 / 1400], examples_per_second: 12810.1215, train_label_loss: 0.1704, \n"
     ]
    },
    {
     "name": "stdout",
     "output_type": "stream",
     "text": [
      "epoch: 11, [batch: 700 / 1400], examples_per_second: 12515.3341, train_label_loss: 0.1367, \n"
     ]
    },
    {
     "name": "stdout",
     "output_type": "stream",
     "text": [
      "epoch: 11, [batch: 840 / 1400], examples_per_second: 12743.5043, train_label_loss: 0.1054, \n"
     ]
    },
    {
     "name": "stdout",
     "output_type": "stream",
     "text": [
      "epoch: 11, [batch: 980 / 1400], examples_per_second: 12612.7526, train_label_loss: 0.0864, \n"
     ]
    },
    {
     "name": "stdout",
     "output_type": "stream",
     "text": [
      "epoch: 11, [batch: 1120 / 1400], examples_per_second: 12648.2297, train_label_loss: 0.1256, \n"
     ]
    },
    {
     "name": "stdout",
     "output_type": "stream",
     "text": [
      "epoch: 11, [batch: 1260 / 1400], examples_per_second: 12560.1341, train_label_loss: 0.1280, \n"
     ]
    },
    {
     "name": "stdout",
     "output_type": "stream",
     "text": [
      "=============================================================\n",
      "epoch: 11, source_val_acc_label: 0.9486, source_val_label_loss: 0.2314, target_val_acc_label: 0.8528, target_val_label_loss: 0.8854, \n",
      "=============================================================\n"
     ]
    },
    {
     "name": "stdout",
     "output_type": "stream",
     "text": [
      "New best\n",
      "epoch: 12, [batch: 1 / 1400], examples_per_second: 69.3129, train_label_loss: 0.1162, \n"
     ]
    },
    {
     "name": "stdout",
     "output_type": "stream",
     "text": [
      "epoch: 12, [batch: 140 / 1400], examples_per_second: 12723.0443, train_label_loss: 0.1247, \n"
     ]
    },
    {
     "name": "stdout",
     "output_type": "stream",
     "text": [
      "epoch: 12, [batch: 280 / 1400], examples_per_second: 12671.8162, train_label_loss: 0.2892, \n"
     ]
    },
    {
     "name": "stdout",
     "output_type": "stream",
     "text": [
      "epoch: 12, [batch: 420 / 1400], examples_per_second: 11424.4660, train_label_loss: 0.1737, \n"
     ]
    },
    {
     "name": "stdout",
     "output_type": "stream",
     "text": [
      "epoch: 12, [batch: 560 / 1400], examples_per_second: 12470.4759, train_label_loss: 0.0812, \n"
     ]
    },
    {
     "name": "stdout",
     "output_type": "stream",
     "text": [
      "epoch: 12, [batch: 700 / 1400], examples_per_second: 12401.7837, train_label_loss: 0.0849, \n"
     ]
    },
    {
     "name": "stdout",
     "output_type": "stream",
     "text": [
      "epoch: 12, [batch: 840 / 1400], examples_per_second: 12441.1379, train_label_loss: 0.1508, \n"
     ]
    },
    {
     "name": "stdout",
     "output_type": "stream",
     "text": [
      "epoch: 12, [batch: 980 / 1400], examples_per_second: 12269.2979, train_label_loss: 0.1715, \n"
     ]
    },
    {
     "name": "stdout",
     "output_type": "stream",
     "text": [
      "epoch: 12, [batch: 1120 / 1400], examples_per_second: 12520.1311, train_label_loss: 0.0955, \n"
     ]
    },
    {
     "name": "stdout",
     "output_type": "stream",
     "text": [
      "epoch: 12, [batch: 1260 / 1400], examples_per_second: 12324.8380, train_label_loss: 0.0518, \n"
     ]
    },
    {
     "name": "stdout",
     "output_type": "stream",
     "text": [
      "=============================================================\n",
      "epoch: 12, source_val_acc_label: 0.9505, source_val_label_loss: 0.1487, target_val_acc_label: 0.8652, target_val_label_loss: 0.5107, \n",
      "=============================================================\n"
     ]
    },
    {
     "name": "stdout",
     "output_type": "stream",
     "text": [
      "New best\n",
      "epoch: 13, [batch: 1 / 1400], examples_per_second: 68.7187, train_label_loss: 0.1171, \n"
     ]
    },
    {
     "name": "stdout",
     "output_type": "stream",
     "text": [
      "epoch: 13, [batch: 140 / 1400], examples_per_second: 12771.0925, train_label_loss: 0.1099, \n"
     ]
    },
    {
     "name": "stdout",
     "output_type": "stream",
     "text": [
      "epoch: 13, [batch: 280 / 1400], examples_per_second: 12664.7317, train_label_loss: 0.0666, \n"
     ]
    },
    {
     "name": "stdout",
     "output_type": "stream",
     "text": [
      "epoch: 13, [batch: 420 / 1400], examples_per_second: 11594.1086, train_label_loss: 0.0718, \n"
     ]
    },
    {
     "name": "stdout",
     "output_type": "stream",
     "text": [
      "epoch: 13, [batch: 560 / 1400], examples_per_second: 12777.0475, train_label_loss: 0.1064, \n"
     ]
    },
    {
     "name": "stdout",
     "output_type": "stream",
     "text": [
      "epoch: 13, [batch: 700 / 1400], examples_per_second: 12716.6397, train_label_loss: 0.0700, \n"
     ]
    },
    {
     "name": "stdout",
     "output_type": "stream",
     "text": [
      "epoch: 13, [batch: 840 / 1400], examples_per_second: 11999.9559, train_label_loss: 0.1011, \n"
     ]
    },
    {
     "name": "stdout",
     "output_type": "stream",
     "text": [
      "epoch: 13, [batch: 980 / 1400], examples_per_second: 10732.1871, train_label_loss: 0.1577, \n"
     ]
    },
    {
     "name": "stdout",
     "output_type": "stream",
     "text": [
      "epoch: 13, [batch: 1120 / 1400], examples_per_second: 10716.8755, train_label_loss: 0.1120, \n"
     ]
    },
    {
     "name": "stdout",
     "output_type": "stream",
     "text": [
      "epoch: 13, [batch: 1260 / 1400], examples_per_second: 10752.5717, train_label_loss: 0.1199, \n"
     ]
    },
    {
     "name": "stdout",
     "output_type": "stream",
     "text": [
      "=============================================================\n",
      "epoch: 13, source_val_acc_label: 0.9492, source_val_label_loss: 0.1656, target_val_acc_label: 0.8518, target_val_label_loss: 0.5399, \n",
      "=============================================================\n"
     ]
    },
    {
     "name": "stdout",
     "output_type": "stream",
     "text": [
      "epoch: 14, [batch: 1 / 1400], examples_per_second: 57.6480, train_label_loss: 0.1122, \n"
     ]
    },
    {
     "name": "stdout",
     "output_type": "stream",
     "text": [
      "epoch: 14, [batch: 140 / 1400], examples_per_second: 10668.9253, train_label_loss: 0.1168, \n"
     ]
    },
    {
     "name": "stdout",
     "output_type": "stream",
     "text": [
      "epoch: 14, [batch: 280 / 1400], examples_per_second: 10717.8566, train_label_loss: 0.1284, \n"
     ]
    },
    {
     "name": "stdout",
     "output_type": "stream",
     "text": [
      "epoch: 14, [batch: 420 / 1400], examples_per_second: 10690.1875, train_label_loss: 0.1442, \n"
     ]
    },
    {
     "name": "stdout",
     "output_type": "stream",
     "text": [
      "epoch: 14, [batch: 560 / 1400], examples_per_second: 10717.4348, train_label_loss: 0.0731, \n"
     ]
    },
    {
     "name": "stdout",
     "output_type": "stream",
     "text": [
      "epoch: 14, [batch: 700 / 1400], examples_per_second: 10588.0257, train_label_loss: 0.0862, \n"
     ]
    },
    {
     "name": "stdout",
     "output_type": "stream",
     "text": [
      "epoch: 14, [batch: 840 / 1400], examples_per_second: 10666.7571, train_label_loss: 0.0918, \n"
     ]
    },
    {
     "name": "stdout",
     "output_type": "stream",
     "text": [
      "epoch: 14, [batch: 980 / 1400], examples_per_second: 10763.1005, train_label_loss: 0.0926, \n"
     ]
    },
    {
     "name": "stdout",
     "output_type": "stream",
     "text": [
      "epoch: 14, [batch: 1120 / 1400], examples_per_second: 10664.2508, train_label_loss: 0.0758, \n"
     ]
    },
    {
     "name": "stdout",
     "output_type": "stream",
     "text": [
      "epoch: 14, [batch: 1260 / 1400], examples_per_second: 10687.3663, train_label_loss: 0.0907, \n"
     ]
    },
    {
     "name": "stdout",
     "output_type": "stream",
     "text": [
      "=============================================================\n",
      "epoch: 14, source_val_acc_label: 0.9519, source_val_label_loss: 0.1656, target_val_acc_label: 0.8598, target_val_label_loss: 0.7722, \n",
      "=============================================================\n"
     ]
    },
    {
     "name": "stdout",
     "output_type": "stream",
     "text": [
      "epoch: 15, [batch: 1 / 1400], examples_per_second: 57.5118, train_label_loss: 0.0554, \n"
     ]
    },
    {
     "name": "stdout",
     "output_type": "stream",
     "text": [
      "epoch: 15, [batch: 140 / 1400], examples_per_second: 10598.1118, train_label_loss: 0.1031, \n"
     ]
    },
    {
     "name": "stdout",
     "output_type": "stream",
     "text": [
      "epoch: 15, [batch: 280 / 1400], examples_per_second: 10601.0000, train_label_loss: 0.0966, \n"
     ]
    },
    {
     "name": "stdout",
     "output_type": "stream",
     "text": [
      "epoch: 15, [batch: 420 / 1400], examples_per_second: 10662.5489, train_label_loss: 0.0907, \n"
     ]
    },
    {
     "name": "stdout",
     "output_type": "stream",
     "text": [
      "epoch: 15, [batch: 560 / 1400], examples_per_second: 10674.8681, train_label_loss: 0.0588, \n"
     ]
    },
    {
     "name": "stdout",
     "output_type": "stream",
     "text": [
      "epoch: 15, [batch: 700 / 1400], examples_per_second: 10603.9808, train_label_loss: 0.1059, \n"
     ]
    },
    {
     "name": "stdout",
     "output_type": "stream",
     "text": [
      "epoch: 15, [batch: 840 / 1400], examples_per_second: 10654.7360, train_label_loss: 0.0865, \n"
     ]
    },
    {
     "name": "stdout",
     "output_type": "stream",
     "text": [
      "epoch: 15, [batch: 980 / 1400], examples_per_second: 10712.2521, train_label_loss: 0.0714, \n"
     ]
    },
    {
     "name": "stdout",
     "output_type": "stream",
     "text": [
      "epoch: 15, [batch: 1120 / 1400], examples_per_second: 10665.2299, train_label_loss: 0.0742, \n"
     ]
    },
    {
     "name": "stdout",
     "output_type": "stream",
     "text": [
      "epoch: 15, [batch: 1260 / 1400], examples_per_second: 10706.7678, train_label_loss: 0.0798, \n"
     ]
    },
    {
     "name": "stdout",
     "output_type": "stream",
     "text": [
      "=============================================================\n",
      "epoch: 15, source_val_acc_label: 0.9614, source_val_label_loss: 0.1271, target_val_acc_label: 0.8583, target_val_label_loss: 0.7423, \n",
      "=============================================================\n"
     ]
    },
    {
     "name": "stdout",
     "output_type": "stream",
     "text": [
      "epoch: 16, [batch: 1 / 1400], examples_per_second: 57.2074, train_label_loss: 0.1054, \n"
     ]
    },
    {
     "name": "stdout",
     "output_type": "stream",
     "text": [
      "epoch: 16, [batch: 140 / 1400], examples_per_second: 10794.6673, train_label_loss: 0.0877, \n"
     ]
    },
    {
     "name": "stdout",
     "output_type": "stream",
     "text": [
      "epoch: 16, [batch: 280 / 1400], examples_per_second: 10724.8763, train_label_loss: 0.1606, \n"
     ]
    },
    {
     "name": "stdout",
     "output_type": "stream",
     "text": [
      "epoch: 16, [batch: 420 / 1400], examples_per_second: 10634.2613, train_label_loss: 0.0810, \n"
     ]
    },
    {
     "name": "stdout",
     "output_type": "stream",
     "text": [
      "epoch: 16, [batch: 560 / 1400], examples_per_second: 10620.0260, train_label_loss: 0.0680, \n"
     ]
    },
    {
     "name": "stdout",
     "output_type": "stream",
     "text": [
      "epoch: 16, [batch: 700 / 1400], examples_per_second: 10705.1895, train_label_loss: 0.1092, \n"
     ]
    },
    {
     "name": "stdout",
     "output_type": "stream",
     "text": [
      "epoch: 16, [batch: 840 / 1400], examples_per_second: 10691.0983, train_label_loss: 0.1860, \n"
     ]
    },
    {
     "name": "stdout",
     "output_type": "stream",
     "text": [
      "epoch: 16, [batch: 980 / 1400], examples_per_second: 10668.3226, train_label_loss: 0.0640, \n"
     ]
    },
    {
     "name": "stdout",
     "output_type": "stream",
     "text": [
      "epoch: 16, [batch: 1120 / 1400], examples_per_second: 10643.3267, train_label_loss: 0.0736, \n"
     ]
    },
    {
     "name": "stdout",
     "output_type": "stream",
     "text": [
      "epoch: 16, [batch: 1260 / 1400], examples_per_second: 10686.8906, train_label_loss: 0.0739, \n"
     ]
    },
    {
     "name": "stdout",
     "output_type": "stream",
     "text": [
      "=============================================================\n",
      "epoch: 16, source_val_acc_label: 0.9590, source_val_label_loss: 0.1266, target_val_acc_label: 0.8598, target_val_label_loss: 0.4933, \n",
      "=============================================================\n"
     ]
    },
    {
     "name": "stdout",
     "output_type": "stream",
     "text": [
      "Patience (3) exhausted\n"
     ]
    }
   ],
   "source": [
    "jig = Vanilla_Train_Eval_Test_Jig(\n",
    "    model=model,\n",
    "    path_to_best_model=p.BEST_MODEL_PATH,\n",
    "    device=p.device,\n",
    "    label_loss_object=torch.nn.NLLLoss(),\n",
    ")\n",
    "\n",
    "jig.train(\n",
    "    train_iterable=datasets.source.processed.train,\n",
    "    source_val_iterable=datasets.source.processed.val,\n",
    "    target_val_iterable=datasets.target.processed.val,\n",
    "    patience=p.patience,\n",
    "    num_epochs=p.n_epoch,\n",
    "    num_logs_per_epoch=p.NUM_LOGS_PER_EPOCH,\n",
    "    criteria_for_best=p.criteria_for_best\n",
    ")"
   ]
  },
  {
   "cell_type": "code",
   "execution_count": 14,
   "id": "4bc2ac17",
   "metadata": {
    "execution": {
     "iopub.execute_input": "2022-03-28T03:48:47.264290Z",
     "iopub.status.busy": "2022-03-28T03:48:47.263919Z",
     "iopub.status.idle": "2022-03-28T03:48:47.266634Z",
     "shell.execute_reply": "2022-03-28T03:48:47.266270Z"
    },
    "papermill": {
     "duration": 0.070254,
     "end_time": "2022-03-28T03:48:47.266709",
     "exception": false,
     "start_time": "2022-03-28T03:48:47.196455",
     "status": "completed"
    },
    "tags": []
   },
   "outputs": [],
   "source": [
    "total_experiment_time_secs = time.time() - start_time_secs"
   ]
  },
  {
   "cell_type": "code",
   "execution_count": 15,
   "id": "cae88f23",
   "metadata": {
    "execution": {
     "iopub.execute_input": "2022-03-28T03:48:47.432598Z",
     "iopub.status.busy": "2022-03-28T03:48:47.431678Z",
     "iopub.status.idle": "2022-03-28T03:49:11.028554Z",
     "shell.execute_reply": "2022-03-28T03:49:11.029113Z"
    },
    "papermill": {
     "duration": 23.700082,
     "end_time": "2022-03-28T03:49:11.029299",
     "exception": false,
     "start_time": "2022-03-28T03:48:47.329217",
     "status": "completed"
    },
    "tags": []
   },
   "outputs": [],
   "source": [
    "source_test_label_accuracy, source_test_label_loss = jig.test(datasets.source.processed.test)\n",
    "target_test_label_accuracy, target_test_label_loss = jig.test(datasets.target.processed.test)\n",
    "\n",
    "source_val_label_accuracy, source_val_label_loss = jig.test(datasets.source.processed.val)\n",
    "target_val_label_accuracy, target_val_label_loss = jig.test(datasets.target.processed.val)\n",
    "\n",
    "history = jig.get_history()\n",
    "\n",
    "total_epochs_trained = len(history[\"epoch_indices\"])\n",
    "\n",
    "val_dl = wrap_in_dataloader(p, Sequence_Aggregator((datasets.source.original.val, datasets.target.original.val)))\n",
    "\n",
    "confusion = confusion_by_domain_over_dataloader(model, p.device, val_dl, forward_uses_domain=False)\n",
    "per_domain_accuracy = per_domain_accuracy_from_confusion(confusion)\n",
    "\n",
    "# Add a key to per_domain_accuracy for if it was a source domain\n",
    "for domain, accuracy in per_domain_accuracy.items():\n",
    "    per_domain_accuracy[domain] = {\n",
    "        \"accuracy\": accuracy,\n",
    "        \"source?\": domain in p.domains_source\n",
    "    }\n",
    "\n",
    "# Do an independent accuracy assesment JUST TO BE SURE!\n",
    "# _source_test_label_accuracy = independent_accuracy_assesment(model, datasets.source.processed.test, p.device)\n",
    "# _target_test_label_accuracy = independent_accuracy_assesment(model, datasets.target.processed.test, p.device)\n",
    "# _source_val_label_accuracy = independent_accuracy_assesment(model, datasets.source.processed.val, p.device)\n",
    "# _target_val_label_accuracy = independent_accuracy_assesment(model, datasets.target.processed.val, p.device)\n",
    "\n",
    "# assert(_source_test_label_accuracy == source_test_label_accuracy)\n",
    "# assert(_target_test_label_accuracy == target_test_label_accuracy)\n",
    "# assert(_source_val_label_accuracy == source_val_label_accuracy)\n",
    "# assert(_target_val_label_accuracy == target_val_label_accuracy)\n",
    "\n",
    "###################################\n",
    "# Write out the results\n",
    "###################################\n",
    "\n",
    "experiment = {\n",
    "    \"experiment_name\": p.experiment_name,\n",
    "    \"parameters\": p,\n",
    "    \"results\": {\n",
    "        \"source_test_label_accuracy\": source_test_label_accuracy,\n",
    "        \"source_test_label_loss\": source_test_label_loss,\n",
    "        \"target_test_label_accuracy\": target_test_label_accuracy,\n",
    "        \"target_test_label_loss\": target_test_label_loss,\n",
    "        \"source_val_label_accuracy\": source_val_label_accuracy,\n",
    "        \"source_val_label_loss\": source_val_label_loss,\n",
    "        \"target_val_label_accuracy\": target_val_label_accuracy,\n",
    "        \"target_val_label_loss\": target_val_label_loss,\n",
    "        \"total_epochs_trained\": total_epochs_trained,\n",
    "        \"total_experiment_time_secs\": total_experiment_time_secs,\n",
    "        \"confusion\": confusion,\n",
    "        \"per_domain_accuracy\": per_domain_accuracy,\n",
    "    },\n",
    "    \"history\": history,\n",
    "    \"dataset_metrics\": get_dataset_metrics(datasets, \"cnn\"),\n",
    "}"
   ]
  },
  {
   "cell_type": "code",
   "execution_count": 16,
   "id": "74c318cf",
   "metadata": {
    "execution": {
     "iopub.execute_input": "2022-03-28T03:49:11.178883Z",
     "iopub.status.busy": "2022-03-28T03:49:11.175594Z",
     "iopub.status.idle": "2022-03-28T03:49:11.375683Z",
     "shell.execute_reply": "2022-03-28T03:49:11.376363Z"
    },
    "papermill": {
     "duration": 0.279762,
     "end_time": "2022-03-28T03:49:11.376557",
     "exception": false,
     "start_time": "2022-03-28T03:49:11.096795",
     "status": "completed"
    },
    "tags": []
   },
   "outputs": [
    {
     "data": {
      "text/plain": [
       "<AxesSubplot:title={'center':'Source Train Label Loss vs Source Val Label Loss'}, xlabel='Epoch'>"
      ]
     },
     "execution_count": 16,
     "metadata": {},
     "output_type": "execute_result"
    },
    {
     "data": {
      "image/png": "[encoded data removed]",
      "text/plain": [
       "<Figure size 1080x504 with 1 Axes>"
      ]
     },
     "metadata": {
      "needs_background": "light"
     },
     "output_type": "display_data"
    }
   ],
   "source": [
    "get_loss_curve(experiment)"
   ]
  },
  {
   "cell_type": "code",
   "execution_count": 17,
   "id": "59376601",
   "metadata": {
    "execution": {
     "iopub.execute_input": "2022-03-28T03:49:11.532444Z",
     "iopub.status.busy": "2022-03-28T03:49:11.522703Z",
     "iopub.status.idle": "2022-03-28T03:49:11.847055Z",
     "shell.execute_reply": "2022-03-28T03:49:11.847781Z"
    },
    "papermill": {
     "duration": 0.399912,
     "end_time": "2022-03-28T03:49:11.847970",
     "exception": false,
     "start_time": "2022-03-28T03:49:11.448058",
     "status": "completed"
    },
    "tags": []
   },
   "outputs": [
    {
     "data": {
      "text/plain": [
       "<AxesSubplot:title={'center':'Results'}>"
      ]
     },
     "execution_count": 17,
     "metadata": {},
     "output_type": "execute_result"
    },
    {
     "data": {
      "image/png": "[encoded data removed]",
      "text/plain": [
       "<Figure size 1080x504 with 1 Axes>"
      ]
     },
     "metadata": {
      "needs_background": "light"
     },
     "output_type": "display_data"
    }
   ],
   "source": [
    "get_results_table(experiment)"
   ]
  },
  {
   "cell_type": "code",
   "execution_count": 18,
   "id": "e80c5c98",
   "metadata": {
    "execution": {
     "iopub.execute_input": "2022-03-28T03:49:12.006654Z",
     "iopub.status.busy": "2022-03-28T03:49:12.005836Z",
     "iopub.status.idle": "2022-03-28T03:49:12.167543Z",
     "shell.execute_reply": "2022-03-28T03:49:12.166716Z"
    },
    "papermill": {
     "duration": 0.247339,
     "end_time": "2022-03-28T03:49:12.167702",
     "exception": false,
     "start_time": "2022-03-28T03:49:11.920363",
     "status": "completed"
    },
    "tags": []
   },
   "outputs": [
    {
     "data": {
      "text/plain": [
       "<AxesSubplot:title={'center':'Per Domain Accuracy'}, xlabel='domain'>"
      ]
     },
     "execution_count": 18,
     "metadata": {},
     "output_type": "execute_result"
    },
    {
     "data": {
      "image/png": "[encoded data removed]",
      "text/plain": [
       "<Figure size 1080x504 with 1 Axes>"
      ]
     },
     "metadata": {
      "needs_background": "light"
     },
     "output_type": "display_data"
    }
   ],
   "source": [
    "get_domain_accuracies(experiment)"
   ]
  },
  {
   "cell_type": "code",
   "execution_count": 19,
   "id": "086fdd10",
   "metadata": {
    "execution": {
     "iopub.execute_input": "2022-03-28T03:49:12.310416Z",
     "iopub.status.busy": "2022-03-28T03:49:12.310043Z",
     "iopub.status.idle": "2022-03-28T03:49:12.313834Z",
     "shell.execute_reply": "2022-03-28T03:49:12.313515Z"
    },
    "papermill": {
     "duration": 0.074397,
     "end_time": "2022-03-28T03:49:12.313904",
     "exception": false,
     "start_time": "2022-03-28T03:49:12.239507",
     "status": "completed"
    },
    "tags": []
   },
   "outputs": [
    {
     "name": "stdout",
     "output_type": "stream",
     "text": [
      "Source Test Label Accuracy: 0.9497135416666667 Target Test Label Accuracy: 0.8655208333333333\n",
      "Source Val Label Accuracy: 0.9505208333333334 Target Val Label Accuracy: 0.865234375\n"
     ]
    }
   ],
   "source": [
    "print(\"Source Test Label Accuracy:\", experiment[\"results\"][\"source_test_label_accuracy\"], \"Target Test Label Accuracy:\", experiment[\"results\"][\"target_test_label_accuracy\"])\n",
    "print(\"Source Val Label Accuracy:\", experiment[\"results\"][\"source_val_label_accuracy\"], \"Target Val Label Accuracy:\", experiment[\"results\"][\"target_val_label_accuracy\"])"
   ]
  },
  {
   "cell_type": "code",
   "execution_count": 20,
   "id": "9f450536",
   "metadata": {
    "execution": {
     "iopub.execute_input": "2022-03-28T03:49:12.456264Z",
     "iopub.status.busy": "2022-03-28T03:49:12.455896Z",
     "iopub.status.idle": "2022-03-28T03:49:12.459214Z",
     "shell.execute_reply": "2022-03-28T03:49:12.458893Z"
    },
    "papermill": {
     "duration": 0.074259,
     "end_time": "2022-03-28T03:49:12.459284",
     "exception": false,
     "start_time": "2022-03-28T03:49:12.385025",
     "status": "completed"
    },
    "tags": [
     "experiment_json"
    ]
   },
   "outputs": [
    {
     "data": {
      "text/plain": [
       "'{\"experiment_name\": \"cnn_3:oracle.run1.framed-oracle.run2.framed\", \"parameters\": {\"experiment_name\": \"cnn_3:oracle.run1.framed-oracle.run2.framed\", \"labels\": [\"3123D52\", \"3123D65\", \"3123D79\", \"3123D80\", \"3123D54\", \"3123D70\", \"3123D7B\", \"3123D89\", \"3123D58\", \"3123D76\", \"3123D7D\", \"3123EFE\", \"3123D64\", \"3123D78\", \"3123D7E\", \"3124E4A\"], \"domains_source\": [8, 32, 50, 14, 20, 26, 38, 44], \"domains_target\": [8, 32, 50, 14, 20, 26, 38, 44], \"pickle_name_source\": \"oracle.Run1_framed_2000Examples_stratified_ds.2022A.pkl\", \"pickle_name_target\": \"oracle.Run2_framed_2000Examples_stratified_ds.2022A.pkl\", \"device\": \"cuda\", \"lr\": 0.0001, \"batch_size\": 128, \"normalize_source\": false, \"normalize_target\": false, \"num_examples_per_domain_per_label_source\": -1, \"num_examples_per_domain_per_label_target\": -1, \"torch_default_dtype\": \"torch.float32\", \"n_epoch\": 50, \"patience\": 3, \"criteria_for_best\": \"target_accuracy\", \"x_net\": [{\"class\": \"nnReshape\", \"kargs\": {\"shape\": [-1, 1, 2, 256]}}, {\"class\": \"Conv2d\", \"kargs\": {\"in_channels\": 1, \"out_channels\": 256, \"kernel_size\": [1, 7], \"bias\": false, \"padding\": [0, 3]}}, {\"class\": \"ReLU\", \"kargs\": {\"inplace\": true}}, {\"class\": \"BatchNorm2d\", \"kargs\": {\"num_features\": 256}}, {\"class\": \"Conv2d\", \"kargs\": {\"in_channels\": 256, \"out_channels\": 80, \"kernel_size\": [2, 7], \"bias\": true, \"padding\": [0, 3]}}, {\"class\": \"ReLU\", \"kargs\": {\"inplace\": true}}, {\"class\": \"BatchNorm2d\", \"kargs\": {\"num_features\": 80}}, {\"class\": \"Flatten\", \"kargs\": {}}, {\"class\": \"Linear\", \"kargs\": {\"in_features\": 20480, \"out_features\": 256}}, {\"class\": \"ReLU\", \"kargs\": {\"inplace\": true}}, {\"class\": \"BatchNorm1d\", \"kargs\": {\"num_features\": 256}}, {\"class\": \"Linear\", \"kargs\": {\"in_features\": 256, \"out_features\": 16}}], \"NUM_LOGS_PER_EPOCH\": 10, \"BEST_MODEL_PATH\": \"./best_model.pth\", \"dataset_seed\": 500, \"seed\": 500}, \"results\": {\"source_test_label_accuracy\": 0.9497135416666667, \"source_test_label_loss\": 0.261937478830417, \"target_test_label_accuracy\": 0.8655208333333333, \"target_test_label_loss\": 0.5090795402725538, \"source_val_label_accuracy\": 0.9505208333333334, \"source_val_label_loss\": 0.1487491460517049, \"target_val_label_accuracy\": 0.865234375, \"target_val_label_loss\": 0.5107041609287262, \"total_epochs_trained\": 16, \"total_experiment_time_secs\": 280.08661460876465, \"confusion\": {\"8\": {\"7\": {\"6\": 71, \"7\": 523, \"13\": 5, \"1\": 1}, \"2\": {\"3\": 31, \"2\": 381, \"1\": 177, \"9\": 3, \"13\": 8}, \"13\": {\"13\": 513, \"1\": 63, \"10\": 8, \"6\": 16}, \"6\": {\"6\": 520, \"7\": 58, \"0\": 8, \"13\": 6, \"4\": 7, \"14\": 1}, \"5\": {\"5\": 597, \"14\": 1, \"10\": 2}, \"1\": {\"1\": 599, \"4\": 1}, \"9\": {\"9\": 595, \"10\": 5}, \"15\": {\"15\": 576, \"12\": 18, \"3\": 6}, \"11\": {\"11\": 299, \"8\": 299, \"1\": 2}, \"8\": {\"8\": 597, \"6\": 3}, \"4\": {\"4\": 265, \"6\": 303, \"13\": 8, \"7\": 22, \"12\": 2}, \"10\": {\"13\": 189, \"10\": 411}, \"3\": {\"3\": 598, \"2\": 2}, \"0\": {\"0\": 599, \"4\": 1}, \"12\": {\"12\": 553, \"4\": 14, \"3\": 13, \"15\": 18, \"10\": 2}, \"14\": {\"14\": 600}}, \"38\": {\"7\": {\"7\": 589, \"4\": 3, \"10\": 4, \"8\": 3, \"0\": 1}, \"11\": {\"11\": 595, \"5\": 5}, \"1\": {\"1\": 516, \"9\": 4, \"15\": 75, \"6\": 4, \"2\": 1}, \"10\": {\"10\": 552, \"0\": 41, \"7\": 1, \"11\": 1, \"4\": 1, \"13\": 4}, \"0\": {\"9\": 114, \"0\": 304, \"7\": 137, \"11\": 9, \"13\": 17, \"4\": 11, \"10\": 8}, \"15\": {\"15\": 380, \"1\": 198, \"8\": 12, \"6\": 9, \"11\": 1}, \"4\": {\"4\": 598, \"10\": 2}, \"8\": {\"8\": 507, \"11\": 12, \"4\": 2, \"7\": 55, \"0\": 3, \"15\": 20, \"13\": 1}, \"14\": {\"14\": 592, \"5\": 1, \"10\": 5, \"7\": 1, \"2\": 1}, \"5\": {\"5\": 600}, \"6\": {\"6\": 598, \"11\": 1, \"0\": 1}, \"9\": {\"9\": 600}, \"13\": {\"13\": 401, \"0\": 153, \"10\": 38, \"4\": 8}, \"3\": {\"0\": 315, \"3\": 251, \"9\": 20, \"13\": 11, \"11\": 1, \"10\": 2}, \"2\": {\"2\": 536, \"7\": 52, \"14\": 7, \"13\": 5}, \"12\": {\"12\": 600}}, \"26\": {\"10\": {\"10\": 393, \"8\": 11, \"0\": 157, \"6\": 6, \"12\": 7, \"1\": 17, \"7\": 5, \"15\": 2, \"9\": 1, \"2\": 1}, \"1\": {\"1\": 596, \"0\": 4}, \"8\": {\"0\": 14, \"8\": 499, \"2\": 18, \"7\": 67, \"10\": 2}, \"3\": {\"3\": 583, \"7\": 8, \"2\": 7, \"13\": 2}, \"7\": {\"7\": 457, \"3\": 77, \"2\": 53, \"4\": 3, \"8\": 10}, \"15\": {\"15\": 447, \"7\": 87, \"0\": 29, \"2\": 17, \"6\": 17, \"13\": 1, \"3\": 2}, \"13\": {\"13\": 573, \"0\": 2, \"2\": 10, \"9\": 10, \"8\": 3, \"15\": 1, \"3\": 1}, \"4\": {\"4\": 597, \"7\": 1, \"3\": 1, \"6\": 1}, \"9\": {\"9\": 588, \"13\": 7, \"0\": 3, \"2\": 1, \"15\": 1}, \"14\": {\"14\": 599, \"10\": 1}, \"11\": {\"11\": 600}, \"6\": {\"6\": 584, \"10\": 7, \"15\": 6, \"0\": 1, \"9\": 1, \"12\": 1}, \"0\": {\"0\": 548, \"7\": 3, \"10\": 23, \"1\": 17, \"6\": 3, \"8\": 5, \"15\": 1}, \"12\": {\"12\": 600}, \"5\": {\"5\": 600}, \"2\": {\"3\": 79, \"2\": 406, \"7\": 98, \"8\": 11, \"13\": 4, \"15\": 2}}, \"50\": {\"0\": {\"0\": 565, \"2\": 31, \"12\": 1, \"10\": 2, \"1\": 1}, \"11\": {\"11\": 597, \"8\": 1, \"7\": 1, \"9\": 1}, \"3\": {\"3\": 598, \"7\": 2}, \"12\": {\"12\": 593, \"9\": 5, \"11\": 2}, \"8\": {\"8\": 577, \"3\": 10, \"1\": 10, \"10\": 3}, \"14\": {\"14\": 600}, \"15\": {\"15\": 514, \"4\": 56, \"11\": 28, \"6\": 1, \"0\": 1}, \"7\": {\"7\": 600}, \"10\": {\"10\": 572, \"13\": 19, \"0\": 9}, \"4\": {\"0\": 47, \"4\": 512, \"7\": 27, \"15\": 3, \"13\": 4, \"8\": 3, \"6\": 4}, \"1\": {\"15\": 24, \"1\": 571, \"13\": 4, \"8\": 1}, \"13\": {\"13\": 582, \"10\": 13, \"7\": 2, \"15\": 2, \"8\": 1}, \"9\": {\"9\": 594, \"11\": 5, \"0\": 1}, \"6\": {\"6\": 557, \"15\": 41, \"4\": 2}, \"2\": {\"2\": 591, \"1\": 1, \"0\": 7, \"7\": 1}, \"5\": {\"5\": 592, \"14\": 5, \"7\": 2, \"4\": 1}}, \"32\": {\"8\": {\"8\": 584, \"0\": 15, \"13\": 1}, \"5\": {\"5\": 600}, \"6\": {\"6\": 600}, \"3\": {\"3\": 560, \"13\": 26, \"12\": 14}, \"4\": {\"4\": 530, \"13\": 58, \"3\": 10, \"2\": 1, \"0\": 1}, \"2\": {\"2\": 550, \"7\": 27, \"4\": 14, \"3\": 7, \"11\": 1, \"14\": 1}, \"0\": {\"0\": 569, \"8\": 31}, \"14\": {\"14\": 598, \"11\": 1, \"9\": 1}, \"7\": {\"7\": 570, \"0\": 10, \"3\": 15, \"1\": 2, \"4\": 1, \"8\": 2}, \"11\": {\"11\": 377, \"0\": 63, \"13\": 88, \"7\": 24, \"8\": 14, \"14\": 17, \"2\": 10, \"3\": 7}, \"1\": {\"1\": 599, \"7\": 1}, \"12\": {\"12\": 600}, \"9\": {\"9\": 589, \"2\": 7, \"1\": 3, \"14\": 1}, \"13\": {\"13\": 572, \"3\": 24, \"4\": 4}, \"15\": {\"15\": 592, \"8\": 7, \"0\": 1}, \"10\": {\"10\": 600}}, \"14\": {\"12\": {\"12\": 478, \"0\": 46, \"3\": 15, \"6\": 18, \"11\": 8, \"8\": 1, \"15\": 6, \"9\": 7, \"2\": 8, \"7\": 10, \"4\": 1, \"10\": 1, \"13\": 1}, \"6\": {\"6\": 532, \"13\": 68}, \"3\": {\"3\": 599, \"2\": 1}, \"0\": {\"0\": 598, \"3\": 1, \"13\": 1}, \"2\": {\"2\": 534, \"3\": 18, \"13\": 40, \"6\": 8}, \"9\": {\"9\": 594, \"0\": 6}, \"13\": {\"13\": 535, \"6\": 65}, \"11\": {\"11\": 570, \"2\": 7, \"7\": 16, \"13\": 5, \"15\": 2}, \"1\": {\"1\": 600}, \"4\": {\"4\": 599, \"6\": 1}, \"10\": {\"10\": 368, \"3\": 208, \"2\": 13, \"1\": 1, \"4\": 5, \"12\": 3, \"9\": 1, \"13\": 1}, \"5\": {\"5\": 600}, \"14\": {\"14\": 600}, \"15\": {\"15\": 600}, \"8\": {\"8\": 600}, \"7\": {\"7\": 600}}, \"20\": {\"15\": {\"15\": 506, \"13\": 53, \"9\": 11, \"1\": 18, \"0\": 7, \"7\": 2, \"2\": 3}, \"3\": {\"9\": 92, \"3\": 282, \"10\": 9, \"2\": 200, \"7\": 14, \"15\": 2, \"12\": 1}, \"0\": {\"0\": 600}, \"14\": {\"14\": 596, \"8\": 4}, \"2\": {\"13\": 6, \"2\": 517, \"12\": 3, \"9\": 49, \"3\": 22, \"1\": 3}, \"11\": {\"11\": 593, \"0\": 4, \"8\": 1, \"13\": 2}, \"10\": {\"10\": 599, \"12\": 1}, \"1\": {\"2\": 49, \"1\": 511, \"15\": 17, \"12\": 12, \"9\": 5, \"3\": 6}, \"12\": {\"12\": 551, \"15\": 4, \"4\": 4, \"1\": 20, \"2\": 8, \"9\": 10, \"3\": 2, \"13\": 1}, \"8\": {\"8\": 595, \"7\": 5}, \"5\": {\"5\": 600}, \"6\": {\"6\": 600}, \"13\": {\"13\": 582, \"2\": 1, \"15\": 16, \"7\": 1}, \"7\": {\"7\": 540, \"4\": 13, \"2\": 35, \"3\": 2, \"9\": 4, \"6\": 5, \"10\": 1}, \"9\": {\"12\": 3, \"9\": 521, \"2\": 66, \"3\": 10}, \"4\": {\"4\": 505, \"12\": 71, \"0\": 7, \"7\": 1, \"15\": 16}}, \"44\": {\"0\": {\"0\": 455, \"8\": 128, \"15\": 16, \"6\": 1}, \"2\": {\"2\": 576, \"8\": 9, \"7\": 3, \"1\": 3, \"10\": 3, \"9\": 6}, \"13\": {\"13\": 523, \"9\": 3, \"7\": 7, \"4\": 22, \"0\": 31, \"6\": 9, \"15\": 4, \"11\": 1}, \"8\": {\"8\": 509, \"15\": 41, \"0\": 48, \"7\": 1, \"6\": 1}, \"5\": {\"5\": 597, \"14\": 3}, \"15\": {\"15\": 551, \"4\": 36, \"11\": 5, \"6\": 3, \"0\": 5}, \"12\": {\"12\": 565, \"3\": 30, \"13\": 2, \"1\": 2, \"8\": 1}, \"6\": {\"6\": 470, \"13\": 105, \"9\": 24, \"7\": 1}, \"7\": {\"7\": 492, \"9\": 96, \"10\": 4, \"2\": 6, \"6\": 2}, \"10\": {\"10\": 592, \"7\": 3, \"1\": 4, \"2\": 1}, \"14\": {\"14\": 597, \"11\": 3}, \"3\": {\"3\": 588, \"7\": 6, \"12\": 3, \"13\": 2, \"4\": 1}, \"1\": {\"1\": 568, \"8\": 5, \"2\": 17, \"12\": 3, \"10\": 4, \"7\": 3}, \"11\": {\"11\": 590, \"13\": 8, \"0\": 1, \"5\": 1}, \"4\": {\"0\": 44, \"4\": 515, \"15\": 28, \"11\": 12, \"6\": 1}, \"9\": {\"9\": 412, \"6\": 7, \"7\": 144, \"13\": 34, \"2\": 3}}}, \"per_domain_accuracy\": {\"8\": {\"accuracy\": 0.856875, \"source?\": true}, \"38\": {\"accuracy\": 0.8561458333333334, \"source?\": true}, \"26\": {\"accuracy\": 0.903125, \"source?\": true}, \"50\": {\"accuracy\": 0.9598958333333333, \"source?\": true}, \"32\": {\"accuracy\": 0.946875, \"source?\": true}, \"14\": {\"accuracy\": 0.9382291666666667, \"source?\": true}, \"20\": {\"accuracy\": 0.9060416666666666, \"source?\": true}, \"44\": {\"accuracy\": 0.8958333333333334, \"source?\": true}}}, \"history\": {\"epoch_indices\": [1, 2, 3, 4, 5, 6, 7, 8, 9, 10, 11, 12, 13, 14, 15, 16], \"train_label_loss\": [2.2081787651777267, 1.1207938226205962, 0.6011626704675811, 0.38843017401439806, 0.2955045303649136, 0.24084144722670317, 0.20718301834272487, 0.18661771243704217, 0.17012335058833872, 0.15289160481254968, 0.14038661056065133, 0.13351150237822107, 0.12893890240628805, 0.11016506538460297, 0.10708083980849811, 0.10347700692447169], \"source_val_label_loss\": [1.52405250787735, 0.7253206253051758, 0.4448867121338844, 0.3442370908955733, 0.2641056850552559, 0.21052626349031925, 0.18258203074336052, 0.2182344866047303, 0.19144164005915323, 0.173968525826931, 0.23135684723655384, 0.148749143568178, 0.16562919011960428, 0.16555993739515543, 0.12708287549515565, 0.12660870378216108], \"target_val_label_loss\": [1.586365640560786, 0.8876263119777044, 0.6584421216448149, 0.6043928734461467, 0.5946783841649691, 0.5166237812240918, 0.498779577811559, 0.5445750559369723, 0.7789511593182882, 0.6380433447659015, 0.8853517997761567, 0.5107041609783968, 0.5398589166502158, 0.772206679135561, 0.7423079645136992, 0.4933048194646835], \"source_val_acc_label\": [0.568828125, 0.8201041666666666, 0.889296875, 0.8948697916666667, 0.9278385416666667, 0.9369270833333333, 0.9465625, 0.9463802083333334, 0.9416145833333334, 0.9421875, 0.94859375, 0.9505208333333334, 0.9491666666666667, 0.9519010416666667, 0.9614322916666667, 0.9590104166666666], \"target_val_acc_label\": [0.52625, 0.74484375, 0.8116927083333333, 0.7987760416666667, 0.8369010416666667, 0.848359375, 0.8494270833333334, 0.8479427083333333, 0.8425260416666667, 0.84140625, 0.8528125, 0.865234375, 0.8518489583333333, 0.8598177083333334, 0.8583333333333333, 0.8597916666666666]}, \"dataset_metrics\": {\"source\": {\"train\": {\"n_unique_x\": 179200, \"n_unique_y\": 16, \"n_batch/episode\": 1400}, \"val\": {\"n_unique_x\": 38400, \"n_unique_y\": 16, \"n_batch/episode\": 300}, \"test\": {\"n_unique_x\": 38400, \"n_unique_y\": 16, \"n_batch/episode\": 300}}, \"target\": {\"train\": {\"n_unique_x\": 179200, \"n_unique_y\": 16, \"n_batch/episode\": 1400}, \"val\": {\"n_unique_x\": 38400, \"n_unique_y\": 16, \"n_batch/episode\": 300}, \"test\": {\"n_unique_x\": 38400, \"n_unique_y\": 16, \"n_batch/episode\": 300}}}}'"
      ]
     },
     "execution_count": 20,
     "metadata": {},
     "output_type": "execute_result"
    }
   ],
   "source": [
    "json.dumps(experiment)"
   ]
  }
 ],
 "metadata": {
  "celltoolbar": "Tags",
  "kernelspec": {
   "display_name": "Python 3 (ipykernel)",
   "language": "python",
   "name": "python3"
  },
  "language_info": {
   "codemirror_mode": {
    "name": "ipython",
    "version": 3
   },
   "file_extension": ".py",
   "mimetype": "text/x-python",
   "name": "python",
   "nbconvert_exporter": "python",
   "pygments_lexer": "ipython3",
   "version": "3.8.12"
  },
  "papermill": {
   "default_parameters": {},
   "duration": 310.88502,
   "end_time": "2022-03-28T03:49:15.439722",
   "environment_variables": {},
   "exception": null,
   "input_path": "/root/csc500-main/csc500-notebooks/templates/cnn_template.ipynb",
   "output_path": "trial.ipynb",
   "parameters": {
    "parameters": {
     "BEST_MODEL_PATH": "./best_model.pth",
     "NUM_LOGS_PER_EPOCH": 10,
     "batch_size": 128,
     "criteria_for_best": "target_accuracy",
     "dataset_seed": 500,
     "device": "cuda",
     "domains_source": [
      8,
      32,
      50,
      14,
      20,
      26,
      38,
      44
     ],
     "domains_target": [
      8,
      32,
      50,
      14,
      20,
      26,
      38,
      44
     ],
     "experiment_name": "cnn_3:oracle.run1.framed-oracle.run2.framed",
     "labels": [
      "3123D52",
      "3123D65",
      "3123D79",
      "3123D80",
      "3123D54",
      "3123D70",
      "3123D7B",
      "3123D89",
      "3123D58",
      "3123D76",
      "3123D7D",
      "3123EFE",
      "3123D64",
      "3123D78",
      "3123D7E",
      "3124E4A"
     ],
     "lr": 0.0001,
     "n_epoch": 50,
     "normalize_source": false,
     "normalize_target": false,
     "num_examples_per_domain_per_label_source": -1,
     "num_examples_per_domain_per_label_target": -1,
     "patience": 3,
     "pickle_name_source": "oracle.Run1_framed_2000Examples_stratified_ds.2022A.pkl",
     "pickle_name_target": "oracle.Run2_framed_2000Examples_stratified_ds.2022A.pkl",
     "seed": 500,
     "torch_default_dtype": "torch.float32",
     "x_net": [
      {
       "class": "nnReshape",
       "kargs": {
        "shape": [
         -1,
         1,
         2,
         256
        ]
       }
      },
      {
       "class": "Conv2d",
       "kargs": {
        "bias": false,
        "in_channels": 1,
        "kernel_size": [
         1,
         7
        ],
        "out_channels": 256,
        "padding": [
         0,
         3
        ]
       }
      },
      {
       "class": "ReLU",
       "kargs": {
        "inplace": true
       }
      },
      {
       "class": "BatchNorm2d",
       "kargs": {
        "num_features": 256
       }
      },
      {
       "class": "Conv2d",
       "kargs": {
        "bias": true,
        "in_channels": 256,
        "kernel_size": [
         2,
         7
        ],
        "out_channels": 80,
        "padding": [
         0,
         3
        ]
       }
      },
      {
       "class": "ReLU",
       "kargs": {
        "inplace": true
       }
      },
      {
       "class": "BatchNorm2d",
       "kargs": {
        "num_features": 80
       }
      },
      {
       "class": "Flatten",
       "kargs": {}
      },
      {
       "class": "Linear",
       "kargs": {
        "in_features": 20480,
        "out_features": 256
       }
      },
      {
       "class": "ReLU",
       "kargs": {
        "inplace": true
       }
      },
      {
       "class": "BatchNorm1d",
       "kargs": {
        "num_features": 256
       }
      },
      {
       "class": "Linear",
       "kargs": {
        "in_features": 256,
        "out_features": 16
       }
      }
     ]
    }
   },
   "start_time": "2022-03-28T03:44:04.554702",
   "version": "2.3.4"
  }
 },
 "nbformat": 4,
 "nbformat_minor": 5
}