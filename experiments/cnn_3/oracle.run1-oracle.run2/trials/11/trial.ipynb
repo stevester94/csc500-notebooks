{
 "cells": [
  {
   "cell_type": "code",
   "execution_count": 1,
   "id": "2324682e",
   "metadata": {
    "execution": {
     "iopub.execute_input": "2022-03-28T01:03:35.134679Z",
     "iopub.status.busy": "2022-03-28T01:03:35.133389Z",
     "iopub.status.idle": "2022-03-28T01:03:36.804852Z",
     "shell.execute_reply": "2022-03-28T01:03:36.803989Z"
    },
    "papermill": {
     "duration": 2.154954,
     "end_time": "2022-03-28T01:03:36.805036",
     "exception": false,
     "start_time": "2022-03-28T01:03:34.650082",
     "status": "completed"
    },
    "tags": []
   },
   "outputs": [],
   "source": [
    "import os, json, sys, time, random\n",
    "import numpy as np\n",
    "import torch\n",
    "from  easydict import EasyDict\n",
    "from math import floor\n",
    "from easydict import EasyDict\n",
    "\n",
    "from steves_utils.vanilla_train_eval_test_jig import  Vanilla_Train_Eval_Test_Jig\n",
    "\n",
    "from steves_utils.torch_utils import get_dataset_metrics, independent_accuracy_assesment\n",
    "from steves_models.configurable_vanilla import Configurable_Vanilla\n",
    "from steves_utils.torch_sequential_builder import build_sequential\n",
    "from steves_utils.lazy_map import Lazy_Map\n",
    "from steves_utils.sequence_aggregator import Sequence_Aggregator\n",
    "\n",
    "from steves_utils.stratified_dataset.traditional_accessor import Traditional_Accessor_Factory\n",
    "\n",
    "from steves_utils.cnn_do_report import (\n",
    "    get_loss_curve,\n",
    "    get_results_table,\n",
    "    get_parameters_table,\n",
    "    get_domain_accuracies,\n",
    ")\n",
    "\n",
    "from steves_utils.torch_utils import (\n",
    "    confusion_by_domain_over_dataloader,\n",
    "    independent_accuracy_assesment\n",
    ")\n",
    "\n",
    "from steves_utils.utils_v2 import (\n",
    "    per_domain_accuracy_from_confusion,\n",
    "    get_datasets_base_path\n",
    ")\n",
    "\n",
    "# from steves_utils.ptn_do_report import TBD"
   ]
  },
  {
   "cell_type": "code",
   "execution_count": 2,
   "id": "1b29e3fe",
   "metadata": {
    "execution": {
     "iopub.execute_input": "2022-03-28T01:03:36.842326Z",
     "iopub.status.busy": "2022-03-28T01:03:36.841949Z",
     "iopub.status.idle": "2022-03-28T01:03:36.844531Z",
     "shell.execute_reply": "2022-03-28T01:03:36.844169Z"
    },
    "papermill": {
     "duration": 0.021825,
     "end_time": "2022-03-28T01:03:36.844614",
     "exception": false,
     "start_time": "2022-03-28T01:03:36.822789",
     "status": "completed"
    },
    "tags": []
   },
   "outputs": [],
   "source": [
    "required_parameters = {\n",
    "    \"experiment_name\",\n",
    "    \"lr\",\n",
    "    \"device\",\n",
    "    \"dataset_seed\",\n",
    "    \"seed\",\n",
    "    \"labels\",\n",
    "    \"domains_target\",\n",
    "    \"domains_source\",\n",
    "    \"num_examples_per_domain_per_label_source\",\n",
    "    \"num_examples_per_domain_per_label_target\",\n",
    "    \"batch_size\",\n",
    "    \"n_epoch\",\n",
    "    \"patience\",\n",
    "    \"criteria_for_best\",\n",
    "    \"normalize_source\",\n",
    "    \"normalize_target\",\n",
    "    \"x_net\",\n",
    "    \"NUM_LOGS_PER_EPOCH\",\n",
    "    \"BEST_MODEL_PATH\",\n",
    "    \"pickle_name_source\",\n",
    "    \"pickle_name_target\",\n",
    "    \"torch_default_dtype\",\n",
    "}"
   ]
  },
  {
   "cell_type": "code",
   "execution_count": 3,
   "id": "670b5fb8",
   "metadata": {
    "execution": {
     "iopub.execute_input": "2022-03-28T01:03:36.889374Z",
     "iopub.status.busy": "2022-03-28T01:03:36.888462Z",
     "iopub.status.idle": "2022-03-28T01:03:36.897938Z",
     "shell.execute_reply": "2022-03-28T01:03:36.897098Z"
    },
    "papermill": {
     "duration": 0.035732,
     "end_time": "2022-03-28T01:03:36.898096",
     "exception": false,
     "start_time": "2022-03-28T01:03:36.862364",
     "status": "completed"
    },
    "tags": [
     "parameters"
    ]
   },
   "outputs": [],
   "source": [
    "from steves_utils.ORACLE.utils_v2 import (\n",
    "    ALL_SERIAL_NUMBERS,\n",
    "    ALL_DISTANCES_FEET_NARROWED,\n",
    ")\n",
    "\n",
    "standalone_parameters = {}\n",
    "standalone_parameters[\"experiment_name\"] = \"MANUAL CORES CNN\"\n",
    "standalone_parameters[\"lr\"] = 0.0001\n",
    "standalone_parameters[\"device\"] = \"cuda\"\n",
    "\n",
    "standalone_parameters[\"dataset_seed\"] = 1337\n",
    "standalone_parameters[\"seed\"] = 1337\n",
    "standalone_parameters[\"labels\"] = ALL_SERIAL_NUMBERS\n",
    "\n",
    "standalone_parameters[\"domains_source\"] = [8,32,50]\n",
    "standalone_parameters[\"domains_target\"] = [14,20,26,38,44,]\n",
    "\n",
    "standalone_parameters[\"num_examples_per_domain_per_label_source\"]=-1\n",
    "standalone_parameters[\"num_examples_per_domain_per_label_target\"]=-1\n",
    "\n",
    "standalone_parameters[\"pickle_name_source\"] = \"oracle.Run1_framed_2000Examples_stratified_ds.2022A.pkl\"\n",
    "standalone_parameters[\"pickle_name_target\"] = \"oracle.Run2_framed_2000Examples_stratified_ds.2022A.pkl\"\n",
    "\n",
    "standalone_parameters[\"torch_default_dtype\"] = \"torch.float32\" \n",
    "\n",
    "standalone_parameters[\"batch_size\"]=128\n",
    "\n",
    "standalone_parameters[\"n_epoch\"] = 3\n",
    "\n",
    "standalone_parameters[\"patience\"] = 10\n",
    "\n",
    "standalone_parameters[\"criteria_for_best\"] = \"target_accuracy\"\n",
    "standalone_parameters[\"normalize_source\"] = False\n",
    "standalone_parameters[\"normalize_target\"] = False\n",
    "\n",
    "standalone_parameters[\"x_net\"] =     [\n",
    "    {\"class\": \"nnReshape\", \"kargs\": {\"shape\":[-1, 1, 2, 256]}},\n",
    "    {\"class\": \"Conv2d\", \"kargs\": { \"in_channels\":1, \"out_channels\":256, \"kernel_size\":(1,7), \"bias\":False, \"padding\":(0,3), },},\n",
    "    {\"class\": \"ReLU\", \"kargs\": {\"inplace\": True}},\n",
    "    {\"class\": \"BatchNorm2d\", \"kargs\": {\"num_features\":256}},\n",
    "\n",
    "    {\"class\": \"Conv2d\", \"kargs\": { \"in_channels\":256, \"out_channels\":80, \"kernel_size\":(2,7), \"bias\":True, \"padding\":(0,3), },},\n",
    "    {\"class\": \"ReLU\", \"kargs\": {\"inplace\": True}},\n",
    "    {\"class\": \"BatchNorm2d\", \"kargs\": {\"num_features\":80}},\n",
    "    {\"class\": \"Flatten\", \"kargs\": {}},\n",
    "\n",
    "    {\"class\": \"Linear\", \"kargs\": {\"in_features\": 80*256, \"out_features\": 256}}, # 80 units per IQ pair\n",
    "    {\"class\": \"ReLU\", \"kargs\": {\"inplace\": True}},\n",
    "    {\"class\": \"BatchNorm1d\", \"kargs\": {\"num_features\":256}},\n",
    "\n",
    "    {\"class\": \"Linear\", \"kargs\": {\"in_features\": 256, \"out_features\": len(standalone_parameters[\"labels\"])}},\n",
    "]\n",
    "\n",
    "standalone_parameters[\"NUM_LOGS_PER_EPOCH\"] = 10\n",
    "standalone_parameters[\"BEST_MODEL_PATH\"] = \"./best_model.pth\""
   ]
  },
  {
   "cell_type": "code",
   "execution_count": 4,
   "id": "4ad11d73",
   "metadata": {
    "execution": {
     "iopub.execute_input": "2022-03-28T01:03:36.945100Z",
     "iopub.status.busy": "2022-03-28T01:03:36.944197Z",
     "iopub.status.idle": "2022-03-28T01:03:36.947000Z",
     "shell.execute_reply": "2022-03-28T01:03:36.946191Z"
    },
    "papermill": {
     "duration": 0.030258,
     "end_time": "2022-03-28T01:03:36.947155",
     "exception": false,
     "start_time": "2022-03-28T01:03:36.916897",
     "status": "completed"
    },
    "tags": [
     "injected-parameters"
    ]
   },
   "outputs": [],
   "source": [
    "# Parameters\n",
    "parameters = {\n",
    "    \"experiment_name\": \"cnn_3:oracle.run1-oracle.run2\",\n",
    "    \"domains_source\": [8, 32, 50, 14, 20, 26, 38, 44],\n",
    "    \"domains_target\": [8, 32, 50, 14, 20, 26, 38, 44],\n",
    "    \"labels\": [\n",
    "        \"3123D52\",\n",
    "        \"3123D65\",\n",
    "        \"3123D79\",\n",
    "        \"3123D80\",\n",
    "        \"3123D54\",\n",
    "        \"3123D70\",\n",
    "        \"3123D7B\",\n",
    "        \"3123D89\",\n",
    "        \"3123D58\",\n",
    "        \"3123D76\",\n",
    "        \"3123D7D\",\n",
    "        \"3123EFE\",\n",
    "        \"3123D64\",\n",
    "        \"3123D78\",\n",
    "        \"3123D7E\",\n",
    "        \"3124E4A\",\n",
    "    ],\n",
    "    \"pickle_name_source\": \"oracle.Run1_10kExamples_stratified_ds.2022A.pkl\",\n",
    "    \"pickle_name_target\": \"oracle.Run2_10kExamples_stratified_ds.2022A.pkl\",\n",
    "    \"device\": \"cuda\",\n",
    "    \"lr\": 0.0001,\n",
    "    \"batch_size\": 128,\n",
    "    \"normalize_source\": False,\n",
    "    \"normalize_target\": False,\n",
    "    \"num_examples_per_domain_per_label_source\": -1,\n",
    "    \"num_examples_per_domain_per_label_target\": -1,\n",
    "    \"torch_default_dtype\": \"torch.float32\",\n",
    "    \"n_epoch\": 50,\n",
    "    \"patience\": 3,\n",
    "    \"criteria_for_best\": \"target_accuracy\",\n",
    "    \"x_net\": [\n",
    "        {\"class\": \"nnReshape\", \"kargs\": {\"shape\": [-1, 1, 2, 256]}},\n",
    "        {\n",
    "            \"class\": \"Conv2d\",\n",
    "            \"kargs\": {\n",
    "                \"in_channels\": 1,\n",
    "                \"out_channels\": 256,\n",
    "                \"kernel_size\": [1, 7],\n",
    "                \"bias\": False,\n",
    "                \"padding\": [0, 3],\n",
    "            },\n",
    "        },\n",
    "        {\"class\": \"ReLU\", \"kargs\": {\"inplace\": True}},\n",
    "        {\"class\": \"BatchNorm2d\", \"kargs\": {\"num_features\": 256}},\n",
    "        {\n",
    "            \"class\": \"Conv2d\",\n",
    "            \"kargs\": {\n",
    "                \"in_channels\": 256,\n",
    "                \"out_channels\": 80,\n",
    "                \"kernel_size\": [2, 7],\n",
    "                \"bias\": True,\n",
    "                \"padding\": [0, 3],\n",
    "            },\n",
    "        },\n",
    "        {\"class\": \"ReLU\", \"kargs\": {\"inplace\": True}},\n",
    "        {\"class\": \"BatchNorm2d\", \"kargs\": {\"num_features\": 80}},\n",
    "        {\"class\": \"Flatten\", \"kargs\": {}},\n",
    "        {\"class\": \"Linear\", \"kargs\": {\"in_features\": 20480, \"out_features\": 256}},\n",
    "        {\"class\": \"ReLU\", \"kargs\": {\"inplace\": True}},\n",
    "        {\"class\": \"BatchNorm1d\", \"kargs\": {\"num_features\": 256}},\n",
    "        {\"class\": \"Linear\", \"kargs\": {\"in_features\": 256, \"out_features\": 16}},\n",
    "    ],\n",
    "    \"NUM_LOGS_PER_EPOCH\": 10,\n",
    "    \"BEST_MODEL_PATH\": \"./best_model.pth\",\n",
    "    \"dataset_seed\": 420,\n",
    "    \"seed\": 420,\n",
    "}\n"
   ]
  },
  {
   "cell_type": "code",
   "execution_count": 5,
   "id": "759b56ec",
   "metadata": {
    "execution": {
     "iopub.execute_input": "2022-03-28T01:03:36.982012Z",
     "iopub.status.busy": "2022-03-28T01:03:36.981642Z",
     "iopub.status.idle": "2022-03-28T01:03:36.984107Z",
     "shell.execute_reply": "2022-03-28T01:03:36.983745Z"
    },
    "papermill": {
     "duration": 0.020495,
     "end_time": "2022-03-28T01:03:36.984176",
     "exception": false,
     "start_time": "2022-03-28T01:03:36.963681",
     "status": "completed"
    },
    "tags": []
   },
   "outputs": [],
   "source": [
    "# Set this to True if you want to run this template directly\n",
    "STANDALONE = False\n",
    "if STANDALONE:\n",
    "    print(\"parameters not injected, running with standalone_parameters\")\n",
    "    parameters = standalone_parameters\n",
    "\n",
    "if not 'parameters' in locals() and not 'parameters' in globals():\n",
    "    raise Exception(\"Parameter injection failed\")\n",
    "\n",
    "#Use an easy dict for all the parameters\n",
    "p = EasyDict(parameters)\n",
    "\n",
    "supplied_keys = set(p.keys())\n",
    "\n",
    "if  supplied_keys != required_parameters:\n",
    "    print(\"Parameters are incorrect\")\n",
    "    if len(supplied_keys - required_parameters)>0: print(\"Shouldn't have:\", str(supplied_keys - required_parameters))\n",
    "    if len(required_parameters - supplied_keys)>0: print(\"Need to have:\", str(required_parameters - supplied_keys))\n",
    "    raise RuntimeError(\"Parameters are incorrect\")\n",
    "\n"
   ]
  },
  {
   "cell_type": "code",
   "execution_count": 6,
   "id": "d5c66a71",
   "metadata": {
    "execution": {
     "iopub.execute_input": "2022-03-28T01:03:37.021300Z",
     "iopub.status.busy": "2022-03-28T01:03:37.020904Z",
     "iopub.status.idle": "2022-03-28T01:03:37.025358Z",
     "shell.execute_reply": "2022-03-28T01:03:37.025045Z"
    },
    "papermill": {
     "duration": 0.021078,
     "end_time": "2022-03-28T01:03:37.025426",
     "exception": false,
     "start_time": "2022-03-28T01:03:37.004348",
     "status": "completed"
    },
    "tags": []
   },
   "outputs": [],
   "source": [
    "###################################\n",
    "# Set the RNGs and make it all deterministic\n",
    "###################################\n",
    "np.random.seed(p.seed)\n",
    "random.seed(p.seed)\n",
    "torch.manual_seed(p.seed)\n",
    "\n",
    "torch.use_deterministic_algorithms(True) "
   ]
  },
  {
   "cell_type": "code",
   "execution_count": 7,
   "id": "92a65876",
   "metadata": {
    "execution": {
     "iopub.execute_input": "2022-03-28T01:03:37.060119Z",
     "iopub.status.busy": "2022-03-28T01:03:37.059568Z",
     "iopub.status.idle": "2022-03-28T01:03:37.062628Z",
     "shell.execute_reply": "2022-03-28T01:03:37.062076Z"
    },
    "papermill": {
     "duration": 0.021058,
     "end_time": "2022-03-28T01:03:37.062732",
     "exception": false,
     "start_time": "2022-03-28T01:03:37.041674",
     "status": "completed"
    },
    "tags": []
   },
   "outputs": [],
   "source": [
    "torch.set_default_dtype(eval(p.torch_default_dtype))"
   ]
  },
  {
   "cell_type": "code",
   "execution_count": 8,
   "id": "f1a32f01",
   "metadata": {
    "execution": {
     "iopub.execute_input": "2022-03-28T01:03:37.101193Z",
     "iopub.status.busy": "2022-03-28T01:03:37.100832Z",
     "iopub.status.idle": "2022-03-28T01:03:37.140895Z",
     "shell.execute_reply": "2022-03-28T01:03:37.140083Z"
    },
    "papermill": {
     "duration": 0.058281,
     "end_time": "2022-03-28T01:03:37.141049",
     "exception": false,
     "start_time": "2022-03-28T01:03:37.082768",
     "status": "completed"
    },
    "tags": []
   },
   "outputs": [],
   "source": [
    "###################################\n",
    "# Build the network(s)\n",
    "# Note: It's critical to do this AFTER setting the RNG\n",
    "###################################\n",
    "x_net = build_sequential(p.x_net)"
   ]
  },
  {
   "cell_type": "code",
   "execution_count": 9,
   "id": "a276cd83",
   "metadata": {
    "execution": {
     "iopub.execute_input": "2022-03-28T01:03:37.177946Z",
     "iopub.status.busy": "2022-03-28T01:03:37.177584Z",
     "iopub.status.idle": "2022-03-28T01:03:37.179993Z",
     "shell.execute_reply": "2022-03-28T01:03:37.179624Z"
    },
    "papermill": {
     "duration": 0.01901,
     "end_time": "2022-03-28T01:03:37.180061",
     "exception": false,
     "start_time": "2022-03-28T01:03:37.161051",
     "status": "completed"
    },
    "tags": []
   },
   "outputs": [],
   "source": [
    "start_time_secs = time.time()"
   ]
  },
  {
   "cell_type": "code",
   "execution_count": 10,
   "id": "de702e48",
   "metadata": {
    "execution": {
     "iopub.execute_input": "2022-03-28T01:03:37.227882Z",
     "iopub.status.busy": "2022-03-28T01:03:37.226995Z",
     "iopub.status.idle": "2022-03-28T01:04:15.074390Z",
     "shell.execute_reply": "2022-03-28T01:04:15.075072Z"
    },
    "papermill": {
     "duration": 37.877015,
     "end_time": "2022-03-28T01:04:15.075299",
     "exception": false,
     "start_time": "2022-03-28T01:03:37.198284",
     "status": "completed"
    },
    "tags": []
   },
   "outputs": [],
   "source": [
    "def wrap_in_dataloader(p, ds):\n",
    "    return torch.utils.data.DataLoader(\n",
    "        ds,\n",
    "        batch_size=p.batch_size,\n",
    "        shuffle=True,\n",
    "        num_workers=1,\n",
    "        persistent_workers=True,\n",
    "        prefetch_factor=50,\n",
    "        pin_memory=True\n",
    "    )\n",
    "\n",
    "taf_source = Traditional_Accessor_Factory(\n",
    "    labels=p.labels,\n",
    "    domains=p.domains_source,\n",
    "    num_examples_per_domain_per_label=p.num_examples_per_domain_per_label_source,\n",
    "    pickle_path=os.path.join(get_datasets_base_path(), p.pickle_name_source),\n",
    "    seed=p.dataset_seed\n",
    ")\n",
    "train_original_source, val_original_source, test_original_source = \\\n",
    "    taf_source.get_train(), taf_source.get_val(), taf_source.get_test()\n",
    "\n",
    "\n",
    "taf_target = Traditional_Accessor_Factory(\n",
    "    labels=p.labels,\n",
    "    domains=p.domains_target,\n",
    "    num_examples_per_domain_per_label=p.num_examples_per_domain_per_label_source,\n",
    "    pickle_path=os.path.join(get_datasets_base_path(), p.pickle_name_target),\n",
    "    seed=p.dataset_seed\n",
    ")\n",
    "train_original_target, val_original_target, test_original_target = \\\n",
    "    taf_target.get_train(), taf_target.get_val(), taf_target.get_test()\n",
    "\n",
    "\n",
    "# For CNN We only use X and Y. And we only train on the source.\n",
    "# Properly form the data using a transform lambda and Lazy_Map. Finally wrap them in a dataloader\n",
    "\n",
    "transform_lambda = lambda ex: ex[:2] # Strip the tuple to just (x,y)\n",
    "\n",
    "\n",
    "train_processed_source = wrap_in_dataloader(\n",
    "    p,\n",
    "    Lazy_Map(train_original_source, transform_lambda)\n",
    ")\n",
    "val_processed_source = wrap_in_dataloader(\n",
    "    p,\n",
    "    Lazy_Map(val_original_source, transform_lambda)\n",
    ")\n",
    "test_processed_source = wrap_in_dataloader(\n",
    "    p,\n",
    "    Lazy_Map(test_original_source, transform_lambda)\n",
    ")\n",
    "\n",
    "train_processed_target = wrap_in_dataloader(\n",
    "    p,\n",
    "    Lazy_Map(train_original_target, transform_lambda)\n",
    ")\n",
    "val_processed_target = wrap_in_dataloader(\n",
    "    p,\n",
    "    Lazy_Map(val_original_target, transform_lambda)\n",
    ")\n",
    "test_processed_target  = wrap_in_dataloader(\n",
    "    p,\n",
    "    Lazy_Map(test_original_target, transform_lambda)\n",
    ")\n",
    "\n",
    "\n",
    "\n",
    "datasets = EasyDict({\n",
    "    \"source\": {\n",
    "        \"original\": {\"train\":train_original_source, \"val\":val_original_source, \"test\":test_original_source},\n",
    "        \"processed\": {\"train\":train_processed_source, \"val\":val_processed_source, \"test\":test_processed_source}\n",
    "    },\n",
    "    \"target\": {\n",
    "        \"original\": {\"train\":train_original_target, \"val\":val_original_target, \"test\":test_original_target},\n",
    "        \"processed\": {\"train\":train_processed_target, \"val\":val_processed_target, \"test\":test_processed_target}\n",
    "    },\n",
    "})"
   ]
  },
  {
   "cell_type": "code",
   "execution_count": 11,
   "id": "a11b26bd",
   "metadata": {
    "execution": {
     "iopub.execute_input": "2022-03-28T01:04:15.160756Z",
     "iopub.status.busy": "2022-03-28T01:04:15.159945Z",
     "iopub.status.idle": "2022-03-28T01:04:21.017718Z",
     "shell.execute_reply": "2022-03-28T01:04:21.016977Z"
    },
    "papermill": {
     "duration": 5.92093,
     "end_time": "2022-03-28T01:04:21.017895",
     "exception": false,
     "start_time": "2022-03-28T01:04:15.096965",
     "status": "completed"
    },
    "tags": []
   },
   "outputs": [
    {
     "data": {
      "text/plain": [
       "torch.float32"
      ]
     },
     "execution_count": 11,
     "metadata": {},
     "output_type": "execute_result"
    }
   ],
   "source": [
    "ep = next(iter(test_processed_target))\n",
    "ep[0].dtype"
   ]
  },
  {
   "cell_type": "code",
   "execution_count": 12,
   "id": "19425fad",
   "metadata": {
    "execution": {
     "iopub.execute_input": "2022-03-28T01:04:21.059821Z",
     "iopub.status.busy": "2022-03-28T01:04:21.059436Z",
     "iopub.status.idle": "2022-03-28T01:04:21.108367Z",
     "shell.execute_reply": "2022-03-28T01:04:21.107617Z"
    },
    "papermill": {
     "duration": 0.070118,
     "end_time": "2022-03-28T01:04:21.108554",
     "exception": false,
     "start_time": "2022-03-28T01:04:21.038436",
     "status": "completed"
    },
    "tags": []
   },
   "outputs": [],
   "source": [
    "model = Configurable_Vanilla(\n",
    "    x_net=x_net,\n",
    "    label_loss_object=torch.nn.NLLLoss(),\n",
    "    learning_rate=p.lr\n",
    ")"
   ]
  },
  {
   "cell_type": "code",
   "execution_count": 13,
   "id": "7f6d4f2c",
   "metadata": {
    "execution": {
     "iopub.execute_input": "2022-03-28T01:04:21.149485Z",
     "iopub.status.busy": "2022-03-28T01:04:21.149119Z",
     "iopub.status.idle": "2022-03-28T01:20:26.676012Z",
     "shell.execute_reply": "2022-03-28T01:20:26.675662Z"
    },
    "papermill": {
     "duration": 965.546359,
     "end_time": "2022-03-28T01:20:26.676100",
     "exception": false,
     "start_time": "2022-03-28T01:04:21.129741",
     "status": "completed"
    },
    "tags": []
   },
   "outputs": [
    {
     "name": "stdout",
     "output_type": "stream",
     "text": [
      "epoch: 1, [batch: 1 / 7000], examples_per_second: 362.8041, train_label_loss: 2.7753, \n"
     ]
    },
    {
     "name": "stdout",
     "output_type": "stream",
     "text": [
      "epoch: 1, [batch: 700 / 7000], examples_per_second: 10751.4135, train_label_loss: 2.6066, \n"
     ]
    },
    {
     "name": "stdout",
     "output_type": "stream",
     "text": [
      "epoch: 1, [batch: 1400 / 7000], examples_per_second: 10671.4507, train_label_loss: 2.4976, \n"
     ]
    },
    {
     "name": "stdout",
     "output_type": "stream",
     "text": [
      "epoch: 1, [batch: 2100 / 7000], examples_per_second: 10646.1087, train_label_loss: 2.2867, \n"
     ]
    },
    {
     "name": "stdout",
     "output_type": "stream",
     "text": [
      "epoch: 1, [batch: 2800 / 7000], examples_per_second: 10700.8287, train_label_loss: 2.0016, \n"
     ]
    },
    {
     "name": "stdout",
     "output_type": "stream",
     "text": [
      "epoch: 1, [batch: 3500 / 7000], examples_per_second: 10710.8920, train_label_loss: 1.9137, \n"
     ]
    },
    {
     "name": "stdout",
     "output_type": "stream",
     "text": [
      "epoch: 1, [batch: 4200 / 7000], examples_per_second: 10675.4564, train_label_loss: 1.8101, \n"
     ]
    },
    {
     "name": "stdout",
     "output_type": "stream",
     "text": [
      "epoch: 1, [batch: 4900 / 7000], examples_per_second: 10719.9591, train_label_loss: 1.4886, \n"
     ]
    },
    {
     "name": "stdout",
     "output_type": "stream",
     "text": [
      "epoch: 1, [batch: 5600 / 7000], examples_per_second: 10725.3262, train_label_loss: 1.4904, \n"
     ]
    },
    {
     "name": "stdout",
     "output_type": "stream",
     "text": [
      "epoch: 1, [batch: 6300 / 7000], examples_per_second: 10668.2714, train_label_loss: 1.3032, \n"
     ]
    },
    {
     "name": "stdout",
     "output_type": "stream",
     "text": [
      "=============================================================\n",
      "epoch: 1, source_val_acc_label: 0.5824, source_val_label_loss: 1.2751, target_val_acc_label: 0.4742, target_val_label_loss: 1.5113, \n",
      "=============================================================\n"
     ]
    },
    {
     "name": "stdout",
     "output_type": "stream",
     "text": [
      "New best\n",
      "epoch: 2, [batch: 1 / 7000], examples_per_second: 12.0902, train_label_loss: 1.5375, \n"
     ]
    },
    {
     "name": "stdout",
     "output_type": "stream",
     "text": [
      "epoch: 2, [batch: 700 / 7000], examples_per_second: 11532.8723, train_label_loss: 1.2726, \n"
     ]
    },
    {
     "name": "stdout",
     "output_type": "stream",
     "text": [
      "epoch: 2, [batch: 1400 / 7000], examples_per_second: 11721.0538, train_label_loss: 1.3734, \n"
     ]
    },
    {
     "name": "stdout",
     "output_type": "stream",
     "text": [
      "epoch: 2, [batch: 2100 / 7000], examples_per_second: 11673.1101, train_label_loss: 1.0145, \n"
     ]
    },
    {
     "name": "stdout",
     "output_type": "stream",
     "text": [
      "epoch: 2, [batch: 2800 / 7000], examples_per_second: 11551.2436, train_label_loss: 1.0663, \n"
     ]
    },
    {
     "name": "stdout",
     "output_type": "stream",
     "text": [
      "epoch: 2, [batch: 3500 / 7000], examples_per_second: 11699.4514, train_label_loss: 1.3900, \n"
     ]
    },
    {
     "name": "stdout",
     "output_type": "stream",
     "text": [
      "epoch: 2, [batch: 4200 / 7000], examples_per_second: 11493.3271, train_label_loss: 1.0498, \n"
     ]
    },
    {
     "name": "stdout",
     "output_type": "stream",
     "text": [
      "epoch: 2, [batch: 4900 / 7000], examples_per_second: 11780.3176, train_label_loss: 0.9634, \n"
     ]
    },
    {
     "name": "stdout",
     "output_type": "stream",
     "text": [
      "epoch: 2, [batch: 5600 / 7000], examples_per_second: 11618.8832, train_label_loss: 1.0597, \n"
     ]
    },
    {
     "name": "stdout",
     "output_type": "stream",
     "text": [
      "epoch: 2, [batch: 6300 / 7000], examples_per_second: 11551.0334, train_label_loss: 0.8787, \n"
     ]
    },
    {
     "name": "stdout",
     "output_type": "stream",
     "text": [
      "=============================================================\n",
      "epoch: 2, source_val_acc_label: 0.6639, source_val_label_loss: 0.9568, target_val_acc_label: 0.5531, target_val_label_loss: 1.3126, \n",
      "=============================================================\n"
     ]
    },
    {
     "name": "stdout",
     "output_type": "stream",
     "text": [
      "New best\n",
      "epoch: 3, [batch: 1 / 7000], examples_per_second: 14.4820, train_label_loss: 0.9808, \n"
     ]
    },
    {
     "name": "stdout",
     "output_type": "stream",
     "text": [
      "epoch: 3, [batch: 700 / 7000], examples_per_second: 12743.8618, train_label_loss: 0.9589, \n"
     ]
    },
    {
     "name": "stdout",
     "output_type": "stream",
     "text": [
      "epoch: 3, [batch: 1400 / 7000], examples_per_second: 12997.3486, train_label_loss: 0.9113, \n"
     ]
    },
    {
     "name": "stdout",
     "output_type": "stream",
     "text": [
      "epoch: 3, [batch: 2100 / 7000], examples_per_second: 12833.6212, train_label_loss: 0.9655, \n"
     ]
    },
    {
     "name": "stdout",
     "output_type": "stream",
     "text": [
      "epoch: 3, [batch: 2800 / 7000], examples_per_second: 12755.7054, train_label_loss: 0.8632, \n"
     ]
    },
    {
     "name": "stdout",
     "output_type": "stream",
     "text": [
      "epoch: 3, [batch: 3500 / 7000], examples_per_second: 13006.0340, train_label_loss: 0.7128, \n"
     ]
    },
    {
     "name": "stdout",
     "output_type": "stream",
     "text": [
      "epoch: 3, [batch: 4200 / 7000], examples_per_second: 12820.3483, train_label_loss: 0.7402, \n"
     ]
    },
    {
     "name": "stdout",
     "output_type": "stream",
     "text": [
      "epoch: 3, [batch: 4900 / 7000], examples_per_second: 13382.5366, train_label_loss: 1.1373, \n"
     ]
    },
    {
     "name": "stdout",
     "output_type": "stream",
     "text": [
      "epoch: 3, [batch: 5600 / 7000], examples_per_second: 12237.7169, train_label_loss: 1.1478, \n"
     ]
    },
    {
     "name": "stdout",
     "output_type": "stream",
     "text": [
      "epoch: 3, [batch: 6300 / 7000], examples_per_second: 11663.5805, train_label_loss: 0.9929, \n"
     ]
    },
    {
     "name": "stdout",
     "output_type": "stream",
     "text": [
      "=============================================================\n",
      "epoch: 3, source_val_acc_label: 0.7202, source_val_label_loss: 0.7830, target_val_acc_label: 0.5595, target_val_label_loss: 1.2937, \n",
      "=============================================================\n"
     ]
    },
    {
     "name": "stdout",
     "output_type": "stream",
     "text": [
      "New best\n",
      "epoch: 4, [batch: 1 / 7000], examples_per_second: 13.1319, train_label_loss: 0.9206, \n"
     ]
    },
    {
     "name": "stdout",
     "output_type": "stream",
     "text": [
      "epoch: 4, [batch: 700 / 7000], examples_per_second: 11644.0117, train_label_loss: 0.7569, \n"
     ]
    },
    {
     "name": "stdout",
     "output_type": "stream",
     "text": [
      "epoch: 4, [batch: 1400 / 7000], examples_per_second: 11828.9304, train_label_loss: 0.8218, \n"
     ]
    },
    {
     "name": "stdout",
     "output_type": "stream",
     "text": [
      "epoch: 4, [batch: 2100 / 7000], examples_per_second: 11642.7816, train_label_loss: 0.7833, \n"
     ]
    },
    {
     "name": "stdout",
     "output_type": "stream",
     "text": [
      "epoch: 4, [batch: 2800 / 7000], examples_per_second: 11548.9888, train_label_loss: 0.6987, \n"
     ]
    },
    {
     "name": "stdout",
     "output_type": "stream",
     "text": [
      "epoch: 4, [batch: 3500 / 7000], examples_per_second: 11656.6590, train_label_loss: 0.7153, \n"
     ]
    },
    {
     "name": "stdout",
     "output_type": "stream",
     "text": [
      "epoch: 4, [batch: 4200 / 7000], examples_per_second: 11588.8393, train_label_loss: 0.6958, \n"
     ]
    },
    {
     "name": "stdout",
     "output_type": "stream",
     "text": [
      "epoch: 4, [batch: 4900 / 7000], examples_per_second: 11575.2030, train_label_loss: 0.5647, \n"
     ]
    },
    {
     "name": "stdout",
     "output_type": "stream",
     "text": [
      "epoch: 4, [batch: 5600 / 7000], examples_per_second: 11732.4515, train_label_loss: 0.5835, \n"
     ]
    },
    {
     "name": "stdout",
     "output_type": "stream",
     "text": [
      "epoch: 4, [batch: 6300 / 7000], examples_per_second: 11644.3569, train_label_loss: 0.6878, \n"
     ]
    },
    {
     "name": "stdout",
     "output_type": "stream",
     "text": [
      "=============================================================\n",
      "epoch: 4, source_val_acc_label: 0.7584, source_val_label_loss: 0.6679, target_val_acc_label: 0.5930, target_val_label_loss: 1.2169, \n",
      "=============================================================\n"
     ]
    },
    {
     "name": "stdout",
     "output_type": "stream",
     "text": [
      "New best\n",
      "epoch: 5, [batch: 1 / 7000], examples_per_second: 13.1774, train_label_loss: 0.6810, \n"
     ]
    },
    {
     "name": "stdout",
     "output_type": "stream",
     "text": [
      "epoch: 5, [batch: 700 / 7000], examples_per_second: 11721.3836, train_label_loss: 0.8132, \n"
     ]
    },
    {
     "name": "stdout",
     "output_type": "stream",
     "text": [
      "epoch: 5, [batch: 1400 / 7000], examples_per_second: 11745.9085, train_label_loss: 0.5465, \n"
     ]
    },
    {
     "name": "stdout",
     "output_type": "stream",
     "text": [
      "epoch: 5, [batch: 2100 / 7000], examples_per_second: 11670.0391, train_label_loss: 0.6801, \n"
     ]
    },
    {
     "name": "stdout",
     "output_type": "stream",
     "text": [
      "epoch: 5, [batch: 2800 / 7000], examples_per_second: 11707.3330, train_label_loss: 0.4506, \n"
     ]
    },
    {
     "name": "stdout",
     "output_type": "stream",
     "text": [
      "epoch: 5, [batch: 3500 / 7000], examples_per_second: 11717.7719, train_label_loss: 0.5919, \n"
     ]
    },
    {
     "name": "stdout",
     "output_type": "stream",
     "text": [
      "epoch: 5, [batch: 4200 / 7000], examples_per_second: 11736.1374, train_label_loss: 0.4912, \n"
     ]
    },
    {
     "name": "stdout",
     "output_type": "stream",
     "text": [
      "epoch: 5, [batch: 4900 / 7000], examples_per_second: 11727.2713, train_label_loss: 0.7947, \n"
     ]
    },
    {
     "name": "stdout",
     "output_type": "stream",
     "text": [
      "epoch: 5, [batch: 5600 / 7000], examples_per_second: 12079.6154, train_label_loss: 0.6921, \n"
     ]
    },
    {
     "name": "stdout",
     "output_type": "stream",
     "text": [
      "epoch: 5, [batch: 6300 / 7000], examples_per_second: 12692.1453, train_label_loss: 0.6120, \n"
     ]
    },
    {
     "name": "stdout",
     "output_type": "stream",
     "text": [
      "=============================================================\n",
      "epoch: 5, source_val_acc_label: 0.7474, source_val_label_loss: 0.6846, target_val_acc_label: 0.5816, target_val_label_loss: 1.2915, \n",
      "=============================================================\n"
     ]
    },
    {
     "name": "stdout",
     "output_type": "stream",
     "text": [
      "epoch: 6, [batch: 1 / 7000], examples_per_second: 14.3737, train_label_loss: 0.4373, \n"
     ]
    },
    {
     "name": "stdout",
     "output_type": "stream",
     "text": [
      "epoch: 6, [batch: 700 / 7000], examples_per_second: 12580.2242, train_label_loss: 0.5366, \n"
     ]
    },
    {
     "name": "stdout",
     "output_type": "stream",
     "text": [
      "epoch: 6, [batch: 1400 / 7000], examples_per_second: 12705.5191, train_label_loss: 0.3401, \n"
     ]
    },
    {
     "name": "stdout",
     "output_type": "stream",
     "text": [
      "epoch: 6, [batch: 2100 / 7000], examples_per_second: 12620.4699, train_label_loss: 0.5390, \n"
     ]
    },
    {
     "name": "stdout",
     "output_type": "stream",
     "text": [
      "epoch: 6, [batch: 2800 / 7000], examples_per_second: 12696.6752, train_label_loss: 0.4296, \n"
     ]
    },
    {
     "name": "stdout",
     "output_type": "stream",
     "text": [
      "epoch: 6, [batch: 3500 / 7000], examples_per_second: 12735.3200, train_label_loss: 0.6519, \n"
     ]
    },
    {
     "name": "stdout",
     "output_type": "stream",
     "text": [
      "epoch: 6, [batch: 4200 / 7000], examples_per_second: 12746.2437, train_label_loss: 0.5769, \n"
     ]
    },
    {
     "name": "stdout",
     "output_type": "stream",
     "text": [
      "epoch: 6, [batch: 4900 / 7000], examples_per_second: 14188.6779, train_label_loss: 0.5711, \n"
     ]
    },
    {
     "name": "stdout",
     "output_type": "stream",
     "text": [
      "epoch: 6, [batch: 5600 / 7000], examples_per_second: 14149.3826, train_label_loss: 0.5012, \n"
     ]
    },
    {
     "name": "stdout",
     "output_type": "stream",
     "text": [
      "epoch: 6, [batch: 6300 / 7000], examples_per_second: 13901.8061, train_label_loss: 0.5194, \n"
     ]
    },
    {
     "name": "stdout",
     "output_type": "stream",
     "text": [
      "=============================================================\n",
      "epoch: 6, source_val_acc_label: 0.7739, source_val_label_loss: 0.6209, target_val_acc_label: 0.5906, target_val_label_loss: 1.3350, \n",
      "=============================================================\n"
     ]
    },
    {
     "name": "stdout",
     "output_type": "stream",
     "text": [
      "epoch: 7, [batch: 1 / 7000], examples_per_second: 16.4048, train_label_loss: 0.5954, \n"
     ]
    },
    {
     "name": "stdout",
     "output_type": "stream",
     "text": [
      "epoch: 7, [batch: 700 / 7000], examples_per_second: 14168.4715, train_label_loss: 0.4085, \n"
     ]
    },
    {
     "name": "stdout",
     "output_type": "stream",
     "text": [
      "epoch: 7, [batch: 1400 / 7000], examples_per_second: 14202.8735, train_label_loss: 0.4487, \n"
     ]
    },
    {
     "name": "stdout",
     "output_type": "stream",
     "text": [
      "epoch: 7, [batch: 2100 / 7000], examples_per_second: 16929.1986, train_label_loss: 0.5214, \n"
     ]
    },
    {
     "name": "stdout",
     "output_type": "stream",
     "text": [
      "epoch: 7, [batch: 2800 / 7000], examples_per_second: 12990.1707, train_label_loss: 0.4588, \n"
     ]
    },
    {
     "name": "stdout",
     "output_type": "stream",
     "text": [
      "epoch: 7, [batch: 3500 / 7000], examples_per_second: 12785.4101, train_label_loss: 0.4037, \n"
     ]
    },
    {
     "name": "stdout",
     "output_type": "stream",
     "text": [
      "epoch: 7, [batch: 4200 / 7000], examples_per_second: 12800.5380, train_label_loss: 0.7331, \n"
     ]
    },
    {
     "name": "stdout",
     "output_type": "stream",
     "text": [
      "epoch: 7, [batch: 4900 / 7000], examples_per_second: 12729.5697, train_label_loss: 0.4114, \n"
     ]
    },
    {
     "name": "stdout",
     "output_type": "stream",
     "text": [
      "epoch: 7, [batch: 5600 / 7000], examples_per_second: 12677.2852, train_label_loss: 0.4503, \n"
     ]
    },
    {
     "name": "stdout",
     "output_type": "stream",
     "text": [
      "epoch: 7, [batch: 6300 / 7000], examples_per_second: 12682.8213, train_label_loss: 0.4980, \n"
     ]
    },
    {
     "name": "stdout",
     "output_type": "stream",
     "text": [
      "=============================================================\n",
      "epoch: 7, source_val_acc_label: 0.7742, source_val_label_loss: 0.6218, target_val_acc_label: 0.6022, target_val_label_loss: 1.3965, \n",
      "=============================================================\n"
     ]
    },
    {
     "name": "stdout",
     "output_type": "stream",
     "text": [
      "New best\n",
      "epoch: 8, [batch: 1 / 7000], examples_per_second: 14.3918, train_label_loss: 0.4124, \n"
     ]
    },
    {
     "name": "stdout",
     "output_type": "stream",
     "text": [
      "epoch: 8, [batch: 700 / 7000], examples_per_second: 12516.6611, train_label_loss: 0.3875, \n"
     ]
    },
    {
     "name": "stdout",
     "output_type": "stream",
     "text": [
      "epoch: 8, [batch: 1400 / 7000], examples_per_second: 12795.3151, train_label_loss: 0.6581, \n"
     ]
    },
    {
     "name": "stdout",
     "output_type": "stream",
     "text": [
      "epoch: 8, [batch: 2100 / 7000], examples_per_second: 12656.8293, train_label_loss: 0.2681, \n"
     ]
    },
    {
     "name": "stdout",
     "output_type": "stream",
     "text": [
      "epoch: 8, [batch: 2800 / 7000], examples_per_second: 12704.0571, train_label_loss: 0.5264, \n"
     ]
    },
    {
     "name": "stdout",
     "output_type": "stream",
     "text": [
      "epoch: 8, [batch: 3500 / 7000], examples_per_second: 12140.0458, train_label_loss: 0.4784, \n"
     ]
    },
    {
     "name": "stdout",
     "output_type": "stream",
     "text": [
      "epoch: 8, [batch: 4200 / 7000], examples_per_second: 12662.5741, train_label_loss: 0.4215, \n"
     ]
    },
    {
     "name": "stdout",
     "output_type": "stream",
     "text": [
      "epoch: 8, [batch: 4900 / 7000], examples_per_second: 12490.1312, train_label_loss: 0.4022, \n"
     ]
    },
    {
     "name": "stdout",
     "output_type": "stream",
     "text": [
      "epoch: 8, [batch: 5600 / 7000], examples_per_second: 10877.9599, train_label_loss: 0.4404, \n"
     ]
    },
    {
     "name": "stdout",
     "output_type": "stream",
     "text": [
      "epoch: 8, [batch: 6300 / 7000], examples_per_second: 10698.2224, train_label_loss: 0.3519, \n"
     ]
    },
    {
     "name": "stdout",
     "output_type": "stream",
     "text": [
      "=============================================================\n",
      "epoch: 8, source_val_acc_label: 0.7749, source_val_label_loss: 0.6244, target_val_acc_label: 0.5896, target_val_label_loss: 1.4716, \n",
      "=============================================================\n"
     ]
    },
    {
     "name": "stdout",
     "output_type": "stream",
     "text": [
      "epoch: 9, [batch: 1 / 7000], examples_per_second: 11.4352, train_label_loss: 0.3305, \n"
     ]
    },
    {
     "name": "stdout",
     "output_type": "stream",
     "text": [
      "epoch: 9, [batch: 700 / 7000], examples_per_second: 10750.5742, train_label_loss: 0.3533, \n"
     ]
    },
    {
     "name": "stdout",
     "output_type": "stream",
     "text": [
      "epoch: 9, [batch: 1400 / 7000], examples_per_second: 10756.9596, train_label_loss: 0.3895, \n"
     ]
    },
    {
     "name": "stdout",
     "output_type": "stream",
     "text": [
      "epoch: 9, [batch: 2100 / 7000], examples_per_second: 10705.6158, train_label_loss: 0.4418, \n"
     ]
    },
    {
     "name": "stdout",
     "output_type": "stream",
     "text": [
      "epoch: 9, [batch: 2800 / 7000], examples_per_second: 10756.4606, train_label_loss: 0.3737, \n"
     ]
    },
    {
     "name": "stdout",
     "output_type": "stream",
     "text": [
      "epoch: 9, [batch: 3500 / 7000], examples_per_second: 10698.4121, train_label_loss: 0.3723, \n"
     ]
    },
    {
     "name": "stdout",
     "output_type": "stream",
     "text": [
      "epoch: 9, [batch: 4200 / 7000], examples_per_second: 10751.7349, train_label_loss: 0.4986, \n"
     ]
    },
    {
     "name": "stdout",
     "output_type": "stream",
     "text": [
      "epoch: 9, [batch: 4900 / 7000], examples_per_second: 10725.4082, train_label_loss: 0.4983, \n"
     ]
    },
    {
     "name": "stdout",
     "output_type": "stream",
     "text": [
      "epoch: 9, [batch: 5600 / 7000], examples_per_second: 10686.4901, train_label_loss: 0.3503, \n"
     ]
    },
    {
     "name": "stdout",
     "output_type": "stream",
     "text": [
      "epoch: 9, [batch: 6300 / 7000], examples_per_second: 10687.8647, train_label_loss: 0.6303, \n"
     ]
    },
    {
     "name": "stdout",
     "output_type": "stream",
     "text": [
      "=============================================================\n",
      "epoch: 9, source_val_acc_label: 0.7582, source_val_label_loss: 0.6837, target_val_acc_label: 0.5788, target_val_label_loss: 1.5787, \n",
      "=============================================================\n"
     ]
    },
    {
     "name": "stdout",
     "output_type": "stream",
     "text": [
      "epoch: 10, [batch: 1 / 7000], examples_per_second: 11.6963, train_label_loss: 0.2915, \n"
     ]
    },
    {
     "name": "stdout",
     "output_type": "stream",
     "text": [
      "epoch: 10, [batch: 700 / 7000], examples_per_second: 10683.6871, train_label_loss: 0.3269, \n"
     ]
    },
    {
     "name": "stdout",
     "output_type": "stream",
     "text": [
      "epoch: 10, [batch: 1400 / 7000], examples_per_second: 11628.6683, train_label_loss: 0.3435, \n"
     ]
    },
    {
     "name": "stdout",
     "output_type": "stream",
     "text": [
      "epoch: 10, [batch: 2100 / 7000], examples_per_second: 11731.0642, train_label_loss: 0.2530, \n"
     ]
    },
    {
     "name": "stdout",
     "output_type": "stream",
     "text": [
      "epoch: 10, [batch: 2800 / 7000], examples_per_second: 11761.2550, train_label_loss: 0.4753, \n"
     ]
    },
    {
     "name": "stdout",
     "output_type": "stream",
     "text": [
      "epoch: 10, [batch: 3500 / 7000], examples_per_second: 11747.1194, train_label_loss: 0.2587, \n"
     ]
    },
    {
     "name": "stdout",
     "output_type": "stream",
     "text": [
      "epoch: 10, [batch: 4200 / 7000], examples_per_second: 11809.6490, train_label_loss: 0.2651, \n"
     ]
    },
    {
     "name": "stdout",
     "output_type": "stream",
     "text": [
      "epoch: 10, [batch: 4900 / 7000], examples_per_second: 11679.8366, train_label_loss: 0.2042, \n"
     ]
    },
    {
     "name": "stdout",
     "output_type": "stream",
     "text": [
      "epoch: 10, [batch: 5600 / 7000], examples_per_second: 11745.0532, train_label_loss: 0.3572, \n"
     ]
    },
    {
     "name": "stdout",
     "output_type": "stream",
     "text": [
      "epoch: 10, [batch: 6300 / 7000], examples_per_second: 11785.9066, train_label_loss: 0.4791, \n"
     ]
    },
    {
     "name": "stdout",
     "output_type": "stream",
     "text": [
      "=============================================================\n",
      "epoch: 10, source_val_acc_label: 0.7695, source_val_label_loss: 0.6538, target_val_acc_label: 0.5986, target_val_label_loss: 1.5190, \n",
      "=============================================================\n"
     ]
    },
    {
     "name": "stdout",
     "output_type": "stream",
     "text": [
      "epoch: 11, [batch: 1 / 7000], examples_per_second: 13.3985, train_label_loss: 0.4538, \n"
     ]
    },
    {
     "name": "stdout",
     "output_type": "stream",
     "text": [
      "epoch: 11, [batch: 700 / 7000], examples_per_second: 10733.3825, train_label_loss: 0.2093, \n"
     ]
    },
    {
     "name": "stdout",
     "output_type": "stream",
     "text": [
      "epoch: 11, [batch: 1400 / 7000], examples_per_second: 10747.2732, train_label_loss: 0.2284, \n"
     ]
    },
    {
     "name": "stdout",
     "output_type": "stream",
     "text": [
      "epoch: 11, [batch: 2100 / 7000], examples_per_second: 10745.7864, train_label_loss: 0.4630, \n"
     ]
    },
    {
     "name": "stdout",
     "output_type": "stream",
     "text": [
      "epoch: 11, [batch: 2800 / 7000], examples_per_second: 10729.8555, train_label_loss: 0.2918, \n"
     ]
    },
    {
     "name": "stdout",
     "output_type": "stream",
     "text": [
      "epoch: 11, [batch: 3500 / 7000], examples_per_second: 10755.0017, train_label_loss: 0.3718, \n"
     ]
    },
    {
     "name": "stdout",
     "output_type": "stream",
     "text": [
      "epoch: 11, [batch: 4200 / 7000], examples_per_second: 10722.9710, train_label_loss: 0.2255, \n"
     ]
    },
    {
     "name": "stdout",
     "output_type": "stream",
     "text": [
      "epoch: 11, [batch: 4900 / 7000], examples_per_second: 10708.8666, train_label_loss: 0.2356, \n"
     ]
    },
    {
     "name": "stdout",
     "output_type": "stream",
     "text": [
      "epoch: 11, [batch: 5600 / 7000], examples_per_second: 10734.5242, train_label_loss: 0.4056, \n"
     ]
    },
    {
     "name": "stdout",
     "output_type": "stream",
     "text": [
      "epoch: 11, [batch: 6300 / 7000], examples_per_second: 10981.1756, train_label_loss: 0.2261, \n"
     ]
    },
    {
     "name": "stdout",
     "output_type": "stream",
     "text": [
      "=============================================================\n",
      "epoch: 11, source_val_acc_label: 0.7786, source_val_label_loss: 0.6382, target_val_acc_label: 0.5999, target_val_label_loss: 1.6388, \n",
      "=============================================================\n"
     ]
    },
    {
     "name": "stdout",
     "output_type": "stream",
     "text": [
      "Patience (3) exhausted\n"
     ]
    }
   ],
   "source": [
    "jig = Vanilla_Train_Eval_Test_Jig(\n",
    "    model=model,\n",
    "    path_to_best_model=p.BEST_MODEL_PATH,\n",
    "    device=p.device,\n",
    "    label_loss_object=torch.nn.NLLLoss(),\n",
    ")\n",
    "\n",
    "jig.train(\n",
    "    train_iterable=datasets.source.processed.train,\n",
    "    source_val_iterable=datasets.source.processed.val,\n",
    "    target_val_iterable=datasets.target.processed.val,\n",
    "    patience=p.patience,\n",
    "    num_epochs=p.n_epoch,\n",
    "    num_logs_per_epoch=p.NUM_LOGS_PER_EPOCH,\n",
    "    criteria_for_best=p.criteria_for_best\n",
    ")"
   ]
  },
  {
   "cell_type": "code",
   "execution_count": 14,
   "id": "4bc2ac17",
   "metadata": {
    "execution": {
     "iopub.execute_input": "2022-03-28T01:20:26.774191Z",
     "iopub.status.busy": "2022-03-28T01:20:26.773568Z",
     "iopub.status.idle": "2022-03-28T01:20:26.776836Z",
     "shell.execute_reply": "2022-03-28T01:20:26.776299Z"
    },
    "papermill": {
     "duration": 0.055015,
     "end_time": "2022-03-28T01:20:26.776953",
     "exception": false,
     "start_time": "2022-03-28T01:20:26.721938",
     "status": "completed"
    },
    "tags": []
   },
   "outputs": [],
   "source": [
    "total_experiment_time_secs = time.time() - start_time_secs"
   ]
  },
  {
   "cell_type": "code",
   "execution_count": 15,
   "id": "cae88f23",
   "metadata": {
    "execution": {
     "iopub.execute_input": "2022-03-28T01:20:26.891324Z",
     "iopub.status.busy": "2022-03-28T01:20:26.890736Z",
     "iopub.status.idle": "2022-03-28T01:22:17.403444Z",
     "shell.execute_reply": "2022-03-28T01:22:17.402576Z"
    },
    "papermill": {
     "duration": 110.573286,
     "end_time": "2022-03-28T01:22:17.403656",
     "exception": false,
     "start_time": "2022-03-28T01:20:26.830370",
     "status": "completed"
    },
    "tags": []
   },
   "outputs": [],
   "source": [
    "source_test_label_accuracy, source_test_label_loss = jig.test(datasets.source.processed.test)\n",
    "target_test_label_accuracy, target_test_label_loss = jig.test(datasets.target.processed.test)\n",
    "\n",
    "source_val_label_accuracy, source_val_label_loss = jig.test(datasets.source.processed.val)\n",
    "target_val_label_accuracy, target_val_label_loss = jig.test(datasets.target.processed.val)\n",
    "\n",
    "history = jig.get_history()\n",
    "\n",
    "total_epochs_trained = len(history[\"epoch_indices\"])\n",
    "\n",
    "val_dl = wrap_in_dataloader(p, Sequence_Aggregator((datasets.source.original.val, datasets.target.original.val)))\n",
    "\n",
    "confusion = confusion_by_domain_over_dataloader(model, p.device, val_dl, forward_uses_domain=False)\n",
    "per_domain_accuracy = per_domain_accuracy_from_confusion(confusion)\n",
    "\n",
    "# Add a key to per_domain_accuracy for if it was a source domain\n",
    "for domain, accuracy in per_domain_accuracy.items():\n",
    "    per_domain_accuracy[domain] = {\n",
    "        \"accuracy\": accuracy,\n",
    "        \"source?\": domain in p.domains_source\n",
    "    }\n",
    "\n",
    "# Do an independent accuracy assesment JUST TO BE SURE!\n",
    "# _source_test_label_accuracy = independent_accuracy_assesment(model, datasets.source.processed.test, p.device)\n",
    "# _target_test_label_accuracy = independent_accuracy_assesment(model, datasets.target.processed.test, p.device)\n",
    "# _source_val_label_accuracy = independent_accuracy_assesment(model, datasets.source.processed.val, p.device)\n",
    "# _target_val_label_accuracy = independent_accuracy_assesment(model, datasets.target.processed.val, p.device)\n",
    "\n",
    "# assert(_source_test_label_accuracy == source_test_label_accuracy)\n",
    "# assert(_target_test_label_accuracy == target_test_label_accuracy)\n",
    "# assert(_source_val_label_accuracy == source_val_label_accuracy)\n",
    "# assert(_target_val_label_accuracy == target_val_label_accuracy)\n",
    "\n",
    "###################################\n",
    "# Write out the results\n",
    "###################################\n",
    "\n",
    "experiment = {\n",
    "    \"experiment_name\": p.experiment_name,\n",
    "    \"parameters\": p,\n",
    "    \"results\": {\n",
    "        \"source_test_label_accuracy\": source_test_label_accuracy,\n",
    "        \"source_test_label_loss\": source_test_label_loss,\n",
    "        \"target_test_label_accuracy\": target_test_label_accuracy,\n",
    "        \"target_test_label_loss\": target_test_label_loss,\n",
    "        \"source_val_label_accuracy\": source_val_label_accuracy,\n",
    "        \"source_val_label_loss\": source_val_label_loss,\n",
    "        \"target_val_label_accuracy\": target_val_label_accuracy,\n",
    "        \"target_val_label_loss\": target_val_label_loss,\n",
    "        \"total_epochs_trained\": total_epochs_trained,\n",
    "        \"total_experiment_time_secs\": total_experiment_time_secs,\n",
    "        \"confusion\": confusion,\n",
    "        \"per_domain_accuracy\": per_domain_accuracy,\n",
    "    },\n",
    "    \"history\": history,\n",
    "    \"dataset_metrics\": get_dataset_metrics(datasets, \"cnn\"),\n",
    "}"
   ]
  },
  {
   "cell_type": "code",
   "execution_count": 16,
   "id": "74c318cf",
   "metadata": {
    "execution": {
     "iopub.execute_input": "2022-03-28T01:22:17.536729Z",
     "iopub.status.busy": "2022-03-28T01:22:17.524283Z",
     "iopub.status.idle": "2022-03-28T01:22:17.738960Z",
     "shell.execute_reply": "2022-03-28T01:22:17.739649Z"
    },
    "papermill": {
     "duration": 0.280676,
     "end_time": "2022-03-28T01:22:17.739844",
     "exception": false,
     "start_time": "2022-03-28T01:22:17.459168",
     "status": "completed"
    },
    "tags": []
   },
   "outputs": [
    {
     "data": {
      "text/plain": [
       "<AxesSubplot:title={'center':'Source Train Label Loss vs Source Val Label Loss'}, xlabel='Epoch'>"
      ]
     },
     "execution_count": 16,
     "metadata": {},
     "output_type": "execute_result"
    },
    {
     "data": {
      "image/png": "[encoded data removed]",
      "text/plain": [
       "<Figure size 1080x504 with 1 Axes>"
      ]
     },
     "metadata": {
      "needs_background": "light"
     },
     "output_type": "display_data"
    }
   ],
   "source": [
    "get_loss_curve(experiment)"
   ]
  },
  {
   "cell_type": "code",
   "execution_count": 17,
   "id": "59376601",
   "metadata": {
    "execution": {
     "iopub.execute_input": "2022-03-28T01:22:17.864321Z",
     "iopub.status.busy": "2022-03-28T01:22:17.863488Z",
     "iopub.status.idle": "2022-03-28T01:22:18.164939Z",
     "shell.execute_reply": "2022-03-28T01:22:18.165615Z"
    },
    "papermill": {
     "duration": 0.375464,
     "end_time": "2022-03-28T01:22:18.165810",
     "exception": false,
     "start_time": "2022-03-28T01:22:17.790346",
     "status": "completed"
    },
    "tags": []
   },
   "outputs": [
    {
     "data": {
      "text/plain": [
       "<AxesSubplot:title={'center':'Results'}>"
      ]
     },
     "execution_count": 17,
     "metadata": {},
     "output_type": "execute_result"
    },
    {
     "data": {
      "image/png": "[encoded data removed]",
      "text/plain": [
       "<Figure size 1080x504 with 1 Axes>"
      ]
     },
     "metadata": {
      "needs_background": "light"
     },
     "output_type": "display_data"
    }
   ],
   "source": [
    "get_results_table(experiment)"
   ]
  },
  {
   "cell_type": "code",
   "execution_count": 18,
   "id": "e80c5c98",
   "metadata": {
    "execution": {
     "iopub.execute_input": "2022-03-28T01:22:18.292784Z",
     "iopub.status.busy": "2022-03-28T01:22:18.289726Z",
     "iopub.status.idle": "2022-03-28T01:22:18.466937Z",
     "shell.execute_reply": "2022-03-28T01:22:18.466114Z"
    },
    "papermill": {
     "duration": 0.246924,
     "end_time": "2022-03-28T01:22:18.467110",
     "exception": false,
     "start_time": "2022-03-28T01:22:18.220186",
     "status": "completed"
    },
    "tags": []
   },
   "outputs": [
    {
     "data": {
      "text/plain": [
       "<AxesSubplot:title={'center':'Per Domain Accuracy'}, xlabel='domain'>"
      ]
     },
     "execution_count": 18,
     "metadata": {},
     "output_type": "execute_result"
    },
    {
     "data": {
      "image/png": "[encoded data removed]",
      "text/plain": [
       "<Figure size 1080x504 with 1 Axes>"
      ]
     },
     "metadata": {
      "needs_background": "light"
     },
     "output_type": "display_data"
    }
   ],
   "source": [
    "get_domain_accuracies(experiment)"
   ]
  },
  {
   "cell_type": "code",
   "execution_count": 19,
   "id": "086fdd10",
   "metadata": {
    "execution": {
     "iopub.execute_input": "2022-03-28T01:22:18.575850Z",
     "iopub.status.busy": "2022-03-28T01:22:18.575275Z",
     "iopub.status.idle": "2022-03-28T01:22:18.579702Z",
     "shell.execute_reply": "2022-03-28T01:22:18.579085Z"
    },
    "papermill": {
     "duration": 0.059955,
     "end_time": "2022-03-28T01:22:18.579817",
     "exception": false,
     "start_time": "2022-03-28T01:22:18.519862",
     "status": "completed"
    },
    "tags": []
   },
   "outputs": [
    {
     "name": "stdout",
     "output_type": "stream",
     "text": [
      "Source Test Label Accuracy: 0.773390625 Target Test Label Accuracy: 0.6025572916666667\n",
      "Source Val Label Accuracy: 0.77415625 Target Val Label Accuracy: 0.6021770833333333\n"
     ]
    }
   ],
   "source": [
    "print(\"Source Test Label Accuracy:\", experiment[\"results\"][\"source_test_label_accuracy\"], \"Target Test Label Accuracy:\", experiment[\"results\"][\"target_test_label_accuracy\"])\n",
    "print(\"Source Val Label Accuracy:\", experiment[\"results\"][\"source_val_label_accuracy\"], \"Target Val Label Accuracy:\", experiment[\"results\"][\"target_val_label_accuracy\"])"
   ]
  },
  {
   "cell_type": "code",
   "execution_count": 20,
   "id": "9f450536",
   "metadata": {
    "execution": {
     "iopub.execute_input": "2022-03-28T01:22:18.688236Z",
     "iopub.status.busy": "2022-03-28T01:22:18.687688Z",
     "iopub.status.idle": "2022-03-28T01:22:18.691478Z",
     "shell.execute_reply": "2022-03-28T01:22:18.690930Z"
    },
    "papermill": {
     "duration": 0.058665,
     "end_time": "2022-03-28T01:22:18.691609",
     "exception": false,
     "start_time": "2022-03-28T01:22:18.632944",
     "status": "completed"
    },
    "tags": [
     "experiment_json"
    ]
   },
   "outputs": [
    {
     "data": {
      "text/plain": [
       "'{\"experiment_name\": \"cnn_3:oracle.run1-oracle.run2\", \"parameters\": {\"experiment_name\": \"cnn_3:oracle.run1-oracle.run2\", \"domains_source\": [8, 32, 50, 14, 20, 26, 38, 44], \"domains_target\": [8, 32, 50, 14, 20, 26, 38, 44], \"labels\": [\"3123D52\", \"3123D65\", \"3123D79\", \"3123D80\", \"3123D54\", \"3123D70\", \"3123D7B\", \"3123D89\", \"3123D58\", \"3123D76\", \"3123D7D\", \"3123EFE\", \"3123D64\", \"3123D78\", \"3123D7E\", \"3124E4A\"], \"pickle_name_source\": \"oracle.Run1_10kExamples_stratified_ds.2022A.pkl\", \"pickle_name_target\": \"oracle.Run2_10kExamples_stratified_ds.2022A.pkl\", \"device\": \"cuda\", \"lr\": 0.0001, \"batch_size\": 128, \"normalize_source\": false, \"normalize_target\": false, \"num_examples_per_domain_per_label_source\": -1, \"num_examples_per_domain_per_label_target\": -1, \"torch_default_dtype\": \"torch.float32\", \"n_epoch\": 50, \"patience\": 3, \"criteria_for_best\": \"target_accuracy\", \"x_net\": [{\"class\": \"nnReshape\", \"kargs\": {\"shape\": [-1, 1, 2, 256]}}, {\"class\": \"Conv2d\", \"kargs\": {\"in_channels\": 1, \"out_channels\": 256, \"kernel_size\": [1, 7], \"bias\": false, \"padding\": [0, 3]}}, {\"class\": \"ReLU\", \"kargs\": {\"inplace\": true}}, {\"class\": \"BatchNorm2d\", \"kargs\": {\"num_features\": 256}}, {\"class\": \"Conv2d\", \"kargs\": {\"in_channels\": 256, \"out_channels\": 80, \"kernel_size\": [2, 7], \"bias\": true, \"padding\": [0, 3]}}, {\"class\": \"ReLU\", \"kargs\": {\"inplace\": true}}, {\"class\": \"BatchNorm2d\", \"kargs\": {\"num_features\": 80}}, {\"class\": \"Flatten\", \"kargs\": {}}, {\"class\": \"Linear\", \"kargs\": {\"in_features\": 20480, \"out_features\": 256}}, {\"class\": \"ReLU\", \"kargs\": {\"inplace\": true}}, {\"class\": \"BatchNorm1d\", \"kargs\": {\"num_features\": 256}}, {\"class\": \"Linear\", \"kargs\": {\"in_features\": 256, \"out_features\": 16}}], \"NUM_LOGS_PER_EPOCH\": 10, \"BEST_MODEL_PATH\": \"./best_model.pth\", \"dataset_seed\": 420, \"seed\": 420}, \"results\": {\"source_test_label_accuracy\": 0.773390625, \"source_test_label_loss\": 0.6234567792614301, \"target_test_label_accuracy\": 0.6025572916666667, \"target_test_label_loss\": 1.3929291184345882, \"source_val_label_accuracy\": 0.77415625, \"source_val_label_loss\": 0.6217922811706861, \"target_val_label_accuracy\": 0.6021770833333333, \"target_val_label_loss\": 1.3965340322653452, \"total_epochs_trained\": 11, \"total_experiment_time_secs\": 1009.5952289104462, \"confusion\": {\"20\": {\"15\": {\"15\": 1426, \"9\": 213, \"13\": 404, \"2\": 557, \"12\": 195, \"1\": 126, \"7\": 58, \"5\": 17, \"3\": 3, \"11\": 1}, \"7\": {\"9\": 40, \"7\": 2122, \"2\": 417, \"6\": 249, \"10\": 27, \"4\": 78, \"11\": 25, \"3\": 4, \"12\": 14, \"13\": 16, \"8\": 4, \"1\": 1, \"14\": 2, \"15\": 1}, \"13\": {\"13\": 2807, \"2\": 105, \"15\": 56, \"11\": 7, \"7\": 20, \"12\": 4, \"9\": 1}, \"14\": {\"14\": 2507, \"8\": 258, \"12\": 95, \"4\": 15, \"10\": 45, \"6\": 67, \"15\": 4, \"2\": 6, \"7\": 1, \"13\": 1, \"3\": 1}, \"11\": {\"11\": 2853, \"1\": 51, \"13\": 5, \"9\": 37, \"5\": 14, \"7\": 1, \"0\": 4, \"8\": 13, \"2\": 4, \"4\": 15, \"3\": 3}, \"6\": {\"6\": 2537, \"10\": 362, \"7\": 54, \"2\": 19, \"14\": 20, \"4\": 5, \"11\": 2, \"3\": 1}, \"4\": {\"4\": 1340, \"12\": 1136, \"7\": 215, \"10\": 129, \"8\": 51, \"5\": 12, \"2\": 39, \"14\": 11, \"6\": 8, \"3\": 33, \"1\": 4, \"9\": 15, \"15\": 7}, \"8\": {\"8\": 2223, \"7\": 48, \"12\": 54, \"14\": 345, \"4\": 50, \"2\": 123, \"3\": 89, \"6\": 10, \"0\": 3, \"5\": 25, \"10\": 17, \"9\": 3, \"15\": 8, \"11\": 2}, \"0\": {\"0\": 2344, \"2\": 307, \"5\": 220, \"3\": 42, \"9\": 29, \"1\": 36, \"8\": 9, \"15\": 11, \"12\": 1, \"10\": 1}, \"1\": {\"1\": 1429, \"5\": 274, \"15\": 453, \"2\": 415, \"9\": 268, \"12\": 96, \"3\": 63, \"13\": 1, \"10\": 1}, \"3\": {\"9\": 287, \"3\": 424, \"5\": 173, \"2\": 937, \"7\": 666, \"1\": 136, \"12\": 241, \"8\": 14, \"4\": 23, \"15\": 24, \"10\": 55, \"13\": 13, \"6\": 4, \"0\": 3}, \"2\": {\"13\": 241, \"2\": 1421, \"7\": 393, \"9\": 549, \"12\": 225, \"5\": 15, \"15\": 62, \"1\": 50, \"10\": 6, \"3\": 33, \"6\": 1, \"4\": 1, \"11\": 2, \"8\": 1}, \"9\": {\"15\": 86, \"12\": 329, \"10\": 21, \"2\": 1150, \"3\": 82, \"9\": 978, \"7\": 129, \"1\": 157, \"5\": 17, \"13\": 51}, \"12\": {\"15\": 117, \"2\": 792, \"12\": 1261, \"7\": 453, \"9\": 122, \"3\": 14, \"13\": 162, \"11\": 2, \"1\": 56, \"4\": 6, \"5\": 6, \"10\": 7, \"6\": 2}, \"10\": {\"10\": 2796, \"4\": 90, \"6\": 90, \"14\": 4, \"12\": 9, \"7\": 10, \"2\": 1}, \"5\": {\"5\": 861, \"0\": 13, \"3\": 146, \"2\": 788, \"1\": 329, \"9\": 136, \"7\": 392, \"12\": 159, \"15\": 144, \"13\": 9, \"8\": 14, \"10\": 1, \"11\": 4, \"4\": 3, \"6\": 1}}, \"44\": {\"11\": {\"11\": 2983, \"3\": 12, \"13\": 2, \"6\": 1, \"0\": 2}, \"10\": {\"10\": 2883, \"2\": 46, \"7\": 25, \"1\": 42, \"6\": 1, \"12\": 3}, \"1\": {\"1\": 2475, \"5\": 157, \"10\": 3, \"12\": 126, \"2\": 156, \"8\": 23, \"14\": 34, \"7\": 24, \"3\": 1, \"0\": 1}, \"6\": {\"6\": 2855, \"9\": 60, \"13\": 56, \"7\": 28, \"15\": 1}, \"5\": {\"6\": 1452, \"5\": 874, \"14\": 322, \"15\": 257, \"4\": 82, \"8\": 8, \"0\": 2, \"13\": 3}, \"0\": {\"0\": 2027, \"8\": 798, \"6\": 27, \"15\": 126, \"5\": 18, \"14\": 2, \"13\": 2}, \"13\": {\"13\": 1636, \"0\": 201, \"6\": 673, \"7\": 129, \"4\": 250, \"9\": 81, \"15\": 12, \"11\": 18}, \"15\": {\"15\": 2093, \"12\": 70, \"11\": 320, \"14\": 340, \"0\": 70, \"4\": 27, \"8\": 27, \"5\": 39, \"6\": 14}, \"3\": {\"3\": 2381, \"12\": 172, \"4\": 133, \"8\": 25, \"14\": 168, \"7\": 17, \"2\": 38, \"13\": 39, \"5\": 17, \"11\": 8, \"6\": 2}, \"2\": {\"8\": 318, \"2\": 2337, \"1\": 107, \"11\": 13, \"15\": 170, \"9\": 6, \"0\": 15, \"5\": 22, \"10\": 5, \"7\": 6, \"12\": 1}, \"4\": {\"4\": 2076, \"15\": 296, \"14\": 420, \"9\": 72, \"6\": 22, \"11\": 98, \"0\": 4, \"12\": 2, \"7\": 6, \"5\": 3, \"8\": 1}, \"9\": {\"7\": 1026, \"9\": 1309, \"2\": 223, \"6\": 352, \"13\": 19, \"15\": 65, \"10\": 4, \"11\": 1, \"4\": 1}, \"14\": {\"14\": 2189, \"15\": 335, \"4\": 342, \"5\": 94, \"11\": 7, \"6\": 23, \"9\": 8, \"8\": 2}, \"8\": {\"8\": 1738, \"0\": 709, \"15\": 410, \"5\": 109, \"6\": 31, \"2\": 1, \"1\": 1, \"14\": 1}, \"12\": {\"3\": 950, \"12\": 2038, \"14\": 7, \"13\": 1, \"5\": 2, \"15\": 1, \"8\": 1}, \"7\": {\"2\": 171, \"9\": 616, \"7\": 1962, \"6\": 202, \"10\": 40, \"15\": 9}}, \"14\": {\"1\": {\"1\": 2994, \"11\": 2, \"7\": 2, \"2\": 2}, \"13\": {\"13\": 877, \"4\": 3, \"14\": 207, \"6\": 1640, \"2\": 182, \"3\": 46, \"15\": 39, \"10\": 6}, \"14\": {\"14\": 1879, \"6\": 160, \"13\": 338, \"2\": 581, \"3\": 10, \"5\": 9, \"0\": 8, \"10\": 10, \"4\": 5}, \"7\": {\"7\": 2846, \"5\": 143, \"2\": 11}, \"0\": {\"8\": 224, \"9\": 16, \"0\": 1799, \"4\": 30, \"10\": 292, \"3\": 238, \"11\": 89, \"2\": 184, \"14\": 82, \"13\": 31, \"5\": 14, \"7\": 1}, \"4\": {\"4\": 2404, \"2\": 304, \"1\": 90, \"5\": 126, \"10\": 28, \"11\": 33, \"7\": 12, \"13\": 3}, \"8\": {\"8\": 2985, \"11\": 13, \"1\": 1, \"13\": 1}, \"15\": {\"15\": 2973, \"13\": 26, \"11\": 1}, \"2\": {\"2\": 2168, \"14\": 314, \"5\": 177, \"4\": 97, \"3\": 52, \"6\": 118, \"7\": 3, \"11\": 2, \"10\": 5, \"13\": 60, \"0\": 4}, \"10\": {\"3\": 1059, \"4\": 248, \"10\": 1515, \"2\": 101, \"14\": 14, \"8\": 19, \"0\": 8, \"13\": 21, \"15\": 6, \"12\": 5, \"9\": 1, \"5\": 2, \"11\": 1}, \"9\": {\"9\": 2888, \"0\": 13, \"13\": 12, \"11\": 74, \"15\": 8, \"1\": 3, \"2\": 1, \"8\": 1}, \"12\": {\"12\": 2138, \"6\": 123, \"9\": 100, \"11\": 74, \"3\": 92, \"15\": 46, \"5\": 24, \"7\": 35, \"13\": 33, \"2\": 91, \"14\": 21, \"0\": 156, \"8\": 49, \"4\": 12, \"1\": 6}, \"5\": {\"2\": 374, \"5\": 2010, \"4\": 518, \"7\": 63, \"11\": 14, \"3\": 8, \"14\": 9, \"1\": 2, \"8\": 1, \"13\": 1}, \"11\": {\"11\": 2118, \"7\": 563, \"6\": 56, \"13\": 240, \"4\": 3, \"2\": 11, \"12\": 4, \"10\": 1, \"3\": 3, \"15\": 1}, \"6\": {\"6\": 2079, \"13\": 666, \"2\": 142, \"3\": 26, \"14\": 85, \"7\": 2}, \"3\": {\"3\": 2707, \"2\": 131, \"0\": 88, \"13\": 2, \"14\": 22, \"5\": 43, \"6\": 2, \"7\": 3, \"11\": 2}}, \"38\": {\"7\": {\"7\": 2276, \"4\": 571, \"9\": 12, \"8\": 77, \"15\": 37, \"5\": 23, \"14\": 1, \"0\": 2, \"6\": 1}, \"1\": {\"1\": 2684, \"0\": 54, \"2\": 118, \"15\": 58, \"9\": 67, \"6\": 14, \"11\": 1, \"14\": 4}, \"14\": {\"5\": 390, \"14\": 2180, \"13\": 23, \"7\": 63, \"4\": 250, \"2\": 14, \"6\": 37, \"12\": 26, \"8\": 1, \"15\": 6, \"10\": 2, \"3\": 8}, \"0\": {\"4\": 571, \"7\": 1011, \"13\": 93, \"0\": 828, \"9\": 397, \"11\": 51, \"15\": 14, \"6\": 12, \"10\": 5, \"3\": 11, \"14\": 5, \"5\": 2}, \"12\": {\"12\": 2992, \"13\": 4, \"6\": 2, \"15\": 2}, \"8\": {\"6\": 44, \"15\": 938, \"5\": 647, \"8\": 745, \"4\": 307, \"14\": 101, \"7\": 87, \"11\": 88, \"1\": 36, \"13\": 2, \"9\": 5}, \"15\": {\"1\": 1880, \"5\": 56, \"15\": 873, \"13\": 79, \"6\": 46, \"8\": 19, \"11\": 26, \"0\": 11, \"9\": 4, \"10\": 6}, \"11\": {\"11\": 3000}, \"13\": {\"0\": 1151, \"13\": 1268, \"10\": 187, \"4\": 252, \"3\": 58, \"7\": 43, \"5\": 25, \"11\": 15, \"2\": 1}, \"3\": {\"3\": 1781, \"0\": 1039, \"9\": 83, \"13\": 26, \"11\": 66, \"10\": 4, \"4\": 1}, \"6\": {\"6\": 2870, \"2\": 28, \"9\": 44, \"1\": 12, \"11\": 1, \"14\": 42, \"0\": 2, \"4\": 1}, \"4\": {\"4\": 3000}, \"10\": {\"10\": 1311, \"0\": 1103, \"13\": 186, \"4\": 264, \"11\": 133, \"7\": 2, \"14\": 1}, \"2\": {\"14\": 480, \"5\": 1077, \"2\": 1264, \"7\": 121, \"6\": 30, \"3\": 12, \"4\": 2, \"13\": 13, \"8\": 1}, \"9\": {\"9\": 2859, \"5\": 14, \"15\": 6, \"11\": 61, \"14\": 14, \"4\": 5, \"12\": 39, \"8\": 2}, \"5\": {\"5\": 1047, \"15\": 652, \"11\": 305, \"4\": 54, \"8\": 639, \"14\": 63, \"9\": 70, \"7\": 56, \"1\": 73, \"6\": 36, \"0\": 3, \"13\": 1, \"12\": 1}}, \"50\": {\"13\": {\"13\": 2776, \"12\": 51, \"6\": 36, \"10\": 57, \"15\": 53, \"8\": 11, \"1\": 10, \"5\": 4, \"0\": 2}, \"14\": {\"14\": 2463, \"6\": 37, \"2\": 32, \"9\": 468}, \"11\": {\"11\": 2792, \"8\": 65, \"1\": 27, \"9\": 68, \"15\": 21, \"5\": 16, \"0\": 4, \"14\": 1, \"12\": 4, \"4\": 2}, \"4\": {\"14\": 146, \"4\": 1714, \"7\": 117, \"5\": 827, \"6\": 114, \"15\": 47, \"8\": 24, \"0\": 7, \"2\": 4}, \"0\": {\"2\": 411, \"0\": 2226, \"12\": 52, \"1\": 138, \"10\": 166, \"9\": 3, \"15\": 3, \"6\": 1}, \"15\": {\"14\": 188, \"15\": 1900, \"4\": 488, \"8\": 121, \"6\": 129, \"5\": 75, \"7\": 23, \"11\": 64, \"9\": 12}, \"9\": {\"9\": 2760, \"11\": 187, \"8\": 3, \"5\": 8, \"7\": 6, \"12\": 31, \"14\": 2, \"4\": 1, \"15\": 2}, \"8\": {\"8\": 2676, \"3\": 128, \"10\": 111, \"1\": 76, \"0\": 5, \"13\": 4}, \"12\": {\"12\": 2314, \"9\": 619, \"11\": 62, \"0\": 2, \"15\": 1, \"14\": 2}, \"2\": {\"2\": 2793, \"9\": 79, \"6\": 4, \"11\": 3, \"0\": 92, \"12\": 9, \"14\": 1, \"1\": 19}, \"1\": {\"1\": 2675, \"8\": 5, \"13\": 89, \"15\": 187, \"6\": 36, \"11\": 5, \"0\": 1, \"5\": 1, \"12\": 1}, \"3\": {\"3\": 2994, \"14\": 2, \"2\": 4}, \"7\": {\"7\": 1384, \"4\": 153, \"14\": 834, \"5\": 425, \"2\": 175, \"13\": 5, \"6\": 24}, \"5\": {\"6\": 424, \"5\": 1800, \"2\": 38, \"14\": 248, \"15\": 143, \"4\": 211, \"7\": 71, \"13\": 20, \"8\": 41, \"1\": 3, \"12\": 1}, \"10\": {\"10\": 2846, \"0\": 93, \"15\": 4, \"13\": 34, \"12\": 10, \"1\": 11, \"8\": 2}, \"6\": {\"15\": 411, \"6\": 2078, \"14\": 160, \"5\": 274, \"4\": 61, \"13\": 7, \"8\": 9}}, \"26\": {\"13\": {\"13\": 2361, \"9\": 416, \"2\": 109, \"8\": 72, \"15\": 6, \"5\": 2, \"3\": 11, \"0\": 23}, \"10\": {\"10\": 999, \"0\": 973, \"14\": 518, \"6\": 167, \"8\": 175, \"1\": 86, \"4\": 4, \"12\": 18, \"7\": 22, \"3\": 1, \"15\": 16, \"2\": 11, \"5\": 7, \"9\": 3}, \"0\": {\"10\": 449, \"0\": 1544, \"14\": 616, \"8\": 232, \"7\": 43, \"9\": 3, \"1\": 40, \"6\": 48, \"15\": 11, \"2\": 11, \"4\": 3}, \"4\": {\"4\": 2406, \"14\": 51, \"3\": 432, \"0\": 46, \"13\": 31, \"8\": 17, \"2\": 5, \"10\": 10, \"6\": 2}, \"7\": {\"3\": 571, \"9\": 105, \"2\": 469, \"8\": 764, \"7\": 926, \"0\": 77, \"4\": 57, \"13\": 20, \"14\": 9, \"10\": 1, \"6\": 1}, \"2\": {\"7\": 508, \"2\": 1426, \"13\": 74, \"8\": 530, \"9\": 116, \"3\": 242, \"0\": 46, \"14\": 5, \"10\": 11, \"15\": 19, \"5\": 18, \"4\": 2, \"6\": 3}, \"15\": {\"15\": 971, \"6\": 255, \"2\": 918, \"5\": 289, \"7\": 243, \"0\": 108, \"8\": 54, \"9\": 57, \"10\": 46, \"14\": 41, \"3\": 16, \"1\": 1, \"13\": 1}, \"9\": {\"13\": 221, \"9\": 1827, \"15\": 16, \"8\": 564, \"7\": 22, \"2\": 195, \"10\": 9, \"0\": 136, \"6\": 5, \"4\": 2, \"3\": 2, \"11\": 1}, \"11\": {\"11\": 2659, \"6\": 301, \"12\": 33, \"5\": 1, \"2\": 5, \"10\": 1}, \"6\": {\"10\": 352, \"6\": 2113, \"0\": 41, \"5\": 89, \"14\": 41, \"15\": 333, \"9\": 14, \"8\": 5, \"12\": 7, \"2\": 1, \"1\": 2, \"11\": 2}, \"14\": {\"14\": 1365, \"0\": 597, \"1\": 484, \"10\": 494, \"8\": 35, \"6\": 21, \"15\": 1, \"4\": 1, \"5\": 2}, \"1\": {\"1\": 2576, \"0\": 28, \"10\": 130, \"14\": 253, \"15\": 3, \"8\": 1, \"6\": 9}, \"5\": {\"5\": 2332, \"11\": 11, \"6\": 165, \"10\": 65, \"2\": 34, \"15\": 376, \"14\": 3, \"1\": 8, \"9\": 4, \"0\": 1, \"13\": 1}, \"3\": {\"3\": 2354, \"7\": 296, \"2\": 223, \"9\": 12, \"8\": 59, \"14\": 4, \"4\": 23, \"13\": 7, \"0\": 20, \"10\": 1, \"6\": 1}, \"8\": {\"8\": 1935, \"2\": 168, \"9\": 185, \"0\": 334, \"4\": 30, \"7\": 237, \"10\": 66, \"14\": 25, \"3\": 8, \"13\": 6, \"6\": 4, \"5\": 1, \"15\": 1}, \"12\": {\"12\": 3000}}, \"32\": {\"5\": {\"1\": 475, \"5\": 1134, \"7\": 339, \"0\": 440, \"2\": 98, \"11\": 48, \"3\": 50, \"8\": 109, \"9\": 204, \"14\": 55, \"12\": 41, \"10\": 7}, \"10\": {\"10\": 2997, \"12\": 1, \"6\": 1, \"1\": 1}, \"12\": {\"12\": 2947, \"11\": 27, \"0\": 12, \"10\": 2, \"6\": 6, \"9\": 1, \"2\": 5}, \"6\": {\"6\": 2958, \"11\": 42}, \"13\": {\"3\": 568, \"13\": 2063, \"4\": 211, \"11\": 128, \"12\": 20, \"15\": 5, \"14\": 3, \"2\": 1, \"6\": 1}, \"4\": {\"4\": 1668, \"13\": 512, \"3\": 590, \"2\": 174, \"14\": 25, \"11\": 10, \"12\": 5, \"8\": 8, \"6\": 7, \"0\": 1}, \"8\": {\"8\": 2412, \"0\": 133, \"12\": 55, \"2\": 34, \"3\": 172, \"15\": 69, \"5\": 69, \"14\": 13, \"1\": 28, \"13\": 10, \"7\": 3, \"4\": 1, \"11\": 1}, \"14\": {\"6\": 480, \"14\": 1248, \"0\": 744, \"3\": 57, \"1\": 26, \"2\": 220, \"12\": 15, \"7\": 146, \"11\": 13, \"5\": 34, \"8\": 8, \"4\": 7, \"9\": 2}, \"11\": {\"11\": 1854, \"14\": 263, \"13\": 318, \"3\": 232, \"4\": 285, \"6\": 10, \"2\": 30, \"15\": 5, \"0\": 1, \"12\": 1, \"5\": 1}, \"3\": {\"3\": 2716, \"13\": 130, \"12\": 146, \"11\": 4, \"15\": 4}, \"2\": {\"2\": 1815, \"5\": 30, \"7\": 322, \"0\": 252, \"14\": 116, \"4\": 391, \"6\": 27, \"3\": 33, \"9\": 2, \"12\": 2, \"11\": 8, \"13\": 1, \"8\": 1}, \"9\": {\"9\": 1806, \"2\": 206, \"14\": 761, \"6\": 138, \"1\": 80, \"0\": 1, \"12\": 2, \"5\": 4, \"11\": 2}, \"7\": {\"7\": 1341, \"14\": 798, \"5\": 432, \"3\": 192, \"12\": 34, \"2\": 37, \"0\": 88, \"1\": 62, \"8\": 12, \"4\": 3, \"11\": 1}, \"1\": {\"1\": 2972, \"8\": 25, \"10\": 3}, \"0\": {\"0\": 1622, \"14\": 221, \"8\": 474, \"6\": 33, \"3\": 357, \"5\": 86, \"13\": 15, \"11\": 11, \"2\": 52, \"7\": 73, \"4\": 53, \"1\": 2, \"9\": 1}, \"15\": {\"15\": 2926, \"2\": 16, \"8\": 58}}, \"8\": {\"15\": {\"15\": 2341, \"12\": 459, \"3\": 104, \"8\": 14, \"5\": 60, \"1\": 13, \"4\": 3, \"2\": 3, \"0\": 3}, \"2\": {\"2\": 667, \"1\": 577, \"15\": 908, \"3\": 328, \"5\": 278, \"0\": 94, \"9\": 29, \"12\": 54, \"8\": 8, \"13\": 11, \"10\": 20, \"7\": 24, \"4\": 2}, \"3\": {\"3\": 2721, \"2\": 141, \"0\": 38, \"10\": 83, \"12\": 3, \"4\": 8, \"15\": 5, \"8\": 1}, \"8\": {\"8\": 2926, \"6\": 19, \"7\": 5, \"4\": 4, \"11\": 45, \"14\": 1}, \"11\": {\"10\": 269, \"11\": 1367, \"4\": 91, \"8\": 981, \"1\": 224, \"5\": 12, \"14\": 48, \"6\": 5, \"12\": 3}, \"9\": {\"9\": 2908, \"5\": 60, \"13\": 27, \"12\": 5}, \"14\": {\"14\": 1527, \"4\": 1322, \"7\": 39, \"10\": 33, \"13\": 25, \"0\": 27, \"8\": 5, \"11\": 8, \"6\": 14}, \"6\": {\"7\": 972, \"4\": 881, \"6\": 756, \"13\": 100, \"14\": 88, \"11\": 69, \"8\": 32, \"0\": 90, \"10\": 12}, \"0\": {\"0\": 2895, \"14\": 103, \"3\": 1, \"4\": 1}, \"1\": {\"1\": 1831, \"10\": 195, \"11\": 445, \"14\": 180, \"5\": 194, \"4\": 143, \"13\": 5, \"6\": 6, \"8\": 1}, \"10\": {\"10\": 1848, \"13\": 1038, \"5\": 95, \"1\": 6, \"6\": 5, \"4\": 5, \"14\": 3}, \"4\": {\"4\": 1208, \"14\": 183, \"7\": 1018, \"6\": 323, \"13\": 226, \"11\": 10, \"10\": 23, \"3\": 1, \"1\": 3, \"0\": 2, \"2\": 3}, \"12\": {\"12\": 1996, \"15\": 313, \"4\": 460, \"8\": 82, \"1\": 1, \"5\": 8, \"6\": 3, \"10\": 69, \"7\": 6, \"14\": 37, \"3\": 21, \"9\": 1, \"2\": 3}, \"5\": {\"10\": 1374, \"5\": 1526, \"13\": 63, \"1\": 32, \"14\": 4, \"9\": 1}, \"7\": {\"7\": 2200, \"13\": 301, \"6\": 448, \"2\": 8, \"4\": 35, \"10\": 4, \"11\": 1, \"12\": 1, \"3\": 1, \"14\": 1}, \"13\": {\"13\": 1532, \"10\": 851, \"1\": 351, \"5\": 147, \"6\": 49, \"15\": 19, \"7\": 23, \"3\": 1, \"4\": 24, \"11\": 1, \"12\": 2}}}, \"per_domain_accuracy\": {\"20\": {\"accuracy\": 0.6110208333333333, \"source?\": true}, \"44\": {\"accuracy\": 0.7053333333333334, \"source?\": true}, \"14\": {\"accuracy\": 0.7579166666666667, \"source?\": true}, \"38\": {\"accuracy\": 0.645375, \"source?\": true}, \"50\": {\"accuracy\": 0.7956458333333334, \"source?\": true}, \"26\": {\"accuracy\": 0.6415416666666667, \"source?\": true}, \"32\": {\"accuracy\": 0.7183125, \"source?\": true}, \"8\": {\"accuracy\": 0.6301875, \"source?\": true}}}, \"history\": {\"epoch_indices\": [1, 2, 3, 4, 5, 6, 7, 8, 9, 10, 11], \"train_label_loss\": [1.978990620630128, 1.155296135195664, 0.8733209310684885, 0.717877007322652, 0.6134731522287641, 0.5409677922555378, 0.47854977227321693, 0.4280775661255632, 0.3886761878505349, 0.353065003407853, 0.325000765176756], \"source_val_label_loss\": [1.2751208221912385, 0.9568027512232462, 0.7830176964998246, 0.6679070697228113, 0.6846050482392311, 0.6209371177752813, 0.621792281250159, 0.6243840496142705, 0.6836884424090386, 0.6537804191509883, 0.63815932371219], \"target_val_label_loss\": [1.5112599809169769, 1.3126337917248407, 1.2936970335642497, 1.2169247539043426, 1.2914610128005346, 1.3349588453372319, 1.3965340259075165, 1.4715973262786866, 1.5787476082642873, 1.5190422143936158, 1.6387800988356271], \"source_val_acc_label\": [0.5824375, 0.663890625, 0.7201770833333333, 0.7583697916666666, 0.7473697916666666, 0.7739427083333333, 0.77415625, 0.7749166666666667, 0.7581510416666667, 0.7694791666666667, 0.778640625], \"target_val_acc_label\": [0.47419791666666666, 0.5531197916666667, 0.5595, 0.5929739583333333, 0.581625, 0.5905625, 0.6021770833333333, 0.5895989583333333, 0.5787708333333333, 0.5985729166666667, 0.599921875]}, \"dataset_metrics\": {\"source\": {\"train\": {\"n_unique_x\": 896000, \"n_unique_y\": 16, \"n_batch/episode\": 7000}, \"val\": {\"n_unique_x\": 192000, \"n_unique_y\": 16, \"n_batch/episode\": 1500}, \"test\": {\"n_unique_x\": 192000, \"n_unique_y\": 16, \"n_batch/episode\": 1500}}, \"target\": {\"train\": {\"n_unique_x\": 896000, \"n_unique_y\": 16, \"n_batch/episode\": 7000}, \"val\": {\"n_unique_x\": 192000, \"n_unique_y\": 16, \"n_batch/episode\": 1500}, \"test\": {\"n_unique_x\": 192000, \"n_unique_y\": 16, \"n_batch/episode\": 1500}}}}'"
      ]
     },
     "execution_count": 20,
     "metadata": {},
     "output_type": "execute_result"
    }
   ],
   "source": [
    "json.dumps(experiment)"
   ]
  }
 ],
 "metadata": {
  "celltoolbar": "Tags",
  "kernelspec": {
   "display_name": "Python 3 (ipykernel)",
   "language": "python",
   "name": "python3"
  },
  "language_info": {
   "codemirror_mode": {
    "name": "ipython",
    "version": 3
   },
   "file_extension": ".py",
   "mimetype": "text/x-python",
   "name": "python",
   "nbconvert_exporter": "python",
   "pygments_lexer": "ipython3",
   "version": "3.8.12"
  },
  "papermill": {
   "default_parameters": {},
   "duration": 1129.005976,
   "end_time": "2022-03-28T01:22:22.564767",
   "environment_variables": {},
   "exception": null,
   "input_path": "/root/csc500-main/csc500-notebooks/templates/cnn_template.ipynb",
   "output_path": "trial.ipynb",
   "parameters": {
    "parameters": {
     "BEST_MODEL_PATH": "./best_model.pth",
     "NUM_LOGS_PER_EPOCH": 10,
     "batch_size": 128,
     "criteria_for_best": "target_accuracy",
     "dataset_seed": 420,
     "device": "cuda",
     "domains_source": [
      8,
      32,
      50,
      14,
      20,
      26,
      38,
      44
     ],
     "domains_target": [
      8,
      32,
      50,
      14,
      20,
      26,
      38,
      44
     ],
     "experiment_name": "cnn_3:oracle.run1-oracle.run2",
     "labels": [
      "3123D52",
      "3123D65",
      "3123D79",
      "3123D80",
      "3123D54",
      "3123D70",
      "3123D7B",
      "3123D89",
      "3123D58",
      "3123D76",
      "3123D7D",
      "3123EFE",
      "3123D64",
      "3123D78",
      "3123D7E",
      "3124E4A"
     ],
     "lr": 0.0001,
     "n_epoch": 50,
     "normalize_source": false,
     "normalize_target": false,
     "num_examples_per_domain_per_label_source": -1,
     "num_examples_per_domain_per_label_target": -1,
     "patience": 3,
     "pickle_name_source": "oracle.Run1_10kExamples_stratified_ds.2022A.pkl",
     "pickle_name_target": "oracle.Run2_10kExamples_stratified_ds.2022A.pkl",
     "seed": 420,
     "torch_default_dtype": "torch.float32",
     "x_net": [
      {
       "class": "nnReshape",
       "kargs": {
        "shape": [
         -1,
         1,
         2,
         256
        ]
       }
      },
      {
       "class": "Conv2d",
       "kargs": {
        "bias": false,
        "in_channels": 1,
        "kernel_size": [
         1,
         7
        ],
        "out_channels": 256,
        "padding": [
         0,
         3
        ]
       }
      },
      {
       "class": "ReLU",
       "kargs": {
        "inplace": true
       }
      },
      {
       "class": "BatchNorm2d",
       "kargs": {
        "num_features": 256
       }
      },
      {
       "class": "Conv2d",
       "kargs": {
        "bias": true,
        "in_channels": 256,
        "kernel_size": [
         2,
         7
        ],
        "out_channels": 80,
        "padding": [
         0,
         3
        ]
       }
      },
      {
       "class": "ReLU",
       "kargs": {
        "inplace": true
       }
      },
      {
       "class": "BatchNorm2d",
       "kargs": {
        "num_features": 80
       }
      },
      {
       "class": "Flatten",
       "kargs": {}
      },
      {
       "class": "Linear",
       "kargs": {
        "in_features": 20480,
        "out_features": 256
       }
      },
      {
       "class": "ReLU",
       "kargs": {
        "inplace": true
       }
      },
      {
       "class": "BatchNorm1d",
       "kargs": {
        "num_features": 256
       }
      },
      {
       "class": "Linear",
       "kargs": {
        "in_features": 256,
        "out_features": 16
       }
      }
     ]
    }
   },
   "start_time": "2022-03-28T01:03:33.558791",
   "version": "2.3.4"
  }
 },
 "nbformat": 4,
 "nbformat_minor": 5
}