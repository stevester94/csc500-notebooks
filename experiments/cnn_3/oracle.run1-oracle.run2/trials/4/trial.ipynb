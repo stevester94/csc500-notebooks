{
 "cells": [
  {
   "cell_type": "code",
   "execution_count": 1,
   "id": "2324682e",
   "metadata": {
    "execution": {
     "iopub.execute_input": "2022-03-27T22:49:55.895866Z",
     "iopub.status.busy": "2022-03-27T22:49:55.894996Z",
     "iopub.status.idle": "2022-03-27T22:49:57.248349Z",
     "shell.execute_reply": "2022-03-27T22:49:57.249014Z"
    },
    "papermill": {
     "duration": 1.388011,
     "end_time": "2022-03-27T22:49:57.249347",
     "exception": false,
     "start_time": "2022-03-27T22:49:55.861336",
     "status": "completed"
    },
    "tags": []
   },
   "outputs": [],
   "source": [
    "import os, json, sys, time, random\n",
    "import numpy as np\n",
    "import torch\n",
    "from  easydict import EasyDict\n",
    "from math import floor\n",
    "from easydict import EasyDict\n",
    "\n",
    "from steves_utils.vanilla_train_eval_test_jig import  Vanilla_Train_Eval_Test_Jig\n",
    "\n",
    "from steves_utils.torch_utils import get_dataset_metrics, independent_accuracy_assesment\n",
    "from steves_models.configurable_vanilla import Configurable_Vanilla\n",
    "from steves_utils.torch_sequential_builder import build_sequential\n",
    "from steves_utils.lazy_map import Lazy_Map\n",
    "from steves_utils.sequence_aggregator import Sequence_Aggregator\n",
    "\n",
    "from steves_utils.stratified_dataset.traditional_accessor import Traditional_Accessor_Factory\n",
    "\n",
    "from steves_utils.cnn_do_report import (\n",
    "    get_loss_curve,\n",
    "    get_results_table,\n",
    "    get_parameters_table,\n",
    "    get_domain_accuracies,\n",
    ")\n",
    "\n",
    "from steves_utils.torch_utils import (\n",
    "    confusion_by_domain_over_dataloader,\n",
    "    independent_accuracy_assesment\n",
    ")\n",
    "\n",
    "from steves_utils.utils_v2 import (\n",
    "    per_domain_accuracy_from_confusion,\n",
    "    get_datasets_base_path\n",
    ")\n",
    "\n",
    "# from steves_utils.ptn_do_report import TBD"
   ]
  },
  {
   "cell_type": "code",
   "execution_count": 2,
   "id": "1b29e3fe",
   "metadata": {
    "execution": {
     "iopub.execute_input": "2022-03-27T22:49:57.286087Z",
     "iopub.status.busy": "2022-03-27T22:49:57.285713Z",
     "iopub.status.idle": "2022-03-27T22:49:57.288272Z",
     "shell.execute_reply": "2022-03-27T22:49:57.288939Z"
    },
    "papermill": {
     "duration": 0.022479,
     "end_time": "2022-03-27T22:49:57.289119",
     "exception": false,
     "start_time": "2022-03-27T22:49:57.266640",
     "status": "completed"
    },
    "tags": []
   },
   "outputs": [],
   "source": [
    "required_parameters = {\n",
    "    \"experiment_name\",\n",
    "    \"lr\",\n",
    "    \"device\",\n",
    "    \"dataset_seed\",\n",
    "    \"seed\",\n",
    "    \"labels\",\n",
    "    \"domains_target\",\n",
    "    \"domains_source\",\n",
    "    \"num_examples_per_domain_per_label_source\",\n",
    "    \"num_examples_per_domain_per_label_target\",\n",
    "    \"batch_size\",\n",
    "    \"n_epoch\",\n",
    "    \"patience\",\n",
    "    \"criteria_for_best\",\n",
    "    \"normalize_source\",\n",
    "    \"normalize_target\",\n",
    "    \"x_net\",\n",
    "    \"NUM_LOGS_PER_EPOCH\",\n",
    "    \"BEST_MODEL_PATH\",\n",
    "    \"pickle_name_source\",\n",
    "    \"pickle_name_target\",\n",
    "    \"torch_default_dtype\",\n",
    "}"
   ]
  },
  {
   "cell_type": "code",
   "execution_count": 3,
   "id": "670b5fb8",
   "metadata": {
    "execution": {
     "iopub.execute_input": "2022-03-27T22:49:57.336619Z",
     "iopub.status.busy": "2022-03-27T22:49:57.335747Z",
     "iopub.status.idle": "2022-03-27T22:49:57.343417Z",
     "shell.execute_reply": "2022-03-27T22:49:57.342629Z"
    },
    "papermill": {
     "duration": 0.0354,
     "end_time": "2022-03-27T22:49:57.343581",
     "exception": false,
     "start_time": "2022-03-27T22:49:57.308181",
     "status": "completed"
    },
    "tags": [
     "parameters"
    ]
   },
   "outputs": [],
   "source": [
    "from steves_utils.ORACLE.utils_v2 import (\n",
    "    ALL_SERIAL_NUMBERS,\n",
    "    ALL_DISTANCES_FEET_NARROWED,\n",
    ")\n",
    "\n",
    "standalone_parameters = {}\n",
    "standalone_parameters[\"experiment_name\"] = \"MANUAL CORES CNN\"\n",
    "standalone_parameters[\"lr\"] = 0.0001\n",
    "standalone_parameters[\"device\"] = \"cuda\"\n",
    "\n",
    "standalone_parameters[\"dataset_seed\"] = 1337\n",
    "standalone_parameters[\"seed\"] = 1337\n",
    "standalone_parameters[\"labels\"] = ALL_SERIAL_NUMBERS\n",
    "\n",
    "standalone_parameters[\"domains_source\"] = [8,32,50]\n",
    "standalone_parameters[\"domains_target\"] = [14,20,26,38,44,]\n",
    "\n",
    "standalone_parameters[\"num_examples_per_domain_per_label_source\"]=-1\n",
    "standalone_parameters[\"num_examples_per_domain_per_label_target\"]=-1\n",
    "\n",
    "standalone_parameters[\"pickle_name_source\"] = \"oracle.Run1_framed_2000Examples_stratified_ds.2022A.pkl\"\n",
    "standalone_parameters[\"pickle_name_target\"] = \"oracle.Run2_framed_2000Examples_stratified_ds.2022A.pkl\"\n",
    "\n",
    "standalone_parameters[\"torch_default_dtype\"] = \"torch.float32\" \n",
    "\n",
    "standalone_parameters[\"batch_size\"]=128\n",
    "\n",
    "standalone_parameters[\"n_epoch\"] = 3\n",
    "\n",
    "standalone_parameters[\"patience\"] = 10\n",
    "\n",
    "standalone_parameters[\"criteria_for_best\"] = \"target_accuracy\"\n",
    "standalone_parameters[\"normalize_source\"] = False\n",
    "standalone_parameters[\"normalize_target\"] = False\n",
    "\n",
    "standalone_parameters[\"x_net\"] =     [\n",
    "    {\"class\": \"nnReshape\", \"kargs\": {\"shape\":[-1, 1, 2, 256]}},\n",
    "    {\"class\": \"Conv2d\", \"kargs\": { \"in_channels\":1, \"out_channels\":256, \"kernel_size\":(1,7), \"bias\":False, \"padding\":(0,3), },},\n",
    "    {\"class\": \"ReLU\", \"kargs\": {\"inplace\": True}},\n",
    "    {\"class\": \"BatchNorm2d\", \"kargs\": {\"num_features\":256}},\n",
    "\n",
    "    {\"class\": \"Conv2d\", \"kargs\": { \"in_channels\":256, \"out_channels\":80, \"kernel_size\":(2,7), \"bias\":True, \"padding\":(0,3), },},\n",
    "    {\"class\": \"ReLU\", \"kargs\": {\"inplace\": True}},\n",
    "    {\"class\": \"BatchNorm2d\", \"kargs\": {\"num_features\":80}},\n",
    "    {\"class\": \"Flatten\", \"kargs\": {}},\n",
    "\n",
    "    {\"class\": \"Linear\", \"kargs\": {\"in_features\": 80*256, \"out_features\": 256}}, # 80 units per IQ pair\n",
    "    {\"class\": \"ReLU\", \"kargs\": {\"inplace\": True}},\n",
    "    {\"class\": \"BatchNorm1d\", \"kargs\": {\"num_features\":256}},\n",
    "\n",
    "    {\"class\": \"Linear\", \"kargs\": {\"in_features\": 256, \"out_features\": len(standalone_parameters[\"labels\"])}},\n",
    "]\n",
    "\n",
    "standalone_parameters[\"NUM_LOGS_PER_EPOCH\"] = 10\n",
    "standalone_parameters[\"BEST_MODEL_PATH\"] = \"./best_model.pth\""
   ]
  },
  {
   "cell_type": "code",
   "execution_count": 4,
   "id": "a07fa72c",
   "metadata": {
    "execution": {
     "iopub.execute_input": "2022-03-27T22:49:57.392314Z",
     "iopub.status.busy": "2022-03-27T22:49:57.391401Z",
     "iopub.status.idle": "2022-03-27T22:49:57.394188Z",
     "shell.execute_reply": "2022-03-27T22:49:57.393399Z"
    },
    "papermill": {
     "duration": 0.029122,
     "end_time": "2022-03-27T22:49:57.394338",
     "exception": false,
     "start_time": "2022-03-27T22:49:57.365216",
     "status": "completed"
    },
    "tags": [
     "injected-parameters"
    ]
   },
   "outputs": [],
   "source": [
    "# Parameters\n",
    "parameters = {\n",
    "    \"experiment_name\": \"cnn_3:oracle.run1-oracle.run2\",\n",
    "    \"domains_source\": [8, 32, 50, 14, 20, 26, 38, 44],\n",
    "    \"domains_target\": [8, 32, 50, 14, 20, 26, 38, 44],\n",
    "    \"labels\": [\n",
    "        \"3123D52\",\n",
    "        \"3123D65\",\n",
    "        \"3123D79\",\n",
    "        \"3123D80\",\n",
    "        \"3123D54\",\n",
    "        \"3123D70\",\n",
    "        \"3123D7B\",\n",
    "        \"3123D89\",\n",
    "        \"3123D58\",\n",
    "        \"3123D76\",\n",
    "        \"3123D7D\",\n",
    "        \"3123EFE\",\n",
    "        \"3123D64\",\n",
    "        \"3123D78\",\n",
    "        \"3123D7E\",\n",
    "        \"3124E4A\",\n",
    "    ],\n",
    "    \"pickle_name_source\": \"oracle.Run1_10kExamples_stratified_ds.2022A.pkl\",\n",
    "    \"pickle_name_target\": \"oracle.Run2_10kExamples_stratified_ds.2022A.pkl\",\n",
    "    \"device\": \"cuda\",\n",
    "    \"lr\": 0.0001,\n",
    "    \"batch_size\": 128,\n",
    "    \"normalize_source\": False,\n",
    "    \"normalize_target\": False,\n",
    "    \"num_examples_per_domain_per_label_source\": -1,\n",
    "    \"num_examples_per_domain_per_label_target\": -1,\n",
    "    \"torch_default_dtype\": \"torch.float32\",\n",
    "    \"n_epoch\": 50,\n",
    "    \"patience\": 3,\n",
    "    \"criteria_for_best\": \"target_accuracy\",\n",
    "    \"x_net\": [\n",
    "        {\"class\": \"nnReshape\", \"kargs\": {\"shape\": [-1, 1, 2, 256]}},\n",
    "        {\n",
    "            \"class\": \"Conv2d\",\n",
    "            \"kargs\": {\n",
    "                \"in_channels\": 1,\n",
    "                \"out_channels\": 256,\n",
    "                \"kernel_size\": [1, 7],\n",
    "                \"bias\": False,\n",
    "                \"padding\": [0, 3],\n",
    "            },\n",
    "        },\n",
    "        {\"class\": \"ReLU\", \"kargs\": {\"inplace\": True}},\n",
    "        {\"class\": \"BatchNorm2d\", \"kargs\": {\"num_features\": 256}},\n",
    "        {\n",
    "            \"class\": \"Conv2d\",\n",
    "            \"kargs\": {\n",
    "                \"in_channels\": 256,\n",
    "                \"out_channels\": 80,\n",
    "                \"kernel_size\": [2, 7],\n",
    "                \"bias\": True,\n",
    "                \"padding\": [0, 3],\n",
    "            },\n",
    "        },\n",
    "        {\"class\": \"ReLU\", \"kargs\": {\"inplace\": True}},\n",
    "        {\"class\": \"BatchNorm2d\", \"kargs\": {\"num_features\": 80}},\n",
    "        {\"class\": \"Flatten\", \"kargs\": {}},\n",
    "        {\"class\": \"Linear\", \"kargs\": {\"in_features\": 20480, \"out_features\": 256}},\n",
    "        {\"class\": \"ReLU\", \"kargs\": {\"inplace\": True}},\n",
    "        {\"class\": \"BatchNorm1d\", \"kargs\": {\"num_features\": 256}},\n",
    "        {\"class\": \"Linear\", \"kargs\": {\"in_features\": 256, \"out_features\": 16}},\n",
    "    ],\n",
    "    \"NUM_LOGS_PER_EPOCH\": 10,\n",
    "    \"BEST_MODEL_PATH\": \"./best_model.pth\",\n",
    "    \"dataset_seed\": 500,\n",
    "    \"seed\": 500,\n",
    "}\n"
   ]
  },
  {
   "cell_type": "code",
   "execution_count": 5,
   "id": "759b56ec",
   "metadata": {
    "execution": {
     "iopub.execute_input": "2022-03-27T22:49:57.434969Z",
     "iopub.status.busy": "2022-03-27T22:49:57.434594Z",
     "iopub.status.idle": "2022-03-27T22:49:57.437784Z",
     "shell.execute_reply": "2022-03-27T22:49:57.437000Z"
    },
    "papermill": {
     "duration": 0.024866,
     "end_time": "2022-03-27T22:49:57.437937",
     "exception": false,
     "start_time": "2022-03-27T22:49:57.413071",
     "status": "completed"
    },
    "tags": []
   },
   "outputs": [],
   "source": [
    "# Set this to True if you want to run this template directly\n",
    "STANDALONE = False\n",
    "if STANDALONE:\n",
    "    print(\"parameters not injected, running with standalone_parameters\")\n",
    "    parameters = standalone_parameters\n",
    "\n",
    "if not 'parameters' in locals() and not 'parameters' in globals():\n",
    "    raise Exception(\"Parameter injection failed\")\n",
    "\n",
    "#Use an easy dict for all the parameters\n",
    "p = EasyDict(parameters)\n",
    "\n",
    "supplied_keys = set(p.keys())\n",
    "\n",
    "if  supplied_keys != required_parameters:\n",
    "    print(\"Parameters are incorrect\")\n",
    "    if len(supplied_keys - required_parameters)>0: print(\"Shouldn't have:\", str(supplied_keys - required_parameters))\n",
    "    if len(required_parameters - supplied_keys)>0: print(\"Need to have:\", str(required_parameters - supplied_keys))\n",
    "    raise RuntimeError(\"Parameters are incorrect\")\n",
    "\n"
   ]
  },
  {
   "cell_type": "code",
   "execution_count": 6,
   "id": "d5c66a71",
   "metadata": {
    "execution": {
     "iopub.execute_input": "2022-03-27T22:49:57.472865Z",
     "iopub.status.busy": "2022-03-27T22:49:57.472500Z",
     "iopub.status.idle": "2022-03-27T22:49:57.476923Z",
     "shell.execute_reply": "2022-03-27T22:49:57.476218Z"
    },
    "papermill": {
     "duration": 0.022519,
     "end_time": "2022-03-27T22:49:57.477074",
     "exception": false,
     "start_time": "2022-03-27T22:49:57.454555",
     "status": "completed"
    },
    "tags": []
   },
   "outputs": [],
   "source": [
    "###################################\n",
    "# Set the RNGs and make it all deterministic\n",
    "###################################\n",
    "np.random.seed(p.seed)\n",
    "random.seed(p.seed)\n",
    "torch.manual_seed(p.seed)\n",
    "\n",
    "torch.use_deterministic_algorithms(True) "
   ]
  },
  {
   "cell_type": "code",
   "execution_count": 7,
   "id": "92a65876",
   "metadata": {
    "execution": {
     "iopub.execute_input": "2022-03-27T22:49:57.514511Z",
     "iopub.status.busy": "2022-03-27T22:49:57.514152Z",
     "iopub.status.idle": "2022-03-27T22:49:57.516486Z",
     "shell.execute_reply": "2022-03-27T22:49:57.516771Z"
    },
    "papermill": {
     "duration": 0.020365,
     "end_time": "2022-03-27T22:49:57.516886",
     "exception": false,
     "start_time": "2022-03-27T22:49:57.496521",
     "status": "completed"
    },
    "tags": []
   },
   "outputs": [],
   "source": [
    "torch.set_default_dtype(eval(p.torch_default_dtype))"
   ]
  },
  {
   "cell_type": "code",
   "execution_count": 8,
   "id": "f1a32f01",
   "metadata": {
    "execution": {
     "iopub.execute_input": "2022-03-27T22:49:57.552321Z",
     "iopub.status.busy": "2022-03-27T22:49:57.551958Z",
     "iopub.status.idle": "2022-03-27T22:49:57.593025Z",
     "shell.execute_reply": "2022-03-27T22:49:57.592270Z"
    },
    "papermill": {
     "duration": 0.05885,
     "end_time": "2022-03-27T22:49:57.593207",
     "exception": false,
     "start_time": "2022-03-27T22:49:57.534357",
     "status": "completed"
    },
    "tags": []
   },
   "outputs": [],
   "source": [
    "###################################\n",
    "# Build the network(s)\n",
    "# Note: It's critical to do this AFTER setting the RNG\n",
    "###################################\n",
    "x_net = build_sequential(p.x_net)"
   ]
  },
  {
   "cell_type": "code",
   "execution_count": 9,
   "id": "a276cd83",
   "metadata": {
    "execution": {
     "iopub.execute_input": "2022-03-27T22:49:57.628931Z",
     "iopub.status.busy": "2022-03-27T22:49:57.628563Z",
     "iopub.status.idle": "2022-03-27T22:49:57.631183Z",
     "shell.execute_reply": "2022-03-27T22:49:57.630830Z"
    },
    "papermill": {
     "duration": 0.02024,
     "end_time": "2022-03-27T22:49:57.631252",
     "exception": false,
     "start_time": "2022-03-27T22:49:57.611012",
     "status": "completed"
    },
    "tags": []
   },
   "outputs": [],
   "source": [
    "start_time_secs = time.time()"
   ]
  },
  {
   "cell_type": "code",
   "execution_count": 10,
   "id": "de702e48",
   "metadata": {
    "execution": {
     "iopub.execute_input": "2022-03-27T22:49:57.674427Z",
     "iopub.status.busy": "2022-03-27T22:49:57.669052Z",
     "iopub.status.idle": "2022-03-27T22:50:34.108279Z",
     "shell.execute_reply": "2022-03-27T22:50:34.107438Z"
    },
    "papermill": {
     "duration": 36.46043,
     "end_time": "2022-03-27T22:50:34.108463",
     "exception": false,
     "start_time": "2022-03-27T22:49:57.648033",
     "status": "completed"
    },
    "tags": []
   },
   "outputs": [],
   "source": [
    "def wrap_in_dataloader(p, ds):\n",
    "    return torch.utils.data.DataLoader(\n",
    "        ds,\n",
    "        batch_size=p.batch_size,\n",
    "        shuffle=True,\n",
    "        num_workers=1,\n",
    "        persistent_workers=True,\n",
    "        prefetch_factor=50,\n",
    "        pin_memory=True\n",
    "    )\n",
    "\n",
    "taf_source = Traditional_Accessor_Factory(\n",
    "    labels=p.labels,\n",
    "    domains=p.domains_source,\n",
    "    num_examples_per_domain_per_label=p.num_examples_per_domain_per_label_source,\n",
    "    pickle_path=os.path.join(get_datasets_base_path(), p.pickle_name_source),\n",
    "    seed=p.dataset_seed\n",
    ")\n",
    "train_original_source, val_original_source, test_original_source = \\\n",
    "    taf_source.get_train(), taf_source.get_val(), taf_source.get_test()\n",
    "\n",
    "\n",
    "taf_target = Traditional_Accessor_Factory(\n",
    "    labels=p.labels,\n",
    "    domains=p.domains_target,\n",
    "    num_examples_per_domain_per_label=p.num_examples_per_domain_per_label_source,\n",
    "    pickle_path=os.path.join(get_datasets_base_path(), p.pickle_name_target),\n",
    "    seed=p.dataset_seed\n",
    ")\n",
    "train_original_target, val_original_target, test_original_target = \\\n",
    "    taf_target.get_train(), taf_target.get_val(), taf_target.get_test()\n",
    "\n",
    "\n",
    "# For CNN We only use X and Y. And we only train on the source.\n",
    "# Properly form the data using a transform lambda and Lazy_Map. Finally wrap them in a dataloader\n",
    "\n",
    "transform_lambda = lambda ex: ex[:2] # Strip the tuple to just (x,y)\n",
    "\n",
    "\n",
    "train_processed_source = wrap_in_dataloader(\n",
    "    p,\n",
    "    Lazy_Map(train_original_source, transform_lambda)\n",
    ")\n",
    "val_processed_source = wrap_in_dataloader(\n",
    "    p,\n",
    "    Lazy_Map(val_original_source, transform_lambda)\n",
    ")\n",
    "test_processed_source = wrap_in_dataloader(\n",
    "    p,\n",
    "    Lazy_Map(test_original_source, transform_lambda)\n",
    ")\n",
    "\n",
    "train_processed_target = wrap_in_dataloader(\n",
    "    p,\n",
    "    Lazy_Map(train_original_target, transform_lambda)\n",
    ")\n",
    "val_processed_target = wrap_in_dataloader(\n",
    "    p,\n",
    "    Lazy_Map(val_original_target, transform_lambda)\n",
    ")\n",
    "test_processed_target  = wrap_in_dataloader(\n",
    "    p,\n",
    "    Lazy_Map(test_original_target, transform_lambda)\n",
    ")\n",
    "\n",
    "\n",
    "\n",
    "datasets = EasyDict({\n",
    "    \"source\": {\n",
    "        \"original\": {\"train\":train_original_source, \"val\":val_original_source, \"test\":test_original_source},\n",
    "        \"processed\": {\"train\":train_processed_source, \"val\":val_processed_source, \"test\":test_processed_source}\n",
    "    },\n",
    "    \"target\": {\n",
    "        \"original\": {\"train\":train_original_target, \"val\":val_original_target, \"test\":test_original_target},\n",
    "        \"processed\": {\"train\":train_processed_target, \"val\":val_processed_target, \"test\":test_processed_target}\n",
    "    },\n",
    "})"
   ]
  },
  {
   "cell_type": "code",
   "execution_count": 11,
   "id": "a11b26bd",
   "metadata": {
    "execution": {
     "iopub.execute_input": "2022-03-27T22:50:34.189094Z",
     "iopub.status.busy": "2022-03-27T22:50:34.188273Z",
     "iopub.status.idle": "2022-03-27T22:50:39.743111Z",
     "shell.execute_reply": "2022-03-27T22:50:39.742271Z"
    },
    "papermill": {
     "duration": 5.616273,
     "end_time": "2022-03-27T22:50:39.743286",
     "exception": false,
     "start_time": "2022-03-27T22:50:34.127013",
     "status": "completed"
    },
    "tags": []
   },
   "outputs": [
    {
     "data": {
      "text/plain": [
       "torch.float32"
      ]
     },
     "execution_count": 11,
     "metadata": {},
     "output_type": "execute_result"
    }
   ],
   "source": [
    "ep = next(iter(test_processed_target))\n",
    "ep[0].dtype"
   ]
  },
  {
   "cell_type": "code",
   "execution_count": 12,
   "id": "19425fad",
   "metadata": {
    "execution": {
     "iopub.execute_input": "2022-03-27T22:50:39.782762Z",
     "iopub.status.busy": "2022-03-27T22:50:39.782198Z",
     "iopub.status.idle": "2022-03-27T22:50:39.832723Z",
     "shell.execute_reply": "2022-03-27T22:50:39.832012Z"
    },
    "papermill": {
     "duration": 0.072115,
     "end_time": "2022-03-27T22:50:39.832878",
     "exception": false,
     "start_time": "2022-03-27T22:50:39.760763",
     "status": "completed"
    },
    "tags": []
   },
   "outputs": [],
   "source": [
    "model = Configurable_Vanilla(\n",
    "    x_net=x_net,\n",
    "    label_loss_object=torch.nn.NLLLoss(),\n",
    "    learning_rate=p.lr\n",
    ")"
   ]
  },
  {
   "cell_type": "code",
   "execution_count": 13,
   "id": "7f6d4f2c",
   "metadata": {
    "execution": {
     "iopub.execute_input": "2022-03-27T22:50:39.873756Z",
     "iopub.status.busy": "2022-03-27T22:50:39.873117Z",
     "iopub.status.idle": "2022-03-27T23:02:52.066239Z",
     "shell.execute_reply": "2022-03-27T23:02:52.065897Z"
    },
    "papermill": {
     "duration": 732.215116,
     "end_time": "2022-03-27T23:02:52.066326",
     "exception": false,
     "start_time": "2022-03-27T22:50:39.851210",
     "status": "completed"
    },
    "tags": []
   },
   "outputs": [
    {
     "name": "stdout",
     "output_type": "stream",
     "text": [
      "epoch: 1, [batch: 1 / 7000], examples_per_second: 315.6947, train_label_loss: 2.7911, \n"
     ]
    },
    {
     "name": "stdout",
     "output_type": "stream",
     "text": [
      "epoch: 1, [batch: 700 / 7000], examples_per_second: 12409.6738, train_label_loss: 2.6469, \n"
     ]
    },
    {
     "name": "stdout",
     "output_type": "stream",
     "text": [
      "epoch: 1, [batch: 1400 / 7000], examples_per_second: 12717.4156, train_label_loss: 2.6693, \n"
     ]
    },
    {
     "name": "stdout",
     "output_type": "stream",
     "text": [
      "epoch: 1, [batch: 2100 / 7000], examples_per_second: 12677.4118, train_label_loss: 2.3393, \n"
     ]
    },
    {
     "name": "stdout",
     "output_type": "stream",
     "text": [
      "epoch: 1, [batch: 2800 / 7000], examples_per_second: 12637.9861, train_label_loss: 2.2365, \n"
     ]
    },
    {
     "name": "stdout",
     "output_type": "stream",
     "text": [
      "epoch: 1, [batch: 3500 / 7000], examples_per_second: 12719.7752, train_label_loss: 2.0886, \n"
     ]
    },
    {
     "name": "stdout",
     "output_type": "stream",
     "text": [
      "epoch: 1, [batch: 4200 / 7000], examples_per_second: 12600.0920, train_label_loss: 1.6757, \n"
     ]
    },
    {
     "name": "stdout",
     "output_type": "stream",
     "text": [
      "epoch: 1, [batch: 4900 / 7000], examples_per_second: 12534.0312, train_label_loss: 1.7202, \n"
     ]
    },
    {
     "name": "stdout",
     "output_type": "stream",
     "text": [
      "epoch: 1, [batch: 5600 / 7000], examples_per_second: 12619.0129, train_label_loss: 1.7971, \n"
     ]
    },
    {
     "name": "stdout",
     "output_type": "stream",
     "text": [
      "epoch: 1, [batch: 6300 / 7000], examples_per_second: 12412.5812, train_label_loss: 1.4778, \n"
     ]
    },
    {
     "name": "stdout",
     "output_type": "stream",
     "text": [
      "=============================================================\n",
      "epoch: 1, source_val_acc_label: 0.5797, source_val_label_loss: 1.2875, target_val_acc_label: 0.4804, target_val_label_loss: 1.5252, \n",
      "=============================================================\n"
     ]
    },
    {
     "name": "stdout",
     "output_type": "stream",
     "text": [
      "New best\n",
      "epoch: 2, [batch: 1 / 7000], examples_per_second: 13.3999, train_label_loss: 1.2904, \n"
     ]
    },
    {
     "name": "stdout",
     "output_type": "stream",
     "text": [
      "epoch: 2, [batch: 700 / 7000], examples_per_second: 12522.4771, train_label_loss: 1.2910, \n"
     ]
    },
    {
     "name": "stdout",
     "output_type": "stream",
     "text": [
      "epoch: 2, [batch: 1400 / 7000], examples_per_second: 12729.9880, train_label_loss: 1.5205, \n"
     ]
    },
    {
     "name": "stdout",
     "output_type": "stream",
     "text": [
      "epoch: 2, [batch: 2100 / 7000], examples_per_second: 12584.6757, train_label_loss: 1.1218, \n"
     ]
    },
    {
     "name": "stdout",
     "output_type": "stream",
     "text": [
      "epoch: 2, [batch: 2800 / 7000], examples_per_second: 12600.9737, train_label_loss: 1.0829, \n"
     ]
    },
    {
     "name": "stdout",
     "output_type": "stream",
     "text": [
      "epoch: 2, [batch: 3500 / 7000], examples_per_second: 12186.8454, train_label_loss: 1.3951, \n"
     ]
    },
    {
     "name": "stdout",
     "output_type": "stream",
     "text": [
      "epoch: 2, [batch: 4200 / 7000], examples_per_second: 12374.6197, train_label_loss: 1.0059, \n"
     ]
    },
    {
     "name": "stdout",
     "output_type": "stream",
     "text": [
      "epoch: 2, [batch: 4900 / 7000], examples_per_second: 12271.0010, train_label_loss: 1.0821, \n"
     ]
    },
    {
     "name": "stdout",
     "output_type": "stream",
     "text": [
      "epoch: 2, [batch: 5600 / 7000], examples_per_second: 11083.3257, train_label_loss: 0.9982, \n"
     ]
    },
    {
     "name": "stdout",
     "output_type": "stream",
     "text": [
      "epoch: 2, [batch: 6300 / 7000], examples_per_second: 10666.4943, train_label_loss: 0.8768, \n"
     ]
    },
    {
     "name": "stdout",
     "output_type": "stream",
     "text": [
      "=============================================================\n",
      "epoch: 2, source_val_acc_label: 0.6771, source_val_label_loss: 0.9443, target_val_acc_label: 0.5385, target_val_label_loss: 1.3473, \n",
      "=============================================================\n"
     ]
    },
    {
     "name": "stdout",
     "output_type": "stream",
     "text": [
      "New best\n",
      "epoch: 3, [batch: 1 / 7000], examples_per_second: 11.5911, train_label_loss: 1.0314, \n"
     ]
    },
    {
     "name": "stdout",
     "output_type": "stream",
     "text": [
      "epoch: 3, [batch: 700 / 7000], examples_per_second: 10624.2768, train_label_loss: 1.2895, \n"
     ]
    },
    {
     "name": "stdout",
     "output_type": "stream",
     "text": [
      "epoch: 3, [batch: 1400 / 7000], examples_per_second: 10676.8800, train_label_loss: 0.8462, \n"
     ]
    },
    {
     "name": "stdout",
     "output_type": "stream",
     "text": [
      "epoch: 3, [batch: 2100 / 7000], examples_per_second: 11270.1269, train_label_loss: 0.8646, \n"
     ]
    },
    {
     "name": "stdout",
     "output_type": "stream",
     "text": [
      "epoch: 3, [batch: 2800 / 7000], examples_per_second: 11698.3348, train_label_loss: 0.7990, \n"
     ]
    },
    {
     "name": "stdout",
     "output_type": "stream",
     "text": [
      "epoch: 3, [batch: 3500 / 7000], examples_per_second: 11558.1073, train_label_loss: 0.9772, \n"
     ]
    },
    {
     "name": "stdout",
     "output_type": "stream",
     "text": [
      "epoch: 3, [batch: 4200 / 7000], examples_per_second: 11591.9485, train_label_loss: 0.7671, \n"
     ]
    },
    {
     "name": "stdout",
     "output_type": "stream",
     "text": [
      "epoch: 3, [batch: 4900 / 7000], examples_per_second: 11601.9204, train_label_loss: 0.9748, \n"
     ]
    },
    {
     "name": "stdout",
     "output_type": "stream",
     "text": [
      "epoch: 3, [batch: 5600 / 7000], examples_per_second: 11746.9582, train_label_loss: 0.8208, \n"
     ]
    },
    {
     "name": "stdout",
     "output_type": "stream",
     "text": [
      "epoch: 3, [batch: 6300 / 7000], examples_per_second: 11589.1660, train_label_loss: 0.7230, \n"
     ]
    },
    {
     "name": "stdout",
     "output_type": "stream",
     "text": [
      "=============================================================\n",
      "epoch: 3, source_val_acc_label: 0.7079, source_val_label_loss: 0.8912, target_val_acc_label: 0.5510, target_val_label_loss: 1.3588, \n",
      "=============================================================\n"
     ]
    },
    {
     "name": "stdout",
     "output_type": "stream",
     "text": [
      "New best\n",
      "epoch: 4, [batch: 1 / 7000], examples_per_second: 13.0638, train_label_loss: 0.6370, \n"
     ]
    },
    {
     "name": "stdout",
     "output_type": "stream",
     "text": [
      "epoch: 4, [batch: 700 / 7000], examples_per_second: 11793.3358, train_label_loss: 0.6232, \n"
     ]
    },
    {
     "name": "stdout",
     "output_type": "stream",
     "text": [
      "epoch: 4, [batch: 1400 / 7000], examples_per_second: 10612.8318, train_label_loss: 0.6471, \n"
     ]
    },
    {
     "name": "stdout",
     "output_type": "stream",
     "text": [
      "epoch: 4, [batch: 2100 / 7000], examples_per_second: 10652.9027, train_label_loss: 1.0941, \n"
     ]
    },
    {
     "name": "stdout",
     "output_type": "stream",
     "text": [
      "epoch: 4, [batch: 2800 / 7000], examples_per_second: 10651.9784, train_label_loss: 0.6512, \n"
     ]
    },
    {
     "name": "stdout",
     "output_type": "stream",
     "text": [
      "epoch: 4, [batch: 3500 / 7000], examples_per_second: 10679.9370, train_label_loss: 0.4993, \n"
     ]
    },
    {
     "name": "stdout",
     "output_type": "stream",
     "text": [
      "epoch: 4, [batch: 4200 / 7000], examples_per_second: 10608.2096, train_label_loss: 0.8300, \n"
     ]
    },
    {
     "name": "stdout",
     "output_type": "stream",
     "text": [
      "epoch: 4, [batch: 4900 / 7000], examples_per_second: 10710.4475, train_label_loss: 0.5658, \n"
     ]
    },
    {
     "name": "stdout",
     "output_type": "stream",
     "text": [
      "epoch: 4, [batch: 5600 / 7000], examples_per_second: 10552.6862, train_label_loss: 0.5911, \n"
     ]
    },
    {
     "name": "stdout",
     "output_type": "stream",
     "text": [
      "epoch: 4, [batch: 6300 / 7000], examples_per_second: 10612.4233, train_label_loss: 0.5968, \n"
     ]
    },
    {
     "name": "stdout",
     "output_type": "stream",
     "text": [
      "=============================================================\n",
      "epoch: 4, source_val_acc_label: 0.7660, source_val_label_loss: 0.6567, target_val_acc_label: 0.5966, target_val_label_loss: 1.2151, \n",
      "=============================================================\n"
     ]
    },
    {
     "name": "stdout",
     "output_type": "stream",
     "text": [
      "New best\n",
      "epoch: 5, [batch: 1 / 7000], examples_per_second: 11.5346, train_label_loss: 0.4497, \n"
     ]
    },
    {
     "name": "stdout",
     "output_type": "stream",
     "text": [
      "epoch: 5, [batch: 700 / 7000], examples_per_second: 10765.7332, train_label_loss: 0.4624, \n"
     ]
    },
    {
     "name": "stdout",
     "output_type": "stream",
     "text": [
      "epoch: 5, [batch: 1400 / 7000], examples_per_second: 10723.2853, train_label_loss: 0.6553, \n"
     ]
    },
    {
     "name": "stdout",
     "output_type": "stream",
     "text": [
      "epoch: 5, [batch: 2100 / 7000], examples_per_second: 10711.1930, train_label_loss: 0.4713, \n"
     ]
    },
    {
     "name": "stdout",
     "output_type": "stream",
     "text": [
      "epoch: 5, [batch: 2800 / 7000], examples_per_second: 10712.4335, train_label_loss: 0.4407, \n"
     ]
    },
    {
     "name": "stdout",
     "output_type": "stream",
     "text": [
      "epoch: 5, [batch: 3500 / 7000], examples_per_second: 10712.3953, train_label_loss: 0.6568, \n"
     ]
    },
    {
     "name": "stdout",
     "output_type": "stream",
     "text": [
      "epoch: 5, [batch: 4200 / 7000], examples_per_second: 10736.8329, train_label_loss: 0.3994, \n"
     ]
    },
    {
     "name": "stdout",
     "output_type": "stream",
     "text": [
      "epoch: 5, [batch: 4900 / 7000], examples_per_second: 11554.8190, train_label_loss: 0.5302, \n"
     ]
    },
    {
     "name": "stdout",
     "output_type": "stream",
     "text": [
      "epoch: 5, [batch: 5600 / 7000], examples_per_second: 11754.9300, train_label_loss: 0.5226, \n"
     ]
    },
    {
     "name": "stdout",
     "output_type": "stream",
     "text": [
      "epoch: 5, [batch: 6300 / 7000], examples_per_second: 11745.7099, train_label_loss: 0.5223, \n"
     ]
    },
    {
     "name": "stdout",
     "output_type": "stream",
     "text": [
      "=============================================================\n",
      "epoch: 5, source_val_acc_label: 0.7327, source_val_label_loss: 0.7456, target_val_acc_label: 0.5761, target_val_label_loss: 1.4398, \n",
      "=============================================================\n"
     ]
    },
    {
     "name": "stdout",
     "output_type": "stream",
     "text": [
      "epoch: 6, [batch: 1 / 7000], examples_per_second: 13.2117, train_label_loss: 0.4420, \n"
     ]
    },
    {
     "name": "stdout",
     "output_type": "stream",
     "text": [
      "epoch: 6, [batch: 700 / 7000], examples_per_second: 11782.6066, train_label_loss: 0.5440, \n"
     ]
    },
    {
     "name": "stdout",
     "output_type": "stream",
     "text": [
      "epoch: 6, [batch: 1400 / 7000], examples_per_second: 11818.2443, train_label_loss: 0.4981, \n"
     ]
    },
    {
     "name": "stdout",
     "output_type": "stream",
     "text": [
      "epoch: 6, [batch: 2100 / 7000], examples_per_second: 11812.9525, train_label_loss: 0.7142, \n"
     ]
    },
    {
     "name": "stdout",
     "output_type": "stream",
     "text": [
      "epoch: 6, [batch: 2800 / 7000], examples_per_second: 11791.6260, train_label_loss: 0.5103, \n"
     ]
    },
    {
     "name": "stdout",
     "output_type": "stream",
     "text": [
      "epoch: 6, [batch: 3500 / 7000], examples_per_second: 12170.2235, train_label_loss: 0.4921, \n"
     ]
    },
    {
     "name": "stdout",
     "output_type": "stream",
     "text": [
      "epoch: 6, [batch: 4200 / 7000], examples_per_second: 10754.9956, train_label_loss: 0.6654, \n"
     ]
    },
    {
     "name": "stdout",
     "output_type": "stream",
     "text": [
      "epoch: 6, [batch: 4900 / 7000], examples_per_second: 10755.2514, train_label_loss: 0.5634, \n"
     ]
    },
    {
     "name": "stdout",
     "output_type": "stream",
     "text": [
      "epoch: 6, [batch: 5600 / 7000], examples_per_second: 10768.1006, train_label_loss: 0.4194, \n"
     ]
    },
    {
     "name": "stdout",
     "output_type": "stream",
     "text": [
      "epoch: 6, [batch: 6300 / 7000], examples_per_second: 10738.2706, train_label_loss: 0.5116, \n"
     ]
    },
    {
     "name": "stdout",
     "output_type": "stream",
     "text": [
      "=============================================================\n",
      "epoch: 6, source_val_acc_label: 0.7670, source_val_label_loss: 0.6355, target_val_acc_label: 0.5916, target_val_label_loss: 1.3733, \n",
      "=============================================================\n"
     ]
    },
    {
     "name": "stdout",
     "output_type": "stream",
     "text": [
      "epoch: 7, [batch: 1 / 7000], examples_per_second: 11.8062, train_label_loss: 0.6052, \n"
     ]
    },
    {
     "name": "stdout",
     "output_type": "stream",
     "text": [
      "epoch: 7, [batch: 700 / 7000], examples_per_second: 11771.5002, train_label_loss: 0.7283, \n"
     ]
    },
    {
     "name": "stdout",
     "output_type": "stream",
     "text": [
      "epoch: 7, [batch: 1400 / 7000], examples_per_second: 11754.9491, train_label_loss: 0.3035, \n"
     ]
    },
    {
     "name": "stdout",
     "output_type": "stream",
     "text": [
      "epoch: 7, [batch: 2100 / 7000], examples_per_second: 11752.6872, train_label_loss: 0.7693, \n"
     ]
    },
    {
     "name": "stdout",
     "output_type": "stream",
     "text": [
      "epoch: 7, [batch: 2800 / 7000], examples_per_second: 11731.1762, train_label_loss: 0.4152, \n"
     ]
    },
    {
     "name": "stdout",
     "output_type": "stream",
     "text": [
      "epoch: 7, [batch: 3500 / 7000], examples_per_second: 11901.5628, train_label_loss: 0.3712, \n"
     ]
    },
    {
     "name": "stdout",
     "output_type": "stream",
     "text": [
      "epoch: 7, [batch: 4200 / 7000], examples_per_second: 11732.4064, train_label_loss: 0.4701, \n"
     ]
    },
    {
     "name": "stdout",
     "output_type": "stream",
     "text": [
      "epoch: 7, [batch: 4900 / 7000], examples_per_second: 11758.4803, train_label_loss: 0.4349, \n"
     ]
    },
    {
     "name": "stdout",
     "output_type": "stream",
     "text": [
      "epoch: 7, [batch: 5600 / 7000], examples_per_second: 11713.1194, train_label_loss: 0.6205, \n"
     ]
    },
    {
     "name": "stdout",
     "output_type": "stream",
     "text": [
      "epoch: 7, [batch: 6300 / 7000], examples_per_second: 11740.2804, train_label_loss: 0.3479, \n"
     ]
    },
    {
     "name": "stdout",
     "output_type": "stream",
     "text": [
      "=============================================================\n",
      "epoch: 7, source_val_acc_label: 0.7739, source_val_label_loss: 0.6174, target_val_acc_label: 0.5962, target_val_label_loss: 1.3944, \n",
      "=============================================================\n"
     ]
    },
    {
     "name": "stdout",
     "output_type": "stream",
     "text": [
      "epoch: 8, [batch: 1 / 7000], examples_per_second: 12.7460, train_label_loss: 0.2748, \n"
     ]
    },
    {
     "name": "stdout",
     "output_type": "stream",
     "text": [
      "epoch: 8, [batch: 700 / 7000], examples_per_second: 10695.9650, train_label_loss: 0.5797, \n"
     ]
    },
    {
     "name": "stdout",
     "output_type": "stream",
     "text": [
      "epoch: 8, [batch: 1400 / 7000], examples_per_second: 10729.7296, train_label_loss: 0.3123, \n"
     ]
    },
    {
     "name": "stdout",
     "output_type": "stream",
     "text": [
      "epoch: 8, [batch: 2100 / 7000], examples_per_second: 10732.3173, train_label_loss: 0.4844, \n"
     ]
    },
    {
     "name": "stdout",
     "output_type": "stream",
     "text": [
      "epoch: 8, [batch: 2800 / 7000], examples_per_second: 10724.0148, train_label_loss: 0.3846, \n"
     ]
    },
    {
     "name": "stdout",
     "output_type": "stream",
     "text": [
      "epoch: 8, [batch: 3500 / 7000], examples_per_second: 10774.2020, train_label_loss: 0.4503, \n"
     ]
    },
    {
     "name": "stdout",
     "output_type": "stream",
     "text": [
      "epoch: 8, [batch: 4200 / 7000], examples_per_second: 10699.8447, train_label_loss: 0.3507, \n"
     ]
    },
    {
     "name": "stdout",
     "output_type": "stream",
     "text": [
      "epoch: 8, [batch: 4900 / 7000], examples_per_second: 10540.9269, train_label_loss: 0.5708, \n"
     ]
    },
    {
     "name": "stdout",
     "output_type": "stream",
     "text": [
      "epoch: 8, [batch: 5600 / 7000], examples_per_second: 10708.4952, train_label_loss: 0.4680, \n"
     ]
    },
    {
     "name": "stdout",
     "output_type": "stream",
     "text": [
      "epoch: 8, [batch: 6300 / 7000], examples_per_second: 10733.7657, train_label_loss: 0.4201, \n"
     ]
    },
    {
     "name": "stdout",
     "output_type": "stream",
     "text": [
      "=============================================================\n",
      "epoch: 8, source_val_acc_label: 0.7758, source_val_label_loss: 0.6360, target_val_acc_label: 0.5905, target_val_label_loss: 1.4651, \n",
      "=============================================================\n"
     ]
    },
    {
     "name": "stdout",
     "output_type": "stream",
     "text": [
      "Patience (3) exhausted\n"
     ]
    }
   ],
   "source": [
    "jig = Vanilla_Train_Eval_Test_Jig(\n",
    "    model=model,\n",
    "    path_to_best_model=p.BEST_MODEL_PATH,\n",
    "    device=p.device,\n",
    "    label_loss_object=torch.nn.NLLLoss(),\n",
    ")\n",
    "\n",
    "jig.train(\n",
    "    train_iterable=datasets.source.processed.train,\n",
    "    source_val_iterable=datasets.source.processed.val,\n",
    "    target_val_iterable=datasets.target.processed.val,\n",
    "    patience=p.patience,\n",
    "    num_epochs=p.n_epoch,\n",
    "    num_logs_per_epoch=p.NUM_LOGS_PER_EPOCH,\n",
    "    criteria_for_best=p.criteria_for_best\n",
    ")"
   ]
  },
  {
   "cell_type": "code",
   "execution_count": 14,
   "id": "4bc2ac17",
   "metadata": {
    "execution": {
     "iopub.execute_input": "2022-03-27T23:02:52.148768Z",
     "iopub.status.busy": "2022-03-27T23:02:52.148402Z",
     "iopub.status.idle": "2022-03-27T23:02:52.150991Z",
     "shell.execute_reply": "2022-03-27T23:02:52.151293Z"
    },
    "papermill": {
     "duration": 0.046528,
     "end_time": "2022-03-27T23:02:52.151379",
     "exception": false,
     "start_time": "2022-03-27T23:02:52.104851",
     "status": "completed"
    },
    "tags": []
   },
   "outputs": [],
   "source": [
    "total_experiment_time_secs = time.time() - start_time_secs"
   ]
  },
  {
   "cell_type": "code",
   "execution_count": 15,
   "id": "cae88f23",
   "metadata": {
    "execution": {
     "iopub.execute_input": "2022-03-27T23:02:52.239894Z",
     "iopub.status.busy": "2022-03-27T23:02:52.239489Z",
     "iopub.status.idle": "2022-03-27T23:04:45.024985Z",
     "shell.execute_reply": "2022-03-27T23:04:45.016379Z"
    },
    "papermill": {
     "duration": 112.838449,
     "end_time": "2022-03-27T23:04:45.028572",
     "exception": false,
     "start_time": "2022-03-27T23:02:52.190123",
     "status": "completed"
    },
    "tags": []
   },
   "outputs": [],
   "source": [
    "source_test_label_accuracy, source_test_label_loss = jig.test(datasets.source.processed.test)\n",
    "target_test_label_accuracy, target_test_label_loss = jig.test(datasets.target.processed.test)\n",
    "\n",
    "source_val_label_accuracy, source_val_label_loss = jig.test(datasets.source.processed.val)\n",
    "target_val_label_accuracy, target_val_label_loss = jig.test(datasets.target.processed.val)\n",
    "\n",
    "history = jig.get_history()\n",
    "\n",
    "total_epochs_trained = len(history[\"epoch_indices\"])\n",
    "\n",
    "val_dl = wrap_in_dataloader(p, Sequence_Aggregator((datasets.source.original.val, datasets.target.original.val)))\n",
    "\n",
    "confusion = confusion_by_domain_over_dataloader(model, p.device, val_dl, forward_uses_domain=False)\n",
    "per_domain_accuracy = per_domain_accuracy_from_confusion(confusion)\n",
    "\n",
    "# Add a key to per_domain_accuracy for if it was a source domain\n",
    "for domain, accuracy in per_domain_accuracy.items():\n",
    "    per_domain_accuracy[domain] = {\n",
    "        \"accuracy\": accuracy,\n",
    "        \"source?\": domain in p.domains_source\n",
    "    }\n",
    "\n",
    "# Do an independent accuracy assesment JUST TO BE SURE!\n",
    "# _source_test_label_accuracy = independent_accuracy_assesment(model, datasets.source.processed.test, p.device)\n",
    "# _target_test_label_accuracy = independent_accuracy_assesment(model, datasets.target.processed.test, p.device)\n",
    "# _source_val_label_accuracy = independent_accuracy_assesment(model, datasets.source.processed.val, p.device)\n",
    "# _target_val_label_accuracy = independent_accuracy_assesment(model, datasets.target.processed.val, p.device)\n",
    "\n",
    "# assert(_source_test_label_accuracy == source_test_label_accuracy)\n",
    "# assert(_target_test_label_accuracy == target_test_label_accuracy)\n",
    "# assert(_source_val_label_accuracy == source_val_label_accuracy)\n",
    "# assert(_target_val_label_accuracy == target_val_label_accuracy)\n",
    "\n",
    "###################################\n",
    "# Write out the results\n",
    "###################################\n",
    "\n",
    "experiment = {\n",
    "    \"experiment_name\": p.experiment_name,\n",
    "    \"parameters\": p,\n",
    "    \"results\": {\n",
    "        \"source_test_label_accuracy\": source_test_label_accuracy,\n",
    "        \"source_test_label_loss\": source_test_label_loss,\n",
    "        \"target_test_label_accuracy\": target_test_label_accuracy,\n",
    "        \"target_test_label_loss\": target_test_label_loss,\n",
    "        \"source_val_label_accuracy\": source_val_label_accuracy,\n",
    "        \"source_val_label_loss\": source_val_label_loss,\n",
    "        \"target_val_label_accuracy\": target_val_label_accuracy,\n",
    "        \"target_val_label_loss\": target_val_label_loss,\n",
    "        \"total_epochs_trained\": total_epochs_trained,\n",
    "        \"total_experiment_time_secs\": total_experiment_time_secs,\n",
    "        \"confusion\": confusion,\n",
    "        \"per_domain_accuracy\": per_domain_accuracy,\n",
    "    },\n",
    "    \"history\": history,\n",
    "    \"dataset_metrics\": get_dataset_metrics(datasets, \"cnn\"),\n",
    "}"
   ]
  },
  {
   "cell_type": "code",
   "execution_count": 16,
   "id": "74c318cf",
   "metadata": {
    "execution": {
     "iopub.execute_input": "2022-03-27T23:04:45.216133Z",
     "iopub.status.busy": "2022-03-27T23:04:45.214982Z",
     "iopub.status.idle": "2022-03-27T23:04:45.423985Z",
     "shell.execute_reply": "2022-03-27T23:04:45.424664Z"
    },
    "papermill": {
     "duration": 0.289249,
     "end_time": "2022-03-27T23:04:45.424849",
     "exception": false,
     "start_time": "2022-03-27T23:04:45.135600",
     "status": "completed"
    },
    "tags": []
   },
   "outputs": [
    {
     "data": {
      "text/plain": [
       "<AxesSubplot:title={'center':'Source Train Label Loss vs Source Val Label Loss'}, xlabel='Epoch'>"
      ]
     },
     "execution_count": 16,
     "metadata": {},
     "output_type": "execute_result"
    },
    {
     "data": {
      "image/png": "[encoded data removed]",
      "text/plain": [
       "<Figure size 1080x504 with 1 Axes>"
      ]
     },
     "metadata": {
      "needs_background": "light"
     },
     "output_type": "display_data"
    }
   ],
   "source": [
    "get_loss_curve(experiment)"
   ]
  },
  {
   "cell_type": "code",
   "execution_count": 17,
   "id": "59376601",
   "metadata": {
    "execution": {
     "iopub.execute_input": "2022-03-27T23:04:45.527474Z",
     "iopub.status.busy": "2022-03-27T23:04:45.526665Z",
     "iopub.status.idle": "2022-03-27T23:04:45.878881Z",
     "shell.execute_reply": "2022-03-27T23:04:45.878128Z"
    },
    "papermill": {
     "duration": 0.405657,
     "end_time": "2022-03-27T23:04:45.879034",
     "exception": false,
     "start_time": "2022-03-27T23:04:45.473377",
     "status": "completed"
    },
    "tags": []
   },
   "outputs": [
    {
     "data": {
      "text/plain": [
       "<AxesSubplot:title={'center':'Results'}>"
      ]
     },
     "execution_count": 17,
     "metadata": {},
     "output_type": "execute_result"
    },
    {
     "data": {
      "image/png": "[encoded data removed]",
      "text/plain": [
       "<Figure size 1080x504 with 1 Axes>"
      ]
     },
     "metadata": {
      "needs_background": "light"
     },
     "output_type": "display_data"
    }
   ],
   "source": [
    "get_results_table(experiment)"
   ]
  },
  {
   "cell_type": "code",
   "execution_count": 18,
   "id": "e80c5c98",
   "metadata": {
    "execution": {
     "iopub.execute_input": "2022-03-27T23:04:45.988775Z",
     "iopub.status.busy": "2022-03-27T23:04:45.987427Z",
     "iopub.status.idle": "2022-03-27T23:04:46.156285Z",
     "shell.execute_reply": "2022-03-27T23:04:46.156953Z"
    },
    "papermill": {
     "duration": 0.231924,
     "end_time": "2022-03-27T23:04:46.157133",
     "exception": false,
     "start_time": "2022-03-27T23:04:45.925209",
     "status": "completed"
    },
    "tags": []
   },
   "outputs": [
    {
     "data": {
      "text/plain": [
       "<AxesSubplot:title={'center':'Per Domain Accuracy'}, xlabel='domain'>"
      ]
     },
     "execution_count": 18,
     "metadata": {},
     "output_type": "execute_result"
    },
    {
     "data": {
      "image/png": "[encoded data removed]",
      "text/plain": [
       "<Figure size 1080x504 with 1 Axes>"
      ]
     },
     "metadata": {
      "needs_background": "light"
     },
     "output_type": "display_data"
    }
   ],
   "source": [
    "get_domain_accuracies(experiment)"
   ]
  },
  {
   "cell_type": "code",
   "execution_count": 19,
   "id": "086fdd10",
   "metadata": {
    "execution": {
     "iopub.execute_input": "2022-03-27T23:04:46.254047Z",
     "iopub.status.busy": "2022-03-27T23:04:46.253678Z",
     "iopub.status.idle": "2022-03-27T23:04:46.256498Z",
     "shell.execute_reply": "2022-03-27T23:04:46.256032Z"
    },
    "papermill": {
     "duration": 0.051629,
     "end_time": "2022-03-27T23:04:46.256656",
     "exception": false,
     "start_time": "2022-03-27T23:04:46.205027",
     "status": "completed"
    },
    "tags": []
   },
   "outputs": [
    {
     "name": "stdout",
     "output_type": "stream",
     "text": [
      "Source Test Label Accuracy: 0.7659322916666667 Target Test Label Accuracy: 0.5967916666666667\n",
      "Source Val Label Accuracy: 0.7659947916666666 Target Val Label Accuracy: 0.5966197916666667\n"
     ]
    }
   ],
   "source": [
    "print(\"Source Test Label Accuracy:\", experiment[\"results\"][\"source_test_label_accuracy\"], \"Target Test Label Accuracy:\", experiment[\"results\"][\"target_test_label_accuracy\"])\n",
    "print(\"Source Val Label Accuracy:\", experiment[\"results\"][\"source_val_label_accuracy\"], \"Target Val Label Accuracy:\", experiment[\"results\"][\"target_val_label_accuracy\"])"
   ]
  },
  {
   "cell_type": "code",
   "execution_count": 20,
   "id": "9f450536",
   "metadata": {
    "execution": {
     "iopub.execute_input": "2022-03-27T23:04:46.352974Z",
     "iopub.status.busy": "2022-03-27T23:04:46.352613Z",
     "iopub.status.idle": "2022-03-27T23:04:46.355308Z",
     "shell.execute_reply": "2022-03-27T23:04:46.354983Z"
    },
    "papermill": {
     "duration": 0.051016,
     "end_time": "2022-03-27T23:04:46.355378",
     "exception": false,
     "start_time": "2022-03-27T23:04:46.304362",
     "status": "completed"
    },
    "tags": [
     "experiment_json"
    ]
   },
   "outputs": [
    {
     "data": {
      "text/plain": [
       "'{\"experiment_name\": \"cnn_3:oracle.run1-oracle.run2\", \"parameters\": {\"experiment_name\": \"cnn_3:oracle.run1-oracle.run2\", \"domains_source\": [8, 32, 50, 14, 20, 26, 38, 44], \"domains_target\": [8, 32, 50, 14, 20, 26, 38, 44], \"labels\": [\"3123D52\", \"3123D65\", \"3123D79\", \"3123D80\", \"3123D54\", \"3123D70\", \"3123D7B\", \"3123D89\", \"3123D58\", \"3123D76\", \"3123D7D\", \"3123EFE\", \"3123D64\", \"3123D78\", \"3123D7E\", \"3124E4A\"], \"pickle_name_source\": \"oracle.Run1_10kExamples_stratified_ds.2022A.pkl\", \"pickle_name_target\": \"oracle.Run2_10kExamples_stratified_ds.2022A.pkl\", \"device\": \"cuda\", \"lr\": 0.0001, \"batch_size\": 128, \"normalize_source\": false, \"normalize_target\": false, \"num_examples_per_domain_per_label_source\": -1, \"num_examples_per_domain_per_label_target\": -1, \"torch_default_dtype\": \"torch.float32\", \"n_epoch\": 50, \"patience\": 3, \"criteria_for_best\": \"target_accuracy\", \"x_net\": [{\"class\": \"nnReshape\", \"kargs\": {\"shape\": [-1, 1, 2, 256]}}, {\"class\": \"Conv2d\", \"kargs\": {\"in_channels\": 1, \"out_channels\": 256, \"kernel_size\": [1, 7], \"bias\": false, \"padding\": [0, 3]}}, {\"class\": \"ReLU\", \"kargs\": {\"inplace\": true}}, {\"class\": \"BatchNorm2d\", \"kargs\": {\"num_features\": 256}}, {\"class\": \"Conv2d\", \"kargs\": {\"in_channels\": 256, \"out_channels\": 80, \"kernel_size\": [2, 7], \"bias\": true, \"padding\": [0, 3]}}, {\"class\": \"ReLU\", \"kargs\": {\"inplace\": true}}, {\"class\": \"BatchNorm2d\", \"kargs\": {\"num_features\": 80}}, {\"class\": \"Flatten\", \"kargs\": {}}, {\"class\": \"Linear\", \"kargs\": {\"in_features\": 20480, \"out_features\": 256}}, {\"class\": \"ReLU\", \"kargs\": {\"inplace\": true}}, {\"class\": \"BatchNorm1d\", \"kargs\": {\"num_features\": 256}}, {\"class\": \"Linear\", \"kargs\": {\"in_features\": 256, \"out_features\": 16}}], \"NUM_LOGS_PER_EPOCH\": 10, \"BEST_MODEL_PATH\": \"./best_model.pth\", \"dataset_seed\": 500, \"seed\": 500}, \"results\": {\"source_test_label_accuracy\": 0.7659322916666667, \"source_test_label_loss\": 0.6548673851887385, \"target_test_label_accuracy\": 0.5967916666666667, \"target_test_label_loss\": 1.21508573671182, \"source_val_label_accuracy\": 0.7659947916666666, \"source_val_label_loss\": 0.656679614285628, \"target_val_label_accuracy\": 0.5966197916666667, \"target_val_label_loss\": 1.2150783270597458, \"total_epochs_trained\": 8, \"total_experiment_time_secs\": 774.5201139450073, \"confusion\": {\"26\": {\"13\": {\"13\": 2174, \"2\": 111, \"0\": 48, \"9\": 604, \"8\": 49, \"3\": 12, \"5\": 1, \"15\": 1}, \"4\": {\"4\": 2365, \"13\": 31, \"3\": 447, \"14\": 50, \"0\": 96, \"8\": 5, \"7\": 1, \"10\": 5}, \"12\": {\"12\": 2999, \"0\": 1}, \"9\": {\"9\": 2001, \"8\": 350, \"2\": 252, \"0\": 175, \"7\": 29, \"13\": 179, \"3\": 9, \"15\": 3, \"6\": 1, \"4\": 1}, \"2\": {\"2\": 1520, \"7\": 716, \"3\": 314, \"13\": 34, \"8\": 237, \"0\": 80, \"5\": 6, \"15\": 4, \"9\": 83, \"14\": 2, \"10\": 4}, \"6\": {\"15\": 548, \"6\": 1548, \"5\": 94, \"10\": 636, \"12\": 3, \"0\": 88, \"9\": 43, \"14\": 30, \"1\": 4, \"2\": 4, \"11\": 2}, \"11\": {\"11\": 2827, \"6\": 113, \"2\": 8, \"12\": 45, \"5\": 1, \"9\": 2, \"15\": 1, \"10\": 2, \"0\": 1}, \"14\": {\"14\": 934, \"10\": 697, \"1\": 544, \"8\": 34, \"0\": 758, \"15\": 5, \"2\": 3, \"7\": 8, \"6\": 13, \"5\": 3, \"9\": 1}, \"7\": {\"2\": 456, \"9\": 95, \"8\": 250, \"7\": 1232, \"3\": 742, \"0\": 167, \"4\": 32, \"13\": 23, \"14\": 2, \"10\": 1}, \"3\": {\"2\": 94, \"3\": 2612, \"7\": 231, \"4\": 25, \"8\": 5, \"0\": 21, \"13\": 4, \"9\": 6, \"14\": 2}, \"1\": {\"1\": 2637, \"14\": 142, \"10\": 171, \"15\": 4, \"0\": 42, \"6\": 4}, \"0\": {\"0\": 1809, \"10\": 352, \"8\": 255, \"14\": 374, \"7\": 108, \"1\": 33, \"2\": 34, \"6\": 17, \"15\": 9, \"9\": 9}, \"8\": {\"8\": 1505, \"9\": 219, \"13\": 14, \"2\": 277, \"0\": 389, \"7\": 548, \"10\": 24, \"4\": 11, \"3\": 10, \"14\": 3}, \"15\": {\"2\": 1047, \"6\": 190, \"7\": 366, \"3\": 15, \"15\": 780, \"9\": 41, \"0\": 115, \"5\": 362, \"14\": 15, \"10\": 29, \"1\": 3, \"8\": 31, \"13\": 6}, \"5\": {\"2\": 86, \"5\": 2235, \"15\": 438, \"6\": 146, \"10\": 64, \"9\": 5, \"1\": 15, \"0\": 4, \"11\": 4, \"8\": 1, \"13\": 1, \"14\": 1}, \"10\": {\"0\": 1087, \"10\": 1213, \"8\": 152, \"1\": 93, \"14\": 252, \"9\": 8, \"7\": 38, \"6\": 65, \"2\": 28, \"15\": 42, \"5\": 8, \"12\": 14}}, \"20\": {\"11\": {\"11\": 2948, \"9\": 18, \"8\": 2, \"1\": 4, \"4\": 18, \"5\": 3, \"10\": 4, \"2\": 2, \"7\": 1}, \"10\": {\"6\": 205, \"10\": 2541, \"4\": 213, \"7\": 32, \"12\": 4, \"8\": 5}, \"3\": {\"2\": 432, \"9\": 371, \"7\": 1103, \"11\": 5, \"3\": 519, \"5\": 275, \"10\": 17, \"12\": 113, \"4\": 42, \"1\": 53, \"8\": 38, \"0\": 3, \"13\": 16, \"6\": 2, \"15\": 10, \"14\": 1}, \"15\": {\"13\": 673, \"15\": 1265, \"2\": 346, \"5\": 31, \"12\": 210, \"9\": 240, \"11\": 24, \"1\": 91, \"7\": 114, \"3\": 6}, \"9\": {\"2\": 897, \"9\": 1044, \"15\": 64, \"7\": 366, \"3\": 143, \"12\": 220, \"11\": 3, \"1\": 87, \"13\": 129, \"5\": 37, \"10\": 4, \"4\": 3, \"8\": 3}, \"5\": {\"5\": 1114, \"9\": 264, \"7\": 686, \"0\": 11, \"2\": 317, \"15\": 121, \"8\": 50, \"1\": 133, \"13\": 14, \"12\": 74, \"3\": 189, \"4\": 7, \"11\": 20}, \"14\": {\"6\": 105, \"14\": 2553, \"8\": 297, \"10\": 17, \"12\": 16, \"4\": 7, \"3\": 1, \"7\": 2, \"2\": 2}, \"2\": {\"2\": 1078, \"12\": 168, \"7\": 781, \"15\": 52, \"13\": 336, \"9\": 453, \"3\": 48, \"5\": 16, \"1\": 40, \"11\": 23, \"4\": 5}, \"0\": {\"0\": 2617, \"5\": 200, \"8\": 18, \"3\": 55, \"9\": 54, \"11\": 8, \"2\": 33, \"15\": 4, \"1\": 9, \"10\": 2}, \"4\": {\"4\": 1781, \"12\": 648, \"6\": 14, \"7\": 333, \"3\": 40, \"10\": 82, \"8\": 56, \"9\": 12, \"5\": 11, \"15\": 4, \"2\": 7, \"14\": 6, \"11\": 5, \"1\": 1}, \"8\": {\"8\": 2412, \"14\": 368, \"7\": 43, \"10\": 26, \"3\": 53, \"5\": 13, \"6\": 3, \"12\": 9, \"2\": 35, \"9\": 5, \"4\": 25, \"15\": 5, \"11\": 1, \"0\": 2}, \"12\": {\"7\": 1038, \"2\": 455, \"13\": 194, \"11\": 16, \"12\": 968, \"9\": 102, \"15\": 113, \"4\": 29, \"5\": 16, \"1\": 37, \"3\": 29, \"10\": 3}, \"7\": {\"2\": 219, \"7\": 2316, \"11\": 52, \"4\": 141, \"6\": 196, \"9\": 21, \"3\": 2, \"8\": 9, \"10\": 16, \"12\": 6, \"13\": 20, \"15\": 1, \"14\": 1}, \"13\": {\"13\": 2805, \"11\": 54, \"7\": 47, \"2\": 66, \"15\": 23, \"12\": 5}, \"6\": {\"14\": 21, \"6\": 2700, \"2\": 7, \"10\": 191, \"7\": 73, \"4\": 5, \"11\": 2, \"8\": 1}, \"1\": {\"1\": 860, \"9\": 612, \"5\": 619, \"2\": 142, \"12\": 103, \"15\": 522, \"3\": 130, \"7\": 3, \"13\": 5, \"11\": 4}}, \"50\": {\"1\": {\"1\": 2476, \"13\": 131, \"15\": 382, \"0\": 6, \"6\": 2, \"12\": 1, \"11\": 1, \"8\": 1}, \"11\": {\"0\": 49, \"11\": 2591, \"9\": 180, \"15\": 46, \"1\": 69, \"8\": 38, \"5\": 17, \"12\": 9, \"6\": 1}, \"13\": {\"13\": 2793, \"12\": 37, \"10\": 45, \"8\": 4, \"15\": 85, \"0\": 16, \"1\": 11, \"6\": 8, \"5\": 1}, \"6\": {\"6\": 2158, \"15\": 271, \"5\": 525, \"14\": 22, \"13\": 14, \"4\": 4, \"8\": 1, \"12\": 3, \"0\": 1, \"7\": 1}, \"4\": {\"4\": 1119, \"7\": 441, \"5\": 972, \"6\": 163, \"8\": 14, \"14\": 174, \"13\": 70, \"2\": 21, \"0\": 10, \"15\": 16}, \"3\": {\"3\": 2998, \"2\": 1, \"1\": 1}, \"15\": {\"15\": 1775, \"8\": 66, \"14\": 173, \"6\": 401, \"5\": 214, \"4\": 230, \"9\": 31, \"11\": 33, \"7\": 77}, \"10\": {\"0\": 340, \"10\": 2620, \"13\": 16, \"12\": 9, \"8\": 9, \"15\": 5, \"1\": 1}, \"2\": {\"2\": 2691, \"0\": 171, \"1\": 34, \"9\": 100, \"12\": 4}, \"9\": {\"9\": 2770, \"12\": 157, \"11\": 53, \"7\": 13, \"8\": 1, \"5\": 4, \"0\": 1, \"15\": 1}, \"5\": {\"5\": 1848, \"6\": 315, \"7\": 177, \"2\": 175, \"14\": 223, \"8\": 12, \"13\": 37, \"15\": 155, \"4\": 54, \"1\": 2, \"12\": 2}, \"14\": {\"9\": 774, \"14\": 2184, \"6\": 23, \"2\": 19}, \"7\": {\"7\": 1392, \"5\": 204, \"14\": 594, \"2\": 787, \"13\": 9, \"4\": 11, \"6\": 2, \"3\": 1}, \"8\": {\"8\": 2564, \"1\": 195, \"3\": 122, \"10\": 106, \"0\": 11, \"13\": 2}, \"0\": {\"0\": 2552, \"10\": 102, \"1\": 128, \"2\": 207, \"12\": 8, \"9\": 3}, \"12\": {\"9\": 344, \"12\": 2636, \"11\": 15, \"7\": 2, \"4\": 1, \"15\": 1, \"5\": 1}}, \"44\": {\"0\": {\"0\": 1861, \"8\": 1044, \"15\": 83, \"6\": 2, \"5\": 6, \"13\": 3, \"1\": 1}, \"4\": {\"11\": 71, \"9\": 203, \"4\": 1633, \"15\": 607, \"6\": 75, \"7\": 42, \"14\": 325, \"5\": 15, \"12\": 25, \"8\": 1, \"0\": 3}, \"15\": {\"15\": 2284, \"12\": 121, \"11\": 138, \"0\": 278, \"14\": 24, \"6\": 29, \"8\": 73, \"5\": 43, \"1\": 3, \"9\": 5, \"4\": 2}, \"1\": {\"1\": 2538, \"14\": 87, \"10\": 52, \"5\": 143, \"12\": 34, \"7\": 108, \"8\": 14, \"2\": 21, \"0\": 3}, \"13\": {\"13\": 1539, \"7\": 182, \"6\": 586, \"4\": 284, \"0\": 272, \"9\": 125, \"11\": 10, \"10\": 2}, \"3\": {\"3\": 2074, \"14\": 379, \"7\": 72, \"12\": 215, \"2\": 76, \"4\": 132, \"5\": 8, \"0\": 9, \"8\": 23, \"13\": 11, \"1\": 1}, \"10\": {\"10\": 2944, \"7\": 14, \"1\": 38, \"2\": 3, \"9\": 1}, \"7\": {\"7\": 2062, \"6\": 43, \"9\": 747, \"10\": 135, \"2\": 13}, \"9\": {\"9\": 1373, \"7\": 1309, \"10\": 39, \"6\": 151, \"2\": 72, \"13\": 36, \"15\": 18, \"0\": 2}, \"11\": {\"11\": 2987, \"0\": 8, \"3\": 5}, \"8\": {\"8\": 2199, \"5\": 32, \"15\": 281, \"0\": 478, \"6\": 10}, \"5\": {\"6\": 1392, \"5\": 1145, \"15\": 339, \"14\": 57, \"8\": 28, \"4\": 15, \"0\": 14, \"13\": 5, \"2\": 4, \"7\": 1}, \"14\": {\"15\": 906, \"5\": 420, \"14\": 1321, \"4\": 176, \"6\": 153, \"9\": 13, \"7\": 2, \"12\": 4, \"8\": 4, \"11\": 1}, \"2\": {\"2\": 1357, \"8\": 855, \"1\": 431, \"7\": 54, \"0\": 64, \"10\": 52, \"5\": 58, \"15\": 104, \"9\": 7, \"12\": 17, \"11\": 1}, \"6\": {\"6\": 2609, \"9\": 278, \"7\": 72, \"13\": 38, \"4\": 1, \"15\": 1, \"10\": 1}, \"12\": {\"3\": 692, \"12\": 2270, \"14\": 35, \"8\": 3}}, \"8\": {\"13\": {\"13\": 1464, \"10\": 573, \"1\": 454, \"7\": 169, \"6\": 125, \"5\": 177, \"4\": 28, \"11\": 7, \"15\": 2, \"12\": 1}, \"11\": {\"8\": 1452, \"11\": 1322, \"1\": 143, \"10\": 22, \"6\": 6, \"4\": 32, \"14\": 18, \"5\": 5}, \"0\": {\"14\": 12, \"0\": 2987, \"9\": 1}, \"6\": {\"7\": 1001, \"4\": 828, \"6\": 770, \"0\": 224, \"14\": 34, \"8\": 79, \"11\": 44, \"13\": 18, \"10\": 2}, \"10\": {\"10\": 1785, \"13\": 1054, \"5\": 96, \"1\": 10, \"6\": 17, \"4\": 20, \"11\": 2, \"14\": 9, \"7\": 6, \"15\": 1}, \"3\": {\"10\": 273, \"3\": 2512, \"0\": 183, \"2\": 11, \"4\": 16, \"8\": 5}, \"5\": {\"5\": 1508, \"10\": 1329, \"4\": 14, \"14\": 18, \"1\": 68, \"13\": 58, \"11\": 4, \"6\": 1}, \"2\": {\"15\": 1069, \"3\": 524, \"1\": 246, \"5\": 472, \"2\": 141, \"0\": 248, \"7\": 36, \"9\": 120, \"12\": 47, \"10\": 70, \"11\": 2, \"13\": 11, \"8\": 11, \"4\": 3}, \"1\": {\"1\": 1732, \"14\": 149, \"11\": 861, \"6\": 26, \"4\": 115, \"5\": 74, \"8\": 1, \"10\": 36, \"13\": 3, \"7\": 3}, \"8\": {\"8\": 2961, \"11\": 17, \"6\": 15, \"4\": 3, \"0\": 1, \"7\": 3}, \"14\": {\"4\": 1420, \"14\": 1296, \"7\": 20, \"0\": 145, \"11\": 50, \"6\": 61, \"10\": 4, \"8\": 2, \"13\": 2}, \"4\": {\"7\": 1068, \"4\": 1305, \"14\": 111, \"6\": 419, \"11\": 40, \"13\": 39, \"10\": 3, \"8\": 5, \"0\": 10}, \"7\": {\"7\": 2589, \"6\": 307, \"13\": 38, \"4\": 36, \"11\": 27, \"8\": 3}, \"12\": {\"4\": 843, \"14\": 76, \"12\": 1584, \"7\": 7, \"15\": 250, \"10\": 58, \"8\": 134, \"5\": 8, \"3\": 35, \"6\": 3, \"9\": 2}, \"15\": {\"15\": 2068, \"3\": 159, \"12\": 610, \"5\": 86, \"8\": 47, \"4\": 13, \"1\": 11, \"9\": 2, \"14\": 1, \"0\": 2, \"10\": 1}, \"9\": {\"9\": 2708, \"5\": 219, \"13\": 46, \"12\": 27}}, \"32\": {\"3\": {\"3\": 2517, \"13\": 179, \"12\": 301, \"11\": 3}, \"6\": {\"6\": 2841, \"11\": 156, \"12\": 1, \"10\": 1, \"8\": 1}, \"4\": {\"3\": 652, \"4\": 1686, \"14\": 43, \"13\": 343, \"2\": 254, \"11\": 2, \"6\": 8, \"12\": 3, \"0\": 3, \"8\": 6}, \"0\": {\"0\": 1972, \"8\": 273, \"2\": 70, \"7\": 126, \"3\": 155, \"14\": 303, \"6\": 15, \"5\": 49, \"9\": 1, \"4\": 27, \"13\": 7, \"11\": 1, \"1\": 1}, \"7\": {\"0\": 92, \"7\": 1476, \"5\": 153, \"14\": 1160, \"3\": 45, \"8\": 10, \"1\": 28, \"2\": 18, \"12\": 16, \"4\": 2}, \"5\": {\"0\": 507, \"14\": 108, \"1\": 397, \"7\": 856, \"5\": 728, \"12\": 102, \"9\": 140, \"8\": 88, \"2\": 21, \"10\": 25, \"3\": 21, \"11\": 7}, \"9\": {\"14\": 575, \"9\": 2046, \"2\": 169, \"1\": 129, \"6\": 76, \"11\": 2, \"0\": 2, \"5\": 1}, \"10\": {\"10\": 3000}, \"2\": {\"2\": 1761, \"7\": 231, \"0\": 346, \"14\": 415, \"4\": 220, \"6\": 13, \"12\": 2, \"5\": 6, \"3\": 4, \"11\": 1, \"8\": 1}, \"1\": {\"1\": 2991, \"8\": 8, \"10\": 1}, \"11\": {\"11\": 1668, \"13\": 445, \"3\": 181, \"14\": 385, \"4\": 234, \"2\": 76, \"6\": 9, \"12\": 1, \"7\": 1}, \"15\": {\"15\": 2822, \"8\": 151, \"9\": 8, \"1\": 8, \"10\": 4, \"2\": 7}, \"8\": {\"8\": 2426, \"1\": 31, \"3\": 75, \"7\": 16, \"0\": 326, \"5\": 66, \"12\": 24, \"14\": 27, \"2\": 3, \"10\": 1, \"15\": 1, \"4\": 1, \"6\": 2, \"13\": 1}, \"13\": {\"13\": 2216, \"3\": 495, \"11\": 96, \"4\": 177, \"12\": 12, \"2\": 1, \"14\": 3}, \"12\": {\"12\": 2949, \"2\": 8, \"9\": 20, \"11\": 8, \"0\": 10, \"10\": 2, \"6\": 2, \"1\": 1}, \"14\": {\"14\": 1387, \"0\": 824, \"7\": 209, \"6\": 369, \"2\": 148, \"4\": 4, \"12\": 6, \"8\": 4, \"5\": 19, \"3\": 8, \"1\": 10, \"11\": 4, \"9\": 8}}, \"14\": {\"9\": {\"9\": 2758, \"11\": 232, \"0\": 6, \"15\": 1, \"13\": 2, \"1\": 1}, \"7\": {\"7\": 2890, \"2\": 10, \"5\": 100}, \"6\": {\"13\": 896, \"6\": 1726, \"14\": 90, \"2\": 208, \"3\": 80}, \"14\": {\"14\": 1819, \"13\": 278, \"6\": 118, \"2\": 691, \"5\": 27, \"3\": 24, \"0\": 4, \"10\": 12, \"4\": 27}, \"0\": {\"11\": 276, \"0\": 1810, \"2\": 67, \"10\": 509, \"5\": 19, \"3\": 144, \"8\": 79, \"4\": 54, \"13\": 17, \"9\": 8, \"14\": 17}, \"5\": {\"5\": 2203, \"4\": 478, \"3\": 8, \"2\": 227, \"11\": 46, \"7\": 33, \"10\": 2, \"8\": 1, \"14\": 2}, \"2\": {\"2\": 1990, \"14\": 234, \"4\": 158, \"3\": 66, \"5\": 376, \"6\": 82, \"13\": 75, \"0\": 4, \"7\": 6, \"10\": 7, \"11\": 2}, \"11\": {\"11\": 2487, \"7\": 449, \"4\": 2, \"6\": 14, \"13\": 42, \"10\": 1, \"0\": 5}, \"12\": {\"5\": 25, \"0\": 177, \"12\": 2123, \"2\": 96, \"7\": 18, \"9\": 132, \"3\": 101, \"14\": 23, \"13\": 69, \"11\": 87, \"15\": 45, \"6\": 69, \"8\": 30, \"4\": 4, \"10\": 1}, \"1\": {\"1\": 2983, \"7\": 8, \"11\": 7, \"2\": 2}, \"4\": {\"4\": 2508, \"11\": 93, \"5\": 196, \"2\": 170, \"1\": 23, \"7\": 2, \"10\": 8}, \"10\": {\"4\": 242, \"10\": 1779, \"3\": 875, \"0\": 48, \"8\": 16, \"5\": 5, \"13\": 5, \"9\": 4, \"14\": 5, \"2\": 15, \"11\": 5, \"7\": 1}, \"3\": {\"3\": 2771, \"5\": 57, \"0\": 47, \"2\": 115, \"14\": 7, \"4\": 1, \"7\": 2}, \"8\": {\"8\": 2935, \"11\": 62, \"9\": 3}, \"15\": {\"15\": 2896, \"13\": 96, \"11\": 8}, \"13\": {\"6\": 1339, \"13\": 1082, \"2\": 204, \"14\": 248, \"3\": 73, \"15\": 26, \"4\": 16, \"10\": 12}}, \"38\": {\"12\": {\"12\": 2995, \"13\": 4, \"5\": 1}, \"13\": {\"3\": 419, \"13\": 2119, \"0\": 181, \"4\": 18, \"10\": 141, \"7\": 108, \"9\": 1, \"11\": 9, \"14\": 2, \"2\": 1, \"5\": 1}, \"2\": {\"14\": 161, \"2\": 1801, \"5\": 855, \"7\": 87, \"8\": 6, \"3\": 41, \"6\": 17, \"13\": 32}, \"15\": {\"5\": 17, \"13\": 72, \"15\": 1040, \"1\": 1791, \"0\": 30, \"11\": 10, \"8\": 3, \"9\": 7, \"6\": 19, \"10\": 11}, \"8\": {\"6\": 62, \"15\": 1123, \"5\": 870, \"8\": 368, \"4\": 208, \"7\": 113, \"14\": 93, \"11\": 82, \"1\": 65, \"9\": 14, \"13\": 2}, \"14\": {\"4\": 129, \"5\": 410, \"7\": 154, \"14\": 2052, \"3\": 67, \"6\": 22, \"2\": 82, \"13\": 60, \"12\": 15, \"10\": 4, \"15\": 4, \"1\": 1}, \"1\": {\"1\": 2640, \"0\": 120, \"2\": 108, \"15\": 86, \"9\": 46}, \"5\": {\"15\": 1144, \"11\": 251, \"5\": 824, \"8\": 341, \"14\": 39, \"9\": 195, \"7\": 79, \"6\": 26, \"1\": 72, \"12\": 1, \"4\": 27, \"13\": 1}, \"0\": {\"0\": 766, \"7\": 676, \"4\": 442, \"9\": 789, \"13\": 218, \"10\": 39, \"6\": 5, \"11\": 19, \"3\": 34, \"14\": 9, \"15\": 1, \"8\": 2}, \"11\": {\"11\": 3000}, \"10\": {\"10\": 1810, \"13\": 374, \"0\": 680, \"4\": 105, \"11\": 28, \"7\": 2, \"3\": 1}, \"7\": {\"7\": 2283, \"4\": 631, \"9\": 43, \"5\": 13, \"14\": 7, \"15\": 5, \"8\": 15, \"0\": 2, \"6\": 1}, \"9\": {\"9\": 2843, \"12\": 139, \"15\": 4, \"11\": 8, \"14\": 3, \"5\": 2, \"8\": 1}, \"6\": {\"6\": 2742, \"1\": 79, \"14\": 85, \"2\": 37, \"4\": 3, \"9\": 54}, \"4\": {\"4\": 3000}, \"3\": {\"3\": 2086, \"0\": 498, \"13\": 192, \"9\": 145, \"10\": 35, \"11\": 43, \"4\": 1}}}, \"per_domain_accuracy\": {\"26\": {\"accuracy\": 0.6331458333333333, \"source?\": true}, \"20\": {\"accuracy\": 0.6150208333333333, \"source?\": true}, \"50\": {\"accuracy\": 0.7743125, \"source?\": true}, \"44\": {\"accuracy\": 0.67075, \"source?\": true}, \"8\": {\"accuracy\": 0.5985833333333334, \"source?\": true}, \"32\": {\"accuracy\": 0.7184583333333333, \"source?\": true}, \"14\": {\"accuracy\": 0.7658333333333334, \"source?\": true}, \"38\": {\"accuracy\": 0.6743541666666667, \"source?\": true}}}, \"history\": {\"epoch_indices\": [1, 2, 3, 4, 5, 6, 7, 8], \"train_label_loss\": [1.9968418315989631, 1.1724758007866996, 0.887003463438579, 0.7268612068082605, 0.6223986744327205, 0.5427113144184862, 0.4821915428212711, 0.43172823688813616], \"source_val_label_loss\": [1.2875055077870687, 0.9442998415231705, 0.8912267111937205, 0.656679613629977, 0.7455957960685095, 0.635453759709994, 0.6173667686581612, 0.6359693098862966], \"target_val_label_loss\": [1.525172445456187, 1.347295996348063, 1.3587888278563818, 1.215078326622645, 1.4397778871059417, 1.37334350335598, 1.3943949635823567, 1.4650511354207993], \"source_val_acc_label\": [0.5797083333333334, 0.677140625, 0.707921875, 0.7659947916666666, 0.7326614583333333, 0.7669791666666667, 0.7738854166666667, 0.7757760416666667], \"target_val_acc_label\": [0.480421875, 0.53846875, 0.5509895833333334, 0.5966197916666667, 0.5760520833333334, 0.5916302083333334, 0.59615625, 0.5905260416666667]}, \"dataset_metrics\": {\"source\": {\"train\": {\"n_unique_x\": 896000, \"n_unique_y\": 16, \"n_batch/episode\": 7000}, \"val\": {\"n_unique_x\": 192000, \"n_unique_y\": 16, \"n_batch/episode\": 1500}, \"test\": {\"n_unique_x\": 192000, \"n_unique_y\": 16, \"n_batch/episode\": 1500}}, \"target\": {\"train\": {\"n_unique_x\": 896000, \"n_unique_y\": 16, \"n_batch/episode\": 7000}, \"val\": {\"n_unique_x\": 192000, \"n_unique_y\": 16, \"n_batch/episode\": 1500}, \"test\": {\"n_unique_x\": 192000, \"n_unique_y\": 16, \"n_batch/episode\": 1500}}}}'"
      ]
     },
     "execution_count": 20,
     "metadata": {},
     "output_type": "execute_result"
    }
   ],
   "source": [
    "json.dumps(experiment)"
   ]
  }
 ],
 "metadata": {
  "celltoolbar": "Tags",
  "kernelspec": {
   "display_name": "Python 3 (ipykernel)",
   "language": "python",
   "name": "python3"
  },
  "language_info": {
   "codemirror_mode": {
    "name": "ipython",
    "version": 3
   },
   "file_extension": ".py",
   "mimetype": "text/x-python",
   "name": "python",
   "nbconvert_exporter": "python",
   "pygments_lexer": "ipython3",
   "version": "3.8.12"
  },
  "papermill": {
   "default_parameters": {},
   "duration": 895.121982,
   "end_time": "2022-03-27T23:04:50.156204",
   "environment_variables": {},
   "exception": null,
   "input_path": "/root/csc500-main/csc500-notebooks/templates/cnn_template.ipynb",
   "output_path": "trial.ipynb",
   "parameters": {
    "parameters": {
     "BEST_MODEL_PATH": "./best_model.pth",
     "NUM_LOGS_PER_EPOCH": 10,
     "batch_size": 128,
     "criteria_for_best": "target_accuracy",
     "dataset_seed": 500,
     "device": "cuda",
     "domains_source": [
      8,
      32,
      50,
      14,
      20,
      26,
      38,
      44
     ],
     "domains_target": [
      8,
      32,
      50,
      14,
      20,
      26,
      38,
      44
     ],
     "experiment_name": "cnn_3:oracle.run1-oracle.run2",
     "labels": [
      "3123D52",
      "3123D65",
      "3123D79",
      "3123D80",
      "3123D54",
      "3123D70",
      "3123D7B",
      "3123D89",
      "3123D58",
      "3123D76",
      "3123D7D",
      "3123EFE",
      "3123D64",
      "3123D78",
      "3123D7E",
      "3124E4A"
     ],
     "lr": 0.0001,
     "n_epoch": 50,
     "normalize_source": false,
     "normalize_target": false,
     "num_examples_per_domain_per_label_source": -1,
     "num_examples_per_domain_per_label_target": -1,
     "patience": 3,
     "pickle_name_source": "oracle.Run1_10kExamples_stratified_ds.2022A.pkl",
     "pickle_name_target": "oracle.Run2_10kExamples_stratified_ds.2022A.pkl",
     "seed": 500,
     "torch_default_dtype": "torch.float32",
     "x_net": [
      {
       "class": "nnReshape",
       "kargs": {
        "shape": [
         -1,
         1,
         2,
         256
        ]
       }
      },
      {
       "class": "Conv2d",
       "kargs": {
        "bias": false,
        "in_channels": 1,
        "kernel_size": [
         1,
         7
        ],
        "out_channels": 256,
        "padding": [
         0,
         3
        ]
       }
      },
      {
       "class": "ReLU",
       "kargs": {
        "inplace": true
       }
      },
      {
       "class": "BatchNorm2d",
       "kargs": {
        "num_features": 256
       }
      },
      {
       "class": "Conv2d",
       "kargs": {
        "bias": true,
        "in_channels": 256,
        "kernel_size": [
         2,
         7
        ],
        "out_channels": 80,
        "padding": [
         0,
         3
        ]
       }
      },
      {
       "class": "ReLU",
       "kargs": {
        "inplace": true
       }
      },
      {
       "class": "BatchNorm2d",
       "kargs": {
        "num_features": 80
       }
      },
      {
       "class": "Flatten",
       "kargs": {}
      },
      {
       "class": "Linear",
       "kargs": {
        "in_features": 20480,
        "out_features": 256
       }
      },
      {
       "class": "ReLU",
       "kargs": {
        "inplace": true
       }
      },
      {
       "class": "BatchNorm1d",
       "kargs": {
        "num_features": 256
       }
      },
      {
       "class": "Linear",
       "kargs": {
        "in_features": 256,
        "out_features": 16
       }
      }
     ]
    }
   },
   "start_time": "2022-03-27T22:49:55.034222",
   "version": "2.3.4"
  }
 },
 "nbformat": 4,
 "nbformat_minor": 5
}