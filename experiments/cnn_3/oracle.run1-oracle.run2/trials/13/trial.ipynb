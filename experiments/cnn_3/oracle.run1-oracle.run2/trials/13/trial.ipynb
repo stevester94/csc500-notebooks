{
 "cells": [
  {
   "cell_type": "code",
   "execution_count": 1,
   "id": "2324682e",
   "metadata": {
    "execution": {
     "iopub.execute_input": "2022-03-28T01:51:28.155584Z",
     "iopub.status.busy": "2022-03-28T01:51:28.154729Z",
     "iopub.status.idle": "2022-03-28T01:51:29.839578Z",
     "shell.execute_reply": "2022-03-28T01:51:29.840249Z"
    },
    "papermill": {
     "duration": 1.733888,
     "end_time": "2022-03-28T01:51:29.840578",
     "exception": false,
     "start_time": "2022-03-28T01:51:28.106690",
     "status": "completed"
    },
    "tags": []
   },
   "outputs": [],
   "source": [
    "import os, json, sys, time, random\n",
    "import numpy as np\n",
    "import torch\n",
    "from  easydict import EasyDict\n",
    "from math import floor\n",
    "from easydict import EasyDict\n",
    "\n",
    "from steves_utils.vanilla_train_eval_test_jig import  Vanilla_Train_Eval_Test_Jig\n",
    "\n",
    "from steves_utils.torch_utils import get_dataset_metrics, independent_accuracy_assesment\n",
    "from steves_models.configurable_vanilla import Configurable_Vanilla\n",
    "from steves_utils.torch_sequential_builder import build_sequential\n",
    "from steves_utils.lazy_map import Lazy_Map\n",
    "from steves_utils.sequence_aggregator import Sequence_Aggregator\n",
    "\n",
    "from steves_utils.stratified_dataset.traditional_accessor import Traditional_Accessor_Factory\n",
    "\n",
    "from steves_utils.cnn_do_report import (\n",
    "    get_loss_curve,\n",
    "    get_results_table,\n",
    "    get_parameters_table,\n",
    "    get_domain_accuracies,\n",
    ")\n",
    "\n",
    "from steves_utils.torch_utils import (\n",
    "    confusion_by_domain_over_dataloader,\n",
    "    independent_accuracy_assesment\n",
    ")\n",
    "\n",
    "from steves_utils.utils_v2 import (\n",
    "    per_domain_accuracy_from_confusion,\n",
    "    get_datasets_base_path\n",
    ")\n",
    "\n",
    "# from steves_utils.ptn_do_report import TBD"
   ]
  },
  {
   "cell_type": "code",
   "execution_count": 2,
   "id": "1b29e3fe",
   "metadata": {
    "execution": {
     "iopub.execute_input": "2022-03-28T01:51:29.885057Z",
     "iopub.status.busy": "2022-03-28T01:51:29.884482Z",
     "iopub.status.idle": "2022-03-28T01:51:29.886938Z",
     "shell.execute_reply": "2022-03-28T01:51:29.886462Z"
    },
    "papermill": {
     "duration": 0.028616,
     "end_time": "2022-03-28T01:51:29.887045",
     "exception": false,
     "start_time": "2022-03-28T01:51:29.858429",
     "status": "completed"
    },
    "tags": []
   },
   "outputs": [],
   "source": [
    "required_parameters = {\n",
    "    \"experiment_name\",\n",
    "    \"lr\",\n",
    "    \"device\",\n",
    "    \"dataset_seed\",\n",
    "    \"seed\",\n",
    "    \"labels\",\n",
    "    \"domains_target\",\n",
    "    \"domains_source\",\n",
    "    \"num_examples_per_domain_per_label_source\",\n",
    "    \"num_examples_per_domain_per_label_target\",\n",
    "    \"batch_size\",\n",
    "    \"n_epoch\",\n",
    "    \"patience\",\n",
    "    \"criteria_for_best\",\n",
    "    \"normalize_source\",\n",
    "    \"normalize_target\",\n",
    "    \"x_net\",\n",
    "    \"NUM_LOGS_PER_EPOCH\",\n",
    "    \"BEST_MODEL_PATH\",\n",
    "    \"pickle_name_source\",\n",
    "    \"pickle_name_target\",\n",
    "    \"torch_default_dtype\",\n",
    "}"
   ]
  },
  {
   "cell_type": "code",
   "execution_count": 3,
   "id": "670b5fb8",
   "metadata": {
    "execution": {
     "iopub.execute_input": "2022-03-28T01:51:29.933228Z",
     "iopub.status.busy": "2022-03-28T01:51:29.932357Z",
     "iopub.status.idle": "2022-03-28T01:51:29.939694Z",
     "shell.execute_reply": "2022-03-28T01:51:29.938970Z"
    },
    "papermill": {
     "duration": 0.033744,
     "end_time": "2022-03-28T01:51:29.939849",
     "exception": false,
     "start_time": "2022-03-28T01:51:29.906105",
     "status": "completed"
    },
    "tags": [
     "parameters"
    ]
   },
   "outputs": [],
   "source": [
    "from steves_utils.ORACLE.utils_v2 import (\n",
    "    ALL_SERIAL_NUMBERS,\n",
    "    ALL_DISTANCES_FEET_NARROWED,\n",
    ")\n",
    "\n",
    "standalone_parameters = {}\n",
    "standalone_parameters[\"experiment_name\"] = \"MANUAL CORES CNN\"\n",
    "standalone_parameters[\"lr\"] = 0.0001\n",
    "standalone_parameters[\"device\"] = \"cuda\"\n",
    "\n",
    "standalone_parameters[\"dataset_seed\"] = 1337\n",
    "standalone_parameters[\"seed\"] = 1337\n",
    "standalone_parameters[\"labels\"] = ALL_SERIAL_NUMBERS\n",
    "\n",
    "standalone_parameters[\"domains_source\"] = [8,32,50]\n",
    "standalone_parameters[\"domains_target\"] = [14,20,26,38,44,]\n",
    "\n",
    "standalone_parameters[\"num_examples_per_domain_per_label_source\"]=-1\n",
    "standalone_parameters[\"num_examples_per_domain_per_label_target\"]=-1\n",
    "\n",
    "standalone_parameters[\"pickle_name_source\"] = \"oracle.Run1_framed_2000Examples_stratified_ds.2022A.pkl\"\n",
    "standalone_parameters[\"pickle_name_target\"] = \"oracle.Run2_framed_2000Examples_stratified_ds.2022A.pkl\"\n",
    "\n",
    "standalone_parameters[\"torch_default_dtype\"] = \"torch.float32\" \n",
    "\n",
    "standalone_parameters[\"batch_size\"]=128\n",
    "\n",
    "standalone_parameters[\"n_epoch\"] = 3\n",
    "\n",
    "standalone_parameters[\"patience\"] = 10\n",
    "\n",
    "standalone_parameters[\"criteria_for_best\"] = \"target_accuracy\"\n",
    "standalone_parameters[\"normalize_source\"] = False\n",
    "standalone_parameters[\"normalize_target\"] = False\n",
    "\n",
    "standalone_parameters[\"x_net\"] =     [\n",
    "    {\"class\": \"nnReshape\", \"kargs\": {\"shape\":[-1, 1, 2, 256]}},\n",
    "    {\"class\": \"Conv2d\", \"kargs\": { \"in_channels\":1, \"out_channels\":256, \"kernel_size\":(1,7), \"bias\":False, \"padding\":(0,3), },},\n",
    "    {\"class\": \"ReLU\", \"kargs\": {\"inplace\": True}},\n",
    "    {\"class\": \"BatchNorm2d\", \"kargs\": {\"num_features\":256}},\n",
    "\n",
    "    {\"class\": \"Conv2d\", \"kargs\": { \"in_channels\":256, \"out_channels\":80, \"kernel_size\":(2,7), \"bias\":True, \"padding\":(0,3), },},\n",
    "    {\"class\": \"ReLU\", \"kargs\": {\"inplace\": True}},\n",
    "    {\"class\": \"BatchNorm2d\", \"kargs\": {\"num_features\":80}},\n",
    "    {\"class\": \"Flatten\", \"kargs\": {}},\n",
    "\n",
    "    {\"class\": \"Linear\", \"kargs\": {\"in_features\": 80*256, \"out_features\": 256}}, # 80 units per IQ pair\n",
    "    {\"class\": \"ReLU\", \"kargs\": {\"inplace\": True}},\n",
    "    {\"class\": \"BatchNorm1d\", \"kargs\": {\"num_features\":256}},\n",
    "\n",
    "    {\"class\": \"Linear\", \"kargs\": {\"in_features\": 256, \"out_features\": len(standalone_parameters[\"labels\"])}},\n",
    "]\n",
    "\n",
    "standalone_parameters[\"NUM_LOGS_PER_EPOCH\"] = 10\n",
    "standalone_parameters[\"BEST_MODEL_PATH\"] = \"./best_model.pth\""
   ]
  },
  {
   "cell_type": "code",
   "execution_count": 4,
   "id": "6e0de5fb",
   "metadata": {
    "execution": {
     "iopub.execute_input": "2022-03-28T01:51:29.986117Z",
     "iopub.status.busy": "2022-03-28T01:51:29.984424Z",
     "iopub.status.idle": "2022-03-28T01:51:29.988272Z",
     "shell.execute_reply": "2022-03-28T01:51:29.987580Z"
    },
    "papermill": {
     "duration": 0.02999,
     "end_time": "2022-03-28T01:51:29.988422",
     "exception": false,
     "start_time": "2022-03-28T01:51:29.958432",
     "status": "completed"
    },
    "tags": [
     "injected-parameters"
    ]
   },
   "outputs": [],
   "source": [
    "# Parameters\n",
    "parameters = {\n",
    "    \"experiment_name\": \"cnn_3:oracle.run1-oracle.run2\",\n",
    "    \"domains_source\": [8, 32, 50, 14, 20, 26, 38, 44],\n",
    "    \"domains_target\": [8, 32, 50, 14, 20, 26, 38, 44],\n",
    "    \"labels\": [\n",
    "        \"3123D52\",\n",
    "        \"3123D65\",\n",
    "        \"3123D79\",\n",
    "        \"3123D80\",\n",
    "        \"3123D54\",\n",
    "        \"3123D70\",\n",
    "        \"3123D7B\",\n",
    "        \"3123D89\",\n",
    "        \"3123D58\",\n",
    "        \"3123D76\",\n",
    "        \"3123D7D\",\n",
    "        \"3123EFE\",\n",
    "        \"3123D64\",\n",
    "        \"3123D78\",\n",
    "        \"3123D7E\",\n",
    "        \"3124E4A\",\n",
    "    ],\n",
    "    \"pickle_name_source\": \"oracle.Run1_10kExamples_stratified_ds.2022A.pkl\",\n",
    "    \"pickle_name_target\": \"oracle.Run2_10kExamples_stratified_ds.2022A.pkl\",\n",
    "    \"device\": \"cuda\",\n",
    "    \"lr\": 0.0001,\n",
    "    \"batch_size\": 128,\n",
    "    \"normalize_source\": False,\n",
    "    \"normalize_target\": False,\n",
    "    \"num_examples_per_domain_per_label_source\": -1,\n",
    "    \"num_examples_per_domain_per_label_target\": -1,\n",
    "    \"torch_default_dtype\": \"torch.float32\",\n",
    "    \"n_epoch\": 50,\n",
    "    \"patience\": 3,\n",
    "    \"criteria_for_best\": \"target_accuracy\",\n",
    "    \"x_net\": [\n",
    "        {\"class\": \"nnReshape\", \"kargs\": {\"shape\": [-1, 1, 2, 256]}},\n",
    "        {\n",
    "            \"class\": \"Conv2d\",\n",
    "            \"kargs\": {\n",
    "                \"in_channels\": 1,\n",
    "                \"out_channels\": 256,\n",
    "                \"kernel_size\": [1, 7],\n",
    "                \"bias\": False,\n",
    "                \"padding\": [0, 3],\n",
    "            },\n",
    "        },\n",
    "        {\"class\": \"ReLU\", \"kargs\": {\"inplace\": True}},\n",
    "        {\"class\": \"BatchNorm2d\", \"kargs\": {\"num_features\": 256}},\n",
    "        {\n",
    "            \"class\": \"Conv2d\",\n",
    "            \"kargs\": {\n",
    "                \"in_channels\": 256,\n",
    "                \"out_channels\": 80,\n",
    "                \"kernel_size\": [2, 7],\n",
    "                \"bias\": True,\n",
    "                \"padding\": [0, 3],\n",
    "            },\n",
    "        },\n",
    "        {\"class\": \"ReLU\", \"kargs\": {\"inplace\": True}},\n",
    "        {\"class\": \"BatchNorm2d\", \"kargs\": {\"num_features\": 80}},\n",
    "        {\"class\": \"Flatten\", \"kargs\": {}},\n",
    "        {\"class\": \"Linear\", \"kargs\": {\"in_features\": 20480, \"out_features\": 256}},\n",
    "        {\"class\": \"ReLU\", \"kargs\": {\"inplace\": True}},\n",
    "        {\"class\": \"BatchNorm1d\", \"kargs\": {\"num_features\": 256}},\n",
    "        {\"class\": \"Linear\", \"kargs\": {\"in_features\": 256, \"out_features\": 16}},\n",
    "    ],\n",
    "    \"NUM_LOGS_PER_EPOCH\": 10,\n",
    "    \"BEST_MODEL_PATH\": \"./best_model.pth\",\n",
    "    \"dataset_seed\": 154325,\n",
    "    \"seed\": 154325,\n",
    "}\n"
   ]
  },
  {
   "cell_type": "code",
   "execution_count": 5,
   "id": "759b56ec",
   "metadata": {
    "execution": {
     "iopub.execute_input": "2022-03-28T01:51:30.024308Z",
     "iopub.status.busy": "2022-03-28T01:51:30.023932Z",
     "iopub.status.idle": "2022-03-28T01:51:30.026403Z",
     "shell.execute_reply": "2022-03-28T01:51:30.025868Z"
    },
    "papermill": {
     "duration": 0.020437,
     "end_time": "2022-03-28T01:51:30.026519",
     "exception": false,
     "start_time": "2022-03-28T01:51:30.006082",
     "status": "completed"
    },
    "tags": []
   },
   "outputs": [],
   "source": [
    "# Set this to True if you want to run this template directly\n",
    "STANDALONE = False\n",
    "if STANDALONE:\n",
    "    print(\"parameters not injected, running with standalone_parameters\")\n",
    "    parameters = standalone_parameters\n",
    "\n",
    "if not 'parameters' in locals() and not 'parameters' in globals():\n",
    "    raise Exception(\"Parameter injection failed\")\n",
    "\n",
    "#Use an easy dict for all the parameters\n",
    "p = EasyDict(parameters)\n",
    "\n",
    "supplied_keys = set(p.keys())\n",
    "\n",
    "if  supplied_keys != required_parameters:\n",
    "    print(\"Parameters are incorrect\")\n",
    "    if len(supplied_keys - required_parameters)>0: print(\"Shouldn't have:\", str(supplied_keys - required_parameters))\n",
    "    if len(required_parameters - supplied_keys)>0: print(\"Need to have:\", str(required_parameters - supplied_keys))\n",
    "    raise RuntimeError(\"Parameters are incorrect\")\n",
    "\n"
   ]
  },
  {
   "cell_type": "code",
   "execution_count": 6,
   "id": "d5c66a71",
   "metadata": {
    "execution": {
     "iopub.execute_input": "2022-03-28T01:51:30.061070Z",
     "iopub.status.busy": "2022-03-28T01:51:30.060705Z",
     "iopub.status.idle": "2022-03-28T01:51:30.064280Z",
     "shell.execute_reply": "2022-03-28T01:51:30.064580Z"
    },
    "papermill": {
     "duration": 0.02067,
     "end_time": "2022-03-28T01:51:30.064661",
     "exception": false,
     "start_time": "2022-03-28T01:51:30.043991",
     "status": "completed"
    },
    "tags": []
   },
   "outputs": [],
   "source": [
    "###################################\n",
    "# Set the RNGs and make it all deterministic\n",
    "###################################\n",
    "np.random.seed(p.seed)\n",
    "random.seed(p.seed)\n",
    "torch.manual_seed(p.seed)\n",
    "\n",
    "torch.use_deterministic_algorithms(True) "
   ]
  },
  {
   "cell_type": "code",
   "execution_count": 7,
   "id": "92a65876",
   "metadata": {
    "execution": {
     "iopub.execute_input": "2022-03-28T01:51:30.099739Z",
     "iopub.status.busy": "2022-03-28T01:51:30.099308Z",
     "iopub.status.idle": "2022-03-28T01:51:30.100984Z",
     "shell.execute_reply": "2022-03-28T01:51:30.101332Z"
    },
    "papermill": {
     "duration": 0.02031,
     "end_time": "2022-03-28T01:51:30.101414",
     "exception": false,
     "start_time": "2022-03-28T01:51:30.081104",
     "status": "completed"
    },
    "tags": []
   },
   "outputs": [],
   "source": [
    "torch.set_default_dtype(eval(p.torch_default_dtype))"
   ]
  },
  {
   "cell_type": "code",
   "execution_count": 8,
   "id": "f1a32f01",
   "metadata": {
    "execution": {
     "iopub.execute_input": "2022-03-28T01:51:30.136284Z",
     "iopub.status.busy": "2022-03-28T01:51:30.134638Z",
     "iopub.status.idle": "2022-03-28T01:51:30.176286Z",
     "shell.execute_reply": "2022-03-28T01:51:30.175544Z"
    },
    "papermill": {
     "duration": 0.057281,
     "end_time": "2022-03-28T01:51:30.176461",
     "exception": false,
     "start_time": "2022-03-28T01:51:30.119180",
     "status": "completed"
    },
    "tags": []
   },
   "outputs": [],
   "source": [
    "###################################\n",
    "# Build the network(s)\n",
    "# Note: It's critical to do this AFTER setting the RNG\n",
    "###################################\n",
    "x_net = build_sequential(p.x_net)"
   ]
  },
  {
   "cell_type": "code",
   "execution_count": 9,
   "id": "a276cd83",
   "metadata": {
    "execution": {
     "iopub.execute_input": "2022-03-28T01:51:30.217072Z",
     "iopub.status.busy": "2022-03-28T01:51:30.216458Z",
     "iopub.status.idle": "2022-03-28T01:51:30.218949Z",
     "shell.execute_reply": "2022-03-28T01:51:30.218415Z"
    },
    "papermill": {
     "duration": 0.018995,
     "end_time": "2022-03-28T01:51:30.219066",
     "exception": false,
     "start_time": "2022-03-28T01:51:30.200071",
     "status": "completed"
    },
    "tags": []
   },
   "outputs": [],
   "source": [
    "start_time_secs = time.time()"
   ]
  },
  {
   "cell_type": "code",
   "execution_count": 10,
   "id": "de702e48",
   "metadata": {
    "execution": {
     "iopub.execute_input": "2022-03-28T01:51:30.259868Z",
     "iopub.status.busy": "2022-03-28T01:51:30.258946Z",
     "iopub.status.idle": "2022-03-28T01:52:09.002442Z",
     "shell.execute_reply": "2022-03-28T01:52:09.001677Z"
    },
    "papermill": {
     "duration": 38.765759,
     "end_time": "2022-03-28T01:52:09.002619",
     "exception": false,
     "start_time": "2022-03-28T01:51:30.236860",
     "status": "completed"
    },
    "tags": []
   },
   "outputs": [],
   "source": [
    "def wrap_in_dataloader(p, ds):\n",
    "    return torch.utils.data.DataLoader(\n",
    "        ds,\n",
    "        batch_size=p.batch_size,\n",
    "        shuffle=True,\n",
    "        num_workers=1,\n",
    "        persistent_workers=True,\n",
    "        prefetch_factor=50,\n",
    "        pin_memory=True\n",
    "    )\n",
    "\n",
    "taf_source = Traditional_Accessor_Factory(\n",
    "    labels=p.labels,\n",
    "    domains=p.domains_source,\n",
    "    num_examples_per_domain_per_label=p.num_examples_per_domain_per_label_source,\n",
    "    pickle_path=os.path.join(get_datasets_base_path(), p.pickle_name_source),\n",
    "    seed=p.dataset_seed\n",
    ")\n",
    "train_original_source, val_original_source, test_original_source = \\\n",
    "    taf_source.get_train(), taf_source.get_val(), taf_source.get_test()\n",
    "\n",
    "\n",
    "taf_target = Traditional_Accessor_Factory(\n",
    "    labels=p.labels,\n",
    "    domains=p.domains_target,\n",
    "    num_examples_per_domain_per_label=p.num_examples_per_domain_per_label_source,\n",
    "    pickle_path=os.path.join(get_datasets_base_path(), p.pickle_name_target),\n",
    "    seed=p.dataset_seed\n",
    ")\n",
    "train_original_target, val_original_target, test_original_target = \\\n",
    "    taf_target.get_train(), taf_target.get_val(), taf_target.get_test()\n",
    "\n",
    "\n",
    "# For CNN We only use X and Y. And we only train on the source.\n",
    "# Properly form the data using a transform lambda and Lazy_Map. Finally wrap them in a dataloader\n",
    "\n",
    "transform_lambda = lambda ex: ex[:2] # Strip the tuple to just (x,y)\n",
    "\n",
    "\n",
    "train_processed_source = wrap_in_dataloader(\n",
    "    p,\n",
    "    Lazy_Map(train_original_source, transform_lambda)\n",
    ")\n",
    "val_processed_source = wrap_in_dataloader(\n",
    "    p,\n",
    "    Lazy_Map(val_original_source, transform_lambda)\n",
    ")\n",
    "test_processed_source = wrap_in_dataloader(\n",
    "    p,\n",
    "    Lazy_Map(test_original_source, transform_lambda)\n",
    ")\n",
    "\n",
    "train_processed_target = wrap_in_dataloader(\n",
    "    p,\n",
    "    Lazy_Map(train_original_target, transform_lambda)\n",
    ")\n",
    "val_processed_target = wrap_in_dataloader(\n",
    "    p,\n",
    "    Lazy_Map(val_original_target, transform_lambda)\n",
    ")\n",
    "test_processed_target  = wrap_in_dataloader(\n",
    "    p,\n",
    "    Lazy_Map(test_original_target, transform_lambda)\n",
    ")\n",
    "\n",
    "\n",
    "\n",
    "datasets = EasyDict({\n",
    "    \"source\": {\n",
    "        \"original\": {\"train\":train_original_source, \"val\":val_original_source, \"test\":test_original_source},\n",
    "        \"processed\": {\"train\":train_processed_source, \"val\":val_processed_source, \"test\":test_processed_source}\n",
    "    },\n",
    "    \"target\": {\n",
    "        \"original\": {\"train\":train_original_target, \"val\":val_original_target, \"test\":test_original_target},\n",
    "        \"processed\": {\"train\":train_processed_target, \"val\":val_processed_target, \"test\":test_processed_target}\n",
    "    },\n",
    "})"
   ]
  },
  {
   "cell_type": "code",
   "execution_count": 11,
   "id": "a11b26bd",
   "metadata": {
    "execution": {
     "iopub.execute_input": "2022-03-28T01:52:09.080787Z",
     "iopub.status.busy": "2022-03-28T01:52:09.079966Z",
     "iopub.status.idle": "2022-03-28T01:52:14.218390Z",
     "shell.execute_reply": "2022-03-28T01:52:14.217689Z"
    },
    "papermill": {
     "duration": 5.19587,
     "end_time": "2022-03-28T01:52:14.218568",
     "exception": false,
     "start_time": "2022-03-28T01:52:09.022698",
     "status": "completed"
    },
    "tags": []
   },
   "outputs": [
    {
     "data": {
      "text/plain": [
       "torch.float32"
      ]
     },
     "execution_count": 11,
     "metadata": {},
     "output_type": "execute_result"
    }
   ],
   "source": [
    "ep = next(iter(test_processed_target))\n",
    "ep[0].dtype"
   ]
  },
  {
   "cell_type": "code",
   "execution_count": 12,
   "id": "19425fad",
   "metadata": {
    "execution": {
     "iopub.execute_input": "2022-03-28T01:52:14.257211Z",
     "iopub.status.busy": "2022-03-28T01:52:14.256576Z",
     "iopub.status.idle": "2022-03-28T01:52:14.304386Z",
     "shell.execute_reply": "2022-03-28T01:52:14.303621Z"
    },
    "papermill": {
     "duration": 0.067591,
     "end_time": "2022-03-28T01:52:14.304584",
     "exception": false,
     "start_time": "2022-03-28T01:52:14.236993",
     "status": "completed"
    },
    "tags": []
   },
   "outputs": [],
   "source": [
    "model = Configurable_Vanilla(\n",
    "    x_net=x_net,\n",
    "    label_loss_object=torch.nn.NLLLoss(),\n",
    "    learning_rate=p.lr\n",
    ")"
   ]
  },
  {
   "cell_type": "code",
   "execution_count": 13,
   "id": "7f6d4f2c",
   "metadata": {
    "execution": {
     "iopub.execute_input": "2022-03-28T01:52:14.344187Z",
     "iopub.status.busy": "2022-03-28T01:52:14.340229Z",
     "iopub.status.idle": "2022-03-28T02:05:54.192934Z",
     "shell.execute_reply": "2022-03-28T02:05:54.192593Z"
    },
    "papermill": {
     "duration": 819.869076,
     "end_time": "2022-03-28T02:05:54.193021",
     "exception": false,
     "start_time": "2022-03-28T01:52:14.323945",
     "status": "completed"
    },
    "tags": []
   },
   "outputs": [
    {
     "name": "stdout",
     "output_type": "stream",
     "text": [
      "epoch: 1, [batch: 1 / 7000], examples_per_second: 360.9632, train_label_loss: 2.7976, \n"
     ]
    },
    {
     "name": "stdout",
     "output_type": "stream",
     "text": [
      "epoch: 1, [batch: 700 / 7000], examples_per_second: 12641.0526, train_label_loss: 2.6081, \n"
     ]
    },
    {
     "name": "stdout",
     "output_type": "stream",
     "text": [
      "epoch: 1, [batch: 1400 / 7000], examples_per_second: 12678.4558, train_label_loss: 2.4690, \n"
     ]
    },
    {
     "name": "stdout",
     "output_type": "stream",
     "text": [
      "epoch: 1, [batch: 2100 / 7000], examples_per_second: 12499.1162, train_label_loss: 2.2814, \n"
     ]
    },
    {
     "name": "stdout",
     "output_type": "stream",
     "text": [
      "epoch: 1, [batch: 2800 / 7000], examples_per_second: 12575.1815, train_label_loss: 2.1113, \n"
     ]
    },
    {
     "name": "stdout",
     "output_type": "stream",
     "text": [
      "epoch: 1, [batch: 3500 / 7000], examples_per_second: 12679.7314, train_label_loss: 1.8761, \n"
     ]
    },
    {
     "name": "stdout",
     "output_type": "stream",
     "text": [
      "epoch: 1, [batch: 4200 / 7000], examples_per_second: 12735.8111, train_label_loss: 1.6116, \n"
     ]
    },
    {
     "name": "stdout",
     "output_type": "stream",
     "text": [
      "epoch: 1, [batch: 4900 / 7000], examples_per_second: 12602.4227, train_label_loss: 1.7628, \n"
     ]
    },
    {
     "name": "stdout",
     "output_type": "stream",
     "text": [
      "epoch: 1, [batch: 5600 / 7000], examples_per_second: 12464.4480, train_label_loss: 1.4754, \n"
     ]
    },
    {
     "name": "stdout",
     "output_type": "stream",
     "text": [
      "epoch: 1, [batch: 6300 / 7000], examples_per_second: 12225.6414, train_label_loss: 1.4425, \n"
     ]
    },
    {
     "name": "stdout",
     "output_type": "stream",
     "text": [
      "=============================================================\n",
      "epoch: 1, source_val_acc_label: 0.5756, source_val_label_loss: 1.2686, target_val_acc_label: 0.4849, target_val_label_loss: 1.5090, \n",
      "=============================================================\n"
     ]
    },
    {
     "name": "stdout",
     "output_type": "stream",
     "text": [
      "New best\n",
      "epoch: 2, [batch: 1 / 7000], examples_per_second: 13.2788, train_label_loss: 1.3078, \n"
     ]
    },
    {
     "name": "stdout",
     "output_type": "stream",
     "text": [
      "epoch: 2, [batch: 700 / 7000], examples_per_second: 12437.2897, train_label_loss: 1.3633, \n"
     ]
    },
    {
     "name": "stdout",
     "output_type": "stream",
     "text": [
      "epoch: 2, [batch: 1400 / 7000], examples_per_second: 12514.5993, train_label_loss: 1.1544, \n"
     ]
    },
    {
     "name": "stdout",
     "output_type": "stream",
     "text": [
      "epoch: 2, [batch: 2100 / 7000], examples_per_second: 12389.4816, train_label_loss: 1.3141, \n"
     ]
    },
    {
     "name": "stdout",
     "output_type": "stream",
     "text": [
      "epoch: 2, [batch: 2800 / 7000], examples_per_second: 12537.8470, train_label_loss: 1.1710, \n"
     ]
    },
    {
     "name": "stdout",
     "output_type": "stream",
     "text": [
      "epoch: 2, [batch: 3500 / 7000], examples_per_second: 12513.7142, train_label_loss: 1.0783, \n"
     ]
    },
    {
     "name": "stdout",
     "output_type": "stream",
     "text": [
      "epoch: 2, [batch: 4200 / 7000], examples_per_second: 12536.3208, train_label_loss: 1.0363, \n"
     ]
    },
    {
     "name": "stdout",
     "output_type": "stream",
     "text": [
      "epoch: 2, [batch: 4900 / 7000], examples_per_second: 12529.0281, train_label_loss: 0.9885, \n"
     ]
    },
    {
     "name": "stdout",
     "output_type": "stream",
     "text": [
      "epoch: 2, [batch: 5600 / 7000], examples_per_second: 12472.1446, train_label_loss: 1.0587, \n"
     ]
    },
    {
     "name": "stdout",
     "output_type": "stream",
     "text": [
      "epoch: 2, [batch: 6300 / 7000], examples_per_second: 12373.9510, train_label_loss: 0.8143, \n"
     ]
    },
    {
     "name": "stdout",
     "output_type": "stream",
     "text": [
      "=============================================================\n",
      "epoch: 2, source_val_acc_label: 0.6813, source_val_label_loss: 0.9224, target_val_acc_label: 0.5349, target_val_label_loss: 1.3570, \n",
      "=============================================================\n"
     ]
    },
    {
     "name": "stdout",
     "output_type": "stream",
     "text": [
      "New best\n",
      "epoch: 3, [batch: 1 / 7000], examples_per_second: 14.2781, train_label_loss: 0.8692, \n"
     ]
    },
    {
     "name": "stdout",
     "output_type": "stream",
     "text": [
      "epoch: 3, [batch: 700 / 7000], examples_per_second: 12420.7986, train_label_loss: 0.7523, \n"
     ]
    },
    {
     "name": "stdout",
     "output_type": "stream",
     "text": [
      "epoch: 3, [batch: 1400 / 7000], examples_per_second: 12374.3695, train_label_loss: 0.8099, \n"
     ]
    },
    {
     "name": "stdout",
     "output_type": "stream",
     "text": [
      "epoch: 3, [batch: 2100 / 7000], examples_per_second: 12064.8007, train_label_loss: 0.8451, \n"
     ]
    },
    {
     "name": "stdout",
     "output_type": "stream",
     "text": [
      "epoch: 3, [batch: 2800 / 7000], examples_per_second: 12638.2811, train_label_loss: 0.6699, \n"
     ]
    },
    {
     "name": "stdout",
     "output_type": "stream",
     "text": [
      "epoch: 3, [batch: 3500 / 7000], examples_per_second: 12164.4902, train_label_loss: 0.8923, \n"
     ]
    },
    {
     "name": "stdout",
     "output_type": "stream",
     "text": [
      "epoch: 3, [batch: 4200 / 7000], examples_per_second: 10667.1419, train_label_loss: 0.6642, \n"
     ]
    },
    {
     "name": "stdout",
     "output_type": "stream",
     "text": [
      "epoch: 3, [batch: 4900 / 7000], examples_per_second: 10598.6295, train_label_loss: 0.9011, \n"
     ]
    },
    {
     "name": "stdout",
     "output_type": "stream",
     "text": [
      "epoch: 3, [batch: 5600 / 7000], examples_per_second: 10604.5451, train_label_loss: 0.7451, \n"
     ]
    },
    {
     "name": "stdout",
     "output_type": "stream",
     "text": [
      "epoch: 3, [batch: 6300 / 7000], examples_per_second: 11522.3207, train_label_loss: 0.7236, \n"
     ]
    },
    {
     "name": "stdout",
     "output_type": "stream",
     "text": [
      "=============================================================\n",
      "epoch: 3, source_val_acc_label: 0.7113, source_val_label_loss: 0.7960, target_val_acc_label: 0.5571, target_val_label_loss: 1.3447, \n",
      "=============================================================\n"
     ]
    },
    {
     "name": "stdout",
     "output_type": "stream",
     "text": [
      "New best\n",
      "epoch: 4, [batch: 1 / 7000], examples_per_second: 13.0541, train_label_loss: 0.9205, \n"
     ]
    },
    {
     "name": "stdout",
     "output_type": "stream",
     "text": [
      "epoch: 4, [batch: 700 / 7000], examples_per_second: 11704.6467, train_label_loss: 0.5305, \n"
     ]
    },
    {
     "name": "stdout",
     "output_type": "stream",
     "text": [
      "epoch: 4, [batch: 1400 / 7000], examples_per_second: 11700.7690, train_label_loss: 0.6485, \n"
     ]
    },
    {
     "name": "stdout",
     "output_type": "stream",
     "text": [
      "epoch: 4, [batch: 2100 / 7000], examples_per_second: 11631.4655, train_label_loss: 0.7359, \n"
     ]
    },
    {
     "name": "stdout",
     "output_type": "stream",
     "text": [
      "epoch: 4, [batch: 2800 / 7000], examples_per_second: 11682.7507, train_label_loss: 0.5961, \n"
     ]
    },
    {
     "name": "stdout",
     "output_type": "stream",
     "text": [
      "epoch: 4, [batch: 3500 / 7000], examples_per_second: 11609.6729, train_label_loss: 0.5600, \n"
     ]
    },
    {
     "name": "stdout",
     "output_type": "stream",
     "text": [
      "epoch: 4, [batch: 4200 / 7000], examples_per_second: 11958.5190, train_label_loss: 0.6924, \n"
     ]
    },
    {
     "name": "stdout",
     "output_type": "stream",
     "text": [
      "epoch: 4, [batch: 4900 / 7000], examples_per_second: 11218.2112, train_label_loss: 0.8474, \n"
     ]
    },
    {
     "name": "stdout",
     "output_type": "stream",
     "text": [
      "epoch: 4, [batch: 5600 / 7000], examples_per_second: 10595.3665, train_label_loss: 0.6905, \n"
     ]
    },
    {
     "name": "stdout",
     "output_type": "stream",
     "text": [
      "epoch: 4, [batch: 6300 / 7000], examples_per_second: 10634.3814, train_label_loss: 0.5763, \n"
     ]
    },
    {
     "name": "stdout",
     "output_type": "stream",
     "text": [
      "=============================================================\n",
      "epoch: 4, source_val_acc_label: 0.7541, source_val_label_loss: 0.6707, target_val_acc_label: 0.5817, target_val_label_loss: 1.2860, \n",
      "=============================================================\n"
     ]
    },
    {
     "name": "stdout",
     "output_type": "stream",
     "text": [
      "New best\n",
      "epoch: 5, [batch: 1 / 7000], examples_per_second: 11.4599, train_label_loss: 0.4201, \n"
     ]
    },
    {
     "name": "stdout",
     "output_type": "stream",
     "text": [
      "epoch: 5, [batch: 700 / 7000], examples_per_second: 10642.3970, train_label_loss: 0.5936, \n"
     ]
    },
    {
     "name": "stdout",
     "output_type": "stream",
     "text": [
      "epoch: 5, [batch: 1400 / 7000], examples_per_second: 10639.5433, train_label_loss: 0.4585, \n"
     ]
    },
    {
     "name": "stdout",
     "output_type": "stream",
     "text": [
      "epoch: 5, [batch: 2100 / 7000], examples_per_second: 10603.9577, train_label_loss: 0.7516, \n"
     ]
    },
    {
     "name": "stdout",
     "output_type": "stream",
     "text": [
      "epoch: 5, [batch: 2800 / 7000], examples_per_second: 10638.0672, train_label_loss: 0.6030, \n"
     ]
    },
    {
     "name": "stdout",
     "output_type": "stream",
     "text": [
      "epoch: 5, [batch: 3500 / 7000], examples_per_second: 10704.3565, train_label_loss: 0.5970, \n"
     ]
    },
    {
     "name": "stdout",
     "output_type": "stream",
     "text": [
      "epoch: 5, [batch: 4200 / 7000], examples_per_second: 10683.6966, train_label_loss: 0.6086, \n"
     ]
    },
    {
     "name": "stdout",
     "output_type": "stream",
     "text": [
      "epoch: 5, [batch: 4900 / 7000], examples_per_second: 10701.7313, train_label_loss: 0.5867, \n"
     ]
    },
    {
     "name": "stdout",
     "output_type": "stream",
     "text": [
      "epoch: 5, [batch: 5600 / 7000], examples_per_second: 10649.8669, train_label_loss: 0.6820, \n"
     ]
    },
    {
     "name": "stdout",
     "output_type": "stream",
     "text": [
      "epoch: 5, [batch: 6300 / 7000], examples_per_second: 10710.3230, train_label_loss: 0.6514, \n"
     ]
    },
    {
     "name": "stdout",
     "output_type": "stream",
     "text": [
      "=============================================================\n",
      "epoch: 5, source_val_acc_label: 0.7751, source_val_label_loss: 0.6180, target_val_acc_label: 0.6114, target_val_label_loss: 1.2066, \n",
      "=============================================================\n"
     ]
    },
    {
     "name": "stdout",
     "output_type": "stream",
     "text": [
      "New best\n",
      "epoch: 6, [batch: 1 / 7000], examples_per_second: 11.4900, train_label_loss: 0.4365, \n"
     ]
    },
    {
     "name": "stdout",
     "output_type": "stream",
     "text": [
      "epoch: 6, [batch: 700 / 7000], examples_per_second: 10641.2189, train_label_loss: 0.7006, \n"
     ]
    },
    {
     "name": "stdout",
     "output_type": "stream",
     "text": [
      "epoch: 6, [batch: 1400 / 7000], examples_per_second: 10736.4431, train_label_loss: 0.5028, \n"
     ]
    },
    {
     "name": "stdout",
     "output_type": "stream",
     "text": [
      "epoch: 6, [batch: 2100 / 7000], examples_per_second: 10682.6261, train_label_loss: 0.3077, \n"
     ]
    },
    {
     "name": "stdout",
     "output_type": "stream",
     "text": [
      "epoch: 6, [batch: 2800 / 7000], examples_per_second: 10684.2753, train_label_loss: 0.5818, \n"
     ]
    },
    {
     "name": "stdout",
     "output_type": "stream",
     "text": [
      "epoch: 6, [batch: 3500 / 7000], examples_per_second: 10711.1469, train_label_loss: 0.5748, \n"
     ]
    },
    {
     "name": "stdout",
     "output_type": "stream",
     "text": [
      "epoch: 6, [batch: 4200 / 7000], examples_per_second: 10653.3116, train_label_loss: 0.3984, \n"
     ]
    },
    {
     "name": "stdout",
     "output_type": "stream",
     "text": [
      "epoch: 6, [batch: 4900 / 7000], examples_per_second: 11501.1273, train_label_loss: 0.6492, \n"
     ]
    },
    {
     "name": "stdout",
     "output_type": "stream",
     "text": [
      "epoch: 6, [batch: 5600 / 7000], examples_per_second: 11748.8389, train_label_loss: 0.4891, \n"
     ]
    },
    {
     "name": "stdout",
     "output_type": "stream",
     "text": [
      "epoch: 6, [batch: 6300 / 7000], examples_per_second: 11777.7887, train_label_loss: 0.5071, \n"
     ]
    },
    {
     "name": "stdout",
     "output_type": "stream",
     "text": [
      "=============================================================\n",
      "epoch: 6, source_val_acc_label: 0.7576, source_val_label_loss: 0.6624, target_val_acc_label: 0.5759, target_val_label_loss: 1.4425, \n",
      "=============================================================\n"
     ]
    },
    {
     "name": "stdout",
     "output_type": "stream",
     "text": [
      "epoch: 7, [batch: 1 / 7000], examples_per_second: 13.1625, train_label_loss: 0.4820, \n"
     ]
    },
    {
     "name": "stdout",
     "output_type": "stream",
     "text": [
      "epoch: 7, [batch: 700 / 7000], examples_per_second: 11762.6114, train_label_loss: 0.6110, \n"
     ]
    },
    {
     "name": "stdout",
     "output_type": "stream",
     "text": [
      "epoch: 7, [batch: 1400 / 7000], examples_per_second: 11774.1758, train_label_loss: 0.5034, \n"
     ]
    },
    {
     "name": "stdout",
     "output_type": "stream",
     "text": [
      "epoch: 7, [batch: 2100 / 7000], examples_per_second: 11777.4934, train_label_loss: 0.5109, \n"
     ]
    },
    {
     "name": "stdout",
     "output_type": "stream",
     "text": [
      "epoch: 7, [batch: 2800 / 7000], examples_per_second: 11707.9093, train_label_loss: 0.4097, \n"
     ]
    },
    {
     "name": "stdout",
     "output_type": "stream",
     "text": [
      "epoch: 7, [batch: 3500 / 7000], examples_per_second: 12115.2632, train_label_loss: 0.2856, \n"
     ]
    },
    {
     "name": "stdout",
     "output_type": "stream",
     "text": [
      "epoch: 7, [batch: 4200 / 7000], examples_per_second: 10724.2804, train_label_loss: 0.5195, \n"
     ]
    },
    {
     "name": "stdout",
     "output_type": "stream",
     "text": [
      "epoch: 7, [batch: 4900 / 7000], examples_per_second: 10694.6786, train_label_loss: 0.4198, \n"
     ]
    },
    {
     "name": "stdout",
     "output_type": "stream",
     "text": [
      "epoch: 7, [batch: 5600 / 7000], examples_per_second: 10951.1828, train_label_loss: 0.5296, \n"
     ]
    },
    {
     "name": "stdout",
     "output_type": "stream",
     "text": [
      "epoch: 7, [batch: 6300 / 7000], examples_per_second: 11769.2628, train_label_loss: 0.3040, \n"
     ]
    },
    {
     "name": "stdout",
     "output_type": "stream",
     "text": [
      "=============================================================\n",
      "epoch: 7, source_val_acc_label: 0.7771, source_val_label_loss: 0.6068, target_val_acc_label: 0.5977, target_val_label_loss: 1.3515, \n",
      "=============================================================\n"
     ]
    },
    {
     "name": "stdout",
     "output_type": "stream",
     "text": [
      "epoch: 8, [batch: 1 / 7000], examples_per_second: 13.0371, train_label_loss: 0.4254, \n"
     ]
    },
    {
     "name": "stdout",
     "output_type": "stream",
     "text": [
      "epoch: 8, [batch: 700 / 7000], examples_per_second: 11854.6672, train_label_loss: 0.7570, \n"
     ]
    },
    {
     "name": "stdout",
     "output_type": "stream",
     "text": [
      "epoch: 8, [batch: 1400 / 7000], examples_per_second: 11777.4443, train_label_loss: 0.2325, \n"
     ]
    },
    {
     "name": "stdout",
     "output_type": "stream",
     "text": [
      "epoch: 8, [batch: 2100 / 7000], examples_per_second: 11744.3151, train_label_loss: 0.5068, \n"
     ]
    },
    {
     "name": "stdout",
     "output_type": "stream",
     "text": [
      "epoch: 8, [batch: 2800 / 7000], examples_per_second: 11789.4964, train_label_loss: 0.5347, \n"
     ]
    },
    {
     "name": "stdout",
     "output_type": "stream",
     "text": [
      "epoch: 8, [batch: 3500 / 7000], examples_per_second: 11597.3623, train_label_loss: 0.4531, \n"
     ]
    },
    {
     "name": "stdout",
     "output_type": "stream",
     "text": [
      "epoch: 8, [batch: 4200 / 7000], examples_per_second: 12181.3368, train_label_loss: 0.4732, \n"
     ]
    },
    {
     "name": "stdout",
     "output_type": "stream",
     "text": [
      "epoch: 8, [batch: 4900 / 7000], examples_per_second: 11216.7527, train_label_loss: 0.2729, \n"
     ]
    },
    {
     "name": "stdout",
     "output_type": "stream",
     "text": [
      "epoch: 8, [batch: 5600 / 7000], examples_per_second: 10689.3178, train_label_loss: 0.4160, \n"
     ]
    },
    {
     "name": "stdout",
     "output_type": "stream",
     "text": [
      "epoch: 8, [batch: 6300 / 7000], examples_per_second: 10670.5850, train_label_loss: 0.3740, \n"
     ]
    },
    {
     "name": "stdout",
     "output_type": "stream",
     "text": [
      "=============================================================\n",
      "epoch: 8, source_val_acc_label: 0.7861, source_val_label_loss: 0.5867, target_val_acc_label: 0.6106, target_val_label_loss: 1.3357, \n",
      "=============================================================\n"
     ]
    },
    {
     "name": "stdout",
     "output_type": "stream",
     "text": [
      "epoch: 9, [batch: 1 / 7000], examples_per_second: 11.4441, train_label_loss: 0.4939, \n"
     ]
    },
    {
     "name": "stdout",
     "output_type": "stream",
     "text": [
      "epoch: 9, [batch: 700 / 7000], examples_per_second: 10704.9893, train_label_loss: 0.6294, \n"
     ]
    },
    {
     "name": "stdout",
     "output_type": "stream",
     "text": [
      "epoch: 9, [batch: 1400 / 7000], examples_per_second: 10647.0959, train_label_loss: 0.5838, \n"
     ]
    },
    {
     "name": "stdout",
     "output_type": "stream",
     "text": [
      "epoch: 9, [batch: 2100 / 7000], examples_per_second: 10746.0402, train_label_loss: 0.4352, \n"
     ]
    },
    {
     "name": "stdout",
     "output_type": "stream",
     "text": [
      "epoch: 9, [batch: 2800 / 7000], examples_per_second: 10690.7513, train_label_loss: 0.3021, \n"
     ]
    },
    {
     "name": "stdout",
     "output_type": "stream",
     "text": [
      "epoch: 9, [batch: 3500 / 7000], examples_per_second: 10678.6178, train_label_loss: 0.2839, \n"
     ]
    },
    {
     "name": "stdout",
     "output_type": "stream",
     "text": [
      "epoch: 9, [batch: 4200 / 7000], examples_per_second: 10772.8415, train_label_loss: 0.3921, \n"
     ]
    },
    {
     "name": "stdout",
     "output_type": "stream",
     "text": [
      "epoch: 9, [batch: 4900 / 7000], examples_per_second: 10676.6519, train_label_loss: 0.6120, \n"
     ]
    },
    {
     "name": "stdout",
     "output_type": "stream",
     "text": [
      "epoch: 9, [batch: 5600 / 7000], examples_per_second: 10681.0665, train_label_loss: 0.3650, \n"
     ]
    },
    {
     "name": "stdout",
     "output_type": "stream",
     "text": [
      "epoch: 9, [batch: 6300 / 7000], examples_per_second: 10685.0490, train_label_loss: 0.3398, \n"
     ]
    },
    {
     "name": "stdout",
     "output_type": "stream",
     "text": [
      "=============================================================\n",
      "epoch: 9, source_val_acc_label: 0.7833, source_val_label_loss: 0.6020, target_val_acc_label: 0.5997, target_val_label_loss: 1.4912, \n",
      "=============================================================\n"
     ]
    },
    {
     "name": "stdout",
     "output_type": "stream",
     "text": [
      "Patience (3) exhausted\n"
     ]
    }
   ],
   "source": [
    "jig = Vanilla_Train_Eval_Test_Jig(\n",
    "    model=model,\n",
    "    path_to_best_model=p.BEST_MODEL_PATH,\n",
    "    device=p.device,\n",
    "    label_loss_object=torch.nn.NLLLoss(),\n",
    ")\n",
    "\n",
    "jig.train(\n",
    "    train_iterable=datasets.source.processed.train,\n",
    "    source_val_iterable=datasets.source.processed.val,\n",
    "    target_val_iterable=datasets.target.processed.val,\n",
    "    patience=p.patience,\n",
    "    num_epochs=p.n_epoch,\n",
    "    num_logs_per_epoch=p.NUM_LOGS_PER_EPOCH,\n",
    "    criteria_for_best=p.criteria_for_best\n",
    ")"
   ]
  },
  {
   "cell_type": "code",
   "execution_count": 14,
   "id": "4bc2ac17",
   "metadata": {
    "execution": {
     "iopub.execute_input": "2022-03-28T02:05:54.283120Z",
     "iopub.status.busy": "2022-03-28T02:05:54.282755Z",
     "iopub.status.idle": "2022-03-28T02:05:54.285079Z",
     "shell.execute_reply": "2022-03-28T02:05:54.285384Z"
    },
    "papermill": {
     "duration": 0.050597,
     "end_time": "2022-03-28T02:05:54.285465",
     "exception": false,
     "start_time": "2022-03-28T02:05:54.234868",
     "status": "completed"
    },
    "tags": []
   },
   "outputs": [],
   "source": [
    "total_experiment_time_secs = time.time() - start_time_secs"
   ]
  },
  {
   "cell_type": "code",
   "execution_count": 15,
   "id": "cae88f23",
   "metadata": {
    "execution": {
     "iopub.execute_input": "2022-03-28T02:05:54.382369Z",
     "iopub.status.busy": "2022-03-28T02:05:54.376005Z",
     "iopub.status.idle": "2022-03-28T02:07:47.513739Z",
     "shell.execute_reply": "2022-03-28T02:07:47.507094Z"
    },
    "papermill": {
     "duration": 113.189435,
     "end_time": "2022-03-28T02:07:47.516826",
     "exception": false,
     "start_time": "2022-03-28T02:05:54.327391",
     "status": "completed"
    },
    "tags": []
   },
   "outputs": [],
   "source": [
    "source_test_label_accuracy, source_test_label_loss = jig.test(datasets.source.processed.test)\n",
    "target_test_label_accuracy, target_test_label_loss = jig.test(datasets.target.processed.test)\n",
    "\n",
    "source_val_label_accuracy, source_val_label_loss = jig.test(datasets.source.processed.val)\n",
    "target_val_label_accuracy, target_val_label_loss = jig.test(datasets.target.processed.val)\n",
    "\n",
    "history = jig.get_history()\n",
    "\n",
    "total_epochs_trained = len(history[\"epoch_indices\"])\n",
    "\n",
    "val_dl = wrap_in_dataloader(p, Sequence_Aggregator((datasets.source.original.val, datasets.target.original.val)))\n",
    "\n",
    "confusion = confusion_by_domain_over_dataloader(model, p.device, val_dl, forward_uses_domain=False)\n",
    "per_domain_accuracy = per_domain_accuracy_from_confusion(confusion)\n",
    "\n",
    "# Add a key to per_domain_accuracy for if it was a source domain\n",
    "for domain, accuracy in per_domain_accuracy.items():\n",
    "    per_domain_accuracy[domain] = {\n",
    "        \"accuracy\": accuracy,\n",
    "        \"source?\": domain in p.domains_source\n",
    "    }\n",
    "\n",
    "# Do an independent accuracy assesment JUST TO BE SURE!\n",
    "# _source_test_label_accuracy = independent_accuracy_assesment(model, datasets.source.processed.test, p.device)\n",
    "# _target_test_label_accuracy = independent_accuracy_assesment(model, datasets.target.processed.test, p.device)\n",
    "# _source_val_label_accuracy = independent_accuracy_assesment(model, datasets.source.processed.val, p.device)\n",
    "# _target_val_label_accuracy = independent_accuracy_assesment(model, datasets.target.processed.val, p.device)\n",
    "\n",
    "# assert(_source_test_label_accuracy == source_test_label_accuracy)\n",
    "# assert(_target_test_label_accuracy == target_test_label_accuracy)\n",
    "# assert(_source_val_label_accuracy == source_val_label_accuracy)\n",
    "# assert(_target_val_label_accuracy == target_val_label_accuracy)\n",
    "\n",
    "###################################\n",
    "# Write out the results\n",
    "###################################\n",
    "\n",
    "experiment = {\n",
    "    \"experiment_name\": p.experiment_name,\n",
    "    \"parameters\": p,\n",
    "    \"results\": {\n",
    "        \"source_test_label_accuracy\": source_test_label_accuracy,\n",
    "        \"source_test_label_loss\": source_test_label_loss,\n",
    "        \"target_test_label_accuracy\": target_test_label_accuracy,\n",
    "        \"target_test_label_loss\": target_test_label_loss,\n",
    "        \"source_val_label_accuracy\": source_val_label_accuracy,\n",
    "        \"source_val_label_loss\": source_val_label_loss,\n",
    "        \"target_val_label_accuracy\": target_val_label_accuracy,\n",
    "        \"target_val_label_loss\": target_val_label_loss,\n",
    "        \"total_epochs_trained\": total_epochs_trained,\n",
    "        \"total_experiment_time_secs\": total_experiment_time_secs,\n",
    "        \"confusion\": confusion,\n",
    "        \"per_domain_accuracy\": per_domain_accuracy,\n",
    "    },\n",
    "    \"history\": history,\n",
    "    \"dataset_metrics\": get_dataset_metrics(datasets, \"cnn\"),\n",
    "}"
   ]
  },
  {
   "cell_type": "code",
   "execution_count": 16,
   "id": "74c318cf",
   "metadata": {
    "execution": {
     "iopub.execute_input": "2022-03-28T02:07:47.672403Z",
     "iopub.status.busy": "2022-03-28T02:07:47.665580Z",
     "iopub.status.idle": "2022-03-28T02:07:47.873673Z",
     "shell.execute_reply": "2022-03-28T02:07:47.873335Z"
    },
    "papermill": {
     "duration": 0.272839,
     "end_time": "2022-03-28T02:07:47.873756",
     "exception": false,
     "start_time": "2022-03-28T02:07:47.600917",
     "status": "completed"
    },
    "tags": []
   },
   "outputs": [
    {
     "data": {
      "text/plain": [
       "<AxesSubplot:title={'center':'Source Train Label Loss vs Source Val Label Loss'}, xlabel='Epoch'>"
      ]
     },
     "execution_count": 16,
     "metadata": {},
     "output_type": "execute_result"
    },
    {
     "data": {
      "image/png": "[encoded data removed]",
      "text/plain": [
       "<Figure size 1080x504 with 1 Axes>"
      ]
     },
     "metadata": {
      "needs_background": "light"
     },
     "output_type": "display_data"
    }
   ],
   "source": [
    "get_loss_curve(experiment)"
   ]
  },
  {
   "cell_type": "code",
   "execution_count": 17,
   "id": "59376601",
   "metadata": {
    "execution": {
     "iopub.execute_input": "2022-03-28T02:07:47.977015Z",
     "iopub.status.busy": "2022-03-28T02:07:47.971458Z",
     "iopub.status.idle": "2022-03-28T02:07:48.275497Z",
     "shell.execute_reply": "2022-03-28T02:07:48.276226Z"
    },
    "papermill": {
     "duration": 0.357297,
     "end_time": "2022-03-28T02:07:48.276439",
     "exception": false,
     "start_time": "2022-03-28T02:07:47.919142",
     "status": "completed"
    },
    "tags": []
   },
   "outputs": [
    {
     "data": {
      "text/plain": [
       "<AxesSubplot:title={'center':'Results'}>"
      ]
     },
     "execution_count": 17,
     "metadata": {},
     "output_type": "execute_result"
    },
    {
     "data": {
      "image/png": "[encoded data removed]",
      "text/plain": [
       "<Figure size 1080x504 with 1 Axes>"
      ]
     },
     "metadata": {
      "needs_background": "light"
     },
     "output_type": "display_data"
    }
   ],
   "source": [
    "get_results_table(experiment)"
   ]
  },
  {
   "cell_type": "code",
   "execution_count": 18,
   "id": "e80c5c98",
   "metadata": {
    "execution": {
     "iopub.execute_input": "2022-03-28T02:07:48.394923Z",
     "iopub.status.busy": "2022-03-28T02:07:48.388358Z",
     "iopub.status.idle": "2022-03-28T02:07:48.571678Z",
     "shell.execute_reply": "2022-03-28T02:07:48.570620Z"
    },
    "papermill": {
     "duration": 0.240434,
     "end_time": "2022-03-28T02:07:48.571941",
     "exception": false,
     "start_time": "2022-03-28T02:07:48.331507",
     "status": "completed"
    },
    "tags": []
   },
   "outputs": [
    {
     "data": {
      "text/plain": [
       "<AxesSubplot:title={'center':'Per Domain Accuracy'}, xlabel='domain'>"
      ]
     },
     "execution_count": 18,
     "metadata": {},
     "output_type": "execute_result"
    },
    {
     "data": {
      "image/png": "[encoded data removed]",
      "text/plain": [
       "<Figure size 1080x504 with 1 Axes>"
      ]
     },
     "metadata": {
      "needs_background": "light"
     },
     "output_type": "display_data"
    }
   ],
   "source": [
    "get_domain_accuracies(experiment)"
   ]
  },
  {
   "cell_type": "code",
   "execution_count": 19,
   "id": "086fdd10",
   "metadata": {
    "execution": {
     "iopub.execute_input": "2022-03-28T02:07:48.673207Z",
     "iopub.status.busy": "2022-03-28T02:07:48.672639Z",
     "iopub.status.idle": "2022-03-28T02:07:48.676921Z",
     "shell.execute_reply": "2022-03-28T02:07:48.676363Z"
    },
    "papermill": {
     "duration": 0.055344,
     "end_time": "2022-03-28T02:07:48.677032",
     "exception": false,
     "start_time": "2022-03-28T02:07:48.621688",
     "status": "completed"
    },
    "tags": []
   },
   "outputs": [
    {
     "name": "stdout",
     "output_type": "stream",
     "text": [
      "Source Test Label Accuracy: 0.77584375 Target Test Label Accuracy: 0.6102864583333333\n",
      "Source Val Label Accuracy: 0.775140625 Target Val Label Accuracy: 0.611421875\n"
     ]
    }
   ],
   "source": [
    "print(\"Source Test Label Accuracy:\", experiment[\"results\"][\"source_test_label_accuracy\"], \"Target Test Label Accuracy:\", experiment[\"results\"][\"target_test_label_accuracy\"])\n",
    "print(\"Source Val Label Accuracy:\", experiment[\"results\"][\"source_val_label_accuracy\"], \"Target Val Label Accuracy:\", experiment[\"results\"][\"target_val_label_accuracy\"])"
   ]
  },
  {
   "cell_type": "code",
   "execution_count": 20,
   "id": "9f450536",
   "metadata": {
    "execution": {
     "iopub.execute_input": "2022-03-28T02:07:48.778954Z",
     "iopub.status.busy": "2022-03-28T02:07:48.778409Z",
     "iopub.status.idle": "2022-03-28T02:07:48.782334Z",
     "shell.execute_reply": "2022-03-28T02:07:48.782864Z"
    },
    "papermill": {
     "duration": 0.055904,
     "end_time": "2022-03-28T02:07:48.782986",
     "exception": false,
     "start_time": "2022-03-28T02:07:48.727082",
     "status": "completed"
    },
    "tags": [
     "experiment_json"
    ]
   },
   "outputs": [
    {
     "data": {
      "text/plain": [
       "'{\"experiment_name\": \"cnn_3:oracle.run1-oracle.run2\", \"parameters\": {\"experiment_name\": \"cnn_3:oracle.run1-oracle.run2\", \"domains_source\": [8, 32, 50, 14, 20, 26, 38, 44], \"domains_target\": [8, 32, 50, 14, 20, 26, 38, 44], \"labels\": [\"3123D52\", \"3123D65\", \"3123D79\", \"3123D80\", \"3123D54\", \"3123D70\", \"3123D7B\", \"3123D89\", \"3123D58\", \"3123D76\", \"3123D7D\", \"3123EFE\", \"3123D64\", \"3123D78\", \"3123D7E\", \"3124E4A\"], \"pickle_name_source\": \"oracle.Run1_10kExamples_stratified_ds.2022A.pkl\", \"pickle_name_target\": \"oracle.Run2_10kExamples_stratified_ds.2022A.pkl\", \"device\": \"cuda\", \"lr\": 0.0001, \"batch_size\": 128, \"normalize_source\": false, \"normalize_target\": false, \"num_examples_per_domain_per_label_source\": -1, \"num_examples_per_domain_per_label_target\": -1, \"torch_default_dtype\": \"torch.float32\", \"n_epoch\": 50, \"patience\": 3, \"criteria_for_best\": \"target_accuracy\", \"x_net\": [{\"class\": \"nnReshape\", \"kargs\": {\"shape\": [-1, 1, 2, 256]}}, {\"class\": \"Conv2d\", \"kargs\": {\"in_channels\": 1, \"out_channels\": 256, \"kernel_size\": [1, 7], \"bias\": false, \"padding\": [0, 3]}}, {\"class\": \"ReLU\", \"kargs\": {\"inplace\": true}}, {\"class\": \"BatchNorm2d\", \"kargs\": {\"num_features\": 256}}, {\"class\": \"Conv2d\", \"kargs\": {\"in_channels\": 256, \"out_channels\": 80, \"kernel_size\": [2, 7], \"bias\": true, \"padding\": [0, 3]}}, {\"class\": \"ReLU\", \"kargs\": {\"inplace\": true}}, {\"class\": \"BatchNorm2d\", \"kargs\": {\"num_features\": 80}}, {\"class\": \"Flatten\", \"kargs\": {}}, {\"class\": \"Linear\", \"kargs\": {\"in_features\": 20480, \"out_features\": 256}}, {\"class\": \"ReLU\", \"kargs\": {\"inplace\": true}}, {\"class\": \"BatchNorm1d\", \"kargs\": {\"num_features\": 256}}, {\"class\": \"Linear\", \"kargs\": {\"in_features\": 256, \"out_features\": 16}}], \"NUM_LOGS_PER_EPOCH\": 10, \"BEST_MODEL_PATH\": \"./best_model.pth\", \"dataset_seed\": 154325, \"seed\": 154325}, \"results\": {\"source_test_label_accuracy\": 0.77584375, \"source_test_label_loss\": 0.6158086263338725, \"target_test_label_accuracy\": 0.6102864583333333, \"target_test_label_loss\": 1.2156579097509383, \"source_val_label_accuracy\": 0.775140625, \"source_val_label_loss\": 0.6179756318132082, \"target_val_label_accuracy\": 0.611421875, \"target_val_label_loss\": 1.2066460173130036, \"total_epochs_trained\": 9, \"total_experiment_time_secs\": 864.0660183429718, \"confusion\": {\"50\": {\"8\": {\"8\": 2907, \"1\": 35, \"0\": 2, \"3\": 35, \"10\": 19, \"2\": 1, \"13\": 1}, \"1\": {\"1\": 1672, \"15\": 1171, \"13\": 131, \"0\": 12, \"10\": 1, \"5\": 4, \"8\": 2, \"11\": 6, \"12\": 1}, \"9\": {\"9\": 2580, \"11\": 189, \"12\": 131, \"15\": 5, \"7\": 37, \"5\": 46, \"8\": 7, \"4\": 2, \"0\": 2, \"1\": 1}, \"3\": {\"3\": 2920, \"2\": 80}, \"13\": {\"13\": 2770, \"6\": 4, \"15\": 121, \"8\": 67, \"10\": 23, \"5\": 4, \"12\": 6, \"0\": 5}, \"4\": {\"5\": 1081, \"8\": 46, \"4\": 1085, \"7\": 649, \"13\": 45, \"0\": 28, \"2\": 25, \"15\": 8, \"10\": 12, \"14\": 12, \"6\": 9}, \"6\": {\"15\": 405, \"6\": 1117, \"8\": 58, \"5\": 1375, \"4\": 26, \"14\": 17, \"13\": 1, \"11\": 1}, \"2\": {\"2\": 2759, \"0\": 149, \"1\": 42, \"11\": 8, \"6\": 1, \"9\": 38, \"12\": 3}, \"10\": {\"0\": 193, \"10\": 2754, \"15\": 9, \"12\": 3, \"8\": 17, \"1\": 7, \"13\": 17}, \"11\": {\"11\": 2779, \"9\": 31, \"5\": 25, \"8\": 101, \"12\": 11, \"1\": 11, \"15\": 30, \"0\": 12}, \"0\": {\"0\": 2409, \"2\": 283, \"10\": 184, \"1\": 113, \"15\": 6, \"12\": 4, \"9\": 1}, \"15\": {\"15\": 1536, \"4\": 326, \"7\": 39, \"8\": 534, \"5\": 374, \"14\": 80, \"11\": 66, \"6\": 39, \"9\": 6}, \"12\": {\"12\": 2671, \"11\": 51, \"9\": 270, \"15\": 1, \"5\": 6, \"0\": 1}, \"5\": {\"5\": 2252, \"4\": 39, \"2\": 165, \"7\": 284, \"14\": 34, \"6\": 52, \"8\": 80, \"13\": 22, \"15\": 69, \"10\": 3}, \"14\": {\"9\": 635, \"14\": 2221, \"6\": 35, \"2\": 108, \"1\": 1}, \"7\": {\"7\": 2111, \"2\": 564, \"5\": 188, \"14\": 104, \"13\": 12, \"4\": 18, \"10\": 3}}, \"44\": {\"9\": {\"7\": 1353, \"9\": 1158, \"13\": 155, \"10\": 41, \"6\": 153, \"2\": 119, \"11\": 5, \"15\": 16}, \"12\": {\"12\": 2183, \"3\": 756, \"8\": 9, \"14\": 40, \"7\": 1, \"5\": 6, \"11\": 2, \"1\": 1, \"13\": 2}, \"13\": {\"13\": 2391, \"4\": 99, \"6\": 164, \"7\": 199, \"0\": 129, \"10\": 5, \"9\": 10, \"11\": 3}, \"5\": {\"5\": 1954, \"6\": 586, \"15\": 352, \"4\": 35, \"14\": 24, \"8\": 36, \"7\": 7, \"0\": 4, \"11\": 1, \"13\": 1}, \"0\": {\"0\": 1622, \"8\": 1258, \"15\": 109, \"5\": 8, \"13\": 2, \"6\": 1}, \"1\": {\"1\": 2172, \"5\": 539, \"14\": 33, \"2\": 123, \"10\": 29, \"8\": 37, \"7\": 33, \"12\": 34}, \"7\": {\"9\": 406, \"6\": 64, \"10\": 127, \"7\": 2380, \"2\": 22, \"15\": 1}, \"15\": {\"15\": 2465, \"5\": 94, \"11\": 192, \"8\": 84, \"0\": 87, \"12\": 40, \"6\": 4, \"14\": 21, \"4\": 9, \"9\": 3, \"1\": 1}, \"6\": {\"6\": 2428, \"13\": 394, \"7\": 95, \"9\": 81, \"10\": 2}, \"8\": {\"0\": 345, \"8\": 2342, \"15\": 254, \"5\": 59}, \"3\": {\"2\": 111, \"7\": 57, \"14\": 408, \"3\": 1886, \"5\": 135, \"13\": 25, \"8\": 49, \"4\": 96, \"12\": 202, \"11\": 24, \"0\": 7}, \"14\": {\"5\": 801, \"15\": 689, \"14\": 940, \"4\": 524, \"11\": 8, \"8\": 19, \"9\": 9, \"6\": 9, \"12\": 1}, \"2\": {\"2\": 1831, \"5\": 72, \"15\": 112, \"8\": 747, \"10\": 23, \"1\": 133, \"0\": 21, \"11\": 29, \"7\": 30, \"9\": 2}, \"11\": {\"11\": 2978, \"3\": 21, \"13\": 1}, \"4\": {\"4\": 2092, \"11\": 104, \"5\": 45, \"15\": 426, \"14\": 158, \"8\": 23, \"9\": 108, \"7\": 26, \"12\": 12, \"6\": 4, \"0\": 2}, \"10\": {\"10\": 2948, \"2\": 12, \"7\": 13, \"1\": 27}}, \"32\": {\"5\": {\"5\": 1692, \"12\": 75, \"1\": 312, \"11\": 69, \"7\": 326, \"0\": 321, \"8\": 55, \"9\": 61, \"2\": 29, \"14\": 42, \"10\": 7, \"3\": 11}, \"13\": {\"3\": 240, \"13\": 2463, \"11\": 144, \"4\": 132, \"14\": 1, \"12\": 16, \"15\": 1, \"2\": 2, \"5\": 1}, \"2\": {\"7\": 313, \"4\": 155, \"2\": 1810, \"0\": 381, \"14\": 261, \"8\": 1, \"5\": 40, \"6\": 22, \"3\": 7, \"12\": 6, \"11\": 4}, \"0\": {\"5\": 386, \"0\": 1834, \"7\": 54, \"8\": 291, \"3\": 90, \"14\": 181, \"2\": 115, \"6\": 10, \"13\": 4, \"11\": 11, \"4\": 20, \"1\": 2, \"12\": 2}, \"4\": {\"2\": 450, \"4\": 1287, \"11\": 28, \"3\": 591, \"13\": 534, \"8\": 23, \"14\": 55, \"0\": 7, \"6\": 8, \"5\": 15, \"12\": 2}, \"7\": {\"2\": 25, \"5\": 722, \"7\": 1201, \"14\": 931, \"12\": 19, \"0\": 60, \"1\": 21, \"3\": 19, \"8\": 1, \"4\": 1}, \"10\": {\"10\": 3000}, \"11\": {\"11\": 1945, \"2\": 87, \"13\": 312, \"3\": 100, \"14\": 362, \"4\": 167, \"6\": 5, \"15\": 2, \"5\": 18, \"0\": 1, \"8\": 1}, \"9\": {\"9\": 1770, \"1\": 218, \"14\": 616, \"2\": 266, \"6\": 118, \"12\": 1, \"0\": 3, \"15\": 3, \"11\": 2, \"5\": 3}, \"15\": {\"15\": 2911, \"8\": 71, \"2\": 15, \"11\": 2, \"9\": 1}, \"8\": {\"8\": 2381, \"5\": 218, \"0\": 280, \"3\": 60, \"14\": 10, \"7\": 2, \"12\": 11, \"2\": 18, \"1\": 12, \"15\": 6, \"13\": 2}, \"12\": {\"12\": 2904, \"10\": 22, \"11\": 31, \"6\": 13, \"0\": 25, \"9\": 2, \"2\": 3}, \"6\": {\"6\": 2941, \"11\": 59}, \"14\": {\"14\": 1240, \"2\": 126, \"0\": 952, \"7\": 151, \"5\": 166, \"11\": 21, \"12\": 10, \"6\": 298, \"1\": 13, \"8\": 7, \"3\": 10, \"4\": 3, \"9\": 3}, \"1\": {\"1\": 2936, \"8\": 63, \"10\": 1}, \"3\": {\"3\": 2298, \"12\": 355, \"13\": 307, \"11\": 36, \"14\": 2, \"15\": 2}}, \"20\": {\"9\": {\"2\": 771, \"9\": 1375, \"15\": 114, \"1\": 101, \"7\": 127, \"13\": 105, \"5\": 37, \"12\": 235, \"3\": 132, \"11\": 1, \"4\": 1, \"10\": 1}, \"8\": {\"8\": 2463, \"12\": 26, \"3\": 132, \"2\": 74, \"6\": 1, \"7\": 45, \"14\": 125, \"4\": 34, \"5\": 19, \"0\": 50, \"11\": 4, \"10\": 14, \"15\": 9, \"9\": 4}, \"1\": {\"15\": 612, \"1\": 947, \"12\": 75, \"2\": 225, \"9\": 540, \"5\": 513, \"3\": 72, \"13\": 7, \"0\": 8, \"7\": 1}, \"6\": {\"6\": 2743, \"7\": 112, \"10\": 63, \"11\": 9, \"14\": 65, \"8\": 3, \"4\": 3, \"2\": 2}, \"3\": {\"7\": 727, \"3\": 512, \"2\": 742, \"9\": 461, \"5\": 217, \"8\": 24, \"1\": 67, \"12\": 172, \"4\": 18, \"11\": 3, \"13\": 20, \"10\": 13, \"15\": 14, \"0\": 5, \"6\": 5}, \"4\": {\"12\": 1173, \"7\": 350, \"4\": 1175, \"6\": 15, \"8\": 61, \"2\": 55, \"15\": 12, \"5\": 22, \"3\": 90, \"9\": 13, \"10\": 23, \"11\": 7, \"14\": 3, \"1\": 1}, \"2\": {\"9\": 744, \"2\": 1028, \"13\": 409, \"7\": 466, \"11\": 11, \"15\": 85, \"12\": 171, \"5\": 16, \"1\": 26, \"3\": 43, \"8\": 1}, \"11\": {\"11\": 2972, \"0\": 2, \"9\": 10, \"8\": 3, \"5\": 1, \"1\": 6, \"4\": 5, \"13\": 1}, \"7\": {\"7\": 2268, \"13\": 29, \"11\": 79, \"2\": 267, \"6\": 197, \"9\": 54, \"8\": 10, \"4\": 62, \"3\": 9, \"12\": 13, \"14\": 3, \"10\": 9}, \"10\": {\"10\": 2295, \"14\": 17, \"7\": 25, \"4\": 357, \"6\": 277, \"2\": 3, \"12\": 24, \"8\": 2}, \"15\": {\"15\": 1551, \"13\": 543, \"9\": 345, \"2\": 260, \"1\": 57, \"12\": 135, \"5\": 24, \"7\": 68, \"11\": 12, \"3\": 4, \"0\": 1}, \"0\": {\"0\": 2820, \"9\": 51, \"2\": 49, \"5\": 54, \"11\": 2, \"3\": 14, \"8\": 6, \"1\": 3, \"15\": 1}, \"13\": {\"13\": 2870, \"15\": 65, \"11\": 17, \"2\": 22, \"7\": 19, \"9\": 1, \"12\": 6}, \"5\": {\"2\": 493, \"9\": 337, \"7\": 433, \"11\": 23, \"1\": 180, \"5\": 1025, \"0\": 68, \"15\": 152, \"12\": 76, \"3\": 165, \"13\": 22, \"8\": 25, \"4\": 1}, \"14\": {\"4\": 24, \"7\": 8, \"14\": 2215, \"6\": 66, \"8\": 586, \"10\": 13, \"12\": 76, \"2\": 9, \"15\": 2, \"3\": 1}, \"12\": {\"2\": 503, \"13\": 390, \"9\": 162, \"7\": 475, \"12\": 1144, \"1\": 50, \"15\": 217, \"3\": 35, \"5\": 9, \"4\": 6, \"11\": 8, \"6\": 1}}, \"8\": {\"9\": {\"9\": 2729, \"5\": 204, \"13\": 17, \"12\": 50}, \"4\": {\"4\": 1180, \"13\": 127, \"7\": 911, \"6\": 492, \"14\": 242, \"11\": 39, \"10\": 8, \"8\": 1}, \"0\": {\"0\": 2857, \"14\": 138, \"11\": 3, \"9\": 1, \"5\": 1}, \"6\": {\"7\": 806, \"14\": 151, \"0\": 62, \"4\": 894, \"6\": 844, \"13\": 90, \"11\": 113, \"8\": 34, \"10\": 6}, \"5\": {\"5\": 1777, \"10\": 1145, \"13\": 63, \"4\": 4, \"11\": 3, \"1\": 6, \"14\": 2}, \"14\": {\"4\": 1227, \"14\": 1664, \"0\": 13, \"11\": 15, \"7\": 7, \"10\": 4, \"6\": 60, \"13\": 10}, \"11\": {\"11\": 1523, \"8\": 1116, \"1\": 128, \"4\": 87, \"5\": 33, \"10\": 40, \"6\": 10, \"14\": 50, \"12\": 13}, \"7\": {\"7\": 2216, \"6\": 493, \"13\": 234, \"4\": 34, \"11\": 23}, \"1\": {\"4\": 134, \"1\": 1299, \"11\": 697, \"14\": 211, \"5\": 415, \"10\": 180, \"6\": 61, \"13\": 3}, \"3\": {\"3\": 2593, \"0\": 228, \"10\": 49, \"2\": 103, \"4\": 22, \"15\": 2, \"8\": 3}, \"12\": {\"12\": 1785, \"15\": 412, \"4\": 487, \"8\": 183, \"14\": 33, \"5\": 20, \"7\": 12, \"3\": 41, \"10\": 22, \"1\": 1, \"2\": 3, \"6\": 1}, \"15\": {\"15\": 2440, \"12\": 284, \"3\": 118, \"1\": 4, \"5\": 99, \"2\": 19, \"8\": 22, \"4\": 3, \"0\": 11}, \"13\": {\"10\": 686, \"13\": 1659, \"6\": 78, \"1\": 233, \"5\": 281, \"4\": 27, \"7\": 16, \"15\": 15, \"12\": 1, \"11\": 4}, \"2\": {\"0\": 325, \"2\": 442, \"3\": 327, \"12\": 35, \"15\": 1194, \"5\": 365, \"1\": 171, \"9\": 100, \"7\": 18, \"10\": 10, \"13\": 9, \"8\": 1, \"11\": 2, \"4\": 1}, \"8\": {\"8\": 2913, \"11\": 49, \"6\": 24, \"4\": 10, \"14\": 1, \"7\": 2, \"10\": 1}, \"10\": {\"13\": 1165, \"5\": 200, \"10\": 1626, \"6\": 6, \"1\": 1, \"4\": 2}}, \"26\": {\"15\": {\"15\": 979, \"5\": 384, \"2\": 832, \"0\": 139, \"6\": 284, \"9\": 52, \"7\": 225, \"8\": 76, \"3\": 7, \"14\": 14, \"10\": 6, \"12\": 1, \"13\": 1}, \"2\": {\"2\": 1419, \"7\": 506, \"9\": 153, \"0\": 83, \"8\": 469, \"13\": 108, \"3\": 192, \"5\": 25, \"6\": 10, \"15\": 31, \"14\": 3, \"10\": 1}, \"5\": {\"5\": 2262, \"15\": 517, \"2\": 10, \"6\": 184, \"10\": 22, \"11\": 2, \"9\": 2, \"1\": 1}, \"1\": {\"14\": 246, \"1\": 2331, \"10\": 325, \"15\": 6, \"5\": 4, \"6\": 28, \"0\": 60}, \"13\": {\"9\": 388, \"8\": 65, \"13\": 2458, \"0\": 13, \"15\": 6, \"2\": 64, \"5\": 4, \"3\": 2}, \"14\": {\"10\": 805, \"1\": 261, \"0\": 838, \"6\": 58, \"14\": 1008, \"8\": 17, \"15\": 7, \"2\": 6}, \"9\": {\"13\": 314, \"9\": 2024, \"0\": 109, \"8\": 437, \"2\": 69, \"7\": 7, \"6\": 18, \"15\": 20, \"10\": 1, \"3\": 1}, \"12\": {\"12\": 3000}, \"10\": {\"0\": 1146, \"14\": 261, \"10\": 1055, \"6\": 312, \"12\": 17, \"15\": 40, \"8\": 113, \"7\": 10, \"5\": 8, \"1\": 31, \"2\": 4, \"9\": 3}, \"6\": {\"6\": 2271, \"15\": 407, \"5\": 143, \"10\": 136, \"0\": 23, \"12\": 6, \"14\": 10, \"9\": 2, \"11\": 2}, \"11\": {\"11\": 2784, \"6\": 197, \"12\": 14, \"2\": 4, \"10\": 1}, \"8\": {\"9\": 292, \"0\": 426, \"8\": 1909, \"2\": 154, \"7\": 151, \"10\": 32, \"6\": 10, \"13\": 11, \"4\": 2, \"15\": 9, \"14\": 1, \"3\": 2, \"12\": 1}, \"7\": {\"2\": 449, \"8\": 710, \"7\": 1082, \"0\": 170, \"3\": 378, \"13\": 37, \"4\": 11, \"9\": 163}, \"0\": {\"0\": 1895, \"8\": 245, \"14\": 328, \"10\": 341, \"15\": 20, \"6\": 105, \"7\": 24, \"2\": 18, \"9\": 10, \"1\": 12, \"5\": 2}, \"3\": {\"3\": 2261, \"2\": 156, \"4\": 14, \"7\": 444, \"8\": 40, \"13\": 26, \"9\": 14, \"0\": 44, \"6\": 1}, \"4\": {\"3\": 342, \"4\": 2468, \"0\": 158, \"14\": 13, \"13\": 5, \"8\": 10, \"7\": 1, \"6\": 1, \"10\": 2}}, \"38\": {\"15\": {\"15\": 1341, \"13\": 53, \"1\": 1416, \"10\": 10, \"8\": 26, \"6\": 7, \"5\": 106, \"11\": 14, \"0\": 25, \"9\": 2}, \"11\": {\"11\": 3000}, \"1\": {\"15\": 199, \"1\": 2534, \"0\": 191, \"2\": 58, \"9\": 8, \"6\": 5, \"8\": 4, \"11\": 1}, \"14\": {\"14\": 1507, \"4\": 173, \"5\": 670, \"7\": 358, \"6\": 9, \"12\": 20, \"13\": 36, \"2\": 158, \"10\": 52, \"3\": 8, \"8\": 9}, \"2\": {\"5\": 812, \"2\": 1975, \"14\": 31, \"7\": 161, \"13\": 11, \"6\": 2, \"3\": 1, \"8\": 7}, \"7\": {\"7\": 2619, \"4\": 269, \"8\": 92, \"5\": 5, \"9\": 3, \"0\": 12}, \"0\": {\"13\": 280, \"4\": 337, \"7\": 1076, \"0\": 784, \"9\": 351, \"11\": 58, \"3\": 28, \"10\": 76, \"15\": 1, \"8\": 6, \"14\": 2, \"6\": 1}, \"8\": {\"5\": 920, \"8\": 1366, \"4\": 213, \"15\": 328, \"7\": 80, \"11\": 68, \"14\": 12, \"1\": 8, \"6\": 4, \"9\": 1}, \"6\": {\"6\": 2797, \"14\": 43, \"1\": 98, \"0\": 8, \"2\": 34, \"11\": 2, \"9\": 17, \"4\": 1}, \"13\": {\"10\": 479, \"13\": 1851, \"0\": 271, \"7\": 36, \"11\": 15, \"3\": 336, \"2\": 3, \"4\": 9}, \"5\": {\"8\": 1168, \"5\": 1091, \"0\": 8, \"11\": 239, \"15\": 322, \"1\": 7, \"9\": 64, \"4\": 45, \"7\": 50, \"6\": 2, \"14\": 4}, \"12\": {\"12\": 2971, \"15\": 6, \"13\": 16, \"8\": 4, \"14\": 1, \"6\": 1, \"5\": 1}, \"4\": {\"4\": 2986, \"10\": 6, \"11\": 7, \"13\": 1}, \"10\": {\"0\": 276, \"10\": 2061, \"11\": 108, \"13\": 517, \"4\": 38}, \"3\": {\"0\": 616, \"3\": 2039, \"13\": 181, \"9\": 27, \"10\": 68, \"11\": 69}, \"9\": {\"9\": 2767, \"12\": 144, \"11\": 50, \"15\": 8, \"8\": 12, \"5\": 15, \"4\": 1, \"7\": 2, \"14\": 1}}, \"14\": {\"3\": {\"3\": 2822, \"0\": 117, \"2\": 29, \"5\": 16, \"14\": 7, \"13\": 7, \"8\": 2}, \"11\": {\"11\": 2457, \"7\": 379, \"13\": 130, \"4\": 4, \"6\": 26, \"15\": 1, \"12\": 2, \"9\": 1}, \"12\": {\"0\": 185, \"12\": 2140, \"9\": 101, \"3\": 102, \"11\": 96, \"2\": 117, \"6\": 105, \"7\": 20, \"15\": 47, \"14\": 16, \"5\": 8, \"8\": 29, \"13\": 29, \"4\": 3, \"10\": 1, \"1\": 1}, \"7\": {\"7\": 2964, \"5\": 36}, \"8\": {\"8\": 2991, \"11\": 9}, \"0\": {\"10\": 141, \"3\": 106, \"11\": 264, \"0\": 2294, \"13\": 72, \"8\": 53, \"4\": 18, \"14\": 15, \"2\": 20, \"9\": 16, \"5\": 1}, \"4\": {\"4\": 2750, \"11\": 56, \"5\": 125, \"2\": 45, \"7\": 6, \"1\": 15, \"10\": 2, \"13\": 1}, \"9\": {\"9\": 2873, \"11\": 108, \"0\": 14, \"13\": 4, \"15\": 1}, \"6\": {\"2\": 227, \"6\": 1870, \"13\": 628, \"3\": 148, \"14\": 124, \"7\": 3}, \"1\": {\"1\": 2988, \"4\": 1, \"11\": 7, \"7\": 4}, \"5\": {\"5\": 2200, \"4\": 487, \"7\": 73, \"2\": 170, \"3\": 27, \"11\": 36, \"14\": 5, \"0\": 1, \"10\": 1}, \"14\": {\"14\": 1959, \"13\": 209, \"4\": 46, \"2\": 588, \"3\": 88, \"6\": 54, \"5\": 23, \"0\": 20, \"11\": 1, \"10\": 12}, \"13\": {\"13\": 852, \"3\": 78, \"6\": 1434, \"4\": 24, \"2\": 262, \"10\": 18, \"14\": 280, \"15\": 51, \"0\": 1}, \"2\": {\"2\": 1838, \"3\": 135, \"4\": 192, \"5\": 348, \"14\": 323, \"0\": 21, \"13\": 57, \"7\": 18, \"6\": 58, \"10\": 8, \"11\": 2}, \"10\": {\"10\": 1466, \"3\": 1066, \"4\": 261, \"2\": 48, \"0\": 76, \"8\": 32, \"14\": 10, \"15\": 6, \"5\": 7, \"7\": 1, \"11\": 18, \"9\": 5, \"12\": 2, \"13\": 2}, \"15\": {\"15\": 2985, \"13\": 12, \"11\": 3}}}, \"per_domain_accuracy\": {\"50\": {\"accuracy\": 0.7613125, \"source?\": true}, \"44\": {\"accuracy\": 0.7035416666666666, \"source?\": true}, \"32\": {\"accuracy\": 0.7211041666666667, \"source?\": true}, \"20\": {\"accuracy\": 0.6125625, \"source?\": true}, \"8\": {\"accuracy\": 0.6155625, \"source?\": true}, \"26\": {\"accuracy\": 0.650125, \"source?\": true}, \"38\": {\"accuracy\": 0.7018541666666667, \"source?\": true}, \"14\": {\"accuracy\": 0.7801875, \"source?\": true}}}, \"history\": {\"epoch_indices\": [1, 2, 3, 4, 5, 6, 7, 8, 9], \"train_label_loss\": [2.0029793511288507, 1.1508289150510516, 0.8668755894984518, 0.7071774183426585, 0.6025481172459466, 0.5246463994596686, 0.4672164530328342, 0.4162186739402158, 0.3750576917571681], \"source_val_label_loss\": [1.2685832947889963, 0.9223912089665731, 0.7959895292917888, 0.6707456398407619, 0.6179756323893865, 0.662390697936217, 0.6068410320083301, 0.5867480119069417, 0.6019600367546082], \"target_val_label_loss\": [1.5090303675333658, 1.357025079925855, 1.3447330888907114, 1.2860003888209661, 1.2066460169553757, 1.4424714274406434, 1.3514738612572352, 1.3356978985071182, 1.4912171924114228], \"source_val_acc_label\": [0.5755677083333334, 0.6813385416666666, 0.71134375, 0.7541354166666666, 0.775140625, 0.7575729166666667, 0.7770572916666667, 0.7861458333333333, 0.78334375], \"target_val_acc_label\": [0.48494270833333336, 0.5349270833333334, 0.5570677083333333, 0.5816770833333333, 0.611421875, 0.5759114583333333, 0.5977395833333333, 0.6105572916666666, 0.5996666666666667]}, \"dataset_metrics\": {\"source\": {\"train\": {\"n_unique_x\": 896000, \"n_unique_y\": 16, \"n_batch/episode\": 7000}, \"val\": {\"n_unique_x\": 192000, \"n_unique_y\": 16, \"n_batch/episode\": 1500}, \"test\": {\"n_unique_x\": 192000, \"n_unique_y\": 16, \"n_batch/episode\": 1500}}, \"target\": {\"train\": {\"n_unique_x\": 896000, \"n_unique_y\": 16, \"n_batch/episode\": 7000}, \"val\": {\"n_unique_x\": 192000, \"n_unique_y\": 16, \"n_batch/episode\": 1500}, \"test\": {\"n_unique_x\": 192000, \"n_unique_y\": 16, \"n_batch/episode\": 1500}}}}'"
      ]
     },
     "execution_count": 20,
     "metadata": {},
     "output_type": "execute_result"
    }
   ],
   "source": [
    "json.dumps(experiment)"
   ]
  }
 ],
 "metadata": {
  "celltoolbar": "Tags",
  "kernelspec": {
   "display_name": "Python 3 (ipykernel)",
   "language": "python",
   "name": "python3"
  },
  "language_info": {
   "codemirror_mode": {
    "name": "ipython",
    "version": 3
   },
   "file_extension": ".py",
   "mimetype": "text/x-python",
   "name": "python",
   "nbconvert_exporter": "python",
   "pygments_lexer": "ipython3",
   "version": "3.8.12"
  },
  "papermill": {
   "default_parameters": {},
   "duration": 985.593141,
   "end_time": "2022-03-28T02:07:52.565420",
   "environment_variables": {},
   "exception": null,
   "input_path": "/root/csc500-main/csc500-notebooks/templates/cnn_template.ipynb",
   "output_path": "trial.ipynb",
   "parameters": {
    "parameters": {
     "BEST_MODEL_PATH": "./best_model.pth",
     "NUM_LOGS_PER_EPOCH": 10,
     "batch_size": 128,
     "criteria_for_best": "target_accuracy",
     "dataset_seed": 154325,
     "device": "cuda",
     "domains_source": [
      8,
      32,
      50,
      14,
      20,
      26,
      38,
      44
     ],
     "domains_target": [
      8,
      32,
      50,
      14,
      20,
      26,
      38,
      44
     ],
     "experiment_name": "cnn_3:oracle.run1-oracle.run2",
     "labels": [
      "3123D52",
      "3123D65",
      "3123D79",
      "3123D80",
      "3123D54",
      "3123D70",
      "3123D7B",
      "3123D89",
      "3123D58",
      "3123D76",
      "3123D7D",
      "3123EFE",
      "3123D64",
      "3123D78",
      "3123D7E",
      "3124E4A"
     ],
     "lr": 0.0001,
     "n_epoch": 50,
     "normalize_source": false,
     "normalize_target": false,
     "num_examples_per_domain_per_label_source": -1,
     "num_examples_per_domain_per_label_target": -1,
     "patience": 3,
     "pickle_name_source": "oracle.Run1_10kExamples_stratified_ds.2022A.pkl",
     "pickle_name_target": "oracle.Run2_10kExamples_stratified_ds.2022A.pkl",
     "seed": 154325,
     "torch_default_dtype": "torch.float32",
     "x_net": [
      {
       "class": "nnReshape",
       "kargs": {
        "shape": [
         -1,
         1,
         2,
         256
        ]
       }
      },
      {
       "class": "Conv2d",
       "kargs": {
        "bias": false,
        "in_channels": 1,
        "kernel_size": [
         1,
         7
        ],
        "out_channels": 256,
        "padding": [
         0,
         3
        ]
       }
      },
      {
       "class": "ReLU",
       "kargs": {
        "inplace": true
       }
      },
      {
       "class": "BatchNorm2d",
       "kargs": {
        "num_features": 256
       }
      },
      {
       "class": "Conv2d",
       "kargs": {
        "bias": true,
        "in_channels": 256,
        "kernel_size": [
         2,
         7
        ],
        "out_channels": 80,
        "padding": [
         0,
         3
        ]
       }
      },
      {
       "class": "ReLU",
       "kargs": {
        "inplace": true
       }
      },
      {
       "class": "BatchNorm2d",
       "kargs": {
        "num_features": 80
       }
      },
      {
       "class": "Flatten",
       "kargs": {}
      },
      {
       "class": "Linear",
       "kargs": {
        "in_features": 20480,
        "out_features": 256
       }
      },
      {
       "class": "ReLU",
       "kargs": {
        "inplace": true
       }
      },
      {
       "class": "BatchNorm1d",
       "kargs": {
        "num_features": 256
       }
      },
      {
       "class": "Linear",
       "kargs": {
        "in_features": 256,
        "out_features": 16
       }
      }
     ]
    }
   },
   "start_time": "2022-03-28T01:51:26.972279",
   "version": "2.3.4"
  }
 },
 "nbformat": 4,
 "nbformat_minor": 5
}