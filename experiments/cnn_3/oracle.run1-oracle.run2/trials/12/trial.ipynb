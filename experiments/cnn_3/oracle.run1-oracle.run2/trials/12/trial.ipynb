{
 "cells": [
  {
   "cell_type": "code",
   "execution_count": 1,
   "id": "2324682e",
   "metadata": {
    "execution": {
     "iopub.execute_input": "2022-03-28T01:22:23.730932Z",
     "iopub.status.busy": "2022-03-28T01:22:23.723688Z",
     "iopub.status.idle": "2022-03-28T01:22:25.369491Z",
     "shell.execute_reply": "2022-03-28T01:22:25.368639Z"
    },
    "papermill": {
     "duration": 1.677552,
     "end_time": "2022-03-28T01:22:25.369697",
     "exception": false,
     "start_time": "2022-03-28T01:22:23.692145",
     "status": "completed"
    },
    "tags": []
   },
   "outputs": [],
   "source": [
    "import os, json, sys, time, random\n",
    "import numpy as np\n",
    "import torch\n",
    "from  easydict import EasyDict\n",
    "from math import floor\n",
    "from easydict import EasyDict\n",
    "\n",
    "from steves_utils.vanilla_train_eval_test_jig import  Vanilla_Train_Eval_Test_Jig\n",
    "\n",
    "from steves_utils.torch_utils import get_dataset_metrics, independent_accuracy_assesment\n",
    "from steves_models.configurable_vanilla import Configurable_Vanilla\n",
    "from steves_utils.torch_sequential_builder import build_sequential\n",
    "from steves_utils.lazy_map import Lazy_Map\n",
    "from steves_utils.sequence_aggregator import Sequence_Aggregator\n",
    "\n",
    "from steves_utils.stratified_dataset.traditional_accessor import Traditional_Accessor_Factory\n",
    "\n",
    "from steves_utils.cnn_do_report import (\n",
    "    get_loss_curve,\n",
    "    get_results_table,\n",
    "    get_parameters_table,\n",
    "    get_domain_accuracies,\n",
    ")\n",
    "\n",
    "from steves_utils.torch_utils import (\n",
    "    confusion_by_domain_over_dataloader,\n",
    "    independent_accuracy_assesment\n",
    ")\n",
    "\n",
    "from steves_utils.utils_v2 import (\n",
    "    per_domain_accuracy_from_confusion,\n",
    "    get_datasets_base_path\n",
    ")\n",
    "\n",
    "# from steves_utils.ptn_do_report import TBD"
   ]
  },
  {
   "cell_type": "code",
   "execution_count": 2,
   "id": "1b29e3fe",
   "metadata": {
    "execution": {
     "iopub.execute_input": "2022-03-28T01:22:25.406975Z",
     "iopub.status.busy": "2022-03-28T01:22:25.406594Z",
     "iopub.status.idle": "2022-03-28T01:22:25.409472Z",
     "shell.execute_reply": "2022-03-28T01:22:25.410143Z"
    },
    "papermill": {
     "duration": 0.022865,
     "end_time": "2022-03-28T01:22:25.410322",
     "exception": false,
     "start_time": "2022-03-28T01:22:25.387457",
     "status": "completed"
    },
    "tags": []
   },
   "outputs": [],
   "source": [
    "required_parameters = {\n",
    "    \"experiment_name\",\n",
    "    \"lr\",\n",
    "    \"device\",\n",
    "    \"dataset_seed\",\n",
    "    \"seed\",\n",
    "    \"labels\",\n",
    "    \"domains_target\",\n",
    "    \"domains_source\",\n",
    "    \"num_examples_per_domain_per_label_source\",\n",
    "    \"num_examples_per_domain_per_label_target\",\n",
    "    \"batch_size\",\n",
    "    \"n_epoch\",\n",
    "    \"patience\",\n",
    "    \"criteria_for_best\",\n",
    "    \"normalize_source\",\n",
    "    \"normalize_target\",\n",
    "    \"x_net\",\n",
    "    \"NUM_LOGS_PER_EPOCH\",\n",
    "    \"BEST_MODEL_PATH\",\n",
    "    \"pickle_name_source\",\n",
    "    \"pickle_name_target\",\n",
    "    \"torch_default_dtype\",\n",
    "}"
   ]
  },
  {
   "cell_type": "code",
   "execution_count": 3,
   "id": "670b5fb8",
   "metadata": {
    "execution": {
     "iopub.execute_input": "2022-03-28T01:22:25.455562Z",
     "iopub.status.busy": "2022-03-28T01:22:25.454655Z",
     "iopub.status.idle": "2022-03-28T01:22:25.461918Z",
     "shell.execute_reply": "2022-03-28T01:22:25.461115Z"
    },
    "papermill": {
     "duration": 0.032819,
     "end_time": "2022-03-28T01:22:25.462073",
     "exception": false,
     "start_time": "2022-03-28T01:22:25.429254",
     "status": "completed"
    },
    "tags": [
     "parameters"
    ]
   },
   "outputs": [],
   "source": [
    "from steves_utils.ORACLE.utils_v2 import (\n",
    "    ALL_SERIAL_NUMBERS,\n",
    "    ALL_DISTANCES_FEET_NARROWED,\n",
    ")\n",
    "\n",
    "standalone_parameters = {}\n",
    "standalone_parameters[\"experiment_name\"] = \"MANUAL CORES CNN\"\n",
    "standalone_parameters[\"lr\"] = 0.0001\n",
    "standalone_parameters[\"device\"] = \"cuda\"\n",
    "\n",
    "standalone_parameters[\"dataset_seed\"] = 1337\n",
    "standalone_parameters[\"seed\"] = 1337\n",
    "standalone_parameters[\"labels\"] = ALL_SERIAL_NUMBERS\n",
    "\n",
    "standalone_parameters[\"domains_source\"] = [8,32,50]\n",
    "standalone_parameters[\"domains_target\"] = [14,20,26,38,44,]\n",
    "\n",
    "standalone_parameters[\"num_examples_per_domain_per_label_source\"]=-1\n",
    "standalone_parameters[\"num_examples_per_domain_per_label_target\"]=-1\n",
    "\n",
    "standalone_parameters[\"pickle_name_source\"] = \"oracle.Run1_framed_2000Examples_stratified_ds.2022A.pkl\"\n",
    "standalone_parameters[\"pickle_name_target\"] = \"oracle.Run2_framed_2000Examples_stratified_ds.2022A.pkl\"\n",
    "\n",
    "standalone_parameters[\"torch_default_dtype\"] = \"torch.float32\" \n",
    "\n",
    "standalone_parameters[\"batch_size\"]=128\n",
    "\n",
    "standalone_parameters[\"n_epoch\"] = 3\n",
    "\n",
    "standalone_parameters[\"patience\"] = 10\n",
    "\n",
    "standalone_parameters[\"criteria_for_best\"] = \"target_accuracy\"\n",
    "standalone_parameters[\"normalize_source\"] = False\n",
    "standalone_parameters[\"normalize_target\"] = False\n",
    "\n",
    "standalone_parameters[\"x_net\"] =     [\n",
    "    {\"class\": \"nnReshape\", \"kargs\": {\"shape\":[-1, 1, 2, 256]}},\n",
    "    {\"class\": \"Conv2d\", \"kargs\": { \"in_channels\":1, \"out_channels\":256, \"kernel_size\":(1,7), \"bias\":False, \"padding\":(0,3), },},\n",
    "    {\"class\": \"ReLU\", \"kargs\": {\"inplace\": True}},\n",
    "    {\"class\": \"BatchNorm2d\", \"kargs\": {\"num_features\":256}},\n",
    "\n",
    "    {\"class\": \"Conv2d\", \"kargs\": { \"in_channels\":256, \"out_channels\":80, \"kernel_size\":(2,7), \"bias\":True, \"padding\":(0,3), },},\n",
    "    {\"class\": \"ReLU\", \"kargs\": {\"inplace\": True}},\n",
    "    {\"class\": \"BatchNorm2d\", \"kargs\": {\"num_features\":80}},\n",
    "    {\"class\": \"Flatten\", \"kargs\": {}},\n",
    "\n",
    "    {\"class\": \"Linear\", \"kargs\": {\"in_features\": 80*256, \"out_features\": 256}}, # 80 units per IQ pair\n",
    "    {\"class\": \"ReLU\", \"kargs\": {\"inplace\": True}},\n",
    "    {\"class\": \"BatchNorm1d\", \"kargs\": {\"num_features\":256}},\n",
    "\n",
    "    {\"class\": \"Linear\", \"kargs\": {\"in_features\": 256, \"out_features\": len(standalone_parameters[\"labels\"])}},\n",
    "]\n",
    "\n",
    "standalone_parameters[\"NUM_LOGS_PER_EPOCH\"] = 10\n",
    "standalone_parameters[\"BEST_MODEL_PATH\"] = \"./best_model.pth\""
   ]
  },
  {
   "cell_type": "code",
   "execution_count": 4,
   "id": "c4e6923f",
   "metadata": {
    "execution": {
     "iopub.execute_input": "2022-03-28T01:22:25.509252Z",
     "iopub.status.busy": "2022-03-28T01:22:25.508349Z",
     "iopub.status.idle": "2022-03-28T01:22:25.511304Z",
     "shell.execute_reply": "2022-03-28T01:22:25.510601Z"
    },
    "papermill": {
     "duration": 0.030265,
     "end_time": "2022-03-28T01:22:25.511458",
     "exception": false,
     "start_time": "2022-03-28T01:22:25.481193",
     "status": "completed"
    },
    "tags": [
     "injected-parameters"
    ]
   },
   "outputs": [],
   "source": [
    "# Parameters\n",
    "parameters = {\n",
    "    \"experiment_name\": \"cnn_3:oracle.run1-oracle.run2\",\n",
    "    \"domains_source\": [8, 32, 50, 14, 20, 26, 38, 44],\n",
    "    \"domains_target\": [8, 32, 50, 14, 20, 26, 38, 44],\n",
    "    \"labels\": [\n",
    "        \"3123D52\",\n",
    "        \"3123D65\",\n",
    "        \"3123D79\",\n",
    "        \"3123D80\",\n",
    "        \"3123D54\",\n",
    "        \"3123D70\",\n",
    "        \"3123D7B\",\n",
    "        \"3123D89\",\n",
    "        \"3123D58\",\n",
    "        \"3123D76\",\n",
    "        \"3123D7D\",\n",
    "        \"3123EFE\",\n",
    "        \"3123D64\",\n",
    "        \"3123D78\",\n",
    "        \"3123D7E\",\n",
    "        \"3124E4A\",\n",
    "    ],\n",
    "    \"pickle_name_source\": \"oracle.Run1_10kExamples_stratified_ds.2022A.pkl\",\n",
    "    \"pickle_name_target\": \"oracle.Run2_10kExamples_stratified_ds.2022A.pkl\",\n",
    "    \"device\": \"cuda\",\n",
    "    \"lr\": 0.0001,\n",
    "    \"batch_size\": 128,\n",
    "    \"normalize_source\": False,\n",
    "    \"normalize_target\": False,\n",
    "    \"num_examples_per_domain_per_label_source\": -1,\n",
    "    \"num_examples_per_domain_per_label_target\": -1,\n",
    "    \"torch_default_dtype\": \"torch.float32\",\n",
    "    \"n_epoch\": 50,\n",
    "    \"patience\": 3,\n",
    "    \"criteria_for_best\": \"target_accuracy\",\n",
    "    \"x_net\": [\n",
    "        {\"class\": \"nnReshape\", \"kargs\": {\"shape\": [-1, 1, 2, 256]}},\n",
    "        {\n",
    "            \"class\": \"Conv2d\",\n",
    "            \"kargs\": {\n",
    "                \"in_channels\": 1,\n",
    "                \"out_channels\": 256,\n",
    "                \"kernel_size\": [1, 7],\n",
    "                \"bias\": False,\n",
    "                \"padding\": [0, 3],\n",
    "            },\n",
    "        },\n",
    "        {\"class\": \"ReLU\", \"kargs\": {\"inplace\": True}},\n",
    "        {\"class\": \"BatchNorm2d\", \"kargs\": {\"num_features\": 256}},\n",
    "        {\n",
    "            \"class\": \"Conv2d\",\n",
    "            \"kargs\": {\n",
    "                \"in_channels\": 256,\n",
    "                \"out_channels\": 80,\n",
    "                \"kernel_size\": [2, 7],\n",
    "                \"bias\": True,\n",
    "                \"padding\": [0, 3],\n",
    "            },\n",
    "        },\n",
    "        {\"class\": \"ReLU\", \"kargs\": {\"inplace\": True}},\n",
    "        {\"class\": \"BatchNorm2d\", \"kargs\": {\"num_features\": 80}},\n",
    "        {\"class\": \"Flatten\", \"kargs\": {}},\n",
    "        {\"class\": \"Linear\", \"kargs\": {\"in_features\": 20480, \"out_features\": 256}},\n",
    "        {\"class\": \"ReLU\", \"kargs\": {\"inplace\": True}},\n",
    "        {\"class\": \"BatchNorm1d\", \"kargs\": {\"num_features\": 256}},\n",
    "        {\"class\": \"Linear\", \"kargs\": {\"in_features\": 256, \"out_features\": 16}},\n",
    "    ],\n",
    "    \"NUM_LOGS_PER_EPOCH\": 10,\n",
    "    \"BEST_MODEL_PATH\": \"./best_model.pth\",\n",
    "    \"dataset_seed\": 7,\n",
    "    \"seed\": 7,\n",
    "}\n"
   ]
  },
  {
   "cell_type": "code",
   "execution_count": 5,
   "id": "759b56ec",
   "metadata": {
    "execution": {
     "iopub.execute_input": "2022-03-28T01:22:25.549636Z",
     "iopub.status.busy": "2022-03-28T01:22:25.549264Z",
     "iopub.status.idle": "2022-03-28T01:22:25.551838Z",
     "shell.execute_reply": "2022-03-28T01:22:25.551458Z"
    },
    "papermill": {
     "duration": 0.022089,
     "end_time": "2022-03-28T01:22:25.551907",
     "exception": false,
     "start_time": "2022-03-28T01:22:25.529818",
     "status": "completed"
    },
    "tags": []
   },
   "outputs": [],
   "source": [
    "# Set this to True if you want to run this template directly\n",
    "STANDALONE = False\n",
    "if STANDALONE:\n",
    "    print(\"parameters not injected, running with standalone_parameters\")\n",
    "    parameters = standalone_parameters\n",
    "\n",
    "if not 'parameters' in locals() and not 'parameters' in globals():\n",
    "    raise Exception(\"Parameter injection failed\")\n",
    "\n",
    "#Use an easy dict for all the parameters\n",
    "p = EasyDict(parameters)\n",
    "\n",
    "supplied_keys = set(p.keys())\n",
    "\n",
    "if  supplied_keys != required_parameters:\n",
    "    print(\"Parameters are incorrect\")\n",
    "    if len(supplied_keys - required_parameters)>0: print(\"Shouldn't have:\", str(supplied_keys - required_parameters))\n",
    "    if len(required_parameters - supplied_keys)>0: print(\"Need to have:\", str(required_parameters - supplied_keys))\n",
    "    raise RuntimeError(\"Parameters are incorrect\")\n",
    "\n"
   ]
  },
  {
   "cell_type": "code",
   "execution_count": 6,
   "id": "d5c66a71",
   "metadata": {
    "execution": {
     "iopub.execute_input": "2022-03-28T01:22:25.589569Z",
     "iopub.status.busy": "2022-03-28T01:22:25.589207Z",
     "iopub.status.idle": "2022-03-28T01:22:25.593830Z",
     "shell.execute_reply": "2022-03-28T01:22:25.593286Z"
    },
    "papermill": {
     "duration": 0.021828,
     "end_time": "2022-03-28T01:22:25.593934",
     "exception": false,
     "start_time": "2022-03-28T01:22:25.572106",
     "status": "completed"
    },
    "tags": []
   },
   "outputs": [],
   "source": [
    "###################################\n",
    "# Set the RNGs and make it all deterministic\n",
    "###################################\n",
    "np.random.seed(p.seed)\n",
    "random.seed(p.seed)\n",
    "torch.manual_seed(p.seed)\n",
    "\n",
    "torch.use_deterministic_algorithms(True) "
   ]
  },
  {
   "cell_type": "code",
   "execution_count": 7,
   "id": "92a65876",
   "metadata": {
    "execution": {
     "iopub.execute_input": "2022-03-28T01:22:25.629426Z",
     "iopub.status.busy": "2022-03-28T01:22:25.629066Z",
     "iopub.status.idle": "2022-03-28T01:22:25.631764Z",
     "shell.execute_reply": "2022-03-28T01:22:25.631434Z"
    },
    "papermill": {
     "duration": 0.020678,
     "end_time": "2022-03-28T01:22:25.631833",
     "exception": false,
     "start_time": "2022-03-28T01:22:25.611155",
     "status": "completed"
    },
    "tags": []
   },
   "outputs": [],
   "source": [
    "torch.set_default_dtype(eval(p.torch_default_dtype))"
   ]
  },
  {
   "cell_type": "code",
   "execution_count": 8,
   "id": "f1a32f01",
   "metadata": {
    "execution": {
     "iopub.execute_input": "2022-03-28T01:22:25.669643Z",
     "iopub.status.busy": "2022-03-28T01:22:25.669277Z",
     "iopub.status.idle": "2022-03-28T01:22:25.707944Z",
     "shell.execute_reply": "2022-03-28T01:22:25.707226Z"
    },
    "papermill": {
     "duration": 0.055838,
     "end_time": "2022-03-28T01:22:25.708097",
     "exception": false,
     "start_time": "2022-03-28T01:22:25.652259",
     "status": "completed"
    },
    "tags": []
   },
   "outputs": [],
   "source": [
    "###################################\n",
    "# Build the network(s)\n",
    "# Note: It's critical to do this AFTER setting the RNG\n",
    "###################################\n",
    "x_net = build_sequential(p.x_net)"
   ]
  },
  {
   "cell_type": "code",
   "execution_count": 9,
   "id": "a276cd83",
   "metadata": {
    "execution": {
     "iopub.execute_input": "2022-03-28T01:22:25.745065Z",
     "iopub.status.busy": "2022-03-28T01:22:25.744702Z",
     "iopub.status.idle": "2022-03-28T01:22:25.746830Z",
     "shell.execute_reply": "2022-03-28T01:22:25.747131Z"
    },
    "papermill": {
     "duration": 0.020656,
     "end_time": "2022-03-28T01:22:25.747210",
     "exception": false,
     "start_time": "2022-03-28T01:22:25.726554",
     "status": "completed"
    },
    "tags": []
   },
   "outputs": [],
   "source": [
    "start_time_secs = time.time()"
   ]
  },
  {
   "cell_type": "code",
   "execution_count": 10,
   "id": "de702e48",
   "metadata": {
    "execution": {
     "iopub.execute_input": "2022-03-28T01:22:25.790662Z",
     "iopub.status.busy": "2022-03-28T01:22:25.790062Z",
     "iopub.status.idle": "2022-03-28T01:23:03.925115Z",
     "shell.execute_reply": "2022-03-28T01:23:03.924340Z"
    },
    "papermill": {
     "duration": 38.160263,
     "end_time": "2022-03-28T01:23:03.925264",
     "exception": false,
     "start_time": "2022-03-28T01:22:25.765001",
     "status": "completed"
    },
    "tags": []
   },
   "outputs": [],
   "source": [
    "def wrap_in_dataloader(p, ds):\n",
    "    return torch.utils.data.DataLoader(\n",
    "        ds,\n",
    "        batch_size=p.batch_size,\n",
    "        shuffle=True,\n",
    "        num_workers=1,\n",
    "        persistent_workers=True,\n",
    "        prefetch_factor=50,\n",
    "        pin_memory=True\n",
    "    )\n",
    "\n",
    "taf_source = Traditional_Accessor_Factory(\n",
    "    labels=p.labels,\n",
    "    domains=p.domains_source,\n",
    "    num_examples_per_domain_per_label=p.num_examples_per_domain_per_label_source,\n",
    "    pickle_path=os.path.join(get_datasets_base_path(), p.pickle_name_source),\n",
    "    seed=p.dataset_seed\n",
    ")\n",
    "train_original_source, val_original_source, test_original_source = \\\n",
    "    taf_source.get_train(), taf_source.get_val(), taf_source.get_test()\n",
    "\n",
    "\n",
    "taf_target = Traditional_Accessor_Factory(\n",
    "    labels=p.labels,\n",
    "    domains=p.domains_target,\n",
    "    num_examples_per_domain_per_label=p.num_examples_per_domain_per_label_source,\n",
    "    pickle_path=os.path.join(get_datasets_base_path(), p.pickle_name_target),\n",
    "    seed=p.dataset_seed\n",
    ")\n",
    "train_original_target, val_original_target, test_original_target = \\\n",
    "    taf_target.get_train(), taf_target.get_val(), taf_target.get_test()\n",
    "\n",
    "\n",
    "# For CNN We only use X and Y. And we only train on the source.\n",
    "# Properly form the data using a transform lambda and Lazy_Map. Finally wrap them in a dataloader\n",
    "\n",
    "transform_lambda = lambda ex: ex[:2] # Strip the tuple to just (x,y)\n",
    "\n",
    "\n",
    "train_processed_source = wrap_in_dataloader(\n",
    "    p,\n",
    "    Lazy_Map(train_original_source, transform_lambda)\n",
    ")\n",
    "val_processed_source = wrap_in_dataloader(\n",
    "    p,\n",
    "    Lazy_Map(val_original_source, transform_lambda)\n",
    ")\n",
    "test_processed_source = wrap_in_dataloader(\n",
    "    p,\n",
    "    Lazy_Map(test_original_source, transform_lambda)\n",
    ")\n",
    "\n",
    "train_processed_target = wrap_in_dataloader(\n",
    "    p,\n",
    "    Lazy_Map(train_original_target, transform_lambda)\n",
    ")\n",
    "val_processed_target = wrap_in_dataloader(\n",
    "    p,\n",
    "    Lazy_Map(val_original_target, transform_lambda)\n",
    ")\n",
    "test_processed_target  = wrap_in_dataloader(\n",
    "    p,\n",
    "    Lazy_Map(test_original_target, transform_lambda)\n",
    ")\n",
    "\n",
    "\n",
    "\n",
    "datasets = EasyDict({\n",
    "    \"source\": {\n",
    "        \"original\": {\"train\":train_original_source, \"val\":val_original_source, \"test\":test_original_source},\n",
    "        \"processed\": {\"train\":train_processed_source, \"val\":val_processed_source, \"test\":test_processed_source}\n",
    "    },\n",
    "    \"target\": {\n",
    "        \"original\": {\"train\":train_original_target, \"val\":val_original_target, \"test\":test_original_target},\n",
    "        \"processed\": {\"train\":train_processed_target, \"val\":val_processed_target, \"test\":test_processed_target}\n",
    "    },\n",
    "})"
   ]
  },
  {
   "cell_type": "code",
   "execution_count": 11,
   "id": "a11b26bd",
   "metadata": {
    "execution": {
     "iopub.execute_input": "2022-03-28T01:23:04.011726Z",
     "iopub.status.busy": "2022-03-28T01:23:04.011298Z",
     "iopub.status.idle": "2022-03-28T01:23:09.691852Z",
     "shell.execute_reply": "2022-03-28T01:23:09.690941Z"
    },
    "papermill": {
     "duration": 5.747773,
     "end_time": "2022-03-28T01:23:09.692039",
     "exception": false,
     "start_time": "2022-03-28T01:23:03.944266",
     "status": "completed"
    },
    "tags": []
   },
   "outputs": [
    {
     "data": {
      "text/plain": [
       "torch.float32"
      ]
     },
     "execution_count": 11,
     "metadata": {},
     "output_type": "execute_result"
    }
   ],
   "source": [
    "ep = next(iter(test_processed_target))\n",
    "ep[0].dtype"
   ]
  },
  {
   "cell_type": "code",
   "execution_count": 12,
   "id": "19425fad",
   "metadata": {
    "execution": {
     "iopub.execute_input": "2022-03-28T01:23:09.742340Z",
     "iopub.status.busy": "2022-03-28T01:23:09.741953Z",
     "iopub.status.idle": "2022-03-28T01:23:09.782100Z",
     "shell.execute_reply": "2022-03-28T01:23:09.781258Z"
    },
    "papermill": {
     "duration": 0.058883,
     "end_time": "2022-03-28T01:23:09.782276",
     "exception": false,
     "start_time": "2022-03-28T01:23:09.723393",
     "status": "completed"
    },
    "tags": []
   },
   "outputs": [],
   "source": [
    "model = Configurable_Vanilla(\n",
    "    x_net=x_net,\n",
    "    label_loss_object=torch.nn.NLLLoss(),\n",
    "    learning_rate=p.lr\n",
    ")"
   ]
  },
  {
   "cell_type": "code",
   "execution_count": 13,
   "id": "7f6d4f2c",
   "metadata": {
    "execution": {
     "iopub.execute_input": "2022-03-28T01:23:09.824971Z",
     "iopub.status.busy": "2022-03-28T01:23:09.824544Z",
     "iopub.status.idle": "2022-03-28T01:49:31.389617Z",
     "shell.execute_reply": "2022-03-28T01:49:31.388773Z"
    },
    "papermill": {
     "duration": 1581.586565,
     "end_time": "2022-03-28T01:49:31.389790",
     "exception": false,
     "start_time": "2022-03-28T01:23:09.803225",
     "status": "completed"
    },
    "tags": []
   },
   "outputs": [
    {
     "name": "stdout",
     "output_type": "stream",
     "text": [
      "epoch: 1, [batch: 1 / 7000], examples_per_second: 352.4090, train_label_loss: 2.7789, \n"
     ]
    },
    {
     "name": "stdout",
     "output_type": "stream",
     "text": [
      "epoch: 1, [batch: 700 / 7000], examples_per_second: 10725.9726, train_label_loss: 2.6106, \n"
     ]
    },
    {
     "name": "stdout",
     "output_type": "stream",
     "text": [
      "epoch: 1, [batch: 1400 / 7000], examples_per_second: 10751.6119, train_label_loss: 2.5721, \n"
     ]
    },
    {
     "name": "stdout",
     "output_type": "stream",
     "text": [
      "epoch: 1, [batch: 2100 / 7000], examples_per_second: 11759.5771, train_label_loss: 2.3539, \n"
     ]
    },
    {
     "name": "stdout",
     "output_type": "stream",
     "text": [
      "epoch: 1, [batch: 2800 / 7000], examples_per_second: 11728.3576, train_label_loss: 2.0717, \n"
     ]
    },
    {
     "name": "stdout",
     "output_type": "stream",
     "text": [
      "epoch: 1, [batch: 3500 / 7000], examples_per_second: 11771.8670, train_label_loss: 1.9015, \n"
     ]
    },
    {
     "name": "stdout",
     "output_type": "stream",
     "text": [
      "epoch: 1, [batch: 4200 / 7000], examples_per_second: 11740.9013, train_label_loss: 1.8099, \n"
     ]
    },
    {
     "name": "stdout",
     "output_type": "stream",
     "text": [
      "epoch: 1, [batch: 4900 / 7000], examples_per_second: 11659.3171, train_label_loss: 1.7369, \n"
     ]
    },
    {
     "name": "stdout",
     "output_type": "stream",
     "text": [
      "epoch: 1, [batch: 5600 / 7000], examples_per_second: 11792.8992, train_label_loss: 1.4736, \n"
     ]
    },
    {
     "name": "stdout",
     "output_type": "stream",
     "text": [
      "epoch: 1, [batch: 6300 / 7000], examples_per_second: 11678.1888, train_label_loss: 1.5544, \n"
     ]
    },
    {
     "name": "stdout",
     "output_type": "stream",
     "text": [
      "=============================================================\n",
      "epoch: 1, source_val_acc_label: 0.5651, source_val_label_loss: 1.2858, target_val_acc_label: 0.4755, target_val_label_loss: 1.5276, \n",
      "=============================================================\n"
     ]
    },
    {
     "name": "stdout",
     "output_type": "stream",
     "text": [
      "New best\n",
      "epoch: 2, [batch: 1 / 7000], examples_per_second: 12.5125, train_label_loss: 1.2539, \n"
     ]
    },
    {
     "name": "stdout",
     "output_type": "stream",
     "text": [
      "epoch: 2, [batch: 700 / 7000], examples_per_second: 10908.4563, train_label_loss: 1.0873, \n"
     ]
    },
    {
     "name": "stdout",
     "output_type": "stream",
     "text": [
      "epoch: 2, [batch: 1400 / 7000], examples_per_second: 10596.4883, train_label_loss: 1.7576, \n"
     ]
    },
    {
     "name": "stdout",
     "output_type": "stream",
     "text": [
      "epoch: 2, [batch: 2100 / 7000], examples_per_second: 10618.7858, train_label_loss: 1.0683, \n"
     ]
    },
    {
     "name": "stdout",
     "output_type": "stream",
     "text": [
      "epoch: 2, [batch: 2800 / 7000], examples_per_second: 10564.6942, train_label_loss: 1.4845, \n"
     ]
    },
    {
     "name": "stdout",
     "output_type": "stream",
     "text": [
      "epoch: 2, [batch: 3500 / 7000], examples_per_second: 10629.4952, train_label_loss: 1.1220, \n"
     ]
    },
    {
     "name": "stdout",
     "output_type": "stream",
     "text": [
      "epoch: 2, [batch: 4200 / 7000], examples_per_second: 10675.8024, train_label_loss: 0.9803, \n"
     ]
    },
    {
     "name": "stdout",
     "output_type": "stream",
     "text": [
      "epoch: 2, [batch: 4900 / 7000], examples_per_second: 10635.5795, train_label_loss: 0.9753, \n"
     ]
    },
    {
     "name": "stdout",
     "output_type": "stream",
     "text": [
      "epoch: 2, [batch: 5600 / 7000], examples_per_second: 10512.7291, train_label_loss: 1.1498, \n"
     ]
    },
    {
     "name": "stdout",
     "output_type": "stream",
     "text": [
      "epoch: 2, [batch: 6300 / 7000], examples_per_second: 10509.4156, train_label_loss: 1.1288, \n"
     ]
    },
    {
     "name": "stdout",
     "output_type": "stream",
     "text": [
      "=============================================================\n",
      "epoch: 2, source_val_acc_label: 0.7083, source_val_label_loss: 0.8618, target_val_acc_label: 0.5596, target_val_label_loss: 1.2561, \n",
      "=============================================================\n"
     ]
    },
    {
     "name": "stdout",
     "output_type": "stream",
     "text": [
      "New best\n",
      "epoch: 3, [batch: 1 / 7000], examples_per_second: 11.7907, train_label_loss: 0.7892, \n"
     ]
    },
    {
     "name": "stdout",
     "output_type": "stream",
     "text": [
      "epoch: 3, [batch: 700 / 7000], examples_per_second: 11593.8949, train_label_loss: 1.0167, \n"
     ]
    },
    {
     "name": "stdout",
     "output_type": "stream",
     "text": [
      "epoch: 3, [batch: 1400 / 7000], examples_per_second: 11626.2306, train_label_loss: 1.2899, \n"
     ]
    },
    {
     "name": "stdout",
     "output_type": "stream",
     "text": [
      "epoch: 3, [batch: 2100 / 7000], examples_per_second: 11611.8758, train_label_loss: 0.8718, \n"
     ]
    },
    {
     "name": "stdout",
     "output_type": "stream",
     "text": [
      "epoch: 3, [batch: 2800 / 7000], examples_per_second: 11669.1904, train_label_loss: 0.7439, \n"
     ]
    },
    {
     "name": "stdout",
     "output_type": "stream",
     "text": [
      "epoch: 3, [batch: 3500 / 7000], examples_per_second: 11791.2094, train_label_loss: 0.7637, \n"
     ]
    },
    {
     "name": "stdout",
     "output_type": "stream",
     "text": [
      "epoch: 3, [batch: 4200 / 7000], examples_per_second: 11618.0786, train_label_loss: 0.8691, \n"
     ]
    },
    {
     "name": "stdout",
     "output_type": "stream",
     "text": [
      "epoch: 3, [batch: 4900 / 7000], examples_per_second: 11577.0890, train_label_loss: 0.9088, \n"
     ]
    },
    {
     "name": "stdout",
     "output_type": "stream",
     "text": [
      "epoch: 3, [batch: 5600 / 7000], examples_per_second: 11673.8654, train_label_loss: 0.7545, \n"
     ]
    },
    {
     "name": "stdout",
     "output_type": "stream",
     "text": [
      "epoch: 3, [batch: 6300 / 7000], examples_per_second: 11652.0112, train_label_loss: 0.8803, \n"
     ]
    },
    {
     "name": "stdout",
     "output_type": "stream",
     "text": [
      "=============================================================\n",
      "epoch: 3, source_val_acc_label: 0.7352, source_val_label_loss: 0.7404, target_val_acc_label: 0.5732, target_val_label_loss: 1.2796, \n",
      "=============================================================\n"
     ]
    },
    {
     "name": "stdout",
     "output_type": "stream",
     "text": [
      "New best\n",
      "epoch: 4, [batch: 1 / 7000], examples_per_second: 12.3307, train_label_loss: 1.0397, \n"
     ]
    },
    {
     "name": "stdout",
     "output_type": "stream",
     "text": [
      "epoch: 4, [batch: 700 / 7000], examples_per_second: 10656.3171, train_label_loss: 0.6531, \n"
     ]
    },
    {
     "name": "stdout",
     "output_type": "stream",
     "text": [
      "epoch: 4, [batch: 1400 / 7000], examples_per_second: 10633.0879, train_label_loss: 0.6619, \n"
     ]
    },
    {
     "name": "stdout",
     "output_type": "stream",
     "text": [
      "epoch: 4, [batch: 2100 / 7000], examples_per_second: 10647.6286, train_label_loss: 0.6725, \n"
     ]
    },
    {
     "name": "stdout",
     "output_type": "stream",
     "text": [
      "epoch: 4, [batch: 2800 / 7000], examples_per_second: 10624.5912, train_label_loss: 0.6445, \n"
     ]
    },
    {
     "name": "stdout",
     "output_type": "stream",
     "text": [
      "epoch: 4, [batch: 3500 / 7000], examples_per_second: 10741.3505, train_label_loss: 0.6452, \n"
     ]
    },
    {
     "name": "stdout",
     "output_type": "stream",
     "text": [
      "epoch: 4, [batch: 4200 / 7000], examples_per_second: 10594.6439, train_label_loss: 0.6794, \n"
     ]
    },
    {
     "name": "stdout",
     "output_type": "stream",
     "text": [
      "epoch: 4, [batch: 4900 / 7000], examples_per_second: 10622.0509, train_label_loss: 0.9376, \n"
     ]
    },
    {
     "name": "stdout",
     "output_type": "stream",
     "text": [
      "epoch: 4, [batch: 5600 / 7000], examples_per_second: 10523.8249, train_label_loss: 0.6721, \n"
     ]
    },
    {
     "name": "stdout",
     "output_type": "stream",
     "text": [
      "epoch: 4, [batch: 6300 / 7000], examples_per_second: 10636.4121, train_label_loss: 0.6971, \n"
     ]
    },
    {
     "name": "stdout",
     "output_type": "stream",
     "text": [
      "=============================================================\n",
      "epoch: 4, source_val_acc_label: 0.7582, source_val_label_loss: 0.6758, target_val_acc_label: 0.5910, target_val_label_loss: 1.2332, \n",
      "=============================================================\n"
     ]
    },
    {
     "name": "stdout",
     "output_type": "stream",
     "text": [
      "New best\n",
      "epoch: 5, [batch: 1 / 7000], examples_per_second: 11.5751, train_label_loss: 0.5818, \n"
     ]
    },
    {
     "name": "stdout",
     "output_type": "stream",
     "text": [
      "epoch: 5, [batch: 700 / 7000], examples_per_second: 10648.0145, train_label_loss: 0.6921, \n"
     ]
    },
    {
     "name": "stdout",
     "output_type": "stream",
     "text": [
      "epoch: 5, [batch: 1400 / 7000], examples_per_second: 11708.4090, train_label_loss: 0.5370, \n"
     ]
    },
    {
     "name": "stdout",
     "output_type": "stream",
     "text": [
      "epoch: 5, [batch: 2100 / 7000], examples_per_second: 11708.7077, train_label_loss: 1.0468, \n"
     ]
    },
    {
     "name": "stdout",
     "output_type": "stream",
     "text": [
      "epoch: 5, [batch: 2800 / 7000], examples_per_second: 11753.0768, train_label_loss: 0.7125, \n"
     ]
    },
    {
     "name": "stdout",
     "output_type": "stream",
     "text": [
      "epoch: 5, [batch: 3500 / 7000], examples_per_second: 11657.0036, train_label_loss: 0.9014, \n"
     ]
    },
    {
     "name": "stdout",
     "output_type": "stream",
     "text": [
      "epoch: 5, [batch: 4200 / 7000], examples_per_second: 11719.0895, train_label_loss: 0.5058, \n"
     ]
    },
    {
     "name": "stdout",
     "output_type": "stream",
     "text": [
      "epoch: 5, [batch: 4900 / 7000], examples_per_second: 11882.9923, train_label_loss: 0.4523, \n"
     ]
    },
    {
     "name": "stdout",
     "output_type": "stream",
     "text": [
      "epoch: 5, [batch: 5600 / 7000], examples_per_second: 11739.5700, train_label_loss: 0.7408, \n"
     ]
    },
    {
     "name": "stdout",
     "output_type": "stream",
     "text": [
      "epoch: 5, [batch: 6300 / 7000], examples_per_second: 11774.6705, train_label_loss: 0.5615, \n"
     ]
    },
    {
     "name": "stdout",
     "output_type": "stream",
     "text": [
      "=============================================================\n",
      "epoch: 5, source_val_acc_label: 0.7662, source_val_label_loss: 0.6361, target_val_acc_label: 0.5992, target_val_label_loss: 1.2603, \n",
      "=============================================================\n"
     ]
    },
    {
     "name": "stdout",
     "output_type": "stream",
     "text": [
      "New best\n",
      "epoch: 6, [batch: 1 / 7000], examples_per_second: 13.5616, train_label_loss: 0.5154, \n"
     ]
    },
    {
     "name": "stdout",
     "output_type": "stream",
     "text": [
      "epoch: 6, [batch: 700 / 7000], examples_per_second: 10759.1261, train_label_loss: 0.6059, \n"
     ]
    },
    {
     "name": "stdout",
     "output_type": "stream",
     "text": [
      "epoch: 6, [batch: 1400 / 7000], examples_per_second: 10696.4551, train_label_loss: 0.4442, \n"
     ]
    },
    {
     "name": "stdout",
     "output_type": "stream",
     "text": [
      "epoch: 6, [batch: 2100 / 7000], examples_per_second: 10669.6559, train_label_loss: 0.3592, \n"
     ]
    },
    {
     "name": "stdout",
     "output_type": "stream",
     "text": [
      "epoch: 6, [batch: 2800 / 7000], examples_per_second: 10676.6140, train_label_loss: 0.6854, \n"
     ]
    },
    {
     "name": "stdout",
     "output_type": "stream",
     "text": [
      "epoch: 6, [batch: 3500 / 7000], examples_per_second: 10689.8822, train_label_loss: 0.6307, \n"
     ]
    },
    {
     "name": "stdout",
     "output_type": "stream",
     "text": [
      "epoch: 6, [batch: 4200 / 7000], examples_per_second: 10689.4933, train_label_loss: 0.5272, \n"
     ]
    },
    {
     "name": "stdout",
     "output_type": "stream",
     "text": [
      "epoch: 6, [batch: 4900 / 7000], examples_per_second: 10738.1006, train_label_loss: 0.4747, \n"
     ]
    },
    {
     "name": "stdout",
     "output_type": "stream",
     "text": [
      "epoch: 6, [batch: 5600 / 7000], examples_per_second: 10664.0487, train_label_loss: 0.7211, \n"
     ]
    },
    {
     "name": "stdout",
     "output_type": "stream",
     "text": [
      "epoch: 6, [batch: 6300 / 7000], examples_per_second: 10652.1463, train_label_loss: 0.7777, \n"
     ]
    },
    {
     "name": "stdout",
     "output_type": "stream",
     "text": [
      "=============================================================\n",
      "epoch: 6, source_val_acc_label: 0.7644, source_val_label_loss: 0.6355, target_val_acc_label: 0.5942, target_val_label_loss: 1.2976, \n",
      "=============================================================\n"
     ]
    },
    {
     "name": "stdout",
     "output_type": "stream",
     "text": [
      "epoch: 7, [batch: 1 / 7000], examples_per_second: 13.0890, train_label_loss: 0.7165, \n"
     ]
    },
    {
     "name": "stdout",
     "output_type": "stream",
     "text": [
      "epoch: 7, [batch: 700 / 7000], examples_per_second: 11750.3848, train_label_loss: 0.2887, \n"
     ]
    },
    {
     "name": "stdout",
     "output_type": "stream",
     "text": [
      "epoch: 7, [batch: 1400 / 7000], examples_per_second: 11846.6558, train_label_loss: 0.3342, \n"
     ]
    },
    {
     "name": "stdout",
     "output_type": "stream",
     "text": [
      "epoch: 7, [batch: 2100 / 7000], examples_per_second: 11766.6233, train_label_loss: 0.5584, \n"
     ]
    },
    {
     "name": "stdout",
     "output_type": "stream",
     "text": [
      "epoch: 7, [batch: 2800 / 7000], examples_per_second: 11761.3153, train_label_loss: 0.3785, \n"
     ]
    },
    {
     "name": "stdout",
     "output_type": "stream",
     "text": [
      "epoch: 7, [batch: 3500 / 7000], examples_per_second: 11747.8208, train_label_loss: 0.4401, \n"
     ]
    },
    {
     "name": "stdout",
     "output_type": "stream",
     "text": [
      "epoch: 7, [batch: 4200 / 7000], examples_per_second: 11706.2167, train_label_loss: 0.5501, \n"
     ]
    },
    {
     "name": "stdout",
     "output_type": "stream",
     "text": [
      "epoch: 7, [batch: 4900 / 7000], examples_per_second: 11915.1902, train_label_loss: 0.4367, \n"
     ]
    },
    {
     "name": "stdout",
     "output_type": "stream",
     "text": [
      "epoch: 7, [batch: 5600 / 7000], examples_per_second: 11637.3494, train_label_loss: 0.4294, \n"
     ]
    },
    {
     "name": "stdout",
     "output_type": "stream",
     "text": [
      "epoch: 7, [batch: 6300 / 7000], examples_per_second: 10757.8015, train_label_loss: 0.4068, \n"
     ]
    },
    {
     "name": "stdout",
     "output_type": "stream",
     "text": [
      "=============================================================\n",
      "epoch: 7, source_val_acc_label: 0.7539, source_val_label_loss: 0.6886, target_val_acc_label: 0.5935, target_val_label_loss: 1.3793, \n",
      "=============================================================\n"
     ]
    },
    {
     "name": "stdout",
     "output_type": "stream",
     "text": [
      "epoch: 8, [batch: 1 / 7000], examples_per_second: 11.6517, train_label_loss: 0.3555, \n"
     ]
    },
    {
     "name": "stdout",
     "output_type": "stream",
     "text": [
      "epoch: 8, [batch: 700 / 7000], examples_per_second: 10667.3728, train_label_loss: 0.3336, \n"
     ]
    },
    {
     "name": "stdout",
     "output_type": "stream",
     "text": [
      "epoch: 8, [batch: 1400 / 7000], examples_per_second: 10684.8038, train_label_loss: 0.4119, \n"
     ]
    },
    {
     "name": "stdout",
     "output_type": "stream",
     "text": [
      "epoch: 8, [batch: 2100 / 7000], examples_per_second: 10761.8732, train_label_loss: 0.4058, \n"
     ]
    },
    {
     "name": "stdout",
     "output_type": "stream",
     "text": [
      "epoch: 8, [batch: 2800 / 7000], examples_per_second: 10691.9396, train_label_loss: 0.5978, \n"
     ]
    },
    {
     "name": "stdout",
     "output_type": "stream",
     "text": [
      "epoch: 8, [batch: 3500 / 7000], examples_per_second: 10733.8261, train_label_loss: 0.4204, \n"
     ]
    },
    {
     "name": "stdout",
     "output_type": "stream",
     "text": [
      "epoch: 8, [batch: 4200 / 7000], examples_per_second: 10762.8176, train_label_loss: 0.4422, \n"
     ]
    },
    {
     "name": "stdout",
     "output_type": "stream",
     "text": [
      "epoch: 8, [batch: 4900 / 7000], examples_per_second: 10722.3307, train_label_loss: 0.3581, \n"
     ]
    },
    {
     "name": "stdout",
     "output_type": "stream",
     "text": [
      "epoch: 8, [batch: 5600 / 7000], examples_per_second: 10712.5901, train_label_loss: 0.3775, \n"
     ]
    },
    {
     "name": "stdout",
     "output_type": "stream",
     "text": [
      "epoch: 8, [batch: 6300 / 7000], examples_per_second: 10683.8913, train_label_loss: 0.3434, \n"
     ]
    },
    {
     "name": "stdout",
     "output_type": "stream",
     "text": [
      "=============================================================\n",
      "epoch: 8, source_val_acc_label: 0.7615, source_val_label_loss: 0.6604, target_val_acc_label: 0.5941, target_val_label_loss: 1.4190, \n",
      "=============================================================\n"
     ]
    },
    {
     "name": "stdout",
     "output_type": "stream",
     "text": [
      "epoch: 9, [batch: 1 / 7000], examples_per_second: 11.4983, train_label_loss: 0.2845, \n"
     ]
    },
    {
     "name": "stdout",
     "output_type": "stream",
     "text": [
      "epoch: 9, [batch: 700 / 7000], examples_per_second: 10740.5390, train_label_loss: 0.2920, \n"
     ]
    },
    {
     "name": "stdout",
     "output_type": "stream",
     "text": [
      "epoch: 9, [batch: 1400 / 7000], examples_per_second: 11286.4763, train_label_loss: 0.5067, \n"
     ]
    },
    {
     "name": "stdout",
     "output_type": "stream",
     "text": [
      "epoch: 9, [batch: 2100 / 7000], examples_per_second: 11811.2183, train_label_loss: 0.5603, \n"
     ]
    },
    {
     "name": "stdout",
     "output_type": "stream",
     "text": [
      "epoch: 9, [batch: 2800 / 7000], examples_per_second: 11782.8340, train_label_loss: 0.4612, \n"
     ]
    },
    {
     "name": "stdout",
     "output_type": "stream",
     "text": [
      "epoch: 9, [batch: 3500 / 7000], examples_per_second: 11688.9288, train_label_loss: 0.3915, \n"
     ]
    },
    {
     "name": "stdout",
     "output_type": "stream",
     "text": [
      "epoch: 9, [batch: 4200 / 7000], examples_per_second: 11744.7860, train_label_loss: 0.3668, \n"
     ]
    },
    {
     "name": "stdout",
     "output_type": "stream",
     "text": [
      "epoch: 9, [batch: 4900 / 7000], examples_per_second: 11837.9961, train_label_loss: 0.3225, \n"
     ]
    },
    {
     "name": "stdout",
     "output_type": "stream",
     "text": [
      "epoch: 9, [batch: 5600 / 7000], examples_per_second: 11793.7775, train_label_loss: 0.3820, \n"
     ]
    },
    {
     "name": "stdout",
     "output_type": "stream",
     "text": [
      "epoch: 9, [batch: 6300 / 7000], examples_per_second: 11803.2078, train_label_loss: 0.3204, \n"
     ]
    },
    {
     "name": "stdout",
     "output_type": "stream",
     "text": [
      "=============================================================\n",
      "epoch: 9, source_val_acc_label: 0.7785, source_val_label_loss: 0.6064, target_val_acc_label: 0.6046, target_val_label_loss: 1.4107, \n",
      "=============================================================\n"
     ]
    },
    {
     "name": "stdout",
     "output_type": "stream",
     "text": [
      "New best\n",
      "epoch: 10, [batch: 1 / 7000], examples_per_second: 13.3664, train_label_loss: 0.2956, \n"
     ]
    },
    {
     "name": "stdout",
     "output_type": "stream",
     "text": [
      "epoch: 10, [batch: 700 / 7000], examples_per_second: 10975.9407, train_label_loss: 0.2173, \n"
     ]
    },
    {
     "name": "stdout",
     "output_type": "stream",
     "text": [
      "epoch: 10, [batch: 1400 / 7000], examples_per_second: 10710.0370, train_label_loss: 0.2900, \n"
     ]
    },
    {
     "name": "stdout",
     "output_type": "stream",
     "text": [
      "epoch: 10, [batch: 2100 / 7000], examples_per_second: 10722.7263, train_label_loss: 0.2730, \n"
     ]
    },
    {
     "name": "stdout",
     "output_type": "stream",
     "text": [
      "epoch: 10, [batch: 2800 / 7000], examples_per_second: 10720.4043, train_label_loss: 0.3290, \n"
     ]
    },
    {
     "name": "stdout",
     "output_type": "stream",
     "text": [
      "epoch: 10, [batch: 3500 / 7000], examples_per_second: 10738.3555, train_label_loss: 0.3677, \n"
     ]
    },
    {
     "name": "stdout",
     "output_type": "stream",
     "text": [
      "epoch: 10, [batch: 4200 / 7000], examples_per_second: 10673.5586, train_label_loss: 0.4394, \n"
     ]
    },
    {
     "name": "stdout",
     "output_type": "stream",
     "text": [
      "epoch: 10, [batch: 4900 / 7000], examples_per_second: 10944.7582, train_label_loss: 0.3623, \n"
     ]
    },
    {
     "name": "stdout",
     "output_type": "stream",
     "text": [
      "epoch: 10, [batch: 5600 / 7000], examples_per_second: 11741.9897, train_label_loss: 0.2555, \n"
     ]
    },
    {
     "name": "stdout",
     "output_type": "stream",
     "text": [
      "epoch: 10, [batch: 6300 / 7000], examples_per_second: 11707.8356, train_label_loss: 0.3583, \n"
     ]
    },
    {
     "name": "stdout",
     "output_type": "stream",
     "text": [
      "=============================================================\n",
      "epoch: 10, source_val_acc_label: 0.7803, source_val_label_loss: 0.6117, target_val_acc_label: 0.6014, target_val_label_loss: 1.4668, \n",
      "=============================================================\n"
     ]
    },
    {
     "name": "stdout",
     "output_type": "stream",
     "text": [
      "epoch: 11, [batch: 1 / 7000], examples_per_second: 13.2488, train_label_loss: 0.2519, \n"
     ]
    },
    {
     "name": "stdout",
     "output_type": "stream",
     "text": [
      "epoch: 11, [batch: 700 / 7000], examples_per_second: 11772.2532, train_label_loss: 0.3148, \n"
     ]
    },
    {
     "name": "stdout",
     "output_type": "stream",
     "text": [
      "epoch: 11, [batch: 1400 / 7000], examples_per_second: 11784.2887, train_label_loss: 0.2321, \n"
     ]
    },
    {
     "name": "stdout",
     "output_type": "stream",
     "text": [
      "epoch: 11, [batch: 2100 / 7000], examples_per_second: 11771.0400, train_label_loss: 0.2623, \n"
     ]
    },
    {
     "name": "stdout",
     "output_type": "stream",
     "text": [
      "epoch: 11, [batch: 2800 / 7000], examples_per_second: 11690.2999, train_label_loss: 0.3648, \n"
     ]
    },
    {
     "name": "stdout",
     "output_type": "stream",
     "text": [
      "epoch: 11, [batch: 3500 / 7000], examples_per_second: 12108.3284, train_label_loss: 0.3953, \n"
     ]
    },
    {
     "name": "stdout",
     "output_type": "stream",
     "text": [
      "epoch: 11, [batch: 4200 / 7000], examples_per_second: 11320.9229, train_label_loss: 0.2821, \n"
     ]
    },
    {
     "name": "stdout",
     "output_type": "stream",
     "text": [
      "epoch: 11, [batch: 4900 / 7000], examples_per_second: 10737.1744, train_label_loss: 0.2713, \n"
     ]
    },
    {
     "name": "stdout",
     "output_type": "stream",
     "text": [
      "epoch: 11, [batch: 5600 / 7000], examples_per_second: 10750.9555, train_label_loss: 0.3867, \n"
     ]
    },
    {
     "name": "stdout",
     "output_type": "stream",
     "text": [
      "epoch: 11, [batch: 6300 / 7000], examples_per_second: 10734.8903, train_label_loss: 0.4509, \n"
     ]
    },
    {
     "name": "stdout",
     "output_type": "stream",
     "text": [
      "=============================================================\n",
      "epoch: 11, source_val_acc_label: 0.7687, source_val_label_loss: 0.6636, target_val_acc_label: 0.5931, target_val_label_loss: 1.5956, \n",
      "=============================================================\n"
     ]
    },
    {
     "name": "stdout",
     "output_type": "stream",
     "text": [
      "epoch: 12, [batch: 1 / 7000], examples_per_second: 11.5423, train_label_loss: 0.1499, \n"
     ]
    },
    {
     "name": "stdout",
     "output_type": "stream",
     "text": [
      "epoch: 12, [batch: 700 / 7000], examples_per_second: 10725.2807, train_label_loss: 0.2530, \n"
     ]
    },
    {
     "name": "stdout",
     "output_type": "stream",
     "text": [
      "epoch: 12, [batch: 1400 / 7000], examples_per_second: 10682.4418, train_label_loss: 0.3793, \n"
     ]
    },
    {
     "name": "stdout",
     "output_type": "stream",
     "text": [
      "epoch: 12, [batch: 2100 / 7000], examples_per_second: 10727.9488, train_label_loss: 0.3853, \n"
     ]
    },
    {
     "name": "stdout",
     "output_type": "stream",
     "text": [
      "epoch: 12, [batch: 2800 / 7000], examples_per_second: 10758.9226, train_label_loss: 0.2438, \n"
     ]
    },
    {
     "name": "stdout",
     "output_type": "stream",
     "text": [
      "epoch: 12, [batch: 3500 / 7000], examples_per_second: 10790.0394, train_label_loss: 0.3747, \n"
     ]
    },
    {
     "name": "stdout",
     "output_type": "stream",
     "text": [
      "epoch: 12, [batch: 4200 / 7000], examples_per_second: 10718.7914, train_label_loss: 0.2530, \n"
     ]
    },
    {
     "name": "stdout",
     "output_type": "stream",
     "text": [
      "epoch: 12, [batch: 4900 / 7000], examples_per_second: 10664.0895, train_label_loss: 0.2982, \n"
     ]
    },
    {
     "name": "stdout",
     "output_type": "stream",
     "text": [
      "epoch: 12, [batch: 5600 / 7000], examples_per_second: 10719.8946, train_label_loss: 0.2972, \n"
     ]
    },
    {
     "name": "stdout",
     "output_type": "stream",
     "text": [
      "epoch: 12, [batch: 6300 / 7000], examples_per_second: 10746.1300, train_label_loss: 0.3887, \n"
     ]
    },
    {
     "name": "stdout",
     "output_type": "stream",
     "text": [
      "=============================================================\n",
      "epoch: 12, source_val_acc_label: 0.7580, source_val_label_loss: 0.7068, target_val_acc_label: 0.5915, target_val_label_loss: 1.6573, \n",
      "=============================================================\n"
     ]
    },
    {
     "name": "stdout",
     "output_type": "stream",
     "text": [
      "epoch: 13, [batch: 1 / 7000], examples_per_second: 11.6154, train_label_loss: 0.2653, \n"
     ]
    },
    {
     "name": "stdout",
     "output_type": "stream",
     "text": [
      "epoch: 13, [batch: 700 / 7000], examples_per_second: 10741.5704, train_label_loss: 0.1598, \n"
     ]
    },
    {
     "name": "stdout",
     "output_type": "stream",
     "text": [
      "epoch: 13, [batch: 1400 / 7000], examples_per_second: 10902.6672, train_label_loss: 0.2514, \n"
     ]
    },
    {
     "name": "stdout",
     "output_type": "stream",
     "text": [
      "epoch: 13, [batch: 2100 / 7000], examples_per_second: 11773.6111, train_label_loss: 0.2504, \n"
     ]
    },
    {
     "name": "stdout",
     "output_type": "stream",
     "text": [
      "epoch: 13, [batch: 2800 / 7000], examples_per_second: 11796.7099, train_label_loss: 0.5171, \n"
     ]
    },
    {
     "name": "stdout",
     "output_type": "stream",
     "text": [
      "epoch: 13, [batch: 3500 / 7000], examples_per_second: 11764.6478, train_label_loss: 0.2714, \n"
     ]
    },
    {
     "name": "stdout",
     "output_type": "stream",
     "text": [
      "epoch: 13, [batch: 4200 / 7000], examples_per_second: 11783.4425, train_label_loss: 0.3193, \n"
     ]
    },
    {
     "name": "stdout",
     "output_type": "stream",
     "text": [
      "epoch: 13, [batch: 4900 / 7000], examples_per_second: 11791.0433, train_label_loss: 0.1903, \n"
     ]
    },
    {
     "name": "stdout",
     "output_type": "stream",
     "text": [
      "epoch: 13, [batch: 5600 / 7000], examples_per_second: 11926.2538, train_label_loss: 0.1976, \n"
     ]
    },
    {
     "name": "stdout",
     "output_type": "stream",
     "text": [
      "epoch: 13, [batch: 6300 / 7000], examples_per_second: 11778.4926, train_label_loss: 0.2696, \n"
     ]
    },
    {
     "name": "stdout",
     "output_type": "stream",
     "text": [
      "=============================================================\n",
      "epoch: 13, source_val_acc_label: 0.7759, source_val_label_loss: 0.6587, target_val_acc_label: 0.6097, target_val_label_loss: 1.6151, \n",
      "=============================================================\n"
     ]
    },
    {
     "name": "stdout",
     "output_type": "stream",
     "text": [
      "New best\n",
      "epoch: 14, [batch: 1 / 7000], examples_per_second: 13.2270, train_label_loss: 0.1527, \n"
     ]
    },
    {
     "name": "stdout",
     "output_type": "stream",
     "text": [
      "epoch: 14, [batch: 700 / 7000], examples_per_second: 11709.2034, train_label_loss: 0.3222, \n"
     ]
    },
    {
     "name": "stdout",
     "output_type": "stream",
     "text": [
      "epoch: 14, [batch: 1400 / 7000], examples_per_second: 10763.6499, train_label_loss: 0.3819, \n"
     ]
    },
    {
     "name": "stdout",
     "output_type": "stream",
     "text": [
      "epoch: 14, [batch: 2100 / 7000], examples_per_second: 10579.3250, train_label_loss: 0.3091, \n"
     ]
    },
    {
     "name": "stdout",
     "output_type": "stream",
     "text": [
      "epoch: 14, [batch: 2800 / 7000], examples_per_second: 10694.0958, train_label_loss: 0.3367, \n"
     ]
    },
    {
     "name": "stdout",
     "output_type": "stream",
     "text": [
      "epoch: 14, [batch: 3500 / 7000], examples_per_second: 11113.4721, train_label_loss: 0.2686, \n"
     ]
    },
    {
     "name": "stdout",
     "output_type": "stream",
     "text": [
      "epoch: 14, [batch: 4200 / 7000], examples_per_second: 11746.2947, train_label_loss: 0.2946, \n"
     ]
    },
    {
     "name": "stdout",
     "output_type": "stream",
     "text": [
      "epoch: 14, [batch: 4900 / 7000], examples_per_second: 11724.8836, train_label_loss: 0.4358, \n"
     ]
    },
    {
     "name": "stdout",
     "output_type": "stream",
     "text": [
      "epoch: 14, [batch: 5600 / 7000], examples_per_second: 11653.4619, train_label_loss: 0.3988, \n"
     ]
    },
    {
     "name": "stdout",
     "output_type": "stream",
     "text": [
      "epoch: 14, [batch: 6300 / 7000], examples_per_second: 11751.4700, train_label_loss: 0.2463, \n"
     ]
    },
    {
     "name": "stdout",
     "output_type": "stream",
     "text": [
      "=============================================================\n",
      "epoch: 14, source_val_acc_label: 0.7678, source_val_label_loss: 0.7003, target_val_acc_label: 0.6096, target_val_label_loss: 1.6113, \n",
      "=============================================================\n"
     ]
    },
    {
     "name": "stdout",
     "output_type": "stream",
     "text": [
      "epoch: 15, [batch: 1 / 7000], examples_per_second: 13.2433, train_label_loss: 0.1638, \n"
     ]
    },
    {
     "name": "stdout",
     "output_type": "stream",
     "text": [
      "epoch: 15, [batch: 700 / 7000], examples_per_second: 11763.2264, train_label_loss: 0.2350, \n"
     ]
    },
    {
     "name": "stdout",
     "output_type": "stream",
     "text": [
      "epoch: 15, [batch: 1400 / 7000], examples_per_second: 11769.3800, train_label_loss: 0.3514, \n"
     ]
    },
    {
     "name": "stdout",
     "output_type": "stream",
     "text": [
      "epoch: 15, [batch: 2100 / 7000], examples_per_second: 12273.3690, train_label_loss: 0.1437, \n"
     ]
    },
    {
     "name": "stdout",
     "output_type": "stream",
     "text": [
      "epoch: 15, [batch: 2800 / 7000], examples_per_second: 11026.6013, train_label_loss: 0.2306, \n"
     ]
    },
    {
     "name": "stdout",
     "output_type": "stream",
     "text": [
      "epoch: 15, [batch: 3500 / 7000], examples_per_second: 10734.5693, train_label_loss: 0.3686, \n"
     ]
    },
    {
     "name": "stdout",
     "output_type": "stream",
     "text": [
      "epoch: 15, [batch: 4200 / 7000], examples_per_second: 10738.0825, train_label_loss: 0.2157, \n"
     ]
    },
    {
     "name": "stdout",
     "output_type": "stream",
     "text": [
      "epoch: 15, [batch: 4900 / 7000], examples_per_second: 10721.4500, train_label_loss: 0.2265, \n"
     ]
    },
    {
     "name": "stdout",
     "output_type": "stream",
     "text": [
      "epoch: 15, [batch: 5600 / 7000], examples_per_second: 10696.3641, train_label_loss: 0.2552, \n"
     ]
    },
    {
     "name": "stdout",
     "output_type": "stream",
     "text": [
      "epoch: 15, [batch: 6300 / 7000], examples_per_second: 10718.1161, train_label_loss: 0.2979, \n"
     ]
    },
    {
     "name": "stdout",
     "output_type": "stream",
     "text": [
      "=============================================================\n",
      "epoch: 15, source_val_acc_label: 0.7686, source_val_label_loss: 0.7009, target_val_acc_label: 0.6040, target_val_label_loss: 1.6803, \n",
      "=============================================================\n"
     ]
    },
    {
     "name": "stdout",
     "output_type": "stream",
     "text": [
      "epoch: 16, [batch: 1 / 7000], examples_per_second: 11.7048, train_label_loss: 0.3488, \n"
     ]
    },
    {
     "name": "stdout",
     "output_type": "stream",
     "text": [
      "epoch: 16, [batch: 700 / 7000], examples_per_second: 10713.1214, train_label_loss: 0.1752, \n"
     ]
    },
    {
     "name": "stdout",
     "output_type": "stream",
     "text": [
      "epoch: 16, [batch: 1400 / 7000], examples_per_second: 10733.2933, train_label_loss: 0.1891, \n"
     ]
    },
    {
     "name": "stdout",
     "output_type": "stream",
     "text": [
      "epoch: 16, [batch: 2100 / 7000], examples_per_second: 10757.7630, train_label_loss: 0.1933, \n"
     ]
    },
    {
     "name": "stdout",
     "output_type": "stream",
     "text": [
      "epoch: 16, [batch: 2800 / 7000], examples_per_second: 10752.8843, train_label_loss: 0.2438, \n"
     ]
    },
    {
     "name": "stdout",
     "output_type": "stream",
     "text": [
      "epoch: 16, [batch: 3500 / 7000], examples_per_second: 10595.5239, train_label_loss: 0.1463, \n"
     ]
    },
    {
     "name": "stdout",
     "output_type": "stream",
     "text": [
      "epoch: 16, [batch: 4200 / 7000], examples_per_second: 10738.7904, train_label_loss: 0.1288, \n"
     ]
    },
    {
     "name": "stdout",
     "output_type": "stream",
     "text": [
      "epoch: 16, [batch: 4900 / 7000], examples_per_second: 10710.1407, train_label_loss: 0.1743, \n"
     ]
    },
    {
     "name": "stdout",
     "output_type": "stream",
     "text": [
      "epoch: 16, [batch: 5600 / 7000], examples_per_second: 10732.1714, train_label_loss: 0.3658, \n"
     ]
    },
    {
     "name": "stdout",
     "output_type": "stream",
     "text": [
      "epoch: 16, [batch: 6300 / 7000], examples_per_second: 10709.0014, train_label_loss: 0.1945, \n"
     ]
    },
    {
     "name": "stdout",
     "output_type": "stream",
     "text": [
      "=============================================================\n",
      "epoch: 16, source_val_acc_label: 0.7692, source_val_label_loss: 0.7274, target_val_acc_label: 0.5935, target_val_label_loss: 1.7808, \n",
      "=============================================================\n"
     ]
    },
    {
     "name": "stdout",
     "output_type": "stream",
     "text": [
      "epoch: 17, [batch: 1 / 7000], examples_per_second: 11.5847, train_label_loss: 0.2035, \n"
     ]
    },
    {
     "name": "stdout",
     "output_type": "stream",
     "text": [
      "epoch: 17, [batch: 700 / 7000], examples_per_second: 10618.6726, train_label_loss: 0.1749, \n"
     ]
    },
    {
     "name": "stdout",
     "output_type": "stream",
     "text": [
      "epoch: 17, [batch: 1400 / 7000], examples_per_second: 10727.8349, train_label_loss: 0.2002, \n"
     ]
    },
    {
     "name": "stdout",
     "output_type": "stream",
     "text": [
      "epoch: 17, [batch: 2100 / 7000], examples_per_second: 11451.7660, train_label_loss: 0.1934, \n"
     ]
    },
    {
     "name": "stdout",
     "output_type": "stream",
     "text": [
      "epoch: 17, [batch: 2800 / 7000], examples_per_second: 11744.8766, train_label_loss: 0.1316, \n"
     ]
    },
    {
     "name": "stdout",
     "output_type": "stream",
     "text": [
      "epoch: 17, [batch: 3500 / 7000], examples_per_second: 11787.2500, train_label_loss: 0.2208, \n"
     ]
    },
    {
     "name": "stdout",
     "output_type": "stream",
     "text": [
      "epoch: 17, [batch: 4200 / 7000], examples_per_second: 11771.6804, train_label_loss: 0.1201, \n"
     ]
    },
    {
     "name": "stdout",
     "output_type": "stream",
     "text": [
      "epoch: 17, [batch: 4900 / 7000], examples_per_second: 11759.5683, train_label_loss: 0.2574, \n"
     ]
    },
    {
     "name": "stdout",
     "output_type": "stream",
     "text": [
      "epoch: 17, [batch: 5600 / 7000], examples_per_second: 11881.2176, train_label_loss: 0.2283, \n"
     ]
    },
    {
     "name": "stdout",
     "output_type": "stream",
     "text": [
      "epoch: 17, [batch: 6300 / 7000], examples_per_second: 11804.9889, train_label_loss: 0.2656, \n"
     ]
    },
    {
     "name": "stdout",
     "output_type": "stream",
     "text": [
      "=============================================================\n",
      "epoch: 17, source_val_acc_label: 0.7663, source_val_label_loss: 0.7341, target_val_acc_label: 0.5875, target_val_label_loss: 1.8443, \n",
      "=============================================================\n"
     ]
    },
    {
     "name": "stdout",
     "output_type": "stream",
     "text": [
      "Patience (3) exhausted\n"
     ]
    }
   ],
   "source": [
    "jig = Vanilla_Train_Eval_Test_Jig(\n",
    "    model=model,\n",
    "    path_to_best_model=p.BEST_MODEL_PATH,\n",
    "    device=p.device,\n",
    "    label_loss_object=torch.nn.NLLLoss(),\n",
    ")\n",
    "\n",
    "jig.train(\n",
    "    train_iterable=datasets.source.processed.train,\n",
    "    source_val_iterable=datasets.source.processed.val,\n",
    "    target_val_iterable=datasets.target.processed.val,\n",
    "    patience=p.patience,\n",
    "    num_epochs=p.n_epoch,\n",
    "    num_logs_per_epoch=p.NUM_LOGS_PER_EPOCH,\n",
    "    criteria_for_best=p.criteria_for_best\n",
    ")"
   ]
  },
  {
   "cell_type": "code",
   "execution_count": 14,
   "id": "4bc2ac17",
   "metadata": {
    "execution": {
     "iopub.execute_input": "2022-03-28T01:49:31.535954Z",
     "iopub.status.busy": "2022-03-28T01:49:31.535381Z",
     "iopub.status.idle": "2022-03-28T01:49:31.538507Z",
     "shell.execute_reply": "2022-03-28T01:49:31.537957Z"
    },
    "papermill": {
     "duration": 0.076639,
     "end_time": "2022-03-28T01:49:31.538618",
     "exception": false,
     "start_time": "2022-03-28T01:49:31.461979",
     "status": "completed"
    },
    "tags": []
   },
   "outputs": [],
   "source": [
    "total_experiment_time_secs = time.time() - start_time_secs"
   ]
  },
  {
   "cell_type": "code",
   "execution_count": 15,
   "id": "cae88f23",
   "metadata": {
    "execution": {
     "iopub.execute_input": "2022-03-28T01:49:31.678850Z",
     "iopub.status.busy": "2022-03-28T01:49:31.676058Z",
     "iopub.status.idle": "2022-03-28T01:51:21.459321Z",
     "shell.execute_reply": "2022-03-28T01:51:21.458938Z"
    },
    "papermill": {
     "duration": 109.853201,
     "end_time": "2022-03-28T01:51:21.459419",
     "exception": false,
     "start_time": "2022-03-28T01:49:31.606218",
     "status": "completed"
    },
    "tags": []
   },
   "outputs": [],
   "source": [
    "source_test_label_accuracy, source_test_label_loss = jig.test(datasets.source.processed.test)\n",
    "target_test_label_accuracy, target_test_label_loss = jig.test(datasets.target.processed.test)\n",
    "\n",
    "source_val_label_accuracy, source_val_label_loss = jig.test(datasets.source.processed.val)\n",
    "target_val_label_accuracy, target_val_label_loss = jig.test(datasets.target.processed.val)\n",
    "\n",
    "history = jig.get_history()\n",
    "\n",
    "total_epochs_trained = len(history[\"epoch_indices\"])\n",
    "\n",
    "val_dl = wrap_in_dataloader(p, Sequence_Aggregator((datasets.source.original.val, datasets.target.original.val)))\n",
    "\n",
    "confusion = confusion_by_domain_over_dataloader(model, p.device, val_dl, forward_uses_domain=False)\n",
    "per_domain_accuracy = per_domain_accuracy_from_confusion(confusion)\n",
    "\n",
    "# Add a key to per_domain_accuracy for if it was a source domain\n",
    "for domain, accuracy in per_domain_accuracy.items():\n",
    "    per_domain_accuracy[domain] = {\n",
    "        \"accuracy\": accuracy,\n",
    "        \"source?\": domain in p.domains_source\n",
    "    }\n",
    "\n",
    "# Do an independent accuracy assesment JUST TO BE SURE!\n",
    "# _source_test_label_accuracy = independent_accuracy_assesment(model, datasets.source.processed.test, p.device)\n",
    "# _target_test_label_accuracy = independent_accuracy_assesment(model, datasets.target.processed.test, p.device)\n",
    "# _source_val_label_accuracy = independent_accuracy_assesment(model, datasets.source.processed.val, p.device)\n",
    "# _target_val_label_accuracy = independent_accuracy_assesment(model, datasets.target.processed.val, p.device)\n",
    "\n",
    "# assert(_source_test_label_accuracy == source_test_label_accuracy)\n",
    "# assert(_target_test_label_accuracy == target_test_label_accuracy)\n",
    "# assert(_source_val_label_accuracy == source_val_label_accuracy)\n",
    "# assert(_target_val_label_accuracy == target_val_label_accuracy)\n",
    "\n",
    "###################################\n",
    "# Write out the results\n",
    "###################################\n",
    "\n",
    "experiment = {\n",
    "    \"experiment_name\": p.experiment_name,\n",
    "    \"parameters\": p,\n",
    "    \"results\": {\n",
    "        \"source_test_label_accuracy\": source_test_label_accuracy,\n",
    "        \"source_test_label_loss\": source_test_label_loss,\n",
    "        \"target_test_label_accuracy\": target_test_label_accuracy,\n",
    "        \"target_test_label_loss\": target_test_label_loss,\n",
    "        \"source_val_label_accuracy\": source_val_label_accuracy,\n",
    "        \"source_val_label_loss\": source_val_label_loss,\n",
    "        \"target_val_label_accuracy\": target_val_label_accuracy,\n",
    "        \"target_val_label_loss\": target_val_label_loss,\n",
    "        \"total_epochs_trained\": total_epochs_trained,\n",
    "        \"total_experiment_time_secs\": total_experiment_time_secs,\n",
    "        \"confusion\": confusion,\n",
    "        \"per_domain_accuracy\": per_domain_accuracy,\n",
    "    },\n",
    "    \"history\": history,\n",
    "    \"dataset_metrics\": get_dataset_metrics(datasets, \"cnn\"),\n",
    "}"
   ]
  },
  {
   "cell_type": "code",
   "execution_count": 16,
   "id": "74c318cf",
   "metadata": {
    "execution": {
     "iopub.execute_input": "2022-03-28T01:51:21.627240Z",
     "iopub.status.busy": "2022-03-28T01:51:21.626036Z",
     "iopub.status.idle": "2022-03-28T01:51:21.855180Z",
     "shell.execute_reply": "2022-03-28T01:51:21.855903Z"
    },
    "papermill": {
     "duration": 0.318417,
     "end_time": "2022-03-28T01:51:21.856097",
     "exception": false,
     "start_time": "2022-03-28T01:51:21.537680",
     "status": "completed"
    },
    "tags": []
   },
   "outputs": [
    {
     "data": {
      "text/plain": [
       "<AxesSubplot:title={'center':'Source Train Label Loss vs Source Val Label Loss'}, xlabel='Epoch'>"
      ]
     },
     "execution_count": 16,
     "metadata": {},
     "output_type": "execute_result"
    },
    {
     "data": {
      "image/png": "[encoded data removed]",
      "text/plain": [
       "<Figure size 1080x504 with 1 Axes>"
      ]
     },
     "metadata": {
      "needs_background": "light"
     },
     "output_type": "display_data"
    }
   ],
   "source": [
    "get_loss_curve(experiment)"
   ]
  },
  {
   "cell_type": "code",
   "execution_count": 17,
   "id": "59376601",
   "metadata": {
    "execution": {
     "iopub.execute_input": "2022-03-28T01:51:22.021761Z",
     "iopub.status.busy": "2022-03-28T01:51:22.020942Z",
     "iopub.status.idle": "2022-03-28T01:51:22.355085Z",
     "shell.execute_reply": "2022-03-28T01:51:22.355807Z"
    },
    "papermill": {
     "duration": 0.427951,
     "end_time": "2022-03-28T01:51:22.356005",
     "exception": false,
     "start_time": "2022-03-28T01:51:21.928054",
     "status": "completed"
    },
    "tags": []
   },
   "outputs": [
    {
     "data": {
      "text/plain": [
       "<AxesSubplot:title={'center':'Results'}>"
      ]
     },
     "execution_count": 17,
     "metadata": {},
     "output_type": "execute_result"
    },
    {
     "data": {
      "image/png": "[encoded data removed]",
      "text/plain": [
       "<Figure size 1080x504 with 1 Axes>"
      ]
     },
     "metadata": {
      "needs_background": "light"
     },
     "output_type": "display_data"
    }
   ],
   "source": [
    "get_results_table(experiment)"
   ]
  },
  {
   "cell_type": "code",
   "execution_count": 18,
   "id": "e80c5c98",
   "metadata": {
    "execution": {
     "iopub.execute_input": "2022-03-28T01:51:22.525083Z",
     "iopub.status.busy": "2022-03-28T01:51:22.524271Z",
     "iopub.status.idle": "2022-03-28T01:51:22.683817Z",
     "shell.execute_reply": "2022-03-28T01:51:22.684492Z"
    },
    "papermill": {
     "duration": 0.253975,
     "end_time": "2022-03-28T01:51:22.684675",
     "exception": false,
     "start_time": "2022-03-28T01:51:22.430700",
     "status": "completed"
    },
    "tags": []
   },
   "outputs": [
    {
     "data": {
      "text/plain": [
       "<AxesSubplot:title={'center':'Per Domain Accuracy'}, xlabel='domain'>"
      ]
     },
     "execution_count": 18,
     "metadata": {},
     "output_type": "execute_result"
    },
    {
     "data": {
      "image/png": "[encoded data removed]",
      "text/plain": [
       "<Figure size 1080x504 with 1 Axes>"
      ]
     },
     "metadata": {
      "needs_background": "light"
     },
     "output_type": "display_data"
    }
   ],
   "source": [
    "get_domain_accuracies(experiment)"
   ]
  },
  {
   "cell_type": "code",
   "execution_count": 19,
   "id": "086fdd10",
   "metadata": {
    "execution": {
     "iopub.execute_input": "2022-03-28T01:51:22.833079Z",
     "iopub.status.busy": "2022-03-28T01:51:22.832709Z",
     "iopub.status.idle": "2022-03-28T01:51:22.836756Z",
     "shell.execute_reply": "2022-03-28T01:51:22.837520Z"
    },
    "papermill": {
     "duration": 0.080186,
     "end_time": "2022-03-28T01:51:22.837702",
     "exception": false,
     "start_time": "2022-03-28T01:51:22.757516",
     "status": "completed"
    },
    "tags": []
   },
   "outputs": [
    {
     "name": "stdout",
     "output_type": "stream",
     "text": [
      "Source Test Label Accuracy: 0.77515625 Target Test Label Accuracy: 0.611140625\n",
      "Source Val Label Accuracy: 0.7759375 Target Val Label Accuracy: 0.60965625\n"
     ]
    }
   ],
   "source": [
    "print(\"Source Test Label Accuracy:\", experiment[\"results\"][\"source_test_label_accuracy\"], \"Target Test Label Accuracy:\", experiment[\"results\"][\"target_test_label_accuracy\"])\n",
    "print(\"Source Val Label Accuracy:\", experiment[\"results\"][\"source_val_label_accuracy\"], \"Target Val Label Accuracy:\", experiment[\"results\"][\"target_val_label_accuracy\"])"
   ]
  },
  {
   "cell_type": "code",
   "execution_count": 20,
   "id": "9f450536",
   "metadata": {
    "execution": {
     "iopub.execute_input": "2022-03-28T01:51:22.991291Z",
     "iopub.status.busy": "2022-03-28T01:51:22.990410Z",
     "iopub.status.idle": "2022-03-28T01:51:22.993936Z",
     "shell.execute_reply": "2022-03-28T01:51:22.993587Z"
    },
    "papermill": {
     "duration": 0.08084,
     "end_time": "2022-03-28T01:51:22.994042",
     "exception": false,
     "start_time": "2022-03-28T01:51:22.913202",
     "status": "completed"
    },
    "tags": [
     "experiment_json"
    ]
   },
   "outputs": [
    {
     "data": {
      "text/plain": [
       "'{\"experiment_name\": \"cnn_3:oracle.run1-oracle.run2\", \"parameters\": {\"experiment_name\": \"cnn_3:oracle.run1-oracle.run2\", \"domains_source\": [8, 32, 50, 14, 20, 26, 38, 44], \"domains_target\": [8, 32, 50, 14, 20, 26, 38, 44], \"labels\": [\"3123D52\", \"3123D65\", \"3123D79\", \"3123D80\", \"3123D54\", \"3123D70\", \"3123D7B\", \"3123D89\", \"3123D58\", \"3123D76\", \"3123D7D\", \"3123EFE\", \"3123D64\", \"3123D78\", \"3123D7E\", \"3124E4A\"], \"pickle_name_source\": \"oracle.Run1_10kExamples_stratified_ds.2022A.pkl\", \"pickle_name_target\": \"oracle.Run2_10kExamples_stratified_ds.2022A.pkl\", \"device\": \"cuda\", \"lr\": 0.0001, \"batch_size\": 128, \"normalize_source\": false, \"normalize_target\": false, \"num_examples_per_domain_per_label_source\": -1, \"num_examples_per_domain_per_label_target\": -1, \"torch_default_dtype\": \"torch.float32\", \"n_epoch\": 50, \"patience\": 3, \"criteria_for_best\": \"target_accuracy\", \"x_net\": [{\"class\": \"nnReshape\", \"kargs\": {\"shape\": [-1, 1, 2, 256]}}, {\"class\": \"Conv2d\", \"kargs\": {\"in_channels\": 1, \"out_channels\": 256, \"kernel_size\": [1, 7], \"bias\": false, \"padding\": [0, 3]}}, {\"class\": \"ReLU\", \"kargs\": {\"inplace\": true}}, {\"class\": \"BatchNorm2d\", \"kargs\": {\"num_features\": 256}}, {\"class\": \"Conv2d\", \"kargs\": {\"in_channels\": 256, \"out_channels\": 80, \"kernel_size\": [2, 7], \"bias\": true, \"padding\": [0, 3]}}, {\"class\": \"ReLU\", \"kargs\": {\"inplace\": true}}, {\"class\": \"BatchNorm2d\", \"kargs\": {\"num_features\": 80}}, {\"class\": \"Flatten\", \"kargs\": {}}, {\"class\": \"Linear\", \"kargs\": {\"in_features\": 20480, \"out_features\": 256}}, {\"class\": \"ReLU\", \"kargs\": {\"inplace\": true}}, {\"class\": \"BatchNorm1d\", \"kargs\": {\"num_features\": 256}}, {\"class\": \"Linear\", \"kargs\": {\"in_features\": 256, \"out_features\": 16}}], \"NUM_LOGS_PER_EPOCH\": 10, \"BEST_MODEL_PATH\": \"./best_model.pth\", \"dataset_seed\": 7, \"seed\": 7}, \"results\": {\"source_test_label_accuracy\": 0.77515625, \"source_test_label_loss\": 0.6623593191703161, \"target_test_label_accuracy\": 0.611140625, \"target_test_label_loss\": 1.6100780389308929, \"source_val_label_accuracy\": 0.7759375, \"source_val_label_loss\": 0.6586876285076141, \"target_val_label_accuracy\": 0.60965625, \"target_val_label_loss\": 1.615083841641744, \"total_epochs_trained\": 17, \"total_experiment_time_secs\": 1625.7901310920715, \"confusion\": {\"14\": {\"6\": {\"13\": 948, \"6\": 1715, \"14\": 89, \"2\": 151, \"3\": 95, \"7\": 2}, \"3\": {\"3\": 2884, \"0\": 44, \"14\": 16, \"7\": 2, \"2\": 38, \"13\": 3, \"5\": 12, \"6\": 1}, \"0\": {\"0\": 1757, \"2\": 147, \"14\": 45, \"3\": 322, \"11\": 193, \"8\": 114, \"10\": 278, \"9\": 26, \"13\": 48, \"5\": 12, \"4\": 55, \"7\": 3}, \"10\": {\"4\": 289, \"10\": 1626, \"3\": 960, \"13\": 11, \"2\": 50, \"8\": 22, \"0\": 15, \"14\": 9, \"9\": 9, \"7\": 1, \"12\": 3, \"15\": 3, \"11\": 2}, \"4\": {\"4\": 2703, \"5\": 122, \"2\": 124, \"1\": 22, \"11\": 18, \"8\": 1, \"10\": 8, \"13\": 1, \"7\": 1}, \"15\": {\"15\": 2982, \"13\": 12, \"11\": 6}, \"11\": {\"7\": 523, \"11\": 2204, \"13\": 181, \"6\": 46, \"4\": 10, \"12\": 9, \"2\": 15, \"15\": 12}, \"12\": {\"12\": 2210, \"11\": 58, \"0\": 167, \"9\": 76, \"2\": 96, \"15\": 59, \"13\": 54, \"14\": 16, \"6\": 80, \"3\": 100, \"5\": 15, \"4\": 3, \"7\": 29, \"8\": 34, \"1\": 3}, \"9\": {\"9\": 2873, \"11\": 79, \"5\": 1, \"13\": 7, \"0\": 15, \"1\": 8, \"8\": 11, \"12\": 4, \"15\": 2}, \"7\": {\"7\": 2942, \"5\": 54, \"2\": 4}, \"1\": {\"1\": 2987, \"2\": 4, \"4\": 3, \"11\": 5, \"7\": 1}, \"8\": {\"8\": 2991, \"1\": 1, \"11\": 8}, \"13\": {\"2\": 182, \"6\": 1225, \"13\": 1252, \"14\": 219, \"3\": 52, \"15\": 49, \"4\": 11, \"10\": 10}, \"5\": {\"5\": 1917, \"2\": 369, \"4\": 548, \"7\": 69, \"3\": 62, \"8\": 10, \"13\": 3, \"14\": 11, \"11\": 9, \"6\": 2}, \"14\": {\"14\": 1770, \"2\": 642, \"13\": 363, \"6\": 157, \"3\": 39, \"4\": 19, \"7\": 1, \"0\": 2, \"5\": 5, \"10\": 2}, \"2\": {\"2\": 2055, \"4\": 139, \"14\": 318, \"6\": 94, \"5\": 223, \"3\": 95, \"13\": 61, \"10\": 7, \"7\": 4, \"0\": 4}}, \"50\": {\"3\": {\"3\": 3000}, \"1\": {\"1\": 2466, \"15\": 366, \"13\": 111, \"8\": 14, \"10\": 2, \"11\": 11, \"5\": 15, \"6\": 8, \"0\": 6, \"12\": 1}, \"5\": {\"5\": 2367, \"2\": 128, \"7\": 126, \"8\": 33, \"6\": 212, \"4\": 36, \"15\": 48, \"13\": 28, \"14\": 20, \"11\": 1, \"1\": 1}, \"12\": {\"12\": 2828, \"9\": 140, \"11\": 25, \"15\": 2, \"5\": 4, \"0\": 1}, \"15\": {\"11\": 134, \"15\": 1075, \"6\": 427, \"4\": 448, \"14\": 301, \"5\": 350, \"7\": 11, \"8\": 228, \"9\": 23, \"0\": 3}, \"10\": {\"13\": 69, \"10\": 2745, \"8\": 20, \"0\": 145, \"12\": 12, \"15\": 5, \"1\": 4}, \"9\": {\"9\": 2662, \"12\": 143, \"5\": 20, \"7\": 23, \"11\": 147, \"4\": 1, \"14\": 3, \"15\": 1}, \"2\": {\"11\": 6, \"0\": 166, \"2\": 2700, \"1\": 34, \"9\": 85, \"12\": 7, \"14\": 2}, \"7\": {\"7\": 1975, \"5\": 423, \"14\": 127, \"2\": 439, \"4\": 12, \"13\": 19, \"6\": 4, \"3\": 1}, \"11\": {\"9\": 43, \"11\": 2792, \"5\": 57, \"8\": 57, \"15\": 8, \"0\": 8, \"12\": 22, \"1\": 11, \"4\": 2}, \"4\": {\"5\": 1359, \"14\": 31, \"7\": 317, \"4\": 969, \"15\": 8, \"6\": 169, \"0\": 36, \"8\": 29, \"13\": 50, \"2\": 32}, \"0\": {\"0\": 2453, \"10\": 187, \"2\": 236, \"12\": 29, \"1\": 91, \"8\": 2, \"15\": 2}, \"8\": {\"8\": 2849, \"3\": 46, \"1\": 64, \"10\": 41}, \"14\": {\"14\": 2302, \"9\": 596, \"2\": 64, \"6\": 38}, \"13\": {\"13\": 2832, \"12\": 7, \"15\": 45, \"6\": 13, \"8\": 32, \"1\": 3, \"5\": 18, \"0\": 15, \"10\": 35}, \"6\": {\"5\": 822, \"6\": 2057, \"15\": 57, \"14\": 47, \"8\": 8, \"4\": 7, \"13\": 1, \"12\": 1}}, \"8\": {\"13\": {\"10\": 665, \"1\": 563, \"13\": 1456, \"15\": 32, \"6\": 56, \"7\": 31, \"5\": 175, \"4\": 16, \"12\": 4, \"11\": 2}, \"0\": {\"0\": 2971, \"14\": 28, \"9\": 1}, \"11\": {\"8\": 1143, \"11\": 1296, \"4\": 55, \"1\": 254, \"10\": 180, \"12\": 29, \"6\": 12, \"14\": 23, \"5\": 8}, \"10\": {\"13\": 1266, \"5\": 111, \"10\": 1571, \"1\": 35, \"6\": 9, \"7\": 1, \"15\": 2, \"4\": 4, \"14\": 1}, \"9\": {\"9\": 2702, \"13\": 102, \"10\": 19, \"5\": 163, \"12\": 14}, \"2\": {\"15\": 775, \"5\": 292, \"2\": 516, \"9\": 76, \"1\": 655, \"0\": 95, \"3\": 444, \"12\": 82, \"10\": 26, \"8\": 14, \"4\": 4, \"13\": 10, \"7\": 11}, \"4\": {\"13\": 236, \"4\": 897, \"6\": 554, \"7\": 1034, \"14\": 186, \"10\": 39, \"11\": 35, \"1\": 7, \"0\": 3, \"8\": 7, \"12\": 1, \"2\": 1}, \"5\": {\"10\": 1320, \"5\": 1405, \"1\": 114, \"13\": 156, \"4\": 2, \"14\": 2, \"11\": 1}, \"15\": {\"15\": 2003, \"3\": 166, \"12\": 740, \"5\": 41, \"8\": 14, \"2\": 21, \"0\": 3, \"1\": 10, \"4\": 2}, \"7\": {\"6\": 585, \"7\": 2056, \"4\": 77, \"13\": 259, \"11\": 5, \"2\": 4, \"10\": 3, \"12\": 8, \"15\": 2, \"8\": 1}, \"6\": {\"7\": 1176, \"13\": 92, \"6\": 882, \"4\": 476, \"8\": 118, \"11\": 76, \"0\": 86, \"14\": 80, \"10\": 11, \"1\": 2, \"12\": 1}, \"12\": {\"9\": 7, \"4\": 364, \"12\": 2086, \"15\": 312, \"5\": 10, \"2\": 9, \"10\": 40, \"3\": 30, \"7\": 4, \"14\": 45, \"8\": 79, \"6\": 11, \"1\": 3}, \"3\": {\"3\": 2745, \"2\": 64, \"10\": 111, \"0\": 47, \"4\": 27, \"8\": 3, \"12\": 2, \"15\": 1}, \"14\": {\"4\": 983, \"7\": 115, \"14\": 1648, \"13\": 50, \"0\": 68, \"6\": 72, \"11\": 31, \"1\": 8, \"10\": 16, \"8\": 9}, \"1\": {\"1\": 2127, \"10\": 132, \"5\": 116, \"11\": 411, \"14\": 101, \"6\": 25, \"13\": 20, \"7\": 1, \"4\": 65, \"8\": 2}, \"8\": {\"8\": 2949, \"11\": 23, \"6\": 18, \"4\": 4, \"7\": 4, \"10\": 2}}, \"26\": {\"1\": {\"10\": 226, \"1\": 2471, \"14\": 258, \"0\": 35, \"15\": 5, \"6\": 5}, \"8\": {\"8\": 1521, \"2\": 240, \"0\": 421, \"7\": 362, \"6\": 10, \"9\": 266, \"13\": 9, \"10\": 124, \"15\": 5, \"14\": 27, \"4\": 8, \"3\": 6, \"5\": 1}, \"14\": {\"14\": 1116, \"0\": 536, \"1\": 398, \"10\": 878, \"8\": 23, \"6\": 31, \"7\": 3, \"15\": 8, \"2\": 6, \"5\": 1}, \"7\": {\"8\": 568, \"7\": 1227, \"0\": 84, \"3\": 489, \"13\": 27, \"2\": 439, \"9\": 142, \"4\": 10, \"10\": 11, \"5\": 2, \"14\": 1}, \"10\": {\"14\": 378, \"10\": 1334, \"0\": 840, \"5\": 16, \"6\": 182, \"8\": 97, \"1\": 64, \"7\": 20, \"12\": 12, \"15\": 38, \"9\": 7, \"2\": 12}, \"15\": {\"5\": 313, \"0\": 127, \"3\": 24, \"2\": 768, \"15\": 1187, \"7\": 236, \"6\": 155, \"10\": 44, \"14\": 37, \"8\": 66, \"9\": 41, \"13\": 2}, \"4\": {\"4\": 2456, \"3\": 425, \"14\": 29, \"0\": 29, \"8\": 24, \"7\": 18, \"10\": 8, \"13\": 6, \"2\": 2, \"9\": 3}, \"9\": {\"9\": 2116, \"13\": 179, \"8\": 406, \"2\": 131, \"7\": 35, \"0\": 86, \"6\": 18, \"5\": 2, \"15\": 23, \"14\": 1, \"10\": 2, \"3\": 1}, \"5\": {\"5\": 2294, \"15\": 493, \"2\": 30, \"10\": 36, \"6\": 127, \"1\": 10, \"9\": 4, \"8\": 1, \"11\": 3, \"0\": 1, \"14\": 1}, \"3\": {\"3\": 2158, \"7\": 535, \"2\": 219, \"0\": 15, \"13\": 14, \"8\": 36, \"4\": 8, \"9\": 14, \"10\": 1}, \"11\": {\"11\": 2709, \"6\": 246, \"12\": 27, \"2\": 16, \"10\": 2}, \"6\": {\"6\": 1853, \"15\": 613, \"10\": 346, \"5\": 109, \"14\": 26, \"0\": 23, \"9\": 20, \"12\": 8, \"8\": 1, \"1\": 1}, \"12\": {\"12\": 2997, \"9\": 1, \"10\": 1, \"11\": 1}, \"13\": {\"13\": 2249, \"9\": 513, \"2\": 77, \"8\": 121, \"0\": 17, \"15\": 8, \"3\": 5, \"6\": 2, \"7\": 2, \"5\": 6}, \"0\": {\"0\": 1495, \"10\": 718, \"14\": 425, \"1\": 32, \"8\": 185, \"15\": 13, \"2\": 22, \"7\": 51, \"6\": 56, \"5\": 2, \"9\": 1}, \"2\": {\"2\": 1423, \"8\": 390, \"3\": 219, \"0\": 61, \"15\": 45, \"7\": 587, \"13\": 93, \"5\": 48, \"9\": 109, \"6\": 2, \"10\": 16, \"14\": 7}}, \"38\": {\"3\": {\"0\": 721, \"3\": 2013, \"9\": 41, \"13\": 180, \"11\": 14, \"10\": 29, \"4\": 2}, \"2\": {\"2\": 1871, \"7\": 123, \"5\": 922, \"14\": 52, \"13\": 18, \"6\": 3, \"8\": 1, \"3\": 10}, \"4\": {\"4\": 2998, \"10\": 2}, \"10\": {\"10\": 1624, \"0\": 854, \"13\": 432, \"4\": 70, \"3\": 1, \"11\": 14, \"7\": 5}, \"7\": {\"7\": 2350, \"4\": 408, \"5\": 95, \"8\": 76, \"0\": 42, \"9\": 21, \"15\": 6, \"13\": 1, \"6\": 1}, \"12\": {\"12\": 2983, \"13\": 9, \"5\": 2, \"6\": 6}, \"11\": {\"11\": 3000}, \"9\": {\"9\": 2701, \"12\": 214, \"11\": 50, \"14\": 11, \"5\": 21, \"0\": 2, \"15\": 1}, \"6\": {\"6\": 2723, \"2\": 34, \"9\": 76, \"0\": 19, \"1\": 95, \"8\": 1, \"14\": 41, \"4\": 3, \"11\": 5, \"5\": 3}, \"1\": {\"1\": 2506, \"0\": 168, \"2\": 60, \"15\": 191, \"9\": 43, \"11\": 4, \"12\": 3, \"6\": 19, \"14\": 3, \"5\": 3}, \"8\": {\"5\": 1288, \"8\": 801, \"15\": 376, \"4\": 168, \"9\": 10, \"1\": 24, \"7\": 60, \"11\": 106, \"6\": 46, \"14\": 116, \"13\": 1, \"0\": 4}, \"0\": {\"0\": 1154, \"9\": 506, \"7\": 814, \"4\": 369, \"13\": 102, \"14\": 6, \"11\": 5, \"15\": 2, \"10\": 27, \"3\": 7, \"5\": 4, \"8\": 2, \"6\": 2}, \"15\": {\"1\": 1563, \"15\": 1076, \"13\": 106, \"5\": 127, \"8\": 39, \"6\": 26, \"9\": 6, \"11\": 35, \"0\": 13, \"10\": 7, \"12\": 2}, \"14\": {\"14\": 1510, \"5\": 866, \"4\": 158, \"7\": 260, \"2\": 119, \"3\": 31, \"6\": 20, \"13\": 23, \"12\": 9, \"10\": 3, \"8\": 1}, \"5\": {\"11\": 288, \"8\": 584, \"14\": 38, \"5\": 1679, \"6\": 19, \"9\": 72, \"7\": 43, \"15\": 214, \"4\": 26, \"0\": 9, \"1\": 27, \"12\": 1}, \"13\": {\"13\": 2404, \"0\": 227, \"7\": 27, \"3\": 243, \"10\": 65, \"5\": 2, \"4\": 24, \"2\": 6, \"11\": 1, \"14\": 1}}, \"32\": {\"2\": {\"2\": 1734, \"0\": 276, \"7\": 482, \"14\": 87, \"5\": 68, \"4\": 219, \"12\": 58, \"1\": 2, \"3\": 45, \"11\": 11, \"6\": 16, \"13\": 1, \"8\": 1}, \"8\": {\"8\": 2442, \"1\": 52, \"3\": 102, \"5\": 119, \"0\": 228, \"7\": 6, \"12\": 20, \"2\": 18, \"14\": 7, \"15\": 4, \"6\": 1, \"13\": 1}, \"14\": {\"2\": 142, \"14\": 930, \"6\": 337, \"7\": 369, \"5\": 89, \"0\": 979, \"3\": 45, \"1\": 33, \"8\": 10, \"11\": 20, \"12\": 32, \"9\": 11, \"13\": 1, \"4\": 2}, \"4\": {\"4\": 1562, \"3\": 632, \"13\": 493, \"11\": 10, \"2\": 230, \"8\": 36, \"14\": 15, \"6\": 9, \"0\": 2, \"5\": 9, \"12\": 2}, \"0\": {\"14\": 78, \"5\": 228, \"0\": 1870, \"6\": 29, \"3\": 219, \"8\": 350, \"7\": 132, \"2\": 45, \"4\": 21, \"13\": 11, \"9\": 1, \"1\": 5, \"11\": 10, \"12\": 1}, \"10\": {\"10\": 3000}, \"7\": {\"7\": 1858, \"5\": 575, \"0\": 73, \"12\": 53, \"14\": 258, \"1\": 44, \"3\": 102, \"2\": 29, \"8\": 7, \"4\": 1}, \"13\": {\"13\": 2280, \"4\": 196, \"3\": 365, \"14\": 6, \"11\": 124, \"12\": 22, \"15\": 2, \"8\": 1, \"5\": 2, \"2\": 2}, \"12\": {\"12\": 2938, \"11\": 19, \"10\": 11, \"1\": 2, \"0\": 20, \"9\": 3, \"2\": 7}, \"15\": {\"15\": 2875, \"2\": 39, \"9\": 4, \"8\": 73, \"10\": 1, \"12\": 1, \"1\": 5, \"7\": 2}, \"9\": {\"14\": 758, \"9\": 1808, \"6\": 105, \"1\": 155, \"2\": 161, \"0\": 3, \"12\": 3, \"11\": 6, \"5\": 1}, \"5\": {\"12\": 81, \"5\": 1656, \"0\": 214, \"9\": 101, \"1\": 296, \"7\": 475, \"8\": 57, \"14\": 13, \"11\": 67, \"10\": 8, \"2\": 20, \"3\": 11, \"4\": 1}, \"6\": {\"6\": 2944, \"11\": 55, \"10\": 1}, \"3\": {\"13\": 220, \"3\": 2476, \"12\": 292, \"15\": 1, \"11\": 8, \"14\": 1, \"8\": 2}, \"11\": {\"4\": 248, \"13\": 391, \"11\": 1798, \"6\": 26, \"14\": 259, \"3\": 191, \"2\": 38, \"5\": 37, \"7\": 1, \"0\": 3, \"15\": 6, \"8\": 2}, \"1\": {\"1\": 2947, \"8\": 48, \"3\": 1, \"10\": 4}}, \"20\": {\"14\": {\"14\": 2432, \"8\": 319, \"6\": 72, \"12\": 115, \"10\": 31, \"3\": 1, \"2\": 10, \"13\": 3, \"7\": 1, \"4\": 15, \"15\": 1}, \"1\": {\"5\": 310, \"12\": 172, \"9\": 324, \"15\": 350, \"1\": 1505, \"2\": 206, \"3\": 126, \"0\": 1, \"13\": 3, \"10\": 2, \"8\": 1}, \"7\": {\"4\": 134, \"7\": 1689, \"6\": 338, \"11\": 7, \"2\": 428, \"12\": 56, \"10\": 71, \"13\": 51, \"9\": 174, \"3\": 26, \"8\": 15, \"14\": 8, \"1\": 1, \"5\": 2}, \"11\": {\"11\": 2788, \"1\": 46, \"4\": 39, \"9\": 69, \"7\": 3, \"8\": 37, \"5\": 5, \"0\": 7, \"10\": 3, \"13\": 3}, \"9\": {\"9\": 1416, \"15\": 58, \"2\": 566, \"5\": 20, \"12\": 380, \"1\": 274, \"3\": 149, \"13\": 62, \"10\": 26, \"7\": 45, \"4\": 4}, \"15\": {\"13\": 387, \"15\": 1303, \"5\": 25, \"2\": 288, \"7\": 40, \"9\": 356, \"12\": 234, \"1\": 354, \"3\": 10, \"8\": 1, \"11\": 1, \"0\": 1}, \"8\": {\"8\": 2211, \"12\": 68, \"14\": 335, \"2\": 156, \"3\": 86, \"0\": 3, \"7\": 32, \"10\": 21, \"4\": 29, \"9\": 16, \"6\": 16, \"5\": 23, \"15\": 3, \"13\": 1}, \"12\": {\"12\": 1447, \"2\": 579, \"9\": 227, \"7\": 250, \"15\": 141, \"1\": 116, \"13\": 156, \"3\": 50, \"6\": 2, \"4\": 9, \"10\": 9, \"5\": 13, \"11\": 1}, \"5\": {\"15\": 149, \"5\": 879, \"1\": 398, \"12\": 209, \"2\": 457, \"7\": 323, \"9\": 238, \"3\": 252, \"0\": 28, \"13\": 16, \"4\": 12, \"8\": 35, \"10\": 2, \"11\": 2}, \"6\": {\"6\": 2694, \"14\": 76, \"10\": 160, \"7\": 43, \"2\": 17, \"4\": 3, \"13\": 5, \"8\": 2}, \"13\": {\"13\": 2765, \"12\": 14, \"15\": 101, \"2\": 82, \"9\": 15, \"1\": 7, \"11\": 1, \"7\": 15}, \"2\": {\"7\": 277, \"9\": 920, \"2\": 866, \"3\": 73, \"12\": 354, \"1\": 142, \"5\": 16, \"13\": 275, \"15\": 62, \"10\": 6, \"4\": 8, \"8\": 1}, \"0\": {\"0\": 2534, \"2\": 176, \"5\": 160, \"1\": 27, \"9\": 32, \"3\": 39, \"8\": 15, \"12\": 7, \"15\": 8, \"11\": 2}, \"3\": {\"3\": 558, \"12\": 392, \"7\": 424, \"1\": 139, \"2\": 611, \"9\": 562, \"10\": 65, \"4\": 39, \"5\": 152, \"0\": 3, \"15\": 13, \"13\": 21, \"6\": 9, \"8\": 12}, \"4\": {\"12\": 1428, \"4\": 1076, \"7\": 129, \"6\": 21, \"2\": 39, \"10\": 131, \"3\": 57, \"8\": 40, \"5\": 24, \"9\": 27, \"15\": 11, \"14\": 11, \"1\": 5, \"11\": 1}, \"10\": {\"10\": 2733, \"4\": 79, \"12\": 33, \"6\": 138, \"14\": 10, \"7\": 4, \"9\": 1, \"8\": 1, \"2\": 1}}, \"44\": {\"3\": {\"3\": 2241, \"8\": 60, \"12\": 204, \"14\": 86, \"7\": 65, \"2\": 68, \"4\": 146, \"11\": 5, \"5\": 83, \"13\": 33, \"0\": 8, \"1\": 1}, \"10\": {\"10\": 2925, \"7\": 21, \"1\": 28, \"2\": 26}, \"4\": {\"4\": 2019, \"11\": 94, \"14\": 469, \"9\": 63, \"15\": 213, \"6\": 68, \"0\": 10, \"12\": 7, \"5\": 44, \"7\": 8, \"8\": 5}, \"5\": {\"5\": 1766, \"6\": 1118, \"14\": 36, \"15\": 58, \"4\": 8, \"13\": 1, \"8\": 11, \"7\": 1, \"2\": 1}, \"0\": {\"8\": 1454, \"0\": 1415, \"15\": 88, \"5\": 25, \"6\": 12, \"1\": 4, \"13\": 2}, \"12\": {\"3\": 785, \"12\": 2191, \"14\": 7, \"5\": 4, \"8\": 9, \"1\": 2, \"11\": 1, \"2\": 1}, \"6\": {\"13\": 221, \"6\": 2288, \"9\": 354, \"7\": 133, \"10\": 3, \"4\": 1}, \"11\": {\"11\": 2920, \"0\": 56, \"3\": 6, \"13\": 16, \"10\": 1, \"4\": 1}, \"2\": {\"11\": 18, \"2\": 2121, \"1\": 208, \"5\": 121, \"8\": 389, \"15\": 23, \"7\": 42, \"9\": 16, \"0\": 19, \"10\": 29, \"12\": 14}, \"15\": {\"15\": 2077, \"0\": 123, \"5\": 311, \"6\": 36, \"11\": 176, \"8\": 102, \"14\": 65, \"12\": 99, \"4\": 11}, \"1\": {\"5\": 456, \"1\": 2319, \"14\": 11, \"2\": 102, \"7\": 64, \"0\": 1, \"12\": 16, \"10\": 15, \"8\": 16}, \"9\": {\"2\": 96, \"7\": 1312, \"9\": 1378, \"6\": 79, \"10\": 26, \"13\": 67, \"4\": 20, \"0\": 9, \"15\": 10, \"1\": 1, \"11\": 2}, \"7\": {\"9\": 484, \"7\": 2374, \"2\": 17, \"10\": 102, \"6\": 21, \"15\": 2}, \"13\": {\"13\": 1506, \"0\": 663, \"4\": 338, \"6\": 252, \"9\": 111, \"7\": 128, \"10\": 2}, \"8\": {\"15\": 170, \"8\": 2383, \"5\": 190, \"0\": 250, \"6\": 7}, \"14\": {\"15\": 209, \"5\": 654, \"14\": 1848, \"4\": 178, \"6\": 94, \"8\": 6, \"12\": 3, \"11\": 6, \"9\": 1, \"7\": 1}}}, \"per_domain_accuracy\": {\"14\": {\"accuracy\": 0.7680833333333333, \"source?\": true}, \"50\": {\"accuracy\": 0.7931666666666667, \"source?\": true}, \"8\": {\"accuracy\": 0.610625, \"source?\": true}, \"26\": {\"accuracy\": 0.637625, \"source?\": true}, \"38\": {\"accuracy\": 0.6956875, \"source?\": true}, \"32\": {\"accuracy\": 0.731625, \"source?\": true}, \"20\": {\"accuracy\": 0.602, \"source?\": true}, \"44\": {\"accuracy\": 0.7035625, \"source?\": true}}}, \"history\": {\"epoch_indices\": [1, 2, 3, 4, 5, 6, 7, 8, 9, 10, 11, 12, 13, 14, 15, 16, 17], \"train_label_loss\": [1.9755464361224855, 1.1512738141502652, 0.8734465503352029, 0.7180091517397336, 0.6118797582685948, 0.5360888151952199, 0.4793315746677773, 0.43045125312890326, 0.3895341247873647, 0.3559443726837635, 0.3255634850455182, 0.2997401208600828, 0.27928585903772285, 0.2567310253828764, 0.24238802988933666, 0.22735756146588496, 0.21038814497047237], \"source_val_label_loss\": [1.2857910118897755, 0.8618070612748464, 0.7404225923617681, 0.6758114498257637, 0.636135961830616, 0.6355208018819491, 0.6886199443538984, 0.660442595700423, 0.6063789913853009, 0.6117223073840141, 0.6636378994981448, 0.7067838899095853, 0.6586876278718312, 0.700315345287323, 0.7009060454964637, 0.7274377507368723, 0.7340894636909167], \"target_val_label_loss\": [1.52755859430631, 1.2561367899576823, 1.2795671546459197, 1.2331965984503428, 1.2602705677350363, 1.2975798968076706, 1.3792931839227676, 1.419004632115364, 1.4106822429100672, 1.4668174235423406, 1.595578146616618, 1.6572900895675022, 1.6150838440259299, 1.6112615569432576, 1.6803458805084228, 1.7808427232106527, 1.8442515966892243], \"source_val_acc_label\": [0.5651197916666667, 0.7083229166666667, 0.7352395833333333, 0.758234375, 0.7661979166666667, 0.7643645833333333, 0.7538802083333334, 0.7615208333333333, 0.7784895833333333, 0.780265625, 0.768703125, 0.758, 0.7759375, 0.767828125, 0.7685885416666667, 0.7692447916666667, 0.7663385416666667], \"target_val_acc_label\": [0.47546354166666666, 0.5595520833333333, 0.57321875, 0.5909635416666666, 0.5991614583333333, 0.5942395833333334, 0.593546875, 0.5941041666666667, 0.6045729166666667, 0.601375, 0.5930885416666667, 0.5915364583333333, 0.60965625, 0.6096458333333333, 0.6039635416666667, 0.5935364583333333, 0.587484375]}, \"dataset_metrics\": {\"source\": {\"train\": {\"n_unique_x\": 896000, \"n_unique_y\": 16, \"n_batch/episode\": 7000}, \"val\": {\"n_unique_x\": 192000, \"n_unique_y\": 16, \"n_batch/episode\": 1500}, \"test\": {\"n_unique_x\": 192000, \"n_unique_y\": 16, \"n_batch/episode\": 1500}}, \"target\": {\"train\": {\"n_unique_x\": 896000, \"n_unique_y\": 16, \"n_batch/episode\": 7000}, \"val\": {\"n_unique_x\": 192000, \"n_unique_y\": 16, \"n_batch/episode\": 1500}, \"test\": {\"n_unique_x\": 192000, \"n_unique_y\": 16, \"n_batch/episode\": 1500}}}}'"
      ]
     },
     "execution_count": 20,
     "metadata": {},
     "output_type": "execute_result"
    }
   ],
   "source": [
    "json.dumps(experiment)"
   ]
  }
 ],
 "metadata": {
  "celltoolbar": "Tags",
  "kernelspec": {
   "display_name": "Python 3 (ipykernel)",
   "language": "python",
   "name": "python3"
  },
  "language_info": {
   "codemirror_mode": {
    "name": "ipython",
    "version": 3
   },
   "file_extension": ".py",
   "mimetype": "text/x-python",
   "name": "python",
   "nbconvert_exporter": "python",
   "pygments_lexer": "ipython3",
   "version": "3.8.12"
  },
  "papermill": {
   "default_parameters": {},
   "duration": 1744.063595,
   "end_time": "2022-03-28T01:51:26.783582",
   "environment_variables": {},
   "exception": null,
   "input_path": "/root/csc500-main/csc500-notebooks/templates/cnn_template.ipynb",
   "output_path": "trial.ipynb",
   "parameters": {
    "parameters": {
     "BEST_MODEL_PATH": "./best_model.pth",
     "NUM_LOGS_PER_EPOCH": 10,
     "batch_size": 128,
     "criteria_for_best": "target_accuracy",
     "dataset_seed": 7,
     "device": "cuda",
     "domains_source": [
      8,
      32,
      50,
      14,
      20,
      26,
      38,
      44
     ],
     "domains_target": [
      8,
      32,
      50,
      14,
      20,
      26,
      38,
      44
     ],
     "experiment_name": "cnn_3:oracle.run1-oracle.run2",
     "labels": [
      "3123D52",
      "3123D65",
      "3123D79",
      "3123D80",
      "3123D54",
      "3123D70",
      "3123D7B",
      "3123D89",
      "3123D58",
      "3123D76",
      "3123D7D",
      "3123EFE",
      "3123D64",
      "3123D78",
      "3123D7E",
      "3124E4A"
     ],
     "lr": 0.0001,
     "n_epoch": 50,
     "normalize_source": false,
     "normalize_target": false,
     "num_examples_per_domain_per_label_source": -1,
     "num_examples_per_domain_per_label_target": -1,
     "patience": 3,
     "pickle_name_source": "oracle.Run1_10kExamples_stratified_ds.2022A.pkl",
     "pickle_name_target": "oracle.Run2_10kExamples_stratified_ds.2022A.pkl",
     "seed": 7,
     "torch_default_dtype": "torch.float32",
     "x_net": [
      {
       "class": "nnReshape",
       "kargs": {
        "shape": [
         -1,
         1,
         2,
         256
        ]
       }
      },
      {
       "class": "Conv2d",
       "kargs": {
        "bias": false,
        "in_channels": 1,
        "kernel_size": [
         1,
         7
        ],
        "out_channels": 256,
        "padding": [
         0,
         3
        ]
       }
      },
      {
       "class": "ReLU",
       "kargs": {
        "inplace": true
       }
      },
      {
       "class": "BatchNorm2d",
       "kargs": {
        "num_features": 256
       }
      },
      {
       "class": "Conv2d",
       "kargs": {
        "bias": true,
        "in_channels": 256,
        "kernel_size": [
         2,
         7
        ],
        "out_channels": 80,
        "padding": [
         0,
         3
        ]
       }
      },
      {
       "class": "ReLU",
       "kargs": {
        "inplace": true
       }
      },
      {
       "class": "BatchNorm2d",
       "kargs": {
        "num_features": 80
       }
      },
      {
       "class": "Flatten",
       "kargs": {}
      },
      {
       "class": "Linear",
       "kargs": {
        "in_features": 20480,
        "out_features": 256
       }
      },
      {
       "class": "ReLU",
       "kargs": {
        "inplace": true
       }
      },
      {
       "class": "BatchNorm1d",
       "kargs": {
        "num_features": 256
       }
      },
      {
       "class": "Linear",
       "kargs": {
        "in_features": 256,
        "out_features": 16
       }
      }
     ]
    }
   },
   "start_time": "2022-03-28T01:22:22.719987",
   "version": "2.3.4"
  }
 },
 "nbformat": 4,
 "nbformat_minor": 5
}