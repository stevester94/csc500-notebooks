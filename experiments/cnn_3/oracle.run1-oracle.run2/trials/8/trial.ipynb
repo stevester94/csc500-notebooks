{
 "cells": [
  {
   "cell_type": "code",
   "execution_count": 1,
   "id": "2324682e",
   "metadata": {
    "execution": {
     "iopub.execute_input": "2022-03-27T23:56:15.367135Z",
     "iopub.status.busy": "2022-03-27T23:56:15.366749Z",
     "iopub.status.idle": "2022-03-27T23:56:17.074951Z",
     "shell.execute_reply": "2022-03-27T23:56:17.074069Z"
    },
    "papermill": {
     "duration": 1.74683,
     "end_time": "2022-03-27T23:56:17.075145",
     "exception": false,
     "start_time": "2022-03-27T23:56:15.328315",
     "status": "completed"
    },
    "tags": []
   },
   "outputs": [],
   "source": [
    "import os, json, sys, time, random\n",
    "import numpy as np\n",
    "import torch\n",
    "from  easydict import EasyDict\n",
    "from math import floor\n",
    "from easydict import EasyDict\n",
    "\n",
    "from steves_utils.vanilla_train_eval_test_jig import  Vanilla_Train_Eval_Test_Jig\n",
    "\n",
    "from steves_utils.torch_utils import get_dataset_metrics, independent_accuracy_assesment\n",
    "from steves_models.configurable_vanilla import Configurable_Vanilla\n",
    "from steves_utils.torch_sequential_builder import build_sequential\n",
    "from steves_utils.lazy_map import Lazy_Map\n",
    "from steves_utils.sequence_aggregator import Sequence_Aggregator\n",
    "\n",
    "from steves_utils.stratified_dataset.traditional_accessor import Traditional_Accessor_Factory\n",
    "\n",
    "from steves_utils.cnn_do_report import (\n",
    "    get_loss_curve,\n",
    "    get_results_table,\n",
    "    get_parameters_table,\n",
    "    get_domain_accuracies,\n",
    ")\n",
    "\n",
    "from steves_utils.torch_utils import (\n",
    "    confusion_by_domain_over_dataloader,\n",
    "    independent_accuracy_assesment\n",
    ")\n",
    "\n",
    "from steves_utils.utils_v2 import (\n",
    "    per_domain_accuracy_from_confusion,\n",
    "    get_datasets_base_path\n",
    ")\n",
    "\n",
    "# from steves_utils.ptn_do_report import TBD"
   ]
  },
  {
   "cell_type": "code",
   "execution_count": 2,
   "id": "1b29e3fe",
   "metadata": {
    "execution": {
     "iopub.execute_input": "2022-03-27T23:56:17.113077Z",
     "iopub.status.busy": "2022-03-27T23:56:17.112697Z",
     "iopub.status.idle": "2022-03-27T23:56:17.115005Z",
     "shell.execute_reply": "2022-03-27T23:56:17.115306Z"
    },
    "papermill": {
     "duration": 0.021733,
     "end_time": "2022-03-27T23:56:17.115387",
     "exception": false,
     "start_time": "2022-03-27T23:56:17.093654",
     "status": "completed"
    },
    "tags": []
   },
   "outputs": [],
   "source": [
    "required_parameters = {\n",
    "    \"experiment_name\",\n",
    "    \"lr\",\n",
    "    \"device\",\n",
    "    \"dataset_seed\",\n",
    "    \"seed\",\n",
    "    \"labels\",\n",
    "    \"domains_target\",\n",
    "    \"domains_source\",\n",
    "    \"num_examples_per_domain_per_label_source\",\n",
    "    \"num_examples_per_domain_per_label_target\",\n",
    "    \"batch_size\",\n",
    "    \"n_epoch\",\n",
    "    \"patience\",\n",
    "    \"criteria_for_best\",\n",
    "    \"normalize_source\",\n",
    "    \"normalize_target\",\n",
    "    \"x_net\",\n",
    "    \"NUM_LOGS_PER_EPOCH\",\n",
    "    \"BEST_MODEL_PATH\",\n",
    "    \"pickle_name_source\",\n",
    "    \"pickle_name_target\",\n",
    "    \"torch_default_dtype\",\n",
    "}"
   ]
  },
  {
   "cell_type": "code",
   "execution_count": 3,
   "id": "670b5fb8",
   "metadata": {
    "execution": {
     "iopub.execute_input": "2022-03-27T23:56:17.160043Z",
     "iopub.status.busy": "2022-03-27T23:56:17.159150Z",
     "iopub.status.idle": "2022-03-27T23:56:17.166805Z",
     "shell.execute_reply": "2022-03-27T23:56:17.166016Z"
    },
    "papermill": {
     "duration": 0.033969,
     "end_time": "2022-03-27T23:56:17.166955",
     "exception": false,
     "start_time": "2022-03-27T23:56:17.132986",
     "status": "completed"
    },
    "tags": [
     "parameters"
    ]
   },
   "outputs": [],
   "source": [
    "from steves_utils.ORACLE.utils_v2 import (\n",
    "    ALL_SERIAL_NUMBERS,\n",
    "    ALL_DISTANCES_FEET_NARROWED,\n",
    ")\n",
    "\n",
    "standalone_parameters = {}\n",
    "standalone_parameters[\"experiment_name\"] = \"MANUAL CORES CNN\"\n",
    "standalone_parameters[\"lr\"] = 0.0001\n",
    "standalone_parameters[\"device\"] = \"cuda\"\n",
    "\n",
    "standalone_parameters[\"dataset_seed\"] = 1337\n",
    "standalone_parameters[\"seed\"] = 1337\n",
    "standalone_parameters[\"labels\"] = ALL_SERIAL_NUMBERS\n",
    "\n",
    "standalone_parameters[\"domains_source\"] = [8,32,50]\n",
    "standalone_parameters[\"domains_target\"] = [14,20,26,38,44,]\n",
    "\n",
    "standalone_parameters[\"num_examples_per_domain_per_label_source\"]=-1\n",
    "standalone_parameters[\"num_examples_per_domain_per_label_target\"]=-1\n",
    "\n",
    "standalone_parameters[\"pickle_name_source\"] = \"oracle.Run1_framed_2000Examples_stratified_ds.2022A.pkl\"\n",
    "standalone_parameters[\"pickle_name_target\"] = \"oracle.Run2_framed_2000Examples_stratified_ds.2022A.pkl\"\n",
    "\n",
    "standalone_parameters[\"torch_default_dtype\"] = \"torch.float32\" \n",
    "\n",
    "standalone_parameters[\"batch_size\"]=128\n",
    "\n",
    "standalone_parameters[\"n_epoch\"] = 3\n",
    "\n",
    "standalone_parameters[\"patience\"] = 10\n",
    "\n",
    "standalone_parameters[\"criteria_for_best\"] = \"target_accuracy\"\n",
    "standalone_parameters[\"normalize_source\"] = False\n",
    "standalone_parameters[\"normalize_target\"] = False\n",
    "\n",
    "standalone_parameters[\"x_net\"] =     [\n",
    "    {\"class\": \"nnReshape\", \"kargs\": {\"shape\":[-1, 1, 2, 256]}},\n",
    "    {\"class\": \"Conv2d\", \"kargs\": { \"in_channels\":1, \"out_channels\":256, \"kernel_size\":(1,7), \"bias\":False, \"padding\":(0,3), },},\n",
    "    {\"class\": \"ReLU\", \"kargs\": {\"inplace\": True}},\n",
    "    {\"class\": \"BatchNorm2d\", \"kargs\": {\"num_features\":256}},\n",
    "\n",
    "    {\"class\": \"Conv2d\", \"kargs\": { \"in_channels\":256, \"out_channels\":80, \"kernel_size\":(2,7), \"bias\":True, \"padding\":(0,3), },},\n",
    "    {\"class\": \"ReLU\", \"kargs\": {\"inplace\": True}},\n",
    "    {\"class\": \"BatchNorm2d\", \"kargs\": {\"num_features\":80}},\n",
    "    {\"class\": \"Flatten\", \"kargs\": {}},\n",
    "\n",
    "    {\"class\": \"Linear\", \"kargs\": {\"in_features\": 80*256, \"out_features\": 256}}, # 80 units per IQ pair\n",
    "    {\"class\": \"ReLU\", \"kargs\": {\"inplace\": True}},\n",
    "    {\"class\": \"BatchNorm1d\", \"kargs\": {\"num_features\":256}},\n",
    "\n",
    "    {\"class\": \"Linear\", \"kargs\": {\"in_features\": 256, \"out_features\": len(standalone_parameters[\"labels\"])}},\n",
    "]\n",
    "\n",
    "standalone_parameters[\"NUM_LOGS_PER_EPOCH\"] = 10\n",
    "standalone_parameters[\"BEST_MODEL_PATH\"] = \"./best_model.pth\""
   ]
  },
  {
   "cell_type": "code",
   "execution_count": 4,
   "id": "92603988",
   "metadata": {
    "execution": {
     "iopub.execute_input": "2022-03-27T23:56:17.213361Z",
     "iopub.status.busy": "2022-03-27T23:56:17.212473Z",
     "iopub.status.idle": "2022-03-27T23:56:17.215185Z",
     "shell.execute_reply": "2022-03-27T23:56:17.214398Z"
    },
    "papermill": {
     "duration": 0.029949,
     "end_time": "2022-03-27T23:56:17.215332",
     "exception": false,
     "start_time": "2022-03-27T23:56:17.185383",
     "status": "completed"
    },
    "tags": [
     "injected-parameters"
    ]
   },
   "outputs": [],
   "source": [
    "# Parameters\n",
    "parameters = {\n",
    "    \"experiment_name\": \"cnn_3:oracle.run1-oracle.run2\",\n",
    "    \"domains_source\": [8, 32, 50, 14, 20, 26, 38, 44],\n",
    "    \"domains_target\": [8, 32, 50, 14, 20, 26, 38, 44],\n",
    "    \"labels\": [\n",
    "        \"3123D52\",\n",
    "        \"3123D65\",\n",
    "        \"3123D79\",\n",
    "        \"3123D80\",\n",
    "        \"3123D54\",\n",
    "        \"3123D70\",\n",
    "        \"3123D7B\",\n",
    "        \"3123D89\",\n",
    "        \"3123D58\",\n",
    "        \"3123D76\",\n",
    "        \"3123D7D\",\n",
    "        \"3123EFE\",\n",
    "        \"3123D64\",\n",
    "        \"3123D78\",\n",
    "        \"3123D7E\",\n",
    "        \"3124E4A\",\n",
    "    ],\n",
    "    \"pickle_name_source\": \"oracle.Run1_10kExamples_stratified_ds.2022A.pkl\",\n",
    "    \"pickle_name_target\": \"oracle.Run2_10kExamples_stratified_ds.2022A.pkl\",\n",
    "    \"device\": \"cuda\",\n",
    "    \"lr\": 0.0001,\n",
    "    \"batch_size\": 128,\n",
    "    \"normalize_source\": False,\n",
    "    \"normalize_target\": False,\n",
    "    \"num_examples_per_domain_per_label_source\": -1,\n",
    "    \"num_examples_per_domain_per_label_target\": -1,\n",
    "    \"torch_default_dtype\": \"torch.float32\",\n",
    "    \"n_epoch\": 50,\n",
    "    \"patience\": 3,\n",
    "    \"criteria_for_best\": \"target_accuracy\",\n",
    "    \"x_net\": [\n",
    "        {\"class\": \"nnReshape\", \"kargs\": {\"shape\": [-1, 1, 2, 256]}},\n",
    "        {\n",
    "            \"class\": \"Conv2d\",\n",
    "            \"kargs\": {\n",
    "                \"in_channels\": 1,\n",
    "                \"out_channels\": 256,\n",
    "                \"kernel_size\": [1, 7],\n",
    "                \"bias\": False,\n",
    "                \"padding\": [0, 3],\n",
    "            },\n",
    "        },\n",
    "        {\"class\": \"ReLU\", \"kargs\": {\"inplace\": True}},\n",
    "        {\"class\": \"BatchNorm2d\", \"kargs\": {\"num_features\": 256}},\n",
    "        {\n",
    "            \"class\": \"Conv2d\",\n",
    "            \"kargs\": {\n",
    "                \"in_channels\": 256,\n",
    "                \"out_channels\": 80,\n",
    "                \"kernel_size\": [2, 7],\n",
    "                \"bias\": True,\n",
    "                \"padding\": [0, 3],\n",
    "            },\n",
    "        },\n",
    "        {\"class\": \"ReLU\", \"kargs\": {\"inplace\": True}},\n",
    "        {\"class\": \"BatchNorm2d\", \"kargs\": {\"num_features\": 80}},\n",
    "        {\"class\": \"Flatten\", \"kargs\": {}},\n",
    "        {\"class\": \"Linear\", \"kargs\": {\"in_features\": 20480, \"out_features\": 256}},\n",
    "        {\"class\": \"ReLU\", \"kargs\": {\"inplace\": True}},\n",
    "        {\"class\": \"BatchNorm1d\", \"kargs\": {\"num_features\": 256}},\n",
    "        {\"class\": \"Linear\", \"kargs\": {\"in_features\": 256, \"out_features\": 16}},\n",
    "    ],\n",
    "    \"NUM_LOGS_PER_EPOCH\": 10,\n",
    "    \"BEST_MODEL_PATH\": \"./best_model.pth\",\n",
    "    \"dataset_seed\": 1337,\n",
    "    \"seed\": 1337,\n",
    "}\n"
   ]
  },
  {
   "cell_type": "code",
   "execution_count": 5,
   "id": "759b56ec",
   "metadata": {
    "execution": {
     "iopub.execute_input": "2022-03-27T23:56:17.254111Z",
     "iopub.status.busy": "2022-03-27T23:56:17.253734Z",
     "iopub.status.idle": "2022-03-27T23:56:17.256596Z",
     "shell.execute_reply": "2022-03-27T23:56:17.255950Z"
    },
    "papermill": {
     "duration": 0.023051,
     "end_time": "2022-03-27T23:56:17.256748",
     "exception": false,
     "start_time": "2022-03-27T23:56:17.233697",
     "status": "completed"
    },
    "tags": []
   },
   "outputs": [],
   "source": [
    "# Set this to True if you want to run this template directly\n",
    "STANDALONE = False\n",
    "if STANDALONE:\n",
    "    print(\"parameters not injected, running with standalone_parameters\")\n",
    "    parameters = standalone_parameters\n",
    "\n",
    "if not 'parameters' in locals() and not 'parameters' in globals():\n",
    "    raise Exception(\"Parameter injection failed\")\n",
    "\n",
    "#Use an easy dict for all the parameters\n",
    "p = EasyDict(parameters)\n",
    "\n",
    "supplied_keys = set(p.keys())\n",
    "\n",
    "if  supplied_keys != required_parameters:\n",
    "    print(\"Parameters are incorrect\")\n",
    "    if len(supplied_keys - required_parameters)>0: print(\"Shouldn't have:\", str(supplied_keys - required_parameters))\n",
    "    if len(required_parameters - supplied_keys)>0: print(\"Need to have:\", str(required_parameters - supplied_keys))\n",
    "    raise RuntimeError(\"Parameters are incorrect\")\n",
    "\n"
   ]
  },
  {
   "cell_type": "code",
   "execution_count": 6,
   "id": "d5c66a71",
   "metadata": {
    "execution": {
     "iopub.execute_input": "2022-03-27T23:56:17.294001Z",
     "iopub.status.busy": "2022-03-27T23:56:17.293636Z",
     "iopub.status.idle": "2022-03-27T23:56:17.298238Z",
     "shell.execute_reply": "2022-03-27T23:56:17.297878Z"
    },
    "papermill": {
     "duration": 0.021792,
     "end_time": "2022-03-27T23:56:17.298306",
     "exception": false,
     "start_time": "2022-03-27T23:56:17.276514",
     "status": "completed"
    },
    "tags": []
   },
   "outputs": [],
   "source": [
    "###################################\n",
    "# Set the RNGs and make it all deterministic\n",
    "###################################\n",
    "np.random.seed(p.seed)\n",
    "random.seed(p.seed)\n",
    "torch.manual_seed(p.seed)\n",
    "\n",
    "torch.use_deterministic_algorithms(True) "
   ]
  },
  {
   "cell_type": "code",
   "execution_count": 7,
   "id": "92a65876",
   "metadata": {
    "execution": {
     "iopub.execute_input": "2022-03-27T23:56:17.334508Z",
     "iopub.status.busy": "2022-03-27T23:56:17.334150Z",
     "iopub.status.idle": "2022-03-27T23:56:17.336566Z",
     "shell.execute_reply": "2022-03-27T23:56:17.336864Z"
    },
    "papermill": {
     "duration": 0.020573,
     "end_time": "2022-03-27T23:56:17.336943",
     "exception": false,
     "start_time": "2022-03-27T23:56:17.316370",
     "status": "completed"
    },
    "tags": []
   },
   "outputs": [],
   "source": [
    "torch.set_default_dtype(eval(p.torch_default_dtype))"
   ]
  },
  {
   "cell_type": "code",
   "execution_count": 8,
   "id": "f1a32f01",
   "metadata": {
    "execution": {
     "iopub.execute_input": "2022-03-27T23:56:17.370934Z",
     "iopub.status.busy": "2022-03-27T23:56:17.370459Z",
     "iopub.status.idle": "2022-03-27T23:56:17.409015Z",
     "shell.execute_reply": "2022-03-27T23:56:17.408266Z"
    },
    "papermill": {
     "duration": 0.055622,
     "end_time": "2022-03-27T23:56:17.409193",
     "exception": false,
     "start_time": "2022-03-27T23:56:17.353571",
     "status": "completed"
    },
    "tags": []
   },
   "outputs": [],
   "source": [
    "###################################\n",
    "# Build the network(s)\n",
    "# Note: It's critical to do this AFTER setting the RNG\n",
    "###################################\n",
    "x_net = build_sequential(p.x_net)"
   ]
  },
  {
   "cell_type": "code",
   "execution_count": 9,
   "id": "a276cd83",
   "metadata": {
    "execution": {
     "iopub.execute_input": "2022-03-27T23:56:17.444963Z",
     "iopub.status.busy": "2022-03-27T23:56:17.444457Z",
     "iopub.status.idle": "2022-03-27T23:56:17.446958Z",
     "shell.execute_reply": "2022-03-27T23:56:17.447420Z"
    },
    "papermill": {
     "duration": 0.020398,
     "end_time": "2022-03-27T23:56:17.447550",
     "exception": false,
     "start_time": "2022-03-27T23:56:17.427152",
     "status": "completed"
    },
    "tags": []
   },
   "outputs": [],
   "source": [
    "start_time_secs = time.time()"
   ]
  },
  {
   "cell_type": "code",
   "execution_count": 10,
   "id": "de702e48",
   "metadata": {
    "execution": {
     "iopub.execute_input": "2022-03-27T23:56:17.496118Z",
     "iopub.status.busy": "2022-03-27T23:56:17.495430Z",
     "iopub.status.idle": "2022-03-27T23:56:56.138513Z",
     "shell.execute_reply": "2022-03-27T23:56:56.137747Z"
    },
    "papermill": {
     "duration": 38.670136,
     "end_time": "2022-03-27T23:56:56.138691",
     "exception": false,
     "start_time": "2022-03-27T23:56:17.468555",
     "status": "completed"
    },
    "tags": []
   },
   "outputs": [],
   "source": [
    "def wrap_in_dataloader(p, ds):\n",
    "    return torch.utils.data.DataLoader(\n",
    "        ds,\n",
    "        batch_size=p.batch_size,\n",
    "        shuffle=True,\n",
    "        num_workers=1,\n",
    "        persistent_workers=True,\n",
    "        prefetch_factor=50,\n",
    "        pin_memory=True\n",
    "    )\n",
    "\n",
    "taf_source = Traditional_Accessor_Factory(\n",
    "    labels=p.labels,\n",
    "    domains=p.domains_source,\n",
    "    num_examples_per_domain_per_label=p.num_examples_per_domain_per_label_source,\n",
    "    pickle_path=os.path.join(get_datasets_base_path(), p.pickle_name_source),\n",
    "    seed=p.dataset_seed\n",
    ")\n",
    "train_original_source, val_original_source, test_original_source = \\\n",
    "    taf_source.get_train(), taf_source.get_val(), taf_source.get_test()\n",
    "\n",
    "\n",
    "taf_target = Traditional_Accessor_Factory(\n",
    "    labels=p.labels,\n",
    "    domains=p.domains_target,\n",
    "    num_examples_per_domain_per_label=p.num_examples_per_domain_per_label_source,\n",
    "    pickle_path=os.path.join(get_datasets_base_path(), p.pickle_name_target),\n",
    "    seed=p.dataset_seed\n",
    ")\n",
    "train_original_target, val_original_target, test_original_target = \\\n",
    "    taf_target.get_train(), taf_target.get_val(), taf_target.get_test()\n",
    "\n",
    "\n",
    "# For CNN We only use X and Y. And we only train on the source.\n",
    "# Properly form the data using a transform lambda and Lazy_Map. Finally wrap them in a dataloader\n",
    "\n",
    "transform_lambda = lambda ex: ex[:2] # Strip the tuple to just (x,y)\n",
    "\n",
    "\n",
    "train_processed_source = wrap_in_dataloader(\n",
    "    p,\n",
    "    Lazy_Map(train_original_source, transform_lambda)\n",
    ")\n",
    "val_processed_source = wrap_in_dataloader(\n",
    "    p,\n",
    "    Lazy_Map(val_original_source, transform_lambda)\n",
    ")\n",
    "test_processed_source = wrap_in_dataloader(\n",
    "    p,\n",
    "    Lazy_Map(test_original_source, transform_lambda)\n",
    ")\n",
    "\n",
    "train_processed_target = wrap_in_dataloader(\n",
    "    p,\n",
    "    Lazy_Map(train_original_target, transform_lambda)\n",
    ")\n",
    "val_processed_target = wrap_in_dataloader(\n",
    "    p,\n",
    "    Lazy_Map(val_original_target, transform_lambda)\n",
    ")\n",
    "test_processed_target  = wrap_in_dataloader(\n",
    "    p,\n",
    "    Lazy_Map(test_original_target, transform_lambda)\n",
    ")\n",
    "\n",
    "\n",
    "\n",
    "datasets = EasyDict({\n",
    "    \"source\": {\n",
    "        \"original\": {\"train\":train_original_source, \"val\":val_original_source, \"test\":test_original_source},\n",
    "        \"processed\": {\"train\":train_processed_source, \"val\":val_processed_source, \"test\":test_processed_source}\n",
    "    },\n",
    "    \"target\": {\n",
    "        \"original\": {\"train\":train_original_target, \"val\":val_original_target, \"test\":test_original_target},\n",
    "        \"processed\": {\"train\":train_processed_target, \"val\":val_processed_target, \"test\":test_processed_target}\n",
    "    },\n",
    "})"
   ]
  },
  {
   "cell_type": "code",
   "execution_count": 11,
   "id": "a11b26bd",
   "metadata": {
    "execution": {
     "iopub.execute_input": "2022-03-27T23:56:56.218467Z",
     "iopub.status.busy": "2022-03-27T23:56:56.217648Z",
     "iopub.status.idle": "2022-03-27T23:57:01.894699Z",
     "shell.execute_reply": "2022-03-27T23:57:01.893939Z"
    },
    "papermill": {
     "duration": 5.736472,
     "end_time": "2022-03-27T23:57:01.894870",
     "exception": false,
     "start_time": "2022-03-27T23:56:56.158398",
     "status": "completed"
    },
    "tags": []
   },
   "outputs": [
    {
     "data": {
      "text/plain": [
       "torch.float32"
      ]
     },
     "execution_count": 11,
     "metadata": {},
     "output_type": "execute_result"
    }
   ],
   "source": [
    "ep = next(iter(test_processed_target))\n",
    "ep[0].dtype"
   ]
  },
  {
   "cell_type": "code",
   "execution_count": 12,
   "id": "19425fad",
   "metadata": {
    "execution": {
     "iopub.execute_input": "2022-03-27T23:57:01.934986Z",
     "iopub.status.busy": "2022-03-27T23:57:01.934603Z",
     "iopub.status.idle": "2022-03-27T23:57:01.981713Z",
     "shell.execute_reply": "2022-03-27T23:57:01.982366Z"
    },
    "papermill": {
     "duration": 0.069444,
     "end_time": "2022-03-27T23:57:01.982627",
     "exception": false,
     "start_time": "2022-03-27T23:57:01.913183",
     "status": "completed"
    },
    "tags": []
   },
   "outputs": [],
   "source": [
    "model = Configurable_Vanilla(\n",
    "    x_net=x_net,\n",
    "    label_loss_object=torch.nn.NLLLoss(),\n",
    "    learning_rate=p.lr\n",
    ")"
   ]
  },
  {
   "cell_type": "code",
   "execution_count": 13,
   "id": "7f6d4f2c",
   "metadata": {
    "execution": {
     "iopub.execute_input": "2022-03-27T23:57:02.021517Z",
     "iopub.status.busy": "2022-03-27T23:57:02.021148Z",
     "iopub.status.idle": "2022-03-28T00:19:15.362535Z",
     "shell.execute_reply": "2022-03-28T00:19:15.362187Z"
    },
    "papermill": {
     "duration": 1333.359937,
     "end_time": "2022-03-28T00:19:15.362625",
     "exception": false,
     "start_time": "2022-03-27T23:57:02.002688",
     "status": "completed"
    },
    "tags": []
   },
   "outputs": [
    {
     "name": "stdout",
     "output_type": "stream",
     "text": [
      "epoch: 1, [batch: 1 / 7000], examples_per_second: 385.6452, train_label_loss: 2.7988, \n"
     ]
    },
    {
     "name": "stdout",
     "output_type": "stream",
     "text": [
      "epoch: 1, [batch: 700 / 7000], examples_per_second: 10718.1470, train_label_loss: 2.5915, \n"
     ]
    },
    {
     "name": "stdout",
     "output_type": "stream",
     "text": [
      "epoch: 1, [batch: 1400 / 7000], examples_per_second: 11563.7019, train_label_loss: 2.4172, \n"
     ]
    },
    {
     "name": "stdout",
     "output_type": "stream",
     "text": [
      "epoch: 1, [batch: 2100 / 7000], examples_per_second: 11751.0214, train_label_loss: 2.2300, \n"
     ]
    },
    {
     "name": "stdout",
     "output_type": "stream",
     "text": [
      "epoch: 1, [batch: 2800 / 7000], examples_per_second: 11716.4290, train_label_loss: 2.0762, \n"
     ]
    },
    {
     "name": "stdout",
     "output_type": "stream",
     "text": [
      "epoch: 1, [batch: 3500 / 7000], examples_per_second: 11610.1678, train_label_loss: 1.7743, \n"
     ]
    },
    {
     "name": "stdout",
     "output_type": "stream",
     "text": [
      "epoch: 1, [batch: 4200 / 7000], examples_per_second: 11884.6503, train_label_loss: 1.9660, \n"
     ]
    },
    {
     "name": "stdout",
     "output_type": "stream",
     "text": [
      "epoch: 1, [batch: 4900 / 7000], examples_per_second: 12615.2256, train_label_loss: 1.8122, \n"
     ]
    },
    {
     "name": "stdout",
     "output_type": "stream",
     "text": [
      "epoch: 1, [batch: 5600 / 7000], examples_per_second: 12823.9093, train_label_loss: 1.5192, \n"
     ]
    },
    {
     "name": "stdout",
     "output_type": "stream",
     "text": [
      "epoch: 1, [batch: 6300 / 7000], examples_per_second: 12743.6158, train_label_loss: 1.4984, \n"
     ]
    },
    {
     "name": "stdout",
     "output_type": "stream",
     "text": [
      "=============================================================\n",
      "epoch: 1, source_val_acc_label: 0.5744, source_val_label_loss: 1.2653, target_val_acc_label: 0.4834, target_val_label_loss: 1.5148, \n",
      "=============================================================\n"
     ]
    },
    {
     "name": "stdout",
     "output_type": "stream",
     "text": [
      "New best\n",
      "epoch: 2, [batch: 1 / 7000], examples_per_second: 14.4149, train_label_loss: 1.3689, \n"
     ]
    },
    {
     "name": "stdout",
     "output_type": "stream",
     "text": [
      "epoch: 2, [batch: 700 / 7000], examples_per_second: 11600.7988, train_label_loss: 1.1791, \n"
     ]
    },
    {
     "name": "stdout",
     "output_type": "stream",
     "text": [
      "epoch: 2, [batch: 1400 / 7000], examples_per_second: 11617.6213, train_label_loss: 1.3260, \n"
     ]
    },
    {
     "name": "stdout",
     "output_type": "stream",
     "text": [
      "epoch: 2, [batch: 2100 / 7000], examples_per_second: 11784.3504, train_label_loss: 1.2572, \n"
     ]
    },
    {
     "name": "stdout",
     "output_type": "stream",
     "text": [
      "epoch: 2, [batch: 2800 / 7000], examples_per_second: 11508.4171, train_label_loss: 1.0409, \n"
     ]
    },
    {
     "name": "stdout",
     "output_type": "stream",
     "text": [
      "epoch: 2, [batch: 3500 / 7000], examples_per_second: 10617.6190, train_label_loss: 1.1780, \n"
     ]
    },
    {
     "name": "stdout",
     "output_type": "stream",
     "text": [
      "epoch: 2, [batch: 4200 / 7000], examples_per_second: 10630.5782, train_label_loss: 1.2012, \n"
     ]
    },
    {
     "name": "stdout",
     "output_type": "stream",
     "text": [
      "epoch: 2, [batch: 4900 / 7000], examples_per_second: 10661.7049, train_label_loss: 0.9814, \n"
     ]
    },
    {
     "name": "stdout",
     "output_type": "stream",
     "text": [
      "epoch: 2, [batch: 5600 / 7000], examples_per_second: 10674.9215, train_label_loss: 0.9909, \n"
     ]
    },
    {
     "name": "stdout",
     "output_type": "stream",
     "text": [
      "epoch: 2, [batch: 6300 / 7000], examples_per_second: 10639.2791, train_label_loss: 1.3335, \n"
     ]
    },
    {
     "name": "stdout",
     "output_type": "stream",
     "text": [
      "=============================================================\n",
      "epoch: 2, source_val_acc_label: 0.7027, source_val_label_loss: 0.8804, target_val_acc_label: 0.5697, target_val_label_loss: 1.2610, \n",
      "=============================================================\n"
     ]
    },
    {
     "name": "stdout",
     "output_type": "stream",
     "text": [
      "New best\n",
      "epoch: 3, [batch: 1 / 7000], examples_per_second: 11.4240, train_label_loss: 0.8084, \n"
     ]
    },
    {
     "name": "stdout",
     "output_type": "stream",
     "text": [
      "epoch: 3, [batch: 700 / 7000], examples_per_second: 10646.5548, train_label_loss: 1.1278, \n"
     ]
    },
    {
     "name": "stdout",
     "output_type": "stream",
     "text": [
      "epoch: 3, [batch: 1400 / 7000], examples_per_second: 10601.0996, train_label_loss: 0.8077, \n"
     ]
    },
    {
     "name": "stdout",
     "output_type": "stream",
     "text": [
      "epoch: 3, [batch: 2100 / 7000], examples_per_second: 10661.7781, train_label_loss: 0.7122, \n"
     ]
    },
    {
     "name": "stdout",
     "output_type": "stream",
     "text": [
      "epoch: 3, [batch: 2800 / 7000], examples_per_second: 10672.9551, train_label_loss: 0.8947, \n"
     ]
    },
    {
     "name": "stdout",
     "output_type": "stream",
     "text": [
      "epoch: 3, [batch: 3500 / 7000], examples_per_second: 10602.6519, train_label_loss: 0.9848, \n"
     ]
    },
    {
     "name": "stdout",
     "output_type": "stream",
     "text": [
      "epoch: 3, [batch: 4200 / 7000], examples_per_second: 10664.4251, train_label_loss: 0.7733, \n"
     ]
    },
    {
     "name": "stdout",
     "output_type": "stream",
     "text": [
      "epoch: 3, [batch: 4900 / 7000], examples_per_second: 10580.9308, train_label_loss: 0.9835, \n"
     ]
    },
    {
     "name": "stdout",
     "output_type": "stream",
     "text": [
      "epoch: 3, [batch: 5600 / 7000], examples_per_second: 10649.9345, train_label_loss: 1.1750, \n"
     ]
    },
    {
     "name": "stdout",
     "output_type": "stream",
     "text": [
      "epoch: 3, [batch: 6300 / 7000], examples_per_second: 10631.9517, train_label_loss: 0.8054, \n"
     ]
    },
    {
     "name": "stdout",
     "output_type": "stream",
     "text": [
      "=============================================================\n",
      "epoch: 3, source_val_acc_label: 0.7360, source_val_label_loss: 0.7431, target_val_acc_label: 0.5662, target_val_label_loss: 1.2789, \n",
      "=============================================================\n"
     ]
    },
    {
     "name": "stdout",
     "output_type": "stream",
     "text": [
      "epoch: 4, [batch: 1 / 7000], examples_per_second: 11.4851, train_label_loss: 0.6701, \n"
     ]
    },
    {
     "name": "stdout",
     "output_type": "stream",
     "text": [
      "epoch: 4, [batch: 700 / 7000], examples_per_second: 10570.7676, train_label_loss: 0.7140, \n"
     ]
    },
    {
     "name": "stdout",
     "output_type": "stream",
     "text": [
      "epoch: 4, [batch: 1400 / 7000], examples_per_second: 10609.7250, train_label_loss: 0.5597, \n"
     ]
    },
    {
     "name": "stdout",
     "output_type": "stream",
     "text": [
      "epoch: 4, [batch: 2100 / 7000], examples_per_second: 10573.5833, train_label_loss: 0.8493, \n"
     ]
    },
    {
     "name": "stdout",
     "output_type": "stream",
     "text": [
      "epoch: 4, [batch: 2800 / 7000], examples_per_second: 10655.8378, train_label_loss: 0.7125, \n"
     ]
    },
    {
     "name": "stdout",
     "output_type": "stream",
     "text": [
      "epoch: 4, [batch: 3500 / 7000], examples_per_second: 10630.3975, train_label_loss: 0.6381, \n"
     ]
    },
    {
     "name": "stdout",
     "output_type": "stream",
     "text": [
      "epoch: 4, [batch: 4200 / 7000], examples_per_second: 10645.8297, train_label_loss: 0.6082, \n"
     ]
    },
    {
     "name": "stdout",
     "output_type": "stream",
     "text": [
      "epoch: 4, [batch: 4900 / 7000], examples_per_second: 10721.3521, train_label_loss: 0.7131, \n"
     ]
    },
    {
     "name": "stdout",
     "output_type": "stream",
     "text": [
      "epoch: 4, [batch: 5600 / 7000], examples_per_second: 10714.0402, train_label_loss: 0.5904, \n"
     ]
    },
    {
     "name": "stdout",
     "output_type": "stream",
     "text": [
      "epoch: 4, [batch: 6300 / 7000], examples_per_second: 10687.1413, train_label_loss: 0.6835, \n"
     ]
    },
    {
     "name": "stdout",
     "output_type": "stream",
     "text": [
      "=============================================================\n",
      "epoch: 4, source_val_acc_label: 0.7464, source_val_label_loss: 0.7009, target_val_acc_label: 0.5695, target_val_label_loss: 1.2926, \n",
      "=============================================================\n"
     ]
    },
    {
     "name": "stdout",
     "output_type": "stream",
     "text": [
      "epoch: 5, [batch: 1 / 7000], examples_per_second: 12.4950, train_label_loss: 0.8096, \n"
     ]
    },
    {
     "name": "stdout",
     "output_type": "stream",
     "text": [
      "epoch: 5, [batch: 700 / 7000], examples_per_second: 11719.8542, train_label_loss: 0.7260, \n"
     ]
    },
    {
     "name": "stdout",
     "output_type": "stream",
     "text": [
      "epoch: 5, [batch: 1400 / 7000], examples_per_second: 11700.1490, train_label_loss: 0.7121, \n"
     ]
    },
    {
     "name": "stdout",
     "output_type": "stream",
     "text": [
      "epoch: 5, [batch: 2100 / 7000], examples_per_second: 12807.6580, train_label_loss: 0.5074, \n"
     ]
    },
    {
     "name": "stdout",
     "output_type": "stream",
     "text": [
      "epoch: 5, [batch: 2800 / 7000], examples_per_second: 13024.5911, train_label_loss: 0.6443, \n"
     ]
    },
    {
     "name": "stdout",
     "output_type": "stream",
     "text": [
      "epoch: 5, [batch: 3500 / 7000], examples_per_second: 12985.2195, train_label_loss: 0.7367, \n"
     ]
    },
    {
     "name": "stdout",
     "output_type": "stream",
     "text": [
      "epoch: 5, [batch: 4200 / 7000], examples_per_second: 13017.0477, train_label_loss: 0.7909, \n"
     ]
    },
    {
     "name": "stdout",
     "output_type": "stream",
     "text": [
      "epoch: 5, [batch: 4900 / 7000], examples_per_second: 12946.3402, train_label_loss: 0.6062, \n"
     ]
    },
    {
     "name": "stdout",
     "output_type": "stream",
     "text": [
      "epoch: 5, [batch: 5600 / 7000], examples_per_second: 13124.9694, train_label_loss: 0.5930, \n"
     ]
    },
    {
     "name": "stdout",
     "output_type": "stream",
     "text": [
      "epoch: 5, [batch: 6300 / 7000], examples_per_second: 13225.2159, train_label_loss: 0.4327, \n"
     ]
    },
    {
     "name": "stdout",
     "output_type": "stream",
     "text": [
      "=============================================================\n",
      "epoch: 5, source_val_acc_label: 0.7328, source_val_label_loss: 0.7303, target_val_acc_label: 0.5616, target_val_label_loss: 1.4925, \n",
      "=============================================================\n"
     ]
    },
    {
     "name": "stdout",
     "output_type": "stream",
     "text": [
      "epoch: 6, [batch: 1 / 7000], examples_per_second: 14.9787, train_label_loss: 0.5635, \n"
     ]
    },
    {
     "name": "stdout",
     "output_type": "stream",
     "text": [
      "epoch: 6, [batch: 700 / 7000], examples_per_second: 13760.2024, train_label_loss: 0.5833, \n"
     ]
    },
    {
     "name": "stdout",
     "output_type": "stream",
     "text": [
      "epoch: 6, [batch: 1400 / 7000], examples_per_second: 11725.9763, train_label_loss: 0.4137, \n"
     ]
    },
    {
     "name": "stdout",
     "output_type": "stream",
     "text": [
      "epoch: 6, [batch: 2100 / 7000], examples_per_second: 11751.2025, train_label_loss: 0.3679, \n"
     ]
    },
    {
     "name": "stdout",
     "output_type": "stream",
     "text": [
      "epoch: 6, [batch: 2800 / 7000], examples_per_second: 11751.2290, train_label_loss: 0.3834, \n"
     ]
    },
    {
     "name": "stdout",
     "output_type": "stream",
     "text": [
      "epoch: 6, [batch: 3500 / 7000], examples_per_second: 11727.4722, train_label_loss: 0.6121, \n"
     ]
    },
    {
     "name": "stdout",
     "output_type": "stream",
     "text": [
      "epoch: 6, [batch: 4200 / 7000], examples_per_second: 11719.1301, train_label_loss: 0.3955, \n"
     ]
    },
    {
     "name": "stdout",
     "output_type": "stream",
     "text": [
      "epoch: 6, [batch: 4900 / 7000], examples_per_second: 11846.1390, train_label_loss: 0.5300, \n"
     ]
    },
    {
     "name": "stdout",
     "output_type": "stream",
     "text": [
      "epoch: 6, [batch: 5600 / 7000], examples_per_second: 11734.3374, train_label_loss: 0.4160, \n"
     ]
    },
    {
     "name": "stdout",
     "output_type": "stream",
     "text": [
      "epoch: 6, [batch: 6300 / 7000], examples_per_second: 11661.2234, train_label_loss: 0.6764, \n"
     ]
    },
    {
     "name": "stdout",
     "output_type": "stream",
     "text": [
      "=============================================================\n",
      "epoch: 6, source_val_acc_label: 0.7595, source_val_label_loss: 0.6499, target_val_acc_label: 0.5781, target_val_label_loss: 1.4372, \n",
      "=============================================================\n"
     ]
    },
    {
     "name": "stdout",
     "output_type": "stream",
     "text": [
      "New best\n",
      "epoch: 7, [batch: 1 / 7000], examples_per_second: 13.0061, train_label_loss: 0.8127, \n"
     ]
    },
    {
     "name": "stdout",
     "output_type": "stream",
     "text": [
      "epoch: 7, [batch: 700 / 7000], examples_per_second: 11695.2691, train_label_loss: 0.5498, \n"
     ]
    },
    {
     "name": "stdout",
     "output_type": "stream",
     "text": [
      "epoch: 7, [batch: 1400 / 7000], examples_per_second: 11720.5522, train_label_loss: 0.4311, \n"
     ]
    },
    {
     "name": "stdout",
     "output_type": "stream",
     "text": [
      "epoch: 7, [batch: 2100 / 7000], examples_per_second: 11683.2995, train_label_loss: 0.3775, \n"
     ]
    },
    {
     "name": "stdout",
     "output_type": "stream",
     "text": [
      "epoch: 7, [batch: 2800 / 7000], examples_per_second: 11790.0271, train_label_loss: 0.4518, \n"
     ]
    },
    {
     "name": "stdout",
     "output_type": "stream",
     "text": [
      "epoch: 7, [batch: 3500 / 7000], examples_per_second: 11823.1853, train_label_loss: 0.4896, \n"
     ]
    },
    {
     "name": "stdout",
     "output_type": "stream",
     "text": [
      "epoch: 7, [batch: 4200 / 7000], examples_per_second: 11689.4174, train_label_loss: 0.5389, \n"
     ]
    },
    {
     "name": "stdout",
     "output_type": "stream",
     "text": [
      "epoch: 7, [batch: 4900 / 7000], examples_per_second: 11675.8895, train_label_loss: 0.3615, \n"
     ]
    },
    {
     "name": "stdout",
     "output_type": "stream",
     "text": [
      "epoch: 7, [batch: 5600 / 7000], examples_per_second: 11546.5933, train_label_loss: 0.3653, \n"
     ]
    },
    {
     "name": "stdout",
     "output_type": "stream",
     "text": [
      "epoch: 7, [batch: 6300 / 7000], examples_per_second: 11724.9037, train_label_loss: 0.4404, \n"
     ]
    },
    {
     "name": "stdout",
     "output_type": "stream",
     "text": [
      "=============================================================\n",
      "epoch: 7, source_val_acc_label: 0.7690, source_val_label_loss: 0.6367, target_val_acc_label: 0.5920, target_val_label_loss: 1.4124, \n",
      "=============================================================\n"
     ]
    },
    {
     "name": "stdout",
     "output_type": "stream",
     "text": [
      "New best\n",
      "epoch: 8, [batch: 1 / 7000], examples_per_second: 13.0689, train_label_loss: 0.3581, \n"
     ]
    },
    {
     "name": "stdout",
     "output_type": "stream",
     "text": [
      "epoch: 8, [batch: 700 / 7000], examples_per_second: 11632.5346, train_label_loss: 0.2292, \n"
     ]
    },
    {
     "name": "stdout",
     "output_type": "stream",
     "text": [
      "epoch: 8, [batch: 1400 / 7000], examples_per_second: 11665.7554, train_label_loss: 0.4797, \n"
     ]
    },
    {
     "name": "stdout",
     "output_type": "stream",
     "text": [
      "epoch: 8, [batch: 2100 / 7000], examples_per_second: 11615.5419, train_label_loss: 0.4985, \n"
     ]
    },
    {
     "name": "stdout",
     "output_type": "stream",
     "text": [
      "epoch: 8, [batch: 2800 / 7000], examples_per_second: 11680.7764, train_label_loss: 0.3959, \n"
     ]
    },
    {
     "name": "stdout",
     "output_type": "stream",
     "text": [
      "epoch: 8, [batch: 3500 / 7000], examples_per_second: 11660.8319, train_label_loss: 0.4259, \n"
     ]
    },
    {
     "name": "stdout",
     "output_type": "stream",
     "text": [
      "epoch: 8, [batch: 4200 / 7000], examples_per_second: 11682.1126, train_label_loss: 0.3874, \n"
     ]
    },
    {
     "name": "stdout",
     "output_type": "stream",
     "text": [
      "epoch: 8, [batch: 4900 / 7000], examples_per_second: 11691.8951, train_label_loss: 0.3130, \n"
     ]
    },
    {
     "name": "stdout",
     "output_type": "stream",
     "text": [
      "epoch: 8, [batch: 5600 / 7000], examples_per_second: 11711.7330, train_label_loss: 0.3256, \n"
     ]
    },
    {
     "name": "stdout",
     "output_type": "stream",
     "text": [
      "epoch: 8, [batch: 6300 / 7000], examples_per_second: 11703.9571, train_label_loss: 0.5892, \n"
     ]
    },
    {
     "name": "stdout",
     "output_type": "stream",
     "text": [
      "=============================================================\n",
      "epoch: 8, source_val_acc_label: 0.7629, source_val_label_loss: 0.6525, target_val_acc_label: 0.5866, target_val_label_loss: 1.5383, \n",
      "=============================================================\n"
     ]
    },
    {
     "name": "stdout",
     "output_type": "stream",
     "text": [
      "epoch: 9, [batch: 1 / 7000], examples_per_second: 13.8870, train_label_loss: 0.3534, \n"
     ]
    },
    {
     "name": "stdout",
     "output_type": "stream",
     "text": [
      "epoch: 9, [batch: 700 / 7000], examples_per_second: 14233.6487, train_label_loss: 0.2263, \n"
     ]
    },
    {
     "name": "stdout",
     "output_type": "stream",
     "text": [
      "epoch: 9, [batch: 1400 / 7000], examples_per_second: 14108.3994, train_label_loss: 0.4324, \n"
     ]
    },
    {
     "name": "stdout",
     "output_type": "stream",
     "text": [
      "epoch: 9, [batch: 2100 / 7000], examples_per_second: 14085.9521, train_label_loss: 0.4528, \n"
     ]
    },
    {
     "name": "stdout",
     "output_type": "stream",
     "text": [
      "epoch: 9, [batch: 2800 / 7000], examples_per_second: 14572.9477, train_label_loss: 0.3544, \n"
     ]
    },
    {
     "name": "stdout",
     "output_type": "stream",
     "text": [
      "epoch: 9, [batch: 3500 / 7000], examples_per_second: 14115.4371, train_label_loss: 0.3117, \n"
     ]
    },
    {
     "name": "stdout",
     "output_type": "stream",
     "text": [
      "epoch: 9, [batch: 4200 / 7000], examples_per_second: 14110.2809, train_label_loss: 0.5738, \n"
     ]
    },
    {
     "name": "stdout",
     "output_type": "stream",
     "text": [
      "epoch: 9, [batch: 4900 / 7000], examples_per_second: 14046.0579, train_label_loss: 0.3827, \n"
     ]
    },
    {
     "name": "stdout",
     "output_type": "stream",
     "text": [
      "epoch: 9, [batch: 5600 / 7000], examples_per_second: 14141.1370, train_label_loss: 0.5276, \n"
     ]
    },
    {
     "name": "stdout",
     "output_type": "stream",
     "text": [
      "epoch: 9, [batch: 6300 / 7000], examples_per_second: 16300.1287, train_label_loss: 0.3690, \n"
     ]
    },
    {
     "name": "stdout",
     "output_type": "stream",
     "text": [
      "=============================================================\n",
      "epoch: 9, source_val_acc_label: 0.7714, source_val_label_loss: 0.6322, target_val_acc_label: 0.5953, target_val_label_loss: 1.4837, \n",
      "=============================================================\n"
     ]
    },
    {
     "name": "stdout",
     "output_type": "stream",
     "text": [
      "New best\n",
      "epoch: 10, [batch: 1 / 7000], examples_per_second: 14.5513, train_label_loss: 0.5654, \n"
     ]
    },
    {
     "name": "stdout",
     "output_type": "stream",
     "text": [
      "epoch: 10, [batch: 700 / 7000], examples_per_second: 12401.7145, train_label_loss: 0.3951, \n"
     ]
    },
    {
     "name": "stdout",
     "output_type": "stream",
     "text": [
      "epoch: 10, [batch: 1400 / 7000], examples_per_second: 12095.9601, train_label_loss: 0.4062, \n"
     ]
    },
    {
     "name": "stdout",
     "output_type": "stream",
     "text": [
      "epoch: 10, [batch: 2100 / 7000], examples_per_second: 12688.1404, train_label_loss: 0.4425, \n"
     ]
    },
    {
     "name": "stdout",
     "output_type": "stream",
     "text": [
      "epoch: 10, [batch: 2800 / 7000], examples_per_second: 12671.4984, train_label_loss: 0.3000, \n"
     ]
    },
    {
     "name": "stdout",
     "output_type": "stream",
     "text": [
      "epoch: 10, [batch: 3500 / 7000], examples_per_second: 12563.5563, train_label_loss: 0.4125, \n"
     ]
    },
    {
     "name": "stdout",
     "output_type": "stream",
     "text": [
      "epoch: 10, [batch: 4200 / 7000], examples_per_second: 12727.8219, train_label_loss: 0.3681, \n"
     ]
    },
    {
     "name": "stdout",
     "output_type": "stream",
     "text": [
      "epoch: 10, [batch: 4900 / 7000], examples_per_second: 12753.0433, train_label_loss: 0.5154, \n"
     ]
    },
    {
     "name": "stdout",
     "output_type": "stream",
     "text": [
      "epoch: 10, [batch: 5600 / 7000], examples_per_second: 12713.6790, train_label_loss: 0.3113, \n"
     ]
    },
    {
     "name": "stdout",
     "output_type": "stream",
     "text": [
      "epoch: 10, [batch: 6300 / 7000], examples_per_second: 12630.9754, train_label_loss: 0.4598, \n"
     ]
    },
    {
     "name": "stdout",
     "output_type": "stream",
     "text": [
      "=============================================================\n",
      "epoch: 10, source_val_acc_label: 0.7220, source_val_label_loss: 0.8278, target_val_acc_label: 0.5658, target_val_label_loss: 1.7528, \n",
      "=============================================================\n"
     ]
    },
    {
     "name": "stdout",
     "output_type": "stream",
     "text": [
      "epoch: 11, [batch: 1 / 7000], examples_per_second: 14.4060, train_label_loss: 0.2736, \n"
     ]
    },
    {
     "name": "stdout",
     "output_type": "stream",
     "text": [
      "epoch: 11, [batch: 700 / 7000], examples_per_second: 12633.0235, train_label_loss: 0.4064, \n"
     ]
    },
    {
     "name": "stdout",
     "output_type": "stream",
     "text": [
      "epoch: 11, [batch: 1400 / 7000], examples_per_second: 12583.5797, train_label_loss: 0.3470, \n"
     ]
    },
    {
     "name": "stdout",
     "output_type": "stream",
     "text": [
      "epoch: 11, [batch: 2100 / 7000], examples_per_second: 12857.9336, train_label_loss: 0.3379, \n"
     ]
    },
    {
     "name": "stdout",
     "output_type": "stream",
     "text": [
      "epoch: 11, [batch: 2800 / 7000], examples_per_second: 12776.5237, train_label_loss: 0.2663, \n"
     ]
    },
    {
     "name": "stdout",
     "output_type": "stream",
     "text": [
      "epoch: 11, [batch: 3500 / 7000], examples_per_second: 12792.1043, train_label_loss: 0.3737, \n"
     ]
    },
    {
     "name": "stdout",
     "output_type": "stream",
     "text": [
      "epoch: 11, [batch: 4200 / 7000], examples_per_second: 12724.5915, train_label_loss: 0.3049, \n"
     ]
    },
    {
     "name": "stdout",
     "output_type": "stream",
     "text": [
      "epoch: 11, [batch: 4900 / 7000], examples_per_second: 12451.2685, train_label_loss: 0.3193, \n"
     ]
    },
    {
     "name": "stdout",
     "output_type": "stream",
     "text": [
      "epoch: 11, [batch: 5600 / 7000], examples_per_second: 12674.1603, train_label_loss: 0.2442, \n"
     ]
    },
    {
     "name": "stdout",
     "output_type": "stream",
     "text": [
      "epoch: 11, [batch: 6300 / 7000], examples_per_second: 12580.3079, train_label_loss: 0.4927, \n"
     ]
    },
    {
     "name": "stdout",
     "output_type": "stream",
     "text": [
      "=============================================================\n",
      "epoch: 11, source_val_acc_label: 0.7778, source_val_label_loss: 0.6204, target_val_acc_label: 0.6020, target_val_label_loss: 1.5178, \n",
      "=============================================================\n"
     ]
    },
    {
     "name": "stdout",
     "output_type": "stream",
     "text": [
      "New best\n",
      "epoch: 12, [batch: 1 / 7000], examples_per_second: 11.6915, train_label_loss: 0.2521, \n"
     ]
    },
    {
     "name": "stdout",
     "output_type": "stream",
     "text": [
      "epoch: 12, [batch: 700 / 7000], examples_per_second: 10578.6325, train_label_loss: 0.1890, \n"
     ]
    },
    {
     "name": "stdout",
     "output_type": "stream",
     "text": [
      "epoch: 12, [batch: 1400 / 7000], examples_per_second: 10685.7566, train_label_loss: 0.2713, \n"
     ]
    },
    {
     "name": "stdout",
     "output_type": "stream",
     "text": [
      "epoch: 12, [batch: 2100 / 7000], examples_per_second: 10696.4350, train_label_loss: 0.3409, \n"
     ]
    },
    {
     "name": "stdout",
     "output_type": "stream",
     "text": [
      "epoch: 12, [batch: 2800 / 7000], examples_per_second: 10651.3897, train_label_loss: 0.2561, \n"
     ]
    },
    {
     "name": "stdout",
     "output_type": "stream",
     "text": [
      "epoch: 12, [batch: 3500 / 7000], examples_per_second: 10674.1271, train_label_loss: 0.2263, \n"
     ]
    },
    {
     "name": "stdout",
     "output_type": "stream",
     "text": [
      "epoch: 12, [batch: 4200 / 7000], examples_per_second: 10707.3669, train_label_loss: 0.2556, \n"
     ]
    },
    {
     "name": "stdout",
     "output_type": "stream",
     "text": [
      "epoch: 12, [batch: 4900 / 7000], examples_per_second: 11424.7904, train_label_loss: 0.4080, \n"
     ]
    },
    {
     "name": "stdout",
     "output_type": "stream",
     "text": [
      "epoch: 12, [batch: 5600 / 7000], examples_per_second: 11752.3965, train_label_loss: 0.2325, \n"
     ]
    },
    {
     "name": "stdout",
     "output_type": "stream",
     "text": [
      "epoch: 12, [batch: 6300 / 7000], examples_per_second: 11711.8644, train_label_loss: 0.3305, \n"
     ]
    },
    {
     "name": "stdout",
     "output_type": "stream",
     "text": [
      "=============================================================\n",
      "epoch: 12, source_val_acc_label: 0.7648, source_val_label_loss: 0.6755, target_val_acc_label: 0.5921, target_val_label_loss: 1.6041, \n",
      "=============================================================\n"
     ]
    },
    {
     "name": "stdout",
     "output_type": "stream",
     "text": [
      "epoch: 13, [batch: 1 / 7000], examples_per_second: 13.2109, train_label_loss: 0.5416, \n"
     ]
    },
    {
     "name": "stdout",
     "output_type": "stream",
     "text": [
      "epoch: 13, [batch: 700 / 7000], examples_per_second: 11754.0972, train_label_loss: 0.1946, \n"
     ]
    },
    {
     "name": "stdout",
     "output_type": "stream",
     "text": [
      "epoch: 13, [batch: 1400 / 7000], examples_per_second: 11718.3280, train_label_loss: 0.2322, \n"
     ]
    },
    {
     "name": "stdout",
     "output_type": "stream",
     "text": [
      "epoch: 13, [batch: 2100 / 7000], examples_per_second: 11704.9545, train_label_loss: 0.3204, \n"
     ]
    },
    {
     "name": "stdout",
     "output_type": "stream",
     "text": [
      "epoch: 13, [batch: 2800 / 7000], examples_per_second: 11675.2874, train_label_loss: 0.2169, \n"
     ]
    },
    {
     "name": "stdout",
     "output_type": "stream",
     "text": [
      "epoch: 13, [batch: 3500 / 7000], examples_per_second: 12270.2425, train_label_loss: 0.1965, \n"
     ]
    },
    {
     "name": "stdout",
     "output_type": "stream",
     "text": [
      "epoch: 13, [batch: 4200 / 7000], examples_per_second: 10638.3798, train_label_loss: 0.2343, \n"
     ]
    },
    {
     "name": "stdout",
     "output_type": "stream",
     "text": [
      "epoch: 13, [batch: 4900 / 7000], examples_per_second: 10657.5240, train_label_loss: 0.1943, \n"
     ]
    },
    {
     "name": "stdout",
     "output_type": "stream",
     "text": [
      "epoch: 13, [batch: 5600 / 7000], examples_per_second: 10715.9194, train_label_loss: 0.2584, \n"
     ]
    },
    {
     "name": "stdout",
     "output_type": "stream",
     "text": [
      "epoch: 13, [batch: 6300 / 7000], examples_per_second: 10697.3499, train_label_loss: 0.3015, \n"
     ]
    },
    {
     "name": "stdout",
     "output_type": "stream",
     "text": [
      "=============================================================\n",
      "epoch: 13, source_val_acc_label: 0.7805, source_val_label_loss: 0.6535, target_val_acc_label: 0.5969, target_val_label_loss: 1.6580, \n",
      "=============================================================\n"
     ]
    },
    {
     "name": "stdout",
     "output_type": "stream",
     "text": [
      "epoch: 14, [batch: 1 / 7000], examples_per_second: 11.5013, train_label_loss: 0.1511, \n"
     ]
    },
    {
     "name": "stdout",
     "output_type": "stream",
     "text": [
      "epoch: 14, [batch: 700 / 7000], examples_per_second: 10717.9566, train_label_loss: 0.1473, \n"
     ]
    },
    {
     "name": "stdout",
     "output_type": "stream",
     "text": [
      "epoch: 14, [batch: 1400 / 7000], examples_per_second: 10659.2941, train_label_loss: 0.3118, \n"
     ]
    },
    {
     "name": "stdout",
     "output_type": "stream",
     "text": [
      "epoch: 14, [batch: 2100 / 7000], examples_per_second: 10705.6976, train_label_loss: 0.4510, \n"
     ]
    },
    {
     "name": "stdout",
     "output_type": "stream",
     "text": [
      "epoch: 14, [batch: 2800 / 7000], examples_per_second: 10677.4737, train_label_loss: 0.1721, \n"
     ]
    },
    {
     "name": "stdout",
     "output_type": "stream",
     "text": [
      "epoch: 14, [batch: 3500 / 7000], examples_per_second: 10711.1121, train_label_loss: 0.2516, \n"
     ]
    },
    {
     "name": "stdout",
     "output_type": "stream",
     "text": [
      "epoch: 14, [batch: 4200 / 7000], examples_per_second: 10721.9437, train_label_loss: 0.5771, \n"
     ]
    },
    {
     "name": "stdout",
     "output_type": "stream",
     "text": [
      "epoch: 14, [batch: 4900 / 7000], examples_per_second: 10657.8150, train_label_loss: 0.2003, \n"
     ]
    },
    {
     "name": "stdout",
     "output_type": "stream",
     "text": [
      "epoch: 14, [batch: 5600 / 7000], examples_per_second: 10720.6267, train_label_loss: 0.2507, \n"
     ]
    },
    {
     "name": "stdout",
     "output_type": "stream",
     "text": [
      "epoch: 14, [batch: 6300 / 7000], examples_per_second: 11317.0494, train_label_loss: 0.2864, \n"
     ]
    },
    {
     "name": "stdout",
     "output_type": "stream",
     "text": [
      "=============================================================\n",
      "epoch: 14, source_val_acc_label: 0.7644, source_val_label_loss: 0.7095, target_val_acc_label: 0.5959, target_val_label_loss: 1.7208, \n",
      "=============================================================\n"
     ]
    },
    {
     "name": "stdout",
     "output_type": "stream",
     "text": [
      "epoch: 15, [batch: 1 / 7000], examples_per_second: 13.1272, train_label_loss: 0.3785, \n"
     ]
    },
    {
     "name": "stdout",
     "output_type": "stream",
     "text": [
      "epoch: 15, [batch: 700 / 7000], examples_per_second: 11835.4541, train_label_loss: 0.1435, \n"
     ]
    },
    {
     "name": "stdout",
     "output_type": "stream",
     "text": [
      "epoch: 15, [batch: 1400 / 7000], examples_per_second: 11754.4760, train_label_loss: 0.2351, \n"
     ]
    },
    {
     "name": "stdout",
     "output_type": "stream",
     "text": [
      "epoch: 15, [batch: 2100 / 7000], examples_per_second: 11720.8271, train_label_loss: 0.1105, \n"
     ]
    },
    {
     "name": "stdout",
     "output_type": "stream",
     "text": [
      "epoch: 15, [batch: 2800 / 7000], examples_per_second: 11744.7537, train_label_loss: 0.2305, \n"
     ]
    },
    {
     "name": "stdout",
     "output_type": "stream",
     "text": [
      "epoch: 15, [batch: 3500 / 7000], examples_per_second: 11680.6152, train_label_loss: 0.1432, \n"
     ]
    },
    {
     "name": "stdout",
     "output_type": "stream",
     "text": [
      "epoch: 15, [batch: 4200 / 7000], examples_per_second: 11745.8421, train_label_loss: 0.1905, \n"
     ]
    },
    {
     "name": "stdout",
     "output_type": "stream",
     "text": [
      "epoch: 15, [batch: 4900 / 7000], examples_per_second: 12353.9986, train_label_loss: 0.3933, \n"
     ]
    },
    {
     "name": "stdout",
     "output_type": "stream",
     "text": [
      "epoch: 15, [batch: 5600 / 7000], examples_per_second: 10716.7047, train_label_loss: 0.3945, \n"
     ]
    },
    {
     "name": "stdout",
     "output_type": "stream",
     "text": [
      "epoch: 15, [batch: 6300 / 7000], examples_per_second: 10628.9390, train_label_loss: 0.4132, \n"
     ]
    },
    {
     "name": "stdout",
     "output_type": "stream",
     "text": [
      "=============================================================\n",
      "epoch: 15, source_val_acc_label: 0.7377, source_val_label_loss: 0.8755, target_val_acc_label: 0.5505, target_val_label_loss: 2.2576, \n",
      "=============================================================\n"
     ]
    },
    {
     "name": "stdout",
     "output_type": "stream",
     "text": [
      "Patience (3) exhausted\n"
     ]
    }
   ],
   "source": [
    "jig = Vanilla_Train_Eval_Test_Jig(\n",
    "    model=model,\n",
    "    path_to_best_model=p.BEST_MODEL_PATH,\n",
    "    device=p.device,\n",
    "    label_loss_object=torch.nn.NLLLoss(),\n",
    ")\n",
    "\n",
    "jig.train(\n",
    "    train_iterable=datasets.source.processed.train,\n",
    "    source_val_iterable=datasets.source.processed.val,\n",
    "    target_val_iterable=datasets.target.processed.val,\n",
    "    patience=p.patience,\n",
    "    num_epochs=p.n_epoch,\n",
    "    num_logs_per_epoch=p.NUM_LOGS_PER_EPOCH,\n",
    "    criteria_for_best=p.criteria_for_best\n",
    ")"
   ]
  },
  {
   "cell_type": "code",
   "execution_count": 14,
   "id": "4bc2ac17",
   "metadata": {
    "execution": {
     "iopub.execute_input": "2022-03-28T00:19:15.486873Z",
     "iopub.status.busy": "2022-03-28T00:19:15.486461Z",
     "iopub.status.idle": "2022-03-28T00:19:15.489069Z",
     "shell.execute_reply": "2022-03-28T00:19:15.488725Z"
    },
    "papermill": {
     "duration": 0.068561,
     "end_time": "2022-03-28T00:19:15.489161",
     "exception": false,
     "start_time": "2022-03-28T00:19:15.420600",
     "status": "completed"
    },
    "tags": []
   },
   "outputs": [],
   "source": [
    "total_experiment_time_secs = time.time() - start_time_secs"
   ]
  },
  {
   "cell_type": "code",
   "execution_count": 15,
   "id": "cae88f23",
   "metadata": {
    "execution": {
     "iopub.execute_input": "2022-03-28T00:19:15.626843Z",
     "iopub.status.busy": "2022-03-28T00:19:15.625944Z",
     "iopub.status.idle": "2022-03-28T00:21:08.248525Z",
     "shell.execute_reply": "2022-03-28T00:21:08.248872Z"
    },
    "papermill": {
     "duration": 112.695944,
     "end_time": "2022-03-28T00:21:08.249008",
     "exception": false,
     "start_time": "2022-03-28T00:19:15.553064",
     "status": "completed"
    },
    "tags": []
   },
   "outputs": [],
   "source": [
    "source_test_label_accuracy, source_test_label_loss = jig.test(datasets.source.processed.test)\n",
    "target_test_label_accuracy, target_test_label_loss = jig.test(datasets.target.processed.test)\n",
    "\n",
    "source_val_label_accuracy, source_val_label_loss = jig.test(datasets.source.processed.val)\n",
    "target_val_label_accuracy, target_val_label_loss = jig.test(datasets.target.processed.val)\n",
    "\n",
    "history = jig.get_history()\n",
    "\n",
    "total_epochs_trained = len(history[\"epoch_indices\"])\n",
    "\n",
    "val_dl = wrap_in_dataloader(p, Sequence_Aggregator((datasets.source.original.val, datasets.target.original.val)))\n",
    "\n",
    "confusion = confusion_by_domain_over_dataloader(model, p.device, val_dl, forward_uses_domain=False)\n",
    "per_domain_accuracy = per_domain_accuracy_from_confusion(confusion)\n",
    "\n",
    "# Add a key to per_domain_accuracy for if it was a source domain\n",
    "for domain, accuracy in per_domain_accuracy.items():\n",
    "    per_domain_accuracy[domain] = {\n",
    "        \"accuracy\": accuracy,\n",
    "        \"source?\": domain in p.domains_source\n",
    "    }\n",
    "\n",
    "# Do an independent accuracy assesment JUST TO BE SURE!\n",
    "# _source_test_label_accuracy = independent_accuracy_assesment(model, datasets.source.processed.test, p.device)\n",
    "# _target_test_label_accuracy = independent_accuracy_assesment(model, datasets.target.processed.test, p.device)\n",
    "# _source_val_label_accuracy = independent_accuracy_assesment(model, datasets.source.processed.val, p.device)\n",
    "# _target_val_label_accuracy = independent_accuracy_assesment(model, datasets.target.processed.val, p.device)\n",
    "\n",
    "# assert(_source_test_label_accuracy == source_test_label_accuracy)\n",
    "# assert(_target_test_label_accuracy == target_test_label_accuracy)\n",
    "# assert(_source_val_label_accuracy == source_val_label_accuracy)\n",
    "# assert(_target_val_label_accuracy == target_val_label_accuracy)\n",
    "\n",
    "###################################\n",
    "# Write out the results\n",
    "###################################\n",
    "\n",
    "experiment = {\n",
    "    \"experiment_name\": p.experiment_name,\n",
    "    \"parameters\": p,\n",
    "    \"results\": {\n",
    "        \"source_test_label_accuracy\": source_test_label_accuracy,\n",
    "        \"source_test_label_loss\": source_test_label_loss,\n",
    "        \"target_test_label_accuracy\": target_test_label_accuracy,\n",
    "        \"target_test_label_loss\": target_test_label_loss,\n",
    "        \"source_val_label_accuracy\": source_val_label_accuracy,\n",
    "        \"source_val_label_loss\": source_val_label_loss,\n",
    "        \"target_val_label_accuracy\": target_val_label_accuracy,\n",
    "        \"target_val_label_loss\": target_val_label_loss,\n",
    "        \"total_epochs_trained\": total_epochs_trained,\n",
    "        \"total_experiment_time_secs\": total_experiment_time_secs,\n",
    "        \"confusion\": confusion,\n",
    "        \"per_domain_accuracy\": per_domain_accuracy,\n",
    "    },\n",
    "    \"history\": history,\n",
    "    \"dataset_metrics\": get_dataset_metrics(datasets, \"cnn\"),\n",
    "}"
   ]
  },
  {
   "cell_type": "code",
   "execution_count": 16,
   "id": "74c318cf",
   "metadata": {
    "execution": {
     "iopub.execute_input": "2022-03-28T00:21:08.404388Z",
     "iopub.status.busy": "2022-03-28T00:21:08.402067Z",
     "iopub.status.idle": "2022-03-28T00:21:08.645730Z",
     "shell.execute_reply": "2022-03-28T00:21:08.646414Z"
    },
    "papermill": {
     "duration": 0.326908,
     "end_time": "2022-03-28T00:21:08.646628",
     "exception": false,
     "start_time": "2022-03-28T00:21:08.319720",
     "status": "completed"
    },
    "tags": []
   },
   "outputs": [
    {
     "data": {
      "text/plain": [
       "<AxesSubplot:title={'center':'Source Train Label Loss vs Source Val Label Loss'}, xlabel='Epoch'>"
      ]
     },
     "execution_count": 16,
     "metadata": {},
     "output_type": "execute_result"
    },
    {
     "data": {
      "image/png": "[encoded data removed]",
      "text/plain": [
       "<Figure size 1080x504 with 1 Axes>"
      ]
     },
     "metadata": {
      "needs_background": "light"
     },
     "output_type": "display_data"
    }
   ],
   "source": [
    "get_loss_curve(experiment)"
   ]
  },
  {
   "cell_type": "code",
   "execution_count": 17,
   "id": "59376601",
   "metadata": {
    "execution": {
     "iopub.execute_input": "2022-03-28T00:21:08.790895Z",
     "iopub.status.busy": "2022-03-28T00:21:08.788896Z",
     "iopub.status.idle": "2022-03-28T00:21:09.082166Z",
     "shell.execute_reply": "2022-03-28T00:21:09.082944Z"
    },
    "papermill": {
     "duration": 0.365483,
     "end_time": "2022-03-28T00:21:09.083157",
     "exception": false,
     "start_time": "2022-03-28T00:21:08.717674",
     "status": "completed"
    },
    "tags": []
   },
   "outputs": [
    {
     "data": {
      "text/plain": [
       "<AxesSubplot:title={'center':'Results'}>"
      ]
     },
     "execution_count": 17,
     "metadata": {},
     "output_type": "execute_result"
    },
    {
     "data": {
      "image/png": "[encoded data removed]",
      "text/plain": [
       "<Figure size 1080x504 with 1 Axes>"
      ]
     },
     "metadata": {
      "needs_background": "light"
     },
     "output_type": "display_data"
    }
   ],
   "source": [
    "get_results_table(experiment)"
   ]
  },
  {
   "cell_type": "code",
   "execution_count": 18,
   "id": "e80c5c98",
   "metadata": {
    "execution": {
     "iopub.execute_input": "2022-03-28T00:21:09.231559Z",
     "iopub.status.busy": "2022-03-28T00:21:09.229635Z",
     "iopub.status.idle": "2022-03-28T00:21:09.408585Z",
     "shell.execute_reply": "2022-03-28T00:21:09.409257Z"
    },
    "papermill": {
     "duration": 0.255716,
     "end_time": "2022-03-28T00:21:09.409473",
     "exception": false,
     "start_time": "2022-03-28T00:21:09.153757",
     "status": "completed"
    },
    "tags": []
   },
   "outputs": [
    {
     "data": {
      "text/plain": [
       "<AxesSubplot:title={'center':'Per Domain Accuracy'}, xlabel='domain'>"
      ]
     },
     "execution_count": 18,
     "metadata": {},
     "output_type": "execute_result"
    },
    {
     "data": {
      "image/png": "[encoded data removed]",
      "text/plain": [
       "<Figure size 1080x504 with 1 Axes>"
      ]
     },
     "metadata": {
      "needs_background": "light"
     },
     "output_type": "display_data"
    }
   ],
   "source": [
    "get_domain_accuracies(experiment)"
   ]
  },
  {
   "cell_type": "code",
   "execution_count": 19,
   "id": "086fdd10",
   "metadata": {
    "execution": {
     "iopub.execute_input": "2022-03-28T00:21:09.550470Z",
     "iopub.status.busy": "2022-03-28T00:21:09.549833Z",
     "iopub.status.idle": "2022-03-28T00:21:09.552041Z",
     "shell.execute_reply": "2022-03-28T00:21:09.552556Z"
    },
    "papermill": {
     "duration": 0.074193,
     "end_time": "2022-03-28T00:21:09.552705",
     "exception": false,
     "start_time": "2022-03-28T00:21:09.478512",
     "status": "completed"
    },
    "tags": []
   },
   "outputs": [
    {
     "name": "stdout",
     "output_type": "stream",
     "text": [
      "Source Test Label Accuracy: 0.7793854166666667 Target Test Label Accuracy: 0.6007083333333333\n",
      "Source Val Label Accuracy: 0.777796875 Target Val Label Accuracy: 0.602015625\n"
     ]
    }
   ],
   "source": [
    "print(\"Source Test Label Accuracy:\", experiment[\"results\"][\"source_test_label_accuracy\"], \"Target Test Label Accuracy:\", experiment[\"results\"][\"target_test_label_accuracy\"])\n",
    "print(\"Source Val Label Accuracy:\", experiment[\"results\"][\"source_val_label_accuracy\"], \"Target Val Label Accuracy:\", experiment[\"results\"][\"target_val_label_accuracy\"])"
   ]
  },
  {
   "cell_type": "code",
   "execution_count": 20,
   "id": "9f450536",
   "metadata": {
    "execution": {
     "iopub.execute_input": "2022-03-28T00:21:09.690842Z",
     "iopub.status.busy": "2022-03-28T00:21:09.690478Z",
     "iopub.status.idle": "2022-03-28T00:21:09.693667Z",
     "shell.execute_reply": "2022-03-28T00:21:09.693968Z"
    },
    "papermill": {
     "duration": 0.073679,
     "end_time": "2022-03-28T00:21:09.694052",
     "exception": false,
     "start_time": "2022-03-28T00:21:09.620373",
     "status": "completed"
    },
    "tags": [
     "experiment_json"
    ]
   },
   "outputs": [
    {
     "data": {
      "text/plain": [
       "'{\"experiment_name\": \"cnn_3:oracle.run1-oracle.run2\", \"parameters\": {\"experiment_name\": \"cnn_3:oracle.run1-oracle.run2\", \"domains_source\": [8, 32, 50, 14, 20, 26, 38, 44], \"domains_target\": [8, 32, 50, 14, 20, 26, 38, 44], \"labels\": [\"3123D52\", \"3123D65\", \"3123D79\", \"3123D80\", \"3123D54\", \"3123D70\", \"3123D7B\", \"3123D89\", \"3123D58\", \"3123D76\", \"3123D7D\", \"3123EFE\", \"3123D64\", \"3123D78\", \"3123D7E\", \"3124E4A\"], \"pickle_name_source\": \"oracle.Run1_10kExamples_stratified_ds.2022A.pkl\", \"pickle_name_target\": \"oracle.Run2_10kExamples_stratified_ds.2022A.pkl\", \"device\": \"cuda\", \"lr\": 0.0001, \"batch_size\": 128, \"normalize_source\": false, \"normalize_target\": false, \"num_examples_per_domain_per_label_source\": -1, \"num_examples_per_domain_per_label_target\": -1, \"torch_default_dtype\": \"torch.float32\", \"n_epoch\": 50, \"patience\": 3, \"criteria_for_best\": \"target_accuracy\", \"x_net\": [{\"class\": \"nnReshape\", \"kargs\": {\"shape\": [-1, 1, 2, 256]}}, {\"class\": \"Conv2d\", \"kargs\": {\"in_channels\": 1, \"out_channels\": 256, \"kernel_size\": [1, 7], \"bias\": false, \"padding\": [0, 3]}}, {\"class\": \"ReLU\", \"kargs\": {\"inplace\": true}}, {\"class\": \"BatchNorm2d\", \"kargs\": {\"num_features\": 256}}, {\"class\": \"Conv2d\", \"kargs\": {\"in_channels\": 256, \"out_channels\": 80, \"kernel_size\": [2, 7], \"bias\": true, \"padding\": [0, 3]}}, {\"class\": \"ReLU\", \"kargs\": {\"inplace\": true}}, {\"class\": \"BatchNorm2d\", \"kargs\": {\"num_features\": 80}}, {\"class\": \"Flatten\", \"kargs\": {}}, {\"class\": \"Linear\", \"kargs\": {\"in_features\": 20480, \"out_features\": 256}}, {\"class\": \"ReLU\", \"kargs\": {\"inplace\": true}}, {\"class\": \"BatchNorm1d\", \"kargs\": {\"num_features\": 256}}, {\"class\": \"Linear\", \"kargs\": {\"in_features\": 256, \"out_features\": 16}}], \"NUM_LOGS_PER_EPOCH\": 10, \"BEST_MODEL_PATH\": \"./best_model.pth\", \"dataset_seed\": 1337, \"seed\": 1337}, \"results\": {\"source_test_label_accuracy\": 0.7793854166666667, \"source_test_label_loss\": 0.6217376735607782, \"target_test_label_accuracy\": 0.6007083333333333, \"target_test_label_loss\": 1.5114049400091172, \"source_val_label_accuracy\": 0.777796875, \"source_val_label_loss\": 0.620376459479332, \"target_val_label_accuracy\": 0.602015625, \"target_val_label_loss\": 1.517766099413236, \"total_epochs_trained\": 15, \"total_experiment_time_secs\": 1378.0416066646576, \"confusion\": {\"14\": {\"2\": {\"2\": 1691, \"14\": 623, \"4\": 159, \"6\": 103, \"5\": 179, \"10\": 11, \"3\": 157, \"13\": 61, \"0\": 12, \"11\": 4}, \"12\": {\"12\": 2176, \"9\": 107, \"8\": 39, \"6\": 92, \"13\": 33, \"2\": 107, \"7\": 30, \"3\": 117, \"5\": 20, \"0\": 178, \"14\": 33, \"4\": 3, \"15\": 31, \"11\": 31, \"10\": 3}, \"0\": {\"8\": 49, \"0\": 2481, \"10\": 104, \"14\": 19, \"3\": 148, \"11\": 79, \"2\": 43, \"13\": 38, \"9\": 19, \"4\": 19, \"7\": 1}, \"1\": {\"1\": 2845, \"7\": 49, \"11\": 71, \"2\": 27, \"0\": 1, \"4\": 7}, \"15\": {\"15\": 2949, \"13\": 43, \"5\": 4, \"11\": 4}, \"9\": {\"9\": 2902, \"11\": 46, \"5\": 4, \"0\": 20, \"1\": 2, \"13\": 15, \"12\": 6, \"15\": 4, \"8\": 1}, \"10\": {\"10\": 1244, \"3\": 1321, \"4\": 286, \"0\": 32, \"2\": 72, \"13\": 3, \"8\": 11, \"7\": 1, \"15\": 8, \"12\": 4, \"14\": 7, \"9\": 6, \"11\": 4, \"5\": 1}, \"8\": {\"8\": 2872, \"11\": 119, \"13\": 5, \"9\": 4}, \"6\": {\"6\": 1666, \"13\": 844, \"2\": 125, \"3\": 136, \"14\": 218, \"4\": 4, \"7\": 7}, \"14\": {\"14\": 2116, \"13\": 257, \"3\": 55, \"2\": 367, \"4\": 79, \"6\": 106, \"0\": 12, \"5\": 4, \"10\": 4}, \"11\": {\"7\": 922, \"11\": 1708, \"13\": 93, \"6\": 220, \"0\": 2, \"4\": 28, \"2\": 14, \"12\": 4, \"8\": 3, \"15\": 6}, \"13\": {\"13\": 1108, \"6\": 1309, \"14\": 328, \"3\": 45, \"2\": 136, \"4\": 22, \"10\": 31, \"15\": 17, \"7\": 3, \"5\": 1}, \"3\": {\"3\": 2725, \"2\": 34, \"0\": 219, \"13\": 7, \"5\": 8, \"14\": 7}, \"7\": {\"7\": 2833, \"5\": 156, \"2\": 11}, \"4\": {\"4\": 2637, \"2\": 112, \"11\": 131, \"5\": 85, \"10\": 24, \"1\": 3, \"14\": 2, \"7\": 5, \"13\": 1}, \"5\": {\"5\": 1822, \"4\": 692, \"2\": 285, \"14\": 21, \"3\": 60, \"11\": 105, \"7\": 11, \"0\": 2, \"8\": 2}}, \"32\": {\"15\": {\"15\": 2839, \"2\": 50, \"8\": 97, \"9\": 5, \"5\": 1, \"7\": 7, \"10\": 1}, \"1\": {\"1\": 2916, \"3\": 1, \"8\": 83}, \"6\": {\"6\": 2928, \"11\": 72}, \"13\": {\"12\": 14, \"13\": 2226, \"4\": 244, \"3\": 398, \"11\": 111, \"2\": 3, \"14\": 2, \"15\": 1, \"8\": 1}, \"5\": {\"5\": 1395, \"9\": 99, \"7\": 777, \"1\": 190, \"0\": 360, \"12\": 24, \"8\": 44, \"11\": 27, \"2\": 43, \"14\": 20, \"4\": 5, \"3\": 9, \"10\": 7}, \"8\": {\"5\": 167, \"8\": 2331, \"3\": 53, \"0\": 341, \"1\": 23, \"12\": 6, \"2\": 33, \"14\": 26, \"15\": 2, \"4\": 2, \"13\": 5, \"7\": 11}, \"7\": {\"5\": 271, \"7\": 2121, \"14\": 429, \"3\": 46, \"1\": 11, \"2\": 30, \"4\": 8, \"0\": 65, \"12\": 10, \"8\": 9}, \"11\": {\"11\": 1767, \"13\": 340, \"14\": 326, \"2\": 51, \"4\": 291, \"3\": 192, \"15\": 8, \"6\": 12, \"8\": 3, \"5\": 3, \"0\": 3, \"7\": 4}, \"4\": {\"3\": 602, \"4\": 1715, \"13\": 320, \"8\": 21, \"2\": 286, \"11\": 3, \"14\": 33, \"0\": 5, \"6\": 7, \"7\": 4, \"5\": 4}, \"2\": {\"0\": 344, \"7\": 440, \"2\": 1766, \"4\": 230, \"14\": 138, \"3\": 24, \"6\": 24, \"5\": 24, \"12\": 6, \"13\": 2, \"8\": 2}, \"9\": {\"9\": 1746, \"14\": 771, \"1\": 168, \"2\": 157, \"6\": 155, \"5\": 1, \"12\": 1, \"0\": 1}, \"3\": {\"3\": 2444, \"12\": 304, \"13\": 232, \"8\": 1, \"14\": 1, \"15\": 6, \"11\": 12}, \"12\": {\"12\": 2845, \"0\": 70, \"11\": 17, \"1\": 2, \"9\": 15, \"2\": 8, \"10\": 37, \"15\": 4, \"6\": 2}, \"14\": {\"6\": 399, \"0\": 901, \"2\": 162, \"14\": 1136, \"5\": 20, \"7\": 324, \"3\": 19, \"9\": 23, \"12\": 7, \"8\": 5, \"11\": 1, \"1\": 2, \"4\": 1}, \"0\": {\"0\": 1949, \"5\": 117, \"8\": 260, \"3\": 139, \"7\": 195, \"14\": 206, \"2\": 72, \"4\": 33, \"13\": 4, \"6\": 20, \"9\": 1, \"11\": 3, \"1\": 1}, \"10\": {\"10\": 2998, \"12\": 2}}, \"8\": {\"12\": {\"12\": 1784, \"4\": 371, \"15\": 791, \"5\": 11, \"8\": 24, \"3\": 13, \"14\": 2, \"10\": 3, \"1\": 1}, \"1\": {\"5\": 165, \"1\": 2404, \"11\": 392, \"10\": 13, \"14\": 22, \"13\": 3, \"4\": 1}, \"11\": {\"1\": 314, \"8\": 1384, \"11\": 1196, \"4\": 43, \"5\": 15, \"10\": 33, \"6\": 2, \"12\": 5, \"13\": 1, \"14\": 7}, \"15\": {\"15\": 2726, \"12\": 200, \"5\": 30, \"3\": 30, \"1\": 6, \"2\": 5, \"8\": 1, \"0\": 2}, \"13\": {\"10\": 758, \"1\": 907, \"13\": 950, \"5\": 321, \"6\": 47, \"12\": 1, \"7\": 11, \"15\": 4, \"4\": 1}, \"4\": {\"4\": 1001, \"6\": 1015, \"7\": 408, \"13\": 80, \"14\": 291, \"1\": 98, \"10\": 67, \"11\": 31, \"8\": 6, \"5\": 3}, \"10\": {\"10\": 1964, \"13\": 281, \"1\": 90, \"5\": 649, \"14\": 8, \"6\": 6, \"11\": 1, \"4\": 1}, \"0\": {\"14\": 639, \"0\": 2341, \"5\": 12, \"11\": 4, \"6\": 2, \"10\": 1, \"4\": 1}, \"8\": {\"8\": 2915, \"11\": 66, \"4\": 4, \"6\": 6, \"1\": 7, \"7\": 1, \"14\": 1}, \"3\": {\"3\": 2701, \"0\": 126, \"2\": 141, \"10\": 16, \"4\": 13, \"15\": 2, \"8\": 1}, \"7\": {\"7\": 1200, \"6\": 1577, \"13\": 123, \"4\": 68, \"10\": 14, \"14\": 1, \"1\": 14, \"8\": 1, \"12\": 1, \"15\": 1}, \"9\": {\"9\": 2920, \"5\": 73, \"12\": 4, \"13\": 2, \"0\": 1}, \"2\": {\"1\": 563, \"0\": 199, \"15\": 725, \"2\": 482, \"12\": 88, \"3\": 305, \"5\": 592, \"9\": 25, \"7\": 8, \"13\": 5, \"10\": 4, \"4\": 1, \"8\": 3}, \"5\": {\"5\": 2269, \"10\": 621, \"1\": 97, \"13\": 10, \"11\": 1, \"14\": 1, \"4\": 1}, \"14\": {\"4\": 985, \"14\": 1761, \"6\": 47, \"11\": 64, \"5\": 17, \"1\": 69, \"10\": 43, \"8\": 2, \"13\": 5, \"9\": 2, \"0\": 4, \"7\": 1}, \"6\": {\"4\": 936, \"6\": 1400, \"13\": 39, \"7\": 231, \"14\": 176, \"8\": 101, \"10\": 45, \"1\": 40, \"11\": 19, \"0\": 12, \"5\": 1}}, \"20\": {\"4\": {\"4\": 1160, \"12\": 1578, \"7\": 24, \"5\": 46, \"3\": 41, \"15\": 89, \"8\": 19, \"10\": 20, \"1\": 11, \"2\": 5, \"9\": 6, \"14\": 1}, \"12\": {\"12\": 1719, \"2\": 406, \"7\": 117, \"15\": 304, \"1\": 219, \"5\": 67, \"13\": 59, \"9\": 58, \"10\": 3, \"6\": 4, \"3\": 33, \"4\": 9, \"11\": 2}, \"3\": {\"9\": 284, \"5\": 443, \"3\": 564, \"12\": 582, \"2\": 513, \"7\": 234, \"10\": 23, \"1\": 174, \"4\": 82, \"15\": 81, \"13\": 7, \"11\": 2, \"0\": 5, \"8\": 5, \"6\": 1}, \"15\": {\"15\": 1854, \"2\": 147, \"1\": 324, \"9\": 115, \"13\": 162, \"5\": 141, \"3\": 5, \"12\": 236, \"7\": 12, \"11\": 2, \"0\": 1, \"4\": 1}, \"6\": {\"6\": 1870, \"4\": 139, \"7\": 153, \"10\": 619, \"12\": 6, \"14\": 178, \"8\": 6, \"2\": 26, \"11\": 1, \"0\": 2}, \"5\": {\"5\": 1588, \"12\": 216, \"0\": 41, \"9\": 91, \"1\": 270, \"15\": 216, \"2\": 248, \"3\": 174, \"4\": 16, \"7\": 120, \"13\": 16, \"8\": 3, \"11\": 1}, \"8\": {\"8\": 2180, \"14\": 144, \"2\": 85, \"0\": 85, \"3\": 197, \"12\": 74, \"5\": 89, \"4\": 52, \"15\": 72, \"7\": 13, \"9\": 4, \"10\": 4, \"11\": 1}, \"13\": {\"13\": 2319, \"15\": 455, \"12\": 35, \"2\": 161, \"7\": 18, \"1\": 4, \"11\": 5, \"9\": 3}, \"2\": {\"2\": 844, \"12\": 584, \"15\": 302, \"9\": 550, \"13\": 107, \"1\": 207, \"3\": 93, \"5\": 158, \"7\": 135, \"4\": 14, \"10\": 2, \"11\": 4}, \"14\": {\"12\": 292, \"14\": 2160, \"8\": 470, \"10\": 16, \"15\": 13, \"6\": 6, \"4\": 34, \"2\": 4, \"3\": 5}, \"1\": {\"1\": 1404, \"5\": 776, \"12\": 112, \"2\": 72, \"15\": 471, \"9\": 102, \"3\": 59, \"0\": 3, \"13\": 1}, \"0\": {\"0\": 2608, \"5\": 219, \"2\": 137, \"1\": 11, \"3\": 9, \"8\": 4, \"9\": 7, \"15\": 5}, \"7\": {\"4\": 547, \"7\": 1558, \"2\": 434, \"6\": 58, \"12\": 146, \"3\": 58, \"9\": 100, \"10\": 13, \"13\": 15, \"11\": 19, \"14\": 1, \"1\": 9, \"8\": 15, \"5\": 21, \"15\": 6}, \"9\": {\"2\": 450, \"1\": 476, \"9\": 889, \"12\": 588, \"15\": 208, \"7\": 14, \"3\": 194, \"5\": 161, \"10\": 5, \"13\": 15}, \"11\": {\"11\": 2943, \"0\": 12, \"9\": 31, \"13\": 3, \"10\": 2, \"4\": 3, \"3\": 1, \"8\": 2, \"1\": 3}, \"10\": {\"4\": 444, \"10\": 2428, \"12\": 99, \"6\": 18, \"7\": 5, \"14\": 4, \"2\": 1, \"8\": 1}}, \"50\": {\"8\": {\"8\": 2858, \"1\": 44, \"3\": 87, \"10\": 7, \"0\": 1, \"13\": 1, \"2\": 2}, \"15\": {\"15\": 1895, \"4\": 364, \"14\": 157, \"8\": 290, \"6\": 135, \"5\": 113, \"7\": 30, \"11\": 9, \"12\": 1, \"9\": 6}, \"3\": {\"3\": 2995, \"2\": 5}, \"12\": {\"9\": 546, \"12\": 2411, \"15\": 2, \"7\": 4, \"5\": 7, \"11\": 20, \"0\": 9, \"4\": 1}, \"7\": {\"7\": 2269, \"2\": 296, \"5\": 240, \"4\": 41, \"13\": 19, \"14\": 134, \"6\": 1}, \"1\": {\"15\": 861, \"1\": 1889, \"13\": 182, \"5\": 6, \"0\": 15, \"8\": 19, \"6\": 19, \"9\": 1, \"11\": 3, \"14\": 1, \"12\": 4}, \"9\": {\"9\": 2834, \"11\": 56, \"12\": 46, \"7\": 26, \"8\": 6, \"5\": 25, \"14\": 2, \"0\": 2, \"4\": 1, \"15\": 2}, \"5\": {\"8\": 115, \"5\": 1968, \"15\": 107, \"7\": 243, \"6\": 261, \"2\": 144, \"4\": 99, \"13\": 16, \"14\": 47}, \"4\": {\"7\": 373, \"0\": 108, \"13\": 66, \"5\": 857, \"4\": 1320, \"8\": 114, \"15\": 13, \"6\": 96, \"14\": 27, \"2\": 26}, \"6\": {\"5\": 543, \"6\": 2037, \"15\": 300, \"8\": 31, \"14\": 63, \"4\": 25, \"13\": 1}, \"10\": {\"10\": 2731, \"15\": 5, \"12\": 5, \"8\": 40, \"0\": 139, \"13\": 67, \"1\": 13}, \"2\": {\"2\": 2689, \"0\": 198, \"9\": 48, \"1\": 61, \"14\": 2, \"12\": 1, \"11\": 1}, \"0\": {\"2\": 288, \"0\": 2345, \"1\": 149, \"10\": 208, \"15\": 4, \"12\": 5, \"9\": 1}, \"13\": {\"13\": 2856, \"15\": 65, \"6\": 14, \"10\": 9, \"8\": 37, \"0\": 4, \"12\": 12, \"5\": 3}, \"11\": {\"11\": 2215, \"5\": 170, \"0\": 41, \"8\": 239, \"9\": 216, \"1\": 16, \"14\": 6, \"12\": 13, \"15\": 59, \"4\": 25}, \"14\": {\"14\": 2214, \"9\": 629, \"2\": 76, \"6\": 81}}, \"44\": {\"7\": {\"9\": 689, \"7\": 2193, \"10\": 55, \"6\": 48, \"2\": 15}, \"1\": {\"1\": 2014, \"5\": 539, \"7\": 176, \"14\": 55, \"2\": 132, \"8\": 23, \"12\": 33, \"10\": 25, \"3\": 3}, \"9\": {\"9\": 1509, \"7\": 1219, \"2\": 75, \"6\": 134, \"13\": 54, \"10\": 3, \"4\": 3, \"15\": 3}, \"15\": {\"15\": 2384, \"14\": 118, \"0\": 94, \"8\": 160, \"4\": 39, \"11\": 56, \"6\": 21, \"5\": 76, \"12\": 51, \"9\": 1}, \"3\": {\"3\": 2090, \"14\": 209, \"12\": 117, \"13\": 29, \"7\": 182, \"8\": 51, \"5\": 41, \"4\": 189, \"0\": 16, \"2\": 76}, \"5\": {\"5\": 1306, \"6\": 1260, \"15\": 232, \"14\": 95, \"8\": 60, \"4\": 31, \"2\": 5, \"13\": 2, \"7\": 8, \"0\": 1}, \"10\": {\"10\": 2912, \"7\": 54, \"1\": 21, \"2\": 13}, \"6\": {\"6\": 2514, \"13\": 279, \"9\": 189, \"15\": 1, \"7\": 17}, \"11\": {\"11\": 2906, \"13\": 29, \"3\": 35, \"0\": 29, \"6\": 1}, \"8\": {\"8\": 2583, \"15\": 163, \"5\": 33, \"0\": 210, \"6\": 8, \"2\": 2, \"1\": 1}, \"2\": {\"2\": 2394, \"7\": 62, \"8\": 272, \"12\": 1, \"5\": 83, \"1\": 89, \"0\": 24, \"10\": 28, \"11\": 2, \"9\": 31, \"15\": 14}, \"4\": {\"4\": 2090, \"15\": 416, \"7\": 24, \"14\": 283, \"0\": 25, \"9\": 88, \"6\": 21, \"5\": 9, \"8\": 24, \"11\": 19, \"12\": 1}, \"12\": {\"3\": 734, \"12\": 2207, \"14\": 37, \"13\": 6, \"8\": 10, \"5\": 1, \"1\": 1, \"7\": 3, \"4\": 1}, \"14\": {\"15\": 530, \"14\": 1647, \"4\": 367, \"6\": 68, \"5\": 333, \"8\": 46, \"9\": 7, \"11\": 1, \"7\": 1}, \"13\": {\"6\": 329, \"0\": 324, \"4\": 88, \"13\": 2106, \"9\": 71, \"7\": 78, \"15\": 3, \"11\": 1}, \"0\": {\"8\": 1579, \"15\": 67, \"0\": 1340, \"5\": 6, \"6\": 8}}, \"38\": {\"13\": {\"0\": 693, \"13\": 1954, \"7\": 25, \"10\": 99, \"3\": 183, \"4\": 40, \"11\": 1, \"2\": 2, \"5\": 3}, \"3\": {\"3\": 1811, \"0\": 1044, \"9\": 68, \"13\": 63, \"11\": 8, \"10\": 6}, \"14\": {\"14\": 1596, \"5\": 590, \"7\": 429, \"4\": 194, \"2\": 86, \"13\": 56, \"3\": 15, \"6\": 23, \"15\": 1, \"12\": 6, \"8\": 2, \"10\": 2}, \"11\": {\"11\": 2999, \"3\": 1}, \"9\": {\"9\": 2914, \"7\": 4, \"12\": 51, \"5\": 18, \"0\": 1, \"11\": 9, \"8\": 2, \"14\": 1}, \"1\": {\"1\": 2457, \"15\": 207, \"8\": 6, \"6\": 34, \"0\": 220, \"2\": 53, \"9\": 19, \"11\": 2, \"12\": 1, \"14\": 1}, \"8\": {\"5\": 616, \"4\": 191, \"6\": 21, \"15\": 603, \"8\": 1392, \"1\": 5, \"14\": 41, \"7\": 97, \"11\": 21, \"0\": 6, \"13\": 2, \"9\": 5}, \"7\": {\"7\": 2509, \"4\": 317, \"0\": 58, \"5\": 24, \"8\": 78, \"9\": 8, \"15\": 4, \"13\": 2}, \"5\": {\"7\": 82, \"8\": 1004, \"15\": 444, \"5\": 1215, \"4\": 28, \"14\": 16, \"11\": 94, \"9\": 89, \"0\": 9, \"1\": 12, \"6\": 7}, \"4\": {\"4\": 2995, \"13\": 2, \"0\": 1, \"10\": 2}, \"0\": {\"7\": 1002, \"0\": 1263, \"9\": 378, \"6\": 14, \"13\": 97, \"4\": 213, \"10\": 16, \"3\": 5, \"8\": 6, \"15\": 2, \"11\": 3, \"5\": 1}, \"12\": {\"12\": 2985, \"13\": 8, \"6\": 5, \"4\": 1, \"15\": 1}, \"6\": {\"6\": 2904, \"2\": 17, \"0\": 16, \"1\": 26, \"9\": 9, \"14\": 27, \"4\": 1}, \"10\": {\"10\": 1589, \"0\": 1084, \"13\": 276, \"4\": 41, \"11\": 9, \"7\": 1}, \"15\": {\"1\": 1347, \"15\": 1349, \"13\": 79, \"6\": 43, \"5\": 65, \"0\": 28, \"8\": 57, \"11\": 24, \"9\": 3, \"10\": 4, \"12\": 1}, \"2\": {\"2\": 1852, \"5\": 775, \"13\": 31, \"7\": 235, \"3\": 4, \"14\": 75, \"8\": 27, \"4\": 1}}, \"26\": {\"9\": {\"9\": 2246, \"0\": 131, \"2\": 108, \"13\": 144, \"8\": 329, \"15\": 9, \"4\": 2, \"10\": 3, \"6\": 7, \"7\": 19, \"3\": 2}, \"2\": {\"2\": 1302, \"3\": 193, \"7\": 679, \"8\": 422, \"0\": 107, \"13\": 87, \"10\": 11, \"9\": 159, \"5\": 14, \"14\": 7, \"15\": 13, \"6\": 5, \"4\": 1}, \"11\": {\"11\": 2752, \"6\": 199, \"12\": 26, \"5\": 1, \"2\": 18, \"9\": 2, \"10\": 1, \"15\": 1}, \"14\": {\"14\": 1220, \"0\": 590, \"1\": 437, \"10\": 708, \"8\": 21, \"7\": 2, \"6\": 15, \"2\": 2, \"15\": 5}, \"10\": {\"8\": 102, \"7\": 17, \"0\": 1046, \"10\": 1122, \"14\": 443, \"1\": 62, \"6\": 152, \"12\": 11, \"5\": 4, \"15\": 22, \"2\": 11, \"9\": 6, \"13\": 1, \"4\": 1}, \"1\": {\"1\": 2333, \"14\": 369, \"0\": 77, \"10\": 213, \"6\": 2, \"15\": 3, \"5\": 2, \"8\": 1}, \"4\": {\"3\": 171, \"14\": 9, \"4\": 2743, \"0\": 62, \"8\": 11, \"10\": 3, \"7\": 1}, \"15\": {\"0\": 238, \"2\": 740, \"5\": 272, \"15\": 937, \"6\": 281, \"7\": 280, \"9\": 96, \"3\": 12, \"8\": 49, \"14\": 49, \"10\": 35, \"13\": 6, \"1\": 5}, \"0\": {\"0\": 1528, \"14\": 587, \"9\": 12, \"10\": 565, \"8\": 161, \"7\": 50, \"6\": 35, \"1\": 44, \"2\": 4, \"15\": 10, \"4\": 3, \"5\": 1}, \"7\": {\"2\": 362, \"7\": 1185, \"8\": 660, \"0\": 168, \"9\": 183, \"3\": 366, \"4\": 50, \"13\": 19, \"10\": 3, \"14\": 4}, \"5\": {\"6\": 177, \"5\": 2186, \"15\": 494, \"10\": 44, \"2\": 62, \"1\": 7, \"9\": 14, \"14\": 5, \"11\": 5, \"8\": 1, \"0\": 5}, \"13\": {\"9\": 624, \"13\": 2185, \"0\": 23, \"2\": 56, \"8\": 92, \"5\": 2, \"15\": 4, \"3\": 12, \"6\": 1, \"4\": 1}, \"3\": {\"3\": 2035, \"2\": 231, \"7\": 561, \"0\": 49, \"4\": 42, \"8\": 55, \"9\": 17, \"13\": 9, \"14\": 1}, \"12\": {\"12\": 3000}, \"8\": {\"8\": 1537, \"7\": 337, \"13\": 9, \"9\": 296, \"0\": 494, \"14\": 30, \"10\": 106, \"2\": 150, \"3\": 9, \"6\": 7, \"4\": 24, \"15\": 1}, \"6\": {\"15\": 338, \"6\": 2109, \"14\": 36, \"10\": 301, \"0\": 80, \"5\": 73, \"9\": 50, \"12\": 8, \"1\": 2, \"11\": 2, \"8\": 1}}}, \"per_domain_accuracy\": {\"14\": {\"accuracy\": 0.7453125, \"source?\": true}, \"32\": {\"accuracy\": 0.7317083333333333, \"source?\": true}, \"8\": {\"accuracy\": 0.6252916666666667, \"source?\": true}, \"20\": {\"accuracy\": 0.5851666666666666, \"source?\": true}, \"50\": {\"accuracy\": 0.7817916666666667, \"source?\": true}, \"44\": {\"accuracy\": 0.7123958333333333, \"source?\": true}, \"38\": {\"accuracy\": 0.7038333333333333, \"source?\": true}, \"26\": {\"accuracy\": 0.63375, \"source?\": true}}}, \"history\": {\"epoch_indices\": [1, 2, 3, 4, 5, 6, 7, 8, 9, 10, 11, 12, 13, 14, 15], \"train_label_loss\": [1.9902685017074857, 1.1515555020911352, 0.876054157929761, 0.7211759059131145, 0.6188214998032365, 0.5446786800367491, 0.4869217669750963, 0.4371365966924599, 0.3992350857726165, 0.36116874964535234, 0.3307374322989157, 0.30456262603295703, 0.283472770763295, 0.2631625501736999, 0.2469926345114197], \"source_val_label_loss\": [1.265274616797765, 0.8803541241486867, 0.7431386818091075, 0.7008828619718551, 0.7302738084197045, 0.6498928565382958, 0.6367074721654257, 0.6524898977478345, 0.6321972558895746, 0.827823584874471, 0.6203764578501384, 0.6754995743234953, 0.6534928193688393, 0.7095145856539409, 0.8755442556738854], \"target_val_label_loss\": [1.5147668373584748, 1.2610289614597956, 1.2788748699824015, 1.2925791163047156, 1.4924704741636912, 1.4371511929829914, 1.4124117525021236, 1.5382588630914689, 1.483666716535886, 1.7528021087646484, 1.5177661020358404, 1.6041031843423843, 1.65798668495814, 1.7207602028449376, 2.257561907291412], \"source_val_acc_label\": [0.574359375, 0.7027083333333334, 0.735953125, 0.7464166666666666, 0.7328125, 0.7594895833333334, 0.7690364583333333, 0.7628854166666666, 0.77140625, 0.7220364583333333, 0.777796875, 0.7648125, 0.7805104166666667, 0.7644427083333334, 0.7377447916666666], \"target_val_acc_label\": [0.483421875, 0.5696770833333333, 0.5662135416666667, 0.5695260416666666, 0.5616354166666667, 0.5781302083333333, 0.5919583333333334, 0.5865625, 0.5953489583333333, 0.565828125, 0.602015625, 0.5920885416666667, 0.5969375, 0.5958802083333333, 0.5504895833333333]}, \"dataset_metrics\": {\"source\": {\"train\": {\"n_unique_x\": 896000, \"n_unique_y\": 16, \"n_batch/episode\": 7000}, \"val\": {\"n_unique_x\": 192000, \"n_unique_y\": 16, \"n_batch/episode\": 1500}, \"test\": {\"n_unique_x\": 192000, \"n_unique_y\": 16, \"n_batch/episode\": 1500}}, \"target\": {\"train\": {\"n_unique_x\": 896000, \"n_unique_y\": 16, \"n_batch/episode\": 7000}, \"val\": {\"n_unique_x\": 192000, \"n_unique_y\": 16, \"n_batch/episode\": 1500}, \"test\": {\"n_unique_x\": 192000, \"n_unique_y\": 16, \"n_batch/episode\": 1500}}}}'"
      ]
     },
     "execution_count": 20,
     "metadata": {},
     "output_type": "execute_result"
    }
   ],
   "source": [
    "json.dumps(experiment)"
   ]
  }
 ],
 "metadata": {
  "celltoolbar": "Tags",
  "kernelspec": {
   "display_name": "Python 3 (ipykernel)",
   "language": "python",
   "name": "python3"
  },
  "language_info": {
   "codemirror_mode": {
    "name": "ipython",
    "version": 3
   },
   "file_extension": ".py",
   "mimetype": "text/x-python",
   "name": "python",
   "nbconvert_exporter": "python",
   "pygments_lexer": "ipython3",
   "version": "3.8.12"
  },
  "papermill": {
   "default_parameters": {},
   "duration": 1499.07876,
   "end_time": "2022-03-28T00:21:13.488015",
   "environment_variables": {},
   "exception": null,
   "input_path": "/root/csc500-main/csc500-notebooks/templates/cnn_template.ipynb",
   "output_path": "trial.ipynb",
   "parameters": {
    "parameters": {
     "BEST_MODEL_PATH": "./best_model.pth",
     "NUM_LOGS_PER_EPOCH": 10,
     "batch_size": 128,
     "criteria_for_best": "target_accuracy",
     "dataset_seed": 1337,
     "device": "cuda",
     "domains_source": [
      8,
      32,
      50,
      14,
      20,
      26,
      38,
      44
     ],
     "domains_target": [
      8,
      32,
      50,
      14,
      20,
      26,
      38,
      44
     ],
     "experiment_name": "cnn_3:oracle.run1-oracle.run2",
     "labels": [
      "3123D52",
      "3123D65",
      "3123D79",
      "3123D80",
      "3123D54",
      "3123D70",
      "3123D7B",
      "3123D89",
      "3123D58",
      "3123D76",
      "3123D7D",
      "3123EFE",
      "3123D64",
      "3123D78",
      "3123D7E",
      "3124E4A"
     ],
     "lr": 0.0001,
     "n_epoch": 50,
     "normalize_source": false,
     "normalize_target": false,
     "num_examples_per_domain_per_label_source": -1,
     "num_examples_per_domain_per_label_target": -1,
     "patience": 3,
     "pickle_name_source": "oracle.Run1_10kExamples_stratified_ds.2022A.pkl",
     "pickle_name_target": "oracle.Run2_10kExamples_stratified_ds.2022A.pkl",
     "seed": 1337,
     "torch_default_dtype": "torch.float32",
     "x_net": [
      {
       "class": "nnReshape",
       "kargs": {
        "shape": [
         -1,
         1,
         2,
         256
        ]
       }
      },
      {
       "class": "Conv2d",
       "kargs": {
        "bias": false,
        "in_channels": 1,
        "kernel_size": [
         1,
         7
        ],
        "out_channels": 256,
        "padding": [
         0,
         3
        ]
       }
      },
      {
       "class": "ReLU",
       "kargs": {
        "inplace": true
       }
      },
      {
       "class": "BatchNorm2d",
       "kargs": {
        "num_features": 256
       }
      },
      {
       "class": "Conv2d",
       "kargs": {
        "bias": true,
        "in_channels": 256,
        "kernel_size": [
         2,
         7
        ],
        "out_channels": 80,
        "padding": [
         0,
         3
        ]
       }
      },
      {
       "class": "ReLU",
       "kargs": {
        "inplace": true
       }
      },
      {
       "class": "BatchNorm2d",
       "kargs": {
        "num_features": 80
       }
      },
      {
       "class": "Flatten",
       "kargs": {}
      },
      {
       "class": "Linear",
       "kargs": {
        "in_features": 20480,
        "out_features": 256
       }
      },
      {
       "class": "ReLU",
       "kargs": {
        "inplace": true
       }
      },
      {
       "class": "BatchNorm1d",
       "kargs": {
        "num_features": 256
       }
      },
      {
       "class": "Linear",
       "kargs": {
        "in_features": 256,
        "out_features": 16
       }
      }
     ]
    }
   },
   "start_time": "2022-03-27T23:56:14.409255",
   "version": "2.3.4"
  }
 },
 "nbformat": 4,
 "nbformat_minor": 5
}