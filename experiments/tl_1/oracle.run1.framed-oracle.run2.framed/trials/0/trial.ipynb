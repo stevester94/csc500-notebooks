{
 "cells": [
  {
   "cell_type": "markdown",
   "id": "9fea5f46",
   "metadata": {
    "papermill": {
     "duration": 0.016252,
     "end_time": "2022-03-07T01:08:01.360234",
     "exception": false,
     "start_time": "2022-03-07T01:08:01.343982",
     "status": "completed"
    },
    "tags": []
   },
   "source": [
    "# Transfer Learning Template"
   ]
  },
  {
   "cell_type": "code",
   "execution_count": 1,
   "id": "0902182a",
   "metadata": {
    "execution": {
     "iopub.execute_input": "2022-03-07T01:08:01.400792Z",
     "iopub.status.busy": "2022-03-07T01:08:01.400498Z",
     "iopub.status.idle": "2022-03-07T01:08:02.252398Z",
     "shell.execute_reply": "2022-03-07T01:08:02.251989Z"
    },
    "papermill": {
     "duration": 0.879464,
     "end_time": "2022-03-07T01:08:02.252498",
     "exception": false,
     "start_time": "2022-03-07T01:08:01.373034",
     "status": "completed"
    },
    "tags": []
   },
   "outputs": [],
   "source": [
    "%load_ext autoreload\n",
    "%autoreload 2\n",
    "%matplotlib inline\n",
    "\n",
    "    \n",
    "import os, json, sys, time, random\n",
    "import numpy as np\n",
    "import torch\n",
    "from torch.optim import Adam\n",
    "from  easydict import EasyDict\n",
    "import matplotlib.pyplot as plt\n",
    "\n",
    "from steves_models.steves_ptn import Steves_Prototypical_Network\n",
    "\n",
    "from steves_utils.lazy_iterable_wrapper import Lazy_Iterable_Wrapper\n",
    "from steves_utils.iterable_aggregator import Iterable_Aggregator\n",
    "from steves_utils.ptn_train_eval_test_jig import  PTN_Train_Eval_Test_Jig\n",
    "from steves_utils.torch_sequential_builder import build_sequential\n",
    "from steves_utils.torch_utils import get_dataset_metrics, ptn_confusion_by_domain_over_dataloader\n",
    "from steves_utils.utils_v2 import (per_domain_accuracy_from_confusion, get_datasets_base_path)\n",
    "from steves_utils.PTN.utils import independent_accuracy_assesment\n",
    "\n",
    "from torch.utils.data import DataLoader\n",
    "\n",
    "from steves_utils.stratified_dataset.episodic_accessor import Episodic_Accessor_Factory\n",
    "\n",
    "from steves_utils.ptn_do_report import (\n",
    "    get_loss_curve,\n",
    "    get_results_table,\n",
    "    get_parameters_table,\n",
    "    get_domain_accuracies,\n",
    ")\n",
    "\n",
    "from steves_utils.transforms import get_chained_transform"
   ]
  },
  {
   "cell_type": "markdown",
   "id": "41c840b4",
   "metadata": {
    "papermill": {
     "duration": 0.013522,
     "end_time": "2022-03-07T01:08:02.282798",
     "exception": false,
     "start_time": "2022-03-07T01:08:02.269276",
     "status": "completed"
    },
    "tags": []
   },
   "source": [
    "# Allowed Parameters\n",
    "These are allowed parameters, not defaults\n",
    "Each of these values need to be present in the injected parameters (the notebook will raise an exception if they are not present)\n",
    "\n",
    "Papermill uses the cell tag \"parameters\" to inject the real parameters below this cell.\n",
    "Enable tags to see what I mean"
   ]
  },
  {
   "cell_type": "code",
   "execution_count": 2,
   "id": "fd44eb83",
   "metadata": {
    "execution": {
     "iopub.execute_input": "2022-03-07T01:08:02.314522Z",
     "iopub.status.busy": "2022-03-07T01:08:02.314074Z",
     "iopub.status.idle": "2022-03-07T01:08:02.326900Z",
     "shell.execute_reply": "2022-03-07T01:08:02.326518Z"
    },
    "papermill": {
     "duration": 0.030312,
     "end_time": "2022-03-07T01:08:02.326991",
     "exception": false,
     "start_time": "2022-03-07T01:08:02.296679",
     "status": "completed"
    },
    "tags": []
   },
   "outputs": [],
   "source": [
    "required_parameters = {\n",
    "    \"experiment_name\",\n",
    "    \"lr\",\n",
    "    \"device\",\n",
    "    \"seed\",\n",
    "    \"dataset_seed\",\n",
    "    \"n_shot\",\n",
    "    \"n_query\",\n",
    "    \"n_way\",\n",
    "    \"train_k_factor\",\n",
    "    \"val_k_factor\",\n",
    "    \"test_k_factor\",\n",
    "    \"n_epoch\",\n",
    "    \"patience\",\n",
    "    \"criteria_for_best\",\n",
    "    \"x_net\",\n",
    "    \"datasets\",\n",
    "    \"torch_default_dtype\",\n",
    "    \"NUM_LOGS_PER_EPOCH\",\n",
    "    \"BEST_MODEL_PATH\",\n",
    "}"
   ]
  },
  {
   "cell_type": "code",
   "execution_count": 3,
   "id": "fa3f0049",
   "metadata": {
    "execution": {
     "iopub.execute_input": "2022-03-07T01:08:02.367639Z",
     "iopub.status.busy": "2022-03-07T01:08:02.367320Z",
     "iopub.status.idle": "2022-03-07T01:08:02.381480Z",
     "shell.execute_reply": "2022-03-07T01:08:02.381012Z"
    },
    "papermill": {
     "duration": 0.038813,
     "end_time": "2022-03-07T01:08:02.381603",
     "exception": false,
     "start_time": "2022-03-07T01:08:02.342790",
     "status": "completed"
    },
    "tags": [
     "parameters"
    ]
   },
   "outputs": [],
   "source": [
    "from steves_utils.CORES.utils import (\n",
    "    ALL_NODES,\n",
    "    ALL_NODES_MINIMUM_1000_EXAMPLES,\n",
    "    ALL_DAYS\n",
    ")\n",
    "\n",
    "from steves_utils.ORACLE.utils_v2 import (\n",
    "    ALL_DISTANCES_FEET_NARROWED,\n",
    "    ALL_RUNS,\n",
    "    ALL_SERIAL_NUMBERS,\n",
    ")\n",
    "\n",
    "standalone_parameters = {}\n",
    "standalone_parameters[\"experiment_name\"] = \"STANDALONE PTN\"\n",
    "standalone_parameters[\"lr\"] = 0.001\n",
    "standalone_parameters[\"device\"] = \"cuda\"\n",
    "\n",
    "standalone_parameters[\"seed\"] = 1337\n",
    "standalone_parameters[\"dataset_seed\"] = 1337\n",
    "\n",
    "standalone_parameters[\"n_way\"] = 8\n",
    "standalone_parameters[\"n_shot\"] = 3\n",
    "standalone_parameters[\"n_query\"]  = 2\n",
    "standalone_parameters[\"train_k_factor\"] = 1\n",
    "standalone_parameters[\"val_k_factor\"] = 2\n",
    "standalone_parameters[\"test_k_factor\"] = 2\n",
    "\n",
    "\n",
    "standalone_parameters[\"n_epoch\"] = 50\n",
    "\n",
    "standalone_parameters[\"patience\"] = 10\n",
    "standalone_parameters[\"criteria_for_best\"] = \"source_loss\"\n",
    "\n",
    "standalone_parameters[\"datasets\"] = [\n",
    "    {\n",
    "        \"labels\": ALL_SERIAL_NUMBERS,\n",
    "        \"domains\": ALL_DISTANCES_FEET_NARROWED,\n",
    "        \"num_examples_per_domain_per_label\": 100,\n",
    "        \"pickle_path\": os.path.join(get_datasets_base_path(), \"oracle.Run1_framed_2000Examples_stratified_ds.2022A.pkl\"),\n",
    "        \"source_or_target_dataset\": \"source\",\n",
    "        \"x_transforms\": [\"unit_mag\", \"minus_two\"],\n",
    "        \"episode_transforms\": [],\n",
    "        \"domain_prefix\": \"ORACLE_\"\n",
    "    },\n",
    "    {\n",
    "        \"labels\": ALL_NODES,\n",
    "        \"domains\": ALL_DAYS,\n",
    "        \"num_examples_per_domain_per_label\": 100,\n",
    "        \"pickle_path\": os.path.join(get_datasets_base_path(), \"cores.stratified_ds.2022A.pkl\"),\n",
    "        \"source_or_target_dataset\": \"target\",\n",
    "        \"x_transforms\": [\"unit_power\", \"times_zero\"],\n",
    "        \"episode_transforms\": [],\n",
    "        \"domain_prefix\": \"CORES_\"\n",
    "    }   \n",
    "]\n",
    "\n",
    "standalone_parameters[\"torch_default_dtype\"] = \"torch.float32\" \n",
    "\n",
    "\n",
    "\n",
    "standalone_parameters[\"x_net\"] =     [\n",
    "    {\"class\": \"nnReshape\", \"kargs\": {\"shape\":[-1, 1, 2, 256]}},\n",
    "    {\"class\": \"Conv2d\", \"kargs\": { \"in_channels\":1, \"out_channels\":256, \"kernel_size\":(1,7), \"bias\":False, \"padding\":(0,3), },},\n",
    "    {\"class\": \"ReLU\", \"kargs\": {\"inplace\": True}},\n",
    "    {\"class\": \"BatchNorm2d\", \"kargs\": {\"num_features\":256}},\n",
    "\n",
    "    {\"class\": \"Conv2d\", \"kargs\": { \"in_channels\":256, \"out_channels\":80, \"kernel_size\":(2,7), \"bias\":True, \"padding\":(0,3), },},\n",
    "    {\"class\": \"ReLU\", \"kargs\": {\"inplace\": True}},\n",
    "    {\"class\": \"BatchNorm2d\", \"kargs\": {\"num_features\":80}},\n",
    "    {\"class\": \"Flatten\", \"kargs\": {}},\n",
    "\n",
    "    {\"class\": \"Linear\", \"kargs\": {\"in_features\": 80*256, \"out_features\": 256}}, # 80 units per IQ pair\n",
    "    {\"class\": \"ReLU\", \"kargs\": {\"inplace\": True}},\n",
    "    {\"class\": \"BatchNorm1d\", \"kargs\": {\"num_features\":256}},\n",
    "\n",
    "    {\"class\": \"Linear\", \"kargs\": {\"in_features\": 256, \"out_features\": 256}},\n",
    "]\n",
    "\n",
    "# Parameters relevant to results\n",
    "# These parameters will basically never need to change\n",
    "standalone_parameters[\"NUM_LOGS_PER_EPOCH\"] = 10\n",
    "standalone_parameters[\"BEST_MODEL_PATH\"] = \"./best_model.pth\"\n",
    "\n",
    "\n",
    "\n",
    "\n"
   ]
  },
  {
   "cell_type": "code",
   "execution_count": 4,
   "id": "d8916ea2",
   "metadata": {
    "execution": {
     "iopub.execute_input": "2022-03-07T01:08:02.421061Z",
     "iopub.status.busy": "2022-03-07T01:08:02.414883Z",
     "iopub.status.idle": "2022-03-07T01:08:02.432597Z",
     "shell.execute_reply": "2022-03-07T01:08:02.432915Z"
    },
    "papermill": {
     "duration": 0.034146,
     "end_time": "2022-03-07T01:08:02.433030",
     "exception": false,
     "start_time": "2022-03-07T01:08:02.398884",
     "status": "completed"
    },
    "tags": [
     "injected-parameters"
    ]
   },
   "outputs": [],
   "source": [
    "# Parameters\n",
    "parameters = {\n",
    "    \"experiment_name\": \"tl_1_oracle.run1-oracle.run2\",\n",
    "    \"device\": \"cuda\",\n",
    "    \"lr\": 0.001,\n",
    "    \"seed\": 1337,\n",
    "    \"dataset_seed\": 1337,\n",
    "    \"n_shot\": 3,\n",
    "    \"n_query\": 2,\n",
    "    \"train_k_factor\": 3,\n",
    "    \"val_k_factor\": 2,\n",
    "    \"test_k_factor\": 2,\n",
    "    \"torch_default_dtype\": \"torch.float32\",\n",
    "    \"n_epoch\": 50,\n",
    "    \"patience\": 3,\n",
    "    \"criteria_for_best\": \"target_loss\",\n",
    "    \"x_net\": [\n",
    "        {\"class\": \"nnReshape\", \"kargs\": {\"shape\": [-1, 1, 2, 256]}},\n",
    "        {\n",
    "            \"class\": \"Conv2d\",\n",
    "            \"kargs\": {\n",
    "                \"in_channels\": 1,\n",
    "                \"out_channels\": 256,\n",
    "                \"kernel_size\": [1, 7],\n",
    "                \"bias\": False,\n",
    "                \"padding\": [0, 3],\n",
    "            },\n",
    "        },\n",
    "        {\"class\": \"ReLU\", \"kargs\": {\"inplace\": True}},\n",
    "        {\"class\": \"BatchNorm2d\", \"kargs\": {\"num_features\": 256}},\n",
    "        {\n",
    "            \"class\": \"Conv2d\",\n",
    "            \"kargs\": {\n",
    "                \"in_channels\": 256,\n",
    "                \"out_channels\": 80,\n",
    "                \"kernel_size\": [2, 7],\n",
    "                \"bias\": True,\n",
    "                \"padding\": [0, 3],\n",
    "            },\n",
    "        },\n",
    "        {\"class\": \"ReLU\", \"kargs\": {\"inplace\": True}},\n",
    "        {\"class\": \"BatchNorm2d\", \"kargs\": {\"num_features\": 80}},\n",
    "        {\"class\": \"Flatten\", \"kargs\": {}},\n",
    "        {\"class\": \"Linear\", \"kargs\": {\"in_features\": 20480, \"out_features\": 256}},\n",
    "        {\"class\": \"ReLU\", \"kargs\": {\"inplace\": True}},\n",
    "        {\"class\": \"BatchNorm1d\", \"kargs\": {\"num_features\": 256}},\n",
    "        {\"class\": \"Linear\", \"kargs\": {\"in_features\": 256, \"out_features\": 256}},\n",
    "    ],\n",
    "    \"NUM_LOGS_PER_EPOCH\": 10,\n",
    "    \"BEST_MODEL_PATH\": \"./best_model.pth\",\n",
    "    \"n_way\": 16,\n",
    "    \"datasets\": [\n",
    "        {\n",
    "            \"labels\": [\n",
    "                \"3123D52\",\n",
    "                \"3123D65\",\n",
    "                \"3123D79\",\n",
    "                \"3123D80\",\n",
    "                \"3123D54\",\n",
    "                \"3123D70\",\n",
    "                \"3123D7B\",\n",
    "                \"3123D89\",\n",
    "                \"3123D58\",\n",
    "                \"3123D76\",\n",
    "                \"3123D7D\",\n",
    "                \"3123EFE\",\n",
    "                \"3123D64\",\n",
    "                \"3123D78\",\n",
    "                \"3123D7E\",\n",
    "                \"3124E4A\",\n",
    "            ],\n",
    "            \"domains\": [32, 38, 8, 44, 14, 50, 20, 26],\n",
    "            \"num_examples_per_domain_per_label\": 2000,\n",
    "            \"pickle_path\": \"/mnt/wd500GB/CSC500/csc500-main/datasets/oracle.Run1_framed_2000Examples_stratified_ds.2022A.pkl\",\n",
    "            \"source_or_target_dataset\": \"source\",\n",
    "            \"x_transforms\": [\"unit_power\"],\n",
    "            \"episode_transforms\": [],\n",
    "            \"domain_prefix\": \"ORACLE.run1_\",\n",
    "        },\n",
    "        {\n",
    "            \"labels\": [\n",
    "                \"3123D52\",\n",
    "                \"3123D65\",\n",
    "                \"3123D79\",\n",
    "                \"3123D80\",\n",
    "                \"3123D54\",\n",
    "                \"3123D70\",\n",
    "                \"3123D7B\",\n",
    "                \"3123D89\",\n",
    "                \"3123D58\",\n",
    "                \"3123D76\",\n",
    "                \"3123D7D\",\n",
    "                \"3123EFE\",\n",
    "                \"3123D64\",\n",
    "                \"3123D78\",\n",
    "                \"3123D7E\",\n",
    "                \"3124E4A\",\n",
    "            ],\n",
    "            \"domains\": [32, 38, 8, 44, 14, 50, 20, 26],\n",
    "            \"num_examples_per_domain_per_label\": 2000,\n",
    "            \"pickle_path\": \"/mnt/wd500GB/CSC500/csc500-main/datasets/oracle.Run2_framed_2000Examples_stratified_ds.2022A.pkl\",\n",
    "            \"source_or_target_dataset\": \"target\",\n",
    "            \"x_transforms\": [\"unit_power\"],\n",
    "            \"episode_transforms\": [],\n",
    "            \"domain_prefix\": \"ORACLE.run2_\",\n",
    "        },\n",
    "    ],\n",
    "}\n"
   ]
  },
  {
   "cell_type": "code",
   "execution_count": 5,
   "id": "8fa1cc33",
   "metadata": {
    "execution": {
     "iopub.execute_input": "2022-03-07T01:08:02.464201Z",
     "iopub.status.busy": "2022-03-07T01:08:02.463921Z",
     "iopub.status.idle": "2022-03-07T01:08:02.477392Z",
     "shell.execute_reply": "2022-03-07T01:08:02.476894Z"
    },
    "papermill": {
     "duration": 0.030822,
     "end_time": "2022-03-07T01:08:02.477511",
     "exception": false,
     "start_time": "2022-03-07T01:08:02.446689",
     "status": "completed"
    },
    "tags": []
   },
   "outputs": [],
   "source": [
    "# Set this to True if you want to run this template directly\n",
    "STANDALONE = False\n",
    "if STANDALONE:\n",
    "    print(\"parameters not injected, running with standalone_parameters\")\n",
    "    parameters = standalone_parameters\n",
    "\n",
    "if not 'parameters' in locals() and not 'parameters' in globals():\n",
    "    raise Exception(\"Parameter injection failed\")\n",
    "\n",
    "#Use an easy dict for all the parameters\n",
    "p = EasyDict(parameters)\n",
    "\n",
    "supplied_keys = set(p.keys())\n",
    "\n",
    "if  supplied_keys != required_parameters:\n",
    "    print(\"Parameters are incorrect\")\n",
    "    if len(supplied_keys - required_parameters)>0: print(\"Shouldn't have:\", str(supplied_keys - required_parameters))\n",
    "    if len(required_parameters - supplied_keys)>0: print(\"Need to have:\", str(required_parameters - supplied_keys))\n",
    "    raise RuntimeError(\"Parameters are incorrect\")\n",
    "\n"
   ]
  },
  {
   "cell_type": "code",
   "execution_count": 6,
   "id": "3a028d58",
   "metadata": {
    "execution": {
     "iopub.execute_input": "2022-03-07T01:08:02.514562Z",
     "iopub.status.busy": "2022-03-07T01:08:02.514292Z",
     "iopub.status.idle": "2022-03-07T01:08:02.529714Z",
     "shell.execute_reply": "2022-03-07T01:08:02.529217Z"
    },
    "papermill": {
     "duration": 0.032188,
     "end_time": "2022-03-07T01:08:02.529835",
     "exception": false,
     "start_time": "2022-03-07T01:08:02.497647",
     "status": "completed"
    },
    "tags": []
   },
   "outputs": [],
   "source": [
    "###################################\n",
    "# Set the RNGs and make it all deterministic\n",
    "###################################\n",
    "np.random.seed(p.seed)\n",
    "random.seed(p.seed)\n",
    "torch.manual_seed(p.seed)\n",
    "\n",
    "torch.use_deterministic_algorithms(True) "
   ]
  },
  {
   "cell_type": "code",
   "execution_count": 7,
   "id": "b691acf6",
   "metadata": {
    "execution": {
     "iopub.execute_input": "2022-03-07T01:08:02.564240Z",
     "iopub.status.busy": "2022-03-07T01:08:02.563968Z",
     "iopub.status.idle": "2022-03-07T01:08:02.577270Z",
     "shell.execute_reply": "2022-03-07T01:08:02.577640Z"
    },
    "papermill": {
     "duration": 0.030322,
     "end_time": "2022-03-07T01:08:02.577780",
     "exception": false,
     "start_time": "2022-03-07T01:08:02.547458",
     "status": "completed"
    },
    "tags": []
   },
   "outputs": [],
   "source": [
    "###########################################\n",
    "# The stratified datasets honor this\n",
    "###########################################\n",
    "torch.set_default_dtype(eval(p.torch_default_dtype))"
   ]
  },
  {
   "cell_type": "code",
   "execution_count": 8,
   "id": "b5fba671",
   "metadata": {
    "execution": {
     "iopub.execute_input": "2022-03-07T01:08:02.611373Z",
     "iopub.status.busy": "2022-03-07T01:08:02.611099Z",
     "iopub.status.idle": "2022-03-07T01:08:02.651325Z",
     "shell.execute_reply": "2022-03-07T01:08:02.651638Z"
    },
    "papermill": {
     "duration": 0.056675,
     "end_time": "2022-03-07T01:08:02.651744",
     "exception": false,
     "start_time": "2022-03-07T01:08:02.595069",
     "status": "completed"
    },
    "tags": []
   },
   "outputs": [],
   "source": [
    "###################################\n",
    "# Build the network(s)\n",
    "# Note: It's critical to do this AFTER setting the RNG\n",
    "###################################\n",
    "x_net = build_sequential(p.x_net)"
   ]
  },
  {
   "cell_type": "code",
   "execution_count": 9,
   "id": "5d7e61cc",
   "metadata": {
    "execution": {
     "iopub.execute_input": "2022-03-07T01:08:02.684309Z",
     "iopub.status.busy": "2022-03-07T01:08:02.684038Z",
     "iopub.status.idle": "2022-03-07T01:08:02.696114Z",
     "shell.execute_reply": "2022-03-07T01:08:02.695616Z"
    },
    "papermill": {
     "duration": 0.029167,
     "end_time": "2022-03-07T01:08:02.696245",
     "exception": false,
     "start_time": "2022-03-07T01:08:02.667078",
     "status": "completed"
    },
    "tags": []
   },
   "outputs": [],
   "source": [
    "start_time_secs = time.time()"
   ]
  },
  {
   "cell_type": "code",
   "execution_count": 10,
   "id": "c6b67dfd",
   "metadata": {
    "execution": {
     "iopub.execute_input": "2022-03-07T01:08:02.730099Z",
     "iopub.status.busy": "2022-03-07T01:08:02.728330Z",
     "iopub.status.idle": "2022-03-07T01:08:02.743928Z",
     "shell.execute_reply": "2022-03-07T01:08:02.744253Z"
    },
    "papermill": {
     "duration": 0.033254,
     "end_time": "2022-03-07T01:08:02.744366",
     "exception": false,
     "start_time": "2022-03-07T01:08:02.711112",
     "status": "completed"
    },
    "tags": []
   },
   "outputs": [],
   "source": [
    "p.domains_source = []\n",
    "p.domains_target = []\n",
    "\n",
    "\n",
    "train_original_source = []\n",
    "val_original_source   = []\n",
    "test_original_source  = []\n",
    "\n",
    "train_original_target = []\n",
    "val_original_target   = []\n",
    "test_original_target  = []"
   ]
  },
  {
   "cell_type": "code",
   "execution_count": 11,
   "id": "e3d9c3d3",
   "metadata": {
    "execution": {
     "iopub.execute_input": "2022-03-07T01:08:02.782907Z",
     "iopub.status.busy": "2022-03-07T01:08:02.782636Z",
     "iopub.status.idle": "2022-03-07T01:08:02.796064Z",
     "shell.execute_reply": "2022-03-07T01:08:02.796362Z"
    },
    "papermill": {
     "duration": 0.032237,
     "end_time": "2022-03-07T01:08:02.796471",
     "exception": false,
     "start_time": "2022-03-07T01:08:02.764234",
     "status": "completed"
    },
    "tags": []
   },
   "outputs": [],
   "source": [
    "# global_x_transform_func = lambda x: normalize(x.to(torch.get_default_dtype()), \"unit_power\") # unit_power, unit_mag\n",
    "# global_x_transform_func = lambda x: normalize(x, \"unit_power\") # unit_power, unit_mag"
   ]
  },
  {
   "cell_type": "code",
   "execution_count": 12,
   "id": "acb78fd2",
   "metadata": {
    "execution": {
     "iopub.execute_input": "2022-03-07T01:08:02.839703Z",
     "iopub.status.busy": "2022-03-07T01:08:02.839336Z",
     "iopub.status.idle": "2022-03-07T01:08:02.852960Z",
     "shell.execute_reply": "2022-03-07T01:08:02.852704Z"
    },
    "papermill": {
     "duration": 0.03869,
     "end_time": "2022-03-07T01:08:02.853026",
     "exception": false,
     "start_time": "2022-03-07T01:08:02.814336",
     "status": "completed"
    },
    "tags": []
   },
   "outputs": [],
   "source": [
    "def add_dataset(\n",
    "    labels,\n",
    "    domains,\n",
    "    pickle_path,\n",
    "    x_transforms,\n",
    "    episode_transforms,\n",
    "    domain_prefix,\n",
    "    num_examples_per_domain_per_label,\n",
    "    source_or_target_dataset:str,\n",
    "    iterator_seed=p.seed,\n",
    "    dataset_seed=p.dataset_seed,\n",
    "    n_shot=p.n_shot,\n",
    "    n_way=p.n_way,\n",
    "    n_query=p.n_query,\n",
    "    train_val_test_k_factors=(p.train_k_factor,p.val_k_factor,p.test_k_factor),\n",
    "):\n",
    "   \n",
    "    if x_transforms == []: x_transform = None\n",
    "    else: x_transform = get_chained_transform(x_transforms)\n",
    "    \n",
    "    if episode_transforms == []: episode_transform = None\n",
    "    else: raise Exception(\"episode_transforms not implemented\")\n",
    "    \n",
    "    episode_transform = lambda tup, _prefix=domain_prefix: (_prefix + str(tup[0]), tup[1])\n",
    "\n",
    "\n",
    "    eaf = Episodic_Accessor_Factory(\n",
    "        labels=labels,\n",
    "        domains=domains,\n",
    "        num_examples_per_domain_per_label=num_examples_per_domain_per_label,\n",
    "        iterator_seed=iterator_seed,\n",
    "        dataset_seed=dataset_seed,\n",
    "        n_shot=n_shot,\n",
    "        n_way=n_way,\n",
    "        n_query=n_query,\n",
    "        train_val_test_k_factors=train_val_test_k_factors,\n",
    "        pickle_path=pickle_path,\n",
    "        x_transform_func=x_transform,\n",
    "    )\n",
    "\n",
    "    train, val, test = eaf.get_train(), eaf.get_val(), eaf.get_test()\n",
    "    train = Lazy_Iterable_Wrapper(train, episode_transform)\n",
    "    val = Lazy_Iterable_Wrapper(val, episode_transform)\n",
    "    test = Lazy_Iterable_Wrapper(test, episode_transform)\n",
    "\n",
    "    if source_or_target_dataset==\"source\":\n",
    "        train_original_source.append(train)\n",
    "        val_original_source.append(val)\n",
    "        test_original_source.append(test)\n",
    "\n",
    "        p.domains_source.extend(\n",
    "            [domain_prefix + str(u) for u in domains]\n",
    "        )\n",
    "    elif source_or_target_dataset==\"target\":\n",
    "        train_original_target.append(train)\n",
    "        val_original_target.append(val)\n",
    "        test_original_target.append(test)\n",
    "        p.domains_target.extend(\n",
    "            [domain_prefix + str(u) for u in domains]\n",
    "        )\n",
    "    else:\n",
    "        raise Exception(f\"invalid source_or_target_dataset: {source_or_target_dataset}\")\n",
    "    "
   ]
  },
  {
   "cell_type": "code",
   "execution_count": 13,
   "id": "fe266617",
   "metadata": {
    "execution": {
     "iopub.execute_input": "2022-03-07T01:08:02.887125Z",
     "iopub.status.busy": "2022-03-07T01:08:02.886486Z",
     "iopub.status.idle": "2022-03-07T01:08:37.164321Z",
     "shell.execute_reply": "2022-03-07T01:08:37.164789Z"
    },
    "papermill": {
     "duration": 34.294831,
     "end_time": "2022-03-07T01:08:37.164946",
     "exception": false,
     "start_time": "2022-03-07T01:08:02.870115",
     "status": "completed"
    },
    "tags": []
   },
   "outputs": [],
   "source": [
    "for ds in p.datasets:\n",
    "    add_dataset(**ds)"
   ]
  },
  {
   "cell_type": "code",
   "execution_count": 14,
   "id": "b90d65ac",
   "metadata": {
    "execution": {
     "iopub.execute_input": "2022-03-07T01:08:37.200073Z",
     "iopub.status.busy": "2022-03-07T01:08:37.199798Z",
     "iopub.status.idle": "2022-03-07T01:08:37.214121Z",
     "shell.execute_reply": "2022-03-07T01:08:37.214561Z"
    },
    "papermill": {
     "duration": 0.031773,
     "end_time": "2022-03-07T01:08:37.214727",
     "exception": false,
     "start_time": "2022-03-07T01:08:37.182954",
     "status": "completed"
    },
    "tags": []
   },
   "outputs": [],
   "source": [
    "# from steves_utils.CORES.utils import (\n",
    "#     ALL_NODES,\n",
    "#     ALL_NODES_MINIMUM_1000_EXAMPLES,\n",
    "#     ALL_DAYS\n",
    "# )\n",
    "\n",
    "# add_dataset(\n",
    "#     labels=ALL_NODES,\n",
    "#     domains = ALL_DAYS,\n",
    "#     num_examples_per_domain_per_label=100,\n",
    "#     pickle_path=os.path.join(get_datasets_base_path(), \"cores.stratified_ds.2022A.pkl\"),\n",
    "#     source_or_target_dataset=\"target\",\n",
    "#     x_transform_func=global_x_transform_func,\n",
    "#     domain_modifier=lambda u: f\"cores_{u}\"\n",
    "# )"
   ]
  },
  {
   "cell_type": "code",
   "execution_count": 15,
   "id": "76db484d",
   "metadata": {
    "execution": {
     "iopub.execute_input": "2022-03-07T01:08:37.248129Z",
     "iopub.status.busy": "2022-03-07T01:08:37.247699Z",
     "iopub.status.idle": "2022-03-07T01:08:37.257751Z",
     "shell.execute_reply": "2022-03-07T01:08:37.257501Z"
    },
    "papermill": {
     "duration": 0.026716,
     "end_time": "2022-03-07T01:08:37.257818",
     "exception": false,
     "start_time": "2022-03-07T01:08:37.231102",
     "status": "completed"
    },
    "tags": []
   },
   "outputs": [],
   "source": [
    "# from steves_utils.ORACLE.utils_v2 import (\n",
    "#     ALL_DISTANCES_FEET,\n",
    "#     ALL_RUNS,\n",
    "#     ALL_SERIAL_NUMBERS,\n",
    "# )\n",
    "\n",
    "\n",
    "# add_dataset(\n",
    "#     labels=ALL_SERIAL_NUMBERS,\n",
    "#     domains = list(set(ALL_DISTANCES_FEET) - {2,62}),\n",
    "#     num_examples_per_domain_per_label=100,\n",
    "#     pickle_path=os.path.join(get_datasets_base_path(), \"oracle.Run2_framed_2000Examples_stratified_ds.2022A.pkl\"),\n",
    "#     source_or_target_dataset=\"source\",\n",
    "#     x_transform_func=global_x_transform_func,\n",
    "#     domain_modifier=lambda u: f\"oracle1_{u}\"\n",
    "# )\n"
   ]
  },
  {
   "cell_type": "code",
   "execution_count": 16,
   "id": "97dea9d2",
   "metadata": {
    "execution": {
     "iopub.execute_input": "2022-03-07T01:08:37.288518Z",
     "iopub.status.busy": "2022-03-07T01:08:37.288110Z",
     "iopub.status.idle": "2022-03-07T01:08:37.299494Z",
     "shell.execute_reply": "2022-03-07T01:08:37.299014Z"
    },
    "papermill": {
     "duration": 0.027666,
     "end_time": "2022-03-07T01:08:37.299593",
     "exception": false,
     "start_time": "2022-03-07T01:08:37.271927",
     "status": "completed"
    },
    "tags": []
   },
   "outputs": [],
   "source": [
    "# from steves_utils.ORACLE.utils_v2 import (\n",
    "#     ALL_DISTANCES_FEET,\n",
    "#     ALL_RUNS,\n",
    "#     ALL_SERIAL_NUMBERS,\n",
    "# )\n",
    "\n",
    "\n",
    "# add_dataset(\n",
    "#     labels=ALL_SERIAL_NUMBERS,\n",
    "#     domains = list(set(ALL_DISTANCES_FEET) - {2,62,56}),\n",
    "#     num_examples_per_domain_per_label=100,\n",
    "#     pickle_path=os.path.join(get_datasets_base_path(), \"oracle.Run2_framed_2000Examples_stratified_ds.2022A.pkl\"),\n",
    "#     source_or_target_dataset=\"source\",\n",
    "#     x_transform_func=global_x_transform_func,\n",
    "#     domain_modifier=lambda u: f\"oracle2_{u}\"\n",
    "# )"
   ]
  },
  {
   "cell_type": "code",
   "execution_count": 17,
   "id": "6f289866",
   "metadata": {
    "execution": {
     "iopub.execute_input": "2022-03-07T01:08:37.336198Z",
     "iopub.status.busy": "2022-03-07T01:08:37.335928Z",
     "iopub.status.idle": "2022-03-07T01:08:37.349599Z",
     "shell.execute_reply": "2022-03-07T01:08:37.349929Z"
    },
    "papermill": {
     "duration": 0.031016,
     "end_time": "2022-03-07T01:08:37.350041",
     "exception": false,
     "start_time": "2022-03-07T01:08:37.319025",
     "status": "completed"
    },
    "tags": []
   },
   "outputs": [],
   "source": [
    "# add_dataset(\n",
    "#     labels=list(range(19)),\n",
    "#     domains = [0,1,2],\n",
    "#     num_examples_per_domain_per_label=100,\n",
    "#     pickle_path=os.path.join(get_datasets_base_path(), \"metehan.stratified_ds.2022A.pkl\"),\n",
    "#     source_or_target_dataset=\"target\",\n",
    "#     x_transform_func=global_x_transform_func,\n",
    "#     domain_modifier=lambda u: f\"met_{u}\"\n",
    "# )"
   ]
  },
  {
   "cell_type": "code",
   "execution_count": 18,
   "id": "86a863c3",
   "metadata": {
    "execution": {
     "iopub.execute_input": "2022-03-07T01:08:37.387632Z",
     "iopub.status.busy": "2022-03-07T01:08:37.387349Z",
     "iopub.status.idle": "2022-03-07T01:08:37.401784Z",
     "shell.execute_reply": "2022-03-07T01:08:37.401311Z"
    },
    "papermill": {
     "duration": 0.031802,
     "end_time": "2022-03-07T01:08:37.401898",
     "exception": false,
     "start_time": "2022-03-07T01:08:37.370096",
     "status": "completed"
    },
    "tags": []
   },
   "outputs": [],
   "source": [
    "# # from steves_utils.wisig.utils import (\n",
    "# #     ALL_NODES_MINIMUM_100_EXAMPLES,\n",
    "# #     ALL_NODES_MINIMUM_500_EXAMPLES,\n",
    "# #     ALL_NODES_MINIMUM_1000_EXAMPLES,\n",
    "# #     ALL_DAYS\n",
    "# # )\n",
    "\n",
    "# import steves_utils.wisig.utils as wisig\n",
    "\n",
    "\n",
    "# add_dataset(\n",
    "#     labels=wisig.ALL_NODES_MINIMUM_100_EXAMPLES,\n",
    "#     domains = wisig.ALL_DAYS,\n",
    "#     num_examples_per_domain_per_label=100,\n",
    "#     pickle_path=os.path.join(get_datasets_base_path(), \"wisig.node3-19.stratified_ds.2022A.pkl\"),\n",
    "#     source_or_target_dataset=\"target\",\n",
    "#     x_transform_func=global_x_transform_func,\n",
    "#     domain_modifier=lambda u: f\"wisig_{u}\"\n",
    "# )"
   ]
  },
  {
   "cell_type": "code",
   "execution_count": 19,
   "id": "fd5442bc",
   "metadata": {
    "execution": {
     "iopub.execute_input": "2022-03-07T01:08:37.440514Z",
     "iopub.status.busy": "2022-03-07T01:08:37.440242Z",
     "iopub.status.idle": "2022-03-07T01:08:37.457296Z",
     "shell.execute_reply": "2022-03-07T01:08:37.456940Z"
    },
    "papermill": {
     "duration": 0.035861,
     "end_time": "2022-03-07T01:08:37.457386",
     "exception": false,
     "start_time": "2022-03-07T01:08:37.421525",
     "status": "completed"
    },
    "tags": []
   },
   "outputs": [],
   "source": [
    "###################################\n",
    "# Build the dataset\n",
    "###################################\n",
    "train_original_source = Iterable_Aggregator(train_original_source, p.seed)\n",
    "val_original_source = Iterable_Aggregator(val_original_source, p.seed)\n",
    "test_original_source = Iterable_Aggregator(test_original_source, p.seed)\n",
    "\n",
    "\n",
    "train_original_target = Iterable_Aggregator(train_original_target, p.seed)\n",
    "val_original_target = Iterable_Aggregator(val_original_target, p.seed)\n",
    "test_original_target = Iterable_Aggregator(test_original_target, p.seed)\n",
    "\n",
    "# For CNN We only use X and Y. And we only train on the source.\n",
    "# Properly form the data using a transform lambda and Lazy_Iterable_Wrapper. Finally wrap them in a dataloader\n",
    "\n",
    "transform_lambda = lambda ex: ex[1] # Original is (<domain>, <episode>) so we strip down to episode only\n",
    "\n",
    "train_processed_source = Lazy_Iterable_Wrapper(train_original_source, transform_lambda)\n",
    "val_processed_source   = Lazy_Iterable_Wrapper(val_original_source, transform_lambda)\n",
    "test_processed_source  = Lazy_Iterable_Wrapper(test_original_source, transform_lambda)\n",
    "\n",
    "train_processed_target = Lazy_Iterable_Wrapper(train_original_target, transform_lambda)\n",
    "val_processed_target   = Lazy_Iterable_Wrapper(val_original_target, transform_lambda)\n",
    "test_processed_target  = Lazy_Iterable_Wrapper(test_original_target, transform_lambda)\n",
    "\n",
    "datasets = EasyDict({\n",
    "    \"source\": {\n",
    "        \"original\": {\"train\":train_original_source, \"val\":val_original_source, \"test\":test_original_source},\n",
    "        \"processed\": {\"train\":train_processed_source, \"val\":val_processed_source, \"test\":test_processed_source}\n",
    "    },\n",
    "    \"target\": {\n",
    "        \"original\": {\"train\":train_original_target, \"val\":val_original_target, \"test\":test_original_target},\n",
    "        \"processed\": {\"train\":train_processed_target, \"val\":val_processed_target, \"test\":test_processed_target}\n",
    "    },\n",
    "})"
   ]
  },
  {
   "cell_type": "code",
   "execution_count": 20,
   "id": "5b3c01fc",
   "metadata": {
    "execution": {
     "iopub.execute_input": "2022-03-07T01:08:37.497428Z",
     "iopub.status.busy": "2022-03-07T01:08:37.497136Z",
     "iopub.status.idle": "2022-03-07T01:08:44.272447Z",
     "shell.execute_reply": "2022-03-07T01:08:44.272857Z"
    },
    "papermill": {
     "duration": 6.796266,
     "end_time": "2022-03-07T01:08:44.273001",
     "exception": false,
     "start_time": "2022-03-07T01:08:37.476735",
     "status": "completed"
    },
    "tags": []
   },
   "outputs": [
    {
     "name": "stdout",
     "output_type": "stream",
     "text": [
      "{'ORACLE.run1_38', 'ORACLE.run1_44', 'ORACLE.run1_8', 'ORACLE.run1_20', 'ORACLE.run1_32', 'ORACLE.run1_26', 'ORACLE.run1_14', 'ORACLE.run1_50'}\n"
     ]
    },
    {
     "name": "stdout",
     "output_type": "stream",
     "text": [
      "{'ORACLE.run2_44', 'ORACLE.run2_50', 'ORACLE.run2_26', 'ORACLE.run2_8', 'ORACLE.run2_32', 'ORACLE.run2_38', 'ORACLE.run2_14', 'ORACLE.run2_20'}\n"
     ]
    },
    {
     "name": "stdout",
     "output_type": "stream",
     "text": [
      "tensor([[[-0.0924,  1.1552, -0.1109,  ..., -0.9518, -0.2588, -0.5545],\n",
      "         [-0.6376, -0.2957,  1.0535,  ...,  0.2403, -1.4139, -0.4713]],\n",
      "\n",
      "        [[-0.4449,  0.6767,  0.5469,  ..., -1.2421, -1.1679, -0.1112],\n",
      "         [-1.1216, -0.3152,  1.1030,  ...,  0.4078, -0.1483,  1.2050]],\n",
      "\n",
      "        [[ 0.6507, -0.3532, -0.7623,  ...,  0.7901,  1.3665,  0.3254],\n",
      "         [ 0.8273,  0.6786, -0.8831,  ..., -0.7530,  0.4648, -1.1527]],\n",
      "\n",
      "        ...,\n",
      "\n",
      "        [[ 0.9828, -0.2394, -1.1718,  ...,  0.6363,  0.9828, -0.6489],\n",
      "         [ 0.5544,  0.7119, -0.3717,  ..., -0.9702, -0.6111, -1.1214]],\n",
      "\n",
      "        [[ 0.0252, -0.9847,  0.2840,  ...,  0.8963,  0.4671,  1.0667],\n",
      "         [ 0.7890,  0.4229, -1.1298,  ..., -0.1199,  1.2624, -0.2272]],\n",
      "\n",
      "        [[ 0.4796,  0.3281, -0.7194,  ..., -0.4544,  1.2306,  1.0223],\n",
      "         [-0.4102,  1.1043, -0.0316,  ..., -1.0728, -0.0568, -0.2461]]])\n"
     ]
    }
   ],
   "source": [
    "from steves_utils.transforms import get_average_magnitude, get_average_power\n",
    "\n",
    "print(set([u for u,_ in val_original_source]))\n",
    "print(set([u for u,_ in val_original_target]))\n",
    "\n",
    "s_x, s_y, q_x, q_y, _ = next(iter(train_processed_source))\n",
    "print(s_x)\n",
    "\n",
    "# for ds in [\n",
    "#     train_processed_source,\n",
    "#     val_processed_source,\n",
    "#     test_processed_source,\n",
    "#     train_processed_target,\n",
    "#     val_processed_target,\n",
    "#     test_processed_target\n",
    "# ]:\n",
    "#     for s_x, s_y, q_x, q_y, _ in ds:\n",
    "#         for X in (s_x, q_x):\n",
    "#             for x in X:\n",
    "#                 assert np.isclose(get_average_magnitude(x.numpy()), 1.0)\n",
    "#                 assert np.isclose(get_average_power(x.numpy()), 1.0)\n",
    "                "
   ]
  },
  {
   "cell_type": "code",
   "execution_count": 21,
   "id": "bbdacba1",
   "metadata": {
    "execution": {
     "iopub.execute_input": "2022-03-07T01:08:44.312722Z",
     "iopub.status.busy": "2022-03-07T01:08:44.312147Z",
     "iopub.status.idle": "2022-03-07T01:08:44.372135Z",
     "shell.execute_reply": "2022-03-07T01:08:44.372453Z"
    },
    "papermill": {
     "duration": 0.080987,
     "end_time": "2022-03-07T01:08:44.372563",
     "exception": false,
     "start_time": "2022-03-07T01:08:44.291576",
     "status": "completed"
    },
    "tags": []
   },
   "outputs": [
    {
     "name": "stdout",
     "output_type": "stream",
     "text": [
      "(2, 256)\n"
     ]
    }
   ],
   "source": [
    "###################################\n",
    "# Build the model\n",
    "###################################\n",
    "model = Steves_Prototypical_Network(x_net, device=p.device, x_shape=(2,256))\n",
    "optimizer = Adam(params=model.parameters(), lr=p.lr)"
   ]
  },
  {
   "cell_type": "code",
   "execution_count": 22,
   "id": "22b39ac5",
   "metadata": {
    "execution": {
     "iopub.execute_input": "2022-03-07T01:08:44.413131Z",
     "iopub.status.busy": "2022-03-07T01:08:44.412799Z",
     "iopub.status.idle": "2022-03-07T02:00:32.587046Z",
     "shell.execute_reply": "2022-03-07T02:00:32.586813Z"
    },
    "papermill": {
     "duration": 3108.194839,
     "end_time": "2022-03-07T02:00:32.587105",
     "exception": false,
     "start_time": "2022-03-07T01:08:44.392266",
     "status": "completed"
    },
    "tags": []
   },
   "outputs": [
    {
     "name": "stdout",
     "output_type": "stream",
     "text": [
      "epoch: 1, [batch: 1 / 6720], examples_per_second: 44.4843, train_label_loss: 3.1675, \n"
     ]
    },
    {
     "name": "stdout",
     "output_type": "stream",
     "text": [
      "epoch: 1, [batch: 672 / 6720], examples_per_second: 2886.2902, train_label_loss: 1.4065, \n"
     ]
    },
    {
     "name": "stdout",
     "output_type": "stream",
     "text": [
      "epoch: 1, [batch: 1344 / 6720], examples_per_second: 2921.3272, train_label_loss: 0.7499, \n"
     ]
    },
    {
     "name": "stdout",
     "output_type": "stream",
     "text": [
      "epoch: 1, [batch: 2016 / 6720], examples_per_second: 2916.4555, train_label_loss: 0.7491, \n"
     ]
    },
    {
     "name": "stdout",
     "output_type": "stream",
     "text": [
      "epoch: 1, [batch: 2688 / 6720], examples_per_second: 2888.6415, train_label_loss: 0.9575, \n"
     ]
    },
    {
     "name": "stdout",
     "output_type": "stream",
     "text": [
      "epoch: 1, [batch: 3360 / 6720], examples_per_second: 2905.0634, train_label_loss: 0.8728, \n"
     ]
    },
    {
     "name": "stdout",
     "output_type": "stream",
     "text": [
      "epoch: 1, [batch: 4032 / 6720], examples_per_second: 2905.3582, train_label_loss: 0.7361, \n"
     ]
    },
    {
     "name": "stdout",
     "output_type": "stream",
     "text": [
      "epoch: 1, [batch: 4704 / 6720], examples_per_second: 2910.3599, train_label_loss: 0.4696, \n"
     ]
    },
    {
     "name": "stdout",
     "output_type": "stream",
     "text": [
      "epoch: 1, [batch: 5376 / 6720], examples_per_second: 2901.4340, train_label_loss: 0.8406, \n"
     ]
    },
    {
     "name": "stdout",
     "output_type": "stream",
     "text": [
      "epoch: 1, [batch: 6048 / 6720], examples_per_second: 2901.1729, train_label_loss: 0.5711, \n"
     ]
    },
    {
     "name": "stdout",
     "output_type": "stream",
     "text": [
      "=============================================================\n",
      "epoch: 1, source_val_acc_label: 0.6142, target_val_acc_label: 0.6127, source_val_label_loss: 24.2043, target_val_label_loss: 29.0524, \n",
      "=============================================================\n"
     ]
    },
    {
     "name": "stdout",
     "output_type": "stream",
     "text": [
      "New best\n"
     ]
    },
    {
     "name": "stdout",
     "output_type": "stream",
     "text": [
      "epoch: 2, [batch: 1 / 6720], examples_per_second: 4.3481, train_label_loss: 20.7856, \n"
     ]
    },
    {
     "name": "stdout",
     "output_type": "stream",
     "text": [
      "epoch: 2, [batch: 672 / 6720], examples_per_second: 3073.4157, train_label_loss: 0.4383, \n"
     ]
    },
    {
     "name": "stdout",
     "output_type": "stream",
     "text": [
      "epoch: 2, [batch: 1344 / 6720], examples_per_second: 2894.4195, train_label_loss: 0.3769, \n"
     ]
    },
    {
     "name": "stdout",
     "output_type": "stream",
     "text": [
      "epoch: 2, [batch: 2016 / 6720], examples_per_second: 2934.8734, train_label_loss: 1.0877, \n"
     ]
    },
    {
     "name": "stdout",
     "output_type": "stream",
     "text": [
      "epoch: 2, [batch: 2688 / 6720], examples_per_second: 2937.6843, train_label_loss: 0.8993, \n"
     ]
    },
    {
     "name": "stdout",
     "output_type": "stream",
     "text": [
      "epoch: 2, [batch: 3360 / 6720], examples_per_second: 2941.8672, train_label_loss: 0.4903, \n"
     ]
    },
    {
     "name": "stdout",
     "output_type": "stream",
     "text": [
      "epoch: 2, [batch: 4032 / 6720], examples_per_second: 2928.2419, train_label_loss: 1.0150, \n"
     ]
    },
    {
     "name": "stdout",
     "output_type": "stream",
     "text": [
      "epoch: 2, [batch: 4704 / 6720], examples_per_second: 2906.7010, train_label_loss: 0.6799, \n"
     ]
    },
    {
     "name": "stdout",
     "output_type": "stream",
     "text": [
      "epoch: 2, [batch: 5376 / 6720], examples_per_second: 2946.3036, train_label_loss: 0.6678, \n"
     ]
    },
    {
     "name": "stdout",
     "output_type": "stream",
     "text": [
      "epoch: 2, [batch: 6048 / 6720], examples_per_second: 2956.5169, train_label_loss: 0.3942, \n"
     ]
    },
    {
     "name": "stdout",
     "output_type": "stream",
     "text": [
      "=============================================================\n",
      "epoch: 2, source_val_acc_label: 0.7860, target_val_acc_label: 0.7796, source_val_label_loss: 0.5960, target_val_label_loss: 0.6486, \n",
      "=============================================================\n"
     ]
    },
    {
     "name": "stdout",
     "output_type": "stream",
     "text": [
      "New best\n"
     ]
    },
    {
     "name": "stdout",
     "output_type": "stream",
     "text": [
      "epoch: 3, [batch: 1 / 6720], examples_per_second: 4.7541, train_label_loss: 0.7477, \n"
     ]
    },
    {
     "name": "stdout",
     "output_type": "stream",
     "text": [
      "epoch: 3, [batch: 672 / 6720], examples_per_second: 3247.1238, train_label_loss: 0.3352, \n"
     ]
    },
    {
     "name": "stdout",
     "output_type": "stream",
     "text": [
      "epoch: 3, [batch: 1344 / 6720], examples_per_second: 3292.2434, train_label_loss: 0.4804, \n"
     ]
    },
    {
     "name": "stdout",
     "output_type": "stream",
     "text": [
      "epoch: 3, [batch: 2016 / 6720], examples_per_second: 3267.6754, train_label_loss: 0.2625, \n"
     ]
    },
    {
     "name": "stdout",
     "output_type": "stream",
     "text": [
      "epoch: 3, [batch: 2688 / 6720], examples_per_second: 3255.7042, train_label_loss: 0.4495, \n"
     ]
    },
    {
     "name": "stdout",
     "output_type": "stream",
     "text": [
      "epoch: 3, [batch: 3360 / 6720], examples_per_second: 3285.7749, train_label_loss: 0.9016, \n"
     ]
    },
    {
     "name": "stdout",
     "output_type": "stream",
     "text": [
      "epoch: 3, [batch: 4032 / 6720], examples_per_second: 3282.7432, train_label_loss: 0.7243, \n"
     ]
    },
    {
     "name": "stdout",
     "output_type": "stream",
     "text": [
      "epoch: 3, [batch: 4704 / 6720], examples_per_second: 3254.1993, train_label_loss: 0.3175, \n"
     ]
    },
    {
     "name": "stdout",
     "output_type": "stream",
     "text": [
      "epoch: 3, [batch: 5376 / 6720], examples_per_second: 3173.2817, train_label_loss: 0.4237, \n"
     ]
    },
    {
     "name": "stdout",
     "output_type": "stream",
     "text": [
      "epoch: 3, [batch: 6048 / 6720], examples_per_second: 3231.5983, train_label_loss: 0.1610, \n"
     ]
    },
    {
     "name": "stdout",
     "output_type": "stream",
     "text": [
      "=============================================================\n",
      "epoch: 3, source_val_acc_label: 0.8012, target_val_acc_label: 0.7946, source_val_label_loss: 0.5360, target_val_label_loss: 0.5966, \n",
      "=============================================================\n"
     ]
    },
    {
     "name": "stdout",
     "output_type": "stream",
     "text": [
      "New best\n"
     ]
    },
    {
     "name": "stdout",
     "output_type": "stream",
     "text": [
      "epoch: 4, [batch: 1 / 6720], examples_per_second: 4.7491, train_label_loss: 0.4782, \n"
     ]
    },
    {
     "name": "stdout",
     "output_type": "stream",
     "text": [
      "epoch: 4, [batch: 672 / 6720], examples_per_second: 3177.0742, train_label_loss: 0.1952, \n"
     ]
    },
    {
     "name": "stdout",
     "output_type": "stream",
     "text": [
      "epoch: 4, [batch: 1344 / 6720], examples_per_second: 3140.4185, train_label_loss: 0.8422, \n"
     ]
    },
    {
     "name": "stdout",
     "output_type": "stream",
     "text": [
      "epoch: 4, [batch: 2016 / 6720], examples_per_second: 3207.0259, train_label_loss: 0.5839, \n"
     ]
    },
    {
     "name": "stdout",
     "output_type": "stream",
     "text": [
      "epoch: 4, [batch: 2688 / 6720], examples_per_second: 3253.6923, train_label_loss: 0.6447, \n"
     ]
    },
    {
     "name": "stdout",
     "output_type": "stream",
     "text": [
      "epoch: 4, [batch: 3360 / 6720], examples_per_second: 3309.2575, train_label_loss: 0.3687, \n"
     ]
    },
    {
     "name": "stdout",
     "output_type": "stream",
     "text": [
      "epoch: 4, [batch: 4032 / 6720], examples_per_second: 3303.5673, train_label_loss: 0.8057, \n"
     ]
    },
    {
     "name": "stdout",
     "output_type": "stream",
     "text": [
      "epoch: 4, [batch: 4704 / 6720], examples_per_second: 3299.2262, train_label_loss: 0.5208, \n"
     ]
    },
    {
     "name": "stdout",
     "output_type": "stream",
     "text": [
      "epoch: 4, [batch: 5376 / 6720], examples_per_second: 3312.4620, train_label_loss: 0.2590, \n"
     ]
    },
    {
     "name": "stdout",
     "output_type": "stream",
     "text": [
      "epoch: 4, [batch: 6048 / 6720], examples_per_second: 3313.7283, train_label_loss: 0.3403, \n"
     ]
    },
    {
     "name": "stdout",
     "output_type": "stream",
     "text": [
      "=============================================================\n",
      "epoch: 4, source_val_acc_label: 0.8319, target_val_acc_label: 0.8168, source_val_label_loss: 0.4810, target_val_label_loss: 0.5434, \n",
      "=============================================================\n"
     ]
    },
    {
     "name": "stdout",
     "output_type": "stream",
     "text": [
      "New best\n"
     ]
    },
    {
     "name": "stdout",
     "output_type": "stream",
     "text": [
      "epoch: 5, [batch: 1 / 6720], examples_per_second: 4.8963, train_label_loss: 0.0865, \n"
     ]
    },
    {
     "name": "stdout",
     "output_type": "stream",
     "text": [
      "epoch: 5, [batch: 672 / 6720], examples_per_second: 3278.6869, train_label_loss: 0.2582, \n"
     ]
    },
    {
     "name": "stdout",
     "output_type": "stream",
     "text": [
      "epoch: 5, [batch: 1344 / 6720], examples_per_second: 3309.7507, train_label_loss: 0.7896, \n"
     ]
    },
    {
     "name": "stdout",
     "output_type": "stream",
     "text": [
      "epoch: 5, [batch: 2016 / 6720], examples_per_second: 3301.0948, train_label_loss: 0.6884, \n"
     ]
    },
    {
     "name": "stdout",
     "output_type": "stream",
     "text": [
      "epoch: 5, [batch: 2688 / 6720], examples_per_second: 3305.5936, train_label_loss: 0.3847, \n"
     ]
    },
    {
     "name": "stdout",
     "output_type": "stream",
     "text": [
      "epoch: 5, [batch: 3360 / 6720], examples_per_second: 3297.7913, train_label_loss: 0.1306, \n"
     ]
    },
    {
     "name": "stdout",
     "output_type": "stream",
     "text": [
      "epoch: 5, [batch: 4032 / 6720], examples_per_second: 3306.6550, train_label_loss: 0.4501, \n"
     ]
    },
    {
     "name": "stdout",
     "output_type": "stream",
     "text": [
      "epoch: 5, [batch: 4704 / 6720], examples_per_second: 3298.9559, train_label_loss: 0.2112, \n"
     ]
    },
    {
     "name": "stdout",
     "output_type": "stream",
     "text": [
      "epoch: 5, [batch: 5376 / 6720], examples_per_second: 3309.6599, train_label_loss: 0.5343, \n"
     ]
    },
    {
     "name": "stdout",
     "output_type": "stream",
     "text": [
      "epoch: 5, [batch: 6048 / 6720], examples_per_second: 3319.0722, train_label_loss: 0.3523, \n"
     ]
    },
    {
     "name": "stdout",
     "output_type": "stream",
     "text": [
      "=============================================================\n",
      "epoch: 5, source_val_acc_label: 0.8476, target_val_acc_label: 0.8369, source_val_label_loss: 0.4313, target_val_label_loss: 0.4902, \n",
      "=============================================================\n"
     ]
    },
    {
     "name": "stdout",
     "output_type": "stream",
     "text": [
      "New best\n"
     ]
    },
    {
     "name": "stdout",
     "output_type": "stream",
     "text": [
      "epoch: 6, [batch: 1 / 6720], examples_per_second: 4.8916, train_label_loss: 0.3434, \n"
     ]
    },
    {
     "name": "stdout",
     "output_type": "stream",
     "text": [
      "epoch: 6, [batch: 672 / 6720], examples_per_second: 3220.1366, train_label_loss: 0.5088, \n"
     ]
    },
    {
     "name": "stdout",
     "output_type": "stream",
     "text": [
      "epoch: 6, [batch: 1344 / 6720], examples_per_second: 3319.5650, train_label_loss: 0.4333, \n"
     ]
    },
    {
     "name": "stdout",
     "output_type": "stream",
     "text": [
      "epoch: 6, [batch: 2016 / 6720], examples_per_second: 3329.8128, train_label_loss: 0.3748, \n"
     ]
    },
    {
     "name": "stdout",
     "output_type": "stream",
     "text": [
      "epoch: 6, [batch: 2688 / 6720], examples_per_second: 3320.4490, train_label_loss: 0.2833, \n"
     ]
    },
    {
     "name": "stdout",
     "output_type": "stream",
     "text": [
      "epoch: 6, [batch: 3360 / 6720], examples_per_second: 3327.4844, train_label_loss: 0.1162, \n"
     ]
    },
    {
     "name": "stdout",
     "output_type": "stream",
     "text": [
      "epoch: 6, [batch: 4032 / 6720], examples_per_second: 3332.2188, train_label_loss: 0.4465, \n"
     ]
    },
    {
     "name": "stdout",
     "output_type": "stream",
     "text": [
      "epoch: 6, [batch: 4704 / 6720], examples_per_second: 3322.1801, train_label_loss: 0.3257, \n"
     ]
    },
    {
     "name": "stdout",
     "output_type": "stream",
     "text": [
      "epoch: 6, [batch: 5376 / 6720], examples_per_second: 3329.6066, train_label_loss: 0.4000, \n"
     ]
    },
    {
     "name": "stdout",
     "output_type": "stream",
     "text": [
      "epoch: 6, [batch: 6048 / 6720], examples_per_second: 3315.9317, train_label_loss: 0.1514, \n"
     ]
    },
    {
     "name": "stdout",
     "output_type": "stream",
     "text": [
      "=============================================================\n",
      "epoch: 6, source_val_acc_label: 0.8700, target_val_acc_label: 0.8561, source_val_label_loss: 0.3782, target_val_label_loss: 0.4363, \n",
      "=============================================================\n"
     ]
    },
    {
     "name": "stdout",
     "output_type": "stream",
     "text": [
      "New best\n"
     ]
    },
    {
     "name": "stdout",
     "output_type": "stream",
     "text": [
      "epoch: 7, [batch: 1 / 6720], examples_per_second: 4.8986, train_label_loss: 0.1028, \n"
     ]
    },
    {
     "name": "stdout",
     "output_type": "stream",
     "text": [
      "epoch: 7, [batch: 672 / 6720], examples_per_second: 3280.3106, train_label_loss: 0.5985, \n"
     ]
    },
    {
     "name": "stdout",
     "output_type": "stream",
     "text": [
      "epoch: 7, [batch: 1344 / 6720], examples_per_second: 3299.6700, train_label_loss: 0.2691, \n"
     ]
    },
    {
     "name": "stdout",
     "output_type": "stream",
     "text": [
      "epoch: 7, [batch: 2016 / 6720], examples_per_second: 3308.0187, train_label_loss: 0.3743, \n"
     ]
    },
    {
     "name": "stdout",
     "output_type": "stream",
     "text": [
      "epoch: 7, [batch: 2688 / 6720], examples_per_second: 3250.0009, train_label_loss: 0.5099, \n"
     ]
    },
    {
     "name": "stdout",
     "output_type": "stream",
     "text": [
      "epoch: 7, [batch: 3360 / 6720], examples_per_second: 3202.5239, train_label_loss: 0.8230, \n"
     ]
    },
    {
     "name": "stdout",
     "output_type": "stream",
     "text": [
      "epoch: 7, [batch: 4032 / 6720], examples_per_second: 3250.6332, train_label_loss: 0.2225, \n"
     ]
    },
    {
     "name": "stdout",
     "output_type": "stream",
     "text": [
      "epoch: 7, [batch: 4704 / 6720], examples_per_second: 3229.9694, train_label_loss: 0.3699, \n"
     ]
    },
    {
     "name": "stdout",
     "output_type": "stream",
     "text": [
      "epoch: 7, [batch: 5376 / 6720], examples_per_second: 3249.4102, train_label_loss: 0.2927, \n"
     ]
    },
    {
     "name": "stdout",
     "output_type": "stream",
     "text": [
      "epoch: 7, [batch: 6048 / 6720], examples_per_second: 3263.3958, train_label_loss: 0.2025, \n"
     ]
    },
    {
     "name": "stdout",
     "output_type": "stream",
     "text": [
      "=============================================================\n",
      "epoch: 7, source_val_acc_label: 0.8628, target_val_acc_label: 0.8505, source_val_label_loss: 0.3793, target_val_label_loss: 0.4461, \n",
      "=============================================================\n"
     ]
    },
    {
     "name": "stdout",
     "output_type": "stream",
     "text": [
      "epoch: 8, [batch: 1 / 6720], examples_per_second: 4.8427, train_label_loss: 0.4907, \n"
     ]
    },
    {
     "name": "stdout",
     "output_type": "stream",
     "text": [
      "epoch: 8, [batch: 672 / 6720], examples_per_second: 3233.6989, train_label_loss: 0.4956, \n"
     ]
    },
    {
     "name": "stdout",
     "output_type": "stream",
     "text": [
      "epoch: 8, [batch: 1344 / 6720], examples_per_second: 3242.8665, train_label_loss: 0.4457, \n"
     ]
    },
    {
     "name": "stdout",
     "output_type": "stream",
     "text": [
      "epoch: 8, [batch: 2016 / 6720], examples_per_second: 3249.8665, train_label_loss: 0.1762, \n"
     ]
    },
    {
     "name": "stdout",
     "output_type": "stream",
     "text": [
      "epoch: 8, [batch: 2688 / 6720], examples_per_second: 2984.4235, train_label_loss: 0.0821, \n"
     ]
    },
    {
     "name": "stdout",
     "output_type": "stream",
     "text": [
      "epoch: 8, [batch: 3360 / 6720], examples_per_second: 3103.8939, train_label_loss: 0.5009, \n"
     ]
    },
    {
     "name": "stdout",
     "output_type": "stream",
     "text": [
      "epoch: 8, [batch: 4032 / 6720], examples_per_second: 3242.5235, train_label_loss: 0.5427, \n"
     ]
    },
    {
     "name": "stdout",
     "output_type": "stream",
     "text": [
      "epoch: 8, [batch: 4704 / 6720], examples_per_second: 3223.8895, train_label_loss: 0.3269, \n"
     ]
    },
    {
     "name": "stdout",
     "output_type": "stream",
     "text": [
      "epoch: 8, [batch: 5376 / 6720], examples_per_second: 3205.7731, train_label_loss: 0.2919, \n"
     ]
    },
    {
     "name": "stdout",
     "output_type": "stream",
     "text": [
      "epoch: 8, [batch: 6048 / 6720], examples_per_second: 3238.7813, train_label_loss: 0.3216, \n"
     ]
    },
    {
     "name": "stdout",
     "output_type": "stream",
     "text": [
      "=============================================================\n",
      "epoch: 8, source_val_acc_label: 0.8786, target_val_acc_label: 0.8618, source_val_label_loss: 0.3451, target_val_label_loss: 0.4223, \n",
      "=============================================================\n"
     ]
    },
    {
     "name": "stdout",
     "output_type": "stream",
     "text": [
      "New best\n"
     ]
    },
    {
     "name": "stdout",
     "output_type": "stream",
     "text": [
      "epoch: 9, [batch: 1 / 6720], examples_per_second: 4.7392, train_label_loss: 0.1951, \n"
     ]
    },
    {
     "name": "stdout",
     "output_type": "stream",
     "text": [
      "epoch: 9, [batch: 672 / 6720], examples_per_second: 3152.7668, train_label_loss: 0.6043, \n"
     ]
    },
    {
     "name": "stdout",
     "output_type": "stream",
     "text": [
      "epoch: 9, [batch: 1344 / 6720], examples_per_second: 3186.9481, train_label_loss: 0.5141, \n"
     ]
    },
    {
     "name": "stdout",
     "output_type": "stream",
     "text": [
      "epoch: 9, [batch: 2016 / 6720], examples_per_second: 3150.1356, train_label_loss: 0.3116, \n"
     ]
    },
    {
     "name": "stdout",
     "output_type": "stream",
     "text": [
      "epoch: 9, [batch: 2688 / 6720], examples_per_second: 3136.0720, train_label_loss: 0.2524, \n"
     ]
    },
    {
     "name": "stdout",
     "output_type": "stream",
     "text": [
      "epoch: 9, [batch: 3360 / 6720], examples_per_second: 3153.3884, train_label_loss: 0.5479, \n"
     ]
    },
    {
     "name": "stdout",
     "output_type": "stream",
     "text": [
      "epoch: 9, [batch: 4032 / 6720], examples_per_second: 3184.4940, train_label_loss: 0.4784, \n"
     ]
    },
    {
     "name": "stdout",
     "output_type": "stream",
     "text": [
      "epoch: 9, [batch: 4704 / 6720], examples_per_second: 3212.4722, train_label_loss: 0.3079, \n"
     ]
    },
    {
     "name": "stdout",
     "output_type": "stream",
     "text": [
      "epoch: 9, [batch: 5376 / 6720], examples_per_second: 3118.0384, train_label_loss: 0.3260, \n"
     ]
    },
    {
     "name": "stdout",
     "output_type": "stream",
     "text": [
      "epoch: 9, [batch: 6048 / 6720], examples_per_second: 3148.1141, train_label_loss: 0.0515, \n"
     ]
    },
    {
     "name": "stdout",
     "output_type": "stream",
     "text": [
      "=============================================================\n",
      "epoch: 9, source_val_acc_label: 0.8786, target_val_acc_label: 0.8592, source_val_label_loss: 0.3418, target_val_label_loss: 0.4232, \n",
      "=============================================================\n"
     ]
    },
    {
     "name": "stdout",
     "output_type": "stream",
     "text": [
      "epoch: 10, [batch: 1 / 6720], examples_per_second: 4.7139, train_label_loss: 0.3873, \n"
     ]
    },
    {
     "name": "stdout",
     "output_type": "stream",
     "text": [
      "epoch: 10, [batch: 672 / 6720], examples_per_second: 3242.1661, train_label_loss: 0.2373, \n"
     ]
    },
    {
     "name": "stdout",
     "output_type": "stream",
     "text": [
      "epoch: 10, [batch: 1344 / 6720], examples_per_second: 3238.8122, train_label_loss: 0.4103, \n"
     ]
    },
    {
     "name": "stdout",
     "output_type": "stream",
     "text": [
      "epoch: 10, [batch: 2016 / 6720], examples_per_second: 3217.9124, train_label_loss: 0.3029, \n"
     ]
    },
    {
     "name": "stdout",
     "output_type": "stream",
     "text": [
      "epoch: 10, [batch: 2688 / 6720], examples_per_second: 3239.9172, train_label_loss: 0.1915, \n"
     ]
    },
    {
     "name": "stdout",
     "output_type": "stream",
     "text": [
      "epoch: 10, [batch: 3360 / 6720], examples_per_second: 3268.7042, train_label_loss: 0.2338, \n"
     ]
    },
    {
     "name": "stdout",
     "output_type": "stream",
     "text": [
      "epoch: 10, [batch: 4032 / 6720], examples_per_second: 3223.1473, train_label_loss: 0.2827, \n"
     ]
    },
    {
     "name": "stdout",
     "output_type": "stream",
     "text": [
      "epoch: 10, [batch: 4704 / 6720], examples_per_second: 3158.4688, train_label_loss: 0.2631, \n"
     ]
    },
    {
     "name": "stdout",
     "output_type": "stream",
     "text": [
      "epoch: 10, [batch: 5376 / 6720], examples_per_second: 3270.4283, train_label_loss: 0.3561, \n"
     ]
    },
    {
     "name": "stdout",
     "output_type": "stream",
     "text": [
      "epoch: 10, [batch: 6048 / 6720], examples_per_second: 3293.0247, train_label_loss: 0.0543, \n"
     ]
    },
    {
     "name": "stdout",
     "output_type": "stream",
     "text": [
      "=============================================================\n",
      "epoch: 10, source_val_acc_label: 0.8915, target_val_acc_label: 0.8697, source_val_label_loss: 0.3057, target_val_label_loss: 0.3971, \n",
      "=============================================================\n"
     ]
    },
    {
     "name": "stdout",
     "output_type": "stream",
     "text": [
      "New best\n"
     ]
    },
    {
     "name": "stdout",
     "output_type": "stream",
     "text": [
      "epoch: 11, [batch: 1 / 6720], examples_per_second: 4.9008, train_label_loss: 0.2382, \n"
     ]
    },
    {
     "name": "stdout",
     "output_type": "stream",
     "text": [
      "epoch: 11, [batch: 672 / 6720], examples_per_second: 3278.1048, train_label_loss: 0.3846, \n"
     ]
    },
    {
     "name": "stdout",
     "output_type": "stream",
     "text": [
      "epoch: 11, [batch: 1344 / 6720], examples_per_second: 3306.6266, train_label_loss: 0.3809, \n"
     ]
    },
    {
     "name": "stdout",
     "output_type": "stream",
     "text": [
      "epoch: 11, [batch: 2016 / 6720], examples_per_second: 3312.5597, train_label_loss: 0.2818, \n"
     ]
    },
    {
     "name": "stdout",
     "output_type": "stream",
     "text": [
      "epoch: 11, [batch: 2688 / 6720], examples_per_second: 3299.7047, train_label_loss: 0.5872, \n"
     ]
    },
    {
     "name": "stdout",
     "output_type": "stream",
     "text": [
      "epoch: 11, [batch: 3360 / 6720], examples_per_second: 3309.1178, train_label_loss: 0.3195, \n"
     ]
    },
    {
     "name": "stdout",
     "output_type": "stream",
     "text": [
      "epoch: 11, [batch: 4032 / 6720], examples_per_second: 3284.5128, train_label_loss: 0.3122, \n"
     ]
    },
    {
     "name": "stdout",
     "output_type": "stream",
     "text": [
      "epoch: 11, [batch: 4704 / 6720], examples_per_second: 3278.0731, train_label_loss: 0.1900, \n"
     ]
    },
    {
     "name": "stdout",
     "output_type": "stream",
     "text": [
      "epoch: 11, [batch: 5376 / 6720], examples_per_second: 3308.1102, train_label_loss: 0.4935, \n"
     ]
    },
    {
     "name": "stdout",
     "output_type": "stream",
     "text": [
      "epoch: 11, [batch: 6048 / 6720], examples_per_second: 3312.1694, train_label_loss: 0.1463, \n"
     ]
    },
    {
     "name": "stdout",
     "output_type": "stream",
     "text": [
      "=============================================================\n",
      "epoch: 11, source_val_acc_label: 0.8930, target_val_acc_label: 0.8715, source_val_label_loss: 0.3017, target_val_label_loss: 0.3897, \n",
      "=============================================================\n"
     ]
    },
    {
     "name": "stdout",
     "output_type": "stream",
     "text": [
      "New best\n"
     ]
    },
    {
     "name": "stdout",
     "output_type": "stream",
     "text": [
      "epoch: 12, [batch: 1 / 6720], examples_per_second: 4.9124, train_label_loss: 0.5374, \n"
     ]
    },
    {
     "name": "stdout",
     "output_type": "stream",
     "text": [
      "epoch: 12, [batch: 672 / 6720], examples_per_second: 3279.7108, train_label_loss: 0.4214, \n"
     ]
    },
    {
     "name": "stdout",
     "output_type": "stream",
     "text": [
      "epoch: 12, [batch: 1344 / 6720], examples_per_second: 3306.6088, train_label_loss: 0.1016, \n"
     ]
    },
    {
     "name": "stdout",
     "output_type": "stream",
     "text": [
      "epoch: 12, [batch: 2016 / 6720], examples_per_second: 3293.3444, train_label_loss: 0.5605, \n"
     ]
    },
    {
     "name": "stdout",
     "output_type": "stream",
     "text": [
      "epoch: 12, [batch: 2688 / 6720], examples_per_second: 3244.8959, train_label_loss: 0.0874, \n"
     ]
    },
    {
     "name": "stdout",
     "output_type": "stream",
     "text": [
      "epoch: 12, [batch: 3360 / 6720], examples_per_second: 3319.1149, train_label_loss: 0.2740, \n"
     ]
    },
    {
     "name": "stdout",
     "output_type": "stream",
     "text": [
      "epoch: 12, [batch: 4032 / 6720], examples_per_second: 3336.1571, train_label_loss: 0.4469, \n"
     ]
    },
    {
     "name": "stdout",
     "output_type": "stream",
     "text": [
      "epoch: 12, [batch: 4704 / 6720], examples_per_second: 3322.3788, train_label_loss: 0.1755, \n"
     ]
    },
    {
     "name": "stdout",
     "output_type": "stream",
     "text": [
      "epoch: 12, [batch: 5376 / 6720], examples_per_second: 3335.9251, train_label_loss: 0.0498, \n"
     ]
    },
    {
     "name": "stdout",
     "output_type": "stream",
     "text": [
      "epoch: 12, [batch: 6048 / 6720], examples_per_second: 3328.0618, train_label_loss: 0.1092, \n"
     ]
    },
    {
     "name": "stdout",
     "output_type": "stream",
     "text": [
      "=============================================================\n",
      "epoch: 12, source_val_acc_label: 0.8964, target_val_acc_label: 0.8744, source_val_label_loss: 0.2927, target_val_label_loss: 0.3919, \n",
      "=============================================================\n"
     ]
    },
    {
     "name": "stdout",
     "output_type": "stream",
     "text": [
      "epoch: 13, [batch: 1 / 6720], examples_per_second: 4.9307, train_label_loss: 0.3974, \n"
     ]
    },
    {
     "name": "stdout",
     "output_type": "stream",
     "text": [
      "epoch: 13, [batch: 672 / 6720], examples_per_second: 3293.7709, train_label_loss: 0.3413, \n"
     ]
    },
    {
     "name": "stdout",
     "output_type": "stream",
     "text": [
      "epoch: 13, [batch: 1344 / 6720], examples_per_second: 3312.4587, train_label_loss: 0.2098, \n"
     ]
    },
    {
     "name": "stdout",
     "output_type": "stream",
     "text": [
      "epoch: 13, [batch: 2016 / 6720], examples_per_second: 3336.3202, train_label_loss: 0.2387, \n"
     ]
    },
    {
     "name": "stdout",
     "output_type": "stream",
     "text": [
      "epoch: 13, [batch: 2688 / 6720], examples_per_second: 3310.8645, train_label_loss: 0.0888, \n"
     ]
    },
    {
     "name": "stdout",
     "output_type": "stream",
     "text": [
      "epoch: 13, [batch: 3360 / 6720], examples_per_second: 3318.7829, train_label_loss: 0.5104, \n"
     ]
    },
    {
     "name": "stdout",
     "output_type": "stream",
     "text": [
      "epoch: 13, [batch: 4032 / 6720], examples_per_second: 3326.2146, train_label_loss: 0.5561, \n"
     ]
    },
    {
     "name": "stdout",
     "output_type": "stream",
     "text": [
      "epoch: 13, [batch: 4704 / 6720], examples_per_second: 3318.7933, train_label_loss: 0.0201, \n"
     ]
    },
    {
     "name": "stdout",
     "output_type": "stream",
     "text": [
      "epoch: 13, [batch: 5376 / 6720], examples_per_second: 3332.8995, train_label_loss: 0.1944, \n"
     ]
    },
    {
     "name": "stdout",
     "output_type": "stream",
     "text": [
      "epoch: 13, [batch: 6048 / 6720], examples_per_second: 3328.7036, train_label_loss: 0.2077, \n"
     ]
    },
    {
     "name": "stdout",
     "output_type": "stream",
     "text": [
      "=============================================================\n",
      "epoch: 13, source_val_acc_label: 0.8966, target_val_acc_label: 0.8723, source_val_label_loss: 0.2904, target_val_label_loss: 0.3883, \n",
      "=============================================================\n"
     ]
    },
    {
     "name": "stdout",
     "output_type": "stream",
     "text": [
      "New best\n"
     ]
    },
    {
     "name": "stdout",
     "output_type": "stream",
     "text": [
      "epoch: 14, [batch: 1 / 6720], examples_per_second: 4.9020, train_label_loss: 0.2512, \n"
     ]
    },
    {
     "name": "stdout",
     "output_type": "stream",
     "text": [
      "epoch: 14, [batch: 672 / 6720], examples_per_second: 3317.5702, train_label_loss: 0.3351, \n"
     ]
    },
    {
     "name": "stdout",
     "output_type": "stream",
     "text": [
      "epoch: 14, [batch: 1344 / 6720], examples_per_second: 3328.8781, train_label_loss: 0.2457, \n"
     ]
    },
    {
     "name": "stdout",
     "output_type": "stream",
     "text": [
      "epoch: 14, [batch: 2016 / 6720], examples_per_second: 3335.8363, train_label_loss: 0.1140, \n"
     ]
    },
    {
     "name": "stdout",
     "output_type": "stream",
     "text": [
      "epoch: 14, [batch: 2688 / 6720], examples_per_second: 3317.0268, train_label_loss: 0.2355, \n"
     ]
    },
    {
     "name": "stdout",
     "output_type": "stream",
     "text": [
      "epoch: 14, [batch: 3360 / 6720], examples_per_second: 3311.9362, train_label_loss: 0.1638, \n"
     ]
    },
    {
     "name": "stdout",
     "output_type": "stream",
     "text": [
      "epoch: 14, [batch: 4032 / 6720], examples_per_second: 3303.0865, train_label_loss: 0.6978, \n"
     ]
    },
    {
     "name": "stdout",
     "output_type": "stream",
     "text": [
      "epoch: 14, [batch: 4704 / 6720], examples_per_second: 3309.5410, train_label_loss: 0.1795, \n"
     ]
    },
    {
     "name": "stdout",
     "output_type": "stream",
     "text": [
      "epoch: 14, [batch: 5376 / 6720], examples_per_second: 3316.8789, train_label_loss: 0.0897, \n"
     ]
    },
    {
     "name": "stdout",
     "output_type": "stream",
     "text": [
      "epoch: 14, [batch: 6048 / 6720], examples_per_second: 3329.5131, train_label_loss: 0.0663, \n"
     ]
    },
    {
     "name": "stdout",
     "output_type": "stream",
     "text": [
      "=============================================================\n",
      "epoch: 14, source_val_acc_label: 0.8922, target_val_acc_label: 0.8718, source_val_label_loss: 0.2969, target_val_label_loss: 0.3953, \n",
      "=============================================================\n"
     ]
    },
    {
     "name": "stdout",
     "output_type": "stream",
     "text": [
      "epoch: 15, [batch: 1 / 6720], examples_per_second: 4.9178, train_label_loss: 0.0343, \n"
     ]
    },
    {
     "name": "stdout",
     "output_type": "stream",
     "text": [
      "epoch: 15, [batch: 672 / 6720], examples_per_second: 3275.9960, train_label_loss: 0.1688, \n"
     ]
    },
    {
     "name": "stdout",
     "output_type": "stream",
     "text": [
      "epoch: 15, [batch: 1344 / 6720], examples_per_second: 3314.9065, train_label_loss: 0.1332, \n"
     ]
    },
    {
     "name": "stdout",
     "output_type": "stream",
     "text": [
      "epoch: 15, [batch: 2016 / 6720], examples_per_second: 3325.7072, train_label_loss: 0.2242, \n"
     ]
    },
    {
     "name": "stdout",
     "output_type": "stream",
     "text": [
      "epoch: 15, [batch: 2688 / 6720], examples_per_second: 3321.7177, train_label_loss: 0.1990, \n"
     ]
    },
    {
     "name": "stdout",
     "output_type": "stream",
     "text": [
      "epoch: 15, [batch: 3360 / 6720], examples_per_second: 3327.0157, train_label_loss: 0.1572, \n"
     ]
    },
    {
     "name": "stdout",
     "output_type": "stream",
     "text": [
      "epoch: 15, [batch: 4032 / 6720], examples_per_second: 3328.5601, train_label_loss: 0.3437, \n"
     ]
    },
    {
     "name": "stdout",
     "output_type": "stream",
     "text": [
      "epoch: 15, [batch: 4704 / 6720], examples_per_second: 3317.9785, train_label_loss: 0.3735, \n"
     ]
    },
    {
     "name": "stdout",
     "output_type": "stream",
     "text": [
      "epoch: 15, [batch: 5376 / 6720], examples_per_second: 3321.7170, train_label_loss: 0.0670, \n"
     ]
    },
    {
     "name": "stdout",
     "output_type": "stream",
     "text": [
      "epoch: 15, [batch: 6048 / 6720], examples_per_second: 3330.3806, train_label_loss: 0.2019, \n"
     ]
    },
    {
     "name": "stdout",
     "output_type": "stream",
     "text": [
      "=============================================================\n",
      "epoch: 15, source_val_acc_label: 0.8932, target_val_acc_label: 0.8691, source_val_label_loss: 0.2969, target_val_label_loss: 0.3935, \n",
      "=============================================================\n"
     ]
    },
    {
     "name": "stdout",
     "output_type": "stream",
     "text": [
      "epoch: 16, [batch: 1 / 6720], examples_per_second: 4.9204, train_label_loss: 0.2562, \n"
     ]
    },
    {
     "name": "stdout",
     "output_type": "stream",
     "text": [
      "epoch: 16, [batch: 672 / 6720], examples_per_second: 3303.7310, train_label_loss: 0.0898, \n"
     ]
    },
    {
     "name": "stdout",
     "output_type": "stream",
     "text": [
      "epoch: 16, [batch: 1344 / 6720], examples_per_second: 3335.1261, train_label_loss: 0.0522, \n"
     ]
    },
    {
     "name": "stdout",
     "output_type": "stream",
     "text": [
      "epoch: 16, [batch: 2016 / 6720], examples_per_second: 3330.4104, train_label_loss: 0.1319, \n"
     ]
    },
    {
     "name": "stdout",
     "output_type": "stream",
     "text": [
      "epoch: 16, [batch: 2688 / 6720], examples_per_second: 3314.7157, train_label_loss: 0.1851, \n"
     ]
    },
    {
     "name": "stdout",
     "output_type": "stream",
     "text": [
      "epoch: 16, [batch: 3360 / 6720], examples_per_second: 3327.3622, train_label_loss: 0.2642, \n"
     ]
    },
    {
     "name": "stdout",
     "output_type": "stream",
     "text": [
      "epoch: 16, [batch: 4032 / 6720], examples_per_second: 3329.3956, train_label_loss: 0.4155, \n"
     ]
    },
    {
     "name": "stdout",
     "output_type": "stream",
     "text": [
      "epoch: 16, [batch: 4704 / 6720], examples_per_second: 3320.4488, train_label_loss: 0.1731, \n"
     ]
    },
    {
     "name": "stdout",
     "output_type": "stream",
     "text": [
      "epoch: 16, [batch: 5376 / 6720], examples_per_second: 3320.3645, train_label_loss: 0.3634, \n"
     ]
    },
    {
     "name": "stdout",
     "output_type": "stream",
     "text": [
      "epoch: 16, [batch: 6048 / 6720], examples_per_second: 3317.8179, train_label_loss: 0.0812, \n"
     ]
    },
    {
     "name": "stdout",
     "output_type": "stream",
     "text": [
      "=============================================================\n",
      "epoch: 16, source_val_acc_label: 0.8780, target_val_acc_label: 0.8549, source_val_label_loss: 0.3356, target_val_label_loss: 0.4338, \n",
      "=============================================================\n"
     ]
    },
    {
     "name": "stdout",
     "output_type": "stream",
     "text": [
      "epoch: 17, [batch: 1 / 6720], examples_per_second: 4.9285, train_label_loss: 0.0288, \n"
     ]
    },
    {
     "name": "stdout",
     "output_type": "stream",
     "text": [
      "epoch: 17, [batch: 672 / 6720], examples_per_second: 3291.8475, train_label_loss: 0.1885, \n"
     ]
    },
    {
     "name": "stdout",
     "output_type": "stream",
     "text": [
      "epoch: 17, [batch: 1344 / 6720], examples_per_second: 3319.0071, train_label_loss: 0.0532, \n"
     ]
    },
    {
     "name": "stdout",
     "output_type": "stream",
     "text": [
      "epoch: 17, [batch: 2016 / 6720], examples_per_second: 3321.5696, train_label_loss: 0.3263, \n"
     ]
    },
    {
     "name": "stdout",
     "output_type": "stream",
     "text": [
      "epoch: 17, [batch: 2688 / 6720], examples_per_second: 3317.1496, train_label_loss: 0.2328, \n"
     ]
    },
    {
     "name": "stdout",
     "output_type": "stream",
     "text": [
      "epoch: 17, [batch: 3360 / 6720], examples_per_second: 3323.4916, train_label_loss: 0.3482, \n"
     ]
    },
    {
     "name": "stdout",
     "output_type": "stream",
     "text": [
      "epoch: 17, [batch: 4032 / 6720], examples_per_second: 3328.3829, train_label_loss: 0.4112, \n"
     ]
    },
    {
     "name": "stdout",
     "output_type": "stream",
     "text": [
      "epoch: 17, [batch: 4704 / 6720], examples_per_second: 3320.9039, train_label_loss: 0.1538, \n"
     ]
    },
    {
     "name": "stdout",
     "output_type": "stream",
     "text": [
      "epoch: 17, [batch: 5376 / 6720], examples_per_second: 3320.8393, train_label_loss: 0.3474, \n"
     ]
    },
    {
     "name": "stdout",
     "output_type": "stream",
     "text": [
      "epoch: 17, [batch: 6048 / 6720], examples_per_second: 3335.1965, train_label_loss: 0.1245, \n"
     ]
    },
    {
     "name": "stdout",
     "output_type": "stream",
     "text": [
      "=============================================================\n",
      "epoch: 17, source_val_acc_label: 0.9002, target_val_acc_label: 0.8751, source_val_label_loss: 0.2884, target_val_label_loss: 0.3982, \n",
      "=============================================================\n"
     ]
    },
    {
     "name": "stdout",
     "output_type": "stream",
     "text": [
      "Patience (3) exhausted\n"
     ]
    }
   ],
   "source": [
    "###################################\n",
    "# train\n",
    "###################################\n",
    "jig = PTN_Train_Eval_Test_Jig(model, p.BEST_MODEL_PATH, p.device)\n",
    "\n",
    "jig.train(\n",
    "    train_iterable=datasets.source.processed.train,\n",
    "    source_val_iterable=datasets.source.processed.val,\n",
    "    target_val_iterable=datasets.target.processed.val,\n",
    "    num_epochs=p.n_epoch,\n",
    "    num_logs_per_epoch=p.NUM_LOGS_PER_EPOCH,\n",
    "    patience=p.patience,\n",
    "    optimizer=optimizer,\n",
    "    criteria_for_best=p.criteria_for_best,\n",
    ")"
   ]
  },
  {
   "cell_type": "code",
   "execution_count": 23,
   "id": "31e8fabf",
   "metadata": {
    "execution": {
     "iopub.execute_input": "2022-03-07T02:00:32.686425Z",
     "iopub.status.busy": "2022-03-07T02:00:32.686174Z",
     "iopub.status.idle": "2022-03-07T02:00:32.704824Z",
     "shell.execute_reply": "2022-03-07T02:00:32.704412Z"
    },
    "papermill": {
     "duration": 0.06969,
     "end_time": "2022-03-07T02:00:32.704912",
     "exception": false,
     "start_time": "2022-03-07T02:00:32.635222",
     "status": "completed"
    },
    "tags": []
   },
   "outputs": [],
   "source": [
    "total_experiment_time_secs = time.time() - start_time_secs"
   ]
  },
  {
   "cell_type": "code",
   "execution_count": 24,
   "id": "87b9595b",
   "metadata": {
    "execution": {
     "iopub.execute_input": "2022-03-07T02:00:32.812937Z",
     "iopub.status.busy": "2022-03-07T02:00:32.808485Z",
     "iopub.status.idle": "2022-03-07T02:02:09.254660Z",
     "shell.execute_reply": "2022-03-07T02:02:09.255089Z"
    },
    "papermill": {
     "duration": 96.497752,
     "end_time": "2022-03-07T02:02:09.255219",
     "exception": false,
     "start_time": "2022-03-07T02:00:32.757467",
     "status": "completed"
    },
    "tags": []
   },
   "outputs": [],
   "source": [
    "###################################\n",
    "# Evaluate the model\n",
    "###################################\n",
    "source_test_label_accuracy, source_test_label_loss = jig.test(datasets.source.processed.test)\n",
    "target_test_label_accuracy, target_test_label_loss = jig.test(datasets.target.processed.test)\n",
    "\n",
    "source_val_label_accuracy, source_val_label_loss = jig.test(datasets.source.processed.val)\n",
    "target_val_label_accuracy, target_val_label_loss = jig.test(datasets.target.processed.val)\n",
    "\n",
    "history = jig.get_history()\n",
    "\n",
    "total_epochs_trained = len(history[\"epoch_indices\"])\n",
    "\n",
    "val_dl = Iterable_Aggregator((datasets.source.original.val,datasets.target.original.val))\n",
    "\n",
    "confusion = ptn_confusion_by_domain_over_dataloader(model, p.device, val_dl)\n",
    "per_domain_accuracy = per_domain_accuracy_from_confusion(confusion)\n",
    "\n",
    "# Add a key to per_domain_accuracy for if it was a source domain\n",
    "for domain, accuracy in per_domain_accuracy.items():\n",
    "    per_domain_accuracy[domain] = {\n",
    "        \"accuracy\": accuracy,\n",
    "        \"source?\": domain in p.domains_source\n",
    "    }\n",
    "\n",
    "# Do an independent accuracy assesment JUST TO BE SURE!\n",
    "# _source_test_label_accuracy = independent_accuracy_assesment(model, datasets.source.processed.test, p.device)\n",
    "# _target_test_label_accuracy = independent_accuracy_assesment(model, datasets.target.processed.test, p.device)\n",
    "# _source_val_label_accuracy = independent_accuracy_assesment(model, datasets.source.processed.val, p.device)\n",
    "# _target_val_label_accuracy = independent_accuracy_assesment(model, datasets.target.processed.val, p.device)\n",
    "\n",
    "# assert(_source_test_label_accuracy == source_test_label_accuracy)\n",
    "# assert(_target_test_label_accuracy == target_test_label_accuracy)\n",
    "# assert(_source_val_label_accuracy == source_val_label_accuracy)\n",
    "# assert(_target_val_label_accuracy == target_val_label_accuracy)\n",
    "\n",
    "experiment = {\n",
    "    \"experiment_name\": p.experiment_name,\n",
    "    \"parameters\": dict(p),\n",
    "    \"results\": {\n",
    "        \"source_test_label_accuracy\": source_test_label_accuracy,\n",
    "        \"source_test_label_loss\": source_test_label_loss,\n",
    "        \"target_test_label_accuracy\": target_test_label_accuracy,\n",
    "        \"target_test_label_loss\": target_test_label_loss,\n",
    "        \"source_val_label_accuracy\": source_val_label_accuracy,\n",
    "        \"source_val_label_loss\": source_val_label_loss,\n",
    "        \"target_val_label_accuracy\": target_val_label_accuracy,\n",
    "        \"target_val_label_loss\": target_val_label_loss,\n",
    "        \"total_epochs_trained\": total_epochs_trained,\n",
    "        \"total_experiment_time_secs\": total_experiment_time_secs,\n",
    "        \"confusion\": confusion,\n",
    "        \"per_domain_accuracy\": per_domain_accuracy,\n",
    "    },\n",
    "    \"history\": history,\n",
    "    \"dataset_metrics\": get_dataset_metrics(datasets, \"ptn\"),\n",
    "}"
   ]
  },
  {
   "cell_type": "code",
   "execution_count": 25,
   "id": "54a21829",
   "metadata": {
    "execution": {
     "iopub.execute_input": "2022-03-07T02:02:09.360454Z",
     "iopub.status.busy": "2022-03-07T02:02:09.360195Z",
     "iopub.status.idle": "2022-03-07T02:02:09.534728Z",
     "shell.execute_reply": "2022-03-07T02:02:09.535120Z"
    },
    "papermill": {
     "duration": 0.226289,
     "end_time": "2022-03-07T02:02:09.535230",
     "exception": false,
     "start_time": "2022-03-07T02:02:09.308941",
     "status": "completed"
    },
    "tags": []
   },
   "outputs": [
    {
     "data": {
      "image/png": "[encoded data removed]",
      "text/plain": [
       "<Figure size 1080x504 with 1 Axes>"
      ]
     },
     "metadata": {
      "needs_background": "light"
     },
     "output_type": "display_data"
    }
   ],
   "source": [
    "ax = get_loss_curve(experiment)\n",
    "plt.show()"
   ]
  },
  {
   "cell_type": "code",
   "execution_count": 26,
   "id": "fd8a0f60",
   "metadata": {
    "execution": {
     "iopub.execute_input": "2022-03-07T02:02:09.642032Z",
     "iopub.status.busy": "2022-03-07T02:02:09.641776Z",
     "iopub.status.idle": "2022-03-07T02:02:09.820896Z",
     "shell.execute_reply": "2022-03-07T02:02:09.821315Z"
    },
    "papermill": {
     "duration": 0.231775,
     "end_time": "2022-03-07T02:02:09.821431",
     "exception": false,
     "start_time": "2022-03-07T02:02:09.589656",
     "status": "completed"
    },
    "tags": []
   },
   "outputs": [
    {
     "data": {
      "text/plain": [
       "<matplotlib.axes._subplots.AxesSubplot at 0x7fbbfed4fe80>"
      ]
     },
     "execution_count": 26,
     "metadata": {},
     "output_type": "execute_result"
    },
    {
     "data": {
      "image/png": "[encoded data removed]",
      "text/plain": [
       "<Figure size 1080x504 with 1 Axes>"
      ]
     },
     "metadata": {
      "needs_background": "light"
     },
     "output_type": "display_data"
    }
   ],
   "source": [
    "get_results_table(experiment)"
   ]
  },
  {
   "cell_type": "code",
   "execution_count": 27,
   "id": "cf8dc689",
   "metadata": {
    "execution": {
     "iopub.execute_input": "2022-03-07T02:02:09.931346Z",
     "iopub.status.busy": "2022-03-07T02:02:09.931095Z",
     "iopub.status.idle": "2022-03-07T02:02:10.154658Z",
     "shell.execute_reply": "2022-03-07T02:02:10.154186Z"
    },
    "papermill": {
     "duration": 0.277121,
     "end_time": "2022-03-07T02:02:10.154773",
     "exception": false,
     "start_time": "2022-03-07T02:02:09.877652",
     "status": "completed"
    },
    "tags": []
   },
   "outputs": [
    {
     "data": {
      "text/plain": [
       "<matplotlib.axes._subplots.AxesSubplot at 0x7fbc8b45e610>"
      ]
     },
     "execution_count": 27,
     "metadata": {},
     "output_type": "execute_result"
    },
    {
     "data": {
      "image/png": "[encoded data removed]",
      "text/plain": [
       "<Figure size 1080x504 with 1 Axes>"
      ]
     },
     "metadata": {
      "needs_background": "light"
     },
     "output_type": "display_data"
    }
   ],
   "source": [
    "get_domain_accuracies(experiment)"
   ]
  },
  {
   "cell_type": "code",
   "execution_count": 28,
   "id": "a74ae082",
   "metadata": {
    "execution": {
     "iopub.execute_input": "2022-03-07T02:02:10.267405Z",
     "iopub.status.busy": "2022-03-07T02:02:10.267150Z",
     "iopub.status.idle": "2022-03-07T02:02:10.281377Z",
     "shell.execute_reply": "2022-03-07T02:02:10.281006Z"
    },
    "papermill": {
     "duration": 0.069105,
     "end_time": "2022-03-07T02:02:10.281469",
     "exception": false,
     "start_time": "2022-03-07T02:02:10.212364",
     "status": "completed"
    },
    "tags": []
   },
   "outputs": [
    {
     "name": "stdout",
     "output_type": "stream",
     "text": [
      "Source Test Label Accuracy: 0.898046875 Target Test Label Accuracy: 0.8747395833333333\n",
      "Source Val Label Accuracy: 0.8966145833333333 Target Val Label Accuracy: 0.872265625\n"
     ]
    }
   ],
   "source": [
    "print(\"Source Test Label Accuracy:\", experiment[\"results\"][\"source_test_label_accuracy\"], \"Target Test Label Accuracy:\", experiment[\"results\"][\"target_test_label_accuracy\"])\n",
    "print(\"Source Val Label Accuracy:\", experiment[\"results\"][\"source_val_label_accuracy\"], \"Target Val Label Accuracy:\", experiment[\"results\"][\"target_val_label_accuracy\"])"
   ]
  },
  {
   "cell_type": "code",
   "execution_count": 29,
   "id": "dacca602",
   "metadata": {
    "execution": {
     "iopub.execute_input": "2022-03-07T02:02:10.417457Z",
     "iopub.status.busy": "2022-03-07T02:02:10.417197Z",
     "iopub.status.idle": "2022-03-07T02:02:10.431766Z",
     "shell.execute_reply": "2022-03-07T02:02:10.431340Z"
    },
    "papermill": {
     "duration": 0.069231,
     "end_time": "2022-03-07T02:02:10.431859",
     "exception": false,
     "start_time": "2022-03-07T02:02:10.362628",
     "status": "completed"
    },
    "tags": [
     "experiment_json"
    ]
   },
   "outputs": [
    {
     "data": {
      "text/plain": [
       "'{\"experiment_name\": \"tl_1_oracle.run1-oracle.run2\", \"parameters\": {\"experiment_name\": \"tl_1_oracle.run1-oracle.run2\", \"device\": \"cuda\", \"lr\": 0.001, \"seed\": 1337, \"dataset_seed\": 1337, \"n_shot\": 3, \"n_query\": 2, \"train_k_factor\": 3, \"val_k_factor\": 2, \"test_k_factor\": 2, \"torch_default_dtype\": \"torch.float32\", \"n_epoch\": 50, \"patience\": 3, \"criteria_for_best\": \"target_loss\", \"x_net\": [{\"class\": \"nnReshape\", \"kargs\": {\"shape\": [-1, 1, 2, 256]}}, {\"class\": \"Conv2d\", \"kargs\": {\"in_channels\": 1, \"out_channels\": 256, \"kernel_size\": [1, 7], \"bias\": false, \"padding\": [0, 3]}}, {\"class\": \"ReLU\", \"kargs\": {\"inplace\": true}}, {\"class\": \"BatchNorm2d\", \"kargs\": {\"num_features\": 256}}, {\"class\": \"Conv2d\", \"kargs\": {\"in_channels\": 256, \"out_channels\": 80, \"kernel_size\": [2, 7], \"bias\": true, \"padding\": [0, 3]}}, {\"class\": \"ReLU\", \"kargs\": {\"inplace\": true}}, {\"class\": \"BatchNorm2d\", \"kargs\": {\"num_features\": 80}}, {\"class\": \"Flatten\", \"kargs\": {}}, {\"class\": \"Linear\", \"kargs\": {\"in_features\": 20480, \"out_features\": 256}}, {\"class\": \"ReLU\", \"kargs\": {\"inplace\": true}}, {\"class\": \"BatchNorm1d\", \"kargs\": {\"num_features\": 256}}, {\"class\": \"Linear\", \"kargs\": {\"in_features\": 256, \"out_features\": 256}}], \"NUM_LOGS_PER_EPOCH\": 10, \"BEST_MODEL_PATH\": \"./best_model.pth\", \"n_way\": 16, \"datasets\": [{\"labels\": [\"3123D52\", \"3123D65\", \"3123D79\", \"3123D80\", \"3123D54\", \"3123D70\", \"3123D7B\", \"3123D89\", \"3123D58\", \"3123D76\", \"3123D7D\", \"3123EFE\", \"3123D64\", \"3123D78\", \"3123D7E\", \"3124E4A\"], \"domains\": [32, 38, 8, 44, 14, 50, 20, 26], \"num_examples_per_domain_per_label\": 2000, \"pickle_path\": \"/mnt/wd500GB/CSC500/csc500-main/datasets/oracle.Run1_framed_2000Examples_stratified_ds.2022A.pkl\", \"source_or_target_dataset\": \"source\", \"x_transforms\": [\"unit_power\"], \"episode_transforms\": [], \"domain_prefix\": \"ORACLE.run1_\"}, {\"labels\": [\"3123D52\", \"3123D65\", \"3123D79\", \"3123D80\", \"3123D54\", \"3123D70\", \"3123D7B\", \"3123D89\", \"3123D58\", \"3123D76\", \"3123D7D\", \"3123EFE\", \"3123D64\", \"3123D78\", \"3123D7E\", \"3124E4A\"], \"domains\": [32, 38, 8, 44, 14, 50, 20, 26], \"num_examples_per_domain_per_label\": 2000, \"pickle_path\": \"/mnt/wd500GB/CSC500/csc500-main/datasets/oracle.Run2_framed_2000Examples_stratified_ds.2022A.pkl\", \"source_or_target_dataset\": \"target\", \"x_transforms\": [\"unit_power\"], \"episode_transforms\": [], \"domain_prefix\": \"ORACLE.run2_\"}], \"domains_source\": [\"ORACLE.run1_32\", \"ORACLE.run1_38\", \"ORACLE.run1_8\", \"ORACLE.run1_44\", \"ORACLE.run1_14\", \"ORACLE.run1_50\", \"ORACLE.run1_20\", \"ORACLE.run1_26\"], \"domains_target\": [\"ORACLE.run2_32\", \"ORACLE.run2_38\", \"ORACLE.run2_8\", \"ORACLE.run2_44\", \"ORACLE.run2_14\", \"ORACLE.run2_50\", \"ORACLE.run2_20\", \"ORACLE.run2_26\"]}, \"results\": {\"source_test_label_accuracy\": 0.898046875, \"source_test_label_loss\": 0.29330503940582275, \"target_test_label_accuracy\": 0.8747395833333333, \"target_test_label_loss\": 0.39445018768310547, \"source_val_label_accuracy\": 0.8966145833333333, \"source_val_label_loss\": 0.2904318571090698, \"target_val_label_accuracy\": 0.872265625, \"target_val_label_loss\": 0.3882888853549957, \"total_epochs_trained\": 17, \"total_experiment_time_secs\": 3150.009215593338, \"confusion\": {\"ORACLE.run1_14\": {\"15\": {\"15\": 240}, \"3\": {\"3\": 235, \"2\": 2, \"4\": 1, \"5\": 1, \"14\": 1}, \"6\": {\"6\": 204, \"13\": 34, \"2\": 2}, \"1\": {\"1\": 236, \"5\": 4}, \"8\": {\"8\": 240}, \"10\": {\"10\": 240}, \"9\": {\"9\": 240}, \"13\": {\"13\": 184, \"5\": 1, \"6\": 44, \"2\": 7, \"14\": 2, \"4\": 2}, \"12\": {\"12\": 240}, \"5\": {\"5\": 213, \"4\": 11, \"3\": 6, \"2\": 6, \"1\": 4}, \"0\": {\"0\": 239, \"3\": 1}, \"2\": {\"2\": 176, \"3\": 6, \"5\": 12, \"14\": 40, \"13\": 2, \"6\": 4}, \"11\": {\"11\": 232, \"9\": 7, \"0\": 1}, \"14\": {\"14\": 215, \"2\": 23, \"13\": 2}, \"7\": {\"7\": 240}, \"4\": {\"4\": 238, \"5\": 2}}, \"ORACLE.run1_20\": {\"3\": {\"3\": 194, \"12\": 24, \"9\": 17, \"2\": 4, \"4\": 1}, \"15\": {\"15\": 223, \"1\": 7, \"0\": 3, \"5\": 6, \"13\": 1}, \"8\": {\"8\": 237, \"4\": 3}, \"4\": {\"4\": 240}, \"14\": {\"14\": 234, \"6\": 6}, \"0\": {\"5\": 17, \"0\": 214, \"15\": 8, \"8\": 1}, \"7\": {\"7\": 232, \"3\": 1, \"2\": 6, \"9\": 1}, \"6\": {\"6\": 235, \"14\": 5}, \"10\": {\"10\": 240}, \"5\": {\"5\": 228, \"15\": 4, \"0\": 5, \"1\": 2, \"12\": 1}, \"2\": {\"2\": 187, \"12\": 9, \"9\": 23, \"3\": 9, \"7\": 9, \"13\": 3}, \"12\": {\"12\": 187, \"1\": 28, \"3\": 20, \"2\": 5}, \"9\": {\"9\": 200, \"2\": 19, \"3\": 12, \"12\": 9}, \"1\": {\"1\": 208, \"5\": 2, \"12\": 26, \"15\": 4}, \"11\": {\"11\": 240}, \"13\": {\"13\": 240}}, \"ORACLE.run1_38\": {\"5\": {\"8\": 48, \"5\": 157, \"7\": 15, \"13\": 2, \"10\": 2, \"9\": 6, \"0\": 2, \"6\": 3, \"15\": 5}, \"8\": {\"8\": 200, \"7\": 7, \"5\": 19, \"0\": 10, \"15\": 2, \"10\": 2}, \"11\": {\"11\": 237, \"10\": 1, \"14\": 2}, \"1\": {\"1\": 236, \"15\": 4}, \"10\": {\"10\": 226, \"7\": 2, \"8\": 1, \"13\": 10, \"0\": 1}, \"15\": {\"15\": 221, \"8\": 4, \"1\": 9, \"5\": 4, \"2\": 1, \"13\": 1}, \"3\": {\"3\": 237, \"0\": 3}, \"7\": {\"5\": 5, \"8\": 7, \"7\": 223, \"0\": 5}, \"4\": {\"4\": 240}, \"14\": {\"14\": 236, \"2\": 4}, \"9\": {\"9\": 234, \"6\": 6}, \"12\": {\"12\": 239, \"4\": 1}, \"6\": {\"6\": 239, \"9\": 1}, \"2\": {\"2\": 228, \"13\": 4, \"15\": 1, \"14\": 7}, \"0\": {\"8\": 20, \"0\": 204, \"7\": 6, \"3\": 5, \"10\": 2, \"13\": 1, \"5\": 2}, \"13\": {\"13\": 226, \"15\": 6, \"10\": 3, \"8\": 2, \"2\": 3}}, \"ORACLE.run1_8\": {\"9\": {\"9\": 240}, \"10\": {\"10\": 224, \"14\": 7, \"4\": 3, \"13\": 6}, \"13\": {\"13\": 171, \"4\": 21, \"10\": 27, \"0\": 14, \"6\": 4, \"14\": 3}, \"0\": {\"0\": 228, \"7\": 4, \"10\": 3, \"13\": 5}, \"1\": {\"1\": 239, \"11\": 1}, \"15\": {\"15\": 223, \"12\": 17}, \"5\": {\"5\": 225, \"1\": 6, \"14\": 4, \"10\": 5}, \"3\": {\"3\": 240}, \"6\": {\"6\": 213, \"7\": 19, \"4\": 5, \"13\": 3}, \"11\": {\"11\": 239, \"1\": 1}, \"8\": {\"8\": 240}, \"4\": {\"4\": 200, \"13\": 20, \"6\": 6, \"14\": 13, \"10\": 1}, \"12\": {\"12\": 188, \"8\": 2, \"15\": 45, \"3\": 5}, \"14\": {\"14\": 211, \"1\": 6, \"4\": 15, \"10\": 7, \"13\": 1}, \"2\": {\"2\": 233, \"3\": 3, \"7\": 4}, \"7\": {\"7\": 223, \"6\": 17}}, \"ORACLE.run1_50\": {\"7\": {\"7\": 221, \"13\": 5, \"6\": 7, \"5\": 6, \"4\": 1}, \"3\": {\"3\": 239, \"8\": 1}, \"8\": {\"8\": 235, \"10\": 5}, \"2\": {\"2\": 228, \"0\": 12}, \"14\": {\"14\": 240}, \"4\": {\"15\": 17, \"4\": 183, \"5\": 34, \"7\": 2, \"1\": 2, \"13\": 1, \"6\": 1}, \"6\": {\"6\": 225, \"13\": 9, \"15\": 3, \"4\": 1, \"7\": 2}, \"15\": {\"15\": 224, \"4\": 5, \"6\": 1, \"1\": 9, \"11\": 1}, \"10\": {\"10\": 229, \"8\": 2, \"0\": 4, \"13\": 4, \"7\": 1}, \"11\": {\"11\": 230, \"15\": 5, \"12\": 2, \"9\": 2, \"1\": 1}, \"13\": {\"13\": 233, \"5\": 5, \"10\": 2}, \"9\": {\"9\": 230, \"12\": 3, \"11\": 7}, \"0\": {\"0\": 209, \"2\": 21, \"10\": 9, \"13\": 1}, \"1\": {\"15\": 14, \"1\": 214, \"2\": 1, \"5\": 7, \"6\": 1, \"4\": 2, \"13\": 1}, \"12\": {\"12\": 235, \"9\": 4, \"14\": 1}, \"5\": {\"5\": 172, \"4\": 32, \"7\": 15, \"1\": 4, \"13\": 16, \"15\": 1}}, \"ORACLE.run1_32\": {\"8\": {\"8\": 218, \"0\": 14, \"14\": 1, \"13\": 3, \"5\": 3, \"3\": 1}, \"14\": {\"14\": 204, \"11\": 12, \"0\": 18, \"7\": 4, \"8\": 1, \"3\": 1}, \"2\": {\"2\": 208, \"4\": 30, \"7\": 2}, \"0\": {\"0\": 215, \"14\": 11, \"8\": 14}, \"1\": {\"1\": 239, \"10\": 1}, \"10\": {\"10\": 240}, \"11\": {\"11\": 233, \"14\": 7}, \"5\": {\"5\": 157, \"7\": 50, \"3\": 4, \"13\": 12, \"14\": 5, \"4\": 8, \"8\": 3, \"2\": 1}, \"15\": {\"15\": 240}, \"3\": {\"3\": 236, \"13\": 3, \"11\": 1}, \"12\": {\"12\": 240}, \"7\": {\"7\": 193, \"5\": 28, \"4\": 10, \"13\": 5, \"0\": 1, \"2\": 1, \"14\": 2}, \"13\": {\"13\": 213, \"4\": 11, \"3\": 9, \"7\": 2, \"5\": 4, \"8\": 1}, \"6\": {\"6\": 240}, \"4\": {\"2\": 28, \"4\": 201, \"13\": 6, \"7\": 5}, \"9\": {\"9\": 240}}, \"ORACLE.run1_26\": {\"4\": {\"4\": 194, \"0\": 9, \"7\": 14, \"14\": 9, \"1\": 3, \"8\": 10, \"10\": 1}, \"12\": {\"12\": 240}, \"10\": {\"0\": 56, \"10\": 145, \"6\": 3, \"8\": 25, \"4\": 2, \"14\": 9}, \"0\": {\"0\": 116, \"10\": 53, \"8\": 31, \"14\": 25, \"6\": 1, \"4\": 13, \"7\": 1}, \"13\": {\"5\": 26, \"13\": 207, \"9\": 2, \"2\": 4, \"15\": 1}, \"9\": {\"9\": 222, \"15\": 15, \"6\": 3}, \"3\": {\"3\": 190, \"2\": 36, \"7\": 13, \"5\": 1}, \"2\": {\"2\": 114, \"3\": 71, \"7\": 28, \"5\": 22, \"15\": 2, \"13\": 2, \"4\": 1}, \"5\": {\"5\": 220, \"2\": 7, \"13\": 8, \"3\": 2, \"9\": 2, \"15\": 1}, \"14\": {\"4\": 13, \"14\": 158, \"0\": 35, \"10\": 16, \"1\": 12, \"8\": 5, \"6\": 1}, \"8\": {\"7\": 24, \"8\": 161, \"0\": 16, \"10\": 20, \"15\": 5, \"4\": 9, \"14\": 5}, \"7\": {\"7\": 209, \"8\": 5, \"2\": 14, \"4\": 7, \"3\": 5}, \"6\": {\"6\": 221, \"15\": 11, \"10\": 4, \"9\": 4}, \"11\": {\"11\": 240}, \"15\": {\"15\": 200, \"9\": 19, \"8\": 5, \"13\": 3, \"10\": 5, \"2\": 4, \"6\": 2, \"5\": 1, \"0\": 1}, \"1\": {\"1\": 232, \"14\": 5, \"8\": 1, \"4\": 2}}, \"ORACLE.run1_44\": {\"12\": {\"12\": 227, \"1\": 12, \"3\": 1}, \"7\": {\"9\": 31, \"2\": 18, \"7\": 190, \"6\": 1}, \"5\": {\"5\": 212, \"14\": 12, \"0\": 8, \"8\": 3, \"15\": 4, \"4\": 1}, \"15\": {\"15\": 215, \"14\": 9, \"5\": 5, \"0\": 7, \"8\": 4}, \"8\": {\"0\": 76, \"8\": 151, \"15\": 12, \"5\": 1}, \"2\": {\"2\": 205, \"1\": 11, \"7\": 20, \"10\": 4}, \"13\": {\"13\": 194, \"6\": 23, \"9\": 22, \"4\": 1}, \"4\": {\"14\": 54, \"4\": 186}, \"0\": {\"0\": 176, \"5\": 6, \"8\": 51, \"15\": 7}, \"6\": {\"6\": 182, \"9\": 24, \"13\": 29, \"7\": 5}, \"9\": {\"13\": 24, \"9\": 161, \"6\": 14, \"7\": 41}, \"11\": {\"11\": 237, \"13\": 3}, \"10\": {\"1\": 15, \"10\": 214, \"12\": 4, \"2\": 7}, \"14\": {\"14\": 162, \"4\": 64, \"15\": 11, \"5\": 3}, \"1\": {\"3\": 7, \"1\": 195, \"12\": 24, \"10\": 9, \"2\": 5}, \"3\": {\"3\": 233, \"1\": 6, \"2\": 1}}, \"ORACLE.run2_14\": {\"15\": {\"15\": 240}, \"3\": {\"3\": 223, \"5\": 11, \"2\": 4, \"4\": 2}, \"6\": {\"6\": 212, \"13\": 28}, \"1\": {\"1\": 237, \"5\": 3}, \"8\": {\"8\": 240}, \"10\": {\"10\": 240}, \"9\": {\"9\": 240}, \"13\": {\"13\": 201, \"6\": 37, \"2\": 2}, \"12\": {\"12\": 139, \"9\": 46, \"0\": 22, \"8\": 9, \"11\": 23, \"10\": 1}, \"5\": {\"5\": 209, \"2\": 15, \"3\": 6, \"1\": 5, \"4\": 5}, \"0\": {\"0\": 240}, \"2\": {\"14\": 44, \"2\": 150, \"5\": 32, \"4\": 3, \"3\": 9, \"12\": 1, \"6\": 1}, \"11\": {\"11\": 240}, \"14\": {\"2\": 33, \"14\": 206, \"3\": 1}, \"7\": {\"7\": 240}, \"4\": {\"4\": 233, \"5\": 7}}, \"ORACLE.run2_20\": {\"3\": {\"2\": 30, \"9\": 18, \"3\": 182, \"12\": 2, \"7\": 5, \"4\": 2, \"5\": 1}, \"15\": {\"15\": 185, \"13\": 34, \"2\": 3, \"12\": 7, \"1\": 5, \"5\": 4, \"0\": 2}, \"8\": {\"4\": 6, \"8\": 204, \"14\": 24, \"7\": 4, \"6\": 2}, \"4\": {\"3\": 1, \"4\": 238, \"12\": 1}, \"14\": {\"14\": 221, \"6\": 10, \"8\": 9}, \"0\": {\"0\": 234, \"5\": 4, \"15\": 2}, \"7\": {\"7\": 235, \"5\": 1, \"3\": 1, \"8\": 3}, \"6\": {\"6\": 237, \"14\": 3}, \"10\": {\"10\": 240}, \"5\": {\"5\": 196, \"7\": 9, \"15\": 8, \"4\": 5, \"0\": 11, \"2\": 5, \"3\": 4, \"12\": 2}, \"2\": {\"2\": 186, \"5\": 5, \"9\": 9, \"3\": 27, \"12\": 8, \"13\": 1, \"15\": 3, \"1\": 1}, \"12\": {\"2\": 11, \"1\": 38, \"12\": 179, \"9\": 5, \"3\": 1, \"5\": 3, \"15\": 2, \"4\": 1}, \"9\": {\"9\": 189, \"2\": 23, \"3\": 19, \"12\": 6, \"1\": 3}, \"1\": {\"1\": 175, \"12\": 58, \"9\": 5, \"15\": 1, \"5\": 1}, \"11\": {\"11\": 240}, \"13\": {\"13\": 206, \"15\": 33, \"5\": 1}}, \"ORACLE.run2_38\": {\"5\": {\"5\": 158, \"14\": 1, \"7\": 21, \"8\": 55, \"15\": 5}, \"8\": {\"5\": 61, \"15\": 3, \"8\": 161, \"7\": 12, \"10\": 1, \"0\": 1, \"13\": 1}, \"11\": {\"11\": 238, \"4\": 2}, \"1\": {\"1\": 230, \"15\": 9, \"5\": 1}, \"10\": {\"7\": 45, \"10\": 192, \"5\": 1, \"3\": 1, \"13\": 1}, \"15\": {\"5\": 18, \"15\": 192, \"1\": 13, \"8\": 13, \"0\": 3, \"6\": 1}, \"3\": {\"0\": 21, \"3\": 164, \"10\": 8, \"13\": 44, \"8\": 2, \"9\": 1}, \"7\": {\"7\": 164, \"5\": 25, \"10\": 32, \"8\": 15, \"0\": 4}, \"4\": {\"4\": 240}, \"14\": {\"14\": 177, \"5\": 7, \"13\": 1, \"2\": 41, \"7\": 4, \"8\": 4, \"12\": 5, \"11\": 1}, \"9\": {\"9\": 233, \"6\": 7}, \"12\": {\"12\": 240}, \"6\": {\"6\": 235, \"9\": 5}, \"2\": {\"2\": 231, \"14\": 9}, \"0\": {\"0\": 234, \"10\": 3, \"7\": 2, \"8\": 1}, \"13\": {\"13\": 174, \"3\": 48, \"8\": 7, \"0\": 2, \"7\": 1, \"2\": 2, \"10\": 5, \"5\": 1}}, \"ORACLE.run2_8\": {\"9\": {\"9\": 240}, \"10\": {\"10\": 209, \"5\": 18, \"0\": 11, \"14\": 1, \"13\": 1}, \"13\": {\"13\": 230, \"1\": 4, \"14\": 4, \"10\": 1, \"0\": 1}, \"0\": {\"0\": 224, \"14\": 9, \"10\": 7}, \"1\": {\"1\": 238, \"13\": 2}, \"15\": {\"15\": 203, \"12\": 18, \"8\": 19}, \"5\": {\"5\": 226, \"10\": 14}, \"3\": {\"3\": 238, \"12\": 2}, \"6\": {\"6\": 176, \"7\": 13, \"4\": 51}, \"11\": {\"11\": 195, \"8\": 31, \"12\": 10, \"15\": 4}, \"8\": {\"8\": 239, \"11\": 1}, \"4\": {\"7\": 55, \"4\": 137, \"6\": 47, \"2\": 1}, \"12\": {\"12\": 231, \"15\": 8, \"3\": 1}, \"14\": {\"14\": 225, \"0\": 10, \"6\": 2, \"13\": 2, \"10\": 1}, \"2\": {\"2\": 232, \"7\": 8}, \"7\": {\"7\": 161, \"4\": 60, \"6\": 17, \"2\": 2}}, \"ORACLE.run2_50\": {\"7\": {\"7\": 217, \"13\": 13, \"5\": 6, \"6\": 1, \"4\": 3}, \"3\": {\"3\": 237, \"8\": 3}, \"8\": {\"8\": 240}, \"2\": {\"2\": 238, \"0\": 2}, \"14\": {\"14\": 240}, \"4\": {\"5\": 66, \"4\": 163, \"6\": 8, \"1\": 2, \"7\": 1}, \"6\": {\"6\": 223, \"5\": 7, \"1\": 6, \"15\": 2, \"4\": 2}, \"15\": {\"15\": 234, \"5\": 1, \"11\": 1, \"4\": 1, \"1\": 3}, \"10\": {\"10\": 206, \"13\": 31, \"0\": 1, \"6\": 1, \"5\": 1}, \"11\": {\"11\": 232, \"15\": 3, \"9\": 3, \"12\": 1, \"1\": 1}, \"13\": {\"13\": 196, \"7\": 14, \"5\": 4, \"10\": 25, \"4\": 1}, \"9\": {\"9\": 240}, \"0\": {\"0\": 234, \"2\": 2, \"10\": 4}, \"1\": {\"1\": 222, \"4\": 9, \"5\": 4, \"15\": 3, \"6\": 2}, \"12\": {\"12\": 235, \"11\": 3, \"9\": 2}, \"5\": {\"6\": 12, \"5\": 136, \"4\": 70, \"7\": 13, \"13\": 5, \"1\": 2, \"10\": 2}}, \"ORACLE.run2_32\": {\"8\": {\"8\": 217, \"0\": 12, \"3\": 9, \"5\": 2}, \"14\": {\"14\": 230, \"5\": 4, \"0\": 6}, \"2\": {\"2\": 236, \"5\": 4}, \"0\": {\"0\": 194, \"8\": 15, \"11\": 13, \"14\": 11, \"5\": 2, \"4\": 4, \"7\": 1}, \"1\": {\"1\": 240}, \"10\": {\"10\": 240}, \"11\": {\"11\": 217, \"8\": 1, \"0\": 3, \"14\": 2, \"7\": 10, \"4\": 3, \"13\": 4}, \"5\": {\"5\": 188, \"4\": 11, \"8\": 19, \"2\": 6, \"14\": 5, \"0\": 5, \"7\": 6}, \"15\": {\"15\": 240}, \"3\": {\"3\": 237, \"8\": 1, \"13\": 2}, \"12\": {\"12\": 240}, \"7\": {\"7\": 196, \"4\": 19, \"11\": 14, \"5\": 3, \"13\": 7, \"0\": 1}, \"13\": {\"4\": 30, \"13\": 208, \"11\": 1, \"3\": 1}, \"6\": {\"6\": 240}, \"4\": {\"4\": 190, \"7\": 7, \"13\": 38, \"5\": 5}, \"9\": {\"9\": 237, \"2\": 3}}, \"ORACLE.run2_26\": {\"4\": {\"4\": 215, \"14\": 2, \"0\": 3, \"2\": 6, \"3\": 2, \"8\": 5, \"7\": 6, \"15\": 1}, \"12\": {\"12\": 240}, \"10\": {\"10\": 115, \"0\": 72, \"14\": 15, \"8\": 19, \"4\": 3, \"6\": 14, \"15\": 2}, \"0\": {\"0\": 144, \"10\": 36, \"14\": 35, \"15\": 2, \"4\": 8, \"8\": 15}, \"13\": {\"13\": 213, \"5\": 21, \"9\": 6}, \"9\": {\"9\": 227, \"6\": 6, \"13\": 6, \"15\": 1}, \"3\": {\"3\": 209, \"2\": 18, \"4\": 4, \"7\": 9}, \"2\": {\"2\": 124, \"7\": 80, \"3\": 12, \"4\": 7, \"15\": 10, \"5\": 3, \"8\": 3, \"13\": 1}, \"5\": {\"13\": 47, \"9\": 7, \"5\": 150, \"2\": 17, \"8\": 1, \"7\": 10, \"3\": 7, \"6\": 1}, \"14\": {\"14\": 164, \"10\": 19, \"4\": 5, \"0\": 32, \"1\": 16, \"8\": 4}, \"8\": {\"8\": 168, \"10\": 7, \"14\": 14, \"0\": 19, \"7\": 12, \"1\": 1, \"5\": 1, \"2\": 10, \"4\": 7, \"15\": 1}, \"7\": {\"7\": 136, \"2\": 74, \"4\": 12, \"3\": 10, \"8\": 2, \"15\": 6}, \"6\": {\"6\": 233, \"10\": 2, \"9\": 4, \"13\": 1}, \"11\": {\"11\": 240}, \"15\": {\"15\": 208, \"2\": 11, \"4\": 2, \"3\": 4, \"7\": 14, \"8\": 1}, \"1\": {\"1\": 229, \"14\": 9, \"10\": 1, \"4\": 1}}, \"ORACLE.run2_44\": {\"12\": {\"12\": 206, \"1\": 31, \"3\": 3}, \"7\": {\"9\": 70, \"7\": 155, \"2\": 13, \"6\": 2}, \"5\": {\"5\": 221, \"14\": 18, \"15\": 1}, \"15\": {\"15\": 207, \"14\": 24, \"4\": 5, \"8\": 4}, \"8\": {\"8\": 142, \"0\": 97, \"5\": 1}, \"2\": {\"2\": 200, \"9\": 26, \"7\": 14}, \"13\": {\"13\": 238, \"4\": 2}, \"4\": {\"4\": 225, \"14\": 11, \"15\": 1, \"13\": 3}, \"0\": {\"8\": 85, \"0\": 155}, \"6\": {\"6\": 230, \"9\": 4, \"7\": 2, \"13\": 4}, \"9\": {\"9\": 157, \"7\": 48, \"2\": 28, \"6\": 7}, \"11\": {\"11\": 238, \"6\": 1, \"13\": 1}, \"10\": {\"10\": 240}, \"14\": {\"14\": 203, \"5\": 11, \"15\": 17, \"4\": 9}, \"1\": {\"12\": 37, \"1\": 194, \"3\": 9}, \"3\": {\"3\": 223, \"12\": 10, \"1\": 7}}}, \"per_domain_accuracy\": {\"ORACLE.run1_14\": {\"accuracy\": 0.940625, \"source?\": true}, \"ORACLE.run1_20\": {\"accuracy\": 0.9216145833333333, \"source?\": true}, \"ORACLE.run1_38\": {\"accuracy\": 0.9330729166666667, \"source?\": true}, \"ORACLE.run1_8\": {\"accuracy\": 0.92109375, \"source?\": true}, \"ORACLE.run1_50\": {\"accuracy\": 0.9236979166666667, \"source?\": true}, \"ORACLE.run1_32\": {\"accuracy\": 0.9158854166666667, \"source?\": true}, \"ORACLE.run1_26\": {\"accuracy\": 0.79921875, \"source?\": true}, \"ORACLE.run1_44\": {\"accuracy\": 0.8177083333333334, \"source?\": true}, \"ORACLE.run2_14\": {\"accuracy\": 0.9088541666666666, \"source?\": false}, \"ORACLE.run2_20\": {\"accuracy\": 0.8716145833333333, \"source?\": false}, \"ORACLE.run2_38\": {\"accuracy\": 0.8497395833333333, \"source?\": false}, \"ORACLE.run2_8\": {\"accuracy\": 0.8864583333333333, \"source?\": false}, \"ORACLE.run2_50\": {\"accuracy\": 0.9096354166666667, \"source?\": false}, \"ORACLE.run2_32\": {\"accuracy\": 0.9244791666666666, \"source?\": false}, \"ORACLE.run2_26\": {\"accuracy\": 0.78515625, \"source?\": false}, \"ORACLE.run2_44\": {\"accuracy\": 0.8421875, \"source?\": false}}}, \"history\": {\"epoch_indices\": [1, 2, 3, 4, 5, 6, 7, 8, 9, 10, 11, 12, 13, 14, 15, 16, 17], \"train_label_loss\": [0.868300052894102, 0.7003802836883725, 0.49535598502815925, 0.41980215195494347, 0.40028572618639807, 0.3831269210499678, 0.34518785957188813, 0.3286690124407566, 0.30740524240425743, 0.2961211769579677, 0.2775115877793204, 0.26321285894636753, 0.26046095601382796, 0.2521411852496039, 0.24149070423161556, 0.2293035855653302, 0.22449123941454066], \"source_val_label_loss\": [24.204261779785156, 0.5960138440132141, 0.5359607934951782, 0.48099222779273987, 0.43125420808792114, 0.37818723917007446, 0.3793365955352783, 0.34510594606399536, 0.34181588888168335, 0.30568161606788635, 0.3017410337924957, 0.2926803529262543, 0.2904318571090698, 0.2968948483467102, 0.2969208359718323, 0.33559954166412354, 0.28839802742004395], \"target_val_label_loss\": [29.052444458007812, 0.6486130356788635, 0.5965523719787598, 0.5433557629585266, 0.4901571571826935, 0.436259001493454, 0.44612306356430054, 0.42225730419158936, 0.4232162833213806, 0.39712339639663696, 0.3897392451763153, 0.39185234904289246, 0.3882888853549957, 0.3953019976615906, 0.3934967815876007, 0.4337831139564514, 0.3981647789478302], \"source_val_acc_label\": [0.61416015625, 0.7860026041666667, 0.8012044270833333, 0.8318684895833334, 0.8476236979166667, 0.8699544270833334, 0.8627604166666667, 0.87861328125, 0.8786458333333333, 0.8915364583333333, 0.89296875, 0.8963541666666667, 0.8966145833333333, 0.8921549479166667, 0.8931640625, 0.8779622395833333, 0.9001627604166667], \"target_val_acc_label\": [0.6126953125, 0.7795572916666667, 0.79462890625, 0.816796875, 0.8368815104166667, 0.8560872395833333, 0.8505208333333333, 0.86181640625, 0.8592122395833334, 0.8697265625, 0.8714518229166667, 0.8743815104166667, 0.872265625, 0.87177734375, 0.8691080729166667, 0.8548502604166667, 0.87509765625]}, \"dataset_metrics\": {\"source\": {\"train\": {\"n_unique_x\": 179200, \"n_unique_y\": 16, \"n_batch/episode\": 6720}, \"val\": {\"n_unique_x\": 38400, \"n_unique_y\": 16, \"n_batch/episode\": 960}, \"test\": {\"n_unique_x\": 38400, \"n_unique_y\": 16, \"n_batch/episode\": 960}}, \"target\": {\"train\": {\"n_unique_x\": 179200, \"n_unique_y\": 16, \"n_batch/episode\": 6720}, \"val\": {\"n_unique_x\": 38400, \"n_unique_y\": 16, \"n_batch/episode\": 960}, \"test\": {\"n_unique_x\": 38400, \"n_unique_y\": 16, \"n_batch/episode\": 960}}}}'"
      ]
     },
     "execution_count": 29,
     "metadata": {},
     "output_type": "execute_result"
    }
   ],
   "source": [
    "json.dumps(experiment)"
   ]
  }
 ],
 "metadata": {
  "celltoolbar": "Tags",
  "kernelspec": {
   "display_name": "Python 3 (ipykernel)",
   "language": "python",
   "name": "python3"
  },
  "language_info": {
   "codemirror_mode": {
    "name": "ipython",
    "version": 3
   },
   "file_extension": ".py",
   "mimetype": "text/x-python",
   "name": "python",
   "nbconvert_exporter": "python",
   "pygments_lexer": "ipython3",
   "version": "3.8.10"
  },
  "papermill": {
   "default_parameters": {},
   "duration": 3251.358406,
   "end_time": "2022-03-07T02:02:11.700874",
   "environment_variables": {},
   "exception": null,
   "input_path": "/mnt/wd500GB/CSC500/csc500-main/csc500-notebooks/templates/tl_ptn_template.ipynb",
   "output_path": "trial.ipynb",
   "parameters": {
    "parameters": {
     "BEST_MODEL_PATH": "./best_model.pth",
     "NUM_LOGS_PER_EPOCH": 10,
     "criteria_for_best": "target_loss",
     "dataset_seed": 1337,
     "datasets": [
      {
       "domain_prefix": "ORACLE.run1_",
       "domains": [
        32,
        38,
        8,
        44,
        14,
        50,
        20,
        26
       ],
       "episode_transforms": [],
       "labels": [
        "3123D52",
        "3123D65",
        "3123D79",
        "3123D80",
        "3123D54",
        "3123D70",
        "3123D7B",
        "3123D89",
        "3123D58",
        "3123D76",
        "3123D7D",
        "3123EFE",
        "3123D64",
        "3123D78",
        "3123D7E",
        "3124E4A"
       ],
       "num_examples_per_domain_per_label": 2000,
       "pickle_path": "/mnt/wd500GB/CSC500/csc500-main/datasets/oracle.Run1_framed_2000Examples_stratified_ds.2022A.pkl",
       "source_or_target_dataset": "source",
       "x_transforms": [
        "unit_power"
       ]
      },
      {
       "domain_prefix": "ORACLE.run2_",
       "domains": [
        32,
        38,
        8,
        44,
        14,
        50,
        20,
        26
       ],
       "episode_transforms": [],
       "labels": [
        "3123D52",
        "3123D65",
        "3123D79",
        "3123D80",
        "3123D54",
        "3123D70",
        "3123D7B",
        "3123D89",
        "3123D58",
        "3123D76",
        "3123D7D",
        "3123EFE",
        "3123D64",
        "3123D78",
        "3123D7E",
        "3124E4A"
       ],
       "num_examples_per_domain_per_label": 2000,
       "pickle_path": "/mnt/wd500GB/CSC500/csc500-main/datasets/oracle.Run2_framed_2000Examples_stratified_ds.2022A.pkl",
       "source_or_target_dataset": "target",
       "x_transforms": [
        "unit_power"
       ]
      }
     ],
     "device": "cuda",
     "experiment_name": "tl_1_oracle.run1-oracle.run2",
     "lr": 0.001,
     "n_epoch": 50,
     "n_query": 2,
     "n_shot": 3,
     "n_way": 16,
     "patience": 3,
     "seed": 1337,
     "test_k_factor": 2,
     "torch_default_dtype": "torch.float32",
     "train_k_factor": 3,
     "val_k_factor": 2,
     "x_net": [
      {
       "class": "nnReshape",
       "kargs": {
        "shape": [
         -1,
         1,
         2,
         256
        ]
       }
      },
      {
       "class": "Conv2d",
       "kargs": {
        "bias": false,
        "in_channels": 1,
        "kernel_size": [
         1,
         7
        ],
        "out_channels": 256,
        "padding": [
         0,
         3
        ]
       }
      },
      {
       "class": "ReLU",
       "kargs": {
        "inplace": true
       }
      },
      {
       "class": "BatchNorm2d",
       "kargs": {
        "num_features": 256
       }
      },
      {
       "class": "Conv2d",
       "kargs": {
        "bias": true,
        "in_channels": 256,
        "kernel_size": [
         2,
         7
        ],
        "out_channels": 80,
        "padding": [
         0,
         3
        ]
       }
      },
      {
       "class": "ReLU",
       "kargs": {
        "inplace": true
       }
      },
      {
       "class": "BatchNorm2d",
       "kargs": {
        "num_features": 80
       }
      },
      {
       "class": "Flatten",
       "kargs": {}
      },
      {
       "class": "Linear",
       "kargs": {
        "in_features": 20480,
        "out_features": 256
       }
      },
      {
       "class": "ReLU",
       "kargs": {
        "inplace": true
       }
      },
      {
       "class": "BatchNorm1d",
       "kargs": {
        "num_features": 256
       }
      },
      {
       "class": "Linear",
       "kargs": {
        "in_features": 256,
        "out_features": 256
       }
      }
     ]
    }
   },
   "start_time": "2022-03-07T01:08:00.342468",
   "version": "2.3.4"
  }
 },
 "nbformat": 4,
 "nbformat_minor": 5
}