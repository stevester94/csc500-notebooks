{
 "cells": [
  {
   "cell_type": "markdown",
   "id": "9fea5f46",
   "metadata": {
    "papermill": {
     "duration": 0.016333,
     "end_time": "2022-03-07T03:58:18.299205",
     "exception": false,
     "start_time": "2022-03-07T03:58:18.282872",
     "status": "completed"
    },
    "tags": []
   },
   "source": [
    "# Transfer Learning Template"
   ]
  },
  {
   "cell_type": "code",
   "execution_count": 1,
   "id": "0902182a",
   "metadata": {
    "execution": {
     "iopub.execute_input": "2022-03-07T03:58:18.336989Z",
     "iopub.status.busy": "2022-03-07T03:58:18.336344Z",
     "iopub.status.idle": "2022-03-07T03:58:19.079449Z",
     "shell.execute_reply": "2022-03-07T03:58:19.078914Z"
    },
    "papermill": {
     "duration": 0.767622,
     "end_time": "2022-03-07T03:58:19.079577",
     "exception": false,
     "start_time": "2022-03-07T03:58:18.311955",
     "status": "completed"
    },
    "tags": []
   },
   "outputs": [],
   "source": [
    "%load_ext autoreload\n",
    "%autoreload 2\n",
    "%matplotlib inline\n",
    "\n",
    "    \n",
    "import os, json, sys, time, random\n",
    "import numpy as np\n",
    "import torch\n",
    "from torch.optim import Adam\n",
    "from  easydict import EasyDict\n",
    "import matplotlib.pyplot as plt\n",
    "\n",
    "from steves_models.steves_ptn import Steves_Prototypical_Network\n",
    "\n",
    "from steves_utils.lazy_iterable_wrapper import Lazy_Iterable_Wrapper\n",
    "from steves_utils.iterable_aggregator import Iterable_Aggregator\n",
    "from steves_utils.ptn_train_eval_test_jig import  PTN_Train_Eval_Test_Jig\n",
    "from steves_utils.torch_sequential_builder import build_sequential\n",
    "from steves_utils.torch_utils import get_dataset_metrics, ptn_confusion_by_domain_over_dataloader\n",
    "from steves_utils.utils_v2 import (per_domain_accuracy_from_confusion, get_datasets_base_path)\n",
    "from steves_utils.PTN.utils import independent_accuracy_assesment\n",
    "\n",
    "from torch.utils.data import DataLoader\n",
    "\n",
    "from steves_utils.stratified_dataset.episodic_accessor import Episodic_Accessor_Factory\n",
    "\n",
    "from steves_utils.ptn_do_report import (\n",
    "    get_loss_curve,\n",
    "    get_results_table,\n",
    "    get_parameters_table,\n",
    "    get_domain_accuracies,\n",
    ")\n",
    "\n",
    "from steves_utils.transforms import get_chained_transform"
   ]
  },
  {
   "cell_type": "markdown",
   "id": "41c840b4",
   "metadata": {
    "papermill": {
     "duration": 0.013101,
     "end_time": "2022-03-07T03:58:19.112578",
     "exception": false,
     "start_time": "2022-03-07T03:58:19.099477",
     "status": "completed"
    },
    "tags": []
   },
   "source": [
    "# Allowed Parameters\n",
    "These are allowed parameters, not defaults\n",
    "Each of these values need to be present in the injected parameters (the notebook will raise an exception if they are not present)\n",
    "\n",
    "Papermill uses the cell tag \"parameters\" to inject the real parameters below this cell.\n",
    "Enable tags to see what I mean"
   ]
  },
  {
   "cell_type": "code",
   "execution_count": 2,
   "id": "fd44eb83",
   "metadata": {
    "execution": {
     "iopub.execute_input": "2022-03-07T03:58:19.141934Z",
     "iopub.status.busy": "2022-03-07T03:58:19.141659Z",
     "iopub.status.idle": "2022-03-07T03:58:19.156300Z",
     "shell.execute_reply": "2022-03-07T03:58:19.155799Z"
    },
    "papermill": {
     "duration": 0.030587,
     "end_time": "2022-03-07T03:58:19.156404",
     "exception": false,
     "start_time": "2022-03-07T03:58:19.125817",
     "status": "completed"
    },
    "tags": []
   },
   "outputs": [],
   "source": [
    "required_parameters = {\n",
    "    \"experiment_name\",\n",
    "    \"lr\",\n",
    "    \"device\",\n",
    "    \"seed\",\n",
    "    \"dataset_seed\",\n",
    "    \"n_shot\",\n",
    "    \"n_query\",\n",
    "    \"n_way\",\n",
    "    \"train_k_factor\",\n",
    "    \"val_k_factor\",\n",
    "    \"test_k_factor\",\n",
    "    \"n_epoch\",\n",
    "    \"patience\",\n",
    "    \"criteria_for_best\",\n",
    "    \"x_net\",\n",
    "    \"datasets\",\n",
    "    \"torch_default_dtype\",\n",
    "    \"NUM_LOGS_PER_EPOCH\",\n",
    "    \"BEST_MODEL_PATH\",\n",
    "}"
   ]
  },
  {
   "cell_type": "code",
   "execution_count": 3,
   "id": "fa3f0049",
   "metadata": {
    "execution": {
     "iopub.execute_input": "2022-03-07T03:58:19.196511Z",
     "iopub.status.busy": "2022-03-07T03:58:19.196215Z",
     "iopub.status.idle": "2022-03-07T03:58:19.210774Z",
     "shell.execute_reply": "2022-03-07T03:58:19.210315Z"
    },
    "papermill": {
     "duration": 0.036219,
     "end_time": "2022-03-07T03:58:19.210883",
     "exception": false,
     "start_time": "2022-03-07T03:58:19.174664",
     "status": "completed"
    },
    "tags": [
     "parameters"
    ]
   },
   "outputs": [],
   "source": [
    "from steves_utils.CORES.utils import (\n",
    "    ALL_NODES,\n",
    "    ALL_NODES_MINIMUM_1000_EXAMPLES,\n",
    "    ALL_DAYS\n",
    ")\n",
    "\n",
    "from steves_utils.ORACLE.utils_v2 import (\n",
    "    ALL_DISTANCES_FEET_NARROWED,\n",
    "    ALL_RUNS,\n",
    "    ALL_SERIAL_NUMBERS,\n",
    ")\n",
    "\n",
    "standalone_parameters = {}\n",
    "standalone_parameters[\"experiment_name\"] = \"STANDALONE PTN\"\n",
    "standalone_parameters[\"lr\"] = 0.001\n",
    "standalone_parameters[\"device\"] = \"cuda\"\n",
    "\n",
    "standalone_parameters[\"seed\"] = 1337\n",
    "standalone_parameters[\"dataset_seed\"] = 1337\n",
    "\n",
    "standalone_parameters[\"n_way\"] = 8\n",
    "standalone_parameters[\"n_shot\"] = 3\n",
    "standalone_parameters[\"n_query\"]  = 2\n",
    "standalone_parameters[\"train_k_factor\"] = 1\n",
    "standalone_parameters[\"val_k_factor\"] = 2\n",
    "standalone_parameters[\"test_k_factor\"] = 2\n",
    "\n",
    "\n",
    "standalone_parameters[\"n_epoch\"] = 50\n",
    "\n",
    "standalone_parameters[\"patience\"] = 10\n",
    "standalone_parameters[\"criteria_for_best\"] = \"source_loss\"\n",
    "\n",
    "standalone_parameters[\"datasets\"] = [\n",
    "    {\n",
    "        \"labels\": ALL_SERIAL_NUMBERS,\n",
    "        \"domains\": ALL_DISTANCES_FEET_NARROWED,\n",
    "        \"num_examples_per_domain_per_label\": 100,\n",
    "        \"pickle_path\": os.path.join(get_datasets_base_path(), \"oracle.Run1_framed_2000Examples_stratified_ds.2022A.pkl\"),\n",
    "        \"source_or_target_dataset\": \"source\",\n",
    "        \"x_transforms\": [\"unit_mag\", \"minus_two\"],\n",
    "        \"episode_transforms\": [],\n",
    "        \"domain_prefix\": \"ORACLE_\"\n",
    "    },\n",
    "    {\n",
    "        \"labels\": ALL_NODES,\n",
    "        \"domains\": ALL_DAYS,\n",
    "        \"num_examples_per_domain_per_label\": 100,\n",
    "        \"pickle_path\": os.path.join(get_datasets_base_path(), \"cores.stratified_ds.2022A.pkl\"),\n",
    "        \"source_or_target_dataset\": \"target\",\n",
    "        \"x_transforms\": [\"unit_power\", \"times_zero\"],\n",
    "        \"episode_transforms\": [],\n",
    "        \"domain_prefix\": \"CORES_\"\n",
    "    }   \n",
    "]\n",
    "\n",
    "standalone_parameters[\"torch_default_dtype\"] = \"torch.float32\" \n",
    "\n",
    "\n",
    "\n",
    "standalone_parameters[\"x_net\"] =     [\n",
    "    {\"class\": \"nnReshape\", \"kargs\": {\"shape\":[-1, 1, 2, 256]}},\n",
    "    {\"class\": \"Conv2d\", \"kargs\": { \"in_channels\":1, \"out_channels\":256, \"kernel_size\":(1,7), \"bias\":False, \"padding\":(0,3), },},\n",
    "    {\"class\": \"ReLU\", \"kargs\": {\"inplace\": True}},\n",
    "    {\"class\": \"BatchNorm2d\", \"kargs\": {\"num_features\":256}},\n",
    "\n",
    "    {\"class\": \"Conv2d\", \"kargs\": { \"in_channels\":256, \"out_channels\":80, \"kernel_size\":(2,7), \"bias\":True, \"padding\":(0,3), },},\n",
    "    {\"class\": \"ReLU\", \"kargs\": {\"inplace\": True}},\n",
    "    {\"class\": \"BatchNorm2d\", \"kargs\": {\"num_features\":80}},\n",
    "    {\"class\": \"Flatten\", \"kargs\": {}},\n",
    "\n",
    "    {\"class\": \"Linear\", \"kargs\": {\"in_features\": 80*256, \"out_features\": 256}}, # 80 units per IQ pair\n",
    "    {\"class\": \"ReLU\", \"kargs\": {\"inplace\": True}},\n",
    "    {\"class\": \"BatchNorm1d\", \"kargs\": {\"num_features\":256}},\n",
    "\n",
    "    {\"class\": \"Linear\", \"kargs\": {\"in_features\": 256, \"out_features\": 256}},\n",
    "]\n",
    "\n",
    "# Parameters relevant to results\n",
    "# These parameters will basically never need to change\n",
    "standalone_parameters[\"NUM_LOGS_PER_EPOCH\"] = 10\n",
    "standalone_parameters[\"BEST_MODEL_PATH\"] = \"./best_model.pth\"\n",
    "\n",
    "\n",
    "\n",
    "\n"
   ]
  },
  {
   "cell_type": "code",
   "execution_count": 4,
   "id": "298ee7d1",
   "metadata": {
    "execution": {
     "iopub.execute_input": "2022-03-07T03:58:19.253370Z",
     "iopub.status.busy": "2022-03-07T03:58:19.252923Z",
     "iopub.status.idle": "2022-03-07T03:58:19.263998Z",
     "shell.execute_reply": "2022-03-07T03:58:19.264202Z"
    },
    "papermill": {
     "duration": 0.034006,
     "end_time": "2022-03-07T03:58:19.264278",
     "exception": false,
     "start_time": "2022-03-07T03:58:19.230272",
     "status": "completed"
    },
    "tags": [
     "injected-parameters"
    ]
   },
   "outputs": [],
   "source": [
    "# Parameters\n",
    "parameters = {\n",
    "    \"experiment_name\": \"tl_1_oracle.run1-oracle.run2\",\n",
    "    \"device\": \"cuda\",\n",
    "    \"lr\": 0.001,\n",
    "    \"seed\": 1337,\n",
    "    \"dataset_seed\": 1337,\n",
    "    \"n_shot\": 3,\n",
    "    \"n_query\": 2,\n",
    "    \"train_k_factor\": 3,\n",
    "    \"val_k_factor\": 2,\n",
    "    \"test_k_factor\": 2,\n",
    "    \"torch_default_dtype\": \"torch.float32\",\n",
    "    \"n_epoch\": 50,\n",
    "    \"patience\": 3,\n",
    "    \"criteria_for_best\": \"target_loss\",\n",
    "    \"x_net\": [\n",
    "        {\"class\": \"nnReshape\", \"kargs\": {\"shape\": [-1, 1, 2, 256]}},\n",
    "        {\n",
    "            \"class\": \"Conv2d\",\n",
    "            \"kargs\": {\n",
    "                \"in_channels\": 1,\n",
    "                \"out_channels\": 256,\n",
    "                \"kernel_size\": [1, 7],\n",
    "                \"bias\": False,\n",
    "                \"padding\": [0, 3],\n",
    "            },\n",
    "        },\n",
    "        {\"class\": \"ReLU\", \"kargs\": {\"inplace\": True}},\n",
    "        {\"class\": \"BatchNorm2d\", \"kargs\": {\"num_features\": 256}},\n",
    "        {\n",
    "            \"class\": \"Conv2d\",\n",
    "            \"kargs\": {\n",
    "                \"in_channels\": 256,\n",
    "                \"out_channels\": 80,\n",
    "                \"kernel_size\": [2, 7],\n",
    "                \"bias\": True,\n",
    "                \"padding\": [0, 3],\n",
    "            },\n",
    "        },\n",
    "        {\"class\": \"ReLU\", \"kargs\": {\"inplace\": True}},\n",
    "        {\"class\": \"BatchNorm2d\", \"kargs\": {\"num_features\": 80}},\n",
    "        {\"class\": \"Flatten\", \"kargs\": {}},\n",
    "        {\"class\": \"Linear\", \"kargs\": {\"in_features\": 20480, \"out_features\": 256}},\n",
    "        {\"class\": \"ReLU\", \"kargs\": {\"inplace\": True}},\n",
    "        {\"class\": \"BatchNorm1d\", \"kargs\": {\"num_features\": 256}},\n",
    "        {\"class\": \"Linear\", \"kargs\": {\"in_features\": 256, \"out_features\": 256}},\n",
    "    ],\n",
    "    \"NUM_LOGS_PER_EPOCH\": 10,\n",
    "    \"BEST_MODEL_PATH\": \"./best_model.pth\",\n",
    "    \"n_way\": 16,\n",
    "    \"datasets\": [\n",
    "        {\n",
    "            \"labels\": [\n",
    "                \"3123D52\",\n",
    "                \"3123D65\",\n",
    "                \"3123D79\",\n",
    "                \"3123D80\",\n",
    "                \"3123D54\",\n",
    "                \"3123D70\",\n",
    "                \"3123D7B\",\n",
    "                \"3123D89\",\n",
    "                \"3123D58\",\n",
    "                \"3123D76\",\n",
    "                \"3123D7D\",\n",
    "                \"3123EFE\",\n",
    "                \"3123D64\",\n",
    "                \"3123D78\",\n",
    "                \"3123D7E\",\n",
    "                \"3124E4A\",\n",
    "            ],\n",
    "            \"domains\": [32, 38, 8, 44, 14, 50, 20, 26],\n",
    "            \"num_examples_per_domain_per_label\": 2000,\n",
    "            \"pickle_path\": \"/mnt/wd500GB/CSC500/csc500-main/datasets/oracle.Run1_framed_2000Examples_stratified_ds.2022A.pkl\",\n",
    "            \"source_or_target_dataset\": \"target\",\n",
    "            \"x_transforms\": [\"unit_power\"],\n",
    "            \"episode_transforms\": [],\n",
    "            \"domain_prefix\": \"ORACLE.run1_\",\n",
    "        },\n",
    "        {\n",
    "            \"labels\": [\n",
    "                \"3123D52\",\n",
    "                \"3123D65\",\n",
    "                \"3123D79\",\n",
    "                \"3123D80\",\n",
    "                \"3123D54\",\n",
    "                \"3123D70\",\n",
    "                \"3123D7B\",\n",
    "                \"3123D89\",\n",
    "                \"3123D58\",\n",
    "                \"3123D76\",\n",
    "                \"3123D7D\",\n",
    "                \"3123EFE\",\n",
    "                \"3123D64\",\n",
    "                \"3123D78\",\n",
    "                \"3123D7E\",\n",
    "                \"3124E4A\",\n",
    "            ],\n",
    "            \"domains\": [32, 38, 8, 44, 14, 50, 20, 26],\n",
    "            \"num_examples_per_domain_per_label\": 2000,\n",
    "            \"pickle_path\": \"/mnt/wd500GB/CSC500/csc500-main/datasets/oracle.Run2_framed_2000Examples_stratified_ds.2022A.pkl\",\n",
    "            \"source_or_target_dataset\": \"source\",\n",
    "            \"x_transforms\": [\"unit_power\"],\n",
    "            \"episode_transforms\": [],\n",
    "            \"domain_prefix\": \"ORACLE.run2_\",\n",
    "        },\n",
    "    ],\n",
    "}\n"
   ]
  },
  {
   "cell_type": "code",
   "execution_count": 5,
   "id": "8fa1cc33",
   "metadata": {
    "execution": {
     "iopub.execute_input": "2022-03-07T03:58:19.295679Z",
     "iopub.status.busy": "2022-03-07T03:58:19.295149Z",
     "iopub.status.idle": "2022-03-07T03:58:19.306146Z",
     "shell.execute_reply": "2022-03-07T03:58:19.305693Z"
    },
    "papermill": {
     "duration": 0.026649,
     "end_time": "2022-03-07T03:58:19.306248",
     "exception": false,
     "start_time": "2022-03-07T03:58:19.279599",
     "status": "completed"
    },
    "tags": []
   },
   "outputs": [],
   "source": [
    "# Set this to True if you want to run this template directly\n",
    "STANDALONE = False\n",
    "if STANDALONE:\n",
    "    print(\"parameters not injected, running with standalone_parameters\")\n",
    "    parameters = standalone_parameters\n",
    "\n",
    "if not 'parameters' in locals() and not 'parameters' in globals():\n",
    "    raise Exception(\"Parameter injection failed\")\n",
    "\n",
    "#Use an easy dict for all the parameters\n",
    "p = EasyDict(parameters)\n",
    "\n",
    "supplied_keys = set(p.keys())\n",
    "\n",
    "if  supplied_keys != required_parameters:\n",
    "    print(\"Parameters are incorrect\")\n",
    "    if len(supplied_keys - required_parameters)>0: print(\"Shouldn't have:\", str(supplied_keys - required_parameters))\n",
    "    if len(required_parameters - supplied_keys)>0: print(\"Need to have:\", str(required_parameters - supplied_keys))\n",
    "    raise RuntimeError(\"Parameters are incorrect\")\n",
    "\n"
   ]
  },
  {
   "cell_type": "code",
   "execution_count": 6,
   "id": "3a028d58",
   "metadata": {
    "execution": {
     "iopub.execute_input": "2022-03-07T03:58:19.337050Z",
     "iopub.status.busy": "2022-03-07T03:58:19.336801Z",
     "iopub.status.idle": "2022-03-07T03:58:19.349925Z",
     "shell.execute_reply": "2022-03-07T03:58:19.349436Z"
    },
    "papermill": {
     "duration": 0.028189,
     "end_time": "2022-03-07T03:58:19.350028",
     "exception": false,
     "start_time": "2022-03-07T03:58:19.321839",
     "status": "completed"
    },
    "tags": []
   },
   "outputs": [],
   "source": [
    "###################################\n",
    "# Set the RNGs and make it all deterministic\n",
    "###################################\n",
    "np.random.seed(p.seed)\n",
    "random.seed(p.seed)\n",
    "torch.manual_seed(p.seed)\n",
    "\n",
    "torch.use_deterministic_algorithms(True) "
   ]
  },
  {
   "cell_type": "code",
   "execution_count": 7,
   "id": "b691acf6",
   "metadata": {
    "execution": {
     "iopub.execute_input": "2022-03-07T03:58:19.379371Z",
     "iopub.status.busy": "2022-03-07T03:58:19.378667Z",
     "iopub.status.idle": "2022-03-07T03:58:19.390104Z",
     "shell.execute_reply": "2022-03-07T03:58:19.389727Z"
    },
    "papermill": {
     "duration": 0.025502,
     "end_time": "2022-03-07T03:58:19.390184",
     "exception": false,
     "start_time": "2022-03-07T03:58:19.364682",
     "status": "completed"
    },
    "tags": []
   },
   "outputs": [],
   "source": [
    "###########################################\n",
    "# The stratified datasets honor this\n",
    "###########################################\n",
    "torch.set_default_dtype(eval(p.torch_default_dtype))"
   ]
  },
  {
   "cell_type": "code",
   "execution_count": 8,
   "id": "b5fba671",
   "metadata": {
    "execution": {
     "iopub.execute_input": "2022-03-07T03:58:19.422030Z",
     "iopub.status.busy": "2022-03-07T03:58:19.421786Z",
     "iopub.status.idle": "2022-03-07T03:58:19.460811Z",
     "shell.execute_reply": "2022-03-07T03:58:19.461227Z"
    },
    "papermill": {
     "duration": 0.053864,
     "end_time": "2022-03-07T03:58:19.461359",
     "exception": false,
     "start_time": "2022-03-07T03:58:19.407495",
     "status": "completed"
    },
    "tags": []
   },
   "outputs": [],
   "source": [
    "###################################\n",
    "# Build the network(s)\n",
    "# Note: It's critical to do this AFTER setting the RNG\n",
    "###################################\n",
    "x_net = build_sequential(p.x_net)"
   ]
  },
  {
   "cell_type": "code",
   "execution_count": 9,
   "id": "5d7e61cc",
   "metadata": {
    "execution": {
     "iopub.execute_input": "2022-03-07T03:58:19.494611Z",
     "iopub.status.busy": "2022-03-07T03:58:19.494368Z",
     "iopub.status.idle": "2022-03-07T03:58:19.507760Z",
     "shell.execute_reply": "2022-03-07T03:58:19.507341Z"
    },
    "papermill": {
     "duration": 0.02846,
     "end_time": "2022-03-07T03:58:19.507861",
     "exception": false,
     "start_time": "2022-03-07T03:58:19.479401",
     "status": "completed"
    },
    "tags": []
   },
   "outputs": [],
   "source": [
    "start_time_secs = time.time()"
   ]
  },
  {
   "cell_type": "code",
   "execution_count": 10,
   "id": "c6b67dfd",
   "metadata": {
    "execution": {
     "iopub.execute_input": "2022-03-07T03:58:19.540000Z",
     "iopub.status.busy": "2022-03-07T03:58:19.539754Z",
     "iopub.status.idle": "2022-03-07T03:58:19.552217Z",
     "shell.execute_reply": "2022-03-07T03:58:19.552612Z"
    },
    "papermill": {
     "duration": 0.028223,
     "end_time": "2022-03-07T03:58:19.552730",
     "exception": false,
     "start_time": "2022-03-07T03:58:19.524507",
     "status": "completed"
    },
    "tags": []
   },
   "outputs": [],
   "source": [
    "p.domains_source = []\n",
    "p.domains_target = []\n",
    "\n",
    "\n",
    "train_original_source = []\n",
    "val_original_source   = []\n",
    "test_original_source  = []\n",
    "\n",
    "train_original_target = []\n",
    "val_original_target   = []\n",
    "test_original_target  = []"
   ]
  },
  {
   "cell_type": "code",
   "execution_count": 11,
   "id": "e3d9c3d3",
   "metadata": {
    "execution": {
     "iopub.execute_input": "2022-03-07T03:58:19.585862Z",
     "iopub.status.busy": "2022-03-07T03:58:19.585618Z",
     "iopub.status.idle": "2022-03-07T03:58:19.598725Z",
     "shell.execute_reply": "2022-03-07T03:58:19.598460Z"
    },
    "papermill": {
     "duration": 0.02767,
     "end_time": "2022-03-07T03:58:19.598779",
     "exception": false,
     "start_time": "2022-03-07T03:58:19.571109",
     "status": "completed"
    },
    "tags": []
   },
   "outputs": [],
   "source": [
    "# global_x_transform_func = lambda x: normalize(x.to(torch.get_default_dtype()), \"unit_power\") # unit_power, unit_mag\n",
    "# global_x_transform_func = lambda x: normalize(x, \"unit_power\") # unit_power, unit_mag"
   ]
  },
  {
   "cell_type": "code",
   "execution_count": 12,
   "id": "acb78fd2",
   "metadata": {
    "execution": {
     "iopub.execute_input": "2022-03-07T03:58:19.636555Z",
     "iopub.status.busy": "2022-03-07T03:58:19.636188Z",
     "iopub.status.idle": "2022-03-07T03:58:19.648098Z",
     "shell.execute_reply": "2022-03-07T03:58:19.647678Z"
    },
    "papermill": {
     "duration": 0.032198,
     "end_time": "2022-03-07T03:58:19.648197",
     "exception": false,
     "start_time": "2022-03-07T03:58:19.615999",
     "status": "completed"
    },
    "tags": []
   },
   "outputs": [],
   "source": [
    "def add_dataset(\n",
    "    labels,\n",
    "    domains,\n",
    "    pickle_path,\n",
    "    x_transforms,\n",
    "    episode_transforms,\n",
    "    domain_prefix,\n",
    "    num_examples_per_domain_per_label,\n",
    "    source_or_target_dataset:str,\n",
    "    iterator_seed=p.seed,\n",
    "    dataset_seed=p.dataset_seed,\n",
    "    n_shot=p.n_shot,\n",
    "    n_way=p.n_way,\n",
    "    n_query=p.n_query,\n",
    "    train_val_test_k_factors=(p.train_k_factor,p.val_k_factor,p.test_k_factor),\n",
    "):\n",
    "   \n",
    "    if x_transforms == []: x_transform = None\n",
    "    else: x_transform = get_chained_transform(x_transforms)\n",
    "    \n",
    "    if episode_transforms == []: episode_transform = None\n",
    "    else: raise Exception(\"episode_transforms not implemented\")\n",
    "    \n",
    "    episode_transform = lambda tup, _prefix=domain_prefix: (_prefix + str(tup[0]), tup[1])\n",
    "\n",
    "\n",
    "    eaf = Episodic_Accessor_Factory(\n",
    "        labels=labels,\n",
    "        domains=domains,\n",
    "        num_examples_per_domain_per_label=num_examples_per_domain_per_label,\n",
    "        iterator_seed=iterator_seed,\n",
    "        dataset_seed=dataset_seed,\n",
    "        n_shot=n_shot,\n",
    "        n_way=n_way,\n",
    "        n_query=n_query,\n",
    "        train_val_test_k_factors=train_val_test_k_factors,\n",
    "        pickle_path=pickle_path,\n",
    "        x_transform_func=x_transform,\n",
    "    )\n",
    "\n",
    "    train, val, test = eaf.get_train(), eaf.get_val(), eaf.get_test()\n",
    "    train = Lazy_Iterable_Wrapper(train, episode_transform)\n",
    "    val = Lazy_Iterable_Wrapper(val, episode_transform)\n",
    "    test = Lazy_Iterable_Wrapper(test, episode_transform)\n",
    "\n",
    "    if source_or_target_dataset==\"source\":\n",
    "        train_original_source.append(train)\n",
    "        val_original_source.append(val)\n",
    "        test_original_source.append(test)\n",
    "\n",
    "        p.domains_source.extend(\n",
    "            [domain_prefix + str(u) for u in domains]\n",
    "        )\n",
    "    elif source_or_target_dataset==\"target\":\n",
    "        train_original_target.append(train)\n",
    "        val_original_target.append(val)\n",
    "        test_original_target.append(test)\n",
    "        p.domains_target.extend(\n",
    "            [domain_prefix + str(u) for u in domains]\n",
    "        )\n",
    "    else:\n",
    "        raise Exception(f\"invalid source_or_target_dataset: {source_or_target_dataset}\")\n",
    "    "
   ]
  },
  {
   "cell_type": "code",
   "execution_count": 13,
   "id": "fe266617",
   "metadata": {
    "execution": {
     "iopub.execute_input": "2022-03-07T03:58:19.681443Z",
     "iopub.status.busy": "2022-03-07T03:58:19.681201Z",
     "iopub.status.idle": "2022-03-07T03:58:52.151739Z",
     "shell.execute_reply": "2022-03-07T03:58:52.151312Z"
    },
    "papermill": {
     "duration": 32.485131,
     "end_time": "2022-03-07T03:58:52.151843",
     "exception": false,
     "start_time": "2022-03-07T03:58:19.666712",
     "status": "completed"
    },
    "tags": []
   },
   "outputs": [],
   "source": [
    "for ds in p.datasets:\n",
    "    add_dataset(**ds)"
   ]
  },
  {
   "cell_type": "code",
   "execution_count": 14,
   "id": "b90d65ac",
   "metadata": {
    "execution": {
     "iopub.execute_input": "2022-03-07T03:58:52.186357Z",
     "iopub.status.busy": "2022-03-07T03:58:52.186107Z",
     "iopub.status.idle": "2022-03-07T03:58:52.199787Z",
     "shell.execute_reply": "2022-03-07T03:58:52.199334Z"
    },
    "papermill": {
     "duration": 0.029081,
     "end_time": "2022-03-07T03:58:52.199875",
     "exception": false,
     "start_time": "2022-03-07T03:58:52.170794",
     "status": "completed"
    },
    "tags": []
   },
   "outputs": [],
   "source": [
    "# from steves_utils.CORES.utils import (\n",
    "#     ALL_NODES,\n",
    "#     ALL_NODES_MINIMUM_1000_EXAMPLES,\n",
    "#     ALL_DAYS\n",
    "# )\n",
    "\n",
    "# add_dataset(\n",
    "#     labels=ALL_NODES,\n",
    "#     domains = ALL_DAYS,\n",
    "#     num_examples_per_domain_per_label=100,\n",
    "#     pickle_path=os.path.join(get_datasets_base_path(), \"cores.stratified_ds.2022A.pkl\"),\n",
    "#     source_or_target_dataset=\"target\",\n",
    "#     x_transform_func=global_x_transform_func,\n",
    "#     domain_modifier=lambda u: f\"cores_{u}\"\n",
    "# )"
   ]
  },
  {
   "cell_type": "code",
   "execution_count": 15,
   "id": "76db484d",
   "metadata": {
    "execution": {
     "iopub.execute_input": "2022-03-07T03:58:52.233885Z",
     "iopub.status.busy": "2022-03-07T03:58:52.233636Z",
     "iopub.status.idle": "2022-03-07T03:58:52.241425Z",
     "shell.execute_reply": "2022-03-07T03:58:52.241181Z"
    },
    "papermill": {
     "duration": 0.022757,
     "end_time": "2022-03-07T03:58:52.241473",
     "exception": false,
     "start_time": "2022-03-07T03:58:52.218716",
     "status": "completed"
    },
    "tags": []
   },
   "outputs": [],
   "source": [
    "# from steves_utils.ORACLE.utils_v2 import (\n",
    "#     ALL_DISTANCES_FEET,\n",
    "#     ALL_RUNS,\n",
    "#     ALL_SERIAL_NUMBERS,\n",
    "# )\n",
    "\n",
    "\n",
    "# add_dataset(\n",
    "#     labels=ALL_SERIAL_NUMBERS,\n",
    "#     domains = list(set(ALL_DISTANCES_FEET) - {2,62}),\n",
    "#     num_examples_per_domain_per_label=100,\n",
    "#     pickle_path=os.path.join(get_datasets_base_path(), \"oracle.Run2_framed_2000Examples_stratified_ds.2022A.pkl\"),\n",
    "#     source_or_target_dataset=\"source\",\n",
    "#     x_transform_func=global_x_transform_func,\n",
    "#     domain_modifier=lambda u: f\"oracle1_{u}\"\n",
    "# )\n"
   ]
  },
  {
   "cell_type": "code",
   "execution_count": 16,
   "id": "97dea9d2",
   "metadata": {
    "execution": {
     "iopub.execute_input": "2022-03-07T03:58:52.272292Z",
     "iopub.status.busy": "2022-03-07T03:58:52.272039Z",
     "iopub.status.idle": "2022-03-07T03:58:52.280567Z",
     "shell.execute_reply": "2022-03-07T03:58:52.280359Z"
    },
    "papermill": {
     "duration": 0.023289,
     "end_time": "2022-03-07T03:58:52.280615",
     "exception": false,
     "start_time": "2022-03-07T03:58:52.257326",
     "status": "completed"
    },
    "tags": []
   },
   "outputs": [],
   "source": [
    "# from steves_utils.ORACLE.utils_v2 import (\n",
    "#     ALL_DISTANCES_FEET,\n",
    "#     ALL_RUNS,\n",
    "#     ALL_SERIAL_NUMBERS,\n",
    "# )\n",
    "\n",
    "\n",
    "# add_dataset(\n",
    "#     labels=ALL_SERIAL_NUMBERS,\n",
    "#     domains = list(set(ALL_DISTANCES_FEET) - {2,62,56}),\n",
    "#     num_examples_per_domain_per_label=100,\n",
    "#     pickle_path=os.path.join(get_datasets_base_path(), \"oracle.Run2_framed_2000Examples_stratified_ds.2022A.pkl\"),\n",
    "#     source_or_target_dataset=\"source\",\n",
    "#     x_transform_func=global_x_transform_func,\n",
    "#     domain_modifier=lambda u: f\"oracle2_{u}\"\n",
    "# )"
   ]
  },
  {
   "cell_type": "code",
   "execution_count": 17,
   "id": "6f289866",
   "metadata": {
    "execution": {
     "iopub.execute_input": "2022-03-07T03:58:52.309212Z",
     "iopub.status.busy": "2022-03-07T03:58:52.308966Z",
     "iopub.status.idle": "2022-03-07T03:58:52.321849Z",
     "shell.execute_reply": "2022-03-07T03:58:52.322196Z"
    },
    "papermill": {
     "duration": 0.028355,
     "end_time": "2022-03-07T03:58:52.322302",
     "exception": false,
     "start_time": "2022-03-07T03:58:52.293947",
     "status": "completed"
    },
    "tags": []
   },
   "outputs": [],
   "source": [
    "# add_dataset(\n",
    "#     labels=list(range(19)),\n",
    "#     domains = [0,1,2],\n",
    "#     num_examples_per_domain_per_label=100,\n",
    "#     pickle_path=os.path.join(get_datasets_base_path(), \"metehan.stratified_ds.2022A.pkl\"),\n",
    "#     source_or_target_dataset=\"target\",\n",
    "#     x_transform_func=global_x_transform_func,\n",
    "#     domain_modifier=lambda u: f\"met_{u}\"\n",
    "# )"
   ]
  },
  {
   "cell_type": "code",
   "execution_count": 18,
   "id": "86a863c3",
   "metadata": {
    "execution": {
     "iopub.execute_input": "2022-03-07T03:58:52.354831Z",
     "iopub.status.busy": "2022-03-07T03:58:52.354562Z",
     "iopub.status.idle": "2022-03-07T03:58:52.367583Z",
     "shell.execute_reply": "2022-03-07T03:58:52.367982Z"
    },
    "papermill": {
     "duration": 0.028532,
     "end_time": "2022-03-07T03:58:52.368102",
     "exception": false,
     "start_time": "2022-03-07T03:58:52.339570",
     "status": "completed"
    },
    "tags": []
   },
   "outputs": [],
   "source": [
    "# # from steves_utils.wisig.utils import (\n",
    "# #     ALL_NODES_MINIMUM_100_EXAMPLES,\n",
    "# #     ALL_NODES_MINIMUM_500_EXAMPLES,\n",
    "# #     ALL_NODES_MINIMUM_1000_EXAMPLES,\n",
    "# #     ALL_DAYS\n",
    "# # )\n",
    "\n",
    "# import steves_utils.wisig.utils as wisig\n",
    "\n",
    "\n",
    "# add_dataset(\n",
    "#     labels=wisig.ALL_NODES_MINIMUM_100_EXAMPLES,\n",
    "#     domains = wisig.ALL_DAYS,\n",
    "#     num_examples_per_domain_per_label=100,\n",
    "#     pickle_path=os.path.join(get_datasets_base_path(), \"wisig.node3-19.stratified_ds.2022A.pkl\"),\n",
    "#     source_or_target_dataset=\"target\",\n",
    "#     x_transform_func=global_x_transform_func,\n",
    "#     domain_modifier=lambda u: f\"wisig_{u}\"\n",
    "# )"
   ]
  },
  {
   "cell_type": "code",
   "execution_count": 19,
   "id": "fd5442bc",
   "metadata": {
    "execution": {
     "iopub.execute_input": "2022-03-07T03:58:52.405209Z",
     "iopub.status.busy": "2022-03-07T03:58:52.404733Z",
     "iopub.status.idle": "2022-03-07T03:58:52.417371Z",
     "shell.execute_reply": "2022-03-07T03:58:52.416928Z"
    },
    "papermill": {
     "duration": 0.030713,
     "end_time": "2022-03-07T03:58:52.417459",
     "exception": false,
     "start_time": "2022-03-07T03:58:52.386746",
     "status": "completed"
    },
    "tags": []
   },
   "outputs": [],
   "source": [
    "###################################\n",
    "# Build the dataset\n",
    "###################################\n",
    "train_original_source = Iterable_Aggregator(train_original_source, p.seed)\n",
    "val_original_source = Iterable_Aggregator(val_original_source, p.seed)\n",
    "test_original_source = Iterable_Aggregator(test_original_source, p.seed)\n",
    "\n",
    "\n",
    "train_original_target = Iterable_Aggregator(train_original_target, p.seed)\n",
    "val_original_target = Iterable_Aggregator(val_original_target, p.seed)\n",
    "test_original_target = Iterable_Aggregator(test_original_target, p.seed)\n",
    "\n",
    "# For CNN We only use X and Y. And we only train on the source.\n",
    "# Properly form the data using a transform lambda and Lazy_Iterable_Wrapper. Finally wrap them in a dataloader\n",
    "\n",
    "transform_lambda = lambda ex: ex[1] # Original is (<domain>, <episode>) so we strip down to episode only\n",
    "\n",
    "train_processed_source = Lazy_Iterable_Wrapper(train_original_source, transform_lambda)\n",
    "val_processed_source   = Lazy_Iterable_Wrapper(val_original_source, transform_lambda)\n",
    "test_processed_source  = Lazy_Iterable_Wrapper(test_original_source, transform_lambda)\n",
    "\n",
    "train_processed_target = Lazy_Iterable_Wrapper(train_original_target, transform_lambda)\n",
    "val_processed_target   = Lazy_Iterable_Wrapper(val_original_target, transform_lambda)\n",
    "test_processed_target  = Lazy_Iterable_Wrapper(test_original_target, transform_lambda)\n",
    "\n",
    "datasets = EasyDict({\n",
    "    \"source\": {\n",
    "        \"original\": {\"train\":train_original_source, \"val\":val_original_source, \"test\":test_original_source},\n",
    "        \"processed\": {\"train\":train_processed_source, \"val\":val_processed_source, \"test\":test_processed_source}\n",
    "    },\n",
    "    \"target\": {\n",
    "        \"original\": {\"train\":train_original_target, \"val\":val_original_target, \"test\":test_original_target},\n",
    "        \"processed\": {\"train\":train_processed_target, \"val\":val_processed_target, \"test\":test_processed_target}\n",
    "    },\n",
    "})"
   ]
  },
  {
   "cell_type": "code",
   "execution_count": 20,
   "id": "5b3c01fc",
   "metadata": {
    "execution": {
     "iopub.execute_input": "2022-03-07T03:58:52.449342Z",
     "iopub.status.busy": "2022-03-07T03:58:52.449075Z",
     "iopub.status.idle": "2022-03-07T03:58:58.967978Z",
     "shell.execute_reply": "2022-03-07T03:58:58.968335Z"
    },
    "papermill": {
     "duration": 6.534942,
     "end_time": "2022-03-07T03:58:58.968439",
     "exception": false,
     "start_time": "2022-03-07T03:58:52.433497",
     "status": "completed"
    },
    "tags": []
   },
   "outputs": [
    {
     "name": "stdout",
     "output_type": "stream",
     "text": [
      "{'ORACLE.run2_8', 'ORACLE.run2_38', 'ORACLE.run2_32', 'ORACLE.run2_50', 'ORACLE.run2_44', 'ORACLE.run2_14', 'ORACLE.run2_20', 'ORACLE.run2_26'}\n"
     ]
    },
    {
     "name": "stdout",
     "output_type": "stream",
     "text": [
      "{'ORACLE.run1_26', 'ORACLE.run1_44', 'ORACLE.run1_38', 'ORACLE.run1_20', 'ORACLE.run1_50', 'ORACLE.run1_8', 'ORACLE.run1_32', 'ORACLE.run1_14'}\n"
     ]
    },
    {
     "name": "stdout",
     "output_type": "stream",
     "text": [
      "tensor([[[ 0.8991,  0.0908, -1.0172,  ...,  0.2816,  1.3714,  0.1453],\n",
      "         [ 0.3815,  1.1444, -0.4632,  ..., -0.9264, -0.0727, -1.0263]],\n",
      "\n",
      "        [[ 0.9651,  0.3642, -1.1107,  ..., -0.2458,  1.2018, -0.3551],\n",
      "         [ 0.0546,  0.9833, -0.1001,  ..., -1.1927, -0.6555, -0.9924]],\n",
      "\n",
      "        [[ 0.2039,  1.0937, -0.5654,  ..., -1.2235,  0.7322,  0.2225],\n",
      "         [-0.5561,  0.3986,  0.7044,  ..., -0.5191, -1.0752, -0.8991]],\n",
      "\n",
      "        ...,\n",
      "\n",
      "        [[ 0.0504, -1.2349,  0.2331,  ...,  1.1845, -0.3213,  0.0819],\n",
      "         [ 0.6490, -0.0693, -0.7876,  ...,  0.0000,  1.2665,  0.9892]],\n",
      "\n",
      "        [[ 0.7104, -0.5484, -0.8973,  ...,  1.0718,  0.8849, -0.3677],\n",
      "         [ 0.9222,  0.4237, -0.9721,  ..., -0.5297, -0.3739, -1.2400]],\n",
      "\n",
      "        [[ 0.3635, -0.6768, -0.4199,  ...,  1.0653,  1.1029,  0.7019],\n",
      "         [ 1.0402,  0.4951, -1.2408,  ..., -0.3133,  0.6768, -1.0402]]])\n"
     ]
    }
   ],
   "source": [
    "from steves_utils.transforms import get_average_magnitude, get_average_power\n",
    "\n",
    "print(set([u for u,_ in val_original_source]))\n",
    "print(set([u for u,_ in val_original_target]))\n",
    "\n",
    "s_x, s_y, q_x, q_y, _ = next(iter(train_processed_source))\n",
    "print(s_x)\n",
    "\n",
    "# for ds in [\n",
    "#     train_processed_source,\n",
    "#     val_processed_source,\n",
    "#     test_processed_source,\n",
    "#     train_processed_target,\n",
    "#     val_processed_target,\n",
    "#     test_processed_target\n",
    "# ]:\n",
    "#     for s_x, s_y, q_x, q_y, _ in ds:\n",
    "#         for X in (s_x, q_x):\n",
    "#             for x in X:\n",
    "#                 assert np.isclose(get_average_magnitude(x.numpy()), 1.0)\n",
    "#                 assert np.isclose(get_average_power(x.numpy()), 1.0)\n",
    "                "
   ]
  },
  {
   "cell_type": "code",
   "execution_count": 21,
   "id": "bbdacba1",
   "metadata": {
    "execution": {
     "iopub.execute_input": "2022-03-07T03:58:59.003977Z",
     "iopub.status.busy": "2022-03-07T03:58:59.003699Z",
     "iopub.status.idle": "2022-03-07T03:58:59.060264Z",
     "shell.execute_reply": "2022-03-07T03:58:59.059926Z"
    },
    "papermill": {
     "duration": 0.074073,
     "end_time": "2022-03-07T03:58:59.060349",
     "exception": false,
     "start_time": "2022-03-07T03:58:58.986276",
     "status": "completed"
    },
    "tags": []
   },
   "outputs": [
    {
     "name": "stdout",
     "output_type": "stream",
     "text": [
      "(2, 256)\n"
     ]
    }
   ],
   "source": [
    "###################################\n",
    "# Build the model\n",
    "###################################\n",
    "model = Steves_Prototypical_Network(x_net, device=p.device, x_shape=(2,256))\n",
    "optimizer = Adam(params=model.parameters(), lr=p.lr)"
   ]
  },
  {
   "cell_type": "code",
   "execution_count": 22,
   "id": "22b39ac5",
   "metadata": {
    "execution": {
     "iopub.execute_input": "2022-03-07T03:58:59.096710Z",
     "iopub.status.busy": "2022-03-07T03:58:59.096460Z",
     "iopub.status.idle": "2022-03-07T04:58:07.761970Z",
     "shell.execute_reply": "2022-03-07T04:58:07.761740Z"
    },
    "papermill": {
     "duration": 3548.683078,
     "end_time": "2022-03-07T04:58:07.762029",
     "exception": false,
     "start_time": "2022-03-07T03:58:59.078951",
     "status": "completed"
    },
    "tags": []
   },
   "outputs": [
    {
     "name": "stdout",
     "output_type": "stream",
     "text": [
      "epoch: 1, [batch: 1 / 6720], examples_per_second: 48.7750, train_label_loss: 2.8458, \n"
     ]
    },
    {
     "name": "stdout",
     "output_type": "stream",
     "text": [
      "epoch: 1, [batch: 672 / 6720], examples_per_second: 3162.9081, train_label_loss: 0.6771, \n"
     ]
    },
    {
     "name": "stdout",
     "output_type": "stream",
     "text": [
      "epoch: 1, [batch: 1344 / 6720], examples_per_second: 3162.5252, train_label_loss: 0.5692, \n"
     ]
    },
    {
     "name": "stdout",
     "output_type": "stream",
     "text": [
      "epoch: 1, [batch: 2016 / 6720], examples_per_second: 3159.3016, train_label_loss: 0.5193, \n"
     ]
    },
    {
     "name": "stdout",
     "output_type": "stream",
     "text": [
      "epoch: 1, [batch: 2688 / 6720], examples_per_second: 3146.5063, train_label_loss: 0.9577, \n"
     ]
    },
    {
     "name": "stdout",
     "output_type": "stream",
     "text": [
      "epoch: 1, [batch: 3360 / 6720], examples_per_second: 3144.9512, train_label_loss: 0.9163, \n"
     ]
    },
    {
     "name": "stdout",
     "output_type": "stream",
     "text": [
      "epoch: 1, [batch: 4032 / 6720], examples_per_second: 3151.1126, train_label_loss: 0.7419, \n"
     ]
    },
    {
     "name": "stdout",
     "output_type": "stream",
     "text": [
      "epoch: 1, [batch: 4704 / 6720], examples_per_second: 3150.5772, train_label_loss: 0.5001, \n"
     ]
    },
    {
     "name": "stdout",
     "output_type": "stream",
     "text": [
      "epoch: 1, [batch: 5376 / 6720], examples_per_second: 3142.4118, train_label_loss: 0.3980, \n"
     ]
    },
    {
     "name": "stdout",
     "output_type": "stream",
     "text": [
      "epoch: 1, [batch: 6048 / 6720], examples_per_second: 3157.6069, train_label_loss: 0.9409, \n"
     ]
    },
    {
     "name": "stdout",
     "output_type": "stream",
     "text": [
      "=============================================================\n",
      "epoch: 1, source_val_acc_label: 0.6071, target_val_acc_label: 0.6081, source_val_label_loss: 48.3524, target_val_label_loss: 49.0183, \n",
      "=============================================================\n"
     ]
    },
    {
     "name": "stdout",
     "output_type": "stream",
     "text": [
      "New best\n"
     ]
    },
    {
     "name": "stdout",
     "output_type": "stream",
     "text": [
      "epoch: 2, [batch: 1 / 6720], examples_per_second: 4.6888, train_label_loss: 156.6061, \n"
     ]
    },
    {
     "name": "stdout",
     "output_type": "stream",
     "text": [
      "epoch: 2, [batch: 672 / 6720], examples_per_second: 3166.2751, train_label_loss: 0.6808, \n"
     ]
    },
    {
     "name": "stdout",
     "output_type": "stream",
     "text": [
      "epoch: 2, [batch: 1344 / 6720], examples_per_second: 3177.3021, train_label_loss: 0.6316, \n"
     ]
    },
    {
     "name": "stdout",
     "output_type": "stream",
     "text": [
      "epoch: 2, [batch: 2016 / 6720], examples_per_second: 3172.1629, train_label_loss: 0.4705, \n"
     ]
    },
    {
     "name": "stdout",
     "output_type": "stream",
     "text": [
      "epoch: 2, [batch: 2688 / 6720], examples_per_second: 3161.8564, train_label_loss: 0.6619, \n"
     ]
    },
    {
     "name": "stdout",
     "output_type": "stream",
     "text": [
      "epoch: 2, [batch: 3360 / 6720], examples_per_second: 3185.7548, train_label_loss: 0.8703, \n"
     ]
    },
    {
     "name": "stdout",
     "output_type": "stream",
     "text": [
      "epoch: 2, [batch: 4032 / 6720], examples_per_second: 3175.8125, train_label_loss: 1.3750, \n"
     ]
    },
    {
     "name": "stdout",
     "output_type": "stream",
     "text": [
      "epoch: 2, [batch: 4704 / 6720], examples_per_second: 3168.3172, train_label_loss: 0.8808, \n"
     ]
    },
    {
     "name": "stdout",
     "output_type": "stream",
     "text": [
      "epoch: 2, [batch: 5376 / 6720], examples_per_second: 3166.5785, train_label_loss: 1.1705, \n"
     ]
    },
    {
     "name": "stdout",
     "output_type": "stream",
     "text": [
      "epoch: 2, [batch: 6048 / 6720], examples_per_second: 3176.3863, train_label_loss: 0.5418, \n"
     ]
    },
    {
     "name": "stdout",
     "output_type": "stream",
     "text": [
      "=============================================================\n",
      "epoch: 2, source_val_acc_label: 0.7865, target_val_acc_label: 0.7909, source_val_label_loss: 0.6476, target_val_label_loss: 0.6164, \n",
      "=============================================================\n"
     ]
    },
    {
     "name": "stdout",
     "output_type": "stream",
     "text": [
      "New best\n"
     ]
    },
    {
     "name": "stdout",
     "output_type": "stream",
     "text": [
      "epoch: 3, [batch: 1 / 6720], examples_per_second: 4.7520, train_label_loss: 0.7734, \n"
     ]
    },
    {
     "name": "stdout",
     "output_type": "stream",
     "text": [
      "epoch: 3, [batch: 672 / 6720], examples_per_second: 3164.8843, train_label_loss: 0.3101, \n"
     ]
    },
    {
     "name": "stdout",
     "output_type": "stream",
     "text": [
      "epoch: 3, [batch: 1344 / 6720], examples_per_second: 3173.9143, train_label_loss: 0.3726, \n"
     ]
    },
    {
     "name": "stdout",
     "output_type": "stream",
     "text": [
      "epoch: 3, [batch: 2016 / 6720], examples_per_second: 3175.4839, train_label_loss: 0.5129, \n"
     ]
    },
    {
     "name": "stdout",
     "output_type": "stream",
     "text": [
      "epoch: 3, [batch: 2688 / 6720], examples_per_second: 3161.8289, train_label_loss: 0.3935, \n"
     ]
    },
    {
     "name": "stdout",
     "output_type": "stream",
     "text": [
      "epoch: 3, [batch: 3360 / 6720], examples_per_second: 3167.4145, train_label_loss: 0.7447, \n"
     ]
    },
    {
     "name": "stdout",
     "output_type": "stream",
     "text": [
      "epoch: 3, [batch: 4032 / 6720], examples_per_second: 3173.0529, train_label_loss: 0.7823, \n"
     ]
    },
    {
     "name": "stdout",
     "output_type": "stream",
     "text": [
      "epoch: 3, [batch: 4704 / 6720], examples_per_second: 3167.0881, train_label_loss: 0.7066, \n"
     ]
    },
    {
     "name": "stdout",
     "output_type": "stream",
     "text": [
      "epoch: 3, [batch: 5376 / 6720], examples_per_second: 3179.0036, train_label_loss: 0.4206, \n"
     ]
    },
    {
     "name": "stdout",
     "output_type": "stream",
     "text": [
      "epoch: 3, [batch: 6048 / 6720], examples_per_second: 3175.1213, train_label_loss: 0.2149, \n"
     ]
    },
    {
     "name": "stdout",
     "output_type": "stream",
     "text": [
      "=============================================================\n",
      "epoch: 3, source_val_acc_label: 0.8298, target_val_acc_label: 0.8285, source_val_label_loss: 0.5168, target_val_label_loss: 0.4935, \n",
      "=============================================================\n"
     ]
    },
    {
     "name": "stdout",
     "output_type": "stream",
     "text": [
      "New best\n"
     ]
    },
    {
     "name": "stdout",
     "output_type": "stream",
     "text": [
      "epoch: 4, [batch: 1 / 6720], examples_per_second: 4.7314, train_label_loss: 0.1931, \n"
     ]
    },
    {
     "name": "stdout",
     "output_type": "stream",
     "text": [
      "epoch: 4, [batch: 672 / 6720], examples_per_second: 3153.5212, train_label_loss: 0.2421, \n"
     ]
    },
    {
     "name": "stdout",
     "output_type": "stream",
     "text": [
      "epoch: 4, [batch: 1344 / 6720], examples_per_second: 3169.3285, train_label_loss: 0.8855, \n"
     ]
    },
    {
     "name": "stdout",
     "output_type": "stream",
     "text": [
      "epoch: 4, [batch: 2016 / 6720], examples_per_second: 3166.7534, train_label_loss: 0.6494, \n"
     ]
    },
    {
     "name": "stdout",
     "output_type": "stream",
     "text": [
      "epoch: 4, [batch: 2688 / 6720], examples_per_second: 3168.9719, train_label_loss: 0.2548, \n"
     ]
    },
    {
     "name": "stdout",
     "output_type": "stream",
     "text": [
      "epoch: 4, [batch: 3360 / 6720], examples_per_second: 3183.2671, train_label_loss: 0.1362, \n"
     ]
    },
    {
     "name": "stdout",
     "output_type": "stream",
     "text": [
      "epoch: 4, [batch: 4032 / 6720], examples_per_second: 3194.2272, train_label_loss: 0.6469, \n"
     ]
    },
    {
     "name": "stdout",
     "output_type": "stream",
     "text": [
      "epoch: 4, [batch: 4704 / 6720], examples_per_second: 3165.6942, train_label_loss: 0.5541, \n"
     ]
    },
    {
     "name": "stdout",
     "output_type": "stream",
     "text": [
      "epoch: 4, [batch: 5376 / 6720], examples_per_second: 3168.8107, train_label_loss: 0.5136, \n"
     ]
    },
    {
     "name": "stdout",
     "output_type": "stream",
     "text": [
      "epoch: 4, [batch: 6048 / 6720], examples_per_second: 3183.4861, train_label_loss: 0.5804, \n"
     ]
    },
    {
     "name": "stdout",
     "output_type": "stream",
     "text": [
      "=============================================================\n",
      "epoch: 4, source_val_acc_label: 0.8325, target_val_acc_label: 0.8301, source_val_label_loss: 0.4951, target_val_label_loss: 0.4860, \n",
      "=============================================================\n"
     ]
    },
    {
     "name": "stdout",
     "output_type": "stream",
     "text": [
      "New best\n"
     ]
    },
    {
     "name": "stdout",
     "output_type": "stream",
     "text": [
      "epoch: 5, [batch: 1 / 6720], examples_per_second: 4.7237, train_label_loss: 0.4296, \n"
     ]
    },
    {
     "name": "stdout",
     "output_type": "stream",
     "text": [
      "epoch: 5, [batch: 672 / 6720], examples_per_second: 3165.0627, train_label_loss: 0.1464, \n"
     ]
    },
    {
     "name": "stdout",
     "output_type": "stream",
     "text": [
      "epoch: 5, [batch: 1344 / 6720], examples_per_second: 3179.2113, train_label_loss: 0.4646, \n"
     ]
    },
    {
     "name": "stdout",
     "output_type": "stream",
     "text": [
      "epoch: 5, [batch: 2016 / 6720], examples_per_second: 3178.2370, train_label_loss: 0.6479, \n"
     ]
    },
    {
     "name": "stdout",
     "output_type": "stream",
     "text": [
      "epoch: 5, [batch: 2688 / 6720], examples_per_second: 3165.1125, train_label_loss: 0.4927, \n"
     ]
    },
    {
     "name": "stdout",
     "output_type": "stream",
     "text": [
      "epoch: 5, [batch: 3360 / 6720], examples_per_second: 3179.1052, train_label_loss: 1.2078, \n"
     ]
    },
    {
     "name": "stdout",
     "output_type": "stream",
     "text": [
      "epoch: 5, [batch: 4032 / 6720], examples_per_second: 3181.0502, train_label_loss: 0.6804, \n"
     ]
    },
    {
     "name": "stdout",
     "output_type": "stream",
     "text": [
      "epoch: 5, [batch: 4704 / 6720], examples_per_second: 3179.4215, train_label_loss: 0.2422, \n"
     ]
    },
    {
     "name": "stdout",
     "output_type": "stream",
     "text": [
      "epoch: 5, [batch: 5376 / 6720], examples_per_second: 3179.8587, train_label_loss: 0.9963, \n"
     ]
    },
    {
     "name": "stdout",
     "output_type": "stream",
     "text": [
      "epoch: 5, [batch: 6048 / 6720], examples_per_second: 3183.2607, train_label_loss: 0.2931, \n"
     ]
    },
    {
     "name": "stdout",
     "output_type": "stream",
     "text": [
      "=============================================================\n",
      "epoch: 5, source_val_acc_label: 0.8456, target_val_acc_label: 0.8462, source_val_label_loss: 0.4545, target_val_label_loss: 0.4454, \n",
      "=============================================================\n"
     ]
    },
    {
     "name": "stdout",
     "output_type": "stream",
     "text": [
      "New best\n"
     ]
    },
    {
     "name": "stdout",
     "output_type": "stream",
     "text": [
      "epoch: 6, [batch: 1 / 6720], examples_per_second: 4.7297, train_label_loss: 0.4109, \n"
     ]
    },
    {
     "name": "stdout",
     "output_type": "stream",
     "text": [
      "epoch: 6, [batch: 672 / 6720], examples_per_second: 3158.4573, train_label_loss: 0.5346, \n"
     ]
    },
    {
     "name": "stdout",
     "output_type": "stream",
     "text": [
      "epoch: 6, [batch: 1344 / 6720], examples_per_second: 3174.4141, train_label_loss: 0.4280, \n"
     ]
    },
    {
     "name": "stdout",
     "output_type": "stream",
     "text": [
      "epoch: 6, [batch: 2016 / 6720], examples_per_second: 3176.0597, train_label_loss: 0.3207, \n"
     ]
    },
    {
     "name": "stdout",
     "output_type": "stream",
     "text": [
      "epoch: 6, [batch: 2688 / 6720], examples_per_second: 3174.5210, train_label_loss: 0.9990, \n"
     ]
    },
    {
     "name": "stdout",
     "output_type": "stream",
     "text": [
      "epoch: 6, [batch: 3360 / 6720], examples_per_second: 3156.2441, train_label_loss: 0.3882, \n"
     ]
    },
    {
     "name": "stdout",
     "output_type": "stream",
     "text": [
      "epoch: 6, [batch: 4032 / 6720], examples_per_second: 3163.4404, train_label_loss: 0.5280, \n"
     ]
    },
    {
     "name": "stdout",
     "output_type": "stream",
     "text": [
      "epoch: 6, [batch: 4704 / 6720], examples_per_second: 3138.7256, train_label_loss: 0.2467, \n"
     ]
    },
    {
     "name": "stdout",
     "output_type": "stream",
     "text": [
      "epoch: 6, [batch: 5376 / 6720], examples_per_second: 3073.1470, train_label_loss: 0.1404, \n"
     ]
    },
    {
     "name": "stdout",
     "output_type": "stream",
     "text": [
      "epoch: 6, [batch: 6048 / 6720], examples_per_second: 2955.9924, train_label_loss: 0.1603, \n"
     ]
    },
    {
     "name": "stdout",
     "output_type": "stream",
     "text": [
      "=============================================================\n",
      "epoch: 6, source_val_acc_label: 0.8501, target_val_acc_label: 0.8482, source_val_label_loss: 0.4300, target_val_label_loss: 0.4288, \n",
      "=============================================================\n"
     ]
    },
    {
     "name": "stdout",
     "output_type": "stream",
     "text": [
      "New best\n"
     ]
    },
    {
     "name": "stdout",
     "output_type": "stream",
     "text": [
      "epoch: 7, [batch: 1 / 6720], examples_per_second: 4.5307, train_label_loss: 0.2902, \n"
     ]
    },
    {
     "name": "stdout",
     "output_type": "stream",
     "text": [
      "epoch: 7, [batch: 672 / 6720], examples_per_second: 3069.7426, train_label_loss: 0.7307, \n"
     ]
    },
    {
     "name": "stdout",
     "output_type": "stream",
     "text": [
      "epoch: 7, [batch: 1344 / 6720], examples_per_second: 3101.0540, train_label_loss: 0.2811, \n"
     ]
    },
    {
     "name": "stdout",
     "output_type": "stream",
     "text": [
      "epoch: 7, [batch: 2016 / 6720], examples_per_second: 3150.8731, train_label_loss: 0.3071, \n"
     ]
    },
    {
     "name": "stdout",
     "output_type": "stream",
     "text": [
      "epoch: 7, [batch: 2688 / 6720], examples_per_second: 3130.4238, train_label_loss: 0.3006, \n"
     ]
    },
    {
     "name": "stdout",
     "output_type": "stream",
     "text": [
      "epoch: 7, [batch: 3360 / 6720], examples_per_second: 3146.8919, train_label_loss: 0.5276, \n"
     ]
    },
    {
     "name": "stdout",
     "output_type": "stream",
     "text": [
      "epoch: 7, [batch: 4032 / 6720], examples_per_second: 3150.5621, train_label_loss: 0.2736, \n"
     ]
    },
    {
     "name": "stdout",
     "output_type": "stream",
     "text": [
      "epoch: 7, [batch: 4704 / 6720], examples_per_second: 3148.4665, train_label_loss: 0.3826, \n"
     ]
    },
    {
     "name": "stdout",
     "output_type": "stream",
     "text": [
      "epoch: 7, [batch: 5376 / 6720], examples_per_second: 3152.0489, train_label_loss: 0.0939, \n"
     ]
    },
    {
     "name": "stdout",
     "output_type": "stream",
     "text": [
      "epoch: 7, [batch: 6048 / 6720], examples_per_second: 3153.7926, train_label_loss: 0.2707, \n"
     ]
    },
    {
     "name": "stdout",
     "output_type": "stream",
     "text": [
      "=============================================================\n",
      "epoch: 7, source_val_acc_label: 0.8545, target_val_acc_label: 0.8489, source_val_label_loss: 0.4118, target_val_label_loss: 0.4187, \n",
      "=============================================================\n"
     ]
    },
    {
     "name": "stdout",
     "output_type": "stream",
     "text": [
      "New best\n"
     ]
    },
    {
     "name": "stdout",
     "output_type": "stream",
     "text": [
      "epoch: 8, [batch: 1 / 6720], examples_per_second: 4.6790, train_label_loss: 0.6328, \n"
     ]
    },
    {
     "name": "stdout",
     "output_type": "stream",
     "text": [
      "epoch: 8, [batch: 672 / 6720], examples_per_second: 3119.4493, train_label_loss: 0.5607, \n"
     ]
    },
    {
     "name": "stdout",
     "output_type": "stream",
     "text": [
      "epoch: 8, [batch: 1344 / 6720], examples_per_second: 3151.9438, train_label_loss: 0.5605, \n"
     ]
    },
    {
     "name": "stdout",
     "output_type": "stream",
     "text": [
      "epoch: 8, [batch: 2016 / 6720], examples_per_second: 3148.2377, train_label_loss: 0.7376, \n"
     ]
    },
    {
     "name": "stdout",
     "output_type": "stream",
     "text": [
      "epoch: 8, [batch: 2688 / 6720], examples_per_second: 3134.9640, train_label_loss: 0.0776, \n"
     ]
    },
    {
     "name": "stdout",
     "output_type": "stream",
     "text": [
      "epoch: 8, [batch: 3360 / 6720], examples_per_second: 3150.1715, train_label_loss: 0.5099, \n"
     ]
    },
    {
     "name": "stdout",
     "output_type": "stream",
     "text": [
      "epoch: 8, [batch: 4032 / 6720], examples_per_second: 3152.4420, train_label_loss: 0.7201, \n"
     ]
    },
    {
     "name": "stdout",
     "output_type": "stream",
     "text": [
      "epoch: 8, [batch: 4704 / 6720], examples_per_second: 3142.0593, train_label_loss: 0.3706, \n"
     ]
    },
    {
     "name": "stdout",
     "output_type": "stream",
     "text": [
      "epoch: 8, [batch: 5376 / 6720], examples_per_second: 3144.6125, train_label_loss: 0.1496, \n"
     ]
    },
    {
     "name": "stdout",
     "output_type": "stream",
     "text": [
      "epoch: 8, [batch: 6048 / 6720], examples_per_second: 3112.3352, train_label_loss: 0.2046, \n"
     ]
    },
    {
     "name": "stdout",
     "output_type": "stream",
     "text": [
      "=============================================================\n",
      "epoch: 8, source_val_acc_label: 0.8566, target_val_acc_label: 0.8507, source_val_label_loss: 0.4040, target_val_label_loss: 0.4150, \n",
      "=============================================================\n"
     ]
    },
    {
     "name": "stdout",
     "output_type": "stream",
     "text": [
      "New best\n"
     ]
    },
    {
     "name": "stdout",
     "output_type": "stream",
     "text": [
      "epoch: 9, [batch: 1 / 6720], examples_per_second: 4.7311, train_label_loss: 0.1899, \n"
     ]
    },
    {
     "name": "stdout",
     "output_type": "stream",
     "text": [
      "epoch: 9, [batch: 672 / 6720], examples_per_second: 3162.6366, train_label_loss: 0.2012, \n"
     ]
    },
    {
     "name": "stdout",
     "output_type": "stream",
     "text": [
      "epoch: 9, [batch: 1344 / 6720], examples_per_second: 3170.0287, train_label_loss: 0.2135, \n"
     ]
    },
    {
     "name": "stdout",
     "output_type": "stream",
     "text": [
      "epoch: 9, [batch: 2016 / 6720], examples_per_second: 3178.4731, train_label_loss: 0.1158, \n"
     ]
    },
    {
     "name": "stdout",
     "output_type": "stream",
     "text": [
      "epoch: 9, [batch: 2688 / 6720], examples_per_second: 3165.5780, train_label_loss: 0.0934, \n"
     ]
    },
    {
     "name": "stdout",
     "output_type": "stream",
     "text": [
      "epoch: 9, [batch: 3360 / 6720], examples_per_second: 3184.7449, train_label_loss: 0.5014, \n"
     ]
    },
    {
     "name": "stdout",
     "output_type": "stream",
     "text": [
      "epoch: 9, [batch: 4032 / 6720], examples_per_second: 3184.2844, train_label_loss: 0.6420, \n"
     ]
    },
    {
     "name": "stdout",
     "output_type": "stream",
     "text": [
      "epoch: 9, [batch: 4704 / 6720], examples_per_second: 3178.9192, train_label_loss: 0.0473, \n"
     ]
    },
    {
     "name": "stdout",
     "output_type": "stream",
     "text": [
      "epoch: 9, [batch: 5376 / 6720], examples_per_second: 3165.2310, train_label_loss: 0.0428, \n"
     ]
    },
    {
     "name": "stdout",
     "output_type": "stream",
     "text": [
      "epoch: 9, [batch: 6048 / 6720], examples_per_second: 3163.9132, train_label_loss: 0.2559, \n"
     ]
    },
    {
     "name": "stdout",
     "output_type": "stream",
     "text": [
      "=============================================================\n",
      "epoch: 9, source_val_acc_label: 0.8737, target_val_acc_label: 0.8642, source_val_label_loss: 0.3622, target_val_label_loss: 0.3885, \n",
      "=============================================================\n"
     ]
    },
    {
     "name": "stdout",
     "output_type": "stream",
     "text": [
      "New best\n"
     ]
    },
    {
     "name": "stdout",
     "output_type": "stream",
     "text": [
      "epoch: 10, [batch: 1 / 6720], examples_per_second: 4.7173, train_label_loss: 0.4194, \n"
     ]
    },
    {
     "name": "stdout",
     "output_type": "stream",
     "text": [
      "epoch: 10, [batch: 672 / 6720], examples_per_second: 3154.2678, train_label_loss: 0.1312, \n"
     ]
    },
    {
     "name": "stdout",
     "output_type": "stream",
     "text": [
      "epoch: 10, [batch: 1344 / 6720], examples_per_second: 3169.1601, train_label_loss: 0.2464, \n"
     ]
    },
    {
     "name": "stdout",
     "output_type": "stream",
     "text": [
      "epoch: 10, [batch: 2016 / 6720], examples_per_second: 3177.7338, train_label_loss: 0.2200, \n"
     ]
    },
    {
     "name": "stdout",
     "output_type": "stream",
     "text": [
      "epoch: 10, [batch: 2688 / 6720], examples_per_second: 3169.6189, train_label_loss: 0.2730, \n"
     ]
    },
    {
     "name": "stdout",
     "output_type": "stream",
     "text": [
      "epoch: 10, [batch: 3360 / 6720], examples_per_second: 3185.9021, train_label_loss: 0.3079, \n"
     ]
    },
    {
     "name": "stdout",
     "output_type": "stream",
     "text": [
      "epoch: 10, [batch: 4032 / 6720], examples_per_second: 3180.7362, train_label_loss: 0.5034, \n"
     ]
    },
    {
     "name": "stdout",
     "output_type": "stream",
     "text": [
      "epoch: 10, [batch: 4704 / 6720], examples_per_second: 3180.0327, train_label_loss: 0.4037, \n"
     ]
    },
    {
     "name": "stdout",
     "output_type": "stream",
     "text": [
      "epoch: 10, [batch: 5376 / 6720], examples_per_second: 3183.9411, train_label_loss: 0.3020, \n"
     ]
    },
    {
     "name": "stdout",
     "output_type": "stream",
     "text": [
      "epoch: 10, [batch: 6048 / 6720], examples_per_second: 3179.4156, train_label_loss: 0.1629, \n"
     ]
    },
    {
     "name": "stdout",
     "output_type": "stream",
     "text": [
      "=============================================================\n",
      "epoch: 10, source_val_acc_label: 0.8685, target_val_acc_label: 0.8565, source_val_label_loss: 0.3642, target_val_label_loss: 0.4057, \n",
      "=============================================================\n"
     ]
    },
    {
     "name": "stdout",
     "output_type": "stream",
     "text": [
      "epoch: 11, [batch: 1 / 6720], examples_per_second: 4.7351, train_label_loss: 0.2071, \n"
     ]
    },
    {
     "name": "stdout",
     "output_type": "stream",
     "text": [
      "epoch: 11, [batch: 672 / 6720], examples_per_second: 3155.5339, train_label_loss: 0.2532, \n"
     ]
    },
    {
     "name": "stdout",
     "output_type": "stream",
     "text": [
      "epoch: 11, [batch: 1344 / 6720], examples_per_second: 3180.1391, train_label_loss: 0.1772, \n"
     ]
    },
    {
     "name": "stdout",
     "output_type": "stream",
     "text": [
      "epoch: 11, [batch: 2016 / 6720], examples_per_second: 3175.3378, train_label_loss: 0.1946, \n"
     ]
    },
    {
     "name": "stdout",
     "output_type": "stream",
     "text": [
      "epoch: 11, [batch: 2688 / 6720], examples_per_second: 3171.3083, train_label_loss: 0.3246, \n"
     ]
    },
    {
     "name": "stdout",
     "output_type": "stream",
     "text": [
      "epoch: 11, [batch: 3360 / 6720], examples_per_second: 3177.9875, train_label_loss: 0.3174, \n"
     ]
    },
    {
     "name": "stdout",
     "output_type": "stream",
     "text": [
      "epoch: 11, [batch: 4032 / 6720], examples_per_second: 3184.1500, train_label_loss: 0.1201, \n"
     ]
    },
    {
     "name": "stdout",
     "output_type": "stream",
     "text": [
      "epoch: 11, [batch: 4704 / 6720], examples_per_second: 3162.0806, train_label_loss: 0.1173, \n"
     ]
    },
    {
     "name": "stdout",
     "output_type": "stream",
     "text": [
      "epoch: 11, [batch: 5376 / 6720], examples_per_second: 3183.5387, train_label_loss: 0.0280, \n"
     ]
    },
    {
     "name": "stdout",
     "output_type": "stream",
     "text": [
      "epoch: 11, [batch: 6048 / 6720], examples_per_second: 3178.0483, train_label_loss: 0.1688, \n"
     ]
    },
    {
     "name": "stdout",
     "output_type": "stream",
     "text": [
      "=============================================================\n",
      "epoch: 11, source_val_acc_label: 0.8798, target_val_acc_label: 0.8689, source_val_label_loss: 0.3382, target_val_label_loss: 0.3758, \n",
      "=============================================================\n"
     ]
    },
    {
     "name": "stdout",
     "output_type": "stream",
     "text": [
      "New best\n"
     ]
    },
    {
     "name": "stdout",
     "output_type": "stream",
     "text": [
      "epoch: 12, [batch: 1 / 6720], examples_per_second: 4.7036, train_label_loss: 0.5322, \n"
     ]
    },
    {
     "name": "stdout",
     "output_type": "stream",
     "text": [
      "epoch: 12, [batch: 672 / 6720], examples_per_second: 3152.7222, train_label_loss: 0.1966, \n"
     ]
    },
    {
     "name": "stdout",
     "output_type": "stream",
     "text": [
      "epoch: 12, [batch: 1344 / 6720], examples_per_second: 3176.1070, train_label_loss: 0.2361, \n"
     ]
    },
    {
     "name": "stdout",
     "output_type": "stream",
     "text": [
      "epoch: 12, [batch: 2016 / 6720], examples_per_second: 3166.4634, train_label_loss: 0.3612, \n"
     ]
    },
    {
     "name": "stdout",
     "output_type": "stream",
     "text": [
      "epoch: 12, [batch: 2688 / 6720], examples_per_second: 3154.0159, train_label_loss: 0.2360, \n"
     ]
    },
    {
     "name": "stdout",
     "output_type": "stream",
     "text": [
      "epoch: 12, [batch: 3360 / 6720], examples_per_second: 3183.5057, train_label_loss: 0.2024, \n"
     ]
    },
    {
     "name": "stdout",
     "output_type": "stream",
     "text": [
      "epoch: 12, [batch: 4032 / 6720], examples_per_second: 3178.6386, train_label_loss: 0.0422, \n"
     ]
    },
    {
     "name": "stdout",
     "output_type": "stream",
     "text": [
      "epoch: 12, [batch: 4704 / 6720], examples_per_second: 3170.3135, train_label_loss: 0.3519, \n"
     ]
    },
    {
     "name": "stdout",
     "output_type": "stream",
     "text": [
      "epoch: 12, [batch: 5376 / 6720], examples_per_second: 3173.9401, train_label_loss: 0.1955, \n"
     ]
    },
    {
     "name": "stdout",
     "output_type": "stream",
     "text": [
      "epoch: 12, [batch: 6048 / 6720], examples_per_second: 3179.1911, train_label_loss: 0.0652, \n"
     ]
    },
    {
     "name": "stdout",
     "output_type": "stream",
     "text": [
      "=============================================================\n",
      "epoch: 12, source_val_acc_label: 0.8765, target_val_acc_label: 0.8634, source_val_label_loss: 0.3498, target_val_label_loss: 0.3925, \n",
      "=============================================================\n"
     ]
    },
    {
     "name": "stdout",
     "output_type": "stream",
     "text": [
      "epoch: 13, [batch: 1 / 6720], examples_per_second: 4.7178, train_label_loss: 0.2409, \n"
     ]
    },
    {
     "name": "stdout",
     "output_type": "stream",
     "text": [
      "epoch: 13, [batch: 672 / 6720], examples_per_second: 3162.9925, train_label_loss: 0.2077, \n"
     ]
    },
    {
     "name": "stdout",
     "output_type": "stream",
     "text": [
      "epoch: 13, [batch: 1344 / 6720], examples_per_second: 3162.8494, train_label_loss: 0.2559, \n"
     ]
    },
    {
     "name": "stdout",
     "output_type": "stream",
     "text": [
      "epoch: 13, [batch: 2016 / 6720], examples_per_second: 3177.2823, train_label_loss: 0.0800, \n"
     ]
    },
    {
     "name": "stdout",
     "output_type": "stream",
     "text": [
      "epoch: 13, [batch: 2688 / 6720], examples_per_second: 3167.9952, train_label_loss: 0.3724, \n"
     ]
    },
    {
     "name": "stdout",
     "output_type": "stream",
     "text": [
      "epoch: 13, [batch: 3360 / 6720], examples_per_second: 3165.4417, train_label_loss: 0.0562, \n"
     ]
    },
    {
     "name": "stdout",
     "output_type": "stream",
     "text": [
      "epoch: 13, [batch: 4032 / 6720], examples_per_second: 3176.6551, train_label_loss: 0.2919, \n"
     ]
    },
    {
     "name": "stdout",
     "output_type": "stream",
     "text": [
      "epoch: 13, [batch: 4704 / 6720], examples_per_second: 3168.5735, train_label_loss: 0.1082, \n"
     ]
    },
    {
     "name": "stdout",
     "output_type": "stream",
     "text": [
      "epoch: 13, [batch: 5376 / 6720], examples_per_second: 3173.8269, train_label_loss: 0.1355, \n"
     ]
    },
    {
     "name": "stdout",
     "output_type": "stream",
     "text": [
      "epoch: 13, [batch: 6048 / 6720], examples_per_second: 3171.1122, train_label_loss: 0.4321, \n"
     ]
    },
    {
     "name": "stdout",
     "output_type": "stream",
     "text": [
      "=============================================================\n",
      "epoch: 13, source_val_acc_label: 0.8854, target_val_acc_label: 0.8750, source_val_label_loss: 0.3233, target_val_label_loss: 0.3607, \n",
      "=============================================================\n"
     ]
    },
    {
     "name": "stdout",
     "output_type": "stream",
     "text": [
      "New best\n"
     ]
    },
    {
     "name": "stdout",
     "output_type": "stream",
     "text": [
      "epoch: 14, [batch: 1 / 6720], examples_per_second: 4.7321, train_label_loss: 0.2092, \n"
     ]
    },
    {
     "name": "stdout",
     "output_type": "stream",
     "text": [
      "epoch: 14, [batch: 672 / 6720], examples_per_second: 3155.5138, train_label_loss: 0.1962, \n"
     ]
    },
    {
     "name": "stdout",
     "output_type": "stream",
     "text": [
      "epoch: 14, [batch: 1344 / 6720], examples_per_second: 3174.6243, train_label_loss: 0.2363, \n"
     ]
    },
    {
     "name": "stdout",
     "output_type": "stream",
     "text": [
      "epoch: 14, [batch: 2016 / 6720], examples_per_second: 3150.7277, train_label_loss: 0.1682, \n"
     ]
    },
    {
     "name": "stdout",
     "output_type": "stream",
     "text": [
      "epoch: 14, [batch: 2688 / 6720], examples_per_second: 3167.0314, train_label_loss: 0.3213, \n"
     ]
    },
    {
     "name": "stdout",
     "output_type": "stream",
     "text": [
      "epoch: 14, [batch: 3360 / 6720], examples_per_second: 3182.6196, train_label_loss: 0.2635, \n"
     ]
    },
    {
     "name": "stdout",
     "output_type": "stream",
     "text": [
      "epoch: 14, [batch: 4032 / 6720], examples_per_second: 3174.2255, train_label_loss: 0.2107, \n"
     ]
    },
    {
     "name": "stdout",
     "output_type": "stream",
     "text": [
      "epoch: 14, [batch: 4704 / 6720], examples_per_second: 3175.8981, train_label_loss: 0.1476, \n"
     ]
    },
    {
     "name": "stdout",
     "output_type": "stream",
     "text": [
      "epoch: 14, [batch: 5376 / 6720], examples_per_second: 3183.2079, train_label_loss: 0.0435, \n"
     ]
    },
    {
     "name": "stdout",
     "output_type": "stream",
     "text": [
      "epoch: 14, [batch: 6048 / 6720], examples_per_second: 3173.6286, train_label_loss: 0.2335, \n"
     ]
    },
    {
     "name": "stdout",
     "output_type": "stream",
     "text": [
      "=============================================================\n",
      "epoch: 14, source_val_acc_label: 0.8905, target_val_acc_label: 0.8790, source_val_label_loss: 0.3071, target_val_label_loss: 0.3548, \n",
      "=============================================================\n"
     ]
    },
    {
     "name": "stdout",
     "output_type": "stream",
     "text": [
      "New best\n"
     ]
    },
    {
     "name": "stdout",
     "output_type": "stream",
     "text": [
      "epoch: 15, [batch: 1 / 6720], examples_per_second: 4.7323, train_label_loss: 0.4971, \n"
     ]
    },
    {
     "name": "stdout",
     "output_type": "stream",
     "text": [
      "epoch: 15, [batch: 672 / 6720], examples_per_second: 3168.4081, train_label_loss: 0.3692, \n"
     ]
    },
    {
     "name": "stdout",
     "output_type": "stream",
     "text": [
      "epoch: 15, [batch: 1344 / 6720], examples_per_second: 3174.2561, train_label_loss: 0.3387, \n"
     ]
    },
    {
     "name": "stdout",
     "output_type": "stream",
     "text": [
      "epoch: 15, [batch: 2016 / 6720], examples_per_second: 3177.5342, train_label_loss: 0.1879, \n"
     ]
    },
    {
     "name": "stdout",
     "output_type": "stream",
     "text": [
      "epoch: 15, [batch: 2688 / 6720], examples_per_second: 3167.5342, train_label_loss: 0.2215, \n"
     ]
    },
    {
     "name": "stdout",
     "output_type": "stream",
     "text": [
      "epoch: 15, [batch: 3360 / 6720], examples_per_second: 3161.2981, train_label_loss: 0.0451, \n"
     ]
    },
    {
     "name": "stdout",
     "output_type": "stream",
     "text": [
      "epoch: 15, [batch: 4032 / 6720], examples_per_second: 3172.5280, train_label_loss: 0.3569, \n"
     ]
    },
    {
     "name": "stdout",
     "output_type": "stream",
     "text": [
      "epoch: 15, [batch: 4704 / 6720], examples_per_second: 3160.8867, train_label_loss: 0.3004, \n"
     ]
    },
    {
     "name": "stdout",
     "output_type": "stream",
     "text": [
      "epoch: 15, [batch: 5376 / 6720], examples_per_second: 3170.3230, train_label_loss: 0.0655, \n"
     ]
    },
    {
     "name": "stdout",
     "output_type": "stream",
     "text": [
      "epoch: 15, [batch: 6048 / 6720], examples_per_second: 3164.4347, train_label_loss: 0.1727, \n"
     ]
    },
    {
     "name": "stdout",
     "output_type": "stream",
     "text": [
      "=============================================================\n",
      "epoch: 15, source_val_acc_label: 0.8928, target_val_acc_label: 0.8798, source_val_label_loss: 0.3073, target_val_label_loss: 0.3465, \n",
      "=============================================================\n"
     ]
    },
    {
     "name": "stdout",
     "output_type": "stream",
     "text": [
      "New best\n"
     ]
    },
    {
     "name": "stdout",
     "output_type": "stream",
     "text": [
      "epoch: 16, [batch: 1 / 6720], examples_per_second: 4.7186, train_label_loss: 0.1954, \n"
     ]
    },
    {
     "name": "stdout",
     "output_type": "stream",
     "text": [
      "epoch: 16, [batch: 672 / 6720], examples_per_second: 3163.2020, train_label_loss: 0.1076, \n"
     ]
    },
    {
     "name": "stdout",
     "output_type": "stream",
     "text": [
      "epoch: 16, [batch: 1344 / 6720], examples_per_second: 3170.6863, train_label_loss: 0.0984, \n"
     ]
    },
    {
     "name": "stdout",
     "output_type": "stream",
     "text": [
      "epoch: 16, [batch: 2016 / 6720], examples_per_second: 3178.4399, train_label_loss: 0.2992, \n"
     ]
    },
    {
     "name": "stdout",
     "output_type": "stream",
     "text": [
      "epoch: 16, [batch: 2688 / 6720], examples_per_second: 3152.5720, train_label_loss: 0.2995, \n"
     ]
    },
    {
     "name": "stdout",
     "output_type": "stream",
     "text": [
      "epoch: 16, [batch: 3360 / 6720], examples_per_second: 3167.2179, train_label_loss: 0.1953, \n"
     ]
    },
    {
     "name": "stdout",
     "output_type": "stream",
     "text": [
      "epoch: 16, [batch: 4032 / 6720], examples_per_second: 3174.0012, train_label_loss: 0.5304, \n"
     ]
    },
    {
     "name": "stdout",
     "output_type": "stream",
     "text": [
      "epoch: 16, [batch: 4704 / 6720], examples_per_second: 3170.9907, train_label_loss: 0.1606, \n"
     ]
    },
    {
     "name": "stdout",
     "output_type": "stream",
     "text": [
      "epoch: 16, [batch: 5376 / 6720], examples_per_second: 3169.9329, train_label_loss: 0.4941, \n"
     ]
    },
    {
     "name": "stdout",
     "output_type": "stream",
     "text": [
      "epoch: 16, [batch: 6048 / 6720], examples_per_second: 3178.2465, train_label_loss: 0.0781, \n"
     ]
    },
    {
     "name": "stdout",
     "output_type": "stream",
     "text": [
      "=============================================================\n",
      "epoch: 16, source_val_acc_label: 0.8827, target_val_acc_label: 0.8710, source_val_label_loss: 0.3269, target_val_label_loss: 0.3721, \n",
      "=============================================================\n"
     ]
    },
    {
     "name": "stdout",
     "output_type": "stream",
     "text": [
      "epoch: 17, [batch: 1 / 6720], examples_per_second: 4.7375, train_label_loss: 0.2757, \n"
     ]
    },
    {
     "name": "stdout",
     "output_type": "stream",
     "text": [
      "epoch: 17, [batch: 672 / 6720], examples_per_second: 3170.3636, train_label_loss: 0.1374, \n"
     ]
    },
    {
     "name": "stdout",
     "output_type": "stream",
     "text": [
      "epoch: 17, [batch: 1344 / 6720], examples_per_second: 3171.0874, train_label_loss: 0.1096, \n"
     ]
    },
    {
     "name": "stdout",
     "output_type": "stream",
     "text": [
      "epoch: 17, [batch: 2016 / 6720], examples_per_second: 3182.4518, train_label_loss: 0.6823, \n"
     ]
    },
    {
     "name": "stdout",
     "output_type": "stream",
     "text": [
      "epoch: 17, [batch: 2688 / 6720], examples_per_second: 3169.3272, train_label_loss: 0.1438, \n"
     ]
    },
    {
     "name": "stdout",
     "output_type": "stream",
     "text": [
      "epoch: 17, [batch: 3360 / 6720], examples_per_second: 3181.6878, train_label_loss: 0.3851, \n"
     ]
    },
    {
     "name": "stdout",
     "output_type": "stream",
     "text": [
      "epoch: 17, [batch: 4032 / 6720], examples_per_second: 3173.4979, train_label_loss: 0.1708, \n"
     ]
    },
    {
     "name": "stdout",
     "output_type": "stream",
     "text": [
      "epoch: 17, [batch: 4704 / 6720], examples_per_second: 3169.3003, train_label_loss: 0.0704, \n"
     ]
    },
    {
     "name": "stdout",
     "output_type": "stream",
     "text": [
      "epoch: 17, [batch: 5376 / 6720], examples_per_second: 3185.3891, train_label_loss: 0.4000, \n"
     ]
    },
    {
     "name": "stdout",
     "output_type": "stream",
     "text": [
      "epoch: 17, [batch: 6048 / 6720], examples_per_second: 3188.7402, train_label_loss: 0.5669, \n"
     ]
    },
    {
     "name": "stdout",
     "output_type": "stream",
     "text": [
      "=============================================================\n",
      "epoch: 17, source_val_acc_label: 0.8924, target_val_acc_label: 0.8822, source_val_label_loss: 0.3113, target_val_label_loss: 0.3550, \n",
      "=============================================================\n"
     ]
    },
    {
     "name": "stdout",
     "output_type": "stream",
     "text": [
      "epoch: 18, [batch: 1 / 6720], examples_per_second: 4.7394, train_label_loss: 0.3482, \n"
     ]
    },
    {
     "name": "stdout",
     "output_type": "stream",
     "text": [
      "epoch: 18, [batch: 672 / 6720], examples_per_second: 3151.2446, train_label_loss: 0.0755, \n"
     ]
    },
    {
     "name": "stdout",
     "output_type": "stream",
     "text": [
      "epoch: 18, [batch: 1344 / 6720], examples_per_second: 3176.1463, train_label_loss: 0.1349, \n"
     ]
    },
    {
     "name": "stdout",
     "output_type": "stream",
     "text": [
      "epoch: 18, [batch: 2016 / 6720], examples_per_second: 3182.6250, train_label_loss: 0.3882, \n"
     ]
    },
    {
     "name": "stdout",
     "output_type": "stream",
     "text": [
      "epoch: 18, [batch: 2688 / 6720], examples_per_second: 3173.5697, train_label_loss: 0.2488, \n"
     ]
    },
    {
     "name": "stdout",
     "output_type": "stream",
     "text": [
      "epoch: 18, [batch: 3360 / 6720], examples_per_second: 3185.1761, train_label_loss: 0.1652, \n"
     ]
    },
    {
     "name": "stdout",
     "output_type": "stream",
     "text": [
      "epoch: 18, [batch: 4032 / 6720], examples_per_second: 3170.5007, train_label_loss: 0.1530, \n"
     ]
    },
    {
     "name": "stdout",
     "output_type": "stream",
     "text": [
      "epoch: 18, [batch: 4704 / 6720], examples_per_second: 3167.7140, train_label_loss: 0.3022, \n"
     ]
    },
    {
     "name": "stdout",
     "output_type": "stream",
     "text": [
      "epoch: 18, [batch: 5376 / 6720], examples_per_second: 3172.0479, train_label_loss: 0.1549, \n"
     ]
    },
    {
     "name": "stdout",
     "output_type": "stream",
     "text": [
      "epoch: 18, [batch: 6048 / 6720], examples_per_second: 3173.2345, train_label_loss: 0.2708, \n"
     ]
    },
    {
     "name": "stdout",
     "output_type": "stream",
     "text": [
      "=============================================================\n",
      "epoch: 18, source_val_acc_label: 0.8959, target_val_acc_label: 0.8827, source_val_label_loss: 0.2989, target_val_label_loss: 0.3505, \n",
      "=============================================================\n"
     ]
    },
    {
     "name": "stdout",
     "output_type": "stream",
     "text": [
      "epoch: 19, [batch: 1 / 6720], examples_per_second: 4.7468, train_label_loss: 0.2155, \n"
     ]
    },
    {
     "name": "stdout",
     "output_type": "stream",
     "text": [
      "epoch: 19, [batch: 672 / 6720], examples_per_second: 3155.9646, train_label_loss: 0.2793, \n"
     ]
    },
    {
     "name": "stdout",
     "output_type": "stream",
     "text": [
      "epoch: 19, [batch: 1344 / 6720], examples_per_second: 3175.9011, train_label_loss: 0.2067, \n"
     ]
    },
    {
     "name": "stdout",
     "output_type": "stream",
     "text": [
      "epoch: 19, [batch: 2016 / 6720], examples_per_second: 3172.3181, train_label_loss: 0.4463, \n"
     ]
    },
    {
     "name": "stdout",
     "output_type": "stream",
     "text": [
      "epoch: 19, [batch: 2688 / 6720], examples_per_second: 3187.4659, train_label_loss: 0.1796, \n"
     ]
    },
    {
     "name": "stdout",
     "output_type": "stream",
     "text": [
      "epoch: 19, [batch: 3360 / 6720], examples_per_second: 3179.5667, train_label_loss: 0.0881, \n"
     ]
    },
    {
     "name": "stdout",
     "output_type": "stream",
     "text": [
      "epoch: 19, [batch: 4032 / 6720], examples_per_second: 3178.3154, train_label_loss: 0.3561, \n"
     ]
    },
    {
     "name": "stdout",
     "output_type": "stream",
     "text": [
      "epoch: 19, [batch: 4704 / 6720], examples_per_second: 3175.8141, train_label_loss: 0.2841, \n"
     ]
    },
    {
     "name": "stdout",
     "output_type": "stream",
     "text": [
      "epoch: 19, [batch: 5376 / 6720], examples_per_second: 3174.8965, train_label_loss: 0.2184, \n"
     ]
    },
    {
     "name": "stdout",
     "output_type": "stream",
     "text": [
      "epoch: 19, [batch: 6048 / 6720], examples_per_second: 3173.8536, train_label_loss: 0.2166, \n"
     ]
    },
    {
     "name": "stdout",
     "output_type": "stream",
     "text": [
      "=============================================================\n",
      "epoch: 19, source_val_acc_label: 0.8910, target_val_acc_label: 0.8731, source_val_label_loss: 0.3064, target_val_label_loss: 0.3719, \n",
      "=============================================================\n"
     ]
    },
    {
     "name": "stdout",
     "output_type": "stream",
     "text": [
      "Patience (3) exhausted\n"
     ]
    }
   ],
   "source": [
    "###################################\n",
    "# train\n",
    "###################################\n",
    "jig = PTN_Train_Eval_Test_Jig(model, p.BEST_MODEL_PATH, p.device)\n",
    "\n",
    "jig.train(\n",
    "    train_iterable=datasets.source.processed.train,\n",
    "    source_val_iterable=datasets.source.processed.val,\n",
    "    target_val_iterable=datasets.target.processed.val,\n",
    "    num_epochs=p.n_epoch,\n",
    "    num_logs_per_epoch=p.NUM_LOGS_PER_EPOCH,\n",
    "    patience=p.patience,\n",
    "    optimizer=optimizer,\n",
    "    criteria_for_best=p.criteria_for_best,\n",
    ")"
   ]
  },
  {
   "cell_type": "code",
   "execution_count": 23,
   "id": "31e8fabf",
   "metadata": {
    "execution": {
     "iopub.execute_input": "2022-03-07T04:58:07.870313Z",
     "iopub.status.busy": "2022-03-07T04:58:07.870049Z",
     "iopub.status.idle": "2022-03-07T04:58:07.886642Z",
     "shell.execute_reply": "2022-03-07T04:58:07.887061Z"
    },
    "papermill": {
     "duration": 0.072463,
     "end_time": "2022-03-07T04:58:07.887201",
     "exception": false,
     "start_time": "2022-03-07T04:58:07.814738",
     "status": "completed"
    },
    "tags": []
   },
   "outputs": [],
   "source": [
    "total_experiment_time_secs = time.time() - start_time_secs"
   ]
  },
  {
   "cell_type": "code",
   "execution_count": 24,
   "id": "87b9595b",
   "metadata": {
    "execution": {
     "iopub.execute_input": "2022-03-07T04:58:08.003327Z",
     "iopub.status.busy": "2022-03-07T04:58:08.003057Z",
     "iopub.status.idle": "2022-03-07T04:59:46.424583Z",
     "shell.execute_reply": "2022-03-07T04:59:46.425000Z"
    },
    "papermill": {
     "duration": 98.480452,
     "end_time": "2022-03-07T04:59:46.425140",
     "exception": false,
     "start_time": "2022-03-07T04:58:07.944688",
     "status": "completed"
    },
    "tags": []
   },
   "outputs": [],
   "source": [
    "###################################\n",
    "# Evaluate the model\n",
    "###################################\n",
    "source_test_label_accuracy, source_test_label_loss = jig.test(datasets.source.processed.test)\n",
    "target_test_label_accuracy, target_test_label_loss = jig.test(datasets.target.processed.test)\n",
    "\n",
    "source_val_label_accuracy, source_val_label_loss = jig.test(datasets.source.processed.val)\n",
    "target_val_label_accuracy, target_val_label_loss = jig.test(datasets.target.processed.val)\n",
    "\n",
    "history = jig.get_history()\n",
    "\n",
    "total_epochs_trained = len(history[\"epoch_indices\"])\n",
    "\n",
    "val_dl = Iterable_Aggregator((datasets.source.original.val,datasets.target.original.val))\n",
    "\n",
    "confusion = ptn_confusion_by_domain_over_dataloader(model, p.device, val_dl)\n",
    "per_domain_accuracy = per_domain_accuracy_from_confusion(confusion)\n",
    "\n",
    "# Add a key to per_domain_accuracy for if it was a source domain\n",
    "for domain, accuracy in per_domain_accuracy.items():\n",
    "    per_domain_accuracy[domain] = {\n",
    "        \"accuracy\": accuracy,\n",
    "        \"source?\": domain in p.domains_source\n",
    "    }\n",
    "\n",
    "# Do an independent accuracy assesment JUST TO BE SURE!\n",
    "# _source_test_label_accuracy = independent_accuracy_assesment(model, datasets.source.processed.test, p.device)\n",
    "# _target_test_label_accuracy = independent_accuracy_assesment(model, datasets.target.processed.test, p.device)\n",
    "# _source_val_label_accuracy = independent_accuracy_assesment(model, datasets.source.processed.val, p.device)\n",
    "# _target_val_label_accuracy = independent_accuracy_assesment(model, datasets.target.processed.val, p.device)\n",
    "\n",
    "# assert(_source_test_label_accuracy == source_test_label_accuracy)\n",
    "# assert(_target_test_label_accuracy == target_test_label_accuracy)\n",
    "# assert(_source_val_label_accuracy == source_val_label_accuracy)\n",
    "# assert(_target_val_label_accuracy == target_val_label_accuracy)\n",
    "\n",
    "experiment = {\n",
    "    \"experiment_name\": p.experiment_name,\n",
    "    \"parameters\": dict(p),\n",
    "    \"results\": {\n",
    "        \"source_test_label_accuracy\": source_test_label_accuracy,\n",
    "        \"source_test_label_loss\": source_test_label_loss,\n",
    "        \"target_test_label_accuracy\": target_test_label_accuracy,\n",
    "        \"target_test_label_loss\": target_test_label_loss,\n",
    "        \"source_val_label_accuracy\": source_val_label_accuracy,\n",
    "        \"source_val_label_loss\": source_val_label_loss,\n",
    "        \"target_val_label_accuracy\": target_val_label_accuracy,\n",
    "        \"target_val_label_loss\": target_val_label_loss,\n",
    "        \"total_epochs_trained\": total_epochs_trained,\n",
    "        \"total_experiment_time_secs\": total_experiment_time_secs,\n",
    "        \"confusion\": confusion,\n",
    "        \"per_domain_accuracy\": per_domain_accuracy,\n",
    "    },\n",
    "    \"history\": history,\n",
    "    \"dataset_metrics\": get_dataset_metrics(datasets, \"ptn\"),\n",
    "}"
   ]
  },
  {
   "cell_type": "code",
   "execution_count": 25,
   "id": "54a21829",
   "metadata": {
    "execution": {
     "iopub.execute_input": "2022-03-07T04:59:46.544023Z",
     "iopub.status.busy": "2022-03-07T04:59:46.539792Z",
     "iopub.status.idle": "2022-03-07T04:59:46.705362Z",
     "shell.execute_reply": "2022-03-07T04:59:46.704905Z"
    },
    "papermill": {
     "duration": 0.221219,
     "end_time": "2022-03-07T04:59:46.705457",
     "exception": false,
     "start_time": "2022-03-07T04:59:46.484238",
     "status": "completed"
    },
    "tags": []
   },
   "outputs": [
    {
     "data": {
      "image/png": "[encoded data removed]",
      "text/plain": [
       "<Figure size 1080x504 with 1 Axes>"
      ]
     },
     "metadata": {
      "needs_background": "light"
     },
     "output_type": "display_data"
    }
   ],
   "source": [
    "ax = get_loss_curve(experiment)\n",
    "plt.show()"
   ]
  },
  {
   "cell_type": "code",
   "execution_count": 26,
   "id": "fd8a0f60",
   "metadata": {
    "execution": {
     "iopub.execute_input": "2022-03-07T04:59:46.819933Z",
     "iopub.status.busy": "2022-03-07T04:59:46.819629Z",
     "iopub.status.idle": "2022-03-07T04:59:46.998911Z",
     "shell.execute_reply": "2022-03-07T04:59:46.998633Z"
    },
    "papermill": {
     "duration": 0.235448,
     "end_time": "2022-03-07T04:59:46.998973",
     "exception": false,
     "start_time": "2022-03-07T04:59:46.763525",
     "status": "completed"
    },
    "tags": []
   },
   "outputs": [
    {
     "data": {
      "text/plain": [
       "<matplotlib.axes._subplots.AxesSubplot at 0x7f40a8d7d1c0>"
      ]
     },
     "execution_count": 26,
     "metadata": {},
     "output_type": "execute_result"
    },
    {
     "data": {
      "image/png": "[encoded data removed]",
      "text/plain": [
       "<Figure size 1080x504 with 1 Axes>"
      ]
     },
     "metadata": {
      "needs_background": "light"
     },
     "output_type": "display_data"
    }
   ],
   "source": [
    "get_results_table(experiment)"
   ]
  },
  {
   "cell_type": "code",
   "execution_count": 27,
   "id": "cf8dc689",
   "metadata": {
    "execution": {
     "iopub.execute_input": "2022-03-07T04:59:47.112507Z",
     "iopub.status.busy": "2022-03-07T04:59:47.111616Z",
     "iopub.status.idle": "2022-03-07T04:59:47.336728Z",
     "shell.execute_reply": "2022-03-07T04:59:47.336258Z"
    },
    "papermill": {
     "duration": 0.281785,
     "end_time": "2022-03-07T04:59:47.336824",
     "exception": false,
     "start_time": "2022-03-07T04:59:47.055039",
     "status": "completed"
    },
    "tags": []
   },
   "outputs": [
    {
     "data": {
      "text/plain": [
       "<matplotlib.axes._subplots.AxesSubplot at 0x7f40c069a370>"
      ]
     },
     "execution_count": 27,
     "metadata": {},
     "output_type": "execute_result"
    },
    {
     "data": {
      "image/png": "[encoded data removed]",
      "text/plain": [
       "<Figure size 1080x504 with 1 Axes>"
      ]
     },
     "metadata": {
      "needs_background": "light"
     },
     "output_type": "display_data"
    }
   ],
   "source": [
    "get_domain_accuracies(experiment)"
   ]
  },
  {
   "cell_type": "code",
   "execution_count": 28,
   "id": "a74ae082",
   "metadata": {
    "execution": {
     "iopub.execute_input": "2022-03-07T04:59:47.455002Z",
     "iopub.status.busy": "2022-03-07T04:59:47.454736Z",
     "iopub.status.idle": "2022-03-07T04:59:47.469005Z",
     "shell.execute_reply": "2022-03-07T04:59:47.468555Z"
    },
    "papermill": {
     "duration": 0.073804,
     "end_time": "2022-03-07T04:59:47.469098",
     "exception": false,
     "start_time": "2022-03-07T04:59:47.395294",
     "status": "completed"
    },
    "tags": []
   },
   "outputs": [
    {
     "name": "stdout",
     "output_type": "stream",
     "text": [
      "Source Test Label Accuracy: 0.89248046875 Target Test Label Accuracy: 0.8823893229166667\n",
      "Source Val Label Accuracy: 0.8928385416666667 Target Val Label Accuracy: 0.8797526041666667\n"
     ]
    }
   ],
   "source": [
    "print(\"Source Test Label Accuracy:\", experiment[\"results\"][\"source_test_label_accuracy\"], \"Target Test Label Accuracy:\", experiment[\"results\"][\"target_test_label_accuracy\"])\n",
    "print(\"Source Val Label Accuracy:\", experiment[\"results\"][\"source_val_label_accuracy\"], \"Target Val Label Accuracy:\", experiment[\"results\"][\"target_val_label_accuracy\"])"
   ]
  },
  {
   "cell_type": "code",
   "execution_count": 29,
   "id": "dacca602",
   "metadata": {
    "execution": {
     "iopub.execute_input": "2022-03-07T04:59:47.587550Z",
     "iopub.status.busy": "2022-03-07T04:59:47.587208Z",
     "iopub.status.idle": "2022-03-07T04:59:47.601441Z",
     "shell.execute_reply": "2022-03-07T04:59:47.600992Z"
    },
    "papermill": {
     "duration": 0.072357,
     "end_time": "2022-03-07T04:59:47.601533",
     "exception": false,
     "start_time": "2022-03-07T04:59:47.529176",
     "status": "completed"
    },
    "tags": [
     "experiment_json"
    ]
   },
   "outputs": [
    {
     "data": {
      "text/plain": [
       "'{\"experiment_name\": \"tl_1_oracle.run1-oracle.run2\", \"parameters\": {\"experiment_name\": \"tl_1_oracle.run1-oracle.run2\", \"device\": \"cuda\", \"lr\": 0.001, \"seed\": 1337, \"dataset_seed\": 1337, \"n_shot\": 3, \"n_query\": 2, \"train_k_factor\": 3, \"val_k_factor\": 2, \"test_k_factor\": 2, \"torch_default_dtype\": \"torch.float32\", \"n_epoch\": 50, \"patience\": 3, \"criteria_for_best\": \"target_loss\", \"x_net\": [{\"class\": \"nnReshape\", \"kargs\": {\"shape\": [-1, 1, 2, 256]}}, {\"class\": \"Conv2d\", \"kargs\": {\"in_channels\": 1, \"out_channels\": 256, \"kernel_size\": [1, 7], \"bias\": false, \"padding\": [0, 3]}}, {\"class\": \"ReLU\", \"kargs\": {\"inplace\": true}}, {\"class\": \"BatchNorm2d\", \"kargs\": {\"num_features\": 256}}, {\"class\": \"Conv2d\", \"kargs\": {\"in_channels\": 256, \"out_channels\": 80, \"kernel_size\": [2, 7], \"bias\": true, \"padding\": [0, 3]}}, {\"class\": \"ReLU\", \"kargs\": {\"inplace\": true}}, {\"class\": \"BatchNorm2d\", \"kargs\": {\"num_features\": 80}}, {\"class\": \"Flatten\", \"kargs\": {}}, {\"class\": \"Linear\", \"kargs\": {\"in_features\": 20480, \"out_features\": 256}}, {\"class\": \"ReLU\", \"kargs\": {\"inplace\": true}}, {\"class\": \"BatchNorm1d\", \"kargs\": {\"num_features\": 256}}, {\"class\": \"Linear\", \"kargs\": {\"in_features\": 256, \"out_features\": 256}}], \"NUM_LOGS_PER_EPOCH\": 10, \"BEST_MODEL_PATH\": \"./best_model.pth\", \"n_way\": 16, \"datasets\": [{\"labels\": [\"3123D52\", \"3123D65\", \"3123D79\", \"3123D80\", \"3123D54\", \"3123D70\", \"3123D7B\", \"3123D89\", \"3123D58\", \"3123D76\", \"3123D7D\", \"3123EFE\", \"3123D64\", \"3123D78\", \"3123D7E\", \"3124E4A\"], \"domains\": [32, 38, 8, 44, 14, 50, 20, 26], \"num_examples_per_domain_per_label\": 2000, \"pickle_path\": \"/mnt/wd500GB/CSC500/csc500-main/datasets/oracle.Run1_framed_2000Examples_stratified_ds.2022A.pkl\", \"source_or_target_dataset\": \"target\", \"x_transforms\": [\"unit_power\"], \"episode_transforms\": [], \"domain_prefix\": \"ORACLE.run1_\"}, {\"labels\": [\"3123D52\", \"3123D65\", \"3123D79\", \"3123D80\", \"3123D54\", \"3123D70\", \"3123D7B\", \"3123D89\", \"3123D58\", \"3123D76\", \"3123D7D\", \"3123EFE\", \"3123D64\", \"3123D78\", \"3123D7E\", \"3124E4A\"], \"domains\": [32, 38, 8, 44, 14, 50, 20, 26], \"num_examples_per_domain_per_label\": 2000, \"pickle_path\": \"/mnt/wd500GB/CSC500/csc500-main/datasets/oracle.Run2_framed_2000Examples_stratified_ds.2022A.pkl\", \"source_or_target_dataset\": \"source\", \"x_transforms\": [\"unit_power\"], \"episode_transforms\": [], \"domain_prefix\": \"ORACLE.run2_\"}], \"domains_source\": [\"ORACLE.run2_32\", \"ORACLE.run2_38\", \"ORACLE.run2_8\", \"ORACLE.run2_44\", \"ORACLE.run2_14\", \"ORACLE.run2_50\", \"ORACLE.run2_20\", \"ORACLE.run2_26\"], \"domains_target\": [\"ORACLE.run1_32\", \"ORACLE.run1_38\", \"ORACLE.run1_8\", \"ORACLE.run1_44\", \"ORACLE.run1_14\", \"ORACLE.run1_50\", \"ORACLE.run1_20\", \"ORACLE.run1_26\"]}, \"results\": {\"source_test_label_accuracy\": 0.89248046875, \"source_test_label_loss\": 0.30064138770103455, \"target_test_label_accuracy\": 0.8823893229166667, \"target_test_label_loss\": 0.35149016976356506, \"source_val_label_accuracy\": 0.8928385416666667, \"source_val_label_loss\": 0.3072661757469177, \"target_val_label_accuracy\": 0.8797526041666667, \"target_val_label_loss\": 0.3465026319026947, \"total_epochs_trained\": 19, \"total_experiment_time_secs\": 3588.378753423691, \"confusion\": {\"ORACLE.run2_14\": {\"15\": {\"15\": 240}, \"3\": {\"3\": 221, \"5\": 13, \"2\": 3, \"4\": 2, \"14\": 1}, \"6\": {\"6\": 221, \"13\": 19}, \"1\": {\"1\": 238, \"4\": 1, \"5\": 1}, \"8\": {\"8\": 240}, \"10\": {\"10\": 240}, \"9\": {\"9\": 240}, \"13\": {\"13\": 215, \"6\": 23, \"2\": 2}, \"12\": {\"12\": 179, \"9\": 25, \"11\": 21, \"0\": 14, \"8\": 1}, \"5\": {\"5\": 210, \"2\": 13, \"4\": 6, \"3\": 5, \"1\": 6}, \"0\": {\"0\": 240}, \"2\": {\"14\": 54, \"2\": 138, \"5\": 32, \"13\": 3, \"3\": 12, \"4\": 1}, \"11\": {\"11\": 240}, \"14\": {\"2\": 21, \"14\": 217, \"3\": 2}, \"7\": {\"7\": 240}, \"4\": {\"4\": 235, \"5\": 5}}, \"ORACLE.run2_20\": {\"3\": {\"2\": 21, \"3\": 204, \"9\": 11, \"7\": 4}, \"15\": {\"15\": 197, \"1\": 4, \"5\": 3, \"13\": 26, \"2\": 2, \"12\": 6, \"0\": 2}, \"8\": {\"4\": 6, \"8\": 211, \"14\": 16, \"7\": 5, \"5\": 2}, \"4\": {\"4\": 238, \"1\": 1, \"5\": 1}, \"14\": {\"14\": 223, \"6\": 12, \"8\": 5}, \"0\": {\"0\": 229, \"1\": 1, \"15\": 6, \"13\": 1, \"5\": 3}, \"7\": {\"7\": 237, \"8\": 3}, \"6\": {\"6\": 239, \"14\": 1}, \"10\": {\"10\": 240}, \"5\": {\"5\": 197, \"15\": 8, \"0\": 12, \"2\": 10, \"8\": 2, \"3\": 2, \"12\": 4, \"7\": 3, \"13\": 1, \"4\": 1}, \"2\": {\"2\": 195, \"5\": 4, \"12\": 6, \"9\": 12, \"3\": 23}, \"12\": {\"2\": 12, \"12\": 187, \"1\": 24, \"15\": 4, \"5\": 8, \"9\": 5}, \"9\": {\"9\": 201, \"2\": 19, \"3\": 16, \"12\": 3, \"1\": 1}, \"1\": {\"12\": 43, \"1\": 191, \"15\": 4, \"9\": 2}, \"11\": {\"11\": 240}, \"13\": {\"13\": 212, \"15\": 26, \"5\": 2}}, \"ORACLE.run2_38\": {\"5\": {\"5\": 143, \"8\": 70, \"7\": 21, \"15\": 6}, \"8\": {\"5\": 66, \"8\": 159, \"7\": 12, \"13\": 1, \"15\": 1, \"1\": 1}, \"11\": {\"11\": 239, \"14\": 1}, \"1\": {\"1\": 232, \"15\": 8}, \"10\": {\"7\": 31, \"10\": 205, \"3\": 3, \"13\": 1}, \"15\": {\"5\": 16, \"15\": 197, \"8\": 7, \"1\": 18, \"0\": 2}, \"3\": {\"3\": 180, \"13\": 49, \"10\": 6, \"0\": 5}, \"7\": {\"7\": 195, \"5\": 20, \"10\": 16, \"8\": 9}, \"4\": {\"4\": 240}, \"14\": {\"14\": 207, \"12\": 3, \"2\": 28, \"11\": 1, \"5\": 1}, \"9\": {\"9\": 234, \"6\": 6}, \"12\": {\"12\": 236, \"14\": 4}, \"6\": {\"6\": 237, \"9\": 3}, \"2\": {\"2\": 232, \"14\": 8}, \"0\": {\"0\": 235, \"3\": 3, \"10\": 1, \"7\": 1}, \"13\": {\"13\": 199, \"3\": 35, \"14\": 1, \"10\": 1, \"0\": 2, \"2\": 2}}, \"ORACLE.run2_8\": {\"9\": {\"9\": 240}, \"10\": {\"10\": 210, \"5\": 17, \"0\": 11, \"13\": 1, \"14\": 1}, \"13\": {\"13\": 232, \"1\": 4, \"14\": 3, \"6\": 1}, \"0\": {\"0\": 230, \"10\": 4, \"14\": 6}, \"1\": {\"1\": 238, \"13\": 1, \"5\": 1}, \"15\": {\"15\": 219, \"8\": 14, \"12\": 7}, \"5\": {\"5\": 222, \"10\": 18}, \"3\": {\"3\": 239, \"12\": 1}, \"6\": {\"6\": 187, \"7\": 15, \"4\": 38}, \"11\": {\"11\": 229, \"8\": 10, \"12\": 1}, \"8\": {\"8\": 233, \"15\": 5, \"11\": 2}, \"4\": {\"4\": 149, \"6\": 45, \"7\": 45, \"2\": 1}, \"12\": {\"12\": 226, \"15\": 14}, \"14\": {\"14\": 230, \"0\": 7, \"13\": 2, \"6\": 1}, \"2\": {\"2\": 232, \"7\": 6, \"4\": 2}, \"7\": {\"7\": 182, \"4\": 45, \"6\": 11, \"2\": 2}}, \"ORACLE.run2_50\": {\"7\": {\"7\": 217, \"5\": 12, \"13\": 10, \"10\": 1}, \"3\": {\"3\": 238, \"8\": 2}, \"8\": {\"8\": 240}, \"2\": {\"2\": 236, \"0\": 4}, \"14\": {\"14\": 240}, \"4\": {\"4\": 171, \"5\": 57, \"6\": 8, \"7\": 2, \"1\": 2}, \"6\": {\"6\": 224, \"1\": 4, \"4\": 7, \"5\": 4, \"15\": 1}, \"15\": {\"15\": 236, \"4\": 1, \"11\": 1, \"1\": 2}, \"10\": {\"10\": 208, \"13\": 30, \"0\": 2}, \"11\": {\"11\": 237, \"15\": 2, \"12\": 1}, \"13\": {\"13\": 215, \"5\": 4, \"10\": 20, \"7\": 1}, \"9\": {\"9\": 236, \"12\": 4}, \"0\": {\"0\": 234, \"2\": 5, \"10\": 1}, \"1\": {\"1\": 236, \"15\": 2, \"6\": 2}, \"12\": {\"12\": 239, \"9\": 1}, \"5\": {\"6\": 9, \"5\": 169, \"4\": 37, \"7\": 19, \"10\": 2, \"13\": 4}}, \"ORACLE.run2_32\": {\"8\": {\"8\": 220, \"0\": 15, \"5\": 2, \"3\": 2, \"15\": 1}, \"14\": {\"14\": 225, \"5\": 3, \"0\": 10, \"11\": 1, \"8\": 1}, \"2\": {\"2\": 237, \"5\": 1, \"7\": 2}, \"0\": {\"0\": 203, \"8\": 16, \"11\": 7, \"4\": 5, \"5\": 3, \"7\": 2, \"14\": 4}, \"1\": {\"1\": 240}, \"10\": {\"10\": 239, \"1\": 1}, \"11\": {\"11\": 217, \"8\": 1, \"13\": 4, \"7\": 13, \"4\": 2, \"0\": 3}, \"5\": {\"5\": 197, \"4\": 6, \"7\": 4, \"8\": 17, \"0\": 4, \"14\": 5, \"11\": 1, \"2\": 6}, \"15\": {\"15\": 239, \"8\": 1}, \"3\": {\"3\": 238, \"8\": 1, \"13\": 1}, \"12\": {\"12\": 240}, \"7\": {\"11\": 9, \"7\": 209, \"4\": 10, \"13\": 7, \"5\": 3, \"2\": 2}, \"13\": {\"4\": 34, \"13\": 202, \"7\": 2, \"11\": 1, \"3\": 1}, \"6\": {\"6\": 240}, \"4\": {\"4\": 196, \"13\": 29, \"2\": 7, \"7\": 5, \"5\": 3}, \"9\": {\"9\": 240}}, \"ORACLE.run2_26\": {\"4\": {\"4\": 212, \"8\": 5, \"0\": 8, \"15\": 2, \"7\": 7, \"3\": 3, \"2\": 3}, \"12\": {\"12\": 240}, \"10\": {\"10\": 117, \"6\": 13, \"0\": 64, \"8\": 23, \"14\": 13, \"4\": 7, \"15\": 2, \"2\": 1}, \"0\": {\"10\": 25, \"0\": 151, \"14\": 37, \"4\": 11, \"8\": 16}, \"13\": {\"13\": 218, \"5\": 16, \"9\": 6}, \"9\": {\"9\": 229, \"13\": 5, \"6\": 5, \"15\": 1}, \"3\": {\"3\": 215, \"2\": 13, \"7\": 6, \"4\": 4, \"15\": 2}, \"2\": {\"2\": 135, \"7\": 75, \"8\": 4, \"5\": 1, \"15\": 11, \"3\": 10, \"4\": 4}, \"5\": {\"13\": 36, \"5\": 166, \"2\": 15, \"7\": 14, \"3\": 5, \"9\": 1, \"6\": 3}, \"14\": {\"14\": 173, \"10\": 10, \"8\": 13, \"4\": 1, \"0\": 31, \"1\": 12}, \"8\": {\"10\": 11, \"14\": 9, \"8\": 187, \"4\": 7, \"0\": 10, \"2\": 7, \"13\": 1, \"7\": 6, \"5\": 1, \"15\": 1}, \"7\": {\"3\": 6, \"2\": 72, \"7\": 140, \"8\": 6, \"4\": 13, \"13\": 2, \"15\": 1}, \"6\": {\"6\": 232, \"9\": 8}, \"11\": {\"11\": 240}, \"15\": {\"15\": 203, \"2\": 18, \"3\": 6, \"4\": 1, \"7\": 12}, \"1\": {\"1\": 229, \"14\": 9, \"8\": 1, \"10\": 1}}, \"ORACLE.run2_44\": {\"12\": {\"12\": 220, \"3\": 4, \"1\": 16}, \"7\": {\"9\": 76, \"7\": 160, \"2\": 4}, \"5\": {\"5\": 229, \"14\": 10, \"0\": 1}, \"15\": {\"15\": 215, \"14\": 16, \"4\": 5, \"0\": 1, \"8\": 3}, \"8\": {\"0\": 76, \"8\": 157, \"5\": 1, \"15\": 6}, \"2\": {\"2\": 219, \"9\": 14, \"7\": 6, \"3\": 1}, \"13\": {\"13\": 238, \"4\": 1, \"6\": 1}, \"4\": {\"4\": 233, \"13\": 3, \"14\": 4}, \"0\": {\"0\": 159, \"8\": 81}, \"6\": {\"6\": 229, \"9\": 9, \"7\": 2}, \"9\": {\"9\": 152, \"7\": 56, \"2\": 25, \"6\": 7}, \"11\": {\"11\": 238, \"6\": 1, \"13\": 1}, \"10\": {\"10\": 239, \"1\": 1}, \"14\": {\"14\": 197, \"15\": 21, \"5\": 12, \"4\": 10}, \"1\": {\"1\": 204, \"12\": 29, \"3\": 6, \"10\": 1}, \"3\": {\"3\": 231, \"12\": 3, \"1\": 6}}, \"ORACLE.run1_14\": {\"15\": {\"15\": 240}, \"3\": {\"3\": 233, \"2\": 4, \"5\": 1, \"14\": 2}, \"6\": {\"6\": 181, \"13\": 59}, \"1\": {\"1\": 235, \"5\": 4, \"4\": 1}, \"8\": {\"8\": 240}, \"10\": {\"10\": 240}, \"9\": {\"9\": 240}, \"13\": {\"13\": 139, \"2\": 11, \"6\": 72, \"5\": 9, \"14\": 7, \"4\": 2}, \"12\": {\"12\": 239, \"9\": 1}, \"5\": {\"5\": 202, \"1\": 18, \"4\": 12, \"3\": 3, \"2\": 5}, \"0\": {\"0\": 240}, \"2\": {\"2\": 162, \"6\": 6, \"3\": 3, \"14\": 44, \"13\": 4, \"15\": 1, \"5\": 20}, \"11\": {\"11\": 214, \"12\": 12, \"9\": 14}, \"14\": {\"14\": 215, \"2\": 23, \"13\": 2}, \"7\": {\"7\": 240}, \"4\": {\"4\": 235, \"5\": 5}}, \"ORACLE.run1_20\": {\"3\": {\"3\": 181, \"9\": 16, \"12\": 29, \"2\": 13, \"4\": 1}, \"15\": {\"5\": 5, \"15\": 219, \"0\": 5, \"1\": 11}, \"8\": {\"8\": 234, \"4\": 4, \"7\": 2}, \"4\": {\"4\": 235, \"3\": 3, \"8\": 2}, \"14\": {\"6\": 7, \"14\": 233}, \"0\": {\"5\": 21, \"15\": 10, \"0\": 206, \"7\": 1, \"8\": 1, \"13\": 1}, \"7\": {\"7\": 233, \"3\": 1, \"2\": 5, \"8\": 1}, \"6\": {\"6\": 237, \"14\": 3}, \"10\": {\"10\": 240}, \"5\": {\"5\": 216, \"15\": 6, \"0\": 14, \"1\": 2, \"12\": 2}, \"2\": {\"2\": 196, \"9\": 26, \"3\": 6, \"7\": 5, \"12\": 5, \"1\": 1, \"13\": 1}, \"12\": {\"12\": 185, \"2\": 6, \"3\": 21, \"1\": 23, \"9\": 4, \"15\": 1}, \"9\": {\"9\": 197, \"3\": 11, \"12\": 7, \"2\": 25}, \"1\": {\"1\": 221, \"5\": 1, \"12\": 15, \"15\": 3}, \"11\": {\"11\": 240}, \"13\": {\"13\": 239, \"15\": 1}}, \"ORACLE.run1_38\": {\"5\": {\"8\": 66, \"5\": 132, \"15\": 6, \"7\": 23, \"9\": 3, \"6\": 6, \"0\": 2, \"13\": 1, \"10\": 1}, \"8\": {\"0\": 11, \"8\": 201, \"15\": 6, \"5\": 18, \"10\": 1, \"13\": 1, \"7\": 2}, \"11\": {\"11\": 239, \"14\": 1}, \"1\": {\"1\": 238, \"15\": 2}, \"10\": {\"10\": 218, \"7\": 1, \"8\": 2, \"13\": 17, \"14\": 2}, \"15\": {\"15\": 216, \"8\": 3, \"1\": 15, \"2\": 1, \"5\": 5}, \"3\": {\"3\": 238, \"0\": 2}, \"7\": {\"7\": 218, \"8\": 5, \"0\": 8, \"5\": 9}, \"4\": {\"4\": 239, \"12\": 1}, \"14\": {\"14\": 230, \"2\": 10}, \"9\": {\"9\": 230, \"6\": 7, \"5\": 3}, \"12\": {\"12\": 239, \"4\": 1}, \"6\": {\"6\": 240}, \"2\": {\"14\": 9, \"2\": 230, \"13\": 1}, \"0\": {\"8\": 19, \"0\": 192, \"3\": 13, \"11\": 2, \"10\": 4, \"7\": 5, \"13\": 2, \"5\": 3}, \"13\": {\"13\": 224, \"15\": 4, \"10\": 6, \"5\": 1, \"8\": 2, \"2\": 3}}, \"ORACLE.run1_8\": {\"9\": {\"9\": 240}, \"10\": {\"10\": 224, \"14\": 8, \"13\": 6, \"4\": 2}, \"13\": {\"13\": 142, \"4\": 26, \"0\": 28, \"14\": 7, \"10\": 32, \"6\": 5}, \"0\": {\"13\": 13, \"0\": 218, \"7\": 6, \"6\": 2, \"10\": 1}, \"1\": {\"1\": 233, \"5\": 1, \"11\": 5, \"14\": 1}, \"15\": {\"15\": 228, \"8\": 2, \"12\": 10}, \"5\": {\"5\": 231, \"1\": 3, \"14\": 3, \"10\": 3}, \"3\": {\"3\": 240}, \"6\": {\"6\": 212, \"7\": 22, \"4\": 4, \"13\": 2}, \"11\": {\"11\": 217, \"1\": 23}, \"8\": {\"8\": 239, \"12\": 1}, \"4\": {\"4\": 205, \"13\": 28, \"14\": 3, \"6\": 3, \"0\": 1}, \"12\": {\"12\": 166, \"8\": 6, \"15\": 53, \"3\": 15}, \"14\": {\"14\": 201, \"10\": 19, \"1\": 7, \"4\": 10, \"13\": 2, \"5\": 1}, \"2\": {\"2\": 235, \"7\": 4, \"3\": 1}, \"7\": {\"7\": 226, \"6\": 14}}, \"ORACLE.run1_50\": {\"7\": {\"7\": 223, \"13\": 10, \"5\": 5, \"6\": 2}, \"3\": {\"3\": 240}, \"8\": {\"8\": 233, \"10\": 7}, \"2\": {\"2\": 232, \"0\": 8}, \"14\": {\"14\": 240}, \"4\": {\"4\": 172, \"5\": 25, \"1\": 5, \"7\": 8, \"15\": 26, \"6\": 4}, \"6\": {\"6\": 233, \"7\": 2, \"5\": 1, \"13\": 2, \"15\": 1, \"1\": 1}, \"15\": {\"15\": 213, \"1\": 16, \"4\": 6, \"6\": 1, \"11\": 4}, \"10\": {\"10\": 234, \"0\": 3, \"13\": 3}, \"11\": {\"11\": 229, \"15\": 7, \"12\": 4}, \"13\": {\"13\": 226, \"5\": 6, \"0\": 2, \"6\": 3, \"10\": 1, \"7\": 2}, \"9\": {\"9\": 221, \"11\": 13, \"12\": 6}, \"0\": {\"0\": 206, \"10\": 16, \"2\": 18}, \"1\": {\"15\": 10, \"1\": 218, \"2\": 6, \"4\": 4, \"11\": 2}, \"12\": {\"12\": 238, \"9\": 2}, \"5\": {\"5\": 135, \"4\": 29, \"7\": 34, \"1\": 13, \"13\": 25, \"6\": 4}}, \"ORACLE.run1_32\": {\"8\": {\"8\": 217, \"0\": 11, \"3\": 1, \"13\": 6, \"14\": 1, \"5\": 4}, \"14\": {\"14\": 170, \"11\": 35, \"0\": 22, \"8\": 2, \"7\": 7, \"5\": 2, \"3\": 2}, \"2\": {\"2\": 204, \"4\": 35, \"7\": 1}, \"0\": {\"0\": 210, \"8\": 19, \"14\": 9, \"5\": 2}, \"1\": {\"1\": 240}, \"10\": {\"10\": 240}, \"11\": {\"11\": 234, \"7\": 1, \"14\": 5}, \"5\": {\"5\": 154, \"7\": 60, \"3\": 5, \"14\": 4, \"13\": 5, \"8\": 3, \"4\": 7, \"0\": 1, \"2\": 1}, \"15\": {\"15\": 240}, \"3\": {\"3\": 237, \"13\": 2, \"5\": 1}, \"12\": {\"12\": 240}, \"7\": {\"7\": 189, \"14\": 3, \"13\": 1, \"5\": 37, \"4\": 8, \"0\": 1, \"2\": 1}, \"13\": {\"13\": 198, \"3\": 10, \"4\": 19, \"7\": 4, \"5\": 9}, \"6\": {\"6\": 240}, \"4\": {\"2\": 37, \"4\": 193, \"5\": 1, \"7\": 2, \"13\": 7}, \"9\": {\"9\": 240}}, \"ORACLE.run1_26\": {\"4\": {\"4\": 214, \"7\": 7, \"0\": 3, \"14\": 8, \"8\": 8}, \"12\": {\"12\": 240}, \"10\": {\"10\": 141, \"8\": 30, \"0\": 58, \"14\": 8, \"6\": 1, \"15\": 1, \"4\": 1}, \"0\": {\"0\": 116, \"10\": 57, \"8\": 26, \"4\": 15, \"14\": 25, \"6\": 1}, \"13\": {\"5\": 33, \"13\": 200, \"9\": 1, \"2\": 5, \"15\": 1}, \"9\": {\"9\": 215, \"15\": 14, \"6\": 6, \"13\": 4, \"2\": 1}, \"3\": {\"3\": 208, \"2\": 26, \"7\": 6}, \"2\": {\"5\": 23, \"3\": 66, \"2\": 121, \"7\": 24, \"8\": 1, \"15\": 3, \"13\": 2}, \"5\": {\"5\": 219, \"2\": 6, \"13\": 12, \"15\": 2, \"9\": 1}, \"14\": {\"14\": 172, \"4\": 16, \"0\": 30, \"10\": 10, \"1\": 7, \"8\": 4, \"6\": 1}, \"8\": {\"8\": 155, \"10\": 30, \"7\": 12, \"0\": 20, \"15\": 4, \"4\": 14, \"14\": 5}, \"7\": {\"7\": 205, \"2\": 16, \"3\": 5, \"8\": 8, \"4\": 6}, \"6\": {\"6\": 226, \"15\": 10, \"10\": 3, \"9\": 1}, \"11\": {\"11\": 240}, \"15\": {\"15\": 189, \"6\": 7, \"9\": 31, \"8\": 4, \"13\": 2, \"5\": 2, \"0\": 1, \"10\": 4}, \"1\": {\"1\": 225, \"14\": 10, \"8\": 1, \"4\": 3, \"7\": 1}}, \"ORACLE.run1_44\": {\"12\": {\"12\": 226, \"1\": 12, \"10\": 2}, \"7\": {\"7\": 184, \"2\": 20, \"9\": 33, \"6\": 3}, \"5\": {\"5\": 215, \"14\": 3, \"8\": 6, \"0\": 13, \"15\": 3}, \"15\": {\"15\": 213, \"14\": 5, \"5\": 2, \"0\": 12, \"8\": 8}, \"8\": {\"0\": 105, \"8\": 122, \"15\": 9, \"5\": 4}, \"2\": {\"2\": 200, \"7\": 23, \"1\": 12, \"10\": 5}, \"13\": {\"13\": 176, \"6\": 41, \"9\": 21, \"11\": 1, \"7\": 1}, \"4\": {\"14\": 63, \"4\": 176, \"15\": 1}, \"0\": {\"0\": 150, \"8\": 78, \"5\": 4, \"15\": 8}, \"6\": {\"6\": 176, \"13\": 37, \"9\": 23, \"7\": 4}, \"9\": {\"13\": 23, \"4\": 3, \"9\": 143, \"7\": 52, \"6\": 19}, \"11\": {\"11\": 237, \"13\": 2, \"6\": 1}, \"10\": {\"1\": 14, \"10\": 214, \"2\": 8, \"12\": 3, \"7\": 1}, \"14\": {\"14\": 163, \"4\": 62, \"15\": 13, \"5\": 2}, \"1\": {\"2\": 13, \"1\": 184, \"3\": 7, \"12\": 23, \"10\": 13}, \"3\": {\"3\": 234, \"1\": 5, \"2\": 1}}}, \"per_domain_accuracy\": {\"ORACLE.run2_14\": {\"accuracy\": 0.9255208333333333, \"source?\": true}, \"ORACLE.run2_20\": {\"accuracy\": 0.89609375, \"source?\": true}, \"ORACLE.run2_38\": {\"accuracy\": 0.8776041666666666, \"source?\": true}, \"ORACLE.run2_8\": {\"accuracy\": 0.9109375, \"source?\": true}, \"ORACLE.run2_50\": {\"accuracy\": 0.93125, \"source?\": true}, \"ORACLE.run2_32\": {\"accuracy\": 0.9328125, \"source?\": true}, \"ORACLE.run2_26\": {\"accuracy\": 0.80390625, \"source?\": true}, \"ORACLE.run2_44\": {\"accuracy\": 0.8645833333333334, \"source?\": true}, \"ORACLE.run1_14\": {\"accuracy\": 0.91015625, \"source?\": false}, \"ORACLE.run1_20\": {\"accuracy\": 0.9145833333333333, \"source?\": false}, \"ORACLE.run1_38\": {\"accuracy\": 0.9177083333333333, \"source?\": false}, \"ORACLE.run1_8\": {\"accuracy\": 0.9002604166666667, \"source?\": false}, \"ORACLE.run1_50\": {\"accuracy\": 0.9096354166666667, \"source?\": false}, \"ORACLE.run1_32\": {\"accuracy\": 0.8973958333333333, \"source?\": false}, \"ORACLE.run1_26\": {\"accuracy\": 0.8036458333333333, \"source?\": false}, \"ORACLE.run1_44\": {\"accuracy\": 0.7846354166666667, \"source?\": false}}}, \"history\": {\"epoch_indices\": [1, 2, 3, 4, 5, 6, 7, 8, 9, 10, 11, 12, 13, 14, 15, 16, 17, 18, 19], \"train_label_loss\": [0.9378607181920892, 0.9850737247283438, 0.5664215634970571, 0.46903164561718724, 0.4409628181449426, 0.403454582012325, 0.37339203453129377, 0.3538278689393164, 0.33068785070181117, 0.31348908929600533, 0.2979854788606255, 0.2847489588813568, 0.27549897253352573, 0.2649190059982911, 0.2535756424034064, 0.24329264053210084, 0.2381223977121408, 0.23012516777796138, 0.22292463796418036], \"source_val_label_loss\": [48.35236740112305, 0.6476289629936218, 0.5168042778968811, 0.4950862228870392, 0.4544994533061981, 0.4300248622894287, 0.4117515981197357, 0.404021292924881, 0.36221516132354736, 0.3641798794269562, 0.33819934725761414, 0.3497741222381592, 0.3232674300670624, 0.3071216344833374, 0.3072661757469177, 0.3268855810165405, 0.3112843334674835, 0.2989172339439392, 0.30638906359672546], \"target_val_label_loss\": [49.01833724975586, 0.6163658499717712, 0.4934579133987427, 0.4860093593597412, 0.4453616142272949, 0.42881661653518677, 0.4186716377735138, 0.4150078296661377, 0.3885374069213867, 0.4057079255580902, 0.37579071521759033, 0.3924853205680847, 0.3607456386089325, 0.3548365831375122, 0.3465026319026947, 0.3721370995044708, 0.354996919631958, 0.35054799914360046, 0.37191277742385864], \"source_val_acc_label\": [0.60712890625, 0.7864583333333334, 0.82978515625, 0.8324544270833333, 0.8455729166666667, 0.85009765625, 0.8544921875, 0.856640625, 0.8736979166666666, 0.8685221354166667, 0.87978515625, 0.87646484375, 0.8853515625, 0.8904947916666667, 0.8928385416666667, 0.8827473958333333, 0.8924479166666667, 0.8958658854166667, 0.8909830729166667], \"target_val_acc_label\": [0.6080729166666666, 0.7908854166666667, 0.8284505208333334, 0.8301432291666667, 0.8462239583333333, 0.8481770833333333, 0.8488932291666667, 0.8507161458333333, 0.86416015625, 0.8565104166666667, 0.8688802083333333, 0.8634440104166666, 0.875, 0.8789713541666667, 0.8797526041666667, 0.8710286458333333, 0.8821614583333334, 0.8827473958333333, 0.8730794270833333]}, \"dataset_metrics\": {\"source\": {\"train\": {\"n_unique_x\": 179200, \"n_unique_y\": 16, \"n_batch/episode\": 6720}, \"val\": {\"n_unique_x\": 38400, \"n_unique_y\": 16, \"n_batch/episode\": 960}, \"test\": {\"n_unique_x\": 38400, \"n_unique_y\": 16, \"n_batch/episode\": 960}}, \"target\": {\"train\": {\"n_unique_x\": 179200, \"n_unique_y\": 16, \"n_batch/episode\": 6720}, \"val\": {\"n_unique_x\": 38400, \"n_unique_y\": 16, \"n_batch/episode\": 960}, \"test\": {\"n_unique_x\": 38400, \"n_unique_y\": 16, \"n_batch/episode\": 960}}}}'"
      ]
     },
     "execution_count": 29,
     "metadata": {},
     "output_type": "execute_result"
    }
   ],
   "source": [
    "json.dumps(experiment)"
   ]
  }
 ],
 "metadata": {
  "celltoolbar": "Tags",
  "kernelspec": {
   "display_name": "Python 3 (ipykernel)",
   "language": "python",
   "name": "python3"
  },
  "language_info": {
   "codemirror_mode": {
    "name": "ipython",
    "version": 3
   },
   "file_extension": ".py",
   "mimetype": "text/x-python",
   "name": "python",
   "nbconvert_exporter": "python",
   "pygments_lexer": "ipython3",
   "version": "3.8.10"
  },
  "papermill": {
   "default_parameters": {},
   "duration": 3691.346256,
   "end_time": "2022-03-07T04:59:48.975414",
   "environment_variables": {},
   "exception": null,
   "input_path": "/mnt/wd500GB/CSC500/csc500-main/csc500-notebooks/templates/tl_ptn_template.ipynb",
   "output_path": "trial.ipynb",
   "parameters": {
    "parameters": {
     "BEST_MODEL_PATH": "./best_model.pth",
     "NUM_LOGS_PER_EPOCH": 10,
     "criteria_for_best": "target_loss",
     "dataset_seed": 1337,
     "datasets": [
      {
       "domain_prefix": "ORACLE.run1_",
       "domains": [
        32,
        38,
        8,
        44,
        14,
        50,
        20,
        26
       ],
       "episode_transforms": [],
       "labels": [
        "3123D52",
        "3123D65",
        "3123D79",
        "3123D80",
        "3123D54",
        "3123D70",
        "3123D7B",
        "3123D89",
        "3123D58",
        "3123D76",
        "3123D7D",
        "3123EFE",
        "3123D64",
        "3123D78",
        "3123D7E",
        "3124E4A"
       ],
       "num_examples_per_domain_per_label": 2000,
       "pickle_path": "/mnt/wd500GB/CSC500/csc500-main/datasets/oracle.Run1_framed_2000Examples_stratified_ds.2022A.pkl",
       "source_or_target_dataset": "target",
       "x_transforms": [
        "unit_power"
       ]
      },
      {
       "domain_prefix": "ORACLE.run2_",
       "domains": [
        32,
        38,
        8,
        44,
        14,
        50,
        20,
        26
       ],
       "episode_transforms": [],
       "labels": [
        "3123D52",
        "3123D65",
        "3123D79",
        "3123D80",
        "3123D54",
        "3123D70",
        "3123D7B",
        "3123D89",
        "3123D58",
        "3123D76",
        "3123D7D",
        "3123EFE",
        "3123D64",
        "3123D78",
        "3123D7E",
        "3124E4A"
       ],
       "num_examples_per_domain_per_label": 2000,
       "pickle_path": "/mnt/wd500GB/CSC500/csc500-main/datasets/oracle.Run2_framed_2000Examples_stratified_ds.2022A.pkl",
       "source_or_target_dataset": "source",
       "x_transforms": [
        "unit_power"
       ]
      }
     ],
     "device": "cuda",
     "experiment_name": "tl_1_oracle.run1-oracle.run2",
     "lr": 0.001,
     "n_epoch": 50,
     "n_query": 2,
     "n_shot": 3,
     "n_way": 16,
     "patience": 3,
     "seed": 1337,
     "test_k_factor": 2,
     "torch_default_dtype": "torch.float32",
     "train_k_factor": 3,
     "val_k_factor": 2,
     "x_net": [
      {
       "class": "nnReshape",
       "kargs": {
        "shape": [
         -1,
         1,
         2,
         256
        ]
       }
      },
      {
       "class": "Conv2d",
       "kargs": {
        "bias": false,
        "in_channels": 1,
        "kernel_size": [
         1,
         7
        ],
        "out_channels": 256,
        "padding": [
         0,
         3
        ]
       }
      },
      {
       "class": "ReLU",
       "kargs": {
        "inplace": true
       }
      },
      {
       "class": "BatchNorm2d",
       "kargs": {
        "num_features": 256
       }
      },
      {
       "class": "Conv2d",
       "kargs": {
        "bias": true,
        "in_channels": 256,
        "kernel_size": [
         2,
         7
        ],
        "out_channels": 80,
        "padding": [
         0,
         3
        ]
       }
      },
      {
       "class": "ReLU",
       "kargs": {
        "inplace": true
       }
      },
      {
       "class": "BatchNorm2d",
       "kargs": {
        "num_features": 80
       }
      },
      {
       "class": "Flatten",
       "kargs": {}
      },
      {
       "class": "Linear",
       "kargs": {
        "in_features": 20480,
        "out_features": 256
       }
      },
      {
       "class": "ReLU",
       "kargs": {
        "inplace": true
       }
      },
      {
       "class": "BatchNorm1d",
       "kargs": {
        "num_features": 256
       }
      },
      {
       "class": "Linear",
       "kargs": {
        "in_features": 256,
        "out_features": 256
       }
      }
     ]
    }
   },
   "start_time": "2022-03-07T03:58:17.629158",
   "version": "2.3.4"
  }
 },
 "nbformat": 4,
 "nbformat_minor": 5
}