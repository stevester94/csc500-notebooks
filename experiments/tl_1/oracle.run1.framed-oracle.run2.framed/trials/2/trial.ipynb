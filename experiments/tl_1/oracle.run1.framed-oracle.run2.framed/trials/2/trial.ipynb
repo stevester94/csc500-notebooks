{
 "cells": [
  {
   "cell_type": "markdown",
   "id": "9fea5f46",
   "metadata": {
    "papermill": {
     "duration": 0.017726,
     "end_time": "2022-03-07T02:57:20.699968",
     "exception": false,
     "start_time": "2022-03-07T02:57:20.682242",
     "status": "completed"
    },
    "tags": []
   },
   "source": [
    "# Transfer Learning Template"
   ]
  },
  {
   "cell_type": "code",
   "execution_count": 1,
   "id": "0902182a",
   "metadata": {
    "execution": {
     "iopub.execute_input": "2022-03-07T02:57:20.738377Z",
     "iopub.status.busy": "2022-03-07T02:57:20.737999Z",
     "iopub.status.idle": "2022-03-07T02:57:21.493766Z",
     "shell.execute_reply": "2022-03-07T02:57:21.494163Z"
    },
    "papermill": {
     "duration": 0.782093,
     "end_time": "2022-03-07T02:57:21.494351",
     "exception": false,
     "start_time": "2022-03-07T02:57:20.712258",
     "status": "completed"
    },
    "tags": []
   },
   "outputs": [],
   "source": [
    "%load_ext autoreload\n",
    "%autoreload 2\n",
    "%matplotlib inline\n",
    "\n",
    "    \n",
    "import os, json, sys, time, random\n",
    "import numpy as np\n",
    "import torch\n",
    "from torch.optim import Adam\n",
    "from  easydict import EasyDict\n",
    "import matplotlib.pyplot as plt\n",
    "\n",
    "from steves_models.steves_ptn import Steves_Prototypical_Network\n",
    "\n",
    "from steves_utils.lazy_iterable_wrapper import Lazy_Iterable_Wrapper\n",
    "from steves_utils.iterable_aggregator import Iterable_Aggregator\n",
    "from steves_utils.ptn_train_eval_test_jig import  PTN_Train_Eval_Test_Jig\n",
    "from steves_utils.torch_sequential_builder import build_sequential\n",
    "from steves_utils.torch_utils import get_dataset_metrics, ptn_confusion_by_domain_over_dataloader\n",
    "from steves_utils.utils_v2 import (per_domain_accuracy_from_confusion, get_datasets_base_path)\n",
    "from steves_utils.PTN.utils import independent_accuracy_assesment\n",
    "\n",
    "from torch.utils.data import DataLoader\n",
    "\n",
    "from steves_utils.stratified_dataset.episodic_accessor import Episodic_Accessor_Factory\n",
    "\n",
    "from steves_utils.ptn_do_report import (\n",
    "    get_loss_curve,\n",
    "    get_results_table,\n",
    "    get_parameters_table,\n",
    "    get_domain_accuracies,\n",
    ")\n",
    "\n",
    "from steves_utils.transforms import get_chained_transform"
   ]
  },
  {
   "cell_type": "markdown",
   "id": "41c840b4",
   "metadata": {
    "papermill": {
     "duration": 0.013006,
     "end_time": "2022-03-07T02:57:21.524760",
     "exception": false,
     "start_time": "2022-03-07T02:57:21.511754",
     "status": "completed"
    },
    "tags": []
   },
   "source": [
    "# Allowed Parameters\n",
    "These are allowed parameters, not defaults\n",
    "Each of these values need to be present in the injected parameters (the notebook will raise an exception if they are not present)\n",
    "\n",
    "Papermill uses the cell tag \"parameters\" to inject the real parameters below this cell.\n",
    "Enable tags to see what I mean"
   ]
  },
  {
   "cell_type": "code",
   "execution_count": 2,
   "id": "fd44eb83",
   "metadata": {
    "execution": {
     "iopub.execute_input": "2022-03-07T02:57:21.554166Z",
     "iopub.status.busy": "2022-03-07T02:57:21.553906Z",
     "iopub.status.idle": "2022-03-07T02:57:21.567398Z",
     "shell.execute_reply": "2022-03-07T02:57:21.567004Z"
    },
    "papermill": {
     "duration": 0.029739,
     "end_time": "2022-03-07T02:57:21.567491",
     "exception": false,
     "start_time": "2022-03-07T02:57:21.537752",
     "status": "completed"
    },
    "tags": []
   },
   "outputs": [],
   "source": [
    "required_parameters = {\n",
    "    \"experiment_name\",\n",
    "    \"lr\",\n",
    "    \"device\",\n",
    "    \"seed\",\n",
    "    \"dataset_seed\",\n",
    "    \"n_shot\",\n",
    "    \"n_query\",\n",
    "    \"n_way\",\n",
    "    \"train_k_factor\",\n",
    "    \"val_k_factor\",\n",
    "    \"test_k_factor\",\n",
    "    \"n_epoch\",\n",
    "    \"patience\",\n",
    "    \"criteria_for_best\",\n",
    "    \"x_net\",\n",
    "    \"datasets\",\n",
    "    \"torch_default_dtype\",\n",
    "    \"NUM_LOGS_PER_EPOCH\",\n",
    "    \"BEST_MODEL_PATH\",\n",
    "}"
   ]
  },
  {
   "cell_type": "code",
   "execution_count": 3,
   "id": "fa3f0049",
   "metadata": {
    "execution": {
     "iopub.execute_input": "2022-03-07T02:57:21.602129Z",
     "iopub.status.busy": "2022-03-07T02:57:21.601848Z",
     "iopub.status.idle": "2022-03-07T02:57:21.614222Z",
     "shell.execute_reply": "2022-03-07T02:57:21.613769Z"
    },
    "papermill": {
     "duration": 0.03194,
     "end_time": "2022-03-07T02:57:21.614310",
     "exception": false,
     "start_time": "2022-03-07T02:57:21.582370",
     "status": "completed"
    },
    "tags": [
     "parameters"
    ]
   },
   "outputs": [],
   "source": [
    "from steves_utils.CORES.utils import (\n",
    "    ALL_NODES,\n",
    "    ALL_NODES_MINIMUM_1000_EXAMPLES,\n",
    "    ALL_DAYS\n",
    ")\n",
    "\n",
    "from steves_utils.ORACLE.utils_v2 import (\n",
    "    ALL_DISTANCES_FEET_NARROWED,\n",
    "    ALL_RUNS,\n",
    "    ALL_SERIAL_NUMBERS,\n",
    ")\n",
    "\n",
    "standalone_parameters = {}\n",
    "standalone_parameters[\"experiment_name\"] = \"STANDALONE PTN\"\n",
    "standalone_parameters[\"lr\"] = 0.001\n",
    "standalone_parameters[\"device\"] = \"cuda\"\n",
    "\n",
    "standalone_parameters[\"seed\"] = 1337\n",
    "standalone_parameters[\"dataset_seed\"] = 1337\n",
    "\n",
    "standalone_parameters[\"n_way\"] = 8\n",
    "standalone_parameters[\"n_shot\"] = 3\n",
    "standalone_parameters[\"n_query\"]  = 2\n",
    "standalone_parameters[\"train_k_factor\"] = 1\n",
    "standalone_parameters[\"val_k_factor\"] = 2\n",
    "standalone_parameters[\"test_k_factor\"] = 2\n",
    "\n",
    "\n",
    "standalone_parameters[\"n_epoch\"] = 50\n",
    "\n",
    "standalone_parameters[\"patience\"] = 10\n",
    "standalone_parameters[\"criteria_for_best\"] = \"source_loss\"\n",
    "\n",
    "standalone_parameters[\"datasets\"] = [\n",
    "    {\n",
    "        \"labels\": ALL_SERIAL_NUMBERS,\n",
    "        \"domains\": ALL_DISTANCES_FEET_NARROWED,\n",
    "        \"num_examples_per_domain_per_label\": 100,\n",
    "        \"pickle_path\": os.path.join(get_datasets_base_path(), \"oracle.Run1_framed_2000Examples_stratified_ds.2022A.pkl\"),\n",
    "        \"source_or_target_dataset\": \"source\",\n",
    "        \"x_transforms\": [\"unit_mag\", \"minus_two\"],\n",
    "        \"episode_transforms\": [],\n",
    "        \"domain_prefix\": \"ORACLE_\"\n",
    "    },\n",
    "    {\n",
    "        \"labels\": ALL_NODES,\n",
    "        \"domains\": ALL_DAYS,\n",
    "        \"num_examples_per_domain_per_label\": 100,\n",
    "        \"pickle_path\": os.path.join(get_datasets_base_path(), \"cores.stratified_ds.2022A.pkl\"),\n",
    "        \"source_or_target_dataset\": \"target\",\n",
    "        \"x_transforms\": [\"unit_power\", \"times_zero\"],\n",
    "        \"episode_transforms\": [],\n",
    "        \"domain_prefix\": \"CORES_\"\n",
    "    }   \n",
    "]\n",
    "\n",
    "standalone_parameters[\"torch_default_dtype\"] = \"torch.float32\" \n",
    "\n",
    "\n",
    "\n",
    "standalone_parameters[\"x_net\"] =     [\n",
    "    {\"class\": \"nnReshape\", \"kargs\": {\"shape\":[-1, 1, 2, 256]}},\n",
    "    {\"class\": \"Conv2d\", \"kargs\": { \"in_channels\":1, \"out_channels\":256, \"kernel_size\":(1,7), \"bias\":False, \"padding\":(0,3), },},\n",
    "    {\"class\": \"ReLU\", \"kargs\": {\"inplace\": True}},\n",
    "    {\"class\": \"BatchNorm2d\", \"kargs\": {\"num_features\":256}},\n",
    "\n",
    "    {\"class\": \"Conv2d\", \"kargs\": { \"in_channels\":256, \"out_channels\":80, \"kernel_size\":(2,7), \"bias\":True, \"padding\":(0,3), },},\n",
    "    {\"class\": \"ReLU\", \"kargs\": {\"inplace\": True}},\n",
    "    {\"class\": \"BatchNorm2d\", \"kargs\": {\"num_features\":80}},\n",
    "    {\"class\": \"Flatten\", \"kargs\": {}},\n",
    "\n",
    "    {\"class\": \"Linear\", \"kargs\": {\"in_features\": 80*256, \"out_features\": 256}}, # 80 units per IQ pair\n",
    "    {\"class\": \"ReLU\", \"kargs\": {\"inplace\": True}},\n",
    "    {\"class\": \"BatchNorm1d\", \"kargs\": {\"num_features\":256}},\n",
    "\n",
    "    {\"class\": \"Linear\", \"kargs\": {\"in_features\": 256, \"out_features\": 256}},\n",
    "]\n",
    "\n",
    "# Parameters relevant to results\n",
    "# These parameters will basically never need to change\n",
    "standalone_parameters[\"NUM_LOGS_PER_EPOCH\"] = 10\n",
    "standalone_parameters[\"BEST_MODEL_PATH\"] = \"./best_model.pth\"\n",
    "\n",
    "\n",
    "\n",
    "\n"
   ]
  },
  {
   "cell_type": "code",
   "execution_count": 4,
   "id": "59b48bbc",
   "metadata": {
    "execution": {
     "iopub.execute_input": "2022-03-07T02:57:21.653880Z",
     "iopub.status.busy": "2022-03-07T02:57:21.653596Z",
     "iopub.status.idle": "2022-03-07T02:57:21.664915Z",
     "shell.execute_reply": "2022-03-07T02:57:21.664463Z"
    },
    "papermill": {
     "duration": 0.032948,
     "end_time": "2022-03-07T02:57:21.665005",
     "exception": false,
     "start_time": "2022-03-07T02:57:21.632057",
     "status": "completed"
    },
    "tags": [
     "injected-parameters"
    ]
   },
   "outputs": [],
   "source": [
    "# Parameters\n",
    "parameters = {\n",
    "    \"experiment_name\": \"tl_1_oracle.run1-oracle.run2\",\n",
    "    \"device\": \"cuda\",\n",
    "    \"lr\": 0.001,\n",
    "    \"seed\": 1337,\n",
    "    \"dataset_seed\": 1337,\n",
    "    \"n_shot\": 3,\n",
    "    \"n_query\": 2,\n",
    "    \"train_k_factor\": 3,\n",
    "    \"val_k_factor\": 2,\n",
    "    \"test_k_factor\": 2,\n",
    "    \"torch_default_dtype\": \"torch.float32\",\n",
    "    \"n_epoch\": 50,\n",
    "    \"patience\": 3,\n",
    "    \"criteria_for_best\": \"target_loss\",\n",
    "    \"x_net\": [\n",
    "        {\"class\": \"nnReshape\", \"kargs\": {\"shape\": [-1, 1, 2, 256]}},\n",
    "        {\n",
    "            \"class\": \"Conv2d\",\n",
    "            \"kargs\": {\n",
    "                \"in_channels\": 1,\n",
    "                \"out_channels\": 256,\n",
    "                \"kernel_size\": [1, 7],\n",
    "                \"bias\": False,\n",
    "                \"padding\": [0, 3],\n",
    "            },\n",
    "        },\n",
    "        {\"class\": \"ReLU\", \"kargs\": {\"inplace\": True}},\n",
    "        {\"class\": \"BatchNorm2d\", \"kargs\": {\"num_features\": 256}},\n",
    "        {\n",
    "            \"class\": \"Conv2d\",\n",
    "            \"kargs\": {\n",
    "                \"in_channels\": 256,\n",
    "                \"out_channels\": 80,\n",
    "                \"kernel_size\": [2, 7],\n",
    "                \"bias\": True,\n",
    "                \"padding\": [0, 3],\n",
    "            },\n",
    "        },\n",
    "        {\"class\": \"ReLU\", \"kargs\": {\"inplace\": True}},\n",
    "        {\"class\": \"BatchNorm2d\", \"kargs\": {\"num_features\": 80}},\n",
    "        {\"class\": \"Flatten\", \"kargs\": {}},\n",
    "        {\"class\": \"Linear\", \"kargs\": {\"in_features\": 20480, \"out_features\": 256}},\n",
    "        {\"class\": \"ReLU\", \"kargs\": {\"inplace\": True}},\n",
    "        {\"class\": \"BatchNorm1d\", \"kargs\": {\"num_features\": 256}},\n",
    "        {\"class\": \"Linear\", \"kargs\": {\"in_features\": 256, \"out_features\": 256}},\n",
    "    ],\n",
    "    \"NUM_LOGS_PER_EPOCH\": 10,\n",
    "    \"BEST_MODEL_PATH\": \"./best_model.pth\",\n",
    "    \"n_way\": 16,\n",
    "    \"datasets\": [\n",
    "        {\n",
    "            \"labels\": [\n",
    "                \"3123D52\",\n",
    "                \"3123D65\",\n",
    "                \"3123D79\",\n",
    "                \"3123D80\",\n",
    "                \"3123D54\",\n",
    "                \"3123D70\",\n",
    "                \"3123D7B\",\n",
    "                \"3123D89\",\n",
    "                \"3123D58\",\n",
    "                \"3123D76\",\n",
    "                \"3123D7D\",\n",
    "                \"3123EFE\",\n",
    "                \"3123D64\",\n",
    "                \"3123D78\",\n",
    "                \"3123D7E\",\n",
    "                \"3124E4A\",\n",
    "            ],\n",
    "            \"domains\": [32, 38, 8, 44, 14, 50, 20, 26],\n",
    "            \"num_examples_per_domain_per_label\": 2000,\n",
    "            \"pickle_path\": \"/mnt/wd500GB/CSC500/csc500-main/datasets/oracle.Run1_framed_2000Examples_stratified_ds.2022A.pkl\",\n",
    "            \"source_or_target_dataset\": \"source\",\n",
    "            \"x_transforms\": [],\n",
    "            \"episode_transforms\": [],\n",
    "            \"domain_prefix\": \"ORACLE.run1_\",\n",
    "        },\n",
    "        {\n",
    "            \"labels\": [\n",
    "                \"3123D52\",\n",
    "                \"3123D65\",\n",
    "                \"3123D79\",\n",
    "                \"3123D80\",\n",
    "                \"3123D54\",\n",
    "                \"3123D70\",\n",
    "                \"3123D7B\",\n",
    "                \"3123D89\",\n",
    "                \"3123D58\",\n",
    "                \"3123D76\",\n",
    "                \"3123D7D\",\n",
    "                \"3123EFE\",\n",
    "                \"3123D64\",\n",
    "                \"3123D78\",\n",
    "                \"3123D7E\",\n",
    "                \"3124E4A\",\n",
    "            ],\n",
    "            \"domains\": [32, 38, 8, 44, 14, 50, 20, 26],\n",
    "            \"num_examples_per_domain_per_label\": 2000,\n",
    "            \"pickle_path\": \"/mnt/wd500GB/CSC500/csc500-main/datasets/oracle.Run2_framed_2000Examples_stratified_ds.2022A.pkl\",\n",
    "            \"source_or_target_dataset\": \"target\",\n",
    "            \"x_transforms\": [],\n",
    "            \"episode_transforms\": [],\n",
    "            \"domain_prefix\": \"ORACLE.run2_\",\n",
    "        },\n",
    "    ],\n",
    "}\n"
   ]
  },
  {
   "cell_type": "code",
   "execution_count": 5,
   "id": "8fa1cc33",
   "metadata": {
    "execution": {
     "iopub.execute_input": "2022-03-07T02:57:21.698207Z",
     "iopub.status.busy": "2022-03-07T02:57:21.697702Z",
     "iopub.status.idle": "2022-03-07T02:57:21.709483Z",
     "shell.execute_reply": "2022-03-07T02:57:21.709095Z"
    },
    "papermill": {
     "duration": 0.028874,
     "end_time": "2022-03-07T02:57:21.709576",
     "exception": false,
     "start_time": "2022-03-07T02:57:21.680702",
     "status": "completed"
    },
    "tags": []
   },
   "outputs": [],
   "source": [
    "# Set this to True if you want to run this template directly\n",
    "STANDALONE = False\n",
    "if STANDALONE:\n",
    "    print(\"parameters not injected, running with standalone_parameters\")\n",
    "    parameters = standalone_parameters\n",
    "\n",
    "if not 'parameters' in locals() and not 'parameters' in globals():\n",
    "    raise Exception(\"Parameter injection failed\")\n",
    "\n",
    "#Use an easy dict for all the parameters\n",
    "p = EasyDict(parameters)\n",
    "\n",
    "supplied_keys = set(p.keys())\n",
    "\n",
    "if  supplied_keys != required_parameters:\n",
    "    print(\"Parameters are incorrect\")\n",
    "    if len(supplied_keys - required_parameters)>0: print(\"Shouldn't have:\", str(supplied_keys - required_parameters))\n",
    "    if len(required_parameters - supplied_keys)>0: print(\"Need to have:\", str(required_parameters - supplied_keys))\n",
    "    raise RuntimeError(\"Parameters are incorrect\")\n",
    "\n"
   ]
  },
  {
   "cell_type": "code",
   "execution_count": 6,
   "id": "3a028d58",
   "metadata": {
    "execution": {
     "iopub.execute_input": "2022-03-07T02:57:21.741865Z",
     "iopub.status.busy": "2022-03-07T02:57:21.741376Z",
     "iopub.status.idle": "2022-03-07T02:57:21.749977Z",
     "shell.execute_reply": "2022-03-07T02:57:21.749560Z"
    },
    "papermill": {
     "duration": 0.023251,
     "end_time": "2022-03-07T02:57:21.750078",
     "exception": false,
     "start_time": "2022-03-07T02:57:21.726827",
     "status": "completed"
    },
    "tags": []
   },
   "outputs": [],
   "source": [
    "###################################\n",
    "# Set the RNGs and make it all deterministic\n",
    "###################################\n",
    "np.random.seed(p.seed)\n",
    "random.seed(p.seed)\n",
    "torch.manual_seed(p.seed)\n",
    "\n",
    "torch.use_deterministic_algorithms(True) "
   ]
  },
  {
   "cell_type": "code",
   "execution_count": 7,
   "id": "b691acf6",
   "metadata": {
    "execution": {
     "iopub.execute_input": "2022-03-07T02:57:21.782868Z",
     "iopub.status.busy": "2022-03-07T02:57:21.782564Z",
     "iopub.status.idle": "2022-03-07T02:57:21.795079Z",
     "shell.execute_reply": "2022-03-07T02:57:21.795447Z"
    },
    "papermill": {
     "duration": 0.027765,
     "end_time": "2022-03-07T02:57:21.795550",
     "exception": false,
     "start_time": "2022-03-07T02:57:21.767785",
     "status": "completed"
    },
    "tags": []
   },
   "outputs": [],
   "source": [
    "###########################################\n",
    "# The stratified datasets honor this\n",
    "###########################################\n",
    "torch.set_default_dtype(eval(p.torch_default_dtype))"
   ]
  },
  {
   "cell_type": "code",
   "execution_count": 8,
   "id": "b5fba671",
   "metadata": {
    "execution": {
     "iopub.execute_input": "2022-03-07T02:57:21.826387Z",
     "iopub.status.busy": "2022-03-07T02:57:21.826133Z",
     "iopub.status.idle": "2022-03-07T02:57:21.860463Z",
     "shell.execute_reply": "2022-03-07T02:57:21.860013Z"
    },
    "papermill": {
     "duration": 0.048566,
     "end_time": "2022-03-07T02:57:21.860550",
     "exception": false,
     "start_time": "2022-03-07T02:57:21.811984",
     "status": "completed"
    },
    "tags": []
   },
   "outputs": [],
   "source": [
    "###################################\n",
    "# Build the network(s)\n",
    "# Note: It's critical to do this AFTER setting the RNG\n",
    "###################################\n",
    "x_net = build_sequential(p.x_net)"
   ]
  },
  {
   "cell_type": "code",
   "execution_count": 9,
   "id": "5d7e61cc",
   "metadata": {
    "execution": {
     "iopub.execute_input": "2022-03-07T02:57:21.894154Z",
     "iopub.status.busy": "2022-03-07T02:57:21.893903Z",
     "iopub.status.idle": "2022-03-07T02:57:21.902617Z",
     "shell.execute_reply": "2022-03-07T02:57:21.902398Z"
    },
    "papermill": {
     "duration": 0.02427,
     "end_time": "2022-03-07T02:57:21.902667",
     "exception": false,
     "start_time": "2022-03-07T02:57:21.878397",
     "status": "completed"
    },
    "tags": []
   },
   "outputs": [],
   "source": [
    "start_time_secs = time.time()"
   ]
  },
  {
   "cell_type": "code",
   "execution_count": 10,
   "id": "c6b67dfd",
   "metadata": {
    "execution": {
     "iopub.execute_input": "2022-03-07T02:57:21.935964Z",
     "iopub.status.busy": "2022-03-07T02:57:21.935717Z",
     "iopub.status.idle": "2022-03-07T02:57:21.943866Z",
     "shell.execute_reply": "2022-03-07T02:57:21.943620Z"
    },
    "papermill": {
     "duration": 0.022905,
     "end_time": "2022-03-07T02:57:21.943914",
     "exception": false,
     "start_time": "2022-03-07T02:57:21.921009",
     "status": "completed"
    },
    "tags": []
   },
   "outputs": [],
   "source": [
    "p.domains_source = []\n",
    "p.domains_target = []\n",
    "\n",
    "\n",
    "train_original_source = []\n",
    "val_original_source   = []\n",
    "test_original_source  = []\n",
    "\n",
    "train_original_target = []\n",
    "val_original_target   = []\n",
    "test_original_target  = []"
   ]
  },
  {
   "cell_type": "code",
   "execution_count": 11,
   "id": "e3d9c3d3",
   "metadata": {
    "execution": {
     "iopub.execute_input": "2022-03-07T02:57:21.973827Z",
     "iopub.status.busy": "2022-03-07T02:57:21.973577Z",
     "iopub.status.idle": "2022-03-07T02:57:21.982162Z",
     "shell.execute_reply": "2022-03-07T02:57:21.981946Z"
    },
    "papermill": {
     "duration": 0.022934,
     "end_time": "2022-03-07T02:57:21.982218",
     "exception": false,
     "start_time": "2022-03-07T02:57:21.959284",
     "status": "completed"
    },
    "tags": []
   },
   "outputs": [],
   "source": [
    "# global_x_transform_func = lambda x: normalize(x.to(torch.get_default_dtype()), \"unit_power\") # unit_power, unit_mag\n",
    "# global_x_transform_func = lambda x: normalize(x, \"unit_power\") # unit_power, unit_mag"
   ]
  },
  {
   "cell_type": "code",
   "execution_count": 12,
   "id": "acb78fd2",
   "metadata": {
    "execution": {
     "iopub.execute_input": "2022-03-07T02:57:22.015542Z",
     "iopub.status.busy": "2022-03-07T02:57:22.015275Z",
     "iopub.status.idle": "2022-03-07T02:57:22.024000Z",
     "shell.execute_reply": "2022-03-07T02:57:22.023746Z"
    },
    "papermill": {
     "duration": 0.026189,
     "end_time": "2022-03-07T02:57:22.024051",
     "exception": false,
     "start_time": "2022-03-07T02:57:21.997862",
     "status": "completed"
    },
    "tags": []
   },
   "outputs": [],
   "source": [
    "def add_dataset(\n",
    "    labels,\n",
    "    domains,\n",
    "    pickle_path,\n",
    "    x_transforms,\n",
    "    episode_transforms,\n",
    "    domain_prefix,\n",
    "    num_examples_per_domain_per_label,\n",
    "    source_or_target_dataset:str,\n",
    "    iterator_seed=p.seed,\n",
    "    dataset_seed=p.dataset_seed,\n",
    "    n_shot=p.n_shot,\n",
    "    n_way=p.n_way,\n",
    "    n_query=p.n_query,\n",
    "    train_val_test_k_factors=(p.train_k_factor,p.val_k_factor,p.test_k_factor),\n",
    "):\n",
    "   \n",
    "    if x_transforms == []: x_transform = None\n",
    "    else: x_transform = get_chained_transform(x_transforms)\n",
    "    \n",
    "    if episode_transforms == []: episode_transform = None\n",
    "    else: raise Exception(\"episode_transforms not implemented\")\n",
    "    \n",
    "    episode_transform = lambda tup, _prefix=domain_prefix: (_prefix + str(tup[0]), tup[1])\n",
    "\n",
    "\n",
    "    eaf = Episodic_Accessor_Factory(\n",
    "        labels=labels,\n",
    "        domains=domains,\n",
    "        num_examples_per_domain_per_label=num_examples_per_domain_per_label,\n",
    "        iterator_seed=iterator_seed,\n",
    "        dataset_seed=dataset_seed,\n",
    "        n_shot=n_shot,\n",
    "        n_way=n_way,\n",
    "        n_query=n_query,\n",
    "        train_val_test_k_factors=train_val_test_k_factors,\n",
    "        pickle_path=pickle_path,\n",
    "        x_transform_func=x_transform,\n",
    "    )\n",
    "\n",
    "    train, val, test = eaf.get_train(), eaf.get_val(), eaf.get_test()\n",
    "    train = Lazy_Iterable_Wrapper(train, episode_transform)\n",
    "    val = Lazy_Iterable_Wrapper(val, episode_transform)\n",
    "    test = Lazy_Iterable_Wrapper(test, episode_transform)\n",
    "\n",
    "    if source_or_target_dataset==\"source\":\n",
    "        train_original_source.append(train)\n",
    "        val_original_source.append(val)\n",
    "        test_original_source.append(test)\n",
    "\n",
    "        p.domains_source.extend(\n",
    "            [domain_prefix + str(u) for u in domains]\n",
    "        )\n",
    "    elif source_or_target_dataset==\"target\":\n",
    "        train_original_target.append(train)\n",
    "        val_original_target.append(val)\n",
    "        test_original_target.append(test)\n",
    "        p.domains_target.extend(\n",
    "            [domain_prefix + str(u) for u in domains]\n",
    "        )\n",
    "    else:\n",
    "        raise Exception(f\"invalid source_or_target_dataset: {source_or_target_dataset}\")\n",
    "    "
   ]
  },
  {
   "cell_type": "code",
   "execution_count": 13,
   "id": "fe266617",
   "metadata": {
    "execution": {
     "iopub.execute_input": "2022-03-07T02:57:22.054990Z",
     "iopub.status.busy": "2022-03-07T02:57:22.054688Z",
     "iopub.status.idle": "2022-03-07T02:57:24.252922Z",
     "shell.execute_reply": "2022-03-07T02:57:24.252425Z"
    },
    "papermill": {
     "duration": 2.213189,
     "end_time": "2022-03-07T02:57:24.253025",
     "exception": false,
     "start_time": "2022-03-07T02:57:22.039836",
     "status": "completed"
    },
    "tags": []
   },
   "outputs": [],
   "source": [
    "for ds in p.datasets:\n",
    "    add_dataset(**ds)"
   ]
  },
  {
   "cell_type": "code",
   "execution_count": 14,
   "id": "b90d65ac",
   "metadata": {
    "execution": {
     "iopub.execute_input": "2022-03-07T02:57:24.286997Z",
     "iopub.status.busy": "2022-03-07T02:57:24.286743Z",
     "iopub.status.idle": "2022-03-07T02:57:24.299917Z",
     "shell.execute_reply": "2022-03-07T02:57:24.299469Z"
    },
    "papermill": {
     "duration": 0.028707,
     "end_time": "2022-03-07T02:57:24.300006",
     "exception": false,
     "start_time": "2022-03-07T02:57:24.271299",
     "status": "completed"
    },
    "tags": []
   },
   "outputs": [],
   "source": [
    "# from steves_utils.CORES.utils import (\n",
    "#     ALL_NODES,\n",
    "#     ALL_NODES_MINIMUM_1000_EXAMPLES,\n",
    "#     ALL_DAYS\n",
    "# )\n",
    "\n",
    "# add_dataset(\n",
    "#     labels=ALL_NODES,\n",
    "#     domains = ALL_DAYS,\n",
    "#     num_examples_per_domain_per_label=100,\n",
    "#     pickle_path=os.path.join(get_datasets_base_path(), \"cores.stratified_ds.2022A.pkl\"),\n",
    "#     source_or_target_dataset=\"target\",\n",
    "#     x_transform_func=global_x_transform_func,\n",
    "#     domain_modifier=lambda u: f\"cores_{u}\"\n",
    "# )"
   ]
  },
  {
   "cell_type": "code",
   "execution_count": 15,
   "id": "76db484d",
   "metadata": {
    "execution": {
     "iopub.execute_input": "2022-03-07T02:57:24.333712Z",
     "iopub.status.busy": "2022-03-07T02:57:24.333463Z",
     "iopub.status.idle": "2022-03-07T02:57:24.346196Z",
     "shell.execute_reply": "2022-03-07T02:57:24.345946Z"
    },
    "papermill": {
     "duration": 0.027879,
     "end_time": "2022-03-07T02:57:24.346244",
     "exception": false,
     "start_time": "2022-03-07T02:57:24.318365",
     "status": "completed"
    },
    "tags": []
   },
   "outputs": [],
   "source": [
    "# from steves_utils.ORACLE.utils_v2 import (\n",
    "#     ALL_DISTANCES_FEET,\n",
    "#     ALL_RUNS,\n",
    "#     ALL_SERIAL_NUMBERS,\n",
    "# )\n",
    "\n",
    "\n",
    "# add_dataset(\n",
    "#     labels=ALL_SERIAL_NUMBERS,\n",
    "#     domains = list(set(ALL_DISTANCES_FEET) - {2,62}),\n",
    "#     num_examples_per_domain_per_label=100,\n",
    "#     pickle_path=os.path.join(get_datasets_base_path(), \"oracle.Run2_framed_2000Examples_stratified_ds.2022A.pkl\"),\n",
    "#     source_or_target_dataset=\"source\",\n",
    "#     x_transform_func=global_x_transform_func,\n",
    "#     domain_modifier=lambda u: f\"oracle1_{u}\"\n",
    "# )\n"
   ]
  },
  {
   "cell_type": "code",
   "execution_count": 16,
   "id": "97dea9d2",
   "metadata": {
    "execution": {
     "iopub.execute_input": "2022-03-07T02:57:24.378024Z",
     "iopub.status.busy": "2022-03-07T02:57:24.377771Z",
     "iopub.status.idle": "2022-03-07T02:57:24.386195Z",
     "shell.execute_reply": "2022-03-07T02:57:24.385980Z"
    },
    "papermill": {
     "duration": 0.023179,
     "end_time": "2022-03-07T02:57:24.386244",
     "exception": false,
     "start_time": "2022-03-07T02:57:24.363065",
     "status": "completed"
    },
    "tags": []
   },
   "outputs": [],
   "source": [
    "# from steves_utils.ORACLE.utils_v2 import (\n",
    "#     ALL_DISTANCES_FEET,\n",
    "#     ALL_RUNS,\n",
    "#     ALL_SERIAL_NUMBERS,\n",
    "# )\n",
    "\n",
    "\n",
    "# add_dataset(\n",
    "#     labels=ALL_SERIAL_NUMBERS,\n",
    "#     domains = list(set(ALL_DISTANCES_FEET) - {2,62,56}),\n",
    "#     num_examples_per_domain_per_label=100,\n",
    "#     pickle_path=os.path.join(get_datasets_base_path(), \"oracle.Run2_framed_2000Examples_stratified_ds.2022A.pkl\"),\n",
    "#     source_or_target_dataset=\"source\",\n",
    "#     x_transform_func=global_x_transform_func,\n",
    "#     domain_modifier=lambda u: f\"oracle2_{u}\"\n",
    "# )"
   ]
  },
  {
   "cell_type": "code",
   "execution_count": 17,
   "id": "6f289866",
   "metadata": {
    "execution": {
     "iopub.execute_input": "2022-03-07T02:57:24.417931Z",
     "iopub.status.busy": "2022-03-07T02:57:24.417678Z",
     "iopub.status.idle": "2022-03-07T02:57:24.430600Z",
     "shell.execute_reply": "2022-03-07T02:57:24.430298Z"
    },
    "papermill": {
     "duration": 0.028471,
     "end_time": "2022-03-07T02:57:24.430669",
     "exception": false,
     "start_time": "2022-03-07T02:57:24.402198",
     "status": "completed"
    },
    "tags": []
   },
   "outputs": [],
   "source": [
    "# add_dataset(\n",
    "#     labels=list(range(19)),\n",
    "#     domains = [0,1,2],\n",
    "#     num_examples_per_domain_per_label=100,\n",
    "#     pickle_path=os.path.join(get_datasets_base_path(), \"metehan.stratified_ds.2022A.pkl\"),\n",
    "#     source_or_target_dataset=\"target\",\n",
    "#     x_transform_func=global_x_transform_func,\n",
    "#     domain_modifier=lambda u: f\"met_{u}\"\n",
    "# )"
   ]
  },
  {
   "cell_type": "code",
   "execution_count": 18,
   "id": "86a863c3",
   "metadata": {
    "execution": {
     "iopub.execute_input": "2022-03-07T02:57:24.465322Z",
     "iopub.status.busy": "2022-03-07T02:57:24.465070Z",
     "iopub.status.idle": "2022-03-07T02:57:24.472839Z",
     "shell.execute_reply": "2022-03-07T02:57:24.473043Z"
    },
    "papermill": {
     "duration": 0.023087,
     "end_time": "2022-03-07T02:57:24.473099",
     "exception": false,
     "start_time": "2022-03-07T02:57:24.450012",
     "status": "completed"
    },
    "tags": []
   },
   "outputs": [],
   "source": [
    "# # from steves_utils.wisig.utils import (\n",
    "# #     ALL_NODES_MINIMUM_100_EXAMPLES,\n",
    "# #     ALL_NODES_MINIMUM_500_EXAMPLES,\n",
    "# #     ALL_NODES_MINIMUM_1000_EXAMPLES,\n",
    "# #     ALL_DAYS\n",
    "# # )\n",
    "\n",
    "# import steves_utils.wisig.utils as wisig\n",
    "\n",
    "\n",
    "# add_dataset(\n",
    "#     labels=wisig.ALL_NODES_MINIMUM_100_EXAMPLES,\n",
    "#     domains = wisig.ALL_DAYS,\n",
    "#     num_examples_per_domain_per_label=100,\n",
    "#     pickle_path=os.path.join(get_datasets_base_path(), \"wisig.node3-19.stratified_ds.2022A.pkl\"),\n",
    "#     source_or_target_dataset=\"target\",\n",
    "#     x_transform_func=global_x_transform_func,\n",
    "#     domain_modifier=lambda u: f\"wisig_{u}\"\n",
    "# )"
   ]
  },
  {
   "cell_type": "code",
   "execution_count": 19,
   "id": "fd5442bc",
   "metadata": {
    "execution": {
     "iopub.execute_input": "2022-03-07T02:57:24.507919Z",
     "iopub.status.busy": "2022-03-07T02:57:24.507634Z",
     "iopub.status.idle": "2022-03-07T02:57:24.520542Z",
     "shell.execute_reply": "2022-03-07T02:57:24.520155Z"
    },
    "papermill": {
     "duration": 0.031576,
     "end_time": "2022-03-07T02:57:24.520630",
     "exception": false,
     "start_time": "2022-03-07T02:57:24.489054",
     "status": "completed"
    },
    "tags": []
   },
   "outputs": [],
   "source": [
    "###################################\n",
    "# Build the dataset\n",
    "###################################\n",
    "train_original_source = Iterable_Aggregator(train_original_source, p.seed)\n",
    "val_original_source = Iterable_Aggregator(val_original_source, p.seed)\n",
    "test_original_source = Iterable_Aggregator(test_original_source, p.seed)\n",
    "\n",
    "\n",
    "train_original_target = Iterable_Aggregator(train_original_target, p.seed)\n",
    "val_original_target = Iterable_Aggregator(val_original_target, p.seed)\n",
    "test_original_target = Iterable_Aggregator(test_original_target, p.seed)\n",
    "\n",
    "# For CNN We only use X and Y. And we only train on the source.\n",
    "# Properly form the data using a transform lambda and Lazy_Iterable_Wrapper. Finally wrap them in a dataloader\n",
    "\n",
    "transform_lambda = lambda ex: ex[1] # Original is (<domain>, <episode>) so we strip down to episode only\n",
    "\n",
    "train_processed_source = Lazy_Iterable_Wrapper(train_original_source, transform_lambda)\n",
    "val_processed_source   = Lazy_Iterable_Wrapper(val_original_source, transform_lambda)\n",
    "test_processed_source  = Lazy_Iterable_Wrapper(test_original_source, transform_lambda)\n",
    "\n",
    "train_processed_target = Lazy_Iterable_Wrapper(train_original_target, transform_lambda)\n",
    "val_processed_target   = Lazy_Iterable_Wrapper(val_original_target, transform_lambda)\n",
    "test_processed_target  = Lazy_Iterable_Wrapper(test_original_target, transform_lambda)\n",
    "\n",
    "datasets = EasyDict({\n",
    "    \"source\": {\n",
    "        \"original\": {\"train\":train_original_source, \"val\":val_original_source, \"test\":test_original_source},\n",
    "        \"processed\": {\"train\":train_processed_source, \"val\":val_processed_source, \"test\":test_processed_source}\n",
    "    },\n",
    "    \"target\": {\n",
    "        \"original\": {\"train\":train_original_target, \"val\":val_original_target, \"test\":test_original_target},\n",
    "        \"processed\": {\"train\":train_processed_target, \"val\":val_processed_target, \"test\":test_processed_target}\n",
    "    },\n",
    "})"
   ]
  },
  {
   "cell_type": "code",
   "execution_count": 20,
   "id": "5b3c01fc",
   "metadata": {
    "execution": {
     "iopub.execute_input": "2022-03-07T02:57:24.555146Z",
     "iopub.status.busy": "2022-03-07T02:57:24.554895Z",
     "iopub.status.idle": "2022-03-07T02:57:31.026979Z",
     "shell.execute_reply": "2022-03-07T02:57:31.027227Z"
    },
    "papermill": {
     "duration": 6.488325,
     "end_time": "2022-03-07T02:57:31.027307",
     "exception": false,
     "start_time": "2022-03-07T02:57:24.538982",
     "status": "completed"
    },
    "tags": []
   },
   "outputs": [
    {
     "name": "stdout",
     "output_type": "stream",
     "text": [
      "{'ORACLE.run1_38', 'ORACLE.run1_32', 'ORACLE.run1_14', 'ORACLE.run1_50', 'ORACLE.run1_44', 'ORACLE.run1_20', 'ORACLE.run1_26', 'ORACLE.run1_8'}\n"
     ]
    },
    {
     "name": "stdout",
     "output_type": "stream",
     "text": [
      "{'ORACLE.run2_26', 'ORACLE.run2_50', 'ORACLE.run2_32', 'ORACLE.run2_20', 'ORACLE.run2_8', 'ORACLE.run2_14', 'ORACLE.run2_44', 'ORACLE.run2_38'}\n"
     ]
    },
    {
     "name": "stdout",
     "output_type": "stream",
     "text": [
      "tensor([[[-0.0003,  0.0038, -0.0004,  ..., -0.0031, -0.0009, -0.0018],\n",
      "         [-0.0021, -0.0010,  0.0035,  ...,  0.0008, -0.0047, -0.0016]],\n",
      "\n",
      "        [[-0.0015,  0.0022,  0.0018,  ..., -0.0041, -0.0038, -0.0004],\n",
      "         [-0.0037, -0.0010,  0.0036,  ...,  0.0013, -0.0005,  0.0040]],\n",
      "\n",
      "        [[ 0.0021, -0.0012, -0.0025,  ...,  0.0026,  0.0045,  0.0011],\n",
      "         [ 0.0027,  0.0022, -0.0029,  ..., -0.0025,  0.0015, -0.0038]],\n",
      "\n",
      "        ...,\n",
      "\n",
      "        [[ 0.0048, -0.0012, -0.0057,  ...,  0.0031,  0.0048, -0.0031],\n",
      "         [ 0.0027,  0.0034, -0.0018,  ..., -0.0047, -0.0030, -0.0054]],\n",
      "\n",
      "        [[ 0.0001, -0.0048,  0.0014,  ...,  0.0043,  0.0023,  0.0052],\n",
      "         [ 0.0038,  0.0020, -0.0055,  ..., -0.0006,  0.0061, -0.0011]],\n",
      "\n",
      "        [[ 0.0023,  0.0016, -0.0035,  ..., -0.0022,  0.0060,  0.0049],\n",
      "         [-0.0020,  0.0053, -0.0002,  ..., -0.0052, -0.0003, -0.0012]]])\n"
     ]
    }
   ],
   "source": [
    "from steves_utils.transforms import get_average_magnitude, get_average_power\n",
    "\n",
    "print(set([u for u,_ in val_original_source]))\n",
    "print(set([u for u,_ in val_original_target]))\n",
    "\n",
    "s_x, s_y, q_x, q_y, _ = next(iter(train_processed_source))\n",
    "print(s_x)\n",
    "\n",
    "# for ds in [\n",
    "#     train_processed_source,\n",
    "#     val_processed_source,\n",
    "#     test_processed_source,\n",
    "#     train_processed_target,\n",
    "#     val_processed_target,\n",
    "#     test_processed_target\n",
    "# ]:\n",
    "#     for s_x, s_y, q_x, q_y, _ in ds:\n",
    "#         for X in (s_x, q_x):\n",
    "#             for x in X:\n",
    "#                 assert np.isclose(get_average_magnitude(x.numpy()), 1.0)\n",
    "#                 assert np.isclose(get_average_power(x.numpy()), 1.0)\n",
    "                "
   ]
  },
  {
   "cell_type": "code",
   "execution_count": 21,
   "id": "bbdacba1",
   "metadata": {
    "execution": {
     "iopub.execute_input": "2022-03-07T02:57:31.061776Z",
     "iopub.status.busy": "2022-03-07T02:57:31.061373Z",
     "iopub.status.idle": "2022-03-07T02:57:31.116541Z",
     "shell.execute_reply": "2022-03-07T02:57:31.116285Z"
    },
    "papermill": {
     "duration": 0.072089,
     "end_time": "2022-03-07T02:57:31.116606",
     "exception": false,
     "start_time": "2022-03-07T02:57:31.044517",
     "status": "completed"
    },
    "tags": []
   },
   "outputs": [
    {
     "name": "stdout",
     "output_type": "stream",
     "text": [
      "(2, 256)\n"
     ]
    }
   ],
   "source": [
    "###################################\n",
    "# Build the model\n",
    "###################################\n",
    "model = Steves_Prototypical_Network(x_net, device=p.device, x_shape=(2,256))\n",
    "optimizer = Adam(params=model.parameters(), lr=p.lr)"
   ]
  },
  {
   "cell_type": "code",
   "execution_count": 22,
   "id": "22b39ac5",
   "metadata": {
    "execution": {
     "iopub.execute_input": "2022-03-07T02:57:31.151360Z",
     "iopub.status.busy": "2022-03-07T02:57:31.150961Z",
     "iopub.status.idle": "2022-03-07T03:56:36.178339Z",
     "shell.execute_reply": "2022-03-07T03:56:36.178111Z"
    },
    "papermill": {
     "duration": 3545.044319,
     "end_time": "2022-03-07T03:56:36.178397",
     "exception": false,
     "start_time": "2022-03-07T02:57:31.134078",
     "status": "completed"
    },
    "tags": []
   },
   "outputs": [
    {
     "name": "stdout",
     "output_type": "stream",
     "text": [
      "epoch: 1, [batch: 1 / 6720], examples_per_second: 47.9865, train_label_loss: 2.8346, \n"
     ]
    },
    {
     "name": "stdout",
     "output_type": "stream",
     "text": [
      "epoch: 1, [batch: 672 / 6720], examples_per_second: 3162.7535, train_label_loss: 0.5444, \n"
     ]
    },
    {
     "name": "stdout",
     "output_type": "stream",
     "text": [
      "epoch: 1, [batch: 1344 / 6720], examples_per_second: 3147.4528, train_label_loss: 0.4341, \n"
     ]
    },
    {
     "name": "stdout",
     "output_type": "stream",
     "text": [
      "epoch: 1, [batch: 2016 / 6720], examples_per_second: 3153.6901, train_label_loss: 0.1687, \n"
     ]
    },
    {
     "name": "stdout",
     "output_type": "stream",
     "text": [
      "epoch: 1, [batch: 2688 / 6720], examples_per_second: 3130.6964, train_label_loss: 0.1348, \n"
     ]
    },
    {
     "name": "stdout",
     "output_type": "stream",
     "text": [
      "epoch: 1, [batch: 3360 / 6720], examples_per_second: 3133.0772, train_label_loss: 0.1124, \n"
     ]
    },
    {
     "name": "stdout",
     "output_type": "stream",
     "text": [
      "epoch: 1, [batch: 4032 / 6720], examples_per_second: 3134.6495, train_label_loss: 0.2020, \n"
     ]
    },
    {
     "name": "stdout",
     "output_type": "stream",
     "text": [
      "epoch: 1, [batch: 4704 / 6720], examples_per_second: 3127.8779, train_label_loss: 0.4013, \n"
     ]
    },
    {
     "name": "stdout",
     "output_type": "stream",
     "text": [
      "epoch: 1, [batch: 5376 / 6720], examples_per_second: 3134.4985, train_label_loss: 0.2122, \n"
     ]
    },
    {
     "name": "stdout",
     "output_type": "stream",
     "text": [
      "epoch: 1, [batch: 6048 / 6720], examples_per_second: 3156.8963, train_label_loss: 0.0872, \n"
     ]
    },
    {
     "name": "stdout",
     "output_type": "stream",
     "text": [
      "=============================================================\n",
      "epoch: 1, source_val_acc_label: 0.5492, target_val_acc_label: 0.5539, source_val_label_loss: 379.4673, target_val_label_loss: 391.8143, \n",
      "=============================================================\n"
     ]
    },
    {
     "name": "stdout",
     "output_type": "stream",
     "text": [
      "New best\n"
     ]
    },
    {
     "name": "stdout",
     "output_type": "stream",
     "text": [
      "epoch: 2, [batch: 1 / 6720], examples_per_second: 4.6881, train_label_loss: 513.2294, \n"
     ]
    },
    {
     "name": "stdout",
     "output_type": "stream",
     "text": [
      "epoch: 2, [batch: 672 / 6720], examples_per_second: 3176.5073, train_label_loss: 4.6665, \n"
     ]
    },
    {
     "name": "stdout",
     "output_type": "stream",
     "text": [
      "epoch: 2, [batch: 1344 / 6720], examples_per_second: 3179.4351, train_label_loss: 2.7224, \n"
     ]
    },
    {
     "name": "stdout",
     "output_type": "stream",
     "text": [
      "epoch: 2, [batch: 2016 / 6720], examples_per_second: 3168.5598, train_label_loss: 5.6063, \n"
     ]
    },
    {
     "name": "stdout",
     "output_type": "stream",
     "text": [
      "epoch: 2, [batch: 2688 / 6720], examples_per_second: 3168.6941, train_label_loss: 0.8135, \n"
     ]
    },
    {
     "name": "stdout",
     "output_type": "stream",
     "text": [
      "epoch: 2, [batch: 3360 / 6720], examples_per_second: 3163.0425, train_label_loss: 0.1679, \n"
     ]
    },
    {
     "name": "stdout",
     "output_type": "stream",
     "text": [
      "epoch: 2, [batch: 4032 / 6720], examples_per_second: 3171.4871, train_label_loss: 0.2177, \n"
     ]
    },
    {
     "name": "stdout",
     "output_type": "stream",
     "text": [
      "epoch: 2, [batch: 4704 / 6720], examples_per_second: 3167.3817, train_label_loss: 0.0639, \n"
     ]
    },
    {
     "name": "stdout",
     "output_type": "stream",
     "text": [
      "epoch: 2, [batch: 5376 / 6720], examples_per_second: 3180.7389, train_label_loss: 0.1386, \n"
     ]
    },
    {
     "name": "stdout",
     "output_type": "stream",
     "text": [
      "epoch: 2, [batch: 6048 / 6720], examples_per_second: 3175.3259, train_label_loss: 0.1846, \n"
     ]
    },
    {
     "name": "stdout",
     "output_type": "stream",
     "text": [
      "=============================================================\n",
      "epoch: 2, source_val_acc_label: 0.9059, target_val_acc_label: 0.9040, source_val_label_loss: 0.2663, target_val_label_loss: 0.3244, \n",
      "=============================================================\n"
     ]
    },
    {
     "name": "stdout",
     "output_type": "stream",
     "text": [
      "New best\n"
     ]
    },
    {
     "name": "stdout",
     "output_type": "stream",
     "text": [
      "epoch: 3, [batch: 1 / 6720], examples_per_second: 4.6931, train_label_loss: 0.1299, \n"
     ]
    },
    {
     "name": "stdout",
     "output_type": "stream",
     "text": [
      "epoch: 3, [batch: 672 / 6720], examples_per_second: 3162.5204, train_label_loss: 0.2052, \n"
     ]
    },
    {
     "name": "stdout",
     "output_type": "stream",
     "text": [
      "epoch: 3, [batch: 1344 / 6720], examples_per_second: 3167.4305, train_label_loss: 0.1212, \n"
     ]
    },
    {
     "name": "stdout",
     "output_type": "stream",
     "text": [
      "epoch: 3, [batch: 2016 / 6720], examples_per_second: 3176.6031, train_label_loss: 0.1739, \n"
     ]
    },
    {
     "name": "stdout",
     "output_type": "stream",
     "text": [
      "epoch: 3, [batch: 2688 / 6720], examples_per_second: 3173.1725, train_label_loss: 0.1212, \n"
     ]
    },
    {
     "name": "stdout",
     "output_type": "stream",
     "text": [
      "epoch: 3, [batch: 3360 / 6720], examples_per_second: 3163.9065, train_label_loss: 0.2406, \n"
     ]
    },
    {
     "name": "stdout",
     "output_type": "stream",
     "text": [
      "epoch: 3, [batch: 4032 / 6720], examples_per_second: 3168.7730, train_label_loss: 0.1635, \n"
     ]
    },
    {
     "name": "stdout",
     "output_type": "stream",
     "text": [
      "epoch: 3, [batch: 4704 / 6720], examples_per_second: 3152.5723, train_label_loss: 0.2317, \n"
     ]
    },
    {
     "name": "stdout",
     "output_type": "stream",
     "text": [
      "epoch: 3, [batch: 5376 / 6720], examples_per_second: 3185.2900, train_label_loss: 0.1119, \n"
     ]
    },
    {
     "name": "stdout",
     "output_type": "stream",
     "text": [
      "epoch: 3, [batch: 6048 / 6720], examples_per_second: 3179.4808, train_label_loss: 0.0387, \n"
     ]
    },
    {
     "name": "stdout",
     "output_type": "stream",
     "text": [
      "=============================================================\n",
      "epoch: 3, source_val_acc_label: 0.9025, target_val_acc_label: 0.9101, source_val_label_loss: 0.2929, target_val_label_loss: 0.3415, \n",
      "=============================================================\n"
     ]
    },
    {
     "name": "stdout",
     "output_type": "stream",
     "text": [
      "epoch: 4, [batch: 1 / 6720], examples_per_second: 4.7366, train_label_loss: 0.1683, \n"
     ]
    },
    {
     "name": "stdout",
     "output_type": "stream",
     "text": [
      "epoch: 4, [batch: 672 / 6720], examples_per_second: 3164.1099, train_label_loss: 0.2073, \n"
     ]
    },
    {
     "name": "stdout",
     "output_type": "stream",
     "text": [
      "epoch: 4, [batch: 1344 / 6720], examples_per_second: 3154.3820, train_label_loss: 0.3825, \n"
     ]
    },
    {
     "name": "stdout",
     "output_type": "stream",
     "text": [
      "epoch: 4, [batch: 2016 / 6720], examples_per_second: 3161.1099, train_label_loss: 0.1045, \n"
     ]
    },
    {
     "name": "stdout",
     "output_type": "stream",
     "text": [
      "epoch: 4, [batch: 2688 / 6720], examples_per_second: 3158.2890, train_label_loss: 0.3289, \n"
     ]
    },
    {
     "name": "stdout",
     "output_type": "stream",
     "text": [
      "epoch: 4, [batch: 3360 / 6720], examples_per_second: 3170.0174, train_label_loss: 0.2160, \n"
     ]
    },
    {
     "name": "stdout",
     "output_type": "stream",
     "text": [
      "epoch: 4, [batch: 4032 / 6720], examples_per_second: 3172.4136, train_label_loss: 0.2565, \n"
     ]
    },
    {
     "name": "stdout",
     "output_type": "stream",
     "text": [
      "epoch: 4, [batch: 4704 / 6720], examples_per_second: 3169.3103, train_label_loss: 0.3799, \n"
     ]
    },
    {
     "name": "stdout",
     "output_type": "stream",
     "text": [
      "epoch: 4, [batch: 5376 / 6720], examples_per_second: 3168.3583, train_label_loss: 0.0841, \n"
     ]
    },
    {
     "name": "stdout",
     "output_type": "stream",
     "text": [
      "epoch: 4, [batch: 6048 / 6720], examples_per_second: 3171.3805, train_label_loss: 0.1002, \n"
     ]
    },
    {
     "name": "stdout",
     "output_type": "stream",
     "text": [
      "=============================================================\n",
      "epoch: 4, source_val_acc_label: 0.9175, target_val_acc_label: 0.9169, source_val_label_loss: 0.2420, target_val_label_loss: 0.3338, \n",
      "=============================================================\n"
     ]
    },
    {
     "name": "stdout",
     "output_type": "stream",
     "text": [
      "epoch: 5, [batch: 1 / 6720], examples_per_second: 4.7239, train_label_loss: 0.1281, \n"
     ]
    },
    {
     "name": "stdout",
     "output_type": "stream",
     "text": [
      "epoch: 5, [batch: 672 / 6720], examples_per_second: 3165.4976, train_label_loss: 0.1445, \n"
     ]
    },
    {
     "name": "stdout",
     "output_type": "stream",
     "text": [
      "epoch: 5, [batch: 1344 / 6720], examples_per_second: 3174.8212, train_label_loss: 0.4706, \n"
     ]
    },
    {
     "name": "stdout",
     "output_type": "stream",
     "text": [
      "epoch: 5, [batch: 2016 / 6720], examples_per_second: 3183.7899, train_label_loss: 0.3086, \n"
     ]
    },
    {
     "name": "stdout",
     "output_type": "stream",
     "text": [
      "epoch: 5, [batch: 2688 / 6720], examples_per_second: 3164.6548, train_label_loss: 0.1197, \n"
     ]
    },
    {
     "name": "stdout",
     "output_type": "stream",
     "text": [
      "epoch: 5, [batch: 3360 / 6720], examples_per_second: 3157.4613, train_label_loss: 0.2680, \n"
     ]
    },
    {
     "name": "stdout",
     "output_type": "stream",
     "text": [
      "epoch: 5, [batch: 4032 / 6720], examples_per_second: 3168.0678, train_label_loss: 0.2134, \n"
     ]
    },
    {
     "name": "stdout",
     "output_type": "stream",
     "text": [
      "epoch: 5, [batch: 4704 / 6720], examples_per_second: 3174.9866, train_label_loss: 0.1466, \n"
     ]
    },
    {
     "name": "stdout",
     "output_type": "stream",
     "text": [
      "epoch: 5, [batch: 5376 / 6720], examples_per_second: 3177.0787, train_label_loss: 0.0897, \n"
     ]
    },
    {
     "name": "stdout",
     "output_type": "stream",
     "text": [
      "epoch: 5, [batch: 6048 / 6720], examples_per_second: 3167.3818, train_label_loss: 0.2875, \n"
     ]
    },
    {
     "name": "stdout",
     "output_type": "stream",
     "text": [
      "=============================================================\n",
      "epoch: 5, source_val_acc_label: 0.9229, target_val_acc_label: 0.9195, source_val_label_loss: 0.2191, target_val_label_loss: 0.2887, \n",
      "=============================================================\n"
     ]
    },
    {
     "name": "stdout",
     "output_type": "stream",
     "text": [
      "New best\n"
     ]
    },
    {
     "name": "stdout",
     "output_type": "stream",
     "text": [
      "epoch: 6, [batch: 1 / 6720], examples_per_second: 4.7233, train_label_loss: 0.2442, \n"
     ]
    },
    {
     "name": "stdout",
     "output_type": "stream",
     "text": [
      "epoch: 6, [batch: 672 / 6720], examples_per_second: 3172.9926, train_label_loss: 0.2368, \n"
     ]
    },
    {
     "name": "stdout",
     "output_type": "stream",
     "text": [
      "epoch: 6, [batch: 1344 / 6720], examples_per_second: 3180.7255, train_label_loss: 0.0841, \n"
     ]
    },
    {
     "name": "stdout",
     "output_type": "stream",
     "text": [
      "epoch: 6, [batch: 2016 / 6720], examples_per_second: 3181.6791, train_label_loss: 0.1591, \n"
     ]
    },
    {
     "name": "stdout",
     "output_type": "stream",
     "text": [
      "epoch: 6, [batch: 2688 / 6720], examples_per_second: 3172.5862, train_label_loss: 0.1930, \n"
     ]
    },
    {
     "name": "stdout",
     "output_type": "stream",
     "text": [
      "epoch: 6, [batch: 3360 / 6720], examples_per_second: 3176.8817, train_label_loss: 0.0646, \n"
     ]
    },
    {
     "name": "stdout",
     "output_type": "stream",
     "text": [
      "epoch: 6, [batch: 4032 / 6720], examples_per_second: 3162.1123, train_label_loss: 0.0866, \n"
     ]
    },
    {
     "name": "stdout",
     "output_type": "stream",
     "text": [
      "epoch: 6, [batch: 4704 / 6720], examples_per_second: 3145.2157, train_label_loss: 0.5220, \n"
     ]
    },
    {
     "name": "stdout",
     "output_type": "stream",
     "text": [
      "epoch: 6, [batch: 5376 / 6720], examples_per_second: 3162.1510, train_label_loss: 0.3436, \n"
     ]
    },
    {
     "name": "stdout",
     "output_type": "stream",
     "text": [
      "epoch: 6, [batch: 6048 / 6720], examples_per_second: 3171.5568, train_label_loss: 0.0875, \n"
     ]
    },
    {
     "name": "stdout",
     "output_type": "stream",
     "text": [
      "=============================================================\n",
      "epoch: 6, source_val_acc_label: 0.9337, target_val_acc_label: 0.9313, source_val_label_loss: 0.1950, target_val_label_loss: 0.2934, \n",
      "=============================================================\n"
     ]
    },
    {
     "name": "stdout",
     "output_type": "stream",
     "text": [
      "epoch: 7, [batch: 1 / 6720], examples_per_second: 4.7324, train_label_loss: 0.0294, \n"
     ]
    },
    {
     "name": "stdout",
     "output_type": "stream",
     "text": [
      "epoch: 7, [batch: 672 / 6720], examples_per_second: 3164.0474, train_label_loss: 0.2806, \n"
     ]
    },
    {
     "name": "stdout",
     "output_type": "stream",
     "text": [
      "epoch: 7, [batch: 1344 / 6720], examples_per_second: 3178.9508, train_label_loss: 0.0588, \n"
     ]
    },
    {
     "name": "stdout",
     "output_type": "stream",
     "text": [
      "epoch: 7, [batch: 2016 / 6720], examples_per_second: 3182.5331, train_label_loss: 0.0390, \n"
     ]
    },
    {
     "name": "stdout",
     "output_type": "stream",
     "text": [
      "epoch: 7, [batch: 2688 / 6720], examples_per_second: 3164.1162, train_label_loss: 0.3709, \n"
     ]
    },
    {
     "name": "stdout",
     "output_type": "stream",
     "text": [
      "epoch: 7, [batch: 3360 / 6720], examples_per_second: 3182.0931, train_label_loss: 0.4477, \n"
     ]
    },
    {
     "name": "stdout",
     "output_type": "stream",
     "text": [
      "epoch: 7, [batch: 4032 / 6720], examples_per_second: 3164.1841, train_label_loss: 0.0841, \n"
     ]
    },
    {
     "name": "stdout",
     "output_type": "stream",
     "text": [
      "epoch: 7, [batch: 4704 / 6720], examples_per_second: 3147.9404, train_label_loss: 0.3163, \n"
     ]
    },
    {
     "name": "stdout",
     "output_type": "stream",
     "text": [
      "epoch: 7, [batch: 5376 / 6720], examples_per_second: 3158.5925, train_label_loss: 0.1851, \n"
     ]
    },
    {
     "name": "stdout",
     "output_type": "stream",
     "text": [
      "epoch: 7, [batch: 6048 / 6720], examples_per_second: 3161.7911, train_label_loss: 0.1243, \n"
     ]
    },
    {
     "name": "stdout",
     "output_type": "stream",
     "text": [
      "=============================================================\n",
      "epoch: 7, source_val_acc_label: 0.9299, target_val_acc_label: 0.9281, source_val_label_loss: 0.1964, target_val_label_loss: 0.2631, \n",
      "=============================================================\n"
     ]
    },
    {
     "name": "stdout",
     "output_type": "stream",
     "text": [
      "New best\n"
     ]
    },
    {
     "name": "stdout",
     "output_type": "stream",
     "text": [
      "epoch: 8, [batch: 1 / 6720], examples_per_second: 4.7107, train_label_loss: 0.1848, \n"
     ]
    },
    {
     "name": "stdout",
     "output_type": "stream",
     "text": [
      "epoch: 8, [batch: 672 / 6720], examples_per_second: 3169.1328, train_label_loss: 0.4676, \n"
     ]
    },
    {
     "name": "stdout",
     "output_type": "stream",
     "text": [
      "epoch: 8, [batch: 1344 / 6720], examples_per_second: 3163.7072, train_label_loss: 0.0847, \n"
     ]
    },
    {
     "name": "stdout",
     "output_type": "stream",
     "text": [
      "epoch: 8, [batch: 2016 / 6720], examples_per_second: 3165.6561, train_label_loss: 0.1150, \n"
     ]
    },
    {
     "name": "stdout",
     "output_type": "stream",
     "text": [
      "epoch: 8, [batch: 2688 / 6720], examples_per_second: 3166.1672, train_label_loss: 0.0757, \n"
     ]
    },
    {
     "name": "stdout",
     "output_type": "stream",
     "text": [
      "epoch: 8, [batch: 3360 / 6720], examples_per_second: 3175.7157, train_label_loss: 0.1374, \n"
     ]
    },
    {
     "name": "stdout",
     "output_type": "stream",
     "text": [
      "epoch: 8, [batch: 4032 / 6720], examples_per_second: 3190.7854, train_label_loss: 0.3080, \n"
     ]
    },
    {
     "name": "stdout",
     "output_type": "stream",
     "text": [
      "epoch: 8, [batch: 4704 / 6720], examples_per_second: 3165.3242, train_label_loss: 0.2080, \n"
     ]
    },
    {
     "name": "stdout",
     "output_type": "stream",
     "text": [
      "epoch: 8, [batch: 5376 / 6720], examples_per_second: 3174.1289, train_label_loss: 0.2727, \n"
     ]
    },
    {
     "name": "stdout",
     "output_type": "stream",
     "text": [
      "epoch: 8, [batch: 6048 / 6720], examples_per_second: 3174.1190, train_label_loss: 0.2428, \n"
     ]
    },
    {
     "name": "stdout",
     "output_type": "stream",
     "text": [
      "=============================================================\n",
      "epoch: 8, source_val_acc_label: 0.9349, target_val_acc_label: 0.9279, source_val_label_loss: 0.1865, target_val_label_loss: 0.2656, \n",
      "=============================================================\n"
     ]
    },
    {
     "name": "stdout",
     "output_type": "stream",
     "text": [
      "epoch: 9, [batch: 1 / 6720], examples_per_second: 4.7399, train_label_loss: 0.0827, \n"
     ]
    },
    {
     "name": "stdout",
     "output_type": "stream",
     "text": [
      "epoch: 9, [batch: 672 / 6720], examples_per_second: 3161.7418, train_label_loss: 0.2776, \n"
     ]
    },
    {
     "name": "stdout",
     "output_type": "stream",
     "text": [
      "epoch: 9, [batch: 1344 / 6720], examples_per_second: 3181.0245, train_label_loss: 0.3768, \n"
     ]
    },
    {
     "name": "stdout",
     "output_type": "stream",
     "text": [
      "epoch: 9, [batch: 2016 / 6720], examples_per_second: 3182.9447, train_label_loss: 0.1907, \n"
     ]
    },
    {
     "name": "stdout",
     "output_type": "stream",
     "text": [
      "epoch: 9, [batch: 2688 / 6720], examples_per_second: 3163.7348, train_label_loss: 0.1573, \n"
     ]
    },
    {
     "name": "stdout",
     "output_type": "stream",
     "text": [
      "epoch: 9, [batch: 3360 / 6720], examples_per_second: 3177.5561, train_label_loss: 0.2154, \n"
     ]
    },
    {
     "name": "stdout",
     "output_type": "stream",
     "text": [
      "epoch: 9, [batch: 4032 / 6720], examples_per_second: 3160.9342, train_label_loss: 0.2755, \n"
     ]
    },
    {
     "name": "stdout",
     "output_type": "stream",
     "text": [
      "epoch: 9, [batch: 4704 / 6720], examples_per_second: 3150.8685, train_label_loss: 0.2394, \n"
     ]
    },
    {
     "name": "stdout",
     "output_type": "stream",
     "text": [
      "epoch: 9, [batch: 5376 / 6720], examples_per_second: 3176.6696, train_label_loss: 0.3913, \n"
     ]
    },
    {
     "name": "stdout",
     "output_type": "stream",
     "text": [
      "epoch: 9, [batch: 6048 / 6720], examples_per_second: 3178.0113, train_label_loss: 0.0440, \n"
     ]
    },
    {
     "name": "stdout",
     "output_type": "stream",
     "text": [
      "=============================================================\n",
      "epoch: 9, source_val_acc_label: 0.9380, target_val_acc_label: 0.9335, source_val_label_loss: 0.1746, target_val_label_loss: 0.2663, \n",
      "=============================================================\n"
     ]
    },
    {
     "name": "stdout",
     "output_type": "stream",
     "text": [
      "epoch: 10, [batch: 1 / 6720], examples_per_second: 4.7383, train_label_loss: 0.0491, \n"
     ]
    },
    {
     "name": "stdout",
     "output_type": "stream",
     "text": [
      "epoch: 10, [batch: 672 / 6720], examples_per_second: 3149.4596, train_label_loss: 0.2397, \n"
     ]
    },
    {
     "name": "stdout",
     "output_type": "stream",
     "text": [
      "epoch: 10, [batch: 1344 / 6720], examples_per_second: 3174.4849, train_label_loss: 0.0471, \n"
     ]
    },
    {
     "name": "stdout",
     "output_type": "stream",
     "text": [
      "epoch: 10, [batch: 2016 / 6720], examples_per_second: 3175.1490, train_label_loss: 0.2223, \n"
     ]
    },
    {
     "name": "stdout",
     "output_type": "stream",
     "text": [
      "epoch: 10, [batch: 2688 / 6720], examples_per_second: 3156.8996, train_label_loss: 0.1324, \n"
     ]
    },
    {
     "name": "stdout",
     "output_type": "stream",
     "text": [
      "epoch: 10, [batch: 3360 / 6720], examples_per_second: 3173.5932, train_label_loss: 0.2519, \n"
     ]
    },
    {
     "name": "stdout",
     "output_type": "stream",
     "text": [
      "epoch: 10, [batch: 4032 / 6720], examples_per_second: 3171.3753, train_label_loss: 0.1338, \n"
     ]
    },
    {
     "name": "stdout",
     "output_type": "stream",
     "text": [
      "epoch: 10, [batch: 4704 / 6720], examples_per_second: 3151.3399, train_label_loss: 0.2079, \n"
     ]
    },
    {
     "name": "stdout",
     "output_type": "stream",
     "text": [
      "epoch: 10, [batch: 5376 / 6720], examples_per_second: 3179.0649, train_label_loss: 0.3529, \n"
     ]
    },
    {
     "name": "stdout",
     "output_type": "stream",
     "text": [
      "epoch: 10, [batch: 6048 / 6720], examples_per_second: 3180.2540, train_label_loss: 0.0529, \n"
     ]
    },
    {
     "name": "stdout",
     "output_type": "stream",
     "text": [
      "=============================================================\n",
      "epoch: 10, source_val_acc_label: 0.9374, target_val_acc_label: 0.9280, source_val_label_loss: 0.1781, target_val_label_loss: 0.2632, \n",
      "=============================================================\n"
     ]
    },
    {
     "name": "stdout",
     "output_type": "stream",
     "text": [
      "epoch: 11, [batch: 1 / 6720], examples_per_second: 4.7054, train_label_loss: 0.0136, \n"
     ]
    },
    {
     "name": "stdout",
     "output_type": "stream",
     "text": [
      "epoch: 11, [batch: 672 / 6720], examples_per_second: 3167.0544, train_label_loss: 0.1911, \n"
     ]
    },
    {
     "name": "stdout",
     "output_type": "stream",
     "text": [
      "epoch: 11, [batch: 1344 / 6720], examples_per_second: 3181.5039, train_label_loss: 0.1214, \n"
     ]
    },
    {
     "name": "stdout",
     "output_type": "stream",
     "text": [
      "epoch: 11, [batch: 2016 / 6720], examples_per_second: 3180.8402, train_label_loss: 0.1019, \n"
     ]
    },
    {
     "name": "stdout",
     "output_type": "stream",
     "text": [
      "epoch: 11, [batch: 2688 / 6720], examples_per_second: 3178.4608, train_label_loss: 0.2515, \n"
     ]
    },
    {
     "name": "stdout",
     "output_type": "stream",
     "text": [
      "epoch: 11, [batch: 3360 / 6720], examples_per_second: 3173.4211, train_label_loss: 0.0424, \n"
     ]
    },
    {
     "name": "stdout",
     "output_type": "stream",
     "text": [
      "epoch: 11, [batch: 4032 / 6720], examples_per_second: 3167.4103, train_label_loss: 0.2971, \n"
     ]
    },
    {
     "name": "stdout",
     "output_type": "stream",
     "text": [
      "epoch: 11, [batch: 4704 / 6720], examples_per_second: 3162.0674, train_label_loss: 0.0474, \n"
     ]
    },
    {
     "name": "stdout",
     "output_type": "stream",
     "text": [
      "epoch: 11, [batch: 5376 / 6720], examples_per_second: 3163.8161, train_label_loss: 0.3355, \n"
     ]
    },
    {
     "name": "stdout",
     "output_type": "stream",
     "text": [
      "epoch: 11, [batch: 6048 / 6720], examples_per_second: 3163.9571, train_label_loss: 0.1255, \n"
     ]
    },
    {
     "name": "stdout",
     "output_type": "stream",
     "text": [
      "=============================================================\n",
      "epoch: 11, source_val_acc_label: 0.9426, target_val_acc_label: 0.9340, source_val_label_loss: 0.1645, target_val_label_loss: 0.2628, \n",
      "=============================================================\n"
     ]
    },
    {
     "name": "stdout",
     "output_type": "stream",
     "text": [
      "New best\n"
     ]
    },
    {
     "name": "stdout",
     "output_type": "stream",
     "text": [
      "epoch: 12, [batch: 1 / 6720], examples_per_second: 4.7042, train_label_loss: 0.3145, \n"
     ]
    },
    {
     "name": "stdout",
     "output_type": "stream",
     "text": [
      "epoch: 12, [batch: 672 / 6720], examples_per_second: 3166.4719, train_label_loss: 0.3325, \n"
     ]
    },
    {
     "name": "stdout",
     "output_type": "stream",
     "text": [
      "epoch: 12, [batch: 1344 / 6720], examples_per_second: 3172.9931, train_label_loss: 0.1315, \n"
     ]
    },
    {
     "name": "stdout",
     "output_type": "stream",
     "text": [
      "epoch: 12, [batch: 2016 / 6720], examples_per_second: 3181.1059, train_label_loss: 0.0395, \n"
     ]
    },
    {
     "name": "stdout",
     "output_type": "stream",
     "text": [
      "epoch: 12, [batch: 2688 / 6720], examples_per_second: 3146.6233, train_label_loss: 0.0836, \n"
     ]
    },
    {
     "name": "stdout",
     "output_type": "stream",
     "text": [
      "epoch: 12, [batch: 3360 / 6720], examples_per_second: 3159.5564, train_label_loss: 0.1122, \n"
     ]
    },
    {
     "name": "stdout",
     "output_type": "stream",
     "text": [
      "epoch: 12, [batch: 4032 / 6720], examples_per_second: 3184.2433, train_label_loss: 0.2805, \n"
     ]
    },
    {
     "name": "stdout",
     "output_type": "stream",
     "text": [
      "epoch: 12, [batch: 4704 / 6720], examples_per_second: 3163.8330, train_label_loss: 0.2505, \n"
     ]
    },
    {
     "name": "stdout",
     "output_type": "stream",
     "text": [
      "epoch: 12, [batch: 5376 / 6720], examples_per_second: 3174.5620, train_label_loss: 0.0148, \n"
     ]
    },
    {
     "name": "stdout",
     "output_type": "stream",
     "text": [
      "epoch: 12, [batch: 6048 / 6720], examples_per_second: 3183.9854, train_label_loss: 0.0515, \n"
     ]
    },
    {
     "name": "stdout",
     "output_type": "stream",
     "text": [
      "=============================================================\n",
      "epoch: 12, source_val_acc_label: 0.9327, target_val_acc_label: 0.9298, source_val_label_loss: 0.1976, target_val_label_loss: 0.3027, \n",
      "=============================================================\n"
     ]
    },
    {
     "name": "stdout",
     "output_type": "stream",
     "text": [
      "epoch: 13, [batch: 1 / 6720], examples_per_second: 4.7129, train_label_loss: 0.6914, \n"
     ]
    },
    {
     "name": "stdout",
     "output_type": "stream",
     "text": [
      "epoch: 13, [batch: 672 / 6720], examples_per_second: 3173.5107, train_label_loss: 0.1440, \n"
     ]
    },
    {
     "name": "stdout",
     "output_type": "stream",
     "text": [
      "epoch: 13, [batch: 1344 / 6720], examples_per_second: 3176.6116, train_label_loss: 0.1017, \n"
     ]
    },
    {
     "name": "stdout",
     "output_type": "stream",
     "text": [
      "epoch: 13, [batch: 2016 / 6720], examples_per_second: 3151.5297, train_label_loss: 0.2944, \n"
     ]
    },
    {
     "name": "stdout",
     "output_type": "stream",
     "text": [
      "epoch: 13, [batch: 2688 / 6720], examples_per_second: 3170.9967, train_label_loss: 0.1549, \n"
     ]
    },
    {
     "name": "stdout",
     "output_type": "stream",
     "text": [
      "epoch: 13, [batch: 3360 / 6720], examples_per_second: 3178.0761, train_label_loss: 0.3660, \n"
     ]
    },
    {
     "name": "stdout",
     "output_type": "stream",
     "text": [
      "epoch: 13, [batch: 4032 / 6720], examples_per_second: 3182.5043, train_label_loss: 0.3845, \n"
     ]
    },
    {
     "name": "stdout",
     "output_type": "stream",
     "text": [
      "epoch: 13, [batch: 4704 / 6720], examples_per_second: 3174.8943, train_label_loss: 0.0271, \n"
     ]
    },
    {
     "name": "stdout",
     "output_type": "stream",
     "text": [
      "epoch: 13, [batch: 5376 / 6720], examples_per_second: 3166.0359, train_label_loss: 0.0722, \n"
     ]
    },
    {
     "name": "stdout",
     "output_type": "stream",
     "text": [
      "epoch: 13, [batch: 6048 / 6720], examples_per_second: 3166.8858, train_label_loss: 0.1383, \n"
     ]
    },
    {
     "name": "stdout",
     "output_type": "stream",
     "text": [
      "=============================================================\n",
      "epoch: 13, source_val_acc_label: 0.9432, target_val_acc_label: 0.9360, source_val_label_loss: 0.1645, target_val_label_loss: 0.2737, \n",
      "=============================================================\n"
     ]
    },
    {
     "name": "stdout",
     "output_type": "stream",
     "text": [
      "epoch: 14, [batch: 1 / 6720], examples_per_second: 4.7299, train_label_loss: 0.2255, \n"
     ]
    },
    {
     "name": "stdout",
     "output_type": "stream",
     "text": [
      "epoch: 14, [batch: 672 / 6720], examples_per_second: 3164.6508, train_label_loss: 0.0796, \n"
     ]
    },
    {
     "name": "stdout",
     "output_type": "stream",
     "text": [
      "epoch: 14, [batch: 1344 / 6720], examples_per_second: 3171.0204, train_label_loss: 0.1643, \n"
     ]
    },
    {
     "name": "stdout",
     "output_type": "stream",
     "text": [
      "epoch: 14, [batch: 2016 / 6720], examples_per_second: 3172.4738, train_label_loss: 0.1493, \n"
     ]
    },
    {
     "name": "stdout",
     "output_type": "stream",
     "text": [
      "epoch: 14, [batch: 2688 / 6720], examples_per_second: 3160.3697, train_label_loss: 0.2682, \n"
     ]
    },
    {
     "name": "stdout",
     "output_type": "stream",
     "text": [
      "epoch: 14, [batch: 3360 / 6720], examples_per_second: 3169.7634, train_label_loss: 0.0312, \n"
     ]
    },
    {
     "name": "stdout",
     "output_type": "stream",
     "text": [
      "epoch: 14, [batch: 4032 / 6720], examples_per_second: 3185.4054, train_label_loss: 0.2799, \n"
     ]
    },
    {
     "name": "stdout",
     "output_type": "stream",
     "text": [
      "epoch: 14, [batch: 4704 / 6720], examples_per_second: 3157.3293, train_label_loss: 0.1410, \n"
     ]
    },
    {
     "name": "stdout",
     "output_type": "stream",
     "text": [
      "epoch: 14, [batch: 5376 / 6720], examples_per_second: 3172.5401, train_label_loss: 0.1370, \n"
     ]
    },
    {
     "name": "stdout",
     "output_type": "stream",
     "text": [
      "epoch: 14, [batch: 6048 / 6720], examples_per_second: 3173.5636, train_label_loss: 0.0748, \n"
     ]
    },
    {
     "name": "stdout",
     "output_type": "stream",
     "text": [
      "=============================================================\n",
      "epoch: 14, source_val_acc_label: 0.9427, target_val_acc_label: 0.9341, source_val_label_loss: 0.1605, target_val_label_loss: 0.2717, \n",
      "=============================================================\n"
     ]
    },
    {
     "name": "stdout",
     "output_type": "stream",
     "text": [
      "epoch: 15, [batch: 1 / 6720], examples_per_second: 4.7227, train_label_loss: 0.0393, \n"
     ]
    },
    {
     "name": "stdout",
     "output_type": "stream",
     "text": [
      "epoch: 15, [batch: 672 / 6720], examples_per_second: 3159.8549, train_label_loss: 0.0480, \n"
     ]
    },
    {
     "name": "stdout",
     "output_type": "stream",
     "text": [
      "epoch: 15, [batch: 1344 / 6720], examples_per_second: 3163.5980, train_label_loss: 0.1152, \n"
     ]
    },
    {
     "name": "stdout",
     "output_type": "stream",
     "text": [
      "epoch: 15, [batch: 2016 / 6720], examples_per_second: 3164.4941, train_label_loss: 0.0487, \n"
     ]
    },
    {
     "name": "stdout",
     "output_type": "stream",
     "text": [
      "epoch: 15, [batch: 2688 / 6720], examples_per_second: 3160.2766, train_label_loss: 0.1072, \n"
     ]
    },
    {
     "name": "stdout",
     "output_type": "stream",
     "text": [
      "epoch: 15, [batch: 3360 / 6720], examples_per_second: 3175.4570, train_label_loss: 0.2744, \n"
     ]
    },
    {
     "name": "stdout",
     "output_type": "stream",
     "text": [
      "epoch: 15, [batch: 4032 / 6720], examples_per_second: 3176.8944, train_label_loss: 0.0696, \n"
     ]
    },
    {
     "name": "stdout",
     "output_type": "stream",
     "text": [
      "epoch: 15, [batch: 4704 / 6720], examples_per_second: 3162.8576, train_label_loss: 0.2767, \n"
     ]
    },
    {
     "name": "stdout",
     "output_type": "stream",
     "text": [
      "epoch: 15, [batch: 5376 / 6720], examples_per_second: 3178.6069, train_label_loss: 0.0741, \n"
     ]
    },
    {
     "name": "stdout",
     "output_type": "stream",
     "text": [
      "epoch: 15, [batch: 6048 / 6720], examples_per_second: 3173.1105, train_label_loss: 0.3217, \n"
     ]
    },
    {
     "name": "stdout",
     "output_type": "stream",
     "text": [
      "=============================================================\n",
      "epoch: 15, source_val_acc_label: 0.9462, target_val_acc_label: 0.9370, source_val_label_loss: 0.1563, target_val_label_loss: 0.2577, \n",
      "=============================================================\n"
     ]
    },
    {
     "name": "stdout",
     "output_type": "stream",
     "text": [
      "New best\n"
     ]
    },
    {
     "name": "stdout",
     "output_type": "stream",
     "text": [
      "epoch: 16, [batch: 1 / 6720], examples_per_second: 4.7081, train_label_loss: 0.2413, \n"
     ]
    },
    {
     "name": "stdout",
     "output_type": "stream",
     "text": [
      "epoch: 16, [batch: 672 / 6720], examples_per_second: 3158.0250, train_label_loss: 0.0803, \n"
     ]
    },
    {
     "name": "stdout",
     "output_type": "stream",
     "text": [
      "epoch: 16, [batch: 1344 / 6720], examples_per_second: 3174.7275, train_label_loss: 0.0484, \n"
     ]
    },
    {
     "name": "stdout",
     "output_type": "stream",
     "text": [
      "epoch: 16, [batch: 2016 / 6720], examples_per_second: 3186.9583, train_label_loss: 0.1051, \n"
     ]
    },
    {
     "name": "stdout",
     "output_type": "stream",
     "text": [
      "epoch: 16, [batch: 2688 / 6720], examples_per_second: 3174.1632, train_label_loss: 0.1423, \n"
     ]
    },
    {
     "name": "stdout",
     "output_type": "stream",
     "text": [
      "epoch: 16, [batch: 3360 / 6720], examples_per_second: 3188.2412, train_label_loss: 0.0342, \n"
     ]
    },
    {
     "name": "stdout",
     "output_type": "stream",
     "text": [
      "epoch: 16, [batch: 4032 / 6720], examples_per_second: 3178.8547, train_label_loss: 0.2161, \n"
     ]
    },
    {
     "name": "stdout",
     "output_type": "stream",
     "text": [
      "epoch: 16, [batch: 4704 / 6720], examples_per_second: 3160.2360, train_label_loss: 0.0937, \n"
     ]
    },
    {
     "name": "stdout",
     "output_type": "stream",
     "text": [
      "epoch: 16, [batch: 5376 / 6720], examples_per_second: 3187.6001, train_label_loss: 0.4771, \n"
     ]
    },
    {
     "name": "stdout",
     "output_type": "stream",
     "text": [
      "epoch: 16, [batch: 6048 / 6720], examples_per_second: 3171.9742, train_label_loss: 0.1209, \n"
     ]
    },
    {
     "name": "stdout",
     "output_type": "stream",
     "text": [
      "=============================================================\n",
      "epoch: 16, source_val_acc_label: 0.9443, target_val_acc_label: 0.9339, source_val_label_loss: 0.1602, target_val_label_loss: 0.2836, \n",
      "=============================================================\n"
     ]
    },
    {
     "name": "stdout",
     "output_type": "stream",
     "text": [
      "epoch: 17, [batch: 1 / 6720], examples_per_second: 4.6994, train_label_loss: 0.0198, \n"
     ]
    },
    {
     "name": "stdout",
     "output_type": "stream",
     "text": [
      "epoch: 17, [batch: 672 / 6720], examples_per_second: 3164.6108, train_label_loss: 0.3305, \n"
     ]
    },
    {
     "name": "stdout",
     "output_type": "stream",
     "text": [
      "epoch: 17, [batch: 1344 / 6720], examples_per_second: 3173.0746, train_label_loss: 0.1587, \n"
     ]
    },
    {
     "name": "stdout",
     "output_type": "stream",
     "text": [
      "epoch: 17, [batch: 2016 / 6720], examples_per_second: 3183.2800, train_label_loss: 0.0840, \n"
     ]
    },
    {
     "name": "stdout",
     "output_type": "stream",
     "text": [
      "epoch: 17, [batch: 2688 / 6720], examples_per_second: 3159.0337, train_label_loss: 0.2126, \n"
     ]
    },
    {
     "name": "stdout",
     "output_type": "stream",
     "text": [
      "epoch: 17, [batch: 3360 / 6720], examples_per_second: 3161.2977, train_label_loss: 0.2068, \n"
     ]
    },
    {
     "name": "stdout",
     "output_type": "stream",
     "text": [
      "epoch: 17, [batch: 4032 / 6720], examples_per_second: 3175.9308, train_label_loss: 0.3469, \n"
     ]
    },
    {
     "name": "stdout",
     "output_type": "stream",
     "text": [
      "epoch: 17, [batch: 4704 / 6720], examples_per_second: 3166.8941, train_label_loss: 0.3281, \n"
     ]
    },
    {
     "name": "stdout",
     "output_type": "stream",
     "text": [
      "epoch: 17, [batch: 5376 / 6720], examples_per_second: 3169.0782, train_label_loss: 0.1539, \n"
     ]
    },
    {
     "name": "stdout",
     "output_type": "stream",
     "text": [
      "epoch: 17, [batch: 6048 / 6720], examples_per_second: 3165.2998, train_label_loss: 0.1338, \n"
     ]
    },
    {
     "name": "stdout",
     "output_type": "stream",
     "text": [
      "=============================================================\n",
      "epoch: 17, source_val_acc_label: 0.9467, target_val_acc_label: 0.9361, source_val_label_loss: 0.1562, target_val_label_loss: 0.2767, \n",
      "=============================================================\n"
     ]
    },
    {
     "name": "stdout",
     "output_type": "stream",
     "text": [
      "epoch: 18, [batch: 1 / 6720], examples_per_second: 4.6850, train_label_loss: 0.0175, \n"
     ]
    },
    {
     "name": "stdout",
     "output_type": "stream",
     "text": [
      "epoch: 18, [batch: 672 / 6720], examples_per_second: 3178.7301, train_label_loss: 0.2802, \n"
     ]
    },
    {
     "name": "stdout",
     "output_type": "stream",
     "text": [
      "epoch: 18, [batch: 1344 / 6720], examples_per_second: 3187.1671, train_label_loss: 0.0473, \n"
     ]
    },
    {
     "name": "stdout",
     "output_type": "stream",
     "text": [
      "epoch: 18, [batch: 2016 / 6720], examples_per_second: 3184.2051, train_label_loss: 0.1120, \n"
     ]
    },
    {
     "name": "stdout",
     "output_type": "stream",
     "text": [
      "epoch: 18, [batch: 2688 / 6720], examples_per_second: 3171.0980, train_label_loss: 0.0222, \n"
     ]
    },
    {
     "name": "stdout",
     "output_type": "stream",
     "text": [
      "epoch: 18, [batch: 3360 / 6720], examples_per_second: 3186.5043, train_label_loss: 0.0212, \n"
     ]
    },
    {
     "name": "stdout",
     "output_type": "stream",
     "text": [
      "epoch: 18, [batch: 4032 / 6720], examples_per_second: 3173.8962, train_label_loss: 0.0158, \n"
     ]
    },
    {
     "name": "stdout",
     "output_type": "stream",
     "text": [
      "epoch: 18, [batch: 4704 / 6720], examples_per_second: 3151.7673, train_label_loss: 0.1366, \n"
     ]
    },
    {
     "name": "stdout",
     "output_type": "stream",
     "text": [
      "epoch: 18, [batch: 5376 / 6720], examples_per_second: 3186.4374, train_label_loss: 0.0320, \n"
     ]
    },
    {
     "name": "stdout",
     "output_type": "stream",
     "text": [
      "epoch: 18, [batch: 6048 / 6720], examples_per_second: 3187.1481, train_label_loss: 0.0716, \n"
     ]
    },
    {
     "name": "stdout",
     "output_type": "stream",
     "text": [
      "=============================================================\n",
      "epoch: 18, source_val_acc_label: 0.9438, target_val_acc_label: 0.9349, source_val_label_loss: 0.1564, target_val_label_loss: 0.2709, \n",
      "=============================================================\n"
     ]
    },
    {
     "name": "stdout",
     "output_type": "stream",
     "text": [
      "epoch: 19, [batch: 1 / 6720], examples_per_second: 4.7360, train_label_loss: 0.0926, \n"
     ]
    },
    {
     "name": "stdout",
     "output_type": "stream",
     "text": [
      "epoch: 19, [batch: 672 / 6720], examples_per_second: 3168.5436, train_label_loss: 0.2715, \n"
     ]
    },
    {
     "name": "stdout",
     "output_type": "stream",
     "text": [
      "epoch: 19, [batch: 1344 / 6720], examples_per_second: 3170.3357, train_label_loss: 0.2111, \n"
     ]
    },
    {
     "name": "stdout",
     "output_type": "stream",
     "text": [
      "epoch: 19, [batch: 2016 / 6720], examples_per_second: 3172.4226, train_label_loss: 0.2133, \n"
     ]
    },
    {
     "name": "stdout",
     "output_type": "stream",
     "text": [
      "epoch: 19, [batch: 2688 / 6720], examples_per_second: 3162.6720, train_label_loss: 0.0895, \n"
     ]
    },
    {
     "name": "stdout",
     "output_type": "stream",
     "text": [
      "epoch: 19, [batch: 3360 / 6720], examples_per_second: 3172.6654, train_label_loss: 0.0617, \n"
     ]
    },
    {
     "name": "stdout",
     "output_type": "stream",
     "text": [
      "epoch: 19, [batch: 4032 / 6720], examples_per_second: 3166.5632, train_label_loss: 0.0082, \n"
     ]
    },
    {
     "name": "stdout",
     "output_type": "stream",
     "text": [
      "epoch: 19, [batch: 4704 / 6720], examples_per_second: 3165.9355, train_label_loss: 0.0314, \n"
     ]
    },
    {
     "name": "stdout",
     "output_type": "stream",
     "text": [
      "epoch: 19, [batch: 5376 / 6720], examples_per_second: 3179.1586, train_label_loss: 0.0899, \n"
     ]
    },
    {
     "name": "stdout",
     "output_type": "stream",
     "text": [
      "epoch: 19, [batch: 6048 / 6720], examples_per_second: 3182.5614, train_label_loss: 0.0218, \n"
     ]
    },
    {
     "name": "stdout",
     "output_type": "stream",
     "text": [
      "=============================================================\n",
      "epoch: 19, source_val_acc_label: 0.9425, target_val_acc_label: 0.9302, source_val_label_loss: 0.1598, target_val_label_loss: 0.2738, \n",
      "=============================================================\n"
     ]
    },
    {
     "name": "stdout",
     "output_type": "stream",
     "text": [
      "Patience (3) exhausted\n"
     ]
    }
   ],
   "source": [
    "###################################\n",
    "# train\n",
    "###################################\n",
    "jig = PTN_Train_Eval_Test_Jig(model, p.BEST_MODEL_PATH, p.device)\n",
    "\n",
    "jig.train(\n",
    "    train_iterable=datasets.source.processed.train,\n",
    "    source_val_iterable=datasets.source.processed.val,\n",
    "    target_val_iterable=datasets.target.processed.val,\n",
    "    num_epochs=p.n_epoch,\n",
    "    num_logs_per_epoch=p.NUM_LOGS_PER_EPOCH,\n",
    "    patience=p.patience,\n",
    "    optimizer=optimizer,\n",
    "    criteria_for_best=p.criteria_for_best,\n",
    ")"
   ]
  },
  {
   "cell_type": "code",
   "execution_count": 23,
   "id": "31e8fabf",
   "metadata": {
    "execution": {
     "iopub.execute_input": "2022-03-07T03:56:36.284084Z",
     "iopub.status.busy": "2022-03-07T03:56:36.283826Z",
     "iopub.status.idle": "2022-03-07T03:56:36.299779Z",
     "shell.execute_reply": "2022-03-07T03:56:36.299408Z"
    },
    "papermill": {
     "duration": 0.070077,
     "end_time": "2022-03-07T03:56:36.299874",
     "exception": false,
     "start_time": "2022-03-07T03:56:36.229797",
     "status": "completed"
    },
    "tags": []
   },
   "outputs": [],
   "source": [
    "total_experiment_time_secs = time.time() - start_time_secs"
   ]
  },
  {
   "cell_type": "code",
   "execution_count": 24,
   "id": "87b9595b",
   "metadata": {
    "execution": {
     "iopub.execute_input": "2022-03-07T03:56:36.411335Z",
     "iopub.status.busy": "2022-03-07T03:56:36.411062Z",
     "iopub.status.idle": "2022-03-07T03:58:15.410111Z",
     "shell.execute_reply": "2022-03-07T03:58:15.410486Z"
    },
    "papermill": {
     "duration": 99.056345,
     "end_time": "2022-03-07T03:58:15.410624",
     "exception": false,
     "start_time": "2022-03-07T03:56:36.354279",
     "status": "completed"
    },
    "tags": []
   },
   "outputs": [],
   "source": [
    "###################################\n",
    "# Evaluate the model\n",
    "###################################\n",
    "source_test_label_accuracy, source_test_label_loss = jig.test(datasets.source.processed.test)\n",
    "target_test_label_accuracy, target_test_label_loss = jig.test(datasets.target.processed.test)\n",
    "\n",
    "source_val_label_accuracy, source_val_label_loss = jig.test(datasets.source.processed.val)\n",
    "target_val_label_accuracy, target_val_label_loss = jig.test(datasets.target.processed.val)\n",
    "\n",
    "history = jig.get_history()\n",
    "\n",
    "total_epochs_trained = len(history[\"epoch_indices\"])\n",
    "\n",
    "val_dl = Iterable_Aggregator((datasets.source.original.val,datasets.target.original.val))\n",
    "\n",
    "confusion = ptn_confusion_by_domain_over_dataloader(model, p.device, val_dl)\n",
    "per_domain_accuracy = per_domain_accuracy_from_confusion(confusion)\n",
    "\n",
    "# Add a key to per_domain_accuracy for if it was a source domain\n",
    "for domain, accuracy in per_domain_accuracy.items():\n",
    "    per_domain_accuracy[domain] = {\n",
    "        \"accuracy\": accuracy,\n",
    "        \"source?\": domain in p.domains_source\n",
    "    }\n",
    "\n",
    "# Do an independent accuracy assesment JUST TO BE SURE!\n",
    "# _source_test_label_accuracy = independent_accuracy_assesment(model, datasets.source.processed.test, p.device)\n",
    "# _target_test_label_accuracy = independent_accuracy_assesment(model, datasets.target.processed.test, p.device)\n",
    "# _source_val_label_accuracy = independent_accuracy_assesment(model, datasets.source.processed.val, p.device)\n",
    "# _target_val_label_accuracy = independent_accuracy_assesment(model, datasets.target.processed.val, p.device)\n",
    "\n",
    "# assert(_source_test_label_accuracy == source_test_label_accuracy)\n",
    "# assert(_target_test_label_accuracy == target_test_label_accuracy)\n",
    "# assert(_source_val_label_accuracy == source_val_label_accuracy)\n",
    "# assert(_target_val_label_accuracy == target_val_label_accuracy)\n",
    "\n",
    "experiment = {\n",
    "    \"experiment_name\": p.experiment_name,\n",
    "    \"parameters\": dict(p),\n",
    "    \"results\": {\n",
    "        \"source_test_label_accuracy\": source_test_label_accuracy,\n",
    "        \"source_test_label_loss\": source_test_label_loss,\n",
    "        \"target_test_label_accuracy\": target_test_label_accuracy,\n",
    "        \"target_test_label_loss\": target_test_label_loss,\n",
    "        \"source_val_label_accuracy\": source_val_label_accuracy,\n",
    "        \"source_val_label_loss\": source_val_label_loss,\n",
    "        \"target_val_label_accuracy\": target_val_label_accuracy,\n",
    "        \"target_val_label_loss\": target_val_label_loss,\n",
    "        \"total_epochs_trained\": total_epochs_trained,\n",
    "        \"total_experiment_time_secs\": total_experiment_time_secs,\n",
    "        \"confusion\": confusion,\n",
    "        \"per_domain_accuracy\": per_domain_accuracy,\n",
    "    },\n",
    "    \"history\": history,\n",
    "    \"dataset_metrics\": get_dataset_metrics(datasets, \"ptn\"),\n",
    "}"
   ]
  },
  {
   "cell_type": "code",
   "execution_count": 25,
   "id": "54a21829",
   "metadata": {
    "execution": {
     "iopub.execute_input": "2022-03-07T03:58:15.521443Z",
     "iopub.status.busy": "2022-03-07T03:58:15.521186Z",
     "iopub.status.idle": "2022-03-07T03:58:15.697462Z",
     "shell.execute_reply": "2022-03-07T03:58:15.696999Z"
    },
    "papermill": {
     "duration": 0.230911,
     "end_time": "2022-03-07T03:58:15.697558",
     "exception": false,
     "start_time": "2022-03-07T03:58:15.466647",
     "status": "completed"
    },
    "tags": []
   },
   "outputs": [
    {
     "data": {
      "image/png": "[encoded data removed]",
      "text/plain": [
       "<Figure size 1080x504 with 1 Axes>"
      ]
     },
     "metadata": {
      "needs_background": "light"
     },
     "output_type": "display_data"
    }
   ],
   "source": [
    "ax = get_loss_curve(experiment)\n",
    "plt.show()"
   ]
  },
  {
   "cell_type": "code",
   "execution_count": 26,
   "id": "fd8a0f60",
   "metadata": {
    "execution": {
     "iopub.execute_input": "2022-03-07T03:58:15.809104Z",
     "iopub.status.busy": "2022-03-07T03:58:15.808852Z",
     "iopub.status.idle": "2022-03-07T03:58:15.985943Z",
     "shell.execute_reply": "2022-03-07T03:58:15.986159Z"
    },
    "papermill": {
     "duration": 0.23181,
     "end_time": "2022-03-07T03:58:15.986231",
     "exception": false,
     "start_time": "2022-03-07T03:58:15.754421",
     "status": "completed"
    },
    "tags": []
   },
   "outputs": [
    {
     "data": {
      "text/plain": [
       "<matplotlib.axes._subplots.AxesSubplot at 0x7fe376689670>"
      ]
     },
     "execution_count": 26,
     "metadata": {},
     "output_type": "execute_result"
    },
    {
     "data": {
      "image/png": "[encoded data removed]",
      "text/plain": [
       "<Figure size 1080x504 with 1 Axes>"
      ]
     },
     "metadata": {
      "needs_background": "light"
     },
     "output_type": "display_data"
    }
   ],
   "source": [
    "get_results_table(experiment)"
   ]
  },
  {
   "cell_type": "code",
   "execution_count": 27,
   "id": "cf8dc689",
   "metadata": {
    "execution": {
     "iopub.execute_input": "2022-03-07T03:58:16.097523Z",
     "iopub.status.busy": "2022-03-07T03:58:16.097275Z",
     "iopub.status.idle": "2022-03-07T03:58:16.328429Z",
     "shell.execute_reply": "2022-03-07T03:58:16.327961Z"
    },
    "papermill": {
     "duration": 0.287685,
     "end_time": "2022-03-07T03:58:16.328530",
     "exception": false,
     "start_time": "2022-03-07T03:58:16.040845",
     "status": "completed"
    },
    "tags": []
   },
   "outputs": [
    {
     "data": {
      "text/plain": [
       "<matplotlib.axes._subplots.AxesSubplot at 0x7fe40c686130>"
      ]
     },
     "execution_count": 27,
     "metadata": {},
     "output_type": "execute_result"
    },
    {
     "data": {
      "image/png": "[encoded data removed]",
      "text/plain": [
       "<Figure size 1080x504 with 1 Axes>"
      ]
     },
     "metadata": {
      "needs_background": "light"
     },
     "output_type": "display_data"
    }
   ],
   "source": [
    "get_domain_accuracies(experiment)"
   ]
  },
  {
   "cell_type": "code",
   "execution_count": 28,
   "id": "a74ae082",
   "metadata": {
    "execution": {
     "iopub.execute_input": "2022-03-07T03:58:16.441894Z",
     "iopub.status.busy": "2022-03-07T03:58:16.441604Z",
     "iopub.status.idle": "2022-03-07T03:58:16.456770Z",
     "shell.execute_reply": "2022-03-07T03:58:16.456318Z"
    },
    "papermill": {
     "duration": 0.07151,
     "end_time": "2022-03-07T03:58:16.456860",
     "exception": false,
     "start_time": "2022-03-07T03:58:16.385350",
     "status": "completed"
    },
    "tags": []
   },
   "outputs": [
    {
     "name": "stdout",
     "output_type": "stream",
     "text": [
      "Source Test Label Accuracy: 0.9446614583333334 Target Test Label Accuracy: 0.9380208333333333\n",
      "Source Val Label Accuracy: 0.9462239583333333 Target Val Label Accuracy: 0.9369791666666667\n"
     ]
    }
   ],
   "source": [
    "print(\"Source Test Label Accuracy:\", experiment[\"results\"][\"source_test_label_accuracy\"], \"Target Test Label Accuracy:\", experiment[\"results\"][\"target_test_label_accuracy\"])\n",
    "print(\"Source Val Label Accuracy:\", experiment[\"results\"][\"source_val_label_accuracy\"], \"Target Val Label Accuracy:\", experiment[\"results\"][\"target_val_label_accuracy\"])"
   ]
  },
  {
   "cell_type": "code",
   "execution_count": 29,
   "id": "dacca602",
   "metadata": {
    "execution": {
     "iopub.execute_input": "2022-03-07T03:58:16.575439Z",
     "iopub.status.busy": "2022-03-07T03:58:16.575190Z",
     "iopub.status.idle": "2022-03-07T03:58:16.589383Z",
     "shell.execute_reply": "2022-03-07T03:58:16.589071Z"
    },
    "papermill": {
     "duration": 0.072744,
     "end_time": "2022-03-07T03:58:16.589457",
     "exception": false,
     "start_time": "2022-03-07T03:58:16.516713",
     "status": "completed"
    },
    "tags": [
     "experiment_json"
    ]
   },
   "outputs": [
    {
     "data": {
      "text/plain": [
       "'{\"experiment_name\": \"tl_1_oracle.run1-oracle.run2\", \"parameters\": {\"experiment_name\": \"tl_1_oracle.run1-oracle.run2\", \"device\": \"cuda\", \"lr\": 0.001, \"seed\": 1337, \"dataset_seed\": 1337, \"n_shot\": 3, \"n_query\": 2, \"train_k_factor\": 3, \"val_k_factor\": 2, \"test_k_factor\": 2, \"torch_default_dtype\": \"torch.float32\", \"n_epoch\": 50, \"patience\": 3, \"criteria_for_best\": \"target_loss\", \"x_net\": [{\"class\": \"nnReshape\", \"kargs\": {\"shape\": [-1, 1, 2, 256]}}, {\"class\": \"Conv2d\", \"kargs\": {\"in_channels\": 1, \"out_channels\": 256, \"kernel_size\": [1, 7], \"bias\": false, \"padding\": [0, 3]}}, {\"class\": \"ReLU\", \"kargs\": {\"inplace\": true}}, {\"class\": \"BatchNorm2d\", \"kargs\": {\"num_features\": 256}}, {\"class\": \"Conv2d\", \"kargs\": {\"in_channels\": 256, \"out_channels\": 80, \"kernel_size\": [2, 7], \"bias\": true, \"padding\": [0, 3]}}, {\"class\": \"ReLU\", \"kargs\": {\"inplace\": true}}, {\"class\": \"BatchNorm2d\", \"kargs\": {\"num_features\": 80}}, {\"class\": \"Flatten\", \"kargs\": {}}, {\"class\": \"Linear\", \"kargs\": {\"in_features\": 20480, \"out_features\": 256}}, {\"class\": \"ReLU\", \"kargs\": {\"inplace\": true}}, {\"class\": \"BatchNorm1d\", \"kargs\": {\"num_features\": 256}}, {\"class\": \"Linear\", \"kargs\": {\"in_features\": 256, \"out_features\": 256}}], \"NUM_LOGS_PER_EPOCH\": 10, \"BEST_MODEL_PATH\": \"./best_model.pth\", \"n_way\": 16, \"datasets\": [{\"labels\": [\"3123D52\", \"3123D65\", \"3123D79\", \"3123D80\", \"3123D54\", \"3123D70\", \"3123D7B\", \"3123D89\", \"3123D58\", \"3123D76\", \"3123D7D\", \"3123EFE\", \"3123D64\", \"3123D78\", \"3123D7E\", \"3124E4A\"], \"domains\": [32, 38, 8, 44, 14, 50, 20, 26], \"num_examples_per_domain_per_label\": 2000, \"pickle_path\": \"/mnt/wd500GB/CSC500/csc500-main/datasets/oracle.Run1_framed_2000Examples_stratified_ds.2022A.pkl\", \"source_or_target_dataset\": \"source\", \"x_transforms\": [], \"episode_transforms\": [], \"domain_prefix\": \"ORACLE.run1_\"}, {\"labels\": [\"3123D52\", \"3123D65\", \"3123D79\", \"3123D80\", \"3123D54\", \"3123D70\", \"3123D7B\", \"3123D89\", \"3123D58\", \"3123D76\", \"3123D7D\", \"3123EFE\", \"3123D64\", \"3123D78\", \"3123D7E\", \"3124E4A\"], \"domains\": [32, 38, 8, 44, 14, 50, 20, 26], \"num_examples_per_domain_per_label\": 2000, \"pickle_path\": \"/mnt/wd500GB/CSC500/csc500-main/datasets/oracle.Run2_framed_2000Examples_stratified_ds.2022A.pkl\", \"source_or_target_dataset\": \"target\", \"x_transforms\": [], \"episode_transforms\": [], \"domain_prefix\": \"ORACLE.run2_\"}], \"domains_source\": [\"ORACLE.run1_32\", \"ORACLE.run1_38\", \"ORACLE.run1_8\", \"ORACLE.run1_44\", \"ORACLE.run1_14\", \"ORACLE.run1_50\", \"ORACLE.run1_20\", \"ORACLE.run1_26\"], \"domains_target\": [\"ORACLE.run2_32\", \"ORACLE.run2_38\", \"ORACLE.run2_8\", \"ORACLE.run2_44\", \"ORACLE.run2_14\", \"ORACLE.run2_50\", \"ORACLE.run2_20\", \"ORACLE.run2_26\"]}, \"results\": {\"source_test_label_accuracy\": 0.9446614583333334, \"source_test_label_loss\": 0.16053886711597443, \"target_test_label_accuracy\": 0.9380208333333333, \"target_test_label_loss\": 0.30739185214042664, \"source_val_label_accuracy\": 0.9462239583333333, \"source_val_label_loss\": 0.15630210936069489, \"target_val_label_accuracy\": 0.9369791666666667, \"target_val_label_loss\": 0.25767144560813904, \"total_epochs_trained\": 19, \"total_experiment_time_secs\": 3554.3968691825867, \"confusion\": {\"ORACLE.run1_14\": {\"15\": {\"15\": 240}, \"3\": {\"3\": 240}, \"6\": {\"6\": 208, \"13\": 30, \"14\": 2}, \"1\": {\"1\": 240}, \"8\": {\"8\": 240}, \"10\": {\"10\": 240}, \"9\": {\"9\": 240}, \"13\": {\"13\": 163, \"2\": 3, \"6\": 63, \"10\": 1, \"14\": 10}, \"12\": {\"12\": 240}, \"5\": {\"5\": 235, \"2\": 4, \"4\": 1}, \"0\": {\"0\": 238, \"3\": 2}, \"2\": {\"2\": 163, \"5\": 26, \"14\": 39, \"13\": 4, \"6\": 5, \"3\": 3}, \"11\": {\"11\": 240}, \"14\": {\"14\": 229, \"2\": 8, \"6\": 2, \"13\": 1}, \"7\": {\"7\": 240}, \"4\": {\"4\": 239, \"5\": 1}}, \"ORACLE.run1_20\": {\"3\": {\"3\": 229, \"1\": 3, \"9\": 7, \"8\": 1}, \"15\": {\"15\": 231, \"1\": 7, \"12\": 2}, \"8\": {\"8\": 240}, \"4\": {\"4\": 240}, \"14\": {\"14\": 240}, \"0\": {\"0\": 240}, \"7\": {\"7\": 234, \"9\": 3, \"2\": 3}, \"6\": {\"6\": 240}, \"10\": {\"10\": 240}, \"5\": {\"5\": 237, \"1\": 3}, \"2\": {\"2\": 226, \"12\": 11, \"7\": 1, \"9\": 2}, \"12\": {\"12\": 235, \"2\": 5}, \"9\": {\"9\": 235, \"3\": 4, \"7\": 1}, \"1\": {\"1\": 238, \"5\": 2}, \"11\": {\"11\": 240}, \"13\": {\"13\": 240}}, \"ORACLE.run1_38\": {\"5\": {\"8\": 68, \"7\": 19, \"5\": 142, \"9\": 9, \"13\": 1, \"15\": 1}, \"8\": {\"8\": 197, \"5\": 37, \"0\": 1, \"15\": 3, \"7\": 2}, \"11\": {\"11\": 240}, \"1\": {\"1\": 240}, \"10\": {\"10\": 235, \"13\": 5}, \"15\": {\"15\": 235, \"8\": 3, \"5\": 1, \"1\": 1}, \"3\": {\"3\": 240}, \"7\": {\"7\": 237, \"5\": 3}, \"4\": {\"4\": 240}, \"14\": {\"14\": 236, \"2\": 4}, \"9\": {\"9\": 239, \"5\": 1}, \"12\": {\"12\": 240}, \"6\": {\"6\": 240}, \"2\": {\"2\": 235, \"14\": 5}, \"0\": {\"8\": 7, \"0\": 197, \"7\": 7, \"10\": 13, \"3\": 6, \"13\": 9, \"5\": 1}, \"13\": {\"13\": 233, \"10\": 4, \"0\": 1, \"2\": 2}}, \"ORACLE.run1_8\": {\"9\": {\"9\": 240}, \"10\": {\"10\": 231, \"13\": 9}, \"13\": {\"13\": 219, \"10\": 18, \"7\": 1, \"6\": 2}, \"0\": {\"0\": 240}, \"1\": {\"1\": 239, \"5\": 1}, \"15\": {\"15\": 232, \"12\": 8}, \"5\": {\"5\": 225, \"1\": 8, \"10\": 7}, \"3\": {\"3\": 240}, \"6\": {\"6\": 236, \"7\": 4}, \"11\": {\"11\": 233, \"1\": 6, \"14\": 1}, \"8\": {\"8\": 240}, \"4\": {\"4\": 240}, \"12\": {\"12\": 212, \"15\": 28}, \"14\": {\"14\": 238, \"4\": 1, \"11\": 1}, \"2\": {\"2\": 222, \"3\": 15, \"12\": 3}, \"7\": {\"7\": 240}}, \"ORACLE.run1_50\": {\"7\": {\"7\": 235, \"5\": 5}, \"3\": {\"3\": 240}, \"8\": {\"8\": 240}, \"2\": {\"2\": 239, \"0\": 1}, \"14\": {\"14\": 240}, \"4\": {\"4\": 208, \"5\": 22, \"15\": 8, \"7\": 2}, \"6\": {\"6\": 237, \"15\": 1, \"5\": 2}, \"15\": {\"15\": 234, \"6\": 3, \"11\": 2, \"5\": 1}, \"10\": {\"10\": 240}, \"11\": {\"11\": 237, \"15\": 1, \"12\": 2}, \"13\": {\"13\": 240}, \"9\": {\"9\": 229, \"12\": 4, \"11\": 7}, \"0\": {\"0\": 233, \"2\": 6, \"10\": 1}, \"1\": {\"1\": 239, \"5\": 1}, \"12\": {\"12\": 240}, \"5\": {\"5\": 171, \"4\": 17, \"7\": 28, \"15\": 6, \"13\": 3, \"6\": 12, \"1\": 3}}, \"ORACLE.run1_32\": {\"8\": {\"8\": 229, \"14\": 1, \"0\": 9, \"5\": 1}, \"14\": {\"14\": 215, \"0\": 18, \"8\": 2, \"7\": 3, \"5\": 2}, \"2\": {\"2\": 227, \"4\": 13}, \"0\": {\"0\": 222, \"8\": 13, \"14\": 3, \"5\": 1, \"7\": 1}, \"1\": {\"1\": 240}, \"10\": {\"10\": 240}, \"11\": {\"11\": 240}, \"5\": {\"5\": 160, \"7\": 71, \"8\": 7, \"0\": 1, \"14\": 1}, \"15\": {\"15\": 240}, \"3\": {\"3\": 239, \"13\": 1}, \"12\": {\"12\": 240}, \"7\": {\"7\": 210, \"5\": 28, \"0\": 2}, \"13\": {\"13\": 218, \"4\": 7, \"3\": 15}, \"6\": {\"6\": 240}, \"4\": {\"2\": 12, \"4\": 228}, \"9\": {\"9\": 239, \"12\": 1}}, \"ORACLE.run1_26\": {\"4\": {\"4\": 240}, \"12\": {\"12\": 240}, \"10\": {\"14\": 20, \"10\": 208, \"15\": 1, \"0\": 11}, \"0\": {\"0\": 189, \"10\": 31, \"14\": 16, \"8\": 4}, \"13\": {\"2\": 9, \"13\": 229, \"3\": 1, \"9\": 1}, \"9\": {\"9\": 238, \"7\": 1, \"13\": 1}, \"3\": {\"3\": 235, \"7\": 2, \"4\": 1, \"2\": 2}, \"2\": {\"2\": 184, \"3\": 26, \"7\": 23, \"9\": 2, \"8\": 5}, \"5\": {\"5\": 238, \"15\": 2}, \"14\": {\"14\": 213, \"10\": 16, \"0\": 10, \"6\": 1}, \"8\": {\"8\": 212, \"7\": 24, \"9\": 1, \"2\": 2, \"0\": 1}, \"7\": {\"7\": 226, \"8\": 8, \"2\": 5, \"3\": 1}, \"6\": {\"6\": 232, \"15\": 8}, \"11\": {\"11\": 240}, \"15\": {\"15\": 218, \"6\": 14, \"10\": 5, \"5\": 3}, \"1\": {\"1\": 220, \"14\": 16, \"10\": 3, \"5\": 1}}, \"ORACLE.run1_44\": {\"12\": {\"12\": 240}, \"7\": {\"7\": 220, \"9\": 20}, \"5\": {\"5\": 226, \"14\": 4, \"15\": 9, \"8\": 1}, \"15\": {\"15\": 231, \"14\": 5, \"5\": 1, \"8\": 3}, \"8\": {\"0\": 48, \"8\": 183, \"15\": 6, \"5\": 3}, \"2\": {\"2\": 235, \"1\": 5}, \"13\": {\"13\": 209, \"6\": 26, \"9\": 5}, \"4\": {\"4\": 172, \"14\": 68}, \"0\": {\"0\": 216, \"8\": 24}, \"6\": {\"6\": 207, \"13\": 18, \"9\": 15}, \"9\": {\"9\": 148, \"7\": 50, \"6\": 22, \"13\": 20}, \"11\": {\"11\": 240}, \"10\": {\"10\": 224, \"1\": 11, \"2\": 4, \"7\": 1}, \"14\": {\"14\": 178, \"4\": 54, \"15\": 5, \"5\": 3}, \"1\": {\"1\": 237, \"2\": 3}, \"3\": {\"3\": 238, \"12\": 2}}, \"ORACLE.run2_14\": {\"15\": {\"15\": 240}, \"3\": {\"3\": 240}, \"6\": {\"6\": 223, \"13\": 17}, \"1\": {\"1\": 240}, \"8\": {\"8\": 240}, \"10\": {\"10\": 240}, \"9\": {\"9\": 240}, \"13\": {\"13\": 208, \"6\": 32}, \"12\": {\"12\": 127, \"15\": 10, \"9\": 74, \"11\": 7, \"0\": 20, \"8\": 2}, \"5\": {\"5\": 231, \"2\": 9}, \"0\": {\"0\": 240}, \"2\": {\"14\": 54, \"2\": 122, \"5\": 45, \"3\": 11, \"13\": 7, \"0\": 1}, \"11\": {\"11\": 240}, \"14\": {\"5\": 1, \"14\": 216, \"2\": 20, \"3\": 1, \"13\": 1, \"0\": 1}, \"7\": {\"7\": 240}, \"4\": {\"4\": 239, \"5\": 1}}, \"ORACLE.run2_20\": {\"3\": {\"3\": 197, \"2\": 26, \"9\": 11, \"7\": 4, \"4\": 2}, \"15\": {\"15\": 232, \"13\": 3, \"2\": 1, \"5\": 4}, \"8\": {\"8\": 231, \"14\": 9}, \"4\": {\"4\": 240}, \"14\": {\"14\": 236, \"8\": 4}, \"0\": {\"0\": 240}, \"7\": {\"7\": 238, \"3\": 2}, \"6\": {\"6\": 240}, \"10\": {\"10\": 240}, \"5\": {\"5\": 210, \"0\": 5, \"2\": 13, \"15\": 9, \"1\": 2, \"7\": 1}, \"2\": {\"2\": 204, \"9\": 16, \"3\": 13, \"5\": 5, \"15\": 1, \"7\": 1}, \"12\": {\"12\": 240}, \"9\": {\"2\": 28, \"9\": 199, \"15\": 1, \"3\": 12}, \"1\": {\"1\": 237, \"2\": 1, \"9\": 1, \"5\": 1}, \"11\": {\"11\": 240}, \"13\": {\"13\": 236, \"12\": 4}}, \"ORACLE.run2_38\": {\"5\": {\"5\": 161, \"8\": 75, \"7\": 4}, \"8\": {\"8\": 205, \"5\": 31, \"7\": 4}, \"11\": {\"11\": 240}, \"1\": {\"1\": 235, \"15\": 5}, \"10\": {\"10\": 237, \"3\": 2, \"7\": 1}, \"15\": {\"1\": 33, \"15\": 199, \"5\": 8}, \"3\": {\"3\": 148, \"13\": 77, \"10\": 11, \"0\": 4}, \"7\": {\"7\": 236, \"8\": 4}, \"4\": {\"4\": 240}, \"14\": {\"14\": 178, \"2\": 49, \"7\": 8, \"12\": 1, \"8\": 1, \"4\": 3}, \"9\": {\"9\": 240}, \"12\": {\"12\": 240}, \"6\": {\"6\": 240}, \"2\": {\"2\": 237, \"14\": 3}, \"0\": {\"0\": 240}, \"13\": {\"13\": 193, \"3\": 43, \"10\": 4}}, \"ORACLE.run2_8\": {\"9\": {\"9\": 240}, \"10\": {\"10\": 236, \"13\": 2, \"5\": 2}, \"13\": {\"13\": 239, \"10\": 1}, \"0\": {\"0\": 240}, \"1\": {\"1\": 237, \"13\": 2, \"5\": 1}, \"15\": {\"15\": 239, \"12\": 1}, \"5\": {\"5\": 234, \"10\": 6}, \"3\": {\"3\": 240}, \"6\": {\"6\": 239, \"14\": 1}, \"11\": {\"11\": 152, \"8\": 84, \"7\": 3, \"4\": 1}, \"8\": {\"11\": 2, \"8\": 238}, \"4\": {\"4\": 212, \"7\": 25, \"6\": 3}, \"12\": {\"12\": 240}, \"14\": {\"14\": 240}, \"2\": {\"2\": 240}, \"7\": {\"7\": 224, \"4\": 16}}, \"ORACLE.run2_50\": {\"7\": {\"7\": 234, \"5\": 6}, \"3\": {\"3\": 238, \"13\": 2}, \"8\": {\"8\": 240}, \"2\": {\"2\": 240}, \"14\": {\"14\": 240}, \"4\": {\"5\": 40, \"4\": 199, \"7\": 1}, \"6\": {\"6\": 231, \"5\": 6, \"4\": 3}, \"15\": {\"15\": 239, \"4\": 1}, \"10\": {\"10\": 240}, \"11\": {\"11\": 240}, \"13\": {\"13\": 240}, \"9\": {\"9\": 240}, \"0\": {\"0\": 239, \"2\": 1}, \"1\": {\"1\": 240}, \"12\": {\"12\": 240}, \"5\": {\"6\": 8, \"5\": 179, \"4\": 44, \"7\": 9}}, \"ORACLE.run2_32\": {\"8\": {\"8\": 230, \"0\": 9, \"14\": 1}, \"14\": {\"14\": 230, \"2\": 3, \"5\": 1, \"0\": 6}, \"2\": {\"2\": 237, \"7\": 3}, \"0\": {\"0\": 224, \"8\": 12, \"7\": 4}, \"1\": {\"1\": 240}, \"10\": {\"10\": 240}, \"11\": {\"11\": 184, \"4\": 20, \"0\": 5, \"13\": 26, \"7\": 5}, \"5\": {\"5\": 229, \"7\": 3, \"2\": 4, \"8\": 2, \"14\": 2}, \"15\": {\"15\": 240}, \"3\": {\"3\": 239, \"13\": 1}, \"12\": {\"12\": 240}, \"7\": {\"7\": 239, \"2\": 1}, \"13\": {\"13\": 227, \"4\": 10, \"11\": 1, \"3\": 2}, \"6\": {\"6\": 240}, \"4\": {\"4\": 239, \"11\": 1}, \"9\": {\"9\": 240}}, \"ORACLE.run2_26\": {\"4\": {\"4\": 239, \"7\": 1}, \"12\": {\"12\": 240}, \"10\": {\"10\": 113, \"8\": 16, \"0\": 69, \"1\": 1, \"15\": 3, \"14\": 31, \"6\": 7}, \"0\": {\"0\": 180, \"10\": 41, \"15\": 1, \"8\": 9, \"14\": 9}, \"13\": {\"13\": 236, \"9\": 3, \"7\": 1}, \"9\": {\"9\": 238, \"13\": 2}, \"3\": {\"3\": 230, \"7\": 9, \"4\": 1}, \"2\": {\"2\": 213, \"7\": 19, \"8\": 8}, \"5\": {\"5\": 220, \"15\": 8, \"1\": 2, \"6\": 10}, \"14\": {\"14\": 193, \"0\": 29, \"10\": 17, \"1\": 1}, \"8\": {\"8\": 220, \"0\": 2, \"2\": 15, \"10\": 2, \"9\": 1}, \"7\": {\"7\": 181, \"3\": 14, \"2\": 44, \"8\": 1}, \"6\": {\"6\": 240}, \"11\": {\"11\": 240}, \"15\": {\"15\": 236, \"2\": 3, \"8\": 1}, \"1\": {\"1\": 240}}, \"ORACLE.run2_44\": {\"12\": {\"12\": 235, \"3\": 5}, \"7\": {\"9\": 72, \"7\": 168}, \"5\": {\"5\": 238, \"14\": 2}, \"15\": {\"15\": 231, \"14\": 2, \"5\": 3, \"4\": 2, \"8\": 2}, \"8\": {\"8\": 199, \"0\": 40, \"15\": 1}, \"2\": {\"2\": 240}, \"13\": {\"13\": 236, \"4\": 3, \"6\": 1}, \"4\": {\"4\": 230, \"14\": 10}, \"0\": {\"0\": 196, \"8\": 44}, \"6\": {\"6\": 238, \"7\": 2}, \"9\": {\"9\": 156, \"7\": 82, \"6\": 2}, \"11\": {\"11\": 239, \"13\": 1}, \"10\": {\"10\": 240}, \"14\": {\"14\": 223, \"5\": 4, \"15\": 3, \"4\": 10}, \"1\": {\"1\": 240}, \"3\": {\"3\": 234, \"12\": 6}}}, \"per_domain_accuracy\": {\"ORACLE.run1_14\": {\"accuracy\": 0.9466145833333334, \"source?\": true}, \"ORACLE.run1_20\": {\"accuracy\": 0.9856770833333334, \"source?\": true}, \"ORACLE.run1_38\": {\"accuracy\": 0.9442708333333333, \"source?\": true}, \"ORACLE.run1_8\": {\"accuracy\": 0.9705729166666667, \"source?\": true}, \"ORACLE.run1_50\": {\"accuracy\": 0.9640625, \"source?\": true}, \"ORACLE.run1_32\": {\"accuracy\": 0.94453125, \"source?\": true}, \"ORACLE.run1_26\": {\"accuracy\": 0.9276041666666667, \"source?\": true}, \"ORACLE.run1_44\": {\"accuracy\": 0.8864583333333333, \"source?\": true}, \"ORACLE.run2_14\": {\"accuracy\": 0.9182291666666667, \"source?\": false}, \"ORACLE.run2_20\": {\"accuracy\": 0.953125, \"source?\": false}, \"ORACLE.run2_38\": {\"accuracy\": 0.9033854166666667, \"source?\": false}, \"ORACLE.run2_8\": {\"accuracy\": 0.9609375, \"source?\": false}, \"ORACLE.run2_50\": {\"accuracy\": 0.9684895833333333, \"source?\": false}, \"ORACLE.run2_32\": {\"accuracy\": 0.9682291666666667, \"source?\": false}, \"ORACLE.run2_26\": {\"accuracy\": 0.90078125, \"source?\": false}, \"ORACLE.run2_44\": {\"accuracy\": 0.92265625, \"source?\": false}}}, \"history\": {\"epoch_indices\": [1, 2, 3, 4, 5, 6, 7, 8, 9, 10, 11, 12, 13, 14, 15, 16, 17, 18, 19], \"train_label_loss\": [0.35167435903221345, 12.906409667315398, 0.22748152705976932, 0.43926947197711946, 0.23584926998716713, 0.20211207524684835, 0.19766675669345118, 0.18552777064940615, 0.17813535535027594, 0.17495854565169708, 0.1681566463048858, 0.16515236716881018, 0.15578050915708966, 0.15803088265075488, 0.15939813440920608, 0.1539094495981685, 0.15128337957881047, 0.14793718874764938, 0.1460475275203169], \"source_val_label_loss\": [379.46734619140625, 0.2662706673145294, 0.2929399609565735, 0.2419649064540863, 0.21906717121601105, 0.19501018524169922, 0.19641871750354767, 0.18648576736450195, 0.1746441274881363, 0.17809966206550598, 0.16447003185749054, 0.19764119386672974, 0.1645423024892807, 0.1605292409658432, 0.15630210936069489, 0.1602257788181305, 0.15622343122959137, 0.15639451146125793, 0.1598147749900818], \"target_val_label_loss\": [391.81427001953125, 0.3243888318538666, 0.3415018618106842, 0.33382585644721985, 0.28871363401412964, 0.29342642426490784, 0.2630990743637085, 0.26561349630355835, 0.26628947257995605, 0.2632101774215698, 0.2628399133682251, 0.3026777505874634, 0.27374449372291565, 0.27165183424949646, 0.25767144560813904, 0.2835995852947235, 0.27674925327301025, 0.2708736062049866, 0.27384090423583984], \"source_val_acc_label\": [0.54921875, 0.905859375, 0.9025065104166666, 0.9175455729166667, 0.92294921875, 0.93369140625, 0.9299479166666667, 0.93486328125, 0.93798828125, 0.9374348958333333, 0.942578125, 0.9327473958333333, 0.9431966145833334, 0.9427408854166667, 0.9462239583333333, 0.9443359375, 0.9466796875, 0.94384765625, 0.94248046875], \"target_val_acc_label\": [0.55390625, 0.90400390625, 0.91005859375, 0.91689453125, 0.9194986979166667, 0.9312825520833333, 0.928125, 0.9278645833333333, 0.9334635416666667, 0.9279622395833333, 0.933984375, 0.9297526041666667, 0.9359700520833333, 0.93408203125, 0.9369791666666667, 0.93388671875, 0.9361002604166667, 0.93486328125, 0.9302083333333333]}, \"dataset_metrics\": {\"source\": {\"train\": {\"n_unique_x\": 179200, \"n_unique_y\": 16, \"n_batch/episode\": 6720}, \"val\": {\"n_unique_x\": 38400, \"n_unique_y\": 16, \"n_batch/episode\": 960}, \"test\": {\"n_unique_x\": 38400, \"n_unique_y\": 16, \"n_batch/episode\": 960}}, \"target\": {\"train\": {\"n_unique_x\": 179200, \"n_unique_y\": 16, \"n_batch/episode\": 6720}, \"val\": {\"n_unique_x\": 38400, \"n_unique_y\": 16, \"n_batch/episode\": 960}, \"test\": {\"n_unique_x\": 38400, \"n_unique_y\": 16, \"n_batch/episode\": 960}}}}'"
      ]
     },
     "execution_count": 29,
     "metadata": {},
     "output_type": "execute_result"
    }
   ],
   "source": [
    "json.dumps(experiment)"
   ]
  }
 ],
 "metadata": {
  "celltoolbar": "Tags",
  "kernelspec": {
   "display_name": "Python 3 (ipykernel)",
   "language": "python",
   "name": "python3"
  },
  "language_info": {
   "codemirror_mode": {
    "name": "ipython",
    "version": 3
   },
   "file_extension": ".py",
   "mimetype": "text/x-python",
   "name": "python",
   "nbconvert_exporter": "python",
   "pygments_lexer": "ipython3",
   "version": "3.8.10"
  },
  "papermill": {
   "default_parameters": {},
   "duration": 3657.314656,
   "end_time": "2022-03-07T03:58:17.459727",
   "environment_variables": {},
   "exception": null,
   "input_path": "/mnt/wd500GB/CSC500/csc500-main/csc500-notebooks/templates/tl_ptn_template.ipynb",
   "output_path": "trial.ipynb",
   "parameters": {
    "parameters": {
     "BEST_MODEL_PATH": "./best_model.pth",
     "NUM_LOGS_PER_EPOCH": 10,
     "criteria_for_best": "target_loss",
     "dataset_seed": 1337,
     "datasets": [
      {
       "domain_prefix": "ORACLE.run1_",
       "domains": [
        32,
        38,
        8,
        44,
        14,
        50,
        20,
        26
       ],
       "episode_transforms": [],
       "labels": [
        "3123D52",
        "3123D65",
        "3123D79",
        "3123D80",
        "3123D54",
        "3123D70",
        "3123D7B",
        "3123D89",
        "3123D58",
        "3123D76",
        "3123D7D",
        "3123EFE",
        "3123D64",
        "3123D78",
        "3123D7E",
        "3124E4A"
       ],
       "num_examples_per_domain_per_label": 2000,
       "pickle_path": "/mnt/wd500GB/CSC500/csc500-main/datasets/oracle.Run1_framed_2000Examples_stratified_ds.2022A.pkl",
       "source_or_target_dataset": "source",
       "x_transforms": []
      },
      {
       "domain_prefix": "ORACLE.run2_",
       "domains": [
        32,
        38,
        8,
        44,
        14,
        50,
        20,
        26
       ],
       "episode_transforms": [],
       "labels": [
        "3123D52",
        "3123D65",
        "3123D79",
        "3123D80",
        "3123D54",
        "3123D70",
        "3123D7B",
        "3123D89",
        "3123D58",
        "3123D76",
        "3123D7D",
        "3123EFE",
        "3123D64",
        "3123D78",
        "3123D7E",
        "3124E4A"
       ],
       "num_examples_per_domain_per_label": 2000,
       "pickle_path": "/mnt/wd500GB/CSC500/csc500-main/datasets/oracle.Run2_framed_2000Examples_stratified_ds.2022A.pkl",
       "source_or_target_dataset": "target",
       "x_transforms": []
      }
     ],
     "device": "cuda",
     "experiment_name": "tl_1_oracle.run1-oracle.run2",
     "lr": 0.001,
     "n_epoch": 50,
     "n_query": 2,
     "n_shot": 3,
     "n_way": 16,
     "patience": 3,
     "seed": 1337,
     "test_k_factor": 2,
     "torch_default_dtype": "torch.float32",
     "train_k_factor": 3,
     "val_k_factor": 2,
     "x_net": [
      {
       "class": "nnReshape",
       "kargs": {
        "shape": [
         -1,
         1,
         2,
         256
        ]
       }
      },
      {
       "class": "Conv2d",
       "kargs": {
        "bias": false,
        "in_channels": 1,
        "kernel_size": [
         1,
         7
        ],
        "out_channels": 256,
        "padding": [
         0,
         3
        ]
       }
      },
      {
       "class": "ReLU",
       "kargs": {
        "inplace": true
       }
      },
      {
       "class": "BatchNorm2d",
       "kargs": {
        "num_features": 256
       }
      },
      {
       "class": "Conv2d",
       "kargs": {
        "bias": true,
        "in_channels": 256,
        "kernel_size": [
         2,
         7
        ],
        "out_channels": 80,
        "padding": [
         0,
         3
        ]
       }
      },
      {
       "class": "ReLU",
       "kargs": {
        "inplace": true
       }
      },
      {
       "class": "BatchNorm2d",
       "kargs": {
        "num_features": 80
       }
      },
      {
       "class": "Flatten",
       "kargs": {}
      },
      {
       "class": "Linear",
       "kargs": {
        "in_features": 20480,
        "out_features": 256
       }
      },
      {
       "class": "ReLU",
       "kargs": {
        "inplace": true
       }
      },
      {
       "class": "BatchNorm1d",
       "kargs": {
        "num_features": 256
       }
      },
      {
       "class": "Linear",
       "kargs": {
        "in_features": 256,
        "out_features": 256
       }
      }
     ]
    }
   },
   "start_time": "2022-03-07T02:57:20.145071",
   "version": "2.3.4"
  }
 },
 "nbformat": 4,
 "nbformat_minor": 5
}